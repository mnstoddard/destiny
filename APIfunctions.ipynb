{
 "cells": [
  {
   "cell_type": "code",
   "execution_count": 3,
   "metadata": {},
   "outputs": [],
   "source": [
    "import ipywidgets as ipw\n",
    "import webbrowser\n",
    "import requests\n",
    "import pickle\n",
    "%run print_map.ipynb\n",
    "\n",
    "with open('triumphs.data', 'rb') as filehandle:\n",
    "    triumphs = pickle.load(filehandle)\n",
    "    \n",
    "with open('pursuits.data', 'rb') as filehandle:\n",
    "    pursuits = pickle.load(filehandle)\n",
    "    \n",
    "with open('vendors.data', 'rb') as filehandle:\n",
    "    vendors = pickle.load(filehandle)\n",
    "    \n",
    "\n",
    "membershipType = ''\n",
    "membershipId = ''\n",
    "characters = {}\n",
    "active_pursuits = {}\n",
    "non_instance_pursuits = []\n",
    "pursuits_for_sale = {}\n",
    "\n",
    "\n",
    "root = 'https://www.bungie.net/Platform'\n",
    "clientId = 29004\n",
    "HEADERS = {'X-API-KEY':'ae7eca0de2cf4bdea9777dc66d862f71'}\n",
    "\n",
    "\n",
    "\n",
    "#with open('manifest.data', 'rb') as filehandle:\n",
    "    #manifest = pickle.load(filehandle)  \n",
    "    \n"
   ]
  },
  {
   "cell_type": "code",
   "execution_count": 7,
   "metadata": {},
   "outputs": [
    {
     "name": "stdout",
     "output_type": "stream",
     "text": [
      "{'Response': [], 'ErrorCode': 1, 'ThrottleSeconds': 0, 'ErrorStatus': 'Success', 'Message': 'Ok', 'MessageData': {}}\n",
      " * None <class 'NoneType'>\n"
     ]
    }
   ],
   "source": [
    "def get_membershipId(gamertag):\n",
    "    global membershipType\n",
    "    global membershipId\n",
    "    \n",
    "    URL = f'{root}/Destiny2/SearchDestinyPlayer/-1/{gamertag}/'\n",
    "    r = requests.get(url = URL, headers = HEADERS) \n",
    "    data = r.json()\n",
    "    try:\n",
    "        membershipId = data['Response'][0]['membershipId']\n",
    "        membershipType = data['Response'][0]['membershipType']\n",
    "        return True\n",
    "    except:\n",
    "        return False"
   ]
  },
  {
   "cell_type": "code",
   "execution_count": 4,
   "metadata": {},
   "outputs": [],
   "source": [
    "def authenticate(code):\n",
    "        global HEADERS\n",
    "        body = f'client_id={clientId}&grant_type=authorization_code&code={code}'\n",
    "        HEADERS2 = {'Content-Type': 'application/x-www-form-urlencoded'}\n",
    "        URL = f'{root}/App/OAuth/token/'\n",
    "        r = requests.post(url = URL, data = body, headers = HEADERS2) \n",
    "        data = r.json()\n",
    "        try:\n",
    "            token = data['access_token']\n",
    "            HEADERS = {\n",
    "                'X-API-KEY':'ae7eca0de2cf4bdea9777dc66d862f71',\n",
    "                'Authorization' : 'bearer ' + token}\n",
    "            return True\n",
    "        except:\n",
    "            return False"
   ]
  },
  {
   "cell_type": "code",
   "execution_count": 5,
   "metadata": {},
   "outputs": [],
   "source": [
    "def get_characters():\n",
    "    global characters\n",
    "    URL = f'{root}/Destiny2/{membershipType}/Profile/{membershipId}/?components=200'\n",
    "    r = requests.get(url = URL, headers = HEADERS) \n",
    "    data = r.json()\n",
    "    characterIds = list(data['Response']['characters']['data'].keys())\n",
    "    for characterId in characterIds:\n",
    "        if data['Response']['characters']['data'][characterId]['classHash'] == 2271682572:\n",
    "            characters[characterId] = 'Warlock' \n",
    "        if data['Response']['characters']['data'][characterId]['classHash'] == 671679327:\n",
    "            characters[characterId] = 'Hunter' \n",
    "        if data['Response']['characters']['data'][characterId]['classHash'] == 3655393761:\n",
    "            characters[characterId] = 'Titan' "
   ]
  },
  {
   "cell_type": "code",
   "execution_count": 6,
   "metadata": {},
   "outputs": [],
   "source": [
    "def refresh_triumphs():\n",
    "    URL = f'{root}/Destiny2/{membershipType}/Profile/{membershipId}/?components=900'\n",
    "    r = requests.get(url = URL, headers = HEADERS) \n",
    "    data = r.json()\n",
    "    records = data['Response']['profileRecords']['data']['records']\n",
    "    for characterId in characters:\n",
    "        records.update(data['Response']['characterRecords']['data'][characterId]['records'])\n",
    "    for record in records:\n",
    "        if int(record) in triumphs:\n",
    "            if 'objectives' in records[record]:\n",
    "                obj = 'objectives'\n",
    "            if 'intervalObjectives' in records[record]:\n",
    "                obj = 'intervalObjectives'\n",
    "            triumphs[int(record)]['complete'] = True\n",
    "            for objective in records[record][obj]:\n",
    "                objectiveHash = objective['objectiveHash']\n",
    "                triumphs[int(record)]['objectives'][objectiveHash]['progress'] = objective['progress']\n",
    "                triumphs[int(record)]['objectives'][objectiveHash]['complete'] = objective['complete']\n",
    "                if not objective['complete']:\n",
    "                    triumphs[int(record)]['complete'] = False"
   ]
  },
  {
   "cell_type": "code",
   "execution_count": 19,
   "metadata": {},
   "outputs": [],
   "source": [
    "def get_pursuits():\n",
    "    global active_pursuits\n",
    "    global non_instance_pursuits\n",
    "    global pursuits_for_sale\n",
    "    \n",
    "    active_pursuits = {}\n",
    "    non_instance_pursuits = []\n",
    "    pursuits_for_sale = {}\n",
    "    \n",
    "    URL = f'{root}/Destiny2/{membershipType}/Profile/{membershipId}/?components=201'\n",
    "    r  = requests.get(url = URL, headers = HEADERS) \n",
    "    data = r.json()\n",
    "    for characterId in characters:\n",
    "        for item in data['Response']['characterInventories']['data'][characterId]['items']:\n",
    "            if item['itemHash'] in pursuits:\n",
    "                if 'itemInstanceId' in item:\n",
    "                    if 'vendor' in pursuits[item['itemHash']]:\n",
    "                        vendor = pursuits[item['itemHash']]['vendor']\n",
    "                    else:\n",
    "                        vendor = 'vendor?'\n",
    "                    p_type = pursuits[item['itemHash']]['type']\n",
    "                    name = pursuits[item['itemHash']]['name']\n",
    "                    active_pursuits[item['itemInstanceId']] = {\n",
    "                        'name' : name,\n",
    "                        'description' : pursuits[item['itemHash']]['description'],\n",
    "                        'path' : f'Pursuits/{characters[characterId]}/{p_type}/{vendor}/Inventory/{name}',\n",
    "                        'objectives' : pursuits[item['itemHash']]['objectives']\n",
    "                    }\n",
    "                else:\n",
    "                    non_instance_pursuits.append(item['itemHash'])\n",
    "                    \n",
    "    for characterId in characters:\n",
    "        URL = f'{root}/Destiny2/{membershipType}/Profile/{membershipId}/Character/{characterId}/Vendors/?components=400,401,402'\n",
    "        r  = requests.get(url = URL, headers = HEADERS) \n",
    "        data = r.json()\n",
    "        for vendor in data['Response']['sales']['data']:\n",
    "            vendor_name = vendors[int(vendor)]['name']\n",
    "            vendor_items = data['Response']['sales']['data'][vendor]['saleItems']\n",
    "            for item in vendor_items:\n",
    "                item = vendor_items[item]\n",
    "                if item['itemHash'] in pursuits:\n",
    "                    if item['saleStatus'] == 0:\n",
    "                        p_type = pursuits[item['itemHash']]['type']\n",
    "                        name = pursuits[item['itemHash']]['name']\n",
    "                        pursuits_for_sale[str(characterId)+str(item['itemHash'])] = {\n",
    "                            'name' : name,\n",
    "                            'description' : pursuits[item['itemHash']]['description'],\n",
    "                            'path' : f'Pursuits/{characters[characterId]}/{p_type}/{vendor_name}/For Sale/{name}',\n",
    "                            'objectives' : pursuits[item['itemHash']]['objectives']\n",
    "                        }"
   ]
  },
  {
   "cell_type": "code",
   "execution_count": 52,
   "metadata": {},
   "outputs": [],
   "source": [
    "def refresh_pursuits(update_list, progress = 'none'):\n",
    "\n",
    "    for itemInstanceId in update_list:\n",
    "        if progress != 'none':\n",
    "            progress.children[0].value += 100 / len(update_list)\n",
    "            progress.children[1].value = f'Downloading Data (Pursuit:{itemInstanceId})....'\n",
    "        URL = f'{root}/Destiny2/{membershipType}/Profile/{membershipId}/Item/{itemInstanceId}/?components=301'\n",
    "        r = requests.get(url = URL, headers = HEADERS) \n",
    "        data = r.json()\n",
    "        complete = True\n",
    "        for objective in data['Response']['objectives']['data']['objectives']:\n",
    "            active_pursuits[itemInstanceId]['objectives'][objective['objectiveHash']]['progress'] = objective['progress']\n",
    "            active_pursuits[itemInstanceId]['objectives'][objective['objectiveHash']]['complete'] = objective['complete']\n",
    "            if not objective['complete']:\n",
    "                complete = False\n",
    "        active_pursuits[itemInstanceId]['complete'] = complete\n"
   ]
  }
 ],
 "metadata": {
  "kernelspec": {
   "display_name": "Python 3",
   "language": "python",
   "name": "python3"
  },
  "language_info": {
   "codemirror_mode": {
    "name": "ipython",
    "version": 3
   },
   "file_extension": ".py",
   "mimetype": "text/x-python",
   "name": "python",
   "nbconvert_exporter": "python",
   "pygments_lexer": "ipython3",
   "version": "3.7.4"
  },
  "widgets": {
   "application/vnd.jupyter.widget-state+json": {
    "state": {},
    "version_major": 2,
    "version_minor": 0
   }
  }
 },
 "nbformat": 4,
 "nbformat_minor": 4
}
