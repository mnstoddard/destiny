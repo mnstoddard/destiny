{
 "cells": [
  {
   "cell_type": "code",
   "execution_count": 1,
   "metadata": {},
   "outputs": [
    {
     "data": {
      "application/vnd.jupyter.widget-view+json": {
       "model_id": "a4c160009af74c94a65d27191fddbf3c",
       "version_major": 2,
       "version_minor": 0
      },
      "text/plain": [
       "Output()"
      ]
     },
     "metadata": {},
     "output_type": "display_data"
    }
   ],
   "source": [
    "%run APIfunctions.ipynb\n",
    "%run build_widgets.ipynb\n",
    "%run interaction.ipynb\n",
    "output = ipw.Output()\n",
    "\n"
   ]
  },
  {
   "cell_type": "code",
   "execution_count": 2,
   "metadata": {},
   "outputs": [
    {
     "data": {
      "application/vnd.jupyter.widget-view+json": {
       "model_id": "f738efbeeb294af3b5ddecfc2a533462",
       "version_major": 2,
       "version_minor": 0
      },
      "text/plain": [
       "Output()"
      ]
     },
     "metadata": {},
     "output_type": "display_data"
    }
   ],
   "source": [
    "display(output)"
   ]
  },
  {
   "cell_type": "code",
   "execution_count": 3,
   "metadata": {},
   "outputs": [],
   "source": [
    "def build_login():\n",
    "    \n",
    "    text_gamertag = ipw.Text(\n",
    "        description = 'Gamertag:'\n",
    "    )\n",
    "\n",
    "    button_gamertag = ipw.Button(\n",
    "        description = 'Search'\n",
    "    )\n",
    "\n",
    "    hbox_gamertag = ipw.HBox(\n",
    "        children = [\n",
    "            text_gamertag,\n",
    "            button_gamertag\n",
    "        ]\n",
    "    )\n",
    "    \n",
    "    url = 'https://www.bungie.net/en/OAuth/Authorize?client_id=29004&response_type=code'\n",
    "    \n",
    "    label_authenticate =  ipw.Label(\n",
    "        value = f'Open a new window and go here: {url}'\n",
    "    )\n",
    "\n",
    "    text_code = ipw.Text(\n",
    "        description=\"Code:\"\n",
    "    )\n",
    "\n",
    "    button_submit_code = ipw.Button(\n",
    "        description='Submit'\n",
    "    )\n",
    "\n",
    "    hbox_code = ipw.HBox(\n",
    "        children = [\n",
    "            text_code,\n",
    "            button_submit_code\n",
    "        ]\n",
    "    )\n",
    "    vbox_authenticate = ipw.VBox(\n",
    "        children = [\n",
    "            label_authenticate,\n",
    "            hbox_code\n",
    "        ]\n",
    "    )\n",
    "\n",
    "    def search_gamertag(b):\n",
    "        success = get_membershipId(text_gamertag.value)\n",
    "        if success:\n",
    "            output.clear_output()\n",
    "            with output: display(vbox_authenticate)\n",
    "        else:\n",
    "            with output: print(f'Unable to find {gamertag}!')\n",
    "        \n",
    "    button_gamertag.on_click(search_gamertag)\n",
    "    \n",
    "    \n",
    "    def submit_code(b):\n",
    "        success = authenticate(text_code.value)\n",
    "        if success:\n",
    "            output.clear_output()\n",
    "            build_interface()\n",
    "        else:\n",
    "            with output: print(\"Please Try Again\")\n",
    "\n",
    "    button_submit_code.on_click(submit_code)\n",
    "    \n",
    "    with output: display(hbox_gamertag)\n",
    "    \n",
    "\n",
    "    "
   ]
  },
  {
   "cell_type": "code",
   "execution_count": 4,
   "metadata": {},
   "outputs": [],
   "source": [
    "def build_interface():\n",
    "    global active_pursuits\n",
    "    \n",
    "    progress = ipw.HBox(\n",
    "        children = [\n",
    "            ipw.FloatProgress(\n",
    "                description = 'Loading:',\n",
    "                min = 0,\n",
    "                value = 0,\n",
    "                max = 110\n",
    "            ),\n",
    "            ipw.Label(\n",
    "                value = 'Building interface ()....'\n",
    "            )\n",
    "        ]\n",
    "    )\n",
    "    \n",
    "    with output: display(progress)\n",
    "    \n",
    "    progress.children[1].value = 'Building interface (loadout panel)....'\n",
    "    build_loadout_panel()\n",
    "    progress.children[0].value += 1 \n",
    "    \n",
    "    progress.children[1].value = 'Building interface (task panel)....'\n",
    "    build_task_panel()\n",
    "    progress.children[0].value += 1 \n",
    "    \n",
    "    progress.children[1].value = 'Building interface (filter panel)....' \n",
    "    build_filter_panel()\n",
    "    progress.children[0].value += 1\n",
    "    \n",
    "    progress.children[1].value = 'Downloading Data (Characters)....'\n",
    "    get_characters()\n",
    "    progress.children[0].value += 1 \n",
    "    \n",
    "    progress.children[1].value = 'Downloading Data (Triumphs)....'\n",
    "    refresh_triumphs()\n",
    "    progress.children[0].value += 1 \n",
    "    \n",
    "    progress.children[1].value = 'Downloading Data (Pursuits)....'\n",
    "    get_pursuits()\n",
    "    progress.children[0].value += 1 \n",
    "    \n",
    "    refresh_pursuits(active_pursuits, progress)\n",
    "    \n",
    "    progress.children[1].value = 'Loading Data (Tasks)....'\n",
    "    get_all_tasks()\n",
    "    progress.children[0].value += 1 \n",
    "    \n",
    "    progress.children[1].value = 'Loading Data (Filters)....'\n",
    "    filter_tasks()\n",
    "    progress.children[0].value += 1 \n",
    "    \n",
    "    progress.children[1].value = 'Loading Data (Interface)....'\n",
    "    refresh_view()\n",
    "    progress.children[0].value += 1 \n",
    "    \n",
    "\n",
    "\n",
    "    interface = ipw.HBox(\n",
    "        children = [\n",
    "            loadout.panel,\n",
    "            tasks.panel,\n",
    "            filters.panel\n",
    "        ]\n",
    "    )\n",
    "    \n",
    "    output.clear_output()\n",
    "    with output: display(interface)\n",
    "    "
   ]
  },
  {
   "cell_type": "code",
   "execution_count": 5,
   "metadata": {},
   "outputs": [],
   "source": [
    "build_login()"
   ]
  },
  {
   "cell_type": "code",
   "execution_count": null,
   "metadata": {},
   "outputs": [],
   "source": []
  }
 ],
 "metadata": {
  "kernelspec": {
   "display_name": "Python 3",
   "language": "python",
   "name": "python3"
  },
  "language_info": {
   "codemirror_mode": {
    "name": "ipython",
    "version": 3
   },
   "file_extension": ".py",
   "mimetype": "text/x-python",
   "name": "python",
   "nbconvert_exporter": "python",
   "pygments_lexer": "ipython3",
   "version": "3.7.4"
  },
  "widgets": {
   "application/vnd.jupyter.widget-state+json": {
    "state": {
     "002133a80a674d0ea3c5ee2ed46df67a": {
      "model_module": "@jupyter-widgets/controls",
      "model_module_version": "1.5.0",
      "model_name": "HBoxModel",
      "state": {
       "children": [
        "IPY_MODEL_e239fd8fc1bf4033af2e35d525d09669",
        "IPY_MODEL_658dea8f67194863af5219a3fc6b75a8",
        "IPY_MODEL_566b9dedbd044f02930b0fae25abda89",
        "IPY_MODEL_07754cb0cfcf4b67981f14b450de9f2b"
       ],
       "layout": "IPY_MODEL_474c1270e5de44549801d96401943cb3"
      }
     },
     "0042f983118f43a381eefd6e6f951a4d": {
      "model_module": "@jupyter-widgets/base",
      "model_module_version": "1.2.0",
      "model_name": "LayoutModel",
      "state": {}
     },
     "0049403a99b84abaab6a91c836558fde": {
      "model_module": "@jupyter-widgets/base",
      "model_module_version": "1.2.0",
      "model_name": "LayoutModel",
      "state": {}
     },
     "00f24c65081d43a4bf93bf06f8fe0965": {
      "model_module": "@jupyter-widgets/controls",
      "model_module_version": "1.5.0",
      "model_name": "ButtonModel",
      "state": {
       "description": "EDIT",
       "layout": "IPY_MODEL_a39601ed667f4482a154d867435ec6ca",
       "style": "IPY_MODEL_94b1d61d56a143f392d4b89daf5c932f"
      }
     },
     "016ccb4126a2407e878f00bed0b66c1b": {
      "model_module": "@jupyter-widgets/controls",
      "model_module_version": "1.5.0",
      "model_name": "HBoxModel",
      "state": {
       "children": [
        "IPY_MODEL_017192171cb7429893391e69e2239150",
        "IPY_MODEL_bd70a3a831b74aac91fdc299568fb3a4",
        "IPY_MODEL_62c3f99d6ee04565a9fa58691254eaad"
       ],
       "layout": "IPY_MODEL_2785eee90df64c62b2c79607d65cffe6"
      }
     },
     "01711310b8b44f229ca243d6f7563d6b": {
      "model_module": "@jupyter-widgets/controls",
      "model_module_version": "1.5.0",
      "model_name": "LabelModel",
      "state": {
       "layout": "IPY_MODEL_5497389014dd4a61a23532df32058928",
       "style": "IPY_MODEL_f6967a2621f84c06b3dae021c0d98ed5",
       "value": "   objective"
      }
     },
     "017192171cb7429893391e69e2239150": {
      "model_module": "@jupyter-widgets/controls",
      "model_module_version": "1.5.0",
      "model_name": "VBoxModel",
      "state": {
       "children": [
        "IPY_MODEL_f679075585764b0c8028befc1c5a8091",
        "IPY_MODEL_8865c6358c324eceb5ff23cbcd2494fa",
        "IPY_MODEL_bdc0e3f9cddd4ed5924371e5bd48f137",
        "IPY_MODEL_8865c6358c324eceb5ff23cbcd2494fa",
        "IPY_MODEL_aa41ba7de46d471399dafc13160395f9"
       ],
       "layout": "IPY_MODEL_3b77ef64ff3149bab5b3e763c27b5cfb"
      }
     },
     "0190d563e00e4e8e93e5b6aa37eac302": {
      "model_module": "@jupyter-widgets/base",
      "model_module_version": "1.2.0",
      "model_name": "LayoutModel",
      "state": {
       "display": "none"
      }
     },
     "01b972d5067646ef9b1085180e6c8e55": {
      "model_module": "@jupyter-widgets/controls",
      "model_module_version": "1.5.0",
      "model_name": "HBoxModel",
      "state": {
       "children": [
        "IPY_MODEL_b930157739784177b55bf4c6f1196c82",
        "IPY_MODEL_8c9d786f151641a5b6493bb3a89845a4",
        "IPY_MODEL_9f8d2f486ea541279e9e6290192ecbce",
        "IPY_MODEL_7e811718bfd144ef8dbf5d8cf673c794"
       ],
       "layout": "IPY_MODEL_cd88d6a38c0744a9a0d067dad73852ef"
      }
     },
     "01c70296a5ea4dc084b41e2aa1601564": {
      "model_module": "@jupyter-widgets/controls",
      "model_module_version": "1.5.0",
      "model_name": "ButtonStyleModel",
      "state": {}
     },
     "0201d7e9fc8a4a58ae242b1593530f4b": {
      "model_module": "@jupyter-widgets/controls",
      "model_module_version": "1.5.0",
      "model_name": "ProgressStyleModel",
      "state": {
       "description_width": ""
      }
     },
     "02b56bb741364abd97e02c5dfb95fede": {
      "model_module": "@jupyter-widgets/controls",
      "model_module_version": "1.5.0",
      "model_name": "IntProgressModel",
      "state": {
       "layout": "IPY_MODEL_e7e776c9a18d4d5496381b43e776d986",
       "style": "IPY_MODEL_161e5133110343faafda709240a4becf",
       "value": 30
      }
     },
     "02b994105d324ecdb3a3e7453037dcef": {
      "model_module": "@jupyter-widgets/base",
      "model_module_version": "1.2.0",
      "model_name": "LayoutModel",
      "state": {
       "order": "-1",
       "overflow": "visible",
       "padding": "1px",
       "width": "0px"
      }
     },
     "0302dd1571344fdba0dd0b0174262c27": {
      "model_module": "@jupyter-widgets/controls",
      "model_module_version": "1.5.0",
      "model_name": "VBoxModel",
      "state": {
       "children": [
        "IPY_MODEL_204699339424466d9c9f2349f072bfbe",
        "IPY_MODEL_f115ba8293d54703ab07bcfb86ec7627",
        "IPY_MODEL_8a99559163814f078e3c40107b1c20c8",
        "IPY_MODEL_e5d977ef42dc4ef2a87a3b5398585b50"
       ],
       "layout": "IPY_MODEL_ce6114b224f8485eabab88eea74c1900"
      }
     },
     "032543f65f764219a342538570e02330": {
      "model_module": "@jupyter-widgets/controls",
      "model_module_version": "1.5.0",
      "model_name": "ButtonModel",
      "state": {
       "description": "EDIT",
       "layout": "IPY_MODEL_95f3aab2c8614c31abe8b95efa24498f",
       "style": "IPY_MODEL_2ca2ad7ce27446078c64dcea9cef3624"
      }
     },
     "032b7b113593468394cf4268a0ae4028": {
      "model_module": "@jupyter-widgets/controls",
      "model_module_version": "1.5.0",
      "model_name": "ButtonStyleModel",
      "state": {}
     },
     "034343a096164da8b0420485d3abd5c3": {
      "model_module": "@jupyter-widgets/controls",
      "model_module_version": "1.5.0",
      "model_name": "ButtonStyleModel",
      "state": {}
     },
     "046f756891df489f82b46b54affe068e": {
      "model_module": "@jupyter-widgets/controls",
      "model_module_version": "1.5.0",
      "model_name": "DescriptionStyleModel",
      "state": {
       "description_width": ""
      }
     },
     "046fe7455dc040deb1f4dd6327b47dc4": {
      "model_module": "@jupyter-widgets/controls",
      "model_module_version": "1.5.0",
      "model_name": "HBoxModel",
      "state": {
       "children": [
        "IPY_MODEL_bb9c4fc0c8d049cc8211784f531474d4",
        "IPY_MODEL_9e567915c4c04451a7336bf1ed497119",
        "IPY_MODEL_0e8da48c0c964060aea6805cc77f8ad5",
        "IPY_MODEL_471fe30bd95140b5ba4bb28cac1ab7f9"
       ],
       "layout": "IPY_MODEL_4245981f2275464aacbde2cef32cee8a"
      }
     },
     "04870b8906844c00a0fb8928c3cb823c": {
      "model_module": "@jupyter-widgets/controls",
      "model_module_version": "1.5.0",
      "model_name": "ButtonModel",
      "state": {
       "description": "EDIT",
       "layout": "IPY_MODEL_a508495e8e504e49aabc8183ecc3380c",
       "style": "IPY_MODEL_e7eb2285617743cf822786dd322c4a32"
      }
     },
     "04e51d26f6a4412fb0490e1a4de0f3b4": {
      "model_module": "@jupyter-widgets/controls",
      "model_module_version": "1.5.0",
      "model_name": "HTMLModel",
      "state": {
       "layout": "IPY_MODEL_19160952afd14ff0ac1945bf08fc45b9",
       "style": "IPY_MODEL_5b7df911434544838fa61d78ad4a7420",
       "value": "<font size=\"5\"><b>Dominant Advantage</b></font size=>"
      }
     },
     "050e0fb6f4eb40458f06610de3921d4b": {
      "model_module": "@jupyter-widgets/controls",
      "model_module_version": "1.5.0",
      "model_name": "DescriptionStyleModel",
      "state": {
       "description_width": ""
      }
     },
     "0525aaafa7ee4c50b48c665acfc18707": {
      "model_module": "@jupyter-widgets/base",
      "model_module_version": "1.2.0",
      "model_name": "LayoutModel",
      "state": {
       "order": "-1",
       "overflow": "visible",
       "padding": "1px",
       "width": "0px"
      }
     },
     "05573ce4e27b4a359544f3df2e11d15c": {
      "model_module": "@jupyter-widgets/base",
      "model_module_version": "1.2.0",
      "model_name": "LayoutModel",
      "state": {
       "overflow": "visible",
       "width": "100%"
      }
     },
     "05ac3935b6be42f89e6977e7d06101d3": {
      "model_module": "@jupyter-widgets/base",
      "model_module_version": "1.2.0",
      "model_name": "LayoutModel",
      "state": {
       "display": "none",
       "width": "60px"
      }
     },
     "05ee8085c620425b9668773ff9eb1b4d": {
      "model_module": "@jupyter-widgets/controls",
      "model_module_version": "1.5.0",
      "model_name": "ButtonModel",
      "state": {
       "button_style": "success",
       "disabled": true,
       "layout": "IPY_MODEL_36c7e6b6035e434da8de75346e07f4e9",
       "style": "IPY_MODEL_f5e7d060faf74e699fef9f196969ce28"
      }
     },
     "05f6a7d138bd4c898be10eef6c4a4e2c": {
      "model_module": "@jupyter-widgets/base",
      "model_module_version": "1.2.0",
      "model_name": "LayoutModel",
      "state": {
       "display": "none",
       "width": "60px"
      }
     },
     "05fd16833c174abd80f4c5113c957147": {
      "model_module": "@jupyter-widgets/controls",
      "model_module_version": "1.5.0",
      "model_name": "LabelModel",
      "state": {
       "layout": "IPY_MODEL_afe325a78be74502bbe439aa7860e4c6",
       "style": "IPY_MODEL_7167e27b2d0e4d3d9a0e27c6e9503876",
       "value": "Power Weapon:"
      }
     },
     "061f027da21349d3999c3c52ace8aec4": {
      "model_module": "@jupyter-widgets/base",
      "model_module_version": "1.2.0",
      "model_name": "LayoutModel",
      "state": {
       "display": "none"
      }
     },
     "062f1508e0c945d4aa485978caacec55": {
      "model_module": "@jupyter-widgets/base",
      "model_module_version": "1.2.0",
      "model_name": "LayoutModel",
      "state": {
       "display": "none"
      }
     },
     "0647fad69f1d462aa33cd4724f597da0": {
      "model_module": "@jupyter-widgets/controls",
      "model_module_version": "1.5.0",
      "model_name": "DescriptionStyleModel",
      "state": {
       "description_width": ""
      }
     },
     "06eab514944a478e805931d9e91e21d1": {
      "model_module": "@jupyter-widgets/controls",
      "model_module_version": "1.5.0",
      "model_name": "DescriptionStyleModel",
      "state": {
       "description_width": ""
      }
     },
     "070ba93c7b46456ca802c47569a325aa": {
      "model_module": "@jupyter-widgets/controls",
      "model_module_version": "1.5.0",
      "model_name": "ButtonModel",
      "state": {
       "description": "EDIT",
       "layout": "IPY_MODEL_4fde488436bf4271bb685639a8f9ec7a",
       "style": "IPY_MODEL_e43a1ba5ce0f4fed81d48339ca91d7a8"
      }
     },
     "071503186b674551bf7be0329f6d932e": {
      "model_module": "@jupyter-widgets/controls",
      "model_module_version": "1.5.0",
      "model_name": "HBoxModel",
      "state": {
       "children": [
        "IPY_MODEL_58fc0887ec4244dc8f679a62b029f183",
        "IPY_MODEL_18fc315601df4150bbaea61f82713278",
        "IPY_MODEL_cfe8124da7a14bc8b02ba6ed5b4089a1",
        "IPY_MODEL_032543f65f764219a342538570e02330"
       ],
       "layout": "IPY_MODEL_5b5f1fdc418a476ea971dc3ca6c8bfec"
      }
     },
     "07754cb0cfcf4b67981f14b450de9f2b": {
      "model_module": "@jupyter-widgets/controls",
      "model_module_version": "1.5.0",
      "model_name": "ButtonModel",
      "state": {
       "description": "EDIT",
       "layout": "IPY_MODEL_8859a9fcaa1245888c2ee62fbe0c6989",
       "style": "IPY_MODEL_a00d1dfea1a84f62bb1f75e3181321c9"
      }
     },
     "07adb8eb490447fdb8a7be735e0cd875": {
      "model_module": "@jupyter-widgets/controls",
      "model_module_version": "1.5.0",
      "model_name": "LabelModel",
      "state": {
       "layout": "IPY_MODEL_2714d159b9574a6c8d1692c30faf19c8",
       "style": "IPY_MODEL_24526a4a02a5412f873f4dbbac9cee33",
       "value": "    Valor ranks (0/1)"
      }
     },
     "07b3f7912a9943dd9f4644a98a19fcbc": {
      "model_module": "@jupyter-widgets/controls",
      "model_module_version": "1.5.0",
      "model_name": "ProgressStyleModel",
      "state": {
       "description_width": ""
      }
     },
     "07d726332c4d4e348203eca11d44fdc9": {
      "model_module": "@jupyter-widgets/controls",
      "model_module_version": "1.5.0",
      "model_name": "DescriptionStyleModel",
      "state": {
       "description_width": ""
      }
     },
     "0827b36a5a7a4c41b40852aecc9c53c6": {
      "model_module": "@jupyter-widgets/controls",
      "model_module_version": "1.5.0",
      "model_name": "DescriptionStyleModel",
      "state": {
       "description_width": ""
      }
     },
     "085acd71dd214955ab858e3a3b3f70c7": {
      "model_module": "@jupyter-widgets/controls",
      "model_module_version": "1.5.0",
      "model_name": "ButtonStyleModel",
      "state": {}
     },
     "08ae2b05b0c344899662998d75fe5dce": {
      "model_module": "@jupyter-widgets/controls",
      "model_module_version": "1.5.0",
      "model_name": "HTMLModel",
      "state": {
       "layout": "IPY_MODEL_d0f5b2ae84044ad7b274722af9c03e2a",
       "style": "IPY_MODEL_ae8ce55452184eca829305593e8f3a3b",
       "value": "<b>Activity Options</b>"
      }
     },
     "08dbf3fe5618401cbe0e5c1b70f4fafd": {
      "model_module": "@jupyter-widgets/base",
      "model_module_version": "1.2.0",
      "model_name": "LayoutModel",
      "state": {
       "height": "32px",
       "overflow": "visible",
       "width": "100%"
      }
     },
     "0901394ed9884211a9f8833b7f39f50d": {
      "model_module": "@jupyter-widgets/base",
      "model_module_version": "1.2.0",
      "model_name": "LayoutModel",
      "state": {
       "display": "none",
       "width": "60px"
      }
     },
     "09123fc49f3847b6bf38142a8fb868f3": {
      "model_module": "@jupyter-widgets/controls",
      "model_module_version": "1.5.0",
      "model_name": "TextModel",
      "state": {
       "description": "Gamertag:",
       "layout": "IPY_MODEL_10abc7a0eaaa43acbd7367dc98e7288c",
       "style": "IPY_MODEL_771bbc50065e45fa89eea82e5c5e93c1",
       "value": "skalligman"
      }
     },
     "091629a078a14bd29b156aedde136870": {
      "model_module": "@jupyter-widgets/controls",
      "model_module_version": "1.5.0",
      "model_name": "ButtonModel",
      "state": {
       "layout": "IPY_MODEL_57c237125eea4b3c93e40b47ceb08c6f",
       "style": "IPY_MODEL_7bc42a1d29a84c0591bee379639e20ea"
      }
     },
     "0923a49a08164c45a05074edd730d50c": {
      "model_module": "@jupyter-widgets/base",
      "model_module_version": "1.2.0",
      "model_name": "LayoutModel",
      "state": {}
     },
     "0958781cd09d427d937254ff55b4b957": {
      "model_module": "@jupyter-widgets/base",
      "model_module_version": "1.2.0",
      "model_name": "LayoutModel",
      "state": {
       "height": "32px",
       "order": "-2",
       "width": "32px"
      }
     },
     "0961b3aac85e4b08899b92fca5a0d79c": {
      "model_module": "@jupyter-widgets/base",
      "model_module_version": "1.2.0",
      "model_name": "LayoutModel",
      "state": {
       "order": "-1",
       "overflow": "visible",
       "padding": "1px",
       "width": "0px"
      }
     },
     "096a300f0e1c472d9a025a4d77e2c5a5": {
      "model_module": "@jupyter-widgets/controls",
      "model_module_version": "1.5.0",
      "model_name": "DescriptionStyleModel",
      "state": {
       "description_width": ""
      }
     },
     "09a4437c4e8f46e89c3650425432577f": {
      "model_module": "@jupyter-widgets/controls",
      "model_module_version": "1.5.0",
      "model_name": "DropdownModel",
      "state": {
       "_options_labels": [
        "Any"
       ],
       "index": 0,
       "layout": "IPY_MODEL_90e814629dff4ab0b86cdbeedd1b626d",
       "style": "IPY_MODEL_a6f7f32947d84c9799105c64dfac7434"
      }
     },
     "09b44e47cc564ebdbe9e05f2c8de42ee": {
      "model_module": "@jupyter-widgets/controls",
      "model_module_version": "1.5.0",
      "model_name": "IntProgressModel",
      "state": {
       "layout": "IPY_MODEL_dccfc651374442dab36def43d3a77f29",
       "style": "IPY_MODEL_b5715c4da9dd4e4aad60d84edcf4e733",
       "value": 30
      }
     },
     "09c8710cf86b48858c64a599fbcb5774": {
      "model_module": "@jupyter-widgets/controls",
      "model_module_version": "1.5.0",
      "model_name": "DescriptionStyleModel",
      "state": {
       "description_width": ""
      }
     },
     "09d8a7332ff248058e49803c6d11635d": {
      "model_module": "@jupyter-widgets/controls",
      "model_module_version": "1.5.0",
      "model_name": "ProgressStyleModel",
      "state": {
       "description_width": ""
      }
     },
     "0a40feb22af04f91a9bf0593036ae6b1": {
      "model_module": "@jupyter-widgets/controls",
      "model_module_version": "1.5.0",
      "model_name": "ProgressStyleModel",
      "state": {
       "description_width": ""
      }
     },
     "0aa1693a3a85463bb728c314d1ec469c": {
      "model_module": "@jupyter-widgets/controls",
      "model_module_version": "1.5.0",
      "model_name": "ProgressStyleModel",
      "state": {
       "description_width": ""
      }
     },
     "0acd8a0db80048b49932db9a7f5e4599": {
      "model_module": "@jupyter-widgets/controls",
      "model_module_version": "1.5.0",
      "model_name": "DropdownModel",
      "state": {
       "_options_labels": [
        "Any"
       ],
       "index": 0,
       "layout": "IPY_MODEL_90e814629dff4ab0b86cdbeedd1b626d",
       "style": "IPY_MODEL_d48994bcaf7c4ba4b7ee97dc08a4b793"
      }
     },
     "0aff64cffede463a9bd2422d44900ec1": {
      "model_module": "@jupyter-widgets/base",
      "model_module_version": "1.2.0",
      "model_name": "LayoutModel",
      "state": {
       "order": "-1",
       "overflow": "visible",
       "padding": "1px",
       "width": "0px"
      }
     },
     "0b5cfc46d5c1451ea1ebcc76a0d10213": {
      "model_module": "@jupyter-widgets/controls",
      "model_module_version": "1.5.0",
      "model_name": "DescriptionStyleModel",
      "state": {
       "description_width": ""
      }
     },
     "0b9564c8eb2c4766aee08ec2af2e703c": {
      "model_module": "@jupyter-widgets/base",
      "model_module_version": "1.2.0",
      "model_name": "LayoutModel",
      "state": {
       "display": "none",
       "width": "60px"
      }
     },
     "0ba89da1396743faa873f4dc2aab2746": {
      "model_module": "@jupyter-widgets/base",
      "model_module_version": "1.2.0",
      "model_name": "LayoutModel",
      "state": {
       "height": "32px",
       "order": "-2",
       "width": "32px"
      }
     },
     "0bb4c9e99a4749d48308efb0d8960b0c": {
      "model_module": "@jupyter-widgets/base",
      "model_module_version": "1.2.0",
      "model_name": "LayoutModel",
      "state": {}
     },
     "0c36daf550324d9b939618010d5a1a0d": {
      "model_module": "@jupyter-widgets/controls",
      "model_module_version": "1.5.0",
      "model_name": "LabelModel",
      "state": {
       "layout": "IPY_MODEL_2e182c17c6254aa386fc95bddab8cf2f",
       "style": "IPY_MODEL_e0d68b472e584b5292663d2c6910051e",
       "value": "   objective"
      }
     },
     "0c548c2157a744999c7248aa3461d428": {
      "model_module": "@jupyter-widgets/controls",
      "model_module_version": "1.5.0",
      "model_name": "DescriptionStyleModel",
      "state": {
       "description_width": ""
      }
     },
     "0c7c25cf699c40f6819e835248585543": {
      "model_module": "@jupyter-widgets/controls",
      "model_module_version": "1.5.0",
      "model_name": "ProgressStyleModel",
      "state": {
       "description_width": ""
      }
     },
     "0ccc1b5c37c6409aaa60d579696c0589": {
      "model_module": "@jupyter-widgets/base",
      "model_module_version": "1.2.0",
      "model_name": "LayoutModel",
      "state": {
       "height": "32px",
       "overflow": "visible",
       "width": "100%"
      }
     },
     "0cfd0acd365a4912a1dcaf8da93488db": {
      "model_module": "@jupyter-widgets/base",
      "model_module_version": "1.2.0",
      "model_name": "LayoutModel",
      "state": {
       "display": "none",
       "width": "60px"
      }
     },
     "0d12a145f62040c4be45b0be624b842f": {
      "model_module": "@jupyter-widgets/base",
      "model_module_version": "1.2.0",
      "model_name": "LayoutModel",
      "state": {
       "order": "-1",
       "overflow": "visible",
       "padding": "1px",
       "width": "0px"
      }
     },
     "0d1e5a97a2d848189c8bd2e50f600fb5": {
      "model_module": "@jupyter-widgets/controls",
      "model_module_version": "1.5.0",
      "model_name": "HBoxModel",
      "state": {
       "children": [
        "IPY_MODEL_28ff412c595543339a119d3140b6aec0",
        "IPY_MODEL_cb7a1b63624f408098f2ed34a204e8ee",
        "IPY_MODEL_c0e9f99f6e3946b7b405728f79efbdc5",
        "IPY_MODEL_e66ccf4283084c1d934145fb44f19220"
       ],
       "layout": "IPY_MODEL_ec6da39f46c8456aa477bf96c00a9891"
      }
     },
     "0d2ddc55757b4fc28b1736d12c3a3722": {
      "model_module": "@jupyter-widgets/controls",
      "model_module_version": "1.5.0",
      "model_name": "IntProgressModel",
      "state": {
       "layout": "IPY_MODEL_6ea2b5ec99fb4bdeb984aca5f791ff84",
       "style": "IPY_MODEL_78f180d4bdae4b9abbf1ece8aeaa429e",
       "value": 30
      }
     },
     "0d5c31a3b1894798819db7311e1bc531": {
      "model_module": "@jupyter-widgets/controls",
      "model_module_version": "1.5.0",
      "model_name": "ButtonModel",
      "state": {
       "button_style": "success",
       "disabled": true,
       "layout": "IPY_MODEL_68777e896d6b4f0eae3fa5bde23f406d",
       "style": "IPY_MODEL_9cfd5ee5e2cf40b6971320583189319f"
      }
     },
     "0dae0d61287c44b69c83f398575746d2": {
      "model_module": "@jupyter-widgets/controls",
      "model_module_version": "1.5.0",
      "model_name": "ProgressStyleModel",
      "state": {
       "description_width": ""
      }
     },
     "0dd321627da44c4d8c384ee3f5952fc8": {
      "model_module": "@jupyter-widgets/controls",
      "model_module_version": "1.5.0",
      "model_name": "ButtonModel",
      "state": {
       "description": "EDIT",
       "layout": "IPY_MODEL_12c777d65f5142fe988b5dfb3a223dc2",
       "style": "IPY_MODEL_51c933b2667d4c0ca8e8568571c070a5"
      }
     },
     "0decea58f654419fb6a0e60c4427ff68": {
      "model_module": "@jupyter-widgets/controls",
      "model_module_version": "1.5.0",
      "model_name": "IntProgressModel",
      "state": {
       "layout": "IPY_MODEL_109fb832c15943579c6b7ef76af8f742",
       "style": "IPY_MODEL_2c8ab60575d04135bc4fdc8e37d6c186",
       "value": 30
      }
     },
     "0df3cf7352c2491f8bb4ea1588536ffe": {
      "model_module": "@jupyter-widgets/controls",
      "model_module_version": "1.5.0",
      "model_name": "ButtonStyleModel",
      "state": {}
     },
     "0e04575cbcea4b72950acc22ee3a6577": {
      "model_module": "@jupyter-widgets/controls",
      "model_module_version": "1.5.0",
      "model_name": "ButtonStyleModel",
      "state": {}
     },
     "0e55e1cf250e420cb2a1cd0715ea7367": {
      "model_module": "@jupyter-widgets/base",
      "model_module_version": "1.2.0",
      "model_name": "LayoutModel",
      "state": {
       "display": "none",
       "width": "60px"
      }
     },
     "0e7d9a74a90b447bb995a7a10fc31083": {
      "model_module": "@jupyter-widgets/base",
      "model_module_version": "1.2.0",
      "model_name": "LayoutModel",
      "state": {
       "height": "32px",
       "overflow": "visible",
       "width": "100%"
      }
     },
     "0e8da48c0c964060aea6805cc77f8ad5": {
      "model_module": "@jupyter-widgets/controls",
      "model_module_version": "1.5.0",
      "model_name": "LabelModel",
      "state": {
       "layout": "IPY_MODEL_d4b1ebf316604b469b487f1c5405083a",
       "style": "IPY_MODEL_1606373e96124344a85413c3b30dbf25",
       "value": "    Supers cast (210/100)"
      }
     },
     "0e8f29d1882445f68df71d08223c612f": {
      "model_module": "@jupyter-widgets/controls",
      "model_module_version": "1.5.0",
      "model_name": "DescriptionStyleModel",
      "state": {
       "description_width": ""
      }
     },
     "0ea04a61c32a45658a1035107a4533cc": {
      "model_module": "@jupyter-widgets/base",
      "model_module_version": "1.2.0",
      "model_name": "LayoutModel",
      "state": {
       "height": "32px",
       "order": "-2",
       "width": "32px"
      }
     },
     "0eab2622d9d845cdb3eac43ac7c3567b": {
      "model_module": "@jupyter-widgets/controls",
      "model_module_version": "1.5.0",
      "model_name": "ButtonModel",
      "state": {
       "layout": "IPY_MODEL_582e3c3b0ed949d69de6f7026356890f",
       "style": "IPY_MODEL_66a27f051438409c9a5793db3a650d00"
      }
     },
     "0f0ca96c20824c808fe6b925fc754b98": {
      "model_module": "@jupyter-widgets/controls",
      "model_module_version": "1.5.0",
      "model_name": "ButtonModel",
      "state": {
       "button_style": "success",
       "disabled": true,
       "layout": "IPY_MODEL_6c82b96d54514d8d8a84266536851c79",
       "style": "IPY_MODEL_032b7b113593468394cf4268a0ae4028"
      }
     },
     "0f3b903425be448a9f56c537dcfe61da": {
      "model_module": "@jupyter-widgets/base",
      "model_module_version": "1.2.0",
      "model_name": "LayoutModel",
      "state": {
       "height": "32px",
       "order": "-2",
       "width": "32px"
      }
     },
     "0f3c87067c0e4b7488de7c95b3b1047f": {
      "model_module": "@jupyter-widgets/controls",
      "model_module_version": "1.5.0",
      "model_name": "TextModel",
      "state": {
       "description": "Code:",
       "layout": "IPY_MODEL_479a9fa422fb4769be1c0a67f00e2a2f",
       "style": "IPY_MODEL_d069992c2ecd4fe98b5cd2e6b79362ad",
       "value": "ecc0d357592fd2d3515d449ab505d26b"
      }
     },
     "0f48134d668a4152a89f9e075677d74c": {
      "model_module": "@jupyter-widgets/base",
      "model_module_version": "1.2.0",
      "model_name": "LayoutModel",
      "state": {
       "display": "none",
       "width": "60px"
      }
     },
     "0f4cbf9429194b5092e09fc0ac942c76": {
      "model_module": "@jupyter-widgets/base",
      "model_module_version": "1.2.0",
      "model_name": "LayoutModel",
      "state": {
       "display": "none",
       "width": "60px"
      }
     },
     "0f548ead22974856bbb9a2c412d7f73f": {
      "model_module": "@jupyter-widgets/controls",
      "model_module_version": "1.5.0",
      "model_name": "DescriptionStyleModel",
      "state": {
       "description_width": ""
      }
     },
     "0f5780591d0f4c68b6f85a9aa2af7836": {
      "model_module": "@jupyter-widgets/controls",
      "model_module_version": "1.5.0",
      "model_name": "DescriptionStyleModel",
      "state": {
       "description_width": ""
      }
     },
     "0fa48993d3db427e92d3a5c79591f0fd": {
      "model_module": "@jupyter-widgets/base",
      "model_module_version": "1.2.0",
      "model_name": "LayoutModel",
      "state": {
       "display": "none"
      }
     },
     "0fd61e3693c444e297ee0e1999018e70": {
      "model_module": "@jupyter-widgets/controls",
      "model_module_version": "1.5.0",
      "model_name": "ProgressStyleModel",
      "state": {
       "description_width": ""
      }
     },
     "0ff5a0e110074102925bf379991aa9ef": {
      "model_module": "@jupyter-widgets/base",
      "model_module_version": "1.2.0",
      "model_name": "LayoutModel",
      "state": {
       "height": "32px",
       "overflow": "visible",
       "width": "100%"
      }
     },
     "102567f3f1204015bebbde75089a1d5d": {
      "model_module": "@jupyter-widgets/controls",
      "model_module_version": "1.5.0",
      "model_name": "ButtonModel",
      "state": {
       "button_style": "success",
       "disabled": true,
       "layout": "IPY_MODEL_3ef07309e4c249e984f3ad7c258bacbe",
       "style": "IPY_MODEL_21c4d7cb8a434111a788c0e709198a2c"
      }
     },
     "102dce6996404f0295790b5e58a20cc8": {
      "model_module": "@jupyter-widgets/controls",
      "model_module_version": "1.5.0",
      "model_name": "ButtonModel",
      "state": {
       "description": "EDIT",
       "layout": "IPY_MODEL_708dea37774f4516aeda5bf574007664",
       "style": "IPY_MODEL_e1f7be34ea3747f4bd914d2ee51d012a"
      }
     },
     "10373546c2e9440eaa7e94cf110038c6": {
      "model_module": "@jupyter-widgets/controls",
      "model_module_version": "1.5.0",
      "model_name": "ProgressStyleModel",
      "state": {
       "description_width": ""
      }
     },
     "103a0731b7b24d8f98339bb0afd246c6": {
      "model_module": "@jupyter-widgets/controls",
      "model_module_version": "1.5.0",
      "model_name": "ButtonModel",
      "state": {
       "description": "EDIT",
       "layout": "IPY_MODEL_24fc52f28e5a414d8ff3d33700a6207c",
       "style": "IPY_MODEL_146f1e2837744e699e9d02326021e479"
      }
     },
     "109fb832c15943579c6b7ef76af8f742": {
      "model_module": "@jupyter-widgets/base",
      "model_module_version": "1.2.0",
      "model_name": "LayoutModel",
      "state": {
       "height": "32px",
       "overflow": "visible",
       "width": "100%"
      }
     },
     "10aae4987e044f7cab638bd4b6aa89db": {
      "model_module": "@jupyter-widgets/controls",
      "model_module_version": "1.5.0",
      "model_name": "ButtonStyleModel",
      "state": {}
     },
     "10abc7a0eaaa43acbd7367dc98e7288c": {
      "model_module": "@jupyter-widgets/base",
      "model_module_version": "1.2.0",
      "model_name": "LayoutModel",
      "state": {}
     },
     "10ca8d56e989426fa072ed72d8b61154": {
      "model_module": "@jupyter-widgets/controls",
      "model_module_version": "1.5.0",
      "model_name": "HBoxModel",
      "state": {
       "children": [
        "IPY_MODEL_39b0da00cfab472b95a2e1da8f627cf1",
        "IPY_MODEL_994b792dd9944f9ba9ddc49bd2b7bc66",
        "IPY_MODEL_07adb8eb490447fdb8a7be735e0cd875",
        "IPY_MODEL_990d529502934e8ab76a8468beefb751"
       ],
       "layout": "IPY_MODEL_e99852b6a84c4bdf8a1d4109ee368825"
      }
     },
     "10d1c66e690e44b196fd4e2bda92e97b": {
      "model_module": "@jupyter-widgets/controls",
      "model_module_version": "1.5.0",
      "model_name": "ButtonStyleModel",
      "state": {}
     },
     "10d7f7d40a384d14bd971a3f682661c8": {
      "model_module": "@jupyter-widgets/base",
      "model_module_version": "1.2.0",
      "model_name": "LayoutModel",
      "state": {
       "display": "none"
      }
     },
     "10f869cb239844d0bb415a1b662e1ef4": {
      "model_module": "@jupyter-widgets/controls",
      "model_module_version": "1.5.0",
      "model_name": "DescriptionStyleModel",
      "state": {
       "description_width": ""
      }
     },
     "1133b7dac89745dba457ef62e7a63148": {
      "model_module": "@jupyter-widgets/controls",
      "model_module_version": "1.5.0",
      "model_name": "LabelModel",
      "state": {
       "layout": "IPY_MODEL_d490e1334829420db6f993c8e7b47fc7",
       "style": "IPY_MODEL_59e84b96fc414ddbb91195c296e86240",
       "value": "   objective"
      }
     },
     "11685cf189cf4edfb1656855b4461ad4": {
      "model_module": "@jupyter-widgets/controls",
      "model_module_version": "1.5.0",
      "model_name": "ProgressStyleModel",
      "state": {
       "description_width": ""
      }
     },
     "11e5d702be4a4093999bd84ffc2cd457": {
      "model_module": "@jupyter-widgets/controls",
      "model_module_version": "1.5.0",
      "model_name": "DescriptionStyleModel",
      "state": {
       "description_width": ""
      }
     },
     "11ec2c037a154389b6e5372e8650b784": {
      "model_module": "@jupyter-widgets/controls",
      "model_module_version": "1.5.0",
      "model_name": "ProgressStyleModel",
      "state": {
       "description_width": ""
      }
     },
     "125dc723f4b64bd78318809c28e3f195": {
      "model_module": "@jupyter-widgets/base",
      "model_module_version": "1.2.0",
      "model_name": "LayoutModel",
      "state": {
       "height": "32px",
       "order": "-2",
       "width": "32px"
      }
     },
     "1261f88c17e64f1cad218db680923e1d": {
      "model_module": "@jupyter-widgets/controls",
      "model_module_version": "1.5.0",
      "model_name": "ButtonStyleModel",
      "state": {}
     },
     "127631b02bd544e1bfa5af384cdd73d9": {
      "model_module": "@jupyter-widgets/controls",
      "model_module_version": "1.5.0",
      "model_name": "LabelModel",
      "state": {
       "layout": "IPY_MODEL_5737d98fef864b70810bfe7d64545f60",
       "style": "IPY_MODEL_8ec85ce6aea04020891bfb142a364e0f",
       "value": "   objective"
      }
     },
     "1286e274da31442dad9267f4cb67341e": {
      "model_module": "@jupyter-widgets/base",
      "model_module_version": "1.2.0",
      "model_name": "LayoutModel",
      "state": {
       "display": "none"
      }
     },
     "12c777d65f5142fe988b5dfb3a223dc2": {
      "model_module": "@jupyter-widgets/base",
      "model_module_version": "1.2.0",
      "model_name": "LayoutModel",
      "state": {
       "display": "none",
       "width": "60px"
      }
     },
     "12f3d82d4f2349eeaf53d34ee0834b70": {
      "model_module": "@jupyter-widgets/base",
      "model_module_version": "1.2.0",
      "model_name": "LayoutModel",
      "state": {
       "overflow": "visible",
       "width": "100%"
      }
     },
     "1303b4e2f6574e7297d855da633ab8d4": {
      "model_module": "@jupyter-widgets/controls",
      "model_module_version": "1.5.0",
      "model_name": "ButtonModel",
      "state": {
       "description": "EDIT",
       "layout": "IPY_MODEL_6438c3dbc7c642af80ae7dcdd475c4dc",
       "style": "IPY_MODEL_da7bdfad6cab4f339fa2ccbd7f8420b5"
      }
     },
     "132809b517b14fa6831470a7559b0d9f": {
      "model_module": "@jupyter-widgets/controls",
      "model_module_version": "1.5.0",
      "model_name": "VBoxModel",
      "state": {
       "children": [
        "IPY_MODEL_956372b305274457b38ca12713c7fdb3",
        "IPY_MODEL_ed5919551c0d4432bcc57e528ac09fc1",
        "IPY_MODEL_74e0a4cf53454ad7bffb0ec2896e294b",
        "IPY_MODEL_d753c5b154a34bc39cdc51e98dbf29bf"
       ],
       "layout": "IPY_MODEL_db10c22fbe504e9a891f3f9c61bab06c"
      }
     },
     "13466b15b00d438891f9cba8c9a033da": {
      "model_module": "@jupyter-widgets/base",
      "model_module_version": "1.2.0",
      "model_name": "LayoutModel",
      "state": {
       "order": "-1",
       "overflow": "visible",
       "padding": "1px",
       "width": "0px"
      }
     },
     "13508715f378498e8c39006902eba29b": {
      "model_module": "@jupyter-widgets/base",
      "model_module_version": "1.2.0",
      "model_name": "LayoutModel",
      "state": {
       "height": "32px",
       "order": "-2",
       "width": "32px"
      }
     },
     "137ff8f3fc7f4fe28e65074112763d75": {
      "model_module": "@jupyter-widgets/controls",
      "model_module_version": "1.5.0",
      "model_name": "DescriptionStyleModel",
      "state": {
       "description_width": ""
      }
     },
     "139f78df13ae407787aed646ec42b020": {
      "model_module": "@jupyter-widgets/base",
      "model_module_version": "1.2.0",
      "model_name": "LayoutModel",
      "state": {
       "display": "none"
      }
     },
     "13bfd639de1d46b4bcd515f27cac153c": {
      "model_module": "@jupyter-widgets/controls",
      "model_module_version": "1.5.0",
      "model_name": "ButtonStyleModel",
      "state": {}
     },
     "1428e4a1117e4961a0ce62d4a8634afd": {
      "model_module": "@jupyter-widgets/base",
      "model_module_version": "1.2.0",
      "model_name": "LayoutModel",
      "state": {
       "order": "-1",
       "overflow": "visible",
       "padding": "1px",
       "width": "0px"
      }
     },
     "144a7c46bc7f4863894120e01e0dc21c": {
      "model_module": "@jupyter-widgets/controls",
      "model_module_version": "1.5.0",
      "model_name": "DescriptionStyleModel",
      "state": {
       "description_width": ""
      }
     },
     "144b8235b3d74e85a1ebc94d77e0e8df": {
      "model_module": "@jupyter-widgets/base",
      "model_module_version": "1.2.0",
      "model_name": "LayoutModel",
      "state": {
       "display": "none"
      }
     },
     "1467549125534d5499f5ef6ddefefff5": {
      "model_module": "@jupyter-widgets/base",
      "model_module_version": "1.2.0",
      "model_name": "LayoutModel",
      "state": {
       "overflow": "visible",
       "width": "100%"
      }
     },
     "146f1e2837744e699e9d02326021e479": {
      "model_module": "@jupyter-widgets/controls",
      "model_module_version": "1.5.0",
      "model_name": "ButtonStyleModel",
      "state": {}
     },
     "148764423a42431c8cf77e1adb9f24b2": {
      "model_module": "@jupyter-widgets/controls",
      "model_module_version": "1.5.0",
      "model_name": "ButtonModel",
      "state": {
       "layout": "IPY_MODEL_7d7b365a67374d829641119668ae83d3",
       "style": "IPY_MODEL_bda6d1df6abb4aba9372e3d5bab38e93"
      }
     },
     "14c3045e4f9848ee80881908e2a625e3": {
      "model_module": "@jupyter-widgets/controls",
      "model_module_version": "1.5.0",
      "model_name": "HBoxModel",
      "state": {
       "children": [
        "IPY_MODEL_a0995bab72e2478cab6d5ac042088ede",
        "IPY_MODEL_db58509962a349eb9d9e7c65d60e95d2",
        "IPY_MODEL_e0b6063a9d6741528dc13e9efcf876a5",
        "IPY_MODEL_eff1d1fcd4de4e28bb38fc89efc2fc64"
       ],
       "layout": "IPY_MODEL_89382ec54c6a4af5bf03ae22401ceb37"
      }
     },
     "14df4150acfb4093ba725341656ca7df": {
      "model_module": "@jupyter-widgets/base",
      "model_module_version": "1.2.0",
      "model_name": "LayoutModel",
      "state": {
       "height": "32px",
       "overflow": "visible",
       "width": "100%"
      }
     },
     "1534fc0c6de74d02b2e2e38ea9d7fd97": {
      "model_module": "@jupyter-widgets/controls",
      "model_module_version": "1.5.0",
      "model_name": "LabelModel",
      "state": {
       "layout": "IPY_MODEL_54de3043f00645349a3803bfed44c9c1",
       "style": "IPY_MODEL_3bf913c5a4df458b9d151887bab1196f",
       "value": "    Crests secured (42/50)"
      }
     },
     "154f8c3f613e42ab9672139a3682f596": {
      "model_module": "@jupyter-widgets/controls",
      "model_module_version": "1.5.0",
      "model_name": "ButtonStyleModel",
      "state": {}
     },
     "1568fd60362044b8a219a08ac998871e": {
      "model_module": "@jupyter-widgets/base",
      "model_module_version": "1.2.0",
      "model_name": "LayoutModel",
      "state": {
       "display": "none",
       "width": "60px"
      }
     },
     "1589ee9391854372a86ed9a11d12f845": {
      "model_module": "@jupyter-widgets/controls",
      "model_module_version": "1.5.0",
      "model_name": "ButtonStyleModel",
      "state": {}
     },
     "158eb0d7c13446fe96dcd6d667afdf16": {
      "model_module": "@jupyter-widgets/controls",
      "model_module_version": "1.5.0",
      "model_name": "DropdownModel",
      "state": {
       "_options_labels": [
        "All"
       ],
       "index": 0,
       "layout": "IPY_MODEL_6291613d49a74bb292479b21450738d0",
       "style": "IPY_MODEL_3e56a35b1642483ba75d567cb9ee9080"
      }
     },
     "158f2a4ba7d641498d65e339c2d56bcd": {
      "model_module": "@jupyter-widgets/controls",
      "model_module_version": "1.5.0",
      "model_name": "HBoxModel",
      "state": {
       "children": [
        "IPY_MODEL_206a16d5df7f4ff195ab38d9dafbac33",
        "IPY_MODEL_53a2dec4a6744faba953cbbcc6afbe4e",
        "IPY_MODEL_19a6c6acd09a4944bdc012589a8725b9",
        "IPY_MODEL_882a65a515844526a72947698e130712"
       ],
       "layout": "IPY_MODEL_0190d563e00e4e8e93e5b6aa37eac302"
      }
     },
     "15c439744faf49ec9c2e794871ee3574": {
      "model_module": "@jupyter-widgets/base",
      "model_module_version": "1.2.0",
      "model_name": "LayoutModel",
      "state": {
       "display": "none",
       "width": "60px"
      }
     },
     "1606373e96124344a85413c3b30dbf25": {
      "model_module": "@jupyter-widgets/controls",
      "model_module_version": "1.5.0",
      "model_name": "DescriptionStyleModel",
      "state": {
       "description_width": ""
      }
     },
     "160b336851d547ae893242674cbe847f": {
      "model_module": "@jupyter-widgets/controls",
      "model_module_version": "1.5.0",
      "model_name": "ProgressStyleModel",
      "state": {
       "description_width": ""
      }
     },
     "161e5133110343faafda709240a4becf": {
      "model_module": "@jupyter-widgets/controls",
      "model_module_version": "1.5.0",
      "model_name": "ProgressStyleModel",
      "state": {
       "description_width": ""
      }
     },
     "162649699cfa4b2bbf06718e059c72b7": {
      "model_module": "@jupyter-widgets/base",
      "model_module_version": "1.2.0",
      "model_name": "LayoutModel",
      "state": {
       "display": "flex",
       "flex_flow": "row wrap"
      }
     },
     "163cbd0070e549239e72bbeeeee26587": {
      "model_module": "@jupyter-widgets/base",
      "model_module_version": "1.2.0",
      "model_name": "LayoutModel",
      "state": {
       "display": "flex",
       "flex_flow": "row wrap"
      }
     },
     "165986a840874c3e9da672faad37e38c": {
      "model_module": "@jupyter-widgets/controls",
      "model_module_version": "1.5.0",
      "model_name": "ButtonModel",
      "state": {
       "description": "EDIT",
       "layout": "IPY_MODEL_e60a234ef8bc4179a1709246e87a657e",
       "style": "IPY_MODEL_0e04575cbcea4b72950acc22ee3a6577"
      }
     },
     "16bea0d8018547ac826e9797c0885cab": {
      "model_module": "@jupyter-widgets/base",
      "model_module_version": "1.2.0",
      "model_name": "LayoutModel",
      "state": {
       "order": "-1",
       "overflow": "visible",
       "padding": "1px",
       "width": "0px"
      }
     },
     "16ffd98dd83b4c20921fe48fbe398e1d": {
      "model_module": "@jupyter-widgets/controls",
      "model_module_version": "1.5.0",
      "model_name": "ProgressStyleModel",
      "state": {
       "description_width": ""
      }
     },
     "1704eaab58914699946f1be014200dd6": {
      "model_module": "@jupyter-widgets/base",
      "model_module_version": "1.2.0",
      "model_name": "LayoutModel",
      "state": {
       "display": "none",
       "width": "60px"
      }
     },
     "1799245c8364466e9e673ab8217840d2": {
      "model_module": "@jupyter-widgets/base",
      "model_module_version": "1.2.0",
      "model_name": "LayoutModel",
      "state": {}
     },
     "17b6d0f6cdd9448e952bb6a6b53b6d22": {
      "model_module": "@jupyter-widgets/controls",
      "model_module_version": "1.5.0",
      "model_name": "ButtonModel",
      "state": {
       "description": "EDIT",
       "layout": "IPY_MODEL_a5b656d39df34ddea87de7e383981717",
       "style": "IPY_MODEL_d0aef07b3b3d4f25a23c8cae994e1663"
      }
     },
     "17c494bbdede4123a930ca50b832e7c0": {
      "model_module": "@jupyter-widgets/controls",
      "model_module_version": "1.5.0",
      "model_name": "ButtonModel",
      "state": {
       "layout": "IPY_MODEL_9a8f44875935433fac8637398db95026",
       "style": "IPY_MODEL_e0c0114cb03f47f08ed4352fd694531b"
      }
     },
     "17ddcd88f6044f5f8f4e2460a6f7ecc8": {
      "model_module": "@jupyter-widgets/base",
      "model_module_version": "1.2.0",
      "model_name": "LayoutModel",
      "state": {
       "order": "-1",
       "overflow": "visible",
       "padding": "1px",
       "width": "0px"
      }
     },
     "17dde92ce7bc45979ed67dafcb0c7e19": {
      "model_module": "@jupyter-widgets/controls",
      "model_module_version": "1.5.0",
      "model_name": "ButtonModel",
      "state": {
       "description": "EDIT",
       "layout": "IPY_MODEL_c47a02727908435eb42e1fcf57d22a00",
       "style": "IPY_MODEL_b740b147a9c4433b8839e7c98ee2db86"
      }
     },
     "17e2fb7aada640e48a447b3a8f1cbbec": {
      "model_module": "@jupyter-widgets/base",
      "model_module_version": "1.2.0",
      "model_name": "LayoutModel",
      "state": {
       "height": "32px",
       "overflow": "visible",
       "width": "100%"
      }
     },
     "17ecdf6e9d82463e9f6108d6cc643b4e": {
      "model_module": "@jupyter-widgets/controls",
      "model_module_version": "1.5.0",
      "model_name": "IntProgressModel",
      "state": {
       "bar_style": "success",
       "layout": "IPY_MODEL_6b01bccdbc0845f8a36118f96a41f92c",
       "max": 1,
       "style": "IPY_MODEL_7bf91d213cd745338938f5005e027286",
       "value": 1
      }
     },
     "1819943e5da942128580cf118398f29d": {
      "model_module": "@jupyter-widgets/base",
      "model_module_version": "1.2.0",
      "model_name": "LayoutModel",
      "state": {
       "display": "none"
      }
     },
     "1846cbff4b224035a8a507ff5dddd0d2": {
      "model_module": "@jupyter-widgets/controls",
      "model_module_version": "1.5.0",
      "model_name": "ProgressStyleModel",
      "state": {
       "description_width": ""
      }
     },
     "18fc315601df4150bbaea61f82713278": {
      "model_module": "@jupyter-widgets/controls",
      "model_module_version": "1.5.0",
      "model_name": "IntProgressModel",
      "state": {
       "layout": "IPY_MODEL_6f3b92479d294a31bdd9d130e7dac82c",
       "style": "IPY_MODEL_c2d75525c1df46359882adc07139acdc",
       "value": 30
      }
     },
     "19160952afd14ff0ac1945bf08fc45b9": {
      "model_module": "@jupyter-widgets/base",
      "model_module_version": "1.2.0",
      "model_name": "LayoutModel",
      "state": {
       "overflow": "visible",
       "width": "100%"
      }
     },
     "19283f270bfe45d29752363e6f49bd9f": {
      "model_module": "@jupyter-widgets/controls",
      "model_module_version": "1.5.0",
      "model_name": "LabelModel",
      "state": {
       "layout": "IPY_MODEL_16bea0d8018547ac826e9797c0885cab",
       "style": "IPY_MODEL_b1b353284a2b4552b6cfa6d7c2530527",
       "value": "   objective"
      }
     },
     "1931e5fa3b97433a95046234ca86a9a6": {
      "model_module": "@jupyter-widgets/controls",
      "model_module_version": "1.5.0",
      "model_name": "ProgressStyleModel",
      "state": {
       "description_width": ""
      }
     },
     "19519593dff9426ba1d051be80d0dd8c": {
      "model_module": "@jupyter-widgets/base",
      "model_module_version": "1.2.0",
      "model_name": "LayoutModel",
      "state": {
       "height": "32px",
       "overflow": "visible",
       "width": "100%"
      }
     },
     "19869a1a48464c3b935845b799133eac": {
      "model_module": "@jupyter-widgets/base",
      "model_module_version": "1.2.0",
      "model_name": "LayoutModel",
      "state": {
       "border": "3px solid white",
       "display": "flex",
       "flex": "1 1 0%",
       "margin": "10px",
       "min_width": "400px",
       "overflow": "visible",
       "padding": "10px",
       "width": "auto"
      }
     },
     "199fa1557655470ca2c6a41bbfb1779c": {
      "model_module": "@jupyter-widgets/controls",
      "model_module_version": "1.5.0",
      "model_name": "HBoxModel",
      "state": {
       "children": [
        "IPY_MODEL_b4dfb3a4742a4f2895b07ea8b040f9c6",
        "IPY_MODEL_02b56bb741364abd97e02c5dfb95fede",
        "IPY_MODEL_9c20f5beb03c46a89ce53d982888e918",
        "IPY_MODEL_24db22eedb7645ef9508e528757e337e"
       ],
       "layout": "IPY_MODEL_af873c43d2e84b7a9c65a00d7f6d7643"
      }
     },
     "19a6a4d6e572429287bb945e3eb45a39": {
      "model_module": "@jupyter-widgets/controls",
      "model_module_version": "1.5.0",
      "model_name": "ButtonModel",
      "state": {
       "description": "EDIT",
       "layout": "IPY_MODEL_a299c44a3f7341988bc4ea2196a9db95",
       "style": "IPY_MODEL_c10363a1797f4065844f2eb60e642f09"
      }
     },
     "19a6c6acd09a4944bdc012589a8725b9": {
      "model_module": "@jupyter-widgets/controls",
      "model_module_version": "1.5.0",
      "model_name": "LabelModel",
      "state": {
       "layout": "IPY_MODEL_a006970f1913434da6e68ff3e2f6eba3",
       "style": "IPY_MODEL_e4794eae0dca480caab34e5e66d7ea00",
       "value": "    Opponents defeated (79/50)"
      }
     },
     "19dd8a810ecf4d9686529746b8702df2": {
      "model_module": "@jupyter-widgets/base",
      "model_module_version": "1.2.0",
      "model_name": "LayoutModel",
      "state": {
       "display": "none"
      }
     },
     "19f5030884bc4472872eab02ba8cfc14": {
      "model_module": "@jupyter-widgets/controls",
      "model_module_version": "1.5.0",
      "model_name": "IntProgressModel",
      "state": {
       "layout": "IPY_MODEL_d9c73dab49474fad82e526c6b7a87e34",
       "style": "IPY_MODEL_5bfa54361919496ea79398edfeca6d1c",
       "value": 30
      }
     },
     "19fc3f7e3f394fb5bdbdd0111ab4b2df": {
      "model_module": "@jupyter-widgets/controls",
      "model_module_version": "1.5.0",
      "model_name": "ButtonStyleModel",
      "state": {}
     },
     "1a106aa3d9d54740bfcab4a17f941d37": {
      "model_module": "@jupyter-widgets/controls",
      "model_module_version": "1.5.0",
      "model_name": "DescriptionStyleModel",
      "state": {
       "description_width": ""
      }
     },
     "1a762ecfc92c4d228831c25f19eb3c1a": {
      "model_module": "@jupyter-widgets/controls",
      "model_module_version": "1.5.0",
      "model_name": "VBoxModel",
      "state": {
       "children": [
        "IPY_MODEL_db0ccfb9e63d4cadaa79aed7218cd275",
        "IPY_MODEL_d999aa34a1b14be9914bd6de88fff498",
        "IPY_MODEL_69ee787fb64d4826b7c7d1dacc37871f",
        "IPY_MODEL_e84f2055378147b78bc0030d953f8a7a",
        "IPY_MODEL_f38afaa3bc0841dc8d4fcd87a2fb2580",
        "IPY_MODEL_7396fb4bceef4131b83acda91f336a91"
       ],
       "layout": "IPY_MODEL_0049403a99b84abaab6a91c836558fde"
      }
     },
     "1a92ac49155145128885f308fa5f85f6": {
      "model_module": "@jupyter-widgets/base",
      "model_module_version": "1.2.0",
      "model_name": "LayoutModel",
      "state": {
       "display": "none",
       "width": "60px"
      }
     },
     "1ab564d8d86542949597d055756d189b": {
      "model_module": "@jupyter-widgets/controls",
      "model_module_version": "1.5.0",
      "model_name": "HBoxModel",
      "state": {
       "children": [
        "IPY_MODEL_e5ad56481eaa4ea18244cb46443f9b07",
        "IPY_MODEL_17ecdf6e9d82463e9f6108d6cc643b4e",
        "IPY_MODEL_ec5ad1d9f6ac4c1b89b1ef185abb7e31",
        "IPY_MODEL_58884f5b0d2741759f4f2534ae80df8a"
       ],
       "layout": "IPY_MODEL_ffdaac1b3cc944d89c58ee49d02b5e44"
      }
     },
     "1adfb72b176c4377acf98e3832048448": {
      "model_module": "@jupyter-widgets/controls",
      "model_module_version": "1.5.0",
      "model_name": "ButtonModel",
      "state": {
       "description": "EDIT",
       "layout": "IPY_MODEL_96dd38cbe8ec491c9b4c67847c21fed5",
       "style": "IPY_MODEL_154f8c3f613e42ab9672139a3682f596"
      }
     },
     "1af29806c1264eba98ee58129dfd3e20": {
      "model_module": "@jupyter-widgets/base",
      "model_module_version": "1.2.0",
      "model_name": "LayoutModel",
      "state": {
       "height": "32px",
       "overflow": "visible",
       "width": "100%"
      }
     },
     "1b08a8c5ec754ab28234c276996c6c3f": {
      "model_module": "@jupyter-widgets/base",
      "model_module_version": "1.2.0",
      "model_name": "LayoutModel",
      "state": {
       "display": "none",
       "width": "60px"
      }
     },
     "1b27b1036a2b4928a083b90f740bd295": {
      "model_module": "@jupyter-widgets/base",
      "model_module_version": "1.2.0",
      "model_name": "LayoutModel",
      "state": {
       "height": "32px",
       "overflow": "visible",
       "width": "100%"
      }
     },
     "1b76991320bf48a493333aa27ddbc9b3": {
      "model_module": "@jupyter-widgets/controls",
      "model_module_version": "1.5.0",
      "model_name": "HBoxModel",
      "state": {
       "children": [
        "IPY_MODEL_40fa3fde0b654c20a188cfc55a49c4e5",
        "IPY_MODEL_859839946a0949ed86489721f21d7237",
        "IPY_MODEL_e94d236a7a6e49e2867eb111a0a49460",
        "IPY_MODEL_41cb14fd215d4247bdf6cdbc6e132932"
       ],
       "layout": "IPY_MODEL_7dea7ae1192b4d31b409b757e198e5f4"
      }
     },
     "1b85526023a34919b1f56da9b6c0eb2e": {
      "model_module": "@jupyter-widgets/controls",
      "model_module_version": "1.5.0",
      "model_name": "IntProgressModel",
      "state": {
       "layout": "IPY_MODEL_e744eb81e84c4adaaacda4db6425c9b4",
       "style": "IPY_MODEL_8657b049f6c14718a353dd4274d83f45",
       "value": 30
      }
     },
     "1bae0b1e7cde4c6889a13c9bf4ce5eb0": {
      "model_module": "@jupyter-widgets/base",
      "model_module_version": "1.2.0",
      "model_name": "LayoutModel",
      "state": {
       "order": "-1",
       "overflow": "visible",
       "padding": "1px",
       "width": "0px"
      }
     },
     "1bc8d0abcea247078ba61f8dbf35d7b7": {
      "model_module": "@jupyter-widgets/base",
      "model_module_version": "1.2.0",
      "model_name": "LayoutModel",
      "state": {
       "order": "-1",
       "overflow": "visible",
       "padding": "1px",
       "width": "0px"
      }
     },
     "1c150af17b3e433480067174fd8f009f": {
      "model_module": "@jupyter-widgets/controls",
      "model_module_version": "1.5.0",
      "model_name": "LabelModel",
      "state": {
       "layout": "IPY_MODEL_dfee62f8ef884e9cbb6cd1be2ca5f91d",
       "style": "IPY_MODEL_af6ad19181c140dcad36a2b51034853f",
       "value": "   objective"
      }
     },
     "1c72e3649d0f4bf5aaaa70eeaabc2095": {
      "model_module": "@jupyter-widgets/controls",
      "model_module_version": "1.5.0",
      "model_name": "ButtonStyleModel",
      "state": {}
     },
     "1c7da57b7cbe4f50aba692b5bbe29a87": {
      "model_module": "@jupyter-widgets/base",
      "model_module_version": "1.2.0",
      "model_name": "LayoutModel",
      "state": {}
     },
     "1c9ecd6f5d1949c2b79e6ce7a871909c": {
      "model_module": "@jupyter-widgets/controls",
      "model_module_version": "1.5.0",
      "model_name": "ButtonStyleModel",
      "state": {}
     },
     "1cb543d198ec4288a170b9cb6f50cc35": {
      "model_module": "@jupyter-widgets/base",
      "model_module_version": "1.2.0",
      "model_name": "LayoutModel",
      "state": {
       "height": "32px",
       "overflow": "visible",
       "width": "100%"
      }
     },
     "1ce1492155874b878d0242c466cd2784": {
      "model_module": "@jupyter-widgets/controls",
      "model_module_version": "1.5.0",
      "model_name": "IntProgressModel",
      "state": {
       "layout": "IPY_MODEL_e75f1629a0c84121ae20ab42eb9e81dc",
       "style": "IPY_MODEL_500f5de798b4421584c8b483f1bfc377",
       "value": 30
      }
     },
     "1d1972dbee034965a79b3b7922aea526": {
      "model_module": "@jupyter-widgets/base",
      "model_module_version": "1.2.0",
      "model_name": "LayoutModel",
      "state": {
       "display": "none"
      }
     },
     "1d2cd5194910488ebe1be64c13d2f4f3": {
      "model_module": "@jupyter-widgets/controls",
      "model_module_version": "1.5.0",
      "model_name": "DescriptionStyleModel",
      "state": {
       "description_width": ""
      }
     },
     "1d4b9d6b3eb743c7bba9720cc3a3972a": {
      "model_module": "@jupyter-widgets/controls",
      "model_module_version": "1.5.0",
      "model_name": "IntProgressModel",
      "state": {
       "layout": "IPY_MODEL_f17e81e08906435cb75fb6f31e61496d",
       "max": 10,
       "style": "IPY_MODEL_270253bebbf14fb48705d3285e510099",
       "value": 7
      }
     },
     "1d8b0a15342f4445a8c78e9814448170": {
      "model_module": "@jupyter-widgets/base",
      "model_module_version": "1.2.0",
      "model_name": "LayoutModel",
      "state": {
       "height": "32px",
       "overflow": "visible",
       "width": "100%"
      }
     },
     "1dfb8531de1e4e9784486a05a4e5234b": {
      "model_module": "@jupyter-widgets/controls",
      "model_module_version": "1.5.0",
      "model_name": "ButtonModel",
      "state": {
       "layout": "IPY_MODEL_65b7eea16f244b698bfa926ce4f5177f",
       "style": "IPY_MODEL_76a9d33a8d7d450386d6a40577ce3add"
      }
     },
     "1e2f1a697c6248368cc13bac49bfc94d": {
      "model_module": "@jupyter-widgets/base",
      "model_module_version": "1.2.0",
      "model_name": "LayoutModel",
      "state": {
       "display": "flex"
      }
     },
     "1e58458193f6441f98e104127b4ce9c5": {
      "model_module": "@jupyter-widgets/controls",
      "model_module_version": "1.5.0",
      "model_name": "ButtonStyleModel",
      "state": {}
     },
     "1e92ca0e72ee4845a37899f3715aa61a": {
      "model_module": "@jupyter-widgets/controls",
      "model_module_version": "1.5.0",
      "model_name": "VBoxModel",
      "state": {
       "children": [
        "IPY_MODEL_933e7f9f6c1c45d093ca5744a8c0986b",
        "IPY_MODEL_50ab3d0e8e20410fbffa6e99d3c328de",
        "IPY_MODEL_f01633c3c7e4446987fca53bbd56b578",
        "IPY_MODEL_fea944c9acba49248c4fb2226d8a0dd8",
        "IPY_MODEL_be2cbd569b0e4a968299b8fb93cade0a",
        "IPY_MODEL_3cce56fd0b9a475181a7d06812361891"
       ],
       "layout": "IPY_MODEL_b61906182ff541cfa7e4f4cff8d51294"
      }
     },
     "1ea5451b03824616a0909799a551155f": {
      "model_module": "@jupyter-widgets/controls",
      "model_module_version": "1.5.0",
      "model_name": "DescriptionStyleModel",
      "state": {
       "description_width": ""
      }
     },
     "1ecb4c4c92ce42909df7891b9544aa08": {
      "model_module": "@jupyter-widgets/controls",
      "model_module_version": "1.5.0",
      "model_name": "HBoxModel",
      "state": {
       "children": [
        "IPY_MODEL_c7a1b38e51c4474f8ac69c634f9b1332",
        "IPY_MODEL_837054ebd6274b548498a87c7d0ba215"
       ],
       "layout": "IPY_MODEL_c075f6d74e9d4a099e70eeaa2a6f18a4"
      }
     },
     "1f81658bbabb46928bb93976e4ac5e34": {
      "model_module": "@jupyter-widgets/base",
      "model_module_version": "1.2.0",
      "model_name": "LayoutModel",
      "state": {
       "border": "3px solid white",
       "display": "flex",
       "flex": "1 1 0%",
       "margin": "10px",
       "min_width": "400px",
       "overflow": "visible",
       "padding": "10px",
       "width": "auto"
      }
     },
     "1f8b142994504df9b98a40b46a5ba8b1": {
      "model_module": "@jupyter-widgets/controls",
      "model_module_version": "1.5.0",
      "model_name": "LabelModel",
      "state": {
       "layout": "IPY_MODEL_fd575ed0391b4407a96ab921c37a4cdf",
       "style": "IPY_MODEL_97058087d9724d0b8696515cee0936ed",
       "value": "    Crests recovered (16/25)"
      }
     },
     "20434c1b193741159fcc92a58ba42ef0": {
      "model_module": "@jupyter-widgets/controls",
      "model_module_version": "1.5.0",
      "model_name": "HBoxModel",
      "state": {
       "children": [
        "IPY_MODEL_893762b1055a428189abd002a9feff4d",
        "IPY_MODEL_1ce1492155874b878d0242c466cd2784",
        "IPY_MODEL_6f404a03fcbc4211b9a4f626d8c1e044",
        "IPY_MODEL_1adfb72b176c4377acf98e3832048448"
       ],
       "layout": "IPY_MODEL_19dd8a810ecf4d9686529746b8702df2"
      }
     },
     "204699339424466d9c9f2349f072bfbe": {
      "model_module": "@jupyter-widgets/controls",
      "model_module_version": "1.5.0",
      "model_name": "HTMLModel",
      "state": {
       "layout": "IPY_MODEL_db433b8373b14295ab721b1133d35ddf",
       "style": "IPY_MODEL_df7d92d3d43d4489b2d4bdc2a5d80312",
       "value": "<font size=\"1\">Triumphs/Crucible/Mastery/Weapons/Submachine Gun Mastery</font size=>"
      }
     },
     "204d358653e743018c21de12a99f8baf": {
      "model_module": "@jupyter-widgets/base",
      "model_module_version": "1.2.0",
      "model_name": "LayoutModel",
      "state": {
       "display": "none",
       "width": "60px"
      }
     },
     "205e26d99aab4bf6a60b1a4e9fa0d359": {
      "model_module": "@jupyter-widgets/controls",
      "model_module_version": "1.5.0",
      "model_name": "DescriptionStyleModel",
      "state": {
       "description_width": ""
      }
     },
     "205f40a85f764baab87c1048fd5383dc": {
      "model_module": "@jupyter-widgets/base",
      "model_module_version": "1.2.0",
      "model_name": "LayoutModel",
      "state": {
       "height": "32px",
       "order": "-2",
       "width": "32px"
      }
     },
     "206a16d5df7f4ff195ab38d9dafbac33": {
      "model_module": "@jupyter-widgets/controls",
      "model_module_version": "1.5.0",
      "model_name": "ButtonModel",
      "state": {
       "button_style": "success",
       "disabled": true,
       "layout": "IPY_MODEL_4fd0e928e1dc433bb2f45bc969244eec",
       "style": "IPY_MODEL_34ef2e2295544a28a0544f638ad19ccf"
      }
     },
     "20914e65d9594d4591efdd36aaded898": {
      "model_module": "@jupyter-widgets/controls",
      "model_module_version": "1.5.0",
      "model_name": "ProgressStyleModel",
      "state": {
       "description_width": ""
      }
     },
     "20c2165c8d0d45a498b5b1d8acb8e1ea": {
      "model_module": "@jupyter-widgets/base",
      "model_module_version": "1.2.0",
      "model_name": "LayoutModel",
      "state": {}
     },
     "20e3493f4e92457a80c3b926cc502682": {
      "model_module": "@jupyter-widgets/controls",
      "model_module_version": "1.5.0",
      "model_name": "ButtonModel",
      "state": {
       "description": "EDIT",
       "layout": "IPY_MODEL_4c53fd442ed84791ad7d9a2b534e5f73",
       "style": "IPY_MODEL_72000fa88ce74ae19a27395aa0928edf"
      }
     },
     "20f86360721a419ba9a33ec7f5675836": {
      "model_module": "@jupyter-widgets/controls",
      "model_module_version": "1.5.0",
      "model_name": "DescriptionStyleModel",
      "state": {
       "description_width": ""
      }
     },
     "21035701dce049aea443bec4b627ec36": {
      "model_module": "@jupyter-widgets/controls",
      "model_module_version": "1.5.0",
      "model_name": "ProgressStyleModel",
      "state": {
       "description_width": ""
      }
     },
     "2105d60a252c42a38b29d72078278dd4": {
      "model_module": "@jupyter-widgets/base",
      "model_module_version": "1.2.0",
      "model_name": "LayoutModel",
      "state": {
       "display": "none",
       "width": "60px"
      }
     },
     "21100bf83ab14397ab9745cb2a859124": {
      "model_module": "@jupyter-widgets/controls",
      "model_module_version": "1.5.0",
      "model_name": "ButtonModel",
      "state": {
       "description": "EDIT",
       "layout": "IPY_MODEL_f01c6b76529b411e82f2742ec0187837",
       "style": "IPY_MODEL_8ae7652b25374dbab2e41d4f47cbfd52"
      }
     },
     "216e3a6a519c48878775954cf44cecfc": {
      "model_module": "@jupyter-widgets/base",
      "model_module_version": "1.2.0",
      "model_name": "LayoutModel",
      "state": {
       "width": "186px"
      }
     },
     "21c4d7cb8a434111a788c0e709198a2c": {
      "model_module": "@jupyter-widgets/controls",
      "model_module_version": "1.5.0",
      "model_name": "ButtonStyleModel",
      "state": {}
     },
     "21c9c74dde5c4e9a9a8b9c4a932e32ad": {
      "model_module": "@jupyter-widgets/controls",
      "model_module_version": "1.5.0",
      "model_name": "LabelModel",
      "state": {
       "layout": "IPY_MODEL_9931212f40a047cb92de8988fab9a457",
       "style": "IPY_MODEL_a9b02fd88b994a8a91545c3e9def2a30",
       "value": "   objective"
      }
     },
     "21cf973850dd43189f382cb969afce25": {
      "model_module": "@jupyter-widgets/base",
      "model_module_version": "1.2.0",
      "model_name": "LayoutModel",
      "state": {
       "display": "none",
       "width": "60px"
      }
     },
     "22320cae9e6e4f21b22ef314b632f8b3": {
      "model_module": "@jupyter-widgets/controls",
      "model_module_version": "1.5.0",
      "model_name": "ButtonStyleModel",
      "state": {}
     },
     "22869869ad35416f9c0783a0f3149b65": {
      "model_module": "@jupyter-widgets/controls",
      "model_module_version": "1.5.0",
      "model_name": "ButtonModel",
      "state": {
       "description": "EDIT",
       "layout": "IPY_MODEL_6a61bcd83a534805b9ca40e8a2657f6d",
       "style": "IPY_MODEL_f7529e68abf4434c92ebdbccb4a3ec3d"
      }
     },
     "22b0b53ff5fc4bf8ae1a91be24cfcb76": {
      "model_module": "@jupyter-widgets/controls",
      "model_module_version": "1.5.0",
      "model_name": "DescriptionStyleModel",
      "state": {
       "description_width": ""
      }
     },
     "22cf761cd28340479f0e8c12bffbcaca": {
      "model_module": "@jupyter-widgets/base",
      "model_module_version": "1.2.0",
      "model_name": "LayoutModel",
      "state": {
       "order": "-1",
       "overflow": "visible",
       "padding": "1px",
       "width": "0px"
      }
     },
     "22d7ab41a69e45889f23b60224f0ba0a": {
      "model_module": "@jupyter-widgets/base",
      "model_module_version": "1.2.0",
      "model_name": "LayoutModel",
      "state": {
       "display": "none"
      }
     },
     "22f66e6725914380810f2c84bf7fa316": {
      "model_module": "@jupyter-widgets/controls",
      "model_module_version": "1.5.0",
      "model_name": "HBoxModel",
      "state": {
       "children": [
        "IPY_MODEL_813a8294259341d1a8decb9007e45ebc",
        "IPY_MODEL_6b111044b12142088b8b40214bd67529"
       ],
       "layout": "IPY_MODEL_eb56fe2576a54081bd7dedfcb4e09032"
      }
     },
     "22fd8e81a71b4170b171ac29e39bf618": {
      "model_module": "@jupyter-widgets/controls",
      "model_module_version": "1.5.0",
      "model_name": "ButtonModel",
      "state": {
       "layout": "IPY_MODEL_301a26c7e80343dd980f1b28759f3be8",
       "style": "IPY_MODEL_3fcba08112cd4e9f9b89675f1d440dbc"
      }
     },
     "236574777b2d481e9c7f78ed045e01ee": {
      "model_module": "@jupyter-widgets/controls",
      "model_module_version": "1.5.0",
      "model_name": "ButtonModel",
      "state": {
       "button_style": "success",
       "disabled": true,
       "layout": "IPY_MODEL_7aed720ab0ae495a8fe1199344efdf75",
       "style": "IPY_MODEL_d69e09497e484292b33f814fd8adaf2f"
      }
     },
     "23d1d94a4f8a4c3eb741c1d7597b7061": {
      "model_module": "@jupyter-widgets/controls",
      "model_module_version": "1.5.0",
      "model_name": "ButtonStyleModel",
      "state": {}
     },
     "23d71f8233bc4f43b1504040a9afbbc3": {
      "model_module": "@jupyter-widgets/controls",
      "model_module_version": "1.5.0",
      "model_name": "ButtonStyleModel",
      "state": {}
     },
     "240e02acc2bb4812af450a2f1135fe13": {
      "model_module": "@jupyter-widgets/controls",
      "model_module_version": "1.5.0",
      "model_name": "LabelModel",
      "state": {
       "layout": "IPY_MODEL_02b994105d324ecdb3a3e7453037dcef",
       "style": "IPY_MODEL_1ea5451b03824616a0909799a551155f",
       "value": "    Medals earned (9/1)"
      }
     },
     "243c6cffdf6745b5861216ce29cfe7dc": {
      "model_module": "@jupyter-widgets/base",
      "model_module_version": "1.2.0",
      "model_name": "LayoutModel",
      "state": {
       "height": "32px",
       "order": "-2",
       "width": "32px"
      }
     },
     "24526a4a02a5412f873f4dbbac9cee33": {
      "model_module": "@jupyter-widgets/controls",
      "model_module_version": "1.5.0",
      "model_name": "DescriptionStyleModel",
      "state": {
       "description_width": ""
      }
     },
     "2454d770da4c414593afac4c2878b916": {
      "model_module": "@jupyter-widgets/controls",
      "model_module_version": "1.5.0",
      "model_name": "HBoxModel",
      "state": {
       "children": [
        "IPY_MODEL_148764423a42431c8cf77e1adb9f24b2",
        "IPY_MODEL_946350cfa7844c64a1685859849f924c",
        "IPY_MODEL_b989c2815aee4ab9bd2cd8db944f6fd2",
        "IPY_MODEL_80fffa6ae9d149319d90e5cb4f31d08b"
       ],
       "layout": "IPY_MODEL_b3ff1f86a1bb40d2a37db8975be36ee2"
      }
     },
     "248e7632a3e04f14a4489df4684c3d66": {
      "model_module": "@jupyter-widgets/base",
      "model_module_version": "1.2.0",
      "model_name": "LayoutModel",
      "state": {
       "overflow": "visible",
       "width": "100%"
      }
     },
     "24d73d2c011141b6b4b71829d4751bda": {
      "model_module": "@jupyter-widgets/controls",
      "model_module_version": "1.5.0",
      "model_name": "LabelModel",
      "state": {
       "layout": "IPY_MODEL_b72461d5fe2f432ba52798a2659a7e43",
       "style": "IPY_MODEL_ea15e0c731884364b18538b1106dcbde",
       "value": "   objective"
      }
     },
     "24db22eedb7645ef9508e528757e337e": {
      "model_module": "@jupyter-widgets/controls",
      "model_module_version": "1.5.0",
      "model_name": "ButtonModel",
      "state": {
       "description": "EDIT",
       "layout": "IPY_MODEL_b09312ed125b4d2daeec76e5beeb3971",
       "style": "IPY_MODEL_647fb0ce46d142eebcbcf44693255bd4"
      }
     },
     "24fc52f28e5a414d8ff3d33700a6207c": {
      "model_module": "@jupyter-widgets/base",
      "model_module_version": "1.2.0",
      "model_name": "LayoutModel",
      "state": {
       "display": "none",
       "width": "60px"
      }
     },
     "250f8a705c5b41e9a4c6081321263d7d": {
      "model_module": "@jupyter-widgets/controls",
      "model_module_version": "1.5.0",
      "model_name": "ButtonModel",
      "state": {
       "layout": "IPY_MODEL_e1d2ff8d1eb94232ae1c87acf677000a",
       "style": "IPY_MODEL_e02534482f52475aae76699237fa3678"
      }
     },
     "2598996bab3b4f9aae4fcd151604c2bb": {
      "model_module": "@jupyter-widgets/base",
      "model_module_version": "1.2.0",
      "model_name": "LayoutModel",
      "state": {
       "height": "32px",
       "order": "-2",
       "width": "32px"
      }
     },
     "259e7d53fe304fa1a5572b4671f81a3c": {
      "model_module": "@jupyter-widgets/controls",
      "model_module_version": "1.5.0",
      "model_name": "HBoxModel",
      "state": {
       "children": [
        "IPY_MODEL_7f8a36e16f3c4125ae60ed7a469a72f3",
        "IPY_MODEL_9cfc5dd209fa4106880f14cbfe138d7d",
        "IPY_MODEL_5381db64963d4f54bf210ee9211909bd",
        "IPY_MODEL_00f24c65081d43a4bf93bf06f8fe0965"
       ],
       "layout": "IPY_MODEL_9255d7b164ca46a3b48882a35a83eda4"
      }
     },
     "25a2c2ec0219464fa55233e7ccad21d9": {
      "model_module": "@jupyter-widgets/controls",
      "model_module_version": "1.5.0",
      "model_name": "IntProgressModel",
      "state": {
       "layout": "IPY_MODEL_fc6c46dc16ee4d17b8e4a1bfdcdc7474",
       "style": "IPY_MODEL_9ab84ac95f01446bad9cbe2c16582f03",
       "value": 30
      }
     },
     "260a0367df784dc6bf60b80ff225b30f": {
      "model_module": "@jupyter-widgets/base",
      "model_module_version": "1.2.0",
      "model_name": "LayoutModel",
      "state": {}
     },
     "2681be5514cd4ace8068f895cfb729e2": {
      "model_module": "@jupyter-widgets/controls",
      "model_module_version": "1.5.0",
      "model_name": "HTMLModel",
      "state": {
       "layout": "IPY_MODEL_163cbd0070e549239e72bbeeeee26587",
       "style": "IPY_MODEL_f353f07e8a31453fa6168046aad3bbeb",
       "value": "<i>Collect the Iron Remembrance armor set in Season 4, complete matches, and defeat opponents while the full set is equipped.</i>"
      }
     },
     "268ffbf161ae4fc7a753c67e1d344213": {
      "model_module": "@jupyter-widgets/controls",
      "model_module_version": "1.5.0",
      "model_name": "IntProgressModel",
      "state": {
       "layout": "IPY_MODEL_46f4c1f4aec0418eaa0c697aee0cf486",
       "style": "IPY_MODEL_7f81e42396174ca5be2f1daa3b08d334",
       "value": 30
      }
     },
     "26c74d6b12b04a6a84f8587e42accadb": {
      "model_module": "@jupyter-widgets/controls",
      "model_module_version": "1.5.0",
      "model_name": "HTMLModel",
      "state": {
       "layout": "IPY_MODEL_425c4f9bd53441e2a777081909d49ca6",
       "style": "IPY_MODEL_0827b36a5a7a4c41b40852aecc9c53c6",
       "value": "<font size=\"1\">Triumphs/Crucible/Medals/Iron Banner/Gone to Ground</font size=>"
      }
     },
     "270253bebbf14fb48705d3285e510099": {
      "model_module": "@jupyter-widgets/controls",
      "model_module_version": "1.5.0",
      "model_name": "ProgressStyleModel",
      "state": {
       "description_width": ""
      }
     },
     "2714d159b9574a6c8d1692c30faf19c8": {
      "model_module": "@jupyter-widgets/base",
      "model_module_version": "1.2.0",
      "model_name": "LayoutModel",
      "state": {
       "order": "-1",
       "overflow": "visible",
       "padding": "1px",
       "width": "0px"
      }
     },
     "2785eee90df64c62b2c79607d65cffe6": {
      "model_module": "@jupyter-widgets/base",
      "model_module_version": "1.2.0",
      "model_name": "LayoutModel",
      "state": {}
     },
     "2858de35254848cdbdd5d603f2ec3e7d": {
      "model_module": "@jupyter-widgets/controls",
      "model_module_version": "1.5.0",
      "model_name": "HTMLModel",
      "state": {
       "layout": "IPY_MODEL_47ff389736764849af999e3ad6dcf99a",
       "style": "IPY_MODEL_0f548ead22974856bbb9a2c412d7f73f",
       "value": "<i>Earn Valor ranks in Season 6.</i>"
      }
     },
     "28a7700aa0cc4b6697ac757a67094012": {
      "model_module": "@jupyter-widgets/base",
      "model_module_version": "1.2.0",
      "model_name": "LayoutModel",
      "state": {
       "display": "none"
      }
     },
     "28b0fb44da5044f297a62bc1aecfcd3b": {
      "model_module": "@jupyter-widgets/controls",
      "model_module_version": "1.5.0",
      "model_name": "ButtonModel",
      "state": {
       "layout": "IPY_MODEL_0ba89da1396743faa873f4dc2aab2746",
       "style": "IPY_MODEL_72402a31c713461cac67da522fbcb1f7"
      }
     },
     "28d6873e62a1485c939d11ee21b86e80": {
      "model_module": "@jupyter-widgets/base",
      "model_module_version": "1.2.0",
      "model_name": "LayoutModel",
      "state": {
       "order": "-1",
       "overflow": "visible",
       "padding": "1px",
       "width": "0px"
      }
     },
     "28ff412c595543339a119d3140b6aec0": {
      "model_module": "@jupyter-widgets/controls",
      "model_module_version": "1.5.0",
      "model_name": "ButtonModel",
      "state": {
       "layout": "IPY_MODEL_9258210a268849b0a386be28b81c852c",
       "style": "IPY_MODEL_96153f901b214c9ab956122906891466"
      }
     },
     "2955abf4551148f1b01c0bd155da5f46": {
      "model_module": "@jupyter-widgets/base",
      "model_module_version": "1.2.0",
      "model_name": "LayoutModel",
      "state": {
       "height": "32px",
       "order": "-2",
       "width": "32px"
      }
     },
     "29a2c6dc9d0946fcb9945847cb3214b5": {
      "model_module": "@jupyter-widgets/controls",
      "model_module_version": "1.5.0",
      "model_name": "DescriptionStyleModel",
      "state": {
       "description_width": ""
      }
     },
     "29b8b57eb2ae4edb87e795235edc9ef6": {
      "model_module": "@jupyter-widgets/controls",
      "model_module_version": "1.5.0",
      "model_name": "IntProgressModel",
      "state": {
       "layout": "IPY_MODEL_d2f872a69c3846468c72c6a6cbe2f91a",
       "style": "IPY_MODEL_b1fc7ce2a7954931920363adbe75045d",
       "value": 30
      }
     },
     "29dce37bec14430ab57eac13f6b74a99": {
      "model_module": "@jupyter-widgets/base",
      "model_module_version": "1.2.0",
      "model_name": "LayoutModel",
      "state": {
       "order": "-1",
       "overflow": "visible",
       "padding": "1px",
       "width": "0px"
      }
     },
     "2a08ced812ce449889e962c225b35b1b": {
      "model_module": "@jupyter-widgets/controls",
      "model_module_version": "1.5.0",
      "model_name": "DescriptionStyleModel",
      "state": {
       "description_width": ""
      }
     },
     "2a1ed7a3d1264f4bbb6380f73bb02a23": {
      "model_module": "@jupyter-widgets/base",
      "model_module_version": "1.2.0",
      "model_name": "LayoutModel",
      "state": {
       "width": "100%"
      }
     },
     "2a332f7509b14ee3b6cc33c4aaab789c": {
      "model_module": "@jupyter-widgets/controls",
      "model_module_version": "1.5.0",
      "model_name": "IntProgressModel",
      "state": {
       "bar_style": "success",
       "layout": "IPY_MODEL_525be4f92bdb4e02914c41a289612e24",
       "max": 1,
       "style": "IPY_MODEL_dac9f67ec9624740bf5ecf4349bec839",
       "value": 1
      }
     },
     "2a4fcf8bb5b440be87972e6ebb207bd6": {
      "model_module": "@jupyter-widgets/base",
      "model_module_version": "1.2.0",
      "model_name": "LayoutModel",
      "state": {
       "order": "-1",
       "overflow": "visible",
       "padding": "1px",
       "width": "0px"
      }
     },
     "2a9713fa8a09456680540b098fadd200": {
      "model_module": "@jupyter-widgets/base",
      "model_module_version": "1.2.0",
      "model_name": "LayoutModel",
      "state": {
       "height": "20px"
      }
     },
     "2ab4ac6b6e0348209896113ed51a2848": {
      "model_module": "@jupyter-widgets/base",
      "model_module_version": "1.2.0",
      "model_name": "LayoutModel",
      "state": {
       "height": "32px",
       "overflow": "visible",
       "width": "100%"
      }
     },
     "2ac609a254454aea84a728abf15f3177": {
      "model_module": "@jupyter-widgets/base",
      "model_module_version": "1.2.0",
      "model_name": "LayoutModel",
      "state": {
       "height": "32px",
       "overflow": "visible",
       "width": "100%"
      }
     },
     "2afca789748c48b3b51861beafe38b49": {
      "model_module": "@jupyter-widgets/controls",
      "model_module_version": "1.5.0",
      "model_name": "DescriptionStyleModel",
      "state": {
       "description_width": ""
      }
     },
     "2b32177a8d8a4892bbabbb47422257cd": {
      "model_module": "@jupyter-widgets/base",
      "model_module_version": "1.2.0",
      "model_name": "LayoutModel",
      "state": {
       "height": "32px",
       "overflow": "visible",
       "width": "100%"
      }
     },
     "2b4ba0c2ae484abfb69c7b7ff67cf759": {
      "model_module": "@jupyter-widgets/controls",
      "model_module_version": "1.5.0",
      "model_name": "ButtonStyleModel",
      "state": {}
     },
     "2b4c2c49a9074893a353767b15247064": {
      "model_module": "@jupyter-widgets/base",
      "model_module_version": "1.2.0",
      "model_name": "LayoutModel",
      "state": {
       "display": "none"
      }
     },
     "2b699af0d43e44e293094c3a59b4ca13": {
      "model_module": "@jupyter-widgets/controls",
      "model_module_version": "1.5.0",
      "model_name": "HTMLModel",
      "state": {
       "layout": "IPY_MODEL_05573ce4e27b4a359544f3df2e11d15c",
       "style": "IPY_MODEL_7817feba07834cf6ba84ca2a749ab8d1",
       "value": "<font size=\"1\">Triumphs/Crucible/Medals/Iron Banner/Lord of the Hunt</font size=>"
      }
     },
     "2b72629af4154eb599328a90dfa6ca8c": {
      "model_module": "@jupyter-widgets/controls",
      "model_module_version": "1.5.0",
      "model_name": "DescriptionStyleModel",
      "state": {
       "description_width": ""
      }
     },
     "2b87ce30f8414da2a4a62ac40e947db9": {
      "model_module": "@jupyter-widgets/base",
      "model_module_version": "1.2.0",
      "model_name": "LayoutModel",
      "state": {
       "height": "32px",
       "order": "-2",
       "width": "32px"
      }
     },
     "2b8b629588c14070a8705465b8a1adf5": {
      "model_module": "@jupyter-widgets/base",
      "model_module_version": "1.2.0",
      "model_name": "LayoutModel",
      "state": {
       "display": "none",
       "width": "60px"
      }
     },
     "2bdb5213ebe140468fa7b26304bf78ec": {
      "model_module": "@jupyter-widgets/controls",
      "model_module_version": "1.5.0",
      "model_name": "ButtonStyleModel",
      "state": {}
     },
     "2c2f7b2a984248778c3c3dd01acd1f38": {
      "model_module": "@jupyter-widgets/controls",
      "model_module_version": "1.5.0",
      "model_name": "LabelModel",
      "state": {
       "layout": "IPY_MODEL_85b5087c364b4a749fd87c3e99a5a7c0",
       "style": "IPY_MODEL_096a300f0e1c472d9a025a4d77e2c5a5",
       "value": "    Matches completed (6/5)"
      }
     },
     "2c3f93cba0a648c4a3af3d9987807ead": {
      "model_module": "@jupyter-widgets/base",
      "model_module_version": "1.2.0",
      "model_name": "LayoutModel",
      "state": {
       "border": "3px solid white",
       "display": "flex",
       "flex": "1 1 0%",
       "margin": "10px",
       "min_width": "400px",
       "overflow": "visible",
       "padding": "10px",
       "width": "auto"
      }
     },
     "2c709d03eec64deaaec6461e9402e546": {
      "model_module": "@jupyter-widgets/controls",
      "model_module_version": "1.5.0",
      "model_name": "ProgressStyleModel",
      "state": {
       "description_width": ""
      }
     },
     "2c8ab60575d04135bc4fdc8e37d6c186": {
      "model_module": "@jupyter-widgets/controls",
      "model_module_version": "1.5.0",
      "model_name": "ProgressStyleModel",
      "state": {
       "description_width": ""
      }
     },
     "2c8c6983cfcc40d98e97cee9053fe6f3": {
      "model_module": "@jupyter-widgets/base",
      "model_module_version": "1.2.0",
      "model_name": "LayoutModel",
      "state": {
       "display": "flex",
       "flex_flow": "row wrap"
      }
     },
     "2ca2ad7ce27446078c64dcea9cef3624": {
      "model_module": "@jupyter-widgets/controls",
      "model_module_version": "1.5.0",
      "model_name": "ButtonStyleModel",
      "state": {}
     },
     "2cae062f674842748246c7410a1f7a8a": {
      "model_module": "@jupyter-widgets/base",
      "model_module_version": "1.2.0",
      "model_name": "LayoutModel",
      "state": {
       "display": "flex"
      }
     },
     "2cce6bc2134b4c80b258008e41bf8f7c": {
      "model_module": "@jupyter-widgets/base",
      "model_module_version": "1.2.0",
      "model_name": "LayoutModel",
      "state": {
       "display": "none",
       "width": "60px"
      }
     },
     "2d6b4781d43a4a38a232d050e0ce6205": {
      "model_module": "@jupyter-widgets/controls",
      "model_module_version": "1.5.0",
      "model_name": "ButtonModel",
      "state": {
       "description": "EDIT",
       "layout": "IPY_MODEL_0cfd0acd365a4912a1dcaf8da93488db",
       "style": "IPY_MODEL_c1e2f7b0cb4f4ee1ac484c93b96fbf61"
      }
     },
     "2d6ff6b946064462b5dbe322111f8e8d": {
      "model_module": "@jupyter-widgets/base",
      "model_module_version": "1.2.0",
      "model_name": "LayoutModel",
      "state": {
       "overflow": "visible",
       "width": "100%"
      }
     },
     "2dac4b4fa66342a7a4b5d4e89e430a54": {
      "model_module": "@jupyter-widgets/base",
      "model_module_version": "1.2.0",
      "model_name": "LayoutModel",
      "state": {
       "height": "32px",
       "order": "-2",
       "width": "32px"
      }
     },
     "2dae0e2ddace40aa9e9fa2999fcef639": {
      "model_module": "@jupyter-widgets/base",
      "model_module_version": "1.2.0",
      "model_name": "LayoutModel",
      "state": {
       "order": "-1",
       "overflow": "visible",
       "padding": "1px",
       "width": "0px"
      }
     },
     "2e182c17c6254aa386fc95bddab8cf2f": {
      "model_module": "@jupyter-widgets/base",
      "model_module_version": "1.2.0",
      "model_name": "LayoutModel",
      "state": {
       "order": "-1",
       "overflow": "visible",
       "padding": "1px",
       "width": "0px"
      }
     },
     "2e19318202d449de8e80d49b126556d4": {
      "model_module": "@jupyter-widgets/controls",
      "model_module_version": "1.5.0",
      "model_name": "ButtonStyleModel",
      "state": {}
     },
     "2e4625430aa94e498e0312c6cccd4c24": {
      "model_module": "@jupyter-widgets/base",
      "model_module_version": "1.2.0",
      "model_name": "LayoutModel",
      "state": {
       "height": "32px",
       "overflow": "visible",
       "width": "100%"
      }
     },
     "2e7c486d5f6946019dd5956b73e2c11d": {
      "model_module": "@jupyter-widgets/base",
      "model_module_version": "1.2.0",
      "model_name": "LayoutModel",
      "state": {
       "display": "none"
      }
     },
     "2ee4253a5a49449c9bd096faebcf0baf": {
      "model_module": "@jupyter-widgets/base",
      "model_module_version": "1.2.0",
      "model_name": "LayoutModel",
      "state": {
       "display": "none",
       "width": "60px"
      }
     },
     "2f09dc82f7d543a094b5dab68278d6ee": {
      "model_module": "@jupyter-widgets/controls",
      "model_module_version": "1.5.0",
      "model_name": "ProgressStyleModel",
      "state": {
       "description_width": ""
      }
     },
     "2f415169f228424fb6495ea63a21f043": {
      "model_module": "@jupyter-widgets/base",
      "model_module_version": "1.2.0",
      "model_name": "LayoutModel",
      "state": {
       "height": "32px",
       "order": "-2",
       "width": "32px"
      }
     },
     "2f447cf8ba654247a65216cf4accf9ea": {
      "model_module": "@jupyter-widgets/controls",
      "model_module_version": "1.5.0",
      "model_name": "ButtonStyleModel",
      "state": {}
     },
     "2f4f91a81a2844c6b0dfc83d9913f554": {
      "model_module": "@jupyter-widgets/controls",
      "model_module_version": "1.5.0",
      "model_name": "ButtonStyleModel",
      "state": {}
     },
     "2f62c35c87544d90a9e387226f8ce53a": {
      "model_module": "@jupyter-widgets/controls",
      "model_module_version": "1.5.0",
      "model_name": "ButtonModel",
      "state": {
       "description": "EDIT",
       "layout": "IPY_MODEL_d901aa7ee130489d8e34bec9a0546cb6",
       "style": "IPY_MODEL_d459652b32be4de580a44abccf4da254"
      }
     },
     "2f65c7ebecca4130bdbbfa4185783782": {
      "model_module": "@jupyter-widgets/base",
      "model_module_version": "1.2.0",
      "model_name": "LayoutModel",
      "state": {
       "border": "3px solid white",
       "display": "flex",
       "flex": "1 1 0%",
       "margin": "10px",
       "min_width": "400px",
       "overflow": "visible",
       "padding": "10px",
       "width": "auto"
      }
     },
     "2f6fdf3e946c49129385f2e0f403a6d8": {
      "model_module": "@jupyter-widgets/base",
      "model_module_version": "1.2.0",
      "model_name": "LayoutModel",
      "state": {
       "display": "none",
       "width": "60px"
      }
     },
     "2fd852ec53ba43ea84839e7714e204c6": {
      "model_module": "@jupyter-widgets/controls",
      "model_module_version": "1.5.0",
      "model_name": "DescriptionStyleModel",
      "state": {
       "description_width": ""
      }
     },
     "2ff33b3b7ea9465ab21f42b3ecb61120": {
      "model_module": "@jupyter-widgets/controls",
      "model_module_version": "1.5.0",
      "model_name": "ButtonModel",
      "state": {
       "description": "EDIT",
       "layout": "IPY_MODEL_d13c6ff6b64b48eda6bba0b4a496cd25",
       "style": "IPY_MODEL_c5729f87fe75405dbe2b1417c7babd75"
      }
     },
     "2ff85572913f409bab07c02d7badc2c2": {
      "model_module": "@jupyter-widgets/controls",
      "model_module_version": "1.5.0",
      "model_name": "ButtonStyleModel",
      "state": {}
     },
     "301251161cb140bc875db24291a9ad42": {
      "model_module": "@jupyter-widgets/base",
      "model_module_version": "1.2.0",
      "model_name": "LayoutModel",
      "state": {
       "order": "-1",
       "overflow": "visible",
       "padding": "1px",
       "width": "0px"
      }
     },
     "301a26c7e80343dd980f1b28759f3be8": {
      "model_module": "@jupyter-widgets/base",
      "model_module_version": "1.2.0",
      "model_name": "LayoutModel",
      "state": {
       "height": "32px",
       "order": "-2",
       "width": "32px"
      }
     },
     "302bb81b7c8e4396a64f6733eed7bf3a": {
      "model_module": "@jupyter-widgets/controls",
      "model_module_version": "1.5.0",
      "model_name": "HBoxModel",
      "state": {
       "children": [
        "IPY_MODEL_32b556a0f71147369c27dbffc0e4e3af",
        "IPY_MODEL_0d2ddc55757b4fc28b1736d12c3a3722",
        "IPY_MODEL_127631b02bd544e1bfa5af384cdd73d9",
        "IPY_MODEL_4673f71fa2bb4bb1bef95a5a7fc5e703"
       ],
       "layout": "IPY_MODEL_6e2159d5051441beb03522aca134a7db"
      }
     },
     "304ff65a61e8431abc80ad7a1ce97b2c": {
      "model_module": "@jupyter-widgets/controls",
      "model_module_version": "1.5.0",
      "model_name": "ProgressStyleModel",
      "state": {
       "description_width": ""
      }
     },
     "30c96e4958634307827254df2c34a7b6": {
      "model_module": "@jupyter-widgets/controls",
      "model_module_version": "1.5.0",
      "model_name": "ProgressStyleModel",
      "state": {
       "description_width": ""
      }
     },
     "30d1d1de8b144cb199ba75dd63bd7746": {
      "model_module": "@jupyter-widgets/base",
      "model_module_version": "1.2.0",
      "model_name": "LayoutModel",
      "state": {
       "display": "none",
       "width": "60px"
      }
     },
     "30d2b57170c44aa9863e51a46547c5e7": {
      "model_module": "@jupyter-widgets/controls",
      "model_module_version": "1.5.0",
      "model_name": "HTMLModel",
      "state": {
       "layout": "IPY_MODEL_d6b5314ab75c41c08f1fb7e8369af56e",
       "style": "IPY_MODEL_d0b94ac176e24e91965f2bc70f5b81c3",
       "value": "<font size=\"1\">Triumphs/Crucible/Lifetime/Combat Record/Season 4: Challenges</font size=>"
      }
     },
     "30e698aa864e4b828f346052e388b644": {
      "model_module": "@jupyter-widgets/controls",
      "model_module_version": "1.5.0",
      "model_name": "ProgressStyleModel",
      "state": {
       "description_width": ""
      }
     },
     "314245f039c94c1fb96b1efd0d025005": {
      "model_module": "@jupyter-widgets/base",
      "model_module_version": "1.2.0",
      "model_name": "LayoutModel",
      "state": {
       "order": "-1",
       "overflow": "visible",
       "padding": "1px",
       "width": "0px"
      }
     },
     "318960a71a6e42a79e7cd39ef670004c": {
      "model_module": "@jupyter-widgets/base",
      "model_module_version": "1.2.0",
      "model_name": "LayoutModel",
      "state": {
       "display": "none"
      }
     },
     "3208efb97bb54451b82bb6c043ce373f": {
      "model_module": "@jupyter-widgets/controls",
      "model_module_version": "1.5.0",
      "model_name": "ButtonStyleModel",
      "state": {}
     },
     "32189b97c1b143378f642ed8b24856ef": {
      "model_module": "@jupyter-widgets/controls",
      "model_module_version": "1.5.0",
      "model_name": "HBoxModel",
      "state": {
       "children": [
        "IPY_MODEL_c77e360d947f46e999af9bc5a61c75be",
        "IPY_MODEL_3db2a0fea9a64984b4bef1d65124ebf0",
        "IPY_MODEL_a649c73439024b8ca23588c1cb648ede",
        "IPY_MODEL_22869869ad35416f9c0783a0f3149b65"
       ],
       "layout": "IPY_MODEL_4ed67d38d46c4e47a76ee54be4e9892f"
      }
     },
     "325b10c9328a4ad4a24e201b01ae41cb": {
      "model_module": "@jupyter-widgets/base",
      "model_module_version": "1.2.0",
      "model_name": "LayoutModel",
      "state": {
       "display": "flex"
      }
     },
     "32b556a0f71147369c27dbffc0e4e3af": {
      "model_module": "@jupyter-widgets/controls",
      "model_module_version": "1.5.0",
      "model_name": "ButtonModel",
      "state": {
       "layout": "IPY_MODEL_454842c172ec4a9fad19258243cbc4dd",
       "style": "IPY_MODEL_f19814ebf15d43018c685fd2b76d8721"
      }
     },
     "32f464be94834144939f7a82d89ceb2f": {
      "model_module": "@jupyter-widgets/base",
      "model_module_version": "1.2.0",
      "model_name": "LayoutModel",
      "state": {
       "order": "-1",
       "overflow": "visible",
       "padding": "1px",
       "width": "0px"
      }
     },
     "3311e2b31a5a4531827f0d5cbcddf7dd": {
      "model_module": "@jupyter-widgets/base",
      "model_module_version": "1.2.0",
      "model_name": "LayoutModel",
      "state": {
       "display": "flex"
      }
     },
     "33415dd672df49bf95d0815807d524b3": {
      "model_module": "@jupyter-widgets/base",
      "model_module_version": "1.2.0",
      "model_name": "LayoutModel",
      "state": {
       "display": "none",
       "width": "60px"
      }
     },
     "33553401de094be29f5c0ae38fb7109b": {
      "model_module": "@jupyter-widgets/controls",
      "model_module_version": "1.5.0",
      "model_name": "ButtonStyleModel",
      "state": {}
     },
     "339df13a161a44e4975c3a5e93d4af52": {
      "model_module": "@jupyter-widgets/base",
      "model_module_version": "1.2.0",
      "model_name": "LayoutModel",
      "state": {
       "order": "-1",
       "overflow": "visible",
       "padding": "1px",
       "width": "0px"
      }
     },
     "33a05c0a4b9e40d8ad6b4428b8808ca9": {
      "model_module": "@jupyter-widgets/controls",
      "model_module_version": "1.5.0",
      "model_name": "ButtonModel",
      "state": {
       "description": "EDIT",
       "layout": "IPY_MODEL_8f643c2d5913413d8949214686ae3a69",
       "style": "IPY_MODEL_fadd77592fb04565a3b9a50b0a1ee0e0"
      }
     },
     "33af044d024e47c19148d9baad3e5c2c": {
      "model_module": "@jupyter-widgets/controls",
      "model_module_version": "1.5.0",
      "model_name": "ProgressStyleModel",
      "state": {
       "description_width": ""
      }
     },
     "33bfb4b4283f4ee9abb87971fe8af984": {
      "model_module": "@jupyter-widgets/controls",
      "model_module_version": "1.5.0",
      "model_name": "HBoxModel",
      "state": {
       "children": [
        "IPY_MODEL_28b0fb44da5044f297a62bc1aecfcd3b",
        "IPY_MODEL_1b85526023a34919b1f56da9b6c0eb2e",
        "IPY_MODEL_d97de05d13d4435b98bf4ccda7c39ea6",
        "IPY_MODEL_3ac9b7fe4bd5489f95671a93ca410484"
       ],
       "layout": "IPY_MODEL_8550a29fe1984409b843e2816431ca0e"
      }
     },
     "33d0cf28bcc34d89a39b1b1c37bb8d05": {
      "model_module": "@jupyter-widgets/base",
      "model_module_version": "1.2.0",
      "model_name": "LayoutModel",
      "state": {
       "display": "none"
      }
     },
     "33d4558627aa447b99a63ae4ec0ff12e": {
      "model_module": "@jupyter-widgets/base",
      "model_module_version": "1.2.0",
      "model_name": "LayoutModel",
      "state": {
       "display": "flex"
      }
     },
     "3423c224b3c64c21bd7b35e5a717ea21": {
      "model_module": "@jupyter-widgets/controls",
      "model_module_version": "1.5.0",
      "model_name": "DescriptionStyleModel",
      "state": {
       "description_width": ""
      }
     },
     "345dc966f16943009251bd634a72a0de": {
      "model_module": "@jupyter-widgets/controls",
      "model_module_version": "1.5.0",
      "model_name": "IntProgressModel",
      "state": {
       "bar_style": "success",
       "layout": "IPY_MODEL_c6b17cbcf20d4601b1a48694bb5f8501",
       "max": 50,
       "style": "IPY_MODEL_bf0f06ad429e46e882eae5546935bebf",
       "value": 50
      }
     },
     "34845f0ee645400d9b88a8f01fd88e5e": {
      "model_module": "@jupyter-widgets/controls",
      "model_module_version": "1.5.0",
      "model_name": "DescriptionStyleModel",
      "state": {
       "description_width": ""
      }
     },
     "34b0aaecf0da4fc2824b8d724de4c149": {
      "model_module": "@jupyter-widgets/base",
      "model_module_version": "1.2.0",
      "model_name": "LayoutModel",
      "state": {
       "display": "none",
       "width": "95%"
      }
     },
     "34e493e470d94f56b009fc0455072590": {
      "model_module": "@jupyter-widgets/controls",
      "model_module_version": "1.5.0",
      "model_name": "ProgressStyleModel",
      "state": {
       "description_width": ""
      }
     },
     "34ef2e2295544a28a0544f638ad19ccf": {
      "model_module": "@jupyter-widgets/controls",
      "model_module_version": "1.5.0",
      "model_name": "ButtonStyleModel",
      "state": {}
     },
     "3528266c581e4f37804ef6ab1486ccd5": {
      "model_module": "@jupyter-widgets/controls",
      "model_module_version": "1.5.0",
      "model_name": "ButtonModel",
      "state": {
       "description": "Refresh",
       "layout": "IPY_MODEL_216e3a6a519c48878775954cf44cecfc",
       "style": "IPY_MODEL_9b6a85fb8e804a8faa5db1a25a94e8b8"
      }
     },
     "35c77e7280cc4716997e02abc4440874": {
      "model_module": "@jupyter-widgets/controls",
      "model_module_version": "1.5.0",
      "model_name": "ButtonModel",
      "state": {
       "layout": "IPY_MODEL_46470844d83642218029061a9aa929eb",
       "style": "IPY_MODEL_f7685720254b467f94c94717470b0003"
      }
     },
     "3633fa9e60564e1bbedaa45b7f868c6d": {
      "model_module": "@jupyter-widgets/controls",
      "model_module_version": "1.5.0",
      "model_name": "VBoxModel",
      "state": {
       "children": [
        "IPY_MODEL_c9f5c67131c04ec684652e39236c3de3",
        "IPY_MODEL_592fd97be2f74665bfcc1aac6c2d0fc7",
        "IPY_MODEL_99eb4f5ab5464bd99fa7a39016e579b5",
        "IPY_MODEL_7c517c14c0ca45f395fe9f3f445c54ce",
        "IPY_MODEL_37a7fa5da79945a6a80d9a0f54abbf5f",
        "IPY_MODEL_c6f49c08c3b843e29adf344d2ac6e744"
       ],
       "layout": "IPY_MODEL_1799245c8364466e9e673ab8217840d2"
      }
     },
     "3637d40803694ddca9e302b868548114": {
      "model_module": "@jupyter-widgets/controls",
      "model_module_version": "1.5.0",
      "model_name": "IntProgressModel",
      "state": {
       "bar_style": "success",
       "layout": "IPY_MODEL_3beaa0a2ec444324ad5cc141497bd187",
       "max": 15,
       "style": "IPY_MODEL_07b3f7912a9943dd9f4644a98a19fcbc",
       "value": 15
      }
     },
     "365dc353e500460b8c2805000decd0bf": {
      "model_module": "@jupyter-widgets/controls",
      "model_module_version": "1.5.0",
      "model_name": "HBoxModel",
      "state": {
       "children": [
        "IPY_MODEL_9752cf935e4a41bd825444265642f431",
        "IPY_MODEL_bcf2b6fd2e3b4276a199cc1004e087c9",
        "IPY_MODEL_fe3914122eca4932890f674c9ef89391",
        "IPY_MODEL_4381a2abdba94419be84423fe5c1fc41"
       ],
       "layout": "IPY_MODEL_71a867c2ae81418fbcc6ab58711dea03"
      }
     },
     "36c7e6b6035e434da8de75346e07f4e9": {
      "model_module": "@jupyter-widgets/base",
      "model_module_version": "1.2.0",
      "model_name": "LayoutModel",
      "state": {
       "height": "32px",
       "order": "-2",
       "width": "32px"
      }
     },
     "371c709ed63d4ca4b1c8ae78bb2a1762": {
      "model_module": "@jupyter-widgets/base",
      "model_module_version": "1.2.0",
      "model_name": "LayoutModel",
      "state": {
       "display": "none"
      }
     },
     "37206560ce044332b72643de74362d3b": {
      "model_module": "@jupyter-widgets/controls",
      "model_module_version": "1.5.0",
      "model_name": "ButtonStyleModel",
      "state": {}
     },
     "3724296d8c4c450284d310859b3a5133": {
      "model_module": "@jupyter-widgets/controls",
      "model_module_version": "1.5.0",
      "model_name": "HBoxModel",
      "state": {
       "children": [
        "IPY_MODEL_cab668e1430541a9ba7c9b76163d917c",
        "IPY_MODEL_b105951c7b0a41f9a6be40916663411c",
        "IPY_MODEL_1534fc0c6de74d02b2e2e38ea9d7fd97",
        "IPY_MODEL_65408011492644cb9f1019909efd5172"
       ],
       "layout": "IPY_MODEL_58f7b9cb100847839d4c1e1d492d888c"
      }
     },
     "3725badc2688443487280e620ad35701": {
      "model_module": "@jupyter-widgets/controls",
      "model_module_version": "1.5.0",
      "model_name": "DescriptionStyleModel",
      "state": {
       "description_width": ""
      }
     },
     "3742dcb186724d8593cb22280b1a542b": {
      "model_module": "@jupyter-widgets/base",
      "model_module_version": "1.2.0",
      "model_name": "LayoutModel",
      "state": {
       "height": "32px",
       "order": "-2",
       "width": "32px"
      }
     },
     "378519fb7c0e4cf397f16cca6d07aef3": {
      "model_module": "@jupyter-widgets/controls",
      "model_module_version": "1.5.0",
      "model_name": "ButtonStyleModel",
      "state": {}
     },
     "37a7fa5da79945a6a80d9a0f54abbf5f": {
      "model_module": "@jupyter-widgets/controls",
      "model_module_version": "1.5.0",
      "model_name": "HBoxModel",
      "state": {
       "children": [
        "IPY_MODEL_d5b23c87049040db8838d94e9578a67b",
        "IPY_MODEL_09b44e47cc564ebdbe9e05f2c8de42ee",
        "IPY_MODEL_b9bf45a21e53412383382676274ca59f",
        "IPY_MODEL_ae4adeebd65e4920961edf8e0e404f37"
       ],
       "layout": "IPY_MODEL_062f1508e0c945d4aa485978caacec55"
      }
     },
     "37c06c871c144b30b7d6945276e5f1e9": {
      "model_module": "@jupyter-widgets/controls",
      "model_module_version": "1.5.0",
      "model_name": "ButtonModel",
      "state": {
       "layout": "IPY_MODEL_abbf6d9dda0542f7957932e27b2ded70",
       "style": "IPY_MODEL_9cfc8f88278b4815af3edf205bce6fd6"
      }
     },
     "37fdc1d14f9c4646b14d24063045e4bb": {
      "model_module": "@jupyter-widgets/base",
      "model_module_version": "1.2.0",
      "model_name": "LayoutModel",
      "state": {
       "width": "100px"
      }
     },
     "3887d1bdc0c64c419fcb064633b1dbe1": {
      "model_module": "@jupyter-widgets/controls",
      "model_module_version": "1.5.0",
      "model_name": "ButtonStyleModel",
      "state": {}
     },
     "38ae45d009a545a5aa7b1a4fb8aeec8a": {
      "model_module": "@jupyter-widgets/base",
      "model_module_version": "1.2.0",
      "model_name": "LayoutModel",
      "state": {
       "height": "32px",
       "order": "-2",
       "width": "32px"
      }
     },
     "38d5c1a64ef341278bb718fb1cc85c2d": {
      "model_module": "@jupyter-widgets/controls",
      "model_module_version": "1.5.0",
      "model_name": "ButtonModel",
      "state": {
       "button_style": "success",
       "disabled": true,
       "layout": "IPY_MODEL_2f415169f228424fb6495ea63a21f043",
       "style": "IPY_MODEL_bb9aacfac84b4d98a0c16eb3592ff18c"
      }
     },
     "38f75d89da1949f08f58bb67bd1b8e85": {
      "model_module": "@jupyter-widgets/base",
      "model_module_version": "1.2.0",
      "model_name": "LayoutModel",
      "state": {
       "height": "32px",
       "order": "-2",
       "width": "32px"
      }
     },
     "390fdc6b71ab4c6f8f7f50e29b4b33d9": {
      "model_module": "@jupyter-widgets/base",
      "model_module_version": "1.2.0",
      "model_name": "LayoutModel",
      "state": {
       "display": "none"
      }
     },
     "395ea9cd9647409d8855ea0cfafaa78e": {
      "model_module": "@jupyter-widgets/controls",
      "model_module_version": "1.5.0",
      "model_name": "ButtonStyleModel",
      "state": {}
     },
     "396fceb3c02246d38b9ad8d439796862": {
      "model_module": "@jupyter-widgets/controls",
      "model_module_version": "1.5.0",
      "model_name": "ButtonStyleModel",
      "state": {}
     },
     "39b0da00cfab472b95a2e1da8f627cf1": {
      "model_module": "@jupyter-widgets/controls",
      "model_module_version": "1.5.0",
      "model_name": "ButtonModel",
      "state": {
       "layout": "IPY_MODEL_848d8948370c41b4b82e07fcb7436bec",
       "style": "IPY_MODEL_c4e6dbb7b9854b549b4b99666764261d"
      }
     },
     "3a056c822a8a42e597060ea0fc27b87c": {
      "model_module": "@jupyter-widgets/base",
      "model_module_version": "1.2.0",
      "model_name": "LayoutModel",
      "state": {
       "height": "32px",
       "overflow": "visible",
       "width": "100%"
      }
     },
     "3a15ebbb0ebd4a83958b188207a18ef1": {
      "model_module": "@jupyter-widgets/controls",
      "model_module_version": "1.5.0",
      "model_name": "LabelModel",
      "state": {
       "layout": "IPY_MODEL_8acba0cbbb7f41388ac3d3f1635978e9",
       "style": "IPY_MODEL_f585ecdee66c49e892df250211a5a0c0",
       "value": "Armor Set:"
      }
     },
     "3abd92a0ca7c4f9c9b9eda912263df86": {
      "model_module": "@jupyter-widgets/controls",
      "model_module_version": "1.5.0",
      "model_name": "IntProgressModel",
      "state": {
       "layout": "IPY_MODEL_4adf95a05bca448a9ce4b1272695b626",
       "style": "IPY_MODEL_c10cdc66afda40578de04af55af72373",
       "value": 30
      }
     },
     "3ac9b7fe4bd5489f95671a93ca410484": {
      "model_module": "@jupyter-widgets/controls",
      "model_module_version": "1.5.0",
      "model_name": "ButtonModel",
      "state": {
       "description": "EDIT",
       "layout": "IPY_MODEL_ae69f8ed99c24d44a79de572d775220e",
       "style": "IPY_MODEL_855f50bb9c7e460397e87998b8086a6e"
      }
     },
     "3b082087c5b34991a1272c98eeaf3974": {
      "model_module": "@jupyter-widgets/controls",
      "model_module_version": "1.5.0",
      "model_name": "ButtonStyleModel",
      "state": {}
     },
     "3b1543700b49487f8f408f9283cee80a": {
      "model_module": "@jupyter-widgets/base",
      "model_module_version": "1.2.0",
      "model_name": "LayoutModel",
      "state": {
       "display": "none"
      }
     },
     "3b2008922f6644b88272c7fbc861901f": {
      "model_module": "@jupyter-widgets/controls",
      "model_module_version": "1.5.0",
      "model_name": "ButtonModel",
      "state": {
       "layout": "IPY_MODEL_cf6369a58bac4760be54f39b18a26bb1",
       "style": "IPY_MODEL_1c72e3649d0f4bf5aaaa70eeaabc2095"
      }
     },
     "3b206443e54d43e597d7876bd95405a1": {
      "model_module": "@jupyter-widgets/base",
      "model_module_version": "1.2.0",
      "model_name": "LayoutModel",
      "state": {
       "display": "none",
       "width": "60px"
      }
     },
     "3b43c769c1e640f380767dd943382ac5": {
      "model_module": "@jupyter-widgets/base",
      "model_module_version": "1.2.0",
      "model_name": "LayoutModel",
      "state": {
       "height": "32px",
       "overflow": "visible",
       "width": "100%"
      }
     },
     "3b509d3d33a9495e8fce505ffa41082f": {
      "model_module": "@jupyter-widgets/base",
      "model_module_version": "1.2.0",
      "model_name": "LayoutModel",
      "state": {
       "height": "32px",
       "overflow": "visible",
       "width": "100%"
      }
     },
     "3b641eaddb234d0786c0ea9fd10f7b51": {
      "model_module": "@jupyter-widgets/controls",
      "model_module_version": "1.5.0",
      "model_name": "DescriptionStyleModel",
      "state": {
       "description_width": ""
      }
     },
     "3b77ef64ff3149bab5b3e763c27b5cfb": {
      "model_module": "@jupyter-widgets/base",
      "model_module_version": "1.2.0",
      "model_name": "LayoutModel",
      "state": {
       "border": "1px solid white",
       "min_width": "250px",
       "padding": "10px",
       "width": "15%"
      }
     },
     "3b8a4bb9775f41fe8a629f90feec14c9": {
      "model_module": "@jupyter-widgets/base",
      "model_module_version": "1.2.0",
      "model_name": "LayoutModel",
      "state": {
       "height": "32px",
       "overflow": "visible",
       "width": "100%"
      }
     },
     "3bdd6b8abaa745c497a01b945d6657ed": {
      "model_module": "@jupyter-widgets/base",
      "model_module_version": "1.2.0",
      "model_name": "LayoutModel",
      "state": {
       "height": "32px",
       "overflow": "visible",
       "width": "100%"
      }
     },
     "3beaa0a2ec444324ad5cc141497bd187": {
      "model_module": "@jupyter-widgets/base",
      "model_module_version": "1.2.0",
      "model_name": "LayoutModel",
      "state": {
       "height": "32px",
       "overflow": "visible",
       "width": "100%"
      }
     },
     "3bf913c5a4df458b9d151887bab1196f": {
      "model_module": "@jupyter-widgets/controls",
      "model_module_version": "1.5.0",
      "model_name": "DescriptionStyleModel",
      "state": {
       "description_width": ""
      }
     },
     "3c212d43c2984ac7b1181bf17e27122b": {
      "model_module": "@jupyter-widgets/base",
      "model_module_version": "1.2.0",
      "model_name": "LayoutModel",
      "state": {
       "height": "32px",
       "overflow": "visible",
       "width": "100%"
      }
     },
     "3c8ad1211a1b4941b34e4615fe995dab": {
      "model_module": "@jupyter-widgets/controls",
      "model_module_version": "1.5.0",
      "model_name": "HBoxModel",
      "state": {
       "children": [
        "IPY_MODEL_e00e83b575dc4640863425015270b17b",
        "IPY_MODEL_f5c6342b7aa2423d9e151cdd7fedf167",
        "IPY_MODEL_7eef6d16ad894332888c3a1505328c88",
        "IPY_MODEL_571ea96b057d4790bc1ba2f0d37e5f8b"
       ],
       "layout": "IPY_MODEL_3311e2b31a5a4531827f0d5cbcddf7dd"
      }
     },
     "3cc2bdcec0504404b5ef2867eb84012f": {
      "model_module": "@jupyter-widgets/controls",
      "model_module_version": "1.5.0",
      "model_name": "IntProgressModel",
      "state": {
       "layout": "IPY_MODEL_c90b4a9ef1af4bfc812d85b556162329",
       "style": "IPY_MODEL_4e9ebf148e9a44af91ae5107045b83f0",
       "value": 30
      }
     },
     "3cce56fd0b9a475181a7d06812361891": {
      "model_module": "@jupyter-widgets/controls",
      "model_module_version": "1.5.0",
      "model_name": "HBoxModel",
      "state": {
       "children": [
        "IPY_MODEL_ed235b479b8145478371ab50d4898266",
        "IPY_MODEL_50828a16ef41421697ea4f348b288211",
        "IPY_MODEL_f75e7c55a3c24c8dad1241dfa7a51fc5",
        "IPY_MODEL_8393f34a95fb43279909e403f0ac1a7c"
       ],
       "layout": "IPY_MODEL_0fa48993d3db427e92d3a5c79591f0fd"
      }
     },
     "3cfcb30a71a443bd8a038d05830d17ec": {
      "model_module": "@jupyter-widgets/controls",
      "model_module_version": "1.5.0",
      "model_name": "DropdownModel",
      "state": {
       "_options_labels": [
        "Any",
        "Hand Cannon",
        "Auto Rifle",
        "Scout Rifle",
        "Pulse Rifle",
        "Sidearm",
        "Submachine Gun",
        "Combt Bow",
        "Sniper Rifle",
        "Shotgun",
        "Fusion Rifle",
        "Grenade Launcher"
       ],
       "index": 0,
       "layout": "IPY_MODEL_90e814629dff4ab0b86cdbeedd1b626d",
       "style": "IPY_MODEL_cfa330f5d1ea40cfb31054de0ced1004"
      }
     },
     "3d038a20826a4b7dbb3b17151cbaa372": {
      "model_module": "@jupyter-widgets/base",
      "model_module_version": "1.2.0",
      "model_name": "LayoutModel",
      "state": {
       "display": "none"
      }
     },
     "3d41094cff9747c781a272e9bc2aa9c9": {
      "model_module": "@jupyter-widgets/controls",
      "model_module_version": "1.5.0",
      "model_name": "VBoxModel",
      "state": {
       "children": [
        "IPY_MODEL_c400ef13010241e3993fb0ba4bb8fb92",
        "IPY_MODEL_4eede1ba3dac4d33aea0d26e6ddb7cb3"
       ],
       "layout": "IPY_MODEL_41239cd98f4b4c7cb9ffebba0a70885a"
      }
     },
     "3d48c8fcce6d4826a30172b3c601a91e": {
      "model_module": "@jupyter-widgets/controls",
      "model_module_version": "1.5.0",
      "model_name": "HBoxModel",
      "state": {
       "children": [
        "IPY_MODEL_59bc584b3c92493699cbe7a4cea98105",
        "IPY_MODEL_babd649ca3294a2593d883cbca42823a",
        "IPY_MODEL_b1113cb75fd5448bb40dcf13b78372ed",
        "IPY_MODEL_1303b4e2f6574e7297d855da633ab8d4"
       ],
       "layout": "IPY_MODEL_144b8235b3d74e85a1ebc94d77e0e8df"
      }
     },
     "3d4f71d716d44cca9941f794a269b636": {
      "model_module": "@jupyter-widgets/base",
      "model_module_version": "1.2.0",
      "model_name": "LayoutModel",
      "state": {
       "display": "none",
       "width": "60px"
      }
     },
     "3d8304f905a241e3bac2ae5729f3abdc": {
      "model_module": "@jupyter-widgets/controls",
      "model_module_version": "1.5.0",
      "model_name": "ProgressStyleModel",
      "state": {
       "description_width": ""
      }
     },
     "3db2a0fea9a64984b4bef1d65124ebf0": {
      "model_module": "@jupyter-widgets/controls",
      "model_module_version": "1.5.0",
      "model_name": "IntProgressModel",
      "state": {
       "bar_style": "success",
       "layout": "IPY_MODEL_7912c85758694ce3b96998a128cfaa37",
       "max": 1,
       "style": "IPY_MODEL_304ff65a61e8431abc80ad7a1ce97b2c",
       "value": 1
      }
     },
     "3dc5965801764eedac295d57aea172d6": {
      "model_module": "@jupyter-widgets/base",
      "model_module_version": "1.2.0",
      "model_name": "LayoutModel",
      "state": {
       "height": "32px",
       "overflow": "visible",
       "width": "100%"
      }
     },
     "3dce3e1351414d56b71d7b28dd86393c": {
      "model_module": "@jupyter-widgets/controls",
      "model_module_version": "1.5.0",
      "model_name": "ProgressStyleModel",
      "state": {
       "description_width": ""
      }
     },
     "3de049e3803940ac91fe7df6a96a57fc": {
      "model_module": "@jupyter-widgets/base",
      "model_module_version": "1.2.0",
      "model_name": "LayoutModel",
      "state": {
       "height": "32px",
       "overflow": "visible",
       "width": "100%"
      }
     },
     "3de59e00375e4d83800d46cb9b095017": {
      "model_module": "@jupyter-widgets/controls",
      "model_module_version": "1.5.0",
      "model_name": "DescriptionStyleModel",
      "state": {
       "description_width": ""
      }
     },
     "3de77fc2a695466e871b5a63d11c3f5e": {
      "model_module": "@jupyter-widgets/controls",
      "model_module_version": "1.5.0",
      "model_name": "LabelModel",
      "state": {
       "layout": "IPY_MODEL_28d6873e62a1485c939d11ee21b86e80",
       "style": "IPY_MODEL_63a8e5112be44a57b8ff6b3a33c11a24",
       "value": "    Matches completed (6/5)"
      }
     },
     "3e1d3e78d49d48b698df003ff169ca87": {
      "model_module": "@jupyter-widgets/base",
      "model_module_version": "1.2.0",
      "model_name": "LayoutModel",
      "state": {
       "display": "flex",
       "flex_flow": "row wrap"
      }
     },
     "3e25ea953d8b4339869a6a7a92e3ebd4": {
      "model_module": "@jupyter-widgets/controls",
      "model_module_version": "1.5.0",
      "model_name": "ButtonStyleModel",
      "state": {}
     },
     "3e56a35b1642483ba75d567cb9ee9080": {
      "model_module": "@jupyter-widgets/controls",
      "model_module_version": "1.5.0",
      "model_name": "DescriptionStyleModel",
      "state": {
       "description_width": ""
      }
     },
     "3e5883ca3737406cbb37ae3e7f344c28": {
      "model_module": "@jupyter-widgets/controls",
      "model_module_version": "1.5.0",
      "model_name": "DescriptionStyleModel",
      "state": {
       "description_width": ""
      }
     },
     "3e93d049ee0648d1958c42f869e52854": {
      "model_module": "@jupyter-widgets/base",
      "model_module_version": "1.2.0",
      "model_name": "LayoutModel",
      "state": {}
     },
     "3ef07309e4c249e984f3ad7c258bacbe": {
      "model_module": "@jupyter-widgets/base",
      "model_module_version": "1.2.0",
      "model_name": "LayoutModel",
      "state": {
       "height": "32px",
       "order": "-2",
       "width": "32px"
      }
     },
     "3f14d1d71b2d4ad6ac8d2a0a60d7537d": {
      "model_module": "@jupyter-widgets/controls",
      "model_module_version": "1.5.0",
      "model_name": "DescriptionStyleModel",
      "state": {
       "description_width": ""
      }
     },
     "3f5a6b553a454ed09d10b6269a408f0e": {
      "model_module": "@jupyter-widgets/controls",
      "model_module_version": "1.5.0",
      "model_name": "HTMLModel",
      "state": {
       "layout": "IPY_MODEL_9551423f922446659e44ed90bc8946bb",
       "style": "IPY_MODEL_f7c92f3a4c224d9d8d37839649484955",
       "value": "<font size=\"1\">Triumphs/Crucible/Medals/Gametypes/Flagbearer</font size=>"
      }
     },
     "3f719500cfb54ee69acb256d151d81a3": {
      "model_module": "@jupyter-widgets/controls",
      "model_module_version": "1.5.0",
      "model_name": "ButtonStyleModel",
      "state": {}
     },
     "3f76c1041e5b4c8f8e87929decc5c5f1": {
      "model_module": "@jupyter-widgets/base",
      "model_module_version": "1.2.0",
      "model_name": "LayoutModel",
      "state": {
       "border": "3px solid white",
       "display": "flex",
       "flex": "1 1 0%",
       "margin": "10px",
       "min_width": "400px",
       "overflow": "visible",
       "padding": "10px",
       "width": "auto"
      }
     },
     "3f7b4f53e87a4516a4ef3ac535a8b994": {
      "model_module": "@jupyter-widgets/controls",
      "model_module_version": "1.5.0",
      "model_name": "LabelModel",
      "state": {
       "layout": "IPY_MODEL_d526ac562e8a4004a175de238ad42625",
       "style": "IPY_MODEL_0b5cfc46d5c1451ea1ebcc76a0d10213",
       "value": "   objective"
      }
     },
     "3fa4074fa9b445bdb1b0f065050dd9a0": {
      "model_module": "@jupyter-widgets/controls",
      "model_module_version": "1.5.0",
      "model_name": "VBoxModel",
      "state": {
       "children": [
        "IPY_MODEL_d16216f4658b4081b80e50b035e9a2e7",
        "IPY_MODEL_365dc353e500460b8c2805000decd0bf",
        "IPY_MODEL_cc94d50191554d71ada34ff0de8cdef2",
        "IPY_MODEL_bb91ef4625064fa6a8884f5280644fc2",
        "IPY_MODEL_7102cd57b421401a9f0fee8d80b5ce21",
        "IPY_MODEL_f3cb047d0d5f40f8867f3e57cb02efb2"
       ],
       "layout": "IPY_MODEL_ac1e02f0d4ea41cf9bfde9a95601077b"
      }
     },
     "3fcba08112cd4e9f9b89675f1d440dbc": {
      "model_module": "@jupyter-widgets/controls",
      "model_module_version": "1.5.0",
      "model_name": "ButtonStyleModel",
      "state": {}
     },
     "3fda9a5e6f7b45bd881d44f8bcd8f2fe": {
      "model_module": "@jupyter-widgets/controls",
      "model_module_version": "1.5.0",
      "model_name": "HTMLModel",
      "state": {
       "layout": "IPY_MODEL_56e82a1101d04f3d86f9412493804e46",
       "style": "IPY_MODEL_79e4d4a6d61f421da6a0767086713b0d",
       "value": "<font size=\"5\"><b>Superstar</b></font size=>"
      }
     },
     "3ff5a7ee1f6945f69916b2f1138b3196": {
      "model_module": "@jupyter-widgets/controls",
      "model_module_version": "1.5.0",
      "model_name": "DescriptionStyleModel",
      "state": {
       "description_width": ""
      }
     },
     "40463d30fc3b4358978f9465875bffa1": {
      "model_module": "@jupyter-widgets/controls",
      "model_module_version": "1.5.0",
      "model_name": "VBoxModel",
      "state": {
       "children": [
        "IPY_MODEL_e518da1218a647139cacf4a1eb13c0dd",
        "IPY_MODEL_22f66e6725914380810f2c84bf7fa316",
        "IPY_MODEL_3528266c581e4f37804ef6ab1486ccd5"
       ],
       "layout": "IPY_MODEL_87758f359d3640ccbc945270487ceb40"
      }
     },
     "40fa3fde0b654c20a188cfc55a49c4e5": {
      "model_module": "@jupyter-widgets/controls",
      "model_module_version": "1.5.0",
      "model_name": "ButtonModel",
      "state": {
       "button_style": "success",
       "disabled": true,
       "layout": "IPY_MODEL_89c2c94d03724b8b84f2b7633f6a0a70",
       "style": "IPY_MODEL_f4b5389046d449c2b036e392bbcf511b"
      }
     },
     "41239cd98f4b4c7cb9ffebba0a70885a": {
      "model_module": "@jupyter-widgets/base",
      "model_module_version": "1.2.0",
      "model_name": "LayoutModel",
      "state": {}
     },
     "4175e46507d94a7ebe5289d381b2d8f8": {
      "model_module": "@jupyter-widgets/controls",
      "model_module_version": "1.5.0",
      "model_name": "ButtonStyleModel",
      "state": {}
     },
     "41852b5778a74a898a218fb77f10cb5b": {
      "model_module": "@jupyter-widgets/base",
      "model_module_version": "1.2.0",
      "model_name": "LayoutModel",
      "state": {
       "order": "-1",
       "overflow": "visible",
       "padding": "1px",
       "width": "0px"
      }
     },
     "41c0e2f3b0054f32a8bec3d44e13ac51": {
      "model_module": "@jupyter-widgets/controls",
      "model_module_version": "1.5.0",
      "model_name": "IntProgressModel",
      "state": {
       "layout": "IPY_MODEL_3b43c769c1e640f380767dd943382ac5",
       "max": 25,
       "style": "IPY_MODEL_4dc501430b064fbf9b08c8b026c584c9",
       "value": 19
      }
     },
     "41cb14fd215d4247bdf6cdbc6e132932": {
      "model_module": "@jupyter-widgets/controls",
      "model_module_version": "1.5.0",
      "model_name": "ButtonModel",
      "state": {
       "description": "EDIT",
       "layout": "IPY_MODEL_21cf973850dd43189f382cb969afce25",
       "style": "IPY_MODEL_eb8eb2b3cc974a4c8f6d7595c482ecc1"
      }
     },
     "4244568b5fdf4c80a8ec6c43b5288ee1": {
      "model_module": "@jupyter-widgets/base",
      "model_module_version": "1.2.0",
      "model_name": "LayoutModel",
      "state": {
       "order": "-1",
       "overflow": "visible",
       "padding": "1px",
       "width": "0px"
      }
     },
     "4245981f2275464aacbde2cef32cee8a": {
      "model_module": "@jupyter-widgets/base",
      "model_module_version": "1.2.0",
      "model_name": "LayoutModel",
      "state": {
       "display": "none"
      }
     },
     "425c4f9bd53441e2a777081909d49ca6": {
      "model_module": "@jupyter-widgets/base",
      "model_module_version": "1.2.0",
      "model_name": "LayoutModel",
      "state": {
       "overflow": "visible",
       "width": "100%"
      }
     },
     "429b88fdc22c46cf96fda09f276cbfc1": {
      "model_module": "@jupyter-widgets/controls",
      "model_module_version": "1.5.0",
      "model_name": "DescriptionStyleModel",
      "state": {
       "description_width": ""
      }
     },
     "429f4e091e2940769b4664f55d017f3c": {
      "model_module": "@jupyter-widgets/base",
      "model_module_version": "1.2.0",
      "model_name": "LayoutModel",
      "state": {
       "order": "-1",
       "overflow": "visible",
       "padding": "1px",
       "width": "0px"
      }
     },
     "42db59af0b104d599c1ebf4c8eeed5c8": {
      "model_module": "@jupyter-widgets/base",
      "model_module_version": "1.2.0",
      "model_name": "LayoutModel",
      "state": {}
     },
     "42fad60027494e6ea8a056c4c237d777": {
      "model_module": "@jupyter-widgets/base",
      "model_module_version": "1.2.0",
      "model_name": "LayoutModel",
      "state": {
       "height": "32px",
       "order": "-2",
       "width": "32px"
      }
     },
     "432a08192b414757929e8d5d22faeb91": {
      "model_module": "@jupyter-widgets/controls",
      "model_module_version": "1.5.0",
      "model_name": "ButtonStyleModel",
      "state": {}
     },
     "434a71e3680d4871a8b3088d446fdbbe": {
      "model_module": "@jupyter-widgets/controls",
      "model_module_version": "1.5.0",
      "model_name": "ButtonStyleModel",
      "state": {}
     },
     "4381a2abdba94419be84423fe5c1fc41": {
      "model_module": "@jupyter-widgets/controls",
      "model_module_version": "1.5.0",
      "model_name": "ButtonModel",
      "state": {
       "description": "EDIT",
       "layout": "IPY_MODEL_6f81c108e65d4c6491c3827286003371",
       "style": "IPY_MODEL_7332bf3aec314f67a678b928ebbb52a4"
      }
     },
     "438dbe61181a4811b11159ec7a1e9031": {
      "model_module": "@jupyter-widgets/controls",
      "model_module_version": "1.5.0",
      "model_name": "ButtonStyleModel",
      "state": {}
     },
     "43c258ff9a944d649c7c775991ed4b3c": {
      "model_module": "@jupyter-widgets/controls",
      "model_module_version": "1.5.0",
      "model_name": "HTMLModel",
      "state": {
       "layout": "IPY_MODEL_f9d830ca880449deaa0e894e35229444",
       "style": "IPY_MODEL_3725badc2688443487280e620ad35701",
       "value": "<font size=\"5\"><b>Become Legend</b></font size=>"
      }
     },
     "43ccdf0bbd144abb97482758f4bd56c9": {
      "model_module": "@jupyter-widgets/controls",
      "model_module_version": "1.5.0",
      "model_name": "DescriptionStyleModel",
      "state": {
       "description_width": ""
      }
     },
     "446ff1e4c4be4dbea639488c17f2aa9f": {
      "model_module": "@jupyter-widgets/base",
      "model_module_version": "1.2.0",
      "model_name": "LayoutModel",
      "state": {
       "display": "flex",
       "width": "95%"
      }
     },
     "4480f1f6ebeb440daf48aec2e2dba016": {
      "model_module": "@jupyter-widgets/base",
      "model_module_version": "1.2.0",
      "model_name": "LayoutModel",
      "state": {
       "height": "32px",
       "overflow": "visible",
       "width": "100%"
      }
     },
     "448e01eb5c59433f98406b056f112f7d": {
      "model_module": "@jupyter-widgets/base",
      "model_module_version": "1.2.0",
      "model_name": "LayoutModel",
      "state": {
       "order": "-1",
       "overflow": "visible",
       "padding": "1px",
       "width": "0px"
      }
     },
     "44cb61286a744f408e6e20e0023747d6": {
      "model_module": "@jupyter-widgets/controls",
      "model_module_version": "1.5.0",
      "model_name": "ButtonModel",
      "state": {
       "button_style": "info",
       "layout": "IPY_MODEL_ba324592d97b4c2e85349c67968c4acf",
       "style": "IPY_MODEL_f1848fa0604b4cd78ac00742ccc872d9"
      }
     },
     "451bf5d910e54ab7bb3669d2f27917be": {
      "model_module": "@jupyter-widgets/controls",
      "model_module_version": "1.5.0",
      "model_name": "ButtonModel",
      "state": {
       "button_style": "success",
       "disabled": true,
       "layout": "IPY_MODEL_cf30956211404d8fa58ea3593b324a44",
       "style": "IPY_MODEL_d8a4cf227aee4f6a88bb359009165044"
      }
     },
     "454842c172ec4a9fad19258243cbc4dd": {
      "model_module": "@jupyter-widgets/base",
      "model_module_version": "1.2.0",
      "model_name": "LayoutModel",
      "state": {
       "height": "32px",
       "order": "-2",
       "width": "32px"
      }
     },
     "455d75592418452abc956000ea3b5a30": {
      "model_module": "@jupyter-widgets/controls",
      "model_module_version": "1.5.0",
      "model_name": "ButtonModel",
      "state": {
       "description": "EDIT",
       "layout": "IPY_MODEL_9e4304dc2b934e88a7ee6bb6bf7a2a3f",
       "style": "IPY_MODEL_13bfd639de1d46b4bcd515f27cac153c"
      }
     },
     "4567895ed816495683515bb8bee9da34": {
      "model_module": "@jupyter-widgets/base",
      "model_module_version": "1.2.0",
      "model_name": "LayoutModel",
      "state": {
       "border": "3px solid white",
       "display": "flex",
       "flex": "1 1 0%",
       "margin": "10px",
       "min_width": "400px",
       "overflow": "visible",
       "padding": "10px",
       "width": "auto"
      }
     },
     "45f46a3c7d094a02a6d06547cef292c5": {
      "model_module": "@jupyter-widgets/controls",
      "model_module_version": "1.5.0",
      "model_name": "LabelModel",
      "state": {
       "layout": "IPY_MODEL_98d391e6741b46f088d81dfc09859260",
       "style": "IPY_MODEL_862db45f1921455e86d7e85c4c5d3f4d",
       "value": "   objective"
      }
     },
     "4632bf7624114b19bfe48bd8cf78a5dc": {
      "model_module": "@jupyter-widgets/controls",
      "model_module_version": "1.5.0",
      "model_name": "ButtonStyleModel",
      "state": {}
     },
     "46470844d83642218029061a9aa929eb": {
      "model_module": "@jupyter-widgets/base",
      "model_module_version": "1.2.0",
      "model_name": "LayoutModel",
      "state": {
       "height": "32px",
       "order": "-2",
       "width": "32px"
      }
     },
     "4673f71fa2bb4bb1bef95a5a7fc5e703": {
      "model_module": "@jupyter-widgets/controls",
      "model_module_version": "1.5.0",
      "model_name": "ButtonModel",
      "state": {
       "description": "EDIT",
       "layout": "IPY_MODEL_47c20cf9adfa4deb89194fce82dfed1b",
       "style": "IPY_MODEL_819140152b384099bc363f35efdd71be"
      }
     },
     "4697163513294589942aca6192e9a9ec": {
      "model_module": "@jupyter-widgets/controls",
      "model_module_version": "1.5.0",
      "model_name": "ButtonStyleModel",
      "state": {}
     },
     "46f3f378f523487daa95d738ca7a995f": {
      "model_module": "@jupyter-widgets/controls",
      "model_module_version": "1.5.0",
      "model_name": "HBoxModel",
      "state": {
       "children": [
        "IPY_MODEL_7dc242d78b6340c093ce509f50536fee",
        "IPY_MODEL_5a287ce1d8ec44159b6ea0f382d96955",
        "IPY_MODEL_5e0e4bf829bf4327a21e225132a8f839",
        "IPY_MODEL_5887e9395d274855a1b6fdaa5a8126d7"
       ],
       "layout": "IPY_MODEL_a0c46e0fe256453baef8b39477877b84"
      }
     },
     "46f4c1f4aec0418eaa0c697aee0cf486": {
      "model_module": "@jupyter-widgets/base",
      "model_module_version": "1.2.0",
      "model_name": "LayoutModel",
      "state": {
       "height": "32px",
       "overflow": "visible",
       "width": "100%"
      }
     },
     "471fe30bd95140b5ba4bb28cac1ab7f9": {
      "model_module": "@jupyter-widgets/controls",
      "model_module_version": "1.5.0",
      "model_name": "ButtonModel",
      "state": {
       "description": "EDIT",
       "layout": "IPY_MODEL_204d358653e743018c21de12a99f8baf",
       "style": "IPY_MODEL_e3fed85c4cf245ff83eddc4c5051c7c2"
      }
     },
     "4729a4f5fb274d2eaae1e94de716b87b": {
      "model_module": "@jupyter-widgets/base",
      "model_module_version": "1.2.0",
      "model_name": "LayoutModel",
      "state": {
       "overflow": "visible",
       "width": "100%"
      }
     },
     "474c1270e5de44549801d96401943cb3": {
      "model_module": "@jupyter-widgets/base",
      "model_module_version": "1.2.0",
      "model_name": "LayoutModel",
      "state": {
       "display": "flex"
      }
     },
     "4779d5fcf65f460db257b32dac0e1954": {
      "model_module": "@jupyter-widgets/controls",
      "model_module_version": "1.5.0",
      "model_name": "LabelModel",
      "state": {
       "layout": "IPY_MODEL_70d2c603ca0f47d882e6786653910f30",
       "style": "IPY_MODEL_50d8efcc54a744e5b477ff29468d07d5",
       "value": "   objective"
      }
     },
     "4787cededb714850868145ec99341757": {
      "model_module": "@jupyter-widgets/base",
      "model_module_version": "1.2.0",
      "model_name": "LayoutModel",
      "state": {
       "height": "32px",
       "overflow": "visible",
       "width": "100%"
      }
     },
     "479a9fa422fb4769be1c0a67f00e2a2f": {
      "model_module": "@jupyter-widgets/base",
      "model_module_version": "1.2.0",
      "model_name": "LayoutModel",
      "state": {}
     },
     "47c20cf9adfa4deb89194fce82dfed1b": {
      "model_module": "@jupyter-widgets/base",
      "model_module_version": "1.2.0",
      "model_name": "LayoutModel",
      "state": {
       "display": "none",
       "width": "60px"
      }
     },
     "47fbcac9defc42cd9ad03eefea93408c": {
      "model_module": "@jupyter-widgets/base",
      "model_module_version": "1.2.0",
      "model_name": "LayoutModel",
      "state": {
       "height": "32px",
       "overflow": "visible",
       "width": "100%"
      }
     },
     "47ff389736764849af999e3ad6dcf99a": {
      "model_module": "@jupyter-widgets/base",
      "model_module_version": "1.2.0",
      "model_name": "LayoutModel",
      "state": {
       "display": "flex",
       "flex_flow": "row wrap"
      }
     },
     "483a6fdb6e694cf0a31a1dcc0e7cd49b": {
      "model_module": "@jupyter-widgets/base",
      "model_module_version": "1.2.0",
      "model_name": "LayoutModel",
      "state": {
       "overflow": "visible",
       "width": "100%"
      }
     },
     "485cac419e5345289cc613f0e451818d": {
      "model_module": "@jupyter-widgets/controls",
      "model_module_version": "1.5.0",
      "model_name": "DescriptionStyleModel",
      "state": {
       "description_width": ""
      }
     },
     "4894d4ad76364e46a0177df4c3172980": {
      "model_module": "@jupyter-widgets/base",
      "model_module_version": "1.2.0",
      "model_name": "LayoutModel",
      "state": {}
     },
     "49623d6263674300a587f9e06d0e50fd": {
      "model_module": "@jupyter-widgets/base",
      "model_module_version": "1.2.0",
      "model_name": "LayoutModel",
      "state": {
       "display": "none",
       "width": "60px"
      }
     },
     "4971d28f5db54bfbbcdb28926fa0d990": {
      "model_module": "@jupyter-widgets/controls",
      "model_module_version": "1.5.0",
      "model_name": "DropdownModel",
      "state": {
       "_options_labels": [
        "Any",
        "Machine Gun",
        "Sword",
        "Grenade Launcher",
        "Rocket Launcher",
        "Linear Fusion Rifle"
       ],
       "index": 0,
       "layout": "IPY_MODEL_90e814629dff4ab0b86cdbeedd1b626d",
       "style": "IPY_MODEL_721ac8bb809c425dae35cf8ec9423f19"
      }
     },
     "49a29084b3c24797a05ecea3e8e1712b": {
      "model_module": "@jupyter-widgets/controls",
      "model_module_version": "1.5.0",
      "model_name": "IntProgressModel",
      "state": {
       "layout": "IPY_MODEL_7e9e33ea7bee40f1b8f98889ff4a3ce8",
       "style": "IPY_MODEL_0dae0d61287c44b69c83f398575746d2",
       "value": 30
      }
     },
     "49b7c0a824eb4168b313af0de9b77910": {
      "model_module": "@jupyter-widgets/controls",
      "model_module_version": "1.5.0",
      "model_name": "ButtonModel",
      "state": {
       "layout": "IPY_MODEL_e09c8b5762e44ff19cc4365d809b9134",
       "style": "IPY_MODEL_b8ad62a88fd24b12b23600fac4d36d8a"
      }
     },
     "4a3e61c12af14237a062420bab4bc03e": {
      "model_module": "@jupyter-widgets/controls",
      "model_module_version": "1.5.0",
      "model_name": "LabelModel",
      "state": {
       "layout": "IPY_MODEL_9c20dd0cf19f45adafd94a7d4b9cd9e6",
       "style": "IPY_MODEL_7e01d737b614498e9bfb641956ebe67c",
       "value": "    Medals earned (16/1)"
      }
     },
     "4a7e645e7e2b4f45bbca36f9a656458c": {
      "model_module": "@jupyter-widgets/base",
      "model_module_version": "1.2.0",
      "model_name": "LayoutModel",
      "state": {
       "height": "32px",
       "overflow": "visible",
       "width": "100%"
      }
     },
     "4ab8d68748f34ea3a0bae5e9a3f08c62": {
      "model_module": "@jupyter-widgets/controls",
      "model_module_version": "1.5.0",
      "model_name": "DropdownModel",
      "state": {
       "_options_labels": [
        "Any",
        "Arc",
        "Solar",
        "Void"
       ],
       "index": 0,
       "layout": "IPY_MODEL_90e814629dff4ab0b86cdbeedd1b626d",
       "style": "IPY_MODEL_a630995efe33411f902d5184874ac2a4"
      }
     },
     "4adf95a05bca448a9ce4b1272695b626": {
      "model_module": "@jupyter-widgets/base",
      "model_module_version": "1.2.0",
      "model_name": "LayoutModel",
      "state": {
       "height": "32px",
       "overflow": "visible",
       "width": "100%"
      }
     },
     "4b146e455eae4aba8cddf6d0d4611b9c": {
      "model_module": "@jupyter-widgets/controls",
      "model_module_version": "1.5.0",
      "model_name": "CheckboxModel",
      "state": {
       "description": "Hide Expired Tasks",
       "disabled": false,
       "indent": false,
       "layout": "IPY_MODEL_4894d4ad76364e46a0177df4c3172980",
       "style": "IPY_MODEL_b1d33ecf15544461ab3ce9ee5520f27e",
       "value": false
      }
     },
     "4b4191357f184340ac483d44a3e503e2": {
      "model_module": "@jupyter-widgets/controls",
      "model_module_version": "1.5.0",
      "model_name": "ButtonModel",
      "state": {
       "description": "Search",
       "layout": "IPY_MODEL_54f4b718132d4615a4ab12f0edafc672",
       "style": "IPY_MODEL_d61affd8def6491ba80704ef86c47abe"
      }
     },
     "4b4589770d834d49bf5eded9454b19fa": {
      "model_module": "@jupyter-widgets/controls",
      "model_module_version": "1.5.0",
      "model_name": "ProgressStyleModel",
      "state": {
       "description_width": ""
      }
     },
     "4b750d01e442499e9d859a85bdfcd9d2": {
      "model_module": "@jupyter-widgets/controls",
      "model_module_version": "1.5.0",
      "model_name": "IntProgressModel",
      "state": {
       "layout": "IPY_MODEL_2b32177a8d8a4892bbabbb47422257cd",
       "style": "IPY_MODEL_0201d7e9fc8a4a58ae242b1593530f4b",
       "value": 30
      }
     },
     "4bfa0074ed97457b86388ed960f0f204": {
      "model_module": "@jupyter-widgets/controls",
      "model_module_version": "1.5.0",
      "model_name": "ButtonModel",
      "state": {
       "description": "EDIT",
       "layout": "IPY_MODEL_b00fbd2e581f4f428c7212929df00129",
       "style": "IPY_MODEL_e46e95c7d5d34fafa0fa425f564ad7bf"
      }
     },
     "4c10aaa0eba9490cb6c9f33459bfdcc8": {
      "model_module": "@jupyter-widgets/base",
      "model_module_version": "1.2.0",
      "model_name": "LayoutModel",
      "state": {}
     },
     "4c176b3e7b4b429d8248835bfcdde7f6": {
      "model_module": "@jupyter-widgets/base",
      "model_module_version": "1.2.0",
      "model_name": "LayoutModel",
      "state": {}
     },
     "4c2c27ec8ae643e99d0a61f779ad7be1": {
      "model_module": "@jupyter-widgets/controls",
      "model_module_version": "1.5.0",
      "model_name": "ButtonStyleModel",
      "state": {}
     },
     "4c4d91f766d24194afe5d202af4428d5": {
      "model_module": "@jupyter-widgets/controls",
      "model_module_version": "1.5.0",
      "model_name": "LabelModel",
      "state": {
       "layout": "IPY_MODEL_32f464be94834144939f7a82d89ceb2f",
       "style": "IPY_MODEL_f5b04cba5e5b40cbbb423e2eea6c9ebf",
       "value": "    Opponents defeated (1161/500)"
      }
     },
     "4c53fd442ed84791ad7d9a2b534e5f73": {
      "model_module": "@jupyter-widgets/base",
      "model_module_version": "1.2.0",
      "model_name": "LayoutModel",
      "state": {
       "display": "none",
       "width": "60px"
      }
     },
     "4c5cad0c5fcf481c834b19b2896ac251": {
      "model_module": "@jupyter-widgets/base",
      "model_module_version": "1.2.0",
      "model_name": "LayoutModel",
      "state": {
       "display": "none"
      }
     },
     "4c7a00b61d88445f9747496456558a88": {
      "model_module": "@jupyter-widgets/controls",
      "model_module_version": "1.5.0",
      "model_name": "DescriptionStyleModel",
      "state": {
       "description_width": ""
      }
     },
     "4c8a6b82114d4fc9bcc3bca8149886f9": {
      "model_module": "@jupyter-widgets/controls",
      "model_module_version": "1.5.0",
      "model_name": "HTMLModel",
      "state": {
       "layout": "IPY_MODEL_bd92a1b3b38b401793b32bfc51cd1310",
       "style": "IPY_MODEL_429b88fdc22c46cf96fda09f276cbfc1",
       "value": "<font size=\"1\">Triumphs/Crucible/Medals/Gametypes/Dominant Advantage</font size=>"
      }
     },
     "4cb365198521437b91b5ec2b9889208e": {
      "model_module": "@jupyter-widgets/controls",
      "model_module_version": "1.5.0",
      "model_name": "IntProgressModel",
      "state": {
       "layout": "IPY_MODEL_fc0d2b7425644be196119bd1158a4c9c",
       "style": "IPY_MODEL_570dffe6639347b5b31119f5b1407fca",
       "value": 30
      }
     },
     "4cd26beb58724b32b6fafd008b117087": {
      "model_module": "@jupyter-widgets/controls",
      "model_module_version": "1.5.0",
      "model_name": "IntProgressModel",
      "state": {
       "layout": "IPY_MODEL_76f37f3d030b4720818f6281b2e8c2ca",
       "style": "IPY_MODEL_5f042bf85fb742f3bd3894672a364b0d",
       "value": 30
      }
     },
     "4cf5047730b0470f95b892bab0fe3711": {
      "model_module": "@jupyter-widgets/base",
      "model_module_version": "1.2.0",
      "model_name": "LayoutModel",
      "state": {
       "display": "flex"
      }
     },
     "4d1a03319d7643409fcf6975e5e740c2": {
      "model_module": "@jupyter-widgets/controls",
      "model_module_version": "1.5.0",
      "model_name": "DescriptionStyleModel",
      "state": {
       "description_width": ""
      }
     },
     "4d24e009c8fd40369bea787c725245b1": {
      "model_module": "@jupyter-widgets/controls",
      "model_module_version": "1.5.0",
      "model_name": "HBoxModel",
      "state": {
       "children": [
        "IPY_MODEL_c254e3b4847748f495ee670d6625a5bc",
        "IPY_MODEL_3cc2bdcec0504404b5ef2867eb84012f",
        "IPY_MODEL_f94f97e997a14591896ed982a3d3f321",
        "IPY_MODEL_2d6b4781d43a4a38a232d050e0ce6205"
       ],
       "layout": "IPY_MODEL_f73a537861cb4ad5b2478de7bee41260"
      }
     },
     "4d41473b049f4ffb8879abb371083d60": {
      "model_module": "@jupyter-widgets/controls",
      "model_module_version": "1.5.0",
      "model_name": "DescriptionStyleModel",
      "state": {
       "description_width": ""
      }
     },
     "4d52dba911a14bd689dc484bbe607f52": {
      "model_module": "@jupyter-widgets/base",
      "model_module_version": "1.2.0",
      "model_name": "LayoutModel",
      "state": {
       "border": "3px solid white",
       "display": "flex",
       "flex": "1 1 0%",
       "margin": "10px",
       "min_width": "400px",
       "overflow": "visible",
       "padding": "10px",
       "width": "auto"
      }
     },
     "4dc501430b064fbf9b08c8b026c584c9": {
      "model_module": "@jupyter-widgets/controls",
      "model_module_version": "1.5.0",
      "model_name": "ProgressStyleModel",
      "state": {
       "description_width": ""
      }
     },
     "4e8d9277a0b948ae9f404062c2d361d3": {
      "model_module": "@jupyter-widgets/base",
      "model_module_version": "1.2.0",
      "model_name": "LayoutModel",
      "state": {
       "order": "-1",
       "overflow": "visible",
       "padding": "1px",
       "width": "0px"
      }
     },
     "4e9ebf148e9a44af91ae5107045b83f0": {
      "model_module": "@jupyter-widgets/controls",
      "model_module_version": "1.5.0",
      "model_name": "ProgressStyleModel",
      "state": {
       "description_width": ""
      }
     },
     "4e9fc4ac76944f0795ce959e171840bd": {
      "model_module": "@jupyter-widgets/controls",
      "model_module_version": "1.5.0",
      "model_name": "LabelModel",
      "state": {
       "layout": "IPY_MODEL_301251161cb140bc875db24291a9ad42",
       "style": "IPY_MODEL_6204b83b9d734556bf955286eff9416e",
       "value": "    Glory Rank Points (0/1)"
      }
     },
     "4ea32022262e405bab96cd510b571818": {
      "model_module": "@jupyter-widgets/base",
      "model_module_version": "1.2.0",
      "model_name": "LayoutModel",
      "state": {
       "height": "32px",
       "order": "-2",
       "width": "32px"
      }
     },
     "4eb368f9a9c2400c918a699bdc34f75c": {
      "model_module": "@jupyter-widgets/controls",
      "model_module_version": "1.5.0",
      "model_name": "HBoxModel",
      "state": {
       "children": [
        "IPY_MODEL_49b7c0a824eb4168b313af0de9b77910",
        "IPY_MODEL_a4c6b990f0d241b3ad7b11bb8b1f89df",
        "IPY_MODEL_95675b3b52e943eca08e99663a89c9a3",
        "IPY_MODEL_2f62c35c87544d90a9e387226f8ce53a"
       ],
       "layout": "IPY_MODEL_bf23f5476c104475823df68555e5a7a8"
      }
     },
     "4ec2f18504804fd48e752bded9f7bbfc": {
      "model_module": "@jupyter-widgets/controls",
      "model_module_version": "1.5.0",
      "model_name": "ButtonModel",
      "state": {
       "description": "EDIT",
       "layout": "IPY_MODEL_b1b2a45a479e45a084721ee8df0b7289",
       "style": "IPY_MODEL_10aae4987e044f7cab638bd4b6aa89db"
      }
     },
     "4ec8f5b7f55e40969517613d48e9b808": {
      "model_module": "@jupyter-widgets/base",
      "model_module_version": "1.2.0",
      "model_name": "LayoutModel",
      "state": {
       "display": "none",
       "width": "60px"
      }
     },
     "4ed67d38d46c4e47a76ee54be4e9892f": {
      "model_module": "@jupyter-widgets/base",
      "model_module_version": "1.2.0",
      "model_name": "LayoutModel",
      "state": {
       "display": "flex"
      }
     },
     "4edc95b3bed448cb8233176ac8ec7840": {
      "model_module": "@jupyter-widgets/controls",
      "model_module_version": "1.5.0",
      "model_name": "ButtonStyleModel",
      "state": {}
     },
     "4eede1ba3dac4d33aea0d26e6ddb7cb3": {
      "model_module": "@jupyter-widgets/controls",
      "model_module_version": "1.5.0",
      "model_name": "HBoxModel",
      "state": {
       "children": [
        "IPY_MODEL_0f3c87067c0e4b7488de7c95b3b1047f",
        "IPY_MODEL_cb4331062c2d44ed988d424cc540df21"
       ],
       "layout": "IPY_MODEL_0bb4c9e99a4749d48308efb0d8960b0c"
      }
     },
     "4ef8b3c3b1f5495ab577c77aaaacd6cd": {
      "model_module": "@jupyter-widgets/controls",
      "model_module_version": "1.5.0",
      "model_name": "IntProgressModel",
      "state": {
       "bar_style": "success",
       "layout": "IPY_MODEL_0ff5a0e110074102925bf379991aa9ef",
       "style": "IPY_MODEL_e2e2dc2f4a1d4caf9b36d18a88c74532",
       "value": 100
      }
     },
     "4f437d892f934f3692373090c48dac85": {
      "model_module": "@jupyter-widgets/controls",
      "model_module_version": "1.5.0",
      "model_name": "ButtonModel",
      "state": {
       "description": "EDIT",
       "layout": "IPY_MODEL_1704eaab58914699946f1be014200dd6",
       "style": "IPY_MODEL_4632bf7624114b19bfe48bd8cf78a5dc"
      }
     },
     "4f4434ba32b04e8db077416b78dfd3a5": {
      "model_module": "@jupyter-widgets/controls",
      "model_module_version": "1.5.0",
      "model_name": "DescriptionStyleModel",
      "state": {
       "description_width": ""
      }
     },
     "4f482015e5764d2c819988fd9807f702": {
      "model_module": "@jupyter-widgets/controls",
      "model_module_version": "1.5.0",
      "model_name": "HBoxModel",
      "state": {
       "children": [
        "IPY_MODEL_7f076a032db2476d8456c631d70c2fdb",
        "IPY_MODEL_345dc966f16943009251bd634a72a0de",
        "IPY_MODEL_dcf566e87dd5464db804bba6184cf975",
        "IPY_MODEL_a47344a2788749b2b032e19c40c9b3f2"
       ],
       "layout": "IPY_MODEL_2cae062f674842748246c7410a1f7a8a"
      }
     },
     "4f722f0d721b42aa8eb5d143ef4eb897": {
      "model_module": "@jupyter-widgets/base",
      "model_module_version": "1.2.0",
      "model_name": "LayoutModel",
      "state": {
       "height": "32px",
       "order": "-2",
       "width": "32px"
      }
     },
     "4f78abb251bb4af5a15cb4fe4541c364": {
      "model_module": "@jupyter-widgets/controls",
      "model_module_version": "1.5.0",
      "model_name": "ButtonStyleModel",
      "state": {}
     },
     "4fc49d2d95b645f4b85b5d8f663e0b64": {
      "model_module": "@jupyter-widgets/controls",
      "model_module_version": "1.5.0",
      "model_name": "ButtonModel",
      "state": {
       "layout": "IPY_MODEL_55f92f2e54ec42a89497b21ab13974ae",
       "style": "IPY_MODEL_23d71f8233bc4f43b1504040a9afbbc3"
      }
     },
     "4fd0e928e1dc433bb2f45bc969244eec": {
      "model_module": "@jupyter-widgets/base",
      "model_module_version": "1.2.0",
      "model_name": "LayoutModel",
      "state": {
       "height": "32px",
       "order": "-2",
       "width": "32px"
      }
     },
     "4fde488436bf4271bb685639a8f9ec7a": {
      "model_module": "@jupyter-widgets/base",
      "model_module_version": "1.2.0",
      "model_name": "LayoutModel",
      "state": {
       "display": "none",
       "width": "60px"
      }
     },
     "500f5de798b4421584c8b483f1bfc377": {
      "model_module": "@jupyter-widgets/controls",
      "model_module_version": "1.5.0",
      "model_name": "ProgressStyleModel",
      "state": {
       "description_width": ""
      }
     },
     "502443f26edc4e69aa0509396445f5f1": {
      "model_module": "@jupyter-widgets/controls",
      "model_module_version": "1.5.0",
      "model_name": "VBoxModel",
      "state": {
       "children": [
        "IPY_MODEL_3f5a6b553a454ed09d10b6269a408f0e",
        "IPY_MODEL_b86f3118c987491a936810a2efd80541",
        "IPY_MODEL_81d808e471ed4c2781049e74badde62b",
        "IPY_MODEL_97763a7ecf69480fabac8174ec42010e"
       ],
       "layout": "IPY_MODEL_c2c911c5d7c7443699632f3854f17698"
      }
     },
     "502666bcb40040f59307f450e82b9ea1": {
      "model_module": "@jupyter-widgets/controls",
      "model_module_version": "1.5.0",
      "model_name": "IntProgressModel",
      "state": {
       "bar_style": "success",
       "layout": "IPY_MODEL_fb7ee69d87f74ed880ff142d8f08d0ac",
       "max": 25,
       "style": "IPY_MODEL_0aa1693a3a85463bb728c314d1ec469c",
       "value": 25
      }
     },
     "5039408375da45b48b7123d2600bafae": {
      "model_module": "@jupyter-widgets/controls",
      "model_module_version": "1.5.0",
      "model_name": "ButtonModel",
      "state": {
       "layout": "IPY_MODEL_d5515c4ffa0e42588b663603651f27bf",
       "style": "IPY_MODEL_f0702e02dc7b42cbbcb8df7f6871eb50"
      }
     },
     "5047e2896cfa4533983a41578890ea7b": {
      "model_module": "@jupyter-widgets/controls",
      "model_module_version": "1.5.0",
      "model_name": "ButtonStyleModel",
      "state": {}
     },
     "505df0b65c854d57b4d94ce28ad4429f": {
      "model_module": "@jupyter-widgets/controls",
      "model_module_version": "1.5.0",
      "model_name": "ButtonModel",
      "state": {
       "description": "EDIT",
       "layout": "IPY_MODEL_2105d60a252c42a38b29d72078278dd4",
       "style": "IPY_MODEL_6f930942be7c4e6e9caa13a5e8217af6"
      }
     },
     "506da6f12aaf4b369934bc650d87e1cc": {
      "model_module": "@jupyter-widgets/controls",
      "model_module_version": "1.5.0",
      "model_name": "DescriptionStyleModel",
      "state": {
       "description_width": ""
      }
     },
     "50828a16ef41421697ea4f348b288211": {
      "model_module": "@jupyter-widgets/controls",
      "model_module_version": "1.5.0",
      "model_name": "IntProgressModel",
      "state": {
       "layout": "IPY_MODEL_7aac7cf4eef241449a5e1886eb55c507",
       "style": "IPY_MODEL_b0d0114f501443fbb9a209c65f81b7e3",
       "value": 30
      }
     },
     "50a02e0676a94638b5738f80750dc7d2": {
      "model_module": "@jupyter-widgets/controls",
      "model_module_version": "1.5.0",
      "model_name": "IntProgressModel",
      "state": {
       "bar_style": "success",
       "layout": "IPY_MODEL_551c230d5c7f4454ad8aef904ec86638",
       "style": "IPY_MODEL_e96631a741f94f53b2df89f605518f78",
       "value": 100
      }
     },
     "50ab3d0e8e20410fbffa6e99d3c328de": {
      "model_module": "@jupyter-widgets/controls",
      "model_module_version": "1.5.0",
      "model_name": "HBoxModel",
      "state": {
       "children": [
        "IPY_MODEL_b68dc64b64fc46329a2fa93ef6921b24",
        "IPY_MODEL_dd6912dfde604b6b82db99f64ebfe604",
        "IPY_MODEL_67672353bfac473da679b98f0c2f7fa2",
        "IPY_MODEL_8209178ca78e43b0ba8227049daee4da"
       ],
       "layout": "IPY_MODEL_8514972ad913445d960825e7e977374e"
      }
     },
     "50d8efcc54a744e5b477ff29468d07d5": {
      "model_module": "@jupyter-widgets/controls",
      "model_module_version": "1.5.0",
      "model_name": "DescriptionStyleModel",
      "state": {
       "description_width": ""
      }
     },
     "50da8dfce9aa4176a6b5fbde70a830e9": {
      "model_module": "@jupyter-widgets/controls",
      "model_module_version": "1.5.0",
      "model_name": "HTMLModel",
      "state": {
       "layout": "IPY_MODEL_c74cca6ed5b044378c00a7576de78b2e",
       "style": "IPY_MODEL_9bc176031dd0451aac94129b44b4082b",
       "value": "<i>Control: Score five Advantage or Power Play kills before the opponent recaptures a zone.</i>"
      }
     },
     "50e3c297d3d440d78a8a84ff2d4a51e7": {
      "model_module": "@jupyter-widgets/controls",
      "model_module_version": "1.5.0",
      "model_name": "DescriptionStyleModel",
      "state": {
       "description_width": ""
      }
     },
     "50ff47b6be03443aa3896913e17065af": {
      "model_module": "@jupyter-widgets/controls",
      "model_module_version": "1.5.0",
      "model_name": "DescriptionStyleModel",
      "state": {
       "description_width": ""
      }
     },
     "5106b61de417403787efd4177dfe30c8": {
      "model_module": "@jupyter-widgets/base",
      "model_module_version": "1.2.0",
      "model_name": "LayoutModel",
      "state": {
       "overflow": "visible",
       "width": "100%"
      }
     },
     "510d305b91ea4599bcfc8e50df5f2ab8": {
      "model_module": "@jupyter-widgets/controls",
      "model_module_version": "1.5.0",
      "model_name": "DescriptionStyleModel",
      "state": {
       "description_width": ""
      }
     },
     "513a8d9391a147bcb9c0b06b043617fe": {
      "model_module": "@jupyter-widgets/controls",
      "model_module_version": "1.5.0",
      "model_name": "HBoxModel",
      "state": {
       "children": [
        "IPY_MODEL_22fd8e81a71b4170b171ac29e39bf618",
        "IPY_MODEL_8565be7ebaed404d8d44a3d7b3a2146e",
        "IPY_MODEL_9426aa56e0324f8ab875d0090996f33e",
        "IPY_MODEL_165986a840874c3e9da672faad37e38c"
       ],
       "layout": "IPY_MODEL_22d7ab41a69e45889f23b60224f0ba0a"
      }
     },
     "516765f0868540f7a3d4b700da0230ed": {
      "model_module": "@jupyter-widgets/controls",
      "model_module_version": "1.5.0",
      "model_name": "HBoxModel",
      "state": {
       "children": [
        "IPY_MODEL_bcf549ee6f8041ffa28dd60ba229202a",
        "IPY_MODEL_fddd9cb0e8614eb0aeede97a15979fdf",
        "IPY_MODEL_ecfe4f92f5db48eb880d9809128d747b",
        "IPY_MODEL_f88513343eef4abfa4e0edef2d5d2d5a"
       ],
       "layout": "IPY_MODEL_d8674cf79e64444fbe703678df760e5d"
      }
     },
     "516e83fccf6c4a09ba301fe6a4dd6750": {
      "model_module": "@jupyter-widgets/base",
      "model_module_version": "1.2.0",
      "model_name": "LayoutModel",
      "state": {
       "display": "none",
       "width": "60px"
      }
     },
     "51a0bec27b364bd2a23a0575d91b1747": {
      "model_module": "@jupyter-widgets/controls",
      "model_module_version": "1.5.0",
      "model_name": "HBoxModel",
      "state": {
       "children": [
        "IPY_MODEL_05ee8085c620425b9668773ff9eb1b4d",
        "IPY_MODEL_c8f2dcee56a04b1fa437932c068fb8d8",
        "IPY_MODEL_240e02acc2bb4812af450a2f1135fe13",
        "IPY_MODEL_60ad5569de524b3ba471e0eb6b5d6878"
       ],
       "layout": "IPY_MODEL_1e2f1a697c6248368cc13bac49bfc94d"
      }
     },
     "51c933b2667d4c0ca8e8568571c070a5": {
      "model_module": "@jupyter-widgets/controls",
      "model_module_version": "1.5.0",
      "model_name": "ButtonStyleModel",
      "state": {}
     },
     "51ea2700dc39412b964c6cd699e0a64f": {
      "model_module": "@jupyter-widgets/controls",
      "model_module_version": "1.5.0",
      "model_name": "LabelModel",
      "state": {
       "layout": "IPY_MODEL_29dce37bec14430ab57eac13f6b74a99",
       "style": "IPY_MODEL_5cdf50d3ba3943998068bf368b2a1cfb",
       "value": "    Glory ranks (2/5)"
      }
     },
     "51f4480aaba74ddbbf139709167784ce": {
      "model_module": "@jupyter-widgets/base",
      "model_module_version": "1.2.0",
      "model_name": "LayoutModel",
      "state": {
       "border": "1px solid white",
       "min_width": "250px",
       "padding": "10px",
       "width": "15%"
      }
     },
     "525be4f92bdb4e02914c41a289612e24": {
      "model_module": "@jupyter-widgets/base",
      "model_module_version": "1.2.0",
      "model_name": "LayoutModel",
      "state": {
       "height": "32px",
       "overflow": "visible",
       "width": "100%"
      }
     },
     "526fcfd80dff4333acc19317648931b0": {
      "model_module": "@jupyter-widgets/base",
      "model_module_version": "1.2.0",
      "model_name": "LayoutModel",
      "state": {}
     },
     "5276f85f40514f779be037fa24e4b26a": {
      "model_module": "@jupyter-widgets/base",
      "model_module_version": "1.2.0",
      "model_name": "LayoutModel",
      "state": {
       "height": "32px",
       "overflow": "visible",
       "width": "100%"
      }
     },
     "528dcc8e531e468b8f78d9441405c4f2": {
      "model_module": "@jupyter-widgets/controls",
      "model_module_version": "1.5.0",
      "model_name": "ButtonStyleModel",
      "state": {}
     },
     "52a8cba237b34d22a17b7d015d7f213d": {
      "model_module": "@jupyter-widgets/controls",
      "model_module_version": "1.5.0",
      "model_name": "ProgressStyleModel",
      "state": {
       "description_width": ""
      }
     },
     "52b3422b259444fcb3aaebd97046cc1b": {
      "model_module": "@jupyter-widgets/base",
      "model_module_version": "1.2.0",
      "model_name": "LayoutModel",
      "state": {
       "height": "32px",
       "overflow": "visible",
       "width": "100%"
      }
     },
     "533497ebbc854597bfbe6cc687c6158b": {
      "model_module": "@jupyter-widgets/controls",
      "model_module_version": "1.5.0",
      "model_name": "LabelModel",
      "state": {
       "layout": "IPY_MODEL_0961b3aac85e4b08899b92fca5a0d79c",
       "style": "IPY_MODEL_c560029d5c7c41ec859dfc3105ca4181",
       "value": "    Crests secured (42/50)"
      }
     },
     "5381db64963d4f54bf210ee9211909bd": {
      "model_module": "@jupyter-widgets/controls",
      "model_module_version": "1.5.0",
      "model_name": "LabelModel",
      "state": {
       "layout": "IPY_MODEL_7e20932ee78447b092b8eeb04a14582a",
       "style": "IPY_MODEL_6e795e6635a44b71bf559b6d76bc50d8",
       "value": "    Crests created (47/25)"
      }
     },
     "538f1b45546741d9b4f813e2b50bd83c": {
      "model_module": "@jupyter-widgets/base",
      "model_module_version": "1.2.0",
      "model_name": "LayoutModel",
      "state": {
       "overflow": "visible",
       "width": "100%"
      }
     },
     "53a2dec4a6744faba953cbbcc6afbe4e": {
      "model_module": "@jupyter-widgets/controls",
      "model_module_version": "1.5.0",
      "model_name": "IntProgressModel",
      "state": {
       "bar_style": "success",
       "layout": "IPY_MODEL_5be9ea6f94554cd283a1a94b440fda71",
       "max": 50,
       "style": "IPY_MODEL_1846cbff4b224035a8a507ff5dddd0d2",
       "value": 50
      }
     },
     "5446bcc3bb1c4e92b6ab9a6ad6bb9345": {
      "model_module": "@jupyter-widgets/controls",
      "model_module_version": "1.5.0",
      "model_name": "DescriptionStyleModel",
      "state": {
       "description_width": ""
      }
     },
     "54763f4b13d44ef8be96a8c8ad5361dd": {
      "model_module": "@jupyter-widgets/controls",
      "model_module_version": "1.5.0",
      "model_name": "IntProgressModel",
      "state": {
       "bar_style": "success",
       "layout": "IPY_MODEL_8e534ef9f67b446ea747f3b09cc7ffad",
       "max": 7,
       "style": "IPY_MODEL_f5f8c766dc264fe486cd0a83e3783127",
       "value": 7
      }
     },
     "5497389014dd4a61a23532df32058928": {
      "model_module": "@jupyter-widgets/base",
      "model_module_version": "1.2.0",
      "model_name": "LayoutModel",
      "state": {
       "order": "-1",
       "overflow": "visible",
       "padding": "1px",
       "width": "0px"
      }
     },
     "54c5138de7244b929137dc33710b73c4": {
      "model_module": "@jupyter-widgets/base",
      "model_module_version": "1.2.0",
      "model_name": "LayoutModel",
      "state": {
       "height": "32px",
       "order": "-2",
       "width": "32px"
      }
     },
     "54de3043f00645349a3803bfed44c9c1": {
      "model_module": "@jupyter-widgets/base",
      "model_module_version": "1.2.0",
      "model_name": "LayoutModel",
      "state": {
       "order": "-1",
       "overflow": "visible",
       "padding": "1px",
       "width": "0px"
      }
     },
     "54f4b718132d4615a4ab12f0edafc672": {
      "model_module": "@jupyter-widgets/base",
      "model_module_version": "1.2.0",
      "model_name": "LayoutModel",
      "state": {}
     },
     "551c230d5c7f4454ad8aef904ec86638": {
      "model_module": "@jupyter-widgets/base",
      "model_module_version": "1.2.0",
      "model_name": "LayoutModel",
      "state": {
       "height": "32px",
       "overflow": "visible",
       "width": "100%"
      }
     },
     "5526b4d78dae496bbb8caeef46d7da95": {
      "model_module": "@jupyter-widgets/controls",
      "model_module_version": "1.5.0",
      "model_name": "ButtonStyleModel",
      "state": {}
     },
     "552f3752b5b545019ee8b5fe0ce4bca0": {
      "model_module": "@jupyter-widgets/base",
      "model_module_version": "1.2.0",
      "model_name": "LayoutModel",
      "state": {
       "height": "32px",
       "order": "-2",
       "width": "32px"
      }
     },
     "55440f61d34d451cb487bbf23b75263d": {
      "model_module": "@jupyter-widgets/controls",
      "model_module_version": "1.5.0",
      "model_name": "DescriptionStyleModel",
      "state": {
       "description_width": ""
      }
     },
     "555d202bf7de450b820d55d3200acacb": {
      "model_module": "@jupyter-widgets/base",
      "model_module_version": "1.2.0",
      "model_name": "LayoutModel",
      "state": {
       "height": "32px",
       "overflow": "visible",
       "width": "100%"
      }
     },
     "55695d4ea02c453aa93988dc2a516d07": {
      "model_module": "@jupyter-widgets/controls",
      "model_module_version": "1.5.0",
      "model_name": "DescriptionStyleModel",
      "state": {
       "description_width": ""
      }
     },
     "559758dd9fbb43649e8996caffc6bbeb": {
      "model_module": "@jupyter-widgets/controls",
      "model_module_version": "1.5.0",
      "model_name": "ButtonModel",
      "state": {
       "description": "EDIT",
       "layout": "IPY_MODEL_9425e6bf0b444180afb955f6480a6301",
       "style": "IPY_MODEL_78691c5752de4ce490345119b33c2080"
      }
     },
     "559fd64d68cc4d2581b64beab9370d04": {
      "model_module": "@jupyter-widgets/controls",
      "model_module_version": "1.5.0",
      "model_name": "HTMLModel",
      "state": {
       "layout": "IPY_MODEL_e02218c2062a4f8b99feeda086953f94",
       "style": "IPY_MODEL_dcedf6075bce4ccebb0321f2be89bd8a",
       "value": "<font size=\"1\">Triumphs/Crucible/Lifetime/Iron Banner/Season 4: Iron Remembrance</font size=>"
      }
     },
     "55b4d45fc9d34d47bd784fb47388c6a6": {
      "model_module": "@jupyter-widgets/controls",
      "model_module_version": "1.5.0",
      "model_name": "DescriptionStyleModel",
      "state": {
       "description_width": ""
      }
     },
     "55ba55dac1ee469c86fce69cb7430a4e": {
      "model_module": "@jupyter-widgets/base",
      "model_module_version": "1.2.0",
      "model_name": "LayoutModel",
      "state": {
       "height": "32px",
       "order": "-2",
       "width": "32px"
      }
     },
     "55d72798a76f40e79742fbdf2e89105c": {
      "model_module": "@jupyter-widgets/base",
      "model_module_version": "1.2.0",
      "model_name": "LayoutModel",
      "state": {
       "height": "32px",
       "order": "-2",
       "width": "32px"
      }
     },
     "55f92f2e54ec42a89497b21ab13974ae": {
      "model_module": "@jupyter-widgets/base",
      "model_module_version": "1.2.0",
      "model_name": "LayoutModel",
      "state": {
       "height": "32px",
       "order": "-2",
       "width": "32px"
      }
     },
     "55fe9f919b724e399d3417f1d94ff162": {
      "model_module": "@jupyter-widgets/controls",
      "model_module_version": "1.5.0",
      "model_name": "LabelModel",
      "state": {
       "layout": "IPY_MODEL_17ddcd88f6044f5f8f4e2460a6f7ecc8",
       "style": "IPY_MODEL_d71690f0d25f4caa81505e9196848b23",
       "value": "    Supers cast (210/100)"
      }
     },
     "56074b21a2364645b09bda803b056e47": {
      "model_module": "@jupyter-widgets/base",
      "model_module_version": "1.2.0",
      "model_name": "LayoutModel",
      "state": {
       "height": "32px",
       "order": "-2",
       "width": "32px"
      }
     },
     "5608b0c6ec4d46ac90f25edfeb5e7bff": {
      "model_module": "@jupyter-widgets/controls",
      "model_module_version": "1.5.0",
      "model_name": "ButtonModel",
      "state": {
       "description": "EDIT",
       "layout": "IPY_MODEL_6d552578f539429c9f37fc8612f78928",
       "style": "IPY_MODEL_7e053ecd72314fe3a3721213b090e2fc"
      }
     },
     "560bb64327bb4c5dab7deeac299eb341": {
      "model_module": "@jupyter-widgets/controls",
      "model_module_version": "1.5.0",
      "model_name": "ButtonModel",
      "state": {
       "layout": "IPY_MODEL_dec6035fad9249c6b4c6d2d47f1d0372",
       "style": "IPY_MODEL_2f4f91a81a2844c6b0dfc83d9913f554"
      }
     },
     "5643b8670da64e70ab8abe9cf52b2155": {
      "model_module": "@jupyter-widgets/controls",
      "model_module_version": "1.5.0",
      "model_name": "ButtonStyleModel",
      "state": {}
     },
     "566b9dedbd044f02930b0fae25abda89": {
      "model_module": "@jupyter-widgets/controls",
      "model_module_version": "1.5.0",
      "model_name": "LabelModel",
      "state": {
       "layout": "IPY_MODEL_1bae0b1e7cde4c6889a13c9bf4ce5eb0",
       "style": "IPY_MODEL_6e8d02c1bc67423b9c21879a46a6de2b",
       "value": "    Medals earned (11/1)"
      }
     },
     "568c4f94645b4fea8c7e88e76c9fe309": {
      "model_module": "@jupyter-widgets/controls",
      "model_module_version": "1.5.0",
      "model_name": "DescriptionStyleModel",
      "state": {
       "description_width": ""
      }
     },
     "56e82a1101d04f3d86f9412493804e46": {
      "model_module": "@jupyter-widgets/base",
      "model_module_version": "1.2.0",
      "model_name": "LayoutModel",
      "state": {
       "overflow": "visible",
       "width": "100%"
      }
     },
     "570dffe6639347b5b31119f5b1407fca": {
      "model_module": "@jupyter-widgets/controls",
      "model_module_version": "1.5.0",
      "model_name": "ProgressStyleModel",
      "state": {
       "description_width": ""
      }
     },
     "571ea96b057d4790bc1ba2f0d37e5f8b": {
      "model_module": "@jupyter-widgets/controls",
      "model_module_version": "1.5.0",
      "model_name": "ButtonModel",
      "state": {
       "description": "EDIT",
       "layout": "IPY_MODEL_953f55489bfb4b0895ff29390821b2b2",
       "style": "IPY_MODEL_b831644d3e75408c980fe743171ed536"
      }
     },
     "5737d98fef864b70810bfe7d64545f60": {
      "model_module": "@jupyter-widgets/base",
      "model_module_version": "1.2.0",
      "model_name": "LayoutModel",
      "state": {
       "order": "-1",
       "overflow": "visible",
       "padding": "1px",
       "width": "0px"
      }
     },
     "574e434803364e24b509a19f483537ba": {
      "model_module": "@jupyter-widgets/base",
      "model_module_version": "1.2.0",
      "model_name": "LayoutModel",
      "state": {
       "display": "none"
      }
     },
     "5793662094684c94bae3df10ebd0816b": {
      "model_module": "@jupyter-widgets/controls",
      "model_module_version": "1.5.0",
      "model_name": "VBoxModel",
      "state": {
       "children": [
        "IPY_MODEL_51a0bec27b364bd2a23a0575d91b1747",
        "IPY_MODEL_f82294d869904e7698d5e2be07c78158",
        "IPY_MODEL_a784dcac65a54296b6da24c42f2c086f",
        "IPY_MODEL_dbad4172db4f405694a095bdc6959fb5",
        "IPY_MODEL_a2625197e321456aa7b815f183fcc810",
        "IPY_MODEL_bb6c7acac08f491c8968650ef7b220d9"
       ],
       "layout": "IPY_MODEL_cc71bfce74f04338bf043dc7eb8f3fcf"
      }
     },
     "57c237125eea4b3c93e40b47ceb08c6f": {
      "model_module": "@jupyter-widgets/base",
      "model_module_version": "1.2.0",
      "model_name": "LayoutModel",
      "state": {
       "height": "32px",
       "order": "-2",
       "width": "32px"
      }
     },
     "57c550010e854f39a7733a818a16da6e": {
      "model_module": "@jupyter-widgets/controls",
      "model_module_version": "1.5.0",
      "model_name": "ButtonModel",
      "state": {
       "layout": "IPY_MODEL_6d2b449e592048ef9ee9ef1899b8935d",
       "style": "IPY_MODEL_7e25a6fdec564a66803ea80cd7b28ea6"
      }
     },
     "582b94ec851d4a6e8f05634d666b6b00": {
      "model_module": "@jupyter-widgets/controls",
      "model_module_version": "1.5.0",
      "model_name": "DescriptionStyleModel",
      "state": {
       "description_width": ""
      }
     },
     "582e3c3b0ed949d69de6f7026356890f": {
      "model_module": "@jupyter-widgets/base",
      "model_module_version": "1.2.0",
      "model_name": "LayoutModel",
      "state": {
       "height": "32px",
       "order": "-2",
       "width": "32px"
      }
     },
     "58856ec0fae1423bbb0fd5d39f79875c": {
      "model_module": "@jupyter-widgets/controls",
      "model_module_version": "1.5.0",
      "model_name": "ButtonStyleModel",
      "state": {}
     },
     "5887e9395d274855a1b6fdaa5a8126d7": {
      "model_module": "@jupyter-widgets/controls",
      "model_module_version": "1.5.0",
      "model_name": "ButtonModel",
      "state": {
       "description": "EDIT",
       "layout": "IPY_MODEL_dbd9d5ab4644444c93a694582d6c6145",
       "style": "IPY_MODEL_7c3ced5ea789464a86bd594f9f0c14d4"
      }
     },
     "58884f5b0d2741759f4f2534ae80df8a": {
      "model_module": "@jupyter-widgets/controls",
      "model_module_version": "1.5.0",
      "model_name": "ButtonModel",
      "state": {
       "description": "EDIT",
       "layout": "IPY_MODEL_96ef09384a2a477084ba70a5afd59020",
       "style": "IPY_MODEL_7d17afbf3d7e4ba2859d8ed024aaab6e"
      }
     },
     "58ac1949445742a5b27e14b879d58b99": {
      "model_module": "@jupyter-widgets/controls",
      "model_module_version": "1.5.0",
      "model_name": "ButtonStyleModel",
      "state": {}
     },
     "58d966ad1d6c4e65996b05b6e057814f": {
      "model_module": "@jupyter-widgets/controls",
      "model_module_version": "1.5.0",
      "model_name": "DescriptionStyleModel",
      "state": {
       "description_width": ""
      }
     },
     "58eb2afff137474aa3a9e697bad3cc33": {
      "model_module": "@jupyter-widgets/controls",
      "model_module_version": "1.5.0",
      "model_name": "DescriptionStyleModel",
      "state": {
       "description_width": ""
      }
     },
     "58f7b9cb100847839d4c1e1d492d888c": {
      "model_module": "@jupyter-widgets/base",
      "model_module_version": "1.2.0",
      "model_name": "LayoutModel",
      "state": {
       "display": "none"
      }
     },
     "58fc0887ec4244dc8f679a62b029f183": {
      "model_module": "@jupyter-widgets/controls",
      "model_module_version": "1.5.0",
      "model_name": "ButtonModel",
      "state": {
       "layout": "IPY_MODEL_c488e6a28e23461da92d0e496dd9375e",
       "style": "IPY_MODEL_6c979ccfae18450b8f39d586880d4aad"
      }
     },
     "592fd97be2f74665bfcc1aac6c2d0fc7": {
      "model_module": "@jupyter-widgets/controls",
      "model_module_version": "1.5.0",
      "model_name": "HBoxModel",
      "state": {
       "children": [
        "IPY_MODEL_250f8a705c5b41e9a4c6081321263d7d",
        "IPY_MODEL_9a45c2410d77412f8fbd7bc064c49f77",
        "IPY_MODEL_6708881df9504aafbb84b333ae149418",
        "IPY_MODEL_62566966fc6b410db5e68b25bd5abdb0"
       ],
       "layout": "IPY_MODEL_139f78df13ae407787aed646ec42b020"
      }
     },
     "5953d72ec3884a67a04bcdc9c743172e": {
      "model_module": "@jupyter-widgets/base",
      "model_module_version": "1.2.0",
      "model_name": "LayoutModel",
      "state": {
       "display": "none"
      }
     },
     "59a29c87781a4d5196e2ac1734752d36": {
      "model_module": "@jupyter-widgets/base",
      "model_module_version": "1.2.0",
      "model_name": "LayoutModel",
      "state": {
       "order": "-1",
       "overflow": "visible",
       "padding": "1px",
       "width": "0px"
      }
     },
     "59bc584b3c92493699cbe7a4cea98105": {
      "model_module": "@jupyter-widgets/controls",
      "model_module_version": "1.5.0",
      "model_name": "ButtonModel",
      "state": {
       "layout": "IPY_MODEL_552f3752b5b545019ee8b5fe0ce4bca0",
       "style": "IPY_MODEL_65293f960c754b7d9f608b3f3a9c64fd"
      }
     },
     "59e84b96fc414ddbb91195c296e86240": {
      "model_module": "@jupyter-widgets/controls",
      "model_module_version": "1.5.0",
      "model_name": "DescriptionStyleModel",
      "state": {
       "description_width": ""
      }
     },
     "59ea3075024f427982d6ae5de0135d5f": {
      "model_module": "@jupyter-widgets/controls",
      "model_module_version": "1.5.0",
      "model_name": "DescriptionStyleModel",
      "state": {
       "description_width": ""
      }
     },
     "5a287ce1d8ec44159b6ea0f382d96955": {
      "model_module": "@jupyter-widgets/controls",
      "model_module_version": "1.5.0",
      "model_name": "IntProgressModel",
      "state": {
       "bar_style": "success",
       "layout": "IPY_MODEL_0ccc1b5c37c6409aaa60d579696c0589",
       "max": 1,
       "style": "IPY_MODEL_b92fcd2863df4652bb3d123b24ceb790",
       "value": 1
      }
     },
     "5a3240c45db74918b4b0d78405f7f6e2": {
      "model_module": "@jupyter-widgets/base",
      "model_module_version": "1.2.0",
      "model_name": "LayoutModel",
      "state": {
       "height": "32px",
       "order": "-2",
       "width": "32px"
      }
     },
     "5a49c786fec64638a0192709e6b13724": {
      "model_module": "@jupyter-widgets/controls",
      "model_module_version": "1.5.0",
      "model_name": "ButtonModel",
      "state": {
       "layout": "IPY_MODEL_64758791f1374789836ec82c52a31eea",
       "style": "IPY_MODEL_395ea9cd9647409d8855ea0cfafaa78e"
      }
     },
     "5a6efce90a844b2cbce8636149326f92": {
      "model_module": "@jupyter-widgets/controls",
      "model_module_version": "1.5.0",
      "model_name": "ButtonStyleModel",
      "state": {}
     },
     "5a7eebe65ea94a40af48b79f62063fcb": {
      "model_module": "@jupyter-widgets/controls",
      "model_module_version": "1.5.0",
      "model_name": "LabelModel",
      "state": {
       "layout": "IPY_MODEL_f6aa665896c946f29a25e3fde60e0a34",
       "style": "IPY_MODEL_810d73fb33c54421811764eca8f8b11f",
       "value": "   objective"
      }
     },
     "5a81a17d866b4a1090bf4b294c96dc54": {
      "model_module": "@jupyter-widgets/base",
      "model_module_version": "1.2.0",
      "model_name": "LayoutModel",
      "state": {
       "display": "flex",
       "flex_flow": "row wrap"
      }
     },
     "5ab8cc8c6c5d436597c9d1c888ba9c88": {
      "model_module": "@jupyter-widgets/controls",
      "model_module_version": "1.5.0",
      "model_name": "DescriptionStyleModel",
      "state": {
       "description_width": ""
      }
     },
     "5b1227f660b643a1ac7715b0d6b292ee": {
      "model_module": "@jupyter-widgets/controls",
      "model_module_version": "1.5.0",
      "model_name": "DescriptionStyleModel",
      "state": {
       "description_width": ""
      }
     },
     "5b1760b940e54572a63d33ce4aad49d3": {
      "model_module": "@jupyter-widgets/base",
      "model_module_version": "1.2.0",
      "model_name": "LayoutModel",
      "state": {}
     },
     "5b3aaf53bc3e4f4b9bee3b67f3a8b6c6": {
      "model_module": "@jupyter-widgets/controls",
      "model_module_version": "1.5.0",
      "model_name": "DescriptionStyleModel",
      "state": {
       "description_width": ""
      }
     },
     "5b5f1fdc418a476ea971dc3ca6c8bfec": {
      "model_module": "@jupyter-widgets/base",
      "model_module_version": "1.2.0",
      "model_name": "LayoutModel",
      "state": {
       "display": "none"
      }
     },
     "5b7a8356b97649a5a7e61e27e067eb85": {
      "model_module": "@jupyter-widgets/controls",
      "model_module_version": "1.5.0",
      "model_name": "IntProgressModel",
      "state": {
       "bar_style": "success",
       "layout": "IPY_MODEL_642c7547c15f419480b2fae656c3920d",
       "style": "IPY_MODEL_10373546c2e9440eaa7e94cf110038c6",
       "value": 100
      }
     },
     "5b7df911434544838fa61d78ad4a7420": {
      "model_module": "@jupyter-widgets/controls",
      "model_module_version": "1.5.0",
      "model_name": "DescriptionStyleModel",
      "state": {
       "description_width": ""
      }
     },
     "5be9ea6f94554cd283a1a94b440fda71": {
      "model_module": "@jupyter-widgets/base",
      "model_module_version": "1.2.0",
      "model_name": "LayoutModel",
      "state": {
       "height": "32px",
       "overflow": "visible",
       "width": "100%"
      }
     },
     "5bfa54361919496ea79398edfeca6d1c": {
      "model_module": "@jupyter-widgets/controls",
      "model_module_version": "1.5.0",
      "model_name": "ProgressStyleModel",
      "state": {
       "description_width": ""
      }
     },
     "5c48813255bf4b7cba1ffd300b19a5ca": {
      "model_module": "@jupyter-widgets/controls",
      "model_module_version": "1.5.0",
      "model_name": "ButtonModel",
      "state": {
       "description": "EDIT",
       "layout": "IPY_MODEL_a6a854f173954b07aa30846255ddd886",
       "style": "IPY_MODEL_3887d1bdc0c64c419fcb064633b1dbe1"
      }
     },
     "5c62b87415ce41a1b5ef49101892c2ef": {
      "model_module": "@jupyter-widgets/base",
      "model_module_version": "1.2.0",
      "model_name": "LayoutModel",
      "state": {
       "order": "-1",
       "overflow": "visible",
       "padding": "1px",
       "width": "0px"
      }
     },
     "5c70eff6e8ca4a8889007f5422bb7cd1": {
      "model_module": "@jupyter-widgets/controls",
      "model_module_version": "1.5.0",
      "model_name": "ButtonStyleModel",
      "state": {}
     },
     "5cb407fa55ea4d62801364531ea157cf": {
      "model_module": "@jupyter-widgets/base",
      "model_module_version": "1.2.0",
      "model_name": "LayoutModel",
      "state": {
       "order": "-1",
       "overflow": "visible",
       "padding": "1px",
       "width": "0px"
      }
     },
     "5cdf50d3ba3943998068bf368b2a1cfb": {
      "model_module": "@jupyter-widgets/controls",
      "model_module_version": "1.5.0",
      "model_name": "DescriptionStyleModel",
      "state": {
       "description_width": ""
      }
     },
     "5d0105549e1f47b8904289e199c35613": {
      "model_module": "@jupyter-widgets/base",
      "model_module_version": "1.2.0",
      "model_name": "LayoutModel",
      "state": {
       "order": "-1",
       "overflow": "visible",
       "padding": "1px",
       "width": "0px"
      }
     },
     "5d2ab2ddbb7a4dd9b9d76968dba06372": {
      "model_module": "@jupyter-widgets/controls",
      "model_module_version": "1.5.0",
      "model_name": "VBoxModel",
      "state": {
       "children": [
        "IPY_MODEL_736fdf03fc1542e0b7503e7276e9427d",
        "IPY_MODEL_9fef71007c264591877006c920ecd761",
        "IPY_MODEL_c80d3cb87c0a4ca08e0425d168c603fe",
        "IPY_MODEL_9efea268b61c41ac83c7332f41e5d5b5"
       ],
       "layout": "IPY_MODEL_2f65c7ebecca4130bdbbfa4185783782"
      }
     },
     "5d465d4e7f754124bcccb0fe17a4c0ae": {
      "model_module": "@jupyter-widgets/base",
      "model_module_version": "1.2.0",
      "model_name": "LayoutModel",
      "state": {}
     },
     "5dd364e34ae6458789823e0bd01f81ef": {
      "model_module": "@jupyter-widgets/controls",
      "model_module_version": "1.5.0",
      "model_name": "ButtonModel",
      "state": {
       "description": "EDIT",
       "layout": "IPY_MODEL_4ec8f5b7f55e40969517613d48e9b808",
       "style": "IPY_MODEL_0df3cf7352c2491f8bb4ea1588536ffe"
      }
     },
     "5e0e4bf829bf4327a21e225132a8f839": {
      "model_module": "@jupyter-widgets/controls",
      "model_module_version": "1.5.0",
      "model_name": "LabelModel",
      "state": {
       "layout": "IPY_MODEL_eda969de2f83401fb3d52f60e70611c6",
       "style": "IPY_MODEL_29a2c6dc9d0946fcb9945847cb3214b5",
       "value": "    Collection completed (1/1)"
      }
     },
     "5ee1bb9a26e54d6992c00360b4220e74": {
      "model_module": "@jupyter-widgets/controls",
      "model_module_version": "1.5.0",
      "model_name": "HTMLModel",
      "state": {
       "layout": "IPY_MODEL_ca330ec6bd1c4752a72a02607b96c8b3",
       "style": "IPY_MODEL_11e5d702be4a4093999bd84ffc2cd457",
       "value": "<i>Complete the Crucible weekly challenge in Season 4.</i>"
      }
     },
     "5f042bf85fb742f3bd3894672a364b0d": {
      "model_module": "@jupyter-widgets/controls",
      "model_module_version": "1.5.0",
      "model_name": "ProgressStyleModel",
      "state": {
       "description_width": ""
      }
     },
     "5f0436df931b487c88a1dfe230f0c082": {
      "model_module": "@jupyter-widgets/controls",
      "model_module_version": "1.5.0",
      "model_name": "LabelModel",
      "state": {
       "layout": "IPY_MODEL_7a062477850c4b289e7bc994e6f19fa6",
       "style": "IPY_MODEL_55695d4ea02c453aa93988dc2a516d07",
       "value": "    [Bow][Headshot] Precision (89/25)"
      }
     },
     "5f1f09741b314d5e954498ff5323de3c": {
      "model_module": "@jupyter-widgets/base",
      "model_module_version": "1.2.0",
      "model_name": "LayoutModel",
      "state": {
       "display": "flex"
      }
     },
     "5fd66910c44e4321871e0a7b971d43bb": {
      "model_module": "@jupyter-widgets/controls",
      "model_module_version": "1.5.0",
      "model_name": "DescriptionStyleModel",
      "state": {
       "description_width": ""
      }
     },
     "5fe572d4c3254f038c36358ab37dd671": {
      "model_module": "@jupyter-widgets/controls",
      "model_module_version": "1.5.0",
      "model_name": "ButtonModel",
      "state": {
       "layout": "IPY_MODEL_fe9979ddf5fb4c508ff524d409cc9e96",
       "style": "IPY_MODEL_b01d9f4813b94244b35379f9299c9f55"
      }
     },
     "5fefb9a7b69c407ebe1f5a9f869a289a": {
      "model_module": "@jupyter-widgets/base",
      "model_module_version": "1.2.0",
      "model_name": "LayoutModel",
      "state": {
       "display": "flex"
      }
     },
     "5ff9f501185543898d79801cd0ea1572": {
      "model_module": "@jupyter-widgets/controls",
      "model_module_version": "1.5.0",
      "model_name": "LabelModel",
      "state": {
       "layout": "IPY_MODEL_5d0105549e1f47b8904289e199c35613",
       "style": "IPY_MODEL_da20b4b69fb447c98d3a54258cebe929",
       "value": "    Medals earned (1/1)"
      }
     },
     "60455e7b4e3f45039aba44cf0ae8a0fb": {
      "model_module": "@jupyter-widgets/controls",
      "model_module_version": "1.5.0",
      "model_name": "ProgressStyleModel",
      "state": {
       "description_width": ""
      }
     },
     "60ad5569de524b3ba471e0eb6b5d6878": {
      "model_module": "@jupyter-widgets/controls",
      "model_module_version": "1.5.0",
      "model_name": "ButtonModel",
      "state": {
       "description": "EDIT",
       "layout": "IPY_MODEL_ce049a82a6fe4541949bba9ff3aeee76",
       "style": "IPY_MODEL_19fc3f7e3f394fb5bdbdd0111ab4b2df"
      }
     },
     "60bcd560327a439194a0c52f6b3a1f68": {
      "model_module": "@jupyter-widgets/base",
      "model_module_version": "1.2.0",
      "model_name": "LayoutModel",
      "state": {
       "display": "none",
       "width": "60px"
      }
     },
     "60c16a93b1284ababd72258f787e335a": {
      "model_module": "@jupyter-widgets/base",
      "model_module_version": "1.2.0",
      "model_name": "LayoutModel",
      "state": {
       "display": "none"
      }
     },
     "60d95f3925a048428099cc7c95284b12": {
      "model_module": "@jupyter-widgets/controls",
      "model_module_version": "1.5.0",
      "model_name": "ButtonModel",
      "state": {
       "layout": "IPY_MODEL_ff0b5e072909400c960f27bbc511f2e5",
       "style": "IPY_MODEL_b00b7872158b48e18fb11825c44c13be"
      }
     },
     "60e8397aa5e3440fb4dc74e47789bfa9": {
      "model_module": "@jupyter-widgets/controls",
      "model_module_version": "1.5.0",
      "model_name": "VBoxModel",
      "state": {
       "children": [
        "IPY_MODEL_2b699af0d43e44e293094c3a59b4ca13",
        "IPY_MODEL_78b6b923a45f48a6afa03569560c1ac6",
        "IPY_MODEL_87673798dbc14bb1bb515f709c4d5dfe",
        "IPY_MODEL_3633fa9e60564e1bbedaa45b7f868c6d"
       ],
       "layout": "IPY_MODEL_d971d9e4fe344d88bf19e24f5ddfa06d"
      }
     },
     "61084cde24694b1485265e18252b95a2": {
      "model_module": "@jupyter-widgets/controls",
      "model_module_version": "1.5.0",
      "model_name": "ButtonModel",
      "state": {
       "button_style": "success",
       "disabled": true,
       "layout": "IPY_MODEL_90e24af9149d418496175ba85a82eb86",
       "style": "IPY_MODEL_df5b45add0dc4301b37bddd396dfbfa4"
      }
     },
     "6134b567091a4531baf381c24334c547": {
      "model_module": "@jupyter-widgets/controls",
      "model_module_version": "1.5.0",
      "model_name": "HBoxModel",
      "state": {
       "children": [
        "IPY_MODEL_d9da9cf0425e4825a88cc8fa296db668",
        "IPY_MODEL_c52ee66ae51e4c5389df9ba32653cb1b",
        "IPY_MODEL_4e9fc4ac76944f0795ce959e171840bd",
        "IPY_MODEL_8b6c5d3b4933479586e324a6de44f178"
       ],
       "layout": "IPY_MODEL_8b0659697b244578bb80e045e055a09e"
      }
     },
     "618cb2a1c8324e44817e55385ff56728": {
      "model_module": "@jupyter-widgets/base",
      "model_module_version": "1.2.0",
      "model_name": "LayoutModel",
      "state": {
       "display": "flex",
       "width": "95%"
      }
     },
     "6196a385ef224e8d9a8f1f5baa8b4185": {
      "model_module": "@jupyter-widgets/base",
      "model_module_version": "1.2.0",
      "model_name": "LayoutModel",
      "state": {
       "height": "32px",
       "overflow": "visible",
       "width": "100%"
      }
     },
     "61a32eaf2f8c4536aa1423643da9a660": {
      "model_module": "@jupyter-widgets/controls",
      "model_module_version": "1.5.0",
      "model_name": "HBoxModel",
      "state": {
       "children": [
        "IPY_MODEL_3b2008922f6644b88272c7fbc861901f",
        "IPY_MODEL_f596f609c2f14b459e0a49147bacfebc",
        "IPY_MODEL_86a6d4259e424015906687e1b664fe3f",
        "IPY_MODEL_d2ced584602d470183fde700bd63e652"
       ],
       "layout": "IPY_MODEL_28a7700aa0cc4b6697ac757a67094012"
      }
     },
     "61ab343c673743da9006d64773a79821": {
      "model_module": "@jupyter-widgets/controls",
      "model_module_version": "1.5.0",
      "model_name": "ProgressStyleModel",
      "state": {
       "description_width": ""
      }
     },
     "6204b83b9d734556bf955286eff9416e": {
      "model_module": "@jupyter-widgets/controls",
      "model_module_version": "1.5.0",
      "model_name": "DescriptionStyleModel",
      "state": {
       "description_width": ""
      }
     },
     "620d8790c71045e3896ab64985099b71": {
      "model_module": "@jupyter-widgets/controls",
      "model_module_version": "1.5.0",
      "model_name": "ButtonStyleModel",
      "state": {}
     },
     "62435d9c19494f5da03c454af4f83e51": {
      "model_module": "@jupyter-widgets/controls",
      "model_module_version": "1.5.0",
      "model_name": "HTMLModel",
      "state": {
       "layout": "IPY_MODEL_538f1b45546741d9b4f813e2b50bd83c",
       "style": "IPY_MODEL_5b1227f660b643a1ac7715b0d6b292ee",
       "value": "<font size=\"5\"><b>Reclaimer</b></font size=>"
      }
     },
     "62566966fc6b410db5e68b25bd5abdb0": {
      "model_module": "@jupyter-widgets/controls",
      "model_module_version": "1.5.0",
      "model_name": "ButtonModel",
      "state": {
       "description": "EDIT",
       "layout": "IPY_MODEL_caacd518e54048dc8c0d31a5c99c9d4d",
       "style": "IPY_MODEL_5526b4d78dae496bbb8caeef46d7da95"
      }
     },
     "62718a271cb240a0b0703dafe1b6643a": {
      "model_module": "@jupyter-widgets/controls",
      "model_module_version": "1.5.0",
      "model_name": "ButtonModel",
      "state": {
       "button_style": "success",
       "disabled": true,
       "layout": "IPY_MODEL_db06a906972e4de3bc991af99356bf65",
       "style": "IPY_MODEL_f3eec361bfda44189138182ae2d71f32"
      }
     },
     "6291613d49a74bb292479b21450738d0": {
      "model_module": "@jupyter-widgets/base",
      "model_module_version": "1.2.0",
      "model_name": "LayoutModel",
      "state": {
       "display": "none",
       "width": "95%"
      }
     },
     "629b4ac72a324f92ac5f35b34fe72c34": {
      "model_module": "@jupyter-widgets/base",
      "model_module_version": "1.2.0",
      "model_name": "LayoutModel",
      "state": {
       "height": "32px",
       "order": "-2",
       "width": "32px"
      }
     },
     "62bca48e69bb405ebb7281a5fc215712": {
      "model_module": "@jupyter-widgets/controls",
      "model_module_version": "1.5.0",
      "model_name": "ButtonModel",
      "state": {
       "layout": "IPY_MODEL_76b44d04ea6549b9acc052a075901339",
       "style": "IPY_MODEL_4697163513294589942aca6192e9a9ec"
      }
     },
     "62be6dfd060c49c8a1ba20fe6da4b8ff": {
      "model_module": "@jupyter-widgets/controls",
      "model_module_version": "1.5.0",
      "model_name": "DescriptionStyleModel",
      "state": {
       "description_width": ""
      }
     },
     "62c3f99d6ee04565a9fa58691254eaad": {
      "model_module": "@jupyter-widgets/controls",
      "model_module_version": "1.5.0",
      "model_name": "VBoxModel",
      "state": {
       "children": [
        "IPY_MODEL_40463d30fc3b4358978f9465875bffa1",
        "IPY_MODEL_d43832f363a7432e8feb654f16155d0c",
        "IPY_MODEL_ce59a783056e4e1092d68a096670ae57"
       ],
       "layout": "IPY_MODEL_51f4480aaba74ddbbf139709167784ce"
      }
     },
     "633a5e58846341efafa7b2fc3f24edbf": {
      "model_module": "@jupyter-widgets/controls",
      "model_module_version": "1.5.0",
      "model_name": "ButtonModel",
      "state": {
       "layout": "IPY_MODEL_a8c815706b404b7fb6dc046ff01864c0",
       "style": "IPY_MODEL_cf0ffe313fe643a0ae8c0ed56a94affc"
      }
     },
     "639718b2f65948558e4519129639a7ac": {
      "model_module": "@jupyter-widgets/controls",
      "model_module_version": "1.5.0",
      "model_name": "ButtonStyleModel",
      "state": {}
     },
     "639c0cafd32841dcbc2d3b285e2f3f25": {
      "model_module": "@jupyter-widgets/controls",
      "model_module_version": "1.5.0",
      "model_name": "ProgressStyleModel",
      "state": {
       "description_width": ""
      }
     },
     "63a8e5112be44a57b8ff6b3a33c11a24": {
      "model_module": "@jupyter-widgets/controls",
      "model_module_version": "1.5.0",
      "model_name": "DescriptionStyleModel",
      "state": {
       "description_width": ""
      }
     },
     "63bac76ec2164aeeb123d04637ebeffb": {
      "model_module": "@jupyter-widgets/controls",
      "model_module_version": "1.5.0",
      "model_name": "ButtonModel",
      "state": {
       "description": "EDIT",
       "layout": "IPY_MODEL_49623d6263674300a587f9e06d0e50fd",
       "style": "IPY_MODEL_c24bb4335a784043a1eaef8733aca5fd"
      }
     },
     "63bfc517fead4c439a86a1c50c425948": {
      "model_module": "@jupyter-widgets/controls",
      "model_module_version": "1.5.0",
      "model_name": "DescriptionStyleModel",
      "state": {
       "description_width": ""
      }
     },
     "63ea026dac0e45bbab166c3d6b52a948": {
      "model_module": "@jupyter-widgets/controls",
      "model_module_version": "1.5.0",
      "model_name": "ButtonModel",
      "state": {
       "button_style": "success",
       "disabled": true,
       "layout": "IPY_MODEL_2b87ce30f8414da2a4a62ac40e947db9",
       "style": "IPY_MODEL_f5f80608d5cd47dcb284f73ce3f045c7"
      }
     },
     "640023dadb394553847a02f957d34b9d": {
      "model_module": "@jupyter-widgets/controls",
      "model_module_version": "1.5.0",
      "model_name": "ButtonStyleModel",
      "state": {}
     },
     "6403e83219ff4820940b4a5da4049813": {
      "model_module": "@jupyter-widgets/base",
      "model_module_version": "1.2.0",
      "model_name": "LayoutModel",
      "state": {
       "height": "32px",
       "order": "-2",
       "width": "32px"
      }
     },
     "641a12e57e9445cfbcee357edd1a042e": {
      "model_module": "@jupyter-widgets/controls",
      "model_module_version": "1.5.0",
      "model_name": "ButtonModel",
      "state": {
       "layout": "IPY_MODEL_694082b5457640879e20af1e08810b2d",
       "style": "IPY_MODEL_bac1063dc9f04686ab05c47200d6f153"
      }
     },
     "642b8a56d4e649d68500721d6860f843": {
      "model_module": "@jupyter-widgets/controls",
      "model_module_version": "1.5.0",
      "model_name": "DropdownModel",
      "state": {
       "_options_labels": [
        "Any",
        "Arc",
        "Solar",
        "Void"
       ],
       "index": 0,
       "layout": "IPY_MODEL_90e814629dff4ab0b86cdbeedd1b626d",
       "style": "IPY_MODEL_0f5780591d0f4c68b6f85a9aa2af7836"
      }
     },
     "642c7547c15f419480b2fae656c3920d": {
      "model_module": "@jupyter-widgets/base",
      "model_module_version": "1.2.0",
      "model_name": "LayoutModel",
      "state": {
       "height": "32px",
       "overflow": "visible",
       "width": "100%"
      }
     },
     "6438c3dbc7c642af80ae7dcdd475c4dc": {
      "model_module": "@jupyter-widgets/base",
      "model_module_version": "1.2.0",
      "model_name": "LayoutModel",
      "state": {
       "display": "none",
       "width": "60px"
      }
     },
     "64758791f1374789836ec82c52a31eea": {
      "model_module": "@jupyter-widgets/base",
      "model_module_version": "1.2.0",
      "model_name": "LayoutModel",
      "state": {
       "height": "32px",
       "order": "-2",
       "width": "32px"
      }
     },
     "647fb0ce46d142eebcbcf44693255bd4": {
      "model_module": "@jupyter-widgets/controls",
      "model_module_version": "1.5.0",
      "model_name": "ButtonStyleModel",
      "state": {}
     },
     "649114e78f71407a962573e46cf8422c": {
      "model_module": "@jupyter-widgets/controls",
      "model_module_version": "1.5.0",
      "model_name": "LabelModel",
      "state": {
       "layout": "IPY_MODEL_d3c068f1ddaa471da1185f23b90b2726",
       "style": "IPY_MODEL_72223b248cd4428187b86e4606ecdef0",
       "value": "Kinetic Weapon:"
      }
     },
     "64a4c6b0bb2f43569198d00742e25977": {
      "model_module": "@jupyter-widgets/controls",
      "model_module_version": "1.5.0",
      "model_name": "LabelModel",
      "state": {
       "layout": "IPY_MODEL_fdeb564a5f8f4785b8c90ddc0b14abb6",
       "style": "IPY_MODEL_ad0fef6deafc4848998d18cd6512d728",
       "value": "   objective"
      }
     },
     "64f33a7cd11948c3967f9aa00ae70f2e": {
      "model_module": "@jupyter-widgets/base",
      "model_module_version": "1.2.0",
      "model_name": "LayoutModel",
      "state": {
       "height": "32px",
       "overflow": "visible",
       "width": "100%"
      }
     },
     "65293f960c754b7d9f608b3f3a9c64fd": {
      "model_module": "@jupyter-widgets/controls",
      "model_module_version": "1.5.0",
      "model_name": "ButtonStyleModel",
      "state": {}
     },
     "653e52bcd9d942e9863208b314cbab27": {
      "model_module": "@jupyter-widgets/controls",
      "model_module_version": "1.5.0",
      "model_name": "ButtonModel",
      "state": {
       "layout": "IPY_MODEL_42fad60027494e6ea8a056c4c237d777",
       "style": "IPY_MODEL_7fa7ebfd41ae4a66a32088b30954c931"
      }
     },
     "65408011492644cb9f1019909efd5172": {
      "model_module": "@jupyter-widgets/controls",
      "model_module_version": "1.5.0",
      "model_name": "ButtonModel",
      "state": {
       "description": "EDIT",
       "layout": "IPY_MODEL_913cd80392c34bc08b578096a5615a61",
       "style": "IPY_MODEL_f0772f0288024dae9b74f11452c5286b"
      }
     },
     "658dea8f67194863af5219a3fc6b75a8": {
      "model_module": "@jupyter-widgets/controls",
      "model_module_version": "1.5.0",
      "model_name": "IntProgressModel",
      "state": {
       "bar_style": "success",
       "layout": "IPY_MODEL_19519593dff9426ba1d051be80d0dd8c",
       "max": 1,
       "style": "IPY_MODEL_71812a7acd8d4b339cdb9447c2b34652",
       "value": 1
      }
     },
     "65b7eea16f244b698bfa926ce4f5177f": {
      "model_module": "@jupyter-widgets/base",
      "model_module_version": "1.2.0",
      "model_name": "LayoutModel",
      "state": {
       "height": "32px",
       "order": "-2",
       "width": "32px"
      }
     },
     "6625cc75df404f189af7f03bbf8e39a2": {
      "model_module": "@jupyter-widgets/base",
      "model_module_version": "1.2.0",
      "model_name": "LayoutModel",
      "state": {
       "display": "none"
      }
     },
     "6651339dfa21406896b661c598be388d": {
      "model_module": "@jupyter-widgets/controls",
      "model_module_version": "1.5.0",
      "model_name": "LabelModel",
      "state": {
       "layout": "IPY_MODEL_0d12a145f62040c4be45b0be624b842f",
       "style": "IPY_MODEL_b3eca2afa5a5453da382e35b347cc6f3",
       "value": "   objective"
      }
     },
     "665b845e9c4c453bbafdaaa967a647fd": {
      "model_module": "@jupyter-widgets/controls",
      "model_module_version": "1.5.0",
      "model_name": "DescriptionStyleModel",
      "state": {
       "description_width": ""
      }
     },
     "665def9633664ef3a387905352b44048": {
      "model_module": "@jupyter-widgets/controls",
      "model_module_version": "1.5.0",
      "model_name": "VBoxModel",
      "state": {
       "children": [
        "IPY_MODEL_d8c60a5051ce43cc9d3feae9856fde79",
        "IPY_MODEL_62435d9c19494f5da03c454af4f83e51",
        "IPY_MODEL_c85603d037d242a7870704c0d56ccd19",
        "IPY_MODEL_f0823a7af2664b1dbe2ca189d1d3fbcc"
       ],
       "layout": "IPY_MODEL_83eddaa841134aa499c0cb34d5dd8405"
      }
     },
     "66664fdf13fd45c4a5b196a3ab014e7e": {
      "model_module": "@jupyter-widgets/controls",
      "model_module_version": "1.5.0",
      "model_name": "DropdownModel",
      "state": {
       "_options_labels": [
        "Any",
        "Patrol",
        "Gambit",
        "Reckoning",
        "Menagerie",
        "Vex Offensive",
        "Raid",
        "Strike",
        "Nightfall",
        "Crucible",
        "Forge"
       ],
       "disabled": true,
       "index": 9,
       "layout": "IPY_MODEL_d30b2870db344a0bbd1c1bfa61e145e0",
       "style": "IPY_MODEL_df782c95d2944b4faa093f5ef3ccbb53"
      }
     },
     "66a27f051438409c9a5793db3a650d00": {
      "model_module": "@jupyter-widgets/controls",
      "model_module_version": "1.5.0",
      "model_name": "ButtonStyleModel",
      "state": {}
     },
     "66fa9eb13d7940d19a64ca1a8b415f56": {
      "model_module": "@jupyter-widgets/base",
      "model_module_version": "1.2.0",
      "model_name": "LayoutModel",
      "state": {
       "display": "none",
       "width": "60px"
      }
     },
     "66fb7f05fe0d40f2bf3886250f0b6f3b": {
      "model_module": "@jupyter-widgets/base",
      "model_module_version": "1.2.0",
      "model_name": "LayoutModel",
      "state": {
       "height": "32px",
       "overflow": "visible",
       "width": "100%"
      }
     },
     "6708881df9504aafbb84b333ae149418": {
      "model_module": "@jupyter-widgets/controls",
      "model_module_version": "1.5.0",
      "model_name": "LabelModel",
      "state": {
       "layout": "IPY_MODEL_69c1b2b6cc164ede8e3e9765b31c4069",
       "style": "IPY_MODEL_582b94ec851d4a6e8f05634d666b6b00",
       "value": "    Glory Rank Points (0/1)"
      }
     },
     "672504f2a4e14cb8b318f11bf89de6a5": {
      "model_module": "@jupyter-widgets/base",
      "model_module_version": "1.2.0",
      "model_name": "LayoutModel",
      "state": {
       "border": "3px solid white",
       "display": "flex",
       "flex": "1 1 0%",
       "margin": "10px",
       "min_width": "400px",
       "overflow": "visible",
       "padding": "10px",
       "width": "auto"
      }
     },
     "6740983cf6034f5684d6c4e0b498133c": {
      "model_module": "@jupyter-widgets/controls",
      "model_module_version": "1.5.0",
      "model_name": "LabelModel",
      "state": {
       "layout": "IPY_MODEL_526fcfd80dff4333acc19317648931b0",
       "style": "IPY_MODEL_9997407ab9304463a1795c2ad17503cc",
       "value": "Energy Weapon:"
      }
     },
     "67672353bfac473da679b98f0c2f7fa2": {
      "model_module": "@jupyter-widgets/controls",
      "model_module_version": "1.5.0",
      "model_name": "LabelModel",
      "state": {
       "layout": "IPY_MODEL_cb5ac444c34644f380246c766b1b7fb1",
       "style": "IPY_MODEL_86d213cbe48d4dc8a0a47012c8ba2bf7",
       "value": "    Crests created (47/25)"
      }
     },
     "676acf744ddd4a90a2c8be80deea40f5": {
      "model_module": "@jupyter-widgets/base",
      "model_module_version": "1.2.0",
      "model_name": "LayoutModel",
      "state": {}
     },
     "677103451bda45829dce7b8eba10f7e3": {
      "model_module": "@jupyter-widgets/controls",
      "model_module_version": "1.5.0",
      "model_name": "IntProgressModel",
      "state": {
       "bar_style": "success",
       "layout": "IPY_MODEL_7e3edcff84474d6bb331a30ee82e26b0",
       "max": 5,
       "style": "IPY_MODEL_825eec7ee34f4fe1aac795261b5f4077",
       "value": 5
      }
     },
     "6780b208546a42578f600fdacd8571e4": {
      "model_module": "@jupyter-widgets/controls",
      "model_module_version": "1.5.0",
      "model_name": "LabelModel",
      "state": {
       "layout": "IPY_MODEL_800ed2416edf4c4983b3e8a258f6b1ce",
       "style": "IPY_MODEL_6abfa7ea55614392a35392e61088c051",
       "value": "    Orbs generated (172/250)"
      }
     },
     "67a1336e30aa4e229fcdaee0665e5f4d": {
      "model_module": "@jupyter-widgets/base",
      "model_module_version": "1.2.0",
      "model_name": "LayoutModel",
      "state": {
       "display": "none",
       "width": "60px"
      }
     },
     "67a8e8e42dc64d8bbb13d9a375deb527": {
      "model_module": "@jupyter-widgets/controls",
      "model_module_version": "1.5.0",
      "model_name": "LabelModel",
      "state": {
       "layout": "IPY_MODEL_7044189c101c46358bab9ed8149126d1",
       "style": "IPY_MODEL_c0da964ea2d44d5cacbc8d631d56d2fe",
       "value": "    Medals earned (5/1)"
      }
     },
     "67db5b0a66d6471e81165c9ad09568cc": {
      "model_module": "@jupyter-widgets/controls",
      "model_module_version": "1.5.0",
      "model_name": "HTMLModel",
      "state": {
       "layout": "IPY_MODEL_732e6ca6b3e54a3b9f74e615caa2ca40",
       "style": "IPY_MODEL_59ea3075024f427982d6ae5de0135d5f",
       "value": "<font size=\"5\"><b>Perimeter Control</b></font size=>"
      }
     },
     "67e06d388f8744d3b8e7ffc11de20021": {
      "model_module": "@jupyter-widgets/controls",
      "model_module_version": "1.5.0",
      "model_name": "ButtonStyleModel",
      "state": {}
     },
     "67ffd00253dc47af8c5a7fed04facf77": {
      "model_module": "@jupyter-widgets/controls",
      "model_module_version": "1.5.0",
      "model_name": "HBoxModel",
      "state": {
       "children": [
        "IPY_MODEL_091629a078a14bd29b156aedde136870",
        "IPY_MODEL_0decea58f654419fb6a0e60c4427ff68",
        "IPY_MODEL_e1034c05ef6141e7b2d6448830cbc76d",
        "IPY_MODEL_921dfcee79b4453da1836303e3c58223"
       ],
       "layout": "IPY_MODEL_9f9dfd6f9ee14d63ad528e2677730a0b"
      }
     },
     "680669112dde419eb3971ee85f673484": {
      "model_module": "@jupyter-widgets/base",
      "model_module_version": "1.2.0",
      "model_name": "LayoutModel",
      "state": {
       "height": "32px",
       "order": "-2",
       "width": "32px"
      }
     },
     "682183b1cb9d4872898428d043147c74": {
      "model_module": "@jupyter-widgets/base",
      "model_module_version": "1.2.0",
      "model_name": "LayoutModel",
      "state": {
       "order": "-1",
       "overflow": "visible",
       "padding": "1px",
       "width": "0px"
      }
     },
     "68430f69a70a4f3c82a1e3691d83072c": {
      "model_module": "@jupyter-widgets/controls",
      "model_module_version": "1.5.0",
      "model_name": "ProgressStyleModel",
      "state": {
       "description_width": ""
      }
     },
     "68777e896d6b4f0eae3fa5bde23f406d": {
      "model_module": "@jupyter-widgets/base",
      "model_module_version": "1.2.0",
      "model_name": "LayoutModel",
      "state": {
       "height": "32px",
       "order": "-2",
       "width": "32px"
      }
     },
     "687ef9b3268047de8460a4d7b55b6d5c": {
      "model_module": "@jupyter-widgets/controls",
      "model_module_version": "1.5.0",
      "model_name": "ButtonStyleModel",
      "state": {}
     },
     "6920a40ccdcf4a86b3a388b81c252648": {
      "model_module": "@jupyter-widgets/controls",
      "model_module_version": "1.5.0",
      "model_name": "HBoxModel",
      "state": {
       "children": [
        "IPY_MODEL_fe13e8e206294eb89b127bd1406517fb",
        "IPY_MODEL_1d4b9d6b3eb743c7bba9720cc3a3972a",
        "IPY_MODEL_bd5173698ba84679a044e4012d3e3bbe",
        "IPY_MODEL_d7a184dff8d34d83926b556445e93762"
       ],
       "layout": "IPY_MODEL_10d7f7d40a384d14bd971a3f682661c8"
      }
     },
     "6939787e33a84af684824eb563bc6a2a": {
      "model_module": "@jupyter-widgets/base",
      "model_module_version": "1.2.0",
      "model_name": "LayoutModel",
      "state": {
       "display": "none",
       "width": "95%"
      }
     },
     "694082b5457640879e20af1e08810b2d": {
      "model_module": "@jupyter-widgets/base",
      "model_module_version": "1.2.0",
      "model_name": "LayoutModel",
      "state": {
       "height": "32px",
       "order": "-2",
       "width": "32px"
      }
     },
     "695eb323e5f54d76b5d13fd00a9e4d44": {
      "model_module": "@jupyter-widgets/controls",
      "model_module_version": "1.5.0",
      "model_name": "IntProgressModel",
      "state": {
       "layout": "IPY_MODEL_2ab4ac6b6e0348209896113ed51a2848",
       "max": 25,
       "style": "IPY_MODEL_52a8cba237b34d22a17b7d015d7f213d",
       "value": 16
      }
     },
     "69c1b2b6cc164ede8e3e9765b31c4069": {
      "model_module": "@jupyter-widgets/base",
      "model_module_version": "1.2.0",
      "model_name": "LayoutModel",
      "state": {
       "order": "-1",
       "overflow": "visible",
       "padding": "1px",
       "width": "0px"
      }
     },
     "69d98c1c25b3457f90fcd5d72701e467": {
      "model_module": "@jupyter-widgets/controls",
      "model_module_version": "1.5.0",
      "model_name": "LabelModel",
      "state": {
       "layout": "IPY_MODEL_87384ac34f734623aa6253b52a98451b",
       "style": "IPY_MODEL_2afca789748c48b3b51861beafe38b49",
       "value": "    Medals earned (9/1)"
      }
     },
     "69ee787fb64d4826b7c7d1dacc37871f": {
      "model_module": "@jupyter-widgets/controls",
      "model_module_version": "1.5.0",
      "model_name": "HBoxModel",
      "state": {
       "children": [
        "IPY_MODEL_c214ef7d830a44429c1bc4359aaee05e",
        "IPY_MODEL_50a02e0676a94638b5738f80750dc7d2",
        "IPY_MODEL_9ef14703f38d4d63acbbf6f463e20616",
        "IPY_MODEL_455d75592418452abc956000ea3b5a30"
       ],
       "layout": "IPY_MODEL_a85c125282be422aa2e10ec729fa0ae5"
      }
     },
     "6a35a989283a4da6808a1b38f3f3aba7": {
      "model_module": "@jupyter-widgets/controls",
      "model_module_version": "1.5.0",
      "model_name": "ButtonModel",
      "state": {
       "button_style": "success",
       "disabled": true,
       "layout": "IPY_MODEL_38f75d89da1949f08f58bb67bd1b8e85",
       "style": "IPY_MODEL_9b61c5e1c8d74494a314c40815a3e22c"
      }
     },
     "6a4e7ffeca2b4e5890913c7c8935c53a": {
      "model_module": "@jupyter-widgets/controls",
      "model_module_version": "1.5.0",
      "model_name": "DescriptionStyleModel",
      "state": {
       "description_width": ""
      }
     },
     "6a61bcd83a534805b9ca40e8a2657f6d": {
      "model_module": "@jupyter-widgets/base",
      "model_module_version": "1.2.0",
      "model_name": "LayoutModel",
      "state": {
       "display": "none",
       "width": "60px"
      }
     },
     "6abfa7ea55614392a35392e61088c051": {
      "model_module": "@jupyter-widgets/controls",
      "model_module_version": "1.5.0",
      "model_name": "DescriptionStyleModel",
      "state": {
       "description_width": ""
      }
     },
     "6ae8e89870a14d4d89ffa81794f535f3": {
      "model_module": "@jupyter-widgets/controls",
      "model_module_version": "1.5.0",
      "model_name": "ButtonStyleModel",
      "state": {}
     },
     "6afad980bcd440a2a7931ea7f2a0e7c2": {
      "model_module": "@jupyter-widgets/base",
      "model_module_version": "1.2.0",
      "model_name": "LayoutModel",
      "state": {
       "display": "none"
      }
     },
     "6b01bccdbc0845f8a36118f96a41f92c": {
      "model_module": "@jupyter-widgets/base",
      "model_module_version": "1.2.0",
      "model_name": "LayoutModel",
      "state": {
       "height": "32px",
       "overflow": "visible",
       "width": "100%"
      }
     },
     "6b111044b12142088b8b40214bd67529": {
      "model_module": "@jupyter-widgets/controls",
      "model_module_version": "1.5.0",
      "model_name": "ButtonModel",
      "state": {
       "description": "Next",
       "layout": "IPY_MODEL_37fdc1d14f9c4646b14d24063045e4bb",
       "style": "IPY_MODEL_01c70296a5ea4dc084b41e2aa1601564"
      }
     },
     "6b80294727b849aea13dbb9130630c76": {
      "model_module": "@jupyter-widgets/controls",
      "model_module_version": "1.5.0",
      "model_name": "DescriptionStyleModel",
      "state": {
       "description_width": ""
      }
     },
     "6babb9be40654273b7986b85c2d3e5a5": {
      "model_module": "@jupyter-widgets/base",
      "model_module_version": "1.2.0",
      "model_name": "LayoutModel",
      "state": {
       "border": "3px solid white",
       "display": "flex",
       "flex": "1 1 0%",
       "margin": "10px",
       "min_width": "400px",
       "overflow": "visible",
       "padding": "10px",
       "width": "auto"
      }
     },
     "6bd6e3f2b14f405a8acf24ab01efab97": {
      "model_module": "@jupyter-widgets/controls",
      "model_module_version": "1.5.0",
      "model_name": "IntProgressModel",
      "state": {
       "layout": "IPY_MODEL_6196a385ef224e8d9a8f1f5baa8b4185",
       "max": 250,
       "style": "IPY_MODEL_2c709d03eec64deaaec6461e9402e546",
       "value": 172
      }
     },
     "6c15c1993f014a89abb878aa060ef171": {
      "model_module": "@jupyter-widgets/controls",
      "model_module_version": "1.5.0",
      "model_name": "HBoxModel",
      "state": {
       "children": [
        "IPY_MODEL_63ea026dac0e45bbab166c3d6b52a948",
        "IPY_MODEL_4ef8b3c3b1f5495ab577c77aaaacd6cd",
        "IPY_MODEL_6f354abb829b4c0286b095cb39643498",
        "IPY_MODEL_732fca80ef8d4d05bf3a49ed944b75ad"
       ],
       "layout": "IPY_MODEL_a60cec164fa646e09dffe4a7494778d9"
      }
     },
     "6c24362ab9f1418c992f8f386a189a8b": {
      "model_module": "@jupyter-widgets/base",
      "model_module_version": "1.2.0",
      "model_name": "LayoutModel",
      "state": {
       "height": "32px",
       "order": "-2",
       "width": "32px"
      }
     },
     "6c4ffcd2ffd54d78a752b5a64ffb393b": {
      "model_module": "@jupyter-widgets/controls",
      "model_module_version": "1.5.0",
      "model_name": "DropdownModel",
      "state": {
       "_options_labels": [
        "All"
       ],
       "index": 0,
       "layout": "IPY_MODEL_86e8d47bfbeb45628cc731d133a16200",
       "style": "IPY_MODEL_de60b722575b4ece8ca31b5ffda57b25"
      }
     },
     "6c5fa47500af40ed851f586c8cbabb8c": {
      "model_module": "@jupyter-widgets/controls",
      "model_module_version": "1.5.0",
      "model_name": "DropdownModel",
      "state": {
       "_options_labels": [
        "All"
       ],
       "index": 0,
       "layout": "IPY_MODEL_6939787e33a84af684824eb563bc6a2a",
       "style": "IPY_MODEL_ea04b8062fa64bc1996f4bef487b0f8a"
      }
     },
     "6c82b96d54514d8d8a84266536851c79": {
      "model_module": "@jupyter-widgets/base",
      "model_module_version": "1.2.0",
      "model_name": "LayoutModel",
      "state": {
       "height": "32px",
       "order": "-2",
       "width": "32px"
      }
     },
     "6c979ccfae18450b8f39d586880d4aad": {
      "model_module": "@jupyter-widgets/controls",
      "model_module_version": "1.5.0",
      "model_name": "ButtonStyleModel",
      "state": {}
     },
     "6cd2995d3c08485f997f824741dee159": {
      "model_module": "@jupyter-widgets/controls",
      "model_module_version": "1.5.0",
      "model_name": "ButtonStyleModel",
      "state": {}
     },
     "6d2b449e592048ef9ee9ef1899b8935d": {
      "model_module": "@jupyter-widgets/base",
      "model_module_version": "1.2.0",
      "model_name": "LayoutModel",
      "state": {
       "height": "32px",
       "order": "-2",
       "width": "32px"
      }
     },
     "6d552578f539429c9f37fc8612f78928": {
      "model_module": "@jupyter-widgets/base",
      "model_module_version": "1.2.0",
      "model_name": "LayoutModel",
      "state": {
       "display": "none",
       "width": "60px"
      }
     },
     "6d59aa26742e47fb8af7906922c7954a": {
      "model_module": "@jupyter-widgets/base",
      "model_module_version": "1.2.0",
      "model_name": "LayoutModel",
      "state": {
       "overflow": "visible",
       "width": "100%"
      }
     },
     "6e0ca4934e6a414a88b0cc8ae4729c2f": {
      "model_module": "@jupyter-widgets/controls",
      "model_module_version": "1.5.0",
      "model_name": "ProgressStyleModel",
      "state": {
       "description_width": ""
      }
     },
     "6e2159d5051441beb03522aca134a7db": {
      "model_module": "@jupyter-widgets/base",
      "model_module_version": "1.2.0",
      "model_name": "LayoutModel",
      "state": {
       "display": "none"
      }
     },
     "6e2ffbeac3f14aa78f7c4718056d4274": {
      "model_module": "@jupyter-widgets/controls",
      "model_module_version": "1.5.0",
      "model_name": "ProgressStyleModel",
      "state": {
       "description_width": ""
      }
     },
     "6e3171ed27a144b49a7d6dc202617bca": {
      "model_module": "@jupyter-widgets/controls",
      "model_module_version": "1.5.0",
      "model_name": "ButtonStyleModel",
      "state": {}
     },
     "6e795e6635a44b71bf559b6d76bc50d8": {
      "model_module": "@jupyter-widgets/controls",
      "model_module_version": "1.5.0",
      "model_name": "DescriptionStyleModel",
      "state": {
       "description_width": ""
      }
     },
     "6e8d02c1bc67423b9c21879a46a6de2b": {
      "model_module": "@jupyter-widgets/controls",
      "model_module_version": "1.5.0",
      "model_name": "DescriptionStyleModel",
      "state": {
       "description_width": ""
      }
     },
     "6ea2b5ec99fb4bdeb984aca5f791ff84": {
      "model_module": "@jupyter-widgets/base",
      "model_module_version": "1.2.0",
      "model_name": "LayoutModel",
      "state": {
       "height": "32px",
       "overflow": "visible",
       "width": "100%"
      }
     },
     "6efd54a06d4243c9a8b7180b67239fe9": {
      "model_module": "@jupyter-widgets/base",
      "model_module_version": "1.2.0",
      "model_name": "LayoutModel",
      "state": {
       "height": "32px",
       "order": "-2",
       "width": "32px"
      }
     },
     "6f07d86225df4155b7d6671682cd5172": {
      "model_module": "@jupyter-widgets/controls",
      "model_module_version": "1.5.0",
      "model_name": "HBoxModel",
      "state": {
       "children": [
        "IPY_MODEL_d06108353b1a4bffb2dc6fd5b752c64a",
        "IPY_MODEL_d83a3914a56041f5a4ab985f6869b948",
        "IPY_MODEL_67a8e8e42dc64d8bbb13d9a375deb527",
        "IPY_MODEL_e92aa5966f96495b90e9c4cc723db970"
       ],
       "layout": "IPY_MODEL_767f4cf2e28e42b3b73d4aad912a0214"
      }
     },
     "6f354abb829b4c0286b095cb39643498": {
      "model_module": "@jupyter-widgets/controls",
      "model_module_version": "1.5.0",
      "model_name": "LabelModel",
      "state": {
       "layout": "IPY_MODEL_41852b5778a74a898a218fb77f10cb5b",
       "style": "IPY_MODEL_07d726332c4d4e348203eca11d44fdc9",
       "value": "    [SMG] Final blows (152/100)"
      }
     },
     "6f3b92479d294a31bdd9d130e7dac82c": {
      "model_module": "@jupyter-widgets/base",
      "model_module_version": "1.2.0",
      "model_name": "LayoutModel",
      "state": {
       "height": "32px",
       "overflow": "visible",
       "width": "100%"
      }
     },
     "6f404a03fcbc4211b9a4f626d8c1e044": {
      "model_module": "@jupyter-widgets/controls",
      "model_module_version": "1.5.0",
      "model_name": "LabelModel",
      "state": {
       "layout": "IPY_MODEL_d5639c8201444ad39ddcdfbcaa180980",
       "style": "IPY_MODEL_a21638cc954d451984fb4afadfb92d1f",
       "value": "   objective"
      }
     },
     "6f81c108e65d4c6491c3827286003371": {
      "model_module": "@jupyter-widgets/base",
      "model_module_version": "1.2.0",
      "model_name": "LayoutModel",
      "state": {
       "display": "none",
       "width": "60px"
      }
     },
     "6f930942be7c4e6e9caa13a5e8217af6": {
      "model_module": "@jupyter-widgets/controls",
      "model_module_version": "1.5.0",
      "model_name": "ButtonStyleModel",
      "state": {}
     },
     "6ff33f2a8c784cfcacf69de01c1a4fdb": {
      "model_module": "@jupyter-widgets/controls",
      "model_module_version": "1.5.0",
      "model_name": "DescriptionStyleModel",
      "state": {
       "description_width": ""
      }
     },
     "7044189c101c46358bab9ed8149126d1": {
      "model_module": "@jupyter-widgets/base",
      "model_module_version": "1.2.0",
      "model_name": "LayoutModel",
      "state": {
       "order": "-1",
       "overflow": "visible",
       "padding": "1px",
       "width": "0px"
      }
     },
     "70842317654848af8fef434c8d7dc4ca": {
      "model_module": "@jupyter-widgets/base",
      "model_module_version": "1.2.0",
      "model_name": "LayoutModel",
      "state": {}
     },
     "708dea37774f4516aeda5bf574007664": {
      "model_module": "@jupyter-widgets/base",
      "model_module_version": "1.2.0",
      "model_name": "LayoutModel",
      "state": {
       "display": "none",
       "width": "60px"
      }
     },
     "70d2c603ca0f47d882e6786653910f30": {
      "model_module": "@jupyter-widgets/base",
      "model_module_version": "1.2.0",
      "model_name": "LayoutModel",
      "state": {
       "order": "-1",
       "overflow": "visible",
       "padding": "1px",
       "width": "0px"
      }
     },
     "70f5bc70e9ea49f5977298c59f25b50c": {
      "model_module": "@jupyter-widgets/controls",
      "model_module_version": "1.5.0",
      "model_name": "ProgressStyleModel",
      "state": {
       "description_width": ""
      }
     },
     "7102cd57b421401a9f0fee8d80b5ce21": {
      "model_module": "@jupyter-widgets/controls",
      "model_module_version": "1.5.0",
      "model_name": "HBoxModel",
      "state": {
       "children": [
        "IPY_MODEL_17c494bbdede4123a930ca50b832e7c0",
        "IPY_MODEL_4cd26beb58724b32b6fafd008b117087",
        "IPY_MODEL_6651339dfa21406896b661c598be388d",
        "IPY_MODEL_c6560e1d9d664b8f92c718b2fcc9faf7"
       ],
       "layout": "IPY_MODEL_1819943e5da942128580cf118398f29d"
      }
     },
     "711c7582737440d9bf6345142cc0b7f9": {
      "model_module": "@jupyter-widgets/base",
      "model_module_version": "1.2.0",
      "model_name": "LayoutModel",
      "state": {
       "display": "none"
      }
     },
     "7167e27b2d0e4d3d9a0e27c6e9503876": {
      "model_module": "@jupyter-widgets/controls",
      "model_module_version": "1.5.0",
      "model_name": "DescriptionStyleModel",
      "state": {
       "description_width": ""
      }
     },
     "71812a7acd8d4b339cdb9447c2b34652": {
      "model_module": "@jupyter-widgets/controls",
      "model_module_version": "1.5.0",
      "model_name": "ProgressStyleModel",
      "state": {
       "description_width": ""
      }
     },
     "718ed84987eb45789a902350f0b523a7": {
      "model_module": "@jupyter-widgets/controls",
      "model_module_version": "1.5.0",
      "model_name": "VBoxModel",
      "state": {
       "children": [
        "IPY_MODEL_30d2b57170c44aa9863e51a46547c5e7",
        "IPY_MODEL_bb843f5ad926486c9ccfb030fc94a1b1",
        "IPY_MODEL_5ee1bb9a26e54d6992c00360b4220e74",
        "IPY_MODEL_1a762ecfc92c4d228831c25f19eb3c1a"
       ],
       "layout": "IPY_MODEL_2c3f93cba0a648c4a3af3d9987807ead"
      }
     },
     "71a867c2ae81418fbcc6ab58711dea03": {
      "model_module": "@jupyter-widgets/base",
      "model_module_version": "1.2.0",
      "model_name": "LayoutModel",
      "state": {
       "display": "none"
      }
     },
     "72000fa88ce74ae19a27395aa0928edf": {
      "model_module": "@jupyter-widgets/controls",
      "model_module_version": "1.5.0",
      "model_name": "ButtonStyleModel",
      "state": {}
     },
     "721ac8bb809c425dae35cf8ec9423f19": {
      "model_module": "@jupyter-widgets/controls",
      "model_module_version": "1.5.0",
      "model_name": "DescriptionStyleModel",
      "state": {
       "description_width": ""
      }
     },
     "72223b248cd4428187b86e4606ecdef0": {
      "model_module": "@jupyter-widgets/controls",
      "model_module_version": "1.5.0",
      "model_name": "DescriptionStyleModel",
      "state": {
       "description_width": ""
      }
     },
     "723bc9b9c3374e71bd77dcea3f8ecc8e": {
      "model_module": "@jupyter-widgets/base",
      "model_module_version": "1.2.0",
      "model_name": "LayoutModel",
      "state": {
       "display": "none"
      }
     },
     "72402a31c713461cac67da522fbcb1f7": {
      "model_module": "@jupyter-widgets/controls",
      "model_module_version": "1.5.0",
      "model_name": "ButtonStyleModel",
      "state": {}
     },
     "725932300f904751a69467950e65ba42": {
      "model_module": "@jupyter-widgets/base",
      "model_module_version": "1.2.0",
      "model_name": "LayoutModel",
      "state": {
       "display": "none"
      }
     },
     "72fd99b106d04a7987157cf9a8023408": {
      "model_module": "@jupyter-widgets/controls",
      "model_module_version": "1.5.0",
      "model_name": "ButtonModel",
      "state": {
       "description": "EDIT",
       "layout": "IPY_MODEL_987c389b573a47b1817b8a7640cb92e6",
       "style": "IPY_MODEL_889afd550e2c45329c0f594510057dd9"
      }
     },
     "730415d870aa452c9d9548df70efc646": {
      "model_module": "@jupyter-widgets/controls",
      "model_module_version": "1.5.0",
      "model_name": "DescriptionStyleModel",
      "state": {
       "description_width": ""
      }
     },
     "732e6ca6b3e54a3b9f74e615caa2ca40": {
      "model_module": "@jupyter-widgets/base",
      "model_module_version": "1.2.0",
      "model_name": "LayoutModel",
      "state": {
       "overflow": "visible",
       "width": "100%"
      }
     },
     "732fca80ef8d4d05bf3a49ed944b75ad": {
      "model_module": "@jupyter-widgets/controls",
      "model_module_version": "1.5.0",
      "model_name": "ButtonModel",
      "state": {
       "description": "EDIT",
       "layout": "IPY_MODEL_60bcd560327a439194a0c52f6b3a1f68",
       "style": "IPY_MODEL_c6e43570eb314940943e230820696ebb"
      }
     },
     "7332bf3aec314f67a678b928ebbb52a4": {
      "model_module": "@jupyter-widgets/controls",
      "model_module_version": "1.5.0",
      "model_name": "ButtonStyleModel",
      "state": {}
     },
     "733b63ad31024be4aeb0e8840bb53211": {
      "model_module": "@jupyter-widgets/base",
      "model_module_version": "1.2.0",
      "model_name": "LayoutModel",
      "state": {
       "overflow": "visible",
       "width": "100%"
      }
     },
     "736fdf03fc1542e0b7503e7276e9427d": {
      "model_module": "@jupyter-widgets/controls",
      "model_module_version": "1.5.0",
      "model_name": "HTMLModel",
      "state": {
       "layout": "IPY_MODEL_4729a4f5fb274d2eaae1e94de716b87b",
       "style": "IPY_MODEL_8ae6a781e3154a5aabfedbd65576e683",
       "value": "<font size=\"1\">Triumphs/Crucible/Medals/Gametypes/By Our Powers Combined…</font size=>"
      }
     },
     "7396fb4bceef4131b83acda91f336a91": {
      "model_module": "@jupyter-widgets/controls",
      "model_module_version": "1.5.0",
      "model_name": "HBoxModel",
      "state": {
       "children": [
        "IPY_MODEL_87a2d02528d44eca94730d93391e5dac",
        "IPY_MODEL_6bd6e3f2b14f405a8acf24ab01efab97",
        "IPY_MODEL_6780b208546a42578f600fdacd8571e4",
        "IPY_MODEL_04870b8906844c00a0fb8928c3cb823c"
       ],
       "layout": "IPY_MODEL_6afad980bcd440a2a7931ea7f2a0e7c2"
      }
     },
     "73fee8185b644d16b37be2ae98815172": {
      "model_module": "@jupyter-widgets/base",
      "model_module_version": "1.2.0",
      "model_name": "LayoutModel",
      "state": {
       "height": "32px",
       "order": "-2",
       "width": "32px"
      }
     },
     "743ae2e04d6d42a2a973b2b72ea3154c": {
      "model_module": "@jupyter-widgets/controls",
      "model_module_version": "1.5.0",
      "model_name": "LabelModel",
      "state": {
       "layout": "IPY_MODEL_70842317654848af8fef434c8d7dc4ca",
       "style": "IPY_MODEL_3e5883ca3737406cbb37ae3e7f344c28",
       "value": "Filter Tasks"
      }
     },
     "7483098c909a446a9593f75689cde11a": {
      "model_module": "@jupyter-widgets/controls",
      "model_module_version": "1.5.0",
      "model_name": "LabelModel",
      "state": {
       "layout": "IPY_MODEL_e37581b2136d46aba5021a4bd65cb582",
       "style": "IPY_MODEL_510d305b91ea4599bcfc8e50df5f2ab8",
       "value": "    Medals earned (27/25)"
      }
     },
     "74e0a4cf53454ad7bffb0ec2896e294b": {
      "model_module": "@jupyter-widgets/controls",
      "model_module_version": "1.5.0",
      "model_name": "HTMLModel",
      "state": {
       "layout": "IPY_MODEL_b71a2867000848f193c361e5675ca01f",
       "style": "IPY_MODEL_cefe8f3f208f4bb3940bd2fad5c16d5d",
       "value": "<i>Control: Defeat two opponents with Zone Advantage within 10 seconds of capturing a zone.</i>"
      }
     },
     "752d4b54769d4576b005a0209b95b7fd": {
      "model_module": "@jupyter-widgets/controls",
      "model_module_version": "1.5.0",
      "model_name": "DescriptionStyleModel",
      "state": {
       "description_width": ""
      }
     },
     "7538d310cb574cd6ba5b18278b7199b8": {
      "model_module": "@jupyter-widgets/base",
      "model_module_version": "1.2.0",
      "model_name": "LayoutModel",
      "state": {
       "order": "-1",
       "overflow": "visible",
       "padding": "1px",
       "width": "0px"
      }
     },
     "75ab9cb65e814444bb0ec264139b06b4": {
      "model_module": "@jupyter-widgets/base",
      "model_module_version": "1.2.0",
      "model_name": "LayoutModel",
      "state": {
       "display": "none",
       "width": "60px"
      }
     },
     "75f80bcc6bfb47258b6c815a1b52710a": {
      "model_module": "@jupyter-widgets/controls",
      "model_module_version": "1.5.0",
      "model_name": "HBoxModel",
      "state": {
       "children": [
        "IPY_MODEL_8e19ac3ecbd74511ada02fc4389bd9d6",
        "IPY_MODEL_695eb323e5f54d76b5d13fd00a9e4d44",
        "IPY_MODEL_1f8b142994504df9b98a40b46a5ba8b1",
        "IPY_MODEL_c9726d3c1e4d41bcb43d0aae076f39e2"
       ],
       "layout": "IPY_MODEL_80813368a28a444480c2328aa4731bec"
      }
     },
     "767f4cf2e28e42b3b73d4aad912a0214": {
      "model_module": "@jupyter-widgets/base",
      "model_module_version": "1.2.0",
      "model_name": "LayoutModel",
      "state": {
       "display": "flex"
      }
     },
     "76a9d33a8d7d450386d6a40577ce3add": {
      "model_module": "@jupyter-widgets/controls",
      "model_module_version": "1.5.0",
      "model_name": "ButtonStyleModel",
      "state": {}
     },
     "76b44d04ea6549b9acc052a075901339": {
      "model_module": "@jupyter-widgets/base",
      "model_module_version": "1.2.0",
      "model_name": "LayoutModel",
      "state": {
       "height": "32px",
       "order": "-2",
       "width": "32px"
      }
     },
     "76f37f3d030b4720818f6281b2e8c2ca": {
      "model_module": "@jupyter-widgets/base",
      "model_module_version": "1.2.0",
      "model_name": "LayoutModel",
      "state": {
       "height": "32px",
       "overflow": "visible",
       "width": "100%"
      }
     },
     "771bbc50065e45fa89eea82e5c5e93c1": {
      "model_module": "@jupyter-widgets/controls",
      "model_module_version": "1.5.0",
      "model_name": "DescriptionStyleModel",
      "state": {
       "description_width": ""
      }
     },
     "775274bac7b440458edd530a8863de3f": {
      "model_module": "@jupyter-widgets/base",
      "model_module_version": "1.2.0",
      "model_name": "LayoutModel",
      "state": {
       "height": "32px",
       "overflow": "visible",
       "width": "100%"
      }
     },
     "77cdb44660cf4bd38a65241007b89357": {
      "model_module": "@jupyter-widgets/base",
      "model_module_version": "1.2.0",
      "model_name": "LayoutModel",
      "state": {}
     },
     "77d6009ab38249e1ae09195481278b4b": {
      "model_module": "@jupyter-widgets/controls",
      "model_module_version": "1.5.0",
      "model_name": "HBoxModel",
      "state": {
       "children": [
        "IPY_MODEL_5a49c786fec64638a0192709e6b13724",
        "IPY_MODEL_29b8b57eb2ae4edb87e795235edc9ef6",
        "IPY_MODEL_fbf91cbac0c14a7ca92b9b9d147a47b3",
        "IPY_MODEL_f3ade28107e846b9aebf125b3ef4036b"
       ],
       "layout": "IPY_MODEL_b91582f48b544634b964dac420cb89bc"
      }
     },
     "7817feba07834cf6ba84ca2a749ab8d1": {
      "model_module": "@jupyter-widgets/controls",
      "model_module_version": "1.5.0",
      "model_name": "DescriptionStyleModel",
      "state": {
       "description_width": ""
      }
     },
     "781eeb35e4c440c3acc85ae19eba1fa2": {
      "model_module": "@jupyter-widgets/controls",
      "model_module_version": "1.5.0",
      "model_name": "ButtonModel",
      "state": {
       "layout": "IPY_MODEL_f91b38e4a7634805ac48e31638aa0ad2",
       "style": "IPY_MODEL_6cd2995d3c08485f997f824741dee159"
      }
     },
     "7830e0b7d8914b309dd60b99b2e446c6": {
      "model_module": "@jupyter-widgets/controls",
      "model_module_version": "1.5.0",
      "model_name": "LabelModel",
      "state": {
       "layout": "IPY_MODEL_8ccec4cfd0394ab3bd4234c72512b8f6",
       "style": "IPY_MODEL_0647fad69f1d462aa33cd4724f597da0",
       "value": "   objective"
      }
     },
     "783146451da142a49f0aab0062f1d9bf": {
      "model_module": "@jupyter-widgets/controls",
      "model_module_version": "1.5.0",
      "model_name": "ButtonStyleModel",
      "state": {}
     },
     "78691c5752de4ce490345119b33c2080": {
      "model_module": "@jupyter-widgets/controls",
      "model_module_version": "1.5.0",
      "model_name": "ButtonStyleModel",
      "state": {}
     },
     "7893ed9953364eaea0ca33235d2a41a9": {
      "model_module": "@jupyter-widgets/controls",
      "model_module_version": "1.5.0",
      "model_name": "HBoxModel",
      "state": {
       "children": [
        "IPY_MODEL_236574777b2d481e9c7f78ed045e01ee",
        "IPY_MODEL_c9c24012bf5b42fcbfc5d3f28a58c3ec",
        "IPY_MODEL_cb0e949d2df04443ae448590a32e7acd",
        "IPY_MODEL_f3d63f3e47914f9c9ef152397e84e9ec"
       ],
       "layout": "IPY_MODEL_b0df633315d241bb805bf3d882bde540"
      }
     },
     "78b6b923a45f48a6afa03569560c1ac6": {
      "model_module": "@jupyter-widgets/controls",
      "model_module_version": "1.5.0",
      "model_name": "HTMLModel",
      "state": {
       "layout": "IPY_MODEL_2d6ff6b946064462b5dbe322111f8e8d",
       "style": "IPY_MODEL_3423c224b3c64c21bd7b35e5a717ea21",
       "value": "<font size=\"5\"><b>Lord of the Hunt</b></font size=>"
      }
     },
     "78f180d4bdae4b9abbf1ece8aeaa429e": {
      "model_module": "@jupyter-widgets/controls",
      "model_module_version": "1.5.0",
      "model_name": "ProgressStyleModel",
      "state": {
       "description_width": ""
      }
     },
     "7912c85758694ce3b96998a128cfaa37": {
      "model_module": "@jupyter-widgets/base",
      "model_module_version": "1.2.0",
      "model_name": "LayoutModel",
      "state": {
       "height": "32px",
       "overflow": "visible",
       "width": "100%"
      }
     },
     "798cd21ffb8c43a5939f5fc84101c8bf": {
      "model_module": "@jupyter-widgets/base",
      "model_module_version": "1.2.0",
      "model_name": "LayoutModel",
      "state": {
       "order": "-1",
       "overflow": "visible",
       "padding": "1px",
       "width": "0px"
      }
     },
     "79d3ed2bb03b4090b408a2da95d11d1e": {
      "model_module": "@jupyter-widgets/controls",
      "model_module_version": "1.5.0",
      "model_name": "LabelModel",
      "state": {
       "layout": "IPY_MODEL_0aff64cffede463a9bd2422d44900ec1",
       "style": "IPY_MODEL_eee12021f8244d4d90b1ac26b7984b69",
       "value": "   objective"
      }
     },
     "79e4d4a6d61f421da6a0767086713b0d": {
      "model_module": "@jupyter-widgets/controls",
      "model_module_version": "1.5.0",
      "model_name": "DescriptionStyleModel",
      "state": {
       "description_width": ""
      }
     },
     "79e6ef11be9e41dab51a8f2061d57302": {
      "model_module": "@jupyter-widgets/base",
      "model_module_version": "1.2.0",
      "model_name": "LayoutModel",
      "state": {
       "order": "-1",
       "overflow": "visible",
       "padding": "1px",
       "width": "0px"
      }
     },
     "7a062477850c4b289e7bc994e6f19fa6": {
      "model_module": "@jupyter-widgets/base",
      "model_module_version": "1.2.0",
      "model_name": "LayoutModel",
      "state": {
       "order": "-1",
       "overflow": "visible",
       "padding": "1px",
       "width": "0px"
      }
     },
     "7a260b6aa34f4278a3a6353c55b25778": {
      "model_module": "@jupyter-widgets/controls",
      "model_module_version": "1.5.0",
      "model_name": "DescriptionStyleModel",
      "state": {
       "description_width": ""
      }
     },
     "7a677c863b334443bfab34dd01be7762": {
      "model_module": "@jupyter-widgets/controls",
      "model_module_version": "1.5.0",
      "model_name": "DropdownModel",
      "state": {
       "_options_labels": [
        "Any",
        "Titan",
        "Hunter",
        "Warlock"
       ],
       "index": 0,
       "layout": "IPY_MODEL_90e814629dff4ab0b86cdbeedd1b626d",
       "style": "IPY_MODEL_2fd852ec53ba43ea84839e7714e204c6"
      }
     },
     "7aac7cf4eef241449a5e1886eb55c507": {
      "model_module": "@jupyter-widgets/base",
      "model_module_version": "1.2.0",
      "model_name": "LayoutModel",
      "state": {
       "height": "32px",
       "overflow": "visible",
       "width": "100%"
      }
     },
     "7ab3efde79c948bfa1e9a373c2c702ad": {
      "model_module": "@jupyter-widgets/controls",
      "model_module_version": "1.5.0",
      "model_name": "ButtonStyleModel",
      "state": {}
     },
     "7ae0e5e0efc349dbb1a40a8338e0452e": {
      "model_module": "@jupyter-widgets/base",
      "model_module_version": "1.2.0",
      "model_name": "LayoutModel",
      "state": {
       "display": "none"
      }
     },
     "7ae758ddb7354660aff51837745525fc": {
      "model_module": "@jupyter-widgets/base",
      "model_module_version": "1.2.0",
      "model_name": "LayoutModel",
      "state": {
       "height": "32px",
       "overflow": "visible",
       "width": "100%"
      }
     },
     "7aed720ab0ae495a8fe1199344efdf75": {
      "model_module": "@jupyter-widgets/base",
      "model_module_version": "1.2.0",
      "model_name": "LayoutModel",
      "state": {
       "height": "32px",
       "order": "-2",
       "width": "32px"
      }
     },
     "7b582e35cd6841519a456f6988b6d37d": {
      "model_module": "@jupyter-widgets/base",
      "model_module_version": "1.2.0",
      "model_name": "LayoutModel",
      "state": {
       "display": "none",
       "width": "60px"
      }
     },
     "7bac38a5817949a587227b603d1d12f8": {
      "model_module": "@jupyter-widgets/controls",
      "model_module_version": "1.5.0",
      "model_name": "ProgressStyleModel",
      "state": {
       "description_width": ""
      }
     },
     "7bc42a1d29a84c0591bee379639e20ea": {
      "model_module": "@jupyter-widgets/controls",
      "model_module_version": "1.5.0",
      "model_name": "ButtonStyleModel",
      "state": {}
     },
     "7bf91d213cd745338938f5005e027286": {
      "model_module": "@jupyter-widgets/controls",
      "model_module_version": "1.5.0",
      "model_name": "ProgressStyleModel",
      "state": {
       "description_width": ""
      }
     },
     "7bfcc4d4cc0845c8aa8c7ffcb1915f08": {
      "model_module": "@jupyter-widgets/controls",
      "model_module_version": "1.5.0",
      "model_name": "DropdownModel",
      "state": {
       "_options_labels": [
        "All"
       ],
       "index": 0,
       "layout": "IPY_MODEL_8752048fc2d64e0197747091301ef435",
       "style": "IPY_MODEL_cedb1a9ee91c463d910b241c9e22b9b6"
      }
     },
     "7c02735f68f94444931ec8dacface163": {
      "model_module": "@jupyter-widgets/controls",
      "model_module_version": "1.5.0",
      "model_name": "LabelModel",
      "state": {
       "layout": "IPY_MODEL_429f4e091e2940769b4664f55d017f3c",
       "style": "IPY_MODEL_f86cbbc8ff02405593a8d1f7e77da4dd",
       "value": "    Orbs generated (172/250)"
      }
     },
     "7c2ccfa387f645f0acf920942d6db7d8": {
      "model_module": "@jupyter-widgets/controls",
      "model_module_version": "1.5.0",
      "model_name": "DescriptionStyleModel",
      "state": {
       "description_width": ""
      }
     },
     "7c3ced5ea789464a86bd594f9f0c14d4": {
      "model_module": "@jupyter-widgets/controls",
      "model_module_version": "1.5.0",
      "model_name": "ButtonStyleModel",
      "state": {}
     },
     "7c517c14c0ca45f395fe9f3f445c54ce": {
      "model_module": "@jupyter-widgets/controls",
      "model_module_version": "1.5.0",
      "model_name": "HBoxModel",
      "state": {
       "children": [
        "IPY_MODEL_57c550010e854f39a7733a818a16da6e",
        "IPY_MODEL_19f5030884bc4472872eab02ba8cfc14",
        "IPY_MODEL_21c9c74dde5c4e9a9a8b9c4a932e32ad",
        "IPY_MODEL_adb684cc11fe4c7ab8eb6d27aae30843"
       ],
       "layout": "IPY_MODEL_725932300f904751a69467950e65ba42"
      }
     },
     "7cffc305bc8044c1a991bdaa4d4fe57c": {
      "model_module": "@jupyter-widgets/controls",
      "model_module_version": "1.5.0",
      "model_name": "DescriptionStyleModel",
      "state": {
       "description_width": ""
      }
     },
     "7d17afbf3d7e4ba2859d8ed024aaab6e": {
      "model_module": "@jupyter-widgets/controls",
      "model_module_version": "1.5.0",
      "model_name": "ButtonStyleModel",
      "state": {}
     },
     "7d67785760694c7cb01a4fc8680ae2c3": {
      "model_module": "@jupyter-widgets/controls",
      "model_module_version": "1.5.0",
      "model_name": "ButtonModel",
      "state": {
       "button_style": "success",
       "disabled": true,
       "layout": "IPY_MODEL_b400339ba03043b9b6fab1c152fb44fd",
       "style": "IPY_MODEL_10d1c66e690e44b196fd4e2bda92e97b"
      }
     },
     "7d7b365a67374d829641119668ae83d3": {
      "model_module": "@jupyter-widgets/base",
      "model_module_version": "1.2.0",
      "model_name": "LayoutModel",
      "state": {
       "height": "32px",
       "order": "-2",
       "width": "32px"
      }
     },
     "7dc242d78b6340c093ce509f50536fee": {
      "model_module": "@jupyter-widgets/controls",
      "model_module_version": "1.5.0",
      "model_name": "ButtonModel",
      "state": {
       "button_style": "success",
       "disabled": true,
       "layout": "IPY_MODEL_5a3240c45db74918b4b0d78405f7f6e2",
       "style": "IPY_MODEL_378519fb7c0e4cf397f16cca6d07aef3"
      }
     },
     "7dc86db06264489b940bb6c9a2e7d929": {
      "model_module": "@jupyter-widgets/controls",
      "model_module_version": "1.5.0",
      "model_name": "LabelModel",
      "state": {
       "layout": "IPY_MODEL_0525aaafa7ee4c50b48c665acfc18707",
       "style": "IPY_MODEL_dca2a987c494447098f2b64b99bee73e",
       "value": "    Hunters defeated (521/100)"
      }
     },
     "7dea7ae1192b4d31b409b757e198e5f4": {
      "model_module": "@jupyter-widgets/base",
      "model_module_version": "1.2.0",
      "model_name": "LayoutModel",
      "state": {
       "display": "none"
      }
     },
     "7e01d737b614498e9bfb641956ebe67c": {
      "model_module": "@jupyter-widgets/controls",
      "model_module_version": "1.5.0",
      "model_name": "DescriptionStyleModel",
      "state": {
       "description_width": ""
      }
     },
     "7e053ecd72314fe3a3721213b090e2fc": {
      "model_module": "@jupyter-widgets/controls",
      "model_module_version": "1.5.0",
      "model_name": "ButtonStyleModel",
      "state": {}
     },
     "7e20932ee78447b092b8eeb04a14582a": {
      "model_module": "@jupyter-widgets/base",
      "model_module_version": "1.2.0",
      "model_name": "LayoutModel",
      "state": {
       "order": "-1",
       "overflow": "visible",
       "padding": "1px",
       "width": "0px"
      }
     },
     "7e25a6fdec564a66803ea80cd7b28ea6": {
      "model_module": "@jupyter-widgets/controls",
      "model_module_version": "1.5.0",
      "model_name": "ButtonStyleModel",
      "state": {}
     },
     "7e3edcff84474d6bb331a30ee82e26b0": {
      "model_module": "@jupyter-widgets/base",
      "model_module_version": "1.2.0",
      "model_name": "LayoutModel",
      "state": {
       "height": "32px",
       "overflow": "visible",
       "width": "100%"
      }
     },
     "7e581dc54c9646ac8a6d5bc7426b3b0d": {
      "model_module": "@jupyter-widgets/base",
      "model_module_version": "1.2.0",
      "model_name": "LayoutModel",
      "state": {
       "overflow": "visible",
       "width": "100%"
      }
     },
     "7e811718bfd144ef8dbf5d8cf673c794": {
      "model_module": "@jupyter-widgets/controls",
      "model_module_version": "1.5.0",
      "model_name": "ButtonModel",
      "state": {
       "description": "EDIT",
       "layout": "IPY_MODEL_8cb276daeb3547088ff336b3c3e15930",
       "style": "IPY_MODEL_2bdb5213ebe140468fa7b26304bf78ec"
      }
     },
     "7e9e33ea7bee40f1b8f98889ff4a3ce8": {
      "model_module": "@jupyter-widgets/base",
      "model_module_version": "1.2.0",
      "model_name": "LayoutModel",
      "state": {
       "height": "32px",
       "overflow": "visible",
       "width": "100%"
      }
     },
     "7eba74cba206492992e9f39a60d83c21": {
      "model_module": "@jupyter-widgets/base",
      "model_module_version": "1.2.0",
      "model_name": "LayoutModel",
      "state": {
       "display": "flex",
       "flex_flow": "row wrap"
      }
     },
     "7ebdf8dad73c410a92a10fd15f64af0c": {
      "model_module": "@jupyter-widgets/controls",
      "model_module_version": "1.5.0",
      "model_name": "HBoxModel",
      "state": {
       "children": [
        "IPY_MODEL_0eab2622d9d845cdb3eac43ac7c3567b",
        "IPY_MODEL_4cb365198521437b91b5ec2b9889208e",
        "IPY_MODEL_d12fd61270694a5dac4aa93d41a508de",
        "IPY_MODEL_b3780ec2275e4be19036e41c771851f8"
       ],
       "layout": "IPY_MODEL_60c16a93b1284ababd72258f787e335a"
      }
     },
     "7ed3ba6031d04353a26e73001579c018": {
      "model_module": "@jupyter-widgets/controls",
      "model_module_version": "1.5.0",
      "model_name": "IntProgressModel",
      "state": {
       "bar_style": "info",
       "layout": "IPY_MODEL_fe4102187af841b9a93cb0c8aaae8499",
       "max": 5,
       "style": "IPY_MODEL_fff95415c2084bad88bec5e3d4778963",
       "value": 2
      }
     },
     "7eef6d16ad894332888c3a1505328c88": {
      "model_module": "@jupyter-widgets/controls",
      "model_module_version": "1.5.0",
      "model_name": "LabelModel",
      "state": {
       "layout": "IPY_MODEL_f2f03998a24140d2a76540e758bc36a3",
       "style": "IPY_MODEL_5446bcc3bb1c4e92b6ab9a6ad6bb9345",
       "value": "    Medals earned (3/1)"
      }
     },
     "7f076a032db2476d8456c631d70c2fdb": {
      "model_module": "@jupyter-widgets/controls",
      "model_module_version": "1.5.0",
      "model_name": "ButtonModel",
      "state": {
       "button_style": "success",
       "disabled": true,
       "layout": "IPY_MODEL_a08a975e62f1411297da3e2bf81a6417",
       "style": "IPY_MODEL_438dbe61181a4811b11159ec7a1e9031"
      }
     },
     "7f81e42396174ca5be2f1daa3b08d334": {
      "model_module": "@jupyter-widgets/controls",
      "model_module_version": "1.5.0",
      "model_name": "ProgressStyleModel",
      "state": {
       "description_width": ""
      }
     },
     "7f8a36e16f3c4125ae60ed7a469a72f3": {
      "model_module": "@jupyter-widgets/controls",
      "model_module_version": "1.5.0",
      "model_name": "ButtonModel",
      "state": {
       "button_style": "success",
       "disabled": true,
       "layout": "IPY_MODEL_38ae45d009a545a5aa7b1a4fb8aeec8a",
       "style": "IPY_MODEL_2b4ba0c2ae484abfb69c7b7ff67cf759"
      }
     },
     "7fa7ebfd41ae4a66a32088b30954c931": {
      "model_module": "@jupyter-widgets/controls",
      "model_module_version": "1.5.0",
      "model_name": "ButtonStyleModel",
      "state": {}
     },
     "7fae413c6a494fc08735a683ead8d941": {
      "model_module": "@jupyter-widgets/controls",
      "model_module_version": "1.5.0",
      "model_name": "LabelModel",
      "state": {
       "layout": "IPY_MODEL_1bc8d0abcea247078ba61f8dbf35d7b7",
       "style": "IPY_MODEL_63bfc517fead4c439a86a1c50c425948",
       "value": "   objective"
      }
     },
     "7ff07c04482a4306a3d318c0d34641cf": {
      "model_module": "@jupyter-widgets/controls",
      "model_module_version": "1.5.0",
      "model_name": "ButtonModel",
      "state": {
       "layout": "IPY_MODEL_3742dcb186724d8593cb22280b1a542b",
       "style": "IPY_MODEL_9c30c3479c0d481d83479501b1fd70f0"
      }
     },
     "800ed2416edf4c4983b3e8a258f6b1ce": {
      "model_module": "@jupyter-widgets/base",
      "model_module_version": "1.2.0",
      "model_name": "LayoutModel",
      "state": {
       "order": "-1",
       "overflow": "visible",
       "padding": "1px",
       "width": "0px"
      }
     },
     "8036c7d3b2084a6f9e36c5fc69c9d664": {
      "model_module": "@jupyter-widgets/controls",
      "model_module_version": "1.5.0",
      "model_name": "DescriptionStyleModel",
      "state": {
       "description_width": ""
      }
     },
     "803b4b90bb554fdd9869f45a09e81b72": {
      "model_module": "@jupyter-widgets/controls",
      "model_module_version": "1.5.0",
      "model_name": "VBoxModel",
      "state": {
       "children": [
        "IPY_MODEL_e5159e5c484647ae9da5ee0816a31927",
        "IPY_MODEL_3d48c8fcce6d4826a30172b3c601a91e",
        "IPY_MODEL_071503186b674551bf7be0329f6d932e",
        "IPY_MODEL_4d24e009c8fd40369bea787c725245b1",
        "IPY_MODEL_b3080a43e2314e1eaa5b0f5d4cb0e49b",
        "IPY_MODEL_f9e63631758842bb92a52838521a771c"
       ],
       "layout": "IPY_MODEL_acac7d3205ab46cc898063c49cc3ec1a"
      }
     },
     "80813368a28a444480c2328aa4731bec": {
      "model_module": "@jupyter-widgets/base",
      "model_module_version": "1.2.0",
      "model_name": "LayoutModel",
      "state": {
       "display": "none"
      }
     },
     "80d05ab97f164572a568d80f2942da15": {
      "model_module": "@jupyter-widgets/controls",
      "model_module_version": "1.5.0",
      "model_name": "HTMLModel",
      "state": {
       "layout": "IPY_MODEL_c900e29f4e074972aecc5068cdaf03cd",
       "style": "IPY_MODEL_ef9b0aceeee14d6eb57051725ea358be",
       "value": "<i>Mayhem: In a single life, cast three Supers.</i>"
      }
     },
     "80fffa6ae9d149319d90e5cb4f31d08b": {
      "model_module": "@jupyter-widgets/controls",
      "model_module_version": "1.5.0",
      "model_name": "ButtonModel",
      "state": {
       "description": "EDIT",
       "layout": "IPY_MODEL_2b8b629588c14070a8705465b8a1adf5",
       "style": "IPY_MODEL_2f447cf8ba654247a65216cf4accf9ea"
      }
     },
     "810d73fb33c54421811764eca8f8b11f": {
      "model_module": "@jupyter-widgets/controls",
      "model_module_version": "1.5.0",
      "model_name": "DescriptionStyleModel",
      "state": {
       "description_width": ""
      }
     },
     "813a8294259341d1a8decb9007e45ebc": {
      "model_module": "@jupyter-widgets/controls",
      "model_module_version": "1.5.0",
      "model_name": "ButtonModel",
      "state": {
       "description": "Previous",
       "layout": "IPY_MODEL_eed69a80cba8489a989afe9ba0d653c0",
       "style": "IPY_MODEL_e8cd5b62a5114533908d7e99ccab8c03"
      }
     },
     "814521bf208244188b400fa794d12b59": {
      "model_module": "@jupyter-widgets/controls",
      "model_module_version": "1.5.0",
      "model_name": "IntProgressModel",
      "state": {
       "layout": "IPY_MODEL_1d8b0a15342f4445a8c78e9814448170",
       "style": "IPY_MODEL_9d321d82a23e41f9b70cb6f56a0a0ce9",
       "value": 30
      }
     },
     "815b541ccb24404ca56fb90467eb51be": {
      "model_module": "@jupyter-widgets/controls",
      "model_module_version": "1.5.0",
      "model_name": "IntProgressModel",
      "state": {
       "layout": "IPY_MODEL_b5f862b0866449a38b1523b9b9fe307c",
       "style": "IPY_MODEL_db13f3fefdf4404fa06eb621bcbf4efa",
       "value": 30
      }
     },
     "816de76e12fd486c982245fff30b467c": {
      "model_module": "@jupyter-widgets/base",
      "model_module_version": "1.2.0",
      "model_name": "LayoutModel",
      "state": {
       "display": "none",
       "width": "60px"
      }
     },
     "81718c3a677d49e29ffd91fe3b8dc3a8": {
      "model_module": "@jupyter-widgets/controls",
      "model_module_version": "1.5.0",
      "model_name": "ButtonModel",
      "state": {
       "button_style": "success",
       "disabled": true,
       "layout": "IPY_MODEL_b5ed2117323b4a839ece8d06985162ee",
       "style": "IPY_MODEL_3e25ea953d8b4339869a6a7a92e3ebd4"
      }
     },
     "819140152b384099bc363f35efdd71be": {
      "model_module": "@jupyter-widgets/controls",
      "model_module_version": "1.5.0",
      "model_name": "ButtonStyleModel",
      "state": {}
     },
     "81ade50b024c47d4ad70ac267327154b": {
      "model_module": "@jupyter-widgets/controls",
      "model_module_version": "1.5.0",
      "model_name": "IntProgressModel",
      "state": {
       "bar_style": "success",
       "layout": "IPY_MODEL_1cb543d198ec4288a170b9cb6f50cc35",
       "max": 1,
       "style": "IPY_MODEL_30c96e4958634307827254df2c34a7b6",
       "value": 1
      }
     },
     "81ce3864b0154d168617fd50b5a16501": {
      "model_module": "@jupyter-widgets/controls",
      "model_module_version": "1.5.0",
      "model_name": "ButtonStyleModel",
      "state": {}
     },
     "81d808e471ed4c2781049e74badde62b": {
      "model_module": "@jupyter-widgets/controls",
      "model_module_version": "1.5.0",
      "model_name": "HTMLModel",
      "state": {
       "layout": "IPY_MODEL_2c8c6983cfcc40d98e97cee9053fe6f3",
       "style": "IPY_MODEL_205e26d99aab4bf6a60b1a4e9fa0d359",
       "value": "<i>Control: Complete a Control match with the most combined Advantage and Power Play kills.</i>"
      }
     },
     "820373b1ecc040b2a42ce6a511c27afb": {
      "model_module": "@jupyter-widgets/base",
      "model_module_version": "1.2.0",
      "model_name": "LayoutModel",
      "state": {
       "overflow": "visible",
       "width": "100%"
      }
     },
     "8209178ca78e43b0ba8227049daee4da": {
      "model_module": "@jupyter-widgets/controls",
      "model_module_version": "1.5.0",
      "model_name": "ButtonModel",
      "state": {
       "description": "EDIT",
       "layout": "IPY_MODEL_0f4cbf9429194b5092e09fc0ac942c76",
       "style": "IPY_MODEL_5c70eff6e8ca4a8889007f5422bb7cd1"
      }
     },
     "8256f504b272479991fa17c5999ac917": {
      "model_module": "@jupyter-widgets/controls",
      "model_module_version": "1.5.0",
      "model_name": "HBoxModel",
      "state": {
       "children": [
        "IPY_MODEL_bc7c6d7a368e40df8c877f4f73507f8f",
        "IPY_MODEL_5b7a8356b97649a5a7e61e27e067eb85",
        "IPY_MODEL_7dc86db06264489b940bb6c9a2e7d929",
        "IPY_MODEL_17dde92ce7bc45979ed67dafcb0c7e19"
       ],
       "layout": "IPY_MODEL_d749057f8647401d8090a373746aba61"
      }
     },
     "825eec7ee34f4fe1aac795261b5f4077": {
      "model_module": "@jupyter-widgets/controls",
      "model_module_version": "1.5.0",
      "model_name": "ProgressStyleModel",
      "state": {
       "description_width": ""
      }
     },
     "825f9156cd9246619092e79c5b673ff3": {
      "model_module": "@jupyter-widgets/controls",
      "model_module_version": "1.5.0",
      "model_name": "ButtonStyleModel",
      "state": {}
     },
     "826576cbdc40470298a0b07b9407604e": {
      "model_module": "@jupyter-widgets/controls",
      "model_module_version": "1.5.0",
      "model_name": "ButtonModel",
      "state": {
       "button_style": "success",
       "disabled": true,
       "layout": "IPY_MODEL_ab5d46bcc7a049fbaf9f541feb787d5b",
       "style": "IPY_MODEL_8bca781b6284490eaca6f0ce1e13ea12"
      }
     },
     "8299442b87d0418cbd906b38ce7502cf": {
      "model_module": "@jupyter-widgets/controls",
      "model_module_version": "1.5.0",
      "model_name": "ButtonModel",
      "state": {
       "description": "EDIT",
       "layout": "IPY_MODEL_1568fd60362044b8a219a08ac998871e",
       "style": "IPY_MODEL_eaf809b0403745e0baa5926c7b91f51f"
      }
     },
     "82c40d93e8d1449f8127eae0898bc6fa": {
      "model_module": "@jupyter-widgets/base",
      "model_module_version": "1.2.0",
      "model_name": "LayoutModel",
      "state": {
       "display": "none"
      }
     },
     "82dedb38aad34ef19aef1f7ce6809e86": {
      "model_module": "@jupyter-widgets/controls",
      "model_module_version": "1.5.0",
      "model_name": "IntProgressModel",
      "state": {
       "layout": "IPY_MODEL_17e2fb7aada640e48a447b3a8f1cbbec",
       "style": "IPY_MODEL_afa84b8309e0406081857724808bc265",
       "value": 30
      }
     },
     "82dedc00ae274a5fa2f95a9232be36d9": {
      "model_module": "@jupyter-widgets/controls",
      "model_module_version": "1.5.0",
      "model_name": "ButtonStyleModel",
      "state": {}
     },
     "8319388e404e4e8cbcd3fbed62c3a283": {
      "model_module": "@jupyter-widgets/controls",
      "model_module_version": "1.5.0",
      "model_name": "ButtonModel",
      "state": {
       "layout": "IPY_MODEL_aae89f97ed304e52b94d735078c51c54",
       "style": "IPY_MODEL_b3a9a323f5f5451db2d3374f67adc762"
      }
     },
     "8329e4d2e26846649f5eb9a467475521": {
      "model_module": "@jupyter-widgets/base",
      "model_module_version": "1.2.0",
      "model_name": "LayoutModel",
      "state": {
       "height": "32px",
       "overflow": "visible",
       "width": "100%"
      }
     },
     "837054ebd6274b548498a87c7d0ba215": {
      "model_module": "@jupyter-widgets/controls",
      "model_module_version": "1.5.0",
      "model_name": "LabelModel",
      "state": {
       "layout": "IPY_MODEL_e83ce54b20184aa982348257e35b961b",
       "style": "IPY_MODEL_665b845e9c4c453bbafdaaa967a647fd",
       "value": "Loading Data (Interface)...."
      }
     },
     "8393f34a95fb43279909e403f0ac1a7c": {
      "model_module": "@jupyter-widgets/controls",
      "model_module_version": "1.5.0",
      "model_name": "ButtonModel",
      "state": {
       "description": "EDIT",
       "layout": "IPY_MODEL_2ee4253a5a49449c9bd096faebcf0baf",
       "style": "IPY_MODEL_034343a096164da8b0420485d3abd5c3"
      }
     },
     "83abdafc010c4210b4cca82b9b9bb4b1": {
      "model_module": "@jupyter-widgets/controls",
      "model_module_version": "1.5.0",
      "model_name": "DescriptionStyleModel",
      "state": {
       "description_width": ""
      }
     },
     "83b0d83c2c1d44329a62862496a2cf69": {
      "model_module": "@jupyter-widgets/controls",
      "model_module_version": "1.5.0",
      "model_name": "DescriptionStyleModel",
      "state": {
       "description_width": ""
      }
     },
     "83eddaa841134aa499c0cb34d5dd8405": {
      "model_module": "@jupyter-widgets/base",
      "model_module_version": "1.2.0",
      "model_name": "LayoutModel",
      "state": {
       "border": "3px solid white",
       "display": "flex",
       "flex": "1 1 0%",
       "margin": "10px",
       "min_width": "400px",
       "overflow": "visible",
       "padding": "10px",
       "width": "auto"
      }
     },
     "848d8948370c41b4b82e07fcb7436bec": {
      "model_module": "@jupyter-widgets/base",
      "model_module_version": "1.2.0",
      "model_name": "LayoutModel",
      "state": {
       "height": "32px",
       "order": "-2",
       "width": "32px"
      }
     },
     "84b96d21dd26433383aa25a9dcb3daf3": {
      "model_module": "@jupyter-widgets/controls",
      "model_module_version": "1.5.0",
      "model_name": "DropdownModel",
      "state": {
       "_options_labels": [
        "All"
       ],
       "index": 0,
       "layout": "IPY_MODEL_a3f6060aea6f4021a898217d39d207c5",
       "style": "IPY_MODEL_3ff5a7ee1f6945f69916b2f1138b3196"
      }
     },
     "84bc195322ed4ca9b9acd2ad88b421e0": {
      "model_module": "@jupyter-widgets/base",
      "model_module_version": "1.2.0",
      "model_name": "LayoutModel",
      "state": {
       "overflow": "visible",
       "width": "100%"
      }
     },
     "84f3348853584100bb06d1aaa0102ab1": {
      "model_module": "@jupyter-widgets/controls",
      "model_module_version": "1.5.0",
      "model_name": "ButtonModel",
      "state": {
       "description": "EDIT",
       "layout": "IPY_MODEL_887ee248655d42c78aa07799056b39af",
       "style": "IPY_MODEL_dfc72b19dfa942eb879d80a936cdcedb"
      }
     },
     "8514972ad913445d960825e7e977374e": {
      "model_module": "@jupyter-widgets/base",
      "model_module_version": "1.2.0",
      "model_name": "LayoutModel",
      "state": {
       "display": "none"
      }
     },
     "853bda82a0c0487682d202a20cc8f465": {
      "model_module": "@jupyter-widgets/base",
      "model_module_version": "1.2.0",
      "model_name": "LayoutModel",
      "state": {
       "display": "none"
      }
     },
     "8550a29fe1984409b843e2816431ca0e": {
      "model_module": "@jupyter-widgets/base",
      "model_module_version": "1.2.0",
      "model_name": "LayoutModel",
      "state": {
       "display": "none"
      }
     },
     "855f50bb9c7e460397e87998b8086a6e": {
      "model_module": "@jupyter-widgets/controls",
      "model_module_version": "1.5.0",
      "model_name": "ButtonStyleModel",
      "state": {}
     },
     "85612c918c494d4ebba89b489a6080cb": {
      "model_module": "@jupyter-widgets/base",
      "model_module_version": "1.2.0",
      "model_name": "LayoutModel",
      "state": {
       "overflow": "visible",
       "width": "100%"
      }
     },
     "8565be7ebaed404d8d44a3d7b3a2146e": {
      "model_module": "@jupyter-widgets/controls",
      "model_module_version": "1.5.0",
      "model_name": "IntProgressModel",
      "state": {
       "layout": "IPY_MODEL_9eca27a75c444ea3975127f4db063708",
       "style": "IPY_MODEL_899297e0d32940f9aa2f79e1f866facb",
       "value": 30
      }
     },
     "859839946a0949ed86489721f21d7237": {
      "model_module": "@jupyter-widgets/controls",
      "model_module_version": "1.5.0",
      "model_name": "IntProgressModel",
      "state": {
       "bar_style": "success",
       "layout": "IPY_MODEL_5276f85f40514f779be037fa24e4b26a",
       "max": 500,
       "style": "IPY_MODEL_8fbdde8711204906ad539ecdb0d7b89d",
       "value": 500
      }
     },
     "85a7fce8b9034cf99a387a9bb7aa785a": {
      "model_module": "@jupyter-widgets/base",
      "model_module_version": "1.2.0",
      "model_name": "LayoutModel",
      "state": {}
     },
     "85b5087c364b4a749fd87c3e99a5a7c0": {
      "model_module": "@jupyter-widgets/base",
      "model_module_version": "1.2.0",
      "model_name": "LayoutModel",
      "state": {
       "order": "-1",
       "overflow": "visible",
       "padding": "1px",
       "width": "0px"
      }
     },
     "85c5b9dac50d4cea9cc30797c1b60d50": {
      "model_module": "@jupyter-widgets/controls",
      "model_module_version": "1.5.0",
      "model_name": "IntProgressModel",
      "state": {
       "layout": "IPY_MODEL_a3bdc64055d74cc78dd96a37638eba8f",
       "max": 50,
       "style": "IPY_MODEL_c8718b056e434eb2a6cafd86079ed6c8",
       "value": 42
      }
     },
     "8600c8f251bd43f5885f6d7f30fed355": {
      "model_module": "@jupyter-widgets/controls",
      "model_module_version": "1.5.0",
      "model_name": "VBoxModel",
      "state": {
       "children": [
        "IPY_MODEL_10ca8d56e989426fa072ed72d8b61154",
        "IPY_MODEL_aa0089ef07cc459b9ab758720e7abba2",
        "IPY_MODEL_199fa1557655470ca2c6a41bbfb1779c",
        "IPY_MODEL_20434c1b193741159fcc92a58ba42ef0",
        "IPY_MODEL_eacbf64c4e57403a9912e58dd0be313a",
        "IPY_MODEL_9765c45bd5624049a8020a865ac2275c"
       ],
       "layout": "IPY_MODEL_260a0367df784dc6bf60b80ff225b30f"
      }
     },
     "862db45f1921455e86d7e85c4c5d3f4d": {
      "model_module": "@jupyter-widgets/controls",
      "model_module_version": "1.5.0",
      "model_name": "DescriptionStyleModel",
      "state": {
       "description_width": ""
      }
     },
     "8657b049f6c14718a353dd4274d83f45": {
      "model_module": "@jupyter-widgets/controls",
      "model_module_version": "1.5.0",
      "model_name": "ProgressStyleModel",
      "state": {
       "description_width": ""
      }
     },
     "86a6d4259e424015906687e1b664fe3f": {
      "model_module": "@jupyter-widgets/controls",
      "model_module_version": "1.5.0",
      "model_name": "LabelModel",
      "state": {
       "layout": "IPY_MODEL_f38d1a45a80c445eaf797e2c6cee0521",
       "style": "IPY_MODEL_55b4d45fc9d34d47bd784fb47388c6a6",
       "value": "   objective"
      }
     },
     "86ac95d3f26840c8ac673add9e9b4ddc": {
      "model_module": "@jupyter-widgets/controls",
      "model_module_version": "1.5.0",
      "model_name": "ProgressStyleModel",
      "state": {
       "description_width": ""
      }
     },
     "86d213cbe48d4dc8a0a47012c8ba2bf7": {
      "model_module": "@jupyter-widgets/controls",
      "model_module_version": "1.5.0",
      "model_name": "DescriptionStyleModel",
      "state": {
       "description_width": ""
      }
     },
     "86e8d47bfbeb45628cc731d133a16200": {
      "model_module": "@jupyter-widgets/base",
      "model_module_version": "1.2.0",
      "model_name": "LayoutModel",
      "state": {
       "display": "none",
       "width": "95%"
      }
     },
     "8704cfe1e3f941b5a27bb6d70bc3a537": {
      "model_module": "@jupyter-widgets/base",
      "model_module_version": "1.2.0",
      "model_name": "LayoutModel",
      "state": {
       "order": "-1",
       "overflow": "visible",
       "padding": "1px",
       "width": "0px"
      }
     },
     "871280e0a1724b878fadcc719929fa85": {
      "model_module": "@jupyter-widgets/base",
      "model_module_version": "1.2.0",
      "model_name": "LayoutModel",
      "state": {
       "display": "none"
      }
     },
     "87384ac34f734623aa6253b52a98451b": {
      "model_module": "@jupyter-widgets/base",
      "model_module_version": "1.2.0",
      "model_name": "LayoutModel",
      "state": {
       "order": "-1",
       "overflow": "visible",
       "padding": "1px",
       "width": "0px"
      }
     },
     "873c0f8cdc5547999eb2421c9ac8417c": {
      "model_module": "@jupyter-widgets/controls",
      "model_module_version": "1.5.0",
      "model_name": "VBoxModel",
      "state": {
       "children": [
        "IPY_MODEL_4c8a6b82114d4fc9bcc3bca8149886f9",
        "IPY_MODEL_04e51d26f6a4412fb0490e1a4de0f3b4",
        "IPY_MODEL_50da8dfce9aa4176a6b5fbde70a830e9",
        "IPY_MODEL_f84e1cda0a5c4361ba6c16e4c2e69f4b"
       ],
       "layout": "IPY_MODEL_6babb9be40654273b7986b85c2d3e5a5"
      }
     },
     "8752048fc2d64e0197747091301ef435": {
      "model_module": "@jupyter-widgets/base",
      "model_module_version": "1.2.0",
      "model_name": "LayoutModel",
      "state": {
       "display": "none",
       "width": "95%"
      }
     },
     "87673798dbc14bb1bb515f709c4d5dfe": {
      "model_module": "@jupyter-widgets/controls",
      "model_module_version": "1.5.0",
      "model_name": "HTMLModel",
      "state": {
       "layout": "IPY_MODEL_7eba74cba206492992e9f39a60d83c21",
       "style": "IPY_MODEL_050e0fb6f4eb40458f06610de3921d4b",
       "value": "<i>As a team, defeat all opposing Guardians at least once during the Hunt.</i>"
      }
     },
     "87758f359d3640ccbc945270487ceb40": {
      "model_module": "@jupyter-widgets/base",
      "model_module_version": "1.2.0",
      "model_name": "LayoutModel",
      "state": {
       "justify_items": "center",
       "padding": "5px",
       "width": "200px"
      }
     },
     "87a2d02528d44eca94730d93391e5dac": {
      "model_module": "@jupyter-widgets/controls",
      "model_module_version": "1.5.0",
      "model_name": "ButtonModel",
      "state": {
       "layout": "IPY_MODEL_96ce665b18bd45f5bea5a3dc6d4d08d9",
       "style": "IPY_MODEL_82dedc00ae274a5fa2f95a9232be36d9"
      }
     },
     "882a65a515844526a72947698e130712": {
      "model_module": "@jupyter-widgets/controls",
      "model_module_version": "1.5.0",
      "model_name": "ButtonModel",
      "state": {
       "description": "EDIT",
       "layout": "IPY_MODEL_3d4f71d716d44cca9941f794a269b636",
       "style": "IPY_MODEL_8f50c01426e249f38591771b0d0fa2c3"
      }
     },
     "882e1038d74a4222a15e1778e7857756": {
      "model_module": "@jupyter-widgets/controls",
      "model_module_version": "1.5.0",
      "model_name": "HBoxModel",
      "state": {
       "children": [
        "IPY_MODEL_560bb64327bb4c5dab7deeac299eb341",
        "IPY_MODEL_815b541ccb24404ca56fb90467eb51be",
        "IPY_MODEL_4779d5fcf65f460db257b32dac0e1954",
        "IPY_MODEL_2ff33b3b7ea9465ab21f42b3ecb61120"
       ],
       "layout": "IPY_MODEL_6625cc75df404f189af7f03bbf8e39a2"
      }
     },
     "8842090b22d2467f88874e58c9791093": {
      "model_module": "@jupyter-widgets/controls",
      "model_module_version": "1.5.0",
      "model_name": "IntProgressModel",
      "state": {
       "layout": "IPY_MODEL_3a056c822a8a42e597060ea0fc27b87c",
       "style": "IPY_MODEL_6e0ca4934e6a414a88b0cc8ae4729c2f",
       "value": 30
      }
     },
     "8859a9fcaa1245888c2ee62fbe0c6989": {
      "model_module": "@jupyter-widgets/base",
      "model_module_version": "1.2.0",
      "model_name": "LayoutModel",
      "state": {
       "display": "none",
       "width": "60px"
      }
     },
     "8865c6358c324eceb5ff23cbcd2494fa": {
      "model_module": "@jupyter-widgets/controls",
      "model_module_version": "1.5.0",
      "model_name": "BoxModel",
      "state": {
       "layout": "IPY_MODEL_2a9713fa8a09456680540b098fadd200"
      }
     },
     "887edc8e1021483482e75e2208c30c40": {
      "model_module": "@jupyter-widgets/controls",
      "model_module_version": "1.5.0",
      "model_name": "ButtonModel",
      "state": {
       "description": "EDIT",
       "layout": "IPY_MODEL_1a92ac49155145128885f308fa5f85f6",
       "style": "IPY_MODEL_8df19865098d47cca94f57f32774c6d2"
      }
     },
     "887ee248655d42c78aa07799056b39af": {
      "model_module": "@jupyter-widgets/base",
      "model_module_version": "1.2.0",
      "model_name": "LayoutModel",
      "state": {
       "display": "none",
       "width": "60px"
      }
     },
     "88987da1a5bb40d397b51aafe945844f": {
      "model_module": "@jupyter-widgets/controls",
      "model_module_version": "1.5.0",
      "model_name": "DescriptionStyleModel",
      "state": {
       "description_width": ""
      }
     },
     "889afd550e2c45329c0f594510057dd9": {
      "model_module": "@jupyter-widgets/controls",
      "model_module_version": "1.5.0",
      "model_name": "ButtonStyleModel",
      "state": {}
     },
     "890c44a6bf264691ba137f8cbcead911": {
      "model_module": "@jupyter-widgets/controls",
      "model_module_version": "1.5.0",
      "model_name": "ButtonStyleModel",
      "state": {}
     },
     "893762b1055a428189abd002a9feff4d": {
      "model_module": "@jupyter-widgets/controls",
      "model_module_version": "1.5.0",
      "model_name": "ButtonModel",
      "state": {
       "layout": "IPY_MODEL_9927bec4a28e43979da6c06434fd833f",
       "style": "IPY_MODEL_58ac1949445742a5b27e14b879d58b99"
      }
     },
     "89382ec54c6a4af5bf03ae22401ceb37": {
      "model_module": "@jupyter-widgets/base",
      "model_module_version": "1.2.0",
      "model_name": "LayoutModel",
      "state": {
       "display": "none"
      }
     },
     "899297e0d32940f9aa2f79e1f866facb": {
      "model_module": "@jupyter-widgets/controls",
      "model_module_version": "1.5.0",
      "model_name": "ProgressStyleModel",
      "state": {
       "description_width": ""
      }
     },
     "89ba957401854ea28977897cc8766687": {
      "model_module": "@jupyter-widgets/base",
      "model_module_version": "1.2.0",
      "model_name": "LayoutModel",
      "state": {
       "order": "-1",
       "overflow": "visible",
       "padding": "1px",
       "width": "0px"
      }
     },
     "89c2c94d03724b8b84f2b7633f6a0a70": {
      "model_module": "@jupyter-widgets/base",
      "model_module_version": "1.2.0",
      "model_name": "LayoutModel",
      "state": {
       "height": "32px",
       "order": "-2",
       "width": "32px"
      }
     },
     "89e0e5644ea643109c663314542c810c": {
      "model_module": "@jupyter-widgets/controls",
      "model_module_version": "1.5.0",
      "model_name": "DropdownModel",
      "state": {
       "_options_labels": [
        "All"
       ],
       "index": 0,
       "layout": "IPY_MODEL_34b0aaecf0da4fc2824b8d724de4c149",
       "style": "IPY_MODEL_cdc1a784b639454e891da5ca88719b98"
      }
     },
     "8a2dc956553e458d85d6896cdc4e38e9": {
      "model_module": "@jupyter-widgets/controls",
      "model_module_version": "1.5.0",
      "model_name": "ProgressStyleModel",
      "state": {
       "description_width": ""
      }
     },
     "8a870f622c994f258e217ca80e65e901": {
      "model_module": "@jupyter-widgets/controls",
      "model_module_version": "1.5.0",
      "model_name": "ButtonModel",
      "state": {
       "description": "EDIT",
       "layout": "IPY_MODEL_0e55e1cf250e420cb2a1cd0715ea7367",
       "style": "IPY_MODEL_396fceb3c02246d38b9ad8d439796862"
      }
     },
     "8a8b5a59fafa49adb6ad03635bedb01f": {
      "model_module": "@jupyter-widgets/controls",
      "model_module_version": "1.5.0",
      "model_name": "ProgressStyleModel",
      "state": {
       "description_width": ""
      }
     },
     "8a99559163814f078e3c40107b1c20c8": {
      "model_module": "@jupyter-widgets/controls",
      "model_module_version": "1.5.0",
      "model_name": "HTMLModel",
      "state": {
       "layout": "IPY_MODEL_d9e62ca3c300482282cc6a0a66313e61",
       "style": "IPY_MODEL_6a4e7ffeca2b4e5890913c7c8935c53a",
       "value": "<i>With any Submachine Gun, defeat opponents and earn the medal, \"Sub Machinist.\"</i>"
      }
     },
     "8acba0cbbb7f41388ac3d3f1635978e9": {
      "model_module": "@jupyter-widgets/base",
      "model_module_version": "1.2.0",
      "model_name": "LayoutModel",
      "state": {}
     },
     "8ae6a781e3154a5aabfedbd65576e683": {
      "model_module": "@jupyter-widgets/controls",
      "model_module_version": "1.5.0",
      "model_name": "DescriptionStyleModel",
      "state": {
       "description_width": ""
      }
     },
     "8ae7652b25374dbab2e41d4f47cbfd52": {
      "model_module": "@jupyter-widgets/controls",
      "model_module_version": "1.5.0",
      "model_name": "ButtonStyleModel",
      "state": {}
     },
     "8afd6d17417547a0aa94745a60571bb1": {
      "model_module": "@jupyter-widgets/controls",
      "model_module_version": "1.5.0",
      "model_name": "ProgressStyleModel",
      "state": {
       "description_width": ""
      }
     },
     "8b0659697b244578bb80e045e055a09e": {
      "model_module": "@jupyter-widgets/base",
      "model_module_version": "1.2.0",
      "model_name": "LayoutModel",
      "state": {
       "display": "none"
      }
     },
     "8b5f025ccc2e45f79f06a4f924a1f9a5": {
      "model_module": "@jupyter-widgets/controls",
      "model_module_version": "1.5.0",
      "model_name": "DescriptionStyleModel",
      "state": {
       "description_width": ""
      }
     },
     "8b6c5d3b4933479586e324a6de44f178": {
      "model_module": "@jupyter-widgets/controls",
      "model_module_version": "1.5.0",
      "model_name": "ButtonModel",
      "state": {
       "description": "EDIT",
       "layout": "IPY_MODEL_0f48134d668a4152a89f9e075677d74c",
       "style": "IPY_MODEL_bc7fde9da037410ead1cea63250eb0c1"
      }
     },
     "8ba8aa1b1b5242af9e90b998769e6e34": {
      "model_module": "@jupyter-widgets/controls",
      "model_module_version": "1.5.0",
      "model_name": "ProgressStyleModel",
      "state": {
       "description_width": ""
      }
     },
     "8bca781b6284490eaca6f0ce1e13ea12": {
      "model_module": "@jupyter-widgets/controls",
      "model_module_version": "1.5.0",
      "model_name": "ButtonStyleModel",
      "state": {}
     },
     "8c3b790dde264e7397c8714b2f5b88da": {
      "model_module": "@jupyter-widgets/controls",
      "model_module_version": "1.5.0",
      "model_name": "ButtonModel",
      "state": {
       "description": "EDIT",
       "layout": "IPY_MODEL_c1510b894514403281b51235dc80b7d9",
       "style": "IPY_MODEL_a56f431317804807bf0604bd94d3b66f"
      }
     },
     "8c9d786f151641a5b6493bb3a89845a4": {
      "model_module": "@jupyter-widgets/controls",
      "model_module_version": "1.5.0",
      "model_name": "IntProgressModel",
      "state": {
       "layout": "IPY_MODEL_4480f1f6ebeb440daf48aec2e2dba016",
       "style": "IPY_MODEL_8ba8aa1b1b5242af9e90b998769e6e34",
       "value": 30
      }
     },
     "8cb276daeb3547088ff336b3c3e15930": {
      "model_module": "@jupyter-widgets/base",
      "model_module_version": "1.2.0",
      "model_name": "LayoutModel",
      "state": {
       "display": "none",
       "width": "60px"
      }
     },
     "8ccec4cfd0394ab3bd4234c72512b8f6": {
      "model_module": "@jupyter-widgets/base",
      "model_module_version": "1.2.0",
      "model_name": "LayoutModel",
      "state": {
       "order": "-1",
       "overflow": "visible",
       "padding": "1px",
       "width": "0px"
      }
     },
     "8cf7d6f07806499b8bbf24db0e87f651": {
      "model_module": "@jupyter-widgets/base",
      "model_module_version": "1.2.0",
      "model_name": "LayoutModel",
      "state": {
       "height": "32px",
       "overflow": "visible",
       "width": "100%"
      }
     },
     "8d16db127f8846519ad3d2f8be0d919d": {
      "model_module": "@jupyter-widgets/base",
      "model_module_version": "1.2.0",
      "model_name": "LayoutModel",
      "state": {
       "display": "none",
       "width": "60px"
      }
     },
     "8d54e7ddc37742f0a6f6e97a60335971": {
      "model_module": "@jupyter-widgets/controls",
      "model_module_version": "1.5.0",
      "model_name": "DescriptionStyleModel",
      "state": {
       "description_width": ""
      }
     },
     "8d5af30bdbbf402a9da7d92617d8d7cc": {
      "model_module": "@jupyter-widgets/base",
      "model_module_version": "1.2.0",
      "model_name": "LayoutModel",
      "state": {
       "order": "-1",
       "overflow": "visible",
       "padding": "1px",
       "width": "0px"
      }
     },
     "8dae31f5a5424b099def6e7ed8a9b473": {
      "model_module": "@jupyter-widgets/base",
      "model_module_version": "1.2.0",
      "model_name": "LayoutModel",
      "state": {
       "order": "-1",
       "overflow": "visible",
       "padding": "1px",
       "width": "0px"
      }
     },
     "8dbc62c46cee4a1b982033717ba797e4": {
      "model_module": "@jupyter-widgets/controls",
      "model_module_version": "1.5.0",
      "model_name": "ButtonStyleModel",
      "state": {}
     },
     "8de8a3819a004240b7939385c4b12dd7": {
      "model_module": "@jupyter-widgets/controls",
      "model_module_version": "1.5.0",
      "model_name": "VBoxModel",
      "state": {
       "children": [
        "IPY_MODEL_46f3f378f523487daa95d738ca7a995f",
        "IPY_MODEL_e3f4ca8cd13842e7934a99d9d0907b8d",
        "IPY_MODEL_4f482015e5764d2c819988fd9807f702",
        "IPY_MODEL_01b972d5067646ef9b1085180e6c8e55",
        "IPY_MODEL_516765f0868540f7a3d4b700da0230ed",
        "IPY_MODEL_33bfb4b4283f4ee9abb87971fe8af984"
       ],
       "layout": "IPY_MODEL_e6599517288d4867ba8e54a5bf4a90b2"
      }
     },
     "8df19865098d47cca94f57f32774c6d2": {
      "model_module": "@jupyter-widgets/controls",
      "model_module_version": "1.5.0",
      "model_name": "ButtonStyleModel",
      "state": {}
     },
     "8e19ac3ecbd74511ada02fc4389bd9d6": {
      "model_module": "@jupyter-widgets/controls",
      "model_module_version": "1.5.0",
      "model_name": "ButtonModel",
      "state": {
       "layout": "IPY_MODEL_9342da73cf5040ce9116e3f563f4952a",
       "style": "IPY_MODEL_687ef9b3268047de8460a4d7b55b6d5c"
      }
     },
     "8e534ef9f67b446ea747f3b09cc7ffad": {
      "model_module": "@jupyter-widgets/base",
      "model_module_version": "1.2.0",
      "model_name": "LayoutModel",
      "state": {
       "height": "32px",
       "overflow": "visible",
       "width": "100%"
      }
     },
     "8e569a0add854b449052196774c3e9f4": {
      "model_module": "@jupyter-widgets/controls",
      "model_module_version": "1.5.0",
      "model_name": "LabelModel",
      "state": {
       "layout": "IPY_MODEL_a4728f24106346698d2bc12010c1a775",
       "style": "IPY_MODEL_f18833788c1c4dbab2afc13bf16813a1",
       "value": "Class:"
      }
     },
     "8e6add04f28640038f2448c6421974f4": {
      "model_module": "@jupyter-widgets/controls",
      "model_module_version": "1.5.0",
      "model_name": "ButtonModel",
      "state": {
       "button_style": "success",
       "disabled": true,
       "layout": "IPY_MODEL_0f3b903425be448a9f56c537dcfe61da",
       "style": "IPY_MODEL_b5a8c915451f41e29ec9b8d250f716c1"
      }
     },
     "8ec85ce6aea04020891bfb142a364e0f": {
      "model_module": "@jupyter-widgets/controls",
      "model_module_version": "1.5.0",
      "model_name": "DescriptionStyleModel",
      "state": {
       "description_width": ""
      }
     },
     "8ecb03f07dd94a0aac1999aa012cba02": {
      "model_module": "@jupyter-widgets/controls",
      "model_module_version": "1.5.0",
      "model_name": "IntProgressModel",
      "state": {
       "layout": "IPY_MODEL_b9943b4514f04afb9cece2ed411e2c2e",
       "max": 1,
       "style": "IPY_MODEL_11ec2c037a154389b6e5372e8650b784"
      }
     },
     "8eed7f6181384ecdb3d4843c70116604": {
      "model_module": "@jupyter-widgets/controls",
      "model_module_version": "1.5.0",
      "model_name": "LabelModel",
      "state": {
       "layout": "IPY_MODEL_314245f039c94c1fb96b1efd0d025005",
       "style": "IPY_MODEL_c562a1629dae4384b3c3783714fa88fb",
       "value": "   objective"
      }
     },
     "8f1955a2ccc64ef8b33c829cdb274bb6": {
      "model_module": "@jupyter-widgets/base",
      "model_module_version": "1.2.0",
      "model_name": "LayoutModel",
      "state": {
       "height": "32px",
       "overflow": "visible",
       "width": "100%"
      }
     },
     "8f4b86c67d7d4bdc950791f12dd78ffb": {
      "model_module": "@jupyter-widgets/base",
      "model_module_version": "1.2.0",
      "model_name": "LayoutModel",
      "state": {
       "order": "-1",
       "overflow": "visible",
       "padding": "1px",
       "width": "0px"
      }
     },
     "8f50c01426e249f38591771b0d0fa2c3": {
      "model_module": "@jupyter-widgets/controls",
      "model_module_version": "1.5.0",
      "model_name": "ButtonStyleModel",
      "state": {}
     },
     "8f643c2d5913413d8949214686ae3a69": {
      "model_module": "@jupyter-widgets/base",
      "model_module_version": "1.2.0",
      "model_name": "LayoutModel",
      "state": {
       "display": "none",
       "width": "60px"
      }
     },
     "8fbdde8711204906ad539ecdb0d7b89d": {
      "model_module": "@jupyter-widgets/controls",
      "model_module_version": "1.5.0",
      "model_name": "ProgressStyleModel",
      "state": {
       "description_width": ""
      }
     },
     "90953ce5937d4889a378285edffafcaf": {
      "model_module": "@jupyter-widgets/controls",
      "model_module_version": "1.5.0",
      "model_name": "ProgressStyleModel",
      "state": {
       "description_width": ""
      }
     },
     "90c1645ea9d440f28426f14a2014e526": {
      "model_module": "@jupyter-widgets/controls",
      "model_module_version": "1.5.0",
      "model_name": "LabelModel",
      "state": {
       "layout": "IPY_MODEL_8f4b86c67d7d4bdc950791f12dd78ffb",
       "style": "IPY_MODEL_5ab8cc8c6c5d436597c9d1c888ba9c88",
       "value": "   objective"
      }
     },
     "90e24af9149d418496175ba85a82eb86": {
      "model_module": "@jupyter-widgets/base",
      "model_module_version": "1.2.0",
      "model_name": "LayoutModel",
      "state": {
       "height": "32px",
       "order": "-2",
       "width": "32px"
      }
     },
     "90e814629dff4ab0b86cdbeedd1b626d": {
      "model_module": "@jupyter-widgets/base",
      "model_module_version": "1.2.0",
      "model_name": "LayoutModel",
      "state": {
       "border": "",
       "width": "98%"
      }
     },
     "911aa8eca9db485782c5af1086cfc1d0": {
      "model_module": "@jupyter-widgets/controls",
      "model_module_version": "1.5.0",
      "model_name": "ButtonStyleModel",
      "state": {}
     },
     "913cd80392c34bc08b578096a5615a61": {
      "model_module": "@jupyter-widgets/base",
      "model_module_version": "1.2.0",
      "model_name": "LayoutModel",
      "state": {
       "display": "none",
       "width": "60px"
      }
     },
     "921dfcee79b4453da1836303e3c58223": {
      "model_module": "@jupyter-widgets/controls",
      "model_module_version": "1.5.0",
      "model_name": "ButtonModel",
      "state": {
       "description": "EDIT",
       "layout": "IPY_MODEL_67a1336e30aa4e229fcdaee0665e5f4d",
       "style": "IPY_MODEL_ec42872237f64789aa9250d1c1235ed4"
      }
     },
     "9246a15e5464475caf7929df10db1e32": {
      "model_module": "@jupyter-widgets/controls",
      "model_module_version": "1.5.0",
      "model_name": "IntProgressModel",
      "state": {
       "layout": "IPY_MODEL_9c72cca51fd443418b35aea3edea85e5",
       "style": "IPY_MODEL_70f5bc70e9ea49f5977298c59f25b50c",
       "value": 30
      }
     },
     "9255d7b164ca46a3b48882a35a83eda4": {
      "model_module": "@jupyter-widgets/base",
      "model_module_version": "1.2.0",
      "model_name": "LayoutModel",
      "state": {
       "display": "none"
      }
     },
     "9258210a268849b0a386be28b81c852c": {
      "model_module": "@jupyter-widgets/base",
      "model_module_version": "1.2.0",
      "model_name": "LayoutModel",
      "state": {
       "height": "32px",
       "order": "-2",
       "width": "32px"
      }
     },
     "92ed1d9589b74e74b01d1756e34fc113": {
      "model_module": "@jupyter-widgets/controls",
      "model_module_version": "1.5.0",
      "model_name": "ButtonModel",
      "state": {
       "description": "EDIT",
       "layout": "IPY_MODEL_ce89ce024a8d4845a676c1efba1b5a07",
       "style": "IPY_MODEL_e0d735fdea3346ddae14dbed9dc76859"
      }
     },
     "92ee27c5cd464346b48412228258d019": {
      "model_module": "@jupyter-widgets/controls",
      "model_module_version": "1.5.0",
      "model_name": "IntProgressModel",
      "state": {
       "layout": "IPY_MODEL_52b3422b259444fcb3aaebd97046cc1b",
       "style": "IPY_MODEL_9651ca0d467a4e8da0e64e6b6a450d48",
       "value": 30
      }
     },
     "931b576a8d0c4a05b1cafd051b1a5ea1": {
      "model_module": "@jupyter-widgets/controls",
      "model_module_version": "1.5.0",
      "model_name": "DescriptionStyleModel",
      "state": {
       "description_width": ""
      }
     },
     "932cae8d17d74aef8bfc2c05949e8071": {
      "model_module": "@jupyter-widgets/controls",
      "model_module_version": "1.5.0",
      "model_name": "VBoxModel",
      "state": {
       "children": [
        "IPY_MODEL_559fd64d68cc4d2581b64beab9370d04",
        "IPY_MODEL_a595ced9e0474dc2811e3b3133c4ddf9",
        "IPY_MODEL_2681be5514cd4ace8068f895cfb729e2",
        "IPY_MODEL_8de8a3819a004240b7939385c4b12dd7"
       ],
       "layout": "IPY_MODEL_4567895ed816495683515bb8bee9da34"
      }
     },
     "933e7f9f6c1c45d093ca5744a8c0986b": {
      "model_module": "@jupyter-widgets/controls",
      "model_module_version": "1.5.0",
      "model_name": "HBoxModel",
      "state": {
       "children": [
        "IPY_MODEL_0d5c31a3b1894798819db7311e1bc531",
        "IPY_MODEL_e3722306850b402ead0b5ff12268f482",
        "IPY_MODEL_da431141a1f1414788f5f19ff0ba64dc",
        "IPY_MODEL_505df0b65c854d57b4d94ce28ad4429f"
       ],
       "layout": "IPY_MODEL_99220f4554e943a6a63c780de40ea274"
      }
     },
     "9342da73cf5040ce9116e3f563f4952a": {
      "model_module": "@jupyter-widgets/base",
      "model_module_version": "1.2.0",
      "model_name": "LayoutModel",
      "state": {
       "height": "32px",
       "order": "-2",
       "width": "32px"
      }
     },
     "93768ce83f384538ba0e392951209f26": {
      "model_module": "@jupyter-widgets/controls",
      "model_module_version": "1.5.0",
      "model_name": "ButtonModel",
      "state": {
       "description": "EDIT",
       "layout": "IPY_MODEL_3b206443e54d43e597d7876bd95405a1",
       "style": "IPY_MODEL_adaf37f6cba14129b6b849fc70bd06b3"
      }
     },
     "93fbd5d457d64e928db5db5965428d03": {
      "model_module": "@jupyter-widgets/controls",
      "model_module_version": "1.5.0",
      "model_name": "ButtonModel",
      "state": {
       "description": "EDIT",
       "layout": "IPY_MODEL_d7b8bb6baae747efa967a02424463f68",
       "style": "IPY_MODEL_7ab3efde79c948bfa1e9a373c2c702ad"
      }
     },
     "9425e6bf0b444180afb955f6480a6301": {
      "model_module": "@jupyter-widgets/base",
      "model_module_version": "1.2.0",
      "model_name": "LayoutModel",
      "state": {
       "display": "none",
       "width": "60px"
      }
     },
     "9426aa56e0324f8ab875d0090996f33e": {
      "model_module": "@jupyter-widgets/controls",
      "model_module_version": "1.5.0",
      "model_name": "LabelModel",
      "state": {
       "layout": "IPY_MODEL_59a29c87781a4d5196e2ac1734752d36",
       "style": "IPY_MODEL_1a106aa3d9d54740bfcab4a17f941d37",
       "value": "   objective"
      }
     },
     "942a42916d604310bb647ad429f7da3a": {
      "model_module": "@jupyter-widgets/controls",
      "model_module_version": "1.5.0",
      "model_name": "LabelModel",
      "state": {
       "layout": "IPY_MODEL_22cf761cd28340479f0e8c12bffbcaca",
       "style": "IPY_MODEL_a5b38c42e0a04268a52a3369de40cb3b",
       "value": "    Crests recovered (16/25)"
      }
     },
     "94319864b5c741909073c0f6f2917d5b": {
      "model_module": "@jupyter-widgets/base",
      "model_module_version": "1.2.0",
      "model_name": "LayoutModel",
      "state": {
       "display": "none"
      }
     },
     "944b2d3161734e99b0be6ed51ce728a0": {
      "model_module": "@jupyter-widgets/base",
      "model_module_version": "1.2.0",
      "model_name": "LayoutModel",
      "state": {
       "height": "32px",
       "order": "-2",
       "width": "32px"
      }
     },
     "946350cfa7844c64a1685859849f924c": {
      "model_module": "@jupyter-widgets/controls",
      "model_module_version": "1.5.0",
      "model_name": "IntProgressModel",
      "state": {
       "layout": "IPY_MODEL_1af29806c1264eba98ee58129dfd3e20",
       "style": "IPY_MODEL_4b4589770d834d49bf5eded9454b19fa",
       "value": 30
      }
     },
     "9472ba34726047aab958422283203bd6": {
      "model_module": "@jupyter-widgets/base",
      "model_module_version": "1.2.0",
      "model_name": "LayoutModel",
      "state": {
       "order": "-1",
       "overflow": "visible",
       "padding": "1px",
       "width": "0px"
      }
     },
     "94b1d61d56a143f392d4b89daf5c932f": {
      "model_module": "@jupyter-widgets/controls",
      "model_module_version": "1.5.0",
      "model_name": "ButtonStyleModel",
      "state": {}
     },
     "950385c506c347be9ee83e4f09e3074b": {
      "model_module": "@jupyter-widgets/base",
      "model_module_version": "1.2.0",
      "model_name": "LayoutModel",
      "state": {
       "display": "none",
       "width": "60px"
      }
     },
     "9533d8df7d6c471199360cdb579fc726": {
      "model_module": "@jupyter-widgets/controls",
      "model_module_version": "1.5.0",
      "model_name": "CheckboxModel",
      "state": {
       "description": "Hide Complete Tasks",
       "disabled": false,
       "indent": false,
       "layout": "IPY_MODEL_de95e01f3f454a22a98cb9e7e7149a93",
       "style": "IPY_MODEL_bf0d59a2be9c4bf384c0b167f421a3aa",
       "value": false
      }
     },
     "953f55489bfb4b0895ff29390821b2b2": {
      "model_module": "@jupyter-widgets/base",
      "model_module_version": "1.2.0",
      "model_name": "LayoutModel",
      "state": {
       "display": "none",
       "width": "60px"
      }
     },
     "9551423f922446659e44ed90bc8946bb": {
      "model_module": "@jupyter-widgets/base",
      "model_module_version": "1.2.0",
      "model_name": "LayoutModel",
      "state": {
       "overflow": "visible",
       "width": "100%"
      }
     },
     "956372b305274457b38ca12713c7fdb3": {
      "model_module": "@jupyter-widgets/controls",
      "model_module_version": "1.5.0",
      "model_name": "HTMLModel",
      "state": {
       "layout": "IPY_MODEL_fe14551802f64f0f893dbbb28d635d94",
       "style": "IPY_MODEL_568c4f94645b4fea8c7e88e76c9fe309",
       "value": "<font size=\"1\">Triumphs/Crucible/Medals/Gametypes/Capture and Control</font size=>"
      }
     },
     "95675b3b52e943eca08e99663a89c9a3": {
      "model_module": "@jupyter-widgets/controls",
      "model_module_version": "1.5.0",
      "model_name": "LabelModel",
      "state": {
       "layout": "IPY_MODEL_dc0412f3b88542f9ba243240215b3283",
       "style": "IPY_MODEL_c7973595719a4bb58a60e19b96d878e9",
       "value": "   objective"
      }
     },
     "95f3aab2c8614c31abe8b95efa24498f": {
      "model_module": "@jupyter-widgets/base",
      "model_module_version": "1.2.0",
      "model_name": "LayoutModel",
      "state": {
       "display": "none",
       "width": "60px"
      }
     },
     "96153f901b214c9ab956122906891466": {
      "model_module": "@jupyter-widgets/controls",
      "model_module_version": "1.5.0",
      "model_name": "ButtonStyleModel",
      "state": {}
     },
     "9651ca0d467a4e8da0e64e6b6a450d48": {
      "model_module": "@jupyter-widgets/controls",
      "model_module_version": "1.5.0",
      "model_name": "ProgressStyleModel",
      "state": {
       "description_width": ""
      }
     },
     "9653d0e1fe9b4b98b72adaed3a88d6b7": {
      "model_module": "@jupyter-widgets/base",
      "model_module_version": "1.2.0",
      "model_name": "LayoutModel",
      "state": {
       "overflow": "visible",
       "width": "100%"
      }
     },
     "9677d34697da47d4aa8bdfe23e796864": {
      "model_module": "@jupyter-widgets/controls",
      "model_module_version": "1.5.0",
      "model_name": "DropdownModel",
      "state": {
       "_options_labels": [
        "All",
        "Crucible"
       ],
       "index": 1,
       "layout": "IPY_MODEL_446ff1e4c4be4dbea639488c17f2aa9f",
       "style": "IPY_MODEL_f223064f5b054b81b852982810c7f305"
      }
     },
     "96ce665b18bd45f5bea5a3dc6d4d08d9": {
      "model_module": "@jupyter-widgets/base",
      "model_module_version": "1.2.0",
      "model_name": "LayoutModel",
      "state": {
       "height": "32px",
       "order": "-2",
       "width": "32px"
      }
     },
     "96dd38cbe8ec491c9b4c67847c21fed5": {
      "model_module": "@jupyter-widgets/base",
      "model_module_version": "1.2.0",
      "model_name": "LayoutModel",
      "state": {
       "display": "none",
       "width": "60px"
      }
     },
     "96ef09384a2a477084ba70a5afd59020": {
      "model_module": "@jupyter-widgets/base",
      "model_module_version": "1.2.0",
      "model_name": "LayoutModel",
      "state": {
       "display": "none",
       "width": "60px"
      }
     },
     "97058087d9724d0b8696515cee0936ed": {
      "model_module": "@jupyter-widgets/controls",
      "model_module_version": "1.5.0",
      "model_name": "DescriptionStyleModel",
      "state": {
       "description_width": ""
      }
     },
     "9752cf935e4a41bd825444265642f431": {
      "model_module": "@jupyter-widgets/controls",
      "model_module_version": "1.5.0",
      "model_name": "ButtonModel",
      "state": {
       "layout": "IPY_MODEL_4f722f0d721b42aa8eb5d143ef4eb897",
       "style": "IPY_MODEL_3b082087c5b34991a1272c98eeaf3974"
      }
     },
     "9765c45bd5624049a8020a865ac2275c": {
      "model_module": "@jupyter-widgets/controls",
      "model_module_version": "1.5.0",
      "model_name": "HBoxModel",
      "state": {
       "children": [
        "IPY_MODEL_37c06c871c144b30b7d6945276e5f1e9",
        "IPY_MODEL_c32f81a2357b48768c3e9b59d05e5202",
        "IPY_MODEL_8eed7f6181384ecdb3d4843c70116604",
        "IPY_MODEL_5c48813255bf4b7cba1ffd300b19a5ca"
       ],
       "layout": "IPY_MODEL_ebdf4b90aa774af1b3f825710a9d70e9"
      }
     },
     "97763a7ecf69480fabac8174ec42010e": {
      "model_module": "@jupyter-widgets/controls",
      "model_module_version": "1.5.0",
      "model_name": "VBoxModel",
      "state": {
       "children": [
        "IPY_MODEL_002133a80a674d0ea3c5ee2ed46df67a",
        "IPY_MODEL_9e3f9256e85d48ed8fc3558b67e6d699",
        "IPY_MODEL_158f2a4ba7d641498d65e339c2d56bcd",
        "IPY_MODEL_e45610bf4a95445ab316dc5a3318b3df",
        "IPY_MODEL_caf34bfc251643b4a29124350435180b",
        "IPY_MODEL_0d1e5a97a2d848189c8bd2e50f600fb5"
       ],
       "layout": "IPY_MODEL_f06689cfa6f1404fbb9af7894dcc2a27"
      }
     },
     "9804f5ebe4244ece9fb67e2cba912a89": {
      "model_module": "@jupyter-widgets/controls",
      "model_module_version": "1.5.0",
      "model_name": "ButtonModel",
      "state": {
       "button_style": "success",
       "disabled": true,
       "layout": "IPY_MODEL_73fee8185b644d16b37be2ae98815172",
       "style": "IPY_MODEL_37206560ce044332b72643de74362d3b"
      }
     },
     "987c389b573a47b1817b8a7640cb92e6": {
      "model_module": "@jupyter-widgets/base",
      "model_module_version": "1.2.0",
      "model_name": "LayoutModel",
      "state": {
       "display": "none",
       "width": "60px"
      }
     },
     "988f5997824d449caa7d0533cda114be": {
      "model_module": "@jupyter-widgets/base",
      "model_module_version": "1.2.0",
      "model_name": "LayoutModel",
      "state": {
       "order": "-1",
       "overflow": "visible",
       "padding": "1px",
       "width": "0px"
      }
     },
     "989bf764d523469c99f857b6bb8924de": {
      "model_module": "@jupyter-widgets/base",
      "model_module_version": "1.2.0",
      "model_name": "LayoutModel",
      "state": {
       "height": "32px",
       "overflow": "visible",
       "width": "100%"
      }
     },
     "98c71f90bf10493a8a03f9b694b567de": {
      "model_module": "@jupyter-widgets/base",
      "model_module_version": "1.2.0",
      "model_name": "LayoutModel",
      "state": {
       "order": "-1",
       "overflow": "visible",
       "padding": "1px",
       "width": "0px"
      }
     },
     "98d391e6741b46f088d81dfc09859260": {
      "model_module": "@jupyter-widgets/base",
      "model_module_version": "1.2.0",
      "model_name": "LayoutModel",
      "state": {
       "order": "-1",
       "overflow": "visible",
       "padding": "1px",
       "width": "0px"
      }
     },
     "990d529502934e8ab76a8468beefb751": {
      "model_module": "@jupyter-widgets/controls",
      "model_module_version": "1.5.0",
      "model_name": "ButtonModel",
      "state": {
       "description": "EDIT",
       "layout": "IPY_MODEL_05f6a7d138bd4c898be10eef6c4a4e2c",
       "style": "IPY_MODEL_a50540fcc03041dab9c5ff0c0f7c3d6c"
      }
     },
     "99220f4554e943a6a63c780de40ea274": {
      "model_module": "@jupyter-widgets/base",
      "model_module_version": "1.2.0",
      "model_name": "LayoutModel",
      "state": {
       "display": "flex"
      }
     },
     "9927bec4a28e43979da6c06434fd833f": {
      "model_module": "@jupyter-widgets/base",
      "model_module_version": "1.2.0",
      "model_name": "LayoutModel",
      "state": {
       "height": "32px",
       "order": "-2",
       "width": "32px"
      }
     },
     "9931212f40a047cb92de8988fab9a457": {
      "model_module": "@jupyter-widgets/base",
      "model_module_version": "1.2.0",
      "model_name": "LayoutModel",
      "state": {
       "order": "-1",
       "overflow": "visible",
       "padding": "1px",
       "width": "0px"
      }
     },
     "994b792dd9944f9ba9ddc49bd2b7bc66": {
      "model_module": "@jupyter-widgets/controls",
      "model_module_version": "1.5.0",
      "model_name": "IntProgressModel",
      "state": {
       "layout": "IPY_MODEL_acb16ab617fa40a0a990e1ff3f42a028",
       "max": 1,
       "style": "IPY_MODEL_8a8b5a59fafa49adb6ad03635bedb01f"
      }
     },
     "9997407ab9304463a1795c2ad17503cc": {
      "model_module": "@jupyter-widgets/controls",
      "model_module_version": "1.5.0",
      "model_name": "DescriptionStyleModel",
      "state": {
       "description_width": ""
      }
     },
     "99eb4f5ab5464bd99fa7a39016e579b5": {
      "model_module": "@jupyter-widgets/controls",
      "model_module_version": "1.5.0",
      "model_name": "HBoxModel",
      "state": {
       "children": [
        "IPY_MODEL_61084cde24694b1485265e18252b95a2",
        "IPY_MODEL_e1f492a514934303afd11aa155c5bdb8",
        "IPY_MODEL_7483098c909a446a9593f75689cde11a",
        "IPY_MODEL_84f3348853584100bb06d1aaa0102ab1"
       ],
       "layout": "IPY_MODEL_7ae0e5e0efc349dbb1a40a8338e0452e"
      }
     },
     "9a22658fa62c4d82a06bda06fd074fee": {
      "model_module": "@jupyter-widgets/base",
      "model_module_version": "1.2.0",
      "model_name": "LayoutModel",
      "state": {
       "display": "none",
       "width": "60px"
      }
     },
     "9a38119d40c54a66942bd7c5d2c1a5fc": {
      "model_module": "@jupyter-widgets/controls",
      "model_module_version": "1.5.0",
      "model_name": "HTMLModel",
      "state": {
       "layout": "IPY_MODEL_77cdb44660cf4bd38a65241007b89357",
       "style": "IPY_MODEL_144a7c46bc7f4863894120e01e0dc21c",
       "value": "<b>Class Options</b>"
      }
     },
     "9a45c2410d77412f8fbd7bc064c49f77": {
      "model_module": "@jupyter-widgets/controls",
      "model_module_version": "1.5.0",
      "model_name": "IntProgressModel",
      "state": {
       "layout": "IPY_MODEL_3b509d3d33a9495e8fce505ffa41082f",
       "max": 1,
       "style": "IPY_MODEL_0a40feb22af04f91a9bf0593036ae6b1"
      }
     },
     "9a8f44875935433fac8637398db95026": {
      "model_module": "@jupyter-widgets/base",
      "model_module_version": "1.2.0",
      "model_name": "LayoutModel",
      "state": {
       "height": "32px",
       "order": "-2",
       "width": "32px"
      }
     },
     "9ab84ac95f01446bad9cbe2c16582f03": {
      "model_module": "@jupyter-widgets/controls",
      "model_module_version": "1.5.0",
      "model_name": "ProgressStyleModel",
      "state": {
       "description_width": ""
      }
     },
     "9ad38b486d84488d9db95b5b111d5835": {
      "model_module": "@jupyter-widgets/base",
      "model_module_version": "1.2.0",
      "model_name": "LayoutModel",
      "state": {
       "height": "32px",
       "order": "-2",
       "width": "32px"
      }
     },
     "9af3d19297da4e3daeebedd4cb6dd832": {
      "model_module": "@jupyter-widgets/controls",
      "model_module_version": "1.5.0",
      "model_name": "IntProgressModel",
      "state": {
       "bar_style": "success",
       "layout": "IPY_MODEL_a508f64dfd734cf2a22539a99f5eb155",
       "style": "IPY_MODEL_f078fa1f61d44ad6989acaa94ce8fa61",
       "value": 100
      }
     },
     "9af597885ecd4c68966e69a904b8713e": {
      "model_module": "@jupyter-widgets/controls",
      "model_module_version": "1.5.0",
      "model_name": "ProgressStyleModel",
      "state": {
       "description_width": ""
      }
     },
     "9b10812d7c134236ba2f134ba3324949": {
      "model_module": "@jupyter-widgets/controls",
      "model_module_version": "1.5.0",
      "model_name": "ButtonModel",
      "state": {
       "layout": "IPY_MODEL_6403e83219ff4820940b4a5da4049813",
       "style": "IPY_MODEL_640023dadb394553847a02f957d34b9d"
      }
     },
     "9b17d3aee70b4f7eb4379fd822d40e34": {
      "model_module": "@jupyter-widgets/controls",
      "model_module_version": "1.5.0",
      "model_name": "ButtonStyleModel",
      "state": {}
     },
     "9b3b17d0e2e44f35917328c1aa64045a": {
      "model_module": "@jupyter-widgets/controls",
      "model_module_version": "1.5.0",
      "model_name": "ButtonModel",
      "state": {
       "button_style": "success",
       "disabled": true,
       "layout": "IPY_MODEL_243c6cffdf6745b5861216ce29cfe7dc",
       "style": "IPY_MODEL_b3ba89aebeb0468d87fc882367ec6353"
      }
     },
     "9b56f42ea1b940209f0dec900a45f1fb": {
      "model_module": "@jupyter-widgets/base",
      "model_module_version": "1.2.0",
      "model_name": "LayoutModel",
      "state": {
       "display": "none"
      }
     },
     "9b5a8db39d63482a9e716a241defede8": {
      "model_module": "@jupyter-widgets/controls",
      "model_module_version": "1.5.0",
      "model_name": "LabelModel",
      "state": {
       "layout": "IPY_MODEL_5b1760b940e54572a63d33ce4aad49d3",
       "style": "IPY_MODEL_9effaefb2c5f43b9b56bad583ffa1297",
       "value": "Tree:"
      }
     },
     "9b61c5e1c8d74494a314c40815a3e22c": {
      "model_module": "@jupyter-widgets/controls",
      "model_module_version": "1.5.0",
      "model_name": "ButtonStyleModel",
      "state": {}
     },
     "9b6a85fb8e804a8faa5db1a25a94e8b8": {
      "model_module": "@jupyter-widgets/controls",
      "model_module_version": "1.5.0",
      "model_name": "ButtonStyleModel",
      "state": {}
     },
     "9bc176031dd0451aac94129b44b4082b": {
      "model_module": "@jupyter-widgets/controls",
      "model_module_version": "1.5.0",
      "model_name": "DescriptionStyleModel",
      "state": {
       "description_width": ""
      }
     },
     "9beb5fe7ee624c5b9bdf89ba1a2facde": {
      "model_module": "@jupyter-widgets/controls",
      "model_module_version": "1.5.0",
      "model_name": "DescriptionStyleModel",
      "state": {
       "description_width": ""
      }
     },
     "9bf3f4b0b2834ea8ac3e49d27c67706e": {
      "model_module": "@jupyter-widgets/controls",
      "model_module_version": "1.5.0",
      "model_name": "IntProgressModel",
      "state": {
       "layout": "IPY_MODEL_3bdd6b8abaa745c497a01b945d6657ed",
       "style": "IPY_MODEL_e4fb629de6234e60a17697e31a9f1f49",
       "value": 30
      }
     },
     "9c20dd0cf19f45adafd94a7d4b9cd9e6": {
      "model_module": "@jupyter-widgets/base",
      "model_module_version": "1.2.0",
      "model_name": "LayoutModel",
      "state": {
       "order": "-1",
       "overflow": "visible",
       "padding": "1px",
       "width": "0px"
      }
     },
     "9c20f5beb03c46a89ce53d982888e918": {
      "model_module": "@jupyter-widgets/controls",
      "model_module_version": "1.5.0",
      "model_name": "LabelModel",
      "state": {
       "layout": "IPY_MODEL_798cd21ffb8c43a5939f5fc84101c8bf",
       "style": "IPY_MODEL_0c548c2157a744999c7248aa3461d428",
       "value": "   objective"
      }
     },
     "9c30c3479c0d481d83479501b1fd70f0": {
      "model_module": "@jupyter-widgets/controls",
      "model_module_version": "1.5.0",
      "model_name": "ButtonStyleModel",
      "state": {}
     },
     "9c72cca51fd443418b35aea3edea85e5": {
      "model_module": "@jupyter-widgets/base",
      "model_module_version": "1.2.0",
      "model_name": "LayoutModel",
      "state": {
       "height": "32px",
       "overflow": "visible",
       "width": "100%"
      }
     },
     "9c9e3af476b24815b2bdb10a7d763832": {
      "model_module": "@jupyter-widgets/controls",
      "model_module_version": "1.5.0",
      "model_name": "HBoxModel",
      "state": {
       "children": [
        "IPY_MODEL_8e6add04f28640038f2448c6421974f4",
        "IPY_MODEL_d82b58efbcc44fbaa387bbcc98c2920c",
        "IPY_MODEL_69d98c1c25b3457f90fcd5d72701e467",
        "IPY_MODEL_17b6d0f6cdd9448e952bb6a6b53b6d22"
       ],
       "layout": "IPY_MODEL_5fefb9a7b69c407ebe1f5a9f869a289a"
      }
     },
     "9cc3a7ba798c403cb3cb4d2108fe3855": {
      "model_module": "@jupyter-widgets/controls",
      "model_module_version": "1.5.0",
      "model_name": "ButtonStyleModel",
      "state": {}
     },
     "9cdf597046d04870b5eea037f4e19df7": {
      "model_module": "@jupyter-widgets/controls",
      "model_module_version": "1.5.0",
      "model_name": "ButtonModel",
      "state": {
       "layout": "IPY_MODEL_d8ef2559a2744e1683a8cca68a7c8a36",
       "style": "IPY_MODEL_9cc3a7ba798c403cb3cb4d2108fe3855"
      }
     },
     "9cfc5dd209fa4106880f14cbfe138d7d": {
      "model_module": "@jupyter-widgets/controls",
      "model_module_version": "1.5.0",
      "model_name": "IntProgressModel",
      "state": {
       "bar_style": "success",
       "layout": "IPY_MODEL_4787cededb714850868145ec99341757",
       "max": 25,
       "style": "IPY_MODEL_60455e7b4e3f45039aba44cf0ae8a0fb",
       "value": 25
      }
     },
     "9cfc8f88278b4815af3edf205bce6fd6": {
      "model_module": "@jupyter-widgets/controls",
      "model_module_version": "1.5.0",
      "model_name": "ButtonStyleModel",
      "state": {}
     },
     "9cfd5ee5e2cf40b6971320583189319f": {
      "model_module": "@jupyter-widgets/controls",
      "model_module_version": "1.5.0",
      "model_name": "ButtonStyleModel",
      "state": {}
     },
     "9d07fba88e214d09a7f023002f15c6de": {
      "model_module": "@jupyter-widgets/base",
      "model_module_version": "1.2.0",
      "model_name": "LayoutModel",
      "state": {
       "height": "32px",
       "order": "-2",
       "width": "32px"
      }
     },
     "9d153c51f1304a65863fe36e50c8c156": {
      "model_module": "@jupyter-widgets/base",
      "model_module_version": "1.2.0",
      "model_name": "LayoutModel",
      "state": {
       "height": "32px",
       "order": "-2",
       "width": "32px"
      }
     },
     "9d321d82a23e41f9b70cb6f56a0a0ce9": {
      "model_module": "@jupyter-widgets/controls",
      "model_module_version": "1.5.0",
      "model_name": "ProgressStyleModel",
      "state": {
       "description_width": ""
      }
     },
     "9e3f9256e85d48ed8fc3558b67e6d699": {
      "model_module": "@jupyter-widgets/controls",
      "model_module_version": "1.5.0",
      "model_name": "HBoxModel",
      "state": {
       "children": [
        "IPY_MODEL_6a35a989283a4da6808a1b38f3f3aba7",
        "IPY_MODEL_677103451bda45829dce7b8eba10f7e3",
        "IPY_MODEL_3de77fc2a695466e871b5a63d11c3f5e",
        "IPY_MODEL_4ec2f18504804fd48e752bded9f7bbfc"
       ],
       "layout": "IPY_MODEL_d8f11f83eae34066ae99a7665afc4962"
      }
     },
     "9e4304dc2b934e88a7ee6bb6bf7a2a3f": {
      "model_module": "@jupyter-widgets/base",
      "model_module_version": "1.2.0",
      "model_name": "LayoutModel",
      "state": {
       "display": "none",
       "width": "60px"
      }
     },
     "9e567915c4c04451a7336bf1ed497119": {
      "model_module": "@jupyter-widgets/controls",
      "model_module_version": "1.5.0",
      "model_name": "IntProgressModel",
      "state": {
       "bar_style": "success",
       "layout": "IPY_MODEL_08dbf3fe5618401cbe0e5c1b70f4fafd",
       "style": "IPY_MODEL_2f09dc82f7d543a094b5dab68278d6ee",
       "value": 100
      }
     },
     "9e8b24e8d5024c1cbe9acdb338b6799e": {
      "model_module": "@jupyter-widgets/controls",
      "model_module_version": "1.5.0",
      "model_name": "ButtonModel",
      "state": {
       "description": "EDIT",
       "layout": "IPY_MODEL_66fa9eb13d7940d19a64ca1a8b415f56",
       "style": "IPY_MODEL_b4025482911f482ea02f1508499f664b"
      }
     },
     "9eca27a75c444ea3975127f4db063708": {
      "model_module": "@jupyter-widgets/base",
      "model_module_version": "1.2.0",
      "model_name": "LayoutModel",
      "state": {
       "height": "32px",
       "overflow": "visible",
       "width": "100%"
      }
     },
     "9edf1782cce349b78c02a3efb3a526ab": {
      "model_module": "@jupyter-widgets/base",
      "model_module_version": "1.2.0",
      "model_name": "LayoutModel",
      "state": {
       "order": "-1",
       "overflow": "visible",
       "padding": "1px",
       "width": "0px"
      }
     },
     "9ef14703f38d4d63acbbf6f463e20616": {
      "model_module": "@jupyter-widgets/controls",
      "model_module_version": "1.5.0",
      "model_name": "LabelModel",
      "state": {
       "layout": "IPY_MODEL_e75c914330c74ec5b92ea0f640926fb5",
       "style": "IPY_MODEL_a09f6ba7aaf640b29133c4896764c7ac",
       "value": "    Hunters defeated (521/100)"
      }
     },
     "9efea268b61c41ac83c7332f41e5d5b5": {
      "model_module": "@jupyter-widgets/controls",
      "model_module_version": "1.5.0",
      "model_name": "VBoxModel",
      "state": {
       "children": [
        "IPY_MODEL_3c8ad1211a1b4941b34e4615fe995dab",
        "IPY_MODEL_6134b567091a4531baf381c24334c547",
        "IPY_MODEL_be49cef9dad74031a5b50d456ba7f11e",
        "IPY_MODEL_67ffd00253dc47af8c5a7fed04facf77",
        "IPY_MODEL_513a8d9391a147bcb9c0b06b043617fe",
        "IPY_MODEL_2454d770da4c414593afac4c2878b916"
       ],
       "layout": "IPY_MODEL_85a7fce8b9034cf99a387a9bb7aa785a"
      }
     },
     "9effaefb2c5f43b9b56bad583ffa1297": {
      "model_module": "@jupyter-widgets/controls",
      "model_module_version": "1.5.0",
      "model_name": "DescriptionStyleModel",
      "state": {
       "description_width": ""
      }
     },
     "9f5cb2dcf10c4dda8050471aa996365f": {
      "model_module": "@jupyter-widgets/controls",
      "model_module_version": "1.5.0",
      "model_name": "DescriptionStyleModel",
      "state": {
       "description_width": ""
      }
     },
     "9f8d2f486ea541279e9e6290192ecbce": {
      "model_module": "@jupyter-widgets/controls",
      "model_module_version": "1.5.0",
      "model_name": "LabelModel",
      "state": {
       "layout": "IPY_MODEL_de1640cdf7b44d56af08f22975afae17",
       "style": "IPY_MODEL_7a260b6aa34f4278a3a6353c55b25778",
       "value": "   objective"
      }
     },
     "9f9dfd6f9ee14d63ad528e2677730a0b": {
      "model_module": "@jupyter-widgets/base",
      "model_module_version": "1.2.0",
      "model_name": "LayoutModel",
      "state": {
       "display": "none"
      }
     },
     "9fef71007c264591877006c920ecd761": {
      "model_module": "@jupyter-widgets/controls",
      "model_module_version": "1.5.0",
      "model_name": "HTMLModel",
      "state": {
       "layout": "IPY_MODEL_820373b1ecc040b2a42ce6a511c27afb",
       "style": "IPY_MODEL_6ff33f2a8c784cfcacf69de01c1a4fdb",
       "value": "<font size=\"5\"><b>By Our Powers Combined…</b></font size=>"
      }
     },
     "a006970f1913434da6e68ff3e2f6eba3": {
      "model_module": "@jupyter-widgets/base",
      "model_module_version": "1.2.0",
      "model_name": "LayoutModel",
      "state": {
       "order": "-1",
       "overflow": "visible",
       "padding": "1px",
       "width": "0px"
      }
     },
     "a00d1dfea1a84f62bb1f75e3181321c9": {
      "model_module": "@jupyter-widgets/controls",
      "model_module_version": "1.5.0",
      "model_name": "ButtonStyleModel",
      "state": {}
     },
     "a08a975e62f1411297da3e2bf81a6417": {
      "model_module": "@jupyter-widgets/base",
      "model_module_version": "1.2.0",
      "model_name": "LayoutModel",
      "state": {
       "height": "32px",
       "order": "-2",
       "width": "32px"
      }
     },
     "a0995bab72e2478cab6d5ac042088ede": {
      "model_module": "@jupyter-widgets/controls",
      "model_module_version": "1.5.0",
      "model_name": "ButtonModel",
      "state": {
       "layout": "IPY_MODEL_ece3b9a82a0f4a69a62cb305c0c030a2",
       "style": "IPY_MODEL_434a71e3680d4871a8b3088d446fdbbe"
      }
     },
     "a09f6ba7aaf640b29133c4896764c7ac": {
      "model_module": "@jupyter-widgets/controls",
      "model_module_version": "1.5.0",
      "model_name": "DescriptionStyleModel",
      "state": {
       "description_width": ""
      }
     },
     "a0c46e0fe256453baef8b39477877b84": {
      "model_module": "@jupyter-widgets/base",
      "model_module_version": "1.2.0",
      "model_name": "LayoutModel",
      "state": {
       "display": "flex"
      }
     },
     "a127e8128ae742e5ad1a292c5be427e6": {
      "model_module": "@jupyter-widgets/base",
      "model_module_version": "1.2.0",
      "model_name": "LayoutModel",
      "state": {
       "display": "none",
       "width": "60px"
      }
     },
     "a12a84e91775435bbc717ddc5f136ea1": {
      "model_module": "@jupyter-widgets/controls",
      "model_module_version": "1.5.0",
      "model_name": "ButtonStyleModel",
      "state": {}
     },
     "a1e037500dbb4400bf2de76b65b13f2b": {
      "model_module": "@jupyter-widgets/controls",
      "model_module_version": "1.5.0",
      "model_name": "LabelModel",
      "state": {
       "layout": "IPY_MODEL_8d5af30bdbbf402a9da7d92617d8d7cc",
       "style": "IPY_MODEL_06eab514944a478e805931d9e91e21d1",
       "value": "   objective"
      }
     },
     "a21638cc954d451984fb4afadfb92d1f": {
      "model_module": "@jupyter-widgets/controls",
      "model_module_version": "1.5.0",
      "model_name": "DescriptionStyleModel",
      "state": {
       "description_width": ""
      }
     },
     "a24010fdf54e4c068b9b6264b7020262": {
      "model_module": "@jupyter-widgets/controls",
      "model_module_version": "1.5.0",
      "model_name": "LabelModel",
      "state": {
       "layout": "IPY_MODEL_448e01eb5c59433f98406b056f112f7d",
       "style": "IPY_MODEL_485cac419e5345289cc613f0e451818d",
       "value": "    Breakers deployed (19/25)"
      }
     },
     "a24b44cf4eea45b29fb273f28643134f": {
      "model_module": "@jupyter-widgets/controls",
      "model_module_version": "1.5.0",
      "model_name": "ProgressStyleModel",
      "state": {
       "description_width": ""
      }
     },
     "a2625197e321456aa7b815f183fcc810": {
      "model_module": "@jupyter-widgets/controls",
      "model_module_version": "1.5.0",
      "model_name": "HBoxModel",
      "state": {
       "children": [
        "IPY_MODEL_7ff07c04482a4306a3d318c0d34641cf",
        "IPY_MODEL_4b750d01e442499e9d859a85bdfcd9d2",
        "IPY_MODEL_f9be573cbde944748518b1b6be2b198c",
        "IPY_MODEL_e374d62b79874f719221f2926ea153ed"
       ],
       "layout": "IPY_MODEL_33d0cf28bcc34d89a39b1b1c37bb8d05"
      }
     },
     "a265e6ab45e64a56a1ac1798e4adc651": {
      "model_module": "@jupyter-widgets/controls",
      "model_module_version": "1.5.0",
      "model_name": "ButtonModel",
      "state": {
       "description": "EDIT",
       "layout": "IPY_MODEL_a127e8128ae742e5ad1a292c5be427e6",
       "style": "IPY_MODEL_b3b12d07eccf4cbe8a0a4dea5248cf7f"
      }
     },
     "a299c44a3f7341988bc4ea2196a9db95": {
      "model_module": "@jupyter-widgets/base",
      "model_module_version": "1.2.0",
      "model_name": "LayoutModel",
      "state": {
       "display": "none",
       "width": "60px"
      }
     },
     "a2f2ba64bd0343a2afde2b612609ef40": {
      "model_module": "@jupyter-widgets/controls",
      "model_module_version": "1.5.0",
      "model_name": "DropdownModel",
      "state": {
       "_options_labels": [
        "All",
        "Triumphs"
       ],
       "index": 1,
       "layout": "IPY_MODEL_c7fabc1e0c7040c3ba5588ee1d851e1e",
       "style": "IPY_MODEL_62be6dfd060c49c8a1ba20fe6da4b8ff"
      }
     },
     "a30a8b8e7ed049eca80893d4465772a9": {
      "model_module": "@jupyter-widgets/controls",
      "model_module_version": "1.5.0",
      "model_name": "DescriptionStyleModel",
      "state": {
       "description_width": ""
      }
     },
     "a31f3566f13e4527a4df2c9d889111b2": {
      "model_module": "@jupyter-widgets/base",
      "model_module_version": "1.2.0",
      "model_name": "LayoutModel",
      "state": {
       "height": "32px",
       "order": "-2",
       "width": "32px"
      }
     },
     "a321253824c54f468088eae2cae9e7cf": {
      "model_module": "@jupyter-widgets/base",
      "model_module_version": "1.2.0",
      "model_name": "LayoutModel",
      "state": {
       "height": "32px",
       "overflow": "visible",
       "width": "100%"
      }
     },
     "a33600c2c0d641b7af1a67956e389c4e": {
      "model_module": "@jupyter-widgets/controls",
      "model_module_version": "1.5.0",
      "model_name": "ButtonStyleModel",
      "state": {}
     },
     "a342a78e6c464c9895a1964937ece5a6": {
      "model_module": "@jupyter-widgets/controls",
      "model_module_version": "1.5.0",
      "model_name": "HTMLModel",
      "state": {
       "layout": "IPY_MODEL_ea4b211120794afc9aae17f1d3b2478c",
       "style": "IPY_MODEL_83b0d83c2c1d44329a62862496a2cf69",
       "value": "<font size=\"1\">Triumphs/Crucible/Medals/Gametypes/Superstar</font size=>"
      }
     },
     "a38805e93960482a8adbcd2a9ff35e57": {
      "model_module": "@jupyter-widgets/controls",
      "model_module_version": "1.5.0",
      "model_name": "ButtonModel",
      "state": {
       "layout": "IPY_MODEL_944b2d3161734e99b0be6ed51ce728a0",
       "style": "IPY_MODEL_a7dc8967984f4036925dc27534433dc2"
      }
     },
     "a39601ed667f4482a154d867435ec6ca": {
      "model_module": "@jupyter-widgets/base",
      "model_module_version": "1.2.0",
      "model_name": "LayoutModel",
      "state": {
       "display": "none",
       "width": "60px"
      }
     },
     "a3bdc64055d74cc78dd96a37638eba8f": {
      "model_module": "@jupyter-widgets/base",
      "model_module_version": "1.2.0",
      "model_name": "LayoutModel",
      "state": {
       "height": "32px",
       "overflow": "visible",
       "width": "100%"
      }
     },
     "a3f6060aea6f4021a898217d39d207c5": {
      "model_module": "@jupyter-widgets/base",
      "model_module_version": "1.2.0",
      "model_name": "LayoutModel",
      "state": {
       "display": "none",
       "width": "95%"
      }
     },
     "a450632458ab4b5c97909b5e55b9a71b": {
      "model_module": "@jupyter-widgets/controls",
      "model_module_version": "1.5.0",
      "model_name": "ButtonModel",
      "state": {
       "description": "EDIT",
       "layout": "IPY_MODEL_0b9564c8eb2c4766aee08ec2af2e703c",
       "style": "IPY_MODEL_da8e0c638b1947258da0f12187727b40"
      }
     },
     "a4728f24106346698d2bc12010c1a775": {
      "model_module": "@jupyter-widgets/base",
      "model_module_version": "1.2.0",
      "model_name": "LayoutModel",
      "state": {}
     },
     "a47344a2788749b2b032e19c40c9b3f2": {
      "model_module": "@jupyter-widgets/controls",
      "model_module_version": "1.5.0",
      "model_name": "ButtonModel",
      "state": {
       "description": "EDIT",
       "layout": "IPY_MODEL_9a22658fa62c4d82a06bda06fd074fee",
       "style": "IPY_MODEL_22320cae9e6e4f21b22ef314b632f8b3"
      }
     },
     "a4c160009af74c94a65d27191fddbf3c": {
      "model_module": "@jupyter-widgets/output",
      "model_module_version": "1.0.0",
      "model_name": "OutputModel",
      "state": {
       "layout": "IPY_MODEL_c094fb81bb9e4439848ecc00720ec09b"
      }
     },
     "a4c6b990f0d241b3ad7b11bb8b1f89df": {
      "model_module": "@jupyter-widgets/controls",
      "model_module_version": "1.5.0",
      "model_name": "IntProgressModel",
      "state": {
       "layout": "IPY_MODEL_989bf764d523469c99f857b6bb8924de",
       "style": "IPY_MODEL_6e2ffbeac3f14aa78f7c4718056d4274",
       "value": 30
      }
     },
     "a50540fcc03041dab9c5ff0c0f7c3d6c": {
      "model_module": "@jupyter-widgets/controls",
      "model_module_version": "1.5.0",
      "model_name": "ButtonStyleModel",
      "state": {}
     },
     "a508495e8e504e49aabc8183ecc3380c": {
      "model_module": "@jupyter-widgets/base",
      "model_module_version": "1.2.0",
      "model_name": "LayoutModel",
      "state": {
       "display": "none",
       "width": "60px"
      }
     },
     "a508f64dfd734cf2a22539a99f5eb155": {
      "model_module": "@jupyter-widgets/base",
      "model_module_version": "1.2.0",
      "model_name": "LayoutModel",
      "state": {
       "height": "32px",
       "overflow": "visible",
       "width": "100%"
      }
     },
     "a56f431317804807bf0604bd94d3b66f": {
      "model_module": "@jupyter-widgets/controls",
      "model_module_version": "1.5.0",
      "model_name": "ButtonStyleModel",
      "state": {}
     },
     "a595ced9e0474dc2811e3b3133c4ddf9": {
      "model_module": "@jupyter-widgets/controls",
      "model_module_version": "1.5.0",
      "model_name": "HTMLModel",
      "state": {
       "layout": "IPY_MODEL_6d59aa26742e47fb8af7906922c7954a",
       "style": "IPY_MODEL_10f869cb239844d0bb415a1b662e1ef4",
       "value": "<font size=\"5\"><b>Season 4: Iron Remembrance</b></font size=>"
      }
     },
     "a5b38c42e0a04268a52a3369de40cb3b": {
      "model_module": "@jupyter-widgets/controls",
      "model_module_version": "1.5.0",
      "model_name": "DescriptionStyleModel",
      "state": {
       "description_width": ""
      }
     },
     "a5b656d39df34ddea87de7e383981717": {
      "model_module": "@jupyter-widgets/base",
      "model_module_version": "1.2.0",
      "model_name": "LayoutModel",
      "state": {
       "display": "none",
       "width": "60px"
      }
     },
     "a60cec164fa646e09dffe4a7494778d9": {
      "model_module": "@jupyter-widgets/base",
      "model_module_version": "1.2.0",
      "model_name": "LayoutModel",
      "state": {
       "display": "flex"
      }
     },
     "a62ef4151cc545f1a57092f2b21e6e3e": {
      "model_module": "@jupyter-widgets/base",
      "model_module_version": "1.2.0",
      "model_name": "LayoutModel",
      "state": {
       "order": "-1",
       "overflow": "visible",
       "padding": "1px",
       "width": "0px"
      }
     },
     "a630995efe33411f902d5184874ac2a4": {
      "model_module": "@jupyter-widgets/controls",
      "model_module_version": "1.5.0",
      "model_name": "DescriptionStyleModel",
      "state": {
       "description_width": ""
      }
     },
     "a649c73439024b8ca23588c1cb648ede": {
      "model_module": "@jupyter-widgets/controls",
      "model_module_version": "1.5.0",
      "model_name": "LabelModel",
      "state": {
       "layout": "IPY_MODEL_c88e9d7ef3744542b396a0118ef9afcc",
       "style": "IPY_MODEL_4c7a00b61d88445f9747496456558a88",
       "value": "    Sub Machinist (12/1)"
      }
     },
     "a66c89a5087640289c0ea2db25631190": {
      "model_module": "@jupyter-widgets/base",
      "model_module_version": "1.2.0",
      "model_name": "LayoutModel",
      "state": {
       "display": "flex"
      }
     },
     "a6a854f173954b07aa30846255ddd886": {
      "model_module": "@jupyter-widgets/base",
      "model_module_version": "1.2.0",
      "model_name": "LayoutModel",
      "state": {
       "display": "none",
       "width": "60px"
      }
     },
     "a6f7f32947d84c9799105c64dfac7434": {
      "model_module": "@jupyter-widgets/controls",
      "model_module_version": "1.5.0",
      "model_name": "DescriptionStyleModel",
      "state": {
       "description_width": ""
      }
     },
     "a784dcac65a54296b6da24c42f2c086f": {
      "model_module": "@jupyter-widgets/controls",
      "model_module_version": "1.5.0",
      "model_name": "HBoxModel",
      "state": {
       "children": [
        "IPY_MODEL_781eeb35e4c440c3acc85ae19eba1fa2",
        "IPY_MODEL_b115d67d8d7d4bb8b7fc6f67d6dee23f",
        "IPY_MODEL_79d3ed2bb03b4090b408a2da95d11d1e",
        "IPY_MODEL_a450632458ab4b5c97909b5e55b9a71b"
       ],
       "layout": "IPY_MODEL_bb005adaa70b4f3699efc9c9bd35938d"
      }
     },
     "a7dc8967984f4036925dc27534433dc2": {
      "model_module": "@jupyter-widgets/controls",
      "model_module_version": "1.5.0",
      "model_name": "ButtonStyleModel",
      "state": {}
     },
     "a85c125282be422aa2e10ec729fa0ae5": {
      "model_module": "@jupyter-widgets/base",
      "model_module_version": "1.2.0",
      "model_name": "LayoutModel",
      "state": {
       "display": "none"
      }
     },
     "a89420b3262145abad7945e5ac21c771": {
      "model_module": "@jupyter-widgets/controls",
      "model_module_version": "1.5.0",
      "model_name": "DropdownModel",
      "state": {
       "_options_labels": [
        "All"
       ],
       "index": 0,
       "layout": "IPY_MODEL_bc154dedb33043478ac5f1405d41d4f5",
       "style": "IPY_MODEL_ed787443c587464cb206e9020b27e378"
      }
     },
     "a8c815706b404b7fb6dc046ff01864c0": {
      "model_module": "@jupyter-widgets/base",
      "model_module_version": "1.2.0",
      "model_name": "LayoutModel",
      "state": {
       "height": "32px",
       "order": "-2",
       "width": "32px"
      }
     },
     "a9303ebd784d4088b21791757e6c505a": {
      "model_module": "@jupyter-widgets/base",
      "model_module_version": "1.2.0",
      "model_name": "LayoutModel",
      "state": {
       "height": "32px",
       "overflow": "visible",
       "width": "100%"
      }
     },
     "a9b02fd88b994a8a91545c3e9def2a30": {
      "model_module": "@jupyter-widgets/controls",
      "model_module_version": "1.5.0",
      "model_name": "DescriptionStyleModel",
      "state": {
       "description_width": ""
      }
     },
     "aa0089ef07cc459b9ab758720e7abba2": {
      "model_module": "@jupyter-widgets/controls",
      "model_module_version": "1.5.0",
      "model_name": "HBoxModel",
      "state": {
       "children": [
        "IPY_MODEL_35c77e7280cc4716997e02abc4440874",
        "IPY_MODEL_49a29084b3c24797a05ecea3e8e1712b",
        "IPY_MODEL_01711310b8b44f229ca243d6f7563d6b",
        "IPY_MODEL_4bfa0074ed97457b86388ed960f0f204"
       ],
       "layout": "IPY_MODEL_2b4c2c49a9074893a353767b15247064"
      }
     },
     "aa101b21eedc437b9763ae2ea5634d05": {
      "model_module": "@jupyter-widgets/controls",
      "model_module_version": "1.5.0",
      "model_name": "DescriptionStyleModel",
      "state": {
       "description_width": ""
      }
     },
     "aa41ba7de46d471399dafc13160395f9": {
      "model_module": "@jupyter-widgets/controls",
      "model_module_version": "1.5.0",
      "model_name": "VBoxModel",
      "state": {
       "children": [
        "IPY_MODEL_f1a6e34bcccd43ebac7cdb112a133439",
        "IPY_MODEL_649114e78f71407a962573e46cf8422c",
        "IPY_MODEL_de65e91b2ed940de813e96e563a1e5c7",
        "IPY_MODEL_6740983cf6034f5684d6c4e0b498133c",
        "IPY_MODEL_3cfcb30a71a443bd8a038d05830d17ec",
        "IPY_MODEL_4ab8d68748f34ea3a0bae5e9a3f08c62",
        "IPY_MODEL_05fd16833c174abd80f4c5113c957147",
        "IPY_MODEL_4971d28f5db54bfbbcdb28926fa0d990",
        "IPY_MODEL_642b8a56d4e649d68500721d6860f843",
        "IPY_MODEL_3a15ebbb0ebd4a83958b188207a18ef1",
        "IPY_MODEL_bf4c615639d3483289e85d9bca36afce"
       ],
       "layout": "IPY_MODEL_ccffcb0af0f74e66adab00808c0d001a"
      }
     },
     "aa8ab2d15a5f4475b7c1723169f72555": {
      "model_module": "@jupyter-widgets/base",
      "model_module_version": "1.2.0",
      "model_name": "LayoutModel",
      "state": {}
     },
     "aae89f97ed304e52b94d735078c51c54": {
      "model_module": "@jupyter-widgets/base",
      "model_module_version": "1.2.0",
      "model_name": "LayoutModel",
      "state": {
       "height": "32px",
       "order": "-2",
       "width": "32px"
      }
     },
     "ab19897d0de94eb4be41a54ef5d1c435": {
      "model_module": "@jupyter-widgets/controls",
      "model_module_version": "1.5.0",
      "model_name": "ButtonStyleModel",
      "state": {}
     },
     "ab5d46bcc7a049fbaf9f541feb787d5b": {
      "model_module": "@jupyter-widgets/base",
      "model_module_version": "1.2.0",
      "model_name": "LayoutModel",
      "state": {
       "height": "32px",
       "order": "-2",
       "width": "32px"
      }
     },
     "ab641fe24a1b497c90c47ba2cd5c9955": {
      "model_module": "@jupyter-widgets/base",
      "model_module_version": "1.2.0",
      "model_name": "LayoutModel",
      "state": {
       "order": "-1",
       "overflow": "visible",
       "padding": "1px",
       "width": "0px"
      }
     },
     "ab7e958d9796432d82b0453fc225bd67": {
      "model_module": "@jupyter-widgets/controls",
      "model_module_version": "1.5.0",
      "model_name": "ProgressStyleModel",
      "state": {
       "description_width": ""
      }
     },
     "abbf6d9dda0542f7957932e27b2ded70": {
      "model_module": "@jupyter-widgets/base",
      "model_module_version": "1.2.0",
      "model_name": "LayoutModel",
      "state": {
       "height": "32px",
       "order": "-2",
       "width": "32px"
      }
     },
     "ac1e02f0d4ea41cf9bfde9a95601077b": {
      "model_module": "@jupyter-widgets/base",
      "model_module_version": "1.2.0",
      "model_name": "LayoutModel",
      "state": {}
     },
     "ac2ab9a47a33495ea2ee1f3a7fc0e6c3": {
      "model_module": "@jupyter-widgets/controls",
      "model_module_version": "1.5.0",
      "model_name": "ButtonModel",
      "state": {
       "description": "EDIT",
       "layout": "IPY_MODEL_33415dd672df49bf95d0815807d524b3",
       "style": "IPY_MODEL_58856ec0fae1423bbb0fd5d39f79875c"
      }
     },
     "aca62af14ccd466cb31e0398559b9cf0": {
      "model_module": "@jupyter-widgets/controls",
      "model_module_version": "1.5.0",
      "model_name": "DescriptionStyleModel",
      "state": {
       "description_width": ""
      }
     },
     "acac7d3205ab46cc898063c49cc3ec1a": {
      "model_module": "@jupyter-widgets/base",
      "model_module_version": "1.2.0",
      "model_name": "LayoutModel",
      "state": {}
     },
     "acb16ab617fa40a0a990e1ff3f42a028": {
      "model_module": "@jupyter-widgets/base",
      "model_module_version": "1.2.0",
      "model_name": "LayoutModel",
      "state": {
       "height": "32px",
       "overflow": "visible",
       "width": "100%"
      }
     },
     "ace53c8ee6e241309c8da9fa2362f37a": {
      "model_module": "@jupyter-widgets/controls",
      "model_module_version": "1.5.0",
      "model_name": "IntProgressModel",
      "state": {
       "layout": "IPY_MODEL_47fbcac9defc42cd9ad03eefea93408c",
       "style": "IPY_MODEL_3d8304f905a241e3bac2ae5729f3abdc",
       "value": 30
      }
     },
     "ad0fef6deafc4848998d18cd6512d728": {
      "model_module": "@jupyter-widgets/controls",
      "model_module_version": "1.5.0",
      "model_name": "DescriptionStyleModel",
      "state": {
       "description_width": ""
      }
     },
     "ada2512a8d8644cebbaac0ec8c31ee45": {
      "model_module": "@jupyter-widgets/base",
      "model_module_version": "1.2.0",
      "model_name": "LayoutModel",
      "state": {
       "height": "32px",
       "order": "-2",
       "width": "32px"
      }
     },
     "adaf37f6cba14129b6b849fc70bd06b3": {
      "model_module": "@jupyter-widgets/controls",
      "model_module_version": "1.5.0",
      "model_name": "ButtonStyleModel",
      "state": {}
     },
     "adb684cc11fe4c7ab8eb6d27aae30843": {
      "model_module": "@jupyter-widgets/controls",
      "model_module_version": "1.5.0",
      "model_name": "ButtonModel",
      "state": {
       "description": "EDIT",
       "layout": "IPY_MODEL_816de76e12fd486c982245fff30b467c",
       "style": "IPY_MODEL_81ce3864b0154d168617fd50b5a16501"
      }
     },
     "ae4adeebd65e4920961edf8e0e404f37": {
      "model_module": "@jupyter-widgets/controls",
      "model_module_version": "1.5.0",
      "model_name": "ButtonModel",
      "state": {
       "description": "EDIT",
       "layout": "IPY_MODEL_15c439744faf49ec9c2e794871ee3574",
       "style": "IPY_MODEL_8dbc62c46cee4a1b982033717ba797e4"
      }
     },
     "ae69f8ed99c24d44a79de572d775220e": {
      "model_module": "@jupyter-widgets/base",
      "model_module_version": "1.2.0",
      "model_name": "LayoutModel",
      "state": {
       "display": "none",
       "width": "60px"
      }
     },
     "ae8ce55452184eca829305593e8f3a3b": {
      "model_module": "@jupyter-widgets/controls",
      "model_module_version": "1.5.0",
      "model_name": "DescriptionStyleModel",
      "state": {
       "description_width": ""
      }
     },
     "af2e96ba2eba4ccca27f11e0568908b6": {
      "model_module": "@jupyter-widgets/controls",
      "model_module_version": "1.5.0",
      "model_name": "ButtonModel",
      "state": {
       "layout": "IPY_MODEL_bbae14ad8ecc4f38a3b3312403114fc2",
       "style": "IPY_MODEL_2ff85572913f409bab07c02d7badc2c2"
      }
     },
     "af34666ddfeb48828b336125ee1fbb60": {
      "model_module": "@jupyter-widgets/controls",
      "model_module_version": "1.5.0",
      "model_name": "ProgressStyleModel",
      "state": {
       "description_width": ""
      }
     },
     "af6ad19181c140dcad36a2b51034853f": {
      "model_module": "@jupyter-widgets/controls",
      "model_module_version": "1.5.0",
      "model_name": "DescriptionStyleModel",
      "state": {
       "description_width": ""
      }
     },
     "af873c43d2e84b7a9c65a00d7f6d7643": {
      "model_module": "@jupyter-widgets/base",
      "model_module_version": "1.2.0",
      "model_name": "LayoutModel",
      "state": {
       "display": "none"
      }
     },
     "afa84b8309e0406081857724808bc265": {
      "model_module": "@jupyter-widgets/controls",
      "model_module_version": "1.5.0",
      "model_name": "ProgressStyleModel",
      "state": {
       "description_width": ""
      }
     },
     "afe325a78be74502bbe439aa7860e4c6": {
      "model_module": "@jupyter-widgets/base",
      "model_module_version": "1.2.0",
      "model_name": "LayoutModel",
      "state": {}
     },
     "b00b7872158b48e18fb11825c44c13be": {
      "model_module": "@jupyter-widgets/controls",
      "model_module_version": "1.5.0",
      "model_name": "ButtonStyleModel",
      "state": {}
     },
     "b00fbd2e581f4f428c7212929df00129": {
      "model_module": "@jupyter-widgets/base",
      "model_module_version": "1.2.0",
      "model_name": "LayoutModel",
      "state": {
       "display": "none",
       "width": "60px"
      }
     },
     "b0180993d6964ff8a21bbd6dee2c6be0": {
      "model_module": "@jupyter-widgets/controls",
      "model_module_version": "1.5.0",
      "model_name": "DescriptionStyleModel",
      "state": {
       "description_width": ""
      }
     },
     "b01d9f4813b94244b35379f9299c9f55": {
      "model_module": "@jupyter-widgets/controls",
      "model_module_version": "1.5.0",
      "model_name": "ButtonStyleModel",
      "state": {}
     },
     "b06fee8e999243e9b1a6ef12504e48d8": {
      "model_module": "@jupyter-widgets/base",
      "model_module_version": "1.2.0",
      "model_name": "LayoutModel",
      "state": {
       "display": "flex",
       "flex_flow": "row wrap"
      }
     },
     "b09312ed125b4d2daeec76e5beeb3971": {
      "model_module": "@jupyter-widgets/base",
      "model_module_version": "1.2.0",
      "model_name": "LayoutModel",
      "state": {
       "display": "none",
       "width": "60px"
      }
     },
     "b0abd12dfee3454caccf3af5409911e1": {
      "model_module": "@jupyter-widgets/controls",
      "model_module_version": "1.5.0",
      "model_name": "IntProgressModel",
      "state": {
       "bar_style": "success",
       "layout": "IPY_MODEL_0e7d9a74a90b447bb995a7a10fc31083",
       "style": "IPY_MODEL_20914e65d9594d4591efdd36aaded898",
       "value": 100
      }
     },
     "b0d0114f501443fbb9a209c65f81b7e3": {
      "model_module": "@jupyter-widgets/controls",
      "model_module_version": "1.5.0",
      "model_name": "ProgressStyleModel",
      "state": {
       "description_width": ""
      }
     },
     "b0df633315d241bb805bf3d882bde540": {
      "model_module": "@jupyter-widgets/base",
      "model_module_version": "1.2.0",
      "model_name": "LayoutModel",
      "state": {
       "display": "flex"
      }
     },
     "b0ff9b9d6ca642ee838430173cad946c": {
      "model_module": "@jupyter-widgets/base",
      "model_module_version": "1.2.0",
      "model_name": "LayoutModel",
      "state": {}
     },
     "b105951c7b0a41f9a6be40916663411c": {
      "model_module": "@jupyter-widgets/controls",
      "model_module_version": "1.5.0",
      "model_name": "IntProgressModel",
      "state": {
       "layout": "IPY_MODEL_3dc5965801764eedac295d57aea172d6",
       "max": 50,
       "style": "IPY_MODEL_16ffd98dd83b4c20921fe48fbe398e1d",
       "value": 42
      }
     },
     "b1113cb75fd5448bb40dcf13b78372ed": {
      "model_module": "@jupyter-widgets/controls",
      "model_module_version": "1.5.0",
      "model_name": "LabelModel",
      "state": {
       "layout": "IPY_MODEL_8704cfe1e3f941b5a27bb6d70bc3a537",
       "style": "IPY_MODEL_506da6f12aaf4b369934bc650d87e1cc",
       "value": "   objective"
      }
     },
     "b115d67d8d7d4bb8b7fc6f67d6dee23f": {
      "model_module": "@jupyter-widgets/controls",
      "model_module_version": "1.5.0",
      "model_name": "IntProgressModel",
      "state": {
       "layout": "IPY_MODEL_64f33a7cd11948c3967f9aa00ae70f2e",
       "style": "IPY_MODEL_09d8a7332ff248058e49803c6d11635d",
       "value": 30
      }
     },
     "b1b2a45a479e45a084721ee8df0b7289": {
      "model_module": "@jupyter-widgets/base",
      "model_module_version": "1.2.0",
      "model_name": "LayoutModel",
      "state": {
       "display": "none",
       "width": "60px"
      }
     },
     "b1b353284a2b4552b6cfa6d7c2530527": {
      "model_module": "@jupyter-widgets/controls",
      "model_module_version": "1.5.0",
      "model_name": "DescriptionStyleModel",
      "state": {
       "description_width": ""
      }
     },
     "b1d33ecf15544461ab3ce9ee5520f27e": {
      "model_module": "@jupyter-widgets/controls",
      "model_module_version": "1.5.0",
      "model_name": "DescriptionStyleModel",
      "state": {
       "description_width": ""
      }
     },
     "b1fc7ce2a7954931920363adbe75045d": {
      "model_module": "@jupyter-widgets/controls",
      "model_module_version": "1.5.0",
      "model_name": "ProgressStyleModel",
      "state": {
       "description_width": ""
      }
     },
     "b2b12da7bc834985adf3c1805ee1c672": {
      "model_module": "@jupyter-widgets/base",
      "model_module_version": "1.2.0",
      "model_name": "LayoutModel",
      "state": {
       "height": "32px",
       "order": "-2",
       "width": "32px"
      }
     },
     "b3080a43e2314e1eaa5b0f5d4cb0e49b": {
      "model_module": "@jupyter-widgets/controls",
      "model_module_version": "1.5.0",
      "model_name": "HBoxModel",
      "state": {
       "children": [
        "IPY_MODEL_e338e91ef68c43da9527e2d12b6306a9",
        "IPY_MODEL_eae67a1e32a844eebc370f8c7a9f69b2",
        "IPY_MODEL_7830e0b7d8914b309dd60b99b2e446c6",
        "IPY_MODEL_20e3493f4e92457a80c3b926cc502682"
       ],
       "layout": "IPY_MODEL_4c5cad0c5fcf481c834b19b2896ac251"
      }
     },
     "b3780ec2275e4be19036e41c771851f8": {
      "model_module": "@jupyter-widgets/controls",
      "model_module_version": "1.5.0",
      "model_name": "ButtonModel",
      "state": {
       "description": "EDIT",
       "layout": "IPY_MODEL_516e83fccf6c4a09ba301fe6a4dd6750",
       "style": "IPY_MODEL_528dcc8e531e468b8f78d9441405c4f2"
      }
     },
     "b3a9a323f5f5451db2d3374f67adc762": {
      "model_module": "@jupyter-widgets/controls",
      "model_module_version": "1.5.0",
      "model_name": "ButtonStyleModel",
      "state": {}
     },
     "b3b12d07eccf4cbe8a0a4dea5248cf7f": {
      "model_module": "@jupyter-widgets/controls",
      "model_module_version": "1.5.0",
      "model_name": "ButtonStyleModel",
      "state": {}
     },
     "b3ba89aebeb0468d87fc882367ec6353": {
      "model_module": "@jupyter-widgets/controls",
      "model_module_version": "1.5.0",
      "model_name": "ButtonStyleModel",
      "state": {}
     },
     "b3eca2afa5a5453da382e35b347cc6f3": {
      "model_module": "@jupyter-widgets/controls",
      "model_module_version": "1.5.0",
      "model_name": "DescriptionStyleModel",
      "state": {
       "description_width": ""
      }
     },
     "b3ff1f86a1bb40d2a37db8975be36ee2": {
      "model_module": "@jupyter-widgets/base",
      "model_module_version": "1.2.0",
      "model_name": "LayoutModel",
      "state": {
       "display": "none"
      }
     },
     "b400339ba03043b9b6fab1c152fb44fd": {
      "model_module": "@jupyter-widgets/base",
      "model_module_version": "1.2.0",
      "model_name": "LayoutModel",
      "state": {
       "height": "32px",
       "order": "-2",
       "width": "32px"
      }
     },
     "b4025482911f482ea02f1508499f664b": {
      "model_module": "@jupyter-widgets/controls",
      "model_module_version": "1.5.0",
      "model_name": "ButtonStyleModel",
      "state": {}
     },
     "b47b012003d54223b597f060a636f261": {
      "model_module": "@jupyter-widgets/base",
      "model_module_version": "1.2.0",
      "model_name": "LayoutModel",
      "state": {
       "order": "-1",
       "overflow": "visible",
       "padding": "1px",
       "width": "0px"
      }
     },
     "b498c816ba8149e5abeca0b5cbed4148": {
      "model_module": "@jupyter-widgets/controls",
      "model_module_version": "1.5.0",
      "model_name": "ButtonStyleModel",
      "state": {}
     },
     "b4dfb3a4742a4f2895b07ea8b040f9c6": {
      "model_module": "@jupyter-widgets/controls",
      "model_module_version": "1.5.0",
      "model_name": "ButtonModel",
      "state": {
       "layout": "IPY_MODEL_9ad38b486d84488d9db95b5b111d5835",
       "style": "IPY_MODEL_085acd71dd214955ab858e3a3b3f70c7"
      }
     },
     "b53646896efc4df5a0d18e8360898bbe": {
      "model_module": "@jupyter-widgets/controls",
      "model_module_version": "1.5.0",
      "model_name": "ButtonModel",
      "state": {
       "description": "EDIT",
       "layout": "IPY_MODEL_b67c8c3c34e4422cad9f8b5dc9c3a925",
       "style": "IPY_MODEL_2e19318202d449de8e80d49b126556d4"
      }
     },
     "b5715c4da9dd4e4aad60d84edcf4e733": {
      "model_module": "@jupyter-widgets/controls",
      "model_module_version": "1.5.0",
      "model_name": "ProgressStyleModel",
      "state": {
       "description_width": ""
      }
     },
     "b598edab94264e648e3469a5a592e705": {
      "model_module": "@jupyter-widgets/base",
      "model_module_version": "1.2.0",
      "model_name": "LayoutModel",
      "state": {
       "height": "32px",
       "order": "-2",
       "width": "32px"
      }
     },
     "b5a84f21b098448c9632d5b7818cccd3": {
      "model_module": "@jupyter-widgets/controls",
      "model_module_version": "1.5.0",
      "model_name": "VBoxModel",
      "state": {
       "children": [
        "IPY_MODEL_26c74d6b12b04a6a84f8587e42accadb",
        "IPY_MODEL_fe6207fd66124865a5396e39d33b29b9",
        "IPY_MODEL_c8238fee351a4c1c9ff7f32dc2df7751",
        "IPY_MODEL_3fa4074fa9b445bdb1b0f065050dd9a0"
       ],
       "layout": "IPY_MODEL_1f81658bbabb46928bb93976e4ac5e34"
      }
     },
     "b5a8c915451f41e29ec9b8d250f716c1": {
      "model_module": "@jupyter-widgets/controls",
      "model_module_version": "1.5.0",
      "model_name": "ButtonStyleModel",
      "state": {}
     },
     "b5cc597463c34612b32d81ba2b0464d7": {
      "model_module": "@jupyter-widgets/controls",
      "model_module_version": "1.5.0",
      "model_name": "CheckboxModel",
      "state": {
       "description": "Hide Conflicting Tasks",
       "disabled": false,
       "indent": false,
       "layout": "IPY_MODEL_4c176b3e7b4b429d8248835bfcdde7f6",
       "style": "IPY_MODEL_83abdafc010c4210b4cca82b9b9bb4b1",
       "value": false
      }
     },
     "b5ed2117323b4a839ece8d06985162ee": {
      "model_module": "@jupyter-widgets/base",
      "model_module_version": "1.2.0",
      "model_name": "LayoutModel",
      "state": {
       "height": "32px",
       "order": "-2",
       "width": "32px"
      }
     },
     "b5f862b0866449a38b1523b9b9fe307c": {
      "model_module": "@jupyter-widgets/base",
      "model_module_version": "1.2.0",
      "model_name": "LayoutModel",
      "state": {
       "height": "32px",
       "overflow": "visible",
       "width": "100%"
      }
     },
     "b61906182ff541cfa7e4f4cff8d51294": {
      "model_module": "@jupyter-widgets/base",
      "model_module_version": "1.2.0",
      "model_name": "LayoutModel",
      "state": {}
     },
     "b67c8c3c34e4422cad9f8b5dc9c3a925": {
      "model_module": "@jupyter-widgets/base",
      "model_module_version": "1.2.0",
      "model_name": "LayoutModel",
      "state": {
       "display": "none",
       "width": "60px"
      }
     },
     "b68dc64b64fc46329a2fa93ef6921b24": {
      "model_module": "@jupyter-widgets/controls",
      "model_module_version": "1.5.0",
      "model_name": "ButtonModel",
      "state": {
       "button_style": "success",
       "disabled": true,
       "layout": "IPY_MODEL_54c5138de7244b929137dc33710b73c4",
       "style": "IPY_MODEL_cacad5e1c2a04bf0a1e40ceab324b299"
      }
     },
     "b6bebb4ce8c24587a66e1541a0a79b57": {
      "model_module": "@jupyter-widgets/controls",
      "model_module_version": "1.5.0",
      "model_name": "ButtonModel",
      "state": {
       "layout": "IPY_MODEL_e24e30c0650a45e7af485ffd3526ac07",
       "style": "IPY_MODEL_1c9ecd6f5d1949c2b79e6ce7a871909c"
      }
     },
     "b716d31f767d4747aa256f2fd7022529": {
      "model_module": "@jupyter-widgets/controls",
      "model_module_version": "1.5.0",
      "model_name": "ButtonModel",
      "state": {
       "description": "EDIT",
       "layout": "IPY_MODEL_1b08a8c5ec754ab28234c276996c6c3f",
       "style": "IPY_MODEL_5643b8670da64e70ab8abe9cf52b2155"
      }
     },
     "b71a2867000848f193c361e5675ca01f": {
      "model_module": "@jupyter-widgets/base",
      "model_module_version": "1.2.0",
      "model_name": "LayoutModel",
      "state": {
       "display": "flex",
       "flex_flow": "row wrap"
      }
     },
     "b72461d5fe2f432ba52798a2659a7e43": {
      "model_module": "@jupyter-widgets/base",
      "model_module_version": "1.2.0",
      "model_name": "LayoutModel",
      "state": {
       "order": "-1",
       "overflow": "visible",
       "padding": "1px",
       "width": "0px"
      }
     },
     "b73ebf4f6e014021b6fb78003868f2ff": {
      "model_module": "@jupyter-widgets/controls",
      "model_module_version": "1.5.0",
      "model_name": "DescriptionStyleModel",
      "state": {
       "description_width": ""
      }
     },
     "b740b147a9c4433b8839e7c98ee2db86": {
      "model_module": "@jupyter-widgets/controls",
      "model_module_version": "1.5.0",
      "model_name": "ButtonStyleModel",
      "state": {}
     },
     "b77e124463354fa2bb21166db7594a9d": {
      "model_module": "@jupyter-widgets/controls",
      "model_module_version": "1.5.0",
      "model_name": "ButtonStyleModel",
      "state": {}
     },
     "b7922b9546df4719b67782828d41ac1f": {
      "model_module": "@jupyter-widgets/controls",
      "model_module_version": "1.5.0",
      "model_name": "DescriptionStyleModel",
      "state": {
       "description_width": ""
      }
     },
     "b79ddfcae73040f8b1830c8fddfdc7fd": {
      "model_module": "@jupyter-widgets/controls",
      "model_module_version": "1.5.0",
      "model_name": "HBoxModel",
      "state": {
       "children": [
        "IPY_MODEL_1dfb8531de1e4e9784486a05a4e5234b",
        "IPY_MODEL_ace53c8ee6e241309c8da9fa2362f37a",
        "IPY_MODEL_a1e037500dbb4400bf2de76b65b13f2b",
        "IPY_MODEL_ac2ab9a47a33495ea2ee1f3a7fc0e6c3"
       ],
       "layout": "IPY_MODEL_e30e213db6e942b2ad393b50d3ce3012"
      }
     },
     "b828d902a9814920b8d3021b1306fb98": {
      "model_module": "@jupyter-widgets/controls",
      "model_module_version": "1.5.0",
      "model_name": "DescriptionStyleModel",
      "state": {
       "description_width": ""
      }
     },
     "b831644d3e75408c980fe743171ed536": {
      "model_module": "@jupyter-widgets/controls",
      "model_module_version": "1.5.0",
      "model_name": "ButtonStyleModel",
      "state": {}
     },
     "b86f3118c987491a936810a2efd80541": {
      "model_module": "@jupyter-widgets/controls",
      "model_module_version": "1.5.0",
      "model_name": "HTMLModel",
      "state": {
       "layout": "IPY_MODEL_84bc195322ed4ca9b9acd2ad88b421e0",
       "style": "IPY_MODEL_88987da1a5bb40d397b51aafe945844f",
       "value": "<font size=\"5\"><b>Flagbearer</b></font size=>"
      }
     },
     "b8ad62a88fd24b12b23600fac4d36d8a": {
      "model_module": "@jupyter-widgets/controls",
      "model_module_version": "1.5.0",
      "model_name": "ButtonStyleModel",
      "state": {}
     },
     "b8cbfff3a270415e87ef411595217379": {
      "model_module": "@jupyter-widgets/controls",
      "model_module_version": "1.5.0",
      "model_name": "ButtonStyleModel",
      "state": {}
     },
     "b8d5573e66794dda8f8a7a37b5e24b02": {
      "model_module": "@jupyter-widgets/controls",
      "model_module_version": "1.5.0",
      "model_name": "DescriptionStyleModel",
      "state": {
       "description_width": ""
      }
     },
     "b8ee1cc566d7434dbb32de0872d4b74a": {
      "model_module": "@jupyter-widgets/controls",
      "model_module_version": "1.5.0",
      "model_name": "ButtonModel",
      "state": {
       "layout": "IPY_MODEL_6c24362ab9f1418c992f8f386a189a8b",
       "style": "IPY_MODEL_a12a84e91775435bbc717ddc5f136ea1"
      }
     },
     "b91582f48b544634b964dac420cb89bc": {
      "model_module": "@jupyter-widgets/base",
      "model_module_version": "1.2.0",
      "model_name": "LayoutModel",
      "state": {
       "display": "none"
      }
     },
     "b92fcd2863df4652bb3d123b24ceb790": {
      "model_module": "@jupyter-widgets/controls",
      "model_module_version": "1.5.0",
      "model_name": "ProgressStyleModel",
      "state": {
       "description_width": ""
      }
     },
     "b930157739784177b55bf4c6f1196c82": {
      "model_module": "@jupyter-widgets/controls",
      "model_module_version": "1.5.0",
      "model_name": "ButtonModel",
      "state": {
       "layout": "IPY_MODEL_55ba55dac1ee469c86fce69cb7430a4e",
       "style": "IPY_MODEL_5a6efce90a844b2cbce8636149326f92"
      }
     },
     "b989c2815aee4ab9bd2cd8db944f6fd2": {
      "model_module": "@jupyter-widgets/controls",
      "model_module_version": "1.5.0",
      "model_name": "LabelModel",
      "state": {
       "layout": "IPY_MODEL_339df13a161a44e4975c3a5e93d4af52",
       "style": "IPY_MODEL_6b80294727b849aea13dbb9130630c76",
       "value": "   objective"
      }
     },
     "b9943b4514f04afb9cece2ed411e2c2e": {
      "model_module": "@jupyter-widgets/base",
      "model_module_version": "1.2.0",
      "model_name": "LayoutModel",
      "state": {
       "height": "32px",
       "overflow": "visible",
       "width": "100%"
      }
     },
     "b99f2a96874b4d979ee552bff28204af": {
      "model_module": "@jupyter-widgets/base",
      "model_module_version": "1.2.0",
      "model_name": "LayoutModel",
      "state": {
       "overflow": "visible",
       "width": "100%"
      }
     },
     "b9bf45a21e53412383382676274ca59f": {
      "model_module": "@jupyter-widgets/controls",
      "model_module_version": "1.5.0",
      "model_name": "LabelModel",
      "state": {
       "layout": "IPY_MODEL_9472ba34726047aab958422283203bd6",
       "style": "IPY_MODEL_4d41473b049f4ffb8879abb371083d60",
       "value": "   objective"
      }
     },
     "b9f1dd663b284163b0f960b6dd668a9c": {
      "model_module": "@jupyter-widgets/base",
      "model_module_version": "1.2.0",
      "model_name": "LayoutModel",
      "state": {
       "height": "32px",
       "order": "-2",
       "width": "32px"
      }
     },
     "ba324592d97b4c2e85349c67968c4acf": {
      "model_module": "@jupyter-widgets/base",
      "model_module_version": "1.2.0",
      "model_name": "LayoutModel",
      "state": {
       "height": "32px",
       "order": "-2",
       "width": "32px"
      }
     },
     "baa8e68667334f3b863a169e118ade9e": {
      "model_module": "@jupyter-widgets/base",
      "model_module_version": "1.2.0",
      "model_name": "LayoutModel",
      "state": {
       "order": "-1",
       "overflow": "visible",
       "padding": "1px",
       "width": "0px"
      }
     },
     "babd649ca3294a2593d883cbca42823a": {
      "model_module": "@jupyter-widgets/controls",
      "model_module_version": "1.5.0",
      "model_name": "IntProgressModel",
      "state": {
       "layout": "IPY_MODEL_8329e4d2e26846649f5eb9a467475521",
       "style": "IPY_MODEL_639c0cafd32841dcbc2d3b285e2f3f25",
       "value": 30
      }
     },
     "bac1063dc9f04686ab05c47200d6f153": {
      "model_module": "@jupyter-widgets/controls",
      "model_module_version": "1.5.0",
      "model_name": "ButtonStyleModel",
      "state": {}
     },
     "bae1385e17784d7596e69dc74e9c8610": {
      "model_module": "@jupyter-widgets/controls",
      "model_module_version": "1.5.0",
      "model_name": "ButtonStyleModel",
      "state": {}
     },
     "baea50fc456b4fb0a91e258d2b824232": {
      "model_module": "@jupyter-widgets/controls",
      "model_module_version": "1.5.0",
      "model_name": "HBoxModel",
      "state": {
       "children": [
        "IPY_MODEL_c739634472bc48c5910e3b2256b8aabc",
        "IPY_MODEL_f43aa259fd3a41eaa107ec1da3bff0b9",
        "IPY_MODEL_7c02735f68f94444931ec8dacface163",
        "IPY_MODEL_102dce6996404f0295790b5e58a20cc8"
       ],
       "layout": "IPY_MODEL_c09e5c3e321f43c4985d2ea6718fd6cc"
      }
     },
     "bb005adaa70b4f3699efc9c9bd35938d": {
      "model_module": "@jupyter-widgets/base",
      "model_module_version": "1.2.0",
      "model_name": "LayoutModel",
      "state": {
       "display": "none"
      }
     },
     "bb4b4cc84a564eb0b276da24d63ae9e0": {
      "model_module": "@jupyter-widgets/controls",
      "model_module_version": "1.5.0",
      "model_name": "DropdownModel",
      "state": {
       "_options_labels": [
        "Any",
        "Clash",
        "Control",
        "Showdown",
        "Mayhem",
        "Breakthrough",
        "Lockdown",
        "Rumble",
        "Supremacy",
        "Doubles",
        "Scorched",
        "Countdown",
        "Survival",
        "Iron Banner"
       ],
       "disabled": true,
       "index": 12,
       "layout": "IPY_MODEL_d30b2870db344a0bbd1c1bfa61e145e0",
       "style": "IPY_MODEL_fb98749e38c2443e9ac014fd20b0fa51"
      }
     },
     "bb6c7acac08f491c8968650ef7b220d9": {
      "model_module": "@jupyter-widgets/controls",
      "model_module_version": "1.5.0",
      "model_name": "HBoxModel",
      "state": {
       "children": [
        "IPY_MODEL_9b10812d7c134236ba2f134ba3324949",
        "IPY_MODEL_e48e1cf53d304ea9b108a35962ad1bc7",
        "IPY_MODEL_24d73d2c011141b6b4b71829d4751bda",
        "IPY_MODEL_b53646896efc4df5a0d18e8360898bbe"
       ],
       "layout": "IPY_MODEL_061f027da21349d3999c3c52ace8aec4"
      }
     },
     "bb843f5ad926486c9ccfb030fc94a1b1": {
      "model_module": "@jupyter-widgets/controls",
      "model_module_version": "1.5.0",
      "model_name": "HTMLModel",
      "state": {
       "layout": "IPY_MODEL_9653d0e1fe9b4b98b72adaed3a88d6b7",
       "style": "IPY_MODEL_50e3c297d3d440d78a8a84ff2d4a51e7",
       "value": "<font size=\"5\"><b>Season 4: Challenges</b></font size=>"
      }
     },
     "bb91ef4625064fa6a8884f5280644fc2": {
      "model_module": "@jupyter-widgets/controls",
      "model_module_version": "1.5.0",
      "model_name": "HBoxModel",
      "state": {
       "children": [
        "IPY_MODEL_bbbecb994cb84801a1b018a3e2f4784a",
        "IPY_MODEL_9246a15e5464475caf7929df10db1e32",
        "IPY_MODEL_1c150af17b3e433480067174fd8f009f",
        "IPY_MODEL_103a0731b7b24d8f98339bb0afd246c6"
       ],
       "layout": "IPY_MODEL_caf13aea1a6941389c31a52a0413eca8"
      }
     },
     "bb9aacfac84b4d98a0c16eb3592ff18c": {
      "model_module": "@jupyter-widgets/controls",
      "model_module_version": "1.5.0",
      "model_name": "ButtonStyleModel",
      "state": {}
     },
     "bb9c4fc0c8d049cc8211784f531474d4": {
      "model_module": "@jupyter-widgets/controls",
      "model_module_version": "1.5.0",
      "model_name": "ButtonModel",
      "state": {
       "button_style": "success",
       "disabled": true,
       "layout": "IPY_MODEL_2955abf4551148f1b01c0bd155da5f46",
       "style": "IPY_MODEL_b77e124463354fa2bb21166db7594a9d"
      }
     },
     "bbae14ad8ecc4f38a3b3312403114fc2": {
      "model_module": "@jupyter-widgets/base",
      "model_module_version": "1.2.0",
      "model_name": "LayoutModel",
      "state": {
       "height": "32px",
       "order": "-2",
       "width": "32px"
      }
     },
     "bbbecb994cb84801a1b018a3e2f4784a": {
      "model_module": "@jupyter-widgets/controls",
      "model_module_version": "1.5.0",
      "model_name": "ButtonModel",
      "state": {
       "layout": "IPY_MODEL_56074b21a2364645b09bda803b056e47",
       "style": "IPY_MODEL_ab19897d0de94eb4be41a54ef5d1c435"
      }
     },
     "bbe87a81e487479bad34c4263b1db875": {
      "model_module": "@jupyter-widgets/controls",
      "model_module_version": "1.5.0",
      "model_name": "ProgressStyleModel",
      "state": {
       "description_width": ""
      }
     },
     "bc154dedb33043478ac5f1405d41d4f5": {
      "model_module": "@jupyter-widgets/base",
      "model_module_version": "1.2.0",
      "model_name": "LayoutModel",
      "state": {
       "display": "none",
       "width": "95%"
      }
     },
     "bc7c6d7a368e40df8c877f4f73507f8f": {
      "model_module": "@jupyter-widgets/controls",
      "model_module_version": "1.5.0",
      "model_name": "ButtonModel",
      "state": {
       "button_style": "success",
       "disabled": true,
       "layout": "IPY_MODEL_125dc723f4b64bd78318809c28e3f195",
       "style": "IPY_MODEL_e40b9b67019f405383bc2bd21282bf1f"
      }
     },
     "bc7fde9da037410ead1cea63250eb0c1": {
      "model_module": "@jupyter-widgets/controls",
      "model_module_version": "1.5.0",
      "model_name": "ButtonStyleModel",
      "state": {}
     },
     "bcc82f83dc344bddbddc8de5486a1f2c": {
      "model_module": "@jupyter-widgets/controls",
      "model_module_version": "1.5.0",
      "model_name": "LabelModel",
      "state": {
       "layout": "IPY_MODEL_5d465d4e7f754124bcccb0fe17a4c0ae",
       "style": "IPY_MODEL_43ccdf0bbd144abb97482758f4bd56c9",
       "value": "Subclass:"
      }
     },
     "bcf2b6fd2e3b4276a199cc1004e087c9": {
      "model_module": "@jupyter-widgets/controls",
      "model_module_version": "1.5.0",
      "model_name": "IntProgressModel",
      "state": {
       "layout": "IPY_MODEL_3c212d43c2984ac7b1181bf17e27122b",
       "style": "IPY_MODEL_ab7e958d9796432d82b0453fc225bd67",
       "value": 30
      }
     },
     "bcf549ee6f8041ffa28dd60ba229202a": {
      "model_module": "@jupyter-widgets/controls",
      "model_module_version": "1.5.0",
      "model_name": "ButtonModel",
      "state": {
       "layout": "IPY_MODEL_629b4ac72a324f92ac5f35b34fe72c34",
       "style": "IPY_MODEL_1261f88c17e64f1cad218db680923e1d"
      }
     },
     "bd5173698ba84679a044e4012d3e3bbe": {
      "model_module": "@jupyter-widgets/controls",
      "model_module_version": "1.5.0",
      "model_name": "LabelModel",
      "state": {
       "layout": "IPY_MODEL_db6b7b6acfaa4bcfa616b45551e1fbec",
       "style": "IPY_MODEL_046f756891df489f82b46b54affe068e",
       "value": "    Vaults defended (7/10)"
      }
     },
     "bd70a3a831b74aac91fdc299568fb3a4": {
      "model_module": "@jupyter-widgets/controls",
      "model_module_version": "1.5.0",
      "model_name": "BoxModel",
      "state": {
       "children": [
        "IPY_MODEL_f5cecf3e24ae4309947907f5692260ba",
        "IPY_MODEL_932cae8d17d74aef8bfc2c05949e8071",
        "IPY_MODEL_0302dd1571344fdba0dd0b0174262c27",
        "IPY_MODEL_502443f26edc4e69aa0509396445f5f1",
        "IPY_MODEL_873c0f8cdc5547999eb2421c9ac8417c",
        "IPY_MODEL_d74e5f41f8364b66ba83127bba133759",
        "IPY_MODEL_718ed84987eb45789a902350f0b523a7",
        "IPY_MODEL_dc2e4b1dc7ed46549679d074ec64889a",
        "IPY_MODEL_132809b517b14fa6831470a7559b0d9f",
        "IPY_MODEL_665def9633664ef3a387905352b44048",
        "IPY_MODEL_ff6b093339864dbbaa8c0e1dfbea2c31",
        "IPY_MODEL_5d2ab2ddbb7a4dd9b9d76968dba06372",
        "IPY_MODEL_be57ab55be1b489d983a74001daf5153",
        "IPY_MODEL_60e8397aa5e3440fb4dc74e47789bfa9",
        "IPY_MODEL_b5a84f21b098448c9632d5b7818cccd3"
       ],
       "layout": "IPY_MODEL_c3072c5753ba435699b8710c3ef227ad"
      }
     },
     "bd92a1b3b38b401793b32bfc51cd1310": {
      "model_module": "@jupyter-widgets/base",
      "model_module_version": "1.2.0",
      "model_name": "LayoutModel",
      "state": {
       "overflow": "visible",
       "width": "100%"
      }
     },
     "bda6d1df6abb4aba9372e3d5bab38e93": {
      "model_module": "@jupyter-widgets/controls",
      "model_module_version": "1.5.0",
      "model_name": "ButtonStyleModel",
      "state": {}
     },
     "bdc0e3f9cddd4ed5924371e5bd48f137": {
      "model_module": "@jupyter-widgets/controls",
      "model_module_version": "1.5.0",
      "model_name": "VBoxModel",
      "state": {
       "children": [
        "IPY_MODEL_9a38119d40c54a66942bd7c5d2c1a5fc",
        "IPY_MODEL_8e569a0add854b449052196774c3e9f4",
        "IPY_MODEL_7a677c863b334443bfab34dd01be7762",
        "IPY_MODEL_bcc82f83dc344bddbddc8de5486a1f2c",
        "IPY_MODEL_d77233461f6446679370abe7e3cb1744",
        "IPY_MODEL_9b5a8db39d63482a9e716a241defede8",
        "IPY_MODEL_09a4437c4e8f46e89c3650425432577f",
        "IPY_MODEL_f0db3b12983e4d9aa866cf7c184b7d23",
        "IPY_MODEL_0acd8a0db80048b49932db9a7f5e4599"
       ],
       "layout": "IPY_MODEL_dc44d8e06c204365a3d5a15c221d104c"
      }
     },
     "bdf6bd05cbb9423cb7d4f7921a53de27": {
      "model_module": "@jupyter-widgets/controls",
      "model_module_version": "1.5.0",
      "model_name": "LabelModel",
      "state": {
       "layout": "IPY_MODEL_1428e4a1117e4961a0ce62d4a8634afd",
       "style": "IPY_MODEL_5fd66910c44e4321871e0a7b971d43bb",
       "value": "    Titans defeated (358/100)"
      }
     },
     "bdfdca8a74f547298f10591902ee15a7": {
      "model_module": "@jupyter-widgets/controls",
      "model_module_version": "1.5.0",
      "model_name": "IntProgressModel",
      "state": {
       "bar_style": "success",
       "layout": "IPY_MODEL_f230c475c9474508b6fc07ea264ba03c",
       "max": 5,
       "style": "IPY_MODEL_21035701dce049aea443bec4b627ec36",
       "value": 5
      }
     },
     "be188b91bd6e4a07903b9b8d5c7bf2be": {
      "model_module": "@jupyter-widgets/controls",
      "model_module_version": "1.5.0",
      "model_name": "LabelModel",
      "state": {
       "layout": "IPY_MODEL_c0c57c394a8848e687c000c6730c34f4",
       "style": "IPY_MODEL_3f14d1d71b2d4ad6ac8d2a0a60d7537d",
       "value": "    Titans defeated (358/100)"
      }
     },
     "be2cbd569b0e4a968299b8fb93cade0a": {
      "model_module": "@jupyter-widgets/controls",
      "model_module_version": "1.5.0",
      "model_name": "HBoxModel",
      "state": {
       "children": [
        "IPY_MODEL_5039408375da45b48b7123d2600bafae",
        "IPY_MODEL_edd96d2ee67c4ba4ad9b28e3412a656e",
        "IPY_MODEL_45f46a3c7d094a02a6d06547cef292c5",
        "IPY_MODEL_f80f4de9b20f465e8c9ac6a6045a12d7"
       ],
       "layout": "IPY_MODEL_318960a71a6e42a79e7cd39ef670004c"
      }
     },
     "be49cef9dad74031a5b50d456ba7f11e": {
      "model_module": "@jupyter-widgets/controls",
      "model_module_version": "1.5.0",
      "model_name": "HBoxModel",
      "state": {
       "children": [
        "IPY_MODEL_62bca48e69bb405ebb7281a5fc215712",
        "IPY_MODEL_25a2c2ec0219464fa55233e7ccad21d9",
        "IPY_MODEL_d3166ab75a114c85977a6d86ea19d59f",
        "IPY_MODEL_63bac76ec2164aeeb123d04637ebeffb"
       ],
       "layout": "IPY_MODEL_390fdc6b71ab4c6f8f7f50e29b4b33d9"
      }
     },
     "be538b9f2232489aa5769dfc4ad3deb6": {
      "model_module": "@jupyter-widgets/base",
      "model_module_version": "1.2.0",
      "model_name": "LayoutModel",
      "state": {
       "height": "32px",
       "overflow": "visible",
       "width": "100%"
      }
     },
     "be57ab55be1b489d983a74001daf5153": {
      "model_module": "@jupyter-widgets/controls",
      "model_module_version": "1.5.0",
      "model_name": "VBoxModel",
      "state": {
       "children": [
        "IPY_MODEL_f01bb4e5f1b0410dbc708c1c5ae9b3f0",
        "IPY_MODEL_e34d2bcc994547918e8aaba88ae1105c",
        "IPY_MODEL_2858de35254848cdbdd5d603f2ec3e7d",
        "IPY_MODEL_8600c8f251bd43f5885f6d7f30fed355"
       ],
       "layout": "IPY_MODEL_672504f2a4e14cb8b318f11bf89de6a5"
      }
     },
     "bf0d59a2be9c4bf384c0b167f421a3aa": {
      "model_module": "@jupyter-widgets/controls",
      "model_module_version": "1.5.0",
      "model_name": "DescriptionStyleModel",
      "state": {
       "description_width": ""
      }
     },
     "bf0f06ad429e46e882eae5546935bebf": {
      "model_module": "@jupyter-widgets/controls",
      "model_module_version": "1.5.0",
      "model_name": "ProgressStyleModel",
      "state": {
       "description_width": ""
      }
     },
     "bf23f5476c104475823df68555e5a7a8": {
      "model_module": "@jupyter-widgets/base",
      "model_module_version": "1.2.0",
      "model_name": "LayoutModel",
      "state": {
       "display": "none"
      }
     },
     "bf4c615639d3483289e85d9bca36afce": {
      "model_module": "@jupyter-widgets/controls",
      "model_module_version": "1.5.0",
      "model_name": "DropdownModel",
      "state": {
       "_options_labels": [
        "Any"
       ],
       "index": 0,
       "layout": "IPY_MODEL_90e814629dff4ab0b86cdbeedd1b626d",
       "style": "IPY_MODEL_b8d5573e66794dda8f8a7a37b5e24b02"
      }
     },
     "bf50cf2937a74db2a70709fb494e5cd6": {
      "model_module": "@jupyter-widgets/controls",
      "model_module_version": "1.5.0",
      "model_name": "HTMLModel",
      "state": {
       "layout": "IPY_MODEL_3e1d3e78d49d48b698df003ff169ca87",
       "style": "IPY_MODEL_34845f0ee645400d9b88a8f01fd88e5e",
       "value": "<i>Deal the most total damage to opponents in a single match.</i>"
      }
     },
     "bfee39e476b148aea86d85a0b425262f": {
      "model_module": "@jupyter-widgets/controls",
      "model_module_version": "1.5.0",
      "model_name": "ProgressStyleModel",
      "state": {
       "description_width": ""
      }
     },
     "c059e01ea27b4bf2bf905dc3287798f6": {
      "model_module": "@jupyter-widgets/controls",
      "model_module_version": "1.5.0",
      "model_name": "ButtonModel",
      "state": {
       "description": "EDIT",
       "layout": "IPY_MODEL_2f6fdf3e946c49129385f2e0f403a6d8",
       "style": "IPY_MODEL_de95c6cf95004a99a15bbc16a0467d3d"
      }
     },
     "c075f6d74e9d4a099e70eeaa2a6f18a4": {
      "model_module": "@jupyter-widgets/base",
      "model_module_version": "1.2.0",
      "model_name": "LayoutModel",
      "state": {}
     },
     "c094fb81bb9e4439848ecc00720ec09b": {
      "model_module": "@jupyter-widgets/base",
      "model_module_version": "1.2.0",
      "model_name": "LayoutModel",
      "state": {}
     },
     "c09e5c3e321f43c4985d2ea6718fd6cc": {
      "model_module": "@jupyter-widgets/base",
      "model_module_version": "1.2.0",
      "model_name": "LayoutModel",
      "state": {
       "display": "none"
      }
     },
     "c0c57c394a8848e687c000c6730c34f4": {
      "model_module": "@jupyter-widgets/base",
      "model_module_version": "1.2.0",
      "model_name": "LayoutModel",
      "state": {
       "order": "-1",
       "overflow": "visible",
       "padding": "1px",
       "width": "0px"
      }
     },
     "c0da964ea2d44d5cacbc8d631d56d2fe": {
      "model_module": "@jupyter-widgets/controls",
      "model_module_version": "1.5.0",
      "model_name": "DescriptionStyleModel",
      "state": {
       "description_width": ""
      }
     },
     "c0e9f99f6e3946b7b405728f79efbdc5": {
      "model_module": "@jupyter-widgets/controls",
      "model_module_version": "1.5.0",
      "model_name": "LabelModel",
      "state": {
       "layout": "IPY_MODEL_98c71f90bf10493a8a03f9b694b567de",
       "style": "IPY_MODEL_1d2cd5194910488ebe1be64c13d2f4f3",
       "value": "   objective"
      }
     },
     "c10363a1797f4065844f2eb60e642f09": {
      "model_module": "@jupyter-widgets/controls",
      "model_module_version": "1.5.0",
      "model_name": "ButtonStyleModel",
      "state": {}
     },
     "c10cdc66afda40578de04af55af72373": {
      "model_module": "@jupyter-widgets/controls",
      "model_module_version": "1.5.0",
      "model_name": "ProgressStyleModel",
      "state": {
       "description_width": ""
      }
     },
     "c120f87f4bf8437e8002fc09f90f9b71": {
      "model_module": "@jupyter-widgets/controls",
      "model_module_version": "1.5.0",
      "model_name": "ProgressStyleModel",
      "state": {
       "description_width": ""
      }
     },
     "c1510b894514403281b51235dc80b7d9": {
      "model_module": "@jupyter-widgets/base",
      "model_module_version": "1.2.0",
      "model_name": "LayoutModel",
      "state": {
       "display": "none",
       "width": "60px"
      }
     },
     "c1e2f7b0cb4f4ee1ac484c93b96fbf61": {
      "model_module": "@jupyter-widgets/controls",
      "model_module_version": "1.5.0",
      "model_name": "ButtonStyleModel",
      "state": {}
     },
     "c214ef7d830a44429c1bc4359aaee05e": {
      "model_module": "@jupyter-widgets/controls",
      "model_module_version": "1.5.0",
      "model_name": "ButtonModel",
      "state": {
       "button_style": "success",
       "disabled": true,
       "layout": "IPY_MODEL_2598996bab3b4f9aae4fcd151604c2bb",
       "style": "IPY_MODEL_1589ee9391854372a86ed9a11d12f845"
      }
     },
     "c24bb4335a784043a1eaef8733aca5fd": {
      "model_module": "@jupyter-widgets/controls",
      "model_module_version": "1.5.0",
      "model_name": "ButtonStyleModel",
      "state": {}
     },
     "c24c7b23a4f84defbdaabf7531f466ec": {
      "model_module": "@jupyter-widgets/controls",
      "model_module_version": "1.5.0",
      "model_name": "ButtonStyleModel",
      "state": {}
     },
     "c254e3b4847748f495ee670d6625a5bc": {
      "model_module": "@jupyter-widgets/controls",
      "model_module_version": "1.5.0",
      "model_name": "ButtonModel",
      "state": {
       "layout": "IPY_MODEL_0958781cd09d427d937254ff55b4b957",
       "style": "IPY_MODEL_e0548a2e58ca4e18b2784b6847cef378"
      }
     },
     "c2c911c5d7c7443699632f3854f17698": {
      "model_module": "@jupyter-widgets/base",
      "model_module_version": "1.2.0",
      "model_name": "LayoutModel",
      "state": {
       "border": "3px solid white",
       "display": "flex",
       "flex": "1 1 0%",
       "margin": "10px",
       "min_width": "400px",
       "overflow": "visible",
       "padding": "10px",
       "width": "auto"
      }
     },
     "c2d75525c1df46359882adc07139acdc": {
      "model_module": "@jupyter-widgets/controls",
      "model_module_version": "1.5.0",
      "model_name": "ProgressStyleModel",
      "state": {
       "description_width": ""
      }
     },
     "c3072c5753ba435699b8710c3ef227ad": {
      "model_module": "@jupyter-widgets/base",
      "model_module_version": "1.2.0",
      "model_name": "LayoutModel",
      "state": {
       "align_items": "stretch",
       "display": "flex",
       "flex_flow": "row wrap"
      }
     },
     "c32f81a2357b48768c3e9b59d05e5202": {
      "model_module": "@jupyter-widgets/controls",
      "model_module_version": "1.5.0",
      "model_name": "IntProgressModel",
      "state": {
       "layout": "IPY_MODEL_cce934c7018b4b2fa6612e0da02c219a",
       "style": "IPY_MODEL_af34666ddfeb48828b336125ee1fbb60",
       "value": 30
      }
     },
     "c400ef13010241e3993fb0ba4bb8fb92": {
      "model_module": "@jupyter-widgets/controls",
      "model_module_version": "1.5.0",
      "model_name": "LabelModel",
      "state": {
       "layout": "IPY_MODEL_1c7da57b7cbe4f50aba692b5bbe29a87",
       "style": "IPY_MODEL_e8c55ba43557441d9aef11762294d62c",
       "value": "Open a new window and go here: https://www.bungie.net/en/OAuth/Authorize?client_id=29004&response_type=code"
      }
     },
     "c47a02727908435eb42e1fcf57d22a00": {
      "model_module": "@jupyter-widgets/base",
      "model_module_version": "1.2.0",
      "model_name": "LayoutModel",
      "state": {
       "display": "none",
       "width": "60px"
      }
     },
     "c488e6a28e23461da92d0e496dd9375e": {
      "model_module": "@jupyter-widgets/base",
      "model_module_version": "1.2.0",
      "model_name": "LayoutModel",
      "state": {
       "height": "32px",
       "order": "-2",
       "width": "32px"
      }
     },
     "c4adb1332077434da8c713e3a6eb0d0b": {
      "model_module": "@jupyter-widgets/controls",
      "model_module_version": "1.5.0",
      "model_name": "ButtonStyleModel",
      "state": {}
     },
     "c4e6dbb7b9854b549b4b99666764261d": {
      "model_module": "@jupyter-widgets/controls",
      "model_module_version": "1.5.0",
      "model_name": "ButtonStyleModel",
      "state": {}
     },
     "c50cb4a141504d268c9034e7b55a8da0": {
      "model_module": "@jupyter-widgets/controls",
      "model_module_version": "1.5.0",
      "model_name": "LabelModel",
      "state": {
       "layout": "IPY_MODEL_5c62b87415ce41a1b5ef49101892c2ef",
       "style": "IPY_MODEL_2b72629af4154eb599328a90dfa6ca8c",
       "value": "    Vaults hacked (20/15)"
      }
     },
     "c52ee66ae51e4c5389df9ba32653cb1b": {
      "model_module": "@jupyter-widgets/controls",
      "model_module_version": "1.5.0",
      "model_name": "IntProgressModel",
      "state": {
       "layout": "IPY_MODEL_2ac609a254454aea84a728abf15f3177",
       "max": 1,
       "style": "IPY_MODEL_8a2dc956553e458d85d6896cdc4e38e9"
      }
     },
     "c5574cc3d8c843a48c85c4a9e7c5efee": {
      "model_module": "@jupyter-widgets/base",
      "model_module_version": "1.2.0",
      "model_name": "LayoutModel",
      "state": {
       "display": "none"
      }
     },
     "c560029d5c7c41ec859dfc3105ca4181": {
      "model_module": "@jupyter-widgets/controls",
      "model_module_version": "1.5.0",
      "model_name": "DescriptionStyleModel",
      "state": {
       "description_width": ""
      }
     },
     "c562a1629dae4384b3c3783714fa88fb": {
      "model_module": "@jupyter-widgets/controls",
      "model_module_version": "1.5.0",
      "model_name": "DescriptionStyleModel",
      "state": {
       "description_width": ""
      }
     },
     "c5729f87fe75405dbe2b1417c7babd75": {
      "model_module": "@jupyter-widgets/controls",
      "model_module_version": "1.5.0",
      "model_name": "ButtonStyleModel",
      "state": {}
     },
     "c6560e1d9d664b8f92c718b2fcc9faf7": {
      "model_module": "@jupyter-widgets/controls",
      "model_module_version": "1.5.0",
      "model_name": "ButtonModel",
      "state": {
       "description": "EDIT",
       "layout": "IPY_MODEL_ea42259eb1ca4eb39eb88417149b634a",
       "style": "IPY_MODEL_67e06d388f8744d3b8e7ffc11de20021"
      }
     },
     "c66b0f43ddb24098bc02f8e4f3135e96": {
      "model_module": "@jupyter-widgets/base",
      "model_module_version": "1.2.0",
      "model_name": "LayoutModel",
      "state": {
       "height": "32px",
       "overflow": "visible",
       "width": "100%"
      }
     },
     "c6b17cbcf20d4601b1a48694bb5f8501": {
      "model_module": "@jupyter-widgets/base",
      "model_module_version": "1.2.0",
      "model_name": "LayoutModel",
      "state": {
       "height": "32px",
       "overflow": "visible",
       "width": "100%"
      }
     },
     "c6e43570eb314940943e230820696ebb": {
      "model_module": "@jupyter-widgets/controls",
      "model_module_version": "1.5.0",
      "model_name": "ButtonStyleModel",
      "state": {}
     },
     "c6f49c08c3b843e29adf344d2ac6e744": {
      "model_module": "@jupyter-widgets/controls",
      "model_module_version": "1.5.0",
      "model_name": "HBoxModel",
      "state": {
       "children": [
        "IPY_MODEL_fdd9c7fdd6744ffbbcefde8a79da6a0a",
        "IPY_MODEL_3abd92a0ca7c4f9c9b9eda912263df86",
        "IPY_MODEL_5a7eebe65ea94a40af48b79f62063fcb",
        "IPY_MODEL_e00d6558b4cb4d44ab612bd451da5030"
       ],
       "layout": "IPY_MODEL_94319864b5c741909073c0f6f2917d5b"
      }
     },
     "c739634472bc48c5910e3b2256b8aabc": {
      "model_module": "@jupyter-widgets/controls",
      "model_module_version": "1.5.0",
      "model_name": "ButtonModel",
      "state": {
       "layout": "IPY_MODEL_b598edab94264e648e3469a5a592e705",
       "style": "IPY_MODEL_d0fd2d8588104ca8ae5a92275f212000"
      }
     },
     "c74cca6ed5b044378c00a7576de78b2e": {
      "model_module": "@jupyter-widgets/base",
      "model_module_version": "1.2.0",
      "model_name": "LayoutModel",
      "state": {
       "display": "flex",
       "flex_flow": "row wrap"
      }
     },
     "c77e360d947f46e999af9bc5a61c75be": {
      "model_module": "@jupyter-widgets/controls",
      "model_module_version": "1.5.0",
      "model_name": "ButtonModel",
      "state": {
       "button_style": "success",
       "disabled": true,
       "layout": "IPY_MODEL_13508715f378498e8c39006902eba29b",
       "style": "IPY_MODEL_4c2c27ec8ae643e99d0a61f779ad7be1"
      }
     },
     "c78580f3eda74786a961283731bb023a": {
      "model_module": "@jupyter-widgets/controls",
      "model_module_version": "1.5.0",
      "model_name": "IntProgressModel",
      "state": {
       "layout": "IPY_MODEL_3de049e3803940ac91fe7df6a96a57fc",
       "style": "IPY_MODEL_160b336851d547ae893242674cbe847f",
       "value": 30
      }
     },
     "c7973595719a4bb58a60e19b96d878e9": {
      "model_module": "@jupyter-widgets/controls",
      "model_module_version": "1.5.0",
      "model_name": "DescriptionStyleModel",
      "state": {
       "description_width": ""
      }
     },
     "c7a1b38e51c4474f8ac69c634f9b1332": {
      "model_module": "@jupyter-widgets/controls",
      "model_module_version": "1.5.0",
      "model_name": "FloatProgressModel",
      "state": {
       "description": "Loading:",
       "layout": "IPY_MODEL_0042f983118f43a381eefd6e6f951a4d",
       "max": 110,
       "style": "IPY_MODEL_61ab343c673743da9006d64773a79821",
       "value": 108.99999999999974
      }
     },
     "c7e48e510107476fb65f92ad56f5b54f": {
      "model_module": "@jupyter-widgets/base",
      "model_module_version": "1.2.0",
      "model_name": "LayoutModel",
      "state": {
       "display": "none",
       "width": "60px"
      }
     },
     "c7fabc1e0c7040c3ba5588ee1d851e1e": {
      "model_module": "@jupyter-widgets/base",
      "model_module_version": "1.2.0",
      "model_name": "LayoutModel",
      "state": {
       "width": "95%"
      }
     },
     "c80d3cb87c0a4ca08e0425d168c603fe": {
      "model_module": "@jupyter-widgets/controls",
      "model_module_version": "1.5.0",
      "model_name": "HTMLModel",
      "state": {
       "layout": "IPY_MODEL_ee0c161fb6754b26a84e6b867cc74775",
       "style": "IPY_MODEL_5b3aaf53bc3e4f4b9bee3b67f3a8b6c6",
       "value": "<i>Mayhem: As a team, rapidly cast all of your Supers.</i>"
      }
     },
     "c81b0af97f0041fe8b9d10d629881863": {
      "model_module": "@jupyter-widgets/controls",
      "model_module_version": "1.5.0",
      "model_name": "HTMLModel",
      "state": {
       "layout": "IPY_MODEL_248e7632a3e04f14a4489df4684c3d66",
       "style": "IPY_MODEL_8b5f025ccc2e45f79f06a4f924a1f9a5",
       "value": "<font size=\"5\"><b>Fight Me!</b></font size=>"
      }
     },
     "c81c1404a74544fd91e637f9796d08e5": {
      "model_module": "@jupyter-widgets/base",
      "model_module_version": "1.2.0",
      "model_name": "LayoutModel",
      "state": {
       "height": "32px",
       "overflow": "visible",
       "width": "100%"
      }
     },
     "c8238fee351a4c1c9ff7f32dc2df7751": {
      "model_module": "@jupyter-widgets/controls",
      "model_module_version": "1.5.0",
      "model_name": "HTMLModel",
      "state": {
       "layout": "IPY_MODEL_162649699cfa4b2bbf06718e059c72b7",
       "style": "IPY_MODEL_3de59e00375e4d83800d46cb9b095017",
       "value": "<i>Survive a Hunt in which no member of your team is defeated—then start the next Hunt.</i>"
      }
     },
     "c85603d037d242a7870704c0d56ccd19": {
      "model_module": "@jupyter-widgets/controls",
      "model_module_version": "1.5.0",
      "model_name": "HTMLModel",
      "state": {
       "layout": "IPY_MODEL_5a81a17d866b4a1090bf4b294c96dc54",
       "style": "IPY_MODEL_de20aa57847f4f67829e93d2e800a3f8",
       "value": "<i>Control: Recapture a zone within 15 seconds of it being captured by your opponents.</i>"
      }
     },
     "c8718b056e434eb2a6cafd86079ed6c8": {
      "model_module": "@jupyter-widgets/controls",
      "model_module_version": "1.5.0",
      "model_name": "ProgressStyleModel",
      "state": {
       "description_width": ""
      }
     },
     "c88e9d7ef3744542b396a0118ef9afcc": {
      "model_module": "@jupyter-widgets/base",
      "model_module_version": "1.2.0",
      "model_name": "LayoutModel",
      "state": {
       "order": "-1",
       "overflow": "visible",
       "padding": "1px",
       "width": "0px"
      }
     },
     "c89197f134e442e2ba318b7c14ea0c52": {
      "model_module": "@jupyter-widgets/base",
      "model_module_version": "1.2.0",
      "model_name": "LayoutModel",
      "state": {
       "height": "32px",
       "overflow": "visible",
       "width": "100%"
      }
     },
     "c8f2dcee56a04b1fa437932c068fb8d8": {
      "model_module": "@jupyter-widgets/controls",
      "model_module_version": "1.5.0",
      "model_name": "IntProgressModel",
      "state": {
       "bar_style": "success",
       "layout": "IPY_MODEL_7ae758ddb7354660aff51837745525fc",
       "max": 1,
       "style": "IPY_MODEL_bfee39e476b148aea86d85a0b425262f",
       "value": 1
      }
     },
     "c900e29f4e074972aecc5068cdaf03cd": {
      "model_module": "@jupyter-widgets/base",
      "model_module_version": "1.2.0",
      "model_name": "LayoutModel",
      "state": {
       "display": "flex",
       "flex_flow": "row wrap"
      }
     },
     "c90b4a9ef1af4bfc812d85b556162329": {
      "model_module": "@jupyter-widgets/base",
      "model_module_version": "1.2.0",
      "model_name": "LayoutModel",
      "state": {
       "height": "32px",
       "overflow": "visible",
       "width": "100%"
      }
     },
     "c91593f5a1d3441ea0bcf02e55c9f2bd": {
      "model_module": "@jupyter-widgets/base",
      "model_module_version": "1.2.0",
      "model_name": "LayoutModel",
      "state": {}
     },
     "c91898e097dc456eb78dd0699f775ff3": {
      "model_module": "@jupyter-widgets/base",
      "model_module_version": "1.2.0",
      "model_name": "LayoutModel",
      "state": {
       "display": "none",
       "width": "60px"
      }
     },
     "c9726d3c1e4d41bcb43d0aae076f39e2": {
      "model_module": "@jupyter-widgets/controls",
      "model_module_version": "1.5.0",
      "model_name": "ButtonModel",
      "state": {
       "description": "EDIT",
       "layout": "IPY_MODEL_c91898e097dc456eb78dd0699f775ff3",
       "style": "IPY_MODEL_33553401de094be29f5c0ae38fb7109b"
      }
     },
     "c9b360fd500a4d9a8c837ffd83ce36b7": {
      "model_module": "@jupyter-widgets/base",
      "model_module_version": "1.2.0",
      "model_name": "LayoutModel",
      "state": {
       "order": "-1",
       "overflow": "visible",
       "padding": "1px",
       "width": "0px"
      }
     },
     "c9c24012bf5b42fcbfc5d3f28a58c3ec": {
      "model_module": "@jupyter-widgets/controls",
      "model_module_version": "1.5.0",
      "model_name": "IntProgressModel",
      "state": {
       "bar_style": "success",
       "layout": "IPY_MODEL_4a7e645e7e2b4f45bbca36f9a656458c",
       "max": 1,
       "style": "IPY_MODEL_9af597885ecd4c68966e69a904b8713e",
       "value": 1
      }
     },
     "c9f5c67131c04ec684652e39236c3de3": {
      "model_module": "@jupyter-widgets/controls",
      "model_module_version": "1.5.0",
      "model_name": "HBoxModel",
      "state": {
       "children": [
        "IPY_MODEL_38d5c1a64ef341278bb718fb1cc85c2d",
        "IPY_MODEL_dfa7965d81754cf1a51d9cc4ff4bd64b",
        "IPY_MODEL_4a3e61c12af14237a062420bab4bc03e",
        "IPY_MODEL_df642a01e3d547d280df2e196c4c358b"
       ],
       "layout": "IPY_MODEL_33d4558627aa447b99a63ae4ec0ff12e"
      }
     },
     "ca330ec6bd1c4752a72a02607b96c8b3": {
      "model_module": "@jupyter-widgets/base",
      "model_module_version": "1.2.0",
      "model_name": "LayoutModel",
      "state": {
       "display": "flex",
       "flex_flow": "row wrap"
      }
     },
     "ca527d02f2a649aaa7105ed59ae4192f": {
      "model_module": "@jupyter-widgets/base",
      "model_module_version": "1.2.0",
      "model_name": "LayoutModel",
      "state": {
       "order": "-1",
       "overflow": "visible",
       "padding": "1px",
       "width": "0px"
      }
     },
     "caacd518e54048dc8c0d31a5c99c9d4d": {
      "model_module": "@jupyter-widgets/base",
      "model_module_version": "1.2.0",
      "model_name": "LayoutModel",
      "state": {
       "display": "none",
       "width": "60px"
      }
     },
     "cab668e1430541a9ba7c9b76163d917c": {
      "model_module": "@jupyter-widgets/controls",
      "model_module_version": "1.5.0",
      "model_name": "ButtonModel",
      "state": {
       "layout": "IPY_MODEL_2dac4b4fa66342a7a4b5d4e89e430a54",
       "style": "IPY_MODEL_4f78abb251bb4af5a15cb4fe4541c364"
      }
     },
     "cacad5e1c2a04bf0a1e40ceab324b299": {
      "model_module": "@jupyter-widgets/controls",
      "model_module_version": "1.5.0",
      "model_name": "ButtonStyleModel",
      "state": {}
     },
     "caf13aea1a6941389c31a52a0413eca8": {
      "model_module": "@jupyter-widgets/base",
      "model_module_version": "1.2.0",
      "model_name": "LayoutModel",
      "state": {
       "display": "none"
      }
     },
     "caf34bfc251643b4a29124350435180b": {
      "model_module": "@jupyter-widgets/controls",
      "model_module_version": "1.5.0",
      "model_name": "HBoxModel",
      "state": {
       "children": [
        "IPY_MODEL_60d95f3925a048428099cc7c95284b12",
        "IPY_MODEL_268ffbf161ae4fc7a753c67e1d344213",
        "IPY_MODEL_1133b7dac89745dba457ef62e7a63148",
        "IPY_MODEL_4f437d892f934f3692373090c48dac85"
       ],
       "layout": "IPY_MODEL_f61e02b69e1145f38b3471487e4175eb"
      }
     },
     "cafac7864e9a48909b6e13711f814bab": {
      "model_module": "@jupyter-widgets/base",
      "model_module_version": "1.2.0",
      "model_name": "LayoutModel",
      "state": {}
     },
     "cb0e949d2df04443ae448590a32e7acd": {
      "model_module": "@jupyter-widgets/controls",
      "model_module_version": "1.5.0",
      "model_name": "LabelModel",
      "state": {
       "layout": "IPY_MODEL_2a4fcf8bb5b440be87972e6ebb207bd6",
       "style": "IPY_MODEL_b0180993d6964ff8a21bbd6dee2c6be0",
       "value": "    Medals earned (13/1)"
      }
     },
     "cb4331062c2d44ed988d424cc540df21": {
      "model_module": "@jupyter-widgets/controls",
      "model_module_version": "1.5.0",
      "model_name": "ButtonModel",
      "state": {
       "description": "Submit",
       "layout": "IPY_MODEL_c91593f5a1d3441ea0bcf02e55c9f2bd",
       "style": "IPY_MODEL_d3487ccb52944de295668ad418594dbb"
      }
     },
     "cb5ac444c34644f380246c766b1b7fb1": {
      "model_module": "@jupyter-widgets/base",
      "model_module_version": "1.2.0",
      "model_name": "LayoutModel",
      "state": {
       "order": "-1",
       "overflow": "visible",
       "padding": "1px",
       "width": "0px"
      }
     },
     "cb69af56c3174b2b9e25c5e2495c8300": {
      "model_module": "@jupyter-widgets/controls",
      "model_module_version": "1.5.0",
      "model_name": "ButtonStyleModel",
      "state": {}
     },
     "cb7a1b63624f408098f2ed34a204e8ee": {
      "model_module": "@jupyter-widgets/controls",
      "model_module_version": "1.5.0",
      "model_name": "IntProgressModel",
      "state": {
       "layout": "IPY_MODEL_a321253824c54f468088eae2cae9e7cf",
       "style": "IPY_MODEL_a24b44cf4eea45b29fb273f28643134f",
       "value": 30
      }
     },
     "cbf4b4e163f5434c9aebcdfff34983e5": {
      "model_module": "@jupyter-widgets/controls",
      "model_module_version": "1.5.0",
      "model_name": "DescriptionStyleModel",
      "state": {
       "description_width": ""
      }
     },
     "cc71bfce74f04338bf043dc7eb8f3fcf": {
      "model_module": "@jupyter-widgets/base",
      "model_module_version": "1.2.0",
      "model_name": "LayoutModel",
      "state": {}
     },
     "cc94d50191554d71ada34ff0de8cdef2": {
      "model_module": "@jupyter-widgets/controls",
      "model_module_version": "1.5.0",
      "model_name": "HBoxModel",
      "state": {
       "children": [
        "IPY_MODEL_e21c0eb3761d4ac2a8dd0c4f4691e2e2",
        "IPY_MODEL_82dedb38aad34ef19aef1f7ce6809e86",
        "IPY_MODEL_d3a33d58dbe84da3a30021592a1f98a9",
        "IPY_MODEL_93768ce83f384538ba0e392951209f26"
       ],
       "layout": "IPY_MODEL_853bda82a0c0487682d202a20cc8f465"
      }
     },
     "cce934c7018b4b2fa6612e0da02c219a": {
      "model_module": "@jupyter-widgets/base",
      "model_module_version": "1.2.0",
      "model_name": "LayoutModel",
      "state": {
       "height": "32px",
       "overflow": "visible",
       "width": "100%"
      }
     },
     "ccffcb0af0f74e66adab00808c0d001a": {
      "model_module": "@jupyter-widgets/base",
      "model_module_version": "1.2.0",
      "model_name": "LayoutModel",
      "state": {}
     },
     "cd42453f1fe040b199c8b59f1c1b2f7e": {
      "model_module": "@jupyter-widgets/controls",
      "model_module_version": "1.5.0",
      "model_name": "ButtonStyleModel",
      "state": {}
     },
     "cd88d6a38c0744a9a0d067dad73852ef": {
      "model_module": "@jupyter-widgets/base",
      "model_module_version": "1.2.0",
      "model_name": "LayoutModel",
      "state": {
       "display": "none"
      }
     },
     "cdc1a784b639454e891da5ca88719b98": {
      "model_module": "@jupyter-widgets/controls",
      "model_module_version": "1.5.0",
      "model_name": "DescriptionStyleModel",
      "state": {
       "description_width": ""
      }
     },
     "ce049a82a6fe4541949bba9ff3aeee76": {
      "model_module": "@jupyter-widgets/base",
      "model_module_version": "1.2.0",
      "model_name": "LayoutModel",
      "state": {
       "display": "none",
       "width": "60px"
      }
     },
     "ce59a783056e4e1092d68a096670ae57": {
      "model_module": "@jupyter-widgets/controls",
      "model_module_version": "1.5.0",
      "model_name": "VBoxModel",
      "state": {
       "children": [
        "IPY_MODEL_a2f2ba64bd0343a2afde2b612609ef40",
        "IPY_MODEL_9677d34697da47d4aa8bdfe23e796864",
        "IPY_MODEL_e81cbda9e44e48bfae98f6f9aeeac25c",
        "IPY_MODEL_89e0e5644ea643109c663314542c810c",
        "IPY_MODEL_a89420b3262145abad7945e5ac21c771",
        "IPY_MODEL_6c4ffcd2ffd54d78a752b5a64ffb393b",
        "IPY_MODEL_84b96d21dd26433383aa25a9dcb3daf3",
        "IPY_MODEL_7bfcc4d4cc0845c8aa8c7ffcb1915f08",
        "IPY_MODEL_158eb0d7c13446fe96dcd6d667afdf16",
        "IPY_MODEL_6c5fa47500af40ed851f586c8cbabb8c"
       ],
       "layout": "IPY_MODEL_2a1ed7a3d1264f4bbb6380f73bb02a23"
      }
     },
     "ce6114b224f8485eabab88eea74c1900": {
      "model_module": "@jupyter-widgets/base",
      "model_module_version": "1.2.0",
      "model_name": "LayoutModel",
      "state": {
       "border": "3px solid white",
       "display": "flex",
       "flex": "1 1 0%",
       "margin": "10px",
       "min_width": "400px",
       "overflow": "visible",
       "padding": "10px",
       "width": "auto"
      }
     },
     "ce89ce024a8d4845a676c1efba1b5a07": {
      "model_module": "@jupyter-widgets/base",
      "model_module_version": "1.2.0",
      "model_name": "LayoutModel",
      "state": {
       "display": "none",
       "width": "60px"
      }
     },
     "ceadfbde338a484a8c83c06b05b2e768": {
      "model_module": "@jupyter-widgets/base",
      "model_module_version": "1.2.0",
      "model_name": "LayoutModel",
      "state": {
       "display": "none"
      }
     },
     "cedb1a9ee91c463d910b241c9e22b9b6": {
      "model_module": "@jupyter-widgets/controls",
      "model_module_version": "1.5.0",
      "model_name": "DescriptionStyleModel",
      "state": {
       "description_width": ""
      }
     },
     "cefe8f3f208f4bb3940bd2fad5c16d5d": {
      "model_module": "@jupyter-widgets/controls",
      "model_module_version": "1.5.0",
      "model_name": "DescriptionStyleModel",
      "state": {
       "description_width": ""
      }
     },
     "cf0ffe313fe643a0ae8c0ed56a94affc": {
      "model_module": "@jupyter-widgets/controls",
      "model_module_version": "1.5.0",
      "model_name": "ButtonStyleModel",
      "state": {}
     },
     "cf1a8f316c9f4fc9bd4859b7effd5684": {
      "model_module": "@jupyter-widgets/controls",
      "model_module_version": "1.5.0",
      "model_name": "HTMLModel",
      "state": {
       "layout": "IPY_MODEL_1467549125534d5499f5ef6ddefefff5",
       "style": "IPY_MODEL_58eb2afff137474aa3a9e697bad3cc33",
       "value": "<font size=\"1\">Triumphs/Crucible/Medals/Gametypes/Perimeter Control</font size=>"
      }
     },
     "cf30956211404d8fa58ea3593b324a44": {
      "model_module": "@jupyter-widgets/base",
      "model_module_version": "1.2.0",
      "model_name": "LayoutModel",
      "state": {
       "height": "32px",
       "order": "-2",
       "width": "32px"
      }
     },
     "cf6369a58bac4760be54f39b18a26bb1": {
      "model_module": "@jupyter-widgets/base",
      "model_module_version": "1.2.0",
      "model_name": "LayoutModel",
      "state": {
       "height": "32px",
       "order": "-2",
       "width": "32px"
      }
     },
     "cfa330f5d1ea40cfb31054de0ced1004": {
      "model_module": "@jupyter-widgets/controls",
      "model_module_version": "1.5.0",
      "model_name": "DescriptionStyleModel",
      "state": {
       "description_width": ""
      }
     },
     "cfe8124da7a14bc8b02ba6ed5b4089a1": {
      "model_module": "@jupyter-widgets/controls",
      "model_module_version": "1.5.0",
      "model_name": "LabelModel",
      "state": {
       "layout": "IPY_MODEL_7538d310cb574cd6ba5b18278b7199b8",
       "style": "IPY_MODEL_da8da65f483a4a609da3f4bdec18e63e",
       "value": "   objective"
      }
     },
     "d06108353b1a4bffb2dc6fd5b752c64a": {
      "model_module": "@jupyter-widgets/controls",
      "model_module_version": "1.5.0",
      "model_name": "ButtonModel",
      "state": {
       "button_style": "success",
       "disabled": true,
       "layout": "IPY_MODEL_b9f1dd663b284163b0f960b6dd668a9c",
       "style": "IPY_MODEL_3f719500cfb54ee69acb256d151d81a3"
      }
     },
     "d069992c2ecd4fe98b5cd2e6b79362ad": {
      "model_module": "@jupyter-widgets/controls",
      "model_module_version": "1.5.0",
      "model_name": "DescriptionStyleModel",
      "state": {
       "description_width": ""
      }
     },
     "d089261123364f7da8e1c42bdc9ac683": {
      "model_module": "@jupyter-widgets/controls",
      "model_module_version": "1.5.0",
      "model_name": "ButtonModel",
      "state": {
       "button_style": "success",
       "disabled": true,
       "layout": "IPY_MODEL_9d153c51f1304a65863fe36e50c8c156",
       "style": "IPY_MODEL_639718b2f65948558e4519129639a7ac"
      }
     },
     "d0aef07b3b3d4f25a23c8cae994e1663": {
      "model_module": "@jupyter-widgets/controls",
      "model_module_version": "1.5.0",
      "model_name": "ButtonStyleModel",
      "state": {}
     },
     "d0b94ac176e24e91965f2bc70f5b81c3": {
      "model_module": "@jupyter-widgets/controls",
      "model_module_version": "1.5.0",
      "model_name": "DescriptionStyleModel",
      "state": {
       "description_width": ""
      }
     },
     "d0f5b2ae84044ad7b274722af9c03e2a": {
      "model_module": "@jupyter-widgets/base",
      "model_module_version": "1.2.0",
      "model_name": "LayoutModel",
      "state": {}
     },
     "d0fd2d8588104ca8ae5a92275f212000": {
      "model_module": "@jupyter-widgets/controls",
      "model_module_version": "1.5.0",
      "model_name": "ButtonStyleModel",
      "state": {}
     },
     "d108cfdf2b9444359184528ff8b4580d": {
      "model_module": "@jupyter-widgets/base",
      "model_module_version": "1.2.0",
      "model_name": "LayoutModel",
      "state": {
       "display": "none",
       "width": "60px"
      }
     },
     "d12fd61270694a5dac4aa93d41a508de": {
      "model_module": "@jupyter-widgets/controls",
      "model_module_version": "1.5.0",
      "model_name": "LabelModel",
      "state": {
       "layout": "IPY_MODEL_e6d536fb757a4bafafaa5bd579cf5d70",
       "style": "IPY_MODEL_e9dfd66ba0ca4f02842744cd948e2313",
       "value": "   objective"
      }
     },
     "d13c6ff6b64b48eda6bba0b4a496cd25": {
      "model_module": "@jupyter-widgets/base",
      "model_module_version": "1.2.0",
      "model_name": "LayoutModel",
      "state": {
       "display": "none",
       "width": "60px"
      }
     },
     "d143c5158d65469db8f8caba497861e8": {
      "model_module": "@jupyter-widgets/base",
      "model_module_version": "1.2.0",
      "model_name": "LayoutModel",
      "state": {
       "display": "flex",
       "flex_flow": "row wrap"
      }
     },
     "d16216f4658b4081b80e50b035e9a2e7": {
      "model_module": "@jupyter-widgets/controls",
      "model_module_version": "1.5.0",
      "model_name": "HBoxModel",
      "state": {
       "children": [
        "IPY_MODEL_826576cbdc40470298a0b07b9407604e",
        "IPY_MODEL_2a332f7509b14ee3b6cc33c4aaab789c",
        "IPY_MODEL_5ff9f501185543898d79801cd0ea1572",
        "IPY_MODEL_5608b0c6ec4d46ac90f25edfeb5e7bff"
       ],
       "layout": "IPY_MODEL_a66c89a5087640289c0ea2db25631190"
      }
     },
     "d1ff95cd00f94e29b8c1d6553423409c": {
      "model_module": "@jupyter-widgets/controls",
      "model_module_version": "1.5.0",
      "model_name": "IntProgressModel",
      "state": {
       "layout": "IPY_MODEL_c66b0f43ddb24098bc02f8e4f3135e96",
       "max": 25,
       "style": "IPY_MODEL_1931e5fa3b97433a95046234ca86a9a6",
       "value": 16
      }
     },
     "d2ced584602d470183fde700bd63e652": {
      "model_module": "@jupyter-widgets/controls",
      "model_module_version": "1.5.0",
      "model_name": "ButtonModel",
      "state": {
       "description": "EDIT",
       "layout": "IPY_MODEL_7b582e35cd6841519a456f6988b6d37d",
       "style": "IPY_MODEL_911aa8eca9db485782c5af1086cfc1d0"
      }
     },
     "d2f872a69c3846468c72c6a6cbe2f91a": {
      "model_module": "@jupyter-widgets/base",
      "model_module_version": "1.2.0",
      "model_name": "LayoutModel",
      "state": {
       "height": "32px",
       "overflow": "visible",
       "width": "100%"
      }
     },
     "d30b2870db344a0bbd1c1bfa61e145e0": {
      "model_module": "@jupyter-widgets/base",
      "model_module_version": "1.2.0",
      "model_name": "LayoutModel",
      "state": {
       "border": "2px solid #00bcd4",
       "width": "98%"
      }
     },
     "d3166ab75a114c85977a6d86ea19d59f": {
      "model_module": "@jupyter-widgets/controls",
      "model_module_version": "1.5.0",
      "model_name": "LabelModel",
      "state": {
       "layout": "IPY_MODEL_8dae31f5a5424b099def6e7ed8a9b473",
       "style": "IPY_MODEL_0e8f29d1882445f68df71d08223c612f",
       "value": "   objective"
      }
     },
     "d325211cf03045eca05dde0856d3d0ee": {
      "model_module": "@jupyter-widgets/base",
      "model_module_version": "1.2.0",
      "model_name": "LayoutModel",
      "state": {
       "order": "-1",
       "overflow": "visible",
       "padding": "1px",
       "width": "0px"
      }
     },
     "d3487ccb52944de295668ad418594dbb": {
      "model_module": "@jupyter-widgets/controls",
      "model_module_version": "1.5.0",
      "model_name": "ButtonStyleModel",
      "state": {}
     },
     "d34cda2cb21047efb50e7e6f3afc7e84": {
      "model_module": "@jupyter-widgets/controls",
      "model_module_version": "1.5.0",
      "model_name": "DescriptionStyleModel",
      "state": {
       "description_width": ""
      }
     },
     "d393c74ec9154182ac41017667d1f566": {
      "model_module": "@jupyter-widgets/controls",
      "model_module_version": "1.5.0",
      "model_name": "ProgressStyleModel",
      "state": {
       "description_width": ""
      }
     },
     "d39a2c1caad840f99d0a3dd343c2cdd7": {
      "model_module": "@jupyter-widgets/base",
      "model_module_version": "1.2.0",
      "model_name": "LayoutModel",
      "state": {
       "display": "flex"
      }
     },
     "d3a33d58dbe84da3a30021592a1f98a9": {
      "model_module": "@jupyter-widgets/controls",
      "model_module_version": "1.5.0",
      "model_name": "LabelModel",
      "state": {
       "layout": "IPY_MODEL_dbd7c889cf1f47da9b6f68fb79598817",
       "style": "IPY_MODEL_09c8710cf86b48858c64a599fbcb5774",
       "value": "   objective"
      }
     },
     "d3c068f1ddaa471da1185f23b90b2726": {
      "model_module": "@jupyter-widgets/base",
      "model_module_version": "1.2.0",
      "model_name": "LayoutModel",
      "state": {}
     },
     "d3e549ccf82b4b04bdf0d34514a4d817": {
      "model_module": "@jupyter-widgets/controls",
      "model_module_version": "1.5.0",
      "model_name": "HBoxModel",
      "state": {
       "children": [
        "IPY_MODEL_653e52bcd9d942e9863208b314cbab27",
        "IPY_MODEL_41c0e2f3b0054f32a8bec3d44e13ac51",
        "IPY_MODEL_a24010fdf54e4c068b9b6264b7020262",
        "IPY_MODEL_8299442b87d0418cbd906b38ce7502cf"
       ],
       "layout": "IPY_MODEL_574e434803364e24b509a19f483537ba"
      }
     },
     "d43832f363a7432e8feb654f16155d0c": {
      "model_module": "@jupyter-widgets/controls",
      "model_module_version": "1.5.0",
      "model_name": "VBoxModel",
      "state": {
       "children": [
        "IPY_MODEL_9533d8df7d6c471199360cdb579fc726",
        "IPY_MODEL_b5cc597463c34612b32d81ba2b0464d7",
        "IPY_MODEL_4b146e455eae4aba8cddf6d0d4611b9c"
       ],
       "layout": "IPY_MODEL_b0ff9b9d6ca642ee838430173cad946c"
      }
     },
     "d459652b32be4de580a44abccf4da254": {
      "model_module": "@jupyter-widgets/controls",
      "model_module_version": "1.5.0",
      "model_name": "ButtonStyleModel",
      "state": {}
     },
     "d48994bcaf7c4ba4b7ee97dc08a4b793": {
      "model_module": "@jupyter-widgets/controls",
      "model_module_version": "1.5.0",
      "model_name": "DescriptionStyleModel",
      "state": {
       "description_width": ""
      }
     },
     "d490e1334829420db6f993c8e7b47fc7": {
      "model_module": "@jupyter-widgets/base",
      "model_module_version": "1.2.0",
      "model_name": "LayoutModel",
      "state": {
       "order": "-1",
       "overflow": "visible",
       "padding": "1px",
       "width": "0px"
      }
     },
     "d4b1ebf316604b469b487f1c5405083a": {
      "model_module": "@jupyter-widgets/base",
      "model_module_version": "1.2.0",
      "model_name": "LayoutModel",
      "state": {
       "order": "-1",
       "overflow": "visible",
       "padding": "1px",
       "width": "0px"
      }
     },
     "d4dffc4ba45441cab025e8b652ec8dff": {
      "model_module": "@jupyter-widgets/controls",
      "model_module_version": "1.5.0",
      "model_name": "HBoxModel",
      "state": {
       "children": [
        "IPY_MODEL_d089261123364f7da8e1c42bdc9ac683",
        "IPY_MODEL_502666bcb40040f59307f450e82b9ea1",
        "IPY_MODEL_5f0436df931b487c88a1dfe230f0c082",
        "IPY_MODEL_0dd321627da44c4d8c384ee3f5952fc8"
       ],
       "layout": "IPY_MODEL_3d038a20826a4b7dbb3b17151cbaa372"
      }
     },
     "d526ac562e8a4004a175de238ad42625": {
      "model_module": "@jupyter-widgets/base",
      "model_module_version": "1.2.0",
      "model_name": "LayoutModel",
      "state": {
       "order": "-1",
       "overflow": "visible",
       "padding": "1px",
       "width": "0px"
      }
     },
     "d543a19eb7a74b89abd9ac6abd5b60f7": {
      "model_module": "@jupyter-widgets/base",
      "model_module_version": "1.2.0",
      "model_name": "LayoutModel",
      "state": {
       "height": "32px",
       "order": "-2",
       "width": "32px"
      }
     },
     "d5515c4ffa0e42588b663603651f27bf": {
      "model_module": "@jupyter-widgets/base",
      "model_module_version": "1.2.0",
      "model_name": "LayoutModel",
      "state": {
       "height": "32px",
       "order": "-2",
       "width": "32px"
      }
     },
     "d5639c8201444ad39ddcdfbcaa180980": {
      "model_module": "@jupyter-widgets/base",
      "model_module_version": "1.2.0",
      "model_name": "LayoutModel",
      "state": {
       "order": "-1",
       "overflow": "visible",
       "padding": "1px",
       "width": "0px"
      }
     },
     "d58c87d7542a4c44b4e5305a7fc8486c": {
      "model_module": "@jupyter-widgets/base",
      "model_module_version": "1.2.0",
      "model_name": "LayoutModel",
      "state": {}
     },
     "d5b23c87049040db8838d94e9578a67b": {
      "model_module": "@jupyter-widgets/controls",
      "model_module_version": "1.5.0",
      "model_name": "ButtonModel",
      "state": {
       "layout": "IPY_MODEL_55d72798a76f40e79742fbdf2e89105c",
       "style": "IPY_MODEL_6e3171ed27a144b49a7d6dc202617bca"
      }
     },
     "d61affd8def6491ba80704ef86c47abe": {
      "model_module": "@jupyter-widgets/controls",
      "model_module_version": "1.5.0",
      "model_name": "ButtonStyleModel",
      "state": {}
     },
     "d68fc238f3ba43018d3cbae63d5bdab5": {
      "model_module": "@jupyter-widgets/controls",
      "model_module_version": "1.5.0",
      "model_name": "DescriptionStyleModel",
      "state": {
       "description_width": ""
      }
     },
     "d69e09497e484292b33f814fd8adaf2f": {
      "model_module": "@jupyter-widgets/controls",
      "model_module_version": "1.5.0",
      "model_name": "ButtonStyleModel",
      "state": {}
     },
     "d6b5314ab75c41c08f1fb7e8369af56e": {
      "model_module": "@jupyter-widgets/base",
      "model_module_version": "1.2.0",
      "model_name": "LayoutModel",
      "state": {
       "overflow": "visible",
       "width": "100%"
      }
     },
     "d71690f0d25f4caa81505e9196848b23": {
      "model_module": "@jupyter-widgets/controls",
      "model_module_version": "1.5.0",
      "model_name": "DescriptionStyleModel",
      "state": {
       "description_width": ""
      }
     },
     "d737e6c3c0c342c6bd46c22bf3ff540b": {
      "model_module": "@jupyter-widgets/controls",
      "model_module_version": "1.5.0",
      "model_name": "ProgressStyleModel",
      "state": {
       "description_width": ""
      }
     },
     "d749057f8647401d8090a373746aba61": {
      "model_module": "@jupyter-widgets/base",
      "model_module_version": "1.2.0",
      "model_name": "LayoutModel",
      "state": {
       "display": "none"
      }
     },
     "d74e5f41f8364b66ba83127bba133759": {
      "model_module": "@jupyter-widgets/controls",
      "model_module_version": "1.5.0",
      "model_name": "VBoxModel",
      "state": {
       "children": [
        "IPY_MODEL_ebad8d25b93e49ba8ca4299e62317738",
        "IPY_MODEL_c81b0af97f0041fe8b9d10d629881863",
        "IPY_MODEL_bf50cf2937a74db2a70709fb494e5cd6",
        "IPY_MODEL_f01bc74609ff4a0aa1dcc1a3ce6618f7"
       ],
       "layout": "IPY_MODEL_4d52dba911a14bd689dc484bbe607f52"
      }
     },
     "d753c5b154a34bc39cdc51e98dbf29bf": {
      "model_module": "@jupyter-widgets/controls",
      "model_module_version": "1.5.0",
      "model_name": "VBoxModel",
      "state": {
       "children": [
        "IPY_MODEL_6f07d86225df4155b7d6671682cd5172",
        "IPY_MODEL_d3e549ccf82b4b04bdf0d34514a4d817",
        "IPY_MODEL_d9ec11fce78e4459b93590976dd438c5",
        "IPY_MODEL_6920a40ccdcf4a86b3a388b81c252648",
        "IPY_MODEL_61a32eaf2f8c4536aa1423643da9a660",
        "IPY_MODEL_4eb368f9a9c2400c918a699bdc34f75c"
       ],
       "layout": "IPY_MODEL_4c10aaa0eba9490cb6c9f33459bfdcc8"
      }
     },
     "d77233461f6446679370abe7e3cb1744": {
      "model_module": "@jupyter-widgets/controls",
      "model_module_version": "1.5.0",
      "model_name": "DropdownModel",
      "state": {
       "_options_labels": [
        "Any"
       ],
       "index": 0,
       "layout": "IPY_MODEL_90e814629dff4ab0b86cdbeedd1b626d",
       "style": "IPY_MODEL_50ff47b6be03443aa3896913e17065af"
      }
     },
     "d7a184dff8d34d83926b556445e93762": {
      "model_module": "@jupyter-widgets/controls",
      "model_module_version": "1.5.0",
      "model_name": "ButtonModel",
      "state": {
       "description": "EDIT",
       "layout": "IPY_MODEL_f4938c74b42f48e197d758c6657d284d",
       "style": "IPY_MODEL_825f9156cd9246619092e79c5b673ff3"
      }
     },
     "d7b8bb6baae747efa967a02424463f68": {
      "model_module": "@jupyter-widgets/base",
      "model_module_version": "1.2.0",
      "model_name": "LayoutModel",
      "state": {
       "display": "none",
       "width": "60px"
      }
     },
     "d7bc896845c94dbf9ab401348d6397e2": {
      "model_module": "@jupyter-widgets/controls",
      "model_module_version": "1.5.0",
      "model_name": "HBoxModel",
      "state": {
       "children": [
        "IPY_MODEL_af2e96ba2eba4ccca27f11e0568908b6",
        "IPY_MODEL_e61e44c15f0f4b01a429102e6bbcf135",
        "IPY_MODEL_0c36daf550324d9b939618010d5a1a0d",
        "IPY_MODEL_070ba93c7b46456ca802c47569a325aa"
       ],
       "layout": "IPY_MODEL_1d1972dbee034965a79b3b7922aea526"
      }
     },
     "d7db330fb3d54c7ba4219b7fbcb3778b": {
      "model_module": "@jupyter-widgets/controls",
      "model_module_version": "1.5.0",
      "model_name": "ProgressStyleModel",
      "state": {
       "description_width": ""
      }
     },
     "d82b58efbcc44fbaa387bbcc98c2920c": {
      "model_module": "@jupyter-widgets/controls",
      "model_module_version": "1.5.0",
      "model_name": "IntProgressModel",
      "state": {
       "bar_style": "success",
       "layout": "IPY_MODEL_555d202bf7de450b820d55d3200acacb",
       "max": 1,
       "style": "IPY_MODEL_d7db330fb3d54c7ba4219b7fbcb3778b",
       "value": 1
      }
     },
     "d82e2e108a724b0c9418fc6fe23bfae1": {
      "model_module": "@jupyter-widgets/base",
      "model_module_version": "1.2.0",
      "model_name": "LayoutModel",
      "state": {
       "order": "-1",
       "overflow": "visible",
       "padding": "1px",
       "width": "0px"
      }
     },
     "d83a3914a56041f5a4ab985f6869b948": {
      "model_module": "@jupyter-widgets/controls",
      "model_module_version": "1.5.0",
      "model_name": "IntProgressModel",
      "state": {
       "bar_style": "success",
       "layout": "IPY_MODEL_be538b9f2232489aa5769dfc4ad3deb6",
       "max": 1,
       "style": "IPY_MODEL_33af044d024e47c19148d9baad3e5c2c",
       "value": 1
      }
     },
     "d8674cf79e64444fbe703678df760e5d": {
      "model_module": "@jupyter-widgets/base",
      "model_module_version": "1.2.0",
      "model_name": "LayoutModel",
      "state": {
       "display": "none"
      }
     },
     "d8a4cf227aee4f6a88bb359009165044": {
      "model_module": "@jupyter-widgets/controls",
      "model_module_version": "1.5.0",
      "model_name": "ButtonStyleModel",
      "state": {}
     },
     "d8c60a5051ce43cc9d3feae9856fde79": {
      "model_module": "@jupyter-widgets/controls",
      "model_module_version": "1.5.0",
      "model_name": "HTMLModel",
      "state": {
       "layout": "IPY_MODEL_733b63ad31024be4aeb0e8840bb53211",
       "style": "IPY_MODEL_f8df61cc90b8403ea788bd5f7190b905",
       "value": "<font size=\"1\">Triumphs/Crucible/Medals/Gametypes/Reclaimer</font size=>"
      }
     },
     "d8ef2559a2744e1683a8cca68a7c8a36": {
      "model_module": "@jupyter-widgets/base",
      "model_module_version": "1.2.0",
      "model_name": "LayoutModel",
      "state": {
       "height": "32px",
       "order": "-2",
       "width": "32px"
      }
     },
     "d8f11f83eae34066ae99a7665afc4962": {
      "model_module": "@jupyter-widgets/base",
      "model_module_version": "1.2.0",
      "model_name": "LayoutModel",
      "state": {
       "display": "none"
      }
     },
     "d901aa7ee130489d8e34bec9a0546cb6": {
      "model_module": "@jupyter-widgets/base",
      "model_module_version": "1.2.0",
      "model_name": "LayoutModel",
      "state": {
       "display": "none",
       "width": "60px"
      }
     },
     "d9081c5e8b66487e961a733cdf5e83c6": {
      "model_module": "@jupyter-widgets/base",
      "model_module_version": "1.2.0",
      "model_name": "LayoutModel",
      "state": {
       "height": "32px",
       "overflow": "visible",
       "width": "100%"
      }
     },
     "d971d9e4fe344d88bf19e24f5ddfa06d": {
      "model_module": "@jupyter-widgets/base",
      "model_module_version": "1.2.0",
      "model_name": "LayoutModel",
      "state": {
       "border": "3px solid white",
       "display": "flex",
       "flex": "1 1 0%",
       "margin": "10px",
       "min_width": "400px",
       "overflow": "visible",
       "padding": "10px",
       "width": "auto"
      }
     },
     "d97de05d13d4435b98bf4ccda7c39ea6": {
      "model_module": "@jupyter-widgets/controls",
      "model_module_version": "1.5.0",
      "model_name": "LabelModel",
      "state": {
       "layout": "IPY_MODEL_988f5997824d449caa7d0533cda114be",
       "style": "IPY_MODEL_a30a8b8e7ed049eca80893d4465772a9",
       "value": "   objective"
      }
     },
     "d999aa34a1b14be9914bd6de88fff498": {
      "model_module": "@jupyter-widgets/controls",
      "model_module_version": "1.5.0",
      "model_name": "HBoxModel",
      "state": {
       "children": [
        "IPY_MODEL_451bf5d910e54ab7bb3669d2f27917be",
        "IPY_MODEL_e6c97934be0c4fbdacec7b1844015544",
        "IPY_MODEL_4c4d91f766d24194afe5d202af4428d5",
        "IPY_MODEL_e210474a56ed4234b08d77e024d6bb22"
       ],
       "layout": "IPY_MODEL_c5574cc3d8c843a48c85c4a9e7c5efee"
      }
     },
     "d99c14d69dd3419e8b62a2c68befda86": {
      "model_module": "@jupyter-widgets/controls",
      "model_module_version": "1.5.0",
      "model_name": "LabelModel",
      "state": {
       "layout": "IPY_MODEL_13466b15b00d438891f9cba8c9a033da",
       "style": "IPY_MODEL_b828d902a9814920b8d3021b1306fb98",
       "value": "    Weekly challenges (8/7)"
      }
     },
     "d9c73dab49474fad82e526c6b7a87e34": {
      "model_module": "@jupyter-widgets/base",
      "model_module_version": "1.2.0",
      "model_name": "LayoutModel",
      "state": {
       "height": "32px",
       "overflow": "visible",
       "width": "100%"
      }
     },
     "d9da9cf0425e4825a88cc8fa296db668": {
      "model_module": "@jupyter-widgets/controls",
      "model_module_version": "1.5.0",
      "model_name": "ButtonModel",
      "state": {
       "layout": "IPY_MODEL_0ea04a61c32a45658a1035107a4533cc",
       "style": "IPY_MODEL_b8cbfff3a270415e87ef411595217379"
      }
     },
     "d9e62ca3c300482282cc6a0a66313e61": {
      "model_module": "@jupyter-widgets/base",
      "model_module_version": "1.2.0",
      "model_name": "LayoutModel",
      "state": {
       "display": "flex",
       "flex_flow": "row wrap"
      }
     },
     "d9ec11fce78e4459b93590976dd438c5": {
      "model_module": "@jupyter-widgets/controls",
      "model_module_version": "1.5.0",
      "model_name": "HBoxModel",
      "state": {
       "children": [
        "IPY_MODEL_9804f5ebe4244ece9fb67e2cba912a89",
        "IPY_MODEL_3637d40803694ddca9e302b868548114",
        "IPY_MODEL_c50cb4a141504d268c9034e7b55a8da0",
        "IPY_MODEL_887edc8e1021483482e75e2208c30c40"
       ],
       "layout": "IPY_MODEL_ef70814dc58e4438b5d10709a51f8d88"
      }
     },
     "da20b4b69fb447c98d3a54258cebe929": {
      "model_module": "@jupyter-widgets/controls",
      "model_module_version": "1.5.0",
      "model_name": "DescriptionStyleModel",
      "state": {
       "description_width": ""
      }
     },
     "da431141a1f1414788f5f19ff0ba64dc": {
      "model_module": "@jupyter-widgets/controls",
      "model_module_version": "1.5.0",
      "model_name": "LabelModel",
      "state": {
       "layout": "IPY_MODEL_682183b1cb9d4872898428d043147c74",
       "style": "IPY_MODEL_ff8965a4ca7a48fa9caf4e3009fb8582",
       "value": "    Medals earned (2/1)"
      }
     },
     "da7364f2e9e6463cbff9543326cc6922": {
      "model_module": "@jupyter-widgets/controls",
      "model_module_version": "1.5.0",
      "model_name": "LabelModel",
      "state": {
       "layout": "IPY_MODEL_4e8d9277a0b948ae9f404062c2d361d3",
       "style": "IPY_MODEL_3b641eaddb234d0786c0ea9fd10f7b51",
       "value": "   objective"
      }
     },
     "da7bdfad6cab4f339fa2ccbd7f8420b5": {
      "model_module": "@jupyter-widgets/controls",
      "model_module_version": "1.5.0",
      "model_name": "ButtonStyleModel",
      "state": {}
     },
     "da8da65f483a4a609da3f4bdec18e63e": {
      "model_module": "@jupyter-widgets/controls",
      "model_module_version": "1.5.0",
      "model_name": "DescriptionStyleModel",
      "state": {
       "description_width": ""
      }
     },
     "da8e0c638b1947258da0f12187727b40": {
      "model_module": "@jupyter-widgets/controls",
      "model_module_version": "1.5.0",
      "model_name": "ButtonStyleModel",
      "state": {}
     },
     "dac9f67ec9624740bf5ecf4349bec839": {
      "model_module": "@jupyter-widgets/controls",
      "model_module_version": "1.5.0",
      "model_name": "ProgressStyleModel",
      "state": {
       "description_width": ""
      }
     },
     "dae678ad0052489a8ddb3629236cfe2f": {
      "model_module": "@jupyter-widgets/base",
      "model_module_version": "1.2.0",
      "model_name": "LayoutModel",
      "state": {
       "display": "none",
       "width": "60px"
      }
     },
     "db06a906972e4de3bc991af99356bf65": {
      "model_module": "@jupyter-widgets/base",
      "model_module_version": "1.2.0",
      "model_name": "LayoutModel",
      "state": {
       "height": "32px",
       "order": "-2",
       "width": "32px"
      }
     },
     "db0ccfb9e63d4cadaa79aed7218cd275": {
      "model_module": "@jupyter-widgets/controls",
      "model_module_version": "1.5.0",
      "model_name": "HBoxModel",
      "state": {
       "children": [
        "IPY_MODEL_102567f3f1204015bebbde75089a1d5d",
        "IPY_MODEL_54763f4b13d44ef8be96a8c8ad5361dd",
        "IPY_MODEL_d99c14d69dd3419e8b62a2c68befda86",
        "IPY_MODEL_92ed1d9589b74e74b01d1756e34fc113"
       ],
       "layout": "IPY_MODEL_5f1f09741b314d5e954498ff5323de3c"
      }
     },
     "db10c22fbe504e9a891f3f9c61bab06c": {
      "model_module": "@jupyter-widgets/base",
      "model_module_version": "1.2.0",
      "model_name": "LayoutModel",
      "state": {
       "border": "3px solid white",
       "display": "flex",
       "flex": "1 1 0%",
       "margin": "10px",
       "min_width": "400px",
       "overflow": "visible",
       "padding": "10px",
       "width": "auto"
      }
     },
     "db13f3fefdf4404fa06eb621bcbf4efa": {
      "model_module": "@jupyter-widgets/controls",
      "model_module_version": "1.5.0",
      "model_name": "ProgressStyleModel",
      "state": {
       "description_width": ""
      }
     },
     "db433b8373b14295ab721b1133d35ddf": {
      "model_module": "@jupyter-widgets/base",
      "model_module_version": "1.2.0",
      "model_name": "LayoutModel",
      "state": {
       "overflow": "visible",
       "width": "100%"
      }
     },
     "db58509962a349eb9d9e7c65d60e95d2": {
      "model_module": "@jupyter-widgets/controls",
      "model_module_version": "1.5.0",
      "model_name": "IntProgressModel",
      "state": {
       "layout": "IPY_MODEL_e4a9f449e6e24558a6cfa0c1693dc82f",
       "style": "IPY_MODEL_0c7c25cf699c40f6819e835248585543",
       "value": 30
      }
     },
     "db63fb0266314aac9146df8988f3d179": {
      "model_module": "@jupyter-widgets/controls",
      "model_module_version": "1.5.0",
      "model_name": "ProgressStyleModel",
      "state": {
       "description_width": ""
      }
     },
     "db6b7b6acfaa4bcfa616b45551e1fbec": {
      "model_module": "@jupyter-widgets/base",
      "model_module_version": "1.2.0",
      "model_name": "LayoutModel",
      "state": {
       "order": "-1",
       "overflow": "visible",
       "padding": "1px",
       "width": "0px"
      }
     },
     "dbad4172db4f405694a095bdc6959fb5": {
      "model_module": "@jupyter-widgets/controls",
      "model_module_version": "1.5.0",
      "model_name": "HBoxModel",
      "state": {
       "children": [
        "IPY_MODEL_4fc49d2d95b645f4b85b5d8f663e0b64",
        "IPY_MODEL_f9d7b1bc3f7940809743ccbf31681a10",
        "IPY_MODEL_19283f270bfe45d29752363e6f49bd9f",
        "IPY_MODEL_e52961f1ceb74b5f8a6a4a14e9d2a6e8"
       ],
       "layout": "IPY_MODEL_3b1543700b49487f8f408f9283cee80a"
      }
     },
     "dbd7c889cf1f47da9b6f68fb79598817": {
      "model_module": "@jupyter-widgets/base",
      "model_module_version": "1.2.0",
      "model_name": "LayoutModel",
      "state": {
       "order": "-1",
       "overflow": "visible",
       "padding": "1px",
       "width": "0px"
      }
     },
     "dbd9d5ab4644444c93a694582d6c6145": {
      "model_module": "@jupyter-widgets/base",
      "model_module_version": "1.2.0",
      "model_name": "LayoutModel",
      "state": {
       "display": "none",
       "width": "60px"
      }
     },
     "dbec758aeec940d8bdb016e2f8056d88": {
      "model_module": "@jupyter-widgets/base",
      "model_module_version": "1.2.0",
      "model_name": "LayoutModel",
      "state": {
       "display": "none",
       "width": "60px"
      }
     },
     "dc0412f3b88542f9ba243240215b3283": {
      "model_module": "@jupyter-widgets/base",
      "model_module_version": "1.2.0",
      "model_name": "LayoutModel",
      "state": {
       "order": "-1",
       "overflow": "visible",
       "padding": "1px",
       "width": "0px"
      }
     },
     "dc0d2de2871b4caa9f4d81198e3afb08": {
      "model_module": "@jupyter-widgets/controls",
      "model_module_version": "1.5.0",
      "model_name": "HBoxModel",
      "state": {
       "children": [
        "IPY_MODEL_b8ee1cc566d7434dbb32de0872d4b74a",
        "IPY_MODEL_814521bf208244188b400fa794d12b59",
        "IPY_MODEL_90c1645ea9d440f28426f14a2014e526",
        "IPY_MODEL_8c3b790dde264e7397c8714b2f5b88da"
       ],
       "layout": "IPY_MODEL_2e7c486d5f6946019dd5956b73e2c11d"
      }
     },
     "dc2e4b1dc7ed46549679d074ec64889a": {
      "model_module": "@jupyter-widgets/controls",
      "model_module_version": "1.5.0",
      "model_name": "VBoxModel",
      "state": {
       "children": [
        "IPY_MODEL_cf1a8f316c9f4fc9bd4859b7effd5684",
        "IPY_MODEL_67db5b0a66d6471e81165c9ad09568cc",
        "IPY_MODEL_fa01090b49204bd9882a13a5deb99be4",
        "IPY_MODEL_1e92ca0e72ee4845a37899f3715aa61a"
       ],
       "layout": "IPY_MODEL_3f76c1041e5b4c8f8e87929decc5c5f1"
      }
     },
     "dc44d8e06c204365a3d5a15c221d104c": {
      "model_module": "@jupyter-widgets/base",
      "model_module_version": "1.2.0",
      "model_name": "LayoutModel",
      "state": {}
     },
     "dca2a987c494447098f2b64b99bee73e": {
      "model_module": "@jupyter-widgets/controls",
      "model_module_version": "1.5.0",
      "model_name": "DescriptionStyleModel",
      "state": {
       "description_width": ""
      }
     },
     "dccfc651374442dab36def43d3a77f29": {
      "model_module": "@jupyter-widgets/base",
      "model_module_version": "1.2.0",
      "model_name": "LayoutModel",
      "state": {
       "height": "32px",
       "overflow": "visible",
       "width": "100%"
      }
     },
     "dcedf6075bce4ccebb0321f2be89bd8a": {
      "model_module": "@jupyter-widgets/controls",
      "model_module_version": "1.5.0",
      "model_name": "DescriptionStyleModel",
      "state": {
       "description_width": ""
      }
     },
     "dcf566e87dd5464db804bba6184cf975": {
      "model_module": "@jupyter-widgets/controls",
      "model_module_version": "1.5.0",
      "model_name": "LabelModel",
      "state": {
       "layout": "IPY_MODEL_79e6ef11be9e41dab51a8f2061d57302",
       "style": "IPY_MODEL_2a08ced812ce449889e962c225b35b1b",
       "value": "    Opponents defeated (79/50)"
      }
     },
     "dd6912dfde604b6b82db99f64ebfe604": {
      "model_module": "@jupyter-widgets/controls",
      "model_module_version": "1.5.0",
      "model_name": "IntProgressModel",
      "state": {
       "bar_style": "success",
       "layout": "IPY_MODEL_e38b9e95f777497286a073d650e603a6",
       "max": 25,
       "style": "IPY_MODEL_34e493e470d94f56b009fc0455072590",
       "value": 25
      }
     },
     "dd8dbfe303154363978fbc5e8962145d": {
      "model_module": "@jupyter-widgets/base",
      "model_module_version": "1.2.0",
      "model_name": "LayoutModel",
      "state": {
       "height": "32px",
       "overflow": "visible",
       "width": "100%"
      }
     },
     "de1640cdf7b44d56af08f22975afae17": {
      "model_module": "@jupyter-widgets/base",
      "model_module_version": "1.2.0",
      "model_name": "LayoutModel",
      "state": {
       "order": "-1",
       "overflow": "visible",
       "padding": "1px",
       "width": "0px"
      }
     },
     "de20aa57847f4f67829e93d2e800a3f8": {
      "model_module": "@jupyter-widgets/controls",
      "model_module_version": "1.5.0",
      "model_name": "DescriptionStyleModel",
      "state": {
       "description_width": ""
      }
     },
     "de60b722575b4ece8ca31b5ffda57b25": {
      "model_module": "@jupyter-widgets/controls",
      "model_module_version": "1.5.0",
      "model_name": "DescriptionStyleModel",
      "state": {
       "description_width": ""
      }
     },
     "de65e91b2ed940de813e96e563a1e5c7": {
      "model_module": "@jupyter-widgets/controls",
      "model_module_version": "1.5.0",
      "model_name": "DropdownModel",
      "state": {
       "_options_labels": [
        "Any",
        "Hand Cannon",
        "Auto Rifle",
        "Scout Rifle",
        "Pulse Rifle",
        "Sidearm",
        "Submachine Gun",
        "Combt Bow",
        "Sniper Rifle",
        "Shotgun"
       ],
       "index": 0,
       "layout": "IPY_MODEL_90e814629dff4ab0b86cdbeedd1b626d",
       "style": "IPY_MODEL_eb0f50acd60b4eac8e6d4638ca17add9"
      }
     },
     "de95c6cf95004a99a15bbc16a0467d3d": {
      "model_module": "@jupyter-widgets/controls",
      "model_module_version": "1.5.0",
      "model_name": "ButtonStyleModel",
      "state": {}
     },
     "de95e01f3f454a22a98cb9e7e7149a93": {
      "model_module": "@jupyter-widgets/base",
      "model_module_version": "1.2.0",
      "model_name": "LayoutModel",
      "state": {}
     },
     "dec6035fad9249c6b4c6d2d47f1d0372": {
      "model_module": "@jupyter-widgets/base",
      "model_module_version": "1.2.0",
      "model_name": "LayoutModel",
      "state": {
       "height": "32px",
       "order": "-2",
       "width": "32px"
      }
     },
     "df2e5074e7fc48e38bb9c2d401c17ef7": {
      "model_module": "@jupyter-widgets/controls",
      "model_module_version": "1.5.0",
      "model_name": "ButtonModel",
      "state": {
       "description": "EDIT",
       "layout": "IPY_MODEL_2cce6bc2134b4c80b258008e41bf8f7c",
       "style": "IPY_MODEL_9b17d3aee70b4f7eb4379fd822d40e34"
      }
     },
     "df5b45add0dc4301b37bddd396dfbfa4": {
      "model_module": "@jupyter-widgets/controls",
      "model_module_version": "1.5.0",
      "model_name": "ButtonStyleModel",
      "state": {}
     },
     "df642a01e3d547d280df2e196c4c358b": {
      "model_module": "@jupyter-widgets/controls",
      "model_module_version": "1.5.0",
      "model_name": "ButtonModel",
      "state": {
       "description": "EDIT",
       "layout": "IPY_MODEL_30d1d1de8b144cb199ba75dd63bd7746",
       "style": "IPY_MODEL_a33600c2c0d641b7af1a67956e389c4e"
      }
     },
     "df782c95d2944b4faa093f5ef3ccbb53": {
      "model_module": "@jupyter-widgets/controls",
      "model_module_version": "1.5.0",
      "model_name": "DescriptionStyleModel",
      "state": {
       "description_width": ""
      }
     },
     "df7d92d3d43d4489b2d4bdc2a5d80312": {
      "model_module": "@jupyter-widgets/controls",
      "model_module_version": "1.5.0",
      "model_name": "DescriptionStyleModel",
      "state": {
       "description_width": ""
      }
     },
     "dfa7965d81754cf1a51d9cc4ff4bd64b": {
      "model_module": "@jupyter-widgets/controls",
      "model_module_version": "1.5.0",
      "model_name": "IntProgressModel",
      "state": {
       "bar_style": "success",
       "layout": "IPY_MODEL_dd8dbfe303154363978fbc5e8962145d",
       "max": 1,
       "style": "IPY_MODEL_d393c74ec9154182ac41017667d1f566",
       "value": 1
      }
     },
     "dfc72b19dfa942eb879d80a936cdcedb": {
      "model_module": "@jupyter-widgets/controls",
      "model_module_version": "1.5.0",
      "model_name": "ButtonStyleModel",
      "state": {}
     },
     "dfee62f8ef884e9cbb6cd1be2ca5f91d": {
      "model_module": "@jupyter-widgets/base",
      "model_module_version": "1.2.0",
      "model_name": "LayoutModel",
      "state": {
       "order": "-1",
       "overflow": "visible",
       "padding": "1px",
       "width": "0px"
      }
     },
     "e00d6558b4cb4d44ab612bd451da5030": {
      "model_module": "@jupyter-widgets/controls",
      "model_module_version": "1.5.0",
      "model_name": "ButtonModel",
      "state": {
       "description": "EDIT",
       "layout": "IPY_MODEL_8d16db127f8846519ad3d2f8be0d919d",
       "style": "IPY_MODEL_e53a3c248209463a83ca10cdec92500f"
      }
     },
     "e00e83b575dc4640863425015270b17b": {
      "model_module": "@jupyter-widgets/controls",
      "model_module_version": "1.5.0",
      "model_name": "ButtonModel",
      "state": {
       "button_style": "success",
       "disabled": true,
       "layout": "IPY_MODEL_d543a19eb7a74b89abd9ac6abd5b60f7",
       "style": "IPY_MODEL_cd42453f1fe040b199c8b59f1c1b2f7e"
      }
     },
     "e02218c2062a4f8b99feeda086953f94": {
      "model_module": "@jupyter-widgets/base",
      "model_module_version": "1.2.0",
      "model_name": "LayoutModel",
      "state": {
       "overflow": "visible",
       "width": "100%"
      }
     },
     "e02534482f52475aae76699237fa3678": {
      "model_module": "@jupyter-widgets/controls",
      "model_module_version": "1.5.0",
      "model_name": "ButtonStyleModel",
      "state": {}
     },
     "e0548a2e58ca4e18b2784b6847cef378": {
      "model_module": "@jupyter-widgets/controls",
      "model_module_version": "1.5.0",
      "model_name": "ButtonStyleModel",
      "state": {}
     },
     "e09c8b5762e44ff19cc4365d809b9134": {
      "model_module": "@jupyter-widgets/base",
      "model_module_version": "1.2.0",
      "model_name": "LayoutModel",
      "state": {
       "height": "32px",
       "order": "-2",
       "width": "32px"
      }
     },
     "e0b6063a9d6741528dc13e9efcf876a5": {
      "model_module": "@jupyter-widgets/controls",
      "model_module_version": "1.5.0",
      "model_name": "LabelModel",
      "state": {
       "layout": "IPY_MODEL_2dae0e2ddace40aa9e9fa2999fcef639",
       "style": "IPY_MODEL_9beb5fe7ee624c5b9bdf89ba1a2facde",
       "value": "   objective"
      }
     },
     "e0c0114cb03f47f08ed4352fd694531b": {
      "model_module": "@jupyter-widgets/controls",
      "model_module_version": "1.5.0",
      "model_name": "ButtonStyleModel",
      "state": {}
     },
     "e0d68b472e584b5292663d2c6910051e": {
      "model_module": "@jupyter-widgets/controls",
      "model_module_version": "1.5.0",
      "model_name": "DescriptionStyleModel",
      "state": {
       "description_width": ""
      }
     },
     "e0d735fdea3346ddae14dbed9dc76859": {
      "model_module": "@jupyter-widgets/controls",
      "model_module_version": "1.5.0",
      "model_name": "ButtonStyleModel",
      "state": {}
     },
     "e1034c05ef6141e7b2d6448830cbc76d": {
      "model_module": "@jupyter-widgets/controls",
      "model_module_version": "1.5.0",
      "model_name": "LabelModel",
      "state": {
       "layout": "IPY_MODEL_9edf1782cce349b78c02a3efb3a526ab",
       "style": "IPY_MODEL_ec205b3e5f8e47aea3414359dfa7ad0f",
       "value": "   objective"
      }
     },
     "e10c37bfd0ab4f928e62c153574fcd74": {
      "model_module": "@jupyter-widgets/controls",
      "model_module_version": "1.5.0",
      "model_name": "ButtonStyleModel",
      "state": {}
     },
     "e1bdb894114d4c9aba7fcd392a8e9293": {
      "model_module": "@jupyter-widgets/controls",
      "model_module_version": "1.5.0",
      "model_name": "LabelModel",
      "state": {
       "layout": "IPY_MODEL_d325211cf03045eca05dde0856d3d0ee",
       "style": "IPY_MODEL_b73ebf4f6e014021b6fb78003868f2ff",
       "value": "   objective"
      }
     },
     "e1d2ff8d1eb94232ae1c87acf677000a": {
      "model_module": "@jupyter-widgets/base",
      "model_module_version": "1.2.0",
      "model_name": "LayoutModel",
      "state": {
       "height": "32px",
       "order": "-2",
       "width": "32px"
      }
     },
     "e1f492a514934303afd11aa155c5bdb8": {
      "model_module": "@jupyter-widgets/controls",
      "model_module_version": "1.5.0",
      "model_name": "IntProgressModel",
      "state": {
       "bar_style": "success",
       "layout": "IPY_MODEL_fcbad1e37403420883a5ca59385d2c78",
       "max": 25,
       "style": "IPY_MODEL_0fd61e3693c444e297ee0e1999018e70",
       "value": 25
      }
     },
     "e1f7be34ea3747f4bd914d2ee51d012a": {
      "model_module": "@jupyter-widgets/controls",
      "model_module_version": "1.5.0",
      "model_name": "ButtonStyleModel",
      "state": {}
     },
     "e210474a56ed4234b08d77e024d6bb22": {
      "model_module": "@jupyter-widgets/controls",
      "model_module_version": "1.5.0",
      "model_name": "ButtonModel",
      "state": {
       "description": "EDIT",
       "layout": "IPY_MODEL_950385c506c347be9ee83e4f09e3074b",
       "style": "IPY_MODEL_783146451da142a49f0aab0062f1d9bf"
      }
     },
     "e21c0eb3761d4ac2a8dd0c4f4691e2e2": {
      "model_module": "@jupyter-widgets/controls",
      "model_module_version": "1.5.0",
      "model_name": "ButtonModel",
      "state": {
       "layout": "IPY_MODEL_205f40a85f764baab87c1048fd5383dc",
       "style": "IPY_MODEL_890c44a6bf264691ba137f8cbcead911"
      }
     },
     "e239fd8fc1bf4033af2e35d525d09669": {
      "model_module": "@jupyter-widgets/controls",
      "model_module_version": "1.5.0",
      "model_name": "ButtonModel",
      "state": {
       "button_style": "success",
       "disabled": true,
       "layout": "IPY_MODEL_b2b12da7bc834985adf3c1805ee1c672",
       "style": "IPY_MODEL_cb69af56c3174b2b9e25c5e2495c8300"
      }
     },
     "e24e30c0650a45e7af485ffd3526ac07": {
      "model_module": "@jupyter-widgets/base",
      "model_module_version": "1.2.0",
      "model_name": "LayoutModel",
      "state": {
       "height": "32px",
       "order": "-2",
       "width": "32px"
      }
     },
     "e2e2dc2f4a1d4caf9b36d18a88c74532": {
      "model_module": "@jupyter-widgets/controls",
      "model_module_version": "1.5.0",
      "model_name": "ProgressStyleModel",
      "state": {
       "description_width": ""
      }
     },
     "e30e213db6e942b2ad393b50d3ce3012": {
      "model_module": "@jupyter-widgets/base",
      "model_module_version": "1.2.0",
      "model_name": "LayoutModel",
      "state": {
       "display": "none"
      }
     },
     "e338e91ef68c43da9527e2d12b6306a9": {
      "model_module": "@jupyter-widgets/controls",
      "model_module_version": "1.5.0",
      "model_name": "ButtonModel",
      "state": {
       "layout": "IPY_MODEL_9d07fba88e214d09a7f023002f15c6de",
       "style": "IPY_MODEL_4edc95b3bed448cb8233176ac8ec7840"
      }
     },
     "e34d2bcc994547918e8aaba88ae1105c": {
      "model_module": "@jupyter-widgets/controls",
      "model_module_version": "1.5.0",
      "model_name": "HTMLModel",
      "state": {
       "layout": "IPY_MODEL_ea3cd4246465447e95226465531bf472",
       "style": "IPY_MODEL_7c2ccfa387f645f0acf920942d6db7d8",
       "value": "<font size=\"5\"><b>Season 6: Valor</b></font size=>"
      }
     },
     "e3722306850b402ead0b5ff12268f482": {
      "model_module": "@jupyter-widgets/controls",
      "model_module_version": "1.5.0",
      "model_name": "IntProgressModel",
      "state": {
       "bar_style": "success",
       "layout": "IPY_MODEL_a9303ebd784d4088b21791757e6c505a",
       "max": 1,
       "style": "IPY_MODEL_c120f87f4bf8437e8002fc09f90f9b71",
       "value": 1
      }
     },
     "e374d62b79874f719221f2926ea153ed": {
      "model_module": "@jupyter-widgets/controls",
      "model_module_version": "1.5.0",
      "model_name": "ButtonModel",
      "state": {
       "description": "EDIT",
       "layout": "IPY_MODEL_75ab9cb65e814444bb0ec264139b06b4",
       "style": "IPY_MODEL_432a08192b414757929e8d5d22faeb91"
      }
     },
     "e37581b2136d46aba5021a4bd65cb582": {
      "model_module": "@jupyter-widgets/base",
      "model_module_version": "1.2.0",
      "model_name": "LayoutModel",
      "state": {
       "order": "-1",
       "overflow": "visible",
       "padding": "1px",
       "width": "0px"
      }
     },
     "e38b9e95f777497286a073d650e603a6": {
      "model_module": "@jupyter-widgets/base",
      "model_module_version": "1.2.0",
      "model_name": "LayoutModel",
      "state": {
       "height": "32px",
       "overflow": "visible",
       "width": "100%"
      }
     },
     "e3b1b28abe254b468964568b8eb2e0fd": {
      "model_module": "@jupyter-widgets/base",
      "model_module_version": "1.2.0",
      "model_name": "LayoutModel",
      "state": {
       "border": "3px solid white",
       "display": "flex",
       "flex": "1 1 0%",
       "margin": "10px",
       "min_width": "400px",
       "overflow": "visible",
       "padding": "10px",
       "width": "auto"
      }
     },
     "e3ba147ac7394e97a25e1f4ee55ca5ce": {
      "model_module": "@jupyter-widgets/base",
      "model_module_version": "1.2.0",
      "model_name": "LayoutModel",
      "state": {
       "display": "none",
       "width": "60px"
      }
     },
     "e3f4ca8cd13842e7934a99d9d0907b8d": {
      "model_module": "@jupyter-widgets/controls",
      "model_module_version": "1.5.0",
      "model_name": "HBoxModel",
      "state": {
       "children": [
        "IPY_MODEL_9b3b17d0e2e44f35917328c1aa64045a",
        "IPY_MODEL_bdfdca8a74f547298f10591902ee15a7",
        "IPY_MODEL_2c2f7b2a984248778c3c3dd01acd1f38",
        "IPY_MODEL_72fd99b106d04a7987157cf9a8023408"
       ],
       "layout": "IPY_MODEL_4cf5047730b0470f95b892bab0fe3711"
      }
     },
     "e3fed85c4cf245ff83eddc4c5051c7c2": {
      "model_module": "@jupyter-widgets/controls",
      "model_module_version": "1.5.0",
      "model_name": "ButtonStyleModel",
      "state": {}
     },
     "e40b9b67019f405383bc2bd21282bf1f": {
      "model_module": "@jupyter-widgets/controls",
      "model_module_version": "1.5.0",
      "model_name": "ButtonStyleModel",
      "state": {}
     },
     "e43a1ba5ce0f4fed81d48339ca91d7a8": {
      "model_module": "@jupyter-widgets/controls",
      "model_module_version": "1.5.0",
      "model_name": "ButtonStyleModel",
      "state": {}
     },
     "e45610bf4a95445ab316dc5a3318b3df": {
      "model_module": "@jupyter-widgets/controls",
      "model_module_version": "1.5.0",
      "model_name": "HBoxModel",
      "state": {
       "children": [
        "IPY_MODEL_e45a3780e9e6441bbdd8cecbd06b1621",
        "IPY_MODEL_8842090b22d2467f88874e58c9791093",
        "IPY_MODEL_7fae413c6a494fc08735a683ead8d941",
        "IPY_MODEL_b716d31f767d4747aa256f2fd7022529"
       ],
       "layout": "IPY_MODEL_5953d72ec3884a67a04bcdc9c743172e"
      }
     },
     "e45a3780e9e6441bbdd8cecbd06b1621": {
      "model_module": "@jupyter-widgets/controls",
      "model_module_version": "1.5.0",
      "model_name": "ButtonModel",
      "state": {
       "layout": "IPY_MODEL_6efd54a06d4243c9a8b7180b67239fe9",
       "style": "IPY_MODEL_fd5fc22579754846ab25a68831b2c3bd"
      }
     },
     "e46e95c7d5d34fafa0fa425f564ad7bf": {
      "model_module": "@jupyter-widgets/controls",
      "model_module_version": "1.5.0",
      "model_name": "ButtonStyleModel",
      "state": {}
     },
     "e4794eae0dca480caab34e5e66d7ea00": {
      "model_module": "@jupyter-widgets/controls",
      "model_module_version": "1.5.0",
      "model_name": "DescriptionStyleModel",
      "state": {
       "description_width": ""
      }
     },
     "e48e1cf53d304ea9b108a35962ad1bc7": {
      "model_module": "@jupyter-widgets/controls",
      "model_module_version": "1.5.0",
      "model_name": "IntProgressModel",
      "state": {
       "layout": "IPY_MODEL_c89197f134e442e2ba318b7c14ea0c52",
       "style": "IPY_MODEL_30e698aa864e4b828f346052e388b644",
       "value": 30
      }
     },
     "e4a9f449e6e24558a6cfa0c1693dc82f": {
      "model_module": "@jupyter-widgets/base",
      "model_module_version": "1.2.0",
      "model_name": "LayoutModel",
      "state": {
       "height": "32px",
       "overflow": "visible",
       "width": "100%"
      }
     },
     "e4c97eb130d04bf59f67b70a4672fc08": {
      "model_module": "@jupyter-widgets/controls",
      "model_module_version": "1.5.0",
      "model_name": "ProgressStyleModel",
      "state": {
       "description_width": ""
      }
     },
     "e4fb629de6234e60a17697e31a9f1f49": {
      "model_module": "@jupyter-widgets/controls",
      "model_module_version": "1.5.0",
      "model_name": "ProgressStyleModel",
      "state": {
       "description_width": ""
      }
     },
     "e5159e5c484647ae9da5ee0816a31927": {
      "model_module": "@jupyter-widgets/controls",
      "model_module_version": "1.5.0",
      "model_name": "HBoxModel",
      "state": {
       "children": [
        "IPY_MODEL_44cb61286a744f408e6e20e0023747d6",
        "IPY_MODEL_7ed3ba6031d04353a26e73001579c018",
        "IPY_MODEL_51ea2700dc39412b964c6cd699e0a64f",
        "IPY_MODEL_559758dd9fbb43649e8996caffc6bbeb"
       ],
       "layout": "IPY_MODEL_325b10c9328a4ad4a24e201b01ae41cb"
      }
     },
     "e518da1218a647139cacf4a1eb13c0dd": {
      "model_module": "@jupyter-widgets/controls",
      "model_module_version": "1.5.0",
      "model_name": "HTMLModel",
      "state": {
       "layout": "IPY_MODEL_cafac7864e9a48909b6e13711f814bab",
       "style": "IPY_MODEL_931b576a8d0c4a05b1cafd051b1a5ea1",
       "value": "Showing Tasks 3-17 of 314"
      }
     },
     "e52961f1ceb74b5f8a6a4a14e9d2a6e8": {
      "model_module": "@jupyter-widgets/controls",
      "model_module_version": "1.5.0",
      "model_name": "ButtonModel",
      "state": {
       "description": "EDIT",
       "layout": "IPY_MODEL_e3ba147ac7394e97a25e1f4ee55ca5ce",
       "style": "IPY_MODEL_6ae8e89870a14d4d89ffa81794f535f3"
      }
     },
     "e53a3c248209463a83ca10cdec92500f": {
      "model_module": "@jupyter-widgets/controls",
      "model_module_version": "1.5.0",
      "model_name": "ButtonStyleModel",
      "state": {}
     },
     "e57ad409b9994478895289a1cdd180c1": {
      "model_module": "@jupyter-widgets/controls",
      "model_module_version": "1.5.0",
      "model_name": "ButtonStyleModel",
      "state": {}
     },
     "e5ad56481eaa4ea18244cb46443f9b07": {
      "model_module": "@jupyter-widgets/controls",
      "model_module_version": "1.5.0",
      "model_name": "ButtonModel",
      "state": {
       "button_style": "success",
       "disabled": true,
       "layout": "IPY_MODEL_ada2512a8d8644cebbaac0ec8c31ee45",
       "style": "IPY_MODEL_1e58458193f6441f98e104127b4ce9c5"
      }
     },
     "e5d977ef42dc4ef2a87a3b5398585b50": {
      "model_module": "@jupyter-widgets/controls",
      "model_module_version": "1.5.0",
      "model_name": "VBoxModel",
      "state": {
       "children": [
        "IPY_MODEL_6c15c1993f014a89abb878aa060ef171",
        "IPY_MODEL_32189b97c1b143378f642ed8b24856ef",
        "IPY_MODEL_d7bc896845c94dbf9ab401348d6397e2",
        "IPY_MODEL_77d6009ab38249e1ae09195481278b4b",
        "IPY_MODEL_e8b31ddba2814f0e82d0f621d8554b6b",
        "IPY_MODEL_dc0d2de2871b4caa9f4d81198e3afb08"
       ],
       "layout": "IPY_MODEL_eaa5dd23d4d24ebb803d2a437cc14e10"
      }
     },
     "e60a234ef8bc4179a1709246e87a657e": {
      "model_module": "@jupyter-widgets/base",
      "model_module_version": "1.2.0",
      "model_name": "LayoutModel",
      "state": {
       "display": "none",
       "width": "60px"
      }
     },
     "e61e44c15f0f4b01a429102e6bbcf135": {
      "model_module": "@jupyter-widgets/controls",
      "model_module_version": "1.5.0",
      "model_name": "IntProgressModel",
      "state": {
       "layout": "IPY_MODEL_ff5d76124e254d6d86cb75adbd9c30c6",
       "style": "IPY_MODEL_90953ce5937d4889a378285edffafcaf",
       "value": 30
      }
     },
     "e6599517288d4867ba8e54a5bf4a90b2": {
      "model_module": "@jupyter-widgets/base",
      "model_module_version": "1.2.0",
      "model_name": "LayoutModel",
      "state": {}
     },
     "e66ccf4283084c1d934145fb44f19220": {
      "model_module": "@jupyter-widgets/controls",
      "model_module_version": "1.5.0",
      "model_name": "ButtonModel",
      "state": {
       "description": "EDIT",
       "layout": "IPY_MODEL_05ac3935b6be42f89e6977e7d06101d3",
       "style": "IPY_MODEL_4175e46507d94a7ebe5289d381b2d8f8"
      }
     },
     "e6c97934be0c4fbdacec7b1844015544": {
      "model_module": "@jupyter-widgets/controls",
      "model_module_version": "1.5.0",
      "model_name": "IntProgressModel",
      "state": {
       "bar_style": "success",
       "layout": "IPY_MODEL_d9081c5e8b66487e961a733cdf5e83c6",
       "max": 500,
       "style": "IPY_MODEL_7bac38a5817949a587227b603d1d12f8",
       "value": 500
      }
     },
     "e6d536fb757a4bafafaa5bd579cf5d70": {
      "model_module": "@jupyter-widgets/base",
      "model_module_version": "1.2.0",
      "model_name": "LayoutModel",
      "state": {
       "order": "-1",
       "overflow": "visible",
       "padding": "1px",
       "width": "0px"
      }
     },
     "e744eb81e84c4adaaacda4db6425c9b4": {
      "model_module": "@jupyter-widgets/base",
      "model_module_version": "1.2.0",
      "model_name": "LayoutModel",
      "state": {
       "height": "32px",
       "overflow": "visible",
       "width": "100%"
      }
     },
     "e75c914330c74ec5b92ea0f640926fb5": {
      "model_module": "@jupyter-widgets/base",
      "model_module_version": "1.2.0",
      "model_name": "LayoutModel",
      "state": {
       "order": "-1",
       "overflow": "visible",
       "padding": "1px",
       "width": "0px"
      }
     },
     "e75f1629a0c84121ae20ab42eb9e81dc": {
      "model_module": "@jupyter-widgets/base",
      "model_module_version": "1.2.0",
      "model_name": "LayoutModel",
      "state": {
       "height": "32px",
       "overflow": "visible",
       "width": "100%"
      }
     },
     "e7e776c9a18d4d5496381b43e776d986": {
      "model_module": "@jupyter-widgets/base",
      "model_module_version": "1.2.0",
      "model_name": "LayoutModel",
      "state": {
       "height": "32px",
       "overflow": "visible",
       "width": "100%"
      }
     },
     "e7eb2285617743cf822786dd322c4a32": {
      "model_module": "@jupyter-widgets/controls",
      "model_module_version": "1.5.0",
      "model_name": "ButtonStyleModel",
      "state": {}
     },
     "e81cbda9e44e48bfae98f6f9aeeac25c": {
      "model_module": "@jupyter-widgets/controls",
      "model_module_version": "1.5.0",
      "model_name": "DropdownModel",
      "state": {
       "_options_labels": [
        "All",
        "Medals",
        "Mastery",
        "Lifetime"
       ],
       "index": 0,
       "layout": "IPY_MODEL_618cb2a1c8324e44817e55385ff56728",
       "style": "IPY_MODEL_9f5cb2dcf10c4dda8050471aa996365f"
      }
     },
     "e83ce54b20184aa982348257e35b961b": {
      "model_module": "@jupyter-widgets/base",
      "model_module_version": "1.2.0",
      "model_name": "LayoutModel",
      "state": {}
     },
     "e84f2055378147b78bc0030d953f8a7a": {
      "model_module": "@jupyter-widgets/controls",
      "model_module_version": "1.5.0",
      "model_name": "HBoxModel",
      "state": {
       "children": [
        "IPY_MODEL_0f0ca96c20824c808fe6b925fc754b98",
        "IPY_MODEL_b0abd12dfee3454caccf3af5409911e1",
        "IPY_MODEL_bdf6bd05cbb9423cb7d4f7921a53de27",
        "IPY_MODEL_9e8b24e8d5024c1cbe9acdb338b6799e"
       ],
       "layout": "IPY_MODEL_723bc9b9c3374e71bd77dcea3f8ecc8e"
      }
     },
     "e8b31ddba2814f0e82d0f621d8554b6b": {
      "model_module": "@jupyter-widgets/controls",
      "model_module_version": "1.5.0",
      "model_name": "HBoxModel",
      "state": {
       "children": [
        "IPY_MODEL_9cdf597046d04870b5eea037f4e19df7",
        "IPY_MODEL_92ee27c5cd464346b48412228258d019",
        "IPY_MODEL_e1bdb894114d4c9aba7fcd392a8e9293",
        "IPY_MODEL_19a6a4d6e572429287bb945e3eb45a39"
       ],
       "layout": "IPY_MODEL_711c7582737440d9bf6345142cc0b7f9"
      }
     },
     "e8c55ba43557441d9aef11762294d62c": {
      "model_module": "@jupyter-widgets/controls",
      "model_module_version": "1.5.0",
      "model_name": "DescriptionStyleModel",
      "state": {
       "description_width": ""
      }
     },
     "e8cd5b62a5114533908d7e99ccab8c03": {
      "model_module": "@jupyter-widgets/controls",
      "model_module_version": "1.5.0",
      "model_name": "ButtonStyleModel",
      "state": {}
     },
     "e92aa5966f96495b90e9c4cc723db970": {
      "model_module": "@jupyter-widgets/controls",
      "model_module_version": "1.5.0",
      "model_name": "ButtonModel",
      "state": {
       "description": "EDIT",
       "layout": "IPY_MODEL_e997bab75e9141899b11b7d3a201796e",
       "style": "IPY_MODEL_bae1385e17784d7596e69dc74e9c8610"
      }
     },
     "e94d236a7a6e49e2867eb111a0a49460": {
      "model_module": "@jupyter-widgets/controls",
      "model_module_version": "1.5.0",
      "model_name": "LabelModel",
      "state": {
       "layout": "IPY_MODEL_89ba957401854ea28977897cc8766687",
       "style": "IPY_MODEL_20f86360721a419ba9a33ec7f5675836",
       "value": "    Opponents defeated (1161/500)"
      }
     },
     "e96631a741f94f53b2df89f605518f78": {
      "model_module": "@jupyter-widgets/controls",
      "model_module_version": "1.5.0",
      "model_name": "ProgressStyleModel",
      "state": {
       "description_width": ""
      }
     },
     "e997bab75e9141899b11b7d3a201796e": {
      "model_module": "@jupyter-widgets/base",
      "model_module_version": "1.2.0",
      "model_name": "LayoutModel",
      "state": {
       "display": "none",
       "width": "60px"
      }
     },
     "e99852b6a84c4bdf8a1d4109ee368825": {
      "model_module": "@jupyter-widgets/base",
      "model_module_version": "1.2.0",
      "model_name": "LayoutModel",
      "state": {
       "display": "flex"
      }
     },
     "e9af654bc0b2433293338061ad875e23": {
      "model_module": "@jupyter-widgets/controls",
      "model_module_version": "1.5.0",
      "model_name": "LabelModel",
      "state": {
       "layout": "IPY_MODEL_baa8e68667334f3b863a169e118ade9e",
       "style": "IPY_MODEL_752d4b54769d4576b005a0209b95b7fd",
       "value": "    Ranks reset (0/1)"
      }
     },
     "e9dfd66ba0ca4f02842744cd948e2313": {
      "model_module": "@jupyter-widgets/controls",
      "model_module_version": "1.5.0",
      "model_name": "DescriptionStyleModel",
      "state": {
       "description_width": ""
      }
     },
     "ea04b8062fa64bc1996f4bef487b0f8a": {
      "model_module": "@jupyter-widgets/controls",
      "model_module_version": "1.5.0",
      "model_name": "DescriptionStyleModel",
      "state": {
       "description_width": ""
      }
     },
     "ea15e0c731884364b18538b1106dcbde": {
      "model_module": "@jupyter-widgets/controls",
      "model_module_version": "1.5.0",
      "model_name": "DescriptionStyleModel",
      "state": {
       "description_width": ""
      }
     },
     "ea3cd4246465447e95226465531bf472": {
      "model_module": "@jupyter-widgets/base",
      "model_module_version": "1.2.0",
      "model_name": "LayoutModel",
      "state": {
       "overflow": "visible",
       "width": "100%"
      }
     },
     "ea42259eb1ca4eb39eb88417149b634a": {
      "model_module": "@jupyter-widgets/base",
      "model_module_version": "1.2.0",
      "model_name": "LayoutModel",
      "state": {
       "display": "none",
       "width": "60px"
      }
     },
     "ea4b211120794afc9aae17f1d3b2478c": {
      "model_module": "@jupyter-widgets/base",
      "model_module_version": "1.2.0",
      "model_name": "LayoutModel",
      "state": {
       "overflow": "visible",
       "width": "100%"
      }
     },
     "ea72f175f45d4ed7bf9d057f82a4c49b": {
      "model_module": "@jupyter-widgets/controls",
      "model_module_version": "1.5.0",
      "model_name": "DescriptionStyleModel",
      "state": {
       "description_width": ""
      }
     },
     "eaa5dd23d4d24ebb803d2a437cc14e10": {
      "model_module": "@jupyter-widgets/base",
      "model_module_version": "1.2.0",
      "model_name": "LayoutModel",
      "state": {}
     },
     "eacbf64c4e57403a9912e58dd0be313a": {
      "model_module": "@jupyter-widgets/controls",
      "model_module_version": "1.5.0",
      "model_name": "HBoxModel",
      "state": {
       "children": [
        "IPY_MODEL_8319388e404e4e8cbcd3fbed62c3a283",
        "IPY_MODEL_f45285cfd8b9496d88dc9381b4200a47",
        "IPY_MODEL_da7364f2e9e6463cbff9543326cc6922",
        "IPY_MODEL_5dd364e34ae6458789823e0bd01f81ef"
       ],
       "layout": "IPY_MODEL_ceadfbde338a484a8c83c06b05b2e768"
      }
     },
     "eae67a1e32a844eebc370f8c7a9f69b2": {
      "model_module": "@jupyter-widgets/controls",
      "model_module_version": "1.5.0",
      "model_name": "IntProgressModel",
      "state": {
       "layout": "IPY_MODEL_8cf7d6f07806499b8bbf24db0e87f651",
       "style": "IPY_MODEL_68430f69a70a4f3c82a1e3691d83072c",
       "value": 30
      }
     },
     "eaf809b0403745e0baa5926c7b91f51f": {
      "model_module": "@jupyter-widgets/controls",
      "model_module_version": "1.5.0",
      "model_name": "ButtonStyleModel",
      "state": {}
     },
     "eb0f50acd60b4eac8e6d4638ca17add9": {
      "model_module": "@jupyter-widgets/controls",
      "model_module_version": "1.5.0",
      "model_name": "DescriptionStyleModel",
      "state": {
       "description_width": ""
      }
     },
     "eb56fe2576a54081bd7dedfcb4e09032": {
      "model_module": "@jupyter-widgets/base",
      "model_module_version": "1.2.0",
      "model_name": "LayoutModel",
      "state": {}
     },
     "eb8eb2b3cc974a4c8f6d7595c482ecc1": {
      "model_module": "@jupyter-widgets/controls",
      "model_module_version": "1.5.0",
      "model_name": "ButtonStyleModel",
      "state": {}
     },
     "ebad8d25b93e49ba8ca4299e62317738": {
      "model_module": "@jupyter-widgets/controls",
      "model_module_version": "1.5.0",
      "model_name": "HTMLModel",
      "state": {
       "layout": "IPY_MODEL_12f3d82d4f2349eeaf53d34ee0834b70",
       "style": "IPY_MODEL_cbf4b4e163f5434c9aebcdfff34983e5",
       "value": "<font size=\"1\">Triumphs/Crucible/Medals/Combat/Fight Me!</font size=>"
      }
     },
     "ebdf4b90aa774af1b3f825710a9d70e9": {
      "model_module": "@jupyter-widgets/base",
      "model_module_version": "1.2.0",
      "model_name": "LayoutModel",
      "state": {
       "display": "none"
      }
     },
     "ec205b3e5f8e47aea3414359dfa7ad0f": {
      "model_module": "@jupyter-widgets/controls",
      "model_module_version": "1.5.0",
      "model_name": "DescriptionStyleModel",
      "state": {
       "description_width": ""
      }
     },
     "ec42872237f64789aa9250d1c1235ed4": {
      "model_module": "@jupyter-widgets/controls",
      "model_module_version": "1.5.0",
      "model_name": "ButtonStyleModel",
      "state": {}
     },
     "ec5ad1d9f6ac4c1b89b1ef185abb7e31": {
      "model_module": "@jupyter-widgets/controls",
      "model_module_version": "1.5.0",
      "model_name": "LabelModel",
      "state": {
       "layout": "IPY_MODEL_ab641fe24a1b497c90c47ba2cd5c9955",
       "style": "IPY_MODEL_22b0b53ff5fc4bf8ae1a91be24cfcb76",
       "value": "    My Bowfriend's Back (3/1)"
      }
     },
     "ec6da39f46c8456aa477bf96c00a9891": {
      "model_module": "@jupyter-widgets/base",
      "model_module_version": "1.2.0",
      "model_name": "LayoutModel",
      "state": {
       "display": "none"
      }
     },
     "ec89d5654acb4eae904c8e6077b0a61c": {
      "model_module": "@jupyter-widgets/base",
      "model_module_version": "1.2.0",
      "model_name": "LayoutModel",
      "state": {
       "display": "none",
       "width": "60px"
      }
     },
     "ece3b9a82a0f4a69a62cb305c0c030a2": {
      "model_module": "@jupyter-widgets/base",
      "model_module_version": "1.2.0",
      "model_name": "LayoutModel",
      "state": {
       "height": "32px",
       "order": "-2",
       "width": "32px"
      }
     },
     "ecfe4f92f5db48eb880d9809128d747b": {
      "model_module": "@jupyter-widgets/controls",
      "model_module_version": "1.5.0",
      "model_name": "LabelModel",
      "state": {
       "layout": "IPY_MODEL_ca527d02f2a649aaa7105ed59ae4192f",
       "style": "IPY_MODEL_d34cda2cb21047efb50e7e6f3afc7e84",
       "value": "   objective"
      }
     },
     "ecff5446d89b4e1c9d8776d8e61f9221": {
      "model_module": "@jupyter-widgets/base",
      "model_module_version": "1.2.0",
      "model_name": "LayoutModel",
      "state": {
       "display": "none"
      }
     },
     "ed235b479b8145478371ab50d4898266": {
      "model_module": "@jupyter-widgets/controls",
      "model_module_version": "1.5.0",
      "model_name": "ButtonModel",
      "state": {
       "layout": "IPY_MODEL_a31f3566f13e4527a4df2c9d889111b2",
       "style": "IPY_MODEL_e57ad409b9994478895289a1cdd180c1"
      }
     },
     "ed5919551c0d4432bcc57e528ac09fc1": {
      "model_module": "@jupyter-widgets/controls",
      "model_module_version": "1.5.0",
      "model_name": "HTMLModel",
      "state": {
       "layout": "IPY_MODEL_483a6fdb6e694cf0a31a1dcc0e7cd49b",
       "style": "IPY_MODEL_730415d870aa452c9d9548df70efc646",
       "value": "<font size=\"5\"><b>Capture and Control</b></font size=>"
      }
     },
     "ed704a7e92a549a78f0f7cae0322795e": {
      "model_module": "@jupyter-widgets/controls",
      "model_module_version": "1.5.0",
      "model_name": "HBoxModel",
      "state": {
       "children": [
        "IPY_MODEL_81718c3a677d49e29ffd91fe3b8dc3a8",
        "IPY_MODEL_9af3d19297da4e3daeebedd4cb6dd832",
        "IPY_MODEL_be188b91bd6e4a07903b9b8d5c7bf2be",
        "IPY_MODEL_33a05c0a4b9e40d8ad6b4428b8808ca9"
       ],
       "layout": "IPY_MODEL_ee3611352f1949c9a477569c5b1f956b"
      }
     },
     "ed787443c587464cb206e9020b27e378": {
      "model_module": "@jupyter-widgets/controls",
      "model_module_version": "1.5.0",
      "model_name": "DescriptionStyleModel",
      "state": {
       "description_width": ""
      }
     },
     "eda969de2f83401fb3d52f60e70611c6": {
      "model_module": "@jupyter-widgets/base",
      "model_module_version": "1.2.0",
      "model_name": "LayoutModel",
      "state": {
       "order": "-1",
       "overflow": "visible",
       "padding": "1px",
       "width": "0px"
      }
     },
     "edd96d2ee67c4ba4ad9b28e3412a656e": {
      "model_module": "@jupyter-widgets/controls",
      "model_module_version": "1.5.0",
      "model_name": "IntProgressModel",
      "state": {
       "layout": "IPY_MODEL_8f1955a2ccc64ef8b33c829cdb274bb6",
       "style": "IPY_MODEL_db63fb0266314aac9146df8988f3d179",
       "value": 30
      }
     },
     "ee0c161fb6754b26a84e6b867cc74775": {
      "model_module": "@jupyter-widgets/base",
      "model_module_version": "1.2.0",
      "model_name": "LayoutModel",
      "state": {
       "display": "flex",
       "flex_flow": "row wrap"
      }
     },
     "ee3611352f1949c9a477569c5b1f956b": {
      "model_module": "@jupyter-widgets/base",
      "model_module_version": "1.2.0",
      "model_name": "LayoutModel",
      "state": {
       "display": "none"
      }
     },
     "ee7059127ce64d899fa7b225c6b0bb74": {
      "model_module": "@jupyter-widgets/controls",
      "model_module_version": "1.5.0",
      "model_name": "IntProgressModel",
      "state": {
       "bar_style": "success",
       "layout": "IPY_MODEL_1b27b1036a2b4928a083b90f740bd295",
       "style": "IPY_MODEL_86ac95d3f26840c8ac673add9e9b4ddc",
       "value": 100
      }
     },
     "eed69a80cba8489a989afe9ba0d653c0": {
      "model_module": "@jupyter-widgets/base",
      "model_module_version": "1.2.0",
      "model_name": "LayoutModel",
      "state": {
       "width": "100px"
      }
     },
     "eee12021f8244d4d90b1ac26b7984b69": {
      "model_module": "@jupyter-widgets/controls",
      "model_module_version": "1.5.0",
      "model_name": "DescriptionStyleModel",
      "state": {
       "description_width": ""
      }
     },
     "ef70814dc58e4438b5d10709a51f8d88": {
      "model_module": "@jupyter-widgets/base",
      "model_module_version": "1.2.0",
      "model_name": "LayoutModel",
      "state": {
       "display": "none"
      }
     },
     "ef9b0aceeee14d6eb57051725ea358be": {
      "model_module": "@jupyter-widgets/controls",
      "model_module_version": "1.5.0",
      "model_name": "DescriptionStyleModel",
      "state": {
       "description_width": ""
      }
     },
     "efa69d2c1400499dae6afa1c341d9400": {
      "model_module": "@jupyter-widgets/controls",
      "model_module_version": "1.5.0",
      "model_name": "HTMLModel",
      "state": {
       "layout": "IPY_MODEL_85612c918c494d4ebba89b489a6080cb",
       "style": "IPY_MODEL_8036c7d3b2084a6f9e36c5fc69c9d664",
       "value": "<font size=\"1\">Triumphs/Crucible/Lifetime/Glory Ranks/Become Legend</font size=>"
      }
     },
     "eff1d1fcd4de4e28bb38fc89efc2fc64": {
      "model_module": "@jupyter-widgets/controls",
      "model_module_version": "1.5.0",
      "model_name": "ButtonModel",
      "state": {
       "description": "EDIT",
       "layout": "IPY_MODEL_d108cfdf2b9444359184528ff8b4580d",
       "style": "IPY_MODEL_e10c37bfd0ab4f928e62c153574fcd74"
      }
     },
     "f01633c3c7e4446987fca53bbd56b578": {
      "model_module": "@jupyter-widgets/controls",
      "model_module_version": "1.5.0",
      "model_name": "HBoxModel",
      "state": {
       "children": [
        "IPY_MODEL_b6bebb4ce8c24587a66e1541a0a79b57",
        "IPY_MODEL_85c5b9dac50d4cea9cc30797c1b60d50",
        "IPY_MODEL_533497ebbc854597bfbe6cc687c6158b",
        "IPY_MODEL_21100bf83ab14397ab9745cb2a859124"
       ],
       "layout": "IPY_MODEL_1286e274da31442dad9267f4cb67341e"
      }
     },
     "f01bb4e5f1b0410dbc708c1c5ae9b3f0": {
      "model_module": "@jupyter-widgets/controls",
      "model_module_version": "1.5.0",
      "model_name": "HTMLModel",
      "state": {
       "layout": "IPY_MODEL_5106b61de417403787efd4177dfe30c8",
       "style": "IPY_MODEL_58d966ad1d6c4e65996b05b6e057814f",
       "value": "<font size=\"1\">Triumphs/Crucible/Lifetime/Valor Ranks/Season 6: Valor</font size=>"
      }
     },
     "f01bc74609ff4a0aa1dcc1a3ce6618f7": {
      "model_module": "@jupyter-widgets/controls",
      "model_module_version": "1.5.0",
      "model_name": "VBoxModel",
      "state": {
       "children": [
        "IPY_MODEL_f3427cdda81b4e579e6ff043fc7b11a4",
        "IPY_MODEL_d4dffc4ba45441cab025e8b652ec8dff",
        "IPY_MODEL_1ab564d8d86542949597d055756d189b",
        "IPY_MODEL_b79ddfcae73040f8b1830c8fddfdc7fd",
        "IPY_MODEL_14c3045e4f9848ee80881908e2a625e3",
        "IPY_MODEL_7ebdf8dad73c410a92a10fd15f64af0c"
       ],
       "layout": "IPY_MODEL_676acf744ddd4a90a2c8be80deea40f5"
      }
     },
     "f01c6b76529b411e82f2742ec0187837": {
      "model_module": "@jupyter-widgets/base",
      "model_module_version": "1.2.0",
      "model_name": "LayoutModel",
      "state": {
       "display": "none",
       "width": "60px"
      }
     },
     "f06689cfa6f1404fbb9af7894dcc2a27": {
      "model_module": "@jupyter-widgets/base",
      "model_module_version": "1.2.0",
      "model_name": "LayoutModel",
      "state": {}
     },
     "f0702e02dc7b42cbbcb8df7f6871eb50": {
      "model_module": "@jupyter-widgets/controls",
      "model_module_version": "1.5.0",
      "model_name": "ButtonStyleModel",
      "state": {}
     },
     "f0772f0288024dae9b74f11452c5286b": {
      "model_module": "@jupyter-widgets/controls",
      "model_module_version": "1.5.0",
      "model_name": "ButtonStyleModel",
      "state": {}
     },
     "f078fa1f61d44ad6989acaa94ce8fa61": {
      "model_module": "@jupyter-widgets/controls",
      "model_module_version": "1.5.0",
      "model_name": "ProgressStyleModel",
      "state": {
       "description_width": ""
      }
     },
     "f0823a7af2664b1dbe2ca189d1d3fbcc": {
      "model_module": "@jupyter-widgets/controls",
      "model_module_version": "1.5.0",
      "model_name": "VBoxModel",
      "state": {
       "children": [
        "IPY_MODEL_7893ed9953364eaea0ca33235d2a41a9",
        "IPY_MODEL_259e7d53fe304fa1a5572b4671f81a3c",
        "IPY_MODEL_3724296d8c4c450284d310859b3a5133",
        "IPY_MODEL_75f80bcc6bfb47258b6c815a1b52710a",
        "IPY_MODEL_302bb81b7c8e4396a64f6733eed7bf3a",
        "IPY_MODEL_882e1038d74a4222a15e1778e7857756"
       ],
       "layout": "IPY_MODEL_42db59af0b104d599c1ebf4c8eeed5c8"
      }
     },
     "f0db3b12983e4d9aa866cf7c184b7d23": {
      "model_module": "@jupyter-widgets/controls",
      "model_module_version": "1.5.0",
      "model_name": "LabelModel",
      "state": {
       "layout": "IPY_MODEL_3e93d049ee0648d1958c42f869e52854",
       "style": "IPY_MODEL_aca62af14ccd466cb31e0398559b9cf0",
       "value": "Grenade:"
      }
     },
     "f115ba8293d54703ab07bcfb86ec7627": {
      "model_module": "@jupyter-widgets/controls",
      "model_module_version": "1.5.0",
      "model_name": "HTMLModel",
      "state": {
       "layout": "IPY_MODEL_7e581dc54c9646ac8a6d5bc7426b3b0d",
       "style": "IPY_MODEL_4f4434ba32b04e8db077416b78dfd3a5",
       "value": "<font size=\"5\"><b>Submachine Gun Mastery</b></font size=>"
      }
     },
     "f17e81e08906435cb75fb6f31e61496d": {
      "model_module": "@jupyter-widgets/base",
      "model_module_version": "1.2.0",
      "model_name": "LayoutModel",
      "state": {
       "height": "32px",
       "overflow": "visible",
       "width": "100%"
      }
     },
     "f1848fa0604b4cd78ac00742ccc872d9": {
      "model_module": "@jupyter-widgets/controls",
      "model_module_version": "1.5.0",
      "model_name": "ButtonStyleModel",
      "state": {}
     },
     "f18833788c1c4dbab2afc13bf16813a1": {
      "model_module": "@jupyter-widgets/controls",
      "model_module_version": "1.5.0",
      "model_name": "DescriptionStyleModel",
      "state": {
       "description_width": ""
      }
     },
     "f19814ebf15d43018c685fd2b76d8721": {
      "model_module": "@jupyter-widgets/controls",
      "model_module_version": "1.5.0",
      "model_name": "ButtonStyleModel",
      "state": {}
     },
     "f1a6e34bcccd43ebac7cdb112a133439": {
      "model_module": "@jupyter-widgets/controls",
      "model_module_version": "1.5.0",
      "model_name": "HTMLModel",
      "state": {
       "layout": "IPY_MODEL_0923a49a08164c45a05074edd730d50c",
       "style": "IPY_MODEL_55440f61d34d451cb487bbf23b75263d",
       "value": "<b>Gear Options</b>"
      }
     },
     "f223064f5b054b81b852982810c7f305": {
      "model_module": "@jupyter-widgets/controls",
      "model_module_version": "1.5.0",
      "model_name": "DescriptionStyleModel",
      "state": {
       "description_width": ""
      }
     },
     "f230c475c9474508b6fc07ea264ba03c": {
      "model_module": "@jupyter-widgets/base",
      "model_module_version": "1.2.0",
      "model_name": "LayoutModel",
      "state": {
       "height": "32px",
       "overflow": "visible",
       "width": "100%"
      }
     },
     "f285dc6cfdf84daabcaaf5657ba55839": {
      "model_module": "@jupyter-widgets/controls",
      "model_module_version": "1.5.0",
      "model_name": "HBoxModel",
      "state": {
       "children": [
        "IPY_MODEL_09123fc49f3847b6bf38142a8fb868f3",
        "IPY_MODEL_4b4191357f184340ac483d44a3e503e2"
       ],
       "layout": "IPY_MODEL_f49386f3131945da9b0464cd32930afc"
      }
     },
     "f2f03998a24140d2a76540e758bc36a3": {
      "model_module": "@jupyter-widgets/base",
      "model_module_version": "1.2.0",
      "model_name": "LayoutModel",
      "state": {
       "order": "-1",
       "overflow": "visible",
       "padding": "1px",
       "width": "0px"
      }
     },
     "f3427cdda81b4e579e6ff043fc7b11a4": {
      "model_module": "@jupyter-widgets/controls",
      "model_module_version": "1.5.0",
      "model_name": "HBoxModel",
      "state": {
       "children": [
        "IPY_MODEL_7d67785760694c7cb01a4fc8680ae2c3",
        "IPY_MODEL_81ade50b024c47d4ad70ac267327154b",
        "IPY_MODEL_fa0c75cace124aa7a1a6d517a1198edc",
        "IPY_MODEL_8a870f622c994f258e217ca80e65e901"
       ],
       "layout": "IPY_MODEL_d39a2c1caad840f99d0a3dd343c2cdd7"
      }
     },
     "f353f07e8a31453fa6168046aad3bbeb": {
      "model_module": "@jupyter-widgets/controls",
      "model_module_version": "1.5.0",
      "model_name": "DescriptionStyleModel",
      "state": {
       "description_width": ""
      }
     },
     "f38afaa3bc0841dc8d4fcd87a2fb2580": {
      "model_module": "@jupyter-widgets/controls",
      "model_module_version": "1.5.0",
      "model_name": "HBoxModel",
      "state": {
       "children": [
        "IPY_MODEL_62718a271cb240a0b0703dafe1b6643a",
        "IPY_MODEL_ee7059127ce64d899fa7b225c6b0bb74",
        "IPY_MODEL_55fe9f919b724e399d3417f1d94ff162",
        "IPY_MODEL_a265e6ab45e64a56a1ac1798e4adc651"
       ],
       "layout": "IPY_MODEL_9b56f42ea1b940209f0dec900a45f1fb"
      }
     },
     "f38d1a45a80c445eaf797e2c6cee0521": {
      "model_module": "@jupyter-widgets/base",
      "model_module_version": "1.2.0",
      "model_name": "LayoutModel",
      "state": {
       "order": "-1",
       "overflow": "visible",
       "padding": "1px",
       "width": "0px"
      }
     },
     "f3ade28107e846b9aebf125b3ef4036b": {
      "model_module": "@jupyter-widgets/controls",
      "model_module_version": "1.5.0",
      "model_name": "ButtonModel",
      "state": {
       "description": "EDIT",
       "layout": "IPY_MODEL_ec89d5654acb4eae904c8e6077b0a61c",
       "style": "IPY_MODEL_b498c816ba8149e5abeca0b5cbed4148"
      }
     },
     "f3cb047d0d5f40f8867f3e57cb02efb2": {
      "model_module": "@jupyter-widgets/controls",
      "model_module_version": "1.5.0",
      "model_name": "HBoxModel",
      "state": {
       "children": [
        "IPY_MODEL_641a12e57e9445cfbcee357edd1a042e",
        "IPY_MODEL_9bf3f4b0b2834ea8ac3e49d27c67706e",
        "IPY_MODEL_3f7b4f53e87a4516a4ef3ac535a8b994",
        "IPY_MODEL_df2e5074e7fc48e38bb9c2d401c17ef7"
       ],
       "layout": "IPY_MODEL_82c40d93e8d1449f8127eae0898bc6fa"
      }
     },
     "f3d63f3e47914f9c9ef152397e84e9ec": {
      "model_module": "@jupyter-widgets/controls",
      "model_module_version": "1.5.0",
      "model_name": "ButtonModel",
      "state": {
       "description": "EDIT",
       "layout": "IPY_MODEL_dae678ad0052489a8ddb3629236cfe2f",
       "style": "IPY_MODEL_23d1d94a4f8a4c3eb741c1d7597b7061"
      }
     },
     "f3eec361bfda44189138182ae2d71f32": {
      "model_module": "@jupyter-widgets/controls",
      "model_module_version": "1.5.0",
      "model_name": "ButtonStyleModel",
      "state": {}
     },
     "f43aa259fd3a41eaa107ec1da3bff0b9": {
      "model_module": "@jupyter-widgets/controls",
      "model_module_version": "1.5.0",
      "model_name": "IntProgressModel",
      "state": {
       "layout": "IPY_MODEL_2e4625430aa94e498e0312c6cccd4c24",
       "max": 250,
       "style": "IPY_MODEL_e4c97eb130d04bf59f67b70a4672fc08",
       "value": 172
      }
     },
     "f45285cfd8b9496d88dc9381b4200a47": {
      "model_module": "@jupyter-widgets/controls",
      "model_module_version": "1.5.0",
      "model_name": "IntProgressModel",
      "state": {
       "layout": "IPY_MODEL_3b8a4bb9775f41fe8a629f90feec14c9",
       "style": "IPY_MODEL_3dce3e1351414d56b71d7b28dd86393c",
       "value": 30
      }
     },
     "f49386f3131945da9b0464cd32930afc": {
      "model_module": "@jupyter-widgets/base",
      "model_module_version": "1.2.0",
      "model_name": "LayoutModel",
      "state": {}
     },
     "f4938c74b42f48e197d758c6657d284d": {
      "model_module": "@jupyter-widgets/base",
      "model_module_version": "1.2.0",
      "model_name": "LayoutModel",
      "state": {
       "display": "none",
       "width": "60px"
      }
     },
     "f4b5389046d449c2b036e392bbcf511b": {
      "model_module": "@jupyter-widgets/controls",
      "model_module_version": "1.5.0",
      "model_name": "ButtonStyleModel",
      "state": {}
     },
     "f585ecdee66c49e892df250211a5a0c0": {
      "model_module": "@jupyter-widgets/controls",
      "model_module_version": "1.5.0",
      "model_name": "DescriptionStyleModel",
      "state": {
       "description_width": ""
      }
     },
     "f596f609c2f14b459e0a49147bacfebc": {
      "model_module": "@jupyter-widgets/controls",
      "model_module_version": "1.5.0",
      "model_name": "IntProgressModel",
      "state": {
       "layout": "IPY_MODEL_c81c1404a74544fd91e637f9796d08e5",
       "style": "IPY_MODEL_11685cf189cf4edfb1656855b4461ad4",
       "value": 30
      }
     },
     "f5b04cba5e5b40cbbb423e2eea6c9ebf": {
      "model_module": "@jupyter-widgets/controls",
      "model_module_version": "1.5.0",
      "model_name": "DescriptionStyleModel",
      "state": {
       "description_width": ""
      }
     },
     "f5c6342b7aa2423d9e151cdd7fedf167": {
      "model_module": "@jupyter-widgets/controls",
      "model_module_version": "1.5.0",
      "model_name": "IntProgressModel",
      "state": {
       "bar_style": "success",
       "layout": "IPY_MODEL_775274bac7b440458edd530a8863de3f",
       "max": 1,
       "style": "IPY_MODEL_bbe87a81e487479bad34c4263b1db875",
       "value": 1
      }
     },
     "f5cecf3e24ae4309947907f5692260ba": {
      "model_module": "@jupyter-widgets/controls",
      "model_module_version": "1.5.0",
      "model_name": "VBoxModel",
      "state": {
       "children": [
        "IPY_MODEL_efa69d2c1400499dae6afa1c341d9400",
        "IPY_MODEL_43c258ff9a944d649c7c775991ed4b3c",
        "IPY_MODEL_f876e822dc59448497d6a02d10ca5415",
        "IPY_MODEL_803b4b90bb554fdd9869f45a09e81b72"
       ],
       "layout": "IPY_MODEL_19869a1a48464c3b935845b799133eac"
      }
     },
     "f5e7d060faf74e699fef9f196969ce28": {
      "model_module": "@jupyter-widgets/controls",
      "model_module_version": "1.5.0",
      "model_name": "ButtonStyleModel",
      "state": {}
     },
     "f5f80608d5cd47dcb284f73ce3f045c7": {
      "model_module": "@jupyter-widgets/controls",
      "model_module_version": "1.5.0",
      "model_name": "ButtonStyleModel",
      "state": {}
     },
     "f5f8c766dc264fe486cd0a83e3783127": {
      "model_module": "@jupyter-widgets/controls",
      "model_module_version": "1.5.0",
      "model_name": "ProgressStyleModel",
      "state": {
       "description_width": ""
      }
     },
     "f61e02b69e1145f38b3471487e4175eb": {
      "model_module": "@jupyter-widgets/base",
      "model_module_version": "1.2.0",
      "model_name": "LayoutModel",
      "state": {
       "display": "none"
      }
     },
     "f679075585764b0c8028befc1c5a8091": {
      "model_module": "@jupyter-widgets/controls",
      "model_module_version": "1.5.0",
      "model_name": "VBoxModel",
      "state": {
       "children": [
        "IPY_MODEL_08ae2b05b0c344899662998d75fe5dce",
        "IPY_MODEL_66664fdf13fd45c4a5b196a3ab014e7e",
        "IPY_MODEL_bb4b4cc84a564eb0b276da24d63ae9e0"
       ],
       "layout": "IPY_MODEL_d58c87d7542a4c44b4e5305a7fc8486c"
      }
     },
     "f6967a2621f84c06b3dae021c0d98ed5": {
      "model_module": "@jupyter-widgets/controls",
      "model_module_version": "1.5.0",
      "model_name": "DescriptionStyleModel",
      "state": {
       "description_width": ""
      }
     },
     "f6aa665896c946f29a25e3fde60e0a34": {
      "model_module": "@jupyter-widgets/base",
      "model_module_version": "1.2.0",
      "model_name": "LayoutModel",
      "state": {
       "order": "-1",
       "overflow": "visible",
       "padding": "1px",
       "width": "0px"
      }
     },
     "f738efbeeb294af3b5ddecfc2a533462": {
      "model_module": "@jupyter-widgets/output",
      "model_module_version": "1.0.0",
      "model_name": "OutputModel",
      "state": {
       "layout": "IPY_MODEL_20c2165c8d0d45a498b5b1d8acb8e1ea",
       "outputs": [
        {
         "data": {
          "application/vnd.jupyter.widget-view+json": {
           "model_id": "016ccb4126a2407e878f00bed0b66c1b",
           "version_major": 2,
           "version_minor": 0
          },
          "text/plain": "HBox(children=(VBox(children=(VBox(children=(HTML(value='<b>Activity Options</b>'), Dropdown(layout=Layout(bor…"
         },
         "metadata": {},
         "output_type": "display_data"
        }
       ]
      }
     },
     "f73a537861cb4ad5b2478de7bee41260": {
      "model_module": "@jupyter-widgets/base",
      "model_module_version": "1.2.0",
      "model_name": "LayoutModel",
      "state": {
       "display": "none"
      }
     },
     "f7529e68abf4434c92ebdbccb4a3ec3d": {
      "model_module": "@jupyter-widgets/controls",
      "model_module_version": "1.5.0",
      "model_name": "ButtonStyleModel",
      "state": {}
     },
     "f75e7c55a3c24c8dad1241dfa7a51fc5": {
      "model_module": "@jupyter-widgets/controls",
      "model_module_version": "1.5.0",
      "model_name": "LabelModel",
      "state": {
       "layout": "IPY_MODEL_c9b360fd500a4d9a8c837ffd83ce36b7",
       "style": "IPY_MODEL_8d54e7ddc37742f0a6f6e97a60335971",
       "value": "   objective"
      }
     },
     "f7685720254b467f94c94717470b0003": {
      "model_module": "@jupyter-widgets/controls",
      "model_module_version": "1.5.0",
      "model_name": "ButtonStyleModel",
      "state": {}
     },
     "f7c92f3a4c224d9d8d37839649484955": {
      "model_module": "@jupyter-widgets/controls",
      "model_module_version": "1.5.0",
      "model_name": "DescriptionStyleModel",
      "state": {
       "description_width": ""
      }
     },
     "f80f4de9b20f465e8c9ac6a6045a12d7": {
      "model_module": "@jupyter-widgets/controls",
      "model_module_version": "1.5.0",
      "model_name": "ButtonModel",
      "state": {
       "description": "EDIT",
       "layout": "IPY_MODEL_0901394ed9884211a9f8833b7f39f50d",
       "style": "IPY_MODEL_c4adb1332077434da8c713e3a6eb0d0b"
      }
     },
     "f82294d869904e7698d5e2be07c78158": {
      "model_module": "@jupyter-widgets/controls",
      "model_module_version": "1.5.0",
      "model_name": "HBoxModel",
      "state": {
       "children": [
        "IPY_MODEL_633a5e58846341efafa7b2fc3f24edbf",
        "IPY_MODEL_8ecb03f07dd94a0aac1999aa012cba02",
        "IPY_MODEL_e9af654bc0b2433293338061ad875e23",
        "IPY_MODEL_ffe10e9a0b35429eb09b770ba4f86f25"
       ],
       "layout": "IPY_MODEL_371c709ed63d4ca4b1c8ae78bb2a1762"
      }
     },
     "f84e1cda0a5c4361ba6c16e4c2e69f4b": {
      "model_module": "@jupyter-widgets/controls",
      "model_module_version": "1.5.0",
      "model_name": "VBoxModel",
      "state": {
       "children": [
        "IPY_MODEL_9c9e3af476b24815b2bdb10a7d763832",
        "IPY_MODEL_1b76991320bf48a493333aa27ddbc9b3",
        "IPY_MODEL_8256f504b272479991fa17c5999ac917",
        "IPY_MODEL_ed704a7e92a549a78f0f7cae0322795e",
        "IPY_MODEL_046fe7455dc040deb1f4dd6327b47dc4",
        "IPY_MODEL_baea50fc456b4fb0a91e258d2b824232"
       ],
       "layout": "IPY_MODEL_aa8ab2d15a5f4475b7c1723169f72555"
      }
     },
     "f86cbbc8ff02405593a8d1f7e77da4dd": {
      "model_module": "@jupyter-widgets/controls",
      "model_module_version": "1.5.0",
      "model_name": "DescriptionStyleModel",
      "state": {
       "description_width": ""
      }
     },
     "f876e822dc59448497d6a02d10ca5415": {
      "model_module": "@jupyter-widgets/controls",
      "model_module_version": "1.5.0",
      "model_name": "HTMLModel",
      "state": {
       "layout": "IPY_MODEL_d143c5158d65469db8f8caba497861e8",
       "style": "IPY_MODEL_fcb59b6eb53c442788ddd157bc1e8248",
       "value": "<i>Achieve a Glory rank of \"Legend\" in any season.</i>"
      }
     },
     "f88513343eef4abfa4e0edef2d5d2d5a": {
      "model_module": "@jupyter-widgets/controls",
      "model_module_version": "1.5.0",
      "model_name": "ButtonModel",
      "state": {
       "description": "EDIT",
       "layout": "IPY_MODEL_dbec758aeec940d8bdb016e2f8056d88",
       "style": "IPY_MODEL_3208efb97bb54451b82bb6c043ce373f"
      }
     },
     "f8df61cc90b8403ea788bd5f7190b905": {
      "model_module": "@jupyter-widgets/controls",
      "model_module_version": "1.5.0",
      "model_name": "DescriptionStyleModel",
      "state": {
       "description_width": ""
      }
     },
     "f91b38e4a7634805ac48e31638aa0ad2": {
      "model_module": "@jupyter-widgets/base",
      "model_module_version": "1.2.0",
      "model_name": "LayoutModel",
      "state": {
       "height": "32px",
       "order": "-2",
       "width": "32px"
      }
     },
     "f94f97e997a14591896ed982a3d3f321": {
      "model_module": "@jupyter-widgets/controls",
      "model_module_version": "1.5.0",
      "model_name": "LabelModel",
      "state": {
       "layout": "IPY_MODEL_5cb407fa55ea4d62801364531ea157cf",
       "style": "IPY_MODEL_ea72f175f45d4ed7bf9d057f82a4c49b",
       "value": "   objective"
      }
     },
     "f9be573cbde944748518b1b6be2b198c": {
      "model_module": "@jupyter-widgets/controls",
      "model_module_version": "1.5.0",
      "model_name": "LabelModel",
      "state": {
       "layout": "IPY_MODEL_4244568b5fdf4c80a8ec6c43b5288ee1",
       "style": "IPY_MODEL_d68fc238f3ba43018d3cbae63d5bdab5",
       "value": "   objective"
      }
     },
     "f9d7b1bc3f7940809743ccbf31681a10": {
      "model_module": "@jupyter-widgets/controls",
      "model_module_version": "1.5.0",
      "model_name": "IntProgressModel",
      "state": {
       "layout": "IPY_MODEL_66fb7f05fe0d40f2bf3886250f0b6f3b",
       "style": "IPY_MODEL_d737e6c3c0c342c6bd46c22bf3ff540b",
       "value": 30
      }
     },
     "f9d830ca880449deaa0e894e35229444": {
      "model_module": "@jupyter-widgets/base",
      "model_module_version": "1.2.0",
      "model_name": "LayoutModel",
      "state": {
       "overflow": "visible",
       "width": "100%"
      }
     },
     "f9e63631758842bb92a52838521a771c": {
      "model_module": "@jupyter-widgets/controls",
      "model_module_version": "1.5.0",
      "model_name": "HBoxModel",
      "state": {
       "children": [
        "IPY_MODEL_5fe572d4c3254f038c36358ab37dd671",
        "IPY_MODEL_c78580f3eda74786a961283731bb023a",
        "IPY_MODEL_64a4c6b0bb2f43569198d00742e25977",
        "IPY_MODEL_93fbd5d457d64e928db5db5965428d03"
       ],
       "layout": "IPY_MODEL_871280e0a1724b878fadcc719929fa85"
      }
     },
     "fa01090b49204bd9882a13a5deb99be4": {
      "model_module": "@jupyter-widgets/controls",
      "model_module_version": "1.5.0",
      "model_name": "HTMLModel",
      "state": {
       "layout": "IPY_MODEL_b06fee8e999243e9b1a6ef12504e48d8",
       "style": "IPY_MODEL_aa101b21eedc437b9763ae2ea5634d05",
       "value": "<i>Control: In a single life, defeat three opponents attempting to capture your team's capture zones.</i>"
      }
     },
     "fa0c75cace124aa7a1a6d517a1198edc": {
      "model_module": "@jupyter-widgets/controls",
      "model_module_version": "1.5.0",
      "model_name": "LabelModel",
      "state": {
       "layout": "IPY_MODEL_d82e2e108a724b0c9418fc6fe23bfae1",
       "style": "IPY_MODEL_7cffc305bc8044c1a991bdaa4d4fe57c",
       "value": "    Medals earned (27/1)"
      }
     },
     "fadd77592fb04565a3b9a50b0a1ee0e0": {
      "model_module": "@jupyter-widgets/controls",
      "model_module_version": "1.5.0",
      "model_name": "ButtonStyleModel",
      "state": {}
     },
     "fb7ee69d87f74ed880ff142d8f08d0ac": {
      "model_module": "@jupyter-widgets/base",
      "model_module_version": "1.2.0",
      "model_name": "LayoutModel",
      "state": {
       "height": "32px",
       "overflow": "visible",
       "width": "100%"
      }
     },
     "fb98749e38c2443e9ac014fd20b0fa51": {
      "model_module": "@jupyter-widgets/controls",
      "model_module_version": "1.5.0",
      "model_name": "DescriptionStyleModel",
      "state": {
       "description_width": ""
      }
     },
     "fbf91cbac0c14a7ca92b9b9d147a47b3": {
      "model_module": "@jupyter-widgets/controls",
      "model_module_version": "1.5.0",
      "model_name": "LabelModel",
      "state": {
       "layout": "IPY_MODEL_a62ef4151cc545f1a57092f2b21e6e3e",
       "style": "IPY_MODEL_b7922b9546df4719b67782828d41ac1f",
       "value": "   objective"
      }
     },
     "fc0d2b7425644be196119bd1158a4c9c": {
      "model_module": "@jupyter-widgets/base",
      "model_module_version": "1.2.0",
      "model_name": "LayoutModel",
      "state": {
       "height": "32px",
       "overflow": "visible",
       "width": "100%"
      }
     },
     "fc6c46dc16ee4d17b8e4a1bfdcdc7474": {
      "model_module": "@jupyter-widgets/base",
      "model_module_version": "1.2.0",
      "model_name": "LayoutModel",
      "state": {
       "height": "32px",
       "overflow": "visible",
       "width": "100%"
      }
     },
     "fcb59b6eb53c442788ddd157bc1e8248": {
      "model_module": "@jupyter-widgets/controls",
      "model_module_version": "1.5.0",
      "model_name": "DescriptionStyleModel",
      "state": {
       "description_width": ""
      }
     },
     "fcbad1e37403420883a5ca59385d2c78": {
      "model_module": "@jupyter-widgets/base",
      "model_module_version": "1.2.0",
      "model_name": "LayoutModel",
      "state": {
       "height": "32px",
       "overflow": "visible",
       "width": "100%"
      }
     },
     "fd575ed0391b4407a96ab921c37a4cdf": {
      "model_module": "@jupyter-widgets/base",
      "model_module_version": "1.2.0",
      "model_name": "LayoutModel",
      "state": {
       "order": "-1",
       "overflow": "visible",
       "padding": "1px",
       "width": "0px"
      }
     },
     "fd5fc22579754846ab25a68831b2c3bd": {
      "model_module": "@jupyter-widgets/controls",
      "model_module_version": "1.5.0",
      "model_name": "ButtonStyleModel",
      "state": {}
     },
     "fdd9c7fdd6744ffbbcefde8a79da6a0a": {
      "model_module": "@jupyter-widgets/controls",
      "model_module_version": "1.5.0",
      "model_name": "ButtonModel",
      "state": {
       "layout": "IPY_MODEL_680669112dde419eb3971ee85f673484",
       "style": "IPY_MODEL_5047e2896cfa4533983a41578890ea7b"
      }
     },
     "fddd9cb0e8614eb0aeede97a15979fdf": {
      "model_module": "@jupyter-widgets/controls",
      "model_module_version": "1.5.0",
      "model_name": "IntProgressModel",
      "state": {
       "layout": "IPY_MODEL_14df4150acfb4093ba725341656ca7df",
       "style": "IPY_MODEL_8afd6d17417547a0aa94745a60571bb1",
       "value": 30
      }
     },
     "fdeb564a5f8f4785b8c90ddc0b14abb6": {
      "model_module": "@jupyter-widgets/base",
      "model_module_version": "1.2.0",
      "model_name": "LayoutModel",
      "state": {
       "order": "-1",
       "overflow": "visible",
       "padding": "1px",
       "width": "0px"
      }
     },
     "fe13e8e206294eb89b127bd1406517fb": {
      "model_module": "@jupyter-widgets/controls",
      "model_module_version": "1.5.0",
      "model_name": "ButtonModel",
      "state": {
       "layout": "IPY_MODEL_4ea32022262e405bab96cd510b571818",
       "style": "IPY_MODEL_c24c7b23a4f84defbdaabf7531f466ec"
      }
     },
     "fe14551802f64f0f893dbbb28d635d94": {
      "model_module": "@jupyter-widgets/base",
      "model_module_version": "1.2.0",
      "model_name": "LayoutModel",
      "state": {
       "overflow": "visible",
       "width": "100%"
      }
     },
     "fe3914122eca4932890f674c9ef89391": {
      "model_module": "@jupyter-widgets/controls",
      "model_module_version": "1.5.0",
      "model_name": "LabelModel",
      "state": {
       "layout": "IPY_MODEL_b47b012003d54223b597f060a636f261",
       "style": "IPY_MODEL_4d1a03319d7643409fcf6975e5e740c2",
       "value": "   objective"
      }
     },
     "fe4102187af841b9a93cb0c8aaae8499": {
      "model_module": "@jupyter-widgets/base",
      "model_module_version": "1.2.0",
      "model_name": "LayoutModel",
      "state": {
       "height": "32px",
       "overflow": "visible",
       "width": "100%"
      }
     },
     "fe6207fd66124865a5396e39d33b29b9": {
      "model_module": "@jupyter-widgets/controls",
      "model_module_version": "1.5.0",
      "model_name": "HTMLModel",
      "state": {
       "layout": "IPY_MODEL_b99f2a96874b4d979ee552bff28204af",
       "style": "IPY_MODEL_137ff8f3fc7f4fe28e65074112763d75",
       "value": "<font size=\"5\"><b>Gone to Ground</b></font size=>"
      }
     },
     "fe9979ddf5fb4c508ff524d409cc9e96": {
      "model_module": "@jupyter-widgets/base",
      "model_module_version": "1.2.0",
      "model_name": "LayoutModel",
      "state": {
       "height": "32px",
       "order": "-2",
       "width": "32px"
      }
     },
     "fea944c9acba49248c4fb2226d8a0dd8": {
      "model_module": "@jupyter-widgets/controls",
      "model_module_version": "1.5.0",
      "model_name": "HBoxModel",
      "state": {
       "children": [
        "IPY_MODEL_a38805e93960482a8adbcd2a9ff35e57",
        "IPY_MODEL_d1ff95cd00f94e29b8c1d6553423409c",
        "IPY_MODEL_942a42916d604310bb647ad429f7da3a",
        "IPY_MODEL_c059e01ea27b4bf2bf905dc3287798f6"
       ],
       "layout": "IPY_MODEL_ecff5446d89b4e1c9d8776d8e61f9221"
      }
     },
     "ff0b5e072909400c960f27bbc511f2e5": {
      "model_module": "@jupyter-widgets/base",
      "model_module_version": "1.2.0",
      "model_name": "LayoutModel",
      "state": {
       "height": "32px",
       "order": "-2",
       "width": "32px"
      }
     },
     "ff5d76124e254d6d86cb75adbd9c30c6": {
      "model_module": "@jupyter-widgets/base",
      "model_module_version": "1.2.0",
      "model_name": "LayoutModel",
      "state": {
       "height": "32px",
       "overflow": "visible",
       "width": "100%"
      }
     },
     "ff6b093339864dbbaa8c0e1dfbea2c31": {
      "model_module": "@jupyter-widgets/controls",
      "model_module_version": "1.5.0",
      "model_name": "VBoxModel",
      "state": {
       "children": [
        "IPY_MODEL_a342a78e6c464c9895a1964937ece5a6",
        "IPY_MODEL_3fda9a5e6f7b45bd881d44f8bcd8f2fe",
        "IPY_MODEL_80d05ab97f164572a568d80f2942da15",
        "IPY_MODEL_5793662094684c94bae3df10ebd0816b"
       ],
       "layout": "IPY_MODEL_e3b1b28abe254b468964568b8eb2e0fd"
      }
     },
     "ff8965a4ca7a48fa9caf4e3009fb8582": {
      "model_module": "@jupyter-widgets/controls",
      "model_module_version": "1.5.0",
      "model_name": "DescriptionStyleModel",
      "state": {
       "description_width": ""
      }
     },
     "ffdaac1b3cc944d89c58ee49d02b5e44": {
      "model_module": "@jupyter-widgets/base",
      "model_module_version": "1.2.0",
      "model_name": "LayoutModel",
      "state": {
       "display": "none"
      }
     },
     "ffe10e9a0b35429eb09b770ba4f86f25": {
      "model_module": "@jupyter-widgets/controls",
      "model_module_version": "1.5.0",
      "model_name": "ButtonModel",
      "state": {
       "description": "EDIT",
       "layout": "IPY_MODEL_c7e48e510107476fb65f92ad56f5b54f",
       "style": "IPY_MODEL_620d8790c71045e3896ab64985099b71"
      }
     },
     "fff95415c2084bad88bec5e3d4778963": {
      "model_module": "@jupyter-widgets/controls",
      "model_module_version": "1.5.0",
      "model_name": "ProgressStyleModel",
      "state": {
       "description_width": ""
      }
     }
    },
    "version_major": 2,
    "version_minor": 0
   }
  }
 },
 "nbformat": 4,
 "nbformat_minor": 4
}
