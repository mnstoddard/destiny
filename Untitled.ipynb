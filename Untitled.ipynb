{
 "cells": [
  {
   "cell_type": "code",
   "execution_count": 1,
   "metadata": {},
   "outputs": [
    {
     "data": {
      "application/vnd.jupyter.widget-view+json": {
       "model_id": "93454f9fc50d44ad950bc3eb9d70823c",
       "version_major": 2,
       "version_minor": 0
      },
      "text/plain": [
       "Output()"
      ]
     },
     "metadata": {},
     "output_type": "display_data"
    }
   ],
   "source": [
    "import pickle\n",
    "import requests\n",
    "import ipywidgets as widgets\n",
    "\n",
    "def print_map(a,lvl=0):\n",
    "    for key, val in a.items():\n",
    "        indent = ''\n",
    "        for i in range(lvl):\n",
    "            indent = indent + '  '\n",
    "        if type(val) is dict:\n",
    "            print(indent,'-', key)\n",
    "            print_map(val,lvl+1)\n",
    "        else:\n",
    "            print(indent,'-', key, ':', val)\n",
    "\n",
    "with open('triumphs.data', 'rb') as filehandle:\n",
    "    triumphs = pickle.load(filehandle)\n",
    "    \n",
    "with open('bounties.data', 'rb') as filehandle:\n",
    "    bounties = pickle.load(filehandle)\n",
    "    \n",
    "with open('requirements.data', 'rb') as filehandle:\n",
    "    requirements = pickle.load(filehandle)\n",
    "\n",
    "output = widgets.Output()\n",
    "display(output)"
   ]
  },
  {
   "cell_type": "code",
   "execution_count": 2,
   "metadata": {},
   "outputs": [],
   "source": [
    "gamertag = 'skalligman'\n",
    "\n",
    "#retrieve membershipId\n",
    "HEADERS = {'X-API-KEY':'ae7eca0de2cf4bdea9777dc66d862f71'}\n",
    "base = 'https://www.bungie.net/Platform/Destiny2'\n",
    "\n",
    "#retrieve membershipId\n",
    "URL = f'{base}/SearchDestinyPlayer/-1/{gamertag}/'\n",
    "r = requests.get(url = URL, headers = HEADERS) \n",
    "data = r.json()\n",
    "membershipId = data['Response'][0]['membershipId']\n",
    "\n",
    "#retrieve characterIds\n",
    "URL = f'{base}/1/Profile/{membershipId}/?components=200'\n",
    "r = requests.get(url = URL, headers = HEADERS) \n",
    "data = r.json()\n",
    "characterIds = list(data['Response']['characters']['data'].keys())\n",
    "characters = {}\n",
    "for characterId in characterIds:\n",
    "    if data['Response']['characters']['data'][characterId]['classHash'] == 2271682572:\n",
    "        characters[characterId] = 'Warlock' \n",
    "    if data['Response']['characters']['data'][characterId]['classHash'] == 671679327:\n",
    "        characters[characterId] = 'Hunter' \n",
    "    if data['Response']['characters']['data'][characterId]['classHash'] == 3655393761:\n",
    "        characters[characterId] = 'Titan' \n",
    "\n",
    "URL = f'{base}/1/Profile/{membershipId}/?components=900'\n",
    "r = requests.get(url = URL, headers = HEADERS) \n",
    "data = r.json()\n",
    "records = data['Response']['profileRecords']['data']['records']\n",
    "for characterId in characterIds:\n",
    "    records.update(data['Response']['characterRecords']['data'][characterId]['records'])\n",
    "for record in records:\n",
    "    if int(record) in triumphs:\n",
    "        if 'objectives' in records[record]:\n",
    "            obj = 'objectives'\n",
    "        if 'intervalObjectives' in records[record]:\n",
    "            obj = 'intervalObjectives'\n",
    "        triumphs[int(record)]['complete'] = True\n",
    "        for objective in records[record][obj]:\n",
    "            objectiveHash = objective['objectiveHash']\n",
    "            triumphs[int(record)]['objectives'][objectiveHash]['progress'] = objective['progress']\n",
    "            triumphs[int(record)]['objectives'][objectiveHash]['complete'] = objective['complete']\n",
    "            if not objective['complete']:\n",
    "                triumphs[int(record)]['complete'] = False\n",
    "\n",
    "bountyInstances = {}\n",
    "nonInstancedItems = {}\n",
    "\n",
    "URL = f'{base}/1/Profile/{membershipId}?components=201'\n",
    "r = requests.get(url = URL, headers = HEADERS) \n",
    "data = r.json()\n",
    "for characterId in data['Response']['characterInventories']['data']:\n",
    "    nonInstancedItems[characterId] = []\n",
    "    for item in data['Response']['characterInventories']['data'][characterId]['items']:\n",
    "        if item['bucketHash'] == 1345459588:\n",
    "            if 'itemInstanceId' in item:\n",
    "                if item['itemHash'] in bounties:\n",
    "                    bountyInstances[item['itemInstanceId']] = bounties[item['itemHash']]\n",
    "                    bountyInstances[item['itemInstanceId']]['itemHash'] = item['itemHash']\n",
    "                    if 'expirationDate' in item:\n",
    "                        bountyInstances[item['itemInstanceId']]['expirationDate'] = item['expirationDate']\n",
    "                    else:\n",
    "                        bountyInstances[item['itemInstanceId']]['expirationDate'] = 'none'\n",
    "            else:\n",
    "                nonInstancedItems[characterId].append(item['itemHash'])\n",
    "\n",
    "        \n",
    "                \n",
    "for bountyInstance in bountyInstances:\n",
    "    URL = f'{base}/1/Profile/{membershipId}/Item/{bountyInstance}/?components=301'\n",
    "    r = requests.get(url = URL, headers = HEADERS)\n",
    "    bountyInstanceData = r.json()\n",
    "    bountyInstances[bountyInstance]['character'] = characters[bountyInstanceData['Response']['characterId']]\n",
    "    for objective in bountyInstanceData['Response']['objectives']['data']['objectives']:\n",
    "        bountyInstances[bountyInstance]['objectives'][objective['objectiveHash']]['progress'] = objective['progress']\n",
    "        bountyInstances[bountyInstance]['objectives'][objective['objectiveHash']]['complete'] = objective['complete']\n",
    "\n"
   ]
  },
  {
   "cell_type": "code",
   "execution_count": 38,
   "metadata": {},
   "outputs": [],
   "source": [
    "\n",
    "\n",
    "URL = f'{base}/1/Profile/{membershipId}/Character/{characterIds[0]}/Vendors/3603221665?components=400'\n",
    "r = requests.get(url = URL, headers = HEADERS) \n",
    "data = r.json()\n"
   ]
  },
  {
   "cell_type": "code",
   "execution_count": 39,
   "metadata": {},
   "outputs": [
    {
     "name": "stdout",
     "output_type": "stream",
     "text": [
      " - ErrorCode : 12\n",
      " - ThrottleSeconds : 0\n",
      " - ErrorStatus : InsufficientPrivileges\n",
      " - Message : You lack the privileges to read or write this data.\n",
      " - MessageData\n"
     ]
    }
   ],
   "source": [
    "\n",
    "print_map(data)"
   ]
  },
  {
   "cell_type": "code",
   "execution_count": 3,
   "metadata": {},
   "outputs": [],
   "source": [
    "all_tasks = {}\n",
    "\n",
    "for triumph in triumphs:\n",
    "    all_tasks[triumph] = {\n",
    "        'path': triumphs[triumph]['path'],\n",
    "        'name': triumphs[triumph]['name'],\n",
    "        'description': triumphs[triumph]['description'],\n",
    "        'objectives': {}}\n",
    "    for objective in triumphs[triumph]['objectives']:\n",
    "        all_tasks[triumph]['objectives'][objective] = {\n",
    "            'description': triumphs[triumph]['objectives'][objective]['description'],\n",
    "            'completionValue': triumphs[triumph]['objectives'][objective]['completionValue'],\n",
    "            'progress': triumphs[triumph]['objectives'][objective]['progress']\n",
    "        }\n",
    "        \n",
    "\n",
    "        \n",
    "for bounty in bounties:\n",
    "    vendor = bounties[bounty]['vendor']\n",
    "    all_tasks[bounty] = {\n",
    "        'path': f'Pursuits/Bounties/{vendor}',\n",
    "        'name': bounties[bounty]['name'],\n",
    "        'description': bounties[bounty]['description'],\n",
    "        'objectives': {}}\n",
    "    for objective in bounties[bounty]['objectives']:\n",
    "        all_tasks[bounty]['objectives'][objective] = {\n",
    "            'description': bounties[bounty]['objectives'][objective]['description'],\n",
    "            'completionValue': bounties[bounty]['objectives'][objective]['completionValue'],\n",
    "            'progress': bounties[bounty]['objectives'][objective]['progress']\n",
    "        }"
   ]
  },
  {
   "cell_type": "code",
   "execution_count": 4,
   "metadata": {},
   "outputs": [],
   "source": [
    "\n",
    "hbox_GUI = widgets.HBox()\n"
   ]
  },
  {
   "cell_type": "code",
   "execution_count": 5,
   "metadata": {},
   "outputs": [],
   "source": [
    "options = {\n",
    "    'Class': ['Any', 'Titan', 'Hunter', 'Warlock'],\n",
    "    'Subclass': {\n",
    "        'Titan': ['Any', 'Sentinel', 'Striker', 'Sunbreaker'],\n",
    "        'Hunter': ['Any', 'Nightstalker', 'Arcstrider', 'Gunslinger'],\n",
    "        'Warlock': ['Any', 'Voidwalker', 'Stormcaller', 'Dawnblade']\n",
    "    },\n",
    "    'Tree': {\n",
    "        'Titan': {\n",
    "            'Sentinel': ['Any', 'Code of the Commander', 'Code of the Protector', 'Code of the Aggressor'],\n",
    "            'Striker': ['Any', 'Code of the Earthshaker', 'Code of the Missile', 'Code of the Juggernaut'],\n",
    "            'Sunbreaker':['Any', 'Code of the Fire-Forged', 'Code of the Devastator', 'Code of the Siegebreaker']\n",
    "        },\n",
    "        'Hunter': {\n",
    "            'Nightstalker': ['Any', 'Way of the Trapper', 'Way of the Wraith', 'Way of the Pathfinder'],\n",
    "            'Arcstrider': ['Any', 'Way of the Warrior', 'Way of the Current', 'Way of the Wind'],\n",
    "            'Gunslinger': ['Any', 'Way of the Outlaw', 'Way of a Thousand Cuts', 'Way of the Outlaw']\n",
    "        },\n",
    "        'Warlock': {\n",
    "            'Voidwalker': ['Any', 'Attunement of Chaos', 'Attunement of Fission', 'Attunement of Hunger'],\n",
    "            'Stormcaller': ['Any', 'Attunement of Conduction', 'Attunement of Control', 'Attunement of the Elements'],\n",
    "            'Dawnblade': ['Any', 'Attunement of Sky', 'Attunement of Grace', 'Attunement of Flame']\n",
    "        }\n",
    "    },\n",
    "    'Grenade': {\n",
    "        'Titan': {\n",
    "            'Sentinel': ['Any', 'Magnetic Grenade', 'Voidwall Grenade', 'Suppressor Grenade'],\n",
    "            'Striker': ['Any', 'Flashbang Grenade', 'Pulse Grenade', 'Lightning Grenade'],\n",
    "            'Sunbreaker':['Any', 'Incendiary Grenade', 'Thermite Grenade', 'Fusion Grenade']\n",
    "        },\n",
    "        'Hunter': {\n",
    "            'Nightstalker':['Any' ,'Vortex Grenade', 'Spike Grenade', ' Voidwall Grenade'],\n",
    "            'Arcstrider': ['Any', 'Skip Grenade', 'Flux Grenade', 'Arcbolt Grenade'],\n",
    "            'Gunslinger': ['Any', 'Incendiary Grenade', 'Swarm Grenade', 'Tripmine Grenade']\n",
    "        },\n",
    "        'Warlock': {\n",
    "            'Voidwalker': ['Any', 'Vortex Grenade', 'Axion Bolt', 'Scatter Grenade'],\n",
    "            'Stormcaller': ['Any', 'Arcbolt Grenade', 'Pulse Grenade', 'Storm Grenade'],\n",
    "            'Dawnblade': ['Any', 'Solar Grenade', 'Firebolt Grenade', 'Fusion Grenade']\n",
    "        }\n",
    "    },\n",
    "    \n",
    "    'Kinetic Weapon': ['Any', 'Hand Cannon', 'Auto Rifle', 'Scout Rifle', 'Pulse Rifle', 'Sidearm', 'Submachine Gun', 'Combt Bow', 'Sniper Rifle', 'Shotgun'],\n",
    "    'Energy Weapon': ['Any', 'Hand Cannon', 'Auto Rifle', 'Scout Rifle', 'Pulse Rifle', 'Sidearm', 'Submachine Gun', 'Combt Bow', 'Sniper Rifle', 'Shotgun', 'Fusion Rifle', 'Grenade Launcher'],\n",
    "    'Power Weapon': ['Any', 'Machine Gun', 'Sword', 'Grenade Launcher', 'Rocket Launcher', 'Linear Fusion Rifle'],\n",
    "    'Energy Weapon Type': ['Any', 'Arc', 'Solar', 'Void'],\n",
    "    'Power Weapon Type': ['Any', 'Arc', 'Solar', 'Void'],\n",
    "    'Armor': ['Any'],\n",
    "    \n",
    "    'Activity Type': ['Any', 'Patrol', 'Gambit', 'Reckoning', 'Menagerie', 'Vex Offensive', 'Raid', 'Strike', 'Nightfall', 'Crucible', 'Forge'],\n",
    "    'Activity': {\n",
    "        'Patrol': ['Any', 'Earth', 'Io', 'Nessus', 'Titan','Mars', 'Dreaming City', 'Tangled Shore', 'The Moon'],\n",
    "        'Strike': ['Any', 'Lake of Shadows','Savathûn\\'s Song','The Arms Dealer','The Inverted Spire','The Pyramidion', 'A Garden World','Tree of Probabilities','Will of The Thousands','Strange Terrain','The Insight Termius','Warden of Nothing','Broodhold','The Hollowed Lair','The Corrupted'],\n",
    "        'Nightfall': ['Any', 'Lake of Shadows','Savathûn\\'s Song','The Arms Dealer','The Inverted Spire','The Pyramidion', 'A Garden World','Tree of Probabilities','Will of The Thousands','Strange Terrain','The Insight Termius','Warden of Nothing','Broodhold','The Hollowed Lair','The Corrupted'],\n",
    "        'Raid': ['Any', 'Liathan', 'Prestige Leviathan', 'Eater of Worlds', 'Spire of Stars', 'Last Wish', 'Scourage of The Past', 'Crown of Sorrow', 'Garden of Salvation'],\n",
    "        'Crucible': ['Any', 'Clash', 'Control', 'Showdown', 'Mayhem', 'Breakthrough', 'Lockdown', 'Rumble', 'Supremacy', 'Doubles', 'Scorched', 'Countdown', 'Survival', 'Iron Banner'],\n",
    "        'Gambit': ['Any', 'Gambit', 'Gambit Prime'],\n",
    "        'Reckoning': ['Any', 'Tier I', 'Tier II', 'Tier III'],\n",
    "        'Menagerie': ['Any', 'Normal', 'Heroic'],\n",
    "        'Forge': ['Any', 'Volundr Forge', 'Gofannon Forge', 'Izanami Forge', 'Bergusia Forge']\n",
    "    }\n",
    "}\n",
    "\n",
    "\n",
    "#build Options Pane\n",
    "\n",
    "box_spacer = widgets.Box(layout=widgets.Layout(height='20px'))\n",
    "\n",
    "#---------------------Filter---------------------\n",
    "layout_box = widgets.Layout(\n",
    "    border='1px solid white',\n",
    "    width='15%',\n",
    "    padding='10px'\n",
    ")\n",
    "\n",
    "layout_general = widgets.Layout(\n",
    "    width='98%',\n",
    "    height = '100%'\n",
    ")\n",
    "\n",
    "layout_dropdown_inactive = widgets.Layout(\n",
    "    width='98%',\n",
    "    height = '100%',\n",
    "    border = ''\n",
    ")\n",
    "\n",
    "layout_dropdown_active = widgets.Layout(\n",
    "    width='98%',\n",
    "    border = '2px solid #00bcd4',\n",
    "    height = '100%'\n",
    ")\n",
    "\n",
    "\n",
    "#---------------------Class---------------------\n",
    "label_class_options = widgets.HTML(value = \"<b>Class Options</b>\")\n",
    "\n",
    "label_class = widgets.Label(value='Class:',layout = layout_general)\n",
    "dropdown_class = widgets.Dropdown(options = options['Class'],layout = layout_dropdown_inactive)\n",
    "\n",
    "label_subclass = widgets.Label(value='Subclass:',layout = layout_general)\n",
    "dropdown_subclass = widgets.Dropdown(options = ['Any'],disabled = True,layout = layout_dropdown_inactive)\n",
    "\n",
    "label_tree = widgets.Label(value='Tree:',layout = layout_general)\n",
    "dropdown_tree = widgets.Dropdown(options = ['Any'],disabled = True,layout = layout_dropdown_inactive)\n",
    "\n",
    "label_grenade = widgets.Label(value='Grenade:',layout = layout_general)\n",
    "dropdown_grenade = widgets.Dropdown(options = ['Any'],disabled = True,layout = layout_dropdown_inactive)\n",
    "\n",
    "vbox_class_options = widgets.VBox(\n",
    "    children = [\n",
    "        label_class_options,\n",
    "        label_class,\n",
    "        dropdown_class,\n",
    "        label_subclass,\n",
    "        dropdown_subclass,\n",
    "        label_tree,\n",
    "        dropdown_tree,\n",
    "        label_grenade,\n",
    "        dropdown_grenade])\n",
    "\n",
    "\n",
    "#---------------------Gear---------------------\n",
    "label_gear_options = widgets.HTML(value = \"<b>Gear Options</b>\")\n",
    "\n",
    "label_kinetic = widgets.Label(value='Kinetic Weapon:',layout = layout_general)\n",
    "dropdown_kinetic = widgets.Dropdown(options = options['Kinetic Weapon'],layout = layout_dropdown_inactive)\n",
    "\n",
    "label_energy = widgets.Label(value='Energy Weapon:',layout = layout_general)\n",
    "dropdown_energy = widgets.Dropdown(options = options['Energy Weapon'],layout = layout_general)\n",
    "dropdown_energy_type = widgets.Dropdown(options = options['Energy Weapon Type'],layout = layout_dropdown_inactive)\n",
    "\n",
    "label_power = widgets.Label(value='Power Weapon:',layout = layout_general)\n",
    "dropdown_power = widgets.Dropdown(options = options['Power Weapon'])\n",
    "dropdown_power_type = widgets.Dropdown(options = options['Power Weapon Type'],layout = layout_dropdown_inactive)\n",
    "\n",
    "label_armor = widgets.Label(value='Armor Set:',layout = layout_general)\n",
    "dropdown_armor = widgets.Dropdown(options = options['Armor'],layout = layout_dropdown_inactive)\n",
    "\n",
    "vbox_gear = widgets.VBox(\n",
    "    children = [\n",
    "        label_gear_options,\n",
    "        label_kinetic,\n",
    "        dropdown_kinetic,\n",
    "        label_energy,\n",
    "        dropdown_energy,\n",
    "        dropdown_energy_type,\n",
    "        label_power,\n",
    "        dropdown_power,\n",
    "        dropdown_power_type,\n",
    "        label_armor,\n",
    "        dropdown_armor])\n",
    "\n",
    "#---------------------Activities---------------------\n",
    "label_activity_options = widgets.HTML(\n",
    "    value = \"<b>Activity Options</b>\",layout = layout_general)\n",
    "\n",
    "dropdown_activity_type = widgets.Dropdown(options = options['Activity Type'],layout = layout_dropdown_inactive)\n",
    "\n",
    "dropdown_activity = widgets.Dropdown(options = ['Any'],disabled = True,layout = layout_dropdown_inactive)\n",
    "\n",
    "vbox_activity = widgets.VBox(\n",
    "    children=[\n",
    "        label_activity_options,\n",
    "        dropdown_activity_type,\n",
    "        dropdown_activity])\n",
    "\n",
    "#----------Options-------------\n",
    "\n",
    "vbox_options = widgets.VBox(\n",
    "    children=[\n",
    "        vbox_activity,\n",
    "        box_spacer,\n",
    "        vbox_class_options,\n",
    "        box_spacer,\n",
    "        vbox_gear],\n",
    "    layout = layout_box)\n",
    "\n",
    "#-----------------------Interact Functions --------------------------\n",
    "\n",
    "def change_class(change):\n",
    "    if change['new'] == 'Any':\n",
    "        dropdown_subclass.options = ['Any']\n",
    "        dropdown_subclass.disabled = True\n",
    "    else:\n",
    "        dropdown_subclass.options = options['Subclass'][change['new']]\n",
    "        dropdown_subclass.disabled = False\n",
    "        \n",
    "def change_subclass(change):\n",
    "    if change['new'] == 'Any':\n",
    "        dropdown_tree.options = ['Any']\n",
    "        dropdown_tree.disabled = True\n",
    "        dropdown_grenade.options = ['Any']\n",
    "        dropdown_grenade.disabled = True\n",
    "    else:\n",
    "        dropdown_tree.options = options['Tree'][dropdown_class.value][change['new']]\n",
    "        dropdown_tree.disabled = False\n",
    "        dropdown_grenade.options = options['Grenade'][dropdown_class.value][change['new']]\n",
    "        dropdown_grenade.disabled = False\n",
    "        \n",
    "def change_activity_type(change):\n",
    "    if change['new'] == 'Any':\n",
    "        dropdown_activity.options = ['Any']\n",
    "        dropdown_activity.disabled = True\n",
    "    else:\n",
    "        dropdown_activity.options = options['Activity'][change['new']]\n",
    "        dropdown_activity.disabled = False\n",
    "        \n",
    "        \n",
    "dropdown_class.observe(change_class, names = 'value')\n",
    "dropdown_subclass.observe(change_subclass, names = 'value')\n",
    "dropdown_activity_type.observe(change_activity_type, names = 'value')\n"
   ]
  },
  {
   "cell_type": "code",
   "execution_count": 6,
   "metadata": {},
   "outputs": [],
   "source": [
    "n_per_page = 15\n",
    "\n",
    "def toggle_objective(b):\n",
    "    if b.objective_hash in active_objectives:\n",
    "        active_objectives.remove(b.objective_hash)\n",
    "    else:\n",
    "        active_objectives.append(b.objective_hash)\n",
    "    refresh_loadout()\n",
    "    refresh_task_view()\n",
    "    \n",
    "    \n",
    "    \n",
    "def edit_objective(b):\n",
    "    dropdown_triumph_req.value = b.task_hash\n",
    "    dropdown_objective_req.value = b.objective_hash\n",
    "\n",
    "def build_task_widget():\n",
    "\n",
    "    layout_vbox_triumph = widgets.Layout(\n",
    "        margin = '10px',\n",
    "        padding='10px',\n",
    "        border='3px solid white',\n",
    "        width = '400px',\n",
    "        overflow = 'visible')\n",
    "\n",
    "    layout_label_name = widgets.Layout(\n",
    "        width = '100%',\n",
    "        overflow = 'visible')\n",
    "\n",
    "    layout_label_word = widgets.Layout(\n",
    "        )\n",
    "\n",
    "    layout_hbox_description = widgets.Layout(\n",
    "        display = 'flex',\n",
    "        flex_flow = 'row wrap')\n",
    "\n",
    "    layout_vbox_objectives = widgets.Layout(\n",
    "        width = '100%',\n",
    "        overflow = 'visible')\n",
    "\n",
    "\n",
    "    layout_label_objective = widgets.Layout(\n",
    "        padding='1px',\n",
    "        width = '0px',\n",
    "        overflow = 'visible',\n",
    "        order='-1')\n",
    "\n",
    "    layout_intProgress_objective = widgets.Layout(\n",
    "        padding='0px',\n",
    "        #border='1px solid black',\n",
    "        width = '100%',\n",
    "        height = '32px',\n",
    "        overflow = 'visible')\n",
    "\n",
    "    layout_button_objective = widgets.Layout(\n",
    "        width = '32px',\n",
    "        height = '32px',\n",
    "        order = '-2')\n",
    "\n",
    "    vbox_triumph = widgets.VBox(layout=layout_vbox_triumph)\n",
    "    \n",
    "    label_path = widgets.HTML(value = '<font size=\"1\">Path/Path/Path/Path/</font size>', layout = layout_label_name)\n",
    "\n",
    "    label_name = widgets.HTML(value = '<b>Task Name</b>', layout = layout_label_name)\n",
    "\n",
    "    label_description = widgets.HTML(value = '<i>test test test test test test test test test test test test test test test test test test test test test test test test </i>')\n",
    "\n",
    "    vbox_objectives = widgets.VBox(layout=layout_vbox_objectives)\n",
    "    objectives = []\n",
    "    for i in range(6):\n",
    "        \n",
    "        button_objective = widgets.Button(layout = layout_button_objective)\n",
    "        button_objective.objective_hash = 0\n",
    "        button_objective.on_click(toggle_objective)\n",
    "        button_edit = widgets.Button(description='EDIT', layout=widgets.Layout(width='60px'))\n",
    "        button_edit.on_click(edit_objective)\n",
    "        \n",
    "        objective_description = f'objective {i}'\n",
    "        label_objective = widgets.Label(value = f'\\xa0\\xa0\\xa0\\xa0\\xa0\\xa0\\xa0\\xa0\\xa0\\xa0\\xa0\\xa0\\xa0{objective_description}', layout = layout_label_objective)\n",
    "        \n",
    "        intProgress_objective = widgets.IntProgress(\n",
    "            value=30,\n",
    "            min=0,\n",
    "            max=100,\n",
    "            step=1,\n",
    "            layout = layout_intProgress_objective)\n",
    "        \n",
    "        hbox_objective = widgets.HBox()\n",
    "        hbox_objective.children = [button_objective,intProgress_objective, label_objective, button_edit]\n",
    "        button_objective.parent = hbox_objective\n",
    "        hbox_objective.parent = vbox_objectives\n",
    "        \n",
    "        \n",
    "        objectives.append(hbox_objective)\n",
    "\n",
    "    vbox_objectives.children = objectives\n",
    "    vbox_triumph.children = [label_path,label_name,label_description, vbox_objectives]\n",
    "    vbox_objectives.parent = vbox_triumph\n",
    "\n",
    "    return (vbox_triumph)\n",
    "    \n",
    "vbox_tasks = widgets.VBox(layout=widgets.Layout(width='85%'))\n",
    "\n",
    "hbox_tasks_header = widgets.HBox(layout=widgets.Layout(justify_content = 'space-between'))\n",
    "button_refresh = widgets.Button(description='Refresh')\n",
    "button_previous_page = widgets.Button(description = 'Previous Page')\n",
    "button_next_page = widgets.Button(description = 'Next Page')\n",
    "label_current_page = widgets.HTML('Current Page')\n",
    "hbox_task_buttons = widgets.HBox(children=[button_previous_page,button_next_page])\n",
    "vbox_task_info = widgets.VBox(children=[label_current_page,hbox_task_buttons])\n",
    "checkbox_complete = widgets.Checkbox(description='Hide Complete')\n",
    "checkbox_triumphs = widgets.Checkbox(description='Hide Triumphs')\n",
    "checkbox_pursuits = widgets.Checkbox(description='Hide Pursuits')\n",
    "checkbox_collections = widgets.Checkbox(description='Hide Collections')\n",
    "checkbox_milestones = widgets.Checkbox(description='Hide Milestones')\n",
    "checkbox_conflicting = widgets.Checkbox(description='Hide Conflicting Tasks')\n",
    "layout_checkboxes = widgets.Layout(display = 'flex', flex_flow = 'column wrap')\n",
    "box_checkboxes = widgets.Box(children=[checkbox_complete,checkbox_triumphs,checkbox_pursuits,checkbox_collections,checkbox_milestones,checkbox_conflicting],layout=layout_checkboxes)\n",
    "hbox_tasks_header.children = [button_refresh,box_checkboxes,vbox_task_info]\n",
    "\n",
    "layout_tasks = widgets.Layout(\n",
    "    display = 'flex',\n",
    "    flex_flow = 'row wrap',\n",
    "    justify_content = 'space-between'\n",
    ")\n",
    "task_widgets = []\n",
    "for i in range(n_per_page):\n",
    "    task_widgets.append(build_task_widget())\n",
    "box_tasks = widgets.Box(children=task_widgets, layout=layout_tasks)\n",
    "\n",
    "\n",
    "vbox_tasks.children = [hbox_tasks_header,box_tasks]\n",
    "\n",
    "hbox_GUI.children=[vbox_options,vbox_tasks]"
   ]
  },
  {
   "cell_type": "code",
   "execution_count": 7,
   "metadata": {},
   "outputs": [],
   "source": [
    "\n",
    "active_objectives = []\n",
    "total_potential_tasks = 0\n",
    "tasks_per_page = 15\n",
    "total_task_pages = 0\n",
    "current_page = 0\n",
    "\n",
    "\n",
    "def filter_tasks():\n",
    "    \n",
    "    global potential_tasks\n",
    "    global total_potential_tasks\n",
    "    global total_task_pages\n",
    "    global current_page\n",
    "    \n",
    "    current_page = 0\n",
    "    \n",
    "    potential_tasks = []\n",
    "\n",
    "    for task in all_tasks:\n",
    "        add_task = True\n",
    "        \n",
    "        #filter compllete\n",
    "        if checkbox_complete.value:\n",
    "            complete = True\n",
    "            for objective in all_tasks[task]['objectives']:\n",
    "                if all_tasks[task]['objectives'][objective]['progress'] < all_tasks[task]['objectives'][objective]['completionValue']:\n",
    "                    complete = False\n",
    "            if complete:\n",
    "                add_task = False\n",
    "                \n",
    "        #filter triumphs\n",
    "        if checkbox_triumphs.value and ('Triumphs' in all_tasks[task]['path'] or 'Seals' in all_tasks[task]['path']):\n",
    "            add_task = False\n",
    "            \n",
    "        #filter pursuits\n",
    "        if checkbox_pursuits.value and 'Pursuits' in all_tasks[task]['path']:\n",
    "            add_task = False\n",
    "        \n",
    "        \n",
    "        if checkbox_conflicting.value:\n",
    "            conflicting = True\n",
    "            for objective in all_tasks[task]['objectives']:\n",
    "                if not has_conflict(objective):\n",
    "                    conflicting = False\n",
    "            if conflicting:\n",
    "                add_task = False\n",
    "        if add_task:\n",
    "            potential_tasks.append(task) \n",
    " \n",
    "    total_potential_tasks = len(potential_tasks)      \n",
    "    total_task_pages = int(total_potential_tasks/tasks_per_page)\n",
    "    if total_potential_tasks%tasks_per_page > 0:\n",
    "        total_task_pages += 1\n",
    "\n",
    "\n",
    "\n",
    "filter_tasks()\n",
    "\n",
    "\n",
    "\n",
    "def has_conflict(objective):\n",
    "    conflict = False\n",
    "    if objective in requirements:\n",
    "        for requirement in requirements[objective]:\n",
    "            if requirements[objective][requirement] != 'Any':\n",
    "                if requirement == 'Activity Type' and dropdown_activity_type.value != requirements[objective][requirement]:\n",
    "                    if dropdown_activity_type.value != 'Any':\n",
    "                        conflict = True\n",
    "                if requirement == 'Activity' and dropdown_activity.value != requirements[objective][requirement]:\n",
    "                    if dropdown_activity.value != 'Any':\n",
    "                        conflict = True\n",
    "                if requirement == 'Class' and dropdown_class.value != requirements[objective][requirement]:\n",
    "                    if dropdown_class.value != 'Any':\n",
    "                        conflict = True\n",
    "                if requirement == 'Subclass' and dropdown_subclass.value != requirements[objective][requirement]:\n",
    "                    if dropdown_subclass.value != 'Any':\n",
    "                        conflict = True\n",
    "                if requirement == 'Tree' and dropdown_tree.value != requirements[objective][requirement]:\n",
    "                    if dropdown_tree.value != 'Any':\n",
    "                        conflict = True\n",
    "                if requirement == 'Grenade' and dropdown_grenade.value != requirements[objective][requirement]:\n",
    "                    if dropdown_grenade.value != 'Any':\n",
    "                        conflict = True\n",
    " \n",
    "    return conflict\n",
    "\n",
    "\n",
    "\n",
    "def refresh_task_view():\n",
    "    \n",
    "    global current_page\n",
    "    \n",
    "    if current_page == 0:\n",
    "        button_previous_page.disabled = True\n",
    "    else:\n",
    "        button_previous_page.disabled = False\n",
    "    if current_page == total_task_pages - 1:\n",
    "        button_next_page.disabled = True\n",
    "    else:\n",
    "        button_next_page.disabled = False\n",
    "    \n",
    "    starting_task = current_page*tasks_per_page\n",
    "    \n",
    "    if total_potential_tasks == 0:\n",
    "        hbox_GUI.children[1].children[0].children[2].children[0].value = 'No tasks to show!!'\n",
    "    elif starting_task+tasks_per_page > total_potential_tasks:\n",
    "        hbox_GUI.children[1].children[0].children[2].children[0].value = f'Showing Tasks {starting_task+1}-{total_potential_tasks} of {total_potential_tasks}'\n",
    "    else:\n",
    "        hbox_GUI.children[1].children[0].children[2].children[0].value = f'Showing Tasks {starting_task+1}-{starting_task+tasks_per_page} of {total_potential_tasks}'\n",
    "\n",
    "    for i in range(tasks_per_page):\n",
    "        \n",
    "        #hide extra task boxes\n",
    "        if starting_task + i >= total_potential_tasks:\n",
    "            hbox_GUI.children[1].children[1].children[i].layout.display = 'none'\n",
    "        else:\n",
    "            hbox_GUI.children[1].children[1].children[i].layout.display = 'flex'\n",
    "            task = potential_tasks[starting_task+i]\n",
    "            \n",
    "        \n",
    "            #update values in task box\n",
    "            task_path = all_tasks[task]['path']\n",
    "            hbox_GUI.children[1].children[1].children[i].children[0].value = f'<font size=\"1\">{task_path}/</font size=>'\n",
    "\n",
    "            task_name = all_tasks[task]['name']\n",
    "            hbox_GUI.children[1].children[1].children[i].children[1].value = f'<font size=\"5\"><b>{task_name}</b></font size=>'\n",
    "\n",
    "            task_description = all_tasks[task]['description']\n",
    "            hbox_GUI.children[1].children[1].children[i].children[2].value = f'<i>{task_description}</i>'\n",
    "\n",
    "            for j in range(6):\n",
    "                if j >= len(all_tasks[task]['objectives']):\n",
    "                    hbox_GUI.children[1].children[1].children[i].children[3].children[j].layout.display = 'none'\n",
    "                else:\n",
    "                    hbox_GUI.children[1].children[1].children[i].children[3].children[j].layout.display = 'flex'\n",
    "\n",
    "                    objective_hash = list(all_tasks[task]['objectives'].keys())[j]\n",
    "\n",
    "                    hbox_GUI.children[1].children[1].children[i].children[3].children[j].children[0].objective_hash = objective_hash\n",
    "                    hbox_GUI.children[1].children[1].children[i].children[3].children[j].children[3].objective_hash = objective_hash\n",
    "                    hbox_GUI.children[1].children[1].children[i].children[3].children[j].children[3].task_hash = task\n",
    "\n",
    "                    objective_completion_value = all_tasks[task]['objectives'][objective_hash]['completionValue']\n",
    "                    hbox_GUI.children[1].children[1].children[i].children[3].children[j].children[1].max = objective_completion_value\n",
    "\n",
    "                    objective_progress = all_tasks[task]['objectives'][objective_hash]['progress']\n",
    "                    hbox_GUI.children[1].children[1].children[i].children[3].children[j].children[1].value = objective_progress\n",
    "\n",
    "                    objective_description = all_tasks[task]['objectives'][objective_hash]['description']\n",
    "                    indent = '\\xa0\\xa0\\xa0\\xa0'\n",
    "                    hbox_GUI.children[1].children[1].children[i].children[3].children[j].children[2].value = f'{indent}{objective_description} ({objective_progress}/{objective_completion_value})'\n",
    "\n",
    "\n",
    "                    #set objective color\n",
    "                    if objective_progress >= objective_completion_value:\n",
    "                        hbox_GUI.children[1].children[1].children[i].children[3].children[j].children[0].button_style = 'success'\n",
    "                        hbox_GUI.children[1].children[1].children[i].children[3].children[j].children[0].disabled = True\n",
    "                        hbox_GUI.children[1].children[1].children[i].children[3].children[j].children[1].bar_style = 'success'\n",
    "                    elif objective_hash in active_objectives:\n",
    "                        hbox_GUI.children[1].children[1].children[i].children[3].children[j].children[0].button_style = 'info'\n",
    "                        hbox_GUI.children[1].children[1].children[i].children[3].children[j].children[0].disabled = False\n",
    "                        hbox_GUI.children[1].children[1].children[i].children[3].children[j].children[1].bar_style = 'info'\n",
    "                    elif has_conflict(objective_hash):\n",
    "                        hbox_GUI.children[1].children[1].children[i].children[3].children[j].children[0].button_style = 'danger'\n",
    "                        hbox_GUI.children[1].children[1].children[i].children[3].children[j].children[0].disabled = True\n",
    "                        hbox_GUI.children[1].children[1].children[i].children[3].children[j].children[1].bar_style = 'danger'\n",
    "                    else:\n",
    "                        hbox_GUI.children[1].children[1].children[i].children[3].children[j].children[0].button_style = ''\n",
    "                        hbox_GUI.children[1].children[1].children[i].children[3].children[j].children[0].disabled = False\n",
    "                        hbox_GUI.children[1].children[1].children[i].children[3].children[j].children[1].bar_style = ''\n",
    "\n",
    "\n",
    "\n",
    "            \n",
    "refresh_task_view()\n",
    "\n",
    "def previous_page(b):\n",
    "    global current_page    \n",
    "    current_page -= 1\n",
    "    refresh_task_view()\n",
    "\n",
    "\n",
    "def next_page(b):\n",
    "    global current_page\n",
    "    current_page += 1\n",
    "    refresh_task_view()\n",
    "\n",
    "button_previous_page.on_click(previous_page)\n",
    "button_next_page.on_click(next_page)\n",
    "\n",
    "\n",
    "def refresh_button(b):\n",
    "    filter_tasks()\n",
    "    refresh_task_view()\n",
    "    \n",
    "button_refresh.on_click(refresh_button)\n"
   ]
  },
  {
   "cell_type": "code",
   "execution_count": 8,
   "metadata": {},
   "outputs": [],
   "source": [
    "possible_requirements = {\n",
    "    'Class': ['Any', 'Titan', 'Hunter', 'Warlock'],\n",
    "    'Subclass': {\n",
    "        'Titan': ['Any', 'Sentinel', 'Striker', 'Sunbreaker'],\n",
    "        'Hunter': ['Any', 'Nightstalker', 'Arcstrider', 'Gunslinger'],\n",
    "        'Warlock': ['Any', 'Voidwalker', 'Stormcaller', 'Dawnblade']\n",
    "    },\n",
    "    'Tree': {\n",
    "        'Titan': {\n",
    "            'Sentinel': ['Any', 'Code of the Commander', 'Code of the Protector', 'Code of the Aggressor'],\n",
    "            'Striker': ['Any', 'Code of the Earthshaker', 'Code of the Missile', 'Code of the Juggernaut'],\n",
    "            'Sunbreaker':['Any', 'Code of the Fire-Forged', 'Code of the Devastator', 'Code of the Siegebreaker']\n",
    "        },\n",
    "        'Hunter': {\n",
    "            'Nightstalker': ['Any', 'Way of the Trapper', 'Way of the Wraith', 'Way of the Pathfinder'],\n",
    "            'Arcstrider': ['Any', 'Way of the Warrior', 'Way of the Current', 'Way of the Wind'],\n",
    "            'Gunslinger': ['Any', 'Way of the Outlaw', 'Way of a Thousand Cuts', 'Way of the Outlaw']\n",
    "        },\n",
    "        'Warlock': {\n",
    "            'Voidwalker': ['Any', 'Attunement of Chaos', 'Attunement of Fission', 'Attunement of Hunger'],\n",
    "            'Stormcaller': ['Any', 'Attunement of Conduction', 'Attunement of Control', 'Attunement of the Elements'],\n",
    "            'Dawnblade': ['Any', 'Attunement of Sky', 'Attunement of Grace', 'Attunement of Flame']\n",
    "        }\n",
    "    },\n",
    "    'Grenade': {\n",
    "        'Titan': {\n",
    "            'Sentinel': ['Any', 'Magnetic Grenade', 'Voidwall Grenade', 'Suppressor Grenade'],\n",
    "            'Striker': ['Any', 'Flashbang Grenade', 'Pulse Grenade', 'Lightning Grenade'],\n",
    "            'Sunbreaker':['Any', 'Incendiary Grenade', 'Thermite Grenade', 'Fusion Grenade']\n",
    "        },\n",
    "        'Hunter': {\n",
    "            'Nightstalker':['Any' ,'Vortex Grenade', 'Spike Grenade', ' Voidwall Grenade'],\n",
    "            'Arcstrider': ['Any', 'Skip Grenade', 'Flux Grenade', 'Arcbolt Grenade'],\n",
    "            'Gunslinger': ['Any', 'Incendiary Grenade', 'Swarm Grenade', 'Tripmine Grenade']\n",
    "        },\n",
    "        'Warlock': {\n",
    "            'Voidwalker': ['Any', 'Vortex Grenade', 'Axion Bolt', 'Scatter Grenade'],\n",
    "            'Stormcaller': ['Any', 'Arcbolt Grenade', 'Pulse Grenade', 'Storm Grenade'],\n",
    "            'Dawnblade': ['Any', 'Solar Grenade', 'Firebolt Grenade', 'Fusion Grenade']\n",
    "        }\n",
    "    },\n",
    "    'Weapon Slot': ['Any', 'Kinetic', 'Energy', 'Power'],\n",
    "    'Weapon Type': ['Any', 'Hand Cannon', 'Auto Rifle', 'Scout Rifle', 'Pulse Rifle', 'Sidearm', 'Submachine Gun', 'Combt Bow','Sniper Rifle', 'Shotgun', 'Fusion Rifle', 'Grenade Launcher', 'Machine Gun', 'Sword', 'Grenade Launcher', 'Rocket Launcher', 'Linear Fusion Rifle'],\n",
    "    'Weapon Ammo': ['Any', 'Primary', 'Secondary', 'Heavy'],\n",
    "    'Weapon Ammo Type': {\n",
    "        'Primary': ['Any', 'Hand Cannon', 'Auto Rifle', 'Scout Rifle', 'Pulse Rifle', 'Sidearm', 'Submachine Gun', 'Combt Bow',],\n",
    "        'Secondary': ['Any', 'Sniper Rifle', 'Shotgun', 'Fusion Rifle', 'Grenade Launcher'],\n",
    "        'Heavy': ['Any', 'Machine Gun', 'Sword', 'Grenade Launcher', 'Rocket Launcher', 'Linear Fusion Rifle']\n",
    "    },\n",
    "    'Weapon Energy': ['Any', 'Kinetic', 'Solar', 'Void', 'Arc'],\n",
    "    'Activity Type': ['Any', 'Patrol', 'Gambit', 'Reckoning', 'Menagerie', 'Vex Offensive', 'Raid', 'Strike', 'Nightfall', 'Crucible', 'Forge'],\n",
    "    'Activity': {\n",
    "        'Patrol': ['Any', 'Earth', 'Io', 'Nessus', 'Titan','Mars', 'Dreaming City', 'Tangled Shore', 'The Moon'],\n",
    "        'Strike': ['Any', 'Lake of Shadows','Savathûn\\'s Song','The Arms Dealer','The Inverted Spire','The Pyramidion', 'A Garden World','Tree of Probabilities','Will of The Thousands','Strange Terrain','The Insight Termius','Warden of Nothing','Broodhold','The Hollowed Lair','The Corrupted'],\n",
    "        'Nightfall': ['Any', 'Lake of Shadows','Savathûn\\'s Song','The Arms Dealer','The Inverted Spire','The Pyramidion', 'A Garden World','Tree of Probabilities','Will of The Thousands','Strange Terrain','The Insight Termius','Warden of Nothing','Broodhold','The Hollowed Lair','The Corrupted'],\n",
    "        'Raid': ['Any', 'Liathan', 'Prestige Leviathan', 'Eater of Worlds', 'Spire of Stars', 'Last Wish', 'Scourage of The Past', 'Crown of Sorrow', 'Garden of Salvation'],\n",
    "        'Crucible': ['Any', 'Clash', 'Control', 'Showdown', 'Mayhem', 'Breakthrough', 'Lockdown', 'Rumble', 'Supremacy', 'Doubles', 'Scorched', 'Countdown', 'Survival', 'Iron Banner'],\n",
    "        'Gambit': ['Any', 'Gambit', 'Gambit Prime'],\n",
    "        'Reckoning': ['Any', 'Tier I', 'Tier II', 'Tier III'],\n",
    "        'Menagerie': ['Any', 'Normal', 'Heroic'],\n",
    "        'Vex Offensive': ['Any'],\n",
    "        'Forge': ['Any', 'Volundr Forge', 'Gofannon Forge', 'Izanami Forge', 'Bergusia Forge']\n",
    "    }\n",
    "}\n",
    "layout_req = widgets.Layout(width='20%')\n",
    "layout_label_req = widgets.Layout(width='10%')\n",
    "output_req = widgets.Output()\n",
    "\n",
    "hbox_triumph_req = widgets.HBox()\n",
    "label_triumph_req = widgets.Label(\"Triumph:\", layout=layout_label_req)\n",
    "dropdown_triumph_req = widgets.Dropdown(options=list(triumphs.keys()), layout=layout_req)\n",
    "dropdown_objective_req = widgets.Dropdown(layout=layout_req)\n",
    "box_spacer_req = widgets.Box(layout=layout_req)\n",
    "button_save_req = widgets.Button(description='Save', layout=layout_req)\n",
    "hbox_triumph_req.children = [label_triumph_req,dropdown_triumph_req,dropdown_objective_req, box_spacer_req, button_save_req]\n",
    "\n",
    "def change_triumph(change):\n",
    "    output_req.clear_output()\n",
    "    with output_req: print_map(triumphs[change['new']])\n",
    "    dropdown_objective_req.options = list(triumphs[change['new']]['objectives'].keys())\n",
    "    \n",
    "\n",
    "    \n",
    "dropdown_triumph_req.observe(change_triumph, names='value')\n",
    "\n",
    "\n",
    "\n",
    "#----------------------Class----------------------------\n",
    "\n",
    "\n",
    "hbox_class_req = widgets.HBox()\n",
    "label_class_req = widgets.Label(value='Class:',layout=layout_label_req)\n",
    "dropdown_class_req = widgets.Dropdown(options=possible_requirements['Class'],layout=layout_req)\n",
    "dropdown_subclass_req = widgets.Dropdown(disabled = True, options = ['Any'],layout=layout_req)\n",
    "dropdown_tree_req = widgets.Dropdown(disabled = True, options = ['Any'],layout=layout_req)\n",
    "dropdown_grenade_req = widgets.Dropdown(disabled = True, options = ['Any'],layout=layout_req)\n",
    "hbox_class_req.children = [\n",
    "    label_class_req,\n",
    "    dropdown_class_req,\n",
    "    dropdown_subclass_req,\n",
    "    dropdown_tree_req,\n",
    "    dropdown_grenade_req\n",
    "]\n",
    "\n",
    "def change_class(change):\n",
    "    if change['new'] == 'Any':\n",
    "        dropdown_subclass_req.options = ['Any']\n",
    "        dropdown_subclass_req.disabled = True\n",
    "    else:\n",
    "        dropdown_subclass_req.options = possible_requirements['Subclass'][change['new']]\n",
    "        dropdown_subclass_req.disabled = False\n",
    "        \n",
    "def change_subclass(change):\n",
    "    if change['new'] == 'Any':\n",
    "        dropdown_tree_req.options = ['Any']\n",
    "        dropdown_tree_req.disabled = True\n",
    "        dropdown_grenade_req.options = ['Any']\n",
    "        dropdown_grenade_req.disabled = True\n",
    "    else:\n",
    "        dropdown_tree_req.options = possible_requirements['Tree'][dropdown_class_req.value][change['new']]\n",
    "        dropdown_tree_req.disabled = False\n",
    "        dropdown_grenade_req.options = possible_requirements['Grenade'][dropdown_class_req.value][change['new']]\n",
    "        dropdown_grenade_req.disabled = False\n",
    "\n",
    "dropdown_class_req.observe(change_class, names = 'value')\n",
    "dropdown_subclass_req.observe(change_subclass, names = 'value')\n",
    "\n",
    "\n",
    "#---------------Weapon-----------------------\n",
    "\n",
    "\n",
    "hbox_weapon_req = widgets.HBox()\n",
    "label_weapon_req = widgets.Label(value='Weapon:',layout=layout_label_req)\n",
    "dropdown_weapon_slot_req = widgets.Dropdown(options = possible_requirements['Weapon Slot'],layout=layout_req)\n",
    "dropdown_weapon_ammo_req = widgets.Dropdown(options = possible_requirements['Weapon Ammo'],layout=layout_req)\n",
    "dropdown_weapon_type_req = widgets.Dropdown(options = possible_requirements['Weapon Type'],layout=layout_req)\n",
    "dropdown_weapon_energy_req = widgets.Dropdown(options = possible_requirements['Weapon Energy'],layout=layout_req)\n",
    "\n",
    "\n",
    "hbox_weapon_req.children = [\n",
    "    label_weapon_req,\n",
    "    dropdown_weapon_slot_req,\n",
    "    dropdown_weapon_energy_req,\n",
    "    dropdown_weapon_type_req,\n",
    "    dropdown_weapon_ammo_req\n",
    "]\n",
    "\n",
    "stop_refresh_weapon = False\n",
    "\n",
    "#TODO: need to add functionality to set weapon slot type\n",
    "\n",
    "def refresh_weapon(dropdown, old, new):\n",
    "    global stop_refresh_weapon\n",
    "    if not stop_refresh_weapon:\n",
    "        stop_refresh_weapon = True\n",
    "        if dropdown == 'type':\n",
    "            if new != 'Any':\n",
    "                for ammo in possible_requirements['Weapon Ammo Type']:\n",
    "                    if new in possible_requirements['Weapon Ammo Type'][ammo]:\n",
    "                        dropdown_weapon_ammo_req.value = ammo\n",
    "                        dropdown_weapon_type_req.options = possible_requirements['Weapon Ammo Type'][ammo]\n",
    "                        dropdown_weapon_type_req.value = new\n",
    "        elif dropdown == 'ammo':\n",
    "            dropdown_weapon_type_req.value = 'Any'\n",
    "            if new == 'Any':\n",
    "                dropdown_weapon_type_req.options = possible_requirements['Weapon Type']\n",
    "            else:\n",
    "                 dropdown_weapon_type_req.options = possible_requirements['Weapon Ammo Type'][new]\n",
    "        stop_refresh_weapon = False \n",
    "            \n",
    "\n",
    "def change_weapon_type(change):\n",
    "    refresh_weapon('type',change['old'],change['new'])\n",
    "\n",
    "def change_weapon_ammo(change):\n",
    "    refresh_weapon('ammo',change['old'],change['new'])\n",
    "\n",
    "    \n",
    "dropdown_weapon_type_req.observe(change_weapon_type, names = 'value')\n",
    "dropdown_weapon_ammo_req.observe(change_weapon_ammo, names = 'value')\n",
    "\n",
    "\n",
    "#-----------------------------Activity------------------------------\n",
    "\n",
    "\n",
    "hbox_activity_req = widgets.HBox()\n",
    "label_activity_req = widgets.Label(value='Activity:',layout=layout_label_req)\n",
    "dropdown_activity_type_req = widgets.Dropdown(options = possible_requirements['Activity Type'],layout=layout_req)\n",
    "dropdown_activity_req = widgets.Dropdown(disabled = True, options = ['Any'],layout=layout_req)\n",
    "\n",
    "hbox_activity_req.children = [\n",
    "    label_activity_req,\n",
    "    dropdown_activity_type_req,\n",
    "    dropdown_activity_req\n",
    "]\n",
    "\n",
    "def change_activity_type(change):\n",
    "    if change['new'] == 'Any':\n",
    "        dropdown_activity_req.options = ['Any']\n",
    "        dropdown_activity_req.disabled = True\n",
    "    else:\n",
    "        dropdown_activity_req.options = possible_requirements['Activity'][change['new']]\n",
    "        dropdown_activity_req.disabled = False\n",
    "\n",
    "dropdown_activity_type_req.observe(change_activity_type, names = 'value')\n",
    "        \n",
    "vbox_req = widgets.VBox(children=[hbox_triumph_req,hbox_class_req,hbox_weapon_req,hbox_activity_req])\n",
    "\n",
    "\n",
    "\n",
    "def load_objective(objective):\n",
    "    if objective in requirements:\n",
    "        dropdown_class_req.value = requirements[objective]['Class']\n",
    "        dropdown_subclass_req.value = requirements[objective]['Subclass']\n",
    "        dropdown_tree_req.value = requirements[objective]['Tree']\n",
    "        dropdown_grenade_req.value = requirements[objective]['Grenade']\n",
    "        dropdown_weapon_slot_req.value = requirements[objective]['Weapon Slot']\n",
    "        dropdown_weapon_ammo_req.value = requirements[objective]['Weapon Ammo']\n",
    "        dropdown_weapon_type_req.value = requirements[objective]['Weapon Type']\n",
    "        dropdown_weapon_energy_req.value = requirements[objective]['Weapon Energy']\n",
    "        dropdown_activity_type_req.value = requirements[objective]['Activity Type']\n",
    "        dropdown_activity_req.value = requirements[objective]['Activity']\n",
    "    else:\n",
    "        dropdown_class_req.value = 'Any'\n",
    "        dropdown_subclass_req.value = 'Any'\n",
    "        dropdown_tree_req.value = 'Any'\n",
    "        dropdown_grenade_req.value = 'Any'\n",
    "        dropdown_weapon_slot_req.value = 'Any'\n",
    "        dropdown_weapon_ammo_req.value = 'Any'\n",
    "        dropdown_weapon_type_req.value = 'Any'\n",
    "        dropdown_weapon_energy_req.value = 'Any'\n",
    "        dropdown_activity_type_req.value = 'Any'\n",
    "        dropdown_activity_req.value = 'Any'\n",
    "    \n",
    "def save_objective(b):\n",
    "    objective = dropdown_objective_req.value\n",
    "    if objective not in requirements:\n",
    "        requirements[objective] = {}\n",
    "    requirements[objective]['Class'] = dropdown_class_req.value\n",
    "    requirements[objective]['Subclass'] = dropdown_subclass_req.value\n",
    "    requirements[objective]['Tree'] = dropdown_tree_req.value\n",
    "    requirements[objective]['Grenade'] = dropdown_grenade_req.value\n",
    "    requirements[objective]['Weapon Slot'] = dropdown_weapon_slot_req.value\n",
    "    requirements[objective]['Weapon Ammo'] = dropdown_weapon_ammo_req.value\n",
    "    requirements[objective]['Weapon Type'] = dropdown_weapon_type_req.value\n",
    "    requirements[objective]['Weapon Energy'] = dropdown_weapon_energy_req.value\n",
    "    requirements[objective]['Activity Type'] = dropdown_activity_type_req.value\n",
    "    requirements[objective]['Activity'] = dropdown_activity_req.value\n",
    "    with open('requirements.data', 'wb') as filehandle:\n",
    "        pickle.dump(requirements, filehandle) \n",
    "    \n",
    "\n",
    "def change_objective(change):\n",
    "    load_objective(change['new'])\n",
    "    \n",
    "dropdown_objective_req.observe(change_objective, names='value')\n",
    "button_save_req.on_click(save_objective)\n",
    "\n",
    "dropdown_triumph_req.value = list(triumphs.keys())[-1]\n",
    "dropdown_triumph_req.value = list(triumphs.keys())[0]\n"
   ]
  },
  {
   "cell_type": "code",
   "execution_count": 9,
   "metadata": {},
   "outputs": [
    {
     "data": {
      "application/vnd.jupyter.widget-view+json": {
       "model_id": "e2901c3a073a45d8af036b3587b645cb",
       "version_major": 2,
       "version_minor": 0
      },
      "text/plain": [
       "VBox(children=(HBox(children=(Label(value='Triumph:', layout=Layout(width='10%')), Dropdown(layout=Layout(widt…"
      ]
     },
     "metadata": {},
     "output_type": "display_data"
    },
    {
     "data": {
      "application/vnd.jupyter.widget-view+json": {
       "model_id": "a92fa2663a0846468256e38722984e23",
       "version_major": 2,
       "version_minor": 0
      },
      "text/plain": [
       "HBox(children=(VBox(children=(VBox(children=(HTML(value='<b>Activity Options</b>', layout=Layout(height='100%'…"
      ]
     },
     "metadata": {},
     "output_type": "display_data"
    }
   ],
   "source": [
    "display(vbox_req,hbox_GUI)"
   ]
  },
  {
   "cell_type": "code",
   "execution_count": 10,
   "metadata": {},
   "outputs": [],
   "source": [
    "\n",
    "\n",
    "\n",
    "def set_loadout(dropdown, value):\n",
    "    dropdown.value = value\n",
    "    if value == 'Any':\n",
    "        dropdown.disabled = False\n",
    "        dropdown.layout = layout_dropdown_inactive\n",
    "    else:\n",
    "        dropdown.disabled = True\n",
    "        dropdown.layout = layout_dropdown_active\n",
    "    \n",
    "\n",
    "loadout_list = [\n",
    "    dropdown_activity_type, \n",
    "    dropdown_activity, \n",
    "    dropdown_class,\n",
    "    dropdown_subclass,\n",
    "    dropdown_grenade,\n",
    "    dropdown_kinetic,\n",
    "    dropdown_energy,\n",
    "    dropdown_energy_type,\n",
    "    dropdown_power,\n",
    "    dropdown_power_type]\n",
    "\n",
    "\n",
    "def refresh_loadout():\n",
    "    \n",
    "    for dropdown in loadout_list:\n",
    "        set_loadout(dropdown, 'Any')\n",
    "    \n",
    "    for objective in active_objectives:\n",
    "        for requirement in requirements[objective]:\n",
    "            if requirements[objective][requirement] != 'Any':\n",
    "                if requirement == 'Activity Type':\n",
    "                    set_loadout(dropdown_activity_type, requirements[objective][requirement])\n",
    "                if requirement == 'Activity':\n",
    "                    set_loadout(dropdown_activity, requirements[objective][requirement])\n",
    "                if requirement == 'Class':\n",
    "                    set_loadout(dropdown_class, requirements[objective][requirement])\n",
    "                if requirement == 'Subclass':\n",
    "                    set_loadout(dropdown_subclass, requirements[objective][requirement])\n",
    "                if requirement == 'Tree':\n",
    "                    set_loadout(dropdown_tree, requirements[objective][requirement])\n",
    "                if requirement == 'Grenade':\n",
    "                    set_loadout(dropdown_grenade, requirements[objective][requirement])\n",
    "                if requirement == 'Weapon Slot':\n",
    "                    if requirements[objective][requirement] == 'Kinetic':\n",
    "                        set_loadout(dropdown_kinetic, requirements[objective]['Weapon Type'])\n",
    "                    if requirements[objective][requirement] == 'Energy':\n",
    "                        set_loadout(dropdown_energy, requirements[objective]['Weapon Type'])\n",
    "                        set_loadout(dropdown_energy_type, requirements[objective]['Weapon Energy'])\n",
    "                    if requirements[objective][requirement] == 'Power':\n",
    "                        set_loadout(dropdown_power, requirements[objective]['Weapon Type'])\n",
    "                        set_loadout(dropdown_power_type, requirements[objective]['Weapon Energy'])\n",
    "\n",
    "                \n",
    "        \n"
   ]
  }
 ],
 "metadata": {
  "kernelspec": {
   "display_name": "Python 3",
   "language": "python",
   "name": "python3"
  },
  "language_info": {
   "codemirror_mode": {
    "name": "ipython",
    "version": 3
   },
   "file_extension": ".py",
   "mimetype": "text/x-python",
   "name": "python",
   "nbconvert_exporter": "python",
   "pygments_lexer": "ipython3",
   "version": "3.7.4"
  },
  "widgets": {
   "application/vnd.jupyter.widget-state+json": {
    "state": {
     "004ec11ddddf45de80009fd24c550e9c": {
      "model_module": "@jupyter-widgets/controls",
      "model_module_version": "1.5.0",
      "model_name": "DropdownModel",
      "state": {
       "_options_labels": [
        "Any",
        "Hand Cannon",
        "Auto Rifle",
        "Scout Rifle",
        "Pulse Rifle",
        "Sidearm",
        "Submachine Gun",
        "Combt Bow",
        "Sniper Rifle",
        "Shotgun",
        "Fusion Rifle",
        "Grenade Launcher",
        "Machine Gun",
        "Sword",
        "Grenade Launcher",
        "Rocket Launcher",
        "Linear Fusion Rifle"
       ],
       "index": 0,
       "layout": "IPY_MODEL_3fc045ecc6f2435c927ec7725208dfa4",
       "style": "IPY_MODEL_7aa9df338c024012997367833ce7f629"
      }
     },
     "005427b6cf674f8ca1c17bd801e70f71": {
      "model_module": "@jupyter-widgets/controls",
      "model_module_version": "1.5.0",
      "model_name": "HBoxModel",
      "state": {
       "children": [
        "IPY_MODEL_731391cf998c40699d35112b77dedd68",
        "IPY_MODEL_4921ae13555f45bb971e4513f94e2b41",
        "IPY_MODEL_ac9e316400cd4686b173abdbd707ac62",
        "IPY_MODEL_eb958bc81730488c82f30449a0950d56"
       ],
       "layout": "IPY_MODEL_4b7ca9bf22554c74b440ee73a9faf0c3"
      }
     },
     "006e91f67f904a9197af2e07467cc2de": {
      "model_module": "@jupyter-widgets/controls",
      "model_module_version": "1.5.0",
      "model_name": "HBoxModel",
      "state": {
       "children": [
        "IPY_MODEL_1e121464f7904e5593395f0095ca033a",
        "IPY_MODEL_56beebb7d19f48c293b34e84f6deefc8",
        "IPY_MODEL_922e491a5a3344dfa309ecdeaae8e3de",
        "IPY_MODEL_8b7c12f7fe2442398e299c9ab1c66022"
       ],
       "layout": "IPY_MODEL_9b3fe460b34f4954999fb21d461e9f15"
      }
     },
     "008df9dfa19d4c3393be4f40818b3975": {
      "model_module": "@jupyter-widgets/controls",
      "model_module_version": "1.5.0",
      "model_name": "HBoxModel",
      "state": {
       "children": [
        "IPY_MODEL_87919df6e86b48e7933a3db701242c92",
        "IPY_MODEL_d3b244df80b04b94be3141dc369e1c59",
        "IPY_MODEL_64f5a11a64e14fad91c497415f5b552e",
        "IPY_MODEL_29aceae3776a47b0a6077684194eae58"
       ],
       "layout": "IPY_MODEL_265600422f0c433391c62a0cc6e08542"
      }
     },
     "0094efcb8ab34ff48fff0fde6eaba881": {
      "model_module": "@jupyter-widgets/base",
      "model_module_version": "1.2.0",
      "model_name": "LayoutModel",
      "state": {
       "width": "60px"
      }
     },
     "00a969f428e641eba963d7f1684fb461": {
      "model_module": "@jupyter-widgets/controls",
      "model_module_version": "1.5.0",
      "model_name": "IntProgressModel",
      "state": {
       "bar_style": "success",
       "layout": "IPY_MODEL_9cd8ad29b7a349b5bae719462650b7df",
       "max": 1,
       "style": "IPY_MODEL_5ca2b5b8d139408fbe056cc4a91330a1",
       "value": 1
      }
     },
     "00c2378b32254d8e81260814290bcdae": {
      "model_module": "@jupyter-widgets/base",
      "model_module_version": "1.2.0",
      "model_name": "LayoutModel",
      "state": {
       "order": "-1",
       "overflow": "visible",
       "padding": "1px",
       "width": "0px"
      }
     },
     "0128a643a7c441b58c26655272274543": {
      "model_module": "@jupyter-widgets/base",
      "model_module_version": "1.2.0",
      "model_name": "LayoutModel",
      "state": {
       "width": "60px"
      }
     },
     "015492a1f519420cb0a00c6c7e9b9027": {
      "model_module": "@jupyter-widgets/controls",
      "model_module_version": "1.5.0",
      "model_name": "ButtonModel",
      "state": {
       "button_style": "success",
       "disabled": true,
       "layout": "IPY_MODEL_791f7d9f70114e6799a48471196dfe9b",
       "style": "IPY_MODEL_e44c7c600dcc47018351a644afd13288"
      }
     },
     "021e48ee750c47599fd1e686c081586f": {
      "model_module": "@jupyter-widgets/base",
      "model_module_version": "1.2.0",
      "model_name": "LayoutModel",
      "state": {
       "display": "none"
      }
     },
     "022b2261dab944a69202b6f94380d6cc": {
      "model_module": "@jupyter-widgets/base",
      "model_module_version": "1.2.0",
      "model_name": "LayoutModel",
      "state": {
       "display": "none"
      }
     },
     "025653a1754341ddad7d6f6694ebd23c": {
      "model_module": "@jupyter-widgets/controls",
      "model_module_version": "1.5.0",
      "model_name": "ProgressStyleModel",
      "state": {
       "description_width": ""
      }
     },
     "02b0ee77074c43f4b2702721fe78521b": {
      "model_module": "@jupyter-widgets/base",
      "model_module_version": "1.2.0",
      "model_name": "LayoutModel",
      "state": {
       "width": "60px"
      }
     },
     "030d1a45ca6b45328f807e12fb8965ac": {
      "model_module": "@jupyter-widgets/controls",
      "model_module_version": "1.5.0",
      "model_name": "ButtonModel",
      "state": {
       "description": "EDIT",
       "layout": "IPY_MODEL_3879b144d8834b6fb91a1523655f830a",
       "style": "IPY_MODEL_362a08eb81ca4088a5944c28003b6755"
      }
     },
     "031d0f75f2eb473c9c8604c66f56bea0": {
      "model_module": "@jupyter-widgets/controls",
      "model_module_version": "1.5.0",
      "model_name": "ButtonModel",
      "state": {
       "layout": "IPY_MODEL_791f7d9f70114e6799a48471196dfe9b",
       "style": "IPY_MODEL_714a0d8b1cd34f7b8f4339b33ac0d55b"
      }
     },
     "031ea3f5206f4ee9902d25b8021b7ce2": {
      "model_module": "@jupyter-widgets/controls",
      "model_module_version": "1.5.0",
      "model_name": "IntProgressModel",
      "state": {
       "bar_style": "success",
       "layout": "IPY_MODEL_f92860ae49f1437da38f544278148d94",
       "max": 1,
       "style": "IPY_MODEL_4d4799380e964f648d9af736ad1abf6f",
       "value": 1
      }
     },
     "03859f7a19104805855c57bad3a7188b": {
      "model_module": "@jupyter-widgets/controls",
      "model_module_version": "1.5.0",
      "model_name": "IntProgressModel",
      "state": {
       "layout": "IPY_MODEL_89d3af9fd7c04c2ea42a522a97b605a7",
       "style": "IPY_MODEL_c774c0f1e92a47f7b10352315493cc88",
       "value": 30
      }
     },
     "03b79d1685934e37842bf11c019af932": {
      "model_module": "@jupyter-widgets/controls",
      "model_module_version": "1.5.0",
      "model_name": "IntProgressModel",
      "state": {
       "layout": "IPY_MODEL_53053e070ee14ee7ad80a5fd16c6a1c2",
       "style": "IPY_MODEL_4da5ab8c401d4d0b83fc0b7cffda0043",
       "value": 30
      }
     },
     "03ebe9538125426da9ad1cae81667ebb": {
      "model_module": "@jupyter-widgets/controls",
      "model_module_version": "1.5.0",
      "model_name": "ButtonModel",
      "state": {
       "description": "Next Page",
       "layout": "IPY_MODEL_24e84fdd8bcb4f86a46d799230c1e296",
       "style": "IPY_MODEL_c26cbede64614554940d2e2a14cb8e03"
      }
     },
     "03fd0df76932485ba79641a70a36c14c": {
      "model_module": "@jupyter-widgets/controls",
      "model_module_version": "1.5.0",
      "model_name": "ButtonStyleModel",
      "state": {}
     },
     "0404289db27344828894d892054ec2dd": {
      "model_module": "@jupyter-widgets/controls",
      "model_module_version": "1.5.0",
      "model_name": "DescriptionStyleModel",
      "state": {
       "description_width": ""
      }
     },
     "042a578852a74913915e1bcfe73b5845": {
      "model_module": "@jupyter-widgets/base",
      "model_module_version": "1.2.0",
      "model_name": "LayoutModel",
      "state": {}
     },
     "04446fcfe98946d18db97002c0c617d0": {
      "model_module": "@jupyter-widgets/controls",
      "model_module_version": "1.5.0",
      "model_name": "HTMLModel",
      "state": {
       "layout": "IPY_MODEL_a40caeccc09b489484b77080ec5de686",
       "style": "IPY_MODEL_cc8f864e03034fa5aa5384164ebcf01d",
       "value": "<font size=\"5\"><b>The Black Garden</b></font size=>"
      }
     },
     "04c5ea8b652b41bf87a3766a5c7f6f4e": {
      "model_module": "@jupyter-widgets/controls",
      "model_module_version": "1.5.0",
      "model_name": "ButtonStyleModel",
      "state": {}
     },
     "057a281428ce4d648ea5abd4aa547a37": {
      "model_module": "@jupyter-widgets/controls",
      "model_module_version": "1.5.0",
      "model_name": "ProgressStyleModel",
      "state": {
       "description_width": ""
      }
     },
     "05a811d641794a60ab144284545d5ccf": {
      "model_module": "@jupyter-widgets/base",
      "model_module_version": "1.2.0",
      "model_name": "LayoutModel",
      "state": {
       "display": "flex",
       "flex_flow": "row wrap",
       "justify_content": "space-between"
      }
     },
     "0603e5ae45be4177a2e746385dc7cd68": {
      "model_module": "@jupyter-widgets/controls",
      "model_module_version": "1.5.0",
      "model_name": "ButtonStyleModel",
      "state": {}
     },
     "0641768fc07942099c9b404faace3beb": {
      "model_module": "@jupyter-widgets/controls",
      "model_module_version": "1.5.0",
      "model_name": "VBoxModel",
      "state": {
       "children": [
        "IPY_MODEL_64e4cc72261846d1abf47e43e0b431a2",
        "IPY_MODEL_25b3dcd23b6e412baae5c93ce9341ddb",
        "IPY_MODEL_84d6c3fb79534a32a629625334abcf75",
        "IPY_MODEL_2242f97a9e7a43e4bde3968b1762aae6",
        "IPY_MODEL_9639557cf536431695397488a9efd640",
        "IPY_MODEL_7d85fe68bf0043529d06ea84ebafe56b",
        "IPY_MODEL_907cb48a50194cf5b80fed7f94d59598",
        "IPY_MODEL_d91260b1810044c2bf63c6285facb38f",
        "IPY_MODEL_8d32a369c94b4939b683c55ba8c00529",
        "IPY_MODEL_cfe4f46384ca43e2ae06253361c25ca1",
        "IPY_MODEL_9635c563fd8248208cf2b2dd847ca451"
       ],
       "layout": "IPY_MODEL_4c5ac6f16a5645e8b0df8163a7242073"
      }
     },
     "065f232c72ee457d911c4f1cee3a93bd": {
      "model_module": "@jupyter-widgets/base",
      "model_module_version": "1.2.0",
      "model_name": "LayoutModel",
      "state": {
       "display": "none"
      }
     },
     "0684d463d70849b087fdf5f902dcfd42": {
      "model_module": "@jupyter-widgets/controls",
      "model_module_version": "1.5.0",
      "model_name": "HBoxModel",
      "state": {
       "children": [
        "IPY_MODEL_2e2e29eec4cf49f6b1be03704a4c49eb",
        "IPY_MODEL_594c274bd7c44ee3af8804af34e93d75",
        "IPY_MODEL_b3303aeb14c945898f33a252b56eb735",
        "IPY_MODEL_6f571b10c0384bb3937bb72eff8da1d4"
       ],
       "layout": "IPY_MODEL_9ec81e195057438cbe6109309b13d629"
      }
     },
     "0689d8bd0fd04fedae1e0d182839148d": {
      "model_module": "@jupyter-widgets/controls",
      "model_module_version": "1.5.0",
      "model_name": "CheckboxModel",
      "state": {
       "description": "Hide Conflicting Tasks",
       "disabled": false,
       "layout": "IPY_MODEL_2a2f8498b4b1419087fd94da259e6bb8",
       "style": "IPY_MODEL_fa2006c65ecc4b7192bdb7a12fd4d8ab",
       "value": false
      }
     },
     "06d4a17c4cf74526ba0cf7d87df5efdd": {
      "model_module": "@jupyter-widgets/base",
      "model_module_version": "1.2.0",
      "model_name": "LayoutModel",
      "state": {
       "display": "none"
      }
     },
     "06d83581f4734446bdd8b320db219bfd": {
      "model_module": "@jupyter-widgets/base",
      "model_module_version": "1.2.0",
      "model_name": "LayoutModel",
      "state": {
       "width": "60px"
      }
     },
     "06e77a4a298f453dbe65d493c4607685": {
      "model_module": "@jupyter-widgets/controls",
      "model_module_version": "1.5.0",
      "model_name": "DropdownModel",
      "state": {
       "_options_labels": [
        "Any"
       ],
       "disabled": true,
       "index": 0,
       "layout": "IPY_MODEL_3fc045ecc6f2435c927ec7725208dfa4",
       "style": "IPY_MODEL_785872b00c814b36b0f1ce37d31d03cc"
      }
     },
     "0709b3cc66f64b15aebe0770b0451da3": {
      "model_module": "@jupyter-widgets/controls",
      "model_module_version": "1.5.0",
      "model_name": "ButtonModel",
      "state": {
       "layout": "IPY_MODEL_43d77ef9305a48a7b4be608443922232",
       "style": "IPY_MODEL_4b76980672be494cbd4fe57f81d862b1"
      }
     },
     "0728ba5e835243a7886d78eeac8529dd": {
      "model_module": "@jupyter-widgets/controls",
      "model_module_version": "1.5.0",
      "model_name": "HTMLModel",
      "state": {
       "layout": "IPY_MODEL_356dd1bf6a8f46888c9822ec92140e16",
       "style": "IPY_MODEL_897bd59a2ee94b3f8ed6510e8de76c28",
       "value": "<font size=\"5\"><b>Batteries Not Included</b></font size=>"
      }
     },
     "077a0326339545da8bc0c166a6634623": {
      "model_module": "@jupyter-widgets/base",
      "model_module_version": "1.2.0",
      "model_name": "LayoutModel",
      "state": {
       "display": "none"
      }
     },
     "07a42e56c5904a02a5c736ddc3b5de46": {
      "model_module": "@jupyter-widgets/controls",
      "model_module_version": "1.5.0",
      "model_name": "DescriptionStyleModel",
      "state": {
       "description_width": ""
      }
     },
     "07d02c624dc04715b13be8c1c4e5ab89": {
      "model_module": "@jupyter-widgets/controls",
      "model_module_version": "1.5.0",
      "model_name": "ButtonModel",
      "state": {
       "description": "EDIT",
       "layout": "IPY_MODEL_06d83581f4734446bdd8b320db219bfd",
       "style": "IPY_MODEL_2a5a1de92d3844e1b796d97cf84b7f03"
      }
     },
     "085e708d508e4693a2722aea7678d485": {
      "model_module": "@jupyter-widgets/controls",
      "model_module_version": "1.5.0",
      "model_name": "ButtonModel",
      "state": {
       "layout": "IPY_MODEL_272caa2a293a4c32939417d15c3dbe8d",
       "style": "IPY_MODEL_6e5d5da16bd44e86b3fecbdfadcf3ed5"
      }
     },
     "08d6ddf5cbad4376ae6ea818f3116019": {
      "model_module": "@jupyter-widgets/controls",
      "model_module_version": "1.5.0",
      "model_name": "ButtonModel",
      "state": {
       "description": "EDIT",
       "layout": "IPY_MODEL_76d13fb21b554266b4d64593988f0216",
       "style": "IPY_MODEL_34e50e53982047338cc171efe2eac61a"
      }
     },
     "0915a80517834c6ca92c540dbacdbd9e": {
      "model_module": "@jupyter-widgets/base",
      "model_module_version": "1.2.0",
      "model_name": "LayoutModel",
      "state": {
       "width": "60px"
      }
     },
     "097e831ec4a449b5a6083c1526bd9910": {
      "model_module": "@jupyter-widgets/controls",
      "model_module_version": "1.5.0",
      "model_name": "DescriptionStyleModel",
      "state": {
       "description_width": ""
      }
     },
     "09eb30d9867f42f5937bdcc733958134": {
      "model_module": "@jupyter-widgets/controls",
      "model_module_version": "1.5.0",
      "model_name": "IntProgressModel",
      "state": {
       "bar_style": "success",
       "layout": "IPY_MODEL_5c9f3bffcf68419494f90e7e72c29e87",
       "max": 1,
       "style": "IPY_MODEL_6bca32d36e6f47e79b562536c92798bb",
       "value": 1
      }
     },
     "0a403d76610c43ec837b77eacc4f21d4": {
      "model_module": "@jupyter-widgets/base",
      "model_module_version": "1.2.0",
      "model_name": "LayoutModel",
      "state": {}
     },
     "0a5b2bb4635940b5b23eb64fa8674bcf": {
      "model_module": "@jupyter-widgets/controls",
      "model_module_version": "1.5.0",
      "model_name": "ButtonStyleModel",
      "state": {}
     },
     "0a8c9f5551e7430eb6e8d776e0f31279": {
      "model_module": "@jupyter-widgets/base",
      "model_module_version": "1.2.0",
      "model_name": "LayoutModel",
      "state": {
       "height": "32px",
       "overflow": "visible",
       "padding": "0px",
       "width": "100%"
      }
     },
     "0afc2a49eded44bebb962685b84887b6": {
      "model_module": "@jupyter-widgets/controls",
      "model_module_version": "1.5.0",
      "model_name": "ButtonStyleModel",
      "state": {}
     },
     "0aff27b43c464f5fba0a413915483f81": {
      "model_module": "@jupyter-widgets/base",
      "model_module_version": "1.2.0",
      "model_name": "LayoutModel",
      "state": {
       "order": "-1",
       "overflow": "visible",
       "padding": "1px",
       "width": "0px"
      }
     },
     "0b0c599a42ff4eb5af1d8e8de60b3891": {
      "model_module": "@jupyter-widgets/base",
      "model_module_version": "1.2.0",
      "model_name": "LayoutModel",
      "state": {
       "height": "32px",
       "order": "-2",
       "width": "32px"
      }
     },
     "0b5fdf9dd9e2427b809ff5ce209637ea": {
      "model_module": "@jupyter-widgets/base",
      "model_module_version": "1.2.0",
      "model_name": "LayoutModel",
      "state": {}
     },
     "0b8e28f6437a4d9ea4cd56474220df77": {
      "model_module": "@jupyter-widgets/base",
      "model_module_version": "1.2.0",
      "model_name": "LayoutModel",
      "state": {
       "width": "60px"
      }
     },
     "0ba4082cdeda4b38a80183337781daf8": {
      "model_module": "@jupyter-widgets/base",
      "model_module_version": "1.2.0",
      "model_name": "LayoutModel",
      "state": {
       "display": "none"
      }
     },
     "0bf19a9970d948299e88a6c343c4ff0f": {
      "model_module": "@jupyter-widgets/controls",
      "model_module_version": "1.5.0",
      "model_name": "ButtonStyleModel",
      "state": {}
     },
     "0c2e5100d91d41719363013f73ef66e9": {
      "model_module": "@jupyter-widgets/controls",
      "model_module_version": "1.5.0",
      "model_name": "HTMLModel",
      "state": {
       "layout": "IPY_MODEL_128b788ddddc4b56b5776177d561d24a",
       "style": "IPY_MODEL_6a986c03ed9e419c8b8144d9767f8166",
       "value": "<font size=\"5\"><b>Flashpoint</b></font size=>"
      }
     },
     "0c8d8c2d09cf4686949c079d47e30903": {
      "model_module": "@jupyter-widgets/base",
      "model_module_version": "1.2.0",
      "model_name": "LayoutModel",
      "state": {
       "display": "none"
      }
     },
     "0d2d81d314c747c0a57a47784102de16": {
      "model_module": "@jupyter-widgets/controls",
      "model_module_version": "1.5.0",
      "model_name": "DescriptionStyleModel",
      "state": {
       "description_width": ""
      }
     },
     "0d35ee995b544a15ae43c8cd148c69bc": {
      "model_module": "@jupyter-widgets/controls",
      "model_module_version": "1.5.0",
      "model_name": "ButtonStyleModel",
      "state": {}
     },
     "0d42c24ada20403c9c12fcd79afefebf": {
      "model_module": "@jupyter-widgets/controls",
      "model_module_version": "1.5.0",
      "model_name": "ButtonStyleModel",
      "state": {}
     },
     "0d49512cffdd470e8c3788f43844be2a": {
      "model_module": "@jupyter-widgets/controls",
      "model_module_version": "1.5.0",
      "model_name": "HBoxModel",
      "state": {
       "children": [
        "IPY_MODEL_c85cb2f5646b48c29fdca12908d55122",
        "IPY_MODEL_ecee071efff7470f996b4722f1a7e5b9",
        "IPY_MODEL_d39d6be7ea4740fd95b2665a8dda2da8",
        "IPY_MODEL_de0162c2fd274adfaf1b3ba430bf06b9"
       ],
       "layout": "IPY_MODEL_842abf4d8390404bae38d51f20de7a2b"
      }
     },
     "0d9391424c004fe3a21384f93661698b": {
      "model_module": "@jupyter-widgets/controls",
      "model_module_version": "1.5.0",
      "model_name": "IntProgressModel",
      "state": {
       "layout": "IPY_MODEL_9cd8ad29b7a349b5bae719462650b7df",
       "style": "IPY_MODEL_dc31adb32e8d4e6fada650e529303a63",
       "value": 30
      }
     },
     "0da1476bbf034d419113811cac2ec9bf": {
      "model_module": "@jupyter-widgets/controls",
      "model_module_version": "1.5.0",
      "model_name": "ButtonModel",
      "state": {
       "button_style": "success",
       "disabled": true,
       "layout": "IPY_MODEL_fbaa08c360764d01827b54400b084e59",
       "style": "IPY_MODEL_84ba218787db4c94b408b15cf197d13f"
      }
     },
     "0ddf9291fea2401faa2bd360b797a298": {
      "model_module": "@jupyter-widgets/controls",
      "model_module_version": "1.5.0",
      "model_name": "IntProgressModel",
      "state": {
       "layout": "IPY_MODEL_9cd8ad29b7a349b5bae719462650b7df",
       "style": "IPY_MODEL_c7be43c4fe2a460f8fdb152c6b1b09f7",
       "value": 30
      }
     },
     "0de309dc8704432a8f4bd2bfcc4b3f0a": {
      "model_module": "@jupyter-widgets/controls",
      "model_module_version": "1.5.0",
      "model_name": "ButtonModel",
      "state": {
       "layout": "IPY_MODEL_47bf8d0632ce4bacb240c8dde1583f8f",
       "style": "IPY_MODEL_140f17e9ff6a4e788eedd973615a8464"
      }
     },
     "0df0691be3ba462dbdf2e05dbe48d576": {
      "model_module": "@jupyter-widgets/base",
      "model_module_version": "1.2.0",
      "model_name": "LayoutModel",
      "state": {
       "border": "",
       "height": "100%",
       "width": "98%"
      }
     },
     "0e0ffd0622264e4f87bca0b3d30f8ae8": {
      "model_module": "@jupyter-widgets/controls",
      "model_module_version": "1.5.0",
      "model_name": "HBoxModel",
      "state": {
       "children": [
        "IPY_MODEL_41add7161b6140f8a9cd18fcec2e45c9",
        "IPY_MODEL_4897773cfc0142ccb8bf48c092110016",
        "IPY_MODEL_6c591cb9ce3f403ea993b11b71dfd5c0",
        "IPY_MODEL_9fc070158e7b4ea8873b9208a85b843b"
       ],
       "layout": "IPY_MODEL_e9ae4805c39944f6bacf497b4abc5db5"
      }
     },
     "0e14339745414e2bbf261c830d8ce9fd": {
      "model_module": "@jupyter-widgets/controls",
      "model_module_version": "1.5.0",
      "model_name": "ProgressStyleModel",
      "state": {
       "description_width": ""
      }
     },
     "0e19c1e9dfd943169fc15a3732075b7a": {
      "model_module": "@jupyter-widgets/base",
      "model_module_version": "1.2.0",
      "model_name": "LayoutModel",
      "state": {
       "width": "60px"
      }
     },
     "0e532e99225f406587cc183bf5601085": {
      "model_module": "@jupyter-widgets/controls",
      "model_module_version": "1.5.0",
      "model_name": "ProgressStyleModel",
      "state": {
       "description_width": ""
      }
     },
     "0e61500c8fa948eebead1a360f5554d7": {
      "model_module": "@jupyter-widgets/controls",
      "model_module_version": "1.5.0",
      "model_name": "ProgressStyleModel",
      "state": {
       "description_width": ""
      }
     },
     "0e7d0cb06363448ba9c8956772636cec": {
      "model_module": "@jupyter-widgets/controls",
      "model_module_version": "1.5.0",
      "model_name": "LabelModel",
      "state": {
       "layout": "IPY_MODEL_00c2378b32254d8e81260814290bcdae",
       "style": "IPY_MODEL_7a0eddaeff4f46dc9a5c6711f0204519",
       "value": "             objective 3"
      }
     },
     "0eaf832fff8c4f4dbc80e82c12fec132": {
      "model_module": "@jupyter-widgets/controls",
      "model_module_version": "1.5.0",
      "model_name": "ProgressStyleModel",
      "state": {
       "description_width": ""
      }
     },
     "0eb3758bc1094604b5f6dce51e0aa672": {
      "model_module": "@jupyter-widgets/controls",
      "model_module_version": "1.5.0",
      "model_name": "ProgressStyleModel",
      "state": {
       "description_width": ""
      }
     },
     "0eb4ba507a8c459fb30f4d89a48db2c7": {
      "model_module": "@jupyter-widgets/controls",
      "model_module_version": "1.5.0",
      "model_name": "DescriptionStyleModel",
      "state": {
       "description_width": ""
      }
     },
     "0ecb61755eea4012bcbe560d6baf1f3c": {
      "model_module": "@jupyter-widgets/base",
      "model_module_version": "1.2.0",
      "model_name": "LayoutModel",
      "state": {}
     },
     "0f23937b968e4fc4b2edb80e63287957": {
      "model_module": "@jupyter-widgets/controls",
      "model_module_version": "1.5.0",
      "model_name": "ButtonModel",
      "state": {
       "layout": "IPY_MODEL_47bf8d0632ce4bacb240c8dde1583f8f",
       "style": "IPY_MODEL_42e8ccab287948b185dec5c812ba298a"
      }
     },
     "0f3386e87cea4b61b9b65be807b68110": {
      "model_module": "@jupyter-widgets/base",
      "model_module_version": "1.2.0",
      "model_name": "LayoutModel",
      "state": {
       "overflow": "visible",
       "width": "100%"
      }
     },
     "0f69d9d1f7f6449fa6971d7422ad0b2c": {
      "model_module": "@jupyter-widgets/controls",
      "model_module_version": "1.5.0",
      "model_name": "ProgressStyleModel",
      "state": {
       "description_width": ""
      }
     },
     "0f7ec7f224a5468c9767d179bc95ecfe": {
      "model_module": "@jupyter-widgets/controls",
      "model_module_version": "1.5.0",
      "model_name": "HTMLModel",
      "state": {
       "layout": "IPY_MODEL_3f8ae38ec36949069a9f9d53203d791c",
       "style": "IPY_MODEL_f3eaeda0627b45c0af68e73d82a9d390",
       "value": "<font size=\"5\"><b>Bow Mastery</b></font size=>"
      }
     },
     "0f82430b48864dbfac63af34bda4e711": {
      "model_module": "@jupyter-widgets/base",
      "model_module_version": "1.2.0",
      "model_name": "LayoutModel",
      "state": {
       "display": "none"
      }
     },
     "0fa33ef047654ac2b891a3ede0b415f5": {
      "model_module": "@jupyter-widgets/base",
      "model_module_version": "1.2.0",
      "model_name": "LayoutModel",
      "state": {
       "height": "32px",
       "overflow": "visible",
       "padding": "0px",
       "width": "100%"
      }
     },
     "0fcff4845a3641d3b295e97f4e0b1c86": {
      "model_module": "@jupyter-widgets/base",
      "model_module_version": "1.2.0",
      "model_name": "LayoutModel",
      "state": {
       "display": "none"
      }
     },
     "0fee59b3aeaa467381419f9c56f609c0": {
      "model_module": "@jupyter-widgets/controls",
      "model_module_version": "1.5.0",
      "model_name": "LabelModel",
      "state": {
       "layout": "IPY_MODEL_de761fae7a1342f4a91f2ee111dedcaf",
       "style": "IPY_MODEL_9498d5cfb76d4d29bd0f7000d8518a4e",
       "value": "             objective 5"
      }
     },
     "1018f3f8d447452fab7e79ba6f36a229": {
      "model_module": "@jupyter-widgets/controls",
      "model_module_version": "1.5.0",
      "model_name": "IntProgressModel",
      "state": {
       "layout": "IPY_MODEL_9884f60ab0a24356b9df5f2497fd2cac",
       "style": "IPY_MODEL_9a04ef9ad4b74e08813152654aaa5dac",
       "value": 30
      }
     },
     "102070e606364cb88c65da4bee6164a9": {
      "model_module": "@jupyter-widgets/controls",
      "model_module_version": "1.5.0",
      "model_name": "HBoxModel",
      "state": {
       "children": [
        "IPY_MODEL_82a857445361486c9eda4a212077efd2",
        "IPY_MODEL_03b79d1685934e37842bf11c019af932",
        "IPY_MODEL_1e78b2c6f68149f089b0912e955155fc",
        "IPY_MODEL_d127e4fef3ad486b92de9bf34131447a"
       ],
       "layout": "IPY_MODEL_c4bf295eda6a4956a81f4bb6c3633b56"
      }
     },
     "1082d70d38064e50b8d580bafe72f6fd": {
      "model_module": "@jupyter-widgets/base",
      "model_module_version": "1.2.0",
      "model_name": "LayoutModel",
      "state": {
       "display": "none"
      }
     },
     "10a7e7f5629d46b7bf0517783855643a": {
      "model_module": "@jupyter-widgets/controls",
      "model_module_version": "1.5.0",
      "model_name": "IntProgressModel",
      "state": {
       "layout": "IPY_MODEL_a29f781ca5d3470cb2442f65a7efce84",
       "style": "IPY_MODEL_0f69d9d1f7f6449fa6971d7422ad0b2c",
       "value": 30
      }
     },
     "10bc0ef4c94c476495013f91b88ab753": {
      "model_module": "@jupyter-widgets/controls",
      "model_module_version": "1.5.0",
      "model_name": "ButtonStyleModel",
      "state": {}
     },
     "10e1f41b9d2f4daaa64bb62ac2c9a264": {
      "model_module": "@jupyter-widgets/base",
      "model_module_version": "1.2.0",
      "model_name": "LayoutModel",
      "state": {
       "width": "60px"
      }
     },
     "1116a3cd42fb4f90b4b7b27fd63f58d2": {
      "model_module": "@jupyter-widgets/controls",
      "model_module_version": "1.5.0",
      "model_name": "ProgressStyleModel",
      "state": {
       "description_width": ""
      }
     },
     "1144a74cf78c4ed69769bafdaf15740c": {
      "model_module": "@jupyter-widgets/controls",
      "model_module_version": "1.5.0",
      "model_name": "ProgressStyleModel",
      "state": {
       "description_width": ""
      }
     },
     "117e3a59836b4999877c57c024b46f79": {
      "model_module": "@jupyter-widgets/controls",
      "model_module_version": "1.5.0",
      "model_name": "IntProgressModel",
      "state": {
       "layout": "IPY_MODEL_9884f60ab0a24356b9df5f2497fd2cac",
       "style": "IPY_MODEL_e2f944a774f2455da736ed35df19bcb2",
       "value": 30
      }
     },
     "11855d36d7a941408b68f50efc8c4255": {
      "model_module": "@jupyter-widgets/controls",
      "model_module_version": "1.5.0",
      "model_name": "ButtonStyleModel",
      "state": {}
     },
     "11b2ec3160ca4fc38ec6eeecc92d1222": {
      "model_module": "@jupyter-widgets/controls",
      "model_module_version": "1.5.0",
      "model_name": "IntProgressModel",
      "state": {
       "layout": "IPY_MODEL_cc7fe6b8d67349859376b0d6c99a70d4",
       "max": 5,
       "style": "IPY_MODEL_5953310fd1b848bba14745e73e14431e",
       "value": 2
      }
     },
     "11d31c9913ed4fd5b8be75fa8fe20ccc": {
      "model_module": "@jupyter-widgets/base",
      "model_module_version": "1.2.0",
      "model_name": "LayoutModel",
      "state": {
       "overflow": "visible",
       "width": "100%"
      }
     },
     "11f5aec623d2413a90476b19622f43e8": {
      "model_module": "@jupyter-widgets/controls",
      "model_module_version": "1.5.0",
      "model_name": "ButtonModel",
      "state": {
       "layout": "IPY_MODEL_da2a780ab23443d69418f12d85756101",
       "style": "IPY_MODEL_b950c37716614025a72978312d05bd67"
      }
     },
     "11fca31a631d4ab8a02587948a793c32": {
      "model_module": "@jupyter-widgets/controls",
      "model_module_version": "1.5.0",
      "model_name": "DescriptionStyleModel",
      "state": {
       "description_width": ""
      }
     },
     "12063754432d4b56b58ed64c0fa34d2c": {
      "model_module": "@jupyter-widgets/controls",
      "model_module_version": "1.5.0",
      "model_name": "DescriptionStyleModel",
      "state": {
       "description_width": ""
      }
     },
     "120b0c11f4b546cc8fec5b3f8271c3cc": {
      "model_module": "@jupyter-widgets/controls",
      "model_module_version": "1.5.0",
      "model_name": "HTMLModel",
      "state": {
       "layout": "IPY_MODEL_4bf3ad0e06df4608a1d4e0ccb62b0df8",
       "style": "IPY_MODEL_18099aadd67b4d88b8639bb3d1b7859c",
       "value": "Showing Tasks 1-15 of 2411"
      }
     },
     "1259b9eb3d56457ea9a704120510841e": {
      "model_module": "@jupyter-widgets/controls",
      "model_module_version": "1.5.0",
      "model_name": "DropdownModel",
      "state": {
       "_options_labels": [
        "272434793"
       ],
       "index": 0,
       "layout": "IPY_MODEL_3fc045ecc6f2435c927ec7725208dfa4",
       "style": "IPY_MODEL_2a36e67def974908a5a7091acf53590f"
      }
     },
     "1266a8c269c74076b12954080fb5e115": {
      "model_module": "@jupyter-widgets/controls",
      "model_module_version": "1.5.0",
      "model_name": "HTMLModel",
      "state": {
       "layout": "IPY_MODEL_70a2156c045d4bd591276dfc0e6d9c21",
       "style": "IPY_MODEL_ca5fd5fbaab94a2b92dd2d6d577d5c12",
       "value": "<font size=\"5\"><b>To Map the Unknown</b></font size=>"
      }
     },
     "128b788ddddc4b56b5776177d561d24a": {
      "model_module": "@jupyter-widgets/base",
      "model_module_version": "1.2.0",
      "model_name": "LayoutModel",
      "state": {
       "overflow": "visible",
       "width": "100%"
      }
     },
     "12a5acdff1164c5e8325519d115b64eb": {
      "model_module": "@jupyter-widgets/controls",
      "model_module_version": "1.5.0",
      "model_name": "HBoxModel",
      "state": {
       "children": [
        "IPY_MODEL_ccae3118c7954344abd374656930fd8c",
        "IPY_MODEL_276f0795f86645568846add080765928",
        "IPY_MODEL_df4768cae46245c1a3c7fd42a34acca4",
        "IPY_MODEL_8d4afc344d334b158ddb93a965a6fbb6"
       ],
       "layout": "IPY_MODEL_021e48ee750c47599fd1e686c081586f"
      }
     },
     "12d3e98037754bca84abee79e56a0737": {
      "model_module": "@jupyter-widgets/controls",
      "model_module_version": "1.5.0",
      "model_name": "IntProgressModel",
      "state": {
       "layout": "IPY_MODEL_dae13073d79845a5ad2cdd4693685bd9",
       "style": "IPY_MODEL_6e350f2b63e7491bbbdb8c0e79f68e82",
       "value": 30
      }
     },
     "13343ad857c34f99b56ee61b906d2071": {
      "model_module": "@jupyter-widgets/base",
      "model_module_version": "1.2.0",
      "model_name": "LayoutModel",
      "state": {
       "width": "60px"
      }
     },
     "134de58b22c44839a858fdbb8aec3ca4": {
      "model_module": "@jupyter-widgets/controls",
      "model_module_version": "1.5.0",
      "model_name": "ProgressStyleModel",
      "state": {
       "description_width": ""
      }
     },
     "134e95c995c0479b95a2d08430622b65": {
      "model_module": "@jupyter-widgets/base",
      "model_module_version": "1.2.0",
      "model_name": "LayoutModel",
      "state": {
       "overflow": "visible",
       "width": "100%"
      }
     },
     "13510a4a69804e5da3bba1459f3ef9ed": {
      "model_module": "@jupyter-widgets/controls",
      "model_module_version": "1.5.0",
      "model_name": "DescriptionStyleModel",
      "state": {
       "description_width": ""
      }
     },
     "13e64aa2656b41b39294f921925b509b": {
      "model_module": "@jupyter-widgets/controls",
      "model_module_version": "1.5.0",
      "model_name": "DescriptionStyleModel",
      "state": {
       "description_width": ""
      }
     },
     "140f17e9ff6a4e788eedd973615a8464": {
      "model_module": "@jupyter-widgets/controls",
      "model_module_version": "1.5.0",
      "model_name": "ButtonStyleModel",
      "state": {}
     },
     "1486fbc1730f4504939362e6229307bf": {
      "model_module": "@jupyter-widgets/controls",
      "model_module_version": "1.5.0",
      "model_name": "ButtonStyleModel",
      "state": {}
     },
     "14ed1ceff7f84beb939efffecab0ac7d": {
      "model_module": "@jupyter-widgets/controls",
      "model_module_version": "1.5.0",
      "model_name": "ButtonModel",
      "state": {
       "description": "EDIT",
       "layout": "IPY_MODEL_4e9664f343fe43dd9a5e8f364fd59cc0",
       "style": "IPY_MODEL_6be2c288bb004d6cb436791347099673"
      }
     },
     "151d1db129a84603abdfb629a49971fe": {
      "model_module": "@jupyter-widgets/controls",
      "model_module_version": "1.5.0",
      "model_name": "HBoxModel",
      "state": {
       "children": [
        "IPY_MODEL_a35268ecda8c49c1be88c5f5e31423a7",
        "IPY_MODEL_f459e253da1b4f91ba6b9c366e46cdf4",
        "IPY_MODEL_62dcc1041dee45d684ddf5d3b1d15c9e",
        "IPY_MODEL_1c169018beb54b79916d143cce5db5b7"
       ],
       "layout": "IPY_MODEL_97e06896fe2a4f90ad63945276c9ffa8"
      }
     },
     "1526b143982a414691ea2e5673287c20": {
      "model_module": "@jupyter-widgets/base",
      "model_module_version": "1.2.0",
      "model_name": "LayoutModel",
      "state": {
       "width": "60px"
      }
     },
     "154f8776de1a49189e520b4b0468c1d2": {
      "model_module": "@jupyter-widgets/controls",
      "model_module_version": "1.5.0",
      "model_name": "ButtonStyleModel",
      "state": {}
     },
     "155184a1802a45918d0b26517dd67007": {
      "model_module": "@jupyter-widgets/controls",
      "model_module_version": "1.5.0",
      "model_name": "DescriptionStyleModel",
      "state": {
       "description_width": ""
      }
     },
     "158f4cff47844cd599cf592433438412": {
      "model_module": "@jupyter-widgets/controls",
      "model_module_version": "1.5.0",
      "model_name": "VBoxModel",
      "state": {
       "children": [
        "IPY_MODEL_45435952df354851922519d6fd9f8682",
        "IPY_MODEL_54ce96611f274558811dcd89bf25ff42"
       ],
       "layout": "IPY_MODEL_257eb71ed2cd42799c2c34dba741c716"
      }
     },
     "159458ef65d04f378c4a661a48aebc7c": {
      "model_module": "@jupyter-widgets/base",
      "model_module_version": "1.2.0",
      "model_name": "LayoutModel",
      "state": {
       "display": "flex"
      }
     },
     "15a6b931b0874143827fe1333a0f2ecc": {
      "model_module": "@jupyter-widgets/controls",
      "model_module_version": "1.5.0",
      "model_name": "ButtonStyleModel",
      "state": {}
     },
     "15d7110a75a341c58a7e992cbd79928a": {
      "model_module": "@jupyter-widgets/controls",
      "model_module_version": "1.5.0",
      "model_name": "ProgressStyleModel",
      "state": {
       "description_width": ""
      }
     },
     "15e8df68789142a0b43be25f3980436b": {
      "model_module": "@jupyter-widgets/controls",
      "model_module_version": "1.5.0",
      "model_name": "ButtonModel",
      "state": {
       "description": "EDIT",
       "layout": "IPY_MODEL_9355e698c8dd45e1aba5c3615f64e9bf",
       "style": "IPY_MODEL_f60ca1ae82ad40ffa40c8b3fab885869"
      }
     },
     "15e9ca84b38c40fd80cd70c5a7d2bbfa": {
      "model_module": "@jupyter-widgets/base",
      "model_module_version": "1.2.0",
      "model_name": "LayoutModel",
      "state": {}
     },
     "15f499639e4446d59a19c632bc75fd1b": {
      "model_module": "@jupyter-widgets/controls",
      "model_module_version": "1.5.0",
      "model_name": "LabelModel",
      "state": {
       "layout": "IPY_MODEL_31f57b9012f446d1a542cbe251e606af",
       "style": "IPY_MODEL_d034b26c18b342e490d342aeda1e36b9",
       "value": "             objective 4"
      }
     },
     "16255ac2ae1d4c54ba7043817089c7dd": {
      "model_module": "@jupyter-widgets/controls",
      "model_module_version": "1.5.0",
      "model_name": "ButtonStyleModel",
      "state": {}
     },
     "164fe1071d8841c1be05957ceb77347b": {
      "model_module": "@jupyter-widgets/controls",
      "model_module_version": "1.5.0",
      "model_name": "LabelModel",
      "state": {
       "layout": "IPY_MODEL_ba2d398ea8ae4123a65f224f3e78034a",
       "style": "IPY_MODEL_2da94be0babb417b9b59b27c3cbda264",
       "value": "     (1/1)"
      }
     },
     "166585d96ed14c438d61bd16e5e2d3a6": {
      "model_module": "@jupyter-widgets/controls",
      "model_module_version": "1.5.0",
      "model_name": "ButtonModel",
      "state": {
       "description": "EDIT",
       "layout": "IPY_MODEL_9f5cc4a648444de0ab898c5cee7c6d43",
       "style": "IPY_MODEL_d1466497f4544f15b1bb6807f55225fa"
      }
     },
     "169165df8dba482787ee48d8b55758e2": {
      "model_module": "@jupyter-widgets/controls",
      "model_module_version": "1.5.0",
      "model_name": "HBoxModel",
      "state": {
       "children": [
        "IPY_MODEL_171d8f2ea1ee4315b8f673b510bb039d",
        "IPY_MODEL_1018f3f8d447452fab7e79ba6f36a229",
        "IPY_MODEL_c2698a2bb0654c54af80b27766fe4590",
        "IPY_MODEL_c591d3e10e0649f4bc78d4db951d75b3"
       ],
       "layout": "IPY_MODEL_077a0326339545da8bc0c166a6634623"
      }
     },
     "16a689b757b84056a6b60aa50de7d090": {
      "model_module": "@jupyter-widgets/controls",
      "model_module_version": "1.5.0",
      "model_name": "HTMLModel",
      "state": {
       "layout": "IPY_MODEL_6c3c3577f7af499eb23a7a91c269b927",
       "style": "IPY_MODEL_27d3374a8ffe4ef79e844a0b79f8dab9",
       "value": "<font size=\"5\"><b>Showdown</b></font size=>"
      }
     },
     "16f44f3205374880bf31ac81197a46bd": {
      "model_module": "@jupyter-widgets/controls",
      "model_module_version": "1.5.0",
      "model_name": "ButtonStyleModel",
      "state": {}
     },
     "171d8f2ea1ee4315b8f673b510bb039d": {
      "model_module": "@jupyter-widgets/controls",
      "model_module_version": "1.5.0",
      "model_name": "ButtonModel",
      "state": {
       "layout": "IPY_MODEL_5d79c30d8f6a4803b557546ce34d582d",
       "style": "IPY_MODEL_16255ac2ae1d4c54ba7043817089c7dd"
      }
     },
     "17689b6e26e44d9bbdc5e99a8118a7f2": {
      "model_module": "@jupyter-widgets/base",
      "model_module_version": "1.2.0",
      "model_name": "LayoutModel",
      "state": {
       "overflow": "visible",
       "width": "100%"
      }
     },
     "18099aadd67b4d88b8639bb3d1b7859c": {
      "model_module": "@jupyter-widgets/controls",
      "model_module_version": "1.5.0",
      "model_name": "DescriptionStyleModel",
      "state": {
       "description_width": ""
      }
     },
     "18ccda0c3be24bedbd4b1fda6e177f57": {
      "model_module": "@jupyter-widgets/controls",
      "model_module_version": "1.5.0",
      "model_name": "LabelModel",
      "state": {
       "layout": "IPY_MODEL_de761fae7a1342f4a91f2ee111dedcaf",
       "style": "IPY_MODEL_f3e3d946083e4019880adf15f4a76b0c",
       "value": "    Flashpoint completed (5/1)"
      }
     },
     "18f28c5acaca4147b3bdf03040f43d79": {
      "model_module": "@jupyter-widgets/base",
      "model_module_version": "1.2.0",
      "model_name": "LayoutModel",
      "state": {
       "display": "none"
      }
     },
     "18fe95a38f724082b0bd323d009252b8": {
      "model_module": "@jupyter-widgets/base",
      "model_module_version": "1.2.0",
      "model_name": "LayoutModel",
      "state": {}
     },
     "19821011671d441bbe3327836c8aac75": {
      "model_module": "@jupyter-widgets/controls",
      "model_module_version": "1.5.0",
      "model_name": "ButtonModel",
      "state": {
       "layout": "IPY_MODEL_35f6c9c4599841f5aa420dbb401fcad6",
       "style": "IPY_MODEL_445797ee58f44920bfbf49b9c1adb804"
      }
     },
     "198b43bd472849eab1ed59a0072f2a25": {
      "model_module": "@jupyter-widgets/base",
      "model_module_version": "1.2.0",
      "model_name": "LayoutModel",
      "state": {
       "display": "flex"
      }
     },
     "1a07781dd9724f85ac1a4bf97a496956": {
      "model_module": "@jupyter-widgets/controls",
      "model_module_version": "1.5.0",
      "model_name": "IntProgressModel",
      "state": {
       "layout": "IPY_MODEL_7d75f75f80a04d3a8d499c3632c26161",
       "style": "IPY_MODEL_cc076156395a4a7fb6fa8115d78e75eb",
       "value": 30
      }
     },
     "1a2b6c409f8248b9a9a126b07086f447": {
      "model_module": "@jupyter-widgets/base",
      "model_module_version": "1.2.0",
      "model_name": "LayoutModel",
      "state": {
       "display": "flex",
       "flex_flow": "row wrap"
      }
     },
     "1a3386753b504329aa81454b9ad631f6": {
      "model_module": "@jupyter-widgets/controls",
      "model_module_version": "1.5.0",
      "model_name": "HTMLModel",
      "state": {
       "layout": "IPY_MODEL_6a5ceacc01164af5b34a51d3dd4db0be",
       "style": "IPY_MODEL_22207c87a8b6469a983591c1749a81c3",
       "value": "<i>Achieve a Glory rank of \"Legend\" in any season.</i>"
      }
     },
     "1a560cce78a94daaad52c1d1c2562e1b": {
      "model_module": "@jupyter-widgets/controls",
      "model_module_version": "1.5.0",
      "model_name": "ButtonStyleModel",
      "state": {}
     },
     "1aac762ed22045f1b7ffb6a99baa54bb": {
      "model_module": "@jupyter-widgets/controls",
      "model_module_version": "1.5.0",
      "model_name": "VBoxModel",
      "state": {
       "children": [
        "IPY_MODEL_3ac9f9a20da34249a8190fa315486d94",
        "IPY_MODEL_e97185609df94e2280a22bb4301fada4",
        "IPY_MODEL_4faaccb1a0f5425d9c8182f734954118",
        "IPY_MODEL_734a718c8c5d42489b301ce6bd899fa0"
       ],
       "layout": "IPY_MODEL_22cadfd5b98049dbbaf69d13c025316b"
      }
     },
     "1ad286a4987e42b2bb61d81fff877a25": {
      "model_module": "@jupyter-widgets/controls",
      "model_module_version": "1.5.0",
      "model_name": "LabelModel",
      "state": {
       "layout": "IPY_MODEL_d936ceeb385244b0af3b20dffd1af6a4",
       "style": "IPY_MODEL_13510a4a69804e5da3bba1459f3ef9ed",
       "value": "             objective 3"
      }
     },
     "1ae5d6bb9f544794b5058e74d09f3ba2": {
      "model_module": "@jupyter-widgets/base",
      "model_module_version": "1.2.0",
      "model_name": "LayoutModel",
      "state": {
       "order": "-1",
       "overflow": "visible",
       "padding": "1px",
       "width": "0px"
      }
     },
     "1bb783abc1d54db3a4b1df1b50da0827": {
      "model_module": "@jupyter-widgets/controls",
      "model_module_version": "1.5.0",
      "model_name": "DescriptionStyleModel",
      "state": {
       "description_width": ""
      }
     },
     "1c169018beb54b79916d143cce5db5b7": {
      "model_module": "@jupyter-widgets/controls",
      "model_module_version": "1.5.0",
      "model_name": "ButtonModel",
      "state": {
       "description": "EDIT",
       "layout": "IPY_MODEL_91ff1bd0e32c41638059a46df6958b42",
       "style": "IPY_MODEL_7fc69787b687435cb74251ccd0e1aa12"
      }
     },
     "1c573524acf146b5a0ee10fe8e969cc6": {
      "model_module": "@jupyter-widgets/base",
      "model_module_version": "1.2.0",
      "model_name": "LayoutModel",
      "state": {
       "display": "flex",
       "flex_flow": "row wrap"
      }
     },
     "1c8363f35dc247439fd8d3aa0417172b": {
      "model_module": "@jupyter-widgets/controls",
      "model_module_version": "1.5.0",
      "model_name": "ButtonModel",
      "state": {
       "layout": "IPY_MODEL_6c7c02b2c21f468e9c338114465d1d91",
       "style": "IPY_MODEL_d7160a2712e44690928c3f23ad12b0ff"
      }
     },
     "1c9201215d014751923ccffb169f0151": {
      "model_module": "@jupyter-widgets/controls",
      "model_module_version": "1.5.0",
      "model_name": "ButtonStyleModel",
      "state": {}
     },
     "1c9657319a4c4df7aaee18f928dbc51c": {
      "model_module": "@jupyter-widgets/controls",
      "model_module_version": "1.5.0",
      "model_name": "LabelModel",
      "state": {
       "layout": "IPY_MODEL_615dc2b4160340c3afc53960ace08252",
       "style": "IPY_MODEL_4da981c2efe944cbb114e2613e44abe2",
       "value": "             objective 4"
      }
     },
     "1caa4fe7649d4057af9b425303417326": {
      "model_module": "@jupyter-widgets/controls",
      "model_module_version": "1.5.0",
      "model_name": "ProgressStyleModel",
      "state": {
       "description_width": ""
      }
     },
     "1cd66add6e564967887ec193955b2761": {
      "model_module": "@jupyter-widgets/controls",
      "model_module_version": "1.5.0",
      "model_name": "VBoxModel",
      "state": {
       "children": [
        "IPY_MODEL_ac3ec9bf3be64597b4b68b118fb6d864",
        "IPY_MODEL_006e91f67f904a9197af2e07467cc2de",
        "IPY_MODEL_226dbf9d3ea7414b841e2c7f41994884",
        "IPY_MODEL_66240bd069e24f5d8dcf9d15c75ad780",
        "IPY_MODEL_cf97fb3a9af04884acccd461ba515cb6",
        "IPY_MODEL_169165df8dba482787ee48d8b55758e2"
       ],
       "layout": "IPY_MODEL_11d31c9913ed4fd5b8be75fa8fe20ccc"
      }
     },
     "1e121464f7904e5593395f0095ca033a": {
      "model_module": "@jupyter-widgets/controls",
      "model_module_version": "1.5.0",
      "model_name": "ButtonModel",
      "state": {
       "layout": "IPY_MODEL_5d79c30d8f6a4803b557546ce34d582d",
       "style": "IPY_MODEL_ad64df6212fa4edd9552f4c3c6ca4ed8"
      }
     },
     "1e67b72ec3c4417e82a8738af59bfdb9": {
      "model_module": "@jupyter-widgets/controls",
      "model_module_version": "1.5.0",
      "model_name": "HBoxModel",
      "state": {
       "children": [
        "IPY_MODEL_085e708d508e4693a2722aea7678d485",
        "IPY_MODEL_7ec0074b96964ea2afe84de8a6a3e4c3",
        "IPY_MODEL_835e68c953b64b45a10e636a5f3e4913",
        "IPY_MODEL_5bb9759bee154c20938606008d4b99f0"
       ],
       "layout": "IPY_MODEL_4205750a3c6f4430ae5ff6b3d7b0c433"
      }
     },
     "1e78b2c6f68149f089b0912e955155fc": {
      "model_module": "@jupyter-widgets/controls",
      "model_module_version": "1.5.0",
      "model_name": "LabelModel",
      "state": {
       "layout": "IPY_MODEL_0aff27b43c464f5fba0a413915483f81",
       "style": "IPY_MODEL_b210d221dc4e4d2cb474af3f6a2bc00e",
       "value": "             objective 4"
      }
     },
     "1e7d647f65c5456cafa9233d00fe2337": {
      "model_module": "@jupyter-widgets/controls",
      "model_module_version": "1.5.0",
      "model_name": "ProgressStyleModel",
      "state": {
       "description_width": ""
      }
     },
     "1e8b7b192035458f84f6680a63bd2fe8": {
      "model_module": "@jupyter-widgets/controls",
      "model_module_version": "1.5.0",
      "model_name": "DescriptionStyleModel",
      "state": {
       "description_width": ""
      }
     },
     "1ea8c285059148f7bcba507f256645c1": {
      "model_module": "@jupyter-widgets/controls",
      "model_module_version": "1.5.0",
      "model_name": "ProgressStyleModel",
      "state": {
       "description_width": ""
      }
     },
     "1ee0f3de2b4147929f5faee7c0c1de41": {
      "model_module": "@jupyter-widgets/controls",
      "model_module_version": "1.5.0",
      "model_name": "LabelModel",
      "state": {
       "layout": "IPY_MODEL_b0ad11da86824a53a8c0efe22de78936",
       "style": "IPY_MODEL_6d6b8f85f0d8494ea1649f6c4e4fbfe7",
       "value": "Class:"
      }
     },
     "1ee5072cd8354cc0b84481c1e2bc855b": {
      "model_module": "@jupyter-widgets/controls",
      "model_module_version": "1.5.0",
      "model_name": "LabelModel",
      "state": {
       "layout": "IPY_MODEL_a7cb5d5ecfd046049ce25a7a0ba1208a",
       "style": "IPY_MODEL_595f90f7c696410696a6871ed26744ea",
       "value": "             objective 3"
      }
     },
     "1f2df663137149729032462a2e91acc4": {
      "model_module": "@jupyter-widgets/controls",
      "model_module_version": "1.5.0",
      "model_name": "ButtonModel",
      "state": {
       "description": "EDIT",
       "layout": "IPY_MODEL_c2908eb40eb74c39ac79897142cc121f",
       "style": "IPY_MODEL_9206be4bd9054be78c463bc0201abfe9"
      }
     },
     "1f38d4cbb48e42f699ac5b62c855b700": {
      "model_module": "@jupyter-widgets/controls",
      "model_module_version": "1.5.0",
      "model_name": "ButtonStyleModel",
      "state": {}
     },
     "1f61e7f411df44cc8c5c348dd7a487db": {
      "model_module": "@jupyter-widgets/controls",
      "model_module_version": "1.5.0",
      "model_name": "DescriptionStyleModel",
      "state": {
       "description_width": ""
      }
     },
     "1f911049eda544a2b40dca0e586500c1": {
      "model_module": "@jupyter-widgets/controls",
      "model_module_version": "1.5.0",
      "model_name": "VBoxModel",
      "state": {
       "children": [
        "IPY_MODEL_d81eba1574ac4f4b9b476ea4c19544f6",
        "IPY_MODEL_e2c4d1315be84bcf863471ece4af5f5e",
        "IPY_MODEL_8ce20fcc56cf48d99e44d36bfe7ba3ed",
        "IPY_MODEL_de2e82044e1d40f09d0174f8a499c5be"
       ],
       "layout": "IPY_MODEL_4799eb5050904bc4846b24dc1316f02e"
      }
     },
     "1f92eaf52b194cd7b31bbc8800ec8bb8": {
      "model_module": "@jupyter-widgets/controls",
      "model_module_version": "1.5.0",
      "model_name": "DescriptionStyleModel",
      "state": {
       "description_width": ""
      }
     },
     "1faadc7762d041ef882b5047124db3bc": {
      "model_module": "@jupyter-widgets/controls",
      "model_module_version": "1.5.0",
      "model_name": "HBoxModel",
      "state": {
       "children": [
        "IPY_MODEL_dee80ada27014e9c8429ee0f41ec1026",
        "IPY_MODEL_6c5683e8a3954251ad6a1f56eae038c2",
        "IPY_MODEL_62bfc69118144d8db75d9709eb19ee42",
        "IPY_MODEL_96852593bf934757b20c76b5910ba43a"
       ],
       "layout": "IPY_MODEL_18f28c5acaca4147b3bdf03040f43d79"
      }
     },
     "201378fbfbd546f0950315ce3914e0d2": {
      "model_module": "@jupyter-widgets/controls",
      "model_module_version": "1.5.0",
      "model_name": "HBoxModel",
      "state": {
       "children": [
        "IPY_MODEL_82a6d1bff27a4cc9b87908667e181f73",
        "IPY_MODEL_1a07781dd9724f85ac1a4bf97a496956",
        "IPY_MODEL_c5a9983bd7774827a76dcf63a098d6b8",
        "IPY_MODEL_8a777a94d3e14863acc834c49551612b"
       ],
       "layout": "IPY_MODEL_2acd820f2f5046b3905bbe96e7d485a7"
      }
     },
     "20a3047e0b48490181e86ee17b2a3d76": {
      "model_module": "@jupyter-widgets/controls",
      "model_module_version": "1.5.0",
      "model_name": "DescriptionStyleModel",
      "state": {
       "description_width": ""
      }
     },
     "21193c2c1d2a4754909f6d7048bab2f3": {
      "model_module": "@jupyter-widgets/controls",
      "model_module_version": "1.5.0",
      "model_name": "DescriptionStyleModel",
      "state": {
       "description_width": ""
      }
     },
     "215be5af92cb4c6a93178fe32845a7b2": {
      "model_module": "@jupyter-widgets/base",
      "model_module_version": "1.2.0",
      "model_name": "LayoutModel",
      "state": {}
     },
     "2173a365e3a04302a5b7dd98288387de": {
      "model_module": "@jupyter-widgets/controls",
      "model_module_version": "1.5.0",
      "model_name": "ButtonStyleModel",
      "state": {}
     },
     "21b0793bb51f4b69b96b51a8f902bd4c": {
      "model_module": "@jupyter-widgets/base",
      "model_module_version": "1.2.0",
      "model_name": "LayoutModel",
      "state": {
       "display": "none"
      }
     },
     "21c082d38b4c488e9865bbc71c695b59": {
      "model_module": "@jupyter-widgets/controls",
      "model_module_version": "1.5.0",
      "model_name": "LabelModel",
      "state": {
       "layout": "IPY_MODEL_615dc2b4160340c3afc53960ace08252",
       "style": "IPY_MODEL_fa425966673e4e9686e946902a495f04",
       "value": "             objective 3"
      }
     },
     "21d7f9e7cc76440fae9dc3e11339b36b": {
      "model_module": "@jupyter-widgets/controls",
      "model_module_version": "1.5.0",
      "model_name": "ButtonModel",
      "state": {
       "layout": "IPY_MODEL_fbaa08c360764d01827b54400b084e59",
       "style": "IPY_MODEL_e483b58caa664444a7744cb9b58793cb"
      }
     },
     "2219d964817f4761b9e86fb645ba3a43": {
      "model_module": "@jupyter-widgets/controls",
      "model_module_version": "1.5.0",
      "model_name": "DescriptionStyleModel",
      "state": {
       "description_width": ""
      }
     },
     "22207c87a8b6469a983591c1749a81c3": {
      "model_module": "@jupyter-widgets/controls",
      "model_module_version": "1.5.0",
      "model_name": "DescriptionStyleModel",
      "state": {
       "description_width": ""
      }
     },
     "2242f97a9e7a43e4bde3968b1762aae6": {
      "model_module": "@jupyter-widgets/controls",
      "model_module_version": "1.5.0",
      "model_name": "LabelModel",
      "state": {
       "layout": "IPY_MODEL_6d8a8ff71550484798864c4285fc4b90",
       "style": "IPY_MODEL_d716eca0a5f748ad9ef1b1f6e81483a4",
       "value": "Energy Weapon:"
      }
     },
     "224d216cca77476c9392b98e08a61921": {
      "model_module": "@jupyter-widgets/controls",
      "model_module_version": "1.5.0",
      "model_name": "ButtonModel",
      "state": {
       "description": "EDIT",
       "layout": "IPY_MODEL_0e19c1e9dfd943169fc15a3732075b7a",
       "style": "IPY_MODEL_3ff8c7afe84649009e6697def689defc"
      }
     },
     "226dbf9d3ea7414b841e2c7f41994884": {
      "model_module": "@jupyter-widgets/controls",
      "model_module_version": "1.5.0",
      "model_name": "HBoxModel",
      "state": {
       "children": [
        "IPY_MODEL_9884f0562460403aa7c94286e1553033",
        "IPY_MODEL_fd979215f82f49498970dedee210455d",
        "IPY_MODEL_a6d1244938bf4aafaabc95c392ffde6e",
        "IPY_MODEL_224d216cca77476c9392b98e08a61921"
       ],
       "layout": "IPY_MODEL_fcd26b3661294ae8b234fde9fb8e2f62"
      }
     },
     "227751ee5e49496d9d8766d928ba9153": {
      "model_module": "@jupyter-widgets/controls",
      "model_module_version": "1.5.0",
      "model_name": "DescriptionStyleModel",
      "state": {
       "description_width": ""
      }
     },
     "22cadfd5b98049dbbaf69d13c025316b": {
      "model_module": "@jupyter-widgets/base",
      "model_module_version": "1.2.0",
      "model_name": "LayoutModel",
      "state": {
       "border": "3px solid white",
       "display": "flex",
       "margin": "10px",
       "overflow": "visible",
       "padding": "10px",
       "width": "400px"
      }
     },
     "22d9ebd2bd5d4b5e98ab5987d58d8c26": {
      "model_module": "@jupyter-widgets/controls",
      "model_module_version": "1.5.0",
      "model_name": "DescriptionStyleModel",
      "state": {
       "description_width": ""
      }
     },
     "22f53d9ebc7941509c9d3378ba8fae26": {
      "model_module": "@jupyter-widgets/controls",
      "model_module_version": "1.5.0",
      "model_name": "HTMLModel",
      "state": {
       "layout": "IPY_MODEL_ad1da47dc2cb435a8b8147833a35290c",
       "style": "IPY_MODEL_8da581c75a5e4ec3a69eccc7249cedb6",
       "value": "<i>Complete a Flashpoint on Io.</i>"
      }
     },
     "23147bf03ddd4924af6ddaae950cd850": {
      "model_module": "@jupyter-widgets/controls",
      "model_module_version": "1.5.0",
      "model_name": "ButtonModel",
      "state": {
       "description": "EDIT",
       "layout": "IPY_MODEL_4f4cc85cc66f41249ae67aa4c950288d",
       "style": "IPY_MODEL_16f44f3205374880bf31ac81197a46bd"
      }
     },
     "237575fc0db94141a08665e7c4d452e9": {
      "model_module": "@jupyter-widgets/controls",
      "model_module_version": "1.5.0",
      "model_name": "HBoxModel",
      "state": {
       "children": [
        "IPY_MODEL_b399c11733df466ab24f8ffb7c36d8ba",
        "IPY_MODEL_c85bcf3dbd0949479ae5ef43d36acffb",
        "IPY_MODEL_4005d5c163f747808d1e09b1d5a5fdf3",
        "IPY_MODEL_e859f24136ef4839b0cfc334d89d6bef"
       ],
       "layout": "IPY_MODEL_3980961824244d7a9f8bba1071401907"
      }
     },
     "23f72801d58d4d32a223ce1bd94267de": {
      "model_module": "@jupyter-widgets/controls",
      "model_module_version": "1.5.0",
      "model_name": "ButtonModel",
      "state": {
       "layout": "IPY_MODEL_6c7c02b2c21f468e9c338114465d1d91",
       "style": "IPY_MODEL_7a86a4ca1c7d40d7bd2bbeace165d35b"
      }
     },
     "2422a0778c48422cab6b455c776c7e84": {
      "model_module": "@jupyter-widgets/controls",
      "model_module_version": "1.5.0",
      "model_name": "VBoxModel",
      "state": {
       "children": [
        "IPY_MODEL_c3b1f30751094199b2843362cd312766",
        "IPY_MODEL_b3c2fab0fd6f4132817438cca79b1eda",
        "IPY_MODEL_9d097e6f135c40d18c34c5d9b903044e",
        "IPY_MODEL_9fa8166a8875467096eb5f5bedfc0677",
        "IPY_MODEL_567aad09049e4b07943dc80c138ea07f",
        "IPY_MODEL_313ebfa2aa5d4361aef46042a0aeac2e"
       ],
       "layout": "IPY_MODEL_41c96512b67b4d8aabb3c14f0525b021"
      }
     },
     "2444be8ed3074443bf22405bf4ec5861": {
      "model_module": "@jupyter-widgets/controls",
      "model_module_version": "1.5.0",
      "model_name": "ProgressStyleModel",
      "state": {
       "description_width": ""
      }
     },
     "24550955a39e422cacf7fb1b82093ede": {
      "model_module": "@jupyter-widgets/controls",
      "model_module_version": "1.5.0",
      "model_name": "IntProgressModel",
      "state": {
       "bar_style": "success",
       "layout": "IPY_MODEL_98c35db6b8f147b48e25cd417a39f12e",
       "style": "IPY_MODEL_a9d229b44e6b441887c5482cdee2db7d",
       "value": 100
      }
     },
     "247fe00fbf3f45ddb994bf2c9364154a": {
      "model_module": "@jupyter-widgets/controls",
      "model_module_version": "1.5.0",
      "model_name": "ButtonStyleModel",
      "state": {}
     },
     "24e2a0bcc35547e899ac63faacc4e6a2": {
      "model_module": "@jupyter-widgets/controls",
      "model_module_version": "1.5.0",
      "model_name": "DescriptionStyleModel",
      "state": {
       "description_width": ""
      }
     },
     "24e84fdd8bcb4f86a46d799230c1e296": {
      "model_module": "@jupyter-widgets/base",
      "model_module_version": "1.2.0",
      "model_name": "LayoutModel",
      "state": {}
     },
     "257eb71ed2cd42799c2c34dba741c716": {
      "model_module": "@jupyter-widgets/base",
      "model_module_version": "1.2.0",
      "model_name": "LayoutModel",
      "state": {
       "width": "85%"
      }
     },
     "25b3dcd23b6e412baae5c93ce9341ddb": {
      "model_module": "@jupyter-widgets/controls",
      "model_module_version": "1.5.0",
      "model_name": "LabelModel",
      "state": {
       "layout": "IPY_MODEL_6d8a8ff71550484798864c4285fc4b90",
       "style": "IPY_MODEL_4ccb0750623b4b7c9ebb699f5a109315",
       "value": "Kinetic Weapon:"
      }
     },
     "265600422f0c433391c62a0cc6e08542": {
      "model_module": "@jupyter-widgets/base",
      "model_module_version": "1.2.0",
      "model_name": "LayoutModel",
      "state": {
       "display": "none"
      }
     },
     "2674bfd1831649e0b1813deb0c34c86c": {
      "model_module": "@jupyter-widgets/controls",
      "model_module_version": "1.5.0",
      "model_name": "ButtonModel",
      "state": {
       "description": "EDIT",
       "layout": "IPY_MODEL_fa842af5c7264653a1b967aa756b1f70",
       "style": "IPY_MODEL_8687059609fb4a16b2069155e99e1f6a"
      }
     },
     "26879077801944b88476f010959551b2": {
      "model_module": "@jupyter-widgets/controls",
      "model_module_version": "1.5.0",
      "model_name": "ButtonModel",
      "state": {
       "description": "EDIT",
       "layout": "IPY_MODEL_65eab0865f8c48768793b40b7b8beaf9",
       "style": "IPY_MODEL_a94056083da94783a7d7cbda21fd152e"
      }
     },
     "270c9f5a74dd4662b7bea81700ba1033": {
      "model_module": "@jupyter-widgets/controls",
      "model_module_version": "1.5.0",
      "model_name": "ProgressStyleModel",
      "state": {
       "description_width": ""
      }
     },
     "272caa2a293a4c32939417d15c3dbe8d": {
      "model_module": "@jupyter-widgets/base",
      "model_module_version": "1.2.0",
      "model_name": "LayoutModel",
      "state": {
       "height": "32px",
       "order": "-2",
       "width": "32px"
      }
     },
     "273bb36623da42599b900c79e965f134": {
      "model_module": "@jupyter-widgets/controls",
      "model_module_version": "1.5.0",
      "model_name": "DescriptionStyleModel",
      "state": {
       "description_width": ""
      }
     },
     "27412d191f6148efab292e88fdb2e043": {
      "model_module": "@jupyter-widgets/base",
      "model_module_version": "1.2.0",
      "model_name": "LayoutModel",
      "state": {
       "overflow": "visible",
       "width": "100%"
      }
     },
     "274aaf0797c94fda8b1163525cb998a1": {
      "model_module": "@jupyter-widgets/controls",
      "model_module_version": "1.5.0",
      "model_name": "ButtonStyleModel",
      "state": {}
     },
     "275e25150f77454ab34cd957e00ec043": {
      "model_module": "@jupyter-widgets/base",
      "model_module_version": "1.2.0",
      "model_name": "LayoutModel",
      "state": {
       "display": "flex"
      }
     },
     "276f0795f86645568846add080765928": {
      "model_module": "@jupyter-widgets/controls",
      "model_module_version": "1.5.0",
      "model_name": "IntProgressModel",
      "state": {
       "layout": "IPY_MODEL_a52cf2c5947a4de1b97014c038f6f0bf",
       "style": "IPY_MODEL_0e61500c8fa948eebead1a360f5554d7",
       "value": 30
      }
     },
     "27716187644b4fff8a84b737d9a3d3a4": {
      "model_module": "@jupyter-widgets/controls",
      "model_module_version": "1.5.0",
      "model_name": "ProgressStyleModel",
      "state": {
       "description_width": ""
      }
     },
     "27834eb15b604705973a1601f8bf6df3": {
      "model_module": "@jupyter-widgets/base",
      "model_module_version": "1.2.0",
      "model_name": "LayoutModel",
      "state": {
       "display": "none"
      }
     },
     "27d3374a8ffe4ef79e844a0b79f8dab9": {
      "model_module": "@jupyter-widgets/controls",
      "model_module_version": "1.5.0",
      "model_name": "DescriptionStyleModel",
      "state": {
       "description_width": ""
      }
     },
     "27dd60577b5d49ed82e9effccf56b283": {
      "model_module": "@jupyter-widgets/controls",
      "model_module_version": "1.5.0",
      "model_name": "LabelModel",
      "state": {
       "layout": "IPY_MODEL_ffada0c8da764ac7aea9472cacb9e750",
       "style": "IPY_MODEL_b8a7ca8603a34be4961ef5efed07af2b",
       "value": "             objective 3"
      }
     },
     "28219e23259c4204b040278ba40ff715": {
      "model_module": "@jupyter-widgets/base",
      "model_module_version": "1.2.0",
      "model_name": "LayoutModel",
      "state": {}
     },
     "2853c21e59f342f59ce0645e899dc598": {
      "model_module": "@jupyter-widgets/controls",
      "model_module_version": "1.5.0",
      "model_name": "DescriptionStyleModel",
      "state": {
       "description_width": ""
      }
     },
     "28a0670b52dc4c9f9ca7414aa53cf71c": {
      "model_module": "@jupyter-widgets/base",
      "model_module_version": "1.2.0",
      "model_name": "LayoutModel",
      "state": {
       "overflow": "visible",
       "width": "100%"
      }
     },
     "28ac00eaba5b4787b358455a7f278913": {
      "model_module": "@jupyter-widgets/controls",
      "model_module_version": "1.5.0",
      "model_name": "LabelModel",
      "state": {
       "layout": "IPY_MODEL_a7cb5d5ecfd046049ce25a7a0ba1208a",
       "style": "IPY_MODEL_eaa7f86a5874459e9f594d46adc08151",
       "value": "     (1/1)"
      }
     },
     "28d71be27a304cd68a0ebc0f10463b0e": {
      "model_module": "@jupyter-widgets/controls",
      "model_module_version": "1.5.0",
      "model_name": "ButtonStyleModel",
      "state": {}
     },
     "28ddb5c8450249d8befdb2a77971861d": {
      "model_module": "@jupyter-widgets/controls",
      "model_module_version": "1.5.0",
      "model_name": "DescriptionStyleModel",
      "state": {
       "description_width": ""
      }
     },
     "290d6fcdea55406780ce387f04428e8a": {
      "model_module": "@jupyter-widgets/base",
      "model_module_version": "1.2.0",
      "model_name": "LayoutModel",
      "state": {}
     },
     "293246be46ae495d996686c29738455b": {
      "model_module": "@jupyter-widgets/controls",
      "model_module_version": "1.5.0",
      "model_name": "DescriptionStyleModel",
      "state": {
       "description_width": ""
      }
     },
     "2962457255714356b6645ac1447e7ab8": {
      "model_module": "@jupyter-widgets/controls",
      "model_module_version": "1.5.0",
      "model_name": "DescriptionStyleModel",
      "state": {
       "description_width": ""
      }
     },
     "29aceae3776a47b0a6077684194eae58": {
      "model_module": "@jupyter-widgets/controls",
      "model_module_version": "1.5.0",
      "model_name": "ButtonModel",
      "state": {
       "description": "EDIT",
       "layout": "IPY_MODEL_cd1c6b75cf0443b0b7b35736ea871343",
       "style": "IPY_MODEL_e122296ba0f3496b8b5a8939374f99f2"
      }
     },
     "29beecad21e14c4cb241e100de8b0664": {
      "model_module": "@jupyter-widgets/controls",
      "model_module_version": "1.5.0",
      "model_name": "ProgressStyleModel",
      "state": {
       "description_width": ""
      }
     },
     "29e1404ae28742e299005f7ba4aeecf7": {
      "model_module": "@jupyter-widgets/controls",
      "model_module_version": "1.5.0",
      "model_name": "ProgressStyleModel",
      "state": {
       "description_width": ""
      }
     },
     "29f1b9b3e8234d1ca4557fb6519700d3": {
      "model_module": "@jupyter-widgets/base",
      "model_module_version": "1.2.0",
      "model_name": "LayoutModel",
      "state": {
       "width": "60px"
      }
     },
     "29ff0519546a4513804a2bc19ca73dfd": {
      "model_module": "@jupyter-widgets/controls",
      "model_module_version": "1.5.0",
      "model_name": "LabelModel",
      "state": {
       "layout": "IPY_MODEL_6d8a8ff71550484798864c4285fc4b90",
       "style": "IPY_MODEL_ceb1ef56219f4f7bb9e3ee2052566443",
       "value": "Subclass:"
      }
     },
     "2a1b972959624adab315c6899bc6dddc": {
      "model_module": "@jupyter-widgets/base",
      "model_module_version": "1.2.0",
      "model_name": "LayoutModel",
      "state": {
       "width": "60px"
      }
     },
     "2a2f8498b4b1419087fd94da259e6bb8": {
      "model_module": "@jupyter-widgets/base",
      "model_module_version": "1.2.0",
      "model_name": "LayoutModel",
      "state": {}
     },
     "2a36e67def974908a5a7091acf53590f": {
      "model_module": "@jupyter-widgets/controls",
      "model_module_version": "1.5.0",
      "model_name": "DescriptionStyleModel",
      "state": {
       "description_width": ""
      }
     },
     "2a5a1de92d3844e1b796d97cf84b7f03": {
      "model_module": "@jupyter-widgets/controls",
      "model_module_version": "1.5.0",
      "model_name": "ButtonStyleModel",
      "state": {}
     },
     "2a67af0a33cb4d0e99b94afc5aa8e569": {
      "model_module": "@jupyter-widgets/base",
      "model_module_version": "1.2.0",
      "model_name": "LayoutModel",
      "state": {
       "display": "none"
      }
     },
     "2aa02327d19942d5bb7895835c8063ed": {
      "model_module": "@jupyter-widgets/controls",
      "model_module_version": "1.5.0",
      "model_name": "DescriptionStyleModel",
      "state": {
       "description_width": ""
      }
     },
     "2ac28551dab44453b179061c50141095": {
      "model_module": "@jupyter-widgets/controls",
      "model_module_version": "1.5.0",
      "model_name": "ButtonModel",
      "state": {
       "layout": "IPY_MODEL_0b0c599a42ff4eb5af1d8e8de60b3891",
       "style": "IPY_MODEL_3afbb3c606324c378c233b3a7b431dbd"
      }
     },
     "2acd820f2f5046b3905bbe96e7d485a7": {
      "model_module": "@jupyter-widgets/base",
      "model_module_version": "1.2.0",
      "model_name": "LayoutModel",
      "state": {
       "display": "none"
      }
     },
     "2b328b850c2e46299b8b8ce436916cf5": {
      "model_module": "@jupyter-widgets/controls",
      "model_module_version": "1.5.0",
      "model_name": "ButtonStyleModel",
      "state": {}
     },
     "2bc50cb2cb1b4191b317e324303ef23f": {
      "model_module": "@jupyter-widgets/controls",
      "model_module_version": "1.5.0",
      "model_name": "VBoxModel",
      "state": {
       "children": [
        "IPY_MODEL_89025a8dc22c4b379c14bd9280e576b2",
        "IPY_MODEL_f7b60d39213e490d8f3b64156c3ce538",
        "IPY_MODEL_e8d8ad73417f44a68216565c4ed7e967",
        "IPY_MODEL_a604462e3c7347009d4a90be9f11bd00"
       ],
       "layout": "IPY_MODEL_a11f170d68ac4082aaff584b0dd5652e"
      }
     },
     "2bfa54fa6b6d42cdb1692f0b1efe27a6": {
      "model_module": "@jupyter-widgets/controls",
      "model_module_version": "1.5.0",
      "model_name": "DescriptionStyleModel",
      "state": {
       "description_width": ""
      }
     },
     "2c7ef901768c4fc68009f614cff289f3": {
      "model_module": "@jupyter-widgets/controls",
      "model_module_version": "1.5.0",
      "model_name": "ButtonModel",
      "state": {
       "description": "EDIT",
       "layout": "IPY_MODEL_45eb49a742964deb9def153e5ca474e3",
       "style": "IPY_MODEL_9ce27f83a37c47a8a943ad402b669f57"
      }
     },
     "2c8adde062ea4205bbccc2b5f8da30f2": {
      "model_module": "@jupyter-widgets/controls",
      "model_module_version": "1.5.0",
      "model_name": "ProgressStyleModel",
      "state": {
       "description_width": ""
      }
     },
     "2caf4ab56fe94004a79bb929ca6f9b06": {
      "model_module": "@jupyter-widgets/controls",
      "model_module_version": "1.5.0",
      "model_name": "DescriptionStyleModel",
      "state": {
       "description_width": ""
      }
     },
     "2cc50710772a437dbff68b9b21974181": {
      "model_module": "@jupyter-widgets/controls",
      "model_module_version": "1.5.0",
      "model_name": "HTMLModel",
      "state": {
       "layout": "IPY_MODEL_a40caeccc09b489484b77080ec5de686",
       "style": "IPY_MODEL_eb21687e156546bf8d9c2ffac530d895",
       "value": "<font size=\"1\">Triumphs/Account/Moments of Triumph/Moments of Triumph/</font size=>"
      }
     },
     "2cf15f492f964b48b59d9a08113a2643": {
      "model_module": "@jupyter-widgets/controls",
      "model_module_version": "1.5.0",
      "model_name": "IntProgressModel",
      "state": {
       "layout": "IPY_MODEL_a52cf2c5947a4de1b97014c038f6f0bf",
       "style": "IPY_MODEL_ba5f75ac683c4ae395484275c8038208",
       "value": 30
      }
     },
     "2cf336ee797444498ea717221132a299": {
      "model_module": "@jupyter-widgets/controls",
      "model_module_version": "1.5.0",
      "model_name": "ButtonModel",
      "state": {
       "description": "EDIT",
       "layout": "IPY_MODEL_8cdbafaa474749d9ae5ea054125b598c",
       "style": "IPY_MODEL_9101023a6d924582aba87b2ba95cdae9"
      }
     },
     "2d8e4828a0b243dbb6194ea22410c7e1": {
      "model_module": "@jupyter-widgets/controls",
      "model_module_version": "1.5.0",
      "model_name": "DescriptionStyleModel",
      "state": {
       "description_width": ""
      }
     },
     "2d961dd90d1d41078cbf0a3de9e89aa4": {
      "model_module": "@jupyter-widgets/controls",
      "model_module_version": "1.5.0",
      "model_name": "DescriptionStyleModel",
      "state": {
       "description_width": ""
      }
     },
     "2d9c5f9287894e3096e2eee00223b748": {
      "model_module": "@jupyter-widgets/controls",
      "model_module_version": "1.5.0",
      "model_name": "LabelModel",
      "state": {
       "layout": "IPY_MODEL_6800966f80d14401a5d9e22f2c889fe3",
       "style": "IPY_MODEL_301f99a6e20b4919a8f417210494f878",
       "value": "             objective 2"
      }
     },
     "2da94be0babb417b9b59b27c3cbda264": {
      "model_module": "@jupyter-widgets/controls",
      "model_module_version": "1.5.0",
      "model_name": "DescriptionStyleModel",
      "state": {
       "description_width": ""
      }
     },
     "2daf6053d77741718ba8c113c41efd09": {
      "model_module": "@jupyter-widgets/base",
      "model_module_version": "1.2.0",
      "model_name": "LayoutModel",
      "state": {}
     },
     "2e2e29eec4cf49f6b1be03704a4c49eb": {
      "model_module": "@jupyter-widgets/controls",
      "model_module_version": "1.5.0",
      "model_name": "ButtonModel",
      "state": {
       "button_style": "success",
       "disabled": true,
       "layout": "IPY_MODEL_e6ae7e8502c040f6822de5c432eb7bf3",
       "style": "IPY_MODEL_abc890d2544a423484f0fd763ef08f40"
      }
     },
     "2e54344183ec4b63afdf495962f5af94": {
      "model_module": "@jupyter-widgets/controls",
      "model_module_version": "1.5.0",
      "model_name": "HBoxModel",
      "state": {
       "children": [
        "IPY_MODEL_a7e4933428bb4037aa44e2e925f225c0",
        "IPY_MODEL_ac2670b15d4742e0a37e62a0ad248564",
        "IPY_MODEL_3aaf52a4c92b47a89ed9fe3aa8804550",
        "IPY_MODEL_3fa0eefd23e34cf5bdb5737cbea6d83a"
       ],
       "layout": "IPY_MODEL_f2d0a9111adb4579a9436b572861ced5"
      }
     },
     "2e7b895a83ac47e9b119abd9e7cc5092": {
      "model_module": "@jupyter-widgets/base",
      "model_module_version": "1.2.0",
      "model_name": "LayoutModel",
      "state": {
       "display": "none"
      }
     },
     "2eb443c0712949bca7ee4c20679e4314": {
      "model_module": "@jupyter-widgets/base",
      "model_module_version": "1.2.0",
      "model_name": "LayoutModel",
      "state": {}
     },
     "2f031553ffe844b3a7af5378a394d528": {
      "model_module": "@jupyter-widgets/controls",
      "model_module_version": "1.5.0",
      "model_name": "ButtonModel",
      "state": {
       "layout": "IPY_MODEL_da2a780ab23443d69418f12d85756101",
       "style": "IPY_MODEL_11855d36d7a941408b68f50efc8c4255"
      }
     },
     "2f1149987a694fe8be6a8d04cd7599ba": {
      "model_module": "@jupyter-widgets/controls",
      "model_module_version": "1.5.0",
      "model_name": "DescriptionStyleModel",
      "state": {
       "description_width": ""
      }
     },
     "2f31496d36e2432db79197a17f2fb82a": {
      "model_module": "@jupyter-widgets/controls",
      "model_module_version": "1.5.0",
      "model_name": "ProgressStyleModel",
      "state": {
       "description_width": ""
      }
     },
     "2f4be9d2dd5b489fb219801fdec03e82": {
      "model_module": "@jupyter-widgets/controls",
      "model_module_version": "1.5.0",
      "model_name": "ButtonStyleModel",
      "state": {}
     },
     "2f4c4395c910467797d374a456737560": {
      "model_module": "@jupyter-widgets/controls",
      "model_module_version": "1.5.0",
      "model_name": "ButtonStyleModel",
      "state": {}
     },
     "2fb3bb8fb4f7463c9cea3c73e6ada5bc": {
      "model_module": "@jupyter-widgets/controls",
      "model_module_version": "1.5.0",
      "model_name": "ButtonModel",
      "state": {
       "layout": "IPY_MODEL_fcd22d340cb44fbe986fb38dd4635d16",
       "style": "IPY_MODEL_4127c289efa24aee99f926f079d494ec"
      }
     },
     "3002be8371cb468cbaaf6bf16b5e4db4": {
      "model_module": "@jupyter-widgets/controls",
      "model_module_version": "1.5.0",
      "model_name": "ButtonModel",
      "state": {
       "description": "EDIT",
       "layout": "IPY_MODEL_33e73ca69da54d8bac13ef8909bcf0ff",
       "style": "IPY_MODEL_752e0db3e18f4c4aacea30ff2d5e8c15"
      }
     },
     "301f99a6e20b4919a8f417210494f878": {
      "model_module": "@jupyter-widgets/controls",
      "model_module_version": "1.5.0",
      "model_name": "DescriptionStyleModel",
      "state": {
       "description_width": ""
      }
     },
     "30387089c6ff4a9cb72ce4205afd7f7e": {
      "model_module": "@jupyter-widgets/base",
      "model_module_version": "1.2.0",
      "model_name": "LayoutModel",
      "state": {
       "display": "none"
      }
     },
     "305d9209e254456c84b15afb1239f8f8": {
      "model_module": "@jupyter-widgets/controls",
      "model_module_version": "1.5.0",
      "model_name": "VBoxModel",
      "state": {
       "children": [
        "IPY_MODEL_72adc1e858294f22bdd477a076a69cf5",
        "IPY_MODEL_bfb11061f44743bbaeb48ae865041367",
        "IPY_MODEL_604f32f3317c4cdc906d2837bf48e005",
        "IPY_MODEL_60fce0f445ea4a92915b7dbc8228bce5",
        "IPY_MODEL_a3349e8996c0424abef4d16a63bbb7d9",
        "IPY_MODEL_ccd8469070cc4ddca252da77216c6a5e"
       ],
       "layout": "IPY_MODEL_a3d390597f694656b6251c04171badba"
      }
     },
     "31373e9c34df4aaea5b2211f4110a503": {
      "model_module": "@jupyter-widgets/controls",
      "model_module_version": "1.5.0",
      "model_name": "ButtonStyleModel",
      "state": {}
     },
     "313ebfa2aa5d4361aef46042a0aeac2e": {
      "model_module": "@jupyter-widgets/controls",
      "model_module_version": "1.5.0",
      "model_name": "HBoxModel",
      "state": {
       "children": [
        "IPY_MODEL_21d7f9e7cc76440fae9dc3e11339b36b",
        "IPY_MODEL_5e271dd03fbd4339bec434198445027a",
        "IPY_MODEL_ff77f7364d9941cca6c57307d5694206",
        "IPY_MODEL_07d02c624dc04715b13be8c1c4e5ab89"
       ],
       "layout": "IPY_MODEL_961e81baf0a04673bb7faedd931ecba1"
      }
     },
     "31b38c163ff14cef9298b5b9bebbcc97": {
      "model_module": "@jupyter-widgets/controls",
      "model_module_version": "1.5.0",
      "model_name": "ButtonModel",
      "state": {
       "layout": "IPY_MODEL_5d79c30d8f6a4803b557546ce34d582d",
       "style": "IPY_MODEL_822c1d7105eb4f2694d5d1ed18d24b89"
      }
     },
     "31c5feae72ac4390b91521042a8d2555": {
      "model_module": "@jupyter-widgets/controls",
      "model_module_version": "1.5.0",
      "model_name": "LabelModel",
      "state": {
       "layout": "IPY_MODEL_d936ceeb385244b0af3b20dffd1af6a4",
       "style": "IPY_MODEL_49d55e9b0eac4edd91b69fe889c792e0",
       "value": "             objective 5"
      }
     },
     "31f57b9012f446d1a542cbe251e606af": {
      "model_module": "@jupyter-widgets/base",
      "model_module_version": "1.2.0",
      "model_name": "LayoutModel",
      "state": {
       "order": "-1",
       "overflow": "visible",
       "padding": "1px",
       "width": "0px"
      }
     },
     "31fbb6240a044ca58c38bdd0ed97bb4c": {
      "model_module": "@jupyter-widgets/base",
      "model_module_version": "1.2.0",
      "model_name": "LayoutModel",
      "state": {
       "display": "flex",
       "flex_flow": "row wrap"
      }
     },
     "324c2c997367470ba2f34c37bbf1418a": {
      "model_module": "@jupyter-widgets/controls",
      "model_module_version": "1.5.0",
      "model_name": "DescriptionStyleModel",
      "state": {
       "description_width": ""
      }
     },
     "324d1319327d453d95f3b9aff8fee336": {
      "model_module": "@jupyter-widgets/controls",
      "model_module_version": "1.5.0",
      "model_name": "DropdownModel",
      "state": {
       "_options_labels": [
        "Any"
       ],
       "disabled": true,
       "index": 0,
       "layout": "IPY_MODEL_0df0691be3ba462dbdf2e05dbe48d576",
       "style": "IPY_MODEL_eaf48562139843ec892a427e943e7d1b"
      }
     },
     "32689397e6dd4e14bdd4620dfecfacf0": {
      "model_module": "@jupyter-widgets/controls",
      "model_module_version": "1.5.0",
      "model_name": "HBoxModel",
      "state": {
       "children": [
        "IPY_MODEL_fa59fc4149474339bdd67a7942b7c9d7",
        "IPY_MODEL_3c39ffd236b7463eb2b9df868e16ec8d",
        "IPY_MODEL_629f809281504260a9c38ac6fced70a2",
        "IPY_MODEL_166585d96ed14c438d61bd16e5e2d3a6"
       ],
       "layout": "IPY_MODEL_c95b05af7f754f7a8fe506260ba38c63"
      }
     },
     "32e7a07bbd2544fdb2ea03c2e3c72655": {
      "model_module": "@jupyter-widgets/controls",
      "model_module_version": "1.5.0",
      "model_name": "IntProgressModel",
      "state": {
       "layout": "IPY_MODEL_dae13073d79845a5ad2cdd4693685bd9",
       "style": "IPY_MODEL_36a8f58e515546999c1752b1d54bd298",
       "value": 30
      }
     },
     "33001258275944048211461e91384713": {
      "model_module": "@jupyter-widgets/controls",
      "model_module_version": "1.5.0",
      "model_name": "ButtonStyleModel",
      "state": {}
     },
     "330fc53f8368493bbff2a79bc262e8a8": {
      "model_module": "@jupyter-widgets/controls",
      "model_module_version": "1.5.0",
      "model_name": "ButtonStyleModel",
      "state": {}
     },
     "339df0101f764be3b19891979215d279": {
      "model_module": "@jupyter-widgets/controls",
      "model_module_version": "1.5.0",
      "model_name": "IntProgressModel",
      "state": {
       "layout": "IPY_MODEL_5c9f3bffcf68419494f90e7e72c29e87",
       "style": "IPY_MODEL_270c9f5a74dd4662b7bea81700ba1033",
       "value": 30
      }
     },
     "33c41da1eda14ea2924f8a2c2d694a7f": {
      "model_module": "@jupyter-widgets/controls",
      "model_module_version": "1.5.0",
      "model_name": "ButtonStyleModel",
      "state": {}
     },
     "33e038b716004877bd17843e66dde81b": {
      "model_module": "@jupyter-widgets/controls",
      "model_module_version": "1.5.0",
      "model_name": "ButtonStyleModel",
      "state": {}
     },
     "33e3dc8fe9a5412c876fd09a98db942c": {
      "model_module": "@jupyter-widgets/controls",
      "model_module_version": "1.5.0",
      "model_name": "ProgressStyleModel",
      "state": {
       "description_width": ""
      }
     },
     "33e73ca69da54d8bac13ef8909bcf0ff": {
      "model_module": "@jupyter-widgets/base",
      "model_module_version": "1.2.0",
      "model_name": "LayoutModel",
      "state": {
       "width": "60px"
      }
     },
     "343a31514eb043e08056c4686f217383": {
      "model_module": "@jupyter-widgets/base",
      "model_module_version": "1.2.0",
      "model_name": "LayoutModel",
      "state": {}
     },
     "348d1eb635e94ea99fe91f851fcfa21e": {
      "model_module": "@jupyter-widgets/controls",
      "model_module_version": "1.5.0",
      "model_name": "LabelModel",
      "state": {
       "layout": "IPY_MODEL_939c3062f6a94613ac94feda256c50fa",
       "style": "IPY_MODEL_9c53c61f591b4891b87f5b1c61a9a76e",
       "value": "             objective 1"
      }
     },
     "34e0636425c14a4ab73eb58eaccab5dd": {
      "model_module": "@jupyter-widgets/controls",
      "model_module_version": "1.5.0",
      "model_name": "DescriptionStyleModel",
      "state": {
       "description_width": ""
      }
     },
     "34e50e53982047338cc171efe2eac61a": {
      "model_module": "@jupyter-widgets/controls",
      "model_module_version": "1.5.0",
      "model_name": "ButtonStyleModel",
      "state": {}
     },
     "34eb38436ee34dbc8e9332db40188246": {
      "model_module": "@jupyter-widgets/controls",
      "model_module_version": "1.5.0",
      "model_name": "ButtonModel",
      "state": {
       "description": "EDIT",
       "layout": "IPY_MODEL_be148a8f1eb34b57b0d76e357d7746c7",
       "style": "IPY_MODEL_be3ec779dd0d45b9a6403000ba6aa52f"
      }
     },
     "356dd1bf6a8f46888c9822ec92140e16": {
      "model_module": "@jupyter-widgets/base",
      "model_module_version": "1.2.0",
      "model_name": "LayoutModel",
      "state": {
       "overflow": "visible",
       "width": "100%"
      }
     },
     "35f6c9c4599841f5aa420dbb401fcad6": {
      "model_module": "@jupyter-widgets/base",
      "model_module_version": "1.2.0",
      "model_name": "LayoutModel",
      "state": {
       "height": "32px",
       "order": "-2",
       "width": "32px"
      }
     },
     "362a08eb81ca4088a5944c28003b6755": {
      "model_module": "@jupyter-widgets/controls",
      "model_module_version": "1.5.0",
      "model_name": "ButtonStyleModel",
      "state": {}
     },
     "363044067b7b4dffab92feceb4488540": {
      "model_module": "@jupyter-widgets/controls",
      "model_module_version": "1.5.0",
      "model_name": "IntProgressModel",
      "state": {
       "layout": "IPY_MODEL_f92860ae49f1437da38f544278148d94",
       "style": "IPY_MODEL_bc43d0c4fdbf4297a09ae8f1232f7058",
       "value": 30
      }
     },
     "365c420e54894aacb81b1b13728357c0": {
      "model_module": "@jupyter-widgets/controls",
      "model_module_version": "1.5.0",
      "model_name": "DescriptionStyleModel",
      "state": {
       "description_width": ""
      }
     },
     "366599342cd74283b91bdab1678a6a1d": {
      "model_module": "@jupyter-widgets/base",
      "model_module_version": "1.2.0",
      "model_name": "LayoutModel",
      "state": {
       "width": "60px"
      }
     },
     "36a8f58e515546999c1752b1d54bd298": {
      "model_module": "@jupyter-widgets/controls",
      "model_module_version": "1.5.0",
      "model_name": "ProgressStyleModel",
      "state": {
       "description_width": ""
      }
     },
     "3763429601884d70a3c9921c69eb2cdf": {
      "model_module": "@jupyter-widgets/controls",
      "model_module_version": "1.5.0",
      "model_name": "DescriptionStyleModel",
      "state": {
       "description_width": ""
      }
     },
     "377bb490329240acaa87571f749b0cac": {
      "model_module": "@jupyter-widgets/controls",
      "model_module_version": "1.5.0",
      "model_name": "ButtonModel",
      "state": {
       "layout": "IPY_MODEL_fcd22d340cb44fbe986fb38dd4635d16",
       "style": "IPY_MODEL_5f056a54db43400fafec9e631f7c36aa"
      }
     },
     "379e15c50e3f46bdbae65f59e659eef7": {
      "model_module": "@jupyter-widgets/controls",
      "model_module_version": "1.5.0",
      "model_name": "DescriptionStyleModel",
      "state": {
       "description_width": ""
      }
     },
     "37b51b077d564921be17a7331b51aaf4": {
      "model_module": "@jupyter-widgets/controls",
      "model_module_version": "1.5.0",
      "model_name": "ButtonStyleModel",
      "state": {}
     },
     "38087427dfbf4659b03531751d533c1b": {
      "model_module": "@jupyter-widgets/controls",
      "model_module_version": "1.5.0",
      "model_name": "ButtonStyleModel",
      "state": {}
     },
     "3819f854a3e8481886a7bcbc8ce44e3a": {
      "model_module": "@jupyter-widgets/controls",
      "model_module_version": "1.5.0",
      "model_name": "HBoxModel",
      "state": {
       "children": [
        "IPY_MODEL_031d0f75f2eb473c9c8604c66f56bea0",
        "IPY_MODEL_72cd234bc75e4ed89904d916cac6a336",
        "IPY_MODEL_0fee59b3aeaa467381419f9c56f609c0",
        "IPY_MODEL_c91d3bda32224686a18acadb401705f8"
       ],
       "layout": "IPY_MODEL_4ee0f90290794f039a4460a868905de4"
      }
     },
     "3859ea61f2b84da8a05ca005dc253770": {
      "model_module": "@jupyter-widgets/base",
      "model_module_version": "1.2.0",
      "model_name": "LayoutModel",
      "state": {
       "order": "-1",
       "overflow": "visible",
       "padding": "1px",
       "width": "0px"
      }
     },
     "3879b144d8834b6fb91a1523655f830a": {
      "model_module": "@jupyter-widgets/base",
      "model_module_version": "1.2.0",
      "model_name": "LayoutModel",
      "state": {
       "width": "60px"
      }
     },
     "38a32a668ded443eb8705a9924c84411": {
      "model_module": "@jupyter-widgets/controls",
      "model_module_version": "1.5.0",
      "model_name": "DropdownModel",
      "state": {
       "_options_labels": [
        "2154860340",
        "2154860341",
        "2154860342",
        "2154860343",
        "2156824804",
        "2157758001",
        "2158033469",
        "2158825356",
        "2158825357",
        "2158825358",
        "2158825359",
        "2163056166",
        "2163667980",
        "2165600550",
        "2165600551",
        "2165600552",
        "2165600553",
        "2165600554",
        "2165600555",
        "2165600556",
        "2165600557",
        "2165600558",
        "2167527924",
        "2170106955",
        "2172518965",
        "2175353922",
        "2175603062",
        "2175603063",
        "2175603064",
        "2175603065",
        "2175603066",
        "2175603067",
        "2175603068",
        "2175603069",
        "2175603070",
        "2175796146",
        "2181708792",
        "2186801540",
        "2188503042",
        "2189078909",
        "2189078910",
        "2190647702",
        "2191229220",
        "2192752535",
        "2194379228",
        "2195455623",
        "2196415799",
        "2205891758",
        "2208219663",
        "2213484424",
        "2216522217",
        "2216557404",
        "2219999707",
        "2224919182",
        "2229373471",
        "2230249087",
        "2230262130",
        "2230262131",
        "2230262136",
        "2230262137",
        "2230262138",
        "2230262140",
        "2230262141",
        "2230262142",
        "2230262143",
        "2233474128",
        "2233474132",
        "2233474133",
        "2233474134",
        "2233474135",
        "2234714130",
        "2234827297",
        "2238575485",
        "2239411636",
        "2239411638",
        "2239411639",
        "2241590012",
        "2241717133",
        "2241717134",
        "2245186555",
        "2256027242",
        "2257421674",
        "2258087446",
        "2264077519",
        "2266548618",
        "2270675233",
        "2270675234",
        "2281230393",
        "2282894388",
        "2287149840",
        "2287149841",
        "2287149842",
        "2287149843",
        "2287149844",
        "2287149845",
        "2287149846",
        "2287149847",
        "2287149854",
        "2287149855",
        "2287452848",
        "2287452849",
        "2287452850",
        "2287452855",
        "2292050116",
        "2292050118",
        "2292050119",
        "2292461012",
        "2304075271",
        "2304230402",
        "2304230404",
        "2304230405",
        "2304230407",
        "2305785639",
        "2309032641",
        "2309365823",
        "2314271318",
        "2314725644",
        "2316097579",
        "2316952677",
        "2316952678",
        "2316952679",
        "2319750236",
        "2323654178",
        "2325336792",
        "2326322890",
        "2332658765",
        "2341886425",
        "2345002673",
        "2349183946",
        "2351146132",
        "2354302733",
        "2356701558",
        "2357839819",
        "2358176597",
        "2362979568",
        "2364729185",
        "2367932631",
        "2369153435",
        "2372209106",
        "2388152175",
        "2398356743",
        "2398673548",
        "2405724331",
        "2411397891",
        "2412880299",
        "2413868417",
        "2417378659",
        "2419109984",
        "2419556790",
        "2421801389",
        "2422246592",
        "2422246593",
        "2422246600",
        "2422246601",
        "2422246602",
        "2422246604",
        "2422246605",
        "2422246606",
        "2422246607",
        "2425043760",
        "2425043761",
        "2425043764",
        "2425043765",
        "2425043766",
        "2425043767",
        "2426134653",
        "2427757122",
        "2439024306",
        "2439024307",
        "2439024314",
        "2439024316",
        "2439024318",
        "2439024319",
        "2441563692",
        "2441821344",
        "2441821345",
        "2441821346",
        "2441821347",
        "2441821348",
        "2441821349",
        "2441821350",
        "2441821358",
        "2441821359",
        "2442138301",
        "2455749269",
        "2462366312",
        "2462707519",
        "2472579457",
        "2472579459",
        "2476912508",
        "2477942819",
        "2478001043",
        "2487226217",
        "2489542141",
        "2489553554",
        "2490851406",
        "2493039085",
        "2497233656",
        "2500732572",
        "2502625450",
        "2507615350",
        "2510383879",
        "2516080100",
        "2516850755",
        "2519410346",
        "2521385645",
        "2522725707",
        "2528982241",
        "2536953338",
        "2542531058",
        "2543223197",
        "2545345764",
        "2548421444",
        "2548580601",
        "2549619982",
        "2556301326",
        "2556866202",
        "2562666046",
        "2566434162",
        "2567210364",
        "2567210365",
        "2567210366",
        "2569908923",
        "2574072230",
        "2575452461",
        "2575965017",
        "2581768637",
        "2582522989",
        "2585063661",
        "2589331138",
        "2590294698",
        "2593433832",
        "2595141627",
        "2602370549",
        "2615277024",
        "2630441634",
        "2631726056",
        "2633814448",
        "2638892835",
        "2647057001",
        "2647977323",
        "2648109757",
        "2653311362",
        "2653351430",
        "2658094422",
        "2660224414",
        "2673340594",
        "2673596601",
        "2674965793",
        "2676320666",
        "2690344985",
        "2692332187",
        "2694849138",
        "2698190890",
        "2698848157",
        "2701908644",
        "2702532926",
        "2711248749",
        "2711883372",
        "2725374066",
        "2734663473",
        "2737678546",
        "2737832720",
        "2738665088",
        "2738694544",
        "2738694545",
        "2738694546",
        "2738694548",
        "2738694549",
        "2738694550",
        "2738694551",
        "2738694554",
        "2738694555",
        "2745164727",
        "2747517035",
        "2747759652",
        "2748367119",
        "2753626436",
        "2759021899",
        "2765010546",
        "2766929016",
        "2769541312",
        "2776744497",
        "2777498893",
        "2778379986",
        "2782139949",
        "2790141380",
        "2790261838",
        "2794426212",
        "2808299284",
        "2808702448",
        "2811846808",
        "2818354043",
        "2822000740",
        "2836924866",
        "2841179989",
        "2842773522",
        "2844726896",
        "2846658569",
        "2856242353",
        "2856474352",
        "2857093873",
        "2858561750",
        "2863337003",
        "2874049730",
        "2880581646",
        "2882151405",
        "2895678647",
        "2900968934",
        "2901923505",
        "2904000913",
        "2910489519",
        "2912918660",
        "2913109294",
        "2914618589",
        "2914663020",
        "2918198318",
        "2923250426",
        "2923920213",
        "2924619184",
        "2927675329",
        "2929326295",
        "2931545395",
        "2940870560",
        "2940918151",
        "2942983290",
        "2943357143",
        "2948949247",
        "2953158791",
        "2954667718",
        "2957876347",
        "2968758821",
        "2970271298",
        "2970941799",
        "2974117604",
        "2974117605",
        "2974117611",
        "2977524096",
        "2982440614",
        "2982664966",
        "2983721440",
        "2986090159",
        "2987408684",
        "2994199542",
        "3002736314",
        "3006768431",
        "3007266598",
        "3008350477",
        "3013611925",
        "3015116930",
        "3015917345",
        "3015917346",
        "3015917347",
        "3015941901",
        "3016588454",
        "3020697345",
        "3024450464",
        "3024450465",
        "3024450468",
        "3024450469",
        "3024450470",
        "3024450471",
        "3024875718",
        "3026670632",
        "3028385023",
        "3028789928",
        "3028808153",
        "3029681530",
        "3034639042",
        "3034639043",
        "3034639048",
        "3034639049",
        "3034639050",
        "3034639052",
        "3034639053",
        "3034639054",
        "3034639055",
        "3042714868",
        "3053687420",
        "3054774873",
        "3055480592",
        "3055480593",
        "3055480594",
        "3058117549",
        "3058814955",
        "3065417982",
        "3074780428",
        "3078681488",
        "3078681489",
        "3078681491",
        "3078681492",
        "3078681493",
        "3078681494",
        "3078681495",
        "3078681498",
        "3078681499",
        "3079212897",
        "3080061772",
        "3084088704",
        "3087434129",
        "3088324080",
        "3088324081",
        "3088324082",
        "3088324083",
        "3088324084",
        "3088324086",
        "3088324087",
        "3088324092",
        "3088324093",
        "3094160434",
        "3108158456",
        "3108476717",
        "3108502456",
        "3111471346",
        "3121210389",
        "3122478469",
        "3125997324",
        "3131604184",
        "3131889837",
        "3131889838",
        "3136771444",
        "3137136954",
        "3138467749",
        "3139055990",
        "3141945846",
        "3144419263",
        "3144827156",
        "3145627334",
        "3147085345",
        "3154122421",
        "3155364169",
        "3158297636",
        "3158715546",
        "3164957436",
        "3167066980",
        "3167166053",
        "3174045247",
        "3175460993",
        "3180635594",
        "3181604446",
        "3182222820",
        "3182222822",
        "3182222823",
        "3191146526",
        "3204879741",
        "3206158567",
        "3206626971",
        "3216522804",
        "3217987680",
        "3222009077",
        "3224539664",
        "3225699997",
        "3229767955",
        "3231147005",
        "3231791630",
        "3232448575",
        "3234357867",
        "3242204786",
        "3242276917",
        "3245402197",
        "3247232743",
        "3248675632",
        "3250123968",
        "3258258278",
        "3268368678",
        "3270958601",
        "3273410592",
        "3278408272",
        "3279886460",
        "3281243931",
        "3282880582",
        "3287781316",
        "3289153909",
        "3291796550",
        "3303390072",
        "3303459931",
        "3303729824",
        "3305512855",
        "3307463725",
        "3308633273",
        "3309476373",
        "3311833517",
        "3318199669",
        "3324094091",
        "3326902549",
        "3327085974",
        "3327600011",
        "3330110373",
        "3332500563",
        "3337586114",
        "3337586115",
        "3340846443",
        "3342375663",
        "3344716151",
        "3350489579",
        "3356804751",
        "3357503754",
        "3362185512",
        "3364794481",
        "3367594762",
        "3369372011",
        "3374539358",
        "3382024472",
        "3382182066",
        "3387412013",
        "3388126667",
        "3390078226",
        "3390078227",
        "3390078232",
        "3390078233",
        "3390078234",
        "3390078235",
        "3390078236",
        "3390078237",
        "3390078238",
        "3390078239",
        "3393436175",
        "3393552539",
        "3399168111",
        "3400576446",
        "3401927553",
        "3405837767",
        "3408598133",
        "3410731424",
        "3411850063",
        "3415184383",
        "3417737709",
        "3420353827",
        "3422458392",
        "3428487153",
        "3428527852",
        "3429403077",
        "3431961936",
        "3431961937",
        "3431961938",
        "3431961939",
        "3431961940",
        "3431961941",
        "3431961942",
        "3431961943",
        "3431961946",
        "3431961947",
        "3433615715",
        "3448739520",
        "3448739521",
        "3448739522",
        "3448739523",
        "3448739524",
        "3448739526",
        "3448739527",
        "3448739532",
        "3448739533",
        "3450412105",
        "3450793480",
        "3450819748",
        "3459614157",
        "3460299299",
        "3470255495",
        "3473447568",
        "3473447569",
        "3473447570",
        "3473447571",
        "3473447572",
        "3473447573",
        "3473447574",
        "3473447575",
        "3473447580",
        "3473447581",
        "3481300563",
        "3484578777",
        "3486499057",
        "3486530434",
        "3486530436",
        "3486530437",
        "3486530438",
        "3486530439",
        "3488769908",
        "3492541163",
        "3495463202",
        "3495463203",
        "3495463204",
        "3495463205",
        "3498783387",
        "3501618455",
        "3503308144",
        "3503308145",
        "3503308152",
        "3503308154",
        "3503308155",
        "3503308156",
        "3503308157",
        "3503308158",
        "3503308159",
        "3509178410",
        "3517489196",
        "3518847135",
        "3521082631",
        "3523455218",
        "3541301354",
        "3541581269",
        "3564107993",
        "3566026229",
        "3566059558",
        "3567299813",
        "3567859314",
        "3567859315",
        "3568848026",
        "3574310085",
        "3575029957",
        "3575189553",
        "3578247132",
        "3579759870",
        "3582127862",
        "3584636896",
        "3584636897",
        "3584636898",
        "3584636899",
        "3584636900",
        "3584636902",
        "3584636903",
        "3584636908",
        "3584636909",
        "3591093174",
        "3591836320",
        "3595080331",
        "3599006440",
        "3600156143",
        "3601025763",
        "3604670589",
        "3608027344",
        "3608507543",
        "3630489247",
        "3630901200",
        "3631669465",
        "3632308741",
        "3636866482",
        "3641080561",
        "3641166665",
        "3647083276",
        "3649360404",
        "3656200582",
        "3657886407",
        "3664890052",
        "3664983231",
        "3666883430",
        "3669523238",
        "3672750091",
        "3675487637",
        "3675740696",
        "3675740698",
        "3675740699",
        "3686586344",
        "3686797699",
        "3700968734",
        "3709742728",
        "3710831503",
        "3715769785",
        "3718392522",
        "3723768609",
        "3724648326",
        "3727584102",
        "3728188192",
        "3737200951",
        "3742000974",
        "3749164188",
        "3749730895",
        "3755663441",
        "3758103712",
        "3758540824",
        "3759366231",
        "3759633613",
        "3762058492",
        "3762058493",
        "3762058494",
        "3763143014",
        "3763174510",
        "3763330325",
        "3765429897",
        "3765705655",
        "3768930132",
        "3771371600",
        "3771371601",
        "3771371608",
        "3771371610",
        "3771371611",
        "3771371612",
        "3771371613",
        "3771371614",
        "3771371615",
        "3776725365",
        "3778836048",
        "3778836051",
        "3780682732",
        "3781961120",
        "3783249575",
        "3786862122",
        "3793243435",
        "3798472606",
        "3798685639",
        "3802330071",
        "3806804934",
        "3807589987",
        "3807924444",
        "3812674679",
        "3812775859",
        "3814347534",
        "3816420962",
        "3819920005",
        "3822361563",
        "3823507720",
        "3827957216",
        "3833240759",
        "3836008081",
        "3841209808",
        "3841209809",
        "3841209810",
        "3841209811",
        "3841209812",
        "3841209814",
        "3841209815",
        "3841209820",
        "3841209821",
        "3842084319",
        "3846075781",
        "3846344753",
        "3847472228",
        "3847579126",
        "3851032617",
        "3851137658",
        "3853730685",
        "3861076347",
        "3864479986",
        "3865475919",
        "3882642308",
        "3885534828",
        "3899933775",
        "3901785488",
        "3903376255",
        "3904776877",
        "3906232320",
        "3906232321",
        "3906232322",
        "3906232323",
        "3906232324",
        "3906232325",
        "3906232326",
        "3906232327",
        "3906232330",
        "3906232331",
        "3906772567",
        "3909162059",
        "3920378224",
        "3925437282",
        "3927529277",
        "3930580689",
        "3937155811",
        "3942398833",
        "3942398834",
        "3947889773",
        "3948150872",
        "3949040536",
        "3951275509",
        "3957303142",
        "3957574964",
        "3959176388",
        "3959176389",
        "3959176391",
        "3963239036",
        "3967582262",
        "3967884273",
        "3973165904",
        "3981762193",
        "3984014991",
        "3985015094",
        "3985356666",
        "3994678988",
        "3999088229",
        "4011899423",
        "4012125090",
        "4019629605",
        "4020528891",
        "4020709858",
        "4025379205",
        "4026109699",
        "4026489705",
        "4037666416",
        "4037666417",
        "4037666418",
        "4037666419",
        "4037666420",
        "4037666421",
        "4037666422",
        "4037666423",
        "4037666428",
        "4037666429",
        "4038085253",
        "4041232608",
        "4052233640",
        "4060320345",
        "4062087976",
        "4066171783",
        "4066667911",
        "4070936471",
        "4084913407",
        "4085788814",
        "4094110138",
        "4094315914",
        "4096604676",
        "4102566641",
        "4108141222",
        "4109457230",
        "4119344228",
        "4120805470",
        "4132148533",
        "4135952126",
        "4136121815",
        "4138047631",
        "4138159715",
        "4140553751",
        "4140588287",
        "4143851405",
        "4150117620",
        "4150117621",
        "4150117622",
        "4156350130",
        "4156353017",
        "4160670554",
        "4162926221",
        "4163099445",
        "4166658100",
        "4166895176",
        "4166895179",
        "4168712242",
        "4174911913",
        "4175049478",
        "4175099112",
        "4175285726",
        "4175541463",
        "4177910003",
        "4181440763",
        "4185918315",
        "4189480969",
        "4191620858",
        "4197846177",
        "4197846178",
        "4197846179",
        "4197846180",
        "4197846181",
        "4197846182",
        "4197846183",
        "4197846184",
        "4197846185",
        "4201266719",
        "4204447573",
        "4204990045",
        "4205280592",
        "4210878095",
        "4212118070",
        "4212118071",
        "4212118072",
        "4212118073",
        "4212118074",
        "4212118075",
        "4212118076",
        "4212118077",
        "4212118078",
        "4212118079",
        "4212178425",
        "4214623760",
        "4214623761",
        "4214623762",
        "4214623763",
        "4214623766",
        "4214623767",
        "4222058179",
        "4224668392",
        "4230088036",
        "4230088039",
        "4230720151",
        "4237873551",
        "4239853304",
        "4241441993",
        "4241828000",
        "4243279770",
        "4247122247",
        "4249005590",
        "4250947536",
        "4250947537",
        "4250947538",
        "4250947539",
        "4250947540",
        "4250947541",
        "4250947542",
        "4250947543",
        "4250947546",
        "4250947547",
        "4255945596",
        "4256122751",
        "4256630891",
        "4262971164",
        "4267516859",
        "4268318727",
        "4269157841",
        "4270070440",
        "4273408478",
        "4276614341",
        "4276872224",
        "4278867533",
        "4281613050",
        "4290186049",
        "4293614091",
        "11994000",
        "11996340",
        "20024721",
        "20431832",
        "20493479",
        "27079920",
        "28292202",
        "28773927",
        "31686901",
        "39572581",
        "43046618",
        "50106418",
        "52802522",
        "55098543",
        "56035082",
        "56596211",
        "58812229",
        "61328604",
        "64778617",
        "66244570",
        "66744960",
        "66744961",
        "66744963",
        "72025264",
        "75852146",
        "76056909",
        "76808929",
        "78340251",
        "87609703",
        "94777801",
        "96478725",
        "97558110",
        "98447849",
        "99050004",
        "103377387",
        "105811740",
        "108257051",
        "108280137",
        "114259053",
        "115001349",
        "116328783",
        "118547290",
        "122050733",
        "122129118",
        "126223063",
        "134253516",
        "137611858",
        "138927950",
        "140572051",
        "141082836",
        "141268704",
        "142013189",
        "142290502",
        "144967993",
        "147323772",
        "147788586",
        "149192209",
        "154968291",
        "157348228",
        "158452041",
        "165166474",
        "181310951",
        "183892908",
        "184258406",
        "189012149",
        "190188375",
        "190498113",
        "195315622",
        "199260626",
        "200792717",
        "202137963",
        "206063775",
        "212587483",
        "215085557",
        "218267618",
        "221857936",
        "223970495",
        "225013228",
        "227490707",
        "232584921",
        "242464656",
        "242464657",
        "242464658",
        "242464659",
        "243596678",
        "249088297",
        "254145194",
        "256005845",
        "259242240",
        "259242241",
        "259242242",
        "259242243",
        "259242244",
        "259242245",
        "259242246",
        "259242247",
        "259242254",
        "259242255",
        "262330401",
        "264758859",
        "267060719",
        "267836607",
        "268612955",
        "270943800",
        "276019952",
        "276019953",
        "276019960",
        "276019962",
        "276019963",
        "276019964",
        "276019965",
        "276019966",
        "276019967",
        "277879384",
        "286254422",
        "288478788",
        "294322125",
        "300073435",
        "307522032",
        "311553070",
        "312429971",
        "319759693",
        "342347709",
        "362133172",
        "364375244",
        "366622223",
        "370865362",
        "372857781",
        "376008854",
        "376114010",
        "378857807",
        "382777394",
        "388585397",
        "395207948",
        "398866567",
        "402361679",
        "405612087",
        "413743786",
        "417192912",
        "417454997",
        "417550387",
        "419233155",
        "427517758",
        "433917666",
        "435060157",
        "444152197",
        "452100546",
        "452451691",
        "459249011",
        "461152590",
        "463638534",
        "463638535",
        "473797693",
        "479438672",
        "481791392",
        "488817206",
        "488987738",
        "489312011",
        "495916021",
        "496309570",
        "497313765",
        "499494670",
        "501823856",
        "503811851",
        "510151900",
        "512817277",
        "517657777",
        "520045964",
        "535644892",
        "543481464",
        "548399698",
        "550650400",
        "554223965",
        "559593008",
        "559943871",
        "562163044",
        "565725664",
        "567142312",
        "567795114",
        "574761812",
        "578385083",
        "579641773",
        "581049871",
        "581089627",
        "585875588",
        "585875589",
        "585875592",
        "585875593",
        "585875594",
        "585875595",
        "585875596",
        "585875597",
        "585875598",
        "585875599",
        "586316675",
        "588012753",
        "590872239",
        "599303591",
        "599626507",
        "602316980",
        "602316983",
        "613834558",
        "614406941",
        "614571553",
        "614571554",
        "614571555",
        "614571556",
        "614571557",
        "614571558",
        "614571559",
        "614571560",
        "614571561",
        "622242972",
        "622361905",
        "624350677",
        "625268251",
        "630510424",
        "633055621",
        "635174847",
        "639901446",
        "641038864",
        "645697534",
        "648783360",
        "653350487",
        "654986383",
        "656498579",
        "660046832",
        "667850322",
        "667993428",
        "668362217",
        "673722307",
        "684525211",
        "693522256",
        "696175076",
        "697150349",
        "700444358",
        "706112207",
        "708283993",
        "708283994",
        "708283995",
        "709188219",
        "709251999",
        "711121024",
        "711121025",
        "711121027",
        "711121028",
        "711121029",
        "711121030",
        "711121031",
        "711121034",
        "711121035",
        "711204572",
        "713893072",
        "713893073",
        "713893075",
        "713893076",
        "713893078",
        "713893079",
        "714631552",
        "720205407",
        "723502823",
        "727898741",
        "731407759",
        "731533650",
        "734114175",
        "734525036",
        "735550162",
        "741263299",
        "745021037",
        "749838902",
        "751035753",
        "751041271",
        "758616720",
        "758616723",
        "759958308",
        "769868555",
        "772878705",
        "773877428",
        "789562768",
        "794103965",
        "794571444",
        "796129320",
        "799789941",
        "801255690",
        "801453721",
        "807818112",
        "807845972",
        "810213052",
        "810944748",
        "818564990",
        "819775261",
        "819869942",
        "820921504",
        "821084586",
        "821758608",
        "825425501",
        "827330513",
        "827895011",
        "830121872",
        "836362355",
        "837553231",
        "850090435",
        "850090440",
        "850090441",
        "850090442",
        "850090443",
        "850090444",
        "850090445",
        "850090446",
        "850090447",
        "850928232",
        "851701008",
        "855929237",
        "866465097",
        "870507644",
        "876661133",
        "890367121",
        "896769581",
        "898220115",
        "899421308",
        "903845240",
        "907161188",
        "909564168",
        "912770300",
        "913036541",
        "915055151",
        "915223473",
        "922314753",
        "936519399",
        "940998165",
        "952321049",
        "955522375",
        "956257660",
        "972955405",
        "976803518",
        "976885985",
        "976885986",
        "976885987",
        "980527357",
        "990661957",
        "992007906",
        "996562847",
        "1001496800",
        "1004616690",
        "1005191861",
        "1016686191",
        "1025804814",
        "1025917306",
        "1026882738",
        "1032620927",
        "1034097928",
        "1037110515",
        "1037849955",
        "1039085461",
        "1039797865",
        "1047773612",
        "1051654420",
        "1052090143",
        "1053902591",
        "1060780635",
        "1066087615",
        "1067995471",
        "1071663279",
        "1076096270",
        "1079063233",
        "1086196562",
        "1090139609",
        "1099196574",
        "1120290476",
        "1135755896",
        "1137502468",
        "1141543029",
        "1142177491",
        "1142192080",
        "1144140061",
        "1147506155",
        "1156730092",
        "1156730093",
        "1156730094",
        "1156730095",
        "1158520774",
        "1166445408",
        "1166445409",
        "1166445410",
        "1166445411",
        "1166445412",
        "1166445413",
        "1166445414",
        "1166445415",
        "1166445423",
        "1166560879",
        "1173507670",
        "1173507671",
        "1173507672",
        "1173507673",
        "1173507674",
        "1173507675",
        "1173507676",
        "1173507677",
        "1173507678",
        "1174877328",
        "1174877329",
        "1174877330",
        "1174877331",
        "1174877332",
        "1174877333",
        "1174877335",
        "1174877342",
        "1174877343",
        "1175797132",
        "1177307979",
        "1178901007",
        "1179386892",
        "1183021806",
        "1185926964",
        "1185926965",
        "1185926968",
        "1185926969",
        "1185926970",
        "1185926971",
        "1185926973",
        "1185926974",
        "1185926975",
        "1191654920",
        "1191654921",
        "1191654922",
        "1191654923",
        "1191654924",
        "1191654925",
        "1205516741",
        "1209624585",
        "1214241085",
        "1214251150",
        "1223581433",
        "1228579173",
        "1229374476",
        "1231739638",
        "1236992882",
        "1238389519",
        "1246669095",
        "1247544128",
        "1251772809",
        "1257836884",
        "1261302732",
        "1266663497",
        "1271667367",
        "1274230714",
        "1276003068",
        "1277163032",
        "1289529921",
        "1289798960",
        "1290309452",
        "1290309453",
        "1290309454",
        "1290403512",
        "1290451257",
        "1291112668",
        "1294368731",
        "1294551872",
        "1294968143",
        "1298112482",
        "1298457978",
        "1307087008",
        "1307087011",
        "1312270975",
        "1316710099",
        "1319909495",
        "1322754255",
        "1325891336",
        "1327869331",
        "1329556468",
        "1332133148",
        "1333119148",
        "1336344009",
        "1341226925",
        "1341325320",
        "1341533303",
        "1345953030",
        "1351982072",
        "1355802591",
        "1358540787",
        "1363982253",
        "1364605277",
        "1366508788",
        "1368759659",
        "1371644410",
        "1371679603",
        "1372723679",
        "1373122528",
        "1375269962",
        "1386173696",
        "1387797289",
        "1387797290",
        "1391735969",
        "1396554507",
        "1398454187",
        "1403792946",
        "1405614232",
        "1407123858",
        "1413337742",
        "1414820429",
        "1415847174",
        "1416291884",
        "1416925544",
        "1417036993",
        "1417930213",
        "1420454218",
        "1420663287",
        "1425921424",
        "1428420761",
        "1428463716",
        "1438130272",
        "1438130274",
        "1438130275",
        "1438813765",
        "1441693899",
        "1442165390",
        "1442950315",
        "1444407971",
        "1444711376",
        "1460765006",
        "1464434566",
        "1466482627",
        "1469598452",
        "1473714136",
        "1478600655",
        "1483963998",
        "1484250585",
        "1484905630",
        "1485121063",
        "1485582185",
        "1485847905",
        "1486384135",
        "1487722505",
        "1489828608",
        "1492080644",
        "1497347070",
        "1497969739",
        "1498229894",
        "1498253977",
        "1504605755",
        "1515947769",
        "1518196036",
        "1518215963",
        "1518515265",
        "1519456486",
        "1520473246",
        "1522035006",
        "1522954160",
        "1526865549",
        "1544191462",
        "1549003459",
        "1549532367",
        "1549892907",
        "1550365601",
        "1558682416",
        "1558682417",
        "1558682418",
        "1558682419",
        "1558682421",
        "1558682422",
        "1558682423",
        "1558682428",
        "1558682429",
        "1559002718",
        "1562138684",
        "1567884322",
        "1575460002",
        "1575460003",
        "1575460004",
        "1575460005",
        "1576480714",
        "1585753315",
        "1587165122",
        "1590210414",
        "1593047161",
        "1599383419",
        "1599750028",
        "1602622486",
        "1605418532",
        "1621950319",
        "1622150852",
        "1624361599",
        "1628091546",
        "1629541854",
        "1632551190",
        "1637771053",
        "1638036073",
        "1640774328",
        "1641495327",
        "1642140110",
        "1648136131",
        "1649258247",
        "1651981295",
        "1652021369",
        "1661612473",
        "1672792871",
        "1675858334",
        "1676823618",
        "1683000545",
        "1684571234",
        "1686267788",
        "1686327621",
        "1688823117",
        "1694320690",
        "1702720423",
        "1703455291",
        "1707190649",
        "1710087400",
        "1711079800",
        "1719592571",
        "1726429346",
        "1731604990",
        "1731722761",
        "1732935196",
        "1738299320",
        "1741494383",
        "1742345588",
        "1742897719",
        "1745790710",
        "1753083296",
        "1755196920",
        "1757149139",
        "1760928123",
        "1761789705",
        "1767590660",
        "1768837759",
        "1769517637",
        "1773475425",
        "1776771540",
        "1783003007",
        "1784977487",
        "1786947686",
        "1790031820",
        "1794186830",
        "1801056576",
        "1801056577",
        "1801056578",
        "1801056579",
        "1801056580",
        "1801056581",
        "1801056582",
        "1801056583",
        "1801056588",
        "1804999028",
        "1817834288",
        "1817834289",
        "1817834290",
        "1817834291",
        "1817834292",
        "1817834293",
        "1817834294",
        "1817834302",
        "1817834303",
        "1827105928",
        "1838738368",
        "1841174948",
        "1841345022",
        "1841779644",
        "1842255608",
        "1842255610",
        "1842255611",
        "1842255612",
        "1842255613",
        "1842255614",
        "1842255615",
        "1842542594",
        "1844924834",
        "1850466452",
        "1856139708",
        "1859033168",
        "1859033170",
        "1859033171",
        "1859033172",
        "1859033173",
        "1859033174",
        "1859033175",
        "1859033176",
        "1859033177",
        "1861568610",
        "1869892631",
        "1871570556",
        "1872013791",
        "1879702969",
        "1881735727",
        "1883059838",
        "1889144800",
        "1891338678",
        "1900286833",
        "1911491978",
        "1911649721",
        "1912542720",
        "1913403057",
        "1914666283",
        "1915077419",
        "1916279056",
        "1919487861",
        "1925300422",
        "1926238990",
        "1934273229",
        "1941459378",
        "1944236510",
        "1949540113",
        "1959753477",
        "1962727403",
        "1968031376",
        "1970426437",
        "1971661116",
        "1974332638",
        "1975718024",
        "1978617345",
        "1984733874",
        "1987500905",
        "2023796284",
        "2027886756",
        "2028468500",
        "2028468501",
        "2028468504",
        "2028468505",
        "2028468506",
        "2028468507",
        "2028468508",
        "2028468509",
        "2028468510",
        "2028468511",
        "2029263931",
        "2030459290",
        "2032752906",
        "2034667224",
        "2041489007",
        "2052871747",
        "2052987728",
        "2053529794",
        "2053546184",
        "2055584838",
        "2070013491",
        "2070972007",
        "2075530733",
        "2075566064",
        "2085002577",
        "2087362844",
        "2088813168",
        "2089898004",
        "2093828598",
        "2097519327",
        "2099501667",
        "2100504924",
        "2101481124",
        "2104527476",
        "2104527477",
        "2104527480",
        "2104527481",
        "2104527482",
        "2104527483",
        "2104527484",
        "2104527485",
        "2104527486",
        "2104527487",
        "2109838578",
        "2110987253",
        "2121305062",
        "2121305063",
        "2121305064",
        "2121305065",
        "2121305066",
        "2121305067",
        "2121305068",
        "2121305069",
        "2121305070",
        "2122204471",
        "2122886722",
        "2129401906",
        "2133906881",
        "2134792592",
        "2136108437",
        "2136564733",
        "2137287373",
        "2139838652",
        "2139838653",
        "2139838654",
        "2139838655",
        "2140068897",
        "2140812264",
        "2144075645",
        "2144075646",
        "2144075647"
       ],
       "index": 0,
       "layout": "IPY_MODEL_3fc045ecc6f2435c927ec7725208dfa4",
       "style": "IPY_MODEL_2d8e4828a0b243dbb6194ea22410c7e1"
      }
     },
     "38d3b92e484f4eb390a444666c9df5f9": {
      "model_module": "@jupyter-widgets/controls",
      "model_module_version": "1.5.0",
      "model_name": "ButtonModel",
      "state": {
       "description": "EDIT",
       "layout": "IPY_MODEL_29f1b9b3e8234d1ca4557fb6519700d3",
       "style": "IPY_MODEL_b914b0e646e649198eac6ab3bfc27639"
      }
     },
     "38e83ae136564565853a6da9aee40e62": {
      "model_module": "@jupyter-widgets/controls",
      "model_module_version": "1.5.0",
      "model_name": "LabelModel",
      "state": {
       "layout": "IPY_MODEL_d936ceeb385244b0af3b20dffd1af6a4",
       "style": "IPY_MODEL_f9fe1cb8a4b043f5bc1905af71094d4a",
       "value": "             objective 1"
      }
     },
     "391647be178441dda321f59e77d1b7c0": {
      "model_module": "@jupyter-widgets/controls",
      "model_module_version": "1.5.0",
      "model_name": "DescriptionStyleModel",
      "state": {
       "description_width": ""
      }
     },
     "3980961824244d7a9f8bba1071401907": {
      "model_module": "@jupyter-widgets/base",
      "model_module_version": "1.2.0",
      "model_name": "LayoutModel",
      "state": {
       "display": "none"
      }
     },
     "39a991feadc741bf930544220c6cb5c6": {
      "model_module": "@jupyter-widgets/controls",
      "model_module_version": "1.5.0",
      "model_name": "ButtonStyleModel",
      "state": {}
     },
     "39b67979c5674d4d985c2c75fbf93904": {
      "model_module": "@jupyter-widgets/base",
      "model_module_version": "1.2.0",
      "model_name": "LayoutModel",
      "state": {
       "width": "60px"
      }
     },
     "39cb9dcb05ed480eb34fb5085c16b32a": {
      "model_module": "@jupyter-widgets/controls",
      "model_module_version": "1.5.0",
      "model_name": "ProgressStyleModel",
      "state": {
       "description_width": ""
      }
     },
     "39f22bc0c27340778ec70631091c8175": {
      "model_module": "@jupyter-widgets/controls",
      "model_module_version": "1.5.0",
      "model_name": "DescriptionStyleModel",
      "state": {
       "description_width": ""
      }
     },
     "39f275b68baf49ed94a2884bf2be6511": {
      "model_module": "@jupyter-widgets/controls",
      "model_module_version": "1.5.0",
      "model_name": "ProgressStyleModel",
      "state": {
       "description_width": ""
      }
     },
     "3a388d2ec7314098b55d8cf4c9c0c1ac": {
      "model_module": "@jupyter-widgets/controls",
      "model_module_version": "1.5.0",
      "model_name": "CheckboxModel",
      "state": {
       "description": "Hide Pursuits",
       "disabled": false,
       "layout": "IPY_MODEL_2eb443c0712949bca7ee4c20679e4314",
       "style": "IPY_MODEL_2962457255714356b6645ac1447e7ab8",
       "value": false
      }
     },
     "3a61d2a729c94eb4b1ca2dbb0fab5833": {
      "model_module": "@jupyter-widgets/base",
      "model_module_version": "1.2.0",
      "model_name": "LayoutModel",
      "state": {
       "overflow": "visible",
       "width": "100%"
      }
     },
     "3a69b64ef75c432588484cca200a9628": {
      "model_module": "@jupyter-widgets/controls",
      "model_module_version": "1.5.0",
      "model_name": "HBoxModel",
      "state": {
       "children": [
        "IPY_MODEL_7fa3e9028fad47ad9c0e635fe48e5270",
        "IPY_MODEL_0ddf9291fea2401faa2bd360b797a298",
        "IPY_MODEL_9cca63004e754d66960a9f3a765ee0f3",
        "IPY_MODEL_c57535c751a04d7e9fbaae106ce7264d"
       ],
       "layout": "IPY_MODEL_fdec0a7810074567a42fa5e39115b405"
      }
     },
     "3a881938d5f14ee4a1d47125812eb382": {
      "model_module": "@jupyter-widgets/controls",
      "model_module_version": "1.5.0",
      "model_name": "ButtonModel",
      "state": {
       "layout": "IPY_MODEL_791f7d9f70114e6799a48471196dfe9b",
       "style": "IPY_MODEL_f53ed1fe70944311a275eee578f0d622"
      }
     },
     "3aaf52a4c92b47a89ed9fe3aa8804550": {
      "model_module": "@jupyter-widgets/controls",
      "model_module_version": "1.5.0",
      "model_name": "LabelModel",
      "state": {
       "layout": "IPY_MODEL_939c3062f6a94613ac94feda256c50fa",
       "style": "IPY_MODEL_c8b771a58cce40658ab70e1f1405b1ab",
       "value": "             objective 5"
      }
     },
     "3ac9f9a20da34249a8190fa315486d94": {
      "model_module": "@jupyter-widgets/controls",
      "model_module_version": "1.5.0",
      "model_name": "HTMLModel",
      "state": {
       "layout": "IPY_MODEL_ce5facaeb3764cdab2aee7997041fe45",
       "style": "IPY_MODEL_9dab98af88c14a05b8700f183ba978fe",
       "value": "<font size=\"1\">Triumphs/Lore/The Light/Ghost Stories/</font size=>"
      }
     },
     "3afbb3c606324c378c233b3a7b431dbd": {
      "model_module": "@jupyter-widgets/controls",
      "model_module_version": "1.5.0",
      "model_name": "ButtonStyleModel",
      "state": {}
     },
     "3b025220c21c4ec69b6b1d905726f577": {
      "model_module": "@jupyter-widgets/controls",
      "model_module_version": "1.5.0",
      "model_name": "ProgressStyleModel",
      "state": {
       "description_width": ""
      }
     },
     "3b3875c4479346e6ad7e5d701f314aea": {
      "model_module": "@jupyter-widgets/controls",
      "model_module_version": "1.5.0",
      "model_name": "DescriptionStyleModel",
      "state": {
       "description_width": ""
      }
     },
     "3b8520f48c464419889b2f2977aff4f3": {
      "model_module": "@jupyter-widgets/controls",
      "model_module_version": "1.5.0",
      "model_name": "HBoxModel",
      "state": {
       "children": [
        "IPY_MODEL_49abdab62f394c7cbf998f2fd4f02c00",
        "IPY_MODEL_81fb0f494646468b9db0be788dd6c08f",
        "IPY_MODEL_a46f98fc80274440aedae1c71a8e2c2c",
        "IPY_MODEL_e8919a89122f427e83298930b13372f1"
       ],
       "layout": "IPY_MODEL_afff26751b364dc2b6c992a6497b3769"
      }
     },
     "3b8726a86d964529ada5db0c166bc822": {
      "model_module": "@jupyter-widgets/base",
      "model_module_version": "1.2.0",
      "model_name": "LayoutModel",
      "state": {
       "width": "60px"
      }
     },
     "3ba18e7dafd944148f132b3362deb02d": {
      "model_module": "@jupyter-widgets/controls",
      "model_module_version": "1.5.0",
      "model_name": "ButtonModel",
      "state": {
       "description": "EDIT",
       "layout": "IPY_MODEL_dce4f66ffccf484bbd797ff83e54a491",
       "style": "IPY_MODEL_e29344b8a96a4e0cb7debe1f91b60225"
      }
     },
     "3c30d619e91e43ef8b1cd9a94ee17fe8": {
      "model_module": "@jupyter-widgets/controls",
      "model_module_version": "1.5.0",
      "model_name": "HBoxModel",
      "state": {
       "children": [
        "IPY_MODEL_b5a0554089eb4132aa988485d4bee721",
        "IPY_MODEL_df805c9403d74e63bb124f149ad08990",
        "IPY_MODEL_afe74069cbe3410dafe9c574a5768e89",
        "IPY_MODEL_26879077801944b88476f010959551b2"
       ],
       "layout": "IPY_MODEL_21b0793bb51f4b69b96b51a8f902bd4c"
      }
     },
     "3c39ffd236b7463eb2b9df868e16ec8d": {
      "model_module": "@jupyter-widgets/controls",
      "model_module_version": "1.5.0",
      "model_name": "IntProgressModel",
      "state": {
       "bar_style": "success",
       "layout": "IPY_MODEL_0a8c9f5551e7430eb6e8d776e0f31279",
       "max": 1,
       "style": "IPY_MODEL_3b025220c21c4ec69b6b1d905726f577",
       "value": 1
      }
     },
     "3c6b69176d0c4f22abbde827642d1f73": {
      "model_module": "@jupyter-widgets/base",
      "model_module_version": "1.2.0",
      "model_name": "LayoutModel",
      "state": {
       "width": "60px"
      }
     },
     "3c869882505741659868f4e18aa9a085": {
      "model_module": "@jupyter-widgets/controls",
      "model_module_version": "1.5.0",
      "model_name": "VBoxModel",
      "state": {
       "children": [
        "IPY_MODEL_0684d463d70849b087fdf5f902dcfd42",
        "IPY_MODEL_a86a191be0c648e794e912ea163dc331",
        "IPY_MODEL_b0763b9979d84e2992ee076425769e80",
        "IPY_MODEL_b38d0b0993f446c58afea1962ee5385d",
        "IPY_MODEL_a42b53a98126496692b7c1be81a0337b",
        "IPY_MODEL_2e54344183ec4b63afdf495962f5af94"
       ],
       "layout": "IPY_MODEL_e6ca4ed0b06541f8bf84e0c13688d6f7"
      }
     },
     "3c9e5676b3df42bbbe3bf0c39cc37db0": {
      "model_module": "@jupyter-widgets/controls",
      "model_module_version": "1.5.0",
      "model_name": "ButtonStyleModel",
      "state": {}
     },
     "3ca5d4b0481d4160b5426b88e1c69ef0": {
      "model_module": "@jupyter-widgets/controls",
      "model_module_version": "1.5.0",
      "model_name": "ButtonStyleModel",
      "state": {}
     },
     "3cce1dc7d7d64ce29cd1f5b1273df3a9": {
      "model_module": "@jupyter-widgets/controls",
      "model_module_version": "1.5.0",
      "model_name": "IntProgressModel",
      "state": {
       "layout": "IPY_MODEL_cc7fe6b8d67349859376b0d6c99a70d4",
       "style": "IPY_MODEL_9c870ad06c3a44d7b2d636882998d098",
       "value": 30
      }
     },
     "3d30f5e64c2a4d9bb51baddfaac2da84": {
      "model_module": "@jupyter-widgets/controls",
      "model_module_version": "1.5.0",
      "model_name": "DescriptionStyleModel",
      "state": {
       "description_width": ""
      }
     },
     "3d6677fdcd894e7ebfab7e1ad8d664ad": {
      "model_module": "@jupyter-widgets/controls",
      "model_module_version": "1.5.0",
      "model_name": "DescriptionStyleModel",
      "state": {
       "description_width": ""
      }
     },
     "3e60c64b533848aa9df39971da45d836": {
      "model_module": "@jupyter-widgets/controls",
      "model_module_version": "1.5.0",
      "model_name": "HTMLModel",
      "state": {
       "layout": "IPY_MODEL_49699db489b74b089aa8cf5013f64c81",
       "style": "IPY_MODEL_13e64aa2656b41b39294f921925b509b",
       "value": "<font size=\"1\">Triumphs/Lore/The Light/The Man They Call Cayde/</font size=>"
      }
     },
     "3ea9db2993804e10809b733b9e89de72": {
      "model_module": "@jupyter-widgets/controls",
      "model_module_version": "1.5.0",
      "model_name": "ButtonStyleModel",
      "state": {}
     },
     "3efbd787dcd240b29ba5a377890b93c2": {
      "model_module": "@jupyter-widgets/controls",
      "model_module_version": "1.5.0",
      "model_name": "HBoxModel",
      "state": {
       "children": [
        "IPY_MODEL_23f72801d58d4d32a223ce1bd94267de",
        "IPY_MODEL_90dca34f2c844c3ebdfe6c0e53bedc88",
        "IPY_MODEL_31c5feae72ac4390b91521042a8d2555",
        "IPY_MODEL_f0ade05c696a4ade97806e72ed749ca0"
       ],
       "layout": "IPY_MODEL_b1c30efa71f8461a93bc325f74e27515"
      }
     },
     "3f8acbd377784f26a75073507b051451": {
      "model_module": "@jupyter-widgets/base",
      "model_module_version": "1.2.0",
      "model_name": "LayoutModel",
      "state": {
       "display": "none"
      }
     },
     "3f8ae38ec36949069a9f9d53203d791c": {
      "model_module": "@jupyter-widgets/base",
      "model_module_version": "1.2.0",
      "model_name": "LayoutModel",
      "state": {
       "overflow": "visible",
       "width": "100%"
      }
     },
     "3fa0eefd23e34cf5bdb5737cbea6d83a": {
      "model_module": "@jupyter-widgets/controls",
      "model_module_version": "1.5.0",
      "model_name": "ButtonModel",
      "state": {
       "description": "EDIT",
       "layout": "IPY_MODEL_af7f6f65aced49989844fb9b1e577c01",
       "style": "IPY_MODEL_f3fc581226b9403691ab4b8661ea0c3e"
      }
     },
     "3fb1f7acf4244f5cbc07ffa642bc7ce2": {
      "model_module": "@jupyter-widgets/controls",
      "model_module_version": "1.5.0",
      "model_name": "HBoxModel",
      "state": {
       "children": [
        "IPY_MODEL_a5d3a7328a67463584b9101145e4ac2f",
        "IPY_MODEL_52646ee60f704a149b32fa1709491515",
        "IPY_MODEL_56abfc51513b460bbddb555d23ed20f3",
        "IPY_MODEL_7186d6ff32e3442dbbc7a70e9c68146f"
       ],
       "layout": "IPY_MODEL_8a7e3fc49c784759b25f6bc31c711f5c"
      }
     },
     "3fbfacf85fbe4887aa499ca8e8109a20": {
      "model_module": "@jupyter-widgets/controls",
      "model_module_version": "1.5.0",
      "model_name": "LabelModel",
      "state": {
       "layout": "IPY_MODEL_31f57b9012f446d1a542cbe251e606af",
       "style": "IPY_MODEL_379e15c50e3f46bdbae65f59e659eef7",
       "value": "    My Bowfriend's Back (3/1)"
      }
     },
     "3fc045ecc6f2435c927ec7725208dfa4": {
      "model_module": "@jupyter-widgets/base",
      "model_module_version": "1.2.0",
      "model_name": "LayoutModel",
      "state": {
       "width": "20%"
      }
     },
     "3fd61327dc514ad49875c3675314dd7a": {
      "model_module": "@jupyter-widgets/controls",
      "model_module_version": "1.5.0",
      "model_name": "ProgressStyleModel",
      "state": {
       "description_width": ""
      }
     },
     "3ff8c7afe84649009e6697def689defc": {
      "model_module": "@jupyter-widgets/controls",
      "model_module_version": "1.5.0",
      "model_name": "ButtonStyleModel",
      "state": {}
     },
     "4005d5c163f747808d1e09b1d5a5fdf3": {
      "model_module": "@jupyter-widgets/controls",
      "model_module_version": "1.5.0",
      "model_name": "LabelModel",
      "state": {
       "layout": "IPY_MODEL_0aff27b43c464f5fba0a413915483f81",
       "style": "IPY_MODEL_3d30f5e64c2a4d9bb51baddfaac2da84",
       "value": "             objective 2"
      }
     },
     "4078bfbae0724711bf6c1a79f15df056": {
      "model_module": "@jupyter-widgets/base",
      "model_module_version": "1.2.0",
      "model_name": "LayoutModel",
      "state": {
       "display": "flex",
       "flex_flow": "row wrap"
      }
     },
     "4092107ad64c4ee5a08966e92902aa41": {
      "model_module": "@jupyter-widgets/controls",
      "model_module_version": "1.5.0",
      "model_name": "DescriptionStyleModel",
      "state": {
       "description_width": ""
      }
     },
     "40957b6e8b464dc8a2449e64330cbffd": {
      "model_module": "@jupyter-widgets/controls",
      "model_module_version": "1.5.0",
      "model_name": "HBoxModel",
      "state": {
       "children": [
        "IPY_MODEL_ad4874a5ac2e47a49bc037a4eacd8d94",
        "IPY_MODEL_4f5cb2dbbdc3471f9dccfa4ec0ab374d",
        "IPY_MODEL_06e77a4a298f453dbe65d493c4607685"
       ],
       "layout": "IPY_MODEL_4c67860e524c42adb8c7a02219390506"
      }
     },
     "4116daee3b9944568ae03404113c6eb4": {
      "model_module": "@jupyter-widgets/controls",
      "model_module_version": "1.5.0",
      "model_name": "DescriptionStyleModel",
      "state": {
       "description_width": ""
      }
     },
     "4127c289efa24aee99f926f079d494ec": {
      "model_module": "@jupyter-widgets/controls",
      "model_module_version": "1.5.0",
      "model_name": "ButtonStyleModel",
      "state": {}
     },
     "419ab02fa4e347558dcb76f208ddaf0a": {
      "model_module": "@jupyter-widgets/controls",
      "model_module_version": "1.5.0",
      "model_name": "LabelModel",
      "state": {
       "layout": "IPY_MODEL_de761fae7a1342f4a91f2ee111dedcaf",
       "style": "IPY_MODEL_b00456e9188f44afa6a52406e745567d",
       "value": "             objective 2"
      }
     },
     "41add7161b6140f8a9cd18fcec2e45c9": {
      "model_module": "@jupyter-widgets/controls",
      "model_module_version": "1.5.0",
      "model_name": "ButtonModel",
      "state": {
       "layout": "IPY_MODEL_272caa2a293a4c32939417d15c3dbe8d",
       "style": "IPY_MODEL_c3aff7c93bc1419d922c79b26b7d821b"
      }
     },
     "41c96512b67b4d8aabb3c14f0525b021": {
      "model_module": "@jupyter-widgets/base",
      "model_module_version": "1.2.0",
      "model_name": "LayoutModel",
      "state": {
       "overflow": "visible",
       "width": "100%"
      }
     },
     "41fec607b43e4f778342d812dc0ee229": {
      "model_module": "@jupyter-widgets/base",
      "model_module_version": "1.2.0",
      "model_name": "LayoutModel",
      "state": {
       "width": "60px"
      }
     },
     "4205750a3c6f4430ae5ff6b3d7b0c433": {
      "model_module": "@jupyter-widgets/base",
      "model_module_version": "1.2.0",
      "model_name": "LayoutModel",
      "state": {
       "display": "none"
      }
     },
     "42110ad4d9414d4395c61c79d0ed8da7": {
      "model_module": "@jupyter-widgets/controls",
      "model_module_version": "1.5.0",
      "model_name": "ButtonStyleModel",
      "state": {}
     },
     "4270ebeaf9fb4d74872eca9c11a88d7b": {
      "model_module": "@jupyter-widgets/controls",
      "model_module_version": "1.5.0",
      "model_name": "ButtonStyleModel",
      "state": {}
     },
     "42a30d6edd53447584015553f8217644": {
      "model_module": "@jupyter-widgets/controls",
      "model_module_version": "1.5.0",
      "model_name": "VBoxModel",
      "state": {
       "children": [
        "IPY_MODEL_e47edf6d5e214142ae16e0c0ddeade73",
        "IPY_MODEL_60770479f3a244b39a1cd8f8171f524e",
        "IPY_MODEL_cc84b83fe28342cb8a3f2e2adbf2c8f8",
        "IPY_MODEL_8d579e3a803c4f84a9e78814113353ee"
       ],
       "layout": "IPY_MODEL_f1afb66da24544cb9c455279b97305d1"
      }
     },
     "42ba66b669044768a7b3c840813b06e1": {
      "model_module": "@jupyter-widgets/controls",
      "model_module_version": "1.5.0",
      "model_name": "DescriptionStyleModel",
      "state": {
       "description_width": ""
      }
     },
     "42c0c6ec3365498f8770285dd1453d80": {
      "model_module": "@jupyter-widgets/controls",
      "model_module_version": "1.5.0",
      "model_name": "ProgressStyleModel",
      "state": {
       "description_width": ""
      }
     },
     "42d175816e414a8c9577228efccd8296": {
      "model_module": "@jupyter-widgets/controls",
      "model_module_version": "1.5.0",
      "model_name": "HBoxModel",
      "state": {
       "children": [
        "IPY_MODEL_7b28ea175f9f47f4ae28edf82027efa0",
        "IPY_MODEL_38a32a668ded443eb8705a9924c84411",
        "IPY_MODEL_1259b9eb3d56457ea9a704120510841e",
        "IPY_MODEL_6234124532c940eb9d5e67881454f750",
        "IPY_MODEL_bce905894b914f5caa0540e4dabc0c44"
       ],
       "layout": "IPY_MODEL_d591214990de48b5a2a027739ad9ad44"
      }
     },
     "42e8ccab287948b185dec5c812ba298a": {
      "model_module": "@jupyter-widgets/controls",
      "model_module_version": "1.5.0",
      "model_name": "ButtonStyleModel",
      "state": {}
     },
     "43a2357ca1564ff38db7794d7b851272": {
      "model_module": "@jupyter-widgets/controls",
      "model_module_version": "1.5.0",
      "model_name": "HBoxModel",
      "state": {
       "children": [
        "IPY_MODEL_ceaf68e248d54b1da76f6bd5186158aa",
        "IPY_MODEL_3cce1dc7d7d64ce29cd1f5b1273df3a9",
        "IPY_MODEL_cbc041018b1e40588789426d4413630b",
        "IPY_MODEL_7e4727a8e6fc49bc9f3339e4d65d7e9d"
       ],
       "layout": "IPY_MODEL_666e7132fcc2477aa89621e94dc7dacd"
      }
     },
     "43d77ef9305a48a7b4be608443922232": {
      "model_module": "@jupyter-widgets/base",
      "model_module_version": "1.2.0",
      "model_name": "LayoutModel",
      "state": {
       "height": "32px",
       "order": "-2",
       "width": "32px"
      }
     },
     "440f0e0729384ae486fba3bf98685cea": {
      "model_module": "@jupyter-widgets/controls",
      "model_module_version": "1.5.0",
      "model_name": "ProgressStyleModel",
      "state": {
       "description_width": ""
      }
     },
     "443242b3cbf647a0a4d9ec89ad097924": {
      "model_module": "@jupyter-widgets/base",
      "model_module_version": "1.2.0",
      "model_name": "LayoutModel",
      "state": {}
     },
     "445797ee58f44920bfbf49b9c1adb804": {
      "model_module": "@jupyter-widgets/controls",
      "model_module_version": "1.5.0",
      "model_name": "ButtonStyleModel",
      "state": {}
     },
     "45283a3f3a4648a3bdc07c05579db375": {
      "model_module": "@jupyter-widgets/controls",
      "model_module_version": "1.5.0",
      "model_name": "ProgressStyleModel",
      "state": {
       "description_width": ""
      }
     },
     "45435952df354851922519d6fd9f8682": {
      "model_module": "@jupyter-widgets/controls",
      "model_module_version": "1.5.0",
      "model_name": "HBoxModel",
      "state": {
       "children": [
        "IPY_MODEL_ee0859deda9a4de19069ee226cb87438",
        "IPY_MODEL_de44164ca73a4fadb5bf7350371f99a1",
        "IPY_MODEL_84ae3a037d9e4d01be5dd44545eee9f6"
       ],
       "layout": "IPY_MODEL_941db47e69d24d78ae5491d27b941964"
      }
     },
     "4554f4cde1ef462891bd646959f68fc9": {
      "model_module": "@jupyter-widgets/controls",
      "model_module_version": "1.5.0",
      "model_name": "ButtonStyleModel",
      "state": {}
     },
     "4568c9e7fa2f4208af79fd8cc18221db": {
      "model_module": "@jupyter-widgets/controls",
      "model_module_version": "1.5.0",
      "model_name": "VBoxModel",
      "state": {
       "children": [
        "IPY_MODEL_e3f9ea7f231c420d93c4bd562955f314",
        "IPY_MODEL_0f7ec7f224a5468c9767d179bc95ecfe",
        "IPY_MODEL_73bb28bfdc8040b5839ec8e3d7c187c0",
        "IPY_MODEL_e2c74d248f3f4c40ad58c1a287e6babd"
       ],
       "layout": "IPY_MODEL_9956a4e6a1b44f0f94ce3dbc738b6d32"
      }
     },
     "45b5f9e76e6e4959a764c22a141326eb": {
      "model_module": "@jupyter-widgets/base",
      "model_module_version": "1.2.0",
      "model_name": "LayoutModel",
      "state": {
       "display": "none"
      }
     },
     "45b81338867941f3b782404d132aad98": {
      "model_module": "@jupyter-widgets/controls",
      "model_module_version": "1.5.0",
      "model_name": "ButtonModel",
      "state": {
       "description": "EDIT",
       "layout": "IPY_MODEL_6209ec3235184b3ba030e9264042b3ae",
       "style": "IPY_MODEL_247fe00fbf3f45ddb994bf2c9364154a"
      }
     },
     "45e9795f2b90485d88ca35d72adee70b": {
      "model_module": "@jupyter-widgets/controls",
      "model_module_version": "1.5.0",
      "model_name": "DescriptionStyleModel",
      "state": {
       "description_width": ""
      }
     },
     "45eb49a742964deb9def153e5ca474e3": {
      "model_module": "@jupyter-widgets/base",
      "model_module_version": "1.2.0",
      "model_name": "LayoutModel",
      "state": {
       "width": "60px"
      }
     },
     "45f4538f596a4c7a8624f595251a525d": {
      "model_module": "@jupyter-widgets/controls",
      "model_module_version": "1.5.0",
      "model_name": "LabelModel",
      "state": {
       "layout": "IPY_MODEL_de761fae7a1342f4a91f2ee111dedcaf",
       "style": "IPY_MODEL_b9d1211af18c4e16b7d7a7de7b0a740a",
       "value": "             objective 1"
      }
     },
     "46b33d6cd681413fac3da617abdffaaa": {
      "model_module": "@jupyter-widgets/base",
      "model_module_version": "1.2.0",
      "model_name": "LayoutModel",
      "state": {
       "display": "none"
      }
     },
     "46c05725c73f41449dbaaf5380f6ec57": {
      "model_module": "@jupyter-widgets/base",
      "model_module_version": "1.2.0",
      "model_name": "LayoutModel",
      "state": {
       "width": "60px"
      }
     },
     "4712dfc862a647f299e2fef973102c53": {
      "model_module": "@jupyter-widgets/controls",
      "model_module_version": "1.5.0",
      "model_name": "DescriptionStyleModel",
      "state": {
       "description_width": ""
      }
     },
     "4739cb814b5c4b63a710dbc0a3d8aa26": {
      "model_module": "@jupyter-widgets/controls",
      "model_module_version": "1.5.0",
      "model_name": "ButtonModel",
      "state": {
       "description": "EDIT",
       "layout": "IPY_MODEL_c197e216c24d455ba18c0a5de55fd79d",
       "style": "IPY_MODEL_606e299758b548a9b0e376fbb85f73a5"
      }
     },
     "475f83c9950e453da580418e3874b2ae": {
      "model_module": "@jupyter-widgets/controls",
      "model_module_version": "1.5.0",
      "model_name": "DescriptionStyleModel",
      "state": {
       "description_width": ""
      }
     },
     "476dafa5acb441f597ebe07b7d36b7d4": {
      "model_module": "@jupyter-widgets/base",
      "model_module_version": "1.2.0",
      "model_name": "LayoutModel",
      "state": {
       "display": "none"
      }
     },
     "4776a63e0efd4d48a4be292818272e2f": {
      "model_module": "@jupyter-widgets/controls",
      "model_module_version": "1.5.0",
      "model_name": "VBoxModel",
      "state": {
       "children": [
        "IPY_MODEL_597f72af29414be09896207efa0408e0",
        "IPY_MODEL_b04a3032da494b6b97fbe6521c7ef79c",
        "IPY_MODEL_8eb90c236b454adea8c76aa61e927b55",
        "IPY_MODEL_29ff0519546a4513804a2bc19ca73dfd",
        "IPY_MODEL_324d1319327d453d95f3b9aff8fee336",
        "IPY_MODEL_63dc786ab7174736949d3436a93c41d2",
        "IPY_MODEL_7b6ea260da244f12bb5a0cd850b13418",
        "IPY_MODEL_5768e3731fa14beaa35e9c15dcb51d01",
        "IPY_MODEL_e98a29615a3e4e5db851fffed3c9669e"
       ],
       "layout": "IPY_MODEL_215be5af92cb4c6a93178fe32845a7b2"
      }
     },
     "4799eb5050904bc4846b24dc1316f02e": {
      "model_module": "@jupyter-widgets/base",
      "model_module_version": "1.2.0",
      "model_name": "LayoutModel",
      "state": {
       "border": "3px solid white",
       "display": "flex",
       "margin": "10px",
       "overflow": "visible",
       "padding": "10px",
       "width": "400px"
      }
     },
     "47bf8d0632ce4bacb240c8dde1583f8f": {
      "model_module": "@jupyter-widgets/base",
      "model_module_version": "1.2.0",
      "model_name": "LayoutModel",
      "state": {
       "height": "32px",
       "order": "-2",
       "width": "32px"
      }
     },
     "47d20d2f32c54f8ba3cb9e82c73120f5": {
      "model_module": "@jupyter-widgets/controls",
      "model_module_version": "1.5.0",
      "model_name": "ButtonStyleModel",
      "state": {}
     },
     "480722e20b6345f392de8ad7fd8ad3f6": {
      "model_module": "@jupyter-widgets/controls",
      "model_module_version": "1.5.0",
      "model_name": "DescriptionStyleModel",
      "state": {
       "description_width": ""
      }
     },
     "484d3d57db0c4abcb463cac377c4a10b": {
      "model_module": "@jupyter-widgets/base",
      "model_module_version": "1.2.0",
      "model_name": "LayoutModel",
      "state": {}
     },
     "4855eff59ca94241a861b23217225aee": {
      "model_module": "@jupyter-widgets/controls",
      "model_module_version": "1.5.0",
      "model_name": "ButtonStyleModel",
      "state": {}
     },
     "4897773cfc0142ccb8bf48c092110016": {
      "model_module": "@jupyter-widgets/controls",
      "model_module_version": "1.5.0",
      "model_name": "IntProgressModel",
      "state": {
       "layout": "IPY_MODEL_a52cf2c5947a4de1b97014c038f6f0bf",
       "style": "IPY_MODEL_baeaaa557b9840fa9b791740d1a81de7",
       "value": 30
      }
     },
     "48b546b149c04a57bdf063747128cccc": {
      "model_module": "@jupyter-widgets/controls",
      "model_module_version": "1.5.0",
      "model_name": "ButtonModel",
      "state": {
       "description": "EDIT",
       "layout": "IPY_MODEL_0094efcb8ab34ff48fff0fde6eaba881",
       "style": "IPY_MODEL_c2b65a5cdcdf4bd095a75ed2aab2dcd5"
      }
     },
     "48c0decd4fe24f2cb93beda306ec7266": {
      "model_module": "@jupyter-widgets/controls",
      "model_module_version": "1.5.0",
      "model_name": "DescriptionStyleModel",
      "state": {
       "description_width": ""
      }
     },
     "48d3f615b0104735b7c1b96f73e34dc5": {
      "model_module": "@jupyter-widgets/controls",
      "model_module_version": "1.5.0",
      "model_name": "ButtonModel",
      "state": {
       "description": "EDIT",
       "layout": "IPY_MODEL_0b8e28f6437a4d9ea4cd56474220df77",
       "style": "IPY_MODEL_4e87c8fb56ef446db6a9dc2463aed70c"
      }
     },
     "48d8319f99dc4cc188a8c3061f4fa6cb": {
      "model_module": "@jupyter-widgets/base",
      "model_module_version": "1.2.0",
      "model_name": "LayoutModel",
      "state": {
       "width": "60px"
      }
     },
     "48f7faf0500b421cbd83db442c0a923f": {
      "model_module": "@jupyter-widgets/controls",
      "model_module_version": "1.5.0",
      "model_name": "HBoxModel",
      "state": {
       "children": [
        "IPY_MODEL_2f031553ffe844b3a7af5378a394d528",
        "IPY_MODEL_c784e2ead1f6469ea2ec612b80f725f8",
        "IPY_MODEL_84f5eddcd9114746a725f8eb53e13997",
        "IPY_MODEL_bb8a85fc708f496186ef3f7f662a5a59"
       ],
       "layout": "IPY_MODEL_ed8f9c14009b4464908077582591561c"
      }
     },
     "4921ae13555f45bb971e4513f94e2b41": {
      "model_module": "@jupyter-widgets/controls",
      "model_module_version": "1.5.0",
      "model_name": "IntProgressModel",
      "state": {
       "layout": "IPY_MODEL_98c35db6b8f147b48e25cd417a39f12e",
       "style": "IPY_MODEL_1ea8c285059148f7bcba507f256645c1",
       "value": 30
      }
     },
     "49699db489b74b089aa8cf5013f64c81": {
      "model_module": "@jupyter-widgets/base",
      "model_module_version": "1.2.0",
      "model_name": "LayoutModel",
      "state": {
       "overflow": "visible",
       "width": "100%"
      }
     },
     "49abdab62f394c7cbf998f2fd4f02c00": {
      "model_module": "@jupyter-widgets/controls",
      "model_module_version": "1.5.0",
      "model_name": "ButtonModel",
      "state": {
       "layout": "IPY_MODEL_ed9b769f6b544c9fb0ea71145371c2a9",
       "style": "IPY_MODEL_8fbb558990884a6c9645be670d8234ec"
      }
     },
     "49d55e9b0eac4edd91b69fe889c792e0": {
      "model_module": "@jupyter-widgets/controls",
      "model_module_version": "1.5.0",
      "model_name": "DescriptionStyleModel",
      "state": {
       "description_width": ""
      }
     },
     "4a1d0c5d92be42e7812c2b6b6131a839": {
      "model_module": "@jupyter-widgets/controls",
      "model_module_version": "1.5.0",
      "model_name": "ButtonStyleModel",
      "state": {}
     },
     "4a51c7155e2a42c1a224bc78af11ec7e": {
      "model_module": "@jupyter-widgets/controls",
      "model_module_version": "1.5.0",
      "model_name": "IntProgressModel",
      "state": {
       "layout": "IPY_MODEL_98c35db6b8f147b48e25cd417a39f12e",
       "style": "IPY_MODEL_f587dd8a02734e9f89be366bd47577e2",
       "value": 30
      }
     },
     "4ab57957337b4eafae3d181c23a9d0de": {
      "model_module": "@jupyter-widgets/controls",
      "model_module_version": "1.5.0",
      "model_name": "ButtonStyleModel",
      "state": {}
     },
     "4ae79e83995942eb929cbd2ea5037f28": {
      "model_module": "@jupyter-widgets/base",
      "model_module_version": "1.2.0",
      "model_name": "LayoutModel",
      "state": {
       "width": "60px"
      }
     },
     "4afcf8746e6b4180b7f809012fb2b826": {
      "model_module": "@jupyter-widgets/base",
      "model_module_version": "1.2.0",
      "model_name": "LayoutModel",
      "state": {
       "display": "none"
      }
     },
     "4b08a5688c6c4a9696aafcf13170cd9c": {
      "model_module": "@jupyter-widgets/base",
      "model_module_version": "1.2.0",
      "model_name": "LayoutModel",
      "state": {
       "width": "60px"
      }
     },
     "4b41cb486f0f45b082788000308f785e": {
      "model_module": "@jupyter-widgets/controls",
      "model_module_version": "1.5.0",
      "model_name": "ButtonModel",
      "state": {
       "layout": "IPY_MODEL_6c7c02b2c21f468e9c338114465d1d91",
       "style": "IPY_MODEL_9691108169274a5d8873b7d1f40bbb16"
      }
     },
     "4b76980672be494cbd4fe57f81d862b1": {
      "model_module": "@jupyter-widgets/controls",
      "model_module_version": "1.5.0",
      "model_name": "ButtonStyleModel",
      "state": {}
     },
     "4b7ca9bf22554c74b440ee73a9faf0c3": {
      "model_module": "@jupyter-widgets/base",
      "model_module_version": "1.2.0",
      "model_name": "LayoutModel",
      "state": {
       "display": "none"
      }
     },
     "4b8b869569ed4f61ae377ee0436ee993": {
      "model_module": "@jupyter-widgets/controls",
      "model_module_version": "1.5.0",
      "model_name": "ButtonStyleModel",
      "state": {}
     },
     "4b9179025c784068ad11d5160abc4081": {
      "model_module": "@jupyter-widgets/base",
      "model_module_version": "1.2.0",
      "model_name": "LayoutModel",
      "state": {
       "display": "flex"
      }
     },
     "4bb91baf8d6f499cb75c0af53870ea02": {
      "model_module": "@jupyter-widgets/controls",
      "model_module_version": "1.5.0",
      "model_name": "ProgressStyleModel",
      "state": {
       "description_width": ""
      }
     },
     "4bbcb6172e7847fda77a00148c6af420": {
      "model_module": "@jupyter-widgets/controls",
      "model_module_version": "1.5.0",
      "model_name": "HBoxModel",
      "state": {
       "children": [
        "IPY_MODEL_ae06cb0f9f2a407c8deda82a5d12a827",
        "IPY_MODEL_ffdf470c886242ebaf23a39a99a9d658",
        "IPY_MODEL_a15b39c8c53048a2a0d96802654475c4",
        "IPY_MODEL_9c5ea9ba841d43c8817db7217ae7407c"
       ],
       "layout": "IPY_MODEL_dc70d556ee7a49eb95ce35007a52b5bd"
      }
     },
     "4bf3ad0e06df4608a1d4e0ccb62b0df8": {
      "model_module": "@jupyter-widgets/base",
      "model_module_version": "1.2.0",
      "model_name": "LayoutModel",
      "state": {}
     },
     "4c3a60c0552043789bca6b6898939bcd": {
      "model_module": "@jupyter-widgets/controls",
      "model_module_version": "1.5.0",
      "model_name": "ProgressStyleModel",
      "state": {
       "description_width": ""
      }
     },
     "4c5ac6f16a5645e8b0df8163a7242073": {
      "model_module": "@jupyter-widgets/base",
      "model_module_version": "1.2.0",
      "model_name": "LayoutModel",
      "state": {}
     },
     "4c67860e524c42adb8c7a02219390506": {
      "model_module": "@jupyter-widgets/base",
      "model_module_version": "1.2.0",
      "model_name": "LayoutModel",
      "state": {}
     },
     "4cbca2cf60214e9e89e75493e58edf22": {
      "model_module": "@jupyter-widgets/controls",
      "model_module_version": "1.5.0",
      "model_name": "DescriptionStyleModel",
      "state": {
       "description_width": ""
      }
     },
     "4ccb0750623b4b7c9ebb699f5a109315": {
      "model_module": "@jupyter-widgets/controls",
      "model_module_version": "1.5.0",
      "model_name": "DescriptionStyleModel",
      "state": {
       "description_width": ""
      }
     },
     "4cd6db57742448648e749e9c11c1fc58": {
      "model_module": "@jupyter-widgets/controls",
      "model_module_version": "1.5.0",
      "model_name": "ButtonModel",
      "state": {
       "description": "EDIT",
       "layout": "IPY_MODEL_366599342cd74283b91bdab1678a6a1d",
       "style": "IPY_MODEL_bd3dd6f2130f4e039c0941956d14eee7"
      }
     },
     "4d37baa96cd34cbb90ef72529325c8c2": {
      "model_module": "@jupyter-widgets/controls",
      "model_module_version": "1.5.0",
      "model_name": "VBoxModel",
      "state": {
       "children": [
        "IPY_MODEL_7da5ede62fc04965bd66702fef51f394",
        "IPY_MODEL_16a689b757b84056a6b60aa50de7d090",
        "IPY_MODEL_81ac19f0199d47de89890777954c870b",
        "IPY_MODEL_1cd66add6e564967887ec193955b2761"
       ],
       "layout": "IPY_MODEL_ce61021ef3ba4dcf99d5060f8f53b0aa"
      }
     },
     "4d4799380e964f648d9af736ad1abf6f": {
      "model_module": "@jupyter-widgets/controls",
      "model_module_version": "1.5.0",
      "model_name": "ProgressStyleModel",
      "state": {
       "description_width": ""
      }
     },
     "4d4a8890333e4aaab5c108a6b1a9b845": {
      "model_module": "@jupyter-widgets/base",
      "model_module_version": "1.2.0",
      "model_name": "LayoutModel",
      "state": {}
     },
     "4d82a91ebdf749f9a6d26a1f1e9ebe07": {
      "model_module": "@jupyter-widgets/controls",
      "model_module_version": "1.5.0",
      "model_name": "IntProgressModel",
      "state": {
       "layout": "IPY_MODEL_0fa33ef047654ac2b891a3ede0b415f5",
       "style": "IPY_MODEL_2c8adde062ea4205bbccc2b5f8da30f2",
       "value": 30
      }
     },
     "4da36d8087de441d87871f0acd61721f": {
      "model_module": "@jupyter-widgets/controls",
      "model_module_version": "1.5.0",
      "model_name": "ButtonStyleModel",
      "state": {}
     },
     "4da5ab8c401d4d0b83fc0b7cffda0043": {
      "model_module": "@jupyter-widgets/controls",
      "model_module_version": "1.5.0",
      "model_name": "ProgressStyleModel",
      "state": {
       "description_width": ""
      }
     },
     "4da981c2efe944cbb114e2613e44abe2": {
      "model_module": "@jupyter-widgets/controls",
      "model_module_version": "1.5.0",
      "model_name": "DescriptionStyleModel",
      "state": {
       "description_width": ""
      }
     },
     "4e10da501b4249c5820b30e87306f5a7": {
      "model_module": "@jupyter-widgets/base",
      "model_module_version": "1.2.0",
      "model_name": "LayoutModel",
      "state": {
       "width": "60px"
      }
     },
     "4e7deb253d8646fb9d33dc0562d1d9df": {
      "model_module": "@jupyter-widgets/base",
      "model_module_version": "1.2.0",
      "model_name": "LayoutModel",
      "state": {
       "width": "60px"
      }
     },
     "4e87c8fb56ef446db6a9dc2463aed70c": {
      "model_module": "@jupyter-widgets/controls",
      "model_module_version": "1.5.0",
      "model_name": "ButtonStyleModel",
      "state": {}
     },
     "4e9664f343fe43dd9a5e8f364fd59cc0": {
      "model_module": "@jupyter-widgets/base",
      "model_module_version": "1.2.0",
      "model_name": "LayoutModel",
      "state": {
       "width": "60px"
      }
     },
     "4ee0f90290794f039a4460a868905de4": {
      "model_module": "@jupyter-widgets/base",
      "model_module_version": "1.2.0",
      "model_name": "LayoutModel",
      "state": {
       "display": "none"
      }
     },
     "4f360803042844b79fcf3f2583a787e8": {
      "model_module": "@jupyter-widgets/controls",
      "model_module_version": "1.5.0",
      "model_name": "DescriptionStyleModel",
      "state": {
       "description_width": ""
      }
     },
     "4f4cc85cc66f41249ae67aa4c950288d": {
      "model_module": "@jupyter-widgets/base",
      "model_module_version": "1.2.0",
      "model_name": "LayoutModel",
      "state": {
       "width": "60px"
      }
     },
     "4f52704b5bf3460c892c16ef1ed4bfd9": {
      "model_module": "@jupyter-widgets/controls",
      "model_module_version": "1.5.0",
      "model_name": "DescriptionStyleModel",
      "state": {
       "description_width": ""
      }
     },
     "4f5ad3e954814ab5a4aeeb624a9ee040": {
      "model_module": "@jupyter-widgets/controls",
      "model_module_version": "1.5.0",
      "model_name": "HBoxModel",
      "state": {
       "children": [
        "IPY_MODEL_015492a1f519420cb0a00c6c7e9b9027",
        "IPY_MODEL_00a969f428e641eba963d7f1684fb461",
        "IPY_MODEL_18ccda0c3be24bedbd4b1fda6e177f57",
        "IPY_MODEL_b57a2fd51cfd4827b26f64c7b07f6c0f"
       ],
       "layout": "IPY_MODEL_9089ae86639549a4bf3de7231f0bd947"
      }
     },
     "4f5cb2dbbdc3471f9dccfa4ec0ab374d": {
      "model_module": "@jupyter-widgets/controls",
      "model_module_version": "1.5.0",
      "model_name": "DropdownModel",
      "state": {
       "_options_labels": [
        "Any",
        "Patrol",
        "Gambit",
        "Reckoning",
        "Menagerie",
        "Vex Offensive",
        "Raid",
        "Strike",
        "Nightfall",
        "Crucible",
        "Forge"
       ],
       "index": 0,
       "layout": "IPY_MODEL_3fc045ecc6f2435c927ec7725208dfa4",
       "style": "IPY_MODEL_6db3523f5ce941d0933f5cd56cb84dbe"
      }
     },
     "4f63f6c80f184cf8ad662cd888f51151": {
      "model_module": "@jupyter-widgets/base",
      "model_module_version": "1.2.0",
      "model_name": "LayoutModel",
      "state": {
       "width": "60px"
      }
     },
     "4f6657a121e34684a179a963ec45ac18": {
      "model_module": "@jupyter-widgets/controls",
      "model_module_version": "1.5.0",
      "model_name": "ButtonStyleModel",
      "state": {}
     },
     "4faaccb1a0f5425d9c8182f734954118": {
      "model_module": "@jupyter-widgets/controls",
      "model_module_version": "1.5.0",
      "model_name": "HTMLModel",
      "state": {
       "layout": "IPY_MODEL_7ffdc3d77c8d4ce893406f9c5cb901d4",
       "style": "IPY_MODEL_a82b84cd23c649358ac29f229b6b09b4",
       "value": "<i></i>"
      }
     },
     "4fcb701afb834737a15bdc89c4093369": {
      "model_module": "@jupyter-widgets/controls",
      "model_module_version": "1.5.0",
      "model_name": "IntProgressModel",
      "state": {
       "bar_style": "success",
       "layout": "IPY_MODEL_7d75f75f80a04d3a8d499c3632c26161",
       "max": 1,
       "style": "IPY_MODEL_45283a3f3a4648a3bdc07c05579db375",
       "value": 1
      }
     },
     "50a71cbb9e7b4a6f93c91cd6ad35472d": {
      "model_module": "@jupyter-widgets/base",
      "model_module_version": "1.2.0",
      "model_name": "LayoutModel",
      "state": {}
     },
     "50c26dd05f8a4d76b256952979e8cfea": {
      "model_module": "@jupyter-widgets/base",
      "model_module_version": "1.2.0",
      "model_name": "LayoutModel",
      "state": {
       "width": "60px"
      }
     },
     "51529d62a9e24d25bc8c3474778e97b5": {
      "model_module": "@jupyter-widgets/controls",
      "model_module_version": "1.5.0",
      "model_name": "IntProgressModel",
      "state": {
       "layout": "IPY_MODEL_a82a1fc7a2e743c0a15fd29efd4506b9",
       "style": "IPY_MODEL_0eaf832fff8c4f4dbc80e82c12fec132",
       "value": 30
      }
     },
     "519cf423d3f14a32af58524b1ed4718c": {
      "model_module": "@jupyter-widgets/controls",
      "model_module_version": "1.5.0",
      "model_name": "LabelModel",
      "state": {
       "layout": "IPY_MODEL_3859ea61f2b84da8a05ca005dc253770",
       "style": "IPY_MODEL_273bb36623da42599b900c79e965f134",
       "value": "     (1/1)"
      }
     },
     "51de8802da504e9a935ea363bdc9619b": {
      "model_module": "@jupyter-widgets/controls",
      "model_module_version": "1.5.0",
      "model_name": "ButtonStyleModel",
      "state": {}
     },
     "51f6a8d2d1844938a8595cadacb9b719": {
      "model_module": "@jupyter-widgets/controls",
      "model_module_version": "1.5.0",
      "model_name": "ProgressStyleModel",
      "state": {
       "description_width": ""
      }
     },
     "5226b8aa735a46faa033273bd635ca83": {
      "model_module": "@jupyter-widgets/base",
      "model_module_version": "1.2.0",
      "model_name": "LayoutModel",
      "state": {
       "border": "3px solid white",
       "display": "flex",
       "margin": "10px",
       "overflow": "visible",
       "padding": "10px",
       "width": "400px"
      }
     },
     "52646ee60f704a149b32fa1709491515": {
      "model_module": "@jupyter-widgets/controls",
      "model_module_version": "1.5.0",
      "model_name": "IntProgressModel",
      "state": {
       "layout": "IPY_MODEL_a82a1fc7a2e743c0a15fd29efd4506b9",
       "style": "IPY_MODEL_c7989bb897d44c279eded7d240822701",
       "value": 30
      }
     },
     "52ad2b43ce27479e8d97d6c9bc08ba77": {
      "model_module": "@jupyter-widgets/base",
      "model_module_version": "1.2.0",
      "model_name": "LayoutModel",
      "state": {
       "width": "60px"
      }
     },
     "52be868b1b4c48ec953dc3108bf6e385": {
      "model_module": "@jupyter-widgets/base",
      "model_module_version": "1.2.0",
      "model_name": "LayoutModel",
      "state": {
       "display": "none"
      }
     },
     "52cf1656786a459c8be4a66f396dbc6a": {
      "model_module": "@jupyter-widgets/controls",
      "model_module_version": "1.5.0",
      "model_name": "IntProgressModel",
      "state": {
       "layout": "IPY_MODEL_f92860ae49f1437da38f544278148d94",
       "style": "IPY_MODEL_642a3b7320af4646a4da9bda48e70c23",
       "value": 30
      }
     },
     "53053e070ee14ee7ad80a5fd16c6a1c2": {
      "model_module": "@jupyter-widgets/base",
      "model_module_version": "1.2.0",
      "model_name": "LayoutModel",
      "state": {
       "height": "32px",
       "overflow": "visible",
       "padding": "0px",
       "width": "100%"
      }
     },
     "53c1fcd690b144e88f8a7bd90ea79a16": {
      "model_module": "@jupyter-widgets/controls",
      "model_module_version": "1.5.0",
      "model_name": "HBoxModel",
      "state": {
       "children": [
        "IPY_MODEL_cd36d5afc02e471584871a509e1a7492",
        "IPY_MODEL_8fd7bf734e724cdaad5ce5520030d0da",
        "IPY_MODEL_5f605e5948784a90ad5e33b2d37d0b17",
        "IPY_MODEL_5f5c955bc0af4420ad5144b0f057cdf6"
       ],
       "layout": "IPY_MODEL_7a20397122574926845c391785e3a237"
      }
     },
     "5400e4b8129e435a9de1aa4263fd914e": {
      "model_module": "@jupyter-widgets/controls",
      "model_module_version": "1.5.0",
      "model_name": "IntProgressModel",
      "state": {
       "layout": "IPY_MODEL_5c9f3bffcf68419494f90e7e72c29e87",
       "style": "IPY_MODEL_aac8b1e3884045bcaa8923b630a791de",
       "value": 30
      }
     },
     "54376edd4ffa4efe81269b8827c4d6dc": {
      "model_module": "@jupyter-widgets/base",
      "model_module_version": "1.2.0",
      "model_name": "LayoutModel",
      "state": {
       "width": "60px"
      }
     },
     "544302b56dfe409c9794b385af39163b": {
      "model_module": "@jupyter-widgets/controls",
      "model_module_version": "1.5.0",
      "model_name": "ButtonModel",
      "state": {
       "description": "EDIT",
       "layout": "IPY_MODEL_ea35991d477146089569317976e974b6",
       "style": "IPY_MODEL_ce635a94e77543fe9acd2310e175e24c"
      }
     },
     "54ce96611f274558811dcd89bf25ff42": {
      "model_module": "@jupyter-widgets/controls",
      "model_module_version": "1.5.0",
      "model_name": "BoxModel",
      "state": {
       "children": [
        "IPY_MODEL_2bc50cb2cb1b4191b317e324303ef23f",
        "IPY_MODEL_1aac762ed22045f1b7ffb6a99baa54bb",
        "IPY_MODEL_a8f9813557c446abbbbf7ebf3f761475",
        "IPY_MODEL_d7266c6f1f03433386d21b2953d30832",
        "IPY_MODEL_eddf72a32be14772a79a47f555a230a6",
        "IPY_MODEL_4568c9e7fa2f4208af79fd8cc18221db",
        "IPY_MODEL_cf6be3958ed245e2910f9487bad47ede",
        "IPY_MODEL_4d37baa96cd34cbb90ef72529325c8c2",
        "IPY_MODEL_42a30d6edd53447584015553f8217644",
        "IPY_MODEL_78475d982f084456afdbd34fae557201",
        "IPY_MODEL_a91aee5ee63241a994a7720e6099ff1a",
        "IPY_MODEL_9dc1fae54a994406b508a50f09692264",
        "IPY_MODEL_e8100f5ed41e4b4386094b2b904e2ef7",
        "IPY_MODEL_1f911049eda544a2b40dca0e586500c1",
        "IPY_MODEL_e6cba88967464946840820bea4b0e680"
       ],
       "layout": "IPY_MODEL_05a811d641794a60ab144284545d5ccf"
      }
     },
     "552de30e4df743c8ae55d863afc2411c": {
      "model_module": "@jupyter-widgets/controls",
      "model_module_version": "1.5.0",
      "model_name": "ButtonModel",
      "state": {
       "button_style": "success",
       "disabled": true,
       "layout": "IPY_MODEL_599b5a8f1f5b4c049b763d628692e5d4",
       "style": "IPY_MODEL_2f4be9d2dd5b489fb219801fdec03e82"
      }
     },
     "558357256589430d84469b18be27112c": {
      "model_module": "@jupyter-widgets/base",
      "model_module_version": "1.2.0",
      "model_name": "LayoutModel",
      "state": {
       "width": "60px"
      }
     },
     "55a3c26be5c948fea1fc39e8f3f17cf0": {
      "model_module": "@jupyter-widgets/controls",
      "model_module_version": "1.5.0",
      "model_name": "LabelModel",
      "state": {
       "layout": "IPY_MODEL_a7cb5d5ecfd046049ce25a7a0ba1208a",
       "style": "IPY_MODEL_6a16610ae0d74b428f93e55f4de5da6e",
       "value": "             objective 2"
      }
     },
     "55f3dd07a41a40f7ab21384594e270ce": {
      "model_module": "@jupyter-widgets/base",
      "model_module_version": "1.2.0",
      "model_name": "LayoutModel",
      "state": {}
     },
     "5610018ac22f4e70862d5f3b32d6ec87": {
      "model_module": "@jupyter-widgets/controls",
      "model_module_version": "1.5.0",
      "model_name": "ButtonModel",
      "state": {
       "description": "Previous Page",
       "disabled": true,
       "layout": "IPY_MODEL_28219e23259c4204b040278ba40ff715",
       "style": "IPY_MODEL_fe6b005e84034540905cbad19138c4de"
      }
     },
     "5650153bbe2240d08066654a436a710e": {
      "model_module": "@jupyter-widgets/controls",
      "model_module_version": "1.5.0",
      "model_name": "ButtonModel",
      "state": {
       "layout": "IPY_MODEL_ed9b769f6b544c9fb0ea71145371c2a9",
       "style": "IPY_MODEL_04c5ea8b652b41bf87a3766a5c7f6f4e"
      }
     },
     "567aad09049e4b07943dc80c138ea07f": {
      "model_module": "@jupyter-widgets/controls",
      "model_module_version": "1.5.0",
      "model_name": "HBoxModel",
      "state": {
       "children": [
        "IPY_MODEL_8790d7eeb59c4f9c90405f365970ed79",
        "IPY_MODEL_db605a0d3e264215af6edf0445f690a4",
        "IPY_MODEL_69a7c88d1f4d40049d4ab8e9cff656b2",
        "IPY_MODEL_6354e2f0b51c4296ab88ce842a7e738b"
       ],
       "layout": "IPY_MODEL_b68199fdf6844452a5afcef5d52d4864"
      }
     },
     "5689cc078a904d758e3804ce104391f8": {
      "model_module": "@jupyter-widgets/controls",
      "model_module_version": "1.5.0",
      "model_name": "DescriptionStyleModel",
      "state": {
       "description_width": ""
      }
     },
     "569162cd67d64292a613557c358f59cc": {
      "model_module": "@jupyter-widgets/controls",
      "model_module_version": "1.5.0",
      "model_name": "DescriptionStyleModel",
      "state": {
       "description_width": ""
      }
     },
     "56abfc51513b460bbddb555d23ed20f3": {
      "model_module": "@jupyter-widgets/controls",
      "model_module_version": "1.5.0",
      "model_name": "LabelModel",
      "state": {
       "layout": "IPY_MODEL_615dc2b4160340c3afc53960ace08252",
       "style": "IPY_MODEL_dc9e323fa8e745aaa495ed39120c793c",
       "value": "             objective 5"
      }
     },
     "56beebb7d19f48c293b34e84f6deefc8": {
      "model_module": "@jupyter-widgets/controls",
      "model_module_version": "1.5.0",
      "model_name": "IntProgressModel",
      "state": {
       "layout": "IPY_MODEL_9884f60ab0a24356b9df5f2497fd2cac",
       "style": "IPY_MODEL_bd0f1267bf564488b39053f31d946331",
       "value": 30
      }
     },
     "56d0062dd38b45569024a17eedc85b57": {
      "model_module": "@jupyter-widgets/controls",
      "model_module_version": "1.5.0",
      "model_name": "ButtonStyleModel",
      "state": {}
     },
     "57005487531b499981e9e545864170c7": {
      "model_module": "@jupyter-widgets/base",
      "model_module_version": "1.2.0",
      "model_name": "LayoutModel",
      "state": {
       "overflow": "visible",
       "width": "100%"
      }
     },
     "571f989fa7734f91ae5ba556cb35ae54": {
      "model_module": "@jupyter-widgets/base",
      "model_module_version": "1.2.0",
      "model_name": "LayoutModel",
      "state": {}
     },
     "5768e3731fa14beaa35e9c15dcb51d01": {
      "model_module": "@jupyter-widgets/controls",
      "model_module_version": "1.5.0",
      "model_name": "LabelModel",
      "state": {
       "layout": "IPY_MODEL_6d8a8ff71550484798864c4285fc4b90",
       "style": "IPY_MODEL_0404289db27344828894d892054ec2dd",
       "value": "Grenade:"
      }
     },
     "5789dea2dd864b109628f99ff851ec21": {
      "model_module": "@jupyter-widgets/controls",
      "model_module_version": "1.5.0",
      "model_name": "DescriptionStyleModel",
      "state": {
       "description_width": ""
      }
     },
     "57b1eca45c254fe28433d14a94fdc6a5": {
      "model_module": "@jupyter-widgets/controls",
      "model_module_version": "1.5.0",
      "model_name": "ButtonModel",
      "state": {
       "layout": "IPY_MODEL_d28c51ec24ec479a8db1bd4daeee9600",
       "style": "IPY_MODEL_15a6b931b0874143827fe1333a0f2ecc"
      }
     },
     "57dd4cc23f56452481b04531bf4f05aa": {
      "model_module": "@jupyter-widgets/base",
      "model_module_version": "1.2.0",
      "model_name": "LayoutModel",
      "state": {
       "width": "60px"
      }
     },
     "580ff480f3be4e898817b8b383c77572": {
      "model_module": "@jupyter-widgets/controls",
      "model_module_version": "1.5.0",
      "model_name": "HTMLModel",
      "state": {
       "layout": "IPY_MODEL_49699db489b74b089aa8cf5013f64c81",
       "style": "IPY_MODEL_59636d46ad624daa99c940ea68605e1d",
       "value": "<font size=\"5\"><b>Bluff</b></font size=>"
      }
     },
     "58225b8687554299a7efa6a44c8f8c66": {
      "model_module": "@jupyter-widgets/base",
      "model_module_version": "1.2.0",
      "model_name": "LayoutModel",
      "state": {}
     },
     "58471d0989cc43ca8ccdc9d98fedcd24": {
      "model_module": "@jupyter-widgets/controls",
      "model_module_version": "1.5.0",
      "model_name": "LabelModel",
      "state": {
       "layout": "IPY_MODEL_1ae5d6bb9f544794b5058e74d09f3ba2",
       "style": "IPY_MODEL_878f08a47239403db3e75d537f75548d",
       "value": "             objective 3"
      }
     },
     "588b0d777f2c40d2a7a31bca23207c1f": {
      "model_module": "@jupyter-widgets/controls",
      "model_module_version": "1.5.0",
      "model_name": "ButtonModel",
      "state": {
       "button_style": "success",
       "disabled": true,
       "layout": "IPY_MODEL_43d77ef9305a48a7b4be608443922232",
       "style": "IPY_MODEL_7beaa94f4ef14da0a5dc11ea87c4f044"
      }
     },
     "589ff327868f4703a4f298aa90eece78": {
      "model_module": "@jupyter-widgets/base",
      "model_module_version": "1.2.0",
      "model_name": "LayoutModel",
      "state": {
       "order": "-1",
       "overflow": "visible",
       "padding": "1px",
       "width": "0px"
      }
     },
     "58de13ac733a45d8af45715554eba693": {
      "model_module": "@jupyter-widgets/controls",
      "model_module_version": "1.5.0",
      "model_name": "HBoxModel",
      "state": {
       "children": [
        "IPY_MODEL_c7e32651d3e2457796630501c4a2bd97",
        "IPY_MODEL_829651fe5ec8437581a2cf784b2a675c",
        "IPY_MODEL_e41f37eeee644f38bd097ff07abf9cdb",
        "IPY_MODEL_adee3841d27940f58ced286fd2b61b6f"
       ],
       "layout": "IPY_MODEL_a76c7b9875b04c36963e3ccd14da8b45"
      }
     },
     "594c274bd7c44ee3af8804af34e93d75": {
      "model_module": "@jupyter-widgets/controls",
      "model_module_version": "1.5.0",
      "model_name": "IntProgressModel",
      "state": {
       "bar_style": "success",
       "layout": "IPY_MODEL_dae13073d79845a5ad2cdd4693685bd9",
       "max": 1,
       "style": "IPY_MODEL_eb6648bdd4f04c24bd0b4393e3f9f723",
       "value": 1
      }
     },
     "5953310fd1b848bba14745e73e14431e": {
      "model_module": "@jupyter-widgets/controls",
      "model_module_version": "1.5.0",
      "model_name": "ProgressStyleModel",
      "state": {
       "description_width": ""
      }
     },
     "595a032e70114da6ae29e8b076f1312a": {
      "model_module": "@jupyter-widgets/base",
      "model_module_version": "1.2.0",
      "model_name": "LayoutModel",
      "state": {
       "width": "60px"
      }
     },
     "595f90f7c696410696a6871ed26744ea": {
      "model_module": "@jupyter-widgets/controls",
      "model_module_version": "1.5.0",
      "model_name": "DescriptionStyleModel",
      "state": {
       "description_width": ""
      }
     },
     "59636d46ad624daa99c940ea68605e1d": {
      "model_module": "@jupyter-widgets/controls",
      "model_module_version": "1.5.0",
      "model_name": "DescriptionStyleModel",
      "state": {
       "description_width": ""
      }
     },
     "597f72af29414be09896207efa0408e0": {
      "model_module": "@jupyter-widgets/controls",
      "model_module_version": "1.5.0",
      "model_name": "HTMLModel",
      "state": {
       "layout": "IPY_MODEL_571f989fa7734f91ae5ba556cb35ae54",
       "style": "IPY_MODEL_5fc4de6473e74560b3d8b9546f9d8bc7",
       "value": "<b>Class Options</b>"
      }
     },
     "599b5a8f1f5b4c049b763d628692e5d4": {
      "model_module": "@jupyter-widgets/base",
      "model_module_version": "1.2.0",
      "model_name": "LayoutModel",
      "state": {
       "height": "32px",
       "order": "-2",
       "width": "32px"
      }
     },
     "599b8bbfee424a43a9a9e4918f427594": {
      "model_module": "@jupyter-widgets/controls",
      "model_module_version": "1.5.0",
      "model_name": "ButtonStyleModel",
      "state": {}
     },
     "59a98ab845fb4571bc55d65598817d68": {
      "model_module": "@jupyter-widgets/base",
      "model_module_version": "1.2.0",
      "model_name": "LayoutModel",
      "state": {
       "display": "flex",
       "flex_flow": "row wrap"
      }
     },
     "59d1ac49679c4bf68fa2b2c1bcc5a461": {
      "model_module": "@jupyter-widgets/controls",
      "model_module_version": "1.5.0",
      "model_name": "LabelModel",
      "state": {
       "layout": "IPY_MODEL_3859ea61f2b84da8a05ca005dc253770",
       "style": "IPY_MODEL_155184a1802a45918d0b26517dd67007",
       "value": "             objective 5"
      }
     },
     "5a0475866f8c49c88681cbdde46b55b2": {
      "model_module": "@jupyter-widgets/controls",
      "model_module_version": "1.5.0",
      "model_name": "DescriptionStyleModel",
      "state": {
       "description_width": ""
      }
     },
     "5a1261f1dddb4c1b8302b48cacd6e0a0": {
      "model_module": "@jupyter-widgets/controls",
      "model_module_version": "1.5.0",
      "model_name": "ButtonModel",
      "state": {
       "layout": "IPY_MODEL_da2a780ab23443d69418f12d85756101",
       "style": "IPY_MODEL_42110ad4d9414d4395c61c79d0ed8da7"
      }
     },
     "5ad3ba2dae0e43e6bf5dc878263a032e": {
      "model_module": "@jupyter-widgets/controls",
      "model_module_version": "1.5.0",
      "model_name": "ButtonModel",
      "state": {
       "layout": "IPY_MODEL_272caa2a293a4c32939417d15c3dbe8d",
       "style": "IPY_MODEL_795e49d9917e4110bc2cf289aea23280"
      }
     },
     "5af45e722cb344b58dc4724b4ba41eaf": {
      "model_module": "@jupyter-widgets/controls",
      "model_module_version": "1.5.0",
      "model_name": "ProgressStyleModel",
      "state": {
       "description_width": ""
      }
     },
     "5b1e2835816e4c6c943bfa9cfeda31ea": {
      "model_module": "@jupyter-widgets/controls",
      "model_module_version": "1.5.0",
      "model_name": "LabelModel",
      "state": {
       "layout": "IPY_MODEL_31f57b9012f446d1a542cbe251e606af",
       "style": "IPY_MODEL_8f260d052a984bc7b0f7399fc2bfdc07",
       "value": "     Final blows (148/100)"
      }
     },
     "5bb9759bee154c20938606008d4b99f0": {
      "model_module": "@jupyter-widgets/controls",
      "model_module_version": "1.5.0",
      "model_name": "ButtonModel",
      "state": {
       "description": "EDIT",
       "layout": "IPY_MODEL_fd9ff119be91467e832daa9164e16191",
       "style": "IPY_MODEL_5fe84ca73fa94ca7945ad37cd06a7488"
      }
     },
     "5c9f3bffcf68419494f90e7e72c29e87": {
      "model_module": "@jupyter-widgets/base",
      "model_module_version": "1.2.0",
      "model_name": "LayoutModel",
      "state": {
       "height": "32px",
       "overflow": "visible",
       "padding": "0px",
       "width": "100%"
      }
     },
     "5ca2b5b8d139408fbe056cc4a91330a1": {
      "model_module": "@jupyter-widgets/controls",
      "model_module_version": "1.5.0",
      "model_name": "ProgressStyleModel",
      "state": {
       "description_width": ""
      }
     },
     "5cb2bc6575194d99a2160526eb940cf3": {
      "model_module": "@jupyter-widgets/base",
      "model_module_version": "1.2.0",
      "model_name": "LayoutModel",
      "state": {}
     },
     "5d79c30d8f6a4803b557546ce34d582d": {
      "model_module": "@jupyter-widgets/base",
      "model_module_version": "1.2.0",
      "model_name": "LayoutModel",
      "state": {
       "height": "32px",
       "order": "-2",
       "width": "32px"
      }
     },
     "5e271dd03fbd4339bec434198445027a": {
      "model_module": "@jupyter-widgets/controls",
      "model_module_version": "1.5.0",
      "model_name": "IntProgressModel",
      "state": {
       "layout": "IPY_MODEL_f92860ae49f1437da38f544278148d94",
       "style": "IPY_MODEL_c6913dde709745d2bc708be7f409e45f",
       "value": 30
      }
     },
     "5f056a54db43400fafec9e631f7c36aa": {
      "model_module": "@jupyter-widgets/controls",
      "model_module_version": "1.5.0",
      "model_name": "ButtonStyleModel",
      "state": {}
     },
     "5f5c955bc0af4420ad5144b0f057cdf6": {
      "model_module": "@jupyter-widgets/controls",
      "model_module_version": "1.5.0",
      "model_name": "ButtonModel",
      "state": {
       "description": "EDIT",
       "layout": "IPY_MODEL_41fec607b43e4f778342d812dc0ee229",
       "style": "IPY_MODEL_79e9d42248d54e888daf63a9329dc81b"
      }
     },
     "5f605e5948784a90ad5e33b2d37d0b17": {
      "model_module": "@jupyter-widgets/controls",
      "model_module_version": "1.5.0",
      "model_name": "LabelModel",
      "state": {
       "layout": "IPY_MODEL_00c2378b32254d8e81260814290bcdae",
       "style": "IPY_MODEL_e8ae79cf6801453ea990e540a12f72d0",
       "value": "             objective 2"
      }
     },
     "5f74642ef67046cc9e41f326623d7b2f": {
      "model_module": "@jupyter-widgets/controls",
      "model_module_version": "1.5.0",
      "model_name": "ButtonModel",
      "state": {
       "description": "EDIT",
       "layout": "IPY_MODEL_aab73acdffa642bda00b6e252af3f202",
       "style": "IPY_MODEL_33e038b716004877bd17843e66dde81b"
      }
     },
     "5fab4fde3cbd4f7f993a80f849cc71a1": {
      "model_module": "@jupyter-widgets/controls",
      "model_module_version": "1.5.0",
      "model_name": "ButtonStyleModel",
      "state": {}
     },
     "5fc4de6473e74560b3d8b9546f9d8bc7": {
      "model_module": "@jupyter-widgets/controls",
      "model_module_version": "1.5.0",
      "model_name": "DescriptionStyleModel",
      "state": {
       "description_width": ""
      }
     },
     "5fc5fff2ebd3457c89b240d33bd241eb": {
      "model_module": "@jupyter-widgets/base",
      "model_module_version": "1.2.0",
      "model_name": "LayoutModel",
      "state": {
       "display": "none"
      }
     },
     "5fe84ca73fa94ca7945ad37cd06a7488": {
      "model_module": "@jupyter-widgets/controls",
      "model_module_version": "1.5.0",
      "model_name": "ButtonStyleModel",
      "state": {}
     },
     "604f32f3317c4cdc906d2837bf48e005": {
      "model_module": "@jupyter-widgets/controls",
      "model_module_version": "1.5.0",
      "model_name": "HBoxModel",
      "state": {
       "children": [
        "IPY_MODEL_f73b4e6277f746c9b4853bba2ea9fed7",
        "IPY_MODEL_ab0bbaf9fe8e4144a9182407d9c2a0e7",
        "IPY_MODEL_2d9c5f9287894e3096e2eee00223b748",
        "IPY_MODEL_1f2df663137149729032462a2e91acc4"
       ],
       "layout": "IPY_MODEL_3f8acbd377784f26a75073507b051451"
      }
     },
     "606e299758b548a9b0e376fbb85f73a5": {
      "model_module": "@jupyter-widgets/controls",
      "model_module_version": "1.5.0",
      "model_name": "ButtonStyleModel",
      "state": {}
     },
     "60770479f3a244b39a1cd8f8171f524e": {
      "model_module": "@jupyter-widgets/controls",
      "model_module_version": "1.5.0",
      "model_name": "HTMLModel",
      "state": {
       "layout": "IPY_MODEL_134e95c995c0479b95a2d08430622b65",
       "style": "IPY_MODEL_11fca31a631d4ab8a02587948a793c32",
       "value": "<font size=\"5\"><b>Winner Take All</b></font size=>"
      }
     },
     "60fce0f445ea4a92915b7dbc8228bce5": {
      "model_module": "@jupyter-widgets/controls",
      "model_module_version": "1.5.0",
      "model_name": "HBoxModel",
      "state": {
       "children": [
        "IPY_MODEL_377bb490329240acaa87571f749b0cac",
        "IPY_MODEL_10a7e7f5629d46b7bf0517783855643a",
        "IPY_MODEL_cd8d5155a6ac40ca95494aa79321cdcf",
        "IPY_MODEL_2cf336ee797444498ea717221132a299"
       ],
       "layout": "IPY_MODEL_6141bda24abf4e088435a97b011a1798"
      }
     },
     "612e9741856545d3be4f15e9252283d6": {
      "model_module": "@jupyter-widgets/base",
      "model_module_version": "1.2.0",
      "model_name": "LayoutModel",
      "state": {
       "width": "60px"
      }
     },
     "6141bda24abf4e088435a97b011a1798": {
      "model_module": "@jupyter-widgets/base",
      "model_module_version": "1.2.0",
      "model_name": "LayoutModel",
      "state": {
       "display": "none"
      }
     },
     "615dc2b4160340c3afc53960ace08252": {
      "model_module": "@jupyter-widgets/base",
      "model_module_version": "1.2.0",
      "model_name": "LayoutModel",
      "state": {
       "order": "-1",
       "overflow": "visible",
       "padding": "1px",
       "width": "0px"
      }
     },
     "619d752c12dd4ffa85b11e2c1edd21dc": {
      "model_module": "@jupyter-widgets/controls",
      "model_module_version": "1.5.0",
      "model_name": "ButtonStyleModel",
      "state": {}
     },
     "6200d84c5bf24366b0fb1465263b76f6": {
      "model_module": "@jupyter-widgets/controls",
      "model_module_version": "1.5.0",
      "model_name": "ButtonStyleModel",
      "state": {}
     },
     "6209ec3235184b3ba030e9264042b3ae": {
      "model_module": "@jupyter-widgets/base",
      "model_module_version": "1.2.0",
      "model_name": "LayoutModel",
      "state": {
       "width": "60px"
      }
     },
     "6234124532c940eb9d5e67881454f750": {
      "model_module": "@jupyter-widgets/controls",
      "model_module_version": "1.5.0",
      "model_name": "BoxModel",
      "state": {
       "layout": "IPY_MODEL_3fc045ecc6f2435c927ec7725208dfa4"
      }
     },
     "629f809281504260a9c38ac6fced70a2": {
      "model_module": "@jupyter-widgets/controls",
      "model_module_version": "1.5.0",
      "model_name": "LabelModel",
      "state": {
       "layout": "IPY_MODEL_7b2c155bf81e4f879a45725ea18038f5",
       "style": "IPY_MODEL_39f22bc0c27340778ec70631091c8175",
       "value": "     (1/1)"
      }
     },
     "62bfc69118144d8db75d9709eb19ee42": {
      "model_module": "@jupyter-widgets/controls",
      "model_module_version": "1.5.0",
      "model_name": "LabelModel",
      "state": {
       "layout": "IPY_MODEL_3859ea61f2b84da8a05ca005dc253770",
       "style": "IPY_MODEL_98efd02a443f4cfe814558e1b93c9709",
       "value": "             objective 3"
      }
     },
     "62dcc1041dee45d684ddf5d3b1d15c9e": {
      "model_module": "@jupyter-widgets/controls",
      "model_module_version": "1.5.0",
      "model_name": "LabelModel",
      "state": {
       "layout": "IPY_MODEL_7b2c155bf81e4f879a45725ea18038f5",
       "style": "IPY_MODEL_2f1149987a694fe8be6a8d04cd7599ba",
       "value": "             objective 5"
      }
     },
     "635323644d2d44b7a77090d8b0dfd5d6": {
      "model_module": "@jupyter-widgets/controls",
      "model_module_version": "1.5.0",
      "model_name": "HTMLModel",
      "state": {
       "layout": "IPY_MODEL_899bc7fea038498186f8597db52d59d3",
       "style": "IPY_MODEL_22d9ebd2bd5d4b5e98ab5987d58d8c26",
       "value": "<i></i>"
      }
     },
     "6354e2f0b51c4296ab88ce842a7e738b": {
      "model_module": "@jupyter-widgets/controls",
      "model_module_version": "1.5.0",
      "model_name": "ButtonModel",
      "state": {
       "description": "EDIT",
       "layout": "IPY_MODEL_78472d21ef9b4eb59031873bdf6f6b62",
       "style": "IPY_MODEL_37b51b077d564921be17a7331b51aaf4"
      }
     },
     "6363286a58f54db09fbbf73876259b30": {
      "model_module": "@jupyter-widgets/controls",
      "model_module_version": "1.5.0",
      "model_name": "ProgressStyleModel",
      "state": {
       "description_width": ""
      }
     },
     "6368289b9f114592a81f0e4edf2b14fb": {
      "model_module": "@jupyter-widgets/controls",
      "model_module_version": "1.5.0",
      "model_name": "DescriptionStyleModel",
      "state": {
       "description_width": ""
      }
     },
     "63dc786ab7174736949d3436a93c41d2": {
      "model_module": "@jupyter-widgets/controls",
      "model_module_version": "1.5.0",
      "model_name": "LabelModel",
      "state": {
       "layout": "IPY_MODEL_6d8a8ff71550484798864c4285fc4b90",
       "style": "IPY_MODEL_28ddb5c8450249d8befdb2a77971861d",
       "value": "Tree:"
      }
     },
     "63f347048bc941b2af7ea0a07420ca16": {
      "model_module": "@jupyter-widgets/controls",
      "model_module_version": "1.5.0",
      "model_name": "DescriptionStyleModel",
      "state": {
       "description_width": ""
      }
     },
     "64086e148d0a4c7eb4ddfd54f5d29970": {
      "model_module": "@jupyter-widgets/base",
      "model_module_version": "1.2.0",
      "model_name": "LayoutModel",
      "state": {}
     },
     "642a3b7320af4646a4da9bda48e70c23": {
      "model_module": "@jupyter-widgets/controls",
      "model_module_version": "1.5.0",
      "model_name": "ProgressStyleModel",
      "state": {
       "description_width": ""
      }
     },
     "649e34b4a17b4f358df0f0d6d88a6f65": {
      "model_module": "@jupyter-widgets/controls",
      "model_module_version": "1.5.0",
      "model_name": "ButtonStyleModel",
      "state": {}
     },
     "64c5887f37ee44e898ba5425b7511fbf": {
      "model_module": "@jupyter-widgets/controls",
      "model_module_version": "1.5.0",
      "model_name": "HBoxModel",
      "state": {
       "children": [
        "IPY_MODEL_5650153bbe2240d08066654a436a710e",
        "IPY_MODEL_d3bdf2044d7742ddba4209a47c2f57ba",
        "IPY_MODEL_981192c839bf42d390fcc290980664f8",
        "IPY_MODEL_e00c8399ab3643aa97e8d1a3fb55bfa8"
       ],
       "layout": "IPY_MODEL_7c51a837c2974ceb820b8d0116b0d4f8"
      }
     },
     "64e4cc72261846d1abf47e43e0b431a2": {
      "model_module": "@jupyter-widgets/controls",
      "model_module_version": "1.5.0",
      "model_name": "HTMLModel",
      "state": {
       "layout": "IPY_MODEL_fdf4df81b8b24d5ba5540b165d8a283a",
       "style": "IPY_MODEL_b602c99c4e51483ca36f6beadd2890ed",
       "value": "<b>Gear Options</b>"
      }
     },
     "64f5a11a64e14fad91c497415f5b552e": {
      "model_module": "@jupyter-widgets/controls",
      "model_module_version": "1.5.0",
      "model_name": "LabelModel",
      "state": {
       "layout": "IPY_MODEL_0aff27b43c464f5fba0a413915483f81",
       "style": "IPY_MODEL_07a42e56c5904a02a5c736ddc3b5de46",
       "value": "             objective 1"
      }
     },
     "651d42054e5a440cb254098856194422": {
      "model_module": "@jupyter-widgets/controls",
      "model_module_version": "1.5.0",
      "model_name": "DescriptionStyleModel",
      "state": {
       "description_width": ""
      }
     },
     "6531c7691a394366acb40460b242fcc5": {
      "model_module": "@jupyter-widgets/controls",
      "model_module_version": "1.5.0",
      "model_name": "HBoxModel",
      "state": {
       "children": [
        "IPY_MODEL_de79256935f14643911f0ecfcfec6acd",
        "IPY_MODEL_bd58f3ce3f454c74ba9f4ee9d86f4210",
        "IPY_MODEL_945c8b74bbab45678fcfe3db656fcfb4",
        "IPY_MODEL_004ec11ddddf45de80009fd24c550e9c",
        "IPY_MODEL_70875a958f2a469c92a521bdf4b33002"
       ],
       "layout": "IPY_MODEL_15e9ca84b38c40fd80cd70c5a7d2bbfa"
      }
     },
     "653619302f084845baba6bf03e6cdb1d": {
      "model_module": "@jupyter-widgets/controls",
      "model_module_version": "1.5.0",
      "model_name": "IntProgressModel",
      "state": {
       "layout": "IPY_MODEL_a82a1fc7a2e743c0a15fd29efd4506b9",
       "style": "IPY_MODEL_1caa4fe7649d4057af9b425303417326",
       "value": 30
      }
     },
     "6543a73cef0a4d4a9582dc55766a24e2": {
      "model_module": "@jupyter-widgets/controls",
      "model_module_version": "1.5.0",
      "model_name": "DescriptionStyleModel",
      "state": {
       "description_width": ""
      }
     },
     "6564e495b8b44fd2ba1a1172d24776d8": {
      "model_module": "@jupyter-widgets/controls",
      "model_module_version": "1.5.0",
      "model_name": "VBoxModel",
      "state": {
       "children": [
        "IPY_MODEL_bef7f31bef5d43daaaa08b4bdda0d052",
        "IPY_MODEL_6cfe8a5bc94440b8a36cc2a16bfff9bb",
        "IPY_MODEL_82eecd401a554d04ab3b3b334a76c0cf",
        "IPY_MODEL_9400bc4649e3464f9c9afce76006309a",
        "IPY_MODEL_83eafcad83d34f93a261052e4df8b896",
        "IPY_MODEL_3efbd787dcd240b29ba5a377890b93c2"
       ],
       "layout": "IPY_MODEL_27412d191f6148efab292e88fdb2e043"
      }
     },
     "65a9c248ed294d88b6f93f9cbf70a72f": {
      "model_module": "@jupyter-widgets/base",
      "model_module_version": "1.2.0",
      "model_name": "LayoutModel",
      "state": {
       "width": "60px"
      }
     },
     "65bf6862948c4c4ea6a697777982e4d8": {
      "model_module": "@jupyter-widgets/controls",
      "model_module_version": "1.5.0",
      "model_name": "ButtonStyleModel",
      "state": {}
     },
     "65eab0865f8c48768793b40b7b8beaf9": {
      "model_module": "@jupyter-widgets/base",
      "model_module_version": "1.2.0",
      "model_name": "LayoutModel",
      "state": {
       "width": "60px"
      }
     },
     "66240bd069e24f5d8dcf9d15c75ad780": {
      "model_module": "@jupyter-widgets/controls",
      "model_module_version": "1.5.0",
      "model_name": "HBoxModel",
      "state": {
       "children": [
        "IPY_MODEL_31b38c163ff14cef9298b5b9bebbcc97",
        "IPY_MODEL_117e3a59836b4999877c57c024b46f79",
        "IPY_MODEL_27dd60577b5d49ed82e9effccf56b283",
        "IPY_MODEL_5f74642ef67046cc9e41f326623d7b2f"
       ],
       "layout": "IPY_MODEL_4afcf8746e6b4180b7f809012fb2b826"
      }
     },
     "6663ec2699ab4fc0a206e6c9820c5a2e": {
      "model_module": "@jupyter-widgets/controls",
      "model_module_version": "1.5.0",
      "model_name": "ButtonModel",
      "state": {
       "layout": "IPY_MODEL_fbaa08c360764d01827b54400b084e59",
       "style": "IPY_MODEL_80542a61d8ed42868ada483db07c95f0"
      }
     },
     "666e7132fcc2477aa89621e94dc7dacd": {
      "model_module": "@jupyter-widgets/base",
      "model_module_version": "1.2.0",
      "model_name": "LayoutModel",
      "state": {
       "display": "none"
      }
     },
     "6683154c946747a29f89932ed8a75405": {
      "model_module": "@jupyter-widgets/base",
      "model_module_version": "1.2.0",
      "model_name": "LayoutModel",
      "state": {
       "overflow": "visible",
       "width": "100%"
      }
     },
     "668dd458c56c473085fd52fab74a864c": {
      "model_module": "@jupyter-widgets/controls",
      "model_module_version": "1.5.0",
      "model_name": "ButtonModel",
      "state": {
       "button_style": "success",
       "disabled": true,
       "layout": "IPY_MODEL_0b0c599a42ff4eb5af1d8e8de60b3891",
       "style": "IPY_MODEL_ee48611db3d24a439cfc85bd84bd43ea"
      }
     },
     "6690bc4e3afe4c9aabca7217aa6a5ed0": {
      "model_module": "@jupyter-widgets/controls",
      "model_module_version": "1.5.0",
      "model_name": "DescriptionStyleModel",
      "state": {
       "description_width": ""
      }
     },
     "675c728f0f5440c486131427d564958e": {
      "model_module": "@jupyter-widgets/controls",
      "model_module_version": "1.5.0",
      "model_name": "LabelModel",
      "state": {
       "layout": "IPY_MODEL_939c3062f6a94613ac94feda256c50fa",
       "style": "IPY_MODEL_1bb783abc1d54db3a4b1df1b50da0827",
       "value": "             objective 4"
      }
     },
     "67c80aa0345b45b394124005c7e29832": {
      "model_module": "@jupyter-widgets/controls",
      "model_module_version": "1.5.0",
      "model_name": "ButtonStyleModel",
      "state": {}
     },
     "6800966f80d14401a5d9e22f2c889fe3": {
      "model_module": "@jupyter-widgets/base",
      "model_module_version": "1.2.0",
      "model_name": "LayoutModel",
      "state": {
       "order": "-1",
       "overflow": "visible",
       "padding": "1px",
       "width": "0px"
      }
     },
     "68030fa85d8c4d91ac5a8c3f4484c399": {
      "model_module": "@jupyter-widgets/controls",
      "model_module_version": "1.5.0",
      "model_name": "ProgressStyleModel",
      "state": {
       "description_width": ""
      }
     },
     "6866172dd0804d8b9c82447c6437e869": {
      "model_module": "@jupyter-widgets/controls",
      "model_module_version": "1.5.0",
      "model_name": "DescriptionStyleModel",
      "state": {
       "description_width": ""
      }
     },
     "687e006bc0c34c1090d73154530425a7": {
      "model_module": "@jupyter-widgets/controls",
      "model_module_version": "1.5.0",
      "model_name": "DescriptionStyleModel",
      "state": {
       "description_width": ""
      }
     },
     "68aee86195534199a1b85a92bfd2f9d4": {
      "model_module": "@jupyter-widgets/controls",
      "model_module_version": "1.5.0",
      "model_name": "HTMLModel",
      "state": {
       "layout": "IPY_MODEL_b122133cb35a402885ed0e5ae857271c",
       "style": "IPY_MODEL_5a0475866f8c49c88681cbdde46b55b2",
       "value": "<i></i>"
      }
     },
     "69a7c88d1f4d40049d4ab8e9cff656b2": {
      "model_module": "@jupyter-widgets/controls",
      "model_module_version": "1.5.0",
      "model_name": "LabelModel",
      "state": {
       "layout": "IPY_MODEL_1ae5d6bb9f544794b5058e74d09f3ba2",
       "style": "IPY_MODEL_99599b7dd0a94667862cdfd86a4bf7d0",
       "value": "             objective 4"
      }
     },
     "69f734723d4342a390537111151b4226": {
      "model_module": "@jupyter-widgets/controls",
      "model_module_version": "1.5.0",
      "model_name": "ButtonModel",
      "state": {
       "button_style": "success",
       "disabled": true,
       "layout": "IPY_MODEL_35f6c9c4599841f5aa420dbb401fcad6",
       "style": "IPY_MODEL_7fde341f9729401f8278dde443bba84d"
      }
     },
     "6a16610ae0d74b428f93e55f4de5da6e": {
      "model_module": "@jupyter-widgets/controls",
      "model_module_version": "1.5.0",
      "model_name": "DescriptionStyleModel",
      "state": {
       "description_width": ""
      }
     },
     "6a2a47d81e8b43e9bc49a784e9009708": {
      "model_module": "@jupyter-widgets/controls",
      "model_module_version": "1.5.0",
      "model_name": "ButtonModel",
      "state": {
       "description": "EDIT",
       "layout": "IPY_MODEL_cc118734359349ada85fce687ee3b0c6",
       "style": "IPY_MODEL_619d752c12dd4ffa85b11e2c1edd21dc"
      }
     },
     "6a325f4ff97c42008d233394136c2699": {
      "model_module": "@jupyter-widgets/controls",
      "model_module_version": "1.5.0",
      "model_name": "DescriptionStyleModel",
      "state": {
       "description_width": ""
      }
     },
     "6a5ceacc01164af5b34a51d3dd4db0be": {
      "model_module": "@jupyter-widgets/base",
      "model_module_version": "1.2.0",
      "model_name": "LayoutModel",
      "state": {}
     },
     "6a986c03ed9e419c8b8144d9767f8166": {
      "model_module": "@jupyter-widgets/controls",
      "model_module_version": "1.5.0",
      "model_name": "DescriptionStyleModel",
      "state": {
       "description_width": ""
      }
     },
     "6aa18a87e41f465dbc8e11a87fae9276": {
      "model_module": "@jupyter-widgets/base",
      "model_module_version": "1.2.0",
      "model_name": "LayoutModel",
      "state": {
       "width": "60px"
      }
     },
     "6ad7e5c618bc4e44b5d48c10d8f9d087": {
      "model_module": "@jupyter-widgets/controls",
      "model_module_version": "1.5.0",
      "model_name": "DescriptionStyleModel",
      "state": {
       "description_width": ""
      }
     },
     "6ae385e9b1a348b2b21fc8ab1647da0d": {
      "model_module": "@jupyter-widgets/base",
      "model_module_version": "1.2.0",
      "model_name": "LayoutModel",
      "state": {
       "width": "60px"
      }
     },
     "6b047dbe0ce24b2fb2521f9c2cfaa0af": {
      "model_module": "@jupyter-widgets/controls",
      "model_module_version": "1.5.0",
      "model_name": "HBoxModel",
      "state": {
       "children": [
        "IPY_MODEL_911c8979aaec49e685eec65d210f37ba",
        "IPY_MODEL_8f263e8c1bed465fbfcd77b4cff05e8f",
        "IPY_MODEL_45f4538f596a4c7a8624f595251a525d",
        "IPY_MODEL_b37eeacad18d48a89815a5526224097b"
       ],
       "layout": "IPY_MODEL_8e89f4acaebc4a0294ca06084fde49ca"
      }
     },
     "6b06b545b35b49a6906920cd3fbbc7fa": {
      "model_module": "@jupyter-widgets/base",
      "model_module_version": "1.2.0",
      "model_name": "LayoutModel",
      "state": {}
     },
     "6b5064da7f13468f94f60580d1ab78e9": {
      "model_module": "@jupyter-widgets/controls",
      "model_module_version": "1.5.0",
      "model_name": "ButtonStyleModel",
      "state": {}
     },
     "6b95a9ef1aac47919f52ca4a2eff6747": {
      "model_module": "@jupyter-widgets/base",
      "model_module_version": "1.2.0",
      "model_name": "LayoutModel",
      "state": {
       "display": "flex",
       "flex_flow": "row wrap"
      }
     },
     "6bbe3977b6584c238d12786fbe44062a": {
      "model_module": "@jupyter-widgets/controls",
      "model_module_version": "1.5.0",
      "model_name": "HBoxModel",
      "state": {
       "children": [
        "IPY_MODEL_2ac28551dab44453b179061c50141095",
        "IPY_MODEL_03859f7a19104805855c57bad3a7188b",
        "IPY_MODEL_d753481fbc2f4ba5869f2782492a3ed6",
        "IPY_MODEL_d1dd34f28e5448dab6a5181681573252"
       ],
       "layout": "IPY_MODEL_bb9b131e744240f9b8a9ef72ee1c0b2d"
      }
     },
     "6bca32d36e6f47e79b562536c92798bb": {
      "model_module": "@jupyter-widgets/controls",
      "model_module_version": "1.5.0",
      "model_name": "ProgressStyleModel",
      "state": {
       "description_width": ""
      }
     },
     "6bdeb70e86a644608a8575c19d05ac43": {
      "model_module": "@jupyter-widgets/controls",
      "model_module_version": "1.5.0",
      "model_name": "DescriptionStyleModel",
      "state": {
       "description_width": ""
      }
     },
     "6be2c288bb004d6cb436791347099673": {
      "model_module": "@jupyter-widgets/controls",
      "model_module_version": "1.5.0",
      "model_name": "ButtonStyleModel",
      "state": {}
     },
     "6bfbe56fc3a2407cba98985eba2e764d": {
      "model_module": "@jupyter-widgets/controls",
      "model_module_version": "1.5.0",
      "model_name": "HBoxModel",
      "state": {
       "children": [
        "IPY_MODEL_a727b8fe8f1e49659043bd46ee25e9e8",
        "IPY_MODEL_09eb30d9867f42f5937bdcc733958134",
        "IPY_MODEL_28ac00eaba5b4787b358455a7f278913",
        "IPY_MODEL_f818208916724fe0b951c69d6e5d4ca9"
       ],
       "layout": "IPY_MODEL_b539e0aa1f824043bd33f874a91618d5"
      }
     },
     "6bfdc7373ac84a4aadc46c84c9ff0ff9": {
      "model_module": "@jupyter-widgets/controls",
      "model_module_version": "1.5.0",
      "model_name": "ProgressStyleModel",
      "state": {
       "description_width": ""
      }
     },
     "6c103d71d1e94407aad287099815f013": {
      "model_module": "@jupyter-widgets/controls",
      "model_module_version": "1.5.0",
      "model_name": "ButtonStyleModel",
      "state": {}
     },
     "6c3c3577f7af499eb23a7a91c269b927": {
      "model_module": "@jupyter-widgets/base",
      "model_module_version": "1.2.0",
      "model_name": "LayoutModel",
      "state": {
       "overflow": "visible",
       "width": "100%"
      }
     },
     "6c5683e8a3954251ad6a1f56eae038c2": {
      "model_module": "@jupyter-widgets/controls",
      "model_module_version": "1.5.0",
      "model_name": "IntProgressModel",
      "state": {
       "layout": "IPY_MODEL_7d75f75f80a04d3a8d499c3632c26161",
       "style": "IPY_MODEL_6c8ceec51e6f405bb8046f4c4540aa47",
       "value": 30
      }
     },
     "6c591cb9ce3f403ea993b11b71dfd5c0": {
      "model_module": "@jupyter-widgets/controls",
      "model_module_version": "1.5.0",
      "model_name": "LabelModel",
      "state": {
       "layout": "IPY_MODEL_ba2d398ea8ae4123a65f224f3e78034a",
       "style": "IPY_MODEL_c748e5cd48034eb99fea2e3e1025226a",
       "value": "             objective 3"
      }
     },
     "6c6e8678474d494ea86ce88d77db85f3": {
      "model_module": "@jupyter-widgets/controls",
      "model_module_version": "1.5.0",
      "model_name": "ButtonModel",
      "state": {
       "layout": "IPY_MODEL_0b0c599a42ff4eb5af1d8e8de60b3891",
       "style": "IPY_MODEL_5fab4fde3cbd4f7f993a80f849cc71a1"
      }
     },
     "6c7c02b2c21f468e9c338114465d1d91": {
      "model_module": "@jupyter-widgets/base",
      "model_module_version": "1.2.0",
      "model_name": "LayoutModel",
      "state": {
       "height": "32px",
       "order": "-2",
       "width": "32px"
      }
     },
     "6c831386cf3c446983e8d6dd4de78257": {
      "model_module": "@jupyter-widgets/controls",
      "model_module_version": "1.5.0",
      "model_name": "DescriptionStyleModel",
      "state": {
       "description_width": ""
      }
     },
     "6c8ceec51e6f405bb8046f4c4540aa47": {
      "model_module": "@jupyter-widgets/controls",
      "model_module_version": "1.5.0",
      "model_name": "ProgressStyleModel",
      "state": {
       "description_width": ""
      }
     },
     "6cb2cd90ede64ab7b7ca9eea0b704c39": {
      "model_module": "@jupyter-widgets/controls",
      "model_module_version": "1.5.0",
      "model_name": "DescriptionStyleModel",
      "state": {
       "description_width": ""
      }
     },
     "6cb5258175ab401f92c294498d10682c": {
      "model_module": "@jupyter-widgets/controls",
      "model_module_version": "1.5.0",
      "model_name": "LabelModel",
      "state": {
       "layout": "IPY_MODEL_0aff27b43c464f5fba0a413915483f81",
       "style": "IPY_MODEL_fc8f5b55b1de43ea87115459113f355e",
       "value": "     (1/1)"
      }
     },
     "6cfe8a5bc94440b8a36cc2a16bfff9bb": {
      "model_module": "@jupyter-widgets/controls",
      "model_module_version": "1.5.0",
      "model_name": "HBoxModel",
      "state": {
       "children": [
        "IPY_MODEL_81ea763fe0cd46099f8abcc671657f63",
        "IPY_MODEL_ea103b9f744c4054ab9f69156d03eb7f",
        "IPY_MODEL_38e83ae136564565853a6da9aee40e62",
        "IPY_MODEL_d7006d5f534543dc87ca34e633d5820f"
       ],
       "layout": "IPY_MODEL_d918d5100c7a4ffcaf192eff34c0bcd7"
      }
     },
     "6d109bdfe2ee4db1a02839083c137db8": {
      "model_module": "@jupyter-widgets/base",
      "model_module_version": "1.2.0",
      "model_name": "LayoutModel",
      "state": {
       "border": "3px solid white",
       "display": "flex",
       "margin": "10px",
       "overflow": "visible",
       "padding": "10px",
       "width": "400px"
      }
     },
     "6d1175cd78b6484d8ad9fd7ceab59fbe": {
      "model_module": "@jupyter-widgets/base",
      "model_module_version": "1.2.0",
      "model_name": "LayoutModel",
      "state": {
       "display": "none"
      }
     },
     "6d6b8f85f0d8494ea1649f6c4e4fbfe7": {
      "model_module": "@jupyter-widgets/controls",
      "model_module_version": "1.5.0",
      "model_name": "DescriptionStyleModel",
      "state": {
       "description_width": ""
      }
     },
     "6d8a8ff71550484798864c4285fc4b90": {
      "model_module": "@jupyter-widgets/base",
      "model_module_version": "1.2.0",
      "model_name": "LayoutModel",
      "state": {
       "height": "100%",
       "width": "98%"
      }
     },
     "6db3523f5ce941d0933f5cd56cb84dbe": {
      "model_module": "@jupyter-widgets/controls",
      "model_module_version": "1.5.0",
      "model_name": "DescriptionStyleModel",
      "state": {
       "description_width": ""
      }
     },
     "6e350f2b63e7491bbbdb8c0e79f68e82": {
      "model_module": "@jupyter-widgets/controls",
      "model_module_version": "1.5.0",
      "model_name": "ProgressStyleModel",
      "state": {
       "description_width": ""
      }
     },
     "6e5d5da16bd44e86b3fecbdfadcf3ed5": {
      "model_module": "@jupyter-widgets/controls",
      "model_module_version": "1.5.0",
      "model_name": "ButtonStyleModel",
      "state": {}
     },
     "6e68e85abfa643679be23193b0619b6e": {
      "model_module": "@jupyter-widgets/controls",
      "model_module_version": "1.5.0",
      "model_name": "DescriptionStyleModel",
      "state": {
       "description_width": ""
      }
     },
     "6f571b10c0384bb3937bb72eff8da1d4": {
      "model_module": "@jupyter-widgets/controls",
      "model_module_version": "1.5.0",
      "model_name": "ButtonModel",
      "state": {
       "description": "EDIT",
       "layout": "IPY_MODEL_57dd4cc23f56452481b04531bf4f05aa",
       "style": "IPY_MODEL_8ca4ba2d2fd2444dbc0a2e16b4fc9080"
      }
     },
     "6ff353c99c074a05a2b27fa8568dcdd2": {
      "model_module": "@jupyter-widgets/base",
      "model_module_version": "1.2.0",
      "model_name": "LayoutModel",
      "state": {
       "display": "flex",
       "flex_flow": "row wrap"
      }
     },
     "701d8e9d6ec644419d38bd0271170e07": {
      "model_module": "@jupyter-widgets/controls",
      "model_module_version": "1.5.0",
      "model_name": "LabelModel",
      "state": {
       "layout": "IPY_MODEL_939c3062f6a94613ac94feda256c50fa",
       "style": "IPY_MODEL_a0f22e87ac5546b7865db8295d28a41c",
       "value": "             objective 3"
      }
     },
     "7059ac4b70fa40c5b919867698468b4d": {
      "model_module": "@jupyter-widgets/base",
      "model_module_version": "1.2.0",
      "model_name": "LayoutModel",
      "state": {
       "overflow": "visible",
       "width": "100%"
      }
     },
     "70875a958f2a469c92a521bdf4b33002": {
      "model_module": "@jupyter-widgets/controls",
      "model_module_version": "1.5.0",
      "model_name": "DropdownModel",
      "state": {
       "_options_labels": [
        "Any",
        "Primary",
        "Secondary",
        "Heavy"
       ],
       "index": 0,
       "layout": "IPY_MODEL_3fc045ecc6f2435c927ec7725208dfa4",
       "style": "IPY_MODEL_c11b2ab0bde540a793d02635fed6106e"
      }
     },
     "708c5d8a57594946b72451241f270738": {
      "model_module": "@jupyter-widgets/base",
      "model_module_version": "1.2.0",
      "model_name": "LayoutModel",
      "state": {
       "border": "3px solid white",
       "display": "flex",
       "margin": "10px",
       "overflow": "visible",
       "padding": "10px",
       "width": "400px"
      }
     },
     "70a2156c045d4bd591276dfc0e6d9c21": {
      "model_module": "@jupyter-widgets/base",
      "model_module_version": "1.2.0",
      "model_name": "LayoutModel",
      "state": {
       "overflow": "visible",
       "width": "100%"
      }
     },
     "70c20715ce814f519e60b99aff4d4f88": {
      "model_module": "@jupyter-widgets/controls",
      "model_module_version": "1.5.0",
      "model_name": "ButtonStyleModel",
      "state": {}
     },
     "70f041dd5099429cb7bfe957ed14d28b": {
      "model_module": "@jupyter-widgets/controls",
      "model_module_version": "1.5.0",
      "model_name": "LabelModel",
      "state": {
       "layout": "IPY_MODEL_31f57b9012f446d1a542cbe251e606af",
       "style": "IPY_MODEL_2d961dd90d1d41078cbf0a3de9e89aa4",
       "value": "             objective 5"
      }
     },
     "710b7cf7405d402d98841585008e2fb1": {
      "model_module": "@jupyter-widgets/controls",
      "model_module_version": "1.5.0",
      "model_name": "LabelModel",
      "state": {
       "layout": "IPY_MODEL_939c3062f6a94613ac94feda256c50fa",
       "style": "IPY_MODEL_6a325f4ff97c42008d233394136c2699",
       "value": "             objective 2"
      }
     },
     "714a0d8b1cd34f7b8f4339b33ac0d55b": {
      "model_module": "@jupyter-widgets/controls",
      "model_module_version": "1.5.0",
      "model_name": "ButtonStyleModel",
      "state": {}
     },
     "7158e62ad4354fad9db8400744de50c6": {
      "model_module": "@jupyter-widgets/controls",
      "model_module_version": "1.5.0",
      "model_name": "VBoxModel",
      "state": {
       "children": [
        "IPY_MODEL_ca79e6154ba1406b96280de88023ac35",
        "IPY_MODEL_b519ceb9d3434ab9a34a8184c0feacdf",
        "IPY_MODEL_8e2d6e7a80c1435390477018194deb39"
       ],
       "layout": "IPY_MODEL_64086e148d0a4c7eb4ddfd54f5d29970"
      }
     },
     "7186d6ff32e3442dbbc7a70e9c68146f": {
      "model_module": "@jupyter-widgets/controls",
      "model_module_version": "1.5.0",
      "model_name": "ButtonModel",
      "state": {
       "description": "EDIT",
       "layout": "IPY_MODEL_8df8509ecb604735979788426bb7a013",
       "style": "IPY_MODEL_7362bd236973405f96c84e9c5fe2c827"
      }
     },
     "723345491f06422e913c9018ea64b1e1": {
      "model_module": "@jupyter-widgets/controls",
      "model_module_version": "1.5.0",
      "model_name": "ButtonStyleModel",
      "state": {}
     },
     "72a1025832914461b5a9e9ae58b35f48": {
      "model_module": "@jupyter-widgets/controls",
      "model_module_version": "1.5.0",
      "model_name": "ButtonStyleModel",
      "state": {}
     },
     "72adc1e858294f22bdd477a076a69cf5": {
      "model_module": "@jupyter-widgets/controls",
      "model_module_version": "1.5.0",
      "model_name": "HBoxModel",
      "state": {
       "children": [
        "IPY_MODEL_dde1d64a94674edf925575676c385127",
        "IPY_MODEL_dd04e620f2244dd78a44e6dd343d67a7",
        "IPY_MODEL_be93b6bb6a28472cb5525174d2fda1cb",
        "IPY_MODEL_ee5e6bbe0a344f4ebba39d53ac6aaf8d"
       ],
       "layout": "IPY_MODEL_e0bf6e8218ed4389b1cdcbd417262572"
      }
     },
     "72cd234bc75e4ed89904d916cac6a336": {
      "model_module": "@jupyter-widgets/controls",
      "model_module_version": "1.5.0",
      "model_name": "IntProgressModel",
      "state": {
       "layout": "IPY_MODEL_9cd8ad29b7a349b5bae719462650b7df",
       "style": "IPY_MODEL_95d15c3472bf48b4af09170ca9271035",
       "value": 30
      }
     },
     "731391cf998c40699d35112b77dedd68": {
      "model_module": "@jupyter-widgets/controls",
      "model_module_version": "1.5.0",
      "model_name": "ButtonModel",
      "state": {
       "layout": "IPY_MODEL_43d77ef9305a48a7b4be608443922232",
       "style": "IPY_MODEL_0bf19a9970d948299e88a6c343c4ff0f"
      }
     },
     "73190c0f43014787bc8c4d2d8e1fae4f": {
      "model_module": "@jupyter-widgets/controls",
      "model_module_version": "1.5.0",
      "model_name": "ProgressStyleModel",
      "state": {
       "description_width": ""
      }
     },
     "734a718c8c5d42489b301ce6bd899fa0": {
      "model_module": "@jupyter-widgets/controls",
      "model_module_version": "1.5.0",
      "model_name": "VBoxModel",
      "state": {
       "children": [
        "IPY_MODEL_857e3133dfa34e488e93b90c6aee24a1",
        "IPY_MODEL_b2d08976d26e4d219d56931871095684",
        "IPY_MODEL_12a5acdff1164c5e8325519d115b64eb",
        "IPY_MODEL_0e0ffd0622264e4f87bca0b3d30f8ae8",
        "IPY_MODEL_1e67b72ec3c4417e82a8738af59bfdb9",
        "IPY_MODEL_a16db56f29874031be2cc9e607ca11e9"
       ],
       "layout": "IPY_MODEL_28a0670b52dc4c9f9ca7414aa53cf71c"
      }
     },
     "734f09154d154eba984caa36f6b988a3": {
      "model_module": "@jupyter-widgets/controls",
      "model_module_version": "1.5.0",
      "model_name": "DescriptionStyleModel",
      "state": {
       "description_width": ""
      }
     },
     "7362bd236973405f96c84e9c5fe2c827": {
      "model_module": "@jupyter-widgets/controls",
      "model_module_version": "1.5.0",
      "model_name": "ButtonStyleModel",
      "state": {}
     },
     "736e7775c2f74d1eb2c3079bdc6d43ac": {
      "model_module": "@jupyter-widgets/base",
      "model_module_version": "1.2.0",
      "model_name": "LayoutModel",
      "state": {
       "border": "3px solid white",
       "display": "flex",
       "margin": "10px",
       "overflow": "visible",
       "padding": "10px",
       "width": "400px"
      }
     },
     "73bb28bfdc8040b5839ec8e3d7c187c0": {
      "model_module": "@jupyter-widgets/controls",
      "model_module_version": "1.5.0",
      "model_name": "HTMLModel",
      "state": {
       "layout": "IPY_MODEL_a38534a0edcb4f5c88a5a7549c1ff56c",
       "style": "IPY_MODEL_fa7a1845675348b894d01da328d6408a",
       "value": "<i>With any Bow, land final blows and precision final blows. Earn the medal \"My Bowfriend's Back.\"</i>"
      }
     },
     "74a719aa1729478da2b8c6d68f39ee08": {
      "model_module": "@jupyter-widgets/controls",
      "model_module_version": "1.5.0",
      "model_name": "HBoxModel",
      "state": {
       "children": [
        "IPY_MODEL_a8d562eda39b48e28cd5a24afac1fb5c",
        "IPY_MODEL_a1c07738bf29486193da31934544e608",
        "IPY_MODEL_fc6c550dc05e49c8ad0e62bda58535fd",
        "IPY_MODEL_cefbc735bea9441aa59f5a2703c2ffd6"
       ],
       "layout": "IPY_MODEL_ddd30988a1cf4aedade125584b6b02eb"
      }
     },
     "74af1f13e780467896df342369a43f8c": {
      "model_module": "@jupyter-widgets/controls",
      "model_module_version": "1.5.0",
      "model_name": "ButtonModel",
      "state": {
       "layout": "IPY_MODEL_e6ae7e8502c040f6822de5c432eb7bf3",
       "style": "IPY_MODEL_be37932414f242efa52f849d187f9f9a"
      }
     },
     "74e8b5cb4dc94e3d8fcd5ab7b4e903fe": {
      "model_module": "@jupyter-widgets/controls",
      "model_module_version": "1.5.0",
      "model_name": "DescriptionStyleModel",
      "state": {
       "description_width": ""
      }
     },
     "751299a823d844d4a0aed94b61ef8ae9": {
      "model_module": "@jupyter-widgets/base",
      "model_module_version": "1.2.0",
      "model_name": "LayoutModel",
      "state": {
       "width": "60px"
      }
     },
     "751eead3d32445e78332a2dae7de2334": {
      "model_module": "@jupyter-widgets/controls",
      "model_module_version": "1.5.0",
      "model_name": "ButtonStyleModel",
      "state": {}
     },
     "752e0db3e18f4c4aacea30ff2d5e8c15": {
      "model_module": "@jupyter-widgets/controls",
      "model_module_version": "1.5.0",
      "model_name": "ButtonStyleModel",
      "state": {}
     },
     "760fddd433194906b7b688ff3e19ac10": {
      "model_module": "@jupyter-widgets/controls",
      "model_module_version": "1.5.0",
      "model_name": "ButtonStyleModel",
      "state": {}
     },
     "768429cac49046579f5ff5c396db3c44": {
      "model_module": "@jupyter-widgets/controls",
      "model_module_version": "1.5.0",
      "model_name": "ButtonStyleModel",
      "state": {}
     },
     "76c4776234244eec90b0c4fc1bd6221e": {
      "model_module": "@jupyter-widgets/controls",
      "model_module_version": "1.5.0",
      "model_name": "ButtonStyleModel",
      "state": {}
     },
     "76c57defeaef48f38c325f63ebac98a7": {
      "model_module": "@jupyter-widgets/controls",
      "model_module_version": "1.5.0",
      "model_name": "LabelModel",
      "state": {
       "layout": "IPY_MODEL_ba2d398ea8ae4123a65f224f3e78034a",
       "style": "IPY_MODEL_e33bc29036c34587b6e8985229cbfa35",
       "value": "             objective 5"
      }
     },
     "76d13fb21b554266b4d64593988f0216": {
      "model_module": "@jupyter-widgets/base",
      "model_module_version": "1.2.0",
      "model_name": "LayoutModel",
      "state": {
       "width": "60px"
      }
     },
     "77060f30a82d4c34bf0ef5cc4276136b": {
      "model_module": "@jupyter-widgets/base",
      "model_module_version": "1.2.0",
      "model_name": "LayoutModel",
      "state": {
       "width": "60px"
      }
     },
     "772d71f3ce224c0fb9c61c1d1a45d89c": {
      "model_module": "@jupyter-widgets/controls",
      "model_module_version": "1.5.0",
      "model_name": "IntProgressModel",
      "state": {
       "layout": "IPY_MODEL_53053e070ee14ee7ad80a5fd16c6a1c2",
       "style": "IPY_MODEL_39cb9dcb05ed480eb34fb5085c16b32a",
       "value": 30
      }
     },
     "78472d21ef9b4eb59031873bdf6f6b62": {
      "model_module": "@jupyter-widgets/base",
      "model_module_version": "1.2.0",
      "model_name": "LayoutModel",
      "state": {
       "width": "60px"
      }
     },
     "78475d982f084456afdbd34fae557201": {
      "model_module": "@jupyter-widgets/controls",
      "model_module_version": "1.5.0",
      "model_name": "VBoxModel",
      "state": {
       "children": [
        "IPY_MODEL_3e60c64b533848aa9df39971da45d836",
        "IPY_MODEL_580ff480f3be4e898817b8b383c77572",
        "IPY_MODEL_635323644d2d44b7a77090d8b0dfd5d6",
        "IPY_MODEL_8acee3851a1b4ce8a1ee52dc3b508e02"
       ],
       "layout": "IPY_MODEL_736e7775c2f74d1eb2c3079bdc6d43ac"
      }
     },
     "785872b00c814b36b0f1ce37d31d03cc": {
      "model_module": "@jupyter-widgets/controls",
      "model_module_version": "1.5.0",
      "model_name": "DescriptionStyleModel",
      "state": {
       "description_width": ""
      }
     },
     "788ac15d56de42d3ac3852ca065da7cb": {
      "model_module": "@jupyter-widgets/controls",
      "model_module_version": "1.5.0",
      "model_name": "ButtonStyleModel",
      "state": {}
     },
     "78f94229d96046de82d6335cf547c83e": {
      "model_module": "@jupyter-widgets/controls",
      "model_module_version": "1.5.0",
      "model_name": "ButtonModel",
      "state": {
       "description": "EDIT",
       "layout": "IPY_MODEL_d8f7a239d97b407481dcbfe806cb8e96",
       "style": "IPY_MODEL_e4fc6bb36531482baef2806c59aa4e61"
      }
     },
     "791f7d9f70114e6799a48471196dfe9b": {
      "model_module": "@jupyter-widgets/base",
      "model_module_version": "1.2.0",
      "model_name": "LayoutModel",
      "state": {
       "height": "32px",
       "order": "-2",
       "width": "32px"
      }
     },
     "795e49d9917e4110bc2cf289aea23280": {
      "model_module": "@jupyter-widgets/controls",
      "model_module_version": "1.5.0",
      "model_name": "ButtonStyleModel",
      "state": {}
     },
     "797278fa21f9405a8a86a136f8b79a58": {
      "model_module": "@jupyter-widgets/base",
      "model_module_version": "1.2.0",
      "model_name": "LayoutModel",
      "state": {
       "width": "60px"
      }
     },
     "797a210dea334414b76be79568bf2ad2": {
      "model_module": "@jupyter-widgets/controls",
      "model_module_version": "1.5.0",
      "model_name": "ButtonModel",
      "state": {
       "description": "EDIT",
       "layout": "IPY_MODEL_ca6bd2d3a53a4c12879d318ee31786a7",
       "style": "IPY_MODEL_723345491f06422e913c9018ea64b1e1"
      }
     },
     "79ca9d3bfc4d420a8df66c3b4c61c45e": {
      "model_module": "@jupyter-widgets/controls",
      "model_module_version": "1.5.0",
      "model_name": "DescriptionStyleModel",
      "state": {
       "description_width": ""
      }
     },
     "79e9d42248d54e888daf63a9329dc81b": {
      "model_module": "@jupyter-widgets/controls",
      "model_module_version": "1.5.0",
      "model_name": "ButtonStyleModel",
      "state": {}
     },
     "79ed550d419b442da4e8a27806e43782": {
      "model_module": "@jupyter-widgets/controls",
      "model_module_version": "1.5.0",
      "model_name": "ProgressStyleModel",
      "state": {
       "description_width": ""
      }
     },
     "7a0eddaeff4f46dc9a5c6711f0204519": {
      "model_module": "@jupyter-widgets/controls",
      "model_module_version": "1.5.0",
      "model_name": "DescriptionStyleModel",
      "state": {
       "description_width": ""
      }
     },
     "7a20397122574926845c391785e3a237": {
      "model_module": "@jupyter-widgets/base",
      "model_module_version": "1.2.0",
      "model_name": "LayoutModel",
      "state": {
       "display": "none"
      }
     },
     "7a4232ad5ae34bb3806022d28ec5605a": {
      "model_module": "@jupyter-widgets/controls",
      "model_module_version": "1.5.0",
      "model_name": "ButtonModel",
      "state": {
       "layout": "IPY_MODEL_599b5a8f1f5b4c049b763d628692e5d4",
       "style": "IPY_MODEL_cfa565ca5bd8442d885d9479a74e972a"
      }
     },
     "7a6275e9524a4bc29f128878431da2f4": {
      "model_module": "@jupyter-widgets/controls",
      "model_module_version": "1.5.0",
      "model_name": "ButtonStyleModel",
      "state": {}
     },
     "7a74ae796f734502baac169f3100c8e9": {
      "model_module": "@jupyter-widgets/base",
      "model_module_version": "1.2.0",
      "model_name": "LayoutModel",
      "state": {
       "display": "none"
      }
     },
     "7a86a4ca1c7d40d7bd2bbeace165d35b": {
      "model_module": "@jupyter-widgets/controls",
      "model_module_version": "1.5.0",
      "model_name": "ButtonStyleModel",
      "state": {}
     },
     "7aa9df338c024012997367833ce7f629": {
      "model_module": "@jupyter-widgets/controls",
      "model_module_version": "1.5.0",
      "model_name": "DescriptionStyleModel",
      "state": {
       "description_width": ""
      }
     },
     "7b0e451c81124775bf403eb41842e1f0": {
      "model_module": "@jupyter-widgets/base",
      "model_module_version": "1.2.0",
      "model_name": "LayoutModel",
      "state": {
       "display": "flex",
       "flex_flow": "row wrap"
      }
     },
     "7b28ea175f9f47f4ae28edf82027efa0": {
      "model_module": "@jupyter-widgets/controls",
      "model_module_version": "1.5.0",
      "model_name": "LabelModel",
      "state": {
       "layout": "IPY_MODEL_b0ad11da86824a53a8c0efe22de78936",
       "style": "IPY_MODEL_6ad7e5c618bc4e44b5d48c10d8f9d087",
       "value": "Triumph:"
      }
     },
     "7b2c155bf81e4f879a45725ea18038f5": {
      "model_module": "@jupyter-widgets/base",
      "model_module_version": "1.2.0",
      "model_name": "LayoutModel",
      "state": {
       "order": "-1",
       "overflow": "visible",
       "padding": "1px",
       "width": "0px"
      }
     },
     "7b620e480f3445bfa089f4092b13c1a3": {
      "model_module": "@jupyter-widgets/controls",
      "model_module_version": "1.5.0",
      "model_name": "ButtonStyleModel",
      "state": {}
     },
     "7b6ea260da244f12bb5a0cd850b13418": {
      "model_module": "@jupyter-widgets/controls",
      "model_module_version": "1.5.0",
      "model_name": "DropdownModel",
      "state": {
       "_options_labels": [
        "Any"
       ],
       "disabled": true,
       "index": 0,
       "layout": "IPY_MODEL_0df0691be3ba462dbdf2e05dbe48d576",
       "style": "IPY_MODEL_e4d9af16fbdb4300b7c98faddef26657"
      }
     },
     "7ba24266b456488cb514c7a0e7ec7b09": {
      "model_module": "@jupyter-widgets/controls",
      "model_module_version": "1.5.0",
      "model_name": "ButtonStyleModel",
      "state": {}
     },
     "7bcada42fdfa40ef8be725a100885fb4": {
      "model_module": "@jupyter-widgets/controls",
      "model_module_version": "1.5.0",
      "model_name": "DescriptionStyleModel",
      "state": {
       "description_width": ""
      }
     },
     "7beaa94f4ef14da0a5dc11ea87c4f044": {
      "model_module": "@jupyter-widgets/controls",
      "model_module_version": "1.5.0",
      "model_name": "ButtonStyleModel",
      "state": {}
     },
     "7c10f690163e46a5a687fa00c155e7af": {
      "model_module": "@jupyter-widgets/base",
      "model_module_version": "1.2.0",
      "model_name": "LayoutModel",
      "state": {
       "display": "none"
      }
     },
     "7c51a837c2974ceb820b8d0116b0d4f8": {
      "model_module": "@jupyter-widgets/base",
      "model_module_version": "1.2.0",
      "model_name": "LayoutModel",
      "state": {
       "display": "none"
      }
     },
     "7c83f821dfd04884b70b55cd77f7b0c0": {
      "model_module": "@jupyter-widgets/controls",
      "model_module_version": "1.5.0",
      "model_name": "HBoxModel",
      "state": {
       "children": [
        "IPY_MODEL_0de309dc8704432a8f4bd2bfcc4b3f0a",
        "IPY_MODEL_51529d62a9e24d25bc8c3474778e97b5",
        "IPY_MODEL_21c082d38b4c488e9865bbc71c695b59",
        "IPY_MODEL_cf5b722612d14af093144c3d9c9ae3d1"
       ],
       "layout": "IPY_MODEL_7a74ae796f734502baac169f3100c8e9"
      }
     },
     "7cbed773772047e392657fdb657817a0": {
      "model_module": "@jupyter-widgets/controls",
      "model_module_version": "1.5.0",
      "model_name": "ButtonModel",
      "state": {
       "description": "EDIT",
       "layout": "IPY_MODEL_4e7deb253d8646fb9d33dc0562d1d9df",
       "style": "IPY_MODEL_788ac15d56de42d3ac3852ca065da7cb"
      }
     },
     "7d0143b7e6454f9f970c5b7f8be12407": {
      "model_module": "@jupyter-widgets/base",
      "model_module_version": "1.2.0",
      "model_name": "LayoutModel",
      "state": {}
     },
     "7d2ed6bc0a7d4832bc14412003734a6a": {
      "model_module": "@jupyter-widgets/controls",
      "model_module_version": "1.5.0",
      "model_name": "IntProgressModel",
      "state": {
       "layout": "IPY_MODEL_98c35db6b8f147b48e25cd417a39f12e",
       "style": "IPY_MODEL_ed384854bcf74f6e96568e5ad46e0032",
       "value": 30
      }
     },
     "7d75f75f80a04d3a8d499c3632c26161": {
      "model_module": "@jupyter-widgets/base",
      "model_module_version": "1.2.0",
      "model_name": "LayoutModel",
      "state": {
       "height": "32px",
       "overflow": "visible",
       "padding": "0px",
       "width": "100%"
      }
     },
     "7d829bf331e34bd5ae0d956bf54ca9d6": {
      "model_module": "@jupyter-widgets/controls",
      "model_module_version": "1.5.0",
      "model_name": "LabelModel",
      "state": {
       "layout": "IPY_MODEL_0aff27b43c464f5fba0a413915483f81",
       "style": "IPY_MODEL_1e8b7b192035458f84f6680a63bd2fe8",
       "value": "             objective 3"
      }
     },
     "7d85fe68bf0043529d06ea84ebafe56b": {
      "model_module": "@jupyter-widgets/controls",
      "model_module_version": "1.5.0",
      "model_name": "DropdownModel",
      "state": {
       "_options_labels": [
        "Any",
        "Arc",
        "Solar",
        "Void"
       ],
       "index": 0,
       "layout": "IPY_MODEL_0df0691be3ba462dbdf2e05dbe48d576",
       "style": "IPY_MODEL_4cbca2cf60214e9e89e75493e58edf22"
      }
     },
     "7da5ede62fc04965bd66702fef51f394": {
      "model_module": "@jupyter-widgets/controls",
      "model_module_version": "1.5.0",
      "model_name": "HTMLModel",
      "state": {
       "layout": "IPY_MODEL_6c3c3577f7af499eb23a7a91c269b927",
       "style": "IPY_MODEL_6866172dd0804d8b9c82447c6437e869",
       "value": "<font size=\"1\">Triumphs/Lore/The Light/The Man They Call Cayde/</font size=>"
      }
     },
     "7e20ecf0cb454350911ce2428b7f8e61": {
      "model_module": "@jupyter-widgets/controls",
      "model_module_version": "1.5.0",
      "model_name": "ButtonStyleModel",
      "state": {}
     },
     "7e4727a8e6fc49bc9f3339e4d65d7e9d": {
      "model_module": "@jupyter-widgets/controls",
      "model_module_version": "1.5.0",
      "model_name": "ButtonModel",
      "state": {
       "description": "EDIT",
       "layout": "IPY_MODEL_612e9741856545d3be4f15e9252283d6",
       "style": "IPY_MODEL_c1727b71af1549d59ea1f3fc9faed571"
      }
     },
     "7ec0074b96964ea2afe84de8a6a3e4c3": {
      "model_module": "@jupyter-widgets/controls",
      "model_module_version": "1.5.0",
      "model_name": "IntProgressModel",
      "state": {
       "layout": "IPY_MODEL_a52cf2c5947a4de1b97014c038f6f0bf",
       "style": "IPY_MODEL_27716187644b4fff8a84b737d9a3d3a4",
       "value": 30
      }
     },
     "7ee832d9da144822bf72a12e74bade8c": {
      "model_module": "@jupyter-widgets/controls",
      "model_module_version": "1.5.0",
      "model_name": "DescriptionStyleModel",
      "state": {
       "description_width": ""
      }
     },
     "7f46f01c3b794363830e2339df641423": {
      "model_module": "@jupyter-widgets/controls",
      "model_module_version": "1.5.0",
      "model_name": "LabelModel",
      "state": {
       "layout": "IPY_MODEL_7b2c155bf81e4f879a45725ea18038f5",
       "style": "IPY_MODEL_feec54d4b9c44eefb327e00460b4ff00",
       "value": "             objective 4"
      }
     },
     "7fa3e9028fad47ad9c0e635fe48e5270": {
      "model_module": "@jupyter-widgets/controls",
      "model_module_version": "1.5.0",
      "model_name": "ButtonModel",
      "state": {
       "layout": "IPY_MODEL_791f7d9f70114e6799a48471196dfe9b",
       "style": "IPY_MODEL_8a9bd17d299d46799c55a2ba7a75940b"
      }
     },
     "7fc69787b687435cb74251ccd0e1aa12": {
      "model_module": "@jupyter-widgets/controls",
      "model_module_version": "1.5.0",
      "model_name": "ButtonStyleModel",
      "state": {}
     },
     "7fde341f9729401f8278dde443bba84d": {
      "model_module": "@jupyter-widgets/controls",
      "model_module_version": "1.5.0",
      "model_name": "ButtonStyleModel",
      "state": {}
     },
     "7ffdc3d77c8d4ce893406f9c5cb901d4": {
      "model_module": "@jupyter-widgets/base",
      "model_module_version": "1.2.0",
      "model_name": "LayoutModel",
      "state": {}
     },
     "802b712fe4cf456eb868acb618826efd": {
      "model_module": "@jupyter-widgets/controls",
      "model_module_version": "1.5.0",
      "model_name": "DescriptionStyleModel",
      "state": {
       "description_width": ""
      }
     },
     "80542a61d8ed42868ada483db07c95f0": {
      "model_module": "@jupyter-widgets/controls",
      "model_module_version": "1.5.0",
      "model_name": "ButtonStyleModel",
      "state": {}
     },
     "80c9063f7e7547c9b10d5eb5b4821d49": {
      "model_module": "@jupyter-widgets/controls",
      "model_module_version": "1.5.0",
      "model_name": "ButtonModel",
      "state": {
       "description": "EDIT",
       "layout": "IPY_MODEL_4b08a5688c6c4a9696aafcf13170cd9c",
       "style": "IPY_MODEL_28d71be27a304cd68a0ebc0f10463b0e"
      }
     },
     "80e774d7c9254751898519bdbdffbcf6": {
      "model_module": "@jupyter-widgets/controls",
      "model_module_version": "1.5.0",
      "model_name": "ButtonStyleModel",
      "state": {}
     },
     "81ac19f0199d47de89890777954c870b": {
      "model_module": "@jupyter-widgets/controls",
      "model_module_version": "1.5.0",
      "model_name": "HTMLModel",
      "state": {
       "layout": "IPY_MODEL_0b5fdf9dd9e2427b809ff5ce209637ea",
       "style": "IPY_MODEL_905be1be25474054b39681cdb8e16721",
       "value": "<i></i>"
      }
     },
     "81ea763fe0cd46099f8abcc671657f63": {
      "model_module": "@jupyter-widgets/controls",
      "model_module_version": "1.5.0",
      "model_name": "ButtonModel",
      "state": {
       "layout": "IPY_MODEL_6c7c02b2c21f468e9c338114465d1d91",
       "style": "IPY_MODEL_47d20d2f32c54f8ba3cb9e82c73120f5"
      }
     },
     "81ed3ef3e20e4a3dbfd49e0acdb1b8f0": {
      "model_module": "@jupyter-widgets/base",
      "model_module_version": "1.2.0",
      "model_name": "LayoutModel",
      "state": {
       "overflow": "visible",
       "width": "100%"
      }
     },
     "81fb0f494646468b9db0be788dd6c08f": {
      "model_module": "@jupyter-widgets/controls",
      "model_module_version": "1.5.0",
      "model_name": "IntProgressModel",
      "state": {
       "layout": "IPY_MODEL_cc7fe6b8d67349859376b0d6c99a70d4",
       "style": "IPY_MODEL_d774d1f0e04a41c3ba4b7770acc56731",
       "value": 30
      }
     },
     "822c1d7105eb4f2694d5d1ed18d24b89": {
      "model_module": "@jupyter-widgets/controls",
      "model_module_version": "1.5.0",
      "model_name": "ButtonStyleModel",
      "state": {}
     },
     "82749cd94cbb407e8b9aa1dbc3171bc8": {
      "model_module": "@jupyter-widgets/controls",
      "model_module_version": "1.5.0",
      "model_name": "HBoxModel",
      "state": {
       "children": [
        "IPY_MODEL_d0fa93c0af16439f85218d5c3b4d0d43",
        "IPY_MODEL_5400e4b8129e435a9de1aa4263fd914e",
        "IPY_MODEL_9ff41aa7b4364f53a997258bf335eddc",
        "IPY_MODEL_34eb38436ee34dbc8e9332db40188246"
       ],
       "layout": "IPY_MODEL_27834eb15b604705973a1601f8bf6df3"
      }
     },
     "829651fe5ec8437581a2cf784b2a675c": {
      "model_module": "@jupyter-widgets/controls",
      "model_module_version": "1.5.0",
      "model_name": "IntProgressModel",
      "state": {
       "layout": "IPY_MODEL_7d75f75f80a04d3a8d499c3632c26161",
       "style": "IPY_MODEL_79ed550d419b442da4e8a27806e43782",
       "value": 30
      }
     },
     "82a6d1bff27a4cc9b87908667e181f73": {
      "model_module": "@jupyter-widgets/controls",
      "model_module_version": "1.5.0",
      "model_name": "ButtonModel",
      "state": {
       "layout": "IPY_MODEL_35f6c9c4599841f5aa420dbb401fcad6",
       "style": "IPY_MODEL_4270ebeaf9fb4d74872eca9c11a88d7b"
      }
     },
     "82a857445361486c9eda4a212077efd2": {
      "model_module": "@jupyter-widgets/controls",
      "model_module_version": "1.5.0",
      "model_name": "ButtonModel",
      "state": {
       "layout": "IPY_MODEL_599b5a8f1f5b4c049b763d628692e5d4",
       "style": "IPY_MODEL_3ea9db2993804e10809b733b9e89de72"
      }
     },
     "82b7ef66c5e14470bfd5070e374f9636": {
      "model_module": "@jupyter-widgets/base",
      "model_module_version": "1.2.0",
      "model_name": "LayoutModel",
      "state": {}
     },
     "82c66486c6794bc99b6b38157490e8b0": {
      "model_module": "@jupyter-widgets/controls",
      "model_module_version": "1.5.0",
      "model_name": "ProgressStyleModel",
      "state": {
       "description_width": ""
      }
     },
     "82dade2c9a094c7b94fb75b5fc7eb830": {
      "model_module": "@jupyter-widgets/controls",
      "model_module_version": "1.5.0",
      "model_name": "LabelModel",
      "state": {
       "layout": "IPY_MODEL_d936ceeb385244b0af3b20dffd1af6a4",
       "style": "IPY_MODEL_79ca9d3bfc4d420a8df66c3b4c61c45e",
       "value": "             objective 4"
      }
     },
     "82eecd401a554d04ab3b3b334a76c0cf": {
      "model_module": "@jupyter-widgets/controls",
      "model_module_version": "1.5.0",
      "model_name": "HBoxModel",
      "state": {
       "children": [
        "IPY_MODEL_af386a999d67427a99c268142343b181",
        "IPY_MODEL_a8f929d6a87b4bf6a53f3716a976bbba",
        "IPY_MODEL_8ee5c21760eb4e2e8f5757b69d50894b",
        "IPY_MODEL_87c8f8b198d84beea08a9c9793317403"
       ],
       "layout": "IPY_MODEL_ab40f54a45c5491d85b2ff0db04f8caf"
      }
     },
     "833685d74587460889c592c97c13a27c": {
      "model_module": "@jupyter-widgets/base",
      "model_module_version": "1.2.0",
      "model_name": "LayoutModel",
      "state": {}
     },
     "835e68c953b64b45a10e636a5f3e4913": {
      "model_module": "@jupyter-widgets/controls",
      "model_module_version": "1.5.0",
      "model_name": "LabelModel",
      "state": {
       "layout": "IPY_MODEL_ba2d398ea8ae4123a65f224f3e78034a",
       "style": "IPY_MODEL_0d2d81d314c747c0a57a47784102de16",
       "value": "             objective 4"
      }
     },
     "839f899ec3e34b9b837cba7e27f629bc": {
      "model_module": "@jupyter-widgets/controls",
      "model_module_version": "1.5.0",
      "model_name": "ButtonStyleModel",
      "state": {}
     },
     "83b216bf9c9f4a88b48eadbccb1b6c5a": {
      "model_module": "@jupyter-widgets/controls",
      "model_module_version": "1.5.0",
      "model_name": "CheckboxModel",
      "state": {
       "description": "Hide Triumphs",
       "disabled": false,
       "layout": "IPY_MODEL_e25d2c7e499f4e10a2786c9d20d29cc2",
       "style": "IPY_MODEL_9c3f5eff1b28479f87e1b77980269a90",
       "value": false
      }
     },
     "83c17681b1384e80b5953e72a2480ce9": {
      "model_module": "@jupyter-widgets/base",
      "model_module_version": "1.2.0",
      "model_name": "LayoutModel",
      "state": {}
     },
     "83eafcad83d34f93a261052e4df8b896": {
      "model_module": "@jupyter-widgets/controls",
      "model_module_version": "1.5.0",
      "model_name": "HBoxModel",
      "state": {
       "children": [
        "IPY_MODEL_1c8363f35dc247439fd8d3aa0417172b",
        "IPY_MODEL_4d82a91ebdf749f9a6d26a1f1e9ebe07",
        "IPY_MODEL_82dade2c9a094c7b94fb75b5fc7eb830",
        "IPY_MODEL_b42386ebfe954be9bbb215a78303b605"
       ],
       "layout": "IPY_MODEL_476dafa5acb441f597ebe07b7d36b7d4"
      }
     },
     "842abf4d8390404bae38d51f20de7a2b": {
      "model_module": "@jupyter-widgets/base",
      "model_module_version": "1.2.0",
      "model_name": "LayoutModel",
      "state": {
       "display": "none"
      }
     },
     "849d140395aa4098896d05173f906bbc": {
      "model_module": "@jupyter-widgets/controls",
      "model_module_version": "1.5.0",
      "model_name": "ButtonModel",
      "state": {
       "description": "EDIT",
       "layout": "IPY_MODEL_f6b6616a916c42f4a441fe5293aa1c04",
       "style": "IPY_MODEL_ea30866cc3db43179ddbe1ed5f1296bf"
      }
     },
     "84ae3a037d9e4d01be5dd44545eee9f6": {
      "model_module": "@jupyter-widgets/controls",
      "model_module_version": "1.5.0",
      "model_name": "VBoxModel",
      "state": {
       "children": [
        "IPY_MODEL_120b0c11f4b546cc8fec5b3f8271c3cc",
        "IPY_MODEL_ca0bb9c0de9f46c6aa0c7eba5c02a7f9"
       ],
       "layout": "IPY_MODEL_d91945bf3c0844ff8614ed1e545d3df1"
      }
     },
     "84ba218787db4c94b408b15cf197d13f": {
      "model_module": "@jupyter-widgets/controls",
      "model_module_version": "1.5.0",
      "model_name": "ButtonStyleModel",
      "state": {}
     },
     "84d6c3fb79534a32a629625334abcf75": {
      "model_module": "@jupyter-widgets/controls",
      "model_module_version": "1.5.0",
      "model_name": "DropdownModel",
      "state": {
       "_options_labels": [
        "Any",
        "Hand Cannon",
        "Auto Rifle",
        "Scout Rifle",
        "Pulse Rifle",
        "Sidearm",
        "Submachine Gun",
        "Combt Bow",
        "Sniper Rifle",
        "Shotgun"
       ],
       "index": 0,
       "layout": "IPY_MODEL_0df0691be3ba462dbdf2e05dbe48d576",
       "style": "IPY_MODEL_e2dce287453c4d4fa4091ed4c02f509b"
      }
     },
     "84e2e42e0a4a4480a68f697985220f44": {
      "model_module": "@jupyter-widgets/controls",
      "model_module_version": "1.5.0",
      "model_name": "HBoxModel",
      "state": {
       "children": [
        "IPY_MODEL_552de30e4df743c8ae55d863afc2411c",
        "IPY_MODEL_ecfafe0414914592bd9a60d2b82d266a",
        "IPY_MODEL_6cb5258175ab401f92c294498d10682c",
        "IPY_MODEL_08d6ddf5cbad4376ae6ea818f3116019"
       ],
       "layout": "IPY_MODEL_df83dfd221484feeb775379d3091e9c1"
      }
     },
     "84f5eddcd9114746a725f8eb53e13997": {
      "model_module": "@jupyter-widgets/controls",
      "model_module_version": "1.5.0",
      "model_name": "LabelModel",
      "state": {
       "layout": "IPY_MODEL_7b2c155bf81e4f879a45725ea18038f5",
       "style": "IPY_MODEL_2bfa54fa6b6d42cdb1692f0b1efe27a6",
       "value": "             objective 2"
      }
     },
     "85522168f7c34c30922f937b3aaaf480": {
      "model_module": "@jupyter-widgets/controls",
      "model_module_version": "1.5.0",
      "model_name": "ButtonStyleModel",
      "state": {}
     },
     "8557fe7c9ae84941b079b875906ebb34": {
      "model_module": "@jupyter-widgets/controls",
      "model_module_version": "1.5.0",
      "model_name": "ButtonModel",
      "state": {
       "description": "EDIT",
       "layout": "IPY_MODEL_50c26dd05f8a4d76b256952979e8cfea",
       "style": "IPY_MODEL_88ff159d0b194b42ac33fd252cc3bc52"
      }
     },
     "857e3133dfa34e488e93b90c6aee24a1": {
      "model_module": "@jupyter-widgets/controls",
      "model_module_version": "1.5.0",
      "model_name": "HBoxModel",
      "state": {
       "children": [
        "IPY_MODEL_ae51b0637dc8425bb330fc3bd9ab593d",
        "IPY_MODEL_d324158f7ede434a9aa1dd1a819b442e",
        "IPY_MODEL_164fe1071d8841c1be05957ceb77347b",
        "IPY_MODEL_eea3f8a183c94cdab0bda28a51b868fc"
       ],
       "layout": "IPY_MODEL_88d6577525bf47899aa19c96d84d58bb"
      }
     },
     "85981f75620e4f75aeb065d844463568": {
      "model_module": "@jupyter-widgets/controls",
      "model_module_version": "1.5.0",
      "model_name": "IntProgressModel",
      "state": {
       "layout": "IPY_MODEL_5c9f3bffcf68419494f90e7e72c29e87",
       "style": "IPY_MODEL_3fd61327dc514ad49875c3675314dd7a",
       "value": 30
      }
     },
     "85d76a0eb345445f9adb265a6e8dbc55": {
      "model_module": "@jupyter-widgets/base",
      "model_module_version": "1.2.0",
      "model_name": "LayoutModel",
      "state": {
       "width": "60px"
      }
     },
     "86032a99e4854ed0a19145c6a8e02410": {
      "model_module": "@jupyter-widgets/controls",
      "model_module_version": "1.5.0",
      "model_name": "DescriptionStyleModel",
      "state": {
       "description_width": ""
      }
     },
     "8608e26926c44197838c05d7a92e64c7": {
      "model_module": "@jupyter-widgets/base",
      "model_module_version": "1.2.0",
      "model_name": "LayoutModel",
      "state": {
       "width": "60px"
      }
     },
     "8687059609fb4a16b2069155e99e1f6a": {
      "model_module": "@jupyter-widgets/controls",
      "model_module_version": "1.5.0",
      "model_name": "ButtonStyleModel",
      "state": {}
     },
     "86b5009b4419431da0b4cf3184add6d8": {
      "model_module": "@jupyter-widgets/controls",
      "model_module_version": "1.5.0",
      "model_name": "ButtonModel",
      "state": {
       "description": "EDIT",
       "layout": "IPY_MODEL_95a89d67e53e49828ab9ee2ae49ebe8e",
       "style": "IPY_MODEL_839f899ec3e34b9b837cba7e27f629bc"
      }
     },
     "878f08a47239403db3e75d537f75548d": {
      "model_module": "@jupyter-widgets/controls",
      "model_module_version": "1.5.0",
      "model_name": "DescriptionStyleModel",
      "state": {
       "description_width": ""
      }
     },
     "878f0a07582245eba997433e08021599": {
      "model_module": "@jupyter-widgets/base",
      "model_module_version": "1.2.0",
      "model_name": "LayoutModel",
      "state": {
       "display": "flex",
       "flex_flow": "row wrap"
      }
     },
     "8790d7eeb59c4f9c90405f365970ed79": {
      "model_module": "@jupyter-widgets/controls",
      "model_module_version": "1.5.0",
      "model_name": "ButtonModel",
      "state": {
       "layout": "IPY_MODEL_fbaa08c360764d01827b54400b084e59",
       "style": "IPY_MODEL_70c20715ce814f519e60b99aff4d4f88"
      }
     },
     "87919df6e86b48e7933a3db701242c92": {
      "model_module": "@jupyter-widgets/controls",
      "model_module_version": "1.5.0",
      "model_name": "ButtonModel",
      "state": {
       "layout": "IPY_MODEL_599b5a8f1f5b4c049b763d628692e5d4",
       "style": "IPY_MODEL_c65c7e6aa45b40a88e2cab83dcbfad48"
      }
     },
     "87c8f8b198d84beea08a9c9793317403": {
      "model_module": "@jupyter-widgets/controls",
      "model_module_version": "1.5.0",
      "model_name": "ButtonModel",
      "state": {
       "description": "EDIT",
       "layout": "IPY_MODEL_1526b143982a414691ea2e5673287c20",
       "style": "IPY_MODEL_c71a2d86b5ec4e8dbf3be81154d4d979"
      }
     },
     "88d6577525bf47899aa19c96d84d58bb": {
      "model_module": "@jupyter-widgets/base",
      "model_module_version": "1.2.0",
      "model_name": "LayoutModel",
      "state": {
       "display": "flex"
      }
     },
     "88f3ebc1c6054e49837aa7a61b657b04": {
      "model_module": "@jupyter-widgets/base",
      "model_module_version": "1.2.0",
      "model_name": "LayoutModel",
      "state": {
       "width": "60px"
      }
     },
     "88ff159d0b194b42ac33fd252cc3bc52": {
      "model_module": "@jupyter-widgets/controls",
      "model_module_version": "1.5.0",
      "model_name": "ButtonStyleModel",
      "state": {}
     },
     "89025a8dc22c4b379c14bd9280e576b2": {
      "model_module": "@jupyter-widgets/controls",
      "model_module_version": "1.5.0",
      "model_name": "HTMLModel",
      "state": {
       "layout": "IPY_MODEL_0f3386e87cea4b61b9b65be807b68110",
       "style": "IPY_MODEL_475f83c9950e453da580418e3874b2ae",
       "value": "<font size=\"1\">Triumphs/Lore/The Light/Ghost Stories/</font size=>"
      }
     },
     "897bd59a2ee94b3f8ed6510e8de76c28": {
      "model_module": "@jupyter-widgets/controls",
      "model_module_version": "1.5.0",
      "model_name": "DescriptionStyleModel",
      "state": {
       "description_width": ""
      }
     },
     "89805ac3037046faa9a701c33827a590": {
      "model_module": "@jupyter-widgets/controls",
      "model_module_version": "1.5.0",
      "model_name": "DescriptionStyleModel",
      "state": {
       "description_width": ""
      }
     },
     "899bc7fea038498186f8597db52d59d3": {
      "model_module": "@jupyter-widgets/base",
      "model_module_version": "1.2.0",
      "model_name": "LayoutModel",
      "state": {}
     },
     "89d3af9fd7c04c2ea42a522a97b605a7": {
      "model_module": "@jupyter-widgets/base",
      "model_module_version": "1.2.0",
      "model_name": "LayoutModel",
      "state": {
       "height": "32px",
       "overflow": "visible",
       "padding": "0px",
       "width": "100%"
      }
     },
     "8a777a94d3e14863acc834c49551612b": {
      "model_module": "@jupyter-widgets/controls",
      "model_module_version": "1.5.0",
      "model_name": "ButtonModel",
      "state": {
       "description": "EDIT",
       "layout": "IPY_MODEL_9228ef95bf124902a607ca9d964f78e2",
       "style": "IPY_MODEL_9a5a16994f18493789ee6f62ccd459d1"
      }
     },
     "8a7e3fc49c784759b25f6bc31c711f5c": {
      "model_module": "@jupyter-widgets/base",
      "model_module_version": "1.2.0",
      "model_name": "LayoutModel",
      "state": {
       "display": "none"
      }
     },
     "8a81657029c04c54968cf87eedac9ee3": {
      "model_module": "@jupyter-widgets/controls",
      "model_module_version": "1.5.0",
      "model_name": "LabelModel",
      "state": {
       "layout": "IPY_MODEL_ffada0c8da764ac7aea9472cacb9e750",
       "style": "IPY_MODEL_734f09154d154eba984caa36f6b988a3",
       "value": "     (1/1)"
      }
     },
     "8a9bd17d299d46799c55a2ba7a75940b": {
      "model_module": "@jupyter-widgets/controls",
      "model_module_version": "1.5.0",
      "model_name": "ButtonStyleModel",
      "state": {}
     },
     "8acee3851a1b4ce8a1ee52dc3b508e02": {
      "model_module": "@jupyter-widgets/controls",
      "model_module_version": "1.5.0",
      "model_name": "VBoxModel",
      "state": {
       "children": [
        "IPY_MODEL_32689397e6dd4e14bdd4620dfecfacf0",
        "IPY_MODEL_bae018bb28be4a4c948341dcfe73b202",
        "IPY_MODEL_48f7faf0500b421cbd83db442c0a923f",
        "IPY_MODEL_8c8f2b7c77f84c52a0cf91ea8111d7de",
        "IPY_MODEL_f0e49032a7d7486284b71215b52b4688",
        "IPY_MODEL_151d1db129a84603abdfb629a49971fe"
       ],
       "layout": "IPY_MODEL_ceedd21f1a544d53b9c6d16c93df2a51"
      }
     },
     "8b7c12f7fe2442398e299c9ab1c66022": {
      "model_module": "@jupyter-widgets/controls",
      "model_module_version": "1.5.0",
      "model_name": "ButtonModel",
      "state": {
       "description": "EDIT",
       "layout": "IPY_MODEL_a6321236b0cb4c37a949473b39ab30ca",
       "style": "IPY_MODEL_bd0863b1afa54e8d8f8d71ff9da98034"
      }
     },
     "8b846eb3ca3f434f807586c8842d4af6": {
      "model_module": "@jupyter-widgets/controls",
      "model_module_version": "1.5.0",
      "model_name": "ButtonModel",
      "state": {
       "description": "EDIT",
       "layout": "IPY_MODEL_46c05725c73f41449dbaaf5380f6ec57",
       "style": "IPY_MODEL_ec09a1b61c874e6c9b72e4373af9b297"
      }
     },
     "8bd8fb92b1c14dbb9dc016bc86041098": {
      "model_module": "@jupyter-widgets/controls",
      "model_module_version": "1.5.0",
      "model_name": "ButtonModel",
      "state": {
       "layout": "IPY_MODEL_599b5a8f1f5b4c049b763d628692e5d4",
       "style": "IPY_MODEL_1486fbc1730f4504939362e6229307bf"
      }
     },
     "8c4d19e7acb246e68adefeb46d39872f": {
      "model_module": "@jupyter-widgets/controls",
      "model_module_version": "1.5.0",
      "model_name": "ButtonStyleModel",
      "state": {}
     },
     "8c8f2b7c77f84c52a0cf91ea8111d7de": {
      "model_module": "@jupyter-widgets/controls",
      "model_module_version": "1.5.0",
      "model_name": "HBoxModel",
      "state": {
       "children": [
        "IPY_MODEL_ba95063e4ae54c81b75820fc075dca4c",
        "IPY_MODEL_b264e153105944148b5a16a86e18b8af",
        "IPY_MODEL_b2c7bcc6ac6f40f58614d0b15777a9ad",
        "IPY_MODEL_78f94229d96046de82d6335cf547c83e"
       ],
       "layout": "IPY_MODEL_0ba4082cdeda4b38a80183337781daf8"
      }
     },
     "8ca4ba2d2fd2444dbc0a2e16b4fc9080": {
      "model_module": "@jupyter-widgets/controls",
      "model_module_version": "1.5.0",
      "model_name": "ButtonStyleModel",
      "state": {}
     },
     "8cdbafaa474749d9ae5ea054125b598c": {
      "model_module": "@jupyter-widgets/base",
      "model_module_version": "1.2.0",
      "model_name": "LayoutModel",
      "state": {
       "width": "60px"
      }
     },
     "8cdbf3be5b3042b882213b13e18681f6": {
      "model_module": "@jupyter-widgets/controls",
      "model_module_version": "1.5.0",
      "model_name": "ButtonStyleModel",
      "state": {}
     },
     "8ce20fcc56cf48d99e44d36bfe7ba3ed": {
      "model_module": "@jupyter-widgets/controls",
      "model_module_version": "1.5.0",
      "model_name": "HTMLModel",
      "state": {
       "layout": "IPY_MODEL_55f3dd07a41a40f7ab21384594e270ce",
       "style": "IPY_MODEL_6c831386cf3c446983e8d6dd4de78257",
       "value": "<i></i>"
      }
     },
     "8ce9bb1a4b834942ae21d7cebfd73292": {
      "model_module": "@jupyter-widgets/controls",
      "model_module_version": "1.5.0",
      "model_name": "DescriptionStyleModel",
      "state": {
       "description_width": ""
      }
     },
     "8d32a369c94b4939b683c55ba8c00529": {
      "model_module": "@jupyter-widgets/controls",
      "model_module_version": "1.5.0",
      "model_name": "DropdownModel",
      "state": {
       "_options_labels": [
        "Any",
        "Arc",
        "Solar",
        "Void"
       ],
       "index": 0,
       "layout": "IPY_MODEL_0df0691be3ba462dbdf2e05dbe48d576",
       "style": "IPY_MODEL_7bcada42fdfa40ef8be725a100885fb4"
      }
     },
     "8d4afc344d334b158ddb93a965a6fbb6": {
      "model_module": "@jupyter-widgets/controls",
      "model_module_version": "1.5.0",
      "model_name": "ButtonModel",
      "state": {
       "description": "EDIT",
       "layout": "IPY_MODEL_558357256589430d84469b18be27112c",
       "style": "IPY_MODEL_38087427dfbf4659b03531751d533c1b"
      }
     },
     "8d579e3a803c4f84a9e78814113353ee": {
      "model_module": "@jupyter-widgets/controls",
      "model_module_version": "1.5.0",
      "model_name": "VBoxModel",
      "state": {
       "children": [
        "IPY_MODEL_84e2e42e0a4a4480a68f697985220f44",
        "IPY_MODEL_008df9dfa19d4c3393be4f40818b3975",
        "IPY_MODEL_237575fc0db94141a08665e7c4d452e9",
        "IPY_MODEL_dfad7e8f08a246e5b09413b56ff4ba4f",
        "IPY_MODEL_102070e606364cb88c65da4bee6164a9",
        "IPY_MODEL_d063d4fd991f41b6ad2e3d33d7e91ac2"
       ],
       "layout": "IPY_MODEL_a05cc7639e33439694af6e7ac97c3631"
      }
     },
     "8d6d0b949e0a42f6972a6073ce65f218": {
      "model_module": "@jupyter-widgets/controls",
      "model_module_version": "1.5.0",
      "model_name": "VBoxModel",
      "state": {
       "children": [
        "IPY_MODEL_4f5ad3e954814ab5a4aeeb624a9ee040",
        "IPY_MODEL_6b047dbe0ce24b2fb2521f9c2cfaa0af",
        "IPY_MODEL_ba020fb462614fb59552c4e105874856",
        "IPY_MODEL_0d49512cffdd470e8c3788f43844be2a",
        "IPY_MODEL_3a69b64ef75c432588484cca200a9628",
        "IPY_MODEL_3819f854a3e8481886a7bcbc8ce44e3a"
       ],
       "layout": "IPY_MODEL_a7eea3f12c854bb388c7ea2515ff6f20"
      }
     },
     "8d6e5db5f45046de9c2a7c79998b1a0f": {
      "model_module": "@jupyter-widgets/controls",
      "model_module_version": "1.5.0",
      "model_name": "LabelModel",
      "state": {
       "layout": "IPY_MODEL_d936ceeb385244b0af3b20dffd1af6a4",
       "style": "IPY_MODEL_365c420e54894aacb81b1b13728357c0",
       "value": "     (1/1)"
      }
     },
     "8da581c75a5e4ec3a69eccc7249cedb6": {
      "model_module": "@jupyter-widgets/controls",
      "model_module_version": "1.5.0",
      "model_name": "DescriptionStyleModel",
      "state": {
       "description_width": ""
      }
     },
     "8df8509ecb604735979788426bb7a013": {
      "model_module": "@jupyter-widgets/base",
      "model_module_version": "1.2.0",
      "model_name": "LayoutModel",
      "state": {
       "width": "60px"
      }
     },
     "8e2d6e7a80c1435390477018194deb39": {
      "model_module": "@jupyter-widgets/controls",
      "model_module_version": "1.5.0",
      "model_name": "DropdownModel",
      "state": {
       "_options_labels": [
        "Any"
       ],
       "disabled": true,
       "index": 0,
       "layout": "IPY_MODEL_0df0691be3ba462dbdf2e05dbe48d576",
       "style": "IPY_MODEL_b7ee5f8d70a74218b3ef28e197698ada"
      }
     },
     "8e63ecaa2cf24077a8bd62dcf2bdea51": {
      "model_module": "@jupyter-widgets/base",
      "model_module_version": "1.2.0",
      "model_name": "LayoutModel",
      "state": {
       "width": "60px"
      }
     },
     "8e89f4acaebc4a0294ca06084fde49ca": {
      "model_module": "@jupyter-widgets/base",
      "model_module_version": "1.2.0",
      "model_name": "LayoutModel",
      "state": {
       "display": "none"
      }
     },
     "8eb90c236b454adea8c76aa61e927b55": {
      "model_module": "@jupyter-widgets/controls",
      "model_module_version": "1.5.0",
      "model_name": "DropdownModel",
      "state": {
       "_options_labels": [
        "Any",
        "Titan",
        "Hunter",
        "Warlock"
       ],
       "index": 0,
       "layout": "IPY_MODEL_0df0691be3ba462dbdf2e05dbe48d576",
       "style": "IPY_MODEL_293246be46ae495d996686c29738455b"
      }
     },
     "8ee5c21760eb4e2e8f5757b69d50894b": {
      "model_module": "@jupyter-widgets/controls",
      "model_module_version": "1.5.0",
      "model_name": "LabelModel",
      "state": {
       "layout": "IPY_MODEL_d936ceeb385244b0af3b20dffd1af6a4",
       "style": "IPY_MODEL_687e006bc0c34c1090d73154530425a7",
       "value": "             objective 2"
      }
     },
     "8ee633f556dc42039b4263690cc27ff8": {
      "model_module": "@jupyter-widgets/controls",
      "model_module_version": "1.5.0",
      "model_name": "ButtonStyleModel",
      "state": {}
     },
     "8f260d052a984bc7b0f7399fc2bfdc07": {
      "model_module": "@jupyter-widgets/controls",
      "model_module_version": "1.5.0",
      "model_name": "DescriptionStyleModel",
      "state": {
       "description_width": ""
      }
     },
     "8f263e8c1bed465fbfcd77b4cff05e8f": {
      "model_module": "@jupyter-widgets/controls",
      "model_module_version": "1.5.0",
      "model_name": "IntProgressModel",
      "state": {
       "layout": "IPY_MODEL_9cd8ad29b7a349b5bae719462650b7df",
       "style": "IPY_MODEL_d733d47f807840fbadc79ce0396b26d0",
       "value": 30
      }
     },
     "8fbb558990884a6c9645be670d8234ec": {
      "model_module": "@jupyter-widgets/controls",
      "model_module_version": "1.5.0",
      "model_name": "ButtonStyleModel",
      "state": {}
     },
     "8fca0e4f0c6245a386ff703139208c6b": {
      "model_module": "@jupyter-widgets/controls",
      "model_module_version": "1.5.0",
      "model_name": "DescriptionStyleModel",
      "state": {
       "description_width": ""
      }
     },
     "8fd7bf734e724cdaad5ce5520030d0da": {
      "model_module": "@jupyter-widgets/controls",
      "model_module_version": "1.5.0",
      "model_name": "IntProgressModel",
      "state": {
       "layout": "IPY_MODEL_89d3af9fd7c04c2ea42a522a97b605a7",
       "style": "IPY_MODEL_4bb91baf8d6f499cb75c0af53870ea02",
       "value": 30
      }
     },
     "900db462560b4dde95e200a788c82d27": {
      "model_module": "@jupyter-widgets/controls",
      "model_module_version": "1.5.0",
      "model_name": "ProgressStyleModel",
      "state": {
       "description_width": ""
      }
     },
     "905be1be25474054b39681cdb8e16721": {
      "model_module": "@jupyter-widgets/controls",
      "model_module_version": "1.5.0",
      "model_name": "DescriptionStyleModel",
      "state": {
       "description_width": ""
      }
     },
     "907cb48a50194cf5b80fed7f94d59598": {
      "model_module": "@jupyter-widgets/controls",
      "model_module_version": "1.5.0",
      "model_name": "LabelModel",
      "state": {
       "layout": "IPY_MODEL_6d8a8ff71550484798864c4285fc4b90",
       "style": "IPY_MODEL_802b712fe4cf456eb868acb618826efd",
       "value": "Power Weapon:"
      }
     },
     "9089ae86639549a4bf3de7231f0bd947": {
      "model_module": "@jupyter-widgets/base",
      "model_module_version": "1.2.0",
      "model_name": "LayoutModel",
      "state": {
       "display": "flex"
      }
     },
     "90dca34f2c844c3ebdfe6c0e53bedc88": {
      "model_module": "@jupyter-widgets/controls",
      "model_module_version": "1.5.0",
      "model_name": "IntProgressModel",
      "state": {
       "layout": "IPY_MODEL_0fa33ef047654ac2b891a3ede0b415f5",
       "style": "IPY_MODEL_82c66486c6794bc99b6b38157490e8b0",
       "value": 30
      }
     },
     "90edd55867ed469d84dffb64482e1b1d": {
      "model_module": "@jupyter-widgets/controls",
      "model_module_version": "1.5.0",
      "model_name": "IntProgressModel",
      "state": {
       "bar_style": "success",
       "layout": "IPY_MODEL_98c35db6b8f147b48e25cd417a39f12e",
       "max": 1,
       "style": "IPY_MODEL_29e1404ae28742e299005f7ba4aeecf7",
       "value": 1
      }
     },
     "9101023a6d924582aba87b2ba95cdae9": {
      "model_module": "@jupyter-widgets/controls",
      "model_module_version": "1.5.0",
      "model_name": "ButtonStyleModel",
      "state": {}
     },
     "911c8979aaec49e685eec65d210f37ba": {
      "model_module": "@jupyter-widgets/controls",
      "model_module_version": "1.5.0",
      "model_name": "ButtonModel",
      "state": {
       "layout": "IPY_MODEL_791f7d9f70114e6799a48471196dfe9b",
       "style": "IPY_MODEL_4554f4cde1ef462891bd646959f68fc9"
      }
     },
     "911e21bc764f41c79d50367eb6d7f75e": {
      "model_module": "@jupyter-widgets/controls",
      "model_module_version": "1.5.0",
      "model_name": "DescriptionStyleModel",
      "state": {
       "description_width": ""
      }
     },
     "9143b516efa64c42abece2fd1fc91884": {
      "model_module": "@jupyter-widgets/controls",
      "model_module_version": "1.5.0",
      "model_name": "HBoxModel",
      "state": {
       "children": [
        "IPY_MODEL_c22828efbab444ceb77eb9c2018e3cee",
        "IPY_MODEL_dd0f0a0eb4e7400ca8e76fe981bc8dec",
        "IPY_MODEL_f66a200081324ab194ea0399b655f365",
        "IPY_MODEL_7cbed773772047e392657fdb657817a0"
       ],
       "layout": "IPY_MODEL_eb105ee04118440c84a64afcdcbacedf"
      }
     },
     "918abf711e7b45188dbb70fb051b9d8d": {
      "model_module": "@jupyter-widgets/controls",
      "model_module_version": "1.5.0",
      "model_name": "ProgressStyleModel",
      "state": {
       "description_width": ""
      }
     },
     "91ff1bd0e32c41638059a46df6958b42": {
      "model_module": "@jupyter-widgets/base",
      "model_module_version": "1.2.0",
      "model_name": "LayoutModel",
      "state": {
       "width": "60px"
      }
     },
     "9206be4bd9054be78c463bc0201abfe9": {
      "model_module": "@jupyter-widgets/controls",
      "model_module_version": "1.5.0",
      "model_name": "ButtonStyleModel",
      "state": {}
     },
     "9228ef95bf124902a607ca9d964f78e2": {
      "model_module": "@jupyter-widgets/base",
      "model_module_version": "1.2.0",
      "model_name": "LayoutModel",
      "state": {
       "width": "60px"
      }
     },
     "922e491a5a3344dfa309ecdeaae8e3de": {
      "model_module": "@jupyter-widgets/controls",
      "model_module_version": "1.5.0",
      "model_name": "LabelModel",
      "state": {
       "layout": "IPY_MODEL_ffada0c8da764ac7aea9472cacb9e750",
       "style": "IPY_MODEL_569162cd67d64292a613557c358f59cc",
       "value": "             objective 1"
      }
     },
     "9235bbf6295a4550b19ce6d99690a03b": {
      "model_module": "@jupyter-widgets/controls",
      "model_module_version": "1.5.0",
      "model_name": "DescriptionStyleModel",
      "state": {
       "description_width": ""
      }
     },
     "926be6b7e9f44911be0096dcbbd40dd7": {
      "model_module": "@jupyter-widgets/controls",
      "model_module_version": "1.5.0",
      "model_name": "HBoxModel",
      "state": {
       "children": [
        "IPY_MODEL_9d00f3a9c0ed4e5781b98ef9b5608640",
        "IPY_MODEL_4a51c7155e2a42c1a224bc78af11ec7e",
        "IPY_MODEL_70f041dd5099429cb7bfe957ed14d28b",
        "IPY_MODEL_c7056b03fa7d461fb6ce15c9f7f9ba3e"
       ],
       "layout": "IPY_MODEL_f1fd4a74dcc54e6e910ab2903793621b"
      }
     },
     "92b952f06f714494b7fc7b277f97fae1": {
      "model_module": "@jupyter-widgets/base",
      "model_module_version": "1.2.0",
      "model_name": "LayoutModel",
      "state": {
       "height": "20px"
      }
     },
     "92ba12d19eb04cec96478ccb7c6f9d37": {
      "model_module": "@jupyter-widgets/base",
      "model_module_version": "1.2.0",
      "model_name": "LayoutModel",
      "state": {
       "display": "flex",
       "flex_flow": "row wrap"
      }
     },
     "93454f9fc50d44ad950bc3eb9d70823c": {
      "model_module": "@jupyter-widgets/output",
      "model_module_version": "1.0.0",
      "model_name": "OutputModel",
      "state": {
       "layout": "IPY_MODEL_e9b7dcf89a354d0885543c0d695faf5d"
      }
     },
     "9355e698c8dd45e1aba5c3615f64e9bf": {
      "model_module": "@jupyter-widgets/base",
      "model_module_version": "1.2.0",
      "model_name": "LayoutModel",
      "state": {
       "width": "60px"
      }
     },
     "939c3062f6a94613ac94feda256c50fa": {
      "model_module": "@jupyter-widgets/base",
      "model_module_version": "1.2.0",
      "model_name": "LayoutModel",
      "state": {
       "order": "-1",
       "overflow": "visible",
       "padding": "1px",
       "width": "0px"
      }
     },
     "93b4493799654c4bb7d8d503655512ab": {
      "model_module": "@jupyter-widgets/controls",
      "model_module_version": "1.5.0",
      "model_name": "IntProgressModel",
      "state": {
       "layout": "IPY_MODEL_0fa33ef047654ac2b891a3ede0b415f5",
       "style": "IPY_MODEL_68030fa85d8c4d91ac5a8c3f4484c399",
       "value": 30
      }
     },
     "93da423eabf9429aa25dc570c549bee6": {
      "model_module": "@jupyter-widgets/controls",
      "model_module_version": "1.5.0",
      "model_name": "IntProgressModel",
      "state": {
       "bar_style": "success",
       "layout": "IPY_MODEL_98c35db6b8f147b48e25cd417a39f12e",
       "max": 25,
       "style": "IPY_MODEL_f938e885122b43638fa8d6549f9cca85",
       "value": 25
      }
     },
     "9400bc4649e3464f9c9afce76006309a": {
      "model_module": "@jupyter-widgets/controls",
      "model_module_version": "1.5.0",
      "model_name": "HBoxModel",
      "state": {
       "children": [
        "IPY_MODEL_4b41cb486f0f45b082788000308f785e",
        "IPY_MODEL_93b4493799654c4bb7d8d503655512ab",
        "IPY_MODEL_1ad286a4987e42b2bb61d81fff877a25",
        "IPY_MODEL_544302b56dfe409c9794b385af39163b"
       ],
       "layout": "IPY_MODEL_45b5f9e76e6e4959a764c22a141326eb"
      }
     },
     "9401113ed9864a5d8f92fc69df7f39f9": {
      "model_module": "@jupyter-widgets/controls",
      "model_module_version": "1.5.0",
      "model_name": "ButtonStyleModel",
      "state": {}
     },
     "941db47e69d24d78ae5491d27b941964": {
      "model_module": "@jupyter-widgets/base",
      "model_module_version": "1.2.0",
      "model_name": "LayoutModel",
      "state": {
       "justify_content": "space-between"
      }
     },
     "945c8b74bbab45678fcfe3db656fcfb4": {
      "model_module": "@jupyter-widgets/controls",
      "model_module_version": "1.5.0",
      "model_name": "DropdownModel",
      "state": {
       "_options_labels": [
        "Any",
        "Kinetic",
        "Solar",
        "Void",
        "Arc"
       ],
       "index": 0,
       "layout": "IPY_MODEL_3fc045ecc6f2435c927ec7725208dfa4",
       "style": "IPY_MODEL_a19f7fc9384d4f868e8e4101e0decf61"
      }
     },
     "946c36f5ba6b4b4e8f7de7d3ddfde679": {
      "model_module": "@jupyter-widgets/base",
      "model_module_version": "1.2.0",
      "model_name": "LayoutModel",
      "state": {
       "width": "60px"
      }
     },
     "9498d5cfb76d4d29bd0f7000d8518a4e": {
      "model_module": "@jupyter-widgets/controls",
      "model_module_version": "1.5.0",
      "model_name": "DescriptionStyleModel",
      "state": {
       "description_width": ""
      }
     },
     "94ef49920e1f495293b6b768819fdde1": {
      "model_module": "@jupyter-widgets/base",
      "model_module_version": "1.2.0",
      "model_name": "LayoutModel",
      "state": {
       "width": "60px"
      }
     },
     "957c2547fc2243298f13f79ed4099977": {
      "model_module": "@jupyter-widgets/controls",
      "model_module_version": "1.5.0",
      "model_name": "ButtonModel",
      "state": {
       "description": "EDIT",
       "layout": "IPY_MODEL_65a9c248ed294d88b6f93f9cbf70a72f",
       "style": "IPY_MODEL_4855eff59ca94241a861b23217225aee"
      }
     },
     "95a89d67e53e49828ab9ee2ae49ebe8e": {
      "model_module": "@jupyter-widgets/base",
      "model_module_version": "1.2.0",
      "model_name": "LayoutModel",
      "state": {
       "width": "60px"
      }
     },
     "95d15c3472bf48b4af09170ca9271035": {
      "model_module": "@jupyter-widgets/controls",
      "model_module_version": "1.5.0",
      "model_name": "ProgressStyleModel",
      "state": {
       "description_width": ""
      }
     },
     "961e81baf0a04673bb7faedd931ecba1": {
      "model_module": "@jupyter-widgets/base",
      "model_module_version": "1.2.0",
      "model_name": "LayoutModel",
      "state": {
       "display": "none"
      }
     },
     "9635c563fd8248208cf2b2dd847ca451": {
      "model_module": "@jupyter-widgets/controls",
      "model_module_version": "1.5.0",
      "model_name": "DropdownModel",
      "state": {
       "_options_labels": [
        "Any"
       ],
       "index": 0,
       "layout": "IPY_MODEL_0df0691be3ba462dbdf2e05dbe48d576",
       "style": "IPY_MODEL_c29309830f5545489a1755c3bedbb6d2"
      }
     },
     "9639557cf536431695397488a9efd640": {
      "model_module": "@jupyter-widgets/controls",
      "model_module_version": "1.5.0",
      "model_name": "DropdownModel",
      "state": {
       "_options_labels": [
        "Any",
        "Hand Cannon",
        "Auto Rifle",
        "Scout Rifle",
        "Pulse Rifle",
        "Sidearm",
        "Submachine Gun",
        "Combt Bow",
        "Sniper Rifle",
        "Shotgun",
        "Fusion Rifle",
        "Grenade Launcher"
       ],
       "index": 0,
       "layout": "IPY_MODEL_6d8a8ff71550484798864c4285fc4b90",
       "style": "IPY_MODEL_bf38712aaf2a4005a304c861a6fd5501"
      }
     },
     "96852593bf934757b20c76b5910ba43a": {
      "model_module": "@jupyter-widgets/controls",
      "model_module_version": "1.5.0",
      "model_name": "ButtonModel",
      "state": {
       "description": "EDIT",
       "layout": "IPY_MODEL_9c460e9433e64cbc93924f6ec17c4e2c",
       "style": "IPY_MODEL_65bf6862948c4c4ea6a697777982e4d8"
      }
     },
     "9691108169274a5d8873b7d1f40bbb16": {
      "model_module": "@jupyter-widgets/controls",
      "model_module_version": "1.5.0",
      "model_name": "ButtonStyleModel",
      "state": {}
     },
     "96c06f12d2bd422aad4bfd5c3582f61d": {
      "model_module": "@jupyter-widgets/controls",
      "model_module_version": "1.5.0",
      "model_name": "ButtonStyleModel",
      "state": {}
     },
     "97182579aac946a192724257a76dfc4b": {
      "model_module": "@jupyter-widgets/base",
      "model_module_version": "1.2.0",
      "model_name": "LayoutModel",
      "state": {
       "width": "60px"
      }
     },
     "97a65cb2285d48f98007bbefd7ded5b7": {
      "model_module": "@jupyter-widgets/controls",
      "model_module_version": "1.5.0",
      "model_name": "DropdownModel",
      "state": {
       "_options_labels": [
        "Any",
        "Titan",
        "Hunter",
        "Warlock"
       ],
       "index": 0,
       "layout": "IPY_MODEL_3fc045ecc6f2435c927ec7725208dfa4",
       "style": "IPY_MODEL_9edfe9b820ca45a58ba6f227e29a1ab0"
      }
     },
     "97aecb21d989469aadc105011cf5462b": {
      "model_module": "@jupyter-widgets/controls",
      "model_module_version": "1.5.0",
      "model_name": "ButtonStyleModel",
      "state": {}
     },
     "97d5925c3afc4762aa65c36ec29d30c1": {
      "model_module": "@jupyter-widgets/controls",
      "model_module_version": "1.5.0",
      "model_name": "HBoxModel",
      "state": {
       "children": [
        "IPY_MODEL_69f734723d4342a390537111151b4226",
        "IPY_MODEL_4fcb701afb834737a15bdc89c4093369",
        "IPY_MODEL_519cf423d3f14a32af58524b1ed4718c",
        "IPY_MODEL_38d3b92e484f4eb390a444666c9df5f9"
       ],
       "layout": "IPY_MODEL_cfc81ad3830b420eaea8478099f0d204"
      }
     },
     "97e06896fe2a4f90ad63945276c9ffa8": {
      "model_module": "@jupyter-widgets/base",
      "model_module_version": "1.2.0",
      "model_name": "LayoutModel",
      "state": {
       "display": "none"
      }
     },
     "981192c839bf42d390fcc290980664f8": {
      "model_module": "@jupyter-widgets/controls",
      "model_module_version": "1.5.0",
      "model_name": "LabelModel",
      "state": {
       "layout": "IPY_MODEL_589ff327868f4703a4f298aa90eece78",
       "style": "IPY_MODEL_86032a99e4854ed0a19145c6a8e02410",
       "value": "             objective 1"
      }
     },
     "984f78a93fd543339f73eba3797a501b": {
      "model_module": "@jupyter-widgets/controls",
      "model_module_version": "1.5.0",
      "model_name": "ButtonModel",
      "state": {
       "layout": "IPY_MODEL_47bf8d0632ce4bacb240c8dde1583f8f",
       "style": "IPY_MODEL_330fc53f8368493bbff2a79bc262e8a8"
      }
     },
     "98540a4a8a284daa825006cb5e82b063": {
      "model_module": "@jupyter-widgets/base",
      "model_module_version": "1.2.0",
      "model_name": "LayoutModel",
      "state": {}
     },
     "9884f0562460403aa7c94286e1553033": {
      "model_module": "@jupyter-widgets/controls",
      "model_module_version": "1.5.0",
      "model_name": "ButtonModel",
      "state": {
       "layout": "IPY_MODEL_5d79c30d8f6a4803b557546ce34d582d",
       "style": "IPY_MODEL_3ca5d4b0481d4160b5426b88e1c69ef0"
      }
     },
     "9884f60ab0a24356b9df5f2497fd2cac": {
      "model_module": "@jupyter-widgets/base",
      "model_module_version": "1.2.0",
      "model_name": "LayoutModel",
      "state": {
       "height": "32px",
       "overflow": "visible",
       "padding": "0px",
       "width": "100%"
      }
     },
     "98c35db6b8f147b48e25cd417a39f12e": {
      "model_module": "@jupyter-widgets/base",
      "model_module_version": "1.2.0",
      "model_name": "LayoutModel",
      "state": {
       "height": "32px",
       "overflow": "visible",
       "padding": "0px",
       "width": "100%"
      }
     },
     "98efd02a443f4cfe814558e1b93c9709": {
      "model_module": "@jupyter-widgets/controls",
      "model_module_version": "1.5.0",
      "model_name": "DescriptionStyleModel",
      "state": {
       "description_width": ""
      }
     },
     "9917b1ac67a340ec8aa8c048fef82710": {
      "model_module": "@jupyter-widgets/controls",
      "model_module_version": "1.5.0",
      "model_name": "ButtonStyleModel",
      "state": {}
     },
     "994095998115438fb7c6236667de2e16": {
      "model_module": "@jupyter-widgets/controls",
      "model_module_version": "1.5.0",
      "model_name": "DescriptionStyleModel",
      "state": {
       "description_width": ""
      }
     },
     "9956a4e6a1b44f0f94ce3dbc738b6d32": {
      "model_module": "@jupyter-widgets/base",
      "model_module_version": "1.2.0",
      "model_name": "LayoutModel",
      "state": {
       "border": "3px solid white",
       "display": "flex",
       "margin": "10px",
       "overflow": "visible",
       "padding": "10px",
       "width": "400px"
      }
     },
     "99599b7dd0a94667862cdfd86a4bf7d0": {
      "model_module": "@jupyter-widgets/controls",
      "model_module_version": "1.5.0",
      "model_name": "DescriptionStyleModel",
      "state": {
       "description_width": ""
      }
     },
     "996370cc5cd0498d961cbf587cfdef43": {
      "model_module": "@jupyter-widgets/controls",
      "model_module_version": "1.5.0",
      "model_name": "IntProgressModel",
      "state": {
       "layout": "IPY_MODEL_0a8c9f5551e7430eb6e8d776e0f31279",
       "style": "IPY_MODEL_4c3a60c0552043789bca6b6898939bcd",
       "value": 30
      }
     },
     "99aef1295f0b469590600aa6c0ae8e5b": {
      "model_module": "@jupyter-widgets/controls",
      "model_module_version": "1.5.0",
      "model_name": "IntProgressModel",
      "state": {
       "layout": "IPY_MODEL_a29f781ca5d3470cb2442f65a7efce84",
       "style": "IPY_MODEL_fcd10af1b1874713a269f9ecf0b20034",
       "value": 30
      }
     },
     "99bd9d57bca240d5bd40e5d2845919c7": {
      "model_module": "@jupyter-widgets/controls",
      "model_module_version": "1.5.0",
      "model_name": "DescriptionStyleModel",
      "state": {
       "description_width": ""
      }
     },
     "99d0b31470ee461ea9395cfa1730eb40": {
      "model_module": "@jupyter-widgets/base",
      "model_module_version": "1.2.0",
      "model_name": "LayoutModel",
      "state": {
       "display": "none"
      }
     },
     "9a04ef9ad4b74e08813152654aaa5dac": {
      "model_module": "@jupyter-widgets/controls",
      "model_module_version": "1.5.0",
      "model_name": "ProgressStyleModel",
      "state": {
       "description_width": ""
      }
     },
     "9a13eebe275e42229914213f9421db67": {
      "model_module": "@jupyter-widgets/controls",
      "model_module_version": "1.5.0",
      "model_name": "DescriptionStyleModel",
      "state": {
       "description_width": ""
      }
     },
     "9a5a16994f18493789ee6f62ccd459d1": {
      "model_module": "@jupyter-widgets/controls",
      "model_module_version": "1.5.0",
      "model_name": "ButtonStyleModel",
      "state": {}
     },
     "9a6a7522dc6847f69df99b554ca60c26": {
      "model_module": "@jupyter-widgets/controls",
      "model_module_version": "1.5.0",
      "model_name": "ButtonStyleModel",
      "state": {}
     },
     "9b3fe460b34f4954999fb21d461e9f15": {
      "model_module": "@jupyter-widgets/base",
      "model_module_version": "1.2.0",
      "model_name": "LayoutModel",
      "state": {
       "display": "none"
      }
     },
     "9bbc68aca6fb4e98829c3bdd4bdc6730": {
      "model_module": "@jupyter-widgets/base",
      "model_module_version": "1.2.0",
      "model_name": "LayoutModel",
      "state": {}
     },
     "9bfb1356f7704747be02fe5fc4818ae6": {
      "model_module": "@jupyter-widgets/base",
      "model_module_version": "1.2.0",
      "model_name": "LayoutModel",
      "state": {}
     },
     "9c02f4729d7e48b1b60d859fe92e03f3": {
      "model_module": "@jupyter-widgets/controls",
      "model_module_version": "1.5.0",
      "model_name": "DescriptionStyleModel",
      "state": {
       "description_width": ""
      }
     },
     "9c3f5eff1b28479f87e1b77980269a90": {
      "model_module": "@jupyter-widgets/controls",
      "model_module_version": "1.5.0",
      "model_name": "DescriptionStyleModel",
      "state": {
       "description_width": ""
      }
     },
     "9c460e9433e64cbc93924f6ec17c4e2c": {
      "model_module": "@jupyter-widgets/base",
      "model_module_version": "1.2.0",
      "model_name": "LayoutModel",
      "state": {
       "width": "60px"
      }
     },
     "9c53c61f591b4891b87f5b1c61a9a76e": {
      "model_module": "@jupyter-widgets/controls",
      "model_module_version": "1.5.0",
      "model_name": "DescriptionStyleModel",
      "state": {
       "description_width": ""
      }
     },
     "9c5ea9ba841d43c8817db7217ae7407c": {
      "model_module": "@jupyter-widgets/controls",
      "model_module_version": "1.5.0",
      "model_name": "ButtonModel",
      "state": {
       "description": "EDIT",
       "layout": "IPY_MODEL_fd8c47baecf74486bfda7c94503fa8d7",
       "style": "IPY_MODEL_8c4d19e7acb246e68adefeb46d39872f"
      }
     },
     "9c870ad06c3a44d7b2d636882998d098": {
      "model_module": "@jupyter-widgets/controls",
      "model_module_version": "1.5.0",
      "model_name": "ProgressStyleModel",
      "state": {
       "description_width": ""
      }
     },
     "9cca63004e754d66960a9f3a765ee0f3": {
      "model_module": "@jupyter-widgets/controls",
      "model_module_version": "1.5.0",
      "model_name": "LabelModel",
      "state": {
       "layout": "IPY_MODEL_de761fae7a1342f4a91f2ee111dedcaf",
       "style": "IPY_MODEL_324c2c997367470ba2f34c37bbf1418a",
       "value": "             objective 4"
      }
     },
     "9cd8ad29b7a349b5bae719462650b7df": {
      "model_module": "@jupyter-widgets/base",
      "model_module_version": "1.2.0",
      "model_name": "LayoutModel",
      "state": {
       "height": "32px",
       "overflow": "visible",
       "padding": "0px",
       "width": "100%"
      }
     },
     "9ce27f83a37c47a8a943ad402b669f57": {
      "model_module": "@jupyter-widgets/controls",
      "model_module_version": "1.5.0",
      "model_name": "ButtonStyleModel",
      "state": {}
     },
     "9ce53b487572468d9d5049ff4deb9752": {
      "model_module": "@jupyter-widgets/controls",
      "model_module_version": "1.5.0",
      "model_name": "HBoxModel",
      "state": {
       "children": [
        "IPY_MODEL_edffe3e244fc4fbf9f1b05b395c87497",
        "IPY_MODEL_11b2ec3160ca4fc38ec6eeecc92d1222",
        "IPY_MODEL_d7648e42f3a647378761f54b22c81929",
        "IPY_MODEL_a86212cfba78460e99336d5e291b3948"
       ],
       "layout": "IPY_MODEL_159458ef65d04f378c4a661a48aebc7c"
      }
     },
     "9d00f3a9c0ed4e5781b98ef9b5608640": {
      "model_module": "@jupyter-widgets/controls",
      "model_module_version": "1.5.0",
      "model_name": "ButtonModel",
      "state": {
       "layout": "IPY_MODEL_43d77ef9305a48a7b4be608443922232",
       "style": "IPY_MODEL_c02637c559a54676b97ea32c4276d2c3"
      }
     },
     "9d097e6f135c40d18c34c5d9b903044e": {
      "model_module": "@jupyter-widgets/controls",
      "model_module_version": "1.5.0",
      "model_name": "HBoxModel",
      "state": {
       "children": [
        "IPY_MODEL_a7765c40d1854dc08f15771d1a9fb6e1",
        "IPY_MODEL_cfa4f5aac8c64f7b9273a313ebf4c9b1",
        "IPY_MODEL_c176d10b3b884415b917cd0b6a037965",
        "IPY_MODEL_eaad053a4abc45b8a0a969977a1a965f"
       ],
       "layout": "IPY_MODEL_d912240583144b82bb838e773292a99a"
      }
     },
     "9d4660e325cc45a5a0c7605607d616e4": {
      "model_module": "@jupyter-widgets/controls",
      "model_module_version": "1.5.0",
      "model_name": "ButtonModel",
      "state": {
       "layout": "IPY_MODEL_d28c51ec24ec479a8db1bd4daeee9600",
       "style": "IPY_MODEL_4b8b869569ed4f61ae377ee0436ee993"
      }
     },
     "9dab98af88c14a05b8700f183ba978fe": {
      "model_module": "@jupyter-widgets/controls",
      "model_module_version": "1.5.0",
      "model_name": "DescriptionStyleModel",
      "state": {
       "description_width": ""
      }
     },
     "9dc1fae54a994406b508a50f09692264": {
      "model_module": "@jupyter-widgets/controls",
      "model_module_version": "1.5.0",
      "model_name": "VBoxModel",
      "state": {
       "children": [
        "IPY_MODEL_2cc50710772a437dbff68b9b21974181",
        "IPY_MODEL_04446fcfe98946d18db97002c0c617d0",
        "IPY_MODEL_a6ffe1f46a914e06b3b69fbeb97dc1e9",
        "IPY_MODEL_2422a0778c48422cab6b455c776c7e84"
       ],
       "layout": "IPY_MODEL_5226b8aa735a46faa033273bd635ca83"
      }
     },
     "9e8385b8554c4c9fa12fdfff810335d7": {
      "model_module": "@jupyter-widgets/base",
      "model_module_version": "1.2.0",
      "model_name": "LayoutModel",
      "state": {
       "border": "3px solid white",
       "display": "flex",
       "margin": "10px",
       "overflow": "visible",
       "padding": "10px",
       "width": "400px"
      }
     },
     "9e83af9ac1e14697ae3732218ee351a7": {
      "model_module": "@jupyter-widgets/controls",
      "model_module_version": "1.5.0",
      "model_name": "ButtonModel",
      "state": {
       "layout": "IPY_MODEL_35f6c9c4599841f5aa420dbb401fcad6",
       "style": "IPY_MODEL_274aaf0797c94fda8b1163525cb998a1"
      }
     },
     "9ec81e195057438cbe6109309b13d629": {
      "model_module": "@jupyter-widgets/base",
      "model_module_version": "1.2.0",
      "model_name": "LayoutModel",
      "state": {
       "display": "flex"
      }
     },
     "9edfe9b820ca45a58ba6f227e29a1ab0": {
      "model_module": "@jupyter-widgets/controls",
      "model_module_version": "1.5.0",
      "model_name": "DescriptionStyleModel",
      "state": {
       "description_width": ""
      }
     },
     "9f0fd88faf874f88b49511680cedae8f": {
      "model_module": "@jupyter-widgets/controls",
      "model_module_version": "1.5.0",
      "model_name": "LabelModel",
      "state": {
       "layout": "IPY_MODEL_589ff327868f4703a4f298aa90eece78",
       "style": "IPY_MODEL_a1c850ecd54c453e998cd2f92d8482ce",
       "value": "             objective 4"
      }
     },
     "9f5cc4a648444de0ab898c5cee7c6d43": {
      "model_module": "@jupyter-widgets/base",
      "model_module_version": "1.2.0",
      "model_name": "LayoutModel",
      "state": {
       "width": "60px"
      }
     },
     "9f884b49eb8d47c4b47b96eb0c23efb0": {
      "model_module": "@jupyter-widgets/base",
      "model_module_version": "1.2.0",
      "model_name": "LayoutModel",
      "state": {
       "width": "60px"
      }
     },
     "9fa8166a8875467096eb5f5bedfc0677": {
      "model_module": "@jupyter-widgets/controls",
      "model_module_version": "1.5.0",
      "model_name": "HBoxModel",
      "state": {
       "children": [
        "IPY_MODEL_6663ec2699ab4fc0a206e6c9820c5a2e",
        "IPY_MODEL_363044067b7b4dffab92feceb4488540",
        "IPY_MODEL_58471d0989cc43ca8ccdc9d98fedcd24",
        "IPY_MODEL_48d3f615b0104735b7c1b96f73e34dc5"
       ],
       "layout": "IPY_MODEL_bf7919084d5d4ead8f6b81b5efd2b2b4"
      }
     },
     "9fc070158e7b4ea8873b9208a85b843b": {
      "model_module": "@jupyter-widgets/controls",
      "model_module_version": "1.5.0",
      "model_name": "ButtonModel",
      "state": {
       "description": "EDIT",
       "layout": "IPY_MODEL_97182579aac946a192724257a76dfc4b",
       "style": "IPY_MODEL_afc3655492664b908b955dbe58827039"
      }
     },
     "9ff132bed7d646b886b007499d951729": {
      "model_module": "@jupyter-widgets/controls",
      "model_module_version": "1.5.0",
      "model_name": "LabelModel",
      "state": {
       "layout": "IPY_MODEL_ffada0c8da764ac7aea9472cacb9e750",
       "style": "IPY_MODEL_4116daee3b9944568ae03404113c6eb4",
       "value": "             objective 4"
      }
     },
     "9ff41aa7b4364f53a997258bf335eddc": {
      "model_module": "@jupyter-widgets/controls",
      "model_module_version": "1.5.0",
      "model_name": "LabelModel",
      "state": {
       "layout": "IPY_MODEL_a7cb5d5ecfd046049ce25a7a0ba1208a",
       "style": "IPY_MODEL_4712dfc862a647f299e2fef973102c53",
       "value": "             objective 1"
      }
     },
     "a05cc7639e33439694af6e7ac97c3631": {
      "model_module": "@jupyter-widgets/base",
      "model_module_version": "1.2.0",
      "model_name": "LayoutModel",
      "state": {
       "overflow": "visible",
       "width": "100%"
      }
     },
     "a068b4089fbb4090849f6693d5a22802": {
      "model_module": "@jupyter-widgets/controls",
      "model_module_version": "1.5.0",
      "model_name": "IntProgressModel",
      "state": {
       "bar_style": "success",
       "layout": "IPY_MODEL_0fa33ef047654ac2b891a3ede0b415f5",
       "max": 1,
       "style": "IPY_MODEL_da88e15bdf8046f0b2b6ccb96cad190b",
       "value": 1
      }
     },
     "a0f22e87ac5546b7865db8295d28a41c": {
      "model_module": "@jupyter-widgets/controls",
      "model_module_version": "1.5.0",
      "model_name": "DescriptionStyleModel",
      "state": {
       "description_width": ""
      }
     },
     "a10cb4a7c48440bf837d3ec59d711650": {
      "model_module": "@jupyter-widgets/base",
      "model_module_version": "1.2.0",
      "model_name": "LayoutModel",
      "state": {
       "display": "none"
      }
     },
     "a11f170d68ac4082aaff584b0dd5652e": {
      "model_module": "@jupyter-widgets/base",
      "model_module_version": "1.2.0",
      "model_name": "LayoutModel",
      "state": {
       "border": "3px solid white",
       "display": "flex",
       "margin": "10px",
       "overflow": "visible",
       "padding": "10px",
       "width": "400px"
      }
     },
     "a15b39c8c53048a2a0d96802654475c4": {
      "model_module": "@jupyter-widgets/controls",
      "model_module_version": "1.5.0",
      "model_name": "LabelModel",
      "state": {
       "layout": "IPY_MODEL_00c2378b32254d8e81260814290bcdae",
       "style": "IPY_MODEL_2aa02327d19942d5bb7895835c8063ed",
       "value": "             objective 1"
      }
     },
     "a16db56f29874031be2cc9e607ca11e9": {
      "model_module": "@jupyter-widgets/controls",
      "model_module_version": "1.5.0",
      "model_name": "HBoxModel",
      "state": {
       "children": [
        "IPY_MODEL_f277af3822b843ac91124373fa4a3460",
        "IPY_MODEL_2cf15f492f964b48b59d9a08113a2643",
        "IPY_MODEL_76c57defeaef48f38c325f63ebac98a7",
        "IPY_MODEL_3002be8371cb468cbaaf6bf16b5e4db4"
       ],
       "layout": "IPY_MODEL_ccc18d97960a4bd6972e95600a6074dc"
      }
     },
     "a19f7fc9384d4f868e8e4101e0decf61": {
      "model_module": "@jupyter-widgets/controls",
      "model_module_version": "1.5.0",
      "model_name": "DescriptionStyleModel",
      "state": {
       "description_width": ""
      }
     },
     "a1c07738bf29486193da31934544e608": {
      "model_module": "@jupyter-widgets/controls",
      "model_module_version": "1.5.0",
      "model_name": "IntProgressModel",
      "state": {
       "layout": "IPY_MODEL_a82a1fc7a2e743c0a15fd29efd4506b9",
       "max": 1,
       "style": "IPY_MODEL_1e7d647f65c5456cafa9233d00fe2337"
      }
     },
     "a1c850ecd54c453e998cd2f92d8482ce": {
      "model_module": "@jupyter-widgets/controls",
      "model_module_version": "1.5.0",
      "model_name": "DescriptionStyleModel",
      "state": {
       "description_width": ""
      }
     },
     "a23a751d97dd40d881fab003ce7ab892": {
      "model_module": "@jupyter-widgets/controls",
      "model_module_version": "1.5.0",
      "model_name": "ButtonModel",
      "state": {
       "description": "EDIT",
       "layout": "IPY_MODEL_4e10da501b4249c5820b30e87306f5a7",
       "style": "IPY_MODEL_56d0062dd38b45569024a17eedc85b57"
      }
     },
     "a27324aa4fd44181b49f4bcd2da9abf0": {
      "model_module": "@jupyter-widgets/base",
      "model_module_version": "1.2.0",
      "model_name": "LayoutModel",
      "state": {
       "display": "none"
      }
     },
     "a29f781ca5d3470cb2442f65a7efce84": {
      "model_module": "@jupyter-widgets/base",
      "model_module_version": "1.2.0",
      "model_name": "LayoutModel",
      "state": {
       "height": "32px",
       "overflow": "visible",
       "padding": "0px",
       "width": "100%"
      }
     },
     "a3209952ce5e4db5872916bb26b8f497": {
      "model_module": "@jupyter-widgets/controls",
      "model_module_version": "1.5.0",
      "model_name": "ProgressStyleModel",
      "state": {
       "description_width": ""
      }
     },
     "a3349e8996c0424abef4d16a63bbb7d9": {
      "model_module": "@jupyter-widgets/controls",
      "model_module_version": "1.5.0",
      "model_name": "HBoxModel",
      "state": {
       "children": [
        "IPY_MODEL_2fb3bb8fb4f7463c9cea3c73e6ada5bc",
        "IPY_MODEL_f207dded5b1b4c46a73c295a44e15dab",
        "IPY_MODEL_afd912b0fbf04bc4b19598659209762f",
        "IPY_MODEL_797a210dea334414b76be79568bf2ad2"
       ],
       "layout": "IPY_MODEL_06d4a17c4cf74526ba0cf7d87df5efdd"
      }
     },
     "a344063b2d4a4bcdbcf54d7fccd86580": {
      "model_module": "@jupyter-widgets/base",
      "model_module_version": "1.2.0",
      "model_name": "LayoutModel",
      "state": {
       "width": "60px"
      }
     },
     "a35268ecda8c49c1be88c5f5e31423a7": {
      "model_module": "@jupyter-widgets/controls",
      "model_module_version": "1.5.0",
      "model_name": "ButtonModel",
      "state": {
       "layout": "IPY_MODEL_da2a780ab23443d69418f12d85756101",
       "style": "IPY_MODEL_d87700596f024989957504852a5fcb82"
      }
     },
     "a38534a0edcb4f5c88a5a7549c1ff56c": {
      "model_module": "@jupyter-widgets/base",
      "model_module_version": "1.2.0",
      "model_name": "LayoutModel",
      "state": {}
     },
     "a39e7614ad2144498a4ff0fe6925b31a": {
      "model_module": "@jupyter-widgets/controls",
      "model_module_version": "1.5.0",
      "model_name": "BoxModel",
      "state": {
       "layout": "IPY_MODEL_92b952f06f714494b7fc7b277f97fae1"
      }
     },
     "a3c3a4e7167043bc98fbcea9ae112f1e": {
      "model_module": "@jupyter-widgets/base",
      "model_module_version": "1.2.0",
      "model_name": "LayoutModel",
      "state": {
       "display": "none"
      }
     },
     "a3ca69ba36794e0cab5db56c5cb931ea": {
      "model_module": "@jupyter-widgets/controls",
      "model_module_version": "1.5.0",
      "model_name": "ButtonStyleModel",
      "state": {}
     },
     "a3d390597f694656b6251c04171badba": {
      "model_module": "@jupyter-widgets/base",
      "model_module_version": "1.2.0",
      "model_name": "LayoutModel",
      "state": {
       "overflow": "visible",
       "width": "100%"
      }
     },
     "a3f65416d8ab4ed89ba6be10c8ad90b5": {
      "model_module": "@jupyter-widgets/controls",
      "model_module_version": "1.5.0",
      "model_name": "ButtonStyleModel",
      "state": {}
     },
     "a4016ce6e9b2469e9467ebe2da3cc19f": {
      "model_module": "@jupyter-widgets/controls",
      "model_module_version": "1.5.0",
      "model_name": "HTMLModel",
      "state": {
       "layout": "IPY_MODEL_70a2156c045d4bd591276dfc0e6d9c21",
       "style": "IPY_MODEL_227751ee5e49496d9d8766d928ba9153",
       "value": "<font size=\"1\">Triumphs/Lore/The Light/Ghost Stories/</font size=>"
      }
     },
     "a40caeccc09b489484b77080ec5de686": {
      "model_module": "@jupyter-widgets/base",
      "model_module_version": "1.2.0",
      "model_name": "LayoutModel",
      "state": {
       "overflow": "visible",
       "width": "100%"
      }
     },
     "a40ecd1b986f4b7f930050cf9708d29b": {
      "model_module": "@jupyter-widgets/controls",
      "model_module_version": "1.5.0",
      "model_name": "HBoxModel",
      "state": {
       "children": [
        "IPY_MODEL_b832558804e14344b3bb9472507de5d3",
        "IPY_MODEL_339df0101f764be3b19891979215d279",
        "IPY_MODEL_abd41005e4d74155b7457bcd35c71323",
        "IPY_MODEL_deb815b3febd4632a68d7142cca67db1"
       ],
       "layout": "IPY_MODEL_e00847cf008c479692e8340dfea397ed"
      }
     },
     "a42b53a98126496692b7c1be81a0337b": {
      "model_module": "@jupyter-widgets/controls",
      "model_module_version": "1.5.0",
      "model_name": "HBoxModel",
      "state": {
       "children": [
        "IPY_MODEL_faacce624d10426692ca2eb5211a64b7",
        "IPY_MODEL_32e7a07bbd2544fdb2ea03c2e3c72655",
        "IPY_MODEL_675c728f0f5440c486131427d564958e",
        "IPY_MODEL_4cd6db57742448648e749e9c11c1fc58"
       ],
       "layout": "IPY_MODEL_a10cb4a7c48440bf837d3ec59d711650"
      }
     },
     "a46f98fc80274440aedae1c71a8e2c2c": {
      "model_module": "@jupyter-widgets/controls",
      "model_module_version": "1.5.0",
      "model_name": "LabelModel",
      "state": {
       "layout": "IPY_MODEL_589ff327868f4703a4f298aa90eece78",
       "style": "IPY_MODEL_8ce9bb1a4b834942ae21d7cebfd73292",
       "value": "             objective 3"
      }
     },
     "a4bfc3150ccf4ed4a7c84929c4b95358": {
      "model_module": "@jupyter-widgets/base",
      "model_module_version": "1.2.0",
      "model_name": "LayoutModel",
      "state": {
       "display": "flex",
       "flex_flow": "column wrap"
      }
     },
     "a4dfc7c4361547dc8391a21d43052337": {
      "model_module": "@jupyter-widgets/base",
      "model_module_version": "1.2.0",
      "model_name": "LayoutModel",
      "state": {
       "width": "60px"
      }
     },
     "a4ffc779b8694e7195ccb720a1920f73": {
      "model_module": "@jupyter-widgets/controls",
      "model_module_version": "1.5.0",
      "model_name": "ButtonStyleModel",
      "state": {}
     },
     "a509baae9f5347bcad661f11c08aaf8c": {
      "model_module": "@jupyter-widgets/controls",
      "model_module_version": "1.5.0",
      "model_name": "LabelModel",
      "state": {
       "layout": "IPY_MODEL_1ae5d6bb9f544794b5058e74d09f3ba2",
       "style": "IPY_MODEL_2caf4ab56fe94004a79bb929ca6f9b06",
       "value": "     (1/1)"
      }
     },
     "a52cf2c5947a4de1b97014c038f6f0bf": {
      "model_module": "@jupyter-widgets/base",
      "model_module_version": "1.2.0",
      "model_name": "LayoutModel",
      "state": {
       "height": "32px",
       "overflow": "visible",
       "padding": "0px",
       "width": "100%"
      }
     },
     "a58eb584168e4c589ddbb06b7e76445d": {
      "model_module": "@jupyter-widgets/controls",
      "model_module_version": "1.5.0",
      "model_name": "ButtonStyleModel",
      "state": {}
     },
     "a5d3a7328a67463584b9101145e4ac2f": {
      "model_module": "@jupyter-widgets/controls",
      "model_module_version": "1.5.0",
      "model_name": "ButtonModel",
      "state": {
       "layout": "IPY_MODEL_47bf8d0632ce4bacb240c8dde1583f8f",
       "style": "IPY_MODEL_76c4776234244eec90b0c4fc1bd6221e"
      }
     },
     "a604462e3c7347009d4a90be9f11bd00": {
      "model_module": "@jupyter-widgets/controls",
      "model_module_version": "1.5.0",
      "model_name": "VBoxModel",
      "state": {
       "children": [
        "IPY_MODEL_97d5925c3afc4762aa65c36ec29d30c1",
        "IPY_MODEL_201378fbfbd546f0950315ce3914e0d2",
        "IPY_MODEL_58de13ac733a45d8af45715554eba693",
        "IPY_MODEL_1faadc7762d041ef882b5047124db3bc",
        "IPY_MODEL_ed07eea5f8f444689b2376a1bbd55201",
        "IPY_MODEL_fc33ddbf085448e7ae7b9735d3084f6b"
       ],
       "layout": "IPY_MODEL_c741e806a36f49b7a03486b4aa3e7948"
      }
     },
     "a621fb6627994391b7bdf8bb889c6735": {
      "model_module": "@jupyter-widgets/controls",
      "model_module_version": "1.5.0",
      "model_name": "DescriptionStyleModel",
      "state": {
       "description_width": ""
      }
     },
     "a6321236b0cb4c37a949473b39ab30ca": {
      "model_module": "@jupyter-widgets/base",
      "model_module_version": "1.2.0",
      "model_name": "LayoutModel",
      "state": {
       "width": "60px"
      }
     },
     "a69b5ac47be14dd29cd5e461fb155c1a": {
      "model_module": "@jupyter-widgets/controls",
      "model_module_version": "1.5.0",
      "model_name": "IntProgressModel",
      "state": {
       "bar_style": "success",
       "layout": "IPY_MODEL_9884f60ab0a24356b9df5f2497fd2cac",
       "max": 1,
       "style": "IPY_MODEL_6bfdc7373ac84a4aadc46c84c9ff0ff9",
       "value": 1
      }
     },
     "a6d1244938bf4aafaabc95c392ffde6e": {
      "model_module": "@jupyter-widgets/controls",
      "model_module_version": "1.5.0",
      "model_name": "LabelModel",
      "state": {
       "layout": "IPY_MODEL_ffada0c8da764ac7aea9472cacb9e750",
       "style": "IPY_MODEL_6690bc4e3afe4c9aabca7217aa6a5ed0",
       "value": "             objective 2"
      }
     },
     "a6ffe1f46a914e06b3b69fbeb97dc1e9": {
      "model_module": "@jupyter-widgets/controls",
      "model_module_version": "1.5.0",
      "model_name": "HTMLModel",
      "state": {
       "layout": "IPY_MODEL_042a578852a74913915e1bcfe73b5845",
       "style": "IPY_MODEL_1f92eaf52b194cd7b31bbc8800ec8bb8",
       "value": "<i>Completed \"The Black Garden\" campaign in Destiny 1.</i>"
      }
     },
     "a7021d4af3174fc793ef83378f10c66a": {
      "model_module": "@jupyter-widgets/controls",
      "model_module_version": "1.5.0",
      "model_name": "LabelModel",
      "state": {
       "layout": "IPY_MODEL_615dc2b4160340c3afc53960ace08252",
       "style": "IPY_MODEL_99bd9d57bca240d5bd40e5d2845919c7",
       "value": "             objective 1"
      }
     },
     "a727b8fe8f1e49659043bd46ee25e9e8": {
      "model_module": "@jupyter-widgets/controls",
      "model_module_version": "1.5.0",
      "model_name": "ButtonModel",
      "state": {
       "button_style": "success",
       "disabled": true,
       "layout": "IPY_MODEL_d28c51ec24ec479a8db1bd4daeee9600",
       "style": "IPY_MODEL_cf3b0b92fde64cfabfcede17425869a8"
      }
     },
     "a72b1f2d80db4ee2afbf551179afdd84": {
      "model_module": "@jupyter-widgets/base",
      "model_module_version": "1.2.0",
      "model_name": "LayoutModel",
      "state": {
       "width": "60px"
      }
     },
     "a74bb5643a64484da658b07519cb77ff": {
      "model_module": "@jupyter-widgets/controls",
      "model_module_version": "1.5.0",
      "model_name": "HTMLModel",
      "state": {
       "layout": "IPY_MODEL_17689b6e26e44d9bbdc5e99a8118a7f2",
       "style": "IPY_MODEL_12063754432d4b56b58ed64c0fa34d2c",
       "value": "<font size=\"1\">Triumphs/Crucible/Medals/Combat/</font size=>"
      }
     },
     "a76c7b9875b04c36963e3ccd14da8b45": {
      "model_module": "@jupyter-widgets/base",
      "model_module_version": "1.2.0",
      "model_name": "LayoutModel",
      "state": {
       "display": "none"
      }
     },
     "a7765c40d1854dc08f15771d1a9fb6e1": {
      "model_module": "@jupyter-widgets/controls",
      "model_module_version": "1.5.0",
      "model_name": "ButtonModel",
      "state": {
       "layout": "IPY_MODEL_fbaa08c360764d01827b54400b084e59",
       "style": "IPY_MODEL_67c80aa0345b45b394124005c7e29832"
      }
     },
     "a79d4c3c1f6c430aac9e2b2228c6ef1f": {
      "model_module": "@jupyter-widgets/controls",
      "model_module_version": "1.5.0",
      "model_name": "IntProgressModel",
      "state": {
       "layout": "IPY_MODEL_9884f60ab0a24356b9df5f2497fd2cac",
       "style": "IPY_MODEL_42c0c6ec3365498f8770285dd1453d80",
       "value": 30
      }
     },
     "a7cb5d5ecfd046049ce25a7a0ba1208a": {
      "model_module": "@jupyter-widgets/base",
      "model_module_version": "1.2.0",
      "model_name": "LayoutModel",
      "state": {
       "order": "-1",
       "overflow": "visible",
       "padding": "1px",
       "width": "0px"
      }
     },
     "a7e4933428bb4037aa44e2e925f225c0": {
      "model_module": "@jupyter-widgets/controls",
      "model_module_version": "1.5.0",
      "model_name": "ButtonModel",
      "state": {
       "layout": "IPY_MODEL_e6ae7e8502c040f6822de5c432eb7bf3",
       "style": "IPY_MODEL_4da36d8087de441d87871f0acd61721f"
      }
     },
     "a7eea3f12c854bb388c7ea2515ff6f20": {
      "model_module": "@jupyter-widgets/base",
      "model_module_version": "1.2.0",
      "model_name": "LayoutModel",
      "state": {
       "overflow": "visible",
       "width": "100%"
      }
     },
     "a813473b70de4e2797bb11a2bfae5a69": {
      "model_module": "@jupyter-widgets/controls",
      "model_module_version": "1.5.0",
      "model_name": "HBoxModel",
      "state": {
       "children": [
        "IPY_MODEL_9d4660e325cc45a5a0c7605607d616e4",
        "IPY_MODEL_c4ab4daa11f74dfebfad081ecc7b15c7",
        "IPY_MODEL_1ee5072cd8354cc0b84481c1e2bc855b",
        "IPY_MODEL_23147bf03ddd4924af6ddaae950cd850"
       ],
       "layout": "IPY_MODEL_0c8d8c2d09cf4686949c079d47e30903"
      }
     },
     "a82a1fc7a2e743c0a15fd29efd4506b9": {
      "model_module": "@jupyter-widgets/base",
      "model_module_version": "1.2.0",
      "model_name": "LayoutModel",
      "state": {
       "height": "32px",
       "overflow": "visible",
       "padding": "0px",
       "width": "100%"
      }
     },
     "a82b84cd23c649358ac29f229b6b09b4": {
      "model_module": "@jupyter-widgets/controls",
      "model_module_version": "1.5.0",
      "model_name": "DescriptionStyleModel",
      "state": {
       "description_width": ""
      }
     },
     "a831098f35f64fc4b36dbc4934a01828": {
      "model_module": "@jupyter-widgets/controls",
      "model_module_version": "1.5.0",
      "model_name": "HBoxModel",
      "state": {
       "children": [
        "IPY_MODEL_fa967992cafa482c8f8bf120f705dee3",
        "IPY_MODEL_93da423eabf9429aa25dc570c549bee6",
        "IPY_MODEL_bdddda4b2e094a22a9329946d01f29e8",
        "IPY_MODEL_6a2a47d81e8b43e9bc49a784e9009708"
       ],
       "layout": "IPY_MODEL_f23bbc5bf93f4b298bcc46e8905faed5"
      }
     },
     "a849a5b39f184379a3db17458d0d409e": {
      "model_module": "@jupyter-widgets/controls",
      "model_module_version": "1.5.0",
      "model_name": "ButtonModel",
      "state": {
       "description": "EDIT",
       "layout": "IPY_MODEL_54376edd4ffa4efe81269b8827c4d6dc",
       "style": "IPY_MODEL_39a991feadc741bf930544220c6cb5c6"
      }
     },
     "a86212cfba78460e99336d5e291b3948": {
      "model_module": "@jupyter-widgets/controls",
      "model_module_version": "1.5.0",
      "model_name": "ButtonModel",
      "state": {
       "description": "EDIT",
       "layout": "IPY_MODEL_13343ad857c34f99b56ee61b906d2071",
       "style": "IPY_MODEL_6b5064da7f13468f94f60580d1ab78e9"
      }
     },
     "a86a191be0c648e794e912ea163dc331": {
      "model_module": "@jupyter-widgets/controls",
      "model_module_version": "1.5.0",
      "model_name": "HBoxModel",
      "state": {
       "children": [
        "IPY_MODEL_74af1f13e780467896df342369a43f8c",
        "IPY_MODEL_12d3e98037754bca84abee79e56a0737",
        "IPY_MODEL_348d1eb635e94ea99fe91f851fcfa21e",
        "IPY_MODEL_d20aea730e4a45958203f140729ea984"
       ],
       "layout": "IPY_MODEL_46b33d6cd681413fac3da617abdffaaa"
      }
     },
     "a8d562eda39b48e28cd5a24afac1fb5c": {
      "model_module": "@jupyter-widgets/controls",
      "model_module_version": "1.5.0",
      "model_name": "ButtonModel",
      "state": {
       "layout": "IPY_MODEL_47bf8d0632ce4bacb240c8dde1583f8f",
       "style": "IPY_MODEL_03fd0df76932485ba79641a70a36c14c"
      }
     },
     "a8f929d6a87b4bf6a53f3716a976bbba": {
      "model_module": "@jupyter-widgets/controls",
      "model_module_version": "1.5.0",
      "model_name": "IntProgressModel",
      "state": {
       "layout": "IPY_MODEL_0fa33ef047654ac2b891a3ede0b415f5",
       "style": "IPY_MODEL_6363286a58f54db09fbbf73876259b30",
       "value": 30
      }
     },
     "a8f9813557c446abbbbf7ebf3f761475": {
      "model_module": "@jupyter-widgets/controls",
      "model_module_version": "1.5.0",
      "model_name": "VBoxModel",
      "state": {
       "children": [
        "IPY_MODEL_a4016ce6e9b2469e9467ebe2da3cc19f",
        "IPY_MODEL_1266a8c269c74076b12954080fb5e115",
        "IPY_MODEL_68aee86195534199a1b85a92bfd2f9d4",
        "IPY_MODEL_d8c6f1fc01b7430798c07078545e3651"
       ],
       "layout": "IPY_MODEL_708c5d8a57594946b72451241f270738"
      }
     },
     "a90bbe9eea4d4c9ab9f64427a5caf908": {
      "model_module": "@jupyter-widgets/controls",
      "model_module_version": "1.5.0",
      "model_name": "ProgressStyleModel",
      "state": {
       "description_width": ""
      }
     },
     "a91aee5ee63241a994a7720e6099ff1a": {
      "model_module": "@jupyter-widgets/controls",
      "model_module_version": "1.5.0",
      "model_name": "VBoxModel",
      "state": {
       "children": [
        "IPY_MODEL_f4b558e21521497987440f689e67103b",
        "IPY_MODEL_bf7c70e54f7141fa84b1db6cef092ff7",
        "IPY_MODEL_b09132269cc24013abddf94e7db8c5e1",
        "IPY_MODEL_6564e495b8b44fd2ba1a1172d24776d8"
       ],
       "layout": "IPY_MODEL_c7098066d76c433695eea1ff061be784"
      }
     },
     "a92fa2663a0846468256e38722984e23": {
      "model_module": "@jupyter-widgets/controls",
      "model_module_version": "1.5.0",
      "model_name": "HBoxModel",
      "state": {
       "children": [
        "IPY_MODEL_d618f170bb3a4a4fbe40cd304a800217",
        "IPY_MODEL_158f4cff47844cd599cf592433438412"
       ],
       "layout": "IPY_MODEL_fd1a61741ab749d5a9826948a286e211"
      }
     },
     "a93940a815e44a69851016713651097f": {
      "model_module": "@jupyter-widgets/controls",
      "model_module_version": "1.5.0",
      "model_name": "IntProgressModel",
      "state": {
       "layout": "IPY_MODEL_a29f781ca5d3470cb2442f65a7efce84",
       "style": "IPY_MODEL_ec500adb910d4fa8b55211eebbf6b9e8",
       "value": 30
      }
     },
     "a94056083da94783a7d7cbda21fd152e": {
      "model_module": "@jupyter-widgets/controls",
      "model_module_version": "1.5.0",
      "model_name": "ButtonStyleModel",
      "state": {}
     },
     "a9d229b44e6b441887c5482cdee2db7d": {
      "model_module": "@jupyter-widgets/controls",
      "model_module_version": "1.5.0",
      "model_name": "ProgressStyleModel",
      "state": {
       "description_width": ""
      }
     },
     "a9d775852ffa4046b8dc107204af9bec": {
      "model_module": "@jupyter-widgets/controls",
      "model_module_version": "1.5.0",
      "model_name": "ProgressStyleModel",
      "state": {
       "description_width": ""
      }
     },
     "a9f601a74e0f4ab696221cf9af465955": {
      "model_module": "@jupyter-widgets/base",
      "model_module_version": "1.2.0",
      "model_name": "LayoutModel",
      "state": {
       "border": "3px solid white",
       "display": "flex",
       "margin": "10px",
       "overflow": "visible",
       "padding": "10px",
       "width": "400px"
      }
     },
     "aa4bde67f0d24cddb0879137abf9d626": {
      "model_module": "@jupyter-widgets/controls",
      "model_module_version": "1.5.0",
      "model_name": "ButtonStyleModel",
      "state": {}
     },
     "aa5729f81a6d47efa51a3880b37a5ca5": {
      "model_module": "@jupyter-widgets/controls",
      "model_module_version": "1.5.0",
      "model_name": "ButtonStyleModel",
      "state": {}
     },
     "aa7ee25fa7d2405ba62156657031cc6a": {
      "model_module": "@jupyter-widgets/controls",
      "model_module_version": "1.5.0",
      "model_name": "ButtonStyleModel",
      "state": {}
     },
     "aab73acdffa642bda00b6e252af3f202": {
      "model_module": "@jupyter-widgets/base",
      "model_module_version": "1.2.0",
      "model_name": "LayoutModel",
      "state": {
       "width": "60px"
      }
     },
     "aac8b1e3884045bcaa8923b630a791de": {
      "model_module": "@jupyter-widgets/controls",
      "model_module_version": "1.5.0",
      "model_name": "ProgressStyleModel",
      "state": {
       "description_width": ""
      }
     },
     "aae7fb59f8c5411b8988ac1853cb1f6f": {
      "model_module": "@jupyter-widgets/controls",
      "model_module_version": "1.5.0",
      "model_name": "DescriptionStyleModel",
      "state": {
       "description_width": ""
      }
     },
     "ab00fd58389644eb9e04f40685778413": {
      "model_module": "@jupyter-widgets/base",
      "model_module_version": "1.2.0",
      "model_name": "LayoutModel",
      "state": {
       "display": "flex",
       "flex_flow": "row wrap"
      }
     },
     "ab0bbaf9fe8e4144a9182407d9c2a0e7": {
      "model_module": "@jupyter-widgets/controls",
      "model_module_version": "1.5.0",
      "model_name": "IntProgressModel",
      "state": {
       "layout": "IPY_MODEL_a29f781ca5d3470cb2442f65a7efce84",
       "style": "IPY_MODEL_d6bd5a03a1de4065af544a56db1d225c",
       "value": 30
      }
     },
     "ab40f54a45c5491d85b2ff0db04f8caf": {
      "model_module": "@jupyter-widgets/base",
      "model_module_version": "1.2.0",
      "model_name": "LayoutModel",
      "state": {
       "display": "none"
      }
     },
     "ab78324139fb456bb9c6a0e8ea786e97": {
      "model_module": "@jupyter-widgets/controls",
      "model_module_version": "1.5.0",
      "model_name": "ButtonStyleModel",
      "state": {}
     },
     "ab7ed354acc74349ba62b18a088b0863": {
      "model_module": "@jupyter-widgets/controls",
      "model_module_version": "1.5.0",
      "model_name": "HTMLModel",
      "state": {
       "layout": "IPY_MODEL_f02dc80ce6c34fc186c136aeebbe2649",
       "style": "IPY_MODEL_480722e20b6345f392de8ad7fd8ad3f6",
       "value": "<i></i>"
      }
     },
     "abbe0d667584487eb38da6f523f08e37": {
      "model_module": "@jupyter-widgets/controls",
      "model_module_version": "1.5.0",
      "model_name": "DescriptionStyleModel",
      "state": {
       "description_width": ""
      }
     },
     "abc79e3220c14201bbb9780753f8cf63": {
      "model_module": "@jupyter-widgets/base",
      "model_module_version": "1.2.0",
      "model_name": "LayoutModel",
      "state": {
       "display": "flex",
       "flex_flow": "row wrap"
      }
     },
     "abc890d2544a423484f0fd763ef08f40": {
      "model_module": "@jupyter-widgets/controls",
      "model_module_version": "1.5.0",
      "model_name": "ButtonStyleModel",
      "state": {}
     },
     "abd41005e4d74155b7457bcd35c71323": {
      "model_module": "@jupyter-widgets/controls",
      "model_module_version": "1.5.0",
      "model_name": "LabelModel",
      "state": {
       "layout": "IPY_MODEL_a7cb5d5ecfd046049ce25a7a0ba1208a",
       "style": "IPY_MODEL_d013893624f44b93b6687e7581645345",
       "value": "             objective 5"
      }
     },
     "ac2670b15d4742e0a37e62a0ad248564": {
      "model_module": "@jupyter-widgets/controls",
      "model_module_version": "1.5.0",
      "model_name": "IntProgressModel",
      "state": {
       "layout": "IPY_MODEL_dae13073d79845a5ad2cdd4693685bd9",
       "style": "IPY_MODEL_f1a785ac8cbf4b3d8321cd8d29cd6186",
       "value": 30
      }
     },
     "ac3ec9bf3be64597b4b68b118fb6d864": {
      "model_module": "@jupyter-widgets/controls",
      "model_module_version": "1.5.0",
      "model_name": "HBoxModel",
      "state": {
       "children": [
        "IPY_MODEL_dcb730c1b7624b97bc33651f1a9b5b86",
        "IPY_MODEL_a69b5ac47be14dd29cd5e461fb155c1a",
        "IPY_MODEL_8a81657029c04c54968cf87eedac9ee3",
        "IPY_MODEL_e750121c24374a39a5697b0139841dc0"
       ],
       "layout": "IPY_MODEL_198b43bd472849eab1ed59a0072f2a25"
      }
     },
     "ac9e316400cd4686b173abdbd707ac62": {
      "model_module": "@jupyter-widgets/controls",
      "model_module_version": "1.5.0",
      "model_name": "LabelModel",
      "state": {
       "layout": "IPY_MODEL_31f57b9012f446d1a542cbe251e606af",
       "style": "IPY_MODEL_34e0636425c14a4ab73eb58eaccab5dd",
       "value": "             objective 3"
      }
     },
     "ad1da47dc2cb435a8b8147833a35290c": {
      "model_module": "@jupyter-widgets/base",
      "model_module_version": "1.2.0",
      "model_name": "LayoutModel",
      "state": {}
     },
     "ad43072848124c51af325291978cda5a": {
      "model_module": "@jupyter-widgets/controls",
      "model_module_version": "1.5.0",
      "model_name": "LabelModel",
      "state": {
       "layout": "IPY_MODEL_589ff327868f4703a4f298aa90eece78",
       "style": "IPY_MODEL_5689cc078a904d758e3804ce104391f8",
       "value": "             objective 5"
      }
     },
     "ad4874a5ac2e47a49bc037a4eacd8d94": {
      "model_module": "@jupyter-widgets/controls",
      "model_module_version": "1.5.0",
      "model_name": "LabelModel",
      "state": {
       "layout": "IPY_MODEL_b0ad11da86824a53a8c0efe22de78936",
       "style": "IPY_MODEL_d41e19ad7abb4b66899d968fb0f22c1f",
       "value": "Activity:"
      }
     },
     "ad4caa04ac074dcba53870ba2b49fdfe": {
      "model_module": "@jupyter-widgets/controls",
      "model_module_version": "1.5.0",
      "model_name": "IntProgressModel",
      "state": {
       "layout": "IPY_MODEL_0a8c9f5551e7430eb6e8d776e0f31279",
       "max": 1000,
       "style": "IPY_MODEL_a9d775852ffa4046b8dc107204af9bec",
       "value": 289
      }
     },
     "ad64df6212fa4edd9552f4c3c6ca4ed8": {
      "model_module": "@jupyter-widgets/controls",
      "model_module_version": "1.5.0",
      "model_name": "ButtonStyleModel",
      "state": {}
     },
     "ad810bf023e4476b8a866e1f4f5d2d28": {
      "model_module": "@jupyter-widgets/controls",
      "model_module_version": "1.5.0",
      "model_name": "DropdownModel",
      "state": {
       "_options_labels": [
        "Any"
       ],
       "disabled": true,
       "index": 0,
       "layout": "IPY_MODEL_3fc045ecc6f2435c927ec7725208dfa4",
       "style": "IPY_MODEL_63f347048bc941b2af7ea0a07420ca16"
      }
     },
     "ad902c3424b64bddbe653999f02b6b41": {
      "model_module": "@jupyter-widgets/controls",
      "model_module_version": "1.5.0",
      "model_name": "IntProgressModel",
      "state": {
       "layout": "IPY_MODEL_7d75f75f80a04d3a8d499c3632c26161",
       "style": "IPY_MODEL_1144a74cf78c4ed69769bafdaf15740c",
       "value": 30
      }
     },
     "adee3841d27940f58ced286fd2b61b6f": {
      "model_module": "@jupyter-widgets/controls",
      "model_module_version": "1.5.0",
      "model_name": "ButtonModel",
      "state": {
       "description": "EDIT",
       "layout": "IPY_MODEL_da9d6dc024d943d88f056222d2ea5bf0",
       "style": "IPY_MODEL_1a560cce78a94daaad52c1d1c2562e1b"
      }
     },
     "ae06cb0f9f2a407c8deda82a5d12a827": {
      "model_module": "@jupyter-widgets/controls",
      "model_module_version": "1.5.0",
      "model_name": "ButtonModel",
      "state": {
       "layout": "IPY_MODEL_0b0c599a42ff4eb5af1d8e8de60b3891",
       "style": "IPY_MODEL_7a6275e9524a4bc29f128878431da2f4"
      }
     },
     "ae23a136510840a1bdcbc64b65b3f7d1": {
      "model_module": "@jupyter-widgets/base",
      "model_module_version": "1.2.0",
      "model_name": "LayoutModel",
      "state": {}
     },
     "ae51b0637dc8425bb330fc3bd9ab593d": {
      "model_module": "@jupyter-widgets/controls",
      "model_module_version": "1.5.0",
      "model_name": "ButtonModel",
      "state": {
       "button_style": "success",
       "disabled": true,
       "layout": "IPY_MODEL_272caa2a293a4c32939417d15c3dbe8d",
       "style": "IPY_MODEL_eef8f6b8ad5b4319b24460ed8a5c1c19"
      }
     },
     "aea084a0dc764d959399e62c6c0610ab": {
      "model_module": "@jupyter-widgets/base",
      "model_module_version": "1.2.0",
      "model_name": "LayoutModel",
      "state": {
       "display": "flex",
       "flex_flow": "row wrap"
      }
     },
     "aeee181bf1d0491594315c7d2d66f53f": {
      "model_module": "@jupyter-widgets/controls",
      "model_module_version": "1.5.0",
      "model_name": "VBoxModel",
      "state": {
       "children": [
        "IPY_MODEL_6bfbe56fc3a2407cba98985eba2e764d",
        "IPY_MODEL_82749cd94cbb407e8b9aa1dbc3171bc8",
        "IPY_MODEL_ccc2407f31704416ab06ea76accb37e0",
        "IPY_MODEL_a813473b70de4e2797bb11a2bfae5a69",
        "IPY_MODEL_f241b095cc1242b6a94a1bb32379ba95",
        "IPY_MODEL_a40ecd1b986f4b7f930050cf9708d29b"
       ],
       "layout": "IPY_MODEL_57005487531b499981e9e545864170c7"
      }
     },
     "af386a999d67427a99c268142343b181": {
      "model_module": "@jupyter-widgets/controls",
      "model_module_version": "1.5.0",
      "model_name": "ButtonModel",
      "state": {
       "layout": "IPY_MODEL_6c7c02b2c21f468e9c338114465d1d91",
       "style": "IPY_MODEL_c49bcc1723734fbd9dca658b8c025fed"
      }
     },
     "af7f6f65aced49989844fb9b1e577c01": {
      "model_module": "@jupyter-widgets/base",
      "model_module_version": "1.2.0",
      "model_name": "LayoutModel",
      "state": {
       "width": "60px"
      }
     },
     "afa2172b4c6f4fc0aa8fc560f14da0fa": {
      "model_module": "@jupyter-widgets/controls",
      "model_module_version": "1.5.0",
      "model_name": "ButtonModel",
      "state": {
       "layout": "IPY_MODEL_e6ae7e8502c040f6822de5c432eb7bf3",
       "style": "IPY_MODEL_eccf1ec5c67748fa81971c0f8b0cccec"
      }
     },
     "afad1b30c9c84f1abfd77a95aeb4f897": {
      "model_module": "@jupyter-widgets/controls",
      "model_module_version": "1.5.0",
      "model_name": "DescriptionStyleModel",
      "state": {
       "description_width": ""
      }
     },
     "afc3655492664b908b955dbe58827039": {
      "model_module": "@jupyter-widgets/controls",
      "model_module_version": "1.5.0",
      "model_name": "ButtonStyleModel",
      "state": {}
     },
     "afd912b0fbf04bc4b19598659209762f": {
      "model_module": "@jupyter-widgets/controls",
      "model_module_version": "1.5.0",
      "model_name": "LabelModel",
      "state": {
       "layout": "IPY_MODEL_6800966f80d14401a5d9e22f2c889fe3",
       "style": "IPY_MODEL_d97961c3339740ff90336859491754c0",
       "value": "             objective 4"
      }
     },
     "afe392d65b694292a042b1a8477454a0": {
      "model_module": "@jupyter-widgets/controls",
      "model_module_version": "1.5.0",
      "model_name": "DescriptionStyleModel",
      "state": {
       "description_width": ""
      }
     },
     "afe74069cbe3410dafe9c574a5768e89": {
      "model_module": "@jupyter-widgets/controls",
      "model_module_version": "1.5.0",
      "model_name": "LabelModel",
      "state": {
       "layout": "IPY_MODEL_615dc2b4160340c3afc53960ace08252",
       "style": "IPY_MODEL_d691fc59402a494e999efb55df7f27d1",
       "value": "             objective 2"
      }
     },
     "afff26751b364dc2b6c992a6497b3769": {
      "model_module": "@jupyter-widgets/base",
      "model_module_version": "1.2.0",
      "model_name": "LayoutModel",
      "state": {
       "display": "none"
      }
     },
     "b00456e9188f44afa6a52406e745567d": {
      "model_module": "@jupyter-widgets/controls",
      "model_module_version": "1.5.0",
      "model_name": "DescriptionStyleModel",
      "state": {
       "description_width": ""
      }
     },
     "b04a3032da494b6b97fbe6521c7ef79c": {
      "model_module": "@jupyter-widgets/controls",
      "model_module_version": "1.5.0",
      "model_name": "LabelModel",
      "state": {
       "layout": "IPY_MODEL_6d8a8ff71550484798864c4285fc4b90",
       "style": "IPY_MODEL_b6d60c289c8f4f80a1daf3f330d6c32d",
       "value": "Class:"
      }
     },
     "b05d3bb30f7f41e090a612d4f911fe18": {
      "model_module": "@jupyter-widgets/controls",
      "model_module_version": "1.5.0",
      "model_name": "ButtonStyleModel",
      "state": {}
     },
     "b0763b9979d84e2992ee076425769e80": {
      "model_module": "@jupyter-widgets/controls",
      "model_module_version": "1.5.0",
      "model_name": "HBoxModel",
      "state": {
       "children": [
        "IPY_MODEL_afa2172b4c6f4fc0aa8fc560f14da0fa",
        "IPY_MODEL_b8df51acd08e49319a2f3c559efd2483",
        "IPY_MODEL_710b7cf7405d402d98841585008e2fb1",
        "IPY_MODEL_b8a697bef37c4f568c69a00d096bb3bf"
       ],
       "layout": "IPY_MODEL_0f82430b48864dbfac63af34bda4e711"
      }
     },
     "b09132269cc24013abddf94e7db8c5e1": {
      "model_module": "@jupyter-widgets/controls",
      "model_module_version": "1.5.0",
      "model_name": "HTMLModel",
      "state": {
       "layout": "IPY_MODEL_d5f4fc32efc34b9baa3f2b2651a18c67",
       "style": "IPY_MODEL_abbe0d667584487eb38da6f523f08e37",
       "value": "<i></i>"
      }
     },
     "b0ad11da86824a53a8c0efe22de78936": {
      "model_module": "@jupyter-widgets/base",
      "model_module_version": "1.2.0",
      "model_name": "LayoutModel",
      "state": {
       "width": "10%"
      }
     },
     "b0e3b4aaccdf4f27b443b7c6d63f3fee": {
      "model_module": "@jupyter-widgets/controls",
      "model_module_version": "1.5.0",
      "model_name": "HTMLModel",
      "state": {
       "layout": "IPY_MODEL_81ed3ef3e20e4a3dbfd49e0acdb1b8f0",
       "style": "IPY_MODEL_b48ee11b46db426198383e8839261968",
       "value": "<font size=\"1\">Triumphs/Crucible/Lifetime/Glory Ranks/</font size=>"
      }
     },
     "b122133cb35a402885ed0e5ae857271c": {
      "model_module": "@jupyter-widgets/base",
      "model_module_version": "1.2.0",
      "model_name": "LayoutModel",
      "state": {}
     },
     "b1237d6e72474b77a59036e7cd6bb6b7": {
      "model_module": "@jupyter-widgets/controls",
      "model_module_version": "1.5.0",
      "model_name": "ProgressStyleModel",
      "state": {
       "description_width": ""
      }
     },
     "b1c30efa71f8461a93bc325f74e27515": {
      "model_module": "@jupyter-widgets/base",
      "model_module_version": "1.2.0",
      "model_name": "LayoutModel",
      "state": {
       "display": "none"
      }
     },
     "b210d221dc4e4d2cb474af3f6a2bc00e": {
      "model_module": "@jupyter-widgets/controls",
      "model_module_version": "1.5.0",
      "model_name": "DescriptionStyleModel",
      "state": {
       "description_width": ""
      }
     },
     "b22a961c467541a4a55881a7632c245b": {
      "model_module": "@jupyter-widgets/controls",
      "model_module_version": "1.5.0",
      "model_name": "ButtonStyleModel",
      "state": {}
     },
     "b264e153105944148b5a16a86e18b8af": {
      "model_module": "@jupyter-widgets/controls",
      "model_module_version": "1.5.0",
      "model_name": "IntProgressModel",
      "state": {
       "layout": "IPY_MODEL_0a8c9f5551e7430eb6e8d776e0f31279",
       "style": "IPY_MODEL_b98e4fbfc1ed4dc69b00f41efee1c723",
       "value": 30
      }
     },
     "b2c7bcc6ac6f40f58614d0b15777a9ad": {
      "model_module": "@jupyter-widgets/controls",
      "model_module_version": "1.5.0",
      "model_name": "LabelModel",
      "state": {
       "layout": "IPY_MODEL_7b2c155bf81e4f879a45725ea18038f5",
       "style": "IPY_MODEL_651d42054e5a440cb254098856194422",
       "value": "             objective 3"
      }
     },
     "b2d08976d26e4d219d56931871095684": {
      "model_module": "@jupyter-widgets/controls",
      "model_module_version": "1.5.0",
      "model_name": "HBoxModel",
      "state": {
       "children": [
        "IPY_MODEL_5ad3ba2dae0e43e6bf5dc878263a032e",
        "IPY_MODEL_d0b928eb364f4ba19086852c56a55270",
        "IPY_MODEL_bc5b4d4120774c899f72d6a864f22f21",
        "IPY_MODEL_fec60af22688407e920dde0ac8878e62"
       ],
       "layout": "IPY_MODEL_0fcff4845a3641d3b295e97f4e0b1c86"
      }
     },
     "b3303aeb14c945898f33a252b56eb735": {
      "model_module": "@jupyter-widgets/controls",
      "model_module_version": "1.5.0",
      "model_name": "LabelModel",
      "state": {
       "layout": "IPY_MODEL_939c3062f6a94613ac94feda256c50fa",
       "style": "IPY_MODEL_4092107ad64c4ee5a08966e92902aa41",
       "value": "    Medals earned (71/1)"
      }
     },
     "b37eeacad18d48a89815a5526224097b": {
      "model_module": "@jupyter-widgets/controls",
      "model_module_version": "1.5.0",
      "model_name": "ButtonModel",
      "state": {
       "description": "EDIT",
       "layout": "IPY_MODEL_a72b1f2d80db4ee2afbf551179afdd84",
       "style": "IPY_MODEL_e08ea80d611440d9acc7d63c105846a2"
      }
     },
     "b38d0b0993f446c58afea1962ee5385d": {
      "model_module": "@jupyter-widgets/controls",
      "model_module_version": "1.5.0",
      "model_name": "HBoxModel",
      "state": {
       "children": [
        "IPY_MODEL_f5bbbbe884334416b5e30ca4f75588cb",
        "IPY_MODEL_c1188fab6f6341fbb7824f5d499e8617",
        "IPY_MODEL_701d8e9d6ec644419d38bd0271170e07",
        "IPY_MODEL_cb84bf7272f3406795fb771f685b932e"
       ],
       "layout": "IPY_MODEL_b8aeb509be8944c49e542bda8b140a88"
      }
     },
     "b399c11733df466ab24f8ffb7c36d8ba": {
      "model_module": "@jupyter-widgets/controls",
      "model_module_version": "1.5.0",
      "model_name": "ButtonModel",
      "state": {
       "layout": "IPY_MODEL_599b5a8f1f5b4c049b763d628692e5d4",
       "style": "IPY_MODEL_9401113ed9864a5d8f92fc69df7f39f9"
      }
     },
     "b3c2fab0fd6f4132817438cca79b1eda": {
      "model_module": "@jupyter-widgets/controls",
      "model_module_version": "1.5.0",
      "model_name": "HBoxModel",
      "state": {
       "children": [
        "IPY_MODEL_eb7c20adb60241c4807509957d0b0026",
        "IPY_MODEL_52cf1656786a459c8be4a66f396dbc6a",
        "IPY_MODEL_dd7f4222c27e40869ed5a02824306987",
        "IPY_MODEL_bbe2471a95c346d192b0046dfd014288"
       ],
       "layout": "IPY_MODEL_cbc8e26ab236403e8c47fe5b44d353c1"
      }
     },
     "b42386ebfe954be9bbb215a78303b605": {
      "model_module": "@jupyter-widgets/controls",
      "model_module_version": "1.5.0",
      "model_name": "ButtonModel",
      "state": {
       "description": "EDIT",
       "layout": "IPY_MODEL_02b0ee77074c43f4b2702721fe78521b",
       "style": "IPY_MODEL_80e774d7c9254751898519bdbdffbcf6"
      }
     },
     "b48ee11b46db426198383e8839261968": {
      "model_module": "@jupyter-widgets/controls",
      "model_module_version": "1.5.0",
      "model_name": "DescriptionStyleModel",
      "state": {
       "description_width": ""
      }
     },
     "b4c15225b1fd445287c60b75f6f20377": {
      "model_module": "@jupyter-widgets/controls",
      "model_module_version": "1.5.0",
      "model_name": "LabelModel",
      "state": {
       "layout": "IPY_MODEL_6800966f80d14401a5d9e22f2c889fe3",
       "style": "IPY_MODEL_f9ba857bcd0d48eea156e47dce7047b1",
       "value": "             objective 5"
      }
     },
     "b4c8142313e0427d8f5f791c8e219515": {
      "model_module": "@jupyter-widgets/controls",
      "model_module_version": "1.5.0",
      "model_name": "HTMLModel",
      "state": {
       "layout": "IPY_MODEL_6683154c946747a29f89932ed8a75405",
       "style": "IPY_MODEL_24e2a0bcc35547e899ac63faacc4e6a2",
       "value": "<font size=\"1\">Triumphs/Lore/The Light/Dust/</font size=>"
      }
     },
     "b519ceb9d3434ab9a34a8184c0feacdf": {
      "model_module": "@jupyter-widgets/controls",
      "model_module_version": "1.5.0",
      "model_name": "DropdownModel",
      "state": {
       "_options_labels": [
        "Any",
        "Patrol",
        "Gambit",
        "Reckoning",
        "Menagerie",
        "Vex Offensive",
        "Raid",
        "Strike",
        "Nightfall",
        "Crucible",
        "Forge"
       ],
       "index": 0,
       "layout": "IPY_MODEL_0df0691be3ba462dbdf2e05dbe48d576",
       "style": "IPY_MODEL_6cb2cd90ede64ab7b7ca9eea0b704c39"
      }
     },
     "b5335bc651054bb98aea4c97c4adc5e2": {
      "model_module": "@jupyter-widgets/base",
      "model_module_version": "1.2.0",
      "model_name": "LayoutModel",
      "state": {}
     },
     "b539e0aa1f824043bd33f874a91618d5": {
      "model_module": "@jupyter-widgets/base",
      "model_module_version": "1.2.0",
      "model_name": "LayoutModel",
      "state": {
       "display": "flex"
      }
     },
     "b543f2ac198b4f5bb9dfdb64fa833f6d": {
      "model_module": "@jupyter-widgets/controls",
      "model_module_version": "1.5.0",
      "model_name": "ButtonStyleModel",
      "state": {}
     },
     "b57a2fd51cfd4827b26f64c7b07f6c0f": {
      "model_module": "@jupyter-widgets/controls",
      "model_module_version": "1.5.0",
      "model_name": "ButtonModel",
      "state": {
       "description": "EDIT",
       "layout": "IPY_MODEL_c6293061d8f74a38ab317bd14c183dfb",
       "style": "IPY_MODEL_e169597f2eb2446ba44da7513ca88a67"
      }
     },
     "b598eb2df74641fb8bca7ddab1235def": {
      "model_module": "@jupyter-widgets/base",
      "model_module_version": "1.2.0",
      "model_name": "LayoutModel",
      "state": {}
     },
     "b5a0554089eb4132aa988485d4bee721": {
      "model_module": "@jupyter-widgets/controls",
      "model_module_version": "1.5.0",
      "model_name": "ButtonModel",
      "state": {
       "layout": "IPY_MODEL_47bf8d0632ce4bacb240c8dde1583f8f",
       "style": "IPY_MODEL_2173a365e3a04302a5b7dd98288387de"
      }
     },
     "b5e989c1ee7041e4901c0ed5c5e84749": {
      "model_module": "@jupyter-widgets/controls",
      "model_module_version": "1.5.0",
      "model_name": "DescriptionStyleModel",
      "state": {
       "description_width": ""
      }
     },
     "b5fa9f8875164b3180151091ceea900b": {
      "model_module": "@jupyter-widgets/controls",
      "model_module_version": "1.5.0",
      "model_name": "ButtonStyleModel",
      "state": {}
     },
     "b602c99c4e51483ca36f6beadd2890ed": {
      "model_module": "@jupyter-widgets/controls",
      "model_module_version": "1.5.0",
      "model_name": "DescriptionStyleModel",
      "state": {
       "description_width": ""
      }
     },
     "b60cee26e59a4899baabc3880cfa47b0": {
      "model_module": "@jupyter-widgets/controls",
      "model_module_version": "1.5.0",
      "model_name": "DropdownModel",
      "state": {
       "_options_labels": [
        "Any"
       ],
       "disabled": true,
       "index": 0,
       "layout": "IPY_MODEL_3fc045ecc6f2435c927ec7725208dfa4",
       "style": "IPY_MODEL_1f61e7f411df44cc8c5c348dd7a487db"
      }
     },
     "b68199fdf6844452a5afcef5d52d4864": {
      "model_module": "@jupyter-widgets/base",
      "model_module_version": "1.2.0",
      "model_name": "LayoutModel",
      "state": {
       "display": "none"
      }
     },
     "b690ca04ccb7407aa2b9bc2380738d7e": {
      "model_module": "@jupyter-widgets/base",
      "model_module_version": "1.2.0",
      "model_name": "LayoutModel",
      "state": {
       "width": "60px"
      }
     },
     "b6d60c289c8f4f80a1daf3f330d6c32d": {
      "model_module": "@jupyter-widgets/controls",
      "model_module_version": "1.5.0",
      "model_name": "DescriptionStyleModel",
      "state": {
       "description_width": ""
      }
     },
     "b744600fe10a46e28a641e777f5435b5": {
      "model_module": "@jupyter-widgets/controls",
      "model_module_version": "1.5.0",
      "model_name": "HTMLModel",
      "state": {
       "layout": "IPY_MODEL_290d6fcdea55406780ce387f04428e8a",
       "style": "IPY_MODEL_cfa798a5cb6c4f55b7bd3b54c956d6f0",
       "value": "<i></i>"
      }
     },
     "b7ee5f8d70a74218b3ef28e197698ada": {
      "model_module": "@jupyter-widgets/controls",
      "model_module_version": "1.5.0",
      "model_name": "DescriptionStyleModel",
      "state": {
       "description_width": ""
      }
     },
     "b832558804e14344b3bb9472507de5d3": {
      "model_module": "@jupyter-widgets/controls",
      "model_module_version": "1.5.0",
      "model_name": "ButtonModel",
      "state": {
       "layout": "IPY_MODEL_d28c51ec24ec479a8db1bd4daeee9600",
       "style": "IPY_MODEL_760fddd433194906b7b688ff3e19ac10"
      }
     },
     "b8a697bef37c4f568c69a00d096bb3bf": {
      "model_module": "@jupyter-widgets/controls",
      "model_module_version": "1.5.0",
      "model_name": "ButtonModel",
      "state": {
       "description": "EDIT",
       "layout": "IPY_MODEL_0128a643a7c441b58c26655272274543",
       "style": "IPY_MODEL_85522168f7c34c30922f937b3aaaf480"
      }
     },
     "b8a7ca8603a34be4961ef5efed07af2b": {
      "model_module": "@jupyter-widgets/controls",
      "model_module_version": "1.5.0",
      "model_name": "DescriptionStyleModel",
      "state": {
       "description_width": ""
      }
     },
     "b8aeb509be8944c49e542bda8b140a88": {
      "model_module": "@jupyter-widgets/base",
      "model_module_version": "1.2.0",
      "model_name": "LayoutModel",
      "state": {
       "display": "none"
      }
     },
     "b8df51acd08e49319a2f3c559efd2483": {
      "model_module": "@jupyter-widgets/controls",
      "model_module_version": "1.5.0",
      "model_name": "IntProgressModel",
      "state": {
       "layout": "IPY_MODEL_dae13073d79845a5ad2cdd4693685bd9",
       "style": "IPY_MODEL_2f31496d36e2432db79197a17f2fb82a",
       "value": 30
      }
     },
     "b8e004f46319491d90c1f69fbc6ade67": {
      "model_module": "@jupyter-widgets/base",
      "model_module_version": "1.2.0",
      "model_name": "LayoutModel",
      "state": {
       "overflow": "visible",
       "width": "100%"
      }
     },
     "b914b0e646e649198eac6ab3bfc27639": {
      "model_module": "@jupyter-widgets/controls",
      "model_module_version": "1.5.0",
      "model_name": "ButtonStyleModel",
      "state": {}
     },
     "b948255c926c448c8c33338e17c1e5c0": {
      "model_module": "@jupyter-widgets/controls",
      "model_module_version": "1.5.0",
      "model_name": "HTMLModel",
      "state": {
       "layout": "IPY_MODEL_de72a3fc84d14de8a24c679bfa2a2882",
       "style": "IPY_MODEL_c14825651058487d920d0c48d6a93f4b",
       "value": "<i>Defeat an opponent within the first 20 seconds of a match.</i>"
      }
     },
     "b950c37716614025a72978312d05bd67": {
      "model_module": "@jupyter-widgets/controls",
      "model_module_version": "1.5.0",
      "model_name": "ButtonStyleModel",
      "state": {}
     },
     "b98e4fbfc1ed4dc69b00f41efee1c723": {
      "model_module": "@jupyter-widgets/controls",
      "model_module_version": "1.5.0",
      "model_name": "ProgressStyleModel",
      "state": {
       "description_width": ""
      }
     },
     "b9d1211af18c4e16b7d7a7de7b0a740a": {
      "model_module": "@jupyter-widgets/controls",
      "model_module_version": "1.5.0",
      "model_name": "DescriptionStyleModel",
      "state": {
       "description_width": ""
      }
     },
     "ba020fb462614fb59552c4e105874856": {
      "model_module": "@jupyter-widgets/controls",
      "model_module_version": "1.5.0",
      "model_name": "HBoxModel",
      "state": {
       "children": [
        "IPY_MODEL_3a881938d5f14ee4a1d47125812eb382",
        "IPY_MODEL_0d9391424c004fe3a21384f93661698b",
        "IPY_MODEL_419ab02fa4e347558dcb76f208ddaf0a",
        "IPY_MODEL_030d1a45ca6b45328f807e12fb8965ac"
       ],
       "layout": "IPY_MODEL_fa55a5947541494f811e08b867de1f32"
      }
     },
     "ba2d398ea8ae4123a65f224f3e78034a": {
      "model_module": "@jupyter-widgets/base",
      "model_module_version": "1.2.0",
      "model_name": "LayoutModel",
      "state": {
       "order": "-1",
       "overflow": "visible",
       "padding": "1px",
       "width": "0px"
      }
     },
     "ba5f75ac683c4ae395484275c8038208": {
      "model_module": "@jupyter-widgets/controls",
      "model_module_version": "1.5.0",
      "model_name": "ProgressStyleModel",
      "state": {
       "description_width": ""
      }
     },
     "ba95063e4ae54c81b75820fc075dca4c": {
      "model_module": "@jupyter-widgets/controls",
      "model_module_version": "1.5.0",
      "model_name": "ButtonModel",
      "state": {
       "layout": "IPY_MODEL_da2a780ab23443d69418f12d85756101",
       "style": "IPY_MODEL_0d42c24ada20403c9c12fcd79afefebf"
      }
     },
     "bae018bb28be4a4c948341dcfe73b202": {
      "model_module": "@jupyter-widgets/controls",
      "model_module_version": "1.5.0",
      "model_name": "HBoxModel",
      "state": {
       "children": [
        "IPY_MODEL_5a1261f1dddb4c1b8302b48cacd6e0a0",
        "IPY_MODEL_ad4caa04ac074dcba53870ba2b49fdfe",
        "IPY_MODEL_d66c5e5734df403187df785fb40f7479",
        "IPY_MODEL_4739cb814b5c4b63a710dbc0a3d8aa26"
       ],
       "layout": "IPY_MODEL_a3c3a4e7167043bc98fbcea9ae112f1e"
      }
     },
     "baeaaa557b9840fa9b791740d1a81de7": {
      "model_module": "@jupyter-widgets/controls",
      "model_module_version": "1.5.0",
      "model_name": "ProgressStyleModel",
      "state": {
       "description_width": ""
      }
     },
     "bb8a85fc708f496186ef3f7f662a5a59": {
      "model_module": "@jupyter-widgets/controls",
      "model_module_version": "1.5.0",
      "model_name": "ButtonModel",
      "state": {
       "description": "EDIT",
       "layout": "IPY_MODEL_4f63f6c80f184cf8ad662cd888f51151",
       "style": "IPY_MODEL_31373e9c34df4aaea5b2211f4110a503"
      }
     },
     "bb9b131e744240f9b8a9ef72ee1c0b2d": {
      "model_module": "@jupyter-widgets/base",
      "model_module_version": "1.2.0",
      "model_name": "LayoutModel",
      "state": {
       "display": "none"
      }
     },
     "bb9e513e0bc34669be146287faf7fb25": {
      "model_module": "@jupyter-widgets/controls",
      "model_module_version": "1.5.0",
      "model_name": "ProgressStyleModel",
      "state": {
       "description_width": ""
      }
     },
     "bbe2471a95c346d192b0046dfd014288": {
      "model_module": "@jupyter-widgets/controls",
      "model_module_version": "1.5.0",
      "model_name": "ButtonModel",
      "state": {
       "description": "EDIT",
       "layout": "IPY_MODEL_6ae385e9b1a348b2b21fc8ab1647da0d",
       "style": "IPY_MODEL_4f6657a121e34684a179a963ec45ac18"
      }
     },
     "bc43d0c4fdbf4297a09ae8f1232f7058": {
      "model_module": "@jupyter-widgets/controls",
      "model_module_version": "1.5.0",
      "model_name": "ProgressStyleModel",
      "state": {
       "description_width": ""
      }
     },
     "bc5b4d4120774c899f72d6a864f22f21": {
      "model_module": "@jupyter-widgets/controls",
      "model_module_version": "1.5.0",
      "model_name": "LabelModel",
      "state": {
       "layout": "IPY_MODEL_ba2d398ea8ae4123a65f224f3e78034a",
       "style": "IPY_MODEL_ccfb4204949049e3b845822b095c823a",
       "value": "             objective 1"
      }
     },
     "bce905894b914f5caa0540e4dabc0c44": {
      "model_module": "@jupyter-widgets/controls",
      "model_module_version": "1.5.0",
      "model_name": "ButtonModel",
      "state": {
       "description": "Save",
       "layout": "IPY_MODEL_3fc045ecc6f2435c927ec7725208dfa4",
       "style": "IPY_MODEL_8ee633f556dc42039b4263690cc27ff8"
      }
     },
     "bd0863b1afa54e8d8f8d71ff9da98034": {
      "model_module": "@jupyter-widgets/controls",
      "model_module_version": "1.5.0",
      "model_name": "ButtonStyleModel",
      "state": {}
     },
     "bd0f1267bf564488b39053f31d946331": {
      "model_module": "@jupyter-widgets/controls",
      "model_module_version": "1.5.0",
      "model_name": "ProgressStyleModel",
      "state": {
       "description_width": ""
      }
     },
     "bd3dd6f2130f4e039c0941956d14eee7": {
      "model_module": "@jupyter-widgets/controls",
      "model_module_version": "1.5.0",
      "model_name": "ButtonStyleModel",
      "state": {}
     },
     "bd58f3ce3f454c74ba9f4ee9d86f4210": {
      "model_module": "@jupyter-widgets/controls",
      "model_module_version": "1.5.0",
      "model_name": "DropdownModel",
      "state": {
       "_options_labels": [
        "Any",
        "Kinetic",
        "Energy",
        "Power"
       ],
       "index": 0,
       "layout": "IPY_MODEL_3fc045ecc6f2435c927ec7725208dfa4",
       "style": "IPY_MODEL_a621fb6627994391b7bdf8bb889c6735"
      }
     },
     "bd9273f1d8e5488db751f9416e128913": {
      "model_module": "@jupyter-widgets/controls",
      "model_module_version": "1.5.0",
      "model_name": "HBoxModel",
      "state": {
       "children": [
        "IPY_MODEL_0f23937b968e4fc4b2edb80e63287957",
        "IPY_MODEL_cea5a3ec5e1841439d08cce74ccaa863",
        "IPY_MODEL_a7021d4af3174fc793ef83378f10c66a",
        "IPY_MODEL_48b546b149c04a57bdf063747128cccc"
       ],
       "layout": "IPY_MODEL_065f232c72ee457d911c4f1cee3a93bd"
      }
     },
     "bdddda4b2e094a22a9329946d01f29e8": {
      "model_module": "@jupyter-widgets/controls",
      "model_module_version": "1.5.0",
      "model_name": "LabelModel",
      "state": {
       "layout": "IPY_MODEL_31f57b9012f446d1a542cbe251e606af",
       "style": "IPY_MODEL_4f360803042844b79fcf3f2583a787e8",
       "value": "     Precision (89/25)"
      }
     },
     "be148a8f1eb34b57b0d76e357d7746c7": {
      "model_module": "@jupyter-widgets/base",
      "model_module_version": "1.2.0",
      "model_name": "LayoutModel",
      "state": {
       "width": "60px"
      }
     },
     "be37932414f242efa52f849d187f9f9a": {
      "model_module": "@jupyter-widgets/controls",
      "model_module_version": "1.5.0",
      "model_name": "ButtonStyleModel",
      "state": {}
     },
     "be3ec779dd0d45b9a6403000ba6aa52f": {
      "model_module": "@jupyter-widgets/controls",
      "model_module_version": "1.5.0",
      "model_name": "ButtonStyleModel",
      "state": {}
     },
     "be4e8f0b95814f338bdcf0adc2594a22": {
      "model_module": "@jupyter-widgets/controls",
      "model_module_version": "1.5.0",
      "model_name": "ProgressStyleModel",
      "state": {
       "description_width": ""
      }
     },
     "be93b6bb6a28472cb5525174d2fda1cb": {
      "model_module": "@jupyter-widgets/controls",
      "model_module_version": "1.5.0",
      "model_name": "LabelModel",
      "state": {
       "layout": "IPY_MODEL_6800966f80d14401a5d9e22f2c889fe3",
       "style": "IPY_MODEL_d2b51d214b2c4023bb58f22977156d48",
       "value": "     (1/1)"
      }
     },
     "bef7f31bef5d43daaaa08b4bdda0d052": {
      "model_module": "@jupyter-widgets/controls",
      "model_module_version": "1.5.0",
      "model_name": "HBoxModel",
      "state": {
       "children": [
        "IPY_MODEL_e86e7695d61d49c8a1d9d2f5e1c8c564",
        "IPY_MODEL_a068b4089fbb4090849f6693d5a22802",
        "IPY_MODEL_8d6e5db5f45046de9c2a7c79998b1a0f",
        "IPY_MODEL_2c7ef901768c4fc68009f614cff289f3"
       ],
       "layout": "IPY_MODEL_275e25150f77454ab34cd957e00ec043"
      }
     },
     "bf38712aaf2a4005a304c861a6fd5501": {
      "model_module": "@jupyter-widgets/controls",
      "model_module_version": "1.5.0",
      "model_name": "DescriptionStyleModel",
      "state": {
       "description_width": ""
      }
     },
     "bf7919084d5d4ead8f6b81b5efd2b2b4": {
      "model_module": "@jupyter-widgets/base",
      "model_module_version": "1.2.0",
      "model_name": "LayoutModel",
      "state": {
       "display": "none"
      }
     },
     "bf7c70e54f7141fa84b1db6cef092ff7": {
      "model_module": "@jupyter-widgets/controls",
      "model_module_version": "1.5.0",
      "model_name": "HTMLModel",
      "state": {
       "layout": "IPY_MODEL_d59e9bf3384e4674a0e1c462ba9ea4ba",
       "style": "IPY_MODEL_0eb4ba507a8c459fb30f4d89a48db2c7",
       "value": "<font size=\"5\"><b>Bad Beat</b></font size=>"
      }
     },
     "bfb11061f44743bbaeb48ae865041367": {
      "model_module": "@jupyter-widgets/controls",
      "model_module_version": "1.5.0",
      "model_name": "HBoxModel",
      "state": {
       "children": [
        "IPY_MODEL_f04b76118afc47c881951da2cb62f8e7",
        "IPY_MODEL_99aef1295f0b469590600aa6c0ae8e5b",
        "IPY_MODEL_deed0885713e4990af2f7a72f8f3bfca",
        "IPY_MODEL_15e8df68789142a0b43be25f3980436b"
       ],
       "layout": "IPY_MODEL_7c10f690163e46a5a687fa00c155e7af"
      }
     },
     "c02637c559a54676b97ea32c4276d2c3": {
      "model_module": "@jupyter-widgets/controls",
      "model_module_version": "1.5.0",
      "model_name": "ButtonStyleModel",
      "state": {}
     },
     "c0a689bfa43544fa8c74544ff838dad6": {
      "model_module": "@jupyter-widgets/controls",
      "model_module_version": "1.5.0",
      "model_name": "IntProgressModel",
      "state": {
       "layout": "IPY_MODEL_cc7fe6b8d67349859376b0d6c99a70d4",
       "style": "IPY_MODEL_5af45e722cb344b58dc4724b4ba41eaf",
       "value": 30
      }
     },
     "c1188fab6f6341fbb7824f5d499e8617": {
      "model_module": "@jupyter-widgets/controls",
      "model_module_version": "1.5.0",
      "model_name": "IntProgressModel",
      "state": {
       "layout": "IPY_MODEL_dae13073d79845a5ad2cdd4693685bd9",
       "style": "IPY_MODEL_025653a1754341ddad7d6f6694ebd23c",
       "value": 30
      }
     },
     "c11b2ab0bde540a793d02635fed6106e": {
      "model_module": "@jupyter-widgets/controls",
      "model_module_version": "1.5.0",
      "model_name": "DescriptionStyleModel",
      "state": {
       "description_width": ""
      }
     },
     "c14825651058487d920d0c48d6a93f4b": {
      "model_module": "@jupyter-widgets/controls",
      "model_module_version": "1.5.0",
      "model_name": "DescriptionStyleModel",
      "state": {
       "description_width": ""
      }
     },
     "c1727b71af1549d59ea1f3fc9faed571": {
      "model_module": "@jupyter-widgets/controls",
      "model_module_version": "1.5.0",
      "model_name": "ButtonStyleModel",
      "state": {}
     },
     "c176d10b3b884415b917cd0b6a037965": {
      "model_module": "@jupyter-widgets/controls",
      "model_module_version": "1.5.0",
      "model_name": "LabelModel",
      "state": {
       "layout": "IPY_MODEL_1ae5d6bb9f544794b5058e74d09f3ba2",
       "style": "IPY_MODEL_391647be178441dda321f59e77d1b7c0",
       "value": "             objective 2"
      }
     },
     "c197e216c24d455ba18c0a5de55fd79d": {
      "model_module": "@jupyter-widgets/base",
      "model_module_version": "1.2.0",
      "model_name": "LayoutModel",
      "state": {
       "width": "60px"
      }
     },
     "c1f56cccdf544cac97b7749ce7d2c09f": {
      "model_module": "@jupyter-widgets/controls",
      "model_module_version": "1.5.0",
      "model_name": "ButtonModel",
      "state": {
       "layout": "IPY_MODEL_fcd22d340cb44fbe986fb38dd4635d16",
       "style": "IPY_MODEL_b22a961c467541a4a55881a7632c245b"
      }
     },
     "c22828efbab444ceb77eb9c2018e3cee": {
      "model_module": "@jupyter-widgets/controls",
      "model_module_version": "1.5.0",
      "model_name": "ButtonModel",
      "state": {
       "layout": "IPY_MODEL_0b0c599a42ff4eb5af1d8e8de60b3891",
       "style": "IPY_MODEL_649e34b4a17b4f358df0f0d6d88a6f65"
      }
     },
     "c25087e832f840bfbca5c7a77edb7e4b": {
      "model_module": "@jupyter-widgets/controls",
      "model_module_version": "1.5.0",
      "model_name": "IntProgressModel",
      "state": {
       "layout": "IPY_MODEL_53053e070ee14ee7ad80a5fd16c6a1c2",
       "style": "IPY_MODEL_0e532e99225f406587cc183bf5601085",
       "value": 30
      }
     },
     "c2698a2bb0654c54af80b27766fe4590": {
      "model_module": "@jupyter-widgets/controls",
      "model_module_version": "1.5.0",
      "model_name": "LabelModel",
      "state": {
       "layout": "IPY_MODEL_ffada0c8da764ac7aea9472cacb9e750",
       "style": "IPY_MODEL_6e68e85abfa643679be23193b0619b6e",
       "value": "             objective 5"
      }
     },
     "c26cbede64614554940d2e2a14cb8e03": {
      "model_module": "@jupyter-widgets/controls",
      "model_module_version": "1.5.0",
      "model_name": "ButtonStyleModel",
      "state": {}
     },
     "c2908eb40eb74c39ac79897142cc121f": {
      "model_module": "@jupyter-widgets/base",
      "model_module_version": "1.2.0",
      "model_name": "LayoutModel",
      "state": {
       "width": "60px"
      }
     },
     "c29309830f5545489a1755c3bedbb6d2": {
      "model_module": "@jupyter-widgets/controls",
      "model_module_version": "1.5.0",
      "model_name": "DescriptionStyleModel",
      "state": {
       "description_width": ""
      }
     },
     "c2b65a5cdcdf4bd095a75ed2aab2dcd5": {
      "model_module": "@jupyter-widgets/controls",
      "model_module_version": "1.5.0",
      "model_name": "ButtonStyleModel",
      "state": {}
     },
     "c2c555524b6949c29072991bddd59018": {
      "model_module": "@jupyter-widgets/controls",
      "model_module_version": "1.5.0",
      "model_name": "ButtonStyleModel",
      "state": {}
     },
     "c2eaafc2f5f74d44ae7c5d04ba40d771": {
      "model_module": "@jupyter-widgets/base",
      "model_module_version": "1.2.0",
      "model_name": "LayoutModel",
      "state": {
       "width": "60px"
      }
     },
     "c3317690fda3490e81cac21c92a1783a": {
      "model_module": "@jupyter-widgets/controls",
      "model_module_version": "1.5.0",
      "model_name": "ButtonStyleModel",
      "state": {}
     },
     "c3aff7c93bc1419d922c79b26b7d821b": {
      "model_module": "@jupyter-widgets/controls",
      "model_module_version": "1.5.0",
      "model_name": "ButtonStyleModel",
      "state": {}
     },
     "c3b1f30751094199b2843362cd312766": {
      "model_module": "@jupyter-widgets/controls",
      "model_module_version": "1.5.0",
      "model_name": "HBoxModel",
      "state": {
       "children": [
        "IPY_MODEL_0da1476bbf034d419113811cac2ec9bf",
        "IPY_MODEL_031ea3f5206f4ee9902d25b8021b7ce2",
        "IPY_MODEL_a509baae9f5347bcad661f11c08aaf8c",
        "IPY_MODEL_8557fe7c9ae84941b079b875906ebb34"
       ],
       "layout": "IPY_MODEL_4b9179025c784068ad11d5160abc4081"
      }
     },
     "c453a9b6954e4abcac39aa031592b0f1": {
      "model_module": "@jupyter-widgets/controls",
      "model_module_version": "1.5.0",
      "model_name": "ProgressStyleModel",
      "state": {
       "description_width": ""
      }
     },
     "c49bcc1723734fbd9dca658b8c025fed": {
      "model_module": "@jupyter-widgets/controls",
      "model_module_version": "1.5.0",
      "model_name": "ButtonStyleModel",
      "state": {}
     },
     "c4ab4daa11f74dfebfad081ecc7b15c7": {
      "model_module": "@jupyter-widgets/controls",
      "model_module_version": "1.5.0",
      "model_name": "IntProgressModel",
      "state": {
       "layout": "IPY_MODEL_5c9f3bffcf68419494f90e7e72c29e87",
       "style": "IPY_MODEL_fca20a92b37b4d54ab1169f4b6f1b0b7",
       "value": 30
      }
     },
     "c4b870a5600f4f98bfe281da4e8bf0c2": {
      "model_module": "@jupyter-widgets/controls",
      "model_module_version": "1.5.0",
      "model_name": "DescriptionStyleModel",
      "state": {
       "description_width": ""
      }
     },
     "c4bf295eda6a4956a81f4bb6c3633b56": {
      "model_module": "@jupyter-widgets/base",
      "model_module_version": "1.2.0",
      "model_name": "LayoutModel",
      "state": {
       "display": "none"
      }
     },
     "c507b2bbe95948f4b9babe6476b575cd": {
      "model_module": "@jupyter-widgets/controls",
      "model_module_version": "1.5.0",
      "model_name": "VBoxModel",
      "state": {
       "children": [
        "IPY_MODEL_9ce53b487572468d9d5049ff4deb9752",
        "IPY_MODEL_64c5887f37ee44e898ba5425b7511fbf",
        "IPY_MODEL_43a2357ca1564ff38db7794d7b851272",
        "IPY_MODEL_3b8520f48c464419889b2f2977aff4f3",
        "IPY_MODEL_f7bc6980ef03404e905928166f3b64b7",
        "IPY_MODEL_fe600ce78bbe45509cc7193798fb99ec"
       ],
       "layout": "IPY_MODEL_b8e004f46319491d90c1f69fbc6ade67"
      }
     },
     "c57535c751a04d7e9fbaae106ce7264d": {
      "model_module": "@jupyter-widgets/controls",
      "model_module_version": "1.5.0",
      "model_name": "ButtonModel",
      "state": {
       "description": "EDIT",
       "layout": "IPY_MODEL_10e1f41b9d2f4daaa64bb62ac2c9a264",
       "style": "IPY_MODEL_4a1d0c5d92be42e7812c2b6b6131a839"
      }
     },
     "c591d3e10e0649f4bc78d4db951d75b3": {
      "model_module": "@jupyter-widgets/controls",
      "model_module_version": "1.5.0",
      "model_name": "ButtonModel",
      "state": {
       "description": "EDIT",
       "layout": "IPY_MODEL_3b8726a86d964529ada5db0c166bc822",
       "style": "IPY_MODEL_6200d84c5bf24366b0fb1465263b76f6"
      }
     },
     "c5a9983bd7774827a76dcf63a098d6b8": {
      "model_module": "@jupyter-widgets/controls",
      "model_module_version": "1.5.0",
      "model_name": "LabelModel",
      "state": {
       "layout": "IPY_MODEL_3859ea61f2b84da8a05ca005dc253770",
       "style": "IPY_MODEL_994095998115438fb7c6236667de2e16",
       "value": "             objective 1"
      }
     },
     "c6293061d8f74a38ab317bd14c183dfb": {
      "model_module": "@jupyter-widgets/base",
      "model_module_version": "1.2.0",
      "model_name": "LayoutModel",
      "state": {
       "width": "60px"
      }
     },
     "c64cb0fa6d374c6995a99d71ad2c565b": {
      "model_module": "@jupyter-widgets/controls",
      "model_module_version": "1.5.0",
      "model_name": "DescriptionStyleModel",
      "state": {
       "description_width": ""
      }
     },
     "c65b9545a0bb4b10a453d745eee6f278": {
      "model_module": "@jupyter-widgets/controls",
      "model_module_version": "1.5.0",
      "model_name": "ButtonStyleModel",
      "state": {}
     },
     "c65c7e6aa45b40a88e2cab83dcbfad48": {
      "model_module": "@jupyter-widgets/controls",
      "model_module_version": "1.5.0",
      "model_name": "ButtonStyleModel",
      "state": {}
     },
     "c6913dde709745d2bc708be7f409e45f": {
      "model_module": "@jupyter-widgets/controls",
      "model_module_version": "1.5.0",
      "model_name": "ProgressStyleModel",
      "state": {
       "description_width": ""
      }
     },
     "c7056b03fa7d461fb6ce15c9f7f9ba3e": {
      "model_module": "@jupyter-widgets/controls",
      "model_module_version": "1.5.0",
      "model_name": "ButtonModel",
      "state": {
       "description": "EDIT",
       "layout": "IPY_MODEL_cb4a2bd60c854628a56b48ae65da5dfb",
       "style": "IPY_MODEL_f114481dbea848988455f41a7276b62a"
      }
     },
     "c7098066d76c433695eea1ff061be784": {
      "model_module": "@jupyter-widgets/base",
      "model_module_version": "1.2.0",
      "model_name": "LayoutModel",
      "state": {
       "border": "3px solid white",
       "display": "flex",
       "margin": "10px",
       "overflow": "visible",
       "padding": "10px",
       "width": "400px"
      }
     },
     "c71a2d86b5ec4e8dbf3be81154d4d979": {
      "model_module": "@jupyter-widgets/controls",
      "model_module_version": "1.5.0",
      "model_name": "ButtonStyleModel",
      "state": {}
     },
     "c7269b2c843a4ea487a9bfd7ca06293a": {
      "model_module": "@jupyter-widgets/controls",
      "model_module_version": "1.5.0",
      "model_name": "IntProgressModel",
      "state": {
       "bar_style": "success",
       "layout": "IPY_MODEL_89d3af9fd7c04c2ea42a522a97b605a7",
       "max": 1,
       "style": "IPY_MODEL_39f275b68baf49ed94a2884bf2be6511",
       "value": 1
      }
     },
     "c73d21a6e3364f36ae426b1980bda8cb": {
      "model_module": "@jupyter-widgets/controls",
      "model_module_version": "1.5.0",
      "model_name": "DropdownModel",
      "state": {
       "_options_labels": [
        "Any"
       ],
       "disabled": true,
       "index": 0,
       "layout": "IPY_MODEL_3fc045ecc6f2435c927ec7725208dfa4",
       "style": "IPY_MODEL_2219d964817f4761b9e86fb645ba3a43"
      }
     },
     "c741e806a36f49b7a03486b4aa3e7948": {
      "model_module": "@jupyter-widgets/base",
      "model_module_version": "1.2.0",
      "model_name": "LayoutModel",
      "state": {
       "overflow": "visible",
       "width": "100%"
      }
     },
     "c748e5cd48034eb99fea2e3e1025226a": {
      "model_module": "@jupyter-widgets/controls",
      "model_module_version": "1.5.0",
      "model_name": "DescriptionStyleModel",
      "state": {
       "description_width": ""
      }
     },
     "c774c0f1e92a47f7b10352315493cc88": {
      "model_module": "@jupyter-widgets/controls",
      "model_module_version": "1.5.0",
      "model_name": "ProgressStyleModel",
      "state": {
       "description_width": ""
      }
     },
     "c784e2ead1f6469ea2ec612b80f725f8": {
      "model_module": "@jupyter-widgets/controls",
      "model_module_version": "1.5.0",
      "model_name": "IntProgressModel",
      "state": {
       "layout": "IPY_MODEL_0a8c9f5551e7430eb6e8d776e0f31279",
       "style": "IPY_MODEL_ea770b3c08884ce89638129fd1ba8138",
       "value": 30
      }
     },
     "c7989bb897d44c279eded7d240822701": {
      "model_module": "@jupyter-widgets/controls",
      "model_module_version": "1.5.0",
      "model_name": "ProgressStyleModel",
      "state": {
       "description_width": ""
      }
     },
     "c7a793a4729945059ccddb2fdc977b99": {
      "model_module": "@jupyter-widgets/controls",
      "model_module_version": "1.5.0",
      "model_name": "HBoxModel",
      "state": {
       "children": [
        "IPY_MODEL_e63481164ca54111b5d193cb500fa4b5",
        "IPY_MODEL_24550955a39e422cacf7fb1b82093ede",
        "IPY_MODEL_5b1e2835816e4c6c943bfa9cfeda31ea",
        "IPY_MODEL_45b81338867941f3b782404d132aad98"
       ],
       "layout": "IPY_MODEL_fedd94e1443e459eb4d1b1a8b6b4e1b6"
      }
     },
     "c7be43c4fe2a460f8fdb152c6b1b09f7": {
      "model_module": "@jupyter-widgets/controls",
      "model_module_version": "1.5.0",
      "model_name": "ProgressStyleModel",
      "state": {
       "description_width": ""
      }
     },
     "c7e32651d3e2457796630501c4a2bd97": {
      "model_module": "@jupyter-widgets/controls",
      "model_module_version": "1.5.0",
      "model_name": "ButtonModel",
      "state": {
       "layout": "IPY_MODEL_35f6c9c4599841f5aa420dbb401fcad6",
       "style": "IPY_MODEL_154f8776de1a49189e520b4b0468c1d2"
      }
     },
     "c7fd113d07144d3c9c79855510829554": {
      "model_module": "@jupyter-widgets/base",
      "model_module_version": "1.2.0",
      "model_name": "LayoutModel",
      "state": {
       "border": "2px solid #00bcd4",
       "height": "100%",
       "width": "98%"
      }
     },
     "c810ed8db86a4720b97209d839fe75af": {
      "model_module": "@jupyter-widgets/controls",
      "model_module_version": "1.5.0",
      "model_name": "LabelModel",
      "state": {
       "layout": "IPY_MODEL_a7cb5d5ecfd046049ce25a7a0ba1208a",
       "style": "IPY_MODEL_d71d2bf6a9fb44f6831d55828a0f47bd",
       "value": "             objective 4"
      }
     },
     "c8550379aa49460bb68e4fb7bf2ffb82": {
      "model_module": "@jupyter-widgets/controls",
      "model_module_version": "1.5.0",
      "model_name": "DescriptionStyleModel",
      "state": {
       "description_width": ""
      }
     },
     "c85bcf3dbd0949479ae5ef43d36acffb": {
      "model_module": "@jupyter-widgets/controls",
      "model_module_version": "1.5.0",
      "model_name": "IntProgressModel",
      "state": {
       "layout": "IPY_MODEL_53053e070ee14ee7ad80a5fd16c6a1c2",
       "style": "IPY_MODEL_918abf711e7b45188dbb70fb051b9d8d",
       "value": 30
      }
     },
     "c85cb2f5646b48c29fdca12908d55122": {
      "model_module": "@jupyter-widgets/controls",
      "model_module_version": "1.5.0",
      "model_name": "ButtonModel",
      "state": {
       "layout": "IPY_MODEL_791f7d9f70114e6799a48471196dfe9b",
       "style": "IPY_MODEL_768429cac49046579f5ff5c396db3c44"
      }
     },
     "c8b771a58cce40658ab70e1f1405b1ab": {
      "model_module": "@jupyter-widgets/controls",
      "model_module_version": "1.5.0",
      "model_name": "DescriptionStyleModel",
      "state": {
       "description_width": ""
      }
     },
     "c91d3bda32224686a18acadb401705f8": {
      "model_module": "@jupyter-widgets/controls",
      "model_module_version": "1.5.0",
      "model_name": "ButtonModel",
      "state": {
       "description": "EDIT",
       "layout": "IPY_MODEL_77060f30a82d4c34bf0ef5cc4276136b",
       "style": "IPY_MODEL_aa7ee25fa7d2405ba62156657031cc6a"
      }
     },
     "c95b05af7f754f7a8fe506260ba38c63": {
      "model_module": "@jupyter-widgets/base",
      "model_module_version": "1.2.0",
      "model_name": "LayoutModel",
      "state": {
       "display": "flex"
      }
     },
     "ca0bb9c0de9f46c6aa0c7eba5c02a7f9": {
      "model_module": "@jupyter-widgets/controls",
      "model_module_version": "1.5.0",
      "model_name": "HBoxModel",
      "state": {
       "children": [
        "IPY_MODEL_5610018ac22f4e70862d5f3b32d6ec87",
        "IPY_MODEL_03ebe9538125426da9ad1cae81667ebb"
       ],
       "layout": "IPY_MODEL_2daf6053d77741718ba8c113c41efd09"
      }
     },
     "ca5fd5fbaab94a2b92dd2d6d577d5c12": {
      "model_module": "@jupyter-widgets/controls",
      "model_module_version": "1.5.0",
      "model_name": "DescriptionStyleModel",
      "state": {
       "description_width": ""
      }
     },
     "ca6bd2d3a53a4c12879d318ee31786a7": {
      "model_module": "@jupyter-widgets/base",
      "model_module_version": "1.2.0",
      "model_name": "LayoutModel",
      "state": {
       "width": "60px"
      }
     },
     "ca79e6154ba1406b96280de88023ac35": {
      "model_module": "@jupyter-widgets/controls",
      "model_module_version": "1.5.0",
      "model_name": "HTMLModel",
      "state": {
       "layout": "IPY_MODEL_6d8a8ff71550484798864c4285fc4b90",
       "style": "IPY_MODEL_6543a73cef0a4d4a9582dc55766a24e2",
       "value": "<b>Activity Options</b>"
      }
     },
     "caa3e0995a4e433990f7c6d22b09a3fc": {
      "model_module": "@jupyter-widgets/controls",
      "model_module_version": "1.5.0",
      "model_name": "ButtonStyleModel",
      "state": {}
     },
     "cb4a2bd60c854628a56b48ae65da5dfb": {
      "model_module": "@jupyter-widgets/base",
      "model_module_version": "1.2.0",
      "model_name": "LayoutModel",
      "state": {
       "width": "60px"
      }
     },
     "cb84bf7272f3406795fb771f685b932e": {
      "model_module": "@jupyter-widgets/controls",
      "model_module_version": "1.5.0",
      "model_name": "ButtonModel",
      "state": {
       "description": "EDIT",
       "layout": "IPY_MODEL_797278fa21f9405a8a86a136f8b79a58",
       "style": "IPY_MODEL_9a6a7522dc6847f69df99b554ca60c26"
      }
     },
     "cbc041018b1e40588789426d4413630b": {
      "model_module": "@jupyter-widgets/controls",
      "model_module_version": "1.5.0",
      "model_name": "LabelModel",
      "state": {
       "layout": "IPY_MODEL_589ff327868f4703a4f298aa90eece78",
       "style": "IPY_MODEL_9235bbf6295a4550b19ce6d99690a03b",
       "value": "             objective 2"
      }
     },
     "cbc8e26ab236403e8c47fe5b44d353c1": {
      "model_module": "@jupyter-widgets/base",
      "model_module_version": "1.2.0",
      "model_name": "LayoutModel",
      "state": {
       "display": "none"
      }
     },
     "cc076156395a4a7fb6fa8115d78e75eb": {
      "model_module": "@jupyter-widgets/controls",
      "model_module_version": "1.5.0",
      "model_name": "ProgressStyleModel",
      "state": {
       "description_width": ""
      }
     },
     "cc118734359349ada85fce687ee3b0c6": {
      "model_module": "@jupyter-widgets/base",
      "model_module_version": "1.2.0",
      "model_name": "LayoutModel",
      "state": {
       "width": "60px"
      }
     },
     "cc7fe6b8d67349859376b0d6c99a70d4": {
      "model_module": "@jupyter-widgets/base",
      "model_module_version": "1.2.0",
      "model_name": "LayoutModel",
      "state": {
       "height": "32px",
       "overflow": "visible",
       "padding": "0px",
       "width": "100%"
      }
     },
     "cc84b83fe28342cb8a3f2e2adbf2c8f8": {
      "model_module": "@jupyter-widgets/controls",
      "model_module_version": "1.5.0",
      "model_name": "HTMLModel",
      "state": {
       "layout": "IPY_MODEL_18fe95a38f724082b0bd323d009252b8",
       "style": "IPY_MODEL_afad1b30c9c84f1abfd77a95aeb4f897",
       "value": "<i></i>"
      }
     },
     "cc8f864e03034fa5aa5384164ebcf01d": {
      "model_module": "@jupyter-widgets/controls",
      "model_module_version": "1.5.0",
      "model_name": "DescriptionStyleModel",
      "state": {
       "description_width": ""
      }
     },
     "ccae3118c7954344abd374656930fd8c": {
      "model_module": "@jupyter-widgets/controls",
      "model_module_version": "1.5.0",
      "model_name": "ButtonModel",
      "state": {
       "layout": "IPY_MODEL_272caa2a293a4c32939417d15c3dbe8d",
       "style": "IPY_MODEL_a4ffc779b8694e7195ccb720a1920f73"
      }
     },
     "ccbe08bf390f4399930abd0ed8fd0ac6": {
      "model_module": "@jupyter-widgets/base",
      "model_module_version": "1.2.0",
      "model_name": "LayoutModel",
      "state": {
       "width": "60px"
      }
     },
     "ccc18d97960a4bd6972e95600a6074dc": {
      "model_module": "@jupyter-widgets/base",
      "model_module_version": "1.2.0",
      "model_name": "LayoutModel",
      "state": {
       "display": "none"
      }
     },
     "ccc2407f31704416ab06ea76accb37e0": {
      "model_module": "@jupyter-widgets/controls",
      "model_module_version": "1.5.0",
      "model_name": "HBoxModel",
      "state": {
       "children": [
        "IPY_MODEL_57b1eca45c254fe28433d14a94fdc6a5",
        "IPY_MODEL_dc6a4dc79ad2400b83835868409bf9df",
        "IPY_MODEL_55a3c26be5c948fea1fc39e8f3f17cf0",
        "IPY_MODEL_3ba18e7dafd944148f132b3362deb02d"
       ],
       "layout": "IPY_MODEL_1082d70d38064e50b8d580bafe72f6fd"
      }
     },
     "ccd8469070cc4ddca252da77216c6a5e": {
      "model_module": "@jupyter-widgets/controls",
      "model_module_version": "1.5.0",
      "model_name": "HBoxModel",
      "state": {
       "children": [
        "IPY_MODEL_c1f56cccdf544cac97b7749ce7d2c09f",
        "IPY_MODEL_a93940a815e44a69851016713651097f",
        "IPY_MODEL_b4c15225b1fd445287c60b75f6f20377",
        "IPY_MODEL_fc56c37ac1894ff786468332007a56bf"
       ],
       "layout": "IPY_MODEL_a27324aa4fd44181b49f4bcd2da9abf0"
      }
     },
     "ccfb4204949049e3b845822b095c823a": {
      "model_module": "@jupyter-widgets/controls",
      "model_module_version": "1.5.0",
      "model_name": "DescriptionStyleModel",
      "state": {
       "description_width": ""
      }
     },
     "cd1c6b75cf0443b0b7b35736ea871343": {
      "model_module": "@jupyter-widgets/base",
      "model_module_version": "1.2.0",
      "model_name": "LayoutModel",
      "state": {
       "width": "60px"
      }
     },
     "cd36d5afc02e471584871a509e1a7492": {
      "model_module": "@jupyter-widgets/controls",
      "model_module_version": "1.5.0",
      "model_name": "ButtonModel",
      "state": {
       "layout": "IPY_MODEL_0b0c599a42ff4eb5af1d8e8de60b3891",
       "style": "IPY_MODEL_a58eb584168e4c589ddbb06b7e76445d"
      }
     },
     "cd4aed5ee05d46dc94f9f7c6df331996": {
      "model_module": "@jupyter-widgets/controls",
      "model_module_version": "1.5.0",
      "model_name": "HBoxModel",
      "state": {
       "children": [
        "IPY_MODEL_588b0d777f2c40d2a7a31bca23207c1f",
        "IPY_MODEL_90edd55867ed469d84dffb64482e1b1d",
        "IPY_MODEL_3fbfacf85fbe4887aa499ca8e8109a20",
        "IPY_MODEL_14ed1ceff7f84beb939efffecab0ac7d"
       ],
       "layout": "IPY_MODEL_d55fde039c5d43b68761056b519455eb"
      }
     },
     "cd8d5155a6ac40ca95494aa79321cdcf": {
      "model_module": "@jupyter-widgets/controls",
      "model_module_version": "1.5.0",
      "model_name": "LabelModel",
      "state": {
       "layout": "IPY_MODEL_6800966f80d14401a5d9e22f2c889fe3",
       "style": "IPY_MODEL_4f52704b5bf3460c892c16ef1ed4bfd9",
       "value": "             objective 3"
      }
     },
     "cd931dd204ed488fbdcce4e172eeaae9": {
      "model_module": "@jupyter-widgets/controls",
      "model_module_version": "1.5.0",
      "model_name": "HTMLModel",
      "state": {
       "layout": "IPY_MODEL_6683154c946747a29f89932ed8a75405",
       "style": "IPY_MODEL_b5e989c1ee7041e4901c0ed5c5e84749",
       "value": "<font size=\"5\"><b>The Nine</b></font size=>"
      }
     },
     "ce475c26f5684e248b676c0192fe3b53": {
      "model_module": "@jupyter-widgets/controls",
      "model_module_version": "1.5.0",
      "model_name": "HTMLModel",
      "state": {
       "layout": "IPY_MODEL_356dd1bf6a8f46888c9822ec92140e16",
       "style": "IPY_MODEL_f12710fd90774b1ba96d7f72eb977303",
       "value": "<font size=\"1\">Triumphs/Lore/The Light/Ghost Stories/</font size=>"
      }
     },
     "ce5facaeb3764cdab2aee7997041fe45": {
      "model_module": "@jupyter-widgets/base",
      "model_module_version": "1.2.0",
      "model_name": "LayoutModel",
      "state": {
       "overflow": "visible",
       "width": "100%"
      }
     },
     "ce61021ef3ba4dcf99d5060f8f53b0aa": {
      "model_module": "@jupyter-widgets/base",
      "model_module_version": "1.2.0",
      "model_name": "LayoutModel",
      "state": {
       "border": "3px solid white",
       "display": "flex",
       "margin": "10px",
       "overflow": "visible",
       "padding": "10px",
       "width": "400px"
      }
     },
     "ce635a94e77543fe9acd2310e175e24c": {
      "model_module": "@jupyter-widgets/controls",
      "model_module_version": "1.5.0",
      "model_name": "ButtonStyleModel",
      "state": {}
     },
     "cea5a3ec5e1841439d08cce74ccaa863": {
      "model_module": "@jupyter-widgets/controls",
      "model_module_version": "1.5.0",
      "model_name": "IntProgressModel",
      "state": {
       "layout": "IPY_MODEL_a82a1fc7a2e743c0a15fd29efd4506b9",
       "style": "IPY_MODEL_bb9e513e0bc34669be146287faf7fb25",
       "value": 30
      }
     },
     "ceaf68e248d54b1da76f6bd5186158aa": {
      "model_module": "@jupyter-widgets/controls",
      "model_module_version": "1.5.0",
      "model_name": "ButtonModel",
      "state": {
       "layout": "IPY_MODEL_ed9b769f6b544c9fb0ea71145371c2a9",
       "style": "IPY_MODEL_7b620e480f3445bfa089f4092b13c1a3"
      }
     },
     "ceb1ef56219f4f7bb9e3ee2052566443": {
      "model_module": "@jupyter-widgets/controls",
      "model_module_version": "1.5.0",
      "model_name": "DescriptionStyleModel",
      "state": {
       "description_width": ""
      }
     },
     "ceedd21f1a544d53b9c6d16c93df2a51": {
      "model_module": "@jupyter-widgets/base",
      "model_module_version": "1.2.0",
      "model_name": "LayoutModel",
      "state": {
       "overflow": "visible",
       "width": "100%"
      }
     },
     "cefbc735bea9441aa59f5a2703c2ffd6": {
      "model_module": "@jupyter-widgets/controls",
      "model_module_version": "1.5.0",
      "model_name": "ButtonModel",
      "state": {
       "description": "EDIT",
       "layout": "IPY_MODEL_9f884b49eb8d47c4b47b96eb0c23efb0",
       "style": "IPY_MODEL_1c9201215d014751923ccffb169f0151"
      }
     },
     "cf3b0b92fde64cfabfcede17425869a8": {
      "model_module": "@jupyter-widgets/controls",
      "model_module_version": "1.5.0",
      "model_name": "ButtonStyleModel",
      "state": {}
     },
     "cf5b722612d14af093144c3d9c9ae3d1": {
      "model_module": "@jupyter-widgets/controls",
      "model_module_version": "1.5.0",
      "model_name": "ButtonModel",
      "state": {
       "description": "EDIT",
       "layout": "IPY_MODEL_39b67979c5674d4d985c2c75fbf93904",
       "style": "IPY_MODEL_e89f058e5e094d32b397018e415cfd70"
      }
     },
     "cf676fc2106e483ebc96b350686f9b38": {
      "model_module": "@jupyter-widgets/controls",
      "model_module_version": "1.5.0",
      "model_name": "ButtonStyleModel",
      "state": {}
     },
     "cf6be3958ed245e2910f9487bad47ede": {
      "model_module": "@jupyter-widgets/controls",
      "model_module_version": "1.5.0",
      "model_name": "VBoxModel",
      "state": {
       "children": [
        "IPY_MODEL_b0e3b4aaccdf4f27b443b7c6d63f3fee",
        "IPY_MODEL_f4cf9933a4d14048bc9bcf72b6fdd8c5",
        "IPY_MODEL_1a3386753b504329aa81454b9ad631f6",
        "IPY_MODEL_c507b2bbe95948f4b9babe6476b575cd"
       ],
       "layout": "IPY_MODEL_6d109bdfe2ee4db1a02839083c137db8"
      }
     },
     "cf97fb3a9af04884acccd461ba515cb6": {
      "model_module": "@jupyter-widgets/controls",
      "model_module_version": "1.5.0",
      "model_name": "HBoxModel",
      "state": {
       "children": [
        "IPY_MODEL_f3b18524c0ff465f9bad023683cccff7",
        "IPY_MODEL_a79d4c3c1f6c430aac9e2b2228c6ef1f",
        "IPY_MODEL_9ff132bed7d646b886b007499d951729",
        "IPY_MODEL_a23a751d97dd40d881fab003ce7ab892"
       ],
       "layout": "IPY_MODEL_6d1175cd78b6484d8ad9fd7ceab59fbe"
      }
     },
     "cfa4f5aac8c64f7b9273a313ebf4c9b1": {
      "model_module": "@jupyter-widgets/controls",
      "model_module_version": "1.5.0",
      "model_name": "IntProgressModel",
      "state": {
       "layout": "IPY_MODEL_f92860ae49f1437da38f544278148d94",
       "style": "IPY_MODEL_0e14339745414e2bbf261c830d8ce9fd",
       "value": 30
      }
     },
     "cfa565ca5bd8442d885d9479a74e972a": {
      "model_module": "@jupyter-widgets/controls",
      "model_module_version": "1.5.0",
      "model_name": "ButtonStyleModel",
      "state": {}
     },
     "cfa798a5cb6c4f55b7bd3b54c956d6f0": {
      "model_module": "@jupyter-widgets/controls",
      "model_module_version": "1.5.0",
      "model_name": "DescriptionStyleModel",
      "state": {
       "description_width": ""
      }
     },
     "cfc81ad3830b420eaea8478099f0d204": {
      "model_module": "@jupyter-widgets/base",
      "model_module_version": "1.2.0",
      "model_name": "LayoutModel",
      "state": {
       "display": "flex"
      }
     },
     "cfe4f46384ca43e2ae06253361c25ca1": {
      "model_module": "@jupyter-widgets/controls",
      "model_module_version": "1.5.0",
      "model_name": "LabelModel",
      "state": {
       "layout": "IPY_MODEL_6d8a8ff71550484798864c4285fc4b90",
       "style": "IPY_MODEL_74e8b5cb4dc94e3d8fcd5ab7b4e903fe",
       "value": "Armor Set:"
      }
     },
     "d013893624f44b93b6687e7581645345": {
      "model_module": "@jupyter-widgets/controls",
      "model_module_version": "1.5.0",
      "model_name": "DescriptionStyleModel",
      "state": {
       "description_width": ""
      }
     },
     "d034b26c18b342e490d342aeda1e36b9": {
      "model_module": "@jupyter-widgets/controls",
      "model_module_version": "1.5.0",
      "model_name": "DescriptionStyleModel",
      "state": {
       "description_width": ""
      }
     },
     "d063d4fd991f41b6ad2e3d33d7e91ac2": {
      "model_module": "@jupyter-widgets/controls",
      "model_module_version": "1.5.0",
      "model_name": "HBoxModel",
      "state": {
       "children": [
        "IPY_MODEL_8bd8fb92b1c14dbb9dc016bc86041098",
        "IPY_MODEL_c25087e832f840bfbca5c7a77edb7e4b",
        "IPY_MODEL_d75709b4963f49b287ba9b39dd940915",
        "IPY_MODEL_fc70ff3f611649609e9a7a72e9126fad"
       ],
       "layout": "IPY_MODEL_f45c98f8ebda454394a3845de025fe0a"
      }
     },
     "d0b928eb364f4ba19086852c56a55270": {
      "model_module": "@jupyter-widgets/controls",
      "model_module_version": "1.5.0",
      "model_name": "IntProgressModel",
      "state": {
       "layout": "IPY_MODEL_a52cf2c5947a4de1b97014c038f6f0bf",
       "style": "IPY_MODEL_2444be8ed3074443bf22405bf4ec5861",
       "value": 30
      }
     },
     "d0fa93c0af16439f85218d5c3b4d0d43": {
      "model_module": "@jupyter-widgets/controls",
      "model_module_version": "1.5.0",
      "model_name": "ButtonModel",
      "state": {
       "layout": "IPY_MODEL_d28c51ec24ec479a8db1bd4daeee9600",
       "style": "IPY_MODEL_aa4bde67f0d24cddb0879137abf9d626"
      }
     },
     "d127e4fef3ad486b92de9bf34131447a": {
      "model_module": "@jupyter-widgets/controls",
      "model_module_version": "1.5.0",
      "model_name": "ButtonModel",
      "state": {
       "description": "EDIT",
       "layout": "IPY_MODEL_85d76a0eb345445f9adb265a6e8dbc55",
       "style": "IPY_MODEL_e64fe8bc887242c8ba5e3209d2d790d4"
      }
     },
     "d1466497f4544f15b1bb6807f55225fa": {
      "model_module": "@jupyter-widgets/controls",
      "model_module_version": "1.5.0",
      "model_name": "ButtonStyleModel",
      "state": {}
     },
     "d1d243ba84cb4a3e84fe7b7016a18c2a": {
      "model_module": "@jupyter-widgets/base",
      "model_module_version": "1.2.0",
      "model_name": "LayoutModel",
      "state": {
       "width": "60px"
      }
     },
     "d1dd34f28e5448dab6a5181681573252": {
      "model_module": "@jupyter-widgets/controls",
      "model_module_version": "1.5.0",
      "model_name": "ButtonModel",
      "state": {
       "description": "EDIT",
       "layout": "IPY_MODEL_94ef49920e1f495293b6b768819fdde1",
       "style": "IPY_MODEL_97aecb21d989469aadc105011cf5462b"
      }
     },
     "d20aea730e4a45958203f140729ea984": {
      "model_module": "@jupyter-widgets/controls",
      "model_module_version": "1.5.0",
      "model_name": "ButtonModel",
      "state": {
       "description": "EDIT",
       "layout": "IPY_MODEL_0915a80517834c6ca92c540dbacdbd9e",
       "style": "IPY_MODEL_2b328b850c2e46299b8b8ce436916cf5"
      }
     },
     "d280041e0570418ba970fbd9757409c0": {
      "model_module": "@jupyter-widgets/controls",
      "model_module_version": "1.5.0",
      "model_name": "ButtonModel",
      "state": {
       "description": "EDIT",
       "layout": "IPY_MODEL_8e63ecaa2cf24077a8bd62dcf2bdea51",
       "style": "IPY_MODEL_a3f65416d8ab4ed89ba6be10c8ad90b5"
      }
     },
     "d28c51ec24ec479a8db1bd4daeee9600": {
      "model_module": "@jupyter-widgets/base",
      "model_module_version": "1.2.0",
      "model_name": "LayoutModel",
      "state": {
       "height": "32px",
       "order": "-2",
       "width": "32px"
      }
     },
     "d2b51d214b2c4023bb58f22977156d48": {
      "model_module": "@jupyter-widgets/controls",
      "model_module_version": "1.5.0",
      "model_name": "DescriptionStyleModel",
      "state": {
       "description_width": ""
      }
     },
     "d324158f7ede434a9aa1dd1a819b442e": {
      "model_module": "@jupyter-widgets/controls",
      "model_module_version": "1.5.0",
      "model_name": "IntProgressModel",
      "state": {
       "bar_style": "success",
       "layout": "IPY_MODEL_a52cf2c5947a4de1b97014c038f6f0bf",
       "max": 1,
       "style": "IPY_MODEL_134de58b22c44839a858fdbb8aec3ca4",
       "value": 1
      }
     },
     "d37a652cbc6c477ea6eeaeb4c159d13b": {
      "model_module": "@jupyter-widgets/controls",
      "model_module_version": "1.5.0",
      "model_name": "ButtonStyleModel",
      "state": {}
     },
     "d39d6be7ea4740fd95b2665a8dda2da8": {
      "model_module": "@jupyter-widgets/controls",
      "model_module_version": "1.5.0",
      "model_name": "LabelModel",
      "state": {
       "layout": "IPY_MODEL_de761fae7a1342f4a91f2ee111dedcaf",
       "style": "IPY_MODEL_ea5573d367104117ad421a3c7d935bd9",
       "value": "             objective 3"
      }
     },
     "d3b244df80b04b94be3141dc369e1c59": {
      "model_module": "@jupyter-widgets/controls",
      "model_module_version": "1.5.0",
      "model_name": "IntProgressModel",
      "state": {
       "layout": "IPY_MODEL_53053e070ee14ee7ad80a5fd16c6a1c2",
       "style": "IPY_MODEL_a3209952ce5e4db5872916bb26b8f497",
       "value": 30
      }
     },
     "d3bdf2044d7742ddba4209a47c2f57ba": {
      "model_module": "@jupyter-widgets/controls",
      "model_module_version": "1.5.0",
      "model_name": "IntProgressModel",
      "state": {
       "layout": "IPY_MODEL_cc7fe6b8d67349859376b0d6c99a70d4",
       "style": "IPY_MODEL_900db462560b4dde95e200a788c82d27",
       "value": 30
      }
     },
     "d3da25845f8f430085999989d474a4b0": {
      "model_module": "@jupyter-widgets/controls",
      "model_module_version": "1.5.0",
      "model_name": "DescriptionStyleModel",
      "state": {
       "description_width": ""
      }
     },
     "d41e19ad7abb4b66899d968fb0f22c1f": {
      "model_module": "@jupyter-widgets/controls",
      "model_module_version": "1.5.0",
      "model_name": "DescriptionStyleModel",
      "state": {
       "description_width": ""
      }
     },
     "d55fde039c5d43b68761056b519455eb": {
      "model_module": "@jupyter-widgets/base",
      "model_module_version": "1.2.0",
      "model_name": "LayoutModel",
      "state": {
       "display": "flex"
      }
     },
     "d591214990de48b5a2a027739ad9ad44": {
      "model_module": "@jupyter-widgets/base",
      "model_module_version": "1.2.0",
      "model_name": "LayoutModel",
      "state": {}
     },
     "d59e9bf3384e4674a0e1c462ba9ea4ba": {
      "model_module": "@jupyter-widgets/base",
      "model_module_version": "1.2.0",
      "model_name": "LayoutModel",
      "state": {
       "overflow": "visible",
       "width": "100%"
      }
     },
     "d5f4fc32efc34b9baa3f2b2651a18c67": {
      "model_module": "@jupyter-widgets/base",
      "model_module_version": "1.2.0",
      "model_name": "LayoutModel",
      "state": {}
     },
     "d618f170bb3a4a4fbe40cd304a800217": {
      "model_module": "@jupyter-widgets/controls",
      "model_module_version": "1.5.0",
      "model_name": "VBoxModel",
      "state": {
       "children": [
        "IPY_MODEL_7158e62ad4354fad9db8400744de50c6",
        "IPY_MODEL_a39e7614ad2144498a4ff0fe6925b31a",
        "IPY_MODEL_4776a63e0efd4d48a4be292818272e2f",
        "IPY_MODEL_a39e7614ad2144498a4ff0fe6925b31a",
        "IPY_MODEL_0641768fc07942099c9b404faace3beb"
       ],
       "layout": "IPY_MODEL_ec259c9b8bed40a5bbefc358f0ffdbdb"
      }
     },
     "d66c5e5734df403187df785fb40f7479": {
      "model_module": "@jupyter-widgets/controls",
      "model_module_version": "1.5.0",
      "model_name": "LabelModel",
      "state": {
       "layout": "IPY_MODEL_7b2c155bf81e4f879a45725ea18038f5",
       "style": "IPY_MODEL_ff0c074f54de4fb98930751a839d3987",
       "value": "    Grenade kills (289/1000)"
      }
     },
     "d691fc59402a494e999efb55df7f27d1": {
      "model_module": "@jupyter-widgets/controls",
      "model_module_version": "1.5.0",
      "model_name": "DescriptionStyleModel",
      "state": {
       "description_width": ""
      }
     },
     "d6bd5a03a1de4065af544a56db1d225c": {
      "model_module": "@jupyter-widgets/controls",
      "model_module_version": "1.5.0",
      "model_name": "ProgressStyleModel",
      "state": {
       "description_width": ""
      }
     },
     "d6d086abb06e41489abb4c6fdc8274f5": {
      "model_module": "@jupyter-widgets/controls",
      "model_module_version": "1.5.0",
      "model_name": "CheckboxModel",
      "state": {
       "description": "Hide Collections",
       "disabled": false,
       "layout": "IPY_MODEL_b5335bc651054bb98aea4c97c4adc5e2",
       "style": "IPY_MODEL_afe392d65b694292a042b1a8477454a0",
       "value": false
      }
     },
     "d7006d5f534543dc87ca34e633d5820f": {
      "model_module": "@jupyter-widgets/controls",
      "model_module_version": "1.5.0",
      "model_name": "ButtonModel",
      "state": {
       "description": "EDIT",
       "layout": "IPY_MODEL_a344063b2d4a4bcdbcf54d7fccd86580",
       "style": "IPY_MODEL_d37a652cbc6c477ea6eeaeb4c159d13b"
      }
     },
     "d7160a2712e44690928c3f23ad12b0ff": {
      "model_module": "@jupyter-widgets/controls",
      "model_module_version": "1.5.0",
      "model_name": "ButtonStyleModel",
      "state": {}
     },
     "d716eca0a5f748ad9ef1b1f6e81483a4": {
      "model_module": "@jupyter-widgets/controls",
      "model_module_version": "1.5.0",
      "model_name": "DescriptionStyleModel",
      "state": {
       "description_width": ""
      }
     },
     "d71d2bf6a9fb44f6831d55828a0f47bd": {
      "model_module": "@jupyter-widgets/controls",
      "model_module_version": "1.5.0",
      "model_name": "DescriptionStyleModel",
      "state": {
       "description_width": ""
      }
     },
     "d7266c6f1f03433386d21b2953d30832": {
      "model_module": "@jupyter-widgets/controls",
      "model_module_version": "1.5.0",
      "model_name": "VBoxModel",
      "state": {
       "children": [
        "IPY_MODEL_ce475c26f5684e248b676c0192fe3b53",
        "IPY_MODEL_0728ba5e835243a7886d78eeac8529dd",
        "IPY_MODEL_ab7ed354acc74349ba62b18a088b0863",
        "IPY_MODEL_aeee181bf1d0491594315c7d2d66f53f"
       ],
       "layout": "IPY_MODEL_d9e01a3abff4490aa5e77bf50f4c495a"
      }
     },
     "d733d47f807840fbadc79ce0396b26d0": {
      "model_module": "@jupyter-widgets/controls",
      "model_module_version": "1.5.0",
      "model_name": "ProgressStyleModel",
      "state": {
       "description_width": ""
      }
     },
     "d753481fbc2f4ba5869f2782492a3ed6": {
      "model_module": "@jupyter-widgets/controls",
      "model_module_version": "1.5.0",
      "model_name": "LabelModel",
      "state": {
       "layout": "IPY_MODEL_00c2378b32254d8e81260814290bcdae",
       "style": "IPY_MODEL_d3da25845f8f430085999989d474a4b0",
       "value": "             objective 5"
      }
     },
     "d75709b4963f49b287ba9b39dd940915": {
      "model_module": "@jupyter-widgets/controls",
      "model_module_version": "1.5.0",
      "model_name": "LabelModel",
      "state": {
       "layout": "IPY_MODEL_0aff27b43c464f5fba0a413915483f81",
       "style": "IPY_MODEL_89805ac3037046faa9a701c33827a590",
       "value": "             objective 5"
      }
     },
     "d7648e42f3a647378761f54b22c81929": {
      "model_module": "@jupyter-widgets/controls",
      "model_module_version": "1.5.0",
      "model_name": "LabelModel",
      "state": {
       "layout": "IPY_MODEL_589ff327868f4703a4f298aa90eece78",
       "style": "IPY_MODEL_e470d8448d9b41098f3c01ac742ded9c",
       "value": "    Glory ranks (2/5)"
      }
     },
     "d774d1f0e04a41c3ba4b7770acc56731": {
      "model_module": "@jupyter-widgets/controls",
      "model_module_version": "1.5.0",
      "model_name": "ProgressStyleModel",
      "state": {
       "description_width": ""
      }
     },
     "d81eba1574ac4f4b9b476ea4c19544f6": {
      "model_module": "@jupyter-widgets/controls",
      "model_module_version": "1.5.0",
      "model_name": "HTMLModel",
      "state": {
       "layout": "IPY_MODEL_e883776a1cee44e4b37e8ed84647b515",
       "style": "IPY_MODEL_fb67969413f941d28ef610ddec4401fc",
       "value": "<font size=\"1\">Triumphs/Lore/The Light/Dust/</font size=>"
      }
     },
     "d835151d310c470d8f9e0273065e607b": {
      "model_module": "@jupyter-widgets/controls",
      "model_module_version": "1.5.0",
      "model_name": "ButtonModel",
      "state": {
       "description": "EDIT",
       "layout": "IPY_MODEL_48d8319f99dc4cc188a8c3061f4fa6cb",
       "style": "IPY_MODEL_b5fa9f8875164b3180151091ceea900b"
      }
     },
     "d87700596f024989957504852a5fcb82": {
      "model_module": "@jupyter-widgets/controls",
      "model_module_version": "1.5.0",
      "model_name": "ButtonStyleModel",
      "state": {}
     },
     "d8b3946fb92c4eb0b2ffad297dac0dc4": {
      "model_module": "@jupyter-widgets/controls",
      "model_module_version": "1.5.0",
      "model_name": "DescriptionStyleModel",
      "state": {
       "description_width": ""
      }
     },
     "d8c6f1fc01b7430798c07078545e3651": {
      "model_module": "@jupyter-widgets/controls",
      "model_module_version": "1.5.0",
      "model_name": "VBoxModel",
      "state": {
       "children": [
        "IPY_MODEL_f531c467fc4b4203a6108a7b02ef4e99",
        "IPY_MODEL_4bbcb6172e7847fda77a00148c6af420",
        "IPY_MODEL_53c1fcd690b144e88f8a7bd90ea79a16",
        "IPY_MODEL_dfbb9f2c6f274bad84e3e542ff3e9306",
        "IPY_MODEL_9143b516efa64c42abece2fd1fc91884",
        "IPY_MODEL_6bbe3977b6584c238d12786fbe44062a"
       ],
       "layout": "IPY_MODEL_3a61d2a729c94eb4b1ca2dbb0fab5833"
      }
     },
     "d8f7a239d97b407481dcbfe806cb8e96": {
      "model_module": "@jupyter-widgets/base",
      "model_module_version": "1.2.0",
      "model_name": "LayoutModel",
      "state": {
       "width": "60px"
      }
     },
     "d912240583144b82bb838e773292a99a": {
      "model_module": "@jupyter-widgets/base",
      "model_module_version": "1.2.0",
      "model_name": "LayoutModel",
      "state": {
       "display": "none"
      }
     },
     "d91260b1810044c2bf63c6285facb38f": {
      "model_module": "@jupyter-widgets/controls",
      "model_module_version": "1.5.0",
      "model_name": "DropdownModel",
      "state": {
       "_options_labels": [
        "Any",
        "Machine Gun",
        "Sword",
        "Grenade Launcher",
        "Rocket Launcher",
        "Linear Fusion Rifle"
       ],
       "index": 0,
       "layout": "IPY_MODEL_0a403d76610c43ec837b77eacc4f21d4",
       "style": "IPY_MODEL_7ee832d9da144822bf72a12e74bade8c"
      }
     },
     "d918d5100c7a4ffcaf192eff34c0bcd7": {
      "model_module": "@jupyter-widgets/base",
      "model_module_version": "1.2.0",
      "model_name": "LayoutModel",
      "state": {
       "display": "none"
      }
     },
     "d91945bf3c0844ff8614ed1e545d3df1": {
      "model_module": "@jupyter-widgets/base",
      "model_module_version": "1.2.0",
      "model_name": "LayoutModel",
      "state": {}
     },
     "d936ceeb385244b0af3b20dffd1af6a4": {
      "model_module": "@jupyter-widgets/base",
      "model_module_version": "1.2.0",
      "model_name": "LayoutModel",
      "state": {
       "order": "-1",
       "overflow": "visible",
       "padding": "1px",
       "width": "0px"
      }
     },
     "d97961c3339740ff90336859491754c0": {
      "model_module": "@jupyter-widgets/controls",
      "model_module_version": "1.5.0",
      "model_name": "DescriptionStyleModel",
      "state": {
       "description_width": ""
      }
     },
     "d9e01a3abff4490aa5e77bf50f4c495a": {
      "model_module": "@jupyter-widgets/base",
      "model_module_version": "1.2.0",
      "model_name": "LayoutModel",
      "state": {
       "border": "3px solid white",
       "display": "flex",
       "margin": "10px",
       "overflow": "visible",
       "padding": "10px",
       "width": "400px"
      }
     },
     "da2a780ab23443d69418f12d85756101": {
      "model_module": "@jupyter-widgets/base",
      "model_module_version": "1.2.0",
      "model_name": "LayoutModel",
      "state": {
       "height": "32px",
       "order": "-2",
       "width": "32px"
      }
     },
     "da702a174a6145be8f449b61dbe690b1": {
      "model_module": "@jupyter-widgets/controls",
      "model_module_version": "1.5.0",
      "model_name": "ButtonStyleModel",
      "state": {}
     },
     "da88e15bdf8046f0b2b6ccb96cad190b": {
      "model_module": "@jupyter-widgets/controls",
      "model_module_version": "1.5.0",
      "model_name": "ProgressStyleModel",
      "state": {
       "description_width": ""
      }
     },
     "da9d6dc024d943d88f056222d2ea5bf0": {
      "model_module": "@jupyter-widgets/base",
      "model_module_version": "1.2.0",
      "model_name": "LayoutModel",
      "state": {
       "width": "60px"
      }
     },
     "dae13073d79845a5ad2cdd4693685bd9": {
      "model_module": "@jupyter-widgets/base",
      "model_module_version": "1.2.0",
      "model_name": "LayoutModel",
      "state": {
       "height": "32px",
       "overflow": "visible",
       "padding": "0px",
       "width": "100%"
      }
     },
     "db605a0d3e264215af6edf0445f690a4": {
      "model_module": "@jupyter-widgets/controls",
      "model_module_version": "1.5.0",
      "model_name": "IntProgressModel",
      "state": {
       "layout": "IPY_MODEL_f92860ae49f1437da38f544278148d94",
       "style": "IPY_MODEL_a90bbe9eea4d4c9ab9f64427a5caf908",
       "value": 30
      }
     },
     "dc31adb32e8d4e6fada650e529303a63": {
      "model_module": "@jupyter-widgets/controls",
      "model_module_version": "1.5.0",
      "model_name": "ProgressStyleModel",
      "state": {
       "description_width": ""
      }
     },
     "dc6a4dc79ad2400b83835868409bf9df": {
      "model_module": "@jupyter-widgets/controls",
      "model_module_version": "1.5.0",
      "model_name": "IntProgressModel",
      "state": {
       "layout": "IPY_MODEL_5c9f3bffcf68419494f90e7e72c29e87",
       "style": "IPY_MODEL_1116a3cd42fb4f90b4b7b27fd63f58d2",
       "value": 30
      }
     },
     "dc70d556ee7a49eb95ce35007a52b5bd": {
      "model_module": "@jupyter-widgets/base",
      "model_module_version": "1.2.0",
      "model_name": "LayoutModel",
      "state": {
       "display": "none"
      }
     },
     "dc9e323fa8e745aaa495ed39120c793c": {
      "model_module": "@jupyter-widgets/controls",
      "model_module_version": "1.5.0",
      "model_name": "DescriptionStyleModel",
      "state": {
       "description_width": ""
      }
     },
     "dcb730c1b7624b97bc33651f1a9b5b86": {
      "model_module": "@jupyter-widgets/controls",
      "model_module_version": "1.5.0",
      "model_name": "ButtonModel",
      "state": {
       "button_style": "success",
       "disabled": true,
       "layout": "IPY_MODEL_5d79c30d8f6a4803b557546ce34d582d",
       "style": "IPY_MODEL_c65b9545a0bb4b10a453d745eee6f278"
      }
     },
     "dce4f66ffccf484bbd797ff83e54a491": {
      "model_module": "@jupyter-widgets/base",
      "model_module_version": "1.2.0",
      "model_name": "LayoutModel",
      "state": {
       "width": "60px"
      }
     },
     "dcf58427d591487b9778942e3377aab5": {
      "model_module": "@jupyter-widgets/controls",
      "model_module_version": "1.5.0",
      "model_name": "HTMLModel",
      "state": {
       "layout": "IPY_MODEL_128b788ddddc4b56b5776177d561d24a",
       "style": "IPY_MODEL_911e21bc764f41c79d50367eb6d7f75e",
       "value": "<font size=\"1\">Triumphs/Destinations/Major/Io/</font size=>"
      }
     },
     "dd04e620f2244dd78a44e6dd343d67a7": {
      "model_module": "@jupyter-widgets/controls",
      "model_module_version": "1.5.0",
      "model_name": "IntProgressModel",
      "state": {
       "bar_style": "success",
       "layout": "IPY_MODEL_a29f781ca5d3470cb2442f65a7efce84",
       "max": 1,
       "style": "IPY_MODEL_29beecad21e14c4cb241e100de8b0664",
       "value": 1
      }
     },
     "dd0f0a0eb4e7400ca8e76fe981bc8dec": {
      "model_module": "@jupyter-widgets/controls",
      "model_module_version": "1.5.0",
      "model_name": "IntProgressModel",
      "state": {
       "layout": "IPY_MODEL_89d3af9fd7c04c2ea42a522a97b605a7",
       "style": "IPY_MODEL_51f6a8d2d1844938a8595cadacb9b719",
       "value": 30
      }
     },
     "dd7f4222c27e40869ed5a02824306987": {
      "model_module": "@jupyter-widgets/controls",
      "model_module_version": "1.5.0",
      "model_name": "LabelModel",
      "state": {
       "layout": "IPY_MODEL_1ae5d6bb9f544794b5058e74d09f3ba2",
       "style": "IPY_MODEL_42ba66b669044768a7b3c840813b06e1",
       "value": "             objective 1"
      }
     },
     "ddb946a4f95b4bc7a3bcdabefb02673e": {
      "model_module": "@jupyter-widgets/controls",
      "model_module_version": "1.5.0",
      "model_name": "ButtonStyleModel",
      "state": {}
     },
     "ddd30988a1cf4aedade125584b6b02eb": {
      "model_module": "@jupyter-widgets/base",
      "model_module_version": "1.2.0",
      "model_name": "LayoutModel",
      "state": {
       "display": "flex"
      }
     },
     "dde1d64a94674edf925575676c385127": {
      "model_module": "@jupyter-widgets/controls",
      "model_module_version": "1.5.0",
      "model_name": "ButtonModel",
      "state": {
       "button_style": "success",
       "disabled": true,
       "layout": "IPY_MODEL_fcd22d340cb44fbe986fb38dd4635d16",
       "style": "IPY_MODEL_751eead3d32445e78332a2dae7de2334"
      }
     },
     "ddfdf25c909e4875950823cce44d9051": {
      "model_module": "@jupyter-widgets/controls",
      "model_module_version": "1.5.0",
      "model_name": "HTMLModel",
      "state": {
       "layout": "IPY_MODEL_17689b6e26e44d9bbdc5e99a8118a7f2",
       "style": "IPY_MODEL_3b3875c4479346e6ad7e5d701f314aea",
       "value": "<font size=\"5\"><b>Quick Strike</b></font size=>"
      }
     },
     "de0162c2fd274adfaf1b3ba430bf06b9": {
      "model_module": "@jupyter-widgets/controls",
      "model_module_version": "1.5.0",
      "model_name": "ButtonModel",
      "state": {
       "description": "EDIT",
       "layout": "IPY_MODEL_c2eaafc2f5f74d44ae7c5d04ba40d771",
       "style": "IPY_MODEL_cf676fc2106e483ebc96b350686f9b38"
      }
     },
     "de2e82044e1d40f09d0174f8a499c5be": {
      "model_module": "@jupyter-widgets/controls",
      "model_module_version": "1.5.0",
      "model_name": "VBoxModel",
      "state": {
       "children": [
        "IPY_MODEL_74a719aa1729478da2b8c6d68f39ee08",
        "IPY_MODEL_bd9273f1d8e5488db751f9416e128913",
        "IPY_MODEL_3c30d619e91e43ef8b1cd9a94ee17fe8",
        "IPY_MODEL_7c83f821dfd04884b70b55cd77f7b0c0",
        "IPY_MODEL_ebf9993c261943bea532f58f0a01e73a",
        "IPY_MODEL_3fb1f7acf4244f5cbc07ffa642bc7ce2"
       ],
       "layout": "IPY_MODEL_7059ac4b70fa40c5b919867698468b4d"
      }
     },
     "de44164ca73a4fadb5bf7350371f99a1": {
      "model_module": "@jupyter-widgets/controls",
      "model_module_version": "1.5.0",
      "model_name": "BoxModel",
      "state": {
       "children": [
        "IPY_MODEL_e7b41b71d3ac4c7997a8054ced63a965",
        "IPY_MODEL_83b216bf9c9f4a88b48eadbccb1b6c5a",
        "IPY_MODEL_3a388d2ec7314098b55d8cf4c9c0c1ac",
        "IPY_MODEL_d6d086abb06e41489abb4c6fdc8274f5",
        "IPY_MODEL_fcb57837e5e2437787ff82c39d23297b",
        "IPY_MODEL_0689d8bd0fd04fedae1e0d182839148d"
       ],
       "layout": "IPY_MODEL_a4bfc3150ccf4ed4a7c84929c4b95358"
      }
     },
     "de72a3fc84d14de8a24c679bfa2a2882": {
      "model_module": "@jupyter-widgets/base",
      "model_module_version": "1.2.0",
      "model_name": "LayoutModel",
      "state": {}
     },
     "de761fae7a1342f4a91f2ee111dedcaf": {
      "model_module": "@jupyter-widgets/base",
      "model_module_version": "1.2.0",
      "model_name": "LayoutModel",
      "state": {
       "order": "-1",
       "overflow": "visible",
       "padding": "1px",
       "width": "0px"
      }
     },
     "de79256935f14643911f0ecfcfec6acd": {
      "model_module": "@jupyter-widgets/controls",
      "model_module_version": "1.5.0",
      "model_name": "LabelModel",
      "state": {
       "layout": "IPY_MODEL_b0ad11da86824a53a8c0efe22de78936",
       "style": "IPY_MODEL_9c02f4729d7e48b1b60d859fe92e03f3",
       "value": "Weapon:"
      }
     },
     "de89899ab14d4d8db96645a57fe904a9": {
      "model_module": "@jupyter-widgets/controls",
      "model_module_version": "1.5.0",
      "model_name": "ButtonModel",
      "state": {
       "layout": "IPY_MODEL_d28c51ec24ec479a8db1bd4daeee9600",
       "style": "IPY_MODEL_33c41da1eda14ea2924f8a2c2d694a7f"
      }
     },
     "de92552184a144fc98d6d5544f871319": {
      "model_module": "@jupyter-widgets/controls",
      "model_module_version": "1.5.0",
      "model_name": "HBoxModel",
      "state": {
       "children": [
        "IPY_MODEL_1ee0f3de2b4147929f5faee7c0c1de41",
        "IPY_MODEL_97a65cb2285d48f98007bbefd7ded5b7",
        "IPY_MODEL_b60cee26e59a4899baabc3880cfa47b0",
        "IPY_MODEL_c73d21a6e3364f36ae426b1980bda8cb",
        "IPY_MODEL_ad810bf023e4476b8a866e1f4f5d2d28"
       ],
       "layout": "IPY_MODEL_82b7ef66c5e14470bfd5070e374f9636"
      }
     },
     "deb815b3febd4632a68d7142cca67db1": {
      "model_module": "@jupyter-widgets/controls",
      "model_module_version": "1.5.0",
      "model_name": "ButtonModel",
      "state": {
       "description": "EDIT",
       "layout": "IPY_MODEL_595a032e70114da6ae29e8b076f1312a",
       "style": "IPY_MODEL_7e20ecf0cb454350911ce2428b7f8e61"
      }
     },
     "dee80ada27014e9c8429ee0f41ec1026": {
      "model_module": "@jupyter-widgets/controls",
      "model_module_version": "1.5.0",
      "model_name": "ButtonModel",
      "state": {
       "layout": "IPY_MODEL_35f6c9c4599841f5aa420dbb401fcad6",
       "style": "IPY_MODEL_da702a174a6145be8f449b61dbe690b1"
      }
     },
     "deed0885713e4990af2f7a72f8f3bfca": {
      "model_module": "@jupyter-widgets/controls",
      "model_module_version": "1.5.0",
      "model_name": "LabelModel",
      "state": {
       "layout": "IPY_MODEL_6800966f80d14401a5d9e22f2c889fe3",
       "style": "IPY_MODEL_5789dea2dd864b109628f99ff851ec21",
       "value": "             objective 1"
      }
     },
     "df280c27b426492a95e1a749f9babe03": {
      "model_module": "@jupyter-widgets/base",
      "model_module_version": "1.2.0",
      "model_name": "LayoutModel",
      "state": {
       "width": "60px"
      }
     },
     "df4768cae46245c1a3c7fd42a34acca4": {
      "model_module": "@jupyter-widgets/controls",
      "model_module_version": "1.5.0",
      "model_name": "LabelModel",
      "state": {
       "layout": "IPY_MODEL_ba2d398ea8ae4123a65f224f3e78034a",
       "style": "IPY_MODEL_aae7fb59f8c5411b8988ac1853cb1f6f",
       "value": "             objective 2"
      }
     },
     "df55a6cea5214459b74797717c7f1f17": {
      "model_module": "@jupyter-widgets/base",
      "model_module_version": "1.2.0",
      "model_name": "LayoutModel",
      "state": {}
     },
     "df805c9403d74e63bb124f149ad08990": {
      "model_module": "@jupyter-widgets/controls",
      "model_module_version": "1.5.0",
      "model_name": "IntProgressModel",
      "state": {
       "layout": "IPY_MODEL_a82a1fc7a2e743c0a15fd29efd4506b9",
       "style": "IPY_MODEL_f2cf6f199f4042b88c6b359945a7051b",
       "value": 30
      }
     },
     "df83dfd221484feeb775379d3091e9c1": {
      "model_module": "@jupyter-widgets/base",
      "model_module_version": "1.2.0",
      "model_name": "LayoutModel",
      "state": {
       "display": "flex"
      }
     },
     "dfad7e8f08a246e5b09413b56ff4ba4f": {
      "model_module": "@jupyter-widgets/controls",
      "model_module_version": "1.5.0",
      "model_name": "HBoxModel",
      "state": {
       "children": [
        "IPY_MODEL_7a4232ad5ae34bb3806022d28ec5605a",
        "IPY_MODEL_772d71f3ce224c0fb9c61c1d1a45d89c",
        "IPY_MODEL_7d829bf331e34bd5ae0d956bf54ca9d6",
        "IPY_MODEL_d280041e0570418ba970fbd9757409c0"
       ],
       "layout": "IPY_MODEL_52be868b1b4c48ec953dc3108bf6e385"
      }
     },
     "dfbb9f2c6f274bad84e3e542ff3e9306": {
      "model_module": "@jupyter-widgets/controls",
      "model_module_version": "1.5.0",
      "model_name": "HBoxModel",
      "state": {
       "children": [
        "IPY_MODEL_6c6e8678474d494ea86ce88d77db85f3",
        "IPY_MODEL_eee872c329044e998d17b55ea48df128",
        "IPY_MODEL_0e7d0cb06363448ba9c8956772636cec",
        "IPY_MODEL_e3a4a0a478494363a9a1ddadc08e94ba"
       ],
       "layout": "IPY_MODEL_f73452044b8b4bfc965b1a4390ab259d"
      }
     },
     "e00847cf008c479692e8340dfea397ed": {
      "model_module": "@jupyter-widgets/base",
      "model_module_version": "1.2.0",
      "model_name": "LayoutModel",
      "state": {
       "display": "none"
      }
     },
     "e00c8399ab3643aa97e8d1a3fb55bfa8": {
      "model_module": "@jupyter-widgets/controls",
      "model_module_version": "1.5.0",
      "model_name": "ButtonModel",
      "state": {
       "description": "EDIT",
       "layout": "IPY_MODEL_df280c27b426492a95e1a749f9babe03",
       "style": "IPY_MODEL_51de8802da504e9a935ea363bdc9619b"
      }
     },
     "e08ea80d611440d9acc7d63c105846a2": {
      "model_module": "@jupyter-widgets/controls",
      "model_module_version": "1.5.0",
      "model_name": "ButtonStyleModel",
      "state": {}
     },
     "e0bf6e8218ed4389b1cdcbd417262572": {
      "model_module": "@jupyter-widgets/base",
      "model_module_version": "1.2.0",
      "model_name": "LayoutModel",
      "state": {
       "display": "flex"
      }
     },
     "e122296ba0f3496b8b5a8939374f99f2": {
      "model_module": "@jupyter-widgets/controls",
      "model_module_version": "1.5.0",
      "model_name": "ButtonStyleModel",
      "state": {}
     },
     "e169597f2eb2446ba44da7513ca88a67": {
      "model_module": "@jupyter-widgets/controls",
      "model_module_version": "1.5.0",
      "model_name": "ButtonStyleModel",
      "state": {}
     },
     "e23d6c051c494c76b4c8e13eeacf1cda": {
      "model_module": "@jupyter-widgets/controls",
      "model_module_version": "1.5.0",
      "model_name": "ButtonModel",
      "state": {
       "layout": "IPY_MODEL_ed9b769f6b544c9fb0ea71145371c2a9",
       "style": "IPY_MODEL_0afc2a49eded44bebb962685b84887b6"
      }
     },
     "e25d2c7e499f4e10a2786c9d20d29cc2": {
      "model_module": "@jupyter-widgets/base",
      "model_module_version": "1.2.0",
      "model_name": "LayoutModel",
      "state": {}
     },
     "e2771ba0bc55415abcba557da9bb2a41": {
      "model_module": "@jupyter-widgets/base",
      "model_module_version": "1.2.0",
      "model_name": "LayoutModel",
      "state": {}
     },
     "e2901c3a073a45d8af036b3587b645cb": {
      "model_module": "@jupyter-widgets/controls",
      "model_module_version": "1.5.0",
      "model_name": "VBoxModel",
      "state": {
       "children": [
        "IPY_MODEL_42d175816e414a8c9577228efccd8296",
        "IPY_MODEL_de92552184a144fc98d6d5544f871319",
        "IPY_MODEL_6531c7691a394366acb40460b242fcc5",
        "IPY_MODEL_40957b6e8b464dc8a2449e64330cbffd"
       ],
       "layout": "IPY_MODEL_4d4a8890333e4aaab5c108a6b1a9b845"
      }
     },
     "e29344b8a96a4e0cb7debe1f91b60225": {
      "model_module": "@jupyter-widgets/controls",
      "model_module_version": "1.5.0",
      "model_name": "ButtonStyleModel",
      "state": {}
     },
     "e2c4d1315be84bcf863471ece4af5f5e": {
      "model_module": "@jupyter-widgets/controls",
      "model_module_version": "1.5.0",
      "model_name": "HTMLModel",
      "state": {
       "layout": "IPY_MODEL_e883776a1cee44e4b37e8ed84647b515",
       "style": "IPY_MODEL_097e831ec4a449b5a6083c1526bd9910",
       "value": "<font size=\"5\"><b>The Witch</b></font size=>"
      }
     },
     "e2c74d248f3f4c40ad58c1a287e6babd": {
      "model_module": "@jupyter-widgets/controls",
      "model_module_version": "1.5.0",
      "model_name": "VBoxModel",
      "state": {
       "children": [
        "IPY_MODEL_c7a793a4729945059ccddb2fdc977b99",
        "IPY_MODEL_a831098f35f64fc4b36dbc4934a01828",
        "IPY_MODEL_cd4aed5ee05d46dc94f9f7c6df331996",
        "IPY_MODEL_005427b6cf674f8ca1c17bd801e70f71",
        "IPY_MODEL_ef3a90ceb86d4f0d8933225edf263f01",
        "IPY_MODEL_926be6b7e9f44911be0096dcbbd40dd7"
       ],
       "layout": "IPY_MODEL_e38510abaf4d4ed78210daeaefa9a7f0"
      }
     },
     "e2dce287453c4d4fa4091ed4c02f509b": {
      "model_module": "@jupyter-widgets/controls",
      "model_module_version": "1.5.0",
      "model_name": "DescriptionStyleModel",
      "state": {
       "description_width": ""
      }
     },
     "e2f944a774f2455da736ed35df19bcb2": {
      "model_module": "@jupyter-widgets/controls",
      "model_module_version": "1.5.0",
      "model_name": "ProgressStyleModel",
      "state": {
       "description_width": ""
      }
     },
     "e33bc29036c34587b6e8985229cbfa35": {
      "model_module": "@jupyter-widgets/controls",
      "model_module_version": "1.5.0",
      "model_name": "DescriptionStyleModel",
      "state": {
       "description_width": ""
      }
     },
     "e36be03fb4cd4e36bacc754b8fe0de46": {
      "model_module": "@jupyter-widgets/controls",
      "model_module_version": "1.5.0",
      "model_name": "ButtonStyleModel",
      "state": {}
     },
     "e38510abaf4d4ed78210daeaefa9a7f0": {
      "model_module": "@jupyter-widgets/base",
      "model_module_version": "1.2.0",
      "model_name": "LayoutModel",
      "state": {
       "overflow": "visible",
       "width": "100%"
      }
     },
     "e3a4a0a478494363a9a1ddadc08e94ba": {
      "model_module": "@jupyter-widgets/controls",
      "model_module_version": "1.5.0",
      "model_name": "ButtonModel",
      "state": {
       "description": "EDIT",
       "layout": "IPY_MODEL_946c36f5ba6b4b4e8f7de7d3ddfde679",
       "style": "IPY_MODEL_c3317690fda3490e81cac21c92a1783a"
      }
     },
     "e3f9ea7f231c420d93c4bd562955f314": {
      "model_module": "@jupyter-widgets/controls",
      "model_module_version": "1.5.0",
      "model_name": "HTMLModel",
      "state": {
       "layout": "IPY_MODEL_3f8ae38ec36949069a9f9d53203d791c",
       "style": "IPY_MODEL_c4b870a5600f4f98bfe281da4e8bf0c2",
       "value": "<font size=\"1\">Triumphs/Crucible/Mastery/Weapons/</font size=>"
      }
     },
     "e41f37eeee644f38bd097ff07abf9cdb": {
      "model_module": "@jupyter-widgets/controls",
      "model_module_version": "1.5.0",
      "model_name": "LabelModel",
      "state": {
       "layout": "IPY_MODEL_3859ea61f2b84da8a05ca005dc253770",
       "style": "IPY_MODEL_c8550379aa49460bb68e4fb7bf2ffb82",
       "value": "             objective 2"
      }
     },
     "e44c7c600dcc47018351a644afd13288": {
      "model_module": "@jupyter-widgets/controls",
      "model_module_version": "1.5.0",
      "model_name": "ButtonStyleModel",
      "state": {}
     },
     "e470d8448d9b41098f3c01ac742ded9c": {
      "model_module": "@jupyter-widgets/controls",
      "model_module_version": "1.5.0",
      "model_name": "DescriptionStyleModel",
      "state": {
       "description_width": ""
      }
     },
     "e47edf6d5e214142ae16e0c0ddeade73": {
      "model_module": "@jupyter-widgets/controls",
      "model_module_version": "1.5.0",
      "model_name": "HTMLModel",
      "state": {
       "layout": "IPY_MODEL_134e95c995c0479b95a2d08430622b65",
       "style": "IPY_MODEL_3763429601884d70a3c9921c69eb2cdf",
       "value": "<font size=\"1\">Triumphs/Lore/The Light/The Man They Call Cayde/</font size=>"
      }
     },
     "e483b58caa664444a7744cb9b58793cb": {
      "model_module": "@jupyter-widgets/controls",
      "model_module_version": "1.5.0",
      "model_name": "ButtonStyleModel",
      "state": {}
     },
     "e49f5df9e72746c0b52c61efa80a80f6": {
      "model_module": "@jupyter-widgets/base",
      "model_module_version": "1.2.0",
      "model_name": "LayoutModel",
      "state": {
       "display": "flex",
       "flex_flow": "row wrap"
      }
     },
     "e4d9af16fbdb4300b7c98faddef26657": {
      "model_module": "@jupyter-widgets/controls",
      "model_module_version": "1.5.0",
      "model_name": "DescriptionStyleModel",
      "state": {
       "description_width": ""
      }
     },
     "e4fb47c19e5240b5ba38787c001da9b7": {
      "model_module": "@jupyter-widgets/base",
      "model_module_version": "1.2.0",
      "model_name": "LayoutModel",
      "state": {
       "display": "flex",
       "flex_flow": "row wrap"
      }
     },
     "e4fc6bb36531482baef2806c59aa4e61": {
      "model_module": "@jupyter-widgets/controls",
      "model_module_version": "1.5.0",
      "model_name": "ButtonStyleModel",
      "state": {}
     },
     "e63481164ca54111b5d193cb500fa4b5": {
      "model_module": "@jupyter-widgets/controls",
      "model_module_version": "1.5.0",
      "model_name": "ButtonModel",
      "state": {
       "button_style": "success",
       "disabled": true,
       "layout": "IPY_MODEL_43d77ef9305a48a7b4be608443922232",
       "style": "IPY_MODEL_7ba24266b456488cb514c7a0e7ec7b09"
      }
     },
     "e64fe8bc887242c8ba5e3209d2d790d4": {
      "model_module": "@jupyter-widgets/controls",
      "model_module_version": "1.5.0",
      "model_name": "ButtonStyleModel",
      "state": {}
     },
     "e68c6f29bdc84055a4b2bd90051cc696": {
      "model_module": "@jupyter-widgets/controls",
      "model_module_version": "1.5.0",
      "model_name": "ButtonStyleModel",
      "state": {}
     },
     "e6ae7e8502c040f6822de5c432eb7bf3": {
      "model_module": "@jupyter-widgets/base",
      "model_module_version": "1.2.0",
      "model_name": "LayoutModel",
      "state": {
       "height": "32px",
       "order": "-2",
       "width": "32px"
      }
     },
     "e6c07ad05b4b4175b229ea2e9b3eaa79": {
      "model_module": "@jupyter-widgets/controls",
      "model_module_version": "1.5.0",
      "model_name": "IntProgressModel",
      "state": {
       "layout": "IPY_MODEL_7d75f75f80a04d3a8d499c3632c26161",
       "style": "IPY_MODEL_0eb3758bc1094604b5f6dce51e0aa672",
       "value": 30
      }
     },
     "e6ca4ed0b06541f8bf84e0c13688d6f7": {
      "model_module": "@jupyter-widgets/base",
      "model_module_version": "1.2.0",
      "model_name": "LayoutModel",
      "state": {
       "overflow": "visible",
       "width": "100%"
      }
     },
     "e6cba88967464946840820bea4b0e680": {
      "model_module": "@jupyter-widgets/controls",
      "model_module_version": "1.5.0",
      "model_name": "VBoxModel",
      "state": {
       "children": [
        "IPY_MODEL_b4c8142313e0427d8f5f791c8e219515",
        "IPY_MODEL_cd931dd204ed488fbdcce4e172eeaae9",
        "IPY_MODEL_b744600fe10a46e28a641e777f5435b5",
        "IPY_MODEL_305d9209e254456c84b15afb1239f8f8"
       ],
       "layout": "IPY_MODEL_f13abfdfcba14b12b594e92ae1c64f25"
      }
     },
     "e750121c24374a39a5697b0139841dc0": {
      "model_module": "@jupyter-widgets/controls",
      "model_module_version": "1.5.0",
      "model_name": "ButtonModel",
      "state": {
       "description": "EDIT",
       "layout": "IPY_MODEL_52ad2b43ce27479e8d97d6c9bc08ba77",
       "style": "IPY_MODEL_0603e5ae45be4177a2e746385dc7cd68"
      }
     },
     "e798a00d634a41e0bfe86f1dfdbd2f27": {
      "model_module": "@jupyter-widgets/controls",
      "model_module_version": "1.5.0",
      "model_name": "LabelModel",
      "state": {
       "layout": "IPY_MODEL_3859ea61f2b84da8a05ca005dc253770",
       "style": "IPY_MODEL_8fca0e4f0c6245a386ff703139208c6b",
       "value": "             objective 4"
      }
     },
     "e7b41b71d3ac4c7997a8054ced63a965": {
      "model_module": "@jupyter-widgets/controls",
      "model_module_version": "1.5.0",
      "model_name": "CheckboxModel",
      "state": {
       "description": "Hide Complete",
       "disabled": false,
       "layout": "IPY_MODEL_83c17681b1384e80b5953e72a2480ce9",
       "style": "IPY_MODEL_f8689944e61b4390808ba61680847da1",
       "value": false
      }
     },
     "e7c0b0c3cdce40ed8b88e1b0dacacc42": {
      "model_module": "@jupyter-widgets/controls",
      "model_module_version": "1.5.0",
      "model_name": "ProgressStyleModel",
      "state": {
       "description_width": ""
      }
     },
     "e8100f5ed41e4b4386094b2b904e2ef7": {
      "model_module": "@jupyter-widgets/controls",
      "model_module_version": "1.5.0",
      "model_name": "VBoxModel",
      "state": {
       "children": [
        "IPY_MODEL_dcf58427d591487b9778942e3377aab5",
        "IPY_MODEL_0c2e5100d91d41719363013f73ef66e9",
        "IPY_MODEL_22f53d9ebc7941509c9d3378ba8fae26",
        "IPY_MODEL_8d6d0b949e0a42f6972a6073ce65f218"
       ],
       "layout": "IPY_MODEL_9e8385b8554c4c9fa12fdfff810335d7"
      }
     },
     "e859f24136ef4839b0cfc334d89d6bef": {
      "model_module": "@jupyter-widgets/controls",
      "model_module_version": "1.5.0",
      "model_name": "ButtonModel",
      "state": {
       "description": "EDIT",
       "layout": "IPY_MODEL_b690ca04ccb7407aa2b9bc2380738d7e",
       "style": "IPY_MODEL_a3ca69ba36794e0cab5db56c5cb931ea"
      }
     },
     "e8608a5205ce4f0da2b0d71b33fe0a79": {
      "model_module": "@jupyter-widgets/base",
      "model_module_version": "1.2.0",
      "model_name": "LayoutModel",
      "state": {
       "display": "none"
      }
     },
     "e86e7695d61d49c8a1d9d2f5e1c8c564": {
      "model_module": "@jupyter-widgets/controls",
      "model_module_version": "1.5.0",
      "model_name": "ButtonModel",
      "state": {
       "button_style": "success",
       "disabled": true,
       "layout": "IPY_MODEL_6c7c02b2c21f468e9c338114465d1d91",
       "style": "IPY_MODEL_aa5729f81a6d47efa51a3880b37a5ca5"
      }
     },
     "e883776a1cee44e4b37e8ed84647b515": {
      "model_module": "@jupyter-widgets/base",
      "model_module_version": "1.2.0",
      "model_name": "LayoutModel",
      "state": {
       "overflow": "visible",
       "width": "100%"
      }
     },
     "e8919a89122f427e83298930b13372f1": {
      "model_module": "@jupyter-widgets/controls",
      "model_module_version": "1.5.0",
      "model_name": "ButtonModel",
      "state": {
       "description": "EDIT",
       "layout": "IPY_MODEL_4ae79e83995942eb929cbd2ea5037f28",
       "style": "IPY_MODEL_3c9e5676b3df42bbbe3bf0c39cc37db0"
      }
     },
     "e89f058e5e094d32b397018e415cfd70": {
      "model_module": "@jupyter-widgets/controls",
      "model_module_version": "1.5.0",
      "model_name": "ButtonStyleModel",
      "state": {}
     },
     "e8ae79cf6801453ea990e540a12f72d0": {
      "model_module": "@jupyter-widgets/controls",
      "model_module_version": "1.5.0",
      "model_name": "DescriptionStyleModel",
      "state": {
       "description_width": ""
      }
     },
     "e8d8ad73417f44a68216565c4ed7e967": {
      "model_module": "@jupyter-widgets/controls",
      "model_module_version": "1.5.0",
      "model_name": "HTMLModel",
      "state": {
       "layout": "IPY_MODEL_df55a6cea5214459b74797717c7f1f17",
       "style": "IPY_MODEL_9a13eebe275e42229914213f9421db67",
       "value": "<i></i>"
      }
     },
     "e97185609df94e2280a22bb4301fada4": {
      "model_module": "@jupyter-widgets/controls",
      "model_module_version": "1.5.0",
      "model_name": "HTMLModel",
      "state": {
       "layout": "IPY_MODEL_ce5facaeb3764cdab2aee7997041fe45",
       "style": "IPY_MODEL_48c0decd4fe24f2cb93beda306ec7266",
       "value": "<font size=\"5\"><b>Who Guards the Guardians?</b></font size=>"
      }
     },
     "e98a29615a3e4e5db851fffed3c9669e": {
      "model_module": "@jupyter-widgets/controls",
      "model_module_version": "1.5.0",
      "model_name": "DropdownModel",
      "state": {
       "_options_labels": [
        "Any"
       ],
       "disabled": true,
       "index": 0,
       "layout": "IPY_MODEL_0df0691be3ba462dbdf2e05dbe48d576",
       "style": "IPY_MODEL_2853c21e59f342f59ce0645e899dc598"
      }
     },
     "e9a3fc1d4e934d60b740ce18f4a342af": {
      "model_module": "@jupyter-widgets/base",
      "model_module_version": "1.2.0",
      "model_name": "LayoutModel",
      "state": {
       "display": "none"
      }
     },
     "e9ae4805c39944f6bacf497b4abc5db5": {
      "model_module": "@jupyter-widgets/base",
      "model_module_version": "1.2.0",
      "model_name": "LayoutModel",
      "state": {
       "display": "none"
      }
     },
     "e9b7dcf89a354d0885543c0d695faf5d": {
      "model_module": "@jupyter-widgets/base",
      "model_module_version": "1.2.0",
      "model_name": "LayoutModel",
      "state": {}
     },
     "ea103b9f744c4054ab9f69156d03eb7f": {
      "model_module": "@jupyter-widgets/controls",
      "model_module_version": "1.5.0",
      "model_name": "IntProgressModel",
      "state": {
       "layout": "IPY_MODEL_0fa33ef047654ac2b891a3ede0b415f5",
       "style": "IPY_MODEL_440f0e0729384ae486fba3bf98685cea",
       "value": 30
      }
     },
     "ea30866cc3db43179ddbe1ed5f1296bf": {
      "model_module": "@jupyter-widgets/controls",
      "model_module_version": "1.5.0",
      "model_name": "ButtonStyleModel",
      "state": {}
     },
     "ea35991d477146089569317976e974b6": {
      "model_module": "@jupyter-widgets/base",
      "model_module_version": "1.2.0",
      "model_name": "LayoutModel",
      "state": {
       "width": "60px"
      }
     },
     "ea5573d367104117ad421a3c7d935bd9": {
      "model_module": "@jupyter-widgets/controls",
      "model_module_version": "1.5.0",
      "model_name": "DescriptionStyleModel",
      "state": {
       "description_width": ""
      }
     },
     "ea770b3c08884ce89638129fd1ba8138": {
      "model_module": "@jupyter-widgets/controls",
      "model_module_version": "1.5.0",
      "model_name": "ProgressStyleModel",
      "state": {
       "description_width": ""
      }
     },
     "eaa7f86a5874459e9f594d46adc08151": {
      "model_module": "@jupyter-widgets/controls",
      "model_module_version": "1.5.0",
      "model_name": "DescriptionStyleModel",
      "state": {
       "description_width": ""
      }
     },
     "eaad053a4abc45b8a0a969977a1a965f": {
      "model_module": "@jupyter-widgets/controls",
      "model_module_version": "1.5.0",
      "model_name": "ButtonModel",
      "state": {
       "description": "EDIT",
       "layout": "IPY_MODEL_a4dfc7c4361547dc8391a21d43052337",
       "style": "IPY_MODEL_caa3e0995a4e433990f7c6d22b09a3fc"
      }
     },
     "eaf48562139843ec892a427e943e7d1b": {
      "model_module": "@jupyter-widgets/controls",
      "model_module_version": "1.5.0",
      "model_name": "DescriptionStyleModel",
      "state": {
       "description_width": ""
      }
     },
     "eb105ee04118440c84a64afcdcbacedf": {
      "model_module": "@jupyter-widgets/base",
      "model_module_version": "1.2.0",
      "model_name": "LayoutModel",
      "state": {
       "display": "none"
      }
     },
     "eb21687e156546bf8d9c2ffac530d895": {
      "model_module": "@jupyter-widgets/controls",
      "model_module_version": "1.5.0",
      "model_name": "DescriptionStyleModel",
      "state": {
       "description_width": ""
      }
     },
     "eb6648bdd4f04c24bd0b4393e3f9f723": {
      "model_module": "@jupyter-widgets/controls",
      "model_module_version": "1.5.0",
      "model_name": "ProgressStyleModel",
      "state": {
       "description_width": ""
      }
     },
     "eb7c20adb60241c4807509957d0b0026": {
      "model_module": "@jupyter-widgets/controls",
      "model_module_version": "1.5.0",
      "model_name": "ButtonModel",
      "state": {
       "layout": "IPY_MODEL_fbaa08c360764d01827b54400b084e59",
       "style": "IPY_MODEL_599b8bbfee424a43a9a9e4918f427594"
      }
     },
     "eb958bc81730488c82f30449a0950d56": {
      "model_module": "@jupyter-widgets/controls",
      "model_module_version": "1.5.0",
      "model_name": "ButtonModel",
      "state": {
       "description": "EDIT",
       "layout": "IPY_MODEL_6aa18a87e41f465dbc8e11a87fae9276",
       "style": "IPY_MODEL_4ab57957337b4eafae3d181c23a9d0de"
      }
     },
     "ebf9993c261943bea532f58f0a01e73a": {
      "model_module": "@jupyter-widgets/controls",
      "model_module_version": "1.5.0",
      "model_name": "HBoxModel",
      "state": {
       "children": [
        "IPY_MODEL_984f78a93fd543339f73eba3797a501b",
        "IPY_MODEL_653619302f084845baba6bf03e6cdb1d",
        "IPY_MODEL_1c9657319a4c4df7aaee18f928dbc51c",
        "IPY_MODEL_fb83b80904c64b91a7d87f3ba455ac28"
       ],
       "layout": "IPY_MODEL_5fc5fff2ebd3457c89b240d33bd241eb"
      }
     },
     "ec09a1b61c874e6c9b72e4373af9b297": {
      "model_module": "@jupyter-widgets/controls",
      "model_module_version": "1.5.0",
      "model_name": "ButtonStyleModel",
      "state": {}
     },
     "ec259c9b8bed40a5bbefc358f0ffdbdb": {
      "model_module": "@jupyter-widgets/base",
      "model_module_version": "1.2.0",
      "model_name": "LayoutModel",
      "state": {
       "border": "1px solid white",
       "padding": "10px",
       "width": "15%"
      }
     },
     "ec500adb910d4fa8b55211eebbf6b9e8": {
      "model_module": "@jupyter-widgets/controls",
      "model_module_version": "1.5.0",
      "model_name": "ProgressStyleModel",
      "state": {
       "description_width": ""
      }
     },
     "eccf1ec5c67748fa81971c0f8b0cccec": {
      "model_module": "@jupyter-widgets/controls",
      "model_module_version": "1.5.0",
      "model_name": "ButtonStyleModel",
      "state": {}
     },
     "ecee071efff7470f996b4722f1a7e5b9": {
      "model_module": "@jupyter-widgets/controls",
      "model_module_version": "1.5.0",
      "model_name": "IntProgressModel",
      "state": {
       "layout": "IPY_MODEL_9cd8ad29b7a349b5bae719462650b7df",
       "style": "IPY_MODEL_c453a9b6954e4abcac39aa031592b0f1",
       "value": 30
      }
     },
     "ecfafe0414914592bd9a60d2b82d266a": {
      "model_module": "@jupyter-widgets/controls",
      "model_module_version": "1.5.0",
      "model_name": "IntProgressModel",
      "state": {
       "bar_style": "success",
       "layout": "IPY_MODEL_53053e070ee14ee7ad80a5fd16c6a1c2",
       "max": 1,
       "style": "IPY_MODEL_33e3dc8fe9a5412c876fd09a98db942c",
       "value": 1
      }
     },
     "ed026c4813be41d3b7d24ccb242afc79": {
      "model_module": "@jupyter-widgets/controls",
      "model_module_version": "1.5.0",
      "model_name": "LabelModel",
      "state": {
       "layout": "IPY_MODEL_00c2378b32254d8e81260814290bcdae",
       "style": "IPY_MODEL_c64cb0fa6d374c6995a99d71ad2c565b",
       "value": "     (1/1)"
      }
     },
     "ed07eea5f8f444689b2376a1bbd55201": {
      "model_module": "@jupyter-widgets/controls",
      "model_module_version": "1.5.0",
      "model_name": "HBoxModel",
      "state": {
       "children": [
        "IPY_MODEL_9e83af9ac1e14697ae3732218ee351a7",
        "IPY_MODEL_ad902c3424b64bddbe653999f02b6b41",
        "IPY_MODEL_e798a00d634a41e0bfe86f1dfdbd2f27",
        "IPY_MODEL_849d140395aa4098896d05173f906bbc"
       ],
       "layout": "IPY_MODEL_e8608a5205ce4f0da2b0d71b33fe0a79"
      }
     },
     "ed384854bcf74f6e96568e5ad46e0032": {
      "model_module": "@jupyter-widgets/controls",
      "model_module_version": "1.5.0",
      "model_name": "ProgressStyleModel",
      "state": {
       "description_width": ""
      }
     },
     "ed8f9c14009b4464908077582591561c": {
      "model_module": "@jupyter-widgets/base",
      "model_module_version": "1.2.0",
      "model_name": "LayoutModel",
      "state": {
       "display": "none"
      }
     },
     "ed9b769f6b544c9fb0ea71145371c2a9": {
      "model_module": "@jupyter-widgets/base",
      "model_module_version": "1.2.0",
      "model_name": "LayoutModel",
      "state": {
       "height": "32px",
       "order": "-2",
       "width": "32px"
      }
     },
     "eddf72a32be14772a79a47f555a230a6": {
      "model_module": "@jupyter-widgets/controls",
      "model_module_version": "1.5.0",
      "model_name": "VBoxModel",
      "state": {
       "children": [
        "IPY_MODEL_a74bb5643a64484da658b07519cb77ff",
        "IPY_MODEL_ddfdf25c909e4875950823cce44d9051",
        "IPY_MODEL_b948255c926c448c8c33338e17c1e5c0",
        "IPY_MODEL_3c869882505741659868f4e18aa9a085"
       ],
       "layout": "IPY_MODEL_a9f601a74e0f4ab696221cf9af465955"
      }
     },
     "edffe3e244fc4fbf9f1b05b395c87497": {
      "model_module": "@jupyter-widgets/controls",
      "model_module_version": "1.5.0",
      "model_name": "ButtonModel",
      "state": {
       "layout": "IPY_MODEL_ed9b769f6b544c9fb0ea71145371c2a9",
       "style": "IPY_MODEL_b543f2ac198b4f5bb9dfdb64fa833f6d"
      }
     },
     "ee0859deda9a4de19069ee226cb87438": {
      "model_module": "@jupyter-widgets/controls",
      "model_module_version": "1.5.0",
      "model_name": "ButtonModel",
      "state": {
       "description": "Refresh",
       "layout": "IPY_MODEL_ae23a136510840a1bdcbc64b65b3f7d1",
       "style": "IPY_MODEL_2f4c4395c910467797d374a456737560"
      }
     },
     "ee48611db3d24a439cfc85bd84bd43ea": {
      "model_module": "@jupyter-widgets/controls",
      "model_module_version": "1.5.0",
      "model_name": "ButtonStyleModel",
      "state": {}
     },
     "ee5e6bbe0a344f4ebba39d53ac6aaf8d": {
      "model_module": "@jupyter-widgets/controls",
      "model_module_version": "1.5.0",
      "model_name": "ButtonModel",
      "state": {
       "description": "EDIT",
       "layout": "IPY_MODEL_3c6b69176d0c4f22abbde827642d1f73",
       "style": "IPY_MODEL_0a5b2bb4635940b5b23eb64fa8674bcf"
      }
     },
     "eea3f8a183c94cdab0bda28a51b868fc": {
      "model_module": "@jupyter-widgets/controls",
      "model_module_version": "1.5.0",
      "model_name": "ButtonModel",
      "state": {
       "description": "EDIT",
       "layout": "IPY_MODEL_ccbe08bf390f4399930abd0ed8fd0ac6",
       "style": "IPY_MODEL_10bc0ef4c94c476495013f91b88ab753"
      }
     },
     "eee872c329044e998d17b55ea48df128": {
      "model_module": "@jupyter-widgets/controls",
      "model_module_version": "1.5.0",
      "model_name": "IntProgressModel",
      "state": {
       "layout": "IPY_MODEL_89d3af9fd7c04c2ea42a522a97b605a7",
       "style": "IPY_MODEL_057a281428ce4d648ea5abd4aa547a37",
       "value": 30
      }
     },
     "eef8f6b8ad5b4319b24460ed8a5c1c19": {
      "model_module": "@jupyter-widgets/controls",
      "model_module_version": "1.5.0",
      "model_name": "ButtonStyleModel",
      "state": {}
     },
     "ef3a90ceb86d4f0d8933225edf263f01": {
      "model_module": "@jupyter-widgets/controls",
      "model_module_version": "1.5.0",
      "model_name": "HBoxModel",
      "state": {
       "children": [
        "IPY_MODEL_0709b3cc66f64b15aebe0770b0451da3",
        "IPY_MODEL_7d2ed6bc0a7d4832bc14412003734a6a",
        "IPY_MODEL_15f499639e4446d59a19c632bc75fd1b",
        "IPY_MODEL_957c2547fc2243298f13f79ed4099977"
       ],
       "layout": "IPY_MODEL_2e7b895a83ac47e9b119abd9e7cc5092"
      }
     },
     "f02dc80ce6c34fc186c136aeebbe2649": {
      "model_module": "@jupyter-widgets/base",
      "model_module_version": "1.2.0",
      "model_name": "LayoutModel",
      "state": {}
     },
     "f04b76118afc47c881951da2cb62f8e7": {
      "model_module": "@jupyter-widgets/controls",
      "model_module_version": "1.5.0",
      "model_name": "ButtonModel",
      "state": {
       "layout": "IPY_MODEL_fcd22d340cb44fbe986fb38dd4635d16",
       "style": "IPY_MODEL_33001258275944048211461e91384713"
      }
     },
     "f0ade05c696a4ade97806e72ed749ca0": {
      "model_module": "@jupyter-widgets/controls",
      "model_module_version": "1.5.0",
      "model_name": "ButtonModel",
      "state": {
       "description": "EDIT",
       "layout": "IPY_MODEL_d1d243ba84cb4a3e84fe7b7016a18c2a",
       "style": "IPY_MODEL_6c103d71d1e94407aad287099815f013"
      }
     },
     "f0e134d81a904458bbab31e1ff185dbd": {
      "model_module": "@jupyter-widgets/base",
      "model_module_version": "1.2.0",
      "model_name": "LayoutModel",
      "state": {}
     },
     "f0e49032a7d7486284b71215b52b4688": {
      "model_module": "@jupyter-widgets/controls",
      "model_module_version": "1.5.0",
      "model_name": "HBoxModel",
      "state": {
       "children": [
        "IPY_MODEL_11f5aec623d2413a90476b19622f43e8",
        "IPY_MODEL_996370cc5cd0498d961cbf587cfdef43",
        "IPY_MODEL_7f46f01c3b794363830e2339df641423",
        "IPY_MODEL_2674bfd1831649e0b1813deb0c34c86c"
       ],
       "layout": "IPY_MODEL_e9a3fc1d4e934d60b740ce18f4a342af"
      }
     },
     "f114481dbea848988455f41a7276b62a": {
      "model_module": "@jupyter-widgets/controls",
      "model_module_version": "1.5.0",
      "model_name": "ButtonStyleModel",
      "state": {}
     },
     "f12710fd90774b1ba96d7f72eb977303": {
      "model_module": "@jupyter-widgets/controls",
      "model_module_version": "1.5.0",
      "model_name": "DescriptionStyleModel",
      "state": {
       "description_width": ""
      }
     },
     "f13abfdfcba14b12b594e92ae1c64f25": {
      "model_module": "@jupyter-widgets/base",
      "model_module_version": "1.2.0",
      "model_name": "LayoutModel",
      "state": {
       "border": "3px solid white",
       "display": "flex",
       "margin": "10px",
       "overflow": "visible",
       "padding": "10px",
       "width": "400px"
      }
     },
     "f1a785ac8cbf4b3d8321cd8d29cd6186": {
      "model_module": "@jupyter-widgets/controls",
      "model_module_version": "1.5.0",
      "model_name": "ProgressStyleModel",
      "state": {
       "description_width": ""
      }
     },
     "f1afb66da24544cb9c455279b97305d1": {
      "model_module": "@jupyter-widgets/base",
      "model_module_version": "1.2.0",
      "model_name": "LayoutModel",
      "state": {
       "border": "3px solid white",
       "display": "flex",
       "margin": "10px",
       "overflow": "visible",
       "padding": "10px",
       "width": "400px"
      }
     },
     "f1fd4a74dcc54e6e910ab2903793621b": {
      "model_module": "@jupyter-widgets/base",
      "model_module_version": "1.2.0",
      "model_name": "LayoutModel",
      "state": {
       "display": "none"
      }
     },
     "f207dded5b1b4c46a73c295a44e15dab": {
      "model_module": "@jupyter-widgets/controls",
      "model_module_version": "1.5.0",
      "model_name": "IntProgressModel",
      "state": {
       "layout": "IPY_MODEL_a29f781ca5d3470cb2442f65a7efce84",
       "style": "IPY_MODEL_b1237d6e72474b77a59036e7cd6bb6b7",
       "value": 30
      }
     },
     "f23bbc5bf93f4b298bcc46e8905faed5": {
      "model_module": "@jupyter-widgets/base",
      "model_module_version": "1.2.0",
      "model_name": "LayoutModel",
      "state": {
       "display": "flex"
      }
     },
     "f241b095cc1242b6a94a1bb32379ba95": {
      "model_module": "@jupyter-widgets/controls",
      "model_module_version": "1.5.0",
      "model_name": "HBoxModel",
      "state": {
       "children": [
        "IPY_MODEL_de89899ab14d4d8db96645a57fe904a9",
        "IPY_MODEL_85981f75620e4f75aeb065d844463568",
        "IPY_MODEL_c810ed8db86a4720b97209d839fe75af",
        "IPY_MODEL_86b5009b4419431da0b4cf3184add6d8"
       ],
       "layout": "IPY_MODEL_30387089c6ff4a9cb72ce4205afd7f7e"
      }
     },
     "f277af3822b843ac91124373fa4a3460": {
      "model_module": "@jupyter-widgets/controls",
      "model_module_version": "1.5.0",
      "model_name": "ButtonModel",
      "state": {
       "layout": "IPY_MODEL_272caa2a293a4c32939417d15c3dbe8d",
       "style": "IPY_MODEL_c2c555524b6949c29072991bddd59018"
      }
     },
     "f2cf6f199f4042b88c6b359945a7051b": {
      "model_module": "@jupyter-widgets/controls",
      "model_module_version": "1.5.0",
      "model_name": "ProgressStyleModel",
      "state": {
       "description_width": ""
      }
     },
     "f2d0a9111adb4579a9436b572861ced5": {
      "model_module": "@jupyter-widgets/base",
      "model_module_version": "1.2.0",
      "model_name": "LayoutModel",
      "state": {
       "display": "none"
      }
     },
     "f3046e833bad46398bf1e209ac9fd7cf": {
      "model_module": "@jupyter-widgets/controls",
      "model_module_version": "1.5.0",
      "model_name": "ButtonModel",
      "state": {
       "layout": "IPY_MODEL_ed9b769f6b544c9fb0ea71145371c2a9",
       "style": "IPY_MODEL_e36be03fb4cd4e36bacc754b8fe0de46"
      }
     },
     "f3b18524c0ff465f9bad023683cccff7": {
      "model_module": "@jupyter-widgets/controls",
      "model_module_version": "1.5.0",
      "model_name": "ButtonModel",
      "state": {
       "layout": "IPY_MODEL_5d79c30d8f6a4803b557546ce34d582d",
       "style": "IPY_MODEL_1f38d4cbb48e42f699ac5b62c855b700"
      }
     },
     "f3c30e61ea5a436782ae7967351bb3fb": {
      "model_module": "@jupyter-widgets/controls",
      "model_module_version": "1.5.0",
      "model_name": "IntProgressModel",
      "state": {
       "layout": "IPY_MODEL_cc7fe6b8d67349859376b0d6c99a70d4",
       "style": "IPY_MODEL_be4e8f0b95814f338bdcf0adc2594a22",
       "value": 30
      }
     },
     "f3e3d946083e4019880adf15f4a76b0c": {
      "model_module": "@jupyter-widgets/controls",
      "model_module_version": "1.5.0",
      "model_name": "DescriptionStyleModel",
      "state": {
       "description_width": ""
      }
     },
     "f3eaeda0627b45c0af68e73d82a9d390": {
      "model_module": "@jupyter-widgets/controls",
      "model_module_version": "1.5.0",
      "model_name": "DescriptionStyleModel",
      "state": {
       "description_width": ""
      }
     },
     "f3fc581226b9403691ab4b8661ea0c3e": {
      "model_module": "@jupyter-widgets/controls",
      "model_module_version": "1.5.0",
      "model_name": "ButtonStyleModel",
      "state": {}
     },
     "f459e253da1b4f91ba6b9c366e46cdf4": {
      "model_module": "@jupyter-widgets/controls",
      "model_module_version": "1.5.0",
      "model_name": "IntProgressModel",
      "state": {
       "layout": "IPY_MODEL_0a8c9f5551e7430eb6e8d776e0f31279",
       "style": "IPY_MODEL_e7c0b0c3cdce40ed8b88e1b0dacacc42",
       "value": 30
      }
     },
     "f45c98f8ebda454394a3845de025fe0a": {
      "model_module": "@jupyter-widgets/base",
      "model_module_version": "1.2.0",
      "model_name": "LayoutModel",
      "state": {
       "display": "none"
      }
     },
     "f4b558e21521497987440f689e67103b": {
      "model_module": "@jupyter-widgets/controls",
      "model_module_version": "1.5.0",
      "model_name": "HTMLModel",
      "state": {
       "layout": "IPY_MODEL_d59e9bf3384e4674a0e1c462ba9ea4ba",
       "style": "IPY_MODEL_21193c2c1d2a4754909f6d7048bab2f3",
       "value": "<font size=\"1\">Triumphs/Lore/The Light/The Man They Call Cayde/</font size=>"
      }
     },
     "f4cf9933a4d14048bc9bcf72b6fdd8c5": {
      "model_module": "@jupyter-widgets/controls",
      "model_module_version": "1.5.0",
      "model_name": "HTMLModel",
      "state": {
       "layout": "IPY_MODEL_81ed3ef3e20e4a3dbfd49e0acdb1b8f0",
       "style": "IPY_MODEL_3d6677fdcd894e7ebfab7e1ad8d664ad",
       "value": "<font size=\"5\"><b>Become Legend</b></font size=>"
      }
     },
     "f531c467fc4b4203a6108a7b02ef4e99": {
      "model_module": "@jupyter-widgets/controls",
      "model_module_version": "1.5.0",
      "model_name": "HBoxModel",
      "state": {
       "children": [
        "IPY_MODEL_668dd458c56c473085fd52fab74a864c",
        "IPY_MODEL_c7269b2c843a4ea487a9bfd7ca06293a",
        "IPY_MODEL_ed026c4813be41d3b7d24ccb242afc79",
        "IPY_MODEL_80c9063f7e7547c9b10d5eb5b4821d49"
       ],
       "layout": "IPY_MODEL_fd0529b7891d48bdb6565d7f547783d0"
      }
     },
     "f53ed1fe70944311a275eee578f0d622": {
      "model_module": "@jupyter-widgets/controls",
      "model_module_version": "1.5.0",
      "model_name": "ButtonStyleModel",
      "state": {}
     },
     "f587dd8a02734e9f89be366bd47577e2": {
      "model_module": "@jupyter-widgets/controls",
      "model_module_version": "1.5.0",
      "model_name": "ProgressStyleModel",
      "state": {
       "description_width": ""
      }
     },
     "f5bbbbe884334416b5e30ca4f75588cb": {
      "model_module": "@jupyter-widgets/controls",
      "model_module_version": "1.5.0",
      "model_name": "ButtonModel",
      "state": {
       "layout": "IPY_MODEL_e6ae7e8502c040f6822de5c432eb7bf3",
       "style": "IPY_MODEL_ab78324139fb456bb9c6a0e8ea786e97"
      }
     },
     "f60ca1ae82ad40ffa40c8b3fab885869": {
      "model_module": "@jupyter-widgets/controls",
      "model_module_version": "1.5.0",
      "model_name": "ButtonStyleModel",
      "state": {}
     },
     "f6241a7f70ab44579c393c280089861a": {
      "model_module": "@jupyter-widgets/output",
      "model_module_version": "1.0.0",
      "model_name": "OutputModel",
      "state": {
       "layout": "IPY_MODEL_f0e134d81a904458bbab31e1ff185dbd",
       "outputs": [
        {
         "name": "stdout",
         "output_type": "stream",
         "text": " - name : Whether Windmills or Cranes\n - path : Triumphs/Lore/The Light/Ghost Stories\n - description : \n - expired : False\n - objectives\n   - 272434793\n     - name : \n     - description : \n     - completionValue : 1\n     - progress : 1\n     - complete : True\n - complete : True\n"
        }
       ]
      }
     },
     "f66a200081324ab194ea0399b655f365": {
      "model_module": "@jupyter-widgets/controls",
      "model_module_version": "1.5.0",
      "model_name": "LabelModel",
      "state": {
       "layout": "IPY_MODEL_00c2378b32254d8e81260814290bcdae",
       "style": "IPY_MODEL_45e9795f2b90485d88ca35d72adee70b",
       "value": "             objective 4"
      }
     },
     "f6b6616a916c42f4a441fe5293aa1c04": {
      "model_module": "@jupyter-widgets/base",
      "model_module_version": "1.2.0",
      "model_name": "LayoutModel",
      "state": {
       "width": "60px"
      }
     },
     "f73452044b8b4bfc965b1a4390ab259d": {
      "model_module": "@jupyter-widgets/base",
      "model_module_version": "1.2.0",
      "model_name": "LayoutModel",
      "state": {
       "display": "none"
      }
     },
     "f73b4e6277f746c9b4853bba2ea9fed7": {
      "model_module": "@jupyter-widgets/controls",
      "model_module_version": "1.5.0",
      "model_name": "ButtonModel",
      "state": {
       "layout": "IPY_MODEL_fcd22d340cb44fbe986fb38dd4635d16",
       "style": "IPY_MODEL_96c06f12d2bd422aad4bfd5c3582f61d"
      }
     },
     "f7b60d39213e490d8f3b64156c3ce538": {
      "model_module": "@jupyter-widgets/controls",
      "model_module_version": "1.5.0",
      "model_name": "HTMLModel",
      "state": {
       "layout": "IPY_MODEL_0f3386e87cea4b61b9b65be807b68110",
       "style": "IPY_MODEL_20a3047e0b48490181e86ee17b2a3d76",
       "value": "<font size=\"5\"><b>Whether Windmills or Cranes</b></font size=>"
      }
     },
     "f7bc6980ef03404e905928166f3b64b7": {
      "model_module": "@jupyter-widgets/controls",
      "model_module_version": "1.5.0",
      "model_name": "HBoxModel",
      "state": {
       "children": [
        "IPY_MODEL_e23d6c051c494c76b4c8e13eeacf1cda",
        "IPY_MODEL_c0a689bfa43544fa8c74544ff838dad6",
        "IPY_MODEL_9f0fd88faf874f88b49511680cedae8f",
        "IPY_MODEL_a849a5b39f184379a3db17458d0d409e"
       ],
       "layout": "IPY_MODEL_2a67af0a33cb4d0e99b94afc5aa8e569"
      }
     },
     "f818208916724fe0b951c69d6e5d4ca9": {
      "model_module": "@jupyter-widgets/controls",
      "model_module_version": "1.5.0",
      "model_name": "ButtonModel",
      "state": {
       "description": "EDIT",
       "layout": "IPY_MODEL_88f3ebc1c6054e49837aa7a61b657b04",
       "style": "IPY_MODEL_0d35ee995b544a15ae43c8cd148c69bc"
      }
     },
     "f8689944e61b4390808ba61680847da1": {
      "model_module": "@jupyter-widgets/controls",
      "model_module_version": "1.5.0",
      "model_name": "DescriptionStyleModel",
      "state": {
       "description_width": ""
      }
     },
     "f92860ae49f1437da38f544278148d94": {
      "model_module": "@jupyter-widgets/base",
      "model_module_version": "1.2.0",
      "model_name": "LayoutModel",
      "state": {
       "height": "32px",
       "overflow": "visible",
       "padding": "0px",
       "width": "100%"
      }
     },
     "f938e885122b43638fa8d6549f9cca85": {
      "model_module": "@jupyter-widgets/controls",
      "model_module_version": "1.5.0",
      "model_name": "ProgressStyleModel",
      "state": {
       "description_width": ""
      }
     },
     "f9ba857bcd0d48eea156e47dce7047b1": {
      "model_module": "@jupyter-widgets/controls",
      "model_module_version": "1.5.0",
      "model_name": "DescriptionStyleModel",
      "state": {
       "description_width": ""
      }
     },
     "f9fe1cb8a4b043f5bc1905af71094d4a": {
      "model_module": "@jupyter-widgets/controls",
      "model_module_version": "1.5.0",
      "model_name": "DescriptionStyleModel",
      "state": {
       "description_width": ""
      }
     },
     "fa2006c65ecc4b7192bdb7a12fd4d8ab": {
      "model_module": "@jupyter-widgets/controls",
      "model_module_version": "1.5.0",
      "model_name": "DescriptionStyleModel",
      "state": {
       "description_width": ""
      }
     },
     "fa425966673e4e9686e946902a495f04": {
      "model_module": "@jupyter-widgets/controls",
      "model_module_version": "1.5.0",
      "model_name": "DescriptionStyleModel",
      "state": {
       "description_width": ""
      }
     },
     "fa55a5947541494f811e08b867de1f32": {
      "model_module": "@jupyter-widgets/base",
      "model_module_version": "1.2.0",
      "model_name": "LayoutModel",
      "state": {
       "display": "none"
      }
     },
     "fa59fc4149474339bdd67a7942b7c9d7": {
      "model_module": "@jupyter-widgets/controls",
      "model_module_version": "1.5.0",
      "model_name": "ButtonModel",
      "state": {
       "button_style": "success",
       "disabled": true,
       "layout": "IPY_MODEL_da2a780ab23443d69418f12d85756101",
       "style": "IPY_MODEL_b05d3bb30f7f41e090a612d4f911fe18"
      }
     },
     "fa7a1845675348b894d01da328d6408a": {
      "model_module": "@jupyter-widgets/controls",
      "model_module_version": "1.5.0",
      "model_name": "DescriptionStyleModel",
      "state": {
       "description_width": ""
      }
     },
     "fa842af5c7264653a1b967aa756b1f70": {
      "model_module": "@jupyter-widgets/base",
      "model_module_version": "1.2.0",
      "model_name": "LayoutModel",
      "state": {
       "width": "60px"
      }
     },
     "fa967992cafa482c8f8bf120f705dee3": {
      "model_module": "@jupyter-widgets/controls",
      "model_module_version": "1.5.0",
      "model_name": "ButtonModel",
      "state": {
       "button_style": "success",
       "disabled": true,
       "layout": "IPY_MODEL_43d77ef9305a48a7b4be608443922232",
       "style": "IPY_MODEL_9917b1ac67a340ec8aa8c048fef82710"
      }
     },
     "faacce624d10426692ca2eb5211a64b7": {
      "model_module": "@jupyter-widgets/controls",
      "model_module_version": "1.5.0",
      "model_name": "ButtonModel",
      "state": {
       "layout": "IPY_MODEL_e6ae7e8502c040f6822de5c432eb7bf3",
       "style": "IPY_MODEL_fd7fe236782e40ed8468b62f33c648cc"
      }
     },
     "fb67969413f941d28ef610ddec4401fc": {
      "model_module": "@jupyter-widgets/controls",
      "model_module_version": "1.5.0",
      "model_name": "DescriptionStyleModel",
      "state": {
       "description_width": ""
      }
     },
     "fb83b80904c64b91a7d87f3ba455ac28": {
      "model_module": "@jupyter-widgets/controls",
      "model_module_version": "1.5.0",
      "model_name": "ButtonModel",
      "state": {
       "description": "EDIT",
       "layout": "IPY_MODEL_fe21bcd35b3345508fecc09422880875",
       "style": "IPY_MODEL_72a1025832914461b5a9e9ae58b35f48"
      }
     },
     "fbaa08c360764d01827b54400b084e59": {
      "model_module": "@jupyter-widgets/base",
      "model_module_version": "1.2.0",
      "model_name": "LayoutModel",
      "state": {
       "height": "32px",
       "order": "-2",
       "width": "32px"
      }
     },
     "fc33ddbf085448e7ae7b9735d3084f6b": {
      "model_module": "@jupyter-widgets/controls",
      "model_module_version": "1.5.0",
      "model_name": "HBoxModel",
      "state": {
       "children": [
        "IPY_MODEL_19821011671d441bbe3327836c8aac75",
        "IPY_MODEL_e6c07ad05b4b4175b229ea2e9b3eaa79",
        "IPY_MODEL_59d1ac49679c4bf68fa2b2c1bcc5a461",
        "IPY_MODEL_d835151d310c470d8f9e0273065e607b"
       ],
       "layout": "IPY_MODEL_022b2261dab944a69202b6f94380d6cc"
      }
     },
     "fc56c37ac1894ff786468332007a56bf": {
      "model_module": "@jupyter-widgets/controls",
      "model_module_version": "1.5.0",
      "model_name": "ButtonModel",
      "state": {
       "description": "EDIT",
       "layout": "IPY_MODEL_751299a823d844d4a0aed94b61ef8ae9",
       "style": "IPY_MODEL_e68c6f29bdc84055a4b2bd90051cc696"
      }
     },
     "fc6c550dc05e49c8ad0e62bda58535fd": {
      "model_module": "@jupyter-widgets/controls",
      "model_module_version": "1.5.0",
      "model_name": "LabelModel",
      "state": {
       "layout": "IPY_MODEL_615dc2b4160340c3afc53960ace08252",
       "style": "IPY_MODEL_6368289b9f114592a81f0e4edf2b14fb",
       "value": "     (0/1)"
      }
     },
     "fc70ff3f611649609e9a7a72e9126fad": {
      "model_module": "@jupyter-widgets/controls",
      "model_module_version": "1.5.0",
      "model_name": "ButtonModel",
      "state": {
       "description": "EDIT",
       "layout": "IPY_MODEL_2a1b972959624adab315c6899bc6dddc",
       "style": "IPY_MODEL_ddb946a4f95b4bc7a3bcdabefb02673e"
      }
     },
     "fc8f5b55b1de43ea87115459113f355e": {
      "model_module": "@jupyter-widgets/controls",
      "model_module_version": "1.5.0",
      "model_name": "DescriptionStyleModel",
      "state": {
       "description_width": ""
      }
     },
     "fca20a92b37b4d54ab1169f4b6f1b0b7": {
      "model_module": "@jupyter-widgets/controls",
      "model_module_version": "1.5.0",
      "model_name": "ProgressStyleModel",
      "state": {
       "description_width": ""
      }
     },
     "fcb57837e5e2437787ff82c39d23297b": {
      "model_module": "@jupyter-widgets/controls",
      "model_module_version": "1.5.0",
      "model_name": "CheckboxModel",
      "state": {
       "description": "Hide Milestones",
       "disabled": false,
       "layout": "IPY_MODEL_50a71cbb9e7b4a6f93c91cd6ad35472d",
       "style": "IPY_MODEL_6bdeb70e86a644608a8575c19d05ac43",
       "value": false
      }
     },
     "fcd10af1b1874713a269f9ecf0b20034": {
      "model_module": "@jupyter-widgets/controls",
      "model_module_version": "1.5.0",
      "model_name": "ProgressStyleModel",
      "state": {
       "description_width": ""
      }
     },
     "fcd22d340cb44fbe986fb38dd4635d16": {
      "model_module": "@jupyter-widgets/base",
      "model_module_version": "1.2.0",
      "model_name": "LayoutModel",
      "state": {
       "height": "32px",
       "order": "-2",
       "width": "32px"
      }
     },
     "fcd26b3661294ae8b234fde9fb8e2f62": {
      "model_module": "@jupyter-widgets/base",
      "model_module_version": "1.2.0",
      "model_name": "LayoutModel",
      "state": {
       "display": "none"
      }
     },
     "fd0529b7891d48bdb6565d7f547783d0": {
      "model_module": "@jupyter-widgets/base",
      "model_module_version": "1.2.0",
      "model_name": "LayoutModel",
      "state": {
       "display": "flex"
      }
     },
     "fd1a61741ab749d5a9826948a286e211": {
      "model_module": "@jupyter-widgets/base",
      "model_module_version": "1.2.0",
      "model_name": "LayoutModel",
      "state": {}
     },
     "fd7fe236782e40ed8468b62f33c648cc": {
      "model_module": "@jupyter-widgets/controls",
      "model_module_version": "1.5.0",
      "model_name": "ButtonStyleModel",
      "state": {}
     },
     "fd8c47baecf74486bfda7c94503fa8d7": {
      "model_module": "@jupyter-widgets/base",
      "model_module_version": "1.2.0",
      "model_name": "LayoutModel",
      "state": {
       "width": "60px"
      }
     },
     "fd979215f82f49498970dedee210455d": {
      "model_module": "@jupyter-widgets/controls",
      "model_module_version": "1.5.0",
      "model_name": "IntProgressModel",
      "state": {
       "layout": "IPY_MODEL_9884f60ab0a24356b9df5f2497fd2cac",
       "style": "IPY_MODEL_73190c0f43014787bc8c4d2d8e1fae4f",
       "value": 30
      }
     },
     "fd9ff119be91467e832daa9164e16191": {
      "model_module": "@jupyter-widgets/base",
      "model_module_version": "1.2.0",
      "model_name": "LayoutModel",
      "state": {
       "width": "60px"
      }
     },
     "fdec0a7810074567a42fa5e39115b405": {
      "model_module": "@jupyter-widgets/base",
      "model_module_version": "1.2.0",
      "model_name": "LayoutModel",
      "state": {
       "display": "none"
      }
     },
     "fdf4df81b8b24d5ba5540b165d8a283a": {
      "model_module": "@jupyter-widgets/base",
      "model_module_version": "1.2.0",
      "model_name": "LayoutModel",
      "state": {}
     },
     "fe205e7724774e9bb3002ad41257459f": {
      "model_module": "@jupyter-widgets/base",
      "model_module_version": "1.2.0",
      "model_name": "LayoutModel",
      "state": {}
     },
     "fe21bcd35b3345508fecc09422880875": {
      "model_module": "@jupyter-widgets/base",
      "model_module_version": "1.2.0",
      "model_name": "LayoutModel",
      "state": {
       "width": "60px"
      }
     },
     "fe600ce78bbe45509cc7193798fb99ec": {
      "model_module": "@jupyter-widgets/controls",
      "model_module_version": "1.5.0",
      "model_name": "HBoxModel",
      "state": {
       "children": [
        "IPY_MODEL_f3046e833bad46398bf1e209ac9fd7cf",
        "IPY_MODEL_f3c30e61ea5a436782ae7967351bb3fb",
        "IPY_MODEL_ad43072848124c51af325291978cda5a",
        "IPY_MODEL_8b846eb3ca3f434f807586c8842d4af6"
       ],
       "layout": "IPY_MODEL_99d0b31470ee461ea9395cfa1730eb40"
      }
     },
     "fe6b005e84034540905cbad19138c4de": {
      "model_module": "@jupyter-widgets/controls",
      "model_module_version": "1.5.0",
      "model_name": "ButtonStyleModel",
      "state": {}
     },
     "fec60af22688407e920dde0ac8878e62": {
      "model_module": "@jupyter-widgets/controls",
      "model_module_version": "1.5.0",
      "model_name": "ButtonModel",
      "state": {
       "description": "EDIT",
       "layout": "IPY_MODEL_8608e26926c44197838c05d7a92e64c7",
       "style": "IPY_MODEL_8cdbf3be5b3042b882213b13e18681f6"
      }
     },
     "fedd94e1443e459eb4d1b1a8b6b4e1b6": {
      "model_module": "@jupyter-widgets/base",
      "model_module_version": "1.2.0",
      "model_name": "LayoutModel",
      "state": {
       "display": "flex"
      }
     },
     "feec54d4b9c44eefb327e00460b4ff00": {
      "model_module": "@jupyter-widgets/controls",
      "model_module_version": "1.5.0",
      "model_name": "DescriptionStyleModel",
      "state": {
       "description_width": ""
      }
     },
     "ff0c074f54de4fb98930751a839d3987": {
      "model_module": "@jupyter-widgets/controls",
      "model_module_version": "1.5.0",
      "model_name": "DescriptionStyleModel",
      "state": {
       "description_width": ""
      }
     },
     "ff77f7364d9941cca6c57307d5694206": {
      "model_module": "@jupyter-widgets/controls",
      "model_module_version": "1.5.0",
      "model_name": "LabelModel",
      "state": {
       "layout": "IPY_MODEL_1ae5d6bb9f544794b5058e74d09f3ba2",
       "style": "IPY_MODEL_d8b3946fb92c4eb0b2ffad297dac0dc4",
       "value": "             objective 5"
      }
     },
     "ffada0c8da764ac7aea9472cacb9e750": {
      "model_module": "@jupyter-widgets/base",
      "model_module_version": "1.2.0",
      "model_name": "LayoutModel",
      "state": {
       "order": "-1",
       "overflow": "visible",
       "padding": "1px",
       "width": "0px"
      }
     },
     "ffdf470c886242ebaf23a39a99a9d658": {
      "model_module": "@jupyter-widgets/controls",
      "model_module_version": "1.5.0",
      "model_name": "IntProgressModel",
      "state": {
       "layout": "IPY_MODEL_89d3af9fd7c04c2ea42a522a97b605a7",
       "style": "IPY_MODEL_15d7110a75a341c58a7e992cbd79928a",
       "value": 30
      }
     }
    },
    "version_major": 2,
    "version_minor": 0
   }
  }
 },
 "nbformat": 4,
 "nbformat_minor": 4
}
