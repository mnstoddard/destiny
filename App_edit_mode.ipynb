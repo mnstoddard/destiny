{
 "cells": [
  {
   "cell_type": "code",
   "execution_count": 1,
   "metadata": {
    "collapsed": true,
    "jupyter": {
     "outputs_hidden": true
    }
   },
   "outputs": [
    {
     "data": {
      "application/vnd.jupyter.widget-view+json": {
       "model_id": "41375b43b71043fd86ea34265a92ef4f",
       "version_major": 2,
       "version_minor": 0
      },
      "text/plain": [
       "Output()"
      ]
     },
     "metadata": {},
     "output_type": "display_data"
    }
   ],
   "source": [
    "import pickle\n",
    "import requests\n",
    "import ipywidgets as ipw\n",
    "%run interface.ipynb\n",
    "\n",
    "for task_widget in task_widgets:\n",
    "    display(task_widget.task.objectives)"
   ]
  },
  {
   "cell_type": "code",
   "execution_count": null,
   "metadata": {},
   "outputs": [],
   "source": [
    "print(len(active_pursuits))\n",
    "task_filter.path_filter.children[0].options = ['All'] + list(path_map.keys())  "
   ]
  },
  {
   "cell_type": "code",
   "execution_count": null,
   "metadata": {},
   "outputs": [],
   "source": [
    "#TODO\n",
    "#add a edit requirements bar\n",
    "#filter out lore\n",
    "#refresh filter on any change? refresh button updates data?\n"
   ]
  },
  {
   "cell_type": "code",
   "execution_count": 5,
   "metadata": {},
   "outputs": [],
   "source": [
    "for task_widget in task_widgets:\n",
    "    for objective in task_widget.objectives.children:\n",
    "        objective.children[3].layout.display = 'flex'"
   ]
  },
  {
   "cell_type": "code",
   "execution_count": null,
   "metadata": {
    "jupyter": {
     "source_hidden": true
    }
   },
   "outputs": [],
   "source": [
    "string = 'Triumphs/Lore/The Light/Ghost Stories'\n",
    "\n",
    "path_map = {}\n",
    "\n",
    "\n",
    "def build_path_map ()\n",
    "global path_map\n",
    "\n",
    "    def add_path_level(current_path, remaining_branches):\n",
    "        if remaining_branches[0] not in current_path:\n",
    "            current_path[remaining_branches[0]] = {}\n",
    "        if len(remaining_branches) > 1:\n",
    "            add_path_level(current_path[remaining_branches[0]], remaining_branches[1:])\n",
    "\n",
    "    for task in all_tasks: \n",
    "        add_path_level(path_map, all_tasks[task]['path'].split('/'))\n",
    "\n"
   ]
  },
  {
   "cell_type": "code",
   "execution_count": null,
   "metadata": {},
   "outputs": [],
   "source": [
    "\n",
    "\n",
    "def dict_depth(my_dict): \n",
    "    if isinstance(my_dict, dict): \n",
    "        return 1 + (max(map(dict_depth, my_dict.values())) if my_dict else 0) \n",
    "    return 0\n",
    "\n",
    "depth = dict_depth(path_map)\n",
    "\n",
    "path_filters = []\n",
    "\n",
    "def update_path_filters(dd):\n",
    "    for i in range(1,len(path_filters)):\n",
    "        if path_filters[i-1].value == 'All':\n",
    "            path_filters[i].layout.display = 'none'\n",
    "            path_filters[i].value = 'All'\n",
    "            path_filters[i].options = ['All']\n",
    "        else:\n",
    "            path_filters[i].layout.display = 'flex'\n",
    "            if path_filters[i].value not in get_options(i):\n",
    "                path_filters[i].value = 'All'\n",
    "            path_filters[i].options = ['All'] + get_options(i)\n",
    "            if len(path_filters[i].options) == 1:\n",
    "                path_filters[i].layout.display = 'none'\n",
    "\n",
    "\n",
    "\n",
    "for i in range(depth):\n",
    "    path_filter = ipw.Dropdown(options = ['All'])\n",
    "    path_filters.append(path_filter)\n",
    "    path_filter.observe(update_path_filters)\n",
    "    path_filter.i = i\n",
    "    display(path_filter)\n",
    "\n",
    "path_filters[0].options = ['All'] + list(path_map.keys())  \n",
    "\n",
    "def get_options(i):\n",
    "    temp_dict = path_map\n",
    "    for j in range(i):\n",
    "        temp_dict = temp_dict[path_filters[j].value]\n",
    "    return list(temp_dict.keys())\n",
    "\n",
    "update_path_filters(path_filters[0])\n",
    "\n",
    "vbox_path_filter = ipw.VBox(children = path_filters)\n",
    "    \n",
    "display(vbox_path_filter)"
   ]
  },
  {
   "cell_type": "code",
   "execution_count": null,
   "metadata": {},
   "outputs": [],
   "source": [
    "filter_path = ''\n",
    "for i in range(len(path_filters)):\n",
    "    if path_filters[i].value != 'All':\n",
    "        if filter_path == '':\n",
    "            filter_path += path_filters[i].value\n",
    "        else: \n",
    "            filter_path += '/' + path_filters[i].value\n",
    "print(filter_path)"
   ]
  },
  {
   "cell_type": "code",
   "execution_count": null,
   "metadata": {},
   "outputs": [],
   "source": [
    "print('' not in filter_path)"
   ]
  },
  {
   "cell_type": "code",
   "execution_count": null,
   "metadata": {},
   "outputs": [],
   "source": [
    "possible_requirements = {\n",
    "    'Class': ['Any', 'Titan', 'Hunter', 'Warlock'],\n",
    "    'Subclass': {\n",
    "        'Titan': ['Any', 'Sentinel', 'Striker', 'Sunbreaker'],\n",
    "        'Hunter': ['Any', 'Nightstalker', 'Arcstrider', 'Gunslinger'],\n",
    "        'Warlock': ['Any', 'Voidwalker', 'Stormcaller', 'Dawnblade']\n",
    "    },\n",
    "    'Tree': {\n",
    "        'Titan': {\n",
    "            'Sentinel': ['Any', 'Code of the Commander', 'Code of the Protector', 'Code of the Aggressor'],\n",
    "            'Striker': ['Any', 'Code of the Earthshaker', 'Code of the Missile', 'Code of the Juggernaut'],\n",
    "            'Sunbreaker':['Any', 'Code of the Fire-Forged', 'Code of the Devastator', 'Code of the Siegebreaker']\n",
    "        },\n",
    "        'Hunter': {\n",
    "            'Nightstalker': ['Any', 'Way of the Trapper', 'Way of the Wraith', 'Way of the Pathfinder'],\n",
    "            'Arcstrider': ['Any', 'Way of the Warrior', 'Way of the Current', 'Way of the Wind'],\n",
    "            'Gunslinger': ['Any', 'Way of the Outlaw', 'Way of a Thousand Cuts', 'Way of the Outlaw']\n",
    "        },\n",
    "        'Warlock': {\n",
    "            'Voidwalker': ['Any', 'Attunement of Chaos', 'Attunement of Fission', 'Attunement of Hunger'],\n",
    "            'Stormcaller': ['Any', 'Attunement of Conduction', 'Attunement of Control', 'Attunement of the Elements'],\n",
    "            'Dawnblade': ['Any', 'Attunement of Sky', 'Attunement of Grace', 'Attunement of Flame']\n",
    "        }\n",
    "    },\n",
    "    'Grenade': {\n",
    "        'Titan': {\n",
    "            'Sentinel': ['Any', 'Magnetic Grenade', 'Voidwall Grenade', 'Suppressor Grenade'],\n",
    "            'Striker': ['Any', 'Flashbang Grenade', 'Pulse Grenade', 'Lightning Grenade'],\n",
    "            'Sunbreaker':['Any', 'Incendiary Grenade', 'Thermite Grenade', 'Fusion Grenade']\n",
    "        },\n",
    "        'Hunter': {\n",
    "            'Nightstalker':['Any' ,'Vortex Grenade', 'Spike Grenade', ' Voidwall Grenade'],\n",
    "            'Arcstrider': ['Any', 'Skip Grenade', 'Flux Grenade', 'Arcbolt Grenade'],\n",
    "            'Gunslinger': ['Any', 'Incendiary Grenade', 'Swarm Grenade', 'Tripmine Grenade']\n",
    "        },\n",
    "        'Warlock': {\n",
    "            'Voidwalker': ['Any', 'Vortex Grenade', 'Axion Bolt', 'Scatter Grenade'],\n",
    "            'Stormcaller': ['Any', 'Arcbolt Grenade', 'Pulse Grenade', 'Storm Grenade'],\n",
    "            'Dawnblade': ['Any', 'Solar Grenade', 'Firebolt Grenade', 'Fusion Grenade']\n",
    "        }\n",
    "    },\n",
    "    'Weapon Slot': ['Any', 'Kinetic', 'Energy', 'Power'],\n",
    "    'Weapon Type': ['Any', 'Hand Cannon', 'Auto Rifle', 'Scout Rifle', 'Pulse Rifle', 'Sidearm', 'Submachine Gun', 'Combt Bow','Sniper Rifle', 'Shotgun', 'Fusion Rifle', 'Grenade Launcher', 'Machine Gun', 'Sword', 'Grenade Launcher', 'Rocket Launcher', 'Linear Fusion Rifle'],\n",
    "    'Weapon Ammo': ['Any', 'Primary', 'Secondary', 'Heavy'],\n",
    "    'Weapon Ammo Type': {\n",
    "        'Primary': ['Any', 'Hand Cannon', 'Auto Rifle', 'Scout Rifle', 'Pulse Rifle', 'Sidearm', 'Submachine Gun', 'Combt Bow',],\n",
    "        'Secondary': ['Any', 'Sniper Rifle', 'Shotgun', 'Fusion Rifle', 'Grenade Launcher'],\n",
    "        'Heavy': ['Any', 'Machine Gun', 'Sword', 'Grenade Launcher', 'Rocket Launcher', 'Linear Fusion Rifle']\n",
    "    },\n",
    "    'Weapon Energy': ['Any', 'Kinetic', 'Solar', 'Void', 'Arc'],\n",
    "    'Activity Type': ['Any', 'Patrol', 'Gambit', 'Reckoning', 'Menagerie', 'Vex Offensive', 'Raid', 'Strike', 'Nightfall', 'Crucible', 'Forge'],\n",
    "    'Activity': {\n",
    "        'Patrol': ['Any', 'Earth', 'Io', 'Nessus', 'Titan','Mars', 'Dreaming City', 'Tangled Shore', 'The Moon'],\n",
    "        'Strike': ['Any', 'Lake of Shadows','Savathûn\\'s Song','The Arms Dealer','The Inverted Spire','The Pyramidion', 'A Garden World','Tree of Probabilities','Will of The Thousands','Strange Terrain','The Insight Termius','Warden of Nothing','Broodhold','The Hollowed Lair','The Corrupted'],\n",
    "        'Nightfall': ['Any', 'Lake of Shadows','Savathûn\\'s Song','The Arms Dealer','The Inverted Spire','The Pyramidion', 'A Garden World','Tree of Probabilities','Will of The Thousands','Strange Terrain','The Insight Termius','Warden of Nothing','Broodhold','The Hollowed Lair','The Corrupted'],\n",
    "        'Raid': ['Any', 'Liathan', 'Prestige Leviathan', 'Eater of Worlds', 'Spire of Stars', 'Last Wish', 'Scourage of The Past', 'Crown of Sorrow', 'Garden of Salvation'],\n",
    "        'Crucible': ['Any', 'Clash', 'Control', 'Showdown', 'Mayhem', 'Breakthrough', 'Lockdown', 'Rumble', 'Supremacy', 'Doubles', 'Scorched', 'Countdown', 'Survival', 'Iron Banner'],\n",
    "        'Gambit': ['Any', 'Gambit', 'Gambit Prime'],\n",
    "        'Reckoning': ['Any', 'Tier I', 'Tier II', 'Tier III'],\n",
    "        'Menagerie': ['Any', 'Normal', 'Heroic'],\n",
    "        'Vex Offensive': ['Any'],\n",
    "        'Forge': ['Any', 'Volundr Forge', 'Gofannon Forge', 'Izanami Forge', 'Bergusia Forge']\n",
    "    }\n",
    "}\n",
    "layout_req = widgets.Layout(width='20%')\n",
    "layout_label_req = widgets.Layout(width='10%')\n",
    "output_req = widgets.Output()\n",
    "\n",
    "hbox_triumph_req = widgets.HBox()\n",
    "label_triumph_req = widgets.Label(\"Triumph:\", layout=layout_label_req)\n",
    "dropdown_triumph_req = widgets.Dropdown(options=list(triumphs.keys()), layout=layout_req)\n",
    "dropdown_objective_req = widgets.Dropdown(layout=layout_req)\n",
    "box_spacer_req = widgets.Box(layout=layout_req)\n",
    "button_save_req = widgets.Button(description='Save', layout=layout_req)\n",
    "hbox_triumph_req.children = [label_triumph_req,dropdown_triumph_req,dropdown_objective_req, box_spacer_req, button_save_req]\n",
    "\n",
    "def change_triumph(change):\n",
    "    output_req.clear_output()\n",
    "    with output_req: print_map(triumphs[change['new']])\n",
    "    dropdown_objective_req.options = list(triumphs[change['new']]['objectives'].keys())\n",
    "    \n",
    "\n",
    "    \n",
    "dropdown_triumph_req.observe(change_triumph, names='value')\n",
    "\n",
    "\n",
    "\n",
    "#----------------------Class----------------------------\n",
    "\n",
    "\n",
    "hbox_class_req = widgets.HBox()\n",
    "label_class_req = widgets.Label(value='Class:',layout=layout_label_req)\n",
    "dropdown_class_req = widgets.Dropdown(options=possible_requirements['Class'],layout=layout_req)\n",
    "dropdown_subclass_req = widgets.Dropdown(disabled = True, options = ['Any'],layout=layout_req)\n",
    "dropdown_tree_req = widgets.Dropdown(disabled = True, options = ['Any'],layout=layout_req)\n",
    "dropdown_grenade_req = widgets.Dropdown(disabled = True, options = ['Any'],layout=layout_req)\n",
    "hbox_class_req.children = [\n",
    "    label_class_req,\n",
    "    dropdown_class_req,\n",
    "    dropdown_subclass_req,\n",
    "    dropdown_tree_req,\n",
    "    dropdown_grenade_req\n",
    "]\n",
    "\n",
    "def change_class(change):\n",
    "    if change['new'] == 'Any':\n",
    "        dropdown_subclass_req.options = ['Any']\n",
    "        dropdown_subclass_req.disabled = True\n",
    "    else:\n",
    "        dropdown_subclass_req.options = possible_requirements['Subclass'][change['new']]\n",
    "        dropdown_subclass_req.disabled = False\n",
    "        \n",
    "def change_subclass(change):\n",
    "    if change['new'] == 'Any':\n",
    "        dropdown_tree_req.options = ['Any']\n",
    "        dropdown_tree_req.disabled = True\n",
    "        dropdown_grenade_req.options = ['Any']\n",
    "        dropdown_grenade_req.disabled = True\n",
    "    else:\n",
    "        dropdown_tree_req.options = possible_requirements['Tree'][dropdown_class_req.value][change['new']]\n",
    "        dropdown_tree_req.disabled = False\n",
    "        dropdown_grenade_req.options = possible_requirements['Grenade'][dropdown_class_req.value][change['new']]\n",
    "        dropdown_grenade_req.disabled = False\n",
    "\n",
    "dropdown_class_req.observe(change_class, names = 'value')\n",
    "dropdown_subclass_req.observe(change_subclass, names = 'value')\n",
    "\n",
    "\n",
    "#---------------Weapon-----------------------\n",
    "\n",
    "\n",
    "hbox_weapon_req = widgets.HBox()\n",
    "label_weapon_req = widgets.Label(value='Weapon:',layout=layout_label_req)\n",
    "dropdown_weapon_slot_req = widgets.Dropdown(options = possible_requirements['Weapon Slot'],layout=layout_req)\n",
    "dropdown_weapon_ammo_req = widgets.Dropdown(options = possible_requirements['Weapon Ammo'],layout=layout_req)\n",
    "dropdown_weapon_type_req = widgets.Dropdown(options = possible_requirements['Weapon Type'],layout=layout_req)\n",
    "dropdown_weapon_energy_req = widgets.Dropdown(options = possible_requirements['Weapon Energy'],layout=layout_req)\n",
    "\n",
    "\n",
    "hbox_weapon_req.children = [\n",
    "    label_weapon_req,\n",
    "    dropdown_weapon_slot_req,\n",
    "    dropdown_weapon_energy_req,\n",
    "    dropdown_weapon_type_req,\n",
    "    dropdown_weapon_ammo_req\n",
    "]\n",
    "\n",
    "stop_refresh_weapon = False\n",
    "\n",
    "#TODO: need to add functionality to set weapon slot type\n",
    "\n",
    "def refresh_weapon(dropdown, old, new):\n",
    "    global stop_refresh_weapon\n",
    "    if not stop_refresh_weapon:\n",
    "        stop_refresh_weapon = True\n",
    "        if dropdown == 'type':\n",
    "            if new != 'Any':\n",
    "                for ammo in possible_requirements['Weapon Ammo Type']:\n",
    "                    if new in possible_requirements['Weapon Ammo Type'][ammo]:\n",
    "                        dropdown_weapon_ammo_req.value = ammo\n",
    "                        dropdown_weapon_type_req.options = possible_requirements['Weapon Ammo Type'][ammo]\n",
    "                        dropdown_weapon_type_req.value = new\n",
    "        elif dropdown == 'ammo':\n",
    "            dropdown_weapon_type_req.value = 'Any'\n",
    "            if new == 'Any':\n",
    "                dropdown_weapon_type_req.options = possible_requirements['Weapon Type']\n",
    "            else:\n",
    "                 dropdown_weapon_type_req.options = possible_requirements['Weapon Ammo Type'][new]\n",
    "        stop_refresh_weapon = False \n",
    "            \n",
    "\n",
    "def change_weapon_type(change):\n",
    "    refresh_weapon('type',change['old'],change['new'])\n",
    "\n",
    "def change_weapon_ammo(change):\n",
    "    refresh_weapon('ammo',change['old'],change['new'])\n",
    "\n",
    "    \n",
    "dropdown_weapon_type_req.observe(change_weapon_type, names = 'value')\n",
    "dropdown_weapon_ammo_req.observe(change_weapon_ammo, names = 'value')\n",
    "\n",
    "\n",
    "#-----------------------------Activity------------------------------\n",
    "\n",
    "\n",
    "hbox_activity_req = widgets.HBox()\n",
    "label_activity_req = widgets.Label(value='Activity:',layout=layout_label_req)\n",
    "dropdown_activity_type_req = widgets.Dropdown(options = possible_requirements['Activity Type'],layout=layout_req)\n",
    "dropdown_activity_req = widgets.Dropdown(disabled = True, options = ['Any'],layout=layout_req)\n",
    "\n",
    "hbox_activity_req.children = [\n",
    "    label_activity_req,\n",
    "    dropdown_activity_type_req,\n",
    "    dropdown_activity_req\n",
    "]\n",
    "\n",
    "def change_activity_type(change):\n",
    "    if change['new'] == 'Any':\n",
    "        dropdown_activity_req.options = ['Any']\n",
    "        dropdown_activity_req.disabled = True\n",
    "    else:\n",
    "        dropdown_activity_req.options = possible_requirements['Activity'][change['new']]\n",
    "        dropdown_activity_req.disabled = False\n",
    "\n",
    "dropdown_activity_type_req.observe(change_activity_type, names = 'value')\n",
    "        \n",
    "vbox_req = widgets.VBox(children=[hbox_triumph_req,hbox_class_req,hbox_weapon_req,hbox_activity_req])\n",
    "\n",
    "\n",
    "\n",
    "def load_objective(objective):\n",
    "    if objective in requirements:\n",
    "        dropdown_class_req.value = requirements[objective]['Class']\n",
    "        dropdown_subclass_req.value = requirements[objective]['Subclass']\n",
    "        dropdown_tree_req.value = requirements[objective]['Tree']\n",
    "        dropdown_grenade_req.value = requirements[objective]['Grenade']\n",
    "        dropdown_weapon_slot_req.value = requirements[objective]['Weapon Slot']\n",
    "        dropdown_weapon_ammo_req.value = requirements[objective]['Weapon Ammo']\n",
    "        dropdown_weapon_type_req.value = requirements[objective]['Weapon Type']\n",
    "        dropdown_weapon_energy_req.value = requirements[objective]['Weapon Energy']\n",
    "        dropdown_activity_type_req.value = requirements[objective]['Activity Type']\n",
    "        dropdown_activity_req.value = requirements[objective]['Activity']\n",
    "    else:\n",
    "        dropdown_class_req.value = 'Any'\n",
    "        dropdown_subclass_req.value = 'Any'\n",
    "        dropdown_tree_req.value = 'Any'\n",
    "        dropdown_grenade_req.value = 'Any'\n",
    "        dropdown_weapon_slot_req.value = 'Any'\n",
    "        dropdown_weapon_ammo_req.value = 'Any'\n",
    "        dropdown_weapon_type_req.value = 'Any'\n",
    "        dropdown_weapon_energy_req.value = 'Any'\n",
    "        dropdown_activity_type_req.value = 'Any'\n",
    "        dropdown_activity_req.value = 'Any'\n",
    "    \n",
    "def save_objective(b):\n",
    "    objective = dropdown_objective_req.value\n",
    "    if objective not in requirements:\n",
    "        requirements[objective] = {}\n",
    "    requirements[objective]['Class'] = dropdown_class_req.value\n",
    "    requirements[objective]['Subclass'] = dropdown_subclass_req.value\n",
    "    requirements[objective]['Tree'] = dropdown_tree_req.value\n",
    "    requirements[objective]['Grenade'] = dropdown_grenade_req.value\n",
    "    requirements[objective]['Weapon Slot'] = dropdown_weapon_slot_req.value\n",
    "    requirements[objective]['Weapon Ammo'] = dropdown_weapon_ammo_req.value\n",
    "    requirements[objective]['Weapon Type'] = dropdown_weapon_type_req.value\n",
    "    requirements[objective]['Weapon Energy'] = dropdown_weapon_energy_req.value\n",
    "    requirements[objective]['Activity Type'] = dropdown_activity_type_req.value\n",
    "    requirements[objective]['Activity'] = dropdown_activity_req.value\n",
    "    with open('requirements.data', 'wb') as filehandle:\n",
    "        pickle.dump(requirements, filehandle) \n",
    "    \n",
    "\n",
    "def change_objective(change):\n",
    "    load_objective(change['new'])\n",
    "    \n",
    "dropdown_objective_req.observe(change_objective, names='value')\n",
    "button_save_req.on_click(save_objective)\n",
    "\n",
    "dropdown_triumph_req.value = list(triumphs.keys())[-1]\n",
    "dropdown_triumph_req.value = list(triumphs.keys())[0]\n"
   ]
  }
 ],
 "metadata": {
  "kernelspec": {
   "display_name": "Python 3",
   "language": "python",
   "name": "python3"
  },
  "language_info": {
   "codemirror_mode": {
    "name": "ipython",
    "version": 3
   },
   "file_extension": ".py",
   "mimetype": "text/x-python",
   "name": "python",
   "nbconvert_exporter": "python",
   "pygments_lexer": "ipython3",
   "version": "3.7.4"
  },
  "widgets": {
   "application/vnd.jupyter.widget-state+json": {
    "state": {
     "001636c5ed4f43cfa0d13559ea74ec32": {
      "model_module": "@jupyter-widgets/base",
      "model_module_version": "1.2.0",
      "model_name": "LayoutModel",
      "state": {
       "display": "flex",
       "width": "60px"
      }
     },
     "00385af1560648578b99dc20180f41ab": {
      "model_module": "@jupyter-widgets/base",
      "model_module_version": "1.2.0",
      "model_name": "LayoutModel",
      "state": {
       "order": "-1",
       "overflow": "visible",
       "padding": "1px",
       "width": "0px"
      }
     },
     "0084ef7f006a4819b12e5afefcfe94df": {
      "model_module": "@jupyter-widgets/base",
      "model_module_version": "1.2.0",
      "model_name": "LayoutModel",
      "state": {
       "display": "flex",
       "width": "60px"
      }
     },
     "008f9ea561bb45e288628f7d382cab96": {
      "model_module": "@jupyter-widgets/base",
      "model_module_version": "1.2.0",
      "model_name": "LayoutModel",
      "state": {}
     },
     "00f43434144e4b7aa3ddbbc7a1c7ffe3": {
      "model_module": "@jupyter-widgets/controls",
      "model_module_version": "1.5.0",
      "model_name": "ProgressStyleModel",
      "state": {
       "description_width": ""
      }
     },
     "00fd1e75718f47c9aeeb16bff1b289dd": {
      "model_module": "@jupyter-widgets/controls",
      "model_module_version": "1.5.0",
      "model_name": "DescriptionStyleModel",
      "state": {
       "description_width": ""
      }
     },
     "0114f79d2201406983a8e76b22d90d1d": {
      "model_module": "@jupyter-widgets/controls",
      "model_module_version": "1.5.0",
      "model_name": "ButtonStyleModel",
      "state": {}
     },
     "013ffe82b5c44401bdfcbdd444cf0f01": {
      "model_module": "@jupyter-widgets/controls",
      "model_module_version": "1.5.0",
      "model_name": "IntProgressModel",
      "state": {
       "layout": "IPY_MODEL_5a3632e6333148938269274135a8fe48",
       "style": "IPY_MODEL_63b10c0538fe4a2eafd4092e23abcfff",
       "value": 30
      }
     },
     "015a4be792d2437284a4073288d1fa58": {
      "model_module": "@jupyter-widgets/controls",
      "model_module_version": "1.5.0",
      "model_name": "ButtonStyleModel",
      "state": {}
     },
     "01674bee75734e3792b0622bb0b51888": {
      "model_module": "@jupyter-widgets/base",
      "model_module_version": "1.2.0",
      "model_name": "LayoutModel",
      "state": {
       "border": "3px solid white",
       "display": "flex",
       "flex": "1 1 0%",
       "margin": "10px",
       "min_width": "400px",
       "overflow": "visible",
       "padding": "10px",
       "width": "auto"
      }
     },
     "0188de5a4438467cb20875ca582c96ce": {
      "model_module": "@jupyter-widgets/controls",
      "model_module_version": "1.5.0",
      "model_name": "ProgressStyleModel",
      "state": {
       "description_width": ""
      }
     },
     "02a3f78fbc534d44ad6b319706941e84": {
      "model_module": "@jupyter-widgets/controls",
      "model_module_version": "1.5.0",
      "model_name": "ButtonStyleModel",
      "state": {}
     },
     "02ae74b97f3d4aa4bad7ff82aaa9a643": {
      "model_module": "@jupyter-widgets/controls",
      "model_module_version": "1.5.0",
      "model_name": "LabelModel",
      "state": {
       "layout": "IPY_MODEL_2aa1c0f6ee184bd99b8a7f3cf14085ac",
       "style": "IPY_MODEL_276ac8cb08ce4dffbaaa21327671d863",
       "value": "   objective"
      }
     },
     "02c8222fcb9742828868325bb7d4c3fd": {
      "model_module": "@jupyter-widgets/controls",
      "model_module_version": "1.5.0",
      "model_name": "HBoxModel",
      "state": {
       "children": [
        "IPY_MODEL_55c67176a88b447b8ebf1e358f4c4fc7",
        "IPY_MODEL_eea4f0fc00d94b9494f88793a80579c3",
        "IPY_MODEL_ca09cfeb23ce499cb5d076025cc40155",
        "IPY_MODEL_bf67eed948d049e2956be1ee94f34f06"
       ],
       "layout": "IPY_MODEL_4d0708c9b4434fe0bd0ff7e634cfd05f"
      }
     },
     "033f0e6afa4142a2808e38d5e8482968": {
      "model_module": "@jupyter-widgets/controls",
      "model_module_version": "1.5.0",
      "model_name": "ProgressStyleModel",
      "state": {
       "description_width": ""
      }
     },
     "03a88df2d40a4b6bb711d477ed34f06a": {
      "model_module": "@jupyter-widgets/controls",
      "model_module_version": "1.5.0",
      "model_name": "CheckboxModel",
      "state": {
       "description": "Hide Conflicting Objectives",
       "disabled": false,
       "layout": "IPY_MODEL_4583286084d24ba9996e5f94bab4fe34",
       "style": "IPY_MODEL_58c111031f184ac6b3070ca0023ffdaf",
       "value": false
      }
     },
     "03b032f8ea234ee1873fadfda4ba6d70": {
      "model_module": "@jupyter-widgets/controls",
      "model_module_version": "1.5.0",
      "model_name": "DescriptionStyleModel",
      "state": {
       "description_width": ""
      }
     },
     "03bb5e57099c4d73ac4a66b7da2ba399": {
      "model_module": "@jupyter-widgets/controls",
      "model_module_version": "1.5.0",
      "model_name": "ButtonModel",
      "state": {
       "description": "EDIT",
       "layout": "IPY_MODEL_26af4eeff3174014aa9c3c3a4b680131",
       "style": "IPY_MODEL_1da7d96dea374fb5822d466f90231106"
      }
     },
     "03c49e8b24f54cbfb3a11d84e6f28759": {
      "model_module": "@jupyter-widgets/controls",
      "model_module_version": "1.5.0",
      "model_name": "ButtonStyleModel",
      "state": {}
     },
     "03ffc748e3da456c9d96a0c5e16939c0": {
      "model_module": "@jupyter-widgets/controls",
      "model_module_version": "1.5.0",
      "model_name": "HTMLModel",
      "state": {
       "layout": "IPY_MODEL_39a75a50f2dc46ad87e40623eca7494a",
       "style": "IPY_MODEL_52855ea71f974f80bdf1a18d7c1e10c0",
       "value": "<font size=\"1\">Triumphs/Lore/The Light/Dust/The Witch</font size=>"
      }
     },
     "042a74bdde76462ba7d928f2e0725e0c": {
      "model_module": "@jupyter-widgets/controls",
      "model_module_version": "1.5.0",
      "model_name": "HBoxModel",
      "state": {
       "children": [
        "IPY_MODEL_e31742096710427a830c3b6c7857a289",
        "IPY_MODEL_e95375ecfca8444fb27ee0e7d089f043",
        "IPY_MODEL_ba918ad202c3467c8f70213ae7f7ca6c",
        "IPY_MODEL_5d16e4a129024e77b6f62ef5241e9279"
       ],
       "layout": "IPY_MODEL_d82fbeca2f3a47d79f67dfbfde2ca0cc"
      }
     },
     "043ca5b92ce34a35a1dbda0ca62eafb0": {
      "model_module": "@jupyter-widgets/base",
      "model_module_version": "1.2.0",
      "model_name": "LayoutModel",
      "state": {
       "order": "-1",
       "overflow": "visible",
       "padding": "1px",
       "width": "0px"
      }
     },
     "044616209e134e869850e1ea89959c92": {
      "model_module": "@jupyter-widgets/base",
      "model_module_version": "1.2.0",
      "model_name": "LayoutModel",
      "state": {
       "display": "flex"
      }
     },
     "04811cab97914fd0914cd06b74bf06e6": {
      "model_module": "@jupyter-widgets/controls",
      "model_module_version": "1.5.0",
      "model_name": "ButtonStyleModel",
      "state": {}
     },
     "048d3b9de6da4f6bb172290fa5c10819": {
      "model_module": "@jupyter-widgets/controls",
      "model_module_version": "1.5.0",
      "model_name": "ButtonStyleModel",
      "state": {}
     },
     "04b3884c34134d7fafa7f4e269b03544": {
      "model_module": "@jupyter-widgets/controls",
      "model_module_version": "1.5.0",
      "model_name": "DescriptionStyleModel",
      "state": {
       "description_width": ""
      }
     },
     "04d4527d01c5451fab245319072e23e6": {
      "model_module": "@jupyter-widgets/base",
      "model_module_version": "1.2.0",
      "model_name": "LayoutModel",
      "state": {
       "order": "-1",
       "overflow": "visible",
       "padding": "1px",
       "width": "0px"
      }
     },
     "050d80dec51a457b9c3d19f1df0661f6": {
      "model_module": "@jupyter-widgets/controls",
      "model_module_version": "1.5.0",
      "model_name": "ButtonModel",
      "state": {
       "layout": "IPY_MODEL_ab98095052b343468f62bf06fcc22275",
       "style": "IPY_MODEL_ab550bc4734b41189c175deadec679f6"
      }
     },
     "0562791756c048cab28589115fd40fae": {
      "model_module": "@jupyter-widgets/base",
      "model_module_version": "1.2.0",
      "model_name": "LayoutModel",
      "state": {
       "display": "none"
      }
     },
     "0577b7c9d09f486794c417075c831e56": {
      "model_module": "@jupyter-widgets/controls",
      "model_module_version": "1.5.0",
      "model_name": "ButtonStyleModel",
      "state": {}
     },
     "05994464957a4a04800a7ae6594da47e": {
      "model_module": "@jupyter-widgets/base",
      "model_module_version": "1.2.0",
      "model_name": "LayoutModel",
      "state": {
       "order": "-1",
       "overflow": "visible",
       "padding": "1px",
       "width": "0px"
      }
     },
     "05b9ec1757f54984b2ef8cbce76ee77c": {
      "model_module": "@jupyter-widgets/controls",
      "model_module_version": "1.5.0",
      "model_name": "ButtonModel",
      "state": {
       "layout": "IPY_MODEL_2907e0efb62f41548a1d51582fe254ba",
       "style": "IPY_MODEL_61fe4c5a5e8f4572b27a0a9e9b67e2d0"
      }
     },
     "060088f79f534b5f9388a88402e2c877": {
      "model_module": "@jupyter-widgets/base",
      "model_module_version": "1.2.0",
      "model_name": "LayoutModel",
      "state": {
       "overflow": "visible",
       "width": "100%"
      }
     },
     "0626d969b76f4b5f9e458fd58f2dc9cb": {
      "model_module": "@jupyter-widgets/base",
      "model_module_version": "1.2.0",
      "model_name": "LayoutModel",
      "state": {
       "display": "flex",
       "width": "60px"
      }
     },
     "0648dec771a14819ab5e6cfc495cbcad": {
      "model_module": "@jupyter-widgets/controls",
      "model_module_version": "1.5.0",
      "model_name": "IntProgressModel",
      "state": {
       "bar_style": "success",
       "layout": "IPY_MODEL_3fb4dde5a41b4a6eb542cd345400e994",
       "max": 5,
       "style": "IPY_MODEL_86f3cfbb08ac4ccd8e6eca9225572b40",
       "value": 5
      }
     },
     "0689604590f0414bb6149cd0f8132875": {
      "model_module": "@jupyter-widgets/controls",
      "model_module_version": "1.5.0",
      "model_name": "ProgressStyleModel",
      "state": {
       "description_width": ""
      }
     },
     "06b4f6b967304dffa5209030a689e714": {
      "model_module": "@jupyter-widgets/base",
      "model_module_version": "1.2.0",
      "model_name": "LayoutModel",
      "state": {
       "border": "3px solid white",
       "display": "flex",
       "flex": "1 1 0%",
       "margin": "10px",
       "min_width": "400px",
       "overflow": "visible",
       "padding": "10px",
       "width": "auto"
      }
     },
     "070e5ff232174b8b91eeb39cde74f7a7": {
      "model_module": "@jupyter-widgets/controls",
      "model_module_version": "1.5.0",
      "model_name": "DescriptionStyleModel",
      "state": {
       "description_width": ""
      }
     },
     "07182433ade945b190c5f62e6c090327": {
      "model_module": "@jupyter-widgets/controls",
      "model_module_version": "1.5.0",
      "model_name": "ButtonModel",
      "state": {
       "description": "EDIT",
       "layout": "IPY_MODEL_4d2a01be38494b1999e71d661fc55c12",
       "style": "IPY_MODEL_38c6e204d39f41849685f28aecc2ced8"
      }
     },
     "0752de232b184b83805220062cf30624": {
      "model_module": "@jupyter-widgets/base",
      "model_module_version": "1.2.0",
      "model_name": "LayoutModel",
      "state": {
       "height": "32px",
       "order": "-2",
       "width": "32px"
      }
     },
     "0768187431bb407d93b17f1eee122592": {
      "model_module": "@jupyter-widgets/controls",
      "model_module_version": "1.5.0",
      "model_name": "HTMLModel",
      "state": {
       "layout": "IPY_MODEL_803b861d42c44076bb232874bdcda0a9",
       "style": "IPY_MODEL_0a2d0c259ac94921a8efade986d15c0d",
       "value": "<i>As a Striker, get kills with Lightning Grenades.</i>"
      }
     },
     "076deb9dc9d049a8959c237f0e422d48": {
      "model_module": "@jupyter-widgets/base",
      "model_module_version": "1.2.0",
      "model_name": "LayoutModel",
      "state": {
       "overflow": "visible",
       "width": "100%"
      }
     },
     "079dc01dd57347018ab37e6b6edde1ea": {
      "model_module": "@jupyter-widgets/controls",
      "model_module_version": "1.5.0",
      "model_name": "ButtonStyleModel",
      "state": {}
     },
     "07b0d1822ea0464f92535715b498463e": {
      "model_module": "@jupyter-widgets/base",
      "model_module_version": "1.2.0",
      "model_name": "LayoutModel",
      "state": {
       "height": "32px",
       "order": "-2",
       "width": "32px"
      }
     },
     "07b184d7299d4756ae9f7c2d5cf79d17": {
      "model_module": "@jupyter-widgets/controls",
      "model_module_version": "1.5.0",
      "model_name": "LabelModel",
      "state": {
       "layout": "IPY_MODEL_5f9f3da343d34eab9fc497aa82117d89",
       "style": "IPY_MODEL_c86a7bc0e8a74e599c19916baf167551",
       "value": "    Hunters defeated (61/50)"
      }
     },
     "08d0c7818b16445c88af298a444a8c76": {
      "model_module": "@jupyter-widgets/controls",
      "model_module_version": "1.5.0",
      "model_name": "HBoxModel",
      "state": {
       "children": [
        "IPY_MODEL_b52f62dfc1384cd78d0b6156e7fbcc3b",
        "IPY_MODEL_dbe1a04ddce6463a8ec11463e1ec563c",
        "IPY_MODEL_57becc007d9842359c8d6a560d518e00",
        "IPY_MODEL_2050cd2b2b99477b8e849353901e897e"
       ],
       "layout": "IPY_MODEL_17d9a12a3e724abfa2b1544fcdce6334"
      }
     },
     "08d8f2d693d54671b36bc006f7b275a7": {
      "model_module": "@jupyter-widgets/controls",
      "model_module_version": "1.5.0",
      "model_name": "HBoxModel",
      "state": {
       "children": [
        "IPY_MODEL_c074bb84a3dc427ba12de33a6e5d1a83",
        "IPY_MODEL_66dc81bb8ec642c9a052eb56ebbfdf0d",
        "IPY_MODEL_34f259e4401547ed923542fdb8cd8bab",
        "IPY_MODEL_53a578bd6c6c4da285daf3f0f82daeb0"
       ],
       "layout": "IPY_MODEL_c19dc073027a4bebb668ef7c13c8e891"
      }
     },
     "08e34d9113894eb287c2f6c32c8908b3": {
      "model_module": "@jupyter-widgets/controls",
      "model_module_version": "1.5.0",
      "model_name": "ProgressStyleModel",
      "state": {
       "description_width": ""
      }
     },
     "090f804d8c134da98ddc68b6f9b5f6e8": {
      "model_module": "@jupyter-widgets/controls",
      "model_module_version": "1.5.0",
      "model_name": "ButtonStyleModel",
      "state": {}
     },
     "092030dbd1bf4a15bc756efc1ab0ac57": {
      "model_module": "@jupyter-widgets/controls",
      "model_module_version": "1.5.0",
      "model_name": "ButtonStyleModel",
      "state": {}
     },
     "093c8b23c8f54dd4aaed0c956fab6ab4": {
      "model_module": "@jupyter-widgets/controls",
      "model_module_version": "1.5.0",
      "model_name": "ButtonModel",
      "state": {
       "description": "EDIT",
       "layout": "IPY_MODEL_e43e4146d8c24f6aa1659ccce409972f",
       "style": "IPY_MODEL_e7e5ec4cb38d4e488177d33813afd25f"
      }
     },
     "0950a9d3cc3a42739f0f698a95d5233a": {
      "model_module": "@jupyter-widgets/controls",
      "model_module_version": "1.5.0",
      "model_name": "HTMLModel",
      "state": {
       "layout": "IPY_MODEL_ed62e12e20984374bc3032e17031e2af",
       "style": "IPY_MODEL_3be9309c0f574357ac3672d0045596dd",
       "value": "<i>Get kills with Izanagi's Burden at the Izanami Forge.</i>"
      }
     },
     "099d8ed111844deba188019af24504ba": {
      "model_module": "@jupyter-widgets/controls",
      "model_module_version": "1.5.0",
      "model_name": "HBoxModel",
      "state": {
       "children": [
        "IPY_MODEL_acc78fad25db44ad81720c43bcec6802",
        "IPY_MODEL_0648dec771a14819ab5e6cfc495cbcad",
        "IPY_MODEL_e36721ae737a414fa9e015344045a8e5",
        "IPY_MODEL_671e4095aac041c8abb5c4abf8af5713"
       ],
       "layout": "IPY_MODEL_e9fd919356f44228a8bb4d2f3cb8a9f5"
      }
     },
     "09ad46bd014e406c8e17e8a6415771d7": {
      "model_module": "@jupyter-widgets/controls",
      "model_module_version": "1.5.0",
      "model_name": "ProgressStyleModel",
      "state": {
       "description_width": ""
      }
     },
     "09b9c4d452ed422caa507f8af93c139b": {
      "model_module": "@jupyter-widgets/controls",
      "model_module_version": "1.5.0",
      "model_name": "ProgressStyleModel",
      "state": {
       "description_width": ""
      }
     },
     "09e14516b5c64f9da11d20c6e077d40a": {
      "model_module": "@jupyter-widgets/controls",
      "model_module_version": "1.5.0",
      "model_name": "ButtonModel",
      "state": {
       "layout": "IPY_MODEL_bc5c7c03dfa942c88bd82bfb15bbd58d",
       "style": "IPY_MODEL_63b970daf92346d5bc2a93424b19dfde"
      }
     },
     "0a051468997f4668912f519a3c33ce38": {
      "model_module": "@jupyter-widgets/controls",
      "model_module_version": "1.5.0",
      "model_name": "ButtonStyleModel",
      "state": {}
     },
     "0a1c25d1dba54d0f9fa55a2bbb8c4a4b": {
      "model_module": "@jupyter-widgets/base",
      "model_module_version": "1.2.0",
      "model_name": "LayoutModel",
      "state": {
       "height": "32px",
       "overflow": "visible",
       "width": "100%"
      }
     },
     "0a2d0c259ac94921a8efade986d15c0d": {
      "model_module": "@jupyter-widgets/controls",
      "model_module_version": "1.5.0",
      "model_name": "DescriptionStyleModel",
      "state": {
       "description_width": ""
      }
     },
     "0a62ce92e55c47518804c968d9fea1e0": {
      "model_module": "@jupyter-widgets/base",
      "model_module_version": "1.2.0",
      "model_name": "LayoutModel",
      "state": {
       "height": "32px",
       "order": "-2",
       "width": "32px"
      }
     },
     "0aa05ee2ed524ed4b553747be9398a3a": {
      "model_module": "@jupyter-widgets/base",
      "model_module_version": "1.2.0",
      "model_name": "LayoutModel",
      "state": {
       "display": "flex",
       "width": "60px"
      }
     },
     "0acedbcb39ec400282ad5b0cec013786": {
      "model_module": "@jupyter-widgets/controls",
      "model_module_version": "1.5.0",
      "model_name": "IntProgressModel",
      "state": {
       "layout": "IPY_MODEL_15602aabb8ed4dfc825b541039dddeb2",
       "max": 5000,
       "style": "IPY_MODEL_fff9e220266949038fa49e6dfd40f38a",
       "value": 391
      }
     },
     "0ad72e5ccbcb4d89a6517111acacd78b": {
      "model_module": "@jupyter-widgets/controls",
      "model_module_version": "1.5.0",
      "model_name": "HTMLModel",
      "state": {
       "layout": "IPY_MODEL_d2e6f0519e74425396a75b0f5c0cfa67",
       "style": "IPY_MODEL_a57bd9532acb484a93d8c46af1217d10",
       "value": "<font size=\"1\">Triumphs/Gambit/Medals/Invading/Maximum Carnage</font size=>"
      }
     },
     "0af241be251b4316aef4a08d07da9bbb": {
      "model_module": "@jupyter-widgets/controls",
      "model_module_version": "1.5.0",
      "model_name": "IntProgressModel",
      "state": {
       "layout": "IPY_MODEL_ecf2b625f28044c4b8e0e406d4a9a94d",
       "max": 250,
       "style": "IPY_MODEL_1a55844530664609bc6d5c26237e5490",
       "value": 172
      }
     },
     "0b10ec4c743c4d778d553ae8b8038a07": {
      "model_module": "@jupyter-widgets/controls",
      "model_module_version": "1.5.0",
      "model_name": "ButtonModel",
      "state": {
       "layout": "IPY_MODEL_98ac6bb440c943d9bd2005e4539d0192",
       "style": "IPY_MODEL_15ed3429566a4f59b79409929869eaa8"
      }
     },
     "0b8c08d2c9ff425ba6b3d5c24d1979bf": {
      "model_module": "@jupyter-widgets/base",
      "model_module_version": "1.2.0",
      "model_name": "LayoutModel",
      "state": {
       "display": "flex",
       "flex_flow": "row wrap"
      }
     },
     "0ba344aa40b94dc2943982befe6cd245": {
      "model_module": "@jupyter-widgets/controls",
      "model_module_version": "1.5.0",
      "model_name": "DropdownModel",
      "state": {
       "_options_labels": [
        "All"
       ],
       "index": 0,
       "layout": "IPY_MODEL_f2252b76d36f4be4a5d0b6f467e7e1d5",
       "style": "IPY_MODEL_bf1f51677c0e4ead9d33116e7ab5508b"
      }
     },
     "0ba4ae7b2d3b44a59606f3fee4db86a6": {
      "model_module": "@jupyter-widgets/controls",
      "model_module_version": "1.5.0",
      "model_name": "ButtonStyleModel",
      "state": {}
     },
     "0bb87c8e73444d2a99f7f44affc1e49d": {
      "model_module": "@jupyter-widgets/controls",
      "model_module_version": "1.5.0",
      "model_name": "DescriptionStyleModel",
      "state": {
       "description_width": ""
      }
     },
     "0bdf1147a4ee46f2a7fce5b8a30ff4d4": {
      "model_module": "@jupyter-widgets/base",
      "model_module_version": "1.2.0",
      "model_name": "LayoutModel",
      "state": {
       "height": "32px",
       "overflow": "visible",
       "width": "100%"
      }
     },
     "0c4840ba8632487996e765f1669db8a2": {
      "model_module": "@jupyter-widgets/base",
      "model_module_version": "1.2.0",
      "model_name": "LayoutModel",
      "state": {
       "height": "32px",
       "overflow": "visible",
       "width": "100%"
      }
     },
     "0c70595cb1d74ed99e75b55cc6dca636": {
      "model_module": "@jupyter-widgets/base",
      "model_module_version": "1.2.0",
      "model_name": "LayoutModel",
      "state": {
       "display": "none"
      }
     },
     "0ca2c12afea04fc991d9b98c3057520c": {
      "model_module": "@jupyter-widgets/controls",
      "model_module_version": "1.5.0",
      "model_name": "ButtonModel",
      "state": {
       "description": "EDIT",
       "layout": "IPY_MODEL_5d2f72b82aed47e59e5cc7f1859bbdda",
       "style": "IPY_MODEL_f09082964ad746cf90d6695634336be3"
      }
     },
     "0cbe548ffce048c2ae5cc9714c6cc20d": {
      "model_module": "@jupyter-widgets/base",
      "model_module_version": "1.2.0",
      "model_name": "LayoutModel",
      "state": {
       "order": "-1",
       "overflow": "visible",
       "padding": "1px",
       "width": "0px"
      }
     },
     "0d36d2f5409f48f0bd02d126d21bf5a2": {
      "model_module": "@jupyter-widgets/base",
      "model_module_version": "1.2.0",
      "model_name": "LayoutModel",
      "state": {}
     },
     "0d7a9e6acb5549dc8a86e582f2457d76": {
      "model_module": "@jupyter-widgets/controls",
      "model_module_version": "1.5.0",
      "model_name": "DescriptionStyleModel",
      "state": {
       "description_width": ""
      }
     },
     "0d7c3cfe19e843fda93c559dddf76e10": {
      "model_module": "@jupyter-widgets/controls",
      "model_module_version": "1.5.0",
      "model_name": "IntProgressModel",
      "state": {
       "layout": "IPY_MODEL_a118a1133fd84877802f68c77504dc35",
       "style": "IPY_MODEL_00f43434144e4b7aa3ddbbc7a1c7ffe3",
       "value": 30
      }
     },
     "0d974c31b1a942928521d08a1e4fe25d": {
      "model_module": "@jupyter-widgets/base",
      "model_module_version": "1.2.0",
      "model_name": "LayoutModel",
      "state": {
       "order": "-1",
       "overflow": "visible",
       "padding": "1px",
       "width": "0px"
      }
     },
     "0df0bee42e7345c9820c9e71bca44fe3": {
      "model_module": "@jupyter-widgets/base",
      "model_module_version": "1.2.0",
      "model_name": "LayoutModel",
      "state": {
       "border": "3px solid white",
       "display": "flex",
       "flex": "1 1 0%",
       "margin": "10px",
       "min_width": "400px",
       "overflow": "visible",
       "padding": "10px",
       "width": "auto"
      }
     },
     "0e1782d4f25a4b4baf69e79cc96803a7": {
      "model_module": "@jupyter-widgets/base",
      "model_module_version": "1.2.0",
      "model_name": "LayoutModel",
      "state": {
       "display": "none"
      }
     },
     "0e417dc30330452fa2cb668e760530d1": {
      "model_module": "@jupyter-widgets/controls",
      "model_module_version": "1.5.0",
      "model_name": "LabelModel",
      "state": {
       "layout": "IPY_MODEL_953ce1eecb1241fb857a5342dc2b74b4",
       "style": "IPY_MODEL_30b0dc99711d4fb4bc953f9bb30cb3f8",
       "value": "   objective"
      }
     },
     "0eb2c54ef1724d489116493c863df121": {
      "model_module": "@jupyter-widgets/controls",
      "model_module_version": "1.5.0",
      "model_name": "HBoxModel",
      "state": {
       "children": [
        "IPY_MODEL_8b3084627bc9414b9df95abd0f26b0c3",
        "IPY_MODEL_33f1460af58f49328b8d3ec92b59ed85"
       ],
       "layout": "IPY_MODEL_707cccdc64d74114bd74262251e1cfe1"
      }
     },
     "0ee60b0005a3432390bdfe55026adf95": {
      "model_module": "@jupyter-widgets/controls",
      "model_module_version": "1.5.0",
      "model_name": "HTMLModel",
      "state": {
       "layout": "IPY_MODEL_42eb5c6b7bfc4b7eaf8894115366a07f",
       "style": "IPY_MODEL_7548b55463ea40e19b2e81ec32b6b958",
       "value": "<font size=\"1\">Triumphs/Lore/Dusk and Dawn/Revelation/Suspicions</font size=>"
      }
     },
     "0f2d3706bf1e4a3f8b58d75a738db789": {
      "model_module": "@jupyter-widgets/base",
      "model_module_version": "1.2.0",
      "model_name": "LayoutModel",
      "state": {
       "height": "32px",
       "order": "-2",
       "width": "32px"
      }
     },
     "0f34d7c0c3f642cca63b36a62caa0b31": {
      "model_module": "@jupyter-widgets/controls",
      "model_module_version": "1.5.0",
      "model_name": "HBoxModel",
      "state": {
       "children": [
        "IPY_MODEL_2ee5f466ec97443292ef63666f1b8f9d",
        "IPY_MODEL_6bca2212d441462b991375a40d1a7d8a",
        "IPY_MODEL_12dc84f8790a4f69940bed6242bb820d",
        "IPY_MODEL_49676096b3da4568aa191f494cc7eae5"
       ],
       "layout": "IPY_MODEL_ea8bb2765b1146018ee8e9e2ca74d344"
      }
     },
     "0f3edf4fcdf941d490d7b2018372fe9d": {
      "model_module": "@jupyter-widgets/controls",
      "model_module_version": "1.5.0",
      "model_name": "ButtonStyleModel",
      "state": {}
     },
     "0f61782a18274ae8867f0c72b00ede59": {
      "model_module": "@jupyter-widgets/controls",
      "model_module_version": "1.5.0",
      "model_name": "DescriptionStyleModel",
      "state": {
       "description_width": ""
      }
     },
     "0fb5259259fb47f5bbea0f4c4a678e11": {
      "model_module": "@jupyter-widgets/controls",
      "model_module_version": "1.5.0",
      "model_name": "ButtonModel",
      "state": {
       "description": "EDIT",
       "layout": "IPY_MODEL_e841a56a4aa44554b32aea3346ec9702",
       "style": "IPY_MODEL_e840e2dcd41a4bc29d0cd21c8fc6fa3c"
      }
     },
     "0fd8c3cbdfa64160b5fe143e4ecc4952": {
      "model_module": "@jupyter-widgets/controls",
      "model_module_version": "1.5.0",
      "model_name": "ButtonStyleModel",
      "state": {}
     },
     "102a49962e814da2874715eb6bf9d787": {
      "model_module": "@jupyter-widgets/controls",
      "model_module_version": "1.5.0",
      "model_name": "ButtonStyleModel",
      "state": {}
     },
     "1032c4314f7549a4a855f2f602027245": {
      "model_module": "@jupyter-widgets/controls",
      "model_module_version": "1.5.0",
      "model_name": "ProgressStyleModel",
      "state": {
       "description_width": ""
      }
     },
     "1060f33da52c40ddb68d04044fdb5c59": {
      "model_module": "@jupyter-widgets/base",
      "model_module_version": "1.2.0",
      "model_name": "LayoutModel",
      "state": {
       "order": "-1",
       "overflow": "visible",
       "padding": "1px",
       "width": "0px"
      }
     },
     "10a3aa3fff9444c790f285473017e236": {
      "model_module": "@jupyter-widgets/base",
      "model_module_version": "1.2.0",
      "model_name": "LayoutModel",
      "state": {
       "order": "-1",
       "overflow": "visible",
       "padding": "1px",
       "width": "0px"
      }
     },
     "11597559c61f483aa1c5fecdd31569f7": {
      "model_module": "@jupyter-widgets/base",
      "model_module_version": "1.2.0",
      "model_name": "LayoutModel",
      "state": {}
     },
     "116148c0e753493d84380023a8f50a86": {
      "model_module": "@jupyter-widgets/base",
      "model_module_version": "1.2.0",
      "model_name": "LayoutModel",
      "state": {
       "display": "flex",
       "width": "60px"
      }
     },
     "116872e7e0b44acdb3eb2e062cc197bc": {
      "model_module": "@jupyter-widgets/controls",
      "model_module_version": "1.5.0",
      "model_name": "HBoxModel",
      "state": {
       "children": [
        "IPY_MODEL_05b9ec1757f54984b2ef8cbce76ee77c",
        "IPY_MODEL_b756a9b9ed6a40d5b6228b63f073d7f7",
        "IPY_MODEL_b91d6bcc2c7f4d81b02a062a25333138",
        "IPY_MODEL_0ca2c12afea04fc991d9b98c3057520c"
       ],
       "layout": "IPY_MODEL_0562791756c048cab28589115fd40fae"
      }
     },
     "118aa8c71c52404da5e5d4b1a45d3dff": {
      "model_module": "@jupyter-widgets/controls",
      "model_module_version": "1.5.0",
      "model_name": "ButtonStyleModel",
      "state": {}
     },
     "11d211ec241c4d7998ffadd8f0246385": {
      "model_module": "@jupyter-widgets/controls",
      "model_module_version": "1.5.0",
      "model_name": "IntProgressModel",
      "state": {
       "layout": "IPY_MODEL_b53d2bbd67224784b81764c0c9c842e2",
       "max": 1,
       "style": "IPY_MODEL_e3f8f57034354015be1edaf5ffd236d5"
      }
     },
     "11dc0bde56194e96872aa64fbb78a5bb": {
      "model_module": "@jupyter-widgets/controls",
      "model_module_version": "1.5.0",
      "model_name": "DescriptionStyleModel",
      "state": {
       "description_width": ""
      }
     },
     "11e50c692a5f48afb0858e2fe38c48f9": {
      "model_module": "@jupyter-widgets/controls",
      "model_module_version": "1.5.0",
      "model_name": "ButtonModel",
      "state": {
       "layout": "IPY_MODEL_59425e5dc8f0495e858492aa5b6775a2",
       "style": "IPY_MODEL_3024625462a34ff683a273607f850b72"
      }
     },
     "11edc6f9dfb54beb958870045b752640": {
      "model_module": "@jupyter-widgets/base",
      "model_module_version": "1.2.0",
      "model_name": "LayoutModel",
      "state": {
       "display": "flex",
       "width": "60px"
      }
     },
     "126a1fdf99b54368b42f120b0e701f92": {
      "model_module": "@jupyter-widgets/controls",
      "model_module_version": "1.5.0",
      "model_name": "LabelModel",
      "state": {
       "layout": "IPY_MODEL_10a3aa3fff9444c790f285473017e236",
       "style": "IPY_MODEL_1cf5239428104809b475dfe60dca10b4",
       "value": "   objective"
      }
     },
     "12b9ec42ae344712973edf24e7f68e6e": {
      "model_module": "@jupyter-widgets/controls",
      "model_module_version": "1.5.0",
      "model_name": "ButtonStyleModel",
      "state": {}
     },
     "12dc84f8790a4f69940bed6242bb820d": {
      "model_module": "@jupyter-widgets/controls",
      "model_module_version": "1.5.0",
      "model_name": "LabelModel",
      "state": {
       "layout": "IPY_MODEL_c6e7aad370f441cfa4262a8ea5580a27",
       "style": "IPY_MODEL_73a4729c43e44fb8b7f23c5e07cad9d7",
       "value": "    Medals earned (0/1)"
      }
     },
     "132ea58114fb411ea3cc634d87c45c64": {
      "model_module": "@jupyter-widgets/controls",
      "model_module_version": "1.5.0",
      "model_name": "DescriptionStyleModel",
      "state": {
       "description_width": ""
      }
     },
     "1341aab512ad4ea08a5a40cb22b92b36": {
      "model_module": "@jupyter-widgets/controls",
      "model_module_version": "1.5.0",
      "model_name": "ButtonModel",
      "state": {
       "layout": "IPY_MODEL_91cd295ed38943218277c49288f21133",
       "style": "IPY_MODEL_3a193577c1d446d4ae242a9e7b916dfa"
      }
     },
     "138529d7f3934c85b581cccbf0715c32": {
      "model_module": "@jupyter-widgets/controls",
      "model_module_version": "1.5.0",
      "model_name": "HTMLModel",
      "state": {
       "layout": "IPY_MODEL_a5fcb2dc9298466fa8eda4e2ef8df4b8",
       "style": "IPY_MODEL_3522647216ea4276bd4267bed64df84a",
       "value": "<i>Earn Valor ranks in Season 6.</i>"
      }
     },
     "13ca67e0036a47ea8221c886d5d546e6": {
      "model_module": "@jupyter-widgets/controls",
      "model_module_version": "1.5.0",
      "model_name": "ButtonModel",
      "state": {
       "description": "EDIT",
       "layout": "IPY_MODEL_b477c199c0134b6ebe8ad71dbcf0d8b7",
       "style": "IPY_MODEL_9737df6ee1ed436da4a0b4b44c0bbaf7"
      }
     },
     "13cf8f6cfdd24ca58a121440ca4cd3ff": {
      "model_module": "@jupyter-widgets/controls",
      "model_module_version": "1.5.0",
      "model_name": "VBoxModel",
      "state": {
       "children": [
        "IPY_MODEL_9126323b0783445cb7e9829ffd4c960e",
        "IPY_MODEL_dceb11cdabb64adc82531b8395b44f67",
        "IPY_MODEL_21d8edd7313b404ea551aa0a02662c19",
        "IPY_MODEL_4e76872511e94092b46a545af491e698"
       ],
       "layout": "IPY_MODEL_06b4f6b967304dffa5209030a689e714"
      }
     },
     "13d8d80af1ba4b8d91b57dd9262142bf": {
      "model_module": "@jupyter-widgets/controls",
      "model_module_version": "1.5.0",
      "model_name": "LabelModel",
      "state": {
       "layout": "IPY_MODEL_2db62c3608d24080a38a08b6b737e91a",
       "style": "IPY_MODEL_d98c62a83ed94c7d83506a50e75de383",
       "value": "   objective"
      }
     },
     "13efedff8a81402c99d79cbe55b6ed26": {
      "model_module": "@jupyter-widgets/base",
      "model_module_version": "1.2.0",
      "model_name": "LayoutModel",
      "state": {
       "order": "-1",
       "overflow": "visible",
       "padding": "1px",
       "width": "0px"
      }
     },
     "13f9efb1356f44bf8de4cb0fbddbc333": {
      "model_module": "@jupyter-widgets/controls",
      "model_module_version": "1.5.0",
      "model_name": "HTMLModel",
      "state": {
       "layout": "IPY_MODEL_a70ef99646ea4d278654fa8d895f19f7",
       "style": "IPY_MODEL_a3a7420d8a4241b0931b970ac115c2c7",
       "value": "<font size=\"1\">Triumphs/Account/Character/Titan/Strike Them Down</font size=>"
      }
     },
     "142754811853410fa22aea0d08d17f4e": {
      "model_module": "@jupyter-widgets/base",
      "model_module_version": "1.2.0",
      "model_name": "LayoutModel",
      "state": {
       "width": "100px"
      }
     },
     "145f9a5d0cb146a397f3a498187aeabf": {
      "model_module": "@jupyter-widgets/base",
      "model_module_version": "1.2.0",
      "model_name": "LayoutModel",
      "state": {
       "display": "flex",
       "width": "60px"
      }
     },
     "146286e94b27427783a2b66d10fb8edf": {
      "model_module": "@jupyter-widgets/base",
      "model_module_version": "1.2.0",
      "model_name": "LayoutModel",
      "state": {}
     },
     "149690847b5543f49293b835d57adbeb": {
      "model_module": "@jupyter-widgets/controls",
      "model_module_version": "1.5.0",
      "model_name": "DropdownModel",
      "state": {
       "_options_labels": [
        "Any"
       ],
       "index": 0,
       "layout": "IPY_MODEL_7de46c5a10344d3c9922541b9839e37d",
       "style": "IPY_MODEL_e705d990021542ebb4132cb62fc416fa"
      }
     },
     "14ce12422a3d4a868d7aaece758e4b3a": {
      "model_module": "@jupyter-widgets/controls",
      "model_module_version": "1.5.0",
      "model_name": "ButtonStyleModel",
      "state": {}
     },
     "14d90f58cea649e5b475a13c8801a594": {
      "model_module": "@jupyter-widgets/base",
      "model_module_version": "1.2.0",
      "model_name": "LayoutModel",
      "state": {
       "display": "flex"
      }
     },
     "14e3d10cdd324a85afa95d2b6edb365f": {
      "model_module": "@jupyter-widgets/base",
      "model_module_version": "1.2.0",
      "model_name": "LayoutModel",
      "state": {
       "display": "none"
      }
     },
     "1514a66e6d8245958f32e8db5bfe4212": {
      "model_module": "@jupyter-widgets/base",
      "model_module_version": "1.2.0",
      "model_name": "LayoutModel",
      "state": {
       "height": "32px",
       "overflow": "visible",
       "width": "100%"
      }
     },
     "15465c71b8eb41e18cd383cc7427f665": {
      "model_module": "@jupyter-widgets/controls",
      "model_module_version": "1.5.0",
      "model_name": "ButtonStyleModel",
      "state": {}
     },
     "15602aabb8ed4dfc825b541039dddeb2": {
      "model_module": "@jupyter-widgets/base",
      "model_module_version": "1.2.0",
      "model_name": "LayoutModel",
      "state": {
       "height": "32px",
       "overflow": "visible",
       "width": "100%"
      }
     },
     "157d1b62623440af9171eac0e290b993": {
      "model_module": "@jupyter-widgets/base",
      "model_module_version": "1.2.0",
      "model_name": "LayoutModel",
      "state": {
       "display": "flex",
       "flex_flow": "row wrap"
      }
     },
     "1585fdb7fb784adc8653660b182bf742": {
      "model_module": "@jupyter-widgets/base",
      "model_module_version": "1.2.0",
      "model_name": "LayoutModel",
      "state": {
       "display": "none"
      }
     },
     "15931611938843f68b6365be479fc541": {
      "model_module": "@jupyter-widgets/base",
      "model_module_version": "1.2.0",
      "model_name": "LayoutModel",
      "state": {
       "display": "flex",
       "flex_flow": "row wrap"
      }
     },
     "15a6defbc42b4d3b896198c8f13add79": {
      "model_module": "@jupyter-widgets/controls",
      "model_module_version": "1.5.0",
      "model_name": "ButtonModel",
      "state": {
       "layout": "IPY_MODEL_07b0d1822ea0464f92535715b498463e",
       "style": "IPY_MODEL_83c58dd902ee4fbfbbd2b1c712c6c810"
      }
     },
     "15e28ad6051c4c578b1b8b8e65ba0104": {
      "model_module": "@jupyter-widgets/controls",
      "model_module_version": "1.5.0",
      "model_name": "LabelModel",
      "state": {
       "layout": "IPY_MODEL_f6aacea38df34bfc9f1c546e4becb56e",
       "style": "IPY_MODEL_348717f5580d475e80358fca4a4d864a",
       "value": "Power Weapon:"
      }
     },
     "15ed3429566a4f59b79409929869eaa8": {
      "model_module": "@jupyter-widgets/controls",
      "model_module_version": "1.5.0",
      "model_name": "ButtonStyleModel",
      "state": {}
     },
     "16016c5cd3b54384b6a671310a021bf5": {
      "model_module": "@jupyter-widgets/controls",
      "model_module_version": "1.5.0",
      "model_name": "DescriptionStyleModel",
      "state": {
       "description_width": ""
      }
     },
     "1610cb267501428d8d86b22e15c0ede2": {
      "model_module": "@jupyter-widgets/base",
      "model_module_version": "1.2.0",
      "model_name": "LayoutModel",
      "state": {
       "order": "-1",
       "overflow": "visible",
       "padding": "1px",
       "width": "0px"
      }
     },
     "16168482cae54ee987864b9cdf90d1f7": {
      "model_module": "@jupyter-widgets/base",
      "model_module_version": "1.2.0",
      "model_name": "LayoutModel",
      "state": {
       "display": "flex"
      }
     },
     "161ad8a53d9c47569af4b7cbae72779b": {
      "model_module": "@jupyter-widgets/controls",
      "model_module_version": "1.5.0",
      "model_name": "DescriptionStyleModel",
      "state": {
       "description_width": ""
      }
     },
     "162781087a35429fa0bd3d7f6bf820ac": {
      "model_module": "@jupyter-widgets/controls",
      "model_module_version": "1.5.0",
      "model_name": "ProgressStyleModel",
      "state": {
       "description_width": ""
      }
     },
     "163a9d74e0634ed582a34311234a797a": {
      "model_module": "@jupyter-widgets/controls",
      "model_module_version": "1.5.0",
      "model_name": "ButtonModel",
      "state": {
       "layout": "IPY_MODEL_1ac434ef13a14d6ba69fa0a87c2b33b3",
       "style": "IPY_MODEL_77bb0196a6c84bd1a974ec0b2e528aee"
      }
     },
     "169ff5bc41524fb8ae0cca72bbb74e79": {
      "model_module": "@jupyter-widgets/base",
      "model_module_version": "1.2.0",
      "model_name": "LayoutModel",
      "state": {
       "height": "32px",
       "order": "-2",
       "width": "32px"
      }
     },
     "16c563ed37224e57a8390b2ab502896e": {
      "model_module": "@jupyter-widgets/controls",
      "model_module_version": "1.5.0",
      "model_name": "LabelModel",
      "state": {
       "layout": "IPY_MODEL_b065a82712854e7884f788b7c9537cb8",
       "style": "IPY_MODEL_c02734791b594bb18e9f039b94dcecb7",
       "value": "   objective"
      }
     },
     "16fad16c7db24e7e80130a24fd44c778": {
      "model_module": "@jupyter-widgets/base",
      "model_module_version": "1.2.0",
      "model_name": "LayoutModel",
      "state": {
       "height": "32px",
       "order": "-2",
       "width": "32px"
      }
     },
     "174624b5b7e6401085e996cb4f7728d4": {
      "model_module": "@jupyter-widgets/controls",
      "model_module_version": "1.5.0",
      "model_name": "ButtonStyleModel",
      "state": {}
     },
     "1759656cae534fd289f1a13988670865": {
      "model_module": "@jupyter-widgets/base",
      "model_module_version": "1.2.0",
      "model_name": "LayoutModel",
      "state": {
       "height": "32px",
       "order": "-2",
       "width": "32px"
      }
     },
     "17d9a12a3e724abfa2b1544fcdce6334": {
      "model_module": "@jupyter-widgets/base",
      "model_module_version": "1.2.0",
      "model_name": "LayoutModel",
      "state": {
       "display": "none"
      }
     },
     "17e850d0920f4679bc3afe33933ce0f4": {
      "model_module": "@jupyter-widgets/controls",
      "model_module_version": "1.5.0",
      "model_name": "ProgressStyleModel",
      "state": {
       "description_width": ""
      }
     },
     "180046457c2f4f948297a16815e44253": {
      "model_module": "@jupyter-widgets/base",
      "model_module_version": "1.2.0",
      "model_name": "LayoutModel",
      "state": {
       "height": "32px",
       "overflow": "visible",
       "width": "100%"
      }
     },
     "1811860063214c04a02f796510911c7a": {
      "model_module": "@jupyter-widgets/base",
      "model_module_version": "1.2.0",
      "model_name": "LayoutModel",
      "state": {
       "height": "32px",
       "order": "-2",
       "width": "32px"
      }
     },
     "182eddd3247547569102e7f767621a92": {
      "model_module": "@jupyter-widgets/controls",
      "model_module_version": "1.5.0",
      "model_name": "ButtonModel",
      "state": {
       "description": "EDIT",
       "layout": "IPY_MODEL_71fcda758c624fe08fb94133a50c1145",
       "style": "IPY_MODEL_e0381b119cc94a18a9351669b0eab2ba"
      }
     },
     "183eaf81be3246ae9da32f423bd0ef9f": {
      "model_module": "@jupyter-widgets/controls",
      "model_module_version": "1.5.0",
      "model_name": "HBoxModel",
      "state": {
       "children": [
        "IPY_MODEL_1b67b3c1c54248a3b7061eb840fb1e2e",
        "IPY_MODEL_3c7be38dc89845f789167f6fbed75680",
        "IPY_MODEL_f62db8ea534e428f935f9705f19dbfd2",
        "IPY_MODEL_ffee0104638246779fd97a16886be7ba"
       ],
       "layout": "IPY_MODEL_524a403f523a41238ffef407815f824c"
      }
     },
     "1841c217f92c48a89f0ad2378122ca16": {
      "model_module": "@jupyter-widgets/controls",
      "model_module_version": "1.5.0",
      "model_name": "ButtonStyleModel",
      "state": {}
     },
     "18448a838ebf4b90bf84c38c87fe222b": {
      "model_module": "@jupyter-widgets/base",
      "model_module_version": "1.2.0",
      "model_name": "LayoutModel",
      "state": {
       "display": "flex",
       "width": "60px"
      }
     },
     "185cfd3a9a6e4c1fa7dd10ca4d607c3a": {
      "model_module": "@jupyter-widgets/controls",
      "model_module_version": "1.5.0",
      "model_name": "ButtonModel",
      "state": {
       "description": "EDIT",
       "layout": "IPY_MODEL_63d1450115814e0d9243afaa1c7cde63",
       "style": "IPY_MODEL_cf179f8b596a41f2baae65816cbda80d"
      }
     },
     "18947da0fee94a87be7db0af975b3375": {
      "model_module": "@jupyter-widgets/controls",
      "model_module_version": "1.5.0",
      "model_name": "DescriptionStyleModel",
      "state": {
       "description_width": ""
      }
     },
     "1898752ca1ef4c6dae184dc8d73c0fbc": {
      "model_module": "@jupyter-widgets/base",
      "model_module_version": "1.2.0",
      "model_name": "LayoutModel",
      "state": {}
     },
     "1915d305c1e940cba299889ba8e0e21f": {
      "model_module": "@jupyter-widgets/controls",
      "model_module_version": "1.5.0",
      "model_name": "IntProgressModel",
      "state": {
       "layout": "IPY_MODEL_92fa903f79ff4a11a4abe176085081c2",
       "style": "IPY_MODEL_53ec82fe542e459ebce3e8243cdc75b1",
       "value": 30
      }
     },
     "19650036134f4793aa718ba373d0abb9": {
      "model_module": "@jupyter-widgets/base",
      "model_module_version": "1.2.0",
      "model_name": "LayoutModel",
      "state": {
       "overflow": "visible",
       "width": "100%"
      }
     },
     "19de1c43adce45ccac1fdc34f06d8e95": {
      "model_module": "@jupyter-widgets/base",
      "model_module_version": "1.2.0",
      "model_name": "LayoutModel",
      "state": {
       "order": "-1",
       "overflow": "visible",
       "padding": "1px",
       "width": "0px"
      }
     },
     "19e559c7764342cd949684e76050d6f1": {
      "model_module": "@jupyter-widgets/base",
      "model_module_version": "1.2.0",
      "model_name": "LayoutModel",
      "state": {
       "height": "32px",
       "overflow": "visible",
       "width": "100%"
      }
     },
     "19fcc39a00d34a46908df75f6ea8cb2e": {
      "model_module": "@jupyter-widgets/controls",
      "model_module_version": "1.5.0",
      "model_name": "DescriptionStyleModel",
      "state": {
       "description_width": ""
      }
     },
     "1a0c21d757ca4a51817fbc562782e391": {
      "model_module": "@jupyter-widgets/base",
      "model_module_version": "1.2.0",
      "model_name": "LayoutModel",
      "state": {
       "display": "flex",
       "width": "60px"
      }
     },
     "1a1a6ad3233b42878b14f149b491c2e7": {
      "model_module": "@jupyter-widgets/controls",
      "model_module_version": "1.5.0",
      "model_name": "HTMLModel",
      "state": {
       "layout": "IPY_MODEL_c2cf4ec3367a475b84f7b962df0ae9e0",
       "style": "IPY_MODEL_2c19ad0a6ef54ffcb77867b63cab9f0d",
       "value": "<font size=\"5\"><b>Time Lapse</b></font size=>"
      }
     },
     "1a29f4f5eb50487ebd6e5557be91d96c": {
      "model_module": "@jupyter-widgets/controls",
      "model_module_version": "1.5.0",
      "model_name": "ButtonModel",
      "state": {
       "layout": "IPY_MODEL_f10b8b8636ad47649d9ffa4ac22c35ae",
       "style": "IPY_MODEL_21a788d3bed44c27bc9eba899eddc99e"
      }
     },
     "1a55844530664609bc6d5c26237e5490": {
      "model_module": "@jupyter-widgets/controls",
      "model_module_version": "1.5.0",
      "model_name": "ProgressStyleModel",
      "state": {
       "description_width": ""
      }
     },
     "1a68d81bac8d40a0bf59095ce5e99e12": {
      "model_module": "@jupyter-widgets/controls",
      "model_module_version": "1.5.0",
      "model_name": "DescriptionStyleModel",
      "state": {
       "description_width": ""
      }
     },
     "1a6ba48a5ec34b3c90d3fe8f37fee260": {
      "model_module": "@jupyter-widgets/base",
      "model_module_version": "1.2.0",
      "model_name": "LayoutModel",
      "state": {}
     },
     "1a9f2614a7e842a9928a21c9452951c0": {
      "model_module": "@jupyter-widgets/controls",
      "model_module_version": "1.5.0",
      "model_name": "DropdownModel",
      "state": {
       "_options_labels": [
        "All"
       ],
       "index": 0,
       "layout": "IPY_MODEL_de91a99fa87b4161a329616d56bbe68a",
       "style": "IPY_MODEL_50f097aed2824d1b98fdc652fa8f640b"
      }
     },
     "1ac07fec3e624c7b92cb29ae688c879e": {
      "model_module": "@jupyter-widgets/base",
      "model_module_version": "1.2.0",
      "model_name": "LayoutModel",
      "state": {
       "height": "32px",
       "overflow": "visible",
       "width": "100%"
      }
     },
     "1ac434ef13a14d6ba69fa0a87c2b33b3": {
      "model_module": "@jupyter-widgets/base",
      "model_module_version": "1.2.0",
      "model_name": "LayoutModel",
      "state": {
       "height": "32px",
       "order": "-2",
       "width": "32px"
      }
     },
     "1b08dc08c1064e7db457d983c11ea383": {
      "model_module": "@jupyter-widgets/controls",
      "model_module_version": "1.5.0",
      "model_name": "HBoxModel",
      "state": {
       "children": [
        "IPY_MODEL_82e0a7ffd5ed4c05bc038955f2b2ab3e",
        "IPY_MODEL_5123dbdcbd5c4db29e9af09ea40d6cc4",
        "IPY_MODEL_864a7da3ac0f490eb655d0721bce8829",
        "IPY_MODEL_d36e60bc6f6043f0a0691601a40ee215"
       ],
       "layout": "IPY_MODEL_db4fac97d4e742e19fb12d31cc946942"
      }
     },
     "1b0b652ac83b4fceb66875ad71266b0e": {
      "model_module": "@jupyter-widgets/base",
      "model_module_version": "1.2.0",
      "model_name": "LayoutModel",
      "state": {}
     },
     "1b12ddfa1d4343a08f7a3f8a4dc40ab0": {
      "model_module": "@jupyter-widgets/base",
      "model_module_version": "1.2.0",
      "model_name": "LayoutModel",
      "state": {
       "height": "32px",
       "overflow": "visible",
       "width": "100%"
      }
     },
     "1b3a0bf8d51f400cad219169dc7e8794": {
      "model_module": "@jupyter-widgets/controls",
      "model_module_version": "1.5.0",
      "model_name": "DescriptionStyleModel",
      "state": {
       "description_width": ""
      }
     },
     "1b50f4bc6afb4734916ee07fc49e7c4b": {
      "model_module": "@jupyter-widgets/base",
      "model_module_version": "1.2.0",
      "model_name": "LayoutModel",
      "state": {
       "height": "32px",
       "order": "-2",
       "width": "32px"
      }
     },
     "1b64bc68a7b8443e85d43e3c9fa4301e": {
      "model_module": "@jupyter-widgets/controls",
      "model_module_version": "1.5.0",
      "model_name": "HBoxModel",
      "state": {
       "children": [
        "IPY_MODEL_3b295192346642c8be38af0f277f23a2",
        "IPY_MODEL_c41007ef945248d6805355fb3b043d38",
        "IPY_MODEL_704f3f403243498295f349734371017c",
        "IPY_MODEL_c41b7b5ad0e64072b731564bd2dbcd46"
       ],
       "layout": "IPY_MODEL_353295f0ba2149eeb0b64c3089a96951"
      }
     },
     "1b67b3c1c54248a3b7061eb840fb1e2e": {
      "model_module": "@jupyter-widgets/controls",
      "model_module_version": "1.5.0",
      "model_name": "ButtonModel",
      "state": {
       "layout": "IPY_MODEL_b6fd676772ca4713ae990d730da16892",
       "style": "IPY_MODEL_7e39188fd8e749698e9683b8cf7f49c1"
      }
     },
     "1b7bb2ca0c7643f6875b3628873dc3f9": {
      "model_module": "@jupyter-widgets/controls",
      "model_module_version": "1.5.0",
      "model_name": "HTMLModel",
      "state": {
       "layout": "IPY_MODEL_3582d4a810de4017840ef6dec4ee6896",
       "style": "IPY_MODEL_aa11f547b8a14cd8aa0986794797d641",
       "value": "<i>Complete all Invitations from the Nine.</i>"
      }
     },
     "1bc0096bd17b42368f9b076c9d2a48c3": {
      "model_module": "@jupyter-widgets/controls",
      "model_module_version": "1.5.0",
      "model_name": "ButtonModel",
      "state": {
       "description": "EDIT",
       "layout": "IPY_MODEL_1c4bd1fa00524c27b6f0d9036d65c1bf",
       "style": "IPY_MODEL_4637257745874c1096a88681cc3b6d55"
      }
     },
     "1bd36a00c342424aae69aa6b877a3d41": {
      "model_module": "@jupyter-widgets/controls",
      "model_module_version": "1.5.0",
      "model_name": "HBoxModel",
      "state": {
       "children": [
        "IPY_MODEL_b378d4d192254f51b5b112bd54aebf94",
        "IPY_MODEL_47b66ae36fc247b3b8f9b8f1b76e8b66",
        "IPY_MODEL_9d7e5cdb66d447dda3b568162f39a423",
        "IPY_MODEL_df6d437de8cb48289076a3dcc3a3c1e5"
       ],
       "layout": "IPY_MODEL_35384d727f064c3fb4bd63376ac36ffb"
      }
     },
     "1be109322cd94061b6cd5f60d1467884": {
      "model_module": "@jupyter-widgets/controls",
      "model_module_version": "1.5.0",
      "model_name": "HBoxModel",
      "state": {
       "children": [
        "IPY_MODEL_fb56b606d5ea4f689a3ac8067da376a7",
        "IPY_MODEL_0acedbcb39ec400282ad5b0cec013786",
        "IPY_MODEL_e3a22b10fe1c44ea934bec0530611e92",
        "IPY_MODEL_a52096d261a94df9aaa7f38a846f02a9"
       ],
       "layout": "IPY_MODEL_a4fe0ff043614d3fa71754bb0ccfcb96"
      }
     },
     "1bfd84baaf6d4b01acc12075b2dc553d": {
      "model_module": "@jupyter-widgets/controls",
      "model_module_version": "1.5.0",
      "model_name": "VBoxModel",
      "state": {
       "children": [
        "IPY_MODEL_1b08dc08c1064e7db457d983c11ea383",
        "IPY_MODEL_a298d9b4876b4106bd27c4de39585ab5",
        "IPY_MODEL_1be109322cd94061b6cd5f60d1467884",
        "IPY_MODEL_aa407f3394c441f5be6f028ddb970f67",
        "IPY_MODEL_d9c172f1fe73449e858b1b54a7282ec4",
        "IPY_MODEL_bca917c69cfb47c4a76279f1ae2c1f90"
       ],
       "layout": "IPY_MODEL_ca44451492e2454b9d581c88fef83b4e"
      }
     },
     "1c25b62f4b5c45ed87067133058c849a": {
      "model_module": "@jupyter-widgets/base",
      "model_module_version": "1.2.0",
      "model_name": "LayoutModel",
      "state": {
       "display": "flex",
       "width": "60px"
      }
     },
     "1c4355e8d8ea462f90e5f0b6fb4f78eb": {
      "model_module": "@jupyter-widgets/base",
      "model_module_version": "1.2.0",
      "model_name": "LayoutModel",
      "state": {
       "height": "32px",
       "order": "-2",
       "width": "32px"
      }
     },
     "1c4bd1fa00524c27b6f0d9036d65c1bf": {
      "model_module": "@jupyter-widgets/base",
      "model_module_version": "1.2.0",
      "model_name": "LayoutModel",
      "state": {
       "display": "flex",
       "width": "60px"
      }
     },
     "1c70d1196e1f4d6a823ff1713f566a42": {
      "model_module": "@jupyter-widgets/base",
      "model_module_version": "1.2.0",
      "model_name": "LayoutModel",
      "state": {
       "height": "32px",
       "overflow": "visible",
       "width": "100%"
      }
     },
     "1c7c79bd21794f219b0115b0ffc79621": {
      "model_module": "@jupyter-widgets/base",
      "model_module_version": "1.2.0",
      "model_name": "LayoutModel",
      "state": {
       "order": "-1",
       "overflow": "visible",
       "padding": "1px",
       "width": "0px"
      }
     },
     "1cc76a1ebfe149ab8aa3d02f00bd65e3": {
      "model_module": "@jupyter-widgets/base",
      "model_module_version": "1.2.0",
      "model_name": "LayoutModel",
      "state": {
       "order": "-1",
       "overflow": "visible",
       "padding": "1px",
       "width": "0px"
      }
     },
     "1cf5239428104809b475dfe60dca10b4": {
      "model_module": "@jupyter-widgets/controls",
      "model_module_version": "1.5.0",
      "model_name": "DescriptionStyleModel",
      "state": {
       "description_width": ""
      }
     },
     "1d0ae48ae8e64775a0ffb0e8dd9b3421": {
      "model_module": "@jupyter-widgets/controls",
      "model_module_version": "1.5.0",
      "model_name": "ProgressStyleModel",
      "state": {
       "description_width": ""
      }
     },
     "1d0c55a950d74d06a216ed3868da0342": {
      "model_module": "@jupyter-widgets/controls",
      "model_module_version": "1.5.0",
      "model_name": "DescriptionStyleModel",
      "state": {
       "description_width": ""
      }
     },
     "1d2045cd6ae64fc8ba3b5303fa845cdc": {
      "model_module": "@jupyter-widgets/controls",
      "model_module_version": "1.5.0",
      "model_name": "LabelModel",
      "state": {
       "layout": "IPY_MODEL_20b4f02349a04748b2471c1fc2d3e424",
       "style": "IPY_MODEL_72f9119ce98247d3b2a1398bdee0ef85",
       "value": "Subclass:"
      }
     },
     "1d4e4197183f4323b8061fff65ff3587": {
      "model_module": "@jupyter-widgets/base",
      "model_module_version": "1.2.0",
      "model_name": "LayoutModel",
      "state": {
       "display": "flex",
       "width": "60px"
      }
     },
     "1d90307c1ca9455aa1b84d26900ed0c4": {
      "model_module": "@jupyter-widgets/base",
      "model_module_version": "1.2.0",
      "model_name": "LayoutModel",
      "state": {
       "height": "32px",
       "overflow": "visible",
       "width": "100%"
      }
     },
     "1da297ee9e334449b2a1849691f04242": {
      "model_module": "@jupyter-widgets/controls",
      "model_module_version": "1.5.0",
      "model_name": "DescriptionStyleModel",
      "state": {
       "description_width": ""
      }
     },
     "1da7d96dea374fb5822d466f90231106": {
      "model_module": "@jupyter-widgets/controls",
      "model_module_version": "1.5.0",
      "model_name": "ButtonStyleModel",
      "state": {}
     },
     "1e241570eefe43fd9413b91eeb2abe9a": {
      "model_module": "@jupyter-widgets/controls",
      "model_module_version": "1.5.0",
      "model_name": "IntProgressModel",
      "state": {
       "layout": "IPY_MODEL_826c8382efe34d75b87520df8cbf29b1",
       "max": 200,
       "style": "IPY_MODEL_ed739ddd2f2844c9a23c5af583db2aea",
       "value": 192
      }
     },
     "1e2e8640d0be4bd8933761194a8ad595": {
      "model_module": "@jupyter-widgets/controls",
      "model_module_version": "1.5.0",
      "model_name": "HBoxModel",
      "state": {
       "children": [
        "IPY_MODEL_cc202efaabcf4bc0816ad096477dd867",
        "IPY_MODEL_e3497c2386e5458fb6ef287b87fc5b4e",
        "IPY_MODEL_2e506d7c5e704ae2a6922752503d3c2a",
        "IPY_MODEL_d54f846a555143e386656b29d9c9f6ac"
       ],
       "layout": "IPY_MODEL_e96b90c698714bfaac44c6adfc0f990f"
      }
     },
     "1e8e7653ce57411d823d039682af7690": {
      "model_module": "@jupyter-widgets/controls",
      "model_module_version": "1.5.0",
      "model_name": "HBoxModel",
      "state": {
       "children": [
        "IPY_MODEL_c41f757e9eb24982836d32cafcd8033b",
        "IPY_MODEL_4e20dff61ea542f8beaaf04293fab47b",
        "IPY_MODEL_f63c45e477bd4740bb74b4f47fed534d",
        "IPY_MODEL_cd640fcc833a4c25b6ee4fdce8b0fa8d"
       ],
       "layout": "IPY_MODEL_b815ddda62524eb083617628859b2225"
      }
     },
     "1edac5438de8436bbd14bce3f5a04474": {
      "model_module": "@jupyter-widgets/controls",
      "model_module_version": "1.5.0",
      "model_name": "VBoxModel",
      "state": {
       "children": [
        "IPY_MODEL_c3e63bf3604b4ff6acf02b6f5362c3e2",
        "IPY_MODEL_6ecaa28afa7f477c83d569363a97d4f8",
        "IPY_MODEL_273bfc3c992f483e8b6a7f1dadc3b9f3",
        "IPY_MODEL_5a3d3104ea20465f9b036731c6c5cfe7"
       ],
       "layout": "IPY_MODEL_d65f63fb085d422d91509f1543a0a3c6"
      }
     },
     "1eec27fcac2c42afb210463bbb938e64": {
      "model_module": "@jupyter-widgets/controls",
      "model_module_version": "1.5.0",
      "model_name": "ButtonModel",
      "state": {
       "description": "EDIT",
       "layout": "IPY_MODEL_9f53955e2d52431babcfe3e7377a0e76",
       "style": "IPY_MODEL_118aa8c71c52404da5e5d4b1a45d3dff"
      }
     },
     "1f2e409ba4aa4665927d137820d9c898": {
      "model_module": "@jupyter-widgets/base",
      "model_module_version": "1.2.0",
      "model_name": "LayoutModel",
      "state": {
       "display": "none"
      }
     },
     "1f66f32320674481bb48fcfb53db7820": {
      "model_module": "@jupyter-widgets/controls",
      "model_module_version": "1.5.0",
      "model_name": "ButtonStyleModel",
      "state": {}
     },
     "1fc46657f57246de838afc3477dd49bc": {
      "model_module": "@jupyter-widgets/controls",
      "model_module_version": "1.5.0",
      "model_name": "DescriptionStyleModel",
      "state": {
       "description_width": ""
      }
     },
     "1fd67a83b6504a91992b2208043ec5f0": {
      "model_module": "@jupyter-widgets/controls",
      "model_module_version": "1.5.0",
      "model_name": "HTMLModel",
      "state": {
       "layout": "IPY_MODEL_b08c5983448243f7b7972e90ef89a4b3",
       "style": "IPY_MODEL_6c2b046e868a40bfa71505c14dc8d832",
       "value": "<font size=\"5\"><b>Skolas</b></font size=>"
      }
     },
     "1fe583baabb14336bf61c5a731bf5fc8": {
      "model_module": "@jupyter-widgets/base",
      "model_module_version": "1.2.0",
      "model_name": "LayoutModel",
      "state": {}
     },
     "20050c83c606488ebe2cfd7e6edd49ae": {
      "model_module": "@jupyter-widgets/base",
      "model_module_version": "1.2.0",
      "model_name": "LayoutModel",
      "state": {
       "height": "32px",
       "order": "-2",
       "width": "32px"
      }
     },
     "200e721da79b47c6858e8e79d72d1c61": {
      "model_module": "@jupyter-widgets/controls",
      "model_module_version": "1.5.0",
      "model_name": "ProgressStyleModel",
      "state": {
       "description_width": ""
      }
     },
     "2050cd2b2b99477b8e849353901e897e": {
      "model_module": "@jupyter-widgets/controls",
      "model_module_version": "1.5.0",
      "model_name": "ButtonModel",
      "state": {
       "description": "EDIT",
       "layout": "IPY_MODEL_53a663c59c084127bcf66cb2d8db0ca3",
       "style": "IPY_MODEL_2a641f52b8be475eab2817510257a5d6"
      }
     },
     "206056aa8deb4325ad7375a4223951e6": {
      "model_module": "@jupyter-widgets/controls",
      "model_module_version": "1.5.0",
      "model_name": "HBoxModel",
      "state": {
       "children": [
        "IPY_MODEL_5116da6e3d194216b213bfdaf2f744e9",
        "IPY_MODEL_850fadec5e54411692429fca84cc8943",
        "IPY_MODEL_b3b18a3faea1486586cf769e5323f8dd",
        "IPY_MODEL_7ca1cfa28f184f8ea67de42bd9e2974d"
       ],
       "layout": "IPY_MODEL_e442cccc48174573bab8e64a9acfca93"
      }
     },
     "207999b7c72b45e3a85083104e046364": {
      "model_module": "@jupyter-widgets/controls",
      "model_module_version": "1.5.0",
      "model_name": "ButtonModel",
      "state": {
       "button_style": "success",
       "disabled": true,
       "layout": "IPY_MODEL_9e088475359248a59f0d79f018f5a326",
       "style": "IPY_MODEL_26a0ded1f6dd473580c27b69627fd9c4"
      }
     },
     "2090db523fe34336bdcc51149fcbdfd2": {
      "model_module": "@jupyter-widgets/controls",
      "model_module_version": "1.5.0",
      "model_name": "ButtonModel",
      "state": {
       "description": "EDIT",
       "layout": "IPY_MODEL_3174eb4417da484196c56010c01b8105",
       "style": "IPY_MODEL_690722e6528a4ce78c5b53fafc43a1ed"
      }
     },
     "20afad351bdf4be79d1d9b2e7bf9f610": {
      "model_module": "@jupyter-widgets/base",
      "model_module_version": "1.2.0",
      "model_name": "LayoutModel",
      "state": {}
     },
     "20b4f02349a04748b2471c1fc2d3e424": {
      "model_module": "@jupyter-widgets/base",
      "model_module_version": "1.2.0",
      "model_name": "LayoutModel",
      "state": {}
     },
     "20b664c635e44ee491d41d849940e029": {
      "model_module": "@jupyter-widgets/controls",
      "model_module_version": "1.5.0",
      "model_name": "ButtonModel",
      "state": {
       "description": "EDIT",
       "layout": "IPY_MODEL_238d52f9819343f3a19aba478efd6ae5",
       "style": "IPY_MODEL_86ffc71dfce3476b9ca54b86c2f52c1c"
      }
     },
     "20fe8ef4c7d04a62b5c0a8b87f11b5a6": {
      "model_module": "@jupyter-widgets/controls",
      "model_module_version": "1.5.0",
      "model_name": "ButtonStyleModel",
      "state": {}
     },
     "2130ad9999eb451d873377ee792c7169": {
      "model_module": "@jupyter-widgets/controls",
      "model_module_version": "1.5.0",
      "model_name": "IntProgressModel",
      "state": {
       "layout": "IPY_MODEL_eed472822bea4f84ab76b5df069101a5",
       "max": 1,
       "style": "IPY_MODEL_4fdce07f95684d7798df7f05bbcc3d1a"
      }
     },
     "217741a824f24761aef6f6573395d82d": {
      "model_module": "@jupyter-widgets/base",
      "model_module_version": "1.2.0",
      "model_name": "LayoutModel",
      "state": {
       "display": "none"
      }
     },
     "2180da0ee16b477892a940f8ba2f535e": {
      "model_module": "@jupyter-widgets/controls",
      "model_module_version": "1.5.0",
      "model_name": "ProgressStyleModel",
      "state": {
       "description_width": ""
      }
     },
     "21a788d3bed44c27bc9eba899eddc99e": {
      "model_module": "@jupyter-widgets/controls",
      "model_module_version": "1.5.0",
      "model_name": "ButtonStyleModel",
      "state": {}
     },
     "21a8516f9a524d789ded49937de62681": {
      "model_module": "@jupyter-widgets/controls",
      "model_module_version": "1.5.0",
      "model_name": "HBoxModel",
      "state": {
       "children": [
        "IPY_MODEL_207999b7c72b45e3a85083104e046364",
        "IPY_MODEL_c30d08a7c8da435a8cbccae57767f44b",
        "IPY_MODEL_c92fab44854b4502b05a9b4849871ebb",
        "IPY_MODEL_182eddd3247547569102e7f767621a92"
       ],
       "layout": "IPY_MODEL_cc038b9010154581a7431dd1d9df2bd8"
      }
     },
     "21b0439dbf0a4b9bb8d6452efa7d857e": {
      "model_module": "@jupyter-widgets/controls",
      "model_module_version": "1.5.0",
      "model_name": "HTMLModel",
      "state": {
       "layout": "IPY_MODEL_2f6385010548433aabdd15683b4c1cda",
       "style": "IPY_MODEL_fe1194cd16384886b15b29a99950816c",
       "value": "<i>Complete the Coliseum Champion challenge.</i>"
      }
     },
     "21d8edd7313b404ea551aa0a02662c19": {
      "model_module": "@jupyter-widgets/controls",
      "model_module_version": "1.5.0",
      "model_name": "HTMLModel",
      "state": {
       "layout": "IPY_MODEL_4d8fa66a9cd340b7acdf540cd2e5bcb3",
       "style": "IPY_MODEL_afc5acc9030240d5b2b4a3aa25ad42a6",
       "value": "<i>Achieve a Glory rank of \"Legend\" in any season.</i>"
      }
     },
     "2211b5871bfb4aef82ce2ef906fb6f85": {
      "model_module": "@jupyter-widgets/base",
      "model_module_version": "1.2.0",
      "model_name": "LayoutModel",
      "state": {
       "height": "300px",
       "justify_content": "space-between"
      }
     },
     "222a409e34b64d2c90a2d2a98e0b7f4f": {
      "model_module": "@jupyter-widgets/base",
      "model_module_version": "1.2.0",
      "model_name": "LayoutModel",
      "state": {}
     },
     "235193c2e2864218bc5649f806527279": {
      "model_module": "@jupyter-widgets/controls",
      "model_module_version": "1.5.0",
      "model_name": "VBoxModel",
      "state": {
       "children": [
        "IPY_MODEL_64f67ff80af148a4a401db609f1a0b7b",
        "IPY_MODEL_b466073f2c5c4e349a64eb9f362cf040",
        "IPY_MODEL_138529d7f3934c85b581cccbf0715c32",
        "IPY_MODEL_4fe7d92df36f4c26a214950f7b022110"
       ],
       "layout": "IPY_MODEL_23792b9670cc46ff9a36a99c3694cab4"
      }
     },
     "23599602276c417c95decac7332b0666": {
      "model_module": "@jupyter-widgets/controls",
      "model_module_version": "1.5.0",
      "model_name": "ButtonStyleModel",
      "state": {}
     },
     "23684b0b975b4343ac50dd25d0508eec": {
      "model_module": "@jupyter-widgets/controls",
      "model_module_version": "1.5.0",
      "model_name": "DescriptionStyleModel",
      "state": {
       "description_width": ""
      }
     },
     "23792b9670cc46ff9a36a99c3694cab4": {
      "model_module": "@jupyter-widgets/base",
      "model_module_version": "1.2.0",
      "model_name": "LayoutModel",
      "state": {
       "border": "3px solid white",
       "display": "flex",
       "flex": "1 1 0%",
       "margin": "10px",
       "min_width": "400px",
       "overflow": "visible",
       "padding": "10px",
       "width": "auto"
      }
     },
     "237aaeceb90446c0be8825e94a8a371f": {
      "model_module": "@jupyter-widgets/controls",
      "model_module_version": "1.5.0",
      "model_name": "DescriptionStyleModel",
      "state": {
       "description_width": ""
      }
     },
     "2385bb6f6bed41bca9df8fbeffaa491e": {
      "model_module": "@jupyter-widgets/controls",
      "model_module_version": "1.5.0",
      "model_name": "ButtonModel",
      "state": {
       "button_style": "success",
       "disabled": true,
       "layout": "IPY_MODEL_1b50f4bc6afb4734916ee07fc49e7c4b",
       "style": "IPY_MODEL_e6ff2cdcd38447d38d9a1ee31058c27c"
      }
     },
     "238d52f9819343f3a19aba478efd6ae5": {
      "model_module": "@jupyter-widgets/base",
      "model_module_version": "1.2.0",
      "model_name": "LayoutModel",
      "state": {
       "display": "flex",
       "width": "60px"
      }
     },
     "238e363faf0d43d5bfc53c5b2cde9f4b": {
      "model_module": "@jupyter-widgets/controls",
      "model_module_version": "1.5.0",
      "model_name": "ButtonModel",
      "state": {
       "description": "EDIT",
       "layout": "IPY_MODEL_84c32ee3f06247c08efcc75273a34098",
       "style": "IPY_MODEL_048d3b9de6da4f6bb172290fa5c10819"
      }
     },
     "23c1e111d89b4a1f85d3afa017ef9f8e": {
      "model_module": "@jupyter-widgets/base",
      "model_module_version": "1.2.0",
      "model_name": "LayoutModel",
      "state": {
       "height": "32px",
       "order": "-2",
       "width": "32px"
      }
     },
     "23ee15580b574ca7a6c8797fdf9e51aa": {
      "model_module": "@jupyter-widgets/base",
      "model_module_version": "1.2.0",
      "model_name": "LayoutModel",
      "state": {
       "height": "32px",
       "overflow": "visible",
       "width": "100%"
      }
     },
     "241a5c77581d426389106e437c64d411": {
      "model_module": "@jupyter-widgets/controls",
      "model_module_version": "1.5.0",
      "model_name": "DropdownModel",
      "state": {
       "_options_labels": [
        "Any",
        "Arc",
        "Solar",
        "Void"
       ],
       "index": 0,
       "layout": "IPY_MODEL_7de46c5a10344d3c9922541b9839e37d",
       "style": "IPY_MODEL_abf3396cdfb24ec08ba77fc7a89cd605"
      }
     },
     "2425d5c86fcf42a58737b58528c184d7": {
      "model_module": "@jupyter-widgets/controls",
      "model_module_version": "1.5.0",
      "model_name": "ButtonModel",
      "state": {
       "description": "EDIT",
       "layout": "IPY_MODEL_c0fa767d592549c988ea689c13bc692b",
       "style": "IPY_MODEL_b961c7f679e141ff9a1345393d4e0963"
      }
     },
     "244121f30b2849d49b5872b94d195341": {
      "model_module": "@jupyter-widgets/base",
      "model_module_version": "1.2.0",
      "model_name": "LayoutModel",
      "state": {
       "order": "-1",
       "overflow": "visible",
       "padding": "1px",
       "width": "0px"
      }
     },
     "244db8a5854a4b1598594d217b35a46b": {
      "model_module": "@jupyter-widgets/base",
      "model_module_version": "1.2.0",
      "model_name": "LayoutModel",
      "state": {
       "display": "flex",
       "width": "60px"
      }
     },
     "246b8974e2c64e9988871b2fd3334c52": {
      "model_module": "@jupyter-widgets/base",
      "model_module_version": "1.2.0",
      "model_name": "LayoutModel",
      "state": {
       "height": "32px",
       "overflow": "visible",
       "width": "100%"
      }
     },
     "247937f3b5704dad86e674d5b7305772": {
      "model_module": "@jupyter-widgets/base",
      "model_module_version": "1.2.0",
      "model_name": "LayoutModel",
      "state": {
       "display": "none"
      }
     },
     "24b1f3a21aad423f8807ff088ad3a3ef": {
      "model_module": "@jupyter-widgets/base",
      "model_module_version": "1.2.0",
      "model_name": "LayoutModel",
      "state": {
       "display": "flex"
      }
     },
     "250a8e68523843fcabe0a5bb5ca427c8": {
      "model_module": "@jupyter-widgets/controls",
      "model_module_version": "1.5.0",
      "model_name": "LabelModel",
      "state": {
       "layout": "IPY_MODEL_5599c586d5774961bd359df0fc51c5b5",
       "style": "IPY_MODEL_6d838bc8e1e54f409be6b8da4718568a",
       "value": "    Bosses defeated (0/20)"
      }
     },
     "250b341c97ba472eafd5ea5f62bcf868": {
      "model_module": "@jupyter-widgets/controls",
      "model_module_version": "1.5.0",
      "model_name": "ButtonModel",
      "state": {
       "description": "EDIT",
       "layout": "IPY_MODEL_54b0395b1c5a43eab70ac29cb52f40af",
       "style": "IPY_MODEL_20fe8ef4c7d04a62b5c0a8b87f11b5a6"
      }
     },
     "252bc2c49fad4e829f45a6a2a900698c": {
      "model_module": "@jupyter-widgets/controls",
      "model_module_version": "1.5.0",
      "model_name": "DescriptionStyleModel",
      "state": {
       "description_width": ""
      }
     },
     "254e5c8be1b54c82a118ee4d4d30bb9d": {
      "model_module": "@jupyter-widgets/base",
      "model_module_version": "1.2.0",
      "model_name": "LayoutModel",
      "state": {
       "overflow": "visible",
       "width": "100%"
      }
     },
     "2564838b8f9b4db49867a353b74b7958": {
      "model_module": "@jupyter-widgets/base",
      "model_module_version": "1.2.0",
      "model_name": "LayoutModel",
      "state": {
       "display": "none"
      }
     },
     "256e4e2fdee44f16bc881c01109c9b26": {
      "model_module": "@jupyter-widgets/controls",
      "model_module_version": "1.5.0",
      "model_name": "DescriptionStyleModel",
      "state": {
       "description_width": ""
      }
     },
     "25b05ba770d645f593f5cfe345b03b86": {
      "model_module": "@jupyter-widgets/base",
      "model_module_version": "1.2.0",
      "model_name": "LayoutModel",
      "state": {
       "height": "32px",
       "order": "-2",
       "width": "32px"
      }
     },
     "26497f7ca68246c39ee2c86200bd8ffd": {
      "model_module": "@jupyter-widgets/controls",
      "model_module_version": "1.5.0",
      "model_name": "ButtonModel",
      "state": {
       "description": "EDIT",
       "layout": "IPY_MODEL_2af36ed106214097badfb718636522be",
       "style": "IPY_MODEL_102a49962e814da2874715eb6bf9d787"
      }
     },
     "2661e9fee2e54f19a774611cbba1b26c": {
      "model_module": "@jupyter-widgets/controls",
      "model_module_version": "1.5.0",
      "model_name": "DescriptionStyleModel",
      "state": {
       "description_width": ""
      }
     },
     "26a0ded1f6dd473580c27b69627fd9c4": {
      "model_module": "@jupyter-widgets/controls",
      "model_module_version": "1.5.0",
      "model_name": "ButtonStyleModel",
      "state": {}
     },
     "26af4eeff3174014aa9c3c3a4b680131": {
      "model_module": "@jupyter-widgets/base",
      "model_module_version": "1.2.0",
      "model_name": "LayoutModel",
      "state": {
       "display": "flex",
       "width": "60px"
      }
     },
     "26e71d13d8ab40029f0432d1c50fe0dc": {
      "model_module": "@jupyter-widgets/controls",
      "model_module_version": "1.5.0",
      "model_name": "HBoxModel",
      "state": {
       "children": [
        "IPY_MODEL_b30eeffb90824331bd608fff3dc97b62",
        "IPY_MODEL_910fd2cc8bbf4b3ab567bb58dbb31ef5",
        "IPY_MODEL_cf0d573b243f486d8b7dde4ef5a9265d",
        "IPY_MODEL_5703a900dd7f4228a544ac00f3dd1df9"
       ],
       "layout": "IPY_MODEL_2a91c9b875f54b5ebfd4cd6d62dc2f11"
      }
     },
     "27127803bcbf43debfba1edc5cff7395": {
      "model_module": "@jupyter-widgets/base",
      "model_module_version": "1.2.0",
      "model_name": "LayoutModel",
      "state": {}
     },
     "273bfc3c992f483e8b6a7f1dadc3b9f3": {
      "model_module": "@jupyter-widgets/controls",
      "model_module_version": "1.5.0",
      "model_name": "HTMLModel",
      "state": {
       "layout": "IPY_MODEL_b1617d83b4744a0296e29a9e9345aa9f",
       "style": "IPY_MODEL_1d0c55a950d74d06a216ed3868da0342",
       "value": "<i>Win a Gambit Prime match while wearing a full set of Notorious armor.</i>"
      }
     },
     "275656bdb06646f9bbdec3902b469844": {
      "model_module": "@jupyter-widgets/controls",
      "model_module_version": "1.5.0",
      "model_name": "VBoxModel",
      "state": {
       "children": [
        "IPY_MODEL_8b85baef15654b0db2a2a90e0fd3c0de",
        "IPY_MODEL_2b5926e3d4e84c3099a5d90b398fa8c0",
        "IPY_MODEL_1b7bb2ca0c7643f6875b3628873dc3f9",
        "IPY_MODEL_348f628a3feb4bcaa9be198fea756354"
       ],
       "layout": "IPY_MODEL_7d1aa94e14744cf1af250f010b9796aa"
      }
     },
     "276ac8cb08ce4dffbaaa21327671d863": {
      "model_module": "@jupyter-widgets/controls",
      "model_module_version": "1.5.0",
      "model_name": "DescriptionStyleModel",
      "state": {
       "description_width": ""
      }
     },
     "27d85c177a9f48c8a0fb617831ff6cd7": {
      "model_module": "@jupyter-widgets/base",
      "model_module_version": "1.2.0",
      "model_name": "LayoutModel",
      "state": {
       "border": "3px solid white",
       "display": "flex",
       "flex": "1 1 0%",
       "margin": "10px",
       "min_width": "400px",
       "overflow": "visible",
       "padding": "10px",
       "width": "auto"
      }
     },
     "27dbfdc29b454dd581f49c53fc119a75": {
      "model_module": "@jupyter-widgets/base",
      "model_module_version": "1.2.0",
      "model_name": "LayoutModel",
      "state": {
       "border": "3px solid white",
       "display": "flex",
       "flex": "1 1 0%",
       "margin": "10px",
       "min_width": "400px",
       "overflow": "visible",
       "padding": "10px",
       "width": "auto"
      }
     },
     "281cb5440e044c3386e2d6557cd250d7": {
      "model_module": "@jupyter-widgets/base",
      "model_module_version": "1.2.0",
      "model_name": "LayoutModel",
      "state": {
       "display": "flex"
      }
     },
     "281ed9d176b0494f8c2512280b564b77": {
      "model_module": "@jupyter-widgets/controls",
      "model_module_version": "1.5.0",
      "model_name": "ProgressStyleModel",
      "state": {
       "description_width": ""
      }
     },
     "283c7359f5af455d87f63e8734144343": {
      "model_module": "@jupyter-widgets/controls",
      "model_module_version": "1.5.0",
      "model_name": "ButtonModel",
      "state": {
       "description": "EDIT",
       "layout": "IPY_MODEL_244db8a5854a4b1598594d217b35a46b",
       "style": "IPY_MODEL_a2ceece8011e4d01b5a9ff0191f14100"
      }
     },
     "2856784acf244e8f97a617ca0cfb4b6e": {
      "model_module": "@jupyter-widgets/controls",
      "model_module_version": "1.5.0",
      "model_name": "DescriptionStyleModel",
      "state": {
       "description_width": ""
      }
     },
     "289c81c30e394ed7aed7ae670b18d6d8": {
      "model_module": "@jupyter-widgets/base",
      "model_module_version": "1.2.0",
      "model_name": "LayoutModel",
      "state": {
       "display": "none"
      }
     },
     "28a3a84efe1b4ca383ba4d9c62567f5d": {
      "model_module": "@jupyter-widgets/controls",
      "model_module_version": "1.5.0",
      "model_name": "ProgressStyleModel",
      "state": {
       "description_width": ""
      }
     },
     "28e34fd7a1fb4adeb615a81ac3f13eb0": {
      "model_module": "@jupyter-widgets/base",
      "model_module_version": "1.2.0",
      "model_name": "LayoutModel",
      "state": {
       "order": "-1",
       "overflow": "visible",
       "padding": "1px",
       "width": "0px"
      }
     },
     "2907e0efb62f41548a1d51582fe254ba": {
      "model_module": "@jupyter-widgets/base",
      "model_module_version": "1.2.0",
      "model_name": "LayoutModel",
      "state": {
       "height": "32px",
       "order": "-2",
       "width": "32px"
      }
     },
     "29099bb83f4d4521ba90e61742510fcb": {
      "model_module": "@jupyter-widgets/controls",
      "model_module_version": "1.5.0",
      "model_name": "ButtonStyleModel",
      "state": {}
     },
     "292e3872a41f4baeadbdd1299c6d709d": {
      "model_module": "@jupyter-widgets/controls",
      "model_module_version": "1.5.0",
      "model_name": "DescriptionStyleModel",
      "state": {
       "description_width": ""
      }
     },
     "294caff627bf4bc2b27f38988fedcf31": {
      "model_module": "@jupyter-widgets/controls",
      "model_module_version": "1.5.0",
      "model_name": "ProgressStyleModel",
      "state": {
       "description_width": ""
      }
     },
     "298e53125c694124b2e0889eae2373f5": {
      "model_module": "@jupyter-widgets/controls",
      "model_module_version": "1.5.0",
      "model_name": "DescriptionStyleModel",
      "state": {
       "description_width": ""
      }
     },
     "2a61ce2c8cfb490290350d35aeb00ba7": {
      "model_module": "@jupyter-widgets/base",
      "model_module_version": "1.2.0",
      "model_name": "LayoutModel",
      "state": {
       "order": "-1",
       "overflow": "visible",
       "padding": "1px",
       "width": "0px"
      }
     },
     "2a641f52b8be475eab2817510257a5d6": {
      "model_module": "@jupyter-widgets/controls",
      "model_module_version": "1.5.0",
      "model_name": "ButtonStyleModel",
      "state": {}
     },
     "2a7b5538ca5e43f280c2184b52ae40c1": {
      "model_module": "@jupyter-widgets/controls",
      "model_module_version": "1.5.0",
      "model_name": "HBoxModel",
      "state": {
       "children": [
        "IPY_MODEL_a4f9f0095a4a45b08e2ac296bf0447a2",
        "IPY_MODEL_c5123ae77a8d46729aa454f5d180e856",
        "IPY_MODEL_d395d0ca626042648d5d20bce5c173ad",
        "IPY_MODEL_acd8e2baef8146bd8397b3d5f64038bb"
       ],
       "layout": "IPY_MODEL_537179c28a1547cfaf6e2ace13f31751"
      }
     },
     "2a91c9b875f54b5ebfd4cd6d62dc2f11": {
      "model_module": "@jupyter-widgets/base",
      "model_module_version": "1.2.0",
      "model_name": "LayoutModel",
      "state": {
       "display": "flex"
      }
     },
     "2aa1c0f6ee184bd99b8a7f3cf14085ac": {
      "model_module": "@jupyter-widgets/base",
      "model_module_version": "1.2.0",
      "model_name": "LayoutModel",
      "state": {
       "order": "-1",
       "overflow": "visible",
       "padding": "1px",
       "width": "0px"
      }
     },
     "2af36ed106214097badfb718636522be": {
      "model_module": "@jupyter-widgets/base",
      "model_module_version": "1.2.0",
      "model_name": "LayoutModel",
      "state": {
       "display": "flex",
       "width": "60px"
      }
     },
     "2b2acfb2c4bd4cfc80a3ce552616f4d4": {
      "model_module": "@jupyter-widgets/controls",
      "model_module_version": "1.5.0",
      "model_name": "LabelModel",
      "state": {
       "layout": "IPY_MODEL_6b0e84fcc0ac48e08cde0f11d672adc3",
       "style": "IPY_MODEL_0bb87c8e73444d2a99f7f44affc1e49d",
       "value": "    Orbs generated (172/250)"
      }
     },
     "2b330199ffbb4db1b658d6197f3aab24": {
      "model_module": "@jupyter-widgets/base",
      "model_module_version": "1.2.0",
      "model_name": "LayoutModel",
      "state": {
       "height": "32px",
       "order": "-2",
       "width": "32px"
      }
     },
     "2b5926e3d4e84c3099a5d90b398fa8c0": {
      "model_module": "@jupyter-widgets/controls",
      "model_module_version": "1.5.0",
      "model_name": "HTMLModel",
      "state": {
       "layout": "IPY_MODEL_4f4a555168f64594a0608be9ccfbc7e5",
       "style": "IPY_MODEL_2be2c007faf6431aac6ff9a23ca9422a",
       "value": "<font size=\"5\"><b>IX</b></font size=>"
      }
     },
     "2b65a23f2ac44616bd7f5e0cf524ce29": {
      "model_module": "@jupyter-widgets/base",
      "model_module_version": "1.2.0",
      "model_name": "LayoutModel",
      "state": {
       "display": "flex",
       "width": "60px"
      }
     },
     "2ba9ac431a054fa49c3b6510f9a12c8c": {
      "model_module": "@jupyter-widgets/base",
      "model_module_version": "1.2.0",
      "model_name": "LayoutModel",
      "state": {
       "height": "32px",
       "overflow": "visible",
       "width": "100%"
      }
     },
     "2baa6a481ae745f194ada4544ff996fb": {
      "model_module": "@jupyter-widgets/base",
      "model_module_version": "1.2.0",
      "model_name": "LayoutModel",
      "state": {}
     },
     "2bc3d1e468b14380a0f1257b1364da85": {
      "model_module": "@jupyter-widgets/controls",
      "model_module_version": "1.5.0",
      "model_name": "VBoxModel",
      "state": {
       "children": [
        "IPY_MODEL_bf334496e12845faaad36462b0f04838",
        "IPY_MODEL_9fb1c5d463a34862ad6ca691a8f27d24",
        "IPY_MODEL_3936515316c64867b00701dfafbe1713",
        "IPY_MODEL_99ecff611b6146669f4a5e226a4a22fd"
       ],
       "layout": "IPY_MODEL_9a300d9fda4240c9a8bb6b309efb533d"
      }
     },
     "2bdba7b9278b482090bcd7e1c7046008": {
      "model_module": "@jupyter-widgets/base",
      "model_module_version": "1.2.0",
      "model_name": "LayoutModel",
      "state": {
       "height": "20px"
      }
     },
     "2be2c007faf6431aac6ff9a23ca9422a": {
      "model_module": "@jupyter-widgets/controls",
      "model_module_version": "1.5.0",
      "model_name": "DescriptionStyleModel",
      "state": {
       "description_width": ""
      }
     },
     "2c19ad0a6ef54ffcb77867b63cab9f0d": {
      "model_module": "@jupyter-widgets/controls",
      "model_module_version": "1.5.0",
      "model_name": "DescriptionStyleModel",
      "state": {
       "description_width": ""
      }
     },
     "2c43a708d8f549a6980a3587375f7b18": {
      "model_module": "@jupyter-widgets/base",
      "model_module_version": "1.2.0",
      "model_name": "LayoutModel",
      "state": {
       "display": "flex",
       "width": "60px"
      }
     },
     "2c7513576e9c43a19625426b1bf43d64": {
      "model_module": "@jupyter-widgets/base",
      "model_module_version": "1.2.0",
      "model_name": "LayoutModel",
      "state": {
       "height": "32px",
       "order": "-2",
       "width": "32px"
      }
     },
     "2c8eb61d13734fa7a4b5fddb52904b85": {
      "model_module": "@jupyter-widgets/controls",
      "model_module_version": "1.5.0",
      "model_name": "ButtonStyleModel",
      "state": {}
     },
     "2c923a598b49457186565bbe0125f4c9": {
      "model_module": "@jupyter-widgets/controls",
      "model_module_version": "1.5.0",
      "model_name": "ButtonStyleModel",
      "state": {}
     },
     "2c9df7132c264e6586dcf7db0f7450d4": {
      "model_module": "@jupyter-widgets/base",
      "model_module_version": "1.2.0",
      "model_name": "LayoutModel",
      "state": {
       "display": "flex"
      }
     },
     "2cbf081a09894250bf4de5920a357846": {
      "model_module": "@jupyter-widgets/controls",
      "model_module_version": "1.5.0",
      "model_name": "VBoxModel",
      "state": {
       "children": [
        "IPY_MODEL_68bc2b65a43546909bc7cb85bbc0abe8",
        "IPY_MODEL_3a3b2dc6f2a94f248b49a500006680ea",
        "IPY_MODEL_b7326abc6604463daefef9e02f25612b",
        "IPY_MODEL_1e8e7653ce57411d823d039682af7690",
        "IPY_MODEL_4bf78424bd104a57bec4d512ebdb9bd5",
        "IPY_MODEL_940679268f214a5e8cc9d8b6d481430e"
       ],
       "layout": "IPY_MODEL_8ba7d58e5e964f58b0d2debc3d397977"
      }
     },
     "2cf51b7bc74742f1b8146e2056db178a": {
      "model_module": "@jupyter-widgets/controls",
      "model_module_version": "1.5.0",
      "model_name": "ButtonModel",
      "state": {
       "layout": "IPY_MODEL_6cab5ee10ff24fe5a5784f30ffa95525",
       "style": "IPY_MODEL_5b8ef26a69654303ac9157a03c09675d"
      }
     },
     "2d0860fb37724a71a1ffcdd9a551e181": {
      "model_module": "@jupyter-widgets/controls",
      "model_module_version": "1.5.0",
      "model_name": "ProgressStyleModel",
      "state": {
       "description_width": ""
      }
     },
     "2d15e42678734fec999c118a507bb34f": {
      "model_module": "@jupyter-widgets/controls",
      "model_module_version": "1.5.0",
      "model_name": "IntProgressModel",
      "state": {
       "bar_style": "success",
       "layout": "IPY_MODEL_8849f49e306b4f8792b23977448af0e5",
       "style": "IPY_MODEL_09ad46bd014e406c8e17e8a6415771d7",
       "value": 100
      }
     },
     "2d22dae3429b43548f1eb24fba110b3e": {
      "model_module": "@jupyter-widgets/controls",
      "model_module_version": "1.5.0",
      "model_name": "IntProgressModel",
      "state": {
       "layout": "IPY_MODEL_9e28e219b1b74ecb8e0b7dbf679c0fb3",
       "style": "IPY_MODEL_1d0ae48ae8e64775a0ffb0e8dd9b3421",
       "value": 30
      }
     },
     "2d2da91932804aa78233a500f8015fb4": {
      "model_module": "@jupyter-widgets/controls",
      "model_module_version": "1.5.0",
      "model_name": "ProgressStyleModel",
      "state": {
       "description_width": ""
      }
     },
     "2d87cde9530f4b4b9178180e0c09dbeb": {
      "model_module": "@jupyter-widgets/controls",
      "model_module_version": "1.5.0",
      "model_name": "ProgressStyleModel",
      "state": {
       "description_width": ""
      }
     },
     "2da04d93cb4248c88a03381757d84f68": {
      "model_module": "@jupyter-widgets/controls",
      "model_module_version": "1.5.0",
      "model_name": "DescriptionStyleModel",
      "state": {
       "description_width": ""
      }
     },
     "2da614c73fb04b08830aaa8ced250b37": {
      "model_module": "@jupyter-widgets/base",
      "model_module_version": "1.2.0",
      "model_name": "LayoutModel",
      "state": {
       "display": "flex",
       "width": "60px"
      }
     },
     "2db62c3608d24080a38a08b6b737e91a": {
      "model_module": "@jupyter-widgets/base",
      "model_module_version": "1.2.0",
      "model_name": "LayoutModel",
      "state": {
       "order": "-1",
       "overflow": "visible",
       "padding": "1px",
       "width": "0px"
      }
     },
     "2dbf7e1af3714feba760f8393de22b39": {
      "model_module": "@jupyter-widgets/controls",
      "model_module_version": "1.5.0",
      "model_name": "DescriptionStyleModel",
      "state": {
       "description_width": ""
      }
     },
     "2e506d7c5e704ae2a6922752503d3c2a": {
      "model_module": "@jupyter-widgets/controls",
      "model_module_version": "1.5.0",
      "model_name": "LabelModel",
      "state": {
       "layout": "IPY_MODEL_5e608635e62943889456c70dd2804662",
       "style": "IPY_MODEL_d3a987b7441e4f0cb273654c354a26bd",
       "value": "    Breakers deployed (19/25)"
      }
     },
     "2e76c5b2d9f74ddba30c44fb8b6371b9": {
      "model_module": "@jupyter-widgets/base",
      "model_module_version": "1.2.0",
      "model_name": "LayoutModel",
      "state": {
       "height": "32px",
       "order": "-2",
       "width": "32px"
      }
     },
     "2ee5f466ec97443292ef63666f1b8f9d": {
      "model_module": "@jupyter-widgets/controls",
      "model_module_version": "1.5.0",
      "model_name": "ButtonModel",
      "state": {
       "button_style": "danger",
       "disabled": true,
       "layout": "IPY_MODEL_6925df3d41e34820a011d8886480003a",
       "style": "IPY_MODEL_c48a371f89df4e81b552c89141449035"
      }
     },
     "2ef8fbed28394803891c953616adf931": {
      "model_module": "@jupyter-widgets/controls",
      "model_module_version": "1.5.0",
      "model_name": "LabelModel",
      "state": {
       "layout": "IPY_MODEL_c2328a606c8d4a609a8e8798fdfb7bf3",
       "style": "IPY_MODEL_d9dba19d1ad3424792d8788ebd59f22d",
       "value": "   objective"
      }
     },
     "2f5fa85399a9472a9adc7daf464ed03b": {
      "model_module": "@jupyter-widgets/controls",
      "model_module_version": "1.5.0",
      "model_name": "DescriptionStyleModel",
      "state": {
       "description_width": ""
      }
     },
     "2f6385010548433aabdd15683b4c1cda": {
      "model_module": "@jupyter-widgets/base",
      "model_module_version": "1.2.0",
      "model_name": "LayoutModel",
      "state": {
       "display": "flex",
       "flex_flow": "row wrap"
      }
     },
     "2f9b852440f349da9b80a4e6cd46fa3f": {
      "model_module": "@jupyter-widgets/controls",
      "model_module_version": "1.5.0",
      "model_name": "ProgressStyleModel",
      "state": {
       "description_width": ""
      }
     },
     "2fcd8542bd1c45d0ad312211ccf49d8c": {
      "model_module": "@jupyter-widgets/base",
      "model_module_version": "1.2.0",
      "model_name": "LayoutModel",
      "state": {
       "order": "-1",
       "overflow": "visible",
       "padding": "1px",
       "width": "0px"
      }
     },
     "2fe2b9b73fa34ac1b97c41271bfbf3ed": {
      "model_module": "@jupyter-widgets/controls",
      "model_module_version": "1.5.0",
      "model_name": "ButtonStyleModel",
      "state": {}
     },
     "30135b0f8b4f4d3bac6bc86448fef000": {
      "model_module": "@jupyter-widgets/base",
      "model_module_version": "1.2.0",
      "model_name": "LayoutModel",
      "state": {
       "height": "32px",
       "order": "-2",
       "width": "32px"
      }
     },
     "3024625462a34ff683a273607f850b72": {
      "model_module": "@jupyter-widgets/controls",
      "model_module_version": "1.5.0",
      "model_name": "ButtonStyleModel",
      "state": {}
     },
     "30425f5295fe4f79902ac175ec2d23a9": {
      "model_module": "@jupyter-widgets/base",
      "model_module_version": "1.2.0",
      "model_name": "LayoutModel",
      "state": {
       "display": "flex",
       "flex_flow": "row wrap"
      }
     },
     "30885aaf653d4b089771a72a9b642ecb": {
      "model_module": "@jupyter-widgets/base",
      "model_module_version": "1.2.0",
      "model_name": "LayoutModel",
      "state": {
       "overflow": "visible",
       "width": "100%"
      }
     },
     "30b0dc99711d4fb4bc953f9bb30cb3f8": {
      "model_module": "@jupyter-widgets/controls",
      "model_module_version": "1.5.0",
      "model_name": "DescriptionStyleModel",
      "state": {
       "description_width": ""
      }
     },
     "31205a060e784027abef8db00d8f77d3": {
      "model_module": "@jupyter-widgets/controls",
      "model_module_version": "1.5.0",
      "model_name": "VBoxModel",
      "state": {
       "children": [
        "IPY_MODEL_0ad72e5ccbcb4d89a6517111acacd78b",
        "IPY_MODEL_603c5e7277cf45c1b1acdea81b95c0e8",
        "IPY_MODEL_db092fee06c548548c0311b834db1a66",
        "IPY_MODEL_bdab2795e5804d4d8f0eeab3055e052c"
       ],
       "layout": "IPY_MODEL_91439337af774252b7d9c59cf4b3925a"
      }
     },
     "31289d99115046fc8ac70eb55169ba48": {
      "model_module": "@jupyter-widgets/controls",
      "model_module_version": "1.5.0",
      "model_name": "ProgressStyleModel",
      "state": {
       "description_width": ""
      }
     },
     "31449b8c1871498b87731b5557870d99": {
      "model_module": "@jupyter-widgets/base",
      "model_module_version": "1.2.0",
      "model_name": "LayoutModel",
      "state": {
       "height": "32px",
       "overflow": "visible",
       "width": "100%"
      }
     },
     "3152bba3845348cf8f55ba2f3cb4e726": {
      "model_module": "@jupyter-widgets/controls",
      "model_module_version": "1.5.0",
      "model_name": "HTMLModel",
      "state": {
       "layout": "IPY_MODEL_547d8b1c884c4ac5a8da74b52b343919",
       "style": "IPY_MODEL_f2b29070406d47b88209c524b653ea3d",
       "value": "<i></i>"
      }
     },
     "3174eb4417da484196c56010c01b8105": {
      "model_module": "@jupyter-widgets/base",
      "model_module_version": "1.2.0",
      "model_name": "LayoutModel",
      "state": {
       "display": "flex",
       "width": "60px"
      }
     },
     "3185c0547b324ee6a5fdf7a9f7f8cd6e": {
      "model_module": "@jupyter-widgets/controls",
      "model_module_version": "1.5.0",
      "model_name": "ButtonModel",
      "state": {
       "layout": "IPY_MODEL_9a901afcede6452faf2020374636f4ae",
       "style": "IPY_MODEL_b7c38f5b219341028b426db638fbc49a"
      }
     },
     "31db101e0af342aa973bf21e0731c385": {
      "model_module": "@jupyter-widgets/controls",
      "model_module_version": "1.5.0",
      "model_name": "LabelModel",
      "state": {
       "layout": "IPY_MODEL_0d974c31b1a942928521d08a1e4fe25d",
       "style": "IPY_MODEL_7fce8f14e85a4b618a6f5f359daa0886",
       "value": "    Heroic missions completed (14/25)"
      }
     },
     "31f2edbc5bc54092a21aba718a62d15b": {
      "model_module": "@jupyter-widgets/controls",
      "model_module_version": "1.5.0",
      "model_name": "HBoxModel",
      "state": {
       "children": [
        "IPY_MODEL_790f96abb5eb4ad8bf8a6a30ddeaf0da",
        "IPY_MODEL_aef2d34cdb3b4b3f8aced615fe1fb7ca",
        "IPY_MODEL_13d8d80af1ba4b8d91b57dd9262142bf",
        "IPY_MODEL_093c8b23c8f54dd4aaed0c956fab6ab4"
       ],
       "layout": "IPY_MODEL_b03793c417864d38b1c2f65f3d0f5dda"
      }
     },
     "321e2ddaa61f494d9387c482c9b1d636": {
      "model_module": "@jupyter-widgets/base",
      "model_module_version": "1.2.0",
      "model_name": "LayoutModel",
      "state": {
       "height": "32px",
       "overflow": "visible",
       "width": "100%"
      }
     },
     "3225d5b7f79b4e32b0673cea1a647ae9": {
      "model_module": "@jupyter-widgets/controls",
      "model_module_version": "1.5.0",
      "model_name": "ButtonModel",
      "state": {
       "description": "EDIT",
       "layout": "IPY_MODEL_7ddbca6b6b8546b097e9f0dc3bba1b97",
       "style": "IPY_MODEL_935e6381f77a4e3fbee497d0d94260dd"
      }
     },
     "32448993d79448f7b9a2fd5610d71168": {
      "model_module": "@jupyter-widgets/controls",
      "model_module_version": "1.5.0",
      "model_name": "ButtonStyleModel",
      "state": {}
     },
     "32544b69d92946a5a7a2297d5368e265": {
      "model_module": "@jupyter-widgets/base",
      "model_module_version": "1.2.0",
      "model_name": "LayoutModel",
      "state": {
       "height": "32px",
       "order": "-2",
       "width": "32px"
      }
     },
     "32f862295a254c828f27c917172cb691": {
      "model_module": "@jupyter-widgets/controls",
      "model_module_version": "1.5.0",
      "model_name": "DescriptionStyleModel",
      "state": {
       "description_width": ""
      }
     },
     "330c327bd6d34786ae5a273a6dfa7960": {
      "model_module": "@jupyter-widgets/controls",
      "model_module_version": "1.5.0",
      "model_name": "ButtonStyleModel",
      "state": {}
     },
     "330d5b40f3874d8b89e1858792b3fb95": {
      "model_module": "@jupyter-widgets/base",
      "model_module_version": "1.2.0",
      "model_name": "LayoutModel",
      "state": {
       "height": "32px",
       "order": "-2",
       "width": "32px"
      }
     },
     "3320edce0a3f4099ae413184c1f93d48": {
      "model_module": "@jupyter-widgets/base",
      "model_module_version": "1.2.0",
      "model_name": "LayoutModel",
      "state": {}
     },
     "335a587e69e642f6a2ec93608cb9685c": {
      "model_module": "@jupyter-widgets/controls",
      "model_module_version": "1.5.0",
      "model_name": "ButtonStyleModel",
      "state": {}
     },
     "33a682e0d78049eab7aa554dd40f4627": {
      "model_module": "@jupyter-widgets/controls",
      "model_module_version": "1.5.0",
      "model_name": "ButtonModel",
      "state": {
       "layout": "IPY_MODEL_ee60b60b160d4956a474224c4ce34ad2",
       "style": "IPY_MODEL_29099bb83f4d4521ba90e61742510fcb"
      }
     },
     "33c5fb48b48047c7be71c7c0cfa96252": {
      "model_module": "@jupyter-widgets/controls",
      "model_module_version": "1.5.0",
      "model_name": "ProgressStyleModel",
      "state": {
       "description_width": ""
      }
     },
     "33eb3f641b8a4463950e1527a6c3551e": {
      "model_module": "@jupyter-widgets/controls",
      "model_module_version": "1.5.0",
      "model_name": "ButtonModel",
      "state": {
       "description": "EDIT",
       "layout": "IPY_MODEL_661d0386cbdf41bbb9ffb1892d84d99c",
       "style": "IPY_MODEL_c40978d49a174d7d9f8c5f4884d06f88"
      }
     },
     "33f1460af58f49328b8d3ec92b59ed85": {
      "model_module": "@jupyter-widgets/controls",
      "model_module_version": "1.5.0",
      "model_name": "LabelModel",
      "state": {
       "layout": "IPY_MODEL_1898752ca1ef4c6dae184dc8d73c0fbc",
       "style": "IPY_MODEL_b1f20f4b49e645b5aa2757c99144034a",
       "value": "Complete4!"
      }
     },
     "344dff32aac24c67898aadcaa060622f": {
      "model_module": "@jupyter-widgets/controls",
      "model_module_version": "1.5.0",
      "model_name": "ButtonModel",
      "state": {
       "button_style": "danger",
       "disabled": true,
       "layout": "IPY_MODEL_9ef1291594a7410f83c939a1fd448df2",
       "style": "IPY_MODEL_e328ef88264f40a1b460294be1875a67"
      }
     },
     "348717f5580d475e80358fca4a4d864a": {
      "model_module": "@jupyter-widgets/controls",
      "model_module_version": "1.5.0",
      "model_name": "DescriptionStyleModel",
      "state": {
       "description_width": ""
      }
     },
     "348f628a3feb4bcaa9be198fea756354": {
      "model_module": "@jupyter-widgets/controls",
      "model_module_version": "1.5.0",
      "model_name": "VBoxModel",
      "state": {
       "children": [
        "IPY_MODEL_08d8f2d693d54671b36bc006f7b275a7",
        "IPY_MODEL_1e2e8640d0be4bd8933761194a8ad595",
        "IPY_MODEL_5027da749aa34d7880d5d03e2e627d37",
        "IPY_MODEL_ffd1781a9c9b491381379ff7e84803cd",
        "IPY_MODEL_64a3fdc99b3f4a1fa68e22588a8a952d",
        "IPY_MODEL_db54e659fb7a41e4a26db2b632ba8453"
       ],
       "layout": "IPY_MODEL_4a00b6c5242844c3a15e2a2292bf23ea"
      }
     },
     "349170a60b2c4cc09c78503331ca8a6e": {
      "model_module": "@jupyter-widgets/base",
      "model_module_version": "1.2.0",
      "model_name": "LayoutModel",
      "state": {
       "order": "-1",
       "overflow": "visible",
       "padding": "1px",
       "width": "0px"
      }
     },
     "34c7939461e54ca2b78b6c930112ffbf": {
      "model_module": "@jupyter-widgets/base",
      "model_module_version": "1.2.0",
      "model_name": "LayoutModel",
      "state": {
       "height": "32px",
       "order": "-2",
       "width": "32px"
      }
     },
     "34f259e4401547ed923542fdb8cd8bab": {
      "model_module": "@jupyter-widgets/controls",
      "model_module_version": "1.5.0",
      "model_name": "LabelModel",
      "state": {
       "layout": "IPY_MODEL_b8730df954e640b5a05e4441d52b1d6f",
       "style": "IPY_MODEL_23684b0b975b4343ac50dd25d0508eec",
       "value": "    Invitations answered (0/1)"
      }
     },
     "3522647216ea4276bd4267bed64df84a": {
      "model_module": "@jupyter-widgets/controls",
      "model_module_version": "1.5.0",
      "model_name": "DescriptionStyleModel",
      "state": {
       "description_width": ""
      }
     },
     "3527abccef0d4998a5ba17f9e6a746d1": {
      "model_module": "@jupyter-widgets/controls",
      "model_module_version": "1.5.0",
      "model_name": "DescriptionStyleModel",
      "state": {
       "description_width": ""
      }
     },
     "353295f0ba2149eeb0b64c3089a96951": {
      "model_module": "@jupyter-widgets/base",
      "model_module_version": "1.2.0",
      "model_name": "LayoutModel",
      "state": {
       "display": "flex"
      }
     },
     "35384d727f064c3fb4bd63376ac36ffb": {
      "model_module": "@jupyter-widgets/base",
      "model_module_version": "1.2.0",
      "model_name": "LayoutModel",
      "state": {
       "display": "none"
      }
     },
     "35489acfba79448084725667ea96ba5e": {
      "model_module": "@jupyter-widgets/base",
      "model_module_version": "1.2.0",
      "model_name": "LayoutModel",
      "state": {
       "display": "flex",
       "width": "60px"
      }
     },
     "3582d4a810de4017840ef6dec4ee6896": {
      "model_module": "@jupyter-widgets/base",
      "model_module_version": "1.2.0",
      "model_name": "LayoutModel",
      "state": {
       "display": "flex",
       "flex_flow": "row wrap"
      }
     },
     "35a8b232d82f4947b66213e57250bfc3": {
      "model_module": "@jupyter-widgets/base",
      "model_module_version": "1.2.0",
      "model_name": "LayoutModel",
      "state": {
       "display": "none"
      }
     },
     "35b18ca9dddd40af80706d52c15f3ad7": {
      "model_module": "@jupyter-widgets/controls",
      "model_module_version": "1.5.0",
      "model_name": "DescriptionStyleModel",
      "state": {
       "description_width": ""
      }
     },
     "35cbc5033a7a4a94bf62b7f06c80e8cf": {
      "model_module": "@jupyter-widgets/controls",
      "model_module_version": "1.5.0",
      "model_name": "ButtonStyleModel",
      "state": {}
     },
     "3626b313129d402691f84811a168b2c2": {
      "model_module": "@jupyter-widgets/controls",
      "model_module_version": "1.5.0",
      "model_name": "ButtonStyleModel",
      "state": {}
     },
     "363dce3908cc412fa253c2b8658cede2": {
      "model_module": "@jupyter-widgets/base",
      "model_module_version": "1.2.0",
      "model_name": "LayoutModel",
      "state": {
       "display": "none"
      }
     },
     "365526a2082c4485b8f2d52b05ed0464": {
      "model_module": "@jupyter-widgets/base",
      "model_module_version": "1.2.0",
      "model_name": "LayoutModel",
      "state": {
       "height": "32px",
       "overflow": "visible",
       "width": "100%"
      }
     },
     "3674de109bd44b19814c42bd734d3160": {
      "model_module": "@jupyter-widgets/controls",
      "model_module_version": "1.5.0",
      "model_name": "ButtonModel",
      "state": {
       "description": "EDIT",
       "layout": "IPY_MODEL_39a9ca9b777b4932a01882de0d8b0fc8",
       "style": "IPY_MODEL_015a4be792d2437284a4073288d1fa58"
      }
     },
     "368db731c73f4c12afcef9ede85296d3": {
      "model_module": "@jupyter-widgets/controls",
      "model_module_version": "1.5.0",
      "model_name": "HBoxModel",
      "state": {
       "children": [
        "IPY_MODEL_566989441a5c43e2b2018d89b36b61af",
        "IPY_MODEL_8bcdbccfb2644537ae96d4222b4ac5a5",
        "IPY_MODEL_f046312c687646698a9377fb584b3b1f",
        "IPY_MODEL_3f61b373a3984e7fa032db2a7af7ddd1"
       ],
       "layout": "IPY_MODEL_289c81c30e394ed7aed7ae670b18d6d8"
      }
     },
     "36b79c3a70454918ac8678643402cc7c": {
      "model_module": "@jupyter-widgets/base",
      "model_module_version": "1.2.0",
      "model_name": "LayoutModel",
      "state": {
       "order": "-1",
       "overflow": "visible",
       "padding": "1px",
       "width": "0px"
      }
     },
     "36c180c0f6654cb2b4d9ac9cf5c3dce6": {
      "model_module": "@jupyter-widgets/base",
      "model_module_version": "1.2.0",
      "model_name": "LayoutModel",
      "state": {
       "display": "flex",
       "width": "60px"
      }
     },
     "374d01e35a364355bae8dff71b89b2ed": {
      "model_module": "@jupyter-widgets/controls",
      "model_module_version": "1.5.0",
      "model_name": "LabelModel",
      "state": {
       "layout": "IPY_MODEL_d271472c18254375a35fc40b508a2f49",
       "style": "IPY_MODEL_cb4f937077b840bdb338b6548ccfba14",
       "value": "     (0/1)"
      }
     },
     "37b6a7004607421597c59cff5b405106": {
      "model_module": "@jupyter-widgets/controls",
      "model_module_version": "1.5.0",
      "model_name": "ButtonModel",
      "state": {
       "description": "EDIT",
       "layout": "IPY_MODEL_cfcc22c1385c437293ab702072299a51",
       "style": "IPY_MODEL_52702998f04347f09e0cb19770500d40"
      }
     },
     "37d2429c083440708ffb8bc5295b1a73": {
      "model_module": "@jupyter-widgets/base",
      "model_module_version": "1.2.0",
      "model_name": "LayoutModel",
      "state": {
       "height": "32px",
       "order": "-2",
       "width": "32px"
      }
     },
     "37e4e1bf733a4c028c1e89379a4a9aa2": {
      "model_module": "@jupyter-widgets/controls",
      "model_module_version": "1.5.0",
      "model_name": "VBoxModel",
      "state": {
       "children": [
        "IPY_MODEL_b28ae131172c4a1f86251747b0a9817e",
        "IPY_MODEL_847f3ca321394f60a1be1ca4b3ddf47f",
        "IPY_MODEL_633eb959eef54af0b5ecda2dc4cf0e3e",
        "IPY_MODEL_cb923f611fc843e2955149c9b2e92126"
       ],
       "layout": "IPY_MODEL_40bad77f1243486ea599f9a179183a99"
      }
     },
     "37eaaa3ec8db4fb7a07f0b1e2cef4b36": {
      "model_module": "@jupyter-widgets/controls",
      "model_module_version": "1.5.0",
      "model_name": "ProgressStyleModel",
      "state": {
       "description_width": ""
      }
     },
     "382dc69ea6bc45cc83a25025ed43c4db": {
      "model_module": "@jupyter-widgets/base",
      "model_module_version": "1.2.0",
      "model_name": "LayoutModel",
      "state": {
       "display": "flex",
       "width": "60px"
      }
     },
     "38579c2fe0e34e5e8745610b56d60bc0": {
      "model_module": "@jupyter-widgets/base",
      "model_module_version": "1.2.0",
      "model_name": "LayoutModel",
      "state": {}
     },
     "387dec890a97407491dad9862835c601": {
      "model_module": "@jupyter-widgets/controls",
      "model_module_version": "1.5.0",
      "model_name": "LabelModel",
      "state": {
       "layout": "IPY_MODEL_892cd46e450a46aaab3528ddfbf77632",
       "style": "IPY_MODEL_e28293cdbce54d7f845c519eb931ea3f",
       "value": "    Supers cast (210/100)"
      }
     },
     "38c6e204d39f41849685f28aecc2ced8": {
      "model_module": "@jupyter-widgets/controls",
      "model_module_version": "1.5.0",
      "model_name": "ButtonStyleModel",
      "state": {}
     },
     "38cc6eff61d846c594b9ca0e684a8a1c": {
      "model_module": "@jupyter-widgets/base",
      "model_module_version": "1.2.0",
      "model_name": "LayoutModel",
      "state": {}
     },
     "38d999fb09d4465ea999473f2737c69d": {
      "model_module": "@jupyter-widgets/controls",
      "model_module_version": "1.5.0",
      "model_name": "IntProgressModel",
      "state": {
       "layout": "IPY_MODEL_4e00711293fb4747ba9b18f3222d6b27",
       "style": "IPY_MODEL_b7272817da074bca8756b04e8be70bdf",
       "value": 30
      }
     },
     "39280cb8236c4d07b003d889f918650a": {
      "model_module": "@jupyter-widgets/controls",
      "model_module_version": "1.5.0",
      "model_name": "IntProgressModel",
      "state": {
       "layout": "IPY_MODEL_9ed8212b725a4a12b57341399adf61b2",
       "max": 25,
       "style": "IPY_MODEL_162781087a35429fa0bd3d7f6bf820ac",
       "value": 19
      }
     },
     "392ced3237d0436199c3f5893619fe87": {
      "model_module": "@jupyter-widgets/controls",
      "model_module_version": "1.5.0",
      "model_name": "ButtonStyleModel",
      "state": {}
     },
     "3930590c893547b5b6b01658f4a7a5d7": {
      "model_module": "@jupyter-widgets/controls",
      "model_module_version": "1.5.0",
      "model_name": "ButtonModel",
      "state": {
       "description": "Sign In",
       "layout": "IPY_MODEL_e2627e4b452542c7a9d58f8c563851c5",
       "style": "IPY_MODEL_98707641787f4d5ca0baef4664605522"
      }
     },
     "3936515316c64867b00701dfafbe1713": {
      "model_module": "@jupyter-widgets/controls",
      "model_module_version": "1.5.0",
      "model_name": "HTMLModel",
      "state": {
       "layout": "IPY_MODEL_0b8c08d2c9ff425ba6b3d5c24d1979bf",
       "style": "IPY_MODEL_132ea58114fb411ea3cc634d87c45c64",
       "value": "<i>During the Revelry 2019, defeat bosses in the Verdant Forest while wearing at least four pieces of the Inaugural Revelry armor set.</i>"
      }
     },
     "393b7410b7de4a278bd921d265c237d4": {
      "model_module": "@jupyter-widgets/base",
      "model_module_version": "1.2.0",
      "model_name": "LayoutModel",
      "state": {
       "height": "32px",
       "overflow": "visible",
       "width": "100%"
      }
     },
     "3945faae9e494a38b35af445ffe9a1a4": {
      "model_module": "@jupyter-widgets/controls",
      "model_module_version": "1.5.0",
      "model_name": "DescriptionStyleModel",
      "state": {
       "description_width": ""
      }
     },
     "3959e598206443f4a04f956676480b5f": {
      "model_module": "@jupyter-widgets/controls",
      "model_module_version": "1.5.0",
      "model_name": "DescriptionStyleModel",
      "state": {
       "description_width": ""
      }
     },
     "39697fc72c38452faa8179c27961d5ed": {
      "model_module": "@jupyter-widgets/controls",
      "model_module_version": "1.5.0",
      "model_name": "VBoxModel",
      "state": {
       "children": [
        "IPY_MODEL_5fe06f3bfd0a450bb0ed0908da9ddacd",
        "IPY_MODEL_8fbf476358c04bb1add854f04081bf01"
       ],
       "layout": "IPY_MODEL_7e4dc20294174b65968a823f549ba31f"
      }
     },
     "39a75a50f2dc46ad87e40623eca7494a": {
      "model_module": "@jupyter-widgets/base",
      "model_module_version": "1.2.0",
      "model_name": "LayoutModel",
      "state": {
       "overflow": "visible",
       "width": "100%"
      }
     },
     "39a9ca9b777b4932a01882de0d8b0fc8": {
      "model_module": "@jupyter-widgets/base",
      "model_module_version": "1.2.0",
      "model_name": "LayoutModel",
      "state": {
       "display": "flex",
       "width": "60px"
      }
     },
     "39afac0ea7cd4008b55544178d739ba1": {
      "model_module": "@jupyter-widgets/controls",
      "model_module_version": "1.5.0",
      "model_name": "ButtonStyleModel",
      "state": {}
     },
     "3a193577c1d446d4ae242a9e7b916dfa": {
      "model_module": "@jupyter-widgets/controls",
      "model_module_version": "1.5.0",
      "model_name": "ButtonStyleModel",
      "state": {}
     },
     "3a3b2dc6f2a94f248b49a500006680ea": {
      "model_module": "@jupyter-widgets/controls",
      "model_module_version": "1.5.0",
      "model_name": "HBoxModel",
      "state": {
       "children": [
        "IPY_MODEL_c57cbd6afa774fcdb9ce9597f0802111",
        "IPY_MODEL_b18169d3055e482abb22a7eb1a5053b5",
        "IPY_MODEL_96c1183d93b949a6b2d45615ae6a34b6",
        "IPY_MODEL_33eb3f641b8a4463950e1527a6c3551e"
       ],
       "layout": "IPY_MODEL_cdf087d378864219927f47b5d208e650"
      }
     },
     "3a3b7ad652c248449a2c73745e2f47dd": {
      "model_module": "@jupyter-widgets/controls",
      "model_module_version": "1.5.0",
      "model_name": "IntProgressModel",
      "state": {
       "bar_style": "success",
       "layout": "IPY_MODEL_8dc0cf384fc2447f8b74c52b865ab0f6",
       "style": "IPY_MODEL_b1fa5e5456234e16954257b37bc59b90",
       "value": 100
      }
     },
     "3a55f10785644229ad346a6a32f5754e": {
      "model_module": "@jupyter-widgets/controls",
      "model_module_version": "1.5.0",
      "model_name": "ButtonStyleModel",
      "state": {}
     },
     "3a586a0410d84aaeafea4e3126318c26": {
      "model_module": "@jupyter-widgets/base",
      "model_module_version": "1.2.0",
      "model_name": "LayoutModel",
      "state": {
       "display": "none"
      }
     },
     "3ab00a0bef934681ba36f2fbcb50c0a3": {
      "model_module": "@jupyter-widgets/controls",
      "model_module_version": "1.5.0",
      "model_name": "ButtonModel",
      "state": {
       "button_style": "success",
       "disabled": true,
       "layout": "IPY_MODEL_410c40f758ed46f09c03cc8cbdd861e7",
       "style": "IPY_MODEL_e9cc8e73330642cd8e788b15cf7707d8"
      }
     },
     "3af3f6db6d464e50b1e0bc6e5705e02c": {
      "model_module": "@jupyter-widgets/controls",
      "model_module_version": "1.5.0",
      "model_name": "LabelModel",
      "state": {
       "layout": "IPY_MODEL_bf368610cce0448f80cc4b897bc7b84a",
       "style": "IPY_MODEL_0d7a9e6acb5549dc8a86e582f2457d76",
       "value": "   objective"
      }
     },
     "3b10639a7a44434ba033d6619599e13f": {
      "model_module": "@jupyter-widgets/controls",
      "model_module_version": "1.5.0",
      "model_name": "ButtonModel",
      "state": {
       "layout": "IPY_MODEL_32544b69d92946a5a7a2297d5368e265",
       "style": "IPY_MODEL_eaf1a167d8c841fdbf93b8b58f053852"
      }
     },
     "3b295192346642c8be38af0f277f23a2": {
      "model_module": "@jupyter-widgets/controls",
      "model_module_version": "1.5.0",
      "model_name": "ButtonModel",
      "state": {
       "layout": "IPY_MODEL_8b1d0eefb2904caaaee3de3c8a4f073e",
       "style": "IPY_MODEL_0a051468997f4668912f519a3c33ce38"
      }
     },
     "3b414a60e0084cb89367eb4165cca1dd": {
      "model_module": "@jupyter-widgets/base",
      "model_module_version": "1.2.0",
      "model_name": "LayoutModel",
      "state": {
       "height": "32px",
       "overflow": "visible",
       "width": "100%"
      }
     },
     "3b92270a49694732920b82b49d9cf27c": {
      "model_module": "@jupyter-widgets/base",
      "model_module_version": "1.2.0",
      "model_name": "LayoutModel",
      "state": {
       "display": "none"
      }
     },
     "3be9309c0f574357ac3672d0045596dd": {
      "model_module": "@jupyter-widgets/controls",
      "model_module_version": "1.5.0",
      "model_name": "DescriptionStyleModel",
      "state": {
       "description_width": ""
      }
     },
     "3c2393d874a747b7bdeb807bc29aff49": {
      "model_module": "@jupyter-widgets/base",
      "model_module_version": "1.2.0",
      "model_name": "LayoutModel",
      "state": {
       "display": "none"
      }
     },
     "3c2a312e59044d56991b2bb65fc10452": {
      "model_module": "@jupyter-widgets/controls",
      "model_module_version": "1.5.0",
      "model_name": "HBoxModel",
      "state": {
       "children": [
        "IPY_MODEL_68a87e8962b8411b8179f49cde3164b2",
        "IPY_MODEL_80487eea78924463be7eebf19add318a",
        "IPY_MODEL_c5d6e7ce00b94927b2d8c06777457691",
        "IPY_MODEL_f6ee1b47408f40639961c73068019fdf"
       ],
       "layout": "IPY_MODEL_363dce3908cc412fa253c2b8658cede2"
      }
     },
     "3c3a7a05858846808e9c1396f96e4c76": {
      "model_module": "@jupyter-widgets/controls",
      "model_module_version": "1.5.0",
      "model_name": "DescriptionStyleModel",
      "state": {
       "description_width": ""
      }
     },
     "3c7be38dc89845f789167f6fbed75680": {
      "model_module": "@jupyter-widgets/controls",
      "model_module_version": "1.5.0",
      "model_name": "IntProgressModel",
      "state": {
       "layout": "IPY_MODEL_6a9520efe1334ecfa30bc6aa2bfb6ffc",
       "style": "IPY_MODEL_5d1cd26673864be6a80a1df751162179",
       "value": 30
      }
     },
     "3ce112d9119a42d584072e03456c49ee": {
      "model_module": "@jupyter-widgets/base",
      "model_module_version": "1.2.0",
      "model_name": "LayoutModel",
      "state": {
       "display": "none"
      }
     },
     "3d13bf6f1ded4175a2e7bc2acbf10b36": {
      "model_module": "@jupyter-widgets/base",
      "model_module_version": "1.2.0",
      "model_name": "LayoutModel",
      "state": {
       "order": "-1",
       "overflow": "visible",
       "padding": "1px",
       "width": "0px"
      }
     },
     "3d26c9cca32d4a2a968e23adae15db58": {
      "model_module": "@jupyter-widgets/controls",
      "model_module_version": "1.5.0",
      "model_name": "ButtonStyleModel",
      "state": {}
     },
     "3d62e5295c4049b0b2e75baf7b40fa12": {
      "model_module": "@jupyter-widgets/controls",
      "model_module_version": "1.5.0",
      "model_name": "LabelModel",
      "state": {
       "layout": "IPY_MODEL_8f0ea347261e4aa3a2dc8e14ef217aba",
       "style": "IPY_MODEL_2856784acf244e8f97a617ca0cfb4b6e",
       "value": "    Vault infiltrated (0/1)"
      }
     },
     "3decd207537441e49869e6569d59ece9": {
      "model_module": "@jupyter-widgets/controls",
      "model_module_version": "1.5.0",
      "model_name": "LabelModel",
      "state": {
       "layout": "IPY_MODEL_ae6bac367ae44bec9be4efc6d9c89ffe",
       "style": "IPY_MODEL_256e4e2fdee44f16bc881c01109c9b26",
       "value": "     (0/1)"
      }
     },
     "3df8518f6d284331bbfce7750cd6a529": {
      "model_module": "@jupyter-widgets/controls",
      "model_module_version": "1.5.0",
      "model_name": "LabelModel",
      "state": {
       "layout": "IPY_MODEL_f025e3ef55e04923be54033ae7d10f38",
       "style": "IPY_MODEL_f1e39a90898f4fdb856b5cac6ab51d52",
       "value": "    Morgeth, the Spirekeeper defeated (0/1)"
      }
     },
     "3e1bd40fbfde433abf1dea38306422d0": {
      "model_module": "@jupyter-widgets/controls",
      "model_module_version": "1.5.0",
      "model_name": "DropdownModel",
      "state": {
       "_options_labels": [
        "Any",
        "Machine Gun",
        "Sword",
        "Grenade Launcher",
        "Rocket Launcher",
        "Linear Fusion Rifle"
       ],
       "index": 0,
       "layout": "IPY_MODEL_7de46c5a10344d3c9922541b9839e37d",
       "style": "IPY_MODEL_3c3a7a05858846808e9c1396f96e4c76"
      }
     },
     "3e54c35442ab47f8afabccfb425decfd": {
      "model_module": "@jupyter-widgets/controls",
      "model_module_version": "1.5.0",
      "model_name": "IntProgressModel",
      "state": {
       "layout": "IPY_MODEL_f826405b7a184787a9606c5888b38ace",
       "max": 25,
       "style": "IPY_MODEL_ae068b7b146a4c00bf5e96fc6513fc28",
       "value": 14
      }
     },
     "3f04106b9fe24e09a49cda4750db1f7f": {
      "model_module": "@jupyter-widgets/controls",
      "model_module_version": "1.5.0",
      "model_name": "HBoxModel",
      "state": {
       "children": [
        "IPY_MODEL_d96d53064e864fb9916e96f69834c01f",
        "IPY_MODEL_6eb3905152e7437a9e1ec92f29afc4c4"
       ],
       "layout": "IPY_MODEL_871b8c382e5e416cbd9bfcb627ed2c48"
      }
     },
     "3f05826b727d44b88dc0f65b2372964b": {
      "model_module": "@jupyter-widgets/base",
      "model_module_version": "1.2.0",
      "model_name": "LayoutModel",
      "state": {
       "display": "flex",
       "width": "60px"
      }
     },
     "3f1944946c4c440f98ed16b73a6cd274": {
      "model_module": "@jupyter-widgets/controls",
      "model_module_version": "1.5.0",
      "model_name": "VBoxModel",
      "state": {
       "children": [
        "IPY_MODEL_42000cffa87b49bf931d9cafb3b15de4",
        "IPY_MODEL_5115d380e53c45219e20b7ff11101a48",
        "IPY_MODEL_64e6a447f23d4bfe905dee5b8db88d7a",
        "IPY_MODEL_e4c8e472a7364739ac924fe75ebb468f",
        "IPY_MODEL_1bd36a00c342424aae69aa6b877a3d41",
        "IPY_MODEL_659c4bb299d9485ba87d6f49265232b7"
       ],
       "layout": "IPY_MODEL_4733535f069b4c199be46d82b50dbbbc"
      }
     },
     "3f1afe00453d48fa8d4225fd36566d69": {
      "model_module": "@jupyter-widgets/base",
      "model_module_version": "1.2.0",
      "model_name": "LayoutModel",
      "state": {
       "display": "flex",
       "width": "60px"
      }
     },
     "3f2b924ed4de4922878915b503f9ccc2": {
      "model_module": "@jupyter-widgets/base",
      "model_module_version": "1.2.0",
      "model_name": "LayoutModel",
      "state": {
       "height": "32px",
       "order": "-2",
       "width": "32px"
      }
     },
     "3f2e62bfc7d6468b984e0c62f64c7f1d": {
      "model_module": "@jupyter-widgets/controls",
      "model_module_version": "1.5.0",
      "model_name": "ProgressStyleModel",
      "state": {
       "description_width": ""
      }
     },
     "3f61b373a3984e7fa032db2a7af7ddd1": {
      "model_module": "@jupyter-widgets/controls",
      "model_module_version": "1.5.0",
      "model_name": "ButtonModel",
      "state": {
       "description": "EDIT",
       "layout": "IPY_MODEL_8f1db083056f4603a4198d2aa880f4c7",
       "style": "IPY_MODEL_8d28bb89313043278a220e8e1e818ef1"
      }
     },
     "3fb4dde5a41b4a6eb542cd345400e994": {
      "model_module": "@jupyter-widgets/base",
      "model_module_version": "1.2.0",
      "model_name": "LayoutModel",
      "state": {
       "height": "32px",
       "overflow": "visible",
       "width": "100%"
      }
     },
     "3fbbd6850ccb406d9109c5c343d7077f": {
      "model_module": "@jupyter-widgets/controls",
      "model_module_version": "1.5.0",
      "model_name": "ButtonStyleModel",
      "state": {}
     },
     "40171530579f42b588a3c9e1c70574f3": {
      "model_module": "@jupyter-widgets/controls",
      "model_module_version": "1.5.0",
      "model_name": "IntProgressModel",
      "state": {
       "layout": "IPY_MODEL_1c70d1196e1f4d6a823ff1713f566a42",
       "max": 1,
       "style": "IPY_MODEL_2180da0ee16b477892a940f8ba2f535e"
      }
     },
     "401b474cdaed4a8f8c8d3ec60ffa80c1": {
      "model_module": "@jupyter-widgets/base",
      "model_module_version": "1.2.0",
      "model_name": "LayoutModel",
      "state": {
       "display": "flex",
       "width": "60px"
      }
     },
     "4091235e368e40c1a4df5de33039a36f": {
      "model_module": "@jupyter-widgets/controls",
      "model_module_version": "1.5.0",
      "model_name": "IntProgressModel",
      "state": {
       "layout": "IPY_MODEL_aa156da2f3cb41faab2934d917960862",
       "max": 10,
       "style": "IPY_MODEL_75241de0c437488cb6bdf3b61c5112f0",
       "value": 7
      }
     },
     "4092da6eafa2470bbb2b0d7a4dfbe9a3": {
      "model_module": "@jupyter-widgets/base",
      "model_module_version": "1.2.0",
      "model_name": "LayoutModel",
      "state": {
       "height": "32px",
       "overflow": "visible",
       "width": "100%"
      }
     },
     "40937ac933bf45ebbe2e074567f97175": {
      "model_module": "@jupyter-widgets/controls",
      "model_module_version": "1.5.0",
      "model_name": "IntProgressModel",
      "state": {
       "layout": "IPY_MODEL_6f597d63d9284c56ae9d5b78cb221069",
       "max": 1000,
       "style": "IPY_MODEL_08e34d9113894eb287c2f6c32c8908b3",
       "value": 410
      }
     },
     "40bad77f1243486ea599f9a179183a99": {
      "model_module": "@jupyter-widgets/base",
      "model_module_version": "1.2.0",
      "model_name": "LayoutModel",
      "state": {
       "border": "3px solid white",
       "display": "flex",
       "flex": "1 1 0%",
       "margin": "10px",
       "min_width": "400px",
       "overflow": "visible",
       "padding": "10px",
       "width": "auto"
      }
     },
     "40cb3a439f2b4d6b81c31885f47affd9": {
      "model_module": "@jupyter-widgets/base",
      "model_module_version": "1.2.0",
      "model_name": "LayoutModel",
      "state": {
       "height": "32px",
       "overflow": "visible",
       "width": "100%"
      }
     },
     "40d726efedd642708c2ca1dd45ea96e9": {
      "model_module": "@jupyter-widgets/base",
      "model_module_version": "1.2.0",
      "model_name": "LayoutModel",
      "state": {}
     },
     "410c40f758ed46f09c03cc8cbdd861e7": {
      "model_module": "@jupyter-widgets/base",
      "model_module_version": "1.2.0",
      "model_name": "LayoutModel",
      "state": {
       "height": "32px",
       "order": "-2",
       "width": "32px"
      }
     },
     "41375b43b71043fd86ea34265a92ef4f": {
      "model_module": "@jupyter-widgets/output",
      "model_module_version": "1.0.0",
      "model_name": "OutputModel",
      "state": {
       "layout": "IPY_MODEL_6ffcdc22bbcc442b8ff58fdb8d72e012",
       "outputs": [
        {
         "data": {
          "application/vnd.jupyter.widget-view+json": {
           "model_id": "83c4571934ae4e5c87de1112c0d19262",
           "version_major": 2,
           "version_minor": 0
          },
          "text/plain": "HBox(children=(VBox(children=(VBox(children=(HTML(value='<b>Activity Options</b>'), Dropdown(layout=Layout(bor…"
         },
         "metadata": {},
         "output_type": "display_data"
        }
       ]
      }
     },
     "41a2f141923d40afbfe2f283d16ebac0": {
      "model_module": "@jupyter-widgets/controls",
      "model_module_version": "1.5.0",
      "model_name": "ButtonStyleModel",
      "state": {}
     },
     "41b4b20e570e443c974cd8219333ee4e": {
      "model_module": "@jupyter-widgets/controls",
      "model_module_version": "1.5.0",
      "model_name": "DescriptionStyleModel",
      "state": {
       "description_width": ""
      }
     },
     "41eaab85a8c74e529368846300186ca6": {
      "model_module": "@jupyter-widgets/controls",
      "model_module_version": "1.5.0",
      "model_name": "IntProgressModel",
      "state": {
       "bar_style": "success",
       "layout": "IPY_MODEL_6fcd059b08334ce5b44527b0bcb00812",
       "max": 50,
       "style": "IPY_MODEL_a24837d6062b44d7a7bcf13445274e08",
       "value": 50
      }
     },
     "42000cffa87b49bf931d9cafb3b15de4": {
      "model_module": "@jupyter-widgets/controls",
      "model_module_version": "1.5.0",
      "model_name": "HBoxModel",
      "state": {
       "children": [
        "IPY_MODEL_d8dffbc744174177b35f33f46618de8c",
        "IPY_MODEL_11d211ec241c4d7998ffadd8f0246385",
        "IPY_MODEL_b3c9eea090e547bb9483fb718c652490",
        "IPY_MODEL_e27a081ad9f845cfae29274f9a87b726"
       ],
       "layout": "IPY_MODEL_86996cb18c134406a3fc6c6527f0cb49"
      }
     },
     "42ce40c6cf974eee99b7fa31e2825fcb": {
      "model_module": "@jupyter-widgets/controls",
      "model_module_version": "1.5.0",
      "model_name": "ButtonStyleModel",
      "state": {}
     },
     "42ddc67505dd44549e20aeea324f6e41": {
      "model_module": "@jupyter-widgets/base",
      "model_module_version": "1.2.0",
      "model_name": "LayoutModel",
      "state": {
       "overflow": "visible",
       "width": "100%"
      }
     },
     "42eb5c6b7bfc4b7eaf8894115366a07f": {
      "model_module": "@jupyter-widgets/base",
      "model_module_version": "1.2.0",
      "model_name": "LayoutModel",
      "state": {
       "overflow": "visible",
       "width": "100%"
      }
     },
     "42f218ea40114b46ba21b5750d372339": {
      "model_module": "@jupyter-widgets/controls",
      "model_module_version": "1.5.0",
      "model_name": "LabelModel",
      "state": {
       "layout": "IPY_MODEL_905eeedd5dba40848531146d038d4123",
       "style": "IPY_MODEL_cf0dc928095948f18368072e91636d61",
       "value": "   objective"
      }
     },
     "43f5a8f8cc344775a0765480f7e948d9": {
      "model_module": "@jupyter-widgets/base",
      "model_module_version": "1.2.0",
      "model_name": "LayoutModel",
      "state": {}
     },
     "4403c8c715a44b63aa493ca15ec75354": {
      "model_module": "@jupyter-widgets/controls",
      "model_module_version": "1.5.0",
      "model_name": "ButtonStyleModel",
      "state": {}
     },
     "442d4a3c23994ec78e99d6288d30c088": {
      "model_module": "@jupyter-widgets/base",
      "model_module_version": "1.2.0",
      "model_name": "LayoutModel",
      "state": {
       "order": "-1",
       "overflow": "visible",
       "padding": "1px",
       "width": "0px"
      }
     },
     "44488da95dfa4289afa9b46ef86acf19": {
      "model_module": "@jupyter-widgets/base",
      "model_module_version": "1.2.0",
      "model_name": "LayoutModel",
      "state": {
       "order": "-1",
       "overflow": "visible",
       "padding": "1px",
       "width": "0px"
      }
     },
     "445cfdb824384151b04cf8e68f7ad500": {
      "model_module": "@jupyter-widgets/controls",
      "model_module_version": "1.5.0",
      "model_name": "ButtonModel",
      "state": {
       "layout": "IPY_MODEL_92370e25849c4595a2c8e654cbb3d32e",
       "style": "IPY_MODEL_32448993d79448f7b9a2fd5610d71168"
      }
     },
     "44db5d286fad43c7a3d0c0b080d1b794": {
      "model_module": "@jupyter-widgets/controls",
      "model_module_version": "1.5.0",
      "model_name": "IntProgressModel",
      "state": {
       "bar_style": "danger",
       "layout": "IPY_MODEL_7e18ceef44b841b492d12e1fdd431c2b",
       "max": 500,
       "style": "IPY_MODEL_4ac4592fd72042fb9746fe60f1866e15",
       "value": 177
      }
     },
     "450e22263cde40cea8e0510d36bb598b": {
      "model_module": "@jupyter-widgets/controls",
      "model_module_version": "1.5.0",
      "model_name": "ButtonStyleModel",
      "state": {}
     },
     "45185a55656c42d882f9131ef4b40da6": {
      "model_module": "@jupyter-widgets/base",
      "model_module_version": "1.2.0",
      "model_name": "LayoutModel",
      "state": {
       "height": "32px",
       "order": "-2",
       "width": "32px"
      }
     },
     "454e7b2775784599b3b623b387a3049d": {
      "model_module": "@jupyter-widgets/controls",
      "model_module_version": "1.5.0",
      "model_name": "ButtonStyleModel",
      "state": {}
     },
     "4560cc9214284f0bb6646fcd4aa1fecc": {
      "model_module": "@jupyter-widgets/controls",
      "model_module_version": "1.5.0",
      "model_name": "ButtonModel",
      "state": {
       "layout": "IPY_MODEL_c2cfa0deec6f4b479ca3f21d1ec58618",
       "style": "IPY_MODEL_f695d5e79c584c8d910601fcd872382f"
      }
     },
     "4580b202e01a428da0f45de2ae8d5ab7": {
      "model_module": "@jupyter-widgets/controls",
      "model_module_version": "1.5.0",
      "model_name": "ButtonModel",
      "state": {
       "description": "EDIT",
       "layout": "IPY_MODEL_9d507093328a49018483df507c4e2d06",
       "style": "IPY_MODEL_5352467134664178b04afdb726f440f7"
      }
     },
     "4583286084d24ba9996e5f94bab4fe34": {
      "model_module": "@jupyter-widgets/base",
      "model_module_version": "1.2.0",
      "model_name": "LayoutModel",
      "state": {}
     },
     "4595ed34be994f949b53088a5193f1d0": {
      "model_module": "@jupyter-widgets/controls",
      "model_module_version": "1.5.0",
      "model_name": "LabelModel",
      "state": {
       "layout": "IPY_MODEL_9cc5ebfcd80b45e79d25ff04fa49dd1c",
       "style": "IPY_MODEL_cd069262b2a74944908c196c4f7f34a9",
       "value": "    Kills with a single Super (27/50)"
      }
     },
     "45bb420580eb466eba7a7e61a1a994b9": {
      "model_module": "@jupyter-widgets/controls",
      "model_module_version": "1.5.0",
      "model_name": "HTMLModel",
      "state": {
       "layout": "IPY_MODEL_7d67e25d312d4daab67dd6bd2ccd2c5d",
       "style": "IPY_MODEL_c4051dae8465416798e21e04bae73775",
       "value": "<b>Activity Options</b>"
      }
     },
     "45cdf6396d774910841958b42fc4b58a": {
      "model_module": "@jupyter-widgets/controls",
      "model_module_version": "1.5.0",
      "model_name": "ProgressStyleModel",
      "state": {
       "description_width": ""
      }
     },
     "46295047bfd54cc0a82c7d61cec596b1": {
      "model_module": "@jupyter-widgets/controls",
      "model_module_version": "1.5.0",
      "model_name": "ButtonStyleModel",
      "state": {}
     },
     "4637257745874c1096a88681cc3b6d55": {
      "model_module": "@jupyter-widgets/controls",
      "model_module_version": "1.5.0",
      "model_name": "ButtonStyleModel",
      "state": {}
     },
     "465437e8ed25446594e6edae86f79aac": {
      "model_module": "@jupyter-widgets/base",
      "model_module_version": "1.2.0",
      "model_name": "LayoutModel",
      "state": {
       "height": "32px",
       "order": "-2",
       "width": "32px"
      }
     },
     "46767c2d48ea4f8896a1ba5fd90bedc1": {
      "model_module": "@jupyter-widgets/controls",
      "model_module_version": "1.5.0",
      "model_name": "ButtonStyleModel",
      "state": {}
     },
     "4683995a479a400587efa962b9ba04c7": {
      "model_module": "@jupyter-widgets/controls",
      "model_module_version": "1.5.0",
      "model_name": "ButtonStyleModel",
      "state": {}
     },
     "468896b4c312496b9c27e37750e0d255": {
      "model_module": "@jupyter-widgets/base",
      "model_module_version": "1.2.0",
      "model_name": "LayoutModel",
      "state": {
       "order": "-1",
       "overflow": "visible",
       "padding": "1px",
       "width": "0px"
      }
     },
     "46959ca0807b4532aecb9330c43ad41b": {
      "model_module": "@jupyter-widgets/controls",
      "model_module_version": "1.5.0",
      "model_name": "DescriptionStyleModel",
      "state": {
       "description_width": ""
      }
     },
     "469bfc6cc302478981318353ebe3dcaf": {
      "model_module": "@jupyter-widgets/controls",
      "model_module_version": "1.5.0",
      "model_name": "LabelModel",
      "state": {
       "layout": "IPY_MODEL_9b142272604b45a9ad0fdb13eea9542a",
       "style": "IPY_MODEL_3527abccef0d4998a5ba17f9e6a746d1",
       "value": "    Valor ranks (0/1)"
      }
     },
     "46bad8491aac4e929c3f0a35454aca3d": {
      "model_module": "@jupyter-widgets/controls",
      "model_module_version": "1.5.0",
      "model_name": "HTMLModel",
      "state": {
       "layout": "IPY_MODEL_f73afed5df34402787479b41f395a421",
       "style": "IPY_MODEL_6aa0d15e6fe6416fbdc59dd822c982b4",
       "value": "<font size=\"1\">Triumphs/Destinations/Major/Nessus, Unstable Centaur/Reunited Siblings</font size=>"
      }
     },
     "47237e09ebb34417a5d9209c25e0a930": {
      "model_module": "@jupyter-widgets/controls",
      "model_module_version": "1.5.0",
      "model_name": "ButtonModel",
      "state": {
       "description": "EDIT",
       "layout": "IPY_MODEL_2c43a708d8f549a6980a3587375f7b18",
       "style": "IPY_MODEL_5878353d65ce475a88b3f93bcf784b3b"
      }
     },
     "472ebca3f58d48ebbc43e75f2eb25176": {
      "model_module": "@jupyter-widgets/base",
      "model_module_version": "1.2.0",
      "model_name": "LayoutModel",
      "state": {
       "display": "flex"
      }
     },
     "4733535f069b4c199be46d82b50dbbbc": {
      "model_module": "@jupyter-widgets/base",
      "model_module_version": "1.2.0",
      "model_name": "LayoutModel",
      "state": {}
     },
     "474cd9fd25ef47d98ce123db6f670f04": {
      "model_module": "@jupyter-widgets/controls",
      "model_module_version": "1.5.0",
      "model_name": "HBoxModel",
      "state": {
       "children": [
        "IPY_MODEL_d93064d0011d4a73a7dd3f1a9b5c3d5c",
        "IPY_MODEL_f36e48b0e8ae42c8ac17de4bdf13a778",
        "IPY_MODEL_2ef8fbed28394803891c953616adf931",
        "IPY_MODEL_77af98cd4da242b9aba81910e439bf2f"
       ],
       "layout": "IPY_MODEL_9566177ca59249d49f22c1aa75e8aed8"
      }
     },
     "4789b256fe534b3d91b1d3227ec7fb97": {
      "model_module": "@jupyter-widgets/base",
      "model_module_version": "1.2.0",
      "model_name": "LayoutModel",
      "state": {
       "display": "flex",
       "width": "60px"
      }
     },
     "47b66ae36fc247b3b8f9b8f1b76e8b66": {
      "model_module": "@jupyter-widgets/controls",
      "model_module_version": "1.5.0",
      "model_name": "IntProgressModel",
      "state": {
       "layout": "IPY_MODEL_0bdf1147a4ee46f2a7fce5b8a30ff4d4",
       "style": "IPY_MODEL_e5f15d2bea15418a8011d427a62d1b90",
       "value": 30
      }
     },
     "4829b8849d5642faa226b17386742c82": {
      "model_module": "@jupyter-widgets/controls",
      "model_module_version": "1.5.0",
      "model_name": "ProgressStyleModel",
      "state": {
       "description_width": ""
      }
     },
     "48a152f350ad41bf9583d9b7114422ab": {
      "model_module": "@jupyter-widgets/controls",
      "model_module_version": "1.5.0",
      "model_name": "ProgressStyleModel",
      "state": {
       "description_width": ""
      }
     },
     "49242c2cd4e74fb2a5e44e38ba850470": {
      "model_module": "@jupyter-widgets/controls",
      "model_module_version": "1.5.0",
      "model_name": "ButtonModel",
      "state": {
       "description": "EDIT",
       "layout": "IPY_MODEL_0626d969b76f4b5f9e458fd58f2dc9cb",
       "style": "IPY_MODEL_ae724faf698648c485079bc5e8fc1f56"
      }
     },
     "4945984486a3483ebbc9c1f3c45d287d": {
      "model_module": "@jupyter-widgets/controls",
      "model_module_version": "1.5.0",
      "model_name": "IntProgressModel",
      "state": {
       "layout": "IPY_MODEL_a75a3767eea24b1f9ac8f7f6fb3ec0f7",
       "max": 50,
       "style": "IPY_MODEL_d239c31680964572b48942c7ccc01be6",
       "value": 27
      }
     },
     "49676096b3da4568aa191f494cc7eae5": {
      "model_module": "@jupyter-widgets/controls",
      "model_module_version": "1.5.0",
      "model_name": "ButtonModel",
      "state": {
       "description": "EDIT",
       "layout": "IPY_MODEL_9381981c674e4688af26acbcf1e8c781",
       "style": "IPY_MODEL_4e0e2a0cbc1e426a8c5d28a53bdddbe8"
      }
     },
     "49d43e3d26bc4cfc910d7b38d5ee0442": {
      "model_module": "@jupyter-widgets/controls",
      "model_module_version": "1.5.0",
      "model_name": "LabelModel",
      "state": {
       "layout": "IPY_MODEL_fd225601937c4cd7b994fb19cae48ab7",
       "style": "IPY_MODEL_bf5031009d784494a9668f1c31596d8a",
       "value": "   objective"
      }
     },
     "49fe2ca50ede4630b2a79be68bcb00b2": {
      "model_module": "@jupyter-widgets/base",
      "model_module_version": "1.2.0",
      "model_name": "LayoutModel",
      "state": {
       "height": "32px",
       "order": "-2",
       "width": "32px"
      }
     },
     "4a00b6c5242844c3a15e2a2292bf23ea": {
      "model_module": "@jupyter-widgets/base",
      "model_module_version": "1.2.0",
      "model_name": "LayoutModel",
      "state": {}
     },
     "4ac4592fd72042fb9746fe60f1866e15": {
      "model_module": "@jupyter-widgets/controls",
      "model_module_version": "1.5.0",
      "model_name": "ProgressStyleModel",
      "state": {
       "description_width": ""
      }
     },
     "4ae8a9d77dc74709a297e251fac95c70": {
      "model_module": "@jupyter-widgets/base",
      "model_module_version": "1.2.0",
      "model_name": "LayoutModel",
      "state": {
       "order": "-1",
       "overflow": "visible",
       "padding": "1px",
       "width": "0px"
      }
     },
     "4b25948a4c1a4f1fb328ce4475be8bd8": {
      "model_module": "@jupyter-widgets/controls",
      "model_module_version": "1.5.0",
      "model_name": "DescriptionStyleModel",
      "state": {
       "description_width": ""
      }
     },
     "4b4fed0de6814b1aa6e67c0ba07d822b": {
      "model_module": "@jupyter-widgets/controls",
      "model_module_version": "1.5.0",
      "model_name": "IntProgressModel",
      "state": {
       "bar_style": "success",
       "layout": "IPY_MODEL_5a72f76f0253466bb791d3af404c361d",
       "max": 200,
       "style": "IPY_MODEL_f7f8c919a0c04794b1da53e0aaefaf7d",
       "value": 200
      }
     },
     "4b7d254e480a4729a701510e823ffc1e": {
      "model_module": "@jupyter-widgets/controls",
      "model_module_version": "1.5.0",
      "model_name": "LabelModel",
      "state": {
       "layout": "IPY_MODEL_a8d1a93eb7a54bfd920a2c776587aee2",
       "style": "IPY_MODEL_6a0a001be31346c2bdc9451519d0eb14",
       "value": "   objective"
      }
     },
     "4ba45a196a244615b700562cbb984d4c": {
      "model_module": "@jupyter-widgets/controls",
      "model_module_version": "1.5.0",
      "model_name": "HBoxModel",
      "state": {
       "children": [
        "IPY_MODEL_33a682e0d78049eab7aa554dd40f4627",
        "IPY_MODEL_81cf2a3735a642cc97f30027961a010f",
        "IPY_MODEL_7d0af0b10c704e1d96e84e25bfa5a79e",
        "IPY_MODEL_581252b16fed4acaa1b6573deadf8581"
       ],
       "layout": "IPY_MODEL_a085bc0303bc493ca15d69b05a343a98"
      }
     },
     "4bb07ae1b8194257ad8342dbfed67479": {
      "model_module": "@jupyter-widgets/base",
      "model_module_version": "1.2.0",
      "model_name": "LayoutModel",
      "state": {
       "display": "flex",
       "width": "60px"
      }
     },
     "4bcd390ae55345c6bef3f05f26f8bb79": {
      "model_module": "@jupyter-widgets/controls",
      "model_module_version": "1.5.0",
      "model_name": "IntProgressModel",
      "state": {
       "layout": "IPY_MODEL_19e559c7764342cd949684e76050d6f1",
       "style": "IPY_MODEL_4829b8849d5642faa226b17386742c82",
       "value": 30
      }
     },
     "4bd677b0a21c4e80b3ceae91c9ee543b": {
      "model_module": "@jupyter-widgets/controls",
      "model_module_version": "1.5.0",
      "model_name": "LabelModel",
      "state": {
       "layout": "IPY_MODEL_be83e6cd1f01480e8b1325fcf620e436",
       "style": "IPY_MODEL_60b3d2cc6a9144bf8a08ae322bac383f",
       "value": "    Supers cast (210/100)"
      }
     },
     "4bf78424bd104a57bec4d512ebdb9bd5": {
      "model_module": "@jupyter-widgets/controls",
      "model_module_version": "1.5.0",
      "model_name": "HBoxModel",
      "state": {
       "children": [
        "IPY_MODEL_f4e0f295ac744113a079934aba8c678b",
        "IPY_MODEL_9955d4c799804abc8d5a3b5e20340927",
        "IPY_MODEL_de63760fb5474935a309863ca684af9a",
        "IPY_MODEL_07182433ade945b190c5f62e6c090327"
       ],
       "layout": "IPY_MODEL_d97cc53f86124e9f99d191698b458753"
      }
     },
     "4c01c2fc79ca45ae889b1dc4455938c0": {
      "model_module": "@jupyter-widgets/base",
      "model_module_version": "1.2.0",
      "model_name": "LayoutModel",
      "state": {
       "height": "32px",
       "overflow": "visible",
       "width": "100%"
      }
     },
     "4c2cd23310b6423387b72e986f005438": {
      "model_module": "@jupyter-widgets/controls",
      "model_module_version": "1.5.0",
      "model_name": "VBoxModel",
      "state": {
       "children": [
        "IPY_MODEL_f1c60b2ba24b4124a096a5c0b0b24193",
        "IPY_MODEL_b8e078e48a0e43b28d8ce79b755ef601",
        "IPY_MODEL_368db731c73f4c12afcef9ede85296d3",
        "IPY_MODEL_7e1f374606eb48a88acc78a793b7fe55",
        "IPY_MODEL_f8a3f0d443e64381a59100dfebe952fa",
        "IPY_MODEL_116872e7e0b44acdb3eb2e062cc197bc"
       ],
       "layout": "IPY_MODEL_008f9ea561bb45e288628f7d382cab96"
      }
     },
     "4c36633f01734014a1a3a997ff5d8d9e": {
      "model_module": "@jupyter-widgets/base",
      "model_module_version": "1.2.0",
      "model_name": "LayoutModel",
      "state": {
       "height": "32px",
       "order": "-2",
       "width": "32px"
      }
     },
     "4c7c22bbf51c4d1581ed05862c238223": {
      "model_module": "@jupyter-widgets/base",
      "model_module_version": "1.2.0",
      "model_name": "LayoutModel",
      "state": {
       "display": "flex"
      }
     },
     "4c90d72ae506482aae585601f695fa48": {
      "model_module": "@jupyter-widgets/controls",
      "model_module_version": "1.5.0",
      "model_name": "DescriptionStyleModel",
      "state": {
       "description_width": ""
      }
     },
     "4cea7288080146288d59141c91ca5537": {
      "model_module": "@jupyter-widgets/controls",
      "model_module_version": "1.5.0",
      "model_name": "VBoxModel",
      "state": {
       "children": [
        "IPY_MODEL_5310567046694a67921bd366a2d04130",
        "IPY_MODEL_723f972f696741829162ad895747ab30",
        "IPY_MODEL_928cf566e2a14d65a64d61a6a0916441",
        "IPY_MODEL_723f972f696741829162ad895747ab30",
        "IPY_MODEL_545a41f2ae71475386c066b00c07a5f8"
       ],
       "layout": "IPY_MODEL_d7d03a51a6ab40caa826be2ed4363b1c"
      }
     },
     "4cf49b5013fe4426b1c019b0c0a36ff2": {
      "model_module": "@jupyter-widgets/controls",
      "model_module_version": "1.5.0",
      "model_name": "TextModel",
      "state": {
       "description": "Gamertag:",
       "layout": "IPY_MODEL_7a983daf46f14569b436ea072c520841",
       "style": "IPY_MODEL_070e5ff232174b8b91eeb39cde74f7a7",
       "value": "skalligman"
      }
     },
     "4d0708c9b4434fe0bd0ff7e634cfd05f": {
      "model_module": "@jupyter-widgets/base",
      "model_module_version": "1.2.0",
      "model_name": "LayoutModel",
      "state": {
       "display": "none"
      }
     },
     "4d127da4d9964525bc8fb150b87f853d": {
      "model_module": "@jupyter-widgets/base",
      "model_module_version": "1.2.0",
      "model_name": "LayoutModel",
      "state": {
       "display": "none"
      }
     },
     "4d2a01be38494b1999e71d661fc55c12": {
      "model_module": "@jupyter-widgets/base",
      "model_module_version": "1.2.0",
      "model_name": "LayoutModel",
      "state": {
       "display": "flex",
       "width": "60px"
      }
     },
     "4d367e5bbbf9460d8b921d02090d547b": {
      "model_module": "@jupyter-widgets/controls",
      "model_module_version": "1.5.0",
      "model_name": "IntProgressModel",
      "state": {
       "layout": "IPY_MODEL_7624d5cdc9384da09229a23b7ae38173",
       "style": "IPY_MODEL_a6473711a1224139a4c9661c7b7362bb",
       "value": 30
      }
     },
     "4d4b094de7404767a16cfe630ebaeace": {
      "model_module": "@jupyter-widgets/controls",
      "model_module_version": "1.5.0",
      "model_name": "DescriptionStyleModel",
      "state": {
       "description_width": ""
      }
     },
     "4d4d7dac4aa24076ae9c6d9731e2c44e": {
      "model_module": "@jupyter-widgets/controls",
      "model_module_version": "1.5.0",
      "model_name": "ButtonModel",
      "state": {
       "layout": "IPY_MODEL_f820857cc176408a9db7b1b794ec5d54",
       "style": "IPY_MODEL_04811cab97914fd0914cd06b74bf06e6"
      }
     },
     "4d74efe0b6354d7ea27cf1d27d9c3458": {
      "model_module": "@jupyter-widgets/controls",
      "model_module_version": "1.5.0",
      "model_name": "ButtonStyleModel",
      "state": {}
     },
     "4d8a85890a9b4a98a1714c90633fb5d0": {
      "model_module": "@jupyter-widgets/controls",
      "model_module_version": "1.5.0",
      "model_name": "LabelModel",
      "state": {
       "layout": "IPY_MODEL_52793736553245e1b852708690a3b8b6",
       "style": "IPY_MODEL_7bea8c8f993b4735851090fdc8f8f244",
       "value": "   objective"
      }
     },
     "4d8fa66a9cd340b7acdf540cd2e5bcb3": {
      "model_module": "@jupyter-widgets/base",
      "model_module_version": "1.2.0",
      "model_name": "LayoutModel",
      "state": {
       "display": "flex",
       "flex_flow": "row wrap"
      }
     },
     "4d967f0b73d4496c99535162168bc0f7": {
      "model_module": "@jupyter-widgets/base",
      "model_module_version": "1.2.0",
      "model_name": "LayoutModel",
      "state": {
       "display": "flex",
       "width": "60px"
      }
     },
     "4dd7ed97d2e441feb735bf128e301c51": {
      "model_module": "@jupyter-widgets/controls",
      "model_module_version": "1.5.0",
      "model_name": "HBoxModel",
      "state": {
       "children": [
        "IPY_MODEL_a3fec3efd61f419588bdf12e29a31b6b",
        "IPY_MODEL_f4b52424956e46a1a9513196a1bd563a",
        "IPY_MODEL_9cbe306658924b85a6108add96f96de0",
        "IPY_MODEL_7b7a7129d1714a208fed3b0610e36ecb"
       ],
       "layout": "IPY_MODEL_217741a824f24761aef6f6573395d82d"
      }
     },
     "4de3ab89ca094154baeb7d3914f9f304": {
      "model_module": "@jupyter-widgets/controls",
      "model_module_version": "1.5.0",
      "model_name": "DescriptionStyleModel",
      "state": {
       "description_width": ""
      }
     },
     "4e00711293fb4747ba9b18f3222d6b27": {
      "model_module": "@jupyter-widgets/base",
      "model_module_version": "1.2.0",
      "model_name": "LayoutModel",
      "state": {
       "height": "32px",
       "overflow": "visible",
       "width": "100%"
      }
     },
     "4e0e2a0cbc1e426a8c5d28a53bdddbe8": {
      "model_module": "@jupyter-widgets/controls",
      "model_module_version": "1.5.0",
      "model_name": "ButtonStyleModel",
      "state": {}
     },
     "4e20dff61ea542f8beaaf04293fab47b": {
      "model_module": "@jupyter-widgets/controls",
      "model_module_version": "1.5.0",
      "model_name": "IntProgressModel",
      "state": {
       "layout": "IPY_MODEL_dbcbd4b7e08e4f7a92345010bcb4e77f",
       "style": "IPY_MODEL_2d2da91932804aa78233a500f8015fb4",
       "value": 30
      }
     },
     "4e76872511e94092b46a545af491e698": {
      "model_module": "@jupyter-widgets/controls",
      "model_module_version": "1.5.0",
      "model_name": "VBoxModel",
      "state": {
       "children": [
        "IPY_MODEL_26e71d13d8ab40029f0432d1c50fe0dc",
        "IPY_MODEL_8fd96938a4df44dfbdb889d525d64851",
        "IPY_MODEL_801a6d19279d46d5a5d340a10f087345",
        "IPY_MODEL_474cd9fd25ef47d98ce123db6f670f04",
        "IPY_MODEL_3c2a312e59044d56991b2bb65fc10452",
        "IPY_MODEL_183eaf81be3246ae9da32f423bd0ef9f"
       ],
       "layout": "IPY_MODEL_8bfb8aa712e64613874fbe80161548d2"
      }
     },
     "4e83e6624bde428b9518c2901f16211f": {
      "model_module": "@jupyter-widgets/controls",
      "model_module_version": "1.5.0",
      "model_name": "ButtonModel",
      "state": {
       "description": "EDIT",
       "layout": "IPY_MODEL_f44edf208d204dcc9783e04c5d39fb6e",
       "style": "IPY_MODEL_af63a0b161f5487784a03bd803a4575e"
      }
     },
     "4e85aedd4cd44c24873b7b00057909b8": {
      "model_module": "@jupyter-widgets/controls",
      "model_module_version": "1.5.0",
      "model_name": "ButtonStyleModel",
      "state": {}
     },
     "4f1f1f63b4924b4699cbf021e15c1143": {
      "model_module": "@jupyter-widgets/controls",
      "model_module_version": "1.5.0",
      "model_name": "ButtonModel",
      "state": {
       "layout": "IPY_MODEL_dfd629796f2741a19700379f3ebb5561",
       "style": "IPY_MODEL_23599602276c417c95decac7332b0666"
      }
     },
     "4f4a555168f64594a0608be9ccfbc7e5": {
      "model_module": "@jupyter-widgets/base",
      "model_module_version": "1.2.0",
      "model_name": "LayoutModel",
      "state": {
       "overflow": "visible",
       "width": "100%"
      }
     },
     "4fd5a475de0540f2bae07811668ea533": {
      "model_module": "@jupyter-widgets/controls",
      "model_module_version": "1.5.0",
      "model_name": "ButtonStyleModel",
      "state": {}
     },
     "4fdce07f95684d7798df7f05bbcc3d1a": {
      "model_module": "@jupyter-widgets/controls",
      "model_module_version": "1.5.0",
      "model_name": "ProgressStyleModel",
      "state": {
       "description_width": ""
      }
     },
     "4fe7d92df36f4c26a214950f7b022110": {
      "model_module": "@jupyter-widgets/controls",
      "model_module_version": "1.5.0",
      "model_name": "VBoxModel",
      "state": {
       "children": [
        "IPY_MODEL_f413ca95cb304649978d11a8e4da347f",
        "IPY_MODEL_4ba45a196a244615b700562cbb984d4c",
        "IPY_MODEL_099d8ed111844deba188019af24504ba",
        "IPY_MODEL_9dd527a3b9614f6d83fa685aa0708ceb",
        "IPY_MODEL_206056aa8deb4325ad7375a4223951e6",
        "IPY_MODEL_02c8222fcb9742828868325bb7d4c3fd"
       ],
       "layout": "IPY_MODEL_f46eaa204dda41b8862ac7744022337d"
      }
     },
     "5027da749aa34d7880d5d03e2e627d37": {
      "model_module": "@jupyter-widgets/controls",
      "model_module_version": "1.5.0",
      "model_name": "HBoxModel",
      "state": {
       "children": [
        "IPY_MODEL_b02f585a58d546f4be78eda5eaa91ec9",
        "IPY_MODEL_a146bc4ae6b649bc8951250bc6fc7b32",
        "IPY_MODEL_d5f16654808245d9aef2c607b8fc3221",
        "IPY_MODEL_a6658d156c2245788a0b27cd450d7898"
       ],
       "layout": "IPY_MODEL_62c3b855ee68486094da62b41decb7c6"
      }
     },
     "504f61bd1f904f1e899c7ce29055ab99": {
      "model_module": "@jupyter-widgets/controls",
      "model_module_version": "1.5.0",
      "model_name": "HBoxModel",
      "state": {
       "children": [
        "IPY_MODEL_b573c01b8e344814b899ab2b5573105f",
        "IPY_MODEL_aa4dad2a790041208458af87ccf4b96f",
        "IPY_MODEL_3af3f6db6d464e50b1e0bc6e5705e02c",
        "IPY_MODEL_af081feaf6d945779c1b53b5d702ce1d"
       ],
       "layout": "IPY_MODEL_247937f3b5704dad86e674d5b7305772"
      }
     },
     "50a25d5f72b247059ece7280666dc675": {
      "model_module": "@jupyter-widgets/base",
      "model_module_version": "1.2.0",
      "model_name": "LayoutModel",
      "state": {
       "height": "32px",
       "overflow": "visible",
       "width": "100%"
      }
     },
     "50b7aa8f373c412292883b8cc1e3fd53": {
      "model_module": "@jupyter-widgets/base",
      "model_module_version": "1.2.0",
      "model_name": "LayoutModel",
      "state": {
       "display": "flex"
      }
     },
     "50bc563e79ce462b92af6c8848dbf2b2": {
      "model_module": "@jupyter-widgets/controls",
      "model_module_version": "1.5.0",
      "model_name": "ButtonModel",
      "state": {
       "layout": "IPY_MODEL_e248ce4add204dd5a7888bf297757d1e",
       "style": "IPY_MODEL_c63ab90747da4a73a884c9e263561c59"
      }
     },
     "50bd76a623504997b1981fd70ff4601c": {
      "model_module": "@jupyter-widgets/base",
      "model_module_version": "1.2.0",
      "model_name": "LayoutModel",
      "state": {
       "height": "32px",
       "overflow": "visible",
       "width": "100%"
      }
     },
     "50f097aed2824d1b98fdc652fa8f640b": {
      "model_module": "@jupyter-widgets/controls",
      "model_module_version": "1.5.0",
      "model_name": "DescriptionStyleModel",
      "state": {
       "description_width": ""
      }
     },
     "5115d380e53c45219e20b7ff11101a48": {
      "model_module": "@jupyter-widgets/controls",
      "model_module_version": "1.5.0",
      "model_name": "HBoxModel",
      "state": {
       "children": [
        "IPY_MODEL_8d6467a6e1a141c8b5a9753bf966866c",
        "IPY_MODEL_39280cb8236c4d07b003d889f918650a",
        "IPY_MODEL_a4bfa7d416cb43f29d3f9470b79ecb91",
        "IPY_MODEL_47237e09ebb34417a5d9209c25e0a930"
       ],
       "layout": "IPY_MODEL_6a97cee2f7254810b36df401ed9257d1"
      }
     },
     "5116da6e3d194216b213bfdaf2f744e9": {
      "model_module": "@jupyter-widgets/controls",
      "model_module_version": "1.5.0",
      "model_name": "ButtonModel",
      "state": {
       "layout": "IPY_MODEL_fc36781ba80d4b459b28cb8ce0a471e1",
       "style": "IPY_MODEL_52d4e3bd8be948649fc0372bdd147fd4"
      }
     },
     "5119ee67fa6a4db6beb5ee93a3e1d70f": {
      "model_module": "@jupyter-widgets/base",
      "model_module_version": "1.2.0",
      "model_name": "LayoutModel",
      "state": {
       "display": "flex",
       "width": "60px"
      }
     },
     "5123dbdcbd5c4db29e9af09ea40d6cc4": {
      "model_module": "@jupyter-widgets/controls",
      "model_module_version": "1.5.0",
      "model_name": "IntProgressModel",
      "state": {
       "layout": "IPY_MODEL_c44d40d8daea4b1bad9025a023d6813d",
       "max": 1,
       "style": "IPY_MODEL_200e721da79b47c6858e8e79d72d1c61"
      }
     },
     "51394b36205b49f699ed58e93b8b3125": {
      "model_module": "@jupyter-widgets/controls",
      "model_module_version": "1.5.0",
      "model_name": "IntProgressModel",
      "state": {
       "bar_style": "success",
       "layout": "IPY_MODEL_50a25d5f72b247059ece7280666dc675",
       "style": "IPY_MODEL_0689604590f0414bb6149cd0f8132875",
       "value": 100
      }
     },
     "513c84fc164c491684544f1df09c75f4": {
      "model_module": "@jupyter-widgets/controls",
      "model_module_version": "1.5.0",
      "model_name": "HBoxModel",
      "state": {
       "children": [
        "IPY_MODEL_6417d829f27d44c7a4e983374179975c",
        "IPY_MODEL_edc0e112721f4d41a6e03dbd5da9ec94",
        "IPY_MODEL_e84959216a6f4cd0afade254f602c7b2",
        "IPY_MODEL_df63c5cbcf2840f4b65797d07179f9c5"
       ],
       "layout": "IPY_MODEL_3b92270a49694732920b82b49d9cf27c"
      }
     },
     "51753b0f654e4158b9bdeda7063a0e90": {
      "model_module": "@jupyter-widgets/base",
      "model_module_version": "1.2.0",
      "model_name": "LayoutModel",
      "state": {
       "height": "32px",
       "overflow": "visible",
       "width": "100%"
      }
     },
     "519658610d79458ea9ca21f01103eda5": {
      "model_module": "@jupyter-widgets/controls",
      "model_module_version": "1.5.0",
      "model_name": "HTMLModel",
      "state": {
       "layout": "IPY_MODEL_43f5a8f8cc344775a0765480f7e948d9",
       "style": "IPY_MODEL_f130226986cc44dd907b2031c1b83330",
       "value": "<b>Class Options</b>"
      }
     },
     "51b639787e514c59be9777b67134b608": {
      "model_module": "@jupyter-widgets/controls",
      "model_module_version": "1.5.0",
      "model_name": "ButtonStyleModel",
      "state": {}
     },
     "51ce397a8a774d49b21ae81efc85753f": {
      "model_module": "@jupyter-widgets/controls",
      "model_module_version": "1.5.0",
      "model_name": "ProgressStyleModel",
      "state": {
       "description_width": ""
      }
     },
     "5224a634f7704c148b2c757b8aca03bb": {
      "model_module": "@jupyter-widgets/base",
      "model_module_version": "1.2.0",
      "model_name": "LayoutModel",
      "state": {
       "display": "flex",
       "width": "60px"
      }
     },
     "522d95da30be48d48093977dcac13224": {
      "model_module": "@jupyter-widgets/base",
      "model_module_version": "1.2.0",
      "model_name": "LayoutModel",
      "state": {
       "order": "-1",
       "overflow": "visible",
       "padding": "1px",
       "width": "0px"
      }
     },
     "524a403f523a41238ffef407815f824c": {
      "model_module": "@jupyter-widgets/base",
      "model_module_version": "1.2.0",
      "model_name": "LayoutModel",
      "state": {
       "display": "none"
      }
     },
     "52511736db6544238a9ec03dd72225a5": {
      "model_module": "@jupyter-widgets/base",
      "model_module_version": "1.2.0",
      "model_name": "LayoutModel",
      "state": {
       "display": "flex",
       "flex_flow": "row wrap"
      }
     },
     "52702998f04347f09e0cb19770500d40": {
      "model_module": "@jupyter-widgets/controls",
      "model_module_version": "1.5.0",
      "model_name": "ButtonStyleModel",
      "state": {}
     },
     "52793736553245e1b852708690a3b8b6": {
      "model_module": "@jupyter-widgets/base",
      "model_module_version": "1.2.0",
      "model_name": "LayoutModel",
      "state": {
       "order": "-1",
       "overflow": "visible",
       "padding": "1px",
       "width": "0px"
      }
     },
     "527b2fa1cef84fe8a9ec66a5f145941e": {
      "model_module": "@jupyter-widgets/controls",
      "model_module_version": "1.5.0",
      "model_name": "ButtonStyleModel",
      "state": {}
     },
     "52855ea71f974f80bdf1a18d7c1e10c0": {
      "model_module": "@jupyter-widgets/controls",
      "model_module_version": "1.5.0",
      "model_name": "DescriptionStyleModel",
      "state": {
       "description_width": ""
      }
     },
     "52d4e3bd8be948649fc0372bdd147fd4": {
      "model_module": "@jupyter-widgets/controls",
      "model_module_version": "1.5.0",
      "model_name": "ButtonStyleModel",
      "state": {}
     },
     "5310567046694a67921bd366a2d04130": {
      "model_module": "@jupyter-widgets/controls",
      "model_module_version": "1.5.0",
      "model_name": "VBoxModel",
      "state": {
       "children": [
        "IPY_MODEL_45bb420580eb466eba7a7e61a1a994b9",
        "IPY_MODEL_cd559a9d97334876956916739b1503d7",
        "IPY_MODEL_7a7b0889c8094b309f0936963054505d"
       ],
       "layout": "IPY_MODEL_20afad351bdf4be79d1d9b2e7bf9f610"
      }
     },
     "5352467134664178b04afdb726f440f7": {
      "model_module": "@jupyter-widgets/controls",
      "model_module_version": "1.5.0",
      "model_name": "ButtonStyleModel",
      "state": {}
     },
     "53531175aabb48a2846d37f8340f6ddb": {
      "model_module": "@jupyter-widgets/controls",
      "model_module_version": "1.5.0",
      "model_name": "IntProgressModel",
      "state": {
       "layout": "IPY_MODEL_b3ab5af71dc04825945d594b66f9f2b0",
       "style": "IPY_MODEL_c864a09c171646fdb7133c284718a452",
       "value": 30
      }
     },
     "537179c28a1547cfaf6e2ace13f31751": {
      "model_module": "@jupyter-widgets/base",
      "model_module_version": "1.2.0",
      "model_name": "LayoutModel",
      "state": {
       "display": "none"
      }
     },
     "537bde59ed5b4f1daabe537399651c50": {
      "model_module": "@jupyter-widgets/controls",
      "model_module_version": "1.5.0",
      "model_name": "LabelModel",
      "state": {
       "layout": "IPY_MODEL_6a946329694547c7aa6fa64a5bcb57a9",
       "style": "IPY_MODEL_0f61782a18274ae8867f0c72b00ede59",
       "value": "Energy Weapon:"
      }
     },
     "5386960d91f540b8a79a417e077e349a": {
      "model_module": "@jupyter-widgets/base",
      "model_module_version": "1.2.0",
      "model_name": "LayoutModel",
      "state": {}
     },
     "5396479b7da34b02bf02f96a72009267": {
      "model_module": "@jupyter-widgets/base",
      "model_module_version": "1.2.0",
      "model_name": "LayoutModel",
      "state": {
       "order": "-1",
       "overflow": "visible",
       "padding": "1px",
       "width": "0px"
      }
     },
     "53a578bd6c6c4da285daf3f0f82daeb0": {
      "model_module": "@jupyter-widgets/controls",
      "model_module_version": "1.5.0",
      "model_name": "ButtonModel",
      "state": {
       "description": "EDIT",
       "layout": "IPY_MODEL_d3d3edd49f9941a49dd713eb4589dc31",
       "style": "IPY_MODEL_81081bee633f49a394a386cab4c97d67"
      }
     },
     "53a663c59c084127bcf66cb2d8db0ca3": {
      "model_module": "@jupyter-widgets/base",
      "model_module_version": "1.2.0",
      "model_name": "LayoutModel",
      "state": {
       "display": "flex",
       "width": "60px"
      }
     },
     "53d1ea4a17734e74a1bf7ecd2dc69e2f": {
      "model_module": "@jupyter-widgets/base",
      "model_module_version": "1.2.0",
      "model_name": "LayoutModel",
      "state": {
       "height": "32px",
       "overflow": "visible",
       "width": "100%"
      }
     },
     "53ec82fe542e459ebce3e8243cdc75b1": {
      "model_module": "@jupyter-widgets/controls",
      "model_module_version": "1.5.0",
      "model_name": "ProgressStyleModel",
      "state": {
       "description_width": ""
      }
     },
     "545a41f2ae71475386c066b00c07a5f8": {
      "model_module": "@jupyter-widgets/controls",
      "model_module_version": "1.5.0",
      "model_name": "VBoxModel",
      "state": {
       "children": [
        "IPY_MODEL_be902e9c43834ebfb00d0940a8ac7aa5",
        "IPY_MODEL_7c1fb5f8ec8440cbb3cb1b8f7735c9d5",
        "IPY_MODEL_c462b17f59f84b99815208c331f3f54d",
        "IPY_MODEL_537bde59ed5b4f1daabe537399651c50",
        "IPY_MODEL_6b6ef61f725c43198fb8355097555986",
        "IPY_MODEL_241a5c77581d426389106e437c64d411",
        "IPY_MODEL_15e28ad6051c4c578b1b8b8e65ba0104",
        "IPY_MODEL_3e1bd40fbfde433abf1dea38306422d0",
        "IPY_MODEL_d28484684e8a4495be1b7e41e362d966",
        "IPY_MODEL_f929aa67c42140f28d771f2ad3dba6ce",
        "IPY_MODEL_149690847b5543f49293b835d57adbeb"
       ],
       "layout": "IPY_MODEL_9966aa0e2de4435b87042492d49c257b"
      }
     },
     "547d8b1c884c4ac5a8da74b52b343919": {
      "model_module": "@jupyter-widgets/base",
      "model_module_version": "1.2.0",
      "model_name": "LayoutModel",
      "state": {
       "display": "flex",
       "flex_flow": "row wrap"
      }
     },
     "549e6ba188074b2f9b4845b70ad039d4": {
      "model_module": "@jupyter-widgets/base",
      "model_module_version": "1.2.0",
      "model_name": "LayoutModel",
      "state": {
       "height": "32px",
       "overflow": "visible",
       "width": "100%"
      }
     },
     "54b0395b1c5a43eab70ac29cb52f40af": {
      "model_module": "@jupyter-widgets/base",
      "model_module_version": "1.2.0",
      "model_name": "LayoutModel",
      "state": {
       "display": "flex",
       "width": "60px"
      }
     },
     "54c7205de05e4e6dba3c92650a8052bb": {
      "model_module": "@jupyter-widgets/controls",
      "model_module_version": "1.5.0",
      "model_name": "ButtonModel",
      "state": {
       "button_style": "success",
       "disabled": true,
       "layout": "IPY_MODEL_9ecb71ad9b484c099d040c6dd80063ee",
       "style": "IPY_MODEL_b9fc6b634d5549d48a72bb2269d03e4f"
      }
     },
     "54f5c8f264314a699314a74fcb91e64e": {
      "model_module": "@jupyter-widgets/controls",
      "model_module_version": "1.5.0",
      "model_name": "ButtonModel",
      "state": {
       "description": "Next",
       "layout": "IPY_MODEL_9b81dfe20b074e62968d9807875d2cc7",
       "style": "IPY_MODEL_a72ae939b78f4ba4bb57d82629df9c7d"
      }
     },
     "556cfbc91d9f4097accd30f4c91c8d65": {
      "model_module": "@jupyter-widgets/controls",
      "model_module_version": "1.5.0",
      "model_name": "HBoxModel",
      "state": {
       "children": [
        "IPY_MODEL_dfbbd1e55c9043b2b3a96750945f8e51",
        "IPY_MODEL_93ff03a21ef9422ca816da3439c26c0b",
        "IPY_MODEL_374d01e35a364355bae8dff71b89b2ed",
        "IPY_MODEL_b3a60b452d0f4e9b8653074282547158"
       ],
       "layout": "IPY_MODEL_14d90f58cea649e5b475a13c8801a594"
      }
     },
     "5599c586d5774961bd359df0fc51c5b5": {
      "model_module": "@jupyter-widgets/base",
      "model_module_version": "1.2.0",
      "model_name": "LayoutModel",
      "state": {
       "order": "-1",
       "overflow": "visible",
       "padding": "1px",
       "width": "0px"
      }
     },
     "559e2597094b4321beb0c766520d38d6": {
      "model_module": "@jupyter-widgets/controls",
      "model_module_version": "1.5.0",
      "model_name": "HBoxModel",
      "state": {
       "children": [
        "IPY_MODEL_c9f147a6f9fd4f598fd44d14cb0f2541",
        "IPY_MODEL_895c23fe37bd4a2cbf63a57f326ed3d7",
        "IPY_MODEL_74eff877a0764dea86e405a56fe62c91",
        "IPY_MODEL_edc56df7b3be47d29c0efc5422da4ea1"
       ],
       "layout": "IPY_MODEL_79e48f454af24f50ba6604e9a848a843"
      }
     },
     "55ab474c916c4b0d8f45f1aefe947515": {
      "model_module": "@jupyter-widgets/controls",
      "model_module_version": "1.5.0",
      "model_name": "VBoxModel",
      "state": {
       "children": [
        "IPY_MODEL_5e11c66679954de2966e3cfce6e34c56",
        "IPY_MODEL_ccc2090e725e42369d5cd8520e57a7c0",
        "IPY_MODEL_03a88df2d40a4b6bb711d477ed34f06a"
       ],
       "layout": "IPY_MODEL_caa53c9423c94d0e8014c6511202bfc4"
      }
     },
     "55c67176a88b447b8ebf1e358f4c4fc7": {
      "model_module": "@jupyter-widgets/controls",
      "model_module_version": "1.5.0",
      "model_name": "ButtonModel",
      "state": {
       "layout": "IPY_MODEL_9113b5a9b406414dae3f682212dfb285",
       "style": "IPY_MODEL_0577b7c9d09f486794c417075c831e56"
      }
     },
     "56384ffa86cc46fda7d600535eedc0bc": {
      "model_module": "@jupyter-widgets/controls",
      "model_module_version": "1.5.0",
      "model_name": "LabelModel",
      "state": {
       "layout": "IPY_MODEL_faed9aa5d94c43c385522bcf7d784ff7",
       "style": "IPY_MODEL_977adaf655b84522911574aaa345b8fc",
       "value": "   objective"
      }
     },
     "566989441a5c43e2b2018d89b36b61af": {
      "model_module": "@jupyter-widgets/controls",
      "model_module_version": "1.5.0",
      "model_name": "ButtonModel",
      "state": {
       "layout": "IPY_MODEL_330d5b40f3874d8b89e1858792b3fb95",
       "style": "IPY_MODEL_3fbbd6850ccb406d9109c5c343d7077f"
      }
     },
     "566f3251cf904108a6d710f97f8aeb7f": {
      "model_module": "@jupyter-widgets/controls",
      "model_module_version": "1.5.0",
      "model_name": "DescriptionStyleModel",
      "state": {
       "description_width": ""
      }
     },
     "568988e4140a4a05b96ab854e8af732e": {
      "model_module": "@jupyter-widgets/controls",
      "model_module_version": "1.5.0",
      "model_name": "DescriptionStyleModel",
      "state": {
       "description_width": ""
      }
     },
     "568ee86495de4496b4381283b0caf162": {
      "model_module": "@jupyter-widgets/controls",
      "model_module_version": "1.5.0",
      "model_name": "ButtonStyleModel",
      "state": {}
     },
     "56ed171bca004287b0f8115509693420": {
      "model_module": "@jupyter-widgets/controls",
      "model_module_version": "1.5.0",
      "model_name": "DescriptionStyleModel",
      "state": {
       "description_width": ""
      }
     },
     "5703a900dd7f4228a544ac00f3dd1df9": {
      "model_module": "@jupyter-widgets/controls",
      "model_module_version": "1.5.0",
      "model_name": "ButtonModel",
      "state": {
       "description": "EDIT",
       "layout": "IPY_MODEL_f21126fad734431492ee2daf829b33d6",
       "style": "IPY_MODEL_ea1e70abf0014d83a0323aa636300065"
      }
     },
     "571bfca177b94626b08db9b26ebe98b8": {
      "model_module": "@jupyter-widgets/controls",
      "model_module_version": "1.5.0",
      "model_name": "DescriptionStyleModel",
      "state": {
       "description_width": ""
      }
     },
     "572ef4bbe4004ea1b23b2fb8396ea34b": {
      "model_module": "@jupyter-widgets/controls",
      "model_module_version": "1.5.0",
      "model_name": "ButtonStyleModel",
      "state": {}
     },
     "5759ded93ad249c1a6bf9a53c658bcc1": {
      "model_module": "@jupyter-widgets/controls",
      "model_module_version": "1.5.0",
      "model_name": "HTMLModel",
      "state": {
       "layout": "IPY_MODEL_d7e0204f95784b7493eb49edb70d33e5",
       "style": "IPY_MODEL_b748fd2c46ce48da8f7e4810a8b40c68",
       "value": "<font size=\"1\">Triumphs/Account/Moments of Triumph/Moments of Triumph/Skolas</font size=>"
      }
     },
     "577daa5fabd34dfd97c24afce601d62c": {
      "model_module": "@jupyter-widgets/controls",
      "model_module_version": "1.5.0",
      "model_name": "ButtonModel",
      "state": {
       "description": "EDIT",
       "layout": "IPY_MODEL_dc8308a466d241f68b6a7855d6f077c4",
       "style": "IPY_MODEL_dfc61fbab8a44edab24b8e5fe9250074"
      }
     },
     "57a38507fac34483a76ffa5c8005e5cb": {
      "model_module": "@jupyter-widgets/controls",
      "model_module_version": "1.5.0",
      "model_name": "ButtonStyleModel",
      "state": {}
     },
     "57a8c80aa9bc452585b1779873987876": {
      "model_module": "@jupyter-widgets/base",
      "model_module_version": "1.2.0",
      "model_name": "LayoutModel",
      "state": {
       "height": "32px",
       "overflow": "visible",
       "width": "100%"
      }
     },
     "57becc007d9842359c8d6a560d518e00": {
      "model_module": "@jupyter-widgets/controls",
      "model_module_version": "1.5.0",
      "model_name": "LabelModel",
      "state": {
       "layout": "IPY_MODEL_64980d73d4ca45ad9438e63f264d34e4",
       "style": "IPY_MODEL_c12c0263b1684f4f812ef490bbae377e",
       "value": "    Opponents defeated (1161/500)"
      }
     },
     "57cd61115b13429ab5221b8af41875ac": {
      "model_module": "@jupyter-widgets/base",
      "model_module_version": "1.2.0",
      "model_name": "LayoutModel",
      "state": {
       "order": "-1",
       "overflow": "visible",
       "padding": "1px",
       "width": "0px"
      }
     },
     "581252b16fed4acaa1b6573deadf8581": {
      "model_module": "@jupyter-widgets/controls",
      "model_module_version": "1.5.0",
      "model_name": "ButtonModel",
      "state": {
       "description": "EDIT",
       "layout": "IPY_MODEL_1a0c21d757ca4a51817fbc562782e391",
       "style": "IPY_MODEL_3d26c9cca32d4a2a968e23adae15db58"
      }
     },
     "582f29c0951d4908a1c9270e4793bb34": {
      "model_module": "@jupyter-widgets/controls",
      "model_module_version": "1.5.0",
      "model_name": "DescriptionStyleModel",
      "state": {
       "description_width": ""
      }
     },
     "58356388c946484883de4ff16d7e2748": {
      "model_module": "@jupyter-widgets/controls",
      "model_module_version": "1.5.0",
      "model_name": "ButtonStyleModel",
      "state": {}
     },
     "585a8455a6054a9ebbc40a7b286c555d": {
      "model_module": "@jupyter-widgets/controls",
      "model_module_version": "1.5.0",
      "model_name": "IntProgressModel",
      "state": {
       "bar_style": "success",
       "layout": "IPY_MODEL_6c7f1fc4ac394f26ba370cb426af76c2",
       "max": 10,
       "style": "IPY_MODEL_641a38002d8c4d2e88cb04f7438dc4ac",
       "value": 10
      }
     },
     "5878353d65ce475a88b3f93bcf784b3b": {
      "model_module": "@jupyter-widgets/controls",
      "model_module_version": "1.5.0",
      "model_name": "ButtonStyleModel",
      "state": {}
     },
     "58c111031f184ac6b3070ca0023ffdaf": {
      "model_module": "@jupyter-widgets/controls",
      "model_module_version": "1.5.0",
      "model_name": "DescriptionStyleModel",
      "state": {
       "description_width": ""
      }
     },
     "58d5b8fe08e348d88d3ad6962cddebf7": {
      "model_module": "@jupyter-widgets/controls",
      "model_module_version": "1.5.0",
      "model_name": "DescriptionStyleModel",
      "state": {
       "description_width": ""
      }
     },
     "59425e5dc8f0495e858492aa5b6775a2": {
      "model_module": "@jupyter-widgets/base",
      "model_module_version": "1.2.0",
      "model_name": "LayoutModel",
      "state": {
       "height": "32px",
       "order": "-2",
       "width": "32px"
      }
     },
     "59542fd965d34ba59c50c7ed28aa375e": {
      "model_module": "@jupyter-widgets/controls",
      "model_module_version": "1.5.0",
      "model_name": "DescriptionStyleModel",
      "state": {
       "description_width": ""
      }
     },
     "596e7275f3624d6f99dd6533fb6c9ff8": {
      "model_module": "@jupyter-widgets/controls",
      "model_module_version": "1.5.0",
      "model_name": "ButtonStyleModel",
      "state": {}
     },
     "59daf7cb1ca2474b83fd246e6fe2ca43": {
      "model_module": "@jupyter-widgets/controls",
      "model_module_version": "1.5.0",
      "model_name": "HBoxModel",
      "state": {
       "children": [
        "IPY_MODEL_9c35366f53f44bb29d876c0781a93ddf",
        "IPY_MODEL_e012d8470db749fa804ef52efe453d16",
        "IPY_MODEL_42f218ea40114b46ba21b5750d372339",
        "IPY_MODEL_d5c04e877811433f8e52a7e447bee96f"
       ],
       "layout": "IPY_MODEL_71ed62110c2e4cda9c2ea72bc5f255fc"
      }
     },
     "59f26e765b834df383d6aa668c96c2d0": {
      "model_module": "@jupyter-widgets/controls",
      "model_module_version": "1.5.0",
      "model_name": "LabelModel",
      "state": {
       "layout": "IPY_MODEL_349170a60b2c4cc09c78503331ca8a6e",
       "style": "IPY_MODEL_e5f351b0631242e1b575543e05a6ca6b",
       "value": "   objective"
      }
     },
     "5a2fab973b01416bb29cb865014dec38": {
      "model_module": "@jupyter-widgets/controls",
      "model_module_version": "1.5.0",
      "model_name": "ProgressStyleModel",
      "state": {
       "description_width": ""
      }
     },
     "5a31e120f23749cfa8da4acc20513319": {
      "model_module": "@jupyter-widgets/controls",
      "model_module_version": "1.5.0",
      "model_name": "ButtonStyleModel",
      "state": {}
     },
     "5a3632e6333148938269274135a8fe48": {
      "model_module": "@jupyter-widgets/base",
      "model_module_version": "1.2.0",
      "model_name": "LayoutModel",
      "state": {
       "height": "32px",
       "overflow": "visible",
       "width": "100%"
      }
     },
     "5a3d3104ea20465f9b036731c6c5cfe7": {
      "model_module": "@jupyter-widgets/controls",
      "model_module_version": "1.5.0",
      "model_name": "VBoxModel",
      "state": {
       "children": [
        "IPY_MODEL_556cfbc91d9f4097accd30f4c91c8d65",
        "IPY_MODEL_8c555af2469c4dbf9de9ceba32f90a6e",
        "IPY_MODEL_559e2597094b4321beb0c766520d38d6",
        "IPY_MODEL_c389a33b72a540c591866c77f5aaf0c3",
        "IPY_MODEL_31f2edbc5bc54092a21aba718a62d15b",
        "IPY_MODEL_513c84fc164c491684544f1df09c75f4"
       ],
       "layout": "IPY_MODEL_27127803bcbf43debfba1edc5cff7395"
      }
     },
     "5a48ab9eaeff477b9a0a11f96e133c84": {
      "model_module": "@jupyter-widgets/controls",
      "model_module_version": "1.5.0",
      "model_name": "HTMLModel",
      "state": {
       "layout": "IPY_MODEL_d608e3589e3d40b1a0f9014dc2757a1e",
       "style": "IPY_MODEL_1fc46657f57246de838afc3477dd49bc",
       "value": "<font size=\"1\">Triumphs/Vanguard/Raids/Last Wish/Coliseum Champion</font size=>"
      }
     },
     "5a72f76f0253466bb791d3af404c361d": {
      "model_module": "@jupyter-widgets/base",
      "model_module_version": "1.2.0",
      "model_name": "LayoutModel",
      "state": {
       "height": "32px",
       "overflow": "visible",
       "width": "100%"
      }
     },
     "5a81e16f4ced49c28529ce19d082e442": {
      "model_module": "@jupyter-widgets/controls",
      "model_module_version": "1.5.0",
      "model_name": "ButtonModel",
      "state": {
       "description": "EDIT",
       "layout": "IPY_MODEL_7e3c3133406d4cad9218c3f697f88cfc",
       "style": "IPY_MODEL_f1cac9010af54913ae4f3adfa65e5879"
      }
     },
     "5ac381c4507c4920b731e58168a613e4": {
      "model_module": "@jupyter-widgets/controls",
      "model_module_version": "1.5.0",
      "model_name": "VBoxModel",
      "state": {
       "children": [
        "IPY_MODEL_03ffc748e3da456c9d96a0c5e16939c0",
        "IPY_MODEL_a049f7d223cc430287a2895af8b3311a",
        "IPY_MODEL_8efc0857a2ef4904a2a391a6ebfe2bb1",
        "IPY_MODEL_e0bc846dfc6c419796452c8f6171b37f"
       ],
       "layout": "IPY_MODEL_01674bee75734e3792b0622bb0b51888"
      }
     },
     "5b8ef26a69654303ac9157a03c09675d": {
      "model_module": "@jupyter-widgets/controls",
      "model_module_version": "1.5.0",
      "model_name": "ButtonStyleModel",
      "state": {}
     },
     "5bd505dfeade4241a370d70756e7a6e7": {
      "model_module": "@jupyter-widgets/base",
      "model_module_version": "1.2.0",
      "model_name": "LayoutModel",
      "state": {}
     },
     "5cc04574c0744e128904434a51d157cd": {
      "model_module": "@jupyter-widgets/base",
      "model_module_version": "1.2.0",
      "model_name": "LayoutModel",
      "state": {
       "order": "-1",
       "overflow": "visible",
       "padding": "1px",
       "width": "0px"
      }
     },
     "5d001e37265e443090808b60f61cc304": {
      "model_module": "@jupyter-widgets/controls",
      "model_module_version": "1.5.0",
      "model_name": "DescriptionStyleModel",
      "state": {
       "description_width": ""
      }
     },
     "5d16e4a129024e77b6f62ef5241e9279": {
      "model_module": "@jupyter-widgets/controls",
      "model_module_version": "1.5.0",
      "model_name": "ButtonModel",
      "state": {
       "description": "EDIT",
       "layout": "IPY_MODEL_f4d82d10386c4393ae39eb8d47e6919e",
       "style": "IPY_MODEL_e0cceee8623d46bc85b92ac823eee103"
      }
     },
     "5d1cd26673864be6a80a1df751162179": {
      "model_module": "@jupyter-widgets/controls",
      "model_module_version": "1.5.0",
      "model_name": "ProgressStyleModel",
      "state": {
       "description_width": ""
      }
     },
     "5d2f72b82aed47e59e5cc7f1859bbdda": {
      "model_module": "@jupyter-widgets/base",
      "model_module_version": "1.2.0",
      "model_name": "LayoutModel",
      "state": {
       "display": "flex",
       "width": "60px"
      }
     },
     "5d5d822cf9404ef8a4749d5bc822d73a": {
      "model_module": "@jupyter-widgets/base",
      "model_module_version": "1.2.0",
      "model_name": "LayoutModel",
      "state": {
       "order": "-1",
       "overflow": "visible",
       "padding": "1px",
       "width": "0px"
      }
     },
     "5df4f1ca80594ebe8e88c775f078bc19": {
      "model_module": "@jupyter-widgets/controls",
      "model_module_version": "1.5.0",
      "model_name": "ProgressStyleModel",
      "state": {
       "description_width": ""
      }
     },
     "5e11c66679954de2966e3cfce6e34c56": {
      "model_module": "@jupyter-widgets/controls",
      "model_module_version": "1.5.0",
      "model_name": "VBoxModel",
      "state": {
       "children": [
        "IPY_MODEL_87688e0ce9fb4dd48ca828ea723c1cba",
        "IPY_MODEL_1a9f2614a7e842a9928a21c9452951c0",
        "IPY_MODEL_672e0191ff264d199b71cdb17ab6d68c",
        "IPY_MODEL_a8444e633c0f434e88a6f6eaa89860ec",
        "IPY_MODEL_f95c86cc45064c308f5fe8786a0953e8",
        "IPY_MODEL_0ba344aa40b94dc2943982befe6cd245",
        "IPY_MODEL_804009a9309749ea8ee0a4f1b2bab750"
       ],
       "layout": "IPY_MODEL_1b0b652ac83b4fceb66875ad71266b0e"
      }
     },
     "5e1770955e884e039b4a4e408c41d8a2": {
      "model_module": "@jupyter-widgets/controls",
      "model_module_version": "1.5.0",
      "model_name": "DescriptionStyleModel",
      "state": {
       "description_width": ""
      }
     },
     "5e1d605fda7240ae8a178e50013d44c4": {
      "model_module": "@jupyter-widgets/controls",
      "model_module_version": "1.5.0",
      "model_name": "DescriptionStyleModel",
      "state": {
       "description_width": ""
      }
     },
     "5e1d7c3ef0554e7e84bd578d9a66ae4d": {
      "model_module": "@jupyter-widgets/controls",
      "model_module_version": "1.5.0",
      "model_name": "ButtonStyleModel",
      "state": {}
     },
     "5e608635e62943889456c70dd2804662": {
      "model_module": "@jupyter-widgets/base",
      "model_module_version": "1.2.0",
      "model_name": "LayoutModel",
      "state": {
       "order": "-1",
       "overflow": "visible",
       "padding": "1px",
       "width": "0px"
      }
     },
     "5e70d6dcd9f44679934c1b5fc575641d": {
      "model_module": "@jupyter-widgets/controls",
      "model_module_version": "1.5.0",
      "model_name": "ButtonModel",
      "state": {
       "layout": "IPY_MODEL_72cd51dec47145c781800899b26ca61e",
       "style": "IPY_MODEL_ee0a16513507407ea08b824af98433b1"
      }
     },
     "5e7317bea7374d91823b7f5c3d575433": {
      "model_module": "@jupyter-widgets/controls",
      "model_module_version": "1.5.0",
      "model_name": "DescriptionStyleModel",
      "state": {
       "description_width": ""
      }
     },
     "5ea2d6376fa54d6ea2bdd7a92d9eb5b8": {
      "model_module": "@jupyter-widgets/base",
      "model_module_version": "1.2.0",
      "model_name": "LayoutModel",
      "state": {}
     },
     "5ec417f6250e4deca68afc8948f25041": {
      "model_module": "@jupyter-widgets/controls",
      "model_module_version": "1.5.0",
      "model_name": "IntProgressModel",
      "state": {
       "layout": "IPY_MODEL_d34ba39333fb4f679a061003927500f4",
       "max": 25,
       "style": "IPY_MODEL_d573c1351c8d41e99686a0f45937f8c0",
       "value": 16
      }
     },
     "5ec6b849020648af8b8dc8f6296bcf3d": {
      "model_module": "@jupyter-widgets/controls",
      "model_module_version": "1.5.0",
      "model_name": "IntProgressModel",
      "state": {
       "layout": "IPY_MODEL_1ac07fec3e624c7b92cb29ae688c879e",
       "style": "IPY_MODEL_281ed9d176b0494f8c2512280b564b77",
       "value": 30
      }
     },
     "5f1a169232e34269b81979307d4348d3": {
      "model_module": "@jupyter-widgets/controls",
      "model_module_version": "1.5.0",
      "model_name": "HBoxModel",
      "state": {
       "children": [
        "IPY_MODEL_4f1f1f63b4924b4699cbf021e15c1143",
        "IPY_MODEL_9cf494bdda154d5280a972d701048408",
        "IPY_MODEL_250a8e68523843fcabe0a5bb5ca427c8",
        "IPY_MODEL_a51e78e46fb04bcf86e151fd8002f0bf"
       ],
       "layout": "IPY_MODEL_281cb5440e044c3386e2d6557cd250d7"
      }
     },
     "5f85cb00df864a76a9642fed5f1f5f9c": {
      "model_module": "@jupyter-widgets/base",
      "model_module_version": "1.2.0",
      "model_name": "LayoutModel",
      "state": {
       "display": "flex",
       "width": "60px"
      }
     },
     "5f9f3da343d34eab9fc497aa82117d89": {
      "model_module": "@jupyter-widgets/base",
      "model_module_version": "1.2.0",
      "model_name": "LayoutModel",
      "state": {
       "order": "-1",
       "overflow": "visible",
       "padding": "1px",
       "width": "0px"
      }
     },
     "5fe06f3bfd0a450bb0ed0908da9ddacd": {
      "model_module": "@jupyter-widgets/controls",
      "model_module_version": "1.5.0",
      "model_name": "HBoxModel",
      "state": {
       "children": [
        "IPY_MODEL_55ab474c916c4b0d8f45f1aefe947515",
        "IPY_MODEL_b14c05025db44b37bfe6da3d1a381938"
       ],
       "layout": "IPY_MODEL_2211b5871bfb4aef82ce2ef906fb6f85"
      }
     },
     "602b2c522fc44cf6a7eab1b2fa3cea41": {
      "model_module": "@jupyter-widgets/controls",
      "model_module_version": "1.5.0",
      "model_name": "LabelModel",
      "state": {
       "layout": "IPY_MODEL_8f15708be8894f3583a43766f1a9b552",
       "style": "IPY_MODEL_4c90d72ae506482aae585601f695fa48",
       "value": "    Hunters defeated (521/100)"
      }
     },
     "603c5e7277cf45c1b1acdea81b95c0e8": {
      "model_module": "@jupyter-widgets/controls",
      "model_module_version": "1.5.0",
      "model_name": "HTMLModel",
      "state": {
       "layout": "IPY_MODEL_dd08596d99e347e9bbda7d5381071ce0",
       "style": "IPY_MODEL_ec9a332bfee048f1869fce747c05d4cf",
       "value": "<font size=\"5\"><b>Maximum Carnage</b></font size=>"
      }
     },
     "60584f6dc3bb4eaf907825951dc2ac0a": {
      "model_module": "@jupyter-widgets/base",
      "model_module_version": "1.2.0",
      "model_name": "LayoutModel",
      "state": {
       "display": "none"
      }
     },
     "606ed147798d48c2876ebc71db40c39f": {
      "model_module": "@jupyter-widgets/controls",
      "model_module_version": "1.5.0",
      "model_name": "ButtonModel",
      "state": {
       "description": "EDIT",
       "layout": "IPY_MODEL_8b0cd510b58947c68af20d169de48902",
       "style": "IPY_MODEL_596e7275f3624d6f99dd6533fb6c9ff8"
      }
     },
     "60924766d48f41698a4657bd12076a5a": {
      "model_module": "@jupyter-widgets/controls",
      "model_module_version": "1.5.0",
      "model_name": "ProgressStyleModel",
      "state": {
       "description_width": ""
      }
     },
     "60b3d2cc6a9144bf8a08ae322bac383f": {
      "model_module": "@jupyter-widgets/controls",
      "model_module_version": "1.5.0",
      "model_name": "DescriptionStyleModel",
      "state": {
       "description_width": ""
      }
     },
     "6161c19179464472b10553fb7cd9ee84": {
      "model_module": "@jupyter-widgets/controls",
      "model_module_version": "1.5.0",
      "model_name": "ButtonStyleModel",
      "state": {}
     },
     "61a2fce7e31c4b5a9d0fa51f1fb76bae": {
      "model_module": "@jupyter-widgets/base",
      "model_module_version": "1.2.0",
      "model_name": "LayoutModel",
      "state": {
       "height": "32px",
       "overflow": "visible",
       "width": "100%"
      }
     },
     "61a84acf4cf34b23b469471df3be8854": {
      "model_module": "@jupyter-widgets/controls",
      "model_module_version": "1.5.0",
      "model_name": "HBoxModel",
      "state": {
       "children": [
        "IPY_MODEL_1a29f4f5eb50487ebd6e5557be91d96c",
        "IPY_MODEL_bbcd137fb66347c297b80760802993d8",
        "IPY_MODEL_fa850f6a5de341c4a48308392cf08f25",
        "IPY_MODEL_2090db523fe34336bdcc51149fcbdfd2"
       ],
       "layout": "IPY_MODEL_8253bcec23c449a79d72a6820bc95c60"
      }
     },
     "61b522f8ca334bf4b4ddd326bf8e4dd2": {
      "model_module": "@jupyter-widgets/controls",
      "model_module_version": "1.5.0",
      "model_name": "LabelModel",
      "state": {
       "layout": "IPY_MODEL_38cc6eff61d846c594b9ca0e684a8a1c",
       "style": "IPY_MODEL_6b476f81260c4f06bb2af1490a1e3c3f",
       "value": "Class:"
      }
     },
     "61fc45402e404b6cb62202a99425faf1": {
      "model_module": "@jupyter-widgets/base",
      "model_module_version": "1.2.0",
      "model_name": "LayoutModel",
      "state": {
       "height": "32px",
       "overflow": "visible",
       "width": "100%"
      }
     },
     "61fd40648d8f4d1f81340bf7a4533248": {
      "model_module": "@jupyter-widgets/controls",
      "model_module_version": "1.5.0",
      "model_name": "ButtonStyleModel",
      "state": {}
     },
     "61fe4c5a5e8f4572b27a0a9e9b67e2d0": {
      "model_module": "@jupyter-widgets/controls",
      "model_module_version": "1.5.0",
      "model_name": "ButtonStyleModel",
      "state": {}
     },
     "6200e343f1454e1b8e83f0f4e461ac78": {
      "model_module": "@jupyter-widgets/controls",
      "model_module_version": "1.5.0",
      "model_name": "ProgressStyleModel",
      "state": {
       "description_width": ""
      }
     },
     "6230d392e8d246038db81e5c20c9c0a9": {
      "model_module": "@jupyter-widgets/base",
      "model_module_version": "1.2.0",
      "model_name": "LayoutModel",
      "state": {
       "order": "-1",
       "overflow": "visible",
       "padding": "1px",
       "width": "0px"
      }
     },
     "623847642ee44c099c3f64053334e6a1": {
      "model_module": "@jupyter-widgets/controls",
      "model_module_version": "1.5.0",
      "model_name": "HBoxModel",
      "state": {
       "children": [
        "IPY_MODEL_2cf51b7bc74742f1b8146e2056db178a",
        "IPY_MODEL_70b9b3e070614823af0d3b842539aae5",
        "IPY_MODEL_bb334d97d9b8448fa16480d20e56442c",
        "IPY_MODEL_f27d3de5f7704ba3beb0bc2cb1101956"
       ],
       "layout": "IPY_MODEL_cc16ea0d98b64a1a8dff5dc006c2ad48"
      }
     },
     "623a9fabc3e140d7beffe951d662a5e7": {
      "model_module": "@jupyter-widgets/base",
      "model_module_version": "1.2.0",
      "model_name": "LayoutModel",
      "state": {
       "height": "32px",
       "overflow": "visible",
       "width": "100%"
      }
     },
     "62c3b855ee68486094da62b41decb7c6": {
      "model_module": "@jupyter-widgets/base",
      "model_module_version": "1.2.0",
      "model_name": "LayoutModel",
      "state": {
       "display": "none"
      }
     },
     "633eb959eef54af0b5ecda2dc4cf0e3e": {
      "model_module": "@jupyter-widgets/controls",
      "model_module_version": "1.5.0",
      "model_name": "HTMLModel",
      "state": {
       "layout": "IPY_MODEL_157d1b62623440af9171eac0e290b993",
       "style": "IPY_MODEL_5e7317bea7374d91823b7f5c3d575433",
       "value": "<i></i>"
      }
     },
     "6340117df34a4e88a449e5dbab6ff06c": {
      "model_module": "@jupyter-widgets/controls",
      "model_module_version": "1.5.0",
      "model_name": "DescriptionStyleModel",
      "state": {
       "description_width": ""
      }
     },
     "6382069d8b6d4dbeb69ef5458dd571bd": {
      "model_module": "@jupyter-widgets/controls",
      "model_module_version": "1.5.0",
      "model_name": "HBoxModel",
      "state": {
       "children": [
        "IPY_MODEL_aaf1db2968a04f5cb358f28acc66ee18",
        "IPY_MODEL_0af241be251b4316aef4a08d07da9bbb",
        "IPY_MODEL_a55815d1b0104b1d9b76516d7e81d98e",
        "IPY_MODEL_9681d21952284ec1a4480e634e0bf23e"
       ],
       "layout": "IPY_MODEL_7dafbfbbcd644d6e80210e8679963d9d"
      }
     },
     "63b10c0538fe4a2eafd4092e23abcfff": {
      "model_module": "@jupyter-widgets/controls",
      "model_module_version": "1.5.0",
      "model_name": "ProgressStyleModel",
      "state": {
       "description_width": ""
      }
     },
     "63b970daf92346d5bc2a93424b19dfde": {
      "model_module": "@jupyter-widgets/controls",
      "model_module_version": "1.5.0",
      "model_name": "ButtonStyleModel",
      "state": {}
     },
     "63c51e142f1b4668bbc06ffd1834be06": {
      "model_module": "@jupyter-widgets/base",
      "model_module_version": "1.2.0",
      "model_name": "LayoutModel",
      "state": {}
     },
     "63d1450115814e0d9243afaa1c7cde63": {
      "model_module": "@jupyter-widgets/base",
      "model_module_version": "1.2.0",
      "model_name": "LayoutModel",
      "state": {
       "display": "flex",
       "width": "60px"
      }
     },
     "6417d829f27d44c7a4e983374179975c": {
      "model_module": "@jupyter-widgets/controls",
      "model_module_version": "1.5.0",
      "model_name": "ButtonModel",
      "state": {
       "layout": "IPY_MODEL_465437e8ed25446594e6edae86f79aac",
       "style": "IPY_MODEL_174624b5b7e6401085e996cb4f7728d4"
      }
     },
     "641a38002d8c4d2e88cb04f7438dc4ac": {
      "model_module": "@jupyter-widgets/controls",
      "model_module_version": "1.5.0",
      "model_name": "ProgressStyleModel",
      "state": {
       "description_width": ""
      }
     },
     "6444623a71484e4d978bf0a7868faf79": {
      "model_module": "@jupyter-widgets/controls",
      "model_module_version": "1.5.0",
      "model_name": "ButtonModel",
      "state": {
       "description": "EDIT",
       "layout": "IPY_MODEL_90d5eb8ef1a84dc6918d402c3c5561d3",
       "style": "IPY_MODEL_c784dce0c88d430b90be8c56b05738ce"
      }
     },
     "64595a78402648f199f8d9db82b47965": {
      "model_module": "@jupyter-widgets/controls",
      "model_module_version": "1.5.0",
      "model_name": "IntProgressModel",
      "state": {
       "layout": "IPY_MODEL_779594501f824893872ee28d44614ee2",
       "style": "IPY_MODEL_b113531f40d54d84a63ff4e8a0afe206",
       "value": 30
      }
     },
     "647cb9b1d2bd46d99758f4edce90f001": {
      "model_module": "@jupyter-widgets/base",
      "model_module_version": "1.2.0",
      "model_name": "LayoutModel",
      "state": {
       "display": "flex"
      }
     },
     "64980d73d4ca45ad9438e63f264d34e4": {
      "model_module": "@jupyter-widgets/base",
      "model_module_version": "1.2.0",
      "model_name": "LayoutModel",
      "state": {
       "order": "-1",
       "overflow": "visible",
       "padding": "1px",
       "width": "0px"
      }
     },
     "64a3fdc99b3f4a1fa68e22588a8a952d": {
      "model_module": "@jupyter-widgets/controls",
      "model_module_version": "1.5.0",
      "model_name": "HBoxModel",
      "state": {
       "children": [
        "IPY_MODEL_4560cc9214284f0bb6646fcd4aa1fecc",
        "IPY_MODEL_64595a78402648f199f8d9db82b47965",
        "IPY_MODEL_8980187962b447dab19b270262d51789",
        "IPY_MODEL_8f51c42e2c6f45f7987bb8b1daa22b21"
       ],
       "layout": "IPY_MODEL_8f034b7bf48e4875a8cbbf0348cd699e"
      }
     },
     "64e5b0efef294bc395b9cef4b4529617": {
      "model_module": "@jupyter-widgets/base",
      "model_module_version": "1.2.0",
      "model_name": "LayoutModel",
      "state": {
       "overflow": "visible",
       "width": "100%"
      }
     },
     "64e6a447f23d4bfe905dee5b8db88d7a": {
      "model_module": "@jupyter-widgets/controls",
      "model_module_version": "1.5.0",
      "model_name": "HBoxModel",
      "state": {
       "children": [
        "IPY_MODEL_bb5ec085512c452d84b8268e5b9fb409",
        "IPY_MODEL_ba70cb5cb44540199bead5f953efc4a1",
        "IPY_MODEL_9be2fe6f740a4995b88626beb353bf26",
        "IPY_MODEL_250b341c97ba472eafd5ea5f62bcf868"
       ],
       "layout": "IPY_MODEL_c5a753384b9f46d7ad887483c1187b50"
      }
     },
     "64f67ff80af148a4a401db609f1a0b7b": {
      "model_module": "@jupyter-widgets/controls",
      "model_module_version": "1.5.0",
      "model_name": "HTMLModel",
      "state": {
       "layout": "IPY_MODEL_670f6245070747b59cec2d381c712fa0",
       "style": "IPY_MODEL_f301f8377b104a7c9676ce98434dde55",
       "value": "<font size=\"1\">Triumphs/Crucible/Lifetime/Valor Ranks/Season 6: Valor</font size=>"
      }
     },
     "651178119bce4c159e0cd2d26570257a": {
      "model_module": "@jupyter-widgets/controls",
      "model_module_version": "1.5.0",
      "model_name": "DescriptionStyleModel",
      "state": {
       "description_width": ""
      }
     },
     "65562950f4a64bd5b2ee0bc908fdde92": {
      "model_module": "@jupyter-widgets/controls",
      "model_module_version": "1.5.0",
      "model_name": "ButtonModel",
      "state": {
       "layout": "IPY_MODEL_2b330199ffbb4db1b658d6197f3aab24",
       "style": "IPY_MODEL_b5a90d6ecdb44b0a99b80ae651fba22d"
      }
     },
     "65608235ff584053b5493ee327512717": {
      "model_module": "@jupyter-widgets/base",
      "model_module_version": "1.2.0",
      "model_name": "LayoutModel",
      "state": {
       "height": "32px",
       "overflow": "visible",
       "width": "100%"
      }
     },
     "658fc628603a4f4c9b9381b440059803": {
      "model_module": "@jupyter-widgets/base",
      "model_module_version": "1.2.0",
      "model_name": "LayoutModel",
      "state": {
       "overflow": "visible",
       "width": "100%"
      }
     },
     "659c4bb299d9485ba87d6f49265232b7": {
      "model_module": "@jupyter-widgets/controls",
      "model_module_version": "1.5.0",
      "model_name": "HBoxModel",
      "state": {
       "children": [
        "IPY_MODEL_163a9d74e0634ed582a34311234a797a",
        "IPY_MODEL_38d999fb09d4465ea999473f2737c69d",
        "IPY_MODEL_828d779e70204aeca5718dd4577a7b11",
        "IPY_MODEL_9e6e4d1547e946c6bcaa9786f53faba5"
       ],
       "layout": "IPY_MODEL_68d1701d556a447cb1696714d3de3c7b"
      }
     },
     "65a1f97857d5423dab8205584a95aa5b": {
      "model_module": "@jupyter-widgets/base",
      "model_module_version": "1.2.0",
      "model_name": "LayoutModel",
      "state": {
       "display": "flex"
      }
     },
     "65e72b1ebff549f3965d558441b756a4": {
      "model_module": "@jupyter-widgets/base",
      "model_module_version": "1.2.0",
      "model_name": "LayoutModel",
      "state": {
       "order": "-1",
       "overflow": "visible",
       "padding": "1px",
       "width": "0px"
      }
     },
     "661d0386cbdf41bbb9ffb1892d84d99c": {
      "model_module": "@jupyter-widgets/base",
      "model_module_version": "1.2.0",
      "model_name": "LayoutModel",
      "state": {
       "display": "flex",
       "width": "60px"
      }
     },
     "66dc81bb8ec642c9a052eb56ebbfdf0d": {
      "model_module": "@jupyter-widgets/controls",
      "model_module_version": "1.5.0",
      "model_name": "IntProgressModel",
      "state": {
       "layout": "IPY_MODEL_daa5efe25ed048cd99452c54ede3e100",
       "max": 1,
       "style": "IPY_MODEL_33c5fb48b48047c7be71c7c0cfa96252"
      }
     },
     "66e48354fbb3493b9d59cdc74ad33c47": {
      "model_module": "@jupyter-widgets/base",
      "model_module_version": "1.2.0",
      "model_name": "LayoutModel",
      "state": {
       "height": "800px"
      }
     },
     "670f6245070747b59cec2d381c712fa0": {
      "model_module": "@jupyter-widgets/base",
      "model_module_version": "1.2.0",
      "model_name": "LayoutModel",
      "state": {
       "overflow": "visible",
       "width": "100%"
      }
     },
     "671e4095aac041c8abb5c4abf8af5713": {
      "model_module": "@jupyter-widgets/controls",
      "model_module_version": "1.5.0",
      "model_name": "ButtonModel",
      "state": {
       "description": "EDIT",
       "layout": "IPY_MODEL_5f85cb00df864a76a9642fed5f1f5f9c",
       "style": "IPY_MODEL_079dc01dd57347018ab37e6b6edde1ea"
      }
     },
     "672e0191ff264d199b71cdb17ab6d68c": {
      "model_module": "@jupyter-widgets/controls",
      "model_module_version": "1.5.0",
      "model_name": "DropdownModel",
      "state": {
       "_options_labels": [
        "All"
       ],
       "index": 0,
       "layout": "IPY_MODEL_60584f6dc3bb4eaf907825951dc2ac0a",
       "style": "IPY_MODEL_11dc0bde56194e96872aa64fbb78a5bb"
      }
     },
     "675bf653c3b647649070b4fb5d3abf48": {
      "model_module": "@jupyter-widgets/base",
      "model_module_version": "1.2.0",
      "model_name": "LayoutModel",
      "state": {
       "order": "-1",
       "overflow": "visible",
       "padding": "1px",
       "width": "0px"
      }
     },
     "6792433e99b64bc08ceccea252d541e2": {
      "model_module": "@jupyter-widgets/controls",
      "model_module_version": "1.5.0",
      "model_name": "ButtonStyleModel",
      "state": {}
     },
     "67b2b720d7f7412e8e614783212da7ef": {
      "model_module": "@jupyter-widgets/controls",
      "model_module_version": "1.5.0",
      "model_name": "HBoxModel",
      "state": {
       "children": [
        "IPY_MODEL_4cf49b5013fe4426b1c019b0c0a36ff2",
        "IPY_MODEL_b522d1cbc09648f1b7b5f70a03bb3db2"
       ],
       "layout": "IPY_MODEL_63c51e142f1b4668bbc06ffd1834be06"
      }
     },
     "67bcf74ca6df4c87b4be6edebf49adfa": {
      "model_module": "@jupyter-widgets/base",
      "model_module_version": "1.2.0",
      "model_name": "LayoutModel",
      "state": {
       "height": "32px",
       "overflow": "visible",
       "width": "100%"
      }
     },
     "681daee8d81743e5b5b1a312c60839b6": {
      "model_module": "@jupyter-widgets/base",
      "model_module_version": "1.2.0",
      "model_name": "LayoutModel",
      "state": {
       "display": "flex"
      }
     },
     "683bb37e9b3f427998617ff2b9783700": {
      "model_module": "@jupyter-widgets/controls",
      "model_module_version": "1.5.0",
      "model_name": "ButtonStyleModel",
      "state": {}
     },
     "68a87e8962b8411b8179f49cde3164b2": {
      "model_module": "@jupyter-widgets/controls",
      "model_module_version": "1.5.0",
      "model_name": "ButtonModel",
      "state": {
       "layout": "IPY_MODEL_7e28ab04ca754398ae8b98515c0f2c6c",
       "style": "IPY_MODEL_572ef4bbe4004ea1b23b2fb8396ea34b"
      }
     },
     "68bc2b65a43546909bc7cb85bbc0abe8": {
      "model_module": "@jupyter-widgets/controls",
      "model_module_version": "1.5.0",
      "model_name": "HBoxModel",
      "state": {
       "children": [
        "IPY_MODEL_445cfdb824384151b04cf8e68f7ad500",
        "IPY_MODEL_2130ad9999eb451d873377ee792c7169",
        "IPY_MODEL_818d2a2569174f12ad52bef3e2a41b8f",
        "IPY_MODEL_5a81e16f4ced49c28529ce19d082e442"
       ],
       "layout": "IPY_MODEL_fac9e41072bc418fa3e00d1a74dd382c"
      }
     },
     "68d1701d556a447cb1696714d3de3c7b": {
      "model_module": "@jupyter-widgets/base",
      "model_module_version": "1.2.0",
      "model_name": "LayoutModel",
      "state": {
       "display": "none"
      }
     },
     "690722e6528a4ce78c5b53fafc43a1ed": {
      "model_module": "@jupyter-widgets/controls",
      "model_module_version": "1.5.0",
      "model_name": "ButtonStyleModel",
      "state": {}
     },
     "6925df3d41e34820a011d8886480003a": {
      "model_module": "@jupyter-widgets/base",
      "model_module_version": "1.2.0",
      "model_name": "LayoutModel",
      "state": {
       "height": "32px",
       "order": "-2",
       "width": "32px"
      }
     },
     "6944340f8e6b4c399f811d816b4e4cc3": {
      "model_module": "@jupyter-widgets/base",
      "model_module_version": "1.2.0",
      "model_name": "LayoutModel",
      "state": {
       "order": "-1",
       "overflow": "visible",
       "padding": "1px",
       "width": "0px"
      }
     },
     "697d8e89df4a4fc4922d8cba65cd96f3": {
      "model_module": "@jupyter-widgets/controls",
      "model_module_version": "1.5.0",
      "model_name": "ButtonStyleModel",
      "state": {}
     },
     "69a88bfd0d8f4adba3adbddc3bfe63d5": {
      "model_module": "@jupyter-widgets/base",
      "model_module_version": "1.2.0",
      "model_name": "LayoutModel",
      "state": {
       "height": "32px",
       "order": "-2",
       "width": "32px"
      }
     },
     "69ecf6c6a59440aab4323c714380a850": {
      "model_module": "@jupyter-widgets/controls",
      "model_module_version": "1.5.0",
      "model_name": "DescriptionStyleModel",
      "state": {
       "description_width": ""
      }
     },
     "69fa5777c0614187b7732e3ba262d78c": {
      "model_module": "@jupyter-widgets/controls",
      "model_module_version": "1.5.0",
      "model_name": "ProgressStyleModel",
      "state": {
       "description_width": ""
      }
     },
     "6a0a001be31346c2bdc9451519d0eb14": {
      "model_module": "@jupyter-widgets/controls",
      "model_module_version": "1.5.0",
      "model_name": "DescriptionStyleModel",
      "state": {
       "description_width": ""
      }
     },
     "6a2d6ff7ed5d4eb59e09aeece8e4c393": {
      "model_module": "@jupyter-widgets/controls",
      "model_module_version": "1.5.0",
      "model_name": "IntProgressModel",
      "state": {
       "layout": "IPY_MODEL_53d1ea4a17734e74a1bf7ecd2dc69e2f",
       "max": 500,
       "style": "IPY_MODEL_a621e1a1ca444b42b0349b21862a1efd",
       "value": 309
      }
     },
     "6a867da3768f490881356e5649bc168b": {
      "model_module": "@jupyter-widgets/controls",
      "model_module_version": "1.5.0",
      "model_name": "HBoxModel",
      "state": {
       "children": [
        "IPY_MODEL_ea6b33cae4284a4f8fcf76639076a885",
        "IPY_MODEL_2d15e42678734fec999c118a507bb34f",
        "IPY_MODEL_387dec890a97407491dad9862835c601",
        "IPY_MODEL_f5e3f1e7a79042509034a516142de464"
       ],
       "layout": "IPY_MODEL_9aaf5ac19e1541089931182775c80598"
      }
     },
     "6a946329694547c7aa6fa64a5bcb57a9": {
      "model_module": "@jupyter-widgets/base",
      "model_module_version": "1.2.0",
      "model_name": "LayoutModel",
      "state": {}
     },
     "6a9520efe1334ecfa30bc6aa2bfb6ffc": {
      "model_module": "@jupyter-widgets/base",
      "model_module_version": "1.2.0",
      "model_name": "LayoutModel",
      "state": {
       "height": "32px",
       "overflow": "visible",
       "width": "100%"
      }
     },
     "6a97cee2f7254810b36df401ed9257d1": {
      "model_module": "@jupyter-widgets/base",
      "model_module_version": "1.2.0",
      "model_name": "LayoutModel",
      "state": {
       "display": "none"
      }
     },
     "6a998565cac94eec8a4779e8ce4f00ba": {
      "model_module": "@jupyter-widgets/controls",
      "model_module_version": "1.5.0",
      "model_name": "DescriptionStyleModel",
      "state": {
       "description_width": ""
      }
     },
     "6aa0d15e6fe6416fbdc59dd822c982b4": {
      "model_module": "@jupyter-widgets/controls",
      "model_module_version": "1.5.0",
      "model_name": "DescriptionStyleModel",
      "state": {
       "description_width": ""
      }
     },
     "6b0e84fcc0ac48e08cde0f11d672adc3": {
      "model_module": "@jupyter-widgets/base",
      "model_module_version": "1.2.0",
      "model_name": "LayoutModel",
      "state": {
       "order": "-1",
       "overflow": "visible",
       "padding": "1px",
       "width": "0px"
      }
     },
     "6b476f81260c4f06bb2af1490a1e3c3f": {
      "model_module": "@jupyter-widgets/controls",
      "model_module_version": "1.5.0",
      "model_name": "DescriptionStyleModel",
      "state": {
       "description_width": ""
      }
     },
     "6b6ed4950da945b1bf8be97840d225c3": {
      "model_module": "@jupyter-widgets/controls",
      "model_module_version": "1.5.0",
      "model_name": "ButtonModel",
      "state": {
       "button_style": "success",
       "disabled": true,
       "layout": "IPY_MODEL_6c5451bca1634b0cacfa43808f997beb",
       "style": "IPY_MODEL_58356388c946484883de4ff16d7e2748"
      }
     },
     "6b6ef61f725c43198fb8355097555986": {
      "model_module": "@jupyter-widgets/controls",
      "model_module_version": "1.5.0",
      "model_name": "DropdownModel",
      "state": {
       "_options_labels": [
        "Any",
        "Hand Cannon",
        "Auto Rifle",
        "Scout Rifle",
        "Pulse Rifle",
        "Sidearm",
        "Submachine Gun",
        "Combt Bow",
        "Sniper Rifle",
        "Shotgun",
        "Fusion Rifle",
        "Grenade Launcher"
       ],
       "index": 0,
       "layout": "IPY_MODEL_7de46c5a10344d3c9922541b9839e37d",
       "style": "IPY_MODEL_d9d2585d09364e779751501ddd58a784"
      }
     },
     "6b7b1036aed440bc959a0b38fd04b4b2": {
      "model_module": "@jupyter-widgets/controls",
      "model_module_version": "1.5.0",
      "model_name": "DescriptionStyleModel",
      "state": {
       "description_width": ""
      }
     },
     "6b89c712adb44cf3a05cc6a961719065": {
      "model_module": "@jupyter-widgets/base",
      "model_module_version": "1.2.0",
      "model_name": "LayoutModel",
      "state": {
       "display": "none"
      }
     },
     "6bca2212d441462b991375a40d1a7d8a": {
      "model_module": "@jupyter-widgets/controls",
      "model_module_version": "1.5.0",
      "model_name": "IntProgressModel",
      "state": {
       "bar_style": "danger",
       "layout": "IPY_MODEL_40cb3a439f2b4d6b81c31885f47affd9",
       "max": 1,
       "style": "IPY_MODEL_28a3a84efe1b4ca383ba4d9c62567f5d"
      }
     },
     "6bdfba520d984334bebcd28a82e995d4": {
      "model_module": "@jupyter-widgets/controls",
      "model_module_version": "1.5.0",
      "model_name": "IntProgressModel",
      "state": {
       "layout": "IPY_MODEL_65608235ff584053b5493ee327512717",
       "style": "IPY_MODEL_f465fb44aaaa473785e9de64ca22b140",
       "value": 30
      }
     },
     "6c16058d040c45b88008b7c59a060bec": {
      "model_module": "@jupyter-widgets/base",
      "model_module_version": "1.2.0",
      "model_name": "LayoutModel",
      "state": {
       "order": "-1",
       "overflow": "visible",
       "padding": "1px",
       "width": "0px"
      }
     },
     "6c2b046e868a40bfa71505c14dc8d832": {
      "model_module": "@jupyter-widgets/controls",
      "model_module_version": "1.5.0",
      "model_name": "DescriptionStyleModel",
      "state": {
       "description_width": ""
      }
     },
     "6c5451bca1634b0cacfa43808f997beb": {
      "model_module": "@jupyter-widgets/base",
      "model_module_version": "1.2.0",
      "model_name": "LayoutModel",
      "state": {
       "height": "32px",
       "order": "-2",
       "width": "32px"
      }
     },
     "6c7f1fc4ac394f26ba370cb426af76c2": {
      "model_module": "@jupyter-widgets/base",
      "model_module_version": "1.2.0",
      "model_name": "LayoutModel",
      "state": {
       "height": "32px",
       "overflow": "visible",
       "width": "100%"
      }
     },
     "6c7f467a933e44b1a2c7cc3c93d1f933": {
      "model_module": "@jupyter-widgets/base",
      "model_module_version": "1.2.0",
      "model_name": "LayoutModel",
      "state": {
       "height": "32px",
       "overflow": "visible",
       "width": "100%"
      }
     },
     "6cab5ee10ff24fe5a5784f30ffa95525": {
      "model_module": "@jupyter-widgets/base",
      "model_module_version": "1.2.0",
      "model_name": "LayoutModel",
      "state": {
       "height": "32px",
       "order": "-2",
       "width": "32px"
      }
     },
     "6caf9f4b4f7045b6bc186391df314f0a": {
      "model_module": "@jupyter-widgets/controls",
      "model_module_version": "1.5.0",
      "model_name": "ButtonStyleModel",
      "state": {}
     },
     "6d126bf7679e4295acd62130d3805e12": {
      "model_module": "@jupyter-widgets/controls",
      "model_module_version": "1.5.0",
      "model_name": "ButtonModel",
      "state": {
       "layout": "IPY_MODEL_a09fc513eb434aed9a9dc2a825c50507",
       "style": "IPY_MODEL_8525aa6d1a6e45d1b76735a4e1712543"
      }
     },
     "6d5bb961f73747da91cf0f057e8e4c75": {
      "model_module": "@jupyter-widgets/controls",
      "model_module_version": "1.5.0",
      "model_name": "ButtonStyleModel",
      "state": {}
     },
     "6d838bc8e1e54f409be6b8da4718568a": {
      "model_module": "@jupyter-widgets/controls",
      "model_module_version": "1.5.0",
      "model_name": "DescriptionStyleModel",
      "state": {
       "description_width": ""
      }
     },
     "6dcce46feea542969ab9788ff9e495b1": {
      "model_module": "@jupyter-widgets/base",
      "model_module_version": "1.2.0",
      "model_name": "LayoutModel",
      "state": {
       "height": "32px",
       "order": "-2",
       "width": "32px"
      }
     },
     "6e02fa9e6ecb4e0288c51e22552e2559": {
      "model_module": "@jupyter-widgets/controls",
      "model_module_version": "1.5.0",
      "model_name": "ProgressStyleModel",
      "state": {
       "description_width": ""
      }
     },
     "6e112275657d436cbdf083c2ccd19b42": {
      "model_module": "@jupyter-widgets/controls",
      "model_module_version": "1.5.0",
      "model_name": "ButtonStyleModel",
      "state": {}
     },
     "6e119d117868444496e6c6a2d2d0516f": {
      "model_module": "@jupyter-widgets/controls",
      "model_module_version": "1.5.0",
      "model_name": "DescriptionStyleModel",
      "state": {
       "description_width": ""
      }
     },
     "6e600a36621441bdbbf4477ac1ecf30d": {
      "model_module": "@jupyter-widgets/controls",
      "model_module_version": "1.5.0",
      "model_name": "ButtonStyleModel",
      "state": {}
     },
     "6e80b5641cdb45c2b97ba90b2896da6e": {
      "model_module": "@jupyter-widgets/controls",
      "model_module_version": "1.5.0",
      "model_name": "LabelModel",
      "state": {
       "layout": "IPY_MODEL_244121f30b2849d49b5872b94d195341",
       "style": "IPY_MODEL_9fbe05e9a70b4473962d417e1188392c",
       "value": "    Invaders defeated (192/200)"
      }
     },
     "6eb3905152e7437a9e1ec92f29afc4c4": {
      "model_module": "@jupyter-widgets/controls",
      "model_module_version": "1.5.0",
      "model_name": "ButtonModel",
      "state": {
       "description": "Submit",
       "layout": "IPY_MODEL_1a6ba48a5ec34b3c90d3fe8f37fee260",
       "style": "IPY_MODEL_c744b27fb56e4a2da0511d260888badc"
      }
     },
     "6ecaa28afa7f477c83d569363a97d4f8": {
      "model_module": "@jupyter-widgets/controls",
      "model_module_version": "1.5.0",
      "model_name": "HTMLModel",
      "state": {
       "layout": "IPY_MODEL_30885aaf653d4b089771a72a9b642ecb",
       "style": "IPY_MODEL_aaa088921ddc4a6db62005521fb0467a",
       "value": "<font size=\"5\"><b>Prime Fashion</b></font size=>"
      }
     },
     "6f14e33988b64afea215e2f1a141b65f": {
      "model_module": "@jupyter-widgets/controls",
      "model_module_version": "1.5.0",
      "model_name": "VBoxModel",
      "state": {
       "children": [
        "IPY_MODEL_46bad8491aac4e929c3f0a35454aca3d",
        "IPY_MODEL_a80f97a2136f40bf95a83845637fddbf",
        "IPY_MODEL_0950a9d3cc3a42739f0f698a95d5233a",
        "IPY_MODEL_77baa2b2163042b5967e8e563727b99e"
       ],
       "layout": "IPY_MODEL_27dbfdc29b454dd581f49c53fc119a75"
      }
     },
     "6f5020efa978448baeff9e21b17bc33d": {
      "model_module": "@jupyter-widgets/base",
      "model_module_version": "1.2.0",
      "model_name": "LayoutModel",
      "state": {
       "height": "32px",
       "order": "-2",
       "width": "32px"
      }
     },
     "6f594549c509469bac3300614e184624": {
      "model_module": "@jupyter-widgets/base",
      "model_module_version": "1.2.0",
      "model_name": "LayoutModel",
      "state": {
       "display": "flex",
       "width": "60px"
      }
     },
     "6f597d63d9284c56ae9d5b78cb221069": {
      "model_module": "@jupyter-widgets/base",
      "model_module_version": "1.2.0",
      "model_name": "LayoutModel",
      "state": {
       "height": "32px",
       "overflow": "visible",
       "width": "100%"
      }
     },
     "6fcd059b08334ce5b44527b0bcb00812": {
      "model_module": "@jupyter-widgets/base",
      "model_module_version": "1.2.0",
      "model_name": "LayoutModel",
      "state": {
       "height": "32px",
       "overflow": "visible",
       "width": "100%"
      }
     },
     "6fdd98b610214d5694d9634d04953789": {
      "model_module": "@jupyter-widgets/controls",
      "model_module_version": "1.5.0",
      "model_name": "ProgressStyleModel",
      "state": {
       "description_width": ""
      }
     },
     "6ffcdc22bbcc442b8ff58fdb8d72e012": {
      "model_module": "@jupyter-widgets/base",
      "model_module_version": "1.2.0",
      "model_name": "LayoutModel",
      "state": {}
     },
     "702142ac196a493ca47d29fe7b2b14d9": {
      "model_module": "@jupyter-widgets/base",
      "model_module_version": "1.2.0",
      "model_name": "LayoutModel",
      "state": {}
     },
     "704de28fe7344b8c856dac6279456df6": {
      "model_module": "@jupyter-widgets/base",
      "model_module_version": "1.2.0",
      "model_name": "LayoutModel",
      "state": {
       "display": "flex",
       "width": "60px"
      }
     },
     "704f3f403243498295f349734371017c": {
      "model_module": "@jupyter-widgets/controls",
      "model_module_version": "1.5.0",
      "model_name": "LabelModel",
      "state": {
       "layout": "IPY_MODEL_522d95da30be48d48093977dcac13224",
       "style": "IPY_MODEL_f263d1f5bc7c426295fdf751594b7701",
       "value": "     (0/1)"
      }
     },
     "707cccdc64d74114bd74262251e1cfe1": {
      "model_module": "@jupyter-widgets/base",
      "model_module_version": "1.2.0",
      "model_name": "LayoutModel",
      "state": {}
     },
     "708225a71df34d3dab1e98ff598ffbba": {
      "model_module": "@jupyter-widgets/controls",
      "model_module_version": "1.5.0",
      "model_name": "LabelModel",
      "state": {
       "layout": "IPY_MODEL_1610cb267501428d8d86b22e15c0ede2",
       "style": "IPY_MODEL_e01ab7362c3f469da8256644abc0be67",
       "value": "     (0/1)"
      }
     },
     "709319c0329f46648b4f228bb3ec4dbd": {
      "model_module": "@jupyter-widgets/base",
      "model_module_version": "1.2.0",
      "model_name": "LayoutModel",
      "state": {
       "display": "flex",
       "width": "60px"
      }
     },
     "7095824470a546bb9ff4d60ebf7b7e4a": {
      "model_module": "@jupyter-widgets/controls",
      "model_module_version": "1.5.0",
      "model_name": "ButtonStyleModel",
      "state": {}
     },
     "70a55cb9713f439bb97a8483b8e48430": {
      "model_module": "@jupyter-widgets/controls",
      "model_module_version": "1.5.0",
      "model_name": "IntProgressModel",
      "state": {
       "layout": "IPY_MODEL_71a8b46db2dd4372944a1018a4e7999f",
       "max": 1,
       "style": "IPY_MODEL_bf3c2cf602a24450a795a2647e589d95"
      }
     },
     "70b9b3e070614823af0d3b842539aae5": {
      "model_module": "@jupyter-widgets/controls",
      "model_module_version": "1.5.0",
      "model_name": "IntProgressModel",
      "state": {
       "layout": "IPY_MODEL_9a05f7e23af3429190db51daf7d65dff",
       "style": "IPY_MODEL_2d0860fb37724a71a1ffcdd9a551e181",
       "value": 30
      }
     },
     "7118fca094b2417aae7baac8996f22bc": {
      "model_module": "@jupyter-widgets/controls",
      "model_module_version": "1.5.0",
      "model_name": "ButtonStyleModel",
      "state": {}
     },
     "71a8b46db2dd4372944a1018a4e7999f": {
      "model_module": "@jupyter-widgets/base",
      "model_module_version": "1.2.0",
      "model_name": "LayoutModel",
      "state": {
       "height": "32px",
       "overflow": "visible",
       "width": "100%"
      }
     },
     "71ed62110c2e4cda9c2ea72bc5f255fc": {
      "model_module": "@jupyter-widgets/base",
      "model_module_version": "1.2.0",
      "model_name": "LayoutModel",
      "state": {
       "display": "flex"
      }
     },
     "71ef480b2e0c421a9b4f8c895bc18497": {
      "model_module": "@jupyter-widgets/controls",
      "model_module_version": "1.5.0",
      "model_name": "ButtonStyleModel",
      "state": {}
     },
     "71fcda758c624fe08fb94133a50c1145": {
      "model_module": "@jupyter-widgets/base",
      "model_module_version": "1.2.0",
      "model_name": "LayoutModel",
      "state": {
       "display": "flex",
       "width": "60px"
      }
     },
     "720361ce2269465d900da24e294ac078": {
      "model_module": "@jupyter-widgets/base",
      "model_module_version": "1.2.0",
      "model_name": "LayoutModel",
      "state": {
       "height": "32px",
       "overflow": "visible",
       "width": "100%"
      }
     },
     "723f972f696741829162ad895747ab30": {
      "model_module": "@jupyter-widgets/controls",
      "model_module_version": "1.5.0",
      "model_name": "BoxModel",
      "state": {
       "layout": "IPY_MODEL_2bdba7b9278b482090bcd7e1c7046008"
      }
     },
     "72cd51dec47145c781800899b26ca61e": {
      "model_module": "@jupyter-widgets/base",
      "model_module_version": "1.2.0",
      "model_name": "LayoutModel",
      "state": {
       "height": "32px",
       "order": "-2",
       "width": "32px"
      }
     },
     "72f9119ce98247d3b2a1398bdee0ef85": {
      "model_module": "@jupyter-widgets/controls",
      "model_module_version": "1.5.0",
      "model_name": "DescriptionStyleModel",
      "state": {
       "description_width": ""
      }
     },
     "73009649eefc41f9bf9fe23cf1c3bf51": {
      "model_module": "@jupyter-widgets/controls",
      "model_module_version": "1.5.0",
      "model_name": "IntProgressModel",
      "state": {
       "layout": "IPY_MODEL_f8e98f05b08d4d079618e107df547a27",
       "max": 1,
       "style": "IPY_MODEL_6e02fa9e6ecb4e0288c51e22552e2559"
      }
     },
     "734580f577ca445490b90e6531717006": {
      "model_module": "@jupyter-widgets/base",
      "model_module_version": "1.2.0",
      "model_name": "LayoutModel",
      "state": {
       "height": "32px",
       "order": "-2",
       "width": "32px"
      }
     },
     "734b565d0df24f2d9ae798d702ec6a5e": {
      "model_module": "@jupyter-widgets/base",
      "model_module_version": "1.2.0",
      "model_name": "LayoutModel",
      "state": {
       "display": "flex",
       "flex_flow": "row wrap"
      }
     },
     "73a4729c43e44fb8b7f23c5e07cad9d7": {
      "model_module": "@jupyter-widgets/controls",
      "model_module_version": "1.5.0",
      "model_name": "DescriptionStyleModel",
      "state": {
       "description_width": ""
      }
     },
     "73b7c0e2eaa1468cb699ab928e467d69": {
      "model_module": "@jupyter-widgets/controls",
      "model_module_version": "1.5.0",
      "model_name": "DescriptionStyleModel",
      "state": {
       "description_width": ""
      }
     },
     "73c33f9c88434dfc91883653c1d91ddc": {
      "model_module": "@jupyter-widgets/controls",
      "model_module_version": "1.5.0",
      "model_name": "ButtonModel",
      "state": {
       "description": "EDIT",
       "layout": "IPY_MODEL_ac4cc78e072745cd8cc33bc73c4d5a88",
       "style": "IPY_MODEL_a586fa53bca74cf1b12df7f11ef81b0d"
      }
     },
     "73cf582cedc8482b9217b21aa1f11462": {
      "model_module": "@jupyter-widgets/controls",
      "model_module_version": "1.5.0",
      "model_name": "DescriptionStyleModel",
      "state": {
       "description_width": ""
      }
     },
     "742549c233504979aa8c86c225cd6b0b": {
      "model_module": "@jupyter-widgets/base",
      "model_module_version": "1.2.0",
      "model_name": "LayoutModel",
      "state": {
       "height": "32px",
       "order": "-2",
       "width": "32px"
      }
     },
     "74eff877a0764dea86e405a56fe62c91": {
      "model_module": "@jupyter-widgets/controls",
      "model_module_version": "1.5.0",
      "model_name": "LabelModel",
      "state": {
       "layout": "IPY_MODEL_57cd61115b13429ab5221b8af41875ac",
       "style": "IPY_MODEL_ca9b07818e764374ba45680d2bd6dd8e",
       "value": "   objective"
      }
     },
     "75020db5575a4f29a3b59e00354d6373": {
      "model_module": "@jupyter-widgets/base",
      "model_module_version": "1.2.0",
      "model_name": "LayoutModel",
      "state": {
       "overflow": "visible",
       "width": "100%"
      }
     },
     "75241de0c437488cb6bdf3b61c5112f0": {
      "model_module": "@jupyter-widgets/controls",
      "model_module_version": "1.5.0",
      "model_name": "ProgressStyleModel",
      "state": {
       "description_width": ""
      }
     },
     "7530c7f29ebc415ebf53991195505447": {
      "model_module": "@jupyter-widgets/controls",
      "model_module_version": "1.5.0",
      "model_name": "ProgressStyleModel",
      "state": {
       "description_width": ""
      }
     },
     "7548b55463ea40e19b2e81ec32b6b958": {
      "model_module": "@jupyter-widgets/controls",
      "model_module_version": "1.5.0",
      "model_name": "DescriptionStyleModel",
      "state": {
       "description_width": ""
      }
     },
     "756f8701d5f64f989a12e00a4983efac": {
      "model_module": "@jupyter-widgets/base",
      "model_module_version": "1.2.0",
      "model_name": "LayoutModel",
      "state": {
       "height": "32px",
       "overflow": "visible",
       "width": "100%"
      }
     },
     "758985921ac9483ba9b72d727d2a4759": {
      "model_module": "@jupyter-widgets/controls",
      "model_module_version": "1.5.0",
      "model_name": "VBoxModel",
      "state": {
       "children": [
        "IPY_MODEL_1b64bc68a7b8443e85d43e3c9fa4301e",
        "IPY_MODEL_87cae93908834cb995f0b87400a81db7",
        "IPY_MODEL_61a84acf4cf34b23b469471df3be8854",
        "IPY_MODEL_d08a8a0319ef418693d4231f3ff838d8",
        "IPY_MODEL_4dd7ed97d2e441feb735bf128e301c51",
        "IPY_MODEL_dc8219b513794f9f990b19347fb86213"
       ],
       "layout": "IPY_MODEL_1fe583baabb14336bf61c5a731bf5fc8"
      }
     },
     "75c14c9027334b188ad202193643181d": {
      "model_module": "@jupyter-widgets/base",
      "model_module_version": "1.2.0",
      "model_name": "LayoutModel",
      "state": {
       "display": "flex",
       "width": "60px"
      }
     },
     "7624d5cdc9384da09229a23b7ae38173": {
      "model_module": "@jupyter-widgets/base",
      "model_module_version": "1.2.0",
      "model_name": "LayoutModel",
      "state": {
       "height": "32px",
       "overflow": "visible",
       "width": "100%"
      }
     },
     "763f13c102c54bdeb69a34d317318fca": {
      "model_module": "@jupyter-widgets/controls",
      "model_module_version": "1.5.0",
      "model_name": "ButtonModel",
      "state": {
       "description": "EDIT",
       "layout": "IPY_MODEL_116148c0e753493d84380023a8f50a86",
       "style": "IPY_MODEL_a2b019351491462a805278e5940e78b2"
      }
     },
     "7662029fa156496b8a92e6148f8c6f72": {
      "model_module": "@jupyter-widgets/base",
      "model_module_version": "1.2.0",
      "model_name": "LayoutModel",
      "state": {
       "height": "32px",
       "order": "-2",
       "width": "32px"
      }
     },
     "770925af38ca482eaf18541302f22ef0": {
      "model_module": "@jupyter-widgets/base",
      "model_module_version": "1.2.0",
      "model_name": "LayoutModel",
      "state": {
       "display": "none"
      }
     },
     "775f7e55322f4682be976809932fce6f": {
      "model_module": "@jupyter-widgets/controls",
      "model_module_version": "1.5.0",
      "model_name": "IntProgressModel",
      "state": {
       "layout": "IPY_MODEL_e11e854402e5444a92ba1190362f79b9",
       "max": 1,
       "style": "IPY_MODEL_f0eee08c90ad4ae4a66385f7485f900a"
      }
     },
     "776f65baf1dc4d57b731755cf7da0220": {
      "model_module": "@jupyter-widgets/base",
      "model_module_version": "1.2.0",
      "model_name": "LayoutModel",
      "state": {
       "height": "32px",
       "overflow": "visible",
       "width": "100%"
      }
     },
     "779594501f824893872ee28d44614ee2": {
      "model_module": "@jupyter-widgets/base",
      "model_module_version": "1.2.0",
      "model_name": "LayoutModel",
      "state": {
       "height": "32px",
       "overflow": "visible",
       "width": "100%"
      }
     },
     "77af98cd4da242b9aba81910e439bf2f": {
      "model_module": "@jupyter-widgets/controls",
      "model_module_version": "1.5.0",
      "model_name": "ButtonModel",
      "state": {
       "description": "EDIT",
       "layout": "IPY_MODEL_35489acfba79448084725667ea96ba5e",
       "style": "IPY_MODEL_bf0c080aca9d4b4881756f1c633997ef"
      }
     },
     "77b95dce5d5c41f99e426c57b5926695": {
      "model_module": "@jupyter-widgets/controls",
      "model_module_version": "1.5.0",
      "model_name": "ButtonStyleModel",
      "state": {}
     },
     "77baa2b2163042b5967e8e563727b99e": {
      "model_module": "@jupyter-widgets/controls",
      "model_module_version": "1.5.0",
      "model_name": "VBoxModel",
      "state": {
       "children": [
        "IPY_MODEL_cd7ebe14de004ac2b78b67733964c88a",
        "IPY_MODEL_7c65abd6286649d09d4c27738d8d1c75",
        "IPY_MODEL_9e2a34c7bfc9456d97291ebf41dd6c07",
        "IPY_MODEL_59daf7cb1ca2474b83fd246e6fe2ca43",
        "IPY_MODEL_b5c8a3e239654989980ccf3ddc27ee22",
        "IPY_MODEL_504f61bd1f904f1e899c7ce29055ab99"
       ],
       "layout": "IPY_MODEL_222a409e34b64d2c90a2d2a98e0b7f4f"
      }
     },
     "77bb0196a6c84bd1a974ec0b2e528aee": {
      "model_module": "@jupyter-widgets/controls",
      "model_module_version": "1.5.0",
      "model_name": "ButtonStyleModel",
      "state": {}
     },
     "78126c8ed54f47deb45c1d9122154e6a": {
      "model_module": "@jupyter-widgets/base",
      "model_module_version": "1.2.0",
      "model_name": "LayoutModel",
      "state": {
       "height": "32px",
       "order": "-2",
       "width": "32px"
      }
     },
     "786aa9bbe6594124b1535ccb2d14df68": {
      "model_module": "@jupyter-widgets/base",
      "model_module_version": "1.2.0",
      "model_name": "LayoutModel",
      "state": {
       "height": "32px",
       "order": "-2",
       "width": "32px"
      }
     },
     "786d4f484675413896d8a51c179dceb3": {
      "model_module": "@jupyter-widgets/controls",
      "model_module_version": "1.5.0",
      "model_name": "ButtonModel",
      "state": {
       "description": "EDIT",
       "layout": "IPY_MODEL_4bb07ae1b8194257ad8342dbfed67479",
       "style": "IPY_MODEL_934f87f674e44cfaa117491e7a06db27"
      }
     },
     "78824e1e19ea431a802726e88f0fe6d2": {
      "model_module": "@jupyter-widgets/base",
      "model_module_version": "1.2.0",
      "model_name": "LayoutModel",
      "state": {
       "height": "32px",
       "order": "-2",
       "width": "32px"
      }
     },
     "78a4fd9636e34c66a1f6122a94e09196": {
      "model_module": "@jupyter-widgets/controls",
      "model_module_version": "1.5.0",
      "model_name": "ButtonStyleModel",
      "state": {}
     },
     "790f96abb5eb4ad8bf8a6a30ddeaf0da": {
      "model_module": "@jupyter-widgets/controls",
      "model_module_version": "1.5.0",
      "model_name": "ButtonModel",
      "state": {
       "layout": "IPY_MODEL_16fad16c7db24e7e80130a24fd44c778",
       "style": "IPY_MODEL_7095824470a546bb9ff4d60ebf7b7e4a"
      }
     },
     "791ab37ac42a47cd9c6bfb4c8a216e6c": {
      "model_module": "@jupyter-widgets/base",
      "model_module_version": "1.2.0",
      "model_name": "LayoutModel",
      "state": {
       "display": "none"
      }
     },
     "79526d388fc145e88fad38bee297d814": {
      "model_module": "@jupyter-widgets/controls",
      "model_module_version": "1.5.0",
      "model_name": "ButtonModel",
      "state": {
       "layout": "IPY_MODEL_49fe2ca50ede4630b2a79be68bcb00b2",
       "style": "IPY_MODEL_f30bb804a97742caaf72a300bc47e72f"
      }
     },
     "79c9613e482e4a6089a06bdf857a1bf3": {
      "model_module": "@jupyter-widgets/controls",
      "model_module_version": "1.5.0",
      "model_name": "DescriptionStyleModel",
      "state": {
       "description_width": ""
      }
     },
     "79e48f454af24f50ba6604e9a848a843": {
      "model_module": "@jupyter-widgets/base",
      "model_module_version": "1.2.0",
      "model_name": "LayoutModel",
      "state": {
       "display": "none"
      }
     },
     "79f1188a8838402c87bdf9213c89da6d": {
      "model_module": "@jupyter-widgets/controls",
      "model_module_version": "1.5.0",
      "model_name": "ProgressStyleModel",
      "state": {
       "description_width": ""
      }
     },
     "7a1724c4d0ae456aaf8ca30ac7563497": {
      "model_module": "@jupyter-widgets/base",
      "model_module_version": "1.2.0",
      "model_name": "LayoutModel",
      "state": {
       "display": "none"
      }
     },
     "7a378ed314344dde86b1d5bf05e39627": {
      "model_module": "@jupyter-widgets/controls",
      "model_module_version": "1.5.0",
      "model_name": "HBoxModel",
      "state": {
       "children": [
        "IPY_MODEL_afdf43ccc40b4607b7f177d15249709f",
        "IPY_MODEL_013ffe82b5c44401bdfcbdd444cf0f01",
        "IPY_MODEL_4b7d254e480a4729a701510e823ffc1e",
        "IPY_MODEL_185cfd3a9a6e4c1fa7dd10ca4d607c3a"
       ],
       "layout": "IPY_MODEL_647cb9b1d2bd46d99758f4edce90f001"
      }
     },
     "7a3c8eaafdf745959cfea3d8551d0f8b": {
      "model_module": "@jupyter-widgets/controls",
      "model_module_version": "1.5.0",
      "model_name": "DropdownModel",
      "state": {
       "_options_labels": [
        "Any"
       ],
       "index": 0,
       "layout": "IPY_MODEL_7de46c5a10344d3c9922541b9839e37d",
       "style": "IPY_MODEL_566f3251cf904108a6d710f97f8aeb7f"
      }
     },
     "7a50395ee1554680a79f9749cdf38f0c": {
      "model_module": "@jupyter-widgets/controls",
      "model_module_version": "1.5.0",
      "model_name": "ButtonStyleModel",
      "state": {}
     },
     "7a7b0889c8094b309f0936963054505d": {
      "model_module": "@jupyter-widgets/controls",
      "model_module_version": "1.5.0",
      "model_name": "DropdownModel",
      "state": {
       "_options_labels": [
        "Any",
        "Clash",
        "Control",
        "Showdown",
        "Mayhem",
        "Breakthrough",
        "Lockdown",
        "Rumble",
        "Supremacy",
        "Doubles",
        "Scorched",
        "Countdown",
        "Survival",
        "Iron Banner"
       ],
       "disabled": true,
       "index": 12,
       "layout": "IPY_MODEL_c0ff6cd43c2e4d2b84792f5130ac642d",
       "style": "IPY_MODEL_b7e7f58d55ce425ab732c337f3be7e92"
      }
     },
     "7a983daf46f14569b436ea072c520841": {
      "model_module": "@jupyter-widgets/base",
      "model_module_version": "1.2.0",
      "model_name": "LayoutModel",
      "state": {}
     },
     "7ac48d01364244318043015c9af2e805": {
      "model_module": "@jupyter-widgets/controls",
      "model_module_version": "1.5.0",
      "model_name": "DescriptionStyleModel",
      "state": {
       "description_width": ""
      }
     },
     "7ad41b88f750481bb44113a6069ab953": {
      "model_module": "@jupyter-widgets/base",
      "model_module_version": "1.2.0",
      "model_name": "LayoutModel",
      "state": {
       "display": "flex",
       "width": "60px"
      }
     },
     "7afda0a4427d47e995cbac558b637e2a": {
      "model_module": "@jupyter-widgets/controls",
      "model_module_version": "1.5.0",
      "model_name": "DescriptionStyleModel",
      "state": {
       "description_width": ""
      }
     },
     "7b2e3736b5f24658a932310bd9cc356d": {
      "model_module": "@jupyter-widgets/controls",
      "model_module_version": "1.5.0",
      "model_name": "ButtonStyleModel",
      "state": {}
     },
     "7b2fdd6c11b340e3bb3be80cd7dae826": {
      "model_module": "@jupyter-widgets/controls",
      "model_module_version": "1.5.0",
      "model_name": "LabelModel",
      "state": {
       "layout": "IPY_MODEL_8c40879363be4d6ea2a5660b2fc2c327",
       "style": "IPY_MODEL_571bfca177b94626b08db9b26ebe98b8",
       "value": "    Grenade kills (289/1000)"
      }
     },
     "7b7a7129d1714a208fed3b0610e36ecb": {
      "model_module": "@jupyter-widgets/controls",
      "model_module_version": "1.5.0",
      "model_name": "ButtonModel",
      "state": {
       "description": "EDIT",
       "layout": "IPY_MODEL_afeed14b14ba4adc8596b4d221e521ae",
       "style": "IPY_MODEL_090f804d8c134da98ddc68b6f9b5f6e8"
      }
     },
     "7b972eadcbbd4ecdb94a5bf6dde20c83": {
      "model_module": "@jupyter-widgets/base",
      "model_module_version": "1.2.0",
      "model_name": "LayoutModel",
      "state": {
       "height": "32px",
       "order": "-2",
       "width": "32px"
      }
     },
     "7bc860ab63074e72841442f3a0d7fb6e": {
      "model_module": "@jupyter-widgets/controls",
      "model_module_version": "1.5.0",
      "model_name": "ButtonStyleModel",
      "state": {}
     },
     "7bea8c8f993b4735851090fdc8f8f244": {
      "model_module": "@jupyter-widgets/controls",
      "model_module_version": "1.5.0",
      "model_name": "DescriptionStyleModel",
      "state": {
       "description_width": ""
      }
     },
     "7c16899b4eea41d3b0d168c10825474d": {
      "model_module": "@jupyter-widgets/controls",
      "model_module_version": "1.5.0",
      "model_name": "ButtonStyleModel",
      "state": {}
     },
     "7c1fb5f8ec8440cbb3cb1b8f7735c9d5": {
      "model_module": "@jupyter-widgets/controls",
      "model_module_version": "1.5.0",
      "model_name": "LabelModel",
      "state": {
       "layout": "IPY_MODEL_11597559c61f483aa1c5fecdd31569f7",
       "style": "IPY_MODEL_dad592ce8df94e80b64d40266051aaae",
       "value": "Kinetic Weapon:"
      }
     },
     "7c25aa517b524ddabaad46fdbeb1e4c2": {
      "model_module": "@jupyter-widgets/controls",
      "model_module_version": "1.5.0",
      "model_name": "LabelModel",
      "state": {
       "layout": "IPY_MODEL_ba345a466960496d861baeb3619e901c",
       "style": "IPY_MODEL_8e42f5faa4c742f1bc54f83f15f1d729",
       "value": "    Hunters defeated (521/100)"
      }
     },
     "7c65abd6286649d09d4c27738d8d1c75": {
      "model_module": "@jupyter-widgets/controls",
      "model_module_version": "1.5.0",
      "model_name": "HBoxModel",
      "state": {
       "children": [
        "IPY_MODEL_daac150008cb40d8a298dd89c039329e",
        "IPY_MODEL_53531175aabb48a2846d37f8340f6ddb",
        "IPY_MODEL_49d43e3d26bc4cfc910d7b38d5ee0442",
        "IPY_MODEL_49242c2cd4e74fb2a5e44e38ba850470"
       ],
       "layout": "IPY_MODEL_791ab37ac42a47cd9c6bfb4c8a216e6c"
      }
     },
     "7ca1cfa28f184f8ea67de42bd9e2974d": {
      "model_module": "@jupyter-widgets/controls",
      "model_module_version": "1.5.0",
      "model_name": "ButtonModel",
      "state": {
       "description": "EDIT",
       "layout": "IPY_MODEL_b2321c8f6c68421bbf6e482a20e00a3b",
       "style": "IPY_MODEL_527b2fa1cef84fe8a9ec66a5f145941e"
      }
     },
     "7d0af0b10c704e1d96e84e25bfa5a79e": {
      "model_module": "@jupyter-widgets/controls",
      "model_module_version": "1.5.0",
      "model_name": "LabelModel",
      "state": {
       "layout": "IPY_MODEL_2fcd8542bd1c45d0ad312211ccf49d8c",
       "style": "IPY_MODEL_da2910b3634c4b9bba97b3d278a06c4c",
       "value": "    Crucible Enemies Defeated (8/250)"
      }
     },
     "7d1aa94e14744cf1af250f010b9796aa": {
      "model_module": "@jupyter-widgets/base",
      "model_module_version": "1.2.0",
      "model_name": "LayoutModel",
      "state": {
       "border": "3px solid white",
       "display": "flex",
       "flex": "1 1 0%",
       "margin": "10px",
       "min_width": "400px",
       "overflow": "visible",
       "padding": "10px",
       "width": "auto"
      }
     },
     "7d257c71fb5448fa8e3f63a461f2fbc7": {
      "model_module": "@jupyter-widgets/base",
      "model_module_version": "1.2.0",
      "model_name": "LayoutModel",
      "state": {
       "display": "flex",
       "width": "60px"
      }
     },
     "7d67e25d312d4daab67dd6bd2ccd2c5d": {
      "model_module": "@jupyter-widgets/base",
      "model_module_version": "1.2.0",
      "model_name": "LayoutModel",
      "state": {}
     },
     "7dafbfbbcd644d6e80210e8679963d9d": {
      "model_module": "@jupyter-widgets/base",
      "model_module_version": "1.2.0",
      "model_name": "LayoutModel",
      "state": {
       "display": "none"
      }
     },
     "7dda8cd606674ff295b1a66c8761be33": {
      "model_module": "@jupyter-widgets/controls",
      "model_module_version": "1.5.0",
      "model_name": "HBoxModel",
      "state": {
       "children": [
        "IPY_MODEL_65562950f4a64bd5b2ee0bc908fdde92",
        "IPY_MODEL_3e54c35442ab47f8afabccfb425decfd",
        "IPY_MODEL_31db101e0af342aa973bf21e0731c385",
        "IPY_MODEL_20b664c635e44ee491d41d849940e029"
       ],
       "layout": "IPY_MODEL_681daee8d81743e5b5b1a312c60839b6"
      }
     },
     "7ddbca6b6b8546b097e9f0dc3bba1b97": {
      "model_module": "@jupyter-widgets/base",
      "model_module_version": "1.2.0",
      "model_name": "LayoutModel",
      "state": {
       "display": "flex",
       "width": "60px"
      }
     },
     "7de46c5a10344d3c9922541b9839e37d": {
      "model_module": "@jupyter-widgets/base",
      "model_module_version": "1.2.0",
      "model_name": "LayoutModel",
      "state": {
       "border": "",
       "width": "98%"
      }
     },
     "7e18ceef44b841b492d12e1fdd431c2b": {
      "model_module": "@jupyter-widgets/base",
      "model_module_version": "1.2.0",
      "model_name": "LayoutModel",
      "state": {
       "height": "32px",
       "overflow": "visible",
       "width": "100%"
      }
     },
     "7e1f374606eb48a88acc78a793b7fe55": {
      "model_module": "@jupyter-widgets/controls",
      "model_module_version": "1.5.0",
      "model_name": "HBoxModel",
      "state": {
       "children": [
        "IPY_MODEL_c609821cac6645468beeecce72f71e3a",
        "IPY_MODEL_5ec417f6250e4deca68afc8948f25041",
        "IPY_MODEL_d2ae2c90851c40649243d4dca4b94a8e",
        "IPY_MODEL_4580b202e01a428da0f45de2ae8d5ab7"
       ],
       "layout": "IPY_MODEL_4c7c22bbf51c4d1581ed05862c238223"
      }
     },
     "7e28ab04ca754398ae8b98515c0f2c6c": {
      "model_module": "@jupyter-widgets/base",
      "model_module_version": "1.2.0",
      "model_name": "LayoutModel",
      "state": {
       "height": "32px",
       "order": "-2",
       "width": "32px"
      }
     },
     "7e39188fd8e749698e9683b8cf7f49c1": {
      "model_module": "@jupyter-widgets/controls",
      "model_module_version": "1.5.0",
      "model_name": "ButtonStyleModel",
      "state": {}
     },
     "7e3c3133406d4cad9218c3f697f88cfc": {
      "model_module": "@jupyter-widgets/base",
      "model_module_version": "1.2.0",
      "model_name": "LayoutModel",
      "state": {
       "display": "flex",
       "width": "60px"
      }
     },
     "7e40a01ee71f41ee831a61d0e04b6bb6": {
      "model_module": "@jupyter-widgets/base",
      "model_module_version": "1.2.0",
      "model_name": "LayoutModel",
      "state": {
       "display": "flex"
      }
     },
     "7e4dc20294174b65968a823f549ba31f": {
      "model_module": "@jupyter-widgets/base",
      "model_module_version": "1.2.0",
      "model_name": "LayoutModel",
      "state": {}
     },
     "7e75a43216904055a1ad8dd453a862d8": {
      "model_module": "@jupyter-widgets/controls",
      "model_module_version": "1.5.0",
      "model_name": "LabelModel",
      "state": {
       "layout": "IPY_MODEL_dda60bd0de6d41a984355d3d9c3111a4",
       "style": "IPY_MODEL_292e3872a41f4baeadbdd1299c6d709d",
       "value": "    Titans defeated (358/100)"
      }
     },
     "7ead58f257f74cb1b8fd452af840a99c": {
      "model_module": "@jupyter-widgets/controls",
      "model_module_version": "1.5.0",
      "model_name": "DescriptionStyleModel",
      "state": {
       "description_width": ""
      }
     },
     "7ee9bb7de2b14aec9fc423d21447e36c": {
      "model_module": "@jupyter-widgets/controls",
      "model_module_version": "1.5.0",
      "model_name": "HBoxModel",
      "state": {
       "children": [
        "IPY_MODEL_15a6defbc42b4d3b896198c8f13add79",
        "IPY_MODEL_6a2d6ff7ed5d4eb59e09aeece8e4c393",
        "IPY_MODEL_dad08a62b802463ba8d1366f4c85058c",
        "IPY_MODEL_dac4bc79ed55439f8a17dcde16ab2d0a"
       ],
       "layout": "IPY_MODEL_b9613a86207347b29b622f678e1b8c4e"
      }
     },
     "7f19a9179dd748359b94ff715494e82b": {
      "model_module": "@jupyter-widgets/controls",
      "model_module_version": "1.5.0",
      "model_name": "ButtonStyleModel",
      "state": {}
     },
     "7f6624979da944e8a40d98b7d73513db": {
      "model_module": "@jupyter-widgets/controls",
      "model_module_version": "1.5.0",
      "model_name": "DescriptionStyleModel",
      "state": {
       "description_width": ""
      }
     },
     "7fb804ab5342478c8116c72bc3104cc0": {
      "model_module": "@jupyter-widgets/controls",
      "model_module_version": "1.5.0",
      "model_name": "ProgressStyleModel",
      "state": {
       "description_width": ""
      }
     },
     "7fce8f14e85a4b618a6f5f359daa0886": {
      "model_module": "@jupyter-widgets/controls",
      "model_module_version": "1.5.0",
      "model_name": "DescriptionStyleModel",
      "state": {
       "description_width": ""
      }
     },
     "801a6d19279d46d5a5d340a10f087345": {
      "model_module": "@jupyter-widgets/controls",
      "model_module_version": "1.5.0",
      "model_name": "HBoxModel",
      "state": {
       "children": [
        "IPY_MODEL_3b10639a7a44434ba033d6619599e13f",
        "IPY_MODEL_f6ef0bbef5d9466db8c0c4bfa6d9447a",
        "IPY_MODEL_56384ffa86cc46fda7d600535eedc0bc",
        "IPY_MODEL_a346c17a15344572af8b07ceb826409d"
       ],
       "layout": "IPY_MODEL_6b89c712adb44cf3a05cc6a961719065"
      }
     },
     "803b861d42c44076bb232874bdcda0a9": {
      "model_module": "@jupyter-widgets/base",
      "model_module_version": "1.2.0",
      "model_name": "LayoutModel",
      "state": {
       "display": "flex",
       "flex_flow": "row wrap"
      }
     },
     "804009a9309749ea8ee0a4f1b2bab750": {
      "model_module": "@jupyter-widgets/controls",
      "model_module_version": "1.5.0",
      "model_name": "DropdownModel",
      "state": {
       "_options_labels": [
        "All"
       ],
       "index": 0,
       "layout": "IPY_MODEL_3a586a0410d84aaeafea4e3126318c26",
       "style": "IPY_MODEL_b4ca076b747b42af8c7275479945ae35"
      }
     },
     "80487eea78924463be7eebf19add318a": {
      "model_module": "@jupyter-widgets/controls",
      "model_module_version": "1.5.0",
      "model_name": "IntProgressModel",
      "state": {
       "layout": "IPY_MODEL_d2d977b406524aa3bfd604b459b5c312",
       "style": "IPY_MODEL_e9f63fc2ed174d74bb005e40feeff69b",
       "value": 30
      }
     },
     "8059b280c3a447528821a9133e787dc4": {
      "model_module": "@jupyter-widgets/controls",
      "model_module_version": "1.5.0",
      "model_name": "ButtonStyleModel",
      "state": {}
     },
     "81081bee633f49a394a386cab4c97d67": {
      "model_module": "@jupyter-widgets/controls",
      "model_module_version": "1.5.0",
      "model_name": "ButtonStyleModel",
      "state": {}
     },
     "8187a9be9c8b4a56854ae0769b5f3048": {
      "model_module": "@jupyter-widgets/controls",
      "model_module_version": "1.5.0",
      "model_name": "DescriptionStyleModel",
      "state": {
       "description_width": ""
      }
     },
     "818d2a2569174f12ad52bef3e2a41b8f": {
      "model_module": "@jupyter-widgets/controls",
      "model_module_version": "1.5.0",
      "model_name": "LabelModel",
      "state": {
       "layout": "IPY_MODEL_1cc76a1ebfe149ab8aa3d02f00bd65e3",
       "style": "IPY_MODEL_35b18ca9dddd40af80706d52c15f3ad7",
       "value": "     (0/1)"
      }
     },
     "81b3a015289848c1a8c26c4e8238ea04": {
      "model_module": "@jupyter-widgets/controls",
      "model_module_version": "1.5.0",
      "model_name": "IntProgressModel",
      "state": {
       "layout": "IPY_MODEL_4092da6eafa2470bbb2b0d7a4dfbe9a3",
       "max": 1,
       "style": "IPY_MODEL_31289d99115046fc8ac70eb55169ba48"
      }
     },
     "81cf2a3735a642cc97f30027961a010f": {
      "model_module": "@jupyter-widgets/controls",
      "model_module_version": "1.5.0",
      "model_name": "IntProgressModel",
      "state": {
       "layout": "IPY_MODEL_dbff83aaec9d4efd849f0a00338fda6b",
       "max": 250,
       "style": "IPY_MODEL_7530c7f29ebc415ebf53991195505447",
       "value": 8
      }
     },
     "81d143108f024bdd8bb2923e49ac95ac": {
      "model_module": "@jupyter-widgets/base",
      "model_module_version": "1.2.0",
      "model_name": "LayoutModel",
      "state": {
       "height": "32px",
       "order": "-2",
       "width": "32px"
      }
     },
     "81ee2a22d0df4ffdae2ed3942199f902": {
      "model_module": "@jupyter-widgets/controls",
      "model_module_version": "1.5.0",
      "model_name": "HBoxModel",
      "state": {
       "children": [
        "IPY_MODEL_addc5dcd94f64294837581e03a10b7b1",
        "IPY_MODEL_51394b36205b49f699ed58e93b8b3125",
        "IPY_MODEL_4bd677b0a21c4e80b3ceae91c9ee543b",
        "IPY_MODEL_2425d5c86fcf42a58737b58528c184d7"
       ],
       "layout": "IPY_MODEL_35a8b232d82f4947b66213e57250bfc3"
      }
     },
     "81f95a6bfc5448b8bef502b18d1c5f5c": {
      "model_module": "@jupyter-widgets/controls",
      "model_module_version": "1.5.0",
      "model_name": "ButtonModel",
      "state": {
       "layout": "IPY_MODEL_0752de232b184b83805220062cf30624",
       "style": "IPY_MODEL_7b2e3736b5f24658a932310bd9cc356d"
      }
     },
     "8253bcec23c449a79d72a6820bc95c60": {
      "model_module": "@jupyter-widgets/base",
      "model_module_version": "1.2.0",
      "model_name": "LayoutModel",
      "state": {
       "display": "none"
      }
     },
     "826c8382efe34d75b87520df8cbf29b1": {
      "model_module": "@jupyter-widgets/base",
      "model_module_version": "1.2.0",
      "model_name": "LayoutModel",
      "state": {
       "height": "32px",
       "overflow": "visible",
       "width": "100%"
      }
     },
     "828379a5741b4ce9a2a5d9325775af30": {
      "model_module": "@jupyter-widgets/base",
      "model_module_version": "1.2.0",
      "model_name": "LayoutModel",
      "state": {
       "height": "32px",
       "overflow": "visible",
       "width": "100%"
      }
     },
     "828d779e70204aeca5718dd4577a7b11": {
      "model_module": "@jupyter-widgets/controls",
      "model_module_version": "1.5.0",
      "model_name": "LabelModel",
      "state": {
       "layout": "IPY_MODEL_f32f0e587793487ba18394e908a0183b",
       "style": "IPY_MODEL_7ac48d01364244318043015c9af2e805",
       "value": "   objective"
      }
     },
     "82e0a7ffd5ed4c05bc038955f2b2ab3e": {
      "model_module": "@jupyter-widgets/controls",
      "model_module_version": "1.5.0",
      "model_name": "ButtonModel",
      "state": {
       "layout": "IPY_MODEL_1811860063214c04a02f796510911c7a",
       "style": "IPY_MODEL_e7135eb320fb40639e8bada114388e05"
      }
     },
     "83c4571934ae4e5c87de1112c0d19262": {
      "model_module": "@jupyter-widgets/controls",
      "model_module_version": "1.5.0",
      "model_name": "HBoxModel",
      "state": {
       "children": [
        "IPY_MODEL_4cea7288080146288d59141c91ca5537",
        "IPY_MODEL_39697fc72c38452faa8179c27961d5ed"
       ],
       "layout": "IPY_MODEL_66e48354fbb3493b9d59cdc74ad33c47"
      }
     },
     "83c58dd902ee4fbfbbd2b1c712c6c810": {
      "model_module": "@jupyter-widgets/controls",
      "model_module_version": "1.5.0",
      "model_name": "ButtonStyleModel",
      "state": {}
     },
     "83e1ac57600946f5bc17bb2a147db0de": {
      "model_module": "@jupyter-widgets/base",
      "model_module_version": "1.2.0",
      "model_name": "LayoutModel",
      "state": {
       "display": "none"
      }
     },
     "843a02b9241a4c76aedf65a587acbf73": {
      "model_module": "@jupyter-widgets/base",
      "model_module_version": "1.2.0",
      "model_name": "LayoutModel",
      "state": {
       "order": "-1",
       "overflow": "visible",
       "padding": "1px",
       "width": "0px"
      }
     },
     "847f3ca321394f60a1be1ca4b3ddf47f": {
      "model_module": "@jupyter-widgets/controls",
      "model_module_version": "1.5.0",
      "model_name": "HTMLModel",
      "state": {
       "layout": "IPY_MODEL_8971a8973d2e4c5ca7cfb5cf9183b350",
       "style": "IPY_MODEL_9225490e1dfd455a8573ac013354b9e1",
       "value": "<font size=\"5\"><b>The Expedition</b></font size=>"
      }
     },
     "849638e701d143a9b1be1c1013c1618c": {
      "model_module": "@jupyter-widgets/controls",
      "model_module_version": "1.5.0",
      "model_name": "ProgressStyleModel",
      "state": {
       "description_width": ""
      }
     },
     "84c32ee3f06247c08efcc75273a34098": {
      "model_module": "@jupyter-widgets/base",
      "model_module_version": "1.2.0",
      "model_name": "LayoutModel",
      "state": {
       "display": "flex",
       "width": "60px"
      }
     },
     "850fadec5e54411692429fca84cc8943": {
      "model_module": "@jupyter-widgets/controls",
      "model_module_version": "1.5.0",
      "model_name": "IntProgressModel",
      "state": {
       "layout": "IPY_MODEL_d33954be0a054f47ad480e6aa99973fa",
       "style": "IPY_MODEL_37eaaa3ec8db4fb7a07f0b1e2cef4b36",
       "value": 30
      }
     },
     "8520aa1de6254103a6900903f4478173": {
      "model_module": "@jupyter-widgets/controls",
      "model_module_version": "1.5.0",
      "model_name": "ButtonModel",
      "state": {
       "description": "EDIT",
       "layout": "IPY_MODEL_1d4e4197183f4323b8061fff65ff3587",
       "style": "IPY_MODEL_0114f79d2201406983a8e76b22d90d1d"
      }
     },
     "8525aa6d1a6e45d1b76735a4e1712543": {
      "model_module": "@jupyter-widgets/controls",
      "model_module_version": "1.5.0",
      "model_name": "ButtonStyleModel",
      "state": {}
     },
     "85309758e71c4c739782fe37b2c74e62": {
      "model_module": "@jupyter-widgets/controls",
      "model_module_version": "1.5.0",
      "model_name": "ButtonModel",
      "state": {
       "description": "EDIT",
       "layout": "IPY_MODEL_3f1afe00453d48fa8d4225fd36566d69",
       "style": "IPY_MODEL_ed550fbc1b8b48bc865e8c4d71eac0d4"
      }
     },
     "858961f3612648ac8efb244731cf6c7b": {
      "model_module": "@jupyter-widgets/controls",
      "model_module_version": "1.5.0",
      "model_name": "ProgressStyleModel",
      "state": {
       "description_width": ""
      }
     },
     "85ade1cbd3b14abb817855a5702fa4c0": {
      "model_module": "@jupyter-widgets/base",
      "model_module_version": "1.2.0",
      "model_name": "LayoutModel",
      "state": {}
     },
     "85dc3b46cd1444749f5f025ef44501d2": {
      "model_module": "@jupyter-widgets/controls",
      "model_module_version": "1.5.0",
      "model_name": "ButtonStyleModel",
      "state": {}
     },
     "85edd4acac1a46be82ea0bbfd2565db2": {
      "model_module": "@jupyter-widgets/controls",
      "model_module_version": "1.5.0",
      "model_name": "DescriptionStyleModel",
      "state": {
       "description_width": ""
      }
     },
     "8622369032be4cc5bd21138aea3921cf": {
      "model_module": "@jupyter-widgets/controls",
      "model_module_version": "1.5.0",
      "model_name": "ProgressStyleModel",
      "state": {
       "description_width": ""
      }
     },
     "863b95d7d10f4f57bdee6cd70323c46f": {
      "model_module": "@jupyter-widgets/base",
      "model_module_version": "1.2.0",
      "model_name": "LayoutModel",
      "state": {
       "align_items": "stretch",
       "display": "flex",
       "flex_flow": "row wrap"
      }
     },
     "8647ef1585e94261b163eff79e34129d": {
      "model_module": "@jupyter-widgets/base",
      "model_module_version": "1.2.0",
      "model_name": "LayoutModel",
      "state": {
       "height": "32px",
       "order": "-2",
       "width": "32px"
      }
     },
     "864a7da3ac0f490eb655d0721bce8829": {
      "model_module": "@jupyter-widgets/controls",
      "model_module_version": "1.5.0",
      "model_name": "LabelModel",
      "state": {
       "layout": "IPY_MODEL_cac00faaad73412ea01127f8d62d28ff",
       "style": "IPY_MODEL_2dbf7e1af3714feba760f8393de22b39",
       "value": "     (0/1)"
      }
     },
     "8680d88adff94734a4030dc1268c9e53": {
      "model_module": "@jupyter-widgets/controls",
      "model_module_version": "1.5.0",
      "model_name": "ProgressStyleModel",
      "state": {
       "description_width": ""
      }
     },
     "86899cc41ede44c9b6045f2f2ec67db8": {
      "model_module": "@jupyter-widgets/base",
      "model_module_version": "1.2.0",
      "model_name": "LayoutModel",
      "state": {
       "order": "-1",
       "overflow": "visible",
       "padding": "1px",
       "width": "0px"
      }
     },
     "86996cb18c134406a3fc6c6527f0cb49": {
      "model_module": "@jupyter-widgets/base",
      "model_module_version": "1.2.0",
      "model_name": "LayoutModel",
      "state": {
       "display": "flex"
      }
     },
     "86f3cfbb08ac4ccd8e6eca9225572b40": {
      "model_module": "@jupyter-widgets/controls",
      "model_module_version": "1.5.0",
      "model_name": "ProgressStyleModel",
      "state": {
       "description_width": ""
      }
     },
     "86f49664baeb45c09c197e2457b1aa65": {
      "model_module": "@jupyter-widgets/controls",
      "model_module_version": "1.5.0",
      "model_name": "IntProgressModel",
      "state": {
       "layout": "IPY_MODEL_a75f55ba9a104cad9eb38b00b62ddf3e",
       "style": "IPY_MODEL_e3e28c3c854c465d9292b475388c9655",
       "value": 30
      }
     },
     "86ffc71dfce3476b9ca54b86c2f52c1c": {
      "model_module": "@jupyter-widgets/controls",
      "model_module_version": "1.5.0",
      "model_name": "ButtonStyleModel",
      "state": {}
     },
     "871b8c382e5e416cbd9bfcb627ed2c48": {
      "model_module": "@jupyter-widgets/base",
      "model_module_version": "1.2.0",
      "model_name": "LayoutModel",
      "state": {}
     },
     "875b544eb95848ed928bb9a7fb68f92e": {
      "model_module": "@jupyter-widgets/base",
      "model_module_version": "1.2.0",
      "model_name": "LayoutModel",
      "state": {
       "order": "-1",
       "overflow": "visible",
       "padding": "1px",
       "width": "0px"
      }
     },
     "8762703e2e27430ba32bb8f9d40d78f7": {
      "model_module": "@jupyter-widgets/base",
      "model_module_version": "1.2.0",
      "model_name": "LayoutModel",
      "state": {
       "order": "-1",
       "overflow": "visible",
       "padding": "1px",
       "width": "0px"
      }
     },
     "87688e0ce9fb4dd48ca828ea723c1cba": {
      "model_module": "@jupyter-widgets/controls",
      "model_module_version": "1.5.0",
      "model_name": "DropdownModel",
      "state": {
       "_options_labels": [
        "All",
        "Triumphs",
        "Seals"
       ],
       "index": 0,
       "layout": "IPY_MODEL_2baa6a481ae745f194ada4544ff996fb",
       "style": "IPY_MODEL_69ecf6c6a59440aab4323c714380a850"
      }
     },
     "87cae93908834cb995f0b87400a81db7": {
      "model_module": "@jupyter-widgets/controls",
      "model_module_version": "1.5.0",
      "model_name": "HBoxModel",
      "state": {
       "children": [
        "IPY_MODEL_9dba2ef377d745ceb86cc1cbb5633478",
        "IPY_MODEL_8f1ce972a4ec49679aa8294497808bc4",
        "IPY_MODEL_b90b4734223548338ea9f0b2e8173ef6",
        "IPY_MODEL_e00ae95dc66f47ddb00a660009738dc0"
       ],
       "layout": "IPY_MODEL_93b30fd7b7184c0e83673cf3db742889"
      }
     },
     "87e9b357997244e9949c79969900bdf8": {
      "model_module": "@jupyter-widgets/controls",
      "model_module_version": "1.5.0",
      "model_name": "ButtonStyleModel",
      "state": {}
     },
     "87f6bd5f64944f1da3277b889262160b": {
      "model_module": "@jupyter-widgets/controls",
      "model_module_version": "1.5.0",
      "model_name": "ButtonStyleModel",
      "state": {}
     },
     "87fe0f4e8bd443cbbd802e0b2700a63e": {
      "model_module": "@jupyter-widgets/controls",
      "model_module_version": "1.5.0",
      "model_name": "ProgressStyleModel",
      "state": {
       "description_width": ""
      }
     },
     "8849f49e306b4f8792b23977448af0e5": {
      "model_module": "@jupyter-widgets/base",
      "model_module_version": "1.2.0",
      "model_name": "LayoutModel",
      "state": {
       "height": "32px",
       "overflow": "visible",
       "width": "100%"
      }
     },
     "88ae4e002591476994d9c2bf1ab4d2f1": {
      "model_module": "@jupyter-widgets/controls",
      "model_module_version": "1.5.0",
      "model_name": "LabelModel",
      "state": {
       "layout": "IPY_MODEL_c258977be3ff46cf87ee2be266c0c2b2",
       "style": "IPY_MODEL_db4839bcb3b0443cbb0fc7dbb485afd3",
       "value": "    Heroic missions completed (14/10)"
      }
     },
     "88f1196332da4bed87ec8c3cfbee88f5": {
      "model_module": "@jupyter-widgets/controls",
      "model_module_version": "1.5.0",
      "model_name": "DescriptionStyleModel",
      "state": {
       "description_width": ""
      }
     },
     "892cd46e450a46aaab3528ddfbf77632": {
      "model_module": "@jupyter-widgets/base",
      "model_module_version": "1.2.0",
      "model_name": "LayoutModel",
      "state": {
       "order": "-1",
       "overflow": "visible",
       "padding": "1px",
       "width": "0px"
      }
     },
     "894291bac098426c8dbed20ea861a6db": {
      "model_module": "@jupyter-widgets/controls",
      "model_module_version": "1.5.0",
      "model_name": "HTMLModel",
      "state": {
       "layout": "IPY_MODEL_30425f5295fe4f79902ac175ec2d23a9",
       "style": "IPY_MODEL_00fd1e75718f47c9aeeb16bff1b289dd",
       "value": "<i></i>"
      }
     },
     "895c23fe37bd4a2cbf63a57f326ed3d7": {
      "model_module": "@jupyter-widgets/controls",
      "model_module_version": "1.5.0",
      "model_name": "IntProgressModel",
      "state": {
       "layout": "IPY_MODEL_51753b0f654e4158b9bdeda7063a0e90",
       "style": "IPY_MODEL_ee3295b30b0f439ca2df84c1963b60ed",
       "value": 30
      }
     },
     "8971a8973d2e4c5ca7cfb5cf9183b350": {
      "model_module": "@jupyter-widgets/base",
      "model_module_version": "1.2.0",
      "model_name": "LayoutModel",
      "state": {
       "overflow": "visible",
       "width": "100%"
      }
     },
     "8980187962b447dab19b270262d51789": {
      "model_module": "@jupyter-widgets/controls",
      "model_module_version": "1.5.0",
      "model_name": "LabelModel",
      "state": {
       "layout": "IPY_MODEL_aedfa4df5d184e2eaa29796a7f367d3a",
       "style": "IPY_MODEL_16016c5cd3b54384b6a671310a021bf5",
       "value": "   objective"
      }
     },
     "8a1a75c76b0f474780766767017bd74d": {
      "model_module": "@jupyter-widgets/base",
      "model_module_version": "1.2.0",
      "model_name": "LayoutModel",
      "state": {
       "order": "-1",
       "overflow": "visible",
       "padding": "1px",
       "width": "0px"
      }
     },
     "8b0cd510b58947c68af20d169de48902": {
      "model_module": "@jupyter-widgets/base",
      "model_module_version": "1.2.0",
      "model_name": "LayoutModel",
      "state": {
       "display": "flex",
       "width": "60px"
      }
     },
     "8b1d0eefb2904caaaee3de3c8a4f073e": {
      "model_module": "@jupyter-widgets/base",
      "model_module_version": "1.2.0",
      "model_name": "LayoutModel",
      "state": {
       "height": "32px",
       "order": "-2",
       "width": "32px"
      }
     },
     "8b3084627bc9414b9df95abd0f26b0c3": {
      "model_module": "@jupyter-widgets/controls",
      "model_module_version": "1.5.0",
      "model_name": "FloatProgressModel",
      "state": {
       "description": "Loading:",
       "layout": "IPY_MODEL_b9232239012b47fba0061c02f079e1dc",
       "max": 6,
       "style": "IPY_MODEL_033f0e6afa4142a2808e38d5e8482968",
       "value": 6
      }
     },
     "8b85baef15654b0db2a2a90e0fd3c0de": {
      "model_module": "@jupyter-widgets/controls",
      "model_module_version": "1.5.0",
      "model_name": "HTMLModel",
      "state": {
       "layout": "IPY_MODEL_254e5c8be1b54c82a118ee4d4d30bb9d",
       "style": "IPY_MODEL_f38420bb2f954d74bc151c00df91e0e3",
       "value": "<font size=\"1\">Triumphs/Destinations/Minor/The Haul/IX</font size=>"
      }
     },
     "8ba7d58e5e964f58b0d2debc3d397977": {
      "model_module": "@jupyter-widgets/base",
      "model_module_version": "1.2.0",
      "model_name": "LayoutModel",
      "state": {}
     },
     "8bcdbccfb2644537ae96d4222b4ac5a5": {
      "model_module": "@jupyter-widgets/controls",
      "model_module_version": "1.5.0",
      "model_name": "IntProgressModel",
      "state": {
       "layout": "IPY_MODEL_67bcf74ca6df4c87b4be6edebf49adfa",
       "max": 50,
       "style": "IPY_MODEL_51ce397a8a774d49b21ae81efc85753f",
       "value": 42
      }
     },
     "8bfb8aa712e64613874fbe80161548d2": {
      "model_module": "@jupyter-widgets/base",
      "model_module_version": "1.2.0",
      "model_name": "LayoutModel",
      "state": {}
     },
     "8c06f50bf4c147bdbf3414877374d3e2": {
      "model_module": "@jupyter-widgets/base",
      "model_module_version": "1.2.0",
      "model_name": "LayoutModel",
      "state": {
       "display": "none"
      }
     },
     "8c40879363be4d6ea2a5660b2fc2c327": {
      "model_module": "@jupyter-widgets/base",
      "model_module_version": "1.2.0",
      "model_name": "LayoutModel",
      "state": {
       "order": "-1",
       "overflow": "visible",
       "padding": "1px",
       "width": "0px"
      }
     },
     "8c555af2469c4dbf9de9ceba32f90a6e": {
      "model_module": "@jupyter-widgets/controls",
      "model_module_version": "1.5.0",
      "model_name": "HBoxModel",
      "state": {
       "children": [
        "IPY_MODEL_a714980270f14d66b31bd8ab7e405d18",
        "IPY_MODEL_9317c70fef104b34840e7837525d558a",
        "IPY_MODEL_16c563ed37224e57a8390b2ab502896e",
        "IPY_MODEL_aafe20314dee40a8897005e7f765a3d8"
       ],
       "layout": "IPY_MODEL_0e1782d4f25a4b4baf69e79cc96803a7"
      }
     },
     "8c7a9115fa1f457f806f64119ca75f0a": {
      "model_module": "@jupyter-widgets/controls",
      "model_module_version": "1.5.0",
      "model_name": "HBoxModel",
      "state": {
       "children": [
        "IPY_MODEL_6b6ed4950da945b1bf8be97840d225c3",
        "IPY_MODEL_585a8455a6054a9ebbc40a7b286c555d",
        "IPY_MODEL_88ae4e002591476994d9c2bf1ab4d2f1",
        "IPY_MODEL_786d4f484675413896d8a51c179dceb3"
       ],
       "layout": "IPY_MODEL_9008e7521f6c4756bb9e565e25267c6f"
      }
     },
     "8c899e961fae4120ad99802a39af2c43": {
      "model_module": "@jupyter-widgets/controls",
      "model_module_version": "1.5.0",
      "model_name": "IntProgressModel",
      "state": {
       "layout": "IPY_MODEL_bce99266255c40e6b04557bb7d1eb40d",
       "max": 1,
       "style": "IPY_MODEL_a69fa2095c57481e984e83226f8261fd"
      }
     },
     "8d28bb89313043278a220e8e1e818ef1": {
      "model_module": "@jupyter-widgets/controls",
      "model_module_version": "1.5.0",
      "model_name": "ButtonStyleModel",
      "state": {}
     },
     "8d6467a6e1a141c8b5a9753bf966866c": {
      "model_module": "@jupyter-widgets/controls",
      "model_module_version": "1.5.0",
      "model_name": "ButtonModel",
      "state": {
       "layout": "IPY_MODEL_ffd16a952fa348b0b32c1b51c7883b09",
       "style": "IPY_MODEL_5a31e120f23749cfa8da4acc20513319"
      }
     },
     "8dc0cf384fc2447f8b74c52b865ab0f6": {
      "model_module": "@jupyter-widgets/base",
      "model_module_version": "1.2.0",
      "model_name": "LayoutModel",
      "state": {
       "height": "32px",
       "overflow": "visible",
       "width": "100%"
      }
     },
     "8e0859f56ba64e4bae4c38d297ef697e": {
      "model_module": "@jupyter-widgets/controls",
      "model_module_version": "1.5.0",
      "model_name": "LabelModel",
      "state": {
       "layout": "IPY_MODEL_86899cc41ede44c9b6045f2f2ec67db8",
       "style": "IPY_MODEL_de0da8f184004b6bbed6cedafc4fe27e",
       "value": "   objective"
      }
     },
     "8e42f5faa4c742f1bc54f83f15f1d729": {
      "model_module": "@jupyter-widgets/controls",
      "model_module_version": "1.5.0",
      "model_name": "DescriptionStyleModel",
      "state": {
       "description_width": ""
      }
     },
     "8efc0857a2ef4904a2a391a6ebfe2bb1": {
      "model_module": "@jupyter-widgets/controls",
      "model_module_version": "1.5.0",
      "model_name": "HTMLModel",
      "state": {
       "layout": "IPY_MODEL_52511736db6544238a9ec03dd72225a5",
       "style": "IPY_MODEL_d7706e0bd1c841cb8b0005db32bb1107",
       "value": "<i></i>"
      }
     },
     "8f034b7bf48e4875a8cbbf0348cd699e": {
      "model_module": "@jupyter-widgets/base",
      "model_module_version": "1.2.0",
      "model_name": "LayoutModel",
      "state": {
       "display": "none"
      }
     },
     "8f0d0510fe6e4a2a925b0ed904a33009": {
      "model_module": "@jupyter-widgets/controls",
      "model_module_version": "1.5.0",
      "model_name": "ProgressStyleModel",
      "state": {
       "description_width": ""
      }
     },
     "8f0ea347261e4aa3a2dc8e14ef217aba": {
      "model_module": "@jupyter-widgets/base",
      "model_module_version": "1.2.0",
      "model_name": "LayoutModel",
      "state": {
       "order": "-1",
       "overflow": "visible",
       "padding": "1px",
       "width": "0px"
      }
     },
     "8f15708be8894f3583a43766f1a9b552": {
      "model_module": "@jupyter-widgets/base",
      "model_module_version": "1.2.0",
      "model_name": "LayoutModel",
      "state": {
       "order": "-1",
       "overflow": "visible",
       "padding": "1px",
       "width": "0px"
      }
     },
     "8f1ce972a4ec49679aa8294497808bc4": {
      "model_module": "@jupyter-widgets/controls",
      "model_module_version": "1.5.0",
      "model_name": "IntProgressModel",
      "state": {
       "layout": "IPY_MODEL_23ee15580b574ca7a6c8797fdf9e51aa",
       "max": 5000,
       "style": "IPY_MODEL_9b03dd6fa8994b2db6a852c596d89bae",
       "value": 3768
      }
     },
     "8f1db083056f4603a4198d2aa880f4c7": {
      "model_module": "@jupyter-widgets/base",
      "model_module_version": "1.2.0",
      "model_name": "LayoutModel",
      "state": {
       "display": "flex",
       "width": "60px"
      }
     },
     "8f35c87da7a84a7bb19b68a16053f53d": {
      "model_module": "@jupyter-widgets/controls",
      "model_module_version": "1.5.0",
      "model_name": "LabelModel",
      "state": {
       "layout": "IPY_MODEL_675bf653c3b647649070b4fb5d3abf48",
       "style": "IPY_MODEL_ce8a26d576534c23b85f3a1007e05b40",
       "value": "    Enemies Defeated (0/500)"
      }
     },
     "8f51c42e2c6f45f7987bb8b1daa22b21": {
      "model_module": "@jupyter-widgets/controls",
      "model_module_version": "1.5.0",
      "model_name": "ButtonModel",
      "state": {
       "description": "EDIT",
       "layout": "IPY_MODEL_c43b004fd02941a991b708e3c81e9bac",
       "style": "IPY_MODEL_7f19a9179dd748359b94ff715494e82b"
      }
     },
     "8fbf476358c04bb1add854f04081bf01": {
      "model_module": "@jupyter-widgets/controls",
      "model_module_version": "1.5.0",
      "model_name": "BoxModel",
      "state": {
       "children": [
        "IPY_MODEL_13cf8f6cfdd24ca58a121440ca4cd3ff",
        "IPY_MODEL_5ac381c4507c4920b731e58168a613e4",
        "IPY_MODEL_6f14e33988b64afea215e2f1a141b65f",
        "IPY_MODEL_1edac5438de8436bbd14bce3f5a04474",
        "IPY_MODEL_31205a060e784027abef8db00d8f77d3",
        "IPY_MODEL_9c4b594cf8d64547800b4466f5edee23",
        "IPY_MODEL_2bc3d1e468b14380a0f1257b1364da85",
        "IPY_MODEL_f5e8cab49b13453db5d12ce2d84616ee",
        "IPY_MODEL_275656bdb06646f9bbdec3902b469844",
        "IPY_MODEL_b16ddf86914243beb23f263a59715b75",
        "IPY_MODEL_235193c2e2864218bc5649f806527279",
        "IPY_MODEL_37e4e1bf733a4c028c1e89379a4a9aa2",
        "IPY_MODEL_a14fab143e454761a00c151a546d2e6b",
        "IPY_MODEL_98404a10c26349609145758767216a62",
        "IPY_MODEL_fa6e0e4523aa40d0a7e7b045908b7035"
       ],
       "layout": "IPY_MODEL_863b95d7d10f4f57bdee6cd70323c46f"
      }
     },
     "8fd96938a4df44dfbdb889d525d64851": {
      "model_module": "@jupyter-widgets/controls",
      "model_module_version": "1.5.0",
      "model_name": "HBoxModel",
      "state": {
       "children": [
        "IPY_MODEL_e893dd89cf3e438cb5a0a502bf8d2bc4",
        "IPY_MODEL_bd419eacd3404f9d8210103851cfdaa0",
        "IPY_MODEL_967b5779aef446e5845387fb2e2723dc",
        "IPY_MODEL_238e363faf0d43d5bfc53c5b2cde9f4b"
       ],
       "layout": "IPY_MODEL_2564838b8f9b4db49867a353b74b7958"
      }
     },
     "9008e7521f6c4756bb9e565e25267c6f": {
      "model_module": "@jupyter-widgets/base",
      "model_module_version": "1.2.0",
      "model_name": "LayoutModel",
      "state": {
       "display": "none"
      }
     },
     "902baf6c1912401e91005a8d4926896e": {
      "model_module": "@jupyter-widgets/controls",
      "model_module_version": "1.5.0",
      "model_name": "ButtonStyleModel",
      "state": {}
     },
     "905b6819945e4dd6a27b167b71e7bf27": {
      "model_module": "@jupyter-widgets/controls",
      "model_module_version": "1.5.0",
      "model_name": "LabelModel",
      "state": {
       "layout": "IPY_MODEL_b8e3a15f3b6f4e7fbc8f2e169b9ac20d",
       "style": "IPY_MODEL_88f1196332da4bed87ec8c3cfbee88f5",
       "value": "    \"Last Wish\" raid completed (0/1)"
      }
     },
     "905eeedd5dba40848531146d038d4123": {
      "model_module": "@jupyter-widgets/base",
      "model_module_version": "1.2.0",
      "model_name": "LayoutModel",
      "state": {
       "order": "-1",
       "overflow": "visible",
       "padding": "1px",
       "width": "0px"
      }
     },
     "90d5eb8ef1a84dc6918d402c3c5561d3": {
      "model_module": "@jupyter-widgets/base",
      "model_module_version": "1.2.0",
      "model_name": "LayoutModel",
      "state": {
       "display": "flex",
       "width": "60px"
      }
     },
     "910fd2cc8bbf4b3ab567bb58dbb31ef5": {
      "model_module": "@jupyter-widgets/controls",
      "model_module_version": "1.5.0",
      "model_name": "IntProgressModel",
      "state": {
       "bar_style": "info",
       "layout": "IPY_MODEL_828379a5741b4ce9a2a5d9325775af30",
       "max": 5,
       "style": "IPY_MODEL_7fb804ab5342478c8116c72bc3104cc0",
       "value": 2
      }
     },
     "9113b5a9b406414dae3f682212dfb285": {
      "model_module": "@jupyter-widgets/base",
      "model_module_version": "1.2.0",
      "model_name": "LayoutModel",
      "state": {
       "height": "32px",
       "order": "-2",
       "width": "32px"
      }
     },
     "912291e021834f6c81e8c39d780ae1ac": {
      "model_module": "@jupyter-widgets/controls",
      "model_module_version": "1.5.0",
      "model_name": "ButtonStyleModel",
      "state": {}
     },
     "9126323b0783445cb7e9829ffd4c960e": {
      "model_module": "@jupyter-widgets/controls",
      "model_module_version": "1.5.0",
      "model_name": "HTMLModel",
      "state": {
       "layout": "IPY_MODEL_060088f79f534b5f9388a88402e2c877",
       "style": "IPY_MODEL_cb0d9df803be4695875f86cb5b65c730",
       "value": "<font size=\"1\">Triumphs/Crucible/Lifetime/Glory Ranks/Become Legend</font size=>"
      }
     },
     "913e19c613e2416593ba999c75327687": {
      "model_module": "@jupyter-widgets/controls",
      "model_module_version": "1.5.0",
      "model_name": "HBoxModel",
      "state": {
       "children": [
        "IPY_MODEL_c4d64d230b9b4bf6886846c5a785c3d7",
        "IPY_MODEL_40937ac933bf45ebbe2e074567f97175",
        "IPY_MODEL_9cc6bc1b486446d397aa062f6ed89e64",
        "IPY_MODEL_1bc0096bd17b42368f9b076c9d2a48c3"
       ],
       "layout": "IPY_MODEL_7a1724c4d0ae456aaf8ca30ac7563497"
      }
     },
     "91439337af774252b7d9c59cf4b3925a": {
      "model_module": "@jupyter-widgets/base",
      "model_module_version": "1.2.0",
      "model_name": "LayoutModel",
      "state": {
       "border": "3px solid white",
       "display": "flex",
       "flex": "1 1 0%",
       "margin": "10px",
       "min_width": "400px",
       "overflow": "visible",
       "padding": "10px",
       "width": "auto"
      }
     },
     "91cd295ed38943218277c49288f21133": {
      "model_module": "@jupyter-widgets/base",
      "model_module_version": "1.2.0",
      "model_name": "LayoutModel",
      "state": {
       "height": "32px",
       "order": "-2",
       "width": "32px"
      }
     },
     "9225490e1dfd455a8573ac013354b9e1": {
      "model_module": "@jupyter-widgets/controls",
      "model_module_version": "1.5.0",
      "model_name": "DescriptionStyleModel",
      "state": {
       "description_width": ""
      }
     },
     "92370e25849c4595a2c8e654cbb3d32e": {
      "model_module": "@jupyter-widgets/base",
      "model_module_version": "1.2.0",
      "model_name": "LayoutModel",
      "state": {
       "height": "32px",
       "order": "-2",
       "width": "32px"
      }
     },
     "928cf566e2a14d65a64d61a6a0916441": {
      "model_module": "@jupyter-widgets/controls",
      "model_module_version": "1.5.0",
      "model_name": "VBoxModel",
      "state": {
       "children": [
        "IPY_MODEL_519658610d79458ea9ca21f01103eda5",
        "IPY_MODEL_61b522f8ca334bf4b4ddd326bf8e4dd2",
        "IPY_MODEL_d294390e3e944c0bb42ede6c5ce826f2",
        "IPY_MODEL_1d2045cd6ae64fc8ba3b5303fa845cdc",
        "IPY_MODEL_7a3c8eaafdf745959cfea3d8551d0f8b",
        "IPY_MODEL_fe51294303df497f869ec026d9f8627c",
        "IPY_MODEL_9e7c4a8be4cb455dbe545361fde3fe1f",
        "IPY_MODEL_b474dc03dcbb456c9cede0d7a1c49eff",
        "IPY_MODEL_cb9b54bdcf2749708514986ebdc9458b"
       ],
       "layout": "IPY_MODEL_40d726efedd642708c2ca1dd45ea96e9"
      }
     },
     "92c65aa5feeb48678b0768a0e6a4deb7": {
      "model_module": "@jupyter-widgets/controls",
      "model_module_version": "1.5.0",
      "model_name": "LabelModel",
      "state": {
       "layout": "IPY_MODEL_1c7c79bd21794f219b0115b0ffc79621",
       "style": "IPY_MODEL_56ed171bca004287b0f8115509693420",
       "value": "    Vaults defended (7/10)"
      }
     },
     "92e76418e37d40d0aada029515fefa2e": {
      "model_module": "@jupyter-widgets/controls",
      "model_module_version": "1.5.0",
      "model_name": "ProgressStyleModel",
      "state": {
       "description_width": ""
      }
     },
     "92fa903f79ff4a11a4abe176085081c2": {
      "model_module": "@jupyter-widgets/base",
      "model_module_version": "1.2.0",
      "model_name": "LayoutModel",
      "state": {
       "height": "32px",
       "overflow": "visible",
       "width": "100%"
      }
     },
     "93014a16e4e0413c80b03ab74fec240e": {
      "model_module": "@jupyter-widgets/base",
      "model_module_version": "1.2.0",
      "model_name": "LayoutModel",
      "state": {
       "display": "none"
      }
     },
     "9317c70fef104b34840e7837525d558a": {
      "model_module": "@jupyter-widgets/controls",
      "model_module_version": "1.5.0",
      "model_name": "IntProgressModel",
      "state": {
       "layout": "IPY_MODEL_756f8701d5f64f989a12e00a4983efac",
       "style": "IPY_MODEL_87fe0f4e8bd443cbbd802e0b2700a63e",
       "value": 30
      }
     },
     "93327573acc64fbaa9d8fd1afc84593d": {
      "model_module": "@jupyter-widgets/controls",
      "model_module_version": "1.5.0",
      "model_name": "HBoxModel",
      "state": {
       "children": [
        "IPY_MODEL_3185c0547b324ee6a5fdf7a9f7f8cd6e",
        "IPY_MODEL_a18df36a49024985aa1555cc192009e5",
        "IPY_MODEL_2b2acfb2c4bd4cfc80a3ce552616f4d4",
        "IPY_MODEL_c8bbbddad3f34ba081f0f31cf0e3d75b"
       ],
       "layout": "IPY_MODEL_c2307fb14fa244848eaa493e7daf8bd0"
      }
     },
     "934f87f674e44cfaa117491e7a06db27": {
      "model_module": "@jupyter-widgets/controls",
      "model_module_version": "1.5.0",
      "model_name": "ButtonStyleModel",
      "state": {}
     },
     "935e6381f77a4e3fbee497d0d94260dd": {
      "model_module": "@jupyter-widgets/controls",
      "model_module_version": "1.5.0",
      "model_name": "ButtonStyleModel",
      "state": {}
     },
     "9381981c674e4688af26acbcf1e8c781": {
      "model_module": "@jupyter-widgets/base",
      "model_module_version": "1.2.0",
      "model_name": "LayoutModel",
      "state": {
       "display": "flex",
       "width": "60px"
      }
     },
     "938dc46f078840ac887fbd4a1946a73d": {
      "model_module": "@jupyter-widgets/controls",
      "model_module_version": "1.5.0",
      "model_name": "ProgressStyleModel",
      "state": {
       "description_width": ""
      }
     },
     "93adef229dcd42eda3fe7fdb9a9b1514": {
      "model_module": "@jupyter-widgets/controls",
      "model_module_version": "1.5.0",
      "model_name": "LabelModel",
      "state": {
       "layout": "IPY_MODEL_13efedff8a81402c99d79cbe55b6ed26",
       "style": "IPY_MODEL_f7622635916a4d82a98ce83513915eae",
       "value": "    Enemies killed (177/500)"
      }
     },
     "93b30fd7b7184c0e83673cf3db742889": {
      "model_module": "@jupyter-widgets/base",
      "model_module_version": "1.2.0",
      "model_name": "LayoutModel",
      "state": {
       "display": "none"
      }
     },
     "93ff03a21ef9422ca816da3439c26c0b": {
      "model_module": "@jupyter-widgets/controls",
      "model_module_version": "1.5.0",
      "model_name": "IntProgressModel",
      "state": {
       "layout": "IPY_MODEL_2ba9ac431a054fa49c3b6510f9a12c8c",
       "max": 1,
       "style": "IPY_MODEL_849638e701d143a9b1be1c1013c1618c"
      }
     },
     "940679268f214a5e8cc9d8b6d481430e": {
      "model_module": "@jupyter-widgets/controls",
      "model_module_version": "1.5.0",
      "model_name": "HBoxModel",
      "state": {
       "children": [
        "IPY_MODEL_79526d388fc145e88fad38bee297d814",
        "IPY_MODEL_6bdfba520d984334bebcd28a82e995d4",
        "IPY_MODEL_ebacd92049b643ca95f30e577802e8ac",
        "IPY_MODEL_763f13c102c54bdeb69a34d317318fca"
       ],
       "layout": "IPY_MODEL_93014a16e4e0413c80b03ab74fec240e"
      }
     },
     "94983f07f6e4427684501ca84f5b979a": {
      "model_module": "@jupyter-widgets/controls",
      "model_module_version": "1.5.0",
      "model_name": "HBoxModel",
      "state": {
       "children": [
        "IPY_MODEL_d6e0608f1f82467b9031e2b944ca7cb9",
        "IPY_MODEL_54f5c8f264314a699314a74fcb91e64e"
       ],
       "layout": "IPY_MODEL_f0b0d486cd4541cf8d164d44312bcba3"
      }
     },
     "949a4aafb1044dc59309a3028b366a6f": {
      "model_module": "@jupyter-widgets/base",
      "model_module_version": "1.2.0",
      "model_name": "LayoutModel",
      "state": {
       "overflow": "visible",
       "width": "100%"
      }
     },
     "94df44d4a90a4bdea9dc1e2d665c5b17": {
      "model_module": "@jupyter-widgets/controls",
      "model_module_version": "1.5.0",
      "model_name": "HBoxModel",
      "state": {
       "children": [
        "IPY_MODEL_e277a7dad16544a6a758b7f3d03ca1bd",
        "IPY_MODEL_73009649eefc41f9bf9fe23cf1c3bf51",
        "IPY_MODEL_905b6819945e4dd6a27b167b71e7bf27",
        "IPY_MODEL_f87ba450513040f1babf42fcda106516"
       ],
       "layout": "IPY_MODEL_fe7e4b679880440da141b7ece3fb5b7d"
      }
     },
     "9516304287604bf4bdd0745ad76f86da": {
      "model_module": "@jupyter-widgets/controls",
      "model_module_version": "1.5.0",
      "model_name": "ButtonModel",
      "state": {
       "description": "EDIT",
       "layout": "IPY_MODEL_401b474cdaed4a8f8c8d3ec60ffa80c1",
       "style": "IPY_MODEL_683bb37e9b3f427998617ff2b9783700"
      }
     },
     "953ce1eecb1241fb857a5342dc2b74b4": {
      "model_module": "@jupyter-widgets/base",
      "model_module_version": "1.2.0",
      "model_name": "LayoutModel",
      "state": {
       "order": "-1",
       "overflow": "visible",
       "padding": "1px",
       "width": "0px"
      }
     },
     "95594ce8fa2649ce826d3745acd6e7b1": {
      "model_module": "@jupyter-widgets/base",
      "model_module_version": "1.2.0",
      "model_name": "LayoutModel",
      "state": {
       "overflow": "visible",
       "width": "100%"
      }
     },
     "9566177ca59249d49f22c1aa75e8aed8": {
      "model_module": "@jupyter-widgets/base",
      "model_module_version": "1.2.0",
      "model_name": "LayoutModel",
      "state": {
       "display": "flex"
      }
     },
     "957ec80f87334b3fb1f5c0bb5785aa12": {
      "model_module": "@jupyter-widgets/base",
      "model_module_version": "1.2.0",
      "model_name": "LayoutModel",
      "state": {}
     },
     "96721436a2cb4ce9b81770e72971acf3": {
      "model_module": "@jupyter-widgets/controls",
      "model_module_version": "1.5.0",
      "model_name": "DescriptionStyleModel",
      "state": {
       "description_width": ""
      }
     },
     "967b5779aef446e5845387fb2e2723dc": {
      "model_module": "@jupyter-widgets/controls",
      "model_module_version": "1.5.0",
      "model_name": "LabelModel",
      "state": {
       "layout": "IPY_MODEL_6944340f8e6b4c399f811d816b4e4cc3",
       "style": "IPY_MODEL_c6da39d8fe7f494388057e770b44d412",
       "value": "    Grenade kills (309/500)"
      }
     },
     "9681d21952284ec1a4480e634e0bf23e": {
      "model_module": "@jupyter-widgets/controls",
      "model_module_version": "1.5.0",
      "model_name": "ButtonModel",
      "state": {
       "description": "EDIT",
       "layout": "IPY_MODEL_1c25b62f4b5c45ed87067133058c849a",
       "style": "IPY_MODEL_c6bdc33eb99547d7a7062953cc1df028"
      }
     },
     "96c1183d93b949a6b2d45615ae6a34b6": {
      "model_module": "@jupyter-widgets/controls",
      "model_module_version": "1.5.0",
      "model_name": "LabelModel",
      "state": {
       "layout": "IPY_MODEL_28e34fd7a1fb4adeb615a81ac3f13eb0",
       "style": "IPY_MODEL_7f6624979da944e8a40d98b7d73513db",
       "value": "    Kills with a single Super (27/25)"
      }
     },
     "96c74ee8846344bf822604698f421f88": {
      "model_module": "@jupyter-widgets/controls",
      "model_module_version": "1.5.0",
      "model_name": "VBoxModel",
      "state": {
       "children": [
        "IPY_MODEL_cc2e00f5e9b6461c9db22c2511438622",
        "IPY_MODEL_3930590c893547b5b6b01658f4a7a5d7",
        "IPY_MODEL_3f04106b9fe24e09a49cda4750db1f7f"
       ],
       "layout": "IPY_MODEL_0d36d2f5409f48f0bd02d126d21bf5a2"
      }
     },
     "96dabd1a632646b792ac567e721486a3": {
      "model_module": "@jupyter-widgets/controls",
      "model_module_version": "1.5.0",
      "model_name": "HBoxModel",
      "state": {
       "children": [
        "IPY_MODEL_fb58d0145aaf429c82c3e3481f7cb0ce",
        "IPY_MODEL_d58650e5866646d2b75e2f8f43e5b772",
        "IPY_MODEL_8f35c87da7a84a7bb19b68a16053f53d",
        "IPY_MODEL_a7e5327ea6e34bdc8e9227c4a1ca20ce"
       ],
       "layout": "IPY_MODEL_fb858849ad7d41b19d09c19ba3447dca"
      }
     },
     "9737df6ee1ed436da4a0b4b44c0bbaf7": {
      "model_module": "@jupyter-widgets/controls",
      "model_module_version": "1.5.0",
      "model_name": "ButtonStyleModel",
      "state": {}
     },
     "97530d4e33db4321a31973a7bcab26b4": {
      "model_module": "@jupyter-widgets/base",
      "model_module_version": "1.2.0",
      "model_name": "LayoutModel",
      "state": {
       "height": "32px",
       "order": "-2",
       "width": "32px"
      }
     },
     "9766c3d742f0481893ed4f7078b60c8b": {
      "model_module": "@jupyter-widgets/controls",
      "model_module_version": "1.5.0",
      "model_name": "DescriptionStyleModel",
      "state": {
       "description_width": ""
      }
     },
     "976c12ffedc14d518f2160b025c4d09b": {
      "model_module": "@jupyter-widgets/base",
      "model_module_version": "1.2.0",
      "model_name": "LayoutModel",
      "state": {
       "overflow": "visible",
       "width": "100%"
      }
     },
     "977adaf655b84522911574aaa345b8fc": {
      "model_module": "@jupyter-widgets/controls",
      "model_module_version": "1.5.0",
      "model_name": "DescriptionStyleModel",
      "state": {
       "description_width": ""
      }
     },
     "98404a10c26349609145758767216a62": {
      "model_module": "@jupyter-widgets/controls",
      "model_module_version": "1.5.0",
      "model_name": "VBoxModel",
      "state": {
       "children": [
        "IPY_MODEL_da61309254bf484b80b5735a193a8b51",
        "IPY_MODEL_1a1a6ad3233b42878b14f149b491c2e7",
        "IPY_MODEL_3152bba3845348cf8f55ba2f3cb4e726",
        "IPY_MODEL_2cbf081a09894250bf4de5920a357846"
       ],
       "layout": "IPY_MODEL_bcbdd893e2794340b8edb5b5b3e588c6"
      }
     },
     "986435387616442c85d2e0d4e58ac832": {
      "model_module": "@jupyter-widgets/base",
      "model_module_version": "1.2.0",
      "model_name": "LayoutModel",
      "state": {
       "order": "-1",
       "overflow": "visible",
       "padding": "1px",
       "width": "0px"
      }
     },
     "98707641787f4d5ca0baef4664605522": {
      "model_module": "@jupyter-widgets/controls",
      "model_module_version": "1.5.0",
      "model_name": "ButtonStyleModel",
      "state": {}
     },
     "988a47bc4f8b4d829a4ec80a3c3943de": {
      "model_module": "@jupyter-widgets/base",
      "model_module_version": "1.2.0",
      "model_name": "LayoutModel",
      "state": {}
     },
     "98ac6bb440c943d9bd2005e4539d0192": {
      "model_module": "@jupyter-widgets/base",
      "model_module_version": "1.2.0",
      "model_name": "LayoutModel",
      "state": {
       "height": "32px",
       "order": "-2",
       "width": "32px"
      }
     },
     "995063243fbf427fbc42a3e5cca58569": {
      "model_module": "@jupyter-widgets/base",
      "model_module_version": "1.2.0",
      "model_name": "LayoutModel",
      "state": {
       "display": "none"
      }
     },
     "9955d4c799804abc8d5a3b5e20340927": {
      "model_module": "@jupyter-widgets/controls",
      "model_module_version": "1.5.0",
      "model_name": "IntProgressModel",
      "state": {
       "layout": "IPY_MODEL_ca4ba2d262de43bf82867acbb18a4134",
       "style": "IPY_MODEL_e7a4ebbee0774c73abd4a06c4ef89ae5",
       "value": 30
      }
     },
     "9966aa0e2de4435b87042492d49c257b": {
      "model_module": "@jupyter-widgets/base",
      "model_module_version": "1.2.0",
      "model_name": "LayoutModel",
      "state": {}
     },
     "99eb70b7afd94eb3ae88b667bf29ae35": {
      "model_module": "@jupyter-widgets/controls",
      "model_module_version": "1.5.0",
      "model_name": "DescriptionStyleModel",
      "state": {
       "description_width": ""
      }
     },
     "99ecff611b6146669f4a5e226a4a22fd": {
      "model_module": "@jupyter-widgets/controls",
      "model_module_version": "1.5.0",
      "model_name": "VBoxModel",
      "state": {
       "children": [
        "IPY_MODEL_5f1a169232e34269b81979307d4348d3",
        "IPY_MODEL_96dabd1a632646b792ac567e721486a3",
        "IPY_MODEL_e00e4f4e27314e43a444e6ccf53e8dbc",
        "IPY_MODEL_21a8516f9a524d789ded49937de62681",
        "IPY_MODEL_81ee2a22d0df4ffdae2ed3942199f902",
        "IPY_MODEL_93327573acc64fbaa9d8fd1afc84593d"
       ],
       "layout": "IPY_MODEL_146286e94b27427783a2b66d10fb8edf"
      }
     },
     "9a05f7e23af3429190db51daf7d65dff": {
      "model_module": "@jupyter-widgets/base",
      "model_module_version": "1.2.0",
      "model_name": "LayoutModel",
      "state": {
       "height": "32px",
       "overflow": "visible",
       "width": "100%"
      }
     },
     "9a300d9fda4240c9a8bb6b309efb533d": {
      "model_module": "@jupyter-widgets/base",
      "model_module_version": "1.2.0",
      "model_name": "LayoutModel",
      "state": {
       "border": "3px solid white",
       "display": "flex",
       "flex": "1 1 0%",
       "margin": "10px",
       "min_width": "400px",
       "overflow": "visible",
       "padding": "10px",
       "width": "auto"
      }
     },
     "9a901afcede6452faf2020374636f4ae": {
      "model_module": "@jupyter-widgets/base",
      "model_module_version": "1.2.0",
      "model_name": "LayoutModel",
      "state": {
       "height": "32px",
       "order": "-2",
       "width": "32px"
      }
     },
     "9aaf5ac19e1541089931182775c80598": {
      "model_module": "@jupyter-widgets/base",
      "model_module_version": "1.2.0",
      "model_name": "LayoutModel",
      "state": {
       "display": "none"
      }
     },
     "9b03dd6fa8994b2db6a852c596d89bae": {
      "model_module": "@jupyter-widgets/controls",
      "model_module_version": "1.5.0",
      "model_name": "ProgressStyleModel",
      "state": {
       "description_width": ""
      }
     },
     "9b142272604b45a9ad0fdb13eea9542a": {
      "model_module": "@jupyter-widgets/base",
      "model_module_version": "1.2.0",
      "model_name": "LayoutModel",
      "state": {
       "order": "-1",
       "overflow": "visible",
       "padding": "1px",
       "width": "0px"
      }
     },
     "9b4557a67c1e4d6fa70261e733a1af0d": {
      "model_module": "@jupyter-widgets/base",
      "model_module_version": "1.2.0",
      "model_name": "LayoutModel",
      "state": {
       "height": "32px",
       "overflow": "visible",
       "width": "100%"
      }
     },
     "9b6a660bb0784c77ab35a76c30aef866": {
      "model_module": "@jupyter-widgets/controls",
      "model_module_version": "1.5.0",
      "model_name": "DescriptionStyleModel",
      "state": {
       "description_width": ""
      }
     },
     "9b81dfe20b074e62968d9807875d2cc7": {
      "model_module": "@jupyter-widgets/base",
      "model_module_version": "1.2.0",
      "model_name": "LayoutModel",
      "state": {
       "width": "100px"
      }
     },
     "9bd492453ef5416abccc2c0650871387": {
      "model_module": "@jupyter-widgets/base",
      "model_module_version": "1.2.0",
      "model_name": "LayoutModel",
      "state": {
       "height": "32px",
       "order": "-2",
       "width": "32px"
      }
     },
     "9be2fe6f740a4995b88626beb353bf26": {
      "model_module": "@jupyter-widgets/controls",
      "model_module_version": "1.5.0",
      "model_name": "LabelModel",
      "state": {
       "layout": "IPY_MODEL_d2d164c027154ca3829175ed449312f5",
       "style": "IPY_MODEL_651178119bce4c159e0cd2d26570257a",
       "value": "    Vaults hacked (20/15)"
      }
     },
     "9c35366f53f44bb29d876c0781a93ddf": {
      "model_module": "@jupyter-widgets/controls",
      "model_module_version": "1.5.0",
      "model_name": "ButtonModel",
      "state": {
       "layout": "IPY_MODEL_ec2b8eaca6024e6fa6ad6a402833649d",
       "style": "IPY_MODEL_e4adeac498064b4bb593a35cb5c68b60"
      }
     },
     "9c4b594cf8d64547800b4466f5edee23": {
      "model_module": "@jupyter-widgets/controls",
      "model_module_version": "1.5.0",
      "model_name": "VBoxModel",
      "state": {
       "children": [
        "IPY_MODEL_5a48ab9eaeff477b9a0a11f96e133c84",
        "IPY_MODEL_c926fe02a12d4e8ea8e5cc4eecfb9b67",
        "IPY_MODEL_21b0439dbf0a4b9bb8d6452efa7d857e",
        "IPY_MODEL_cb872943be3a42f98af8aadd65abafbd"
       ],
       "layout": "IPY_MODEL_27d85c177a9f48c8a0fb617831ff6cd7"
      }
     },
     "9c5842ee502a4d36ab5ca4d5b5e1ea61": {
      "model_module": "@jupyter-widgets/controls",
      "model_module_version": "1.5.0",
      "model_name": "ButtonStyleModel",
      "state": {}
     },
     "9c8facaa30324d1c8a727a4087a8744c": {
      "model_module": "@jupyter-widgets/controls",
      "model_module_version": "1.5.0",
      "model_name": "ButtonModel",
      "state": {
       "button_style": "success",
       "disabled": true,
       "layout": "IPY_MODEL_fcb7ced455cb4b71813dde2a1c4e4909",
       "style": "IPY_MODEL_0fd8c3cbdfa64160b5fe143e4ecc4952"
      }
     },
     "9cbe306658924b85a6108add96f96de0": {
      "model_module": "@jupyter-widgets/controls",
      "model_module_version": "1.5.0",
      "model_name": "LabelModel",
      "state": {
       "layout": "IPY_MODEL_4ae8a9d77dc74709a297e251fac95c70",
       "style": "IPY_MODEL_7ead58f257f74cb1b8fd452af840a99c",
       "value": "    Warlocks defeated (68/50)"
      }
     },
     "9cc5ebfcd80b45e79d25ff04fa49dd1c": {
      "model_module": "@jupyter-widgets/base",
      "model_module_version": "1.2.0",
      "model_name": "LayoutModel",
      "state": {
       "order": "-1",
       "overflow": "visible",
       "padding": "1px",
       "width": "0px"
      }
     },
     "9cc6bc1b486446d397aa062f6ed89e64": {
      "model_module": "@jupyter-widgets/controls",
      "model_module_version": "1.5.0",
      "model_name": "LabelModel",
      "state": {
       "layout": "IPY_MODEL_a8f9f0ffa9b3414b8cc6887253b4bf8d",
       "style": "IPY_MODEL_5e1d605fda7240ae8a178e50013d44c4",
       "value": "    Grenade kills (410/1000)"
      }
     },
     "9ce0b87a886247228b057c567b30b7ac": {
      "model_module": "@jupyter-widgets/base",
      "model_module_version": "1.2.0",
      "model_name": "LayoutModel",
      "state": {
       "display": "flex"
      }
     },
     "9ced495223cf46d1a42e2fae7e402cad": {
      "model_module": "@jupyter-widgets/controls",
      "model_module_version": "1.5.0",
      "model_name": "DescriptionStyleModel",
      "state": {
       "description_width": ""
      }
     },
     "9cedaea7e58544299c08aa5dff3b1d47": {
      "model_module": "@jupyter-widgets/controls",
      "model_module_version": "1.5.0",
      "model_name": "DescriptionStyleModel",
      "state": {
       "description_width": ""
      }
     },
     "9cf494bdda154d5280a972d701048408": {
      "model_module": "@jupyter-widgets/controls",
      "model_module_version": "1.5.0",
      "model_name": "IntProgressModel",
      "state": {
       "layout": "IPY_MODEL_cd0fb2245a314101a4fc9fe6b3151c45",
       "max": 20,
       "style": "IPY_MODEL_3f2e62bfc7d6468b984e0c62f64c7f1d"
      }
     },
     "9d507093328a49018483df507c4e2d06": {
      "model_module": "@jupyter-widgets/base",
      "model_module_version": "1.2.0",
      "model_name": "LayoutModel",
      "state": {
       "display": "flex",
       "width": "60px"
      }
     },
     "9d6933a269a14e54903cef25b8aed4f9": {
      "model_module": "@jupyter-widgets/base",
      "model_module_version": "1.2.0",
      "model_name": "LayoutModel",
      "state": {
       "display": "none"
      }
     },
     "9d7e5cdb66d447dda3b568162f39a423": {
      "model_module": "@jupyter-widgets/controls",
      "model_module_version": "1.5.0",
      "model_name": "LabelModel",
      "state": {
       "layout": "IPY_MODEL_65e72b1ebff549f3965d558441b756a4",
       "style": "IPY_MODEL_18947da0fee94a87be7db0af975b3375",
       "value": "   objective"
      }
     },
     "9dba2ef377d745ceb86cc1cbb5633478": {
      "model_module": "@jupyter-widgets/controls",
      "model_module_version": "1.5.0",
      "model_name": "ButtonModel",
      "state": {
       "layout": "IPY_MODEL_1c4355e8d8ea462f90e5f0b6fb4f78eb",
       "style": "IPY_MODEL_e6bd625a26164069ada5d0ef8ce406ed"
      }
     },
     "9dd527a3b9614f6d83fa685aa0708ceb": {
      "model_module": "@jupyter-widgets/controls",
      "model_module_version": "1.5.0",
      "model_name": "HBoxModel",
      "state": {
       "children": [
        "IPY_MODEL_b0873d06e81b4e9ca476a11cf8ba74b2",
        "IPY_MODEL_4bcd390ae55345c6bef3f05f26f8bb79",
        "IPY_MODEL_126a1fdf99b54368b42f120b0e701f92",
        "IPY_MODEL_f90f983a475e4f1c9c926913d4d3307d"
       ],
       "layout": "IPY_MODEL_16168482cae54ee987864b9cdf90d1f7"
      }
     },
     "9e088475359248a59f0d79f018f5a326": {
      "model_module": "@jupyter-widgets/base",
      "model_module_version": "1.2.0",
      "model_name": "LayoutModel",
      "state": {
       "height": "32px",
       "order": "-2",
       "width": "32px"
      }
     },
     "9e28e219b1b74ecb8e0b7dbf679c0fb3": {
      "model_module": "@jupyter-widgets/base",
      "model_module_version": "1.2.0",
      "model_name": "LayoutModel",
      "state": {
       "height": "32px",
       "overflow": "visible",
       "width": "100%"
      }
     },
     "9e2a34c7bfc9456d97291ebf41dd6c07": {
      "model_module": "@jupyter-widgets/controls",
      "model_module_version": "1.5.0",
      "model_name": "HBoxModel",
      "state": {
       "children": [
        "IPY_MODEL_f1a39093d0ae4c1780eec362eb295252",
        "IPY_MODEL_0d7c3cfe19e843fda93c559dddf76e10",
        "IPY_MODEL_59f26e765b834df383d6aa668c96c2d0",
        "IPY_MODEL_6444623a71484e4d978bf0a7868faf79"
       ],
       "layout": "IPY_MODEL_1585fdb7fb784adc8653660b182bf742"
      }
     },
     "9e6e4d1547e946c6bcaa9786f53faba5": {
      "model_module": "@jupyter-widgets/controls",
      "model_module_version": "1.5.0",
      "model_name": "ButtonModel",
      "state": {
       "description": "EDIT",
       "layout": "IPY_MODEL_a45c550e652e48fd81cde4b669d755db",
       "style": "IPY_MODEL_42ce40c6cf974eee99b7fa31e2825fcb"
      }
     },
     "9e7a6b73f568445b8e253c0d7384d7cc": {
      "model_module": "@jupyter-widgets/controls",
      "model_module_version": "1.5.0",
      "model_name": "DescriptionStyleModel",
      "state": {
       "description_width": ""
      }
     },
     "9e7c4a8be4cb455dbe545361fde3fe1f": {
      "model_module": "@jupyter-widgets/controls",
      "model_module_version": "1.5.0",
      "model_name": "DropdownModel",
      "state": {
       "_options_labels": [
        "Any"
       ],
       "index": 0,
       "layout": "IPY_MODEL_7de46c5a10344d3c9922541b9839e37d",
       "style": "IPY_MODEL_ba6ea351e3174cbc9d27620bd94e8b25"
      }
     },
     "9ecb71ad9b484c099d040c6dd80063ee": {
      "model_module": "@jupyter-widgets/base",
      "model_module_version": "1.2.0",
      "model_name": "LayoutModel",
      "state": {
       "height": "32px",
       "order": "-2",
       "width": "32px"
      }
     },
     "9ed8212b725a4a12b57341399adf61b2": {
      "model_module": "@jupyter-widgets/base",
      "model_module_version": "1.2.0",
      "model_name": "LayoutModel",
      "state": {
       "height": "32px",
       "overflow": "visible",
       "width": "100%"
      }
     },
     "9ef1291594a7410f83c939a1fd448df2": {
      "model_module": "@jupyter-widgets/base",
      "model_module_version": "1.2.0",
      "model_name": "LayoutModel",
      "state": {
       "height": "32px",
       "order": "-2",
       "width": "32px"
      }
     },
     "9f53955e2d52431babcfe3e7377a0e76": {
      "model_module": "@jupyter-widgets/base",
      "model_module_version": "1.2.0",
      "model_name": "LayoutModel",
      "state": {
       "display": "flex",
       "width": "60px"
      }
     },
     "9f5cbf3011674a61ba9394b554546a78": {
      "model_module": "@jupyter-widgets/controls",
      "model_module_version": "1.5.0",
      "model_name": "ButtonStyleModel",
      "state": {}
     },
     "9f98a65adb2a4acc8aa68d0054ca50bd": {
      "model_module": "@jupyter-widgets/controls",
      "model_module_version": "1.5.0",
      "model_name": "IntProgressModel",
      "state": {
       "layout": "IPY_MODEL_321e2ddaa61f494d9387c482c9b1d636",
       "style": "IPY_MODEL_1032c4314f7549a4a855f2f602027245",
       "value": 30
      }
     },
     "9fac99bb2e2f4a70a365978c94d96c38": {
      "model_module": "@jupyter-widgets/controls",
      "model_module_version": "1.5.0",
      "model_name": "ButtonStyleModel",
      "state": {}
     },
     "9fb1c5d463a34862ad6ca691a8f27d24": {
      "model_module": "@jupyter-widgets/controls",
      "model_module_version": "1.5.0",
      "model_name": "HTMLModel",
      "state": {
       "layout": "IPY_MODEL_b17246e48ed5444a8f72e4fa8416570a",
       "style": "IPY_MODEL_298e53125c694124b2e0889eae2373f5",
       "value": "<font size=\"5\"><b>Budding Fashion</b></font size=>"
      }
     },
     "9fb9c658a0494750bf02ed65bad60052": {
      "model_module": "@jupyter-widgets/controls",
      "model_module_version": "1.5.0",
      "model_name": "ButtonStyleModel",
      "state": {}
     },
     "9fbe05e9a70b4473962d417e1188392c": {
      "model_module": "@jupyter-widgets/controls",
      "model_module_version": "1.5.0",
      "model_name": "DescriptionStyleModel",
      "state": {
       "description_width": ""
      }
     },
     "9fd204594fdd46718c02f5aba95930eb": {
      "model_module": "@jupyter-widgets/controls",
      "model_module_version": "1.5.0",
      "model_name": "ButtonModel",
      "state": {
       "layout": "IPY_MODEL_dd376273314248a1a9d0ba261928e1b9",
       "style": "IPY_MODEL_912291e021834f6c81e8c39d780ae1ac"
      }
     },
     "a032d32e469847dda44b51f49d419c60": {
      "model_module": "@jupyter-widgets/controls",
      "model_module_version": "1.5.0",
      "model_name": "IntProgressModel",
      "state": {
       "layout": "IPY_MODEL_3b414a60e0084cb89367eb4165cca1dd",
       "max": 10,
       "style": "IPY_MODEL_0188de5a4438467cb20875ca582c96ce",
       "value": 7
      }
     },
     "a049f7d223cc430287a2895af8b3311a": {
      "model_module": "@jupyter-widgets/controls",
      "model_module_version": "1.5.0",
      "model_name": "HTMLModel",
      "state": {
       "layout": "IPY_MODEL_ed7589acdd344758a08c8ed5df3c89d5",
       "style": "IPY_MODEL_96721436a2cb4ce9b81770e72971acf3",
       "value": "<font size=\"5\"><b>The Witch</b></font size=>"
      }
     },
     "a06d3764866244d19c34678025520467": {
      "model_module": "@jupyter-widgets/controls",
      "model_module_version": "1.5.0",
      "model_name": "ButtonStyleModel",
      "state": {}
     },
     "a06e758bcbb9422a926eb1b0308448e2": {
      "model_module": "@jupyter-widgets/controls",
      "model_module_version": "1.5.0",
      "model_name": "IntProgressModel",
      "state": {
       "layout": "IPY_MODEL_365526a2082c4485b8f2d52b05ed0464",
       "max": 1000,
       "style": "IPY_MODEL_5df4f1ca80594ebe8e88c775f078bc19",
       "value": 391
      }
     },
     "a085bc0303bc493ca15d69b05a343a98": {
      "model_module": "@jupyter-widgets/base",
      "model_module_version": "1.2.0",
      "model_name": "LayoutModel",
      "state": {
       "display": "none"
      }
     },
     "a09fc513eb434aed9a9dc2a825c50507": {
      "model_module": "@jupyter-widgets/base",
      "model_module_version": "1.2.0",
      "model_name": "LayoutModel",
      "state": {
       "height": "32px",
       "order": "-2",
       "width": "32px"
      }
     },
     "a118a1133fd84877802f68c77504dc35": {
      "model_module": "@jupyter-widgets/base",
      "model_module_version": "1.2.0",
      "model_name": "LayoutModel",
      "state": {
       "height": "32px",
       "overflow": "visible",
       "width": "100%"
      }
     },
     "a146bc4ae6b649bc8951250bc6fc7b32": {
      "model_module": "@jupyter-widgets/controls",
      "model_module_version": "1.5.0",
      "model_name": "IntProgressModel",
      "state": {
       "bar_style": "success",
       "layout": "IPY_MODEL_246b8974e2c64e9988871b2fd3334c52",
       "max": 15,
       "style": "IPY_MODEL_858961f3612648ac8efb244731cf6c7b",
       "value": 15
      }
     },
     "a14fab143e454761a00c151a546d2e6b": {
      "model_module": "@jupyter-widgets/controls",
      "model_module_version": "1.5.0",
      "model_name": "VBoxModel",
      "state": {
       "children": [
        "IPY_MODEL_0ee60b0005a3432390bdfe55026adf95",
        "IPY_MODEL_af2d1b2f2df24aaf88f7e2e1310125b9",
        "IPY_MODEL_894291bac098426c8dbed20ea861a6db",
        "IPY_MODEL_1bfd84baaf6d4b01acc12075b2dc553d"
       ],
       "layout": "IPY_MODEL_e5f6b04b5cbf4466870b65f5381eb0ef"
      }
     },
     "a18df36a49024985aa1555cc192009e5": {
      "model_module": "@jupyter-widgets/controls",
      "model_module_version": "1.5.0",
      "model_name": "IntProgressModel",
      "state": {
       "layout": "IPY_MODEL_393b7410b7de4a278bd921d265c237d4",
       "max": 250,
       "style": "IPY_MODEL_2f9b852440f349da9b80a4e6cd46fa3f",
       "value": 172
      }
     },
     "a18f1132beae4f9cbe9ad8454aa317a5": {
      "model_module": "@jupyter-widgets/base",
      "model_module_version": "1.2.0",
      "model_name": "LayoutModel",
      "state": {
       "display": "flex",
       "width": "60px"
      }
     },
     "a223f19d7ca441328ea127f1ada9de02": {
      "model_module": "@jupyter-widgets/controls",
      "model_module_version": "1.5.0",
      "model_name": "ButtonModel",
      "state": {
       "layout": "IPY_MODEL_9bd492453ef5416abccc2c0650871387",
       "style": "IPY_MODEL_d6691a8bec5540dcb0889bd7b095b14c"
      }
     },
     "a23593245dd34353939bd677e0e2f2b0": {
      "model_module": "@jupyter-widgets/controls",
      "model_module_version": "1.5.0",
      "model_name": "ButtonStyleModel",
      "state": {}
     },
     "a24837d6062b44d7a7bcf13445274e08": {
      "model_module": "@jupyter-widgets/controls",
      "model_module_version": "1.5.0",
      "model_name": "ProgressStyleModel",
      "state": {
       "description_width": ""
      }
     },
     "a284d7cca89e468aac9d9997923dc46d": {
      "model_module": "@jupyter-widgets/controls",
      "model_module_version": "1.5.0",
      "model_name": "HTMLModel",
      "state": {
       "layout": "IPY_MODEL_19650036134f4793aa718ba373d0abb9",
       "style": "IPY_MODEL_c3d3ef278bdd447a8e90b880c02f18ea",
       "value": "<font size=\"5\"><b>A Desperate Ploy</b></font size=>"
      }
     },
     "a298d9b4876b4106bd27c4de39585ab5": {
      "model_module": "@jupyter-widgets/controls",
      "model_module_version": "1.5.0",
      "model_name": "HBoxModel",
      "state": {
       "children": [
        "IPY_MODEL_e1c642868a76432da6f02aee4f64d0ed",
        "IPY_MODEL_a06e758bcbb9422a926eb1b0308448e2",
        "IPY_MODEL_e0c77a082cd84d289daf4375ed38b519",
        "IPY_MODEL_f983bfbdecc943b6a95beb36e16e2eee"
       ],
       "layout": "IPY_MODEL_770925af38ca482eaf18541302f22ef0"
      }
     },
     "a29fa721ed324e83ac814d8e17bf6e1f": {
      "model_module": "@jupyter-widgets/controls",
      "model_module_version": "1.5.0",
      "model_name": "DescriptionStyleModel",
      "state": {
       "description_width": ""
      }
     },
     "a2b019351491462a805278e5940e78b2": {
      "model_module": "@jupyter-widgets/controls",
      "model_module_version": "1.5.0",
      "model_name": "ButtonStyleModel",
      "state": {}
     },
     "a2ceece8011e4d01b5a9ff0191f14100": {
      "model_module": "@jupyter-widgets/controls",
      "model_module_version": "1.5.0",
      "model_name": "ButtonStyleModel",
      "state": {}
     },
     "a346c17a15344572af8b07ceb826409d": {
      "model_module": "@jupyter-widgets/controls",
      "model_module_version": "1.5.0",
      "model_name": "ButtonModel",
      "state": {
       "description": "EDIT",
       "layout": "IPY_MODEL_e5939f76172540da9f957b11886074ca",
       "style": "IPY_MODEL_61fd40648d8f4d1f81340bf7a4533248"
      }
     },
     "a3a7420d8a4241b0931b970ac115c2c7": {
      "model_module": "@jupyter-widgets/controls",
      "model_module_version": "1.5.0",
      "model_name": "DescriptionStyleModel",
      "state": {
       "description_width": ""
      }
     },
     "a3fec3efd61f419588bdf12e29a31b6b": {
      "model_module": "@jupyter-widgets/controls",
      "model_module_version": "1.5.0",
      "model_name": "ButtonModel",
      "state": {
       "button_style": "success",
       "disabled": true,
       "layout": "IPY_MODEL_69a88bfd0d8f4adba3adbddc3bfe63d5",
       "style": "IPY_MODEL_4e85aedd4cd44c24873b7b00057909b8"
      }
     },
     "a4284b3677994a5db897477fe86195f9": {
      "model_module": "@jupyter-widgets/controls",
      "model_module_version": "1.5.0",
      "model_name": "ButtonModel",
      "state": {
       "layout": "IPY_MODEL_aeb489afa9b9434eb2b0ac4edd85fce1",
       "style": "IPY_MODEL_dfdc766bc3dc47a585cbd6037c203464"
      }
     },
     "a42acbbeb9ed4fdba5c7cfa61caa7d25": {
      "model_module": "@jupyter-widgets/controls",
      "model_module_version": "1.5.0",
      "model_name": "ButtonStyleModel",
      "state": {}
     },
     "a43d24d28f9f451f98fa78a5a3aa319a": {
      "model_module": "@jupyter-widgets/base",
      "model_module_version": "1.2.0",
      "model_name": "LayoutModel",
      "state": {
       "order": "-1",
       "overflow": "visible",
       "padding": "1px",
       "width": "0px"
      }
     },
     "a45c550e652e48fd81cde4b669d755db": {
      "model_module": "@jupyter-widgets/base",
      "model_module_version": "1.2.0",
      "model_name": "LayoutModel",
      "state": {
       "display": "flex",
       "width": "60px"
      }
     },
     "a47d4c5da8cb470daa09427288650983": {
      "model_module": "@jupyter-widgets/base",
      "model_module_version": "1.2.0",
      "model_name": "LayoutModel",
      "state": {
       "height": "32px",
       "order": "-2",
       "width": "32px"
      }
     },
     "a4a04569fa694710942d1375fec5dc1e": {
      "model_module": "@jupyter-widgets/controls",
      "model_module_version": "1.5.0",
      "model_name": "ButtonStyleModel",
      "state": {}
     },
     "a4bfa7d416cb43f29d3f9470b79ecb91": {
      "model_module": "@jupyter-widgets/controls",
      "model_module_version": "1.5.0",
      "model_name": "LabelModel",
      "state": {
       "layout": "IPY_MODEL_1060f33da52c40ddb68d04044fdb5c59",
       "style": "IPY_MODEL_1da297ee9e334449b2a1849691f04242",
       "value": "    Breakers deployed (19/25)"
      }
     },
     "a4dc5dc969e24f66984b846ee90a0553": {
      "model_module": "@jupyter-widgets/controls",
      "model_module_version": "1.5.0",
      "model_name": "ButtonStyleModel",
      "state": {}
     },
     "a4f9f0095a4a45b08e2ac296bf0447a2": {
      "model_module": "@jupyter-widgets/controls",
      "model_module_version": "1.5.0",
      "model_name": "ButtonModel",
      "state": {
       "layout": "IPY_MODEL_d4b8af9d9e354047a759e799c4097983",
       "style": "IPY_MODEL_450e22263cde40cea8e0510d36bb598b"
      }
     },
     "a4fe0ff043614d3fa71754bb0ccfcb96": {
      "model_module": "@jupyter-widgets/base",
      "model_module_version": "1.2.0",
      "model_name": "LayoutModel",
      "state": {
       "display": "none"
      }
     },
     "a51e78e46fb04bcf86e151fd8002f0bf": {
      "model_module": "@jupyter-widgets/controls",
      "model_module_version": "1.5.0",
      "model_name": "ButtonModel",
      "state": {
       "description": "EDIT",
       "layout": "IPY_MODEL_fcb073d86709416fa512535c6172ceb4",
       "style": "IPY_MODEL_c252ade7e1c449768c25e9b8a035e3c6"
      }
     },
     "a52096d261a94df9aaa7f38a846f02a9": {
      "model_module": "@jupyter-widgets/controls",
      "model_module_version": "1.5.0",
      "model_name": "ButtonModel",
      "state": {
       "description": "EDIT",
       "layout": "IPY_MODEL_ef5c80700b8f4b90bbc79c41f74392f6",
       "style": "IPY_MODEL_a23593245dd34353939bd677e0e2f2b0"
      }
     },
     "a55815d1b0104b1d9b76516d7e81d98e": {
      "model_module": "@jupyter-widgets/controls",
      "model_module_version": "1.5.0",
      "model_name": "LabelModel",
      "state": {
       "layout": "IPY_MODEL_875b544eb95848ed928bb9a7fb68f92e",
       "style": "IPY_MODEL_4b25948a4c1a4f1fb328ce4475be8bd8",
       "value": "    Orbs generated (172/250)"
      }
     },
     "a57bd9532acb484a93d8c46af1217d10": {
      "model_module": "@jupyter-widgets/controls",
      "model_module_version": "1.5.0",
      "model_name": "DescriptionStyleModel",
      "state": {
       "description_width": ""
      }
     },
     "a586fa53bca74cf1b12df7f11ef81b0d": {
      "model_module": "@jupyter-widgets/controls",
      "model_module_version": "1.5.0",
      "model_name": "ButtonStyleModel",
      "state": {}
     },
     "a58abaa26d5f4562ba6258d6a9baab27": {
      "model_module": "@jupyter-widgets/base",
      "model_module_version": "1.2.0",
      "model_name": "LayoutModel",
      "state": {
       "display": "flex",
       "width": "60px"
      }
     },
     "a5d0d697988d4af1b39262de559301ae": {
      "model_module": "@jupyter-widgets/controls",
      "model_module_version": "1.5.0",
      "model_name": "ButtonStyleModel",
      "state": {}
     },
     "a5fcb2dc9298466fa8eda4e2ef8df4b8": {
      "model_module": "@jupyter-widgets/base",
      "model_module_version": "1.2.0",
      "model_name": "LayoutModel",
      "state": {
       "display": "flex",
       "flex_flow": "row wrap"
      }
     },
     "a621e1a1ca444b42b0349b21862a1efd": {
      "model_module": "@jupyter-widgets/controls",
      "model_module_version": "1.5.0",
      "model_name": "ProgressStyleModel",
      "state": {
       "description_width": ""
      }
     },
     "a6395cb6545d4a2f8e164ddfb3b6d08b": {
      "model_module": "@jupyter-widgets/base",
      "model_module_version": "1.2.0",
      "model_name": "LayoutModel",
      "state": {
       "order": "-1",
       "overflow": "visible",
       "padding": "1px",
       "width": "0px"
      }
     },
     "a6473711a1224139a4c9661c7b7362bb": {
      "model_module": "@jupyter-widgets/controls",
      "model_module_version": "1.5.0",
      "model_name": "ProgressStyleModel",
      "state": {
       "description_width": ""
      }
     },
     "a64f218da7fd4341b1d78df547a1e986": {
      "model_module": "@jupyter-widgets/controls",
      "model_module_version": "1.5.0",
      "model_name": "IntProgressModel",
      "state": {
       "bar_style": "danger",
       "layout": "IPY_MODEL_1b12ddfa1d4343a08f7a3f8a4dc40ab0",
       "max": 1,
       "style": "IPY_MODEL_fd2d4bff0faa447b87de70c932d0f548"
      }
     },
     "a6658d156c2245788a0b27cd450d7898": {
      "model_module": "@jupyter-widgets/controls",
      "model_module_version": "1.5.0",
      "model_name": "ButtonModel",
      "state": {
       "description": "EDIT",
       "layout": "IPY_MODEL_c3e44552a7484c2e8cd20b5ee30b05ff",
       "style": "IPY_MODEL_5e1d7c3ef0554e7e84bd578d9a66ae4d"
      }
     },
     "a69fa2095c57481e984e83226f8261fd": {
      "model_module": "@jupyter-widgets/controls",
      "model_module_version": "1.5.0",
      "model_name": "ProgressStyleModel",
      "state": {
       "description_width": ""
      }
     },
     "a70ef99646ea4d278654fa8d895f19f7": {
      "model_module": "@jupyter-widgets/base",
      "model_module_version": "1.2.0",
      "model_name": "LayoutModel",
      "state": {
       "overflow": "visible",
       "width": "100%"
      }
     },
     "a714980270f14d66b31bd8ab7e405d18": {
      "model_module": "@jupyter-widgets/controls",
      "model_module_version": "1.5.0",
      "model_name": "ButtonModel",
      "state": {
       "layout": "IPY_MODEL_30135b0f8b4f4d3bac6bc86448fef000",
       "style": "IPY_MODEL_e9ab2cc8a60a441d99805841a919a3e7"
      }
     },
     "a72ae939b78f4ba4bb57d82629df9c7d": {
      "model_module": "@jupyter-widgets/controls",
      "model_module_version": "1.5.0",
      "model_name": "ButtonStyleModel",
      "state": {}
     },
     "a72f825955ec447d8f5f324a344526d4": {
      "model_module": "@jupyter-widgets/base",
      "model_module_version": "1.2.0",
      "model_name": "LayoutModel",
      "state": {
       "overflow": "visible",
       "width": "100%"
      }
     },
     "a750b554e4d541e4b97b7c17d1f970a3": {
      "model_module": "@jupyter-widgets/base",
      "model_module_version": "1.2.0",
      "model_name": "LayoutModel",
      "state": {
       "order": "-1",
       "overflow": "visible",
       "padding": "1px",
       "width": "0px"
      }
     },
     "a75280c3f17c42d4b96bc8791f4d7e2c": {
      "model_module": "@jupyter-widgets/base",
      "model_module_version": "1.2.0",
      "model_name": "LayoutModel",
      "state": {}
     },
     "a75a3767eea24b1f9ac8f7f6fb3ec0f7": {
      "model_module": "@jupyter-widgets/base",
      "model_module_version": "1.2.0",
      "model_name": "LayoutModel",
      "state": {
       "height": "32px",
       "overflow": "visible",
       "width": "100%"
      }
     },
     "a75f55ba9a104cad9eb38b00b62ddf3e": {
      "model_module": "@jupyter-widgets/base",
      "model_module_version": "1.2.0",
      "model_name": "LayoutModel",
      "state": {
       "height": "32px",
       "overflow": "visible",
       "width": "100%"
      }
     },
     "a7e5327ea6e34bdc8e9227c4a1ca20ce": {
      "model_module": "@jupyter-widgets/controls",
      "model_module_version": "1.5.0",
      "model_name": "ButtonModel",
      "state": {
       "description": "EDIT",
       "layout": "IPY_MODEL_2da614c73fb04b08830aaa8ced250b37",
       "style": "IPY_MODEL_568ee86495de4496b4381283b0caf162"
      }
     },
     "a80f97a2136f40bf95a83845637fddbf": {
      "model_module": "@jupyter-widgets/controls",
      "model_module_version": "1.5.0",
      "model_name": "HTMLModel",
      "state": {
       "layout": "IPY_MODEL_976c12ffedc14d518f2160b025c4d09b",
       "style": "IPY_MODEL_04b3884c34134d7fafa7f4e269b03544",
       "value": "<font size=\"5\"><b>Reunited Siblings</b></font size=>"
      }
     },
     "a8444e633c0f434e88a6f6eaa89860ec": {
      "model_module": "@jupyter-widgets/controls",
      "model_module_version": "1.5.0",
      "model_name": "DropdownModel",
      "state": {
       "_options_labels": [
        "All"
       ],
       "index": 0,
       "layout": "IPY_MODEL_fd4503145cb34361b714f6ac84a47760",
       "style": "IPY_MODEL_8187a9be9c8b4a56854ae0769b5f3048"
      }
     },
     "a84976cc8bc04d6d9f806afc54a4aa8b": {
      "model_module": "@jupyter-widgets/controls",
      "model_module_version": "1.5.0",
      "model_name": "LabelModel",
      "state": {
       "layout": "IPY_MODEL_a43d24d28f9f451f98fa78a5a3aa319a",
       "style": "IPY_MODEL_9b6a660bb0784c77ab35a76c30aef866",
       "value": "    Riven of a Thousand Voices defeated (0/1)"
      }
     },
     "a84e5fdad3d54b0e8223322213be2406": {
      "model_module": "@jupyter-widgets/controls",
      "model_module_version": "1.5.0",
      "model_name": "ButtonStyleModel",
      "state": {}
     },
     "a8bbeaa9509e44b5833edeb5cd1eea12": {
      "model_module": "@jupyter-widgets/base",
      "model_module_version": "1.2.0",
      "model_name": "LayoutModel",
      "state": {
       "order": "-1",
       "overflow": "visible",
       "padding": "1px",
       "width": "0px"
      }
     },
     "a8d1a93eb7a54bfd920a2c776587aee2": {
      "model_module": "@jupyter-widgets/base",
      "model_module_version": "1.2.0",
      "model_name": "LayoutModel",
      "state": {
       "order": "-1",
       "overflow": "visible",
       "padding": "1px",
       "width": "0px"
      }
     },
     "a8dde52e31a748cea75d1cec313c6882": {
      "model_module": "@jupyter-widgets/controls",
      "model_module_version": "1.5.0",
      "model_name": "HBoxModel",
      "state": {
       "children": [
        "IPY_MODEL_0b10ec4c743c4d778d553ae8b8038a07",
        "IPY_MODEL_70a55cb9713f439bb97a8483b8e48430",
        "IPY_MODEL_3decd207537441e49869e6569d59ece9",
        "IPY_MODEL_b6ece414e1ff48ce8fc6d35ed774e8c8"
       ],
       "layout": "IPY_MODEL_50b7aa8f373c412292883b8cc1e3fd53"
      }
     },
     "a8f320329a8642ffae6276343f8166b5": {
      "model_module": "@jupyter-widgets/base",
      "model_module_version": "1.2.0",
      "model_name": "LayoutModel",
      "state": {
       "height": "32px",
       "overflow": "visible",
       "width": "100%"
      }
     },
     "a8f9f0ffa9b3414b8cc6887253b4bf8d": {
      "model_module": "@jupyter-widgets/base",
      "model_module_version": "1.2.0",
      "model_name": "LayoutModel",
      "state": {
       "order": "-1",
       "overflow": "visible",
       "padding": "1px",
       "width": "0px"
      }
     },
     "a9894dc04161423b8fd8c14ede9184d9": {
      "model_module": "@jupyter-widgets/controls",
      "model_module_version": "1.5.0",
      "model_name": "HTMLModel",
      "state": {
       "layout": "IPY_MODEL_734b565d0df24f2d9ae798d702ec6a5e",
       "style": "IPY_MODEL_9cedaea7e58544299c08aa5dff3b1d47",
       "value": "<i></i>"
      }
     },
     "a991143695274ca4b6bed5ba0bb70811": {
      "model_module": "@jupyter-widgets/controls",
      "model_module_version": "1.5.0",
      "model_name": "DescriptionStyleModel",
      "state": {
       "description_width": ""
      }
     },
     "aa0fbc72981c4d99b506c2f32fb644df": {
      "model_module": "@jupyter-widgets/base",
      "model_module_version": "1.2.0",
      "model_name": "LayoutModel",
      "state": {
       "order": "-1",
       "overflow": "visible",
       "padding": "1px",
       "width": "0px"
      }
     },
     "aa11f547b8a14cd8aa0986794797d641": {
      "model_module": "@jupyter-widgets/controls",
      "model_module_version": "1.5.0",
      "model_name": "DescriptionStyleModel",
      "state": {
       "description_width": ""
      }
     },
     "aa156da2f3cb41faab2934d917960862": {
      "model_module": "@jupyter-widgets/base",
      "model_module_version": "1.2.0",
      "model_name": "LayoutModel",
      "state": {
       "height": "32px",
       "overflow": "visible",
       "width": "100%"
      }
     },
     "aa407f3394c441f5be6f028ddb970f67": {
      "model_module": "@jupyter-widgets/controls",
      "model_module_version": "1.5.0",
      "model_name": "HBoxModel",
      "state": {
       "children": [
        "IPY_MODEL_1341aab512ad4ea08a5a40cb22b92b36",
        "IPY_MODEL_1e241570eefe43fd9413b91eeb2abe9a",
        "IPY_MODEL_6e80b5641cdb45c2b97ba90b2896da6e",
        "IPY_MODEL_3225d5b7f79b4e32b0673cea1a647ae9"
       ],
       "layout": "IPY_MODEL_e5bae12a9a5c4e159e41df30e77052e7"
      }
     },
     "aa4dad2a790041208458af87ccf4b96f": {
      "model_module": "@jupyter-widgets/controls",
      "model_module_version": "1.5.0",
      "model_name": "IntProgressModel",
      "state": {
       "layout": "IPY_MODEL_efd12d8ef6cd4bd490d17cbb91b6d552",
       "style": "IPY_MODEL_17e850d0920f4679bc3afe33933ce0f4",
       "value": 30
      }
     },
     "aa726fad9709453484f45c7ddcc7ef3c": {
      "model_module": "@jupyter-widgets/base",
      "model_module_version": "1.2.0",
      "model_name": "LayoutModel",
      "state": {
       "display": "flex",
       "width": "60px"
      }
     },
     "aa7974a49fea4248ba77752a10ecf088": {
      "model_module": "@jupyter-widgets/base",
      "model_module_version": "1.2.0",
      "model_name": "LayoutModel",
      "state": {
       "display": "flex"
      }
     },
     "aaa088921ddc4a6db62005521fb0467a": {
      "model_module": "@jupyter-widgets/controls",
      "model_module_version": "1.5.0",
      "model_name": "DescriptionStyleModel",
      "state": {
       "description_width": ""
      }
     },
     "aac9ae5a5eb64594896ec4e999c5fb33": {
      "model_module": "@jupyter-widgets/controls",
      "model_module_version": "1.5.0",
      "model_name": "ButtonModel",
      "state": {
       "description": "EDIT",
       "layout": "IPY_MODEL_f5e2e7807d814b24bef9f1f65be78679",
       "style": "IPY_MODEL_02a3f78fbc534d44ad6b319706941e84"
      }
     },
     "aad1db93ed75406ea1777790f38573d3": {
      "model_module": "@jupyter-widgets/controls",
      "model_module_version": "1.5.0",
      "model_name": "ButtonStyleModel",
      "state": {}
     },
     "aaf1db2968a04f5cb358f28acc66ee18": {
      "model_module": "@jupyter-widgets/controls",
      "model_module_version": "1.5.0",
      "model_name": "ButtonModel",
      "state": {
       "layout": "IPY_MODEL_0a62ce92e55c47518804c968d9fea1e0",
       "style": "IPY_MODEL_3a55f10785644229ad346a6a32f5754e"
      }
     },
     "aafe20314dee40a8897005e7f765a3d8": {
      "model_module": "@jupyter-widgets/controls",
      "model_module_version": "1.5.0",
      "model_name": "ButtonModel",
      "state": {
       "description": "EDIT",
       "layout": "IPY_MODEL_ff9a9138b27d40639f487b18687f089d",
       "style": "IPY_MODEL_3626b313129d402691f84811a168b2c2"
      }
     },
     "ab550bc4734b41189c175deadec679f6": {
      "model_module": "@jupyter-widgets/controls",
      "model_module_version": "1.5.0",
      "model_name": "ButtonStyleModel",
      "state": {}
     },
     "ab6bf93de7f14abaa91d74246e20256c": {
      "model_module": "@jupyter-widgets/base",
      "model_module_version": "1.2.0",
      "model_name": "LayoutModel",
      "state": {
       "height": "32px",
       "overflow": "visible",
       "width": "100%"
      }
     },
     "ab98095052b343468f62bf06fcc22275": {
      "model_module": "@jupyter-widgets/base",
      "model_module_version": "1.2.0",
      "model_name": "LayoutModel",
      "state": {
       "height": "32px",
       "order": "-2",
       "width": "32px"
      }
     },
     "abbc50da3e894f0da036579e3bf78a88": {
      "model_module": "@jupyter-widgets/controls",
      "model_module_version": "1.5.0",
      "model_name": "ProgressStyleModel",
      "state": {
       "description_width": ""
      }
     },
     "abf3396cdfb24ec08ba77fc7a89cd605": {
      "model_module": "@jupyter-widgets/controls",
      "model_module_version": "1.5.0",
      "model_name": "DescriptionStyleModel",
      "state": {
       "description_width": ""
      }
     },
     "ac18b70fd4d64b14b8daa0118093b8e6": {
      "model_module": "@jupyter-widgets/base",
      "model_module_version": "1.2.0",
      "model_name": "LayoutModel",
      "state": {
       "height": "32px",
       "order": "-2",
       "width": "32px"
      }
     },
     "ac4cc78e072745cd8cc33bc73c4d5a88": {
      "model_module": "@jupyter-widgets/base",
      "model_module_version": "1.2.0",
      "model_name": "LayoutModel",
      "state": {
       "display": "flex",
       "width": "60px"
      }
     },
     "ac4ce51caa114651b64c028cea724553": {
      "model_module": "@jupyter-widgets/controls",
      "model_module_version": "1.5.0",
      "model_name": "ButtonModel",
      "state": {
       "layout": "IPY_MODEL_bee4f13fe1944871968512b24089683e",
       "style": "IPY_MODEL_7c16899b4eea41d3b0d168c10825474d"
      }
     },
     "ac5a93dfc88340188caee11385a4c2a5": {
      "model_module": "@jupyter-widgets/base",
      "model_module_version": "1.2.0",
      "model_name": "LayoutModel",
      "state": {
       "height": "32px",
       "overflow": "visible",
       "width": "100%"
      }
     },
     "acc78fad25db44ad81720c43bcec6802": {
      "model_module": "@jupyter-widgets/controls",
      "model_module_version": "1.5.0",
      "model_name": "ButtonModel",
      "state": {
       "button_style": "success",
       "disabled": true,
       "layout": "IPY_MODEL_2c7513576e9c43a19625426b1bf43d64",
       "style": "IPY_MODEL_bf26092d6563443faba42f120bc683b0"
      }
     },
     "acd8e2baef8146bd8397b3d5f64038bb": {
      "model_module": "@jupyter-widgets/controls",
      "model_module_version": "1.5.0",
      "model_name": "ButtonModel",
      "state": {
       "description": "EDIT",
       "layout": "IPY_MODEL_4789b256fe534b3d91b1d3227ec7fb97",
       "style": "IPY_MODEL_9f5cbf3011674a61ba9394b554546a78"
      }
     },
     "ace1a3b1dfe44eb29cf7f4d4351ff1a5": {
      "model_module": "@jupyter-widgets/base",
      "model_module_version": "1.2.0",
      "model_name": "LayoutModel",
      "state": {
       "display": "flex",
       "width": "60px"
      }
     },
     "ad372e14799044ec9df6d6842c842bf9": {
      "model_module": "@jupyter-widgets/controls",
      "model_module_version": "1.5.0",
      "model_name": "DescriptionStyleModel",
      "state": {
       "description_width": ""
      }
     },
     "ad8806025b9b4f13b9b1ecc8a65d045f": {
      "model_module": "@jupyter-widgets/controls",
      "model_module_version": "1.5.0",
      "model_name": "ButtonStyleModel",
      "state": {}
     },
     "addc5dcd94f64294837581e03a10b7b1": {
      "model_module": "@jupyter-widgets/controls",
      "model_module_version": "1.5.0",
      "model_name": "ButtonModel",
      "state": {
       "button_style": "success",
       "disabled": true,
       "layout": "IPY_MODEL_e3b9dfa9399246139e10c61a98a92654",
       "style": "IPY_MODEL_b013e0ec2bdd44fd86ab4fc90609970a"
      }
     },
     "ae068b7b146a4c00bf5e96fc6513fc28": {
      "model_module": "@jupyter-widgets/controls",
      "model_module_version": "1.5.0",
      "model_name": "ProgressStyleModel",
      "state": {
       "description_width": ""
      }
     },
     "ae6bac367ae44bec9be4efc6d9c89ffe": {
      "model_module": "@jupyter-widgets/base",
      "model_module_version": "1.2.0",
      "model_name": "LayoutModel",
      "state": {
       "order": "-1",
       "overflow": "visible",
       "padding": "1px",
       "width": "0px"
      }
     },
     "ae724faf698648c485079bc5e8fc1f56": {
      "model_module": "@jupyter-widgets/controls",
      "model_module_version": "1.5.0",
      "model_name": "ButtonStyleModel",
      "state": {}
     },
     "ae7f639da2694516bd469a8599d75e12": {
      "model_module": "@jupyter-widgets/base",
      "model_module_version": "1.2.0",
      "model_name": "LayoutModel",
      "state": {
       "height": "32px",
       "overflow": "visible",
       "width": "100%"
      }
     },
     "ae888074a71a47d18ac009bd96db691f": {
      "model_module": "@jupyter-widgets/base",
      "model_module_version": "1.2.0",
      "model_name": "LayoutModel",
      "state": {
       "display": "flex"
      }
     },
     "aeb489afa9b9434eb2b0ac4edd85fce1": {
      "model_module": "@jupyter-widgets/base",
      "model_module_version": "1.2.0",
      "model_name": "LayoutModel",
      "state": {
       "height": "32px",
       "order": "-2",
       "width": "32px"
      }
     },
     "aedfa4df5d184e2eaa29796a7f367d3a": {
      "model_module": "@jupyter-widgets/base",
      "model_module_version": "1.2.0",
      "model_name": "LayoutModel",
      "state": {
       "order": "-1",
       "overflow": "visible",
       "padding": "1px",
       "width": "0px"
      }
     },
     "aeeccaa4f36541318432dea6112716cc": {
      "model_module": "@jupyter-widgets/controls",
      "model_module_version": "1.5.0",
      "model_name": "ProgressStyleModel",
      "state": {
       "description_width": ""
      }
     },
     "aef2d34cdb3b4b3f8aced615fe1fb7ca": {
      "model_module": "@jupyter-widgets/controls",
      "model_module_version": "1.5.0",
      "model_name": "IntProgressModel",
      "state": {
       "layout": "IPY_MODEL_bbb157cd8bee4496b6d613d33ed03b2c",
       "style": "IPY_MODEL_6200e343f1454e1b8e83f0f4e461ac78",
       "value": 30
      }
     },
     "af081feaf6d945779c1b53b5d702ce1d": {
      "model_module": "@jupyter-widgets/controls",
      "model_module_version": "1.5.0",
      "model_name": "ButtonModel",
      "state": {
       "description": "EDIT",
       "layout": "IPY_MODEL_18448a838ebf4b90bf84c38c87fe222b",
       "style": "IPY_MODEL_51b639787e514c59be9777b67134b608"
      }
     },
     "af2d1b2f2df24aaf88f7e2e1310125b9": {
      "model_module": "@jupyter-widgets/controls",
      "model_module_version": "1.5.0",
      "model_name": "HTMLModel",
      "state": {
       "layout": "IPY_MODEL_658fc628603a4f4c9b9381b440059803",
       "style": "IPY_MODEL_e91750f5006d43d0b571df07cff92763",
       "value": "<font size=\"5\"><b>Suspicions</b></font size=>"
      }
     },
     "af63a0b161f5487784a03bd803a4575e": {
      "model_module": "@jupyter-widgets/controls",
      "model_module_version": "1.5.0",
      "model_name": "ButtonStyleModel",
      "state": {}
     },
     "afb73b8f488b4483a91194d7c8908ac0": {
      "model_module": "@jupyter-widgets/controls",
      "model_module_version": "1.5.0",
      "model_name": "DescriptionStyleModel",
      "state": {
       "description_width": ""
      }
     },
     "afc5acc9030240d5b2b4a3aa25ad42a6": {
      "model_module": "@jupyter-widgets/controls",
      "model_module_version": "1.5.0",
      "model_name": "DescriptionStyleModel",
      "state": {
       "description_width": ""
      }
     },
     "afd5eff6a6204187ba54b1a0e2498030": {
      "model_module": "@jupyter-widgets/controls",
      "model_module_version": "1.5.0",
      "model_name": "ButtonModel",
      "state": {
       "description": "EDIT",
       "layout": "IPY_MODEL_75c14c9027334b188ad202193643181d",
       "style": "IPY_MODEL_6caf9f4b4f7045b6bc186391df314f0a"
      }
     },
     "afdf43ccc40b4607b7f177d15249709f": {
      "model_module": "@jupyter-widgets/controls",
      "model_module_version": "1.5.0",
      "model_name": "ButtonModel",
      "state": {
       "layout": "IPY_MODEL_786aa9bbe6594124b1535ccb2d14df68",
       "style": "IPY_MODEL_7bc860ab63074e72841442f3a0d7fb6e"
      }
     },
     "afeed14b14ba4adc8596b4d221e521ae": {
      "model_module": "@jupyter-widgets/base",
      "model_module_version": "1.2.0",
      "model_name": "LayoutModel",
      "state": {
       "display": "flex",
       "width": "60px"
      }
     },
     "b013e0ec2bdd44fd86ab4fc90609970a": {
      "model_module": "@jupyter-widgets/controls",
      "model_module_version": "1.5.0",
      "model_name": "ButtonStyleModel",
      "state": {}
     },
     "b02f585a58d546f4be78eda5eaa91ec9": {
      "model_module": "@jupyter-widgets/controls",
      "model_module_version": "1.5.0",
      "model_name": "ButtonModel",
      "state": {
       "button_style": "success",
       "disabled": true,
       "layout": "IPY_MODEL_734580f577ca445490b90e6531717006",
       "style": "IPY_MODEL_2c923a598b49457186565bbe0125f4c9"
      }
     },
     "b03793c417864d38b1c2f65f3d0f5dda": {
      "model_module": "@jupyter-widgets/base",
      "model_module_version": "1.2.0",
      "model_name": "LayoutModel",
      "state": {
       "display": "none"
      }
     },
     "b065a82712854e7884f788b7c9537cb8": {
      "model_module": "@jupyter-widgets/base",
      "model_module_version": "1.2.0",
      "model_name": "LayoutModel",
      "state": {
       "order": "-1",
       "overflow": "visible",
       "padding": "1px",
       "width": "0px"
      }
     },
     "b0873d06e81b4e9ca476a11cf8ba74b2": {
      "model_module": "@jupyter-widgets/controls",
      "model_module_version": "1.5.0",
      "model_name": "ButtonModel",
      "state": {
       "layout": "IPY_MODEL_da5d925bfe9147c4aff48cc96b288869",
       "style": "IPY_MODEL_9c5842ee502a4d36ab5ca4d5b5e1ea61"
      }
     },
     "b08c5983448243f7b7972e90ef89a4b3": {
      "model_module": "@jupyter-widgets/base",
      "model_module_version": "1.2.0",
      "model_name": "LayoutModel",
      "state": {
       "overflow": "visible",
       "width": "100%"
      }
     },
     "b0ec1c535b2c46af84c01ea88d728906": {
      "model_module": "@jupyter-widgets/controls",
      "model_module_version": "1.5.0",
      "model_name": "ButtonStyleModel",
      "state": {}
     },
     "b10ba6f99ec94e4382b6dd12a8ab614e": {
      "model_module": "@jupyter-widgets/base",
      "model_module_version": "1.2.0",
      "model_name": "LayoutModel",
      "state": {
       "display": "flex",
       "width": "60px"
      }
     },
     "b113531f40d54d84a63ff4e8a0afe206": {
      "model_module": "@jupyter-widgets/controls",
      "model_module_version": "1.5.0",
      "model_name": "ProgressStyleModel",
      "state": {
       "description_width": ""
      }
     },
     "b14c05025db44b37bfe6da3d1a381938": {
      "model_module": "@jupyter-widgets/controls",
      "model_module_version": "1.5.0",
      "model_name": "VBoxModel",
      "state": {
       "children": [
        "IPY_MODEL_b45906be7bc643e8b3263a65d1fbbf47",
        "IPY_MODEL_94983f07f6e4427684501ca84f5b979a",
        "IPY_MODEL_debee0c09b3b40cbad6440fd8e88ba6b"
       ],
       "layout": "IPY_MODEL_d60c5585424046ca890de0dfd09c0e10"
      }
     },
     "b1617d83b4744a0296e29a9e9345aa9f": {
      "model_module": "@jupyter-widgets/base",
      "model_module_version": "1.2.0",
      "model_name": "LayoutModel",
      "state": {
       "display": "flex",
       "flex_flow": "row wrap"
      }
     },
     "b16ddf86914243beb23f263a59715b75": {
      "model_module": "@jupyter-widgets/controls",
      "model_module_version": "1.5.0",
      "model_name": "VBoxModel",
      "state": {
       "children": [
        "IPY_MODEL_13f9efb1356f44bf8de4cb0fbddbc333",
        "IPY_MODEL_b80d177f5f5546cb9e7a3604a3fc3cf1",
        "IPY_MODEL_0768187431bb407d93b17f1eee122592",
        "IPY_MODEL_4c2cd23310b6423387b72e986f005438"
       ],
       "layout": "IPY_MODEL_e7c2ab1d0722468f96f3e2b6b207dbf8"
      }
     },
     "b17246e48ed5444a8f72e4fa8416570a": {
      "model_module": "@jupyter-widgets/base",
      "model_module_version": "1.2.0",
      "model_name": "LayoutModel",
      "state": {
       "overflow": "visible",
       "width": "100%"
      }
     },
     "b18169d3055e482abb22a7eb1a5053b5": {
      "model_module": "@jupyter-widgets/controls",
      "model_module_version": "1.5.0",
      "model_name": "IntProgressModel",
      "state": {
       "bar_style": "success",
       "layout": "IPY_MODEL_0c4840ba8632487996e765f1669db8a2",
       "max": 25,
       "style": "IPY_MODEL_d439a7bf1c284fae81d0329f73e2e082",
       "value": 25
      }
     },
     "b1f20f4b49e645b5aa2757c99144034a": {
      "model_module": "@jupyter-widgets/controls",
      "model_module_version": "1.5.0",
      "model_name": "DescriptionStyleModel",
      "state": {
       "description_width": ""
      }
     },
     "b1fa5e5456234e16954257b37bc59b90": {
      "model_module": "@jupyter-widgets/controls",
      "model_module_version": "1.5.0",
      "model_name": "ProgressStyleModel",
      "state": {
       "description_width": ""
      }
     },
     "b208b5bbfd2648a2ba56b2c3db5229ce": {
      "model_module": "@jupyter-widgets/controls",
      "model_module_version": "1.5.0",
      "model_name": "ButtonStyleModel",
      "state": {}
     },
     "b2321c8f6c68421bbf6e482a20e00a3b": {
      "model_module": "@jupyter-widgets/base",
      "model_module_version": "1.2.0",
      "model_name": "LayoutModel",
      "state": {
       "display": "flex",
       "width": "60px"
      }
     },
     "b28ae131172c4a1f86251747b0a9817e": {
      "model_module": "@jupyter-widgets/controls",
      "model_module_version": "1.5.0",
      "model_name": "HTMLModel",
      "state": {
       "layout": "IPY_MODEL_949a4aafb1044dc59309a3028b366a6f",
       "style": "IPY_MODEL_9766c3d742f0481893ed4f7078b60c8b",
       "value": "<font size=\"1\">Triumphs/Lore/Dusk and Dawn/Revelation/The Expedition</font size=>"
      }
     },
     "b30eeffb90824331bd608fff3dc97b62": {
      "model_module": "@jupyter-widgets/controls",
      "model_module_version": "1.5.0",
      "model_name": "ButtonModel",
      "state": {
       "button_style": "info",
       "layout": "IPY_MODEL_7b972eadcbbd4ecdb94a5bf6dde20c83",
       "style": "IPY_MODEL_6161c19179464472b10553fb7cd9ee84"
      }
     },
     "b378d4d192254f51b5b112bd54aebf94": {
      "model_module": "@jupyter-widgets/controls",
      "model_module_version": "1.5.0",
      "model_name": "ButtonModel",
      "state": {
       "layout": "IPY_MODEL_b9f6aaffa2134d5da559f615de6ef9a7",
       "style": "IPY_MODEL_fcf698a47fa14d6e9ee6e05752e711fa"
      }
     },
     "b3a60b452d0f4e9b8653074282547158": {
      "model_module": "@jupyter-widgets/controls",
      "model_module_version": "1.5.0",
      "model_name": "ButtonModel",
      "state": {
       "description": "EDIT",
       "layout": "IPY_MODEL_2b65a23f2ac44616bd7f5e0cf524ce29",
       "style": "IPY_MODEL_57a38507fac34483a76ffa5c8005e5cb"
      }
     },
     "b3ab5af71dc04825945d594b66f9f2b0": {
      "model_module": "@jupyter-widgets/base",
      "model_module_version": "1.2.0",
      "model_name": "LayoutModel",
      "state": {
       "height": "32px",
       "overflow": "visible",
       "width": "100%"
      }
     },
     "b3b18a3faea1486586cf769e5323f8dd": {
      "model_module": "@jupyter-widgets/controls",
      "model_module_version": "1.5.0",
      "model_name": "LabelModel",
      "state": {
       "layout": "IPY_MODEL_468896b4c312496b9c27e37750e0d255",
       "style": "IPY_MODEL_59542fd965d34ba59c50c7ed28aa375e",
       "value": "   objective"
      }
     },
     "b3b6cc1785564a73b96ef6334a84fa22": {
      "model_module": "@jupyter-widgets/base",
      "model_module_version": "1.2.0",
      "model_name": "LayoutModel",
      "state": {
       "order": "-1",
       "overflow": "visible",
       "padding": "1px",
       "width": "0px"
      }
     },
     "b3c9eea090e547bb9483fb718c652490": {
      "model_module": "@jupyter-widgets/controls",
      "model_module_version": "1.5.0",
      "model_name": "LabelModel",
      "state": {
       "layout": "IPY_MODEL_043ca5b92ce34a35a1dbda0ca62eafb0",
       "style": "IPY_MODEL_161ad8a53d9c47569af4b7cbae72779b",
       "value": "     (0/1)"
      }
     },
     "b3d4b82fef5a4ae5930425a62e3a1082": {
      "model_module": "@jupyter-widgets/controls",
      "model_module_version": "1.5.0",
      "model_name": "ButtonStyleModel",
      "state": {}
     },
     "b40a8067e4fc488698552df3ada9f71f": {
      "model_module": "@jupyter-widgets/controls",
      "model_module_version": "1.5.0",
      "model_name": "ButtonStyleModel",
      "state": {}
     },
     "b45591a4b30340fda9c64f7f555c1766": {
      "model_module": "@jupyter-widgets/controls",
      "model_module_version": "1.5.0",
      "model_name": "DescriptionStyleModel",
      "state": {
       "description_width": ""
      }
     },
     "b45906be7bc643e8b3263a65d1fbbf47": {
      "model_module": "@jupyter-widgets/controls",
      "model_module_version": "1.5.0",
      "model_name": "HTMLModel",
      "state": {
       "layout": "IPY_MODEL_e383870754c44e4e897fecd40af0e29a",
       "style": "IPY_MODEL_19fcc39a00d34a46908df75f6ea8cb2e",
       "value": "Showing Tasks 1-15 of 945"
      }
     },
     "b466073f2c5c4e349a64eb9f362cf040": {
      "model_module": "@jupyter-widgets/controls",
      "model_module_version": "1.5.0",
      "model_name": "HTMLModel",
      "state": {
       "layout": "IPY_MODEL_64e5b0efef294bc395b9cef4b4529617",
       "style": "IPY_MODEL_fb576a3e32e94e1787650923ec86c8ad",
       "value": "<font size=\"5\"><b>Season 6: Valor</b></font size=>"
      }
     },
     "b474dc03dcbb456c9cede0d7a1c49eff": {
      "model_module": "@jupyter-widgets/controls",
      "model_module_version": "1.5.0",
      "model_name": "LabelModel",
      "state": {
       "layout": "IPY_MODEL_a75280c3f17c42d4b96bc8791f4d7e2c",
       "style": "IPY_MODEL_73cf582cedc8482b9217b21aa1f11462",
       "value": "Grenade:"
      }
     },
     "b477c199c0134b6ebe8ad71dbcf0d8b7": {
      "model_module": "@jupyter-widgets/base",
      "model_module_version": "1.2.0",
      "model_name": "LayoutModel",
      "state": {
       "display": "flex",
       "width": "60px"
      }
     },
     "b4ca076b747b42af8c7275479945ae35": {
      "model_module": "@jupyter-widgets/controls",
      "model_module_version": "1.5.0",
      "model_name": "DescriptionStyleModel",
      "state": {
       "description_width": ""
      }
     },
     "b522d1cbc09648f1b7b5f70a03bb3db2": {
      "model_module": "@jupyter-widgets/controls",
      "model_module_version": "1.5.0",
      "model_name": "ButtonModel",
      "state": {
       "description": "Search",
       "layout": "IPY_MODEL_38579c2fe0e34e5e8745610b56d60bc0",
       "style": "IPY_MODEL_d377373770d84192aad6281f93085ad1"
      }
     },
     "b527702f12d54752b76ef0b2fdf3a293": {
      "model_module": "@jupyter-widgets/controls",
      "model_module_version": "1.5.0",
      "model_name": "LabelModel",
      "state": {
       "layout": "IPY_MODEL_05994464957a4a04800a7ae6594da47e",
       "style": "IPY_MODEL_e6e7280d955f4ceba269c1b6d8e4ad71",
       "value": "   objective"
      }
     },
     "b52f62dfc1384cd78d0b6156e7fbcc3b": {
      "model_module": "@jupyter-widgets/controls",
      "model_module_version": "1.5.0",
      "model_name": "ButtonModel",
      "state": {
       "button_style": "success",
       "disabled": true,
       "layout": "IPY_MODEL_20050c83c606488ebe2cfd7e6edd49ae",
       "style": "IPY_MODEL_bd918d71dc27415895e256b76ecb0559"
      }
     },
     "b53d2bbd67224784b81764c0c9c842e2": {
      "model_module": "@jupyter-widgets/base",
      "model_module_version": "1.2.0",
      "model_name": "LayoutModel",
      "state": {
       "height": "32px",
       "overflow": "visible",
       "width": "100%"
      }
     },
     "b573c01b8e344814b899ab2b5573105f": {
      "model_module": "@jupyter-widgets/controls",
      "model_module_version": "1.5.0",
      "model_name": "ButtonModel",
      "state": {
       "layout": "IPY_MODEL_eef3d542bcc6427e862f6b14a0d0c32e",
       "style": "IPY_MODEL_697d8e89df4a4fc4922d8cba65cd96f3"
      }
     },
     "b5a90d6ecdb44b0a99b80ae651fba22d": {
      "model_module": "@jupyter-widgets/controls",
      "model_module_version": "1.5.0",
      "model_name": "ButtonStyleModel",
      "state": {}
     },
     "b5c8a3e239654989980ccf3ddc27ee22": {
      "model_module": "@jupyter-widgets/controls",
      "model_module_version": "1.5.0",
      "model_name": "HBoxModel",
      "state": {
       "children": [
        "IPY_MODEL_9fd204594fdd46718c02f5aba95930eb",
        "IPY_MODEL_fa9dbd4e62c84f1b8be699840ec3e504",
        "IPY_MODEL_ea2be8cd9b534636be3ffa1a94391399",
        "IPY_MODEL_4e83e6624bde428b9518c2901f16211f"
       ],
       "layout": "IPY_MODEL_ec0a5f89f339497dbb5957b2b9ecd346"
      }
     },
     "b5fc522ff64f411f82996b01d3ae5e8c": {
      "model_module": "@jupyter-widgets/controls",
      "model_module_version": "1.5.0",
      "model_name": "DescriptionStyleModel",
      "state": {
       "description_width": ""
      }
     },
     "b60bcb9076c24836889dc0588c168d23": {
      "model_module": "@jupyter-widgets/controls",
      "model_module_version": "1.5.0",
      "model_name": "HBoxModel",
      "state": {
       "children": [
        "IPY_MODEL_ac4ce51caa114651b64c028cea724553",
        "IPY_MODEL_f153bb6e26934ce9b022678b5f79c3bb",
        "IPY_MODEL_708225a71df34d3dab1e98ff598ffbba",
        "IPY_MODEL_1eec27fcac2c42afb210463bbb938e64"
       ],
       "layout": "IPY_MODEL_c370d2b27a6545199dae08e830f6ca4c"
      }
     },
     "b69eb0b92deb4164b79bb261729d93d9": {
      "model_module": "@jupyter-widgets/controls",
      "model_module_version": "1.5.0",
      "model_name": "DescriptionStyleModel",
      "state": {
       "description_width": ""
      }
     },
     "b6a9118b41454fb2a7915c6dfc854224": {
      "model_module": "@jupyter-widgets/base",
      "model_module_version": "1.2.0",
      "model_name": "LayoutModel",
      "state": {
       "display": "flex",
       "width": "60px"
      }
     },
     "b6ece414e1ff48ce8fc6d35ed774e8c8": {
      "model_module": "@jupyter-widgets/controls",
      "model_module_version": "1.5.0",
      "model_name": "ButtonModel",
      "state": {
       "description": "EDIT",
       "layout": "IPY_MODEL_a18f1132beae4f9cbe9ad8454aa317a5",
       "style": "IPY_MODEL_0ba4ae7b2d3b44a59606f3fee4db86a6"
      }
     },
     "b6fd676772ca4713ae990d730da16892": {
      "model_module": "@jupyter-widgets/base",
      "model_module_version": "1.2.0",
      "model_name": "LayoutModel",
      "state": {
       "height": "32px",
       "order": "-2",
       "width": "32px"
      }
     },
     "b6fe9fbb90ed4662abe863193e639e85": {
      "model_module": "@jupyter-widgets/controls",
      "model_module_version": "1.5.0",
      "model_name": "HBoxModel",
      "state": {
       "children": [
        "IPY_MODEL_050d80dec51a457b9c3d19f1df0661f6",
        "IPY_MODEL_8c899e961fae4120ad99802a39af2c43",
        "IPY_MODEL_3df8518f6d284331bbfce7750cd6a529",
        "IPY_MODEL_0fb5259259fb47f5bbea0f4c4a678e11"
       ],
       "layout": "IPY_MODEL_dc3965b5cccd447a8cc9903be185c1c4"
      }
     },
     "b7272817da074bca8756b04e8be70bdf": {
      "model_module": "@jupyter-widgets/controls",
      "model_module_version": "1.5.0",
      "model_name": "ProgressStyleModel",
      "state": {
       "description_width": ""
      }
     },
     "b7326abc6604463daefef9e02f25612b": {
      "model_module": "@jupyter-widgets/controls",
      "model_module_version": "1.5.0",
      "model_name": "HBoxModel",
      "state": {
       "children": [
        "IPY_MODEL_d98607e16598403c933c01ac9f8c6451",
        "IPY_MODEL_4945984486a3483ebbc9c1f3c45d287d",
        "IPY_MODEL_4595ed34be994f949b53088a5193f1d0",
        "IPY_MODEL_3674de109bd44b19814c42bd734d3160"
       ],
       "layout": "IPY_MODEL_1f2e409ba4aa4665927d137820d9c898"
      }
     },
     "b748fd2c46ce48da8f7e4810a8b40c68": {
      "model_module": "@jupyter-widgets/controls",
      "model_module_version": "1.5.0",
      "model_name": "DescriptionStyleModel",
      "state": {
       "description_width": ""
      }
     },
     "b756a9b9ed6a40d5b6228b63f073d7f7": {
      "model_module": "@jupyter-widgets/controls",
      "model_module_version": "1.5.0",
      "model_name": "IntProgressModel",
      "state": {
       "layout": "IPY_MODEL_623a9fabc3e140d7beffe951d662a5e7",
       "style": "IPY_MODEL_fe45b1bcb4524c8c94b5ad33c6a2edb4",
       "value": 30
      }
     },
     "b78d7f81cd934b52affda4e6e9529814": {
      "model_module": "@jupyter-widgets/controls",
      "model_module_version": "1.5.0",
      "model_name": "ButtonModel",
      "state": {
       "description": "EDIT",
       "layout": "IPY_MODEL_6f594549c509469bac3300614e184624",
       "style": "IPY_MODEL_41a2f141923d40afbfe2f283d16ebac0"
      }
     },
     "b7c38f5b219341028b426db638fbc49a": {
      "model_module": "@jupyter-widgets/controls",
      "model_module_version": "1.5.0",
      "model_name": "ButtonStyleModel",
      "state": {}
     },
     "b7e7f58d55ce425ab732c337f3be7e92": {
      "model_module": "@jupyter-widgets/controls",
      "model_module_version": "1.5.0",
      "model_name": "DescriptionStyleModel",
      "state": {
       "description_width": ""
      }
     },
     "b80d177f5f5546cb9e7a3604a3fc3cf1": {
      "model_module": "@jupyter-widgets/controls",
      "model_module_version": "1.5.0",
      "model_name": "HTMLModel",
      "state": {
       "layout": "IPY_MODEL_e660ffdf39bb495ca18279dc3c448c1a",
       "style": "IPY_MODEL_73b7c0e2eaa1468cb699ab928e467d69",
       "value": "<font size=\"5\"><b>Strike Them Down</b></font size=>"
      }
     },
     "b815ddda62524eb083617628859b2225": {
      "model_module": "@jupyter-widgets/base",
      "model_module_version": "1.2.0",
      "model_name": "LayoutModel",
      "state": {
       "display": "flex"
      }
     },
     "b8730df954e640b5a05e4441d52b1d6f": {
      "model_module": "@jupyter-widgets/base",
      "model_module_version": "1.2.0",
      "model_name": "LayoutModel",
      "state": {
       "order": "-1",
       "overflow": "visible",
       "padding": "1px",
       "width": "0px"
      }
     },
     "b8e078e48a0e43b28d8ce79b755ef601": {
      "model_module": "@jupyter-widgets/controls",
      "model_module_version": "1.5.0",
      "model_name": "HBoxModel",
      "state": {
       "children": [
        "IPY_MODEL_09e14516b5c64f9da11d20c6e077d40a",
        "IPY_MODEL_d2e84a3cef19400db17c116e23c0482e",
        "IPY_MODEL_7b2fdd6c11b340e3bb3be80cd7dae826",
        "IPY_MODEL_afd5eff6a6204187ba54b1a0e2498030"
       ],
       "layout": "IPY_MODEL_044616209e134e869850e1ea89959c92"
      }
     },
     "b8e3a15f3b6f4e7fbc8f2e169b9ac20d": {
      "model_module": "@jupyter-widgets/base",
      "model_module_version": "1.2.0",
      "model_name": "LayoutModel",
      "state": {
       "order": "-1",
       "overflow": "visible",
       "padding": "1px",
       "width": "0px"
      }
     },
     "b90b4734223548338ea9f0b2e8173ef6": {
      "model_module": "@jupyter-widgets/controls",
      "model_module_version": "1.5.0",
      "model_name": "LabelModel",
      "state": {
       "layout": "IPY_MODEL_8a1a75c76b0f474780766767017bd74d",
       "style": "IPY_MODEL_1b3a0bf8d51f400cad219169dc7e8794",
       "value": "    Combatants defeated (3768/5000)"
      }
     },
     "b9132700bb954aa296e3fdba72ca9bb3": {
      "model_module": "@jupyter-widgets/controls",
      "model_module_version": "1.5.0",
      "model_name": "LabelModel",
      "state": {
       "layout": "IPY_MODEL_442d4a3c23994ec78e99d6288d30c088",
       "style": "IPY_MODEL_41b4b20e570e443c974cd8219333ee4e",
       "value": "    Vaults defended (7/10)"
      }
     },
     "b91d6bcc2c7f4d81b02a062a25333138": {
      "model_module": "@jupyter-widgets/controls",
      "model_module_version": "1.5.0",
      "model_name": "LabelModel",
      "state": {
       "layout": "IPY_MODEL_ca4b6117e8974823a63847e2b2946cd7",
       "style": "IPY_MODEL_d3dbfffcbeae4678a56c32f4366468a1",
       "value": "   objective"
      }
     },
     "b9232239012b47fba0061c02f079e1dc": {
      "model_module": "@jupyter-widgets/base",
      "model_module_version": "1.2.0",
      "model_name": "LayoutModel",
      "state": {}
     },
     "b9613a86207347b29b622f678e1b8c4e": {
      "model_module": "@jupyter-widgets/base",
      "model_module_version": "1.2.0",
      "model_name": "LayoutModel",
      "state": {
       "display": "none"
      }
     },
     "b961c7f679e141ff9a1345393d4e0963": {
      "model_module": "@jupyter-widgets/controls",
      "model_module_version": "1.5.0",
      "model_name": "ButtonStyleModel",
      "state": {}
     },
     "b99651a5eaeb4933ac7f5c9fa330b481": {
      "model_module": "@jupyter-widgets/base",
      "model_module_version": "1.2.0",
      "model_name": "LayoutModel",
      "state": {
       "width": "186px"
      }
     },
     "b9f6aaffa2134d5da559f615de6ef9a7": {
      "model_module": "@jupyter-widgets/base",
      "model_module_version": "1.2.0",
      "model_name": "LayoutModel",
      "state": {
       "height": "32px",
       "order": "-2",
       "width": "32px"
      }
     },
     "b9fc6b634d5549d48a72bb2269d03e4f": {
      "model_module": "@jupyter-widgets/controls",
      "model_module_version": "1.5.0",
      "model_name": "ButtonStyleModel",
      "state": {}
     },
     "ba345a466960496d861baeb3619e901c": {
      "model_module": "@jupyter-widgets/base",
      "model_module_version": "1.2.0",
      "model_name": "LayoutModel",
      "state": {
       "order": "-1",
       "overflow": "visible",
       "padding": "1px",
       "width": "0px"
      }
     },
     "ba6ea351e3174cbc9d27620bd94e8b25": {
      "model_module": "@jupyter-widgets/controls",
      "model_module_version": "1.5.0",
      "model_name": "DescriptionStyleModel",
      "state": {
       "description_width": ""
      }
     },
     "ba70cb5cb44540199bead5f953efc4a1": {
      "model_module": "@jupyter-widgets/controls",
      "model_module_version": "1.5.0",
      "model_name": "IntProgressModel",
      "state": {
       "bar_style": "success",
       "layout": "IPY_MODEL_e8c22539fa624aa1b681f0fc9a5a3af4",
       "max": 15,
       "style": "IPY_MODEL_79f1188a8838402c87bdf9213c89da6d",
       "value": 15
      }
     },
     "ba918ad202c3467c8f70213ae7f7ca6c": {
      "model_module": "@jupyter-widgets/controls",
      "model_module_version": "1.5.0",
      "model_name": "LabelModel",
      "state": {
       "layout": "IPY_MODEL_5cc04574c0744e128904434a51d157cd",
       "style": "IPY_MODEL_b45591a4b30340fda9c64f7f555c1766",
       "value": "   objective"
      }
     },
     "ba92186d1728409993c2b026b5c5c18c": {
      "model_module": "@jupyter-widgets/controls",
      "model_module_version": "1.5.0",
      "model_name": "ButtonModel",
      "state": {
       "description": "EDIT",
       "layout": "IPY_MODEL_709319c0329f46648b4f228bb3ec4dbd",
       "style": "IPY_MODEL_2fe2b9b73fa34ac1b97c41271bfbf3ed"
      }
     },
     "baf228082a5b499083ed158c635b31b6": {
      "model_module": "@jupyter-widgets/controls",
      "model_module_version": "1.5.0",
      "model_name": "ButtonStyleModel",
      "state": {}
     },
     "bb334d97d9b8448fa16480d20e56442c": {
      "model_module": "@jupyter-widgets/controls",
      "model_module_version": "1.5.0",
      "model_name": "LabelModel",
      "state": {
       "layout": "IPY_MODEL_5d5d822cf9404ef8a4749d5bc822d73a",
       "style": "IPY_MODEL_afb73b8f488b4483a91194d7c8908ac0",
       "value": "   objective"
      }
     },
     "bb3382fffa084a1fb5a367981997e103": {
      "model_module": "@jupyter-widgets/base",
      "model_module_version": "1.2.0",
      "model_name": "LayoutModel",
      "state": {
       "height": "32px",
       "overflow": "visible",
       "width": "100%"
      }
     },
     "bb5ec085512c452d84b8268e5b9fb409": {
      "model_module": "@jupyter-widgets/controls",
      "model_module_version": "1.5.0",
      "model_name": "ButtonModel",
      "state": {
       "button_style": "success",
       "disabled": true,
       "layout": "IPY_MODEL_25b05ba770d645f593f5cfe345b03b86",
       "style": "IPY_MODEL_46767c2d48ea4f8896a1ba5fd90bedc1"
      }
     },
     "bbb157cd8bee4496b6d613d33ed03b2c": {
      "model_module": "@jupyter-widgets/base",
      "model_module_version": "1.2.0",
      "model_name": "LayoutModel",
      "state": {
       "height": "32px",
       "overflow": "visible",
       "width": "100%"
      }
     },
     "bbcd137fb66347c297b80760802993d8": {
      "model_module": "@jupyter-widgets/controls",
      "model_module_version": "1.5.0",
      "model_name": "IntProgressModel",
      "state": {
       "layout": "IPY_MODEL_ac5a93dfc88340188caee11385a4c2a5",
       "max": 2500,
       "style": "IPY_MODEL_8622369032be4cc5bd21138aea3921cf",
       "value": 1543
      }
     },
     "bbcd40ba1ffe40478420d9aba7686936": {
      "model_module": "@jupyter-widgets/base",
      "model_module_version": "1.2.0",
      "model_name": "LayoutModel",
      "state": {
       "height": "32px",
       "overflow": "visible",
       "width": "100%"
      }
     },
     "bc4c0a92c3f84001b9d2ea76f7d72c07": {
      "model_module": "@jupyter-widgets/base",
      "model_module_version": "1.2.0",
      "model_name": "LayoutModel",
      "state": {
       "height": "32px",
       "overflow": "visible",
       "width": "100%"
      }
     },
     "bc5c7c03dfa942c88bd82bfb15bbd58d": {
      "model_module": "@jupyter-widgets/base",
      "model_module_version": "1.2.0",
      "model_name": "LayoutModel",
      "state": {
       "height": "32px",
       "order": "-2",
       "width": "32px"
      }
     },
     "bca917c69cfb47c4a76279f1ae2c1f90": {
      "model_module": "@jupyter-widgets/controls",
      "model_module_version": "1.5.0",
      "model_name": "HBoxModel",
      "state": {
       "children": [
        "IPY_MODEL_5e70d6dcd9f44679934c1b5fc575641d",
        "IPY_MODEL_e0a6662a0f6648e9a9c665e7d75284f9",
        "IPY_MODEL_b527702f12d54752b76ef0b2fdf3a293",
        "IPY_MODEL_aac9ae5a5eb64594896ec4e999c5fb33"
       ],
       "layout": "IPY_MODEL_4d127da4d9964525bc8fb150b87f853d"
      }
     },
     "bcbdd893e2794340b8edb5b5b3e588c6": {
      "model_module": "@jupyter-widgets/base",
      "model_module_version": "1.2.0",
      "model_name": "LayoutModel",
      "state": {
       "border": "3px solid white",
       "display": "flex",
       "flex": "1 1 0%",
       "margin": "10px",
       "min_width": "400px",
       "overflow": "visible",
       "padding": "10px",
       "width": "auto"
      }
     },
     "bcd0a4b665cb45ae9b172a6e67320ac0": {
      "model_module": "@jupyter-widgets/controls",
      "model_module_version": "1.5.0",
      "model_name": "LabelModel",
      "state": {
       "layout": "IPY_MODEL_843a02b9241a4c76aedf65a587acbf73",
       "style": "IPY_MODEL_d5e62b1facbd4d70b318cfa20c87508e",
       "value": "    Grenade kills (289/200)"
      }
     },
     "bce99266255c40e6b04557bb7d1eb40d": {
      "model_module": "@jupyter-widgets/base",
      "model_module_version": "1.2.0",
      "model_name": "LayoutModel",
      "state": {
       "height": "32px",
       "overflow": "visible",
       "width": "100%"
      }
     },
     "bd419eacd3404f9d8210103851cfdaa0": {
      "model_module": "@jupyter-widgets/controls",
      "model_module_version": "1.5.0",
      "model_name": "IntProgressModel",
      "state": {
       "layout": "IPY_MODEL_549e6ba188074b2f9b4845b70ad039d4",
       "max": 500,
       "style": "IPY_MODEL_294caff627bf4bc2b27f38988fedcf31",
       "value": 309
      }
     },
     "bd7c194d99674dabbaf78ed1d7a66270": {
      "model_module": "@jupyter-widgets/controls",
      "model_module_version": "1.5.0",
      "model_name": "ButtonStyleModel",
      "state": {}
     },
     "bd8f584ed7124544a4190e126cfa1a82": {
      "model_module": "@jupyter-widgets/controls",
      "model_module_version": "1.5.0",
      "model_name": "IntProgressModel",
      "state": {
       "layout": "IPY_MODEL_bbcd40ba1ffe40478420d9aba7686936",
       "style": "IPY_MODEL_92e76418e37d40d0aada029515fefa2e",
       "value": 30
      }
     },
     "bd918d71dc27415895e256b76ecb0559": {
      "model_module": "@jupyter-widgets/controls",
      "model_module_version": "1.5.0",
      "model_name": "ButtonStyleModel",
      "state": {}
     },
     "bdab2795e5804d4d8f0eeab3055e052c": {
      "model_module": "@jupyter-widgets/controls",
      "model_module_version": "1.5.0",
      "model_name": "VBoxModel",
      "state": {
       "children": [
        "IPY_MODEL_0f34d7c0c3f642cca63b36a62caa0b31",
        "IPY_MODEL_913e19c613e2416593ba999c75327687",
        "IPY_MODEL_042a74bdde76462ba7d928f2e0725e0c",
        "IPY_MODEL_7a378ed314344dde86b1d5bf05e39627",
        "IPY_MODEL_ee3fb5ec450d4c45a6c128dc0db1dcd6",
        "IPY_MODEL_623847642ee44c099c3f64053334e6a1"
       ],
       "layout": "IPY_MODEL_957ec80f87334b3fb1f5c0bb5785aa12"
      }
     },
     "be814b84c06e4a4e8e5e21af8e324628": {
      "model_module": "@jupyter-widgets/base",
      "model_module_version": "1.2.0",
      "model_name": "LayoutModel",
      "state": {
       "display": "flex",
       "width": "60px"
      }
     },
     "be83e6cd1f01480e8b1325fcf620e436": {
      "model_module": "@jupyter-widgets/base",
      "model_module_version": "1.2.0",
      "model_name": "LayoutModel",
      "state": {
       "order": "-1",
       "overflow": "visible",
       "padding": "1px",
       "width": "0px"
      }
     },
     "be902e9c43834ebfb00d0940a8ac7aa5": {
      "model_module": "@jupyter-widgets/controls",
      "model_module_version": "1.5.0",
      "model_name": "HTMLModel",
      "state": {
       "layout": "IPY_MODEL_f91a9f977bc94fa290dcb7cfc51c602d",
       "style": "IPY_MODEL_32f862295a254c828f27c917172cb691",
       "value": "<b>Gear Options</b>"
      }
     },
     "bee4f13fe1944871968512b24089683e": {
      "model_module": "@jupyter-widgets/base",
      "model_module_version": "1.2.0",
      "model_name": "LayoutModel",
      "state": {
       "height": "32px",
       "order": "-2",
       "width": "32px"
      }
     },
     "bf0c080aca9d4b4881756f1c633997ef": {
      "model_module": "@jupyter-widgets/controls",
      "model_module_version": "1.5.0",
      "model_name": "ButtonStyleModel",
      "state": {}
     },
     "bf1f51677c0e4ead9d33116e7ab5508b": {
      "model_module": "@jupyter-widgets/controls",
      "model_module_version": "1.5.0",
      "model_name": "DescriptionStyleModel",
      "state": {
       "description_width": ""
      }
     },
     "bf26092d6563443faba42f120bc683b0": {
      "model_module": "@jupyter-widgets/controls",
      "model_module_version": "1.5.0",
      "model_name": "ButtonStyleModel",
      "state": {}
     },
     "bf334496e12845faaad36462b0f04838": {
      "model_module": "@jupyter-widgets/controls",
      "model_module_version": "1.5.0",
      "model_name": "HTMLModel",
      "state": {
       "layout": "IPY_MODEL_a72f825955ec447d8f5f324a344526d4",
       "style": "IPY_MODEL_6340117df34a4e88a449e5dbab6ff06c",
       "value": "<font size=\"1\">Triumphs/Seasonal/Events/The Revelry 2019/Budding Fashion</font size=>"
      }
     },
     "bf368610cce0448f80cc4b897bc7b84a": {
      "model_module": "@jupyter-widgets/base",
      "model_module_version": "1.2.0",
      "model_name": "LayoutModel",
      "state": {
       "order": "-1",
       "overflow": "visible",
       "padding": "1px",
       "width": "0px"
      }
     },
     "bf3c2cf602a24450a795a2647e589d95": {
      "model_module": "@jupyter-widgets/controls",
      "model_module_version": "1.5.0",
      "model_name": "ProgressStyleModel",
      "state": {
       "description_width": ""
      }
     },
     "bf5031009d784494a9668f1c31596d8a": {
      "model_module": "@jupyter-widgets/controls",
      "model_module_version": "1.5.0",
      "model_name": "DescriptionStyleModel",
      "state": {
       "description_width": ""
      }
     },
     "bf67eed948d049e2956be1ee94f34f06": {
      "model_module": "@jupyter-widgets/controls",
      "model_module_version": "1.5.0",
      "model_name": "ButtonModel",
      "state": {
       "description": "EDIT",
       "layout": "IPY_MODEL_3f05826b727d44b88dc0f65b2372964b",
       "style": "IPY_MODEL_ec9647390eea41928dd6bce439734e24"
      }
     },
     "bffc772ed5b945f6929806060d7801ee": {
      "model_module": "@jupyter-widgets/base",
      "model_module_version": "1.2.0",
      "model_name": "LayoutModel",
      "state": {
       "order": "-1",
       "overflow": "visible",
       "padding": "1px",
       "width": "0px"
      }
     },
     "c02734791b594bb18e9f039b94dcecb7": {
      "model_module": "@jupyter-widgets/controls",
      "model_module_version": "1.5.0",
      "model_name": "DescriptionStyleModel",
      "state": {
       "description_width": ""
      }
     },
     "c04ffa062f9c41c38f37074c3cb6ecf6": {
      "model_module": "@jupyter-widgets/controls",
      "model_module_version": "1.5.0",
      "model_name": "ProgressStyleModel",
      "state": {
       "description_width": ""
      }
     },
     "c074bb84a3dc427ba12de33a6e5d1a83": {
      "model_module": "@jupyter-widgets/controls",
      "model_module_version": "1.5.0",
      "model_name": "ButtonModel",
      "state": {
       "layout": "IPY_MODEL_ef405c9b788d4e49bd87b4bfe0a01981",
       "style": "IPY_MODEL_6792433e99b64bc08ceccea252d541e2"
      }
     },
     "c0dfc8c837d8450a8978c5c03df6a730": {
      "model_module": "@jupyter-widgets/controls",
      "model_module_version": "1.5.0",
      "model_name": "DescriptionStyleModel",
      "state": {
       "description_width": ""
      }
     },
     "c0fa767d592549c988ea689c13bc692b": {
      "model_module": "@jupyter-widgets/base",
      "model_module_version": "1.2.0",
      "model_name": "LayoutModel",
      "state": {
       "display": "flex",
       "width": "60px"
      }
     },
     "c0ff6cd43c2e4d2b84792f5130ac642d": {
      "model_module": "@jupyter-widgets/base",
      "model_module_version": "1.2.0",
      "model_name": "LayoutModel",
      "state": {
       "border": "2px solid #00bcd4",
       "width": "98%"
      }
     },
     "c12c0263b1684f4f812ef490bbae377e": {
      "model_module": "@jupyter-widgets/controls",
      "model_module_version": "1.5.0",
      "model_name": "DescriptionStyleModel",
      "state": {
       "description_width": ""
      }
     },
     "c185e58ab87b4895b0b5ed727ac1aff8": {
      "model_module": "@jupyter-widgets/controls",
      "model_module_version": "1.5.0",
      "model_name": "HBoxModel",
      "state": {
       "children": [
        "IPY_MODEL_2385bb6f6bed41bca9df8fbeffaa491e",
        "IPY_MODEL_3a3b7ad652c248449a2c73745e2f47dd",
        "IPY_MODEL_602b2c522fc44cf6a7eab1b2fa3cea41",
        "IPY_MODEL_f841e60cef5049f7866519ff9c306b07"
       ],
       "layout": "IPY_MODEL_8c06f50bf4c147bdbf3414877374d3e2"
      }
     },
     "c19dc073027a4bebb668ef7c13c8e891": {
      "model_module": "@jupyter-widgets/base",
      "model_module_version": "1.2.0",
      "model_name": "LayoutModel",
      "state": {
       "display": "flex"
      }
     },
     "c228d6d596ec4589ae0b3b7e3145a680": {
      "model_module": "@jupyter-widgets/controls",
      "model_module_version": "1.5.0",
      "model_name": "ButtonModel",
      "state": {
       "description": "EDIT",
       "layout": "IPY_MODEL_36c180c0f6654cb2b4d9ac9cf5c3dce6",
       "style": "IPY_MODEL_ad8806025b9b4f13b9b1ecc8a65d045f"
      }
     },
     "c2307fb14fa244848eaa493e7daf8bd0": {
      "model_module": "@jupyter-widgets/base",
      "model_module_version": "1.2.0",
      "model_name": "LayoutModel",
      "state": {
       "display": "none"
      }
     },
     "c2328a606c8d4a609a8e8798fdfb7bf3": {
      "model_module": "@jupyter-widgets/base",
      "model_module_version": "1.2.0",
      "model_name": "LayoutModel",
      "state": {
       "order": "-1",
       "overflow": "visible",
       "padding": "1px",
       "width": "0px"
      }
     },
     "c252ade7e1c449768c25e9b8a035e3c6": {
      "model_module": "@jupyter-widgets/controls",
      "model_module_version": "1.5.0",
      "model_name": "ButtonStyleModel",
      "state": {}
     },
     "c258977be3ff46cf87ee2be266c0c2b2": {
      "model_module": "@jupyter-widgets/base",
      "model_module_version": "1.2.0",
      "model_name": "LayoutModel",
      "state": {
       "order": "-1",
       "overflow": "visible",
       "padding": "1px",
       "width": "0px"
      }
     },
     "c2888047e0764db0b3bd704e1672ba43": {
      "model_module": "@jupyter-widgets/controls",
      "model_module_version": "1.5.0",
      "model_name": "DescriptionStyleModel",
      "state": {
       "description_width": ""
      }
     },
     "c2cf4ec3367a475b84f7b962df0ae9e0": {
      "model_module": "@jupyter-widgets/base",
      "model_module_version": "1.2.0",
      "model_name": "LayoutModel",
      "state": {
       "overflow": "visible",
       "width": "100%"
      }
     },
     "c2cfa0deec6f4b479ca3f21d1ec58618": {
      "model_module": "@jupyter-widgets/base",
      "model_module_version": "1.2.0",
      "model_name": "LayoutModel",
      "state": {
       "height": "32px",
       "order": "-2",
       "width": "32px"
      }
     },
     "c30d08a7c8da435a8cbccae57767f44b": {
      "model_module": "@jupyter-widgets/controls",
      "model_module_version": "1.5.0",
      "model_name": "IntProgressModel",
      "state": {
       "bar_style": "success",
       "layout": "IPY_MODEL_61a2fce7e31c4b5a9d0fa51f1fb76bae",
       "style": "IPY_MODEL_d7f87badac504152b827b0ae10c334aa",
       "value": 100
      }
     },
     "c370d2b27a6545199dae08e830f6ca4c": {
      "model_module": "@jupyter-widgets/base",
      "model_module_version": "1.2.0",
      "model_name": "LayoutModel",
      "state": {
       "display": "flex"
      }
     },
     "c37bed140402486fbd33557e820aadf1": {
      "model_module": "@jupyter-widgets/controls",
      "model_module_version": "1.5.0",
      "model_name": "ButtonStyleModel",
      "state": {}
     },
     "c389a33b72a540c591866c77f5aaf0c3": {
      "model_module": "@jupyter-widgets/controls",
      "model_module_version": "1.5.0",
      "model_name": "HBoxModel",
      "state": {
       "children": [
        "IPY_MODEL_dcff1a96f1e9498eaf04ab555d53c01d",
        "IPY_MODEL_dd216008845d477d9605b5b853d8cb3c",
        "IPY_MODEL_f342e270eac244b6a0296ae18f6ee3f1",
        "IPY_MODEL_26497f7ca68246c39ee2c86200bd8ffd"
       ],
       "layout": "IPY_MODEL_7e40a01ee71f41ee831a61d0e04b6bb6"
      }
     },
     "c3d3ef278bdd447a8e90b880c02f18ea": {
      "model_module": "@jupyter-widgets/controls",
      "model_module_version": "1.5.0",
      "model_name": "DescriptionStyleModel",
      "state": {
       "description_width": ""
      }
     },
     "c3e44552a7484c2e8cd20b5ee30b05ff": {
      "model_module": "@jupyter-widgets/base",
      "model_module_version": "1.2.0",
      "model_name": "LayoutModel",
      "state": {
       "display": "flex",
       "width": "60px"
      }
     },
     "c3e63bf3604b4ff6acf02b6f5362c3e2": {
      "model_module": "@jupyter-widgets/controls",
      "model_module_version": "1.5.0",
      "model_name": "HTMLModel",
      "state": {
       "layout": "IPY_MODEL_f364f83e60b34ed982d4998d4321aa13",
       "style": "IPY_MODEL_2f5fa85399a9472a9adc7daf464ed03b",
       "value": "<font size=\"1\">Seals/Moments of Triumph: MMXIX/Prime Fashion</font size=>"
      }
     },
     "c3edc6c59235462f9888f67bb18f2a69": {
      "model_module": "@jupyter-widgets/base",
      "model_module_version": "1.2.0",
      "model_name": "LayoutModel",
      "state": {
       "display": "none"
      }
     },
     "c3ef7f17f9dc4bf8aa6e0a339f82a45e": {
      "model_module": "@jupyter-widgets/base",
      "model_module_version": "1.2.0",
      "model_name": "LayoutModel",
      "state": {
       "display": "flex",
       "width": "60px"
      }
     },
     "c4051dae8465416798e21e04bae73775": {
      "model_module": "@jupyter-widgets/controls",
      "model_module_version": "1.5.0",
      "model_name": "DescriptionStyleModel",
      "state": {
       "description_width": ""
      }
     },
     "c40978d49a174d7d9f8c5f4884d06f88": {
      "model_module": "@jupyter-widgets/controls",
      "model_module_version": "1.5.0",
      "model_name": "ButtonStyleModel",
      "state": {}
     },
     "c41007ef945248d6805355fb3b043d38": {
      "model_module": "@jupyter-widgets/controls",
      "model_module_version": "1.5.0",
      "model_name": "IntProgressModel",
      "state": {
       "layout": "IPY_MODEL_31449b8c1871498b87731b5557870d99",
       "max": 1,
       "style": "IPY_MODEL_aeeccaa4f36541318432dea6112716cc"
      }
     },
     "c41b7b5ad0e64072b731564bd2dbcd46": {
      "model_module": "@jupyter-widgets/controls",
      "model_module_version": "1.5.0",
      "model_name": "ButtonModel",
      "state": {
       "description": "EDIT",
       "layout": "IPY_MODEL_fe67de007f824b60a5b5584e2efc5cf7",
       "style": "IPY_MODEL_a4dc5dc969e24f66984b846ee90a0553"
      }
     },
     "c41f757e9eb24982836d32cafcd8033b": {
      "model_module": "@jupyter-widgets/controls",
      "model_module_version": "1.5.0",
      "model_name": "ButtonModel",
      "state": {
       "layout": "IPY_MODEL_3f2b924ed4de4922878915b503f9ccc2",
       "style": "IPY_MODEL_330c327bd6d34786ae5a273a6dfa7960"
      }
     },
     "c43b004fd02941a991b708e3c81e9bac": {
      "model_module": "@jupyter-widgets/base",
      "model_module_version": "1.2.0",
      "model_name": "LayoutModel",
      "state": {
       "display": "flex",
       "width": "60px"
      }
     },
     "c44d40d8daea4b1bad9025a023d6813d": {
      "model_module": "@jupyter-widgets/base",
      "model_module_version": "1.2.0",
      "model_name": "LayoutModel",
      "state": {
       "height": "32px",
       "overflow": "visible",
       "width": "100%"
      }
     },
     "c462b17f59f84b99815208c331f3f54d": {
      "model_module": "@jupyter-widgets/controls",
      "model_module_version": "1.5.0",
      "model_name": "DropdownModel",
      "state": {
       "_options_labels": [
        "Any",
        "Hand Cannon",
        "Auto Rifle",
        "Scout Rifle",
        "Pulse Rifle",
        "Sidearm",
        "Submachine Gun",
        "Combt Bow",
        "Sniper Rifle",
        "Shotgun"
       ],
       "index": 0,
       "layout": "IPY_MODEL_7de46c5a10344d3c9922541b9839e37d",
       "style": "IPY_MODEL_5d001e37265e443090808b60f61cc304"
      }
     },
     "c48a371f89df4e81b552c89141449035": {
      "model_module": "@jupyter-widgets/controls",
      "model_module_version": "1.5.0",
      "model_name": "ButtonStyleModel",
      "state": {}
     },
     "c4d64d230b9b4bf6886846c5a785c3d7": {
      "model_module": "@jupyter-widgets/controls",
      "model_module_version": "1.5.0",
      "model_name": "ButtonModel",
      "state": {
       "layout": "IPY_MODEL_6f5020efa978448baeff9e21b17bc33d",
       "style": "IPY_MODEL_902baf6c1912401e91005a8d4926896e"
      }
     },
     "c5123ae77a8d46729aa454f5d180e856": {
      "model_module": "@jupyter-widgets/controls",
      "model_module_version": "1.5.0",
      "model_name": "IntProgressModel",
      "state": {
       "layout": "IPY_MODEL_57a8c80aa9bc452585b1779873987876",
       "max": 1000,
       "style": "IPY_MODEL_8680d88adff94734a4030dc1268c9e53",
       "value": 289
      }
     },
     "c57cbd6afa774fcdb9ce9597f0802111": {
      "model_module": "@jupyter-widgets/controls",
      "model_module_version": "1.5.0",
      "model_name": "ButtonModel",
      "state": {
       "button_style": "success",
       "disabled": true,
       "layout": "IPY_MODEL_fe87e78ac7ac4c97a965e68d45215def",
       "style": "IPY_MODEL_b40a8067e4fc488698552df3ada9f71f"
      }
     },
     "c5a753384b9f46d7ad887483c1187b50": {
      "model_module": "@jupyter-widgets/base",
      "model_module_version": "1.2.0",
      "model_name": "LayoutModel",
      "state": {
       "display": "none"
      }
     },
     "c5d6e7ce00b94927b2d8c06777457691": {
      "model_module": "@jupyter-widgets/controls",
      "model_module_version": "1.5.0",
      "model_name": "LabelModel",
      "state": {
       "layout": "IPY_MODEL_aa0fbc72981c4d99b506c2f32fb644df",
       "style": "IPY_MODEL_6b7b1036aed440bc959a0b38fd04b4b2",
       "value": "   objective"
      }
     },
     "c609821cac6645468beeecce72f71e3a": {
      "model_module": "@jupyter-widgets/controls",
      "model_module_version": "1.5.0",
      "model_name": "ButtonModel",
      "state": {
       "layout": "IPY_MODEL_23c1e111d89b4a1f85d3afa017ef9f8e",
       "style": "IPY_MODEL_9fb9c658a0494750bf02ed65bad60052"
      }
     },
     "c63ab90747da4a73a884c9e263561c59": {
      "model_module": "@jupyter-widgets/controls",
      "model_module_version": "1.5.0",
      "model_name": "ButtonStyleModel",
      "state": {}
     },
     "c65c8f8fbf4d4da5846926d97747959d": {
      "model_module": "@jupyter-widgets/base",
      "model_module_version": "1.2.0",
      "model_name": "LayoutModel",
      "state": {
       "height": "32px",
       "order": "-2",
       "width": "32px"
      }
     },
     "c6bdc33eb99547d7a7062953cc1df028": {
      "model_module": "@jupyter-widgets/controls",
      "model_module_version": "1.5.0",
      "model_name": "ButtonStyleModel",
      "state": {}
     },
     "c6da39d8fe7f494388057e770b44d412": {
      "model_module": "@jupyter-widgets/controls",
      "model_module_version": "1.5.0",
      "model_name": "DescriptionStyleModel",
      "state": {
       "description_width": ""
      }
     },
     "c6e7aad370f441cfa4262a8ea5580a27": {
      "model_module": "@jupyter-widgets/base",
      "model_module_version": "1.2.0",
      "model_name": "LayoutModel",
      "state": {
       "order": "-1",
       "overflow": "visible",
       "padding": "1px",
       "width": "0px"
      }
     },
     "c709f78c2d0f4515938348f7ea3fec52": {
      "model_module": "@jupyter-widgets/controls",
      "model_module_version": "1.5.0",
      "model_name": "ButtonStyleModel",
      "state": {}
     },
     "c744b27fb56e4a2da0511d260888badc": {
      "model_module": "@jupyter-widgets/controls",
      "model_module_version": "1.5.0",
      "model_name": "ButtonStyleModel",
      "state": {}
     },
     "c784dce0c88d430b90be8c56b05738ce": {
      "model_module": "@jupyter-widgets/controls",
      "model_module_version": "1.5.0",
      "model_name": "ButtonStyleModel",
      "state": {}
     },
     "c7a11b6a3f2342faab6542b7297b1b56": {
      "model_module": "@jupyter-widgets/controls",
      "model_module_version": "1.5.0",
      "model_name": "ButtonStyleModel",
      "state": {}
     },
     "c864a09c171646fdb7133c284718a452": {
      "model_module": "@jupyter-widgets/controls",
      "model_module_version": "1.5.0",
      "model_name": "ProgressStyleModel",
      "state": {
       "description_width": ""
      }
     },
     "c86a7bc0e8a74e599c19916baf167551": {
      "model_module": "@jupyter-widgets/controls",
      "model_module_version": "1.5.0",
      "model_name": "DescriptionStyleModel",
      "state": {
       "description_width": ""
      }
     },
     "c89a45e19f2e42218ce17c6063254db7": {
      "model_module": "@jupyter-widgets/controls",
      "model_module_version": "1.5.0",
      "model_name": "LabelModel",
      "state": {
       "layout": "IPY_MODEL_cd6bb97514a345749ca4259a2404e466",
       "style": "IPY_MODEL_e2e894819cf3434b82ae2f8613e7fc45",
       "value": "   objective"
      }
     },
     "c8bbbddad3f34ba081f0f31cf0e3d75b": {
      "model_module": "@jupyter-widgets/controls",
      "model_module_version": "1.5.0",
      "model_name": "ButtonModel",
      "state": {
       "description": "EDIT",
       "layout": "IPY_MODEL_b6a9118b41454fb2a7915c6dfc854224",
       "style": "IPY_MODEL_a42acbbeb9ed4fdba5c7cfa61caa7d25"
      }
     },
     "c918611bad014d9f88a7bb1c8b41d107": {
      "model_module": "@jupyter-widgets/base",
      "model_module_version": "1.2.0",
      "model_name": "LayoutModel",
      "state": {
       "height": "32px",
       "order": "-2",
       "width": "32px"
      }
     },
     "c926fe02a12d4e8ea8e5cc4eecfb9b67": {
      "model_module": "@jupyter-widgets/controls",
      "model_module_version": "1.5.0",
      "model_name": "HTMLModel",
      "state": {
       "layout": "IPY_MODEL_076deb9dc9d049a8959c237f0e422d48",
       "style": "IPY_MODEL_b5fc522ff64f411f82996b01d3ae5e8c",
       "value": "<font size=\"5\"><b>Coliseum Champion</b></font size=>"
      }
     },
     "c92fab44854b4502b05a9b4849871ebb": {
      "model_module": "@jupyter-widgets/controls",
      "model_module_version": "1.5.0",
      "model_name": "LabelModel",
      "state": {
       "layout": "IPY_MODEL_da0000dcf4fc4a53a80f22a3b833936a",
       "style": "IPY_MODEL_3945faae9e494a38b35af445ffe9a1a4",
       "value": "    Titans defeated (358/100)"
      }
     },
     "c9f147a6f9fd4f598fd44d14cb0f2541": {
      "model_module": "@jupyter-widgets/controls",
      "model_module_version": "1.5.0",
      "model_name": "ButtonModel",
      "state": {
       "layout": "IPY_MODEL_6dcce46feea542969ab9788ff9e495b1",
       "style": "IPY_MODEL_092030dbd1bf4a15bc756efc1ab0ac57"
      }
     },
     "ca09cfeb23ce499cb5d076025cc40155": {
      "model_module": "@jupyter-widgets/controls",
      "model_module_version": "1.5.0",
      "model_name": "LabelModel",
      "state": {
       "layout": "IPY_MODEL_19de1c43adce45ccac1fdc34f06d8e95",
       "style": "IPY_MODEL_6e119d117868444496e6c6a2d2d0516f",
       "value": "   objective"
      }
     },
     "ca44451492e2454b9d581c88fef83b4e": {
      "model_module": "@jupyter-widgets/base",
      "model_module_version": "1.2.0",
      "model_name": "LayoutModel",
      "state": {}
     },
     "ca4b6117e8974823a63847e2b2946cd7": {
      "model_module": "@jupyter-widgets/base",
      "model_module_version": "1.2.0",
      "model_name": "LayoutModel",
      "state": {
       "order": "-1",
       "overflow": "visible",
       "padding": "1px",
       "width": "0px"
      }
     },
     "ca4ba2d262de43bf82867acbb18a4134": {
      "model_module": "@jupyter-widgets/base",
      "model_module_version": "1.2.0",
      "model_name": "LayoutModel",
      "state": {
       "height": "32px",
       "overflow": "visible",
       "width": "100%"
      }
     },
     "ca9b07818e764374ba45680d2bd6dd8e": {
      "model_module": "@jupyter-widgets/controls",
      "model_module_version": "1.5.0",
      "model_name": "DescriptionStyleModel",
      "state": {
       "description_width": ""
      }
     },
     "caa53c9423c94d0e8014c6511202bfc4": {
      "model_module": "@jupyter-widgets/base",
      "model_module_version": "1.2.0",
      "model_name": "LayoutModel",
      "state": {}
     },
     "cac00faaad73412ea01127f8d62d28ff": {
      "model_module": "@jupyter-widgets/base",
      "model_module_version": "1.2.0",
      "model_name": "LayoutModel",
      "state": {
       "order": "-1",
       "overflow": "visible",
       "padding": "1px",
       "width": "0px"
      }
     },
     "cb0d9df803be4695875f86cb5b65c730": {
      "model_module": "@jupyter-widgets/controls",
      "model_module_version": "1.5.0",
      "model_name": "DescriptionStyleModel",
      "state": {
       "description_width": ""
      }
     },
     "cb4303287c2242c19ca1cd5e1d0d630b": {
      "model_module": "@jupyter-widgets/base",
      "model_module_version": "1.2.0",
      "model_name": "LayoutModel",
      "state": {
       "display": "flex"
      }
     },
     "cb4f937077b840bdb338b6548ccfba14": {
      "model_module": "@jupyter-widgets/controls",
      "model_module_version": "1.5.0",
      "model_name": "DescriptionStyleModel",
      "state": {
       "description_width": ""
      }
     },
     "cb872943be3a42f98af8aadd65abafbd": {
      "model_module": "@jupyter-widgets/controls",
      "model_module_version": "1.5.0",
      "model_name": "VBoxModel",
      "state": {
       "children": [
        "IPY_MODEL_f5efcb5351504d6d96d3d05161101f47",
        "IPY_MODEL_7ee9bb7de2b14aec9fc423d21447e36c",
        "IPY_MODEL_8c7a9115fa1f457f806f64119ca75f0a",
        "IPY_MODEL_7dda8cd606674ff295b1a66c8761be33",
        "IPY_MODEL_dedd0cbb637d45de9abd9c5da0f5e9e4",
        "IPY_MODEL_f91aad98d2974d5a9e56f5ab8e707d5a"
       ],
       "layout": "IPY_MODEL_e27818e4d28e48a5a627ade606431e1b"
      }
     },
     "cb923f611fc843e2955149c9b2e92126": {
      "model_module": "@jupyter-widgets/controls",
      "model_module_version": "1.5.0",
      "model_name": "VBoxModel",
      "state": {
       "children": [
        "IPY_MODEL_a8dde52e31a748cea75d1cec313c6882",
        "IPY_MODEL_08d0c7818b16445c88af298a444a8c76",
        "IPY_MODEL_c185e58ab87b4895b0b5ed727ac1aff8",
        "IPY_MODEL_f250c15e02934e1f8703b96922c40049",
        "IPY_MODEL_6a867da3768f490881356e5649bc168b",
        "IPY_MODEL_6382069d8b6d4dbeb69ef5458dd571bd"
       ],
       "layout": "IPY_MODEL_5386960d91f540b8a79a417e077e349a"
      }
     },
     "cb9b54bdcf2749708514986ebdc9458b": {
      "model_module": "@jupyter-widgets/controls",
      "model_module_version": "1.5.0",
      "model_name": "DropdownModel",
      "state": {
       "_options_labels": [
        "Any"
       ],
       "index": 0,
       "layout": "IPY_MODEL_7de46c5a10344d3c9922541b9839e37d",
       "style": "IPY_MODEL_85edd4acac1a46be82ea0bbfd2565db2"
      }
     },
     "cbaa32fb68e54c2fa7c4f79e745de130": {
      "model_module": "@jupyter-widgets/base",
      "model_module_version": "1.2.0",
      "model_name": "LayoutModel",
      "state": {
       "height": "32px",
       "order": "-2",
       "width": "32px"
      }
     },
     "cc038b9010154581a7431dd1d9df2bd8": {
      "model_module": "@jupyter-widgets/base",
      "model_module_version": "1.2.0",
      "model_name": "LayoutModel",
      "state": {
       "display": "flex"
      }
     },
     "cc16ea0d98b64a1a8dff5dc006c2ad48": {
      "model_module": "@jupyter-widgets/base",
      "model_module_version": "1.2.0",
      "model_name": "LayoutModel",
      "state": {
       "display": "none"
      }
     },
     "cc202efaabcf4bc0816ad096477dd867": {
      "model_module": "@jupyter-widgets/controls",
      "model_module_version": "1.5.0",
      "model_name": "ButtonModel",
      "state": {
       "layout": "IPY_MODEL_7662029fa156496b8a92e6148f8c6f72",
       "style": "IPY_MODEL_d3b9953706e2475b9a15d873baad683a"
      }
     },
     "cc2e00f5e9b6461c9db22c2511438622": {
      "model_module": "@jupyter-widgets/controls",
      "model_module_version": "1.5.0",
      "model_name": "LabelModel",
      "state": {
       "layout": "IPY_MODEL_702142ac196a493ca47d29fe7b2b14d9",
       "style": "IPY_MODEL_dbb0736af0594f3c81b33157c19e2b7a",
       "value": "In order to authenticate, sign in with Bungie to get an authentication code"
      }
     },
     "ccc2090e725e42369d5cd8520e57a7c0": {
      "model_module": "@jupyter-widgets/controls",
      "model_module_version": "1.5.0",
      "model_name": "CheckboxModel",
      "state": {
       "description": "Hide Complete Objectives",
       "disabled": false,
       "layout": "IPY_MODEL_85ade1cbd3b14abb817855a5702fa4c0",
       "style": "IPY_MODEL_582f29c0951d4908a1c9270e4793bb34",
       "value": true
      }
     },
     "cd069262b2a74944908c196c4f7f34a9": {
      "model_module": "@jupyter-widgets/controls",
      "model_module_version": "1.5.0",
      "model_name": "DescriptionStyleModel",
      "state": {
       "description_width": ""
      }
     },
     "cd0fb2245a314101a4fc9fe6b3151c45": {
      "model_module": "@jupyter-widgets/base",
      "model_module_version": "1.2.0",
      "model_name": "LayoutModel",
      "state": {
       "height": "32px",
       "overflow": "visible",
       "width": "100%"
      }
     },
     "cd559a9d97334876956916739b1503d7": {
      "model_module": "@jupyter-widgets/controls",
      "model_module_version": "1.5.0",
      "model_name": "DropdownModel",
      "state": {
       "_options_labels": [
        "Any",
        "Patrol",
        "Gambit",
        "Reckoning",
        "Menagerie",
        "Vex Offensive",
        "Raid",
        "Strike",
        "Nightfall",
        "Crucible",
        "Forge"
       ],
       "disabled": true,
       "index": 9,
       "layout": "IPY_MODEL_c0ff6cd43c2e4d2b84792f5130ac642d",
       "style": "IPY_MODEL_5e1770955e884e039b4a4e408c41d8a2"
      }
     },
     "cd640fcc833a4c25b6ee4fdce8b0fa8d": {
      "model_module": "@jupyter-widgets/controls",
      "model_module_version": "1.5.0",
      "model_name": "ButtonModel",
      "state": {
       "description": "EDIT",
       "layout": "IPY_MODEL_7d257c71fb5448fa8e3f63a461f2fbc7",
       "style": "IPY_MODEL_15465c71b8eb41e18cd383cc7427f665"
      }
     },
     "cd6bb97514a345749ca4259a2404e466": {
      "model_module": "@jupyter-widgets/base",
      "model_module_version": "1.2.0",
      "model_name": "LayoutModel",
      "state": {
       "order": "-1",
       "overflow": "visible",
       "padding": "1px",
       "width": "0px"
      }
     },
     "cd7ebe14de004ac2b78b67733964c88a": {
      "model_module": "@jupyter-widgets/controls",
      "model_module_version": "1.5.0",
      "model_name": "HBoxModel",
      "state": {
       "children": [
        "IPY_MODEL_e1e14de2e08940af9f9a3d6ed0619a86",
        "IPY_MODEL_44db5d286fad43c7a3d0c0b080d1b794",
        "IPY_MODEL_93adef229dcd42eda3fe7fdb9a9b1514",
        "IPY_MODEL_13ca67e0036a47ea8221c886d5d546e6"
       ],
       "layout": "IPY_MODEL_472ebca3f58d48ebbc43e75f2eb25176"
      }
     },
     "cdf087d378864219927f47b5d208e650": {
      "model_module": "@jupyter-widgets/base",
      "model_module_version": "1.2.0",
      "model_name": "LayoutModel",
      "state": {
       "display": "none"
      }
     },
     "ce8a26d576534c23b85f3a1007e05b40": {
      "model_module": "@jupyter-widgets/controls",
      "model_module_version": "1.5.0",
      "model_name": "DescriptionStyleModel",
      "state": {
       "description_width": ""
      }
     },
     "cf0d573b243f486d8b7dde4ef5a9265d": {
      "model_module": "@jupyter-widgets/controls",
      "model_module_version": "1.5.0",
      "model_name": "LabelModel",
      "state": {
       "layout": "IPY_MODEL_6230d392e8d246038db81e5c20c9c0a9",
       "style": "IPY_MODEL_568988e4140a4a05b96ab854e8af732e",
       "value": "    Glory ranks (2/5)"
      }
     },
     "cf0dc928095948f18368072e91636d61": {
      "model_module": "@jupyter-widgets/controls",
      "model_module_version": "1.5.0",
      "model_name": "DescriptionStyleModel",
      "state": {
       "description_width": ""
      }
     },
     "cf179f8b596a41f2baae65816cbda80d": {
      "model_module": "@jupyter-widgets/controls",
      "model_module_version": "1.5.0",
      "model_name": "ButtonStyleModel",
      "state": {}
     },
     "cf565f36dbf64e3bb99cb60e57fd62b3": {
      "model_module": "@jupyter-widgets/controls",
      "model_module_version": "1.5.0",
      "model_name": "ProgressStyleModel",
      "state": {
       "description_width": ""
      }
     },
     "cf9c00bae0cf418e9f5752ed1f1108e2": {
      "model_module": "@jupyter-widgets/base",
      "model_module_version": "1.2.0",
      "model_name": "LayoutModel",
      "state": {
       "display": "none"
      }
     },
     "cfcc22c1385c437293ab702072299a51": {
      "model_module": "@jupyter-widgets/base",
      "model_module_version": "1.2.0",
      "model_name": "LayoutModel",
      "state": {
       "display": "flex",
       "width": "60px"
      }
     },
     "cffefd18a73f4317814d1a18c0bf2c0a": {
      "model_module": "@jupyter-widgets/base",
      "model_module_version": "1.2.0",
      "model_name": "LayoutModel",
      "state": {
       "height": "32px",
       "order": "-2",
       "width": "32px"
      }
     },
     "d08a8a0319ef418693d4231f3ff838d8": {
      "model_module": "@jupyter-widgets/controls",
      "model_module_version": "1.5.0",
      "model_name": "HBoxModel",
      "state": {
       "children": [
        "IPY_MODEL_d7462bf4597946ee8202f3a55cdfbd73",
        "IPY_MODEL_41eaab85a8c74e529368846300186ca6",
        "IPY_MODEL_07b184d7299d4756ae9f7c2d5cf79d17",
        "IPY_MODEL_577daa5fabd34dfd97c24afce601d62c"
       ],
       "layout": "IPY_MODEL_65a1f97857d5423dab8205584a95aa5b"
      }
     },
     "d0cc0817b90f43a1a5ba65b16fec5904": {
      "model_module": "@jupyter-widgets/controls",
      "model_module_version": "1.5.0",
      "model_name": "ButtonModel",
      "state": {
       "layout": "IPY_MODEL_ac18b70fd4d64b14b8daa0118093b8e6",
       "style": "IPY_MODEL_a5d0d697988d4af1b39262de559301ae"
      }
     },
     "d1f6e724c67c4f60b6150051c10a5482": {
      "model_module": "@jupyter-widgets/controls",
      "model_module_version": "1.5.0",
      "model_name": "ProgressStyleModel",
      "state": {
       "description_width": ""
      }
     },
     "d239c31680964572b48942c7ccc01be6": {
      "model_module": "@jupyter-widgets/controls",
      "model_module_version": "1.5.0",
      "model_name": "ProgressStyleModel",
      "state": {
       "description_width": ""
      }
     },
     "d271472c18254375a35fc40b508a2f49": {
      "model_module": "@jupyter-widgets/base",
      "model_module_version": "1.2.0",
      "model_name": "LayoutModel",
      "state": {
       "order": "-1",
       "overflow": "visible",
       "padding": "1px",
       "width": "0px"
      }
     },
     "d28484684e8a4495be1b7e41e362d966": {
      "model_module": "@jupyter-widgets/controls",
      "model_module_version": "1.5.0",
      "model_name": "DropdownModel",
      "state": {
       "_options_labels": [
        "Any",
        "Arc",
        "Solar",
        "Void"
       ],
       "index": 0,
       "layout": "IPY_MODEL_7de46c5a10344d3c9922541b9839e37d",
       "style": "IPY_MODEL_2661e9fee2e54f19a774611cbba1b26c"
      }
     },
     "d294390e3e944c0bb42ede6c5ce826f2": {
      "model_module": "@jupyter-widgets/controls",
      "model_module_version": "1.5.0",
      "model_name": "DropdownModel",
      "state": {
       "_options_labels": [
        "Any",
        "Titan",
        "Hunter",
        "Warlock"
       ],
       "index": 0,
       "layout": "IPY_MODEL_7de46c5a10344d3c9922541b9839e37d",
       "style": "IPY_MODEL_e65e5ab8862540d890151ba753d635ad"
      }
     },
     "d2ae2c90851c40649243d4dca4b94a8e": {
      "model_module": "@jupyter-widgets/controls",
      "model_module_version": "1.5.0",
      "model_name": "LabelModel",
      "state": {
       "layout": "IPY_MODEL_0cbe548ffce048c2ae5cc9714c6cc20d",
       "style": "IPY_MODEL_a29fa721ed324e83ac814d8e17bf6e1f",
       "value": "    Crests recovered (16/25)"
      }
     },
     "d2b3591b5e6348d8b410a69ccafaed24": {
      "model_module": "@jupyter-widgets/controls",
      "model_module_version": "1.5.0",
      "model_name": "ButtonModel",
      "state": {
       "layout": "IPY_MODEL_a47d4c5da8cb470daa09427288650983",
       "style": "IPY_MODEL_a4a04569fa694710942d1375fec5dc1e"
      }
     },
     "d2d164c027154ca3829175ed449312f5": {
      "model_module": "@jupyter-widgets/base",
      "model_module_version": "1.2.0",
      "model_name": "LayoutModel",
      "state": {
       "order": "-1",
       "overflow": "visible",
       "padding": "1px",
       "width": "0px"
      }
     },
     "d2d28e6ff05845ac8104dd5e8d4437d8": {
      "model_module": "@jupyter-widgets/controls",
      "model_module_version": "1.5.0",
      "model_name": "IntProgressModel",
      "state": {
       "bar_style": "success",
       "layout": "IPY_MODEL_180046457c2f4f948297a16815e44253",
       "style": "IPY_MODEL_ded6b95e1e4f42909f01f7d8a4a17024",
       "value": 100
      }
     },
     "d2d977b406524aa3bfd604b459b5c312": {
      "model_module": "@jupyter-widgets/base",
      "model_module_version": "1.2.0",
      "model_name": "LayoutModel",
      "state": {
       "height": "32px",
       "overflow": "visible",
       "width": "100%"
      }
     },
     "d2dffb60b5e248eeacf6fbdc932b5067": {
      "model_module": "@jupyter-widgets/controls",
      "model_module_version": "1.5.0",
      "model_name": "DescriptionStyleModel",
      "state": {
       "description_width": ""
      }
     },
     "d2e6f0519e74425396a75b0f5c0cfa67": {
      "model_module": "@jupyter-widgets/base",
      "model_module_version": "1.2.0",
      "model_name": "LayoutModel",
      "state": {
       "overflow": "visible",
       "width": "100%"
      }
     },
     "d2e84a3cef19400db17c116e23c0482e": {
      "model_module": "@jupyter-widgets/controls",
      "model_module_version": "1.5.0",
      "model_name": "IntProgressModel",
      "state": {
       "layout": "IPY_MODEL_bb3382fffa084a1fb5a367981997e103",
       "max": 1000,
       "style": "IPY_MODEL_09b9c4d452ed422caa507f8af93c139b",
       "value": 289
      }
     },
     "d30bc5d7c6c34046ba540cf4918e89b5": {
      "model_module": "@jupyter-widgets/controls",
      "model_module_version": "1.5.0",
      "model_name": "ButtonModel",
      "state": {
       "layout": "IPY_MODEL_8647ef1585e94261b163eff79e34129d",
       "style": "IPY_MODEL_c37bed140402486fbd33557e820aadf1"
      }
     },
     "d33954be0a054f47ad480e6aa99973fa": {
      "model_module": "@jupyter-widgets/base",
      "model_module_version": "1.2.0",
      "model_name": "LayoutModel",
      "state": {
       "height": "32px",
       "overflow": "visible",
       "width": "100%"
      }
     },
     "d34ba39333fb4f679a061003927500f4": {
      "model_module": "@jupyter-widgets/base",
      "model_module_version": "1.2.0",
      "model_name": "LayoutModel",
      "state": {
       "height": "32px",
       "overflow": "visible",
       "width": "100%"
      }
     },
     "d36e60bc6f6043f0a0691601a40ee215": {
      "model_module": "@jupyter-widgets/controls",
      "model_module_version": "1.5.0",
      "model_name": "ButtonModel",
      "state": {
       "description": "EDIT",
       "layout": "IPY_MODEL_4d967f0b73d4496c99535162168bc0f7",
       "style": "IPY_MODEL_8059b280c3a447528821a9133e787dc4"
      }
     },
     "d377373770d84192aad6281f93085ad1": {
      "model_module": "@jupyter-widgets/controls",
      "model_module_version": "1.5.0",
      "model_name": "ButtonStyleModel",
      "state": {}
     },
     "d37781b80e93442f9765296558ff0877": {
      "model_module": "@jupyter-widgets/base",
      "model_module_version": "1.2.0",
      "model_name": "LayoutModel",
      "state": {
       "order": "-1",
       "overflow": "visible",
       "padding": "1px",
       "width": "0px"
      }
     },
     "d395d0ca626042648d5d20bce5c173ad": {
      "model_module": "@jupyter-widgets/controls",
      "model_module_version": "1.5.0",
      "model_name": "LabelModel",
      "state": {
       "layout": "IPY_MODEL_8762703e2e27430ba32bb8f9d40d78f7",
       "style": "IPY_MODEL_e9e0e3b945304959a37672c8d67af618",
       "value": "    Grenade kills (289/1000)"
      }
     },
     "d3a987b7441e4f0cb273654c354a26bd": {
      "model_module": "@jupyter-widgets/controls",
      "model_module_version": "1.5.0",
      "model_name": "DescriptionStyleModel",
      "state": {
       "description_width": ""
      }
     },
     "d3afe383c923497a809a2c875ccbb6e0": {
      "model_module": "@jupyter-widgets/controls",
      "model_module_version": "1.5.0",
      "model_name": "DescriptionStyleModel",
      "state": {
       "description_width": ""
      }
     },
     "d3b9953706e2475b9a15d873baad683a": {
      "model_module": "@jupyter-widgets/controls",
      "model_module_version": "1.5.0",
      "model_name": "ButtonStyleModel",
      "state": {}
     },
     "d3d3edd49f9941a49dd713eb4589dc31": {
      "model_module": "@jupyter-widgets/base",
      "model_module_version": "1.2.0",
      "model_name": "LayoutModel",
      "state": {
       "display": "flex",
       "width": "60px"
      }
     },
     "d3dbfffcbeae4678a56c32f4366468a1": {
      "model_module": "@jupyter-widgets/controls",
      "model_module_version": "1.5.0",
      "model_name": "DescriptionStyleModel",
      "state": {
       "description_width": ""
      }
     },
     "d439a7bf1c284fae81d0329f73e2e082": {
      "model_module": "@jupyter-widgets/controls",
      "model_module_version": "1.5.0",
      "model_name": "ProgressStyleModel",
      "state": {
       "description_width": ""
      }
     },
     "d4b8af9d9e354047a759e799c4097983": {
      "model_module": "@jupyter-widgets/base",
      "model_module_version": "1.2.0",
      "model_name": "LayoutModel",
      "state": {
       "height": "32px",
       "order": "-2",
       "width": "32px"
      }
     },
     "d51c46f6b9c044e29954f154fe9b8548": {
      "model_module": "@jupyter-widgets/controls",
      "model_module_version": "1.5.0",
      "model_name": "HBoxModel",
      "state": {
       "children": [
        "IPY_MODEL_d0cc0817b90f43a1a5ba65b16fec5904",
        "IPY_MODEL_775f7e55322f4682be976809932fce6f",
        "IPY_MODEL_a84976cc8bc04d6d9f806afc54a4aa8b",
        "IPY_MODEL_03bb5e57099c4d73ac4a66b7da2ba399"
       ],
       "layout": "IPY_MODEL_3c2393d874a747b7bdeb807bc29aff49"
      }
     },
     "d54f846a555143e386656b29d9c9f6ac": {
      "model_module": "@jupyter-widgets/controls",
      "model_module_version": "1.5.0",
      "model_name": "ButtonModel",
      "state": {
       "description": "EDIT",
       "layout": "IPY_MODEL_5119ee67fa6a4db6beb5ee93a3e1d70f",
       "style": "IPY_MODEL_aad1db93ed75406ea1777790f38573d3"
      }
     },
     "d573c1351c8d41e99686a0f45937f8c0": {
      "model_module": "@jupyter-widgets/controls",
      "model_module_version": "1.5.0",
      "model_name": "ProgressStyleModel",
      "state": {
       "description_width": ""
      }
     },
     "d58650e5866646d2b75e2f8f43e5b772": {
      "model_module": "@jupyter-widgets/controls",
      "model_module_version": "1.5.0",
      "model_name": "IntProgressModel",
      "state": {
       "layout": "IPY_MODEL_1514a66e6d8245958f32e8db5bfe4212",
       "max": 500,
       "style": "IPY_MODEL_69fa5777c0614187b7732e3ba262d78c"
      }
     },
     "d5c04e877811433f8e52a7e447bee96f": {
      "model_module": "@jupyter-widgets/controls",
      "model_module_version": "1.5.0",
      "model_name": "ButtonModel",
      "state": {
       "description": "EDIT",
       "layout": "IPY_MODEL_7ad41b88f750481bb44113a6069ab953",
       "style": "IPY_MODEL_39afac0ea7cd4008b55544178d739ba1"
      }
     },
     "d5e62b1facbd4d70b318cfa20c87508e": {
      "model_module": "@jupyter-widgets/controls",
      "model_module_version": "1.5.0",
      "model_name": "DescriptionStyleModel",
      "state": {
       "description_width": ""
      }
     },
     "d5f16654808245d9aef2c607b8fc3221": {
      "model_module": "@jupyter-widgets/controls",
      "model_module_version": "1.5.0",
      "model_name": "LabelModel",
      "state": {
       "layout": "IPY_MODEL_986435387616442c85d2e0d4e58ac832",
       "style": "IPY_MODEL_d821d7566afb4b64b6f9a8a61ddf5ff6",
       "value": "    Vaults hacked (20/15)"
      }
     },
     "d608e3589e3d40b1a0f9014dc2757a1e": {
      "model_module": "@jupyter-widgets/base",
      "model_module_version": "1.2.0",
      "model_name": "LayoutModel",
      "state": {
       "overflow": "visible",
       "width": "100%"
      }
     },
     "d60c5585424046ca890de0dfd09c0e10": {
      "model_module": "@jupyter-widgets/base",
      "model_module_version": "1.2.0",
      "model_name": "LayoutModel",
      "state": {
       "justify_items": "flex-end",
       "padding": "5px",
       "width": "200px"
      }
     },
     "d65f63fb085d422d91509f1543a0a3c6": {
      "model_module": "@jupyter-widgets/base",
      "model_module_version": "1.2.0",
      "model_name": "LayoutModel",
      "state": {
       "border": "3px solid white",
       "display": "flex",
       "flex": "1 1 0%",
       "margin": "10px",
       "min_width": "400px",
       "overflow": "visible",
       "padding": "10px",
       "width": "auto"
      }
     },
     "d6691a8bec5540dcb0889bd7b095b14c": {
      "model_module": "@jupyter-widgets/controls",
      "model_module_version": "1.5.0",
      "model_name": "ButtonStyleModel",
      "state": {}
     },
     "d6e0608f1f82467b9031e2b944ca7cb9": {
      "model_module": "@jupyter-widgets/controls",
      "model_module_version": "1.5.0",
      "model_name": "ButtonModel",
      "state": {
       "description": "Previous",
       "disabled": true,
       "layout": "IPY_MODEL_142754811853410fa22aea0d08d17f4e",
       "style": "IPY_MODEL_4fd5a475de0540f2bae07811668ea533"
      }
     },
     "d7462bf4597946ee8202f3a55cdfbd73": {
      "model_module": "@jupyter-widgets/controls",
      "model_module_version": "1.5.0",
      "model_name": "ButtonModel",
      "state": {
       "button_style": "success",
       "disabled": true,
       "layout": "IPY_MODEL_78824e1e19ea431a802726e88f0fe6d2",
       "style": "IPY_MODEL_87e9b357997244e9949c79969900bdf8"
      }
     },
     "d7706e0bd1c841cb8b0005db32bb1107": {
      "model_module": "@jupyter-widgets/controls",
      "model_module_version": "1.5.0",
      "model_name": "DescriptionStyleModel",
      "state": {
       "description_width": ""
      }
     },
     "d7c0bb26da5e4fa395cdde515942b96d": {
      "model_module": "@jupyter-widgets/controls",
      "model_module_version": "1.5.0",
      "model_name": "IntProgressModel",
      "state": {
       "bar_style": "success",
       "layout": "IPY_MODEL_1d90307c1ca9455aa1b84d26900ed0c4",
       "style": "IPY_MODEL_5a2fab973b01416bb29cb865014dec38",
       "value": 100
      }
     },
     "d7d03a51a6ab40caa826be2ed4363b1c": {
      "model_module": "@jupyter-widgets/base",
      "model_module_version": "1.2.0",
      "model_name": "LayoutModel",
      "state": {
       "border": "1px solid white",
       "min_width": "250px",
       "padding": "10px",
       "width": "15%"
      }
     },
     "d7db7eadfd1042a1acc7ddb280da02de": {
      "model_module": "@jupyter-widgets/controls",
      "model_module_version": "1.5.0",
      "model_name": "DescriptionStyleModel",
      "state": {
       "description_width": ""
      }
     },
     "d7e0204f95784b7493eb49edb70d33e5": {
      "model_module": "@jupyter-widgets/base",
      "model_module_version": "1.2.0",
      "model_name": "LayoutModel",
      "state": {
       "overflow": "visible",
       "width": "100%"
      }
     },
     "d7f87badac504152b827b0ae10c334aa": {
      "model_module": "@jupyter-widgets/controls",
      "model_module_version": "1.5.0",
      "model_name": "ProgressStyleModel",
      "state": {
       "description_width": ""
      }
     },
     "d821d7566afb4b64b6f9a8a61ddf5ff6": {
      "model_module": "@jupyter-widgets/controls",
      "model_module_version": "1.5.0",
      "model_name": "DescriptionStyleModel",
      "state": {
       "description_width": ""
      }
     },
     "d82fbeca2f3a47d79f67dfbfde2ca0cc": {
      "model_module": "@jupyter-widgets/base",
      "model_module_version": "1.2.0",
      "model_name": "LayoutModel",
      "state": {
       "display": "none"
      }
     },
     "d87946eea9a44c34af68b0146ed56c4d": {
      "model_module": "@jupyter-widgets/base",
      "model_module_version": "1.2.0",
      "model_name": "LayoutModel",
      "state": {
       "display": "flex",
       "width": "60px"
      }
     },
     "d8dffbc744174177b35f33f46618de8c": {
      "model_module": "@jupyter-widgets/controls",
      "model_module_version": "1.5.0",
      "model_name": "ButtonModel",
      "state": {
       "layout": "IPY_MODEL_97530d4e33db4321a31973a7bcab26b4",
       "style": "IPY_MODEL_4683995a479a400587efa962b9ba04c7"
      }
     },
     "d93064d0011d4a73a7dd3f1a9b5c3d5c": {
      "model_module": "@jupyter-widgets/controls",
      "model_module_version": "1.5.0",
      "model_name": "ButtonModel",
      "state": {
       "layout": "IPY_MODEL_742549c233504979aa8c86c225cd6b0b",
       "style": "IPY_MODEL_a84e5fdad3d54b0e8223322213be2406"
      }
     },
     "d96d53064e864fb9916e96f69834c01f": {
      "model_module": "@jupyter-widgets/controls",
      "model_module_version": "1.5.0",
      "model_name": "TextModel",
      "state": {
       "description": "Code:",
       "layout": "IPY_MODEL_5bd505dfeade4241a370d70756e7a6e7",
       "style": "IPY_MODEL_03b032f8ea234ee1873fadfda4ba6d70",
       "value": "c53dba43ddd430bdeb2b7413506cf5ba"
      }
     },
     "d97cc53f86124e9f99d191698b458753": {
      "model_module": "@jupyter-widgets/base",
      "model_module_version": "1.2.0",
      "model_name": "LayoutModel",
      "state": {
       "display": "none"
      }
     },
     "d98607e16598403c933c01ac9f8c6451": {
      "model_module": "@jupyter-widgets/controls",
      "model_module_version": "1.5.0",
      "model_name": "ButtonModel",
      "state": {
       "layout": "IPY_MODEL_fa1695557ac4446da1575c49d076b7a7",
       "style": "IPY_MODEL_bd7c194d99674dabbaf78ed1d7a66270"
      }
     },
     "d98c62a83ed94c7d83506a50e75de383": {
      "model_module": "@jupyter-widgets/controls",
      "model_module_version": "1.5.0",
      "model_name": "DescriptionStyleModel",
      "state": {
       "description_width": ""
      }
     },
     "d99da8a0662240f3bd12c8e4fce5694d": {
      "model_module": "@jupyter-widgets/controls",
      "model_module_version": "1.5.0",
      "model_name": "ButtonModel",
      "state": {
       "layout": "IPY_MODEL_cffefd18a73f4317814d1a18c0bf2c0a",
       "style": "IPY_MODEL_71ef480b2e0c421a9b4f8c895bc18497"
      }
     },
     "d9a8e04caa6c429b8fb3eba6cc795b07": {
      "model_module": "@jupyter-widgets/base",
      "model_module_version": "1.2.0",
      "model_name": "LayoutModel",
      "state": {
       "display": "flex",
       "flex_flow": "row wrap"
      }
     },
     "d9c172f1fe73449e858b1b54a7282ec4": {
      "model_module": "@jupyter-widgets/controls",
      "model_module_version": "1.5.0",
      "model_name": "HBoxModel",
      "state": {
       "children": [
        "IPY_MODEL_a4284b3677994a5db897477fe86195f9",
        "IPY_MODEL_86f49664baeb45c09c197e2457b1aa65",
        "IPY_MODEL_dd7439c0ff7249dda61e4548ad1f8efe",
        "IPY_MODEL_606ed147798d48c2876ebc71db40c39f"
       ],
       "layout": "IPY_MODEL_3ce112d9119a42d584072e03456c49ee"
      }
     },
     "d9d2585d09364e779751501ddd58a784": {
      "model_module": "@jupyter-widgets/controls",
      "model_module_version": "1.5.0",
      "model_name": "DescriptionStyleModel",
      "state": {
       "description_width": ""
      }
     },
     "d9dba19d1ad3424792d8788ebd59f22d": {
      "model_module": "@jupyter-widgets/controls",
      "model_module_version": "1.5.0",
      "model_name": "DescriptionStyleModel",
      "state": {
       "description_width": ""
      }
     },
     "da0000dcf4fc4a53a80f22a3b833936a": {
      "model_module": "@jupyter-widgets/base",
      "model_module_version": "1.2.0",
      "model_name": "LayoutModel",
      "state": {
       "order": "-1",
       "overflow": "visible",
       "padding": "1px",
       "width": "0px"
      }
     },
     "da2910b3634c4b9bba97b3d278a06c4c": {
      "model_module": "@jupyter-widgets/controls",
      "model_module_version": "1.5.0",
      "model_name": "DescriptionStyleModel",
      "state": {
       "description_width": ""
      }
     },
     "da5d925bfe9147c4aff48cc96b288869": {
      "model_module": "@jupyter-widgets/base",
      "model_module_version": "1.2.0",
      "model_name": "LayoutModel",
      "state": {
       "height": "32px",
       "order": "-2",
       "width": "32px"
      }
     },
     "da61309254bf484b80b5735a193a8b51": {
      "model_module": "@jupyter-widgets/controls",
      "model_module_version": "1.5.0",
      "model_name": "HTMLModel",
      "state": {
       "layout": "IPY_MODEL_42ddc67505dd44549e20aeea324f6e41",
       "style": "IPY_MODEL_252bc2c49fad4e829f45a6a2a900698c",
       "value": "<font size=\"1\">Triumphs/Lore/Dusk and Dawn/Revelation/Time Lapse</font size=>"
      }
     },
     "daa5efe25ed048cd99452c54ede3e100": {
      "model_module": "@jupyter-widgets/base",
      "model_module_version": "1.2.0",
      "model_name": "LayoutModel",
      "state": {
       "height": "32px",
       "overflow": "visible",
       "width": "100%"
      }
     },
     "daac150008cb40d8a298dd89c039329e": {
      "model_module": "@jupyter-widgets/controls",
      "model_module_version": "1.5.0",
      "model_name": "ButtonModel",
      "state": {
       "layout": "IPY_MODEL_0f2d3706bf1e4a3f8b58d75a738db789",
       "style": "IPY_MODEL_03c49e8b24f54cbfb3a11d84e6f28759"
      }
     },
     "dac4bc79ed55439f8a17dcde16ab2d0a": {
      "model_module": "@jupyter-widgets/controls",
      "model_module_version": "1.5.0",
      "model_name": "ButtonModel",
      "state": {
       "description": "EDIT",
       "layout": "IPY_MODEL_deb2dca95d7240a3876d0d1c531d33ea",
       "style": "IPY_MODEL_7a50395ee1554680a79f9749cdf38f0c"
      }
     },
     "dad08a62b802463ba8d1366f4c85058c": {
      "model_module": "@jupyter-widgets/controls",
      "model_module_version": "1.5.0",
      "model_name": "LabelModel",
      "state": {
       "layout": "IPY_MODEL_bffc772ed5b945f6929806060d7801ee",
       "style": "IPY_MODEL_58d5b8fe08e348d88d3ad6962cddebf7",
       "value": "    Grenade kills (309/500)"
      }
     },
     "dad592ce8df94e80b64d40266051aaae": {
      "model_module": "@jupyter-widgets/controls",
      "model_module_version": "1.5.0",
      "model_name": "DescriptionStyleModel",
      "state": {
       "description_width": ""
      }
     },
     "db092fee06c548548c0311b834db1a66": {
      "model_module": "@jupyter-widgets/controls",
      "model_module_version": "1.5.0",
      "model_name": "HTMLModel",
      "state": {
       "layout": "IPY_MODEL_d9a8e04caa6c429b8fb3eba6cc795b07",
       "style": "IPY_MODEL_6a998565cac94eec8a4779e8ce4f00ba",
       "value": "<i>As an Invader, defeat seven Guardians in a single invasion before Drifter brings you back to your side.</i>"
      }
     },
     "db4839bcb3b0443cbb0fc7dbb485afd3": {
      "model_module": "@jupyter-widgets/controls",
      "model_module_version": "1.5.0",
      "model_name": "DescriptionStyleModel",
      "state": {
       "description_width": ""
      }
     },
     "db4fac97d4e742e19fb12d31cc946942": {
      "model_module": "@jupyter-widgets/base",
      "model_module_version": "1.2.0",
      "model_name": "LayoutModel",
      "state": {
       "display": "flex"
      }
     },
     "db54e659fb7a41e4a26db2b632ba8453": {
      "model_module": "@jupyter-widgets/controls",
      "model_module_version": "1.5.0",
      "model_name": "HBoxModel",
      "state": {
       "children": [
        "IPY_MODEL_d30bc5d7c6c34046ba540cf4918e89b5",
        "IPY_MODEL_1915d305c1e940cba299889ba8e0e21f",
        "IPY_MODEL_fff04dbbb93e4e1192f97cd29c8fc276",
        "IPY_MODEL_f7af0117ceb74d9fb0d82969bb889fc7"
       ],
       "layout": "IPY_MODEL_83e1ac57600946f5bc17bb2a147db0de"
      }
     },
     "dbb0736af0594f3c81b33157c19e2b7a": {
      "model_module": "@jupyter-widgets/controls",
      "model_module_version": "1.5.0",
      "model_name": "DescriptionStyleModel",
      "state": {
       "description_width": ""
      }
     },
     "dbcbd4b7e08e4f7a92345010bcb4e77f": {
      "model_module": "@jupyter-widgets/base",
      "model_module_version": "1.2.0",
      "model_name": "LayoutModel",
      "state": {
       "height": "32px",
       "overflow": "visible",
       "width": "100%"
      }
     },
     "dbe1a04ddce6463a8ec11463e1ec563c": {
      "model_module": "@jupyter-widgets/controls",
      "model_module_version": "1.5.0",
      "model_name": "IntProgressModel",
      "state": {
       "bar_style": "success",
       "layout": "IPY_MODEL_4c01c2fc79ca45ae889b1dc4455938c0",
       "max": 500,
       "style": "IPY_MODEL_6fdd98b610214d5694d9634d04953789",
       "value": 500
      }
     },
     "dbff83aaec9d4efd849f0a00338fda6b": {
      "model_module": "@jupyter-widgets/base",
      "model_module_version": "1.2.0",
      "model_name": "LayoutModel",
      "state": {
       "height": "32px",
       "overflow": "visible",
       "width": "100%"
      }
     },
     "dc1da5497fd34031944e43f86e215e46": {
      "model_module": "@jupyter-widgets/controls",
      "model_module_version": "1.5.0",
      "model_name": "HBoxModel",
      "state": {
       "children": [
        "IPY_MODEL_81f95a6bfc5448b8bef502b18d1c5f5c",
        "IPY_MODEL_81b3a015289848c1a8c26c4e8238ea04",
        "IPY_MODEL_3d62e5295c4049b0b2e75baf7b40fa12",
        "IPY_MODEL_f8ec12976d15452faeb78055c8a468c4"
       ],
       "layout": "IPY_MODEL_9ce0b87a886247228b057c567b30b7ac"
      }
     },
     "dc3965b5cccd447a8cc9903be185c1c4": {
      "model_module": "@jupyter-widgets/base",
      "model_module_version": "1.2.0",
      "model_name": "LayoutModel",
      "state": {
       "display": "none"
      }
     },
     "dc8219b513794f9f990b19347fb86213": {
      "model_module": "@jupyter-widgets/controls",
      "model_module_version": "1.5.0",
      "model_name": "HBoxModel",
      "state": {
       "children": [
        "IPY_MODEL_6d126bf7679e4295acd62130d3805e12",
        "IPY_MODEL_4d367e5bbbf9460d8b921d02090d547b",
        "IPY_MODEL_c89a45e19f2e42218ce17c6063254db7",
        "IPY_MODEL_fbbd1390de89418c8d1adcc0ba2b3efa"
       ],
       "layout": "IPY_MODEL_c3edc6c59235462f9888f67bb18f2a69"
      }
     },
     "dc8308a466d241f68b6a7855d6f077c4": {
      "model_module": "@jupyter-widgets/base",
      "model_module_version": "1.2.0",
      "model_name": "LayoutModel",
      "state": {
       "display": "flex",
       "width": "60px"
      }
     },
     "dceb11cdabb64adc82531b8395b44f67": {
      "model_module": "@jupyter-widgets/controls",
      "model_module_version": "1.5.0",
      "model_name": "HTMLModel",
      "state": {
       "layout": "IPY_MODEL_95594ce8fa2649ce826d3745acd6e7b1",
       "style": "IPY_MODEL_d3afe383c923497a809a2c875ccbb6e0",
       "value": "<font size=\"5\"><b>Become Legend</b></font size=>"
      }
     },
     "dcff1a96f1e9498eaf04ab555d53c01d": {
      "model_module": "@jupyter-widgets/controls",
      "model_module_version": "1.5.0",
      "model_name": "ButtonModel",
      "state": {
       "layout": "IPY_MODEL_1759656cae534fd289f1a13988670865",
       "style": "IPY_MODEL_4d74efe0b6354d7ea27cf1d27d9c3458"
      }
     },
     "dd08596d99e347e9bbda7d5381071ce0": {
      "model_module": "@jupyter-widgets/base",
      "model_module_version": "1.2.0",
      "model_name": "LayoutModel",
      "state": {
       "overflow": "visible",
       "width": "100%"
      }
     },
     "dd216008845d477d9605b5b853d8cb3c": {
      "model_module": "@jupyter-widgets/controls",
      "model_module_version": "1.5.0",
      "model_name": "IntProgressModel",
      "state": {
       "layout": "IPY_MODEL_0a1c25d1dba54d0f9fa55a2bbb8c4a4b",
       "style": "IPY_MODEL_cf565f36dbf64e3bb99cb60e57fd62b3",
       "value": 30
      }
     },
     "dd376273314248a1a9d0ba261928e1b9": {
      "model_module": "@jupyter-widgets/base",
      "model_module_version": "1.2.0",
      "model_name": "LayoutModel",
      "state": {
       "height": "32px",
       "order": "-2",
       "width": "32px"
      }
     },
     "dd7439c0ff7249dda61e4548ad1f8efe": {
      "model_module": "@jupyter-widgets/controls",
      "model_module_version": "1.5.0",
      "model_name": "LabelModel",
      "state": {
       "layout": "IPY_MODEL_d37781b80e93442f9765296558ff0877",
       "style": "IPY_MODEL_4de3ab89ca094154baeb7d3914f9f304",
       "value": "   objective"
      }
     },
     "dd7870dc169b492da412e380e51a201e": {
      "model_module": "@jupyter-widgets/controls",
      "model_module_version": "1.5.0",
      "model_name": "HTMLModel",
      "state": {
       "layout": "IPY_MODEL_15931611938843f68b6365be479fc541",
       "style": "IPY_MODEL_7afda0a4427d47e995cbac558b637e2a",
       "value": "<i>Defeated Skolas in the Prison of Elders in Destiny 1.</i>"
      }
     },
     "dda60bd0de6d41a984355d3d9c3111a4": {
      "model_module": "@jupyter-widgets/base",
      "model_module_version": "1.2.0",
      "model_name": "LayoutModel",
      "state": {
       "order": "-1",
       "overflow": "visible",
       "padding": "1px",
       "width": "0px"
      }
     },
     "ddbe65fb165348c28e3f42952ff18575": {
      "model_module": "@jupyter-widgets/base",
      "model_module_version": "1.2.0",
      "model_name": "LayoutModel",
      "state": {
       "display": "flex",
       "width": "60px"
      }
     },
     "de0da8f184004b6bbed6cedafc4fe27e": {
      "model_module": "@jupyter-widgets/controls",
      "model_module_version": "1.5.0",
      "model_name": "DescriptionStyleModel",
      "state": {
       "description_width": ""
      }
     },
     "de63760fb5474935a309863ca684af9a": {
      "model_module": "@jupyter-widgets/controls",
      "model_module_version": "1.5.0",
      "model_name": "LabelModel",
      "state": {
       "layout": "IPY_MODEL_6c16058d040c45b88008b7c59a060bec",
       "style": "IPY_MODEL_2da04d93cb4248c88a03381757d84f68",
       "value": "   objective"
      }
     },
     "de86fdb5b3304d97b59f5853a6a5bdf4": {
      "model_module": "@jupyter-widgets/base",
      "model_module_version": "1.2.0",
      "model_name": "LayoutModel",
      "state": {
       "height": "32px",
       "overflow": "visible",
       "width": "100%"
      }
     },
     "de91a99fa87b4161a329616d56bbe68a": {
      "model_module": "@jupyter-widgets/base",
      "model_module_version": "1.2.0",
      "model_name": "LayoutModel",
      "state": {
       "display": "none"
      }
     },
     "deb2dca95d7240a3876d0d1c531d33ea": {
      "model_module": "@jupyter-widgets/base",
      "model_module_version": "1.2.0",
      "model_name": "LayoutModel",
      "state": {
       "display": "flex",
       "width": "60px"
      }
     },
     "debee0c09b3b40cbad6440fd8e88ba6b": {
      "model_module": "@jupyter-widgets/controls",
      "model_module_version": "1.5.0",
      "model_name": "ButtonModel",
      "state": {
       "description": "Refresh",
       "layout": "IPY_MODEL_b99651a5eaeb4933ac7f5c9fa330b481",
       "style": "IPY_MODEL_392ced3237d0436199c3f5893619fe87"
      }
     },
     "ded6b95e1e4f42909f01f7d8a4a17024": {
      "model_module": "@jupyter-widgets/controls",
      "model_module_version": "1.5.0",
      "model_name": "ProgressStyleModel",
      "state": {
       "description_width": ""
      }
     },
     "dedd0cbb637d45de9abd9c5da0f5e9e4": {
      "model_module": "@jupyter-widgets/controls",
      "model_module_version": "1.5.0",
      "model_name": "HBoxModel",
      "state": {
       "children": [
        "IPY_MODEL_d2b3591b5e6348d8b410a69ccafaed24",
        "IPY_MODEL_9f98a65adb2a4acc8aa68d0054ca50bd",
        "IPY_MODEL_0e417dc30330452fa2cb668e760530d1",
        "IPY_MODEL_b78d7f81cd934b52affda4e6e9529814"
       ],
       "layout": "IPY_MODEL_ea4a0c0ef0584af4bd941d6200e4087c"
      }
     },
     "df63c5cbcf2840f4b65797d07179f9c5": {
      "model_module": "@jupyter-widgets/controls",
      "model_module_version": "1.5.0",
      "model_name": "ButtonModel",
      "state": {
       "description": "EDIT",
       "layout": "IPY_MODEL_d87946eea9a44c34af68b0146ed56c4d",
       "style": "IPY_MODEL_1841c217f92c48a89f0ad2378122ca16"
      }
     },
     "df6d437de8cb48289076a3dcc3a3c1e5": {
      "model_module": "@jupyter-widgets/controls",
      "model_module_version": "1.5.0",
      "model_name": "ButtonModel",
      "state": {
       "description": "EDIT",
       "layout": "IPY_MODEL_5224a634f7704c148b2c757b8aca03bb",
       "style": "IPY_MODEL_4403c8c715a44b63aa493ca15ec75354"
      }
     },
     "dfbbd1e55c9043b2b3a96750945f8e51": {
      "model_module": "@jupyter-widgets/controls",
      "model_module_version": "1.5.0",
      "model_name": "ButtonModel",
      "state": {
       "layout": "IPY_MODEL_78126c8ed54f47deb45c1d9122154e6a",
       "style": "IPY_MODEL_85dc3b46cd1444749f5f025ef44501d2"
      }
     },
     "dfc61fbab8a44edab24b8e5fe9250074": {
      "model_module": "@jupyter-widgets/controls",
      "model_module_version": "1.5.0",
      "model_name": "ButtonStyleModel",
      "state": {}
     },
     "dfd629796f2741a19700379f3ebb5561": {
      "model_module": "@jupyter-widgets/base",
      "model_module_version": "1.2.0",
      "model_name": "LayoutModel",
      "state": {
       "height": "32px",
       "order": "-2",
       "width": "32px"
      }
     },
     "dfdc766bc3dc47a585cbd6037c203464": {
      "model_module": "@jupyter-widgets/controls",
      "model_module_version": "1.5.0",
      "model_name": "ButtonStyleModel",
      "state": {}
     },
     "e00ae95dc66f47ddb00a660009738dc0": {
      "model_module": "@jupyter-widgets/controls",
      "model_module_version": "1.5.0",
      "model_name": "ButtonModel",
      "state": {
       "description": "EDIT",
       "layout": "IPY_MODEL_0aa05ee2ed524ed4b553747be9398a3a",
       "style": "IPY_MODEL_9fac99bb2e2f4a70a365978c94d96c38"
      }
     },
     "e00e4f4e27314e43a444e6ccf53e8dbc": {
      "model_module": "@jupyter-widgets/controls",
      "model_module_version": "1.5.0",
      "model_name": "HBoxModel",
      "state": {
       "children": [
        "IPY_MODEL_3ab00a0bef934681ba36f2fbcb50c0a3",
        "IPY_MODEL_d2d28e6ff05845ac8104dd5e8d4437d8",
        "IPY_MODEL_7c25aa517b524ddabaad46fdbeb1e4c2",
        "IPY_MODEL_37b6a7004607421597c59cff5b405106"
       ],
       "layout": "IPY_MODEL_9d6933a269a14e54903cef25b8aed4f9"
      }
     },
     "e012d8470db749fa804ef52efe453d16": {
      "model_module": "@jupyter-widgets/controls",
      "model_module_version": "1.5.0",
      "model_name": "IntProgressModel",
      "state": {
       "layout": "IPY_MODEL_9b4557a67c1e4d6fa70261e733a1af0d",
       "style": "IPY_MODEL_2d87cde9530f4b4b9178180e0c09dbeb",
       "value": 30
      }
     },
     "e01ab7362c3f469da8256644abc0be67": {
      "model_module": "@jupyter-widgets/controls",
      "model_module_version": "1.5.0",
      "model_name": "DescriptionStyleModel",
      "state": {
       "description_width": ""
      }
     },
     "e0381b119cc94a18a9351669b0eab2ba": {
      "model_module": "@jupyter-widgets/controls",
      "model_module_version": "1.5.0",
      "model_name": "ButtonStyleModel",
      "state": {}
     },
     "e0a6662a0f6648e9a9c665e7d75284f9": {
      "model_module": "@jupyter-widgets/controls",
      "model_module_version": "1.5.0",
      "model_name": "IntProgressModel",
      "state": {
       "layout": "IPY_MODEL_bc4c0a92c3f84001b9d2ea76f7d72c07",
       "style": "IPY_MODEL_8f0d0510fe6e4a2a925b0ed904a33009",
       "value": 30
      }
     },
     "e0bc846dfc6c419796452c8f6171b37f": {
      "model_module": "@jupyter-widgets/controls",
      "model_module_version": "1.5.0",
      "model_name": "VBoxModel",
      "state": {
       "children": [
        "IPY_MODEL_b60bcb9076c24836889dc0588c168d23",
        "IPY_MODEL_2a7b5538ca5e43f280c2184b52ae40c1",
        "IPY_MODEL_b6fe9fbb90ed4662abe863193e639e85",
        "IPY_MODEL_dc1da5497fd34031944e43f86e215e46",
        "IPY_MODEL_d51c46f6b9c044e29954f154fe9b8548",
        "IPY_MODEL_94df44d4a90a4bdea9dc1e2d665c5b17"
       ],
       "layout": "IPY_MODEL_3320edce0a3f4099ae413184c1f93d48"
      }
     },
     "e0c77a082cd84d289daf4375ed38b519": {
      "model_module": "@jupyter-widgets/controls",
      "model_module_version": "1.5.0",
      "model_name": "LabelModel",
      "state": {
       "layout": "IPY_MODEL_2a61ce2c8cfb490290350d35aeb00ba7",
       "style": "IPY_MODEL_46959ca0807b4532aecb9330c43ad41b",
       "value": "    Enemies defeated (391/1000)"
      }
     },
     "e0cceee8623d46bc85b92ac823eee103": {
      "model_module": "@jupyter-widgets/controls",
      "model_module_version": "1.5.0",
      "model_name": "ButtonStyleModel",
      "state": {}
     },
     "e11e854402e5444a92ba1190362f79b9": {
      "model_module": "@jupyter-widgets/base",
      "model_module_version": "1.2.0",
      "model_name": "LayoutModel",
      "state": {
       "height": "32px",
       "overflow": "visible",
       "width": "100%"
      }
     },
     "e1c642868a76432da6f02aee4f64d0ed": {
      "model_module": "@jupyter-widgets/controls",
      "model_module_version": "1.5.0",
      "model_name": "ButtonModel",
      "state": {
       "layout": "IPY_MODEL_4c36633f01734014a1a3a997ff5d8d9e",
       "style": "IPY_MODEL_6d5bb961f73747da91cf0f057e8e4c75"
      }
     },
     "e1e14de2e08940af9f9a3d6ed0619a86": {
      "model_module": "@jupyter-widgets/controls",
      "model_module_version": "1.5.0",
      "model_name": "ButtonModel",
      "state": {
       "button_style": "danger",
       "disabled": true,
       "layout": "IPY_MODEL_cbaa32fb68e54c2fa7c4f79e745de130",
       "style": "IPY_MODEL_2c8eb61d13734fa7a4b5fddb52904b85"
      }
     },
     "e236902f43af40039433ecd4a8019461": {
      "model_module": "@jupyter-widgets/controls",
      "model_module_version": "1.5.0",
      "model_name": "ButtonStyleModel",
      "state": {}
     },
     "e248ce4add204dd5a7888bf297757d1e": {
      "model_module": "@jupyter-widgets/base",
      "model_module_version": "1.2.0",
      "model_name": "LayoutModel",
      "state": {
       "height": "32px",
       "order": "-2",
       "width": "32px"
      }
     },
     "e2627e4b452542c7a9d58f8c563851c5": {
      "model_module": "@jupyter-widgets/base",
      "model_module_version": "1.2.0",
      "model_name": "LayoutModel",
      "state": {}
     },
     "e277a7dad16544a6a758b7f3d03ca1bd": {
      "model_module": "@jupyter-widgets/controls",
      "model_module_version": "1.5.0",
      "model_name": "ButtonModel",
      "state": {
       "layout": "IPY_MODEL_37d2429c083440708ffb8bc5295b1a73",
       "style": "IPY_MODEL_b3d4b82fef5a4ae5930425a62e3a1082"
      }
     },
     "e27818e4d28e48a5a627ade606431e1b": {
      "model_module": "@jupyter-widgets/base",
      "model_module_version": "1.2.0",
      "model_name": "LayoutModel",
      "state": {}
     },
     "e27a081ad9f845cfae29274f9a87b726": {
      "model_module": "@jupyter-widgets/controls",
      "model_module_version": "1.5.0",
      "model_name": "ButtonModel",
      "state": {
       "description": "EDIT",
       "layout": "IPY_MODEL_eb85eafe75134dcaaadabf5f8eb827be",
       "style": "IPY_MODEL_14ce12422a3d4a868d7aaece758e4b3a"
      }
     },
     "e28293cdbce54d7f845c519eb931ea3f": {
      "model_module": "@jupyter-widgets/controls",
      "model_module_version": "1.5.0",
      "model_name": "DescriptionStyleModel",
      "state": {
       "description_width": ""
      }
     },
     "e2e894819cf3434b82ae2f8613e7fc45": {
      "model_module": "@jupyter-widgets/controls",
      "model_module_version": "1.5.0",
      "model_name": "DescriptionStyleModel",
      "state": {
       "description_width": ""
      }
     },
     "e31742096710427a830c3b6c7857a289": {
      "model_module": "@jupyter-widgets/controls",
      "model_module_version": "1.5.0",
      "model_name": "ButtonModel",
      "state": {
       "layout": "IPY_MODEL_c918611bad014d9f88a7bb1c8b41d107",
       "style": "IPY_MODEL_6e600a36621441bdbbf4477ac1ecf30d"
      }
     },
     "e328ef88264f40a1b460294be1875a67": {
      "model_module": "@jupyter-widgets/controls",
      "model_module_version": "1.5.0",
      "model_name": "ButtonStyleModel",
      "state": {}
     },
     "e3497c2386e5458fb6ef287b87fc5b4e": {
      "model_module": "@jupyter-widgets/controls",
      "model_module_version": "1.5.0",
      "model_name": "IntProgressModel",
      "state": {
       "layout": "IPY_MODEL_de86fdb5b3304d97b59f5853a6a5bdf4",
       "max": 25,
       "style": "IPY_MODEL_e5816a7f21b548b991d29bdb9a73508c",
       "value": 19
      }
     },
     "e36721ae737a414fa9e015344045a8e5": {
      "model_module": "@jupyter-widgets/controls",
      "model_module_version": "1.5.0",
      "model_name": "LabelModel",
      "state": {
       "layout": "IPY_MODEL_5396479b7da34b02bf02f96a72009267",
       "style": "IPY_MODEL_1a68d81bac8d40a0bf59095ce5e99e12",
       "value": "    Blood for Blood Medals (10/5)"
      }
     },
     "e376309ad5624127aab5a177acbe3739": {
      "model_module": "@jupyter-widgets/controls",
      "model_module_version": "1.5.0",
      "model_name": "ButtonModel",
      "state": {
       "description": "EDIT",
       "layout": "IPY_MODEL_ace1a3b1dfe44eb29cf7f4d4351ff1a5",
       "style": "IPY_MODEL_b0ec1c535b2c46af84c01ea88d728906"
      }
     },
     "e383870754c44e4e897fecd40af0e29a": {
      "model_module": "@jupyter-widgets/base",
      "model_module_version": "1.2.0",
      "model_name": "LayoutModel",
      "state": {}
     },
     "e3a22b10fe1c44ea934bec0530611e92": {
      "model_module": "@jupyter-widgets/controls",
      "model_module_version": "1.5.0",
      "model_name": "LabelModel",
      "state": {
       "layout": "IPY_MODEL_f2f6190a9ae64219a78f4badc1113ff7",
       "style": "IPY_MODEL_237aaeceb90446c0be8825e94a8a371f",
       "value": "    Enemies defeated (391/5000)"
      }
     },
     "e3b9dfa9399246139e10c61a98a92654": {
      "model_module": "@jupyter-widgets/base",
      "model_module_version": "1.2.0",
      "model_name": "LayoutModel",
      "state": {
       "height": "32px",
       "order": "-2",
       "width": "32px"
      }
     },
     "e3e28c3c854c465d9292b475388c9655": {
      "model_module": "@jupyter-widgets/controls",
      "model_module_version": "1.5.0",
      "model_name": "ProgressStyleModel",
      "state": {
       "description_width": ""
      }
     },
     "e3f8f57034354015be1edaf5ffd236d5": {
      "model_module": "@jupyter-widgets/controls",
      "model_module_version": "1.5.0",
      "model_name": "ProgressStyleModel",
      "state": {
       "description_width": ""
      }
     },
     "e43e4146d8c24f6aa1659ccce409972f": {
      "model_module": "@jupyter-widgets/base",
      "model_module_version": "1.2.0",
      "model_name": "LayoutModel",
      "state": {
       "display": "flex",
       "width": "60px"
      }
     },
     "e442cccc48174573bab8e64a9acfca93": {
      "model_module": "@jupyter-widgets/base",
      "model_module_version": "1.2.0",
      "model_name": "LayoutModel",
      "state": {
       "display": "none"
      }
     },
     "e4adeac498064b4bb593a35cb5c68b60": {
      "model_module": "@jupyter-widgets/controls",
      "model_module_version": "1.5.0",
      "model_name": "ButtonStyleModel",
      "state": {}
     },
     "e4c8e472a7364739ac924fe75ebb468f": {
      "model_module": "@jupyter-widgets/controls",
      "model_module_version": "1.5.0",
      "model_name": "HBoxModel",
      "state": {
       "children": [
        "IPY_MODEL_d99da8a0662240f3bd12c8e4fce5694d",
        "IPY_MODEL_4091235e368e40c1a4df5de33039a36f",
        "IPY_MODEL_92c65aa5feeb48678b0768a0e6a4deb7",
        "IPY_MODEL_ba92186d1728409993c2b026b5c5c18c"
       ],
       "layout": "IPY_MODEL_aa7974a49fea4248ba77752a10ecf088"
      }
     },
     "e542a1fce3e94e1dbc632e27680ab78b": {
      "model_module": "@jupyter-widgets/controls",
      "model_module_version": "1.5.0",
      "model_name": "ButtonModel",
      "state": {
       "layout": "IPY_MODEL_34c7939461e54ca2b78b6c930112ffbf",
       "style": "IPY_MODEL_baf228082a5b499083ed158c635b31b6"
      }
     },
     "e5816a7f21b548b991d29bdb9a73508c": {
      "model_module": "@jupyter-widgets/controls",
      "model_module_version": "1.5.0",
      "model_name": "ProgressStyleModel",
      "state": {
       "description_width": ""
      }
     },
     "e5939f76172540da9f957b11886074ca": {
      "model_module": "@jupyter-widgets/base",
      "model_module_version": "1.2.0",
      "model_name": "LayoutModel",
      "state": {
       "display": "flex",
       "width": "60px"
      }
     },
     "e5bae12a9a5c4e159e41df30e77052e7": {
      "model_module": "@jupyter-widgets/base",
      "model_module_version": "1.2.0",
      "model_name": "LayoutModel",
      "state": {
       "display": "flex"
      }
     },
     "e5f15d2bea15418a8011d427a62d1b90": {
      "model_module": "@jupyter-widgets/controls",
      "model_module_version": "1.5.0",
      "model_name": "ProgressStyleModel",
      "state": {
       "description_width": ""
      }
     },
     "e5f351b0631242e1b575543e05a6ca6b": {
      "model_module": "@jupyter-widgets/controls",
      "model_module_version": "1.5.0",
      "model_name": "DescriptionStyleModel",
      "state": {
       "description_width": ""
      }
     },
     "e5f6b04b5cbf4466870b65f5381eb0ef": {
      "model_module": "@jupyter-widgets/base",
      "model_module_version": "1.2.0",
      "model_name": "LayoutModel",
      "state": {
       "border": "3px solid white",
       "display": "flex",
       "flex": "1 1 0%",
       "margin": "10px",
       "min_width": "400px",
       "overflow": "visible",
       "padding": "10px",
       "width": "auto"
      }
     },
     "e65e5ab8862540d890151ba753d635ad": {
      "model_module": "@jupyter-widgets/controls",
      "model_module_version": "1.5.0",
      "model_name": "DescriptionStyleModel",
      "state": {
       "description_width": ""
      }
     },
     "e660ffdf39bb495ca18279dc3c448c1a": {
      "model_module": "@jupyter-widgets/base",
      "model_module_version": "1.2.0",
      "model_name": "LayoutModel",
      "state": {
       "overflow": "visible",
       "width": "100%"
      }
     },
     "e6bd625a26164069ada5d0ef8ce406ed": {
      "model_module": "@jupyter-widgets/controls",
      "model_module_version": "1.5.0",
      "model_name": "ButtonStyleModel",
      "state": {}
     },
     "e6e7280d955f4ceba269c1b6d8e4ad71": {
      "model_module": "@jupyter-widgets/controls",
      "model_module_version": "1.5.0",
      "model_name": "DescriptionStyleModel",
      "state": {
       "description_width": ""
      }
     },
     "e6ff2cdcd38447d38d9a1ee31058c27c": {
      "model_module": "@jupyter-widgets/controls",
      "model_module_version": "1.5.0",
      "model_name": "ButtonStyleModel",
      "state": {}
     },
     "e705d990021542ebb4132cb62fc416fa": {
      "model_module": "@jupyter-widgets/controls",
      "model_module_version": "1.5.0",
      "model_name": "DescriptionStyleModel",
      "state": {
       "description_width": ""
      }
     },
     "e7135eb320fb40639e8bada114388e05": {
      "model_module": "@jupyter-widgets/controls",
      "model_module_version": "1.5.0",
      "model_name": "ButtonStyleModel",
      "state": {}
     },
     "e7a4ebbee0774c73abd4a06c4ef89ae5": {
      "model_module": "@jupyter-widgets/controls",
      "model_module_version": "1.5.0",
      "model_name": "ProgressStyleModel",
      "state": {
       "description_width": ""
      }
     },
     "e7c2ab1d0722468f96f3e2b6b207dbf8": {
      "model_module": "@jupyter-widgets/base",
      "model_module_version": "1.2.0",
      "model_name": "LayoutModel",
      "state": {
       "border": "3px solid white",
       "display": "flex",
       "flex": "1 1 0%",
       "margin": "10px",
       "min_width": "400px",
       "overflow": "visible",
       "padding": "10px",
       "width": "auto"
      }
     },
     "e7e5ec4cb38d4e488177d33813afd25f": {
      "model_module": "@jupyter-widgets/controls",
      "model_module_version": "1.5.0",
      "model_name": "ButtonStyleModel",
      "state": {}
     },
     "e840e2dcd41a4bc29d0cd21c8fc6fa3c": {
      "model_module": "@jupyter-widgets/controls",
      "model_module_version": "1.5.0",
      "model_name": "ButtonStyleModel",
      "state": {}
     },
     "e841a56a4aa44554b32aea3346ec9702": {
      "model_module": "@jupyter-widgets/base",
      "model_module_version": "1.2.0",
      "model_name": "LayoutModel",
      "state": {
       "display": "flex",
       "width": "60px"
      }
     },
     "e84959216a6f4cd0afade254f602c7b2": {
      "model_module": "@jupyter-widgets/controls",
      "model_module_version": "1.5.0",
      "model_name": "LabelModel",
      "state": {
       "layout": "IPY_MODEL_04d4527d01c5451fab245319072e23e6",
       "style": "IPY_MODEL_4d4b094de7404767a16cfe630ebaeace",
       "value": "   objective"
      }
     },
     "e893dd89cf3e438cb5a0a502bf8d2bc4": {
      "model_module": "@jupyter-widgets/controls",
      "model_module_version": "1.5.0",
      "model_name": "ButtonModel",
      "state": {
       "layout": "IPY_MODEL_45185a55656c42d882f9131ef4b40da6",
       "style": "IPY_MODEL_46295047bfd54cc0a82c7d61cec596b1"
      }
     },
     "e8c22539fa624aa1b681f0fc9a5a3af4": {
      "model_module": "@jupyter-widgets/base",
      "model_module_version": "1.2.0",
      "model_name": "LayoutModel",
      "state": {
       "height": "32px",
       "overflow": "visible",
       "width": "100%"
      }
     },
     "e91750f5006d43d0b571df07cff92763": {
      "model_module": "@jupyter-widgets/controls",
      "model_module_version": "1.5.0",
      "model_name": "DescriptionStyleModel",
      "state": {
       "description_width": ""
      }
     },
     "e95375ecfca8444fb27ee0e7d089f043": {
      "model_module": "@jupyter-widgets/controls",
      "model_module_version": "1.5.0",
      "model_name": "IntProgressModel",
      "state": {
       "layout": "IPY_MODEL_ab6bf93de7f14abaa91d74246e20256c",
       "style": "IPY_MODEL_60924766d48f41698a4657bd12076a5a",
       "value": 30
      }
     },
     "e96b90c698714bfaac44c6adfc0f990f": {
      "model_module": "@jupyter-widgets/base",
      "model_module_version": "1.2.0",
      "model_name": "LayoutModel",
      "state": {
       "display": "none"
      }
     },
     "e9ab2cc8a60a441d99805841a919a3e7": {
      "model_module": "@jupyter-widgets/controls",
      "model_module_version": "1.5.0",
      "model_name": "ButtonStyleModel",
      "state": {}
     },
     "e9cc8e73330642cd8e788b15cf7707d8": {
      "model_module": "@jupyter-widgets/controls",
      "model_module_version": "1.5.0",
      "model_name": "ButtonStyleModel",
      "state": {}
     },
     "e9e0e3b945304959a37672c8d67af618": {
      "model_module": "@jupyter-widgets/controls",
      "model_module_version": "1.5.0",
      "model_name": "DescriptionStyleModel",
      "state": {
       "description_width": ""
      }
     },
     "e9f63fc2ed174d74bb005e40feeff69b": {
      "model_module": "@jupyter-widgets/controls",
      "model_module_version": "1.5.0",
      "model_name": "ProgressStyleModel",
      "state": {
       "description_width": ""
      }
     },
     "e9fd919356f44228a8bb4d2f3cb8a9f5": {
      "model_module": "@jupyter-widgets/base",
      "model_module_version": "1.2.0",
      "model_name": "LayoutModel",
      "state": {
       "display": "none"
      }
     },
     "ea1e70abf0014d83a0323aa636300065": {
      "model_module": "@jupyter-widgets/controls",
      "model_module_version": "1.5.0",
      "model_name": "ButtonStyleModel",
      "state": {}
     },
     "ea2be8cd9b534636be3ffa1a94391399": {
      "model_module": "@jupyter-widgets/controls",
      "model_module_version": "1.5.0",
      "model_name": "LabelModel",
      "state": {
       "layout": "IPY_MODEL_3d13bf6f1ded4175a2e7bc2acbf10b36",
       "style": "IPY_MODEL_9ced495223cf46d1a42e2fae7e402cad",
       "value": "   objective"
      }
     },
     "ea4a0c0ef0584af4bd941d6200e4087c": {
      "model_module": "@jupyter-widgets/base",
      "model_module_version": "1.2.0",
      "model_name": "LayoutModel",
      "state": {
       "display": "none"
      }
     },
     "ea6b33cae4284a4f8fcf76639076a885": {
      "model_module": "@jupyter-widgets/controls",
      "model_module_version": "1.5.0",
      "model_name": "ButtonModel",
      "state": {
       "button_style": "success",
       "disabled": true,
       "layout": "IPY_MODEL_81d143108f024bdd8bb2923e49ac95ac",
       "style": "IPY_MODEL_87f6bd5f64944f1da3277b889262160b"
      }
     },
     "ea8bb2765b1146018ee8e9e2ca74d344": {
      "model_module": "@jupyter-widgets/base",
      "model_module_version": "1.2.0",
      "model_name": "LayoutModel",
      "state": {
       "display": "flex"
      }
     },
     "eac5362b60f34810a39e6f6e5d5ea1a9": {
      "model_module": "@jupyter-widgets/controls",
      "model_module_version": "1.5.0",
      "model_name": "ProgressStyleModel",
      "state": {
       "description_width": ""
      }
     },
     "eaf1a167d8c841fdbf93b8b58f053852": {
      "model_module": "@jupyter-widgets/controls",
      "model_module_version": "1.5.0",
      "model_name": "ButtonStyleModel",
      "state": {}
     },
     "eb85eafe75134dcaaadabf5f8eb827be": {
      "model_module": "@jupyter-widgets/base",
      "model_module_version": "1.2.0",
      "model_name": "LayoutModel",
      "state": {
       "display": "flex",
       "width": "60px"
      }
     },
     "ebacd92049b643ca95f30e577802e8ac": {
      "model_module": "@jupyter-widgets/controls",
      "model_module_version": "1.5.0",
      "model_name": "LabelModel",
      "state": {
       "layout": "IPY_MODEL_36b79c3a70454918ac8678643402cc7c",
       "style": "IPY_MODEL_c2888047e0764db0b3bd704e1672ba43",
       "value": "   objective"
      }
     },
     "ec0a5f89f339497dbb5957b2b9ecd346": {
      "model_module": "@jupyter-widgets/base",
      "model_module_version": "1.2.0",
      "model_name": "LayoutModel",
      "state": {
       "display": "none"
      }
     },
     "ec2b8eaca6024e6fa6ad6a402833649d": {
      "model_module": "@jupyter-widgets/base",
      "model_module_version": "1.2.0",
      "model_name": "LayoutModel",
      "state": {
       "height": "32px",
       "order": "-2",
       "width": "32px"
      }
     },
     "ec39c93dd849427f96bf07a322ba2f7d": {
      "model_module": "@jupyter-widgets/base",
      "model_module_version": "1.2.0",
      "model_name": "LayoutModel",
      "state": {
       "display": "flex",
       "width": "60px"
      }
     },
     "ec9647390eea41928dd6bce439734e24": {
      "model_module": "@jupyter-widgets/controls",
      "model_module_version": "1.5.0",
      "model_name": "ButtonStyleModel",
      "state": {}
     },
     "ec9a332bfee048f1869fce747c05d4cf": {
      "model_module": "@jupyter-widgets/controls",
      "model_module_version": "1.5.0",
      "model_name": "DescriptionStyleModel",
      "state": {
       "description_width": ""
      }
     },
     "ecf2b625f28044c4b8e0e406d4a9a94d": {
      "model_module": "@jupyter-widgets/base",
      "model_module_version": "1.2.0",
      "model_name": "LayoutModel",
      "state": {
       "height": "32px",
       "overflow": "visible",
       "width": "100%"
      }
     },
     "ed550fbc1b8b48bc865e8c4d71eac0d4": {
      "model_module": "@jupyter-widgets/controls",
      "model_module_version": "1.5.0",
      "model_name": "ButtonStyleModel",
      "state": {}
     },
     "ed60605ee9e44c7ba5f0d391f7272551": {
      "model_module": "@jupyter-widgets/controls",
      "model_module_version": "1.5.0",
      "model_name": "LabelModel",
      "state": {
       "layout": "IPY_MODEL_a750b554e4d541e4b97b7c17d1f970a3",
       "style": "IPY_MODEL_9e7a6b73f568445b8e253c0d7384d7cc",
       "value": "    Challenge completed (0/1)"
      }
     },
     "ed62e12e20984374bc3032e17031e2af": {
      "model_module": "@jupyter-widgets/base",
      "model_module_version": "1.2.0",
      "model_name": "LayoutModel",
      "state": {
       "display": "flex",
       "flex_flow": "row wrap"
      }
     },
     "ed739ddd2f2844c9a23c5af583db2aea": {
      "model_module": "@jupyter-widgets/controls",
      "model_module_version": "1.5.0",
      "model_name": "ProgressStyleModel",
      "state": {
       "description_width": ""
      }
     },
     "ed7589acdd344758a08c8ed5df3c89d5": {
      "model_module": "@jupyter-widgets/base",
      "model_module_version": "1.2.0",
      "model_name": "LayoutModel",
      "state": {
       "overflow": "visible",
       "width": "100%"
      }
     },
     "edc0e112721f4d41a6e03dbd5da9ec94": {
      "model_module": "@jupyter-widgets/controls",
      "model_module_version": "1.5.0",
      "model_name": "IntProgressModel",
      "state": {
       "layout": "IPY_MODEL_6c7f467a933e44b1a2c7cc3c93d1f933",
       "style": "IPY_MODEL_48a152f350ad41bf9583d9b7114422ab",
       "value": 30
      }
     },
     "edc56df7b3be47d29c0efc5422da4ea1": {
      "model_module": "@jupyter-widgets/controls",
      "model_module_version": "1.5.0",
      "model_name": "ButtonModel",
      "state": {
       "description": "EDIT",
       "layout": "IPY_MODEL_382dc69ea6bc45cc83a25025ed43c4db",
       "style": "IPY_MODEL_35cbc5033a7a4a94bf62b7f06c80e8cf"
      }
     },
     "ee0a16513507407ea08b824af98433b1": {
      "model_module": "@jupyter-widgets/controls",
      "model_module_version": "1.5.0",
      "model_name": "ButtonStyleModel",
      "state": {}
     },
     "ee3295b30b0f439ca2df84c1963b60ed": {
      "model_module": "@jupyter-widgets/controls",
      "model_module_version": "1.5.0",
      "model_name": "ProgressStyleModel",
      "state": {
       "description_width": ""
      }
     },
     "ee3fb5ec450d4c45a6c128dc0db1dcd6": {
      "model_module": "@jupyter-widgets/controls",
      "model_module_version": "1.5.0",
      "model_name": "HBoxModel",
      "state": {
       "children": [
        "IPY_MODEL_a223f19d7ca441328ea127f1ada9de02",
        "IPY_MODEL_bd8f584ed7124544a4190e126cfa1a82",
        "IPY_MODEL_8e0859f56ba64e4bae4c38d297ef697e",
        "IPY_MODEL_283c7359f5af455d87f63e8734144343"
       ],
       "layout": "IPY_MODEL_14e3d10cdd324a85afa95d2b6edb365f"
      }
     },
     "ee60b60b160d4956a474224c4ce34ad2": {
      "model_module": "@jupyter-widgets/base",
      "model_module_version": "1.2.0",
      "model_name": "LayoutModel",
      "state": {
       "height": "32px",
       "order": "-2",
       "width": "32px"
      }
     },
     "eea4f0fc00d94b9494f88793a80579c3": {
      "model_module": "@jupyter-widgets/controls",
      "model_module_version": "1.5.0",
      "model_name": "IntProgressModel",
      "state": {
       "layout": "IPY_MODEL_ae7f639da2694516bd469a8599d75e12",
       "style": "IPY_MODEL_d1f6e724c67c4f60b6150051c10a5482",
       "value": 30
      }
     },
     "eed472822bea4f84ab76b5df069101a5": {
      "model_module": "@jupyter-widgets/base",
      "model_module_version": "1.2.0",
      "model_name": "LayoutModel",
      "state": {
       "height": "32px",
       "overflow": "visible",
       "width": "100%"
      }
     },
     "eef3d542bcc6427e862f6b14a0d0c32e": {
      "model_module": "@jupyter-widgets/base",
      "model_module_version": "1.2.0",
      "model_name": "LayoutModel",
      "state": {
       "height": "32px",
       "order": "-2",
       "width": "32px"
      }
     },
     "ef405c9b788d4e49bd87b4bfe0a01981": {
      "model_module": "@jupyter-widgets/base",
      "model_module_version": "1.2.0",
      "model_name": "LayoutModel",
      "state": {
       "height": "32px",
       "order": "-2",
       "width": "32px"
      }
     },
     "ef4a4d8231084452928b09f4e7ef8c03": {
      "model_module": "@jupyter-widgets/base",
      "model_module_version": "1.2.0",
      "model_name": "LayoutModel",
      "state": {
       "height": "32px",
       "order": "-2",
       "width": "32px"
      }
     },
     "ef5c80700b8f4b90bbc79c41f74392f6": {
      "model_module": "@jupyter-widgets/base",
      "model_module_version": "1.2.0",
      "model_name": "LayoutModel",
      "state": {
       "display": "flex",
       "width": "60px"
      }
     },
     "efd12d8ef6cd4bd490d17cbb91b6d552": {
      "model_module": "@jupyter-widgets/base",
      "model_module_version": "1.2.0",
      "model_name": "LayoutModel",
      "state": {
       "height": "32px",
       "overflow": "visible",
       "width": "100%"
      }
     },
     "f025e3ef55e04923be54033ae7d10f38": {
      "model_module": "@jupyter-widgets/base",
      "model_module_version": "1.2.0",
      "model_name": "LayoutModel",
      "state": {
       "order": "-1",
       "overflow": "visible",
       "padding": "1px",
       "width": "0px"
      }
     },
     "f046312c687646698a9377fb584b3b1f": {
      "model_module": "@jupyter-widgets/controls",
      "model_module_version": "1.5.0",
      "model_name": "LabelModel",
      "state": {
       "layout": "IPY_MODEL_00385af1560648578b99dc20180f41ab",
       "style": "IPY_MODEL_a991143695274ca4b6bed5ba0bb70811",
       "value": "    Crests secured (42/50)"
      }
     },
     "f09082964ad746cf90d6695634336be3": {
      "model_module": "@jupyter-widgets/controls",
      "model_module_version": "1.5.0",
      "model_name": "ButtonStyleModel",
      "state": {}
     },
     "f0b0d486cd4541cf8d164d44312bcba3": {
      "model_module": "@jupyter-widgets/base",
      "model_module_version": "1.2.0",
      "model_name": "LayoutModel",
      "state": {}
     },
     "f0eee08c90ad4ae4a66385f7485f900a": {
      "model_module": "@jupyter-widgets/controls",
      "model_module_version": "1.5.0",
      "model_name": "ProgressStyleModel",
      "state": {
       "description_width": ""
      }
     },
     "f10b8b8636ad47649d9ffa4ac22c35ae": {
      "model_module": "@jupyter-widgets/base",
      "model_module_version": "1.2.0",
      "model_name": "LayoutModel",
      "state": {
       "height": "32px",
       "order": "-2",
       "width": "32px"
      }
     },
     "f130226986cc44dd907b2031c1b83330": {
      "model_module": "@jupyter-widgets/controls",
      "model_module_version": "1.5.0",
      "model_name": "DescriptionStyleModel",
      "state": {
       "description_width": ""
      }
     },
     "f153bb6e26934ce9b022678b5f79c3bb": {
      "model_module": "@jupyter-widgets/controls",
      "model_module_version": "1.5.0",
      "model_name": "IntProgressModel",
      "state": {
       "layout": "IPY_MODEL_50bd76a623504997b1981fd70ff4601c",
       "max": 1,
       "style": "IPY_MODEL_eac5362b60f34810a39e6f6e5d5ea1a9"
      }
     },
     "f1a39093d0ae4c1780eec362eb295252": {
      "model_module": "@jupyter-widgets/controls",
      "model_module_version": "1.5.0",
      "model_name": "ButtonModel",
      "state": {
       "layout": "IPY_MODEL_ef4a4d8231084452928b09f4e7ef8c03",
       "style": "IPY_MODEL_0f3edf4fcdf941d490d7b2018372fe9d"
      }
     },
     "f1c60b2ba24b4124a096a5c0b0b24193": {
      "model_module": "@jupyter-widgets/controls",
      "model_module_version": "1.5.0",
      "model_name": "HBoxModel",
      "state": {
       "children": [
        "IPY_MODEL_9c8facaa30324d1c8a727a4087a8744c",
        "IPY_MODEL_4b4fed0de6814b1aa6e67c0ba07d822b",
        "IPY_MODEL_bcd0a4b665cb45ae9b172a6e67320ac0",
        "IPY_MODEL_73c33f9c88434dfc91883653c1d91ddc"
       ],
       "layout": "IPY_MODEL_f4d9a157af124f2da29e32aca25a5adb"
      }
     },
     "f1cac9010af54913ae4f3adfa65e5879": {
      "model_module": "@jupyter-widgets/controls",
      "model_module_version": "1.5.0",
      "model_name": "ButtonStyleModel",
      "state": {}
     },
     "f1e39a90898f4fdb856b5cac6ab51d52": {
      "model_module": "@jupyter-widgets/controls",
      "model_module_version": "1.5.0",
      "model_name": "DescriptionStyleModel",
      "state": {
       "description_width": ""
      }
     },
     "f21126fad734431492ee2daf829b33d6": {
      "model_module": "@jupyter-widgets/base",
      "model_module_version": "1.2.0",
      "model_name": "LayoutModel",
      "state": {
       "display": "flex",
       "width": "60px"
      }
     },
     "f2252b76d36f4be4a5d0b6f467e7e1d5": {
      "model_module": "@jupyter-widgets/base",
      "model_module_version": "1.2.0",
      "model_name": "LayoutModel",
      "state": {
       "display": "none"
      }
     },
     "f250c15e02934e1f8703b96922c40049": {
      "model_module": "@jupyter-widgets/controls",
      "model_module_version": "1.5.0",
      "model_name": "HBoxModel",
      "state": {
       "children": [
        "IPY_MODEL_54c7205de05e4e6dba3c92650a8052bb",
        "IPY_MODEL_d7c0bb26da5e4fa395cdde515942b96d",
        "IPY_MODEL_7e75a43216904055a1ad8dd453a862d8",
        "IPY_MODEL_e376309ad5624127aab5a177acbe3739"
       ],
       "layout": "IPY_MODEL_ae888074a71a47d18ac009bd96db691f"
      }
     },
     "f263d1f5bc7c426295fdf751594b7701": {
      "model_module": "@jupyter-widgets/controls",
      "model_module_version": "1.5.0",
      "model_name": "DescriptionStyleModel",
      "state": {
       "description_width": ""
      }
     },
     "f27d3de5f7704ba3beb0bc2cb1101956": {
      "model_module": "@jupyter-widgets/controls",
      "model_module_version": "1.5.0",
      "model_name": "ButtonModel",
      "state": {
       "description": "EDIT",
       "layout": "IPY_MODEL_11edc6f9dfb54beb958870045b752640",
       "style": "IPY_MODEL_6e112275657d436cbdf083c2ccd19b42"
      }
     },
     "f2b29070406d47b88209c524b653ea3d": {
      "model_module": "@jupyter-widgets/controls",
      "model_module_version": "1.5.0",
      "model_name": "DescriptionStyleModel",
      "state": {
       "description_width": ""
      }
     },
     "f2f6190a9ae64219a78f4badc1113ff7": {
      "model_module": "@jupyter-widgets/base",
      "model_module_version": "1.2.0",
      "model_name": "LayoutModel",
      "state": {
       "order": "-1",
       "overflow": "visible",
       "padding": "1px",
       "width": "0px"
      }
     },
     "f301f8377b104a7c9676ce98434dde55": {
      "model_module": "@jupyter-widgets/controls",
      "model_module_version": "1.5.0",
      "model_name": "DescriptionStyleModel",
      "state": {
       "description_width": ""
      }
     },
     "f30bb804a97742caaf72a300bc47e72f": {
      "model_module": "@jupyter-widgets/controls",
      "model_module_version": "1.5.0",
      "model_name": "ButtonStyleModel",
      "state": {}
     },
     "f32ab79e874945f4abb18250a9f937ee": {
      "model_module": "@jupyter-widgets/controls",
      "model_module_version": "1.5.0",
      "model_name": "DescriptionStyleModel",
      "state": {
       "description_width": ""
      }
     },
     "f32f0e587793487ba18394e908a0183b": {
      "model_module": "@jupyter-widgets/base",
      "model_module_version": "1.2.0",
      "model_name": "LayoutModel",
      "state": {
       "order": "-1",
       "overflow": "visible",
       "padding": "1px",
       "width": "0px"
      }
     },
     "f342e270eac244b6a0296ae18f6ee3f1": {
      "model_module": "@jupyter-widgets/controls",
      "model_module_version": "1.5.0",
      "model_name": "LabelModel",
      "state": {
       "layout": "IPY_MODEL_a6395cb6545d4a2f8e164ddfb3b6d08b",
       "style": "IPY_MODEL_ad372e14799044ec9df6d6842c842bf9",
       "value": "   objective"
      }
     },
     "f364f83e60b34ed982d4998d4321aa13": {
      "model_module": "@jupyter-widgets/base",
      "model_module_version": "1.2.0",
      "model_name": "LayoutModel",
      "state": {
       "overflow": "visible",
       "width": "100%"
      }
     },
     "f36e48b0e8ae42c8ac17de4bdf13a778": {
      "model_module": "@jupyter-widgets/controls",
      "model_module_version": "1.5.0",
      "model_name": "IntProgressModel",
      "state": {
       "layout": "IPY_MODEL_61fc45402e404b6cb62202a99425faf1",
       "style": "IPY_MODEL_c04ffa062f9c41c38f37074c3cb6ecf6",
       "value": 30
      }
     },
     "f38420bb2f954d74bc151c00df91e0e3": {
      "model_module": "@jupyter-widgets/controls",
      "model_module_version": "1.5.0",
      "model_name": "DescriptionStyleModel",
      "state": {
       "description_width": ""
      }
     },
     "f413ca95cb304649978d11a8e4da347f": {
      "model_module": "@jupyter-widgets/controls",
      "model_module_version": "1.5.0",
      "model_name": "HBoxModel",
      "state": {
       "children": [
        "IPY_MODEL_4d4d7dac4aa24076ae9c6d9731e2c44e",
        "IPY_MODEL_40171530579f42b588a3c9e1c70574f3",
        "IPY_MODEL_469bfc6cc302478981318353ebe3dcaf",
        "IPY_MODEL_f76abe08c7df4e8f9672db30cdfe8d30"
       ],
       "layout": "IPY_MODEL_2c9df7132c264e6586dcf7db0f7450d4"
      }
     },
     "f42f2f5a09b34bd8a0df369f16d3e60f": {
      "model_module": "@jupyter-widgets/base",
      "model_module_version": "1.2.0",
      "model_name": "LayoutModel",
      "state": {
       "border": "3px solid white",
       "display": "flex",
       "flex": "1 1 0%",
       "margin": "10px",
       "min_width": "400px",
       "overflow": "visible",
       "padding": "10px",
       "width": "auto"
      }
     },
     "f44edf208d204dcc9783e04c5d39fb6e": {
      "model_module": "@jupyter-widgets/base",
      "model_module_version": "1.2.0",
      "model_name": "LayoutModel",
      "state": {
       "display": "flex",
       "width": "60px"
      }
     },
     "f465fb44aaaa473785e9de64ca22b140": {
      "model_module": "@jupyter-widgets/controls",
      "model_module_version": "1.5.0",
      "model_name": "ProgressStyleModel",
      "state": {
       "description_width": ""
      }
     },
     "f46eaa204dda41b8862ac7744022337d": {
      "model_module": "@jupyter-widgets/base",
      "model_module_version": "1.2.0",
      "model_name": "LayoutModel",
      "state": {}
     },
     "f4b52424956e46a1a9513196a1bd563a": {
      "model_module": "@jupyter-widgets/controls",
      "model_module_version": "1.5.0",
      "model_name": "IntProgressModel",
      "state": {
       "bar_style": "success",
       "layout": "IPY_MODEL_a8f320329a8642ffae6276343f8166b5",
       "max": 50,
       "style": "IPY_MODEL_abbc50da3e894f0da036579e3bf78a88",
       "value": 50
      }
     },
     "f4d82d10386c4393ae39eb8d47e6919e": {
      "model_module": "@jupyter-widgets/base",
      "model_module_version": "1.2.0",
      "model_name": "LayoutModel",
      "state": {
       "display": "flex",
       "width": "60px"
      }
     },
     "f4d9a157af124f2da29e32aca25a5adb": {
      "model_module": "@jupyter-widgets/base",
      "model_module_version": "1.2.0",
      "model_name": "LayoutModel",
      "state": {
       "display": "flex"
      }
     },
     "f4e0f295ac744113a079934aba8c678b": {
      "model_module": "@jupyter-widgets/controls",
      "model_module_version": "1.5.0",
      "model_name": "ButtonModel",
      "state": {
       "layout": "IPY_MODEL_c65c8f8fbf4d4da5846926d97747959d",
       "style": "IPY_MODEL_1f66f32320674481bb48fcfb53db7820"
      }
     },
     "f56725c6bf0e4b2f9439fcd4b12a5f83": {
      "model_module": "@jupyter-widgets/controls",
      "model_module_version": "1.5.0",
      "model_name": "HTMLModel",
      "state": {
       "layout": "IPY_MODEL_75020db5575a4f29a3b59e00354d6373",
       "style": "IPY_MODEL_b69eb0b92deb4164b79bb261729d93d9",
       "value": "<font size=\"1\">Triumphs/Lore/Dusk and Dawn/Revelation/A Desperate Ploy</font size=>"
      }
     },
     "f5e2e7807d814b24bef9f1f65be78679": {
      "model_module": "@jupyter-widgets/base",
      "model_module_version": "1.2.0",
      "model_name": "LayoutModel",
      "state": {
       "display": "flex",
       "width": "60px"
      }
     },
     "f5e3f1e7a79042509034a516142de464": {
      "model_module": "@jupyter-widgets/controls",
      "model_module_version": "1.5.0",
      "model_name": "ButtonModel",
      "state": {
       "description": "EDIT",
       "layout": "IPY_MODEL_001636c5ed4f43cfa0d13559ea74ec32",
       "style": "IPY_MODEL_b208b5bbfd2648a2ba56b2c3db5229ce"
      }
     },
     "f5e8cab49b13453db5d12ce2d84616ee": {
      "model_module": "@jupyter-widgets/controls",
      "model_module_version": "1.5.0",
      "model_name": "VBoxModel",
      "state": {
       "children": [
        "IPY_MODEL_5759ded93ad249c1a6bf9a53c658bcc1",
        "IPY_MODEL_1fd67a83b6504a91992b2208043ec5f0",
        "IPY_MODEL_dd7870dc169b492da412e380e51a201e",
        "IPY_MODEL_758985921ac9483ba9b72d727d2a4759"
       ],
       "layout": "IPY_MODEL_f42f2f5a09b34bd8a0df369f16d3e60f"
      }
     },
     "f5efcb5351504d6d96d3d05161101f47": {
      "model_module": "@jupyter-widgets/controls",
      "model_module_version": "1.5.0",
      "model_name": "HBoxModel",
      "state": {
       "children": [
        "IPY_MODEL_344dff32aac24c67898aadcaa060622f",
        "IPY_MODEL_a64f218da7fd4341b1d78df547a1e986",
        "IPY_MODEL_ed60605ee9e44c7ba5f0d391f7272551",
        "IPY_MODEL_8520aa1de6254103a6900903f4478173"
       ],
       "layout": "IPY_MODEL_24b1f3a21aad423f8807ff088ad3a3ef"
      }
     },
     "f62db8ea534e428f935f9705f19dbfd2": {
      "model_module": "@jupyter-widgets/controls",
      "model_module_version": "1.5.0",
      "model_name": "LabelModel",
      "state": {
       "layout": "IPY_MODEL_44488da95dfa4289afa9b46ef86acf19",
       "style": "IPY_MODEL_79c9613e482e4a6089a06bdf857a1bf3",
       "value": "   objective"
      }
     },
     "f63c45e477bd4740bb74b4f47fed534d": {
      "model_module": "@jupyter-widgets/controls",
      "model_module_version": "1.5.0",
      "model_name": "LabelModel",
      "state": {
       "layout": "IPY_MODEL_f804feb4f29d4cb582e889512fdde555",
       "style": "IPY_MODEL_d2dffb60b5e248eeacf6fbdc932b5067",
       "value": "   objective"
      }
     },
     "f695d5e79c584c8d910601fcd872382f": {
      "model_module": "@jupyter-widgets/controls",
      "model_module_version": "1.5.0",
      "model_name": "ButtonStyleModel",
      "state": {}
     },
     "f6aacea38df34bfc9f1c546e4becb56e": {
      "model_module": "@jupyter-widgets/base",
      "model_module_version": "1.2.0",
      "model_name": "LayoutModel",
      "state": {}
     },
     "f6ee1b47408f40639961c73068019fdf": {
      "model_module": "@jupyter-widgets/controls",
      "model_module_version": "1.5.0",
      "model_name": "ButtonModel",
      "state": {
       "description": "EDIT",
       "layout": "IPY_MODEL_c3ef7f17f9dc4bf8aa6e0a339f82a45e",
       "style": "IPY_MODEL_c7a11b6a3f2342faab6542b7297b1b56"
      }
     },
     "f6ef0bbef5d9466db8c0c4bfa6d9447a": {
      "model_module": "@jupyter-widgets/controls",
      "model_module_version": "1.5.0",
      "model_name": "IntProgressModel",
      "state": {
       "layout": "IPY_MODEL_776f65baf1dc4d57b731755cf7da0220",
       "style": "IPY_MODEL_45cdf6396d774910841958b42fc4b58a",
       "value": 30
      }
     },
     "f73afed5df34402787479b41f395a421": {
      "model_module": "@jupyter-widgets/base",
      "model_module_version": "1.2.0",
      "model_name": "LayoutModel",
      "state": {
       "overflow": "visible",
       "width": "100%"
      }
     },
     "f7622635916a4d82a98ce83513915eae": {
      "model_module": "@jupyter-widgets/controls",
      "model_module_version": "1.5.0",
      "model_name": "DescriptionStyleModel",
      "state": {
       "description_width": ""
      }
     },
     "f76abe08c7df4e8f9672db30cdfe8d30": {
      "model_module": "@jupyter-widgets/controls",
      "model_module_version": "1.5.0",
      "model_name": "ButtonModel",
      "state": {
       "description": "EDIT",
       "layout": "IPY_MODEL_aa726fad9709453484f45c7ddcc7ef3c",
       "style": "IPY_MODEL_a06d3764866244d19c34678025520467"
      }
     },
     "f7af0117ceb74d9fb0d82969bb889fc7": {
      "model_module": "@jupyter-widgets/controls",
      "model_module_version": "1.5.0",
      "model_name": "ButtonModel",
      "state": {
       "description": "EDIT",
       "layout": "IPY_MODEL_145f9a5d0cb146a397f3a498187aeabf",
       "style": "IPY_MODEL_e236902f43af40039433ecd4a8019461"
      }
     },
     "f7f8c919a0c04794b1da53e0aaefaf7d": {
      "model_module": "@jupyter-widgets/controls",
      "model_module_version": "1.5.0",
      "model_name": "ProgressStyleModel",
      "state": {
       "description_width": ""
      }
     },
     "f804feb4f29d4cb582e889512fdde555": {
      "model_module": "@jupyter-widgets/base",
      "model_module_version": "1.2.0",
      "model_name": "LayoutModel",
      "state": {
       "order": "-1",
       "overflow": "visible",
       "padding": "1px",
       "width": "0px"
      }
     },
     "f820857cc176408a9db7b1b794ec5d54": {
      "model_module": "@jupyter-widgets/base",
      "model_module_version": "1.2.0",
      "model_name": "LayoutModel",
      "state": {
       "height": "32px",
       "order": "-2",
       "width": "32px"
      }
     },
     "f826405b7a184787a9606c5888b38ace": {
      "model_module": "@jupyter-widgets/base",
      "model_module_version": "1.2.0",
      "model_name": "LayoutModel",
      "state": {
       "height": "32px",
       "overflow": "visible",
       "width": "100%"
      }
     },
     "f841e60cef5049f7866519ff9c306b07": {
      "model_module": "@jupyter-widgets/controls",
      "model_module_version": "1.5.0",
      "model_name": "ButtonModel",
      "state": {
       "description": "EDIT",
       "layout": "IPY_MODEL_be814b84c06e4a4e8e5e21af8e324628",
       "style": "IPY_MODEL_fd292a7468f8499d844e51a52926f56a"
      }
     },
     "f87ba450513040f1babf42fcda106516": {
      "model_module": "@jupyter-widgets/controls",
      "model_module_version": "1.5.0",
      "model_name": "ButtonModel",
      "state": {
       "description": "EDIT",
       "layout": "IPY_MODEL_b10ba6f99ec94e4382b6dd12a8ab614e",
       "style": "IPY_MODEL_c709f78c2d0f4515938348f7ea3fec52"
      }
     },
     "f8a3f0d443e64381a59100dfebe952fa": {
      "model_module": "@jupyter-widgets/controls",
      "model_module_version": "1.5.0",
      "model_name": "HBoxModel",
      "state": {
       "children": [
        "IPY_MODEL_50bc563e79ce462b92af6c8848dbf2b2",
        "IPY_MODEL_5ec6b849020648af8b8dc8f6296bcf3d",
        "IPY_MODEL_4d8a85890a9b4a98a1714c90633fb5d0",
        "IPY_MODEL_85309758e71c4c739782fe37b2c74e62"
       ],
       "layout": "IPY_MODEL_0c70595cb1d74ed99e75b55cc6dca636"
      }
     },
     "f8e98f05b08d4d079618e107df547a27": {
      "model_module": "@jupyter-widgets/base",
      "model_module_version": "1.2.0",
      "model_name": "LayoutModel",
      "state": {
       "height": "32px",
       "overflow": "visible",
       "width": "100%"
      }
     },
     "f8ec12976d15452faeb78055c8a468c4": {
      "model_module": "@jupyter-widgets/controls",
      "model_module_version": "1.5.0",
      "model_name": "ButtonModel",
      "state": {
       "description": "EDIT",
       "layout": "IPY_MODEL_0084ef7f006a4819b12e5afefcfe94df",
       "style": "IPY_MODEL_77b95dce5d5c41f99e426c57b5926695"
      }
     },
     "f90f983a475e4f1c9c926913d4d3307d": {
      "model_module": "@jupyter-widgets/controls",
      "model_module_version": "1.5.0",
      "model_name": "ButtonModel",
      "state": {
       "description": "EDIT",
       "layout": "IPY_MODEL_ec39c93dd849427f96bf07a322ba2f7d",
       "style": "IPY_MODEL_fe139eb32ab34a47a4f88dd28f5d275e"
      }
     },
     "f91a9f977bc94fa290dcb7cfc51c602d": {
      "model_module": "@jupyter-widgets/base",
      "model_module_version": "1.2.0",
      "model_name": "LayoutModel",
      "state": {}
     },
     "f91aad98d2974d5a9e56f5ab8e707d5a": {
      "model_module": "@jupyter-widgets/controls",
      "model_module_version": "1.5.0",
      "model_name": "HBoxModel",
      "state": {
       "children": [
        "IPY_MODEL_11e50c692a5f48afb0858e2fe38c48f9",
        "IPY_MODEL_2d22dae3429b43548f1eb24fba110b3e",
        "IPY_MODEL_02ae74b97f3d4aa4bad7ff82aaa9a643",
        "IPY_MODEL_9516304287604bf4bdd0745ad76f86da"
       ],
       "layout": "IPY_MODEL_cf9c00bae0cf418e9f5752ed1f1108e2"
      }
     },
     "f929aa67c42140f28d771f2ad3dba6ce": {
      "model_module": "@jupyter-widgets/controls",
      "model_module_version": "1.5.0",
      "model_name": "LabelModel",
      "state": {
       "layout": "IPY_MODEL_5ea2d6376fa54d6ea2bdd7a92d9eb5b8",
       "style": "IPY_MODEL_3959e598206443f4a04f956676480b5f",
       "value": "Armor Set:"
      }
     },
     "f95c86cc45064c308f5fe8786a0953e8": {
      "model_module": "@jupyter-widgets/controls",
      "model_module_version": "1.5.0",
      "model_name": "DropdownModel",
      "state": {
       "_options_labels": [
        "All"
       ],
       "index": 0,
       "layout": "IPY_MODEL_995063243fbf427fbc42a3e5cca58569",
       "style": "IPY_MODEL_c0dfc8c837d8450a8978c5c03df6a730"
      }
     },
     "f983bfbdecc943b6a95beb36e16e2eee": {
      "model_module": "@jupyter-widgets/controls",
      "model_module_version": "1.5.0",
      "model_name": "ButtonModel",
      "state": {
       "description": "EDIT",
       "layout": "IPY_MODEL_a58abaa26d5f4562ba6258d6a9baab27",
       "style": "IPY_MODEL_7118fca094b2417aae7baac8996f22bc"
      }
     },
     "fa1695557ac4446da1575c49d076b7a7": {
      "model_module": "@jupyter-widgets/base",
      "model_module_version": "1.2.0",
      "model_name": "LayoutModel",
      "state": {
       "height": "32px",
       "order": "-2",
       "width": "32px"
      }
     },
     "fa6e0e4523aa40d0a7e7b045908b7035": {
      "model_module": "@jupyter-widgets/controls",
      "model_module_version": "1.5.0",
      "model_name": "VBoxModel",
      "state": {
       "children": [
        "IPY_MODEL_f56725c6bf0e4b2f9439fcd4b12a5f83",
        "IPY_MODEL_a284d7cca89e468aac9d9997923dc46d",
        "IPY_MODEL_a9894dc04161423b8fd8c14ede9184d9",
        "IPY_MODEL_3f1944946c4c440f98ed16b73a6cd274"
       ],
       "layout": "IPY_MODEL_0df0bee42e7345c9820c9e71bca44fe3"
      }
     },
     "fa850f6a5de341c4a48308392cf08f25": {
      "model_module": "@jupyter-widgets/controls",
      "model_module_version": "1.5.0",
      "model_name": "LabelModel",
      "state": {
       "layout": "IPY_MODEL_b3b6cc1785564a73b96ef6334a84fa22",
       "style": "IPY_MODEL_99eb70b7afd94eb3ae88b667bf29ae35",
       "value": "    Motes deposited (1543/2500)"
      }
     },
     "fa9dbd4e62c84f1b8be699840ec3e504": {
      "model_module": "@jupyter-widgets/controls",
      "model_module_version": "1.5.0",
      "model_name": "IntProgressModel",
      "state": {
       "layout": "IPY_MODEL_720361ce2269465d900da24e294ac078",
       "style": "IPY_MODEL_938dc46f078840ac887fbd4a1946a73d",
       "value": 30
      }
     },
     "fac9e41072bc418fa3e00d1a74dd382c": {
      "model_module": "@jupyter-widgets/base",
      "model_module_version": "1.2.0",
      "model_name": "LayoutModel",
      "state": {
       "display": "flex"
      }
     },
     "faed9aa5d94c43c385522bcf7d784ff7": {
      "model_module": "@jupyter-widgets/base",
      "model_module_version": "1.2.0",
      "model_name": "LayoutModel",
      "state": {
       "order": "-1",
       "overflow": "visible",
       "padding": "1px",
       "width": "0px"
      }
     },
     "fb56b606d5ea4f689a3ac8067da376a7": {
      "model_module": "@jupyter-widgets/controls",
      "model_module_version": "1.5.0",
      "model_name": "ButtonModel",
      "state": {
       "layout": "IPY_MODEL_2e76c5b2d9f74ddba30c44fb8b6371b9",
       "style": "IPY_MODEL_78a4fd9636e34c66a1f6122a94e09196"
      }
     },
     "fb576a3e32e94e1787650923ec86c8ad": {
      "model_module": "@jupyter-widgets/controls",
      "model_module_version": "1.5.0",
      "model_name": "DescriptionStyleModel",
      "state": {
       "description_width": ""
      }
     },
     "fb58d0145aaf429c82c3e3481f7cb0ce": {
      "model_module": "@jupyter-widgets/controls",
      "model_module_version": "1.5.0",
      "model_name": "ButtonModel",
      "state": {
       "layout": "IPY_MODEL_169ff5bc41524fb8ae0cca72bbb74e79",
       "style": "IPY_MODEL_335a587e69e642f6a2ec93608cb9685c"
      }
     },
     "fb858849ad7d41b19d09c19ba3447dca": {
      "model_module": "@jupyter-widgets/base",
      "model_module_version": "1.2.0",
      "model_name": "LayoutModel",
      "state": {
       "display": "none"
      }
     },
     "fbbd1390de89418c8d1adcc0ba2b3efa": {
      "model_module": "@jupyter-widgets/controls",
      "model_module_version": "1.5.0",
      "model_name": "ButtonModel",
      "state": {
       "description": "EDIT",
       "layout": "IPY_MODEL_ddbe65fb165348c28e3f42952ff18575",
       "style": "IPY_MODEL_454e7b2775784599b3b623b387a3049d"
      }
     },
     "fc36781ba80d4b459b28cb8ce0a471e1": {
      "model_module": "@jupyter-widgets/base",
      "model_module_version": "1.2.0",
      "model_name": "LayoutModel",
      "state": {
       "height": "32px",
       "order": "-2",
       "width": "32px"
      }
     },
     "fcb073d86709416fa512535c6172ceb4": {
      "model_module": "@jupyter-widgets/base",
      "model_module_version": "1.2.0",
      "model_name": "LayoutModel",
      "state": {
       "display": "flex",
       "width": "60px"
      }
     },
     "fcb7ced455cb4b71813dde2a1c4e4909": {
      "model_module": "@jupyter-widgets/base",
      "model_module_version": "1.2.0",
      "model_name": "LayoutModel",
      "state": {
       "height": "32px",
       "order": "-2",
       "width": "32px"
      }
     },
     "fcf698a47fa14d6e9ee6e05752e711fa": {
      "model_module": "@jupyter-widgets/controls",
      "model_module_version": "1.5.0",
      "model_name": "ButtonStyleModel",
      "state": {}
     },
     "fd225601937c4cd7b994fb19cae48ab7": {
      "model_module": "@jupyter-widgets/base",
      "model_module_version": "1.2.0",
      "model_name": "LayoutModel",
      "state": {
       "order": "-1",
       "overflow": "visible",
       "padding": "1px",
       "width": "0px"
      }
     },
     "fd292a7468f8499d844e51a52926f56a": {
      "model_module": "@jupyter-widgets/controls",
      "model_module_version": "1.5.0",
      "model_name": "ButtonStyleModel",
      "state": {}
     },
     "fd2d4bff0faa447b87de70c932d0f548": {
      "model_module": "@jupyter-widgets/controls",
      "model_module_version": "1.5.0",
      "model_name": "ProgressStyleModel",
      "state": {
       "description_width": ""
      }
     },
     "fd4503145cb34361b714f6ac84a47760": {
      "model_module": "@jupyter-widgets/base",
      "model_module_version": "1.2.0",
      "model_name": "LayoutModel",
      "state": {
       "display": "none"
      }
     },
     "fe1194cd16384886b15b29a99950816c": {
      "model_module": "@jupyter-widgets/controls",
      "model_module_version": "1.5.0",
      "model_name": "DescriptionStyleModel",
      "state": {
       "description_width": ""
      }
     },
     "fe139eb32ab34a47a4f88dd28f5d275e": {
      "model_module": "@jupyter-widgets/controls",
      "model_module_version": "1.5.0",
      "model_name": "ButtonStyleModel",
      "state": {}
     },
     "fe45b1bcb4524c8c94b5ad33c6a2edb4": {
      "model_module": "@jupyter-widgets/controls",
      "model_module_version": "1.5.0",
      "model_name": "ProgressStyleModel",
      "state": {
       "description_width": ""
      }
     },
     "fe51294303df497f869ec026d9f8627c": {
      "model_module": "@jupyter-widgets/controls",
      "model_module_version": "1.5.0",
      "model_name": "LabelModel",
      "state": {
       "layout": "IPY_MODEL_988a47bc4f8b4d829a4ec80a3c3943de",
       "style": "IPY_MODEL_f32ab79e874945f4abb18250a9f937ee",
       "value": "Tree:"
      }
     },
     "fe67de007f824b60a5b5584e2efc5cf7": {
      "model_module": "@jupyter-widgets/base",
      "model_module_version": "1.2.0",
      "model_name": "LayoutModel",
      "state": {
       "display": "flex",
       "width": "60px"
      }
     },
     "fe7e4b679880440da141b7ece3fb5b7d": {
      "model_module": "@jupyter-widgets/base",
      "model_module_version": "1.2.0",
      "model_name": "LayoutModel",
      "state": {
       "display": "none"
      }
     },
     "fe87e78ac7ac4c97a965e68d45215def": {
      "model_module": "@jupyter-widgets/base",
      "model_module_version": "1.2.0",
      "model_name": "LayoutModel",
      "state": {
       "height": "32px",
       "order": "-2",
       "width": "32px"
      }
     },
     "ff9a9138b27d40639f487b18687f089d": {
      "model_module": "@jupyter-widgets/base",
      "model_module_version": "1.2.0",
      "model_name": "LayoutModel",
      "state": {
       "display": "flex",
       "width": "60px"
      }
     },
     "ffd16a952fa348b0b32c1b51c7883b09": {
      "model_module": "@jupyter-widgets/base",
      "model_module_version": "1.2.0",
      "model_name": "LayoutModel",
      "state": {
       "height": "32px",
       "order": "-2",
       "width": "32px"
      }
     },
     "ffd1781a9c9b491381379ff7e84803cd": {
      "model_module": "@jupyter-widgets/controls",
      "model_module_version": "1.5.0",
      "model_name": "HBoxModel",
      "state": {
       "children": [
        "IPY_MODEL_e542a1fce3e94e1dbc632e27680ab78b",
        "IPY_MODEL_a032d32e469847dda44b51f49d419c60",
        "IPY_MODEL_b9132700bb954aa296e3fdba72ca9bb3",
        "IPY_MODEL_c228d6d596ec4589ae0b3b7e3145a680"
       ],
       "layout": "IPY_MODEL_cb4303287c2242c19ca1cd5e1d0d630b"
      }
     },
     "ffee0104638246779fd97a16886be7ba": {
      "model_module": "@jupyter-widgets/controls",
      "model_module_version": "1.5.0",
      "model_name": "ButtonModel",
      "state": {
       "description": "EDIT",
       "layout": "IPY_MODEL_704de28fe7344b8c856dac6279456df6",
       "style": "IPY_MODEL_12b9ec42ae344712973edf24e7f68e6e"
      }
     },
     "fff04dbbb93e4e1192f97cd29c8fc276": {
      "model_module": "@jupyter-widgets/controls",
      "model_module_version": "1.5.0",
      "model_name": "LabelModel",
      "state": {
       "layout": "IPY_MODEL_a8bbeaa9509e44b5833edeb5cd1eea12",
       "style": "IPY_MODEL_d7db7eadfd1042a1acc7ddb280da02de",
       "value": "   objective"
      }
     },
     "fff9e220266949038fa49e6dfd40f38a": {
      "model_module": "@jupyter-widgets/controls",
      "model_module_version": "1.5.0",
      "model_name": "ProgressStyleModel",
      "state": {
       "description_width": ""
      }
     }
    },
    "version_major": 2,
    "version_minor": 0
   }
  }
 },
 "nbformat": 4,
 "nbformat_minor": 4
}
