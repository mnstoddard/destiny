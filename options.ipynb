{
 "cells": [
  {
   "cell_type": "code",
   "execution_count": 2,
   "metadata": {},
   "outputs": [],
   "source": [
    "import pickle"
   ]
  },
  {
   "cell_type": "code",
   "execution_count": 4,
   "metadata": {},
   "outputs": [],
   "source": [
    "with open('loadout_options.data', 'wb') as filehandle:\n",
    "    pickle.dump(options, filehandle) "
   ]
  },
  {
   "cell_type": "code",
   "execution_count": 5,
   "metadata": {},
   "outputs": [
    {
     "name": "stdout",
     "output_type": "stream",
     "text": [
      "{'Class': ['Any', 'Titan', 'Hunter', 'Warlock'], 'Subclass': {'Titan': ['Any', 'Sentinel', 'Striker', 'Sunbreaker'], 'Hunter': ['Any', 'Nightstalker', 'Arcstrider', 'Gunslinger'], 'Warlock': ['Any', 'Voidwalker', 'Stormcaller', 'Dawnblade']}, 'Tree': {'Titan': {'Sentinel': ['Any', 'Code of the Commander', 'Code of the Protector', 'Code of the Aggressor'], 'Striker': ['Any', 'Code of the Earthshaker', 'Code of the Missile', 'Code of the Juggernaut'], 'Sunbreaker': ['Any', 'Code of the Fire-Forged', 'Code of the Devastator', 'Code of the Siegebreaker']}, 'Hunter': {'Nightstalker': ['Any', 'Way of the Trapper', 'Way of the Wraith', 'Way of the Pathfinder'], 'Arcstrider': ['Any', 'Way of the Warrior', 'Way of the Current', 'Way of the Wind'], 'Gunslinger': ['Any', 'Way of the Outlaw', 'Way of a Thousand Cuts', 'Way of the Outlaw']}, 'Warlock': {'Voidwalker': ['Any', 'Attunement of Chaos', 'Attunement of Fission', 'Attunement of Hunger'], 'Stormcaller': ['Any', 'Attunement of Conduction', 'Attunement of Control', 'Attunement of the Elements'], 'Dawnblade': ['Any', 'Attunement of Sky', 'Attunement of Grace', 'Attunement of Flame']}}, 'Grenade': {'Titan': {'Sentinel': ['Any', 'Magnetic Grenade', 'Voidwall Grenade', 'Suppressor Grenade'], 'Striker': ['Any', 'Flashbang Grenade', 'Pulse Grenade', 'Lightning Grenade'], 'Sunbreaker': ['Any', 'Incendiary Grenade', 'Thermite Grenade', 'Fusion Grenade']}, 'Hunter': {'Nightstalker': ['Any', 'Vortex Grenade', 'Spike Grenade', ' Voidwall Grenade'], 'Arcstrider': ['Any', 'Skip Grenade', 'Flux Grenade', 'Arcbolt Grenade'], 'Gunslinger': ['Any', 'Incendiary Grenade', 'Swarm Grenade', 'Tripmine Grenade']}, 'Warlock': {'Voidwalker': ['Any', 'Vortex Grenade', 'Axion Bolt', 'Scatter Grenade'], 'Stormcaller': ['Any', 'Arcbolt Grenade', 'Pulse Grenade', 'Storm Grenade'], 'Dawnblade': ['Any', 'Solar Grenade', 'Firebolt Grenade', 'Fusion Grenade']}}, 'Kinetic Weapon': ['Any', 'Hand Cannon', 'Auto Rifle', 'Scout Rifle', 'Pulse Rifle', 'Sidearm', 'Submachine Gun', 'Combt Bow', 'Sniper Rifle', 'Shotgun'], 'Energy Weapon': ['Any', 'Hand Cannon', 'Auto Rifle', 'Scout Rifle', 'Pulse Rifle', 'Sidearm', 'Submachine Gun', 'Combt Bow', 'Sniper Rifle', 'Shotgun', 'Fusion Rifle', 'Grenade Launcher'], 'Power Weapon': ['Any', 'Machine Gun', 'Sword', 'Grenade Launcher', 'Rocket Launcher', 'Linear Fusion Rifle'], 'Energy Weapon Type': ['Any', 'Arc', 'Solar', 'Void'], 'Power Weapon Type': ['Any', 'Arc', 'Solar', 'Void'], 'Armor': ['Any'], 'Activity Type': ['Any', 'Patrol', 'Gambit', 'Reckoning', 'Menagerie', 'Vex Offensive', 'Raid', 'Strike', 'Nightfall', 'Crucible', 'Forge'], 'Activity': {'Patrol': ['Any', 'Earth', 'Io', 'Nessus', 'Titan', 'Mars', 'Dreaming City', 'Tangled Shore', 'The Moon'], 'Strike': ['Any', 'Lake of Shadows', \"Savathûn's Song\", 'The Arms Dealer', 'The Inverted Spire', 'The Pyramidion', 'A Garden World', 'Tree of Probabilities', 'Will of The Thousands', 'Strange Terrain', 'The Insight Termius', 'Warden of Nothing', 'Broodhold', 'The Hollowed Lair', 'The Corrupted'], 'Nightfall': ['Any', 'Lake of Shadows', \"Savathûn's Song\", 'The Arms Dealer', 'The Inverted Spire', 'The Pyramidion', 'A Garden World', 'Tree of Probabilities', 'Will of The Thousands', 'Strange Terrain', 'The Insight Termius', 'Warden of Nothing', 'Broodhold', 'The Hollowed Lair', 'The Corrupted'], 'Raid': ['Any', 'Liathan', 'Prestige Leviathan', 'Eater of Worlds', 'Spire of Stars', 'Last Wish', 'Scourage of The Past', 'Crown of Sorrow', 'Garden of Salvation'], 'Crucible': ['Any', 'Clash', 'Control', 'Showdown', 'Mayhem', 'Breakthrough', 'Lockdown', 'Rumble', 'Supremacy', 'Doubles', 'Scorched', 'Countdown', 'Survival', 'Iron Banner'], 'Gambit': ['Any', 'Gambit', 'Gambit Prime'], 'Reckoning': ['Any', 'Tier I', 'Tier II', 'Tier III'], 'Menagerie': ['Any', 'Normal', 'Heroic'], 'Forge': ['Any', 'Volundr Forge', 'Gofannon Forge', 'Izanami Forge', 'Bergusia Forge']}}\n"
     ]
    }
   ],
   "source": [
    "with open('loadout_options.data', 'rb') as filehandle:\n",
    "    loadout_options = pickle.load(filehandle)\n",
    "    \n",
    "print(loadout_options)"
   ]
  },
  {
   "cell_type": "code",
   "execution_count": null,
   "metadata": {},
   "outputs": [],
   "source": []
  }
 ],
 "metadata": {
  "kernelspec": {
   "display_name": "Python 3",
   "language": "python",
   "name": "python3"
  },
  "language_info": {
   "codemirror_mode": {
    "name": "ipython",
    "version": 3
   },
   "file_extension": ".py",
   "mimetype": "text/x-python",
   "name": "python",
   "nbconvert_exporter": "python",
   "pygments_lexer": "ipython3",
   "version": "3.7.4"
  },
  "widgets": {
   "application/vnd.jupyter.widget-state+json": {
    "state": {},
    "version_major": 2,
    "version_minor": 0
   }
  }
 },
 "nbformat": 4,
 "nbformat_minor": 4
}
