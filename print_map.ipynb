{
 "cells": [
  {
   "cell_type": "code",
   "execution_count": 1,
   "metadata": {},
   "outputs": [],
   "source": [
    "def print_map(a,lvl=0):\n",
    "    indent = ''\n",
    "    for i in range(lvl):\n",
    "        indent = indent + '  '\n",
    "    if type(a) is dict:\n",
    "        for key, val in a.items():\n",
    "            if type(val) is dict or type(val) is list:\n",
    "                print(indent,'-', key, ':')\n",
    "                print_map(val,lvl+1)\n",
    "            else:\n",
    "                print(indent,'-', key, ':', val)\n",
    "    elif type(a) is list:\n",
    "        for i in range(len(a)):\n",
    "            if type(a[i]) is list or type(a[i]) is dict:\n",
    "                print(f'{indent} {i}) ---------------------------')\n",
    "                print_map(a[i], lvl+1)\n",
    "            else:\n",
    "                print(f'{indent} {i}) {a[i]}')\n",
    "    else:\n",
    "        print(indent,'*', a, type(a))"
   ]
  },
  {
   "cell_type": "code",
   "execution_count": null,
   "metadata": {},
   "outputs": [],
   "source": []
  }
 ],
 "metadata": {
  "kernelspec": {
   "display_name": "Python 3",
   "language": "python",
   "name": "python3"
  },
  "language_info": {
   "codemirror_mode": {
    "name": "ipython",
    "version": 3
   },
   "file_extension": ".py",
   "mimetype": "text/x-python",
   "name": "python",
   "nbconvert_exporter": "python",
   "pygments_lexer": "ipython3",
   "version": "3.7.4"
  },
  "widgets": {
   "application/vnd.jupyter.widget-state+json": {
    "state": {},
    "version_major": 2,
    "version_minor": 0
   }
  }
 },
 "nbformat": 4,
 "nbformat_minor": 4
}
