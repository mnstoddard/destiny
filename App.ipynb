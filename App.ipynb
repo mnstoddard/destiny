{
 "cells": [
  {
   "cell_type": "code",
   "execution_count": 1,
   "metadata": {},
   "outputs": [
    {
     "data": {
      "application/vnd.jupyter.widget-view+json": {
       "model_id": "8682fc6b427a4409af749732b1af8f2f",
       "version_major": 2,
       "version_minor": 0
      },
      "text/plain": [
       "Output()"
      ]
     },
     "metadata": {},
     "output_type": "display_data"
    }
   ],
   "source": [
    "import pickle\n",
    "import requests\n",
    "import ipywidgets as ipw\n",
    "%run interface.ipynb"
   ]
  },
  {
   "cell_type": "code",
   "execution_count": null,
   "metadata": {},
   "outputs": [],
   "source": []
  }
 ],
 "metadata": {
  "kernelspec": {
   "display_name": "Python 3",
   "language": "python",
   "name": "python3"
  },
  "language_info": {
   "codemirror_mode": {
    "name": "ipython",
    "version": 3
   },
   "file_extension": ".py",
   "mimetype": "text/x-python",
   "name": "python",
   "nbconvert_exporter": "python",
   "pygments_lexer": "ipython3",
   "version": "3.7.4"
  },
  "widgets": {
   "application/vnd.jupyter.widget-state+json": {
    "state": {
     "00042359b10440e187f14fcebc06769a": {
      "model_module": "@jupyter-widgets/controls",
      "model_module_version": "1.5.0",
      "model_name": "VBoxModel",
      "state": {
       "children": [
        "IPY_MODEL_04b812ed32014e8cae2c664db076fa5a",
        "IPY_MODEL_3db7861bc6e84073ab1fef01b2d5abb4",
        "IPY_MODEL_6efb68dda0d94e04a0f6a18646614b51",
        "IPY_MODEL_e78272e7355a4d3bb6a3769c5cd3d38c",
        "IPY_MODEL_6ddc0bfcc8674768b6d493634f966447",
        "IPY_MODEL_28afd347614d410fa7830bf0564b33c5"
       ],
       "layout": "IPY_MODEL_e7b4c89de1594fec8530c20d174633f7"
      }
     },
     "002d180c9aa94914abbbea0dbc8583f8": {
      "model_module": "@jupyter-widgets/controls",
      "model_module_version": "1.5.0",
      "model_name": "IntProgressModel",
      "state": {
       "layout": "IPY_MODEL_2f35dd3ee8e94731977c5191edafde0c",
       "style": "IPY_MODEL_07a3e9c5ee5a4aedac2ed690cf3ab747",
       "value": 30
      }
     },
     "0030a842bfad4d2ebb64b3c42fc45e42": {
      "model_module": "@jupyter-widgets/base",
      "model_module_version": "1.2.0",
      "model_name": "LayoutModel",
      "state": {}
     },
     "0047eaf33ad141faae382fa83f354902": {
      "model_module": "@jupyter-widgets/controls",
      "model_module_version": "1.5.0",
      "model_name": "ButtonModel",
      "state": {
       "layout": "IPY_MODEL_b7e059dd3b3441749a430f296d46b6c8",
       "style": "IPY_MODEL_4f3d43d1a1814d118f26be00ee210870"
      }
     },
     "00740d1d074a459fa289f061e4ce73e1": {
      "model_module": "@jupyter-widgets/controls",
      "model_module_version": "1.5.0",
      "model_name": "ProgressStyleModel",
      "state": {
       "description_width": ""
      }
     },
     "00c320a84c174e4ba008c600c52853c4": {
      "model_module": "@jupyter-widgets/controls",
      "model_module_version": "1.5.0",
      "model_name": "ProgressStyleModel",
      "state": {
       "description_width": ""
      }
     },
     "00e7d75af5f045e9af6de154a70afcd3": {
      "model_module": "@jupyter-widgets/base",
      "model_module_version": "1.2.0",
      "model_name": "LayoutModel",
      "state": {
       "height": "32px",
       "order": "-2",
       "width": "32px"
      }
     },
     "0112e2818402436f96993d0994f47688": {
      "model_module": "@jupyter-widgets/controls",
      "model_module_version": "1.5.0",
      "model_name": "DescriptionStyleModel",
      "state": {
       "description_width": ""
      }
     },
     "0170d6c5f5334a77ab88f7adfa36a6c3": {
      "model_module": "@jupyter-widgets/base",
      "model_module_version": "1.2.0",
      "model_name": "LayoutModel",
      "state": {
       "display": "none",
       "width": "60px"
      }
     },
     "01bf3eb756db4f6dae454f88bacebbd2": {
      "model_module": "@jupyter-widgets/base",
      "model_module_version": "1.2.0",
      "model_name": "LayoutModel",
      "state": {}
     },
     "01e85c181685460182891d9e7fef8897": {
      "model_module": "@jupyter-widgets/controls",
      "model_module_version": "1.5.0",
      "model_name": "ButtonStyleModel",
      "state": {}
     },
     "022ec1243ec74679b55233f19c10dbfd": {
      "model_module": "@jupyter-widgets/controls",
      "model_module_version": "1.5.0",
      "model_name": "IntProgressModel",
      "state": {
       "layout": "IPY_MODEL_5ab6d006911b49c19a4dafe055ba5945",
       "style": "IPY_MODEL_0ac6959eba3d40f3b7892762f4636e86",
       "value": 30
      }
     },
     "022fa88e28d24797884f53c0fc5fa728": {
      "model_module": "@jupyter-widgets/base",
      "model_module_version": "1.2.0",
      "model_name": "LayoutModel",
      "state": {
       "height": "32px",
       "overflow": "visible",
       "width": "100%"
      }
     },
     "02310a15915d4f62ba31ded82b491ed5": {
      "model_module": "@jupyter-widgets/base",
      "model_module_version": "1.2.0",
      "model_name": "LayoutModel",
      "state": {}
     },
     "0239902301b340bfb8909d8f94149f22": {
      "model_module": "@jupyter-widgets/controls",
      "model_module_version": "1.5.0",
      "model_name": "ButtonStyleModel",
      "state": {}
     },
     "02524b7159e1498d9d3fd055a334ca4d": {
      "model_module": "@jupyter-widgets/controls",
      "model_module_version": "1.5.0",
      "model_name": "ProgressStyleModel",
      "state": {
       "description_width": ""
      }
     },
     "02c7383bd119457fb4b164c468d4f853": {
      "model_module": "@jupyter-widgets/controls",
      "model_module_version": "1.5.0",
      "model_name": "IntProgressModel",
      "state": {
       "layout": "IPY_MODEL_022fa88e28d24797884f53c0fc5fa728",
       "style": "IPY_MODEL_410c9da71d8c49f0bbd7b0d5572c1ff6",
       "value": 30
      }
     },
     "02dbbea0eb05457fb06f66bf57f9cac5": {
      "model_module": "@jupyter-widgets/controls",
      "model_module_version": "1.5.0",
      "model_name": "HBoxModel",
      "state": {
       "children": [
        "IPY_MODEL_415fbad086cc432298e482fcc7741c34",
        "IPY_MODEL_35be97c150104bd99532fd39a876bc5d",
        "IPY_MODEL_0dc92c85ae0f4aa6be8da9070ef50631",
        "IPY_MODEL_924f45161adc4dfd951c5658d519e19e"
       ],
       "layout": "IPY_MODEL_239da1191f0c4c3d98b15aa45c72eca5"
      }
     },
     "02ecedfc703d4e28bdc6e9a407aace25": {
      "model_module": "@jupyter-widgets/base",
      "model_module_version": "1.2.0",
      "model_name": "LayoutModel",
      "state": {
       "height": "32px",
       "overflow": "visible",
       "width": "100%"
      }
     },
     "03229363f047412985a201ede2b7d44d": {
      "model_module": "@jupyter-widgets/controls",
      "model_module_version": "1.5.0",
      "model_name": "ButtonModel",
      "state": {
       "description": "EDIT",
       "layout": "IPY_MODEL_87c4ec70e19146a39d7a059c002485a5",
       "style": "IPY_MODEL_0ee40e319f1a4f119baa8ee4f74d2a4d"
      }
     },
     "03579a329ab84250a3fe76629d5ae446": {
      "model_module": "@jupyter-widgets/base",
      "model_module_version": "1.2.0",
      "model_name": "LayoutModel",
      "state": {
       "overflow": "visible",
       "width": "100%"
      }
     },
     "039f16a55f954992ada4ca1bbcbd3530": {
      "model_module": "@jupyter-widgets/base",
      "model_module_version": "1.2.0",
      "model_name": "LayoutModel",
      "state": {
       "order": "-1",
       "overflow": "visible",
       "padding": "1px",
       "width": "0px"
      }
     },
     "03a3b29edd254de8bed5a2c8af1cc728": {
      "model_module": "@jupyter-widgets/controls",
      "model_module_version": "1.5.0",
      "model_name": "ButtonStyleModel",
      "state": {}
     },
     "03a7b0643bcd4fb99b6873caa3a92713": {
      "model_module": "@jupyter-widgets/base",
      "model_module_version": "1.2.0",
      "model_name": "LayoutModel",
      "state": {
       "order": "-1",
       "overflow": "visible",
       "padding": "1px",
       "width": "0px"
      }
     },
     "03b6a99a09f84b4183ea42578ed53277": {
      "model_module": "@jupyter-widgets/controls",
      "model_module_version": "1.5.0",
      "model_name": "HTMLModel",
      "state": {
       "layout": "IPY_MODEL_abdc0865f2e246bcb72bfb8af897beed",
       "style": "IPY_MODEL_96e3624941714fdcad1e7447755e285f",
       "value": "<i>test test test test test test test test test test test test test test test test test test test test test test test test </i>"
      }
     },
     "04afff54976a41dc86892b3dd2b77178": {
      "model_module": "@jupyter-widgets/controls",
      "model_module_version": "1.5.0",
      "model_name": "LabelModel",
      "state": {
       "layout": "IPY_MODEL_9072d8439b92454bb20e36cd2047be4e",
       "style": "IPY_MODEL_d09ed4a60fb74f2aaa07154ff9ade272",
       "value": "   objective"
      }
     },
     "04b812ed32014e8cae2c664db076fa5a": {
      "model_module": "@jupyter-widgets/controls",
      "model_module_version": "1.5.0",
      "model_name": "HBoxModel",
      "state": {
       "children": [
        "IPY_MODEL_33f2b24ec9e74bc0a99eb3b547a95753",
        "IPY_MODEL_a735799419ca48e89268041001318f1b",
        "IPY_MODEL_4abde3d568fd4a35ace9f4cbc110009b",
        "IPY_MODEL_4578e875b5894fb488cd7a58d7e075f0"
       ],
       "layout": "IPY_MODEL_94af21f6b4ee4bdf88558d1cfc796b18"
      }
     },
     "04bff49240d844f19a570e78ce761a7a": {
      "model_module": "@jupyter-widgets/base",
      "model_module_version": "1.2.0",
      "model_name": "LayoutModel",
      "state": {
       "border": "2px solid #00bcd4",
       "width": "98%"
      }
     },
     "059b81aa1e7c47489ea114a5fbea9f01": {
      "model_module": "@jupyter-widgets/base",
      "model_module_version": "1.2.0",
      "model_name": "LayoutModel",
      "state": {}
     },
     "05eaa3ff09bf4b77a20595c8f15ea006": {
      "model_module": "@jupyter-widgets/base",
      "model_module_version": "1.2.0",
      "model_name": "LayoutModel",
      "state": {
       "order": "-1",
       "overflow": "visible",
       "padding": "1px",
       "width": "0px"
      }
     },
     "0603d81575464133a18a276776e31144": {
      "model_module": "@jupyter-widgets/controls",
      "model_module_version": "1.5.0",
      "model_name": "ButtonModel",
      "state": {
       "description": "EDIT",
       "layout": "IPY_MODEL_81270cb573394b70be6d6567869714a5",
       "style": "IPY_MODEL_faff4fb4e5254b2ca743ea8b513250b0"
      }
     },
     "060c3ef6d63a4e5094fbac96946ff37e": {
      "model_module": "@jupyter-widgets/controls",
      "model_module_version": "1.5.0",
      "model_name": "ButtonStyleModel",
      "state": {}
     },
     "0623be632b5e4291af66b11e9d1818f4": {
      "model_module": "@jupyter-widgets/controls",
      "model_module_version": "1.5.0",
      "model_name": "LabelModel",
      "state": {
       "layout": "IPY_MODEL_f443faff91544ba6b385c09270e79b8d",
       "style": "IPY_MODEL_7b90e78499854e36aa72fb1198aae19c",
       "value": "Energy Weapon:"
      }
     },
     "062daf1997144eb3bb7dbcdb0ab98955": {
      "model_module": "@jupyter-widgets/base",
      "model_module_version": "1.2.0",
      "model_name": "LayoutModel",
      "state": {
       "display": "none",
       "width": "60px"
      }
     },
     "062e69268b0e421698ecfdec8e2cb582": {
      "model_module": "@jupyter-widgets/controls",
      "model_module_version": "1.5.0",
      "model_name": "DescriptionStyleModel",
      "state": {
       "description_width": ""
      }
     },
     "064d31a5e8404a81a2f4e332b69d7181": {
      "model_module": "@jupyter-widgets/controls",
      "model_module_version": "1.5.0",
      "model_name": "IntProgressModel",
      "state": {
       "layout": "IPY_MODEL_31a274349e7749c5b540fc1d68ba6ccd",
       "style": "IPY_MODEL_82b3b7f1712a447b86ce509a93c79aa2",
       "value": 30
      }
     },
     "06521c6f896543718df027816872aca6": {
      "model_module": "@jupyter-widgets/controls",
      "model_module_version": "1.5.0",
      "model_name": "ButtonStyleModel",
      "state": {}
     },
     "065bdf595b9c4f87b71df2b0bfd7bc13": {
      "model_module": "@jupyter-widgets/controls",
      "model_module_version": "1.5.0",
      "model_name": "HBoxModel",
      "state": {
       "children": [
        "IPY_MODEL_63062433b40241fca3ca83fe11209d6c",
        "IPY_MODEL_d34c6e3f65ad40c29fd291d6658125ce",
        "IPY_MODEL_5f0d438cc0684d329af2986156c9faad",
        "IPY_MODEL_18891d4676874a20bcdf8d1437d17a3e"
       ],
       "layout": "IPY_MODEL_98b4c3d33e1f4155bbf351d430327e63"
      }
     },
     "065c8e4f6edd40d29662cb378c863f16": {
      "model_module": "@jupyter-widgets/base",
      "model_module_version": "1.2.0",
      "model_name": "LayoutModel",
      "state": {
       "order": "-1",
       "overflow": "visible",
       "padding": "1px",
       "width": "0px"
      }
     },
     "068b5d079ea64c0d97807d2730104ed5": {
      "model_module": "@jupyter-widgets/controls",
      "model_module_version": "1.5.0",
      "model_name": "DescriptionStyleModel",
      "state": {
       "description_width": ""
      }
     },
     "06a4cbc9ae274893a0a1032ffdc61870": {
      "model_module": "@jupyter-widgets/controls",
      "model_module_version": "1.5.0",
      "model_name": "DescriptionStyleModel",
      "state": {
       "description_width": ""
      }
     },
     "06ccd36913b34065854db03975302a2e": {
      "model_module": "@jupyter-widgets/base",
      "model_module_version": "1.2.0",
      "model_name": "LayoutModel",
      "state": {}
     },
     "06cf99f61ac44fbeabe3d8b49c071ce1": {
      "model_module": "@jupyter-widgets/controls",
      "model_module_version": "1.5.0",
      "model_name": "ButtonModel",
      "state": {
       "layout": "IPY_MODEL_2b7efe716c344b3f8b108f67ea1198ef",
       "style": "IPY_MODEL_47f20c322e694b17963cb8bf771cbf7a"
      }
     },
     "070b5ca1108e489c915f0bd0670a321c": {
      "model_module": "@jupyter-widgets/controls",
      "model_module_version": "1.5.0",
      "model_name": "ProgressStyleModel",
      "state": {
       "description_width": ""
      }
     },
     "071e0429e726492a9c407da2352dc669": {
      "model_module": "@jupyter-widgets/controls",
      "model_module_version": "1.5.0",
      "model_name": "ButtonStyleModel",
      "state": {}
     },
     "071e8d3d99e54f16bc4e7a3190c13af8": {
      "model_module": "@jupyter-widgets/controls",
      "model_module_version": "1.5.0",
      "model_name": "IntProgressModel",
      "state": {
       "layout": "IPY_MODEL_2b35c56d2211420ba94c5e305b6ddad7",
       "style": "IPY_MODEL_8e79adac6165432993081d36609a6850",
       "value": 30
      }
     },
     "07208eba85d64c1fa3f9043d5148294f": {
      "model_module": "@jupyter-widgets/controls",
      "model_module_version": "1.5.0",
      "model_name": "ButtonStyleModel",
      "state": {}
     },
     "07424538db7646a6a52a8b8d2b458332": {
      "model_module": "@jupyter-widgets/controls",
      "model_module_version": "1.5.0",
      "model_name": "ButtonStyleModel",
      "state": {}
     },
     "07436e0ea8f9428c84d7b3d67b442a9a": {
      "model_module": "@jupyter-widgets/controls",
      "model_module_version": "1.5.0",
      "model_name": "IntProgressModel",
      "state": {
       "layout": "IPY_MODEL_2729c8eb14c84694ac2d3f68bfbb4d95",
       "style": "IPY_MODEL_a5d1198730f746ddb5d5562cfe0416ac",
       "value": 30
      }
     },
     "0753854992f5448bae1e1e55ceab7a11": {
      "model_module": "@jupyter-widgets/controls",
      "model_module_version": "1.5.0",
      "model_name": "LabelModel",
      "state": {
       "layout": "IPY_MODEL_5b7041cb806b453c97d6b0980badb106",
       "style": "IPY_MODEL_272e14032d6a4a9bb47e473a880da88d",
       "value": "   objective"
      }
     },
     "075a8dce281042adbf7fecd090e6f3e0": {
      "model_module": "@jupyter-widgets/controls",
      "model_module_version": "1.5.0",
      "model_name": "DescriptionStyleModel",
      "state": {
       "description_width": ""
      }
     },
     "078d76c2d47649d4a840536cd6414786": {
      "model_module": "@jupyter-widgets/controls",
      "model_module_version": "1.5.0",
      "model_name": "IntProgressModel",
      "state": {
       "layout": "IPY_MODEL_9742b282bfa34a16b91396223ef311ed",
       "style": "IPY_MODEL_92a613d09557456498db60ffee1cb480",
       "value": 30
      }
     },
     "07a3e9c5ee5a4aedac2ed690cf3ab747": {
      "model_module": "@jupyter-widgets/controls",
      "model_module_version": "1.5.0",
      "model_name": "ProgressStyleModel",
      "state": {
       "description_width": ""
      }
     },
     "07b08e3654d5407ba62030e4338ec916": {
      "model_module": "@jupyter-widgets/controls",
      "model_module_version": "1.5.0",
      "model_name": "DescriptionStyleModel",
      "state": {
       "description_width": ""
      }
     },
     "07e28c76460544a78e92d3d83cae4617": {
      "model_module": "@jupyter-widgets/controls",
      "model_module_version": "1.5.0",
      "model_name": "ButtonStyleModel",
      "state": {}
     },
     "08060ed6dbd24fd987bde99bcf8f079e": {
      "model_module": "@jupyter-widgets/base",
      "model_module_version": "1.2.0",
      "model_name": "LayoutModel",
      "state": {
       "height": "32px",
       "overflow": "visible",
       "width": "100%"
      }
     },
     "0812a066ef4b48599da67b7116b99390": {
      "model_module": "@jupyter-widgets/base",
      "model_module_version": "1.2.0",
      "model_name": "LayoutModel",
      "state": {}
     },
     "08522826546a49b6ae9a31bfef38af04": {
      "model_module": "@jupyter-widgets/controls",
      "model_module_version": "1.5.0",
      "model_name": "DescriptionStyleModel",
      "state": {
       "description_width": ""
      }
     },
     "0891e5099d294bd5a81171b50fb1ff81": {
      "model_module": "@jupyter-widgets/controls",
      "model_module_version": "1.5.0",
      "model_name": "ButtonModel",
      "state": {
       "layout": "IPY_MODEL_376475d9ce99417e862cfc3a2a3c503d",
       "style": "IPY_MODEL_3b39d77f4dd544d98472a62b9b8f1cf3"
      }
     },
     "08c28bb8c2914a9a92d1f374ef1fb123": {
      "model_module": "@jupyter-widgets/controls",
      "model_module_version": "1.5.0",
      "model_name": "ProgressStyleModel",
      "state": {
       "description_width": ""
      }
     },
     "08debeb7429c4d6384d828ea3c1624ab": {
      "model_module": "@jupyter-widgets/base",
      "model_module_version": "1.2.0",
      "model_name": "LayoutModel",
      "state": {
       "height": "32px",
       "overflow": "visible",
       "width": "100%"
      }
     },
     "08fa455babaf4e16b6d4f811afd8486e": {
      "model_module": "@jupyter-widgets/controls",
      "model_module_version": "1.5.0",
      "model_name": "LabelModel",
      "state": {
       "layout": "IPY_MODEL_c1557f4854aa43a4aab044f9c416b6dd",
       "style": "IPY_MODEL_bd59ac0edecb48c289d34f769ae73080",
       "value": "   objective"
      }
     },
     "08ffdc78c02a42b29c3845e1a5758f03": {
      "model_module": "@jupyter-widgets/controls",
      "model_module_version": "1.5.0",
      "model_name": "DropdownModel",
      "state": {
       "_options_labels": [
        "Any",
        "Hand Cannon",
        "Auto Rifle",
        "Scout Rifle",
        "Pulse Rifle",
        "Sidearm",
        "Submachine Gun",
        "Combt Bow",
        "Sniper Rifle",
        "Shotgun"
       ],
       "index": 0,
       "layout": "IPY_MODEL_193caaf46c854445b8ea8cdbe67f8757",
       "style": "IPY_MODEL_57fea8b1f93c4a8995f90f9261d20858"
      }
     },
     "0902e94aa05f471fb72896158cc2540e": {
      "model_module": "@jupyter-widgets/controls",
      "model_module_version": "1.5.0",
      "model_name": "ButtonStyleModel",
      "state": {}
     },
     "0915df91f66a4aea804a9d8926b5c1ae": {
      "model_module": "@jupyter-widgets/controls",
      "model_module_version": "1.5.0",
      "model_name": "DescriptionStyleModel",
      "state": {
       "description_width": ""
      }
     },
     "092a4fbe57e440499fbb267449df7d4e": {
      "model_module": "@jupyter-widgets/controls",
      "model_module_version": "1.5.0",
      "model_name": "ButtonStyleModel",
      "state": {}
     },
     "095a1670abd048298132b5ce9c20e4df": {
      "model_module": "@jupyter-widgets/base",
      "model_module_version": "1.2.0",
      "model_name": "LayoutModel",
      "state": {}
     },
     "097ff86e42d14c1088f0de06887566cf": {
      "model_module": "@jupyter-widgets/base",
      "model_module_version": "1.2.0",
      "model_name": "LayoutModel",
      "state": {
       "height": "32px",
       "overflow": "visible",
       "width": "100%"
      }
     },
     "099b535906e3427babef8143190582cd": {
      "model_module": "@jupyter-widgets/controls",
      "model_module_version": "1.5.0",
      "model_name": "LabelModel",
      "state": {
       "layout": "IPY_MODEL_de322105c03e4a5492c1331c3fb0e93c",
       "style": "IPY_MODEL_8002e8c693b147db972706359d21a0a4",
       "value": "   objective"
      }
     },
     "09acee2b8a374a28820e11168d40f478": {
      "model_module": "@jupyter-widgets/base",
      "model_module_version": "1.2.0",
      "model_name": "LayoutModel",
      "state": {
       "height": "32px",
       "overflow": "visible",
       "width": "100%"
      }
     },
     "09d1960b36d24e2692d964644a069acd": {
      "model_module": "@jupyter-widgets/controls",
      "model_module_version": "1.5.0",
      "model_name": "ProgressStyleModel",
      "state": {
       "description_width": ""
      }
     },
     "09f0ec577e25433cacfe87786c8b0764": {
      "model_module": "@jupyter-widgets/controls",
      "model_module_version": "1.5.0",
      "model_name": "ButtonStyleModel",
      "state": {}
     },
     "09f4216e16854adeb200dc23d8f8bca2": {
      "model_module": "@jupyter-widgets/base",
      "model_module_version": "1.2.0",
      "model_name": "LayoutModel",
      "state": {
       "height": "32px",
       "overflow": "visible",
       "width": "100%"
      }
     },
     "0a131d1092c7404c883f8e2503dff4f8": {
      "model_module": "@jupyter-widgets/controls",
      "model_module_version": "1.5.0",
      "model_name": "HTMLModel",
      "state": {
       "layout": "IPY_MODEL_b6d7435f8d4e42538c55adf1a69bcb5f",
       "style": "IPY_MODEL_326f164857854739848df0c4fc241b7b",
       "value": "<b>Activity Options</b>"
      }
     },
     "0a27ba9db9ab47ac920d26cdf8c88c18": {
      "model_module": "@jupyter-widgets/controls",
      "model_module_version": "1.5.0",
      "model_name": "ProgressStyleModel",
      "state": {
       "description_width": ""
      }
     },
     "0ac6959eba3d40f3b7892762f4636e86": {
      "model_module": "@jupyter-widgets/controls",
      "model_module_version": "1.5.0",
      "model_name": "ProgressStyleModel",
      "state": {
       "description_width": ""
      }
     },
     "0ade1ce4a3d14558b31ed79aa9f10886": {
      "model_module": "@jupyter-widgets/controls",
      "model_module_version": "1.5.0",
      "model_name": "DescriptionStyleModel",
      "state": {
       "description_width": ""
      }
     },
     "0b3141c5a5b84b29bbc2759be85bf06f": {
      "model_module": "@jupyter-widgets/controls",
      "model_module_version": "1.5.0",
      "model_name": "ButtonModel",
      "state": {
       "description": "EDIT",
       "layout": "IPY_MODEL_5eba6350fccd45dc8c759833f2f727ec",
       "style": "IPY_MODEL_dc6e24437e644ed4bdb07d81f094fb19"
      }
     },
     "0b86f31727aa4474afc2e592c33442f1": {
      "model_module": "@jupyter-widgets/controls",
      "model_module_version": "1.5.0",
      "model_name": "LabelModel",
      "state": {
       "layout": "IPY_MODEL_70dbd1627cd448819be861cd8e6a513f",
       "style": "IPY_MODEL_91923a5f97cc445f97d7e904d7b9c0f0",
       "value": "   objective"
      }
     },
     "0b8fad0a5ddb47fbbb5b70221bdfa4cd": {
      "model_module": "@jupyter-widgets/controls",
      "model_module_version": "1.5.0",
      "model_name": "HTMLModel",
      "state": {
       "layout": "IPY_MODEL_f5775eaa11604f0ab635765434a1bce3",
       "style": "IPY_MODEL_40b1fa40e8dd4e51ae5d8e749668c315",
       "value": "<b>Task Name</b>"
      }
     },
     "0b9aaedb9785491f84672b87968c6aa9": {
      "model_module": "@jupyter-widgets/controls",
      "model_module_version": "1.5.0",
      "model_name": "LabelModel",
      "state": {
       "layout": "IPY_MODEL_58e9a020160747cdb4ed38b82754cf36",
       "style": "IPY_MODEL_1954a7687535479bb0f4afcb164d52b1",
       "value": "   objective"
      }
     },
     "0bbeb8c06ea845a997f6da241eeed33f": {
      "model_module": "@jupyter-widgets/controls",
      "model_module_version": "1.5.0",
      "model_name": "DescriptionStyleModel",
      "state": {
       "description_width": ""
      }
     },
     "0bc1c7b80bff4f158a35668d18f8df4a": {
      "model_module": "@jupyter-widgets/controls",
      "model_module_version": "1.5.0",
      "model_name": "LabelModel",
      "state": {
       "layout": "IPY_MODEL_d2f27a6d24a64fffb4bc14d7c49b40f0",
       "style": "IPY_MODEL_db12fd04a62d48a88b7a7348d73a07f7",
       "value": "   objective"
      }
     },
     "0bcdac3ff83d4b4c9431e2418b2c757e": {
      "model_module": "@jupyter-widgets/controls",
      "model_module_version": "1.5.0",
      "model_name": "ButtonModel",
      "state": {
       "description": "EDIT",
       "layout": "IPY_MODEL_157a77aa60f3456ab0ec4fb804c3fa37",
       "style": "IPY_MODEL_b41dc36f3ecc42dabfa7b53ddf5d966a"
      }
     },
     "0c062a4ee9664c56b323dbee2137eab4": {
      "model_module": "@jupyter-widgets/base",
      "model_module_version": "1.2.0",
      "model_name": "LayoutModel",
      "state": {
       "display": "none",
       "width": "60px"
      }
     },
     "0c106370a5374101b05912084eb66764": {
      "model_module": "@jupyter-widgets/controls",
      "model_module_version": "1.5.0",
      "model_name": "ProgressStyleModel",
      "state": {
       "description_width": ""
      }
     },
     "0c2593235a284033bb4c41351192e92a": {
      "model_module": "@jupyter-widgets/base",
      "model_module_version": "1.2.0",
      "model_name": "LayoutModel",
      "state": {}
     },
     "0c4ddff0add24876a613e8517a2af403": {
      "model_module": "@jupyter-widgets/controls",
      "model_module_version": "1.5.0",
      "model_name": "ButtonModel",
      "state": {
       "description": "EDIT",
       "layout": "IPY_MODEL_7d7ea3b7274343a89650134201d3d271",
       "style": "IPY_MODEL_648ea4fe1b654bc486faef499ad5afd5"
      }
     },
     "0d011922db124715a75a1e8d385489f9": {
      "model_module": "@jupyter-widgets/controls",
      "model_module_version": "1.5.0",
      "model_name": "ButtonStyleModel",
      "state": {}
     },
     "0d0d547c7a354a0c894f087076cfd679": {
      "model_module": "@jupyter-widgets/controls",
      "model_module_version": "1.5.0",
      "model_name": "VBoxModel",
      "state": {
       "children": [
        "IPY_MODEL_9409017673e34582a8f980b7ac2c08c0",
        "IPY_MODEL_e964a66fa6564f3795d85c54b77b9ab8",
        "IPY_MODEL_4a61086f9d3f45bc8e02a28cc44dd7a7",
        "IPY_MODEL_54909ded670a4cb6a5a482da52be8f8f",
        "IPY_MODEL_c80112d34d5b4f6997dde4245ee18f42",
        "IPY_MODEL_24ec5ddad5b14120bbe3563fa98b639b",
        "IPY_MODEL_35f5bee5d64348d3a3b480329b5b8d14",
        "IPY_MODEL_54091c9b5f5a4f55b97a1b17b0ce2475",
        "IPY_MODEL_a147e14b88664dc999fc79f591d58cb1"
       ],
       "layout": "IPY_MODEL_fffd60ca50154161b43f4c96e15be104"
      }
     },
     "0d143bfcc16a49f5a701ac418b234a3b": {
      "model_module": "@jupyter-widgets/controls",
      "model_module_version": "1.5.0",
      "model_name": "LabelModel",
      "state": {
       "layout": "IPY_MODEL_99cc4fcdf6ed41b98e70a1ca92728b5a",
       "style": "IPY_MODEL_3fd835211a79410bb01760b363f70291",
       "value": "   objective"
      }
     },
     "0d2af5028ace4204be62f049ed3e9440": {
      "model_module": "@jupyter-widgets/controls",
      "model_module_version": "1.5.0",
      "model_name": "ButtonStyleModel",
      "state": {}
     },
     "0d9c8a37267c461a8c2f89270db971f3": {
      "model_module": "@jupyter-widgets/controls",
      "model_module_version": "1.5.0",
      "model_name": "ButtonStyleModel",
      "state": {}
     },
     "0dc92c85ae0f4aa6be8da9070ef50631": {
      "model_module": "@jupyter-widgets/controls",
      "model_module_version": "1.5.0",
      "model_name": "LabelModel",
      "state": {
       "layout": "IPY_MODEL_1c958b47ad254e3b9079f5aae5c1b714",
       "style": "IPY_MODEL_115a365b6f8545f1bfd04dd87c01c2bb",
       "value": "   objective"
      }
     },
     "0df735dfcee54f5b89c8649a9fb08285": {
      "model_module": "@jupyter-widgets/controls",
      "model_module_version": "1.5.0",
      "model_name": "DropdownModel",
      "state": {
       "_options_labels": [
        "Any",
        "Arc",
        "Solar",
        "Void"
       ],
       "index": 0,
       "layout": "IPY_MODEL_193caaf46c854445b8ea8cdbe67f8757",
       "style": "IPY_MODEL_d1b7a0375c694a66894846dff0c75fd4"
      }
     },
     "0e1cf88251d5483f8277e1b7f4f0796a": {
      "model_module": "@jupyter-widgets/controls",
      "model_module_version": "1.5.0",
      "model_name": "DescriptionStyleModel",
      "state": {
       "description_width": ""
      }
     },
     "0e5da5d902dc4216a3188803a78fda33": {
      "model_module": "@jupyter-widgets/controls",
      "model_module_version": "1.5.0",
      "model_name": "DescriptionStyleModel",
      "state": {
       "description_width": ""
      }
     },
     "0e65fb7a9adb498c89e27d99606a3658": {
      "model_module": "@jupyter-widgets/controls",
      "model_module_version": "1.5.0",
      "model_name": "ProgressStyleModel",
      "state": {
       "description_width": ""
      }
     },
     "0ea426ff637e4912b33233d9fd63bf50": {
      "model_module": "@jupyter-widgets/controls",
      "model_module_version": "1.5.0",
      "model_name": "IntProgressModel",
      "state": {
       "layout": "IPY_MODEL_82a15465dc144ceeaf58994795113b60",
       "style": "IPY_MODEL_25a8bba02215495db36b9bf52ecda910",
       "value": 30
      }
     },
     "0eaba4b3be8046459d19ca874203e145": {
      "model_module": "@jupyter-widgets/base",
      "model_module_version": "1.2.0",
      "model_name": "LayoutModel",
      "state": {
       "overflow": "visible",
       "width": "100%"
      }
     },
     "0eb1babd04f140e8b81864c5d8c7254e": {
      "model_module": "@jupyter-widgets/controls",
      "model_module_version": "1.5.0",
      "model_name": "ButtonModel",
      "state": {
       "description": "EDIT",
       "layout": "IPY_MODEL_4864198968d446bf98eb94af41e6fc6e",
       "style": "IPY_MODEL_06521c6f896543718df027816872aca6"
      }
     },
     "0ee40e319f1a4f119baa8ee4f74d2a4d": {
      "model_module": "@jupyter-widgets/controls",
      "model_module_version": "1.5.0",
      "model_name": "ButtonStyleModel",
      "state": {}
     },
     "0efd60f9dfd942c1ad5140051aac1826": {
      "model_module": "@jupyter-widgets/controls",
      "model_module_version": "1.5.0",
      "model_name": "DescriptionStyleModel",
      "state": {
       "description_width": ""
      }
     },
     "0f050eee08b3473cb907d5b3070802f7": {
      "model_module": "@jupyter-widgets/base",
      "model_module_version": "1.2.0",
      "model_name": "LayoutModel",
      "state": {
       "height": "32px",
       "order": "-2",
       "width": "32px"
      }
     },
     "0f20bc27afee4135ab99735f799db3a6": {
      "model_module": "@jupyter-widgets/controls",
      "model_module_version": "1.5.0",
      "model_name": "DescriptionStyleModel",
      "state": {
       "description_width": ""
      }
     },
     "0f347bee35714fd588783bf5279adfdc": {
      "model_module": "@jupyter-widgets/controls",
      "model_module_version": "1.5.0",
      "model_name": "ButtonStyleModel",
      "state": {}
     },
     "0f6edb39975b469fba2b941f6eb56b73": {
      "model_module": "@jupyter-widgets/base",
      "model_module_version": "1.2.0",
      "model_name": "LayoutModel",
      "state": {
       "display": "none",
       "width": "60px"
      }
     },
     "0f96f1a445c2497d9bbab007a4fff7ff": {
      "model_module": "@jupyter-widgets/controls",
      "model_module_version": "1.5.0",
      "model_name": "IntProgressModel",
      "state": {
       "layout": "IPY_MODEL_72bddd1c6ba444f0930606847f11703c",
       "style": "IPY_MODEL_1ed3a629be27426ea724eb96e85befbe",
       "value": 30
      }
     },
     "0fc95c1f5d2a487d95068ef53c17523f": {
      "model_module": "@jupyter-widgets/controls",
      "model_module_version": "1.5.0",
      "model_name": "HBoxModel",
      "state": {
       "children": [
        "IPY_MODEL_5132606a2b92443cb9720ff825f10eb1",
        "IPY_MODEL_eef28179821347b7be519df7bdd084d0",
        "IPY_MODEL_9e9386ff8d454a8cb349693b80e3f7d1",
        "IPY_MODEL_730ab2a7cd9c4485936af1a148f8dfe1"
       ],
       "layout": "IPY_MODEL_cac0e3bc1fef434ca8c6a17e77688c3e"
      }
     },
     "0fe902eaef3844d281d9e908a662e5c4": {
      "model_module": "@jupyter-widgets/controls",
      "model_module_version": "1.5.0",
      "model_name": "LabelModel",
      "state": {
       "layout": "IPY_MODEL_b89777eb018446f2aeca4913ad2505ba",
       "style": "IPY_MODEL_831cb449fec944cd9163ea98930f1dfd",
       "value": "   objective"
      }
     },
     "100b22802eee45fdb6366965c1fa082b": {
      "model_module": "@jupyter-widgets/controls",
      "model_module_version": "1.5.0",
      "model_name": "LabelModel",
      "state": {
       "layout": "IPY_MODEL_f6204755221743759975eafebc276688",
       "style": "IPY_MODEL_d7c6b7cb2de348fcaea568509273d1c2",
       "value": "Power Weapon:"
      }
     },
     "1037e1b6215f4121b38939947cefa3d0": {
      "model_module": "@jupyter-widgets/controls",
      "model_module_version": "1.5.0",
      "model_name": "HBoxModel",
      "state": {
       "children": [
        "IPY_MODEL_67dd93aa30ed46c2a25462a0c15a6785",
        "IPY_MODEL_375cb984fdb64ebcbbef9aea86afeda5",
        "IPY_MODEL_0fe902eaef3844d281d9e908a662e5c4",
        "IPY_MODEL_c8119514a4b94477a2b10677a071e153"
       ],
       "layout": "IPY_MODEL_f9ea4b90578249cb8831b89c170a8f55"
      }
     },
     "10422e5eecae47c596a1b8413d79b54c": {
      "model_module": "@jupyter-widgets/controls",
      "model_module_version": "1.5.0",
      "model_name": "ButtonStyleModel",
      "state": {}
     },
     "104dd913f08046548dbebc082e3aef01": {
      "model_module": "@jupyter-widgets/controls",
      "model_module_version": "1.5.0",
      "model_name": "ProgressStyleModel",
      "state": {
       "description_width": ""
      }
     },
     "1096228372534be490b4202771e48cf2": {
      "model_module": "@jupyter-widgets/controls",
      "model_module_version": "1.5.0",
      "model_name": "HTMLModel",
      "state": {
       "layout": "IPY_MODEL_03579a329ab84250a3fe76629d5ae446",
       "style": "IPY_MODEL_18c59986b2a84e0091d1b547416eb772",
       "value": "<font size=\"1\">Path/Path/Path/Path/</font size>"
      }
     },
     "109bd243c55d4559a4aecdc59f1a79bc": {
      "model_module": "@jupyter-widgets/controls",
      "model_module_version": "1.5.0",
      "model_name": "HTMLModel",
      "state": {
       "layout": "IPY_MODEL_89e1cbfacb144d0d9227441a2d78846e",
       "style": "IPY_MODEL_bcc147adc9714fe8ab715e8aebd699b4",
       "value": "<b>Task Name</b>"
      }
     },
     "10e8de91d9d547fe9537332aea56f06e": {
      "model_module": "@jupyter-widgets/controls",
      "model_module_version": "1.5.0",
      "model_name": "LabelModel",
      "state": {
       "layout": "IPY_MODEL_340c9c90a39d4b4ea23c7e29d5a026d6",
       "style": "IPY_MODEL_07b08e3654d5407ba62030e4338ec916",
       "value": "   objective"
      }
     },
     "11097ce719f246df80906869486cdfdd": {
      "model_module": "@jupyter-widgets/controls",
      "model_module_version": "1.5.0",
      "model_name": "ButtonModel",
      "state": {
       "layout": "IPY_MODEL_ca5dd75808e646f99d4744addd41f8f2",
       "style": "IPY_MODEL_9d7c49abbf954bdf8bcdf1751facee92"
      }
     },
     "115a365b6f8545f1bfd04dd87c01c2bb": {
      "model_module": "@jupyter-widgets/controls",
      "model_module_version": "1.5.0",
      "model_name": "DescriptionStyleModel",
      "state": {
       "description_width": ""
      }
     },
     "117ddd57970740359275d82b51661801": {
      "model_module": "@jupyter-widgets/controls",
      "model_module_version": "1.5.0",
      "model_name": "HTMLModel",
      "state": {
       "layout": "IPY_MODEL_d2e894454a184e0697e873c18f846ab0",
       "style": "IPY_MODEL_3ba5bba68f944a86919df344f0f9ea02",
       "value": "<b>Task Name</b>"
      }
     },
     "1195b2393c0b4107afc65289eca5fb1a": {
      "model_module": "@jupyter-widgets/controls",
      "model_module_version": "1.5.0",
      "model_name": "ButtonModel",
      "state": {
       "description": "EDIT",
       "layout": "IPY_MODEL_766aaa09f4cc436394a173d61acd30c0",
       "style": "IPY_MODEL_ccea1c5c45f24da7b46514c7f8fefa78"
      }
     },
     "11a2e05b6d304a3e8dd9c55546692059": {
      "model_module": "@jupyter-widgets/controls",
      "model_module_version": "1.5.0",
      "model_name": "ButtonStyleModel",
      "state": {}
     },
     "11b18c3648a144ce88b0546563555a8f": {
      "model_module": "@jupyter-widgets/base",
      "model_module_version": "1.2.0",
      "model_name": "LayoutModel",
      "state": {
       "height": "32px",
       "order": "-2",
       "width": "32px"
      }
     },
     "11c6d8ba76984e1f8d541051707d37d5": {
      "model_module": "@jupyter-widgets/controls",
      "model_module_version": "1.5.0",
      "model_name": "ButtonStyleModel",
      "state": {}
     },
     "11ca43e84230422eb46e8289c9df5695": {
      "model_module": "@jupyter-widgets/base",
      "model_module_version": "1.2.0",
      "model_name": "LayoutModel",
      "state": {
       "height": "32px",
       "order": "-2",
       "width": "32px"
      }
     },
     "11fefc1ce977499d9e79474182e59f75": {
      "model_module": "@jupyter-widgets/controls",
      "model_module_version": "1.5.0",
      "model_name": "IntProgressModel",
      "state": {
       "layout": "IPY_MODEL_6fd2f5d6032e4d5c88f7546c1d60a7b0",
       "style": "IPY_MODEL_85b6973107724650b04c3ce459ee5e53",
       "value": 30
      }
     },
     "1237d2e0c2f543b4a94c558bce97b495": {
      "model_module": "@jupyter-widgets/base",
      "model_module_version": "1.2.0",
      "model_name": "LayoutModel",
      "state": {}
     },
     "125bf2f196f14a0faeb01d203662808c": {
      "model_module": "@jupyter-widgets/controls",
      "model_module_version": "1.5.0",
      "model_name": "HTMLModel",
      "state": {
       "layout": "IPY_MODEL_3491ef9c625e47d2916939fd25392d8c",
       "style": "IPY_MODEL_e1dc15fdffe84406a37b2a0d9a421d5b",
       "value": "<i>test test test test test test test test test test test test test test test test test test test test test test test test </i>"
      }
     },
     "128b176594304897b57f753844c25e9f": {
      "model_module": "@jupyter-widgets/controls",
      "model_module_version": "1.5.0",
      "model_name": "ButtonModel",
      "state": {
       "layout": "IPY_MODEL_67b006264f484ac6b35200e706905632",
       "style": "IPY_MODEL_d52590e6550043dd966a4780bc8c4588"
      }
     },
     "12f7e88a4dbf4831b429c600be1102c4": {
      "model_module": "@jupyter-widgets/controls",
      "model_module_version": "1.5.0",
      "model_name": "ButtonStyleModel",
      "state": {}
     },
     "1308558144da4e2ab312fbbf1e928bb8": {
      "model_module": "@jupyter-widgets/controls",
      "model_module_version": "1.5.0",
      "model_name": "CheckboxModel",
      "state": {
       "description": "Hide Conflicting Objectives",
       "disabled": false,
       "layout": "IPY_MODEL_73f60538ec25441aa5398212d15ebd7d",
       "style": "IPY_MODEL_a3d9e3fc31694f52b75f9c23810be9e7",
       "value": false
      }
     },
     "137382a9e5ea48e38072fd426d3dbd0c": {
      "model_module": "@jupyter-widgets/controls",
      "model_module_version": "1.5.0",
      "model_name": "HBoxModel",
      "state": {
       "children": [
        "IPY_MODEL_4f3bb1aa0cf8496580de33d5ad05c43d",
        "IPY_MODEL_d6de0382f27a40cdbe8b520f0a71d456",
        "IPY_MODEL_a0f6672b29c64484a36ba0936d44fd93",
        "IPY_MODEL_daccf2585da14773a5398198c630c0af"
       ],
       "layout": "IPY_MODEL_5b72052cd7724a50a1b9110d79317625"
      }
     },
     "13ac7ccb52184eddbf8a48fb9250385c": {
      "model_module": "@jupyter-widgets/base",
      "model_module_version": "1.2.0",
      "model_name": "LayoutModel",
      "state": {
       "display": "none",
       "width": "60px"
      }
     },
     "13bf8fbf96354d95be593b797360d29e": {
      "model_module": "@jupyter-widgets/base",
      "model_module_version": "1.2.0",
      "model_name": "LayoutModel",
      "state": {
       "order": "-1",
       "overflow": "visible",
       "padding": "1px",
       "width": "0px"
      }
     },
     "13f0ebea78014770b8469eb807c84f9f": {
      "model_module": "@jupyter-widgets/controls",
      "model_module_version": "1.5.0",
      "model_name": "DescriptionStyleModel",
      "state": {
       "description_width": ""
      }
     },
     "1406b3be056649099837334425efff32": {
      "model_module": "@jupyter-widgets/controls",
      "model_module_version": "1.5.0",
      "model_name": "ButtonModel",
      "state": {
       "layout": "IPY_MODEL_afe9888e04714cf79911990d8f6731d9",
       "style": "IPY_MODEL_d3e8405a0c79400a8cdd7395f54ecb57"
      }
     },
     "1421d04f2c5e4f88894f39adbf884db7": {
      "model_module": "@jupyter-widgets/controls",
      "model_module_version": "1.5.0",
      "model_name": "ButtonStyleModel",
      "state": {}
     },
     "144e92cbf65246e39a21538391c25c8e": {
      "model_module": "@jupyter-widgets/controls",
      "model_module_version": "1.5.0",
      "model_name": "ButtonStyleModel",
      "state": {}
     },
     "1454b9e786c74109aaac8c11491ce597": {
      "model_module": "@jupyter-widgets/base",
      "model_module_version": "1.2.0",
      "model_name": "LayoutModel",
      "state": {}
     },
     "14718ca71308481e9e33fc107a28c2b9": {
      "model_module": "@jupyter-widgets/controls",
      "model_module_version": "1.5.0",
      "model_name": "LabelModel",
      "state": {
       "layout": "IPY_MODEL_f2c5db6548d741f78f62e365d2dd895e",
       "style": "IPY_MODEL_18ba7e1bc013460aab33e5edb2de85cc",
       "value": "   objective"
      }
     },
     "1487082a1c0e43f6af1121eadbff0968": {
      "model_module": "@jupyter-widgets/base",
      "model_module_version": "1.2.0",
      "model_name": "LayoutModel",
      "state": {}
     },
     "14947d80466549cfa17ed30f27d4cbb5": {
      "model_module": "@jupyter-widgets/controls",
      "model_module_version": "1.5.0",
      "model_name": "IntProgressModel",
      "state": {
       "layout": "IPY_MODEL_cc856595929e4b0eaf718769fea4f696",
       "style": "IPY_MODEL_c4ce43ac4f2c46ea920fc3a1d0d8ced3",
       "value": 30
      }
     },
     "14f36a133764494db16d1c3319a8a921": {
      "model_module": "@jupyter-widgets/controls",
      "model_module_version": "1.5.0",
      "model_name": "IntProgressModel",
      "state": {
       "layout": "IPY_MODEL_183ace563dcc470f8a78e623f3fb4190",
       "style": "IPY_MODEL_2f6b30f4675f4f92a9c531d55cf3c8d3",
       "value": 30
      }
     },
     "1500761b71f94a4586e3add028f41cfe": {
      "model_module": "@jupyter-widgets/controls",
      "model_module_version": "1.5.0",
      "model_name": "ButtonStyleModel",
      "state": {}
     },
     "15135375f0de4699a26eb341ae6793da": {
      "model_module": "@jupyter-widgets/controls",
      "model_module_version": "1.5.0",
      "model_name": "DescriptionStyleModel",
      "state": {
       "description_width": ""
      }
     },
     "1515dc8d48ed46e3871bc311aa7bd93e": {
      "model_module": "@jupyter-widgets/controls",
      "model_module_version": "1.5.0",
      "model_name": "ProgressStyleModel",
      "state": {
       "description_width": ""
      }
     },
     "15286013c85a4f759ca7aa618104d1d4": {
      "model_module": "@jupyter-widgets/base",
      "model_module_version": "1.2.0",
      "model_name": "LayoutModel",
      "state": {}
     },
     "1528888b7b614ee8935a4d67b2cb3903": {
      "model_module": "@jupyter-widgets/controls",
      "model_module_version": "1.5.0",
      "model_name": "HTMLModel",
      "state": {
       "layout": "IPY_MODEL_4b00931ca9d241c6ab20ad744abc48f4",
       "style": "IPY_MODEL_211cae5cc0524636b46d6bdfb6190d70",
       "value": "<font size=\"1\">Path/Path/Path/Path/</font size>"
      }
     },
     "1567779d17cf472fa80431edd789f4f6": {
      "model_module": "@jupyter-widgets/controls",
      "model_module_version": "1.5.0",
      "model_name": "HBoxModel",
      "state": {
       "children": [
        "IPY_MODEL_b8e87aa13f434666af9fff669dc273a2",
        "IPY_MODEL_002d180c9aa94914abbbea0dbc8583f8",
        "IPY_MODEL_a1776ca7a1284122975f20d69acb9fc2",
        "IPY_MODEL_56651bc375aa480db4e20cd1cebf7152"
       ],
       "layout": "IPY_MODEL_fcde31dc50074bf885a27d2c18390ed2"
      }
     },
     "157a77aa60f3456ab0ec4fb804c3fa37": {
      "model_module": "@jupyter-widgets/base",
      "model_module_version": "1.2.0",
      "model_name": "LayoutModel",
      "state": {
       "display": "none",
       "width": "60px"
      }
     },
     "158cb4769cc6437c89d33a66a4636265": {
      "model_module": "@jupyter-widgets/controls",
      "model_module_version": "1.5.0",
      "model_name": "HTMLModel",
      "state": {
       "layout": "IPY_MODEL_29eee5815b0e424f936aa25baa1d46df",
       "style": "IPY_MODEL_5fa2b289a2cc4c8f853e50f928ee9fb6",
       "value": "<b>Task Name</b>"
      }
     },
     "15b87e48af734b39a524a3f82300dddd": {
      "model_module": "@jupyter-widgets/controls",
      "model_module_version": "1.5.0",
      "model_name": "HBoxModel",
      "state": {
       "children": [
        "IPY_MODEL_bb3c7d0f4461449291a0001a04ef5c92",
        "IPY_MODEL_5bd51a5a9c5640eeaf24f33c3bc8d676",
        "IPY_MODEL_3bd9d97f76884dfea4e487db3ac2ad9b",
        "IPY_MODEL_9b8b8ceecb2f4247976160ddc31d6df1"
       ],
       "layout": "IPY_MODEL_6735d20731b44f91ac513e6e135260bf"
      }
     },
     "15b9ac0808bc4806a4d05565ad9d251e": {
      "model_module": "@jupyter-widgets/controls",
      "model_module_version": "1.5.0",
      "model_name": "HTMLModel",
      "state": {
       "layout": "IPY_MODEL_ec4b5589d816497dafe7b28c4f70e667",
       "style": "IPY_MODEL_1c9a4eb32a484a0b8c322a68c9cf62cb",
       "value": "<i>test test test test test test test test test test test test test test test test test test test test test test test test </i>"
      }
     },
     "15db9852fa7342f1967297858b85c1ee": {
      "model_module": "@jupyter-widgets/base",
      "model_module_version": "1.2.0",
      "model_name": "LayoutModel",
      "state": {}
     },
     "163b2bc83cbb4858adce9be73334c6c4": {
      "model_module": "@jupyter-widgets/controls",
      "model_module_version": "1.5.0",
      "model_name": "ProgressStyleModel",
      "state": {
       "description_width": ""
      }
     },
     "16531833511b416cb7296ce2a32ed4af": {
      "model_module": "@jupyter-widgets/controls",
      "model_module_version": "1.5.0",
      "model_name": "VBoxModel",
      "state": {
       "children": [
        "IPY_MODEL_8cf7f984a24c426ead4755738245674d",
        "IPY_MODEL_d5dfce578e154e33be046a0d1a9cdb64",
        "IPY_MODEL_afe9a62193b240ddb053b0e06bbbb570",
        "IPY_MODEL_64cef106e78c4b0089fe72fad6062b54"
       ],
       "layout": "IPY_MODEL_9a3ce723312248739265fe937b957074"
      }
     },
     "1656f36d121b4279936694d4a28edcd1": {
      "model_module": "@jupyter-widgets/controls",
      "model_module_version": "1.5.0",
      "model_name": "IntProgressModel",
      "state": {
       "layout": "IPY_MODEL_3d2d0b70a8e24040ad3de3593cceeaad",
       "style": "IPY_MODEL_624202f6fd064dbe8ddf67ed5a784c50",
       "value": 30
      }
     },
     "165bd8f2447b4dafaa5a53eb2676fd5b": {
      "model_module": "@jupyter-widgets/controls",
      "model_module_version": "1.5.0",
      "model_name": "ButtonModel",
      "state": {
       "layout": "IPY_MODEL_00e7d75af5f045e9af6de154a70afcd3",
       "style": "IPY_MODEL_389dacfbec904af98a25f558e1ee5dfd"
      }
     },
     "16671204a5514185962fd8e28b91893b": {
      "model_module": "@jupyter-widgets/base",
      "model_module_version": "1.2.0",
      "model_name": "LayoutModel",
      "state": {
       "order": "-1",
       "overflow": "visible",
       "padding": "1px",
       "width": "0px"
      }
     },
     "16b19f88244148fab3244e3ae07e812a": {
      "model_module": "@jupyter-widgets/controls",
      "model_module_version": "1.5.0",
      "model_name": "DescriptionStyleModel",
      "state": {
       "description_width": ""
      }
     },
     "16b8597308834cbe957fa63ed801a0a9": {
      "model_module": "@jupyter-widgets/controls",
      "model_module_version": "1.5.0",
      "model_name": "HTMLModel",
      "state": {
       "layout": "IPY_MODEL_e713d2574d7e4b4d920e887e4ff15b70",
       "style": "IPY_MODEL_8e6b2bb850e64a1b99fce871c7530e1d",
       "value": "<b>Gear Options</b>"
      }
     },
     "16bf119457694f99861a356e33302a37": {
      "model_module": "@jupyter-widgets/base",
      "model_module_version": "1.2.0",
      "model_name": "LayoutModel",
      "state": {
       "height": "32px",
       "order": "-2",
       "width": "32px"
      }
     },
     "16c88dfd703149ca9e49e5ccc1aa9045": {
      "model_module": "@jupyter-widgets/controls",
      "model_module_version": "1.5.0",
      "model_name": "ButtonModel",
      "state": {
       "layout": "IPY_MODEL_cd3b8f1b85684239bca836ea7e97c9df",
       "style": "IPY_MODEL_7cff07f03968411fb0703aeb88b050ff"
      }
     },
     "16d11b1b26f84fb3a6b2cdbbf87a29a8": {
      "model_module": "@jupyter-widgets/base",
      "model_module_version": "1.2.0",
      "model_name": "LayoutModel",
      "state": {
       "height": "32px",
       "order": "-2",
       "width": "32px"
      }
     },
     "16e52b411fa34a36ab8e677fe59a19b6": {
      "model_module": "@jupyter-widgets/controls",
      "model_module_version": "1.5.0",
      "model_name": "DescriptionStyleModel",
      "state": {
       "description_width": ""
      }
     },
     "171b63c0766343f4812333ac338f6df5": {
      "model_module": "@jupyter-widgets/controls",
      "model_module_version": "1.5.0",
      "model_name": "ButtonModel",
      "state": {
       "description": "EDIT",
       "layout": "IPY_MODEL_429b0a4be4eb427baf7e6c97df228175",
       "style": "IPY_MODEL_8532a801f46949cb94d1710a80bb04d6"
      }
     },
     "172a1a0585c64edeb25b9ad0e4902612": {
      "model_module": "@jupyter-widgets/controls",
      "model_module_version": "1.5.0",
      "model_name": "ButtonStyleModel",
      "state": {}
     },
     "1747c75ef94a4c319befa5e8c6448e5a": {
      "model_module": "@jupyter-widgets/base",
      "model_module_version": "1.2.0",
      "model_name": "LayoutModel",
      "state": {
       "height": "32px",
       "overflow": "visible",
       "width": "100%"
      }
     },
     "17af8909c88d40b5be89ae8c62eca7b5": {
      "model_module": "@jupyter-widgets/controls",
      "model_module_version": "1.5.0",
      "model_name": "IntProgressModel",
      "state": {
       "layout": "IPY_MODEL_86e6cfaebf3c42599818d0ceae20c0d8",
       "style": "IPY_MODEL_e7b7f384048f4c6f9e90f34476f14783",
       "value": 30
      }
     },
     "17b892b2de72491a8d330e8ea54dce69": {
      "model_module": "@jupyter-widgets/base",
      "model_module_version": "1.2.0",
      "model_name": "LayoutModel",
      "state": {
       "order": "-1",
       "overflow": "visible",
       "padding": "1px",
       "width": "0px"
      }
     },
     "183ace563dcc470f8a78e623f3fb4190": {
      "model_module": "@jupyter-widgets/base",
      "model_module_version": "1.2.0",
      "model_name": "LayoutModel",
      "state": {
       "height": "32px",
       "overflow": "visible",
       "width": "100%"
      }
     },
     "184dc9851641497190f42e2fb92cb089": {
      "model_module": "@jupyter-widgets/base",
      "model_module_version": "1.2.0",
      "model_name": "LayoutModel",
      "state": {
       "height": "32px",
       "order": "-2",
       "width": "32px"
      }
     },
     "185fe046d05a41ba849a8d7151370725": {
      "model_module": "@jupyter-widgets/controls",
      "model_module_version": "1.5.0",
      "model_name": "HBoxModel",
      "state": {
       "children": [
        "IPY_MODEL_905f0e39227245abaac5eb75dc29d7ee",
        "IPY_MODEL_3c3eb022f86c4bdb8956c3c67af497e7",
        "IPY_MODEL_0b9aaedb9785491f84672b87968c6aa9",
        "IPY_MODEL_5c089b9242254aa2be02ed6867941bfb"
       ],
       "layout": "IPY_MODEL_d3153f29f9c84404ae8c419ca4fe8799"
      }
     },
     "1875c17264c74f168b960824a1c766bc": {
      "model_module": "@jupyter-widgets/base",
      "model_module_version": "1.2.0",
      "model_name": "LayoutModel",
      "state": {
       "display": "flex",
       "flex_flow": "row wrap"
      }
     },
     "18891d4676874a20bcdf8d1437d17a3e": {
      "model_module": "@jupyter-widgets/controls",
      "model_module_version": "1.5.0",
      "model_name": "ButtonModel",
      "state": {
       "description": "EDIT",
       "layout": "IPY_MODEL_cac15aa6854d4bb4bfe687f751f0a1c5",
       "style": "IPY_MODEL_854d29f5df2a4e2bafc3d400c894c427"
      }
     },
     "18a4162a1f6048339798c9ca108575b9": {
      "model_module": "@jupyter-widgets/base",
      "model_module_version": "1.2.0",
      "model_name": "LayoutModel",
      "state": {
       "overflow": "visible",
       "width": "100%"
      }
     },
     "18b3a93217ba46858871658303f0067e": {
      "model_module": "@jupyter-widgets/controls",
      "model_module_version": "1.5.0",
      "model_name": "ButtonModel",
      "state": {
       "description": "EDIT",
       "layout": "IPY_MODEL_0170d6c5f5334a77ab88f7adfa36a6c3",
       "style": "IPY_MODEL_58b9fe2432d64110a7d0350f424f8422"
      }
     },
     "18ba7e1bc013460aab33e5edb2de85cc": {
      "model_module": "@jupyter-widgets/controls",
      "model_module_version": "1.5.0",
      "model_name": "DescriptionStyleModel",
      "state": {
       "description_width": ""
      }
     },
     "18c59986b2a84e0091d1b547416eb772": {
      "model_module": "@jupyter-widgets/controls",
      "model_module_version": "1.5.0",
      "model_name": "DescriptionStyleModel",
      "state": {
       "description_width": ""
      }
     },
     "19121e3c009540808c3c087e83eb1293": {
      "model_module": "@jupyter-widgets/controls",
      "model_module_version": "1.5.0",
      "model_name": "DescriptionStyleModel",
      "state": {
       "description_width": ""
      }
     },
     "19153662c56542e28684902f06890ea8": {
      "model_module": "@jupyter-widgets/controls",
      "model_module_version": "1.5.0",
      "model_name": "ButtonModel",
      "state": {
       "description": "EDIT",
       "layout": "IPY_MODEL_ebdf18e47123463eae8a132f6a29ea6c",
       "style": "IPY_MODEL_3ca88ca6a8ca456385ed0c457c90a63c"
      }
     },
     "1934a45f9815475d8fe3a0638b23b5e7": {
      "model_module": "@jupyter-widgets/controls",
      "model_module_version": "1.5.0",
      "model_name": "ButtonModel",
      "state": {
       "layout": "IPY_MODEL_bc886c0e8ae7457e837459db733c8065",
       "style": "IPY_MODEL_7c8bc37babcc43ac9abe87c265e472a2"
      }
     },
     "193caaf46c854445b8ea8cdbe67f8757": {
      "model_module": "@jupyter-widgets/base",
      "model_module_version": "1.2.0",
      "model_name": "LayoutModel",
      "state": {
       "border": "",
       "width": "98%"
      }
     },
     "1954a7687535479bb0f4afcb164d52b1": {
      "model_module": "@jupyter-widgets/controls",
      "model_module_version": "1.5.0",
      "model_name": "DescriptionStyleModel",
      "state": {
       "description_width": ""
      }
     },
     "19a8bb43f3c34ce293fcfaa1aa3ae23d": {
      "model_module": "@jupyter-widgets/controls",
      "model_module_version": "1.5.0",
      "model_name": "ButtonModel",
      "state": {
       "layout": "IPY_MODEL_a4ae396a6ee949678a224b54c1b7b8b3",
       "style": "IPY_MODEL_323d2b74e1684140824a1c5814701dc3"
      }
     },
     "19c8dd4d7e9e4da8b61d9b249ce19c7e": {
      "model_module": "@jupyter-widgets/controls",
      "model_module_version": "1.5.0",
      "model_name": "ButtonModel",
      "state": {
       "layout": "IPY_MODEL_63b5b27b65d94de784b00987a1066cf4",
       "style": "IPY_MODEL_6ed21054e8bd491d9b714bce7c83638c"
      }
     },
     "19d57cd787b64a279e9aef84bced63b8": {
      "model_module": "@jupyter-widgets/controls",
      "model_module_version": "1.5.0",
      "model_name": "IntProgressModel",
      "state": {
       "layout": "IPY_MODEL_658eeec51de243dcae96e78d9d1b9e47",
       "style": "IPY_MODEL_104dd913f08046548dbebc082e3aef01",
       "value": 30
      }
     },
     "1a209d685aaa4e06a87cd8fb0cf8bb45": {
      "model_module": "@jupyter-widgets/controls",
      "model_module_version": "1.5.0",
      "model_name": "DescriptionStyleModel",
      "state": {
       "description_width": ""
      }
     },
     "1a43aa7593474dd5acf363f63931ce9b": {
      "model_module": "@jupyter-widgets/base",
      "model_module_version": "1.2.0",
      "model_name": "LayoutModel",
      "state": {
       "height": "32px",
       "overflow": "visible",
       "width": "100%"
      }
     },
     "1a8b878ee0d346d0a9ddce5c5475ead5": {
      "model_module": "@jupyter-widgets/base",
      "model_module_version": "1.2.0",
      "model_name": "LayoutModel",
      "state": {}
     },
     "1aab9abb32ff4ae089553678033d6f46": {
      "model_module": "@jupyter-widgets/controls",
      "model_module_version": "1.5.0",
      "model_name": "ProgressStyleModel",
      "state": {
       "description_width": ""
      }
     },
     "1aed586fcead497dbf8c835b01245693": {
      "model_module": "@jupyter-widgets/controls",
      "model_module_version": "1.5.0",
      "model_name": "ButtonStyleModel",
      "state": {}
     },
     "1af69197a2004a938f434f5b36e48f37": {
      "model_module": "@jupyter-widgets/base",
      "model_module_version": "1.2.0",
      "model_name": "LayoutModel",
      "state": {
       "overflow": "visible",
       "width": "100%"
      }
     },
     "1bb87b5581334dc0898ff652f4197eaf": {
      "model_module": "@jupyter-widgets/controls",
      "model_module_version": "1.5.0",
      "model_name": "DescriptionStyleModel",
      "state": {
       "description_width": ""
      }
     },
     "1bbe16a0e58c4e97b5642b8555bcb4ea": {
      "model_module": "@jupyter-widgets/controls",
      "model_module_version": "1.5.0",
      "model_name": "ProgressStyleModel",
      "state": {
       "description_width": ""
      }
     },
     "1bd47625760144d0bb087271cb904f40": {
      "model_module": "@jupyter-widgets/controls",
      "model_module_version": "1.5.0",
      "model_name": "DescriptionStyleModel",
      "state": {
       "description_width": ""
      }
     },
     "1bd9c4b5645a40a98dc6a47aad7144dd": {
      "model_module": "@jupyter-widgets/controls",
      "model_module_version": "1.5.0",
      "model_name": "HBoxModel",
      "state": {
       "children": [
        "IPY_MODEL_e656b7d2c76d4d1d97bdb57fcdac26dd",
        "IPY_MODEL_2ceb9103bd344ca58c8f00859345a04f",
        "IPY_MODEL_0753854992f5448bae1e1e55ceab7a11",
        "IPY_MODEL_7d848016be2349a59104497ca9e52a31"
       ],
       "layout": "IPY_MODEL_5cfcde973962449284413c5369b8405b"
      }
     },
     "1becae56dea04e16b97b701a92ad65f2": {
      "model_module": "@jupyter-widgets/controls",
      "model_module_version": "1.5.0",
      "model_name": "ButtonStyleModel",
      "state": {}
     },
     "1c257d23ccac40cdb32256ed4d5282c6": {
      "model_module": "@jupyter-widgets/base",
      "model_module_version": "1.2.0",
      "model_name": "LayoutModel",
      "state": {}
     },
     "1c3cd95421a1450fb61cee37b79c0346": {
      "model_module": "@jupyter-widgets/controls",
      "model_module_version": "1.5.0",
      "model_name": "DescriptionStyleModel",
      "state": {
       "description_width": ""
      }
     },
     "1c958b47ad254e3b9079f5aae5c1b714": {
      "model_module": "@jupyter-widgets/base",
      "model_module_version": "1.2.0",
      "model_name": "LayoutModel",
      "state": {
       "order": "-1",
       "overflow": "visible",
       "padding": "1px",
       "width": "0px"
      }
     },
     "1c9a4eb32a484a0b8c322a68c9cf62cb": {
      "model_module": "@jupyter-widgets/controls",
      "model_module_version": "1.5.0",
      "model_name": "DescriptionStyleModel",
      "state": {
       "description_width": ""
      }
     },
     "1ce48f519e944bef8509430aa7c3f77d": {
      "model_module": "@jupyter-widgets/controls",
      "model_module_version": "1.5.0",
      "model_name": "IntProgressModel",
      "state": {
       "layout": "IPY_MODEL_5fef54f7d3224ed29b883636c81c96b0",
       "style": "IPY_MODEL_6ef57686c4054ba59b529e4a0ef90341",
       "value": 30
      }
     },
     "1d13299cc0904bca8d81fc7e8c059b8c": {
      "model_module": "@jupyter-widgets/controls",
      "model_module_version": "1.5.0",
      "model_name": "ProgressStyleModel",
      "state": {
       "description_width": ""
      }
     },
     "1d7a0ec65a2b4dc6b581d5f2a1563559": {
      "model_module": "@jupyter-widgets/controls",
      "model_module_version": "1.5.0",
      "model_name": "DescriptionStyleModel",
      "state": {
       "description_width": ""
      }
     },
     "1d8fb053bda64a59b46918eca44995c6": {
      "model_module": "@jupyter-widgets/base",
      "model_module_version": "1.2.0",
      "model_name": "LayoutModel",
      "state": {}
     },
     "1d9aea99d4704eac9a15f45375373810": {
      "model_module": "@jupyter-widgets/base",
      "model_module_version": "1.2.0",
      "model_name": "LayoutModel",
      "state": {
       "height": "20px"
      }
     },
     "1da04ed5cbf14ad08a6ba17969ad3d71": {
      "model_module": "@jupyter-widgets/base",
      "model_module_version": "1.2.0",
      "model_name": "LayoutModel",
      "state": {
       "height": "32px",
       "overflow": "visible",
       "width": "100%"
      }
     },
     "1dc47691689445148751478f9a50a712": {
      "model_module": "@jupyter-widgets/controls",
      "model_module_version": "1.5.0",
      "model_name": "ProgressStyleModel",
      "state": {
       "description_width": ""
      }
     },
     "1dd6a75376e74c8e8060c54367b47c20": {
      "model_module": "@jupyter-widgets/controls",
      "model_module_version": "1.5.0",
      "model_name": "DescriptionStyleModel",
      "state": {
       "description_width": ""
      }
     },
     "1dda35630d744d509d6269b36b2568c5": {
      "model_module": "@jupyter-widgets/controls",
      "model_module_version": "1.5.0",
      "model_name": "TextModel",
      "state": {
       "description": "Code:",
       "layout": "IPY_MODEL_f49cba5762094e2d9bfcac764aa0e746",
       "style": "IPY_MODEL_16b19f88244148fab3244e3ae07e812a",
       "value": "4cb3c449f0f19b452f685d4230677f2e"
      }
     },
     "1de719351b6d45b99a8ea842373aec8b": {
      "model_module": "@jupyter-widgets/base",
      "model_module_version": "1.2.0",
      "model_name": "LayoutModel",
      "state": {
       "order": "-1",
       "overflow": "visible",
       "padding": "1px",
       "width": "0px"
      }
     },
     "1e00409f60424895a1b4b838182c2c9e": {
      "model_module": "@jupyter-widgets/base",
      "model_module_version": "1.2.0",
      "model_name": "LayoutModel",
      "state": {
       "height": "32px",
       "order": "-2",
       "width": "32px"
      }
     },
     "1e75c506f26b4d3aaeb503c37b602337": {
      "model_module": "@jupyter-widgets/controls",
      "model_module_version": "1.5.0",
      "model_name": "LabelModel",
      "state": {
       "layout": "IPY_MODEL_68318099e9e840048bba343f6d918498",
       "style": "IPY_MODEL_da6a68ed5bfc45a19deace0ba2a0fddd",
       "value": "   objective"
      }
     },
     "1e9ec9e6943f4c5599d624c03ac3acc5": {
      "model_module": "@jupyter-widgets/base",
      "model_module_version": "1.2.0",
      "model_name": "LayoutModel",
      "state": {
       "height": "32px",
       "order": "-2",
       "width": "32px"
      }
     },
     "1eb006b1f9784089923026661c8fbc85": {
      "model_module": "@jupyter-widgets/controls",
      "model_module_version": "1.5.0",
      "model_name": "ButtonStyleModel",
      "state": {}
     },
     "1eb7e6689c99413990d09fb879b17b73": {
      "model_module": "@jupyter-widgets/base",
      "model_module_version": "1.2.0",
      "model_name": "LayoutModel",
      "state": {
       "display": "none",
       "width": "60px"
      }
     },
     "1ed3a629be27426ea724eb96e85befbe": {
      "model_module": "@jupyter-widgets/controls",
      "model_module_version": "1.5.0",
      "model_name": "ProgressStyleModel",
      "state": {
       "description_width": ""
      }
     },
     "1fb3bd071ce94bb5a03782b992bca4b4": {
      "model_module": "@jupyter-widgets/controls",
      "model_module_version": "1.5.0",
      "model_name": "ButtonModel",
      "state": {
       "layout": "IPY_MODEL_ccab510fbbaf4efb88156f592d6137c7",
       "style": "IPY_MODEL_d0843c4fadbe49ff883802db7dc21973"
      }
     },
     "1ffc6e66e2e745a8867cda1ad8628445": {
      "model_module": "@jupyter-widgets/controls",
      "model_module_version": "1.5.0",
      "model_name": "DescriptionStyleModel",
      "state": {
       "description_width": ""
      }
     },
     "2003e2185a344566b81323776a157d11": {
      "model_module": "@jupyter-widgets/base",
      "model_module_version": "1.2.0",
      "model_name": "LayoutModel",
      "state": {
       "display": "none",
       "width": "60px"
      }
     },
     "202bfac65a5e441e8d15d77c19a515fc": {
      "model_module": "@jupyter-widgets/base",
      "model_module_version": "1.2.0",
      "model_name": "LayoutModel",
      "state": {
       "height": "32px",
       "overflow": "visible",
       "width": "100%"
      }
     },
     "2030747e289d4a02b4b8ed82fad3a2a3": {
      "model_module": "@jupyter-widgets/controls",
      "model_module_version": "1.5.0",
      "model_name": "HTMLModel",
      "state": {
       "layout": "IPY_MODEL_b86795a43f274054b6311cfd1f76562f",
       "style": "IPY_MODEL_0f20bc27afee4135ab99735f799db3a6",
       "value": "<font size=\"1\">Path/Path/Path/Path/</font size>"
      }
     },
     "2030d2e88a624607ae2823dd4f5024e8": {
      "model_module": "@jupyter-widgets/controls",
      "model_module_version": "1.5.0",
      "model_name": "ButtonModel",
      "state": {
       "description": "EDIT",
       "layout": "IPY_MODEL_a732ec7b305046b79c06cad500f013df",
       "style": "IPY_MODEL_c798bee7685a431c8efcfb2fab5ecfeb"
      }
     },
     "2043f137cd944f74898a705022e84d15": {
      "model_module": "@jupyter-widgets/controls",
      "model_module_version": "1.5.0",
      "model_name": "DescriptionStyleModel",
      "state": {
       "description_width": ""
      }
     },
     "2058d77cd4bf46fa83c03ddbc50087e6": {
      "model_module": "@jupyter-widgets/controls",
      "model_module_version": "1.5.0",
      "model_name": "IntProgressModel",
      "state": {
       "layout": "IPY_MODEL_7c207a8553ba426c9c2241d0d73eebdf",
       "style": "IPY_MODEL_b65722641d6f4478b19834cd5cb901f9",
       "value": 30
      }
     },
     "209287f8f7964fddbc7500d509f475a7": {
      "model_module": "@jupyter-widgets/controls",
      "model_module_version": "1.5.0",
      "model_name": "DescriptionStyleModel",
      "state": {
       "description_width": ""
      }
     },
     "20c9fdcc9de3446aa522d5cf8a2337a4": {
      "model_module": "@jupyter-widgets/controls",
      "model_module_version": "1.5.0",
      "model_name": "HBoxModel",
      "state": {
       "children": [
        "IPY_MODEL_1fb3bd071ce94bb5a03782b992bca4b4",
        "IPY_MODEL_7a5683bb8e1e45dfad3b417a13aa2e44",
        "IPY_MODEL_cc16fd79e3e5439ca878ad39f28e7193",
        "IPY_MODEL_e7d89511d39b459996e7e7fbf4037cc2"
       ],
       "layout": "IPY_MODEL_1d8fb053bda64a59b46918eca44995c6"
      }
     },
     "211cae5cc0524636b46d6bdfb6190d70": {
      "model_module": "@jupyter-widgets/controls",
      "model_module_version": "1.5.0",
      "model_name": "DescriptionStyleModel",
      "state": {
       "description_width": ""
      }
     },
     "21701165a7f34f008cd98077b478bbd9": {
      "model_module": "@jupyter-widgets/controls",
      "model_module_version": "1.5.0",
      "model_name": "LabelModel",
      "state": {
       "layout": "IPY_MODEL_b94045b7900c4e3bb0e75ce03f34b4a0",
       "style": "IPY_MODEL_c231488658334cdeb5d635cc97f69e9e",
       "value": "   objective"
      }
     },
     "218e7c6a79fa43599148854a32b18a1f": {
      "model_module": "@jupyter-widgets/base",
      "model_module_version": "1.2.0",
      "model_name": "LayoutModel",
      "state": {
       "display": "none",
       "width": "60px"
      }
     },
     "21df16b3397945679269b7955341346a": {
      "model_module": "@jupyter-widgets/base",
      "model_module_version": "1.2.0",
      "model_name": "LayoutModel",
      "state": {}
     },
     "21e48b93710f42c5af957d7553686fef": {
      "model_module": "@jupyter-widgets/controls",
      "model_module_version": "1.5.0",
      "model_name": "ButtonStyleModel",
      "state": {}
     },
     "21f59cc948d2474ead6beeecccc4dea9": {
      "model_module": "@jupyter-widgets/controls",
      "model_module_version": "1.5.0",
      "model_name": "HBoxModel",
      "state": {
       "children": [
        "IPY_MODEL_eec3213660e54590b52b3b492bdcd116",
        "IPY_MODEL_8d2c5e2d12dd4c96b9a1568d33ce6b3c",
        "IPY_MODEL_f96ea18b25d34388af1fa20099db97f0",
        "IPY_MODEL_b21b009e06c44a8482318d7a11974112"
       ],
       "layout": "IPY_MODEL_9b4f401b37444bdcb61aa7021feebfae"
      }
     },
     "22316a3837cf4a24b9d9fa8797176f4e": {
      "model_module": "@jupyter-widgets/base",
      "model_module_version": "1.2.0",
      "model_name": "LayoutModel",
      "state": {
       "display": "flex",
       "flex_flow": "row wrap"
      }
     },
     "2240484ab2a54d1780cf04f6d4474ce5": {
      "model_module": "@jupyter-widgets/controls",
      "model_module_version": "1.5.0",
      "model_name": "DescriptionStyleModel",
      "state": {
       "description_width": ""
      }
     },
     "229af711efcf4c56970b217d6f9dd34a": {
      "model_module": "@jupyter-widgets/base",
      "model_module_version": "1.2.0",
      "model_name": "LayoutModel",
      "state": {
       "order": "-1",
       "overflow": "visible",
       "padding": "1px",
       "width": "0px"
      }
     },
     "22e9d0249a834e3aac436bbca697e0e0": {
      "model_module": "@jupyter-widgets/base",
      "model_module_version": "1.2.0",
      "model_name": "LayoutModel",
      "state": {
       "height": "32px",
       "overflow": "visible",
       "width": "100%"
      }
     },
     "2307e025418e41908b6950c2cfb0e9e7": {
      "model_module": "@jupyter-widgets/base",
      "model_module_version": "1.2.0",
      "model_name": "LayoutModel",
      "state": {
       "display": "none",
       "width": "60px"
      }
     },
     "2307e4dbf4664bd8a3d9dbc3069c7711": {
      "model_module": "@jupyter-widgets/controls",
      "model_module_version": "1.5.0",
      "model_name": "HBoxModel",
      "state": {
       "children": [
        "IPY_MODEL_2e629cf86dc74e04978c2b5b7784a495",
        "IPY_MODEL_064d31a5e8404a81a2f4e332b69d7181",
        "IPY_MODEL_099b535906e3427babef8143190582cd",
        "IPY_MODEL_9ed157fad3ce4b5e863be566153007e5"
       ],
       "layout": "IPY_MODEL_38e1c210f5364db29f703fe1d06ffdd3"
      }
     },
     "232769c34ebe40fea5570daa27698cb7": {
      "model_module": "@jupyter-widgets/controls",
      "model_module_version": "1.5.0",
      "model_name": "DescriptionStyleModel",
      "state": {
       "description_width": ""
      }
     },
     "235694a01d00421fa5cd0a89e44b8d6c": {
      "model_module": "@jupyter-widgets/base",
      "model_module_version": "1.2.0",
      "model_name": "LayoutModel",
      "state": {}
     },
     "236cf21e0b0248ebb30301c159c71b3a": {
      "model_module": "@jupyter-widgets/base",
      "model_module_version": "1.2.0",
      "model_name": "LayoutModel",
      "state": {
       "display": "none",
       "width": "60px"
      }
     },
     "237d6bfe1fdc47e6a3be8cb57a310ed6": {
      "model_module": "@jupyter-widgets/controls",
      "model_module_version": "1.5.0",
      "model_name": "ProgressStyleModel",
      "state": {
       "description_width": ""
      }
     },
     "239da1191f0c4c3d98b15aa45c72eca5": {
      "model_module": "@jupyter-widgets/base",
      "model_module_version": "1.2.0",
      "model_name": "LayoutModel",
      "state": {}
     },
     "23b4e5d1ba8841efb695016eebd4c7c4": {
      "model_module": "@jupyter-widgets/controls",
      "model_module_version": "1.5.0",
      "model_name": "LabelModel",
      "state": {
       "layout": "IPY_MODEL_58cceefb7eb5405eaee746bc5692b6e1",
       "style": "IPY_MODEL_ca17401358da49dd99b04ee7eb378fe7",
       "value": "   objective"
      }
     },
     "23c2b4f468274020be36c048722e6f47": {
      "model_module": "@jupyter-widgets/controls",
      "model_module_version": "1.5.0",
      "model_name": "IntProgressModel",
      "state": {
       "layout": "IPY_MODEL_02ecedfc703d4e28bdc6e9a407aace25",
       "style": "IPY_MODEL_4317185eb2744b79be31455c17480e98",
       "value": 30
      }
     },
     "23f0753b2ebc484893c69a26f0160f11": {
      "model_module": "@jupyter-widgets/base",
      "model_module_version": "1.2.0",
      "model_name": "LayoutModel",
      "state": {
       "order": "-1",
       "overflow": "visible",
       "padding": "1px",
       "width": "0px"
      }
     },
     "23fda08f428545e3b141e3e6c62393b6": {
      "model_module": "@jupyter-widgets/controls",
      "model_module_version": "1.5.0",
      "model_name": "ButtonModel",
      "state": {
       "layout": "IPY_MODEL_6430f888123040328750d106bfc87ed0",
       "style": "IPY_MODEL_0902e94aa05f471fb72896158cc2540e"
      }
     },
     "2424a9504c6d4aa182d73d41a69a9258": {
      "model_module": "@jupyter-widgets/controls",
      "model_module_version": "1.5.0",
      "model_name": "ButtonStyleModel",
      "state": {}
     },
     "242911d575554835856ef326810aad4b": {
      "model_module": "@jupyter-widgets/controls",
      "model_module_version": "1.5.0",
      "model_name": "ButtonStyleModel",
      "state": {}
     },
     "2464a4bf04c64aad919a0b46eaf16383": {
      "model_module": "@jupyter-widgets/controls",
      "model_module_version": "1.5.0",
      "model_name": "ProgressStyleModel",
      "state": {
       "description_width": ""
      }
     },
     "2477997526c8407ea0ec67f17fef0b9b": {
      "model_module": "@jupyter-widgets/base",
      "model_module_version": "1.2.0",
      "model_name": "LayoutModel",
      "state": {
       "display": "none",
       "width": "60px"
      }
     },
     "24797e95aa21471198f46cbb141b0f03": {
      "model_module": "@jupyter-widgets/controls",
      "model_module_version": "1.5.0",
      "model_name": "DescriptionStyleModel",
      "state": {
       "description_width": ""
      }
     },
     "24b9f9542b4e4c1ba301ca8e8f7a4a4a": {
      "model_module": "@jupyter-widgets/controls",
      "model_module_version": "1.5.0",
      "model_name": "ButtonStyleModel",
      "state": {}
     },
     "24ec5ddad5b14120bbe3563fa98b639b": {
      "model_module": "@jupyter-widgets/controls",
      "model_module_version": "1.5.0",
      "model_name": "LabelModel",
      "state": {
       "layout": "IPY_MODEL_a71ae88320ec4b5db43ecefbdaa3699b",
       "style": "IPY_MODEL_e2f3558f17ec46f5b3124b0fef6c3440",
       "value": "Tree:"
      }
     },
     "251d49f19bb24ed09cc853d82a842415": {
      "model_module": "@jupyter-widgets/controls",
      "model_module_version": "1.5.0",
      "model_name": "IntProgressModel",
      "state": {
       "layout": "IPY_MODEL_8f76dafe65ed4c00addfd7769762a10c",
       "style": "IPY_MODEL_93ea0b761b5340e2ad7ef713cf97e81a",
       "value": 30
      }
     },
     "2539042e8af541e48a65579b9b854476": {
      "model_module": "@jupyter-widgets/controls",
      "model_module_version": "1.5.0",
      "model_name": "VBoxModel",
      "state": {
       "children": [
        "IPY_MODEL_a9dfc67a6dfc45629b4e7d2e0462f60c",
        "IPY_MODEL_158cb4769cc6437c89d33a66a4636265",
        "IPY_MODEL_e0840344b9844ef2a9f12d965685cb77",
        "IPY_MODEL_ad502ef86c0d491b8006ed13952bede6"
       ],
       "layout": "IPY_MODEL_8eaf4be93aa64de8af4177c8b578f45b"
      }
     },
     "259a2023b6a64bc4a4e1fd5cd8ea5c8e": {
      "model_module": "@jupyter-widgets/base",
      "model_module_version": "1.2.0",
      "model_name": "LayoutModel",
      "state": {
       "display": "none",
       "width": "60px"
      }
     },
     "25a8bba02215495db36b9bf52ecda910": {
      "model_module": "@jupyter-widgets/controls",
      "model_module_version": "1.5.0",
      "model_name": "ProgressStyleModel",
      "state": {
       "description_width": ""
      }
     },
     "25c000e77488487a9f032a62050b9c75": {
      "model_module": "@jupyter-widgets/controls",
      "model_module_version": "1.5.0",
      "model_name": "DescriptionStyleModel",
      "state": {
       "description_width": ""
      }
     },
     "25cf7038092740f583fef4ba62a94f9a": {
      "model_module": "@jupyter-widgets/base",
      "model_module_version": "1.2.0",
      "model_name": "LayoutModel",
      "state": {
       "overflow": "visible",
       "width": "100%"
      }
     },
     "263fa3a3b08449a2ac4b655bf5e76bab": {
      "model_module": "@jupyter-widgets/controls",
      "model_module_version": "1.5.0",
      "model_name": "DescriptionStyleModel",
      "state": {
       "description_width": ""
      }
     },
     "265fbed9d73e4572a2c8a3665e660841": {
      "model_module": "@jupyter-widgets/controls",
      "model_module_version": "1.5.0",
      "model_name": "DropdownModel",
      "state": {
       "_options_labels": [
        "Any"
       ],
       "index": 0,
       "layout": "IPY_MODEL_193caaf46c854445b8ea8cdbe67f8757",
       "style": "IPY_MODEL_d24f39f13fba4aa48ce8978fd6f9300a"
      }
     },
     "269748966dfc48e59d82e81d0eb2f619": {
      "model_module": "@jupyter-widgets/controls",
      "model_module_version": "1.5.0",
      "model_name": "ButtonModel",
      "state": {
       "description": "EDIT",
       "layout": "IPY_MODEL_2003e2185a344566b81323776a157d11",
       "style": "IPY_MODEL_45e114dc005e4adca633b664c497b594"
      }
     },
     "26ad284cd3bb4e7898cd3ea6eb6cb7a9": {
      "model_module": "@jupyter-widgets/controls",
      "model_module_version": "1.5.0",
      "model_name": "LabelModel",
      "state": {
       "layout": "IPY_MODEL_13bf8fbf96354d95be593b797360d29e",
       "style": "IPY_MODEL_90a010e9e82f421d806914c627d5696b",
       "value": "   objective"
      }
     },
     "271a0681b9264e59b93622564867e6b9": {
      "model_module": "@jupyter-widgets/controls",
      "model_module_version": "1.5.0",
      "model_name": "ButtonModel",
      "state": {
       "description": "EDIT",
       "layout": "IPY_MODEL_2307e025418e41908b6950c2cfb0e9e7",
       "style": "IPY_MODEL_1aed586fcead497dbf8c835b01245693"
      }
     },
     "271b2f481bb247fc8db75b5e02d9b1c8": {
      "model_module": "@jupyter-widgets/controls",
      "model_module_version": "1.5.0",
      "model_name": "HBoxModel",
      "state": {
       "children": [
        "IPY_MODEL_f7492fb4a51c404fb7c2e1407ba6cf68",
        "IPY_MODEL_7410dc46445d4fd98a35ce4e54661485",
        "IPY_MODEL_c6c8b16ffe5a48a583cddfe024b253cb",
        "IPY_MODEL_269748966dfc48e59d82e81d0eb2f619"
       ],
       "layout": "IPY_MODEL_40839ca2864c4ad89a59d0100584c775"
      }
     },
     "2726d0d4775e4872a137c96dc09a5519": {
      "model_module": "@jupyter-widgets/base",
      "model_module_version": "1.2.0",
      "model_name": "LayoutModel",
      "state": {
       "height": "32px",
       "overflow": "visible",
       "width": "100%"
      }
     },
     "2729c8eb14c84694ac2d3f68bfbb4d95": {
      "model_module": "@jupyter-widgets/base",
      "model_module_version": "1.2.0",
      "model_name": "LayoutModel",
      "state": {
       "height": "32px",
       "overflow": "visible",
       "width": "100%"
      }
     },
     "272e14032d6a4a9bb47e473a880da88d": {
      "model_module": "@jupyter-widgets/controls",
      "model_module_version": "1.5.0",
      "model_name": "DescriptionStyleModel",
      "state": {
       "description_width": ""
      }
     },
     "274083f7153648cc8e70d127b80ab39a": {
      "model_module": "@jupyter-widgets/controls",
      "model_module_version": "1.5.0",
      "model_name": "HTMLModel",
      "state": {
       "layout": "IPY_MODEL_2bf23b5cf1df48eea2998e271b9786ab",
       "style": "IPY_MODEL_71be03fe500941cfb15af81e7a545a62",
       "value": "<i>test test test test test test test test test test test test test test test test test test test test test test test test </i>"
      }
     },
     "27557851fb994fc69aa63dbdadc29874": {
      "model_module": "@jupyter-widgets/controls",
      "model_module_version": "1.5.0",
      "model_name": "ButtonStyleModel",
      "state": {}
     },
     "2766f40fbaa94e3b9516331bcd01f67f": {
      "model_module": "@jupyter-widgets/base",
      "model_module_version": "1.2.0",
      "model_name": "LayoutModel",
      "state": {
       "display": "none",
       "width": "60px"
      }
     },
     "27d6e4294c4d440c9dd09e3b71ddaf60": {
      "model_module": "@jupyter-widgets/controls",
      "model_module_version": "1.5.0",
      "model_name": "ButtonModel",
      "state": {
       "layout": "IPY_MODEL_66cd8d0bb62a4bb9b28305fc0df880fb",
       "style": "IPY_MODEL_2f3b1e6dcb2045658929b3e2ab52871b"
      }
     },
     "27db3ea295c4493e89e2c5e30f15cf7e": {
      "model_module": "@jupyter-widgets/controls",
      "model_module_version": "1.5.0",
      "model_name": "ButtonModel",
      "state": {
       "description": "EDIT",
       "layout": "IPY_MODEL_c14a2763f9c045b9abf49b0d946a52f3",
       "style": "IPY_MODEL_427da14dbf024638adf17eba5c91b53e"
      }
     },
     "28a63be28ebd4829ba109012d2c40ca3": {
      "model_module": "@jupyter-widgets/controls",
      "model_module_version": "1.5.0",
      "model_name": "ButtonStyleModel",
      "state": {}
     },
     "28afd347614d410fa7830bf0564b33c5": {
      "model_module": "@jupyter-widgets/controls",
      "model_module_version": "1.5.0",
      "model_name": "HBoxModel",
      "state": {
       "children": [
        "IPY_MODEL_db1535a375654aabaee2ed358a8f0de2",
        "IPY_MODEL_54ee94fd87cb4069a2424ab08c9c0353",
        "IPY_MODEL_6e400103c6cf4860b8a657ca3924a00f",
        "IPY_MODEL_6fdc3a2a15f14dd3bd6a45688c4f9de3"
       ],
       "layout": "IPY_MODEL_a96366b4bda644948212170b60ac2f67"
      }
     },
     "28b112d0fd374d809914f4ae559e6d35": {
      "model_module": "@jupyter-widgets/controls",
      "model_module_version": "1.5.0",
      "model_name": "ButtonStyleModel",
      "state": {}
     },
     "28e4b53a3e17412a8efaf03a7e1411a3": {
      "model_module": "@jupyter-widgets/base",
      "model_module_version": "1.2.0",
      "model_name": "LayoutModel",
      "state": {}
     },
     "28e57486cfff4b6c88108f1de7b19974": {
      "model_module": "@jupyter-widgets/controls",
      "model_module_version": "1.5.0",
      "model_name": "DescriptionStyleModel",
      "state": {
       "description_width": ""
      }
     },
     "29795bc7986649a2831473b57deedd51": {
      "model_module": "@jupyter-widgets/base",
      "model_module_version": "1.2.0",
      "model_name": "LayoutModel",
      "state": {
       "order": "-1",
       "overflow": "visible",
       "padding": "1px",
       "width": "0px"
      }
     },
     "297be85d8dec491caefe6dad1ff129a7": {
      "model_module": "@jupyter-widgets/base",
      "model_module_version": "1.2.0",
      "model_name": "LayoutModel",
      "state": {}
     },
     "2980961822684957b7985df5c242fd36": {
      "model_module": "@jupyter-widgets/controls",
      "model_module_version": "1.5.0",
      "model_name": "ButtonStyleModel",
      "state": {}
     },
     "298a80c6e550415eabf22646c6188e3f": {
      "model_module": "@jupyter-widgets/base",
      "model_module_version": "1.2.0",
      "model_name": "LayoutModel",
      "state": {}
     },
     "29c101d0f70d45adac8825d1d4414333": {
      "model_module": "@jupyter-widgets/base",
      "model_module_version": "1.2.0",
      "model_name": "LayoutModel",
      "state": {}
     },
     "29eee5815b0e424f936aa25baa1d46df": {
      "model_module": "@jupyter-widgets/base",
      "model_module_version": "1.2.0",
      "model_name": "LayoutModel",
      "state": {
       "overflow": "visible",
       "width": "100%"
      }
     },
     "2a53f0237fde48e5a42931f6a1cdb4c9": {
      "model_module": "@jupyter-widgets/base",
      "model_module_version": "1.2.0",
      "model_name": "LayoutModel",
      "state": {
       "display": "none",
       "width": "60px"
      }
     },
     "2ab0481aa79140dc960174d92eedd5f7": {
      "model_module": "@jupyter-widgets/controls",
      "model_module_version": "1.5.0",
      "model_name": "ButtonModel",
      "state": {
       "description": "EDIT",
       "layout": "IPY_MODEL_a1448457aae84d138ffb917e97ea83db",
       "style": "IPY_MODEL_9e89a1f44eb24346b7de6c78de56a554"
      }
     },
     "2ab92e75b2ed43119c1c9f1a469d288f": {
      "model_module": "@jupyter-widgets/controls",
      "model_module_version": "1.5.0",
      "model_name": "DescriptionStyleModel",
      "state": {
       "description_width": ""
      }
     },
     "2ae83d7dd23f47359388d6b9601d32e6": {
      "model_module": "@jupyter-widgets/controls",
      "model_module_version": "1.5.0",
      "model_name": "VBoxModel",
      "state": {
       "children": [
        "IPY_MODEL_20c9fdcc9de3446aa522d5cf8a2337a4",
        "IPY_MODEL_bd698d3a8e934e79a260f5fa0487ae82",
        "IPY_MODEL_84cd66e50a7e4a5f9637338465cfda3b",
        "IPY_MODEL_70384a67ab3f444a8d8711dacaceabff",
        "IPY_MODEL_424d3a300a584164b5e35b3167285d95",
        "IPY_MODEL_7db86da910c443f5b9b6b1c0db274a2d"
       ],
       "layout": "IPY_MODEL_1487082a1c0e43f6af1121eadbff0968"
      }
     },
     "2af44a2c42794cb0822407369ad11704": {
      "model_module": "@jupyter-widgets/base",
      "model_module_version": "1.2.0",
      "model_name": "LayoutModel",
      "state": {
       "order": "-1",
       "overflow": "visible",
       "padding": "1px",
       "width": "0px"
      }
     },
     "2b35c56d2211420ba94c5e305b6ddad7": {
      "model_module": "@jupyter-widgets/base",
      "model_module_version": "1.2.0",
      "model_name": "LayoutModel",
      "state": {
       "height": "32px",
       "overflow": "visible",
       "width": "100%"
      }
     },
     "2b5f931fe9474ddf888e6265dd458cf2": {
      "model_module": "@jupyter-widgets/controls",
      "model_module_version": "1.5.0",
      "model_name": "DescriptionStyleModel",
      "state": {
       "description_width": ""
      }
     },
     "2b6b581b5ab94e73b30371d8aff3f768": {
      "model_module": "@jupyter-widgets/base",
      "model_module_version": "1.2.0",
      "model_name": "LayoutModel",
      "state": {
       "height": "32px",
       "order": "-2",
       "width": "32px"
      }
     },
     "2b6d7a21cb0f487da52a8cbd64461ca3": {
      "model_module": "@jupyter-widgets/controls",
      "model_module_version": "1.5.0",
      "model_name": "ButtonModel",
      "state": {
       "description": "EDIT",
       "layout": "IPY_MODEL_f4aaa3f301734d0fad5c9a0ecb449159",
       "style": "IPY_MODEL_4b935cabf0044a39ad5225c915c87b19"
      }
     },
     "2b79211172334ce3a1c1caae5abf33b1": {
      "model_module": "@jupyter-widgets/base",
      "model_module_version": "1.2.0",
      "model_name": "LayoutModel",
      "state": {
       "height": "32px",
       "order": "-2",
       "width": "32px"
      }
     },
     "2b7efe716c344b3f8b108f67ea1198ef": {
      "model_module": "@jupyter-widgets/base",
      "model_module_version": "1.2.0",
      "model_name": "LayoutModel",
      "state": {
       "height": "32px",
       "order": "-2",
       "width": "32px"
      }
     },
     "2beaa399d9aa449b9448620d292a5119": {
      "model_module": "@jupyter-widgets/controls",
      "model_module_version": "1.5.0",
      "model_name": "HTMLModel",
      "state": {
       "layout": "IPY_MODEL_e94fe1cd365d41fc964d8463bac4d9f6",
       "style": "IPY_MODEL_5344271fb62546109f421a0cb160d4bf",
       "value": "<b>Task Name</b>"
      }
     },
     "2bf23b5cf1df48eea2998e271b9786ab": {
      "model_module": "@jupyter-widgets/base",
      "model_module_version": "1.2.0",
      "model_name": "LayoutModel",
      "state": {
       "display": "flex",
       "flex_flow": "row wrap"
      }
     },
     "2bf71bc78d8f479c9636794c5a1910d2": {
      "model_module": "@jupyter-widgets/controls",
      "model_module_version": "1.5.0",
      "model_name": "VBoxModel",
      "state": {
       "children": [
        "IPY_MODEL_0a131d1092c7404c883f8e2503dff4f8",
        "IPY_MODEL_59bdc720aad04ae7977e20ee427fbca6",
        "IPY_MODEL_97d8639e93364962aa229c4c22aaccca"
       ],
       "layout": "IPY_MODEL_9217c36ff89945c4b925fc0ed6baee43"
      }
     },
     "2c0e4a81281645c5b57f111cc957f8c8": {
      "model_module": "@jupyter-widgets/controls",
      "model_module_version": "1.5.0",
      "model_name": "LabelModel",
      "state": {
       "layout": "IPY_MODEL_99e07d4d08174b71ac528b87ef3db2dd",
       "style": "IPY_MODEL_72d387b06eb34766ae3ff4bbe6c1f321",
       "value": "   objective"
      }
     },
     "2c535e9c53584dde92021368c41a3ffb": {
      "model_module": "@jupyter-widgets/base",
      "model_module_version": "1.2.0",
      "model_name": "LayoutModel",
      "state": {
       "order": "-1",
       "overflow": "visible",
       "padding": "1px",
       "width": "0px"
      }
     },
     "2c57817a44b343278ff2119504862dfd": {
      "model_module": "@jupyter-widgets/base",
      "model_module_version": "1.2.0",
      "model_name": "LayoutModel",
      "state": {
       "height": "32px",
       "overflow": "visible",
       "width": "100%"
      }
     },
     "2c5dfc2964ef4cce8a5ff8b66b2ec030": {
      "model_module": "@jupyter-widgets/controls",
      "model_module_version": "1.5.0",
      "model_name": "DescriptionStyleModel",
      "state": {
       "description_width": ""
      }
     },
     "2c81b5d8dea2429aa75715bd3713cb13": {
      "model_module": "@jupyter-widgets/controls",
      "model_module_version": "1.5.0",
      "model_name": "ButtonStyleModel",
      "state": {}
     },
     "2cc24be75df64f1abd2cdde4358d31ec": {
      "model_module": "@jupyter-widgets/base",
      "model_module_version": "1.2.0",
      "model_name": "LayoutModel",
      "state": {
       "display": "none",
       "width": "60px"
      }
     },
     "2ceb9103bd344ca58c8f00859345a04f": {
      "model_module": "@jupyter-widgets/controls",
      "model_module_version": "1.5.0",
      "model_name": "IntProgressModel",
      "state": {
       "layout": "IPY_MODEL_097ff86e42d14c1088f0de06887566cf",
       "style": "IPY_MODEL_6e27423e5af74d3a835d6d107b9fb9f2",
       "value": 30
      }
     },
     "2cf51c36cd2b403d88ea3cce9216df69": {
      "model_module": "@jupyter-widgets/base",
      "model_module_version": "1.2.0",
      "model_name": "LayoutModel",
      "state": {}
     },
     "2d1b10f1660a4be3b9b15442a0800d2a": {
      "model_module": "@jupyter-widgets/controls",
      "model_module_version": "1.5.0",
      "model_name": "VBoxModel",
      "state": {
       "children": [
        "IPY_MODEL_1096228372534be490b4202771e48cf2",
        "IPY_MODEL_c3bc9084f7ea40629b88bc054e2d9d32",
        "IPY_MODEL_125bf2f196f14a0faeb01d203662808c",
        "IPY_MODEL_b41a7865f24d46d3a961d19b9d1cc346"
       ],
       "layout": "IPY_MODEL_eddbaeba69d5422dbaa2180edaef127f"
      }
     },
     "2d4c8dbe615540f38dfce9437abb169e": {
      "model_module": "@jupyter-widgets/base",
      "model_module_version": "1.2.0",
      "model_name": "LayoutModel",
      "state": {
       "display": "none",
       "width": "60px"
      }
     },
     "2db94751165249db9fa70a5518c57b6d": {
      "model_module": "@jupyter-widgets/controls",
      "model_module_version": "1.5.0",
      "model_name": "ButtonStyleModel",
      "state": {}
     },
     "2dc45970632e4400a9357d5107b01a5d": {
      "model_module": "@jupyter-widgets/controls",
      "model_module_version": "1.5.0",
      "model_name": "ButtonModel",
      "state": {
       "layout": "IPY_MODEL_3f9c0ea2567741d1a6e7d88bd60d6146",
       "style": "IPY_MODEL_e5ecdbf04bb44f3b97f946e159744ca0"
      }
     },
     "2dda53fc8d1d4740a8c7cc692214007a": {
      "model_module": "@jupyter-widgets/base",
      "model_module_version": "1.2.0",
      "model_name": "LayoutModel",
      "state": {
       "display": "flex",
       "flex_flow": "row wrap"
      }
     },
     "2df2d58515c4463e918f3af34556ba2e": {
      "model_module": "@jupyter-widgets/controls",
      "model_module_version": "1.5.0",
      "model_name": "ButtonModel",
      "state": {
       "description": "EDIT",
       "layout": "IPY_MODEL_b640384b8f9a40c6ba762748f815fbb3",
       "style": "IPY_MODEL_af46e01ea62b4bfe8dda56f8d5161158"
      }
     },
     "2e205501fc1c4e1280727e67a854f000": {
      "model_module": "@jupyter-widgets/controls",
      "model_module_version": "1.5.0",
      "model_name": "DescriptionStyleModel",
      "state": {
       "description_width": ""
      }
     },
     "2e629cf86dc74e04978c2b5b7784a495": {
      "model_module": "@jupyter-widgets/controls",
      "model_module_version": "1.5.0",
      "model_name": "ButtonModel",
      "state": {
       "layout": "IPY_MODEL_b9619baae65a4c6990fafe2d8dd6edad",
       "style": "IPY_MODEL_2f5dad0e5d9d4978b3e6db02b22b66c7"
      }
     },
     "2e9c10bc2a41497492740f17082170fb": {
      "model_module": "@jupyter-widgets/controls",
      "model_module_version": "1.5.0",
      "model_name": "ButtonModel",
      "state": {
       "layout": "IPY_MODEL_7563e495adc44a3f928df7e78cb77d58",
       "style": "IPY_MODEL_f02a38222d2945aeb4870c3c893d9076"
      }
     },
     "2ee5613f094542cfad353fef98d7b570": {
      "model_module": "@jupyter-widgets/base",
      "model_module_version": "1.2.0",
      "model_name": "LayoutModel",
      "state": {
       "height": "32px",
       "order": "-2",
       "width": "32px"
      }
     },
     "2eedaf2d35b445508639bfde4f28dfd1": {
      "model_module": "@jupyter-widgets/base",
      "model_module_version": "1.2.0",
      "model_name": "LayoutModel",
      "state": {}
     },
     "2f0f977a14f04aed80d344f36ce6d112": {
      "model_module": "@jupyter-widgets/controls",
      "model_module_version": "1.5.0",
      "model_name": "HTMLModel",
      "state": {
       "layout": "IPY_MODEL_3f384500e61c4a6db41e077ca6a66b20",
       "style": "IPY_MODEL_28e57486cfff4b6c88108f1de7b19974",
       "value": "<i>test test test test test test test test test test test test test test test test test test test test test test test test </i>"
      }
     },
     "2f35dd3ee8e94731977c5191edafde0c": {
      "model_module": "@jupyter-widgets/base",
      "model_module_version": "1.2.0",
      "model_name": "LayoutModel",
      "state": {
       "height": "32px",
       "overflow": "visible",
       "width": "100%"
      }
     },
     "2f3b1e6dcb2045658929b3e2ab52871b": {
      "model_module": "@jupyter-widgets/controls",
      "model_module_version": "1.5.0",
      "model_name": "ButtonStyleModel",
      "state": {}
     },
     "2f47079a403046d5964930e40feb2ddd": {
      "model_module": "@jupyter-widgets/controls",
      "model_module_version": "1.5.0",
      "model_name": "DescriptionStyleModel",
      "state": {
       "description_width": ""
      }
     },
     "2f4d8548dd1940cab248ea0aad24c7bf": {
      "model_module": "@jupyter-widgets/controls",
      "model_module_version": "1.5.0",
      "model_name": "LabelModel",
      "state": {
       "layout": "IPY_MODEL_17b892b2de72491a8d330e8ea54dce69",
       "style": "IPY_MODEL_5a80f999c9a8405e8c668197e5a9a284",
       "value": "   objective"
      }
     },
     "2f4d95881f944042959d89e3fb9ed80e": {
      "model_module": "@jupyter-widgets/base",
      "model_module_version": "1.2.0",
      "model_name": "LayoutModel",
      "state": {
       "display": "none",
       "width": "60px"
      }
     },
     "2f5dad0e5d9d4978b3e6db02b22b66c7": {
      "model_module": "@jupyter-widgets/controls",
      "model_module_version": "1.5.0",
      "model_name": "ButtonStyleModel",
      "state": {}
     },
     "2f6b30f4675f4f92a9c531d55cf3c8d3": {
      "model_module": "@jupyter-widgets/controls",
      "model_module_version": "1.5.0",
      "model_name": "ProgressStyleModel",
      "state": {
       "description_width": ""
      }
     },
     "2f7b55d3043e42f089c813246156083d": {
      "model_module": "@jupyter-widgets/controls",
      "model_module_version": "1.5.0",
      "model_name": "IntProgressModel",
      "state": {
       "layout": "IPY_MODEL_e27ce791664448a3b69410b1fe1fb72f",
       "style": "IPY_MODEL_02524b7159e1498d9d3fd055a334ca4d",
       "value": 30
      }
     },
     "2f97639ae89a41a0b2d2fc2b5d34539f": {
      "model_module": "@jupyter-widgets/base",
      "model_module_version": "1.2.0",
      "model_name": "LayoutModel",
      "state": {}
     },
     "2fa3449cece44296a4d51f31ef432fdc": {
      "model_module": "@jupyter-widgets/base",
      "model_module_version": "1.2.0",
      "model_name": "LayoutModel",
      "state": {
       "height": "32px",
       "order": "-2",
       "width": "32px"
      }
     },
     "2fc5753b94f641bb8fc9f49a8e9d3179": {
      "model_module": "@jupyter-widgets/controls",
      "model_module_version": "1.5.0",
      "model_name": "ButtonModel",
      "state": {
       "layout": "IPY_MODEL_b73fd5941f5b437097e2754c0665f858",
       "style": "IPY_MODEL_9a0c2c280dfc4e1481c008381dcedf8e"
      }
     },
     "2fd70e366c0e4921b1ced164308cabf4": {
      "model_module": "@jupyter-widgets/controls",
      "model_module_version": "1.5.0",
      "model_name": "ButtonModel",
      "state": {
       "layout": "IPY_MODEL_aa758c285fc14b6aa72a650d0a2543aa",
       "style": "IPY_MODEL_a47f9a1062d14bcba0df8d3e65c97769"
      }
     },
     "2fdb3ff27ff2418bae28ae2022307dad": {
      "model_module": "@jupyter-widgets/base",
      "model_module_version": "1.2.0",
      "model_name": "LayoutModel",
      "state": {
       "order": "-1",
       "overflow": "visible",
       "padding": "1px",
       "width": "0px"
      }
     },
     "303cf3416a7e451e8cacd368b868ed20": {
      "model_module": "@jupyter-widgets/controls",
      "model_module_version": "1.5.0",
      "model_name": "DescriptionStyleModel",
      "state": {
       "description_width": ""
      }
     },
     "30aa7d27fa6b42f4be315787a6631096": {
      "model_module": "@jupyter-widgets/controls",
      "model_module_version": "1.5.0",
      "model_name": "VBoxModel",
      "state": {
       "children": [
        "IPY_MODEL_5d99b8684ced40189b82aff987c8bfb2",
        "IPY_MODEL_6cdc40bc38024bdaa731e56966e72098",
        "IPY_MODEL_d9ff6c58f5d04c51a3b83ff489202036",
        "IPY_MODEL_da8666d5b6594b5d893606b8eb7ac0cb",
        "IPY_MODEL_62593a8dbc304bc094d8210f1fe62775",
        "IPY_MODEL_a51a5231c5714506ab179a1a7bfd26fa"
       ],
       "layout": "IPY_MODEL_e50812a477a94596a63d99a11b6d1d62"
      }
     },
     "30ce4927e5954ee4b655fc9407c01076": {
      "model_module": "@jupyter-widgets/base",
      "model_module_version": "1.2.0",
      "model_name": "LayoutModel",
      "state": {
       "display": "flex",
       "flex_flow": "row wrap"
      }
     },
     "30d209aecafe4d55a130829df9391555": {
      "model_module": "@jupyter-widgets/controls",
      "model_module_version": "1.5.0",
      "model_name": "LabelModel",
      "state": {
       "layout": "IPY_MODEL_3f4d96a91d734f54a89a3d9e8074fd95",
       "style": "IPY_MODEL_f34a2205ba8b451d9dd7a3d781650cc8",
       "value": "   objective"
      }
     },
     "31a274349e7749c5b540fc1d68ba6ccd": {
      "model_module": "@jupyter-widgets/base",
      "model_module_version": "1.2.0",
      "model_name": "LayoutModel",
      "state": {
       "height": "32px",
       "overflow": "visible",
       "width": "100%"
      }
     },
     "31b8d8159e164bc5a933d32c6962d3e1": {
      "model_module": "@jupyter-widgets/base",
      "model_module_version": "1.2.0",
      "model_name": "LayoutModel",
      "state": {
       "height": "32px",
       "order": "-2",
       "width": "32px"
      }
     },
     "323d2b74e1684140824a1c5814701dc3": {
      "model_module": "@jupyter-widgets/controls",
      "model_module_version": "1.5.0",
      "model_name": "ButtonStyleModel",
      "state": {}
     },
     "326f164857854739848df0c4fc241b7b": {
      "model_module": "@jupyter-widgets/controls",
      "model_module_version": "1.5.0",
      "model_name": "DescriptionStyleModel",
      "state": {
       "description_width": ""
      }
     },
     "3272b76d4f8c40d385fdf0a783ab59c4": {
      "model_module": "@jupyter-widgets/controls",
      "model_module_version": "1.5.0",
      "model_name": "ButtonStyleModel",
      "state": {}
     },
     "3287dd15f4c4438ba56404f4ad162d46": {
      "model_module": "@jupyter-widgets/controls",
      "model_module_version": "1.5.0",
      "model_name": "ButtonModel",
      "state": {
       "layout": "IPY_MODEL_dc2e4eebd3f942e08aa60d02ba78c991",
       "style": "IPY_MODEL_34d0ef5f27e24d5392fe6dc3558661de"
      }
     },
     "32a1b8c03c3c4fa18da73d4837150fae": {
      "model_module": "@jupyter-widgets/base",
      "model_module_version": "1.2.0",
      "model_name": "LayoutModel",
      "state": {
       "height": "32px",
       "overflow": "visible",
       "width": "100%"
      }
     },
     "32aa27eb558d4839a11d26dedaafc1f1": {
      "model_module": "@jupyter-widgets/base",
      "model_module_version": "1.2.0",
      "model_name": "LayoutModel",
      "state": {
       "height": "32px",
       "order": "-2",
       "width": "32px"
      }
     },
     "32b584ad646d43608f2e801ab40e2d0a": {
      "model_module": "@jupyter-widgets/controls",
      "model_module_version": "1.5.0",
      "model_name": "VBoxModel",
      "state": {
       "children": [
        "IPY_MODEL_99f9db997fce418d88ee6a76b5e00c42",
        "IPY_MODEL_7e71e55366bb4aaba27af1918030fd23",
        "IPY_MODEL_ce5b8612c5ff4d5181ee9affd6e4cccb",
        "IPY_MODEL_7020f11739094d9d967349a2f37cfefc",
        "IPY_MODEL_02dbbea0eb05457fb06f66bf57f9cac5",
        "IPY_MODEL_21f59cc948d2474ead6beeecccc4dea9"
       ],
       "layout": "IPY_MODEL_01bf3eb756db4f6dae454f88bacebbd2"
      }
     },
     "32f50da4d34248138d9049b3c5ba679f": {
      "model_module": "@jupyter-widgets/base",
      "model_module_version": "1.2.0",
      "model_name": "LayoutModel",
      "state": {
       "display": "none",
       "width": "60px"
      }
     },
     "33099877991f401ebe8d84747eb2f9a5": {
      "model_module": "@jupyter-widgets/base",
      "model_module_version": "1.2.0",
      "model_name": "LayoutModel",
      "state": {}
     },
     "334dc1e2a23243f2b135e5b539d28ab3": {
      "model_module": "@jupyter-widgets/base",
      "model_module_version": "1.2.0",
      "model_name": "LayoutModel",
      "state": {}
     },
     "335460ceb812491a9d507e0bba3676e8": {
      "model_module": "@jupyter-widgets/base",
      "model_module_version": "1.2.0",
      "model_name": "LayoutModel",
      "state": {
       "border": "3px solid white",
       "flex": "1 1 0%",
       "margin": "10px",
       "min_width": "400px",
       "overflow": "visible",
       "padding": "10px",
       "width": "auto"
      }
     },
     "3369b3aba46a437da16fb1e45ede6bea": {
      "model_module": "@jupyter-widgets/controls",
      "model_module_version": "1.5.0",
      "model_name": "VBoxModel",
      "state": {
       "children": [
        "IPY_MODEL_d424fe736755468da59e3e5c965f3960",
        "IPY_MODEL_ccf82d41fdc644d2a4681c0772650382",
        "IPY_MODEL_c2eedd83b69a46f3a04f7e195f8480c8",
        "IPY_MODEL_c28d469a43ef48eba17039f9cd461b1f"
       ],
       "layout": "IPY_MODEL_cc1247b0ddfb4692a3db91de17442814"
      }
     },
     "33704a7005034ecd8730d9707dcf2e9d": {
      "model_module": "@jupyter-widgets/base",
      "model_module_version": "1.2.0",
      "model_name": "LayoutModel",
      "state": {
       "overflow": "visible",
       "width": "100%"
      }
     },
     "337a21fb1a5d462a9973d497e5f9cf37": {
      "model_module": "@jupyter-widgets/controls",
      "model_module_version": "1.5.0",
      "model_name": "DescriptionStyleModel",
      "state": {
       "description_width": ""
      }
     },
     "33928c65c93a4695bb3136d8274bc462": {
      "model_module": "@jupyter-widgets/controls",
      "model_module_version": "1.5.0",
      "model_name": "LabelModel",
      "state": {
       "layout": "IPY_MODEL_47c16d9698ce43a0ab4a6c3af1b74737",
       "style": "IPY_MODEL_3f8b76d4482a40128d1dc56e80d0a685",
       "value": "   objective"
      }
     },
     "33c9da9afddb46efa2ad73a8880bd3b0": {
      "model_module": "@jupyter-widgets/base",
      "model_module_version": "1.2.0",
      "model_name": "LayoutModel",
      "state": {
       "display": "none",
       "width": "60px"
      }
     },
     "33f2b24ec9e74bc0a99eb3b547a95753": {
      "model_module": "@jupyter-widgets/controls",
      "model_module_version": "1.5.0",
      "model_name": "ButtonModel",
      "state": {
       "layout": "IPY_MODEL_f26d97da58f0436fbacec839d931c70b",
       "style": "IPY_MODEL_94cffcaeac384e2a87848cea82da1deb"
      }
     },
     "340c9c90a39d4b4ea23c7e29d5a026d6": {
      "model_module": "@jupyter-widgets/base",
      "model_module_version": "1.2.0",
      "model_name": "LayoutModel",
      "state": {
       "order": "-1",
       "overflow": "visible",
       "padding": "1px",
       "width": "0px"
      }
     },
     "3431c20c77d44f768bac8090b26fcfe9": {
      "model_module": "@jupyter-widgets/controls",
      "model_module_version": "1.5.0",
      "model_name": "IntProgressModel",
      "state": {
       "layout": "IPY_MODEL_d0c103a0cc7f4cdaad8a745f14a6bec2",
       "style": "IPY_MODEL_b79b8595b7f14a1781df968f72cdbee9",
       "value": 30
      }
     },
     "348109615abb4f2cb7f2d5a9bffbd487": {
      "model_module": "@jupyter-widgets/base",
      "model_module_version": "1.2.0",
      "model_name": "LayoutModel",
      "state": {}
     },
     "3491ef9c625e47d2916939fd25392d8c": {
      "model_module": "@jupyter-widgets/base",
      "model_module_version": "1.2.0",
      "model_name": "LayoutModel",
      "state": {
       "display": "flex",
       "flex_flow": "row wrap"
      }
     },
     "34cfa97b6f8d4ac0a0e34478526aa03d": {
      "model_module": "@jupyter-widgets/controls",
      "model_module_version": "1.5.0",
      "model_name": "IntProgressModel",
      "state": {
       "layout": "IPY_MODEL_40dd645b1cd64be1aa90bd7596f48461",
       "style": "IPY_MODEL_0a27ba9db9ab47ac920d26cdf8c88c18",
       "value": 30
      }
     },
     "34d0ef5f27e24d5392fe6dc3558661de": {
      "model_module": "@jupyter-widgets/controls",
      "model_module_version": "1.5.0",
      "model_name": "ButtonStyleModel",
      "state": {}
     },
     "34e1051bcbb343ec8c14aa19a9ee53c5": {
      "model_module": "@jupyter-widgets/controls",
      "model_module_version": "1.5.0",
      "model_name": "VBoxModel",
      "state": {
       "children": [
        "IPY_MODEL_eba4316014594e41a85fcdc704445d42",
        "IPY_MODEL_ecd04f9d6f374b36bf7dc81f0985935d",
        "IPY_MODEL_47f9e6b52c634949942af6f08457c3a0",
        "IPY_MODEL_7578da15a7e84009a7d63a7aa61ddbf5",
        "IPY_MODEL_e6fcd1236e46481c8adfe2cee7e631cc",
        "IPY_MODEL_f18334767f0149e08f90aff7018b19a9"
       ],
       "layout": "IPY_MODEL_37397e228068479cae56575fc7b536d4"
      }
     },
     "354fe42dc9764fd29639f767e16f4014": {
      "model_module": "@jupyter-widgets/controls",
      "model_module_version": "1.5.0",
      "model_name": "ButtonStyleModel",
      "state": {}
     },
     "35be97c150104bd99532fd39a876bc5d": {
      "model_module": "@jupyter-widgets/controls",
      "model_module_version": "1.5.0",
      "model_name": "IntProgressModel",
      "state": {
       "layout": "IPY_MODEL_c0971a162deb466eb108041e0c49ca8b",
       "style": "IPY_MODEL_0e65fb7a9adb498c89e27d99606a3658",
       "value": 30
      }
     },
     "35c71a14bf9a4d619553cb8c9b1be57b": {
      "model_module": "@jupyter-widgets/controls",
      "model_module_version": "1.5.0",
      "model_name": "HBoxModel",
      "state": {
       "children": [
        "IPY_MODEL_802f205b3e1346cc840c1b8e847e7f0b",
        "IPY_MODEL_ef1b845cf17445f48f124b6d32461157",
        "IPY_MODEL_3f78ec7e6d194df7a8cac693dd68e09d",
        "IPY_MODEL_6bdeca805d83403eb3f9bcc58a601720"
       ],
       "layout": "IPY_MODEL_a54d901531e34b4c96a76c57ebe9ab5a"
      }
     },
     "35f5bee5d64348d3a3b480329b5b8d14": {
      "model_module": "@jupyter-widgets/controls",
      "model_module_version": "1.5.0",
      "model_name": "DropdownModel",
      "state": {
       "_options_labels": [
        "Any"
       ],
       "disabled": true,
       "index": 0,
       "layout": "IPY_MODEL_193caaf46c854445b8ea8cdbe67f8757",
       "style": "IPY_MODEL_0ade1ce4a3d14558b31ed79aa9f10886"
      }
     },
     "361eb5d90c7d4ef4af389ae9627f40b9": {
      "model_module": "@jupyter-widgets/controls",
      "model_module_version": "1.5.0",
      "model_name": "ButtonModel",
      "state": {
       "description": "EDIT",
       "layout": "IPY_MODEL_6de72b36b5824a35ae21847429b7bc69",
       "style": "IPY_MODEL_07208eba85d64c1fa3f9043d5148294f"
      }
     },
     "3635d26614f5458586902ca026ca88fe": {
      "model_module": "@jupyter-widgets/controls",
      "model_module_version": "1.5.0",
      "model_name": "LabelModel",
      "state": {
       "layout": "IPY_MODEL_9dcbbac785c8446a922d514b305575ed",
       "style": "IPY_MODEL_8990c657cd144002aab936a55b4b08eb",
       "value": "   objective"
      }
     },
     "366b998be3314cc88cd44d4d6662fa11": {
      "model_module": "@jupyter-widgets/controls",
      "model_module_version": "1.5.0",
      "model_name": "ProgressStyleModel",
      "state": {
       "description_width": ""
      }
     },
     "3717fdfd7dc34e5c8a92c2182b624be2": {
      "model_module": "@jupyter-widgets/base",
      "model_module_version": "1.2.0",
      "model_name": "LayoutModel",
      "state": {
       "height": "32px",
       "overflow": "visible",
       "width": "100%"
      }
     },
     "37397e228068479cae56575fc7b536d4": {
      "model_module": "@jupyter-widgets/base",
      "model_module_version": "1.2.0",
      "model_name": "LayoutModel",
      "state": {}
     },
     "3739f8edfe49420d846be94ecfdcb631": {
      "model_module": "@jupyter-widgets/base",
      "model_module_version": "1.2.0",
      "model_name": "LayoutModel",
      "state": {}
     },
     "375cb984fdb64ebcbbef9aea86afeda5": {
      "model_module": "@jupyter-widgets/controls",
      "model_module_version": "1.5.0",
      "model_name": "IntProgressModel",
      "state": {
       "layout": "IPY_MODEL_6e70d43c3c6c4672bf0d4a55f505c673",
       "style": "IPY_MODEL_163b2bc83cbb4858adce9be73334c6c4",
       "value": 30
      }
     },
     "376475d9ce99417e862cfc3a2a3c503d": {
      "model_module": "@jupyter-widgets/base",
      "model_module_version": "1.2.0",
      "model_name": "LayoutModel",
      "state": {
       "height": "32px",
       "order": "-2",
       "width": "32px"
      }
     },
     "37757ad9c764479b8539e647dfc5ed5f": {
      "model_module": "@jupyter-widgets/base",
      "model_module_version": "1.2.0",
      "model_name": "LayoutModel",
      "state": {
       "height": "32px",
       "overflow": "visible",
       "width": "100%"
      }
     },
     "377959a6723e4dcda852e92ec2c85aa0": {
      "model_module": "@jupyter-widgets/controls",
      "model_module_version": "1.5.0",
      "model_name": "LabelModel",
      "state": {
       "layout": "IPY_MODEL_ac41c7a5deb346b7b02c38faa7c6950d",
       "style": "IPY_MODEL_0112e2818402436f96993d0994f47688",
       "value": "Armor Set:"
      }
     },
     "379e555f5fb24dfdb2987bd9b72c149e": {
      "model_module": "@jupyter-widgets/controls",
      "model_module_version": "1.5.0",
      "model_name": "DescriptionStyleModel",
      "state": {
       "description_width": ""
      }
     },
     "37b4d034158d4dd9b71b8fbe3fabfade": {
      "model_module": "@jupyter-widgets/controls",
      "model_module_version": "1.5.0",
      "model_name": "IntProgressModel",
      "state": {
       "layout": "IPY_MODEL_09acee2b8a374a28820e11168d40f478",
       "style": "IPY_MODEL_e5a3266ff35a44b8a789f63496c3ee93",
       "value": 30
      }
     },
     "37ff137590304299916343d47981f9bb": {
      "model_module": "@jupyter-widgets/controls",
      "model_module_version": "1.5.0",
      "model_name": "ButtonStyleModel",
      "state": {}
     },
     "38245ebe4aa74fb9955e1d79e16bad4a": {
      "model_module": "@jupyter-widgets/controls",
      "model_module_version": "1.5.0",
      "model_name": "HTMLModel",
      "state": {
       "layout": "IPY_MODEL_ff664c0b059e495bb46b63c9ed579e4e",
       "style": "IPY_MODEL_c7a4986c8ecb48a59968a3e9e043640a",
       "value": "<font size=\"1\">Path/Path/Path/Path/</font size>"
      }
     },
     "3863e8487f6048be8cb8267c66ef6a23": {
      "model_module": "@jupyter-widgets/controls",
      "model_module_version": "1.5.0",
      "model_name": "IntProgressModel",
      "state": {
       "layout": "IPY_MODEL_f984b6bfd64f4452859a306386180193",
       "style": "IPY_MODEL_93a63c309349467bbef199ba3ad82190",
       "value": 30
      }
     },
     "38784d65d9104d38b093bc712e0d2f65": {
      "model_module": "@jupyter-widgets/controls",
      "model_module_version": "1.5.0",
      "model_name": "ProgressStyleModel",
      "state": {
       "description_width": ""
      }
     },
     "389dacfbec904af98a25f558e1ee5dfd": {
      "model_module": "@jupyter-widgets/controls",
      "model_module_version": "1.5.0",
      "model_name": "ButtonStyleModel",
      "state": {}
     },
     "38e1c210f5364db29f703fe1d06ffdd3": {
      "model_module": "@jupyter-widgets/base",
      "model_module_version": "1.2.0",
      "model_name": "LayoutModel",
      "state": {}
     },
     "3a13895d05cd4da8b8e93fc92718ae17": {
      "model_module": "@jupyter-widgets/controls",
      "model_module_version": "1.5.0",
      "model_name": "LabelModel",
      "state": {
       "layout": "IPY_MODEL_995fcf835391423fa9db766d217073b2",
       "style": "IPY_MODEL_06a4cbc9ae274893a0a1032ffdc61870",
       "value": "   objective"
      }
     },
     "3a23fad8d67241a9b2b2b53b39d21d87": {
      "model_module": "@jupyter-widgets/controls",
      "model_module_version": "1.5.0",
      "model_name": "ButtonModel",
      "state": {
       "layout": "IPY_MODEL_7b059b0da3804a14b58a7ead4c97aef4",
       "style": "IPY_MODEL_37ff137590304299916343d47981f9bb"
      }
     },
     "3a66169d0a9c4c52b6165e901058f502": {
      "model_module": "@jupyter-widgets/base",
      "model_module_version": "1.2.0",
      "model_name": "LayoutModel",
      "state": {
       "height": "32px",
       "order": "-2",
       "width": "32px"
      }
     },
     "3ac1c03434af48ce84d91303222a79bb": {
      "model_module": "@jupyter-widgets/controls",
      "model_module_version": "1.5.0",
      "model_name": "LabelModel",
      "state": {
       "layout": "IPY_MODEL_28e4b53a3e17412a8efaf03a7e1411a3",
       "style": "IPY_MODEL_40fa40e4f0594dd3a31c77f2849ecea5",
       "value": "In order to authenticate, sign in with Bungie to get an authentication code"
      }
     },
     "3ac3190168cb4abfb931f8f7355883e5": {
      "model_module": "@jupyter-widgets/base",
      "model_module_version": "1.2.0",
      "model_name": "LayoutModel",
      "state": {}
     },
     "3b23c1ad8f03435196fa461fab8fd52c": {
      "model_module": "@jupyter-widgets/base",
      "model_module_version": "1.2.0",
      "model_name": "LayoutModel",
      "state": {}
     },
     "3b39d77f4dd544d98472a62b9b8f1cf3": {
      "model_module": "@jupyter-widgets/controls",
      "model_module_version": "1.5.0",
      "model_name": "ButtonStyleModel",
      "state": {}
     },
     "3b6f7a3977504e729416d92db0cba7d9": {
      "model_module": "@jupyter-widgets/controls",
      "model_module_version": "1.5.0",
      "model_name": "ButtonStyleModel",
      "state": {}
     },
     "3ba5bba68f944a86919df344f0f9ea02": {
      "model_module": "@jupyter-widgets/controls",
      "model_module_version": "1.5.0",
      "model_name": "DescriptionStyleModel",
      "state": {
       "description_width": ""
      }
     },
     "3bc9f3f75711428b85c5a9ce01915bc6": {
      "model_module": "@jupyter-widgets/base",
      "model_module_version": "1.2.0",
      "model_name": "LayoutModel",
      "state": {}
     },
     "3bd4171296e9490da32f30ad53d455e3": {
      "model_module": "@jupyter-widgets/controls",
      "model_module_version": "1.5.0",
      "model_name": "ButtonStyleModel",
      "state": {}
     },
     "3bd9d97f76884dfea4e487db3ac2ad9b": {
      "model_module": "@jupyter-widgets/controls",
      "model_module_version": "1.5.0",
      "model_name": "LabelModel",
      "state": {
       "layout": "IPY_MODEL_2fdb3ff27ff2418bae28ae2022307dad",
       "style": "IPY_MODEL_442aee15b66144d79eb23035e789ba15",
       "value": "   objective"
      }
     },
     "3c3eb022f86c4bdb8956c3c67af497e7": {
      "model_module": "@jupyter-widgets/controls",
      "model_module_version": "1.5.0",
      "model_name": "IntProgressModel",
      "state": {
       "layout": "IPY_MODEL_c4bfa271a54147f4a0b9ac16403e5188",
       "style": "IPY_MODEL_6e4e296a7190452aa41a4b0081605177",
       "value": 30
      }
     },
     "3c65d115d91d41679b6f873c6661a655": {
      "model_module": "@jupyter-widgets/controls",
      "model_module_version": "1.5.0",
      "model_name": "ButtonStyleModel",
      "state": {}
     },
     "3c80b3ae755e4a198170a66bb08f0ba7": {
      "model_module": "@jupyter-widgets/controls",
      "model_module_version": "1.5.0",
      "model_name": "HBoxModel",
      "state": {
       "children": [
        "IPY_MODEL_9f27bbb6037d43efa2774e76e563a06c",
        "IPY_MODEL_58540613e32d4720807180ce3b69fe22",
        "IPY_MODEL_4e391d34ac9248d1816d34738ffe5595",
        "IPY_MODEL_7847d089ff9c42f1891691e0ef5ad080"
       ],
       "layout": "IPY_MODEL_1237d2e0c2f543b4a94c558bce97b495"
      }
     },
     "3c8ff3c2fde44a67aba05b4a8220b00a": {
      "model_module": "@jupyter-widgets/controls",
      "model_module_version": "1.5.0",
      "model_name": "DescriptionStyleModel",
      "state": {
       "description_width": ""
      }
     },
     "3ca88ca6a8ca456385ed0c457c90a63c": {
      "model_module": "@jupyter-widgets/controls",
      "model_module_version": "1.5.0",
      "model_name": "ButtonStyleModel",
      "state": {}
     },
     "3d0e87e6d37f493e86445922cfdd1fe4": {
      "model_module": "@jupyter-widgets/base",
      "model_module_version": "1.2.0",
      "model_name": "LayoutModel",
      "state": {
       "height": "32px",
       "order": "-2",
       "width": "32px"
      }
     },
     "3d2d0b70a8e24040ad3de3593cceeaad": {
      "model_module": "@jupyter-widgets/base",
      "model_module_version": "1.2.0",
      "model_name": "LayoutModel",
      "state": {
       "height": "32px",
       "overflow": "visible",
       "width": "100%"
      }
     },
     "3d41da8e52de4bd589751c3cf9df7266": {
      "model_module": "@jupyter-widgets/controls",
      "model_module_version": "1.5.0",
      "model_name": "LabelModel",
      "state": {
       "layout": "IPY_MODEL_5c2907b296c94b4ba200e63304823754",
       "style": "IPY_MODEL_e6c3da4e0de948f3a6a1e75dd0c6623b",
       "value": "   objective"
      }
     },
     "3dafd8da1db4400c96d9e5cf5f13ba9f": {
      "model_module": "@jupyter-widgets/controls",
      "model_module_version": "1.5.0",
      "model_name": "ButtonStyleModel",
      "state": {}
     },
     "3db7861bc6e84073ab1fef01b2d5abb4": {
      "model_module": "@jupyter-widgets/controls",
      "model_module_version": "1.5.0",
      "model_name": "HBoxModel",
      "state": {
       "children": [
        "IPY_MODEL_870efb2827d54fea9634c683504eb765",
        "IPY_MODEL_e30e7399bc774e569c58787a1f814140",
        "IPY_MODEL_a5c51f3ce9ae455db061827101d4c8a6",
        "IPY_MODEL_9549291eb6c543b1baec2bfe286a74f2"
       ],
       "layout": "IPY_MODEL_d2b068a35b184ca1a9b1cdfe21704bca"
      }
     },
     "3e1cd3ef33bd46e2841f1575ec8db321": {
      "model_module": "@jupyter-widgets/controls",
      "model_module_version": "1.5.0",
      "model_name": "HTMLModel",
      "state": {
       "layout": "IPY_MODEL_614da64d3cb748cc8ab5c9937ba074fd",
       "style": "IPY_MODEL_25c000e77488487a9f032a62050b9c75",
       "value": "<b>Task Name</b>"
      }
     },
     "3e3a0fd33c1f49b689ea5ed4060e47a0": {
      "model_module": "@jupyter-widgets/controls",
      "model_module_version": "1.5.0",
      "model_name": "ButtonStyleModel",
      "state": {}
     },
     "3e652b20631544b1bb8d948ffc6aa7d8": {
      "model_module": "@jupyter-widgets/base",
      "model_module_version": "1.2.0",
      "model_name": "LayoutModel",
      "state": {
       "height": "32px",
       "order": "-2",
       "width": "32px"
      }
     },
     "3e7dd23e8c51443b9139437e8fe70798": {
      "model_module": "@jupyter-widgets/base",
      "model_module_version": "1.2.0",
      "model_name": "LayoutModel",
      "state": {
       "order": "-1",
       "overflow": "visible",
       "padding": "1px",
       "width": "0px"
      }
     },
     "3eba73fc0b0941d3bbb201fb3bd25c8a": {
      "model_module": "@jupyter-widgets/base",
      "model_module_version": "1.2.0",
      "model_name": "LayoutModel",
      "state": {
       "height": "32px",
       "overflow": "visible",
       "width": "100%"
      }
     },
     "3ec0e21885f4425fb8d21c547ff171d3": {
      "model_module": "@jupyter-widgets/controls",
      "model_module_version": "1.5.0",
      "model_name": "HBoxModel",
      "state": {
       "children": [
        "IPY_MODEL_1406b3be056649099837334425efff32",
        "IPY_MODEL_711cfbd839b24977a3bac05d5cfeed6a",
        "IPY_MODEL_89cb1fa34a5748879fa8392b84612e06",
        "IPY_MODEL_f466189a8f724671b45186319dd3d7ab"
       ],
       "layout": "IPY_MODEL_0c2593235a284033bb4c41351192e92a"
      }
     },
     "3f384500e61c4a6db41e077ca6a66b20": {
      "model_module": "@jupyter-widgets/base",
      "model_module_version": "1.2.0",
      "model_name": "LayoutModel",
      "state": {
       "display": "flex",
       "flex_flow": "row wrap"
      }
     },
     "3f4d96a91d734f54a89a3d9e8074fd95": {
      "model_module": "@jupyter-widgets/base",
      "model_module_version": "1.2.0",
      "model_name": "LayoutModel",
      "state": {
       "order": "-1",
       "overflow": "visible",
       "padding": "1px",
       "width": "0px"
      }
     },
     "3f78ec7e6d194df7a8cac693dd68e09d": {
      "model_module": "@jupyter-widgets/controls",
      "model_module_version": "1.5.0",
      "model_name": "LabelModel",
      "state": {
       "layout": "IPY_MODEL_d5945022e2f84e7695b3c634133c1b76",
       "style": "IPY_MODEL_440d6ef11f3a457abc0903364aeacc83",
       "value": "   objective"
      }
     },
     "3f83e17336b14ab49aee2641b43ee82b": {
      "model_module": "@jupyter-widgets/base",
      "model_module_version": "1.2.0",
      "model_name": "LayoutModel",
      "state": {
       "display": "none",
       "width": "60px"
      }
     },
     "3f8b76d4482a40128d1dc56e80d0a685": {
      "model_module": "@jupyter-widgets/controls",
      "model_module_version": "1.5.0",
      "model_name": "DescriptionStyleModel",
      "state": {
       "description_width": ""
      }
     },
     "3f9c0ea2567741d1a6e7d88bd60d6146": {
      "model_module": "@jupyter-widgets/base",
      "model_module_version": "1.2.0",
      "model_name": "LayoutModel",
      "state": {
       "height": "32px",
       "order": "-2",
       "width": "32px"
      }
     },
     "3fd835211a79410bb01760b363f70291": {
      "model_module": "@jupyter-widgets/controls",
      "model_module_version": "1.5.0",
      "model_name": "DescriptionStyleModel",
      "state": {
       "description_width": ""
      }
     },
     "3fdf4866a2714727b7222d9ca02fcd06": {
      "model_module": "@jupyter-widgets/controls",
      "model_module_version": "1.5.0",
      "model_name": "DescriptionStyleModel",
      "state": {
       "description_width": ""
      }
     },
     "402b5c1668a841f48a894b7b4c615ef7": {
      "model_module": "@jupyter-widgets/controls",
      "model_module_version": "1.5.0",
      "model_name": "ButtonModel",
      "state": {
       "description": "EDIT",
       "layout": "IPY_MODEL_4e8ea8b590374883aa2ed3d17dd1810a",
       "style": "IPY_MODEL_0239902301b340bfb8909d8f94149f22"
      }
     },
     "40839ca2864c4ad89a59d0100584c775": {
      "model_module": "@jupyter-widgets/base",
      "model_module_version": "1.2.0",
      "model_name": "LayoutModel",
      "state": {}
     },
     "40ac02e9df904282b907e06ca7571e81": {
      "model_module": "@jupyter-widgets/controls",
      "model_module_version": "1.5.0",
      "model_name": "DescriptionStyleModel",
      "state": {
       "description_width": ""
      }
     },
     "40b1fa40e8dd4e51ae5d8e749668c315": {
      "model_module": "@jupyter-widgets/controls",
      "model_module_version": "1.5.0",
      "model_name": "DescriptionStyleModel",
      "state": {
       "description_width": ""
      }
     },
     "40dd645b1cd64be1aa90bd7596f48461": {
      "model_module": "@jupyter-widgets/base",
      "model_module_version": "1.2.0",
      "model_name": "LayoutModel",
      "state": {
       "height": "32px",
       "overflow": "visible",
       "width": "100%"
      }
     },
     "40fa40e4f0594dd3a31c77f2849ecea5": {
      "model_module": "@jupyter-widgets/controls",
      "model_module_version": "1.5.0",
      "model_name": "DescriptionStyleModel",
      "state": {
       "description_width": ""
      }
     },
     "410c9da71d8c49f0bbd7b0d5572c1ff6": {
      "model_module": "@jupyter-widgets/controls",
      "model_module_version": "1.5.0",
      "model_name": "ProgressStyleModel",
      "state": {
       "description_width": ""
      }
     },
     "41232ea806344a2b82aebbdbc10888d5": {
      "model_module": "@jupyter-widgets/base",
      "model_module_version": "1.2.0",
      "model_name": "LayoutModel",
      "state": {
       "order": "-1",
       "overflow": "visible",
       "padding": "1px",
       "width": "0px"
      }
     },
     "415fbad086cc432298e482fcc7741c34": {
      "model_module": "@jupyter-widgets/controls",
      "model_module_version": "1.5.0",
      "model_name": "ButtonModel",
      "state": {
       "layout": "IPY_MODEL_eaf0facf84b4479dbcfdeb82054edaf5",
       "style": "IPY_MODEL_7c8b54a09e2c4264a525037f2ec19dc2"
      }
     },
     "416c9eb0d7b143f79148ca365cf08a0b": {
      "model_module": "@jupyter-widgets/controls",
      "model_module_version": "1.5.0",
      "model_name": "DescriptionStyleModel",
      "state": {
       "description_width": ""
      }
     },
     "4172c0b3ae5147d6add50b273e506f4b": {
      "model_module": "@jupyter-widgets/base",
      "model_module_version": "1.2.0",
      "model_name": "LayoutModel",
      "state": {}
     },
     "4190777634604bbe8d806bc2f280162d": {
      "model_module": "@jupyter-widgets/controls",
      "model_module_version": "1.5.0",
      "model_name": "IntProgressModel",
      "state": {
       "layout": "IPY_MODEL_e4db4a213e0e4f21b9b39c954426b64e",
       "style": "IPY_MODEL_ea748d7f872a49e6829415c3cbb82ae5",
       "value": 30
      }
     },
     "41b10cfdee054e81a3b8175bd1b33f2f": {
      "model_module": "@jupyter-widgets/base",
      "model_module_version": "1.2.0",
      "model_name": "LayoutModel",
      "state": {
       "order": "-1",
       "overflow": "visible",
       "padding": "1px",
       "width": "0px"
      }
     },
     "41b48c27d4c64495852d16732f03a221": {
      "model_module": "@jupyter-widgets/controls",
      "model_module_version": "1.5.0",
      "model_name": "HBoxModel",
      "state": {
       "children": [
        "IPY_MODEL_9dd1609cfd594984bd30ec7ff9784d70",
        "IPY_MODEL_078d76c2d47649d4a840536cd6414786",
        "IPY_MODEL_981eb5718599440d92cc84c1797fded0",
        "IPY_MODEL_171b63c0766343f4812333ac338f6df5"
       ],
       "layout": "IPY_MODEL_70a1c634294e4c0b94b4de965cad0d9e"
      }
     },
     "41c17c3d40424d23b8908fe5cc2b85d1": {
      "model_module": "@jupyter-widgets/base",
      "model_module_version": "1.2.0",
      "model_name": "LayoutModel",
      "state": {}
     },
     "41cce10b21d347e9b0dadc0beb4053bf": {
      "model_module": "@jupyter-widgets/controls",
      "model_module_version": "1.5.0",
      "model_name": "ButtonStyleModel",
      "state": {}
     },
     "421f14404c214937a5300aceb3df8539": {
      "model_module": "@jupyter-widgets/controls",
      "model_module_version": "1.5.0",
      "model_name": "ProgressStyleModel",
      "state": {
       "description_width": ""
      }
     },
     "424d3a300a584164b5e35b3167285d95": {
      "model_module": "@jupyter-widgets/controls",
      "model_module_version": "1.5.0",
      "model_name": "HBoxModel",
      "state": {
       "children": [
        "IPY_MODEL_ac2f5910c22045aab8f803dc9f32b18d",
        "IPY_MODEL_5ee6827fc46b41f99f61a08fea4a024a",
        "IPY_MODEL_21701165a7f34f008cd98077b478bbd9",
        "IPY_MODEL_e4bf7d394ff648268d27da215cd69cfd"
       ],
       "layout": "IPY_MODEL_50115580cbe0411a828337cd85d1ffa3"
      }
     },
     "4275387da12e4bada2c64c928e69bb7b": {
      "model_module": "@jupyter-widgets/base",
      "model_module_version": "1.2.0",
      "model_name": "LayoutModel",
      "state": {}
     },
     "427da14dbf024638adf17eba5c91b53e": {
      "model_module": "@jupyter-widgets/controls",
      "model_module_version": "1.5.0",
      "model_name": "ButtonStyleModel",
      "state": {}
     },
     "4280df9f143b4503a8db9fad578fa31e": {
      "model_module": "@jupyter-widgets/controls",
      "model_module_version": "1.5.0",
      "model_name": "HTMLModel",
      "state": {
       "layout": "IPY_MODEL_74498b7c79c842628efd450d7253636b",
       "style": "IPY_MODEL_663e8bd43513441cb7a59b5d9a863a09",
       "value": "Showing __-__ of ___"
      }
     },
     "42961968b03c4c2b92c63b5c50be2599": {
      "model_module": "@jupyter-widgets/controls",
      "model_module_version": "1.5.0",
      "model_name": "ButtonStyleModel",
      "state": {}
     },
     "429b0a4be4eb427baf7e6c97df228175": {
      "model_module": "@jupyter-widgets/base",
      "model_module_version": "1.2.0",
      "model_name": "LayoutModel",
      "state": {
       "display": "none",
       "width": "60px"
      }
     },
     "42a5d5edbc154b4faa59261b357aa977": {
      "model_module": "@jupyter-widgets/base",
      "model_module_version": "1.2.0",
      "model_name": "LayoutModel",
      "state": {
       "height": "32px",
       "order": "-2",
       "width": "32px"
      }
     },
     "42a96f8e9c7d45f3bf3e0b6c4c4f712f": {
      "model_module": "@jupyter-widgets/controls",
      "model_module_version": "1.5.0",
      "model_name": "DescriptionStyleModel",
      "state": {
       "description_width": ""
      }
     },
     "42abfd692dca4e64b7bf689833547fa9": {
      "model_module": "@jupyter-widgets/base",
      "model_module_version": "1.2.0",
      "model_name": "LayoutModel",
      "state": {
       "display": "flex",
       "flex_flow": "row wrap"
      }
     },
     "4317185eb2744b79be31455c17480e98": {
      "model_module": "@jupyter-widgets/controls",
      "model_module_version": "1.5.0",
      "model_name": "ProgressStyleModel",
      "state": {
       "description_width": ""
      }
     },
     "4338bfee19bf4c3abae557022799e959": {
      "model_module": "@jupyter-widgets/base",
      "model_module_version": "1.2.0",
      "model_name": "LayoutModel",
      "state": {
       "display": "none",
       "width": "60px"
      }
     },
     "437e3057b365410f8f4daba84d5d8b49": {
      "model_module": "@jupyter-widgets/base",
      "model_module_version": "1.2.0",
      "model_name": "LayoutModel",
      "state": {
       "order": "-1",
       "overflow": "visible",
       "padding": "1px",
       "width": "0px"
      }
     },
     "43888449db6a485986393d6bd797f939": {
      "model_module": "@jupyter-widgets/controls",
      "model_module_version": "1.5.0",
      "model_name": "ButtonModel",
      "state": {
       "description": "EDIT",
       "layout": "IPY_MODEL_9e3b8d4cd620478394344294b6296dc2",
       "style": "IPY_MODEL_1500761b71f94a4586e3add028f41cfe"
      }
     },
     "43908c6c266e45698922d8db68755feb": {
      "model_module": "@jupyter-widgets/controls",
      "model_module_version": "1.5.0",
      "model_name": "ButtonModel",
      "state": {
       "description": "EDIT",
       "layout": "IPY_MODEL_33c9da9afddb46efa2ad73a8880bd3b0",
       "style": "IPY_MODEL_d35fd2f699b84f5ebdf6c5e8d6bb5b36"
      }
     },
     "43c2cbf8ba4740159f10140a18848c98": {
      "model_module": "@jupyter-widgets/controls",
      "model_module_version": "1.5.0",
      "model_name": "ButtonModel",
      "state": {
       "description": "EDIT",
       "layout": "IPY_MODEL_e9f02d3dc35045849341ff95f774d394",
       "style": "IPY_MODEL_b03dc1c5e5204f5bbd7010fe7b9b40ce"
      }
     },
     "43cdafbfd85449fc91e41d7fe78b4584": {
      "model_module": "@jupyter-widgets/controls",
      "model_module_version": "1.5.0",
      "model_name": "ButtonModel",
      "state": {
       "layout": "IPY_MODEL_16bf119457694f99861a356e33302a37",
       "style": "IPY_MODEL_f0a83a85737841f79488501f3376773d"
      }
     },
     "43d824d114f844f7a5e4d121d516aa99": {
      "model_module": "@jupyter-widgets/controls",
      "model_module_version": "1.5.0",
      "model_name": "HBoxModel",
      "state": {
       "children": [
        "IPY_MODEL_ebcd34c70b8c4ce0a7a2950b17fbc9c1",
        "IPY_MODEL_7095bbaef4f141b08d0c025b4c2cf2cf",
        "IPY_MODEL_e681d8e36cc84cad9c3f655b2ed6dc4c",
        "IPY_MODEL_f5917ead5165458aa390c1c06893399f"
       ],
       "layout": "IPY_MODEL_d5041c1c277046c1b84de3c350e8bf11"
      }
     },
     "440d6ef11f3a457abc0903364aeacc83": {
      "model_module": "@jupyter-widgets/controls",
      "model_module_version": "1.5.0",
      "model_name": "DescriptionStyleModel",
      "state": {
       "description_width": ""
      }
     },
     "442aee15b66144d79eb23035e789ba15": {
      "model_module": "@jupyter-widgets/controls",
      "model_module_version": "1.5.0",
      "model_name": "DescriptionStyleModel",
      "state": {
       "description_width": ""
      }
     },
     "4439d6cac8cf4fa293069d2260664d7d": {
      "model_module": "@jupyter-widgets/base",
      "model_module_version": "1.2.0",
      "model_name": "LayoutModel",
      "state": {
       "display": "none",
       "width": "60px"
      }
     },
     "445b2080049247f0976898ac0a85bf6f": {
      "model_module": "@jupyter-widgets/controls",
      "model_module_version": "1.5.0",
      "model_name": "HBoxModel",
      "state": {
       "children": [
        "IPY_MODEL_1934a45f9815475d8fe3a0638b23b5e7",
        "IPY_MODEL_a03f6bfefa1747d3899704388aea08a5",
        "IPY_MODEL_afd675b887394daca976c9859c8dbde5",
        "IPY_MODEL_eae0d82dd0674e219374f680288fed54"
       ],
       "layout": "IPY_MODEL_e5e084ed70a541a6bc80283493f53ec2"
      }
     },
     "44801186b60e4c169ce933ab792a81a7": {
      "model_module": "@jupyter-widgets/controls",
      "model_module_version": "1.5.0",
      "model_name": "ButtonModel",
      "state": {
       "description": "EDIT",
       "layout": "IPY_MODEL_9fd2039f367248b2b630ddf452ef194b",
       "style": "IPY_MODEL_e5ea51127dc847409403dab6c112283c"
      }
     },
     "4510a9542a6245699e15ed2087cafc9d": {
      "model_module": "@jupyter-widgets/base",
      "model_module_version": "1.2.0",
      "model_name": "LayoutModel",
      "state": {
       "overflow": "visible",
       "width": "100%"
      }
     },
     "4524745d5fd849eeb96b7f6bfe2a37c1": {
      "model_module": "@jupyter-widgets/controls",
      "model_module_version": "1.5.0",
      "model_name": "ButtonModel",
      "state": {
       "description": "EDIT",
       "layout": "IPY_MODEL_2477997526c8407ea0ec67f17fef0b9b",
       "style": "IPY_MODEL_91f5248c390b4ef29526fc6825b7392f"
      }
     },
     "453488a900924b84a9911c94acdc6dfe": {
      "model_module": "@jupyter-widgets/base",
      "model_module_version": "1.2.0",
      "model_name": "LayoutModel",
      "state": {}
     },
     "455a0a816b0d4cd39870062f3490b49a": {
      "model_module": "@jupyter-widgets/base",
      "model_module_version": "1.2.0",
      "model_name": "LayoutModel",
      "state": {}
     },
     "4578e875b5894fb488cd7a58d7e075f0": {
      "model_module": "@jupyter-widgets/controls",
      "model_module_version": "1.5.0",
      "model_name": "ButtonModel",
      "state": {
       "description": "EDIT",
       "layout": "IPY_MODEL_e1efcb924f46493b893952e734964616",
       "style": "IPY_MODEL_bb8277bb51724d4babd3fbdda273b1b6"
      }
     },
     "457ab88086014f928a0b0ed073781b4e": {
      "model_module": "@jupyter-widgets/controls",
      "model_module_version": "1.5.0",
      "model_name": "HBoxModel",
      "state": {
       "children": [
        "IPY_MODEL_98475d7599594f97b5f1953f6d96daa2",
        "IPY_MODEL_e117da69c70a4a9aba31570cde470d5a",
        "IPY_MODEL_f8310b6af02442c08e84b89bc2f8af9d",
        "IPY_MODEL_1195b2393c0b4107afc65289eca5fb1a"
       ],
       "layout": "IPY_MODEL_1a8b878ee0d346d0a9ddce5c5475ead5"
      }
     },
     "457d2110168b482fa56ddc043102f0e9": {
      "model_module": "@jupyter-widgets/base",
      "model_module_version": "1.2.0",
      "model_name": "LayoutModel",
      "state": {
       "height": "32px",
       "order": "-2",
       "width": "32px"
      }
     },
     "45ace770c3b54c3385a5a3136c092aef": {
      "model_module": "@jupyter-widgets/base",
      "model_module_version": "1.2.0",
      "model_name": "LayoutModel",
      "state": {
       "height": "32px",
       "overflow": "visible",
       "width": "100%"
      }
     },
     "45de8fc4631c4954826344a5d861a1ac": {
      "model_module": "@jupyter-widgets/base",
      "model_module_version": "1.2.0",
      "model_name": "LayoutModel",
      "state": {
       "height": "32px",
       "order": "-2",
       "width": "32px"
      }
     },
     "45e114dc005e4adca633b664c497b594": {
      "model_module": "@jupyter-widgets/controls",
      "model_module_version": "1.5.0",
      "model_name": "ButtonStyleModel",
      "state": {}
     },
     "46fb3ce11a4d4a7491c8805fe3ba2fac": {
      "model_module": "@jupyter-widgets/controls",
      "model_module_version": "1.5.0",
      "model_name": "LabelModel",
      "state": {
       "layout": "IPY_MODEL_b585562f1750496489fa5757cbab14f4",
       "style": "IPY_MODEL_3fdf4866a2714727b7222d9ca02fcd06",
       "value": "   objective"
      }
     },
     "47288a9ea2764bd4bb30844766c2fa19": {
      "model_module": "@jupyter-widgets/base",
      "model_module_version": "1.2.0",
      "model_name": "LayoutModel",
      "state": {}
     },
     "473c9b3b834f4ab8947c4e8208269a00": {
      "model_module": "@jupyter-widgets/base",
      "model_module_version": "1.2.0",
      "model_name": "LayoutModel",
      "state": {
       "height": "32px",
       "order": "-2",
       "width": "32px"
      }
     },
     "4743e6d39056414f887c06c73cb71918": {
      "model_module": "@jupyter-widgets/controls",
      "model_module_version": "1.5.0",
      "model_name": "ButtonModel",
      "state": {
       "description": "EDIT",
       "layout": "IPY_MODEL_4338bfee19bf4c3abae557022799e959",
       "style": "IPY_MODEL_2c81b5d8dea2429aa75715bd3713cb13"
      }
     },
     "475f1b05c76a44bb8d8f5b942164a814": {
      "model_module": "@jupyter-widgets/controls",
      "model_module_version": "1.5.0",
      "model_name": "LabelModel",
      "state": {
       "layout": "IPY_MODEL_fff875b6bf374da7aeaa8c2dcaccfefb",
       "style": "IPY_MODEL_1ffc6e66e2e745a8867cda1ad8628445",
       "value": "   objective"
      }
     },
     "47c0fc24f2fd41cb94082cfec694d05a": {
      "model_module": "@jupyter-widgets/controls",
      "model_module_version": "1.5.0",
      "model_name": "ProgressStyleModel",
      "state": {
       "description_width": ""
      }
     },
     "47c16d9698ce43a0ab4a6c3af1b74737": {
      "model_module": "@jupyter-widgets/base",
      "model_module_version": "1.2.0",
      "model_name": "LayoutModel",
      "state": {
       "order": "-1",
       "overflow": "visible",
       "padding": "1px",
       "width": "0px"
      }
     },
     "47e7e25a9a4f48eaac299e7bd1b3b839": {
      "model_module": "@jupyter-widgets/controls",
      "model_module_version": "1.5.0",
      "model_name": "ButtonStyleModel",
      "state": {}
     },
     "47f20c322e694b17963cb8bf771cbf7a": {
      "model_module": "@jupyter-widgets/controls",
      "model_module_version": "1.5.0",
      "model_name": "ButtonStyleModel",
      "state": {}
     },
     "47f5d729205f433eada5d20cdc7b31ae": {
      "model_module": "@jupyter-widgets/base",
      "model_module_version": "1.2.0",
      "model_name": "LayoutModel",
      "state": {
       "height": "32px",
       "order": "-2",
       "width": "32px"
      }
     },
     "47f7a979065b4cc39e09a8013e779b20": {
      "model_module": "@jupyter-widgets/base",
      "model_module_version": "1.2.0",
      "model_name": "LayoutModel",
      "state": {
       "height": "32px",
       "order": "-2",
       "width": "32px"
      }
     },
     "47f9cee282e447eea007bcd295c10e24": {
      "model_module": "@jupyter-widgets/base",
      "model_module_version": "1.2.0",
      "model_name": "LayoutModel",
      "state": {}
     },
     "47f9e6b52c634949942af6f08457c3a0": {
      "model_module": "@jupyter-widgets/controls",
      "model_module_version": "1.5.0",
      "model_name": "HBoxModel",
      "state": {
       "children": [
        "IPY_MODEL_4f3c9936658847638b6519fb967bf440",
        "IPY_MODEL_dce07b274d0b4cacb1683b43d149eccd",
        "IPY_MODEL_9410f642002a48ca807a30982ce4b570",
        "IPY_MODEL_6451bd5b5f5248f88cd7bef964a8b69d"
       ],
       "layout": "IPY_MODEL_47288a9ea2764bd4bb30844766c2fa19"
      }
     },
     "47fa2b0bdd8046fa88c5c0eaefddad1c": {
      "model_module": "@jupyter-widgets/controls",
      "model_module_version": "1.5.0",
      "model_name": "DescriptionStyleModel",
      "state": {
       "description_width": ""
      }
     },
     "480e7943e9454995a2b1286c9a8ca311": {
      "model_module": "@jupyter-widgets/base",
      "model_module_version": "1.2.0",
      "model_name": "LayoutModel",
      "state": {}
     },
     "484488eae0e6412e9b6a2f72230e7059": {
      "model_module": "@jupyter-widgets/controls",
      "model_module_version": "1.5.0",
      "model_name": "ButtonStyleModel",
      "state": {}
     },
     "4864198968d446bf98eb94af41e6fc6e": {
      "model_module": "@jupyter-widgets/base",
      "model_module_version": "1.2.0",
      "model_name": "LayoutModel",
      "state": {
       "display": "none",
       "width": "60px"
      }
     },
     "48976284dcf748a9b3733ec5640b139e": {
      "model_module": "@jupyter-widgets/controls",
      "model_module_version": "1.5.0",
      "model_name": "ButtonModel",
      "state": {
       "description": "EDIT",
       "layout": "IPY_MODEL_2766f40fbaa94e3b9516331bcd01f67f",
       "style": "IPY_MODEL_fc415a2d5fa743c3a1c7c5aa26ee7b12"
      }
     },
     "48b06ab1f06e43408344e22c3fa36d27": {
      "model_module": "@jupyter-widgets/base",
      "model_module_version": "1.2.0",
      "model_name": "LayoutModel",
      "state": {
       "height": "32px",
       "overflow": "visible",
       "width": "100%"
      }
     },
     "48ecb137d2b1418ab8b8fd146f30d534": {
      "model_module": "@jupyter-widgets/controls",
      "model_module_version": "1.5.0",
      "model_name": "HTMLModel",
      "state": {
       "layout": "IPY_MODEL_59276bbc3f544e259004b6b3a4e6bce8",
       "style": "IPY_MODEL_7deb695ab421443cb3d12c58fe1606cf",
       "value": "<i>test test test test test test test test test test test test test test test test test test test test test test test test </i>"
      }
     },
     "493184169d4a4782ac6107a0f53728e2": {
      "model_module": "@jupyter-widgets/base",
      "model_module_version": "1.2.0",
      "model_name": "LayoutModel",
      "state": {
       "order": "-1",
       "overflow": "visible",
       "padding": "1px",
       "width": "0px"
      }
     },
     "499e13a917f740969d6d7ece2591825b": {
      "model_module": "@jupyter-widgets/base",
      "model_module_version": "1.2.0",
      "model_name": "LayoutModel",
      "state": {}
     },
     "4a04d54f691447cfa2eac9c47a24ad7b": {
      "model_module": "@jupyter-widgets/controls",
      "model_module_version": "1.5.0",
      "model_name": "ProgressStyleModel",
      "state": {
       "description_width": ""
      }
     },
     "4a26f910d8c848e99f1f01d7f850107e": {
      "model_module": "@jupyter-widgets/controls",
      "model_module_version": "1.5.0",
      "model_name": "DescriptionStyleModel",
      "state": {
       "description_width": ""
      }
     },
     "4a4f5551cff6479d9056aba2d6c33aa8": {
      "model_module": "@jupyter-widgets/controls",
      "model_module_version": "1.5.0",
      "model_name": "ProgressStyleModel",
      "state": {
       "description_width": ""
      }
     },
     "4a61086f9d3f45bc8e02a28cc44dd7a7": {
      "model_module": "@jupyter-widgets/controls",
      "model_module_version": "1.5.0",
      "model_name": "DropdownModel",
      "state": {
       "_options_labels": [
        "Any",
        "Titan",
        "Hunter",
        "Warlock"
       ],
       "index": 0,
       "layout": "IPY_MODEL_193caaf46c854445b8ea8cdbe67f8757",
       "style": "IPY_MODEL_068b5d079ea64c0d97807d2730104ed5"
      }
     },
     "4aa3fc5527b04ac19d81488cf9e5d1cc": {
      "model_module": "@jupyter-widgets/controls",
      "model_module_version": "1.5.0",
      "model_name": "ButtonModel",
      "state": {
       "layout": "IPY_MODEL_bf6f5c59f3b34677a2f3437583b8d211",
       "style": "IPY_MODEL_b5d08fed297c487c9c808087e23cb13f"
      }
     },
     "4aa90fc50a4e45f8939e0d151790ede6": {
      "model_module": "@jupyter-widgets/controls",
      "model_module_version": "1.5.0",
      "model_name": "ButtonStyleModel",
      "state": {}
     },
     "4abde3d568fd4a35ace9f4cbc110009b": {
      "model_module": "@jupyter-widgets/controls",
      "model_module_version": "1.5.0",
      "model_name": "LabelModel",
      "state": {
       "layout": "IPY_MODEL_eebfcc25412a498eaa889b33c72de41e",
       "style": "IPY_MODEL_70094e9c6c114a0095c84fb3504b7d59",
       "value": "   objective"
      }
     },
     "4ac591cad2604730897d9d42069ceefa": {
      "model_module": "@jupyter-widgets/base",
      "model_module_version": "1.2.0",
      "model_name": "LayoutModel",
      "state": {}
     },
     "4ad8aead5954490bb2e2687d5d927a1c": {
      "model_module": "@jupyter-widgets/controls",
      "model_module_version": "1.5.0",
      "model_name": "ButtonModel",
      "state": {
       "description": "Search",
       "layout": "IPY_MODEL_b617ff93ecc94e0987b481bd84896100",
       "style": "IPY_MODEL_9a5c408f4be24adeb4bb49860c178d01"
      }
     },
     "4b00931ca9d241c6ab20ad744abc48f4": {
      "model_module": "@jupyter-widgets/base",
      "model_module_version": "1.2.0",
      "model_name": "LayoutModel",
      "state": {
       "overflow": "visible",
       "width": "100%"
      }
     },
     "4b067855d34f4a1081bb5eb3e1040d9f": {
      "model_module": "@jupyter-widgets/controls",
      "model_module_version": "1.5.0",
      "model_name": "ButtonModel",
      "state": {
       "description": "EDIT",
       "layout": "IPY_MODEL_c0582346db354985ba8f9ae567437351",
       "style": "IPY_MODEL_a55a71a226de4a469816a95d24e8fb85"
      }
     },
     "4b0963c2025249b48dc7e43dc73dc93b": {
      "model_module": "@jupyter-widgets/base",
      "model_module_version": "1.2.0",
      "model_name": "LayoutModel",
      "state": {}
     },
     "4b5af6e6fc3041d4a4f3248bc0d0f6c7": {
      "model_module": "@jupyter-widgets/controls",
      "model_module_version": "1.5.0",
      "model_name": "DescriptionStyleModel",
      "state": {
       "description_width": ""
      }
     },
     "4b8995f23b2f4ba9b51b0c6ec255dc7d": {
      "model_module": "@jupyter-widgets/controls",
      "model_module_version": "1.5.0",
      "model_name": "ButtonStyleModel",
      "state": {}
     },
     "4b935cabf0044a39ad5225c915c87b19": {
      "model_module": "@jupyter-widgets/controls",
      "model_module_version": "1.5.0",
      "model_name": "ButtonStyleModel",
      "state": {}
     },
     "4bbb1e10d42049e4ab2fe5ee42584361": {
      "model_module": "@jupyter-widgets/controls",
      "model_module_version": "1.5.0",
      "model_name": "ButtonModel",
      "state": {
       "layout": "IPY_MODEL_3d0e87e6d37f493e86445922cfdd1fe4",
       "style": "IPY_MODEL_6bc83d2adf5144ec885133f4043d4525"
      }
     },
     "4bf772db9664426c80ba3e202d204c1b": {
      "model_module": "@jupyter-widgets/controls",
      "model_module_version": "1.5.0",
      "model_name": "ButtonModel",
      "state": {
       "description": "EDIT",
       "layout": "IPY_MODEL_0f6edb39975b469fba2b941f6eb56b73",
       "style": "IPY_MODEL_df0b14e1ed1041c4b65f624542a64d02"
      }
     },
     "4c6c5e3b22734953a8c03a5f16fba426": {
      "model_module": "@jupyter-widgets/base",
      "model_module_version": "1.2.0",
      "model_name": "LayoutModel",
      "state": {
       "height": "32px",
       "overflow": "visible",
       "width": "100%"
      }
     },
     "4c71dea1a73c4f118c58d189ed8f506c": {
      "model_module": "@jupyter-widgets/base",
      "model_module_version": "1.2.0",
      "model_name": "LayoutModel",
      "state": {}
     },
     "4c9e9b6fb08d4b2f87320683019d68fe": {
      "model_module": "@jupyter-widgets/base",
      "model_module_version": "1.2.0",
      "model_name": "LayoutModel",
      "state": {
       "height": "32px",
       "order": "-2",
       "width": "32px"
      }
     },
     "4cefaa7c073047aeae948dd4e3431acc": {
      "model_module": "@jupyter-widgets/controls",
      "model_module_version": "1.5.0",
      "model_name": "LabelModel",
      "state": {
       "layout": "IPY_MODEL_65cdbd07c75a4cf89e7cc9d5f51bc851",
       "style": "IPY_MODEL_8e9d351c50ea4488bc6d1f2310665103",
       "value": "   objective"
      }
     },
     "4d2d0ab559194d8bbda31b318807567a": {
      "model_module": "@jupyter-widgets/base",
      "model_module_version": "1.2.0",
      "model_name": "LayoutModel",
      "state": {
       "display": "none",
       "width": "60px"
      }
     },
     "4d5b902aab7f4faba1c78e0e99cb46a2": {
      "model_module": "@jupyter-widgets/base",
      "model_module_version": "1.2.0",
      "model_name": "LayoutModel",
      "state": {
       "height": "32px",
       "overflow": "visible",
       "width": "100%"
      }
     },
     "4e391d34ac9248d1816d34738ffe5595": {
      "model_module": "@jupyter-widgets/controls",
      "model_module_version": "1.5.0",
      "model_name": "LabelModel",
      "state": {
       "layout": "IPY_MODEL_a13d392ed4f54a28a263109fce1e331c",
       "style": "IPY_MODEL_c4a3119e6bae404f985fe9ab7f5767c3",
       "value": "   objective"
      }
     },
     "4e7861a08008491d9d8a323ae4a0ec38": {
      "model_module": "@jupyter-widgets/controls",
      "model_module_version": "1.5.0",
      "model_name": "ButtonStyleModel",
      "state": {}
     },
     "4e88a82f238a441c9d5197bdf5c1bc91": {
      "model_module": "@jupyter-widgets/controls",
      "model_module_version": "1.5.0",
      "model_name": "ButtonStyleModel",
      "state": {}
     },
     "4e8ea8b590374883aa2ed3d17dd1810a": {
      "model_module": "@jupyter-widgets/base",
      "model_module_version": "1.2.0",
      "model_name": "LayoutModel",
      "state": {
       "display": "none",
       "width": "60px"
      }
     },
     "4e933f61a1b44e7b967b65b85397c8d4": {
      "model_module": "@jupyter-widgets/base",
      "model_module_version": "1.2.0",
      "model_name": "LayoutModel",
      "state": {
       "border": "3px solid white",
       "flex": "1 1 0%",
       "margin": "10px",
       "min_width": "400px",
       "overflow": "visible",
       "padding": "10px",
       "width": "auto"
      }
     },
     "4e94b80c38be485ca5cbbeada9c756f4": {
      "model_module": "@jupyter-widgets/controls",
      "model_module_version": "1.5.0",
      "model_name": "HBoxModel",
      "state": {
       "children": [
        "IPY_MODEL_27d6e4294c4d440c9dd09e3b71ddaf60",
        "IPY_MODEL_9a97448645e24352af8125af4843897f",
        "IPY_MODEL_10e8de91d9d547fe9537332aea56f06e",
        "IPY_MODEL_2030d2e88a624607ae2823dd4f5024e8"
       ],
       "layout": "IPY_MODEL_4f8215671c4046b99fc21d4881ebbc9b"
      }
     },
     "4ea999d9d86746a5a5b66f4fd8c74d62": {
      "model_module": "@jupyter-widgets/controls",
      "model_module_version": "1.5.0",
      "model_name": "IntProgressModel",
      "state": {
       "layout": "IPY_MODEL_dc708164ecfe46db8c455987885f8d46",
       "style": "IPY_MODEL_a3748e13ef91458e92b5ec45737c254d",
       "value": 30
      }
     },
     "4eb29d67d53c48858968cda9c1c5b70f": {
      "model_module": "@jupyter-widgets/base",
      "model_module_version": "1.2.0",
      "model_name": "LayoutModel",
      "state": {
       "height": "32px",
       "overflow": "visible",
       "width": "100%"
      }
     },
     "4ec99237f8594c1f800962aeeb51b967": {
      "model_module": "@jupyter-widgets/base",
      "model_module_version": "1.2.0",
      "model_name": "LayoutModel",
      "state": {
       "order": "-1",
       "overflow": "visible",
       "padding": "1px",
       "width": "0px"
      }
     },
     "4f3bb1aa0cf8496580de33d5ad05c43d": {
      "model_module": "@jupyter-widgets/controls",
      "model_module_version": "1.5.0",
      "model_name": "ButtonModel",
      "state": {
       "layout": "IPY_MODEL_b8035a15639848949099938eb9d594eb",
       "style": "IPY_MODEL_d1a5610af1d84a0f98535037c4f48080"
      }
     },
     "4f3c9936658847638b6519fb967bf440": {
      "model_module": "@jupyter-widgets/controls",
      "model_module_version": "1.5.0",
      "model_name": "ButtonModel",
      "state": {
       "layout": "IPY_MODEL_6df54836dcf44189b1a2bd6338bcdabe",
       "style": "IPY_MODEL_41cce10b21d347e9b0dadc0beb4053bf"
      }
     },
     "4f3d43d1a1814d118f26be00ee210870": {
      "model_module": "@jupyter-widgets/controls",
      "model_module_version": "1.5.0",
      "model_name": "ButtonStyleModel",
      "state": {}
     },
     "4f46108a0ec747a2891eba67c204f740": {
      "model_module": "@jupyter-widgets/base",
      "model_module_version": "1.2.0",
      "model_name": "LayoutModel",
      "state": {
       "display": "none",
       "width": "60px"
      }
     },
     "4f8215671c4046b99fc21d4881ebbc9b": {
      "model_module": "@jupyter-widgets/base",
      "model_module_version": "1.2.0",
      "model_name": "LayoutModel",
      "state": {}
     },
     "4fac94b847024b8f8ca1daf6c19c88c1": {
      "model_module": "@jupyter-widgets/controls",
      "model_module_version": "1.5.0",
      "model_name": "ButtonModel",
      "state": {
       "layout": "IPY_MODEL_473c9b3b834f4ab8947c4e8208269a00",
       "style": "IPY_MODEL_4e88a82f238a441c9d5197bdf5c1bc91"
      }
     },
     "4fcde750ee6242ddb24ded85e0791542": {
      "model_module": "@jupyter-widgets/base",
      "model_module_version": "1.2.0",
      "model_name": "LayoutModel",
      "state": {
       "height": "32px",
       "order": "-2",
       "width": "32px"
      }
     },
     "4fd26efe2fa5456dbd6cbfc4e542c7f6": {
      "model_module": "@jupyter-widgets/base",
      "model_module_version": "1.2.0",
      "model_name": "LayoutModel",
      "state": {
       "order": "-1",
       "overflow": "visible",
       "padding": "1px",
       "width": "0px"
      }
     },
     "4fd71be79f6645e59bc829a67ec2636d": {
      "model_module": "@jupyter-widgets/base",
      "model_module_version": "1.2.0",
      "model_name": "LayoutModel",
      "state": {}
     },
     "50115580cbe0411a828337cd85d1ffa3": {
      "model_module": "@jupyter-widgets/base",
      "model_module_version": "1.2.0",
      "model_name": "LayoutModel",
      "state": {}
     },
     "502286c7e00042b08ef53442cd7a5e42": {
      "model_module": "@jupyter-widgets/controls",
      "model_module_version": "1.5.0",
      "model_name": "VBoxModel",
      "state": {
       "children": [
        "IPY_MODEL_de79e2cab91b400f9d97d56b6e65febc",
        "IPY_MODEL_dff00d2f4935498283ba80609ceb3a31",
        "IPY_MODEL_1308558144da4e2ab312fbbf1e928bb8"
       ],
       "layout": "IPY_MODEL_3bc9f3f75711428b85c5a9ce01915bc6"
      }
     },
     "5055e44ceab945bb9b1084d2b6b7ea15": {
      "model_module": "@jupyter-widgets/controls",
      "model_module_version": "1.5.0",
      "model_name": "DescriptionStyleModel",
      "state": {
       "description_width": ""
      }
     },
     "5077526931be419fa1b475f0a948bd36": {
      "model_module": "@jupyter-widgets/controls",
      "model_module_version": "1.5.0",
      "model_name": "HTMLModel",
      "state": {
       "layout": "IPY_MODEL_9d5d20569681434a9b27927a0a934b53",
       "style": "IPY_MODEL_08522826546a49b6ae9a31bfef38af04",
       "value": "<b>Task Name</b>"
      }
     },
     "508d0e10d40842e58358667b9ba6015b": {
      "model_module": "@jupyter-widgets/controls",
      "model_module_version": "1.5.0",
      "model_name": "ProgressStyleModel",
      "state": {
       "description_width": ""
      }
     },
     "50b699fedfcc40f6be36e17f02cb4cc8": {
      "model_module": "@jupyter-widgets/base",
      "model_module_version": "1.2.0",
      "model_name": "LayoutModel",
      "state": {}
     },
     "50dd47f19fe34f79922db860b0e5c7c6": {
      "model_module": "@jupyter-widgets/controls",
      "model_module_version": "1.5.0",
      "model_name": "ProgressStyleModel",
      "state": {
       "description_width": ""
      }
     },
     "5132606a2b92443cb9720ff825f10eb1": {
      "model_module": "@jupyter-widgets/controls",
      "model_module_version": "1.5.0",
      "model_name": "ButtonModel",
      "state": {
       "layout": "IPY_MODEL_d84326e578d24715a80da872b99bbf74",
       "style": "IPY_MODEL_092a4fbe57e440499fbb267449df7d4e"
      }
     },
     "51bacdfb628c4bd1a9d0e996242322b5": {
      "model_module": "@jupyter-widgets/controls",
      "model_module_version": "1.5.0",
      "model_name": "HBoxModel",
      "state": {
       "children": [
        "IPY_MODEL_59dc902ddf264a9492645d413118bfc1",
        "IPY_MODEL_bd9556245d4b4a3cb64a2885620a7f21",
        "IPY_MODEL_04afff54976a41dc86892b3dd2b77178",
        "IPY_MODEL_70b7790cae6a4e46ab244141bc138139"
       ],
       "layout": "IPY_MODEL_a8b56515659e41b594a9de414ae3093a"
      }
     },
     "520ae58ad06948c6896ed0d52506846f": {
      "model_module": "@jupyter-widgets/controls",
      "model_module_version": "1.5.0",
      "model_name": "HBoxModel",
      "state": {
       "children": [
        "IPY_MODEL_c7d5c0f18a8a4d20afc8b3055e1cd36e",
        "IPY_MODEL_879ec9f00d054386a2f5bd1f42bcbb05",
        "IPY_MODEL_0d143bfcc16a49f5a701ac418b234a3b",
        "IPY_MODEL_271a0681b9264e59b93622564867e6b9"
       ],
       "layout": "IPY_MODEL_75db554a8b5a46e992a6914d4712e375"
      }
     },
     "5236c9288a1a4de88631641bcc9196f7": {
      "model_module": "@jupyter-widgets/base",
      "model_module_version": "1.2.0",
      "model_name": "LayoutModel",
      "state": {
       "height": "32px",
       "order": "-2",
       "width": "32px"
      }
     },
     "52896169cf4940718002d53d9db85156": {
      "model_module": "@jupyter-widgets/base",
      "model_module_version": "1.2.0",
      "model_name": "LayoutModel",
      "state": {
       "height": "32px",
       "overflow": "visible",
       "width": "100%"
      }
     },
     "52b1f994f3e1448dba95b4adcb3ffffe": {
      "model_module": "@jupyter-widgets/base",
      "model_module_version": "1.2.0",
      "model_name": "LayoutModel",
      "state": {
       "height": "32px",
       "overflow": "visible",
       "width": "100%"
      }
     },
     "52bac9d1c03f4ddd9b7ba4a3a698ae9e": {
      "model_module": "@jupyter-widgets/controls",
      "model_module_version": "1.5.0",
      "model_name": "LabelModel",
      "state": {
       "layout": "IPY_MODEL_d3b1c0942077417ea9c8ee4c7fd0b2c2",
       "style": "IPY_MODEL_8091382aca99414686cf2110677f8d9e",
       "value": "   objective"
      }
     },
     "5327c4f4f83a4202bfbe012d9e9f6dc0": {
      "model_module": "@jupyter-widgets/controls",
      "model_module_version": "1.5.0",
      "model_name": "IntProgressModel",
      "state": {
       "layout": "IPY_MODEL_cc0d425805a142b99639d2f1e1fca32d",
       "style": "IPY_MODEL_00c320a84c174e4ba008c600c52853c4",
       "value": 30
      }
     },
     "5331d1872cf6499dbda8607a23762d80": {
      "model_module": "@jupyter-widgets/controls",
      "model_module_version": "1.5.0",
      "model_name": "ButtonStyleModel",
      "state": {}
     },
     "5344271fb62546109f421a0cb160d4bf": {
      "model_module": "@jupyter-widgets/controls",
      "model_module_version": "1.5.0",
      "model_name": "DescriptionStyleModel",
      "state": {
       "description_width": ""
      }
     },
     "5353f0fb86f2430a8e1ed04220cd9a17": {
      "model_module": "@jupyter-widgets/base",
      "model_module_version": "1.2.0",
      "model_name": "LayoutModel",
      "state": {
       "order": "-1",
       "overflow": "visible",
       "padding": "1px",
       "width": "0px"
      }
     },
     "538edfab21f545208300fc7d19c21248": {
      "model_module": "@jupyter-widgets/controls",
      "model_module_version": "1.5.0",
      "model_name": "VBoxModel",
      "state": {
       "children": [
        "IPY_MODEL_812acf5483c14ad39d209716a4c64d3b",
        "IPY_MODEL_2beaa399d9aa449b9448620d292a5119",
        "IPY_MODEL_8069ddc85c1b491c88d0e8e028fc2de0",
        "IPY_MODEL_2ae83d7dd23f47359388d6b9601d32e6"
       ],
       "layout": "IPY_MODEL_df67f0340db047b6b21ddd3a57fdbf8b"
      }
     },
     "53a8e39db59d4d28a0183cf450176ecc": {
      "model_module": "@jupyter-widgets/controls",
      "model_module_version": "1.5.0",
      "model_name": "ProgressStyleModel",
      "state": {
       "description_width": ""
      }
     },
     "53bd58cfc09d4d77aeee5b443b492d59": {
      "model_module": "@jupyter-widgets/controls",
      "model_module_version": "1.5.0",
      "model_name": "IntProgressModel",
      "state": {
       "layout": "IPY_MODEL_22e9d0249a834e3aac436bbca697e0e0",
       "style": "IPY_MODEL_a7194c0cf47a4ad8afc1b74dd0553801",
       "value": 30
      }
     },
     "540785d14d3a45a7b6e046fe64fe094d": {
      "model_module": "@jupyter-widgets/base",
      "model_module_version": "1.2.0",
      "model_name": "LayoutModel",
      "state": {
       "display": "none",
       "width": "60px"
      }
     },
     "54091c9b5f5a4f55b97a1b17b0ce2475": {
      "model_module": "@jupyter-widgets/controls",
      "model_module_version": "1.5.0",
      "model_name": "LabelModel",
      "state": {
       "layout": "IPY_MODEL_cc826c789787472181b1d10a14abfdd9",
       "style": "IPY_MODEL_a80437fe5a8c45b790c20f6b2e4c20eb",
       "value": "Grenade:"
      }
     },
     "541ed818a40346a18033a32fce8ba303": {
      "model_module": "@jupyter-widgets/controls",
      "model_module_version": "1.5.0",
      "model_name": "HTMLModel",
      "state": {
       "layout": "IPY_MODEL_6c4cb45a98384584b429c25b9d1c4911",
       "style": "IPY_MODEL_13f0ebea78014770b8469eb807c84f9f",
       "value": "<b>Task Name</b>"
      }
     },
     "545f5451b8af44e7abe05ca54c56a34d": {
      "model_module": "@jupyter-widgets/controls",
      "model_module_version": "1.5.0",
      "model_name": "TextModel",
      "state": {
       "description": "Gamertag:",
       "layout": "IPY_MODEL_5a8ddb70c72e4e77ad007135ad948468",
       "style": "IPY_MODEL_1bb87b5581334dc0898ff652f4197eaf",
       "value": "skalligman"
      }
     },
     "548ad16c191a42649f79a826b9468a2e": {
      "model_module": "@jupyter-widgets/controls",
      "model_module_version": "1.5.0",
      "model_name": "ProgressStyleModel",
      "state": {
       "description_width": ""
      }
     },
     "54909ded670a4cb6a5a482da52be8f8f": {
      "model_module": "@jupyter-widgets/controls",
      "model_module_version": "1.5.0",
      "model_name": "LabelModel",
      "state": {
       "layout": "IPY_MODEL_7f8518c9a9dc4532aef7482ad67b39c4",
       "style": "IPY_MODEL_6cecc343b596486ababc85f83a41daa7",
       "value": "Subclass:"
      }
     },
     "54ce663ecbd646b2a7b0b7f07883cd57": {
      "model_module": "@jupyter-widgets/controls",
      "model_module_version": "1.5.0",
      "model_name": "LabelModel",
      "state": {
       "layout": "IPY_MODEL_05eaa3ff09bf4b77a20595c8f15ea006",
       "style": "IPY_MODEL_24797e95aa21471198f46cbb141b0f03",
       "value": "   objective"
      }
     },
     "54ee94fd87cb4069a2424ab08c9c0353": {
      "model_module": "@jupyter-widgets/controls",
      "model_module_version": "1.5.0",
      "model_name": "IntProgressModel",
      "state": {
       "layout": "IPY_MODEL_5ecb4ca0fa1549439d16f8b02caedd43",
       "style": "IPY_MODEL_9f3e1cb73f0e4d0883a35946c50b6765",
       "value": 30
      }
     },
     "551151c8532c470f84f655b4e86a3192": {
      "model_module": "@jupyter-widgets/controls",
      "model_module_version": "1.5.0",
      "model_name": "LabelModel",
      "state": {
       "layout": "IPY_MODEL_229af711efcf4c56970b217d6f9dd34a",
       "style": "IPY_MODEL_bcafff19d0954ce1935b43a1b8f9fa55",
       "value": "   objective"
      }
     },
     "5519f3f8644d4b63b4fc2131e9df3a86": {
      "model_module": "@jupyter-widgets/controls",
      "model_module_version": "1.5.0",
      "model_name": "HTMLModel",
      "state": {
       "layout": "IPY_MODEL_9fd5e35be5a3459481ca69a4bc03c984",
       "style": "IPY_MODEL_ae43bc3cca0b478a86fb2335b55c54dd",
       "value": "<b>Task Name</b>"
      }
     },
     "555af8f3abfd44c6bd1c647293a1a046": {
      "model_module": "@jupyter-widgets/controls",
      "model_module_version": "1.5.0",
      "model_name": "ButtonStyleModel",
      "state": {}
     },
     "5573bb35a564499e9dd9aebfdf9c9a87": {
      "model_module": "@jupyter-widgets/controls",
      "model_module_version": "1.5.0",
      "model_name": "ButtonModel",
      "state": {
       "layout": "IPY_MODEL_8572c5741c1b4d6da9d2e0db39af5428",
       "style": "IPY_MODEL_f6422e7c30f7452bb54abb837c5fbce7"
      }
     },
     "557b1d66c2704953a637d855b99ef159": {
      "model_module": "@jupyter-widgets/controls",
      "model_module_version": "1.5.0",
      "model_name": "DescriptionStyleModel",
      "state": {
       "description_width": ""
      }
     },
     "55daa43f69b14aaab0771aaad1512984": {
      "model_module": "@jupyter-widgets/controls",
      "model_module_version": "1.5.0",
      "model_name": "IntProgressModel",
      "state": {
       "layout": "IPY_MODEL_b0f2cdd5d5d7466ebe7ee5f3f59b8634",
       "style": "IPY_MODEL_0c106370a5374101b05912084eb66764",
       "value": 30
      }
     },
     "561a9effb8724da38ca5e72e35fbe5de": {
      "model_module": "@jupyter-widgets/base",
      "model_module_version": "1.2.0",
      "model_name": "LayoutModel",
      "state": {}
     },
     "5630f91b8460458d80a912d375b84eb9": {
      "model_module": "@jupyter-widgets/controls",
      "model_module_version": "1.5.0",
      "model_name": "ButtonModel",
      "state": {
       "layout": "IPY_MODEL_ca561bc873da421a9e1e110c0c3d2815",
       "style": "IPY_MODEL_0d9c8a37267c461a8c2f89270db971f3"
      }
     },
     "56651bc375aa480db4e20cd1cebf7152": {
      "model_module": "@jupyter-widgets/controls",
      "model_module_version": "1.5.0",
      "model_name": "ButtonModel",
      "state": {
       "description": "EDIT",
       "layout": "IPY_MODEL_3f83e17336b14ab49aee2641b43ee82b",
       "style": "IPY_MODEL_071e0429e726492a9c407da2352dc669"
      }
     },
     "5670661378b9497c9c8221248a2156a0": {
      "model_module": "@jupyter-widgets/controls",
      "model_module_version": "1.5.0",
      "model_name": "HBoxModel",
      "state": {
       "children": [
        "IPY_MODEL_e7f802d37d51493e824ca460a122b9d7",
        "IPY_MODEL_f07de6a95e6b4636b1590b651a71e764",
        "IPY_MODEL_8111aa7195b84cb7a3d0cd6f6ee35742",
        "IPY_MODEL_f7ef3e4bff6f44fe94f8f6244e12064e"
       ],
       "layout": "IPY_MODEL_eb3ee0d136e244e0a9a38b8cd5d4dbc5"
      }
     },
     "568a8f2d15a64b438726c78e73427205": {
      "model_module": "@jupyter-widgets/controls",
      "model_module_version": "1.5.0",
      "model_name": "LabelModel",
      "state": {
       "layout": "IPY_MODEL_065c8e4f6edd40d29662cb378c863f16",
       "style": "IPY_MODEL_81dc826761a0424d9a7a5d6c8855708c",
       "value": "   objective"
      }
     },
     "56dcb33fcd3a4190b2279e4181cc187f": {
      "model_module": "@jupyter-widgets/controls",
      "model_module_version": "1.5.0",
      "model_name": "ButtonStyleModel",
      "state": {}
     },
     "5717aff00f724ba1a1b642b5cbc47f44": {
      "model_module": "@jupyter-widgets/controls",
      "model_module_version": "1.5.0",
      "model_name": "LabelModel",
      "state": {
       "layout": "IPY_MODEL_76195c9f05484b5395cd06d625b34f6a",
       "style": "IPY_MODEL_ab322fb6830a4184a07c106260703e99",
       "value": "   objective"
      }
     },
     "572390c4ea3f4d48bbaed56fe0722822": {
      "model_module": "@jupyter-widgets/controls",
      "model_module_version": "1.5.0",
      "model_name": "HBoxModel",
      "state": {
       "children": [
        "IPY_MODEL_d5f8255dbd4d42738f27f2b3440c3d6d",
        "IPY_MODEL_90e56f95b3274a0487c3366e8b0e2649",
        "IPY_MODEL_33928c65c93a4695bb3136d8274bc462",
        "IPY_MODEL_8eb3dd2adfe64159a802a6ffcab021a3"
       ],
       "layout": "IPY_MODEL_fdbd539ce34c4aeda7b0e79029df8419"
      }
     },
     "572531c2c1f5459ab740b12f4f7e9bc2": {
      "model_module": "@jupyter-widgets/base",
      "model_module_version": "1.2.0",
      "model_name": "LayoutModel",
      "state": {
       "height": "32px",
       "order": "-2",
       "width": "32px"
      }
     },
     "575d5c81791a47e2ac830b650560b674": {
      "model_module": "@jupyter-widgets/controls",
      "model_module_version": "1.5.0",
      "model_name": "DescriptionStyleModel",
      "state": {
       "description_width": ""
      }
     },
     "57eba1d1e6284690880407a360e4304f": {
      "model_module": "@jupyter-widgets/base",
      "model_module_version": "1.2.0",
      "model_name": "LayoutModel",
      "state": {}
     },
     "57fea8b1f93c4a8995f90f9261d20858": {
      "model_module": "@jupyter-widgets/controls",
      "model_module_version": "1.5.0",
      "model_name": "DescriptionStyleModel",
      "state": {
       "description_width": ""
      }
     },
     "58540613e32d4720807180ce3b69fe22": {
      "model_module": "@jupyter-widgets/controls",
      "model_module_version": "1.5.0",
      "model_name": "IntProgressModel",
      "state": {
       "layout": "IPY_MODEL_ed8dc2ebbb45449593334e445aa35119",
       "style": "IPY_MODEL_9a134929c99b48fba4ee55398f727198",
       "value": 30
      }
     },
     "586cd1c6a7fe4ad9b5254e15557454ef": {
      "model_module": "@jupyter-widgets/base",
      "model_module_version": "1.2.0",
      "model_name": "LayoutModel",
      "state": {
       "height": "32px",
       "order": "-2",
       "width": "32px"
      }
     },
     "588d0c83160c4839b401188e79c7d42c": {
      "model_module": "@jupyter-widgets/base",
      "model_module_version": "1.2.0",
      "model_name": "LayoutModel",
      "state": {
       "height": "32px",
       "overflow": "visible",
       "width": "100%"
      }
     },
     "58b9fe2432d64110a7d0350f424f8422": {
      "model_module": "@jupyter-widgets/controls",
      "model_module_version": "1.5.0",
      "model_name": "ButtonStyleModel",
      "state": {}
     },
     "58bc43e5cf7344cab166f63ee5df7c74": {
      "model_module": "@jupyter-widgets/controls",
      "model_module_version": "1.5.0",
      "model_name": "ButtonStyleModel",
      "state": {}
     },
     "58cceefb7eb5405eaee746bc5692b6e1": {
      "model_module": "@jupyter-widgets/base",
      "model_module_version": "1.2.0",
      "model_name": "LayoutModel",
      "state": {
       "order": "-1",
       "overflow": "visible",
       "padding": "1px",
       "width": "0px"
      }
     },
     "58e9a020160747cdb4ed38b82754cf36": {
      "model_module": "@jupyter-widgets/base",
      "model_module_version": "1.2.0",
      "model_name": "LayoutModel",
      "state": {
       "order": "-1",
       "overflow": "visible",
       "padding": "1px",
       "width": "0px"
      }
     },
     "59056691675340e7ad6337c8272ae2b7": {
      "model_module": "@jupyter-widgets/controls",
      "model_module_version": "1.5.0",
      "model_name": "LabelModel",
      "state": {
       "layout": "IPY_MODEL_5353f0fb86f2430a8e1ed04220cd9a17",
       "style": "IPY_MODEL_1c3cd95421a1450fb61cee37b79c0346",
       "value": "   objective"
      }
     },
     "59276bbc3f544e259004b6b3a4e6bce8": {
      "model_module": "@jupyter-widgets/base",
      "model_module_version": "1.2.0",
      "model_name": "LayoutModel",
      "state": {
       "display": "flex",
       "flex_flow": "row wrap"
      }
     },
     "59bdc720aad04ae7977e20ee427fbca6": {
      "model_module": "@jupyter-widgets/controls",
      "model_module_version": "1.5.0",
      "model_name": "DropdownModel",
      "state": {
       "_options_labels": [
        "Any",
        "Patrol",
        "Gambit",
        "Reckoning",
        "Menagerie",
        "Vex Offensive",
        "Raid",
        "Strike",
        "Nightfall",
        "Crucible",
        "Forge"
       ],
       "index": 0,
       "layout": "IPY_MODEL_193caaf46c854445b8ea8cdbe67f8757",
       "style": "IPY_MODEL_303cf3416a7e451e8cacd368b868ed20"
      }
     },
     "59dc902ddf264a9492645d413118bfc1": {
      "model_module": "@jupyter-widgets/controls",
      "model_module_version": "1.5.0",
      "model_name": "ButtonModel",
      "state": {
       "layout": "IPY_MODEL_95d73f77375546fbb0d4ead6b0ff65e8",
       "style": "IPY_MODEL_cfcfa92982954d8fa8df62b790a88626"
      }
     },
     "5a5c02f8c76e48d1b06eff88287f338a": {
      "model_module": "@jupyter-widgets/controls",
      "model_module_version": "1.5.0",
      "model_name": "LabelModel",
      "state": {
       "layout": "IPY_MODEL_f1b77fb91ccf446caee0b632b07dc0a5",
       "style": "IPY_MODEL_9f68ae4099db47f3822f0dff8875256d",
       "value": "   objective"
      }
     },
     "5a718d4b9cfb4503aa6c9e521ca0ccdd": {
      "model_module": "@jupyter-widgets/base",
      "model_module_version": "1.2.0",
      "model_name": "LayoutModel",
      "state": {
       "height": "32px",
       "overflow": "visible",
       "width": "100%"
      }
     },
     "5a80f999c9a8405e8c668197e5a9a284": {
      "model_module": "@jupyter-widgets/controls",
      "model_module_version": "1.5.0",
      "model_name": "DescriptionStyleModel",
      "state": {
       "description_width": ""
      }
     },
     "5a8ddb70c72e4e77ad007135ad948468": {
      "model_module": "@jupyter-widgets/base",
      "model_module_version": "1.2.0",
      "model_name": "LayoutModel",
      "state": {}
     },
     "5ab6d006911b49c19a4dafe055ba5945": {
      "model_module": "@jupyter-widgets/base",
      "model_module_version": "1.2.0",
      "model_name": "LayoutModel",
      "state": {
       "height": "32px",
       "overflow": "visible",
       "width": "100%"
      }
     },
     "5b7041cb806b453c97d6b0980badb106": {
      "model_module": "@jupyter-widgets/base",
      "model_module_version": "1.2.0",
      "model_name": "LayoutModel",
      "state": {
       "order": "-1",
       "overflow": "visible",
       "padding": "1px",
       "width": "0px"
      }
     },
     "5b72052cd7724a50a1b9110d79317625": {
      "model_module": "@jupyter-widgets/base",
      "model_module_version": "1.2.0",
      "model_name": "LayoutModel",
      "state": {}
     },
     "5b997da272924b6d90454cc430397ad0": {
      "model_module": "@jupyter-widgets/controls",
      "model_module_version": "1.5.0",
      "model_name": "ButtonStyleModel",
      "state": {}
     },
     "5bd51a5a9c5640eeaf24f33c3bc8d676": {
      "model_module": "@jupyter-widgets/controls",
      "model_module_version": "1.5.0",
      "model_name": "IntProgressModel",
      "state": {
       "layout": "IPY_MODEL_32a1b8c03c3c4fa18da73d4837150fae",
       "style": "IPY_MODEL_1aab9abb32ff4ae089553678033d6f46",
       "value": 30
      }
     },
     "5bd932502d314e89a7b233d9b9eac66a": {
      "model_module": "@jupyter-widgets/base",
      "model_module_version": "1.2.0",
      "model_name": "LayoutModel",
      "state": {
       "height": "32px",
       "order": "-2",
       "width": "32px"
      }
     },
     "5c089b9242254aa2be02ed6867941bfb": {
      "model_module": "@jupyter-widgets/controls",
      "model_module_version": "1.5.0",
      "model_name": "ButtonModel",
      "state": {
       "description": "EDIT",
       "layout": "IPY_MODEL_747db5528b574f21b9b3a471a9158e40",
       "style": "IPY_MODEL_484488eae0e6412e9b6a2f72230e7059"
      }
     },
     "5c2907b296c94b4ba200e63304823754": {
      "model_module": "@jupyter-widgets/base",
      "model_module_version": "1.2.0",
      "model_name": "LayoutModel",
      "state": {
       "order": "-1",
       "overflow": "visible",
       "padding": "1px",
       "width": "0px"
      }
     },
     "5c3b582e9240402aa4dbab7ed987565a": {
      "model_module": "@jupyter-widgets/controls",
      "model_module_version": "1.5.0",
      "model_name": "ButtonStyleModel",
      "state": {}
     },
     "5c3df8930d294cfc8b226e57b6b5ab4a": {
      "model_module": "@jupyter-widgets/base",
      "model_module_version": "1.2.0",
      "model_name": "LayoutModel",
      "state": {
       "height": "32px",
       "overflow": "visible",
       "width": "100%"
      }
     },
     "5c539aeb1a774c9ea820fd705bd28be4": {
      "model_module": "@jupyter-widgets/controls",
      "model_module_version": "1.5.0",
      "model_name": "ProgressStyleModel",
      "state": {
       "description_width": ""
      }
     },
     "5cfcde973962449284413c5369b8405b": {
      "model_module": "@jupyter-widgets/base",
      "model_module_version": "1.2.0",
      "model_name": "LayoutModel",
      "state": {}
     },
     "5d03782a82b9408ba12683b233761c97": {
      "model_module": "@jupyter-widgets/controls",
      "model_module_version": "1.5.0",
      "model_name": "VBoxModel",
      "state": {
       "children": [
        "IPY_MODEL_774a2a6191974bd282a3188b7d72bf13",
        "IPY_MODEL_76da1cee6a9445aaafd1682f129bc030"
       ],
       "layout": "IPY_MODEL_b9e02752ce264b8796850cf149fdb830"
      }
     },
     "5d56862d805e4af8a3bc720ec8acf0d5": {
      "model_module": "@jupyter-widgets/controls",
      "model_module_version": "1.5.0",
      "model_name": "ButtonModel",
      "state": {
       "layout": "IPY_MODEL_42a5d5edbc154b4faa59261b357aa977",
       "style": "IPY_MODEL_f8861c56024c4d66b5d867336dfa7d8e"
      }
     },
     "5d99b8684ced40189b82aff987c8bfb2": {
      "model_module": "@jupyter-widgets/controls",
      "model_module_version": "1.5.0",
      "model_name": "HBoxModel",
      "state": {
       "children": [
        "IPY_MODEL_5573bb35a564499e9dd9aebfdf9c9a87",
        "IPY_MODEL_251d49f19bb24ed09cc853d82a842415",
        "IPY_MODEL_b4a0365f549846c193cd25ff9d93be96",
        "IPY_MODEL_48976284dcf748a9b3733ec5640b139e"
       ],
       "layout": "IPY_MODEL_fdffe2bb888f4e9a991226aa4d1f3c04"
      }
     },
     "5d9cb2502d9746a587db9ee299eec531": {
      "model_module": "@jupyter-widgets/controls",
      "model_module_version": "1.5.0",
      "model_name": "HBoxModel",
      "state": {
       "children": [
        "IPY_MODEL_7734e7e08bab466ba3be3e09b86134a4",
        "IPY_MODEL_e40fbb97e4ec49008fb80d7dc91d000c",
        "IPY_MODEL_c977d447b9f24b678c143ec6d3b935b4",
        "IPY_MODEL_cea44ee15fec4324964f0b974d89f7e6"
       ],
       "layout": "IPY_MODEL_63258bfdd08d47cb8178ca749750dac9"
      }
     },
     "5da277d0efa54ab999b34f90a6d00ec9": {
      "model_module": "@jupyter-widgets/base",
      "model_module_version": "1.2.0",
      "model_name": "LayoutModel",
      "state": {
       "display": "none",
       "width": "60px"
      }
     },
     "5daabcaaf83244e9aa1cde685de2c7fb": {
      "model_module": "@jupyter-widgets/controls",
      "model_module_version": "1.5.0",
      "model_name": "ButtonStyleModel",
      "state": {}
     },
     "5dbbc36df5f24b0abe11da27ede85bef": {
      "model_module": "@jupyter-widgets/base",
      "model_module_version": "1.2.0",
      "model_name": "LayoutModel",
      "state": {}
     },
     "5ddc7a95821940cfba152371a1da26f9": {
      "model_module": "@jupyter-widgets/controls",
      "model_module_version": "1.5.0",
      "model_name": "DescriptionStyleModel",
      "state": {
       "description_width": ""
      }
     },
     "5e044e3d2aab47eab3b93dbb770c8102": {
      "model_module": "@jupyter-widgets/base",
      "model_module_version": "1.2.0",
      "model_name": "LayoutModel",
      "state": {
       "order": "-1",
       "overflow": "visible",
       "padding": "1px",
       "width": "0px"
      }
     },
     "5e17cc42af2044e69b82cfb57e2c412c": {
      "model_module": "@jupyter-widgets/controls",
      "model_module_version": "1.5.0",
      "model_name": "HTMLModel",
      "state": {
       "layout": "IPY_MODEL_2dda53fc8d1d4740a8c7cc692214007a",
       "style": "IPY_MODEL_337a21fb1a5d462a9973d497e5f9cf37",
       "value": "<i>test test test test test test test test test test test test test test test test test test test test test test test test </i>"
      }
     },
     "5e2255218aa54613aa671bc01df13927": {
      "model_module": "@jupyter-widgets/base",
      "model_module_version": "1.2.0",
      "model_name": "LayoutModel",
      "state": {}
     },
     "5e812824fa6f4136aa0cca494abbfe9d": {
      "model_module": "@jupyter-widgets/base",
      "model_module_version": "1.2.0",
      "model_name": "LayoutModel",
      "state": {
       "height": "32px",
       "overflow": "visible",
       "width": "100%"
      }
     },
     "5eba6350fccd45dc8c759833f2f727ec": {
      "model_module": "@jupyter-widgets/base",
      "model_module_version": "1.2.0",
      "model_name": "LayoutModel",
      "state": {
       "display": "none",
       "width": "60px"
      }
     },
     "5ecb4ca0fa1549439d16f8b02caedd43": {
      "model_module": "@jupyter-widgets/base",
      "model_module_version": "1.2.0",
      "model_name": "LayoutModel",
      "state": {
       "height": "32px",
       "overflow": "visible",
       "width": "100%"
      }
     },
     "5ee6827fc46b41f99f61a08fea4a024a": {
      "model_module": "@jupyter-widgets/controls",
      "model_module_version": "1.5.0",
      "model_name": "IntProgressModel",
      "state": {
       "layout": "IPY_MODEL_e776a9bb3b7842efbec7b8b7252173ce",
       "style": "IPY_MODEL_548ad16c191a42649f79a826b9468a2e",
       "value": 30
      }
     },
     "5f0d438cc0684d329af2986156c9faad": {
      "model_module": "@jupyter-widgets/controls",
      "model_module_version": "1.5.0",
      "model_name": "LabelModel",
      "state": {
       "layout": "IPY_MODEL_f16b0d8be9f24de6aba5423100084194",
       "style": "IPY_MODEL_d9fa0e3107f14368a4698ddf2373efb3",
       "value": "   objective"
      }
     },
     "5f13f230f84f4ed8af8fc3979099c80f": {
      "model_module": "@jupyter-widgets/controls",
      "model_module_version": "1.5.0",
      "model_name": "VBoxModel",
      "state": {
       "children": [
        "IPY_MODEL_2bf71bc78d8f479c9636794c5a1910d2",
        "IPY_MODEL_a30d64ce8c084a0ab79301d0767c2385",
        "IPY_MODEL_0d0d547c7a354a0c894f087076cfd679",
        "IPY_MODEL_a30d64ce8c084a0ab79301d0767c2385",
        "IPY_MODEL_fc1306e63ee24df4892aaaeef70cd973"
       ],
       "layout": "IPY_MODEL_7a85f5c2a0d54671bf5f5b54a6da0bdb"
      }
     },
     "5f6790b87f034da5a67357d1924a252e": {
      "model_module": "@jupyter-widgets/controls",
      "model_module_version": "1.5.0",
      "model_name": "VBoxModel",
      "state": {
       "children": [
        "IPY_MODEL_38245ebe4aa74fb9955e1d79e16bad4a",
        "IPY_MODEL_8b385fad8ad44888b8d238c24ac7a9a1",
        "IPY_MODEL_15b9ac0808bc4806a4d05565ad9d251e",
        "IPY_MODEL_786eb9b2bd5c444c9a7993e19530d253"
       ],
       "layout": "IPY_MODEL_b6fbb4adcc91491ba304acca85456b57"
      }
     },
     "5f84f6ce53c9407ebab5ead06bcdc73b": {
      "model_module": "@jupyter-widgets/controls",
      "model_module_version": "1.5.0",
      "model_name": "ButtonModel",
      "state": {
       "layout": "IPY_MODEL_586cd1c6a7fe4ad9b5254e15557454ef",
       "style": "IPY_MODEL_f40f95dfcaef4f939721cbaa5afaf504"
      }
     },
     "5fa2b289a2cc4c8f853e50f928ee9fb6": {
      "model_module": "@jupyter-widgets/controls",
      "model_module_version": "1.5.0",
      "model_name": "DescriptionStyleModel",
      "state": {
       "description_width": ""
      }
     },
     "5fef54f7d3224ed29b883636c81c96b0": {
      "model_module": "@jupyter-widgets/base",
      "model_module_version": "1.2.0",
      "model_name": "LayoutModel",
      "state": {
       "height": "32px",
       "overflow": "visible",
       "width": "100%"
      }
     },
     "60037c9f10be4e65884bcfb149510b25": {
      "model_module": "@jupyter-widgets/base",
      "model_module_version": "1.2.0",
      "model_name": "LayoutModel",
      "state": {
       "display": "none",
       "width": "60px"
      }
     },
     "601ec09757254d82a068358d786e070d": {
      "model_module": "@jupyter-widgets/controls",
      "model_module_version": "1.5.0",
      "model_name": "DescriptionStyleModel",
      "state": {
       "description_width": ""
      }
     },
     "602870c71dee492385d128248730713b": {
      "model_module": "@jupyter-widgets/controls",
      "model_module_version": "1.5.0",
      "model_name": "ButtonModel",
      "state": {
       "layout": "IPY_MODEL_af0bd41be79745aaab7b55a46ab3bbf3",
       "style": "IPY_MODEL_8ea6329ed8a84448a5c40c0284004cdd"
      }
     },
     "60398597df654261aa3f1d887b35c5f0": {
      "model_module": "@jupyter-widgets/controls",
      "model_module_version": "1.5.0",
      "model_name": "HBoxModel",
      "state": {
       "children": [
        "IPY_MODEL_128b176594304897b57f753844c25e9f",
        "IPY_MODEL_6e26865eb46043b9aae8b69dfe83c345",
        "IPY_MODEL_e64c8c6f22a14503938c6687bf910c6e",
        "IPY_MODEL_dd7ac3ec377649f0bc553815d4932f86"
       ],
       "layout": "IPY_MODEL_499e13a917f740969d6d7ece2591825b"
      }
     },
     "605d991d69474236980b6066aab0291a": {
      "model_module": "@jupyter-widgets/base",
      "model_module_version": "1.2.0",
      "model_name": "LayoutModel",
      "state": {
       "height": "32px",
       "overflow": "visible",
       "width": "100%"
      }
     },
     "6079f6044f0a4aa19be86fa83738f95e": {
      "model_module": "@jupyter-widgets/controls",
      "model_module_version": "1.5.0",
      "model_name": "LabelModel",
      "state": {
       "layout": "IPY_MODEL_b05acf5046e043619f2de8fca940a335",
       "style": "IPY_MODEL_0e5da5d902dc4216a3188803a78fda33",
       "value": "   objective"
      }
     },
     "60926ae7608a4cc6ba7f9341061736cb": {
      "model_module": "@jupyter-widgets/controls",
      "model_module_version": "1.5.0",
      "model_name": "DescriptionStyleModel",
      "state": {
       "description_width": ""
      }
     },
     "609b07befb774729a50ecaed161c1563": {
      "model_module": "@jupyter-widgets/base",
      "model_module_version": "1.2.0",
      "model_name": "LayoutModel",
      "state": {
       "align_items": "stretch",
       "display": "flex",
       "flex_flow": "row wrap"
      }
     },
     "60f154a6eaa44974bb95bdb8eea74d24": {
      "model_module": "@jupyter-widgets/controls",
      "model_module_version": "1.5.0",
      "model_name": "ProgressStyleModel",
      "state": {
       "description_width": ""
      }
     },
     "60f77c7a51b14702bf229fbc056d7ab6": {
      "model_module": "@jupyter-widgets/base",
      "model_module_version": "1.2.0",
      "model_name": "LayoutModel",
      "state": {}
     },
     "61379d05992c409c9ed6763a14dc070e": {
      "model_module": "@jupyter-widgets/controls",
      "model_module_version": "1.5.0",
      "model_name": "ButtonModel",
      "state": {
       "description": "Sign In",
       "layout": "IPY_MODEL_92943c59873e43abbc482468e929f9d6",
       "style": "IPY_MODEL_3272b76d4f8c40d385fdf0a783ab59c4"
      }
     },
     "614af03956d947689cc3927c1b8aa126": {
      "model_module": "@jupyter-widgets/base",
      "model_module_version": "1.2.0",
      "model_name": "LayoutModel",
      "state": {
       "display": "none",
       "width": "60px"
      }
     },
     "614da64d3cb748cc8ab5c9937ba074fd": {
      "model_module": "@jupyter-widgets/base",
      "model_module_version": "1.2.0",
      "model_name": "LayoutModel",
      "state": {
       "overflow": "visible",
       "width": "100%"
      }
     },
     "6191db6e1c8049edb203a8fd19a5b9bd": {
      "model_module": "@jupyter-widgets/controls",
      "model_module_version": "1.5.0",
      "model_name": "DescriptionStyleModel",
      "state": {
       "description_width": ""
      }
     },
     "6207435f682c4f15a9251f791ccd6840": {
      "model_module": "@jupyter-widgets/controls",
      "model_module_version": "1.5.0",
      "model_name": "ButtonModel",
      "state": {
       "layout": "IPY_MODEL_2b79211172334ce3a1c1caae5abf33b1",
       "style": "IPY_MODEL_e2932b533e6b48f889db241c2121e68c"
      }
     },
     "624202f6fd064dbe8ddf67ed5a784c50": {
      "model_module": "@jupyter-widgets/controls",
      "model_module_version": "1.5.0",
      "model_name": "ProgressStyleModel",
      "state": {
       "description_width": ""
      }
     },
     "62500148142940239819d0799208f27e": {
      "model_module": "@jupyter-widgets/controls",
      "model_module_version": "1.5.0",
      "model_name": "HBoxModel",
      "state": {
       "children": [
        "IPY_MODEL_2dc45970632e4400a9357d5107b01a5d",
        "IPY_MODEL_1ce48f519e944bef8509430aa7c3f77d",
        "IPY_MODEL_f730eccd57d24a96abd3b48db1a53290",
        "IPY_MODEL_7d28fe1241fc40d3807564c2a50ede11"
       ],
       "layout": "IPY_MODEL_2cf51c36cd2b403d88ea3cce9216df69"
      }
     },
     "62593a8dbc304bc094d8210f1fe62775": {
      "model_module": "@jupyter-widgets/controls",
      "model_module_version": "1.5.0",
      "model_name": "HBoxModel",
      "state": {
       "children": [
        "IPY_MODEL_7c6874812b014530b3a0a370197b0a1d",
        "IPY_MODEL_fdb21622296c47b9859dd8f18c9051b9",
        "IPY_MODEL_59056691675340e7ad6337c8272ae2b7",
        "IPY_MODEL_7fc83d3e7e444401a666664af296c893"
       ],
       "layout": "IPY_MODEL_3b23c1ad8f03435196fa461fab8fd52c"
      }
     },
     "6290ce2c26254dcdbff090ce17c45bb3": {
      "model_module": "@jupyter-widgets/controls",
      "model_module_version": "1.5.0",
      "model_name": "ButtonModel",
      "state": {
       "layout": "IPY_MODEL_47f5d729205f433eada5d20cdc7b31ae",
       "style": "IPY_MODEL_84ad1bbca2f24b909369c991a3e83b65"
      }
     },
     "62d25633e5f24b3f8ed3ae6bd79e452d": {
      "model_module": "@jupyter-widgets/base",
      "model_module_version": "1.2.0",
      "model_name": "LayoutModel",
      "state": {
       "height": "32px",
       "order": "-2",
       "width": "32px"
      }
     },
     "62f6512d6e9744b7b04370bc213a5c1f": {
      "model_module": "@jupyter-widgets/controls",
      "model_module_version": "1.5.0",
      "model_name": "ButtonModel",
      "state": {
       "layout": "IPY_MODEL_cced75c7f6db40208fc1badbbe50771f",
       "style": "IPY_MODEL_64eb452d126c419fa50e1e5f29984283"
      }
     },
     "63062433b40241fca3ca83fe11209d6c": {
      "model_module": "@jupyter-widgets/controls",
      "model_module_version": "1.5.0",
      "model_name": "ButtonModel",
      "state": {
       "layout": "IPY_MODEL_6ad9389d59744d72a09b2e2bd87ce055",
       "style": "IPY_MODEL_92bfb79dabcc467aacb7ed0ebae20f40"
      }
     },
     "63258bfdd08d47cb8178ca749750dac9": {
      "model_module": "@jupyter-widgets/base",
      "model_module_version": "1.2.0",
      "model_name": "LayoutModel",
      "state": {}
     },
     "63b5b27b65d94de784b00987a1066cf4": {
      "model_module": "@jupyter-widgets/base",
      "model_module_version": "1.2.0",
      "model_name": "LayoutModel",
      "state": {
       "height": "32px",
       "order": "-2",
       "width": "32px"
      }
     },
     "63ba6fec2a4843ada2794632ead70e3f": {
      "model_module": "@jupyter-widgets/controls",
      "model_module_version": "1.5.0",
      "model_name": "ButtonStyleModel",
      "state": {}
     },
     "63f22365af774d609b09dbc41be20683": {
      "model_module": "@jupyter-widgets/base",
      "model_module_version": "1.2.0",
      "model_name": "LayoutModel",
      "state": {
       "display": "none",
       "width": "60px"
      }
     },
     "6430f888123040328750d106bfc87ed0": {
      "model_module": "@jupyter-widgets/base",
      "model_module_version": "1.2.0",
      "model_name": "LayoutModel",
      "state": {
       "height": "32px",
       "order": "-2",
       "width": "32px"
      }
     },
     "64313a874ace4ded8e8b24658cea5f1f": {
      "model_module": "@jupyter-widgets/controls",
      "model_module_version": "1.5.0",
      "model_name": "ButtonStyleModel",
      "state": {}
     },
     "6451bd5b5f5248f88cd7bef964a8b69d": {
      "model_module": "@jupyter-widgets/controls",
      "model_module_version": "1.5.0",
      "model_name": "ButtonModel",
      "state": {
       "description": "EDIT",
       "layout": "IPY_MODEL_2f4d95881f944042959d89e3fb9ed80e",
       "style": "IPY_MODEL_7a5f8eb0492341508b258ee98e462a42"
      }
     },
     "646232a7dadc44d3b35741981440cea0": {
      "model_module": "@jupyter-widgets/controls",
      "model_module_version": "1.5.0",
      "model_name": "ButtonStyleModel",
      "state": {}
     },
     "648ea4fe1b654bc486faef499ad5afd5": {
      "model_module": "@jupyter-widgets/controls",
      "model_module_version": "1.5.0",
      "model_name": "ButtonStyleModel",
      "state": {}
     },
     "64916334e63f4cb08f3f25d3f026110c": {
      "model_module": "@jupyter-widgets/controls",
      "model_module_version": "1.5.0",
      "model_name": "ButtonModel",
      "state": {
       "layout": "IPY_MODEL_6e5a376c4d614667bd7404456f33b0e8",
       "style": "IPY_MODEL_fa96a6dca61e4d40b313e263c2b2d865"
      }
     },
     "64be6ee2b1aa45759764fc7490424048": {
      "model_module": "@jupyter-widgets/controls",
      "model_module_version": "1.5.0",
      "model_name": "DescriptionStyleModel",
      "state": {
       "description_width": ""
      }
     },
     "64cef106e78c4b0089fe72fad6062b54": {
      "model_module": "@jupyter-widgets/controls",
      "model_module_version": "1.5.0",
      "model_name": "VBoxModel",
      "state": {
       "children": [
        "IPY_MODEL_6aebd05ab48844478cb0283acc8775cc",
        "IPY_MODEL_72e15cafa5e84b6c9bf12e941c65b8e4",
        "IPY_MODEL_67c87cabbe0e49b78ded5775bccfd293",
        "IPY_MODEL_1bd9c4b5645a40a98dc6a47aad7144dd",
        "IPY_MODEL_b3b2866283bf40ebb8232182197f15e1",
        "IPY_MODEL_75cf02a78fa147188e4747723e3b6abd"
       ],
       "layout": "IPY_MODEL_9fb3939554724de096e5c5851b99c0c0"
      }
     },
     "64d32835e795470481a4458f95699261": {
      "model_module": "@jupyter-widgets/controls",
      "model_module_version": "1.5.0",
      "model_name": "DescriptionStyleModel",
      "state": {
       "description_width": ""
      }
     },
     "64eb452d126c419fa50e1e5f29984283": {
      "model_module": "@jupyter-widgets/controls",
      "model_module_version": "1.5.0",
      "model_name": "ButtonStyleModel",
      "state": {}
     },
     "64edd3c59a2647f28f27c798a62b8d2f": {
      "model_module": "@jupyter-widgets/controls",
      "model_module_version": "1.5.0",
      "model_name": "ButtonModel",
      "state": {
       "layout": "IPY_MODEL_9406fbf6e07d4312bc0e3d46875f8994",
       "style": "IPY_MODEL_7bef4dbfa7f34b539baac8c3516dadf8"
      }
     },
     "652d4b3e7a1a4b10a899429fd3262086": {
      "model_module": "@jupyter-widgets/controls",
      "model_module_version": "1.5.0",
      "model_name": "DescriptionStyleModel",
      "state": {
       "description_width": ""
      }
     },
     "658eeec51de243dcae96e78d9d1b9e47": {
      "model_module": "@jupyter-widgets/base",
      "model_module_version": "1.2.0",
      "model_name": "LayoutModel",
      "state": {
       "height": "32px",
       "overflow": "visible",
       "width": "100%"
      }
     },
     "65cdbd07c75a4cf89e7cc9d5f51bc851": {
      "model_module": "@jupyter-widgets/base",
      "model_module_version": "1.2.0",
      "model_name": "LayoutModel",
      "state": {
       "order": "-1",
       "overflow": "visible",
       "padding": "1px",
       "width": "0px"
      }
     },
     "65f757c0003342abafd552b3021a8b80": {
      "model_module": "@jupyter-widgets/controls",
      "model_module_version": "1.5.0",
      "model_name": "IntProgressModel",
      "state": {
       "layout": "IPY_MODEL_b96b6e216a4f4488b3c2d0d49c534638",
       "style": "IPY_MODEL_95865794aaab47d6b81cce6404c16e3e",
       "value": 30
      }
     },
     "660cbd85e96d48b6af6d2614ff8b95ec": {
      "model_module": "@jupyter-widgets/controls",
      "model_module_version": "1.5.0",
      "model_name": "HBoxModel",
      "state": {
       "children": [
        "IPY_MODEL_75c8e6ba11114307a28538a697ce9aed",
        "IPY_MODEL_e12f7256c1924f4fa5ac350d5669c65e",
        "IPY_MODEL_3d41da8e52de4bd589751c3cf9df7266",
        "IPY_MODEL_8a3e65d4e14c4ae7a27164d2eff8ba72"
       ],
       "layout": "IPY_MODEL_d4268afbc14941669edf4da26736e6cb"
      }
     },
     "663d00036a77433e9a0a57b3ed184c29": {
      "model_module": "@jupyter-widgets/controls",
      "model_module_version": "1.5.0",
      "model_name": "ButtonStyleModel",
      "state": {}
     },
     "663e8bd43513441cb7a59b5d9a863a09": {
      "model_module": "@jupyter-widgets/controls",
      "model_module_version": "1.5.0",
      "model_name": "DescriptionStyleModel",
      "state": {
       "description_width": ""
      }
     },
     "6669ff30b331441ab0a8f3e4d74dc69d": {
      "model_module": "@jupyter-widgets/controls",
      "model_module_version": "1.5.0",
      "model_name": "LabelModel",
      "state": {
       "layout": "IPY_MODEL_bade4826c7b246db8d191056fc1e603b",
       "style": "IPY_MODEL_f6bd6099aa7642c4a3c70ba3cef5ee38",
       "value": "   objective"
      }
     },
     "669ea692d6ee4864af33faa810860984": {
      "model_module": "@jupyter-widgets/controls",
      "model_module_version": "1.5.0",
      "model_name": "HTMLModel",
      "state": {
       "layout": "IPY_MODEL_d571bfda948f41f0987b3b72e0e7c27a",
       "style": "IPY_MODEL_fe28d8d5013145dd97bd790e3ecaef1f",
       "value": "<b>Task Name</b>"
      }
     },
     "66cd8d0bb62a4bb9b28305fc0df880fb": {
      "model_module": "@jupyter-widgets/base",
      "model_module_version": "1.2.0",
      "model_name": "LayoutModel",
      "state": {
       "height": "32px",
       "order": "-2",
       "width": "32px"
      }
     },
     "67284d5be1ef4ab1ab376a1e9db1ff94": {
      "model_module": "@jupyter-widgets/base",
      "model_module_version": "1.2.0",
      "model_name": "LayoutModel",
      "state": {
       "height": "32px",
       "overflow": "visible",
       "width": "100%"
      }
     },
     "6735d20731b44f91ac513e6e135260bf": {
      "model_module": "@jupyter-widgets/base",
      "model_module_version": "1.2.0",
      "model_name": "LayoutModel",
      "state": {}
     },
     "67878f9a49cc429bb125e6e05ad9018a": {
      "model_module": "@jupyter-widgets/controls",
      "model_module_version": "1.5.0",
      "model_name": "ButtonStyleModel",
      "state": {}
     },
     "67b006264f484ac6b35200e706905632": {
      "model_module": "@jupyter-widgets/base",
      "model_module_version": "1.2.0",
      "model_name": "LayoutModel",
      "state": {
       "height": "32px",
       "order": "-2",
       "width": "32px"
      }
     },
     "67c87cabbe0e49b78ded5775bccfd293": {
      "model_module": "@jupyter-widgets/controls",
      "model_module_version": "1.5.0",
      "model_name": "HBoxModel",
      "state": {
       "children": [
        "IPY_MODEL_0891e5099d294bd5a81171b50fb1ff81",
        "IPY_MODEL_825348bd7da64a1d827adf8a67625583",
        "IPY_MODEL_2c0e4a81281645c5b57f111cc957f8c8",
        "IPY_MODEL_b795334ac1f44fbcb65551de1814ebd6"
       ],
       "layout": "IPY_MODEL_2f97639ae89a41a0b2d2fc2b5d34539f"
      }
     },
     "67dd93aa30ed46c2a25462a0c15a6785": {
      "model_module": "@jupyter-widgets/controls",
      "model_module_version": "1.5.0",
      "model_name": "ButtonModel",
      "state": {
       "layout": "IPY_MODEL_d310fe6ce82747ce9c4c3f55533f27ba",
       "style": "IPY_MODEL_69730c4e2f294a8ab3c8cc369fcaa8ad"
      }
     },
     "68318099e9e840048bba343f6d918498": {
      "model_module": "@jupyter-widgets/base",
      "model_module_version": "1.2.0",
      "model_name": "LayoutModel",
      "state": {
       "order": "-1",
       "overflow": "visible",
       "padding": "1px",
       "width": "0px"
      }
     },
     "6849b49323c6488fb777cd2f615588a9": {
      "model_module": "@jupyter-widgets/controls",
      "model_module_version": "1.5.0",
      "model_name": "DescriptionStyleModel",
      "state": {
       "description_width": ""
      }
     },
     "686216e8d9ad4b60a78c8fdd0d395377": {
      "model_module": "@jupyter-widgets/controls",
      "model_module_version": "1.5.0",
      "model_name": "DescriptionStyleModel",
      "state": {
       "description_width": ""
      }
     },
     "6867e8b6dd0c47938cf6ed9998d4462d": {
      "model_module": "@jupyter-widgets/base",
      "model_module_version": "1.2.0",
      "model_name": "LayoutModel",
      "state": {
       "height": "32px",
       "overflow": "visible",
       "width": "100%"
      }
     },
     "68b7e2511ec14aeb8cc3917c91902dd7": {
      "model_module": "@jupyter-widgets/controls",
      "model_module_version": "1.5.0",
      "model_name": "DescriptionStyleModel",
      "state": {
       "description_width": ""
      }
     },
     "68fda1118bd94720a9f7539cc8872c57": {
      "model_module": "@jupyter-widgets/controls",
      "model_module_version": "1.5.0",
      "model_name": "DescriptionStyleModel",
      "state": {
       "description_width": ""
      }
     },
     "69105789151e453a98d185f5550aa4a0": {
      "model_module": "@jupyter-widgets/base",
      "model_module_version": "1.2.0",
      "model_name": "LayoutModel",
      "state": {
       "border": "3px solid white",
       "flex": "1 1 0%",
       "margin": "10px",
       "min_width": "400px",
       "overflow": "visible",
       "padding": "10px",
       "width": "auto"
      }
     },
     "6963021a718643ddb731b10727633b42": {
      "model_module": "@jupyter-widgets/base",
      "model_module_version": "1.2.0",
      "model_name": "LayoutModel",
      "state": {
       "height": "32px",
       "order": "-2",
       "width": "32px"
      }
     },
     "69730c4e2f294a8ab3c8cc369fcaa8ad": {
      "model_module": "@jupyter-widgets/controls",
      "model_module_version": "1.5.0",
      "model_name": "ButtonStyleModel",
      "state": {}
     },
     "699cc69dce95416b83eb925e2177efba": {
      "model_module": "@jupyter-widgets/controls",
      "model_module_version": "1.5.0",
      "model_name": "ProgressStyleModel",
      "state": {
       "description_width": ""
      }
     },
     "69f2ee70a0904c47b6d24f31f384c90d": {
      "model_module": "@jupyter-widgets/base",
      "model_module_version": "1.2.0",
      "model_name": "LayoutModel",
      "state": {}
     },
     "6a102ef269a14510aa301bb31de10f2b": {
      "model_module": "@jupyter-widgets/controls",
      "model_module_version": "1.5.0",
      "model_name": "ButtonStyleModel",
      "state": {}
     },
     "6a7f5fcb9b0d40d7815768ffa82ed77c": {
      "model_module": "@jupyter-widgets/controls",
      "model_module_version": "1.5.0",
      "model_name": "ButtonModel",
      "state": {
       "description": "EDIT",
       "layout": "IPY_MODEL_7712116d94514440aa5a2f5c06fdc0cf",
       "style": "IPY_MODEL_242911d575554835856ef326810aad4b"
      }
     },
     "6ad9389d59744d72a09b2e2bd87ce055": {
      "model_module": "@jupyter-widgets/base",
      "model_module_version": "1.2.0",
      "model_name": "LayoutModel",
      "state": {
       "height": "32px",
       "order": "-2",
       "width": "32px"
      }
     },
     "6aebd05ab48844478cb0283acc8775cc": {
      "model_module": "@jupyter-widgets/controls",
      "model_module_version": "1.5.0",
      "model_name": "HBoxModel",
      "state": {
       "children": [
        "IPY_MODEL_e709782e2ac443bcb6e1f20c423c1c06",
        "IPY_MODEL_1656f36d121b4279936694d4a28edcd1",
        "IPY_MODEL_6e50f49785bb4b08815b41d5df3b16f3",
        "IPY_MODEL_a0b3b98210584467a3763b85a87b105b"
       ],
       "layout": "IPY_MODEL_297be85d8dec491caefe6dad1ff129a7"
      }
     },
     "6bc83d2adf5144ec885133f4043d4525": {
      "model_module": "@jupyter-widgets/controls",
      "model_module_version": "1.5.0",
      "model_name": "ButtonStyleModel",
      "state": {}
     },
     "6bdeca805d83403eb3f9bcc58a601720": {
      "model_module": "@jupyter-widgets/controls",
      "model_module_version": "1.5.0",
      "model_name": "ButtonModel",
      "state": {
       "description": "EDIT",
       "layout": "IPY_MODEL_b7755e73b6e547cb85fa0cd9a4addffc",
       "style": "IPY_MODEL_8022e72f254a4bc3b607cca5badecb1d"
      }
     },
     "6c185920a23a45d796035e892aac970a": {
      "model_module": "@jupyter-widgets/base",
      "model_module_version": "1.2.0",
      "model_name": "LayoutModel",
      "state": {}
     },
     "6c4cb45a98384584b429c25b9d1c4911": {
      "model_module": "@jupyter-widgets/base",
      "model_module_version": "1.2.0",
      "model_name": "LayoutModel",
      "state": {
       "overflow": "visible",
       "width": "100%"
      }
     },
     "6c53a93373914bfb9d6708304f9cdd52": {
      "model_module": "@jupyter-widgets/controls",
      "model_module_version": "1.5.0",
      "model_name": "IntProgressModel",
      "state": {
       "layout": "IPY_MODEL_a2a720eb1be04b109611d7a4a04d8570",
       "style": "IPY_MODEL_97e62b2f052244f0b209796cf67d3a38",
       "value": 30
      }
     },
     "6cdc40bc38024bdaa731e56966e72098": {
      "model_module": "@jupyter-widgets/controls",
      "model_module_version": "1.5.0",
      "model_name": "HBoxModel",
      "state": {
       "children": [
        "IPY_MODEL_23fda08f428545e3b141e3e6c62393b6",
        "IPY_MODEL_2f7b55d3043e42f089c813246156083d",
        "IPY_MODEL_b3f7a037fe204f36b5aa8803654fdd47",
        "IPY_MODEL_847d9f5ced1b4b59818a4789c8d22642"
       ],
       "layout": "IPY_MODEL_1c257d23ccac40cdb32256ed4d5282c6"
      }
     },
     "6cecc343b596486ababc85f83a41daa7": {
      "model_module": "@jupyter-widgets/controls",
      "model_module_version": "1.5.0",
      "model_name": "DescriptionStyleModel",
      "state": {
       "description_width": ""
      }
     },
     "6cecd61b959b4c64b0599f979ec6f11e": {
      "model_module": "@jupyter-widgets/controls",
      "model_module_version": "1.5.0",
      "model_name": "DescriptionStyleModel",
      "state": {
       "description_width": ""
      }
     },
     "6d3d049edd6c4741946bf944437c25ee": {
      "model_module": "@jupyter-widgets/base",
      "model_module_version": "1.2.0",
      "model_name": "LayoutModel",
      "state": {
       "height": "32px",
       "overflow": "visible",
       "width": "100%"
      }
     },
     "6ddc0bfcc8674768b6d493634f966447": {
      "model_module": "@jupyter-widgets/controls",
      "model_module_version": "1.5.0",
      "model_name": "HBoxModel",
      "state": {
       "children": [
        "IPY_MODEL_dd04e97909c140348090071d7ac0a10e",
        "IPY_MODEL_2058d77cd4bf46fa83c03ddbc50087e6",
        "IPY_MODEL_26ad284cd3bb4e7898cd3ea6eb6cb7a9",
        "IPY_MODEL_8ef8ebaffb9a4952ad066df0cb864291"
       ],
       "layout": "IPY_MODEL_4ac591cad2604730897d9d42069ceefa"
      }
     },
     "6de72b36b5824a35ae21847429b7bc69": {
      "model_module": "@jupyter-widgets/base",
      "model_module_version": "1.2.0",
      "model_name": "LayoutModel",
      "state": {
       "display": "none",
       "width": "60px"
      }
     },
     "6df54836dcf44189b1a2bd6338bcdabe": {
      "model_module": "@jupyter-widgets/base",
      "model_module_version": "1.2.0",
      "model_name": "LayoutModel",
      "state": {
       "height": "32px",
       "order": "-2",
       "width": "32px"
      }
     },
     "6e2224b364864813ac14255256fe3266": {
      "model_module": "@jupyter-widgets/controls",
      "model_module_version": "1.5.0",
      "model_name": "HBoxModel",
      "state": {
       "children": [
        "IPY_MODEL_5f84f6ce53c9407ebab5ead06bcdc73b",
        "IPY_MODEL_071e8d3d99e54f16bc4e7a3190c13af8",
        "IPY_MODEL_be30164da0494b86990e5263c224d780",
        "IPY_MODEL_76da86d4d4b4499c841f1f61d2d59c23"
       ],
       "layout": "IPY_MODEL_84cf4d8ae24f463eb0d0e08be47749fc"
      }
     },
     "6e26865eb46043b9aae8b69dfe83c345": {
      "model_module": "@jupyter-widgets/controls",
      "model_module_version": "1.5.0",
      "model_name": "IntProgressModel",
      "state": {
       "layout": "IPY_MODEL_08060ed6dbd24fd987bde99bcf8f079e",
       "style": "IPY_MODEL_699cc69dce95416b83eb925e2177efba",
       "value": 30
      }
     },
     "6e27423e5af74d3a835d6d107b9fb9f2": {
      "model_module": "@jupyter-widgets/controls",
      "model_module_version": "1.5.0",
      "model_name": "ProgressStyleModel",
      "state": {
       "description_width": ""
      }
     },
     "6e400103c6cf4860b8a657ca3924a00f": {
      "model_module": "@jupyter-widgets/controls",
      "model_module_version": "1.5.0",
      "model_name": "LabelModel",
      "state": {
       "layout": "IPY_MODEL_23f0753b2ebc484893c69a26f0160f11",
       "style": "IPY_MODEL_8f68b849efb4453897d4389eb1de8beb",
       "value": "   objective"
      }
     },
     "6e4e296a7190452aa41a4b0081605177": {
      "model_module": "@jupyter-widgets/controls",
      "model_module_version": "1.5.0",
      "model_name": "ProgressStyleModel",
      "state": {
       "description_width": ""
      }
     },
     "6e50f49785bb4b08815b41d5df3b16f3": {
      "model_module": "@jupyter-widgets/controls",
      "model_module_version": "1.5.0",
      "model_name": "LabelModel",
      "state": {
       "layout": "IPY_MODEL_fcc43e8ca0e2418ba13c8647a7475f15",
       "style": "IPY_MODEL_c539fe2a0c7a435eabaa857d436f4a3f",
       "value": "   objective"
      }
     },
     "6e5a376c4d614667bd7404456f33b0e8": {
      "model_module": "@jupyter-widgets/base",
      "model_module_version": "1.2.0",
      "model_name": "LayoutModel",
      "state": {
       "height": "32px",
       "order": "-2",
       "width": "32px"
      }
     },
     "6e64e7f8c5d345b08ab8f69e929530c3": {
      "model_module": "@jupyter-widgets/controls",
      "model_module_version": "1.5.0",
      "model_name": "IntProgressModel",
      "state": {
       "layout": "IPY_MODEL_3717fdfd7dc34e5c8a92c2182b624be2",
       "style": "IPY_MODEL_4a4f5551cff6479d9056aba2d6c33aa8",
       "value": 30
      }
     },
     "6e70d43c3c6c4672bf0d4a55f505c673": {
      "model_module": "@jupyter-widgets/base",
      "model_module_version": "1.2.0",
      "model_name": "LayoutModel",
      "state": {
       "height": "32px",
       "overflow": "visible",
       "width": "100%"
      }
     },
     "6eb431308c894c60a4ef70201929ac33": {
      "model_module": "@jupyter-widgets/base",
      "model_module_version": "1.2.0",
      "model_name": "LayoutModel",
      "state": {
       "order": "-1",
       "overflow": "visible",
       "padding": "1px",
       "width": "0px"
      }
     },
     "6ed21054e8bd491d9b714bce7c83638c": {
      "model_module": "@jupyter-widgets/controls",
      "model_module_version": "1.5.0",
      "model_name": "ButtonStyleModel",
      "state": {}
     },
     "6ef57686c4054ba59b529e4a0ef90341": {
      "model_module": "@jupyter-widgets/controls",
      "model_module_version": "1.5.0",
      "model_name": "ProgressStyleModel",
      "state": {
       "description_width": ""
      }
     },
     "6efb68dda0d94e04a0f6a18646614b51": {
      "model_module": "@jupyter-widgets/controls",
      "model_module_version": "1.5.0",
      "model_name": "HBoxModel",
      "state": {
       "children": [
        "IPY_MODEL_8c6ed2d6bb4d48538730e1a3f3104de0",
        "IPY_MODEL_3431c20c77d44f768bac8090b26fcfe9",
        "IPY_MODEL_fb9eb44153b6426fbc5f0079a203d6ba",
        "IPY_MODEL_43888449db6a485986393d6bd797f939"
       ],
       "layout": "IPY_MODEL_8e1b4d6f3e0a417db5fb572ac34ba3b4"
      }
     },
     "6f4ab60ee24f4d1b874f9cdb88002331": {
      "model_module": "@jupyter-widgets/controls",
      "model_module_version": "1.5.0",
      "model_name": "ButtonModel",
      "state": {
       "layout": "IPY_MODEL_c09c5e3a658f4932816bfc0cfdeb739e",
       "style": "IPY_MODEL_8bc2988e8bc740d0b9b410456868501a"
      }
     },
     "6f71eff65037413c808014b2d297a085": {
      "model_module": "@jupyter-widgets/base",
      "model_module_version": "1.2.0",
      "model_name": "LayoutModel",
      "state": {
       "display": "none",
       "width": "60px"
      }
     },
     "6fd2f5d6032e4d5c88f7546c1d60a7b0": {
      "model_module": "@jupyter-widgets/base",
      "model_module_version": "1.2.0",
      "model_name": "LayoutModel",
      "state": {
       "height": "32px",
       "overflow": "visible",
       "width": "100%"
      }
     },
     "6fdc3a2a15f14dd3bd6a45688c4f9de3": {
      "model_module": "@jupyter-widgets/controls",
      "model_module_version": "1.5.0",
      "model_name": "ButtonModel",
      "state": {
       "description": "EDIT",
       "layout": "IPY_MODEL_d873a20486cd4defa74b1608f3cbdd28",
       "style": "IPY_MODEL_a0e24403297a48988eb4f2e4ed3a8477"
      }
     },
     "70094e9c6c114a0095c84fb3504b7d59": {
      "model_module": "@jupyter-widgets/controls",
      "model_module_version": "1.5.0",
      "model_name": "DescriptionStyleModel",
      "state": {
       "description_width": ""
      }
     },
     "70123f15227a454a90342fb560698eeb": {
      "model_module": "@jupyter-widgets/controls",
      "model_module_version": "1.5.0",
      "model_name": "DescriptionStyleModel",
      "state": {
       "description_width": ""
      }
     },
     "7020e57b036c4216b4696b4e0cd37a27": {
      "model_module": "@jupyter-widgets/base",
      "model_module_version": "1.2.0",
      "model_name": "LayoutModel",
      "state": {
       "display": "none",
       "width": "60px"
      }
     },
     "7020f11739094d9d967349a2f37cfefc": {
      "model_module": "@jupyter-widgets/controls",
      "model_module_version": "1.5.0",
      "model_name": "HBoxModel",
      "state": {
       "children": [
        "IPY_MODEL_43cdafbfd85449fc91e41d7fe78b4584",
        "IPY_MODEL_6e64e7f8c5d345b08ab8f69e929530c3",
        "IPY_MODEL_8980c359a64e46edab43242498c7a162",
        "IPY_MODEL_dd407f851a1d46c8b1611f52c3c8d330"
       ],
       "layout": "IPY_MODEL_21df16b3397945679269b7955341346a"
      }
     },
     "70355426c529438fa95801d948b45770": {
      "model_module": "@jupyter-widgets/controls",
      "model_module_version": "1.5.0",
      "model_name": "ButtonModel",
      "state": {
       "description": "EDIT",
       "layout": "IPY_MODEL_a9a7599aed4c4881bd2b09da305ec599",
       "style": "IPY_MODEL_0d2af5028ace4204be62f049ed3e9440"
      }
     },
     "70384a67ab3f444a8d8711dacaceabff": {
      "model_module": "@jupyter-widgets/controls",
      "model_module_version": "1.5.0",
      "model_name": "HBoxModel",
      "state": {
       "children": [
        "IPY_MODEL_3287dd15f4c4438ba56404f4ad162d46",
        "IPY_MODEL_37b4d034158d4dd9b71b8fbe3fabfade",
        "IPY_MODEL_f84dccbfc5b74a21ad8c8ba8843644be",
        "IPY_MODEL_fa4132f91b52439cad58c56a1d877fd6"
       ],
       "layout": "IPY_MODEL_5e2255218aa54613aa671bc01df13927"
      }
     },
     "704fd69c862d4c708beb0b1e6b5dc092": {
      "model_module": "@jupyter-widgets/base",
      "model_module_version": "1.2.0",
      "model_name": "LayoutModel",
      "state": {
       "order": "-1",
       "overflow": "visible",
       "padding": "1px",
       "width": "0px"
      }
     },
     "707fccd105c5452d99677435c9f85c13": {
      "model_module": "@jupyter-widgets/base",
      "model_module_version": "1.2.0",
      "model_name": "LayoutModel",
      "state": {
       "display": "none",
       "width": "60px"
      }
     },
     "7095bbaef4f141b08d0c025b4c2cf2cf": {
      "model_module": "@jupyter-widgets/controls",
      "model_module_version": "1.5.0",
      "model_name": "IntProgressModel",
      "state": {
       "layout": "IPY_MODEL_52896169cf4940718002d53d9db85156",
       "style": "IPY_MODEL_50dd47f19fe34f79922db860b0e5c7c6",
       "value": 30
      }
     },
     "709d52467d6c46b4aef7f29b41d52c6d": {
      "model_module": "@jupyter-widgets/base",
      "model_module_version": "1.2.0",
      "model_name": "LayoutModel",
      "state": {
       "height": "32px",
       "order": "-2",
       "width": "32px"
      }
     },
     "70a1c634294e4c0b94b4de965cad0d9e": {
      "model_module": "@jupyter-widgets/base",
      "model_module_version": "1.2.0",
      "model_name": "LayoutModel",
      "state": {}
     },
     "70b5730ae4f34709bce5ee0651f22ebe": {
      "model_module": "@jupyter-widgets/controls",
      "model_module_version": "1.5.0",
      "model_name": "ButtonStyleModel",
      "state": {}
     },
     "70b7790cae6a4e46ab244141bc138139": {
      "model_module": "@jupyter-widgets/controls",
      "model_module_version": "1.5.0",
      "model_name": "ButtonModel",
      "state": {
       "description": "EDIT",
       "layout": "IPY_MODEL_af3e8359ca654478b3c76a894caf5b51",
       "style": "IPY_MODEL_3e3a0fd33c1f49b689ea5ed4060e47a0"
      }
     },
     "70d45a04c59147b2ae7d67e6b417195f": {
      "model_module": "@jupyter-widgets/base",
      "model_module_version": "1.2.0",
      "model_name": "LayoutModel",
      "state": {
       "display": "none",
       "width": "60px"
      }
     },
     "70dbd1627cd448819be861cd8e6a513f": {
      "model_module": "@jupyter-widgets/base",
      "model_module_version": "1.2.0",
      "model_name": "LayoutModel",
      "state": {
       "order": "-1",
       "overflow": "visible",
       "padding": "1px",
       "width": "0px"
      }
     },
     "711cfbd839b24977a3bac05d5cfeed6a": {
      "model_module": "@jupyter-widgets/controls",
      "model_module_version": "1.5.0",
      "model_name": "IntProgressModel",
      "state": {
       "layout": "IPY_MODEL_adf98ed6de194ec6a329c45def1a7cee",
       "style": "IPY_MODEL_421f14404c214937a5300aceb3df8539",
       "value": 30
      }
     },
     "715a0eeefd5c4565aaef54cd7f98d762": {
      "model_module": "@jupyter-widgets/controls",
      "model_module_version": "1.5.0",
      "model_name": "HTMLModel",
      "state": {
       "layout": "IPY_MODEL_bde3e5766b0a40d7821e21011b435387",
       "style": "IPY_MODEL_9b6cfb7888324e319eddd1be796ce2f4",
       "value": "<i>test test test test test test test test test test test test test test test test test test test test test test test test </i>"
      }
     },
     "7182d744ec934bd1bdef12b5780771dd": {
      "model_module": "@jupyter-widgets/controls",
      "model_module_version": "1.5.0",
      "model_name": "HTMLModel",
      "state": {
       "layout": "IPY_MODEL_4510a9542a6245699e15ed2087cafc9d",
       "style": "IPY_MODEL_ebe3805aa54145c39da2232c1b6a03bd",
       "value": "<font size=\"1\">Path/Path/Path/Path/</font size>"
      }
     },
     "71971a03df1446989909fd8e312b7e5c": {
      "model_module": "@jupyter-widgets/controls",
      "model_module_version": "1.5.0",
      "model_name": "ProgressStyleModel",
      "state": {
       "description_width": ""
      }
     },
     "71b1b8fe7b964a289bff0bc9d241fba8": {
      "model_module": "@jupyter-widgets/controls",
      "model_module_version": "1.5.0",
      "model_name": "ButtonModel",
      "state": {
       "layout": "IPY_MODEL_709d52467d6c46b4aef7f29b41d52c6d",
       "style": "IPY_MODEL_fd754b03085c4822979eecd1a67fc75a"
      }
     },
     "71be03fe500941cfb15af81e7a545a62": {
      "model_module": "@jupyter-widgets/controls",
      "model_module_version": "1.5.0",
      "model_name": "DescriptionStyleModel",
      "state": {
       "description_width": ""
      }
     },
     "71daa215bc5f4216a0c10f674d487652": {
      "model_module": "@jupyter-widgets/controls",
      "model_module_version": "1.5.0",
      "model_name": "ProgressStyleModel",
      "state": {
       "description_width": ""
      }
     },
     "71e81a7f24894cac9745faeaa592cb35": {
      "model_module": "@jupyter-widgets/controls",
      "model_module_version": "1.5.0",
      "model_name": "HBoxModel",
      "state": {
       "children": [
        "IPY_MODEL_d82c0925a67847f5a555113cb30afbb0",
        "IPY_MODEL_917ee4ba18144d98b4600769a5d96819",
        "IPY_MODEL_5a5c02f8c76e48d1b06eff88287f338a",
        "IPY_MODEL_0b3141c5a5b84b29bbc2759be85bf06f"
       ],
       "layout": "IPY_MODEL_06ccd36913b34065854db03975302a2e"
      }
     },
     "72939e6118a24eda975473f291d7eaf7": {
      "model_module": "@jupyter-widgets/controls",
      "model_module_version": "1.5.0",
      "model_name": "IntProgressModel",
      "state": {
       "layout": "IPY_MODEL_885d05ef63ea40cf837c1ab85e5c5eb6",
       "style": "IPY_MODEL_71daa215bc5f4216a0c10f674d487652",
       "value": 30
      }
     },
     "72a96585716c481987199de183f6419c": {
      "model_module": "@jupyter-widgets/controls",
      "model_module_version": "1.5.0",
      "model_name": "ButtonStyleModel",
      "state": {}
     },
     "72bddd1c6ba444f0930606847f11703c": {
      "model_module": "@jupyter-widgets/base",
      "model_module_version": "1.2.0",
      "model_name": "LayoutModel",
      "state": {
       "height": "32px",
       "overflow": "visible",
       "width": "100%"
      }
     },
     "72d387b06eb34766ae3ff4bbe6c1f321": {
      "model_module": "@jupyter-widgets/controls",
      "model_module_version": "1.5.0",
      "model_name": "DescriptionStyleModel",
      "state": {
       "description_width": ""
      }
     },
     "72e15cafa5e84b6c9bf12e941c65b8e4": {
      "model_module": "@jupyter-widgets/controls",
      "model_module_version": "1.5.0",
      "model_name": "HBoxModel",
      "state": {
       "children": [
        "IPY_MODEL_2fc5753b94f641bb8fc9f49a8e9d3179",
        "IPY_MODEL_65f757c0003342abafd552b3021a8b80",
        "IPY_MODEL_0b86f31727aa4474afc2e592c33442f1",
        "IPY_MODEL_2df2d58515c4463e918f3af34556ba2e"
       ],
       "layout": "IPY_MODEL_334dc1e2a23243f2b135e5b539d28ab3"
      }
     },
     "730ab2a7cd9c4485936af1a148f8dfe1": {
      "model_module": "@jupyter-widgets/controls",
      "model_module_version": "1.5.0",
      "model_name": "ButtonModel",
      "state": {
       "description": "EDIT",
       "layout": "IPY_MODEL_a61cce220232416bbf87b800fe280059",
       "style": "IPY_MODEL_f26556460bf74e4b997dec439f06aca2"
      }
     },
     "7381caa05ad543f6a3ae767dab8b35ab": {
      "model_module": "@jupyter-widgets/controls",
      "model_module_version": "1.5.0",
      "model_name": "ButtonStyleModel",
      "state": {}
     },
     "73f60538ec25441aa5398212d15ebd7d": {
      "model_module": "@jupyter-widgets/base",
      "model_module_version": "1.2.0",
      "model_name": "LayoutModel",
      "state": {}
     },
     "740bb652809940a1bdb70d937aa08e13": {
      "model_module": "@jupyter-widgets/base",
      "model_module_version": "1.2.0",
      "model_name": "LayoutModel",
      "state": {
       "height": "32px",
       "order": "-2",
       "width": "32px"
      }
     },
     "7410dc46445d4fd98a35ce4e54661485": {
      "model_module": "@jupyter-widgets/controls",
      "model_module_version": "1.5.0",
      "model_name": "IntProgressModel",
      "state": {
       "layout": "IPY_MODEL_885910bc2e2e40d3ad9a12a87d2bd6fe",
       "style": "IPY_MODEL_de2af5a9e48f4f448b06dbf080eca081",
       "value": 30
      }
     },
     "74498b7c79c842628efd450d7253636b": {
      "model_module": "@jupyter-widgets/base",
      "model_module_version": "1.2.0",
      "model_name": "LayoutModel",
      "state": {}
     },
     "7458d53c061147bf9cf61ce8d78747df": {
      "model_module": "@jupyter-widgets/base",
      "model_module_version": "1.2.0",
      "model_name": "LayoutModel",
      "state": {
       "height": "32px",
       "overflow": "visible",
       "width": "100%"
      }
     },
     "747db5528b574f21b9b3a471a9158e40": {
      "model_module": "@jupyter-widgets/base",
      "model_module_version": "1.2.0",
      "model_name": "LayoutModel",
      "state": {
       "display": "none",
       "width": "60px"
      }
     },
     "74a1889547e44eca96dbb87ba820371d": {
      "model_module": "@jupyter-widgets/base",
      "model_module_version": "1.2.0",
      "model_name": "LayoutModel",
      "state": {
       "display": "none",
       "width": "60px"
      }
     },
     "74a8f30cc32c4ff2a31a5f00477fc470": {
      "model_module": "@jupyter-widgets/controls",
      "model_module_version": "1.5.0",
      "model_name": "ButtonStyleModel",
      "state": {}
     },
     "75531e172b964dfb98e177c0d81eee2e": {
      "model_module": "@jupyter-widgets/base",
      "model_module_version": "1.2.0",
      "model_name": "LayoutModel",
      "state": {
       "height": "32px",
       "overflow": "visible",
       "width": "100%"
      }
     },
     "755f671aeb044c4c9224f49e676b3c54": {
      "model_module": "@jupyter-widgets/controls",
      "model_module_version": "1.5.0",
      "model_name": "VBoxModel",
      "state": {
       "children": [
        "IPY_MODEL_e780c428307d423c87b02a6758a565bd",
        "IPY_MODEL_5519f3f8644d4b63b4fc2131e9df3a86",
        "IPY_MODEL_9c7cba7869994fbdbfdd4864822a68ec",
        "IPY_MODEL_30aa7d27fa6b42f4be315787a6631096"
       ],
       "layout": "IPY_MODEL_d6aa9c0c511245fb96f34e4b2a8a0c92"
      }
     },
     "7563e495adc44a3f928df7e78cb77d58": {
      "model_module": "@jupyter-widgets/base",
      "model_module_version": "1.2.0",
      "model_name": "LayoutModel",
      "state": {
       "height": "32px",
       "order": "-2",
       "width": "32px"
      }
     },
     "75702de07d424b27ba2ca77eb299b4fc": {
      "model_module": "@jupyter-widgets/base",
      "model_module_version": "1.2.0",
      "model_name": "LayoutModel",
      "state": {
       "order": "-1",
       "overflow": "visible",
       "padding": "1px",
       "width": "0px"
      }
     },
     "7578da15a7e84009a7d63a7aa61ddbf5": {
      "model_module": "@jupyter-widgets/controls",
      "model_module_version": "1.5.0",
      "model_name": "HBoxModel",
      "state": {
       "children": [
        "IPY_MODEL_6f4ab60ee24f4d1b874f9cdb88002331",
        "IPY_MODEL_f26f2017dd6149f1a7c2b4e07a9fef56",
        "IPY_MODEL_d64c0a4c3f364893a8c8f41799c54ece",
        "IPY_MODEL_18b3a93217ba46858871658303f0067e"
       ],
       "layout": "IPY_MODEL_2eedaf2d35b445508639bfde4f28dfd1"
      }
     },
     "758045fecd0c418e9da1efa1592f120d": {
      "model_module": "@jupyter-widgets/controls",
      "model_module_version": "1.5.0",
      "model_name": "DescriptionStyleModel",
      "state": {
       "description_width": ""
      }
     },
     "75c8e6ba11114307a28538a697ce9aed": {
      "model_module": "@jupyter-widgets/controls",
      "model_module_version": "1.5.0",
      "model_name": "ButtonModel",
      "state": {
       "layout": "IPY_MODEL_2ee5613f094542cfad353fef98d7b570",
       "style": "IPY_MODEL_ca6d1174e204420581655cebf7ffbf0d"
      }
     },
     "75cf02a78fa147188e4747723e3b6abd": {
      "model_module": "@jupyter-widgets/controls",
      "model_module_version": "1.5.0",
      "model_name": "HBoxModel",
      "state": {
       "children": [
        "IPY_MODEL_ea049a25a70a4e0599ef13b45e19628d",
        "IPY_MODEL_6c53a93373914bfb9d6708304f9cdd52",
        "IPY_MODEL_aa303d80f1b34680815a9b032541afb3",
        "IPY_MODEL_27db3ea295c4493e89e2c5e30f15cf7e"
       ],
       "layout": "IPY_MODEL_57eba1d1e6284690880407a360e4304f"
      }
     },
     "75db554a8b5a46e992a6914d4712e375": {
      "model_module": "@jupyter-widgets/base",
      "model_module_version": "1.2.0",
      "model_name": "LayoutModel",
      "state": {}
     },
     "7618b0017b7d4f51833c35987f729a9a": {
      "model_module": "@jupyter-widgets/base",
      "model_module_version": "1.2.0",
      "model_name": "LayoutModel",
      "state": {
       "height": "32px",
       "order": "-2",
       "width": "32px"
      }
     },
     "76195c9f05484b5395cd06d625b34f6a": {
      "model_module": "@jupyter-widgets/base",
      "model_module_version": "1.2.0",
      "model_name": "LayoutModel",
      "state": {
       "order": "-1",
       "overflow": "visible",
       "padding": "1px",
       "width": "0px"
      }
     },
     "766aaa09f4cc436394a173d61acd30c0": {
      "model_module": "@jupyter-widgets/base",
      "model_module_version": "1.2.0",
      "model_name": "LayoutModel",
      "state": {
       "display": "none",
       "width": "60px"
      }
     },
     "76da1cee6a9445aaafd1682f129bc030": {
      "model_module": "@jupyter-widgets/controls",
      "model_module_version": "1.5.0",
      "model_name": "BoxModel",
      "state": {
       "children": [
        "IPY_MODEL_b62aa14a8e344bc7b8f0ce6ba16873ae",
        "IPY_MODEL_d67cee3295e04b63a6eb9d761bac0e87",
        "IPY_MODEL_538edfab21f545208300fc7d19c21248",
        "IPY_MODEL_b39802eee1634d189099231dd0e49509",
        "IPY_MODEL_16531833511b416cb7296ce2a32ed4af",
        "IPY_MODEL_2d1b10f1660a4be3b9b15442a0800d2a",
        "IPY_MODEL_9868639979954593bf697d08ad893ac9",
        "IPY_MODEL_b34dce9cc8c7414fbfefbd5c8d05cdbd",
        "IPY_MODEL_2539042e8af541e48a65579b9b854476",
        "IPY_MODEL_755f671aeb044c4c9224f49e676b3c54",
        "IPY_MODEL_c26ea7302b174be9929a37dc55bbcc1c",
        "IPY_MODEL_5f6790b87f034da5a67357d1924a252e",
        "IPY_MODEL_3369b3aba46a437da16fb1e45ede6bea",
        "IPY_MODEL_ea7d29eebe774f87bbf8101fa2463cf9",
        "IPY_MODEL_7f435d202e014b5fb6275dbeee329472"
       ],
       "layout": "IPY_MODEL_609b07befb774729a50ecaed161c1563"
      }
     },
     "76da86d4d4b4499c841f1f61d2d59c23": {
      "model_module": "@jupyter-widgets/controls",
      "model_module_version": "1.5.0",
      "model_name": "ButtonModel",
      "state": {
       "description": "EDIT",
       "layout": "IPY_MODEL_df6858c26d184345ad66752321f991a0",
       "style": "IPY_MODEL_bf9bbe45d03748ba9f7723ca53e24f50"
      }
     },
     "76f0f120f90646f9b7ee1d307d0cae2b": {
      "model_module": "@jupyter-widgets/base",
      "model_module_version": "1.2.0",
      "model_name": "LayoutModel",
      "state": {
       "overflow": "visible",
       "width": "100%"
      }
     },
     "7712116d94514440aa5a2f5c06fdc0cf": {
      "model_module": "@jupyter-widgets/base",
      "model_module_version": "1.2.0",
      "model_name": "LayoutModel",
      "state": {
       "display": "none",
       "width": "60px"
      }
     },
     "771af9c09d3542b5a4745e84de0a96bd": {
      "model_module": "@jupyter-widgets/controls",
      "model_module_version": "1.5.0",
      "model_name": "DescriptionStyleModel",
      "state": {
       "description_width": ""
      }
     },
     "77262027ec134c4e991d039e4c2522ed": {
      "model_module": "@jupyter-widgets/controls",
      "model_module_version": "1.5.0",
      "model_name": "ButtonStyleModel",
      "state": {}
     },
     "7734e7e08bab466ba3be3e09b86134a4": {
      "model_module": "@jupyter-widgets/controls",
      "model_module_version": "1.5.0",
      "model_name": "ButtonModel",
      "state": {
       "layout": "IPY_MODEL_b9e564a221d44fb68d9484af359e6a0c",
       "style": "IPY_MODEL_0d011922db124715a75a1e8d385489f9"
      }
     },
     "774a2a6191974bd282a3188b7d72bf13": {
      "model_module": "@jupyter-widgets/controls",
      "model_module_version": "1.5.0",
      "model_name": "HBoxModel",
      "state": {
       "children": [
        "IPY_MODEL_502286c7e00042b08ef53442cd7a5e42",
        "IPY_MODEL_a575734e34334742bb0b6183b44548d1"
       ],
       "layout": "IPY_MODEL_f5efe74257224bb995649d13b0c0ba47"
      }
     },
     "776d5e08b0934ac39b72173704a4f049": {
      "model_module": "@jupyter-widgets/base",
      "model_module_version": "1.2.0",
      "model_name": "LayoutModel",
      "state": {
       "height": "800px"
      }
     },
     "780eecc54b4048d5bcb3efbbf54d4c93": {
      "model_module": "@jupyter-widgets/controls",
      "model_module_version": "1.5.0",
      "model_name": "ButtonModel",
      "state": {
       "layout": "IPY_MODEL_11ca43e84230422eb46e8289c9df5695",
       "style": "IPY_MODEL_8af5d4232b0c4fd58e3cb09bc9217f79"
      }
     },
     "7847d089ff9c42f1891691e0ef5ad080": {
      "model_module": "@jupyter-widgets/controls",
      "model_module_version": "1.5.0",
      "model_name": "ButtonModel",
      "state": {
       "description": "EDIT",
       "layout": "IPY_MODEL_614af03956d947689cc3927c1b8aa126",
       "style": "IPY_MODEL_1becae56dea04e16b97b701a92ad65f2"
      }
     },
     "784c10a256ef4f879386b5cde1c864fa": {
      "model_module": "@jupyter-widgets/controls",
      "model_module_version": "1.5.0",
      "model_name": "DescriptionStyleModel",
      "state": {
       "description_width": ""
      }
     },
     "7861880b680c429d858de8ef93c95e94": {
      "model_module": "@jupyter-widgets/base",
      "model_module_version": "1.2.0",
      "model_name": "LayoutModel",
      "state": {
       "overflow": "visible",
       "width": "100%"
      }
     },
     "786eb9b2bd5c444c9a7993e19530d253": {
      "model_module": "@jupyter-widgets/controls",
      "model_module_version": "1.5.0",
      "model_name": "VBoxModel",
      "state": {
       "children": [
        "IPY_MODEL_15b87e48af734b39a524a3f82300dddd",
        "IPY_MODEL_7d7bf557197d4adca9a75ebd85ad4ce3",
        "IPY_MODEL_137382a9e5ea48e38072fd426d3dbd0c",
        "IPY_MODEL_9fbff0424aa246318014158afcf799f6",
        "IPY_MODEL_5670661378b9497c9c8221248a2156a0",
        "IPY_MODEL_b4984034c4544616ace004f8c245c172"
       ],
       "layout": "IPY_MODEL_a40bcd6f817244f1b8e18d8f7800eab3"
      }
     },
     "7898f66151be42a5b87492a3181ac816": {
      "model_module": "@jupyter-widgets/controls",
      "model_module_version": "1.5.0",
      "model_name": "ButtonStyleModel",
      "state": {}
     },
     "7a5683bb8e1e45dfad3b417a13aa2e44": {
      "model_module": "@jupyter-widgets/controls",
      "model_module_version": "1.5.0",
      "model_name": "IntProgressModel",
      "state": {
       "layout": "IPY_MODEL_67284d5be1ef4ab1ab376a1e9db1ff94",
       "style": "IPY_MODEL_237d6bfe1fdc47e6a3be8cb57a310ed6",
       "value": 30
      }
     },
     "7a5f8eb0492341508b258ee98e462a42": {
      "model_module": "@jupyter-widgets/controls",
      "model_module_version": "1.5.0",
      "model_name": "ButtonStyleModel",
      "state": {}
     },
     "7a85f5c2a0d54671bf5f5b54a6da0bdb": {
      "model_module": "@jupyter-widgets/base",
      "model_module_version": "1.2.0",
      "model_name": "LayoutModel",
      "state": {
       "border": "1px solid white",
       "min_width": "250px",
       "padding": "10px",
       "width": "15%"
      }
     },
     "7abf0ea5a22a483e878818a0fee91605": {
      "model_module": "@jupyter-widgets/base",
      "model_module_version": "1.2.0",
      "model_name": "LayoutModel",
      "state": {
       "justify_items": "flex-end",
       "padding": "5px",
       "width": "200px"
      }
     },
     "7b059b0da3804a14b58a7ead4c97aef4": {
      "model_module": "@jupyter-widgets/base",
      "model_module_version": "1.2.0",
      "model_name": "LayoutModel",
      "state": {
       "height": "32px",
       "order": "-2",
       "width": "32px"
      }
     },
     "7b61893bb9b64145bfb3a93bbcc8f016": {
      "model_module": "@jupyter-widgets/controls",
      "model_module_version": "1.5.0",
      "model_name": "DropdownModel",
      "state": {
       "_options_labels": [
        "Any",
        "Hand Cannon",
        "Auto Rifle",
        "Scout Rifle",
        "Pulse Rifle",
        "Sidearm",
        "Submachine Gun",
        "Combt Bow",
        "Sniper Rifle",
        "Shotgun",
        "Fusion Rifle",
        "Grenade Launcher"
       ],
       "index": 0,
       "layout": "IPY_MODEL_193caaf46c854445b8ea8cdbe67f8757",
       "style": "IPY_MODEL_0bbeb8c06ea845a997f6da241eeed33f"
      }
     },
     "7b640594798a4a6cab33bebc939f0d15": {
      "model_module": "@jupyter-widgets/base",
      "model_module_version": "1.2.0",
      "model_name": "LayoutModel",
      "state": {}
     },
     "7b7a449144584639a36e517f0a6ff96d": {
      "model_module": "@jupyter-widgets/controls",
      "model_module_version": "1.5.0",
      "model_name": "ButtonStyleModel",
      "state": {}
     },
     "7b90e78499854e36aa72fb1198aae19c": {
      "model_module": "@jupyter-widgets/controls",
      "model_module_version": "1.5.0",
      "model_name": "DescriptionStyleModel",
      "state": {
       "description_width": ""
      }
     },
     "7ba310b5c6c44343adfdff12186590ce": {
      "model_module": "@jupyter-widgets/controls",
      "model_module_version": "1.5.0",
      "model_name": "VBoxModel",
      "state": {
       "children": [
        "IPY_MODEL_d71f221ba87d4bedb05e982aae40d465",
        "IPY_MODEL_065bdf595b9c4f87b71df2b0bfd7bc13",
        "IPY_MODEL_572390c4ea3f4d48bbaed56fe0722822",
        "IPY_MODEL_88105fba628842c0b5031b20f290e45c",
        "IPY_MODEL_c898c1b5e6d546c6b7a7cd8e4594718e",
        "IPY_MODEL_0fc95c1f5d2a487d95068ef53c17523f"
       ],
       "layout": "IPY_MODEL_15db9852fa7342f1967297858b85c1ee"
      }
     },
     "7bab8057e6d041b1915eef6d3faeb3f6": {
      "model_module": "@jupyter-widgets/base",
      "model_module_version": "1.2.0",
      "model_name": "LayoutModel",
      "state": {}
     },
     "7bef4dbfa7f34b539baac8c3516dadf8": {
      "model_module": "@jupyter-widgets/controls",
      "model_module_version": "1.5.0",
      "model_name": "ButtonStyleModel",
      "state": {}
     },
     "7c05d9cb5d874662a15eca106e8a8a52": {
      "model_module": "@jupyter-widgets/base",
      "model_module_version": "1.2.0",
      "model_name": "LayoutModel",
      "state": {
       "order": "-1",
       "overflow": "visible",
       "padding": "1px",
       "width": "0px"
      }
     },
     "7c0c81ac123341a79a6ce4940d90ffd7": {
      "model_module": "@jupyter-widgets/base",
      "model_module_version": "1.2.0",
      "model_name": "LayoutModel",
      "state": {
       "height": "32px",
       "order": "-2",
       "width": "32px"
      }
     },
     "7c207a8553ba426c9c2241d0d73eebdf": {
      "model_module": "@jupyter-widgets/base",
      "model_module_version": "1.2.0",
      "model_name": "LayoutModel",
      "state": {
       "height": "32px",
       "overflow": "visible",
       "width": "100%"
      }
     },
     "7c6874812b014530b3a0a370197b0a1d": {
      "model_module": "@jupyter-widgets/controls",
      "model_module_version": "1.5.0",
      "model_name": "ButtonModel",
      "state": {
       "layout": "IPY_MODEL_32aa27eb558d4839a11d26dedaafc1f1",
       "style": "IPY_MODEL_172a1a0585c64edeb25b9ad0e4902612"
      }
     },
     "7c8b54a09e2c4264a525037f2ec19dc2": {
      "model_module": "@jupyter-widgets/controls",
      "model_module_version": "1.5.0",
      "model_name": "ButtonStyleModel",
      "state": {}
     },
     "7c8bc37babcc43ac9abe87c265e472a2": {
      "model_module": "@jupyter-widgets/controls",
      "model_module_version": "1.5.0",
      "model_name": "ButtonStyleModel",
      "state": {}
     },
     "7cfb533b9b534e30b586ff73cc451c2b": {
      "model_module": "@jupyter-widgets/controls",
      "model_module_version": "1.5.0",
      "model_name": "HBoxModel",
      "state": {
       "children": [
        "IPY_MODEL_780eecc54b4048d5bcb3efbbf54d4c93",
        "IPY_MODEL_022ec1243ec74679b55233f19c10dbfd",
        "IPY_MODEL_f610eaa73f90484999365d08c35d0dc1",
        "IPY_MODEL_da172963a2cd40a189d912309453d793"
       ],
       "layout": "IPY_MODEL_ae46261740be4fc093374b858be21823"
      }
     },
     "7cff07f03968411fb0703aeb88b050ff": {
      "model_module": "@jupyter-widgets/controls",
      "model_module_version": "1.5.0",
      "model_name": "ButtonStyleModel",
      "state": {}
     },
     "7d0c576b45364e20981754d160033771": {
      "model_module": "@jupyter-widgets/base",
      "model_module_version": "1.2.0",
      "model_name": "LayoutModel",
      "state": {}
     },
     "7d28fe1241fc40d3807564c2a50ede11": {
      "model_module": "@jupyter-widgets/controls",
      "model_module_version": "1.5.0",
      "model_name": "ButtonModel",
      "state": {
       "description": "EDIT",
       "layout": "IPY_MODEL_d6351b45c91847f8bdc7666646acd6cc",
       "style": "IPY_MODEL_7898f66151be42a5b87492a3181ac816"
      }
     },
     "7d7bf557197d4adca9a75ebd85ad4ce3": {
      "model_module": "@jupyter-widgets/controls",
      "model_module_version": "1.5.0",
      "model_name": "HBoxModel",
      "state": {
       "children": [
        "IPY_MODEL_19c8dd4d7e9e4da8b61d9b249ce19c7e",
        "IPY_MODEL_ac3eb1cbb2a94e109097ab3d548edf70",
        "IPY_MODEL_1e75c506f26b4d3aaeb503c37b602337",
        "IPY_MODEL_2b6d7a21cb0f487da52a8cbd64461ca3"
       ],
       "layout": "IPY_MODEL_453488a900924b84a9911c94acdc6dfe"
      }
     },
     "7d7ea3b7274343a89650134201d3d271": {
      "model_module": "@jupyter-widgets/base",
      "model_module_version": "1.2.0",
      "model_name": "LayoutModel",
      "state": {
       "display": "none",
       "width": "60px"
      }
     },
     "7d848016be2349a59104497ca9e52a31": {
      "model_module": "@jupyter-widgets/controls",
      "model_module_version": "1.5.0",
      "model_name": "ButtonModel",
      "state": {
       "description": "EDIT",
       "layout": "IPY_MODEL_6f71eff65037413c808014b2d297a085",
       "style": "IPY_MODEL_1eb006b1f9784089923026661c8fbc85"
      }
     },
     "7db86da910c443f5b9b6b1c0db274a2d": {
      "model_module": "@jupyter-widgets/controls",
      "model_module_version": "1.5.0",
      "model_name": "HBoxModel",
      "state": {
       "children": [
        "IPY_MODEL_165bd8f2447b4dafaa5a53eb2676fd5b",
        "IPY_MODEL_b7facfd7c5c3461ea7fb22393bdfcc3b",
        "IPY_MODEL_54ce663ecbd646b2a7b0b7f07883cd57",
        "IPY_MODEL_918ac2ce2b834f74b34f127423eb4ca5"
       ],
       "layout": "IPY_MODEL_d12e5590e2f04969801704f0fb24d5fb"
      }
     },
     "7ddbd9c83d0144bcaae1616be611f64a": {
      "model_module": "@jupyter-widgets/base",
      "model_module_version": "1.2.0",
      "model_name": "LayoutModel",
      "state": {}
     },
     "7deb695ab421443cb3d12c58fe1606cf": {
      "model_module": "@jupyter-widgets/controls",
      "model_module_version": "1.5.0",
      "model_name": "DescriptionStyleModel",
      "state": {
       "description_width": ""
      }
     },
     "7e378207216f471b918a1da3d769a0ee": {
      "model_module": "@jupyter-widgets/base",
      "model_module_version": "1.2.0",
      "model_name": "LayoutModel",
      "state": {}
     },
     "7e71e55366bb4aaba27af1918030fd23": {
      "model_module": "@jupyter-widgets/controls",
      "model_module_version": "1.5.0",
      "model_name": "HBoxModel",
      "state": {
       "children": [
        "IPY_MODEL_4aa3fc5527b04ac19d81488cf9e5d1cc",
        "IPY_MODEL_17af8909c88d40b5be89ae8c62eca7b5",
        "IPY_MODEL_551151c8532c470f84f655b4e86a3192",
        "IPY_MODEL_aa63154378ef47c2aedce2c8d2e912ff"
       ],
       "layout": "IPY_MODEL_965de06a1f5c444fa34f30f7b88df12e"
      }
     },
     "7f07dcfd09cf4be8b045d4b8092c35c0": {
      "model_module": "@jupyter-widgets/controls",
      "model_module_version": "1.5.0",
      "model_name": "LabelModel",
      "state": {
       "layout": "IPY_MODEL_b02983a40f1e4811965a2379685e899a",
       "style": "IPY_MODEL_15135375f0de4699a26eb341ae6793da",
       "value": "   objective"
      }
     },
     "7f11c9e8e90b4a2cadbda0fc6b901b7f": {
      "model_module": "@jupyter-widgets/controls",
      "model_module_version": "1.5.0",
      "model_name": "DescriptionStyleModel",
      "state": {
       "description_width": ""
      }
     },
     "7f1bb41a0040415f8bfafe553b686851": {
      "model_module": "@jupyter-widgets/controls",
      "model_module_version": "1.5.0",
      "model_name": "LabelModel",
      "state": {
       "layout": "IPY_MODEL_fcd74968f22343a1b34b054ef216f757",
       "style": "IPY_MODEL_557b1d66c2704953a637d855b99ef159",
       "value": "   objective"
      }
     },
     "7f435d202e014b5fb6275dbeee329472": {
      "model_module": "@jupyter-widgets/controls",
      "model_module_version": "1.5.0",
      "model_name": "VBoxModel",
      "state": {
       "children": [
        "IPY_MODEL_e4712461d3ff4b7384a5d9a3d3f5e794",
        "IPY_MODEL_3e1cd3ef33bd46e2841f1575ec8db321",
        "IPY_MODEL_effae1a533bb493c9f529070832223a9",
        "IPY_MODEL_32b584ad646d43608f2e801ab40e2d0a"
       ],
       "layout": "IPY_MODEL_abd088065782434fb886dcc86f887c67"
      }
     },
     "7f8518c9a9dc4532aef7482ad67b39c4": {
      "model_module": "@jupyter-widgets/base",
      "model_module_version": "1.2.0",
      "model_name": "LayoutModel",
      "state": {}
     },
     "7fc83d3e7e444401a666664af296c893": {
      "model_module": "@jupyter-widgets/controls",
      "model_module_version": "1.5.0",
      "model_name": "ButtonModel",
      "state": {
       "description": "EDIT",
       "layout": "IPY_MODEL_259a2023b6a64bc4a4e1fd5cd8ea5c8e",
       "style": "IPY_MODEL_edcfce4c12084daea75661b0a34f3229"
      }
     },
     "7fdec93cd0c8441eb6384a1ac5c02c56": {
      "model_module": "@jupyter-widgets/base",
      "model_module_version": "1.2.0",
      "model_name": "LayoutModel",
      "state": {
       "display": "flex",
       "flex_flow": "row wrap"
      }
     },
     "7fdf173f7c2d421abb738e4ee535a9fa": {
      "model_module": "@jupyter-widgets/base",
      "model_module_version": "1.2.0",
      "model_name": "LayoutModel",
      "state": {
       "order": "-1",
       "overflow": "visible",
       "padding": "1px",
       "width": "0px"
      }
     },
     "8002e8c693b147db972706359d21a0a4": {
      "model_module": "@jupyter-widgets/controls",
      "model_module_version": "1.5.0",
      "model_name": "DescriptionStyleModel",
      "state": {
       "description_width": ""
      }
     },
     "8009d77ce59f4c55b52a7ef03943a6ad": {
      "model_module": "@jupyter-widgets/base",
      "model_module_version": "1.2.0",
      "model_name": "LayoutModel",
      "state": {
       "order": "-1",
       "overflow": "visible",
       "padding": "1px",
       "width": "0px"
      }
     },
     "801c498aeb4a401eaa0697de6085ec98": {
      "model_module": "@jupyter-widgets/controls",
      "model_module_version": "1.5.0",
      "model_name": "HBoxModel",
      "state": {
       "children": [
        "IPY_MODEL_be96f131af7447bf9e4ad2347c38b3f4",
        "IPY_MODEL_53bd58cfc09d4d77aeee5b443b492d59",
        "IPY_MODEL_46fb3ce11a4d4a7491c8805fe3ba2fac",
        "IPY_MODEL_4bf772db9664426c80ba3e202d204c1b"
       ],
       "layout": "IPY_MODEL_47f9cee282e447eea007bcd295c10e24"
      }
     },
     "8022e72f254a4bc3b607cca5badecb1d": {
      "model_module": "@jupyter-widgets/controls",
      "model_module_version": "1.5.0",
      "model_name": "ButtonStyleModel",
      "state": {}
     },
     "802f205b3e1346cc840c1b8e847e7f0b": {
      "model_module": "@jupyter-widgets/controls",
      "model_module_version": "1.5.0",
      "model_name": "ButtonModel",
      "state": {
       "layout": "IPY_MODEL_1e9ec9e6943f4c5599d624c03ac3acc5",
       "style": "IPY_MODEL_d1aa824a5fd949aeaf7725263672f080"
      }
     },
     "8069ddc85c1b491c88d0e8e028fc2de0": {
      "model_module": "@jupyter-widgets/controls",
      "model_module_version": "1.5.0",
      "model_name": "HTMLModel",
      "state": {
       "layout": "IPY_MODEL_dd637aea0c7f4bb290a00cb9b595c669",
       "style": "IPY_MODEL_7f11c9e8e90b4a2cadbda0fc6b901b7f",
       "value": "<i>test test test test test test test test test test test test test test test test test test test test test test test test </i>"
      }
     },
     "8091382aca99414686cf2110677f8d9e": {
      "model_module": "@jupyter-widgets/controls",
      "model_module_version": "1.5.0",
      "model_name": "DescriptionStyleModel",
      "state": {
       "description_width": ""
      }
     },
     "809217b4fa3c413db344fe68b609ab5e": {
      "model_module": "@jupyter-widgets/controls",
      "model_module_version": "1.5.0",
      "model_name": "ButtonStyleModel",
      "state": {}
     },
     "80d0b494962b40ea87c535e7fd9c4db4": {
      "model_module": "@jupyter-widgets/controls",
      "model_module_version": "1.5.0",
      "model_name": "ButtonStyleModel",
      "state": {}
     },
     "80d92729e6d14001b0b6494c316ee54f": {
      "model_module": "@jupyter-widgets/controls",
      "model_module_version": "1.5.0",
      "model_name": "ButtonStyleModel",
      "state": {}
     },
     "8111aa7195b84cb7a3d0cd6f6ee35742": {
      "model_module": "@jupyter-widgets/controls",
      "model_module_version": "1.5.0",
      "model_name": "LabelModel",
      "state": {
       "layout": "IPY_MODEL_c0149f525ad7461695d1981e83560dc5",
       "style": "IPY_MODEL_afa53a8a52b4424a9e77e57792706176",
       "value": "   objective"
      }
     },
     "81270cb573394b70be6d6567869714a5": {
      "model_module": "@jupyter-widgets/base",
      "model_module_version": "1.2.0",
      "model_name": "LayoutModel",
      "state": {
       "display": "none",
       "width": "60px"
      }
     },
     "812acf5483c14ad39d209716a4c64d3b": {
      "model_module": "@jupyter-widgets/controls",
      "model_module_version": "1.5.0",
      "model_name": "HTMLModel",
      "state": {
       "layout": "IPY_MODEL_b7ac16a79ec94f6a9647d190cca3250f",
       "style": "IPY_MODEL_4a26f910d8c848e99f1f01d7f850107e",
       "value": "<font size=\"1\">Path/Path/Path/Path/</font size>"
      }
     },
     "81dc826761a0424d9a7a5d6c8855708c": {
      "model_module": "@jupyter-widgets/controls",
      "model_module_version": "1.5.0",
      "model_name": "DescriptionStyleModel",
      "state": {
       "description_width": ""
      }
     },
     "825348bd7da64a1d827adf8a67625583": {
      "model_module": "@jupyter-widgets/controls",
      "model_module_version": "1.5.0",
      "model_name": "IntProgressModel",
      "state": {
       "layout": "IPY_MODEL_1da04ed5cbf14ad08a6ba17969ad3d71",
       "style": "IPY_MODEL_b76a15f1653a49cda7a4cf4b7f990c43",
       "value": 30
      }
     },
     "82a15465dc144ceeaf58994795113b60": {
      "model_module": "@jupyter-widgets/base",
      "model_module_version": "1.2.0",
      "model_name": "LayoutModel",
      "state": {
       "height": "32px",
       "overflow": "visible",
       "width": "100%"
      }
     },
     "82b3b7f1712a447b86ce509a93c79aa2": {
      "model_module": "@jupyter-widgets/controls",
      "model_module_version": "1.5.0",
      "model_name": "ProgressStyleModel",
      "state": {
       "description_width": ""
      }
     },
     "830c403b2725429391764f4739d9b4c4": {
      "model_module": "@jupyter-widgets/base",
      "model_module_version": "1.2.0",
      "model_name": "LayoutModel",
      "state": {
       "height": "32px",
       "order": "-2",
       "width": "32px"
      }
     },
     "831cb449fec944cd9163ea98930f1dfd": {
      "model_module": "@jupyter-widgets/controls",
      "model_module_version": "1.5.0",
      "model_name": "DescriptionStyleModel",
      "state": {
       "description_width": ""
      }
     },
     "838ff0445ad8437da4527b31677e2b50": {
      "model_module": "@jupyter-widgets/base",
      "model_module_version": "1.2.0",
      "model_name": "LayoutModel",
      "state": {
       "height": "32px",
       "overflow": "visible",
       "width": "100%"
      }
     },
     "83cf128fdfa34f6890a1bbfb069c68f9": {
      "model_module": "@jupyter-widgets/controls",
      "model_module_version": "1.5.0",
      "model_name": "LabelModel",
      "state": {
       "layout": "IPY_MODEL_75702de07d424b27ba2ca77eb299b4fc",
       "style": "IPY_MODEL_575d5c81791a47e2ac830b650560b674",
       "value": "   objective"
      }
     },
     "83ec74469e1a460f93a6a7ade404d19e": {
      "model_module": "@jupyter-widgets/base",
      "model_module_version": "1.2.0",
      "model_name": "LayoutModel",
      "state": {
       "order": "-1",
       "overflow": "visible",
       "padding": "1px",
       "width": "0px"
      }
     },
     "847d9f5ced1b4b59818a4789c8d22642": {
      "model_module": "@jupyter-widgets/controls",
      "model_module_version": "1.5.0",
      "model_name": "ButtonModel",
      "state": {
       "description": "EDIT",
       "layout": "IPY_MODEL_707fccd105c5452d99677435c9f85c13",
       "style": "IPY_MODEL_eb8b60de020942479a27551ca379cc16"
      }
     },
     "84960899b6354b8eaa88a7243987ae4a": {
      "model_module": "@jupyter-widgets/controls",
      "model_module_version": "1.5.0",
      "model_name": "HBoxModel",
      "state": {
       "children": [
        "IPY_MODEL_5630f91b8460458d80a912d375b84eb9",
        "IPY_MODEL_c9a746c5e04346f984c4a4c0dbfbd4be",
        "IPY_MODEL_c400e8e07eb4493aa2ee890ddb7beebe",
        "IPY_MODEL_44801186b60e4c169ce933ab792a81a7"
       ],
       "layout": "IPY_MODEL_d37cdb3e7d7146c7a88ad5c54a883bed"
      }
     },
     "84ad1bbca2f24b909369c991a3e83b65": {
      "model_module": "@jupyter-widgets/controls",
      "model_module_version": "1.5.0",
      "model_name": "ButtonStyleModel",
      "state": {}
     },
     "84c85b3477af44f5a2b9f368f56dc156": {
      "model_module": "@jupyter-widgets/controls",
      "model_module_version": "1.5.0",
      "model_name": "LabelModel",
      "state": {
       "layout": "IPY_MODEL_4ec99237f8594c1f800962aeeb51b967",
       "style": "IPY_MODEL_2240484ab2a54d1780cf04f6d4474ce5",
       "value": "   objective"
      }
     },
     "84cd66e50a7e4a5f9637338465cfda3b": {
      "model_module": "@jupyter-widgets/controls",
      "model_module_version": "1.5.0",
      "model_name": "HBoxModel",
      "state": {
       "children": [
        "IPY_MODEL_0047eaf33ad141faae382fa83f354902",
        "IPY_MODEL_23c2b4f468274020be36c048722e6f47",
        "IPY_MODEL_23b4e5d1ba8841efb695016eebd4c7c4",
        "IPY_MODEL_bf72b7ef7b554843ab8897515a9b0dc5"
       ],
       "layout": "IPY_MODEL_d3db4b1d02304476be61bbfd1786591e"
      }
     },
     "84cf4d8ae24f463eb0d0e08be47749fc": {
      "model_module": "@jupyter-widgets/base",
      "model_module_version": "1.2.0",
      "model_name": "LayoutModel",
      "state": {}
     },
     "851140b2faf34fff9f073126acf6e0e8": {
      "model_module": "@jupyter-widgets/controls",
      "model_module_version": "1.5.0",
      "model_name": "ButtonStyleModel",
      "state": {}
     },
     "8521920f8ae44333991f41ab2039813d": {
      "model_module": "@jupyter-widgets/controls",
      "model_module_version": "1.5.0",
      "model_name": "DescriptionStyleModel",
      "state": {
       "description_width": ""
      }
     },
     "852c33ae4bc34976925370f8fd631cc0": {
      "model_module": "@jupyter-widgets/controls",
      "model_module_version": "1.5.0",
      "model_name": "IntProgressModel",
      "state": {
       "layout": "IPY_MODEL_1a43aa7593474dd5acf363f63931ce9b",
       "style": "IPY_MODEL_38784d65d9104d38b093bc712e0d2f65",
       "value": 30
      }
     },
     "8532a801f46949cb94d1710a80bb04d6": {
      "model_module": "@jupyter-widgets/controls",
      "model_module_version": "1.5.0",
      "model_name": "ButtonStyleModel",
      "state": {}
     },
     "854d29f5df2a4e2bafc3d400c894c427": {
      "model_module": "@jupyter-widgets/controls",
      "model_module_version": "1.5.0",
      "model_name": "ButtonStyleModel",
      "state": {}
     },
     "8572c5741c1b4d6da9d2e0db39af5428": {
      "model_module": "@jupyter-widgets/base",
      "model_module_version": "1.2.0",
      "model_name": "LayoutModel",
      "state": {
       "height": "32px",
       "order": "-2",
       "width": "32px"
      }
     },
     "8594002bac3a4f74887a712c6b8776d1": {
      "model_module": "@jupyter-widgets/controls",
      "model_module_version": "1.5.0",
      "model_name": "HBoxModel",
      "state": {
       "children": [
        "IPY_MODEL_e2f71374616f4737b2f8166d30c22e50",
        "IPY_MODEL_4ea999d9d86746a5a5b66f4fd8c74d62",
        "IPY_MODEL_7f1bb41a0040415f8bfafe553b686851",
        "IPY_MODEL_fbfe5345e3d54cbd948e8f7c882a1c5e"
       ],
       "layout": "IPY_MODEL_f64910c3c4b84d3ca9028659a12b918a"
      }
     },
     "85a0da6490354654b34e824afccc4459": {
      "model_module": "@jupyter-widgets/controls",
      "model_module_version": "1.5.0",
      "model_name": "IntProgressModel",
      "state": {
       "layout": "IPY_MODEL_cf09b7c9df1e4f45ab5d8981cc89de3c",
       "style": "IPY_MODEL_1bbe16a0e58c4e97b5642b8555bcb4ea",
       "value": 30
      }
     },
     "85a2180a65d24a17b0ba3ddb5f23966a": {
      "model_module": "@jupyter-widgets/base",
      "model_module_version": "1.2.0",
      "model_name": "LayoutModel",
      "state": {
       "overflow": "visible",
       "width": "100%"
      }
     },
     "85b6973107724650b04c3ce459ee5e53": {
      "model_module": "@jupyter-widgets/controls",
      "model_module_version": "1.5.0",
      "model_name": "ProgressStyleModel",
      "state": {
       "description_width": ""
      }
     },
     "8638411b40934344b60310b2bd766edf": {
      "model_module": "@jupyter-widgets/base",
      "model_module_version": "1.2.0",
      "model_name": "LayoutModel",
      "state": {
       "width": "100px"
      }
     },
     "864cf8d458714d809b7c6f92fef2ccd1": {
      "model_module": "@jupyter-widgets/controls",
      "model_module_version": "1.5.0",
      "model_name": "ButtonStyleModel",
      "state": {}
     },
     "8682fc6b427a4409af749732b1af8f2f": {
      "model_module": "@jupyter-widgets/output",
      "model_module_version": "1.0.0",
      "model_name": "OutputModel",
      "state": {
       "layout": "IPY_MODEL_348109615abb4f2cb7f2d5a9bffbd487",
       "outputs": [
        {
         "data": {
          "application/vnd.jupyter.widget-view+json": {
           "model_id": "974ce1a785204045ad61f0d8d1201653",
           "version_major": 2,
           "version_minor": 0
          },
          "text/plain": "HBox(children=(FloatProgress(value=0.0, description='Loading:', max=6.0), Label(value='Initializing...')))"
         },
         "metadata": {},
         "output_type": "display_data"
        }
       ]
      }
     },
     "86e6cfaebf3c42599818d0ceae20c0d8": {
      "model_module": "@jupyter-widgets/base",
      "model_module_version": "1.2.0",
      "model_name": "LayoutModel",
      "state": {
       "height": "32px",
       "overflow": "visible",
       "width": "100%"
      }
     },
     "86eec800fcc041ffa2ac47166baeee15": {
      "model_module": "@jupyter-widgets/base",
      "model_module_version": "1.2.0",
      "model_name": "LayoutModel",
      "state": {}
     },
     "870499b6178b4ae7906986c030396015": {
      "model_module": "@jupyter-widgets/base",
      "model_module_version": "1.2.0",
      "model_name": "LayoutModel",
      "state": {}
     },
     "870efb2827d54fea9634c683504eb765": {
      "model_module": "@jupyter-widgets/controls",
      "model_module_version": "1.5.0",
      "model_name": "ButtonModel",
      "state": {
       "layout": "IPY_MODEL_eba9f01aec8343478074f59c800c65a2",
       "style": "IPY_MODEL_3c65d115d91d41679b6f873c6661a655"
      }
     },
     "874f01bf155e44c7a1c7e2956d1eb35e": {
      "model_module": "@jupyter-widgets/base",
      "model_module_version": "1.2.0",
      "model_name": "LayoutModel",
      "state": {
       "order": "-1",
       "overflow": "visible",
       "padding": "1px",
       "width": "0px"
      }
     },
     "879ec9f00d054386a2f5bd1f42bcbb05": {
      "model_module": "@jupyter-widgets/controls",
      "model_module_version": "1.5.0",
      "model_name": "IntProgressModel",
      "state": {
       "layout": "IPY_MODEL_b13b422794a04dc5814652de48aba01a",
       "style": "IPY_MODEL_508d0e10d40842e58358667b9ba6015b",
       "value": 30
      }
     },
     "87c4ec70e19146a39d7a059c002485a5": {
      "model_module": "@jupyter-widgets/base",
      "model_module_version": "1.2.0",
      "model_name": "LayoutModel",
      "state": {
       "display": "none",
       "width": "60px"
      }
     },
     "88105fba628842c0b5031b20f290e45c": {
      "model_module": "@jupyter-widgets/controls",
      "model_module_version": "1.5.0",
      "model_name": "HBoxModel",
      "state": {
       "children": [
        "IPY_MODEL_fe05601ec09749a7ae521a424b87e656",
        "IPY_MODEL_905e8a9d48ca419d911ee509bed69f11",
        "IPY_MODEL_e74945ee17b04e31a670a75c15fca1a8",
        "IPY_MODEL_a6f91c71110442f6aaae271690c58617"
       ],
       "layout": "IPY_MODEL_1454b9e786c74109aaac8c11491ce597"
      }
     },
     "88269767738e4d86aee8e9036f6a3e96": {
      "model_module": "@jupyter-widgets/base",
      "model_module_version": "1.2.0",
      "model_name": "LayoutModel",
      "state": {
       "height": "32px",
       "overflow": "visible",
       "width": "100%"
      }
     },
     "885910bc2e2e40d3ad9a12a87d2bd6fe": {
      "model_module": "@jupyter-widgets/base",
      "model_module_version": "1.2.0",
      "model_name": "LayoutModel",
      "state": {
       "height": "32px",
       "overflow": "visible",
       "width": "100%"
      }
     },
     "885bdcc0153643f3bc4f0c2ce7f0e026": {
      "model_module": "@jupyter-widgets/base",
      "model_module_version": "1.2.0",
      "model_name": "LayoutModel",
      "state": {
       "height": "32px",
       "order": "-2",
       "width": "32px"
      }
     },
     "885d05ef63ea40cf837c1ab85e5c5eb6": {
      "model_module": "@jupyter-widgets/base",
      "model_module_version": "1.2.0",
      "model_name": "LayoutModel",
      "state": {
       "height": "32px",
       "overflow": "visible",
       "width": "100%"
      }
     },
     "8938edc7973441c4a5d923d38ec15c75": {
      "model_module": "@jupyter-widgets/base",
      "model_module_version": "1.2.0",
      "model_name": "LayoutModel",
      "state": {}
     },
     "897ce5b18cb840829fab3d50a5fed578": {
      "model_module": "@jupyter-widgets/controls",
      "model_module_version": "1.5.0",
      "model_name": "LabelModel",
      "state": {
       "layout": "IPY_MODEL_7fdf173f7c2d421abb738e4ee535a9fa",
       "style": "IPY_MODEL_e85c3ea3464148f485597382fd0fa26f",
       "value": "   objective"
      }
     },
     "8980c359a64e46edab43242498c7a162": {
      "model_module": "@jupyter-widgets/controls",
      "model_module_version": "1.5.0",
      "model_name": "LabelModel",
      "state": {
       "layout": "IPY_MODEL_3e7dd23e8c51443b9139437e8fe70798",
       "style": "IPY_MODEL_0915df91f66a4aea804a9d8926b5c1ae",
       "value": "   objective"
      }
     },
     "8990c657cd144002aab936a55b4b08eb": {
      "model_module": "@jupyter-widgets/controls",
      "model_module_version": "1.5.0",
      "model_name": "DescriptionStyleModel",
      "state": {
       "description_width": ""
      }
     },
     "89be68f53e0b47489bf6aafd3eee0a3d": {
      "model_module": "@jupyter-widgets/base",
      "model_module_version": "1.2.0",
      "model_name": "LayoutModel",
      "state": {
       "width": "186px"
      }
     },
     "89cb1fa34a5748879fa8392b84612e06": {
      "model_module": "@jupyter-widgets/controls",
      "model_module_version": "1.5.0",
      "model_name": "LabelModel",
      "state": {
       "layout": "IPY_MODEL_493184169d4a4782ac6107a0f53728e2",
       "style": "IPY_MODEL_758045fecd0c418e9da1efa1592f120d",
       "value": "   objective"
      }
     },
     "89e1cbfacb144d0d9227441a2d78846e": {
      "model_module": "@jupyter-widgets/base",
      "model_module_version": "1.2.0",
      "model_name": "LayoutModel",
      "state": {
       "overflow": "visible",
       "width": "100%"
      }
     },
     "8a3e65d4e14c4ae7a27164d2eff8ba72": {
      "model_module": "@jupyter-widgets/controls",
      "model_module_version": "1.5.0",
      "model_name": "ButtonModel",
      "state": {
       "description": "EDIT",
       "layout": "IPY_MODEL_a3cb6cd5800747279b47872edb7aa862",
       "style": "IPY_MODEL_03a3b29edd254de8bed5a2c8af1cc728"
      }
     },
     "8af5d4232b0c4fd58e3cb09bc9217f79": {
      "model_module": "@jupyter-widgets/controls",
      "model_module_version": "1.5.0",
      "model_name": "ButtonStyleModel",
      "state": {}
     },
     "8af73c81b20d4e06b60b3127228d2734": {
      "model_module": "@jupyter-widgets/controls",
      "model_module_version": "1.5.0",
      "model_name": "ProgressStyleModel",
      "state": {
       "description_width": ""
      }
     },
     "8b0e9016203f4c5eb78b75fbcc0a8124": {
      "model_module": "@jupyter-widgets/controls",
      "model_module_version": "1.5.0",
      "model_name": "HTMLModel",
      "state": {
       "layout": "IPY_MODEL_7861880b680c429d858de8ef93c95e94",
       "style": "IPY_MODEL_2e205501fc1c4e1280727e67a854f000",
       "value": "<font size=\"1\">Path/Path/Path/Path/</font size>"
      }
     },
     "8b30cd3bf7794210b4859d053be210a6": {
      "model_module": "@jupyter-widgets/controls",
      "model_module_version": "1.5.0",
      "model_name": "ProgressStyleModel",
      "state": {
       "description_width": ""
      }
     },
     "8b385fad8ad44888b8d238c24ac7a9a1": {
      "model_module": "@jupyter-widgets/controls",
      "model_module_version": "1.5.0",
      "model_name": "HTMLModel",
      "state": {
       "layout": "IPY_MODEL_8f0697f992e5404caec37742d85f49cc",
       "style": "IPY_MODEL_4b5af6e6fc3041d4a4f3248bc0d0f6c7",
       "value": "<b>Task Name</b>"
      }
     },
     "8b507d09e12e48a289aa507a223f16bf": {
      "model_module": "@jupyter-widgets/controls",
      "model_module_version": "1.5.0",
      "model_name": "VBoxModel",
      "state": {
       "children": [
        "IPY_MODEL_8594002bac3a4f74887a712c6b8776d1",
        "IPY_MODEL_7cfb533b9b534e30b586ff73cc451c2b",
        "IPY_MODEL_c1ac6050610646f4bc02f766c7ffdf91",
        "IPY_MODEL_95f23de1aa594aea86b9d93587b126a9",
        "IPY_MODEL_51bacdfb628c4bd1a9d0e996242322b5",
        "IPY_MODEL_f12788824f61486f937d6471a9375cd6"
       ],
       "layout": "IPY_MODEL_41c17c3d40424d23b8908fe5cc2b85d1"
      }
     },
     "8bc2988e8bc740d0b9b410456868501a": {
      "model_module": "@jupyter-widgets/controls",
      "model_module_version": "1.5.0",
      "model_name": "ButtonStyleModel",
      "state": {}
     },
     "8c078cee647b4d2d8ef909aa8ea81c0e": {
      "model_module": "@jupyter-widgets/base",
      "model_module_version": "1.2.0",
      "model_name": "LayoutModel",
      "state": {
       "height": "32px",
       "order": "-2",
       "width": "32px"
      }
     },
     "8c2c155d715c494a84a1b8cdd1626835": {
      "model_module": "@jupyter-widgets/base",
      "model_module_version": "1.2.0",
      "model_name": "LayoutModel",
      "state": {
       "height": "32px",
       "overflow": "visible",
       "width": "100%"
      }
     },
     "8c61c6e980e74de680f1d2762edda1e7": {
      "model_module": "@jupyter-widgets/base",
      "model_module_version": "1.2.0",
      "model_name": "LayoutModel",
      "state": {
       "display": "none",
       "width": "60px"
      }
     },
     "8c6ed2d6bb4d48538730e1a3f3104de0": {
      "model_module": "@jupyter-widgets/controls",
      "model_module_version": "1.5.0",
      "model_name": "ButtonModel",
      "state": {
       "layout": "IPY_MODEL_9e01c19758b643f5b25ccd3ee535705a",
       "style": "IPY_MODEL_8fd853798b8f40d78efc4c03af19716a"
      }
     },
     "8c925d60d8ba4f59a07990ef5beb653f": {
      "model_module": "@jupyter-widgets/base",
      "model_module_version": "1.2.0",
      "model_name": "LayoutModel",
      "state": {
       "height": "32px",
       "overflow": "visible",
       "width": "100%"
      }
     },
     "8cddfe8fecf54cbe91c03a9fca8b6b49": {
      "model_module": "@jupyter-widgets/controls",
      "model_module_version": "1.5.0",
      "model_name": "DropdownModel",
      "state": {
       "_options_labels": [
        "Any",
        "Machine Gun",
        "Sword",
        "Grenade Launcher",
        "Rocket Launcher",
        "Linear Fusion Rifle"
       ],
       "index": 0,
       "layout": "IPY_MODEL_193caaf46c854445b8ea8cdbe67f8757",
       "style": "IPY_MODEL_a9cdfb40f5e849dca753ea5a1924ba3c"
      }
     },
     "8cf7f984a24c426ead4755738245674d": {
      "model_module": "@jupyter-widgets/controls",
      "model_module_version": "1.5.0",
      "model_name": "HTMLModel",
      "state": {
       "layout": "IPY_MODEL_d82941b9504c4f1f973ba5eda4a908e3",
       "style": "IPY_MODEL_416c9eb0d7b143f79148ca365cf08a0b",
       "value": "<font size=\"1\">Path/Path/Path/Path/</font size>"
      }
     },
     "8d26c7613fc4441fab01a7f1c5766044": {
      "model_module": "@jupyter-widgets/base",
      "model_module_version": "1.2.0",
      "model_name": "LayoutModel",
      "state": {
       "display": "none",
       "width": "60px"
      }
     },
     "8d2c5e2d12dd4c96b9a1568d33ce6b3c": {
      "model_module": "@jupyter-widgets/controls",
      "model_module_version": "1.5.0",
      "model_name": "IntProgressModel",
      "state": {
       "layout": "IPY_MODEL_e6baa65a21984bc08b95da755c3cfde3",
       "style": "IPY_MODEL_47c0fc24f2fd41cb94082cfec694d05a",
       "value": 30
      }
     },
     "8d6b5e55b98046909cfa41bc1adce9f2": {
      "model_module": "@jupyter-widgets/controls",
      "model_module_version": "1.5.0",
      "model_name": "ButtonModel",
      "state": {
       "description": "EDIT",
       "layout": "IPY_MODEL_97c80566b50e42c0a8fedda3651df542",
       "style": "IPY_MODEL_fe807a36c25741009879366077551ab7"
      }
     },
     "8e1b4d6f3e0a417db5fb572ac34ba3b4": {
      "model_module": "@jupyter-widgets/base",
      "model_module_version": "1.2.0",
      "model_name": "LayoutModel",
      "state": {}
     },
     "8e6322d1618d4b979380a4fc7ead5110": {
      "model_module": "@jupyter-widgets/controls",
      "model_module_version": "1.5.0",
      "model_name": "LabelModel",
      "state": {
       "layout": "IPY_MODEL_e82faec8037b4a12bbe11add67de8964",
       "style": "IPY_MODEL_3c8ff3c2fde44a67aba05b4a8220b00a",
       "value": "   objective"
      }
     },
     "8e6b2bb850e64a1b99fce871c7530e1d": {
      "model_module": "@jupyter-widgets/controls",
      "model_module_version": "1.5.0",
      "model_name": "DescriptionStyleModel",
      "state": {
       "description_width": ""
      }
     },
     "8e6eff6f6e4f442a87fb01d9a7a567f3": {
      "model_module": "@jupyter-widgets/controls",
      "model_module_version": "1.5.0",
      "model_name": "FloatProgressModel",
      "state": {
       "description": "Loading:",
       "layout": "IPY_MODEL_7bab8057e6d041b1915eef6d3faeb3f6",
       "max": 6,
       "style": "IPY_MODEL_935149cbafcc43cc83b57ff163adb788",
       "value": 5.137254901960784
      }
     },
     "8e79adac6165432993081d36609a6850": {
      "model_module": "@jupyter-widgets/controls",
      "model_module_version": "1.5.0",
      "model_name": "ProgressStyleModel",
      "state": {
       "description_width": ""
      }
     },
     "8e7b6575e4814503920ed89e625c1896": {
      "model_module": "@jupyter-widgets/controls",
      "model_module_version": "1.5.0",
      "model_name": "ButtonStyleModel",
      "state": {}
     },
     "8e9d351c50ea4488bc6d1f2310665103": {
      "model_module": "@jupyter-widgets/controls",
      "model_module_version": "1.5.0",
      "model_name": "DescriptionStyleModel",
      "state": {
       "description_width": ""
      }
     },
     "8ea6329ed8a84448a5c40c0284004cdd": {
      "model_module": "@jupyter-widgets/controls",
      "model_module_version": "1.5.0",
      "model_name": "ButtonStyleModel",
      "state": {}
     },
     "8ea6c1af552b43f899fdd4c0892305fa": {
      "model_module": "@jupyter-widgets/controls",
      "model_module_version": "1.5.0",
      "model_name": "ProgressStyleModel",
      "state": {
       "description_width": ""
      }
     },
     "8eaf4be93aa64de8af4177c8b578f45b": {
      "model_module": "@jupyter-widgets/base",
      "model_module_version": "1.2.0",
      "model_name": "LayoutModel",
      "state": {
       "border": "3px solid white",
       "flex": "1 1 0%",
       "margin": "10px",
       "min_width": "400px",
       "overflow": "visible",
       "padding": "10px",
       "width": "auto"
      }
     },
     "8eb3dd2adfe64159a802a6ffcab021a3": {
      "model_module": "@jupyter-widgets/controls",
      "model_module_version": "1.5.0",
      "model_name": "ButtonModel",
      "state": {
       "description": "EDIT",
       "layout": "IPY_MODEL_bc14f359c90744f0aff4e721ab010ed4",
       "style": "IPY_MODEL_67878f9a49cc429bb125e6e05ad9018a"
      }
     },
     "8ef457aa0b024313808f17c8acb296ab": {
      "model_module": "@jupyter-widgets/controls",
      "model_module_version": "1.5.0",
      "model_name": "DescriptionStyleModel",
      "state": {
       "description_width": ""
      }
     },
     "8ef8ebaffb9a4952ad066df0cb864291": {
      "model_module": "@jupyter-widgets/controls",
      "model_module_version": "1.5.0",
      "model_name": "ButtonModel",
      "state": {
       "description": "EDIT",
       "layout": "IPY_MODEL_4439d6cac8cf4fa293069d2260664d7d",
       "style": "IPY_MODEL_70b5730ae4f34709bce5ee0651f22ebe"
      }
     },
     "8efb66fef1534ea6ae2f2987dd5c91e7": {
      "model_module": "@jupyter-widgets/base",
      "model_module_version": "1.2.0",
      "model_name": "LayoutModel",
      "state": {
       "height": "32px",
       "order": "-2",
       "width": "32px"
      }
     },
     "8f0697f992e5404caec37742d85f49cc": {
      "model_module": "@jupyter-widgets/base",
      "model_module_version": "1.2.0",
      "model_name": "LayoutModel",
      "state": {
       "overflow": "visible",
       "width": "100%"
      }
     },
     "8f2d2975c17444d497a221ea312c8b1a": {
      "model_module": "@jupyter-widgets/controls",
      "model_module_version": "1.5.0",
      "model_name": "ButtonModel",
      "state": {
       "description": "EDIT",
       "layout": "IPY_MODEL_062daf1997144eb3bb7dbcdb0ab98955",
       "style": "IPY_MODEL_74a8f30cc32c4ff2a31a5f00477fc470"
      }
     },
     "8f6517b0c31c4a26838ff983cea8a3d8": {
      "model_module": "@jupyter-widgets/controls",
      "model_module_version": "1.5.0",
      "model_name": "HBoxModel",
      "state": {
       "children": [
        "IPY_MODEL_d844ad8e6b5346188dee70b399c487d0",
        "IPY_MODEL_4190777634604bbe8d806bc2f280162d",
        "IPY_MODEL_a3a39129e33b4a0fb808ba44d5c56f3c",
        "IPY_MODEL_2ab0481aa79140dc960174d92eedd5f7"
       ],
       "layout": "IPY_MODEL_a587e81f26e64ea78042b7bb84a71cb2"
      }
     },
     "8f68b849efb4453897d4389eb1de8beb": {
      "model_module": "@jupyter-widgets/controls",
      "model_module_version": "1.5.0",
      "model_name": "DescriptionStyleModel",
      "state": {
       "description_width": ""
      }
     },
     "8f715b5ac0d2430398440a5dbef17088": {
      "model_module": "@jupyter-widgets/base",
      "model_module_version": "1.2.0",
      "model_name": "LayoutModel",
      "state": {
       "display": "none",
       "width": "60px"
      }
     },
     "8f76dafe65ed4c00addfd7769762a10c": {
      "model_module": "@jupyter-widgets/base",
      "model_module_version": "1.2.0",
      "model_name": "LayoutModel",
      "state": {
       "height": "32px",
       "overflow": "visible",
       "width": "100%"
      }
     },
     "8f922d013ef14aa29451bd0ed9b11b15": {
      "model_module": "@jupyter-widgets/controls",
      "model_module_version": "1.5.0",
      "model_name": "ButtonModel",
      "state": {
       "description": "EDIT",
       "layout": "IPY_MODEL_7020e57b036c4216b4696b4e0cd37a27",
       "style": "IPY_MODEL_2980961822684957b7985df5c242fd36"
      }
     },
     "8fcfd2da5e4d473a915dfbda4611f5f1": {
      "model_module": "@jupyter-widgets/base",
      "model_module_version": "1.2.0",
      "model_name": "LayoutModel",
      "state": {
       "display": "none",
       "width": "60px"
      }
     },
     "8fd853798b8f40d78efc4c03af19716a": {
      "model_module": "@jupyter-widgets/controls",
      "model_module_version": "1.5.0",
      "model_name": "ButtonStyleModel",
      "state": {}
     },
     "8fe7d39235cf4ac995496858b1afa335": {
      "model_module": "@jupyter-widgets/base",
      "model_module_version": "1.2.0",
      "model_name": "LayoutModel",
      "state": {
       "order": "-1",
       "overflow": "visible",
       "padding": "1px",
       "width": "0px"
      }
     },
     "904abf88d86746e89f91f7764eaf9cd2": {
      "model_module": "@jupyter-widgets/base",
      "model_module_version": "1.2.0",
      "model_name": "LayoutModel",
      "state": {
       "order": "-1",
       "overflow": "visible",
       "padding": "1px",
       "width": "0px"
      }
     },
     "905e8a9d48ca419d911ee509bed69f11": {
      "model_module": "@jupyter-widgets/controls",
      "model_module_version": "1.5.0",
      "model_name": "IntProgressModel",
      "state": {
       "layout": "IPY_MODEL_c2aec207c28447f4914de2d88af54603",
       "style": "IPY_MODEL_eeca8e6264164f2fa7868dd4b1a262e0",
       "value": 30
      }
     },
     "905f0e39227245abaac5eb75dc29d7ee": {
      "model_module": "@jupyter-widgets/controls",
      "model_module_version": "1.5.0",
      "model_name": "ButtonModel",
      "state": {
       "layout": "IPY_MODEL_457d2110168b482fa56ddc043102f0e9",
       "style": "IPY_MODEL_9f07039ce51d41649d663f52555f1220"
      }
     },
     "9072d8439b92454bb20e36cd2047be4e": {
      "model_module": "@jupyter-widgets/base",
      "model_module_version": "1.2.0",
      "model_name": "LayoutModel",
      "state": {
       "order": "-1",
       "overflow": "visible",
       "padding": "1px",
       "width": "0px"
      }
     },
     "9076946eae1b47ea961adf91bae7cb55": {
      "model_module": "@jupyter-widgets/controls",
      "model_module_version": "1.5.0",
      "model_name": "DescriptionStyleModel",
      "state": {
       "description_width": ""
      }
     },
     "90a010e9e82f421d806914c627d5696b": {
      "model_module": "@jupyter-widgets/controls",
      "model_module_version": "1.5.0",
      "model_name": "DescriptionStyleModel",
      "state": {
       "description_width": ""
      }
     },
     "90e56f95b3274a0487c3366e8b0e2649": {
      "model_module": "@jupyter-widgets/controls",
      "model_module_version": "1.5.0",
      "model_name": "IntProgressModel",
      "state": {
       "layout": "IPY_MODEL_b74977a9bab242f0bc8698f7ac679afc",
       "style": "IPY_MODEL_2464a4bf04c64aad919a0b46eaf16383",
       "value": 30
      }
     },
     "917ee4ba18144d98b4600769a5d96819": {
      "model_module": "@jupyter-widgets/controls",
      "model_module_version": "1.5.0",
      "model_name": "IntProgressModel",
      "state": {
       "layout": "IPY_MODEL_4eb29d67d53c48858968cda9c1c5b70f",
       "style": "IPY_MODEL_e09b0db015554649be5e79a136b6f105",
       "value": 30
      }
     },
     "918ac2ce2b834f74b34f127423eb4ca5": {
      "model_module": "@jupyter-widgets/controls",
      "model_module_version": "1.5.0",
      "model_name": "ButtonModel",
      "state": {
       "description": "EDIT",
       "layout": "IPY_MODEL_2a53f0237fde48e5a42931f6a1cdb4c9",
       "style": "IPY_MODEL_c0ad08e2359d423a9858fa5722677e2a"
      }
     },
     "91923a5f97cc445f97d7e904d7b9c0f0": {
      "model_module": "@jupyter-widgets/controls",
      "model_module_version": "1.5.0",
      "model_name": "DescriptionStyleModel",
      "state": {
       "description_width": ""
      }
     },
     "91d4f69464b4422dbd7fe3e06f8befb5": {
      "model_module": "@jupyter-widgets/controls",
      "model_module_version": "1.5.0",
      "model_name": "ButtonStyleModel",
      "state": {}
     },
     "91f5248c390b4ef29526fc6825b7392f": {
      "model_module": "@jupyter-widgets/controls",
      "model_module_version": "1.5.0",
      "model_name": "ButtonStyleModel",
      "state": {}
     },
     "9217c36ff89945c4b925fc0ed6baee43": {
      "model_module": "@jupyter-widgets/base",
      "model_module_version": "1.2.0",
      "model_name": "LayoutModel",
      "state": {}
     },
     "924f45161adc4dfd951c5658d519e19e": {
      "model_module": "@jupyter-widgets/controls",
      "model_module_version": "1.5.0",
      "model_name": "ButtonModel",
      "state": {
       "description": "EDIT",
       "layout": "IPY_MODEL_ffc33b03d0d243a7ba28ed36f0bf46a2",
       "style": "IPY_MODEL_e9c29b0b63cc47d68af97f1f29aa01ab"
      }
     },
     "9262cbc7493145f7ab071e090e148b7b": {
      "model_module": "@jupyter-widgets/base",
      "model_module_version": "1.2.0",
      "model_name": "LayoutModel",
      "state": {
       "height": "32px",
       "order": "-2",
       "width": "32px"
      }
     },
     "92943c59873e43abbc482468e929f9d6": {
      "model_module": "@jupyter-widgets/base",
      "model_module_version": "1.2.0",
      "model_name": "LayoutModel",
      "state": {}
     },
     "92a613d09557456498db60ffee1cb480": {
      "model_module": "@jupyter-widgets/controls",
      "model_module_version": "1.5.0",
      "model_name": "ProgressStyleModel",
      "state": {
       "description_width": ""
      }
     },
     "92bb52e284bb4e9b886da044cc8156fa": {
      "model_module": "@jupyter-widgets/base",
      "model_module_version": "1.2.0",
      "model_name": "LayoutModel",
      "state": {
       "order": "-1",
       "overflow": "visible",
       "padding": "1px",
       "width": "0px"
      }
     },
     "92bfb79dabcc467aacb7ed0ebae20f40": {
      "model_module": "@jupyter-widgets/controls",
      "model_module_version": "1.5.0",
      "model_name": "ButtonStyleModel",
      "state": {}
     },
     "93220fedfb4848b38abf781e859eae4a": {
      "model_module": "@jupyter-widgets/controls",
      "model_module_version": "1.5.0",
      "model_name": "DescriptionStyleModel",
      "state": {
       "description_width": ""
      }
     },
     "935149cbafcc43cc83b57ff163adb788": {
      "model_module": "@jupyter-widgets/controls",
      "model_module_version": "1.5.0",
      "model_name": "ProgressStyleModel",
      "state": {
       "description_width": ""
      }
     },
     "937478cd2fbf46a996627c593549a4c2": {
      "model_module": "@jupyter-widgets/controls",
      "model_module_version": "1.5.0",
      "model_name": "ProgressStyleModel",
      "state": {
       "description_width": ""
      }
     },
     "93a63c309349467bbef199ba3ad82190": {
      "model_module": "@jupyter-widgets/controls",
      "model_module_version": "1.5.0",
      "model_name": "ProgressStyleModel",
      "state": {
       "description_width": ""
      }
     },
     "93ea0b761b5340e2ad7ef713cf97e81a": {
      "model_module": "@jupyter-widgets/controls",
      "model_module_version": "1.5.0",
      "model_name": "ProgressStyleModel",
      "state": {
       "description_width": ""
      }
     },
     "9406fbf6e07d4312bc0e3d46875f8994": {
      "model_module": "@jupyter-widgets/base",
      "model_module_version": "1.2.0",
      "model_name": "LayoutModel",
      "state": {
       "height": "32px",
       "order": "-2",
       "width": "32px"
      }
     },
     "9409017673e34582a8f980b7ac2c08c0": {
      "model_module": "@jupyter-widgets/controls",
      "model_module_version": "1.5.0",
      "model_name": "HTMLModel",
      "state": {
       "layout": "IPY_MODEL_095a1670abd048298132b5ce9c20e4df",
       "style": "IPY_MODEL_062e69268b0e421698ecfdec8e2cb582",
       "value": "<b>Class Options</b>"
      }
     },
     "9410f642002a48ca807a30982ce4b570": {
      "model_module": "@jupyter-widgets/controls",
      "model_module_version": "1.5.0",
      "model_name": "LabelModel",
      "state": {
       "layout": "IPY_MODEL_b6b2d4591f1744b78a894618ba53b6d6",
       "style": "IPY_MODEL_aa99d03175884b8f829d15b2dfe669d6",
       "value": "   objective"
      }
     },
     "94af21f6b4ee4bdf88558d1cfc796b18": {
      "model_module": "@jupyter-widgets/base",
      "model_module_version": "1.2.0",
      "model_name": "LayoutModel",
      "state": {}
     },
     "94b6022b8cfd4d2dadd402d02bfe2666": {
      "model_module": "@jupyter-widgets/base",
      "model_module_version": "1.2.0",
      "model_name": "LayoutModel",
      "state": {
       "display": "none",
       "width": "60px"
      }
     },
     "94cffcaeac384e2a87848cea82da1deb": {
      "model_module": "@jupyter-widgets/controls",
      "model_module_version": "1.5.0",
      "model_name": "ButtonStyleModel",
      "state": {}
     },
     "953e399231aa487b9302ec8ab5e8af5a": {
      "model_module": "@jupyter-widgets/base",
      "model_module_version": "1.2.0",
      "model_name": "LayoutModel",
      "state": {
       "height": "32px",
       "order": "-2",
       "width": "32px"
      }
     },
     "9549291eb6c543b1baec2bfe286a74f2": {
      "model_module": "@jupyter-widgets/controls",
      "model_module_version": "1.5.0",
      "model_name": "ButtonModel",
      "state": {
       "description": "EDIT",
       "layout": "IPY_MODEL_e8f60a4c9b9147929d0fa268d113fed2",
       "style": "IPY_MODEL_e370b52f8a9546f3b3a8d5deb69f5212"
      }
     },
     "95865794aaab47d6b81cce6404c16e3e": {
      "model_module": "@jupyter-widgets/controls",
      "model_module_version": "1.5.0",
      "model_name": "ProgressStyleModel",
      "state": {
       "description_width": ""
      }
     },
     "95d73f77375546fbb0d4ead6b0ff65e8": {
      "model_module": "@jupyter-widgets/base",
      "model_module_version": "1.2.0",
      "model_name": "LayoutModel",
      "state": {
       "height": "32px",
       "order": "-2",
       "width": "32px"
      }
     },
     "95e8e355dfce4fa099196af1e409acd8": {
      "model_module": "@jupyter-widgets/base",
      "model_module_version": "1.2.0",
      "model_name": "LayoutModel",
      "state": {
       "height": "32px",
       "order": "-2",
       "width": "32px"
      }
     },
     "95f23de1aa594aea86b9d93587b126a9": {
      "model_module": "@jupyter-widgets/controls",
      "model_module_version": "1.5.0",
      "model_name": "HBoxModel",
      "state": {
       "children": [
        "IPY_MODEL_64edd3c59a2647f28f27c798a62b8d2f",
        "IPY_MODEL_a59533804660435e8d5887cddc314049",
        "IPY_MODEL_6669ff30b331441ab0a8f3e4d74dc69d",
        "IPY_MODEL_43c2cbf8ba4740159f10140a18848c98"
       ],
       "layout": "IPY_MODEL_a660b604377840e4b6c05fe95dc01bab"
      }
     },
     "965de06a1f5c444fa34f30f7b88df12e": {
      "model_module": "@jupyter-widgets/base",
      "model_module_version": "1.2.0",
      "model_name": "LayoutModel",
      "state": {}
     },
     "96be30ced04041fd9cb48b3be61378b4": {
      "model_module": "@jupyter-widgets/controls",
      "model_module_version": "1.5.0",
      "model_name": "HBoxModel",
      "state": {
       "children": [
        "IPY_MODEL_11097ce719f246df80906869486cdfdd",
        "IPY_MODEL_b477d6d684fd4e3ab6ae07ca6e9a6daf",
        "IPY_MODEL_3635d26614f5458586902ca026ca88fe",
        "IPY_MODEL_9fcf68c3f06d4a2c9f459cf976980d47"
       ],
       "layout": "IPY_MODEL_15286013c85a4f759ca7aa618104d1d4"
      }
     },
     "96d6d4ee18d44c98b39543f9c138ec68": {
      "model_module": "@jupyter-widgets/base",
      "model_module_version": "1.2.0",
      "model_name": "LayoutModel",
      "state": {
       "order": "-1",
       "overflow": "visible",
       "padding": "1px",
       "width": "0px"
      }
     },
     "96e3624941714fdcad1e7447755e285f": {
      "model_module": "@jupyter-widgets/controls",
      "model_module_version": "1.5.0",
      "model_name": "DescriptionStyleModel",
      "state": {
       "description_width": ""
      }
     },
     "9742b282bfa34a16b91396223ef311ed": {
      "model_module": "@jupyter-widgets/base",
      "model_module_version": "1.2.0",
      "model_name": "LayoutModel",
      "state": {
       "height": "32px",
       "overflow": "visible",
       "width": "100%"
      }
     },
     "974ce1a785204045ad61f0d8d1201653": {
      "model_module": "@jupyter-widgets/controls",
      "model_module_version": "1.5.0",
      "model_name": "HBoxModel",
      "state": {
       "children": [
        "IPY_MODEL_8e6eff6f6e4f442a87fb01d9a7a567f3",
        "IPY_MODEL_afafc331a57a4d068ea6b1cf16d828e9"
       ],
       "layout": "IPY_MODEL_4b0963c2025249b48dc7e43dc73dc93b"
      }
     },
     "97855b74a06345b38aa5c20708390a77": {
      "model_module": "@jupyter-widgets/base",
      "model_module_version": "1.2.0",
      "model_name": "LayoutModel",
      "state": {
       "height": "32px",
       "overflow": "visible",
       "width": "100%"
      }
     },
     "97c80566b50e42c0a8fedda3651df542": {
      "model_module": "@jupyter-widgets/base",
      "model_module_version": "1.2.0",
      "model_name": "LayoutModel",
      "state": {
       "display": "none",
       "width": "60px"
      }
     },
     "97d8639e93364962aa229c4c22aaccca": {
      "model_module": "@jupyter-widgets/controls",
      "model_module_version": "1.5.0",
      "model_name": "DropdownModel",
      "state": {
       "_options_labels": [
        "Any"
       ],
       "disabled": true,
       "index": 0,
       "layout": "IPY_MODEL_193caaf46c854445b8ea8cdbe67f8757",
       "style": "IPY_MODEL_d694361f73764e61b7acc2f699036bad"
      }
     },
     "97e62b2f052244f0b209796cf67d3a38": {
      "model_module": "@jupyter-widgets/controls",
      "model_module_version": "1.5.0",
      "model_name": "ProgressStyleModel",
      "state": {
       "description_width": ""
      }
     },
     "97ef26dcc0df4c90a691c5c97222eebe": {
      "model_module": "@jupyter-widgets/base",
      "model_module_version": "1.2.0",
      "model_name": "LayoutModel",
      "state": {
       "display": "none",
       "width": "60px"
      }
     },
     "98075688db9945188a99d3c27c5183dd": {
      "model_module": "@jupyter-widgets/base",
      "model_module_version": "1.2.0",
      "model_name": "LayoutModel",
      "state": {}
     },
     "981eb5718599440d92cc84c1797fded0": {
      "model_module": "@jupyter-widgets/controls",
      "model_module_version": "1.5.0",
      "model_name": "LabelModel",
      "state": {
       "layout": "IPY_MODEL_d7284b22481c4648b6bed568b499c938",
       "style": "IPY_MODEL_0efd60f9dfd942c1ad5140051aac1826",
       "value": "   objective"
      }
     },
     "98475d7599594f97b5f1953f6d96daa2": {
      "model_module": "@jupyter-widgets/controls",
      "model_module_version": "1.5.0",
      "model_name": "ButtonModel",
      "state": {
       "layout": "IPY_MODEL_3a66169d0a9c4c52b6165e901058f502",
       "style": "IPY_MODEL_d962b1407baf4a44be3c833880d78703"
      }
     },
     "9863cf44ba934a8d8b381e66f9ee73ee": {
      "model_module": "@jupyter-widgets/base",
      "model_module_version": "1.2.0",
      "model_name": "LayoutModel",
      "state": {
       "height": "32px",
       "order": "-2",
       "width": "32px"
      }
     },
     "9868639979954593bf697d08ad893ac9": {
      "model_module": "@jupyter-widgets/controls",
      "model_module_version": "1.5.0",
      "model_name": "VBoxModel",
      "state": {
       "children": [
        "IPY_MODEL_2030747e289d4a02b4b8ed82fad3a2a3",
        "IPY_MODEL_669ea692d6ee4864af33faa810860984",
        "IPY_MODEL_274083f7153648cc8e70d127b80ab39a",
        "IPY_MODEL_8b507d09e12e48a289aa507a223f16bf"
       ],
       "layout": "IPY_MODEL_4e933f61a1b44e7b967b65b85397c8d4"
      }
     },
     "98a695a665f6489fb0dcfbd1e0c7245c": {
      "model_module": "@jupyter-widgets/controls",
      "model_module_version": "1.5.0",
      "model_name": "ButtonModel",
      "state": {
       "description": "EDIT",
       "layout": "IPY_MODEL_8fcfd2da5e4d473a915dfbda4611f5f1",
       "style": "IPY_MODEL_21e48b93710f42c5af957d7553686fef"
      }
     },
     "98b4c3d33e1f4155bbf351d430327e63": {
      "model_module": "@jupyter-widgets/base",
      "model_module_version": "1.2.0",
      "model_name": "LayoutModel",
      "state": {}
     },
     "98b5e5a1aae64ed9a6d6bc6a32e487ae": {
      "model_module": "@jupyter-widgets/base",
      "model_module_version": "1.2.0",
      "model_name": "LayoutModel",
      "state": {
       "display": "none",
       "width": "60px"
      }
     },
     "98f9ed51ce964d9482391a90ba1bf4e8": {
      "model_module": "@jupyter-widgets/base",
      "model_module_version": "1.2.0",
      "model_name": "LayoutModel",
      "state": {
       "border": "3px solid white",
       "flex": "1 1 0%",
       "margin": "10px",
       "min_width": "400px",
       "overflow": "visible",
       "padding": "10px",
       "width": "auto"
      }
     },
     "9904fee916c34a82bbc28e5303869d29": {
      "model_module": "@jupyter-widgets/controls",
      "model_module_version": "1.5.0",
      "model_name": "DescriptionStyleModel",
      "state": {
       "description_width": ""
      }
     },
     "99168d00761d45d499df8bcce31cc33d": {
      "model_module": "@jupyter-widgets/base",
      "model_module_version": "1.2.0",
      "model_name": "LayoutModel",
      "state": {
       "overflow": "visible",
       "width": "100%"
      }
     },
     "994cab5d2f724e6d964ae2b9da97d5e3": {
      "model_module": "@jupyter-widgets/controls",
      "model_module_version": "1.5.0",
      "model_name": "DropdownModel",
      "state": {
       "_options_labels": [
        "Any",
        "Arc",
        "Solar",
        "Void"
       ],
       "index": 0,
       "layout": "IPY_MODEL_193caaf46c854445b8ea8cdbe67f8757",
       "style": "IPY_MODEL_19121e3c009540808c3c087e83eb1293"
      }
     },
     "995fcf835391423fa9db766d217073b2": {
      "model_module": "@jupyter-widgets/base",
      "model_module_version": "1.2.0",
      "model_name": "LayoutModel",
      "state": {
       "order": "-1",
       "overflow": "visible",
       "padding": "1px",
       "width": "0px"
      }
     },
     "99cc4fcdf6ed41b98e70a1ca92728b5a": {
      "model_module": "@jupyter-widgets/base",
      "model_module_version": "1.2.0",
      "model_name": "LayoutModel",
      "state": {
       "order": "-1",
       "overflow": "visible",
       "padding": "1px",
       "width": "0px"
      }
     },
     "99e07d4d08174b71ac528b87ef3db2dd": {
      "model_module": "@jupyter-widgets/base",
      "model_module_version": "1.2.0",
      "model_name": "LayoutModel",
      "state": {
       "order": "-1",
       "overflow": "visible",
       "padding": "1px",
       "width": "0px"
      }
     },
     "99f9db997fce418d88ee6a76b5e00c42": {
      "model_module": "@jupyter-widgets/controls",
      "model_module_version": "1.5.0",
      "model_name": "HBoxModel",
      "state": {
       "children": [
        "IPY_MODEL_3a23fad8d67241a9b2b2b53b39d21d87",
        "IPY_MODEL_55daa43f69b14aaab0771aaad1512984",
        "IPY_MODEL_0bc1c7b80bff4f158a35668d18f8df4a",
        "IPY_MODEL_0eb1babd04f140e8b81864c5d8c7254e"
       ],
       "layout": "IPY_MODEL_e6746712c5f94119a0c19a15a98463dc"
      }
     },
     "9a0c2c280dfc4e1481c008381dcedf8e": {
      "model_module": "@jupyter-widgets/controls",
      "model_module_version": "1.5.0",
      "model_name": "ButtonStyleModel",
      "state": {}
     },
     "9a134929c99b48fba4ee55398f727198": {
      "model_module": "@jupyter-widgets/controls",
      "model_module_version": "1.5.0",
      "model_name": "ProgressStyleModel",
      "state": {
       "description_width": ""
      }
     },
     "9a3ce723312248739265fe937b957074": {
      "model_module": "@jupyter-widgets/base",
      "model_module_version": "1.2.0",
      "model_name": "LayoutModel",
      "state": {
       "border": "3px solid white",
       "flex": "1 1 0%",
       "margin": "10px",
       "min_width": "400px",
       "overflow": "visible",
       "padding": "10px",
       "width": "auto"
      }
     },
     "9a5c408f4be24adeb4bb49860c178d01": {
      "model_module": "@jupyter-widgets/controls",
      "model_module_version": "1.5.0",
      "model_name": "ButtonStyleModel",
      "state": {}
     },
     "9a5c6664180540ccbf80e829e8a6eb42": {
      "model_module": "@jupyter-widgets/base",
      "model_module_version": "1.2.0",
      "model_name": "LayoutModel",
      "state": {
       "order": "-1",
       "overflow": "visible",
       "padding": "1px",
       "width": "0px"
      }
     },
     "9a666408e6c74d8bbd10ba9fc7d66b61": {
      "model_module": "@jupyter-widgets/controls",
      "model_module_version": "1.5.0",
      "model_name": "ButtonStyleModel",
      "state": {}
     },
     "9a693b0aca4c483481361f847020bf31": {
      "model_module": "@jupyter-widgets/controls",
      "model_module_version": "1.5.0",
      "model_name": "LabelModel",
      "state": {
       "layout": "IPY_MODEL_f4421f171a4249258b0ff2640c76c301",
       "style": "IPY_MODEL_c628717420c245918240ada03fb00ac9",
       "value": "   objective"
      }
     },
     "9a97448645e24352af8125af4843897f": {
      "model_module": "@jupyter-widgets/controls",
      "model_module_version": "1.5.0",
      "model_name": "IntProgressModel",
      "state": {
       "layout": "IPY_MODEL_af7339c370f047e3bf0cb3cf62dd80a4",
       "style": "IPY_MODEL_1dc47691689445148751478f9a50a712",
       "value": 30
      }
     },
     "9a9aa3c41a704d638e2ffe0ef684a650": {
      "model_module": "@jupyter-widgets/controls",
      "model_module_version": "1.5.0",
      "model_name": "ButtonStyleModel",
      "state": {}
     },
     "9aaac6edada8491eb89fd3c7bbdb4619": {
      "model_module": "@jupyter-widgets/base",
      "model_module_version": "1.2.0",
      "model_name": "LayoutModel",
      "state": {}
     },
     "9b03cf20491048c0b75a8fc7df5f3ad9": {
      "model_module": "@jupyter-widgets/controls",
      "model_module_version": "1.5.0",
      "model_name": "IntProgressModel",
      "state": {
       "layout": "IPY_MODEL_a542542a153c4bd1be0c4fa68ad18049",
       "style": "IPY_MODEL_1d13299cc0904bca8d81fc7e8c059b8c",
       "value": 30
      }
     },
     "9b4f401b37444bdcb61aa7021feebfae": {
      "model_module": "@jupyter-widgets/base",
      "model_module_version": "1.2.0",
      "model_name": "LayoutModel",
      "state": {}
     },
     "9b6cfb7888324e319eddd1be796ce2f4": {
      "model_module": "@jupyter-widgets/controls",
      "model_module_version": "1.5.0",
      "model_name": "DescriptionStyleModel",
      "state": {
       "description_width": ""
      }
     },
     "9b8b8ceecb2f4247976160ddc31d6df1": {
      "model_module": "@jupyter-widgets/controls",
      "model_module_version": "1.5.0",
      "model_name": "ButtonModel",
      "state": {
       "description": "EDIT",
       "layout": "IPY_MODEL_70d45a04c59147b2ae7d67e6b417195f",
       "style": "IPY_MODEL_7381caa05ad543f6a3ae767dab8b35ab"
      }
     },
     "9c7cba7869994fbdbfdd4864822a68ec": {
      "model_module": "@jupyter-widgets/controls",
      "model_module_version": "1.5.0",
      "model_name": "HTMLModel",
      "state": {
       "layout": "IPY_MODEL_7fdec93cd0c8441eb6384a1ac5c02c56",
       "style": "IPY_MODEL_f59016a2441a4de3a191d5754702b4da",
       "value": "<i>test test test test test test test test test test test test test test test test test test test test test test test test </i>"
      }
     },
     "9d59e2b44b3c4d2fb4029d15243ac276": {
      "model_module": "@jupyter-widgets/base",
      "model_module_version": "1.2.0",
      "model_name": "LayoutModel",
      "state": {
       "overflow": "visible",
       "width": "100%"
      }
     },
     "9d5d20569681434a9b27927a0a934b53": {
      "model_module": "@jupyter-widgets/base",
      "model_module_version": "1.2.0",
      "model_name": "LayoutModel",
      "state": {
       "overflow": "visible",
       "width": "100%"
      }
     },
     "9d7c49abbf954bdf8bcdf1751facee92": {
      "model_module": "@jupyter-widgets/controls",
      "model_module_version": "1.5.0",
      "model_name": "ButtonStyleModel",
      "state": {}
     },
     "9dcbbac785c8446a922d514b305575ed": {
      "model_module": "@jupyter-widgets/base",
      "model_module_version": "1.2.0",
      "model_name": "LayoutModel",
      "state": {
       "order": "-1",
       "overflow": "visible",
       "padding": "1px",
       "width": "0px"
      }
     },
     "9dd1609cfd594984bd30ec7ff9784d70": {
      "model_module": "@jupyter-widgets/controls",
      "model_module_version": "1.5.0",
      "model_name": "ButtonModel",
      "state": {
       "layout": "IPY_MODEL_9f376d5b3f3741db9b37f6f6d78b8435",
       "style": "IPY_MODEL_f8cb2e2e88314823bbf4ccceb4d12e4e"
      }
     },
     "9de66b885eb942e59e9ea241d6b1eae1": {
      "model_module": "@jupyter-widgets/controls",
      "model_module_version": "1.5.0",
      "model_name": "IntProgressModel",
      "state": {
       "layout": "IPY_MODEL_a8bec05282b24022a7396b06ba7e1754",
       "style": "IPY_MODEL_8ea6c1af552b43f899fdd4c0892305fa",
       "value": 30
      }
     },
     "9e01c19758b643f5b25ccd3ee535705a": {
      "model_module": "@jupyter-widgets/base",
      "model_module_version": "1.2.0",
      "model_name": "LayoutModel",
      "state": {
       "height": "32px",
       "order": "-2",
       "width": "32px"
      }
     },
     "9e27d2a08a3843159240adbe5f54002f": {
      "model_module": "@jupyter-widgets/controls",
      "model_module_version": "1.5.0",
      "model_name": "ButtonModel",
      "state": {
       "description": "EDIT",
       "layout": "IPY_MODEL_ee5122ce3cce4bf0a4b5b840797aaf5e",
       "style": "IPY_MODEL_0f347bee35714fd588783bf5279adfdc"
      }
     },
     "9e3b8d4cd620478394344294b6296dc2": {
      "model_module": "@jupyter-widgets/base",
      "model_module_version": "1.2.0",
      "model_name": "LayoutModel",
      "state": {
       "display": "none",
       "width": "60px"
      }
     },
     "9e89a1f44eb24346b7de6c78de56a554": {
      "model_module": "@jupyter-widgets/controls",
      "model_module_version": "1.5.0",
      "model_name": "ButtonStyleModel",
      "state": {}
     },
     "9e9386ff8d454a8cb349693b80e3f7d1": {
      "model_module": "@jupyter-widgets/controls",
      "model_module_version": "1.5.0",
      "model_name": "LabelModel",
      "state": {
       "layout": "IPY_MODEL_d3d4c104c1284b3c9cd474864f266cc8",
       "style": "IPY_MODEL_2ab92e75b2ed43119c1c9f1a469d288f",
       "value": "   objective"
      }
     },
     "9ed157fad3ce4b5e863be566153007e5": {
      "model_module": "@jupyter-widgets/controls",
      "model_module_version": "1.5.0",
      "model_name": "ButtonModel",
      "state": {
       "description": "EDIT",
       "layout": "IPY_MODEL_1eb7e6689c99413990d09fb879b17b73",
       "style": "IPY_MODEL_060c3ef6d63a4e5094fbac96946ff37e"
      }
     },
     "9eee8bfc10ee4d6095a82842a0aa7b15": {
      "model_module": "@jupyter-widgets/base",
      "model_module_version": "1.2.0",
      "model_name": "LayoutModel",
      "state": {
       "order": "-1",
       "overflow": "visible",
       "padding": "1px",
       "width": "0px"
      }
     },
     "9f02c50a0b5748fba35ee650c18689d9": {
      "model_module": "@jupyter-widgets/controls",
      "model_module_version": "1.5.0",
      "model_name": "LabelModel",
      "state": {
       "layout": "IPY_MODEL_5e044e3d2aab47eab3b93dbb770c8102",
       "style": "IPY_MODEL_bd3c2667c0cc4336ae7e5b6d7491d56e",
       "value": "   objective"
      }
     },
     "9f07039ce51d41649d663f52555f1220": {
      "model_module": "@jupyter-widgets/controls",
      "model_module_version": "1.5.0",
      "model_name": "ButtonStyleModel",
      "state": {}
     },
     "9f27bbb6037d43efa2774e76e563a06c": {
      "model_module": "@jupyter-widgets/controls",
      "model_module_version": "1.5.0",
      "model_name": "ButtonModel",
      "state": {
       "layout": "IPY_MODEL_572531c2c1f5459ab740b12f4f7e9bc2",
       "style": "IPY_MODEL_64313a874ace4ded8e8b24658cea5f1f"
      }
     },
     "9f376d5b3f3741db9b37f6f6d78b8435": {
      "model_module": "@jupyter-widgets/base",
      "model_module_version": "1.2.0",
      "model_name": "LayoutModel",
      "state": {
       "height": "32px",
       "order": "-2",
       "width": "32px"
      }
     },
     "9f3e1cb73f0e4d0883a35946c50b6765": {
      "model_module": "@jupyter-widgets/controls",
      "model_module_version": "1.5.0",
      "model_name": "ProgressStyleModel",
      "state": {
       "description_width": ""
      }
     },
     "9f5b490c7ca34f78a38af64d393dc534": {
      "model_module": "@jupyter-widgets/controls",
      "model_module_version": "1.5.0",
      "model_name": "DescriptionStyleModel",
      "state": {
       "description_width": ""
      }
     },
     "9f68ae4099db47f3822f0dff8875256d": {
      "model_module": "@jupyter-widgets/controls",
      "model_module_version": "1.5.0",
      "model_name": "DescriptionStyleModel",
      "state": {
       "description_width": ""
      }
     },
     "9f7bd94037144c218734ae90d592a9a8": {
      "model_module": "@jupyter-widgets/base",
      "model_module_version": "1.2.0",
      "model_name": "LayoutModel",
      "state": {
       "border": "3px solid white",
       "flex": "1 1 0%",
       "margin": "10px",
       "min_width": "400px",
       "overflow": "visible",
       "padding": "10px",
       "width": "auto"
      }
     },
     "9f81d9dc4cf441f89b84ad79fb912286": {
      "model_module": "@jupyter-widgets/base",
      "model_module_version": "1.2.0",
      "model_name": "LayoutModel",
      "state": {
       "display": "none",
       "width": "60px"
      }
     },
     "9fb3939554724de096e5c5851b99c0c0": {
      "model_module": "@jupyter-widgets/base",
      "model_module_version": "1.2.0",
      "model_name": "LayoutModel",
      "state": {}
     },
     "9fbff0424aa246318014158afcf799f6": {
      "model_module": "@jupyter-widgets/controls",
      "model_module_version": "1.5.0",
      "model_name": "HBoxModel",
      "state": {
       "children": [
        "IPY_MODEL_16c88dfd703149ca9e49e5ccc1aa9045",
        "IPY_MODEL_b72013c99e8e40139ef20d951baf44a7",
        "IPY_MODEL_08fa455babaf4e16b6d4f811afd8486e",
        "IPY_MODEL_9e27d2a08a3843159240adbe5f54002f"
       ],
       "layout": "IPY_MODEL_fa3f244e98074fcbb2234830576228cd"
      }
     },
     "9fcf68c3f06d4a2c9f459cf976980d47": {
      "model_module": "@jupyter-widgets/controls",
      "model_module_version": "1.5.0",
      "model_name": "ButtonModel",
      "state": {
       "description": "EDIT",
       "layout": "IPY_MODEL_74a1889547e44eca96dbb87ba820371d",
       "style": "IPY_MODEL_2db94751165249db9fa70a5518c57b6d"
      }
     },
     "9fd2039f367248b2b630ddf452ef194b": {
      "model_module": "@jupyter-widgets/base",
      "model_module_version": "1.2.0",
      "model_name": "LayoutModel",
      "state": {
       "display": "none",
       "width": "60px"
      }
     },
     "9fd5e35be5a3459481ca69a4bc03c984": {
      "model_module": "@jupyter-widgets/base",
      "model_module_version": "1.2.0",
      "model_name": "LayoutModel",
      "state": {
       "overflow": "visible",
       "width": "100%"
      }
     },
     "a03f6bfefa1747d3899704388aea08a5": {
      "model_module": "@jupyter-widgets/controls",
      "model_module_version": "1.5.0",
      "model_name": "IntProgressModel",
      "state": {
       "layout": "IPY_MODEL_48b06ab1f06e43408344e22c3fa36d27",
       "style": "IPY_MODEL_71971a03df1446989909fd8e312b7e5c",
       "value": 30
      }
     },
     "a064a80e639d4095a0b6cc071b6f003a": {
      "model_module": "@jupyter-widgets/controls",
      "model_module_version": "1.5.0",
      "model_name": "IntProgressModel",
      "state": {
       "layout": "IPY_MODEL_6867e8b6dd0c47938cf6ed9998d4462d",
       "style": "IPY_MODEL_f7ba2fd5dbd140bc84e6ffe88141d8e7",
       "value": 30
      }
     },
     "a0b3b98210584467a3763b85a87b105b": {
      "model_module": "@jupyter-widgets/controls",
      "model_module_version": "1.5.0",
      "model_name": "ButtonModel",
      "state": {
       "description": "EDIT",
       "layout": "IPY_MODEL_4f46108a0ec747a2891eba67c204f740",
       "style": "IPY_MODEL_a5dbd9f0f310486aa3b842b26cb491d9"
      }
     },
     "a0e24403297a48988eb4f2e4ed3a8477": {
      "model_module": "@jupyter-widgets/controls",
      "model_module_version": "1.5.0",
      "model_name": "ButtonStyleModel",
      "state": {}
     },
     "a0f6672b29c64484a36ba0936d44fd93": {
      "model_module": "@jupyter-widgets/controls",
      "model_module_version": "1.5.0",
      "model_name": "LabelModel",
      "state": {
       "layout": "IPY_MODEL_ea51adc567e348b8afb8de8ad2fa2b2d",
       "style": "IPY_MODEL_b0ebf377f3f148038c255f257d93258c",
       "value": "   objective"
      }
     },
     "a130d89431d04cf895ca20d483faa703": {
      "model_module": "@jupyter-widgets/base",
      "model_module_version": "1.2.0",
      "model_name": "LayoutModel",
      "state": {
       "order": "-1",
       "overflow": "visible",
       "padding": "1px",
       "width": "0px"
      }
     },
     "a13d392ed4f54a28a263109fce1e331c": {
      "model_module": "@jupyter-widgets/base",
      "model_module_version": "1.2.0",
      "model_name": "LayoutModel",
      "state": {
       "order": "-1",
       "overflow": "visible",
       "padding": "1px",
       "width": "0px"
      }
     },
     "a1448457aae84d138ffb917e97ea83db": {
      "model_module": "@jupyter-widgets/base",
      "model_module_version": "1.2.0",
      "model_name": "LayoutModel",
      "state": {
       "display": "none",
       "width": "60px"
      }
     },
     "a147e14b88664dc999fc79f591d58cb1": {
      "model_module": "@jupyter-widgets/controls",
      "model_module_version": "1.5.0",
      "model_name": "DropdownModel",
      "state": {
       "_options_labels": [
        "Any"
       ],
       "disabled": true,
       "index": 0,
       "layout": "IPY_MODEL_193caaf46c854445b8ea8cdbe67f8757",
       "style": "IPY_MODEL_075a8dce281042adbf7fecd090e6f3e0"
      }
     },
     "a1776ca7a1284122975f20d69acb9fc2": {
      "model_module": "@jupyter-widgets/controls",
      "model_module_version": "1.5.0",
      "model_name": "LabelModel",
      "state": {
       "layout": "IPY_MODEL_8fe7d39235cf4ac995496858b1afa335",
       "style": "IPY_MODEL_68fda1118bd94720a9f7539cc8872c57",
       "value": "   objective"
      }
     },
     "a1e8d465f58d469e8471d17ddc9b8f92": {
      "model_module": "@jupyter-widgets/controls",
      "model_module_version": "1.5.0",
      "model_name": "ProgressStyleModel",
      "state": {
       "description_width": ""
      }
     },
     "a24483e2fa854d718bfb7f680db4d269": {
      "model_module": "@jupyter-widgets/controls",
      "model_module_version": "1.5.0",
      "model_name": "IntProgressModel",
      "state": {
       "layout": "IPY_MODEL_bab6c445f4274b259a36a66e0b442191",
       "style": "IPY_MODEL_d95537cab540492f865ba2f2b750ece6",
       "value": 30
      }
     },
     "a2a12fb7bbd34061b047c6931aaa4a5d": {
      "model_module": "@jupyter-widgets/controls",
      "model_module_version": "1.5.0",
      "model_name": "HBoxModel",
      "state": {
       "children": [
        "IPY_MODEL_efa8a541d9f143a6b33b206f46ce14f9",
        "IPY_MODEL_cef2eb3f7648424cbbade17382da440d",
        "IPY_MODEL_b3145ebd92734d6ab80c1a2f4509b688",
        "IPY_MODEL_e0ca14d54cb54954a9220bce765125ae"
       ],
       "layout": "IPY_MODEL_29c101d0f70d45adac8825d1d4414333"
      }
     },
     "a2a720eb1be04b109611d7a4a04d8570": {
      "model_module": "@jupyter-widgets/base",
      "model_module_version": "1.2.0",
      "model_name": "LayoutModel",
      "state": {
       "height": "32px",
       "overflow": "visible",
       "width": "100%"
      }
     },
     "a30d64ce8c084a0ab79301d0767c2385": {
      "model_module": "@jupyter-widgets/controls",
      "model_module_version": "1.5.0",
      "model_name": "BoxModel",
      "state": {
       "layout": "IPY_MODEL_1d9aea99d4704eac9a15f45375373810"
      }
     },
     "a31a3bf6c1a040ef974a82c5dfb95f70": {
      "model_module": "@jupyter-widgets/controls",
      "model_module_version": "1.5.0",
      "model_name": "HBoxModel",
      "state": {
       "children": [
        "IPY_MODEL_6207435f682c4f15a9251f791ccd6840",
        "IPY_MODEL_a8e86db40fe44c4a98cc54ab3f3f6d68",
        "IPY_MODEL_5717aff00f724ba1a1b642b5cbc47f44",
        "IPY_MODEL_b5cf603f0ac044a5a5bcecbd8787abc9"
       ],
       "layout": "IPY_MODEL_561a9effb8724da38ca5e72e35fbe5de"
      }
     },
     "a3748e13ef91458e92b5ec45737c254d": {
      "model_module": "@jupyter-widgets/controls",
      "model_module_version": "1.5.0",
      "model_name": "ProgressStyleModel",
      "state": {
       "description_width": ""
      }
     },
     "a3a39129e33b4a0fb808ba44d5c56f3c": {
      "model_module": "@jupyter-widgets/controls",
      "model_module_version": "1.5.0",
      "model_name": "LabelModel",
      "state": {
       "layout": "IPY_MODEL_437e3057b365410f8f4daba84d5d8b49",
       "style": "IPY_MODEL_379e555f5fb24dfdb2987bd9b72c149e",
       "value": "   objective"
      }
     },
     "a3c5a79e600a411ab9000992653b24ba": {
      "model_module": "@jupyter-widgets/base",
      "model_module_version": "1.2.0",
      "model_name": "LayoutModel",
      "state": {
       "display": "none",
       "width": "60px"
      }
     },
     "a3cb6cd5800747279b47872edb7aa862": {
      "model_module": "@jupyter-widgets/base",
      "model_module_version": "1.2.0",
      "model_name": "LayoutModel",
      "state": {
       "display": "none",
       "width": "60px"
      }
     },
     "a3d9e3fc31694f52b75f9c23810be9e7": {
      "model_module": "@jupyter-widgets/controls",
      "model_module_version": "1.5.0",
      "model_name": "DescriptionStyleModel",
      "state": {
       "description_width": ""
      }
     },
     "a40bcd6f817244f1b8e18d8f7800eab3": {
      "model_module": "@jupyter-widgets/base",
      "model_module_version": "1.2.0",
      "model_name": "LayoutModel",
      "state": {}
     },
     "a47f9a1062d14bcba0df8d3e65c97769": {
      "model_module": "@jupyter-widgets/controls",
      "model_module_version": "1.5.0",
      "model_name": "ButtonStyleModel",
      "state": {}
     },
     "a4ae396a6ee949678a224b54c1b7b8b3": {
      "model_module": "@jupyter-widgets/base",
      "model_module_version": "1.2.0",
      "model_name": "LayoutModel",
      "state": {
       "height": "32px",
       "order": "-2",
       "width": "32px"
      }
     },
     "a4c517d67dea408dba151b2a67e30c9d": {
      "model_module": "@jupyter-widgets/controls",
      "model_module_version": "1.5.0",
      "model_name": "DescriptionStyleModel",
      "state": {
       "description_width": ""
      }
     },
     "a5074d8f6fdd48058dbe6b22a05e557d": {
      "model_module": "@jupyter-widgets/base",
      "model_module_version": "1.2.0",
      "model_name": "LayoutModel",
      "state": {
       "display": "none",
       "width": "60px"
      }
     },
     "a51a5231c5714506ab179a1a7bfd26fa": {
      "model_module": "@jupyter-widgets/controls",
      "model_module_version": "1.5.0",
      "model_name": "HBoxModel",
      "state": {
       "children": [
        "IPY_MODEL_6290ce2c26254dcdbff090ce17c45bb3",
        "IPY_MODEL_852c33ae4bc34976925370f8fd631cc0",
        "IPY_MODEL_52bac9d1c03f4ddd9b7ba4a3a698ae9e",
        "IPY_MODEL_19153662c56542e28684902f06890ea8"
       ],
       "layout": "IPY_MODEL_298a80c6e550415eabf22646c6188e3f"
      }
     },
     "a542542a153c4bd1be0c4fa68ad18049": {
      "model_module": "@jupyter-widgets/base",
      "model_module_version": "1.2.0",
      "model_name": "LayoutModel",
      "state": {
       "height": "32px",
       "overflow": "visible",
       "width": "100%"
      }
     },
     "a54324f076f94d84917cd54c27f18e76": {
      "model_module": "@jupyter-widgets/controls",
      "model_module_version": "1.5.0",
      "model_name": "DescriptionStyleModel",
      "state": {
       "description_width": ""
      }
     },
     "a54d901531e34b4c96a76c57ebe9ab5a": {
      "model_module": "@jupyter-widgets/base",
      "model_module_version": "1.2.0",
      "model_name": "LayoutModel",
      "state": {}
     },
     "a55a71a226de4a469816a95d24e8fb85": {
      "model_module": "@jupyter-widgets/controls",
      "model_module_version": "1.5.0",
      "model_name": "ButtonStyleModel",
      "state": {}
     },
     "a575734e34334742bb0b6183b44548d1": {
      "model_module": "@jupyter-widgets/controls",
      "model_module_version": "1.5.0",
      "model_name": "VBoxModel",
      "state": {
       "children": [
        "IPY_MODEL_4280df9f143b4503a8db9fad578fa31e",
        "IPY_MODEL_d253a05300b4446d821d64fd1d82ea50",
        "IPY_MODEL_ec5df282aa23452f8b49657cfe60a717"
       ],
       "layout": "IPY_MODEL_7abf0ea5a22a483e878818a0fee91605"
      }
     },
     "a587e81f26e64ea78042b7bb84a71cb2": {
      "model_module": "@jupyter-widgets/base",
      "model_module_version": "1.2.0",
      "model_name": "LayoutModel",
      "state": {}
     },
     "a59533804660435e8d5887cddc314049": {
      "model_module": "@jupyter-widgets/controls",
      "model_module_version": "1.5.0",
      "model_name": "IntProgressModel",
      "state": {
       "layout": "IPY_MODEL_88269767738e4d86aee8e9036f6a3e96",
       "style": "IPY_MODEL_fd458cc1793847cfb85ef6f67235a251",
       "value": 30
      }
     },
     "a59de5bc137f425a98513c6acf194852": {
      "model_module": "@jupyter-widgets/controls",
      "model_module_version": "1.5.0",
      "model_name": "ButtonStyleModel",
      "state": {}
     },
     "a5b77f37bad441ea951a14318d808064": {
      "model_module": "@jupyter-widgets/base",
      "model_module_version": "1.2.0",
      "model_name": "LayoutModel",
      "state": {}
     },
     "a5c51f3ce9ae455db061827101d4c8a6": {
      "model_module": "@jupyter-widgets/controls",
      "model_module_version": "1.5.0",
      "model_name": "LabelModel",
      "state": {
       "layout": "IPY_MODEL_c21df11c03c344d5b04edea3d7541fc5",
       "style": "IPY_MODEL_a4c517d67dea408dba151b2a67e30c9d",
       "value": "   objective"
      }
     },
     "a5d1198730f746ddb5d5562cfe0416ac": {
      "model_module": "@jupyter-widgets/controls",
      "model_module_version": "1.5.0",
      "model_name": "ProgressStyleModel",
      "state": {
       "description_width": ""
      }
     },
     "a5d39828846a4ab992a2f231e3a414b1": {
      "model_module": "@jupyter-widgets/controls",
      "model_module_version": "1.5.0",
      "model_name": "ButtonModel",
      "state": {
       "layout": "IPY_MODEL_0f050eee08b3473cb907d5b3070802f7",
       "style": "IPY_MODEL_e2cad21e512b4064b0dad3e532b2ba82"
      }
     },
     "a5dbd9f0f310486aa3b842b26cb491d9": {
      "model_module": "@jupyter-widgets/controls",
      "model_module_version": "1.5.0",
      "model_name": "ButtonStyleModel",
      "state": {}
     },
     "a5fe1cc6dd6c48b8b177c3789d383b87": {
      "model_module": "@jupyter-widgets/base",
      "model_module_version": "1.2.0",
      "model_name": "LayoutModel",
      "state": {
       "height": "32px",
       "order": "-2",
       "width": "32px"
      }
     },
     "a61cce220232416bbf87b800fe280059": {
      "model_module": "@jupyter-widgets/base",
      "model_module_version": "1.2.0",
      "model_name": "LayoutModel",
      "state": {
       "display": "none",
       "width": "60px"
      }
     },
     "a660b604377840e4b6c05fe95dc01bab": {
      "model_module": "@jupyter-widgets/base",
      "model_module_version": "1.2.0",
      "model_name": "LayoutModel",
      "state": {}
     },
     "a66f1b7fcca74de2aa9c7531b824f6bc": {
      "model_module": "@jupyter-widgets/controls",
      "model_module_version": "1.5.0",
      "model_name": "DescriptionStyleModel",
      "state": {
       "description_width": ""
      }
     },
     "a6f8745e44624eca8b29791dc7ad5d5f": {
      "model_module": "@jupyter-widgets/controls",
      "model_module_version": "1.5.0",
      "model_name": "ButtonStyleModel",
      "state": {}
     },
     "a6f91c71110442f6aaae271690c58617": {
      "model_module": "@jupyter-widgets/controls",
      "model_module_version": "1.5.0",
      "model_name": "ButtonModel",
      "state": {
       "description": "EDIT",
       "layout": "IPY_MODEL_e2e8d8d6eee849a59e48854a1933352f",
       "style": "IPY_MODEL_1421d04f2c5e4f88894f39adbf884db7"
      }
     },
     "a7194c0cf47a4ad8afc1b74dd0553801": {
      "model_module": "@jupyter-widgets/controls",
      "model_module_version": "1.5.0",
      "model_name": "ProgressStyleModel",
      "state": {
       "description_width": ""
      }
     },
     "a71ae88320ec4b5db43ecefbdaa3699b": {
      "model_module": "@jupyter-widgets/base",
      "model_module_version": "1.2.0",
      "model_name": "LayoutModel",
      "state": {}
     },
     "a732ec7b305046b79c06cad500f013df": {
      "model_module": "@jupyter-widgets/base",
      "model_module_version": "1.2.0",
      "model_name": "LayoutModel",
      "state": {
       "display": "none",
       "width": "60px"
      }
     },
     "a735799419ca48e89268041001318f1b": {
      "model_module": "@jupyter-widgets/controls",
      "model_module_version": "1.5.0",
      "model_name": "IntProgressModel",
      "state": {
       "layout": "IPY_MODEL_3eba73fc0b0941d3bbb201fb3bd25c8a",
       "style": "IPY_MODEL_ab265ccee17a48a8bec5235ea6d0d835",
       "value": 30
      }
     },
     "a73bb0902cdd4c4fbf13b207aadebb05": {
      "model_module": "@jupyter-widgets/controls",
      "model_module_version": "1.5.0",
      "model_name": "ProgressStyleModel",
      "state": {
       "description_width": ""
      }
     },
     "a7965f1daf7244dba04b7b27b6921e1e": {
      "model_module": "@jupyter-widgets/base",
      "model_module_version": "1.2.0",
      "model_name": "LayoutModel",
      "state": {
       "display": "none",
       "width": "60px"
      }
     },
     "a80437fe5a8c45b790c20f6b2e4c20eb": {
      "model_module": "@jupyter-widgets/controls",
      "model_module_version": "1.5.0",
      "model_name": "DescriptionStyleModel",
      "state": {
       "description_width": ""
      }
     },
     "a8a056cc254a4c278bad29bf208d555a": {
      "model_module": "@jupyter-widgets/base",
      "model_module_version": "1.2.0",
      "model_name": "LayoutModel",
      "state": {
       "overflow": "visible",
       "width": "100%"
      }
     },
     "a8b56515659e41b594a9de414ae3093a": {
      "model_module": "@jupyter-widgets/base",
      "model_module_version": "1.2.0",
      "model_name": "LayoutModel",
      "state": {}
     },
     "a8bec05282b24022a7396b06ba7e1754": {
      "model_module": "@jupyter-widgets/base",
      "model_module_version": "1.2.0",
      "model_name": "LayoutModel",
      "state": {
       "height": "32px",
       "overflow": "visible",
       "width": "100%"
      }
     },
     "a8e86db40fe44c4a98cc54ab3f3f6d68": {
      "model_module": "@jupyter-widgets/controls",
      "model_module_version": "1.5.0",
      "model_name": "IntProgressModel",
      "state": {
       "layout": "IPY_MODEL_08debeb7429c4d6384d828ea3c1624ab",
       "style": "IPY_MODEL_070b5ca1108e489c915f0bd0670a321c",
       "value": 30
      }
     },
     "a96366b4bda644948212170b60ac2f67": {
      "model_module": "@jupyter-widgets/base",
      "model_module_version": "1.2.0",
      "model_name": "LayoutModel",
      "state": {}
     },
     "a9a7599aed4c4881bd2b09da305ec599": {
      "model_module": "@jupyter-widgets/base",
      "model_module_version": "1.2.0",
      "model_name": "LayoutModel",
      "state": {
       "display": "none",
       "width": "60px"
      }
     },
     "a9a79d331351497b9673000afff8c9a9": {
      "model_module": "@jupyter-widgets/base",
      "model_module_version": "1.2.0",
      "model_name": "LayoutModel",
      "state": {
       "height": "32px",
       "overflow": "visible",
       "width": "100%"
      }
     },
     "a9c38ac0273b49f4b85a7226fe6a8bc4": {
      "model_module": "@jupyter-widgets/base",
      "model_module_version": "1.2.0",
      "model_name": "LayoutModel",
      "state": {
       "display": "none",
       "width": "60px"
      }
     },
     "a9cdfb40f5e849dca753ea5a1924ba3c": {
      "model_module": "@jupyter-widgets/controls",
      "model_module_version": "1.5.0",
      "model_name": "DescriptionStyleModel",
      "state": {
       "description_width": ""
      }
     },
     "a9dfc67a6dfc45629b4e7d2e0462f60c": {
      "model_module": "@jupyter-widgets/controls",
      "model_module_version": "1.5.0",
      "model_name": "HTMLModel",
      "state": {
       "layout": "IPY_MODEL_18a4162a1f6048339798c9ca108575b9",
       "style": "IPY_MODEL_0e1cf88251d5483f8277e1b7f4f0796a",
       "value": "<font size=\"1\">Path/Path/Path/Path/</font size>"
      }
     },
     "aa1752045326492293eef318d4cecbfc": {
      "model_module": "@jupyter-widgets/controls",
      "model_module_version": "1.5.0",
      "model_name": "HBoxModel",
      "state": {
       "children": [
        "IPY_MODEL_4fac94b847024b8f8ca1daf6c19c88c1",
        "IPY_MODEL_ec74c9be490b44ca9b8a281c45200f06",
        "IPY_MODEL_568a8f2d15a64b438726c78e73427205",
        "IPY_MODEL_361eb5d90c7d4ef4af389ae9627f40b9"
       ],
       "layout": "IPY_MODEL_cae8c32bee9445bea09557c711bb3347"
      }
     },
     "aa303d80f1b34680815a9b032541afb3": {
      "model_module": "@jupyter-widgets/controls",
      "model_module_version": "1.5.0",
      "model_name": "LabelModel",
      "state": {
       "layout": "IPY_MODEL_9eee8bfc10ee4d6095a82842a0aa7b15",
       "style": "IPY_MODEL_60926ae7608a4cc6ba7f9341061736cb",
       "value": "   objective"
      }
     },
     "aa63154378ef47c2aedce2c8d2e912ff": {
      "model_module": "@jupyter-widgets/controls",
      "model_module_version": "1.5.0",
      "model_name": "ButtonModel",
      "state": {
       "description": "EDIT",
       "layout": "IPY_MODEL_97ef26dcc0df4c90a691c5c97222eebe",
       "style": "IPY_MODEL_864cf8d458714d809b7c6f92fef2ccd1"
      }
     },
     "aa758c285fc14b6aa72a650d0a2543aa": {
      "model_module": "@jupyter-widgets/base",
      "model_module_version": "1.2.0",
      "model_name": "LayoutModel",
      "state": {
       "height": "32px",
       "order": "-2",
       "width": "32px"
      }
     },
     "aa9435f279814c999dd628c086e5524e": {
      "model_module": "@jupyter-widgets/controls",
      "model_module_version": "1.5.0",
      "model_name": "DescriptionStyleModel",
      "state": {
       "description_width": ""
      }
     },
     "aa99d03175884b8f829d15b2dfe669d6": {
      "model_module": "@jupyter-widgets/controls",
      "model_module_version": "1.5.0",
      "model_name": "DescriptionStyleModel",
      "state": {
       "description_width": ""
      }
     },
     "aadd91e9a4274efcbb812a34c8edbcda": {
      "model_module": "@jupyter-widgets/controls",
      "model_module_version": "1.5.0",
      "model_name": "ButtonModel",
      "state": {
       "layout": "IPY_MODEL_d1a4d816071e4919859cd85acf1a8d3c",
       "style": "IPY_MODEL_9a666408e6c74d8bbd10ba9fc7d66b61"
      }
     },
     "ab265ccee17a48a8bec5235ea6d0d835": {
      "model_module": "@jupyter-widgets/controls",
      "model_module_version": "1.5.0",
      "model_name": "ProgressStyleModel",
      "state": {
       "description_width": ""
      }
     },
     "ab322fb6830a4184a07c106260703e99": {
      "model_module": "@jupyter-widgets/controls",
      "model_module_version": "1.5.0",
      "model_name": "DescriptionStyleModel",
      "state": {
       "description_width": ""
      }
     },
     "abd088065782434fb886dcc86f887c67": {
      "model_module": "@jupyter-widgets/base",
      "model_module_version": "1.2.0",
      "model_name": "LayoutModel",
      "state": {
       "border": "3px solid white",
       "flex": "1 1 0%",
       "margin": "10px",
       "min_width": "400px",
       "overflow": "visible",
       "padding": "10px",
       "width": "auto"
      }
     },
     "abdc0865f2e246bcb72bfb8af897beed": {
      "model_module": "@jupyter-widgets/base",
      "model_module_version": "1.2.0",
      "model_name": "LayoutModel",
      "state": {
       "display": "flex",
       "flex_flow": "row wrap"
      }
     },
     "ac2f5910c22045aab8f803dc9f32b18d": {
      "model_module": "@jupyter-widgets/controls",
      "model_module_version": "1.5.0",
      "model_name": "ButtonModel",
      "state": {
       "layout": "IPY_MODEL_dde5f0692fee47e4b5e9b44b329aeb61",
       "style": "IPY_MODEL_7b7a449144584639a36e517f0a6ff96d"
      }
     },
     "ac3eb1cbb2a94e109097ab3d548edf70": {
      "model_module": "@jupyter-widgets/controls",
      "model_module_version": "1.5.0",
      "model_name": "IntProgressModel",
      "state": {
       "layout": "IPY_MODEL_202bfac65a5e441e8d15d77c19a515fc",
       "style": "IPY_MODEL_60f154a6eaa44974bb95bdb8eea74d24",
       "value": 30
      }
     },
     "ac41c7a5deb346b7b02c38faa7c6950d": {
      "model_module": "@jupyter-widgets/base",
      "model_module_version": "1.2.0",
      "model_name": "LayoutModel",
      "state": {}
     },
     "ac7ce322a86040b1a78aeaf0f7cd6a85": {
      "model_module": "@jupyter-widgets/controls",
      "model_module_version": "1.5.0",
      "model_name": "DescriptionStyleModel",
      "state": {
       "description_width": ""
      }
     },
     "ad502ef86c0d491b8006ed13952bede6": {
      "model_module": "@jupyter-widgets/controls",
      "model_module_version": "1.5.0",
      "model_name": "VBoxModel",
      "state": {
       "children": [
        "IPY_MODEL_3ec0e21885f4425fb8d21c547ff171d3",
        "IPY_MODEL_801c498aeb4a401eaa0697de6085ec98",
        "IPY_MODEL_aa1752045326492293eef318d4cecbfc",
        "IPY_MODEL_185fe046d05a41ba849a8d7151370725",
        "IPY_MODEL_fc174156cf624310981b175e5ed3f5cd",
        "IPY_MODEL_d142080a200940d18cdd4fe6350e9591"
       ],
       "layout": "IPY_MODEL_60f77c7a51b14702bf229fbc056d7ab6"
      }
     },
     "adf98ed6de194ec6a329c45def1a7cee": {
      "model_module": "@jupyter-widgets/base",
      "model_module_version": "1.2.0",
      "model_name": "LayoutModel",
      "state": {
       "height": "32px",
       "overflow": "visible",
       "width": "100%"
      }
     },
     "ae1401f216274ed09e957d8671592e42": {
      "model_module": "@jupyter-widgets/base",
      "model_module_version": "1.2.0",
      "model_name": "LayoutModel",
      "state": {
       "order": "-1",
       "overflow": "visible",
       "padding": "1px",
       "width": "0px"
      }
     },
     "ae43bc3cca0b478a86fb2335b55c54dd": {
      "model_module": "@jupyter-widgets/controls",
      "model_module_version": "1.5.0",
      "model_name": "DescriptionStyleModel",
      "state": {
       "description_width": ""
      }
     },
     "ae46261740be4fc093374b858be21823": {
      "model_module": "@jupyter-widgets/base",
      "model_module_version": "1.2.0",
      "model_name": "LayoutModel",
      "state": {}
     },
     "aec518240bd64f3db0141f05c34b8883": {
      "model_module": "@jupyter-widgets/base",
      "model_module_version": "1.2.0",
      "model_name": "LayoutModel",
      "state": {
       "order": "-1",
       "overflow": "visible",
       "padding": "1px",
       "width": "0px"
      }
     },
     "aef1770401f3425591e8cc7493716946": {
      "model_module": "@jupyter-widgets/base",
      "model_module_version": "1.2.0",
      "model_name": "LayoutModel",
      "state": {
       "display": "none",
       "width": "60px"
      }
     },
     "af0bd41be79745aaab7b55a46ab3bbf3": {
      "model_module": "@jupyter-widgets/base",
      "model_module_version": "1.2.0",
      "model_name": "LayoutModel",
      "state": {
       "height": "32px",
       "order": "-2",
       "width": "32px"
      }
     },
     "af3e8359ca654478b3c76a894caf5b51": {
      "model_module": "@jupyter-widgets/base",
      "model_module_version": "1.2.0",
      "model_name": "LayoutModel",
      "state": {
       "display": "none",
       "width": "60px"
      }
     },
     "af46e01ea62b4bfe8dda56f8d5161158": {
      "model_module": "@jupyter-widgets/controls",
      "model_module_version": "1.5.0",
      "model_name": "ButtonStyleModel",
      "state": {}
     },
     "af7339c370f047e3bf0cb3cf62dd80a4": {
      "model_module": "@jupyter-widgets/base",
      "model_module_version": "1.2.0",
      "model_name": "LayoutModel",
      "state": {
       "height": "32px",
       "overflow": "visible",
       "width": "100%"
      }
     },
     "afa53a8a52b4424a9e77e57792706176": {
      "model_module": "@jupyter-widgets/controls",
      "model_module_version": "1.5.0",
      "model_name": "DescriptionStyleModel",
      "state": {
       "description_width": ""
      }
     },
     "afafc331a57a4d068ea6b1cf16d828e9": {
      "model_module": "@jupyter-widgets/controls",
      "model_module_version": "1.5.0",
      "model_name": "LabelModel",
      "state": {
       "layout": "IPY_MODEL_0030a842bfad4d2ebb64b3c42fc45e42",
       "style": "IPY_MODEL_68b7e2511ec14aeb8cc3917c91902dd7",
       "value": "Getting profile data (pursuits)..."
      }
     },
     "afd675b887394daca976c9859c8dbde5": {
      "model_module": "@jupyter-widgets/controls",
      "model_module_version": "1.5.0",
      "model_name": "LabelModel",
      "state": {
       "layout": "IPY_MODEL_039f16a55f954992ada4ca1bbcbd3530",
       "style": "IPY_MODEL_40ac02e9df904282b907e06ca7571e81",
       "value": "   objective"
      }
     },
     "afe9888e04714cf79911990d8f6731d9": {
      "model_module": "@jupyter-widgets/base",
      "model_module_version": "1.2.0",
      "model_name": "LayoutModel",
      "state": {
       "height": "32px",
       "order": "-2",
       "width": "32px"
      }
     },
     "afe9a62193b240ddb053b0e06bbbb570": {
      "model_module": "@jupyter-widgets/controls",
      "model_module_version": "1.5.0",
      "model_name": "HTMLModel",
      "state": {
       "layout": "IPY_MODEL_bc789b091a544b6380a8df92f8011731",
       "style": "IPY_MODEL_771af9c09d3542b5a4745e84de0a96bd",
       "value": "<i>test test test test test test test test test test test test test test test test test test test test test test test test </i>"
      }
     },
     "b02983a40f1e4811965a2379685e899a": {
      "model_module": "@jupyter-widgets/base",
      "model_module_version": "1.2.0",
      "model_name": "LayoutModel",
      "state": {
       "order": "-1",
       "overflow": "visible",
       "padding": "1px",
       "width": "0px"
      }
     },
     "b03dc1c5e5204f5bbd7010fe7b9b40ce": {
      "model_module": "@jupyter-widgets/controls",
      "model_module_version": "1.5.0",
      "model_name": "ButtonStyleModel",
      "state": {}
     },
     "b05acf5046e043619f2de8fca940a335": {
      "model_module": "@jupyter-widgets/base",
      "model_module_version": "1.2.0",
      "model_name": "LayoutModel",
      "state": {
       "order": "-1",
       "overflow": "visible",
       "padding": "1px",
       "width": "0px"
      }
     },
     "b0ebf377f3f148038c255f257d93258c": {
      "model_module": "@jupyter-widgets/controls",
      "model_module_version": "1.5.0",
      "model_name": "DescriptionStyleModel",
      "state": {
       "description_width": ""
      }
     },
     "b0f2cdd5d5d7466ebe7ee5f3f59b8634": {
      "model_module": "@jupyter-widgets/base",
      "model_module_version": "1.2.0",
      "model_name": "LayoutModel",
      "state": {
       "height": "32px",
       "overflow": "visible",
       "width": "100%"
      }
     },
     "b1092d52f4b04bba89f0966a244fe9ee": {
      "model_module": "@jupyter-widgets/controls",
      "model_module_version": "1.5.0",
      "model_name": "IntProgressModel",
      "state": {
       "layout": "IPY_MODEL_b72afdc161ec46b0bca63a6a49d5e53e",
       "style": "IPY_MODEL_dc1b99f9dc62459c943d04834b3aeb9c",
       "value": 30
      }
     },
     "b13b422794a04dc5814652de48aba01a": {
      "model_module": "@jupyter-widgets/base",
      "model_module_version": "1.2.0",
      "model_name": "LayoutModel",
      "state": {
       "height": "32px",
       "overflow": "visible",
       "width": "100%"
      }
     },
     "b21b009e06c44a8482318d7a11974112": {
      "model_module": "@jupyter-widgets/controls",
      "model_module_version": "1.5.0",
      "model_name": "ButtonModel",
      "state": {
       "description": "EDIT",
       "layout": "IPY_MODEL_63f22365af774d609b09dbc41be20683",
       "style": "IPY_MODEL_d29ed13eee5e44909f22b6504416398c"
      }
     },
     "b2ce4be7e7de4fc1b7526cf1d3ca83c6": {
      "model_module": "@jupyter-widgets/controls",
      "model_module_version": "1.5.0",
      "model_name": "HBoxModel",
      "state": {
       "children": [
        "IPY_MODEL_b4c2e09ac842439da0b6b039a54b7891",
        "IPY_MODEL_85a0da6490354654b34e824afccc4459",
        "IPY_MODEL_9a693b0aca4c483481361f847020bf31",
        "IPY_MODEL_0603d81575464133a18a276776e31144"
       ],
       "layout": "IPY_MODEL_33099877991f401ebe8d84747eb2f9a5"
      }
     },
     "b3074f7765e847009e55c283fdc08217": {
      "model_module": "@jupyter-widgets/controls",
      "model_module_version": "1.5.0",
      "model_name": "HBoxModel",
      "state": {
       "children": [
        "IPY_MODEL_1dda35630d744d509d6269b36b2568c5",
        "IPY_MODEL_e04cba663af544418a49b6da2875793b"
       ],
       "layout": "IPY_MODEL_e6fd5a6e2313448eb53a51a293c518af"
      }
     },
     "b3145ebd92734d6ab80c1a2f4509b688": {
      "model_module": "@jupyter-widgets/controls",
      "model_module_version": "1.5.0",
      "model_name": "LabelModel",
      "state": {
       "layout": "IPY_MODEL_4fd26efe2fa5456dbd6cbfc4e542c7f6",
       "style": "IPY_MODEL_42a96f8e9c7d45f3bf3e0b6c4c4f712f",
       "value": "   objective"
      }
     },
     "b34dce9cc8c7414fbfefbd5c8d05cdbd": {
      "model_module": "@jupyter-widgets/controls",
      "model_module_version": "1.5.0",
      "model_name": "VBoxModel",
      "state": {
       "children": [
        "IPY_MODEL_dfbf0dab1c3b45018ab8ddf1ea60ae6a",
        "IPY_MODEL_109bd243c55d4559a4aecdc59f1a79bc",
        "IPY_MODEL_48ecb137d2b1418ab8b8fd146f30d534",
        "IPY_MODEL_00042359b10440e187f14fcebc06769a"
       ],
       "layout": "IPY_MODEL_335460ceb812491a9d507e0bba3676e8"
      }
     },
     "b3504f0dcaf24726abab55e2f45a9c32": {
      "model_module": "@jupyter-widgets/controls",
      "model_module_version": "1.5.0",
      "model_name": "DescriptionStyleModel",
      "state": {
       "description_width": ""
      }
     },
     "b351f1d88b4a45bab2ea72657536c39c": {
      "model_module": "@jupyter-widgets/controls",
      "model_module_version": "1.5.0",
      "model_name": "VBoxModel",
      "state": {
       "children": [
        "IPY_MODEL_41b48c27d4c64495852d16732f03a221",
        "IPY_MODEL_457ab88086014f928a0b0ed073781b4e",
        "IPY_MODEL_b4dbf284f1d348b49477640c6a877020",
        "IPY_MODEL_84960899b6354b8eaa88a7243987ae4a",
        "IPY_MODEL_1567779d17cf472fa80431edd789f4f6",
        "IPY_MODEL_f94d945c75bc4e1293b66ad9b9a977a7"
       ],
       "layout": "IPY_MODEL_235694a01d00421fa5cd0a89e44b8d6c"
      }
     },
     "b39802eee1634d189099231dd0e49509": {
      "model_module": "@jupyter-widgets/controls",
      "model_module_version": "1.5.0",
      "model_name": "VBoxModel",
      "state": {
       "children": [
        "IPY_MODEL_8b0e9016203f4c5eb78b75fbcc0a8124",
        "IPY_MODEL_faaef0c7eeac47bf84ba4ac16f69feeb",
        "IPY_MODEL_5e17cc42af2044e69b82cfb57e2c412c",
        "IPY_MODEL_b351f1d88b4a45bab2ea72657536c39c"
       ],
       "layout": "IPY_MODEL_98f9ed51ce964d9482391a90ba1bf4e8"
      }
     },
     "b3b2866283bf40ebb8232182197f15e1": {
      "model_module": "@jupyter-widgets/controls",
      "model_module_version": "1.5.0",
      "model_name": "HBoxModel",
      "state": {
       "children": [
        "IPY_MODEL_f756f632079b4ace8103bf3e28c02f08",
        "IPY_MODEL_a064a80e639d4095a0b6cc071b6f003a",
        "IPY_MODEL_84c85b3477af44f5a2b9f368f56dc156",
        "IPY_MODEL_4524745d5fd849eeb96b7f6bfe2a37c1"
       ],
       "layout": "IPY_MODEL_870499b6178b4ae7906986c030396015"
      }
     },
     "b3f7a037fe204f36b5aa8803654fdd47": {
      "model_module": "@jupyter-widgets/controls",
      "model_module_version": "1.5.0",
      "model_name": "LabelModel",
      "state": {
       "layout": "IPY_MODEL_8009d77ce59f4c55b52a7ef03943a6ad",
       "style": "IPY_MODEL_cc821d96649e44e6958f8b29337e45ca",
       "value": "   objective"
      }
     },
     "b41a7865f24d46d3a961d19b9d1cc346": {
      "model_module": "@jupyter-widgets/controls",
      "model_module_version": "1.5.0",
      "model_name": "VBoxModel",
      "state": {
       "children": [
        "IPY_MODEL_71e81a7f24894cac9745faeaa592cb35",
        "IPY_MODEL_5d9cb2502d9746a587db9ee299eec531",
        "IPY_MODEL_35c71a14bf9a4d619553cb8c9b1be57b",
        "IPY_MODEL_445b2080049247f0976898ac0a85bf6f",
        "IPY_MODEL_b2ce4be7e7de4fc1b7526cf1d3ca83c6",
        "IPY_MODEL_dc118442091946ddb90604a341ef8ad4"
       ],
       "layout": "IPY_MODEL_5dbbc36df5f24b0abe11da27ede85bef"
      }
     },
     "b41dc36f3ecc42dabfa7b53ddf5d966a": {
      "model_module": "@jupyter-widgets/controls",
      "model_module_version": "1.5.0",
      "model_name": "ButtonStyleModel",
      "state": {}
     },
     "b477d6d684fd4e3ab6ae07ca6e9a6daf": {
      "model_module": "@jupyter-widgets/controls",
      "model_module_version": "1.5.0",
      "model_name": "IntProgressModel",
      "state": {
       "layout": "IPY_MODEL_605d991d69474236980b6066aab0291a",
       "style": "IPY_MODEL_ec8a645f1dc84da6a7b6dfed8826a28e",
       "value": 30
      }
     },
     "b4984034c4544616ace004f8c245c172": {
      "model_module": "@jupyter-widgets/controls",
      "model_module_version": "1.5.0",
      "model_name": "HBoxModel",
      "state": {
       "children": [
        "IPY_MODEL_64916334e63f4cb08f3f25d3f026110c",
        "IPY_MODEL_fd29e9e3bf0b4fc2b056392ed904abbc",
        "IPY_MODEL_897ce5b18cb840829fab3d50a5fed578",
        "IPY_MODEL_e8e82e0defc74dfab4be8e3d5620bbce"
       ],
       "layout": "IPY_MODEL_6c185920a23a45d796035e892aac970a"
      }
     },
     "b4a0365f549846c193cd25ff9d93be96": {
      "model_module": "@jupyter-widgets/controls",
      "model_module_version": "1.5.0",
      "model_name": "LabelModel",
      "state": {
       "layout": "IPY_MODEL_9a5c6664180540ccbf80e829e8a6eb42",
       "style": "IPY_MODEL_5ddc7a95821940cfba152371a1da26f9",
       "value": "   objective"
      }
     },
     "b4af16ff90d74d9583163203ff451b78": {
      "model_module": "@jupyter-widgets/controls",
      "model_module_version": "1.5.0",
      "model_name": "ButtonModel",
      "state": {
       "layout": "IPY_MODEL_c50f654bda234414be534d1e4789b4dc",
       "style": "IPY_MODEL_d3a260e3c0c3492fb0bfb82bab6466b0"
      }
     },
     "b4c0d6332ad24de29bd66c115cda2bc8": {
      "model_module": "@jupyter-widgets/controls",
      "model_module_version": "1.5.0",
      "model_name": "DescriptionStyleModel",
      "state": {
       "description_width": ""
      }
     },
     "b4c2e09ac842439da0b6b039a54b7891": {
      "model_module": "@jupyter-widgets/controls",
      "model_module_version": "1.5.0",
      "model_name": "ButtonModel",
      "state": {
       "layout": "IPY_MODEL_184dc9851641497190f42e2fb92cb089",
       "style": "IPY_MODEL_5331d1872cf6499dbda8607a23762d80"
      }
     },
     "b4dbf284f1d348b49477640c6a877020": {
      "model_module": "@jupyter-widgets/controls",
      "model_module_version": "1.5.0",
      "model_name": "HBoxModel",
      "state": {
       "children": [
        "IPY_MODEL_62f6512d6e9744b7b04370bc213a5c1f",
        "IPY_MODEL_19d57cd787b64a279e9aef84bced63b8",
        "IPY_MODEL_eef3e13acbcf4cd2bd3e4a1d059b441f",
        "IPY_MODEL_402b5c1668a841f48a894b7b4c615ef7"
       ],
       "layout": "IPY_MODEL_d46f1a43653d4d5fb7a17a287a8ef13f"
      }
     },
     "b585562f1750496489fa5757cbab14f4": {
      "model_module": "@jupyter-widgets/base",
      "model_module_version": "1.2.0",
      "model_name": "LayoutModel",
      "state": {
       "order": "-1",
       "overflow": "visible",
       "padding": "1px",
       "width": "0px"
      }
     },
     "b5cf603f0ac044a5a5bcecbd8787abc9": {
      "model_module": "@jupyter-widgets/controls",
      "model_module_version": "1.5.0",
      "model_name": "ButtonModel",
      "state": {
       "description": "EDIT",
       "layout": "IPY_MODEL_a9c38ac0273b49f4b85a7226fe6a8bc4",
       "style": "IPY_MODEL_5daabcaaf83244e9aa1cde685de2c7fb"
      }
     },
     "b5d08fed297c487c9c808087e23cb13f": {
      "model_module": "@jupyter-widgets/controls",
      "model_module_version": "1.5.0",
      "model_name": "ButtonStyleModel",
      "state": {}
     },
     "b5d164ab5b6949d68f42d35a1a9dfe4e": {
      "model_module": "@jupyter-widgets/controls",
      "model_module_version": "1.5.0",
      "model_name": "ButtonModel",
      "state": {
       "layout": "IPY_MODEL_2fa3449cece44296a4d51f31ef432fdc",
       "style": "IPY_MODEL_646232a7dadc44d3b35741981440cea0"
      }
     },
     "b617ff93ecc94e0987b481bd84896100": {
      "model_module": "@jupyter-widgets/base",
      "model_module_version": "1.2.0",
      "model_name": "LayoutModel",
      "state": {}
     },
     "b624ecf2dae7408fafb8e204e505bab0": {
      "model_module": "@jupyter-widgets/controls",
      "model_module_version": "1.5.0",
      "model_name": "VBoxModel",
      "state": {
       "children": [
        "IPY_MODEL_be65951478244edbaedda8106aa5b942",
        "IPY_MODEL_96be30ced04041fd9cb48b3be61378b4",
        "IPY_MODEL_660cbd85e96d48b6af6d2614ff8b95ec",
        "IPY_MODEL_1037e1b6215f4121b38939947cefa3d0",
        "IPY_MODEL_a2a12fb7bbd34061b047c6931aaa4a5d",
        "IPY_MODEL_60398597df654261aa3f1d887b35c5f0"
       ],
       "layout": "IPY_MODEL_8938edc7973441c4a5d923d38ec15c75"
      }
     },
     "b62aa14a8e344bc7b8f0ce6ba16873ae": {
      "model_module": "@jupyter-widgets/controls",
      "model_module_version": "1.5.0",
      "model_name": "VBoxModel",
      "state": {
       "children": [
        "IPY_MODEL_1528888b7b614ee8935a4d67b2cb3903",
        "IPY_MODEL_541ed818a40346a18033a32fce8ba303",
        "IPY_MODEL_715a0eeefd5c4565aaef54cd7f98d762",
        "IPY_MODEL_34e1051bcbb343ec8c14aa19a9ee53c5"
       ],
       "layout": "IPY_MODEL_9f7bd94037144c218734ae90d592a9a8"
      }
     },
     "b640384b8f9a40c6ba762748f815fbb3": {
      "model_module": "@jupyter-widgets/base",
      "model_module_version": "1.2.0",
      "model_name": "LayoutModel",
      "state": {
       "display": "none",
       "width": "60px"
      }
     },
     "b650f7f5bbb24e618db1515aab3d4934": {
      "model_module": "@jupyter-widgets/base",
      "model_module_version": "1.2.0",
      "model_name": "LayoutModel",
      "state": {}
     },
     "b65722641d6f4478b19834cd5cb901f9": {
      "model_module": "@jupyter-widgets/controls",
      "model_module_version": "1.5.0",
      "model_name": "ProgressStyleModel",
      "state": {
       "description_width": ""
      }
     },
     "b6b2d4591f1744b78a894618ba53b6d6": {
      "model_module": "@jupyter-widgets/base",
      "model_module_version": "1.2.0",
      "model_name": "LayoutModel",
      "state": {
       "order": "-1",
       "overflow": "visible",
       "padding": "1px",
       "width": "0px"
      }
     },
     "b6d7435f8d4e42538c55adf1a69bcb5f": {
      "model_module": "@jupyter-widgets/base",
      "model_module_version": "1.2.0",
      "model_name": "LayoutModel",
      "state": {}
     },
     "b6fbb4adcc91491ba304acca85456b57": {
      "model_module": "@jupyter-widgets/base",
      "model_module_version": "1.2.0",
      "model_name": "LayoutModel",
      "state": {
       "border": "3px solid white",
       "flex": "1 1 0%",
       "margin": "10px",
       "min_width": "400px",
       "overflow": "visible",
       "padding": "10px",
       "width": "auto"
      }
     },
     "b72013c99e8e40139ef20d951baf44a7": {
      "model_module": "@jupyter-widgets/controls",
      "model_module_version": "1.5.0",
      "model_name": "IntProgressModel",
      "state": {
       "layout": "IPY_MODEL_2726d0d4775e4872a137c96dc09a5519",
       "style": "IPY_MODEL_f7fec4dec8794883849f48e75d18e10a",
       "value": 30
      }
     },
     "b72afdc161ec46b0bca63a6a49d5e53e": {
      "model_module": "@jupyter-widgets/base",
      "model_module_version": "1.2.0",
      "model_name": "LayoutModel",
      "state": {
       "height": "32px",
       "overflow": "visible",
       "width": "100%"
      }
     },
     "b73fd5941f5b437097e2754c0665f858": {
      "model_module": "@jupyter-widgets/base",
      "model_module_version": "1.2.0",
      "model_name": "LayoutModel",
      "state": {
       "height": "32px",
       "order": "-2",
       "width": "32px"
      }
     },
     "b74977a9bab242f0bc8698f7ac679afc": {
      "model_module": "@jupyter-widgets/base",
      "model_module_version": "1.2.0",
      "model_name": "LayoutModel",
      "state": {
       "height": "32px",
       "overflow": "visible",
       "width": "100%"
      }
     },
     "b74ce52b2b0a45ee8eb9ff2bf2e45dfb": {
      "model_module": "@jupyter-widgets/controls",
      "model_module_version": "1.5.0",
      "model_name": "HBoxModel",
      "state": {
       "children": [
        "IPY_MODEL_5f13f230f84f4ed8af8fc3979099c80f",
        "IPY_MODEL_5d03782a82b9408ba12683b233761c97"
       ],
       "layout": "IPY_MODEL_776d5e08b0934ac39b72173704a4f049"
      }
     },
     "b76a15f1653a49cda7a4cf4b7f990c43": {
      "model_module": "@jupyter-widgets/controls",
      "model_module_version": "1.5.0",
      "model_name": "ProgressStyleModel",
      "state": {
       "description_width": ""
      }
     },
     "b7755e73b6e547cb85fa0cd9a4addffc": {
      "model_module": "@jupyter-widgets/base",
      "model_module_version": "1.2.0",
      "model_name": "LayoutModel",
      "state": {
       "display": "none",
       "width": "60px"
      }
     },
     "b795334ac1f44fbcb65551de1814ebd6": {
      "model_module": "@jupyter-widgets/controls",
      "model_module_version": "1.5.0",
      "model_name": "ButtonModel",
      "state": {
       "description": "EDIT",
       "layout": "IPY_MODEL_9f81d9dc4cf441f89b84ad79fb912286",
       "style": "IPY_MODEL_72a96585716c481987199de183f6419c"
      }
     },
     "b79b8595b7f14a1781df968f72cdbee9": {
      "model_module": "@jupyter-widgets/controls",
      "model_module_version": "1.5.0",
      "model_name": "ProgressStyleModel",
      "state": {
       "description_width": ""
      }
     },
     "b7ac16a79ec94f6a9647d190cca3250f": {
      "model_module": "@jupyter-widgets/base",
      "model_module_version": "1.2.0",
      "model_name": "LayoutModel",
      "state": {
       "overflow": "visible",
       "width": "100%"
      }
     },
     "b7e059dd3b3441749a430f296d46b6c8": {
      "model_module": "@jupyter-widgets/base",
      "model_module_version": "1.2.0",
      "model_name": "LayoutModel",
      "state": {
       "height": "32px",
       "order": "-2",
       "width": "32px"
      }
     },
     "b7facfd7c5c3461ea7fb22393bdfcc3b": {
      "model_module": "@jupyter-widgets/controls",
      "model_module_version": "1.5.0",
      "model_name": "IntProgressModel",
      "state": {
       "layout": "IPY_MODEL_37757ad9c764479b8539e647dfc5ed5f",
       "style": "IPY_MODEL_53a8e39db59d4d28a0183cf450176ecc",
       "value": 30
      }
     },
     "b8035a15639848949099938eb9d594eb": {
      "model_module": "@jupyter-widgets/base",
      "model_module_version": "1.2.0",
      "model_name": "LayoutModel",
      "state": {
       "height": "32px",
       "order": "-2",
       "width": "32px"
      }
     },
     "b86795a43f274054b6311cfd1f76562f": {
      "model_module": "@jupyter-widgets/base",
      "model_module_version": "1.2.0",
      "model_name": "LayoutModel",
      "state": {
       "overflow": "visible",
       "width": "100%"
      }
     },
     "b88d15aa719147829bf6de7bf7903fab": {
      "model_module": "@jupyter-widgets/controls",
      "model_module_version": "1.5.0",
      "model_name": "LabelModel",
      "state": {
       "layout": "IPY_MODEL_ddf9403b0f134ab9a078bcdf4b3a4cda",
       "style": "IPY_MODEL_47fa2b0bdd8046fa88c5c0eaefddad1c",
       "value": "Kinetic Weapon:"
      }
     },
     "b89777eb018446f2aeca4913ad2505ba": {
      "model_module": "@jupyter-widgets/base",
      "model_module_version": "1.2.0",
      "model_name": "LayoutModel",
      "state": {
       "order": "-1",
       "overflow": "visible",
       "padding": "1px",
       "width": "0px"
      }
     },
     "b8a99ba3d7f445f49ca2b35255c1265c": {
      "model_module": "@jupyter-widgets/controls",
      "model_module_version": "1.5.0",
      "model_name": "ProgressStyleModel",
      "state": {
       "description_width": ""
      }
     },
     "b8b9201d46f448b6834712a2524b9ba9": {
      "model_module": "@jupyter-widgets/controls",
      "model_module_version": "1.5.0",
      "model_name": "ButtonStyleModel",
      "state": {}
     },
     "b8e3bc9994e041ea823d832f1bd386ea": {
      "model_module": "@jupyter-widgets/controls",
      "model_module_version": "1.5.0",
      "model_name": "IntProgressModel",
      "state": {
       "layout": "IPY_MODEL_4d5b902aab7f4faba1c78e0e99cb46a2",
       "style": "IPY_MODEL_00740d1d074a459fa289f061e4ce73e1",
       "value": 30
      }
     },
     "b8e87aa13f434666af9fff669dc273a2": {
      "model_module": "@jupyter-widgets/controls",
      "model_module_version": "1.5.0",
      "model_name": "ButtonModel",
      "state": {
       "layout": "IPY_MODEL_95e8e355dfce4fa099196af1e409acd8",
       "style": "IPY_MODEL_c46cba79318546df98766ca412729be2"
      }
     },
     "b94045b7900c4e3bb0e75ce03f34b4a0": {
      "model_module": "@jupyter-widgets/base",
      "model_module_version": "1.2.0",
      "model_name": "LayoutModel",
      "state": {
       "order": "-1",
       "overflow": "visible",
       "padding": "1px",
       "width": "0px"
      }
     },
     "b9619baae65a4c6990fafe2d8dd6edad": {
      "model_module": "@jupyter-widgets/base",
      "model_module_version": "1.2.0",
      "model_name": "LayoutModel",
      "state": {
       "height": "32px",
       "order": "-2",
       "width": "32px"
      }
     },
     "b96b6e216a4f4488b3c2d0d49c534638": {
      "model_module": "@jupyter-widgets/base",
      "model_module_version": "1.2.0",
      "model_name": "LayoutModel",
      "state": {
       "height": "32px",
       "overflow": "visible",
       "width": "100%"
      }
     },
     "b9d44ea29cb34660b44dea50b64987e5": {
      "model_module": "@jupyter-widgets/base",
      "model_module_version": "1.2.0",
      "model_name": "LayoutModel",
      "state": {}
     },
     "b9e02752ce264b8796850cf149fdb830": {
      "model_module": "@jupyter-widgets/base",
      "model_module_version": "1.2.0",
      "model_name": "LayoutModel",
      "state": {}
     },
     "b9e564a221d44fb68d9484af359e6a0c": {
      "model_module": "@jupyter-widgets/base",
      "model_module_version": "1.2.0",
      "model_name": "LayoutModel",
      "state": {
       "height": "32px",
       "order": "-2",
       "width": "32px"
      }
     },
     "bab6c445f4274b259a36a66e0b442191": {
      "model_module": "@jupyter-widgets/base",
      "model_module_version": "1.2.0",
      "model_name": "LayoutModel",
      "state": {
       "height": "32px",
       "overflow": "visible",
       "width": "100%"
      }
     },
     "bade4826c7b246db8d191056fc1e603b": {
      "model_module": "@jupyter-widgets/base",
      "model_module_version": "1.2.0",
      "model_name": "LayoutModel",
      "state": {
       "order": "-1",
       "overflow": "visible",
       "padding": "1px",
       "width": "0px"
      }
     },
     "bb213d2d54d14a0dbfa064d88ce7d2d2": {
      "model_module": "@jupyter-widgets/controls",
      "model_module_version": "1.5.0",
      "model_name": "ButtonModel",
      "state": {
       "description": "EDIT",
       "layout": "IPY_MODEL_218e7c6a79fa43599148854a32b18a1f",
       "style": "IPY_MODEL_555af8f3abfd44c6bd1c647293a1a046"
      }
     },
     "bb3c7d0f4461449291a0001a04ef5c92": {
      "model_module": "@jupyter-widgets/controls",
      "model_module_version": "1.5.0",
      "model_name": "ButtonModel",
      "state": {
       "layout": "IPY_MODEL_16d11b1b26f84fb3a6b2cdbbf87a29a8",
       "style": "IPY_MODEL_77262027ec134c4e991d039e4c2522ed"
      }
     },
     "bb8277bb51724d4babd3fbdda273b1b6": {
      "model_module": "@jupyter-widgets/controls",
      "model_module_version": "1.5.0",
      "model_name": "ButtonStyleModel",
      "state": {}
     },
     "bc14f359c90744f0aff4e721ab010ed4": {
      "model_module": "@jupyter-widgets/base",
      "model_module_version": "1.2.0",
      "model_name": "LayoutModel",
      "state": {
       "display": "none",
       "width": "60px"
      }
     },
     "bc789b091a544b6380a8df92f8011731": {
      "model_module": "@jupyter-widgets/base",
      "model_module_version": "1.2.0",
      "model_name": "LayoutModel",
      "state": {
       "display": "flex",
       "flex_flow": "row wrap"
      }
     },
     "bc7fa07f31564263882d98db77ee3af8": {
      "model_module": "@jupyter-widgets/base",
      "model_module_version": "1.2.0",
      "model_name": "LayoutModel",
      "state": {
       "order": "-1",
       "overflow": "visible",
       "padding": "1px",
       "width": "0px"
      }
     },
     "bc886c0e8ae7457e837459db733c8065": {
      "model_module": "@jupyter-widgets/base",
      "model_module_version": "1.2.0",
      "model_name": "LayoutModel",
      "state": {
       "height": "32px",
       "order": "-2",
       "width": "32px"
      }
     },
     "bcafff19d0954ce1935b43a1b8f9fa55": {
      "model_module": "@jupyter-widgets/controls",
      "model_module_version": "1.5.0",
      "model_name": "DescriptionStyleModel",
      "state": {
       "description_width": ""
      }
     },
     "bcc147adc9714fe8ab715e8aebd699b4": {
      "model_module": "@jupyter-widgets/controls",
      "model_module_version": "1.5.0",
      "model_name": "DescriptionStyleModel",
      "state": {
       "description_width": ""
      }
     },
     "bd3c2667c0cc4336ae7e5b6d7491d56e": {
      "model_module": "@jupyter-widgets/controls",
      "model_module_version": "1.5.0",
      "model_name": "DescriptionStyleModel",
      "state": {
       "description_width": ""
      }
     },
     "bd59ac0edecb48c289d34f769ae73080": {
      "model_module": "@jupyter-widgets/controls",
      "model_module_version": "1.5.0",
      "model_name": "DescriptionStyleModel",
      "state": {
       "description_width": ""
      }
     },
     "bd698d3a8e934e79a260f5fa0487ae82": {
      "model_module": "@jupyter-widgets/controls",
      "model_module_version": "1.5.0",
      "model_name": "HBoxModel",
      "state": {
       "children": [
        "IPY_MODEL_cfc0b3a339bf4ac0913f46a333e7c0af",
        "IPY_MODEL_fcdc52dc808d406dad93b023032ccbd7",
        "IPY_MODEL_2f4d8548dd1940cab248ea0aad24c7bf",
        "IPY_MODEL_bb213d2d54d14a0dbfa064d88ce7d2d2"
       ],
       "layout": "IPY_MODEL_a5b77f37bad441ea951a14318d808064"
      }
     },
     "bd9556245d4b4a3cb64a2885620a7f21": {
      "model_module": "@jupyter-widgets/controls",
      "model_module_version": "1.5.0",
      "model_name": "IntProgressModel",
      "state": {
       "layout": "IPY_MODEL_838ff0445ad8437da4527b31677e2b50",
       "style": "IPY_MODEL_09d1960b36d24e2692d964644a069acd",
       "value": 30
      }
     },
     "bde3e5766b0a40d7821e21011b435387": {
      "model_module": "@jupyter-widgets/base",
      "model_module_version": "1.2.0",
      "model_name": "LayoutModel",
      "state": {
       "display": "flex",
       "flex_flow": "row wrap"
      }
     },
     "be30164da0494b86990e5263c224d780": {
      "model_module": "@jupyter-widgets/controls",
      "model_module_version": "1.5.0",
      "model_name": "LabelModel",
      "state": {
       "layout": "IPY_MODEL_704fd69c862d4c708beb0b1e6b5dc092",
       "style": "IPY_MODEL_2c5dfc2964ef4cce8a5ff8b66b2ec030",
       "value": "   objective"
      }
     },
     "be3031e92c484807991db85f87f75a23": {
      "model_module": "@jupyter-widgets/controls",
      "model_module_version": "1.5.0",
      "model_name": "LabelModel",
      "state": {
       "layout": "IPY_MODEL_874f01bf155e44c7a1c7e2956d1eb35e",
       "style": "IPY_MODEL_8ef457aa0b024313808f17c8acb296ab",
       "value": "   objective"
      }
     },
     "be65951478244edbaedda8106aa5b942": {
      "model_module": "@jupyter-widgets/controls",
      "model_module_version": "1.5.0",
      "model_name": "HBoxModel",
      "state": {
       "children": [
        "IPY_MODEL_b5d164ab5b6949d68f42d35a1a9dfe4e",
        "IPY_MODEL_9de66b885eb942e59e9ea241d6b1eae1",
        "IPY_MODEL_30d209aecafe4d55a130829df9391555",
        "IPY_MODEL_0bcdac3ff83d4b4c9431e2418b2c757e"
       ],
       "layout": "IPY_MODEL_4172c0b3ae5147d6add50b273e506f4b"
      }
     },
     "be8bcc19cc3c43e5b4115463190845df": {
      "model_module": "@jupyter-widgets/controls",
      "model_module_version": "1.5.0",
      "model_name": "LabelModel",
      "state": {
       "layout": "IPY_MODEL_29795bc7986649a2831473b57deedd51",
       "style": "IPY_MODEL_1a209d685aaa4e06a87cd8fb0cf8bb45",
       "value": "   objective"
      }
     },
     "be96f131af7447bf9e4ad2347c38b3f4": {
      "model_module": "@jupyter-widgets/controls",
      "model_module_version": "1.5.0",
      "model_name": "ButtonModel",
      "state": {
       "layout": "IPY_MODEL_a5fe1cc6dd6c48b8b177c3789d383b87",
       "style": "IPY_MODEL_24b9f9542b4e4c1ba301ca8e8f7a4a4a"
      }
     },
     "bf3acb9333814578b51014b85d85b8af": {
      "model_module": "@jupyter-widgets/controls",
      "model_module_version": "1.5.0",
      "model_name": "ButtonStyleModel",
      "state": {}
     },
     "bf6f5c59f3b34677a2f3437583b8d211": {
      "model_module": "@jupyter-widgets/base",
      "model_module_version": "1.2.0",
      "model_name": "LayoutModel",
      "state": {
       "height": "32px",
       "order": "-2",
       "width": "32px"
      }
     },
     "bf72b7ef7b554843ab8897515a9b0dc5": {
      "model_module": "@jupyter-widgets/controls",
      "model_module_version": "1.5.0",
      "model_name": "ButtonModel",
      "state": {
       "description": "EDIT",
       "layout": "IPY_MODEL_d4e9fe0a8a5f4fd48342b546bdbb47f2",
       "style": "IPY_MODEL_f79b9bd93147420fa50467afcd4fec02"
      }
     },
     "bf9bbe45d03748ba9f7723ca53e24f50": {
      "model_module": "@jupyter-widgets/controls",
      "model_module_version": "1.5.0",
      "model_name": "ButtonStyleModel",
      "state": {}
     },
     "c0149f525ad7461695d1981e83560dc5": {
      "model_module": "@jupyter-widgets/base",
      "model_module_version": "1.2.0",
      "model_name": "LayoutModel",
      "state": {
       "order": "-1",
       "overflow": "visible",
       "padding": "1px",
       "width": "0px"
      }
     },
     "c0582346db354985ba8f9ae567437351": {
      "model_module": "@jupyter-widgets/base",
      "model_module_version": "1.2.0",
      "model_name": "LayoutModel",
      "state": {
       "display": "none",
       "width": "60px"
      }
     },
     "c082d2770e41453fac953497a27190de": {
      "model_module": "@jupyter-widgets/controls",
      "model_module_version": "1.5.0",
      "model_name": "ButtonStyleModel",
      "state": {}
     },
     "c0971a162deb466eb108041e0c49ca8b": {
      "model_module": "@jupyter-widgets/base",
      "model_module_version": "1.2.0",
      "model_name": "LayoutModel",
      "state": {
       "height": "32px",
       "overflow": "visible",
       "width": "100%"
      }
     },
     "c09c5e3a658f4932816bfc0cfdeb739e": {
      "model_module": "@jupyter-widgets/base",
      "model_module_version": "1.2.0",
      "model_name": "LayoutModel",
      "state": {
       "height": "32px",
       "order": "-2",
       "width": "32px"
      }
     },
     "c0a349033c874ecea1bb17b344f9d24b": {
      "model_module": "@jupyter-widgets/controls",
      "model_module_version": "1.5.0",
      "model_name": "ButtonModel",
      "state": {
       "description": "EDIT",
       "layout": "IPY_MODEL_a3c5a79e600a411ab9000992653b24ba",
       "style": "IPY_MODEL_27557851fb994fc69aa63dbdadc29874"
      }
     },
     "c0ad08e2359d423a9858fa5722677e2a": {
      "model_module": "@jupyter-widgets/controls",
      "model_module_version": "1.5.0",
      "model_name": "ButtonStyleModel",
      "state": {}
     },
     "c0e03e6c68fe4f7d825c0aba6dcbcfe0": {
      "model_module": "@jupyter-widgets/base",
      "model_module_version": "1.2.0",
      "model_name": "LayoutModel",
      "state": {
       "overflow": "visible",
       "width": "100%"
      }
     },
     "c14a2763f9c045b9abf49b0d946a52f3": {
      "model_module": "@jupyter-widgets/base",
      "model_module_version": "1.2.0",
      "model_name": "LayoutModel",
      "state": {
       "display": "none",
       "width": "60px"
      }
     },
     "c1557f4854aa43a4aab044f9c416b6dd": {
      "model_module": "@jupyter-widgets/base",
      "model_module_version": "1.2.0",
      "model_name": "LayoutModel",
      "state": {
       "order": "-1",
       "overflow": "visible",
       "padding": "1px",
       "width": "0px"
      }
     },
     "c1598a80e9a04f1fa0769247a441f7ca": {
      "model_module": "@jupyter-widgets/controls",
      "model_module_version": "1.5.0",
      "model_name": "LabelModel",
      "state": {
       "layout": "IPY_MODEL_f100dc1123bb458d8c79a715ded81554",
       "style": "IPY_MODEL_ec54770993cf483794e4b31802829719",
       "value": "   objective"
      }
     },
     "c1ac6050610646f4bc02f766c7ffdf91": {
      "model_module": "@jupyter-widgets/controls",
      "model_module_version": "1.5.0",
      "model_name": "HBoxModel",
      "state": {
       "children": [
        "IPY_MODEL_2e9c10bc2a41497492740f17082170fb",
        "IPY_MODEL_5327c4f4f83a4202bfbe012d9e9f6dc0",
        "IPY_MODEL_475f1b05c76a44bb8d8f5b942164a814",
        "IPY_MODEL_f40c5d077ff845d6864f790df88a5c89"
       ],
       "layout": "IPY_MODEL_4275387da12e4bada2c64c928e69bb7b"
      }
     },
     "c2093783f5b241b58e7e20d5a80cc758": {
      "model_module": "@jupyter-widgets/controls",
      "model_module_version": "1.5.0",
      "model_name": "ProgressStyleModel",
      "state": {
       "description_width": ""
      }
     },
     "c21df11c03c344d5b04edea3d7541fc5": {
      "model_module": "@jupyter-widgets/base",
      "model_module_version": "1.2.0",
      "model_name": "LayoutModel",
      "state": {
       "order": "-1",
       "overflow": "visible",
       "padding": "1px",
       "width": "0px"
      }
     },
     "c231488658334cdeb5d635cc97f69e9e": {
      "model_module": "@jupyter-widgets/controls",
      "model_module_version": "1.5.0",
      "model_name": "DescriptionStyleModel",
      "state": {
       "description_width": ""
      }
     },
     "c26e92963c2b4aea955df7f2587c6ee2": {
      "model_module": "@jupyter-widgets/controls",
      "model_module_version": "1.5.0",
      "model_name": "ButtonStyleModel",
      "state": {}
     },
     "c26ea7302b174be9929a37dc55bbcc1c": {
      "model_module": "@jupyter-widgets/controls",
      "model_module_version": "1.5.0",
      "model_name": "VBoxModel",
      "state": {
       "children": [
        "IPY_MODEL_7182d744ec934bd1bdef12b5780771dd",
        "IPY_MODEL_5077526931be419fa1b475f0a948bd36",
        "IPY_MODEL_03b6a99a09f84b4183ea42578ed53277",
        "IPY_MODEL_b624ecf2dae7408fafb8e204e505bab0"
       ],
       "layout": "IPY_MODEL_69105789151e453a98d185f5550aa4a0"
      }
     },
     "c28d469a43ef48eba17039f9cd461b1f": {
      "model_module": "@jupyter-widgets/controls",
      "model_module_version": "1.5.0",
      "model_name": "VBoxModel",
      "state": {
       "children": [
        "IPY_MODEL_dc94cc0329904970a81dc0bcfc583d5b",
        "IPY_MODEL_520ae58ad06948c6896ed0d52506846f",
        "IPY_MODEL_43d824d114f844f7a5e4d121d516aa99",
        "IPY_MODEL_f2b2484bca264aef8fc03f2dd4c77274",
        "IPY_MODEL_3c80b3ae755e4a198170a66bb08f0ba7",
        "IPY_MODEL_271b2f481bb247fc8db75b5e02d9b1c8"
       ],
       "layout": "IPY_MODEL_3739f8edfe49420d846be94ecfdcb631"
      }
     },
     "c2aec207c28447f4914de2d88af54603": {
      "model_module": "@jupyter-widgets/base",
      "model_module_version": "1.2.0",
      "model_name": "LayoutModel",
      "state": {
       "height": "32px",
       "overflow": "visible",
       "width": "100%"
      }
     },
     "c2eedd83b69a46f3a04f7e195f8480c8": {
      "model_module": "@jupyter-widgets/controls",
      "model_module_version": "1.5.0",
      "model_name": "HTMLModel",
      "state": {
       "layout": "IPY_MODEL_22316a3837cf4a24b9d9fa8797176f4e",
       "style": "IPY_MODEL_a54324f076f94d84917cd54c27f18e76",
       "value": "<i>test test test test test test test test test test test test test test test test test test test test test test test test </i>"
      }
     },
     "c3bc9084f7ea40629b88bc054e2d9d32": {
      "model_module": "@jupyter-widgets/controls",
      "model_module_version": "1.5.0",
      "model_name": "HTMLModel",
      "state": {
       "layout": "IPY_MODEL_9d59e2b44b3c4d2fb4029d15243ac276",
       "style": "IPY_MODEL_9076946eae1b47ea961adf91bae7cb55",
       "value": "<b>Task Name</b>"
      }
     },
     "c400e8e07eb4493aa2ee890ddb7beebe": {
      "model_module": "@jupyter-widgets/controls",
      "model_module_version": "1.5.0",
      "model_name": "LabelModel",
      "state": {
       "layout": "IPY_MODEL_2af44a2c42794cb0822407369ad11704",
       "style": "IPY_MODEL_70123f15227a454a90342fb560698eeb",
       "value": "   objective"
      }
     },
     "c436a18f0435429a96665314f86c382d": {
      "model_module": "@jupyter-widgets/controls",
      "model_module_version": "1.5.0",
      "model_name": "ButtonModel",
      "state": {
       "description": "EDIT",
       "layout": "IPY_MODEL_a7965f1daf7244dba04b7b27b6921e1e",
       "style": "IPY_MODEL_809217b4fa3c413db344fe68b609ab5e"
      }
     },
     "c46cba79318546df98766ca412729be2": {
      "model_module": "@jupyter-widgets/controls",
      "model_module_version": "1.5.0",
      "model_name": "ButtonStyleModel",
      "state": {}
     },
     "c4a3119e6bae404f985fe9ab7f5767c3": {
      "model_module": "@jupyter-widgets/controls",
      "model_module_version": "1.5.0",
      "model_name": "DescriptionStyleModel",
      "state": {
       "description_width": ""
      }
     },
     "c4bfa271a54147f4a0b9ac16403e5188": {
      "model_module": "@jupyter-widgets/base",
      "model_module_version": "1.2.0",
      "model_name": "LayoutModel",
      "state": {
       "height": "32px",
       "overflow": "visible",
       "width": "100%"
      }
     },
     "c4ce43ac4f2c46ea920fc3a1d0d8ced3": {
      "model_module": "@jupyter-widgets/controls",
      "model_module_version": "1.5.0",
      "model_name": "ProgressStyleModel",
      "state": {
       "description_width": ""
      }
     },
     "c50f654bda234414be534d1e4789b4dc": {
      "model_module": "@jupyter-widgets/base",
      "model_module_version": "1.2.0",
      "model_name": "LayoutModel",
      "state": {
       "height": "32px",
       "order": "-2",
       "width": "32px"
      }
     },
     "c539fe2a0c7a435eabaa857d436f4a3f": {
      "model_module": "@jupyter-widgets/controls",
      "model_module_version": "1.5.0",
      "model_name": "DescriptionStyleModel",
      "state": {
       "description_width": ""
      }
     },
     "c61af465eafb4b098e150321c9868dbd": {
      "model_module": "@jupyter-widgets/controls",
      "model_module_version": "1.5.0",
      "model_name": "ButtonModel",
      "state": {
       "layout": "IPY_MODEL_7c0c81ac123341a79a6ce4940d90ffd7",
       "style": "IPY_MODEL_c26e92963c2b4aea955df7f2587c6ee2"
      }
     },
     "c628717420c245918240ada03fb00ac9": {
      "model_module": "@jupyter-widgets/controls",
      "model_module_version": "1.5.0",
      "model_name": "DescriptionStyleModel",
      "state": {
       "description_width": ""
      }
     },
     "c6b3cca41c684ac1a40fa57be4a4e85d": {
      "model_module": "@jupyter-widgets/base",
      "model_module_version": "1.2.0",
      "model_name": "LayoutModel",
      "state": {}
     },
     "c6c8b16ffe5a48a583cddfe024b253cb": {
      "model_module": "@jupyter-widgets/controls",
      "model_module_version": "1.5.0",
      "model_name": "LabelModel",
      "state": {
       "layout": "IPY_MODEL_92bb52e284bb4e9b886da044cc8156fa",
       "style": "IPY_MODEL_6849b49323c6488fb777cd2f615588a9",
       "value": "   objective"
      }
     },
     "c6dbf17eceed4184ba44661f713eef6e": {
      "model_module": "@jupyter-widgets/controls",
      "model_module_version": "1.5.0",
      "model_name": "ButtonStyleModel",
      "state": {}
     },
     "c75abe460f6f4bdfa4f33c04cce5c533": {
      "model_module": "@jupyter-widgets/controls",
      "model_module_version": "1.5.0",
      "model_name": "ProgressStyleModel",
      "state": {
       "description_width": ""
      }
     },
     "c78099399ce2432e8ab83278137f1be6": {
      "model_module": "@jupyter-widgets/base",
      "model_module_version": "1.2.0",
      "model_name": "LayoutModel",
      "state": {
       "display": "none",
       "width": "60px"
      }
     },
     "c79464e4314142eea986b8d732ca75bb": {
      "model_module": "@jupyter-widgets/controls",
      "model_module_version": "1.5.0",
      "model_name": "LabelModel",
      "state": {
       "layout": "IPY_MODEL_f882aae27896445497df29c682fab3e7",
       "style": "IPY_MODEL_2f47079a403046d5964930e40feb2ddd",
       "value": "   objective"
      }
     },
     "c798bee7685a431c8efcfb2fab5ecfeb": {
      "model_module": "@jupyter-widgets/controls",
      "model_module_version": "1.5.0",
      "model_name": "ButtonStyleModel",
      "state": {}
     },
     "c7a4986c8ecb48a59968a3e9e043640a": {
      "model_module": "@jupyter-widgets/controls",
      "model_module_version": "1.5.0",
      "model_name": "DescriptionStyleModel",
      "state": {
       "description_width": ""
      }
     },
     "c7d5c0f18a8a4d20afc8b3055e1cd36e": {
      "model_module": "@jupyter-widgets/controls",
      "model_module_version": "1.5.0",
      "model_name": "ButtonModel",
      "state": {
       "layout": "IPY_MODEL_740bb652809940a1bdb70d937aa08e13",
       "style": "IPY_MODEL_354fe42dc9764fd29639f767e16f4014"
      }
     },
     "c80112d34d5b4f6997dde4245ee18f42": {
      "model_module": "@jupyter-widgets/controls",
      "model_module_version": "1.5.0",
      "model_name": "DropdownModel",
      "state": {
       "_options_labels": [
        "Any"
       ],
       "disabled": true,
       "index": 0,
       "layout": "IPY_MODEL_193caaf46c854445b8ea8cdbe67f8757",
       "style": "IPY_MODEL_e2c9f73c07ff47f7882b9cb9e8aded29"
      }
     },
     "c8119514a4b94477a2b10677a071e153": {
      "model_module": "@jupyter-widgets/controls",
      "model_module_version": "1.5.0",
      "model_name": "ButtonModel",
      "state": {
       "description": "EDIT",
       "layout": "IPY_MODEL_c78099399ce2432e8ab83278137f1be6",
       "style": "IPY_MODEL_58bc43e5cf7344cab166f63ee5df7c74"
      }
     },
     "c898c1b5e6d546c6b7a7cd8e4594718e": {
      "model_module": "@jupyter-widgets/controls",
      "model_module_version": "1.5.0",
      "model_name": "HBoxModel",
      "state": {
       "children": [
        "IPY_MODEL_19a8bb43f3c34ce293fcfaa1aa3ae23d",
        "IPY_MODEL_b8e3bc9994e041ea823d832f1bd386ea",
        "IPY_MODEL_3a13895d05cd4da8b8e93fc92718ae17",
        "IPY_MODEL_8d6b5e55b98046909cfa41bc1adce9f2"
       ],
       "layout": "IPY_MODEL_69f2ee70a0904c47b6d24f31f384c90d"
      }
     },
     "c89d181232b64d0585444beb715bb3a1": {
      "model_module": "@jupyter-widgets/controls",
      "model_module_version": "1.5.0",
      "model_name": "HTMLModel",
      "state": {
       "layout": "IPY_MODEL_42abfd692dca4e64b7bf689833547fa9",
       "style": "IPY_MODEL_5055e44ceab945bb9b1084d2b6b7ea15",
       "value": "<i>test test test test test test test test test test test test test test test test test test test test test test test test </i>"
      }
     },
     "c90fbb41f13c444ab1b8c1a80912ab75": {
      "model_module": "@jupyter-widgets/controls",
      "model_module_version": "1.5.0",
      "model_name": "ProgressStyleModel",
      "state": {
       "description_width": ""
      }
     },
     "c977d447b9f24b678c143ec6d3b935b4": {
      "model_module": "@jupyter-widgets/controls",
      "model_module_version": "1.5.0",
      "model_name": "LabelModel",
      "state": {
       "layout": "IPY_MODEL_03a7b0643bcd4fb99b6873caa3a92713",
       "style": "IPY_MODEL_64be6ee2b1aa45759764fc7490424048",
       "value": "   objective"
      }
     },
     "c98ac76658fe47fe8455a08b87f9f332": {
      "model_module": "@jupyter-widgets/controls",
      "model_module_version": "1.5.0",
      "model_name": "DescriptionStyleModel",
      "state": {
       "description_width": ""
      }
     },
     "c9a746c5e04346f984c4a4c0dbfbd4be": {
      "model_module": "@jupyter-widgets/controls",
      "model_module_version": "1.5.0",
      "model_name": "IntProgressModel",
      "state": {
       "layout": "IPY_MODEL_2c57817a44b343278ff2119504862dfd",
       "style": "IPY_MODEL_08c28bb8c2914a9a92d1f374ef1fb123",
       "value": 30
      }
     },
     "ca17401358da49dd99b04ee7eb378fe7": {
      "model_module": "@jupyter-widgets/controls",
      "model_module_version": "1.5.0",
      "model_name": "DescriptionStyleModel",
      "state": {
       "description_width": ""
      }
     },
     "ca561bc873da421a9e1e110c0c3d2815": {
      "model_module": "@jupyter-widgets/base",
      "model_module_version": "1.2.0",
      "model_name": "LayoutModel",
      "state": {
       "height": "32px",
       "order": "-2",
       "width": "32px"
      }
     },
     "ca5dd75808e646f99d4744addd41f8f2": {
      "model_module": "@jupyter-widgets/base",
      "model_module_version": "1.2.0",
      "model_name": "LayoutModel",
      "state": {
       "height": "32px",
       "order": "-2",
       "width": "32px"
      }
     },
     "ca6d1174e204420581655cebf7ffbf0d": {
      "model_module": "@jupyter-widgets/controls",
      "model_module_version": "1.5.0",
      "model_name": "ButtonStyleModel",
      "state": {}
     },
     "cac0e3bc1fef434ca8c6a17e77688c3e": {
      "model_module": "@jupyter-widgets/base",
      "model_module_version": "1.2.0",
      "model_name": "LayoutModel",
      "state": {}
     },
     "cac15aa6854d4bb4bfe687f751f0a1c5": {
      "model_module": "@jupyter-widgets/base",
      "model_module_version": "1.2.0",
      "model_name": "LayoutModel",
      "state": {
       "display": "none",
       "width": "60px"
      }
     },
     "cae8c32bee9445bea09557c711bb3347": {
      "model_module": "@jupyter-widgets/base",
      "model_module_version": "1.2.0",
      "model_name": "LayoutModel",
      "state": {}
     },
     "cafe79b87a84489a850638ec9be19243": {
      "model_module": "@jupyter-widgets/controls",
      "model_module_version": "1.5.0",
      "model_name": "DescriptionStyleModel",
      "state": {
       "description_width": ""
      }
     },
     "cb6f3309429149399515757734424736": {
      "model_module": "@jupyter-widgets/controls",
      "model_module_version": "1.5.0",
      "model_name": "LabelModel",
      "state": {
       "layout": "IPY_MODEL_16671204a5514185962fd8e28b91893b",
       "style": "IPY_MODEL_cafe79b87a84489a850638ec9be19243",
       "value": "   objective"
      }
     },
     "cc0d425805a142b99639d2f1e1fca32d": {
      "model_module": "@jupyter-widgets/base",
      "model_module_version": "1.2.0",
      "model_name": "LayoutModel",
      "state": {
       "height": "32px",
       "overflow": "visible",
       "width": "100%"
      }
     },
     "cc1247b0ddfb4692a3db91de17442814": {
      "model_module": "@jupyter-widgets/base",
      "model_module_version": "1.2.0",
      "model_name": "LayoutModel",
      "state": {
       "border": "3px solid white",
       "flex": "1 1 0%",
       "margin": "10px",
       "min_width": "400px",
       "overflow": "visible",
       "padding": "10px",
       "width": "auto"
      }
     },
     "cc16fd79e3e5439ca878ad39f28e7193": {
      "model_module": "@jupyter-widgets/controls",
      "model_module_version": "1.5.0",
      "model_name": "LabelModel",
      "state": {
       "layout": "IPY_MODEL_ae1401f216274ed09e957d8671592e42",
       "style": "IPY_MODEL_de9ff5d309e740468a3e5ac6f900b8b4",
       "value": "   objective"
      }
     },
     "cc821d96649e44e6958f8b29337e45ca": {
      "model_module": "@jupyter-widgets/controls",
      "model_module_version": "1.5.0",
      "model_name": "DescriptionStyleModel",
      "state": {
       "description_width": ""
      }
     },
     "cc826c789787472181b1d10a14abfdd9": {
      "model_module": "@jupyter-widgets/base",
      "model_module_version": "1.2.0",
      "model_name": "LayoutModel",
      "state": {}
     },
     "cc856595929e4b0eaf718769fea4f696": {
      "model_module": "@jupyter-widgets/base",
      "model_module_version": "1.2.0",
      "model_name": "LayoutModel",
      "state": {
       "height": "32px",
       "overflow": "visible",
       "width": "100%"
      }
     },
     "ccab510fbbaf4efb88156f592d6137c7": {
      "model_module": "@jupyter-widgets/base",
      "model_module_version": "1.2.0",
      "model_name": "LayoutModel",
      "state": {
       "height": "32px",
       "order": "-2",
       "width": "32px"
      }
     },
     "ccea1c5c45f24da7b46514c7f8fefa78": {
      "model_module": "@jupyter-widgets/controls",
      "model_module_version": "1.5.0",
      "model_name": "ButtonStyleModel",
      "state": {}
     },
     "cced75c7f6db40208fc1badbbe50771f": {
      "model_module": "@jupyter-widgets/base",
      "model_module_version": "1.2.0",
      "model_name": "LayoutModel",
      "state": {
       "height": "32px",
       "order": "-2",
       "width": "32px"
      }
     },
     "ccf82d41fdc644d2a4681c0772650382": {
      "model_module": "@jupyter-widgets/controls",
      "model_module_version": "1.5.0",
      "model_name": "HTMLModel",
      "state": {
       "layout": "IPY_MODEL_a8a056cc254a4c278bad29bf208d555a",
       "style": "IPY_MODEL_d9058ee4cfbf4a4cbf605cb41f0752ac",
       "value": "<b>Task Name</b>"
      }
     },
     "cd3b8f1b85684239bca836ea7e97c9df": {
      "model_module": "@jupyter-widgets/base",
      "model_module_version": "1.2.0",
      "model_name": "LayoutModel",
      "state": {
       "height": "32px",
       "order": "-2",
       "width": "32px"
      }
     },
     "cd42b6eaa7cb4617b9874089c716e945": {
      "model_module": "@jupyter-widgets/controls",
      "model_module_version": "1.5.0",
      "model_name": "ButtonModel",
      "state": {
       "description": "EDIT",
       "layout": "IPY_MODEL_540785d14d3a45a7b6e046fe64fe094d",
       "style": "IPY_MODEL_3bd4171296e9490da32f30ad53d455e3"
      }
     },
     "cdf6a1bd8dc04c7c8eebc9fe2cac441e": {
      "model_module": "@jupyter-widgets/base",
      "model_module_version": "1.2.0",
      "model_name": "LayoutModel",
      "state": {}
     },
     "ce13f9130c5b4fb488534b0a3dbdb10f": {
      "model_module": "@jupyter-widgets/controls",
      "model_module_version": "1.5.0",
      "model_name": "ButtonModel",
      "state": {
       "layout": "IPY_MODEL_830c403b2725429391764f4739d9b4c4",
       "style": "IPY_MODEL_47e7e25a9a4f48eaac299e7bd1b3b839"
      }
     },
     "ce5b8612c5ff4d5181ee9affd6e4cccb": {
      "model_module": "@jupyter-widgets/controls",
      "model_module_version": "1.5.0",
      "model_name": "HBoxModel",
      "state": {
       "children": [
        "IPY_MODEL_f412ef5d0cbe4477bd75e4aa09b6f68f",
        "IPY_MODEL_34cfa97b6f8d4ac0a0e34478526aa03d",
        "IPY_MODEL_fd10cce19497434a80e6da26d4af2e38",
        "IPY_MODEL_f423e1886d94410894d0c4399d7ffc33"
       ],
       "layout": "IPY_MODEL_b9d44ea29cb34660b44dea50b64987e5"
      }
     },
     "cea44ee15fec4324964f0b974d89f7e6": {
      "model_module": "@jupyter-widgets/controls",
      "model_module_version": "1.5.0",
      "model_name": "ButtonModel",
      "state": {
       "description": "EDIT",
       "layout": "IPY_MODEL_fb3708d1edb3428ab20cee0bb307cacd",
       "style": "IPY_MODEL_28b112d0fd374d809914f4ae559e6d35"
      }
     },
     "ceb54c0ccb554d51a7a48ea538a959b5": {
      "model_module": "@jupyter-widgets/controls",
      "model_module_version": "1.5.0",
      "model_name": "ButtonStyleModel",
      "state": {}
     },
     "cee0d4cbecf94e92a3cb3adee875ab47": {
      "model_module": "@jupyter-widgets/controls",
      "model_module_version": "1.5.0",
      "model_name": "LabelModel",
      "state": {
       "layout": "IPY_MODEL_aec518240bd64f3db0141f05c34b8883",
       "style": "IPY_MODEL_ac7ce322a86040b1a78aeaf0f7cd6a85",
       "value": "   objective"
      }
     },
     "cef2eb3f7648424cbbade17382da440d": {
      "model_module": "@jupyter-widgets/controls",
      "model_module_version": "1.5.0",
      "model_name": "IntProgressModel",
      "state": {
       "layout": "IPY_MODEL_1747c75ef94a4c319befa5e8c6448e5a",
       "style": "IPY_MODEL_4a04d54f691447cfa2eac9c47a24ad7b",
       "value": 30
      }
     },
     "cf09b7c9df1e4f45ab5d8981cc89de3c": {
      "model_module": "@jupyter-widgets/base",
      "model_module_version": "1.2.0",
      "model_name": "LayoutModel",
      "state": {
       "height": "32px",
       "overflow": "visible",
       "width": "100%"
      }
     },
     "cf171954f499438387e6c2d91d44a752": {
      "model_module": "@jupyter-widgets/base",
      "model_module_version": "1.2.0",
      "model_name": "LayoutModel",
      "state": {
       "height": "32px",
       "overflow": "visible",
       "width": "100%"
      }
     },
     "cf7d624a9bbd4680a79c3995a83bca6f": {
      "model_module": "@jupyter-widgets/base",
      "model_module_version": "1.2.0",
      "model_name": "LayoutModel",
      "state": {
       "border": "3px solid white",
       "flex": "1 1 0%",
       "margin": "10px",
       "min_width": "400px",
       "overflow": "visible",
       "padding": "10px",
       "width": "auto"
      }
     },
     "cfc0b3a339bf4ac0913f46a333e7c0af": {
      "model_module": "@jupyter-widgets/controls",
      "model_module_version": "1.5.0",
      "model_name": "ButtonModel",
      "state": {
       "layout": "IPY_MODEL_6963021a718643ddb731b10727633b42",
       "style": "IPY_MODEL_663d00036a77433e9a0a57b3ed184c29"
      }
     },
     "cfcfa92982954d8fa8df62b790a88626": {
      "model_module": "@jupyter-widgets/controls",
      "model_module_version": "1.5.0",
      "model_name": "ButtonStyleModel",
      "state": {}
     },
     "cffbd474e9a3454c8464d7ef01c03225": {
      "model_module": "@jupyter-widgets/base",
      "model_module_version": "1.2.0",
      "model_name": "LayoutModel",
      "state": {
       "height": "32px",
       "overflow": "visible",
       "width": "100%"
      }
     },
     "d003bc57ba614c0d811533de42c16845": {
      "model_module": "@jupyter-widgets/base",
      "model_module_version": "1.2.0",
      "model_name": "LayoutModel",
      "state": {
       "order": "-1",
       "overflow": "visible",
       "padding": "1px",
       "width": "0px"
      }
     },
     "d0843c4fadbe49ff883802db7dc21973": {
      "model_module": "@jupyter-widgets/controls",
      "model_module_version": "1.5.0",
      "model_name": "ButtonStyleModel",
      "state": {}
     },
     "d09ed4a60fb74f2aaa07154ff9ade272": {
      "model_module": "@jupyter-widgets/controls",
      "model_module_version": "1.5.0",
      "model_name": "DescriptionStyleModel",
      "state": {
       "description_width": ""
      }
     },
     "d0c103a0cc7f4cdaad8a745f14a6bec2": {
      "model_module": "@jupyter-widgets/base",
      "model_module_version": "1.2.0",
      "model_name": "LayoutModel",
      "state": {
       "height": "32px",
       "overflow": "visible",
       "width": "100%"
      }
     },
     "d0c747f907084f9c8555be2d4523499d": {
      "model_module": "@jupyter-widgets/controls",
      "model_module_version": "1.5.0",
      "model_name": "ButtonModel",
      "state": {
       "layout": "IPY_MODEL_9863cf44ba934a8d8b381e66f9ee73ee",
       "style": "IPY_MODEL_c6dbf17eceed4184ba44661f713eef6e"
      }
     },
     "d12e5590e2f04969801704f0fb24d5fb": {
      "model_module": "@jupyter-widgets/base",
      "model_module_version": "1.2.0",
      "model_name": "LayoutModel",
      "state": {}
     },
     "d142080a200940d18cdd4fe6350e9591": {
      "model_module": "@jupyter-widgets/controls",
      "model_module_version": "1.5.0",
      "model_name": "HBoxModel",
      "state": {
       "children": [
        "IPY_MODEL_aadd91e9a4274efcbb812a34c8edbcda",
        "IPY_MODEL_a24483e2fa854d718bfb7f680db4d269",
        "IPY_MODEL_9f02c50a0b5748fba35ee650c18689d9",
        "IPY_MODEL_0c4ddff0add24876a613e8517a2af403"
       ],
       "layout": "IPY_MODEL_7b640594798a4a6cab33bebc939f0d15"
      }
     },
     "d1a4d816071e4919859cd85acf1a8d3c": {
      "model_module": "@jupyter-widgets/base",
      "model_module_version": "1.2.0",
      "model_name": "LayoutModel",
      "state": {
       "height": "32px",
       "order": "-2",
       "width": "32px"
      }
     },
     "d1a5610af1d84a0f98535037c4f48080": {
      "model_module": "@jupyter-widgets/controls",
      "model_module_version": "1.5.0",
      "model_name": "ButtonStyleModel",
      "state": {}
     },
     "d1aa824a5fd949aeaf7725263672f080": {
      "model_module": "@jupyter-widgets/controls",
      "model_module_version": "1.5.0",
      "model_name": "ButtonStyleModel",
      "state": {}
     },
     "d1b7a0375c694a66894846dff0c75fd4": {
      "model_module": "@jupyter-widgets/controls",
      "model_module_version": "1.5.0",
      "model_name": "DescriptionStyleModel",
      "state": {
       "description_width": ""
      }
     },
     "d24ede7ec6374bd2a3578019edfc311b": {
      "model_module": "@jupyter-widgets/controls",
      "model_module_version": "1.5.0",
      "model_name": "ButtonModel",
      "state": {
       "layout": "IPY_MODEL_5bd932502d314e89a7b233d9b9eac66a",
       "style": "IPY_MODEL_11a2e05b6d304a3e8dd9c55546692059"
      }
     },
     "d24f39f13fba4aa48ce8978fd6f9300a": {
      "model_module": "@jupyter-widgets/controls",
      "model_module_version": "1.5.0",
      "model_name": "DescriptionStyleModel",
      "state": {
       "description_width": ""
      }
     },
     "d253a05300b4446d821d64fd1d82ea50": {
      "model_module": "@jupyter-widgets/controls",
      "model_module_version": "1.5.0",
      "model_name": "HBoxModel",
      "state": {
       "children": [
        "IPY_MODEL_ef031de5d1574dec9356bffe8f8a57fe",
        "IPY_MODEL_f7c458af4df540e5a6601b5c08ffbb68"
       ],
       "layout": "IPY_MODEL_86eec800fcc041ffa2ac47166baeee15"
      }
     },
     "d29ed13eee5e44909f22b6504416398c": {
      "model_module": "@jupyter-widgets/controls",
      "model_module_version": "1.5.0",
      "model_name": "ButtonStyleModel",
      "state": {}
     },
     "d2b068a35b184ca1a9b1cdfe21704bca": {
      "model_module": "@jupyter-widgets/base",
      "model_module_version": "1.2.0",
      "model_name": "LayoutModel",
      "state": {}
     },
     "d2cca0376807432691e170a49a66f4eb": {
      "model_module": "@jupyter-widgets/controls",
      "model_module_version": "1.5.0",
      "model_name": "HBoxModel",
      "state": {
       "children": [
        "IPY_MODEL_545f5451b8af44e7abe05ca54c56a34d",
        "IPY_MODEL_4ad8aead5954490bb2e2687d5d927a1c"
       ],
       "layout": "IPY_MODEL_c6b3cca41c684ac1a40fa57be4a4e85d"
      }
     },
     "d2e894454a184e0697e873c18f846ab0": {
      "model_module": "@jupyter-widgets/base",
      "model_module_version": "1.2.0",
      "model_name": "LayoutModel",
      "state": {
       "overflow": "visible",
       "width": "100%"
      }
     },
     "d2f27a6d24a64fffb4bc14d7c49b40f0": {
      "model_module": "@jupyter-widgets/base",
      "model_module_version": "1.2.0",
      "model_name": "LayoutModel",
      "state": {
       "order": "-1",
       "overflow": "visible",
       "padding": "1px",
       "width": "0px"
      }
     },
     "d310fe6ce82747ce9c4c3f55533f27ba": {
      "model_module": "@jupyter-widgets/base",
      "model_module_version": "1.2.0",
      "model_name": "LayoutModel",
      "state": {
       "height": "32px",
       "order": "-2",
       "width": "32px"
      }
     },
     "d3153f29f9c84404ae8c419ca4fe8799": {
      "model_module": "@jupyter-widgets/base",
      "model_module_version": "1.2.0",
      "model_name": "LayoutModel",
      "state": {}
     },
     "d34c6e3f65ad40c29fd291d6658125ce": {
      "model_module": "@jupyter-widgets/controls",
      "model_module_version": "1.5.0",
      "model_name": "IntProgressModel",
      "state": {
       "layout": "IPY_MODEL_09f4216e16854adeb200dc23d8f8bca2",
       "style": "IPY_MODEL_937478cd2fbf46a996627c593549a4c2",
       "value": 30
      }
     },
     "d35fd2f699b84f5ebdf6c5e8d6bb5b36": {
      "model_module": "@jupyter-widgets/controls",
      "model_module_version": "1.5.0",
      "model_name": "ButtonStyleModel",
      "state": {}
     },
     "d37cdb3e7d7146c7a88ad5c54a883bed": {
      "model_module": "@jupyter-widgets/base",
      "model_module_version": "1.2.0",
      "model_name": "LayoutModel",
      "state": {}
     },
     "d3a260e3c0c3492fb0bfb82bab6466b0": {
      "model_module": "@jupyter-widgets/controls",
      "model_module_version": "1.5.0",
      "model_name": "ButtonStyleModel",
      "state": {}
     },
     "d3aadd15dc034581b9cfac7f6fc6e8d9": {
      "model_module": "@jupyter-widgets/base",
      "model_module_version": "1.2.0",
      "model_name": "LayoutModel",
      "state": {
       "height": "32px",
       "order": "-2",
       "width": "32px"
      }
     },
     "d3b1c0942077417ea9c8ee4c7fd0b2c2": {
      "model_module": "@jupyter-widgets/base",
      "model_module_version": "1.2.0",
      "model_name": "LayoutModel",
      "state": {
       "order": "-1",
       "overflow": "visible",
       "padding": "1px",
       "width": "0px"
      }
     },
     "d3d4c104c1284b3c9cd474864f266cc8": {
      "model_module": "@jupyter-widgets/base",
      "model_module_version": "1.2.0",
      "model_name": "LayoutModel",
      "state": {
       "order": "-1",
       "overflow": "visible",
       "padding": "1px",
       "width": "0px"
      }
     },
     "d3db4b1d02304476be61bbfd1786591e": {
      "model_module": "@jupyter-widgets/base",
      "model_module_version": "1.2.0",
      "model_name": "LayoutModel",
      "state": {}
     },
     "d3e8405a0c79400a8cdd7395f54ecb57": {
      "model_module": "@jupyter-widgets/controls",
      "model_module_version": "1.5.0",
      "model_name": "ButtonStyleModel",
      "state": {}
     },
     "d424fe736755468da59e3e5c965f3960": {
      "model_module": "@jupyter-widgets/controls",
      "model_module_version": "1.5.0",
      "model_name": "HTMLModel",
      "state": {
       "layout": "IPY_MODEL_0eaba4b3be8046459d19ca874203e145",
       "style": "IPY_MODEL_6cecd61b959b4c64b0599f979ec6f11e",
       "value": "<font size=\"1\">Path/Path/Path/Path/</font size>"
      }
     },
     "d4268afbc14941669edf4da26736e6cb": {
      "model_module": "@jupyter-widgets/base",
      "model_module_version": "1.2.0",
      "model_name": "LayoutModel",
      "state": {}
     },
     "d46f1a43653d4d5fb7a17a287a8ef13f": {
      "model_module": "@jupyter-widgets/base",
      "model_module_version": "1.2.0",
      "model_name": "LayoutModel",
      "state": {}
     },
     "d4e9fe0a8a5f4fd48342b546bdbb47f2": {
      "model_module": "@jupyter-widgets/base",
      "model_module_version": "1.2.0",
      "model_name": "LayoutModel",
      "state": {
       "display": "none",
       "width": "60px"
      }
     },
     "d4ef62aa9985405d8910a34d503d52e5": {
      "model_module": "@jupyter-widgets/base",
      "model_module_version": "1.2.0",
      "model_name": "LayoutModel",
      "state": {
       "order": "-1",
       "overflow": "visible",
       "padding": "1px",
       "width": "0px"
      }
     },
     "d5041c1c277046c1b84de3c350e8bf11": {
      "model_module": "@jupyter-widgets/base",
      "model_module_version": "1.2.0",
      "model_name": "LayoutModel",
      "state": {}
     },
     "d504a0ea1ba24292a2d9633885bcab69": {
      "model_module": "@jupyter-widgets/controls",
      "model_module_version": "1.5.0",
      "model_name": "ProgressStyleModel",
      "state": {
       "description_width": ""
      }
     },
     "d52590e6550043dd966a4780bc8c4588": {
      "model_module": "@jupyter-widgets/controls",
      "model_module_version": "1.5.0",
      "model_name": "ButtonStyleModel",
      "state": {}
     },
     "d571bfda948f41f0987b3b72e0e7c27a": {
      "model_module": "@jupyter-widgets/base",
      "model_module_version": "1.2.0",
      "model_name": "LayoutModel",
      "state": {
       "overflow": "visible",
       "width": "100%"
      }
     },
     "d5945022e2f84e7695b3c634133c1b76": {
      "model_module": "@jupyter-widgets/base",
      "model_module_version": "1.2.0",
      "model_name": "LayoutModel",
      "state": {
       "order": "-1",
       "overflow": "visible",
       "padding": "1px",
       "width": "0px"
      }
     },
     "d5dfce578e154e33be046a0d1a9cdb64": {
      "model_module": "@jupyter-widgets/controls",
      "model_module_version": "1.5.0",
      "model_name": "HTMLModel",
      "state": {
       "layout": "IPY_MODEL_76f0f120f90646f9b7ee1d307d0cae2b",
       "style": "IPY_MODEL_784c10a256ef4f879386b5cde1c864fa",
       "value": "<b>Task Name</b>"
      }
     },
     "d5f8255dbd4d42738f27f2b3440c3d6d": {
      "model_module": "@jupyter-widgets/controls",
      "model_module_version": "1.5.0",
      "model_name": "ButtonModel",
      "state": {
       "layout": "IPY_MODEL_3e652b20631544b1bb8d948ffc6aa7d8",
       "style": "IPY_MODEL_42961968b03c4c2b92c63b5c50be2599"
      }
     },
     "d6351b45c91847f8bdc7666646acd6cc": {
      "model_module": "@jupyter-widgets/base",
      "model_module_version": "1.2.0",
      "model_name": "LayoutModel",
      "state": {
       "display": "none",
       "width": "60px"
      }
     },
     "d64c0a4c3f364893a8c8f41799c54ece": {
      "model_module": "@jupyter-widgets/controls",
      "model_module_version": "1.5.0",
      "model_name": "LabelModel",
      "state": {
       "layout": "IPY_MODEL_d4ef62aa9985405d8910a34d503d52e5",
       "style": "IPY_MODEL_6191db6e1c8049edb203a8fd19a5b9bd",
       "value": "   objective"
      }
     },
     "d67cee3295e04b63a6eb9d761bac0e87": {
      "model_module": "@jupyter-widgets/controls",
      "model_module_version": "1.5.0",
      "model_name": "VBoxModel",
      "state": {
       "children": [
        "IPY_MODEL_f9384b1b524446628f09191ab7fec8a9",
        "IPY_MODEL_0b8fad0a5ddb47fbbb5b70221bdfa4cd",
        "IPY_MODEL_c89d181232b64d0585444beb715bb3a1",
        "IPY_MODEL_e7681e3b1f874bd3b3ea2a176d0cb33a"
       ],
       "layout": "IPY_MODEL_fe9cd52c209d4528bd55ab855162be11"
      }
     },
     "d694361f73764e61b7acc2f699036bad": {
      "model_module": "@jupyter-widgets/controls",
      "model_module_version": "1.5.0",
      "model_name": "DescriptionStyleModel",
      "state": {
       "description_width": ""
      }
     },
     "d6aa9c0c511245fb96f34e4b2a8a0c92": {
      "model_module": "@jupyter-widgets/base",
      "model_module_version": "1.2.0",
      "model_name": "LayoutModel",
      "state": {
       "border": "3px solid white",
       "flex": "1 1 0%",
       "margin": "10px",
       "min_width": "400px",
       "overflow": "visible",
       "padding": "10px",
       "width": "auto"
      }
     },
     "d6de0382f27a40cdbe8b520f0a71d456": {
      "model_module": "@jupyter-widgets/controls",
      "model_module_version": "1.5.0",
      "model_name": "IntProgressModel",
      "state": {
       "layout": "IPY_MODEL_52b1f994f3e1448dba95b4adcb3ffffe",
       "style": "IPY_MODEL_366b998be3314cc88cd44d4d6662fa11",
       "value": 30
      }
     },
     "d71f221ba87d4bedb05e982aae40d465": {
      "model_module": "@jupyter-widgets/controls",
      "model_module_version": "1.5.0",
      "model_name": "HBoxModel",
      "state": {
       "children": [
        "IPY_MODEL_f16d7d8edebf4fd2a866412a2a69cebc",
        "IPY_MODEL_02c7383bd119457fb4b164c468d4f853",
        "IPY_MODEL_cee0d4cbecf94e92a3cb3adee875ab47",
        "IPY_MODEL_8f2d2975c17444d497a221ea312c8b1a"
       ],
       "layout": "IPY_MODEL_059b81aa1e7c47489ea114a5fbea9f01"
      }
     },
     "d7284b22481c4648b6bed568b499c938": {
      "model_module": "@jupyter-widgets/base",
      "model_module_version": "1.2.0",
      "model_name": "LayoutModel",
      "state": {
       "order": "-1",
       "overflow": "visible",
       "padding": "1px",
       "width": "0px"
      }
     },
     "d7c6b7cb2de348fcaea568509273d1c2": {
      "model_module": "@jupyter-widgets/controls",
      "model_module_version": "1.5.0",
      "model_name": "DescriptionStyleModel",
      "state": {
       "description_width": ""
      }
     },
     "d82941b9504c4f1f973ba5eda4a908e3": {
      "model_module": "@jupyter-widgets/base",
      "model_module_version": "1.2.0",
      "model_name": "LayoutModel",
      "state": {
       "overflow": "visible",
       "width": "100%"
      }
     },
     "d82c0925a67847f5a555113cb30afbb0": {
      "model_module": "@jupyter-widgets/controls",
      "model_module_version": "1.5.0",
      "model_name": "ButtonModel",
      "state": {
       "layout": "IPY_MODEL_1e00409f60424895a1b4b838182c2c9e",
       "style": "IPY_MODEL_4e7861a08008491d9d8a323ae4a0ec38"
      }
     },
     "d84326e578d24715a80da872b99bbf74": {
      "model_module": "@jupyter-widgets/base",
      "model_module_version": "1.2.0",
      "model_name": "LayoutModel",
      "state": {
       "height": "32px",
       "order": "-2",
       "width": "32px"
      }
     },
     "d844ad8e6b5346188dee70b399c487d0": {
      "model_module": "@jupyter-widgets/controls",
      "model_module_version": "1.5.0",
      "model_name": "ButtonModel",
      "state": {
       "layout": "IPY_MODEL_31b8d8159e164bc5a933d32c6962d3e1",
       "style": "IPY_MODEL_851140b2faf34fff9f073126acf6e0e8"
      }
     },
     "d8587d7e88844ba981d6c9c8bb6a7318": {
      "model_module": "@jupyter-widgets/controls",
      "model_module_version": "1.5.0",
      "model_name": "ButtonModel",
      "state": {
       "description": "EDIT",
       "layout": "IPY_MODEL_aef1770401f3425591e8cc7493716946",
       "style": "IPY_MODEL_8e7b6575e4814503920ed89e625c1896"
      }
     },
     "d873a20486cd4defa74b1608f3cbdd28": {
      "model_module": "@jupyter-widgets/base",
      "model_module_version": "1.2.0",
      "model_name": "LayoutModel",
      "state": {
       "display": "none",
       "width": "60px"
      }
     },
     "d89d0c29725949a98d6cf07a4d05e901": {
      "model_module": "@jupyter-widgets/base",
      "model_module_version": "1.2.0",
      "model_name": "LayoutModel",
      "state": {
       "display": "none",
       "width": "60px"
      }
     },
     "d9058ee4cfbf4a4cbf605cb41f0752ac": {
      "model_module": "@jupyter-widgets/controls",
      "model_module_version": "1.5.0",
      "model_name": "DescriptionStyleModel",
      "state": {
       "description_width": ""
      }
     },
     "d95537cab540492f865ba2f2b750ece6": {
      "model_module": "@jupyter-widgets/controls",
      "model_module_version": "1.5.0",
      "model_name": "ProgressStyleModel",
      "state": {
       "description_width": ""
      }
     },
     "d962b1407baf4a44be3c833880d78703": {
      "model_module": "@jupyter-widgets/controls",
      "model_module_version": "1.5.0",
      "model_name": "ButtonStyleModel",
      "state": {}
     },
     "d9fa0e3107f14368a4698ddf2373efb3": {
      "model_module": "@jupyter-widgets/controls",
      "model_module_version": "1.5.0",
      "model_name": "DescriptionStyleModel",
      "state": {
       "description_width": ""
      }
     },
     "d9ff6c58f5d04c51a3b83ff489202036": {
      "model_module": "@jupyter-widgets/controls",
      "model_module_version": "1.5.0",
      "model_name": "HBoxModel",
      "state": {
       "children": [
        "IPY_MODEL_602870c71dee492385d128248730713b",
        "IPY_MODEL_14f36a133764494db16d1c3319a8a921",
        "IPY_MODEL_7f07dcfd09cf4be8b045d4b8092c35c0",
        "IPY_MODEL_4743e6d39056414f887c06c73cb71918"
       ],
       "layout": "IPY_MODEL_0812a066ef4b48599da67b7116b99390"
      }
     },
     "da172963a2cd40a189d912309453d793": {
      "model_module": "@jupyter-widgets/controls",
      "model_module_version": "1.5.0",
      "model_name": "ButtonModel",
      "state": {
       "description": "EDIT",
       "layout": "IPY_MODEL_2cc24be75df64f1abd2cdde4358d31ec",
       "style": "IPY_MODEL_ecc37e877d9941e3955b1d9def343435"
      }
     },
     "da6a68ed5bfc45a19deace0ba2a0fddd": {
      "model_module": "@jupyter-widgets/controls",
      "model_module_version": "1.5.0",
      "model_name": "DescriptionStyleModel",
      "state": {
       "description_width": ""
      }
     },
     "da8666d5b6594b5d893606b8eb7ac0cb": {
      "model_module": "@jupyter-widgets/controls",
      "model_module_version": "1.5.0",
      "model_name": "HBoxModel",
      "state": {
       "children": [
        "IPY_MODEL_06cf99f61ac44fbeabe3d8b49c071ce1",
        "IPY_MODEL_14947d80466549cfa17ed30f27d4cbb5",
        "IPY_MODEL_6079f6044f0a4aa19be86fa83738f95e",
        "IPY_MODEL_98a695a665f6489fb0dcfbd1e0c7245c"
       ],
       "layout": "IPY_MODEL_480e7943e9454995a2b1286c9a8ca311"
      }
     },
     "daccf2585da14773a5398198c630c0af": {
      "model_module": "@jupyter-widgets/controls",
      "model_module_version": "1.5.0",
      "model_name": "ButtonModel",
      "state": {
       "description": "EDIT",
       "layout": "IPY_MODEL_60037c9f10be4e65884bcfb149510b25",
       "style": "IPY_MODEL_09f0ec577e25433cacfe87786c8b0764"
      }
     },
     "db12fd04a62d48a88b7a7348d73a07f7": {
      "model_module": "@jupyter-widgets/controls",
      "model_module_version": "1.5.0",
      "model_name": "DescriptionStyleModel",
      "state": {
       "description_width": ""
      }
     },
     "db1535a375654aabaee2ed358a8f0de2": {
      "model_module": "@jupyter-widgets/controls",
      "model_module_version": "1.5.0",
      "model_name": "ButtonModel",
      "state": {
       "layout": "IPY_MODEL_7618b0017b7d4f51833c35987f729a9a",
       "style": "IPY_MODEL_9a9aa3c41a704d638e2ffe0ef684a650"
      }
     },
     "db383c7798184537b3d0e5fdd1857b8d": {
      "model_module": "@jupyter-widgets/controls",
      "model_module_version": "1.5.0",
      "model_name": "LabelModel",
      "state": {
       "layout": "IPY_MODEL_41232ea806344a2b82aebbdbc10888d5",
       "style": "IPY_MODEL_686216e8d9ad4b60a78c8fdd0d395377",
       "value": "   objective"
      }
     },
     "dc118442091946ddb90604a341ef8ad4": {
      "model_module": "@jupyter-widgets/controls",
      "model_module_version": "1.5.0",
      "model_name": "HBoxModel",
      "state": {
       "children": [
        "IPY_MODEL_f0e4898ebc1e4945a69cef6afdd1b79f",
        "IPY_MODEL_0f96f1a445c2497d9bbab007a4fff7ff",
        "IPY_MODEL_be3031e92c484807991db85f87f75a23",
        "IPY_MODEL_cd42b6eaa7cb4617b9874089c716e945"
       ],
       "layout": "IPY_MODEL_9aaac6edada8491eb89fd3c7bbdb4619"
      }
     },
     "dc1b99f9dc62459c943d04834b3aeb9c": {
      "model_module": "@jupyter-widgets/controls",
      "model_module_version": "1.5.0",
      "model_name": "ProgressStyleModel",
      "state": {
       "description_width": ""
      }
     },
     "dc2e4eebd3f942e08aa60d02ba78c991": {
      "model_module": "@jupyter-widgets/base",
      "model_module_version": "1.2.0",
      "model_name": "LayoutModel",
      "state": {
       "height": "32px",
       "order": "-2",
       "width": "32px"
      }
     },
     "dc6e24437e644ed4bdb07d81f094fb19": {
      "model_module": "@jupyter-widgets/controls",
      "model_module_version": "1.5.0",
      "model_name": "ButtonStyleModel",
      "state": {}
     },
     "dc708164ecfe46db8c455987885f8d46": {
      "model_module": "@jupyter-widgets/base",
      "model_module_version": "1.2.0",
      "model_name": "LayoutModel",
      "state": {
       "height": "32px",
       "overflow": "visible",
       "width": "100%"
      }
     },
     "dc94cc0329904970a81dc0bcfc583d5b": {
      "model_module": "@jupyter-widgets/controls",
      "model_module_version": "1.5.0",
      "model_name": "HBoxModel",
      "state": {
       "children": [
        "IPY_MODEL_c61af465eafb4b098e150321c9868dbd",
        "IPY_MODEL_3863e8487f6048be8cb8267c66ef6a23",
        "IPY_MODEL_4cefaa7c073047aeae948dd4e3431acc",
        "IPY_MODEL_d8587d7e88844ba981d6c9c8bb6a7318"
       ],
       "layout": "IPY_MODEL_02310a15915d4f62ba31ded82b491ed5"
      }
     },
     "dce07b274d0b4cacb1683b43d149eccd": {
      "model_module": "@jupyter-widgets/controls",
      "model_module_version": "1.5.0",
      "model_name": "IntProgressModel",
      "state": {
       "layout": "IPY_MODEL_cf171954f499438387e6c2d91d44a752",
       "style": "IPY_MODEL_c2093783f5b241b58e7e20d5a80cc758",
       "value": 30
      }
     },
     "dd04e97909c140348090071d7ac0a10e": {
      "model_module": "@jupyter-widgets/controls",
      "model_module_version": "1.5.0",
      "model_name": "ButtonModel",
      "state": {
       "layout": "IPY_MODEL_4fcde750ee6242ddb24ded85e0791542",
       "style": "IPY_MODEL_de7f31b0d36d4631b98c7dba7dfc78a3"
      }
     },
     "dd1d94c356064a8da85ac14516d96a90": {
      "model_module": "@jupyter-widgets/controls",
      "model_module_version": "1.5.0",
      "model_name": "ProgressStyleModel",
      "state": {
       "description_width": ""
      }
     },
     "dd407f851a1d46c8b1611f52c3c8d330": {
      "model_module": "@jupyter-widgets/controls",
      "model_module_version": "1.5.0",
      "model_name": "ButtonModel",
      "state": {
       "description": "EDIT",
       "layout": "IPY_MODEL_8d26c7613fc4441fab01a7f1c5766044",
       "style": "IPY_MODEL_5c3b582e9240402aa4dbab7ed987565a"
      }
     },
     "dd637aea0c7f4bb290a00cb9b595c669": {
      "model_module": "@jupyter-widgets/base",
      "model_module_version": "1.2.0",
      "model_name": "LayoutModel",
      "state": {
       "display": "flex",
       "flex_flow": "row wrap"
      }
     },
     "dd7ac3ec377649f0bc553815d4932f86": {
      "model_module": "@jupyter-widgets/controls",
      "model_module_version": "1.5.0",
      "model_name": "ButtonModel",
      "state": {
       "description": "EDIT",
       "layout": "IPY_MODEL_a5074d8f6fdd48058dbe6b22a05e557d",
       "style": "IPY_MODEL_b8b9201d46f448b6834712a2524b9ba9"
      }
     },
     "dde5f0692fee47e4b5e9b44b329aeb61": {
      "model_module": "@jupyter-widgets/base",
      "model_module_version": "1.2.0",
      "model_name": "LayoutModel",
      "state": {
       "height": "32px",
       "order": "-2",
       "width": "32px"
      }
     },
     "ddf9403b0f134ab9a078bcdf4b3a4cda": {
      "model_module": "@jupyter-widgets/base",
      "model_module_version": "1.2.0",
      "model_name": "LayoutModel",
      "state": {}
     },
     "de2af5a9e48f4f448b06dbf080eca081": {
      "model_module": "@jupyter-widgets/controls",
      "model_module_version": "1.5.0",
      "model_name": "ProgressStyleModel",
      "state": {
       "description_width": ""
      }
     },
     "de322105c03e4a5492c1331c3fb0e93c": {
      "model_module": "@jupyter-widgets/base",
      "model_module_version": "1.2.0",
      "model_name": "LayoutModel",
      "state": {
       "order": "-1",
       "overflow": "visible",
       "padding": "1px",
       "width": "0px"
      }
     },
     "de7550e663b548eba227d7eba88665d3": {
      "model_module": "@jupyter-widgets/controls",
      "model_module_version": "1.5.0",
      "model_name": "IntProgressModel",
      "state": {
       "layout": "IPY_MODEL_8c2c155d715c494a84a1b8cdd1626835",
       "style": "IPY_MODEL_5c539aeb1a774c9ea820fd705bd28be4",
       "value": 30
      }
     },
     "de79e2cab91b400f9d97d56b6e65febc": {
      "model_module": "@jupyter-widgets/controls",
      "model_module_version": "1.5.0",
      "model_name": "DropdownModel",
      "state": {
       "_options_labels": [
        "All",
        "Active Objectives",
        "Pursuits",
        "Milestones",
        "Triumphs",
        "Collections"
       ],
       "description": "Show:",
       "index": 0,
       "layout": "IPY_MODEL_e58a717eca974fc6917844f43dc0189f",
       "style": "IPY_MODEL_c98ac76658fe47fe8455a08b87f9f332"
      }
     },
     "de7f31b0d36d4631b98c7dba7dfc78a3": {
      "model_module": "@jupyter-widgets/controls",
      "model_module_version": "1.5.0",
      "model_name": "ButtonStyleModel",
      "state": {}
     },
     "de9ff5d309e740468a3e5ac6f900b8b4": {
      "model_module": "@jupyter-widgets/controls",
      "model_module_version": "1.5.0",
      "model_name": "DescriptionStyleModel",
      "state": {
       "description_width": ""
      }
     },
     "dee1df1345214400ac777a4a2f016531": {
      "model_module": "@jupyter-widgets/base",
      "model_module_version": "1.2.0",
      "model_name": "LayoutModel",
      "state": {
       "order": "-1",
       "overflow": "visible",
       "padding": "1px",
       "width": "0px"
      }
     },
     "df0b14e1ed1041c4b65f624542a64d02": {
      "model_module": "@jupyter-widgets/controls",
      "model_module_version": "1.5.0",
      "model_name": "ButtonStyleModel",
      "state": {}
     },
     "df67f0340db047b6b21ddd3a57fdbf8b": {
      "model_module": "@jupyter-widgets/base",
      "model_module_version": "1.2.0",
      "model_name": "LayoutModel",
      "state": {
       "border": "3px solid white",
       "flex": "1 1 0%",
       "margin": "10px",
       "min_width": "400px",
       "overflow": "visible",
       "padding": "10px",
       "width": "auto"
      }
     },
     "df6858c26d184345ad66752321f991a0": {
      "model_module": "@jupyter-widgets/base",
      "model_module_version": "1.2.0",
      "model_name": "LayoutModel",
      "state": {
       "display": "none",
       "width": "60px"
      }
     },
     "df947ffa549d459a9531af52a1f0d240": {
      "model_module": "@jupyter-widgets/controls",
      "model_module_version": "1.5.0",
      "model_name": "IntProgressModel",
      "state": {
       "layout": "IPY_MODEL_8c925d60d8ba4f59a07990ef5beb653f",
       "style": "IPY_MODEL_a73bb0902cdd4c4fbf13b207aadebb05",
       "value": 30
      }
     },
     "dfbf0dab1c3b45018ab8ddf1ea60ae6a": {
      "model_module": "@jupyter-widgets/controls",
      "model_module_version": "1.5.0",
      "model_name": "HTMLModel",
      "state": {
       "layout": "IPY_MODEL_99168d00761d45d499df8bcce31cc33d",
       "style": "IPY_MODEL_1d7a0ec65a2b4dc6b581d5f2a1563559",
       "value": "<font size=\"1\">Path/Path/Path/Path/</font size>"
      }
     },
     "dff00d2f4935498283ba80609ceb3a31": {
      "model_module": "@jupyter-widgets/controls",
      "model_module_version": "1.5.0",
      "model_name": "CheckboxModel",
      "state": {
       "description": "Hide Complete Objectives",
       "disabled": false,
       "layout": "IPY_MODEL_cdf6a1bd8dc04c7c8eebc9fe2cac441e",
       "style": "IPY_MODEL_652d4b3e7a1a4b10a899429fd3262086",
       "value": false
      }
     },
     "e04cba663af544418a49b6da2875793b": {
      "model_module": "@jupyter-widgets/controls",
      "model_module_version": "1.5.0",
      "model_name": "ButtonModel",
      "state": {
       "description": "Submit",
       "layout": "IPY_MODEL_7d0c576b45364e20981754d160033771",
       "style": "IPY_MODEL_a59de5bc137f425a98513c6acf194852"
      }
     },
     "e0840344b9844ef2a9f12d965685cb77": {
      "model_module": "@jupyter-widgets/controls",
      "model_module_version": "1.5.0",
      "model_name": "HTMLModel",
      "state": {
       "layout": "IPY_MODEL_1875c17264c74f168b960824a1c766bc",
       "style": "IPY_MODEL_9f5b490c7ca34f78a38af64d393dc534",
       "value": "<i>test test test test test test test test test test test test test test test test test test test test test test test test </i>"
      }
     },
     "e09b0db015554649be5e79a136b6f105": {
      "model_module": "@jupyter-widgets/controls",
      "model_module_version": "1.5.0",
      "model_name": "ProgressStyleModel",
      "state": {
       "description_width": ""
      }
     },
     "e0a2fcc9f5174a6889d2bc8395a92e05": {
      "model_module": "@jupyter-widgets/controls",
      "model_module_version": "1.5.0",
      "model_name": "IntProgressModel",
      "state": {
       "layout": "IPY_MODEL_4c6c5e3b22734953a8c03a5f16fba426",
       "style": "IPY_MODEL_c75abe460f6f4bdfa4f33c04cce5c533",
       "value": 30
      }
     },
     "e0c24ec3b10341d2bd497c2de3060404": {
      "model_module": "@jupyter-widgets/base",
      "model_module_version": "1.2.0",
      "model_name": "LayoutModel",
      "state": {}
     },
     "e0ca14d54cb54954a9220bce765125ae": {
      "model_module": "@jupyter-widgets/controls",
      "model_module_version": "1.5.0",
      "model_name": "ButtonModel",
      "state": {
       "description": "EDIT",
       "layout": "IPY_MODEL_98b5e5a1aae64ed9a6d6bc6a32e487ae",
       "style": "IPY_MODEL_80d0b494962b40ea87c535e7fd9c4db4"
      }
     },
     "e117da69c70a4a9aba31570cde470d5a": {
      "model_module": "@jupyter-widgets/controls",
      "model_module_version": "1.5.0",
      "model_name": "IntProgressModel",
      "state": {
       "layout": "IPY_MODEL_588d0c83160c4839b401188e79c7d42c",
       "style": "IPY_MODEL_f63d5df9dbe6470489a681d882b90ee6",
       "value": 30
      }
     },
     "e12a9d0335b4467f9d78bcacb8245f24": {
      "model_module": "@jupyter-widgets/base",
      "model_module_version": "1.2.0",
      "model_name": "LayoutModel",
      "state": {
       "height": "32px",
       "overflow": "visible",
       "width": "100%"
      }
     },
     "e12f7256c1924f4fa5ac350d5669c65e": {
      "model_module": "@jupyter-widgets/controls",
      "model_module_version": "1.5.0",
      "model_name": "IntProgressModel",
      "state": {
       "layout": "IPY_MODEL_6d3d049edd6c4741946bf944437c25ee",
       "style": "IPY_MODEL_ee08fbfe0f7e43bc8c316afa690243a3",
       "value": 30
      }
     },
     "e1dc15fdffe84406a37b2a0d9a421d5b": {
      "model_module": "@jupyter-widgets/controls",
      "model_module_version": "1.5.0",
      "model_name": "DescriptionStyleModel",
      "state": {
       "description_width": ""
      }
     },
     "e1efcb924f46493b893952e734964616": {
      "model_module": "@jupyter-widgets/base",
      "model_module_version": "1.2.0",
      "model_name": "LayoutModel",
      "state": {
       "display": "none",
       "width": "60px"
      }
     },
     "e20c7236f4dd486b83ebb46035cff01a": {
      "model_module": "@jupyter-widgets/controls",
      "model_module_version": "1.5.0",
      "model_name": "ButtonStyleModel",
      "state": {}
     },
     "e25522709c994c2e82b70d4e753fec8f": {
      "model_module": "@jupyter-widgets/controls",
      "model_module_version": "1.5.0",
      "model_name": "VBoxModel",
      "state": {
       "children": [
        "IPY_MODEL_3ac1c03434af48ce84d91303222a79bb",
        "IPY_MODEL_61379d05992c409c9ed6763a14dc070e",
        "IPY_MODEL_b3074f7765e847009e55c283fdc08217"
       ],
       "layout": "IPY_MODEL_f4509691a89744538dd861ab067c5c69"
      }
     },
     "e27ce791664448a3b69410b1fe1fb72f": {
      "model_module": "@jupyter-widgets/base",
      "model_module_version": "1.2.0",
      "model_name": "LayoutModel",
      "state": {
       "height": "32px",
       "overflow": "visible",
       "width": "100%"
      }
     },
     "e2932b533e6b48f889db241c2121e68c": {
      "model_module": "@jupyter-widgets/controls",
      "model_module_version": "1.5.0",
      "model_name": "ButtonStyleModel",
      "state": {}
     },
     "e2c9f73c07ff47f7882b9cb9e8aded29": {
      "model_module": "@jupyter-widgets/controls",
      "model_module_version": "1.5.0",
      "model_name": "DescriptionStyleModel",
      "state": {
       "description_width": ""
      }
     },
     "e2cad21e512b4064b0dad3e532b2ba82": {
      "model_module": "@jupyter-widgets/controls",
      "model_module_version": "1.5.0",
      "model_name": "ButtonStyleModel",
      "state": {}
     },
     "e2e8d8d6eee849a59e48854a1933352f": {
      "model_module": "@jupyter-widgets/base",
      "model_module_version": "1.2.0",
      "model_name": "LayoutModel",
      "state": {
       "display": "none",
       "width": "60px"
      }
     },
     "e2f3558f17ec46f5b3124b0fef6c3440": {
      "model_module": "@jupyter-widgets/controls",
      "model_module_version": "1.5.0",
      "model_name": "DescriptionStyleModel",
      "state": {
       "description_width": ""
      }
     },
     "e2f71374616f4737b2f8166d30c22e50": {
      "model_module": "@jupyter-widgets/controls",
      "model_module_version": "1.5.0",
      "model_name": "ButtonModel",
      "state": {
       "layout": "IPY_MODEL_885bdcc0153643f3bc4f0c2ce7f0e026",
       "style": "IPY_MODEL_fe71586f885d4fadb486fd4abfd3ecb3"
      }
     },
     "e30e7399bc774e569c58787a1f814140": {
      "model_module": "@jupyter-widgets/controls",
      "model_module_version": "1.5.0",
      "model_name": "IntProgressModel",
      "state": {
       "layout": "IPY_MODEL_5e812824fa6f4136aa0cca494abbfe9d",
       "style": "IPY_MODEL_fdf88535186b44bebd9f694c998dc5a6",
       "value": 30
      }
     },
     "e370b52f8a9546f3b3a8d5deb69f5212": {
      "model_module": "@jupyter-widgets/controls",
      "model_module_version": "1.5.0",
      "model_name": "ButtonStyleModel",
      "state": {}
     },
     "e40fbb97e4ec49008fb80d7dc91d000c": {
      "model_module": "@jupyter-widgets/controls",
      "model_module_version": "1.5.0",
      "model_name": "IntProgressModel",
      "state": {
       "layout": "IPY_MODEL_97855b74a06345b38aa5c20708390a77",
       "style": "IPY_MODEL_d504a0ea1ba24292a2d9633885bcab69",
       "value": 30
      }
     },
     "e4670b851ab9431ab43431bb9eed8cd2": {
      "model_module": "@jupyter-widgets/base",
      "model_module_version": "1.2.0",
      "model_name": "LayoutModel",
      "state": {
       "display": "none",
       "width": "60px"
      }
     },
     "e4712461d3ff4b7384a5d9a3d3f5e794": {
      "model_module": "@jupyter-widgets/controls",
      "model_module_version": "1.5.0",
      "model_name": "HTMLModel",
      "state": {
       "layout": "IPY_MODEL_25cf7038092740f583fef4ba62a94f9a",
       "style": "IPY_MODEL_93220fedfb4848b38abf781e859eae4a",
       "value": "<font size=\"1\">Path/Path/Path/Path/</font size>"
      }
     },
     "e4b66b66489c47df9fad38c13ba635e0": {
      "model_module": "@jupyter-widgets/controls",
      "model_module_version": "1.5.0",
      "model_name": "ButtonStyleModel",
      "state": {}
     },
     "e4bf7d394ff648268d27da215cd69cfd": {
      "model_module": "@jupyter-widgets/controls",
      "model_module_version": "1.5.0",
      "model_name": "ButtonModel",
      "state": {
       "description": "EDIT",
       "layout": "IPY_MODEL_32f50da4d34248138d9049b3c5ba679f",
       "style": "IPY_MODEL_10422e5eecae47c596a1b8413d79b54c"
      }
     },
     "e4db4a213e0e4f21b9b39c954426b64e": {
      "model_module": "@jupyter-widgets/base",
      "model_module_version": "1.2.0",
      "model_name": "LayoutModel",
      "state": {
       "height": "32px",
       "overflow": "visible",
       "width": "100%"
      }
     },
     "e50812a477a94596a63d99a11b6d1d62": {
      "model_module": "@jupyter-widgets/base",
      "model_module_version": "1.2.0",
      "model_name": "LayoutModel",
      "state": {}
     },
     "e58a717eca974fc6917844f43dc0189f": {
      "model_module": "@jupyter-widgets/base",
      "model_module_version": "1.2.0",
      "model_name": "LayoutModel",
      "state": {}
     },
     "e5a3266ff35a44b8a789f63496c3ee93": {
      "model_module": "@jupyter-widgets/controls",
      "model_module_version": "1.5.0",
      "model_name": "ProgressStyleModel",
      "state": {
       "description_width": ""
      }
     },
     "e5a4201c325a4cec826acdff4a267245": {
      "model_module": "@jupyter-widgets/base",
      "model_module_version": "1.2.0",
      "model_name": "LayoutModel",
      "state": {}
     },
     "e5e084ed70a541a6bc80283493f53ec2": {
      "model_module": "@jupyter-widgets/base",
      "model_module_version": "1.2.0",
      "model_name": "LayoutModel",
      "state": {}
     },
     "e5ea51127dc847409403dab6c112283c": {
      "model_module": "@jupyter-widgets/controls",
      "model_module_version": "1.5.0",
      "model_name": "ButtonStyleModel",
      "state": {}
     },
     "e5ecdbf04bb44f3b97f946e159744ca0": {
      "model_module": "@jupyter-widgets/controls",
      "model_module_version": "1.5.0",
      "model_name": "ButtonStyleModel",
      "state": {}
     },
     "e62822e8ec984e0eb58435ed733f87f3": {
      "model_module": "@jupyter-widgets/controls",
      "model_module_version": "1.5.0",
      "model_name": "ButtonStyleModel",
      "state": {}
     },
     "e64c8c6f22a14503938c6687bf910c6e": {
      "model_module": "@jupyter-widgets/controls",
      "model_module_version": "1.5.0",
      "model_name": "LabelModel",
      "state": {
       "layout": "IPY_MODEL_41b10cfdee054e81a3b8175bd1b33f2f",
       "style": "IPY_MODEL_1bd47625760144d0bb087271cb904f40",
       "value": "   objective"
      }
     },
     "e656b7d2c76d4d1d97bdb57fcdac26dd": {
      "model_module": "@jupyter-widgets/controls",
      "model_module_version": "1.5.0",
      "model_name": "ButtonModel",
      "state": {
       "layout": "IPY_MODEL_9262cbc7493145f7ab071e090e148b7b",
       "style": "IPY_MODEL_07424538db7646a6a52a8b8d2b458332"
      }
     },
     "e6746712c5f94119a0c19a15a98463dc": {
      "model_module": "@jupyter-widgets/base",
      "model_module_version": "1.2.0",
      "model_name": "LayoutModel",
      "state": {}
     },
     "e681d8e36cc84cad9c3f655b2ed6dc4c": {
      "model_module": "@jupyter-widgets/controls",
      "model_module_version": "1.5.0",
      "model_name": "LabelModel",
      "state": {
       "layout": "IPY_MODEL_6eb431308c894c60a4ef70201929ac33",
       "style": "IPY_MODEL_16e52b411fa34a36ab8e677fe59a19b6",
       "value": "   objective"
      }
     },
     "e6baa65a21984bc08b95da755c3cfde3": {
      "model_module": "@jupyter-widgets/base",
      "model_module_version": "1.2.0",
      "model_name": "LayoutModel",
      "state": {
       "height": "32px",
       "overflow": "visible",
       "width": "100%"
      }
     },
     "e6c3da4e0de948f3a6a1e75dd0c6623b": {
      "model_module": "@jupyter-widgets/controls",
      "model_module_version": "1.5.0",
      "model_name": "DescriptionStyleModel",
      "state": {
       "description_width": ""
      }
     },
     "e6fcd1236e46481c8adfe2cee7e631cc": {
      "model_module": "@jupyter-widgets/controls",
      "model_module_version": "1.5.0",
      "model_name": "HBoxModel",
      "state": {
       "children": [
        "IPY_MODEL_d0c747f907084f9c8555be2d4523499d",
        "IPY_MODEL_07436e0ea8f9428c84d7b3d67b442a9a",
        "IPY_MODEL_f4efbd45010441e1869dd57dc899c567",
        "IPY_MODEL_70355426c529438fa95801d948b45770"
       ],
       "layout": "IPY_MODEL_4fd71be79f6645e59bc829a67ec2636d"
      }
     },
     "e6fd5a6e2313448eb53a51a293c518af": {
      "model_module": "@jupyter-widgets/base",
      "model_module_version": "1.2.0",
      "model_name": "LayoutModel",
      "state": {}
     },
     "e709782e2ac443bcb6e1f20c423c1c06": {
      "model_module": "@jupyter-widgets/controls",
      "model_module_version": "1.5.0",
      "model_name": "ButtonModel",
      "state": {
       "layout": "IPY_MODEL_8efb66fef1534ea6ae2f2987dd5c91e7",
       "style": "IPY_MODEL_4aa90fc50a4e45f8939e0d151790ede6"
      }
     },
     "e713d2574d7e4b4d920e887e4ff15b70": {
      "model_module": "@jupyter-widgets/base",
      "model_module_version": "1.2.0",
      "model_name": "LayoutModel",
      "state": {}
     },
     "e74945ee17b04e31a670a75c15fca1a8": {
      "model_module": "@jupyter-widgets/controls",
      "model_module_version": "1.5.0",
      "model_name": "LabelModel",
      "state": {
       "layout": "IPY_MODEL_1de719351b6d45b99a8ea842373aec8b",
       "style": "IPY_MODEL_a66f1b7fcca74de2aa9c7531b824f6bc",
       "value": "   objective"
      }
     },
     "e7681e3b1f874bd3b3ea2a176d0cb33a": {
      "model_module": "@jupyter-widgets/controls",
      "model_module_version": "1.5.0",
      "model_name": "VBoxModel",
      "state": {
       "children": [
        "IPY_MODEL_a31a3bf6c1a040ef974a82c5dfb95f70",
        "IPY_MODEL_6e2224b364864813ac14255256fe3266",
        "IPY_MODEL_4e94b80c38be485ca5cbbeada9c756f4",
        "IPY_MODEL_62500148142940239819d0799208f27e",
        "IPY_MODEL_2307e4dbf4664bd8a3d9dbc3069c7711",
        "IPY_MODEL_8f6517b0c31c4a26838ff983cea8a3d8"
       ],
       "layout": "IPY_MODEL_e5a4201c325a4cec826acdff4a267245"
      }
     },
     "e776a9bb3b7842efbec7b8b7252173ce": {
      "model_module": "@jupyter-widgets/base",
      "model_module_version": "1.2.0",
      "model_name": "LayoutModel",
      "state": {
       "height": "32px",
       "overflow": "visible",
       "width": "100%"
      }
     },
     "e780c428307d423c87b02a6758a565bd": {
      "model_module": "@jupyter-widgets/controls",
      "model_module_version": "1.5.0",
      "model_name": "HTMLModel",
      "state": {
       "layout": "IPY_MODEL_c0e03e6c68fe4f7d825c0aba6dcbcfe0",
       "style": "IPY_MODEL_1dd6a75376e74c8e8060c54367b47c20",
       "value": "<font size=\"1\">Path/Path/Path/Path/</font size>"
      }
     },
     "e78272e7355a4d3bb6a3769c5cd3d38c": {
      "model_module": "@jupyter-widgets/controls",
      "model_module_version": "1.5.0",
      "model_name": "HBoxModel",
      "state": {
       "children": [
        "IPY_MODEL_2fd70e366c0e4921b1ced164308cabf4",
        "IPY_MODEL_e0a2fcc9f5174a6889d2bc8395a92e05",
        "IPY_MODEL_83cf128fdfa34f6890a1bbfb069c68f9",
        "IPY_MODEL_c0a349033c874ecea1bb17b344f9d24b"
       ],
       "layout": "IPY_MODEL_b650f7f5bbb24e618db1515aab3d4934"
      }
     },
     "e7b4c89de1594fec8530c20d174633f7": {
      "model_module": "@jupyter-widgets/base",
      "model_module_version": "1.2.0",
      "model_name": "LayoutModel",
      "state": {}
     },
     "e7b7f384048f4c6f9e90f34476f14783": {
      "model_module": "@jupyter-widgets/controls",
      "model_module_version": "1.5.0",
      "model_name": "ProgressStyleModel",
      "state": {
       "description_width": ""
      }
     },
     "e7d89511d39b459996e7e7fbf4037cc2": {
      "model_module": "@jupyter-widgets/controls",
      "model_module_version": "1.5.0",
      "model_name": "ButtonModel",
      "state": {
       "description": "EDIT",
       "layout": "IPY_MODEL_13ac7ccb52184eddbf8a48fb9250385c",
       "style": "IPY_MODEL_2424a9504c6d4aa182d73d41a69a9258"
      }
     },
     "e7d96315fb6f4cc3a1b3fbfaaac12b20": {
      "model_module": "@jupyter-widgets/controls",
      "model_module_version": "1.5.0",
      "model_name": "ProgressStyleModel",
      "state": {
       "description_width": ""
      }
     },
     "e7f802d37d51493e824ca460a122b9d7": {
      "model_module": "@jupyter-widgets/controls",
      "model_module_version": "1.5.0",
      "model_name": "ButtonModel",
      "state": {
       "layout": "IPY_MODEL_47f7a979065b4cc39e09a8013e779b20",
       "style": "IPY_MODEL_91d4f69464b4422dbd7fe3e06f8befb5"
      }
     },
     "e8016bd3bb2b4d32a004cf066f3c9620": {
      "model_module": "@jupyter-widgets/controls",
      "model_module_version": "1.5.0",
      "model_name": "DescriptionStyleModel",
      "state": {
       "description_width": ""
      }
     },
     "e82faec8037b4a12bbe11add67de8964": {
      "model_module": "@jupyter-widgets/base",
      "model_module_version": "1.2.0",
      "model_name": "LayoutModel",
      "state": {
       "order": "-1",
       "overflow": "visible",
       "padding": "1px",
       "width": "0px"
      }
     },
     "e85c3ea3464148f485597382fd0fa26f": {
      "model_module": "@jupyter-widgets/controls",
      "model_module_version": "1.5.0",
      "model_name": "DescriptionStyleModel",
      "state": {
       "description_width": ""
      }
     },
     "e8e82e0defc74dfab4be8e3d5620bbce": {
      "model_module": "@jupyter-widgets/controls",
      "model_module_version": "1.5.0",
      "model_name": "ButtonModel",
      "state": {
       "description": "EDIT",
       "layout": "IPY_MODEL_8f715b5ac0d2430398440a5dbef17088",
       "style": "IPY_MODEL_80d92729e6d14001b0b6494c316ee54f"
      }
     },
     "e8f60a4c9b9147929d0fa268d113fed2": {
      "model_module": "@jupyter-widgets/base",
      "model_module_version": "1.2.0",
      "model_name": "LayoutModel",
      "state": {
       "display": "none",
       "width": "60px"
      }
     },
     "e94fe1cd365d41fc964d8463bac4d9f6": {
      "model_module": "@jupyter-widgets/base",
      "model_module_version": "1.2.0",
      "model_name": "LayoutModel",
      "state": {
       "overflow": "visible",
       "width": "100%"
      }
     },
     "e964a66fa6564f3795d85c54b77b9ab8": {
      "model_module": "@jupyter-widgets/controls",
      "model_module_version": "1.5.0",
      "model_name": "LabelModel",
      "state": {
       "layout": "IPY_MODEL_f83056bc7b25464d8aebc79209fabbb9",
       "style": "IPY_MODEL_aa9435f279814c999dd628c086e5524e",
       "value": "Class:"
      }
     },
     "e9c29b0b63cc47d68af97f1f29aa01ab": {
      "model_module": "@jupyter-widgets/controls",
      "model_module_version": "1.5.0",
      "model_name": "ButtonStyleModel",
      "state": {}
     },
     "e9f02d3dc35045849341ff95f774d394": {
      "model_module": "@jupyter-widgets/base",
      "model_module_version": "1.2.0",
      "model_name": "LayoutModel",
      "state": {
       "display": "none",
       "width": "60px"
      }
     },
     "ea049a25a70a4e0599ef13b45e19628d": {
      "model_module": "@jupyter-widgets/controls",
      "model_module_version": "1.5.0",
      "model_name": "ButtonModel",
      "state": {
       "layout": "IPY_MODEL_8c078cee647b4d2d8ef909aa8ea81c0e",
       "style": "IPY_MODEL_3dafd8da1db4400c96d9e5cf5f13ba9f"
      }
     },
     "ea51adc567e348b8afb8de8ad2fa2b2d": {
      "model_module": "@jupyter-widgets/base",
      "model_module_version": "1.2.0",
      "model_name": "LayoutModel",
      "state": {
       "order": "-1",
       "overflow": "visible",
       "padding": "1px",
       "width": "0px"
      }
     },
     "ea748d7f872a49e6829415c3cbb82ae5": {
      "model_module": "@jupyter-widgets/controls",
      "model_module_version": "1.5.0",
      "model_name": "ProgressStyleModel",
      "state": {
       "description_width": ""
      }
     },
     "ea7d29eebe774f87bbf8101fa2463cf9": {
      "model_module": "@jupyter-widgets/controls",
      "model_module_version": "1.5.0",
      "model_name": "VBoxModel",
      "state": {
       "children": [
        "IPY_MODEL_fa316b0e63884ca6bbc3a23e500f9a8c",
        "IPY_MODEL_117ddd57970740359275d82b51661801",
        "IPY_MODEL_2f0f977a14f04aed80d344f36ce6d112",
        "IPY_MODEL_7ba310b5c6c44343adfdff12186590ce"
       ],
       "layout": "IPY_MODEL_cf7d624a9bbd4680a79c3995a83bca6f"
      }
     },
     "eae0d82dd0674e219374f680288fed54": {
      "model_module": "@jupyter-widgets/controls",
      "model_module_version": "1.5.0",
      "model_name": "ButtonModel",
      "state": {
       "description": "EDIT",
       "layout": "IPY_MODEL_e4670b851ab9431ab43431bb9eed8cd2",
       "style": "IPY_MODEL_a6f8745e44624eca8b29791dc7ad5d5f"
      }
     },
     "eaf0facf84b4479dbcfdeb82054edaf5": {
      "model_module": "@jupyter-widgets/base",
      "model_module_version": "1.2.0",
      "model_name": "LayoutModel",
      "state": {
       "height": "32px",
       "order": "-2",
       "width": "32px"
      }
     },
     "eb3ee0d136e244e0a9a38b8cd5d4dbc5": {
      "model_module": "@jupyter-widgets/base",
      "model_module_version": "1.2.0",
      "model_name": "LayoutModel",
      "state": {}
     },
     "eb8b60de020942479a27551ca379cc16": {
      "model_module": "@jupyter-widgets/controls",
      "model_module_version": "1.5.0",
      "model_name": "ButtonStyleModel",
      "state": {}
     },
     "eba4316014594e41a85fcdc704445d42": {
      "model_module": "@jupyter-widgets/controls",
      "model_module_version": "1.5.0",
      "model_name": "HBoxModel",
      "state": {
       "children": [
        "IPY_MODEL_a5d39828846a4ab992a2f231e3a414b1",
        "IPY_MODEL_b1092d52f4b04bba89f0966a244fe9ee",
        "IPY_MODEL_cb6f3309429149399515757734424736",
        "IPY_MODEL_c436a18f0435429a96665314f86c382d"
       ],
       "layout": "IPY_MODEL_4c71dea1a73c4f118c58d189ed8f506c"
      }
     },
     "eba9f01aec8343478074f59c800c65a2": {
      "model_module": "@jupyter-widgets/base",
      "model_module_version": "1.2.0",
      "model_name": "LayoutModel",
      "state": {
       "height": "32px",
       "order": "-2",
       "width": "32px"
      }
     },
     "ebcd34c70b8c4ce0a7a2950b17fbc9c1": {
      "model_module": "@jupyter-widgets/controls",
      "model_module_version": "1.5.0",
      "model_name": "ButtonModel",
      "state": {
       "layout": "IPY_MODEL_953e399231aa487b9302ec8ab5e8af5a",
       "style": "IPY_MODEL_bf3acb9333814578b51014b85d85b8af"
      }
     },
     "ebcff6fbfd1648d39c39e93bf31160b6": {
      "model_module": "@jupyter-widgets/controls",
      "model_module_version": "1.5.0",
      "model_name": "ButtonModel",
      "state": {
       "description": "EDIT",
       "layout": "IPY_MODEL_4d2d0ab559194d8bbda31b318807567a",
       "style": "IPY_MODEL_e20c7236f4dd486b83ebb46035cff01a"
      }
     },
     "ebdf18e47123463eae8a132f6a29ea6c": {
      "model_module": "@jupyter-widgets/base",
      "model_module_version": "1.2.0",
      "model_name": "LayoutModel",
      "state": {
       "display": "none",
       "width": "60px"
      }
     },
     "ebe3805aa54145c39da2232c1b6a03bd": {
      "model_module": "@jupyter-widgets/controls",
      "model_module_version": "1.5.0",
      "model_name": "DescriptionStyleModel",
      "state": {
       "description_width": ""
      }
     },
     "ec4b5589d816497dafe7b28c4f70e667": {
      "model_module": "@jupyter-widgets/base",
      "model_module_version": "1.2.0",
      "model_name": "LayoutModel",
      "state": {
       "display": "flex",
       "flex_flow": "row wrap"
      }
     },
     "ec54770993cf483794e4b31802829719": {
      "model_module": "@jupyter-widgets/controls",
      "model_module_version": "1.5.0",
      "model_name": "DescriptionStyleModel",
      "state": {
       "description_width": ""
      }
     },
     "ec5df282aa23452f8b49657cfe60a717": {
      "model_module": "@jupyter-widgets/controls",
      "model_module_version": "1.5.0",
      "model_name": "ButtonModel",
      "state": {
       "description": "Refresh",
       "layout": "IPY_MODEL_89be68f53e0b47489bf6aafd3eee0a3d",
       "style": "IPY_MODEL_3b6f7a3977504e729416d92db0cba7d9"
      }
     },
     "ec74c9be490b44ca9b8a281c45200f06": {
      "model_module": "@jupyter-widgets/controls",
      "model_module_version": "1.5.0",
      "model_name": "IntProgressModel",
      "state": {
       "layout": "IPY_MODEL_a9a79d331351497b9673000afff8c9a9",
       "style": "IPY_MODEL_8b30cd3bf7794210b4859d053be210a6",
       "value": 30
      }
     },
     "ec8a645f1dc84da6a7b6dfed8826a28e": {
      "model_module": "@jupyter-widgets/controls",
      "model_module_version": "1.5.0",
      "model_name": "ProgressStyleModel",
      "state": {
       "description_width": ""
      }
     },
     "ecc37e877d9941e3955b1d9def343435": {
      "model_module": "@jupyter-widgets/controls",
      "model_module_version": "1.5.0",
      "model_name": "ButtonStyleModel",
      "state": {}
     },
     "ecd04f9d6f374b36bf7dc81f0985935d": {
      "model_module": "@jupyter-widgets/controls",
      "model_module_version": "1.5.0",
      "model_name": "HBoxModel",
      "state": {
       "children": [
        "IPY_MODEL_d24ede7ec6374bd2a3578019edfc311b",
        "IPY_MODEL_9b03cf20491048c0b75a8fc7df5f3ad9",
        "IPY_MODEL_be8bcc19cc3c43e5b4115463190845df",
        "IPY_MODEL_ebcff6fbfd1648d39c39e93bf31160b6"
       ],
       "layout": "IPY_MODEL_455a0a816b0d4cd39870062f3490b49a"
      }
     },
     "ed8dc2ebbb45449593334e445aa35119": {
      "model_module": "@jupyter-widgets/base",
      "model_module_version": "1.2.0",
      "model_name": "LayoutModel",
      "state": {
       "height": "32px",
       "overflow": "visible",
       "width": "100%"
      }
     },
     "edcfce4c12084daea75661b0a34f3229": {
      "model_module": "@jupyter-widgets/controls",
      "model_module_version": "1.5.0",
      "model_name": "ButtonStyleModel",
      "state": {}
     },
     "eddbaeba69d5422dbaa2180edaef127f": {
      "model_module": "@jupyter-widgets/base",
      "model_module_version": "1.2.0",
      "model_name": "LayoutModel",
      "state": {
       "border": "3px solid white",
       "flex": "1 1 0%",
       "margin": "10px",
       "min_width": "400px",
       "overflow": "visible",
       "padding": "10px",
       "width": "auto"
      }
     },
     "ee08fbfe0f7e43bc8c316afa690243a3": {
      "model_module": "@jupyter-widgets/controls",
      "model_module_version": "1.5.0",
      "model_name": "ProgressStyleModel",
      "state": {
       "description_width": ""
      }
     },
     "ee5122ce3cce4bf0a4b5b840797aaf5e": {
      "model_module": "@jupyter-widgets/base",
      "model_module_version": "1.2.0",
      "model_name": "LayoutModel",
      "state": {
       "display": "none",
       "width": "60px"
      }
     },
     "eebfcc25412a498eaa889b33c72de41e": {
      "model_module": "@jupyter-widgets/base",
      "model_module_version": "1.2.0",
      "model_name": "LayoutModel",
      "state": {
       "order": "-1",
       "overflow": "visible",
       "padding": "1px",
       "width": "0px"
      }
     },
     "eec3213660e54590b52b3b492bdcd116": {
      "model_module": "@jupyter-widgets/controls",
      "model_module_version": "1.5.0",
      "model_name": "ButtonModel",
      "state": {
       "layout": "IPY_MODEL_5236c9288a1a4de88631641bcc9196f7",
       "style": "IPY_MODEL_56dcb33fcd3a4190b2279e4181cc187f"
      }
     },
     "eeca8e6264164f2fa7868dd4b1a262e0": {
      "model_module": "@jupyter-widgets/controls",
      "model_module_version": "1.5.0",
      "model_name": "ProgressStyleModel",
      "state": {
       "description_width": ""
      }
     },
     "eef28179821347b7be519df7bdd084d0": {
      "model_module": "@jupyter-widgets/controls",
      "model_module_version": "1.5.0",
      "model_name": "IntProgressModel",
      "state": {
       "layout": "IPY_MODEL_e12a9d0335b4467f9d78bcacb8245f24",
       "style": "IPY_MODEL_8af73c81b20d4e06b60b3127228d2734",
       "value": 30
      }
     },
     "eef3e13acbcf4cd2bd3e4a1d059b441f": {
      "model_module": "@jupyter-widgets/controls",
      "model_module_version": "1.5.0",
      "model_name": "LabelModel",
      "state": {
       "layout": "IPY_MODEL_a130d89431d04cf895ca20d483faa703",
       "style": "IPY_MODEL_9904fee916c34a82bbc28e5303869d29",
       "value": "   objective"
      }
     },
     "ef031de5d1574dec9356bffe8f8a57fe": {
      "model_module": "@jupyter-widgets/controls",
      "model_module_version": "1.5.0",
      "model_name": "ButtonModel",
      "state": {
       "description": "Previous",
       "layout": "IPY_MODEL_8638411b40934344b60310b2bd766edf",
       "style": "IPY_MODEL_fb4bafcf81804c5f922861fb1bc11fc3"
      }
     },
     "ef1b845cf17445f48f124b6d32461157": {
      "model_module": "@jupyter-widgets/controls",
      "model_module_version": "1.5.0",
      "model_name": "IntProgressModel",
      "state": {
       "layout": "IPY_MODEL_cffbd474e9a3454c8464d7ef01c03225",
       "style": "IPY_MODEL_c90fbb41f13c444ab1b8c1a80912ab75",
       "value": 30
      }
     },
     "efa8a541d9f143a6b33b206f46ce14f9": {
      "model_module": "@jupyter-widgets/controls",
      "model_module_version": "1.5.0",
      "model_name": "ButtonModel",
      "state": {
       "layout": "IPY_MODEL_62d25633e5f24b3f8ed3ae6bd79e452d",
       "style": "IPY_MODEL_11c6d8ba76984e1f8d541051707d37d5"
      }
     },
     "effae1a533bb493c9f529070832223a9": {
      "model_module": "@jupyter-widgets/controls",
      "model_module_version": "1.5.0",
      "model_name": "HTMLModel",
      "state": {
       "layout": "IPY_MODEL_30ce4927e5954ee4b655fc9407c01076",
       "style": "IPY_MODEL_232769c34ebe40fea5570daa27698cb7",
       "value": "<i>test test test test test test test test test test test test test test test test test test test test test test test test </i>"
      }
     },
     "f02a38222d2945aeb4870c3c893d9076": {
      "model_module": "@jupyter-widgets/controls",
      "model_module_version": "1.5.0",
      "model_name": "ButtonStyleModel",
      "state": {}
     },
     "f07de6a95e6b4636b1590b651a71e764": {
      "model_module": "@jupyter-widgets/controls",
      "model_module_version": "1.5.0",
      "model_name": "IntProgressModel",
      "state": {
       "layout": "IPY_MODEL_45ace770c3b54c3385a5a3136c092aef",
       "style": "IPY_MODEL_dd1d94c356064a8da85ac14516d96a90",
       "value": 30
      }
     },
     "f0a83a85737841f79488501f3376773d": {
      "model_module": "@jupyter-widgets/controls",
      "model_module_version": "1.5.0",
      "model_name": "ButtonStyleModel",
      "state": {}
     },
     "f0e4898ebc1e4945a69cef6afdd1b79f": {
      "model_module": "@jupyter-widgets/controls",
      "model_module_version": "1.5.0",
      "model_name": "ButtonModel",
      "state": {
       "layout": "IPY_MODEL_4c9e9b6fb08d4b2f87320683019d68fe",
       "style": "IPY_MODEL_63ba6fec2a4843ada2794632ead70e3f"
      }
     },
     "f100dc1123bb458d8c79a715ded81554": {
      "model_module": "@jupyter-widgets/base",
      "model_module_version": "1.2.0",
      "model_name": "LayoutModel",
      "state": {
       "order": "-1",
       "overflow": "visible",
       "padding": "1px",
       "width": "0px"
      }
     },
     "f12788824f61486f937d6471a9375cd6": {
      "model_module": "@jupyter-widgets/controls",
      "model_module_version": "1.5.0",
      "model_name": "HBoxModel",
      "state": {
       "children": [
        "IPY_MODEL_71b1b8fe7b964a289bff0bc9d241fba8",
        "IPY_MODEL_11fefc1ce977499d9e79474182e59f75",
        "IPY_MODEL_8e6322d1618d4b979380a4fc7ead5110",
        "IPY_MODEL_8f922d013ef14aa29451bd0ed9b11b15"
       ],
       "layout": "IPY_MODEL_7e378207216f471b918a1da3d769a0ee"
      }
     },
     "f16b0d8be9f24de6aba5423100084194": {
      "model_module": "@jupyter-widgets/base",
      "model_module_version": "1.2.0",
      "model_name": "LayoutModel",
      "state": {
       "order": "-1",
       "overflow": "visible",
       "padding": "1px",
       "width": "0px"
      }
     },
     "f16d7d8edebf4fd2a866412a2a69cebc": {
      "model_module": "@jupyter-widgets/controls",
      "model_module_version": "1.5.0",
      "model_name": "ButtonModel",
      "state": {
       "layout": "IPY_MODEL_11b18c3648a144ce88b0546563555a8f",
       "style": "IPY_MODEL_144e92cbf65246e39a21538391c25c8e"
      }
     },
     "f18334767f0149e08f90aff7018b19a9": {
      "model_module": "@jupyter-widgets/controls",
      "model_module_version": "1.5.0",
      "model_name": "HBoxModel",
      "state": {
       "children": [
        "IPY_MODEL_5d56862d805e4af8a3bc720ec8acf0d5",
        "IPY_MODEL_de7550e663b548eba227d7eba88665d3",
        "IPY_MODEL_db383c7798184537b3d0e5fdd1857b8d",
        "IPY_MODEL_43908c6c266e45698922d8db68755feb"
       ],
       "layout": "IPY_MODEL_7ddbd9c83d0144bcaae1616be611f64a"
      }
     },
     "f1b77fb91ccf446caee0b632b07dc0a5": {
      "model_module": "@jupyter-widgets/base",
      "model_module_version": "1.2.0",
      "model_name": "LayoutModel",
      "state": {
       "order": "-1",
       "overflow": "visible",
       "padding": "1px",
       "width": "0px"
      }
     },
     "f24735fc94e24ba8bbc72155776e0fcf": {
      "model_module": "@jupyter-widgets/base",
      "model_module_version": "1.2.0",
      "model_name": "LayoutModel",
      "state": {
       "height": "32px",
       "order": "-2",
       "width": "32px"
      }
     },
     "f26556460bf74e4b997dec439f06aca2": {
      "model_module": "@jupyter-widgets/controls",
      "model_module_version": "1.5.0",
      "model_name": "ButtonStyleModel",
      "state": {}
     },
     "f26d97da58f0436fbacec839d931c70b": {
      "model_module": "@jupyter-widgets/base",
      "model_module_version": "1.2.0",
      "model_name": "LayoutModel",
      "state": {
       "height": "32px",
       "order": "-2",
       "width": "32px"
      }
     },
     "f26f2017dd6149f1a7c2b4e07a9fef56": {
      "model_module": "@jupyter-widgets/controls",
      "model_module_version": "1.5.0",
      "model_name": "IntProgressModel",
      "state": {
       "layout": "IPY_MODEL_5c3df8930d294cfc8b226e57b6b5ab4a",
       "style": "IPY_MODEL_b8a99ba3d7f445f49ca2b35255c1265c",
       "value": 30
      }
     },
     "f2b2484bca264aef8fc03f2dd4c77274": {
      "model_module": "@jupyter-widgets/controls",
      "model_module_version": "1.5.0",
      "model_name": "HBoxModel",
      "state": {
       "children": [
        "IPY_MODEL_b4af16ff90d74d9583163203ff451b78",
        "IPY_MODEL_72939e6118a24eda975473f291d7eaf7",
        "IPY_MODEL_c1598a80e9a04f1fa0769247a441f7ca",
        "IPY_MODEL_4b067855d34f4a1081bb5eb3e1040d9f"
       ],
       "layout": "IPY_MODEL_98075688db9945188a99d3c27c5183dd"
      }
     },
     "f2c5db6548d741f78f62e365d2dd895e": {
      "model_module": "@jupyter-widgets/base",
      "model_module_version": "1.2.0",
      "model_name": "LayoutModel",
      "state": {
       "order": "-1",
       "overflow": "visible",
       "padding": "1px",
       "width": "0px"
      }
     },
     "f34a2205ba8b451d9dd7a3d781650cc8": {
      "model_module": "@jupyter-widgets/controls",
      "model_module_version": "1.5.0",
      "model_name": "DescriptionStyleModel",
      "state": {
       "description_width": ""
      }
     },
     "f39022d05b4c42689e7d82000ec7e8e4": {
      "model_module": "@jupyter-widgets/controls",
      "model_module_version": "1.5.0",
      "model_name": "DescriptionStyleModel",
      "state": {
       "description_width": ""
      }
     },
     "f40c5d077ff845d6864f790df88a5c89": {
      "model_module": "@jupyter-widgets/controls",
      "model_module_version": "1.5.0",
      "model_name": "ButtonModel",
      "state": {
       "description": "EDIT",
       "layout": "IPY_MODEL_94b6022b8cfd4d2dadd402d02bfe2666",
       "style": "IPY_MODEL_4b8995f23b2f4ba9b51b0c6ec255dc7d"
      }
     },
     "f40f95dfcaef4f939721cbaa5afaf504": {
      "model_module": "@jupyter-widgets/controls",
      "model_module_version": "1.5.0",
      "model_name": "ButtonStyleModel",
      "state": {}
     },
     "f412ef5d0cbe4477bd75e4aa09b6f68f": {
      "model_module": "@jupyter-widgets/controls",
      "model_module_version": "1.5.0",
      "model_name": "ButtonModel",
      "state": {
       "layout": "IPY_MODEL_2b6b581b5ab94e73b30371d8aff3f768",
       "style": "IPY_MODEL_5b997da272924b6d90454cc430397ad0"
      }
     },
     "f423e1886d94410894d0c4399d7ffc33": {
      "model_module": "@jupyter-widgets/controls",
      "model_module_version": "1.5.0",
      "model_name": "ButtonModel",
      "state": {
       "description": "EDIT",
       "layout": "IPY_MODEL_d89d0c29725949a98d6cf07a4d05e901",
       "style": "IPY_MODEL_ceb54c0ccb554d51a7a48ea538a959b5"
      }
     },
     "f4421f171a4249258b0ff2640c76c301": {
      "model_module": "@jupyter-widgets/base",
      "model_module_version": "1.2.0",
      "model_name": "LayoutModel",
      "state": {
       "order": "-1",
       "overflow": "visible",
       "padding": "1px",
       "width": "0px"
      }
     },
     "f443faff91544ba6b385c09270e79b8d": {
      "model_module": "@jupyter-widgets/base",
      "model_module_version": "1.2.0",
      "model_name": "LayoutModel",
      "state": {}
     },
     "f4509691a89744538dd861ab067c5c69": {
      "model_module": "@jupyter-widgets/base",
      "model_module_version": "1.2.0",
      "model_name": "LayoutModel",
      "state": {}
     },
     "f466189a8f724671b45186319dd3d7ab": {
      "model_module": "@jupyter-widgets/controls",
      "model_module_version": "1.5.0",
      "model_name": "ButtonModel",
      "state": {
       "description": "EDIT",
       "layout": "IPY_MODEL_2d4c8dbe615540f38dfce9437abb169e",
       "style": "IPY_MODEL_e4b66b66489c47df9fad38c13ba635e0"
      }
     },
     "f49cba5762094e2d9bfcac764aa0e746": {
      "model_module": "@jupyter-widgets/base",
      "model_module_version": "1.2.0",
      "model_name": "LayoutModel",
      "state": {}
     },
     "f4aaa3f301734d0fad5c9a0ecb449159": {
      "model_module": "@jupyter-widgets/base",
      "model_module_version": "1.2.0",
      "model_name": "LayoutModel",
      "state": {
       "display": "none",
       "width": "60px"
      }
     },
     "f4efbd45010441e1869dd57dc899c567": {
      "model_module": "@jupyter-widgets/controls",
      "model_module_version": "1.5.0",
      "model_name": "LabelModel",
      "state": {
       "layout": "IPY_MODEL_bc7fa07f31564263882d98db77ee3af8",
       "style": "IPY_MODEL_f39022d05b4c42689e7d82000ec7e8e4",
       "value": "   objective"
      }
     },
     "f5775eaa11604f0ab635765434a1bce3": {
      "model_module": "@jupyter-widgets/base",
      "model_module_version": "1.2.0",
      "model_name": "LayoutModel",
      "state": {
       "overflow": "visible",
       "width": "100%"
      }
     },
     "f59016a2441a4de3a191d5754702b4da": {
      "model_module": "@jupyter-widgets/controls",
      "model_module_version": "1.5.0",
      "model_name": "DescriptionStyleModel",
      "state": {
       "description_width": ""
      }
     },
     "f5917ead5165458aa390c1c06893399f": {
      "model_module": "@jupyter-widgets/controls",
      "model_module_version": "1.5.0",
      "model_name": "ButtonModel",
      "state": {
       "description": "EDIT",
       "layout": "IPY_MODEL_5da277d0efa54ab999b34f90a6d00ec9",
       "style": "IPY_MODEL_01e85c181685460182891d9e7fef8897"
      }
     },
     "f5efe74257224bb995649d13b0c0ba47": {
      "model_module": "@jupyter-widgets/base",
      "model_module_version": "1.2.0",
      "model_name": "LayoutModel",
      "state": {
       "height": "300px",
       "justify_content": "space-between"
      }
     },
     "f610eaa73f90484999365d08c35d0dc1": {
      "model_module": "@jupyter-widgets/controls",
      "model_module_version": "1.5.0",
      "model_name": "LabelModel",
      "state": {
       "layout": "IPY_MODEL_2c535e9c53584dde92021368c41a3ffb",
       "style": "IPY_MODEL_209287f8f7964fddbc7500d509f475a7",
       "value": "   objective"
      }
     },
     "f6204755221743759975eafebc276688": {
      "model_module": "@jupyter-widgets/base",
      "model_module_version": "1.2.0",
      "model_name": "LayoutModel",
      "state": {}
     },
     "f63d5df9dbe6470489a681d882b90ee6": {
      "model_module": "@jupyter-widgets/controls",
      "model_module_version": "1.5.0",
      "model_name": "ProgressStyleModel",
      "state": {
       "description_width": ""
      }
     },
     "f6422e7c30f7452bb54abb837c5fbce7": {
      "model_module": "@jupyter-widgets/controls",
      "model_module_version": "1.5.0",
      "model_name": "ButtonStyleModel",
      "state": {}
     },
     "f64910c3c4b84d3ca9028659a12b918a": {
      "model_module": "@jupyter-widgets/base",
      "model_module_version": "1.2.0",
      "model_name": "LayoutModel",
      "state": {}
     },
     "f6bd6099aa7642c4a3c70ba3cef5ee38": {
      "model_module": "@jupyter-widgets/controls",
      "model_module_version": "1.5.0",
      "model_name": "DescriptionStyleModel",
      "state": {
       "description_width": ""
      }
     },
     "f730eccd57d24a96abd3b48db1a53290": {
      "model_module": "@jupyter-widgets/controls",
      "model_module_version": "1.5.0",
      "model_name": "LabelModel",
      "state": {
       "layout": "IPY_MODEL_83ec74469e1a460f93a6a7ade404d19e",
       "style": "IPY_MODEL_601ec09757254d82a068358d786e070d",
       "value": "   objective"
      }
     },
     "f7492fb4a51c404fb7c2e1407ba6cf68": {
      "model_module": "@jupyter-widgets/controls",
      "model_module_version": "1.5.0",
      "model_name": "ButtonModel",
      "state": {
       "layout": "IPY_MODEL_d3aadd15dc034581b9cfac7f6fc6e8d9",
       "style": "IPY_MODEL_12f7e88a4dbf4831b429c600be1102c4"
      }
     },
     "f756f632079b4ace8103bf3e28c02f08": {
      "model_module": "@jupyter-widgets/controls",
      "model_module_version": "1.5.0",
      "model_name": "ButtonModel",
      "state": {
       "layout": "IPY_MODEL_f24735fc94e24ba8bbc72155776e0fcf",
       "style": "IPY_MODEL_f89d897168894b299e83328655945230"
      }
     },
     "f79b9bd93147420fa50467afcd4fec02": {
      "model_module": "@jupyter-widgets/controls",
      "model_module_version": "1.5.0",
      "model_name": "ButtonStyleModel",
      "state": {}
     },
     "f7ba2fd5dbd140bc84e6ffe88141d8e7": {
      "model_module": "@jupyter-widgets/controls",
      "model_module_version": "1.5.0",
      "model_name": "ProgressStyleModel",
      "state": {
       "description_width": ""
      }
     },
     "f7c458af4df540e5a6601b5c08ffbb68": {
      "model_module": "@jupyter-widgets/controls",
      "model_module_version": "1.5.0",
      "model_name": "ButtonModel",
      "state": {
       "description": "Next",
       "layout": "IPY_MODEL_f8647a539446434ca9c374a3aa0fe5ca",
       "style": "IPY_MODEL_28a63be28ebd4829ba109012d2c40ca3"
      }
     },
     "f7ef3e4bff6f44fe94f8f6244e12064e": {
      "model_module": "@jupyter-widgets/controls",
      "model_module_version": "1.5.0",
      "model_name": "ButtonModel",
      "state": {
       "description": "EDIT",
       "layout": "IPY_MODEL_0c062a4ee9664c56b323dbee2137eab4",
       "style": "IPY_MODEL_e62822e8ec984e0eb58435ed733f87f3"
      }
     },
     "f7fec4dec8794883849f48e75d18e10a": {
      "model_module": "@jupyter-widgets/controls",
      "model_module_version": "1.5.0",
      "model_name": "ProgressStyleModel",
      "state": {
       "description_width": ""
      }
     },
     "f83056bc7b25464d8aebc79209fabbb9": {
      "model_module": "@jupyter-widgets/base",
      "model_module_version": "1.2.0",
      "model_name": "LayoutModel",
      "state": {}
     },
     "f8310b6af02442c08e84b89bc2f8af9d": {
      "model_module": "@jupyter-widgets/controls",
      "model_module_version": "1.5.0",
      "model_name": "LabelModel",
      "state": {
       "layout": "IPY_MODEL_96d6d4ee18d44c98b39543f9c138ec68",
       "style": "IPY_MODEL_263fa3a3b08449a2ac4b655bf5e76bab",
       "value": "   objective"
      }
     },
     "f84dccbfc5b74a21ad8c8ba8843644be": {
      "model_module": "@jupyter-widgets/controls",
      "model_module_version": "1.5.0",
      "model_name": "LabelModel",
      "state": {
       "layout": "IPY_MODEL_dee1df1345214400ac777a4a2f016531",
       "style": "IPY_MODEL_2b5f931fe9474ddf888e6265dd458cf2",
       "value": "   objective"
      }
     },
     "f8647a539446434ca9c374a3aa0fe5ca": {
      "model_module": "@jupyter-widgets/base",
      "model_module_version": "1.2.0",
      "model_name": "LayoutModel",
      "state": {
       "width": "100px"
      }
     },
     "f882aae27896445497df29c682fab3e7": {
      "model_module": "@jupyter-widgets/base",
      "model_module_version": "1.2.0",
      "model_name": "LayoutModel",
      "state": {
       "order": "-1",
       "overflow": "visible",
       "padding": "1px",
       "width": "0px"
      }
     },
     "f8861c56024c4d66b5d867336dfa7d8e": {
      "model_module": "@jupyter-widgets/controls",
      "model_module_version": "1.5.0",
      "model_name": "ButtonStyleModel",
      "state": {}
     },
     "f89d897168894b299e83328655945230": {
      "model_module": "@jupyter-widgets/controls",
      "model_module_version": "1.5.0",
      "model_name": "ButtonStyleModel",
      "state": {}
     },
     "f8cb2e2e88314823bbf4ccceb4d12e4e": {
      "model_module": "@jupyter-widgets/controls",
      "model_module_version": "1.5.0",
      "model_name": "ButtonStyleModel",
      "state": {}
     },
     "f9384b1b524446628f09191ab7fec8a9": {
      "model_module": "@jupyter-widgets/controls",
      "model_module_version": "1.5.0",
      "model_name": "HTMLModel",
      "state": {
       "layout": "IPY_MODEL_1af69197a2004a938f434f5b36e48f37",
       "style": "IPY_MODEL_e8016bd3bb2b4d32a004cf066f3c9620",
       "value": "<font size=\"1\">Path/Path/Path/Path/</font size>"
      }
     },
     "f94d945c75bc4e1293b66ad9b9a977a7": {
      "model_module": "@jupyter-widgets/controls",
      "model_module_version": "1.5.0",
      "model_name": "HBoxModel",
      "state": {
       "children": [
        "IPY_MODEL_4bbb1e10d42049e4ab2fe5ee42584361",
        "IPY_MODEL_0ea426ff637e4912b33233d9fd63bf50",
        "IPY_MODEL_c79464e4314142eea986b8d732ca75bb",
        "IPY_MODEL_6a7f5fcb9b0d40d7815768ffa82ed77c"
       ],
       "layout": "IPY_MODEL_50b699fedfcc40f6be36e17f02cb4cc8"
      }
     },
     "f96ea18b25d34388af1fa20099db97f0": {
      "model_module": "@jupyter-widgets/controls",
      "model_module_version": "1.5.0",
      "model_name": "LabelModel",
      "state": {
       "layout": "IPY_MODEL_904abf88d86746e89f91f7764eaf9cd2",
       "style": "IPY_MODEL_b3504f0dcaf24726abab55e2f45a9c32",
       "value": "   objective"
      }
     },
     "f984b6bfd64f4452859a306386180193": {
      "model_module": "@jupyter-widgets/base",
      "model_module_version": "1.2.0",
      "model_name": "LayoutModel",
      "state": {
       "height": "32px",
       "overflow": "visible",
       "width": "100%"
      }
     },
     "f9ea4b90578249cb8831b89c170a8f55": {
      "model_module": "@jupyter-widgets/base",
      "model_module_version": "1.2.0",
      "model_name": "LayoutModel",
      "state": {}
     },
     "fa316b0e63884ca6bbc3a23e500f9a8c": {
      "model_module": "@jupyter-widgets/controls",
      "model_module_version": "1.5.0",
      "model_name": "HTMLModel",
      "state": {
       "layout": "IPY_MODEL_85a2180a65d24a17b0ba3ddb5f23966a",
       "style": "IPY_MODEL_b4c0d6332ad24de29bd66c115cda2bc8",
       "value": "<font size=\"1\">Path/Path/Path/Path/</font size>"
      }
     },
     "fa3f244e98074fcbb2234830576228cd": {
      "model_module": "@jupyter-widgets/base",
      "model_module_version": "1.2.0",
      "model_name": "LayoutModel",
      "state": {}
     },
     "fa4132f91b52439cad58c56a1d877fd6": {
      "model_module": "@jupyter-widgets/controls",
      "model_module_version": "1.5.0",
      "model_name": "ButtonModel",
      "state": {
       "description": "EDIT",
       "layout": "IPY_MODEL_8c61c6e980e74de680f1d2762edda1e7",
       "style": "IPY_MODEL_6a102ef269a14510aa301bb31de10f2b"
      }
     },
     "fa96a6dca61e4d40b313e263c2b2d865": {
      "model_module": "@jupyter-widgets/controls",
      "model_module_version": "1.5.0",
      "model_name": "ButtonStyleModel",
      "state": {}
     },
     "faaef0c7eeac47bf84ba4ac16f69feeb": {
      "model_module": "@jupyter-widgets/controls",
      "model_module_version": "1.5.0",
      "model_name": "HTMLModel",
      "state": {
       "layout": "IPY_MODEL_33704a7005034ecd8730d9707dcf2e9d",
       "style": "IPY_MODEL_8521920f8ae44333991f41ab2039813d",
       "value": "<b>Task Name</b>"
      }
     },
     "faff4fb4e5254b2ca743ea8b513250b0": {
      "model_module": "@jupyter-widgets/controls",
      "model_module_version": "1.5.0",
      "model_name": "ButtonStyleModel",
      "state": {}
     },
     "fb3708d1edb3428ab20cee0bb307cacd": {
      "model_module": "@jupyter-widgets/base",
      "model_module_version": "1.2.0",
      "model_name": "LayoutModel",
      "state": {
       "display": "none",
       "width": "60px"
      }
     },
     "fb4bafcf81804c5f922861fb1bc11fc3": {
      "model_module": "@jupyter-widgets/controls",
      "model_module_version": "1.5.0",
      "model_name": "ButtonStyleModel",
      "state": {}
     },
     "fb9eb44153b6426fbc5f0079a203d6ba": {
      "model_module": "@jupyter-widgets/controls",
      "model_module_version": "1.5.0",
      "model_name": "LabelModel",
      "state": {
       "layout": "IPY_MODEL_d003bc57ba614c0d811533de42c16845",
       "style": "IPY_MODEL_64d32835e795470481a4458f95699261",
       "value": "   objective"
      }
     },
     "fbfe5345e3d54cbd948e8f7c882a1c5e": {
      "model_module": "@jupyter-widgets/controls",
      "model_module_version": "1.5.0",
      "model_name": "ButtonModel",
      "state": {
       "description": "EDIT",
       "layout": "IPY_MODEL_236cf21e0b0248ebb30301c159c71b3a",
       "style": "IPY_MODEL_07e28c76460544a78e92d3d83cae4617"
      }
     },
     "fc1306e63ee24df4892aaaeef70cd973": {
      "model_module": "@jupyter-widgets/controls",
      "model_module_version": "1.5.0",
      "model_name": "VBoxModel",
      "state": {
       "children": [
        "IPY_MODEL_16b8597308834cbe957fa63ed801a0a9",
        "IPY_MODEL_b88d15aa719147829bf6de7bf7903fab",
        "IPY_MODEL_08ffdc78c02a42b29c3845e1a5758f03",
        "IPY_MODEL_0623be632b5e4291af66b11e9d1818f4",
        "IPY_MODEL_7b61893bb9b64145bfb3a93bbcc8f016",
        "IPY_MODEL_994cab5d2f724e6d964ae2b9da97d5e3",
        "IPY_MODEL_100b22802eee45fdb6366965c1fa082b",
        "IPY_MODEL_8cddfe8fecf54cbe91c03a9fca8b6b49",
        "IPY_MODEL_0df735dfcee54f5b89c8649a9fb08285",
        "IPY_MODEL_377959a6723e4dcda852e92ec2c85aa0",
        "IPY_MODEL_265fbed9d73e4572a2c8a3665e660841"
       ],
       "layout": "IPY_MODEL_e0c24ec3b10341d2bd497c2de3060404"
      }
     },
     "fc174156cf624310981b175e5ed3f5cd": {
      "model_module": "@jupyter-widgets/controls",
      "model_module_version": "1.5.0",
      "model_name": "HBoxModel",
      "state": {
       "children": [
        "IPY_MODEL_ce13f9130c5b4fb488534b0a3dbdb10f",
        "IPY_MODEL_df947ffa549d459a9531af52a1f0d240",
        "IPY_MODEL_14718ca71308481e9e33fc107a28c2b9",
        "IPY_MODEL_03229363f047412985a201ede2b7d44d"
       ],
       "layout": "IPY_MODEL_3ac3190168cb4abfb931f8f7355883e5"
      }
     },
     "fc415a2d5fa743c3a1c7c5aa26ee7b12": {
      "model_module": "@jupyter-widgets/controls",
      "model_module_version": "1.5.0",
      "model_name": "ButtonStyleModel",
      "state": {}
     },
     "fcc43e8ca0e2418ba13c8647a7475f15": {
      "model_module": "@jupyter-widgets/base",
      "model_module_version": "1.2.0",
      "model_name": "LayoutModel",
      "state": {
       "order": "-1",
       "overflow": "visible",
       "padding": "1px",
       "width": "0px"
      }
     },
     "fcd74968f22343a1b34b054ef216f757": {
      "model_module": "@jupyter-widgets/base",
      "model_module_version": "1.2.0",
      "model_name": "LayoutModel",
      "state": {
       "order": "-1",
       "overflow": "visible",
       "padding": "1px",
       "width": "0px"
      }
     },
     "fcdc52dc808d406dad93b023032ccbd7": {
      "model_module": "@jupyter-widgets/controls",
      "model_module_version": "1.5.0",
      "model_name": "IntProgressModel",
      "state": {
       "layout": "IPY_MODEL_75531e172b964dfb98e177c0d81eee2e",
       "style": "IPY_MODEL_e7d96315fb6f4cc3a1b3fbfaaac12b20",
       "value": 30
      }
     },
     "fcde31dc50074bf885a27d2c18390ed2": {
      "model_module": "@jupyter-widgets/base",
      "model_module_version": "1.2.0",
      "model_name": "LayoutModel",
      "state": {}
     },
     "fd10cce19497434a80e6da26d4af2e38": {
      "model_module": "@jupyter-widgets/controls",
      "model_module_version": "1.5.0",
      "model_name": "LabelModel",
      "state": {
       "layout": "IPY_MODEL_7c05d9cb5d874662a15eca106e8a8a52",
       "style": "IPY_MODEL_2043f137cd944f74898a705022e84d15",
       "value": "   objective"
      }
     },
     "fd29e9e3bf0b4fc2b056392ed904abbc": {
      "model_module": "@jupyter-widgets/controls",
      "model_module_version": "1.5.0",
      "model_name": "IntProgressModel",
      "state": {
       "layout": "IPY_MODEL_5a718d4b9cfb4503aa6c9e521ca0ccdd",
       "style": "IPY_MODEL_a1e8d465f58d469e8471d17ddc9b8f92",
       "value": 30
      }
     },
     "fd458cc1793847cfb85ef6f67235a251": {
      "model_module": "@jupyter-widgets/controls",
      "model_module_version": "1.5.0",
      "model_name": "ProgressStyleModel",
      "state": {
       "description_width": ""
      }
     },
     "fd754b03085c4822979eecd1a67fc75a": {
      "model_module": "@jupyter-widgets/controls",
      "model_module_version": "1.5.0",
      "model_name": "ButtonStyleModel",
      "state": {}
     },
     "fdb21622296c47b9859dd8f18c9051b9": {
      "model_module": "@jupyter-widgets/controls",
      "model_module_version": "1.5.0",
      "model_name": "IntProgressModel",
      "state": {
       "layout": "IPY_MODEL_7458d53c061147bf9cf61ce8d78747df",
       "style": "IPY_MODEL_1515dc8d48ed46e3871bc311aa7bd93e",
       "value": 30
      }
     },
     "fdbd539ce34c4aeda7b0e79029df8419": {
      "model_module": "@jupyter-widgets/base",
      "model_module_version": "1.2.0",
      "model_name": "LayoutModel",
      "state": {}
     },
     "fdf88535186b44bebd9f694c998dc5a6": {
      "model_module": "@jupyter-widgets/controls",
      "model_module_version": "1.5.0",
      "model_name": "ProgressStyleModel",
      "state": {
       "description_width": ""
      }
     },
     "fdffe2bb888f4e9a991226aa4d1f3c04": {
      "model_module": "@jupyter-widgets/base",
      "model_module_version": "1.2.0",
      "model_name": "LayoutModel",
      "state": {}
     },
     "fe05601ec09749a7ae521a424b87e656": {
      "model_module": "@jupyter-widgets/controls",
      "model_module_version": "1.5.0",
      "model_name": "ButtonModel",
      "state": {
       "layout": "IPY_MODEL_45de8fc4631c4954826344a5d861a1ac",
       "style": "IPY_MODEL_c082d2770e41453fac953497a27190de"
      }
     },
     "fe28d8d5013145dd97bd790e3ecaef1f": {
      "model_module": "@jupyter-widgets/controls",
      "model_module_version": "1.5.0",
      "model_name": "DescriptionStyleModel",
      "state": {
       "description_width": ""
      }
     },
     "fe71586f885d4fadb486fd4abfd3ecb3": {
      "model_module": "@jupyter-widgets/controls",
      "model_module_version": "1.5.0",
      "model_name": "ButtonStyleModel",
      "state": {}
     },
     "fe807a36c25741009879366077551ab7": {
      "model_module": "@jupyter-widgets/controls",
      "model_module_version": "1.5.0",
      "model_name": "ButtonStyleModel",
      "state": {}
     },
     "fe9cd52c209d4528bd55ab855162be11": {
      "model_module": "@jupyter-widgets/base",
      "model_module_version": "1.2.0",
      "model_name": "LayoutModel",
      "state": {
       "border": "3px solid white",
       "flex": "1 1 0%",
       "margin": "10px",
       "min_width": "400px",
       "overflow": "visible",
       "padding": "10px",
       "width": "auto"
      }
     },
     "ff664c0b059e495bb46b63c9ed579e4e": {
      "model_module": "@jupyter-widgets/base",
      "model_module_version": "1.2.0",
      "model_name": "LayoutModel",
      "state": {
       "overflow": "visible",
       "width": "100%"
      }
     },
     "ffc33b03d0d243a7ba28ed36f0bf46a2": {
      "model_module": "@jupyter-widgets/base",
      "model_module_version": "1.2.0",
      "model_name": "LayoutModel",
      "state": {
       "display": "none",
       "width": "60px"
      }
     },
     "fff875b6bf374da7aeaa8c2dcaccfefb": {
      "model_module": "@jupyter-widgets/base",
      "model_module_version": "1.2.0",
      "model_name": "LayoutModel",
      "state": {
       "order": "-1",
       "overflow": "visible",
       "padding": "1px",
       "width": "0px"
      }
     },
     "fffd60ca50154161b43f4c96e15be104": {
      "model_module": "@jupyter-widgets/base",
      "model_module_version": "1.2.0",
      "model_name": "LayoutModel",
      "state": {}
     }
    },
    "version_major": 2,
    "version_minor": 0
   }
  }
 },
 "nbformat": 4,
 "nbformat_minor": 4
}
