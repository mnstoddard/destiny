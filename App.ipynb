{
 "cells": [
  {
   "cell_type": "code",
   "execution_count": null,
   "metadata": {},
   "outputs": [],
   "source": [
    "import ipywidgets as ipw\n",
    "output2 = ipw.Output()\n",
    "display(output2)\n",
    "\n",
    "#TODO: getting to last path filter, hids all of them?\n",
    "#TODO: Add descriptions to Lore describe how to find it\n",
    "#TODO: Add sort capabillity?\n",
    "#TODO: ADD edit requirements panel\n",
    "#TODO: make the triumphs scroll, but no the side panels\n",
    "#TODO: When changing the path filters back to all, it required button refresh\n",
    "#TODO: change the refresh to repull data, move to the bottom? Rename (Refresh Progress)? show a loading bar"
   ]
  },
  {
   "cell_type": "code",
   "execution_count": 2,
   "metadata": {},
   "outputs": [
    {
     "data": {
      "application/vnd.jupyter.widget-view+json": {
       "model_id": "3a6ea4cf93304257bc7b9b660eb3206d",
       "version_major": 2,
       "version_minor": 0
      },
      "text/plain": [
       "Output()"
      ]
     },
     "metadata": {},
     "output_type": "display_data"
    }
   ],
   "source": [
    "%run initialize.ipynb\n",
    "edit_mode = True"
   ]
  },
  {
   "cell_type": "code",
   "execution_count": null,
   "metadata": {},
   "outputs": [],
   "source": []
  }
 ],
 "metadata": {
  "kernelspec": {
   "display_name": "Python 3",
   "language": "python",
   "name": "python3"
  },
  "language_info": {
   "codemirror_mode": {
    "name": "ipython",
    "version": 3
   },
   "file_extension": ".py",
   "mimetype": "text/x-python",
   "name": "python",
   "nbconvert_exporter": "python",
   "pygments_lexer": "ipython3",
   "version": "3.7.4"
  },
  "widgets": {
   "application/vnd.jupyter.widget-state+json": {
    "state": {
     "000099cc4c654b66a6c0c04e2bb9b3c5": {
      "model_module": "@jupyter-widgets/controls",
      "model_module_version": "1.5.0",
      "model_name": "ButtonStyleModel",
      "state": {}
     },
     "0014f635681a4dc7aeab1834e1135b1e": {
      "model_module": "@jupyter-widgets/controls",
      "model_module_version": "1.5.0",
      "model_name": "ButtonStyleModel",
      "state": {}
     },
     "00180f718ae741d6a3556d6cb68ede57": {
      "model_module": "@jupyter-widgets/controls",
      "model_module_version": "1.5.0",
      "model_name": "ButtonModel",
      "state": {
       "button_style": "success",
       "description": "EDIT",
       "layout": "IPY_MODEL_4ce93707436f4f9d8e3d101d272155b2",
       "style": "IPY_MODEL_6d8c83cd3ab14fb28bc5235931d040e9"
      }
     },
     "0037a38bbbbb4b758b992ebc9b4dde20": {
      "model_module": "@jupyter-widgets/controls",
      "model_module_version": "1.5.0",
      "model_name": "IntProgressModel",
      "state": {
       "layout": "IPY_MODEL_93623ca2fc694250bd3baa273dc900f2",
       "style": "IPY_MODEL_2d1b8c074ad0483a897688d1e3371ee7",
       "value": 30
      }
     },
     "00442bda87e04b5393e757a45bd85151": {
      "model_module": "@jupyter-widgets/controls",
      "model_module_version": "1.5.0",
      "model_name": "LabelModel",
      "state": {
       "layout": "IPY_MODEL_64806caa13e74aa89f48be75d0ffcf26",
       "style": "IPY_MODEL_c5f31289dbb94256804056538dc24cdf",
       "value": "     (1/1)"
      }
     },
     "0044430078714b3caf9b3b2028f8d74d": {
      "model_module": "@jupyter-widgets/controls",
      "model_module_version": "1.5.0",
      "model_name": "ButtonStyleModel",
      "state": {}
     },
     "0053f744e7584eb5aed4a7b5b0c89d23": {
      "model_module": "@jupyter-widgets/controls",
      "model_module_version": "1.5.0",
      "model_name": "HBoxModel",
      "state": {
       "children": [
        "IPY_MODEL_094a56556177487faf8b87d034087313",
        "IPY_MODEL_2a38be5e87744959b2aeec70837c521e",
        "IPY_MODEL_0e7181a2ab9845c5a9f122218d5cd592",
        "IPY_MODEL_acadd4f28a3c4494b91f3debf47599ed"
       ],
       "layout": "IPY_MODEL_667bc5af79954785b853cf599aeb47a0"
      }
     },
     "006541da129b4b46af3244511df3acec": {
      "model_module": "@jupyter-widgets/controls",
      "model_module_version": "1.5.0",
      "model_name": "DescriptionStyleModel",
      "state": {
       "description_width": ""
      }
     },
     "007b36b416074a4080200e607311405e": {
      "model_module": "@jupyter-widgets/controls",
      "model_module_version": "1.5.0",
      "model_name": "ButtonModel",
      "state": {
       "description": "EDIT",
       "layout": "IPY_MODEL_7ebb57eab6664130ae1fdd7b68ee45d3",
       "style": "IPY_MODEL_308e1c3ce0484ed7a1105b523a3c274a"
      }
     },
     "007f7d950b4440a484c73f43bc3635e5": {
      "model_module": "@jupyter-widgets/controls",
      "model_module_version": "1.5.0",
      "model_name": "ButtonModel",
      "state": {
       "description": "EDIT",
       "layout": "IPY_MODEL_dfc1776ffacd4f37bec39c54f11e083a",
       "style": "IPY_MODEL_c5bb33798034431ea8c6e83927334333"
      }
     },
     "008ed1c01b6b4ac7b96ddd3a79e47d07": {
      "model_module": "@jupyter-widgets/controls",
      "model_module_version": "1.5.0",
      "model_name": "ButtonModel",
      "state": {
       "description": "Next",
       "layout": "IPY_MODEL_745d523f1cfe4e0fbf082e8af99d8b31",
       "style": "IPY_MODEL_27491e6088904c9b80c3110414360b5c"
      }
     },
     "00a03d8dbd5f4349bdf6d1f7d5f60a21": {
      "model_module": "@jupyter-widgets/base",
      "model_module_version": "1.2.0",
      "model_name": "LayoutModel",
      "state": {
       "display": "none"
      }
     },
     "00cc547dd35d4231b64c81c5d243d889": {
      "model_module": "@jupyter-widgets/controls",
      "model_module_version": "1.5.0",
      "model_name": "ButtonStyleModel",
      "state": {}
     },
     "00d7335fac3545f98019ddc9e0085df2": {
      "model_module": "@jupyter-widgets/base",
      "model_module_version": "1.2.0",
      "model_name": "LayoutModel",
      "state": {}
     },
     "01166849f6a64715a890c0614f209099": {
      "model_module": "@jupyter-widgets/base",
      "model_module_version": "1.2.0",
      "model_name": "LayoutModel",
      "state": {
       "height": "32px",
       "overflow": "visible",
       "width": "100%"
      }
     },
     "015c05d444114e5cb8312d896040b83b": {
      "model_module": "@jupyter-widgets/base",
      "model_module_version": "1.2.0",
      "model_name": "LayoutModel",
      "state": {
       "display": "flex",
       "flex_flow": "row wrap"
      }
     },
     "01c1d992720940c1ab9cb48b5d13531f": {
      "model_module": "@jupyter-widgets/base",
      "model_module_version": "1.2.0",
      "model_name": "LayoutModel",
      "state": {
       "display": "none"
      }
     },
     "0210e9a8073742a09cb1e067b623510a": {
      "model_module": "@jupyter-widgets/base",
      "model_module_version": "1.2.0",
      "model_name": "LayoutModel",
      "state": {
       "height": "32px",
       "order": "-2",
       "width": "32px"
      }
     },
     "021f83ddb7b046a7abe613adca8a372a": {
      "model_module": "@jupyter-widgets/controls",
      "model_module_version": "1.5.0",
      "model_name": "ProgressStyleModel",
      "state": {
       "description_width": ""
      }
     },
     "025b7969b987429cb50caa61118dc53f": {
      "model_module": "@jupyter-widgets/base",
      "model_module_version": "1.2.0",
      "model_name": "LayoutModel",
      "state": {}
     },
     "0304b5935ff34ff0b97b0016df10e907": {
      "model_module": "@jupyter-widgets/controls",
      "model_module_version": "1.5.0",
      "model_name": "LabelModel",
      "state": {
       "layout": "IPY_MODEL_3dbf3798ff924c5d995aa719f333cb75",
       "style": "IPY_MODEL_f045f1482d034c618f270b6fa3f2ab21",
       "value": "   objective"
      }
     },
     "032a405582354a1ea87214f066d144c8": {
      "model_module": "@jupyter-widgets/controls",
      "model_module_version": "1.5.0",
      "model_name": "ButtonModel",
      "state": {
       "button_style": "success",
       "disabled": true,
       "layout": "IPY_MODEL_2b3330da6cf447ac965806d465134df7",
       "style": "IPY_MODEL_7154137ae4e84be59f22a4fdc4a63e5b"
      }
     },
     "032f46f216474d89bf03dd70a3f9f3bf": {
      "model_module": "@jupyter-widgets/controls",
      "model_module_version": "1.5.0",
      "model_name": "HTMLModel",
      "state": {
       "layout": "IPY_MODEL_2b50bd56fdf74850a70fd54465b0b79b",
       "style": "IPY_MODEL_aa47fa7ad4864e80a3cbc04a1b3c385d",
       "value": "<font size=\"1\">Triumphs/Lore/The Light/Dust/The Nine</font size=>"
      }
     },
     "034fe53e66b14823a169e91110d2c897": {
      "model_module": "@jupyter-widgets/controls",
      "model_module_version": "1.5.0",
      "model_name": "LabelModel",
      "state": {
       "layout": "IPY_MODEL_3aa0ccfb90dd4ada8230802b50894ff2",
       "style": "IPY_MODEL_c646e3af31e24965a071d8141f333bb6",
       "value": "   objective"
      }
     },
     "0365599ef6f14b09b1d64ff8f7e0ab56": {
      "model_module": "@jupyter-widgets/controls",
      "model_module_version": "1.5.0",
      "model_name": "DescriptionStyleModel",
      "state": {
       "description_width": ""
      }
     },
     "038f3587a21c4c86bbb095ce4c4e4f8b": {
      "model_module": "@jupyter-widgets/controls",
      "model_module_version": "1.5.0",
      "model_name": "HBoxModel",
      "state": {
       "children": [
        "IPY_MODEL_900abe69e7164670b866409c7d84b769",
        "IPY_MODEL_edbb9bde52ef46929c1beedb9301a270",
        "IPY_MODEL_07721c4dbc00461c9d4969d9451c453d",
        "IPY_MODEL_db6afee60da743e08e2156caf52e6434"
       ],
       "layout": "IPY_MODEL_75b90f5d1b7b4eba93b2b63d2f26d588"
      }
     },
     "03a1eaa998364bff909b76fcd48b39e6": {
      "model_module": "@jupyter-widgets/controls",
      "model_module_version": "1.5.0",
      "model_name": "DropdownModel",
      "state": {
       "_options_labels": [
        "Any",
        "Hand Cannon",
        "Auto Rifle",
        "Scout Rifle",
        "Pulse Rifle",
        "Sidearm",
        "Submachine Gun",
        "Combt Bow",
        "Sniper Rifle",
        "Shotgun",
        "Fusion Rifle",
        "Grenade Launcher"
       ],
       "index": 0,
       "layout": "IPY_MODEL_784aff25cdc347d888d61dc2bd10db0e",
       "style": "IPY_MODEL_3ead59e6cded4c5d9cd66d9b6bf8112e"
      }
     },
     "04023845f44844c4b58903199637f645": {
      "model_module": "@jupyter-widgets/base",
      "model_module_version": "1.2.0",
      "model_name": "LayoutModel",
      "state": {
       "overflow": "visible",
       "width": "100%"
      }
     },
     "04134b2b2c7945209f8ac2f2899c2ecd": {
      "model_module": "@jupyter-widgets/base",
      "model_module_version": "1.2.0",
      "model_name": "LayoutModel",
      "state": {
       "order": "-1",
       "overflow": "visible",
       "padding": "1px",
       "width": "0px"
      }
     },
     "0425266f66a64a87948039beccc71a6e": {
      "model_module": "@jupyter-widgets/controls",
      "model_module_version": "1.5.0",
      "model_name": "ProgressStyleModel",
      "state": {
       "description_width": ""
      }
     },
     "043fa70f32c34025a4e8c057981bf360": {
      "model_module": "@jupyter-widgets/controls",
      "model_module_version": "1.5.0",
      "model_name": "HBoxModel",
      "state": {
       "children": [
        "IPY_MODEL_5df100ffeb6f4710a9e5af86fbf41fd3",
        "IPY_MODEL_f842a99b78f8476c8e2c877af4019db8",
        "IPY_MODEL_745944fd587940328c8633ab2b1168f5",
        "IPY_MODEL_38ee37e42462443dac294a7c34bf3230"
       ],
       "layout": "IPY_MODEL_856f6ba3124841e8af50630d6ad963b3"
      }
     },
     "04abe38e10674651abd63fc624276da4": {
      "model_module": "@jupyter-widgets/controls",
      "model_module_version": "1.5.0",
      "model_name": "ButtonStyleModel",
      "state": {}
     },
     "04b9732cdb7b460ba74898178c1a9c66": {
      "model_module": "@jupyter-widgets/controls",
      "model_module_version": "1.5.0",
      "model_name": "LabelModel",
      "state": {
       "layout": "IPY_MODEL_f4d08a735d874f45b3ea08f320ca5062",
       "style": "IPY_MODEL_59862e8826b54f8abedba00c93259309",
       "value": "   objective"
      }
     },
     "04d5007ba6514ecb99ebec1fe83d49e5": {
      "model_module": "@jupyter-widgets/controls",
      "model_module_version": "1.5.0",
      "model_name": "IntProgressModel",
      "state": {
       "bar_style": "success",
       "layout": "IPY_MODEL_609cabc1911e433ab7ce4c947a7b2e1e",
       "max": 1,
       "style": "IPY_MODEL_a8f3ff8524164c8f8a0ce6f60e7ca092",
       "value": 1
      }
     },
     "04eb938ce2db407aa8047502c1c45d01": {
      "model_module": "@jupyter-widgets/controls",
      "model_module_version": "1.5.0",
      "model_name": "DescriptionStyleModel",
      "state": {
       "description_width": ""
      }
     },
     "0559d62c26e5407f9482e3bf71190994": {
      "model_module": "@jupyter-widgets/controls",
      "model_module_version": "1.5.0",
      "model_name": "DescriptionStyleModel",
      "state": {
       "description_width": ""
      }
     },
     "058032ffc4a94b53901adf218a0856ab": {
      "model_module": "@jupyter-widgets/base",
      "model_module_version": "1.2.0",
      "model_name": "LayoutModel",
      "state": {
       "height": "32px",
       "order": "-2",
       "width": "32px"
      }
     },
     "05a1fec16741451b8f4c79f9475dc287": {
      "model_module": "@jupyter-widgets/controls",
      "model_module_version": "1.5.0",
      "model_name": "LabelModel",
      "state": {
       "layout": "IPY_MODEL_330af03151b54352aff7d2481f30d1ca",
       "style": "IPY_MODEL_38cf0a1f7f5249acb09ea1f6b7d9a5ce",
       "value": "    Flashpoint completed (5/1)"
      }
     },
     "05af12f3226f428498f81c1829029304": {
      "model_module": "@jupyter-widgets/controls",
      "model_module_version": "1.5.0",
      "model_name": "ButtonStyleModel",
      "state": {}
     },
     "05c0b0cef0054a64b989187e6d7d886d": {
      "model_module": "@jupyter-widgets/controls",
      "model_module_version": "1.5.0",
      "model_name": "IntProgressModel",
      "state": {
       "layout": "IPY_MODEL_f989fdd790f94ba2ae9a46a97b498d9f",
       "style": "IPY_MODEL_05fee6cf1d124178983c8da060740993",
       "value": 30
      }
     },
     "05d20db184ff46338d23613eee0881f6": {
      "model_module": "@jupyter-widgets/base",
      "model_module_version": "1.2.0",
      "model_name": "LayoutModel",
      "state": {
       "display": "flex",
       "flex_flow": "row wrap"
      }
     },
     "05fee6cf1d124178983c8da060740993": {
      "model_module": "@jupyter-widgets/controls",
      "model_module_version": "1.5.0",
      "model_name": "ProgressStyleModel",
      "state": {
       "description_width": ""
      }
     },
     "06079b333c8240369d05148895d32554": {
      "model_module": "@jupyter-widgets/base",
      "model_module_version": "1.2.0",
      "model_name": "LayoutModel",
      "state": {
       "display": "flex"
      }
     },
     "062034028b714dd58f3ce362a3802090": {
      "model_module": "@jupyter-widgets/controls",
      "model_module_version": "1.5.0",
      "model_name": "ButtonModel",
      "state": {
       "description": "EDIT",
       "layout": "IPY_MODEL_f6c8d89de9744c7c82d54d21af8b3680",
       "style": "IPY_MODEL_9458a4ccbca54ad787e21e4b7e045907"
      }
     },
     "0667ed377e9245fdbf77ab264c1aa6dc": {
      "model_module": "@jupyter-widgets/controls",
      "model_module_version": "1.5.0",
      "model_name": "DropdownModel",
      "state": {
       "_options_labels": [
        "All"
       ],
       "index": 0,
       "layout": "IPY_MODEL_bab5ac87ff244a6fb6b244a4cf6e8699",
       "style": "IPY_MODEL_2ee707a2408040659b34eff983aba3b2"
      }
     },
     "0669fedcd22f4aa38d077a200e716a09": {
      "model_module": "@jupyter-widgets/controls",
      "model_module_version": "1.5.0",
      "model_name": "HBoxModel",
      "state": {
       "children": [
        "IPY_MODEL_16dc5f05e1a54b69ac4f336e46dcfd3a",
        "IPY_MODEL_b3e6cb2fda904bc0bc1f77e4f2f74d68",
        "IPY_MODEL_a49c6886f6e44b11b108426170e6ffc6",
        "IPY_MODEL_2c422faea2104ee3a5ac46b5ec1fd303"
       ],
       "layout": "IPY_MODEL_d358f1cca4f3409c82e8d80331ace330"
      }
     },
     "0681d525641b4c48a2a3e68c66252b97": {
      "model_module": "@jupyter-widgets/controls",
      "model_module_version": "1.5.0",
      "model_name": "ButtonModel",
      "state": {
       "description": "EDIT",
       "layout": "IPY_MODEL_1cfcda25652a483a9bfc6cc048780de7",
       "style": "IPY_MODEL_513021f59458499baa8e3d0fe88fdebc"
      }
     },
     "068a982f110943818346dc0cb74ba25e": {
      "model_module": "@jupyter-widgets/base",
      "model_module_version": "1.2.0",
      "model_name": "LayoutModel",
      "state": {
       "display": "none"
      }
     },
     "0696c613037f4848982e9e69c932f1e0": {
      "model_module": "@jupyter-widgets/controls",
      "model_module_version": "1.5.0",
      "model_name": "LabelModel",
      "state": {
       "layout": "IPY_MODEL_fd65899896304ff68dea6b3b7c745130",
       "style": "IPY_MODEL_0c1a758fa566405faab245fc0c29ea94",
       "value": "   objective"
      }
     },
     "06c1dc0c5ee040e8a3df8096775573cb": {
      "model_module": "@jupyter-widgets/controls",
      "model_module_version": "1.5.0",
      "model_name": "ButtonModel",
      "state": {
       "layout": "IPY_MODEL_10b72d24635b474182d15c703b94bf36",
       "style": "IPY_MODEL_309489366383498e94031ddb14daab2b"
      }
     },
     "0741fcde77eb427885bca91102d7db69": {
      "model_module": "@jupyter-widgets/controls",
      "model_module_version": "1.5.0",
      "model_name": "DescriptionStyleModel",
      "state": {
       "description_width": ""
      }
     },
     "0745020262b54ea88a2dee3e0af54b1f": {
      "model_module": "@jupyter-widgets/controls",
      "model_module_version": "1.5.0",
      "model_name": "HTMLModel",
      "state": {
       "layout": "IPY_MODEL_b01d92ceea03451fbf9e7db161ee1279",
       "style": "IPY_MODEL_8374b3fdb31843988119afa90263dc91",
       "value": "<font size=\"5\"><b>Become Legend</b></font size=>"
      }
     },
     "0752acd7131c4ea9a25b0195cd875aa1": {
      "model_module": "@jupyter-widgets/controls",
      "model_module_version": "1.5.0",
      "model_name": "HTMLModel",
      "state": {
       "layout": "IPY_MODEL_8f1d5c0de5c74bb69f8b15c0f4569ff2",
       "style": "IPY_MODEL_49b563c5171a48eab1baf1fb4bd3f951",
       "value": "<font size=\"1\">Triumphs/Lore/The Light/Dust/The Witch</font size=>"
      }
     },
     "07721c4dbc00461c9d4969d9451c453d": {
      "model_module": "@jupyter-widgets/controls",
      "model_module_version": "1.5.0",
      "model_name": "LabelModel",
      "state": {
       "layout": "IPY_MODEL_a32c1cec469c4fdcb4b7dc28546cb5db",
       "style": "IPY_MODEL_950f2229117447c6871e1cc5c684ee37",
       "value": "   objective"
      }
     },
     "07923204823043219c2d520595dba002": {
      "model_module": "@jupyter-widgets/controls",
      "model_module_version": "1.5.0",
      "model_name": "DescriptionStyleModel",
      "state": {
       "description_width": ""
      }
     },
     "07979388c22c485d8c6214edb42c19c4": {
      "model_module": "@jupyter-widgets/controls",
      "model_module_version": "1.5.0",
      "model_name": "LabelModel",
      "state": {
       "layout": "IPY_MODEL_be28895690af4a4abba28f163ad33fec",
       "style": "IPY_MODEL_a43925076e364e66b3a0bf60feeea11f",
       "value": "Tree:"
      }
     },
     "07bcc7934a754ab1ac1d5c28d4d8e55f": {
      "model_module": "@jupyter-widgets/controls",
      "model_module_version": "1.5.0",
      "model_name": "ButtonStyleModel",
      "state": {}
     },
     "07d18553988f42edbeb47f44e97833bf": {
      "model_module": "@jupyter-widgets/controls",
      "model_module_version": "1.5.0",
      "model_name": "HBoxModel",
      "state": {
       "children": [
        "IPY_MODEL_c51fd7ec28c149afa11b009fd44f0c43",
        "IPY_MODEL_7a51b37093c4470983dc5de78878d8ef",
        "IPY_MODEL_8c1d97f587874ad49fa65394ede80082",
        "IPY_MODEL_624ef62ecaea455bbff17bfd9ec17102"
       ],
       "layout": "IPY_MODEL_a529c09663a6485ea76eaab1dd27ecdd"
      }
     },
     "07fe193422aa45df8b90bc2adec3ec1b": {
      "model_module": "@jupyter-widgets/base",
      "model_module_version": "1.2.0",
      "model_name": "LayoutModel",
      "state": {
       "height": "32px",
       "order": "-2",
       "width": "32px"
      }
     },
     "08159618410140a7bd7fb10f70646d13": {
      "model_module": "@jupyter-widgets/base",
      "model_module_version": "1.2.0",
      "model_name": "LayoutModel",
      "state": {
       "height": "32px",
       "overflow": "visible",
       "width": "100%"
      }
     },
     "085a9fb81fd8497f868b13f697725a5d": {
      "model_module": "@jupyter-widgets/base",
      "model_module_version": "1.2.0",
      "model_name": "LayoutModel",
      "state": {
       "height": "32px",
       "order": "-2",
       "width": "32px"
      }
     },
     "087fc26142da48f99206c098e4c0cda1": {
      "model_module": "@jupyter-widgets/controls",
      "model_module_version": "1.5.0",
      "model_name": "CheckboxModel",
      "state": {
       "description": "Hide Conflicting Tasks",
       "disabled": false,
       "indent": false,
       "layout": "IPY_MODEL_57055832bfb94fb89b454963f5e3c85d",
       "style": "IPY_MODEL_cbf9ed26af694de3a7c321f9a8773ea5",
       "value": false
      }
     },
     "0889746d9a064ae1bcd08f293e369876": {
      "model_module": "@jupyter-widgets/base",
      "model_module_version": "1.2.0",
      "model_name": "LayoutModel",
      "state": {}
     },
     "08e924ae8559480ba35f2d4a497ee463": {
      "model_module": "@jupyter-widgets/controls",
      "model_module_version": "1.5.0",
      "model_name": "DescriptionStyleModel",
      "state": {
       "description_width": ""
      }
     },
     "092a9ec3d3d545649832a3c288b956c9": {
      "model_module": "@jupyter-widgets/controls",
      "model_module_version": "1.5.0",
      "model_name": "DescriptionStyleModel",
      "state": {
       "description_width": ""
      }
     },
     "0939f3210df04f7daa0dbdf18cca2533": {
      "model_module": "@jupyter-widgets/controls",
      "model_module_version": "1.5.0",
      "model_name": "LabelModel",
      "state": {
       "layout": "IPY_MODEL_fad4e5c94ed34ff8a2166ec650a4ff9f",
       "style": "IPY_MODEL_092a9ec3d3d545649832a3c288b956c9",
       "value": "     (1/1)"
      }
     },
     "094a56556177487faf8b87d034087313": {
      "model_module": "@jupyter-widgets/controls",
      "model_module_version": "1.5.0",
      "model_name": "ButtonModel",
      "state": {
       "layout": "IPY_MODEL_e9e923b1c19343c9a97a2915f97f8970",
       "style": "IPY_MODEL_3a6400a168db4429ad57b5be26caf957"
      }
     },
     "09a8143543404638a2ba90420d231e12": {
      "model_module": "@jupyter-widgets/base",
      "model_module_version": "1.2.0",
      "model_name": "LayoutModel",
      "state": {
       "display": "none",
       "width": "60px"
      }
     },
     "09c8b5c9358447288517d6e98842fa0b": {
      "model_module": "@jupyter-widgets/controls",
      "model_module_version": "1.5.0",
      "model_name": "HBoxModel",
      "state": {
       "children": [
        "IPY_MODEL_5f039ab5c58c400a8b8c82a08c9c91d7",
        "IPY_MODEL_cab6485fd4a6463192ee5bd462c4cd2c",
        "IPY_MODEL_25270002507f470c81c1cd555ad6cbe3",
        "IPY_MODEL_f6e4844df9e7428e926a07a4b153050e"
       ],
       "layout": "IPY_MODEL_743a27f42adf43d9b84c7fd171138a03"
      }
     },
     "0a4d8ec1233a498b8d6df67971f19ef5": {
      "model_module": "@jupyter-widgets/controls",
      "model_module_version": "1.5.0",
      "model_name": "ButtonModel",
      "state": {
       "layout": "IPY_MODEL_682cb779615f40669147669442cf8a22",
       "style": "IPY_MODEL_88674d024a474ad5a83ccfe1aa1bbdcf"
      }
     },
     "0a93c09b341c4168a1719d57f54bbbb6": {
      "model_module": "@jupyter-widgets/controls",
      "model_module_version": "1.5.0",
      "model_name": "DescriptionStyleModel",
      "state": {
       "description_width": ""
      }
     },
     "0a99c05ffaae44cfbaa75d59bb88766f": {
      "model_module": "@jupyter-widgets/base",
      "model_module_version": "1.2.0",
      "model_name": "LayoutModel",
      "state": {}
     },
     "0aa334dbcfa6450db4bb45f1a0071047": {
      "model_module": "@jupyter-widgets/base",
      "model_module_version": "1.2.0",
      "model_name": "LayoutModel",
      "state": {
       "display": "none",
       "width": "95%"
      }
     },
     "0ab30945870d4614b364cfe3b6655ca0": {
      "model_module": "@jupyter-widgets/base",
      "model_module_version": "1.2.0",
      "model_name": "LayoutModel",
      "state": {
       "order": "-1",
       "overflow": "visible",
       "padding": "1px",
       "width": "0px"
      }
     },
     "0abdd6a9332f41f8a942f28d379ab0c4": {
      "model_module": "@jupyter-widgets/controls",
      "model_module_version": "1.5.0",
      "model_name": "LabelModel",
      "state": {
       "layout": "IPY_MODEL_7ec77c4444d34266a7d57cb474ceebb7",
       "style": "IPY_MODEL_0365599ef6f14b09b1d64ff8f7e0ab56",
       "value": "   objective"
      }
     },
     "0aca7463144b45d5938e812f733924cb": {
      "model_module": "@jupyter-widgets/base",
      "model_module_version": "1.2.0",
      "model_name": "LayoutModel",
      "state": {}
     },
     "0af0726f5bfc40d6b165b81bcc8e474e": {
      "model_module": "@jupyter-widgets/controls",
      "model_module_version": "1.5.0",
      "model_name": "HTMLModel",
      "state": {
       "layout": "IPY_MODEL_44ce57e4cdd14ac0bf36639b512c7b3e",
       "style": "IPY_MODEL_ec2dade5cc4843caa5ca5e3b4829cd4f",
       "value": "<font size=\"5\"><b>The Kell</b></font size=>"
      }
     },
     "0af881e30eed46cdad133bd0b450cc5f": {
      "model_module": "@jupyter-widgets/controls",
      "model_module_version": "1.5.0",
      "model_name": "LabelModel",
      "state": {
       "layout": "IPY_MODEL_1901d5fa1bbf47f99918ee3ef4f6609c",
       "style": "IPY_MODEL_9c8dbed94bf94e1a99df7945090bd7b9",
       "value": "   objective"
      }
     },
     "0afc9f6d54904c52ae81a7984afe7f53": {
      "model_module": "@jupyter-widgets/controls",
      "model_module_version": "1.5.0",
      "model_name": "ButtonModel",
      "state": {
       "layout": "IPY_MODEL_4824ef4f70e04fe38ca07a833c8012d5",
       "style": "IPY_MODEL_283ad5c9bbd64661a1670945adfbbde3"
      }
     },
     "0b2d8bd240e340a192362889fbdea240": {
      "model_module": "@jupyter-widgets/controls",
      "model_module_version": "1.5.0",
      "model_name": "LabelModel",
      "state": {
       "layout": "IPY_MODEL_aea5d3e33e584d8e9409c25703ef39c2",
       "style": "IPY_MODEL_a2c07f381c78477a8ddc360f40156a6e",
       "value": "   objective"
      }
     },
     "0b34ea3420734acca3e27ee4421da23e": {
      "model_module": "@jupyter-widgets/controls",
      "model_module_version": "1.5.0",
      "model_name": "IntProgressModel",
      "state": {
       "layout": "IPY_MODEL_1aeec3983caf4db7a817059208a49a29",
       "style": "IPY_MODEL_253a895c692a4eb2b54bf067ee43ceb3",
       "value": 30
      }
     },
     "0b41c4dcf5b148df847de94c316cc595": {
      "model_module": "@jupyter-widgets/base",
      "model_module_version": "1.2.0",
      "model_name": "LayoutModel",
      "state": {
       "height": "32px",
       "overflow": "visible",
       "width": "100%"
      }
     },
     "0b8cb6f6e4564fc6b03bd419545af0be": {
      "model_module": "@jupyter-widgets/base",
      "model_module_version": "1.2.0",
      "model_name": "LayoutModel",
      "state": {
       "height": "32px",
       "order": "-2",
       "width": "32px"
      }
     },
     "0b8f5c1327b749958e01787627323bcf": {
      "model_module": "@jupyter-widgets/controls",
      "model_module_version": "1.5.0",
      "model_name": "DescriptionStyleModel",
      "state": {
       "description_width": ""
      }
     },
     "0ba84c05cfd548d99aacb13fc95bb3ae": {
      "model_module": "@jupyter-widgets/controls",
      "model_module_version": "1.5.0",
      "model_name": "HBoxModel",
      "state": {
       "children": [
        "IPY_MODEL_939e870ac25c4f149e0abc7ce78197e9",
        "IPY_MODEL_ee8fc0c2047a4161b259675fa04bcd9d",
        "IPY_MODEL_b97c20ebeb694011ac5d60814b4e28be",
        "IPY_MODEL_b8dd39fcd189436fb7eecfca31fd8ac2"
       ],
       "layout": "IPY_MODEL_3eccc8183cbb41e28b5fa5d1a261cf47"
      }
     },
     "0bb3baf38d97465eb07da31288fafa73": {
      "model_module": "@jupyter-widgets/controls",
      "model_module_version": "1.5.0",
      "model_name": "ButtonStyleModel",
      "state": {}
     },
     "0beebbdbc87949369606a9597d093593": {
      "model_module": "@jupyter-widgets/controls",
      "model_module_version": "1.5.0",
      "model_name": "ButtonModel",
      "state": {
       "description": "EDIT",
       "layout": "IPY_MODEL_c198717c519544679d241c153a3f9551",
       "style": "IPY_MODEL_eee6ca3907a2420ebce3287e33bbea61"
      }
     },
     "0bfa1903614843b69d412691df185b32": {
      "model_module": "@jupyter-widgets/controls",
      "model_module_version": "1.5.0",
      "model_name": "ButtonStyleModel",
      "state": {}
     },
     "0c1a758fa566405faab245fc0c29ea94": {
      "model_module": "@jupyter-widgets/controls",
      "model_module_version": "1.5.0",
      "model_name": "DescriptionStyleModel",
      "state": {
       "description_width": ""
      }
     },
     "0c29182b562d48ea875750b162074dca": {
      "model_module": "@jupyter-widgets/controls",
      "model_module_version": "1.5.0",
      "model_name": "ButtonModel",
      "state": {
       "button_style": "success",
       "disabled": true,
       "layout": "IPY_MODEL_1091b027593f450ab89106fa39c09c4e",
       "style": "IPY_MODEL_cb579a92df534dd581da37c5db31009e"
      }
     },
     "0c4aec670dca4dae9f7d357546ea336d": {
      "model_module": "@jupyter-widgets/base",
      "model_module_version": "1.2.0",
      "model_name": "LayoutModel",
      "state": {
       "display": "none",
       "width": "60px"
      }
     },
     "0c680f090de6454d99cfbd15dbb62ac1": {
      "model_module": "@jupyter-widgets/controls",
      "model_module_version": "1.5.0",
      "model_name": "HBoxModel",
      "state": {
       "children": [
        "IPY_MODEL_ef179bcdf05a40a1be7d83d3d27ea0f9",
        "IPY_MODEL_151a5d9d713145d3a83704c3f81535f3",
        "IPY_MODEL_05a1fec16741451b8f4c79f9475dc287",
        "IPY_MODEL_00180f718ae741d6a3556d6cb68ede57"
       ],
       "layout": "IPY_MODEL_9f0f976c2736466cab8d9610b98972cd"
      }
     },
     "0cad637585444abb826938e9bc8f01c2": {
      "model_module": "@jupyter-widgets/base",
      "model_module_version": "1.2.0",
      "model_name": "LayoutModel",
      "state": {
       "height": "32px",
       "order": "-2",
       "width": "32px"
      }
     },
     "0d34b79d11f54b14acd3f4c1daf6cb42": {
      "model_module": "@jupyter-widgets/controls",
      "model_module_version": "1.5.0",
      "model_name": "HBoxModel",
      "state": {
       "children": [
        "IPY_MODEL_032a405582354a1ea87214f066d144c8",
        "IPY_MODEL_b126560b91874f5d9af6bfc8554bd43a",
        "IPY_MODEL_478d0f7dd78b41d3bd97bfb91866ed3f",
        "IPY_MODEL_739ccaba848b4e73a5dd3a9db8bbf2e9"
       ],
       "layout": "IPY_MODEL_dffd0aaa18f74bb4a0f4027442c53f6e"
      }
     },
     "0d393a348f0f4e839b09b8b02b8b96c1": {
      "model_module": "@jupyter-widgets/controls",
      "model_module_version": "1.5.0",
      "model_name": "ProgressStyleModel",
      "state": {
       "description_width": ""
      }
     },
     "0d8d075b5e7e451c92f2f93a87877077": {
      "model_module": "@jupyter-widgets/base",
      "model_module_version": "1.2.0",
      "model_name": "LayoutModel",
      "state": {
       "display": "none",
       "width": "60px"
      }
     },
     "0dcc8f98eca24f38bc1177780308fef9": {
      "model_module": "@jupyter-widgets/base",
      "model_module_version": "1.2.0",
      "model_name": "LayoutModel",
      "state": {
       "height": "32px",
       "overflow": "visible",
       "width": "100%"
      }
     },
     "0e0c343ed9bc4e0183994fce64ee3b89": {
      "model_module": "@jupyter-widgets/controls",
      "model_module_version": "1.5.0",
      "model_name": "IntProgressModel",
      "state": {
       "layout": "IPY_MODEL_736c4182bca745a5ae5422e304791bf0",
       "style": "IPY_MODEL_dd408e9a25a5490cb5f703b960273d5d",
       "value": 30
      }
     },
     "0e18cfe2b7ec4afe98a1ece82ed7e73c": {
      "model_module": "@jupyter-widgets/base",
      "model_module_version": "1.2.0",
      "model_name": "LayoutModel",
      "state": {
       "height": "32px",
       "overflow": "visible",
       "width": "100%"
      }
     },
     "0e7181a2ab9845c5a9f122218d5cd592": {
      "model_module": "@jupyter-widgets/controls",
      "model_module_version": "1.5.0",
      "model_name": "LabelModel",
      "state": {
       "layout": "IPY_MODEL_2efc7c3e9fa64572bf5a76e8c52cece5",
       "style": "IPY_MODEL_3fb6a60b47994d5aafe17db1b9066497",
       "value": "   objective"
      }
     },
     "0eeb2f33edbf47428f240fc8cd838fc4": {
      "model_module": "@jupyter-widgets/base",
      "model_module_version": "1.2.0",
      "model_name": "LayoutModel",
      "state": {
       "order": "-1",
       "overflow": "visible",
       "padding": "1px",
       "width": "0px"
      }
     },
     "0ef6d7fb82524db8a7e8ba69aca824ad": {
      "model_module": "@jupyter-widgets/controls",
      "model_module_version": "1.5.0",
      "model_name": "DescriptionStyleModel",
      "state": {
       "description_width": ""
      }
     },
     "0f02dfd470734f41820efc4b0adf6cc8": {
      "model_module": "@jupyter-widgets/controls",
      "model_module_version": "1.5.0",
      "model_name": "LabelModel",
      "state": {
       "layout": "IPY_MODEL_025b7969b987429cb50caa61118dc53f",
       "style": "IPY_MODEL_1edb7e9a1ce845e1818eb81563d9eac2",
       "value": "Grenade:"
      }
     },
     "0f0efdf786a94e00aa1e1e49bccfdde1": {
      "model_module": "@jupyter-widgets/base",
      "model_module_version": "1.2.0",
      "model_name": "LayoutModel",
      "state": {
       "overflow": "visible",
       "width": "100%"
      }
     },
     "0f4e4dfd1b4d4ab480e9c229b0e13bb5": {
      "model_module": "@jupyter-widgets/base",
      "model_module_version": "1.2.0",
      "model_name": "LayoutModel",
      "state": {
       "height": "32px",
       "overflow": "visible",
       "width": "100%"
      }
     },
     "0f56d6981c9649bf8087927fab9b2f86": {
      "model_module": "@jupyter-widgets/controls",
      "model_module_version": "1.5.0",
      "model_name": "ButtonModel",
      "state": {
       "description": "EDIT",
       "layout": "IPY_MODEL_15dda9e15a60443984a68ca9c04c388b",
       "style": "IPY_MODEL_2df492df9a8b43e39249e194f26142c8"
      }
     },
     "0f5d7baf36e44db283f4ab810d2c355e": {
      "model_module": "@jupyter-widgets/base",
      "model_module_version": "1.2.0",
      "model_name": "LayoutModel",
      "state": {
       "justify_items": "center",
       "padding": "5px",
       "width": "200px"
      }
     },
     "0fac06c247da40c286f60c1b359d7989": {
      "model_module": "@jupyter-widgets/controls",
      "model_module_version": "1.5.0",
      "model_name": "ButtonStyleModel",
      "state": {}
     },
     "10712e93e3c943dcb61a144e4e44b551": {
      "model_module": "@jupyter-widgets/controls",
      "model_module_version": "1.5.0",
      "model_name": "DropdownModel",
      "state": {
       "_options_labels": [
        "Any",
        "Patrol",
        "Gambit",
        "Reckoning",
        "Menagerie",
        "Vex Offensive",
        "Raid",
        "Strike",
        "Nightfall",
        "Crucible",
        "Forge"
       ],
       "index": 0,
       "layout": "IPY_MODEL_784aff25cdc347d888d61dc2bd10db0e",
       "style": "IPY_MODEL_f93720bc5e3f4c4ba3459eba3d00611f"
      }
     },
     "1091b027593f450ab89106fa39c09c4e": {
      "model_module": "@jupyter-widgets/base",
      "model_module_version": "1.2.0",
      "model_name": "LayoutModel",
      "state": {
       "height": "32px",
       "order": "-2",
       "width": "32px"
      }
     },
     "10b72d24635b474182d15c703b94bf36": {
      "model_module": "@jupyter-widgets/base",
      "model_module_version": "1.2.0",
      "model_name": "LayoutModel",
      "state": {
       "height": "32px",
       "order": "-2",
       "width": "32px"
      }
     },
     "1112b0b2e1e647a78d792f67b9836c7f": {
      "model_module": "@jupyter-widgets/controls",
      "model_module_version": "1.5.0",
      "model_name": "DropdownModel",
      "state": {
       "_options_labels": [
        "Any"
       ],
       "disabled": true,
       "index": 0,
       "layout": "IPY_MODEL_784aff25cdc347d888d61dc2bd10db0e",
       "style": "IPY_MODEL_f830f48df9c44323bd2c0e3d31163eda"
      }
     },
     "11177cdb23f44489b0f9f0fc79a2fe62": {
      "model_module": "@jupyter-widgets/controls",
      "model_module_version": "1.5.0",
      "model_name": "ButtonStyleModel",
      "state": {}
     },
     "111a4c574acc4cee9298dfe7fcf12322": {
      "model_module": "@jupyter-widgets/controls",
      "model_module_version": "1.5.0",
      "model_name": "HBoxModel",
      "state": {
       "children": [
        "IPY_MODEL_ea351d198f3641009420f2f1917af469",
        "IPY_MODEL_1a15e96523f84b0baf940b33342578e9",
        "IPY_MODEL_df7bc3fb40c8468b89afe4221e90ba2a",
        "IPY_MODEL_63e9d32ecadd4c64be08103018e93c72"
       ],
       "layout": "IPY_MODEL_ab32bbc32b8a4c398fda670c3183e918"
      }
     },
     "1134a8aeb7ef4dffbcd61bec68aa62d4": {
      "model_module": "@jupyter-widgets/base",
      "model_module_version": "1.2.0",
      "model_name": "LayoutModel",
      "state": {
       "height": "32px",
       "overflow": "visible",
       "width": "100%"
      }
     },
     "114f9e62fc604b39bec5459ce9f780d2": {
      "model_module": "@jupyter-widgets/base",
      "model_module_version": "1.2.0",
      "model_name": "LayoutModel",
      "state": {}
     },
     "1171a21037c445c99c8bd98644148fa4": {
      "model_module": "@jupyter-widgets/base",
      "model_module_version": "1.2.0",
      "model_name": "LayoutModel",
      "state": {
       "height": "32px",
       "order": "-2",
       "width": "32px"
      }
     },
     "117b0c07170b477b9301a69254ac746d": {
      "model_module": "@jupyter-widgets/base",
      "model_module_version": "1.2.0",
      "model_name": "LayoutModel",
      "state": {
       "order": "-1",
       "overflow": "visible",
       "padding": "1px",
       "width": "0px"
      }
     },
     "1187b357fb1c4a969b5c5ac3c3aa0997": {
      "model_module": "@jupyter-widgets/controls",
      "model_module_version": "1.5.0",
      "model_name": "DescriptionStyleModel",
      "state": {
       "description_width": ""
      }
     },
     "118a4fdbee0b4623bab141c708a28a28": {
      "model_module": "@jupyter-widgets/controls",
      "model_module_version": "1.5.0",
      "model_name": "ProgressStyleModel",
      "state": {
       "description_width": ""
      }
     },
     "11a48e4489f040929d2569c58e766943": {
      "model_module": "@jupyter-widgets/controls",
      "model_module_version": "1.5.0",
      "model_name": "LabelModel",
      "state": {
       "layout": "IPY_MODEL_f8a628c316ce44a3aea5b7dc6f2243c5",
       "style": "IPY_MODEL_ea470e837e3d470dab57e2ac6a686ec7",
       "value": "   objective"
      }
     },
     "11ced5d7601746978fba3371b8542a19": {
      "model_module": "@jupyter-widgets/controls",
      "model_module_version": "1.5.0",
      "model_name": "ProgressStyleModel",
      "state": {
       "description_width": ""
      }
     },
     "11e151d6e72343c89a9f1e05512bb2b9": {
      "model_module": "@jupyter-widgets/base",
      "model_module_version": "1.2.0",
      "model_name": "LayoutModel",
      "state": {
       "height": "32px",
       "overflow": "visible",
       "width": "100%"
      }
     },
     "12a43c67588f42ec86eea55bebf90108": {
      "model_module": "@jupyter-widgets/controls",
      "model_module_version": "1.5.0",
      "model_name": "DescriptionStyleModel",
      "state": {
       "description_width": ""
      }
     },
     "1320527ae25f42bb9a62875ec7bd875e": {
      "model_module": "@jupyter-widgets/base",
      "model_module_version": "1.2.0",
      "model_name": "LayoutModel",
      "state": {
       "overflow": "visible",
       "width": "100%"
      }
     },
     "133c7ee83120411781f5a359c08c4e85": {
      "model_module": "@jupyter-widgets/controls",
      "model_module_version": "1.5.0",
      "model_name": "ProgressStyleModel",
      "state": {
       "description_width": ""
      }
     },
     "136c9da419cb49f88766d2b0c2e916d3": {
      "model_module": "@jupyter-widgets/controls",
      "model_module_version": "1.5.0",
      "model_name": "VBoxModel",
      "state": {
       "children": [
        "IPY_MODEL_aec98b5c14984079a6d5c7a2398f2eaa",
        "IPY_MODEL_b150183c9b2b4af690801f5bed271822",
        "IPY_MODEL_74a061b512c64d1ca10bc415f1e7df43",
        "IPY_MODEL_209c2f151ef3436fa4b9caeb865e08f5"
       ],
       "layout": "IPY_MODEL_f9d03df99e31496083ef763241f8a7d3"
      }
     },
     "13a9ffcc67784b33b72ff95e4332f505": {
      "model_module": "@jupyter-widgets/controls",
      "model_module_version": "1.5.0",
      "model_name": "ButtonStyleModel",
      "state": {}
     },
     "13be5b95ddf549499af8c95ed122a1bd": {
      "model_module": "@jupyter-widgets/base",
      "model_module_version": "1.2.0",
      "model_name": "LayoutModel",
      "state": {
       "display": "none"
      }
     },
     "13c4c804558a419da89d596f506d7884": {
      "model_module": "@jupyter-widgets/controls",
      "model_module_version": "1.5.0",
      "model_name": "ButtonModel",
      "state": {
       "description": "EDIT",
       "layout": "IPY_MODEL_59754c98eec24054803bd72eae663c1c",
       "style": "IPY_MODEL_6463d85af8ce4372859b20964aa06e75"
      }
     },
     "13e3937c9cd5425b8a54e0b86539ff07": {
      "model_module": "@jupyter-widgets/controls",
      "model_module_version": "1.5.0",
      "model_name": "DropdownModel",
      "state": {
       "_options_labels": [
        "Any"
       ],
       "disabled": true,
       "index": 0,
       "layout": "IPY_MODEL_784aff25cdc347d888d61dc2bd10db0e",
       "style": "IPY_MODEL_7338d475259c4d6b8810fed68b6f822e"
      }
     },
     "140d177a68f042be97f4cba4509ac1da": {
      "model_module": "@jupyter-widgets/controls",
      "model_module_version": "1.5.0",
      "model_name": "HTMLModel",
      "state": {
       "layout": "IPY_MODEL_714ee84d6b124fc39b267f2579c346af",
       "style": "IPY_MODEL_147c64fcae4f4d4283202e7dd4a7cbdc",
       "value": "<i></i>"
      }
     },
     "146370fa499e4aa79d7101523df053a1": {
      "model_module": "@jupyter-widgets/base",
      "model_module_version": "1.2.0",
      "model_name": "LayoutModel",
      "state": {
       "order": "-1",
       "overflow": "visible",
       "padding": "1px",
       "width": "0px"
      }
     },
     "146ce3317bc740378edfa3f03e68f83e": {
      "model_module": "@jupyter-widgets/base",
      "model_module_version": "1.2.0",
      "model_name": "LayoutModel",
      "state": {
       "display": "none",
       "width": "60px"
      }
     },
     "147c64fcae4f4d4283202e7dd4a7cbdc": {
      "model_module": "@jupyter-widgets/controls",
      "model_module_version": "1.5.0",
      "model_name": "DescriptionStyleModel",
      "state": {
       "description_width": ""
      }
     },
     "14a32e4ece654f7ba7c3d94f4e33481c": {
      "model_module": "@jupyter-widgets/base",
      "model_module_version": "1.2.0",
      "model_name": "LayoutModel",
      "state": {
       "display": "none",
       "width": "60px"
      }
     },
     "14af562ab13447bc923350ce7315c3e6": {
      "model_module": "@jupyter-widgets/controls",
      "model_module_version": "1.5.0",
      "model_name": "DropdownModel",
      "state": {
       "_options_labels": [
        "Any",
        "Arc",
        "Solar",
        "Void"
       ],
       "index": 0,
       "layout": "IPY_MODEL_784aff25cdc347d888d61dc2bd10db0e",
       "style": "IPY_MODEL_642bc323bb1d486aa171a44c8d8eab59"
      }
     },
     "14d80bab78f846b0893d4b662ff28a4f": {
      "model_module": "@jupyter-widgets/controls",
      "model_module_version": "1.5.0",
      "model_name": "LabelModel",
      "state": {
       "layout": "IPY_MODEL_51d505c0fc274539b2f514314f338bce",
       "style": "IPY_MODEL_fceff227bbd745e1bfaebbca319addea",
       "value": "   objective"
      }
     },
     "14e38ce69512457fbe73c75d1e41e362": {
      "model_module": "@jupyter-widgets/base",
      "model_module_version": "1.2.0",
      "model_name": "LayoutModel",
      "state": {
       "overflow": "visible",
       "width": "100%"
      }
     },
     "1509754edf9c4164b116467f8eb8739b": {
      "model_module": "@jupyter-widgets/controls",
      "model_module_version": "1.5.0",
      "model_name": "VBoxModel",
      "state": {
       "children": [
        "IPY_MODEL_83a5b33450064f4392f76442a0a7aebc",
        "IPY_MODEL_99647fbdbf6244c9aece36107d3ac899",
        "IPY_MODEL_ee31521a33a5429fadba6fffa7d2551b",
        "IPY_MODEL_38c53b1a50924877966f8a9860837057"
       ],
       "layout": "IPY_MODEL_676d08ade3b4441b9acfd54099e7a728"
      }
     },
     "150f598f1c574ff1ae4961bf81c1c649": {
      "model_module": "@jupyter-widgets/controls",
      "model_module_version": "1.5.0",
      "model_name": "ButtonStyleModel",
      "state": {}
     },
     "151a5d9d713145d3a83704c3f81535f3": {
      "model_module": "@jupyter-widgets/controls",
      "model_module_version": "1.5.0",
      "model_name": "IntProgressModel",
      "state": {
       "bar_style": "success",
       "layout": "IPY_MODEL_476e0c2069514f5f9e057dd1a937ea32",
       "max": 1,
       "style": "IPY_MODEL_534da3a117ab445da7adb8ef808b307a",
       "value": 1
      }
     },
     "1548523caf6d41a59c473ac0e82c9f50": {
      "model_module": "@jupyter-widgets/base",
      "model_module_version": "1.2.0",
      "model_name": "LayoutModel",
      "state": {
       "height": "32px",
       "overflow": "visible",
       "width": "100%"
      }
     },
     "15a78a9746fa472e9dfcd13bdbd3ba80": {
      "model_module": "@jupyter-widgets/base",
      "model_module_version": "1.2.0",
      "model_name": "LayoutModel",
      "state": {
       "display": "flex"
      }
     },
     "15d65c9ec9234709b8a7a6af7d094ea0": {
      "model_module": "@jupyter-widgets/controls",
      "model_module_version": "1.5.0",
      "model_name": "ProgressStyleModel",
      "state": {
       "description_width": ""
      }
     },
     "15dda9e15a60443984a68ca9c04c388b": {
      "model_module": "@jupyter-widgets/base",
      "model_module_version": "1.2.0",
      "model_name": "LayoutModel",
      "state": {
       "display": "none",
       "width": "60px"
      }
     },
     "15f016ef4a4545f19367e7ab90323798": {
      "model_module": "@jupyter-widgets/base",
      "model_module_version": "1.2.0",
      "model_name": "LayoutModel",
      "state": {}
     },
     "15f929f0541e4286a3ead4e688235565": {
      "model_module": "@jupyter-widgets/controls",
      "model_module_version": "1.5.0",
      "model_name": "HTMLModel",
      "state": {
       "layout": "IPY_MODEL_1d35fd499fe649f9ab0a1691665cbc9f",
       "style": "IPY_MODEL_0741fcde77eb427885bca91102d7db69",
       "value": "<font size=\"5\"><b>The Declaration</b></font size=>"
      }
     },
     "15fca175244745119fcac8348aab1826": {
      "model_module": "@jupyter-widgets/controls",
      "model_module_version": "1.5.0",
      "model_name": "ButtonModel",
      "state": {
       "layout": "IPY_MODEL_979a5b65955942ccb88b7c840c67b8e1",
       "style": "IPY_MODEL_2395314b0ad44a6caeba9776c85de172"
      }
     },
     "168e0c0ee9e64af8bf4f79aa8a1b58f4": {
      "model_module": "@jupyter-widgets/controls",
      "model_module_version": "1.5.0",
      "model_name": "ButtonStyleModel",
      "state": {}
     },
     "16dc5f05e1a54b69ac4f336e46dcfd3a": {
      "model_module": "@jupyter-widgets/controls",
      "model_module_version": "1.5.0",
      "model_name": "ButtonModel",
      "state": {
       "layout": "IPY_MODEL_f35742f6510f40358f91ddc605c20eba",
       "style": "IPY_MODEL_5dabe1397fd74165a2b3b073bcab5dcd"
      }
     },
     "16fe5c5ceeae4b1d842d50d3682e279a": {
      "model_module": "@jupyter-widgets/controls",
      "model_module_version": "1.5.0",
      "model_name": "DescriptionStyleModel",
      "state": {
       "description_width": ""
      }
     },
     "170054afa1bc46b799183a714ed8b2f6": {
      "model_module": "@jupyter-widgets/base",
      "model_module_version": "1.2.0",
      "model_name": "LayoutModel",
      "state": {
       "display": "none",
       "width": "60px"
      }
     },
     "1707be0a41a048c9a98c0da420c96394": {
      "model_module": "@jupyter-widgets/base",
      "model_module_version": "1.2.0",
      "model_name": "LayoutModel",
      "state": {
       "height": "32px",
       "overflow": "visible",
       "width": "100%"
      }
     },
     "1723eea9c44e41198c2ecdfd7c8fc389": {
      "model_module": "@jupyter-widgets/controls",
      "model_module_version": "1.5.0",
      "model_name": "LabelModel",
      "state": {
       "layout": "IPY_MODEL_2d99a914bb6442aebd01e3731789d283",
       "style": "IPY_MODEL_fd64abb774e5492f9c963fb40915399e",
       "value": "Power Weapon:"
      }
     },
     "175928ebf6934dcf986176baa09b2265": {
      "model_module": "@jupyter-widgets/controls",
      "model_module_version": "1.5.0",
      "model_name": "ProgressStyleModel",
      "state": {
       "description_width": ""
      }
     },
     "17ae3416478b42f098d699856a7dc2ab": {
      "model_module": "@jupyter-widgets/controls",
      "model_module_version": "1.5.0",
      "model_name": "DescriptionStyleModel",
      "state": {
       "description_width": ""
      }
     },
     "180156b9efff4237ba7929e4999829f0": {
      "model_module": "@jupyter-widgets/controls",
      "model_module_version": "1.5.0",
      "model_name": "ButtonModel",
      "state": {
       "button_style": "success",
       "disabled": true,
       "layout": "IPY_MODEL_5f3cc7600a0f47d9860aea0c5216fc60",
       "style": "IPY_MODEL_9664ad101dc44ca58eabbbea97a4ff69"
      }
     },
     "18066ba896334e9e8f01141ad9ae3286": {
      "model_module": "@jupyter-widgets/base",
      "model_module_version": "1.2.0",
      "model_name": "LayoutModel",
      "state": {
       "order": "-1",
       "overflow": "visible",
       "padding": "1px",
       "width": "0px"
      }
     },
     "1808333cbac344e0b5565f69fb2ec1cb": {
      "model_module": "@jupyter-widgets/base",
      "model_module_version": "1.2.0",
      "model_name": "LayoutModel",
      "state": {
       "display": "none",
       "width": "60px"
      }
     },
     "18c6089623704104bf6b0a3eb93559db": {
      "model_module": "@jupyter-widgets/controls",
      "model_module_version": "1.5.0",
      "model_name": "ButtonModel",
      "state": {
       "layout": "IPY_MODEL_77467d6175f54892a6545d6ea3403c72",
       "style": "IPY_MODEL_f0e866e5642c4f328d50946001f5d755"
      }
     },
     "18d4bb076de04d3e9cf26a352de98501": {
      "model_module": "@jupyter-widgets/controls",
      "model_module_version": "1.5.0",
      "model_name": "ButtonModel",
      "state": {
       "description": "EDIT",
       "layout": "IPY_MODEL_7caee26fff52471ca914adfadd81df3d",
       "style": "IPY_MODEL_c2c36684b7b5478dbcd315ab8d275bf6"
      }
     },
     "18f0a89ccef64f71878e420dce06861f": {
      "model_module": "@jupyter-widgets/controls",
      "model_module_version": "1.5.0",
      "model_name": "LabelModel",
      "state": {
       "layout": "IPY_MODEL_c097e5cb7e354d60bbee6d7de9ffaa61",
       "style": "IPY_MODEL_59c0554123b6442d9b5e42a0b2f9eaa1",
       "value": "   objective"
      }
     },
     "1901d5fa1bbf47f99918ee3ef4f6609c": {
      "model_module": "@jupyter-widgets/base",
      "model_module_version": "1.2.0",
      "model_name": "LayoutModel",
      "state": {
       "order": "-1",
       "overflow": "visible",
       "padding": "1px",
       "width": "0px"
      }
     },
     "191ae019540c4f48895293d61c82bd63": {
      "model_module": "@jupyter-widgets/base",
      "model_module_version": "1.2.0",
      "model_name": "LayoutModel",
      "state": {
       "display": "none",
       "width": "60px"
      }
     },
     "191d963007fa4f5e83098816b8838410": {
      "model_module": "@jupyter-widgets/controls",
      "model_module_version": "1.5.0",
      "model_name": "HBoxModel",
      "state": {
       "children": [
        "IPY_MODEL_9873256709154be9aa485b655e75371d",
        "IPY_MODEL_6747daa2b8d94f03a29687e68f6c8592"
       ],
       "layout": "IPY_MODEL_3421003a03764627b0099e2a6b4120f9"
      }
     },
     "19288861941a4b6ebd949ede262c6fb2": {
      "model_module": "@jupyter-widgets/controls",
      "model_module_version": "1.5.0",
      "model_name": "DescriptionStyleModel",
      "state": {
       "description_width": ""
      }
     },
     "1989094e62b847f3880da3e5e947e4b4": {
      "model_module": "@jupyter-widgets/controls",
      "model_module_version": "1.5.0",
      "model_name": "ProgressStyleModel",
      "state": {
       "description_width": ""
      }
     },
     "199dda32ce63418488de4630aa0ee0c1": {
      "model_module": "@jupyter-widgets/base",
      "model_module_version": "1.2.0",
      "model_name": "LayoutModel",
      "state": {
       "height": "32px",
       "overflow": "visible",
       "width": "100%"
      }
     },
     "19d188dc054b4170aed7d0aee3f8642f": {
      "model_module": "@jupyter-widgets/controls",
      "model_module_version": "1.5.0",
      "model_name": "ButtonStyleModel",
      "state": {}
     },
     "1a15e96523f84b0baf940b33342578e9": {
      "model_module": "@jupyter-widgets/controls",
      "model_module_version": "1.5.0",
      "model_name": "IntProgressModel",
      "state": {
       "layout": "IPY_MODEL_8608950a7ced45d189fcd0a87dee323e",
       "style": "IPY_MODEL_ce6184ba0d5342a2a73ac41f2a5e08f6",
       "value": 30
      }
     },
     "1aae9ec419df4b718a5e9df9b5a79beb": {
      "model_module": "@jupyter-widgets/base",
      "model_module_version": "1.2.0",
      "model_name": "LayoutModel",
      "state": {
       "display": "none"
      }
     },
     "1aeec3983caf4db7a817059208a49a29": {
      "model_module": "@jupyter-widgets/base",
      "model_module_version": "1.2.0",
      "model_name": "LayoutModel",
      "state": {
       "height": "32px",
       "overflow": "visible",
       "width": "100%"
      }
     },
     "1aeeca7d55af4154a5505f254ed6debf": {
      "model_module": "@jupyter-widgets/controls",
      "model_module_version": "1.5.0",
      "model_name": "IntProgressModel",
      "state": {
       "layout": "IPY_MODEL_62a173de07eb4589a2b332d3983e7d18",
       "style": "IPY_MODEL_ad636ebc55b74eb8b0b216a972abbdfe",
       "value": 30
      }
     },
     "1b5261490c964fd99ac0cfe189492102": {
      "model_module": "@jupyter-widgets/controls",
      "model_module_version": "1.5.0",
      "model_name": "LabelModel",
      "state": {
       "layout": "IPY_MODEL_cf8ac112269f4c019fa95ae64902cb17",
       "style": "IPY_MODEL_f8d81600923d45739de257cbaac3fb06",
       "value": "   objective"
      }
     },
     "1b65d91f25dc427da3328979e67db54c": {
      "model_module": "@jupyter-widgets/controls",
      "model_module_version": "1.5.0",
      "model_name": "DescriptionStyleModel",
      "state": {
       "description_width": ""
      }
     },
     "1beb3f0714594d499c18f4502304afbc": {
      "model_module": "@jupyter-widgets/base",
      "model_module_version": "1.2.0",
      "model_name": "LayoutModel",
      "state": {
       "overflow": "visible",
       "width": "100%"
      }
     },
     "1c29015dc0e94af194f6523ceda300e2": {
      "model_module": "@jupyter-widgets/controls",
      "model_module_version": "1.5.0",
      "model_name": "ButtonModel",
      "state": {
       "layout": "IPY_MODEL_6e0d745203774a58a3f0792d45f551a4",
       "style": "IPY_MODEL_7867635ca3254f7a9d8d886b253f6303"
      }
     },
     "1c3f5ccdf02b4d1987b3845c8ae87745": {
      "model_module": "@jupyter-widgets/base",
      "model_module_version": "1.2.0",
      "model_name": "LayoutModel",
      "state": {}
     },
     "1c4b4331709b4441a438ac38daeb2719": {
      "model_module": "@jupyter-widgets/controls",
      "model_module_version": "1.5.0",
      "model_name": "DropdownModel",
      "state": {
       "_options_labels": [
        "Any"
       ],
       "index": 0,
       "layout": "IPY_MODEL_784aff25cdc347d888d61dc2bd10db0e",
       "style": "IPY_MODEL_68ebb190f861494da121f875a0280d3c"
      }
     },
     "1c4b53c6428c4608a84b7da433b5afef": {
      "model_module": "@jupyter-widgets/base",
      "model_module_version": "1.2.0",
      "model_name": "LayoutModel",
      "state": {
       "border": "3px solid white",
       "display": "flex",
       "flex": "1 1 0%",
       "margin": "10px",
       "min_width": "400px",
       "overflow": "visible",
       "padding": "10px",
       "width": "auto"
      }
     },
     "1c58cde0c14c40fc8e7bcbf94c0af33c": {
      "model_module": "@jupyter-widgets/base",
      "model_module_version": "1.2.0",
      "model_name": "LayoutModel",
      "state": {
       "order": "-1",
       "overflow": "visible",
       "padding": "1px",
       "width": "0px"
      }
     },
     "1c5d1306f414413a81339fab0eb1dac7": {
      "model_module": "@jupyter-widgets/base",
      "model_module_version": "1.2.0",
      "model_name": "LayoutModel",
      "state": {
       "display": "none",
       "width": "60px"
      }
     },
     "1c985b78ac1f431ab142e33cac72f82a": {
      "model_module": "@jupyter-widgets/controls",
      "model_module_version": "1.5.0",
      "model_name": "ProgressStyleModel",
      "state": {
       "description_width": ""
      }
     },
     "1c9bef2b48114568a87b2b6a2b42e58a": {
      "model_module": "@jupyter-widgets/controls",
      "model_module_version": "1.5.0",
      "model_name": "HBoxModel",
      "state": {
       "children": [
        "IPY_MODEL_e691d67607484980b5e7ea24df9d0e63",
        "IPY_MODEL_693d492db5d54bda9d6774bf15d855e8",
        "IPY_MODEL_fd4ef61d0e5c4b8e8dde132468eca092",
        "IPY_MODEL_ccc4a4331d044fd5986efb3b2111dce8"
       ],
       "layout": "IPY_MODEL_33fc111fbd19481eb2554607454b66ed"
      }
     },
     "1c9c84a262fe40f4988d910bbeb77dfb": {
      "model_module": "@jupyter-widgets/base",
      "model_module_version": "1.2.0",
      "model_name": "LayoutModel",
      "state": {
       "height": "32px",
       "overflow": "visible",
       "width": "100%"
      }
     },
     "1cbbeff2e29d4a4daf9d887ad9b1d48b": {
      "model_module": "@jupyter-widgets/controls",
      "model_module_version": "1.5.0",
      "model_name": "LabelModel",
      "state": {
       "layout": "IPY_MODEL_1c58cde0c14c40fc8e7bcbf94c0af33c",
       "style": "IPY_MODEL_292fbe421c314453824d8c60f84c898b",
       "value": "   objective"
      }
     },
     "1cd462522a424fc1bb0a2f746a1ddc80": {
      "model_module": "@jupyter-widgets/base",
      "model_module_version": "1.2.0",
      "model_name": "LayoutModel",
      "state": {
       "height": "32px",
       "order": "-2",
       "width": "32px"
      }
     },
     "1cfcda25652a483a9bfc6cc048780de7": {
      "model_module": "@jupyter-widgets/base",
      "model_module_version": "1.2.0",
      "model_name": "LayoutModel",
      "state": {
       "display": "none",
       "width": "60px"
      }
     },
     "1d1da72a1f47472482854abbe9fdc1eb": {
      "model_module": "@jupyter-widgets/base",
      "model_module_version": "1.2.0",
      "model_name": "LayoutModel",
      "state": {
       "display": "none"
      }
     },
     "1d35fd499fe649f9ab0a1691665cbc9f": {
      "model_module": "@jupyter-widgets/base",
      "model_module_version": "1.2.0",
      "model_name": "LayoutModel",
      "state": {
       "overflow": "visible",
       "width": "100%"
      }
     },
     "1d3c8ecd0e334c4a98b9a9ed6930bdd5": {
      "model_module": "@jupyter-widgets/controls",
      "model_module_version": "1.5.0",
      "model_name": "ProgressStyleModel",
      "state": {
       "description_width": ""
      }
     },
     "1d47a330369248da99fb0c1c9366e7f3": {
      "model_module": "@jupyter-widgets/controls",
      "model_module_version": "1.5.0",
      "model_name": "ButtonStyleModel",
      "state": {}
     },
     "1d5e0046b0d14495b59da26052a5fad0": {
      "model_module": "@jupyter-widgets/controls",
      "model_module_version": "1.5.0",
      "model_name": "DescriptionStyleModel",
      "state": {
       "description_width": ""
      }
     },
     "1dd664897eed484a9f4441bdd96e558d": {
      "model_module": "@jupyter-widgets/controls",
      "model_module_version": "1.5.0",
      "model_name": "ProgressStyleModel",
      "state": {
       "description_width": ""
      }
     },
     "1ddd326d18f84177be27790758cc4505": {
      "model_module": "@jupyter-widgets/controls",
      "model_module_version": "1.5.0",
      "model_name": "DescriptionStyleModel",
      "state": {
       "description_width": ""
      }
     },
     "1df6cbf9dc824f5ebd8a721c8dd310de": {
      "model_module": "@jupyter-widgets/controls",
      "model_module_version": "1.5.0",
      "model_name": "HBoxModel",
      "state": {
       "children": [
        "IPY_MODEL_0afc9f6d54904c52ae81a7984afe7f53",
        "IPY_MODEL_2786d769abaa4120a6aa2b9aa5bb52b4",
        "IPY_MODEL_b91acc37bb174adfa87dd1b0382e3847",
        "IPY_MODEL_58663bbe7c814b0d873b346af7b5b561"
       ],
       "layout": "IPY_MODEL_47b60b499193467e9e574419502853ce"
      }
     },
     "1e0b60851c684dd499469993ab1916de": {
      "model_module": "@jupyter-widgets/controls",
      "model_module_version": "1.5.0",
      "model_name": "ButtonModel",
      "state": {
       "layout": "IPY_MODEL_bf4a540cb9ca4b7ca361caa4a9e3308e",
       "style": "IPY_MODEL_8d2ef8c8ca8c40ed856957764b73ab6f"
      }
     },
     "1e2f5a876f9947bd821121efddf6a03d": {
      "model_module": "@jupyter-widgets/controls",
      "model_module_version": "1.5.0",
      "model_name": "DescriptionStyleModel",
      "state": {
       "description_width": ""
      }
     },
     "1e531893ee904b9fa141b2630d980e52": {
      "model_module": "@jupyter-widgets/controls",
      "model_module_version": "1.5.0",
      "model_name": "IntProgressModel",
      "state": {
       "layout": "IPY_MODEL_27416962349c4718809e78b2d9b21f18",
       "style": "IPY_MODEL_5e63efd2200d4ea999d43e0e40fa7d88",
       "value": 30
      }
     },
     "1edb7e9a1ce845e1818eb81563d9eac2": {
      "model_module": "@jupyter-widgets/controls",
      "model_module_version": "1.5.0",
      "model_name": "DescriptionStyleModel",
      "state": {
       "description_width": ""
      }
     },
     "1ee4545d92b340869592099a4ca0ea9f": {
      "model_module": "@jupyter-widgets/base",
      "model_module_version": "1.2.0",
      "model_name": "LayoutModel",
      "state": {
       "display": "flex",
       "flex_flow": "row wrap"
      }
     },
     "1f2a6322cfb049feb7090df53fd2ee93": {
      "model_module": "@jupyter-widgets/controls",
      "model_module_version": "1.5.0",
      "model_name": "DescriptionStyleModel",
      "state": {
       "description_width": ""
      }
     },
     "1f7d021d9fce47f7ac8d8f335294e360": {
      "model_module": "@jupyter-widgets/controls",
      "model_module_version": "1.5.0",
      "model_name": "ProgressStyleModel",
      "state": {
       "description_width": ""
      }
     },
     "1f89e95025aa4c328651e3d319f7fc21": {
      "model_module": "@jupyter-widgets/base",
      "model_module_version": "1.2.0",
      "model_name": "LayoutModel",
      "state": {
       "height": "32px",
       "overflow": "visible",
       "width": "100%"
      }
     },
     "1fb40b6b471641b5a5f318b7c2f10725": {
      "model_module": "@jupyter-widgets/base",
      "model_module_version": "1.2.0",
      "model_name": "LayoutModel",
      "state": {
       "height": "32px",
       "order": "-2",
       "width": "32px"
      }
     },
     "1fe54c56601243588a669179a9350b91": {
      "model_module": "@jupyter-widgets/controls",
      "model_module_version": "1.5.0",
      "model_name": "DescriptionStyleModel",
      "state": {
       "description_width": ""
      }
     },
     "1ff7d7c19d9c46ec93c58ec4dd910e44": {
      "model_module": "@jupyter-widgets/controls",
      "model_module_version": "1.5.0",
      "model_name": "ButtonStyleModel",
      "state": {}
     },
     "209c2f151ef3436fa4b9caeb865e08f5": {
      "model_module": "@jupyter-widgets/controls",
      "model_module_version": "1.5.0",
      "model_name": "VBoxModel",
      "state": {
       "children": [
        "IPY_MODEL_09c8b5c9358447288517d6e98842fa0b",
        "IPY_MODEL_b8008f2700514154a18c4fec10eae5e8",
        "IPY_MODEL_9ea2fbdd19de4ea19168f18b4227fcc9",
        "IPY_MODEL_2aab020717354a3f9d025017f662644a",
        "IPY_MODEL_f99a02c914cf475787c4a4faf1e581a8",
        "IPY_MODEL_3277ea603be94ef0a625183f34c7ace4"
       ],
       "layout": "IPY_MODEL_498cd0144974475eafbb672ab6e97196"
      }
     },
     "20b5a4a6d0a0441a9b0d9ec89ca530be": {
      "model_module": "@jupyter-widgets/controls",
      "model_module_version": "1.5.0",
      "model_name": "LabelModel",
      "state": {
       "layout": "IPY_MODEL_1c3f5ccdf02b4d1987b3845c8ae87745",
       "style": "IPY_MODEL_2e0946f5ccb74cbf9fb1f3c366211e7c",
       "value": "Energy Weapon:"
      }
     },
     "20c9d6b8d8204d058b7f3c9900bada7d": {
      "model_module": "@jupyter-widgets/base",
      "model_module_version": "1.2.0",
      "model_name": "LayoutModel",
      "state": {
       "display": "none"
      }
     },
     "20ecf53aada74488862ea39a57cf6a0d": {
      "model_module": "@jupyter-widgets/controls",
      "model_module_version": "1.5.0",
      "model_name": "IntProgressModel",
      "state": {
       "bar_style": "success",
       "layout": "IPY_MODEL_95ecc0260fc44cee986654b842fa5196",
       "max": 1,
       "style": "IPY_MODEL_dddd0f3be9e4453bb160673ef421ced6",
       "value": 1
      }
     },
     "20ed5f8547794ed29124626fd0a1186d": {
      "model_module": "@jupyter-widgets/controls",
      "model_module_version": "1.5.0",
      "model_name": "ButtonStyleModel",
      "state": {}
     },
     "210c8aa567c44aa784bd125930d0115c": {
      "model_module": "@jupyter-widgets/controls",
      "model_module_version": "1.5.0",
      "model_name": "VBoxModel",
      "state": {
       "children": [
        "IPY_MODEL_e8fe9ecf236541039b8222dee2199e11",
        "IPY_MODEL_67f630e9f05843b0945da14f6413cbf4",
        "IPY_MODEL_dc62dd78a7904b3e8c8ce2c3112f9005",
        "IPY_MODEL_38102f00b9224a85971f5a0d893bfefe",
        "IPY_MODEL_31a0f61b74484af1be5fe0ef0a8ea957",
        "IPY_MODEL_bb2a0fe5bb8b41d8917d845865e4c58a"
       ],
       "layout": "IPY_MODEL_72d0cec49012468d8412a3f6bff566d8"
      }
     },
     "2117381ce2a640ad97ae10627b66d840": {
      "model_module": "@jupyter-widgets/controls",
      "model_module_version": "1.5.0",
      "model_name": "VBoxModel",
      "state": {
       "children": [
        "IPY_MODEL_4658ee9afeaf4784aac6bb13c5307224",
        "IPY_MODEL_2ac28e0d6b4143b7b7f03ab8614fa77d",
        "IPY_MODEL_74f6617b50344c01a50dcca6e4436fbf",
        "IPY_MODEL_45d0d87e3d9848c39844d1bbede26807",
        "IPY_MODEL_db691c9c21bd4c6c88cd0814fe66cda1",
        "IPY_MODEL_f0f8f775d85848dc92dd525af7133704"
       ],
       "layout": "IPY_MODEL_00d7335fac3545f98019ddc9e0085df2"
      }
     },
     "21ac0efe63ca4232b6c0da36b19e5520": {
      "model_module": "@jupyter-widgets/controls",
      "model_module_version": "1.5.0",
      "model_name": "ButtonStyleModel",
      "state": {}
     },
     "21c804c9bcd342e5a2f5c8c6fbe2bcb1": {
      "model_module": "@jupyter-widgets/base",
      "model_module_version": "1.2.0",
      "model_name": "LayoutModel",
      "state": {
       "height": "32px",
       "overflow": "visible",
       "width": "100%"
      }
     },
     "21d73ccca0034c8182f5fee434f298ae": {
      "model_module": "@jupyter-widgets/base",
      "model_module_version": "1.2.0",
      "model_name": "LayoutModel",
      "state": {
       "order": "-1",
       "overflow": "visible",
       "padding": "1px",
       "width": "0px"
      }
     },
     "21f2045795a34481a11510e02b25447e": {
      "model_module": "@jupyter-widgets/base",
      "model_module_version": "1.2.0",
      "model_name": "LayoutModel",
      "state": {
       "display": "flex"
      }
     },
     "21f7e1ba5bb243bd89222ad3d449dafb": {
      "model_module": "@jupyter-widgets/controls",
      "model_module_version": "1.5.0",
      "model_name": "IntProgressModel",
      "state": {
       "layout": "IPY_MODEL_ad1ca1dd6aa84ddab9f7db8b361bcdfb",
       "style": "IPY_MODEL_fe63a585f28646b8b7aa5c822cfdf307",
       "value": 30
      }
     },
     "21f9583f7f694bb4b4b23c44994831d4": {
      "model_module": "@jupyter-widgets/controls",
      "model_module_version": "1.5.0",
      "model_name": "DescriptionStyleModel",
      "state": {
       "description_width": ""
      }
     },
     "220a76fe143c4c3891a2fb10508f99ce": {
      "model_module": "@jupyter-widgets/base",
      "model_module_version": "1.2.0",
      "model_name": "LayoutModel",
      "state": {
       "display": "none",
       "width": "60px"
      }
     },
     "22227c3887294c48b128584ec05ffa51": {
      "model_module": "@jupyter-widgets/controls",
      "model_module_version": "1.5.0",
      "model_name": "ProgressStyleModel",
      "state": {
       "description_width": ""
      }
     },
     "2265c997c1d448148aec806f8af3306b": {
      "model_module": "@jupyter-widgets/controls",
      "model_module_version": "1.5.0",
      "model_name": "LabelModel",
      "state": {
       "layout": "IPY_MODEL_e7ff5842c75b458f9e0aace8b6dadf8d",
       "style": "IPY_MODEL_3cfd045bc171448aa0bc40c8c78e6548",
       "value": "   objective"
      }
     },
     "230d533dd1c44c968d85775e2d65bc5d": {
      "model_module": "@jupyter-widgets/base",
      "model_module_version": "1.2.0",
      "model_name": "LayoutModel",
      "state": {
       "height": "32px",
       "order": "-2",
       "width": "32px"
      }
     },
     "2325f81a21ba4173b7f1dbc579fde73d": {
      "model_module": "@jupyter-widgets/controls",
      "model_module_version": "1.5.0",
      "model_name": "VBoxModel",
      "state": {
       "children": [
        "IPY_MODEL_713378b6b24a4b06982344017746d4ba",
        "IPY_MODEL_b0adfcf0f17c45ccabee921f3fd6d860",
        "IPY_MODEL_665e1dd8016c4b3ca4771db0ccebdb9e",
        "IPY_MODEL_2c729fe43f974ec881ec8f53263fa5d5",
        "IPY_MODEL_038f3587a21c4c86bbb095ce4c4e4f8b",
        "IPY_MODEL_0669fedcd22f4aa38d077a200e716a09"
       ],
       "layout": "IPY_MODEL_5248f4d20d304cb7bee7e64329ab55c2"
      }
     },
     "232845c513814bb38accbd8c4c090e2f": {
      "model_module": "@jupyter-widgets/controls",
      "model_module_version": "1.5.0",
      "model_name": "ButtonModel",
      "state": {
       "description": "EDIT",
       "layout": "IPY_MODEL_7141fc52a32144dbbf7055a32dd911e7",
       "style": "IPY_MODEL_3769c90118b54c008b1eb25914830e0f"
      }
     },
     "232d7b9153b648e9838e4fa92199155c": {
      "model_module": "@jupyter-widgets/base",
      "model_module_version": "1.2.0",
      "model_name": "LayoutModel",
      "state": {
       "height": "32px",
       "order": "-2",
       "width": "32px"
      }
     },
     "2343491e5cf2428880ea910fc188a7ba": {
      "model_module": "@jupyter-widgets/controls",
      "model_module_version": "1.5.0",
      "model_name": "HTMLModel",
      "state": {
       "layout": "IPY_MODEL_49719611f33747bca2dec7bcfc3dcc05",
       "style": "IPY_MODEL_d703576e06b04c47ba9bf3005d55b648",
       "value": "Showing Tasks 7-21 of 2069"
      }
     },
     "234cbec627014d2eab77f0117cc3e563": {
      "model_module": "@jupyter-widgets/controls",
      "model_module_version": "1.5.0",
      "model_name": "ButtonModel",
      "state": {
       "layout": "IPY_MODEL_3601573d558e47aeb57b8e053e1e4bef",
       "style": "IPY_MODEL_9f719e0121fe44898268a5fd522868bd"
      }
     },
     "236ba4e8596b48c68e09c2b835a1c861": {
      "model_module": "@jupyter-widgets/controls",
      "model_module_version": "1.5.0",
      "model_name": "HTMLModel",
      "state": {
       "layout": "IPY_MODEL_4285043e72934f81accbcee90c4d7f4a",
       "style": "IPY_MODEL_d29ee91a96244adfa3b346330ae0f95f",
       "value": "<font size=\"5\"><b>The Stacks</b></font size=>"
      }
     },
     "2395314b0ad44a6caeba9776c85de172": {
      "model_module": "@jupyter-widgets/controls",
      "model_module_version": "1.5.0",
      "model_name": "ButtonStyleModel",
      "state": {}
     },
     "239d7b181b0240a8b9678facff4cc8b3": {
      "model_module": "@jupyter-widgets/base",
      "model_module_version": "1.2.0",
      "model_name": "LayoutModel",
      "state": {
       "display": "none"
      }
     },
     "23c3dbda7495469889c9e348307145e2": {
      "model_module": "@jupyter-widgets/controls",
      "model_module_version": "1.5.0",
      "model_name": "DescriptionStyleModel",
      "state": {
       "description_width": ""
      }
     },
     "23ccc4c9d69e41118862dab0bb3b402e": {
      "model_module": "@jupyter-widgets/controls",
      "model_module_version": "1.5.0",
      "model_name": "ButtonModel",
      "state": {
       "description": "EDIT",
       "layout": "IPY_MODEL_e5da30c0d7cd47718d1660b65758ef68",
       "style": "IPY_MODEL_79a10140d2dd4038b27dfb1b5ae77291"
      }
     },
     "23cdf48b0b3b4473b7b61632cc235690": {
      "model_module": "@jupyter-widgets/controls",
      "model_module_version": "1.5.0",
      "model_name": "ButtonStyleModel",
      "state": {}
     },
     "23fbe244c96a48948306d010b5d76e03": {
      "model_module": "@jupyter-widgets/controls",
      "model_module_version": "1.5.0",
      "model_name": "DescriptionStyleModel",
      "state": {
       "description_width": ""
      }
     },
     "2402edf05d7540b9966c21f461cef4aa": {
      "model_module": "@jupyter-widgets/controls",
      "model_module_version": "1.5.0",
      "model_name": "ButtonModel",
      "state": {
       "layout": "IPY_MODEL_287dec0fe9444df9889dc09fbb2ae86d",
       "style": "IPY_MODEL_68f681ba5d184d5cb4d8fa880747a554"
      }
     },
     "2487199ce1154ee3afdfaf982f17bdbe": {
      "model_module": "@jupyter-widgets/base",
      "model_module_version": "1.2.0",
      "model_name": "LayoutModel",
      "state": {
       "order": "-1",
       "overflow": "visible",
       "padding": "1px",
       "width": "0px"
      }
     },
     "248d6186a02642f9906010509ca9f4a3": {
      "model_module": "@jupyter-widgets/controls",
      "model_module_version": "1.5.0",
      "model_name": "ProgressStyleModel",
      "state": {
       "description_width": ""
      }
     },
     "2495dc994c9146beaac0d36b7034cfb7": {
      "model_module": "@jupyter-widgets/base",
      "model_module_version": "1.2.0",
      "model_name": "LayoutModel",
      "state": {
       "height": "32px",
       "overflow": "visible",
       "width": "100%"
      }
     },
     "24b052614d5c4baab719257368941144": {
      "model_module": "@jupyter-widgets/controls",
      "model_module_version": "1.5.0",
      "model_name": "ButtonModel",
      "state": {
       "description": "EDIT",
       "layout": "IPY_MODEL_bb77b03311bc4891880a84555e787635",
       "style": "IPY_MODEL_1ff7d7c19d9c46ec93c58ec4dd910e44"
      }
     },
     "24b5eebaea3f4e34af2c2340b03b21b0": {
      "model_module": "@jupyter-widgets/base",
      "model_module_version": "1.2.0",
      "model_name": "LayoutModel",
      "state": {
       "border": "3px solid white",
       "display": "flex",
       "flex": "1 1 0%",
       "margin": "10px",
       "min_width": "400px",
       "overflow": "visible",
       "padding": "10px",
       "width": "auto"
      }
     },
     "24c91e344bc2498c89a6c4fbb0bcf26d": {
      "model_module": "@jupyter-widgets/controls",
      "model_module_version": "1.5.0",
      "model_name": "ProgressStyleModel",
      "state": {
       "description_width": ""
      }
     },
     "24e849de75cd46958b65a6716cbab947": {
      "model_module": "@jupyter-widgets/base",
      "model_module_version": "1.2.0",
      "model_name": "LayoutModel",
      "state": {
       "order": "-1",
       "overflow": "visible",
       "padding": "1px",
       "width": "0px"
      }
     },
     "24eb433318cf4d078c634b508b63ab48": {
      "model_module": "@jupyter-widgets/controls",
      "model_module_version": "1.5.0",
      "model_name": "DescriptionStyleModel",
      "state": {
       "description_width": ""
      }
     },
     "250ca6b20af44507b641defc709de92b": {
      "model_module": "@jupyter-widgets/base",
      "model_module_version": "1.2.0",
      "model_name": "LayoutModel",
      "state": {
       "display": "none"
      }
     },
     "25270002507f470c81c1cd555ad6cbe3": {
      "model_module": "@jupyter-widgets/controls",
      "model_module_version": "1.5.0",
      "model_name": "LabelModel",
      "state": {
       "layout": "IPY_MODEL_d417718e0788408bb77054df0290b8b6",
       "style": "IPY_MODEL_43b2a7e399d24162a418a8015044ec5a",
       "value": "     (1/1)"
      }
     },
     "253a895c692a4eb2b54bf067ee43ceb3": {
      "model_module": "@jupyter-widgets/controls",
      "model_module_version": "1.5.0",
      "model_name": "ProgressStyleModel",
      "state": {
       "description_width": ""
      }
     },
     "257f7a1964714a8ca9e07b6f12c6279d": {
      "model_module": "@jupyter-widgets/controls",
      "model_module_version": "1.5.0",
      "model_name": "DescriptionStyleModel",
      "state": {
       "description_width": ""
      }
     },
     "258d455fd208494bafd333edce058224": {
      "model_module": "@jupyter-widgets/base",
      "model_module_version": "1.2.0",
      "model_name": "LayoutModel",
      "state": {
       "display": "flex",
       "flex_flow": "row wrap"
      }
     },
     "25a83c0da2e7417b8ae0a031dfc98632": {
      "model_module": "@jupyter-widgets/controls",
      "model_module_version": "1.5.0",
      "model_name": "ProgressStyleModel",
      "state": {
       "description_width": ""
      }
     },
     "25dc84c2f0c94576b8d9ceaa68799e8f": {
      "model_module": "@jupyter-widgets/controls",
      "model_module_version": "1.5.0",
      "model_name": "HBoxModel",
      "state": {
       "children": [
        "IPY_MODEL_de465583a5ef4bbc9bc2d9e6a76c4ea5",
        "IPY_MODEL_a0e8830cb20a4751b5302ebb1007ebd0",
        "IPY_MODEL_ad1952b9b007435a854c3927247bd5e3",
        "IPY_MODEL_dbdacadd277a408e9f0d0d9e298abfaf"
       ],
       "layout": "IPY_MODEL_7b569cb8b38c4d978e6005bc62d41624"
      }
     },
     "25e3a474807b40d881a03c1019b96515": {
      "model_module": "@jupyter-widgets/controls",
      "model_module_version": "1.5.0",
      "model_name": "ProgressStyleModel",
      "state": {
       "description_width": ""
      }
     },
     "269e3066bedb48fdb8cd178992fbd281": {
      "model_module": "@jupyter-widgets/base",
      "model_module_version": "1.2.0",
      "model_name": "LayoutModel",
      "state": {
       "height": "32px",
       "order": "-2",
       "width": "32px"
      }
     },
     "26b9eba65d244e1cb8e3be9a7018211d": {
      "model_module": "@jupyter-widgets/controls",
      "model_module_version": "1.5.0",
      "model_name": "ButtonModel",
      "state": {
       "description": "EDIT",
       "layout": "IPY_MODEL_626a7d5434ae4cde8ce6394e51144483",
       "style": "IPY_MODEL_410c19ab83c94d72b6e45b94db406814"
      }
     },
     "2735a0387c4344dc91ed9efe4b651ad4": {
      "model_module": "@jupyter-widgets/controls",
      "model_module_version": "1.5.0",
      "model_name": "DropdownModel",
      "state": {
       "_options_labels": [
        "All"
       ],
       "index": 0,
       "layout": "IPY_MODEL_27952fd37e2240b8b87c0e356137b7f4",
       "style": "IPY_MODEL_4d8d0f9d7fb24609a704abf1ab12e610"
      }
     },
     "27416962349c4718809e78b2d9b21f18": {
      "model_module": "@jupyter-widgets/base",
      "model_module_version": "1.2.0",
      "model_name": "LayoutModel",
      "state": {
       "height": "32px",
       "overflow": "visible",
       "width": "100%"
      }
     },
     "27491e6088904c9b80c3110414360b5c": {
      "model_module": "@jupyter-widgets/controls",
      "model_module_version": "1.5.0",
      "model_name": "ButtonStyleModel",
      "state": {}
     },
     "275018bfcc5f437c9bf8b22896297878": {
      "model_module": "@jupyter-widgets/controls",
      "model_module_version": "1.5.0",
      "model_name": "ButtonStyleModel",
      "state": {}
     },
     "2786d769abaa4120a6aa2b9aa5bb52b4": {
      "model_module": "@jupyter-widgets/controls",
      "model_module_version": "1.5.0",
      "model_name": "IntProgressModel",
      "state": {
       "layout": "IPY_MODEL_1707be0a41a048c9a98c0da420c96394",
       "style": "IPY_MODEL_98a8912751a74448a13c59300d8c6b9d",
       "value": 30
      }
     },
     "27952fd37e2240b8b87c0e356137b7f4": {
      "model_module": "@jupyter-widgets/base",
      "model_module_version": "1.2.0",
      "model_name": "LayoutModel",
      "state": {
       "display": "none",
       "width": "95%"
      }
     },
     "27a2a220d78e44ed9ad7b5310d1c8388": {
      "model_module": "@jupyter-widgets/controls",
      "model_module_version": "1.5.0",
      "model_name": "LabelModel",
      "state": {
       "layout": "IPY_MODEL_34863c5c89dd4cdd8b8a69c8b5d8938e",
       "style": "IPY_MODEL_eac08f3f9f534091b6e60c6c3362753b",
       "value": "   objective"
      }
     },
     "27bb9725ae3447f3aa66a99afb4b5cb6": {
      "model_module": "@jupyter-widgets/base",
      "model_module_version": "1.2.0",
      "model_name": "LayoutModel",
      "state": {
       "height": "32px",
       "overflow": "visible",
       "width": "100%"
      }
     },
     "2818a18b440d4a779d86b605cb88290c": {
      "model_module": "@jupyter-widgets/controls",
      "model_module_version": "1.5.0",
      "model_name": "IntProgressModel",
      "state": {
       "bar_style": "success",
       "layout": "IPY_MODEL_fc931e90ddd9459da55a0958b33951fb",
       "max": 1,
       "style": "IPY_MODEL_47dd90cf209d4c2c839a32b665033dae",
       "value": 1
      }
     },
     "281e7795c3e0497081e993dfc1611fea": {
      "model_module": "@jupyter-widgets/base",
      "model_module_version": "1.2.0",
      "model_name": "LayoutModel",
      "state": {
       "overflow": "visible",
       "width": "100%"
      }
     },
     "283ad5c9bbd64661a1670945adfbbde3": {
      "model_module": "@jupyter-widgets/controls",
      "model_module_version": "1.5.0",
      "model_name": "ButtonStyleModel",
      "state": {}
     },
     "2879b4b74dfa471e9fa8fcc63350bf1f": {
      "model_module": "@jupyter-widgets/base",
      "model_module_version": "1.2.0",
      "model_name": "LayoutModel",
      "state": {
       "height": "32px",
       "overflow": "visible",
       "width": "100%"
      }
     },
     "287dec0fe9444df9889dc09fbb2ae86d": {
      "model_module": "@jupyter-widgets/base",
      "model_module_version": "1.2.0",
      "model_name": "LayoutModel",
      "state": {
       "height": "32px",
       "order": "-2",
       "width": "32px"
      }
     },
     "28aa0b2041d14e219fe2fa2c827e8328": {
      "model_module": "@jupyter-widgets/controls",
      "model_module_version": "1.5.0",
      "model_name": "ProgressStyleModel",
      "state": {
       "description_width": ""
      }
     },
     "28b4847345ab4aaa9c74b1b0496dca28": {
      "model_module": "@jupyter-widgets/base",
      "model_module_version": "1.2.0",
      "model_name": "LayoutModel",
      "state": {
       "display": "none",
       "width": "95%"
      }
     },
     "28fc70abd27544a3b437b95e0cad73c0": {
      "model_module": "@jupyter-widgets/controls",
      "model_module_version": "1.5.0",
      "model_name": "HBoxModel",
      "state": {
       "children": [
        "IPY_MODEL_15fca175244745119fcac8348aab1826",
        "IPY_MODEL_2a89f45981694fcaa026fed501f6f47d",
        "IPY_MODEL_fbd73186b605421d9330cfb3c450b426",
        "IPY_MODEL_5d1d7ec462454e9690253dbfc76aa0fa"
       ],
       "layout": "IPY_MODEL_b4d54188b0e64637974508b39dc1e275"
      }
     },
     "292fbe421c314453824d8c60f84c898b": {
      "model_module": "@jupyter-widgets/controls",
      "model_module_version": "1.5.0",
      "model_name": "DescriptionStyleModel",
      "state": {
       "description_width": ""
      }
     },
     "2960ebbc9b6041caba77229f17c4737b": {
      "model_module": "@jupyter-widgets/controls",
      "model_module_version": "1.5.0",
      "model_name": "ButtonStyleModel",
      "state": {}
     },
     "29634821a6a847ed880ea90a8869c5de": {
      "model_module": "@jupyter-widgets/base",
      "model_module_version": "1.2.0",
      "model_name": "LayoutModel",
      "state": {
       "height": "32px",
       "overflow": "visible",
       "width": "100%"
      }
     },
     "296a5721fa6d4cd8b38be6a35d19a58b": {
      "model_module": "@jupyter-widgets/controls",
      "model_module_version": "1.5.0",
      "model_name": "ButtonStyleModel",
      "state": {}
     },
     "2977ea828064404b9e3b3f8506a0d7fb": {
      "model_module": "@jupyter-widgets/base",
      "model_module_version": "1.2.0",
      "model_name": "LayoutModel",
      "state": {
       "display": "none"
      }
     },
     "29b86fca87da4a23a2c835e8c800369b": {
      "model_module": "@jupyter-widgets/controls",
      "model_module_version": "1.5.0",
      "model_name": "ButtonModel",
      "state": {
       "layout": "IPY_MODEL_fe07d997d3074c1d8622fa35696f8223",
       "style": "IPY_MODEL_296a5721fa6d4cd8b38be6a35d19a58b"
      }
     },
     "2a0a9ee8b0b841bf9d36563b26157a25": {
      "model_module": "@jupyter-widgets/controls",
      "model_module_version": "1.5.0",
      "model_name": "ProgressStyleModel",
      "state": {
       "description_width": ""
      }
     },
     "2a24450aeca143688b53b9763bad2c43": {
      "model_module": "@jupyter-widgets/controls",
      "model_module_version": "1.5.0",
      "model_name": "VBoxModel",
      "state": {
       "children": [
        "IPY_MODEL_e616364c8346449fa0bba9ebd837616c",
        "IPY_MODEL_db7d89d4d1cd42e79c912a07e00761ed",
        "IPY_MODEL_db5d5d03292043fabef0bc3cafa084e4",
        "IPY_MODEL_7646fa53953545ee89efb54be9cd7c38"
       ],
       "layout": "IPY_MODEL_6b7cda04347a462798982fdd52449a58"
      }
     },
     "2a2a1d6ba2fc4693b1371d9ad10cbbad": {
      "model_module": "@jupyter-widgets/base",
      "model_module_version": "1.2.0",
      "model_name": "LayoutModel",
      "state": {
       "height": "32px",
       "order": "-2",
       "width": "32px"
      }
     },
     "2a38be5e87744959b2aeec70837c521e": {
      "model_module": "@jupyter-widgets/controls",
      "model_module_version": "1.5.0",
      "model_name": "IntProgressModel",
      "state": {
       "layout": "IPY_MODEL_321dabc3bdc04d98bff148d8e39c0175",
       "style": "IPY_MODEL_4e80967105b744b79b66bc8c6b88202f",
       "value": 30
      }
     },
     "2a6a36045cb447289d479d3ce9cb11dc": {
      "model_module": "@jupyter-widgets/base",
      "model_module_version": "1.2.0",
      "model_name": "LayoutModel",
      "state": {
       "height": "32px",
       "order": "-2",
       "width": "32px"
      }
     },
     "2a7da00c89bd4d3191d3ba642179e355": {
      "model_module": "@jupyter-widgets/controls",
      "model_module_version": "1.5.0",
      "model_name": "ProgressStyleModel",
      "state": {
       "description_width": ""
      }
     },
     "2a89f45981694fcaa026fed501f6f47d": {
      "model_module": "@jupyter-widgets/controls",
      "model_module_version": "1.5.0",
      "model_name": "IntProgressModel",
      "state": {
       "layout": "IPY_MODEL_1c9c84a262fe40f4988d910bbeb77dfb",
       "style": "IPY_MODEL_7b9cdc55f4b84e0aa0a8e9f76edc47d3",
       "value": 30
      }
     },
     "2aab020717354a3f9d025017f662644a": {
      "model_module": "@jupyter-widgets/controls",
      "model_module_version": "1.5.0",
      "model_name": "HBoxModel",
      "state": {
       "children": [
        "IPY_MODEL_851dbabca6c3466985c6adf1342473fa",
        "IPY_MODEL_7d459801355e405d8a18df13be341a58",
        "IPY_MODEL_caae01fc2b2c457f96a7f40bb7febfbe",
        "IPY_MODEL_23ccc4c9d69e41118862dab0bb3b402e"
       ],
       "layout": "IPY_MODEL_ee747f292b6444a988919929db9469c6"
      }
     },
     "2ac28e0d6b4143b7b7f03ab8614fa77d": {
      "model_module": "@jupyter-widgets/controls",
      "model_module_version": "1.5.0",
      "model_name": "HBoxModel",
      "state": {
       "children": [
        "IPY_MODEL_6b18ad69bee446afb07ca7703a5e0689",
        "IPY_MODEL_c3ab6bda6ed84217aec8ae99b4228978",
        "IPY_MODEL_a3cc4be6753f49bf82118f3d055b4afb",
        "IPY_MODEL_6fd40e38db424799bfadb856410a938a"
       ],
       "layout": "IPY_MODEL_068a982f110943818346dc0cb74ba25e"
      }
     },
     "2ad345c63d244ad18ed74d470199b999": {
      "model_module": "@jupyter-widgets/base",
      "model_module_version": "1.2.0",
      "model_name": "LayoutModel",
      "state": {}
     },
     "2ae103a588cf43dc81435e19f88506a4": {
      "model_module": "@jupyter-widgets/controls",
      "model_module_version": "1.5.0",
      "model_name": "HBoxModel",
      "state": {
       "children": [
        "IPY_MODEL_1c29015dc0e94af194f6523ceda300e2",
        "IPY_MODEL_95e616e042814ccbbf72620f24630ea2",
        "IPY_MODEL_36acc1d22b9444a5af4a16e73fb82c30",
        "IPY_MODEL_b37cb92c15c247c89c66e8177bcdb5be"
       ],
       "layout": "IPY_MODEL_ba84a29b0c664bb9b99a8cb10b4a42a2"
      }
     },
     "2b1c69f8c1ae46349255b57ef826a6a6": {
      "model_module": "@jupyter-widgets/controls",
      "model_module_version": "1.5.0",
      "model_name": "ButtonStyleModel",
      "state": {}
     },
     "2b3330da6cf447ac965806d465134df7": {
      "model_module": "@jupyter-widgets/base",
      "model_module_version": "1.2.0",
      "model_name": "LayoutModel",
      "state": {
       "height": "32px",
       "order": "-2",
       "width": "32px"
      }
     },
     "2b50bd56fdf74850a70fd54465b0b79b": {
      "model_module": "@jupyter-widgets/base",
      "model_module_version": "1.2.0",
      "model_name": "LayoutModel",
      "state": {
       "overflow": "visible",
       "width": "100%"
      }
     },
     "2bb5555c751c4fbea4209f5f243390c3": {
      "model_module": "@jupyter-widgets/base",
      "model_module_version": "1.2.0",
      "model_name": "LayoutModel",
      "state": {
       "height": "32px",
       "overflow": "visible",
       "width": "100%"
      }
     },
     "2bd7eff9d58345d8b24b1cc369704295": {
      "model_module": "@jupyter-widgets/controls",
      "model_module_version": "1.5.0",
      "model_name": "HTMLModel",
      "state": {
       "layout": "IPY_MODEL_14e38ce69512457fbe73c75d1e41e362",
       "style": "IPY_MODEL_cf7f17d3a4c849f7a5b838bedc9f3c58",
       "value": "<font size=\"5\"><b>The Witch</b></font size=>"
      }
     },
     "2beb066733514ca0bc1457193cfcaf15": {
      "model_module": "@jupyter-widgets/base",
      "model_module_version": "1.2.0",
      "model_name": "LayoutModel",
      "state": {
       "height": "32px",
       "order": "-2",
       "width": "32px"
      }
     },
     "2c20b49227464ced918305ddc9720bba": {
      "model_module": "@jupyter-widgets/controls",
      "model_module_version": "1.5.0",
      "model_name": "ButtonStyleModel",
      "state": {}
     },
     "2c422faea2104ee3a5ac46b5ec1fd303": {
      "model_module": "@jupyter-widgets/controls",
      "model_module_version": "1.5.0",
      "model_name": "ButtonModel",
      "state": {
       "description": "EDIT",
       "layout": "IPY_MODEL_c3cc2ce336c44e579932de23f102be20",
       "style": "IPY_MODEL_a206ca398bc046faa6f7e9d8e847d730"
      }
     },
     "2c4dc9eac22b4a3ebc749b03c3a425f2": {
      "model_module": "@jupyter-widgets/controls",
      "model_module_version": "1.5.0",
      "model_name": "VBoxModel",
      "state": {
       "children": [
        "IPY_MODEL_e0539837752f47b9b4fad156a58f8d83",
        "IPY_MODEL_087fc26142da48f99206c098e4c0cda1",
        "IPY_MODEL_a33b3fa065334fefa220b1bc3147fd22"
       ],
       "layout": "IPY_MODEL_350adc9d3f52486899cd1c53e362cfb6"
      }
     },
     "2c5aee4f2ce94f25a5328fd731db7acc": {
      "model_module": "@jupyter-widgets/base",
      "model_module_version": "1.2.0",
      "model_name": "LayoutModel",
      "state": {
       "overflow": "visible",
       "width": "100%"
      }
     },
     "2c729fe43f974ec881ec8f53263fa5d5": {
      "model_module": "@jupyter-widgets/controls",
      "model_module_version": "1.5.0",
      "model_name": "HBoxModel",
      "state": {
       "children": [
        "IPY_MODEL_e676e3c4295a49b09af4eb000198bcdb",
        "IPY_MODEL_704dfd504cc9423b92b271fded9eebd0",
        "IPY_MODEL_0304b5935ff34ff0b97b0016df10e907",
        "IPY_MODEL_e35fce8bbe6640819164aa77504dd3bf"
       ],
       "layout": "IPY_MODEL_dce49b8b15a94812aae20be595c4e888"
      }
     },
     "2c87478d43dd4ad3bc66b7803dae1817": {
      "model_module": "@jupyter-widgets/base",
      "model_module_version": "1.2.0",
      "model_name": "LayoutModel",
      "state": {
       "display": "none",
       "width": "60px"
      }
     },
     "2c8a26a976624e4eb18d00ff02e86e20": {
      "model_module": "@jupyter-widgets/controls",
      "model_module_version": "1.5.0",
      "model_name": "IntProgressModel",
      "state": {
       "layout": "IPY_MODEL_01166849f6a64715a890c0614f209099",
       "style": "IPY_MODEL_15d65c9ec9234709b8a7a6af7d094ea0",
       "value": 30
      }
     },
     "2cad5632a26f455d8606e768c6f91c5d": {
      "model_module": "@jupyter-widgets/base",
      "model_module_version": "1.2.0",
      "model_name": "LayoutModel",
      "state": {
       "height": "32px",
       "order": "-2",
       "width": "32px"
      }
     },
     "2cc52a21326e434499095838f829605a": {
      "model_module": "@jupyter-widgets/controls",
      "model_module_version": "1.5.0",
      "model_name": "ProgressStyleModel",
      "state": {
       "description_width": ""
      }
     },
     "2ce1b6f67d354634bf633f8b113fe84f": {
      "model_module": "@jupyter-widgets/controls",
      "model_module_version": "1.5.0",
      "model_name": "ProgressStyleModel",
      "state": {
       "description_width": ""
      }
     },
     "2ce81697021e4b1392c941349e21645e": {
      "model_module": "@jupyter-widgets/base",
      "model_module_version": "1.2.0",
      "model_name": "LayoutModel",
      "state": {
       "order": "-1",
       "overflow": "visible",
       "padding": "1px",
       "width": "0px"
      }
     },
     "2ce870a26b9345f19410b8c3ad06f2e7": {
      "model_module": "@jupyter-widgets/controls",
      "model_module_version": "1.5.0",
      "model_name": "VBoxModel",
      "state": {
       "children": [
        "IPY_MODEL_f5ddd1166ecf4f7d8f7645ba072d7f4a",
        "IPY_MODEL_debe3de18e864f44a99cb7acd2b677f7",
        "IPY_MODEL_ff973bd978ca40908ca34a161021defa",
        "IPY_MODEL_e9196bb180454309a87d9aee22c53d1e"
       ],
       "layout": "IPY_MODEL_43a36970f0f64d08b067d9b69582c05c"
      }
     },
     "2d1b8c074ad0483a897688d1e3371ee7": {
      "model_module": "@jupyter-widgets/controls",
      "model_module_version": "1.5.0",
      "model_name": "ProgressStyleModel",
      "state": {
       "description_width": ""
      }
     },
     "2d2192af52ef4028822f577247d944db": {
      "model_module": "@jupyter-widgets/controls",
      "model_module_version": "1.5.0",
      "model_name": "HBoxModel",
      "state": {
       "children": [
        "IPY_MODEL_cc9be0595c38408789724d2c24442c7c",
        "IPY_MODEL_ab014dec2cec43c2b70f2a31d900c616",
        "IPY_MODEL_a85eb23a63b44b3e8b6c00945764ae85",
        "IPY_MODEL_7fb5e08efdb145fca32af3fc2cca0c61"
       ],
       "layout": "IPY_MODEL_e7122939e4c249778978a5e00d0d09d8"
      }
     },
     "2d99a914bb6442aebd01e3731789d283": {
      "model_module": "@jupyter-widgets/base",
      "model_module_version": "1.2.0",
      "model_name": "LayoutModel",
      "state": {}
     },
     "2db5611552734242b188c67d64e51f39": {
      "model_module": "@jupyter-widgets/controls",
      "model_module_version": "1.5.0",
      "model_name": "LabelModel",
      "state": {
       "layout": "IPY_MODEL_e1055c2e314c4ab19fb81aa1495b5826",
       "style": "IPY_MODEL_3d78297e0feb4ad890a23695c92e3cbc",
       "value": "     (0/1)"
      }
     },
     "2dea53a574b3410fb7fc246ba679008a": {
      "model_module": "@jupyter-widgets/base",
      "model_module_version": "1.2.0",
      "model_name": "LayoutModel",
      "state": {
       "height": "32px",
       "overflow": "visible",
       "width": "100%"
      }
     },
     "2deb3afc9a1946e7b27e0f7b8246ee35": {
      "model_module": "@jupyter-widgets/controls",
      "model_module_version": "1.5.0",
      "model_name": "ProgressStyleModel",
      "state": {
       "description_width": ""
      }
     },
     "2df492df9a8b43e39249e194f26142c8": {
      "model_module": "@jupyter-widgets/controls",
      "model_module_version": "1.5.0",
      "model_name": "ButtonStyleModel",
      "state": {}
     },
     "2e0946f5ccb74cbf9fb1f3c366211e7c": {
      "model_module": "@jupyter-widgets/controls",
      "model_module_version": "1.5.0",
      "model_name": "DescriptionStyleModel",
      "state": {
       "description_width": ""
      }
     },
     "2e33ea27a1eb4685bd6d80868f2cd0fc": {
      "model_module": "@jupyter-widgets/controls",
      "model_module_version": "1.5.0",
      "model_name": "VBoxModel",
      "state": {
       "children": [
        "IPY_MODEL_58b11e1425244e5a83ee66b732dbf1a5",
        "IPY_MODEL_2c4dc9eac22b4a3ebc749b03c3a425f2",
        "IPY_MODEL_5c7974e957cd4cdc95065b378a934886"
       ],
       "layout": "IPY_MODEL_58a443c73d564e4fbe46b16c060d29c6"
      }
     },
     "2ee707a2408040659b34eff983aba3b2": {
      "model_module": "@jupyter-widgets/controls",
      "model_module_version": "1.5.0",
      "model_name": "DescriptionStyleModel",
      "state": {
       "description_width": ""
      }
     },
     "2efb12b6e9004ddb883ab9a14d4918ea": {
      "model_module": "@jupyter-widgets/base",
      "model_module_version": "1.2.0",
      "model_name": "LayoutModel",
      "state": {
       "height": "32px",
       "order": "-2",
       "width": "32px"
      }
     },
     "2efc7c3e9fa64572bf5a76e8c52cece5": {
      "model_module": "@jupyter-widgets/base",
      "model_module_version": "1.2.0",
      "model_name": "LayoutModel",
      "state": {
       "order": "-1",
       "overflow": "visible",
       "padding": "1px",
       "width": "0px"
      }
     },
     "2f47f2742c564cc99c80f1c8126e5331": {
      "model_module": "@jupyter-widgets/controls",
      "model_module_version": "1.5.0",
      "model_name": "ButtonStyleModel",
      "state": {}
     },
     "2f703e0d88a34cf2980828872e05f92c": {
      "model_module": "@jupyter-widgets/base",
      "model_module_version": "1.2.0",
      "model_name": "LayoutModel",
      "state": {
       "height": "32px",
       "overflow": "visible",
       "width": "100%"
      }
     },
     "2f87cbb36aba45b39b4bdb25855b7011": {
      "model_module": "@jupyter-widgets/controls",
      "model_module_version": "1.5.0",
      "model_name": "LabelModel",
      "state": {
       "layout": "IPY_MODEL_dcab8bdf69074179b7743a103a288049",
       "style": "IPY_MODEL_ee4a0784a3b840009d97e61ee480cb40",
       "value": "   objective"
      }
     },
     "2fa1ee542ce0417ea809885b5a6e86cd": {
      "model_module": "@jupyter-widgets/controls",
      "model_module_version": "1.5.0",
      "model_name": "ButtonModel",
      "state": {
       "description": "EDIT",
       "layout": "IPY_MODEL_cbc8ea2621ae422bbb2e4a9a4bbe55d8",
       "style": "IPY_MODEL_650ff66f44b74aa2a0498e6cb3dbf6a1"
      }
     },
     "30307c59e9cc45c896266b24992b0120": {
      "model_module": "@jupyter-widgets/base",
      "model_module_version": "1.2.0",
      "model_name": "LayoutModel",
      "state": {
       "overflow": "visible",
       "width": "100%"
      }
     },
     "308cb520ce9e4113b1c1cdf4d11fae81": {
      "model_module": "@jupyter-widgets/base",
      "model_module_version": "1.2.0",
      "model_name": "LayoutModel",
      "state": {
       "display": "flex"
      }
     },
     "308e1c3ce0484ed7a1105b523a3c274a": {
      "model_module": "@jupyter-widgets/controls",
      "model_module_version": "1.5.0",
      "model_name": "ButtonStyleModel",
      "state": {}
     },
     "309489366383498e94031ddb14daab2b": {
      "model_module": "@jupyter-widgets/controls",
      "model_module_version": "1.5.0",
      "model_name": "ButtonStyleModel",
      "state": {}
     },
     "309b723658524dfca8161c0df8a87bd4": {
      "model_module": "@jupyter-widgets/controls",
      "model_module_version": "1.5.0",
      "model_name": "ButtonStyleModel",
      "state": {}
     },
     "30c5b8739f9d4992b90004a67ddedf68": {
      "model_module": "@jupyter-widgets/controls",
      "model_module_version": "1.5.0",
      "model_name": "ProgressStyleModel",
      "state": {
       "description_width": ""
      }
     },
     "30e992755f7e4688a4ce383bb982258d": {
      "model_module": "@jupyter-widgets/base",
      "model_module_version": "1.2.0",
      "model_name": "LayoutModel",
      "state": {}
     },
     "313bfa2395d94dd587577f9ad2d14bce": {
      "model_module": "@jupyter-widgets/controls",
      "model_module_version": "1.5.0",
      "model_name": "DescriptionStyleModel",
      "state": {
       "description_width": ""
      }
     },
     "318366f9fa35451ea655e686029113d5": {
      "model_module": "@jupyter-widgets/controls",
      "model_module_version": "1.5.0",
      "model_name": "IntProgressModel",
      "state": {
       "layout": "IPY_MODEL_86127dda424b444884276cdbabbb06f2",
       "style": "IPY_MODEL_24c91e344bc2498c89a6c4fbb0bcf26d",
       "value": 30
      }
     },
     "31a0f61b74484af1be5fe0ef0a8ea957": {
      "model_module": "@jupyter-widgets/controls",
      "model_module_version": "1.5.0",
      "model_name": "HBoxModel",
      "state": {
       "children": [
        "IPY_MODEL_4eca016121904111939e1aa89ed7d836",
        "IPY_MODEL_71700c2669ae416a9248e6d2f1630c10",
        "IPY_MODEL_95d631507d19408dbb0edb0ec1ef5664",
        "IPY_MODEL_a6991609672a429c9756161054fedbc9"
       ],
       "layout": "IPY_MODEL_889717b1f891400cbed083374b3da36c"
      }
     },
     "31ad9a4bdeb24722952fff065866f5aa": {
      "model_module": "@jupyter-widgets/controls",
      "model_module_version": "1.5.0",
      "model_name": "ButtonModel",
      "state": {
       "description": "EDIT",
       "layout": "IPY_MODEL_66c9370e4446490a8b222d01fe10fb6a",
       "style": "IPY_MODEL_f40e85e0afbe4b27b03d51ba8acf44a1"
      }
     },
     "321448088fc54faaa0579d80875fcef6": {
      "model_module": "@jupyter-widgets/controls",
      "model_module_version": "1.5.0",
      "model_name": "ProgressStyleModel",
      "state": {
       "description_width": ""
      }
     },
     "321dabc3bdc04d98bff148d8e39c0175": {
      "model_module": "@jupyter-widgets/base",
      "model_module_version": "1.2.0",
      "model_name": "LayoutModel",
      "state": {
       "height": "32px",
       "overflow": "visible",
       "width": "100%"
      }
     },
     "3277ea603be94ef0a625183f34c7ace4": {
      "model_module": "@jupyter-widgets/controls",
      "model_module_version": "1.5.0",
      "model_name": "HBoxModel",
      "state": {
       "children": [
        "IPY_MODEL_1e0b60851c684dd499469993ab1916de",
        "IPY_MODEL_35504d6ba5264a91b8367621a82d227f",
        "IPY_MODEL_95297401ecee4e8f9cd0b37c1c21e270",
        "IPY_MODEL_f50ab0f4d15d4fd29713cb57e966c34d"
       ],
       "layout": "IPY_MODEL_cc2a3eb9be3f4a47b0f8877927eed9b3"
      }
     },
     "32acd89b7f6d48bc9b7e3450aa172784": {
      "model_module": "@jupyter-widgets/controls",
      "model_module_version": "1.5.0",
      "model_name": "ProgressStyleModel",
      "state": {
       "description_width": ""
      }
     },
     "32c7b249381f41c68c6e914e9a18385e": {
      "model_module": "@jupyter-widgets/controls",
      "model_module_version": "1.5.0",
      "model_name": "ProgressStyleModel",
      "state": {
       "description_width": ""
      }
     },
     "32cc7d8b7efa4b0ab815ca72ee05b9cc": {
      "model_module": "@jupyter-widgets/controls",
      "model_module_version": "1.5.0",
      "model_name": "HTMLModel",
      "state": {
       "layout": "IPY_MODEL_acf8f5ec2356432da1d40acd013796f5",
       "style": "IPY_MODEL_16fe5c5ceeae4b1d842d50d3682e279a",
       "value": "<b>Activity Options</b>"
      }
     },
     "330af03151b54352aff7d2481f30d1ca": {
      "model_module": "@jupyter-widgets/base",
      "model_module_version": "1.2.0",
      "model_name": "LayoutModel",
      "state": {
       "order": "-1",
       "overflow": "visible",
       "padding": "1px",
       "width": "0px"
      }
     },
     "33246f163f4242ae83fe73a26f700d23": {
      "model_module": "@jupyter-widgets/base",
      "model_module_version": "1.2.0",
      "model_name": "LayoutModel",
      "state": {
       "height": "32px",
       "order": "-2",
       "width": "32px"
      }
     },
     "332d4bbf8bf9425db1af159ff308d6f1": {
      "model_module": "@jupyter-widgets/controls",
      "model_module_version": "1.5.0",
      "model_name": "ButtonModel",
      "state": {
       "layout": "IPY_MODEL_d985a413f4c04732a1ef742f02ae1bd4",
       "style": "IPY_MODEL_f290917b38344073ab69553fe5017b1c"
      }
     },
     "3334cc8748cf47a5a50345ef98ab422a": {
      "model_module": "@jupyter-widgets/base",
      "model_module_version": "1.2.0",
      "model_name": "LayoutModel",
      "state": {
       "height": "32px",
       "order": "-2",
       "width": "32px"
      }
     },
     "3377e4c9151c474d8771a0dd7c2ea6e6": {
      "model_module": "@jupyter-widgets/controls",
      "model_module_version": "1.5.0",
      "model_name": "ProgressStyleModel",
      "state": {
       "description_width": ""
      }
     },
     "33a99cd4a4234724b2c3e91317c5b50c": {
      "model_module": "@jupyter-widgets/controls",
      "model_module_version": "1.5.0",
      "model_name": "ProgressStyleModel",
      "state": {
       "description_width": ""
      }
     },
     "33afce41ab64422983ddfb0b28632f6d": {
      "model_module": "@jupyter-widgets/base",
      "model_module_version": "1.2.0",
      "model_name": "LayoutModel",
      "state": {}
     },
     "33babf7cdd664bc895f28c15017e88a1": {
      "model_module": "@jupyter-widgets/base",
      "model_module_version": "1.2.0",
      "model_name": "LayoutModel",
      "state": {
       "height": "32px",
       "order": "-2",
       "width": "32px"
      }
     },
     "33d8455bafe943f1a9f99e793479f4a5": {
      "model_module": "@jupyter-widgets/base",
      "model_module_version": "1.2.0",
      "model_name": "LayoutModel",
      "state": {
       "height": "32px",
       "overflow": "visible",
       "width": "100%"
      }
     },
     "33efc68be8ac4024a703c042386deb8a": {
      "model_module": "@jupyter-widgets/controls",
      "model_module_version": "1.5.0",
      "model_name": "ButtonModel",
      "state": {
       "button_style": "success",
       "disabled": true,
       "layout": "IPY_MODEL_c7d8c9e9d56d47299c0242f41ad2d894",
       "style": "IPY_MODEL_9b86e2a5937945c6b7fa12e06dd97138"
      }
     },
     "33fc111fbd19481eb2554607454b66ed": {
      "model_module": "@jupyter-widgets/base",
      "model_module_version": "1.2.0",
      "model_name": "LayoutModel",
      "state": {
       "display": "none"
      }
     },
     "3418e658855946e88d29072f7327db11": {
      "model_module": "@jupyter-widgets/controls",
      "model_module_version": "1.5.0",
      "model_name": "DescriptionStyleModel",
      "state": {
       "description_width": ""
      }
     },
     "3421003a03764627b0099e2a6b4120f9": {
      "model_module": "@jupyter-widgets/base",
      "model_module_version": "1.2.0",
      "model_name": "LayoutModel",
      "state": {}
     },
     "34434e82fb524b1db71dc86cc60eccb7": {
      "model_module": "@jupyter-widgets/controls",
      "model_module_version": "1.5.0",
      "model_name": "ButtonStyleModel",
      "state": {}
     },
     "345305894e674d08a451a32bf5dfe317": {
      "model_module": "@jupyter-widgets/controls",
      "model_module_version": "1.5.0",
      "model_name": "DescriptionStyleModel",
      "state": {
       "description_width": ""
      }
     },
     "34863c5c89dd4cdd8b8a69c8b5d8938e": {
      "model_module": "@jupyter-widgets/base",
      "model_module_version": "1.2.0",
      "model_name": "LayoutModel",
      "state": {
       "order": "-1",
       "overflow": "visible",
       "padding": "1px",
       "width": "0px"
      }
     },
     "34b963696d0b40cdaf0321af4093db0f": {
      "model_module": "@jupyter-widgets/base",
      "model_module_version": "1.2.0",
      "model_name": "LayoutModel",
      "state": {
       "display": "flex",
       "width": "60px"
      }
     },
     "34bce39fa89d47e1b150a119c6d558fb": {
      "model_module": "@jupyter-widgets/base",
      "model_module_version": "1.2.0",
      "model_name": "LayoutModel",
      "state": {}
     },
     "34cbe67774d94167a29206ecc5535567": {
      "model_module": "@jupyter-widgets/base",
      "model_module_version": "1.2.0",
      "model_name": "LayoutModel",
      "state": {
       "overflow": "visible",
       "width": "100%"
      }
     },
     "34d14dd6093c49e8bb70272d6b5732d7": {
      "model_module": "@jupyter-widgets/base",
      "model_module_version": "1.2.0",
      "model_name": "LayoutModel",
      "state": {
       "height": "32px",
       "overflow": "visible",
       "width": "100%"
      }
     },
     "350adc9d3f52486899cd1c53e362cfb6": {
      "model_module": "@jupyter-widgets/base",
      "model_module_version": "1.2.0",
      "model_name": "LayoutModel",
      "state": {}
     },
     "351e9c74543b4aefb588564324c700dd": {
      "model_module": "@jupyter-widgets/controls",
      "model_module_version": "1.5.0",
      "model_name": "HBoxModel",
      "state": {
       "children": [
        "IPY_MODEL_8b917539444049e08748fdb639111425",
        "IPY_MODEL_e395658ba75a446eb92678f010da436f",
        "IPY_MODEL_18f0a89ccef64f71878e420dce06861f",
        "IPY_MODEL_69d736c758b14a1b9b28efbbbd7c53fe"
       ],
       "layout": "IPY_MODEL_a9443c91d3fc43fbae6e97bbda2c8c4f"
      }
     },
     "35209c7fd9f042cb89ecbd1900a6fea9": {
      "model_module": "@jupyter-widgets/controls",
      "model_module_version": "1.5.0",
      "model_name": "ButtonStyleModel",
      "state": {}
     },
     "353011fad0474a43915a43dab97b6619": {
      "model_module": "@jupyter-widgets/base",
      "model_module_version": "1.2.0",
      "model_name": "LayoutModel",
      "state": {
       "display": "flex"
      }
     },
     "354c7e9dd0454492859b013e76e619ac": {
      "model_module": "@jupyter-widgets/controls",
      "model_module_version": "1.5.0",
      "model_name": "DescriptionStyleModel",
      "state": {
       "description_width": ""
      }
     },
     "35502589e710493cac4aa685cfb99fa5": {
      "model_module": "@jupyter-widgets/controls",
      "model_module_version": "1.5.0",
      "model_name": "ButtonModel",
      "state": {
       "description": "EDIT",
       "layout": "IPY_MODEL_d9a0ec4c7977404ba441b98e043e66ee",
       "style": "IPY_MODEL_0014f635681a4dc7aeab1834e1135b1e"
      }
     },
     "35504d6ba5264a91b8367621a82d227f": {
      "model_module": "@jupyter-widgets/controls",
      "model_module_version": "1.5.0",
      "model_name": "IntProgressModel",
      "state": {
       "layout": "IPY_MODEL_2bb5555c751c4fbea4209f5f243390c3",
       "style": "IPY_MODEL_1dd664897eed484a9f4441bdd96e558d",
       "value": 30
      }
     },
     "3599eb8523e74f18b973c3e3c6cee920": {
      "model_module": "@jupyter-widgets/base",
      "model_module_version": "1.2.0",
      "model_name": "LayoutModel",
      "state": {
       "order": "-1",
       "overflow": "visible",
       "padding": "1px",
       "width": "0px"
      }
     },
     "359c847fa8174b4788c76743906facb2": {
      "model_module": "@jupyter-widgets/base",
      "model_module_version": "1.2.0",
      "model_name": "LayoutModel",
      "state": {
       "display": "none"
      }
     },
     "35b4f656c6244d909a4fd0d9daf9d2ef": {
      "model_module": "@jupyter-widgets/controls",
      "model_module_version": "1.5.0",
      "model_name": "ProgressStyleModel",
      "state": {
       "description_width": ""
      }
     },
     "35b73beced6c40b3a999993c2ef68297": {
      "model_module": "@jupyter-widgets/controls",
      "model_module_version": "1.5.0",
      "model_name": "DescriptionStyleModel",
      "state": {
       "description_width": ""
      }
     },
     "35d52ce24fce405e86112f933c120136": {
      "model_module": "@jupyter-widgets/controls",
      "model_module_version": "1.5.0",
      "model_name": "ButtonModel",
      "state": {
       "description": "EDIT",
       "layout": "IPY_MODEL_3d9c95a140a94982b2b12a3d710b465f",
       "style": "IPY_MODEL_9baff243d4cf4723a9d017f5c58f1d58"
      }
     },
     "3601573d558e47aeb57b8e053e1e4bef": {
      "model_module": "@jupyter-widgets/base",
      "model_module_version": "1.2.0",
      "model_name": "LayoutModel",
      "state": {
       "height": "32px",
       "order": "-2",
       "width": "32px"
      }
     },
     "3653bbc778264b9e8de029d14a2d1122": {
      "model_module": "@jupyter-widgets/controls",
      "model_module_version": "1.5.0",
      "model_name": "ButtonStyleModel",
      "state": {}
     },
     "36acc1d22b9444a5af4a16e73fb82c30": {
      "model_module": "@jupyter-widgets/controls",
      "model_module_version": "1.5.0",
      "model_name": "LabelModel",
      "state": {
       "layout": "IPY_MODEL_a92ec5e13b33463c9b14a2e7be2b856d",
       "style": "IPY_MODEL_e11fa9690a374819bb2cd18dfc371290",
       "value": "   objective"
      }
     },
     "36c383458eb546cabb4ac0dc72b0031b": {
      "model_module": "@jupyter-widgets/controls",
      "model_module_version": "1.5.0",
      "model_name": "LabelModel",
      "state": {
       "layout": "IPY_MODEL_18066ba896334e9e8f01141ad9ae3286",
       "style": "IPY_MODEL_e215d9eeff4248f08d026a7a69c37731",
       "value": "   objective"
      }
     },
     "36d6d141266d4b8db020a76f974b5231": {
      "model_module": "@jupyter-widgets/controls",
      "model_module_version": "1.5.0",
      "model_name": "ButtonStyleModel",
      "state": {}
     },
     "36ea7f1618664a4fa4860a3b0420e70d": {
      "model_module": "@jupyter-widgets/controls",
      "model_module_version": "1.5.0",
      "model_name": "ButtonStyleModel",
      "state": {}
     },
     "3714d1b5777c4d258280cba63931a220": {
      "model_module": "@jupyter-widgets/base",
      "model_module_version": "1.2.0",
      "model_name": "LayoutModel",
      "state": {
       "border": "1px solid white",
       "min_width": "250px",
       "padding": "10px",
       "width": "15%"
      }
     },
     "372562bf3f314710873f1b913b7917c8": {
      "model_module": "@jupyter-widgets/controls",
      "model_module_version": "1.5.0",
      "model_name": "HBoxModel",
      "state": {
       "children": [
        "IPY_MODEL_9fd1bee871084864885019b7c19c4e65",
        "IPY_MODEL_7e47ab8695534dedaf78fe3aacacdd90",
        "IPY_MODEL_c3cdd8bcd99140ac9df57d8f3ad981a4",
        "IPY_MODEL_c6e60f5341a34dd0a54f7d39830f741e"
       ],
       "layout": "IPY_MODEL_accee890bb35461b937e4191db6d7826"
      }
     },
     "374bdfb5569248ac8e30effbdfe73907": {
      "model_module": "@jupyter-widgets/controls",
      "model_module_version": "1.5.0",
      "model_name": "ButtonModel",
      "state": {
       "description": "EDIT",
       "layout": "IPY_MODEL_77673ef7c4ae48298112bc724a3dd48b",
       "style": "IPY_MODEL_39fc71cf20364dcd97ad452ee272f2ce"
      }
     },
     "3769c90118b54c008b1eb25914830e0f": {
      "model_module": "@jupyter-widgets/controls",
      "model_module_version": "1.5.0",
      "model_name": "ButtonStyleModel",
      "state": {}
     },
     "37cf5d40a81f4468a380ab1dbfe75965": {
      "model_module": "@jupyter-widgets/base",
      "model_module_version": "1.2.0",
      "model_name": "LayoutModel",
      "state": {
       "height": "32px",
       "order": "-2",
       "width": "32px"
      }
     },
     "38102f00b9224a85971f5a0d893bfefe": {
      "model_module": "@jupyter-widgets/controls",
      "model_module_version": "1.5.0",
      "model_name": "HBoxModel",
      "state": {
       "children": [
        "IPY_MODEL_72bb886bb1fc49248a92a4fec70c3ebb",
        "IPY_MODEL_eeb22c98663947a0bdaee90bb7b5e733",
        "IPY_MODEL_b8eaa4eaaa954125bb43b155b28b6f34",
        "IPY_MODEL_42e5250c6ee44fe5a063fb161b3cd15a"
       ],
       "layout": "IPY_MODEL_954eb08ad8934ea18ef16c2b28063cf8"
      }
     },
     "381c0cc36a5a4847822046ab4d304743": {
      "model_module": "@jupyter-widgets/controls",
      "model_module_version": "1.5.0",
      "model_name": "VBoxModel",
      "state": {
       "children": [
        "IPY_MODEL_7661dabab222425a80494074b1ec07bb",
        "IPY_MODEL_4f000aa05c4646448e6a8778969dea1b",
        "IPY_MODEL_db1a9580e45d40b1bcabe83748a8c80d",
        "IPY_MODEL_2ae103a588cf43dc81435e19f88506a4",
        "IPY_MODEL_697231be02a4498abbb49ee52151be24",
        "IPY_MODEL_55b95ef0720e4a1fb4025f4be4e15d9d"
       ],
       "layout": "IPY_MODEL_433df576d1bb44a9b7b370e0e61d799b"
      }
     },
     "383c1294940e4aef821fa608a7538078": {
      "model_module": "@jupyter-widgets/base",
      "model_module_version": "1.2.0",
      "model_name": "LayoutModel",
      "state": {
       "display": "none"
      }
     },
     "3868b1d574d5481d9fcc125f693db9a1": {
      "model_module": "@jupyter-widgets/base",
      "model_module_version": "1.2.0",
      "model_name": "LayoutModel",
      "state": {
       "height": "32px",
       "order": "-2",
       "width": "32px"
      }
     },
     "38c53b1a50924877966f8a9860837057": {
      "model_module": "@jupyter-widgets/controls",
      "model_module_version": "1.5.0",
      "model_name": "VBoxModel",
      "state": {
       "children": [
        "IPY_MODEL_5c1eb64bf32b4e6bab9415f7679603c5",
        "IPY_MODEL_719168724b8c4fea8d3ee455cc0affdb",
        "IPY_MODEL_0ba84c05cfd548d99aacb13fc95bb3ae",
        "IPY_MODEL_7213478595d84da49c19b24e07ee215a",
        "IPY_MODEL_25dc84c2f0c94576b8d9ceaa68799e8f",
        "IPY_MODEL_7fae7644b07545129f750f323572dfde"
       ],
       "layout": "IPY_MODEL_c9daf56ddf994e5382343f9175aefe8d"
      }
     },
     "38cf0a1f7f5249acb09ea1f6b7d9a5ce": {
      "model_module": "@jupyter-widgets/controls",
      "model_module_version": "1.5.0",
      "model_name": "DescriptionStyleModel",
      "state": {
       "description_width": ""
      }
     },
     "38d1049285a149c59b4343c77c4479b8": {
      "model_module": "@jupyter-widgets/base",
      "model_module_version": "1.2.0",
      "model_name": "LayoutModel",
      "state": {
       "display": "none"
      }
     },
     "38d401ed22d7401c8aadbafc157270f3": {
      "model_module": "@jupyter-widgets/controls",
      "model_module_version": "1.5.0",
      "model_name": "ButtonStyleModel",
      "state": {}
     },
     "38d7a60cbfbc46299a3f7ee2499ef06c": {
      "model_module": "@jupyter-widgets/controls",
      "model_module_version": "1.5.0",
      "model_name": "HTMLModel",
      "state": {
       "layout": "IPY_MODEL_5f78d9b5be4640ce904fb29177bd2dfb",
       "style": "IPY_MODEL_12a43c67588f42ec86eea55bebf90108",
       "value": "<i></i>"
      }
     },
     "38d8b3909bfd41abb463034afc048467": {
      "model_module": "@jupyter-widgets/controls",
      "model_module_version": "1.5.0",
      "model_name": "DescriptionStyleModel",
      "state": {
       "description_width": ""
      }
     },
     "38ee37e42462443dac294a7c34bf3230": {
      "model_module": "@jupyter-widgets/controls",
      "model_module_version": "1.5.0",
      "model_name": "ButtonModel",
      "state": {
       "description": "EDIT",
       "layout": "IPY_MODEL_7791eb7c79054d6b9556d224198b6f1e",
       "style": "IPY_MODEL_6d474cbb32094afcb6b0127ae3f9f1c4"
      }
     },
     "391c91d25a7e43f9b0128c5425d1eddf": {
      "model_module": "@jupyter-widgets/base",
      "model_module_version": "1.2.0",
      "model_name": "LayoutModel",
      "state": {
       "display": "none",
       "width": "60px"
      }
     },
     "398fe215caa749199811d40aec7d18e7": {
      "model_module": "@jupyter-widgets/base",
      "model_module_version": "1.2.0",
      "model_name": "LayoutModel",
      "state": {
       "display": "none"
      }
     },
     "3998031c8ae3435ab1777140319c615b": {
      "model_module": "@jupyter-widgets/controls",
      "model_module_version": "1.5.0",
      "model_name": "IntProgressModel",
      "state": {
       "layout": "IPY_MODEL_9436b481837a4c12b6052dd67162d442",
       "style": "IPY_MODEL_9713a70ee6e64245ad696b69f51fe1c5",
       "value": 30
      }
     },
     "39fc71cf20364dcd97ad452ee272f2ce": {
      "model_module": "@jupyter-widgets/controls",
      "model_module_version": "1.5.0",
      "model_name": "ButtonStyleModel",
      "state": {}
     },
     "3a6400a168db4429ad57b5be26caf957": {
      "model_module": "@jupyter-widgets/controls",
      "model_module_version": "1.5.0",
      "model_name": "ButtonStyleModel",
      "state": {}
     },
     "3a650e0154ed4ab097f92b17cfa138b1": {
      "model_module": "@jupyter-widgets/base",
      "model_module_version": "1.2.0",
      "model_name": "LayoutModel",
      "state": {
       "overflow": "visible",
       "width": "100%"
      }
     },
     "3a6ea4cf93304257bc7b9b660eb3206d": {
      "model_module": "@jupyter-widgets/output",
      "model_module_version": "1.0.0",
      "model_name": "OutputModel",
      "state": {
       "layout": "IPY_MODEL_9056f95505784561a4d2997e36b3e0ae",
       "outputs": [
        {
         "data": {
          "application/vnd.jupyter.widget-view+json": {
           "model_id": "8c18a549dc664b8e8d9f509d7d42ba90",
           "version_major": 2,
           "version_minor": 0
          },
          "text/plain": "HBox(children=(VBox(children=(VBox(children=(HTML(value='<b>Activity Options</b>'), Dropdown(layout=Layout(bor…"
         },
         "metadata": {},
         "output_type": "display_data"
        }
       ]
      }
     },
     "3a7a391358804544ab46f1121387448a": {
      "model_module": "@jupyter-widgets/base",
      "model_module_version": "1.2.0",
      "model_name": "LayoutModel",
      "state": {}
     },
     "3aa0ccfb90dd4ada8230802b50894ff2": {
      "model_module": "@jupyter-widgets/base",
      "model_module_version": "1.2.0",
      "model_name": "LayoutModel",
      "state": {
       "order": "-1",
       "overflow": "visible",
       "padding": "1px",
       "width": "0px"
      }
     },
     "3abbda4e994847baa9090f44dc95a131": {
      "model_module": "@jupyter-widgets/controls",
      "model_module_version": "1.5.0",
      "model_name": "IntProgressModel",
      "state": {
       "bar_style": "success",
       "layout": "IPY_MODEL_a73507d429dc48a69e8f443344da1271",
       "max": 1,
       "style": "IPY_MODEL_4e0ec8f1aa9d47969ccfff06f927cd65",
       "value": 1
      }
     },
     "3ae0b12ec7724b3a8e830977711f43f8": {
      "model_module": "@jupyter-widgets/base",
      "model_module_version": "1.2.0",
      "model_name": "LayoutModel",
      "state": {
       "height": "32px",
       "overflow": "visible",
       "width": "100%"
      }
     },
     "3af25c4567ad4ec8849b9840f6b0e535": {
      "model_module": "@jupyter-widgets/controls",
      "model_module_version": "1.5.0",
      "model_name": "VBoxModel",
      "state": {
       "children": [
        "IPY_MODEL_07d18553988f42edbeb47f44e97833bf",
        "IPY_MODEL_043fa70f32c34025a4e8c057981bf360",
        "IPY_MODEL_41f6f9626b8849d395f65cee3ed09052",
        "IPY_MODEL_1df6cbf9dc824f5ebd8a721c8dd310de",
        "IPY_MODEL_af202c22f8864218abca8e88bf590bb0",
        "IPY_MODEL_351e9c74543b4aefb588564324c700dd"
       ],
       "layout": "IPY_MODEL_afd3e4544dac46fa9ec87474acd962aa"
      }
     },
     "3b0393f9fedd49579b50c7db31fc66ba": {
      "model_module": "@jupyter-widgets/base",
      "model_module_version": "1.2.0",
      "model_name": "LayoutModel",
      "state": {
       "order": "-1",
       "overflow": "visible",
       "padding": "1px",
       "width": "0px"
      }
     },
     "3b0d94da900a468cb49253bc86854c9a": {
      "model_module": "@jupyter-widgets/controls",
      "model_module_version": "1.5.0",
      "model_name": "DropdownModel",
      "state": {
       "_options_labels": [
        "All"
       ],
       "index": 0,
       "layout": "IPY_MODEL_40abbe02357f4989a2f596fc4b22b8d9",
       "style": "IPY_MODEL_fb8f6d3aaf3249738a195403b03e83cd"
      }
     },
     "3b44e63d0c0246bc81b971a83a58b685": {
      "model_module": "@jupyter-widgets/controls",
      "model_module_version": "1.5.0",
      "model_name": "ProgressStyleModel",
      "state": {
       "description_width": ""
      }
     },
     "3b48bd136eb04232980af6abe7a6d9a4": {
      "model_module": "@jupyter-widgets/base",
      "model_module_version": "1.2.0",
      "model_name": "LayoutModel",
      "state": {
       "height": "32px",
       "order": "-2",
       "width": "32px"
      }
     },
     "3be64d9e4b7240c8ab7b18a58cdbab34": {
      "model_module": "@jupyter-widgets/controls",
      "model_module_version": "1.5.0",
      "model_name": "ButtonStyleModel",
      "state": {}
     },
     "3c0d2635c9514027b2f80c821e98b673": {
      "model_module": "@jupyter-widgets/base",
      "model_module_version": "1.2.0",
      "model_name": "LayoutModel",
      "state": {
       "overflow": "visible",
       "width": "100%"
      }
     },
     "3c66ba5b3d6547ea820c76400d2379e7": {
      "model_module": "@jupyter-widgets/controls",
      "model_module_version": "1.5.0",
      "model_name": "ProgressStyleModel",
      "state": {
       "description_width": ""
      }
     },
     "3c6c66bd80fa462abb3a978ea9dd0aa4": {
      "model_module": "@jupyter-widgets/controls",
      "model_module_version": "1.5.0",
      "model_name": "ButtonStyleModel",
      "state": {}
     },
     "3c90945c8d104ecb85675e08e0d802f2": {
      "model_module": "@jupyter-widgets/controls",
      "model_module_version": "1.5.0",
      "model_name": "IntProgressModel",
      "state": {
       "bar_style": "success",
       "layout": "IPY_MODEL_11e151d6e72343c89a9f1e05512bb2b9",
       "max": 1,
       "style": "IPY_MODEL_ba972d415dfe4f84925190450de9dfea",
       "value": 1
      }
     },
     "3cab99d0cdc549739f6308fbb055e2a1": {
      "model_module": "@jupyter-widgets/base",
      "model_module_version": "1.2.0",
      "model_name": "LayoutModel",
      "state": {
       "height": "32px",
       "order": "-2",
       "width": "32px"
      }
     },
     "3cf14b6ac7f846e298fc42d6e8ec82dc": {
      "model_module": "@jupyter-widgets/controls",
      "model_module_version": "1.5.0",
      "model_name": "ButtonStyleModel",
      "state": {}
     },
     "3cfd045bc171448aa0bc40c8c78e6548": {
      "model_module": "@jupyter-widgets/controls",
      "model_module_version": "1.5.0",
      "model_name": "DescriptionStyleModel",
      "state": {
       "description_width": ""
      }
     },
     "3d194ef84469441d8ce2b71f0ad397e6": {
      "model_module": "@jupyter-widgets/controls",
      "model_module_version": "1.5.0",
      "model_name": "LabelModel",
      "state": {
       "layout": "IPY_MODEL_7a264dd3905b47bd89eb193955de3349",
       "style": "IPY_MODEL_0a93c09b341c4168a1719d57f54bbbb6",
       "value": "   objective"
      }
     },
     "3d2700f61df44b77907979d98cfdedbb": {
      "model_module": "@jupyter-widgets/base",
      "model_module_version": "1.2.0",
      "model_name": "LayoutModel",
      "state": {
       "display": "flex",
       "flex_flow": "row wrap"
      }
     },
     "3d78297e0feb4ad890a23695c92e3cbc": {
      "model_module": "@jupyter-widgets/controls",
      "model_module_version": "1.5.0",
      "model_name": "DescriptionStyleModel",
      "state": {
       "description_width": ""
      }
     },
     "3d813484d5ed4ebc9060c4cf5773619e": {
      "model_module": "@jupyter-widgets/controls",
      "model_module_version": "1.5.0",
      "model_name": "IntProgressModel",
      "state": {
       "layout": "IPY_MODEL_f19162aca6384a6097acbc51015fe477",
       "style": "IPY_MODEL_9b0789123a9f4a8388117194e68494c4",
       "value": 30
      }
     },
     "3d91fd422c7740a5a9ce0360d7d35925": {
      "model_module": "@jupyter-widgets/base",
      "model_module_version": "1.2.0",
      "model_name": "LayoutModel",
      "state": {
       "overflow": "visible",
       "width": "100%"
      }
     },
     "3d9c95a140a94982b2b12a3d710b465f": {
      "model_module": "@jupyter-widgets/base",
      "model_module_version": "1.2.0",
      "model_name": "LayoutModel",
      "state": {
       "display": "none",
       "width": "60px"
      }
     },
     "3dbf3798ff924c5d995aa719f333cb75": {
      "model_module": "@jupyter-widgets/base",
      "model_module_version": "1.2.0",
      "model_name": "LayoutModel",
      "state": {
       "order": "-1",
       "overflow": "visible",
       "padding": "1px",
       "width": "0px"
      }
     },
     "3e5d7b6bbc444ba49be94d0a84d57871": {
      "model_module": "@jupyter-widgets/controls",
      "model_module_version": "1.5.0",
      "model_name": "ButtonModel",
      "state": {
       "description": "EDIT",
       "layout": "IPY_MODEL_aa466fcc864941b2be1894a54685617d",
       "style": "IPY_MODEL_c687e890ae414a7da3801aa209a68d95"
      }
     },
     "3ea84bb3ff41451ca40c8151e26b0e4c": {
      "model_module": "@jupyter-widgets/controls",
      "model_module_version": "1.5.0",
      "model_name": "VBoxModel",
      "state": {
       "children": [
        "IPY_MODEL_869b031a82ab4a2b827032d36fad3f00",
        "IPY_MODEL_cd802947e3004ad5818f6d3ca4b01560",
        "IPY_MODEL_7eb16511597049d898e77e1ae39c158c",
        "IPY_MODEL_987b09946fb34951b31ae2e7e201926c",
        "IPY_MODEL_6c137f31b62d40e5b1cf03fe693649ee",
        "IPY_MODEL_fce04a09d6414e56a85a83b02ddd0d67"
       ],
       "layout": "IPY_MODEL_420bd69faf1a4c0b8fb362b7831d216e"
      }
     },
     "3ead59e6cded4c5d9cd66d9b6bf8112e": {
      "model_module": "@jupyter-widgets/controls",
      "model_module_version": "1.5.0",
      "model_name": "DescriptionStyleModel",
      "state": {
       "description_width": ""
      }
     },
     "3eccc8183cbb41e28b5fa5d1a261cf47": {
      "model_module": "@jupyter-widgets/base",
      "model_module_version": "1.2.0",
      "model_name": "LayoutModel",
      "state": {
       "display": "none"
      }
     },
     "3efb00e05c5a452eaef5c197a32ee723": {
      "model_module": "@jupyter-widgets/controls",
      "model_module_version": "1.5.0",
      "model_name": "DescriptionStyleModel",
      "state": {
       "description_width": ""
      }
     },
     "3f382902a5274e098b0dd50f2cafecce": {
      "model_module": "@jupyter-widgets/controls",
      "model_module_version": "1.5.0",
      "model_name": "LabelModel",
      "state": {
       "layout": "IPY_MODEL_0ab30945870d4614b364cfe3b6655ca0",
       "style": "IPY_MODEL_4f03b7aafdfd45d984d9de6927cce277",
       "value": "   objective"
      }
     },
     "3f60a63885c94f118861eccda458e9da": {
      "model_module": "@jupyter-widgets/controls",
      "model_module_version": "1.5.0",
      "model_name": "HTMLModel",
      "state": {
       "layout": "IPY_MODEL_6d716d652ce14e24b66cabb072b59b84",
       "style": "IPY_MODEL_a0df7f15f5fb4cb9980ca4c5b3c30883",
       "value": "<font size=\"1\">Triumphs/Crucible/Lifetime/Glory Ranks/Become Legend</font size=>"
      }
     },
     "3f809a0aec1442819f31616dfe45adee": {
      "model_module": "@jupyter-widgets/controls",
      "model_module_version": "1.5.0",
      "model_name": "ButtonStyleModel",
      "state": {}
     },
     "3f9cfd5bacbc4290b1b42bf89de0ca7f": {
      "model_module": "@jupyter-widgets/controls",
      "model_module_version": "1.5.0",
      "model_name": "ButtonStyleModel",
      "state": {}
     },
     "3fb6a60b47994d5aafe17db1b9066497": {
      "model_module": "@jupyter-widgets/controls",
      "model_module_version": "1.5.0",
      "model_name": "DescriptionStyleModel",
      "state": {
       "description_width": ""
      }
     },
     "3fbf088f37034a6c950fadad4249e4e0": {
      "model_module": "@jupyter-widgets/controls",
      "model_module_version": "1.5.0",
      "model_name": "ButtonModel",
      "state": {
       "layout": "IPY_MODEL_508eeb2a0f50424ab273380959243c2f",
       "style": "IPY_MODEL_91e65b0f7dfc40c3b316e66c42bb1753"
      }
     },
     "3ff99c4bf39c4adf98ff71cf85c12998": {
      "model_module": "@jupyter-widgets/controls",
      "model_module_version": "1.5.0",
      "model_name": "ButtonModel",
      "state": {
       "description": "EDIT",
       "layout": "IPY_MODEL_0c4aec670dca4dae9f7d357546ea336d",
       "style": "IPY_MODEL_cc32d24198c340ec8e4fb1db0c756ef5"
      }
     },
     "4006dae2b36246be87c17422ea39e6de": {
      "model_module": "@jupyter-widgets/controls",
      "model_module_version": "1.5.0",
      "model_name": "HTMLModel",
      "state": {
       "layout": "IPY_MODEL_33afce41ab64422983ddfb0b28632f6d",
       "style": "IPY_MODEL_b351030679564989b78559f87a88f9a5",
       "value": "<b>Gear Options</b>"
      }
     },
     "400aa117dd014f5fa1eed148d2525e1c": {
      "model_module": "@jupyter-widgets/controls",
      "model_module_version": "1.5.0",
      "model_name": "ButtonModel",
      "state": {
       "description": "EDIT",
       "layout": "IPY_MODEL_d341a1004fc4473f915cc7c58c27be76",
       "style": "IPY_MODEL_dc0be6a9a51d4d62a18b2d510335235b"
      }
     },
     "4087309f950147cf8ec9203fd66ce07f": {
      "model_module": "@jupyter-widgets/base",
      "model_module_version": "1.2.0",
      "model_name": "LayoutModel",
      "state": {
       "display": "none"
      }
     },
     "40960ff377174ad794c7a3fc5533340a": {
      "model_module": "@jupyter-widgets/base",
      "model_module_version": "1.2.0",
      "model_name": "LayoutModel",
      "state": {
       "display": "flex",
       "width": "60px"
      }
     },
     "40abbe02357f4989a2f596fc4b22b8d9": {
      "model_module": "@jupyter-widgets/base",
      "model_module_version": "1.2.0",
      "model_name": "LayoutModel",
      "state": {
       "display": "none",
       "width": "95%"
      }
     },
     "40c52100f6eb419ea132f95857e0cc39": {
      "model_module": "@jupyter-widgets/controls",
      "model_module_version": "1.5.0",
      "model_name": "ButtonStyleModel",
      "state": {}
     },
     "40f33077b5194bf198cb29d147252a27": {
      "model_module": "@jupyter-widgets/controls",
      "model_module_version": "1.5.0",
      "model_name": "ProgressStyleModel",
      "state": {
       "description_width": ""
      }
     },
     "410c19ab83c94d72b6e45b94db406814": {
      "model_module": "@jupyter-widgets/controls",
      "model_module_version": "1.5.0",
      "model_name": "ButtonStyleModel",
      "state": {}
     },
     "415b05084535456bb4cb924bc426a32f": {
      "model_module": "@jupyter-widgets/base",
      "model_module_version": "1.2.0",
      "model_name": "LayoutModel",
      "state": {
       "height": "32px",
       "overflow": "visible",
       "width": "100%"
      }
     },
     "4164f31d417b45e2a5c2a4316e8d76d9": {
      "model_module": "@jupyter-widgets/controls",
      "model_module_version": "1.5.0",
      "model_name": "IntProgressModel",
      "state": {
       "layout": "IPY_MODEL_fea19858bb4c4a67b7bbde5211fde559",
       "style": "IPY_MODEL_44a9f37e36084742bfce8eaadf4dc39c",
       "value": 30
      }
     },
     "4170347aed8a4fe5bb57fc4e45434257": {
      "model_module": "@jupyter-widgets/base",
      "model_module_version": "1.2.0",
      "model_name": "LayoutModel",
      "state": {
       "display": "none",
       "width": "60px"
      }
     },
     "41759a8a18bc403e96d34c10ddaa5525": {
      "model_module": "@jupyter-widgets/base",
      "model_module_version": "1.2.0",
      "model_name": "LayoutModel",
      "state": {
       "order": "-1",
       "overflow": "visible",
       "padding": "1px",
       "width": "0px"
      }
     },
     "418a25fde6eb4a4384c629af4ab34c09": {
      "model_module": "@jupyter-widgets/base",
      "model_module_version": "1.2.0",
      "model_name": "LayoutModel",
      "state": {
       "display": "none",
       "width": "60px"
      }
     },
     "41d32d6cde8547ec8b193ea2fb7b4eac": {
      "model_module": "@jupyter-widgets/base",
      "model_module_version": "1.2.0",
      "model_name": "LayoutModel",
      "state": {
       "height": "32px",
       "order": "-2",
       "width": "32px"
      }
     },
     "41e4d6c7aa1b48408a3fe2d2e41eb358": {
      "model_module": "@jupyter-widgets/controls",
      "model_module_version": "1.5.0",
      "model_name": "ButtonStyleModel",
      "state": {}
     },
     "41f6f9626b8849d395f65cee3ed09052": {
      "model_module": "@jupyter-widgets/controls",
      "model_module_version": "1.5.0",
      "model_name": "HBoxModel",
      "state": {
       "children": [
        "IPY_MODEL_59abcd10cf3943aeaab01277264c5828",
        "IPY_MODEL_9131cd79be1a4d6d971375b4f612a756",
        "IPY_MODEL_d3187bb8f7a444f39d747a1c41014ac8",
        "IPY_MODEL_18d4bb076de04d3e9cf26a352de98501"
       ],
       "layout": "IPY_MODEL_f37e1acb7f384dff97f05cc20ff82b47"
      }
     },
     "420bd69faf1a4c0b8fb362b7831d216e": {
      "model_module": "@jupyter-widgets/base",
      "model_module_version": "1.2.0",
      "model_name": "LayoutModel",
      "state": {}
     },
     "42145cfdc5e64a35ad2e770aceb17cb8": {
      "model_module": "@jupyter-widgets/base",
      "model_module_version": "1.2.0",
      "model_name": "LayoutModel",
      "state": {
       "height": "32px",
       "overflow": "visible",
       "width": "100%"
      }
     },
     "42749c97ad754541bd2c86324515f44c": {
      "model_module": "@jupyter-widgets/base",
      "model_module_version": "1.2.0",
      "model_name": "LayoutModel",
      "state": {
       "height": "32px",
       "overflow": "visible",
       "width": "100%"
      }
     },
     "4285043e72934f81accbcee90c4d7f4a": {
      "model_module": "@jupyter-widgets/base",
      "model_module_version": "1.2.0",
      "model_name": "LayoutModel",
      "state": {
       "overflow": "visible",
       "width": "100%"
      }
     },
     "428f511d8ee5426ba996338cf9a6717b": {
      "model_module": "@jupyter-widgets/base",
      "model_module_version": "1.2.0",
      "model_name": "LayoutModel",
      "state": {
       "height": "32px",
       "order": "-2",
       "width": "32px"
      }
     },
     "42cf93564a7e4df38774f6397e5e28e3": {
      "model_module": "@jupyter-widgets/controls",
      "model_module_version": "1.5.0",
      "model_name": "ButtonStyleModel",
      "state": {}
     },
     "42e5250c6ee44fe5a063fb161b3cd15a": {
      "model_module": "@jupyter-widgets/controls",
      "model_module_version": "1.5.0",
      "model_name": "ButtonModel",
      "state": {
       "description": "EDIT",
       "layout": "IPY_MODEL_8584d7c7385a44cbb0d98e77a9d4a297",
       "style": "IPY_MODEL_2c20b49227464ced918305ddc9720bba"
      }
     },
     "42fd2a6fa7a34fc8a5f116363dc550ff": {
      "model_module": "@jupyter-widgets/controls",
      "model_module_version": "1.5.0",
      "model_name": "HBoxModel",
      "state": {
       "children": [
        "IPY_MODEL_6ff050e4a7d641208a308da1803e2e32",
        "IPY_MODEL_fba6ced4293c4b2399eb1a2277a961ae",
        "IPY_MODEL_6934d3bdfa1d475093ad3278b07a3f69",
        "IPY_MODEL_89824aa1d59b4ac9ad46f3ede46e385a"
       ],
       "layout": "IPY_MODEL_6a71ace3c1ec4281881b5121c9f12602"
      }
     },
     "430ca9e446c44628ae6ddd06f9e77537": {
      "model_module": "@jupyter-widgets/base",
      "model_module_version": "1.2.0",
      "model_name": "LayoutModel",
      "state": {
       "height": "32px",
       "overflow": "visible",
       "width": "100%"
      }
     },
     "433df576d1bb44a9b7b370e0e61d799b": {
      "model_module": "@jupyter-widgets/base",
      "model_module_version": "1.2.0",
      "model_name": "LayoutModel",
      "state": {}
     },
     "43a1e6bdee094a479bdd0ffc574fd7f3": {
      "model_module": "@jupyter-widgets/controls",
      "model_module_version": "1.5.0",
      "model_name": "ButtonModel",
      "state": {
       "description": "EDIT",
       "layout": "IPY_MODEL_a00dc8d3e2cd4da2bd6fd9a0e0030b80",
       "style": "IPY_MODEL_9764120645044f4cb2ce1306af16b7c1"
      }
     },
     "43a36970f0f64d08b067d9b69582c05c": {
      "model_module": "@jupyter-widgets/base",
      "model_module_version": "1.2.0",
      "model_name": "LayoutModel",
      "state": {
       "border": "3px solid white",
       "display": "flex",
       "flex": "1 1 0%",
       "margin": "10px",
       "min_width": "400px",
       "overflow": "visible",
       "padding": "10px",
       "width": "auto"
      }
     },
     "43b2a7e399d24162a418a8015044ec5a": {
      "model_module": "@jupyter-widgets/controls",
      "model_module_version": "1.5.0",
      "model_name": "DescriptionStyleModel",
      "state": {
       "description_width": ""
      }
     },
     "43bdb7cf291c4c6ab48ded3cb29ad2bb": {
      "model_module": "@jupyter-widgets/base",
      "model_module_version": "1.2.0",
      "model_name": "LayoutModel",
      "state": {}
     },
     "4457aeb27ad94c02b843724eebd7b221": {
      "model_module": "@jupyter-widgets/controls",
      "model_module_version": "1.5.0",
      "model_name": "IntProgressModel",
      "state": {
       "layout": "IPY_MODEL_4692b43836b540d19a7dd0ef448d6a93",
       "style": "IPY_MODEL_33a99cd4a4234724b2c3e91317c5b50c",
       "value": 30
      }
     },
     "44a9f37e36084742bfce8eaadf4dc39c": {
      "model_module": "@jupyter-widgets/controls",
      "model_module_version": "1.5.0",
      "model_name": "ProgressStyleModel",
      "state": {
       "description_width": ""
      }
     },
     "44ce57e4cdd14ac0bf36639b512c7b3e": {
      "model_module": "@jupyter-widgets/base",
      "model_module_version": "1.2.0",
      "model_name": "LayoutModel",
      "state": {
       "overflow": "visible",
       "width": "100%"
      }
     },
     "4507911ff57149a4ba30bf2178cb1d89": {
      "model_module": "@jupyter-widgets/controls",
      "model_module_version": "1.5.0",
      "model_name": "ButtonModel",
      "state": {
       "layout": "IPY_MODEL_7a9305cd86cc458fb7bdd16572184ba7",
       "style": "IPY_MODEL_a4a1d51f7e6340fab356ab07f39da015"
      }
     },
     "4531605ced8e4fe086e78e77f1116dd3": {
      "model_module": "@jupyter-widgets/controls",
      "model_module_version": "1.5.0",
      "model_name": "IntProgressModel",
      "state": {
       "layout": "IPY_MODEL_42749c97ad754541bd2c86324515f44c",
       "style": "IPY_MODEL_545417b28d8c45d79b2f3097f0794392",
       "value": 30
      }
     },
     "4532be441e2149a6b88cb2406899ef61": {
      "model_module": "@jupyter-widgets/controls",
      "model_module_version": "1.5.0",
      "model_name": "ButtonStyleModel",
      "state": {}
     },
     "453dd19311704034ba699cc3230b7a7c": {
      "model_module": "@jupyter-widgets/base",
      "model_module_version": "1.2.0",
      "model_name": "LayoutModel",
      "state": {
       "height": "32px",
       "overflow": "visible",
       "width": "100%"
      }
     },
     "457d8941b8034fe0bd6784dd3389f41f": {
      "model_module": "@jupyter-widgets/controls",
      "model_module_version": "1.5.0",
      "model_name": "ButtonModel",
      "state": {
       "layout": "IPY_MODEL_2efb12b6e9004ddb883ab9a14d4918ea",
       "style": "IPY_MODEL_a78e8b7dacc540f4b23e9088a36b9a0d"
      }
     },
     "45aab347aea6462eb8277fecb7e78351": {
      "model_module": "@jupyter-widgets/controls",
      "model_module_version": "1.5.0",
      "model_name": "DropdownModel",
      "state": {
       "_options_labels": [
        "Any",
        "Arc",
        "Solar",
        "Void"
       ],
       "index": 0,
       "layout": "IPY_MODEL_784aff25cdc347d888d61dc2bd10db0e",
       "style": "IPY_MODEL_b01a176ad57d43ee988839d617c20bde"
      }
     },
     "45d0d87e3d9848c39844d1bbede26807": {
      "model_module": "@jupyter-widgets/controls",
      "model_module_version": "1.5.0",
      "model_name": "HBoxModel",
      "state": {
       "children": [
        "IPY_MODEL_e4aa48378ca2462b88bfc4b1dd160dc3",
        "IPY_MODEL_3998031c8ae3435ab1777140319c615b",
        "IPY_MODEL_e578b33eff7747d5a802f2ccf2bf9b3c",
        "IPY_MODEL_6acfcd94289d42a5898b5122874fa3c3"
       ],
       "layout": "IPY_MODEL_01c1d992720940c1ab9cb48b5d13531f"
      }
     },
     "45f34cfade324c79aeea1d514119a98e": {
      "model_module": "@jupyter-widgets/base",
      "model_module_version": "1.2.0",
      "model_name": "LayoutModel",
      "state": {
       "display": "none",
       "width": "60px"
      }
     },
     "464783d9382c4ecca90eb2de6acc917a": {
      "model_module": "@jupyter-widgets/base",
      "model_module_version": "1.2.0",
      "model_name": "LayoutModel",
      "state": {
       "order": "-1",
       "overflow": "visible",
       "padding": "1px",
       "width": "0px"
      }
     },
     "4658ee9afeaf4784aac6bb13c5307224": {
      "model_module": "@jupyter-widgets/controls",
      "model_module_version": "1.5.0",
      "model_name": "HBoxModel",
      "state": {
       "children": [
        "IPY_MODEL_180156b9efff4237ba7929e4999829f0",
        "IPY_MODEL_3c90945c8d104ecb85675e08e0d802f2",
        "IPY_MODEL_ae345476fe6c407899b21d8ea39f4e16",
        "IPY_MODEL_232845c513814bb38accbd8c4c090e2f"
       ],
       "layout": "IPY_MODEL_a640d37a8c844a6e9674422f15df401c"
      }
     },
     "465ef214fb064777ab7c4ddc96d60bcc": {
      "model_module": "@jupyter-widgets/base",
      "model_module_version": "1.2.0",
      "model_name": "LayoutModel",
      "state": {
       "overflow": "visible",
       "width": "100%"
      }
     },
     "466d97652b4f4096963741077155dca0": {
      "model_module": "@jupyter-widgets/base",
      "model_module_version": "1.2.0",
      "model_name": "LayoutModel",
      "state": {
       "order": "-1",
       "overflow": "visible",
       "padding": "1px",
       "width": "0px"
      }
     },
     "4679f692b97540cd9f2802e650e942cc": {
      "model_module": "@jupyter-widgets/base",
      "model_module_version": "1.2.0",
      "model_name": "LayoutModel",
      "state": {
       "overflow": "visible",
       "width": "100%"
      }
     },
     "4692b43836b540d19a7dd0ef448d6a93": {
      "model_module": "@jupyter-widgets/base",
      "model_module_version": "1.2.0",
      "model_name": "LayoutModel",
      "state": {
       "height": "32px",
       "overflow": "visible",
       "width": "100%"
      }
     },
     "46f03987000b4ef9bd477ac608e192db": {
      "model_module": "@jupyter-widgets/controls",
      "model_module_version": "1.5.0",
      "model_name": "HTMLModel",
      "state": {
       "layout": "IPY_MODEL_4679f692b97540cd9f2802e650e942cc",
       "style": "IPY_MODEL_23c3dbda7495469889c9e348307145e2",
       "value": "<font size=\"5\"><b>The Nine</b></font size=>"
      }
     },
     "476e0c2069514f5f9e057dd1a937ea32": {
      "model_module": "@jupyter-widgets/base",
      "model_module_version": "1.2.0",
      "model_name": "LayoutModel",
      "state": {
       "height": "32px",
       "overflow": "visible",
       "width": "100%"
      }
     },
     "478d0f7dd78b41d3bd97bfb91866ed3f": {
      "model_module": "@jupyter-widgets/controls",
      "model_module_version": "1.5.0",
      "model_name": "LabelModel",
      "state": {
       "layout": "IPY_MODEL_a6e5b61c49cc4bcb854d2722ce483d6f",
       "style": "IPY_MODEL_c7b43877c67d4f63be793de593108ad7",
       "value": "    My Bowfriend's Back (3/1)"
      }
     },
     "47b60b499193467e9e574419502853ce": {
      "model_module": "@jupyter-widgets/base",
      "model_module_version": "1.2.0",
      "model_name": "LayoutModel",
      "state": {
       "display": "none"
      }
     },
     "47dd90cf209d4c2c839a32b665033dae": {
      "model_module": "@jupyter-widgets/controls",
      "model_module_version": "1.5.0",
      "model_name": "ProgressStyleModel",
      "state": {
       "description_width": ""
      }
     },
     "48048cc4b48a4ad99174d6c95bb0e55a": {
      "model_module": "@jupyter-widgets/controls",
      "model_module_version": "1.5.0",
      "model_name": "HBoxModel",
      "state": {
       "children": [
        "IPY_MODEL_9104348e696f4000965826ddbe81ae7f",
        "IPY_MODEL_db49d59684024585b057c5e416adc8f3",
        "IPY_MODEL_fac04de134fe4b47b73a98599be3d185",
        "IPY_MODEL_8de064919eac419396aef7e133467551"
       ],
       "layout": "IPY_MODEL_8dba03b82dd04bf1ba7c9add3dd99c80"
      }
     },
     "4817b26087b64280acda0371f3195c7d": {
      "model_module": "@jupyter-widgets/base",
      "model_module_version": "1.2.0",
      "model_name": "LayoutModel",
      "state": {}
     },
     "4824ef4f70e04fe38ca07a833c8012d5": {
      "model_module": "@jupyter-widgets/base",
      "model_module_version": "1.2.0",
      "model_name": "LayoutModel",
      "state": {
       "height": "32px",
       "order": "-2",
       "width": "32px"
      }
     },
     "4839e1a3310e4944a74387812a67382d": {
      "model_module": "@jupyter-widgets/base",
      "model_module_version": "1.2.0",
      "model_name": "LayoutModel",
      "state": {
       "display": "none"
      }
     },
     "48827af4c80542f6b4cfdfa7fbc090f1": {
      "model_module": "@jupyter-widgets/controls",
      "model_module_version": "1.5.0",
      "model_name": "LabelModel",
      "state": {
       "layout": "IPY_MODEL_466d97652b4f4096963741077155dca0",
       "style": "IPY_MODEL_9591cbff45bf4b5395591a08491ea0ba",
       "value": "   objective"
      }
     },
     "48e1527d72594c93b86e20f0b7790058": {
      "model_module": "@jupyter-widgets/base",
      "model_module_version": "1.2.0",
      "model_name": "LayoutModel",
      "state": {
       "display": "none",
       "width": "60px"
      }
     },
     "48e82ac7363347c39feb05c55e6f4af5": {
      "model_module": "@jupyter-widgets/controls",
      "model_module_version": "1.5.0",
      "model_name": "ButtonStyleModel",
      "state": {}
     },
     "49350d4d9209428b91c1102df990852a": {
      "model_module": "@jupyter-widgets/controls",
      "model_module_version": "1.5.0",
      "model_name": "ButtonStyleModel",
      "state": {}
     },
     "4969858e10a943d7a22a0155633f1d7d": {
      "model_module": "@jupyter-widgets/controls",
      "model_module_version": "1.5.0",
      "model_name": "ButtonStyleModel",
      "state": {}
     },
     "496ed330366447cea3405dd6fa809f23": {
      "model_module": "@jupyter-widgets/controls",
      "model_module_version": "1.5.0",
      "model_name": "ProgressStyleModel",
      "state": {
       "description_width": ""
      }
     },
     "49719611f33747bca2dec7bcfc3dcc05": {
      "model_module": "@jupyter-widgets/base",
      "model_module_version": "1.2.0",
      "model_name": "LayoutModel",
      "state": {}
     },
     "498cd0144974475eafbb672ab6e97196": {
      "model_module": "@jupyter-widgets/base",
      "model_module_version": "1.2.0",
      "model_name": "LayoutModel",
      "state": {}
     },
     "49b563c5171a48eab1baf1fb4bd3f951": {
      "model_module": "@jupyter-widgets/controls",
      "model_module_version": "1.5.0",
      "model_name": "DescriptionStyleModel",
      "state": {
       "description_width": ""
      }
     },
     "49bb578a43374ffdb7959ca9f53d83d0": {
      "model_module": "@jupyter-widgets/controls",
      "model_module_version": "1.5.0",
      "model_name": "DescriptionStyleModel",
      "state": {
       "description_width": ""
      }
     },
     "4a2b39586c9a4dcd925c647bd2c64b30": {
      "model_module": "@jupyter-widgets/base",
      "model_module_version": "1.2.0",
      "model_name": "LayoutModel",
      "state": {
       "order": "-1",
       "overflow": "visible",
       "padding": "1px",
       "width": "0px"
      }
     },
     "4a366051a53c4112b7d268f079079cb0": {
      "model_module": "@jupyter-widgets/controls",
      "model_module_version": "1.5.0",
      "model_name": "ProgressStyleModel",
      "state": {
       "description_width": ""
      }
     },
     "4aebbbdf2f944622bd26deb2dd611ccf": {
      "model_module": "@jupyter-widgets/controls",
      "model_module_version": "1.5.0",
      "model_name": "ProgressStyleModel",
      "state": {
       "description_width": ""
      }
     },
     "4af6fa2904f6483e9ccbd4027b5b0230": {
      "model_module": "@jupyter-widgets/base",
      "model_module_version": "1.2.0",
      "model_name": "LayoutModel",
      "state": {
       "height": "32px",
       "overflow": "visible",
       "width": "100%"
      }
     },
     "4c0ac2e2984c4af1bf4a9a60752bb3c9": {
      "model_module": "@jupyter-widgets/base",
      "model_module_version": "1.2.0",
      "model_name": "LayoutModel",
      "state": {
       "order": "-1",
       "overflow": "visible",
       "padding": "1px",
       "width": "0px"
      }
     },
     "4c81cfca32a04169bd8c4f20c12817f8": {
      "model_module": "@jupyter-widgets/controls",
      "model_module_version": "1.5.0",
      "model_name": "ButtonStyleModel",
      "state": {}
     },
     "4c917c15ee17470c84a5df740400190b": {
      "model_module": "@jupyter-widgets/base",
      "model_module_version": "1.2.0",
      "model_name": "LayoutModel",
      "state": {
       "height": "32px",
       "overflow": "visible",
       "width": "100%"
      }
     },
     "4c9cf21b768643759bc5c0e5ef2f0cbc": {
      "model_module": "@jupyter-widgets/controls",
      "model_module_version": "1.5.0",
      "model_name": "FloatProgressModel",
      "state": {
       "description": "Loading:",
       "layout": "IPY_MODEL_8550b583d987462cacbe8cae20d5ec68",
       "max": 110,
       "style": "IPY_MODEL_83a1c6d25ec243acb6e880f891d51d8c",
       "value": 108.99999999999986
      }
     },
     "4cc27008faf8469d87a71f139a54364d": {
      "model_module": "@jupyter-widgets/base",
      "model_module_version": "1.2.0",
      "model_name": "LayoutModel",
      "state": {}
     },
     "4cc722b1222d422aaabfc2e873cb80e3": {
      "model_module": "@jupyter-widgets/base",
      "model_module_version": "1.2.0",
      "model_name": "LayoutModel",
      "state": {
       "order": "-1",
       "overflow": "visible",
       "padding": "1px",
       "width": "0px"
      }
     },
     "4cdd25e27a2247f0a9a87f5c11639645": {
      "model_module": "@jupyter-widgets/base",
      "model_module_version": "1.2.0",
      "model_name": "LayoutModel",
      "state": {
       "height": "32px",
       "overflow": "visible",
       "width": "100%"
      }
     },
     "4ce93707436f4f9d8e3d101d272155b2": {
      "model_module": "@jupyter-widgets/base",
      "model_module_version": "1.2.0",
      "model_name": "LayoutModel",
      "state": {
       "display": "flex",
       "width": "60px"
      }
     },
     "4d0809752ba3472f918c18a1d704c16a": {
      "model_module": "@jupyter-widgets/controls",
      "model_module_version": "1.5.0",
      "model_name": "ButtonModel",
      "state": {
       "layout": "IPY_MODEL_41d32d6cde8547ec8b193ea2fb7b4eac",
       "style": "IPY_MODEL_c3492426f37d43b787e0ea8cd2bc801a"
      }
     },
     "4d850679216b4db1b06e3ee3bcfd5e22": {
      "model_module": "@jupyter-widgets/controls",
      "model_module_version": "1.5.0",
      "model_name": "DescriptionStyleModel",
      "state": {
       "description_width": ""
      }
     },
     "4d8d0f9d7fb24609a704abf1ab12e610": {
      "model_module": "@jupyter-widgets/controls",
      "model_module_version": "1.5.0",
      "model_name": "DescriptionStyleModel",
      "state": {
       "description_width": ""
      }
     },
     "4dac43b294ca420f8db32878f8e1f8ed": {
      "model_module": "@jupyter-widgets/base",
      "model_module_version": "1.2.0",
      "model_name": "LayoutModel",
      "state": {
       "order": "-1",
       "overflow": "visible",
       "padding": "1px",
       "width": "0px"
      }
     },
     "4dfb287e277e45ceb033794cdd103674": {
      "model_module": "@jupyter-widgets/base",
      "model_module_version": "1.2.0",
      "model_name": "LayoutModel",
      "state": {
       "overflow": "visible",
       "width": "100%"
      }
     },
     "4e0ec8f1aa9d47969ccfff06f927cd65": {
      "model_module": "@jupyter-widgets/controls",
      "model_module_version": "1.5.0",
      "model_name": "ProgressStyleModel",
      "state": {
       "description_width": ""
      }
     },
     "4e15e965f5e84e8e82c1a1880306a167": {
      "model_module": "@jupyter-widgets/controls",
      "model_module_version": "1.5.0",
      "model_name": "LabelModel",
      "state": {
       "layout": "IPY_MODEL_4cc722b1222d422aaabfc2e873cb80e3",
       "style": "IPY_MODEL_e8e67ed93bc64898a242fe0812af4a23",
       "value": "   objective"
      }
     },
     "4e27c84a028240daa0bf6063dab2ddf6": {
      "model_module": "@jupyter-widgets/controls",
      "model_module_version": "1.5.0",
      "model_name": "ProgressStyleModel",
      "state": {
       "description_width": ""
      }
     },
     "4e78ca27edfc47d392849ea004a0736d": {
      "model_module": "@jupyter-widgets/base",
      "model_module_version": "1.2.0",
      "model_name": "LayoutModel",
      "state": {
       "height": "32px",
       "overflow": "visible",
       "width": "100%"
      }
     },
     "4e80967105b744b79b66bc8c6b88202f": {
      "model_module": "@jupyter-widgets/controls",
      "model_module_version": "1.5.0",
      "model_name": "ProgressStyleModel",
      "state": {
       "description_width": ""
      }
     },
     "4ec0840a1bc44efeb738a94058f48502": {
      "model_module": "@jupyter-widgets/controls",
      "model_module_version": "1.5.0",
      "model_name": "ButtonStyleModel",
      "state": {}
     },
     "4eca016121904111939e1aa89ed7d836": {
      "model_module": "@jupyter-widgets/controls",
      "model_module_version": "1.5.0",
      "model_name": "ButtonModel",
      "state": {
       "layout": "IPY_MODEL_428f511d8ee5426ba996338cf9a6717b",
       "style": "IPY_MODEL_6902d99c6df547b0a7ff6f1bcea8079e"
      }
     },
     "4f000aa05c4646448e6a8778969dea1b": {
      "model_module": "@jupyter-widgets/controls",
      "model_module_version": "1.5.0",
      "model_name": "HBoxModel",
      "state": {
       "children": [
        "IPY_MODEL_523f25cb1a324e3188c509013e22b575",
        "IPY_MODEL_ce5adba196694a13bf89b2361a2547cb",
        "IPY_MODEL_77415092334b45168e9861751d5ad943",
        "IPY_MODEL_7857993a70a14e2da8f3bef3b75f8279"
       ],
       "layout": "IPY_MODEL_ebb3d31ac8d4402f986d4167e7ab9b01"
      }
     },
     "4f03b7aafdfd45d984d9de6927cce277": {
      "model_module": "@jupyter-widgets/controls",
      "model_module_version": "1.5.0",
      "model_name": "DescriptionStyleModel",
      "state": {
       "description_width": ""
      }
     },
     "4f073360dafb4b04a1450391a8f52f49": {
      "model_module": "@jupyter-widgets/controls",
      "model_module_version": "1.5.0",
      "model_name": "HBoxModel",
      "state": {
       "children": [
        "IPY_MODEL_332d4bbf8bf9425db1af159ff308d6f1",
        "IPY_MODEL_1e531893ee904b9fa141b2630d980e52",
        "IPY_MODEL_e89fdae66a4b413595d85e4312b406cc",
        "IPY_MODEL_801a4d7afb6b48c88b41d5c9a2debade"
       ],
       "layout": "IPY_MODEL_4839e1a3310e4944a74387812a67382d"
      }
     },
     "4f3c913bbbc84e808dcbd2c5c8f44f28": {
      "model_module": "@jupyter-widgets/controls",
      "model_module_version": "1.5.0",
      "model_name": "HBoxModel",
      "state": {
       "children": [
        "IPY_MODEL_8e21f1a70db24321b03a52afaa2acac9",
        "IPY_MODEL_318366f9fa35451ea655e686029113d5",
        "IPY_MODEL_6b3a73ddcdee4ab4838d000c570a671a",
        "IPY_MODEL_062034028b714dd58f3ce362a3802090"
       ],
       "layout": "IPY_MODEL_383c1294940e4aef821fa608a7538078"
      }
     },
     "4f4d9a29966e4d779e48c44f66a57f7f": {
      "model_module": "@jupyter-widgets/controls",
      "model_module_version": "1.5.0",
      "model_name": "ButtonStyleModel",
      "state": {}
     },
     "4f5829b462154867b82a7e0c90175328": {
      "model_module": "@jupyter-widgets/base",
      "model_module_version": "1.2.0",
      "model_name": "LayoutModel",
      "state": {
       "height": "32px",
       "order": "-2",
       "width": "32px"
      }
     },
     "4f5c75e30c6e40cb896e0934346b8f5b": {
      "model_module": "@jupyter-widgets/controls",
      "model_module_version": "1.5.0",
      "model_name": "DescriptionStyleModel",
      "state": {
       "description_width": ""
      }
     },
     "4faa7bcf301a4928b75534b6081fe7c7": {
      "model_module": "@jupyter-widgets/controls",
      "model_module_version": "1.5.0",
      "model_name": "LabelModel",
      "state": {
       "layout": "IPY_MODEL_2487199ce1154ee3afdfaf982f17bdbe",
       "style": "IPY_MODEL_24eb433318cf4d078c634b508b63ab48",
       "value": "     (1/1)"
      }
     },
     "4fe3c929977e4100989a856f4b66d67f": {
      "model_module": "@jupyter-widgets/controls",
      "model_module_version": "1.5.0",
      "model_name": "ButtonStyleModel",
      "state": {}
     },
     "50090e2c1c7a43f5b1a288f44571419d": {
      "model_module": "@jupyter-widgets/controls",
      "model_module_version": "1.5.0",
      "model_name": "ButtonModel",
      "state": {
       "description": "EDIT",
       "layout": "IPY_MODEL_cb23663ae2c544d79a4e54d045430175",
       "style": "IPY_MODEL_fad56ae262c54749b71c0b305ddc25a2"
      }
     },
     "50282d050a38492d942ba0bb89c98ba8": {
      "model_module": "@jupyter-widgets/controls",
      "model_module_version": "1.5.0",
      "model_name": "IntProgressModel",
      "state": {
       "layout": "IPY_MODEL_415b05084535456bb4cb924bc426a32f",
       "style": "IPY_MODEL_772f9c502bb44c4cba13406042331b0c",
       "value": 30
      }
     },
     "506498ab764d4aafa03f7d33b9979be8": {
      "model_module": "@jupyter-widgets/base",
      "model_module_version": "1.2.0",
      "model_name": "LayoutModel",
      "state": {
       "height": "32px",
       "order": "-2",
       "width": "32px"
      }
     },
     "506aec838cbe45d7beb1383f30029f1e": {
      "model_module": "@jupyter-widgets/base",
      "model_module_version": "1.2.0",
      "model_name": "LayoutModel",
      "state": {
       "display": "flex",
       "flex_flow": "row wrap"
      }
     },
     "508eeb2a0f50424ab273380959243c2f": {
      "model_module": "@jupyter-widgets/base",
      "model_module_version": "1.2.0",
      "model_name": "LayoutModel",
      "state": {
       "height": "32px",
       "order": "-2",
       "width": "32px"
      }
     },
     "50924bdce495447b9b2f70c48de948b3": {
      "model_module": "@jupyter-widgets/controls",
      "model_module_version": "1.5.0",
      "model_name": "IntProgressModel",
      "state": {
       "layout": "IPY_MODEL_3ae0b12ec7724b3a8e830977711f43f8",
       "style": "IPY_MODEL_d87d8644881b451884f49dd7a27d28b6",
       "value": 30
      }
     },
     "50a40da2bd1b4f24bd04913b7a0dc0a7": {
      "model_module": "@jupyter-widgets/base",
      "model_module_version": "1.2.0",
      "model_name": "LayoutModel",
      "state": {
       "display": "none"
      }
     },
     "51208521a4974d7a9a17a63e37740984": {
      "model_module": "@jupyter-widgets/controls",
      "model_module_version": "1.5.0",
      "model_name": "DescriptionStyleModel",
      "state": {
       "description_width": ""
      }
     },
     "513021f59458499baa8e3d0fe88fdebc": {
      "model_module": "@jupyter-widgets/controls",
      "model_module_version": "1.5.0",
      "model_name": "ButtonStyleModel",
      "state": {}
     },
     "51d505c0fc274539b2f514314f338bce": {
      "model_module": "@jupyter-widgets/base",
      "model_module_version": "1.2.0",
      "model_name": "LayoutModel",
      "state": {
       "order": "-1",
       "overflow": "visible",
       "padding": "1px",
       "width": "0px"
      }
     },
     "520f97b3b55d46f0b6d09bc55aa9c964": {
      "model_module": "@jupyter-widgets/controls",
      "model_module_version": "1.5.0",
      "model_name": "IntProgressModel",
      "state": {
       "layout": "IPY_MODEL_fcbfa52b2b0b479e96662cb0aacefd40",
       "style": "IPY_MODEL_d554706169024619910bef9771393709",
       "value": 30
      }
     },
     "523f25cb1a324e3188c509013e22b575": {
      "model_module": "@jupyter-widgets/controls",
      "model_module_version": "1.5.0",
      "model_name": "ButtonModel",
      "state": {
       "layout": "IPY_MODEL_6eb1dfce8e1145c28d792f9705850559",
       "style": "IPY_MODEL_b255d5a9dee040049143e36a9d1b6660"
      }
     },
     "5248f4d20d304cb7bee7e64329ab55c2": {
      "model_module": "@jupyter-widgets/base",
      "model_module_version": "1.2.0",
      "model_name": "LayoutModel",
      "state": {}
     },
     "5268369b44c448b2a4dd1aa624c35bf2": {
      "model_module": "@jupyter-widgets/base",
      "model_module_version": "1.2.0",
      "model_name": "LayoutModel",
      "state": {}
     },
     "5318c42ad0bb47eca4b60749afd93ea4": {
      "model_module": "@jupyter-widgets/base",
      "model_module_version": "1.2.0",
      "model_name": "LayoutModel",
      "state": {
       "display": "none",
       "width": "60px"
      }
     },
     "534da3a117ab445da7adb8ef808b307a": {
      "model_module": "@jupyter-widgets/controls",
      "model_module_version": "1.5.0",
      "model_name": "ProgressStyleModel",
      "state": {
       "description_width": ""
      }
     },
     "5371a794ed294c6a900b260f862c3d2b": {
      "model_module": "@jupyter-widgets/controls",
      "model_module_version": "1.5.0",
      "model_name": "VBoxModel",
      "state": {
       "children": [
        "IPY_MODEL_8b6df432e00845bea338277979d8ada6",
        "IPY_MODEL_236ba4e8596b48c68e09c2b835a1c861",
        "IPY_MODEL_929cf66699d64cba8018521f9ea571db",
        "IPY_MODEL_2325f81a21ba4173b7f1dbc579fde73d"
       ],
       "layout": "IPY_MODEL_bb37be5619024fc28ebd53db4ade70a5"
      }
     },
     "5374deceda824251a280c93934a47867": {
      "model_module": "@jupyter-widgets/base",
      "model_module_version": "1.2.0",
      "model_name": "LayoutModel",
      "state": {
       "display": "none"
      }
     },
     "53ce3aa5d8874bcc87b23067634063fe": {
      "model_module": "@jupyter-widgets/base",
      "model_module_version": "1.2.0",
      "model_name": "LayoutModel",
      "state": {
       "height": "32px",
       "order": "-2",
       "width": "32px"
      }
     },
     "53df29ee81f64fc3adee690bad8a213b": {
      "model_module": "@jupyter-widgets/controls",
      "model_module_version": "1.5.0",
      "model_name": "ButtonModel",
      "state": {
       "layout": "IPY_MODEL_506498ab764d4aafa03f7d33b9979be8",
       "style": "IPY_MODEL_bbf3e82f96a54806970d664e46b7308d"
      }
     },
     "54190e960c8f42669a1d584fb9b390fd": {
      "model_module": "@jupyter-widgets/base",
      "model_module_version": "1.2.0",
      "model_name": "LayoutModel",
      "state": {
       "display": "none",
       "width": "60px"
      }
     },
     "54360699a2a44060a25332086b1bc666": {
      "model_module": "@jupyter-widgets/base",
      "model_module_version": "1.2.0",
      "model_name": "LayoutModel",
      "state": {
       "order": "-1",
       "overflow": "visible",
       "padding": "1px",
       "width": "0px"
      }
     },
     "545417b28d8c45d79b2f3097f0794392": {
      "model_module": "@jupyter-widgets/controls",
      "model_module_version": "1.5.0",
      "model_name": "ProgressStyleModel",
      "state": {
       "description_width": ""
      }
     },
     "548de79cd7074dbbbf8aa123f3811a27": {
      "model_module": "@jupyter-widgets/base",
      "model_module_version": "1.2.0",
      "model_name": "LayoutModel",
      "state": {
       "overflow": "visible",
       "width": "100%"
      }
     },
     "548feb1c79ef4ba2a324194b7978677e": {
      "model_module": "@jupyter-widgets/controls",
      "model_module_version": "1.5.0",
      "model_name": "ButtonStyleModel",
      "state": {}
     },
     "54a8985d1ee149588c87ed2f3d38fb3f": {
      "model_module": "@jupyter-widgets/controls",
      "model_module_version": "1.5.0",
      "model_name": "IntProgressModel",
      "state": {
       "layout": "IPY_MODEL_1f89e95025aa4c328651e3d319f7fc21",
       "max": 1,
       "style": "IPY_MODEL_40f33077b5194bf198cb29d147252a27"
      }
     },
     "54c55a5bf242495994acc752015a122d": {
      "model_module": "@jupyter-widgets/controls",
      "model_module_version": "1.5.0",
      "model_name": "TextModel",
      "state": {
       "description": "Gamertag:",
       "layout": "IPY_MODEL_688f1e13a97146ec8c1716e81b281543",
       "style": "IPY_MODEL_07923204823043219c2d520595dba002",
       "value": "skalligman"
      }
     },
     "5501a1ae4fe84a1fba6f98593d804bcd": {
      "model_module": "@jupyter-widgets/base",
      "model_module_version": "1.2.0",
      "model_name": "LayoutModel",
      "state": {
       "display": "none",
       "width": "60px"
      }
     },
     "55294f484cf847a0b63bb5460568d553": {
      "model_module": "@jupyter-widgets/controls",
      "model_module_version": "1.5.0",
      "model_name": "LabelModel",
      "state": {
       "layout": "IPY_MODEL_d81626d26d5741d2afa1d4ac50922087",
       "style": "IPY_MODEL_51208521a4974d7a9a17a63e37740984",
       "value": "   objective"
      }
     },
     "552e73557d5e44b1a113c31ebdee5a2c": {
      "model_module": "@jupyter-widgets/controls",
      "model_module_version": "1.5.0",
      "model_name": "ButtonModel",
      "state": {
       "layout": "IPY_MODEL_744da5eff2704e7fa7161ba6cc2732b6",
       "style": "IPY_MODEL_84a162dd831e49ebb1bde52ea9508269"
      }
     },
     "5530481fcb1348c7acd4a4ed8f1bd482": {
      "model_module": "@jupyter-widgets/base",
      "model_module_version": "1.2.0",
      "model_name": "LayoutModel",
      "state": {
       "height": "32px",
       "order": "-2",
       "width": "32px"
      }
     },
     "5551e2414509496d91d086df68d0a186": {
      "model_module": "@jupyter-widgets/controls",
      "model_module_version": "1.5.0",
      "model_name": "DescriptionStyleModel",
      "state": {
       "description_width": ""
      }
     },
     "556cef4c2646460280635582e0e5eec1": {
      "model_module": "@jupyter-widgets/controls",
      "model_module_version": "1.5.0",
      "model_name": "DescriptionStyleModel",
      "state": {
       "description_width": ""
      }
     },
     "55855221d364472ba91789cc795aabb8": {
      "model_module": "@jupyter-widgets/controls",
      "model_module_version": "1.5.0",
      "model_name": "ButtonStyleModel",
      "state": {}
     },
     "559c4f6138f7498f966ca42014f151a4": {
      "model_module": "@jupyter-widgets/controls",
      "model_module_version": "1.5.0",
      "model_name": "DescriptionStyleModel",
      "state": {
       "description_width": ""
      }
     },
     "55b95ef0720e4a1fb4025f4be4e15d9d": {
      "model_module": "@jupyter-widgets/controls",
      "model_module_version": "1.5.0",
      "model_name": "HBoxModel",
      "state": {
       "children": [
        "IPY_MODEL_f01c098c5be74ecca0e1fa7e31ff8740",
        "IPY_MODEL_833cff09081a4f4db60b848a0dd816c6",
        "IPY_MODEL_14d80bab78f846b0893d4b662ff28a4f",
        "IPY_MODEL_5e219ac26979413387a62139ea67a1e5"
       ],
       "layout": "IPY_MODEL_ff3ba90b7b8c484a81a544663213e659"
      }
     },
     "564c0c5c26c145289465e5d3c0e012bd": {
      "model_module": "@jupyter-widgets/base",
      "model_module_version": "1.2.0",
      "model_name": "LayoutModel",
      "state": {
       "height": "32px",
       "order": "-2",
       "width": "32px"
      }
     },
     "56b45972ef1a4f7fa9ec9a6650525464": {
      "model_module": "@jupyter-widgets/controls",
      "model_module_version": "1.5.0",
      "model_name": "LabelModel",
      "state": {
       "layout": "IPY_MODEL_68b8481524e24253909a413219f9507b",
       "style": "IPY_MODEL_e4859f289d5847ecb04b50a33ff885b2",
       "value": "   objective"
      }
     },
     "56c129249e714f6a8974d6cae4a45209": {
      "model_module": "@jupyter-widgets/controls",
      "model_module_version": "1.5.0",
      "model_name": "IntProgressModel",
      "state": {
       "layout": "IPY_MODEL_849c021d47f64df78a98ae0cbf63dda0",
       "style": "IPY_MODEL_c0af579ea7bc4ec8b47cbbf0594a049a",
       "value": 30
      }
     },
     "56f8e28ba0424f54977757117d6d074a": {
      "model_module": "@jupyter-widgets/controls",
      "model_module_version": "1.5.0",
      "model_name": "HBoxModel",
      "state": {
       "children": [
        "IPY_MODEL_a1d9f3dc88444b68ac09325c59b3b09c",
        "IPY_MODEL_f51ca6d2519f4abb89c3c8e3bc7e4e1a",
        "IPY_MODEL_3d194ef84469441d8ce2b71f0ad397e6",
        "IPY_MODEL_31ad9a4bdeb24722952fff065866f5aa"
       ],
       "layout": "IPY_MODEL_a431dd0a706d43c4818a5a95beafe0a5"
      }
     },
     "57055832bfb94fb89b454963f5e3c85d": {
      "model_module": "@jupyter-widgets/base",
      "model_module_version": "1.2.0",
      "model_name": "LayoutModel",
      "state": {}
     },
     "574ab712bbe34f6186e43368452db819": {
      "model_module": "@jupyter-widgets/base",
      "model_module_version": "1.2.0",
      "model_name": "LayoutModel",
      "state": {
       "display": "none"
      }
     },
     "5760167b9cc14faaa8ec950a4a85ad09": {
      "model_module": "@jupyter-widgets/base",
      "model_module_version": "1.2.0",
      "model_name": "LayoutModel",
      "state": {
       "height": "32px",
       "order": "-2",
       "width": "32px"
      }
     },
     "57a17eb7d72e4de6b70344b80b0704e4": {
      "model_module": "@jupyter-widgets/controls",
      "model_module_version": "1.5.0",
      "model_name": "ButtonModel",
      "state": {
       "description": "EDIT",
       "layout": "IPY_MODEL_ab5a40f998864158b79c9a9b1eaf2af6",
       "style": "IPY_MODEL_150f598f1c574ff1ae4961bf81c1c649"
      }
     },
     "57bd13d758d14df79eb7badd1a9df512": {
      "model_module": "@jupyter-widgets/controls",
      "model_module_version": "1.5.0",
      "model_name": "ButtonModel",
      "state": {
       "layout": "IPY_MODEL_1fb40b6b471641b5a5f318b7c2f10725",
       "style": "IPY_MODEL_9ef7e4c8aa4948a8baab639426940e96"
      }
     },
     "58663bbe7c814b0d873b346af7b5b561": {
      "model_module": "@jupyter-widgets/controls",
      "model_module_version": "1.5.0",
      "model_name": "ButtonModel",
      "state": {
       "description": "EDIT",
       "layout": "IPY_MODEL_8a440627683d40fea8b86407771e1080",
       "style": "IPY_MODEL_e0de32b869924cdf979819c32631e90b"
      }
     },
     "58a443c73d564e4fbe46b16c060d29c6": {
      "model_module": "@jupyter-widgets/base",
      "model_module_version": "1.2.0",
      "model_name": "LayoutModel",
      "state": {
       "border": "1px solid white",
       "min_width": "250px",
       "padding": "10px",
       "width": "15%"
      }
     },
     "58b11e1425244e5a83ee66b732dbf1a5": {
      "model_module": "@jupyter-widgets/controls",
      "model_module_version": "1.5.0",
      "model_name": "VBoxModel",
      "state": {
       "children": [
        "IPY_MODEL_2343491e5cf2428880ea910fc188a7ba",
        "IPY_MODEL_7b70f213b29b4ce4b36128fabb377536",
        "IPY_MODEL_fe60a8d14b31432f95011fcd0dacbf93"
       ],
       "layout": "IPY_MODEL_0f5d7baf36e44db283f4ab810d2c355e"
      }
     },
     "593db509d85248869986f9b467f1845e": {
      "model_module": "@jupyter-widgets/base",
      "model_module_version": "1.2.0",
      "model_name": "LayoutModel",
      "state": {
       "order": "-1",
       "overflow": "visible",
       "padding": "1px",
       "width": "0px"
      }
     },
     "5969ba2a548c40a1ade6c25b520b30a4": {
      "model_module": "@jupyter-widgets/controls",
      "model_module_version": "1.5.0",
      "model_name": "ButtonStyleModel",
      "state": {}
     },
     "59754c98eec24054803bd72eae663c1c": {
      "model_module": "@jupyter-widgets/base",
      "model_module_version": "1.2.0",
      "model_name": "LayoutModel",
      "state": {
       "display": "none",
       "width": "60px"
      }
     },
     "59862e8826b54f8abedba00c93259309": {
      "model_module": "@jupyter-widgets/controls",
      "model_module_version": "1.5.0",
      "model_name": "DescriptionStyleModel",
      "state": {
       "description_width": ""
      }
     },
     "59abcd10cf3943aeaab01277264c5828": {
      "model_module": "@jupyter-widgets/controls",
      "model_module_version": "1.5.0",
      "model_name": "ButtonModel",
      "state": {
       "layout": "IPY_MODEL_2a6a36045cb447289d479d3ce9cb11dc",
       "style": "IPY_MODEL_e835f1b9676544e7a0de06af6e0f9ea8"
      }
     },
     "59c0554123b6442d9b5e42a0b2f9eaa1": {
      "model_module": "@jupyter-widgets/controls",
      "model_module_version": "1.5.0",
      "model_name": "DescriptionStyleModel",
      "state": {
       "description_width": ""
      }
     },
     "5a3125b720964992bebf0ad006288750": {
      "model_module": "@jupyter-widgets/base",
      "model_module_version": "1.2.0",
      "model_name": "LayoutModel",
      "state": {
       "display": "none"
      }
     },
     "5a693d621e454d45a9ff6fa0ae8317d2": {
      "model_module": "@jupyter-widgets/base",
      "model_module_version": "1.2.0",
      "model_name": "LayoutModel",
      "state": {
       "height": "32px",
       "order": "-2",
       "width": "32px"
      }
     },
     "5a8d101becbd4757b932f2153ad07bca": {
      "model_module": "@jupyter-widgets/base",
      "model_module_version": "1.2.0",
      "model_name": "LayoutModel",
      "state": {
       "height": "32px",
       "overflow": "visible",
       "width": "100%"
      }
     },
     "5a9c6c12a76940ed8f39b1211edf8eb2": {
      "model_module": "@jupyter-widgets/controls",
      "model_module_version": "1.5.0",
      "model_name": "VBoxModel",
      "state": {
       "children": [
        "IPY_MODEL_3f60a63885c94f118861eccda458e9da",
        "IPY_MODEL_0745020262b54ea88a2dee3e0af54b1f",
        "IPY_MODEL_c2cb3c3a9b0e47ce9e25db46baa119ac",
        "IPY_MODEL_3af25c4567ad4ec8849b9840f6b0e535"
       ],
       "layout": "IPY_MODEL_f48cdd42969b497faaa96795f1d53bc0"
      }
     },
     "5b246d5be176404d89c304fd8e4851d3": {
      "model_module": "@jupyter-widgets/controls",
      "model_module_version": "1.5.0",
      "model_name": "VBoxModel",
      "state": {
       "children": [
        "IPY_MODEL_91f9192048274ef686910fabd4580b65",
        "IPY_MODEL_e056d2615d33445fa5ce28cf54a3ff8a",
        "IPY_MODEL_de458254b7f04d969bf7f58fcdc53e87",
        "IPY_MODEL_e056d2615d33445fa5ce28cf54a3ff8a",
        "IPY_MODEL_f96d1f0159f542928908b10638a3bb02"
       ],
       "layout": "IPY_MODEL_3714d1b5777c4d258280cba63931a220"
      }
     },
     "5b48f60b4387471d870a6944723a6f3c": {
      "model_module": "@jupyter-widgets/controls",
      "model_module_version": "1.5.0",
      "model_name": "ButtonModel",
      "state": {
       "layout": "IPY_MODEL_ead051ce866a4009a560cbaf1ffd91a2",
       "style": "IPY_MODEL_81bbad0d869d4fd5bcabd9882936a3ce"
      }
     },
     "5b96408c9dbc4b63bfc60c3e287b248a": {
      "model_module": "@jupyter-widgets/controls",
      "model_module_version": "1.5.0",
      "model_name": "IntProgressModel",
      "state": {
       "layout": "IPY_MODEL_8b658a6daa654f74a405902321ebe958",
       "style": "IPY_MODEL_0d393a348f0f4e839b09b8b02b8b96c1",
       "value": 30
      }
     },
     "5bbea0e318ab4d158629c3b36261b70d": {
      "model_module": "@jupyter-widgets/base",
      "model_module_version": "1.2.0",
      "model_name": "LayoutModel",
      "state": {
       "display": "none",
       "width": "60px"
      }
     },
     "5bd8f7ac1b554fdca9df722199609c5d": {
      "model_module": "@jupyter-widgets/base",
      "model_module_version": "1.2.0",
      "model_name": "LayoutModel",
      "state": {
       "order": "-1",
       "overflow": "visible",
       "padding": "1px",
       "width": "0px"
      }
     },
     "5c1eb64bf32b4e6bab9415f7679603c5": {
      "model_module": "@jupyter-widgets/controls",
      "model_module_version": "1.5.0",
      "model_name": "HBoxModel",
      "state": {
       "children": [
        "IPY_MODEL_33efc68be8ac4024a703c042386deb8a",
        "IPY_MODEL_bdcd02752f6d43adafdeaf3541348b82",
        "IPY_MODEL_bf97832181e546ed91a93b366d73fc9a",
        "IPY_MODEL_cce4470c847549f092180285924cd7e6"
       ],
       "layout": "IPY_MODEL_21f2045795a34481a11510e02b25447e"
      }
     },
     "5c5af82f25aa4e8eb39547e21dd97c39": {
      "model_module": "@jupyter-widgets/base",
      "model_module_version": "1.2.0",
      "model_name": "LayoutModel",
      "state": {
       "display": "none",
       "width": "60px"
      }
     },
     "5c630f9ac0a748f086cec641b6ededc8": {
      "model_module": "@jupyter-widgets/base",
      "model_module_version": "1.2.0",
      "model_name": "LayoutModel",
      "state": {
       "display": "none",
       "width": "60px"
      }
     },
     "5c7974e957cd4cdc95065b378a934886": {
      "model_module": "@jupyter-widgets/controls",
      "model_module_version": "1.5.0",
      "model_name": "VBoxModel",
      "state": {
       "children": [
        "IPY_MODEL_a654cb3c7a31435b91cd5ab08d617b14",
        "IPY_MODEL_f60ad64aa44848aabf4cd8acc7df4802",
        "IPY_MODEL_89dc7193e45a450b9322cd1f69d94812",
        "IPY_MODEL_3b0d94da900a468cb49253bc86854c9a",
        "IPY_MODEL_cc036a5cfff141859b95c672e57d9ac8",
        "IPY_MODEL_0667ed377e9245fdbf77ab264c1aa6dc",
        "IPY_MODEL_d3fe187a20b84a92a36acb6228914a0a",
        "IPY_MODEL_cf0eee2e06df467d810e2a1ae41b05c8",
        "IPY_MODEL_7fd66c1ab37c47919b56bffad7d3ebfd",
        "IPY_MODEL_2735a0387c4344dc91ed9efe4b651ad4"
       ],
       "layout": "IPY_MODEL_f4ad2a4db40f4a8082dc9e33a01d4d0c"
      }
     },
     "5cd3f59fbff24f2182e5b06f5bb9c139": {
      "model_module": "@jupyter-widgets/controls",
      "model_module_version": "1.5.0",
      "model_name": "ButtonStyleModel",
      "state": {}
     },
     "5cd87322c4af4d2f922a6e655b1c7213": {
      "model_module": "@jupyter-widgets/controls",
      "model_module_version": "1.5.0",
      "model_name": "IntProgressModel",
      "state": {
       "layout": "IPY_MODEL_b0f42e7661ba46a6b4d75fec3b061a7a",
       "style": "IPY_MODEL_30c5b8739f9d4992b90004a67ddedf68",
       "value": 30
      }
     },
     "5d0dde5dc75343cf8b5df541459331c8": {
      "model_module": "@jupyter-widgets/base",
      "model_module_version": "1.2.0",
      "model_name": "LayoutModel",
      "state": {}
     },
     "5d1d7ec462454e9690253dbfc76aa0fa": {
      "model_module": "@jupyter-widgets/controls",
      "model_module_version": "1.5.0",
      "model_name": "ButtonModel",
      "state": {
       "description": "EDIT",
       "layout": "IPY_MODEL_2c87478d43dd4ad3bc66b7803dae1817",
       "style": "IPY_MODEL_bfd946b46c934bb4a7315e6add3ccbcf"
      }
     },
     "5dabe1397fd74165a2b3b073bcab5dcd": {
      "model_module": "@jupyter-widgets/controls",
      "model_module_version": "1.5.0",
      "model_name": "ButtonStyleModel",
      "state": {}
     },
     "5db54350efbc47ddb3673a5b28917159": {
      "model_module": "@jupyter-widgets/controls",
      "model_module_version": "1.5.0",
      "model_name": "ButtonStyleModel",
      "state": {}
     },
     "5de7df9d06444514bfb779f4b06e6fe5": {
      "model_module": "@jupyter-widgets/base",
      "model_module_version": "1.2.0",
      "model_name": "LayoutModel",
      "state": {
       "display": "none"
      }
     },
     "5df0669895d74fdcb40e9f71f65d98e8": {
      "model_module": "@jupyter-widgets/base",
      "model_module_version": "1.2.0",
      "model_name": "LayoutModel",
      "state": {
       "display": "none",
       "width": "60px"
      }
     },
     "5df100ffeb6f4710a9e5af86fbf41fd3": {
      "model_module": "@jupyter-widgets/controls",
      "model_module_version": "1.5.0",
      "model_name": "ButtonModel",
      "state": {
       "layout": "IPY_MODEL_5530481fcb1348c7acd4a4ed8f1bd482",
       "style": "IPY_MODEL_4c81cfca32a04169bd8c4f20c12817f8"
      }
     },
     "5e040c3de500429395150618b2e45434": {
      "model_module": "@jupyter-widgets/controls",
      "model_module_version": "1.5.0",
      "model_name": "DescriptionStyleModel",
      "state": {
       "description_width": ""
      }
     },
     "5e1caab10434439ea25fd029d15d3638": {
      "model_module": "@jupyter-widgets/controls",
      "model_module_version": "1.5.0",
      "model_name": "DropdownModel",
      "state": {
       "_options_labels": [
        "Any"
       ],
       "disabled": true,
       "index": 0,
       "layout": "IPY_MODEL_784aff25cdc347d888d61dc2bd10db0e",
       "style": "IPY_MODEL_a5e9d15523664e8c8c4cd44ce00cfb4b"
      }
     },
     "5e1e0beed61e4e01a0df70f32ad2bf38": {
      "model_module": "@jupyter-widgets/controls",
      "model_module_version": "1.5.0",
      "model_name": "ProgressStyleModel",
      "state": {
       "description_width": ""
      }
     },
     "5e219ac26979413387a62139ea67a1e5": {
      "model_module": "@jupyter-widgets/controls",
      "model_module_version": "1.5.0",
      "model_name": "ButtonModel",
      "state": {
       "description": "EDIT",
       "layout": "IPY_MODEL_5bbea0e318ab4d158629c3b36261b70d",
       "style": "IPY_MODEL_c768ea8b37894bb2bc5a251e96336460"
      }
     },
     "5e222d607cae4da9be013fc326513149": {
      "model_module": "@jupyter-widgets/base",
      "model_module_version": "1.2.0",
      "model_name": "LayoutModel",
      "state": {
       "border": "3px solid white",
       "display": "flex",
       "flex": "1 1 0%",
       "margin": "10px",
       "min_width": "400px",
       "overflow": "visible",
       "padding": "10px",
       "width": "auto"
      }
     },
     "5e63efd2200d4ea999d43e0e40fa7d88": {
      "model_module": "@jupyter-widgets/controls",
      "model_module_version": "1.5.0",
      "model_name": "ProgressStyleModel",
      "state": {
       "description_width": ""
      }
     },
     "5e70028223444987a0e49385ffd04dc7": {
      "model_module": "@jupyter-widgets/controls",
      "model_module_version": "1.5.0",
      "model_name": "DescriptionStyleModel",
      "state": {
       "description_width": ""
      }
     },
     "5e82a8b519bf4ee9afa0961186767838": {
      "model_module": "@jupyter-widgets/base",
      "model_module_version": "1.2.0",
      "model_name": "LayoutModel",
      "state": {
       "display": "none",
       "width": "60px"
      }
     },
     "5ebaa85fd79e41dc9809eb5bb8b92a69": {
      "model_module": "@jupyter-widgets/controls",
      "model_module_version": "1.5.0",
      "model_name": "ProgressStyleModel",
      "state": {
       "description_width": ""
      }
     },
     "5f039ab5c58c400a8b8c82a08c9c91d7": {
      "model_module": "@jupyter-widgets/controls",
      "model_module_version": "1.5.0",
      "model_name": "ButtonModel",
      "state": {
       "button_style": "success",
       "disabled": true,
       "layout": "IPY_MODEL_7362b241cff247c59c7d6855e9140792",
       "style": "IPY_MODEL_77fda97ac5394600963614aca36cc2c6"
      }
     },
     "5f07cc290ce54c0fa22fccfcb01aab40": {
      "model_module": "@jupyter-widgets/controls",
      "model_module_version": "1.5.0",
      "model_name": "ButtonModel",
      "state": {
       "description": "EDIT",
       "layout": "IPY_MODEL_1c5d1306f414413a81339fab0eb1dac7",
       "style": "IPY_MODEL_c033e48b74b546d0903b2afcdd6abf78"
      }
     },
     "5f087943b403420299be394a4afc8762": {
      "model_module": "@jupyter-widgets/controls",
      "model_module_version": "1.5.0",
      "model_name": "HBoxModel",
      "state": {
       "children": [
        "IPY_MODEL_f93c8ad07b93477f80cf97009139c354",
        "IPY_MODEL_5b96408c9dbc4b63bfc60c3e287b248a",
        "IPY_MODEL_df67a6cb110d4e20891e8a95f44ac5f6",
        "IPY_MODEL_731005254dc64bb0ad2848d1b078d392"
       ],
       "layout": "IPY_MODEL_8929c8d2b2874485b424b5702b1365a8"
      }
     },
     "5f3cc7600a0f47d9860aea0c5216fc60": {
      "model_module": "@jupyter-widgets/base",
      "model_module_version": "1.2.0",
      "model_name": "LayoutModel",
      "state": {
       "height": "32px",
       "order": "-2",
       "width": "32px"
      }
     },
     "5f78d9b5be4640ce904fb29177bd2dfb": {
      "model_module": "@jupyter-widgets/base",
      "model_module_version": "1.2.0",
      "model_name": "LayoutModel",
      "state": {
       "display": "flex",
       "flex_flow": "row wrap"
      }
     },
     "5f7f4ad3fe9744bda344a4d5d0058221": {
      "model_module": "@jupyter-widgets/controls",
      "model_module_version": "1.5.0",
      "model_name": "IntProgressModel",
      "state": {
       "layout": "IPY_MODEL_33d8455bafe943f1a9f99e793479f4a5",
       "style": "IPY_MODEL_1c985b78ac1f431ab142e33cac72f82a",
       "value": 30
      }
     },
     "5f8d5359393844bba8eb974f6c9a90e7": {
      "model_module": "@jupyter-widgets/controls",
      "model_module_version": "1.5.0",
      "model_name": "ButtonStyleModel",
      "state": {}
     },
     "5f956afbcbea402589152d6ed7a2c0cb": {
      "model_module": "@jupyter-widgets/base",
      "model_module_version": "1.2.0",
      "model_name": "LayoutModel",
      "state": {}
     },
     "5facd99c4d55421ba0e57a4f2f1389f3": {
      "model_module": "@jupyter-widgets/controls",
      "model_module_version": "1.5.0",
      "model_name": "IntProgressModel",
      "state": {
       "layout": "IPY_MODEL_34d14dd6093c49e8bb70272d6b5732d7",
       "style": "IPY_MODEL_4aebbbdf2f944622bd26deb2dd611ccf",
       "value": 30
      }
     },
     "603da855de824614a3388a11c3292bf1": {
      "model_module": "@jupyter-widgets/base",
      "model_module_version": "1.2.0",
      "model_name": "LayoutModel",
      "state": {
       "height": "32px",
       "order": "-2",
       "width": "32px"
      }
     },
     "604ab8ffb1104611806c853a9dc03164": {
      "model_module": "@jupyter-widgets/controls",
      "model_module_version": "1.5.0",
      "model_name": "ButtonModel",
      "state": {
       "description": "EDIT",
       "layout": "IPY_MODEL_170054afa1bc46b799183a714ed8b2f6",
       "style": "IPY_MODEL_35209c7fd9f042cb89ecbd1900a6fea9"
      }
     },
     "609cabc1911e433ab7ce4c947a7b2e1e": {
      "model_module": "@jupyter-widgets/base",
      "model_module_version": "1.2.0",
      "model_name": "LayoutModel",
      "state": {
       "height": "32px",
       "overflow": "visible",
       "width": "100%"
      }
     },
     "60a4a36670a84a59994b03bc3ccc3eb6": {
      "model_module": "@jupyter-widgets/controls",
      "model_module_version": "1.5.0",
      "model_name": "IntProgressModel",
      "state": {
       "layout": "IPY_MODEL_a2341c5e7cd8480780f07245038ff67c",
       "style": "IPY_MODEL_c2a0e730b3b0419c96aa804f1b490842",
       "value": 30
      }
     },
     "60af20bbd06a47df8ba08dbbfadd0b20": {
      "model_module": "@jupyter-widgets/controls",
      "model_module_version": "1.5.0",
      "model_name": "HTMLModel",
      "state": {
       "layout": "IPY_MODEL_f17790af97db46678c84f5b842c02e84",
       "style": "IPY_MODEL_9c82c717f3e14f1084c0b92692e259bf",
       "value": "<i></i>"
      }
     },
     "60da77bbbdfe47cf979ec0e1844b4ec5": {
      "model_module": "@jupyter-widgets/base",
      "model_module_version": "1.2.0",
      "model_name": "LayoutModel",
      "state": {
       "height": "32px",
       "overflow": "visible",
       "width": "100%"
      }
     },
     "60f75ab836cc41f7a20d8f879edc8448": {
      "model_module": "@jupyter-widgets/controls",
      "model_module_version": "1.5.0",
      "model_name": "LabelModel",
      "state": {
       "layout": "IPY_MODEL_6f4e5797fbc9463c96c68a6e5df092d8",
       "style": "IPY_MODEL_82269150c6cc4b50bbd4ce5edf8735e6",
       "value": "Subclass:"
      }
     },
     "6106643665634365a0013439f0e8c7b2": {
      "model_module": "@jupyter-widgets/base",
      "model_module_version": "1.2.0",
      "model_name": "LayoutModel",
      "state": {
       "order": "-1",
       "overflow": "visible",
       "padding": "1px",
       "width": "0px"
      }
     },
     "619ac6b3eb9843dbb02dfe53bd6b6ef4": {
      "model_module": "@jupyter-widgets/controls",
      "model_module_version": "1.5.0",
      "model_name": "ButtonStyleModel",
      "state": {}
     },
     "624ef62ecaea455bbff17bfd9ec17102": {
      "model_module": "@jupyter-widgets/controls",
      "model_module_version": "1.5.0",
      "model_name": "ButtonModel",
      "state": {
       "button_style": "success",
       "description": "EDIT",
       "layout": "IPY_MODEL_833c8676f8a54f17ba6511ad92dba0df",
       "style": "IPY_MODEL_6fddff0abe2340ebaab5dce77c55a6b2"
      }
     },
     "626a7d5434ae4cde8ce6394e51144483": {
      "model_module": "@jupyter-widgets/base",
      "model_module_version": "1.2.0",
      "model_name": "LayoutModel",
      "state": {
       "display": "flex",
       "width": "60px"
      }
     },
     "628ace6a8e2d4d968a64e72b925842f1": {
      "model_module": "@jupyter-widgets/controls",
      "model_module_version": "1.5.0",
      "model_name": "IntProgressModel",
      "state": {
       "bar_style": "success",
       "layout": "IPY_MODEL_fe3cf061061f49bd8c4f0a9634e1eb2a",
       "max": 1,
       "style": "IPY_MODEL_76ea4924ff244a02941d857bbc1218dc",
       "value": 1
      }
     },
     "62a173de07eb4589a2b332d3983e7d18": {
      "model_module": "@jupyter-widgets/base",
      "model_module_version": "1.2.0",
      "model_name": "LayoutModel",
      "state": {
       "height": "32px",
       "overflow": "visible",
       "width": "100%"
      }
     },
     "63888cf3a5064e6291391e6f86c8d7a0": {
      "model_module": "@jupyter-widgets/controls",
      "model_module_version": "1.5.0",
      "model_name": "IntProgressModel",
      "state": {
       "layout": "IPY_MODEL_b3c7f81156204eed80eba36559af7702",
       "style": "IPY_MODEL_321448088fc54faaa0579d80875fcef6",
       "value": 30
      }
     },
     "63bc0bd3da984ee585330e652e3f4a58": {
      "model_module": "@jupyter-widgets/controls",
      "model_module_version": "1.5.0",
      "model_name": "IntProgressModel",
      "state": {
       "layout": "IPY_MODEL_5a8d101becbd4757b932f2153ad07bca",
       "style": "IPY_MODEL_32c7b249381f41c68c6e914e9a18385e",
       "value": 30
      }
     },
     "63e9d32ecadd4c64be08103018e93c72": {
      "model_module": "@jupyter-widgets/controls",
      "model_module_version": "1.5.0",
      "model_name": "ButtonModel",
      "state": {
       "description": "EDIT",
       "layout": "IPY_MODEL_e4b001b9bd0143348d0787cdfc2ea9fe",
       "style": "IPY_MODEL_92af05f1c7b74043987528cabe688810"
      }
     },
     "63fa6c7df734465a8fa9eac73e8f55d2": {
      "model_module": "@jupyter-widgets/controls",
      "model_module_version": "1.5.0",
      "model_name": "ButtonStyleModel",
      "state": {}
     },
     "64115604c416477c8f3d7f3873247561": {
      "model_module": "@jupyter-widgets/base",
      "model_module_version": "1.2.0",
      "model_name": "LayoutModel",
      "state": {}
     },
     "642bc323bb1d486aa171a44c8d8eab59": {
      "model_module": "@jupyter-widgets/controls",
      "model_module_version": "1.5.0",
      "model_name": "DescriptionStyleModel",
      "state": {
       "description_width": ""
      }
     },
     "6438e6fccaa144ef816447c9aab045e8": {
      "model_module": "@jupyter-widgets/controls",
      "model_module_version": "1.5.0",
      "model_name": "LabelModel",
      "state": {
       "layout": "IPY_MODEL_c1f525308dec4dd482777ecf581067ff",
       "style": "IPY_MODEL_93a7a744f8bb49cebc5c3d8f7b39b2c6",
       "value": "   objective"
      }
     },
     "6457121b36de4d01a0621d9c323aaee3": {
      "model_module": "@jupyter-widgets/controls",
      "model_module_version": "1.5.0",
      "model_name": "VBoxModel",
      "state": {
       "children": [
        "IPY_MODEL_bb60a5c8bf1443088b582af2b0a93f0f",
        "IPY_MODEL_9e46437742114d6fa5739594d62b748a",
        "IPY_MODEL_ecf817aa1d7e4954b85bdb52af2d4a77",
        "IPY_MODEL_8024ac9fa669434b803b075de2f841ed",
        "IPY_MODEL_ca534dac13e147b1a5f7093bc3293d98",
        "IPY_MODEL_e1052237a96d420791b2c3c297b997cd"
       ],
       "layout": "IPY_MODEL_4cc27008faf8469d87a71f139a54364d"
      }
     },
     "6458d13905924c3f93b56931f743ab27": {
      "model_module": "@jupyter-widgets/controls",
      "model_module_version": "1.5.0",
      "model_name": "DescriptionStyleModel",
      "state": {
       "description_width": ""
      }
     },
     "6463d85af8ce4372859b20964aa06e75": {
      "model_module": "@jupyter-widgets/controls",
      "model_module_version": "1.5.0",
      "model_name": "ButtonStyleModel",
      "state": {}
     },
     "64806caa13e74aa89f48be75d0ffcf26": {
      "model_module": "@jupyter-widgets/base",
      "model_module_version": "1.2.0",
      "model_name": "LayoutModel",
      "state": {
       "order": "-1",
       "overflow": "visible",
       "padding": "1px",
       "width": "0px"
      }
     },
     "64c0c8dbbd724a72b6c7ee99f5f6d99e": {
      "model_module": "@jupyter-widgets/controls",
      "model_module_version": "1.5.0",
      "model_name": "ButtonModel",
      "state": {
       "description": "EDIT",
       "layout": "IPY_MODEL_655f29ce3186408d82de1829b8e1a0fd",
       "style": "IPY_MODEL_07bcc7934a754ab1ac1d5c28d4d8e55f"
      }
     },
     "64ec28a593ee49bda804e69669598660": {
      "model_module": "@jupyter-widgets/controls",
      "model_module_version": "1.5.0",
      "model_name": "ButtonModel",
      "state": {
       "layout": "IPY_MODEL_0cad637585444abb826938e9bc8f01c2",
       "style": "IPY_MODEL_cafdfd132af142f889b47862955e1886"
      }
     },
     "650ff66f44b74aa2a0498e6cb3dbf6a1": {
      "model_module": "@jupyter-widgets/controls",
      "model_module_version": "1.5.0",
      "model_name": "ButtonStyleModel",
      "state": {}
     },
     "654ed68d81564d5283e881f4b2c9d907": {
      "model_module": "@jupyter-widgets/base",
      "model_module_version": "1.2.0",
      "model_name": "LayoutModel",
      "state": {
       "width": "100px"
      }
     },
     "655298f101bb4f9daea655d95e06ae99": {
      "model_module": "@jupyter-widgets/controls",
      "model_module_version": "1.5.0",
      "model_name": "ButtonStyleModel",
      "state": {}
     },
     "655f29ce3186408d82de1829b8e1a0fd": {
      "model_module": "@jupyter-widgets/base",
      "model_module_version": "1.2.0",
      "model_name": "LayoutModel",
      "state": {
       "display": "none",
       "width": "60px"
      }
     },
     "6575cc0de01b44e6aa5aa6654a736843": {
      "model_module": "@jupyter-widgets/controls",
      "model_module_version": "1.5.0",
      "model_name": "ButtonModel",
      "state": {
       "layout": "IPY_MODEL_4f5829b462154867b82a7e0c90175328",
       "style": "IPY_MODEL_4ec0840a1bc44efeb738a94058f48502"
      }
     },
     "665e1dd8016c4b3ca4771db0ccebdb9e": {
      "model_module": "@jupyter-widgets/controls",
      "model_module_version": "1.5.0",
      "model_name": "HBoxModel",
      "state": {
       "children": [
        "IPY_MODEL_552e73557d5e44b1a113c31ebdee5a2c",
        "IPY_MODEL_6b94f6054d3d4aa090d8c17f032d5927",
        "IPY_MODEL_4e15e965f5e84e8e82c1a1880306a167",
        "IPY_MODEL_85f3ea2677104d55bffc3efdb8fd59ad"
       ],
       "layout": "IPY_MODEL_93d6e0e4fe03409db9849a06fbf92018"
      }
     },
     "667bc5af79954785b853cf599aeb47a0": {
      "model_module": "@jupyter-widgets/base",
      "model_module_version": "1.2.0",
      "model_name": "LayoutModel",
      "state": {
       "display": "none"
      }
     },
     "66c9370e4446490a8b222d01fe10fb6a": {
      "model_module": "@jupyter-widgets/base",
      "model_module_version": "1.2.0",
      "model_name": "LayoutModel",
      "state": {
       "display": "none",
       "width": "60px"
      }
     },
     "6744ed9d92204700bb1950c1288906c2": {
      "model_module": "@jupyter-widgets/base",
      "model_module_version": "1.2.0",
      "model_name": "LayoutModel",
      "state": {
       "height": "32px",
       "order": "-2",
       "width": "32px"
      }
     },
     "6747daa2b8d94f03a29687e68f6c8592": {
      "model_module": "@jupyter-widgets/controls",
      "model_module_version": "1.5.0",
      "model_name": "ButtonModel",
      "state": {
       "description": "Submit",
       "layout": "IPY_MODEL_0a99c05ffaae44cfbaa75d59bb88766f",
       "style": "IPY_MODEL_5969ba2a548c40a1ade6c25b520b30a4"
      }
     },
     "676d08ade3b4441b9acfd54099e7a728": {
      "model_module": "@jupyter-widgets/base",
      "model_module_version": "1.2.0",
      "model_name": "LayoutModel",
      "state": {
       "border": "3px solid white",
       "display": "flex",
       "flex": "1 1 0%",
       "margin": "10px",
       "min_width": "400px",
       "overflow": "visible",
       "padding": "10px",
       "width": "auto"
      }
     },
     "67a00b901d474fb083c583913dc4611c": {
      "model_module": "@jupyter-widgets/base",
      "model_module_version": "1.2.0",
      "model_name": "LayoutModel",
      "state": {
       "display": "none"
      }
     },
     "67f630e9f05843b0945da14f6413cbf4": {
      "model_module": "@jupyter-widgets/controls",
      "model_module_version": "1.5.0",
      "model_name": "HBoxModel",
      "state": {
       "children": [
        "IPY_MODEL_8fde2bd60011426185a91183257e37db",
        "IPY_MODEL_b790d00d4f8549cb88f7d3ea6f7b8e0c",
        "IPY_MODEL_56b45972ef1a4f7fa9ec9a6650525464",
        "IPY_MODEL_0f56d6981c9649bf8087927fab9b2f86"
       ],
       "layout": "IPY_MODEL_239d7b181b0240a8b9678facff4cc8b3"
      }
     },
     "67f908560d3d4714be04836c44af4e28": {
      "model_module": "@jupyter-widgets/controls",
      "model_module_version": "1.5.0",
      "model_name": "VBoxModel",
      "state": {
       "children": [
        "IPY_MODEL_bc201a5f0e3b4282a81082eed0aa87de",
        "IPY_MODEL_42fd2a6fa7a34fc8a5f116363dc550ff",
        "IPY_MODEL_7fbaba18a19348d8bbc02d0a7f35418b",
        "IPY_MODEL_c60d9b1269984189bf63660134993401",
        "IPY_MODEL_5f087943b403420299be394a4afc8762",
        "IPY_MODEL_fb71d4dcdb874e41aef17f7c3f7e4cfb"
       ],
       "layout": "IPY_MODEL_df03c9751f07413980076f9f44dbcfbc"
      }
     },
     "682cb779615f40669147669442cf8a22": {
      "model_module": "@jupyter-widgets/base",
      "model_module_version": "1.2.0",
      "model_name": "LayoutModel",
      "state": {
       "height": "32px",
       "order": "-2",
       "width": "32px"
      }
     },
     "688f1e13a97146ec8c1716e81b281543": {
      "model_module": "@jupyter-widgets/base",
      "model_module_version": "1.2.0",
      "model_name": "LayoutModel",
      "state": {}
     },
     "68907119244d4168ae81c608922f3d1b": {
      "model_module": "@jupyter-widgets/controls",
      "model_module_version": "1.5.0",
      "model_name": "DescriptionStyleModel",
      "state": {
       "description_width": ""
      }
     },
     "689666735ca647369cdd1dfac07d9a25": {
      "model_module": "@jupyter-widgets/base",
      "model_module_version": "1.2.0",
      "model_name": "LayoutModel",
      "state": {
       "display": "none",
       "width": "60px"
      }
     },
     "689890c4a22742caa10937c3a8d55784": {
      "model_module": "@jupyter-widgets/base",
      "model_module_version": "1.2.0",
      "model_name": "LayoutModel",
      "state": {
       "height": "32px",
       "order": "-2",
       "width": "32px"
      }
     },
     "689922036d484cf586a9239e3fb1e3e5": {
      "model_module": "@jupyter-widgets/controls",
      "model_module_version": "1.5.0",
      "model_name": "ButtonModel",
      "state": {
       "layout": "IPY_MODEL_33246f163f4242ae83fe73a26f700d23",
       "style": "IPY_MODEL_babc4cccda634e5b919dbf24db72b347"
      }
     },
     "68b8481524e24253909a413219f9507b": {
      "model_module": "@jupyter-widgets/base",
      "model_module_version": "1.2.0",
      "model_name": "LayoutModel",
      "state": {
       "order": "-1",
       "overflow": "visible",
       "padding": "1px",
       "width": "0px"
      }
     },
     "68e70335e9234abfa08667c327bde1ee": {
      "model_module": "@jupyter-widgets/controls",
      "model_module_version": "1.5.0",
      "model_name": "ButtonModel",
      "state": {
       "description": "Search",
       "layout": "IPY_MODEL_114f9e62fc604b39bec5459ce9f780d2",
       "style": "IPY_MODEL_5cd3f59fbff24f2182e5b06f5bb9c139"
      }
     },
     "68ebb190f861494da121f875a0280d3c": {
      "model_module": "@jupyter-widgets/controls",
      "model_module_version": "1.5.0",
      "model_name": "DescriptionStyleModel",
      "state": {
       "description_width": ""
      }
     },
     "68eebe313cad48aebb1dd1bd67de39df": {
      "model_module": "@jupyter-widgets/controls",
      "model_module_version": "1.5.0",
      "model_name": "LabelModel",
      "state": {
       "layout": "IPY_MODEL_5f956afbcbea402589152d6ed7a2c0cb",
       "style": "IPY_MODEL_dd5ce2c55dc0415bb973b6fa2f4757b2",
       "value": "Armor Set:"
      }
     },
     "68f681ba5d184d5cb4d8fa880747a554": {
      "model_module": "@jupyter-widgets/controls",
      "model_module_version": "1.5.0",
      "model_name": "ButtonStyleModel",
      "state": {}
     },
     "6902d99c6df547b0a7ff6f1bcea8079e": {
      "model_module": "@jupyter-widgets/controls",
      "model_module_version": "1.5.0",
      "model_name": "ButtonStyleModel",
      "state": {}
     },
     "6934d3bdfa1d475093ad3278b07a3f69": {
      "model_module": "@jupyter-widgets/controls",
      "model_module_version": "1.5.0",
      "model_name": "LabelModel",
      "state": {
       "layout": "IPY_MODEL_146370fa499e4aa79d7101523df053a1",
       "style": "IPY_MODEL_08e924ae8559480ba35f2d4a497ee463",
       "value": "   objective"
      }
     },
     "693d492db5d54bda9d6774bf15d855e8": {
      "model_module": "@jupyter-widgets/controls",
      "model_module_version": "1.5.0",
      "model_name": "IntProgressModel",
      "state": {
       "layout": "IPY_MODEL_0dcc8f98eca24f38bc1177780308fef9",
       "style": "IPY_MODEL_021f83ddb7b046a7abe613adca8a372a",
       "value": 30
      }
     },
     "697231be02a4498abbb49ee52151be24": {
      "model_module": "@jupyter-widgets/controls",
      "model_module_version": "1.5.0",
      "model_name": "HBoxModel",
      "state": {
       "children": [
        "IPY_MODEL_df59e9cce88b4a3cacbdb2e8018cecd4",
        "IPY_MODEL_5facd99c4d55421ba0e57a4f2f1389f3",
        "IPY_MODEL_6438e6fccaa144ef816447c9aab045e8",
        "IPY_MODEL_ad6970a56e6b410391d482a1a44d3164"
       ],
       "layout": "IPY_MODEL_79de67d287974e829700490e2a45d9f8"
      }
     },
     "699b0eb886654fba9fd3fd6dbe759cd0": {
      "model_module": "@jupyter-widgets/base",
      "model_module_version": "1.2.0",
      "model_name": "LayoutModel",
      "state": {
       "display": "flex"
      }
     },
     "69d736c758b14a1b9b28efbbbd7c53fe": {
      "model_module": "@jupyter-widgets/controls",
      "model_module_version": "1.5.0",
      "model_name": "ButtonModel",
      "state": {
       "description": "EDIT",
       "layout": "IPY_MODEL_ef844e75ed2c4ba6abf64e1f2bf0902e",
       "style": "IPY_MODEL_4532be441e2149a6b88cb2406899ef61"
      }
     },
     "6a2d39f58ce846728eeecfc2ca5a6386": {
      "model_module": "@jupyter-widgets/controls",
      "model_module_version": "1.5.0",
      "model_name": "ButtonStyleModel",
      "state": {}
     },
     "6a71ace3c1ec4281881b5121c9f12602": {
      "model_module": "@jupyter-widgets/base",
      "model_module_version": "1.2.0",
      "model_name": "LayoutModel",
      "state": {
       "display": "none"
      }
     },
     "6a9489acf0984b429a6cfa9102a91a41": {
      "model_module": "@jupyter-widgets/base",
      "model_module_version": "1.2.0",
      "model_name": "LayoutModel",
      "state": {
       "order": "-1",
       "overflow": "visible",
       "padding": "1px",
       "width": "0px"
      }
     },
     "6acfcd94289d42a5898b5122874fa3c3": {
      "model_module": "@jupyter-widgets/controls",
      "model_module_version": "1.5.0",
      "model_name": "ButtonModel",
      "state": {
       "description": "EDIT",
       "layout": "IPY_MODEL_a0ca08efe8e24464892bfae4d310d50d",
       "style": "IPY_MODEL_5f8d5359393844bba8eb974f6c9a90e7"
      }
     },
     "6aecd9f0114244cd8be31b87256acf73": {
      "model_module": "@jupyter-widgets/controls",
      "model_module_version": "1.5.0",
      "model_name": "DescriptionStyleModel",
      "state": {
       "description_width": ""
      }
     },
     "6b18ad69bee446afb07ca7703a5e0689": {
      "model_module": "@jupyter-widgets/controls",
      "model_module_version": "1.5.0",
      "model_name": "ButtonModel",
      "state": {
       "layout": "IPY_MODEL_ebe8b09023fe40fca1377938aebd9e69",
       "style": "IPY_MODEL_fc6c2ceecc9f44d3a0a98b67e49bfaeb"
      }
     },
     "6b3a73ddcdee4ab4838d000c570a671a": {
      "model_module": "@jupyter-widgets/controls",
      "model_module_version": "1.5.0",
      "model_name": "LabelModel",
      "state": {
       "layout": "IPY_MODEL_aa9c9e5224e4413d99136f13fae439ba",
       "style": "IPY_MODEL_9eb25a7bd7584aaea213b6962e8bc3d5",
       "value": "   objective"
      }
     },
     "6b697eaf846d474686ebbd044328ae45": {
      "model_module": "@jupyter-widgets/base",
      "model_module_version": "1.2.0",
      "model_name": "LayoutModel",
      "state": {
       "display": "none"
      }
     },
     "6b749dc61a3a45f5a15f86396bf7701e": {
      "model_module": "@jupyter-widgets/controls",
      "model_module_version": "1.5.0",
      "model_name": "DescriptionStyleModel",
      "state": {
       "description_width": ""
      }
     },
     "6b7cda04347a462798982fdd52449a58": {
      "model_module": "@jupyter-widgets/base",
      "model_module_version": "1.2.0",
      "model_name": "LayoutModel",
      "state": {
       "border": "3px solid white",
       "display": "flex",
       "flex": "1 1 0%",
       "margin": "10px",
       "min_width": "400px",
       "overflow": "visible",
       "padding": "10px",
       "width": "auto"
      }
     },
     "6b9323a381e041fa8e07b1f8a815ff02": {
      "model_module": "@jupyter-widgets/base",
      "model_module_version": "1.2.0",
      "model_name": "LayoutModel",
      "state": {
       "order": "-1",
       "overflow": "visible",
       "padding": "1px",
       "width": "0px"
      }
     },
     "6b94f6054d3d4aa090d8c17f032d5927": {
      "model_module": "@jupyter-widgets/controls",
      "model_module_version": "1.5.0",
      "model_name": "IntProgressModel",
      "state": {
       "layout": "IPY_MODEL_c396c6e2ad30465bb8229350333db1f4",
       "style": "IPY_MODEL_de35cd6fc7c347b1b78a3cd5feb09158",
       "value": 30
      }
     },
     "6b965d40f4644bc0a46ea369ff353b72": {
      "model_module": "@jupyter-widgets/controls",
      "model_module_version": "1.5.0",
      "model_name": "LabelModel",
      "state": {
       "layout": "IPY_MODEL_c9eac1f43dc544ff9b2eeefdc2e680f7",
       "style": "IPY_MODEL_c8434243c72b4452a1e9fbcc5fd75497",
       "value": "   objective"
      }
     },
     "6bd176619087438da3db8124be3a89ef": {
      "model_module": "@jupyter-widgets/controls",
      "model_module_version": "1.5.0",
      "model_name": "HTMLModel",
      "state": {
       "layout": "IPY_MODEL_548de79cd7074dbbbf8aa123f3811a27",
       "style": "IPY_MODEL_3efb00e05c5a452eaef5c197a32ee723",
       "value": "<font size=\"5\"><b>Bluff</b></font size=>"
      }
     },
     "6c137f31b62d40e5b1cf03fe693649ee": {
      "model_module": "@jupyter-widgets/controls",
      "model_module_version": "1.5.0",
      "model_name": "HBoxModel",
      "state": {
       "children": [
        "IPY_MODEL_f6621f16854b4ca39421519f96536154",
        "IPY_MODEL_0b34ea3420734acca3e27ee4421da23e",
        "IPY_MODEL_034fe53e66b14823a169e91110d2c897",
        "IPY_MODEL_a401417861384c62b9bd173719c225d0"
       ],
       "layout": "IPY_MODEL_d9c14b89a235479cbf1d66cd46228a89"
      }
     },
     "6c1734b020a24dda96da9375edb4b5a6": {
      "model_module": "@jupyter-widgets/base",
      "model_module_version": "1.2.0",
      "model_name": "LayoutModel",
      "state": {
       "height": "32px",
       "order": "-2",
       "width": "32px"
      }
     },
     "6ca505d745124a409cca1a2eadde3650": {
      "model_module": "@jupyter-widgets/base",
      "model_module_version": "1.2.0",
      "model_name": "LayoutModel",
      "state": {
       "height": "32px",
       "overflow": "visible",
       "width": "100%"
      }
     },
     "6cea76a8e83b4d21b6949f16865a1191": {
      "model_module": "@jupyter-widgets/controls",
      "model_module_version": "1.5.0",
      "model_name": "ButtonStyleModel",
      "state": {}
     },
     "6d474cbb32094afcb6b0127ae3f9f1c4": {
      "model_module": "@jupyter-widgets/controls",
      "model_module_version": "1.5.0",
      "model_name": "ButtonStyleModel",
      "state": {}
     },
     "6d716d652ce14e24b66cabb072b59b84": {
      "model_module": "@jupyter-widgets/base",
      "model_module_version": "1.2.0",
      "model_name": "LayoutModel",
      "state": {
       "overflow": "visible",
       "width": "100%"
      }
     },
     "6d8c83cd3ab14fb28bc5235931d040e9": {
      "model_module": "@jupyter-widgets/controls",
      "model_module_version": "1.5.0",
      "model_name": "ButtonStyleModel",
      "state": {}
     },
     "6e0d745203774a58a3f0792d45f551a4": {
      "model_module": "@jupyter-widgets/base",
      "model_module_version": "1.2.0",
      "model_name": "LayoutModel",
      "state": {
       "height": "32px",
       "order": "-2",
       "width": "32px"
      }
     },
     "6e99de00056e4b00a61a25b94137ec33": {
      "model_module": "@jupyter-widgets/controls",
      "model_module_version": "1.5.0",
      "model_name": "DescriptionStyleModel",
      "state": {
       "description_width": ""
      }
     },
     "6ea62a9356bb43e89fac2350f7981fcc": {
      "model_module": "@jupyter-widgets/controls",
      "model_module_version": "1.5.0",
      "model_name": "DropdownModel",
      "state": {
       "_options_labels": [
        "Any",
        "Machine Gun",
        "Sword",
        "Grenade Launcher",
        "Rocket Launcher",
        "Linear Fusion Rifle"
       ],
       "index": 0,
       "layout": "IPY_MODEL_784aff25cdc347d888d61dc2bd10db0e",
       "style": "IPY_MODEL_35b73beced6c40b3a999993c2ef68297"
      }
     },
     "6eb1dfce8e1145c28d792f9705850559": {
      "model_module": "@jupyter-widgets/base",
      "model_module_version": "1.2.0",
      "model_name": "LayoutModel",
      "state": {
       "height": "32px",
       "order": "-2",
       "width": "32px"
      }
     },
     "6ecea21f61f94871aced1e0283114628": {
      "model_module": "@jupyter-widgets/controls",
      "model_module_version": "1.5.0",
      "model_name": "ButtonStyleModel",
      "state": {}
     },
     "6ef866f62af5449f98757b6eef4cf322": {
      "model_module": "@jupyter-widgets/controls",
      "model_module_version": "1.5.0",
      "model_name": "IntProgressModel",
      "state": {
       "layout": "IPY_MODEL_f707dcc0c5044ab6af2eaeb4ec3edab7",
       "style": "IPY_MODEL_175928ebf6934dcf986176baa09b2265",
       "value": 30
      }
     },
     "6f4e5797fbc9463c96c68a6e5df092d8": {
      "model_module": "@jupyter-widgets/base",
      "model_module_version": "1.2.0",
      "model_name": "LayoutModel",
      "state": {}
     },
     "6fb91e280e0445c692aa28c4786d7a11": {
      "model_module": "@jupyter-widgets/controls",
      "model_module_version": "1.5.0",
      "model_name": "ButtonStyleModel",
      "state": {}
     },
     "6fc68b56529c41c89278f7f5f049e9e3": {
      "model_module": "@jupyter-widgets/controls",
      "model_module_version": "1.5.0",
      "model_name": "HBoxModel",
      "state": {
       "children": [
        "IPY_MODEL_4507911ff57149a4ba30bf2178cb1d89",
        "IPY_MODEL_dc619a5bd997496995dfd38b24c2a309",
        "IPY_MODEL_83e4881ec7a4499b85a07ef5bf8c1fb5",
        "IPY_MODEL_ce6dce3fa48b43948339da3e40f2bb08"
       ],
       "layout": "IPY_MODEL_5374deceda824251a280c93934a47867"
      }
     },
     "6fd40e38db424799bfadb856410a938a": {
      "model_module": "@jupyter-widgets/controls",
      "model_module_version": "1.5.0",
      "model_name": "ButtonModel",
      "state": {
       "button_style": "success",
       "description": "EDIT",
       "layout": "IPY_MODEL_7c7f041f7174492fa9231db50429469c",
       "style": "IPY_MODEL_20ed5f8547794ed29124626fd0a1186d"
      }
     },
     "6fddff0abe2340ebaab5dce77c55a6b2": {
      "model_module": "@jupyter-widgets/controls",
      "model_module_version": "1.5.0",
      "model_name": "ButtonStyleModel",
      "state": {}
     },
     "6fe3e4b6b90749fbaae141f2c6276c09": {
      "model_module": "@jupyter-widgets/controls",
      "model_module_version": "1.5.0",
      "model_name": "DescriptionStyleModel",
      "state": {
       "description_width": ""
      }
     },
     "6ff050e4a7d641208a308da1803e2e32": {
      "model_module": "@jupyter-widgets/controls",
      "model_module_version": "1.5.0",
      "model_name": "ButtonModel",
      "state": {
       "layout": "IPY_MODEL_5760167b9cc14faaa8ec950a4a85ad09",
       "style": "IPY_MODEL_38d401ed22d7401c8aadbafc157270f3"
      }
     },
     "7019f8b376ca43eba6e73bfc1959faee": {
      "model_module": "@jupyter-widgets/controls",
      "model_module_version": "1.5.0",
      "model_name": "ButtonModel",
      "state": {
       "layout": "IPY_MODEL_b4aacb1b9a214b138591a9daf11233c6",
       "style": "IPY_MODEL_e9faab2f1467459a9e2caa5f4dffa80a"
      }
     },
     "701fe6d6bb694220889a5d1743d45dc0": {
      "model_module": "@jupyter-widgets/base",
      "model_module_version": "1.2.0",
      "model_name": "LayoutModel",
      "state": {
       "display": "none",
       "width": "60px"
      }
     },
     "70334dd0c0a0458fbb73c4c09acedf26": {
      "model_module": "@jupyter-widgets/controls",
      "model_module_version": "1.5.0",
      "model_name": "ButtonModel",
      "state": {
       "description": "EDIT",
       "layout": "IPY_MODEL_5c5af82f25aa4e8eb39547e21dd97c39",
       "style": "IPY_MODEL_d4cd9b0f1d4e400b9221fe59643764f0"
      }
     },
     "704dfd504cc9423b92b271fded9eebd0": {
      "model_module": "@jupyter-widgets/controls",
      "model_module_version": "1.5.0",
      "model_name": "IntProgressModel",
      "state": {
       "layout": "IPY_MODEL_79da6b1f2ce2431996f86ccd3549784c",
       "style": "IPY_MODEL_de34988375154066bc1a047392f67009",
       "value": 30
      }
     },
     "706597c64a1544b0878f91b4bed6ef94": {
      "model_module": "@jupyter-widgets/controls",
      "model_module_version": "1.5.0",
      "model_name": "DescriptionStyleModel",
      "state": {
       "description_width": ""
      }
     },
     "7065c61337154b1ba12a492a6adee68d": {
      "model_module": "@jupyter-widgets/controls",
      "model_module_version": "1.5.0",
      "model_name": "HBoxModel",
      "state": {
       "children": [
        "IPY_MODEL_b4e2d804cfce42a7b7b479660dfe6f4d",
        "IPY_MODEL_04d5007ba6514ecb99ebec1fe83d49e5",
        "IPY_MODEL_b314139d86b24f6585b88d9f0742de34",
        "IPY_MODEL_71990239aa0b47a9b98514fea96d0dfc"
       ],
       "layout": "IPY_MODEL_15a78a9746fa472e9dfcd13bdbd3ba80"
      }
     },
     "70831f98ca94493987ba97e99a816199": {
      "model_module": "@jupyter-widgets/controls",
      "model_module_version": "1.5.0",
      "model_name": "DescriptionStyleModel",
      "state": {
       "description_width": ""
      }
     },
     "70b7f3ef26834dffa18e5ec705e7ae2e": {
      "model_module": "@jupyter-widgets/controls",
      "model_module_version": "1.5.0",
      "model_name": "ButtonModel",
      "state": {
       "description": "EDIT",
       "layout": "IPY_MODEL_9e206532b29948d59da5e495a8f2ed09",
       "style": "IPY_MODEL_881f1c1ea6164a8696293e1e380e5b71"
      }
     },
     "712766f0069b459081000fc63fbb27c5": {
      "model_module": "@jupyter-widgets/base",
      "model_module_version": "1.2.0",
      "model_name": "LayoutModel",
      "state": {
       "display": "none"
      }
     },
     "713378b6b24a4b06982344017746d4ba": {
      "model_module": "@jupyter-widgets/controls",
      "model_module_version": "1.5.0",
      "model_name": "HBoxModel",
      "state": {
       "children": [
        "IPY_MODEL_9779c623db2048ed97784cad29f05692",
        "IPY_MODEL_628ace6a8e2d4d968a64e72b925842f1",
        "IPY_MODEL_4faa7bcf301a4928b75534b6081fe7c7",
        "IPY_MODEL_3e5d7b6bbc444ba49be94d0a84d57871"
       ],
       "layout": "IPY_MODEL_06079b333c8240369d05148895d32554"
      }
     },
     "7141d5aa27f54ad98c4a6a2cdbe4d5b2": {
      "model_module": "@jupyter-widgets/controls",
      "model_module_version": "1.5.0",
      "model_name": "ButtonStyleModel",
      "state": {}
     },
     "7141fc52a32144dbbf7055a32dd911e7": {
      "model_module": "@jupyter-widgets/base",
      "model_module_version": "1.2.0",
      "model_name": "LayoutModel",
      "state": {
       "display": "flex",
       "width": "60px"
      }
     },
     "714ee84d6b124fc39b267f2579c346af": {
      "model_module": "@jupyter-widgets/base",
      "model_module_version": "1.2.0",
      "model_name": "LayoutModel",
      "state": {
       "display": "flex",
       "flex_flow": "row wrap"
      }
     },
     "7154137ae4e84be59f22a4fdc4a63e5b": {
      "model_module": "@jupyter-widgets/controls",
      "model_module_version": "1.5.0",
      "model_name": "ButtonStyleModel",
      "state": {}
     },
     "71700c2669ae416a9248e6d2f1630c10": {
      "model_module": "@jupyter-widgets/controls",
      "model_module_version": "1.5.0",
      "model_name": "IntProgressModel",
      "state": {
       "layout": "IPY_MODEL_4af6fa2904f6483e9ccbd4027b5b0230",
       "style": "IPY_MODEL_b8a41e4317ce469eb70f413a4dbbb190",
       "value": 30
      }
     },
     "719168724b8c4fea8d3ee455cc0affdb": {
      "model_module": "@jupyter-widgets/controls",
      "model_module_version": "1.5.0",
      "model_name": "HBoxModel",
      "state": {
       "children": [
        "IPY_MODEL_8a914b41bf914723ad947cbf2d001f6f",
        "IPY_MODEL_c18bf57b7a424827b861837ac22d19d1",
        "IPY_MODEL_fe297bb2b36848adab74f17c106cbe9e",
        "IPY_MODEL_70334dd0c0a0458fbb73c4c09acedf26"
       ],
       "layout": "IPY_MODEL_20c9d6b8d8204d058b7f3c9900bada7d"
      }
     },
     "71990239aa0b47a9b98514fea96d0dfc": {
      "model_module": "@jupyter-widgets/controls",
      "model_module_version": "1.5.0",
      "model_name": "ButtonModel",
      "state": {
       "description": "EDIT",
       "layout": "IPY_MODEL_ff17d01d0de84289891ae3b10944f971",
       "style": "IPY_MODEL_908586ee692548a3a5c5f26b22ebf2ec"
      }
     },
     "7213478595d84da49c19b24e07ee215a": {
      "model_module": "@jupyter-widgets/controls",
      "model_module_version": "1.5.0",
      "model_name": "HBoxModel",
      "state": {
       "children": [
        "IPY_MODEL_981869ef35404ff3acd9c95d57ae74e9",
        "IPY_MODEL_4457aeb27ad94c02b843724eebd7b221",
        "IPY_MODEL_e152bbd7a24b46af94c6f1c3a60aeea1",
        "IPY_MODEL_7a5516929e9f4c6f8ead36ebabdc45bf"
       ],
       "layout": "IPY_MODEL_a2e1e4ee26b440cfb5dafd32f15de3d2"
      }
     },
     "72312f0ab14a4ede895cefd50b7689c0": {
      "model_module": "@jupyter-widgets/base",
      "model_module_version": "1.2.0",
      "model_name": "LayoutModel",
      "state": {
       "order": "-1",
       "overflow": "visible",
       "padding": "1px",
       "width": "0px"
      }
     },
     "72602825b49b46dea9184f186fe0d744": {
      "model_module": "@jupyter-widgets/controls",
      "model_module_version": "1.5.0",
      "model_name": "HTMLModel",
      "state": {
       "layout": "IPY_MODEL_4dfb287e277e45ceb033794cdd103674",
       "style": "IPY_MODEL_8e87f8c3db2842e99e6aafda65751dea",
       "value": "<font size=\"1\">Triumphs/Lore/The Light/The Man They Call Cayde/Bad Beat</font size=>"
      }
     },
     "72664027ec64432ea1f522059341bc51": {
      "model_module": "@jupyter-widgets/controls",
      "model_module_version": "1.5.0",
      "model_name": "ProgressStyleModel",
      "state": {
       "description_width": ""
      }
     },
     "729b58dd031942a983dd4477a42d4fd7": {
      "model_module": "@jupyter-widgets/controls",
      "model_module_version": "1.5.0",
      "model_name": "ButtonStyleModel",
      "state": {}
     },
     "72bb886bb1fc49248a92a4fec70c3ebb": {
      "model_module": "@jupyter-widgets/controls",
      "model_module_version": "1.5.0",
      "model_name": "ButtonModel",
      "state": {
       "layout": "IPY_MODEL_2cad5632a26f455d8606e768c6f91c5d",
       "style": "IPY_MODEL_f1c918f6ba984d99aaf374c874725057"
      }
     },
     "72d0cec49012468d8412a3f6bff566d8": {
      "model_module": "@jupyter-widgets/base",
      "model_module_version": "1.2.0",
      "model_name": "LayoutModel",
      "state": {}
     },
     "731005254dc64bb0ad2848d1b078d392": {
      "model_module": "@jupyter-widgets/controls",
      "model_module_version": "1.5.0",
      "model_name": "ButtonModel",
      "state": {
       "description": "EDIT",
       "layout": "IPY_MODEL_e10f94a95f474bf5a4084fce658fde16",
       "style": "IPY_MODEL_8cc6dd592db74db3a190441c5d8f3607"
      }
     },
     "733242b87b3a46d1b0cee98322554c3f": {
      "model_module": "@jupyter-widgets/controls",
      "model_module_version": "1.5.0",
      "model_name": "IntProgressModel",
      "state": {
       "layout": "IPY_MODEL_e376e6571fb2453c982c870e7ea43e57",
       "style": "IPY_MODEL_4e27c84a028240daa0bf6063dab2ddf6",
       "value": 30
      }
     },
     "7338d475259c4d6b8810fed68b6f822e": {
      "model_module": "@jupyter-widgets/controls",
      "model_module_version": "1.5.0",
      "model_name": "DescriptionStyleModel",
      "state": {
       "description_width": ""
      }
     },
     "7362b241cff247c59c7d6855e9140792": {
      "model_module": "@jupyter-widgets/base",
      "model_module_version": "1.2.0",
      "model_name": "LayoutModel",
      "state": {
       "height": "32px",
       "order": "-2",
       "width": "32px"
      }
     },
     "7362b7df454545e6b5e068e96d2877f8": {
      "model_module": "@jupyter-widgets/base",
      "model_module_version": "1.2.0",
      "model_name": "LayoutModel",
      "state": {
       "align_items": "stretch",
       "display": "flex",
       "flex_flow": "row wrap"
      }
     },
     "736b42e4f9ae4089843953ac5c138e93": {
      "model_module": "@jupyter-widgets/controls",
      "model_module_version": "1.5.0",
      "model_name": "DescriptionStyleModel",
      "state": {
       "description_width": ""
      }
     },
     "736c4182bca745a5ae5422e304791bf0": {
      "model_module": "@jupyter-widgets/base",
      "model_module_version": "1.2.0",
      "model_name": "LayoutModel",
      "state": {
       "height": "32px",
       "overflow": "visible",
       "width": "100%"
      }
     },
     "7379e37d36fe42e087e5f657caa0543a": {
      "model_module": "@jupyter-widgets/controls",
      "model_module_version": "1.5.0",
      "model_name": "ButtonStyleModel",
      "state": {}
     },
     "739ccaba848b4e73a5dd3a9db8bbf2e9": {
      "model_module": "@jupyter-widgets/controls",
      "model_module_version": "1.5.0",
      "model_name": "ButtonModel",
      "state": {
       "button_style": "success",
       "description": "EDIT",
       "layout": "IPY_MODEL_b6a06a9fe9e448a1bacf9dec90c7a3ad",
       "style": "IPY_MODEL_ac38725ad5e647ffbcac7d935571da0a"
      }
     },
     "73ea0c281f2246aba709fcdd1220e40c": {
      "model_module": "@jupyter-widgets/base",
      "model_module_version": "1.2.0",
      "model_name": "LayoutModel",
      "state": {
       "width": "186px"
      }
     },
     "7427e0a01e534a679c38449a9fc9db65": {
      "model_module": "@jupyter-widgets/controls",
      "model_module_version": "1.5.0",
      "model_name": "LabelModel",
      "state": {
       "layout": "IPY_MODEL_9fc075efc6bb4291be6471755fc3cfbc",
       "style": "IPY_MODEL_1d5e0046b0d14495b59da26052a5fad0",
       "value": "   objective"
      }
     },
     "7432abbd6a2b4cffb98bc347fa5c8130": {
      "model_module": "@jupyter-widgets/controls",
      "model_module_version": "1.5.0",
      "model_name": "ButtonModel",
      "state": {
       "layout": "IPY_MODEL_92ead2c3db0c4865a0d294ff901d6f07",
       "style": "IPY_MODEL_b752a7fac3e64b2cbf54b81b196e63bd"
      }
     },
     "743a27f42adf43d9b84c7fd171138a03": {
      "model_module": "@jupyter-widgets/base",
      "model_module_version": "1.2.0",
      "model_name": "LayoutModel",
      "state": {
       "display": "flex"
      }
     },
     "744da5eff2704e7fa7161ba6cc2732b6": {
      "model_module": "@jupyter-widgets/base",
      "model_module_version": "1.2.0",
      "model_name": "LayoutModel",
      "state": {
       "height": "32px",
       "order": "-2",
       "width": "32px"
      }
     },
     "745944fd587940328c8633ab2b1168f5": {
      "model_module": "@jupyter-widgets/controls",
      "model_module_version": "1.5.0",
      "model_name": "LabelModel",
      "state": {
       "layout": "IPY_MODEL_41759a8a18bc403e96d34c10ddaa5525",
       "style": "IPY_MODEL_6b749dc61a3a45f5a15f86396bf7701e",
       "value": "   objective"
      }
     },
     "745d523f1cfe4e0fbf082e8af99d8b31": {
      "model_module": "@jupyter-widgets/base",
      "model_module_version": "1.2.0",
      "model_name": "LayoutModel",
      "state": {
       "width": "100px"
      }
     },
     "74a061b512c64d1ca10bc415f1e7df43": {
      "model_module": "@jupyter-widgets/controls",
      "model_module_version": "1.5.0",
      "model_name": "HTMLModel",
      "state": {
       "layout": "IPY_MODEL_7eee23e791a34f5ebf03c3dddeffd9ff",
       "style": "IPY_MODEL_21f9583f7f694bb4b4b23c44994831d4",
       "value": "<i></i>"
      }
     },
     "74a10c5fac9741beb2bdf9d04338897d": {
      "model_module": "@jupyter-widgets/controls",
      "model_module_version": "1.5.0",
      "model_name": "HBoxModel",
      "state": {
       "children": [
        "IPY_MODEL_5b48f60b4387471d870a6944723a6f3c",
        "IPY_MODEL_63888cf3a5064e6291391e6f86c8d7a0",
        "IPY_MODEL_ec1df332a0494ab6a4d2e528d4eb9f4e",
        "IPY_MODEL_374bdfb5569248ac8e30effbdfe73907"
       ],
       "layout": "IPY_MODEL_1d1da72a1f47472482854abbe9fdc1eb"
      }
     },
     "74cb4906f936432398d9faa2fe72af3f": {
      "model_module": "@jupyter-widgets/controls",
      "model_module_version": "1.5.0",
      "model_name": "LabelModel",
      "state": {
       "layout": "IPY_MODEL_b5a111f42147476c86c99f035e8adfaf",
       "style": "IPY_MODEL_e8424d7fb34d43d08ab6ce811ef1a1e7",
       "value": "Loading Data (Interface)...."
      }
     },
     "74f6617b50344c01a50dcca6e4436fbf": {
      "model_module": "@jupyter-widgets/controls",
      "model_module_version": "1.5.0",
      "model_name": "HBoxModel",
      "state": {
       "children": [
        "IPY_MODEL_aa76ce45ed2f48ecb58c2c3071543562",
        "IPY_MODEL_1aeeca7d55af4154a5505f254ed6debf",
        "IPY_MODEL_2265c997c1d448148aec806f8af3306b",
        "IPY_MODEL_50090e2c1c7a43f5b1a288f44571419d"
       ],
       "layout": "IPY_MODEL_80fec264e3f846d49f242f43bb59605b"
      }
     },
     "75972fa0140646128a2dfba25af024f8": {
      "model_module": "@jupyter-widgets/controls",
      "model_module_version": "1.5.0",
      "model_name": "IntProgressModel",
      "state": {
       "layout": "IPY_MODEL_42145cfdc5e64a35ad2e770aceb17cb8",
       "style": "IPY_MODEL_22227c3887294c48b128584ec05ffa51",
       "value": 30
      }
     },
     "75b90f5d1b7b4eba93b2b63d2f26d588": {
      "model_module": "@jupyter-widgets/base",
      "model_module_version": "1.2.0",
      "model_name": "LayoutModel",
      "state": {
       "display": "none"
      }
     },
     "7646fa53953545ee89efb54be9cd7c38": {
      "model_module": "@jupyter-widgets/controls",
      "model_module_version": "1.5.0",
      "model_name": "VBoxModel",
      "state": {
       "children": [
        "IPY_MODEL_7be4c3056fcf467c96821cf40e165c10",
        "IPY_MODEL_2d2192af52ef4028822f577247d944db",
        "IPY_MODEL_0d34b79d11f54b14acd3f4c1daf6cb42",
        "IPY_MODEL_6fc68b56529c41c89278f7f5f049e9e3",
        "IPY_MODEL_76bbaab09ab74fcc96a0ee2d3dcae08a",
        "IPY_MODEL_84990177240f43be97178eda7fe8585d"
       ],
       "layout": "IPY_MODEL_5d0dde5dc75343cf8b5df541459331c8"
      }
     },
     "7661dabab222425a80494074b1ec07bb": {
      "model_module": "@jupyter-widgets/controls",
      "model_module_version": "1.5.0",
      "model_name": "HBoxModel",
      "state": {
       "children": [
        "IPY_MODEL_cb5a7df6338a40a88b9a238cc73903fd",
        "IPY_MODEL_20ecf53aada74488862ea39a57cf6a0d",
        "IPY_MODEL_aa07b80253da4033b5b1c33e923537ba",
        "IPY_MODEL_79835fc530b54da4b2da628856efeea1"
       ],
       "layout": "IPY_MODEL_a3cbe2b370c74f4387717c64946d81b3"
      }
     },
     "76903e1af3a64a47b900991e8642704f": {
      "model_module": "@jupyter-widgets/controls",
      "model_module_version": "1.5.0",
      "model_name": "ButtonModel",
      "state": {
       "layout": "IPY_MODEL_9f7378ce7709446d8bf274790b4010a2",
       "style": "IPY_MODEL_7c79b642f3ae490b95245a4dad29834a"
      }
     },
     "76bbaab09ab74fcc96a0ee2d3dcae08a": {
      "model_module": "@jupyter-widgets/controls",
      "model_module_version": "1.5.0",
      "model_name": "HBoxModel",
      "state": {
       "children": [
        "IPY_MODEL_7432abbd6a2b4cffb98bc347fa5c8130",
        "IPY_MODEL_d4b2bee90dcf4f9aab24563d9ee66de8",
        "IPY_MODEL_3f382902a5274e098b0dd50f2cafecce",
        "IPY_MODEL_8e88c1ffd0c04893bf4a54101c039e2f"
       ],
       "layout": "IPY_MODEL_c32ba33dced94491a4e1fe0be1b9999d"
      }
     },
     "76db2cebca2d40b09e24a599a3132f20": {
      "model_module": "@jupyter-widgets/base",
      "model_module_version": "1.2.0",
      "model_name": "LayoutModel",
      "state": {
       "display": "none",
       "width": "60px"
      }
     },
     "76dbc7eead6d4d939d0ba3795f1dd0c3": {
      "model_module": "@jupyter-widgets/base",
      "model_module_version": "1.2.0",
      "model_name": "LayoutModel",
      "state": {
       "order": "-1",
       "overflow": "visible",
       "padding": "1px",
       "width": "0px"
      }
     },
     "76ea4924ff244a02941d857bbc1218dc": {
      "model_module": "@jupyter-widgets/controls",
      "model_module_version": "1.5.0",
      "model_name": "ProgressStyleModel",
      "state": {
       "description_width": ""
      }
     },
     "7710b013cd5c4843837b33c5003dc23e": {
      "model_module": "@jupyter-widgets/base",
      "model_module_version": "1.2.0",
      "model_name": "LayoutModel",
      "state": {
       "display": "none"
      }
     },
     "772f9c502bb44c4cba13406042331b0c": {
      "model_module": "@jupyter-widgets/controls",
      "model_module_version": "1.5.0",
      "model_name": "ProgressStyleModel",
      "state": {
       "description_width": ""
      }
     },
     "77415092334b45168e9861751d5ad943": {
      "model_module": "@jupyter-widgets/controls",
      "model_module_version": "1.5.0",
      "model_name": "LabelModel",
      "state": {
       "layout": "IPY_MODEL_117b0c07170b477b9301a69254ac746d",
       "style": "IPY_MODEL_a85b24ee37d8449c8a0b6fda8012e245",
       "value": "   objective"
      }
     },
     "77467d6175f54892a6545d6ea3403c72": {
      "model_module": "@jupyter-widgets/base",
      "model_module_version": "1.2.0",
      "model_name": "LayoutModel",
      "state": {
       "height": "32px",
       "order": "-2",
       "width": "32px"
      }
     },
     "775372098f014b32adf4aabc09c19956": {
      "model_module": "@jupyter-widgets/controls",
      "model_module_version": "1.5.0",
      "model_name": "LabelModel",
      "state": {
       "layout": "IPY_MODEL_fa3489544f3849edbbd33cbc55b0d5ae",
       "style": "IPY_MODEL_f8d779716b49470aaf84c4aff430599d",
       "value": "   objective"
      }
     },
     "775933f16f7c4696a655e393ff5574f2": {
      "model_module": "@jupyter-widgets/controls",
      "model_module_version": "1.5.0",
      "model_name": "LabelModel",
      "state": {
       "layout": "IPY_MODEL_4dac43b294ca420f8db32878f8e1f8ed",
       "style": "IPY_MODEL_1fe54c56601243588a669179a9350b91",
       "value": "   objective"
      }
     },
     "77673ef7c4ae48298112bc724a3dd48b": {
      "model_module": "@jupyter-widgets/base",
      "model_module_version": "1.2.0",
      "model_name": "LayoutModel",
      "state": {
       "display": "none",
       "width": "60px"
      }
     },
     "7791eb7c79054d6b9556d224198b6f1e": {
      "model_module": "@jupyter-widgets/base",
      "model_module_version": "1.2.0",
      "model_name": "LayoutModel",
      "state": {
       "display": "none",
       "width": "60px"
      }
     },
     "77fda97ac5394600963614aca36cc2c6": {
      "model_module": "@jupyter-widgets/controls",
      "model_module_version": "1.5.0",
      "model_name": "ButtonStyleModel",
      "state": {}
     },
     "783076011d4446478eca1659dc56f25c": {
      "model_module": "@jupyter-widgets/controls",
      "model_module_version": "1.5.0",
      "model_name": "ProgressStyleModel",
      "state": {
       "description_width": ""
      }
     },
     "784aff25cdc347d888d61dc2bd10db0e": {
      "model_module": "@jupyter-widgets/base",
      "model_module_version": "1.2.0",
      "model_name": "LayoutModel",
      "state": {
       "border": "",
       "width": "98%"
      }
     },
     "784c32ec5d1a4fde9a70eeb7551a7303": {
      "model_module": "@jupyter-widgets/base",
      "model_module_version": "1.2.0",
      "model_name": "LayoutModel",
      "state": {}
     },
     "7857993a70a14e2da8f3bef3b75f8279": {
      "model_module": "@jupyter-widgets/controls",
      "model_module_version": "1.5.0",
      "model_name": "ButtonModel",
      "state": {
       "description": "EDIT",
       "layout": "IPY_MODEL_4170347aed8a4fe5bb57fc4e45434257",
       "style": "IPY_MODEL_6ecea21f61f94871aced1e0283114628"
      }
     },
     "7867635ca3254f7a9d8d886b253f6303": {
      "model_module": "@jupyter-widgets/controls",
      "model_module_version": "1.5.0",
      "model_name": "ButtonStyleModel",
      "state": {}
     },
     "790b861335684833a8be45a308bfcb92": {
      "model_module": "@jupyter-widgets/base",
      "model_module_version": "1.2.0",
      "model_name": "LayoutModel",
      "state": {
       "height": "32px",
       "overflow": "visible",
       "width": "100%"
      }
     },
     "79835fc530b54da4b2da628856efeea1": {
      "model_module": "@jupyter-widgets/controls",
      "model_module_version": "1.5.0",
      "model_name": "ButtonModel",
      "state": {
       "description": "EDIT",
       "layout": "IPY_MODEL_d08356db9e1444efb27c2f3ed1a3e1d8",
       "style": "IPY_MODEL_168e0c0ee9e64af8bf4f79aa8a1b58f4"
      }
     },
     "799a0378102c4633a1a53c740be1c996": {
      "model_module": "@jupyter-widgets/controls",
      "model_module_version": "1.5.0",
      "model_name": "DescriptionStyleModel",
      "state": {
       "description_width": ""
      }
     },
     "79a10140d2dd4038b27dfb1b5ae77291": {
      "model_module": "@jupyter-widgets/controls",
      "model_module_version": "1.5.0",
      "model_name": "ButtonStyleModel",
      "state": {}
     },
     "79b9fbbf4ef4471ca391f92ce12bc526": {
      "model_module": "@jupyter-widgets/base",
      "model_module_version": "1.2.0",
      "model_name": "LayoutModel",
      "state": {
       "height": "32px",
       "overflow": "visible",
       "width": "100%"
      }
     },
     "79c63713959b48a99c5c73403b377cb3": {
      "model_module": "@jupyter-widgets/controls",
      "model_module_version": "1.5.0",
      "model_name": "HBoxModel",
      "state": {
       "children": [
        "IPY_MODEL_e66f76df2eb749fc8ea3bc21a38a01c0",
        "IPY_MODEL_75972fa0140646128a2dfba25af024f8",
        "IPY_MODEL_b6e1402c27d14041bda02c43dbbc63bc",
        "IPY_MODEL_8924bdb196ae472e9593692ee0f8fc49"
       ],
       "layout": "IPY_MODEL_574ab712bbe34f6186e43368452db819"
      }
     },
     "79c9490ece8b43df947506f62ca1b273": {
      "model_module": "@jupyter-widgets/controls",
      "model_module_version": "1.5.0",
      "model_name": "LabelModel",
      "state": {
       "layout": "IPY_MODEL_6b9323a381e041fa8e07b1f8a815ff02",
       "style": "IPY_MODEL_04eb938ce2db407aa8047502c1c45d01",
       "value": "   objective"
      }
     },
     "79da6b1f2ce2431996f86ccd3549784c": {
      "model_module": "@jupyter-widgets/base",
      "model_module_version": "1.2.0",
      "model_name": "LayoutModel",
      "state": {
       "height": "32px",
       "overflow": "visible",
       "width": "100%"
      }
     },
     "79de67d287974e829700490e2a45d9f8": {
      "model_module": "@jupyter-widgets/base",
      "model_module_version": "1.2.0",
      "model_name": "LayoutModel",
      "state": {
       "display": "none"
      }
     },
     "7a264dd3905b47bd89eb193955de3349": {
      "model_module": "@jupyter-widgets/base",
      "model_module_version": "1.2.0",
      "model_name": "LayoutModel",
      "state": {
       "order": "-1",
       "overflow": "visible",
       "padding": "1px",
       "width": "0px"
      }
     },
     "7a51b37093c4470983dc5de78878d8ef": {
      "model_module": "@jupyter-widgets/controls",
      "model_module_version": "1.5.0",
      "model_name": "IntProgressModel",
      "state": {
       "layout": "IPY_MODEL_27bb9725ae3447f3aa66a99afb4b5cb6",
       "max": 5,
       "style": "IPY_MODEL_a0892e0bc81e49758c85122611912d78",
       "value": 2
      }
     },
     "7a5516929e9f4c6f8ead36ebabdc45bf": {
      "model_module": "@jupyter-widgets/controls",
      "model_module_version": "1.5.0",
      "model_name": "ButtonModel",
      "state": {
       "description": "EDIT",
       "layout": "IPY_MODEL_5df0669895d74fdcb40e9f71f65d98e8",
       "style": "IPY_MODEL_3c6c66bd80fa462abb3a978ea9dd0aa4"
      }
     },
     "7a73fd88e63d424db14ea1c66bad4d0c": {
      "model_module": "@jupyter-widgets/controls",
      "model_module_version": "1.5.0",
      "model_name": "ButtonStyleModel",
      "state": {}
     },
     "7a9305cd86cc458fb7bdd16572184ba7": {
      "model_module": "@jupyter-widgets/base",
      "model_module_version": "1.2.0",
      "model_name": "LayoutModel",
      "state": {
       "height": "32px",
       "order": "-2",
       "width": "32px"
      }
     },
     "7af03dd87daa44f09eae6fc786b10f2a": {
      "model_module": "@jupyter-widgets/base",
      "model_module_version": "1.2.0",
      "model_name": "LayoutModel",
      "state": {
       "display": "none",
       "width": "60px"
      }
     },
     "7b1d7836da2c44b8a45add8cf0938a48": {
      "model_module": "@jupyter-widgets/controls",
      "model_module_version": "1.5.0",
      "model_name": "LabelModel",
      "state": {
       "layout": "IPY_MODEL_5bd8f7ac1b554fdca9df722199609c5d",
       "style": "IPY_MODEL_9afc523e0bcb482bb2b510ab157bd4fa",
       "value": "     (1/1)"
      }
     },
     "7b3aee6ec949465e8ddcaca93fbefce5": {
      "model_module": "@jupyter-widgets/controls",
      "model_module_version": "1.5.0",
      "model_name": "LabelModel",
      "state": {
       "layout": "IPY_MODEL_a3ef703be6094200824dc1460d503193",
       "style": "IPY_MODEL_d0bff4d5319e4e958d7e08d4edffe252",
       "value": "   objective"
      }
     },
     "7b569cb8b38c4d978e6005bc62d41624": {
      "model_module": "@jupyter-widgets/base",
      "model_module_version": "1.2.0",
      "model_name": "LayoutModel",
      "state": {
       "display": "none"
      }
     },
     "7b70f213b29b4ce4b36128fabb377536": {
      "model_module": "@jupyter-widgets/controls",
      "model_module_version": "1.5.0",
      "model_name": "HBoxModel",
      "state": {
       "children": [
        "IPY_MODEL_dd735e38e0894a4cb767f2f4eaa949e1",
        "IPY_MODEL_008ed1c01b6b4ac7b96ddd3a79e47d07"
       ],
       "layout": "IPY_MODEL_43bdb7cf291c4c6ab48ded3cb29ad2bb"
      }
     },
     "7b9cdc55f4b84e0aa0a8e9f76edc47d3": {
      "model_module": "@jupyter-widgets/controls",
      "model_module_version": "1.5.0",
      "model_name": "ProgressStyleModel",
      "state": {
       "description_width": ""
      }
     },
     "7bbe0552c7484945becdc39ac42a3b1d": {
      "model_module": "@jupyter-widgets/controls",
      "model_module_version": "1.5.0",
      "model_name": "DescriptionStyleModel",
      "state": {
       "description_width": ""
      }
     },
     "7be4c3056fcf467c96821cf40e165c10": {
      "model_module": "@jupyter-widgets/controls",
      "model_module_version": "1.5.0",
      "model_name": "HBoxModel",
      "state": {
       "children": [
        "IPY_MODEL_b1bbd33008df4399b40f50fc93483788",
        "IPY_MODEL_3abbda4e994847baa9090f44dc95a131",
        "IPY_MODEL_7e65bf63d9924ab1bb58be5a61c5bd7d",
        "IPY_MODEL_8393e1bc161147d8be00d9d9867b8ec9"
       ],
       "layout": "IPY_MODEL_308cb520ce9e4113b1c1cdf4d11fae81"
      }
     },
     "7c03461a28334f199d8fa58862809f2b": {
      "model_module": "@jupyter-widgets/controls",
      "model_module_version": "1.5.0",
      "model_name": "ButtonStyleModel",
      "state": {}
     },
     "7c2d5b31cf9047f4b17bd1ada3f521e8": {
      "model_module": "@jupyter-widgets/controls",
      "model_module_version": "1.5.0",
      "model_name": "ButtonStyleModel",
      "state": {}
     },
     "7c79b642f3ae490b95245a4dad29834a": {
      "model_module": "@jupyter-widgets/controls",
      "model_module_version": "1.5.0",
      "model_name": "ButtonStyleModel",
      "state": {}
     },
     "7c7f041f7174492fa9231db50429469c": {
      "model_module": "@jupyter-widgets/base",
      "model_module_version": "1.2.0",
      "model_name": "LayoutModel",
      "state": {
       "display": "flex",
       "width": "60px"
      }
     },
     "7caee26fff52471ca914adfadd81df3d": {
      "model_module": "@jupyter-widgets/base",
      "model_module_version": "1.2.0",
      "model_name": "LayoutModel",
      "state": {
       "display": "none",
       "width": "60px"
      }
     },
     "7d19ff2df16842d39861d2891beff725": {
      "model_module": "@jupyter-widgets/base",
      "model_module_version": "1.2.0",
      "model_name": "LayoutModel",
      "state": {
       "height": "32px",
       "overflow": "visible",
       "width": "100%"
      }
     },
     "7d459801355e405d8a18df13be341a58": {
      "model_module": "@jupyter-widgets/controls",
      "model_module_version": "1.5.0",
      "model_name": "IntProgressModel",
      "state": {
       "layout": "IPY_MODEL_d631cc49003f436491ea4bfdcba73701",
       "style": "IPY_MODEL_496ed330366447cea3405dd6fa809f23",
       "value": 30
      }
     },
     "7db245e96aac412282c762d3d2578890": {
      "model_module": "@jupyter-widgets/controls",
      "model_module_version": "1.5.0",
      "model_name": "IntProgressModel",
      "state": {
       "bar_style": "success",
       "layout": "IPY_MODEL_2f703e0d88a34cf2980828872e05f92c",
       "max": 1,
       "style": "IPY_MODEL_c493e372c4ed43ce925f63cb9c828605",
       "value": 1
      }
     },
     "7e19d01c5e6b4018a88dffe109ade77d": {
      "model_module": "@jupyter-widgets/controls",
      "model_module_version": "1.5.0",
      "model_name": "HTMLModel",
      "state": {
       "layout": "IPY_MODEL_9ee2cf1c1c42484babff1c09068277ac",
       "style": "IPY_MODEL_b028471581af43e6ae24d2f8fd21b7e2",
       "value": "<font size=\"1\">Triumphs/Lore/The Light/Dust/The Declaration</font size=>"
      }
     },
     "7e353b90ef4545c2a09d646ecd05284e": {
      "model_module": "@jupyter-widgets/controls",
      "model_module_version": "1.5.0",
      "model_name": "DescriptionStyleModel",
      "state": {
       "description_width": ""
      }
     },
     "7e415eaae010454e8917ffbb14d73eae": {
      "model_module": "@jupyter-widgets/controls",
      "model_module_version": "1.5.0",
      "model_name": "DescriptionStyleModel",
      "state": {
       "description_width": ""
      }
     },
     "7e47ab8695534dedaf78fe3aacacdd90": {
      "model_module": "@jupyter-widgets/controls",
      "model_module_version": "1.5.0",
      "model_name": "IntProgressModel",
      "state": {
       "layout": "IPY_MODEL_ba127c02052349618b9ca8d318b69248",
       "style": "IPY_MODEL_1d3c8ecd0e334c4a98b9a9ed6930bdd5",
       "value": 30
      }
     },
     "7e65bf63d9924ab1bb58be5a61c5bd7d": {
      "model_module": "@jupyter-widgets/controls",
      "model_module_version": "1.5.0",
      "model_name": "LabelModel",
      "state": {
       "layout": "IPY_MODEL_cfc3840892ed4e70bf307ad133e3d914",
       "style": "IPY_MODEL_a1748b7ab31346e18c8a6c65a1c68719",
       "value": "     (1/1)"
      }
     },
     "7e6b20a9a5b245ba970a4426166985c9": {
      "model_module": "@jupyter-widgets/base",
      "model_module_version": "1.2.0",
      "model_name": "LayoutModel",
      "state": {
       "display": "none",
       "width": "95%"
      }
     },
     "7e7ae389c54e440b9040aa0e90e365f6": {
      "model_module": "@jupyter-widgets/controls",
      "model_module_version": "1.5.0",
      "model_name": "DescriptionStyleModel",
      "state": {
       "description_width": ""
      }
     },
     "7e85778ac8ec4166a44371dcf3d56860": {
      "model_module": "@jupyter-widgets/controls",
      "model_module_version": "1.5.0",
      "model_name": "HTMLModel",
      "state": {
       "layout": "IPY_MODEL_81bc34a5715e4baa9ce4403ab595a567",
       "style": "IPY_MODEL_7e7ae389c54e440b9040aa0e90e365f6",
       "value": "<font size=\"5\"><b>Bad Beat</b></font size=>"
      }
     },
     "7eb049d7194c46aa9c346bc7e61f7bfa": {
      "model_module": "@jupyter-widgets/controls",
      "model_module_version": "1.5.0",
      "model_name": "DescriptionStyleModel",
      "state": {
       "description_width": ""
      }
     },
     "7eb16511597049d898e77e1ae39c158c": {
      "model_module": "@jupyter-widgets/controls",
      "model_module_version": "1.5.0",
      "model_name": "HBoxModel",
      "state": {
       "children": [
        "IPY_MODEL_82aba66fef4f41a4a49aa77ecddfb922",
        "IPY_MODEL_56c129249e714f6a8974d6cae4a45209",
        "IPY_MODEL_36c383458eb546cabb4ac0dc72b0031b",
        "IPY_MODEL_99efffcde62e46bd9d00ed7e2e9ca2ed"
       ],
       "layout": "IPY_MODEL_398fe215caa749199811d40aec7d18e7"
      }
     },
     "7ebb57eab6664130ae1fdd7b68ee45d3": {
      "model_module": "@jupyter-widgets/base",
      "model_module_version": "1.2.0",
      "model_name": "LayoutModel",
      "state": {
       "display": "flex",
       "width": "60px"
      }
     },
     "7ec77c4444d34266a7d57cb474ceebb7": {
      "model_module": "@jupyter-widgets/base",
      "model_module_version": "1.2.0",
      "model_name": "LayoutModel",
      "state": {
       "order": "-1",
       "overflow": "visible",
       "padding": "1px",
       "width": "0px"
      }
     },
     "7ec98307af27477baecf0cc8e299a3d3": {
      "model_module": "@jupyter-widgets/controls",
      "model_module_version": "1.5.0",
      "model_name": "HTMLModel",
      "state": {
       "layout": "IPY_MODEL_258d455fd208494bafd333edce058224",
       "style": "IPY_MODEL_802c110fafbd4e45ae702fc6be01d97c",
       "value": "<i></i>"
      }
     },
     "7eee23e791a34f5ebf03c3dddeffd9ff": {
      "model_module": "@jupyter-widgets/base",
      "model_module_version": "1.2.0",
      "model_name": "LayoutModel",
      "state": {
       "display": "flex",
       "flex_flow": "row wrap"
      }
     },
     "7f1152885d0a4c2bab4a053925cfb529": {
      "model_module": "@jupyter-widgets/base",
      "model_module_version": "1.2.0",
      "model_name": "LayoutModel",
      "state": {
       "order": "-1",
       "overflow": "visible",
       "padding": "1px",
       "width": "0px"
      }
     },
     "7f66ff05b5ee4d4c83a84005b4c3046a": {
      "model_module": "@jupyter-widgets/controls",
      "model_module_version": "1.5.0",
      "model_name": "DescriptionStyleModel",
      "state": {
       "description_width": ""
      }
     },
     "7fae7644b07545129f750f323572dfde": {
      "model_module": "@jupyter-widgets/controls",
      "model_module_version": "1.5.0",
      "model_name": "HBoxModel",
      "state": {
       "children": [
        "IPY_MODEL_ba1672a4e5214041b4e341f237db6065",
        "IPY_MODEL_d654c13c61a349c1b53333137255f9c9",
        "IPY_MODEL_7b3aee6ec949465e8ddcaca93fbefce5",
        "IPY_MODEL_df9d985f7a44483f9667d5e2f6bcfafb"
       ],
       "layout": "IPY_MODEL_95e488e07c614b09a5640d22704eff36"
      }
     },
     "7fb5e08efdb145fca32af3fc2cca0c61": {
      "model_module": "@jupyter-widgets/controls",
      "model_module_version": "1.5.0",
      "model_name": "ButtonModel",
      "state": {
       "button_style": "success",
       "description": "EDIT",
       "layout": "IPY_MODEL_85aec773715d4827958337cbef7cce9a",
       "style": "IPY_MODEL_8bcb618cfa354de6af4c8dae5136042b"
      }
     },
     "7fbaba18a19348d8bbc02d0a7f35418b": {
      "model_module": "@jupyter-widgets/controls",
      "model_module_version": "1.5.0",
      "model_name": "HBoxModel",
      "state": {
       "children": [
        "IPY_MODEL_457d8941b8034fe0bd6784dd3389f41f",
        "IPY_MODEL_b284208f51cf49d58c2ecd3a75426dcc",
        "IPY_MODEL_55294f484cf847a0b63bb5460568d553",
        "IPY_MODEL_ca7d7b736f6a41efb32b22b8dc9b5091"
       ],
       "layout": "IPY_MODEL_7710b013cd5c4843837b33c5003dc23e"
      }
     },
     "7fd66c1ab37c47919b56bffad7d3ebfd": {
      "model_module": "@jupyter-widgets/controls",
      "model_module_version": "1.5.0",
      "model_name": "DropdownModel",
      "state": {
       "_options_labels": [
        "All"
       ],
       "index": 0,
       "layout": "IPY_MODEL_80b8145855c64d6485379f9cd9eba289",
       "style": "IPY_MODEL_6fe3e4b6b90749fbaae141f2c6276c09"
      }
     },
     "7ff95386168b4f2cac55f470059ff3f1": {
      "model_module": "@jupyter-widgets/base",
      "model_module_version": "1.2.0",
      "model_name": "LayoutModel",
      "state": {
       "height": "32px",
       "order": "-2",
       "width": "32px"
      }
     },
     "801a4d7afb6b48c88b41d5c9a2debade": {
      "model_module": "@jupyter-widgets/controls",
      "model_module_version": "1.5.0",
      "model_name": "ButtonModel",
      "state": {
       "description": "EDIT",
       "layout": "IPY_MODEL_dbf126fa19864915b52f023bc23ed191",
       "style": "IPY_MODEL_fdc9c3ced154471baf4298b4054a151b"
      }
     },
     "8024ac9fa669434b803b075de2f841ed": {
      "model_module": "@jupyter-widgets/controls",
      "model_module_version": "1.5.0",
      "model_name": "HBoxModel",
      "state": {
       "children": [
        "IPY_MODEL_edeea337080841fcbdae164b94d0f5c3",
        "IPY_MODEL_9bbe38fae35e4d29bbde29984df65874",
        "IPY_MODEL_1cbbeff2e29d4a4daf9d887ad9b1d48b",
        "IPY_MODEL_007f7d950b4440a484c73f43bc3635e5"
       ],
       "layout": "IPY_MODEL_359c847fa8174b4788c76743906facb2"
      }
     },
     "802c110fafbd4e45ae702fc6be01d97c": {
      "model_module": "@jupyter-widgets/controls",
      "model_module_version": "1.5.0",
      "model_name": "DescriptionStyleModel",
      "state": {
       "description_width": ""
      }
     },
     "804cdec7a8054a6186949c1216f32a08": {
      "model_module": "@jupyter-widgets/base",
      "model_module_version": "1.2.0",
      "model_name": "LayoutModel",
      "state": {
       "height": "32px",
       "order": "-2",
       "width": "32px"
      }
     },
     "80738bf76a6e4283a64d14f8886cc881": {
      "model_module": "@jupyter-widgets/controls",
      "model_module_version": "1.5.0",
      "model_name": "ButtonStyleModel",
      "state": {}
     },
     "80b8145855c64d6485379f9cd9eba289": {
      "model_module": "@jupyter-widgets/base",
      "model_module_version": "1.2.0",
      "model_name": "LayoutModel",
      "state": {
       "display": "none",
       "width": "95%"
      }
     },
     "80c240e80f784ab586c7312d44f2df58": {
      "model_module": "@jupyter-widgets/controls",
      "model_module_version": "1.5.0",
      "model_name": "DropdownModel",
      "state": {
       "_options_labels": [
        "Any"
       ],
       "disabled": true,
       "index": 0,
       "layout": "IPY_MODEL_784aff25cdc347d888d61dc2bd10db0e",
       "style": "IPY_MODEL_1f2a6322cfb049feb7090df53fd2ee93"
      }
     },
     "80d4af4d479e4ffea6c57959842b6edd": {
      "model_module": "@jupyter-widgets/controls",
      "model_module_version": "1.5.0",
      "model_name": "DescriptionStyleModel",
      "state": {
       "description_width": ""
      }
     },
     "80fec264e3f846d49f242f43bb59605b": {
      "model_module": "@jupyter-widgets/base",
      "model_module_version": "1.2.0",
      "model_name": "LayoutModel",
      "state": {
       "display": "none"
      }
     },
     "819b559913c14a7f9c5371485d7cf920": {
      "model_module": "@jupyter-widgets/base",
      "model_module_version": "1.2.0",
      "model_name": "LayoutModel",
      "state": {
       "height": "32px",
       "order": "-2",
       "width": "32px"
      }
     },
     "81a71dbdb7764dd7b43a67a198f7b4c8": {
      "model_module": "@jupyter-widgets/base",
      "model_module_version": "1.2.0",
      "model_name": "LayoutModel",
      "state": {}
     },
     "81bbad0d869d4fd5bcabd9882936a3ce": {
      "model_module": "@jupyter-widgets/controls",
      "model_module_version": "1.5.0",
      "model_name": "ButtonStyleModel",
      "state": {}
     },
     "81bc34a5715e4baa9ce4403ab595a567": {
      "model_module": "@jupyter-widgets/base",
      "model_module_version": "1.2.0",
      "model_name": "LayoutModel",
      "state": {
       "overflow": "visible",
       "width": "100%"
      }
     },
     "820c2a32faaa4f6e9d6c5f8a4a6ef8c1": {
      "model_module": "@jupyter-widgets/base",
      "model_module_version": "1.2.0",
      "model_name": "LayoutModel",
      "state": {
       "order": "-1",
       "overflow": "visible",
       "padding": "1px",
       "width": "0px"
      }
     },
     "82269150c6cc4b50bbd4ce5edf8735e6": {
      "model_module": "@jupyter-widgets/controls",
      "model_module_version": "1.5.0",
      "model_name": "DescriptionStyleModel",
      "state": {
       "description_width": ""
      }
     },
     "82aba66fef4f41a4a49aa77ecddfb922": {
      "model_module": "@jupyter-widgets/controls",
      "model_module_version": "1.5.0",
      "model_name": "ButtonModel",
      "state": {
       "layout": "IPY_MODEL_3b48bd136eb04232980af6abe7a6d9a4",
       "style": "IPY_MODEL_bfd4da3dce754a1f81c56a22ffd43ed5"
      }
     },
     "82bcf24835f745518920b24b79e3bbc2": {
      "model_module": "@jupyter-widgets/base",
      "model_module_version": "1.2.0",
      "model_name": "LayoutModel",
      "state": {
       "overflow": "visible",
       "width": "100%"
      }
     },
     "832b9a13af57490aa68b46b0a18afd1e": {
      "model_module": "@jupyter-widgets/controls",
      "model_module_version": "1.5.0",
      "model_name": "VBoxModel",
      "state": {
       "children": [
        "IPY_MODEL_a724089f5201482791ea29833cb4e2c9",
        "IPY_MODEL_111a4c574acc4cee9298dfe7fcf12322",
        "IPY_MODEL_b56301e097a443e6bd59c879cad9c58e",
        "IPY_MODEL_fc87dde4cfa745b1ba3be37087f28e51",
        "IPY_MODEL_850523898891456bae331d6f208407a3",
        "IPY_MODEL_28fc70abd27544a3b437b95e0cad73c0"
       ],
       "layout": "IPY_MODEL_64115604c416477c8f3d7f3873247561"
      }
     },
     "833c8676f8a54f17ba6511ad92dba0df": {
      "model_module": "@jupyter-widgets/base",
      "model_module_version": "1.2.0",
      "model_name": "LayoutModel",
      "state": {
       "display": "flex",
       "width": "60px"
      }
     },
     "833cff09081a4f4db60b848a0dd816c6": {
      "model_module": "@jupyter-widgets/controls",
      "model_module_version": "1.5.0",
      "model_name": "IntProgressModel",
      "state": {
       "layout": "IPY_MODEL_199dda32ce63418488de4630aa0ee0c1",
       "style": "IPY_MODEL_5e1e0beed61e4e01a0df70f32ad2bf38",
       "value": 30
      }
     },
     "8360a18003b54f38bcd962755aae9d04": {
      "model_module": "@jupyter-widgets/controls",
      "model_module_version": "1.5.0",
      "model_name": "ButtonStyleModel",
      "state": {}
     },
     "8374b3fdb31843988119afa90263dc91": {
      "model_module": "@jupyter-widgets/controls",
      "model_module_version": "1.5.0",
      "model_name": "DescriptionStyleModel",
      "state": {
       "description_width": ""
      }
     },
     "8393e1bc161147d8be00d9d9867b8ec9": {
      "model_module": "@jupyter-widgets/controls",
      "model_module_version": "1.5.0",
      "model_name": "ButtonModel",
      "state": {
       "description": "EDIT",
       "layout": "IPY_MODEL_852e9c99265c4c04ade86da1209fbf01",
       "style": "IPY_MODEL_dcab9d834b9545f9a53c637f105df05c"
      }
     },
     "83a1c6d25ec243acb6e880f891d51d8c": {
      "model_module": "@jupyter-widgets/controls",
      "model_module_version": "1.5.0",
      "model_name": "ProgressStyleModel",
      "state": {
       "description_width": ""
      }
     },
     "83a5b33450064f4392f76442a0a7aebc": {
      "model_module": "@jupyter-widgets/controls",
      "model_module_version": "1.5.0",
      "model_name": "HTMLModel",
      "state": {
       "layout": "IPY_MODEL_34cbe67774d94167a29206ecc5535567",
       "style": "IPY_MODEL_1187b357fb1c4a969b5c5ac3c3aa0997",
       "value": "<font size=\"1\">Triumphs/Lore/The Light/Dust/The Gate</font size=>"
      }
     },
     "83e4881ec7a4499b85a07ef5bf8c1fb5": {
      "model_module": "@jupyter-widgets/controls",
      "model_module_version": "1.5.0",
      "model_name": "LabelModel",
      "state": {
       "layout": "IPY_MODEL_4a2b39586c9a4dcd925c647bd2c64b30",
       "style": "IPY_MODEL_70831f98ca94493987ba97e99a816199",
       "value": "   objective"
      }
     },
     "841d70fbe9c74f0a9ddf2ee5ccaf1682": {
      "model_module": "@jupyter-widgets/controls",
      "model_module_version": "1.5.0",
      "model_name": "DescriptionStyleModel",
      "state": {
       "description_width": ""
      }
     },
     "84990177240f43be97178eda7fe8585d": {
      "model_module": "@jupyter-widgets/controls",
      "model_module_version": "1.5.0",
      "model_name": "HBoxModel",
      "state": {
       "children": [
        "IPY_MODEL_b8c5893e9da64d768a81462ec7aaddb6",
        "IPY_MODEL_f7395a60fab3440ca5a1d3fe110e6c40",
        "IPY_MODEL_04b9732cdb7b460ba74898178c1a9c66",
        "IPY_MODEL_9616b13af09345ef9aa4c56840a7913d"
       ],
       "layout": "IPY_MODEL_a3a4a78c607840f09b2d46d2d875f770"
      }
     },
     "849c021d47f64df78a98ae0cbf63dda0": {
      "model_module": "@jupyter-widgets/base",
      "model_module_version": "1.2.0",
      "model_name": "LayoutModel",
      "state": {
       "height": "32px",
       "overflow": "visible",
       "width": "100%"
      }
     },
     "84a162dd831e49ebb1bde52ea9508269": {
      "model_module": "@jupyter-widgets/controls",
      "model_module_version": "1.5.0",
      "model_name": "ButtonStyleModel",
      "state": {}
     },
     "84c49439cd5c4616af83459d8eccffea": {
      "model_module": "@jupyter-widgets/controls",
      "model_module_version": "1.5.0",
      "model_name": "DescriptionStyleModel",
      "state": {
       "description_width": ""
      }
     },
     "850523898891456bae331d6f208407a3": {
      "model_module": "@jupyter-widgets/controls",
      "model_module_version": "1.5.0",
      "model_name": "HBoxModel",
      "state": {
       "children": [
        "IPY_MODEL_0a4d8ec1233a498b8d6df67971f19ef5",
        "IPY_MODEL_5f7f4ad3fe9744bda344a4d5d0058221",
        "IPY_MODEL_11a48e4489f040929d2569c58e766943",
        "IPY_MODEL_b798a1c804be4b9b9ddbaa106bbb8b40"
       ],
       "layout": "IPY_MODEL_712766f0069b459081000fc63fbb27c5"
      }
     },
     "851dbabca6c3466985c6adf1342473fa": {
      "model_module": "@jupyter-widgets/controls",
      "model_module_version": "1.5.0",
      "model_name": "ButtonModel",
      "state": {
       "layout": "IPY_MODEL_819b559913c14a7f9c5371485d7cf920",
       "style": "IPY_MODEL_a427d67f07164e23970d5416acc70b08"
      }
     },
     "852e9c99265c4c04ade86da1209fbf01": {
      "model_module": "@jupyter-widgets/base",
      "model_module_version": "1.2.0",
      "model_name": "LayoutModel",
      "state": {
       "display": "flex",
       "width": "60px"
      }
     },
     "8550b583d987462cacbe8cae20d5ec68": {
      "model_module": "@jupyter-widgets/base",
      "model_module_version": "1.2.0",
      "model_name": "LayoutModel",
      "state": {}
     },
     "856f6ba3124841e8af50630d6ad963b3": {
      "model_module": "@jupyter-widgets/base",
      "model_module_version": "1.2.0",
      "model_name": "LayoutModel",
      "state": {
       "display": "none"
      }
     },
     "8581cbacab3f4d338b54cbd8a26a6aea": {
      "model_module": "@jupyter-widgets/controls",
      "model_module_version": "1.5.0",
      "model_name": "DescriptionStyleModel",
      "state": {
       "description_width": ""
      }
     },
     "8584d7c7385a44cbb0d98e77a9d4a297": {
      "model_module": "@jupyter-widgets/base",
      "model_module_version": "1.2.0",
      "model_name": "LayoutModel",
      "state": {
       "display": "none",
       "width": "60px"
      }
     },
     "85aec773715d4827958337cbef7cce9a": {
      "model_module": "@jupyter-widgets/base",
      "model_module_version": "1.2.0",
      "model_name": "LayoutModel",
      "state": {
       "display": "flex",
       "width": "60px"
      }
     },
     "85f3ea2677104d55bffc3efdb8fd59ad": {
      "model_module": "@jupyter-widgets/controls",
      "model_module_version": "1.5.0",
      "model_name": "ButtonModel",
      "state": {
       "description": "EDIT",
       "layout": "IPY_MODEL_9afec9b69be54c93a66ca35fbc31a2f1",
       "style": "IPY_MODEL_5db54350efbc47ddb3673a5b28917159"
      }
     },
     "8608950a7ced45d189fcd0a87dee323e": {
      "model_module": "@jupyter-widgets/base",
      "model_module_version": "1.2.0",
      "model_name": "LayoutModel",
      "state": {
       "height": "32px",
       "overflow": "visible",
       "width": "100%"
      }
     },
     "86127dda424b444884276cdbabbb06f2": {
      "model_module": "@jupyter-widgets/base",
      "model_module_version": "1.2.0",
      "model_name": "LayoutModel",
      "state": {
       "height": "32px",
       "overflow": "visible",
       "width": "100%"
      }
     },
     "8618ef4ea7c441f8b870f1242edc448c": {
      "model_module": "@jupyter-widgets/base",
      "model_module_version": "1.2.0",
      "model_name": "LayoutModel",
      "state": {
       "height": "32px",
       "order": "-2",
       "width": "32px"
      }
     },
     "8619d98fc6f04b9087bf35413cc666e4": {
      "model_module": "@jupyter-widgets/base",
      "model_module_version": "1.2.0",
      "model_name": "LayoutModel",
      "state": {
       "height": "32px",
       "order": "-2",
       "width": "32px"
      }
     },
     "86759b7d90c949a3999ef80922eaa78a": {
      "model_module": "@jupyter-widgets/controls",
      "model_module_version": "1.5.0",
      "model_name": "ButtonModel",
      "state": {
       "button_style": "success",
       "disabled": true,
       "layout": "IPY_MODEL_1cd462522a424fc1bb0a2f746a1ddc80",
       "style": "IPY_MODEL_b9039ff071ab4ac8913e61955a5014c0"
      }
     },
     "869b031a82ab4a2b827032d36fad3f00": {
      "model_module": "@jupyter-widgets/controls",
      "model_module_version": "1.5.0",
      "model_name": "HBoxModel",
      "state": {
       "children": [
        "IPY_MODEL_fa0f51e1ead84dc781726ae2607fdd09",
        "IPY_MODEL_7db245e96aac412282c762d3d2578890",
        "IPY_MODEL_00442bda87e04b5393e757a45bd85151",
        "IPY_MODEL_c964f11a160e41b1b9e961d53eeca7e0"
       ],
       "layout": "IPY_MODEL_699b0eb886654fba9fd3fd6dbe759cd0"
      }
     },
     "86d7796f01ac44cc8a9166d6ab78cc70": {
      "model_module": "@jupyter-widgets/base",
      "model_module_version": "1.2.0",
      "model_name": "LayoutModel",
      "state": {
       "height": "20px"
      }
     },
     "873babd07094426d8498bda2d8fbdc63": {
      "model_module": "@jupyter-widgets/base",
      "model_module_version": "1.2.0",
      "model_name": "LayoutModel",
      "state": {
       "border": "3px solid white",
       "display": "flex",
       "flex": "1 1 0%",
       "margin": "10px",
       "min_width": "400px",
       "overflow": "visible",
       "padding": "10px",
       "width": "auto"
      }
     },
     "87483c2b76a345b2bd715c76d032ea70": {
      "model_module": "@jupyter-widgets/controls",
      "model_module_version": "1.5.0",
      "model_name": "VBoxModel",
      "state": {
       "children": [
        "IPY_MODEL_e6b404d304c5496f8f66c6084d9fd053",
        "IPY_MODEL_6bd176619087438da3db8124be3a89ef",
        "IPY_MODEL_60af20bbd06a47df8ba08dbbfadd0b20",
        "IPY_MODEL_381c0cc36a5a4847822046ab4d304743"
       ],
       "layout": "IPY_MODEL_96d360bd307a4b6d9cadf3485ab10ada"
      }
     },
     "8762f513c7654929bce9a7c551376c24": {
      "model_module": "@jupyter-widgets/controls",
      "model_module_version": "1.5.0",
      "model_name": "ButtonStyleModel",
      "state": {}
     },
     "8764886775c54c369fcad300c4c1e3c7": {
      "model_module": "@jupyter-widgets/controls",
      "model_module_version": "1.5.0",
      "model_name": "ButtonModel",
      "state": {
       "layout": "IPY_MODEL_0210e9a8073742a09cb1e067b623510a",
       "style": "IPY_MODEL_e234657052b24e749532047f316c1398"
      }
     },
     "87efc0e56a3345ffbd75dd3cd37e7adb": {
      "model_module": "@jupyter-widgets/controls",
      "model_module_version": "1.5.0",
      "model_name": "LabelModel",
      "state": {
       "layout": "IPY_MODEL_593db509d85248869986f9b467f1845e",
       "style": "IPY_MODEL_888db18e19744427a905504cd62b293e",
       "value": "   objective"
      }
     },
     "87fbde6c23ba42d78efb96add8781989": {
      "model_module": "@jupyter-widgets/controls",
      "model_module_version": "1.5.0",
      "model_name": "HTMLModel",
      "state": {
       "layout": "IPY_MODEL_281e7795c3e0497081e993dfc1611fea",
       "style": "IPY_MODEL_a120bb6e49bb4bcdbe20f98c155c185d",
       "value": "<font size=\"1\">Triumphs/Lore/The Light/The Man They Call Cayde/Showdown</font size=>"
      }
     },
     "881f1c1ea6164a8696293e1e380e5b71": {
      "model_module": "@jupyter-widgets/controls",
      "model_module_version": "1.5.0",
      "model_name": "ButtonStyleModel",
      "state": {}
     },
     "88674d024a474ad5a83ccfe1aa1bbdcf": {
      "model_module": "@jupyter-widgets/controls",
      "model_module_version": "1.5.0",
      "model_name": "ButtonStyleModel",
      "state": {}
     },
     "888db18e19744427a905504cd62b293e": {
      "model_module": "@jupyter-widgets/controls",
      "model_module_version": "1.5.0",
      "model_name": "DescriptionStyleModel",
      "state": {
       "description_width": ""
      }
     },
     "889717b1f891400cbed083374b3da36c": {
      "model_module": "@jupyter-widgets/base",
      "model_module_version": "1.2.0",
      "model_name": "LayoutModel",
      "state": {
       "display": "none"
      }
     },
     "88fff7b58aa249f58745f73aec0503ea": {
      "model_module": "@jupyter-widgets/base",
      "model_module_version": "1.2.0",
      "model_name": "LayoutModel",
      "state": {
       "height": "32px",
       "order": "-2",
       "width": "32px"
      }
     },
     "89049c1cbd8540f1b5b5ece807e03cc6": {
      "model_module": "@jupyter-widgets/base",
      "model_module_version": "1.2.0",
      "model_name": "LayoutModel",
      "state": {
       "height": "32px",
       "order": "-2",
       "width": "32px"
      }
     },
     "8924bdb196ae472e9593692ee0f8fc49": {
      "model_module": "@jupyter-widgets/controls",
      "model_module_version": "1.5.0",
      "model_name": "ButtonModel",
      "state": {
       "description": "EDIT",
       "layout": "IPY_MODEL_ca9ac9cb5ca14fb2a54aaddde7bb56ef",
       "style": "IPY_MODEL_6cea76a8e83b4d21b6949f16865a1191"
      }
     },
     "8929c8d2b2874485b424b5702b1365a8": {
      "model_module": "@jupyter-widgets/base",
      "model_module_version": "1.2.0",
      "model_name": "LayoutModel",
      "state": {
       "display": "none"
      }
     },
     "89824aa1d59b4ac9ad46f3ede46e385a": {
      "model_module": "@jupyter-widgets/controls",
      "model_module_version": "1.5.0",
      "model_name": "ButtonModel",
      "state": {
       "description": "EDIT",
       "layout": "IPY_MODEL_689666735ca647369cdd1dfac07d9a25",
       "style": "IPY_MODEL_6a2d39f58ce846728eeecfc2ca5a6386"
      }
     },
     "89dc7193e45a450b9322cd1f69d94812": {
      "model_module": "@jupyter-widgets/controls",
      "model_module_version": "1.5.0",
      "model_name": "DropdownModel",
      "state": {
       "_options_labels": [
        "All"
       ],
       "index": 0,
       "layout": "IPY_MODEL_fdd4fd1d52de428c9e6f585b4b61b83e",
       "style": "IPY_MODEL_1ddd326d18f84177be27790758cc4505"
      }
     },
     "89f372268f2f4742960368c4d36cec97": {
      "model_module": "@jupyter-widgets/controls",
      "model_module_version": "1.5.0",
      "model_name": "IntProgressModel",
      "state": {
       "layout": "IPY_MODEL_cb670bfa2cfe4c139fd0eb5df2668b46",
       "style": "IPY_MODEL_3b44e63d0c0246bc81b971a83a58b685",
       "value": 30
      }
     },
     "8a2b3b8109734f44859e050e7ea4b078": {
      "model_module": "@jupyter-widgets/controls",
      "model_module_version": "1.5.0",
      "model_name": "HBoxModel",
      "state": {
       "children": [
        "IPY_MODEL_9b122240bc28492cb6a21a93956eca6b",
        "IPY_MODEL_e1057d469e9a42698caed7fd26a24267",
        "IPY_MODEL_ef9720c043534fc1a54d6815d8bc29a8",
        "IPY_MODEL_a2a2f29f80bc48e88be9aec0c602c162"
       ],
       "layout": "IPY_MODEL_e69587c6489a440599612985d363eeb2"
      }
     },
     "8a440627683d40fea8b86407771e1080": {
      "model_module": "@jupyter-widgets/base",
      "model_module_version": "1.2.0",
      "model_name": "LayoutModel",
      "state": {
       "display": "none",
       "width": "60px"
      }
     },
     "8a7e0c65e0a54b06811902685b2e74ce": {
      "model_module": "@jupyter-widgets/controls",
      "model_module_version": "1.5.0",
      "model_name": "ProgressStyleModel",
      "state": {
       "description_width": ""
      }
     },
     "8a914b41bf914723ad947cbf2d001f6f": {
      "model_module": "@jupyter-widgets/controls",
      "model_module_version": "1.5.0",
      "model_name": "ButtonModel",
      "state": {
       "layout": "IPY_MODEL_a5eea947ec41433ab06595c8be3c01eb",
       "style": "IPY_MODEL_1d47a330369248da99fb0c1c9366e7f3"
      }
     },
     "8aad0f8c6cc24c75af04bcc5b6dc4a54": {
      "model_module": "@jupyter-widgets/controls",
      "model_module_version": "1.5.0",
      "model_name": "IntProgressModel",
      "state": {
       "layout": "IPY_MODEL_79b9fbbf4ef4471ca391f92ce12bc526",
       "style": "IPY_MODEL_eb44b27026244134a04444c22e0635b9",
       "value": 30
      }
     },
     "8ae0ea5c9835450f9470f1a1e210911e": {
      "model_module": "@jupyter-widgets/base",
      "model_module_version": "1.2.0",
      "model_name": "LayoutModel",
      "state": {
       "width": "95%"
      }
     },
     "8b658a6daa654f74a405902321ebe958": {
      "model_module": "@jupyter-widgets/base",
      "model_module_version": "1.2.0",
      "model_name": "LayoutModel",
      "state": {
       "height": "32px",
       "overflow": "visible",
       "width": "100%"
      }
     },
     "8b6df432e00845bea338277979d8ada6": {
      "model_module": "@jupyter-widgets/controls",
      "model_module_version": "1.5.0",
      "model_name": "HTMLModel",
      "state": {
       "layout": "IPY_MODEL_0f0efdf786a94e00aa1e1e49bccfdde1",
       "style": "IPY_MODEL_a595989609044656b76ebc14ea30e907",
       "value": "<font size=\"1\">Triumphs/Lore/The Light/Dust/The Stacks</font size=>"
      }
     },
     "8b917539444049e08748fdb639111425": {
      "model_module": "@jupyter-widgets/controls",
      "model_module_version": "1.5.0",
      "model_name": "ButtonModel",
      "state": {
       "layout": "IPY_MODEL_97b53b27739547fc91f095b9c14b06f1",
       "style": "IPY_MODEL_a098d592324949ef97db3070595037f7"
      }
     },
     "8bc7f92705164da7becfd0f5e7a4a0b7": {
      "model_module": "@jupyter-widgets/controls",
      "model_module_version": "1.5.0",
      "model_name": "DescriptionStyleModel",
      "state": {
       "description_width": ""
      }
     },
     "8bcb618cfa354de6af4c8dae5136042b": {
      "model_module": "@jupyter-widgets/controls",
      "model_module_version": "1.5.0",
      "model_name": "ButtonStyleModel",
      "state": {}
     },
     "8c18a549dc664b8e8d9f509d7d42ba90": {
      "model_module": "@jupyter-widgets/controls",
      "model_module_version": "1.5.0",
      "model_name": "HBoxModel",
      "state": {
       "children": [
        "IPY_MODEL_5b246d5be176404d89c304fd8e4851d3",
        "IPY_MODEL_f99f72dca0d9430db635fb1e8d339688",
        "IPY_MODEL_2e33ea27a1eb4685bd6d80868f2cd0fc"
       ],
       "layout": "IPY_MODEL_15f016ef4a4545f19367e7ab90323798"
      }
     },
     "8c1d97f587874ad49fa65394ede80082": {
      "model_module": "@jupyter-widgets/controls",
      "model_module_version": "1.5.0",
      "model_name": "LabelModel",
      "state": {
       "layout": "IPY_MODEL_21d73ccca0034c8182f5fee434f298ae",
       "style": "IPY_MODEL_68907119244d4168ae81c608922f3d1b",
       "value": "    Glory ranks (2/5)"
      }
     },
     "8cc6dd592db74db3a190441c5d8f3607": {
      "model_module": "@jupyter-widgets/controls",
      "model_module_version": "1.5.0",
      "model_name": "ButtonStyleModel",
      "state": {}
     },
     "8d2ef8c8ca8c40ed856957764b73ab6f": {
      "model_module": "@jupyter-widgets/controls",
      "model_module_version": "1.5.0",
      "model_name": "ButtonStyleModel",
      "state": {}
     },
     "8d5ceaf1f88140aebe30fc16363602d8": {
      "model_module": "@jupyter-widgets/base",
      "model_module_version": "1.2.0",
      "model_name": "LayoutModel",
      "state": {
       "height": "32px",
       "order": "-2",
       "width": "32px"
      }
     },
     "8d862f9b445741128c41c22593808e48": {
      "model_module": "@jupyter-widgets/controls",
      "model_module_version": "1.5.0",
      "model_name": "ProgressStyleModel",
      "state": {
       "description_width": ""
      }
     },
     "8dba03b82dd04bf1ba7c9add3dd99c80": {
      "model_module": "@jupyter-widgets/base",
      "model_module_version": "1.2.0",
      "model_name": "LayoutModel",
      "state": {
       "display": "none"
      }
     },
     "8de064919eac419396aef7e133467551": {
      "model_module": "@jupyter-widgets/controls",
      "model_module_version": "1.5.0",
      "model_name": "ButtonModel",
      "state": {
       "description": "EDIT",
       "layout": "IPY_MODEL_e2d8fb89666e4c4bb343b86f97e808a4",
       "style": "IPY_MODEL_3be64d9e4b7240c8ab7b18a58cdbab34"
      }
     },
     "8e21f1a70db24321b03a52afaa2acac9": {
      "model_module": "@jupyter-widgets/controls",
      "model_module_version": "1.5.0",
      "model_name": "ButtonModel",
      "state": {
       "layout": "IPY_MODEL_603da855de824614a3388a11c3292bf1",
       "style": "IPY_MODEL_21ac0efe63ca4232b6c0da36b19e5520"
      }
     },
     "8e87f8c3db2842e99e6aafda65751dea": {
      "model_module": "@jupyter-widgets/controls",
      "model_module_version": "1.5.0",
      "model_name": "DescriptionStyleModel",
      "state": {
       "description_width": ""
      }
     },
     "8e88c1ffd0c04893bf4a54101c039e2f": {
      "model_module": "@jupyter-widgets/controls",
      "model_module_version": "1.5.0",
      "model_name": "ButtonModel",
      "state": {
       "description": "EDIT",
       "layout": "IPY_MODEL_146ce3317bc740378edfa3f03e68f83e",
       "style": "IPY_MODEL_3f809a0aec1442819f31616dfe45adee"
      }
     },
     "8f1d5c0de5c74bb69f8b15c0f4569ff2": {
      "model_module": "@jupyter-widgets/base",
      "model_module_version": "1.2.0",
      "model_name": "LayoutModel",
      "state": {
       "overflow": "visible",
       "width": "100%"
      }
     },
     "8f576018c260491798cefb8df55cfd80": {
      "model_module": "@jupyter-widgets/base",
      "model_module_version": "1.2.0",
      "model_name": "LayoutModel",
      "state": {
       "overflow": "visible",
       "width": "100%"
      }
     },
     "8f58a19bbd2c4c67b8d1e072e34a11c6": {
      "model_module": "@jupyter-widgets/controls",
      "model_module_version": "1.5.0",
      "model_name": "ButtonModel",
      "state": {
       "description": "EDIT",
       "layout": "IPY_MODEL_0d8d075b5e7e451c92f2f93a87877077",
       "style": "IPY_MODEL_d08a2cce05534f16baa20972faa3d9ec"
      }
     },
     "8fc24dabc5ac439a96c1b0a4af8e3255": {
      "model_module": "@jupyter-widgets/base",
      "model_module_version": "1.2.0",
      "model_name": "LayoutModel",
      "state": {
       "overflow": "visible",
       "width": "100%"
      }
     },
     "8fceae9b790048948841f92c950b2c4b": {
      "model_module": "@jupyter-widgets/base",
      "model_module_version": "1.2.0",
      "model_name": "LayoutModel",
      "state": {
       "order": "-1",
       "overflow": "visible",
       "padding": "1px",
       "width": "0px"
      }
     },
     "8fde2bd60011426185a91183257e37db": {
      "model_module": "@jupyter-widgets/controls",
      "model_module_version": "1.5.0",
      "model_name": "ButtonModel",
      "state": {
       "layout": "IPY_MODEL_058032ffc4a94b53901adf218a0856ab",
       "style": "IPY_MODEL_b655805e8c6b45159b2cbfd360afeb45"
      }
     },
     "900abe69e7164670b866409c7d84b769": {
      "model_module": "@jupyter-widgets/controls",
      "model_module_version": "1.5.0",
      "model_name": "ButtonModel",
      "state": {
       "layout": "IPY_MODEL_3cab99d0cdc549739f6308fbb055e2a1",
       "style": "IPY_MODEL_34434e82fb524b1db71dc86cc60eccb7"
      }
     },
     "901d5920226b49238f12d75b6a4dd40f": {
      "model_module": "@jupyter-widgets/base",
      "model_module_version": "1.2.0",
      "model_name": "LayoutModel",
      "state": {
       "order": "-1",
       "overflow": "visible",
       "padding": "1px",
       "width": "0px"
      }
     },
     "9056f95505784561a4d2997e36b3e0ae": {
      "model_module": "@jupyter-widgets/base",
      "model_module_version": "1.2.0",
      "model_name": "LayoutModel",
      "state": {}
     },
     "908586ee692548a3a5c5f26b22ebf2ec": {
      "model_module": "@jupyter-widgets/controls",
      "model_module_version": "1.5.0",
      "model_name": "ButtonStyleModel",
      "state": {}
     },
     "9086a65bee134ebdacb89b3dc7c8c7b9": {
      "model_module": "@jupyter-widgets/controls",
      "model_module_version": "1.5.0",
      "model_name": "DescriptionStyleModel",
      "state": {
       "description_width": ""
      }
     },
     "90a4286f3e5e4db7b3176352294b2acb": {
      "model_module": "@jupyter-widgets/controls",
      "model_module_version": "1.5.0",
      "model_name": "ButtonModel",
      "state": {
       "layout": "IPY_MODEL_269e3066bedb48fdb8cd178992fbd281",
       "style": "IPY_MODEL_36ea7f1618664a4fa4860a3b0420e70d"
      }
     },
     "90fca8b0467e4e57a74acc6e8c22cf31": {
      "model_module": "@jupyter-widgets/controls",
      "model_module_version": "1.5.0",
      "model_name": "DescriptionStyleModel",
      "state": {
       "description_width": ""
      }
     },
     "9104348e696f4000965826ddbe81ae7f": {
      "model_module": "@jupyter-widgets/controls",
      "model_module_version": "1.5.0",
      "model_name": "ButtonModel",
      "state": {
       "layout": "IPY_MODEL_c5816590ef6a426cb6fbe136f2083836",
       "style": "IPY_MODEL_ca85dee848d345aca46a1101c4872371"
      }
     },
     "910fcbd9c53c4de7a0d3c5c30949d61e": {
      "model_module": "@jupyter-widgets/base",
      "model_module_version": "1.2.0",
      "model_name": "LayoutModel",
      "state": {
       "height": "32px",
       "overflow": "visible",
       "width": "100%"
      }
     },
     "9131cd79be1a4d6d971375b4f612a756": {
      "model_module": "@jupyter-widgets/controls",
      "model_module_version": "1.5.0",
      "model_name": "IntProgressModel",
      "state": {
       "layout": "IPY_MODEL_08159618410140a7bd7fb10f70646d13",
       "style": "IPY_MODEL_25e3a474807b40d881a03c1019b96515",
       "value": 30
      }
     },
     "91e65b0f7dfc40c3b316e66c42bb1753": {
      "model_module": "@jupyter-widgets/controls",
      "model_module_version": "1.5.0",
      "model_name": "ButtonStyleModel",
      "state": {}
     },
     "91f9192048274ef686910fabd4580b65": {
      "model_module": "@jupyter-widgets/controls",
      "model_module_version": "1.5.0",
      "model_name": "VBoxModel",
      "state": {
       "children": [
        "IPY_MODEL_32cc7d8b7efa4b0ab815ca72ee05b9cc",
        "IPY_MODEL_10712e93e3c943dcb61a144e4e44b551",
        "IPY_MODEL_80c240e80f784ab586c7312d44f2df58"
       ],
       "layout": "IPY_MODEL_4817b26087b64280acda0371f3195c7d"
      }
     },
     "9216f1c768084128a40cd57133acc417": {
      "model_module": "@jupyter-widgets/base",
      "model_module_version": "1.2.0",
      "model_name": "LayoutModel",
      "state": {
       "height": "32px",
       "overflow": "visible",
       "width": "100%"
      }
     },
     "929cf66699d64cba8018521f9ea571db": {
      "model_module": "@jupyter-widgets/controls",
      "model_module_version": "1.5.0",
      "model_name": "HTMLModel",
      "state": {
       "layout": "IPY_MODEL_506aec838cbe45d7beb1383f30029f1e",
       "style": "IPY_MODEL_bc0143cb0a5443e5b6a55fd38d27636e",
       "value": "<i></i>"
      }
     },
     "92af05f1c7b74043987528cabe688810": {
      "model_module": "@jupyter-widgets/controls",
      "model_module_version": "1.5.0",
      "model_name": "ButtonStyleModel",
      "state": {}
     },
     "92b3bb8858a9440f9538e4683d380ced": {
      "model_module": "@jupyter-widgets/controls",
      "model_module_version": "1.5.0",
      "model_name": "ButtonModel",
      "state": {
       "description": "EDIT",
       "layout": "IPY_MODEL_7af03dd87daa44f09eae6fc786b10f2a",
       "style": "IPY_MODEL_40c52100f6eb419ea132f95857e0cc39"
      }
     },
     "92ead2c3db0c4865a0d294ff901d6f07": {
      "model_module": "@jupyter-widgets/base",
      "model_module_version": "1.2.0",
      "model_name": "LayoutModel",
      "state": {
       "height": "32px",
       "order": "-2",
       "width": "32px"
      }
     },
     "931e8000c758469aab3044656bb323bf": {
      "model_module": "@jupyter-widgets/controls",
      "model_module_version": "1.5.0",
      "model_name": "HBoxModel",
      "state": {
       "children": [
        "IPY_MODEL_76903e1af3a64a47b900991e8642704f",
        "IPY_MODEL_89f372268f2f4742960368c4d36cec97",
        "IPY_MODEL_9fa59d1c5fc74a979b97fdea1b95a339",
        "IPY_MODEL_24b052614d5c4baab719257368941144"
       ],
       "layout": "IPY_MODEL_ba44062542274d188ecd2fb1badd9f50"
      }
     },
     "93623ca2fc694250bd3baa273dc900f2": {
      "model_module": "@jupyter-widgets/base",
      "model_module_version": "1.2.0",
      "model_name": "LayoutModel",
      "state": {
       "height": "32px",
       "overflow": "visible",
       "width": "100%"
      }
     },
     "939e870ac25c4f149e0abc7ce78197e9": {
      "model_module": "@jupyter-widgets/controls",
      "model_module_version": "1.5.0",
      "model_name": "ButtonModel",
      "state": {
       "layout": "IPY_MODEL_8618ef4ea7c441f8b870f1242edc448c",
       "style": "IPY_MODEL_6fb91e280e0445c692aa28c4786d7a11"
      }
     },
     "93a7a744f8bb49cebc5c3d8f7b39b2c6": {
      "model_module": "@jupyter-widgets/controls",
      "model_module_version": "1.5.0",
      "model_name": "DescriptionStyleModel",
      "state": {
       "description_width": ""
      }
     },
     "93d6e0e4fe03409db9849a06fbf92018": {
      "model_module": "@jupyter-widgets/base",
      "model_module_version": "1.2.0",
      "model_name": "LayoutModel",
      "state": {
       "display": "none"
      }
     },
     "9436b481837a4c12b6052dd67162d442": {
      "model_module": "@jupyter-widgets/base",
      "model_module_version": "1.2.0",
      "model_name": "LayoutModel",
      "state": {
       "height": "32px",
       "overflow": "visible",
       "width": "100%"
      }
     },
     "9458a4ccbca54ad787e21e4b7e045907": {
      "model_module": "@jupyter-widgets/controls",
      "model_module_version": "1.5.0",
      "model_name": "ButtonStyleModel",
      "state": {}
     },
     "947587fdf4e140939bd4e85d1d74aa3b": {
      "model_module": "@jupyter-widgets/controls",
      "model_module_version": "1.5.0",
      "model_name": "ButtonStyleModel",
      "state": {}
     },
     "950f2229117447c6871e1cc5c684ee37": {
      "model_module": "@jupyter-widgets/controls",
      "model_module_version": "1.5.0",
      "model_name": "DescriptionStyleModel",
      "state": {
       "description_width": ""
      }
     },
     "95297401ecee4e8f9cd0b37c1c21e270": {
      "model_module": "@jupyter-widgets/controls",
      "model_module_version": "1.5.0",
      "model_name": "LabelModel",
      "state": {
       "layout": "IPY_MODEL_d14d4e933b2845bb83df1060b960ee8e",
       "style": "IPY_MODEL_17ae3416478b42f098d699856a7dc2ab",
       "value": "   objective"
      }
     },
     "954eb08ad8934ea18ef16c2b28063cf8": {
      "model_module": "@jupyter-widgets/base",
      "model_module_version": "1.2.0",
      "model_name": "LayoutModel",
      "state": {
       "display": "none"
      }
     },
     "9591cbff45bf4b5395591a08491ea0ba": {
      "model_module": "@jupyter-widgets/controls",
      "model_module_version": "1.5.0",
      "model_name": "DescriptionStyleModel",
      "state": {
       "description_width": ""
      }
     },
     "95bbf5cbe6fd4a64b5b778e1335b9973": {
      "model_module": "@jupyter-widgets/controls",
      "model_module_version": "1.5.0",
      "model_name": "HTMLModel",
      "state": {
       "layout": "IPY_MODEL_015c05d444114e5cb8312d896040b83b",
       "style": "IPY_MODEL_354c7e9dd0454492859b013e76e619ac",
       "value": "<i></i>"
      }
     },
     "95cab5d4121f48a4834b92c94d4e47ad": {
      "model_module": "@jupyter-widgets/controls",
      "model_module_version": "1.5.0",
      "model_name": "HTMLModel",
      "state": {
       "layout": "IPY_MODEL_82bcf24835f745518920b24b79e3bbc2",
       "style": "IPY_MODEL_ca7b4a2e56764613bdf442a637090681",
       "value": "<font size=\"1\">Triumphs/Lore/The Light/Dust/The Kell</font size=>"
      }
     },
     "95d631507d19408dbb0edb0ec1ef5664": {
      "model_module": "@jupyter-widgets/controls",
      "model_module_version": "1.5.0",
      "model_name": "LabelModel",
      "state": {
       "layout": "IPY_MODEL_820c2a32faaa4f6e9d6c5f8a4a6ef8c1",
       "style": "IPY_MODEL_841d70fbe9c74f0a9ddf2ee5ccaf1682",
       "value": "   objective"
      }
     },
     "95e488e07c614b09a5640d22704eff36": {
      "model_module": "@jupyter-widgets/base",
      "model_module_version": "1.2.0",
      "model_name": "LayoutModel",
      "state": {
       "display": "none"
      }
     },
     "95e616e042814ccbbf72620f24630ea2": {
      "model_module": "@jupyter-widgets/controls",
      "model_module_version": "1.5.0",
      "model_name": "IntProgressModel",
      "state": {
       "layout": "IPY_MODEL_0f4e4dfd1b4d4ab480e9c229b0e13bb5",
       "style": "IPY_MODEL_2cc52a21326e434499095838f829605a",
       "value": 30
      }
     },
     "95ecc0260fc44cee986654b842fa5196": {
      "model_module": "@jupyter-widgets/base",
      "model_module_version": "1.2.0",
      "model_name": "LayoutModel",
      "state": {
       "height": "32px",
       "overflow": "visible",
       "width": "100%"
      }
     },
     "9616b13af09345ef9aa4c56840a7913d": {
      "model_module": "@jupyter-widgets/controls",
      "model_module_version": "1.5.0",
      "model_name": "ButtonModel",
      "state": {
       "description": "EDIT",
       "layout": "IPY_MODEL_14a32e4ece654f7ba7c3d94f4e33481c",
       "style": "IPY_MODEL_e415ba7cda674638be99bd09e29c2ec7"
      }
     },
     "9635e5d5e5b144629f2adfcf031aa0a9": {
      "model_module": "@jupyter-widgets/base",
      "model_module_version": "1.2.0",
      "model_name": "LayoutModel",
      "state": {}
     },
     "9639665fc32c44aca92445bdd96e8da6": {
      "model_module": "@jupyter-widgets/controls",
      "model_module_version": "1.5.0",
      "model_name": "HTMLModel",
      "state": {
       "layout": "IPY_MODEL_8f576018c260491798cefb8df55cfd80",
       "style": "IPY_MODEL_19288861941a4b6ebd949ede262c6fb2",
       "value": "<font size=\"5\"><b>Winner Take All</b></font size=>"
      }
     },
     "9664ad101dc44ca58eabbbea97a4ff69": {
      "model_module": "@jupyter-widgets/controls",
      "model_module_version": "1.5.0",
      "model_name": "ButtonStyleModel",
      "state": {}
     },
     "966d216736fc49bf8a7309f2b9a69195": {
      "model_module": "@jupyter-widgets/base",
      "model_module_version": "1.2.0",
      "model_name": "LayoutModel",
      "state": {
       "display": "none",
       "width": "60px"
      }
     },
     "96b9b0656ff249649f6d83d4b800bfd6": {
      "model_module": "@jupyter-widgets/controls",
      "model_module_version": "1.5.0",
      "model_name": "DescriptionStyleModel",
      "state": {
       "description_width": ""
      }
     },
     "96d360bd307a4b6d9cadf3485ab10ada": {
      "model_module": "@jupyter-widgets/base",
      "model_module_version": "1.2.0",
      "model_name": "LayoutModel",
      "state": {
       "border": "3px solid white",
       "display": "flex",
       "flex": "1 1 0%",
       "margin": "10px",
       "min_width": "400px",
       "overflow": "visible",
       "padding": "10px",
       "width": "auto"
      }
     },
     "97137c59d0264f449bf59184a4350430": {
      "model_module": "@jupyter-widgets/base",
      "model_module_version": "1.2.0",
      "model_name": "LayoutModel",
      "state": {
       "order": "-1",
       "overflow": "visible",
       "padding": "1px",
       "width": "0px"
      }
     },
     "9713a70ee6e64245ad696b69f51fe1c5": {
      "model_module": "@jupyter-widgets/controls",
      "model_module_version": "1.5.0",
      "model_name": "ProgressStyleModel",
      "state": {
       "description_width": ""
      }
     },
     "9764120645044f4cb2ce1306af16b7c1": {
      "model_module": "@jupyter-widgets/controls",
      "model_module_version": "1.5.0",
      "model_name": "ButtonStyleModel",
      "state": {}
     },
     "9779c623db2048ed97784cad29f05692": {
      "model_module": "@jupyter-widgets/controls",
      "model_module_version": "1.5.0",
      "model_name": "ButtonModel",
      "state": {
       "button_style": "success",
       "disabled": true,
       "layout": "IPY_MODEL_c4abd396b13a48c38cd8c2fe1c3cc3a7",
       "style": "IPY_MODEL_36d6d141266d4b8db020a76f974b5231"
      }
     },
     "979a5b65955942ccb88b7c840c67b8e1": {
      "model_module": "@jupyter-widgets/base",
      "model_module_version": "1.2.0",
      "model_name": "LayoutModel",
      "state": {
       "height": "32px",
       "order": "-2",
       "width": "32px"
      }
     },
     "97b53b27739547fc91f095b9c14b06f1": {
      "model_module": "@jupyter-widgets/base",
      "model_module_version": "1.2.0",
      "model_name": "LayoutModel",
      "state": {
       "height": "32px",
       "order": "-2",
       "width": "32px"
      }
     },
     "981869ef35404ff3acd9c95d57ae74e9": {
      "model_module": "@jupyter-widgets/controls",
      "model_module_version": "1.5.0",
      "model_name": "ButtonModel",
      "state": {
       "layout": "IPY_MODEL_a296cfe5d0814fd08237874dbcc711fe",
       "style": "IPY_MODEL_7a73fd88e63d424db14ea1c66bad4d0c"
      }
     },
     "9820706871054e2abe96b014ee938491": {
      "model_module": "@jupyter-widgets/controls",
      "model_module_version": "1.5.0",
      "model_name": "IntProgressModel",
      "state": {
       "layout": "IPY_MODEL_7d19ff2df16842d39861d2891beff725",
       "style": "IPY_MODEL_72664027ec64432ea1f522059341bc51",
       "value": 30
      }
     },
     "9852f7e8a1c847aa9d546ebf70bb2cbf": {
      "model_module": "@jupyter-widgets/controls",
      "model_module_version": "1.5.0",
      "model_name": "ButtonModel",
      "state": {
       "layout": "IPY_MODEL_f9ffc06955e542dfaf3e31bd4907f2af",
       "style": "IPY_MODEL_05af12f3226f428498f81c1829029304"
      }
     },
     "986084b96e3e4de6aa93247fdace27bc": {
      "model_module": "@jupyter-widgets/base",
      "model_module_version": "1.2.0",
      "model_name": "LayoutModel",
      "state": {}
     },
     "9873256709154be9aa485b655e75371d": {
      "model_module": "@jupyter-widgets/controls",
      "model_module_version": "1.5.0",
      "model_name": "TextModel",
      "state": {
       "description": "Code:",
       "layout": "IPY_MODEL_bf2d332902d14c168b9fccc6b7f8a9c6",
       "style": "IPY_MODEL_8581cbacab3f4d338b54cbd8a26a6aea",
       "value": "4d9d66b0202e0c5b540134327551a8a0"
      }
     },
     "98764ff39e784e81a7b564178a2a3cf4": {
      "model_module": "@jupyter-widgets/controls",
      "model_module_version": "1.5.0",
      "model_name": "ProgressStyleModel",
      "state": {
       "description_width": ""
      }
     },
     "987b09946fb34951b31ae2e7e201926c": {
      "model_module": "@jupyter-widgets/controls",
      "model_module_version": "1.5.0",
      "model_name": "HBoxModel",
      "state": {
       "children": [
        "IPY_MODEL_b1fd8d852ed244ecb8475ba278c0d5fe",
        "IPY_MODEL_8aad0f8c6cc24c75af04bcc5b6dc4a54",
        "IPY_MODEL_c4fae6c17dfb434198a76fc8904d986d",
        "IPY_MODEL_fd08f470938f4626b8861c8dbfefc0ea"
       ],
       "layout": "IPY_MODEL_2977ea828064404b9e3b3f8506a0d7fb"
      }
     },
     "98a8912751a74448a13c59300d8c6b9d": {
      "model_module": "@jupyter-widgets/controls",
      "model_module_version": "1.5.0",
      "model_name": "ProgressStyleModel",
      "state": {
       "description_width": ""
      }
     },
     "99225f8892ec4a999bc1f4ecd19db846": {
      "model_module": "@jupyter-widgets/controls",
      "model_module_version": "1.5.0",
      "model_name": "ProgressStyleModel",
      "state": {
       "description_width": ""
      }
     },
     "99647fbdbf6244c9aece36107d3ac899": {
      "model_module": "@jupyter-widgets/controls",
      "model_module_version": "1.5.0",
      "model_name": "HTMLModel",
      "state": {
       "layout": "IPY_MODEL_30307c59e9cc45c896266b24992b0120",
       "style": "IPY_MODEL_0b8f5c1327b749958e01787627323bcf",
       "value": "<font size=\"5\"><b>The Gate</b></font size=>"
      }
     },
     "99efffcde62e46bd9d00ed7e2e9ca2ed": {
      "model_module": "@jupyter-widgets/controls",
      "model_module_version": "1.5.0",
      "model_name": "ButtonModel",
      "state": {
       "description": "EDIT",
       "layout": "IPY_MODEL_1808333cbac344e0b5565f69fb2ec1cb",
       "style": "IPY_MODEL_55855221d364472ba91789cc795aabb8"
      }
     },
     "99fd4c91c48a45848be31c58ec5c0067": {
      "model_module": "@jupyter-widgets/base",
      "model_module_version": "1.2.0",
      "model_name": "LayoutModel",
      "state": {
       "order": "-1",
       "overflow": "visible",
       "padding": "1px",
       "width": "0px"
      }
     },
     "9a0d869c41fb4d0d99ad590b71943b54": {
      "model_module": "@jupyter-widgets/controls",
      "model_module_version": "1.5.0",
      "model_name": "HBoxModel",
      "state": {
       "children": [
        "IPY_MODEL_57bd13d758d14df79eb7badd1a9df512",
        "IPY_MODEL_0037a38bbbbb4b758b992ebc9b4dde20",
        "IPY_MODEL_a511eaf3b6b94e6ea0691f5b179a0b56",
        "IPY_MODEL_f2acff955ddb41afb907e42a37b7c3c1"
       ],
       "layout": "IPY_MODEL_aa6ef10139794839863995368b71178a"
      }
     },
     "9a5c0fa939de4d4380b163e5ba53c761": {
      "model_module": "@jupyter-widgets/controls",
      "model_module_version": "1.5.0",
      "model_name": "ButtonModel",
      "state": {
       "layout": "IPY_MODEL_89049c1cbd8540f1b5b5ece807e03cc6",
       "style": "IPY_MODEL_bc643a42923a44ae9414775388d13c55"
      }
     },
     "9ae7c10ecbe94a9bafdbd2d5d564a868": {
      "model_module": "@jupyter-widgets/controls",
      "model_module_version": "1.5.0",
      "model_name": "VBoxModel",
      "state": {
       "children": [
        "IPY_MODEL_95cab5d4121f48a4834b92c94d4e47ad",
        "IPY_MODEL_0af0726f5bfc40d6b165b81bcc8e474e",
        "IPY_MODEL_f3b8dd525f6a446b9cc9a486eb4ed400",
        "IPY_MODEL_210c8aa567c44aa784bd125930d0115c"
       ],
       "layout": "IPY_MODEL_873babd07094426d8498bda2d8fbdc63"
      }
     },
     "9aed409960114a5a892eae8ec80542e7": {
      "model_module": "@jupyter-widgets/controls",
      "model_module_version": "1.5.0",
      "model_name": "DescriptionStyleModel",
      "state": {
       "description_width": ""
      }
     },
     "9afc523e0bcb482bb2b510ab157bd4fa": {
      "model_module": "@jupyter-widgets/controls",
      "model_module_version": "1.5.0",
      "model_name": "DescriptionStyleModel",
      "state": {
       "description_width": ""
      }
     },
     "9afec9b69be54c93a66ca35fbc31a2f1": {
      "model_module": "@jupyter-widgets/base",
      "model_module_version": "1.2.0",
      "model_name": "LayoutModel",
      "state": {
       "display": "none",
       "width": "60px"
      }
     },
     "9b0789123a9f4a8388117194e68494c4": {
      "model_module": "@jupyter-widgets/controls",
      "model_module_version": "1.5.0",
      "model_name": "ProgressStyleModel",
      "state": {
       "description_width": ""
      }
     },
     "9b122240bc28492cb6a21a93956eca6b": {
      "model_module": "@jupyter-widgets/controls",
      "model_module_version": "1.5.0",
      "model_name": "ButtonModel",
      "state": {
       "button_style": "success",
       "disabled": true,
       "layout": "IPY_MODEL_33babf7cdd664bc895f28c15017e88a1",
       "style": "IPY_MODEL_48e82ac7363347c39feb05c55e6f4af5"
      }
     },
     "9b32e74170354509a438359c02a97c65": {
      "model_module": "@jupyter-widgets/controls",
      "model_module_version": "1.5.0",
      "model_name": "DescriptionStyleModel",
      "state": {
       "description_width": ""
      }
     },
     "9b370c8e2d9849ab853da2b5df96375f": {
      "model_module": "@jupyter-widgets/controls",
      "model_module_version": "1.5.0",
      "model_name": "ButtonModel",
      "state": {
       "description": "EDIT",
       "layout": "IPY_MODEL_fa2b12ddbcc448729d24c10672f06982",
       "style": "IPY_MODEL_04abe38e10674651abd63fc624276da4"
      }
     },
     "9b86e2a5937945c6b7fa12e06dd97138": {
      "model_module": "@jupyter-widgets/controls",
      "model_module_version": "1.5.0",
      "model_name": "ButtonStyleModel",
      "state": {}
     },
     "9ba1ef23f28949729b19fa7459eb40a4": {
      "model_module": "@jupyter-widgets/base",
      "model_module_version": "1.2.0",
      "model_name": "LayoutModel",
      "state": {
       "height": "32px",
       "order": "-2",
       "width": "32px"
      }
     },
     "9baff243d4cf4723a9d017f5c58f1d58": {
      "model_module": "@jupyter-widgets/controls",
      "model_module_version": "1.5.0",
      "model_name": "ButtonStyleModel",
      "state": {}
     },
     "9bbe38fae35e4d29bbde29984df65874": {
      "model_module": "@jupyter-widgets/controls",
      "model_module_version": "1.5.0",
      "model_name": "IntProgressModel",
      "state": {
       "layout": "IPY_MODEL_ffe1009da3ce41ccb015ed919eb23713",
       "style": "IPY_MODEL_99225f8892ec4a999bc1f4ecd19db846",
       "value": 30
      }
     },
     "9c0597db02f2493ca154738b288206a7": {
      "model_module": "@jupyter-widgets/controls",
      "model_module_version": "1.5.0",
      "model_name": "ButtonStyleModel",
      "state": {}
     },
     "9c318c4a4058449ab6bf0edf122278e8": {
      "model_module": "@jupyter-widgets/base",
      "model_module_version": "1.2.0",
      "model_name": "LayoutModel",
      "state": {
       "display": "flex",
       "width": "60px"
      }
     },
     "9c82c717f3e14f1084c0b92692e259bf": {
      "model_module": "@jupyter-widgets/controls",
      "model_module_version": "1.5.0",
      "model_name": "DescriptionStyleModel",
      "state": {
       "description_width": ""
      }
     },
     "9c8dbed94bf94e1a99df7945090bd7b9": {
      "model_module": "@jupyter-widgets/controls",
      "model_module_version": "1.5.0",
      "model_name": "DescriptionStyleModel",
      "state": {
       "description_width": ""
      }
     },
     "9d12db854d68494c91eca666f3ca8ac9": {
      "model_module": "@jupyter-widgets/controls",
      "model_module_version": "1.5.0",
      "model_name": "ProgressStyleModel",
      "state": {
       "description_width": ""
      }
     },
     "9dafd2401ebc4197849023da6a8588d4": {
      "model_module": "@jupyter-widgets/base",
      "model_module_version": "1.2.0",
      "model_name": "LayoutModel",
      "state": {
       "display": "none",
       "width": "95%"
      }
     },
     "9decfc344e244a5aa7077c7ecbb4496f": {
      "model_module": "@jupyter-widgets/controls",
      "model_module_version": "1.5.0",
      "model_name": "ButtonStyleModel",
      "state": {}
     },
     "9e206532b29948d59da5e495a8f2ed09": {
      "model_module": "@jupyter-widgets/base",
      "model_module_version": "1.2.0",
      "model_name": "LayoutModel",
      "state": {
       "display": "none",
       "width": "60px"
      }
     },
     "9e21c31af98c4daaaf99f16942b5c958": {
      "model_module": "@jupyter-widgets/controls",
      "model_module_version": "1.5.0",
      "model_name": "IntProgressModel",
      "state": {
       "layout": "IPY_MODEL_fc565e1a54fe4a1db23186534ad99e3f",
       "style": "IPY_MODEL_3377e4c9151c474d8771a0dd7c2ea6e6",
       "value": 30
      }
     },
     "9e46437742114d6fa5739594d62b748a": {
      "model_module": "@jupyter-widgets/controls",
      "model_module_version": "1.5.0",
      "model_name": "HBoxModel",
      "state": {
       "children": [
        "IPY_MODEL_234cbec627014d2eab77f0117cc3e563",
        "IPY_MODEL_b571dfc3e0eb46549a59bc477a724d5e",
        "IPY_MODEL_27a2a220d78e44ed9ad7b5310d1c8388",
        "IPY_MODEL_64c0c8dbbd724a72b6c7ee99f5f6d99e"
       ],
       "layout": "IPY_MODEL_50a40da2bd1b4f24bd04913b7a0dc0a7"
      }
     },
     "9ea2fbdd19de4ea19168f18b4227fcc9": {
      "model_module": "@jupyter-widgets/controls",
      "model_module_version": "1.5.0",
      "model_name": "HBoxModel",
      "state": {
       "children": [
        "IPY_MODEL_a7d1e2b5721444edaa43331f1e5b70e7",
        "IPY_MODEL_daca99d102ec429191b61d775dbcf5c9",
        "IPY_MODEL_aad089de914c4ab6923f9fbbaea25ed2",
        "IPY_MODEL_0681d525641b4c48a2a3e68c66252b97"
       ],
       "layout": "IPY_MODEL_5a3125b720964992bebf0ad006288750"
      }
     },
     "9eb25a7bd7584aaea213b6962e8bc3d5": {
      "model_module": "@jupyter-widgets/controls",
      "model_module_version": "1.5.0",
      "model_name": "DescriptionStyleModel",
      "state": {
       "description_width": ""
      }
     },
     "9ee2cf1c1c42484babff1c09068277ac": {
      "model_module": "@jupyter-widgets/base",
      "model_module_version": "1.2.0",
      "model_name": "LayoutModel",
      "state": {
       "overflow": "visible",
       "width": "100%"
      }
     },
     "9ef4fa598dc54a629e11637a28f9c150": {
      "model_module": "@jupyter-widgets/base",
      "model_module_version": "1.2.0",
      "model_name": "LayoutModel",
      "state": {
       "display": "none"
      }
     },
     "9ef7e4c8aa4948a8baab639426940e96": {
      "model_module": "@jupyter-widgets/controls",
      "model_module_version": "1.5.0",
      "model_name": "ButtonStyleModel",
      "state": {}
     },
     "9f069a94a1a744d6a5caa957a65421bf": {
      "model_module": "@jupyter-widgets/base",
      "model_module_version": "1.2.0",
      "model_name": "LayoutModel",
      "state": {
       "order": "-1",
       "overflow": "visible",
       "padding": "1px",
       "width": "0px"
      }
     },
     "9f0f976c2736466cab8d9610b98972cd": {
      "model_module": "@jupyter-widgets/base",
      "model_module_version": "1.2.0",
      "model_name": "LayoutModel",
      "state": {
       "display": "flex"
      }
     },
     "9f113b05851745bdb0dba87b37f351cf": {
      "model_module": "@jupyter-widgets/controls",
      "model_module_version": "1.5.0",
      "model_name": "ProgressStyleModel",
      "state": {
       "description_width": ""
      }
     },
     "9f719e0121fe44898268a5fd522868bd": {
      "model_module": "@jupyter-widgets/controls",
      "model_module_version": "1.5.0",
      "model_name": "ButtonStyleModel",
      "state": {}
     },
     "9f7378ce7709446d8bf274790b4010a2": {
      "model_module": "@jupyter-widgets/base",
      "model_module_version": "1.2.0",
      "model_name": "LayoutModel",
      "state": {
       "height": "32px",
       "order": "-2",
       "width": "32px"
      }
     },
     "9f767b7890594c22a902d53ea6bef257": {
      "model_module": "@jupyter-widgets/controls",
      "model_module_version": "1.5.0",
      "model_name": "DescriptionStyleModel",
      "state": {
       "description_width": ""
      }
     },
     "9fa59d1c5fc74a979b97fdea1b95a339": {
      "model_module": "@jupyter-widgets/controls",
      "model_module_version": "1.5.0",
      "model_name": "LabelModel",
      "state": {
       "layout": "IPY_MODEL_a374ca318fb14dd28a20cc088c827eb8",
       "style": "IPY_MODEL_4d850679216b4db1b06e3ee3bcfd5e22",
       "value": "   objective"
      }
     },
     "9fc075efc6bb4291be6471755fc3cfbc": {
      "model_module": "@jupyter-widgets/base",
      "model_module_version": "1.2.0",
      "model_name": "LayoutModel",
      "state": {
       "order": "-1",
       "overflow": "visible",
       "padding": "1px",
       "width": "0px"
      }
     },
     "9fc8c5f7a49740c08903bbaf61b159ce": {
      "model_module": "@jupyter-widgets/base",
      "model_module_version": "1.2.0",
      "model_name": "LayoutModel",
      "state": {
       "display": "flex",
       "width": "60px"
      }
     },
     "9fd1bee871084864885019b7c19c4e65": {
      "model_module": "@jupyter-widgets/controls",
      "model_module_version": "1.5.0",
      "model_name": "ButtonModel",
      "state": {
       "layout": "IPY_MODEL_07fe193422aa45df8b90bc2adec3ec1b",
       "style": "IPY_MODEL_d9188495069842df8bc5b3ca0a634ab4"
      }
     },
     "a00dc8d3e2cd4da2bd6fd9a0e0030b80": {
      "model_module": "@jupyter-widgets/base",
      "model_module_version": "1.2.0",
      "model_name": "LayoutModel",
      "state": {
       "display": "none",
       "width": "60px"
      }
     },
     "a0787cbc13e84098832ec0106b15e369": {
      "model_module": "@jupyter-widgets/base",
      "model_module_version": "1.2.0",
      "model_name": "LayoutModel",
      "state": {
       "order": "-1",
       "overflow": "visible",
       "padding": "1px",
       "width": "0px"
      }
     },
     "a0892e0bc81e49758c85122611912d78": {
      "model_module": "@jupyter-widgets/controls",
      "model_module_version": "1.5.0",
      "model_name": "ProgressStyleModel",
      "state": {
       "description_width": ""
      }
     },
     "a098d592324949ef97db3070595037f7": {
      "model_module": "@jupyter-widgets/controls",
      "model_module_version": "1.5.0",
      "model_name": "ButtonStyleModel",
      "state": {}
     },
     "a0abf477b2d94ac4bd57aedfce7bf673": {
      "model_module": "@jupyter-widgets/controls",
      "model_module_version": "1.5.0",
      "model_name": "IntProgressModel",
      "state": {
       "layout": "IPY_MODEL_ecc93ab040fc4d9d94812558d2092ae1",
       "style": "IPY_MODEL_1989094e62b847f3880da3e5e947e4b4",
       "value": 30
      }
     },
     "a0ca08efe8e24464892bfae4d310d50d": {
      "model_module": "@jupyter-widgets/base",
      "model_module_version": "1.2.0",
      "model_name": "LayoutModel",
      "state": {
       "display": "none",
       "width": "60px"
      }
     },
     "a0ceef1c3b644d1d8f5f7bb955205e44": {
      "model_module": "@jupyter-widgets/base",
      "model_module_version": "1.2.0",
      "model_name": "LayoutModel",
      "state": {
       "display": "none",
       "width": "60px"
      }
     },
     "a0df7f15f5fb4cb9980ca4c5b3c30883": {
      "model_module": "@jupyter-widgets/controls",
      "model_module_version": "1.5.0",
      "model_name": "DescriptionStyleModel",
      "state": {
       "description_width": ""
      }
     },
     "a0e8830cb20a4751b5302ebb1007ebd0": {
      "model_module": "@jupyter-widgets/controls",
      "model_module_version": "1.5.0",
      "model_name": "IntProgressModel",
      "state": {
       "layout": "IPY_MODEL_1134a8aeb7ef4dffbcd61bec68aa62d4",
       "style": "IPY_MODEL_28aa0b2041d14e219fe2fa2c827e8328",
       "value": 30
      }
     },
     "a120bb6e49bb4bcdbe20f98c155c185d": {
      "model_module": "@jupyter-widgets/controls",
      "model_module_version": "1.5.0",
      "model_name": "DescriptionStyleModel",
      "state": {
       "description_width": ""
      }
     },
     "a16692ca88f7450ba2a01ce6b0a1a4b3": {
      "model_module": "@jupyter-widgets/controls",
      "model_module_version": "1.5.0",
      "model_name": "LabelModel",
      "state": {
       "layout": "IPY_MODEL_a280a8a417274ddc86251b644e224f78",
       "style": "IPY_MODEL_c55b253d0e894053a5820bcf1199d6c0",
       "value": "   objective"
      }
     },
     "a1748b7ab31346e18c8a6c65a1c68719": {
      "model_module": "@jupyter-widgets/controls",
      "model_module_version": "1.5.0",
      "model_name": "DescriptionStyleModel",
      "state": {
       "description_width": ""
      }
     },
     "a1b7d179be2846d1a9f190928605f065": {
      "model_module": "@jupyter-widgets/controls",
      "model_module_version": "1.5.0",
      "model_name": "ButtonStyleModel",
      "state": {}
     },
     "a1d03ced0b1e4f78a57f7f8c43fe339f": {
      "model_module": "@jupyter-widgets/controls",
      "model_module_version": "1.5.0",
      "model_name": "LabelModel",
      "state": {
       "layout": "IPY_MODEL_0889746d9a064ae1bcd08f293e369876",
       "style": "IPY_MODEL_006541da129b4b46af3244511df3acec",
       "value": "Kinetic Weapon:"
      }
     },
     "a1d9f3dc88444b68ac09325c59b3b09c": {
      "model_module": "@jupyter-widgets/controls",
      "model_module_version": "1.5.0",
      "model_name": "ButtonModel",
      "state": {
       "layout": "IPY_MODEL_5a693d621e454d45a9ff6fa0ae8317d2",
       "style": "IPY_MODEL_655298f101bb4f9daea655d95e06ae99"
      }
     },
     "a206ca398bc046faa6f7e9d8e847d730": {
      "model_module": "@jupyter-widgets/controls",
      "model_module_version": "1.5.0",
      "model_name": "ButtonStyleModel",
      "state": {}
     },
     "a2341c5e7cd8480780f07245038ff67c": {
      "model_module": "@jupyter-widgets/base",
      "model_module_version": "1.2.0",
      "model_name": "LayoutModel",
      "state": {
       "height": "32px",
       "overflow": "visible",
       "width": "100%"
      }
     },
     "a280a8a417274ddc86251b644e224f78": {
      "model_module": "@jupyter-widgets/base",
      "model_module_version": "1.2.0",
      "model_name": "LayoutModel",
      "state": {
       "order": "-1",
       "overflow": "visible",
       "padding": "1px",
       "width": "0px"
      }
     },
     "a28c64afcabe40468dac764262c042b3": {
      "model_module": "@jupyter-widgets/controls",
      "model_module_version": "1.5.0",
      "model_name": "DescriptionStyleModel",
      "state": {
       "description_width": ""
      }
     },
     "a296cfe5d0814fd08237874dbcc711fe": {
      "model_module": "@jupyter-widgets/base",
      "model_module_version": "1.2.0",
      "model_name": "LayoutModel",
      "state": {
       "height": "32px",
       "order": "-2",
       "width": "32px"
      }
     },
     "a2a2f29f80bc48e88be9aec0c602c162": {
      "model_module": "@jupyter-widgets/controls",
      "model_module_version": "1.5.0",
      "model_name": "ButtonModel",
      "state": {
       "description": "EDIT",
       "layout": "IPY_MODEL_ef57c9c4c7214176a918baddde3294a7",
       "style": "IPY_MODEL_3f9cfd5bacbc4290b1b42bf89de0ca7f"
      }
     },
     "a2ae4c418e044155a88ed3839af9803f": {
      "model_module": "@jupyter-widgets/controls",
      "model_module_version": "1.5.0",
      "model_name": "ButtonStyleModel",
      "state": {}
     },
     "a2b9d5892d2841f3974d429704a474d0": {
      "model_module": "@jupyter-widgets/base",
      "model_module_version": "1.2.0",
      "model_name": "LayoutModel",
      "state": {
       "height": "32px",
       "order": "-2",
       "width": "32px"
      }
     },
     "a2c07f381c78477a8ddc360f40156a6e": {
      "model_module": "@jupyter-widgets/controls",
      "model_module_version": "1.5.0",
      "model_name": "DescriptionStyleModel",
      "state": {
       "description_width": ""
      }
     },
     "a2ddbbfa68ca4b4d8f291df0d188c5a1": {
      "model_module": "@jupyter-widgets/controls",
      "model_module_version": "1.5.0",
      "model_name": "DescriptionStyleModel",
      "state": {
       "description_width": ""
      }
     },
     "a2e1e4ee26b440cfb5dafd32f15de3d2": {
      "model_module": "@jupyter-widgets/base",
      "model_module_version": "1.2.0",
      "model_name": "LayoutModel",
      "state": {
       "display": "none"
      }
     },
     "a2f27f793d8140798bb288d4702a557a": {
      "model_module": "@jupyter-widgets/controls",
      "model_module_version": "1.5.0",
      "model_name": "HTMLModel",
      "state": {
       "layout": "IPY_MODEL_bde2e334c9a942389c1e20a2a499548b",
       "style": "IPY_MODEL_f1046d34bd9c475fa467350b00a971bf",
       "value": "<i></i>"
      }
     },
     "a32c1cec469c4fdcb4b7dc28546cb5db": {
      "model_module": "@jupyter-widgets/base",
      "model_module_version": "1.2.0",
      "model_name": "LayoutModel",
      "state": {
       "order": "-1",
       "overflow": "visible",
       "padding": "1px",
       "width": "0px"
      }
     },
     "a33b3fa065334fefa220b1bc3147fd22": {
      "model_module": "@jupyter-widgets/controls",
      "model_module_version": "1.5.0",
      "model_name": "CheckboxModel",
      "state": {
       "description": "Hide Expired Tasks",
       "disabled": false,
       "indent": false,
       "layout": "IPY_MODEL_b339fd12f13147b888a2cfde4129cd01",
       "style": "IPY_MODEL_d436cac9a11b403ab99b9bace439bb62",
       "value": false
      }
     },
     "a374ca318fb14dd28a20cc088c827eb8": {
      "model_module": "@jupyter-widgets/base",
      "model_module_version": "1.2.0",
      "model_name": "LayoutModel",
      "state": {
       "order": "-1",
       "overflow": "visible",
       "padding": "1px",
       "width": "0px"
      }
     },
     "a37985e50a8c4fc29466c6cc30e512c0": {
      "model_module": "@jupyter-widgets/controls",
      "model_module_version": "1.5.0",
      "model_name": "DescriptionStyleModel",
      "state": {
       "description_width": ""
      }
     },
     "a37a335361c94f3fbff8d456f16ebd3b": {
      "model_module": "@jupyter-widgets/controls",
      "model_module_version": "1.5.0",
      "model_name": "ButtonStyleModel",
      "state": {}
     },
     "a3885ca7e8e247578bec5ca0a72b3f4b": {
      "model_module": "@jupyter-widgets/base",
      "model_module_version": "1.2.0",
      "model_name": "LayoutModel",
      "state": {
       "display": "none",
       "width": "60px"
      }
     },
     "a3a4a78c607840f09b2d46d2d875f770": {
      "model_module": "@jupyter-widgets/base",
      "model_module_version": "1.2.0",
      "model_name": "LayoutModel",
      "state": {
       "display": "none"
      }
     },
     "a3b632b5ee8d4a4d977f4f911df05346": {
      "model_module": "@jupyter-widgets/base",
      "model_module_version": "1.2.0",
      "model_name": "LayoutModel",
      "state": {
       "order": "-1",
       "overflow": "visible",
       "padding": "1px",
       "width": "0px"
      }
     },
     "a3cbe2b370c74f4387717c64946d81b3": {
      "model_module": "@jupyter-widgets/base",
      "model_module_version": "1.2.0",
      "model_name": "LayoutModel",
      "state": {
       "display": "flex"
      }
     },
     "a3cc4be6753f49bf82118f3d055b4afb": {
      "model_module": "@jupyter-widgets/controls",
      "model_module_version": "1.5.0",
      "model_name": "LabelModel",
      "state": {
       "layout": "IPY_MODEL_6a9489acf0984b429a6cfa9102a91a41",
       "style": "IPY_MODEL_0559d62c26e5407f9482e3bf71190994",
       "value": "    Grenade kills (289/1000)"
      }
     },
     "a3e6c4de57aa4f95a9fac86f669204b0": {
      "model_module": "@jupyter-widgets/base",
      "model_module_version": "1.2.0",
      "model_name": "LayoutModel",
      "state": {
       "height": "32px",
       "overflow": "visible",
       "width": "100%"
      }
     },
     "a3ef703be6094200824dc1460d503193": {
      "model_module": "@jupyter-widgets/base",
      "model_module_version": "1.2.0",
      "model_name": "LayoutModel",
      "state": {
       "order": "-1",
       "overflow": "visible",
       "padding": "1px",
       "width": "0px"
      }
     },
     "a401417861384c62b9bd173719c225d0": {
      "model_module": "@jupyter-widgets/controls",
      "model_module_version": "1.5.0",
      "model_name": "ButtonModel",
      "state": {
       "description": "EDIT",
       "layout": "IPY_MODEL_fe97007e47524c8fae01464e2d9751e4",
       "style": "IPY_MODEL_f7e0518bd8d54ac29f22ee7f0caf6b18"
      }
     },
     "a427d67f07164e23970d5416acc70b08": {
      "model_module": "@jupyter-widgets/controls",
      "model_module_version": "1.5.0",
      "model_name": "ButtonStyleModel",
      "state": {}
     },
     "a431dd0a706d43c4818a5a95beafe0a5": {
      "model_module": "@jupyter-widgets/base",
      "model_module_version": "1.2.0",
      "model_name": "LayoutModel",
      "state": {
       "display": "none"
      }
     },
     "a43925076e364e66b3a0bf60feeea11f": {
      "model_module": "@jupyter-widgets/controls",
      "model_module_version": "1.5.0",
      "model_name": "DescriptionStyleModel",
      "state": {
       "description_width": ""
      }
     },
     "a49c6886f6e44b11b108426170e6ffc6": {
      "model_module": "@jupyter-widgets/controls",
      "model_module_version": "1.5.0",
      "model_name": "LabelModel",
      "state": {
       "layout": "IPY_MODEL_2ce81697021e4b1392c941349e21645e",
       "style": "IPY_MODEL_38d8b3909bfd41abb463034afc048467",
       "value": "   objective"
      }
     },
     "a4a1d51f7e6340fab356ab07f39da015": {
      "model_module": "@jupyter-widgets/controls",
      "model_module_version": "1.5.0",
      "model_name": "ButtonStyleModel",
      "state": {}
     },
     "a50792bd1a194dbeb62bfd0053207e67": {
      "model_module": "@jupyter-widgets/controls",
      "model_module_version": "1.5.0",
      "model_name": "HTMLModel",
      "state": {
       "layout": "IPY_MODEL_1beb3f0714594d499c18f4502304afbc",
       "style": "IPY_MODEL_c2582ac7fba64565ab99e231577dac90",
       "value": "<font size=\"5\"><b>The Leviathan</b></font size=>"
      }
     },
     "a511eaf3b6b94e6ea0691f5b179a0b56": {
      "model_module": "@jupyter-widgets/controls",
      "model_module_version": "1.5.0",
      "model_name": "LabelModel",
      "state": {
       "layout": "IPY_MODEL_7f1152885d0a4c2bab4a053925cfb529",
       "style": "IPY_MODEL_d42c5248069a4125bfe83e499991e933",
       "value": "   objective"
      }
     },
     "a529c09663a6485ea76eaab1dd27ecdd": {
      "model_module": "@jupyter-widgets/base",
      "model_module_version": "1.2.0",
      "model_name": "LayoutModel",
      "state": {
       "display": "flex"
      }
     },
     "a5896f18ced441fb9931e5ee4925796d": {
      "model_module": "@jupyter-widgets/base",
      "model_module_version": "1.2.0",
      "model_name": "LayoutModel",
      "state": {
       "display": "flex"
      }
     },
     "a595989609044656b76ebc14ea30e907": {
      "model_module": "@jupyter-widgets/controls",
      "model_module_version": "1.5.0",
      "model_name": "DescriptionStyleModel",
      "state": {
       "description_width": ""
      }
     },
     "a598cc154fef467683d0e4bd93e86535": {
      "model_module": "@jupyter-widgets/controls",
      "model_module_version": "1.5.0",
      "model_name": "DescriptionStyleModel",
      "state": {
       "description_width": ""
      }
     },
     "a5e9d15523664e8c8c4cd44ce00cfb4b": {
      "model_module": "@jupyter-widgets/controls",
      "model_module_version": "1.5.0",
      "model_name": "DescriptionStyleModel",
      "state": {
       "description_width": ""
      }
     },
     "a5eea947ec41433ab06595c8be3c01eb": {
      "model_module": "@jupyter-widgets/base",
      "model_module_version": "1.2.0",
      "model_name": "LayoutModel",
      "state": {
       "height": "32px",
       "order": "-2",
       "width": "32px"
      }
     },
     "a640d37a8c844a6e9674422f15df401c": {
      "model_module": "@jupyter-widgets/base",
      "model_module_version": "1.2.0",
      "model_name": "LayoutModel",
      "state": {
       "display": "flex"
      }
     },
     "a654cb3c7a31435b91cd5ab08d617b14": {
      "model_module": "@jupyter-widgets/controls",
      "model_module_version": "1.5.0",
      "model_name": "DropdownModel",
      "state": {
       "_options_labels": [
        "All",
        "Triumphs",
        "Seals",
        "Pursuits"
       ],
       "index": 0,
       "layout": "IPY_MODEL_8ae0ea5c9835450f9470f1a1e210911e",
       "style": "IPY_MODEL_49bb578a43374ffdb7959ca9f53d83d0"
      }
     },
     "a65cccc01d9f4d1191e7e894fd88e530": {
      "model_module": "@jupyter-widgets/base",
      "model_module_version": "1.2.0",
      "model_name": "LayoutModel",
      "state": {
       "height": "32px",
       "order": "-2",
       "width": "32px"
      }
     },
     "a6991609672a429c9756161054fedbc9": {
      "model_module": "@jupyter-widgets/controls",
      "model_module_version": "1.5.0",
      "model_name": "ButtonModel",
      "state": {
       "description": "EDIT",
       "layout": "IPY_MODEL_5c630f9ac0a748f086cec641b6ededc8",
       "style": "IPY_MODEL_80738bf76a6e4283a64d14f8886cc881"
      }
     },
     "a6e5b61c49cc4bcb854d2722ce483d6f": {
      "model_module": "@jupyter-widgets/base",
      "model_module_version": "1.2.0",
      "model_name": "LayoutModel",
      "state": {
       "order": "-1",
       "overflow": "visible",
       "padding": "1px",
       "width": "0px"
      }
     },
     "a724089f5201482791ea29833cb4e2c9": {
      "model_module": "@jupyter-widgets/controls",
      "model_module_version": "1.5.0",
      "model_name": "HBoxModel",
      "state": {
       "children": [
        "IPY_MODEL_29b86fca87da4a23a2c835e8c800369b",
        "IPY_MODEL_54a8985d1ee149588c87ed2f3d38fb3f",
        "IPY_MODEL_2db5611552734242b188c67d64e51f39",
        "IPY_MODEL_fc948cab6053433a9bd7bd4ae00b4490"
       ],
       "layout": "IPY_MODEL_a5896f18ced441fb9931e5ee4925796d"
      }
     },
     "a73507d429dc48a69e8f443344da1271": {
      "model_module": "@jupyter-widgets/base",
      "model_module_version": "1.2.0",
      "model_name": "LayoutModel",
      "state": {
       "height": "32px",
       "overflow": "visible",
       "width": "100%"
      }
     },
     "a78e8b7dacc540f4b23e9088a36b9a0d": {
      "model_module": "@jupyter-widgets/controls",
      "model_module_version": "1.5.0",
      "model_name": "ButtonStyleModel",
      "state": {}
     },
     "a7d1e2b5721444edaa43331f1e5b70e7": {
      "model_module": "@jupyter-widgets/controls",
      "model_module_version": "1.5.0",
      "model_name": "ButtonModel",
      "state": {
       "layout": "IPY_MODEL_689890c4a22742caa10937c3a8d55784",
       "style": "IPY_MODEL_9c0597db02f2493ca154738b288206a7"
      }
     },
     "a7efccb430b24e6798e2119a356c32c5": {
      "model_module": "@jupyter-widgets/base",
      "model_module_version": "1.2.0",
      "model_name": "LayoutModel",
      "state": {
       "order": "-1",
       "overflow": "visible",
       "padding": "1px",
       "width": "0px"
      }
     },
     "a85b24ee37d8449c8a0b6fda8012e245": {
      "model_module": "@jupyter-widgets/controls",
      "model_module_version": "1.5.0",
      "model_name": "DescriptionStyleModel",
      "state": {
       "description_width": ""
      }
     },
     "a85eb23a63b44b3e8b6c00945764ae85": {
      "model_module": "@jupyter-widgets/controls",
      "model_module_version": "1.5.0",
      "model_name": "LabelModel",
      "state": {
       "layout": "IPY_MODEL_f0517b45d78a4ab8bec6c1ef74e62e9d",
       "style": "IPY_MODEL_f55bf4f015f04236a49338b5f66cd087",
       "value": "    [Bow][Headshot] Precision (89/25)"
      }
     },
     "a8f3ff8524164c8f8a0ce6f60e7ca092": {
      "model_module": "@jupyter-widgets/controls",
      "model_module_version": "1.5.0",
      "model_name": "ProgressStyleModel",
      "state": {
       "description_width": ""
      }
     },
     "a92ec5e13b33463c9b14a2e7be2b856d": {
      "model_module": "@jupyter-widgets/base",
      "model_module_version": "1.2.0",
      "model_name": "LayoutModel",
      "state": {
       "order": "-1",
       "overflow": "visible",
       "padding": "1px",
       "width": "0px"
      }
     },
     "a9443c91d3fc43fbae6e97bbda2c8c4f": {
      "model_module": "@jupyter-widgets/base",
      "model_module_version": "1.2.0",
      "model_name": "LayoutModel",
      "state": {
       "display": "none"
      }
     },
     "a9c95ab095924f7bb19ca3ea08aeca35": {
      "model_module": "@jupyter-widgets/base",
      "model_module_version": "1.2.0",
      "model_name": "LayoutModel",
      "state": {
       "order": "-1",
       "overflow": "visible",
       "padding": "1px",
       "width": "0px"
      }
     },
     "aa07b80253da4033b5b1c33e923537ba": {
      "model_module": "@jupyter-widgets/controls",
      "model_module_version": "1.5.0",
      "model_name": "LabelModel",
      "state": {
       "layout": "IPY_MODEL_54360699a2a44060a25332086b1bc666",
       "style": "IPY_MODEL_ae896c137ea8425aafa2979d6e0e6f88",
       "value": "     (1/1)"
      }
     },
     "aa466fcc864941b2be1894a54685617d": {
      "model_module": "@jupyter-widgets/base",
      "model_module_version": "1.2.0",
      "model_name": "LayoutModel",
      "state": {
       "display": "flex",
       "width": "60px"
      }
     },
     "aa47fa7ad4864e80a3cbc04a1b3c385d": {
      "model_module": "@jupyter-widgets/controls",
      "model_module_version": "1.5.0",
      "model_name": "DescriptionStyleModel",
      "state": {
       "description_width": ""
      }
     },
     "aa6ef10139794839863995368b71178a": {
      "model_module": "@jupyter-widgets/base",
      "model_module_version": "1.2.0",
      "model_name": "LayoutModel",
      "state": {
       "display": "none"
      }
     },
     "aa76ce45ed2f48ecb58c2c3071543562": {
      "model_module": "@jupyter-widgets/controls",
      "model_module_version": "1.5.0",
      "model_name": "ButtonModel",
      "state": {
       "layout": "IPY_MODEL_2a2a1d6ba2fc4693b1371d9ad10cbbad",
       "style": "IPY_MODEL_d88d6e7b7bb6483fa34f0757d9ba2644"
      }
     },
     "aa9c9e5224e4413d99136f13fae439ba": {
      "model_module": "@jupyter-widgets/base",
      "model_module_version": "1.2.0",
      "model_name": "LayoutModel",
      "state": {
       "order": "-1",
       "overflow": "visible",
       "padding": "1px",
       "width": "0px"
      }
     },
     "aad089de914c4ab6923f9fbbaea25ed2": {
      "model_module": "@jupyter-widgets/controls",
      "model_module_version": "1.5.0",
      "model_name": "LabelModel",
      "state": {
       "layout": "IPY_MODEL_6106643665634365a0013439f0e8c7b2",
       "style": "IPY_MODEL_7eb049d7194c46aa9c346bc7e61f7bfa",
       "value": "   objective"
      }
     },
     "ab014dec2cec43c2b70f2a31d900c616": {
      "model_module": "@jupyter-widgets/controls",
      "model_module_version": "1.5.0",
      "model_name": "IntProgressModel",
      "state": {
       "bar_style": "success",
       "layout": "IPY_MODEL_c7bb742c31934a0eaa1caf6af2dbc552",
       "max": 25,
       "style": "IPY_MODEL_de8c85680a574dfe9a0875269ac33c3f",
       "value": 25
      }
     },
     "ab28f5b0ac4a4d8d9e36031e8e53b720": {
      "model_module": "@jupyter-widgets/controls",
      "model_module_version": "1.5.0",
      "model_name": "HBoxModel",
      "state": {
       "children": [
        "IPY_MODEL_e02d8b171b8145e68e32fc6adcd98e7d",
        "IPY_MODEL_a0abf477b2d94ac4bd57aedfce7bf673",
        "IPY_MODEL_0b2d8bd240e340a192362889fbdea240",
        "IPY_MODEL_604ab8ffb1104611806c853a9dc03164"
       ],
       "layout": "IPY_MODEL_13be5b95ddf549499af8c95ed122a1bd"
      }
     },
     "ab32bbc32b8a4c398fda670c3183e918": {
      "model_module": "@jupyter-widgets/base",
      "model_module_version": "1.2.0",
      "model_name": "LayoutModel",
      "state": {
       "display": "none"
      }
     },
     "ab5a40f998864158b79c9a9b1eaf2af6": {
      "model_module": "@jupyter-widgets/base",
      "model_module_version": "1.2.0",
      "model_name": "LayoutModel",
      "state": {
       "display": "none",
       "width": "60px"
      }
     },
     "ab61d6de3d814218844e318b6269e91d": {
      "model_module": "@jupyter-widgets/controls",
      "model_module_version": "1.5.0",
      "model_name": "DescriptionStyleModel",
      "state": {
       "description_width": ""
      }
     },
     "ab79bb5c0d9b46e49c97a8b8fe6d27f1": {
      "model_module": "@jupyter-widgets/controls",
      "model_module_version": "1.5.0",
      "model_name": "DescriptionStyleModel",
      "state": {
       "description_width": ""
      }
     },
     "ab8d38307c144f2183c8e8a89f657917": {
      "model_module": "@jupyter-widgets/controls",
      "model_module_version": "1.5.0",
      "model_name": "ButtonModel",
      "state": {
       "layout": "IPY_MODEL_ce6289122240417184a8372747e6bfd9",
       "style": "IPY_MODEL_2b1c69f8c1ae46349255b57ef826a6a6"
      }
     },
     "abc2335cf1c64cac8e4c696ac7e0d959": {
      "model_module": "@jupyter-widgets/controls",
      "model_module_version": "1.5.0",
      "model_name": "ButtonStyleModel",
      "state": {}
     },
     "abe65de79d4949179b6307d94ff1041c": {
      "model_module": "@jupyter-widgets/controls",
      "model_module_version": "1.5.0",
      "model_name": "ButtonStyleModel",
      "state": {}
     },
     "ac38725ad5e647ffbcac7d935571da0a": {
      "model_module": "@jupyter-widgets/controls",
      "model_module_version": "1.5.0",
      "model_name": "ButtonStyleModel",
      "state": {}
     },
     "acadd4f28a3c4494b91f3debf47599ed": {
      "model_module": "@jupyter-widgets/controls",
      "model_module_version": "1.5.0",
      "model_name": "ButtonModel",
      "state": {
       "description": "EDIT",
       "layout": "IPY_MODEL_db67f28630694a34b041664f5ecd39a2",
       "style": "IPY_MODEL_4f4d9a29966e4d779e48c44f66a57f7f"
      }
     },
     "accee890bb35461b937e4191db6d7826": {
      "model_module": "@jupyter-widgets/base",
      "model_module_version": "1.2.0",
      "model_name": "LayoutModel",
      "state": {
       "display": "none"
      }
     },
     "ace6320e992c46659522bbfd523d41d0": {
      "model_module": "@jupyter-widgets/controls",
      "model_module_version": "1.5.0",
      "model_name": "DescriptionStyleModel",
      "state": {
       "description_width": ""
      }
     },
     "acf8f5ec2356432da1d40acd013796f5": {
      "model_module": "@jupyter-widgets/base",
      "model_module_version": "1.2.0",
      "model_name": "LayoutModel",
      "state": {}
     },
     "ad1952b9b007435a854c3927247bd5e3": {
      "model_module": "@jupyter-widgets/controls",
      "model_module_version": "1.5.0",
      "model_name": "LabelModel",
      "state": {
       "layout": "IPY_MODEL_901d5920226b49238f12d75b6a4dd40f",
       "style": "IPY_MODEL_6aecd9f0114244cd8be31b87256acf73",
       "value": "   objective"
      }
     },
     "ad1a60b29ca741e08a3beaca2e0de6d2": {
      "model_module": "@jupyter-widgets/base",
      "model_module_version": "1.2.0",
      "model_name": "LayoutModel",
      "state": {
       "height": "32px",
       "overflow": "visible",
       "width": "100%"
      }
     },
     "ad1ca1dd6aa84ddab9f7db8b361bcdfb": {
      "model_module": "@jupyter-widgets/base",
      "model_module_version": "1.2.0",
      "model_name": "LayoutModel",
      "state": {
       "height": "32px",
       "overflow": "visible",
       "width": "100%"
      }
     },
     "ad21e750aa004be29d461bfe2906c8d1": {
      "model_module": "@jupyter-widgets/controls",
      "model_module_version": "1.5.0",
      "model_name": "DescriptionStyleModel",
      "state": {
       "description_width": ""
      }
     },
     "ad636ebc55b74eb8b0b216a972abbdfe": {
      "model_module": "@jupyter-widgets/controls",
      "model_module_version": "1.5.0",
      "model_name": "ProgressStyleModel",
      "state": {
       "description_width": ""
      }
     },
     "ad6970a56e6b410391d482a1a44d3164": {
      "model_module": "@jupyter-widgets/controls",
      "model_module_version": "1.5.0",
      "model_name": "ButtonModel",
      "state": {
       "description": "EDIT",
       "layout": "IPY_MODEL_220a76fe143c4c3891a2fb10508f99ce",
       "style": "IPY_MODEL_0bb3baf38d97465eb07da31288fafa73"
      }
     },
     "ad72602b23554bc9a64c19344b9b33b5": {
      "model_module": "@jupyter-widgets/controls",
      "model_module_version": "1.5.0",
      "model_name": "DropdownModel",
      "state": {
       "_options_labels": [
        "Any",
        "Hand Cannon",
        "Auto Rifle",
        "Scout Rifle",
        "Pulse Rifle",
        "Sidearm",
        "Submachine Gun",
        "Combt Bow",
        "Sniper Rifle",
        "Shotgun"
       ],
       "index": 0,
       "layout": "IPY_MODEL_784aff25cdc347d888d61dc2bd10db0e",
       "style": "IPY_MODEL_257f7a1964714a8ca9e07b6f12c6279d"
      }
     },
     "ad8a7b75b14947ea9bff59392979fabd": {
      "model_module": "@jupyter-widgets/controls",
      "model_module_version": "1.5.0",
      "model_name": "HBoxModel",
      "state": {
       "children": [
        "IPY_MODEL_90a4286f3e5e4db7b3176352294b2acb",
        "IPY_MODEL_5cd87322c4af4d2f922a6e655b1c7213",
        "IPY_MODEL_e97fe641d0a94959a94793a335baf49d",
        "IPY_MODEL_3ff99c4bf39c4adf98ff71cf85c12998"
       ],
       "layout": "IPY_MODEL_d8b7e7eb7de94aaa91cb9a091101a3c6"
      }
     },
     "ada740cba671478cb9f3b2bb4dff231a": {
      "model_module": "@jupyter-widgets/controls",
      "model_module_version": "1.5.0",
      "model_name": "DescriptionStyleModel",
      "state": {
       "description_width": ""
      }
     },
     "ae345476fe6c407899b21d8ea39f4e16": {
      "model_module": "@jupyter-widgets/controls",
      "model_module_version": "1.5.0",
      "model_name": "LabelModel",
      "state": {
       "layout": "IPY_MODEL_f3e1df7d71624730a1f2b714c30c18ed",
       "style": "IPY_MODEL_1e2f5a876f9947bd821121efddf6a03d",
       "value": "     (1/1)"
      }
     },
     "ae632e99c117462fb204f98cc857673d": {
      "model_module": "@jupyter-widgets/controls",
      "model_module_version": "1.5.0",
      "model_name": "IntProgressModel",
      "state": {
       "bar_style": "success",
       "layout": "IPY_MODEL_910fcbd9c53c4de7a0d3c5c30949d61e",
       "max": 1,
       "style": "IPY_MODEL_bc8914f568dd4de58bd9f1ace5f0e286",
       "value": 1
      }
     },
     "ae896c137ea8425aafa2979d6e0e6f88": {
      "model_module": "@jupyter-widgets/controls",
      "model_module_version": "1.5.0",
      "model_name": "DescriptionStyleModel",
      "state": {
       "description_width": ""
      }
     },
     "aea5d3e33e584d8e9409c25703ef39c2": {
      "model_module": "@jupyter-widgets/base",
      "model_module_version": "1.2.0",
      "model_name": "LayoutModel",
      "state": {
       "order": "-1",
       "overflow": "visible",
       "padding": "1px",
       "width": "0px"
      }
     },
     "aec98b5c14984079a6d5c7a2398f2eaa": {
      "model_module": "@jupyter-widgets/controls",
      "model_module_version": "1.5.0",
      "model_name": "HTMLModel",
      "state": {
       "layout": "IPY_MODEL_1320527ae25f42bb9a62875ec7bd875e",
       "style": "IPY_MODEL_799a0378102c4633a1a53c740be1c996",
       "value": "<font size=\"1\">Triumphs/Lore/The Light/Dust/The Bone</font size=>"
      }
     },
     "aedf616e98bd41f8919c750cd70a72cb": {
      "model_module": "@jupyter-widgets/controls",
      "model_module_version": "1.5.0",
      "model_name": "ButtonModel",
      "state": {
       "layout": "IPY_MODEL_ebae307e6be84c7c9c0cd65b8b8058ae",
       "style": "IPY_MODEL_d2e1221f6bc149f3b0cadf3a961fefdb"
      }
     },
     "af202c22f8864218abca8e88bf590bb0": {
      "model_module": "@jupyter-widgets/controls",
      "model_module_version": "1.5.0",
      "model_name": "HBoxModel",
      "state": {
       "children": [
        "IPY_MODEL_2402edf05d7540b9966c21f461cef4aa",
        "IPY_MODEL_21f7e1ba5bb243bd89222ad3d449dafb",
        "IPY_MODEL_2f87cbb36aba45b39b4bdb25855b7011",
        "IPY_MODEL_35502589e710493cac4aa685cfb99fa5"
       ],
       "layout": "IPY_MODEL_5de7df9d06444514bfb779f4b06e6fe5"
      }
     },
     "af68e111082c4a1da3d5270d3edbf0fa": {
      "model_module": "@jupyter-widgets/base",
      "model_module_version": "1.2.0",
      "model_name": "LayoutModel",
      "state": {
       "height": "32px",
       "order": "-2",
       "width": "32px"
      }
     },
     "afd3e4544dac46fa9ec87474acd962aa": {
      "model_module": "@jupyter-widgets/base",
      "model_module_version": "1.2.0",
      "model_name": "LayoutModel",
      "state": {}
     },
     "b000732625574b3bbbe708901057ad34": {
      "model_module": "@jupyter-widgets/base",
      "model_module_version": "1.2.0",
      "model_name": "LayoutModel",
      "state": {
       "border": "3px solid white",
       "display": "flex",
       "flex": "1 1 0%",
       "margin": "10px",
       "min_width": "400px",
       "overflow": "visible",
       "padding": "10px",
       "width": "auto"
      }
     },
     "b01a176ad57d43ee988839d617c20bde": {
      "model_module": "@jupyter-widgets/controls",
      "model_module_version": "1.5.0",
      "model_name": "DescriptionStyleModel",
      "state": {
       "description_width": ""
      }
     },
     "b01d92ceea03451fbf9e7db161ee1279": {
      "model_module": "@jupyter-widgets/base",
      "model_module_version": "1.2.0",
      "model_name": "LayoutModel",
      "state": {
       "overflow": "visible",
       "width": "100%"
      }
     },
     "b028471581af43e6ae24d2f8fd21b7e2": {
      "model_module": "@jupyter-widgets/controls",
      "model_module_version": "1.5.0",
      "model_name": "DescriptionStyleModel",
      "state": {
       "description_width": ""
      }
     },
     "b0513150ace94069aa742c8fc6c6ae9c": {
      "model_module": "@jupyter-widgets/controls",
      "model_module_version": "1.5.0",
      "model_name": "ButtonStyleModel",
      "state": {}
     },
     "b099bb3edbfd4a359254e9ba66682c85": {
      "model_module": "@jupyter-widgets/base",
      "model_module_version": "1.2.0",
      "model_name": "LayoutModel",
      "state": {
       "height": "32px",
       "overflow": "visible",
       "width": "100%"
      }
     },
     "b0adfcf0f17c45ccabee921f3fd6d860": {
      "model_module": "@jupyter-widgets/controls",
      "model_module_version": "1.5.0",
      "model_name": "HBoxModel",
      "state": {
       "children": [
        "IPY_MODEL_18c6089623704104bf6b0a3eb93559db",
        "IPY_MODEL_520f97b3b55d46f0b6d09bc55aa9c964",
        "IPY_MODEL_a16692ca88f7450ba2a01ce6b0a1a4b3",
        "IPY_MODEL_fff4a2bf2b15478da40d575d1579dece"
       ],
       "layout": "IPY_MODEL_250ca6b20af44507b641defc709de92b"
      }
     },
     "b0e7138819d04d44b332be66b4e38f83": {
      "model_module": "@jupyter-widgets/controls",
      "model_module_version": "1.5.0",
      "model_name": "ButtonModel",
      "state": {
       "layout": "IPY_MODEL_a2b9d5892d2841f3974d429704a474d0",
       "style": "IPY_MODEL_729b58dd031942a983dd4477a42d4fd7"
      }
     },
     "b0f42e7661ba46a6b4d75fec3b061a7a": {
      "model_module": "@jupyter-widgets/base",
      "model_module_version": "1.2.0",
      "model_name": "LayoutModel",
      "state": {
       "height": "32px",
       "overflow": "visible",
       "width": "100%"
      }
     },
     "b126560b91874f5d9af6bfc8554bd43a": {
      "model_module": "@jupyter-widgets/controls",
      "model_module_version": "1.5.0",
      "model_name": "IntProgressModel",
      "state": {
       "bar_style": "success",
       "layout": "IPY_MODEL_b099bb3edbfd4a359254e9ba66682c85",
       "max": 1,
       "style": "IPY_MODEL_b28d2c8f59354a9095ecc08db6b8d8ff",
       "value": 1
      }
     },
     "b150183c9b2b4af690801f5bed271822": {
      "model_module": "@jupyter-widgets/controls",
      "model_module_version": "1.5.0",
      "model_name": "HTMLModel",
      "state": {
       "layout": "IPY_MODEL_465ef214fb064777ab7c4ddc96d60bcc",
       "style": "IPY_MODEL_ba23b332e88d4a708ad83f3f6d886223",
       "value": "<font size=\"5\"><b>The Bone</b></font size=>"
      }
     },
     "b1bbd33008df4399b40f50fc93483788": {
      "model_module": "@jupyter-widgets/controls",
      "model_module_version": "1.5.0",
      "model_name": "ButtonModel",
      "state": {
       "button_style": "success",
       "disabled": true,
       "layout": "IPY_MODEL_9ba1ef23f28949729b19fa7459eb40a4",
       "style": "IPY_MODEL_11177cdb23f44489b0f9f0fc79a2fe62"
      }
     },
     "b1fd8d852ed244ecb8475ba278c0d5fe": {
      "model_module": "@jupyter-widgets/controls",
      "model_module_version": "1.5.0",
      "model_name": "ButtonModel",
      "state": {
       "layout": "IPY_MODEL_6c1734b020a24dda96da9375edb4b5a6",
       "style": "IPY_MODEL_abc2335cf1c64cac8e4c696ac7e0d959"
      }
     },
     "b210de0bbe3a41e8977ae629d9b5e5d2": {
      "model_module": "@jupyter-widgets/controls",
      "model_module_version": "1.5.0",
      "model_name": "DescriptionStyleModel",
      "state": {
       "description_width": ""
      }
     },
     "b255d5a9dee040049143e36a9d1b6660": {
      "model_module": "@jupyter-widgets/controls",
      "model_module_version": "1.5.0",
      "model_name": "ButtonStyleModel",
      "state": {}
     },
     "b284208f51cf49d58c2ecd3a75426dcc": {
      "model_module": "@jupyter-widgets/controls",
      "model_module_version": "1.5.0",
      "model_name": "IntProgressModel",
      "state": {
       "layout": "IPY_MODEL_dccd4111c49f438a86aa977c3139e145",
       "style": "IPY_MODEL_25a83c0da2e7417b8ae0a031dfc98632",
       "value": 30
      }
     },
     "b28d2c8f59354a9095ecc08db6b8d8ff": {
      "model_module": "@jupyter-widgets/controls",
      "model_module_version": "1.5.0",
      "model_name": "ProgressStyleModel",
      "state": {
       "description_width": ""
      }
     },
     "b2e6bf6d15524cc288791721dc7972d2": {
      "model_module": "@jupyter-widgets/controls",
      "model_module_version": "1.5.0",
      "model_name": "IntProgressModel",
      "state": {
       "bar_style": "success",
       "layout": "IPY_MODEL_2495dc994c9146beaac0d36b7034cfb7",
       "max": 1,
       "style": "IPY_MODEL_8a7e0c65e0a54b06811902685b2e74ce",
       "value": 1
      }
     },
     "b2ef090be37248e6ad1e46e5828724da": {
      "model_module": "@jupyter-widgets/controls",
      "model_module_version": "1.5.0",
      "model_name": "ButtonStyleModel",
      "state": {}
     },
     "b314139d86b24f6585b88d9f0742de34": {
      "model_module": "@jupyter-widgets/controls",
      "model_module_version": "1.5.0",
      "model_name": "LabelModel",
      "state": {
       "layout": "IPY_MODEL_04134b2b2c7945209f8ac2f2899c2ecd",
       "style": "IPY_MODEL_0ef6d7fb82524db8a7e8ba69aca824ad",
       "value": "     (1/1)"
      }
     },
     "b339fd12f13147b888a2cfde4129cd01": {
      "model_module": "@jupyter-widgets/base",
      "model_module_version": "1.2.0",
      "model_name": "LayoutModel",
      "state": {}
     },
     "b351030679564989b78559f87a88f9a5": {
      "model_module": "@jupyter-widgets/controls",
      "model_module_version": "1.5.0",
      "model_name": "DescriptionStyleModel",
      "state": {
       "description_width": ""
      }
     },
     "b37cb92c15c247c89c66e8177bcdb5be": {
      "model_module": "@jupyter-widgets/controls",
      "model_module_version": "1.5.0",
      "model_name": "ButtonModel",
      "state": {
       "description": "EDIT",
       "layout": "IPY_MODEL_ff498804d09d47baa7c97078d8a52ddf",
       "style": "IPY_MODEL_7379e37d36fe42e087e5f657caa0543a"
      }
     },
     "b3ac17974b3f46c2a33e6d26d63b4dbd": {
      "model_module": "@jupyter-widgets/controls",
      "model_module_version": "1.5.0",
      "model_name": "ButtonModel",
      "state": {
       "description": "EDIT",
       "layout": "IPY_MODEL_c8014247197e4026ac17f859dbe1e04c",
       "style": "IPY_MODEL_b2ef090be37248e6ad1e46e5828724da"
      }
     },
     "b3c7f81156204eed80eba36559af7702": {
      "model_module": "@jupyter-widgets/base",
      "model_module_version": "1.2.0",
      "model_name": "LayoutModel",
      "state": {
       "height": "32px",
       "overflow": "visible",
       "width": "100%"
      }
     },
     "b3d727cbeceb4117bf800288d73d4cc9": {
      "model_module": "@jupyter-widgets/base",
      "model_module_version": "1.2.0",
      "model_name": "LayoutModel",
      "state": {
       "display": "none"
      }
     },
     "b3e6cb2fda904bc0bc1f77e4f2f74d68": {
      "model_module": "@jupyter-widgets/controls",
      "model_module_version": "1.5.0",
      "model_name": "IntProgressModel",
      "state": {
       "layout": "IPY_MODEL_60da77bbbdfe47cf979ec0e1844b4ec5",
       "style": "IPY_MODEL_9f113b05851745bdb0dba87b37f351cf",
       "value": 30
      }
     },
     "b461af0d390b48029b4af60dee9114ef": {
      "model_module": "@jupyter-widgets/base",
      "model_module_version": "1.2.0",
      "model_name": "LayoutModel",
      "state": {
       "height": "32px",
       "overflow": "visible",
       "width": "100%"
      }
     },
     "b4aacb1b9a214b138591a9daf11233c6": {
      "model_module": "@jupyter-widgets/base",
      "model_module_version": "1.2.0",
      "model_name": "LayoutModel",
      "state": {
       "height": "32px",
       "order": "-2",
       "width": "32px"
      }
     },
     "b4aefbc0b3704f6598fc821ee683f97f": {
      "model_module": "@jupyter-widgets/base",
      "model_module_version": "1.2.0",
      "model_name": "LayoutModel",
      "state": {
       "height": "32px",
       "order": "-2",
       "width": "32px"
      }
     },
     "b4d54188b0e64637974508b39dc1e275": {
      "model_module": "@jupyter-widgets/base",
      "model_module_version": "1.2.0",
      "model_name": "LayoutModel",
      "state": {
       "display": "none"
      }
     },
     "b4e2d804cfce42a7b7b479660dfe6f4d": {
      "model_module": "@jupyter-widgets/controls",
      "model_module_version": "1.5.0",
      "model_name": "ButtonModel",
      "state": {
       "button_style": "success",
       "disabled": true,
       "layout": "IPY_MODEL_230d533dd1c44c968d85775e2d65bc5d",
       "style": "IPY_MODEL_4969858e10a943d7a22a0155633f1d7d"
      }
     },
     "b55b6968d4e2425e9a93be7674c6d38b": {
      "model_module": "@jupyter-widgets/base",
      "model_module_version": "1.2.0",
      "model_name": "LayoutModel",
      "state": {
       "height": "32px",
       "order": "-2",
       "width": "32px"
      }
     },
     "b56301e097a443e6bd59c879cad9c58e": {
      "model_module": "@jupyter-widgets/controls",
      "model_module_version": "1.5.0",
      "model_name": "HBoxModel",
      "state": {
       "children": [
        "IPY_MODEL_9852f7e8a1c847aa9d546ebf70bb2cbf",
        "IPY_MODEL_cee718bb60814a35b8f4dd43b6fe6bd8",
        "IPY_MODEL_0696c613037f4848982e9e69c932f1e0",
        "IPY_MODEL_8f58a19bbd2c4c67b8d1e072e34a11c6"
       ],
       "layout": "IPY_MODEL_9ef4fa598dc54a629e11637a28f9c150"
      }
     },
     "b569dc4a107f41dab9c8a8601f903ec4": {
      "model_module": "@jupyter-widgets/base",
      "model_module_version": "1.2.0",
      "model_name": "LayoutModel",
      "state": {
       "order": "-1",
       "overflow": "visible",
       "padding": "1px",
       "width": "0px"
      }
     },
     "b56cfabb5600463a80eef8f185599ef1": {
      "model_module": "@jupyter-widgets/controls",
      "model_module_version": "1.5.0",
      "model_name": "DescriptionStyleModel",
      "state": {
       "description_width": ""
      }
     },
     "b571dfc3e0eb46549a59bc477a724d5e": {
      "model_module": "@jupyter-widgets/controls",
      "model_module_version": "1.5.0",
      "model_name": "IntProgressModel",
      "state": {
       "layout": "IPY_MODEL_ba101d31225b460b89ceecd09fd12076",
       "style": "IPY_MODEL_b83e78ecfec44119b58c2122f9ca1de6",
       "value": 30
      }
     },
     "b5a111f42147476c86c99f035e8adfaf": {
      "model_module": "@jupyter-widgets/base",
      "model_module_version": "1.2.0",
      "model_name": "LayoutModel",
      "state": {}
     },
     "b5affd037fb8499f84144a6f77015143": {
      "model_module": "@jupyter-widgets/controls",
      "model_module_version": "1.5.0",
      "model_name": "VBoxModel",
      "state": {
       "children": [
        "IPY_MODEL_72602825b49b46dea9184f186fe0d744",
        "IPY_MODEL_7e85778ac8ec4166a44371dcf3d56860",
        "IPY_MODEL_e290816fe88843a493772d4f960db555",
        "IPY_MODEL_6457121b36de4d01a0621d9c323aaee3"
       ],
       "layout": "IPY_MODEL_1c4b53c6428c4608a84b7da433b5afef"
      }
     },
     "b655805e8c6b45159b2cbfd360afeb45": {
      "model_module": "@jupyter-widgets/controls",
      "model_module_version": "1.5.0",
      "model_name": "ButtonStyleModel",
      "state": {}
     },
     "b689b908662b4f4fbb7c8c8b9c3df191": {
      "model_module": "@jupyter-widgets/controls",
      "model_module_version": "1.5.0",
      "model_name": "VBoxModel",
      "state": {
       "children": [
        "IPY_MODEL_7065c61337154b1ba12a492a6adee68d",
        "IPY_MODEL_56f8e28ba0424f54977757117d6d074a",
        "IPY_MODEL_4f3c913bbbc84e808dcbd2c5c8f44f28",
        "IPY_MODEL_4f073360dafb4b04a1450391a8f52f49",
        "IPY_MODEL_ab28f5b0ac4a4d8d9e36031e8e53b720",
        "IPY_MODEL_79c63713959b48a99c5c73403b377cb3"
       ],
       "layout": "IPY_MODEL_3a7a391358804544ab46f1121387448a"
      }
     },
     "b6a06a9fe9e448a1bacf9dec90c7a3ad": {
      "model_module": "@jupyter-widgets/base",
      "model_module_version": "1.2.0",
      "model_name": "LayoutModel",
      "state": {
       "display": "flex",
       "width": "60px"
      }
     },
     "b6e1402c27d14041bda02c43dbbc63bc": {
      "model_module": "@jupyter-widgets/controls",
      "model_module_version": "1.5.0",
      "model_name": "LabelModel",
      "state": {
       "layout": "IPY_MODEL_a0787cbc13e84098832ec0106b15e369",
       "style": "IPY_MODEL_9f767b7890594c22a902d53ea6bef257",
       "value": "   objective"
      }
     },
     "b701376b4fbb48a189b39eef4a5f43cb": {
      "model_module": "@jupyter-widgets/base",
      "model_module_version": "1.2.0",
      "model_name": "LayoutModel",
      "state": {
       "height": "32px",
       "overflow": "visible",
       "width": "100%"
      }
     },
     "b752a7fac3e64b2cbf54b81b196e63bd": {
      "model_module": "@jupyter-widgets/controls",
      "model_module_version": "1.5.0",
      "model_name": "ButtonStyleModel",
      "state": {}
     },
     "b760041b4e1844b7bcccda083b5d2c2a": {
      "model_module": "@jupyter-widgets/base",
      "model_module_version": "1.2.0",
      "model_name": "LayoutModel",
      "state": {
       "display": "none"
      }
     },
     "b784165369074db5957a3819f365e194": {
      "model_module": "@jupyter-widgets/controls",
      "model_module_version": "1.5.0",
      "model_name": "VBoxModel",
      "state": {
       "children": [
        "IPY_MODEL_ffb67016c24347a0af883c0407de75b9",
        "IPY_MODEL_191d963007fa4f5e83098816b8838410"
       ],
       "layout": "IPY_MODEL_5268369b44c448b2a4dd1aa624c35bf2"
      }
     },
     "b790d00d4f8549cb88f7d3ea6f7b8e0c": {
      "model_module": "@jupyter-widgets/controls",
      "model_module_version": "1.5.0",
      "model_name": "IntProgressModel",
      "state": {
       "layout": "IPY_MODEL_9216f1c768084128a40cd57133acc417",
       "style": "IPY_MODEL_783076011d4446478eca1659dc56f25c",
       "value": 30
      }
     },
     "b798a1c804be4b9b9ddbaa106bbb8b40": {
      "model_module": "@jupyter-widgets/controls",
      "model_module_version": "1.5.0",
      "model_name": "ButtonModel",
      "state": {
       "description": "EDIT",
       "layout": "IPY_MODEL_701fe6d6bb694220889a5d1743d45dc0",
       "style": "IPY_MODEL_4fe3c929977e4100989a856f4b66d67f"
      }
     },
     "b8008f2700514154a18c4fec10eae5e8": {
      "model_module": "@jupyter-widgets/controls",
      "model_module_version": "1.5.0",
      "model_name": "HBoxModel",
      "state": {
       "children": [
        "IPY_MODEL_689922036d484cf586a9239e3fb1e3e5",
        "IPY_MODEL_50924bdce495447b9b2f70c48de948b3",
        "IPY_MODEL_c5346b0ece504ac08843ddc5b3666a5d",
        "IPY_MODEL_57a17eb7d72e4de6b70344b80b0704e4"
       ],
       "layout": "IPY_MODEL_b3d727cbeceb4117bf800288d73d4cc9"
      }
     },
     "b83e78ecfec44119b58c2122f9ca1de6": {
      "model_module": "@jupyter-widgets/controls",
      "model_module_version": "1.5.0",
      "model_name": "ProgressStyleModel",
      "state": {
       "description_width": ""
      }
     },
     "b897f0ee07784db39449fbf933cc6d04": {
      "model_module": "@jupyter-widgets/base",
      "model_module_version": "1.2.0",
      "model_name": "LayoutModel",
      "state": {
       "order": "-1",
       "overflow": "visible",
       "padding": "1px",
       "width": "0px"
      }
     },
     "b8988c51610a46ae80f80d3e5cf1295a": {
      "model_module": "@jupyter-widgets/controls",
      "model_module_version": "1.5.0",
      "model_name": "ButtonStyleModel",
      "state": {}
     },
     "b898d2dd5f124bf89b2763eb0ff35ce9": {
      "model_module": "@jupyter-widgets/controls",
      "model_module_version": "1.5.0",
      "model_name": "DropdownModel",
      "state": {
       "_options_labels": [
        "Any",
        "Titan",
        "Hunter",
        "Warlock"
       ],
       "index": 0,
       "layout": "IPY_MODEL_784aff25cdc347d888d61dc2bd10db0e",
       "style": "IPY_MODEL_6e99de00056e4b00a61a25b94137ec33"
      }
     },
     "b8a41e4317ce469eb70f413a4dbbb190": {
      "model_module": "@jupyter-widgets/controls",
      "model_module_version": "1.5.0",
      "model_name": "ProgressStyleModel",
      "state": {
       "description_width": ""
      }
     },
     "b8c5893e9da64d768a81462ec7aaddb6": {
      "model_module": "@jupyter-widgets/controls",
      "model_module_version": "1.5.0",
      "model_name": "ButtonModel",
      "state": {
       "layout": "IPY_MODEL_3868b1d574d5481d9fcc125f693db9a1",
       "style": "IPY_MODEL_cbda678397854f5d835c14807a4abc6a"
      }
     },
     "b8dd39fcd189436fb7eecfca31fd8ac2": {
      "model_module": "@jupyter-widgets/controls",
      "model_module_version": "1.5.0",
      "model_name": "ButtonModel",
      "state": {
       "description": "EDIT",
       "layout": "IPY_MODEL_76db2cebca2d40b09e24a599a3132f20",
       "style": "IPY_MODEL_f268f212253e43bc91c4220e44da2446"
      }
     },
     "b8e04d9850c54da9850b9d344b73dffb": {
      "model_module": "@jupyter-widgets/controls",
      "model_module_version": "1.5.0",
      "model_name": "ButtonStyleModel",
      "state": {}
     },
     "b8eaa4eaaa954125bb43b155b28b6f34": {
      "model_module": "@jupyter-widgets/controls",
      "model_module_version": "1.5.0",
      "model_name": "LabelModel",
      "state": {
       "layout": "IPY_MODEL_97137c59d0264f449bf59184a4350430",
       "style": "IPY_MODEL_fc7b9216faca49c097fdf01c3bfab993",
       "value": "   objective"
      }
     },
     "b9039ff071ab4ac8913e61955a5014c0": {
      "model_module": "@jupyter-widgets/controls",
      "model_module_version": "1.5.0",
      "model_name": "ButtonStyleModel",
      "state": {}
     },
     "b91acc37bb174adfa87dd1b0382e3847": {
      "model_module": "@jupyter-widgets/controls",
      "model_module_version": "1.5.0",
      "model_name": "LabelModel",
      "state": {
       "layout": "IPY_MODEL_3599eb8523e74f18b973c3e3c6cee920",
       "style": "IPY_MODEL_e62d180a840e465986d7229caad83878",
       "value": "   objective"
      }
     },
     "b94a7b23ae9a47898fa184af5e56d69f": {
      "model_module": "@jupyter-widgets/base",
      "model_module_version": "1.2.0",
      "model_name": "LayoutModel",
      "state": {
       "height": "32px",
       "order": "-2",
       "width": "32px"
      }
     },
     "b97c20ebeb694011ac5d60814b4e28be": {
      "model_module": "@jupyter-widgets/controls",
      "model_module_version": "1.5.0",
      "model_name": "LabelModel",
      "state": {
       "layout": "IPY_MODEL_b897f0ee07784db39449fbf933cc6d04",
       "style": "IPY_MODEL_9aed409960114a5a892eae8ec80542e7",
       "value": "   objective"
      }
     },
     "b9bbdadd18d94b60b55409a2923e3191": {
      "model_module": "@jupyter-widgets/controls",
      "model_module_version": "1.5.0",
      "model_name": "VBoxModel",
      "state": {
       "children": [
        "IPY_MODEL_87fbde6c23ba42d78efb96add8781989",
        "IPY_MODEL_c602049c73664450a8e4740444f7d21a",
        "IPY_MODEL_7ec98307af27477baecf0cc8e299a3d3",
        "IPY_MODEL_c36eec99177d4a75a40a95450cc11b63"
       ],
       "layout": "IPY_MODEL_d4b051f9feaa4790a69afde8c64919aa"
      }
     },
     "ba101d31225b460b89ceecd09fd12076": {
      "model_module": "@jupyter-widgets/base",
      "model_module_version": "1.2.0",
      "model_name": "LayoutModel",
      "state": {
       "height": "32px",
       "overflow": "visible",
       "width": "100%"
      }
     },
     "ba127c02052349618b9ca8d318b69248": {
      "model_module": "@jupyter-widgets/base",
      "model_module_version": "1.2.0",
      "model_name": "LayoutModel",
      "state": {
       "height": "32px",
       "overflow": "visible",
       "width": "100%"
      }
     },
     "ba15314389324898b314e2271523b4b3": {
      "model_module": "@jupyter-widgets/controls",
      "model_module_version": "1.5.0",
      "model_name": "ButtonStyleModel",
      "state": {}
     },
     "ba1672a4e5214041b4e341f237db6065": {
      "model_module": "@jupyter-widgets/controls",
      "model_module_version": "1.5.0",
      "model_name": "ButtonModel",
      "state": {
       "layout": "IPY_MODEL_232d7b9153b648e9838e4fa92199155c",
       "style": "IPY_MODEL_19d188dc054b4170aed7d0aee3f8642f"
      }
     },
     "ba23b332e88d4a708ad83f3f6d886223": {
      "model_module": "@jupyter-widgets/controls",
      "model_module_version": "1.5.0",
      "model_name": "DescriptionStyleModel",
      "state": {
       "description_width": ""
      }
     },
     "ba44062542274d188ecd2fb1badd9f50": {
      "model_module": "@jupyter-widgets/base",
      "model_module_version": "1.2.0",
      "model_name": "LayoutModel",
      "state": {
       "display": "none"
      }
     },
     "ba84a29b0c664bb9b99a8cb10b4a42a2": {
      "model_module": "@jupyter-widgets/base",
      "model_module_version": "1.2.0",
      "model_name": "LayoutModel",
      "state": {
       "display": "none"
      }
     },
     "ba972d415dfe4f84925190450de9dfea": {
      "model_module": "@jupyter-widgets/controls",
      "model_module_version": "1.5.0",
      "model_name": "ProgressStyleModel",
      "state": {
       "description_width": ""
      }
     },
     "bab5ac87ff244a6fb6b244a4cf6e8699": {
      "model_module": "@jupyter-widgets/base",
      "model_module_version": "1.2.0",
      "model_name": "LayoutModel",
      "state": {
       "display": "none",
       "width": "95%"
      }
     },
     "babc4cccda634e5b919dbf24db72b347": {
      "model_module": "@jupyter-widgets/controls",
      "model_module_version": "1.5.0",
      "model_name": "ButtonStyleModel",
      "state": {}
     },
     "bb2a0fe5bb8b41d8917d845865e4c58a": {
      "model_module": "@jupyter-widgets/controls",
      "model_module_version": "1.5.0",
      "model_name": "HBoxModel",
      "state": {
       "children": [
        "IPY_MODEL_9a5c0fa939de4d4380b163e5ba53c761",
        "IPY_MODEL_4531605ced8e4fe086e78e77f1116dd3",
        "IPY_MODEL_ca57eefad5b6492a845419cbda1ec52b",
        "IPY_MODEL_92b3bb8858a9440f9538e4683d380ced"
       ],
       "layout": "IPY_MODEL_1aae9ec419df4b718a5e9df9b5a79beb"
      }
     },
     "bb37be5619024fc28ebd53db4ade70a5": {
      "model_module": "@jupyter-widgets/base",
      "model_module_version": "1.2.0",
      "model_name": "LayoutModel",
      "state": {
       "border": "3px solid white",
       "display": "flex",
       "flex": "1 1 0%",
       "margin": "10px",
       "min_width": "400px",
       "overflow": "visible",
       "padding": "10px",
       "width": "auto"
      }
     },
     "bb444f7d96284b58874d5dd74b023a9f": {
      "model_module": "@jupyter-widgets/base",
      "model_module_version": "1.2.0",
      "model_name": "LayoutModel",
      "state": {
       "overflow": "visible",
       "width": "100%"
      }
     },
     "bb60a5c8bf1443088b582af2b0a93f0f": {
      "model_module": "@jupyter-widgets/controls",
      "model_module_version": "1.5.0",
      "model_name": "HBoxModel",
      "state": {
       "children": [
        "IPY_MODEL_86759b7d90c949a3999ef80922eaa78a",
        "IPY_MODEL_ae632e99c117462fb204f98cc857673d",
        "IPY_MODEL_f7191477aa4a44a3b8fb5e18ad4f72f7",
        "IPY_MODEL_26b9eba65d244e1cb8e3be9a7018211d"
       ],
       "layout": "IPY_MODEL_cf54fb2dfed74dc2a252507ee7b27ea5"
      }
     },
     "bb77b03311bc4891880a84555e787635": {
      "model_module": "@jupyter-widgets/base",
      "model_module_version": "1.2.0",
      "model_name": "LayoutModel",
      "state": {
       "display": "none",
       "width": "60px"
      }
     },
     "bb947bf613e445019062ff2a3db0a9d6": {
      "model_module": "@jupyter-widgets/base",
      "model_module_version": "1.2.0",
      "model_name": "LayoutModel",
      "state": {
       "order": "-1",
       "overflow": "visible",
       "padding": "1px",
       "width": "0px"
      }
     },
     "bbf3e82f96a54806970d664e46b7308d": {
      "model_module": "@jupyter-widgets/controls",
      "model_module_version": "1.5.0",
      "model_name": "ButtonStyleModel",
      "state": {}
     },
     "bc0143cb0a5443e5b6a55fd38d27636e": {
      "model_module": "@jupyter-widgets/controls",
      "model_module_version": "1.5.0",
      "model_name": "DescriptionStyleModel",
      "state": {
       "description_width": ""
      }
     },
     "bc201a5f0e3b4282a81082eed0aa87de": {
      "model_module": "@jupyter-widgets/controls",
      "model_module_version": "1.5.0",
      "model_name": "HBoxModel",
      "state": {
       "children": [
        "IPY_MODEL_cf34e80e1d2d4460a87db36ccfa53d52",
        "IPY_MODEL_2818a18b440d4a779d86b605cb88290c",
        "IPY_MODEL_7b1d7836da2c44b8a45add8cf0938a48",
        "IPY_MODEL_db2bebd5133d4f778ccc69a0e5a16c77"
       ],
       "layout": "IPY_MODEL_e9e8ab1ee8f248c7a604f104644a23ca"
      }
     },
     "bc5034db170746c5a7f32a05a6617679": {
      "model_module": "@jupyter-widgets/base",
      "model_module_version": "1.2.0",
      "model_name": "LayoutModel",
      "state": {}
     },
     "bc643a42923a44ae9414775388d13c55": {
      "model_module": "@jupyter-widgets/controls",
      "model_module_version": "1.5.0",
      "model_name": "ButtonStyleModel",
      "state": {}
     },
     "bc8914f568dd4de58bd9f1ace5f0e286": {
      "model_module": "@jupyter-widgets/controls",
      "model_module_version": "1.5.0",
      "model_name": "ProgressStyleModel",
      "state": {
       "description_width": ""
      }
     },
     "bcc4b45c3c204188a9e3c1065fdb2d3c": {
      "model_module": "@jupyter-widgets/controls",
      "model_module_version": "1.5.0",
      "model_name": "ButtonStyleModel",
      "state": {}
     },
     "bd304a337fa646f78b710e8cbcb48c6f": {
      "model_module": "@jupyter-widgets/controls",
      "model_module_version": "1.5.0",
      "model_name": "ButtonStyleModel",
      "state": {}
     },
     "bdcd02752f6d43adafdeaf3541348b82": {
      "model_module": "@jupyter-widgets/controls",
      "model_module_version": "1.5.0",
      "model_name": "IntProgressModel",
      "state": {
       "bar_style": "success",
       "layout": "IPY_MODEL_c526f7112cb64fe3b465c529e69c7b7e",
       "max": 1,
       "style": "IPY_MODEL_9d12db854d68494c91eca666f3ca8ac9",
       "value": 1
      }
     },
     "bde2e334c9a942389c1e20a2a499548b": {
      "model_module": "@jupyter-widgets/base",
      "model_module_version": "1.2.0",
      "model_name": "LayoutModel",
      "state": {
       "display": "flex",
       "flex_flow": "row wrap"
      }
     },
     "be28895690af4a4abba28f163ad33fec": {
      "model_module": "@jupyter-widgets/base",
      "model_module_version": "1.2.0",
      "model_name": "LayoutModel",
      "state": {}
     },
     "bf2d332902d14c168b9fccc6b7f8a9c6": {
      "model_module": "@jupyter-widgets/base",
      "model_module_version": "1.2.0",
      "model_name": "LayoutModel",
      "state": {}
     },
     "bf4a540cb9ca4b7ca361caa4a9e3308e": {
      "model_module": "@jupyter-widgets/base",
      "model_module_version": "1.2.0",
      "model_name": "LayoutModel",
      "state": {
       "height": "32px",
       "order": "-2",
       "width": "32px"
      }
     },
     "bf97832181e546ed91a93b366d73fc9a": {
      "model_module": "@jupyter-widgets/controls",
      "model_module_version": "1.5.0",
      "model_name": "LabelModel",
      "state": {
       "layout": "IPY_MODEL_3b0393f9fedd49579b50c7db31fc66ba",
       "style": "IPY_MODEL_736b42e4f9ae4089843953ac5c138e93",
       "value": "     (1/1)"
      }
     },
     "bfd4da3dce754a1f81c56a22ffd43ed5": {
      "model_module": "@jupyter-widgets/controls",
      "model_module_version": "1.5.0",
      "model_name": "ButtonStyleModel",
      "state": {}
     },
     "bfd946b46c934bb4a7315e6add3ccbcf": {
      "model_module": "@jupyter-widgets/controls",
      "model_module_version": "1.5.0",
      "model_name": "ButtonStyleModel",
      "state": {}
     },
     "c033e48b74b546d0903b2afcdd6abf78": {
      "model_module": "@jupyter-widgets/controls",
      "model_module_version": "1.5.0",
      "model_name": "ButtonStyleModel",
      "state": {}
     },
     "c0381bda17a647f4baf3e000fe0b6ad6": {
      "model_module": "@jupyter-widgets/controls",
      "model_module_version": "1.5.0",
      "model_name": "ButtonModel",
      "state": {
       "description": "EDIT",
       "layout": "IPY_MODEL_09a8143543404638a2ba90420d231e12",
       "style": "IPY_MODEL_e451d83e4ad841daabc0f6fec3206367"
      }
     },
     "c097e5cb7e354d60bbee6d7de9ffaa61": {
      "model_module": "@jupyter-widgets/base",
      "model_module_version": "1.2.0",
      "model_name": "LayoutModel",
      "state": {
       "order": "-1",
       "overflow": "visible",
       "padding": "1px",
       "width": "0px"
      }
     },
     "c0a6a4c596224adc97571d472cfb06f9": {
      "model_module": "@jupyter-widgets/base",
      "model_module_version": "1.2.0",
      "model_name": "LayoutModel",
      "state": {
       "overflow": "visible",
       "width": "100%"
      }
     },
     "c0af579ea7bc4ec8b47cbbf0594a049a": {
      "model_module": "@jupyter-widgets/controls",
      "model_module_version": "1.5.0",
      "model_name": "ProgressStyleModel",
      "state": {
       "description_width": ""
      }
     },
     "c0f58609178b474b9d053f0aa275a8b8": {
      "model_module": "@jupyter-widgets/controls",
      "model_module_version": "1.5.0",
      "model_name": "IntProgressModel",
      "state": {
       "layout": "IPY_MODEL_de30e614aa66447dbf9ea4a5c895acb4",
       "style": "IPY_MODEL_248d6186a02642f9906010509ca9f4a3",
       "value": 30
      }
     },
     "c17719d1011e4164ae8d8e992c1ddb69": {
      "model_module": "@jupyter-widgets/controls",
      "model_module_version": "1.5.0",
      "model_name": "VBoxModel",
      "state": {
       "children": [
        "IPY_MODEL_cc895ab0d5ee4f98b35519e13d329c20",
        "IPY_MODEL_9639665fc32c44aca92445bdd96e8da6",
        "IPY_MODEL_140d177a68f042be97f4cba4509ac1da",
        "IPY_MODEL_b689b908662b4f4fbb7c8c8b9c3df191"
       ],
       "layout": "IPY_MODEL_24b5eebaea3f4e34af2c2340b03b21b0"
      }
     },
     "c18bf57b7a424827b861837ac22d19d1": {
      "model_module": "@jupyter-widgets/controls",
      "model_module_version": "1.5.0",
      "model_name": "IntProgressModel",
      "state": {
       "layout": "IPY_MODEL_453dd19311704034ba699cc3230b7a7c",
       "style": "IPY_MODEL_35b4f656c6244d909a4fd0d9daf9d2ef",
       "value": 30
      }
     },
     "c198717c519544679d241c153a3f9551": {
      "model_module": "@jupyter-widgets/base",
      "model_module_version": "1.2.0",
      "model_name": "LayoutModel",
      "state": {
       "display": "none",
       "width": "60px"
      }
     },
     "c1add534b5344cb29967c1130650bd3d": {
      "model_module": "@jupyter-widgets/controls",
      "model_module_version": "1.5.0",
      "model_name": "ButtonModel",
      "state": {
       "layout": "IPY_MODEL_0b8cb6f6e4564fc6b03bd419545af0be",
       "style": "IPY_MODEL_b8e04d9850c54da9850b9d344b73dffb"
      }
     },
     "c1f525308dec4dd482777ecf581067ff": {
      "model_module": "@jupyter-widgets/base",
      "model_module_version": "1.2.0",
      "model_name": "LayoutModel",
      "state": {
       "order": "-1",
       "overflow": "visible",
       "padding": "1px",
       "width": "0px"
      }
     },
     "c2022fb513124f018ab185b4d8c0ce8b": {
      "model_module": "@jupyter-widgets/base",
      "model_module_version": "1.2.0",
      "model_name": "LayoutModel",
      "state": {
       "height": "32px",
       "overflow": "visible",
       "width": "100%"
      }
     },
     "c24311e8d6f1481c9e0487cd750069a1": {
      "model_module": "@jupyter-widgets/base",
      "model_module_version": "1.2.0",
      "model_name": "LayoutModel",
      "state": {
       "display": "none"
      }
     },
     "c2582ac7fba64565ab99e231577dac90": {
      "model_module": "@jupyter-widgets/controls",
      "model_module_version": "1.5.0",
      "model_name": "DescriptionStyleModel",
      "state": {
       "description_width": ""
      }
     },
     "c2967b8e314a4ace92a56bdfb4c3dd8e": {
      "model_module": "@jupyter-widgets/base",
      "model_module_version": "1.2.0",
      "model_name": "LayoutModel",
      "state": {
       "order": "-1",
       "overflow": "visible",
       "padding": "1px",
       "width": "0px"
      }
     },
     "c2a0e730b3b0419c96aa804f1b490842": {
      "model_module": "@jupyter-widgets/controls",
      "model_module_version": "1.5.0",
      "model_name": "ProgressStyleModel",
      "state": {
       "description_width": ""
      }
     },
     "c2c36684b7b5478dbcd315ab8d275bf6": {
      "model_module": "@jupyter-widgets/controls",
      "model_module_version": "1.5.0",
      "model_name": "ButtonStyleModel",
      "state": {}
     },
     "c2c79f780a43438fbc5e4de746adc0f2": {
      "model_module": "@jupyter-widgets/base",
      "model_module_version": "1.2.0",
      "model_name": "LayoutModel",
      "state": {
       "display": "none",
       "width": "60px"
      }
     },
     "c2cb3c3a9b0e47ce9e25db46baa119ac": {
      "model_module": "@jupyter-widgets/controls",
      "model_module_version": "1.5.0",
      "model_name": "HTMLModel",
      "state": {
       "layout": "IPY_MODEL_ccf7308ba72e4ffb9a61872e0e970094",
       "style": "IPY_MODEL_c9c24ebb50e84553a2b2a3c5b374439e",
       "value": "<i>Achieve a Glory rank of \"Legend\" in any season.</i>"
      }
     },
     "c32ba33dced94491a4e1fe0be1b9999d": {
      "model_module": "@jupyter-widgets/base",
      "model_module_version": "1.2.0",
      "model_name": "LayoutModel",
      "state": {
       "display": "none"
      }
     },
     "c3492426f37d43b787e0ea8cd2bc801a": {
      "model_module": "@jupyter-widgets/controls",
      "model_module_version": "1.5.0",
      "model_name": "ButtonStyleModel",
      "state": {}
     },
     "c36eec99177d4a75a40a95450cc11b63": {
      "model_module": "@jupyter-widgets/controls",
      "model_module_version": "1.5.0",
      "model_name": "VBoxModel",
      "state": {
       "children": [
        "IPY_MODEL_8a2b3b8109734f44859e050e7ea4b078",
        "IPY_MODEL_0053f744e7584eb5aed4a7b5b0c89d23",
        "IPY_MODEL_e482cbd0aec5428198a573a42acbf8f9",
        "IPY_MODEL_372562bf3f314710873f1b913b7917c8",
        "IPY_MODEL_ad8a7b75b14947ea9bff59392979fabd",
        "IPY_MODEL_74a10c5fac9741beb2bdf9d04338897d"
       ],
       "layout": "IPY_MODEL_bc5034db170746c5a7f32a05a6617679"
      }
     },
     "c371b54f9714484698f5130a086c99ee": {
      "model_module": "@jupyter-widgets/base",
      "model_module_version": "1.2.0",
      "model_name": "LayoutModel",
      "state": {
       "display": "none",
       "width": "60px"
      }
     },
     "c396c6e2ad30465bb8229350333db1f4": {
      "model_module": "@jupyter-widgets/base",
      "model_module_version": "1.2.0",
      "model_name": "LayoutModel",
      "state": {
       "height": "32px",
       "overflow": "visible",
       "width": "100%"
      }
     },
     "c3a094e4c67c436aaa7d823fd81d0a5c": {
      "model_module": "@jupyter-widgets/base",
      "model_module_version": "1.2.0",
      "model_name": "LayoutModel",
      "state": {
       "display": "none",
       "width": "60px"
      }
     },
     "c3ab6bda6ed84217aec8ae99b4228978": {
      "model_module": "@jupyter-widgets/controls",
      "model_module_version": "1.5.0",
      "model_name": "IntProgressModel",
      "state": {
       "layout": "IPY_MODEL_b701376b4fbb48a189b39eef4a5f43cb",
       "max": 1000,
       "style": "IPY_MODEL_fcadf70e61e8418eb30642a0e8d94620",
       "value": 289
      }
     },
     "c3cc2ce336c44e579932de23f102be20": {
      "model_module": "@jupyter-widgets/base",
      "model_module_version": "1.2.0",
      "model_name": "LayoutModel",
      "state": {
       "display": "none",
       "width": "60px"
      }
     },
     "c3cdd8bcd99140ac9df57d8f3ad981a4": {
      "model_module": "@jupyter-widgets/controls",
      "model_module_version": "1.5.0",
      "model_name": "LabelModel",
      "state": {
       "layout": "IPY_MODEL_f9f21fcbb8d24fb092edfb8091b55afe",
       "style": "IPY_MODEL_b210de0bbe3a41e8977ae629d9b5e5d2",
       "value": "   objective"
      }
     },
     "c408f6481ec6443ab485f345cfb1ad00": {
      "model_module": "@jupyter-widgets/controls",
      "model_module_version": "1.5.0",
      "model_name": "DescriptionStyleModel",
      "state": {
       "description_width": ""
      }
     },
     "c493e372c4ed43ce925f63cb9c828605": {
      "model_module": "@jupyter-widgets/controls",
      "model_module_version": "1.5.0",
      "model_name": "ProgressStyleModel",
      "state": {
       "description_width": ""
      }
     },
     "c4abd396b13a48c38cd8c2fe1c3cc3a7": {
      "model_module": "@jupyter-widgets/base",
      "model_module_version": "1.2.0",
      "model_name": "LayoutModel",
      "state": {
       "height": "32px",
       "order": "-2",
       "width": "32px"
      }
     },
     "c4cf7147165c485788a3f56547f01153": {
      "model_module": "@jupyter-widgets/controls",
      "model_module_version": "1.5.0",
      "model_name": "VBoxModel",
      "state": {
       "children": [
        "IPY_MODEL_0752acd7131c4ea9a25b0195cd875aa1",
        "IPY_MODEL_2bd7eff9d58345d8b24b1cc369704295",
        "IPY_MODEL_95bbf5cbe6fd4a64b5b778e1335b9973",
        "IPY_MODEL_832b9a13af57490aa68b46b0a18afd1e"
       ],
       "layout": "IPY_MODEL_d2bb099d285a4c7fb80c053d48100cc1"
      }
     },
     "c4fae6c17dfb434198a76fc8904d986d": {
      "model_module": "@jupyter-widgets/controls",
      "model_module_version": "1.5.0",
      "model_name": "LabelModel",
      "state": {
       "layout": "IPY_MODEL_464783d9382c4ecca90eb2de6acc917a",
       "style": "IPY_MODEL_ace6320e992c46659522bbfd523d41d0",
       "value": "   objective"
      }
     },
     "c51fd7ec28c149afa11b009fd44f0c43": {
      "model_module": "@jupyter-widgets/controls",
      "model_module_version": "1.5.0",
      "model_name": "ButtonModel",
      "state": {
       "layout": "IPY_MODEL_ebfc2b3f49f547fb93a07876593571f5",
       "style": "IPY_MODEL_7c2d5b31cf9047f4b17bd1ada3f521e8"
      }
     },
     "c526f7112cb64fe3b465c529e69c7b7e": {
      "model_module": "@jupyter-widgets/base",
      "model_module_version": "1.2.0",
      "model_name": "LayoutModel",
      "state": {
       "height": "32px",
       "overflow": "visible",
       "width": "100%"
      }
     },
     "c5346b0ece504ac08843ddc5b3666a5d": {
      "model_module": "@jupyter-widgets/controls",
      "model_module_version": "1.5.0",
      "model_name": "LabelModel",
      "state": {
       "layout": "IPY_MODEL_24e849de75cd46958b65a6716cbab947",
       "style": "IPY_MODEL_7e353b90ef4545c2a09d646ecd05284e",
       "value": "   objective"
      }
     },
     "c55b253d0e894053a5820bcf1199d6c0": {
      "model_module": "@jupyter-widgets/controls",
      "model_module_version": "1.5.0",
      "model_name": "DescriptionStyleModel",
      "state": {
       "description_width": ""
      }
     },
     "c55b388d7b73424386c914b9b54bb4dd": {
      "model_module": "@jupyter-widgets/controls",
      "model_module_version": "1.5.0",
      "model_name": "HTMLModel",
      "state": {
       "layout": "IPY_MODEL_04023845f44844c4b58903199637f645",
       "style": "IPY_MODEL_d7e4c6ce4cfb4f3e94167c07a9969fc5",
       "value": "<font size=\"1\">Triumphs/Lore/The Light/Dust/The Leviathan</font size=>"
      }
     },
     "c5816590ef6a426cb6fbe136f2083836": {
      "model_module": "@jupyter-widgets/base",
      "model_module_version": "1.2.0",
      "model_name": "LayoutModel",
      "state": {
       "height": "32px",
       "order": "-2",
       "width": "32px"
      }
     },
     "c59bea336f454f249c589cefc38b8dc6": {
      "model_module": "@jupyter-widgets/base",
      "model_module_version": "1.2.0",
      "model_name": "LayoutModel",
      "state": {
       "display": "none"
      }
     },
     "c5a49e6b2d98418f9335f41eb71ee50a": {
      "model_module": "@jupyter-widgets/controls",
      "model_module_version": "1.5.0",
      "model_name": "ButtonStyleModel",
      "state": {}
     },
     "c5b8963e685448da928fc4389bfcc355": {
      "model_module": "@jupyter-widgets/base",
      "model_module_version": "1.2.0",
      "model_name": "LayoutModel",
      "state": {
       "display": "flex",
       "flex_flow": "row wrap"
      }
     },
     "c5bb33798034431ea8c6e83927334333": {
      "model_module": "@jupyter-widgets/controls",
      "model_module_version": "1.5.0",
      "model_name": "ButtonStyleModel",
      "state": {}
     },
     "c5f31289dbb94256804056538dc24cdf": {
      "model_module": "@jupyter-widgets/controls",
      "model_module_version": "1.5.0",
      "model_name": "DescriptionStyleModel",
      "state": {
       "description_width": ""
      }
     },
     "c602049c73664450a8e4740444f7d21a": {
      "model_module": "@jupyter-widgets/controls",
      "model_module_version": "1.5.0",
      "model_name": "HTMLModel",
      "state": {
       "layout": "IPY_MODEL_3a650e0154ed4ab097f92b17cfa138b1",
       "style": "IPY_MODEL_5e70028223444987a0e49385ffd04dc7",
       "value": "<font size=\"5\"><b>Showdown</b></font size=>"
      }
     },
     "c60d9b1269984189bf63660134993401": {
      "model_module": "@jupyter-widgets/controls",
      "model_module_version": "1.5.0",
      "model_name": "HBoxModel",
      "state": {
       "children": [
        "IPY_MODEL_b0e7138819d04d44b332be66b4e38f83",
        "IPY_MODEL_63bc0bd3da984ee585330e652e3f4a58",
        "IPY_MODEL_f28be1478c734e9ab20ef99a07749e53",
        "IPY_MODEL_ee83976a3b7946a991c658556337eea6"
       ],
       "layout": "IPY_MODEL_e0792b2caaf845b0bab9850dc24baab3"
      }
     },
     "c646e3af31e24965a071d8141f333bb6": {
      "model_module": "@jupyter-widgets/controls",
      "model_module_version": "1.5.0",
      "model_name": "DescriptionStyleModel",
      "state": {
       "description_width": ""
      }
     },
     "c687e890ae414a7da3801aa209a68d95": {
      "model_module": "@jupyter-widgets/controls",
      "model_module_version": "1.5.0",
      "model_name": "ButtonStyleModel",
      "state": {}
     },
     "c6e60f5341a34dd0a54f7d39830f741e": {
      "model_module": "@jupyter-widgets/controls",
      "model_module_version": "1.5.0",
      "model_name": "ButtonModel",
      "state": {
       "description": "EDIT",
       "layout": "IPY_MODEL_e54abe9578b449f9b845dd3c27f49415",
       "style": "IPY_MODEL_a37a335361c94f3fbff8d456f16ebd3b"
      }
     },
     "c768ea8b37894bb2bc5a251e96336460": {
      "model_module": "@jupyter-widgets/controls",
      "model_module_version": "1.5.0",
      "model_name": "ButtonStyleModel",
      "state": {}
     },
     "c7b43877c67d4f63be793de593108ad7": {
      "model_module": "@jupyter-widgets/controls",
      "model_module_version": "1.5.0",
      "model_name": "DescriptionStyleModel",
      "state": {
       "description_width": ""
      }
     },
     "c7bb742c31934a0eaa1caf6af2dbc552": {
      "model_module": "@jupyter-widgets/base",
      "model_module_version": "1.2.0",
      "model_name": "LayoutModel",
      "state": {
       "height": "32px",
       "overflow": "visible",
       "width": "100%"
      }
     },
     "c7d8c9e9d56d47299c0242f41ad2d894": {
      "model_module": "@jupyter-widgets/base",
      "model_module_version": "1.2.0",
      "model_name": "LayoutModel",
      "state": {
       "height": "32px",
       "order": "-2",
       "width": "32px"
      }
     },
     "c8014247197e4026ac17f859dbe1e04c": {
      "model_module": "@jupyter-widgets/base",
      "model_module_version": "1.2.0",
      "model_name": "LayoutModel",
      "state": {
       "display": "none",
       "width": "60px"
      }
     },
     "c8434243c72b4452a1e9fbcc5fd75497": {
      "model_module": "@jupyter-widgets/controls",
      "model_module_version": "1.5.0",
      "model_name": "DescriptionStyleModel",
      "state": {
       "description_width": ""
      }
     },
     "c871719313db452198aa39a19f339564": {
      "model_module": "@jupyter-widgets/controls",
      "model_module_version": "1.5.0",
      "model_name": "LabelModel",
      "state": {
       "layout": "IPY_MODEL_f10a3bf15c234327a85ffc73b9acb0ee",
       "style": "IPY_MODEL_5e040c3de500429395150618b2e45434",
       "value": "   objective"
      }
     },
     "c871cbeb802949c4b67a699468eb8c74": {
      "model_module": "@jupyter-widgets/controls",
      "model_module_version": "1.5.0",
      "model_name": "ButtonModel",
      "state": {
       "layout": "IPY_MODEL_cbd601756d3e4e41815779aa4aa9d1b8",
       "style": "IPY_MODEL_619ac6b3eb9843dbb02dfe53bd6b6ef4"
      }
     },
     "c964f11a160e41b1b9e961d53eeca7e0": {
      "model_module": "@jupyter-widgets/controls",
      "model_module_version": "1.5.0",
      "model_name": "ButtonModel",
      "state": {
       "description": "EDIT",
       "layout": "IPY_MODEL_df8eacfc213d4f4a873d7800275093d5",
       "style": "IPY_MODEL_00cc547dd35d4231b64c81c5d243d889"
      }
     },
     "c9c24ebb50e84553a2b2a3c5b374439e": {
      "model_module": "@jupyter-widgets/controls",
      "model_module_version": "1.5.0",
      "model_name": "DescriptionStyleModel",
      "state": {
       "description_width": ""
      }
     },
     "c9daf56ddf994e5382343f9175aefe8d": {
      "model_module": "@jupyter-widgets/base",
      "model_module_version": "1.2.0",
      "model_name": "LayoutModel",
      "state": {}
     },
     "c9eac1f43dc544ff9b2eeefdc2e680f7": {
      "model_module": "@jupyter-widgets/base",
      "model_module_version": "1.2.0",
      "model_name": "LayoutModel",
      "state": {
       "order": "-1",
       "overflow": "visible",
       "padding": "1px",
       "width": "0px"
      }
     },
     "ca534dac13e147b1a5f7093bc3293d98": {
      "model_module": "@jupyter-widgets/controls",
      "model_module_version": "1.5.0",
      "model_name": "HBoxModel",
      "state": {
       "children": [
        "IPY_MODEL_53df29ee81f64fc3adee690bad8a213b",
        "IPY_MODEL_50282d050a38492d942ba0bb89c98ba8",
        "IPY_MODEL_0abdd6a9332f41f8a942f28d379ab0c4",
        "IPY_MODEL_b3ac17974b3f46c2a33e6d26d63b4dbd"
       ],
       "layout": "IPY_MODEL_e0750d7f947448c78355c5b5383fc867"
      }
     },
     "ca57eefad5b6492a845419cbda1ec52b": {
      "model_module": "@jupyter-widgets/controls",
      "model_module_version": "1.5.0",
      "model_name": "LabelModel",
      "state": {
       "layout": "IPY_MODEL_bb947bf613e445019062ff2a3db0a9d6",
       "style": "IPY_MODEL_de743be376f5416cb84fef2c29dc79de",
       "value": "   objective"
      }
     },
     "ca641304bd7c456b81dd733b09016365": {
      "model_module": "@jupyter-widgets/controls",
      "model_module_version": "1.5.0",
      "model_name": "IntProgressModel",
      "state": {
       "layout": "IPY_MODEL_c2022fb513124f018ab185b4d8c0ce8b",
       "style": "IPY_MODEL_cec05b0453f7433e9cb099492b461324",
       "value": 30
      }
     },
     "ca7b4a2e56764613bdf442a637090681": {
      "model_module": "@jupyter-widgets/controls",
      "model_module_version": "1.5.0",
      "model_name": "DescriptionStyleModel",
      "state": {
       "description_width": ""
      }
     },
     "ca7d7b736f6a41efb32b22b8dc9b5091": {
      "model_module": "@jupyter-widgets/controls",
      "model_module_version": "1.5.0",
      "model_name": "ButtonModel",
      "state": {
       "description": "EDIT",
       "layout": "IPY_MODEL_c3a094e4c67c436aaa7d823fd81d0a5c",
       "style": "IPY_MODEL_cd4d68d5c85642e9ab2fde10a688ca54"
      }
     },
     "ca85dee848d345aca46a1101c4872371": {
      "model_module": "@jupyter-widgets/controls",
      "model_module_version": "1.5.0",
      "model_name": "ButtonStyleModel",
      "state": {}
     },
     "ca9ac9cb5ca14fb2a54aaddde7bb56ef": {
      "model_module": "@jupyter-widgets/base",
      "model_module_version": "1.2.0",
      "model_name": "LayoutModel",
      "state": {
       "display": "none",
       "width": "60px"
      }
     },
     "caae01fc2b2c457f96a7f40bb7febfbe": {
      "model_module": "@jupyter-widgets/controls",
      "model_module_version": "1.5.0",
      "model_name": "LabelModel",
      "state": {
       "layout": "IPY_MODEL_c2967b8e314a4ace92a56bdfb4c3dd8e",
       "style": "IPY_MODEL_23fbe244c96a48948306d010b5d76e03",
       "value": "   objective"
      }
     },
     "cab6485fd4a6463192ee5bd462c4cd2c": {
      "model_module": "@jupyter-widgets/controls",
      "model_module_version": "1.5.0",
      "model_name": "IntProgressModel",
      "state": {
       "bar_style": "success",
       "layout": "IPY_MODEL_29634821a6a847ed880ea90a8869c5de",
       "max": 1,
       "style": "IPY_MODEL_fcec40ed80df4c3e969127d1b73738eb",
       "value": 1
      }
     },
     "cafdfd132af142f889b47862955e1886": {
      "model_module": "@jupyter-widgets/controls",
      "model_module_version": "1.5.0",
      "model_name": "ButtonStyleModel",
      "state": {}
     },
     "cb23663ae2c544d79a4e54d045430175": {
      "model_module": "@jupyter-widgets/base",
      "model_module_version": "1.2.0",
      "model_name": "LayoutModel",
      "state": {
       "display": "none",
       "width": "60px"
      }
     },
     "cb579a92df534dd581da37c5db31009e": {
      "model_module": "@jupyter-widgets/controls",
      "model_module_version": "1.5.0",
      "model_name": "ButtonStyleModel",
      "state": {}
     },
     "cb5a7df6338a40a88b9a238cc73903fd": {
      "model_module": "@jupyter-widgets/controls",
      "model_module_version": "1.5.0",
      "model_name": "ButtonModel",
      "state": {
       "button_style": "success",
       "disabled": true,
       "layout": "IPY_MODEL_b94a7b23ae9a47898fa184af5e56d69f",
       "style": "IPY_MODEL_41e4d6c7aa1b48408a3fe2d2e41eb358"
      }
     },
     "cb670bfa2cfe4c139fd0eb5df2668b46": {
      "model_module": "@jupyter-widgets/base",
      "model_module_version": "1.2.0",
      "model_name": "LayoutModel",
      "state": {
       "height": "32px",
       "overflow": "visible",
       "width": "100%"
      }
     },
     "cbc8ea2621ae422bbb2e4a9a4bbe55d8": {
      "model_module": "@jupyter-widgets/base",
      "model_module_version": "1.2.0",
      "model_name": "LayoutModel",
      "state": {
       "display": "none",
       "width": "60px"
      }
     },
     "cbd601756d3e4e41815779aa4aa9d1b8": {
      "model_module": "@jupyter-widgets/base",
      "model_module_version": "1.2.0",
      "model_name": "LayoutModel",
      "state": {
       "height": "32px",
       "order": "-2",
       "width": "32px"
      }
     },
     "cbda678397854f5d835c14807a4abc6a": {
      "model_module": "@jupyter-widgets/controls",
      "model_module_version": "1.5.0",
      "model_name": "ButtonStyleModel",
      "state": {}
     },
     "cbf9ed26af694de3a7c321f9a8773ea5": {
      "model_module": "@jupyter-widgets/controls",
      "model_module_version": "1.5.0",
      "model_name": "DescriptionStyleModel",
      "state": {
       "description_width": ""
      }
     },
     "cc036a5cfff141859b95c672e57d9ac8": {
      "model_module": "@jupyter-widgets/controls",
      "model_module_version": "1.5.0",
      "model_name": "DropdownModel",
      "state": {
       "_options_labels": [
        "All"
       ],
       "index": 0,
       "layout": "IPY_MODEL_28b4847345ab4aaa9c74b1b0496dca28",
       "style": "IPY_MODEL_d661faf459534ec0a7335ab500d739d2"
      }
     },
     "cc2a3eb9be3f4a47b0f8877927eed9b3": {
      "model_module": "@jupyter-widgets/base",
      "model_module_version": "1.2.0",
      "model_name": "LayoutModel",
      "state": {
       "display": "none"
      }
     },
     "cc32d24198c340ec8e4fb1db0c756ef5": {
      "model_module": "@jupyter-widgets/controls",
      "model_module_version": "1.5.0",
      "model_name": "ButtonStyleModel",
      "state": {}
     },
     "cc895ab0d5ee4f98b35519e13d329c20": {
      "model_module": "@jupyter-widgets/controls",
      "model_module_version": "1.5.0",
      "model_name": "HTMLModel",
      "state": {
       "layout": "IPY_MODEL_3c0d2635c9514027b2f80c821e98b673",
       "style": "IPY_MODEL_e071bc58a4134c7bbbeac373737135e3",
       "value": "<font size=\"1\">Triumphs/Lore/The Light/The Man They Call Cayde/Winner Take All</font size=>"
      }
     },
     "cc9be0595c38408789724d2c24442c7c": {
      "model_module": "@jupyter-widgets/controls",
      "model_module_version": "1.5.0",
      "model_name": "ButtonModel",
      "state": {
       "button_style": "success",
       "disabled": true,
       "layout": "IPY_MODEL_f48fdb780d604bc68d2a81b9f66899f5",
       "style": "IPY_MODEL_3653bbc778264b9e8de029d14a2d1122"
      }
     },
     "ccc4a4331d044fd5986efb3b2111dce8": {
      "model_module": "@jupyter-widgets/controls",
      "model_module_version": "1.5.0",
      "model_name": "ButtonModel",
      "state": {
       "description": "EDIT",
       "layout": "IPY_MODEL_48e1527d72594c93b86e20f0b7790058",
       "style": "IPY_MODEL_275018bfcc5f437c9bf8b22896297878"
      }
     },
     "cce4470c847549f092180285924cd7e6": {
      "model_module": "@jupyter-widgets/controls",
      "model_module_version": "1.5.0",
      "model_name": "ButtonModel",
      "state": {
       "description": "EDIT",
       "layout": "IPY_MODEL_9fc8c5f7a49740c08903bbaf61b159ce",
       "style": "IPY_MODEL_3cf14b6ac7f846e298fc42d6e8ec82dc"
      }
     },
     "ccf7308ba72e4ffb9a61872e0e970094": {
      "model_module": "@jupyter-widgets/base",
      "model_module_version": "1.2.0",
      "model_name": "LayoutModel",
      "state": {
       "display": "flex",
       "flex_flow": "row wrap"
      }
     },
     "cd1aa6cceaf54d609bb5e3406edcc9ec": {
      "model_module": "@jupyter-widgets/base",
      "model_module_version": "1.2.0",
      "model_name": "LayoutModel",
      "state": {
       "display": "flex",
       "flex_flow": "row wrap"
      }
     },
     "cd4d68d5c85642e9ab2fde10a688ca54": {
      "model_module": "@jupyter-widgets/controls",
      "model_module_version": "1.5.0",
      "model_name": "ButtonStyleModel",
      "state": {}
     },
     "cd802947e3004ad5818f6d3ca4b01560": {
      "model_module": "@jupyter-widgets/controls",
      "model_module_version": "1.5.0",
      "model_name": "HBoxModel",
      "state": {
       "children": [
        "IPY_MODEL_64ec28a593ee49bda804e69669598660",
        "IPY_MODEL_05c0b0cef0054a64b989187e6d7d886d",
        "IPY_MODEL_6b965d40f4644bc0a46ea369ff353b72",
        "IPY_MODEL_fb6098528c9e4af9b2671f1cf5ab2d46"
       ],
       "layout": "IPY_MODEL_00a03d8dbd5f4349bdf6d1f7d5f60a21"
      }
     },
     "ce5adba196694a13bf89b2361a2547cb": {
      "model_module": "@jupyter-widgets/controls",
      "model_module_version": "1.5.0",
      "model_name": "IntProgressModel",
      "state": {
       "layout": "IPY_MODEL_eedcce83f4b945db8fe5c24e85f8e7ea",
       "style": "IPY_MODEL_2a0a9ee8b0b841bf9d36563b26157a25",
       "value": 30
      }
     },
     "ce6184ba0d5342a2a73ac41f2a5e08f6": {
      "model_module": "@jupyter-widgets/controls",
      "model_module_version": "1.5.0",
      "model_name": "ProgressStyleModel",
      "state": {
       "description_width": ""
      }
     },
     "ce6289122240417184a8372747e6bfd9": {
      "model_module": "@jupyter-widgets/base",
      "model_module_version": "1.2.0",
      "model_name": "LayoutModel",
      "state": {
       "height": "32px",
       "order": "-2",
       "width": "32px"
      }
     },
     "ce6dce3fa48b43948339da3e40f2bb08": {
      "model_module": "@jupyter-widgets/controls",
      "model_module_version": "1.5.0",
      "model_name": "ButtonModel",
      "state": {
       "description": "EDIT",
       "layout": "IPY_MODEL_191ae019540c4f48895293d61c82bd63",
       "style": "IPY_MODEL_bd304a337fa646f78b710e8cbcb48c6f"
      }
     },
     "ce91eb68e2d946a8b20fc6d84e0a0757": {
      "model_module": "@jupyter-widgets/base",
      "model_module_version": "1.2.0",
      "model_name": "LayoutModel",
      "state": {
       "order": "-1",
       "overflow": "visible",
       "padding": "1px",
       "width": "0px"
      }
     },
     "cec05b0453f7433e9cb099492b461324": {
      "model_module": "@jupyter-widgets/controls",
      "model_module_version": "1.5.0",
      "model_name": "ProgressStyleModel",
      "state": {
       "description_width": ""
      }
     },
     "cee718bb60814a35b8f4dd43b6fe6bd8": {
      "model_module": "@jupyter-widgets/controls",
      "model_module_version": "1.5.0",
      "model_name": "IntProgressModel",
      "state": {
       "layout": "IPY_MODEL_6ca505d745124a409cca1a2eadde3650",
       "style": "IPY_MODEL_5ebaa85fd79e41dc9809eb5bb8b92a69",
       "value": 30
      }
     },
     "ceec8b52b26e483c8be54850d946009f": {
      "model_module": "@jupyter-widgets/controls",
      "model_module_version": "1.5.0",
      "model_name": "ButtonStyleModel",
      "state": {}
     },
     "cf0eee2e06df467d810e2a1ae41b05c8": {
      "model_module": "@jupyter-widgets/controls",
      "model_module_version": "1.5.0",
      "model_name": "DropdownModel",
      "state": {
       "_options_labels": [
        "All"
       ],
       "index": 0,
       "layout": "IPY_MODEL_9dafd2401ebc4197849023da6a8588d4",
       "style": "IPY_MODEL_f9527fd8e2144d9fa1f50294f5112424"
      }
     },
     "cf34e80e1d2d4460a87db36ccfa53d52": {
      "model_module": "@jupyter-widgets/controls",
      "model_module_version": "1.5.0",
      "model_name": "ButtonModel",
      "state": {
       "button_style": "success",
       "disabled": true,
       "layout": "IPY_MODEL_6744ed9d92204700bb1950c1288906c2",
       "style": "IPY_MODEL_f0d9dd47c7904d1a83801aeb773c8990"
      }
     },
     "cf54fb2dfed74dc2a252507ee7b27ea5": {
      "model_module": "@jupyter-widgets/base",
      "model_module_version": "1.2.0",
      "model_name": "LayoutModel",
      "state": {
       "display": "flex"
      }
     },
     "cf7f17d3a4c849f7a5b838bedc9f3c58": {
      "model_module": "@jupyter-widgets/controls",
      "model_module_version": "1.5.0",
      "model_name": "DescriptionStyleModel",
      "state": {
       "description_width": ""
      }
     },
     "cf8ac112269f4c019fa95ae64902cb17": {
      "model_module": "@jupyter-widgets/base",
      "model_module_version": "1.2.0",
      "model_name": "LayoutModel",
      "state": {
       "order": "-1",
       "overflow": "visible",
       "padding": "1px",
       "width": "0px"
      }
     },
     "cfc3840892ed4e70bf307ad133e3d914": {
      "model_module": "@jupyter-widgets/base",
      "model_module_version": "1.2.0",
      "model_name": "LayoutModel",
      "state": {
       "order": "-1",
       "overflow": "visible",
       "padding": "1px",
       "width": "0px"
      }
     },
     "d08356db9e1444efb27c2f3ed1a3e1d8": {
      "model_module": "@jupyter-widgets/base",
      "model_module_version": "1.2.0",
      "model_name": "LayoutModel",
      "state": {
       "display": "flex",
       "width": "60px"
      }
     },
     "d08a2cce05534f16baa20972faa3d9ec": {
      "model_module": "@jupyter-widgets/controls",
      "model_module_version": "1.5.0",
      "model_name": "ButtonStyleModel",
      "state": {}
     },
     "d0bff4d5319e4e958d7e08d4edffe252": {
      "model_module": "@jupyter-widgets/controls",
      "model_module_version": "1.5.0",
      "model_name": "DescriptionStyleModel",
      "state": {
       "description_width": ""
      }
     },
     "d14d4e933b2845bb83df1060b960ee8e": {
      "model_module": "@jupyter-widgets/base",
      "model_module_version": "1.2.0",
      "model_name": "LayoutModel",
      "state": {
       "order": "-1",
       "overflow": "visible",
       "padding": "1px",
       "width": "0px"
      }
     },
     "d1cd07a8ee234f71b6da2b48858c4206": {
      "model_module": "@jupyter-widgets/controls",
      "model_module_version": "1.5.0",
      "model_name": "DescriptionStyleModel",
      "state": {
       "description_width": ""
      }
     },
     "d29ee91a96244adfa3b346330ae0f95f": {
      "model_module": "@jupyter-widgets/controls",
      "model_module_version": "1.5.0",
      "model_name": "DescriptionStyleModel",
      "state": {
       "description_width": ""
      }
     },
     "d2bb099d285a4c7fb80c053d48100cc1": {
      "model_module": "@jupyter-widgets/base",
      "model_module_version": "1.2.0",
      "model_name": "LayoutModel",
      "state": {
       "border": "3px solid white",
       "display": "flex",
       "flex": "1 1 0%",
       "margin": "10px",
       "min_width": "400px",
       "overflow": "visible",
       "padding": "10px",
       "width": "auto"
      }
     },
     "d2e1221f6bc149f3b0cadf3a961fefdb": {
      "model_module": "@jupyter-widgets/controls",
      "model_module_version": "1.5.0",
      "model_name": "ButtonStyleModel",
      "state": {}
     },
     "d3187bb8f7a444f39d747a1c41014ac8": {
      "model_module": "@jupyter-widgets/controls",
      "model_module_version": "1.5.0",
      "model_name": "LabelModel",
      "state": {
       "layout": "IPY_MODEL_efe66b88a9e847ceb4f6ec1e8b341225",
       "style": "IPY_MODEL_f955e5f621eb4290834bde43933363c1",
       "value": "   objective"
      }
     },
     "d341a1004fc4473f915cc7c58c27be76": {
      "model_module": "@jupyter-widgets/base",
      "model_module_version": "1.2.0",
      "model_name": "LayoutModel",
      "state": {
       "display": "none",
       "width": "60px"
      }
     },
     "d358f1cca4f3409c82e8d80331ace330": {
      "model_module": "@jupyter-widgets/base",
      "model_module_version": "1.2.0",
      "model_name": "LayoutModel",
      "state": {
       "display": "none"
      }
     },
     "d3fe187a20b84a92a36acb6228914a0a": {
      "model_module": "@jupyter-widgets/controls",
      "model_module_version": "1.5.0",
      "model_name": "DropdownModel",
      "state": {
       "_options_labels": [
        "All"
       ],
       "index": 0,
       "layout": "IPY_MODEL_0aa334dbcfa6450db4bb45f1a0071047",
       "style": "IPY_MODEL_d1cd07a8ee234f71b6da2b48858c4206"
      }
     },
     "d40f12172c214d148dca20c58a39ab10": {
      "model_module": "@jupyter-widgets/base",
      "model_module_version": "1.2.0",
      "model_name": "LayoutModel",
      "state": {
       "order": "-1",
       "overflow": "visible",
       "padding": "1px",
       "width": "0px"
      }
     },
     "d417718e0788408bb77054df0290b8b6": {
      "model_module": "@jupyter-widgets/base",
      "model_module_version": "1.2.0",
      "model_name": "LayoutModel",
      "state": {
       "order": "-1",
       "overflow": "visible",
       "padding": "1px",
       "width": "0px"
      }
     },
     "d42c5248069a4125bfe83e499991e933": {
      "model_module": "@jupyter-widgets/controls",
      "model_module_version": "1.5.0",
      "model_name": "DescriptionStyleModel",
      "state": {
       "description_width": ""
      }
     },
     "d436cac9a11b403ab99b9bace439bb62": {
      "model_module": "@jupyter-widgets/controls",
      "model_module_version": "1.5.0",
      "model_name": "DescriptionStyleModel",
      "state": {
       "description_width": ""
      }
     },
     "d4b051f9feaa4790a69afde8c64919aa": {
      "model_module": "@jupyter-widgets/base",
      "model_module_version": "1.2.0",
      "model_name": "LayoutModel",
      "state": {
       "border": "3px solid white",
       "display": "flex",
       "flex": "1 1 0%",
       "margin": "10px",
       "min_width": "400px",
       "overflow": "visible",
       "padding": "10px",
       "width": "auto"
      }
     },
     "d4b2bee90dcf4f9aab24563d9ee66de8": {
      "model_module": "@jupyter-widgets/controls",
      "model_module_version": "1.5.0",
      "model_name": "IntProgressModel",
      "state": {
       "layout": "IPY_MODEL_0e18cfe2b7ec4afe98a1ece82ed7e73c",
       "style": "IPY_MODEL_0425266f66a64a87948039beccc71a6e",
       "value": 30
      }
     },
     "d4cd9b0f1d4e400b9221fe59643764f0": {
      "model_module": "@jupyter-widgets/controls",
      "model_module_version": "1.5.0",
      "model_name": "ButtonStyleModel",
      "state": {}
     },
     "d554706169024619910bef9771393709": {
      "model_module": "@jupyter-widgets/controls",
      "model_module_version": "1.5.0",
      "model_name": "ProgressStyleModel",
      "state": {
       "description_width": ""
      }
     },
     "d56931c2afda4c1eb07225677b392f5e": {
      "model_module": "@jupyter-widgets/controls",
      "model_module_version": "1.5.0",
      "model_name": "VBoxModel",
      "state": {
       "children": [
        "IPY_MODEL_032f46f216474d89bf03dd70a3f9f3bf",
        "IPY_MODEL_46f03987000b4ef9bd477ac608e192db",
        "IPY_MODEL_38d7a60cbfbc46299a3f7ee2499ef06c",
        "IPY_MODEL_3ea84bb3ff41451ca40c8151e26b0e4c"
       ],
       "layout": "IPY_MODEL_5e222d607cae4da9be013fc326513149"
      }
     },
     "d56fc2cb42c94eebbee3ef281cff5d78": {
      "model_module": "@jupyter-widgets/controls",
      "model_module_version": "1.5.0",
      "model_name": "DescriptionStyleModel",
      "state": {
       "description_width": ""
      }
     },
     "d5891f4cc63942e4ad23c7a8ae686387": {
      "model_module": "@jupyter-widgets/controls",
      "model_module_version": "1.5.0",
      "model_name": "LabelModel",
      "state": {
       "layout": "IPY_MODEL_b569dc4a107f41dab9c8a8601f903ec4",
       "style": "IPY_MODEL_313bfa2395d94dd587577f9ad2d14bce",
       "value": "   objective"
      }
     },
     "d5b9b847275c41eea2105234b1e85414": {
      "model_module": "@jupyter-widgets/base",
      "model_module_version": "1.2.0",
      "model_name": "LayoutModel",
      "state": {
       "border": "3px solid white",
       "display": "flex",
       "flex": "1 1 0%",
       "margin": "10px",
       "min_width": "400px",
       "overflow": "visible",
       "padding": "10px",
       "width": "auto"
      }
     },
     "d5df7bf834994bc3bf5dfe6ae6b8b19d": {
      "model_module": "@jupyter-widgets/base",
      "model_module_version": "1.2.0",
      "model_name": "LayoutModel",
      "state": {
       "order": "-1",
       "overflow": "visible",
       "padding": "1px",
       "width": "0px"
      }
     },
     "d631cc49003f436491ea4bfdcba73701": {
      "model_module": "@jupyter-widgets/base",
      "model_module_version": "1.2.0",
      "model_name": "LayoutModel",
      "state": {
       "height": "32px",
       "overflow": "visible",
       "width": "100%"
      }
     },
     "d654c13c61a349c1b53333137255f9c9": {
      "model_module": "@jupyter-widgets/controls",
      "model_module_version": "1.5.0",
      "model_name": "IntProgressModel",
      "state": {
       "layout": "IPY_MODEL_b461af0d390b48029b4af60dee9114ef",
       "style": "IPY_MODEL_118a4fdbee0b4623bab141c708a28a28",
       "value": 30
      }
     },
     "d661faf459534ec0a7335ab500d739d2": {
      "model_module": "@jupyter-widgets/controls",
      "model_module_version": "1.5.0",
      "model_name": "DescriptionStyleModel",
      "state": {
       "description_width": ""
      }
     },
     "d67baec0207648669ceb77aa61637f16": {
      "model_module": "@jupyter-widgets/base",
      "model_module_version": "1.2.0",
      "model_name": "LayoutModel",
      "state": {
       "border": "2px solid #00bcd4",
       "width": "98%"
      }
     },
     "d703576e06b04c47ba9bf3005d55b648": {
      "model_module": "@jupyter-widgets/controls",
      "model_module_version": "1.5.0",
      "model_name": "DescriptionStyleModel",
      "state": {
       "description_width": ""
      }
     },
     "d7e4c6ce4cfb4f3e94167c07a9969fc5": {
      "model_module": "@jupyter-widgets/controls",
      "model_module_version": "1.5.0",
      "model_name": "DescriptionStyleModel",
      "state": {
       "description_width": ""
      }
     },
     "d7ee672ecaaf45e6af45f7fc44560fad": {
      "model_module": "@jupyter-widgets/controls",
      "model_module_version": "1.5.0",
      "model_name": "VBoxModel",
      "state": {
       "children": [
        "IPY_MODEL_7e19d01c5e6b4018a88dffe109ade77d",
        "IPY_MODEL_15f929f0541e4286a3ead4e688235565",
        "IPY_MODEL_a2f27f793d8140798bb288d4702a557a",
        "IPY_MODEL_2117381ce2a640ad97ae10627b66d840"
       ],
       "layout": "IPY_MODEL_d5b9b847275c41eea2105234b1e85414"
      }
     },
     "d81626d26d5741d2afa1d4ac50922087": {
      "model_module": "@jupyter-widgets/base",
      "model_module_version": "1.2.0",
      "model_name": "LayoutModel",
      "state": {
       "order": "-1",
       "overflow": "visible",
       "padding": "1px",
       "width": "0px"
      }
     },
     "d847fb9a661349979137f38239417b90": {
      "model_module": "@jupyter-widgets/controls",
      "model_module_version": "1.5.0",
      "model_name": "ButtonStyleModel",
      "state": {}
     },
     "d84f55a53f3741088ff4cfb6c9da7b8d": {
      "model_module": "@jupyter-widgets/base",
      "model_module_version": "1.2.0",
      "model_name": "LayoutModel",
      "state": {
       "display": "none"
      }
     },
     "d87d8644881b451884f49dd7a27d28b6": {
      "model_module": "@jupyter-widgets/controls",
      "model_module_version": "1.5.0",
      "model_name": "ProgressStyleModel",
      "state": {
       "description_width": ""
      }
     },
     "d88d6e7b7bb6483fa34f0757d9ba2644": {
      "model_module": "@jupyter-widgets/controls",
      "model_module_version": "1.5.0",
      "model_name": "ButtonStyleModel",
      "state": {}
     },
     "d8b7e7eb7de94aaa91cb9a091101a3c6": {
      "model_module": "@jupyter-widgets/base",
      "model_module_version": "1.2.0",
      "model_name": "LayoutModel",
      "state": {
       "display": "none"
      }
     },
     "d9188495069842df8bc5b3ca0a634ab4": {
      "model_module": "@jupyter-widgets/controls",
      "model_module_version": "1.5.0",
      "model_name": "ButtonStyleModel",
      "state": {}
     },
     "d985a413f4c04732a1ef742f02ae1bd4": {
      "model_module": "@jupyter-widgets/base",
      "model_module_version": "1.2.0",
      "model_name": "LayoutModel",
      "state": {
       "height": "32px",
       "order": "-2",
       "width": "32px"
      }
     },
     "d994941fdcb2434f8ef8baf965c66676": {
      "model_module": "@jupyter-widgets/controls",
      "model_module_version": "1.5.0",
      "model_name": "VBoxModel",
      "state": {
       "children": [
        "IPY_MODEL_c55b388d7b73424386c914b9b54bb4dd",
        "IPY_MODEL_a50792bd1a194dbeb62bfd0053207e67",
        "IPY_MODEL_f33c1174888646028e92e0e2b7a69fce",
        "IPY_MODEL_67f908560d3d4714be04836c44af4e28"
       ],
       "layout": "IPY_MODEL_b000732625574b3bbbe708901057ad34"
      }
     },
     "d9a0ec4c7977404ba441b98e043e66ee": {
      "model_module": "@jupyter-widgets/base",
      "model_module_version": "1.2.0",
      "model_name": "LayoutModel",
      "state": {
       "display": "none",
       "width": "60px"
      }
     },
     "d9c14b89a235479cbf1d66cd46228a89": {
      "model_module": "@jupyter-widgets/base",
      "model_module_version": "1.2.0",
      "model_name": "LayoutModel",
      "state": {
       "display": "none"
      }
     },
     "da8f62f6bbb9479ba27fa1964c788695": {
      "model_module": "@jupyter-widgets/controls",
      "model_module_version": "1.5.0",
      "model_name": "HBoxModel",
      "state": {
       "children": [
        "IPY_MODEL_aedf616e98bd41f8919c750cd70a72cb",
        "IPY_MODEL_9e21c31af98c4daaaf99f16942b5c958",
        "IPY_MODEL_0af881e30eed46cdad133bd0b450cc5f",
        "IPY_MODEL_ff85f116f1434a8281aa5a52bd5a3454"
       ],
       "layout": "IPY_MODEL_f972d8aa0bcc47869ff0dfcd8ec6e244"
      }
     },
     "daca99d102ec429191b61d775dbcf5c9": {
      "model_module": "@jupyter-widgets/controls",
      "model_module_version": "1.5.0",
      "model_name": "IntProgressModel",
      "state": {
       "layout": "IPY_MODEL_21c804c9bcd342e5a2f5c8c6fbe2bcb1",
       "style": "IPY_MODEL_2deb3afc9a1946e7b27e0f7b8246ee35",
       "value": 30
      }
     },
     "db1a9580e45d40b1bcabe83748a8c80d": {
      "model_module": "@jupyter-widgets/controls",
      "model_module_version": "1.5.0",
      "model_name": "HBoxModel",
      "state": {
       "children": [
        "IPY_MODEL_06c1dc0c5ee040e8a3df8096775573cb",
        "IPY_MODEL_2c8a26a976624e4eb18d00ff02e86e20",
        "IPY_MODEL_dbe5106bfa0140429dc79c79df229d15",
        "IPY_MODEL_0beebbdbc87949369606a9597d093593"
       ],
       "layout": "IPY_MODEL_c59bea336f454f249c589cefc38b8dc6"
      }
     },
     "db2bebd5133d4f778ccc69a0e5a16c77": {
      "model_module": "@jupyter-widgets/controls",
      "model_module_version": "1.5.0",
      "model_name": "ButtonModel",
      "state": {
       "description": "EDIT",
       "layout": "IPY_MODEL_34b963696d0b40cdaf0321af4093db0f",
       "style": "IPY_MODEL_2960ebbc9b6041caba77229f17c4737b"
      }
     },
     "db49d59684024585b057c5e416adc8f3": {
      "model_module": "@jupyter-widgets/controls",
      "model_module_version": "1.5.0",
      "model_name": "IntProgressModel",
      "state": {
       "layout": "IPY_MODEL_ad1a60b29ca741e08a3beaca2e0de6d2",
       "style": "IPY_MODEL_11ced5d7601746978fba3371b8542a19",
       "value": 30
      }
     },
     "db5d5d03292043fabef0bc3cafa084e4": {
      "model_module": "@jupyter-widgets/controls",
      "model_module_version": "1.5.0",
      "model_name": "HTMLModel",
      "state": {
       "layout": "IPY_MODEL_05d20db184ff46338d23613eee0881f6",
       "style": "IPY_MODEL_4f5c75e30c6e40cb896e0934346b8f5b",
       "value": "<i>Completed \"The Black Garden\" campaign in Destiny 1.</i>"
      }
     },
     "db67f28630694a34b041664f5ecd39a2": {
      "model_module": "@jupyter-widgets/base",
      "model_module_version": "1.2.0",
      "model_name": "LayoutModel",
      "state": {
       "display": "none",
       "width": "60px"
      }
     },
     "db691c9c21bd4c6c88cd0814fe66cda1": {
      "model_module": "@jupyter-widgets/controls",
      "model_module_version": "1.5.0",
      "model_name": "HBoxModel",
      "state": {
       "children": [
        "IPY_MODEL_e1355aaae858475a93350de9edf33c39",
        "IPY_MODEL_9820706871054e2abe96b014ee938491",
        "IPY_MODEL_48827af4c80542f6b4cfdfa7fbc090f1",
        "IPY_MODEL_2fa1ee542ce0417ea809885b5a6e86cd"
       ],
       "layout": "IPY_MODEL_c24311e8d6f1481c9e0487cd750069a1"
      }
     },
     "db6afee60da743e08e2156caf52e6434": {
      "model_module": "@jupyter-widgets/controls",
      "model_module_version": "1.5.0",
      "model_name": "ButtonModel",
      "state": {
       "description": "EDIT",
       "layout": "IPY_MODEL_a0ceef1c3b644d1d8f5f7bb955205e44",
       "style": "IPY_MODEL_b8988c51610a46ae80f80d3e5cf1295a"
      }
     },
     "db7d89d4d1cd42e79c912a07e00761ed": {
      "model_module": "@jupyter-widgets/controls",
      "model_module_version": "1.5.0",
      "model_name": "HTMLModel",
      "state": {
       "layout": "IPY_MODEL_3d91fd422c7740a5a9ce0360d7d35925",
       "style": "IPY_MODEL_559c4f6138f7498f966ca42014f151a4",
       "value": "<font size=\"5\"><b>The Black Garden</b></font size=>"
      }
     },
     "dbdacadd277a408e9f0d0d9e298abfaf": {
      "model_module": "@jupyter-widgets/controls",
      "model_module_version": "1.5.0",
      "model_name": "ButtonModel",
      "state": {
       "description": "EDIT",
       "layout": "IPY_MODEL_391c91d25a7e43f9b0128c5425d1eddf",
       "style": "IPY_MODEL_8360a18003b54f38bcd962755aae9d04"
      }
     },
     "dbe5106bfa0140429dc79c79df229d15": {
      "model_module": "@jupyter-widgets/controls",
      "model_module_version": "1.5.0",
      "model_name": "LabelModel",
      "state": {
       "layout": "IPY_MODEL_76dbc7eead6d4d939d0ba3795f1dd0c3",
       "style": "IPY_MODEL_706597c64a1544b0878f91b4bed6ef94",
       "value": "   objective"
      }
     },
     "dbf126fa19864915b52f023bc23ed191": {
      "model_module": "@jupyter-widgets/base",
      "model_module_version": "1.2.0",
      "model_name": "LayoutModel",
      "state": {
       "display": "none",
       "width": "60px"
      }
     },
     "dc0be6a9a51d4d62a18b2d510335235b": {
      "model_module": "@jupyter-widgets/controls",
      "model_module_version": "1.5.0",
      "model_name": "ButtonStyleModel",
      "state": {}
     },
     "dc619a5bd997496995dfd38b24c2a309": {
      "model_module": "@jupyter-widgets/controls",
      "model_module_version": "1.5.0",
      "model_name": "IntProgressModel",
      "state": {
       "layout": "IPY_MODEL_0b41c4dcf5b148df847de94c316cc595",
       "style": "IPY_MODEL_f60258c8518b4ac3abf3eecd658447de",
       "value": 30
      }
     },
     "dc62dd78a7904b3e8c8ce2c3112f9005": {
      "model_module": "@jupyter-widgets/controls",
      "model_module_version": "1.5.0",
      "model_name": "HBoxModel",
      "state": {
       "children": [
        "IPY_MODEL_3fbf088f37034a6c950fadad4249e4e0",
        "IPY_MODEL_3d813484d5ed4ebc9060c4cf5773619e",
        "IPY_MODEL_79c9490ece8b43df947506f62ca1b273",
        "IPY_MODEL_13c4c804558a419da89d596f506d7884"
       ],
       "layout": "IPY_MODEL_38d1049285a149c59b4343c77c4479b8"
      }
     },
     "dcab8bdf69074179b7743a103a288049": {
      "model_module": "@jupyter-widgets/base",
      "model_module_version": "1.2.0",
      "model_name": "LayoutModel",
      "state": {
       "order": "-1",
       "overflow": "visible",
       "padding": "1px",
       "width": "0px"
      }
     },
     "dcab9d834b9545f9a53c637f105df05c": {
      "model_module": "@jupyter-widgets/controls",
      "model_module_version": "1.5.0",
      "model_name": "ButtonStyleModel",
      "state": {}
     },
     "dccd4111c49f438a86aa977c3139e145": {
      "model_module": "@jupyter-widgets/base",
      "model_module_version": "1.2.0",
      "model_name": "LayoutModel",
      "state": {
       "height": "32px",
       "overflow": "visible",
       "width": "100%"
      }
     },
     "dce49b8b15a94812aae20be595c4e888": {
      "model_module": "@jupyter-widgets/base",
      "model_module_version": "1.2.0",
      "model_name": "LayoutModel",
      "state": {
       "display": "none"
      }
     },
     "dd408e9a25a5490cb5f703b960273d5d": {
      "model_module": "@jupyter-widgets/controls",
      "model_module_version": "1.5.0",
      "model_name": "ProgressStyleModel",
      "state": {
       "description_width": ""
      }
     },
     "dd4939af8ea047a998191ac597bb0da0": {
      "model_module": "@jupyter-widgets/base",
      "model_module_version": "1.2.0",
      "model_name": "LayoutModel",
      "state": {}
     },
     "dd5ce2c55dc0415bb973b6fa2f4757b2": {
      "model_module": "@jupyter-widgets/controls",
      "model_module_version": "1.5.0",
      "model_name": "DescriptionStyleModel",
      "state": {
       "description_width": ""
      }
     },
     "dd735e38e0894a4cb767f2f4eaa949e1": {
      "model_module": "@jupyter-widgets/controls",
      "model_module_version": "1.5.0",
      "model_name": "ButtonModel",
      "state": {
       "description": "Previous",
       "layout": "IPY_MODEL_654ed68d81564d5283e881f4b2c9d907",
       "style": "IPY_MODEL_548feb1c79ef4ba2a324194b7978677e"
      }
     },
     "dd943a72199b4ebf8da305ab747cca12": {
      "model_module": "@jupyter-widgets/controls",
      "model_module_version": "1.5.0",
      "model_name": "DescriptionStyleModel",
      "state": {
       "description_width": ""
      }
     },
     "dddd0f3be9e4453bb160673ef421ced6": {
      "model_module": "@jupyter-widgets/controls",
      "model_module_version": "1.5.0",
      "model_name": "ProgressStyleModel",
      "state": {
       "description_width": ""
      }
     },
     "ddf7309d3e2f4a54b54d180da959a69c": {
      "model_module": "@jupyter-widgets/controls",
      "model_module_version": "1.5.0",
      "model_name": "IntProgressModel",
      "state": {
       "layout": "IPY_MODEL_4cdd25e27a2247f0a9a87f5c11639645",
       "style": "IPY_MODEL_3c66ba5b3d6547ea820c76400d2379e7",
       "value": 30
      }
     },
     "de30e614aa66447dbf9ea4a5c895acb4": {
      "model_module": "@jupyter-widgets/base",
      "model_module_version": "1.2.0",
      "model_name": "LayoutModel",
      "state": {
       "height": "32px",
       "overflow": "visible",
       "width": "100%"
      }
     },
     "de34988375154066bc1a047392f67009": {
      "model_module": "@jupyter-widgets/controls",
      "model_module_version": "1.5.0",
      "model_name": "ProgressStyleModel",
      "state": {
       "description_width": ""
      }
     },
     "de35cd6fc7c347b1b78a3cd5feb09158": {
      "model_module": "@jupyter-widgets/controls",
      "model_module_version": "1.5.0",
      "model_name": "ProgressStyleModel",
      "state": {
       "description_width": ""
      }
     },
     "de458254b7f04d969bf7f58fcdc53e87": {
      "model_module": "@jupyter-widgets/controls",
      "model_module_version": "1.5.0",
      "model_name": "VBoxModel",
      "state": {
       "children": [
        "IPY_MODEL_fd35ae4a6e064a19be673708de78fc7e",
        "IPY_MODEL_eb687b0e8e534b81893f8f7975457ee4",
        "IPY_MODEL_b898d2dd5f124bf89b2763eb0ff35ce9",
        "IPY_MODEL_60f75ab836cc41f7a20d8f879edc8448",
        "IPY_MODEL_1112b0b2e1e647a78d792f67b9836c7f",
        "IPY_MODEL_07979388c22c485d8c6214edb42c19c4",
        "IPY_MODEL_13e3937c9cd5425b8a54e0b86539ff07",
        "IPY_MODEL_0f02dfd470734f41820efc4b0adf6cc8",
        "IPY_MODEL_5e1caab10434439ea25fd029d15d3638"
       ],
       "layout": "IPY_MODEL_dd4939af8ea047a998191ac597bb0da0"
      }
     },
     "de465583a5ef4bbc9bc2d9e6a76c4ea5": {
      "model_module": "@jupyter-widgets/controls",
      "model_module_version": "1.5.0",
      "model_name": "ButtonModel",
      "state": {
       "layout": "IPY_MODEL_a65cccc01d9f4d1191e7e894fd88e530",
       "style": "IPY_MODEL_f7afd23a64a446b3ac44eb5d5c620526"
      }
     },
     "de743be376f5416cb84fef2c29dc79de": {
      "model_module": "@jupyter-widgets/controls",
      "model_module_version": "1.5.0",
      "model_name": "DescriptionStyleModel",
      "state": {
       "description_width": ""
      }
     },
     "de8c85680a574dfe9a0875269ac33c3f": {
      "model_module": "@jupyter-widgets/controls",
      "model_module_version": "1.5.0",
      "model_name": "ProgressStyleModel",
      "state": {
       "description_width": ""
      }
     },
     "dead8ba66a574a55bd4c55a73ed9aa3c": {
      "model_module": "@jupyter-widgets/base",
      "model_module_version": "1.2.0",
      "model_name": "LayoutModel",
      "state": {
       "order": "-1",
       "overflow": "visible",
       "padding": "1px",
       "width": "0px"
      }
     },
     "debe3de18e864f44a99cb7acd2b677f7": {
      "model_module": "@jupyter-widgets/controls",
      "model_module_version": "1.5.0",
      "model_name": "HTMLModel",
      "state": {
       "layout": "IPY_MODEL_8fc24dabc5ac439a96c1b0a4af8e3255",
       "style": "IPY_MODEL_3418e658855946e88d29072f7327db11",
       "value": "<font size=\"5\"><b>Flashpoint</b></font size=>"
      }
     },
     "df03c9751f07413980076f9f44dbcfbc": {
      "model_module": "@jupyter-widgets/base",
      "model_module_version": "1.2.0",
      "model_name": "LayoutModel",
      "state": {}
     },
     "df59e9cce88b4a3cacbdb2e8018cecd4": {
      "model_module": "@jupyter-widgets/controls",
      "model_module_version": "1.5.0",
      "model_name": "ButtonModel",
      "state": {
       "layout": "IPY_MODEL_8d5ceaf1f88140aebe30fc16363602d8",
       "style": "IPY_MODEL_ceec8b52b26e483c8be54850d946009f"
      }
     },
     "df67a6cb110d4e20891e8a95f44ac5f6": {
      "model_module": "@jupyter-widgets/controls",
      "model_module_version": "1.5.0",
      "model_name": "LabelModel",
      "state": {
       "layout": "IPY_MODEL_a7efccb430b24e6798e2119a356c32c5",
       "style": "IPY_MODEL_ab61d6de3d814218844e318b6269e91d",
       "value": "   objective"
      }
     },
     "df7bc3fb40c8468b89afe4221e90ba2a": {
      "model_module": "@jupyter-widgets/controls",
      "model_module_version": "1.5.0",
      "model_name": "LabelModel",
      "state": {
       "layout": "IPY_MODEL_0eeb2f33edbf47428f240fc8cd838fc4",
       "style": "IPY_MODEL_8bc7f92705164da7becfd0f5e7a4a0b7",
       "value": "   objective"
      }
     },
     "df8eacfc213d4f4a873d7800275093d5": {
      "model_module": "@jupyter-widgets/base",
      "model_module_version": "1.2.0",
      "model_name": "LayoutModel",
      "state": {
       "display": "flex",
       "width": "60px"
      }
     },
     "df9d985f7a44483f9667d5e2f6bcfafb": {
      "model_module": "@jupyter-widgets/controls",
      "model_module_version": "1.5.0",
      "model_name": "ButtonModel",
      "state": {
       "description": "EDIT",
       "layout": "IPY_MODEL_5318c42ad0bb47eca4b60749afd93ea4",
       "style": "IPY_MODEL_7c03461a28334f199d8fa58862809f2b"
      }
     },
     "dfc1776ffacd4f37bec39c54f11e083a": {
      "model_module": "@jupyter-widgets/base",
      "model_module_version": "1.2.0",
      "model_name": "LayoutModel",
      "state": {
       "display": "none",
       "width": "60px"
      }
     },
     "dfed911ca97b4175a781576a9d711993": {
      "model_module": "@jupyter-widgets/controls",
      "model_module_version": "1.5.0",
      "model_name": "ButtonStyleModel",
      "state": {}
     },
     "dffd0aaa18f74bb4a0f4027442c53f6e": {
      "model_module": "@jupyter-widgets/base",
      "model_module_version": "1.2.0",
      "model_name": "LayoutModel",
      "state": {
       "display": "none"
      }
     },
     "e02d8b171b8145e68e32fc6adcd98e7d": {
      "model_module": "@jupyter-widgets/controls",
      "model_module_version": "1.5.0",
      "model_name": "ButtonModel",
      "state": {
       "layout": "IPY_MODEL_53ce3aa5d8874bcc87b23067634063fe",
       "style": "IPY_MODEL_f521ec69d08b41ae97835d610d975037"
      }
     },
     "e0539837752f47b9b4fad156a58f8d83": {
      "model_module": "@jupyter-widgets/controls",
      "model_module_version": "1.5.0",
      "model_name": "CheckboxModel",
      "state": {
       "description": "Hide Complete Tasks",
       "disabled": false,
       "indent": false,
       "layout": "IPY_MODEL_f2505e9d65394f4aa29e0b4902ab627a",
       "style": "IPY_MODEL_90fca8b0467e4e57a74acc6e8c22cf31",
       "value": false
      }
     },
     "e056d2615d33445fa5ce28cf54a3ff8a": {
      "model_module": "@jupyter-widgets/controls",
      "model_module_version": "1.5.0",
      "model_name": "BoxModel",
      "state": {
       "layout": "IPY_MODEL_86d7796f01ac44cc8a9166d6ab78cc70"
      }
     },
     "e071bc58a4134c7bbbeac373737135e3": {
      "model_module": "@jupyter-widgets/controls",
      "model_module_version": "1.5.0",
      "model_name": "DescriptionStyleModel",
      "state": {
       "description_width": ""
      }
     },
     "e0750d7f947448c78355c5b5383fc867": {
      "model_module": "@jupyter-widgets/base",
      "model_module_version": "1.2.0",
      "model_name": "LayoutModel",
      "state": {
       "display": "none"
      }
     },
     "e0792b2caaf845b0bab9850dc24baab3": {
      "model_module": "@jupyter-widgets/base",
      "model_module_version": "1.2.0",
      "model_name": "LayoutModel",
      "state": {
       "display": "none"
      }
     },
     "e0aa23c045d54c3e8a8abea89d5c7838": {
      "model_module": "@jupyter-widgets/controls",
      "model_module_version": "1.5.0",
      "model_name": "ProgressStyleModel",
      "state": {
       "description_width": ""
      }
     },
     "e0de32b869924cdf979819c32631e90b": {
      "model_module": "@jupyter-widgets/controls",
      "model_module_version": "1.5.0",
      "model_name": "ButtonStyleModel",
      "state": {}
     },
     "e1052237a96d420791b2c3c297b997cd": {
      "model_module": "@jupyter-widgets/controls",
      "model_module_version": "1.5.0",
      "model_name": "HBoxModel",
      "state": {
       "children": [
        "IPY_MODEL_4d0809752ba3472f918c18a1d704c16a",
        "IPY_MODEL_60a4a36670a84a59994b03bc3ccc3eb6",
        "IPY_MODEL_e2c826abbfa4407a8503a8c981910df9",
        "IPY_MODEL_400aa117dd014f5fa1eed148d2525e1c"
       ],
       "layout": "IPY_MODEL_b760041b4e1844b7bcccda083b5d2c2a"
      }
     },
     "e1055c2e314c4ab19fb81aa1495b5826": {
      "model_module": "@jupyter-widgets/base",
      "model_module_version": "1.2.0",
      "model_name": "LayoutModel",
      "state": {
       "order": "-1",
       "overflow": "visible",
       "padding": "1px",
       "width": "0px"
      }
     },
     "e1057d469e9a42698caed7fd26a24267": {
      "model_module": "@jupyter-widgets/controls",
      "model_module_version": "1.5.0",
      "model_name": "IntProgressModel",
      "state": {
       "bar_style": "success",
       "layout": "IPY_MODEL_4e78ca27edfc47d392849ea004a0736d",
       "max": 1,
       "style": "IPY_MODEL_4a366051a53c4112b7d268f079079cb0",
       "value": 1
      }
     },
     "e1091299f2a442688c5c902f62f69d06": {
      "model_module": "@jupyter-widgets/controls",
      "model_module_version": "1.5.0",
      "model_name": "HBoxModel",
      "state": {
       "children": [
        "IPY_MODEL_54c55a5bf242495994acc752015a122d",
        "IPY_MODEL_68e70335e9234abfa08667c327bde1ee"
       ],
       "layout": "IPY_MODEL_0aca7463144b45d5938e812f733924cb"
      }
     },
     "e10f94a95f474bf5a4084fce658fde16": {
      "model_module": "@jupyter-widgets/base",
      "model_module_version": "1.2.0",
      "model_name": "LayoutModel",
      "state": {
       "display": "none",
       "width": "60px"
      }
     },
     "e11fa9690a374819bb2cd18dfc371290": {
      "model_module": "@jupyter-widgets/controls",
      "model_module_version": "1.5.0",
      "model_name": "DescriptionStyleModel",
      "state": {
       "description_width": ""
      }
     },
     "e1355aaae858475a93350de9edf33c39": {
      "model_module": "@jupyter-widgets/controls",
      "model_module_version": "1.5.0",
      "model_name": "ButtonModel",
      "state": {
       "layout": "IPY_MODEL_7ff95386168b4f2cac55f470059ff3f1",
       "style": "IPY_MODEL_0044430078714b3caf9b3b2028f8d74d"
      }
     },
     "e152bbd7a24b46af94c6f1c3a60aeea1": {
      "model_module": "@jupyter-widgets/controls",
      "model_module_version": "1.5.0",
      "model_name": "LabelModel",
      "state": {
       "layout": "IPY_MODEL_8fceae9b790048948841f92c950b2c4b",
       "style": "IPY_MODEL_dd943a72199b4ebf8da305ab747cca12",
       "value": "   objective"
      }
     },
     "e1d592cd2db4472faebb3393211f39b0": {
      "model_module": "@jupyter-widgets/base",
      "model_module_version": "1.2.0",
      "model_name": "LayoutModel",
      "state": {
       "display": "none"
      }
     },
     "e215d9eeff4248f08d026a7a69c37731": {
      "model_module": "@jupyter-widgets/controls",
      "model_module_version": "1.5.0",
      "model_name": "DescriptionStyleModel",
      "state": {
       "description_width": ""
      }
     },
     "e234657052b24e749532047f316c1398": {
      "model_module": "@jupyter-widgets/controls",
      "model_module_version": "1.5.0",
      "model_name": "ButtonStyleModel",
      "state": {}
     },
     "e27837bd89cb4da7a47bb9210d8fdf7c": {
      "model_module": "@jupyter-widgets/controls",
      "model_module_version": "1.5.0",
      "model_name": "LabelModel",
      "state": {
       "layout": "IPY_MODEL_30e992755f7e4688a4ce383bb982258d",
       "style": "IPY_MODEL_9b32e74170354509a438359c02a97c65",
       "value": "Filter Tasks"
      }
     },
     "e290816fe88843a493772d4f960db555": {
      "model_module": "@jupyter-widgets/controls",
      "model_module_version": "1.5.0",
      "model_name": "HTMLModel",
      "state": {
       "layout": "IPY_MODEL_1ee4545d92b340869592099a4ca0ea9f",
       "style": "IPY_MODEL_7bbe0552c7484945becdc39ac42a3b1d",
       "value": "<i></i>"
      }
     },
     "e2c826abbfa4407a8503a8c981910df9": {
      "model_module": "@jupyter-widgets/controls",
      "model_module_version": "1.5.0",
      "model_name": "LabelModel",
      "state": {
       "layout": "IPY_MODEL_9f069a94a1a744d6a5caa957a65421bf",
       "style": "IPY_MODEL_345305894e674d08a451a32bf5dfe317",
       "value": "   objective"
      }
     },
     "e2d8fb89666e4c4bb343b86f97e808a4": {
      "model_module": "@jupyter-widgets/base",
      "model_module_version": "1.2.0",
      "model_name": "LayoutModel",
      "state": {
       "display": "none",
       "width": "60px"
      }
     },
     "e35fce8bbe6640819164aa77504dd3bf": {
      "model_module": "@jupyter-widgets/controls",
      "model_module_version": "1.5.0",
      "model_name": "ButtonModel",
      "state": {
       "description": "EDIT",
       "layout": "IPY_MODEL_54190e960c8f42669a1d584fb9b390fd",
       "style": "IPY_MODEL_13a9ffcc67784b33b72ff95e4332f505"
      }
     },
     "e376e6571fb2453c982c870e7ea43e57": {
      "model_module": "@jupyter-widgets/base",
      "model_module_version": "1.2.0",
      "model_name": "LayoutModel",
      "state": {
       "height": "32px",
       "overflow": "visible",
       "width": "100%"
      }
     },
     "e395658ba75a446eb92678f010da436f": {
      "model_module": "@jupyter-widgets/controls",
      "model_module_version": "1.5.0",
      "model_name": "IntProgressModel",
      "state": {
       "layout": "IPY_MODEL_430ca9e446c44628ae6ddd06f9e77537",
       "style": "IPY_MODEL_2a7da00c89bd4d3191d3ba642179e355",
       "value": 30
      }
     },
     "e415ba7cda674638be99bd09e29c2ec7": {
      "model_module": "@jupyter-widgets/controls",
      "model_module_version": "1.5.0",
      "model_name": "ButtonStyleModel",
      "state": {}
     },
     "e42352e060db4fd0a25f21d4a36d3cb7": {
      "model_module": "@jupyter-widgets/base",
      "model_module_version": "1.2.0",
      "model_name": "LayoutModel",
      "state": {
       "display": "none"
      }
     },
     "e44223bf0e3944229b4d70e4252b63c6": {
      "model_module": "@jupyter-widgets/controls",
      "model_module_version": "1.5.0",
      "model_name": "ButtonModel",
      "state": {
       "description": "EDIT",
       "layout": "IPY_MODEL_c2c79f780a43438fbc5e4de746adc0f2",
       "style": "IPY_MODEL_bcc4b45c3c204188a9e3c1065fdb2d3c"
      }
     },
     "e451d83e4ad841daabc0f6fec3206367": {
      "model_module": "@jupyter-widgets/controls",
      "model_module_version": "1.5.0",
      "model_name": "ButtonStyleModel",
      "state": {}
     },
     "e482cbd0aec5428198a573a42acbf8f9": {
      "model_module": "@jupyter-widgets/controls",
      "model_module_version": "1.5.0",
      "model_name": "HBoxModel",
      "state": {
       "children": [
        "IPY_MODEL_7019f8b376ca43eba6e73bfc1959faee",
        "IPY_MODEL_c0f58609178b474b9d053f0aa275a8b8",
        "IPY_MODEL_87efc0e56a3345ffbd75dd3cd37e7adb",
        "IPY_MODEL_e44223bf0e3944229b4d70e4252b63c6"
       ],
       "layout": "IPY_MODEL_e6d04648175a42bd90a3ddc01e9a99b5"
      }
     },
     "e4859f289d5847ecb04b50a33ff885b2": {
      "model_module": "@jupyter-widgets/controls",
      "model_module_version": "1.5.0",
      "model_name": "DescriptionStyleModel",
      "state": {
       "description_width": ""
      }
     },
     "e4aa48378ca2462b88bfc4b1dd160dc3": {
      "model_module": "@jupyter-widgets/controls",
      "model_module_version": "1.5.0",
      "model_name": "ButtonModel",
      "state": {
       "layout": "IPY_MODEL_3334cc8748cf47a5a50345ef98ab422a",
       "style": "IPY_MODEL_42cf93564a7e4df38774f6397e5e28e3"
      }
     },
     "e4b001b9bd0143348d0787cdfc2ea9fe": {
      "model_module": "@jupyter-widgets/base",
      "model_module_version": "1.2.0",
      "model_name": "LayoutModel",
      "state": {
       "display": "none",
       "width": "60px"
      }
     },
     "e54abe9578b449f9b845dd3c27f49415": {
      "model_module": "@jupyter-widgets/base",
      "model_module_version": "1.2.0",
      "model_name": "LayoutModel",
      "state": {
       "display": "none",
       "width": "60px"
      }
     },
     "e578b33eff7747d5a802f2ccf2bf9b3c": {
      "model_module": "@jupyter-widgets/controls",
      "model_module_version": "1.5.0",
      "model_name": "LabelModel",
      "state": {
       "layout": "IPY_MODEL_99fd4c91c48a45848be31c58ec5c0067",
       "style": "IPY_MODEL_a37985e50a8c4fc29466c6cc30e512c0",
       "value": "   objective"
      }
     },
     "e5da30c0d7cd47718d1660b65758ef68": {
      "model_module": "@jupyter-widgets/base",
      "model_module_version": "1.2.0",
      "model_name": "LayoutModel",
      "state": {
       "display": "none",
       "width": "60px"
      }
     },
     "e616364c8346449fa0bba9ebd837616c": {
      "model_module": "@jupyter-widgets/controls",
      "model_module_version": "1.5.0",
      "model_name": "HTMLModel",
      "state": {
       "layout": "IPY_MODEL_bb444f7d96284b58874d5dd74b023a9f",
       "style": "IPY_MODEL_556cef4c2646460280635582e0e5eec1",
       "value": "<font size=\"1\">Triumphs/Account/Moments of Triumph/Moments of Triumph/The Black Garden</font size=>"
      }
     },
     "e62d180a840e465986d7229caad83878": {
      "model_module": "@jupyter-widgets/controls",
      "model_module_version": "1.5.0",
      "model_name": "DescriptionStyleModel",
      "state": {
       "description_width": ""
      }
     },
     "e66f76df2eb749fc8ea3bc21a38a01c0": {
      "model_module": "@jupyter-widgets/controls",
      "model_module_version": "1.5.0",
      "model_name": "ButtonModel",
      "state": {
       "layout": "IPY_MODEL_b4aefbc0b3704f6598fc821ee683f97f",
       "style": "IPY_MODEL_b0513150ace94069aa742c8fc6c6ae9c"
      }
     },
     "e676e3c4295a49b09af4eb000198bcdb": {
      "model_module": "@jupyter-widgets/controls",
      "model_module_version": "1.5.0",
      "model_name": "ButtonModel",
      "state": {
       "layout": "IPY_MODEL_8619d98fc6f04b9087bf35413cc666e4",
       "style": "IPY_MODEL_63fa6c7df734465a8fa9eac73e8f55d2"
      }
     },
     "e691d67607484980b5e7ea24df9d0e63": {
      "model_module": "@jupyter-widgets/controls",
      "model_module_version": "1.5.0",
      "model_name": "ButtonModel",
      "state": {
       "layout": "IPY_MODEL_37cf5d40a81f4468a380ab1dbfe75965",
       "style": "IPY_MODEL_ba15314389324898b314e2271523b4b3"
      }
     },
     "e69587c6489a440599612985d363eeb2": {
      "model_module": "@jupyter-widgets/base",
      "model_module_version": "1.2.0",
      "model_name": "LayoutModel",
      "state": {
       "display": "flex"
      }
     },
     "e6b404d304c5496f8f66c6084d9fd053": {
      "model_module": "@jupyter-widgets/controls",
      "model_module_version": "1.5.0",
      "model_name": "HTMLModel",
      "state": {
       "layout": "IPY_MODEL_c0a6a4c596224adc97571d472cfb06f9",
       "style": "IPY_MODEL_ab79bb5c0d9b46e49c97a8b8fe6d27f1",
       "value": "<font size=\"1\">Triumphs/Lore/The Light/The Man They Call Cayde/Bluff</font size=>"
      }
     },
     "e6d04648175a42bd90a3ddc01e9a99b5": {
      "model_module": "@jupyter-widgets/base",
      "model_module_version": "1.2.0",
      "model_name": "LayoutModel",
      "state": {
       "display": "none"
      }
     },
     "e7122939e4c249778978a5e00d0d09d8": {
      "model_module": "@jupyter-widgets/base",
      "model_module_version": "1.2.0",
      "model_name": "LayoutModel",
      "state": {
       "display": "none"
      }
     },
     "e74b58f6a84242da8fd4352f15bffd0c": {
      "model_module": "@jupyter-widgets/controls",
      "model_module_version": "1.5.0",
      "model_name": "DescriptionStyleModel",
      "state": {
       "description_width": ""
      }
     },
     "e7ff5842c75b458f9e0aace8b6dadf8d": {
      "model_module": "@jupyter-widgets/base",
      "model_module_version": "1.2.0",
      "model_name": "LayoutModel",
      "state": {
       "order": "-1",
       "overflow": "visible",
       "padding": "1px",
       "width": "0px"
      }
     },
     "e835f1b9676544e7a0de06af6e0f9ea8": {
      "model_module": "@jupyter-widgets/controls",
      "model_module_version": "1.5.0",
      "model_name": "ButtonStyleModel",
      "state": {}
     },
     "e8424d7fb34d43d08ab6ce811ef1a1e7": {
      "model_module": "@jupyter-widgets/controls",
      "model_module_version": "1.5.0",
      "model_name": "DescriptionStyleModel",
      "state": {
       "description_width": ""
      }
     },
     "e89fdae66a4b413595d85e4312b406cc": {
      "model_module": "@jupyter-widgets/controls",
      "model_module_version": "1.5.0",
      "model_name": "LabelModel",
      "state": {
       "layout": "IPY_MODEL_4c0ac2e2984c4af1bf4a9a60752bb3c9",
       "style": "IPY_MODEL_80d4af4d479e4ffea6c57959842b6edd",
       "value": "   objective"
      }
     },
     "e8e67ed93bc64898a242fe0812af4a23": {
      "model_module": "@jupyter-widgets/controls",
      "model_module_version": "1.5.0",
      "model_name": "DescriptionStyleModel",
      "state": {
       "description_width": ""
      }
     },
     "e8fe9ecf236541039b8222dee2199e11": {
      "model_module": "@jupyter-widgets/controls",
      "model_module_version": "1.5.0",
      "model_name": "HBoxModel",
      "state": {
       "children": [
        "IPY_MODEL_0c29182b562d48ea875750b162074dca",
        "IPY_MODEL_b2e6bf6d15524cc288791721dc7972d2",
        "IPY_MODEL_0939f3210df04f7daa0dbdf18cca2533",
        "IPY_MODEL_007b36b416074a4080200e607311405e"
       ],
       "layout": "IPY_MODEL_353011fad0474a43915a43dab97b6619"
      }
     },
     "e9196bb180454309a87d9aee22c53d1e": {
      "model_module": "@jupyter-widgets/controls",
      "model_module_version": "1.5.0",
      "model_name": "VBoxModel",
      "state": {
       "children": [
        "IPY_MODEL_0c680f090de6454d99cfbd15dbb62ac1",
        "IPY_MODEL_931e8000c758469aab3044656bb323bf",
        "IPY_MODEL_da8f62f6bbb9479ba27fa1964c788695",
        "IPY_MODEL_48048cc4b48a4ad99174d6c95bb0e55a",
        "IPY_MODEL_1c9bef2b48114568a87b2b6a2b42e58a",
        "IPY_MODEL_9a0d869c41fb4d0d99ad590b71943b54"
       ],
       "layout": "IPY_MODEL_9635e5d5e5b144629f2adfcf031aa0a9"
      }
     },
     "e97fe641d0a94959a94793a335baf49d": {
      "model_module": "@jupyter-widgets/controls",
      "model_module_version": "1.5.0",
      "model_name": "LabelModel",
      "state": {
       "layout": "IPY_MODEL_dead8ba66a574a55bd4c55a73ed9aa3c",
       "style": "IPY_MODEL_7e415eaae010454e8917ffbb14d73eae",
       "value": "   objective"
      }
     },
     "e9e8ab1ee8f248c7a604f104644a23ca": {
      "model_module": "@jupyter-widgets/base",
      "model_module_version": "1.2.0",
      "model_name": "LayoutModel",
      "state": {
       "display": "flex"
      }
     },
     "e9e923b1c19343c9a97a2915f97f8970": {
      "model_module": "@jupyter-widgets/base",
      "model_module_version": "1.2.0",
      "model_name": "LayoutModel",
      "state": {
       "height": "32px",
       "order": "-2",
       "width": "32px"
      }
     },
     "e9faab2f1467459a9e2caa5f4dffa80a": {
      "model_module": "@jupyter-widgets/controls",
      "model_module_version": "1.5.0",
      "model_name": "ButtonStyleModel",
      "state": {}
     },
     "ea351d198f3641009420f2f1917af469": {
      "model_module": "@jupyter-widgets/controls",
      "model_module_version": "1.5.0",
      "model_name": "ButtonModel",
      "state": {
       "layout": "IPY_MODEL_804cdec7a8054a6186949c1216f32a08",
       "style": "IPY_MODEL_8762f513c7654929bce9a7c551376c24"
      }
     },
     "ea470e837e3d470dab57e2ac6a686ec7": {
      "model_module": "@jupyter-widgets/controls",
      "model_module_version": "1.5.0",
      "model_name": "DescriptionStyleModel",
      "state": {
       "description_width": ""
      }
     },
     "eac08f3f9f534091b6e60c6c3362753b": {
      "model_module": "@jupyter-widgets/controls",
      "model_module_version": "1.5.0",
      "model_name": "DescriptionStyleModel",
      "state": {
       "description_width": ""
      }
     },
     "ead051ce866a4009a560cbaf1ffd91a2": {
      "model_module": "@jupyter-widgets/base",
      "model_module_version": "1.2.0",
      "model_name": "LayoutModel",
      "state": {
       "height": "32px",
       "order": "-2",
       "width": "32px"
      }
     },
     "eb44b27026244134a04444c22e0635b9": {
      "model_module": "@jupyter-widgets/controls",
      "model_module_version": "1.5.0",
      "model_name": "ProgressStyleModel",
      "state": {
       "description_width": ""
      }
     },
     "eb687b0e8e534b81893f8f7975457ee4": {
      "model_module": "@jupyter-widgets/controls",
      "model_module_version": "1.5.0",
      "model_name": "LabelModel",
      "state": {
       "layout": "IPY_MODEL_986084b96e3e4de6aa93247fdace27bc",
       "style": "IPY_MODEL_ada740cba671478cb9f3b2bb4dff231a",
       "value": "Class:"
      }
     },
     "ebae307e6be84c7c9c0cd65b8b8058ae": {
      "model_module": "@jupyter-widgets/base",
      "model_module_version": "1.2.0",
      "model_name": "LayoutModel",
      "state": {
       "height": "32px",
       "order": "-2",
       "width": "32px"
      }
     },
     "ebb3d31ac8d4402f986d4167e7ab9b01": {
      "model_module": "@jupyter-widgets/base",
      "model_module_version": "1.2.0",
      "model_name": "LayoutModel",
      "state": {
       "display": "none"
      }
     },
     "ebe8b09023fe40fca1377938aebd9e69": {
      "model_module": "@jupyter-widgets/base",
      "model_module_version": "1.2.0",
      "model_name": "LayoutModel",
      "state": {
       "height": "32px",
       "order": "-2",
       "width": "32px"
      }
     },
     "ebfc2b3f49f547fb93a07876593571f5": {
      "model_module": "@jupyter-widgets/base",
      "model_module_version": "1.2.0",
      "model_name": "LayoutModel",
      "state": {
       "height": "32px",
       "order": "-2",
       "width": "32px"
      }
     },
     "ec1df332a0494ab6a4d2e528d4eb9f4e": {
      "model_module": "@jupyter-widgets/controls",
      "model_module_version": "1.5.0",
      "model_name": "LabelModel",
      "state": {
       "layout": "IPY_MODEL_d40f12172c214d148dca20c58a39ab10",
       "style": "IPY_MODEL_a28c64afcabe40468dac764262c042b3",
       "value": "   objective"
      }
     },
     "ec2dade5cc4843caa5ca5e3b4829cd4f": {
      "model_module": "@jupyter-widgets/controls",
      "model_module_version": "1.5.0",
      "model_name": "DescriptionStyleModel",
      "state": {
       "description_width": ""
      }
     },
     "ecc93ab040fc4d9d94812558d2092ae1": {
      "model_module": "@jupyter-widgets/base",
      "model_module_version": "1.2.0",
      "model_name": "LayoutModel",
      "state": {
       "height": "32px",
       "overflow": "visible",
       "width": "100%"
      }
     },
     "ecf817aa1d7e4954b85bdb52af2d4a77": {
      "model_module": "@jupyter-widgets/controls",
      "model_module_version": "1.5.0",
      "model_name": "HBoxModel",
      "state": {
       "children": [
        "IPY_MODEL_6575cc0de01b44e6aa5aa6654a736843",
        "IPY_MODEL_ca641304bd7c456b81dd733b09016365",
        "IPY_MODEL_775372098f014b32adf4aabc09c19956",
        "IPY_MODEL_5f07cc290ce54c0fa22fccfcb01aab40"
       ],
       "layout": "IPY_MODEL_67a00b901d474fb083c583913dc4611c"
      }
     },
     "edbb9bde52ef46929c1beedb9301a270": {
      "model_module": "@jupyter-widgets/controls",
      "model_module_version": "1.5.0",
      "model_name": "IntProgressModel",
      "state": {
       "layout": "IPY_MODEL_1548523caf6d41a59c473ac0e82c9f50",
       "style": "IPY_MODEL_8d862f9b445741128c41c22593808e48",
       "value": 30
      }
     },
     "edeea337080841fcbdae164b94d0f5c3": {
      "model_module": "@jupyter-widgets/controls",
      "model_module_version": "1.5.0",
      "model_name": "ButtonModel",
      "state": {
       "layout": "IPY_MODEL_88fff7b58aa249f58745f73aec0503ea",
       "style": "IPY_MODEL_c5a49e6b2d98418f9335f41eb71ee50a"
      }
     },
     "ee31521a33a5429fadba6fffa7d2551b": {
      "model_module": "@jupyter-widgets/controls",
      "model_module_version": "1.5.0",
      "model_name": "HTMLModel",
      "state": {
       "layout": "IPY_MODEL_cd1aa6cceaf54d609bb5e3406edcc9ec",
       "style": "IPY_MODEL_a2ddbbfa68ca4b4d8f291df0d188c5a1",
       "value": "<i></i>"
      }
     },
     "ee4a0784a3b840009d97e61ee480cb40": {
      "model_module": "@jupyter-widgets/controls",
      "model_module_version": "1.5.0",
      "model_name": "DescriptionStyleModel",
      "state": {
       "description_width": ""
      }
     },
     "ee747f292b6444a988919929db9469c6": {
      "model_module": "@jupyter-widgets/base",
      "model_module_version": "1.2.0",
      "model_name": "LayoutModel",
      "state": {
       "display": "none"
      }
     },
     "ee83976a3b7946a991c658556337eea6": {
      "model_module": "@jupyter-widgets/controls",
      "model_module_version": "1.5.0",
      "model_name": "ButtonModel",
      "state": {
       "description": "EDIT",
       "layout": "IPY_MODEL_5e82a8b519bf4ee9afa0961186767838",
       "style": "IPY_MODEL_7141d5aa27f54ad98c4a6a2cdbe4d5b2"
      }
     },
     "ee8fc0c2047a4161b259675fa04bcd9d": {
      "model_module": "@jupyter-widgets/controls",
      "model_module_version": "1.5.0",
      "model_name": "IntProgressModel",
      "state": {
       "layout": "IPY_MODEL_4c917c15ee17470c84a5df740400190b",
       "style": "IPY_MODEL_2ce1b6f67d354634bf633f8b113fe84f",
       "value": 30
      }
     },
     "eeb22c98663947a0bdaee90bb7b5e733": {
      "model_module": "@jupyter-widgets/controls",
      "model_module_version": "1.5.0",
      "model_name": "IntProgressModel",
      "state": {
       "layout": "IPY_MODEL_a3e6c4de57aa4f95a9fac86f669204b0",
       "style": "IPY_MODEL_1f7d021d9fce47f7ac8d8f335294e360",
       "value": 30
      }
     },
     "eedcce83f4b945db8fe5c24e85f8e7ea": {
      "model_module": "@jupyter-widgets/base",
      "model_module_version": "1.2.0",
      "model_name": "LayoutModel",
      "state": {
       "height": "32px",
       "overflow": "visible",
       "width": "100%"
      }
     },
     "eee6ca3907a2420ebce3287e33bbea61": {
      "model_module": "@jupyter-widgets/controls",
      "model_module_version": "1.5.0",
      "model_name": "ButtonStyleModel",
      "state": {}
     },
     "ef130316f7724b2d844afd88cdb2e634": {
      "model_module": "@jupyter-widgets/base",
      "model_module_version": "1.2.0",
      "model_name": "LayoutModel",
      "state": {
       "height": "32px",
       "overflow": "visible",
       "width": "100%"
      }
     },
     "ef179bcdf05a40a1be7d83d3d27ea0f9": {
      "model_module": "@jupyter-widgets/controls",
      "model_module_version": "1.5.0",
      "model_name": "ButtonModel",
      "state": {
       "button_style": "success",
       "disabled": true,
       "layout": "IPY_MODEL_085a9fb81fd8497f868b13f697725a5d",
       "style": "IPY_MODEL_9decfc344e244a5aa7077c7ecbb4496f"
      }
     },
     "ef57c9c4c7214176a918baddde3294a7": {
      "model_module": "@jupyter-widgets/base",
      "model_module_version": "1.2.0",
      "model_name": "LayoutModel",
      "state": {
       "display": "flex",
       "width": "60px"
      }
     },
     "ef844e75ed2c4ba6abf64e1f2bf0902e": {
      "model_module": "@jupyter-widgets/base",
      "model_module_version": "1.2.0",
      "model_name": "LayoutModel",
      "state": {
       "display": "none",
       "width": "60px"
      }
     },
     "ef9720c043534fc1a54d6815d8bc29a8": {
      "model_module": "@jupyter-widgets/controls",
      "model_module_version": "1.5.0",
      "model_name": "LabelModel",
      "state": {
       "layout": "IPY_MODEL_f8e955d7b7104666be2b1b713b146c9f",
       "style": "IPY_MODEL_96b9b0656ff249649f6d83d4b800bfd6",
       "value": "     (1/1)"
      }
     },
     "efe66b88a9e847ceb4f6ec1e8b341225": {
      "model_module": "@jupyter-widgets/base",
      "model_module_version": "1.2.0",
      "model_name": "LayoutModel",
      "state": {
       "order": "-1",
       "overflow": "visible",
       "padding": "1px",
       "width": "0px"
      }
     },
     "f01c098c5be74ecca0e1fa7e31ff8740": {
      "model_module": "@jupyter-widgets/controls",
      "model_module_version": "1.5.0",
      "model_name": "ButtonModel",
      "state": {
       "layout": "IPY_MODEL_af68e111082c4a1da3d5270d3edbf0fa",
       "style": "IPY_MODEL_f7f36d4a269141c49b5763dc0a9627af"
      }
     },
     "f045f1482d034c618f270b6fa3f2ab21": {
      "model_module": "@jupyter-widgets/controls",
      "model_module_version": "1.5.0",
      "model_name": "DescriptionStyleModel",
      "state": {
       "description_width": ""
      }
     },
     "f0517b45d78a4ab8bec6c1ef74e62e9d": {
      "model_module": "@jupyter-widgets/base",
      "model_module_version": "1.2.0",
      "model_name": "LayoutModel",
      "state": {
       "order": "-1",
       "overflow": "visible",
       "padding": "1px",
       "width": "0px"
      }
     },
     "f0d9dd47c7904d1a83801aeb773c8990": {
      "model_module": "@jupyter-widgets/controls",
      "model_module_version": "1.5.0",
      "model_name": "ButtonStyleModel",
      "state": {}
     },
     "f0e866e5642c4f328d50946001f5d755": {
      "model_module": "@jupyter-widgets/controls",
      "model_module_version": "1.5.0",
      "model_name": "ButtonStyleModel",
      "state": {}
     },
     "f0f8f775d85848dc92dd525af7133704": {
      "model_module": "@jupyter-widgets/controls",
      "model_module_version": "1.5.0",
      "model_name": "HBoxModel",
      "state": {
       "children": [
        "IPY_MODEL_ab8d38307c144f2183c8e8a89f657917",
        "IPY_MODEL_6ef866f62af5449f98757b6eef4cf322",
        "IPY_MODEL_d5891f4cc63942e4ad23c7a8ae686387",
        "IPY_MODEL_c0381bda17a647f4baf3e000fe0b6ad6"
       ],
       "layout": "IPY_MODEL_e42352e060db4fd0a25f21d4a36d3cb7"
      }
     },
     "f1046d34bd9c475fa467350b00a971bf": {
      "model_module": "@jupyter-widgets/controls",
      "model_module_version": "1.5.0",
      "model_name": "DescriptionStyleModel",
      "state": {
       "description_width": ""
      }
     },
     "f10a3bf15c234327a85ffc73b9acb0ee": {
      "model_module": "@jupyter-widgets/base",
      "model_module_version": "1.2.0",
      "model_name": "LayoutModel",
      "state": {
       "order": "-1",
       "overflow": "visible",
       "padding": "1px",
       "width": "0px"
      }
     },
     "f17790af97db46678c84f5b842c02e84": {
      "model_module": "@jupyter-widgets/base",
      "model_module_version": "1.2.0",
      "model_name": "LayoutModel",
      "state": {
       "display": "flex",
       "flex_flow": "row wrap"
      }
     },
     "f19162aca6384a6097acbc51015fe477": {
      "model_module": "@jupyter-widgets/base",
      "model_module_version": "1.2.0",
      "model_name": "LayoutModel",
      "state": {
       "height": "32px",
       "overflow": "visible",
       "width": "100%"
      }
     },
     "f1c918f6ba984d99aaf374c874725057": {
      "model_module": "@jupyter-widgets/controls",
      "model_module_version": "1.5.0",
      "model_name": "ButtonStyleModel",
      "state": {}
     },
     "f2505e9d65394f4aa29e0b4902ab627a": {
      "model_module": "@jupyter-widgets/base",
      "model_module_version": "1.2.0",
      "model_name": "LayoutModel",
      "state": {}
     },
     "f268f212253e43bc91c4220e44da2446": {
      "model_module": "@jupyter-widgets/controls",
      "model_module_version": "1.5.0",
      "model_name": "ButtonStyleModel",
      "state": {}
     },
     "f28be1478c734e9ab20ef99a07749e53": {
      "model_module": "@jupyter-widgets/controls",
      "model_module_version": "1.5.0",
      "model_name": "LabelModel",
      "state": {
       "layout": "IPY_MODEL_d5df7bf834994bc3bf5dfe6ae6b8b19d",
       "style": "IPY_MODEL_fb59f4680aa94522bd900bd3bdc7fa04",
       "value": "   objective"
      }
     },
     "f290917b38344073ab69553fe5017b1c": {
      "model_module": "@jupyter-widgets/controls",
      "model_module_version": "1.5.0",
      "model_name": "ButtonStyleModel",
      "state": {}
     },
     "f2acff955ddb41afb907e42a37b7c3c1": {
      "model_module": "@jupyter-widgets/controls",
      "model_module_version": "1.5.0",
      "model_name": "ButtonModel",
      "state": {
       "description": "EDIT",
       "layout": "IPY_MODEL_45f34cfade324c79aeea1d514119a98e",
       "style": "IPY_MODEL_23cdf48b0b3b4473b7b61632cc235690"
      }
     },
     "f33c1174888646028e92e0e2b7a69fce": {
      "model_module": "@jupyter-widgets/controls",
      "model_module_version": "1.5.0",
      "model_name": "HTMLModel",
      "state": {
       "layout": "IPY_MODEL_c5b8963e685448da928fc4389bfcc355",
       "style": "IPY_MODEL_6458d13905924c3f93b56931f743ab27",
       "value": "<i></i>"
      }
     },
     "f35742f6510f40358f91ddc605c20eba": {
      "model_module": "@jupyter-widgets/base",
      "model_module_version": "1.2.0",
      "model_name": "LayoutModel",
      "state": {
       "height": "32px",
       "order": "-2",
       "width": "32px"
      }
     },
     "f37e1acb7f384dff97f05cc20ff82b47": {
      "model_module": "@jupyter-widgets/base",
      "model_module_version": "1.2.0",
      "model_name": "LayoutModel",
      "state": {
       "display": "none"
      }
     },
     "f3b8dd525f6a446b9cc9a486eb4ed400": {
      "model_module": "@jupyter-widgets/controls",
      "model_module_version": "1.5.0",
      "model_name": "HTMLModel",
      "state": {
       "layout": "IPY_MODEL_f5062f16b5e24ec386de29adefcf39df",
       "style": "IPY_MODEL_5551e2414509496d91d086df68d0a186",
       "value": "<i></i>"
      }
     },
     "f3e1df7d71624730a1f2b714c30c18ed": {
      "model_module": "@jupyter-widgets/base",
      "model_module_version": "1.2.0",
      "model_name": "LayoutModel",
      "state": {
       "order": "-1",
       "overflow": "visible",
       "padding": "1px",
       "width": "0px"
      }
     },
     "f40e85e0afbe4b27b03d51ba8acf44a1": {
      "model_module": "@jupyter-widgets/controls",
      "model_module_version": "1.5.0",
      "model_name": "ButtonStyleModel",
      "state": {}
     },
     "f48cdd42969b497faaa96795f1d53bc0": {
      "model_module": "@jupyter-widgets/base",
      "model_module_version": "1.2.0",
      "model_name": "LayoutModel",
      "state": {
       "border": "3px solid white",
       "display": "flex",
       "flex": "1 1 0%",
       "margin": "10px",
       "min_width": "400px",
       "overflow": "visible",
       "padding": "10px",
       "width": "auto"
      }
     },
     "f48fdb780d604bc68d2a81b9f66899f5": {
      "model_module": "@jupyter-widgets/base",
      "model_module_version": "1.2.0",
      "model_name": "LayoutModel",
      "state": {
       "height": "32px",
       "order": "-2",
       "width": "32px"
      }
     },
     "f4ad2a4db40f4a8082dc9e33a01d4d0c": {
      "model_module": "@jupyter-widgets/base",
      "model_module_version": "1.2.0",
      "model_name": "LayoutModel",
      "state": {
       "width": "100%"
      }
     },
     "f4d08a735d874f45b3ea08f320ca5062": {
      "model_module": "@jupyter-widgets/base",
      "model_module_version": "1.2.0",
      "model_name": "LayoutModel",
      "state": {
       "order": "-1",
       "overflow": "visible",
       "padding": "1px",
       "width": "0px"
      }
     },
     "f5062f16b5e24ec386de29adefcf39df": {
      "model_module": "@jupyter-widgets/base",
      "model_module_version": "1.2.0",
      "model_name": "LayoutModel",
      "state": {
       "display": "flex",
       "flex_flow": "row wrap"
      }
     },
     "f50ab0f4d15d4fd29713cb57e966c34d": {
      "model_module": "@jupyter-widgets/controls",
      "model_module_version": "1.5.0",
      "model_name": "ButtonModel",
      "state": {
       "description": "EDIT",
       "layout": "IPY_MODEL_c371b54f9714484698f5130a086c99ee",
       "style": "IPY_MODEL_000099cc4c654b66a6c0c04e2bb9b3c5"
      }
     },
     "f51ca6d2519f4abb89c3c8e3bc7e4e1a": {
      "model_module": "@jupyter-widgets/controls",
      "model_module_version": "1.5.0",
      "model_name": "IntProgressModel",
      "state": {
       "layout": "IPY_MODEL_ef130316f7724b2d844afd88cdb2e634",
       "style": "IPY_MODEL_98764ff39e784e81a7b564178a2a3cf4",
       "value": 30
      }
     },
     "f521ec69d08b41ae97835d610d975037": {
      "model_module": "@jupyter-widgets/controls",
      "model_module_version": "1.5.0",
      "model_name": "ButtonStyleModel",
      "state": {}
     },
     "f55bf4f015f04236a49338b5f66cd087": {
      "model_module": "@jupyter-widgets/controls",
      "model_module_version": "1.5.0",
      "model_name": "DescriptionStyleModel",
      "state": {
       "description_width": ""
      }
     },
     "f5ddd1166ecf4f7d8f7645ba072d7f4a": {
      "model_module": "@jupyter-widgets/controls",
      "model_module_version": "1.5.0",
      "model_name": "HTMLModel",
      "state": {
       "layout": "IPY_MODEL_2c5aee4f2ce94f25a5328fd731db7acc",
       "style": "IPY_MODEL_b56cfabb5600463a80eef8f185599ef1",
       "value": "<font size=\"1\">Triumphs/Destinations/Major/Io/Flashpoint</font size=>"
      }
     },
     "f60258c8518b4ac3abf3eecd658447de": {
      "model_module": "@jupyter-widgets/controls",
      "model_module_version": "1.5.0",
      "model_name": "ProgressStyleModel",
      "state": {
       "description_width": ""
      }
     },
     "f60ad64aa44848aabf4cd8acc7df4802": {
      "model_module": "@jupyter-widgets/controls",
      "model_module_version": "1.5.0",
      "model_name": "DropdownModel",
      "state": {
       "_options_labels": [
        "All"
       ],
       "index": 0,
       "layout": "IPY_MODEL_7e6b20a9a5b245ba970a4426166985c9",
       "style": "IPY_MODEL_9086a65bee134ebdacb89b3dc7c8c7b9"
      }
     },
     "f6621f16854b4ca39421519f96536154": {
      "model_module": "@jupyter-widgets/controls",
      "model_module_version": "1.5.0",
      "model_name": "ButtonModel",
      "state": {
       "layout": "IPY_MODEL_b55b6968d4e2425e9a93be7674c6d38b",
       "style": "IPY_MODEL_a1b7d179be2846d1a9f190928605f065"
      }
     },
     "f67c954619c64ad0a0bd00e74adb4414": {
      "model_module": "@jupyter-widgets/controls",
      "model_module_version": "1.5.0",
      "model_name": "HBoxModel",
      "state": {
       "children": [
        "IPY_MODEL_4c9cf21b768643759bc5c0e5ef2f0cbc",
        "IPY_MODEL_74cb4906f936432398d9faa2fe72af3f"
       ],
       "layout": "IPY_MODEL_34bce39fa89d47e1b150a119c6d558fb"
      }
     },
     "f6c8d89de9744c7c82d54d21af8b3680": {
      "model_module": "@jupyter-widgets/base",
      "model_module_version": "1.2.0",
      "model_name": "LayoutModel",
      "state": {
       "display": "none",
       "width": "60px"
      }
     },
     "f6e4844df9e7428e926a07a4b153050e": {
      "model_module": "@jupyter-widgets/controls",
      "model_module_version": "1.5.0",
      "model_name": "ButtonModel",
      "state": {
       "description": "EDIT",
       "layout": "IPY_MODEL_9c318c4a4058449ab6bf0edf122278e8",
       "style": "IPY_MODEL_49350d4d9209428b91c1102df990852a"
      }
     },
     "f707dcc0c5044ab6af2eaeb4ec3edab7": {
      "model_module": "@jupyter-widgets/base",
      "model_module_version": "1.2.0",
      "model_name": "LayoutModel",
      "state": {
       "height": "32px",
       "overflow": "visible",
       "width": "100%"
      }
     },
     "f7191477aa4a44a3b8fb5e18ad4f72f7": {
      "model_module": "@jupyter-widgets/controls",
      "model_module_version": "1.5.0",
      "model_name": "LabelModel",
      "state": {
       "layout": "IPY_MODEL_72312f0ab14a4ede895cefd50b7689c0",
       "style": "IPY_MODEL_1b65d91f25dc427da3328979e67db54c",
       "value": "     (1/1)"
      }
     },
     "f7395a60fab3440ca5a1d3fe110e6c40": {
      "model_module": "@jupyter-widgets/controls",
      "model_module_version": "1.5.0",
      "model_name": "IntProgressModel",
      "state": {
       "layout": "IPY_MODEL_2879b4b74dfa471e9fa8fcc63350bf1f",
       "style": "IPY_MODEL_133c7ee83120411781f5a359c08c4e85",
       "value": 30
      }
     },
     "f7afd23a64a446b3ac44eb5d5c620526": {
      "model_module": "@jupyter-widgets/controls",
      "model_module_version": "1.5.0",
      "model_name": "ButtonStyleModel",
      "state": {}
     },
     "f7e0518bd8d54ac29f22ee7f0caf6b18": {
      "model_module": "@jupyter-widgets/controls",
      "model_module_version": "1.5.0",
      "model_name": "ButtonStyleModel",
      "state": {}
     },
     "f7f36d4a269141c49b5763dc0a9627af": {
      "model_module": "@jupyter-widgets/controls",
      "model_module_version": "1.5.0",
      "model_name": "ButtonStyleModel",
      "state": {}
     },
     "f830f48df9c44323bd2c0e3d31163eda": {
      "model_module": "@jupyter-widgets/controls",
      "model_module_version": "1.5.0",
      "model_name": "DescriptionStyleModel",
      "state": {
       "description_width": ""
      }
     },
     "f842a99b78f8476c8e2c877af4019db8": {
      "model_module": "@jupyter-widgets/controls",
      "model_module_version": "1.5.0",
      "model_name": "IntProgressModel",
      "state": {
       "layout": "IPY_MODEL_2dea53a574b3410fb7fc246ba679008a",
       "style": "IPY_MODEL_e0aa23c045d54c3e8a8abea89d5c7838",
       "value": 30
      }
     },
     "f8a628c316ce44a3aea5b7dc6f2243c5": {
      "model_module": "@jupyter-widgets/base",
      "model_module_version": "1.2.0",
      "model_name": "LayoutModel",
      "state": {
       "order": "-1",
       "overflow": "visible",
       "padding": "1px",
       "width": "0px"
      }
     },
     "f8d779716b49470aaf84c4aff430599d": {
      "model_module": "@jupyter-widgets/controls",
      "model_module_version": "1.5.0",
      "model_name": "DescriptionStyleModel",
      "state": {
       "description_width": ""
      }
     },
     "f8d81600923d45739de257cbaac3fb06": {
      "model_module": "@jupyter-widgets/controls",
      "model_module_version": "1.5.0",
      "model_name": "DescriptionStyleModel",
      "state": {
       "description_width": ""
      }
     },
     "f8e955d7b7104666be2b1b713b146c9f": {
      "model_module": "@jupyter-widgets/base",
      "model_module_version": "1.2.0",
      "model_name": "LayoutModel",
      "state": {
       "order": "-1",
       "overflow": "visible",
       "padding": "1px",
       "width": "0px"
      }
     },
     "f93720bc5e3f4c4ba3459eba3d00611f": {
      "model_module": "@jupyter-widgets/controls",
      "model_module_version": "1.5.0",
      "model_name": "DescriptionStyleModel",
      "state": {
       "description_width": ""
      }
     },
     "f93c8ad07b93477f80cf97009139c354": {
      "model_module": "@jupyter-widgets/controls",
      "model_module_version": "1.5.0",
      "model_name": "ButtonModel",
      "state": {
       "layout": "IPY_MODEL_1171a21037c445c99c8bd98644148fa4",
       "style": "IPY_MODEL_309b723658524dfca8161c0df8a87bd4"
      }
     },
     "f9527fd8e2144d9fa1f50294f5112424": {
      "model_module": "@jupyter-widgets/controls",
      "model_module_version": "1.5.0",
      "model_name": "DescriptionStyleModel",
      "state": {
       "description_width": ""
      }
     },
     "f955e5f621eb4290834bde43933363c1": {
      "model_module": "@jupyter-widgets/controls",
      "model_module_version": "1.5.0",
      "model_name": "DescriptionStyleModel",
      "state": {
       "description_width": ""
      }
     },
     "f96d1f0159f542928908b10638a3bb02": {
      "model_module": "@jupyter-widgets/controls",
      "model_module_version": "1.5.0",
      "model_name": "VBoxModel",
      "state": {
       "children": [
        "IPY_MODEL_4006dae2b36246be87c17422ea39e6de",
        "IPY_MODEL_a1d03ced0b1e4f78a57f7f8c43fe339f",
        "IPY_MODEL_ad72602b23554bc9a64c19344b9b33b5",
        "IPY_MODEL_20b5a4a6d0a0441a9b0d9ec89ca530be",
        "IPY_MODEL_03a1eaa998364bff909b76fcd48b39e6",
        "IPY_MODEL_14af562ab13447bc923350ce7315c3e6",
        "IPY_MODEL_1723eea9c44e41198c2ecdfd7c8fc389",
        "IPY_MODEL_6ea62a9356bb43e89fac2350f7981fcc",
        "IPY_MODEL_45aab347aea6462eb8277fecb7e78351",
        "IPY_MODEL_68eebe313cad48aebb1dd1bd67de39df",
        "IPY_MODEL_1c4b4331709b4441a438ac38daeb2719"
       ],
       "layout": "IPY_MODEL_81a71dbdb7764dd7b43a67a198f7b4c8"
      }
     },
     "f972d8aa0bcc47869ff0dfcd8ec6e244": {
      "model_module": "@jupyter-widgets/base",
      "model_module_version": "1.2.0",
      "model_name": "LayoutModel",
      "state": {
       "display": "none"
      }
     },
     "f989fdd790f94ba2ae9a46a97b498d9f": {
      "model_module": "@jupyter-widgets/base",
      "model_module_version": "1.2.0",
      "model_name": "LayoutModel",
      "state": {
       "height": "32px",
       "overflow": "visible",
       "width": "100%"
      }
     },
     "f99a02c914cf475787c4a4faf1e581a8": {
      "model_module": "@jupyter-widgets/controls",
      "model_module_version": "1.5.0",
      "model_name": "HBoxModel",
      "state": {
       "children": [
        "IPY_MODEL_c871cbeb802949c4b67a699468eb8c74",
        "IPY_MODEL_733242b87b3a46d1b0cee98322554c3f",
        "IPY_MODEL_7427e0a01e534a679c38449a9fc9db65",
        "IPY_MODEL_9b370c8e2d9849ab853da2b5df96375f"
       ],
       "layout": "IPY_MODEL_d84f55a53f3741088ff4cfb6c9da7b8d"
      }
     },
     "f99f72dca0d9430db635fb1e8d339688": {
      "model_module": "@jupyter-widgets/controls",
      "model_module_version": "1.5.0",
      "model_name": "BoxModel",
      "state": {
       "children": [
        "IPY_MODEL_5a9c6c12a76940ed8f39b1211edf8eb2",
        "IPY_MODEL_b9bbdadd18d94b60b55409a2923e3191",
        "IPY_MODEL_c17719d1011e4164ae8d8e992c1ddb69",
        "IPY_MODEL_87483c2b76a345b2bd715c76d032ea70",
        "IPY_MODEL_b5affd037fb8499f84144a6f77015143",
        "IPY_MODEL_2a24450aeca143688b53b9763bad2c43",
        "IPY_MODEL_2ce870a26b9345f19410b8c3ad06f2e7",
        "IPY_MODEL_c4cf7147165c485788a3f56547f01153",
        "IPY_MODEL_d56931c2afda4c1eb07225677b392f5e",
        "IPY_MODEL_d7ee672ecaaf45e6af45f7fc44560fad",
        "IPY_MODEL_1509754edf9c4164b116467f8eb8739b",
        "IPY_MODEL_d994941fdcb2434f8ef8baf965c66676",
        "IPY_MODEL_9ae7c10ecbe94a9bafdbd2d5d564a868",
        "IPY_MODEL_136c9da419cb49f88766d2b0c2e916d3",
        "IPY_MODEL_5371a794ed294c6a900b260f862c3d2b"
       ],
       "layout": "IPY_MODEL_7362b7df454545e6b5e068e96d2877f8"
      }
     },
     "f9d03df99e31496083ef763241f8a7d3": {
      "model_module": "@jupyter-widgets/base",
      "model_module_version": "1.2.0",
      "model_name": "LayoutModel",
      "state": {
       "border": "3px solid white",
       "display": "flex",
       "flex": "1 1 0%",
       "margin": "10px",
       "min_width": "400px",
       "overflow": "visible",
       "padding": "10px",
       "width": "auto"
      }
     },
     "f9f21fcbb8d24fb092edfb8091b55afe": {
      "model_module": "@jupyter-widgets/base",
      "model_module_version": "1.2.0",
      "model_name": "LayoutModel",
      "state": {
       "order": "-1",
       "overflow": "visible",
       "padding": "1px",
       "width": "0px"
      }
     },
     "f9ffc06955e542dfaf3e31bd4907f2af": {
      "model_module": "@jupyter-widgets/base",
      "model_module_version": "1.2.0",
      "model_name": "LayoutModel",
      "state": {
       "height": "32px",
       "order": "-2",
       "width": "32px"
      }
     },
     "fa0f51e1ead84dc781726ae2607fdd09": {
      "model_module": "@jupyter-widgets/controls",
      "model_module_version": "1.5.0",
      "model_name": "ButtonModel",
      "state": {
       "button_style": "success",
       "disabled": true,
       "layout": "IPY_MODEL_2beb066733514ca0bc1457193cfcaf15",
       "style": "IPY_MODEL_0fac06c247da40c286f60c1b359d7989"
      }
     },
     "fa2b12ddbcc448729d24c10672f06982": {
      "model_module": "@jupyter-widgets/base",
      "model_module_version": "1.2.0",
      "model_name": "LayoutModel",
      "state": {
       "display": "none",
       "width": "60px"
      }
     },
     "fa3489544f3849edbbd33cbc55b0d5ae": {
      "model_module": "@jupyter-widgets/base",
      "model_module_version": "1.2.0",
      "model_name": "LayoutModel",
      "state": {
       "order": "-1",
       "overflow": "visible",
       "padding": "1px",
       "width": "0px"
      }
     },
     "fac04de134fe4b47b73a98599be3d185": {
      "model_module": "@jupyter-widgets/controls",
      "model_module_version": "1.5.0",
      "model_name": "LabelModel",
      "state": {
       "layout": "IPY_MODEL_ff109c5b3aac42cc92e9f442a12057a9",
       "style": "IPY_MODEL_d56fc2cb42c94eebbee3ef281cff5d78",
       "value": "   objective"
      }
     },
     "fad4e5c94ed34ff8a2166ec650a4ff9f": {
      "model_module": "@jupyter-widgets/base",
      "model_module_version": "1.2.0",
      "model_name": "LayoutModel",
      "state": {
       "order": "-1",
       "overflow": "visible",
       "padding": "1px",
       "width": "0px"
      }
     },
     "fad56ae262c54749b71c0b305ddc25a2": {
      "model_module": "@jupyter-widgets/controls",
      "model_module_version": "1.5.0",
      "model_name": "ButtonStyleModel",
      "state": {}
     },
     "fb59f4680aa94522bd900bd3bdc7fa04": {
      "model_module": "@jupyter-widgets/controls",
      "model_module_version": "1.5.0",
      "model_name": "DescriptionStyleModel",
      "state": {
       "description_width": ""
      }
     },
     "fb6098528c9e4af9b2671f1cf5ab2d46": {
      "model_module": "@jupyter-widgets/controls",
      "model_module_version": "1.5.0",
      "model_name": "ButtonModel",
      "state": {
       "description": "EDIT",
       "layout": "IPY_MODEL_a3885ca7e8e247578bec5ca0a72b3f4b",
       "style": "IPY_MODEL_947587fdf4e140939bd4e85d1d74aa3b"
      }
     },
     "fb71d4dcdb874e41aef17f7c3f7e4cfb": {
      "model_module": "@jupyter-widgets/controls",
      "model_module_version": "1.5.0",
      "model_name": "HBoxModel",
      "state": {
       "children": [
        "IPY_MODEL_ff939c01f1cc42369d321da9edf9bd5e",
        "IPY_MODEL_ddf7309d3e2f4a54b54d180da959a69c",
        "IPY_MODEL_c871719313db452198aa39a19f339564",
        "IPY_MODEL_43a1e6bdee094a479bdd0ffc574fd7f3"
       ],
       "layout": "IPY_MODEL_e1d592cd2db4472faebb3393211f39b0"
      }
     },
     "fb8f6d3aaf3249738a195403b03e83cd": {
      "model_module": "@jupyter-widgets/controls",
      "model_module_version": "1.5.0",
      "model_name": "DescriptionStyleModel",
      "state": {
       "description_width": ""
      }
     },
     "fba6ced4293c4b2399eb1a2277a961ae": {
      "model_module": "@jupyter-widgets/controls",
      "model_module_version": "1.5.0",
      "model_name": "IntProgressModel",
      "state": {
       "layout": "IPY_MODEL_790b861335684833a8be45a308bfcb92",
       "style": "IPY_MODEL_32acd89b7f6d48bc9b7e3450aa172784",
       "value": 30
      }
     },
     "fbd73186b605421d9330cfb3c450b426": {
      "model_module": "@jupyter-widgets/controls",
      "model_module_version": "1.5.0",
      "model_name": "LabelModel",
      "state": {
       "layout": "IPY_MODEL_ce91eb68e2d946a8b20fc6d84e0a0757",
       "style": "IPY_MODEL_84c49439cd5c4616af83459d8eccffea",
       "value": "   objective"
      }
     },
     "fc565e1a54fe4a1db23186534ad99e3f": {
      "model_module": "@jupyter-widgets/base",
      "model_module_version": "1.2.0",
      "model_name": "LayoutModel",
      "state": {
       "height": "32px",
       "overflow": "visible",
       "width": "100%"
      }
     },
     "fc6c2ceecc9f44d3a0a98b67e49bfaeb": {
      "model_module": "@jupyter-widgets/controls",
      "model_module_version": "1.5.0",
      "model_name": "ButtonStyleModel",
      "state": {}
     },
     "fc7b9216faca49c097fdf01c3bfab993": {
      "model_module": "@jupyter-widgets/controls",
      "model_module_version": "1.5.0",
      "model_name": "DescriptionStyleModel",
      "state": {
       "description_width": ""
      }
     },
     "fc87dde4cfa745b1ba3be37087f28e51": {
      "model_module": "@jupyter-widgets/controls",
      "model_module_version": "1.5.0",
      "model_name": "HBoxModel",
      "state": {
       "children": [
        "IPY_MODEL_c1add534b5344cb29967c1130650bd3d",
        "IPY_MODEL_4164f31d417b45e2a5c2a4316e8d76d9",
        "IPY_MODEL_775933f16f7c4696a655e393ff5574f2",
        "IPY_MODEL_35d52ce24fce405e86112f933c120136"
       ],
       "layout": "IPY_MODEL_6b697eaf846d474686ebbd044328ae45"
      }
     },
     "fc931e90ddd9459da55a0958b33951fb": {
      "model_module": "@jupyter-widgets/base",
      "model_module_version": "1.2.0",
      "model_name": "LayoutModel",
      "state": {
       "height": "32px",
       "overflow": "visible",
       "width": "100%"
      }
     },
     "fc948cab6053433a9bd7bd4ae00b4490": {
      "model_module": "@jupyter-widgets/controls",
      "model_module_version": "1.5.0",
      "model_name": "ButtonModel",
      "state": {
       "description": "EDIT",
       "layout": "IPY_MODEL_40960ff377174ad794c7a3fc5533340a",
       "style": "IPY_MODEL_d847fb9a661349979137f38239417b90"
      }
     },
     "fcadf70e61e8418eb30642a0e8d94620": {
      "model_module": "@jupyter-widgets/controls",
      "model_module_version": "1.5.0",
      "model_name": "ProgressStyleModel",
      "state": {
       "description_width": ""
      }
     },
     "fcbfa52b2b0b479e96662cb0aacefd40": {
      "model_module": "@jupyter-widgets/base",
      "model_module_version": "1.2.0",
      "model_name": "LayoutModel",
      "state": {
       "height": "32px",
       "overflow": "visible",
       "width": "100%"
      }
     },
     "fce04a09d6414e56a85a83b02ddd0d67": {
      "model_module": "@jupyter-widgets/controls",
      "model_module_version": "1.5.0",
      "model_name": "HBoxModel",
      "state": {
       "children": [
        "IPY_MODEL_8764886775c54c369fcad300c4c1e3c7",
        "IPY_MODEL_0e0c343ed9bc4e0183994fce64ee3b89",
        "IPY_MODEL_1b5261490c964fd99ac0cfe189492102",
        "IPY_MODEL_70b7f3ef26834dffa18e5ec705e7ae2e"
       ],
       "layout": "IPY_MODEL_4087309f950147cf8ec9203fd66ce07f"
      }
     },
     "fcec40ed80df4c3e969127d1b73738eb": {
      "model_module": "@jupyter-widgets/controls",
      "model_module_version": "1.5.0",
      "model_name": "ProgressStyleModel",
      "state": {
       "description_width": ""
      }
     },
     "fceff227bbd745e1bfaebbca319addea": {
      "model_module": "@jupyter-widgets/controls",
      "model_module_version": "1.5.0",
      "model_name": "DescriptionStyleModel",
      "state": {
       "description_width": ""
      }
     },
     "fd08f470938f4626b8861c8dbfefc0ea": {
      "model_module": "@jupyter-widgets/controls",
      "model_module_version": "1.5.0",
      "model_name": "ButtonModel",
      "state": {
       "description": "EDIT",
       "layout": "IPY_MODEL_418a25fde6eb4a4384c629af4ab34c09",
       "style": "IPY_MODEL_2f47f2742c564cc99c80f1c8126e5331"
      }
     },
     "fd35ae4a6e064a19be673708de78fc7e": {
      "model_module": "@jupyter-widgets/controls",
      "model_module_version": "1.5.0",
      "model_name": "HTMLModel",
      "state": {
       "layout": "IPY_MODEL_784c32ec5d1a4fde9a70eeb7551a7303",
       "style": "IPY_MODEL_ad21e750aa004be29d461bfe2906c8d1",
       "value": "<b>Class Options</b>"
      }
     },
     "fd4ef61d0e5c4b8e8dde132468eca092": {
      "model_module": "@jupyter-widgets/controls",
      "model_module_version": "1.5.0",
      "model_name": "LabelModel",
      "state": {
       "layout": "IPY_MODEL_a9c95ab095924f7bb19ca3ea08aeca35",
       "style": "IPY_MODEL_7f66ff05b5ee4d4c83a84005b4c3046a",
       "value": "   objective"
      }
     },
     "fd64abb774e5492f9c963fb40915399e": {
      "model_module": "@jupyter-widgets/controls",
      "model_module_version": "1.5.0",
      "model_name": "DescriptionStyleModel",
      "state": {
       "description_width": ""
      }
     },
     "fd65899896304ff68dea6b3b7c745130": {
      "model_module": "@jupyter-widgets/base",
      "model_module_version": "1.2.0",
      "model_name": "LayoutModel",
      "state": {
       "order": "-1",
       "overflow": "visible",
       "padding": "1px",
       "width": "0px"
      }
     },
     "fdc9c3ced154471baf4298b4054a151b": {
      "model_module": "@jupyter-widgets/controls",
      "model_module_version": "1.5.0",
      "model_name": "ButtonStyleModel",
      "state": {}
     },
     "fdd4fd1d52de428c9e6f585b4b61b83e": {
      "model_module": "@jupyter-widgets/base",
      "model_module_version": "1.2.0",
      "model_name": "LayoutModel",
      "state": {
       "display": "none",
       "width": "95%"
      }
     },
     "fe07d997d3074c1d8622fa35696f8223": {
      "model_module": "@jupyter-widgets/base",
      "model_module_version": "1.2.0",
      "model_name": "LayoutModel",
      "state": {
       "height": "32px",
       "order": "-2",
       "width": "32px"
      }
     },
     "fe297bb2b36848adab74f17c106cbe9e": {
      "model_module": "@jupyter-widgets/controls",
      "model_module_version": "1.5.0",
      "model_name": "LabelModel",
      "state": {
       "layout": "IPY_MODEL_a3b632b5ee8d4a4d977f4f911df05346",
       "style": "IPY_MODEL_e74b58f6a84242da8fd4352f15bffd0c",
       "value": "   objective"
      }
     },
     "fe3cf061061f49bd8c4f0a9634e1eb2a": {
      "model_module": "@jupyter-widgets/base",
      "model_module_version": "1.2.0",
      "model_name": "LayoutModel",
      "state": {
       "height": "32px",
       "overflow": "visible",
       "width": "100%"
      }
     },
     "fe60a8d14b31432f95011fcd0dacbf93": {
      "model_module": "@jupyter-widgets/controls",
      "model_module_version": "1.5.0",
      "model_name": "ButtonModel",
      "state": {
       "description": "Refresh",
       "layout": "IPY_MODEL_73ea0c281f2246aba709fcdd1220e40c",
       "style": "IPY_MODEL_abe65de79d4949179b6307d94ff1041c"
      }
     },
     "fe63a585f28646b8b7aa5c822cfdf307": {
      "model_module": "@jupyter-widgets/controls",
      "model_module_version": "1.5.0",
      "model_name": "ProgressStyleModel",
      "state": {
       "description_width": ""
      }
     },
     "fe97007e47524c8fae01464e2d9751e4": {
      "model_module": "@jupyter-widgets/base",
      "model_module_version": "1.2.0",
      "model_name": "LayoutModel",
      "state": {
       "display": "none",
       "width": "60px"
      }
     },
     "fea19858bb4c4a67b7bbde5211fde559": {
      "model_module": "@jupyter-widgets/base",
      "model_module_version": "1.2.0",
      "model_name": "LayoutModel",
      "state": {
       "height": "32px",
       "overflow": "visible",
       "width": "100%"
      }
     },
     "ff109c5b3aac42cc92e9f442a12057a9": {
      "model_module": "@jupyter-widgets/base",
      "model_module_version": "1.2.0",
      "model_name": "LayoutModel",
      "state": {
       "order": "-1",
       "overflow": "visible",
       "padding": "1px",
       "width": "0px"
      }
     },
     "ff17d01d0de84289891ae3b10944f971": {
      "model_module": "@jupyter-widgets/base",
      "model_module_version": "1.2.0",
      "model_name": "LayoutModel",
      "state": {
       "display": "flex",
       "width": "60px"
      }
     },
     "ff3ba90b7b8c484a81a544663213e659": {
      "model_module": "@jupyter-widgets/base",
      "model_module_version": "1.2.0",
      "model_name": "LayoutModel",
      "state": {
       "display": "none"
      }
     },
     "ff498804d09d47baa7c97078d8a52ddf": {
      "model_module": "@jupyter-widgets/base",
      "model_module_version": "1.2.0",
      "model_name": "LayoutModel",
      "state": {
       "display": "none",
       "width": "60px"
      }
     },
     "ff85f116f1434a8281aa5a52bd5a3454": {
      "model_module": "@jupyter-widgets/controls",
      "model_module_version": "1.5.0",
      "model_name": "ButtonModel",
      "state": {
       "description": "EDIT",
       "layout": "IPY_MODEL_966d216736fc49bf8a7309f2b9a69195",
       "style": "IPY_MODEL_0bfa1903614843b69d412691df185b32"
      }
     },
     "ff939c01f1cc42369d321da9edf9bd5e": {
      "model_module": "@jupyter-widgets/controls",
      "model_module_version": "1.5.0",
      "model_name": "ButtonModel",
      "state": {
       "layout": "IPY_MODEL_564c0c5c26c145289465e5d3c0e012bd",
       "style": "IPY_MODEL_dfed911ca97b4175a781576a9d711993"
      }
     },
     "ff973bd978ca40908ca34a161021defa": {
      "model_module": "@jupyter-widgets/controls",
      "model_module_version": "1.5.0",
      "model_name": "HTMLModel",
      "state": {
       "layout": "IPY_MODEL_3d2700f61df44b77907979d98cfdedbb",
       "style": "IPY_MODEL_a598cc154fef467683d0e4bd93e86535",
       "value": "<i>Complete a Flashpoint on Io.</i>"
      }
     },
     "ffb67016c24347a0af883c0407de75b9": {
      "model_module": "@jupyter-widgets/controls",
      "model_module_version": "1.5.0",
      "model_name": "LabelModel",
      "state": {
       "layout": "IPY_MODEL_2ad345c63d244ad18ed74d470199b999",
       "style": "IPY_MODEL_c408f6481ec6443ab485f345cfb1ad00",
       "value": "Open a new window and go here: https://www.bungie.net/en/OAuth/Authorize?client_id=29004&response_type=code"
      }
     },
     "ffe1009da3ce41ccb015ed919eb23713": {
      "model_module": "@jupyter-widgets/base",
      "model_module_version": "1.2.0",
      "model_name": "LayoutModel",
      "state": {
       "height": "32px",
       "overflow": "visible",
       "width": "100%"
      }
     },
     "fff4a2bf2b15478da40d575d1579dece": {
      "model_module": "@jupyter-widgets/controls",
      "model_module_version": "1.5.0",
      "model_name": "ButtonModel",
      "state": {
       "description": "EDIT",
       "layout": "IPY_MODEL_5501a1ae4fe84a1fba6f98593d804bcd",
       "style": "IPY_MODEL_a2ae4c418e044155a88ed3839af9803f"
      }
     }
    },
    "version_major": 2,
    "version_minor": 0
   }
  }
 },
 "nbformat": 4,
 "nbformat_minor": 4
}
