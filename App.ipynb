{
 "cells": [
  {
   "cell_type": "code",
   "execution_count": 1,
   "metadata": {},
   "outputs": [
    {
     "data": {
      "application/vnd.jupyter.widget-view+json": {
       "model_id": "967434a3bd684b3e9cf7ea30768952e8",
       "version_major": 2,
       "version_minor": 0
      },
      "text/plain": [
       "Output()"
      ]
     },
     "metadata": {},
     "output_type": "display_data"
    }
   ],
   "source": [
    "import ipywidgets as ipw\n",
    "output2 = ipw.Output()\n",
    "display(output2)\n",
    "\n",
    "#TODO: getting to last path filter, hids all of them?\n",
    "#TODO: Add descriptions to Lore describe how to find it\n",
    "#TODO: Add sort capabillity?\n",
    "#TODO: ADD edit requirements panel\n",
    "#TODO: make the triumphs scroll, but no the side panels\n",
    "#TODO: When changing the path filters back to all, it required button refresh\n",
    "#TODO: change the refresh to repull data, move to the bottom? Rename (Refresh Progress)? show a loading bar"
   ]
  },
  {
   "cell_type": "code",
   "execution_count": 3,
   "metadata": {},
   "outputs": [
    {
     "data": {
      "application/vnd.jupyter.widget-view+json": {
       "model_id": "4f9ff12366c34ea6bf16a00894f0aba5",
       "version_major": 2,
       "version_minor": 0
      },
      "text/plain": [
       "Output()"
      ]
     },
     "metadata": {},
     "output_type": "display_data"
    }
   ],
   "source": [
    "%run initialize.ipynb"
   ]
  },
  {
   "cell_type": "code",
   "execution_count": 4,
   "metadata": {},
   "outputs": [],
   "source": [
    "def toggle_edit_mode(c):\n",
    "    if checkbox_edit.value:\n",
    "        edit.panel.layout.display = 'flex'\n",
    "        loadout.panel.layout.display = 'none'\n",
    "    else:\n",
    "        edit.panel.layout.display = 'none'\n",
    "        loadout.panel.layout.display = 'flex'\n",
    "\n",
    "checkbox_edit = ipw.Checkbox(\n",
    "    description = 'Edit Mode'\n",
    ")\n",
    "\n",
    "checkbox_edit.observe(toggle_edit_mode)\n",
    "\n",
    "with output2: display(checkbox_edit)"
   ]
  },
  {
   "cell_type": "code",
   "execution_count": null,
   "metadata": {},
   "outputs": [],
   "source": []
  }
 ],
 "metadata": {
  "kernelspec": {
   "display_name": "Python 3",
   "language": "python",
   "name": "python3"
  },
  "language_info": {
   "codemirror_mode": {
    "name": "ipython",
    "version": 3
   },
   "file_extension": ".py",
   "mimetype": "text/x-python",
   "name": "python",
   "nbconvert_exporter": "python",
   "pygments_lexer": "ipython3",
   "version": "3.7.4"
  },
  "widgets": {
   "application/vnd.jupyter.widget-state+json": {
    "state": {
     "004ccc2d6c844eb68a0319ac0603aef6": {
      "model_module": "@jupyter-widgets/controls",
      "model_module_version": "1.5.0",
      "model_name": "LabelModel",
      "state": {
       "layout": "IPY_MODEL_7375a6da29ed453ea7d82532366ece8a",
       "style": "IPY_MODEL_08b8d8e3c01d48e689089a08bb1ce9c3",
       "value": "   objective"
      }
     },
     "00510ce857f84a35bd0b76205577e9c7": {
      "model_module": "@jupyter-widgets/controls",
      "model_module_version": "1.5.0",
      "model_name": "ProgressStyleModel",
      "state": {
       "description_width": ""
      }
     },
     "0071edfd96af4349ba3157ce1bd33bed": {
      "model_module": "@jupyter-widgets/controls",
      "model_module_version": "1.5.0",
      "model_name": "ButtonStyleModel",
      "state": {}
     },
     "00ab43f1823a40a3a9fde16f7b1e95cb": {
      "model_module": "@jupyter-widgets/base",
      "model_module_version": "1.2.0",
      "model_name": "LayoutModel",
      "state": {
       "overflow": "visible",
       "width": "100%"
      }
     },
     "01018de1c7974a338ac30bd0d5f83d5a": {
      "model_module": "@jupyter-widgets/controls",
      "model_module_version": "1.5.0",
      "model_name": "ButtonModel",
      "state": {
       "description": "EDIT",
       "layout": "IPY_MODEL_025b8e004a9243b8b6c831d8bc65778e",
       "style": "IPY_MODEL_7b6b347e3efd459ca1223f4c25ebe8bf"
      }
     },
     "01102a15973d472cabcfae70e541476a": {
      "model_module": "@jupyter-widgets/controls",
      "model_module_version": "1.5.0",
      "model_name": "LabelModel",
      "state": {
       "layout": "IPY_MODEL_c85e918bef094591818e81f59923e988",
       "style": "IPY_MODEL_b14c48a277a04f2aa45d86da048217ff",
       "value": "Power Weapon:"
      }
     },
     "01137cf610f44afc9365b3bd35efa2f3": {
      "model_module": "@jupyter-widgets/controls",
      "model_module_version": "1.5.0",
      "model_name": "ButtonStyleModel",
      "state": {}
     },
     "017e760396494bac9597d7417db8c230": {
      "model_module": "@jupyter-widgets/base",
      "model_module_version": "1.2.0",
      "model_name": "LayoutModel",
      "state": {
       "height": "32px",
       "order": "-2",
       "width": "32px"
      }
     },
     "019dd9ea33f44266a3494e9029c23efe": {
      "model_module": "@jupyter-widgets/base",
      "model_module_version": "1.2.0",
      "model_name": "LayoutModel",
      "state": {
       "display": "none"
      }
     },
     "01ae7e6071ab427d91ee5de929c0cdd5": {
      "model_module": "@jupyter-widgets/controls",
      "model_module_version": "1.5.0",
      "model_name": "DropdownModel",
      "state": {
       "_options_labels": [
        "Any",
        "Hand Cannon",
        "Auto Rifle",
        "Scout Rifle",
        "Pulse Rifle",
        "Sidearm",
        "Submachine Gun",
        "Combt Bow",
        "Sniper Rifle",
        "Shotgun",
        "Fusion Rifle",
        "Grenade Launcher",
        "Machine Gun",
        "Sword",
        "Grenade Launcher",
        "Rocket Launcher",
        "Linear Fusion Rifle"
       ],
       "index": 0,
       "layout": "IPY_MODEL_8cc9e95fc27a4d419a863e3cc4a81363",
       "style": "IPY_MODEL_bb7a177f2a694b4abd027f7995e99ec4"
      }
     },
     "01c2cac7683140ddbe7a8e09bd653b8a": {
      "model_module": "@jupyter-widgets/base",
      "model_module_version": "1.2.0",
      "model_name": "LayoutModel",
      "state": {
       "display": "flex",
       "flex_flow": "row wrap"
      }
     },
     "02243d5f452143e5b8a1a3640e5a85d9": {
      "model_module": "@jupyter-widgets/base",
      "model_module_version": "1.2.0",
      "model_name": "LayoutModel",
      "state": {
       "display": "none",
       "width": "95%"
      }
     },
     "023c23947ed7400294ae3046609e3de4": {
      "model_module": "@jupyter-widgets/base",
      "model_module_version": "1.2.0",
      "model_name": "LayoutModel",
      "state": {
       "order": "-1",
       "overflow": "visible",
       "padding": "1px",
       "width": "0px"
      }
     },
     "0252899be1a047298e562dd56c34e8f5": {
      "model_module": "@jupyter-widgets/controls",
      "model_module_version": "1.5.0",
      "model_name": "ButtonStyleModel",
      "state": {}
     },
     "02577d0d2a1a48889340994b5afe1649": {
      "model_module": "@jupyter-widgets/base",
      "model_module_version": "1.2.0",
      "model_name": "LayoutModel",
      "state": {
       "overflow": "visible",
       "width": "100%"
      }
     },
     "025a071b183f425fb2f917ed66661225": {
      "model_module": "@jupyter-widgets/controls",
      "model_module_version": "1.5.0",
      "model_name": "IntProgressModel",
      "state": {
       "layout": "IPY_MODEL_b0ea74d3f775448aaafea48a335129e8",
       "style": "IPY_MODEL_99512f6fde6e4ea2992555bdde2ae6e5",
       "value": 30
      }
     },
     "025b8e004a9243b8b6c831d8bc65778e": {
      "model_module": "@jupyter-widgets/base",
      "model_module_version": "1.2.0",
      "model_name": "LayoutModel",
      "state": {
       "display": "none",
       "width": "60px"
      }
     },
     "02636c615d104f2685fe7587913398a1": {
      "model_module": "@jupyter-widgets/controls",
      "model_module_version": "1.5.0",
      "model_name": "DescriptionStyleModel",
      "state": {
       "description_width": ""
      }
     },
     "0279d91da6324a6ea402294a7d87e30e": {
      "model_module": "@jupyter-widgets/base",
      "model_module_version": "1.2.0",
      "model_name": "LayoutModel",
      "state": {
       "display": "none",
       "width": "60px"
      }
     },
     "027be87488dd44e6950d0e44dcb13889": {
      "model_module": "@jupyter-widgets/controls",
      "model_module_version": "1.5.0",
      "model_name": "DescriptionStyleModel",
      "state": {
       "description_width": ""
      }
     },
     "029fe55345b549e1829483080398831b": {
      "model_module": "@jupyter-widgets/controls",
      "model_module_version": "1.5.0",
      "model_name": "HBoxModel",
      "state": {
       "children": [
        "IPY_MODEL_9db6281fe6724151bf17fa01ce7eafa7",
        "IPY_MODEL_63ab119353054497b30b4e0eb7b31e11",
        "IPY_MODEL_7d07e37dcc0b4547ad680d2b42d8d7ab",
        "IPY_MODEL_c06e7d318c6f437bad57c94b5db7734e"
       ],
       "layout": "IPY_MODEL_7752953090564ae8977abde26e9d6662"
      }
     },
     "02b35a6121634aec961a571387d13dd4": {
      "model_module": "@jupyter-widgets/base",
      "model_module_version": "1.2.0",
      "model_name": "LayoutModel",
      "state": {
       "display": "none",
       "width": "60px"
      }
     },
     "02cb754e3e004651ab6c53e762d1128d": {
      "model_module": "@jupyter-widgets/controls",
      "model_module_version": "1.5.0",
      "model_name": "ButtonModel",
      "state": {
       "layout": "IPY_MODEL_0db086f39fad4687b8c5e75eabf69d5c",
       "style": "IPY_MODEL_8488e46b096d4dee9ba751efe131318a"
      }
     },
     "02ea2e11762142bbbeceb4150a7f2801": {
      "model_module": "@jupyter-widgets/controls",
      "model_module_version": "1.5.0",
      "model_name": "VBoxModel",
      "state": {
       "children": [
        "IPY_MODEL_373a207455f54af992d3abcf7259318f",
        "IPY_MODEL_834c9d5f7c314d95806f3e1670b08c96",
        "IPY_MODEL_3ea71995235c41b4bb6d645f54f32a54",
        "IPY_MODEL_1033952e798e43afa406c12349697f16"
       ],
       "layout": "IPY_MODEL_1d1106fbdae949aa942a8511ee898bf5"
      }
     },
     "030c90a52a784c97b9325006c652bb72": {
      "model_module": "@jupyter-widgets/base",
      "model_module_version": "1.2.0",
      "model_name": "LayoutModel",
      "state": {
       "overflow": "visible",
       "width": "100%"
      }
     },
     "031e8fe8f542432fb831dd98564646e5": {
      "model_module": "@jupyter-widgets/base",
      "model_module_version": "1.2.0",
      "model_name": "LayoutModel",
      "state": {}
     },
     "0327a4b17d4f4dc4b62c9caee54f11c6": {
      "model_module": "@jupyter-widgets/controls",
      "model_module_version": "1.5.0",
      "model_name": "ButtonStyleModel",
      "state": {}
     },
     "033ac688cf40425795c79789cdd70391": {
      "model_module": "@jupyter-widgets/controls",
      "model_module_version": "1.5.0",
      "model_name": "ButtonModel",
      "state": {
       "description": "EDIT",
       "layout": "IPY_MODEL_0f3b1201cf1d4262932adc66d6e9e4ec",
       "style": "IPY_MODEL_d641ef3185c7425695f66d664472eb5a"
      }
     },
     "034f811f39fa4ee2b74fdf652c679caa": {
      "model_module": "@jupyter-widgets/base",
      "model_module_version": "1.2.0",
      "model_name": "LayoutModel",
      "state": {
       "display": "flex",
       "flex_flow": "row wrap"
      }
     },
     "0351f36be2cc4a6ba81b8742d0d4af12": {
      "model_module": "@jupyter-widgets/base",
      "model_module_version": "1.2.0",
      "model_name": "LayoutModel",
      "state": {
       "width": "100%"
      }
     },
     "03ad57088f124601ab3226c76ef7aebf": {
      "model_module": "@jupyter-widgets/controls",
      "model_module_version": "1.5.0",
      "model_name": "LabelModel",
      "state": {
       "layout": "IPY_MODEL_7739e16e97424ee5a65f9e630b9f3719",
       "style": "IPY_MODEL_408abe4a7da94452a24b07d9961b629b",
       "value": "   objective"
      }
     },
     "03c15e5826f741ebb6db837e4e21b268": {
      "model_module": "@jupyter-widgets/controls",
      "model_module_version": "1.5.0",
      "model_name": "ProgressStyleModel",
      "state": {
       "description_width": ""
      }
     },
     "03c9e4499e324ccd852f3d59cb765e9d": {
      "model_module": "@jupyter-widgets/base",
      "model_module_version": "1.2.0",
      "model_name": "LayoutModel",
      "state": {
       "height": "32px",
       "overflow": "visible",
       "width": "100%"
      }
     },
     "03fa4d2ec7ad46db854aff58bb5459e5": {
      "model_module": "@jupyter-widgets/base",
      "model_module_version": "1.2.0",
      "model_name": "LayoutModel",
      "state": {
       "order": "-1",
       "overflow": "visible",
       "padding": "1px",
       "width": "0px"
      }
     },
     "041d11e87fd94ce49b7f3715508ce895": {
      "model_module": "@jupyter-widgets/controls",
      "model_module_version": "1.5.0",
      "model_name": "ButtonModel",
      "state": {
       "layout": "IPY_MODEL_a5b610de0d6e45e79f74ab7e364bd626",
       "style": "IPY_MODEL_5281922c9bd24b079cfe01ce3ee1f461"
      }
     },
     "0424a47ec94e46a1bd12b8af4333e2bd": {
      "model_module": "@jupyter-widgets/controls",
      "model_module_version": "1.5.0",
      "model_name": "ProgressStyleModel",
      "state": {
       "description_width": ""
      }
     },
     "0471565b942f42f583c3cd4d8ab11e4d": {
      "model_module": "@jupyter-widgets/controls",
      "model_module_version": "1.5.0",
      "model_name": "LabelModel",
      "state": {
       "layout": "IPY_MODEL_7c831127bb1b42e5a731010d1a37086f",
       "style": "IPY_MODEL_a2812ec1904f49c090a18f17d3535719",
       "value": "   objective"
      }
     },
     "048fbccecd6149b2b946ebb84b657673": {
      "model_module": "@jupyter-widgets/controls",
      "model_module_version": "1.5.0",
      "model_name": "DescriptionStyleModel",
      "state": {
       "description_width": ""
      }
     },
     "0498202238fa4622ace1919b14455046": {
      "model_module": "@jupyter-widgets/base",
      "model_module_version": "1.2.0",
      "model_name": "LayoutModel",
      "state": {
       "display": "none",
       "width": "60px"
      }
     },
     "05002639175249bfa2cd326eca6537fa": {
      "model_module": "@jupyter-widgets/controls",
      "model_module_version": "1.5.0",
      "model_name": "LabelModel",
      "state": {
       "layout": "IPY_MODEL_b993b4594b1a4c4daba114757307b8f0",
       "style": "IPY_MODEL_3dc43ed68c434c3e837aa03729a30dfa",
       "value": "   objective"
      }
     },
     "0506b485ca3a491c9c67b81ab7c21d17": {
      "model_module": "@jupyter-widgets/controls",
      "model_module_version": "1.5.0",
      "model_name": "ProgressStyleModel",
      "state": {
       "description_width": ""
      }
     },
     "05457f284085456c8333f9d8d5a2e001": {
      "model_module": "@jupyter-widgets/controls",
      "model_module_version": "1.5.0",
      "model_name": "ButtonStyleModel",
      "state": {}
     },
     "05651c38b67c47b48205ac957194f361": {
      "model_module": "@jupyter-widgets/controls",
      "model_module_version": "1.5.0",
      "model_name": "TextModel",
      "state": {
       "description": "Gamertag:",
       "layout": "IPY_MODEL_33aac031552445a59335aa89a89bd388",
       "style": "IPY_MODEL_1ce29828a5f44e06a14856536b8c0728",
       "value": "skalligman"
      }
     },
     "057298eacabb444b812340f79b3d7828": {
      "model_module": "@jupyter-widgets/controls",
      "model_module_version": "1.5.0",
      "model_name": "ButtonModel",
      "state": {
       "description": "EDIT",
       "layout": "IPY_MODEL_5791fca5bbd549809f29321ad6f157d5",
       "style": "IPY_MODEL_1c7d7339d56c468bacbd7e9fe8b7768b"
      }
     },
     "057c85a694ae45cabf5677ed4c8faf7d": {
      "model_module": "@jupyter-widgets/controls",
      "model_module_version": "1.5.0",
      "model_name": "DescriptionStyleModel",
      "state": {
       "description_width": ""
      }
     },
     "05cd8f3e5b624074a1c69006dfbb44ad": {
      "model_module": "@jupyter-widgets/base",
      "model_module_version": "1.2.0",
      "model_name": "LayoutModel",
      "state": {}
     },
     "0619e622a5124deda5dfc461318ae836": {
      "model_module": "@jupyter-widgets/controls",
      "model_module_version": "1.5.0",
      "model_name": "LabelModel",
      "state": {
       "layout": "IPY_MODEL_e7b1b78201fc4e22a284d80b02e59e26",
       "style": "IPY_MODEL_0b2f66fa6a564d9d9fea21bd48f2c61f",
       "value": "    Invitations answered (0/1)"
      }
     },
     "0648b6e33cdf4d59b2f1ab1ec7922d78": {
      "model_module": "@jupyter-widgets/controls",
      "model_module_version": "1.5.0",
      "model_name": "DropdownModel",
      "state": {
       "_options_labels": [
        "Any"
       ],
       "index": 0,
       "layout": "IPY_MODEL_dfd5c6303e934458b6257be1b14f92ef",
       "style": "IPY_MODEL_7de4223d6ade483dbaf26d4dd56af0e8"
      }
     },
     "06de32224bd7431fb5093deee370ff15": {
      "model_module": "@jupyter-widgets/controls",
      "model_module_version": "1.5.0",
      "model_name": "LabelModel",
      "state": {
       "layout": "IPY_MODEL_58e3a0615989461390453e4484a6478d",
       "style": "IPY_MODEL_2d8b9e15300d4e4f90a519d40e56156d",
       "value": "     (0/1)"
      }
     },
     "06fd795379234cee921d3e0b37201f00": {
      "model_module": "@jupyter-widgets/controls",
      "model_module_version": "1.5.0",
      "model_name": "ButtonModel",
      "state": {
       "description": "EDIT",
       "layout": "IPY_MODEL_f3767a2caa314353ba148e5b950246c9",
       "style": "IPY_MODEL_5b35ca4be71641f59d17b3984be854cc"
      }
     },
     "07044537a3924fb5a16fbbbf32fbaee6": {
      "model_module": "@jupyter-widgets/controls",
      "model_module_version": "1.5.0",
      "model_name": "LabelModel",
      "state": {
       "layout": "IPY_MODEL_bc55c92d08c4497aabb276670625ecb7",
       "style": "IPY_MODEL_7624a26f174c4a3088c6805c7475efdb",
       "value": "   objective"
      }
     },
     "071bba51794b4600a4fc8bef5afa57c4": {
      "model_module": "@jupyter-widgets/controls",
      "model_module_version": "1.5.0",
      "model_name": "ButtonModel",
      "state": {
       "layout": "IPY_MODEL_570313f081be4731aab5e7573443fdc0",
       "style": "IPY_MODEL_cee2ca9494d843fd873c9aaf70c6e083"
      }
     },
     "07a1eb492eb345ef9eaea55358f3b6b9": {
      "model_module": "@jupyter-widgets/controls",
      "model_module_version": "1.5.0",
      "model_name": "ButtonModel",
      "state": {
       "description": "EDIT",
       "layout": "IPY_MODEL_aac6ee9c32da43018c20e480cbf83d8d",
       "style": "IPY_MODEL_eaba09a591834e9b8fc87363a6172ed4"
      }
     },
     "07ba22ffedd447eba2b1474c6ffde237": {
      "model_module": "@jupyter-widgets/base",
      "model_module_version": "1.2.0",
      "model_name": "LayoutModel",
      "state": {
       "display": "none",
       "width": "60px"
      }
     },
     "07eb735e47ef4124960a0819e53c716d": {
      "model_module": "@jupyter-widgets/base",
      "model_module_version": "1.2.0",
      "model_name": "LayoutModel",
      "state": {}
     },
     "07ed530755204f0c9c39cd5292934919": {
      "model_module": "@jupyter-widgets/base",
      "model_module_version": "1.2.0",
      "model_name": "LayoutModel",
      "state": {
       "display": "none",
       "width": "60px"
      }
     },
     "07f157f95beb42b5b369136823ca9a70": {
      "model_module": "@jupyter-widgets/controls",
      "model_module_version": "1.5.0",
      "model_name": "DescriptionStyleModel",
      "state": {
       "description_width": ""
      }
     },
     "08230782de7249c185633540ba3c058f": {
      "model_module": "@jupyter-widgets/controls",
      "model_module_version": "1.5.0",
      "model_name": "ButtonModel",
      "state": {
       "layout": "IPY_MODEL_1715e496350e499e943fb274ffbc379f",
       "style": "IPY_MODEL_95244e9581cf49eeb3b3b2901c46d94c"
      }
     },
     "08979f57869a4c3cb019967a037b83bb": {
      "model_module": "@jupyter-widgets/base",
      "model_module_version": "1.2.0",
      "model_name": "LayoutModel",
      "state": {}
     },
     "08a900b3faa9475eaef40b1b8100e553": {
      "model_module": "@jupyter-widgets/controls",
      "model_module_version": "1.5.0",
      "model_name": "IntProgressModel",
      "state": {
       "layout": "IPY_MODEL_6ff0ceb1286b4b7bb68c114ba2985d8f",
       "style": "IPY_MODEL_4b0d6e52d21a48438149b7bb7eca489e",
       "value": 30
      }
     },
     "08b8d8e3c01d48e689089a08bb1ce9c3": {
      "model_module": "@jupyter-widgets/controls",
      "model_module_version": "1.5.0",
      "model_name": "DescriptionStyleModel",
      "state": {
       "description_width": ""
      }
     },
     "08d12a47746148fc817ea430553b0fed": {
      "model_module": "@jupyter-widgets/base",
      "model_module_version": "1.2.0",
      "model_name": "LayoutModel",
      "state": {
       "border": "3px solid white",
       "display": "flex",
       "flex": "1 1 0%",
       "margin": "10px",
       "min_width": "400px",
       "overflow": "visible",
       "padding": "10px",
       "width": "auto"
      }
     },
     "08e1c60747a04ad4a069d9c78f2cdae6": {
      "model_module": "@jupyter-widgets/controls",
      "model_module_version": "1.5.0",
      "model_name": "LabelModel",
      "state": {
       "layout": "IPY_MODEL_d30b969069ec439b910ec638cfb25a9d",
       "style": "IPY_MODEL_d2d9a9cab75a494eba2776a3b9f81544",
       "value": "    Challenge completed (0/1)"
      }
     },
     "0902cccf723948218e00fb1c0e76f229": {
      "model_module": "@jupyter-widgets/controls",
      "model_module_version": "1.5.0",
      "model_name": "ProgressStyleModel",
      "state": {
       "description_width": ""
      }
     },
     "09048ef587994031961318da6873b029": {
      "model_module": "@jupyter-widgets/controls",
      "model_module_version": "1.5.0",
      "model_name": "HTMLModel",
      "state": {
       "layout": "IPY_MODEL_0ac3305096f7422ea6c80993a1d114c2",
       "style": "IPY_MODEL_6f1f21f38bd345d684f3beffe813655b",
       "value": "<i></i>"
      }
     },
     "095224f98ec24999a6ffbc033837300e": {
      "model_module": "@jupyter-widgets/controls",
      "model_module_version": "1.5.0",
      "model_name": "ButtonModel",
      "state": {
       "layout": "IPY_MODEL_355494209dfc4c04aece8a26d9211a7c",
       "style": "IPY_MODEL_466a847d0f06470bb5408229a1f3908a"
      }
     },
     "0954e84e6fad4820aa7b47d9f395cf1e": {
      "model_module": "@jupyter-widgets/controls",
      "model_module_version": "1.5.0",
      "model_name": "HBoxModel",
      "state": {
       "children": [
        "IPY_MODEL_4d80376f5fac4997957261cafd664288",
        "IPY_MODEL_bf12cc622eeb41d9bc96404bd9c8c642",
        "IPY_MODEL_7b0203155bf94fb8964e26d5e3f4fb2b",
        "IPY_MODEL_d7dc73f200f140b9983b8bf4c67e2a3b"
       ],
       "layout": "IPY_MODEL_91e7d670850043c1956660e50024998b"
      }
     },
     "09a3e0d8146d4e6e84ead9c49a9cdf9c": {
      "model_module": "@jupyter-widgets/controls",
      "model_module_version": "1.5.0",
      "model_name": "LabelModel",
      "state": {
       "layout": "IPY_MODEL_8a0f44cb5d584fcfaa7ee1ca95ea6200",
       "style": "IPY_MODEL_f0bc007f9d1244e99f58c26db1ee078b",
       "value": "    Grenade kills (289/1000)"
      }
     },
     "09e81e4abf3e4e128f47d03258ff82f9": {
      "model_module": "@jupyter-widgets/base",
      "model_module_version": "1.2.0",
      "model_name": "LayoutModel",
      "state": {
       "height": "32px",
       "overflow": "visible",
       "width": "100%"
      }
     },
     "09ee7139bcbb4ef181fe5e12a8f740b1": {
      "model_module": "@jupyter-widgets/controls",
      "model_module_version": "1.5.0",
      "model_name": "VBoxModel",
      "state": {
       "children": [
        "IPY_MODEL_7977eb3e9be14471a383c425e959d4ca",
        "IPY_MODEL_c8b05098616c47f8aa32ab09b7c717b7",
        "IPY_MODEL_ce15350e4b8b4618a177ece342d911eb",
        "IPY_MODEL_1b0ff70279fa40bc8f75dfe6916af103"
       ],
       "layout": "IPY_MODEL_1c76a27dab53416a8fd5d8bac603a7ab"
      }
     },
     "0a0da948f2e94566adc2ddfb928f74d0": {
      "model_module": "@jupyter-widgets/base",
      "model_module_version": "1.2.0",
      "model_name": "LayoutModel",
      "state": {
       "order": "-1",
       "overflow": "visible",
       "padding": "1px",
       "width": "0px"
      }
     },
     "0a95e6ecfa01453ab18cbdbe999144ec": {
      "model_module": "@jupyter-widgets/controls",
      "model_module_version": "1.5.0",
      "model_name": "IntProgressModel",
      "state": {
       "layout": "IPY_MODEL_ec5666d767b14068bad7322962258e10",
       "style": "IPY_MODEL_73d17fd09e6c4eb695b61164800d6c1c",
       "value": 30
      }
     },
     "0ac3305096f7422ea6c80993a1d114c2": {
      "model_module": "@jupyter-widgets/base",
      "model_module_version": "1.2.0",
      "model_name": "LayoutModel",
      "state": {
       "display": "flex",
       "flex_flow": "row wrap"
      }
     },
     "0b1ff4d3f30b45a6932f94e017581030": {
      "model_module": "@jupyter-widgets/base",
      "model_module_version": "1.2.0",
      "model_name": "LayoutModel",
      "state": {
       "height": "32px",
       "order": "-2",
       "width": "32px"
      }
     },
     "0b2f66fa6a564d9d9fea21bd48f2c61f": {
      "model_module": "@jupyter-widgets/controls",
      "model_module_version": "1.5.0",
      "model_name": "DescriptionStyleModel",
      "state": {
       "description_width": ""
      }
     },
     "0b67040ab86145809dd3c1f3f77772fb": {
      "model_module": "@jupyter-widgets/controls",
      "model_module_version": "1.5.0",
      "model_name": "HBoxModel",
      "state": {
       "children": [
        "IPY_MODEL_849f2aec4bd64a2ba4c8adcf4aaded3d",
        "IPY_MODEL_c7b944f940d34190b0406144c1b7868b",
        "IPY_MODEL_222d2caa6b06498f86900ce4c8fc659f",
        "IPY_MODEL_3b3fa9ed467d48bbbcc56653de1fbd2b"
       ],
       "layout": "IPY_MODEL_ce5bc466fe5444a3b90ad9b041c32299"
      }
     },
     "0b6a7be2281b4ef98e7e61ae97d442f9": {
      "model_module": "@jupyter-widgets/controls",
      "model_module_version": "1.5.0",
      "model_name": "ButtonModel",
      "state": {
       "description": "EDIT",
       "layout": "IPY_MODEL_7888e9dfd1614e15a4d3b291da8b6c3c",
       "style": "IPY_MODEL_93317fcedf2549d4af24b3228a4261c7"
      }
     },
     "0b75237724404bb096e5a0938f4a2504": {
      "model_module": "@jupyter-widgets/controls",
      "model_module_version": "1.5.0",
      "model_name": "DescriptionStyleModel",
      "state": {
       "description_width": ""
      }
     },
     "0bd358a4b83848d6868c3e53e431fe05": {
      "model_module": "@jupyter-widgets/base",
      "model_module_version": "1.2.0",
      "model_name": "LayoutModel",
      "state": {
       "display": "none",
       "width": "60px"
      }
     },
     "0c07adc0fb734706b33abf6799f6a13e": {
      "model_module": "@jupyter-widgets/base",
      "model_module_version": "1.2.0",
      "model_name": "LayoutModel",
      "state": {
       "order": "-1",
       "overflow": "visible",
       "padding": "1px",
       "width": "0px"
      }
     },
     "0c289c5c05ac4713aef864fb4b817a87": {
      "model_module": "@jupyter-widgets/controls",
      "model_module_version": "1.5.0",
      "model_name": "ButtonStyleModel",
      "state": {}
     },
     "0c742bf4af454f9c80f1bd582e4a92a2": {
      "model_module": "@jupyter-widgets/controls",
      "model_module_version": "1.5.0",
      "model_name": "ButtonStyleModel",
      "state": {}
     },
     "0c7bf0f3349c48969c3c1003e093d99c": {
      "model_module": "@jupyter-widgets/base",
      "model_module_version": "1.2.0",
      "model_name": "LayoutModel",
      "state": {}
     },
     "0d2e1878934e42d5a5900ddef78edb70": {
      "model_module": "@jupyter-widgets/controls",
      "model_module_version": "1.5.0",
      "model_name": "ProgressStyleModel",
      "state": {
       "description_width": ""
      }
     },
     "0db086f39fad4687b8c5e75eabf69d5c": {
      "model_module": "@jupyter-widgets/base",
      "model_module_version": "1.2.0",
      "model_name": "LayoutModel",
      "state": {
       "height": "32px",
       "order": "-2",
       "width": "32px"
      }
     },
     "0dbd5f60a7df4e10898a93580e3875fb": {
      "model_module": "@jupyter-widgets/controls",
      "model_module_version": "1.5.0",
      "model_name": "BoxModel",
      "state": {
       "children": [
        "IPY_MODEL_09ee7139bcbb4ef181fe5e12a8f740b1",
        "IPY_MODEL_1408475beba442418ffdb84a5c96a75c",
        "IPY_MODEL_101bd1d4d0394a9b8e08accc59563ee9",
        "IPY_MODEL_f8ac8864e835461db7c62b5655baec84",
        "IPY_MODEL_91df9313dad0482b91b2f23a7ec9ac86",
        "IPY_MODEL_c3742002b9d74a368def726d73add85b",
        "IPY_MODEL_41507622ac2749e19f17128ca727cc81",
        "IPY_MODEL_02ea2e11762142bbbeceb4150a7f2801",
        "IPY_MODEL_5e0643122c5d41dbabaa593f739f3c49",
        "IPY_MODEL_6f7d1abaee05410cbb757f0c40712204",
        "IPY_MODEL_ce8185439e31480990c9ce726fa214cb",
        "IPY_MODEL_ba8188fe7db346539f7db42c43d389aa",
        "IPY_MODEL_db29f500f5d547489a546477f80610f8",
        "IPY_MODEL_2b8fd7a2275548b3b07cf9f31a72c05a",
        "IPY_MODEL_c4ecb50d737d4851b7c3502344258cce"
       ],
       "layout": "IPY_MODEL_93ee1132578f4cee83abf9647bc7d9cf"
      }
     },
     "0dc34a77a0a94de984b77823f2a7a893": {
      "model_module": "@jupyter-widgets/controls",
      "model_module_version": "1.5.0",
      "model_name": "HBoxModel",
      "state": {
       "children": [
        "IPY_MODEL_9c66a71b5cd3499eaf69ddaf2b0ae9e1",
        "IPY_MODEL_51ba6930802a42e6894d92b9a351a99c",
        "IPY_MODEL_b58df085a46b45b080c5cc27fd20f4b9",
        "IPY_MODEL_a9b2c068841d45afa1d34d20e73f7147"
       ],
       "layout": "IPY_MODEL_b20869cdc20842a7a2b0c9f87063b83c"
      }
     },
     "0dcc141612c8400d9c72f3facb1fe5f3": {
      "model_module": "@jupyter-widgets/controls",
      "model_module_version": "1.5.0",
      "model_name": "ButtonModel",
      "state": {
       "description": "EDIT",
       "layout": "IPY_MODEL_73f9c2b701fc4513adcd905cbffb28ff",
       "style": "IPY_MODEL_01137cf610f44afc9365b3bd35efa2f3"
      }
     },
     "0e496274fc014c3ea367c452f3ccdf3c": {
      "model_module": "@jupyter-widgets/controls",
      "model_module_version": "1.5.0",
      "model_name": "HBoxModel",
      "state": {
       "children": [
        "IPY_MODEL_35897bb0a19d46cdb01aa8722ab24e15",
        "IPY_MODEL_b55612f5a70c4d3b904085e35c4890a6",
        "IPY_MODEL_a51e6f22882c4fcdad01976ebbb18e6a",
        "IPY_MODEL_c79b8254404f412e85bd1516f8549a3c"
       ],
       "layout": "IPY_MODEL_27b9727a0fe04112b7c7074289d66786"
      }
     },
     "0e9bf56ef971430cac76377569d67ed1": {
      "model_module": "@jupyter-widgets/controls",
      "model_module_version": "1.5.0",
      "model_name": "HTMLModel",
      "state": {
       "layout": "IPY_MODEL_a1747728a3234cda81a6d9cc36244a77",
       "style": "IPY_MODEL_3dac9b29a3f042108c9b20b2524ac154",
       "value": "<font size=\"1\">Triumphs/Lore/Dusk and Dawn/Revelation/The Expedition</font size=>"
      }
     },
     "0ea45194720640cb820d7c378884cb77": {
      "model_module": "@jupyter-widgets/controls",
      "model_module_version": "1.5.0",
      "model_name": "DescriptionStyleModel",
      "state": {
       "description_width": ""
      }
     },
     "0eec337c135f4d6485d3ecc44c9bcb16": {
      "model_module": "@jupyter-widgets/controls",
      "model_module_version": "1.5.0",
      "model_name": "ProgressStyleModel",
      "state": {
       "description_width": ""
      }
     },
     "0ef8b653b5974d2b8ce581a9ecfa0f83": {
      "model_module": "@jupyter-widgets/base",
      "model_module_version": "1.2.0",
      "model_name": "LayoutModel",
      "state": {
       "height": "32px",
       "overflow": "visible",
       "width": "100%"
      }
     },
     "0f12151315bb48f6ae59e14aa8e8aa9c": {
      "model_module": "@jupyter-widgets/base",
      "model_module_version": "1.2.0",
      "model_name": "LayoutModel",
      "state": {
       "height": "32px",
       "overflow": "visible",
       "width": "100%"
      }
     },
     "0f3b1201cf1d4262932adc66d6e9e4ec": {
      "model_module": "@jupyter-widgets/base",
      "model_module_version": "1.2.0",
      "model_name": "LayoutModel",
      "state": {
       "display": "none",
       "width": "60px"
      }
     },
     "0f56ccd62d714dbca5fb09f34056c14c": {
      "model_module": "@jupyter-widgets/controls",
      "model_module_version": "1.5.0",
      "model_name": "HTMLModel",
      "state": {
       "layout": "IPY_MODEL_d47d83634f92436e81a9e5e782eaa0b6",
       "style": "IPY_MODEL_9262253bfb484fd899090aeb583eee0c",
       "value": "<font size=\"1\">Triumphs/Destinations/Minor/The Haul/IX</font size=>"
      }
     },
     "0f8a9bed75264567889f4ce985e4e5f2": {
      "model_module": "@jupyter-widgets/controls",
      "model_module_version": "1.5.0",
      "model_name": "HTMLModel",
      "state": {
       "layout": "IPY_MODEL_034f811f39fa4ee2b74fdf652c679caa",
       "style": "IPY_MODEL_87b0e27e83d64ec0a2d55bc937bb30fd",
       "value": "<i></i>"
      }
     },
     "0fdbef57282a4ded98f2484d875bc627": {
      "model_module": "@jupyter-widgets/base",
      "model_module_version": "1.2.0",
      "model_name": "LayoutModel",
      "state": {
       "display": "none",
       "width": "60px"
      }
     },
     "0fde7493819348ee91258a93a314adea": {
      "model_module": "@jupyter-widgets/controls",
      "model_module_version": "1.5.0",
      "model_name": "HBoxModel",
      "state": {
       "children": [
        "IPY_MODEL_720aa2d682334f08af1b991cf82b0519",
        "IPY_MODEL_39d00137ccc54b56a3a5b2e20def1da5",
        "IPY_MODEL_85cecd68d831432c93450093905cf921",
        "IPY_MODEL_b54ecc505ace4d44b5e4802ea2e76402"
       ],
       "layout": "IPY_MODEL_f2858aa9fc204389a0cd5d888e94786c"
      }
     },
     "101bd1d4d0394a9b8e08accc59563ee9": {
      "model_module": "@jupyter-widgets/controls",
      "model_module_version": "1.5.0",
      "model_name": "VBoxModel",
      "state": {
       "children": [
        "IPY_MODEL_728422b674984a74b7cdd284e8406d51",
        "IPY_MODEL_bb6c921398c7409d98407dd5fdd24912",
        "IPY_MODEL_b4e22cb2bc1a479f9fe3d41d41c91489",
        "IPY_MODEL_574f15eddbc449599e4147473454fbe5"
       ],
       "layout": "IPY_MODEL_dd62c55486484c8d926bdf9887c10ccb"
      }
     },
     "1033952e798e43afa406c12349697f16": {
      "model_module": "@jupyter-widgets/controls",
      "model_module_version": "1.5.0",
      "model_name": "VBoxModel",
      "state": {
       "children": [
        "IPY_MODEL_74c57f33ef1844fc9bf41331f992c0b4",
        "IPY_MODEL_ce20f4cf4a614ede9a957b4f4800378c",
        "IPY_MODEL_b61643472d404a1fb97bace2eb33bf61",
        "IPY_MODEL_251c524d0e9640b9b88245c524793de0",
        "IPY_MODEL_87c138d8f1704e5f94819c7395df9eff",
        "IPY_MODEL_78b69790fbd0456b9ad252f810e45562"
       ],
       "layout": "IPY_MODEL_ab9466fb6117480ea47f37a7140ec15d"
      }
     },
     "105c190fbb204789a9d72d556ea10536": {
      "model_module": "@jupyter-widgets/controls",
      "model_module_version": "1.5.0",
      "model_name": "DescriptionStyleModel",
      "state": {
       "description_width": ""
      }
     },
     "10b413a23f2242faaa90fe73d45e07d3": {
      "model_module": "@jupyter-widgets/controls",
      "model_module_version": "1.5.0",
      "model_name": "ButtonModel",
      "state": {
       "description": "EDIT",
       "layout": "IPY_MODEL_42c4b8e7ffa0439593cc5496936b21a9",
       "style": "IPY_MODEL_49b68475b75546369447a34a7b82797f"
      }
     },
     "10c07c2dbb2c4dd79589919a20c9aef8": {
      "model_module": "@jupyter-widgets/controls",
      "model_module_version": "1.5.0",
      "model_name": "HTMLModel",
      "state": {
       "layout": "IPY_MODEL_491a2c512c5d4240bfa8b5567b5dd989",
       "style": "IPY_MODEL_b7840ba934eb4beda111d96be8ab2360",
       "value": "<i>Earn Valor ranks in Season 6.</i>"
      }
     },
     "10c080657ae048b5bfb25984914422f5": {
      "model_module": "@jupyter-widgets/base",
      "model_module_version": "1.2.0",
      "model_name": "LayoutModel",
      "state": {
       "order": "-1",
       "overflow": "visible",
       "padding": "1px",
       "width": "0px"
      }
     },
     "10dd46415ee54f4aac13074758ec1943": {
      "model_module": "@jupyter-widgets/controls",
      "model_module_version": "1.5.0",
      "model_name": "ProgressStyleModel",
      "state": {
       "description_width": ""
      }
     },
     "10f1ce53c1d44401b2c6df2cfb2fec56": {
      "model_module": "@jupyter-widgets/base",
      "model_module_version": "1.2.0",
      "model_name": "LayoutModel",
      "state": {
       "height": "32px",
       "order": "-2",
       "width": "32px"
      }
     },
     "10f831c19cb34d5c911a3ad3db18dc58": {
      "model_module": "@jupyter-widgets/controls",
      "model_module_version": "1.5.0",
      "model_name": "HTMLModel",
      "state": {
       "layout": "IPY_MODEL_46a6ce4440da4349afa86c263eb9b033",
       "style": "IPY_MODEL_9121f8837dda4524b9fa5021cce1bcb2",
       "value": "<i>As an Invader, defeat seven Guardians in a single invasion before Drifter brings you back to your side.</i>"
      }
     },
     "110177b7b84c4c958a4f9123c81f3c67": {
      "model_module": "@jupyter-widgets/base",
      "model_module_version": "1.2.0",
      "model_name": "LayoutModel",
      "state": {
       "display": "none",
       "width": "60px"
      }
     },
     "112986d4647046c4a59165907fcaf123": {
      "model_module": "@jupyter-widgets/controls",
      "model_module_version": "1.5.0",
      "model_name": "IntProgressModel",
      "state": {
       "layout": "IPY_MODEL_bace1b56bc474a05b228e4c6f5082787",
       "style": "IPY_MODEL_86edd20bc2c34e16a37ef9a0b4b8a3b3",
       "value": 30
      }
     },
     "112f6d50ad9b407ca1c61de0e708acd8": {
      "model_module": "@jupyter-widgets/controls",
      "model_module_version": "1.5.0",
      "model_name": "ProgressStyleModel",
      "state": {
       "description_width": ""
      }
     },
     "119b50d7e7414f239837a240b8032ca2": {
      "model_module": "@jupyter-widgets/base",
      "model_module_version": "1.2.0",
      "model_name": "LayoutModel",
      "state": {
       "display": "none",
       "width": "60px"
      }
     },
     "1245fd7ad06141d7b006aa6eb61e8357": {
      "model_module": "@jupyter-widgets/controls",
      "model_module_version": "1.5.0",
      "model_name": "ButtonModel",
      "state": {
       "layout": "IPY_MODEL_1adb10755da748f89c92c082bbd3bb04",
       "style": "IPY_MODEL_d8a37b68ed314be1b5bd9879dd9ba0a8"
      }
     },
     "124c9b3686844140854f61d197c6b56d": {
      "model_module": "@jupyter-widgets/controls",
      "model_module_version": "1.5.0",
      "model_name": "DescriptionStyleModel",
      "state": {
       "description_width": ""
      }
     },
     "12b4fc3a93694a82af47e39dab2d6bad": {
      "model_module": "@jupyter-widgets/base",
      "model_module_version": "1.2.0",
      "model_name": "LayoutModel",
      "state": {
       "display": "none"
      }
     },
     "12c9a09d8ae74c238a828267f558a6ff": {
      "model_module": "@jupyter-widgets/controls",
      "model_module_version": "1.5.0",
      "model_name": "ProgressStyleModel",
      "state": {
       "description_width": ""
      }
     },
     "12ddc03f9eaf4d619962555aca7e0e6e": {
      "model_module": "@jupyter-widgets/base",
      "model_module_version": "1.2.0",
      "model_name": "LayoutModel",
      "state": {
       "border": "3px solid white",
       "display": "flex",
       "flex": "1 1 0%",
       "margin": "10px",
       "min_width": "400px",
       "overflow": "visible",
       "padding": "10px",
       "width": "auto"
      }
     },
     "12df4cbc3aca46dcaef035654cc1c378": {
      "model_module": "@jupyter-widgets/controls",
      "model_module_version": "1.5.0",
      "model_name": "HTMLModel",
      "state": {
       "layout": "IPY_MODEL_1afaf78b515448199fbfd20cf02f5405",
       "style": "IPY_MODEL_4062ceae2f6144508ce72819abe5d744",
       "value": "<b>Activity Requirements:</b>"
      }
     },
     "12eaf3f229794e76ab725b4bcdf373e6": {
      "model_module": "@jupyter-widgets/base",
      "model_module_version": "1.2.0",
      "model_name": "LayoutModel",
      "state": {
       "height": "32px",
       "order": "-2",
       "width": "32px"
      }
     },
     "130d4a37b5de447e8c73a12da0b60f4d": {
      "model_module": "@jupyter-widgets/base",
      "model_module_version": "1.2.0",
      "model_name": "LayoutModel",
      "state": {
       "display": "none"
      }
     },
     "136d1840ff6f4ab9b6fc73a9b5babf0e": {
      "model_module": "@jupyter-widgets/controls",
      "model_module_version": "1.5.0",
      "model_name": "ButtonModel",
      "state": {
       "description": "EDIT",
       "layout": "IPY_MODEL_43dd46adb12b471792259865a858bc76",
       "style": "IPY_MODEL_5b92ea49e9e74d5f961f8df638ba800f"
      }
     },
     "13a4c7f42f9f43fead66e41508f022fb": {
      "model_module": "@jupyter-widgets/controls",
      "model_module_version": "1.5.0",
      "model_name": "ButtonModel",
      "state": {
       "description": "EDIT",
       "layout": "IPY_MODEL_424281945aeb45d88294f04c61cc5618",
       "style": "IPY_MODEL_c5d406781f6f462eb3c00139b0451c60"
      }
     },
     "13a99f8d03664f5e98eb8f3f50cd2c9d": {
      "model_module": "@jupyter-widgets/controls",
      "model_module_version": "1.5.0",
      "model_name": "LabelModel",
      "state": {
       "layout": "IPY_MODEL_6cdd429bf658462893e583a0dbc07720",
       "style": "IPY_MODEL_3ba062d7892c43209fdcdf2bd841b807",
       "value": "   objective"
      }
     },
     "13e21623b1cd45a8b8ecd29af2a91064": {
      "model_module": "@jupyter-widgets/controls",
      "model_module_version": "1.5.0",
      "model_name": "ButtonModel",
      "state": {
       "layout": "IPY_MODEL_cce7e208d5034cffabe58a520e1d6719",
       "style": "IPY_MODEL_b203022492b848558330ab8b86f7383f"
      }
     },
     "1408475beba442418ffdb84a5c96a75c": {
      "model_module": "@jupyter-widgets/controls",
      "model_module_version": "1.5.0",
      "model_name": "VBoxModel",
      "state": {
       "children": [
        "IPY_MODEL_7fc7bdbcffe44f338317a91f598d7a04",
        "IPY_MODEL_2bd0524c5e894b8ab791e21e2e1c14b7",
        "IPY_MODEL_483e40d27d2e49f796339c6858ffae03",
        "IPY_MODEL_c8768cdaeac34bdabe959ed7f62a62a1"
       ],
       "layout": "IPY_MODEL_bffdda45af7b4e91b3d456fd759e749e"
      }
     },
     "1436817eaeec49109585c00b8850ba8c": {
      "model_module": "@jupyter-widgets/controls",
      "model_module_version": "1.5.0",
      "model_name": "DescriptionStyleModel",
      "state": {
       "description_width": ""
      }
     },
     "143ae739ccd94b26b2cb3448b89ed486": {
      "model_module": "@jupyter-widgets/base",
      "model_module_version": "1.2.0",
      "model_name": "LayoutModel",
      "state": {
       "height": "32px",
       "overflow": "visible",
       "width": "100%"
      }
     },
     "144ca389fb314ff082d79ca311a99dcd": {
      "model_module": "@jupyter-widgets/controls",
      "model_module_version": "1.5.0",
      "model_name": "DescriptionStyleModel",
      "state": {
       "description_width": ""
      }
     },
     "145bb541ae974705bc04bbffb4892508": {
      "model_module": "@jupyter-widgets/base",
      "model_module_version": "1.2.0",
      "model_name": "LayoutModel",
      "state": {
       "order": "-1",
       "overflow": "visible",
       "padding": "1px",
       "width": "0px"
      }
     },
     "1461a8a4a7d04a3d803defa55740c19b": {
      "model_module": "@jupyter-widgets/base",
      "model_module_version": "1.2.0",
      "model_name": "LayoutModel",
      "state": {
       "order": "-1",
       "overflow": "visible",
       "padding": "1px",
       "width": "0px"
      }
     },
     "14870a9204464f3d888e654eebe26f58": {
      "model_module": "@jupyter-widgets/controls",
      "model_module_version": "1.5.0",
      "model_name": "HBoxModel",
      "state": {
       "children": [
        "IPY_MODEL_48f193cb6f444515895452db986b6ea4",
        "IPY_MODEL_a0f0f0126d994e159f5f13ac8b7ca730",
        "IPY_MODEL_acf85f755c4d465c9335c5c2c37ec713",
        "IPY_MODEL_8b7679603175407880b065b4907b9898"
       ],
       "layout": "IPY_MODEL_54b98b5ed8ff4653bd72187955b036db"
      }
     },
     "14ba4bbca8f443c087bfc64e029c88b0": {
      "model_module": "@jupyter-widgets/controls",
      "model_module_version": "1.5.0",
      "model_name": "DescriptionStyleModel",
      "state": {
       "description_width": ""
      }
     },
     "14d1909041c14c99b769ca5454430589": {
      "model_module": "@jupyter-widgets/controls",
      "model_module_version": "1.5.0",
      "model_name": "DescriptionStyleModel",
      "state": {
       "description_width": ""
      }
     },
     "14fad39ca7d240be86cb8c6142f3d610": {
      "model_module": "@jupyter-widgets/controls",
      "model_module_version": "1.5.0",
      "model_name": "VBoxModel",
      "state": {
       "children": [
        "IPY_MODEL_26305c7c8e3c43df9a98ef97f6f17044",
        "IPY_MODEL_6699feb4c65846ddb0a806c64a59b436",
        "IPY_MODEL_536ffef9a903428ba1c9dde860facb00",
        "IPY_MODEL_c62db1d450684a43af4fb6ce7be99cd1",
        "IPY_MODEL_aa781ba9d4104fc391d0fc254a140e88",
        "IPY_MODEL_e2368643403c44ca802edd5a44fd8509"
       ],
       "layout": "IPY_MODEL_80b3da643e274a328ebfe1fde8fb15a6"
      }
     },
     "15248b5a1a014d0895b69cf392bf851f": {
      "model_module": "@jupyter-widgets/controls",
      "model_module_version": "1.5.0",
      "model_name": "ButtonStyleModel",
      "state": {}
     },
     "154550c3627341d0a47c6ef7761ed77e": {
      "model_module": "@jupyter-widgets/base",
      "model_module_version": "1.2.0",
      "model_name": "LayoutModel",
      "state": {}
     },
     "155601422de94204b384f9a1301f8975": {
      "model_module": "@jupyter-widgets/controls",
      "model_module_version": "1.5.0",
      "model_name": "ButtonStyleModel",
      "state": {}
     },
     "155bfd5e90584c4f9429573ae4901889": {
      "model_module": "@jupyter-widgets/controls",
      "model_module_version": "1.5.0",
      "model_name": "DescriptionStyleModel",
      "state": {
       "description_width": ""
      }
     },
     "1570ea62f59c475c957f3b0c7f05d193": {
      "model_module": "@jupyter-widgets/base",
      "model_module_version": "1.2.0",
      "model_name": "LayoutModel",
      "state": {
       "display": "none",
       "width": "60px"
      }
     },
     "15a4686d16b74e41a61c6289ac3d5e18": {
      "model_module": "@jupyter-widgets/base",
      "model_module_version": "1.2.0",
      "model_name": "LayoutModel",
      "state": {
       "border": "3px solid white",
       "display": "flex",
       "flex": "1 1 0%",
       "margin": "10px",
       "min_width": "400px",
       "overflow": "visible",
       "padding": "10px",
       "width": "auto"
      }
     },
     "15a75397e1f34bc4a39ed2d28f12841f": {
      "model_module": "@jupyter-widgets/base",
      "model_module_version": "1.2.0",
      "model_name": "LayoutModel",
      "state": {
       "display": "none"
      }
     },
     "15afd570ae324ce78cf25829b92fd4be": {
      "model_module": "@jupyter-widgets/controls",
      "model_module_version": "1.5.0",
      "model_name": "LabelModel",
      "state": {
       "layout": "IPY_MODEL_03fa4d2ec7ad46db854aff58bb5459e5",
       "style": "IPY_MODEL_5ddfffa5293946899946283bc50b97c7",
       "value": "   objective"
      }
     },
     "15f25f5a54634888ba83e6995029049f": {
      "model_module": "@jupyter-widgets/controls",
      "model_module_version": "1.5.0",
      "model_name": "LabelModel",
      "state": {
       "layout": "IPY_MODEL_493dfaa946064491aa484f4b3d571976",
       "style": "IPY_MODEL_6f2dcc5e2dca4393b3ca6daaf0f19579",
       "value": "   objective"
      }
     },
     "15fb9d2678854a56a0392ad568fa46ae": {
      "model_module": "@jupyter-widgets/controls",
      "model_module_version": "1.5.0",
      "model_name": "ButtonModel",
      "state": {
       "layout": "IPY_MODEL_23623d2ef587443a91d1e16a0cdfe89d",
       "style": "IPY_MODEL_babfc6500a034f34a878b986bb52f2a5"
      }
     },
     "161cd5460bf940c688eaa2bc054d66cb": {
      "model_module": "@jupyter-widgets/controls",
      "model_module_version": "1.5.0",
      "model_name": "ButtonStyleModel",
      "state": {}
     },
     "162477b60d504141b93c7792aaaf66df": {
      "model_module": "@jupyter-widgets/base",
      "model_module_version": "1.2.0",
      "model_name": "LayoutModel",
      "state": {}
     },
     "163b26a023354ef488ded777c5f03e0d": {
      "model_module": "@jupyter-widgets/controls",
      "model_module_version": "1.5.0",
      "model_name": "DescriptionStyleModel",
      "state": {
       "description_width": ""
      }
     },
     "1660f9a1849d4e7dbcac119d37d05d5e": {
      "model_module": "@jupyter-widgets/base",
      "model_module_version": "1.2.0",
      "model_name": "LayoutModel",
      "state": {
       "display": "none"
      }
     },
     "168d70a67a814b84865bae1770200f62": {
      "model_module": "@jupyter-widgets/base",
      "model_module_version": "1.2.0",
      "model_name": "LayoutModel",
      "state": {
       "height": "32px",
       "order": "-2",
       "width": "32px"
      }
     },
     "168f66eb69f644e88de0c7864354b6b7": {
      "model_module": "@jupyter-widgets/base",
      "model_module_version": "1.2.0",
      "model_name": "LayoutModel",
      "state": {
       "order": "-1",
       "overflow": "visible",
       "padding": "1px",
       "width": "0px"
      }
     },
     "16b37c2ee21f4123a9dc6a84462a9abe": {
      "model_module": "@jupyter-widgets/base",
      "model_module_version": "1.2.0",
      "model_name": "LayoutModel",
      "state": {}
     },
     "16fbdc07452e459395b3cb19b1ddd5ed": {
      "model_module": "@jupyter-widgets/controls",
      "model_module_version": "1.5.0",
      "model_name": "ButtonStyleModel",
      "state": {}
     },
     "1702311c232c4512ab7ce9e45614270b": {
      "model_module": "@jupyter-widgets/controls",
      "model_module_version": "1.5.0",
      "model_name": "ButtonStyleModel",
      "state": {}
     },
     "171576476f2c4591bc3ff2a51fc38fa5": {
      "model_module": "@jupyter-widgets/controls",
      "model_module_version": "1.5.0",
      "model_name": "ButtonStyleModel",
      "state": {}
     },
     "1715e496350e499e943fb274ffbc379f": {
      "model_module": "@jupyter-widgets/base",
      "model_module_version": "1.2.0",
      "model_name": "LayoutModel",
      "state": {
       "height": "32px",
       "order": "-2",
       "width": "32px"
      }
     },
     "172944073015426eba72fe8a396b47f4": {
      "model_module": "@jupyter-widgets/base",
      "model_module_version": "1.2.0",
      "model_name": "LayoutModel",
      "state": {
       "height": "20px"
      }
     },
     "174f910f5c8c43e5929c6793adeff33a": {
      "model_module": "@jupyter-widgets/controls",
      "model_module_version": "1.5.0",
      "model_name": "DescriptionStyleModel",
      "state": {
       "description_width": ""
      }
     },
     "176c0e08c2644baa8ec6ae431a77a24a": {
      "model_module": "@jupyter-widgets/base",
      "model_module_version": "1.2.0",
      "model_name": "LayoutModel",
      "state": {
       "height": "32px",
       "overflow": "visible",
       "width": "100%"
      }
     },
     "17728205de594d5b88d6a3e51a3cd8d0": {
      "model_module": "@jupyter-widgets/base",
      "model_module_version": "1.2.0",
      "model_name": "LayoutModel",
      "state": {
       "height": "32px",
       "overflow": "visible",
       "width": "100%"
      }
     },
     "177d2055133f4d449932e24cc34f7c3e": {
      "model_module": "@jupyter-widgets/controls",
      "model_module_version": "1.5.0",
      "model_name": "IntProgressModel",
      "state": {
       "layout": "IPY_MODEL_143ae739ccd94b26b2cb3448b89ed486",
       "style": "IPY_MODEL_29593c5fd8534255a372349aa87a41cd",
       "value": 30
      }
     },
     "1788c0553dcd4fc5ac6ef09d41a1fa73": {
      "model_module": "@jupyter-widgets/controls",
      "model_module_version": "1.5.0",
      "model_name": "ButtonModel",
      "state": {
       "layout": "IPY_MODEL_6c7de88423784dacb9d1d91578475fc4",
       "style": "IPY_MODEL_9b4df995db4f42729a1dac8daedbc710"
      }
     },
     "17cd8cd3afe9467994917a55498d1ef7": {
      "model_module": "@jupyter-widgets/base",
      "model_module_version": "1.2.0",
      "model_name": "LayoutModel",
      "state": {}
     },
     "1847a41652cf486ba7c5e0e0fad00d28": {
      "model_module": "@jupyter-widgets/base",
      "model_module_version": "1.2.0",
      "model_name": "LayoutModel",
      "state": {}
     },
     "1867645c7d3c4f49b67eb605b75cf9bd": {
      "model_module": "@jupyter-widgets/base",
      "model_module_version": "1.2.0",
      "model_name": "LayoutModel",
      "state": {
       "height": "32px",
       "overflow": "visible",
       "width": "100%"
      }
     },
     "188f1049f7364bbd8b91b65c231c616a": {
      "model_module": "@jupyter-widgets/base",
      "model_module_version": "1.2.0",
      "model_name": "LayoutModel",
      "state": {
       "height": "32px",
       "order": "-2",
       "width": "32px"
      }
     },
     "189fff2af72845fd96808c39d7649070": {
      "model_module": "@jupyter-widgets/controls",
      "model_module_version": "1.5.0",
      "model_name": "ButtonModel",
      "state": {
       "layout": "IPY_MODEL_4046452b4ae74581a03685c392e5f674",
       "style": "IPY_MODEL_5301e5ebe34942358ba389e3d14ce101"
      }
     },
     "18d1905aa92b442aa2c14db5fbad32b7": {
      "model_module": "@jupyter-widgets/controls",
      "model_module_version": "1.5.0",
      "model_name": "DescriptionStyleModel",
      "state": {
       "description_width": ""
      }
     },
     "18e457d905774f7ca5c2f6cc82df1713": {
      "model_module": "@jupyter-widgets/controls",
      "model_module_version": "1.5.0",
      "model_name": "HBoxModel",
      "state": {
       "children": [
        "IPY_MODEL_b2ea4c4b0b1b4778bf73c4fb0ca59466",
        "IPY_MODEL_e99f1a85152642ef83b46111c21828ff",
        "IPY_MODEL_05002639175249bfa2cd326eca6537fa",
        "IPY_MODEL_e003a2b7615245beb38037028b17dc3c"
       ],
       "layout": "IPY_MODEL_e3a702e9acd8434bb380beed82004a11"
      }
     },
     "18fcf1bf4bb942b688d5d6947f03b9d3": {
      "model_module": "@jupyter-widgets/base",
      "model_module_version": "1.2.0",
      "model_name": "LayoutModel",
      "state": {
       "height": "32px",
       "overflow": "visible",
       "width": "100%"
      }
     },
     "197c0081d786467cac3f64eb10287fa2": {
      "model_module": "@jupyter-widgets/base",
      "model_module_version": "1.2.0",
      "model_name": "LayoutModel",
      "state": {
       "order": "-1",
       "overflow": "visible",
       "padding": "1px",
       "width": "0px"
      }
     },
     "19ef0518aa104faa9b9e2e04d852012d": {
      "model_module": "@jupyter-widgets/base",
      "model_module_version": "1.2.0",
      "model_name": "LayoutModel",
      "state": {
       "order": "-1",
       "overflow": "visible",
       "padding": "1px",
       "width": "0px"
      }
     },
     "1a3247c1b08644ac9ef243a43e85d545": {
      "model_module": "@jupyter-widgets/controls",
      "model_module_version": "1.5.0",
      "model_name": "IntProgressModel",
      "state": {
       "layout": "IPY_MODEL_a614d1597bfe4c4796b8387565986142",
       "style": "IPY_MODEL_d0ed8a555fe8461c90a12a9a8c0c7e73",
       "value": 30
      }
     },
     "1a5c31b3e79a4f7e8b2a866a07c3507a": {
      "model_module": "@jupyter-widgets/controls",
      "model_module_version": "1.5.0",
      "model_name": "DropdownModel",
      "state": {
       "_options_labels": [
        "Become Legend",
        "The Witch",
        "Reunited Siblings",
        "Prime Fashion",
        "Maximum Carnage",
        "Coliseum Champion",
        "Budding Fashion",
        "Skolas",
        "IX",
        "Strike Them Down",
        "Season 6: Valor",
        "The Expedition",
        "Suspicions",
        "Time Lapse",
        "A Desperate Ploy"
       ],
       "index": 0,
       "layout": "IPY_MODEL_8cc9e95fc27a4d419a863e3cc4a81363",
       "style": "IPY_MODEL_f910231444b846aa98095e12f3792ddb"
      }
     },
     "1a74debd8abe4695a9b79301100a050c": {
      "model_module": "@jupyter-widgets/base",
      "model_module_version": "1.2.0",
      "model_name": "LayoutModel",
      "state": {
       "border": "3px solid white",
       "display": "flex",
       "flex": "1 1 0%",
       "margin": "10px",
       "min_width": "400px",
       "overflow": "visible",
       "padding": "10px",
       "width": "auto"
      }
     },
     "1a8dff04a9944237954ac4a5e53c6249": {
      "model_module": "@jupyter-widgets/controls",
      "model_module_version": "1.5.0",
      "model_name": "DescriptionStyleModel",
      "state": {
       "description_width": ""
      }
     },
     "1adb10755da748f89c92c082bbd3bb04": {
      "model_module": "@jupyter-widgets/base",
      "model_module_version": "1.2.0",
      "model_name": "LayoutModel",
      "state": {
       "height": "32px",
       "order": "-2",
       "width": "32px"
      }
     },
     "1afaf78b515448199fbfd20cf02f5405": {
      "model_module": "@jupyter-widgets/base",
      "model_module_version": "1.2.0",
      "model_name": "LayoutModel",
      "state": {}
     },
     "1b0ff70279fa40bc8f75dfe6916af103": {
      "model_module": "@jupyter-widgets/controls",
      "model_module_version": "1.5.0",
      "model_name": "VBoxModel",
      "state": {
       "children": [
        "IPY_MODEL_43dc638d5b7f42bbb4048b86167f1b16",
        "IPY_MODEL_86ff664b2bbf4ac5aa861bfcbfebcabe",
        "IPY_MODEL_38c8cb764dd94faaa145e2dba1167683",
        "IPY_MODEL_6671d9f4310641199c2fdcc9d0bd8adc",
        "IPY_MODEL_b85a61f242a84ed385df90dc41f3a0be",
        "IPY_MODEL_7cec8980f68649268c04f90d4adb4a13"
       ],
       "layout": "IPY_MODEL_23bddad2c96346ff8043d39f01471310"
      }
     },
     "1b2f2c6d74bf4599b10157663bb2167a": {
      "model_module": "@jupyter-widgets/controls",
      "model_module_version": "1.5.0",
      "model_name": "HBoxModel",
      "state": {
       "children": [
        "IPY_MODEL_f22f9dea138e465ebb21ae7816cdb07e",
        "IPY_MODEL_f7dd26350a54465a90134b8372cae8d4",
        "IPY_MODEL_2954b14d3d184967af2214928f950355",
        "IPY_MODEL_41d925d9e23545caa9b7ed1b6e318fcd"
       ],
       "layout": "IPY_MODEL_3a74d13c6a46491bb3dc3b60dcacca44"
      }
     },
     "1b531b1a75064149ad3c9b742f9f23d9": {
      "model_module": "@jupyter-widgets/base",
      "model_module_version": "1.2.0",
      "model_name": "LayoutModel",
      "state": {
       "border": "3px solid white",
       "display": "flex",
       "flex": "1 1 0%",
       "margin": "10px",
       "min_width": "400px",
       "overflow": "visible",
       "padding": "10px",
       "width": "auto"
      }
     },
     "1b6d5133df804eed98f0767c089e5d51": {
      "model_module": "@jupyter-widgets/controls",
      "model_module_version": "1.5.0",
      "model_name": "IntProgressModel",
      "state": {
       "layout": "IPY_MODEL_b734b07ca29f467282a1089813531f09",
       "max": 1,
       "style": "IPY_MODEL_95a9ce27a0bd4050942bfdcd8af4c6e8"
      }
     },
     "1b9aad5b92df4c619a51c1b491d191e0": {
      "model_module": "@jupyter-widgets/controls",
      "model_module_version": "1.5.0",
      "model_name": "LabelModel",
      "state": {
       "layout": "IPY_MODEL_679546e2357b48fdae7ca5935100597d",
       "style": "IPY_MODEL_ba2294f72968457091443ff9254d81dc",
       "value": "Grenade:"
      }
     },
     "1ba978e9a3894dbeb3726e4cd5c02d13": {
      "model_module": "@jupyter-widgets/base",
      "model_module_version": "1.2.0",
      "model_name": "LayoutModel",
      "state": {
       "display": "none"
      }
     },
     "1bd51914b1054c61a3c45997e4894cb9": {
      "model_module": "@jupyter-widgets/base",
      "model_module_version": "1.2.0",
      "model_name": "LayoutModel",
      "state": {
       "display": "none"
      }
     },
     "1c65064e61f549bf9edc5c63e24a0359": {
      "model_module": "@jupyter-widgets/controls",
      "model_module_version": "1.5.0",
      "model_name": "ProgressStyleModel",
      "state": {
       "description_width": ""
      }
     },
     "1c6a37c56d8d49fd8a6905b4335fb8a2": {
      "model_module": "@jupyter-widgets/base",
      "model_module_version": "1.2.0",
      "model_name": "LayoutModel",
      "state": {
       "order": "-1",
       "overflow": "visible",
       "padding": "1px",
       "width": "0px"
      }
     },
     "1c76a27dab53416a8fd5d8bac603a7ab": {
      "model_module": "@jupyter-widgets/base",
      "model_module_version": "1.2.0",
      "model_name": "LayoutModel",
      "state": {
       "border": "3px solid white",
       "display": "flex",
       "flex": "1 1 0%",
       "margin": "10px",
       "min_width": "400px",
       "overflow": "visible",
       "padding": "10px",
       "width": "auto"
      }
     },
     "1c7d7339d56c468bacbd7e9fe8b7768b": {
      "model_module": "@jupyter-widgets/controls",
      "model_module_version": "1.5.0",
      "model_name": "ButtonStyleModel",
      "state": {}
     },
     "1c8adecd648b4d118ace6f43dd02889a": {
      "model_module": "@jupyter-widgets/controls",
      "model_module_version": "1.5.0",
      "model_name": "DescriptionStyleModel",
      "state": {
       "description_width": ""
      }
     },
     "1ca24b70c84f47a18c3d8cc9abcca092": {
      "model_module": "@jupyter-widgets/controls",
      "model_module_version": "1.5.0",
      "model_name": "ButtonModel",
      "state": {
       "layout": "IPY_MODEL_8ce681a8fd584cb2b62b29bfd8910f0a",
       "style": "IPY_MODEL_afaf457ca1cf4d7a959685e66d838187"
      }
     },
     "1cbd8da3df5e45d58256777c906530ff": {
      "model_module": "@jupyter-widgets/controls",
      "model_module_version": "1.5.0",
      "model_name": "ButtonStyleModel",
      "state": {}
     },
     "1ce29828a5f44e06a14856536b8c0728": {
      "model_module": "@jupyter-widgets/controls",
      "model_module_version": "1.5.0",
      "model_name": "DescriptionStyleModel",
      "state": {
       "description_width": ""
      }
     },
     "1d0aabee5aa84034815c695d02acb74d": {
      "model_module": "@jupyter-widgets/controls",
      "model_module_version": "1.5.0",
      "model_name": "HBoxModel",
      "state": {
       "children": [
        "IPY_MODEL_69f9dec0fc1f4f2c84198470cd4760da",
        "IPY_MODEL_734cebf1697444458538bc0654d2c881",
        "IPY_MODEL_f63ba9d048c0453b843bda9eb96a9475",
        "IPY_MODEL_8c3b595681c747eaa22d1db95fba92c0"
       ],
       "layout": "IPY_MODEL_2c329f306a38463393d80cd468aee955"
      }
     },
     "1d1106fbdae949aa942a8511ee898bf5": {
      "model_module": "@jupyter-widgets/base",
      "model_module_version": "1.2.0",
      "model_name": "LayoutModel",
      "state": {
       "border": "3px solid white",
       "display": "flex",
       "flex": "1 1 0%",
       "margin": "10px",
       "min_width": "400px",
       "overflow": "visible",
       "padding": "10px",
       "width": "auto"
      }
     },
     "1d18cd39dbaf439eb4d8ab5790d1145c": {
      "model_module": "@jupyter-widgets/controls",
      "model_module_version": "1.5.0",
      "model_name": "LabelModel",
      "state": {
       "layout": "IPY_MODEL_78c1120c885c4d459fc2fd004b5d5d66",
       "style": "IPY_MODEL_af663994d54d490aae92d9cdae0094c5",
       "value": "   objective"
      }
     },
     "1da04752f9cb452fa47b1564119dfe95": {
      "model_module": "@jupyter-widgets/base",
      "model_module_version": "1.2.0",
      "model_name": "LayoutModel",
      "state": {}
     },
     "1def974887d542ac930f2b01a1bc4705": {
      "model_module": "@jupyter-widgets/controls",
      "model_module_version": "1.5.0",
      "model_name": "IntProgressModel",
      "state": {
       "layout": "IPY_MODEL_d6eb0ec38a924a0b8421111a1097bfa7",
       "style": "IPY_MODEL_293abd9bb6404c96b751eb40aeeef09f",
       "value": 30
      }
     },
     "1e075c5c0e384d519b825cd3287675a2": {
      "model_module": "@jupyter-widgets/controls",
      "model_module_version": "1.5.0",
      "model_name": "HBoxModel",
      "state": {
       "children": [
        "IPY_MODEL_15fb9d2678854a56a0392ad568fa46ae",
        "IPY_MODEL_d546eb48095b4c16805b35d59f13d9f9",
        "IPY_MODEL_1e512660b2184f08962a13340812464e",
        "IPY_MODEL_01018de1c7974a338ac30bd0d5f83d5a"
       ],
       "layout": "IPY_MODEL_26b9ae2d5a11482a925262bc4eb1f208"
      }
     },
     "1e30fa50cd504e54a49fa8e7ac27ce26": {
      "model_module": "@jupyter-widgets/base",
      "model_module_version": "1.2.0",
      "model_name": "LayoutModel",
      "state": {
       "overflow": "visible",
       "width": "100%"
      }
     },
     "1e512660b2184f08962a13340812464e": {
      "model_module": "@jupyter-widgets/controls",
      "model_module_version": "1.5.0",
      "model_name": "LabelModel",
      "state": {
       "layout": "IPY_MODEL_305cb442011a4759b997a4cd0664113f",
       "style": "IPY_MODEL_b085b584da4e4719b9ba005a92d6dd47",
       "value": "   objective"
      }
     },
     "1e652e79994c406294696860043db37e": {
      "model_module": "@jupyter-widgets/controls",
      "model_module_version": "1.5.0",
      "model_name": "HBoxModel",
      "state": {
       "children": [
        "IPY_MODEL_864deabdd7e64b9295cb7b658cce6ea2",
        "IPY_MODEL_1def974887d542ac930f2b01a1bc4705",
        "IPY_MODEL_a2aaeda368e84f19a342d7550d74facc",
        "IPY_MODEL_e9d595415fac4e9fa45cfd27d86c0db9"
       ],
       "layout": "IPY_MODEL_15a75397e1f34bc4a39ed2d28f12841f"
      }
     },
     "1e90b49ab50c4bf29a0f8bf8119c5824": {
      "model_module": "@jupyter-widgets/base",
      "model_module_version": "1.2.0",
      "model_name": "LayoutModel",
      "state": {
       "display": "none"
      }
     },
     "1f5df359a9f4469ebe02904c90705c6d": {
      "model_module": "@jupyter-widgets/controls",
      "model_module_version": "1.5.0",
      "model_name": "DescriptionStyleModel",
      "state": {
       "description_width": ""
      }
     },
     "1f7ab06f5b744f4991f86055a1ed4804": {
      "model_module": "@jupyter-widgets/controls",
      "model_module_version": "1.5.0",
      "model_name": "ButtonModel",
      "state": {
       "description": "EDIT",
       "layout": "IPY_MODEL_822f8d433fff46519029674e6cebd6b3",
       "style": "IPY_MODEL_41c4eb571613417b99f5439fb094a777"
      }
     },
     "1fd56666d4f746669b1940d4de2838aa": {
      "model_module": "@jupyter-widgets/base",
      "model_module_version": "1.2.0",
      "model_name": "LayoutModel",
      "state": {
       "order": "-1",
       "overflow": "visible",
       "padding": "1px",
       "width": "0px"
      }
     },
     "1fdf80c144bf44488df87e00152542df": {
      "model_module": "@jupyter-widgets/controls",
      "model_module_version": "1.5.0",
      "model_name": "ButtonModel",
      "state": {
       "layout": "IPY_MODEL_826513be1ce949608eb80a12d85716f8",
       "style": "IPY_MODEL_5a6b574f57e84c30b96a17a88f95459e"
      }
     },
     "200c43590d1b491c86dd35bf2bd6c25b": {
      "model_module": "@jupyter-widgets/base",
      "model_module_version": "1.2.0",
      "model_name": "LayoutModel",
      "state": {
       "height": "32px",
       "order": "-2",
       "width": "32px"
      }
     },
     "209cfce040794c2da05168e20d33d205": {
      "model_module": "@jupyter-widgets/base",
      "model_module_version": "1.2.0",
      "model_name": "LayoutModel",
      "state": {
       "display": "none"
      }
     },
     "20a202756e1e40169dc848990c3c5bd7": {
      "model_module": "@jupyter-widgets/controls",
      "model_module_version": "1.5.0",
      "model_name": "ButtonStyleModel",
      "state": {}
     },
     "20c95d8dd2d247e2bacb2195055d9f24": {
      "model_module": "@jupyter-widgets/base",
      "model_module_version": "1.2.0",
      "model_name": "LayoutModel",
      "state": {
       "display": "none"
      }
     },
     "20e3dc074799446a87ac8f568d6ea74a": {
      "model_module": "@jupyter-widgets/controls",
      "model_module_version": "1.5.0",
      "model_name": "ProgressStyleModel",
      "state": {
       "description_width": ""
      }
     },
     "20f82f5f0a414eccbb622280849ec49d": {
      "model_module": "@jupyter-widgets/controls",
      "model_module_version": "1.5.0",
      "model_name": "ButtonStyleModel",
      "state": {}
     },
     "20f8cad57d5642fea0a1f5b369210069": {
      "model_module": "@jupyter-widgets/controls",
      "model_module_version": "1.5.0",
      "model_name": "ButtonModel",
      "state": {
       "layout": "IPY_MODEL_a99be376eae34e5eb7f7748fa14bc402",
       "style": "IPY_MODEL_7e9888bc0dba4fb6961d1d97b78534f0"
      }
     },
     "21307ebbe39c43adbf3cc33f049fcdb8": {
      "model_module": "@jupyter-widgets/controls",
      "model_module_version": "1.5.0",
      "model_name": "ButtonModel",
      "state": {
       "description": "EDIT",
       "layout": "IPY_MODEL_0498202238fa4622ace1919b14455046",
       "style": "IPY_MODEL_c37070892d854e56bc7690e42b43ae15"
      }
     },
     "213eeef7653148578e93c828e9e40198": {
      "model_module": "@jupyter-widgets/controls",
      "model_module_version": "1.5.0",
      "model_name": "ButtonStyleModel",
      "state": {}
     },
     "214de70e5f734e8d901026d51b90b8a3": {
      "model_module": "@jupyter-widgets/base",
      "model_module_version": "1.2.0",
      "model_name": "LayoutModel",
      "state": {
       "display": "flex"
      }
     },
     "2181776d7a6441afaefe5521d92eb221": {
      "model_module": "@jupyter-widgets/controls",
      "model_module_version": "1.5.0",
      "model_name": "IntProgressModel",
      "state": {
       "layout": "IPY_MODEL_0ef8b653b5974d2b8ce581a9ecfa0f83",
       "style": "IPY_MODEL_fda104ba8bfc4e75bb1be37707a61eae",
       "value": 30
      }
     },
     "2186e257acc140a9b6e24f988a06922b": {
      "model_module": "@jupyter-widgets/controls",
      "model_module_version": "1.5.0",
      "model_name": "LabelModel",
      "state": {
       "layout": "IPY_MODEL_3b8f57bc2f4242698dbaba684f7fff6d",
       "style": "IPY_MODEL_c1c6dd76ab4c47459090ffa497888493",
       "value": "   objective"
      }
     },
     "21893c0f90904aa8818f99f693db854b": {
      "model_module": "@jupyter-widgets/base",
      "model_module_version": "1.2.0",
      "model_name": "LayoutModel",
      "state": {
       "border": "3px solid white",
       "display": "flex",
       "flex": "1 1 0%",
       "margin": "10px",
       "min_width": "400px",
       "overflow": "visible",
       "padding": "10px",
       "width": "auto"
      }
     },
     "219152b9b4b24e55aeaec52b00e522b8": {
      "model_module": "@jupyter-widgets/controls",
      "model_module_version": "1.5.0",
      "model_name": "DescriptionStyleModel",
      "state": {
       "description_width": ""
      }
     },
     "21c2dd0aa51f4be89030c208dbbb59c5": {
      "model_module": "@jupyter-widgets/controls",
      "model_module_version": "1.5.0",
      "model_name": "LabelModel",
      "state": {
       "layout": "IPY_MODEL_6a4e0aa635834d14b085ab384ab164f4",
       "style": "IPY_MODEL_ef2719f5e9014d35af26fcd84dd8a66d",
       "value": "   objective"
      }
     },
     "21fc92f02b674f0991574e80017f94d4": {
      "model_module": "@jupyter-widgets/controls",
      "model_module_version": "1.5.0",
      "model_name": "IntProgressModel",
      "state": {
       "layout": "IPY_MODEL_18fcf1bf4bb942b688d5d6947f03b9d3",
       "style": "IPY_MODEL_ef326374c636423589876b0bfb700999",
       "value": 30
      }
     },
     "22039860e7fb4879baf1f46dbff816a8": {
      "model_module": "@jupyter-widgets/base",
      "model_module_version": "1.2.0",
      "model_name": "LayoutModel",
      "state": {}
     },
     "22136397f0fc4861a1039f5a0681c376": {
      "model_module": "@jupyter-widgets/base",
      "model_module_version": "1.2.0",
      "model_name": "LayoutModel",
      "state": {
       "order": "-1",
       "overflow": "visible",
       "padding": "1px",
       "width": "0px"
      }
     },
     "2221c150095d4476b16e0f03fa7fb049": {
      "model_module": "@jupyter-widgets/controls",
      "model_module_version": "1.5.0",
      "model_name": "ButtonModel",
      "state": {
       "description": "EDIT",
       "layout": "IPY_MODEL_a78f41e1baed4218801d921b7dca64f1",
       "style": "IPY_MODEL_e4761d6bbf7c4797862921ed6910f67f"
      }
     },
     "222d2caa6b06498f86900ce4c8fc659f": {
      "model_module": "@jupyter-widgets/controls",
      "model_module_version": "1.5.0",
      "model_name": "LabelModel",
      "state": {
       "layout": "IPY_MODEL_e99ce637aaf44dccbb030f88a3865120",
       "style": "IPY_MODEL_d41fdaf17fd044fe815315d5221f305c",
       "value": "   objective"
      }
     },
     "22312d090ba04e0b82dc18b7d9b9e6ea": {
      "model_module": "@jupyter-widgets/controls",
      "model_module_version": "1.5.0",
      "model_name": "DropdownModel",
      "state": {
       "_options_labels": [
        "Any",
        "Machine Gun",
        "Sword",
        "Grenade Launcher",
        "Rocket Launcher",
        "Linear Fusion Rifle"
       ],
       "index": 0,
       "layout": "IPY_MODEL_dfd5c6303e934458b6257be1b14f92ef",
       "style": "IPY_MODEL_29eacd8df767441b8d3f9af33e738a90"
      }
     },
     "22477978badf452cb28d8e3971fe1568": {
      "model_module": "@jupyter-widgets/controls",
      "model_module_version": "1.5.0",
      "model_name": "HBoxModel",
      "state": {
       "children": [
        "IPY_MODEL_1fdf80c144bf44488df87e00152542df",
        "IPY_MODEL_9cbc1066bd594a7ab4797cc328adf87d",
        "IPY_MODEL_06de32224bd7431fb5093deee370ff15",
        "IPY_MODEL_975a0b39e5154349ad058a4c51f853f8"
       ],
       "layout": "IPY_MODEL_c7eef7ab9d254631a407a2e4a699ef3e"
      }
     },
     "22923e6cf28a4f358f0d1c4f8c2e7de2": {
      "model_module": "@jupyter-widgets/controls",
      "model_module_version": "1.5.0",
      "model_name": "ProgressStyleModel",
      "state": {
       "description_width": ""
      }
     },
     "22bf2605d549475e9c5fb3c96b7ce4a8": {
      "model_module": "@jupyter-widgets/controls",
      "model_module_version": "1.5.0",
      "model_name": "DescriptionStyleModel",
      "state": {
       "description_width": ""
      }
     },
     "22f323eb0ad84efa90be37b65630062c": {
      "model_module": "@jupyter-widgets/controls",
      "model_module_version": "1.5.0",
      "model_name": "ButtonModel",
      "state": {
       "layout": "IPY_MODEL_c706c9b916c9490e90d9d2871e29193e",
       "style": "IPY_MODEL_4a65eaea15134a70921639d09cbb83f0"
      }
     },
     "2356c4081666496db761af0393bf80f3": {
      "model_module": "@jupyter-widgets/base",
      "model_module_version": "1.2.0",
      "model_name": "LayoutModel",
      "state": {}
     },
     "2360327781d14daeb77bade6afd158bc": {
      "model_module": "@jupyter-widgets/controls",
      "model_module_version": "1.5.0",
      "model_name": "DescriptionStyleModel",
      "state": {
       "description_width": ""
      }
     },
     "23610b464a9c4c7aaa0213536dc06e18": {
      "model_module": "@jupyter-widgets/base",
      "model_module_version": "1.2.0",
      "model_name": "LayoutModel",
      "state": {
       "display": "none",
       "width": "60px"
      }
     },
     "23623d2ef587443a91d1e16a0cdfe89d": {
      "model_module": "@jupyter-widgets/base",
      "model_module_version": "1.2.0",
      "model_name": "LayoutModel",
      "state": {
       "height": "32px",
       "order": "-2",
       "width": "32px"
      }
     },
     "237192e029bb4efbaa69e6d46e81d9b4": {
      "model_module": "@jupyter-widgets/controls",
      "model_module_version": "1.5.0",
      "model_name": "ButtonStyleModel",
      "state": {}
     },
     "2374160e2fa542b9a1c2dc954d9a5bab": {
      "model_module": "@jupyter-widgets/controls",
      "model_module_version": "1.5.0",
      "model_name": "DescriptionStyleModel",
      "state": {
       "description_width": ""
      }
     },
     "23775e419a48414fa15c1216678339fa": {
      "model_module": "@jupyter-widgets/controls",
      "model_module_version": "1.5.0",
      "model_name": "ButtonStyleModel",
      "state": {}
     },
     "2398a97b20e94bc9a2d38aab04d49894": {
      "model_module": "@jupyter-widgets/controls",
      "model_module_version": "1.5.0",
      "model_name": "IntProgressModel",
      "state": {
       "bar_style": "success",
       "layout": "IPY_MODEL_c72790956ea54ddbaafded9dbec08159",
       "max": 25,
       "style": "IPY_MODEL_bc29e211b7bf42de89543fc8f9141c51",
       "value": 25
      }
     },
     "23a241c9ac0c4fceb6238cfc5d6b7047": {
      "model_module": "@jupyter-widgets/controls",
      "model_module_version": "1.5.0",
      "model_name": "ButtonStyleModel",
      "state": {}
     },
     "23bddad2c96346ff8043d39f01471310": {
      "model_module": "@jupyter-widgets/base",
      "model_module_version": "1.2.0",
      "model_name": "LayoutModel",
      "state": {}
     },
     "23cb0c245a1e46419044fec31dcab619": {
      "model_module": "@jupyter-widgets/controls",
      "model_module_version": "1.5.0",
      "model_name": "ButtonModel",
      "state": {
       "layout": "IPY_MODEL_168d70a67a814b84865bae1770200f62",
       "style": "IPY_MODEL_3930ea22070c4aca82bd81a9c4f137da"
      }
     },
     "23e60e6d6af04662bbfe92506c7fa5f0": {
      "model_module": "@jupyter-widgets/controls",
      "model_module_version": "1.5.0",
      "model_name": "IntProgressModel",
      "state": {
       "layout": "IPY_MODEL_3c6cf231a3e5488db3f3f3583c5057db",
       "max": 1,
       "style": "IPY_MODEL_663b19e8ed01471e8919ef4166dc06b3"
      }
     },
     "23e85f3c951a4a3cbbf1936dfd3ce3e4": {
      "model_module": "@jupyter-widgets/base",
      "model_module_version": "1.2.0",
      "model_name": "LayoutModel",
      "state": {
       "display": "flex",
       "flex_flow": "row wrap"
      }
     },
     "23efe50453bd4b2bbd673808e0de1b73": {
      "model_module": "@jupyter-widgets/controls",
      "model_module_version": "1.5.0",
      "model_name": "VBoxModel",
      "state": {
       "children": [
        "IPY_MODEL_4bfd75f31e674ef9989c7db4b7a3ae5c",
        "IPY_MODEL_275f082d271e49b98eecc372e5c3f001",
        "IPY_MODEL_6c2765439627466f9109052ff7e70561",
        "IPY_MODEL_cffebec2346e40ed9f42e7633d8ab550",
        "IPY_MODEL_e099974b88bd421e8f31106bd12bfaf5",
        "IPY_MODEL_b556e899c44545a5be7515d8fe869a62"
       ],
       "layout": "IPY_MODEL_3a8cdeca58634a25967f2d545e061ee7"
      }
     },
     "241ab729adc14888add27237ea7a2945": {
      "model_module": "@jupyter-widgets/base",
      "model_module_version": "1.2.0",
      "model_name": "LayoutModel",
      "state": {
       "display": "none",
       "width": "60px"
      }
     },
     "247af6eea7e94d9289cd850de4c9238b": {
      "model_module": "@jupyter-widgets/controls",
      "model_module_version": "1.5.0",
      "model_name": "LabelModel",
      "state": {
       "layout": "IPY_MODEL_6ea8456572ca4a02be95fb93d91212b9",
       "style": "IPY_MODEL_8ea606973a734c6a872cdba6a15b0b3e",
       "value": "   objective"
      }
     },
     "2511aaa7487b4772be7092a4caeca61b": {
      "model_module": "@jupyter-widgets/controls",
      "model_module_version": "1.5.0",
      "model_name": "ButtonModel",
      "state": {
       "layout": "IPY_MODEL_d187ed6d1393406bb671877559e31fec",
       "style": "IPY_MODEL_20f82f5f0a414eccbb622280849ec49d"
      }
     },
     "251c524d0e9640b9b88245c524793de0": {
      "model_module": "@jupyter-widgets/controls",
      "model_module_version": "1.5.0",
      "model_name": "HBoxModel",
      "state": {
       "children": [
        "IPY_MODEL_b5a42be75ac241d0ac244ed5fc49ee47",
        "IPY_MODEL_419da86f948c442881e0967b96b4da5e",
        "IPY_MODEL_948fc1c497414466bb552eb55b81182b",
        "IPY_MODEL_5e4cda02fee948269b9a68f9c23fb81a"
       ],
       "layout": "IPY_MODEL_4bc46924e97d47ed823c765d937f14f3"
      }
     },
     "2560df4c5a51424aabef2fb40b6c8341": {
      "model_module": "@jupyter-widgets/base",
      "model_module_version": "1.2.0",
      "model_name": "LayoutModel",
      "state": {}
     },
     "2591fd0cba414e1aba70d9e186f1290a": {
      "model_module": "@jupyter-widgets/controls",
      "model_module_version": "1.5.0",
      "model_name": "ButtonStyleModel",
      "state": {}
     },
     "259379c31f4f4d0e86a59ff8de86c8e9": {
      "model_module": "@jupyter-widgets/controls",
      "model_module_version": "1.5.0",
      "model_name": "ButtonModel",
      "state": {
       "description": "EDIT",
       "layout": "IPY_MODEL_0279d91da6324a6ea402294a7d87e30e",
       "style": "IPY_MODEL_f0f2e9c6936b414aa005eca0b41d5545"
      }
     },
     "25994e8a967748cfbe6c39578c355068": {
      "model_module": "@jupyter-widgets/base",
      "model_module_version": "1.2.0",
      "model_name": "LayoutModel",
      "state": {
       "overflow": "visible",
       "width": "100%"
      }
     },
     "25ad3eda14134d758bc6e61a86d3cc1b": {
      "model_module": "@jupyter-widgets/controls",
      "model_module_version": "1.5.0",
      "model_name": "ButtonStyleModel",
      "state": {}
     },
     "25b852f390ae481f92c4055b1178cdd8": {
      "model_module": "@jupyter-widgets/controls",
      "model_module_version": "1.5.0",
      "model_name": "IntProgressModel",
      "state": {
       "layout": "IPY_MODEL_540b4c2bbfe44c948c2e3dfe47a040fa",
       "style": "IPY_MODEL_20e3dc074799446a87ac8f568d6ea74a",
       "value": 30
      }
     },
     "25bb4d81164a47a787786faae0682f97": {
      "model_module": "@jupyter-widgets/base",
      "model_module_version": "1.2.0",
      "model_name": "LayoutModel",
      "state": {
       "display": "flex",
       "flex_flow": "row wrap"
      }
     },
     "2615183148aa4dd6b2bafae42e087a83": {
      "model_module": "@jupyter-widgets/controls",
      "model_module_version": "1.5.0",
      "model_name": "IntProgressModel",
      "state": {
       "layout": "IPY_MODEL_6d36a48d3f4d4f8f8bb18db816294888",
       "style": "IPY_MODEL_ef350d7c128d4626bb2e4f319e9de4c3",
       "value": 30
      }
     },
     "261ec1315af64f058b09d0088de77a7b": {
      "model_module": "@jupyter-widgets/controls",
      "model_module_version": "1.5.0",
      "model_name": "ButtonModel",
      "state": {
       "layout": "IPY_MODEL_758a69008c7040dbbdb3034254b8ff12",
       "style": "IPY_MODEL_a561158240c1466f9abd4d34cba7ea0d"
      }
     },
     "26305c7c8e3c43df9a98ef97f6f17044": {
      "model_module": "@jupyter-widgets/controls",
      "model_module_version": "1.5.0",
      "model_name": "HBoxModel",
      "state": {
       "children": [
        "IPY_MODEL_fdf90d597a3344edb9c3a4d5d3805dc1",
        "IPY_MODEL_1b6d5133df804eed98f0767c089e5d51",
        "IPY_MODEL_e7359e5f89c24f5c912e07141bb64afd",
        "IPY_MODEL_854db4d025aa4cb1b4732c2334ed3b57"
       ],
       "layout": "IPY_MODEL_fd855aa0d6914e1ca0c10ea9664a4147"
      }
     },
     "264e70c670d345e6af95290f5cc86b36": {
      "model_module": "@jupyter-widgets/base",
      "model_module_version": "1.2.0",
      "model_name": "LayoutModel",
      "state": {
       "order": "-1",
       "overflow": "visible",
       "padding": "1px",
       "width": "0px"
      }
     },
     "2674ac6a03dc4c3fac737de1c39bd373": {
      "model_module": "@jupyter-widgets/controls",
      "model_module_version": "1.5.0",
      "model_name": "ButtonModel",
      "state": {
       "layout": "IPY_MODEL_3515b3e123d94542a722f02b9792b50f",
       "style": "IPY_MODEL_69b714dda64749cda1c365ca69002405"
      }
     },
     "26994ced48ce435f9aa1c927da48fd04": {
      "model_module": "@jupyter-widgets/base",
      "model_module_version": "1.2.0",
      "model_name": "LayoutModel",
      "state": {
       "display": "none"
      }
     },
     "26a3d71289f84d689c8055278fe1c814": {
      "model_module": "@jupyter-widgets/controls",
      "model_module_version": "1.5.0",
      "model_name": "IntProgressModel",
      "state": {
       "layout": "IPY_MODEL_625772f54be24a19873ca5f805112304",
       "style": "IPY_MODEL_28782e82cf4a4a4fa37632093efc79bb",
       "value": 30
      }
     },
     "26aea6f09a67478eacd19ba3f3ca2284": {
      "model_module": "@jupyter-widgets/base",
      "model_module_version": "1.2.0",
      "model_name": "LayoutModel",
      "state": {
       "display": "none",
       "width": "95%"
      }
     },
     "26b919bbb23f4e318ea7f609f5f880ca": {
      "model_module": "@jupyter-widgets/controls",
      "model_module_version": "1.5.0",
      "model_name": "ButtonModel",
      "state": {
       "description": "EDIT",
       "layout": "IPY_MODEL_597ebe16902c4a958308c04eef1b894f",
       "style": "IPY_MODEL_b11892ceff3749ae8583551406091cb1"
      }
     },
     "26b9ae2d5a11482a925262bc4eb1f208": {
      "model_module": "@jupyter-widgets/base",
      "model_module_version": "1.2.0",
      "model_name": "LayoutModel",
      "state": {
       "display": "none"
      }
     },
     "26ca8bda13f544588504338e6d5a6e12": {
      "model_module": "@jupyter-widgets/base",
      "model_module_version": "1.2.0",
      "model_name": "LayoutModel",
      "state": {
       "display": "none",
       "width": "60px"
      }
     },
     "26e73d4ee45a40c9ad1c4c55100af9a5": {
      "model_module": "@jupyter-widgets/controls",
      "model_module_version": "1.5.0",
      "model_name": "IntProgressModel",
      "state": {
       "layout": "IPY_MODEL_7edd38eea00940958341ff41d3a6e7f1",
       "style": "IPY_MODEL_03c15e5826f741ebb6db837e4e21b268",
       "value": 30
      }
     },
     "2717c9cfe51b4121b407a8fdfe9685be": {
      "model_module": "@jupyter-widgets/base",
      "model_module_version": "1.2.0",
      "model_name": "LayoutModel",
      "state": {}
     },
     "272f2a8f22784694b74f1b5d624a97a9": {
      "model_module": "@jupyter-widgets/controls",
      "model_module_version": "1.5.0",
      "model_name": "IntProgressModel",
      "state": {
       "layout": "IPY_MODEL_c2ffebbcd617463094b4a0627cfa913f",
       "style": "IPY_MODEL_d4664b4ada734ad19898a5680593439b",
       "value": 30
      }
     },
     "2731eb2590ae46c58fedf080165c98bb": {
      "model_module": "@jupyter-widgets/controls",
      "model_module_version": "1.5.0",
      "model_name": "HTMLModel",
      "state": {
       "layout": "IPY_MODEL_dc6de438cf6d4055a5cab9f82f6cc43d",
       "style": "IPY_MODEL_124c9b3686844140854f61d197c6b56d",
       "value": "Task"
      }
     },
     "275f082d271e49b98eecc372e5c3f001": {
      "model_module": "@jupyter-widgets/controls",
      "model_module_version": "1.5.0",
      "model_name": "HBoxModel",
      "state": {
       "children": [
        "IPY_MODEL_1788c0553dcd4fc5ac6ef09d41a1fa73",
        "IPY_MODEL_abc642fc41e440bb9a87d0fa92a89159",
        "IPY_MODEL_15afd570ae324ce78cf25829b92fd4be",
        "IPY_MODEL_057298eacabb444b812340f79b3d7828"
       ],
       "layout": "IPY_MODEL_4ab84530ec73453d9d0a77d54354755f"
      }
     },
     "27a3172f902f40e1b68e189fe59fc40a": {
      "model_module": "@jupyter-widgets/controls",
      "model_module_version": "1.5.0",
      "model_name": "LabelModel",
      "state": {
       "layout": "IPY_MODEL_f6bfbb87db3940ef9e5db7f53d02b332",
       "style": "IPY_MODEL_e3ccc0b67e0848f4a04e573ae75daeb6",
       "value": "   objective"
      }
     },
     "27b9727a0fe04112b7c7074289d66786": {
      "model_module": "@jupyter-widgets/base",
      "model_module_version": "1.2.0",
      "model_name": "LayoutModel",
      "state": {
       "display": "flex"
      }
     },
     "27d49a1d73294c4daa10b5970ab293d9": {
      "model_module": "@jupyter-widgets/controls",
      "model_module_version": "1.5.0",
      "model_name": "ProgressStyleModel",
      "state": {
       "description_width": ""
      }
     },
     "27db0e7e804941358ac7ef8c7c7981db": {
      "model_module": "@jupyter-widgets/controls",
      "model_module_version": "1.5.0",
      "model_name": "HBoxModel",
      "state": {
       "children": [
        "IPY_MODEL_8127ddf0305843daa1cf1b2d70cc19d1",
        "IPY_MODEL_6110968138ec4ad4a840f9293a788361"
       ],
       "layout": "IPY_MODEL_5a7cd5c9c32e4f2284f0591870b9821d"
      }
     },
     "282671f06ac9413ea045ad11d6869627": {
      "model_module": "@jupyter-widgets/controls",
      "model_module_version": "1.5.0",
      "model_name": "ButtonModel",
      "state": {
       "layout": "IPY_MODEL_96e0cd0ab8df42b793a4fd68c0e9ac92",
       "style": "IPY_MODEL_90c737e629f24704bca72b6253a0dff5"
      }
     },
     "284b9f0cef324a0a9710d3b20060e212": {
      "model_module": "@jupyter-widgets/controls",
      "model_module_version": "1.5.0",
      "model_name": "ProgressStyleModel",
      "state": {
       "description_width": ""
      }
     },
     "286cd809432f475f97ec004dc088c014": {
      "model_module": "@jupyter-widgets/base",
      "model_module_version": "1.2.0",
      "model_name": "LayoutModel",
      "state": {
       "height": "32px",
       "overflow": "visible",
       "width": "100%"
      }
     },
     "28782e82cf4a4a4fa37632093efc79bb": {
      "model_module": "@jupyter-widgets/controls",
      "model_module_version": "1.5.0",
      "model_name": "ProgressStyleModel",
      "state": {
       "description_width": ""
      }
     },
     "28c5f527328c424c93e776cc2a9a02b3": {
      "model_module": "@jupyter-widgets/controls",
      "model_module_version": "1.5.0",
      "model_name": "LabelModel",
      "state": {
       "layout": "IPY_MODEL_c8415b5806964fa5af3349c418c48bb3",
       "style": "IPY_MODEL_67710b3e5cb64e61a7f2e201fc5cee8d",
       "value": "   objective"
      }
     },
     "28e30c0f89ba440ca2752105392d6952": {
      "model_module": "@jupyter-widgets/base",
      "model_module_version": "1.2.0",
      "model_name": "LayoutModel",
      "state": {
       "height": "32px",
       "order": "-2",
       "width": "32px"
      }
     },
     "28edfadf56384805ba2570fa3f02f5e0": {
      "model_module": "@jupyter-widgets/controls",
      "model_module_version": "1.5.0",
      "model_name": "VBoxModel",
      "state": {
       "children": [
        "IPY_MODEL_4ef4af3fdb3945839388e2889a86da68",
        "IPY_MODEL_f867e64a1537453dbb2c301b127cbdc5",
        "IPY_MODEL_47320c603d2f44d69ae238175497b683"
       ],
       "layout": "IPY_MODEL_d410a7e3145c413b8c54929ad3d5a0a6"
      }
     },
     "28ef0a52b7b9421b9595ee0a4481915f": {
      "model_module": "@jupyter-widgets/base",
      "model_module_version": "1.2.0",
      "model_name": "LayoutModel",
      "state": {
       "display": "none"
      }
     },
     "2900b8cf62fb439d86b317a184965c34": {
      "model_module": "@jupyter-widgets/controls",
      "model_module_version": "1.5.0",
      "model_name": "DescriptionStyleModel",
      "state": {
       "description_width": ""
      }
     },
     "290888ba4c2d4776aae53c7cab75fd2e": {
      "model_module": "@jupyter-widgets/base",
      "model_module_version": "1.2.0",
      "model_name": "LayoutModel",
      "state": {
       "height": "32px",
       "order": "-2",
       "width": "32px"
      }
     },
     "29390f2668da4c28b3b63a872030910b": {
      "model_module": "@jupyter-widgets/controls",
      "model_module_version": "1.5.0",
      "model_name": "ButtonModel",
      "state": {
       "description": "EDIT",
       "layout": "IPY_MODEL_46f8afaf5f334dbfb92957ec4888c097",
       "style": "IPY_MODEL_b386404468f441bd87cb8c07f278c684"
      }
     },
     "293abd9bb6404c96b751eb40aeeef09f": {
      "model_module": "@jupyter-widgets/controls",
      "model_module_version": "1.5.0",
      "model_name": "ProgressStyleModel",
      "state": {
       "description_width": ""
      }
     },
     "2954b14d3d184967af2214928f950355": {
      "model_module": "@jupyter-widgets/controls",
      "model_module_version": "1.5.0",
      "model_name": "LabelModel",
      "state": {
       "layout": "IPY_MODEL_9061734213484550a9048b85923f3dfe",
       "style": "IPY_MODEL_530c4b92fc694ec7af6b7945d2d4cc32",
       "value": "   objective"
      }
     },
     "29593c5fd8534255a372349aa87a41cd": {
      "model_module": "@jupyter-widgets/controls",
      "model_module_version": "1.5.0",
      "model_name": "ProgressStyleModel",
      "state": {
       "description_width": ""
      }
     },
     "29bf079f6c90430685e8e331ae10c89e": {
      "model_module": "@jupyter-widgets/controls",
      "model_module_version": "1.5.0",
      "model_name": "ButtonStyleModel",
      "state": {}
     },
     "29eacd8df767441b8d3f9af33e738a90": {
      "model_module": "@jupyter-widgets/controls",
      "model_module_version": "1.5.0",
      "model_name": "DescriptionStyleModel",
      "state": {
       "description_width": ""
      }
     },
     "2a19f652ed434119970e99c14abd9964": {
      "model_module": "@jupyter-widgets/controls",
      "model_module_version": "1.5.0",
      "model_name": "VBoxModel",
      "state": {
       "children": [
        "IPY_MODEL_5c5bba9474b54a3d9e07169618efbd0e",
        "IPY_MODEL_cbf8be40d7084863ab7b77dcc28648b7",
        "IPY_MODEL_83ca4b56c27b4fa4b4478d910c98e44d"
       ],
       "layout": "IPY_MODEL_031e8fe8f542432fb831dd98564646e5"
      }
     },
     "2a68dda3b2b942ac89e3c5954db3fc3c": {
      "model_module": "@jupyter-widgets/base",
      "model_module_version": "1.2.0",
      "model_name": "LayoutModel",
      "state": {
       "display": "none"
      }
     },
     "2a9f22f806ec48c5866cca9e7fd2f402": {
      "model_module": "@jupyter-widgets/base",
      "model_module_version": "1.2.0",
      "model_name": "LayoutModel",
      "state": {
       "order": "-1",
       "overflow": "visible",
       "padding": "1px",
       "width": "0px"
      }
     },
     "2aabf4120aeb4533bb015072bdea8034": {
      "model_module": "@jupyter-widgets/base",
      "model_module_version": "1.2.0",
      "model_name": "LayoutModel",
      "state": {
       "display": "none",
       "width": "60px"
      }
     },
     "2aae24036f3048e0864935ede346cd4c": {
      "model_module": "@jupyter-widgets/controls",
      "model_module_version": "1.5.0",
      "model_name": "ButtonStyleModel",
      "state": {}
     },
     "2afd4ddc8def4173b8d87c01b0eca337": {
      "model_module": "@jupyter-widgets/controls",
      "model_module_version": "1.5.0",
      "model_name": "ButtonModel",
      "state": {
       "layout": "IPY_MODEL_b00c338bae8b49bf827b4f35b9ab4ccb",
       "style": "IPY_MODEL_de8f89a42e5b429ca5f45ea5dcf7db75"
      }
     },
     "2b03890861834cbdb5d282ce4e307dde": {
      "model_module": "@jupyter-widgets/controls",
      "model_module_version": "1.5.0",
      "model_name": "ButtonModel",
      "state": {
       "description": "EDIT",
       "layout": "IPY_MODEL_2d1bd105ffaf4e7ebe7c84327a5b7fec",
       "style": "IPY_MODEL_b1af9a8597e6466b93d9237528f77391"
      }
     },
     "2b5f90fadb9e493ea979111c83149606": {
      "model_module": "@jupyter-widgets/controls",
      "model_module_version": "1.5.0",
      "model_name": "DescriptionStyleModel",
      "state": {
       "description_width": ""
      }
     },
     "2b6400891c7347dea2e7af294b1bcdb6": {
      "model_module": "@jupyter-widgets/controls",
      "model_module_version": "1.5.0",
      "model_name": "IntProgressModel",
      "state": {
       "layout": "IPY_MODEL_a7f32e09a47c43468a4b26746438b484",
       "max": 1,
       "style": "IPY_MODEL_8df94e9a0866468481c403d54622547e"
      }
     },
     "2b8fd7a2275548b3b07cf9f31a72c05a": {
      "model_module": "@jupyter-widgets/controls",
      "model_module_version": "1.5.0",
      "model_name": "VBoxModel",
      "state": {
       "children": [
        "IPY_MODEL_b07be576feb842ff99aa5ef5ba59e265",
        "IPY_MODEL_c88c76f8e623427dba0ac299bd786e13",
        "IPY_MODEL_fa017060ba294305a07458978d640a38",
        "IPY_MODEL_8a459f445cf149259bc0b8930b643a2e"
       ],
       "layout": "IPY_MODEL_417a3fe7d6dd49f4b54009934ed20c38"
      }
     },
     "2bd0524c5e894b8ab791e21e2e1c14b7": {
      "model_module": "@jupyter-widgets/controls",
      "model_module_version": "1.5.0",
      "model_name": "HTMLModel",
      "state": {
       "layout": "IPY_MODEL_653feed579df422993771a966b485160",
       "style": "IPY_MODEL_a748728f1f7d46fcad6a832cad29eccd",
       "value": "<font size=\"5\"><b>The Witch</b></font size=>"
      }
     },
     "2c090cebe5c7429d83e082581bdba225": {
      "model_module": "@jupyter-widgets/controls",
      "model_module_version": "1.5.0",
      "model_name": "DescriptionStyleModel",
      "state": {
       "description_width": ""
      }
     },
     "2c27d44a8a0b4290b7733216fce56723": {
      "model_module": "@jupyter-widgets/controls",
      "model_module_version": "1.5.0",
      "model_name": "ButtonModel",
      "state": {
       "description": "EDIT",
       "layout": "IPY_MODEL_a9b4d0e79e2f404aa1191fa33ff4d2bc",
       "style": "IPY_MODEL_20a202756e1e40169dc848990c3c5bd7"
      }
     },
     "2c329f306a38463393d80cd468aee955": {
      "model_module": "@jupyter-widgets/base",
      "model_module_version": "1.2.0",
      "model_name": "LayoutModel",
      "state": {
       "display": "none"
      }
     },
     "2c4fa65f476e44d79f95be1ac3785c0b": {
      "model_module": "@jupyter-widgets/controls",
      "model_module_version": "1.5.0",
      "model_name": "DescriptionStyleModel",
      "state": {
       "description_width": ""
      }
     },
     "2c53e80ab5f649d4965daf2826234582": {
      "model_module": "@jupyter-widgets/controls",
      "model_module_version": "1.5.0",
      "model_name": "ButtonModel",
      "state": {
       "layout": "IPY_MODEL_12eaf3f229794e76ab725b4bcdf373e6",
       "style": "IPY_MODEL_6b263ae1b99e483c9aefe5e69823b851"
      }
     },
     "2c5d648af55e48258ee0bbf17a85bcc3": {
      "model_module": "@jupyter-widgets/controls",
      "model_module_version": "1.5.0",
      "model_name": "DescriptionStyleModel",
      "state": {
       "description_width": ""
      }
     },
     "2c82e3f203ce4ae3b0b4494fc69c87d9": {
      "model_module": "@jupyter-widgets/base",
      "model_module_version": "1.2.0",
      "model_name": "LayoutModel",
      "state": {
       "height": "32px",
       "overflow": "visible",
       "width": "100%"
      }
     },
     "2c96ee11e33245dea2a2882719b6e554": {
      "model_module": "@jupyter-widgets/controls",
      "model_module_version": "1.5.0",
      "model_name": "DescriptionStyleModel",
      "state": {
       "description_width": ""
      }
     },
     "2c978bdb87574c67b9422b95733362de": {
      "model_module": "@jupyter-widgets/controls",
      "model_module_version": "1.5.0",
      "model_name": "ButtonModel",
      "state": {
       "description": "EDIT",
       "layout": "IPY_MODEL_fba7aa52c9d545bca7e3e4437d802381",
       "style": "IPY_MODEL_42c3ea7e85be4aca9b1f01f0ce94c658"
      }
     },
     "2c9bb8ad744d4b35873df5d2e26d7c55": {
      "model_module": "@jupyter-widgets/controls",
      "model_module_version": "1.5.0",
      "model_name": "LabelModel",
      "state": {
       "layout": "IPY_MODEL_fe60bfb477b44499a1d6a8d3c4021adc",
       "style": "IPY_MODEL_39a544921e7e4a03a0dd459b6ca20969",
       "value": "   objective"
      }
     },
     "2d1bd105ffaf4e7ebe7c84327a5b7fec": {
      "model_module": "@jupyter-widgets/base",
      "model_module_version": "1.2.0",
      "model_name": "LayoutModel",
      "state": {
       "display": "none",
       "width": "60px"
      }
     },
     "2d1c9dc9051f4ac4bf3a1f825d665c08": {
      "model_module": "@jupyter-widgets/controls",
      "model_module_version": "1.5.0",
      "model_name": "DescriptionStyleModel",
      "state": {
       "description_width": ""
      }
     },
     "2d6c27578f0c4abd8ee0e925d882cc8b": {
      "model_module": "@jupyter-widgets/controls",
      "model_module_version": "1.5.0",
      "model_name": "ProgressStyleModel",
      "state": {
       "description_width": ""
      }
     },
     "2d8a5b2292fb479a8ef1ebad3d4e7d93": {
      "model_module": "@jupyter-widgets/base",
      "model_module_version": "1.2.0",
      "model_name": "LayoutModel",
      "state": {
       "display": "none",
       "width": "60px"
      }
     },
     "2d8b9e15300d4e4f90a519d40e56156d": {
      "model_module": "@jupyter-widgets/controls",
      "model_module_version": "1.5.0",
      "model_name": "DescriptionStyleModel",
      "state": {
       "description_width": ""
      }
     },
     "2de22f974814485e9b54d7848b52249e": {
      "model_module": "@jupyter-widgets/controls",
      "model_module_version": "1.5.0",
      "model_name": "ProgressStyleModel",
      "state": {
       "description_width": ""
      }
     },
     "2df50d58d694478181b0a0acc66cc1f5": {
      "model_module": "@jupyter-widgets/controls",
      "model_module_version": "1.5.0",
      "model_name": "DropdownModel",
      "state": {
       "_options_labels": [
        "All"
       ],
       "index": 0,
       "layout": "IPY_MODEL_a9d6d77dec2b4b699af0b9c88512d721",
       "style": "IPY_MODEL_e35c1a498ca1472ea7cd16889c11f9b1"
      }
     },
     "2eb7ad1a08f145a58823111ccb8e3fd7": {
      "model_module": "@jupyter-widgets/controls",
      "model_module_version": "1.5.0",
      "model_name": "ButtonModel",
      "state": {
       "layout": "IPY_MODEL_3654faf2cb37444783c9731342e723b8",
       "style": "IPY_MODEL_ca68fff90cec48ddac0a33b4f79c8c24"
      }
     },
     "2f25c61fc3fc470db4fc348cc36b1850": {
      "model_module": "@jupyter-widgets/controls",
      "model_module_version": "1.5.0",
      "model_name": "HBoxModel",
      "state": {
       "children": [
        "IPY_MODEL_55cdbdd6893e42ec9a83cc7103b4199a",
        "IPY_MODEL_6fafac14dd7343d4946ba2d591bd93eb",
        "IPY_MODEL_9e5050f38d3d4849bdcfde2b55d5682e",
        "IPY_MODEL_136d1840ff6f4ab9b6fc73a9b5babf0e"
       ],
       "layout": "IPY_MODEL_f570950ae45949fe9dbd8c1f5c9a6ae1"
      }
     },
     "2f86cf4049ba41cb8bfa89e8f30b953c": {
      "model_module": "@jupyter-widgets/controls",
      "model_module_version": "1.5.0",
      "model_name": "HBoxModel",
      "state": {
       "children": [
        "IPY_MODEL_282671f06ac9413ea045ad11d6869627",
        "IPY_MODEL_e3f6d66621ee4f13ae42f8abede4a278",
        "IPY_MODEL_09a3e0d8146d4e6e84ead9c49a9cdf9c",
        "IPY_MODEL_d89dbbd046724f4abb1ab89e45c9b970"
       ],
       "layout": "IPY_MODEL_33aed6b86a274bc1abea8cd74db370a1"
      }
     },
     "2fdcddd5dbdd47aaaca696003f4762c5": {
      "model_module": "@jupyter-widgets/controls",
      "model_module_version": "1.5.0",
      "model_name": "ButtonStyleModel",
      "state": {}
     },
     "2feb720601324293a64e377045dd7c5d": {
      "model_module": "@jupyter-widgets/controls",
      "model_module_version": "1.5.0",
      "model_name": "HBoxModel",
      "state": {
       "children": [
        "IPY_MODEL_2eb7ad1a08f145a58823111ccb8e3fd7",
        "IPY_MODEL_6a353e7ac06d4e2e88c35c93dd1e470c",
        "IPY_MODEL_84a0cfc6fca14c15b5cc1fe194248df2",
        "IPY_MODEL_8feaf5ccfa84425aab34d145cbe04792"
       ],
       "layout": "IPY_MODEL_130d4a37b5de447e8c73a12da0b60f4d"
      }
     },
     "3009c59beba8410ebac3180c7170ad43": {
      "model_module": "@jupyter-widgets/base",
      "model_module_version": "1.2.0",
      "model_name": "LayoutModel",
      "state": {
       "border": "2px solid #00bcd4",
       "width": "98%"
      }
     },
     "3009d786179c46ac8653783693f83b86": {
      "model_module": "@jupyter-widgets/controls",
      "model_module_version": "1.5.0",
      "model_name": "IntProgressModel",
      "state": {
       "layout": "IPY_MODEL_50fff84e218449d89406357d5afac51a",
       "style": "IPY_MODEL_7cb9f7c8272843c388edf19ca5df3abd",
       "value": 30
      }
     },
     "302c1fbfa7d34a9f9a98e88c0b0a7d8a": {
      "model_module": "@jupyter-widgets/controls",
      "model_module_version": "1.5.0",
      "model_name": "ButtonStyleModel",
      "state": {}
     },
     "304336c5d693485c99ec1ca92e00bbc7": {
      "model_module": "@jupyter-widgets/base",
      "model_module_version": "1.2.0",
      "model_name": "LayoutModel",
      "state": {
       "display": "none"
      }
     },
     "305cb442011a4759b997a4cd0664113f": {
      "model_module": "@jupyter-widgets/base",
      "model_module_version": "1.2.0",
      "model_name": "LayoutModel",
      "state": {
       "order": "-1",
       "overflow": "visible",
       "padding": "1px",
       "width": "0px"
      }
     },
     "30a843a8a7ec458594c3122c05dc43f2": {
      "model_module": "@jupyter-widgets/base",
      "model_module_version": "1.2.0",
      "model_name": "LayoutModel",
      "state": {
       "height": "32px",
       "overflow": "visible",
       "width": "100%"
      }
     },
     "30f490e2c45d45aba4ca457fae45db34": {
      "model_module": "@jupyter-widgets/controls",
      "model_module_version": "1.5.0",
      "model_name": "IntProgressModel",
      "state": {
       "layout": "IPY_MODEL_960318fa3cf241c3955344b2bf21bf17",
       "style": "IPY_MODEL_10dd46415ee54f4aac13074758ec1943",
       "value": 30
      }
     },
     "3111941aa8b5495aae5a50e1e30b6344": {
      "model_module": "@jupyter-widgets/controls",
      "model_module_version": "1.5.0",
      "model_name": "ProgressStyleModel",
      "state": {
       "description_width": ""
      }
     },
     "316f444ae5904e8f96e3d42ef59b04fa": {
      "model_module": "@jupyter-widgets/controls",
      "model_module_version": "1.5.0",
      "model_name": "IntProgressModel",
      "state": {
       "layout": "IPY_MODEL_de792867d9d84b138fd65ebb3f7f68cb",
       "style": "IPY_MODEL_0424a47ec94e46a1bd12b8af4333e2bd",
       "value": 30
      }
     },
     "31aa6965d2804d8583314710eaddd8a4": {
      "model_module": "@jupyter-widgets/base",
      "model_module_version": "1.2.0",
      "model_name": "LayoutModel",
      "state": {}
     },
     "31c3c5db6cb9418cadbf2504959866db": {
      "model_module": "@jupyter-widgets/controls",
      "model_module_version": "1.5.0",
      "model_name": "ButtonStyleModel",
      "state": {}
     },
     "31dce67f4abe479b93ef7b81d4709f12": {
      "model_module": "@jupyter-widgets/controls",
      "model_module_version": "1.5.0",
      "model_name": "DescriptionStyleModel",
      "state": {
       "description_width": ""
      }
     },
     "3262c502a43c4be5a68680cdb83e13f9": {
      "model_module": "@jupyter-widgets/base",
      "model_module_version": "1.2.0",
      "model_name": "LayoutModel",
      "state": {}
     },
     "32685834666f488db74e063a3c5bb36f": {
      "model_module": "@jupyter-widgets/controls",
      "model_module_version": "1.5.0",
      "model_name": "DropdownModel",
      "state": {
       "_options_labels": [
        "Any",
        "Arc",
        "Solar",
        "Void"
       ],
       "index": 0,
       "layout": "IPY_MODEL_dfd5c6303e934458b6257be1b14f92ef",
       "style": "IPY_MODEL_e9c07c79d0cf46e89d876e3f51f8259a"
      }
     },
     "326a873c508447a0a2d644fea28c79cf": {
      "model_module": "@jupyter-widgets/controls",
      "model_module_version": "1.5.0",
      "model_name": "LabelModel",
      "state": {
       "layout": "IPY_MODEL_b44a3d2db53a49b68881366bb9fe6c16",
       "style": "IPY_MODEL_e9e7986feffb4bb1b313954c95164cd5",
       "value": "   objective"
      }
     },
     "32ae745bfcd04c158aab6e894d451240": {
      "model_module": "@jupyter-widgets/controls",
      "model_module_version": "1.5.0",
      "model_name": "HBoxModel",
      "state": {
       "children": [
        "IPY_MODEL_cdfe845a4355414ba3e7704cec9cfd42",
        "IPY_MODEL_b45cdaf6a1914d25bc5a4242a184b6fc"
       ],
       "layout": "IPY_MODEL_3262c502a43c4be5a68680cdb83e13f9"
      }
     },
     "32d570a189d24a5ea4549f380404ef19": {
      "model_module": "@jupyter-widgets/controls",
      "model_module_version": "1.5.0",
      "model_name": "IntProgressModel",
      "state": {
       "layout": "IPY_MODEL_51d8b44870e3416dbedb7c1c0116561d",
       "style": "IPY_MODEL_61d1417b667f4bc19569e47bc178ac83",
       "value": 30
      }
     },
     "32f618aaaa3f49e39ec228eef36f50d0": {
      "model_module": "@jupyter-widgets/controls",
      "model_module_version": "1.5.0",
      "model_name": "DescriptionStyleModel",
      "state": {
       "description_width": ""
      }
     },
     "32fdb2845b4441e5bbadd5c19c790a58": {
      "model_module": "@jupyter-widgets/controls",
      "model_module_version": "1.5.0",
      "model_name": "ButtonStyleModel",
      "state": {}
     },
     "3348dd41948e4494ab07324dbc42a114": {
      "model_module": "@jupyter-widgets/controls",
      "model_module_version": "1.5.0",
      "model_name": "DescriptionStyleModel",
      "state": {
       "description_width": ""
      }
     },
     "33874aecdd404924a5887dd739929c94": {
      "model_module": "@jupyter-widgets/base",
      "model_module_version": "1.2.0",
      "model_name": "LayoutModel",
      "state": {}
     },
     "338e4a43282a4d9599cede20dc15966b": {
      "model_module": "@jupyter-widgets/base",
      "model_module_version": "1.2.0",
      "model_name": "LayoutModel",
      "state": {
       "display": "none",
       "width": "60px"
      }
     },
     "33aac031552445a59335aa89a89bd388": {
      "model_module": "@jupyter-widgets/base",
      "model_module_version": "1.2.0",
      "model_name": "LayoutModel",
      "state": {}
     },
     "33aed6b86a274bc1abea8cd74db370a1": {
      "model_module": "@jupyter-widgets/base",
      "model_module_version": "1.2.0",
      "model_name": "LayoutModel",
      "state": {
       "display": "flex"
      }
     },
     "3460d43d24b74f65a5b4c06a8a9479ff": {
      "model_module": "@jupyter-widgets/base",
      "model_module_version": "1.2.0",
      "model_name": "LayoutModel",
      "state": {
       "height": "32px",
       "order": "-2",
       "width": "32px"
      }
     },
     "346371b6ced94901a10cba1029b21014": {
      "model_module": "@jupyter-widgets/base",
      "model_module_version": "1.2.0",
      "model_name": "LayoutModel",
      "state": {
       "display": "flex"
      }
     },
     "346d4e8c58e5432e87c1d61a4de0059b": {
      "model_module": "@jupyter-widgets/controls",
      "model_module_version": "1.5.0",
      "model_name": "ButtonModel",
      "state": {
       "description": "EDIT",
       "layout": "IPY_MODEL_ab06df5f249a4559b0be7295390af7a7",
       "style": "IPY_MODEL_cca668602d3d46558d4a5a467c34bb10"
      }
     },
     "349aab7027a44b9ea3b5db07635c620f": {
      "model_module": "@jupyter-widgets/controls",
      "model_module_version": "1.5.0",
      "model_name": "DescriptionStyleModel",
      "state": {
       "description_width": ""
      }
     },
     "3515832bfe3f4fbcbbf6ff7b7fc5765f": {
      "model_module": "@jupyter-widgets/controls",
      "model_module_version": "1.5.0",
      "model_name": "ButtonStyleModel",
      "state": {}
     },
     "3515b3e123d94542a722f02b9792b50f": {
      "model_module": "@jupyter-widgets/base",
      "model_module_version": "1.2.0",
      "model_name": "LayoutModel",
      "state": {
       "height": "32px",
       "order": "-2",
       "width": "32px"
      }
     },
     "35504a72a8124e62a3dc309ec9f4e6e1": {
      "model_module": "@jupyter-widgets/controls",
      "model_module_version": "1.5.0",
      "model_name": "ButtonModel",
      "state": {
       "description": "EDIT",
       "layout": "IPY_MODEL_dfcc9ae822674c0e96803e6ffd00991b",
       "style": "IPY_MODEL_c651648956814f1c94c7e896534cc882"
      }
     },
     "355494209dfc4c04aece8a26d9211a7c": {
      "model_module": "@jupyter-widgets/base",
      "model_module_version": "1.2.0",
      "model_name": "LayoutModel",
      "state": {
       "height": "32px",
       "order": "-2",
       "width": "32px"
      }
     },
     "35566f3b2c1a457f936e29f81e9a3de9": {
      "model_module": "@jupyter-widgets/base",
      "model_module_version": "1.2.0",
      "model_name": "LayoutModel",
      "state": {
       "height": "32px",
       "order": "-2",
       "width": "32px"
      }
     },
     "35897bb0a19d46cdb01aa8722ab24e15": {
      "model_module": "@jupyter-widgets/controls",
      "model_module_version": "1.5.0",
      "model_name": "ButtonModel",
      "state": {
       "layout": "IPY_MODEL_188f1049f7364bbd8b91b65c231c616a",
       "style": "IPY_MODEL_a73c8000a99342adb826959a7aead4fe"
      }
     },
     "360e8d2e6ad24f41bfe666563c6750c5": {
      "model_module": "@jupyter-widgets/base",
      "model_module_version": "1.2.0",
      "model_name": "LayoutModel",
      "state": {
       "display": "none"
      }
     },
     "362265b138224c5494a4bb3be28a1121": {
      "model_module": "@jupyter-widgets/controls",
      "model_module_version": "1.5.0",
      "model_name": "ButtonStyleModel",
      "state": {}
     },
     "3654faf2cb37444783c9731342e723b8": {
      "model_module": "@jupyter-widgets/base",
      "model_module_version": "1.2.0",
      "model_name": "LayoutModel",
      "state": {
       "height": "32px",
       "order": "-2",
       "width": "32px"
      }
     },
     "3672018bdd3d412d8c06e42b04c9f0d6": {
      "model_module": "@jupyter-widgets/base",
      "model_module_version": "1.2.0",
      "model_name": "LayoutModel",
      "state": {
       "order": "-1",
       "overflow": "visible",
       "padding": "1px",
       "width": "0px"
      }
     },
     "369f6699ec5b4c1dbe0c92b30012a6aa": {
      "model_module": "@jupyter-widgets/controls",
      "model_module_version": "1.5.0",
      "model_name": "DescriptionStyleModel",
      "state": {
       "description_width": ""
      }
     },
     "36b6a861214f4b2c90af483b3f097940": {
      "model_module": "@jupyter-widgets/controls",
      "model_module_version": "1.5.0",
      "model_name": "ButtonModel",
      "state": {
       "description": "EDIT",
       "layout": "IPY_MODEL_adbbc7b5f4e146b3a55e91f7d5edf29a",
       "style": "IPY_MODEL_25ad3eda14134d758bc6e61a86d3cc1b"
      }
     },
     "36f7bb4c2a324964b452b259c196429c": {
      "model_module": "@jupyter-widgets/controls",
      "model_module_version": "1.5.0",
      "model_name": "ButtonModel",
      "state": {
       "button_style": "success",
       "description": "EDIT",
       "layout": "IPY_MODEL_6259457832014682b62d7c3236e1fe2e",
       "style": "IPY_MODEL_362265b138224c5494a4bb3be28a1121"
      }
     },
     "37107e75a1504e369f4a4c38c72ade1c": {
      "model_module": "@jupyter-widgets/controls",
      "model_module_version": "1.5.0",
      "model_name": "ButtonModel",
      "state": {
       "description": "EDIT",
       "layout": "IPY_MODEL_b573a107587d4e41b87192e3d23d9243",
       "style": "IPY_MODEL_a82452e95bb146b89559b25bf4e88631"
      }
     },
     "372539ec71e745c9a4dddd5708a3726a": {
      "model_module": "@jupyter-widgets/base",
      "model_module_version": "1.2.0",
      "model_name": "LayoutModel",
      "state": {
       "order": "-1",
       "overflow": "visible",
       "padding": "1px",
       "width": "0px"
      }
     },
     "373a207455f54af992d3abcf7259318f": {
      "model_module": "@jupyter-widgets/controls",
      "model_module_version": "1.5.0",
      "model_name": "HTMLModel",
      "state": {
       "layout": "IPY_MODEL_4b5b8c19fa3942478b4d929ea4b01e45",
       "style": "IPY_MODEL_959f58ef448f4247b7ac75f50cb24303",
       "value": "<font size=\"1\">Triumphs/Account/Moments of Triumph/Moments of Triumph/Skolas</font size=>"
      }
     },
     "37f84743d3b94a33930bdf59dcfb7ec9": {
      "model_module": "@jupyter-widgets/controls",
      "model_module_version": "1.5.0",
      "model_name": "HBoxModel",
      "state": {
       "children": [
        "IPY_MODEL_261ec1315af64f058b09d0088de77a7b",
        "IPY_MODEL_e9f813536c0348db99475bbcfe97b1ee",
        "IPY_MODEL_ad5d37d02d634e3aad4fb53b360eaab9",
        "IPY_MODEL_79fcd1b0ce1f48ec90cf451a58927c5d"
       ],
       "layout": "IPY_MODEL_e5fed33bf23f4f0b9de33e3382fbcbb8"
      }
     },
     "3838c67b1569435a9a743a55af0cb8c6": {
      "model_module": "@jupyter-widgets/controls",
      "model_module_version": "1.5.0",
      "model_name": "VBoxModel",
      "state": {
       "children": [
        "IPY_MODEL_ef16ee56765b42baa0f345660ec9b052",
        "IPY_MODEL_72ae76b792e34ef9a62c63418fe620f5",
        "IPY_MODEL_c79b28850e024806b0db74114fba44e9",
        "IPY_MODEL_44eb2238c5694e7b996b2b2f1c404ad1",
        "IPY_MODEL_1b2f2c6d74bf4599b10157663bb2167a",
        "IPY_MODEL_edfed8cfdbb94edaa1d9cd7b437d3c5c"
       ],
       "layout": "IPY_MODEL_cf97b9fb9a1a4ce885fbaa7338768616"
      }
     },
     "385cc18f991f43e492b2d11594bb2180": {
      "model_module": "@jupyter-widgets/base",
      "model_module_version": "1.2.0",
      "model_name": "LayoutModel",
      "state": {
       "display": "none"
      }
     },
     "3878341b7e234bcc85ee509c6dc64bf1": {
      "model_module": "@jupyter-widgets/base",
      "model_module_version": "1.2.0",
      "model_name": "LayoutModel",
      "state": {}
     },
     "387af6ce383143fa829534d2700d1302": {
      "model_module": "@jupyter-widgets/controls",
      "model_module_version": "1.5.0",
      "model_name": "ButtonStyleModel",
      "state": {}
     },
     "3888239c31cc4a8dba5f31c787484ff0": {
      "model_module": "@jupyter-widgets/base",
      "model_module_version": "1.2.0",
      "model_name": "LayoutModel",
      "state": {
       "overflow": "visible",
       "width": "100%"
      }
     },
     "38c8cb764dd94faaa145e2dba1167683": {
      "model_module": "@jupyter-widgets/controls",
      "model_module_version": "1.5.0",
      "model_name": "HBoxModel",
      "state": {
       "children": [
        "IPY_MODEL_5268fba03d6746ec9a4c2337c5d61ea5",
        "IPY_MODEL_2181776d7a6441afaefe5521d92eb221",
        "IPY_MODEL_f0407299380445aabb3a048a102d49ba",
        "IPY_MODEL_2221c150095d4476b16e0f03fa7fb049"
       ],
       "layout": "IPY_MODEL_209cfce040794c2da05168e20d33d205"
      }
     },
     "3930ea22070c4aca82bd81a9c4f137da": {
      "model_module": "@jupyter-widgets/controls",
      "model_module_version": "1.5.0",
      "model_name": "ButtonStyleModel",
      "state": {}
     },
     "3942e8ab07024055b871c07708bd0f4c": {
      "model_module": "@jupyter-widgets/base",
      "model_module_version": "1.2.0",
      "model_name": "LayoutModel",
      "state": {
       "height": "32px",
       "overflow": "visible",
       "width": "100%"
      }
     },
     "395554e0efab48de8c885fea710cfc97": {
      "model_module": "@jupyter-widgets/controls",
      "model_module_version": "1.5.0",
      "model_name": "HBoxModel",
      "state": {
       "children": [
        "IPY_MODEL_2afd4ddc8def4173b8d87c01b0eca337",
        "IPY_MODEL_76b6b87ed86c46be8c585b29cf1d6fd3",
        "IPY_MODEL_27a3172f902f40e1b68e189fe59fc40a",
        "IPY_MODEL_94da7f015ffa4ab69f7b9c19e7e6ec55"
       ],
       "layout": "IPY_MODEL_2a68dda3b2b942ac89e3c5954db3fc3c"
      }
     },
     "397079c3c4494f49a3cae1f9c2805b9d": {
      "model_module": "@jupyter-widgets/controls",
      "model_module_version": "1.5.0",
      "model_name": "LabelModel",
      "state": {
       "layout": "IPY_MODEL_154550c3627341d0a47c6ef7761ed77e",
       "style": "IPY_MODEL_9475bd1b92e54b15a541929acd81e201",
       "value": "Class:"
      }
     },
     "39a3e01131a74e7d8f9f70dbed59f5c2": {
      "model_module": "@jupyter-widgets/controls",
      "model_module_version": "1.5.0",
      "model_name": "HTMLModel",
      "state": {
       "layout": "IPY_MODEL_030c90a52a784c97b9325006c652bb72",
       "style": "IPY_MODEL_ff03e7c221a142119585696c87090254",
       "value": "<font size=\"1\">Triumphs/Seasonal/Events/The Revelry 2019/Budding Fashion</font size=>"
      }
     },
     "39a544921e7e4a03a0dd459b6ca20969": {
      "model_module": "@jupyter-widgets/controls",
      "model_module_version": "1.5.0",
      "model_name": "DescriptionStyleModel",
      "state": {
       "description_width": ""
      }
     },
     "39d00137ccc54b56a3a5b2e20def1da5": {
      "model_module": "@jupyter-widgets/controls",
      "model_module_version": "1.5.0",
      "model_name": "IntProgressModel",
      "state": {
       "layout": "IPY_MODEL_b0332233ebf54391ba19e743fcce23a5",
       "style": "IPY_MODEL_d00f1ee2581f4378bdb54f4293c5eeba",
       "value": 30
      }
     },
     "39fab35eded944f7a700fafd8faede66": {
      "model_module": "@jupyter-widgets/base",
      "model_module_version": "1.2.0",
      "model_name": "LayoutModel",
      "state": {
       "display": "none",
       "width": "60px"
      }
     },
     "3a10ea007c4043c59f56bda5c9ec875f": {
      "model_module": "@jupyter-widgets/base",
      "model_module_version": "1.2.0",
      "model_name": "LayoutModel",
      "state": {
       "display": "flex",
       "flex_flow": "row wrap"
      }
     },
     "3a74d13c6a46491bb3dc3b60dcacca44": {
      "model_module": "@jupyter-widgets/base",
      "model_module_version": "1.2.0",
      "model_name": "LayoutModel",
      "state": {
       "display": "none"
      }
     },
     "3a785c53f8d146bfa328ccd1534bcd1a": {
      "model_module": "@jupyter-widgets/controls",
      "model_module_version": "1.5.0",
      "model_name": "LabelModel",
      "state": {
       "layout": "IPY_MODEL_cde6b0c075714efa9fdffceb5e7cb6fa",
       "style": "IPY_MODEL_163b26a023354ef488ded777c5f03e0d",
       "value": "Energy Type:"
      }
     },
     "3a8cdeca58634a25967f2d545e061ee7": {
      "model_module": "@jupyter-widgets/base",
      "model_module_version": "1.2.0",
      "model_name": "LayoutModel",
      "state": {}
     },
     "3a9437790e5443438307e6cf5f2b6a44": {
      "model_module": "@jupyter-widgets/base",
      "model_module_version": "1.2.0",
      "model_name": "LayoutModel",
      "state": {
       "display": "none",
       "width": "60px"
      }
     },
     "3ac2fd8f243c46ceb33a106c55403013": {
      "model_module": "@jupyter-widgets/controls",
      "model_module_version": "1.5.0",
      "model_name": "DescriptionStyleModel",
      "state": {
       "description_width": ""
      }
     },
     "3b04ea17ff5e403aa1f7d167bbfe84e6": {
      "model_module": "@jupyter-widgets/base",
      "model_module_version": "1.2.0",
      "model_name": "LayoutModel",
      "state": {
       "order": "-1",
       "overflow": "visible",
       "padding": "1px",
       "width": "0px"
      }
     },
     "3b3fa9ed467d48bbbcc56653de1fbd2b": {
      "model_module": "@jupyter-widgets/controls",
      "model_module_version": "1.5.0",
      "model_name": "ButtonModel",
      "state": {
       "description": "EDIT",
       "layout": "IPY_MODEL_2d8a5b2292fb479a8ef1ebad3d4e7d93",
       "style": "IPY_MODEL_cb6d88e9b1e240fcbfcc3f6c011feeae"
      }
     },
     "3b8f57bc2f4242698dbaba684f7fff6d": {
      "model_module": "@jupyter-widgets/base",
      "model_module_version": "1.2.0",
      "model_name": "LayoutModel",
      "state": {
       "order": "-1",
       "overflow": "visible",
       "padding": "1px",
       "width": "0px"
      }
     },
     "3ba062d7892c43209fdcdf2bd841b807": {
      "model_module": "@jupyter-widgets/controls",
      "model_module_version": "1.5.0",
      "model_name": "DescriptionStyleModel",
      "state": {
       "description_width": ""
      }
     },
     "3bee004de3124a2ebaf63e77b0b2a64f": {
      "model_module": "@jupyter-widgets/base",
      "model_module_version": "1.2.0",
      "model_name": "LayoutModel",
      "state": {
       "display": "none",
       "width": "60px"
      }
     },
     "3c0df230516c4716a875ecab00db0557": {
      "model_module": "@jupyter-widgets/base",
      "model_module_version": "1.2.0",
      "model_name": "LayoutModel",
      "state": {
       "height": "32px",
       "order": "-2",
       "width": "32px"
      }
     },
     "3c40a034bbcb4bfd9900e6ed376ded87": {
      "model_module": "@jupyter-widgets/controls",
      "model_module_version": "1.5.0",
      "model_name": "LabelModel",
      "state": {
       "layout": "IPY_MODEL_22136397f0fc4861a1039f5a0681c376",
       "style": "IPY_MODEL_95037c80b0b14f6f92e8f04dffa91010",
       "value": "   objective"
      }
     },
     "3c53f2dd7e78473cbd310e5f15e6c947": {
      "model_module": "@jupyter-widgets/controls",
      "model_module_version": "1.5.0",
      "model_name": "IntProgressModel",
      "state": {
       "layout": "IPY_MODEL_176c0e08c2644baa8ec6ae431a77a24a",
       "style": "IPY_MODEL_3f5de6874c1447b0a7d7400c3294edba",
       "value": 30
      }
     },
     "3c6cf231a3e5488db3f3f3583c5057db": {
      "model_module": "@jupyter-widgets/base",
      "model_module_version": "1.2.0",
      "model_name": "LayoutModel",
      "state": {
       "height": "32px",
       "overflow": "visible",
       "width": "100%"
      }
     },
     "3cbaa644672d4be2a4f7fb58d3a07d52": {
      "model_module": "@jupyter-widgets/base",
      "model_module_version": "1.2.0",
      "model_name": "LayoutModel",
      "state": {
       "order": "-1",
       "overflow": "visible",
       "padding": "1px",
       "width": "0px"
      }
     },
     "3d24c6b9ea844364a1d3b9fb7f2f1d7a": {
      "model_module": "@jupyter-widgets/controls",
      "model_module_version": "1.5.0",
      "model_name": "ButtonStyleModel",
      "state": {}
     },
     "3d502a215a264372bfdd2de40644c20f": {
      "model_module": "@jupyter-widgets/controls",
      "model_module_version": "1.5.0",
      "model_name": "ButtonModel",
      "state": {
       "layout": "IPY_MODEL_cbe5b2c2c5ba4008aa48266867b9a692",
       "style": "IPY_MODEL_6174c1f198c84885a424fba821369078"
      }
     },
     "3d965faa27134ef6a4980ad314766e8f": {
      "model_module": "@jupyter-widgets/controls",
      "model_module_version": "1.5.0",
      "model_name": "DescriptionStyleModel",
      "state": {
       "description_width": ""
      }
     },
     "3da63f46791f4b319308bfb2e93f6fe7": {
      "model_module": "@jupyter-widgets/controls",
      "model_module_version": "1.5.0",
      "model_name": "ButtonModel",
      "state": {
       "layout": "IPY_MODEL_ba8f24a1d3664392b58ed9993f959e69",
       "style": "IPY_MODEL_302c1fbfa7d34a9f9a98e88c0b0a7d8a"
      }
     },
     "3dac9b29a3f042108c9b20b2524ac154": {
      "model_module": "@jupyter-widgets/controls",
      "model_module_version": "1.5.0",
      "model_name": "DescriptionStyleModel",
      "state": {
       "description_width": ""
      }
     },
     "3dc43ed68c434c3e837aa03729a30dfa": {
      "model_module": "@jupyter-widgets/controls",
      "model_module_version": "1.5.0",
      "model_name": "DescriptionStyleModel",
      "state": {
       "description_width": ""
      }
     },
     "3e227c98574c434bafc6ad771b32c705": {
      "model_module": "@jupyter-widgets/base",
      "model_module_version": "1.2.0",
      "model_name": "LayoutModel",
      "state": {
       "display": "none",
       "width": "60px"
      }
     },
     "3e6cb88e92d94f3ab1737190eeeba692": {
      "model_module": "@jupyter-widgets/controls",
      "model_module_version": "1.5.0",
      "model_name": "ProgressStyleModel",
      "state": {
       "description_width": ""
      }
     },
     "3e6ee94d5c4b467b980bfa6c4b17f3a7": {
      "model_module": "@jupyter-widgets/controls",
      "model_module_version": "1.5.0",
      "model_name": "ButtonStyleModel",
      "state": {}
     },
     "3ea71995235c41b4bb6d645f54f32a54": {
      "model_module": "@jupyter-widgets/controls",
      "model_module_version": "1.5.0",
      "model_name": "HTMLModel",
      "state": {
       "layout": "IPY_MODEL_25bb4d81164a47a787786faae0682f97",
       "style": "IPY_MODEL_2c4fa65f476e44d79f95be1ac3785c0b",
       "value": "<i>Defeated Skolas in the Prison of Elders in Destiny 1.</i>"
      }
     },
     "3ec84d03ecc14f4481560d629d7e5a46": {
      "model_module": "@jupyter-widgets/base",
      "model_module_version": "1.2.0",
      "model_name": "LayoutModel",
      "state": {
       "display": "none",
       "width": "60px"
      }
     },
     "3f0b72006e4646589a04753aae72ad92": {
      "model_module": "@jupyter-widgets/base",
      "model_module_version": "1.2.0",
      "model_name": "LayoutModel",
      "state": {
       "display": "none"
      }
     },
     "3f15c6000e1240028ee3935387efcbfa": {
      "model_module": "@jupyter-widgets/controls",
      "model_module_version": "1.5.0",
      "model_name": "ButtonModel",
      "state": {
       "description": "EDIT",
       "layout": "IPY_MODEL_110177b7b84c4c958a4f9123c81f3c67",
       "style": "IPY_MODEL_fdbd334049ee4d42af0147b61813dcc9"
      }
     },
     "3f5de6874c1447b0a7d7400c3294edba": {
      "model_module": "@jupyter-widgets/controls",
      "model_module_version": "1.5.0",
      "model_name": "ProgressStyleModel",
      "state": {
       "description_width": ""
      }
     },
     "3f820c88413a41eb9dd2fb0713a1bd27": {
      "model_module": "@jupyter-widgets/controls",
      "model_module_version": "1.5.0",
      "model_name": "HTMLModel",
      "state": {
       "layout": "IPY_MODEL_ce07cb718ead45e3b51a8027b1f63dff",
       "style": "IPY_MODEL_c1eaa540dbe94d9b98898b85ed0a5d64",
       "value": "<font size=\"3\"><b>EDIT REQUIREMENTS</b></font size=>"
      }
     },
     "3fa32f981ca1425c8ab1d3376d42903a": {
      "model_module": "@jupyter-widgets/controls",
      "model_module_version": "1.5.0",
      "model_name": "ButtonStyleModel",
      "state": {}
     },
     "4046452b4ae74581a03685c392e5f674": {
      "model_module": "@jupyter-widgets/base",
      "model_module_version": "1.2.0",
      "model_name": "LayoutModel",
      "state": {
       "height": "32px",
       "order": "-2",
       "width": "32px"
      }
     },
     "4062ceae2f6144508ce72819abe5d744": {
      "model_module": "@jupyter-widgets/controls",
      "model_module_version": "1.5.0",
      "model_name": "DescriptionStyleModel",
      "state": {
       "description_width": ""
      }
     },
     "408abe4a7da94452a24b07d9961b629b": {
      "model_module": "@jupyter-widgets/controls",
      "model_module_version": "1.5.0",
      "model_name": "DescriptionStyleModel",
      "state": {
       "description_width": ""
      }
     },
     "40956a5f2a21403ca3675ce843130ee6": {
      "model_module": "@jupyter-widgets/base",
      "model_module_version": "1.2.0",
      "model_name": "LayoutModel",
      "state": {
       "order": "-1",
       "overflow": "visible",
       "padding": "1px",
       "width": "0px"
      }
     },
     "40c3cad87c5449588c7b2ffdba1b0fdd": {
      "model_module": "@jupyter-widgets/controls",
      "model_module_version": "1.5.0",
      "model_name": "DropdownModel",
      "state": {
       "_options_labels": [
        "Any",
        "Patrol",
        "Gambit",
        "Reckoning",
        "Menagerie",
        "Vex Offensive",
        "Raid",
        "Strike",
        "Nightfall",
        "Crucible",
        "Forge"
       ],
       "index": 0,
       "layout": "IPY_MODEL_8cc9e95fc27a4d419a863e3cc4a81363",
       "style": "IPY_MODEL_a9aa3318b8674f79ad1086549ce6d07e"
      }
     },
     "40d45510ee8b4eefac596e8138cb4f98": {
      "model_module": "@jupyter-widgets/controls",
      "model_module_version": "1.5.0",
      "model_name": "VBoxModel",
      "state": {
       "children": [
        "IPY_MODEL_b47d65acb3f5486da29e02732125a073",
        "IPY_MODEL_32ae745bfcd04c158aab6e894d451240"
       ],
       "layout": "IPY_MODEL_aa64a80332df47618077e12b94f6c24b"
      }
     },
     "40f3762b8c2e4d9db5db68582150d2f9": {
      "model_module": "@jupyter-widgets/controls",
      "model_module_version": "1.5.0",
      "model_name": "IntProgressModel",
      "state": {
       "layout": "IPY_MODEL_ed6fc49ff6484bbd8c018f2140281504",
       "max": 1,
       "style": "IPY_MODEL_ebf72c59c68f458bb9bff31a0c1482df"
      }
     },
     "41034ab954be4ad1912d0d655c4b6d2e": {
      "model_module": "@jupyter-widgets/controls",
      "model_module_version": "1.5.0",
      "model_name": "ButtonModel",
      "state": {
       "layout": "IPY_MODEL_65b3b3574cdc49be8726edd15f2f3c65",
       "style": "IPY_MODEL_63c59d1c55cd4a9a9088418216e390ba"
      }
     },
     "411d88c10ebb44519840320cbd9af8d3": {
      "model_module": "@jupyter-widgets/base",
      "model_module_version": "1.2.0",
      "model_name": "LayoutModel",
      "state": {}
     },
     "41507622ac2749e19f17128ca727cc81": {
      "model_module": "@jupyter-widgets/controls",
      "model_module_version": "1.5.0",
      "model_name": "VBoxModel",
      "state": {
       "children": [
        "IPY_MODEL_39a3e01131a74e7d8f9f70dbed59f5c2",
        "IPY_MODEL_a742923954e446ecbb5ead77c7c4900e",
        "IPY_MODEL_c2f4276102ea40609d3283c58cd13b6a",
        "IPY_MODEL_ef7abebdc86046d488745c5f79fef5fb"
       ],
       "layout": "IPY_MODEL_1a74debd8abe4695a9b79301100a050c"
      }
     },
     "415e00e7765041d1a54ad587fd1bf61f": {
      "model_module": "@jupyter-widgets/base",
      "model_module_version": "1.2.0",
      "model_name": "LayoutModel",
      "state": {
       "height": "32px",
       "order": "-2",
       "width": "32px"
      }
     },
     "417a3fe7d6dd49f4b54009934ed20c38": {
      "model_module": "@jupyter-widgets/base",
      "model_module_version": "1.2.0",
      "model_name": "LayoutModel",
      "state": {
       "border": "3px solid white",
       "display": "flex",
       "flex": "1 1 0%",
       "margin": "10px",
       "min_width": "400px",
       "overflow": "visible",
       "padding": "10px",
       "width": "auto"
      }
     },
     "419da86f948c442881e0967b96b4da5e": {
      "model_module": "@jupyter-widgets/controls",
      "model_module_version": "1.5.0",
      "model_name": "IntProgressModel",
      "state": {
       "layout": "IPY_MODEL_8ee69f26384c4f0ca770c17283ec4b35",
       "style": "IPY_MODEL_4284736bd87e41e6869b8be2fd3565df",
       "value": 30
      }
     },
     "41b43fb900b6428c8c0da95e3535b9d9": {
      "model_module": "@jupyter-widgets/base",
      "model_module_version": "1.2.0",
      "model_name": "LayoutModel",
      "state": {
       "display": "none"
      }
     },
     "41c4eb571613417b99f5439fb094a777": {
      "model_module": "@jupyter-widgets/controls",
      "model_module_version": "1.5.0",
      "model_name": "ButtonStyleModel",
      "state": {}
     },
     "41d925d9e23545caa9b7ed1b6e318fcd": {
      "model_module": "@jupyter-widgets/controls",
      "model_module_version": "1.5.0",
      "model_name": "ButtonModel",
      "state": {
       "description": "EDIT",
       "layout": "IPY_MODEL_ab3dc30316cd40078f63391534898cc6",
       "style": "IPY_MODEL_7bee4e058ad94f1ab416debec4cf34cf"
      }
     },
     "41e4d2ab11724e59b79de9898e2c4611": {
      "model_module": "@jupyter-widgets/base",
      "model_module_version": "1.2.0",
      "model_name": "LayoutModel",
      "state": {
       "height": "32px",
       "overflow": "visible",
       "width": "100%"
      }
     },
     "41f5c9a975f54f11a58c912155fc6e63": {
      "model_module": "@jupyter-widgets/controls",
      "model_module_version": "1.5.0",
      "model_name": "VBoxModel",
      "state": {
       "children": [
        "IPY_MODEL_421f6661f53d4b06b4da8be632f7546b",
        "IPY_MODEL_dae66bf9468f4f8cb961a4822ecd94d9",
        "IPY_MODEL_8b3944d9cb43431a945c81e34f4a3c5e",
        "IPY_MODEL_599dd37cc8b24ea89d918f92a79c2421",
        "IPY_MODEL_42ad56dfb4f6462cba408b1f5f9c8ebf",
        "IPY_MODEL_2df50d58d694478181b0a0acc66cc1f5",
        "IPY_MODEL_ac19547337414ce698fb7b2a381ab587",
        "IPY_MODEL_b5475fdd82cf4b4ab2500fbedc558609",
        "IPY_MODEL_b647c9da183e4174b17eaa4242d74511",
        "IPY_MODEL_c0d2e122f60d45c0a77a1c54f5fe0ab2"
       ],
       "layout": "IPY_MODEL_0351f36be2cc4a6ba81b8742d0d4af12"
      }
     },
     "421bcb08c8fa428ab38f34ff768fe31b": {
      "model_module": "@jupyter-widgets/controls",
      "model_module_version": "1.5.0",
      "model_name": "HTMLModel",
      "state": {
       "layout": "IPY_MODEL_1e30fa50cd504e54a49fa8e7ac27ce26",
       "style": "IPY_MODEL_bf89ed1df38d45e0bf3cc3c45ab544a8",
       "value": "<font size=\"5\"><b>Prime Fashion</b></font size=>"
      }
     },
     "421f6661f53d4b06b4da8be632f7546b": {
      "model_module": "@jupyter-widgets/controls",
      "model_module_version": "1.5.0",
      "model_name": "DropdownModel",
      "state": {
       "_options_labels": [
        "All",
        "Triumphs",
        "Seals",
        "Pursuits"
       ],
       "index": 0,
       "layout": "IPY_MODEL_cc3ce319fb7a48fb8ebdb9cdcfc3e340",
       "style": "IPY_MODEL_79e9af9dd27d427bbae104d0588f1427"
      }
     },
     "423c997bb4a64732a27ae5592dc5bd80": {
      "model_module": "@jupyter-widgets/controls",
      "model_module_version": "1.5.0",
      "model_name": "ButtonModel",
      "state": {
       "description": "EDIT",
       "layout": "IPY_MODEL_782c670798b64a088bd40d2145cae38a",
       "style": "IPY_MODEL_61c9288d2a4649ef8cceb7e45d8fe9bb"
      }
     },
     "424281945aeb45d88294f04c61cc5618": {
      "model_module": "@jupyter-widgets/base",
      "model_module_version": "1.2.0",
      "model_name": "LayoutModel",
      "state": {
       "display": "none",
       "width": "60px"
      }
     },
     "4284736bd87e41e6869b8be2fd3565df": {
      "model_module": "@jupyter-widgets/controls",
      "model_module_version": "1.5.0",
      "model_name": "ProgressStyleModel",
      "state": {
       "description_width": ""
      }
     },
     "4295002173c341859a939f4bcbbab6bc": {
      "model_module": "@jupyter-widgets/controls",
      "model_module_version": "1.5.0",
      "model_name": "DescriptionStyleModel",
      "state": {
       "description_width": ""
      }
     },
     "42a88c2db22845cc83bf5b677b3ca3d2": {
      "model_module": "@jupyter-widgets/controls",
      "model_module_version": "1.5.0",
      "model_name": "HTMLModel",
      "state": {
       "layout": "IPY_MODEL_85389e707bb847919a5ac969869ec99a",
       "style": "IPY_MODEL_3d965faa27134ef6a4980ad314766e8f",
       "value": "<font size=\"5\"><b>IX</b></font size=>"
      }
     },
     "42ad56dfb4f6462cba408b1f5f9c8ebf": {
      "model_module": "@jupyter-widgets/controls",
      "model_module_version": "1.5.0",
      "model_name": "DropdownModel",
      "state": {
       "_options_labels": [
        "All"
       ],
       "index": 0,
       "layout": "IPY_MODEL_d885040ee5d4479899b2b8595aba7668",
       "style": "IPY_MODEL_d3a8187dafa04231b59c9340186f3003"
      }
     },
     "42c3ea7e85be4aca9b1f01f0ce94c658": {
      "model_module": "@jupyter-widgets/controls",
      "model_module_version": "1.5.0",
      "model_name": "ButtonStyleModel",
      "state": {}
     },
     "42c4b8e7ffa0439593cc5496936b21a9": {
      "model_module": "@jupyter-widgets/base",
      "model_module_version": "1.2.0",
      "model_name": "LayoutModel",
      "state": {
       "display": "none",
       "width": "60px"
      }
     },
     "42cbdc89d1d447d3a41fee99b4770839": {
      "model_module": "@jupyter-widgets/controls",
      "model_module_version": "1.5.0",
      "model_name": "DescriptionStyleModel",
      "state": {
       "description_width": ""
      }
     },
     "42ff652547254c21be7879fdcf8fd339": {
      "model_module": "@jupyter-widgets/controls",
      "model_module_version": "1.5.0",
      "model_name": "LabelModel",
      "state": {
       "layout": "IPY_MODEL_779cc875cde54f1a874084eb6edc58ad",
       "style": "IPY_MODEL_636989812bf54897ab63447e3bc0dc13",
       "value": "   objective"
      }
     },
     "435540ab8ba8454bb0b98bf15aaaf2e4": {
      "model_module": "@jupyter-widgets/controls",
      "model_module_version": "1.5.0",
      "model_name": "ButtonStyleModel",
      "state": {}
     },
     "435b6affb80a42fc8dd654d030373949": {
      "model_module": "@jupyter-widgets/controls",
      "model_module_version": "1.5.0",
      "model_name": "ButtonStyleModel",
      "state": {}
     },
     "437a41b703954a8b890d700a708da431": {
      "model_module": "@jupyter-widgets/base",
      "model_module_version": "1.2.0",
      "model_name": "LayoutModel",
      "state": {
       "order": "-1",
       "overflow": "visible",
       "padding": "1px",
       "width": "0px"
      }
     },
     "43c707e1ecef434a9fcbec259bb459b2": {
      "model_module": "@jupyter-widgets/controls",
      "model_module_version": "1.5.0",
      "model_name": "DescriptionStyleModel",
      "state": {
       "description_width": ""
      }
     },
     "43dc638d5b7f42bbb4048b86167f1b16": {
      "model_module": "@jupyter-widgets/controls",
      "model_module_version": "1.5.0",
      "model_name": "HBoxModel",
      "state": {
       "children": [
        "IPY_MODEL_a8747aaf71024af18461eabd2d0868e8",
        "IPY_MODEL_ea3b9456d62c4fb3b087f27ab920b4cb",
        "IPY_MODEL_8e9c0a7f15274b8ca9a0feca9cd6b1dc",
        "IPY_MODEL_6dd6e759a21d405aafeea0e70577b1b7"
       ],
       "layout": "IPY_MODEL_9281018a1416414d958f380d802ea01d"
      }
     },
     "43dd46adb12b471792259865a858bc76": {
      "model_module": "@jupyter-widgets/base",
      "model_module_version": "1.2.0",
      "model_name": "LayoutModel",
      "state": {
       "display": "none",
       "width": "60px"
      }
     },
     "44acd268ccae4f3a9daf8735042d7745": {
      "model_module": "@jupyter-widgets/controls",
      "model_module_version": "1.5.0",
      "model_name": "VBoxModel",
      "state": {
       "children": [
        "IPY_MODEL_fc7aebd2ff55414e88b2a7c896b38bb5",
        "IPY_MODEL_b78b0e0963d44786b0d47af43c8fe152",
        "IPY_MODEL_93579c3cfc654aa6abfda00d9657b93c",
        "IPY_MODEL_f405bf4acf574d6baca837181cdb2015"
       ],
       "layout": "IPY_MODEL_80258602fe5d423889e2811db6743f3f"
      }
     },
     "44eb2238c5694e7b996b2b2f1c404ad1": {
      "model_module": "@jupyter-widgets/controls",
      "model_module_version": "1.5.0",
      "model_name": "HBoxModel",
      "state": {
       "children": [
        "IPY_MODEL_fccf0bed16ab4b64a3ab1697394d5e5b",
        "IPY_MODEL_3c53f2dd7e78473cbd310e5f15e6c947",
        "IPY_MODEL_13a99f8d03664f5e98eb8f3f50cd2c9d",
        "IPY_MODEL_84543ddd84024bb680dbf70509179e24"
       ],
       "layout": "IPY_MODEL_beb71122ee8d43bb959532165d810dd9"
      }
     },
     "4545beb6124444ef85625cd5f71da114": {
      "model_module": "@jupyter-widgets/controls",
      "model_module_version": "1.5.0",
      "model_name": "ButtonModel",
      "state": {
       "layout": "IPY_MODEL_fc697783c43f405a9e06d298f9687d41",
       "style": "IPY_MODEL_58b3fd7fa6004c68bed209a90e922f70"
      }
     },
     "457c52b756014a09aede215ea5a40172": {
      "model_module": "@jupyter-widgets/controls",
      "model_module_version": "1.5.0",
      "model_name": "DescriptionStyleModel",
      "state": {
       "description_width": ""
      }
     },
     "45f295d3d932471cbee682d45a8d5977": {
      "model_module": "@jupyter-widgets/controls",
      "model_module_version": "1.5.0",
      "model_name": "HBoxModel",
      "state": {
       "children": [
        "IPY_MODEL_ef22064d191c4cfe8cdca010ed5a1775",
        "IPY_MODEL_c77aba113fff43e1a976436a9edd8aca",
        "IPY_MODEL_78758f768f344819b75d8584aed2f611",
        "IPY_MODEL_958a4386e6f34f9086d28f0df1e6da00"
       ],
       "layout": "IPY_MODEL_1ba978e9a3894dbeb3726e4cd5c02d13"
      }
     },
     "460f2124312142b5b6345c2b0734f07e": {
      "model_module": "@jupyter-widgets/controls",
      "model_module_version": "1.5.0",
      "model_name": "LabelModel",
      "state": {
       "layout": "IPY_MODEL_f63ad98150e442cebf4f721527989d71",
       "style": "IPY_MODEL_a97d2e30f01f46bc831cf88608f8b7ba",
       "value": "Ammo:"
      }
     },
     "466a847d0f06470bb5408229a1f3908a": {
      "model_module": "@jupyter-widgets/controls",
      "model_module_version": "1.5.0",
      "model_name": "ButtonStyleModel",
      "state": {}
     },
     "469dfad9bc7b42d1b027ff697ffc2801": {
      "model_module": "@jupyter-widgets/controls",
      "model_module_version": "1.5.0",
      "model_name": "ButtonModel",
      "state": {
       "layout": "IPY_MODEL_4acd8adf40c94a88bf752e02fef0b5d2",
       "style": "IPY_MODEL_f833090c63284bd6a19bdf295e061571"
      }
     },
     "46a6ce4440da4349afa86c263eb9b033": {
      "model_module": "@jupyter-widgets/base",
      "model_module_version": "1.2.0",
      "model_name": "LayoutModel",
      "state": {
       "display": "flex",
       "flex_flow": "row wrap"
      }
     },
     "46b4070d2b7140abb7b96fea27c68b9d": {
      "model_module": "@jupyter-widgets/controls",
      "model_module_version": "1.5.0",
      "model_name": "DescriptionStyleModel",
      "state": {
       "description_width": ""
      }
     },
     "46cb9b2701e64cc6a114281caac68187": {
      "model_module": "@jupyter-widgets/controls",
      "model_module_version": "1.5.0",
      "model_name": "ButtonModel",
      "state": {
       "description": "EDIT",
       "layout": "IPY_MODEL_6df5612996d543c781a6aa265f0e74ea",
       "style": "IPY_MODEL_774caebebf8d4206984fcea5d9b0fbbb"
      }
     },
     "46e221d2a4154483a584e0651d99aa1d": {
      "model_module": "@jupyter-widgets/base",
      "model_module_version": "1.2.0",
      "model_name": "LayoutModel",
      "state": {
       "order": "-1",
       "overflow": "visible",
       "padding": "1px",
       "width": "0px"
      }
     },
     "46f8afaf5f334dbfb92957ec4888c097": {
      "model_module": "@jupyter-widgets/base",
      "model_module_version": "1.2.0",
      "model_name": "LayoutModel",
      "state": {
       "display": "none",
       "width": "60px"
      }
     },
     "4719b141505342e08ecafc1a85d00f59": {
      "model_module": "@jupyter-widgets/controls",
      "model_module_version": "1.5.0",
      "model_name": "ButtonStyleModel",
      "state": {}
     },
     "47320c603d2f44d69ae238175497b683": {
      "model_module": "@jupyter-widgets/controls",
      "model_module_version": "1.5.0",
      "model_name": "ButtonModel",
      "state": {
       "description": "Refresh",
       "layout": "IPY_MODEL_718e1a08825541bc8da86e274e86c3ae",
       "style": "IPY_MODEL_8b340c2da35e48abaacc1060787e80ad"
      }
     },
     "474948e74ae841bcaac5f8c0d8b4b269": {
      "model_module": "@jupyter-widgets/controls",
      "model_module_version": "1.5.0",
      "model_name": "ButtonModel",
      "state": {
       "layout": "IPY_MODEL_47e36e04379d451782f1d248620f761f",
       "style": "IPY_MODEL_b537253c05c54a4aa0e4ed0d52a32769"
      }
     },
     "478f073470fa4f2c94b545402f26ca76": {
      "model_module": "@jupyter-widgets/base",
      "model_module_version": "1.2.0",
      "model_name": "LayoutModel",
      "state": {
       "display": "none"
      }
     },
     "47abd935950c4de0b4ccf96e914e6aa2": {
      "model_module": "@jupyter-widgets/controls",
      "model_module_version": "1.5.0",
      "model_name": "DescriptionStyleModel",
      "state": {
       "description_width": ""
      }
     },
     "47c2bdbb06f14aaeb221c2feaa2bd7b9": {
      "model_module": "@jupyter-widgets/controls",
      "model_module_version": "1.5.0",
      "model_name": "ProgressStyleModel",
      "state": {
       "description_width": ""
      }
     },
     "47e36e04379d451782f1d248620f761f": {
      "model_module": "@jupyter-widgets/base",
      "model_module_version": "1.2.0",
      "model_name": "LayoutModel",
      "state": {
       "height": "32px",
       "order": "-2",
       "width": "32px"
      }
     },
     "4813f1ccbe5548debc706cdb4e3f2a90": {
      "model_module": "@jupyter-widgets/base",
      "model_module_version": "1.2.0",
      "model_name": "LayoutModel",
      "state": {}
     },
     "483093007061497c8ae547a0e5095c29": {
      "model_module": "@jupyter-widgets/base",
      "model_module_version": "1.2.0",
      "model_name": "LayoutModel",
      "state": {
       "display": "none",
       "width": "60px"
      }
     },
     "483e40d27d2e49f796339c6858ffae03": {
      "model_module": "@jupyter-widgets/controls",
      "model_module_version": "1.5.0",
      "model_name": "HTMLModel",
      "state": {
       "layout": "IPY_MODEL_01c2cac7683140ddbe7a8e09bd653b8a",
       "style": "IPY_MODEL_5f4b8d8d2a534371925d9b0df9da028a",
       "value": "<i></i>"
      }
     },
     "48429ebd900f4750935582d8bb6be87f": {
      "model_module": "@jupyter-widgets/base",
      "model_module_version": "1.2.0",
      "model_name": "LayoutModel",
      "state": {
       "order": "-1",
       "overflow": "visible",
       "padding": "1px",
       "width": "0px"
      }
     },
     "4850b198e5164e55a7916c6db59b4e11": {
      "model_module": "@jupyter-widgets/controls",
      "model_module_version": "1.5.0",
      "model_name": "ButtonModel",
      "state": {
       "description": "Next",
       "layout": "IPY_MODEL_cf489039acdc4bc4bfd208442c3bd03e",
       "style": "IPY_MODEL_f8b344305e074923b86e1b274682101a"
      }
     },
     "48807ffabda6490a93815774c5f6831d": {
      "model_module": "@jupyter-widgets/controls",
      "model_module_version": "1.5.0",
      "model_name": "ButtonModel",
      "state": {
       "description": "EDIT",
       "layout": "IPY_MODEL_a36154fde1e84da7827e894d0f34c180",
       "style": "IPY_MODEL_05457f284085456c8333f9d8d5a2e001"
      }
     },
     "48824b258b5a42e4a8595c891c3855f6": {
      "model_module": "@jupyter-widgets/controls",
      "model_module_version": "1.5.0",
      "model_name": "ButtonModel",
      "state": {
       "layout": "IPY_MODEL_fc68185f82364f24ad7d7119c5e7f711",
       "style": "IPY_MODEL_979f2a21f35d4e12b8f9fec1cc07f01e"
      }
     },
     "48f193cb6f444515895452db986b6ea4": {
      "model_module": "@jupyter-widgets/controls",
      "model_module_version": "1.5.0",
      "model_name": "ButtonModel",
      "state": {
       "layout": "IPY_MODEL_ae93efcb17b14780abcf151c4e51b1c2",
       "style": "IPY_MODEL_3515832bfe3f4fbcbbf6ff7b7fc5765f"
      }
     },
     "48fba4ea26424f6e87f830692c6ac886": {
      "model_module": "@jupyter-widgets/controls",
      "model_module_version": "1.5.0",
      "model_name": "ButtonModel",
      "state": {
       "layout": "IPY_MODEL_415e00e7765041d1a54ad587fd1bf61f",
       "style": "IPY_MODEL_435540ab8ba8454bb0b98bf15aaaf2e4"
      }
     },
     "491a2c512c5d4240bfa8b5567b5dd989": {
      "model_module": "@jupyter-widgets/base",
      "model_module_version": "1.2.0",
      "model_name": "LayoutModel",
      "state": {
       "display": "flex",
       "flex_flow": "row wrap"
      }
     },
     "493dfaa946064491aa484f4b3d571976": {
      "model_module": "@jupyter-widgets/base",
      "model_module_version": "1.2.0",
      "model_name": "LayoutModel",
      "state": {
       "order": "-1",
       "overflow": "visible",
       "padding": "1px",
       "width": "0px"
      }
     },
     "495cd69c944c4f6f97764cbcf37395f7": {
      "model_module": "@jupyter-widgets/controls",
      "model_module_version": "1.5.0",
      "model_name": "LabelModel",
      "state": {
       "layout": "IPY_MODEL_a6437d5bc4844246aef625824e199aed",
       "style": "IPY_MODEL_5a2a499c215144aa95dfb1dac4e42c74",
       "value": "   objective"
      }
     },
     "49ac3c20d86d472f99c432d05f7f22a5": {
      "model_module": "@jupyter-widgets/base",
      "model_module_version": "1.2.0",
      "model_name": "LayoutModel",
      "state": {
       "height": "32px",
       "overflow": "visible",
       "width": "100%"
      }
     },
     "49b68475b75546369447a34a7b82797f": {
      "model_module": "@jupyter-widgets/controls",
      "model_module_version": "1.5.0",
      "model_name": "ButtonStyleModel",
      "state": {}
     },
     "49baf8186ef441e6b43d21ce6953a5ef": {
      "model_module": "@jupyter-widgets/controls",
      "model_module_version": "1.5.0",
      "model_name": "HBoxModel",
      "state": {
       "children": [
        "IPY_MODEL_840167d9b01f467fbf7f0e8c7ea4eade",
        "IPY_MODEL_865d581672994aa49b9ad0a0a8023b93",
        "IPY_MODEL_a5f909baaa29462498056daf816e622f",
        "IPY_MODEL_90b85ca81f374df39927ab53bbf3a457"
       ],
       "layout": "IPY_MODEL_d9410eb450e349b8aab0e825f78a60bd"
      }
     },
     "49d3e3c04e4d4414a234f37eed6e3aee": {
      "model_module": "@jupyter-widgets/base",
      "model_module_version": "1.2.0",
      "model_name": "LayoutModel",
      "state": {
       "order": "-1",
       "overflow": "visible",
       "padding": "1px",
       "width": "0px"
      }
     },
     "4a0df4bede8d4fb5b48f63e6690d50a9": {
      "model_module": "@jupyter-widgets/controls",
      "model_module_version": "1.5.0",
      "model_name": "HBoxModel",
      "state": {
       "children": [
        "IPY_MODEL_989f6e3c0a2a42a59e08e56f499cab30",
        "IPY_MODEL_93b38a54cbb545649e0eef9c9e5b7681",
        "IPY_MODEL_a01f9aabd72c4ed097ed087ef3501187",
        "IPY_MODEL_259379c31f4f4d0e86a59ff8de86c8e9"
       ],
       "layout": "IPY_MODEL_93a811e8ff124295920ec2b6b3c226e5"
      }
     },
     "4a1f9837a8af454b86bea4f2202c0154": {
      "model_module": "@jupyter-widgets/controls",
      "model_module_version": "1.5.0",
      "model_name": "ButtonStyleModel",
      "state": {}
     },
     "4a2b90bb3345412bb3fa81332c57f0b1": {
      "model_module": "@jupyter-widgets/controls",
      "model_module_version": "1.5.0",
      "model_name": "ProgressStyleModel",
      "state": {
       "description_width": ""
      }
     },
     "4a314af568af479b95f26794ed82fd66": {
      "model_module": "@jupyter-widgets/controls",
      "model_module_version": "1.5.0",
      "model_name": "ButtonStyleModel",
      "state": {}
     },
     "4a65eaea15134a70921639d09cbb83f0": {
      "model_module": "@jupyter-widgets/controls",
      "model_module_version": "1.5.0",
      "model_name": "ButtonStyleModel",
      "state": {}
     },
     "4a69ba7acc2745c6949c24f63603e9f6": {
      "model_module": "@jupyter-widgets/controls",
      "model_module_version": "1.5.0",
      "model_name": "LabelModel",
      "state": {
       "layout": "IPY_MODEL_49d3e3c04e4d4414a234f37eed6e3aee",
       "style": "IPY_MODEL_8d8993654c324cd59ce6419ec49e683b",
       "value": "    Enemies killed (177/500)"
      }
     },
     "4ab84530ec73453d9d0a77d54354755f": {
      "model_module": "@jupyter-widgets/base",
      "model_module_version": "1.2.0",
      "model_name": "LayoutModel",
      "state": {
       "display": "none"
      }
     },
     "4acd8adf40c94a88bf752e02fef0b5d2": {
      "model_module": "@jupyter-widgets/base",
      "model_module_version": "1.2.0",
      "model_name": "LayoutModel",
      "state": {
       "height": "32px",
       "order": "-2",
       "width": "32px"
      }
     },
     "4ad8173583c041a2accfeff840092ae0": {
      "model_module": "@jupyter-widgets/controls",
      "model_module_version": "1.5.0",
      "model_name": "ProgressStyleModel",
      "state": {
       "description_width": ""
      }
     },
     "4aedeb8bce0e47bd86362cc1903a8bc3": {
      "model_module": "@jupyter-widgets/base",
      "model_module_version": "1.2.0",
      "model_name": "LayoutModel",
      "state": {
       "height": "32px",
       "order": "-2",
       "width": "32px"
      }
     },
     "4afba36d945d4ef2aa4c2077b439207b": {
      "model_module": "@jupyter-widgets/base",
      "model_module_version": "1.2.0",
      "model_name": "LayoutModel",
      "state": {
       "height": "32px",
       "overflow": "visible",
       "width": "100%"
      }
     },
     "4b0d6e52d21a48438149b7bb7eca489e": {
      "model_module": "@jupyter-widgets/controls",
      "model_module_version": "1.5.0",
      "model_name": "ProgressStyleModel",
      "state": {
       "description_width": ""
      }
     },
     "4b0dee6d5b6f4ffdb45492ef39e0fb49": {
      "model_module": "@jupyter-widgets/base",
      "model_module_version": "1.2.0",
      "model_name": "LayoutModel",
      "state": {
       "display": "none",
       "width": "60px"
      }
     },
     "4b5b8c19fa3942478b4d929ea4b01e45": {
      "model_module": "@jupyter-widgets/base",
      "model_module_version": "1.2.0",
      "model_name": "LayoutModel",
      "state": {
       "overflow": "visible",
       "width": "100%"
      }
     },
     "4b99ce24d362486fa43fac0e84974a19": {
      "model_module": "@jupyter-widgets/controls",
      "model_module_version": "1.5.0",
      "model_name": "DescriptionStyleModel",
      "state": {
       "description_width": ""
      }
     },
     "4bc46924e97d47ed823c765d937f14f3": {
      "model_module": "@jupyter-widgets/base",
      "model_module_version": "1.2.0",
      "model_name": "LayoutModel",
      "state": {
       "display": "none"
      }
     },
     "4bf35b8b86634a3c84bd178e716ee804": {
      "model_module": "@jupyter-widgets/base",
      "model_module_version": "1.2.0",
      "model_name": "LayoutModel",
      "state": {
       "height": "32px",
       "overflow": "visible",
       "width": "100%"
      }
     },
     "4bfd75f31e674ef9989c7db4b7a3ae5c": {
      "model_module": "@jupyter-widgets/controls",
      "model_module_version": "1.5.0",
      "model_name": "HBoxModel",
      "state": {
       "children": [
        "IPY_MODEL_88a8d9f59df04ba9b10196ac227ea7dd",
        "IPY_MODEL_23e60e6d6af04662bbfe92506c7fa5f0",
        "IPY_MODEL_a82987a593674c42a009e624902f6ef6",
        "IPY_MODEL_2b03890861834cbdb5d282ce4e307dde"
       ],
       "layout": "IPY_MODEL_346371b6ced94901a10cba1029b21014"
      }
     },
     "4cbb49ba5289499faa584c5abc3911c3": {
      "model_module": "@jupyter-widgets/controls",
      "model_module_version": "1.5.0",
      "model_name": "IntProgressModel",
      "state": {
       "layout": "IPY_MODEL_b51a2f84df3a48fe8d3ddf475414abb6",
       "style": "IPY_MODEL_e95971d0943940fc83cc7fabd9b596c7",
       "value": 30
      }
     },
     "4cc7f539f1c74279ba4a33bea9ca6f67": {
      "model_module": "@jupyter-widgets/base",
      "model_module_version": "1.2.0",
      "model_name": "LayoutModel",
      "state": {
       "height": "32px",
       "order": "-2",
       "width": "32px"
      }
     },
     "4d377d574aec4b3b8e18e467c122e41a": {
      "model_module": "@jupyter-widgets/controls",
      "model_module_version": "1.5.0",
      "model_name": "IntProgressModel",
      "state": {
       "layout": "IPY_MODEL_6729a4ce9d9d4035b878e4deaedd849f",
       "style": "IPY_MODEL_89b49f7bef5944a48210e6f7a6528d6e",
       "value": 30
      }
     },
     "4d4e692da64f47c8be31c91aad8991b0": {
      "model_module": "@jupyter-widgets/base",
      "model_module_version": "1.2.0",
      "model_name": "LayoutModel",
      "state": {
       "display": "none",
       "width": "95%"
      }
     },
     "4d80376f5fac4997957261cafd664288": {
      "model_module": "@jupyter-widgets/controls",
      "model_module_version": "1.5.0",
      "model_name": "ButtonModel",
      "state": {
       "layout": "IPY_MODEL_c69ab11d742a485a92c564b6a5f9edbb",
       "style": "IPY_MODEL_4719b141505342e08ecafc1a85d00f59"
      }
     },
     "4d98097f11d94dc5b8c0bf8fbee95217": {
      "model_module": "@jupyter-widgets/controls",
      "model_module_version": "1.5.0",
      "model_name": "ButtonModel",
      "state": {
       "description": "EDIT",
       "layout": "IPY_MODEL_07ba22ffedd447eba2b1474c6ffde237",
       "style": "IPY_MODEL_c072ab75a33a412d84b9d6d5be881abd"
      }
     },
     "4d9baaa1df1d47a0ac94af3f90154f1f": {
      "model_module": "@jupyter-widgets/controls",
      "model_module_version": "1.5.0",
      "model_name": "HBoxModel",
      "state": {
       "children": [
        "IPY_MODEL_2674ac6a03dc4c3fac737de1c39bd373",
        "IPY_MODEL_ce1abfc815334055a1de3da5c379a64b",
        "IPY_MODEL_b0ee704adf0a425e8103eedc9b575bbc",
        "IPY_MODEL_2c978bdb87574c67b9422b95733362de"
       ],
       "layout": "IPY_MODEL_b336a9d612c94e09ba23ca208f8c684d"
      }
     },
     "4dc0535d064a4e41b5579901235f8dbe": {
      "model_module": "@jupyter-widgets/controls",
      "model_module_version": "1.5.0",
      "model_name": "DropdownModel",
      "state": {
       "_options_labels": [
        "Any"
       ],
       "disabled": true,
       "index": 0,
       "layout": "IPY_MODEL_8cc9e95fc27a4d419a863e3cc4a81363",
       "style": "IPY_MODEL_2374160e2fa542b9a1c2dc954d9a5bab"
      }
     },
     "4de7dab7f0784627afa1bb5c7d8b916b": {
      "model_module": "@jupyter-widgets/controls",
      "model_module_version": "1.5.0",
      "model_name": "ButtonStyleModel",
      "state": {}
     },
     "4de91392b68c45d5a98748773c790fdb": {
      "model_module": "@jupyter-widgets/base",
      "model_module_version": "1.2.0",
      "model_name": "LayoutModel",
      "state": {}
     },
     "4e894ff913474cdaa1fed9211357881f": {
      "model_module": "@jupyter-widgets/controls",
      "model_module_version": "1.5.0",
      "model_name": "HBoxModel",
      "state": {
       "children": [
        "IPY_MODEL_6fab4b09dc084645bb4afc051198a233",
        "IPY_MODEL_99447faa1fa542b4aadf755ad0be1646",
        "IPY_MODEL_5c9d4ce1ffef452bb6fb4857f84f884d",
        "IPY_MODEL_e8d50b2ad3594f7b800948e43cd93155"
       ],
       "layout": "IPY_MODEL_478f073470fa4f2c94b545402f26ca76"
      }
     },
     "4ebfa0889b4540afa5c2956f7653c0d3": {
      "model_module": "@jupyter-widgets/base",
      "model_module_version": "1.2.0",
      "model_name": "LayoutModel",
      "state": {
       "height": "32px",
       "order": "-2",
       "width": "32px"
      }
     },
     "4eef71aefcf14eec82767e4237be59c6": {
      "model_module": "@jupyter-widgets/controls",
      "model_module_version": "1.5.0",
      "model_name": "DescriptionStyleModel",
      "state": {
       "description_width": ""
      }
     },
     "4ef4af3fdb3945839388e2889a86da68": {
      "model_module": "@jupyter-widgets/controls",
      "model_module_version": "1.5.0",
      "model_name": "HTMLModel",
      "state": {
       "layout": "IPY_MODEL_2560df4c5a51424aabef2fb40b6c8341",
       "style": "IPY_MODEL_fc969f52c245417bbe7051a629b6790e",
       "value": "Showing Tasks 1-15 of 950"
      }
     },
     "4f9ff12366c34ea6bf16a00894f0aba5": {
      "model_module": "@jupyter-widgets/output",
      "model_module_version": "1.0.0",
      "model_name": "OutputModel",
      "state": {
       "layout": "IPY_MODEL_7931c2f6990e4307a63b1adaf9e3c4fc",
       "outputs": [
        {
         "data": {
          "application/vnd.jupyter.widget-view+json": {
           "model_id": "d7673dd7ff5b496d9ce8f41808254b28",
           "version_major": 2,
           "version_minor": 0
          },
          "text/plain": "HBox(children=(VBox(children=(VBox(children=(HTML(value='<font size=\"3\"><b>EDIT REQUIREMENTS</b></font size=>'…"
         },
         "metadata": {},
         "output_type": "display_data"
        }
       ]
      }
     },
     "4fee7373d1ea4e62a66ecd1ec7da5803": {
      "model_module": "@jupyter-widgets/controls",
      "model_module_version": "1.5.0",
      "model_name": "HBoxModel",
      "state": {
       "children": [
        "IPY_MODEL_b5bc2b0bfad8430696d30eb539655dcd",
        "IPY_MODEL_f138f63da5494ddb8bf952ec9cc34d81",
        "IPY_MODEL_ee25979dc73d484691fa09639d74ccc0",
        "IPY_MODEL_0b6a7be2281b4ef98e7e61ae97d442f9"
       ],
       "layout": "IPY_MODEL_26994ced48ce435f9aa1c927da48fd04"
      }
     },
     "507484ab33d743a2bd04656fac683391": {
      "model_module": "@jupyter-widgets/controls",
      "model_module_version": "1.5.0",
      "model_name": "ButtonStyleModel",
      "state": {}
     },
     "50c65dae0c6f4b348b8c76f2af096b33": {
      "model_module": "@jupyter-widgets/controls",
      "model_module_version": "1.5.0",
      "model_name": "LabelModel",
      "state": {
       "layout": "IPY_MODEL_437a41b703954a8b890d700a708da431",
       "style": "IPY_MODEL_618ea28866e74880887d6ad35aea4eb0",
       "value": "   objective"
      }
     },
     "50c7b69e661d4de1ab32ce372d3dcbf5": {
      "model_module": "@jupyter-widgets/base",
      "model_module_version": "1.2.0",
      "model_name": "LayoutModel",
      "state": {}
     },
     "50fff84e218449d89406357d5afac51a": {
      "model_module": "@jupyter-widgets/base",
      "model_module_version": "1.2.0",
      "model_name": "LayoutModel",
      "state": {
       "height": "32px",
       "overflow": "visible",
       "width": "100%"
      }
     },
     "5132e7a742044c1b990195069f170c67": {
      "model_module": "@jupyter-widgets/controls",
      "model_module_version": "1.5.0",
      "model_name": "ButtonModel",
      "state": {
       "layout": "IPY_MODEL_7b25fe46cbf5458ba025356e544cd9ea",
       "style": "IPY_MODEL_c00b7d4946a94b93a904617bb5ee5a8d"
      }
     },
     "513bdf1098994ed8932e40aec6d50399": {
      "model_module": "@jupyter-widgets/controls",
      "model_module_version": "1.5.0",
      "model_name": "DescriptionStyleModel",
      "state": {
       "description_width": ""
      }
     },
     "5145cbfba0ee458da71aa98bcbafd085": {
      "model_module": "@jupyter-widgets/controls",
      "model_module_version": "1.5.0",
      "model_name": "ButtonModel",
      "state": {
       "description": "EDIT",
       "layout": "IPY_MODEL_95d67a93fe474deba10d0973eddd9d5c",
       "style": "IPY_MODEL_171576476f2c4591bc3ff2a51fc38fa5"
      }
     },
     "516e5216232c4798b3f53f69f3aa8433": {
      "model_module": "@jupyter-widgets/controls",
      "model_module_version": "1.5.0",
      "model_name": "ProgressStyleModel",
      "state": {
       "description_width": ""
      }
     },
     "518a9045859b4f4c8d9a92f9082bcb48": {
      "model_module": "@jupyter-widgets/base",
      "model_module_version": "1.2.0",
      "model_name": "LayoutModel",
      "state": {
       "display": "flex",
       "flex_flow": "row wrap"
      }
     },
     "51ba6930802a42e6894d92b9a351a99c": {
      "model_module": "@jupyter-widgets/controls",
      "model_module_version": "1.5.0",
      "model_name": "IntProgressModel",
      "state": {
       "bar_style": "success",
       "layout": "IPY_MODEL_da2667a688324d81b8ac32fdc0a58232",
       "max": 200,
       "style": "IPY_MODEL_4a2b90bb3345412bb3fa81332c57f0b1",
       "value": 200
      }
     },
     "51ce7782ecbd4948b5251c62d6c8f77d": {
      "model_module": "@jupyter-widgets/base",
      "model_module_version": "1.2.0",
      "model_name": "LayoutModel",
      "state": {
       "height": "32px",
       "order": "-2",
       "width": "32px"
      }
     },
     "51d46a0b13e040aca64bcd755533132f": {
      "model_module": "@jupyter-widgets/controls",
      "model_module_version": "1.5.0",
      "model_name": "ButtonStyleModel",
      "state": {}
     },
     "51d8b44870e3416dbedb7c1c0116561d": {
      "model_module": "@jupyter-widgets/base",
      "model_module_version": "1.2.0",
      "model_name": "LayoutModel",
      "state": {
       "height": "32px",
       "overflow": "visible",
       "width": "100%"
      }
     },
     "520bc5cb62824e649356405aa1565a0c": {
      "model_module": "@jupyter-widgets/controls",
      "model_module_version": "1.5.0",
      "model_name": "ButtonModel",
      "state": {
       "layout": "IPY_MODEL_9f6b727ed2dc4280bf57de854757f764",
       "style": "IPY_MODEL_cdb180c93ad34f07acc10ab8b3ca55f8"
      }
     },
     "5222a3dd3a8c4b2486826f52b70abfdb": {
      "model_module": "@jupyter-widgets/controls",
      "model_module_version": "1.5.0",
      "model_name": "ButtonStyleModel",
      "state": {}
     },
     "523d5a7e994845d29619f12fe7c50ed8": {
      "model_module": "@jupyter-widgets/base",
      "model_module_version": "1.2.0",
      "model_name": "LayoutModel",
      "state": {
       "height": "32px",
       "order": "-2",
       "width": "32px"
      }
     },
     "5268fba03d6746ec9a4c2337c5d61ea5": {
      "model_module": "@jupyter-widgets/controls",
      "model_module_version": "1.5.0",
      "model_name": "ButtonModel",
      "state": {
       "layout": "IPY_MODEL_b4caabe7cd0e4aa7829866704f467054",
       "style": "IPY_MODEL_fd312b70942344a5a9d4afc9d52cec3f"
      }
     },
     "5281922c9bd24b079cfe01ce3ee1f461": {
      "model_module": "@jupyter-widgets/controls",
      "model_module_version": "1.5.0",
      "model_name": "ButtonStyleModel",
      "state": {}
     },
     "528a1a2ae6cc4d0a89774c49f07cc092": {
      "model_module": "@jupyter-widgets/controls",
      "model_module_version": "1.5.0",
      "model_name": "DescriptionStyleModel",
      "state": {
       "description_width": ""
      }
     },
     "52d547ee37a24ad686f7e97c0cfe8298": {
      "model_module": "@jupyter-widgets/controls",
      "model_module_version": "1.5.0",
      "model_name": "HBoxModel",
      "state": {
       "children": [
        "IPY_MODEL_041d11e87fd94ce49b7f3715508ce895",
        "IPY_MODEL_26a3d71289f84d689c8055278fe1c814",
        "IPY_MODEL_b8386ba738a14947b27d60fc948ff39c",
        "IPY_MODEL_a07ea31c0d6b4065abaae1e9882320b3"
       ],
       "layout": "IPY_MODEL_8dc165ae11024ab3b2cac234b3ac01b5"
      }
     },
     "5301e5ebe34942358ba389e3d14ce101": {
      "model_module": "@jupyter-widgets/controls",
      "model_module_version": "1.5.0",
      "model_name": "ButtonStyleModel",
      "state": {}
     },
     "530c4b92fc694ec7af6b7945d2d4cc32": {
      "model_module": "@jupyter-widgets/controls",
      "model_module_version": "1.5.0",
      "model_name": "DescriptionStyleModel",
      "state": {
       "description_width": ""
      }
     },
     "536ffef9a903428ba1c9dde860facb00": {
      "model_module": "@jupyter-widgets/controls",
      "model_module_version": "1.5.0",
      "model_name": "HBoxModel",
      "state": {
       "children": [
        "IPY_MODEL_520bc5cb62824e649356405aa1565a0c",
        "IPY_MODEL_b09173c46215465bbaac753d13632c62",
        "IPY_MODEL_bbaad51153584b9ab7427bfa182456bc",
        "IPY_MODEL_6473ab92a07347afab0d12892094689b"
       ],
       "layout": "IPY_MODEL_eac4a7bf83b3487481b1187c58f8cfe6"
      }
     },
     "53c3bd27b65f459c872e89fa5247c9a1": {
      "model_module": "@jupyter-widgets/base",
      "model_module_version": "1.2.0",
      "model_name": "LayoutModel",
      "state": {
       "overflow": "visible",
       "width": "100%"
      }
     },
     "53d952b6071a4a1a9f0c7f43ade906ff": {
      "model_module": "@jupyter-widgets/controls",
      "model_module_version": "1.5.0",
      "model_name": "DescriptionStyleModel",
      "state": {
       "description_width": ""
      }
     },
     "540b4c2bbfe44c948c2e3dfe47a040fa": {
      "model_module": "@jupyter-widgets/base",
      "model_module_version": "1.2.0",
      "model_name": "LayoutModel",
      "state": {
       "height": "32px",
       "overflow": "visible",
       "width": "100%"
      }
     },
     "546811ba024c4c9d923835309ddb8b60": {
      "model_module": "@jupyter-widgets/controls",
      "model_module_version": "1.5.0",
      "model_name": "DescriptionStyleModel",
      "state": {
       "description_width": ""
      }
     },
     "547af54fb40a429986ebb5376d492d11": {
      "model_module": "@jupyter-widgets/controls",
      "model_module_version": "1.5.0",
      "model_name": "DescriptionStyleModel",
      "state": {
       "description_width": ""
      }
     },
     "5486640ab94c48c9a0cc18319bb10bef": {
      "model_module": "@jupyter-widgets/base",
      "model_module_version": "1.2.0",
      "model_name": "LayoutModel",
      "state": {
       "order": "-1",
       "overflow": "visible",
       "padding": "1px",
       "width": "0px"
      }
     },
     "548acfab8d954d69b60626d44a424c39": {
      "model_module": "@jupyter-widgets/base",
      "model_module_version": "1.2.0",
      "model_name": "LayoutModel",
      "state": {
       "height": "32px",
       "overflow": "visible",
       "width": "100%"
      }
     },
     "54b98b5ed8ff4653bd72187955b036db": {
      "model_module": "@jupyter-widgets/base",
      "model_module_version": "1.2.0",
      "model_name": "LayoutModel",
      "state": {
       "display": "none"
      }
     },
     "55a9e01d115145478a04f39f7e56852f": {
      "model_module": "@jupyter-widgets/base",
      "model_module_version": "1.2.0",
      "model_name": "LayoutModel",
      "state": {
       "display": "none"
      }
     },
     "55cdbdd6893e42ec9a83cc7103b4199a": {
      "model_module": "@jupyter-widgets/controls",
      "model_module_version": "1.5.0",
      "model_name": "ButtonModel",
      "state": {
       "layout": "IPY_MODEL_4ebfa0889b4540afa5c2956f7653c0d3",
       "style": "IPY_MODEL_a7113629f1a044ff99b9b251fa1d88e0"
      }
     },
     "564d45d9d9bf4aa8aa8bfcbc5f16cd64": {
      "model_module": "@jupyter-widgets/controls",
      "model_module_version": "1.5.0",
      "model_name": "ButtonStyleModel",
      "state": {}
     },
     "569632ec12b44a44a127c3560a1c92ef": {
      "model_module": "@jupyter-widgets/base",
      "model_module_version": "1.2.0",
      "model_name": "LayoutModel",
      "state": {
       "height": "32px",
       "overflow": "visible",
       "width": "100%"
      }
     },
     "56be27388af64793adf16e138485cfdd": {
      "model_module": "@jupyter-widgets/base",
      "model_module_version": "1.2.0",
      "model_name": "LayoutModel",
      "state": {
       "display": "none",
       "width": "60px"
      }
     },
     "56c79beb1f0243e2a46819409ec48de4": {
      "model_module": "@jupyter-widgets/controls",
      "model_module_version": "1.5.0",
      "model_name": "HBoxModel",
      "state": {
       "children": [
        "IPY_MODEL_f6c70fa78ccb413ca504ec9d32390e2d",
        "IPY_MODEL_2615183148aa4dd6b2bafae42e087a83",
        "IPY_MODEL_69e5c2c4401749e2845383ec43e40d4b",
        "IPY_MODEL_cc2d2465522d4b9094f29e1c3a03d3c5"
       ],
       "layout": "IPY_MODEL_385cc18f991f43e492b2d11594bb2180"
      }
     },
     "56ddad879932447ca73828e7510df9f1": {
      "model_module": "@jupyter-widgets/controls",
      "model_module_version": "1.5.0",
      "model_name": "ButtonModel",
      "state": {
       "button_style": "success",
       "description": "EDIT",
       "layout": "IPY_MODEL_a6a25c0e75224cbd887339f56ff625b0",
       "style": "IPY_MODEL_a88f8d51f1c2453eadbe3c93d07a7fb4"
      }
     },
     "56df058fbea646989644f980bb0aeb38": {
      "model_module": "@jupyter-widgets/controls",
      "model_module_version": "1.5.0",
      "model_name": "DescriptionStyleModel",
      "state": {
       "description_width": ""
      }
     },
     "570313f081be4731aab5e7573443fdc0": {
      "model_module": "@jupyter-widgets/base",
      "model_module_version": "1.2.0",
      "model_name": "LayoutModel",
      "state": {
       "height": "32px",
       "order": "-2",
       "width": "32px"
      }
     },
     "5709cbd305104b71951f2bbc2ae4671e": {
      "model_module": "@jupyter-widgets/base",
      "model_module_version": "1.2.0",
      "model_name": "LayoutModel",
      "state": {
       "display": "none"
      }
     },
     "574f15eddbc449599e4147473454fbe5": {
      "model_module": "@jupyter-widgets/controls",
      "model_module_version": "1.5.0",
      "model_name": "VBoxModel",
      "state": {
       "children": [
        "IPY_MODEL_fc49d4eef07540e88a2bba7b480fc2aa",
        "IPY_MODEL_986bb80d3b784c37a5b3ce2247a6174f",
        "IPY_MODEL_1e075c5c0e384d519b825cd3287675a2",
        "IPY_MODEL_2f25c61fc3fc470db4fc348cc36b1850",
        "IPY_MODEL_0954e84e6fad4820aa7b47d9f395cf1e",
        "IPY_MODEL_56c79beb1f0243e2a46819409ec48de4"
       ],
       "layout": "IPY_MODEL_b03db7746ae5421fb9d450c484001c18"
      }
     },
     "5791fca5bbd549809f29321ad6f157d5": {
      "model_module": "@jupyter-widgets/base",
      "model_module_version": "1.2.0",
      "model_name": "LayoutModel",
      "state": {
       "display": "none",
       "width": "60px"
      }
     },
     "57ce80fbb4fa4da8bb88fcbcee566ba0": {
      "model_module": "@jupyter-widgets/controls",
      "model_module_version": "1.5.0",
      "model_name": "ButtonModel",
      "state": {
       "description": "EDIT",
       "layout": "IPY_MODEL_23610b464a9c4c7aaa0213536dc06e18",
       "style": "IPY_MODEL_f8620f8f3b714e5a850f92d3963ce87e"
      }
     },
     "57d0a211105447218be404cf3f5bfcfc": {
      "model_module": "@jupyter-widgets/controls",
      "model_module_version": "1.5.0",
      "model_name": "ButtonStyleModel",
      "state": {}
     },
     "581cdb9a86224bf6934f43ef07e4596f": {
      "model_module": "@jupyter-widgets/controls",
      "model_module_version": "1.5.0",
      "model_name": "ButtonModel",
      "state": {
       "description": "EDIT",
       "layout": "IPY_MODEL_8e2adfe2f00e4f75b51755f22cc3106d",
       "style": "IPY_MODEL_c604df63b2464f169e8371308202cabc"
      }
     },
     "58280e71bb534094b44229ce9e2fe149": {
      "model_module": "@jupyter-widgets/base",
      "model_module_version": "1.2.0",
      "model_name": "LayoutModel",
      "state": {
       "order": "-1",
       "overflow": "visible",
       "padding": "1px",
       "width": "0px"
      }
     },
     "5890dcbd4ab643c584e1eeb074dd4216": {
      "model_module": "@jupyter-widgets/base",
      "model_module_version": "1.2.0",
      "model_name": "LayoutModel",
      "state": {}
     },
     "58b3fd7fa6004c68bed209a90e922f70": {
      "model_module": "@jupyter-widgets/controls",
      "model_module_version": "1.5.0",
      "model_name": "ButtonStyleModel",
      "state": {}
     },
     "58e3a0615989461390453e4484a6478d": {
      "model_module": "@jupyter-widgets/base",
      "model_module_version": "1.2.0",
      "model_name": "LayoutModel",
      "state": {
       "order": "-1",
       "overflow": "visible",
       "padding": "1px",
       "width": "0px"
      }
     },
     "597ebe16902c4a958308c04eef1b894f": {
      "model_module": "@jupyter-widgets/base",
      "model_module_version": "1.2.0",
      "model_name": "LayoutModel",
      "state": {
       "display": "none",
       "width": "60px"
      }
     },
     "5989e829a8f643e2a123ad86adfcba4c": {
      "model_module": "@jupyter-widgets/controls",
      "model_module_version": "1.5.0",
      "model_name": "DescriptionStyleModel",
      "state": {
       "description_width": ""
      }
     },
     "599dd37cc8b24ea89d918f92a79c2421": {
      "model_module": "@jupyter-widgets/controls",
      "model_module_version": "1.5.0",
      "model_name": "DropdownModel",
      "state": {
       "_options_labels": [
        "All"
       ],
       "index": 0,
       "layout": "IPY_MODEL_4d4e692da64f47c8be31c91aad8991b0",
       "style": "IPY_MODEL_e4f741ad360243d09794316a67309ccb"
      }
     },
     "59a920c8b43e4b23b8e3c0ac281da504": {
      "model_module": "@jupyter-widgets/controls",
      "model_module_version": "1.5.0",
      "model_name": "LabelModel",
      "state": {
       "layout": "IPY_MODEL_5486640ab94c48c9a0cc18319bb10bef",
       "style": "IPY_MODEL_93ea022b10c24f68afd1a083c8bec64a",
       "value": "   objective"
      }
     },
     "59adc090b39d448db67f79769685b6ea": {
      "model_module": "@jupyter-widgets/base",
      "model_module_version": "1.2.0",
      "model_name": "LayoutModel",
      "state": {
       "height": "32px",
       "order": "-2",
       "width": "32px"
      }
     },
     "59d0fd0f57d84d719dc70fa0d18e5c71": {
      "model_module": "@jupyter-widgets/controls",
      "model_module_version": "1.5.0",
      "model_name": "HBoxModel",
      "state": {
       "children": [
        "IPY_MODEL_edfe04bbc3dc42e39463006b5a42e865",
        "IPY_MODEL_aa3c438c96c14f7c8ae4a6b681a5f165",
        "IPY_MODEL_a8d5708a1dc6496c8e5eb24e2e2ac3dd",
        "IPY_MODEL_0dcc141612c8400d9c72f3facb1fe5f3"
       ],
       "layout": "IPY_MODEL_e148c99cf91c4809a3f1b88ad7a44da7"
      }
     },
     "5a2a499c215144aa95dfb1dac4e42c74": {
      "model_module": "@jupyter-widgets/controls",
      "model_module_version": "1.5.0",
      "model_name": "DescriptionStyleModel",
      "state": {
       "description_width": ""
      }
     },
     "5a2d18444bc84555af744e0778c4574e": {
      "model_module": "@jupyter-widgets/controls",
      "model_module_version": "1.5.0",
      "model_name": "VBoxModel",
      "state": {
       "children": [
        "IPY_MODEL_0e496274fc014c3ea367c452f3ccdf3c",
        "IPY_MODEL_395554e0efab48de8c885fea710cfc97",
        "IPY_MODEL_dd184b7ebf9e40d98c7bd69835bd639a",
        "IPY_MODEL_4e894ff913474cdaa1fed9211357881f",
        "IPY_MODEL_0fde7493819348ee91258a93a314adea",
        "IPY_MODEL_cf3423ff5b4049218da5fc199c46fb84"
       ],
       "layout": "IPY_MODEL_162477b60d504141b93c7792aaaf66df"
      }
     },
     "5a31bf78a7d647f3ad4b5c3146c1f2ce": {
      "model_module": "@jupyter-widgets/controls",
      "model_module_version": "1.5.0",
      "model_name": "DescriptionStyleModel",
      "state": {
       "description_width": ""
      }
     },
     "5a55303b2bd74bcb99bee677b2d30111": {
      "model_module": "@jupyter-widgets/controls",
      "model_module_version": "1.5.0",
      "model_name": "ButtonModel",
      "state": {
       "layout": "IPY_MODEL_0b1ff4d3f30b45a6932f94e017581030",
       "style": "IPY_MODEL_7bf064d4d91347788f945f0f06238103"
      }
     },
     "5a6b574f57e84c30b96a17a88f95459e": {
      "model_module": "@jupyter-widgets/controls",
      "model_module_version": "1.5.0",
      "model_name": "ButtonStyleModel",
      "state": {}
     },
     "5a7cd5c9c32e4f2284f0591870b9821d": {
      "model_module": "@jupyter-widgets/base",
      "model_module_version": "1.2.0",
      "model_name": "LayoutModel",
      "state": {}
     },
     "5a95a21350604810bf951f759e291db7": {
      "model_module": "@jupyter-widgets/controls",
      "model_module_version": "1.5.0",
      "model_name": "ButtonStyleModel",
      "state": {}
     },
     "5aa73228fba94428ac0dbd3c9f1ef26e": {
      "model_module": "@jupyter-widgets/controls",
      "model_module_version": "1.5.0",
      "model_name": "DescriptionStyleModel",
      "state": {
       "description_width": ""
      }
     },
     "5adc57e4e9954cecaa1a384a8e59012c": {
      "model_module": "@jupyter-widgets/controls",
      "model_module_version": "1.5.0",
      "model_name": "DescriptionStyleModel",
      "state": {
       "description_width": ""
      }
     },
     "5b135da22b314479844926a2ca8734b2": {
      "model_module": "@jupyter-widgets/base",
      "model_module_version": "1.2.0",
      "model_name": "LayoutModel",
      "state": {
       "display": "flex",
       "flex_flow": "row wrap"
      }
     },
     "5b16110e93344613a6ef7d2ff2e318f5": {
      "model_module": "@jupyter-widgets/base",
      "model_module_version": "1.2.0",
      "model_name": "LayoutModel",
      "state": {
       "height": "32px",
       "overflow": "visible",
       "width": "100%"
      }
     },
     "5b35ca4be71641f59d17b3984be854cc": {
      "model_module": "@jupyter-widgets/controls",
      "model_module_version": "1.5.0",
      "model_name": "ButtonStyleModel",
      "state": {}
     },
     "5b494b89c9f0438992458ccdb0477a85": {
      "model_module": "@jupyter-widgets/controls",
      "model_module_version": "1.5.0",
      "model_name": "ProgressStyleModel",
      "state": {
       "description_width": ""
      }
     },
     "5b92ea49e9e74d5f961f8df638ba800f": {
      "model_module": "@jupyter-widgets/controls",
      "model_module_version": "1.5.0",
      "model_name": "ButtonStyleModel",
      "state": {}
     },
     "5b9555c4a8ef4e1bbed785b5ff7fb2fa": {
      "model_module": "@jupyter-widgets/controls",
      "model_module_version": "1.5.0",
      "model_name": "ButtonStyleModel",
      "state": {}
     },
     "5bbf5f4c59ab438d86b2472c42eda92d": {
      "model_module": "@jupyter-widgets/controls",
      "model_module_version": "1.5.0",
      "model_name": "DescriptionStyleModel",
      "state": {
       "description_width": ""
      }
     },
     "5bd8e80ef8b3434ca5e4b117fb1e4ee9": {
      "model_module": "@jupyter-widgets/controls",
      "model_module_version": "1.5.0",
      "model_name": "HTMLModel",
      "state": {
       "layout": "IPY_MODEL_bf4267a64e5944f3a0e44fd4e618a0b4",
       "style": "IPY_MODEL_90025f824bcf44b188e3cd0fa868f2c2",
       "value": "<font size=\"1\">Triumphs/Lore/Dusk and Dawn/Revelation/Suspicions</font size=>"
      }
     },
     "5c1540a86bbf4ac8ade20d6473069bc6": {
      "model_module": "@jupyter-widgets/base",
      "model_module_version": "1.2.0",
      "model_name": "LayoutModel",
      "state": {
       "display": "none"
      }
     },
     "5c5bba9474b54a3d9e07169618efbd0e": {
      "model_module": "@jupyter-widgets/controls",
      "model_module_version": "1.5.0",
      "model_name": "HTMLModel",
      "state": {
       "layout": "IPY_MODEL_cde0fc39e4eb44c0a91c3f18c9d13b63",
       "style": "IPY_MODEL_81e3f7589c1b4c3ebc7ae918b7514980",
       "value": "<b>Activity Options</b>"
      }
     },
     "5c8d21ad01de46019108fd1c5a3248ff": {
      "model_module": "@jupyter-widgets/controls",
      "model_module_version": "1.5.0",
      "model_name": "ButtonStyleModel",
      "state": {}
     },
     "5c9d4ce1ffef452bb6fb4857f84f884d": {
      "model_module": "@jupyter-widgets/controls",
      "model_module_version": "1.5.0",
      "model_name": "LabelModel",
      "state": {
       "layout": "IPY_MODEL_e1e1ce0012f741b697d0b68d614eeb94",
       "style": "IPY_MODEL_7ed3dc1259ae44daadf0e7810f8127fd",
       "value": "   objective"
      }
     },
     "5cfdae71bf0c49b7b8bb744b8c967c03": {
      "model_module": "@jupyter-widgets/controls",
      "model_module_version": "1.5.0",
      "model_name": "HBoxModel",
      "state": {
       "children": [
        "IPY_MODEL_fda06db9a39244409a1ffb3452e2e018",
        "IPY_MODEL_ab03b25ada7447aa958a7e4d8f9bf2a7",
        "IPY_MODEL_ce69495e78e74ad8839a7c9e5d7760b3",
        "IPY_MODEL_6a77ba3eb8144d2b820eeae0c753062b"
       ],
       "layout": "IPY_MODEL_d9c6244d078546fcab5e3253553c6d3f"
      }
     },
     "5d2df4f61f194159bc43dfef23fe75ab": {
      "model_module": "@jupyter-widgets/controls",
      "model_module_version": "1.5.0",
      "model_name": "ButtonModel",
      "state": {
       "layout": "IPY_MODEL_d0482847204f44bf87133074ce41c1cc",
       "style": "IPY_MODEL_2591fd0cba414e1aba70d9e186f1290a"
      }
     },
     "5d8c91b8157b476d89319479b1a01c92": {
      "model_module": "@jupyter-widgets/controls",
      "model_module_version": "1.5.0",
      "model_name": "ButtonStyleModel",
      "state": {}
     },
     "5da0bbc482db40be82057620af66bd96": {
      "model_module": "@jupyter-widgets/controls",
      "model_module_version": "1.5.0",
      "model_name": "ButtonStyleModel",
      "state": {}
     },
     "5da6b538b268455a9cbf3667f477cf2a": {
      "model_module": "@jupyter-widgets/controls",
      "model_module_version": "1.5.0",
      "model_name": "ButtonStyleModel",
      "state": {}
     },
     "5dc058d48da146e7925d38a9b8b3e543": {
      "model_module": "@jupyter-widgets/controls",
      "model_module_version": "1.5.0",
      "model_name": "DescriptionStyleModel",
      "state": {
       "description_width": ""
      }
     },
     "5ddfffa5293946899946283bc50b97c7": {
      "model_module": "@jupyter-widgets/controls",
      "model_module_version": "1.5.0",
      "model_name": "DescriptionStyleModel",
      "state": {
       "description_width": ""
      }
     },
     "5e0643122c5d41dbabaa593f739f3c49": {
      "model_module": "@jupyter-widgets/controls",
      "model_module_version": "1.5.0",
      "model_name": "VBoxModel",
      "state": {
       "children": [
        "IPY_MODEL_0f56ccd62d714dbca5fb09f34056c14c",
        "IPY_MODEL_42a88c2db22845cc83bf5b677b3ca3d2",
        "IPY_MODEL_6cf809143843473b92391aa649fafb9b",
        "IPY_MODEL_3838c67b1569435a9a743a55af0cb8c6"
       ],
       "layout": "IPY_MODEL_21893c0f90904aa8818f99f693db854b"
      }
     },
     "5e127d1a65a6436e83ac0dc11e71b99e": {
      "model_module": "@jupyter-widgets/base",
      "model_module_version": "1.2.0",
      "model_name": "LayoutModel",
      "state": {}
     },
     "5e2f4dbc494d49e1b89c3e7e629bfa9c": {
      "model_module": "@jupyter-widgets/controls",
      "model_module_version": "1.5.0",
      "model_name": "ButtonModel",
      "state": {
       "layout": "IPY_MODEL_bac71be4a11343b1925e544aa005adac",
       "style": "IPY_MODEL_907d19d9a60a4643ad1c1774719afd0c"
      }
     },
     "5e4cda02fee948269b9a68f9c23fb81a": {
      "model_module": "@jupyter-widgets/controls",
      "model_module_version": "1.5.0",
      "model_name": "ButtonModel",
      "state": {
       "description": "EDIT",
       "layout": "IPY_MODEL_0fdbef57282a4ded98f2484d875bc627",
       "style": "IPY_MODEL_cd24057e96d743748c23299f52f02b96"
      }
     },
     "5ecd04dae9b34e78838e5d9e5ad176e5": {
      "model_module": "@jupyter-widgets/base",
      "model_module_version": "1.2.0",
      "model_name": "LayoutModel",
      "state": {
       "display": "none",
       "width": "60px"
      }
     },
     "5f340c630ebe4f4bb9ddef518ef40e63": {
      "model_module": "@jupyter-widgets/base",
      "model_module_version": "1.2.0",
      "model_name": "LayoutModel",
      "state": {
       "height": "32px",
       "overflow": "visible",
       "width": "100%"
      }
     },
     "5f4b8d8d2a534371925d9b0df9da028a": {
      "model_module": "@jupyter-widgets/controls",
      "model_module_version": "1.5.0",
      "model_name": "DescriptionStyleModel",
      "state": {
       "description_width": ""
      }
     },
     "5f8a84a711544c5ab3ca870c9cdc1870": {
      "model_module": "@jupyter-widgets/base",
      "model_module_version": "1.2.0",
      "model_name": "LayoutModel",
      "state": {
       "height": "32px",
       "overflow": "visible",
       "width": "100%"
      }
     },
     "5fba5c744e6d4a99b58322906d2ad1a1": {
      "model_module": "@jupyter-widgets/base",
      "model_module_version": "1.2.0",
      "model_name": "LayoutModel",
      "state": {
       "order": "-1",
       "overflow": "visible",
       "padding": "1px",
       "width": "0px"
      }
     },
     "5fc4a03420d24a42a5cc41aa11666107": {
      "model_module": "@jupyter-widgets/controls",
      "model_module_version": "1.5.0",
      "model_name": "ButtonStyleModel",
      "state": {}
     },
     "5fdd526ad02147f9935f7351939df7b5": {
      "model_module": "@jupyter-widgets/controls",
      "model_module_version": "1.5.0",
      "model_name": "ButtonStyleModel",
      "state": {}
     },
     "5ff86d52e1c443fb97ea9afcf575648e": {
      "model_module": "@jupyter-widgets/controls",
      "model_module_version": "1.5.0",
      "model_name": "ProgressStyleModel",
      "state": {
       "description_width": ""
      }
     },
     "6036a48507e8427f8f5ec87ce30ee52f": {
      "model_module": "@jupyter-widgets/controls",
      "model_module_version": "1.5.0",
      "model_name": "ButtonModel",
      "state": {
       "description": "Previous",
       "disabled": true,
       "layout": "IPY_MODEL_7f884120dfb14e25bb159dae2f9ccddd",
       "style": "IPY_MODEL_2fdcddd5dbdd47aaaca696003f4762c5"
      }
     },
     "6037dc6e253d4c3f8e53bcd761d21df1": {
      "model_module": "@jupyter-widgets/controls",
      "model_module_version": "1.5.0",
      "model_name": "DropdownModel",
      "state": {
       "_options_labels": [
        "Any",
        "Arc",
        "Solar",
        "Void"
       ],
       "index": 0,
       "layout": "IPY_MODEL_dfd5c6303e934458b6257be1b14f92ef",
       "style": "IPY_MODEL_6fc2c10e0562440887fe7f0bd32d4b3f"
      }
     },
     "605d9040bbb34c4fadedcb41bd2fffcf": {
      "model_module": "@jupyter-widgets/controls",
      "model_module_version": "1.5.0",
      "model_name": "DescriptionStyleModel",
      "state": {
       "description_width": ""
      }
     },
     "6060ab6f81f04cd1876241dfad971682": {
      "model_module": "@jupyter-widgets/base",
      "model_module_version": "1.2.0",
      "model_name": "LayoutModel",
      "state": {
       "overflow": "visible",
       "width": "100%"
      }
     },
     "606ff8c47de640ec814fa6a0360e1448": {
      "model_module": "@jupyter-widgets/base",
      "model_module_version": "1.2.0",
      "model_name": "LayoutModel",
      "state": {
       "height": "32px",
       "order": "-2",
       "width": "32px"
      }
     },
     "608ace7fb66245789d14ab8269318451": {
      "model_module": "@jupyter-widgets/controls",
      "model_module_version": "1.5.0",
      "model_name": "DropdownModel",
      "state": {
       "_options_labels": [
        "Any",
        "Kinetic",
        "Energy",
        "Power"
       ],
       "index": 0,
       "layout": "IPY_MODEL_8cc9e95fc27a4d419a863e3cc4a81363",
       "style": "IPY_MODEL_5a31bf78a7d647f3ad4b5c3146c1f2ce"
      }
     },
     "60aeb31e221c4266904d9f09678bbe5f": {
      "model_module": "@jupyter-widgets/controls",
      "model_module_version": "1.5.0",
      "model_name": "IntProgressModel",
      "state": {
       "layout": "IPY_MODEL_ee1580aa8b394e72b96e3469d93bac38",
       "style": "IPY_MODEL_6954ac03e57446e1b7991267c3eb9355",
       "value": 30
      }
     },
     "60df9aaefd554a47a0ff78488010f895": {
      "model_module": "@jupyter-widgets/controls",
      "model_module_version": "1.5.0",
      "model_name": "ButtonModel",
      "state": {
       "layout": "IPY_MODEL_91988dd5c00f4a10ab2320585f1a817f",
       "style": "IPY_MODEL_f263e3218ed5415099dba4a8ee771a10"
      }
     },
     "60e7b19153944663af02e08f06a293e4": {
      "model_module": "@jupyter-widgets/base",
      "model_module_version": "1.2.0",
      "model_name": "LayoutModel",
      "state": {
       "order": "-1",
       "overflow": "visible",
       "padding": "1px",
       "width": "0px"
      }
     },
     "6110968138ec4ad4a840f9293a788361": {
      "model_module": "@jupyter-widgets/controls",
      "model_module_version": "1.5.0",
      "model_name": "LabelModel",
      "state": {
       "layout": "IPY_MODEL_e391a77dd4224953b66660611254ece0",
       "style": "IPY_MODEL_fd35ac81f5874293a2d702ece40de220",
       "value": "Loading Data (Interface)...."
      }
     },
     "61356f84396b400994904c0cab0d3ef9": {
      "model_module": "@jupyter-widgets/controls",
      "model_module_version": "1.5.0",
      "model_name": "ProgressStyleModel",
      "state": {
       "description_width": ""
      }
     },
     "6137b2cf1dfd4812893b972593a0c34b": {
      "model_module": "@jupyter-widgets/controls",
      "model_module_version": "1.5.0",
      "model_name": "HBoxModel",
      "state": {
       "children": [
        "IPY_MODEL_ecfa02cefd6f4e4c8f07dffc8ef75a7e",
        "IPY_MODEL_30f490e2c45d45aba4ca457fae45db34",
        "IPY_MODEL_59a920c8b43e4b23b8e3c0ac281da504",
        "IPY_MODEL_aa85ccea4a0f409c9e8be7b096e5a8c7"
       ],
       "layout": "IPY_MODEL_6511a89d718543e3adb250ba9eb51da8"
      }
     },
     "6174c1f198c84885a424fba821369078": {
      "model_module": "@jupyter-widgets/controls",
      "model_module_version": "1.5.0",
      "model_name": "ButtonStyleModel",
      "state": {}
     },
     "618ea28866e74880887d6ad35aea4eb0": {
      "model_module": "@jupyter-widgets/controls",
      "model_module_version": "1.5.0",
      "model_name": "DescriptionStyleModel",
      "state": {
       "description_width": ""
      }
     },
     "61c9288d2a4649ef8cceb7e45d8fe9bb": {
      "model_module": "@jupyter-widgets/controls",
      "model_module_version": "1.5.0",
      "model_name": "ButtonStyleModel",
      "state": {}
     },
     "61d1417b667f4bc19569e47bc178ac83": {
      "model_module": "@jupyter-widgets/controls",
      "model_module_version": "1.5.0",
      "model_name": "ProgressStyleModel",
      "state": {
       "description_width": ""
      }
     },
     "61d4c76c48b24035b4eb69742020a69e": {
      "model_module": "@jupyter-widgets/controls",
      "model_module_version": "1.5.0",
      "model_name": "ButtonStyleModel",
      "state": {}
     },
     "6229ebc82d5f40d5b78c276bfdb1a5af": {
      "model_module": "@jupyter-widgets/base",
      "model_module_version": "1.2.0",
      "model_name": "LayoutModel",
      "state": {
       "height": "32px",
       "order": "-2",
       "width": "32px"
      }
     },
     "62465746130740a392406442595a659e": {
      "model_module": "@jupyter-widgets/base",
      "model_module_version": "1.2.0",
      "model_name": "LayoutModel",
      "state": {
       "display": "none",
       "width": "60px"
      }
     },
     "625772f54be24a19873ca5f805112304": {
      "model_module": "@jupyter-widgets/base",
      "model_module_version": "1.2.0",
      "model_name": "LayoutModel",
      "state": {
       "height": "32px",
       "overflow": "visible",
       "width": "100%"
      }
     },
     "6259457832014682b62d7c3236e1fe2e": {
      "model_module": "@jupyter-widgets/base",
      "model_module_version": "1.2.0",
      "model_name": "LayoutModel",
      "state": {
       "display": "none",
       "width": "60px"
      }
     },
     "62ebbd8c1d6f4ccab698a3dc3a073ac3": {
      "model_module": "@jupyter-widgets/controls",
      "model_module_version": "1.5.0",
      "model_name": "HBoxModel",
      "state": {
       "children": [
        "IPY_MODEL_48824b258b5a42e4a8595c891c3855f6",
        "IPY_MODEL_92e662b709384b18a6bcd8b37aa3c379",
        "IPY_MODEL_d3e600dedd5b4100969ec8f81a6bb3e3",
        "IPY_MODEL_e0e1f22047374e35869f0cf28f5cc8d5"
       ],
       "layout": "IPY_MODEL_fe3a96b1f07f4942a8b0b973e3fcf75f"
      }
     },
     "631aa0ff49034c728b4aac6f740dc99e": {
      "model_module": "@jupyter-widgets/base",
      "model_module_version": "1.2.0",
      "model_name": "LayoutModel",
      "state": {
       "display": "flex"
      }
     },
     "6340334375214ac0ba4d29a4910f12a1": {
      "model_module": "@jupyter-widgets/base",
      "model_module_version": "1.2.0",
      "model_name": "LayoutModel",
      "state": {
       "height": "32px",
       "order": "-2",
       "width": "32px"
      }
     },
     "636989812bf54897ab63447e3bc0dc13": {
      "model_module": "@jupyter-widgets/controls",
      "model_module_version": "1.5.0",
      "model_name": "DescriptionStyleModel",
      "state": {
       "description_width": ""
      }
     },
     "6395ad786277429b97ea3eeeac1fa6bc": {
      "model_module": "@jupyter-widgets/controls",
      "model_module_version": "1.5.0",
      "model_name": "ButtonModel",
      "state": {
       "layout": "IPY_MODEL_6229ebc82d5f40d5b78c276bfdb1a5af",
       "style": "IPY_MODEL_57d0a211105447218be404cf3f5bfcfc"
      }
     },
     "63ab119353054497b30b4e0eb7b31e11": {
      "model_module": "@jupyter-widgets/controls",
      "model_module_version": "1.5.0",
      "model_name": "IntProgressModel",
      "state": {
       "layout": "IPY_MODEL_30a843a8a7ec458594c3122c05dc43f2",
       "max": 1,
       "style": "IPY_MODEL_61356f84396b400994904c0cab0d3ef9"
      }
     },
     "63bfc575e76e416bba84538db0216aec": {
      "model_module": "@jupyter-widgets/base",
      "model_module_version": "1.2.0",
      "model_name": "LayoutModel",
      "state": {
       "border": "3px solid white",
       "display": "flex",
       "flex": "1 1 0%",
       "margin": "10px",
       "min_width": "400px",
       "overflow": "visible",
       "padding": "10px",
       "width": "auto"
      }
     },
     "63c59d1c55cd4a9a9088418216e390ba": {
      "model_module": "@jupyter-widgets/controls",
      "model_module_version": "1.5.0",
      "model_name": "ButtonStyleModel",
      "state": {}
     },
     "63ce7624ed9b441a94d70a1810345ab3": {
      "model_module": "@jupyter-widgets/base",
      "model_module_version": "1.2.0",
      "model_name": "LayoutModel",
      "state": {
       "height": "32px",
       "order": "-2",
       "width": "32px"
      }
     },
     "63d4f2af4ce34248a37c24718326e185": {
      "model_module": "@jupyter-widgets/controls",
      "model_module_version": "1.5.0",
      "model_name": "DescriptionStyleModel",
      "state": {
       "description_width": ""
      }
     },
     "64068311da0b454cb7daca550e811745": {
      "model_module": "@jupyter-widgets/controls",
      "model_module_version": "1.5.0",
      "model_name": "LabelModel",
      "state": {
       "layout": "IPY_MODEL_b20ff29166d74db4b0bce08434f1db0f",
       "style": "IPY_MODEL_1436817eaeec49109585c00b8850ba8c",
       "value": "   objective"
      }
     },
     "6473ab92a07347afab0d12892094689b": {
      "model_module": "@jupyter-widgets/controls",
      "model_module_version": "1.5.0",
      "model_name": "ButtonModel",
      "state": {
       "description": "EDIT",
       "layout": "IPY_MODEL_241ab729adc14888add27237ea7a2945",
       "style": "IPY_MODEL_f9daa25888d9490982f9e7275d236e7d"
      }
     },
     "64a4ba1c9ef64ee69856791c2b0c49b0": {
      "model_module": "@jupyter-widgets/controls",
      "model_module_version": "1.5.0",
      "model_name": "ButtonModel",
      "state": {
       "description": "EDIT",
       "layout": "IPY_MODEL_ce7d5c1901774ba7b8a3ca3a0ddb78d1",
       "style": "IPY_MODEL_f1289b7d0e524170989f3cd60bddf1c0"
      }
     },
     "6511a89d718543e3adb250ba9eb51da8": {
      "model_module": "@jupyter-widgets/base",
      "model_module_version": "1.2.0",
      "model_name": "LayoutModel",
      "state": {
       "display": "none"
      }
     },
     "653feed579df422993771a966b485160": {
      "model_module": "@jupyter-widgets/base",
      "model_module_version": "1.2.0",
      "model_name": "LayoutModel",
      "state": {
       "overflow": "visible",
       "width": "100%"
      }
     },
     "656f721697dc4fc4944ef22b4848591f": {
      "model_module": "@jupyter-widgets/controls",
      "model_module_version": "1.5.0",
      "model_name": "DescriptionStyleModel",
      "state": {
       "description_width": ""
      }
     },
     "658bff5bf8b44086bf72917d8424f900": {
      "model_module": "@jupyter-widgets/base",
      "model_module_version": "1.2.0",
      "model_name": "LayoutModel",
      "state": {}
     },
     "65b3b3574cdc49be8726edd15f2f3c65": {
      "model_module": "@jupyter-widgets/base",
      "model_module_version": "1.2.0",
      "model_name": "LayoutModel",
      "state": {
       "height": "32px",
       "order": "-2",
       "width": "32px"
      }
     },
     "65ca365392304b658c33eda0f02e1cbb": {
      "model_module": "@jupyter-widgets/controls",
      "model_module_version": "1.5.0",
      "model_name": "ButtonStyleModel",
      "state": {}
     },
     "65cfa2b63b4f48aaa9c7cccd72f59364": {
      "model_module": "@jupyter-widgets/base",
      "model_module_version": "1.2.0",
      "model_name": "LayoutModel",
      "state": {
       "display": "none",
       "width": "60px"
      }
     },
     "65e7066b48e0454ea10eb6a517fbf311": {
      "model_module": "@jupyter-widgets/controls",
      "model_module_version": "1.5.0",
      "model_name": "HBoxModel",
      "state": {
       "children": [
        "IPY_MODEL_469dfad9bc7b42d1b027ff697ffc2801",
        "IPY_MODEL_ab4706d5a89c4808be9c1e5dc7cb70a5",
        "IPY_MODEL_b2aa735b5a804070a4dd9b37bcaf944b",
        "IPY_MODEL_033ac688cf40425795c79789cdd70391"
       ],
       "layout": "IPY_MODEL_90410b902cb440c888c02ab97b42ea8a"
      }
     },
     "661c5397be1e44368e64291acf01be4c": {
      "model_module": "@jupyter-widgets/base",
      "model_module_version": "1.2.0",
      "model_name": "LayoutModel",
      "state": {
       "display": "none",
       "width": "60px"
      }
     },
     "663b19e8ed01471e8919ef4166dc06b3": {
      "model_module": "@jupyter-widgets/controls",
      "model_module_version": "1.5.0",
      "model_name": "ProgressStyleModel",
      "state": {
       "description_width": ""
      }
     },
     "66571a9de9d541fb9ae4566e4e269c4e": {
      "model_module": "@jupyter-widgets/base",
      "model_module_version": "1.2.0",
      "model_name": "LayoutModel",
      "state": {
       "height": "32px",
       "order": "-2",
       "width": "32px"
      }
     },
     "6671d9f4310641199c2fdcc9d0bd8adc": {
      "model_module": "@jupyter-widgets/controls",
      "model_module_version": "1.5.0",
      "model_name": "HBoxModel",
      "state": {
       "children": [
        "IPY_MODEL_9492ed1a25604f99b14c286f8a924cfb",
        "IPY_MODEL_d97be573e0144c47b50934d0f491e285",
        "IPY_MODEL_d9c1889d418c4d52a7420b5fb103abb5",
        "IPY_MODEL_99a2f364e91e40398b339d38df9c95b8"
       ],
       "layout": "IPY_MODEL_a5732ee7c54445e794dfe90c72ae9ea2"
      }
     },
     "6699feb4c65846ddb0a806c64a59b436": {
      "model_module": "@jupyter-widgets/controls",
      "model_module_version": "1.5.0",
      "model_name": "HBoxModel",
      "state": {
       "children": [
        "IPY_MODEL_7a3b2ca5a965475db3c6ed76c6fc88c4",
        "IPY_MODEL_e5f0b5315bd749c28f20bc2308cbb77c",
        "IPY_MODEL_50c65dae0c6f4b348b8c76f2af096b33",
        "IPY_MODEL_26b919bbb23f4e318ea7f609f5f880ca"
       ],
       "layout": "IPY_MODEL_3f0b72006e4646589a04753aae72ad92"
      }
     },
     "66b65ad1d7cd4fb29eda17fe9647f1ba": {
      "model_module": "@jupyter-widgets/base",
      "model_module_version": "1.2.0",
      "model_name": "LayoutModel",
      "state": {
       "display": "none",
       "width": "60px"
      }
     },
     "6729a4ce9d9d4035b878e4deaedd849f": {
      "model_module": "@jupyter-widgets/base",
      "model_module_version": "1.2.0",
      "model_name": "LayoutModel",
      "state": {
       "height": "32px",
       "overflow": "visible",
       "width": "100%"
      }
     },
     "673645f0e67944ec8454c05d5d866b49": {
      "model_module": "@jupyter-widgets/controls",
      "model_module_version": "1.5.0",
      "model_name": "HBoxModel",
      "state": {
       "children": [
        "IPY_MODEL_7fca46a11c424203b51afd856503d73b",
        "IPY_MODEL_789ca02b85cf4957b866b44ea78e5bcc",
        "IPY_MODEL_bb3f08cffd3a4f409c35de0bd4b8b02b",
        "IPY_MODEL_785e3d61922d40439ff01ddf42254cab"
       ],
       "layout": "IPY_MODEL_d0d3ad302e844a93839dfe98e9b6418e"
      }
     },
     "67710b3e5cb64e61a7f2e201fc5cee8d": {
      "model_module": "@jupyter-widgets/controls",
      "model_module_version": "1.5.0",
      "model_name": "DescriptionStyleModel",
      "state": {
       "description_width": ""
      }
     },
     "678d248077bb4205953a9b38a1ad9f12": {
      "model_module": "@jupyter-widgets/controls",
      "model_module_version": "1.5.0",
      "model_name": "ButtonStyleModel",
      "state": {}
     },
     "679546e2357b48fdae7ca5935100597d": {
      "model_module": "@jupyter-widgets/base",
      "model_module_version": "1.2.0",
      "model_name": "LayoutModel",
      "state": {}
     },
     "679e538708894cae953d576fbde818af": {
      "model_module": "@jupyter-widgets/controls",
      "model_module_version": "1.5.0",
      "model_name": "LabelModel",
      "state": {
       "layout": "IPY_MODEL_d7fcc171b5d9488798094596e9719c8a",
       "style": "IPY_MODEL_f3c3a3f203174b93bcef142facdde640",
       "value": "   objective"
      }
     },
     "67cae642277a4dd48070fd2032ed97bc": {
      "model_module": "@jupyter-widgets/base",
      "model_module_version": "1.2.0",
      "model_name": "LayoutModel",
      "state": {
       "height": "32px",
       "overflow": "visible",
       "width": "100%"
      }
     },
     "67ea3d0d67584561822fa1a356471959": {
      "model_module": "@jupyter-widgets/controls",
      "model_module_version": "1.5.0",
      "model_name": "ButtonStyleModel",
      "state": {}
     },
     "6808bff301cc49a18c275cae70d27b92": {
      "model_module": "@jupyter-widgets/controls",
      "model_module_version": "1.5.0",
      "model_name": "LabelModel",
      "state": {
       "layout": "IPY_MODEL_1fd56666d4f746669b1940d4de2838aa",
       "style": "IPY_MODEL_174f910f5c8c43e5929c6793adeff33a",
       "value": "     (0/1)"
      }
     },
     "6851363c22e94b39b27f7b54dd7a7c3b": {
      "model_module": "@jupyter-widgets/controls",
      "model_module_version": "1.5.0",
      "model_name": "ButtonStyleModel",
      "state": {}
     },
     "6901dfcbb89b4d42b3c5c82a49a1f88a": {
      "model_module": "@jupyter-widgets/base",
      "model_module_version": "1.2.0",
      "model_name": "LayoutModel",
      "state": {}
     },
     "6917e87be9c24cf48797699ac963ce6d": {
      "model_module": "@jupyter-widgets/base",
      "model_module_version": "1.2.0",
      "model_name": "LayoutModel",
      "state": {
       "order": "-1",
       "overflow": "visible",
       "padding": "1px",
       "width": "0px"
      }
     },
     "6954ac03e57446e1b7991267c3eb9355": {
      "model_module": "@jupyter-widgets/controls",
      "model_module_version": "1.5.0",
      "model_name": "ProgressStyleModel",
      "state": {
       "description_width": ""
      }
     },
     "69576a1fee974555bd26aac2e2fa5287": {
      "model_module": "@jupyter-widgets/base",
      "model_module_version": "1.2.0",
      "model_name": "LayoutModel",
      "state": {}
     },
     "69988e81541b4eff8d5e0e277f9777d4": {
      "model_module": "@jupyter-widgets/base",
      "model_module_version": "1.2.0",
      "model_name": "LayoutModel",
      "state": {
       "display": "flex",
       "flex_flow": "row wrap"
      }
     },
     "69a656eab5e74a1b8c8c4716846c04a1": {
      "model_module": "@jupyter-widgets/base",
      "model_module_version": "1.2.0",
      "model_name": "LayoutModel",
      "state": {
       "height": "32px",
       "order": "-2",
       "width": "32px"
      }
     },
     "69b714dda64749cda1c365ca69002405": {
      "model_module": "@jupyter-widgets/controls",
      "model_module_version": "1.5.0",
      "model_name": "ButtonStyleModel",
      "state": {}
     },
     "69e5c2c4401749e2845383ec43e40d4b": {
      "model_module": "@jupyter-widgets/controls",
      "model_module_version": "1.5.0",
      "model_name": "LabelModel",
      "state": {
       "layout": "IPY_MODEL_89b9094006f0463bad362935b1dc8475",
       "style": "IPY_MODEL_5adc57e4e9954cecaa1a384a8e59012c",
       "value": "   objective"
      }
     },
     "69f9dec0fc1f4f2c84198470cd4760da": {
      "model_module": "@jupyter-widgets/controls",
      "model_module_version": "1.5.0",
      "model_name": "ButtonModel",
      "state": {
       "layout": "IPY_MODEL_b659bde8383a4359abf5fd8eaaee70eb",
       "style": "IPY_MODEL_86095fe66a0441d2a6f3ee76ce72454c"
      }
     },
     "6a2357a372644df3994b5c42f87eddc8": {
      "model_module": "@jupyter-widgets/controls",
      "model_module_version": "1.5.0",
      "model_name": "ProgressStyleModel",
      "state": {
       "description_width": ""
      }
     },
     "6a2f5e29fca64b7981b09cd8a361d567": {
      "model_module": "@jupyter-widgets/controls",
      "model_module_version": "1.5.0",
      "model_name": "HTMLModel",
      "state": {
       "layout": "IPY_MODEL_829c9cc416924337b7acf1d6b8b89578",
       "style": "IPY_MODEL_a26ae8dad3894396bd8187c8be6dd01b",
       "value": "<font size=\"5\"><b>Coliseum Champion</b></font size=>"
      }
     },
     "6a353e7ac06d4e2e88c35c93dd1e470c": {
      "model_module": "@jupyter-widgets/controls",
      "model_module_version": "1.5.0",
      "model_name": "IntProgressModel",
      "state": {
       "layout": "IPY_MODEL_6b0873a84f20475d86da435e7e30fd97",
       "style": "IPY_MODEL_a8d155a3c5904d08bdb19cef354c1dc2",
       "value": 30
      }
     },
     "6a4e0aa635834d14b085ab384ab164f4": {
      "model_module": "@jupyter-widgets/base",
      "model_module_version": "1.2.0",
      "model_name": "LayoutModel",
      "state": {
       "order": "-1",
       "overflow": "visible",
       "padding": "1px",
       "width": "0px"
      }
     },
     "6a77ba3eb8144d2b820eeae0c753062b": {
      "model_module": "@jupyter-widgets/controls",
      "model_module_version": "1.5.0",
      "model_name": "ButtonModel",
      "state": {
       "description": "EDIT",
       "layout": "IPY_MODEL_936a701aba1d4923ae7a26e4ef3ecb3c",
       "style": "IPY_MODEL_7bab639d256b43459043375f40294528"
      }
     },
     "6ab843f4e099497ab7b3c1798461acd9": {
      "model_module": "@jupyter-widgets/base",
      "model_module_version": "1.2.0",
      "model_name": "LayoutModel",
      "state": {
       "height": "32px",
       "order": "-2",
       "width": "32px"
      }
     },
     "6b0873a84f20475d86da435e7e30fd97": {
      "model_module": "@jupyter-widgets/base",
      "model_module_version": "1.2.0",
      "model_name": "LayoutModel",
      "state": {
       "height": "32px",
       "overflow": "visible",
       "width": "100%"
      }
     },
     "6b263ae1b99e483c9aefe5e69823b851": {
      "model_module": "@jupyter-widgets/controls",
      "model_module_version": "1.5.0",
      "model_name": "ButtonStyleModel",
      "state": {}
     },
     "6b6a57723d904446836283f0b7098953": {
      "model_module": "@jupyter-widgets/base",
      "model_module_version": "1.2.0",
      "model_name": "LayoutModel",
      "state": {
       "order": "-1",
       "overflow": "visible",
       "padding": "1px",
       "width": "0px"
      }
     },
     "6b7c34e484534c06a372d66b9b32419f": {
      "model_module": "@jupyter-widgets/base",
      "model_module_version": "1.2.0",
      "model_name": "LayoutModel",
      "state": {}
     },
     "6bfde74c36c245a180d503619577f44c": {
      "model_module": "@jupyter-widgets/controls",
      "model_module_version": "1.5.0",
      "model_name": "ButtonModel",
      "state": {
       "layout": "IPY_MODEL_63ce7624ed9b441a94d70a1810345ab3",
       "style": "IPY_MODEL_23a241c9ac0c4fceb6238cfc5d6b7047"
      }
     },
     "6c2765439627466f9109052ff7e70561": {
      "model_module": "@jupyter-widgets/controls",
      "model_module_version": "1.5.0",
      "model_name": "HBoxModel",
      "state": {
       "children": [
        "IPY_MODEL_2c53e80ab5f649d4965daf2826234582",
        "IPY_MODEL_801e94b4bd2f42058995db0de0440afa",
        "IPY_MODEL_6d441acd9461475a98bbfc01039161b0",
        "IPY_MODEL_f133cac56d5943289a2435939046557a"
       ],
       "layout": "IPY_MODEL_b924617afe534bfeb8d7ef1fc6b6fcc2"
      }
     },
     "6c78e64fcfb64aa5b09f89248ff68ace": {
      "model_module": "@jupyter-widgets/controls",
      "model_module_version": "1.5.0",
      "model_name": "LabelModel",
      "state": {
       "layout": "IPY_MODEL_1c6a37c56d8d49fd8a6905b4335fb8a2",
       "style": "IPY_MODEL_2900b8cf62fb439d86b317a184965c34",
       "value": "   objective"
      }
     },
     "6c7de88423784dacb9d1d91578475fc4": {
      "model_module": "@jupyter-widgets/base",
      "model_module_version": "1.2.0",
      "model_name": "LayoutModel",
      "state": {
       "height": "32px",
       "order": "-2",
       "width": "32px"
      }
     },
     "6c8ad5141bde4101b9d2c04b00a71d81": {
      "model_module": "@jupyter-widgets/controls",
      "model_module_version": "1.5.0",
      "model_name": "HBoxModel",
      "state": {
       "children": [
        "IPY_MODEL_474948e74ae841bcaac5f8c0d8b4b269",
        "IPY_MODEL_60aeb31e221c4266904d9f09678bbe5f",
        "IPY_MODEL_a014d2e993a24275ad2fe7afd88af801",
        "IPY_MODEL_36b6a861214f4b2c90af483b3f097940"
       ],
       "layout": "IPY_MODEL_1bd51914b1054c61a3c45997e4894cb9"
      }
     },
     "6cdd429bf658462893e583a0dbc07720": {
      "model_module": "@jupyter-widgets/base",
      "model_module_version": "1.2.0",
      "model_name": "LayoutModel",
      "state": {
       "order": "-1",
       "overflow": "visible",
       "padding": "1px",
       "width": "0px"
      }
     },
     "6cf809143843473b92391aa649fafb9b": {
      "model_module": "@jupyter-widgets/controls",
      "model_module_version": "1.5.0",
      "model_name": "HTMLModel",
      "state": {
       "layout": "IPY_MODEL_5b135da22b314479844926a2ca8734b2",
       "style": "IPY_MODEL_afdf40289fa241019bc4c2103192bf2c",
       "value": "<i>Complete all Invitations from the Nine.</i>"
      }
     },
     "6d346cf1fb1a438e972078719087b594": {
      "model_module": "@jupyter-widgets/base",
      "model_module_version": "1.2.0",
      "model_name": "LayoutModel",
      "state": {
       "order": "-1",
       "overflow": "visible",
       "padding": "1px",
       "width": "0px"
      }
     },
     "6d36a48d3f4d4f8f8bb18db816294888": {
      "model_module": "@jupyter-widgets/base",
      "model_module_version": "1.2.0",
      "model_name": "LayoutModel",
      "state": {
       "height": "32px",
       "overflow": "visible",
       "width": "100%"
      }
     },
     "6d441acd9461475a98bbfc01039161b0": {
      "model_module": "@jupyter-widgets/controls",
      "model_module_version": "1.5.0",
      "model_name": "LabelModel",
      "state": {
       "layout": "IPY_MODEL_48429ebd900f4750935582d8bb6be87f",
       "style": "IPY_MODEL_b38879b25be442bea0cc44fbc0b57d9e",
       "value": "   objective"
      }
     },
     "6dcdb294eb2448dea5a5b36337d54384": {
      "model_module": "@jupyter-widgets/controls",
      "model_module_version": "1.5.0",
      "model_name": "DescriptionStyleModel",
      "state": {
       "description_width": ""
      }
     },
     "6dd6e759a21d405aafeea0e70577b1b7": {
      "model_module": "@jupyter-widgets/controls",
      "model_module_version": "1.5.0",
      "model_name": "ButtonModel",
      "state": {
       "button_style": "success",
       "description": "EDIT",
       "layout": "IPY_MODEL_cb8c05fbb710417cb387ce32043ef1f9",
       "style": "IPY_MODEL_d531b743b19a4fd38918beacd6addd2a"
      }
     },
     "6df5612996d543c781a6aa265f0e74ea": {
      "model_module": "@jupyter-widgets/base",
      "model_module_version": "1.2.0",
      "model_name": "LayoutModel",
      "state": {
       "display": "none",
       "width": "60px"
      }
     },
     "6e230aba56a445e185b698b3a4a6b409": {
      "model_module": "@jupyter-widgets/controls",
      "model_module_version": "1.5.0",
      "model_name": "DescriptionStyleModel",
      "state": {
       "description_width": ""
      }
     },
     "6ea8456572ca4a02be95fb93d91212b9": {
      "model_module": "@jupyter-widgets/base",
      "model_module_version": "1.2.0",
      "model_name": "LayoutModel",
      "state": {
       "order": "-1",
       "overflow": "visible",
       "padding": "1px",
       "width": "0px"
      }
     },
     "6eb97c8b6b984c1ab73fcada3bba3590": {
      "model_module": "@jupyter-widgets/controls",
      "model_module_version": "1.5.0",
      "model_name": "ButtonStyleModel",
      "state": {}
     },
     "6eca0469bde24a7392b3b308c2f13c1b": {
      "model_module": "@jupyter-widgets/base",
      "model_module_version": "1.2.0",
      "model_name": "LayoutModel",
      "state": {}
     },
     "6ecc816b90d642c4ab6d4d484d0621a7": {
      "model_module": "@jupyter-widgets/base",
      "model_module_version": "1.2.0",
      "model_name": "LayoutModel",
      "state": {}
     },
     "6f002ab2bf544b6f9843d9d956c977af": {
      "model_module": "@jupyter-widgets/controls",
      "model_module_version": "1.5.0",
      "model_name": "HBoxModel",
      "state": {
       "children": [
        "IPY_MODEL_c352dad518a840e3b4a475f22965ce06",
        "IPY_MODEL_2398a97b20e94bc9a2d38aab04d49894",
        "IPY_MODEL_b350e4c2b20b401281e5b4bf823100a9",
        "IPY_MODEL_be6e902b016449959e145c90010f8a32"
       ],
       "layout": "IPY_MODEL_9ce69f32d8ff4a4abce1f1a2907a8f61"
      }
     },
     "6f0cca5628614397af56faa92830edc2": {
      "model_module": "@jupyter-widgets/controls",
      "model_module_version": "1.5.0",
      "model_name": "HTMLModel",
      "state": {
       "layout": "IPY_MODEL_00ab43f1823a40a3a9fde16f7b1e95cb",
       "style": "IPY_MODEL_937b4b0614454209a56bbf82257417a6",
       "value": "<font size=\"5\"><b>Season 6: Valor</b></font size=>"
      }
     },
     "6f1f21f38bd345d684f3beffe813655b": {
      "model_module": "@jupyter-widgets/controls",
      "model_module_version": "1.5.0",
      "model_name": "DescriptionStyleModel",
      "state": {
       "description_width": ""
      }
     },
     "6f1fda0d152a4bf5ba319ed1726af678": {
      "model_module": "@jupyter-widgets/controls",
      "model_module_version": "1.5.0",
      "model_name": "ProgressStyleModel",
      "state": {
       "description_width": ""
      }
     },
     "6f2dcc5e2dca4393b3ca6daaf0f19579": {
      "model_module": "@jupyter-widgets/controls",
      "model_module_version": "1.5.0",
      "model_name": "DescriptionStyleModel",
      "state": {
       "description_width": ""
      }
     },
     "6f2e48835cd143d9ad80f47f771586b9": {
      "model_module": "@jupyter-widgets/base",
      "model_module_version": "1.2.0",
      "model_name": "LayoutModel",
      "state": {
       "height": "32px",
       "order": "-2",
       "width": "32px"
      }
     },
     "6f7d1abaee05410cbb757f0c40712204": {
      "model_module": "@jupyter-widgets/controls",
      "model_module_version": "1.5.0",
      "model_name": "VBoxModel",
      "state": {
       "children": [
        "IPY_MODEL_bbeae8de326c4d43920635ccc662a14b",
        "IPY_MODEL_be8610e6fb4d4d91a347dfebce41d07c",
        "IPY_MODEL_e0aee399113d466abe4c83fe642fbcd7",
        "IPY_MODEL_ceb2e80dae6b47969dac727117d84162"
       ],
       "layout": "IPY_MODEL_08d12a47746148fc817ea430553b0fed"
      }
     },
     "6fa16871996749d08ffa6ebf5473c840": {
      "model_module": "@jupyter-widgets/controls",
      "model_module_version": "1.5.0",
      "model_name": "ButtonModel",
      "state": {
       "description": "EDIT",
       "layout": "IPY_MODEL_5ecd04dae9b34e78838e5d9e5ad176e5",
       "style": "IPY_MODEL_0252899be1a047298e562dd56c34e8f5"
      }
     },
     "6fab4b09dc084645bb4afc051198a233": {
      "model_module": "@jupyter-widgets/controls",
      "model_module_version": "1.5.0",
      "model_name": "ButtonModel",
      "state": {
       "layout": "IPY_MODEL_c2ee5789d2034d97a6b2364c15da36f0",
       "style": "IPY_MODEL_890acad5c36d4620ba6bebf6d79747b1"
      }
     },
     "6fafac14dd7343d4946ba2d591bd93eb": {
      "model_module": "@jupyter-widgets/controls",
      "model_module_version": "1.5.0",
      "model_name": "IntProgressModel",
      "state": {
       "layout": "IPY_MODEL_5b16110e93344613a6ef7d2ff2e318f5",
       "style": "IPY_MODEL_dc11040c239d44e1be352da33ebffc90",
       "value": 30
      }
     },
     "6fc2c10e0562440887fe7f0bd32d4b3f": {
      "model_module": "@jupyter-widgets/controls",
      "model_module_version": "1.5.0",
      "model_name": "DescriptionStyleModel",
      "state": {
       "description_width": ""
      }
     },
     "6ff0ceb1286b4b7bb68c114ba2985d8f": {
      "model_module": "@jupyter-widgets/base",
      "model_module_version": "1.2.0",
      "model_name": "LayoutModel",
      "state": {
       "height": "32px",
       "overflow": "visible",
       "width": "100%"
      }
     },
     "7091941fd4fa43bda038c0628553beb3": {
      "model_module": "@jupyter-widgets/base",
      "model_module_version": "1.2.0",
      "model_name": "LayoutModel",
      "state": {
       "height": "32px",
       "order": "-2",
       "width": "32px"
      }
     },
     "70f1953c465e4160b725819b3554349f": {
      "model_module": "@jupyter-widgets/controls",
      "model_module_version": "1.5.0",
      "model_name": "IntProgressModel",
      "state": {
       "bar_style": "success",
       "layout": "IPY_MODEL_9647be16b2674f3cb19894a5bb3c1e66",
       "max": 1,
       "style": "IPY_MODEL_ca105abe949449c9b54400a191bacc9f",
       "value": 1
      }
     },
     "70f594b8996d4dafb4f1144450e93b7c": {
      "model_module": "@jupyter-widgets/base",
      "model_module_version": "1.2.0",
      "model_name": "LayoutModel",
      "state": {
       "display": "none"
      }
     },
     "70fe75107b5c46b7b4624eb4c157eaaa": {
      "model_module": "@jupyter-widgets/base",
      "model_module_version": "1.2.0",
      "model_name": "LayoutModel",
      "state": {
       "display": "flex",
       "flex_flow": "row wrap"
      }
     },
     "710cc3841d1642a9ba2116487da7ddc4": {
      "model_module": "@jupyter-widgets/controls",
      "model_module_version": "1.5.0",
      "model_name": "HBoxModel",
      "state": {
       "children": [
        "IPY_MODEL_48fba4ea26424f6e87f830692c6ac886",
        "IPY_MODEL_e2e7af2c0d4d42aeadab327cb13bac38",
        "IPY_MODEL_e8ffd080c63b407da4fedc90060486c7",
        "IPY_MODEL_a927bd0354414cf2966520e34c8454a9"
       ],
       "layout": "IPY_MODEL_41b43fb900b6428c8c0da95e3535b9d9"
      }
     },
     "71301faf783c4377ae6b170a857fbdd2": {
      "model_module": "@jupyter-widgets/controls",
      "model_module_version": "1.5.0",
      "model_name": "ButtonStyleModel",
      "state": {}
     },
     "7137e5ae296b401b96f401c847350b14": {
      "model_module": "@jupyter-widgets/base",
      "model_module_version": "1.2.0",
      "model_name": "LayoutModel",
      "state": {
       "order": "-1",
       "overflow": "visible",
       "padding": "1px",
       "width": "0px"
      }
     },
     "71792d825c2f4e0d83452ca64b8717e6": {
      "model_module": "@jupyter-widgets/base",
      "model_module_version": "1.2.0",
      "model_name": "LayoutModel",
      "state": {
       "display": "none"
      }
     },
     "718e1a08825541bc8da86e274e86c3ae": {
      "model_module": "@jupyter-widgets/base",
      "model_module_version": "1.2.0",
      "model_name": "LayoutModel",
      "state": {
       "width": "186px"
      }
     },
     "71d5afbebaaa415c9911ed386ad2e5dc": {
      "model_module": "@jupyter-widgets/base",
      "model_module_version": "1.2.0",
      "model_name": "LayoutModel",
      "state": {
       "display": "flex"
      }
     },
     "720aa2d682334f08af1b991cf82b0519": {
      "model_module": "@jupyter-widgets/controls",
      "model_module_version": "1.5.0",
      "model_name": "ButtonModel",
      "state": {
       "layout": "IPY_MODEL_10f1ce53c1d44401b2c6df2cfb2fec56",
       "style": "IPY_MODEL_b3548f85e5ee4c69b3ea56fbbc9cbe66"
      }
     },
     "72446b8986364a099961ad73c646cb9b": {
      "model_module": "@jupyter-widgets/base",
      "model_module_version": "1.2.0",
      "model_name": "LayoutModel",
      "state": {
       "height": "32px",
       "overflow": "visible",
       "width": "100%"
      }
     },
     "72821f7b357242968353621441945c67": {
      "model_module": "@jupyter-widgets/base",
      "model_module_version": "1.2.0",
      "model_name": "LayoutModel",
      "state": {
       "height": "32px",
       "overflow": "visible",
       "width": "100%"
      }
     },
     "728422b674984a74b7cdd284e8406d51": {
      "model_module": "@jupyter-widgets/controls",
      "model_module_version": "1.5.0",
      "model_name": "HTMLModel",
      "state": {
       "layout": "IPY_MODEL_53c3bd27b65f459c872e89fa5247c9a1",
       "style": "IPY_MODEL_e6d08c29ca2b415996d252a9a6509b60",
       "value": "<font size=\"1\">Triumphs/Destinations/Major/Nessus, Unstable Centaur/Reunited Siblings</font size=>"
      }
     },
     "72ae76b792e34ef9a62c63418fe620f5": {
      "model_module": "@jupyter-widgets/controls",
      "model_module_version": "1.5.0",
      "model_name": "HBoxModel",
      "state": {
       "children": [
        "IPY_MODEL_c0aac8a4b50240ce89ce38a3915a7358",
        "IPY_MODEL_b4a3812e3f7a4532a26872a211c2160b",
        "IPY_MODEL_21c2dd0aa51f4be89030c208dbbb59c5",
        "IPY_MODEL_35504a72a8124e62a3dc309ec9f4e6e1"
       ],
       "layout": "IPY_MODEL_c4966108ecf04cd2b7d92084e5695f07"
      }
     },
     "72af117426ce4d26a7a64c89f5481cda": {
      "model_module": "@jupyter-widgets/controls",
      "model_module_version": "1.5.0",
      "model_name": "DescriptionStyleModel",
      "state": {
       "description_width": ""
      }
     },
     "732081c906f84f94813d9589990382ce": {
      "model_module": "@jupyter-widgets/controls",
      "model_module_version": "1.5.0",
      "model_name": "DescriptionStyleModel",
      "state": {
       "description_width": ""
      }
     },
     "734cebf1697444458538bc0654d2c881": {
      "model_module": "@jupyter-widgets/controls",
      "model_module_version": "1.5.0",
      "model_name": "IntProgressModel",
      "state": {
       "layout": "IPY_MODEL_569632ec12b44a44a127c3560a1c92ef",
       "style": "IPY_MODEL_47c2bdbb06f14aaeb221c2feaa2bd7b9",
       "value": 30
      }
     },
     "7375a6da29ed453ea7d82532366ece8a": {
      "model_module": "@jupyter-widgets/base",
      "model_module_version": "1.2.0",
      "model_name": "LayoutModel",
      "state": {
       "order": "-1",
       "overflow": "visible",
       "padding": "1px",
       "width": "0px"
      }
     },
     "73aebad55c0b4940a3f57130e9636b21": {
      "model_module": "@jupyter-widgets/controls",
      "model_module_version": "1.5.0",
      "model_name": "ButtonStyleModel",
      "state": {}
     },
     "73d17fd09e6c4eb695b61164800d6c1c": {
      "model_module": "@jupyter-widgets/controls",
      "model_module_version": "1.5.0",
      "model_name": "ProgressStyleModel",
      "state": {
       "description_width": ""
      }
     },
     "73e49ed13ad54c4da695d840b24abb2d": {
      "model_module": "@jupyter-widgets/controls",
      "model_module_version": "1.5.0",
      "model_name": "ButtonModel",
      "state": {
       "layout": "IPY_MODEL_8fffaf13d42b4d95995feb523576c54c",
       "style": "IPY_MODEL_0327a4b17d4f4dc4b62c9caee54f11c6"
      }
     },
     "73f9c2b701fc4513adcd905cbffb28ff": {
      "model_module": "@jupyter-widgets/base",
      "model_module_version": "1.2.0",
      "model_name": "LayoutModel",
      "state": {
       "display": "none",
       "width": "60px"
      }
     },
     "7476eb0b53f14fa0bfc23c1975be2da2": {
      "model_module": "@jupyter-widgets/controls",
      "model_module_version": "1.5.0",
      "model_name": "HTMLModel",
      "state": {
       "layout": "IPY_MODEL_eedbf386138f450ab1bbeba467466dd0",
       "style": "IPY_MODEL_53d952b6071a4a1a9f0c7f43ade906ff",
       "value": "<font size=\"1\">Seals/Moments of Triumph: MMXIX/Prime Fashion</font size=>"
      }
     },
     "74824f19556148f780e8dd77d2993882": {
      "model_module": "@jupyter-widgets/controls",
      "model_module_version": "1.5.0",
      "model_name": "ButtonModel",
      "state": {
       "description": "EDIT",
       "layout": "IPY_MODEL_02b35a6121634aec961a571387d13dd4",
       "style": "IPY_MODEL_ed6d70ea899e48df8500dc00dbc74135"
      }
     },
     "74c57f33ef1844fc9bf41331f992c0b4": {
      "model_module": "@jupyter-widgets/controls",
      "model_module_version": "1.5.0",
      "model_name": "HBoxModel",
      "state": {
       "children": [
        "IPY_MODEL_7ad98bd5a885482fbc35140fef0a5a2f",
        "IPY_MODEL_40f3762b8c2e4d9db5db68582150d2f9",
        "IPY_MODEL_6808bff301cc49a18c275cae70d27b92",
        "IPY_MODEL_07a1eb492eb345ef9eaea55358f3b6b9"
       ],
       "layout": "IPY_MODEL_214de70e5f734e8d901026d51b90b8a3"
      }
     },
     "7507fc50d86448d0a8e37c0d739975ef": {
      "model_module": "@jupyter-widgets/controls",
      "model_module_version": "1.5.0",
      "model_name": "ButtonStyleModel",
      "state": {}
     },
     "75484de2476a4dfab57adc805d7e4b08": {
      "model_module": "@jupyter-widgets/controls",
      "model_module_version": "1.5.0",
      "model_name": "DescriptionStyleModel",
      "state": {
       "description_width": ""
      }
     },
     "754b192ff15d469d9beaf2bf4dfbf17d": {
      "model_module": "@jupyter-widgets/controls",
      "model_module_version": "1.5.0",
      "model_name": "DescriptionStyleModel",
      "state": {
       "description_width": ""
      }
     },
     "758a69008c7040dbbdb3034254b8ff12": {
      "model_module": "@jupyter-widgets/base",
      "model_module_version": "1.2.0",
      "model_name": "LayoutModel",
      "state": {
       "height": "32px",
       "order": "-2",
       "width": "32px"
      }
     },
     "7590e296a9d941f7a06b879a65e1f46d": {
      "model_module": "@jupyter-widgets/base",
      "model_module_version": "1.2.0",
      "model_name": "LayoutModel",
      "state": {
       "height": "32px",
       "overflow": "visible",
       "width": "100%"
      }
     },
     "761e3175fddb4af79ca306722e7fe03a": {
      "model_module": "@jupyter-widgets/base",
      "model_module_version": "1.2.0",
      "model_name": "LayoutModel",
      "state": {
       "height": "32px",
       "overflow": "visible",
       "width": "100%"
      }
     },
     "7624a26f174c4a3088c6805c7475efdb": {
      "model_module": "@jupyter-widgets/controls",
      "model_module_version": "1.5.0",
      "model_name": "DescriptionStyleModel",
      "state": {
       "description_width": ""
      }
     },
     "76b6b87ed86c46be8c585b29cf1d6fd3": {
      "model_module": "@jupyter-widgets/controls",
      "model_module_version": "1.5.0",
      "model_name": "IntProgressModel",
      "state": {
       "layout": "IPY_MODEL_1867645c7d3c4f49b67eb605b75cf9bd",
       "style": "IPY_MODEL_d53ab0b7ea124bbea4a0d2f7a3e298d8",
       "value": 30
      }
     },
     "770d473bcd774676a2256bd09df1836c": {
      "model_module": "@jupyter-widgets/base",
      "model_module_version": "1.2.0",
      "model_name": "LayoutModel",
      "state": {
       "order": "-1",
       "overflow": "visible",
       "padding": "1px",
       "width": "0px"
      }
     },
     "7712b13f13fb4f4b92d592652f637302": {
      "model_module": "@jupyter-widgets/base",
      "model_module_version": "1.2.0",
      "model_name": "LayoutModel",
      "state": {
       "height": "32px",
       "overflow": "visible",
       "width": "100%"
      }
     },
     "7721aebce755443abd73d8f111b18f32": {
      "model_module": "@jupyter-widgets/base",
      "model_module_version": "1.2.0",
      "model_name": "LayoutModel",
      "state": {
       "height": "32px",
       "order": "-2",
       "width": "32px"
      }
     },
     "7739e16e97424ee5a65f9e630b9f3719": {
      "model_module": "@jupyter-widgets/base",
      "model_module_version": "1.2.0",
      "model_name": "LayoutModel",
      "state": {
       "order": "-1",
       "overflow": "visible",
       "padding": "1px",
       "width": "0px"
      }
     },
     "774188522ae345fdaf64d56fa26cd2d1": {
      "model_module": "@jupyter-widgets/base",
      "model_module_version": "1.2.0",
      "model_name": "LayoutModel",
      "state": {
       "height": "32px",
       "overflow": "visible",
       "width": "100%"
      }
     },
     "774caebebf8d4206984fcea5d9b0fbbb": {
      "model_module": "@jupyter-widgets/controls",
      "model_module_version": "1.5.0",
      "model_name": "ButtonStyleModel",
      "state": {}
     },
     "7752953090564ae8977abde26e9d6662": {
      "model_module": "@jupyter-widgets/base",
      "model_module_version": "1.2.0",
      "model_name": "LayoutModel",
      "state": {
       "display": "flex"
      }
     },
     "779cc875cde54f1a874084eb6edc58ad": {
      "model_module": "@jupyter-widgets/base",
      "model_module_version": "1.2.0",
      "model_name": "LayoutModel",
      "state": {
       "order": "-1",
       "overflow": "visible",
       "padding": "1px",
       "width": "0px"
      }
     },
     "77b5c368013c452da98a91ae5836c85f": {
      "model_module": "@jupyter-widgets/controls",
      "model_module_version": "1.5.0",
      "model_name": "LabelModel",
      "state": {
       "layout": "IPY_MODEL_7dd8a7268621446d9b5556989054aba3",
       "style": "IPY_MODEL_89015c28526c4b65b19d8e14a2a7b807",
       "value": "   objective"
      }
     },
     "77db70c62ed545eaaa8c864c0a6b905e": {
      "model_module": "@jupyter-widgets/controls",
      "model_module_version": "1.5.0",
      "model_name": "LabelModel",
      "state": {
       "layout": "IPY_MODEL_19ef0518aa104faa9b9e2e04d852012d",
       "style": "IPY_MODEL_057c85a694ae45cabf5677ed4c8faf7d",
       "value": "   objective"
      }
     },
     "7801d741dcdb44c8bf944e5499317edb": {
      "model_module": "@jupyter-widgets/controls",
      "model_module_version": "1.5.0",
      "model_name": "DescriptionStyleModel",
      "state": {
       "description_width": ""
      }
     },
     "78137d465a164ff49defe3afedfeba29": {
      "model_module": "@jupyter-widgets/controls",
      "model_module_version": "1.5.0",
      "model_name": "ButtonStyleModel",
      "state": {}
     },
     "782c670798b64a088bd40d2145cae38a": {
      "model_module": "@jupyter-widgets/base",
      "model_module_version": "1.2.0",
      "model_name": "LayoutModel",
      "state": {
       "display": "none",
       "width": "60px"
      }
     },
     "785e3d61922d40439ff01ddf42254cab": {
      "model_module": "@jupyter-widgets/controls",
      "model_module_version": "1.5.0",
      "model_name": "ButtonModel",
      "state": {
       "description": "EDIT",
       "layout": "IPY_MODEL_3e227c98574c434bafc6ad771b32c705",
       "style": "IPY_MODEL_6eb97c8b6b984c1ab73fcada3bba3590"
      }
     },
     "78758f768f344819b75d8584aed2f611": {
      "model_module": "@jupyter-widgets/controls",
      "model_module_version": "1.5.0",
      "model_name": "LabelModel",
      "state": {
       "layout": "IPY_MODEL_3cbaa644672d4be2a4f7fb58d3a07d52",
       "style": "IPY_MODEL_219152b9b4b24e55aeaec52b00e522b8",
       "value": "   objective"
      }
     },
     "7888e9dfd1614e15a4d3b291da8b6c3c": {
      "model_module": "@jupyter-widgets/base",
      "model_module_version": "1.2.0",
      "model_name": "LayoutModel",
      "state": {
       "display": "none",
       "width": "60px"
      }
     },
     "789ca02b85cf4957b866b44ea78e5bcc": {
      "model_module": "@jupyter-widgets/controls",
      "model_module_version": "1.5.0",
      "model_name": "IntProgressModel",
      "state": {
       "layout": "IPY_MODEL_a170b0bfeac642518dd310a970437e0a",
       "style": "IPY_MODEL_ce9027d607d548c385c0fc3fcd89c7a3",
       "value": 30
      }
     },
     "78b69790fbd0456b9ad252f810e45562": {
      "model_module": "@jupyter-widgets/controls",
      "model_module_version": "1.5.0",
      "model_name": "HBoxModel",
      "state": {
       "children": [
        "IPY_MODEL_5132e7a742044c1b990195069f170c67",
        "IPY_MODEL_1a3247c1b08644ac9ef243a43e85d545",
        "IPY_MODEL_326a873c508447a0a2d644fea28c79cf",
        "IPY_MODEL_346d4e8c58e5432e87c1d61a4de0059b"
       ],
       "layout": "IPY_MODEL_5c1540a86bbf4ac8ade20d6473069bc6"
      }
     },
     "78c1120c885c4d459fc2fd004b5d5d66": {
      "model_module": "@jupyter-widgets/base",
      "model_module_version": "1.2.0",
      "model_name": "LayoutModel",
      "state": {
       "order": "-1",
       "overflow": "visible",
       "padding": "1px",
       "width": "0px"
      }
     },
     "78d6f1ca58fd4a71bec26d506b28f8e6": {
      "model_module": "@jupyter-widgets/controls",
      "model_module_version": "1.5.0",
      "model_name": "LabelModel",
      "state": {
       "layout": "IPY_MODEL_6eca0469bde24a7392b3b308c2f13c1b",
       "style": "IPY_MODEL_4295002173c341859a939f4bcbbab6bc",
       "value": "Energy Weapon:"
      }
     },
     "78deccd8e087466491cbe3f4815830d3": {
      "model_module": "@jupyter-widgets/controls",
      "model_module_version": "1.5.0",
      "model_name": "DescriptionStyleModel",
      "state": {
       "description_width": ""
      }
     },
     "78f6b9b5c38247cc89883b5c3a14c31a": {
      "model_module": "@jupyter-widgets/base",
      "model_module_version": "1.2.0",
      "model_name": "LayoutModel",
      "state": {
       "height": "32px",
       "order": "-2",
       "width": "32px"
      }
     },
     "7931c2f6990e4307a63b1adaf9e3c4fc": {
      "model_module": "@jupyter-widgets/base",
      "model_module_version": "1.2.0",
      "model_name": "LayoutModel",
      "state": {}
     },
     "794d416b8fb64e8fb6497103b100d9a9": {
      "model_module": "@jupyter-widgets/controls",
      "model_module_version": "1.5.0",
      "model_name": "DescriptionStyleModel",
      "state": {
       "description_width": ""
      }
     },
     "796042e77cf34bfd92759175083cac4f": {
      "model_module": "@jupyter-widgets/base",
      "model_module_version": "1.2.0",
      "model_name": "LayoutModel",
      "state": {
       "display": "flex",
       "flex_flow": "row wrap"
      }
     },
     "7977eb3e9be14471a383c425e959d4ca": {
      "model_module": "@jupyter-widgets/controls",
      "model_module_version": "1.5.0",
      "model_name": "HTMLModel",
      "state": {
       "layout": "IPY_MODEL_bddd0367a3cf47b29b368b94b74a96c8",
       "style": "IPY_MODEL_d22add1ddcb44469b59e65d391fd3124",
       "value": "<font size=\"1\">Triumphs/Crucible/Lifetime/Glory Ranks/Become Legend</font size=>"
      }
     },
     "79e9af9dd27d427bbae104d0588f1427": {
      "model_module": "@jupyter-widgets/controls",
      "model_module_version": "1.5.0",
      "model_name": "DescriptionStyleModel",
      "state": {
       "description_width": ""
      }
     },
     "79e9e21c9d4c42458cedc6859ba8e3ed": {
      "model_module": "@jupyter-widgets/controls",
      "model_module_version": "1.5.0",
      "model_name": "ButtonStyleModel",
      "state": {}
     },
     "79eecf03a8bf44209a16b05c0adc211d": {
      "model_module": "@jupyter-widgets/controls",
      "model_module_version": "1.5.0",
      "model_name": "ButtonStyleModel",
      "state": {}
     },
     "79fcd1b0ce1f48ec90cf451a58927c5d": {
      "model_module": "@jupyter-widgets/controls",
      "model_module_version": "1.5.0",
      "model_name": "ButtonModel",
      "state": {
       "description": "EDIT",
       "layout": "IPY_MODEL_56be27388af64793adf16e138485cfdd",
       "style": "IPY_MODEL_237192e029bb4efbaa69e6d46e81d9b4"
      }
     },
     "7a355a48acf74987aa9d4239de1e782b": {
      "model_module": "@jupyter-widgets/controls",
      "model_module_version": "1.5.0",
      "model_name": "CheckboxModel",
      "state": {
       "description": "Hide Expired Tasks",
       "disabled": false,
       "indent": false,
       "layout": "IPY_MODEL_8fc5764a24e343fc84e3991c014d1a7b",
       "style": "IPY_MODEL_457c52b756014a09aede215ea5a40172",
       "value": false
      }
     },
     "7a3b2ca5a965475db3c6ed76c6fc88c4": {
      "model_module": "@jupyter-widgets/controls",
      "model_module_version": "1.5.0",
      "model_name": "ButtonModel",
      "state": {
       "layout": "IPY_MODEL_3c0df230516c4716a875ecab00db0557",
       "style": "IPY_MODEL_6851363c22e94b39b27f7b54dd7a7c3b"
      }
     },
     "7a57e31ba187440ca5cc3e58471f1bc6": {
      "model_module": "@jupyter-widgets/controls",
      "model_module_version": "1.5.0",
      "model_name": "DescriptionStyleModel",
      "state": {
       "description_width": ""
      }
     },
     "7ac2d8b88032446094beab5a6af981fc": {
      "model_module": "@jupyter-widgets/base",
      "model_module_version": "1.2.0",
      "model_name": "LayoutModel",
      "state": {
       "border": "3px solid white",
       "display": "flex",
       "flex": "1 1 0%",
       "margin": "10px",
       "min_width": "400px",
       "overflow": "visible",
       "padding": "10px",
       "width": "auto"
      }
     },
     "7ad98bd5a885482fbc35140fef0a5a2f": {
      "model_module": "@jupyter-widgets/controls",
      "model_module_version": "1.5.0",
      "model_name": "ButtonModel",
      "state": {
       "layout": "IPY_MODEL_942f6210ff8a43b6b918f1a0ff08793d",
       "style": "IPY_MODEL_a4f890ef80de4b6797a72abc375e68d8"
      }
     },
     "7af1308b51d24f2e80eee4436c15f5c5": {
      "model_module": "@jupyter-widgets/controls",
      "model_module_version": "1.5.0",
      "model_name": "HTMLModel",
      "state": {
       "layout": "IPY_MODEL_411d88c10ebb44519840320cbd9af8d3",
       "style": "IPY_MODEL_a79aa83a23c840cf99c7c8ca859d732d",
       "value": "Objective"
      }
     },
     "7b0203155bf94fb8964e26d5e3f4fb2b": {
      "model_module": "@jupyter-widgets/controls",
      "model_module_version": "1.5.0",
      "model_name": "LabelModel",
      "state": {
       "layout": "IPY_MODEL_87c319ee32654931beed03e12298834a",
       "style": "IPY_MODEL_63d4f2af4ce34248a37c24718326e185",
       "value": "   objective"
      }
     },
     "7b25fe46cbf5458ba025356e544cd9ea": {
      "model_module": "@jupyter-widgets/base",
      "model_module_version": "1.2.0",
      "model_name": "LayoutModel",
      "state": {
       "height": "32px",
       "order": "-2",
       "width": "32px"
      }
     },
     "7b6b347e3efd459ca1223f4c25ebe8bf": {
      "model_module": "@jupyter-widgets/controls",
      "model_module_version": "1.5.0",
      "model_name": "ButtonStyleModel",
      "state": {}
     },
     "7ba4333a49114de394cfa3b3a8d80632": {
      "model_module": "@jupyter-widgets/base",
      "model_module_version": "1.2.0",
      "model_name": "LayoutModel",
      "state": {
       "height": "32px",
       "order": "-2",
       "width": "32px"
      }
     },
     "7baad8aebc4d47818bcb06a43bb4e78a": {
      "model_module": "@jupyter-widgets/base",
      "model_module_version": "1.2.0",
      "model_name": "LayoutModel",
      "state": {
       "height": "32px",
       "overflow": "visible",
       "width": "100%"
      }
     },
     "7bab639d256b43459043375f40294528": {
      "model_module": "@jupyter-widgets/controls",
      "model_module_version": "1.5.0",
      "model_name": "ButtonStyleModel",
      "state": {}
     },
     "7bd03200c9bf4ee4a464bc7f7c57d54b": {
      "model_module": "@jupyter-widgets/controls",
      "model_module_version": "1.5.0",
      "model_name": "HTMLModel",
      "state": {
       "layout": "IPY_MODEL_feae6a0e4af4411282416f341c2c4ad4",
       "style": "IPY_MODEL_abd57d9a107c4a7b9ae844c283897cc0",
       "value": "<b>Class Options</b>"
      }
     },
     "7bee4e058ad94f1ab416debec4cf34cf": {
      "model_module": "@jupyter-widgets/controls",
      "model_module_version": "1.5.0",
      "model_name": "ButtonStyleModel",
      "state": {}
     },
     "7bf064d4d91347788f945f0f06238103": {
      "model_module": "@jupyter-widgets/controls",
      "model_module_version": "1.5.0",
      "model_name": "ButtonStyleModel",
      "state": {}
     },
     "7c23f388b31f46f888ee4427bd85270a": {
      "model_module": "@jupyter-widgets/base",
      "model_module_version": "1.2.0",
      "model_name": "LayoutModel",
      "state": {
       "display": "none",
       "width": "60px"
      }
     },
     "7c831127bb1b42e5a731010d1a37086f": {
      "model_module": "@jupyter-widgets/base",
      "model_module_version": "1.2.0",
      "model_name": "LayoutModel",
      "state": {
       "order": "-1",
       "overflow": "visible",
       "padding": "1px",
       "width": "0px"
      }
     },
     "7c9e0a5d0f9c460d9e9c1f405bf1b85e": {
      "model_module": "@jupyter-widgets/base",
      "model_module_version": "1.2.0",
      "model_name": "LayoutModel",
      "state": {
       "height": "32px",
       "order": "-2",
       "width": "32px"
      }
     },
     "7cb9f7c8272843c388edf19ca5df3abd": {
      "model_module": "@jupyter-widgets/controls",
      "model_module_version": "1.5.0",
      "model_name": "ProgressStyleModel",
      "state": {
       "description_width": ""
      }
     },
     "7cec8980f68649268c04f90d4adb4a13": {
      "model_module": "@jupyter-widgets/controls",
      "model_module_version": "1.5.0",
      "model_name": "HBoxModel",
      "state": {
       "children": [
        "IPY_MODEL_1ca24b70c84f47a18c3d8cc9abcca092",
        "IPY_MODEL_9a795a3e2cce4ec08cee43ebf35b53e6",
        "IPY_MODEL_bd952a9ebef348129ea6c4b700d23c09",
        "IPY_MODEL_581cdb9a86224bf6934f43ef07e4596f"
       ],
       "layout": "IPY_MODEL_eb33ed58a0f4423a9622fbaaa86ec810"
      }
     },
     "7d07e37dcc0b4547ad680d2b42d8d7ab": {
      "model_module": "@jupyter-widgets/controls",
      "model_module_version": "1.5.0",
      "model_name": "LabelModel",
      "state": {
       "layout": "IPY_MODEL_f059234d9b6a48e9af8a8c66e198426c",
       "style": "IPY_MODEL_b6fede9911ba4194a55f4e68e7f8c952",
       "value": "     (0/1)"
      }
     },
     "7d23cfa0ad154d1c9a8b3aa6fbda5494": {
      "model_module": "@jupyter-widgets/controls",
      "model_module_version": "1.5.0",
      "model_name": "ButtonStyleModel",
      "state": {}
     },
     "7d3758383aae45a79a1439483221dcef": {
      "model_module": "@jupyter-widgets/controls",
      "model_module_version": "1.5.0",
      "model_name": "DescriptionStyleModel",
      "state": {
       "description_width": ""
      }
     },
     "7d59293ffe344f5c8b11ce2a7601dca6": {
      "model_module": "@jupyter-widgets/controls",
      "model_module_version": "1.5.0",
      "model_name": "DescriptionStyleModel",
      "state": {
       "description_width": ""
      }
     },
     "7dae89eb876646d5a54d5ef2f03c02a5": {
      "model_module": "@jupyter-widgets/controls",
      "model_module_version": "1.5.0",
      "model_name": "DescriptionStyleModel",
      "state": {
       "description_width": ""
      }
     },
     "7dd8a7268621446d9b5556989054aba3": {
      "model_module": "@jupyter-widgets/base",
      "model_module_version": "1.2.0",
      "model_name": "LayoutModel",
      "state": {
       "order": "-1",
       "overflow": "visible",
       "padding": "1px",
       "width": "0px"
      }
     },
     "7de4223d6ade483dbaf26d4dd56af0e8": {
      "model_module": "@jupyter-widgets/controls",
      "model_module_version": "1.5.0",
      "model_name": "DescriptionStyleModel",
      "state": {
       "description_width": ""
      }
     },
     "7de71f25918b4a59ba3a30c31b4e4f0d": {
      "model_module": "@jupyter-widgets/base",
      "model_module_version": "1.2.0",
      "model_name": "LayoutModel",
      "state": {
       "height": "32px",
       "overflow": "visible",
       "width": "100%"
      }
     },
     "7e5af3a4c44745848725ef64a9efda4c": {
      "model_module": "@jupyter-widgets/controls",
      "model_module_version": "1.5.0",
      "model_name": "DescriptionStyleModel",
      "state": {
       "description_width": ""
      }
     },
     "7e74daff143243c090ce79a860707b55": {
      "model_module": "@jupyter-widgets/controls",
      "model_module_version": "1.5.0",
      "model_name": "ButtonModel",
      "state": {
       "layout": "IPY_MODEL_523d5a7e994845d29619f12fe7c50ed8",
       "style": "IPY_MODEL_ce8a109ab54747e687752db3ef9d69c4"
      }
     },
     "7e9888bc0dba4fb6961d1d97b78534f0": {
      "model_module": "@jupyter-widgets/controls",
      "model_module_version": "1.5.0",
      "model_name": "ButtonStyleModel",
      "state": {}
     },
     "7ed3dc1259ae44daadf0e7810f8127fd": {
      "model_module": "@jupyter-widgets/controls",
      "model_module_version": "1.5.0",
      "model_name": "DescriptionStyleModel",
      "state": {
       "description_width": ""
      }
     },
     "7edd38eea00940958341ff41d3a6e7f1": {
      "model_module": "@jupyter-widgets/base",
      "model_module_version": "1.2.0",
      "model_name": "LayoutModel",
      "state": {
       "height": "32px",
       "overflow": "visible",
       "width": "100%"
      }
     },
     "7edd9ef9000d45388f0208f5327e770d": {
      "model_module": "@jupyter-widgets/base",
      "model_module_version": "1.2.0",
      "model_name": "LayoutModel",
      "state": {
       "display": "none",
       "width": "60px"
      }
     },
     "7f0683df679d4760bad35ea3d0411737": {
      "model_module": "@jupyter-widgets/base",
      "model_module_version": "1.2.0",
      "model_name": "LayoutModel",
      "state": {
       "order": "-1",
       "overflow": "visible",
       "padding": "1px",
       "width": "0px"
      }
     },
     "7f3089cd5e74410d99485b52022d716a": {
      "model_module": "@jupyter-widgets/controls",
      "model_module_version": "1.5.0",
      "model_name": "IntProgressModel",
      "state": {
       "layout": "IPY_MODEL_7712b13f13fb4f4b92d592652f637302",
       "style": "IPY_MODEL_0d2e1878934e42d5a5900ddef78edb70",
       "value": 30
      }
     },
     "7f41ca1c64ab41b98f15452499dbf4bd": {
      "model_module": "@jupyter-widgets/base",
      "model_module_version": "1.2.0",
      "model_name": "LayoutModel",
      "state": {
       "height": "32px",
       "overflow": "visible",
       "width": "100%"
      }
     },
     "7f6138e5ff5b47d7ae20e441f9c259e2": {
      "model_module": "@jupyter-widgets/base",
      "model_module_version": "1.2.0",
      "model_name": "LayoutModel",
      "state": {
       "display": "none",
       "width": "60px"
      }
     },
     "7f884120dfb14e25bb159dae2f9ccddd": {
      "model_module": "@jupyter-widgets/base",
      "model_module_version": "1.2.0",
      "model_name": "LayoutModel",
      "state": {
       "width": "100px"
      }
     },
     "7f9c7708fe7e489eb2f8a15d35055412": {
      "model_module": "@jupyter-widgets/controls",
      "model_module_version": "1.5.0",
      "model_name": "HTMLModel",
      "state": {
       "layout": "IPY_MODEL_0c7bf0f3349c48969c3c1003e093d99c",
       "style": "IPY_MODEL_07f157f95beb42b5b369136823ca9a70",
       "value": "<b>Gear Options</b>"
      }
     },
     "7fb3e20cf88c4a82865b1f8e3877a996": {
      "model_module": "@jupyter-widgets/controls",
      "model_module_version": "1.5.0",
      "model_name": "DescriptionStyleModel",
      "state": {
       "description_width": ""
      }
     },
     "7fc7bdbcffe44f338317a91f598d7a04": {
      "model_module": "@jupyter-widgets/controls",
      "model_module_version": "1.5.0",
      "model_name": "HTMLModel",
      "state": {
       "layout": "IPY_MODEL_6060ab6f81f04cd1876241dfad971682",
       "style": "IPY_MODEL_605d9040bbb34c4fadedcb41bd2fffcf",
       "value": "<font size=\"1\">Triumphs/Lore/The Light/Dust/The Witch</font size=>"
      }
     },
     "7fca46a11c424203b51afd856503d73b": {
      "model_module": "@jupyter-widgets/controls",
      "model_module_version": "1.5.0",
      "model_name": "ButtonModel",
      "state": {
       "layout": "IPY_MODEL_6f2e48835cd143d9ad80f47f771586b9",
       "style": "IPY_MODEL_ab9542df199247a6beb76f1cd1a57d7f"
      }
     },
     "7fd87d8e26cb423ba8d4b2d15d6b984c": {
      "model_module": "@jupyter-widgets/controls",
      "model_module_version": "1.5.0",
      "model_name": "ButtonStyleModel",
      "state": {}
     },
     "801e94b4bd2f42058995db0de0440afa": {
      "model_module": "@jupyter-widgets/controls",
      "model_module_version": "1.5.0",
      "model_name": "IntProgressModel",
      "state": {
       "layout": "IPY_MODEL_d4b08364a7d34761849f910d494be4de",
       "style": "IPY_MODEL_e302237cfd984398b72e5c7c9efb5dbf",
       "value": 30
      }
     },
     "80218956fe324869bdddfc58d573330d": {
      "model_module": "@jupyter-widgets/base",
      "model_module_version": "1.2.0",
      "model_name": "LayoutModel",
      "state": {
       "order": "-1",
       "overflow": "visible",
       "padding": "1px",
       "width": "0px"
      }
     },
     "80258602fe5d423889e2811db6743f3f": {
      "model_module": "@jupyter-widgets/base",
      "model_module_version": "1.2.0",
      "model_name": "LayoutModel",
      "state": {
       "border": "1px solid white",
       "display": "flex",
       "min_width": "250px",
       "padding": "10px",
       "width": "15%"
      }
     },
     "803bff8f98ed4b64b1e7a5fad459ff1b": {
      "model_module": "@jupyter-widgets/controls",
      "model_module_version": "1.5.0",
      "model_name": "HBoxModel",
      "state": {
       "children": [
        "IPY_MODEL_3da63f46791f4b319308bfb2e93f6fe7",
        "IPY_MODEL_4cbb49ba5289499faa584c5abc3911c3",
        "IPY_MODEL_3c40a034bbcb4bfd9900e6ed376ded87",
        "IPY_MODEL_d14c343e9c984f398f3e717459dcc695"
       ],
       "layout": "IPY_MODEL_e34f97c2c0a941aba6d93c5fa9b65e4e"
      }
     },
     "8070b025b5d647e5b66c34dbf6dc4c36": {
      "model_module": "@jupyter-widgets/controls",
      "model_module_version": "1.5.0",
      "model_name": "ButtonModel",
      "state": {
       "description": "EDIT",
       "layout": "IPY_MODEL_ac5b3214b26c48caa5e6fad5ea85a99e",
       "style": "IPY_MODEL_23775e419a48414fa15c1216678339fa"
      }
     },
     "80b3da643e274a328ebfe1fde8fb15a6": {
      "model_module": "@jupyter-widgets/base",
      "model_module_version": "1.2.0",
      "model_name": "LayoutModel",
      "state": {}
     },
     "80e61b43a100487eacdada5f1facdcbd": {
      "model_module": "@jupyter-widgets/controls",
      "model_module_version": "1.5.0",
      "model_name": "DescriptionStyleModel",
      "state": {
       "description_width": ""
      }
     },
     "8127ddf0305843daa1cf1b2d70cc19d1": {
      "model_module": "@jupyter-widgets/controls",
      "model_module_version": "1.5.0",
      "model_name": "FloatProgressModel",
      "state": {
       "description": "Loading:",
       "layout": "IPY_MODEL_c9ea17660be5462faaff20f86b8c8b68",
       "max": 110,
       "style": "IPY_MODEL_112f6d50ad9b407ca1c61de0e708acd8",
       "value": 109.9999999999997
      }
     },
     "81326cf3ea304fdd94d8891afa011bda": {
      "model_module": "@jupyter-widgets/controls",
      "model_module_version": "1.5.0",
      "model_name": "DescriptionStyleModel",
      "state": {
       "description_width": ""
      }
     },
     "81444c36cc1e4251be27d69b9e44029b": {
      "model_module": "@jupyter-widgets/controls",
      "model_module_version": "1.5.0",
      "model_name": "ProgressStyleModel",
      "state": {
       "description_width": ""
      }
     },
     "81693d984ef0413f9f0abd5f5afdcf2f": {
      "model_module": "@jupyter-widgets/controls",
      "model_module_version": "1.5.0",
      "model_name": "ProgressStyleModel",
      "state": {
       "description_width": ""
      }
     },
     "81b8ad22862d47c8968919fece81709d": {
      "model_module": "@jupyter-widgets/controls",
      "model_module_version": "1.5.0",
      "model_name": "DropdownModel",
      "state": {
       "_options_labels": [
        "Any"
       ],
       "disabled": true,
       "index": 0,
       "layout": "IPY_MODEL_8cc9e95fc27a4d419a863e3cc4a81363",
       "style": "IPY_MODEL_155bfd5e90584c4f9429573ae4901889"
      }
     },
     "81bd072d29bc4b2ab4822ea3ddb43be7": {
      "model_module": "@jupyter-widgets/controls",
      "model_module_version": "1.5.0",
      "model_name": "IntProgressModel",
      "state": {
       "layout": "IPY_MODEL_d7cab2623cd34e2cbe47fc3a172d2e87",
       "style": "IPY_MODEL_955aeabb223f43798d3685ef152c60db",
       "value": 30
      }
     },
     "81e3f7589c1b4c3ebc7ae918b7514980": {
      "model_module": "@jupyter-widgets/controls",
      "model_module_version": "1.5.0",
      "model_name": "DescriptionStyleModel",
      "state": {
       "description_width": ""
      }
     },
     "8209e31c742b4daa8020b43f33e9224b": {
      "model_module": "@jupyter-widgets/base",
      "model_module_version": "1.2.0",
      "model_name": "LayoutModel",
      "state": {
       "border": "3px solid white",
       "display": "flex",
       "flex": "1 1 0%",
       "margin": "10px",
       "min_width": "400px",
       "overflow": "visible",
       "padding": "10px",
       "width": "auto"
      }
     },
     "822f8d433fff46519029674e6cebd6b3": {
      "model_module": "@jupyter-widgets/base",
      "model_module_version": "1.2.0",
      "model_name": "LayoutModel",
      "state": {
       "display": "none",
       "width": "60px"
      }
     },
     "826513be1ce949608eb80a12d85716f8": {
      "model_module": "@jupyter-widgets/base",
      "model_module_version": "1.2.0",
      "model_name": "LayoutModel",
      "state": {
       "height": "32px",
       "order": "-2",
       "width": "32px"
      }
     },
     "829c9cc416924337b7acf1d6b8b89578": {
      "model_module": "@jupyter-widgets/base",
      "model_module_version": "1.2.0",
      "model_name": "LayoutModel",
      "state": {
       "overflow": "visible",
       "width": "100%"
      }
     },
     "82dfd476c5504ce3afbac7254d8e5271": {
      "model_module": "@jupyter-widgets/controls",
      "model_module_version": "1.5.0",
      "model_name": "DropdownModel",
      "state": {
       "_options_labels": [
        "Any",
        "Hand Cannon",
        "Auto Rifle",
        "Scout Rifle",
        "Pulse Rifle",
        "Sidearm",
        "Submachine Gun",
        "Combt Bow",
        "Sniper Rifle",
        "Shotgun",
        "Fusion Rifle",
        "Grenade Launcher"
       ],
       "index": 0,
       "layout": "IPY_MODEL_dfd5c6303e934458b6257be1b14f92ef",
       "style": "IPY_MODEL_9229b07b5df54c3097f915dde0027c5e"
      }
     },
     "8318331ea232467593576abc8772738b": {
      "model_module": "@jupyter-widgets/base",
      "model_module_version": "1.2.0",
      "model_name": "LayoutModel",
      "state": {
       "display": "none"
      }
     },
     "8323388623f8454a977b3a33fde6a228": {
      "model_module": "@jupyter-widgets/controls",
      "model_module_version": "1.5.0",
      "model_name": "IntProgressModel",
      "state": {
       "layout": "IPY_MODEL_d3fa00da597946eaa528c158bf3758e6",
       "style": "IPY_MODEL_c38403cae00d4301a93e5efa6c92cd0e",
       "value": 30
      }
     },
     "833762775fb645948bdc8a6e84cadf26": {
      "model_module": "@jupyter-widgets/controls",
      "model_module_version": "1.5.0",
      "model_name": "LabelModel",
      "state": {
       "layout": "IPY_MODEL_903611b39afc4de2b3e83e8e030be9d9",
       "style": "IPY_MODEL_2360327781d14daeb77bade6afd158bc",
       "value": "   objective"
      }
     },
     "834c9d5f7c314d95806f3e1670b08c96": {
      "model_module": "@jupyter-widgets/controls",
      "model_module_version": "1.5.0",
      "model_name": "HTMLModel",
      "state": {
       "layout": "IPY_MODEL_af6f71ca3fe24f15ac0fc47219752c73",
       "style": "IPY_MODEL_e58defba092247378e88d25a6370cd26",
       "value": "<font size=\"5\"><b>Skolas</b></font size=>"
      }
     },
     "83a8ecefcf2846b5a3e38d4d17099181": {
      "model_module": "@jupyter-widgets/base",
      "model_module_version": "1.2.0",
      "model_name": "LayoutModel",
      "state": {
       "display": "none",
       "width": "60px"
      }
     },
     "83bf3c79d7d24796af93dbef0d9973c4": {
      "model_module": "@jupyter-widgets/base",
      "model_module_version": "1.2.0",
      "model_name": "LayoutModel",
      "state": {
       "height": "32px",
       "overflow": "visible",
       "width": "100%"
      }
     },
     "83ca4b56c27b4fa4b4478d910c98e44d": {
      "model_module": "@jupyter-widgets/controls",
      "model_module_version": "1.5.0",
      "model_name": "DropdownModel",
      "state": {
       "_options_labels": [
        "Any"
       ],
       "disabled": true,
       "index": 0,
       "layout": "IPY_MODEL_dfd5c6303e934458b6257be1b14f92ef",
       "style": "IPY_MODEL_75484de2476a4dfab57adc805d7e4b08"
      }
     },
     "840167d9b01f467fbf7f0e8c7ea4eade": {
      "model_module": "@jupyter-widgets/controls",
      "model_module_version": "1.5.0",
      "model_name": "ButtonModel",
      "state": {
       "layout": "IPY_MODEL_200c43590d1b491c86dd35bf2bd6c25b",
       "style": "IPY_MODEL_7507fc50d86448d0a8e37c0d739975ef"
      }
     },
     "84543ddd84024bb680dbf70509179e24": {
      "model_module": "@jupyter-widgets/controls",
      "model_module_version": "1.5.0",
      "model_name": "ButtonModel",
      "state": {
       "description": "EDIT",
       "layout": "IPY_MODEL_3a9437790e5443438307e6cf5f2b6a44",
       "style": "IPY_MODEL_5da0bbc482db40be82057620af66bd96"
      }
     },
     "8488e46b096d4dee9ba751efe131318a": {
      "model_module": "@jupyter-widgets/controls",
      "model_module_version": "1.5.0",
      "model_name": "ButtonStyleModel",
      "state": {}
     },
     "848ce1e3ea1d4b23b0c544b111b0e89a": {
      "model_module": "@jupyter-widgets/controls",
      "model_module_version": "1.5.0",
      "model_name": "ButtonModel",
      "state": {
       "description": "EDIT",
       "layout": "IPY_MODEL_bb598c3a15c14718ac282e81a5a28e44",
       "style": "IPY_MODEL_4de7dab7f0784627afa1bb5c7d8b916b"
      }
     },
     "849f2aec4bd64a2ba4c8adcf4aaded3d": {
      "model_module": "@jupyter-widgets/controls",
      "model_module_version": "1.5.0",
      "model_name": "ButtonModel",
      "state": {
       "layout": "IPY_MODEL_a971416ee7aa463d8c738bf3dacac1df",
       "style": "IPY_MODEL_71301faf783c4377ae6b170a857fbdd2"
      }
     },
     "84a0cfc6fca14c15b5cc1fe194248df2": {
      "model_module": "@jupyter-widgets/controls",
      "model_module_version": "1.5.0",
      "model_name": "LabelModel",
      "state": {
       "layout": "IPY_MODEL_e37ede7c4c994bfab27f1131a425e417",
       "style": "IPY_MODEL_bb2305bbdff546008ae1aee585bf066c",
       "value": "   objective"
      }
     },
     "84edca33df2f4bfb9c015008588fbd24": {
      "model_module": "@jupyter-widgets/controls",
      "model_module_version": "1.5.0",
      "model_name": "DescriptionStyleModel",
      "state": {
       "description_width": ""
      }
     },
     "85389e707bb847919a5ac969869ec99a": {
      "model_module": "@jupyter-widgets/base",
      "model_module_version": "1.2.0",
      "model_name": "LayoutModel",
      "state": {
       "overflow": "visible",
       "width": "100%"
      }
     },
     "854db4d025aa4cb1b4732c2334ed3b57": {
      "model_module": "@jupyter-widgets/controls",
      "model_module_version": "1.5.0",
      "model_name": "ButtonModel",
      "state": {
       "description": "EDIT",
       "layout": "IPY_MODEL_bba5a922973945709f5108ec089af5e3",
       "style": "IPY_MODEL_f7994e4d851243dab9adba43958bdf9f"
      }
     },
     "85922652a80a4a938f81b226354d2e77": {
      "model_module": "@jupyter-widgets/base",
      "model_module_version": "1.2.0",
      "model_name": "LayoutModel",
      "state": {
       "overflow": "visible",
       "width": "100%"
      }
     },
     "85cecd68d831432c93450093905cf921": {
      "model_module": "@jupyter-widgets/controls",
      "model_module_version": "1.5.0",
      "model_name": "LabelModel",
      "state": {
       "layout": "IPY_MODEL_f8ed3c3104fb443194ed1eb281fa241c",
       "style": "IPY_MODEL_72af117426ce4d26a7a64c89f5481cda",
       "value": "   objective"
      }
     },
     "86095fe66a0441d2a6f3ee76ce72454c": {
      "model_module": "@jupyter-widgets/controls",
      "model_module_version": "1.5.0",
      "model_name": "ButtonStyleModel",
      "state": {}
     },
     "864deabdd7e64b9295cb7b658cce6ea2": {
      "model_module": "@jupyter-widgets/controls",
      "model_module_version": "1.5.0",
      "model_name": "ButtonModel",
      "state": {
       "layout": "IPY_MODEL_b363272ee77849428ad9775d9b1780cf",
       "style": "IPY_MODEL_5da6b538b268455a9cbf3667f477cf2a"
      }
     },
     "865d581672994aa49b9ad0a0a8023b93": {
      "model_module": "@jupyter-widgets/controls",
      "model_module_version": "1.5.0",
      "model_name": "IntProgressModel",
      "state": {
       "layout": "IPY_MODEL_e8f9245a650f4cdd87747dd71d949724",
       "style": "IPY_MODEL_fe4666b1f2cf4a6d892e44a559dda9f6",
       "value": 30
      }
     },
     "86edd20bc2c34e16a37ef9a0b4b8a3b3": {
      "model_module": "@jupyter-widgets/controls",
      "model_module_version": "1.5.0",
      "model_name": "ProgressStyleModel",
      "state": {
       "description_width": ""
      }
     },
     "86ff664b2bbf4ac5aa861bfcbfebcabe": {
      "model_module": "@jupyter-widgets/controls",
      "model_module_version": "1.5.0",
      "model_name": "HBoxModel",
      "state": {
       "children": [
        "IPY_MODEL_6395ad786277429b97ea3eeeac1fa6bc",
        "IPY_MODEL_3009d786179c46ac8653783693f83b86",
        "IPY_MODEL_2186e257acc140a9b6e24f988a06922b",
        "IPY_MODEL_c48f549e23b24972b14699676749ca3b"
       ],
       "layout": "IPY_MODEL_ef5d6304e1664098bd10c42af973a538"
      }
     },
     "870bda03bc1349f08b187250ac2fbc6e": {
      "model_module": "@jupyter-widgets/base",
      "model_module_version": "1.2.0",
      "model_name": "LayoutModel",
      "state": {
       "height": "32px",
       "overflow": "visible",
       "width": "100%"
      }
     },
     "875fab1231d44c4bb9523dff49894069": {
      "model_module": "@jupyter-widgets/controls",
      "model_module_version": "1.5.0",
      "model_name": "ButtonStyleModel",
      "state": {}
     },
     "87b0e27e83d64ec0a2d55bc937bb30fd": {
      "model_module": "@jupyter-widgets/controls",
      "model_module_version": "1.5.0",
      "model_name": "DescriptionStyleModel",
      "state": {
       "description_width": ""
      }
     },
     "87c138d8f1704e5f94819c7395df9eff": {
      "model_module": "@jupyter-widgets/controls",
      "model_module_version": "1.5.0",
      "model_name": "HBoxModel",
      "state": {
       "children": [
        "IPY_MODEL_5e2f4dbc494d49e1b89c3e7e629bfa9c",
        "IPY_MODEL_daca6cd50d6f4477a1e333e8bc5c2ab9",
        "IPY_MODEL_9c9c2689cd7540748f5921c63caf59bc",
        "IPY_MODEL_a4c55cecb7ec43dcba4788274b08d38d"
       ],
       "layout": "IPY_MODEL_8318331ea232467593576abc8772738b"
      }
     },
     "87c319ee32654931beed03e12298834a": {
      "model_module": "@jupyter-widgets/base",
      "model_module_version": "1.2.0",
      "model_name": "LayoutModel",
      "state": {
       "order": "-1",
       "overflow": "visible",
       "padding": "1px",
       "width": "0px"
      }
     },
     "8819794f7e7d4fee91569433ae0d0440": {
      "model_module": "@jupyter-widgets/controls",
      "model_module_version": "1.5.0",
      "model_name": "ButtonModel",
      "state": {
       "button_style": "success",
       "disabled": true,
       "layout": "IPY_MODEL_4aedeb8bce0e47bd86362cc1903a8bc3",
       "style": "IPY_MODEL_b02632e93c9b40cdb944ffeb9868e0e5"
      }
     },
     "8829960ac5fb4705a7187e59ad5d9d54": {
      "model_module": "@jupyter-widgets/controls",
      "model_module_version": "1.5.0",
      "model_name": "ButtonModel",
      "state": {
       "layout": "IPY_MODEL_c0758e0209534972a3bb40f675cce903",
       "style": "IPY_MODEL_67ea3d0d67584561822fa1a356471959"
      }
     },
     "88a8d9f59df04ba9b10196ac227ea7dd": {
      "model_module": "@jupyter-widgets/controls",
      "model_module_version": "1.5.0",
      "model_name": "ButtonModel",
      "state": {
       "layout": "IPY_MODEL_ae86aa1239d54e2686d10e0b8de4af4a",
       "style": "IPY_MODEL_7fd87d8e26cb423ba8d4b2d15d6b984c"
      }
     },
     "88f784abc1a347e0bd137dfb67eff898": {
      "model_module": "@jupyter-widgets/controls",
      "model_module_version": "1.5.0",
      "model_name": "ButtonStyleModel",
      "state": {}
     },
     "89015c28526c4b65b19d8e14a2a7b807": {
      "model_module": "@jupyter-widgets/controls",
      "model_module_version": "1.5.0",
      "model_name": "DescriptionStyleModel",
      "state": {
       "description_width": ""
      }
     },
     "890acad5c36d4620ba6bebf6d79747b1": {
      "model_module": "@jupyter-widgets/controls",
      "model_module_version": "1.5.0",
      "model_name": "ButtonStyleModel",
      "state": {}
     },
     "89367b9e51a14a338b61b7adf0b05c8e": {
      "model_module": "@jupyter-widgets/controls",
      "model_module_version": "1.5.0",
      "model_name": "ButtonStyleModel",
      "state": {}
     },
     "8942e4e981fa461d8ae1c469f12a8135": {
      "model_module": "@jupyter-widgets/controls",
      "model_module_version": "1.5.0",
      "model_name": "DescriptionStyleModel",
      "state": {
       "description_width": ""
      }
     },
     "896eba5912a745a98f4cf05e6d27fdcd": {
      "model_module": "@jupyter-widgets/base",
      "model_module_version": "1.2.0",
      "model_name": "LayoutModel",
      "state": {
       "overflow": "visible",
       "width": "100%"
      }
     },
     "8980a621660942b8810c9cd1ffaa5a52": {
      "model_module": "@jupyter-widgets/controls",
      "model_module_version": "1.5.0",
      "model_name": "HTMLModel",
      "state": {
       "layout": "IPY_MODEL_de7ef24442184778b9f8f8c76fc275a2",
       "style": "IPY_MODEL_9900324f96d24f7c9626a8a497063bdb",
       "value": "<font size=\"1\">Triumphs/Gambit/Medals/Invading/Maximum Carnage</font size=>"
      }
     },
     "8988f881fe6f470e9b7206af134f6da7": {
      "model_module": "@jupyter-widgets/controls",
      "model_module_version": "1.5.0",
      "model_name": "ProgressStyleModel",
      "state": {
       "description_width": ""
      }
     },
     "89904adc280a45c5913a0ff25f262101": {
      "model_module": "@jupyter-widgets/controls",
      "model_module_version": "1.5.0",
      "model_name": "ProgressStyleModel",
      "state": {
       "description_width": ""
      }
     },
     "899358a923b941da913bda437eb7c5f1": {
      "model_module": "@jupyter-widgets/base",
      "model_module_version": "1.2.0",
      "model_name": "LayoutModel",
      "state": {
       "display": "none"
      }
     },
     "8998f19a289d40268d962f4c83c08584": {
      "model_module": "@jupyter-widgets/base",
      "model_module_version": "1.2.0",
      "model_name": "LayoutModel",
      "state": {
       "height": "32px",
       "overflow": "visible",
       "width": "100%"
      }
     },
     "89994e0b8751483ca141c93d53c8b3fa": {
      "model_module": "@jupyter-widgets/controls",
      "model_module_version": "1.5.0",
      "model_name": "ButtonModel",
      "state": {
       "layout": "IPY_MODEL_66571a9de9d541fb9ae4566e4e269c4e",
       "style": "IPY_MODEL_29bf079f6c90430685e8e331ae10c89e"
      }
     },
     "89b49f7bef5944a48210e6f7a6528d6e": {
      "model_module": "@jupyter-widgets/controls",
      "model_module_version": "1.5.0",
      "model_name": "ProgressStyleModel",
      "state": {
       "description_width": ""
      }
     },
     "89b9094006f0463bad362935b1dc8475": {
      "model_module": "@jupyter-widgets/base",
      "model_module_version": "1.2.0",
      "model_name": "LayoutModel",
      "state": {
       "order": "-1",
       "overflow": "visible",
       "padding": "1px",
       "width": "0px"
      }
     },
     "8a0f44cb5d584fcfaa7ee1ca95ea6200": {
      "model_module": "@jupyter-widgets/base",
      "model_module_version": "1.2.0",
      "model_name": "LayoutModel",
      "state": {
       "order": "-1",
       "overflow": "visible",
       "padding": "1px",
       "width": "0px"
      }
     },
     "8a1178271aa64484a1848cbd265a8900": {
      "model_module": "@jupyter-widgets/base",
      "model_module_version": "1.2.0",
      "model_name": "LayoutModel",
      "state": {
       "height": "32px",
       "order": "-2",
       "width": "32px"
      }
     },
     "8a459f445cf149259bc0b8930b643a2e": {
      "model_module": "@jupyter-widgets/controls",
      "model_module_version": "1.5.0",
      "model_name": "VBoxModel",
      "state": {
       "children": [
        "IPY_MODEL_d326b049bf3649699e0fca5541f63400",
        "IPY_MODEL_803bff8f98ed4b64b1e7a5fad459ff1b",
        "IPY_MODEL_14870a9204464f3d888e654eebe26f58",
        "IPY_MODEL_4a0df4bede8d4fb5b48f63e6690d50a9",
        "IPY_MODEL_59d0fd0f57d84d719dc70fa0d18e5c71",
        "IPY_MODEL_6137b2cf1dfd4812893b972593a0c34b"
       ],
       "layout": "IPY_MODEL_dbc9b951434b4b1fbc74bcc61b7bc6d3"
      }
     },
     "8a5a52250e8b4646a5954660541a4029": {
      "model_module": "@jupyter-widgets/controls",
      "model_module_version": "1.5.0",
      "model_name": "HBoxModel",
      "state": {
       "children": [
        "IPY_MODEL_22f323eb0ad84efa90be37b65630062c",
        "IPY_MODEL_9f7d4179f5104efa962e75143ed93777",
        "IPY_MODEL_495cd69c944c4f6f97764cbcf37395f7",
        "IPY_MODEL_922bbd83eb344fceaae75862f387aaca"
       ],
       "layout": "IPY_MODEL_71792d825c2f4e0d83452ca64b8717e6"
      }
     },
     "8a807ffc1ccb4d91ae5dc0c34c73e4a7": {
      "model_module": "@jupyter-widgets/controls",
      "model_module_version": "1.5.0",
      "model_name": "ButtonStyleModel",
      "state": {}
     },
     "8b340c2da35e48abaacc1060787e80ad": {
      "model_module": "@jupyter-widgets/controls",
      "model_module_version": "1.5.0",
      "model_name": "ButtonStyleModel",
      "state": {}
     },
     "8b3944d9cb43431a945c81e34f4a3c5e": {
      "model_module": "@jupyter-widgets/controls",
      "model_module_version": "1.5.0",
      "model_name": "DropdownModel",
      "state": {
       "_options_labels": [
        "All"
       ],
       "index": 0,
       "layout": "IPY_MODEL_cac43cd5146c40e78fc1de583979a9dc",
       "style": "IPY_MODEL_32f618aaaa3f49e39ec228eef36f50d0"
      }
     },
     "8b3c783d88cd41ccb72253ad1050af74": {
      "model_module": "@jupyter-widgets/controls",
      "model_module_version": "1.5.0",
      "model_name": "ButtonStyleModel",
      "state": {}
     },
     "8b47a4f0a68447bbb085a02a0912d9bc": {
      "model_module": "@jupyter-widgets/controls",
      "model_module_version": "1.5.0",
      "model_name": "ProgressStyleModel",
      "state": {
       "description_width": ""
      }
     },
     "8b69cc52d50c4081b35c793632e5efb7": {
      "model_module": "@jupyter-widgets/controls",
      "model_module_version": "1.5.0",
      "model_name": "DescriptionStyleModel",
      "state": {
       "description_width": ""
      }
     },
     "8b7679603175407880b065b4907b9898": {
      "model_module": "@jupyter-widgets/controls",
      "model_module_version": "1.5.0",
      "model_name": "ButtonModel",
      "state": {
       "description": "EDIT",
       "layout": "IPY_MODEL_fbaeaa263bc744cb80df0d4c1ae25bc2",
       "style": "IPY_MODEL_4a314af568af479b95f26794ed82fd66"
      }
     },
     "8ba1d179d7ad4863ba4f0443c9c89cd0": {
      "model_module": "@jupyter-widgets/base",
      "model_module_version": "1.2.0",
      "model_name": "LayoutModel",
      "state": {
       "display": "none",
       "width": "60px"
      }
     },
     "8ba6d4a6bf1546dc88471e295ed4f8f4": {
      "model_module": "@jupyter-widgets/base",
      "model_module_version": "1.2.0",
      "model_name": "LayoutModel",
      "state": {
       "display": "none"
      }
     },
     "8ba80004b8a44805942182d04924ef9b": {
      "model_module": "@jupyter-widgets/base",
      "model_module_version": "1.2.0",
      "model_name": "LayoutModel",
      "state": {
       "height": "32px",
       "overflow": "visible",
       "width": "100%"
      }
     },
     "8bceca97eab9473299cf8081600c4685": {
      "model_module": "@jupyter-widgets/controls",
      "model_module_version": "1.5.0",
      "model_name": "LabelModel",
      "state": {
       "layout": "IPY_MODEL_7137e5ae296b401b96f401c847350b14",
       "style": "IPY_MODEL_027be87488dd44e6950d0e44dcb13889",
       "value": "   objective"
      }
     },
     "8bda6041090b49539349837dac1e093a": {
      "model_module": "@jupyter-widgets/controls",
      "model_module_version": "1.5.0",
      "model_name": "LabelModel",
      "state": {
       "layout": "IPY_MODEL_dcb9c2357ab3406ba750bad03fe043af",
       "style": "IPY_MODEL_42cbdc89d1d447d3a41fee99b4770839",
       "value": "   objective"
      }
     },
     "8c3b595681c747eaa22d1db95fba92c0": {
      "model_module": "@jupyter-widgets/controls",
      "model_module_version": "1.5.0",
      "model_name": "ButtonModel",
      "state": {
       "description": "EDIT",
       "layout": "IPY_MODEL_ea91090046d544c38e67c6936897c767",
       "style": "IPY_MODEL_b584a5b7930d454692049246551ea906"
      }
     },
     "8c7b1323bd354111b1d5033152182932": {
      "model_module": "@jupyter-widgets/controls",
      "model_module_version": "1.5.0",
      "model_name": "DescriptionStyleModel",
      "state": {
       "description_width": ""
      }
     },
     "8cc9e95fc27a4d419a863e3cc4a81363": {
      "model_module": "@jupyter-widgets/base",
      "model_module_version": "1.2.0",
      "model_name": "LayoutModel",
      "state": {
       "width": "98%"
      }
     },
     "8ce681a8fd584cb2b62b29bfd8910f0a": {
      "model_module": "@jupyter-widgets/base",
      "model_module_version": "1.2.0",
      "model_name": "LayoutModel",
      "state": {
       "height": "32px",
       "order": "-2",
       "width": "32px"
      }
     },
     "8cf176474c734ea987dd199ed92dfd5e": {
      "model_module": "@jupyter-widgets/controls",
      "model_module_version": "1.5.0",
      "model_name": "ButtonModel",
      "state": {
       "layout": "IPY_MODEL_e00bb0d4dbf347e1b0b699a861d92785",
       "style": "IPY_MODEL_8d516c386c9f4d2e86c92bff18371ab5"
      }
     },
     "8d0b111b8d134fe2989488a312b58d59": {
      "model_module": "@jupyter-widgets/controls",
      "model_module_version": "1.5.0",
      "model_name": "ProgressStyleModel",
      "state": {
       "description_width": ""
      }
     },
     "8d516c386c9f4d2e86c92bff18371ab5": {
      "model_module": "@jupyter-widgets/controls",
      "model_module_version": "1.5.0",
      "model_name": "ButtonStyleModel",
      "state": {}
     },
     "8d6666e4a0834cdfbafc7b28acca32af": {
      "model_module": "@jupyter-widgets/base",
      "model_module_version": "1.2.0",
      "model_name": "LayoutModel",
      "state": {
       "display": "flex"
      }
     },
     "8d8993654c324cd59ce6419ec49e683b": {
      "model_module": "@jupyter-widgets/controls",
      "model_module_version": "1.5.0",
      "model_name": "DescriptionStyleModel",
      "state": {
       "description_width": ""
      }
     },
     "8d8ee672b8884e5981b36706090d2294": {
      "model_module": "@jupyter-widgets/controls",
      "model_module_version": "1.5.0",
      "model_name": "ButtonStyleModel",
      "state": {}
     },
     "8dc165ae11024ab3b2cac234b3ac01b5": {
      "model_module": "@jupyter-widgets/base",
      "model_module_version": "1.2.0",
      "model_name": "LayoutModel",
      "state": {
       "display": "none"
      }
     },
     "8df94e9a0866468481c403d54622547e": {
      "model_module": "@jupyter-widgets/controls",
      "model_module_version": "1.5.0",
      "model_name": "ProgressStyleModel",
      "state": {
       "description_width": ""
      }
     },
     "8e27e096ed6747ba9b62589821f743e7": {
      "model_module": "@jupyter-widgets/controls",
      "model_module_version": "1.5.0",
      "model_name": "HBoxModel",
      "state": {
       "children": [
        "IPY_MODEL_f8d545fb98924fb7b72d99338c46629e",
        "IPY_MODEL_f35ae73634944b16bae2aadbbeed9e04",
        "IPY_MODEL_004ccc2d6c844eb68a0319ac0603aef6",
        "IPY_MODEL_57ce80fbb4fa4da8bb88fcbcee566ba0"
       ],
       "layout": "IPY_MODEL_d652c5b356da4480aaf7dd43675b6f37"
      }
     },
     "8e2adfe2f00e4f75b51755f22cc3106d": {
      "model_module": "@jupyter-widgets/base",
      "model_module_version": "1.2.0",
      "model_name": "LayoutModel",
      "state": {
       "display": "none",
       "width": "60px"
      }
     },
     "8e9c0a7f15274b8ca9a0feca9cd6b1dc": {
      "model_module": "@jupyter-widgets/controls",
      "model_module_version": "1.5.0",
      "model_name": "LabelModel",
      "state": {
       "layout": "IPY_MODEL_0a0da948f2e94566adc2ddfb928f74d0",
       "style": "IPY_MODEL_547af54fb40a429986ebb5376d492d11",
       "value": "    Glory ranks (2/5)"
      }
     },
     "8ea606973a734c6a872cdba6a15b0b3e": {
      "model_module": "@jupyter-widgets/controls",
      "model_module_version": "1.5.0",
      "model_name": "DescriptionStyleModel",
      "state": {
       "description_width": ""
      }
     },
     "8ee69f26384c4f0ca770c17283ec4b35": {
      "model_module": "@jupyter-widgets/base",
      "model_module_version": "1.2.0",
      "model_name": "LayoutModel",
      "state": {
       "height": "32px",
       "overflow": "visible",
       "width": "100%"
      }
     },
     "8f23eeee8030457494bf1fc21bfa962c": {
      "model_module": "@jupyter-widgets/controls",
      "model_module_version": "1.5.0",
      "model_name": "DescriptionStyleModel",
      "state": {
       "description_width": ""
      }
     },
     "8f59e9dacd8045e9ab78be13212c4c37": {
      "model_module": "@jupyter-widgets/base",
      "model_module_version": "1.2.0",
      "model_name": "LayoutModel",
      "state": {
       "order": "-1",
       "overflow": "visible",
       "padding": "1px",
       "width": "0px"
      }
     },
     "8faabf225d24408d9ea300580ec7d4f0": {
      "model_module": "@jupyter-widgets/controls",
      "model_module_version": "1.5.0",
      "model_name": "IntProgressModel",
      "state": {
       "layout": "IPY_MODEL_8998f19a289d40268d962f4c83c08584",
       "max": 1,
       "style": "IPY_MODEL_5ff86d52e1c443fb97ea9afcf575648e"
      }
     },
     "8fba729215924d3ca92b5e823606a5ef": {
      "model_module": "@jupyter-widgets/base",
      "model_module_version": "1.2.0",
      "model_name": "LayoutModel",
      "state": {
       "display": "none"
      }
     },
     "8fc5764a24e343fc84e3991c014d1a7b": {
      "model_module": "@jupyter-widgets/base",
      "model_module_version": "1.2.0",
      "model_name": "LayoutModel",
      "state": {}
     },
     "8fc57de0fc1e4101a2556704d93a5660": {
      "model_module": "@jupyter-widgets/controls",
      "model_module_version": "1.5.0",
      "model_name": "LabelModel",
      "state": {
       "layout": "IPY_MODEL_91190e75a2614dafa3bed7f5acbf0ff4",
       "style": "IPY_MODEL_97fe50a54648477a9bb79c9be3cb14c4",
       "value": "Weapon Slot:"
      }
     },
     "8feaf5ccfa84425aab34d145cbe04792": {
      "model_module": "@jupyter-widgets/controls",
      "model_module_version": "1.5.0",
      "model_name": "ButtonModel",
      "state": {
       "description": "EDIT",
       "layout": "IPY_MODEL_66b65ad1d7cd4fb29eda17fe9647f1ba",
       "style": "IPY_MODEL_5a95a21350604810bf951f759e291db7"
      }
     },
     "8fffaf13d42b4d95995feb523576c54c": {
      "model_module": "@jupyter-widgets/base",
      "model_module_version": "1.2.0",
      "model_name": "LayoutModel",
      "state": {
       "height": "32px",
       "order": "-2",
       "width": "32px"
      }
     },
     "90025f824bcf44b188e3cd0fa868f2c2": {
      "model_module": "@jupyter-widgets/controls",
      "model_module_version": "1.5.0",
      "model_name": "DescriptionStyleModel",
      "state": {
       "description_width": ""
      }
     },
     "903611b39afc4de2b3e83e8e030be9d9": {
      "model_module": "@jupyter-widgets/base",
      "model_module_version": "1.2.0",
      "model_name": "LayoutModel",
      "state": {
       "order": "-1",
       "overflow": "visible",
       "padding": "1px",
       "width": "0px"
      }
     },
     "90410b902cb440c888c02ab97b42ea8a": {
      "model_module": "@jupyter-widgets/base",
      "model_module_version": "1.2.0",
      "model_name": "LayoutModel",
      "state": {
       "display": "flex"
      }
     },
     "90502449d6254933b55dc4dfbde80f99": {
      "model_module": "@jupyter-widgets/base",
      "model_module_version": "1.2.0",
      "model_name": "LayoutModel",
      "state": {
       "order": "-1",
       "overflow": "visible",
       "padding": "1px",
       "width": "0px"
      }
     },
     "9061734213484550a9048b85923f3dfe": {
      "model_module": "@jupyter-widgets/base",
      "model_module_version": "1.2.0",
      "model_name": "LayoutModel",
      "state": {
       "order": "-1",
       "overflow": "visible",
       "padding": "1px",
       "width": "0px"
      }
     },
     "907d19d9a60a4643ad1c1774719afd0c": {
      "model_module": "@jupyter-widgets/controls",
      "model_module_version": "1.5.0",
      "model_name": "ButtonStyleModel",
      "state": {}
     },
     "909d484c59324e15bf32df73038ad9ba": {
      "model_module": "@jupyter-widgets/controls",
      "model_module_version": "1.5.0",
      "model_name": "HBoxModel",
      "state": {
       "children": [
        "IPY_MODEL_dc856745ca6343d4ba83f8514c3c61de",
        "IPY_MODEL_26e73d4ee45a40c9ad1c4c55100af9a5",
        "IPY_MODEL_42ff652547254c21be7879fdcf8fd339",
        "IPY_MODEL_a55db52969e94c11b83ec6cb62c81539"
       ],
       "layout": "IPY_MODEL_d273b0f0d2d94718a42cf62e5b9c3f86"
      }
     },
     "90b85ca81f374df39927ab53bbf3a457": {
      "model_module": "@jupyter-widgets/controls",
      "model_module_version": "1.5.0",
      "model_name": "ButtonModel",
      "state": {
       "description": "EDIT",
       "layout": "IPY_MODEL_afc5e3f1ebe74fae9310dff9541835d4",
       "style": "IPY_MODEL_ad27ca8fca5a40769f64112abf5c9275"
      }
     },
     "90c737e629f24704bca72b6253a0dff5": {
      "model_module": "@jupyter-widgets/controls",
      "model_module_version": "1.5.0",
      "model_name": "ButtonStyleModel",
      "state": {}
     },
     "91190e75a2614dafa3bed7f5acbf0ff4": {
      "model_module": "@jupyter-widgets/base",
      "model_module_version": "1.2.0",
      "model_name": "LayoutModel",
      "state": {}
     },
     "9121f8837dda4524b9fa5021cce1bcb2": {
      "model_module": "@jupyter-widgets/controls",
      "model_module_version": "1.5.0",
      "model_name": "DescriptionStyleModel",
      "state": {
       "description_width": ""
      }
     },
     "9137eb877e03490899e91811c98b4e65": {
      "model_module": "@jupyter-widgets/controls",
      "model_module_version": "1.5.0",
      "model_name": "ButtonStyleModel",
      "state": {}
     },
     "9173f0eb97284ee290158e429898d4b0": {
      "model_module": "@jupyter-widgets/controls",
      "model_module_version": "1.5.0",
      "model_name": "ProgressStyleModel",
      "state": {
       "description_width": ""
      }
     },
     "918236043a164b51b80dcc3604a2d5b9": {
      "model_module": "@jupyter-widgets/controls",
      "model_module_version": "1.5.0",
      "model_name": "DropdownModel",
      "state": {
       "_options_labels": [
        "Any"
       ],
       "disabled": true,
       "index": 0,
       "layout": "IPY_MODEL_dfd5c6303e934458b6257be1b14f92ef",
       "style": "IPY_MODEL_c7015501a48e473988c8292141b20810"
      }
     },
     "91988dd5c00f4a10ab2320585f1a817f": {
      "model_module": "@jupyter-widgets/base",
      "model_module_version": "1.2.0",
      "model_name": "LayoutModel",
      "state": {
       "height": "32px",
       "order": "-2",
       "width": "32px"
      }
     },
     "919cb37644b6458fadef80d2ec337665": {
      "model_module": "@jupyter-widgets/controls",
      "model_module_version": "1.5.0",
      "model_name": "ProgressStyleModel",
      "state": {
       "description_width": ""
      }
     },
     "91d1445221b54867b268521f0cf6393f": {
      "model_module": "@jupyter-widgets/base",
      "model_module_version": "1.2.0",
      "model_name": "LayoutModel",
      "state": {
       "order": "-1",
       "overflow": "visible",
       "padding": "1px",
       "width": "0px"
      }
     },
     "91df9313dad0482b91b2f23a7ec9ac86": {
      "model_module": "@jupyter-widgets/controls",
      "model_module_version": "1.5.0",
      "model_name": "VBoxModel",
      "state": {
       "children": [
        "IPY_MODEL_8980a621660942b8810c9cd1ffaa5a52",
        "IPY_MODEL_b8e4242a6a6c439aa855ae3847389350",
        "IPY_MODEL_10f831c19cb34d5c911a3ad3db18dc58",
        "IPY_MODEL_5a2d18444bc84555af744e0778c4574e"
       ],
       "layout": "IPY_MODEL_1b531b1a75064149ad3c9b742f9f23d9"
      }
     },
     "91e7d670850043c1956660e50024998b": {
      "model_module": "@jupyter-widgets/base",
      "model_module_version": "1.2.0",
      "model_name": "LayoutModel",
      "state": {
       "display": "none"
      }
     },
     "9229b07b5df54c3097f915dde0027c5e": {
      "model_module": "@jupyter-widgets/controls",
      "model_module_version": "1.5.0",
      "model_name": "DescriptionStyleModel",
      "state": {
       "description_width": ""
      }
     },
     "922bbd83eb344fceaae75862f387aaca": {
      "model_module": "@jupyter-widgets/controls",
      "model_module_version": "1.5.0",
      "model_name": "ButtonModel",
      "state": {
       "description": "EDIT",
       "layout": "IPY_MODEL_e9f7682d94c14d569f2fe3592369e157",
       "style": "IPY_MODEL_875fab1231d44c4bb9523dff49894069"
      }
     },
     "92518634b4e6499cb6610cefbb7e3196": {
      "model_module": "@jupyter-widgets/controls",
      "model_module_version": "1.5.0",
      "model_name": "DescriptionStyleModel",
      "state": {
       "description_width": ""
      }
     },
     "9258d4ce7e64404d96d549e059e281e1": {
      "model_module": "@jupyter-widgets/base",
      "model_module_version": "1.2.0",
      "model_name": "LayoutModel",
      "state": {
       "height": "32px",
       "order": "-2",
       "width": "32px"
      }
     },
     "9262253bfb484fd899090aeb583eee0c": {
      "model_module": "@jupyter-widgets/controls",
      "model_module_version": "1.5.0",
      "model_name": "DescriptionStyleModel",
      "state": {
       "description_width": ""
      }
     },
     "9281018a1416414d958f380d802ea01d": {
      "model_module": "@jupyter-widgets/base",
      "model_module_version": "1.2.0",
      "model_name": "LayoutModel",
      "state": {
       "display": "flex"
      }
     },
     "92b0f0c19fba43a082179a1a3c365d4b": {
      "model_module": "@jupyter-widgets/controls",
      "model_module_version": "1.5.0",
      "model_name": "ButtonModel",
      "state": {
       "layout": "IPY_MODEL_59adc090b39d448db67f79769685b6ea",
       "style": "IPY_MODEL_9137eb877e03490899e91811c98b4e65"
      }
     },
     "92e662b709384b18a6bcd8b37aa3c379": {
      "model_module": "@jupyter-widgets/controls",
      "model_module_version": "1.5.0",
      "model_name": "IntProgressModel",
      "state": {
       "layout": "IPY_MODEL_99ca218fe1a341c4999b28df0463f35c",
       "style": "IPY_MODEL_22923e6cf28a4f358f0d1c4f8c2e7de2",
       "value": 30
      }
     },
     "92ed5627f48846afb421fb898cc165eb": {
      "model_module": "@jupyter-widgets/controls",
      "model_module_version": "1.5.0",
      "model_name": "ButtonModel",
      "state": {
       "description": "EDIT",
       "layout": "IPY_MODEL_dbc2e149a72a469f9bdc46ce148aedff",
       "style": "IPY_MODEL_7d23cfa0ad154d1c9a8b3aa6fbda5494"
      }
     },
     "92ee3c4a165449aeafe7bffbdb5ab23d": {
      "model_module": "@jupyter-widgets/controls",
      "model_module_version": "1.5.0",
      "model_name": "ButtonStyleModel",
      "state": {}
     },
     "93317fcedf2549d4af24b3228a4261c7": {
      "model_module": "@jupyter-widgets/controls",
      "model_module_version": "1.5.0",
      "model_name": "ButtonStyleModel",
      "state": {}
     },
     "93579c3cfc654aa6abfda00d9657b93c": {
      "model_module": "@jupyter-widgets/controls",
      "model_module_version": "1.5.0",
      "model_name": "VBoxModel",
      "state": {
       "children": [
        "IPY_MODEL_a6db15a66ff6435aa5a611dc05268ffa",
        "IPY_MODEL_b18e5597bd984d76a3aab3fc8f197f90",
        "IPY_MODEL_9581f77f84fd46fe80d7f6152289dc63",
        "IPY_MODEL_dc14e4044c7b44c494000713df431da9",
        "IPY_MODEL_4dc0535d064a4e41b5579901235f8dbe",
        "IPY_MODEL_a899789ad9ec4524bcd1786e05e0d372",
        "IPY_MODEL_9978b76518bb4fa59efb3879f92f5983",
        "IPY_MODEL_1b9aad5b92df4c619a51c1b491d191e0",
        "IPY_MODEL_c8e4df4f1b6841aaa42790be270a365f"
       ],
       "layout": "IPY_MODEL_bdd22217c3e04b019455582a8b7230fe"
      }
     },
     "936a701aba1d4923ae7a26e4ef3ecb3c": {
      "model_module": "@jupyter-widgets/base",
      "model_module_version": "1.2.0",
      "model_name": "LayoutModel",
      "state": {
       "display": "none",
       "width": "60px"
      }
     },
     "937b4b0614454209a56bbf82257417a6": {
      "model_module": "@jupyter-widgets/controls",
      "model_module_version": "1.5.0",
      "model_name": "DescriptionStyleModel",
      "state": {
       "description_width": ""
      }
     },
     "93a811e8ff124295920ec2b6b3c226e5": {
      "model_module": "@jupyter-widgets/base",
      "model_module_version": "1.2.0",
      "model_name": "LayoutModel",
      "state": {
       "display": "none"
      }
     },
     "93b38a54cbb545649e0eef9c9e5b7681": {
      "model_module": "@jupyter-widgets/controls",
      "model_module_version": "1.5.0",
      "model_name": "IntProgressModel",
      "state": {
       "layout": "IPY_MODEL_3942e8ab07024055b871c07708bd0f4c",
       "style": "IPY_MODEL_c5694f41dda14c8fa23d8843aba7000d",
       "value": 30
      }
     },
     "93c89dac1617439c8852e0d7a07fc59c": {
      "model_module": "@jupyter-widgets/controls",
      "model_module_version": "1.5.0",
      "model_name": "DescriptionStyleModel",
      "state": {
       "description_width": ""
      }
     },
     "93ea022b10c24f68afd1a083c8bec64a": {
      "model_module": "@jupyter-widgets/controls",
      "model_module_version": "1.5.0",
      "model_name": "DescriptionStyleModel",
      "state": {
       "description_width": ""
      }
     },
     "93ee1132578f4cee83abf9647bc7d9cf": {
      "model_module": "@jupyter-widgets/base",
      "model_module_version": "1.2.0",
      "model_name": "LayoutModel",
      "state": {
       "align_items": "stretch",
       "display": "flex",
       "flex_flow": "row wrap"
      }
     },
     "94219506402348baa8a06d9880116dae": {
      "model_module": "@jupyter-widgets/controls",
      "model_module_version": "1.5.0",
      "model_name": "HTMLModel",
      "state": {
       "layout": "IPY_MODEL_896eba5912a745a98f4cf05e6d27fdcd",
       "style": "IPY_MODEL_8942e4e981fa461d8ae1c469f12a8135",
       "value": "<font size=\"1\">Triumphs/Vanguard/Raids/Last Wish/Coliseum Champion</font size=>"
      }
     },
     "942f6210ff8a43b6b918f1a0ff08793d": {
      "model_module": "@jupyter-widgets/base",
      "model_module_version": "1.2.0",
      "model_name": "LayoutModel",
      "state": {
       "height": "32px",
       "order": "-2",
       "width": "32px"
      }
     },
     "9475bd1b92e54b15a541929acd81e201": {
      "model_module": "@jupyter-widgets/controls",
      "model_module_version": "1.5.0",
      "model_name": "DescriptionStyleModel",
      "state": {
       "description_width": ""
      }
     },
     "948fc1c497414466bb552eb55b81182b": {
      "model_module": "@jupyter-widgets/controls",
      "model_module_version": "1.5.0",
      "model_name": "LabelModel",
      "state": {
       "layout": "IPY_MODEL_c307593000bb41a891dc21df48f3c0dc",
       "style": "IPY_MODEL_18d1905aa92b442aa2c14db5fbad32b7",
       "value": "   objective"
      }
     },
     "9492ed1a25604f99b14c286f8a924cfb": {
      "model_module": "@jupyter-widgets/controls",
      "model_module_version": "1.5.0",
      "model_name": "ButtonModel",
      "state": {
       "layout": "IPY_MODEL_7091941fd4fa43bda038c0628553beb3",
       "style": "IPY_MODEL_aa8242589363470caa4c8eb22ccac2d6"
      }
     },
     "94bccb7e9dde4adc9000b8216fd47f0e": {
      "model_module": "@jupyter-widgets/base",
      "model_module_version": "1.2.0",
      "model_name": "LayoutModel",
      "state": {
       "display": "none"
      }
     },
     "94c57bd91d494c82adda68898360f85d": {
      "model_module": "@jupyter-widgets/base",
      "model_module_version": "1.2.0",
      "model_name": "LayoutModel",
      "state": {
       "overflow": "visible",
       "width": "100%"
      }
     },
     "94da7f015ffa4ab69f7b9c19e7e6ec55": {
      "model_module": "@jupyter-widgets/controls",
      "model_module_version": "1.5.0",
      "model_name": "ButtonModel",
      "state": {
       "description": "EDIT",
       "layout": "IPY_MODEL_7edd9ef9000d45388f0208f5327e770d",
       "style": "IPY_MODEL_387af6ce383143fa829534d2700d1302"
      }
     },
     "95037c80b0b14f6f92e8f04dffa91010": {
      "model_module": "@jupyter-widgets/controls",
      "model_module_version": "1.5.0",
      "model_name": "DescriptionStyleModel",
      "state": {
       "description_width": ""
      }
     },
     "95244e9581cf49eeb3b3b2901c46d94c": {
      "model_module": "@jupyter-widgets/controls",
      "model_module_version": "1.5.0",
      "model_name": "ButtonStyleModel",
      "state": {}
     },
     "955aeabb223f43798d3685ef152c60db": {
      "model_module": "@jupyter-widgets/controls",
      "model_module_version": "1.5.0",
      "model_name": "ProgressStyleModel",
      "state": {
       "description_width": ""
      }
     },
     "9581f77f84fd46fe80d7f6152289dc63": {
      "model_module": "@jupyter-widgets/controls",
      "model_module_version": "1.5.0",
      "model_name": "DropdownModel",
      "state": {
       "_options_labels": [
        "Any",
        "Titan",
        "Hunter",
        "Warlock"
       ],
       "index": 0,
       "layout": "IPY_MODEL_8cc9e95fc27a4d419a863e3cc4a81363",
       "style": "IPY_MODEL_794d416b8fb64e8fb6497103b100d9a9"
      }
     },
     "958a4386e6f34f9086d28f0df1e6da00": {
      "model_module": "@jupyter-widgets/controls",
      "model_module_version": "1.5.0",
      "model_name": "ButtonModel",
      "state": {
       "description": "EDIT",
       "layout": "IPY_MODEL_3ec84d03ecc14f4481560d629d7e5a46",
       "style": "IPY_MODEL_f112049623c84affb32e63d4b3a53ea6"
      }
     },
     "959f58ef448f4247b7ac75f50cb24303": {
      "model_module": "@jupyter-widgets/controls",
      "model_module_version": "1.5.0",
      "model_name": "DescriptionStyleModel",
      "state": {
       "description_width": ""
      }
     },
     "95a9ce27a0bd4050942bfdcd8af4c6e8": {
      "model_module": "@jupyter-widgets/controls",
      "model_module_version": "1.5.0",
      "model_name": "ProgressStyleModel",
      "state": {
       "description_width": ""
      }
     },
     "95d67a93fe474deba10d0973eddd9d5c": {
      "model_module": "@jupyter-widgets/base",
      "model_module_version": "1.2.0",
      "model_name": "LayoutModel",
      "state": {
       "display": "none",
       "width": "60px"
      }
     },
     "95fbaa971ac44758b7f427fae81c0d54": {
      "model_module": "@jupyter-widgets/base",
      "model_module_version": "1.2.0",
      "model_name": "LayoutModel",
      "state": {
       "order": "-1",
       "overflow": "visible",
       "padding": "1px",
       "width": "0px"
      }
     },
     "960318fa3cf241c3955344b2bf21bf17": {
      "model_module": "@jupyter-widgets/base",
      "model_module_version": "1.2.0",
      "model_name": "LayoutModel",
      "state": {
       "height": "32px",
       "overflow": "visible",
       "width": "100%"
      }
     },
     "9647be16b2674f3cb19894a5bb3c1e66": {
      "model_module": "@jupyter-widgets/base",
      "model_module_version": "1.2.0",
      "model_name": "LayoutModel",
      "state": {
       "height": "32px",
       "overflow": "visible",
       "width": "100%"
      }
     },
     "967434a3bd684b3e9cf7ea30768952e8": {
      "model_module": "@jupyter-widgets/output",
      "model_module_version": "1.0.0",
      "model_name": "OutputModel",
      "state": {
       "layout": "IPY_MODEL_ae769b4a20ce483b9b24b348da911c05",
       "outputs": [
        {
         "data": {
          "application/vnd.jupyter.widget-view+json": {
           "model_id": "",
           "version_major": 2,
           "version_minor": 0
          },
          "text/plain": "Checkbox(value=False, description='Edit Mode')"
         },
         "metadata": {},
         "output_type": "display_data"
        }
       ]
      }
     },
     "968b6351165d4877a6bdd9883c4e6fe4": {
      "model_module": "@jupyter-widgets/controls",
      "model_module_version": "1.5.0",
      "model_name": "DropdownModel",
      "state": {
       "_options_labels": [
        "Any",
        "Primary",
        "Secondary",
        "Heavy"
       ],
       "index": 0,
       "layout": "IPY_MODEL_8cc9e95fc27a4d419a863e3cc4a81363",
       "style": "IPY_MODEL_8b69cc52d50c4081b35c793632e5efb7"
      }
     },
     "969d912523b64acfbe26e1c6afd0a976": {
      "model_module": "@jupyter-widgets/base",
      "model_module_version": "1.2.0",
      "model_name": "LayoutModel",
      "state": {
       "display": "none"
      }
     },
     "96c1cf99876e4e2992560d4f0ae56d54": {
      "model_module": "@jupyter-widgets/base",
      "model_module_version": "1.2.0",
      "model_name": "LayoutModel",
      "state": {
       "border": "1px solid white",
       "display": "none",
       "min_width": "250px",
       "padding": "10px",
       "width": "15%"
      }
     },
     "96e0cd0ab8df42b793a4fd68c0e9ac92": {
      "model_module": "@jupyter-widgets/base",
      "model_module_version": "1.2.0",
      "model_name": "LayoutModel",
      "state": {
       "height": "32px",
       "order": "-2",
       "width": "32px"
      }
     },
     "96e81c82dfa84cbb972d05f5db58254f": {
      "model_module": "@jupyter-widgets/base",
      "model_module_version": "1.2.0",
      "model_name": "LayoutModel",
      "state": {
       "order": "-1",
       "overflow": "visible",
       "padding": "1px",
       "width": "0px"
      }
     },
     "975a0b39e5154349ad058a4c51f853f8": {
      "model_module": "@jupyter-widgets/controls",
      "model_module_version": "1.5.0",
      "model_name": "ButtonModel",
      "state": {
       "description": "EDIT",
       "layout": "IPY_MODEL_aecb1f195cbc481ca346bc1238ef50b9",
       "style": "IPY_MODEL_0c742bf4af454f9c80f1bd582e4a92a2"
      }
     },
     "979f2a21f35d4e12b8f9fec1cc07f01e": {
      "model_module": "@jupyter-widgets/controls",
      "model_module_version": "1.5.0",
      "model_name": "ButtonStyleModel",
      "state": {}
     },
     "97f85144d735447bb1c94ec51b931d5e": {
      "model_module": "@jupyter-widgets/controls",
      "model_module_version": "1.5.0",
      "model_name": "CheckboxModel",
      "state": {
       "description": "Hide Conflicting Tasks",
       "disabled": false,
       "indent": false,
       "layout": "IPY_MODEL_07eb735e47ef4124960a0819e53c716d",
       "style": "IPY_MODEL_14d1909041c14c99b769ca5454430589",
       "value": false
      }
     },
     "97fe50a54648477a9bb79c9be3cb14c4": {
      "model_module": "@jupyter-widgets/controls",
      "model_module_version": "1.5.0",
      "model_name": "DescriptionStyleModel",
      "state": {
       "description_width": ""
      }
     },
     "98510c61a02f430ab41058dd17e8eaea": {
      "model_module": "@jupyter-widgets/controls",
      "model_module_version": "1.5.0",
      "model_name": "ButtonModel",
      "state": {
       "description": "Search",
       "layout": "IPY_MODEL_1847a41652cf486ba7c5e0e0fad00d28",
       "style": "IPY_MODEL_5c8d21ad01de46019108fd1c5a3248ff"
      }
     },
     "986bb80d3b784c37a5b3ce2247a6174f": {
      "model_module": "@jupyter-widgets/controls",
      "model_module_version": "1.5.0",
      "model_name": "HBoxModel",
      "state": {
       "children": [
        "IPY_MODEL_41034ab954be4ad1912d0d655c4b6d2e",
        "IPY_MODEL_112986d4647046c4a59165907fcaf123",
        "IPY_MODEL_8bda6041090b49539349837dac1e093a",
        "IPY_MODEL_a2e769db580d4f9188a05c78fd516923"
       ],
       "layout": "IPY_MODEL_28ef0a52b7b9421b9595ee0a4481915f"
      }
     },
     "9894add848c6452f920892de7a18a129": {
      "model_module": "@jupyter-widgets/controls",
      "model_module_version": "1.5.0",
      "model_name": "VBoxModel",
      "state": {
       "children": [
        "IPY_MODEL_b5739cf11cde4d7b820460faf777e31d",
        "IPY_MODEL_97f85144d735447bb1c94ec51b931d5e",
        "IPY_MODEL_7a355a48acf74987aa9d4239de1e782b"
       ],
       "layout": "IPY_MODEL_9e58c92528c048548f417bae5bb8ae07"
      }
     },
     "989f6e3c0a2a42a59e08e56f499cab30": {
      "model_module": "@jupyter-widgets/controls",
      "model_module_version": "1.5.0",
      "model_name": "ButtonModel",
      "state": {
       "layout": "IPY_MODEL_8a1178271aa64484a1848cbd265a8900",
       "style": "IPY_MODEL_5d8c91b8157b476d89319479b1a01c92"
      }
     },
     "9900324f96d24f7c9626a8a497063bdb": {
      "model_module": "@jupyter-widgets/controls",
      "model_module_version": "1.5.0",
      "model_name": "DescriptionStyleModel",
      "state": {
       "description_width": ""
      }
     },
     "9904fca78d664e0e94577ed1a6c40590": {
      "model_module": "@jupyter-widgets/controls",
      "model_module_version": "1.5.0",
      "model_name": "HBoxModel",
      "state": {
       "children": [
        "IPY_MODEL_cb6b1f890f48494cb9c6cc72a8792a6e",
        "IPY_MODEL_b10513e7cb0642619093d74f7d2f1411",
        "IPY_MODEL_fa8e9f887f634ed2b0d0aaaf6a924107",
        "IPY_MODEL_bc5080facf914ff2a8138e4a5ae3385d"
       ],
       "layout": "IPY_MODEL_fd7d26917ce446b88056e42f3ed609d0"
      }
     },
     "993535f0482d46e0839b9f5a00db884c": {
      "model_module": "@jupyter-widgets/base",
      "model_module_version": "1.2.0",
      "model_name": "LayoutModel",
      "state": {
       "display": "none",
       "width": "60px"
      }
     },
     "99447faa1fa542b4aadf755ad0be1646": {
      "model_module": "@jupyter-widgets/controls",
      "model_module_version": "1.5.0",
      "model_name": "IntProgressModel",
      "state": {
       "layout": "IPY_MODEL_774188522ae345fdaf64d56fa26cd2d1",
       "style": "IPY_MODEL_cc2e22c1a45a43019982f5ddf63f28d2",
       "value": 30
      }
     },
     "994c52cd03cc41d2a781d42eac423b61": {
      "model_module": "@jupyter-widgets/controls",
      "model_module_version": "1.5.0",
      "model_name": "HTMLModel",
      "state": {
       "layout": "IPY_MODEL_94c57bd91d494c82adda68898360f85d",
       "style": "IPY_MODEL_dcbb9bd7eb874fe0ba56ac600ba719f8",
       "value": "<font size=\"5\"><b>The Expedition</b></font size=>"
      }
     },
     "99512f6fde6e4ea2992555bdde2ae6e5": {
      "model_module": "@jupyter-widgets/controls",
      "model_module_version": "1.5.0",
      "model_name": "ProgressStyleModel",
      "state": {
       "description_width": ""
      }
     },
     "9978b76518bb4fa59efb3879f92f5983": {
      "model_module": "@jupyter-widgets/controls",
      "model_module_version": "1.5.0",
      "model_name": "DropdownModel",
      "state": {
       "_options_labels": [
        "Any"
       ],
       "disabled": true,
       "index": 0,
       "layout": "IPY_MODEL_8cc9e95fc27a4d419a863e3cc4a81363",
       "style": "IPY_MODEL_adb12287bcef4a0eba3bec5563d531a8"
      }
     },
     "997c793030d346cdb894d6b7ccc16bdb": {
      "model_module": "@jupyter-widgets/base",
      "model_module_version": "1.2.0",
      "model_name": "LayoutModel",
      "state": {}
     },
     "998d7854a65f47ab85e56b39c18313ed": {
      "model_module": "@jupyter-widgets/controls",
      "model_module_version": "1.5.0",
      "model_name": "ProgressStyleModel",
      "state": {
       "description_width": ""
      }
     },
     "99a2f364e91e40398b339d38df9c95b8": {
      "model_module": "@jupyter-widgets/controls",
      "model_module_version": "1.5.0",
      "model_name": "ButtonModel",
      "state": {
       "description": "EDIT",
       "layout": "IPY_MODEL_26ca8bda13f544588504338e6d5a6e12",
       "style": "IPY_MODEL_3d24c6b9ea844364a1d3b9fb7f2f1d7a"
      }
     },
     "99b05d7bd8184cd8af73ba61d155041b": {
      "model_module": "@jupyter-widgets/controls",
      "model_module_version": "1.5.0",
      "model_name": "ButtonModel",
      "state": {
       "layout": "IPY_MODEL_b56ee57d33e04447aa6dd1c3a3a31706",
       "style": "IPY_MODEL_678d248077bb4205953a9b38a1ad9f12"
      }
     },
     "99c7b85e8d0044a2b75af941fe60cd9b": {
      "model_module": "@jupyter-widgets/controls",
      "model_module_version": "1.5.0",
      "model_name": "HBoxModel",
      "state": {
       "children": [
        "IPY_MODEL_4545beb6124444ef85625cd5f71da114",
        "IPY_MODEL_fd9f3873e26a4d51b6454040fb53fa43",
        "IPY_MODEL_e25aadcfd0fc48de9349cc145d6fb3d5",
        "IPY_MODEL_06fd795379234cee921d3e0b37201f00"
       ],
       "layout": "IPY_MODEL_5709cbd305104b71951f2bbc2ae4671e"
      }
     },
     "99ca218fe1a341c4999b28df0463f35c": {
      "model_module": "@jupyter-widgets/base",
      "model_module_version": "1.2.0",
      "model_name": "LayoutModel",
      "state": {
       "height": "32px",
       "overflow": "visible",
       "width": "100%"
      }
     },
     "99fff606b3674b1e85f4127b1894e572": {
      "model_module": "@jupyter-widgets/base",
      "model_module_version": "1.2.0",
      "model_name": "LayoutModel",
      "state": {
       "display": "none",
       "width": "60px"
      }
     },
     "9a795a3e2cce4ec08cee43ebf35b53e6": {
      "model_module": "@jupyter-widgets/controls",
      "model_module_version": "1.5.0",
      "model_name": "IntProgressModel",
      "state": {
       "layout": "IPY_MODEL_d269193a275744e2883923e4cdd62c9f",
       "style": "IPY_MODEL_998d7854a65f47ab85e56b39c18313ed",
       "value": 30
      }
     },
     "9ab089870f534217839b7928f129341a": {
      "model_module": "@jupyter-widgets/controls",
      "model_module_version": "1.5.0",
      "model_name": "LabelModel",
      "state": {
       "layout": "IPY_MODEL_17cd8cd3afe9467994917a55498d1ef7",
       "style": "IPY_MODEL_732081c906f84f94813d9589990382ce",
       "value": "Subclass:"
      }
     },
     "9abd591aafcb48daa8a407af74a7f93d": {
      "model_module": "@jupyter-widgets/base",
      "model_module_version": "1.2.0",
      "model_name": "LayoutModel",
      "state": {
       "display": "none"
      }
     },
     "9b4df995db4f42729a1dac8daedbc710": {
      "model_module": "@jupyter-widgets/controls",
      "model_module_version": "1.5.0",
      "model_name": "ButtonStyleModel",
      "state": {}
     },
     "9b93b886043a4688b5960a75b16e1f92": {
      "model_module": "@jupyter-widgets/base",
      "model_module_version": "1.2.0",
      "model_name": "LayoutModel",
      "state": {
       "height": "32px",
       "order": "-2",
       "width": "32px"
      }
     },
     "9c5bdb0cf43f4195955afd287ec52813": {
      "model_module": "@jupyter-widgets/base",
      "model_module_version": "1.2.0",
      "model_name": "LayoutModel",
      "state": {
       "height": "32px",
       "overflow": "visible",
       "width": "100%"
      }
     },
     "9c66a71b5cd3499eaf69ddaf2b0ae9e1": {
      "model_module": "@jupyter-widgets/controls",
      "model_module_version": "1.5.0",
      "model_name": "ButtonModel",
      "state": {
       "button_style": "success",
       "disabled": true,
       "layout": "IPY_MODEL_9258d4ce7e64404d96d549e059e281e1",
       "style": "IPY_MODEL_3e6ee94d5c4b467b980bfa6c4b17f3a7"
      }
     },
     "9c7859825dd74c01be8be91b26603123": {
      "model_module": "@jupyter-widgets/controls",
      "model_module_version": "1.5.0",
      "model_name": "DropdownModel",
      "state": {
       "_options_labels": [
        "Any",
        "Hand Cannon",
        "Auto Rifle",
        "Scout Rifle",
        "Pulse Rifle",
        "Sidearm",
        "Submachine Gun",
        "Combt Bow",
        "Sniper Rifle",
        "Shotgun"
       ],
       "index": 0,
       "layout": "IPY_MODEL_dfd5c6303e934458b6257be1b14f92ef",
       "style": "IPY_MODEL_048fbccecd6149b2b946ebb84b657673"
      }
     },
     "9c9c2689cd7540748f5921c63caf59bc": {
      "model_module": "@jupyter-widgets/controls",
      "model_module_version": "1.5.0",
      "model_name": "LabelModel",
      "state": {
       "layout": "IPY_MODEL_95fbaa971ac44758b7f427fae81c0d54",
       "style": "IPY_MODEL_3ac2fd8f243c46ceb33a106c55403013",
       "value": "   objective"
      }
     },
     "9cbc1066bd594a7ab4797cc328adf87d": {
      "model_module": "@jupyter-widgets/controls",
      "model_module_version": "1.5.0",
      "model_name": "IntProgressModel",
      "state": {
       "layout": "IPY_MODEL_c5209098e36248c3bea852e34f857648",
       "max": 1,
       "style": "IPY_MODEL_6a2357a372644df3994b5c42f87eddc8"
      }
     },
     "9cd145cee22a495c8960c1cc6d09e92f": {
      "model_module": "@jupyter-widgets/controls",
      "model_module_version": "1.5.0",
      "model_name": "HBoxModel",
      "state": {
       "children": [
        "IPY_MODEL_faa3f732822648068aca2abf131ce9ea",
        "IPY_MODEL_32d570a189d24a5ea4549f380404ef19",
        "IPY_MODEL_64068311da0b454cb7daca550e811745",
        "IPY_MODEL_92ed5627f48846afb421fb898cc165eb"
       ],
       "layout": "IPY_MODEL_94bccb7e9dde4adc9000b8216fd47f0e"
      }
     },
     "9ce69f32d8ff4a4abce1f1a2907a8f61": {
      "model_module": "@jupyter-widgets/base",
      "model_module_version": "1.2.0",
      "model_name": "LayoutModel",
      "state": {
       "display": "none"
      }
     },
     "9d2d5fa3b217408783bce3119b06e546": {
      "model_module": "@jupyter-widgets/base",
      "model_module_version": "1.2.0",
      "model_name": "LayoutModel",
      "state": {
       "overflow": "visible",
       "width": "100%"
      }
     },
     "9d3350ed254a41009bc5fc3702bc366d": {
      "model_module": "@jupyter-widgets/controls",
      "model_module_version": "1.5.0",
      "model_name": "HBoxModel",
      "state": {
       "children": [
        "IPY_MODEL_20f8cad57d5642fea0a1f5b369210069",
        "IPY_MODEL_b0352f6f5f344ae89b6932b0c8f34270",
        "IPY_MODEL_ba2bd26415e94eb6b6891f95889a1795",
        "IPY_MODEL_2c27d44a8a0b4290b7733216fce56723"
       ],
       "layout": "IPY_MODEL_ed4f8216cbb04c3988fd9d443db19b3d"
      }
     },
     "9d8a77697f424c43a580a401fdc43f8c": {
      "model_module": "@jupyter-widgets/controls",
      "model_module_version": "1.5.0",
      "model_name": "ButtonStyleModel",
      "state": {}
     },
     "9db6281fe6724151bf17fa01ce7eafa7": {
      "model_module": "@jupyter-widgets/controls",
      "model_module_version": "1.5.0",
      "model_name": "ButtonModel",
      "state": {
       "layout": "IPY_MODEL_fb18f12e90364d8fb390970711e29a0a",
       "style": "IPY_MODEL_564d45d9d9bf4aa8aa8bfcbc5f16cd64"
      }
     },
     "9e3808cd8f6f4c7795c8319470f4a135": {
      "model_module": "@jupyter-widgets/controls",
      "model_module_version": "1.5.0",
      "model_name": "DropdownModel",
      "state": {
       "_options_labels": [
        "Any"
       ],
       "disabled": true,
       "index": 0,
       "layout": "IPY_MODEL_dfd5c6303e934458b6257be1b14f92ef",
       "style": "IPY_MODEL_02636c615d104f2685fe7587913398a1"
      }
     },
     "9e5050f38d3d4849bdcfde2b55d5682e": {
      "model_module": "@jupyter-widgets/controls",
      "model_module_version": "1.5.0",
      "model_name": "LabelModel",
      "state": {
       "layout": "IPY_MODEL_264e70c670d345e6af95290f5cc86b36",
       "style": "IPY_MODEL_c3f00b5a4cf94bfdacea5de9bddfac2f",
       "value": "   objective"
      }
     },
     "9e58c92528c048548f417bae5bb8ae07": {
      "model_module": "@jupyter-widgets/base",
      "model_module_version": "1.2.0",
      "model_name": "LayoutModel",
      "state": {}
     },
     "9eb5b6ec28e4431fae29ebcc7e8c083b": {
      "model_module": "@jupyter-widgets/base",
      "model_module_version": "1.2.0",
      "model_name": "LayoutModel",
      "state": {
       "order": "-1",
       "overflow": "visible",
       "padding": "1px",
       "width": "0px"
      }
     },
     "9eebcd128586480fac533fc4c04a6d80": {
      "model_module": "@jupyter-widgets/controls",
      "model_module_version": "1.5.0",
      "model_name": "LabelModel",
      "state": {
       "layout": "IPY_MODEL_b53efde3f1144a8ca0878f1558c8e13f",
       "style": "IPY_MODEL_a391f35b42244b00aa218772df8b4e27",
       "value": "Grenade:"
      }
     },
     "9f1426434fdb4bfabc936b223e47b64d": {
      "model_module": "@jupyter-widgets/controls",
      "model_module_version": "1.5.0",
      "model_name": "LabelModel",
      "state": {
       "layout": "IPY_MODEL_0c07adc0fb734706b33abf6799f6a13e",
       "style": "IPY_MODEL_a452128a562e4596ba5b14b40bcb8013",
       "value": "   objective"
      }
     },
     "9f1b829f394d444e8b2473882b785068": {
      "model_module": "@jupyter-widgets/controls",
      "model_module_version": "1.5.0",
      "model_name": "ButtonModel",
      "state": {
       "button_style": "success",
       "description": "EDIT",
       "layout": "IPY_MODEL_62465746130740a392406442595a659e",
       "style": "IPY_MODEL_ac2efad7e471445fa261d0ea3082f95f"
      }
     },
     "9f1ec3bc8d8248a79336d1891dba1b1a": {
      "model_module": "@jupyter-widgets/base",
      "model_module_version": "1.2.0",
      "model_name": "LayoutModel",
      "state": {
       "order": "-1",
       "overflow": "visible",
       "padding": "1px",
       "width": "0px"
      }
     },
     "9f6b727ed2dc4280bf57de854757f764": {
      "model_module": "@jupyter-widgets/base",
      "model_module_version": "1.2.0",
      "model_name": "LayoutModel",
      "state": {
       "height": "32px",
       "order": "-2",
       "width": "32px"
      }
     },
     "9f7d4179f5104efa962e75143ed93777": {
      "model_module": "@jupyter-widgets/controls",
      "model_module_version": "1.5.0",
      "model_name": "IntProgressModel",
      "state": {
       "layout": "IPY_MODEL_f8d04161114644cd9b73a566c71dedd6",
       "style": "IPY_MODEL_3e6cb88e92d94f3ab1737190eeeba692",
       "value": 30
      }
     },
     "9fd4c47ea27b40d69ac85273fe8f5613": {
      "model_module": "@jupyter-widgets/controls",
      "model_module_version": "1.5.0",
      "model_name": "ButtonStyleModel",
      "state": {}
     },
     "a0120140948e44389b91f70d14b19644": {
      "model_module": "@jupyter-widgets/controls",
      "model_module_version": "1.5.0",
      "model_name": "IntProgressModel",
      "state": {
       "layout": "IPY_MODEL_e4cc42d9789b4868bf9cb22bb9787981",
       "style": "IPY_MODEL_8b47a4f0a68447bbb085a02a0912d9bc",
       "value": 30
      }
     },
     "a014d2e993a24275ad2fe7afd88af801": {
      "model_module": "@jupyter-widgets/controls",
      "model_module_version": "1.5.0",
      "model_name": "LabelModel",
      "state": {
       "layout": "IPY_MODEL_96e81c82dfa84cbb972d05f5db58254f",
       "style": "IPY_MODEL_2d1c9dc9051f4ac4bf3a1f825d665c08",
       "value": "   objective"
      }
     },
     "a01f9aabd72c4ed097ed087ef3501187": {
      "model_module": "@jupyter-widgets/controls",
      "model_module_version": "1.5.0",
      "model_name": "LabelModel",
      "state": {
       "layout": "IPY_MODEL_3b04ea17ff5e403aa1f7d167bbfe84e6",
       "style": "IPY_MODEL_ff3f8b44f0af4817b0d376d6d1dc2feb",
       "value": "   objective"
      }
     },
     "a0340c8d5eb04c829fa06f7477e15595": {
      "model_module": "@jupyter-widgets/controls",
      "model_module_version": "1.5.0",
      "model_name": "VBoxModel",
      "state": {
       "children": [
        "IPY_MODEL_7f9c7708fe7e489eb2f8a15d35055412",
        "IPY_MODEL_db7f0d7e66734dd5b218b0e4f5a64745",
        "IPY_MODEL_9c7859825dd74c01be8be91b26603123",
        "IPY_MODEL_78d6f1ca58fd4a71bec26d506b28f8e6",
        "IPY_MODEL_82dfd476c5504ce3afbac7254d8e5271",
        "IPY_MODEL_32685834666f488db74e063a3c5bb36f",
        "IPY_MODEL_01102a15973d472cabcfae70e541476a",
        "IPY_MODEL_22312d090ba04e0b82dc18b7d9b9e6ea",
        "IPY_MODEL_6037dc6e253d4c3f8e53bcd761d21df1",
        "IPY_MODEL_c174cead493e4f65ba034211e3d56ab1",
        "IPY_MODEL_0648b6e33cdf4d59b2f1ab1ec7922d78"
       ],
       "layout": "IPY_MODEL_69576a1fee974555bd26aac2e2fa5287"
      }
     },
     "a07ea31c0d6b4065abaae1e9882320b3": {
      "model_module": "@jupyter-widgets/controls",
      "model_module_version": "1.5.0",
      "model_name": "ButtonModel",
      "state": {
       "description": "EDIT",
       "layout": "IPY_MODEL_3bee004de3124a2ebaf63e77b0b2a64f",
       "style": "IPY_MODEL_1cbd8da3df5e45d58256777c906530ff"
      }
     },
     "a0f0f0126d994e159f5f13ac8b7ca730": {
      "model_module": "@jupyter-widgets/controls",
      "model_module_version": "1.5.0",
      "model_name": "IntProgressModel",
      "state": {
       "layout": "IPY_MODEL_b9d43ecc021041b3b53f13ff6c4d0394",
       "style": "IPY_MODEL_2d6c27578f0c4abd8ee0e925d882cc8b",
       "value": 30
      }
     },
     "a1045ec92597468a9cc0e398d61e37f6": {
      "model_module": "@jupyter-widgets/controls",
      "model_module_version": "1.5.0",
      "model_name": "HBoxModel",
      "state": {
       "children": [
        "IPY_MODEL_f1bef552229049eab4d96d472172e7b7",
        "IPY_MODEL_21fc92f02b674f0991574e80017f94d4",
        "IPY_MODEL_247af6eea7e94d9289cd850de4c9238b",
        "IPY_MODEL_1f7ab06f5b744f4991f86055a1ed4804"
       ],
       "layout": "IPY_MODEL_20c95d8dd2d247e2bacb2195055d9f24"
      }
     },
     "a1248cd8215b4e95aa9e12d765480d7c": {
      "model_module": "@jupyter-widgets/controls",
      "model_module_version": "1.5.0",
      "model_name": "ProgressStyleModel",
      "state": {
       "description_width": ""
      }
     },
     "a139349acb8e4cb7afbcfbc5035b2d48": {
      "model_module": "@jupyter-widgets/base",
      "model_module_version": "1.2.0",
      "model_name": "LayoutModel",
      "state": {
       "height": "32px",
       "overflow": "visible",
       "width": "100%"
      }
     },
     "a140dda8ef324a35bc6355910df8628b": {
      "model_module": "@jupyter-widgets/controls",
      "model_module_version": "1.5.0",
      "model_name": "DescriptionStyleModel",
      "state": {
       "description_width": ""
      }
     },
     "a170b0bfeac642518dd310a970437e0a": {
      "model_module": "@jupyter-widgets/base",
      "model_module_version": "1.2.0",
      "model_name": "LayoutModel",
      "state": {
       "height": "32px",
       "overflow": "visible",
       "width": "100%"
      }
     },
     "a1747728a3234cda81a6d9cc36244a77": {
      "model_module": "@jupyter-widgets/base",
      "model_module_version": "1.2.0",
      "model_name": "LayoutModel",
      "state": {
       "overflow": "visible",
       "width": "100%"
      }
     },
     "a17e5628003040a39bdae60bd81768f4": {
      "model_module": "@jupyter-widgets/controls",
      "model_module_version": "1.5.0",
      "model_name": "DescriptionStyleModel",
      "state": {
       "description_width": ""
      }
     },
     "a17ec0fe07b54d129a238ea99ac97432": {
      "model_module": "@jupyter-widgets/controls",
      "model_module_version": "1.5.0",
      "model_name": "DescriptionStyleModel",
      "state": {
       "description_width": ""
      }
     },
     "a19f826f08c4419a996a63297d217dc3": {
      "model_module": "@jupyter-widgets/controls",
      "model_module_version": "1.5.0",
      "model_name": "VBoxModel",
      "state": {
       "children": [
        "IPY_MODEL_28edfadf56384805ba2570fa3f02f5e0",
        "IPY_MODEL_9894add848c6452f920892de7a18a129",
        "IPY_MODEL_41f5c9a975f54f11a58c912155fc6e63"
       ],
       "layout": "IPY_MODEL_d4c29df77f9a43a8bcf6141e0c086a38"
      }
     },
     "a1a8c258405949aa80289d36936274c8": {
      "model_module": "@jupyter-widgets/controls",
      "model_module_version": "1.5.0",
      "model_name": "ButtonModel",
      "state": {
       "layout": "IPY_MODEL_017e760396494bac9597d7417db8c230",
       "style": "IPY_MODEL_79eecf03a8bf44209a16b05c0adc211d"
      }
     },
     "a1b7cd85bb2f46f8bfa25b028d3a112a": {
      "model_module": "@jupyter-widgets/controls",
      "model_module_version": "1.5.0",
      "model_name": "LabelModel",
      "state": {
       "layout": "IPY_MODEL_b9d41cdb4e074573a189253551f9b343",
       "style": "IPY_MODEL_7801d741dcdb44c8bf944e5499317edb",
       "value": "Tree:"
      }
     },
     "a1c29e0c9e1845deae1763358e3053bd": {
      "model_module": "@jupyter-widgets/controls",
      "model_module_version": "1.5.0",
      "model_name": "DescriptionStyleModel",
      "state": {
       "description_width": ""
      }
     },
     "a1e21758de71475eba5dc5da2ff03da1": {
      "model_module": "@jupyter-widgets/controls",
      "model_module_version": "1.5.0",
      "model_name": "ButtonStyleModel",
      "state": {}
     },
     "a26ae8dad3894396bd8187c8be6dd01b": {
      "model_module": "@jupyter-widgets/controls",
      "model_module_version": "1.5.0",
      "model_name": "DescriptionStyleModel",
      "state": {
       "description_width": ""
      }
     },
     "a26e943b468542f78e9ce063ecee66cc": {
      "model_module": "@jupyter-widgets/controls",
      "model_module_version": "1.5.0",
      "model_name": "HTMLModel",
      "state": {
       "layout": "IPY_MODEL_d39afc7cc2ee49cda285a97af512b73e",
       "style": "IPY_MODEL_a97fcbe17c4b4525b1188f38e11c4148",
       "value": "<i>Complete the Coliseum Champion challenge.</i>"
      }
     },
     "a26f30306e9f4b80b3c471a0ae73dd52": {
      "model_module": "@jupyter-widgets/controls",
      "model_module_version": "1.5.0",
      "model_name": "IntProgressModel",
      "state": {
       "layout": "IPY_MODEL_d29517a1ade4448a964ffbe7fea8baa0",
       "style": "IPY_MODEL_919cb37644b6458fadef80d2ec337665",
       "value": 30
      }
     },
     "a2812ec1904f49c090a18f17d3535719": {
      "model_module": "@jupyter-widgets/controls",
      "model_module_version": "1.5.0",
      "model_name": "DescriptionStyleModel",
      "state": {
       "description_width": ""
      }
     },
     "a2aaeda368e84f19a342d7550d74facc": {
      "model_module": "@jupyter-widgets/controls",
      "model_module_version": "1.5.0",
      "model_name": "LabelModel",
      "state": {
       "layout": "IPY_MODEL_023c23947ed7400294ae3046609e3de4",
       "style": "IPY_MODEL_47abd935950c4de0b4ccf96e914e6aa2",
       "value": "   objective"
      }
     },
     "a2bb34a6088848fe8137346a67b9a480": {
      "model_module": "@jupyter-widgets/controls",
      "model_module_version": "1.5.0",
      "model_name": "ButtonStyleModel",
      "state": {}
     },
     "a2e769db580d4f9188a05c78fd516923": {
      "model_module": "@jupyter-widgets/controls",
      "model_module_version": "1.5.0",
      "model_name": "ButtonModel",
      "state": {
       "description": "EDIT",
       "layout": "IPY_MODEL_c04f520af0a847f99ee01e1295d931bc",
       "style": "IPY_MODEL_a1e21758de71475eba5dc5da2ff03da1"
      }
     },
     "a3190f4c5f0a46b385ac1e48b903d637": {
      "model_module": "@jupyter-widgets/controls",
      "model_module_version": "1.5.0",
      "model_name": "DescriptionStyleModel",
      "state": {
       "description_width": ""
      }
     },
     "a351df0516104ae4a8b34a999259e654": {
      "model_module": "@jupyter-widgets/controls",
      "model_module_version": "1.5.0",
      "model_name": "ButtonStyleModel",
      "state": {}
     },
     "a36154fde1e84da7827e894d0f34c180": {
      "model_module": "@jupyter-widgets/base",
      "model_module_version": "1.2.0",
      "model_name": "LayoutModel",
      "state": {
       "display": "none",
       "width": "60px"
      }
     },
     "a391f35b42244b00aa218772df8b4e27": {
      "model_module": "@jupyter-widgets/controls",
      "model_module_version": "1.5.0",
      "model_name": "DescriptionStyleModel",
      "state": {
       "description_width": ""
      }
     },
     "a452128a562e4596ba5b14b40bcb8013": {
      "model_module": "@jupyter-widgets/controls",
      "model_module_version": "1.5.0",
      "model_name": "DescriptionStyleModel",
      "state": {
       "description_width": ""
      }
     },
     "a47f5967490e4e548ef6eb2ebe904f8c": {
      "model_module": "@jupyter-widgets/controls",
      "model_module_version": "1.5.0",
      "model_name": "HBoxModel",
      "state": {
       "children": [
        "IPY_MODEL_189fff2af72845fd96808c39d7649070",
        "IPY_MODEL_bd039c58dd44400c8142dc88973f32ec",
        "IPY_MODEL_2c9bb8ad744d4b35873df5d2e26d7c55",
        "IPY_MODEL_cae9c244c57f458dbc34a249acc6f07f"
       ],
       "layout": "IPY_MODEL_8fba729215924d3ca92b5e823606a5ef"
      }
     },
     "a498a51d790e46ebbabefd86b62fcc52": {
      "model_module": "@jupyter-widgets/base",
      "model_module_version": "1.2.0",
      "model_name": "LayoutModel",
      "state": {
       "height": "32px",
       "order": "-2",
       "width": "32px"
      }
     },
     "a4c55cecb7ec43dcba4788274b08d38d": {
      "model_module": "@jupyter-widgets/controls",
      "model_module_version": "1.5.0",
      "model_name": "ButtonModel",
      "state": {
       "description": "EDIT",
       "layout": "IPY_MODEL_338e4a43282a4d9599cede20dc15966b",
       "style": "IPY_MODEL_9d8a77697f424c43a580a401fdc43f8c"
      }
     },
     "a4f890ef80de4b6797a72abc375e68d8": {
      "model_module": "@jupyter-widgets/controls",
      "model_module_version": "1.5.0",
      "model_name": "ButtonStyleModel",
      "state": {}
     },
     "a51e6f22882c4fcdad01976ebbb18e6a": {
      "model_module": "@jupyter-widgets/controls",
      "model_module_version": "1.5.0",
      "model_name": "LabelModel",
      "state": {
       "layout": "IPY_MODEL_90502449d6254933b55dc4dfbde80f99",
       "style": "IPY_MODEL_7fb3e20cf88c4a82865b1f8e3877a996",
       "value": "    Medals earned (0/1)"
      }
     },
     "a55db52969e94c11b83ec6cb62c81539": {
      "model_module": "@jupyter-widgets/controls",
      "model_module_version": "1.5.0",
      "model_name": "ButtonModel",
      "state": {
       "description": "EDIT",
       "layout": "IPY_MODEL_f8f7e5bd688148e096756a6c5c18b987",
       "style": "IPY_MODEL_5b9555c4a8ef4e1bbed785b5ff7fb2fa"
      }
     },
     "a561158240c1466f9abd4d34cba7ea0d": {
      "model_module": "@jupyter-widgets/controls",
      "model_module_version": "1.5.0",
      "model_name": "ButtonStyleModel",
      "state": {}
     },
     "a5732ee7c54445e794dfe90c72ae9ea2": {
      "model_module": "@jupyter-widgets/base",
      "model_module_version": "1.2.0",
      "model_name": "LayoutModel",
      "state": {
       "display": "none"
      }
     },
     "a57b9ce3eee546978d3196962e121b3e": {
      "model_module": "@jupyter-widgets/base",
      "model_module_version": "1.2.0",
      "model_name": "LayoutModel",
      "state": {
       "display": "none",
       "width": "60px"
      }
     },
     "a5accca2e32a46a6917853a505ff4359": {
      "model_module": "@jupyter-widgets/base",
      "model_module_version": "1.2.0",
      "model_name": "LayoutModel",
      "state": {
       "height": "32px",
       "order": "-2",
       "width": "32px"
      }
     },
     "a5b610de0d6e45e79f74ab7e364bd626": {
      "model_module": "@jupyter-widgets/base",
      "model_module_version": "1.2.0",
      "model_name": "LayoutModel",
      "state": {
       "height": "32px",
       "order": "-2",
       "width": "32px"
      }
     },
     "a5f909baaa29462498056daf816e622f": {
      "model_module": "@jupyter-widgets/controls",
      "model_module_version": "1.5.0",
      "model_name": "LabelModel",
      "state": {
       "layout": "IPY_MODEL_fdc4f463d3e44ca0969eb7bb68ffbfd0",
       "style": "IPY_MODEL_105c190fbb204789a9d72d556ea10536",
       "value": "   objective"
      }
     },
     "a614d1597bfe4c4796b8387565986142": {
      "model_module": "@jupyter-widgets/base",
      "model_module_version": "1.2.0",
      "model_name": "LayoutModel",
      "state": {
       "height": "32px",
       "overflow": "visible",
       "width": "100%"
      }
     },
     "a62a26b79a3642a488a1702f9d02b9a5": {
      "model_module": "@jupyter-widgets/controls",
      "model_module_version": "1.5.0",
      "model_name": "ButtonStyleModel",
      "state": {}
     },
     "a642770af2fc4f80bb573a9453e3c952": {
      "model_module": "@jupyter-widgets/controls",
      "model_module_version": "1.5.0",
      "model_name": "IntProgressModel",
      "state": {
       "layout": "IPY_MODEL_41e4d2ab11724e59b79de9898e2c4611",
       "max": 500,
       "style": "IPY_MODEL_4ad8173583c041a2accfeff840092ae0",
       "value": 177
      }
     },
     "a6437d5bc4844246aef625824e199aed": {
      "model_module": "@jupyter-widgets/base",
      "model_module_version": "1.2.0",
      "model_name": "LayoutModel",
      "state": {
       "order": "-1",
       "overflow": "visible",
       "padding": "1px",
       "width": "0px"
      }
     },
     "a6a25c0e75224cbd887339f56ff625b0": {
      "model_module": "@jupyter-widgets/base",
      "model_module_version": "1.2.0",
      "model_name": "LayoutModel",
      "state": {
       "display": "none",
       "width": "60px"
      }
     },
     "a6db15a66ff6435aa5a611dc05268ffa": {
      "model_module": "@jupyter-widgets/controls",
      "model_module_version": "1.5.0",
      "model_name": "HTMLModel",
      "state": {
       "layout": "IPY_MODEL_33874aecdd404924a5887dd739929c94",
       "style": "IPY_MODEL_0ea45194720640cb820d7c378884cb77",
       "value": "<b>Class Requirements</b>"
      }
     },
     "a7113629f1a044ff99b9b251fa1d88e0": {
      "model_module": "@jupyter-widgets/controls",
      "model_module_version": "1.5.0",
      "model_name": "ButtonStyleModel",
      "state": {}
     },
     "a71d042bd08a45efa9ee884f884dea7e": {
      "model_module": "@jupyter-widgets/controls",
      "model_module_version": "1.5.0",
      "model_name": "DescriptionStyleModel",
      "state": {
       "description_width": ""
      }
     },
     "a73c8000a99342adb826959a7aead4fe": {
      "model_module": "@jupyter-widgets/controls",
      "model_module_version": "1.5.0",
      "model_name": "ButtonStyleModel",
      "state": {}
     },
     "a742923954e446ecbb5ead77c7c4900e": {
      "model_module": "@jupyter-widgets/controls",
      "model_module_version": "1.5.0",
      "model_name": "HTMLModel",
      "state": {
       "layout": "IPY_MODEL_b72482f6912b42a88442ee6a875ee1f9",
       "style": "IPY_MODEL_7a57e31ba187440ca5cc3e58471f1bc6",
       "value": "<font size=\"5\"><b>Budding Fashion</b></font size=>"
      }
     },
     "a748728f1f7d46fcad6a832cad29eccd": {
      "model_module": "@jupyter-widgets/controls",
      "model_module_version": "1.5.0",
      "model_name": "DescriptionStyleModel",
      "state": {
       "description_width": ""
      }
     },
     "a752fd83f6464c50b251ab6f3f56f57c": {
      "model_module": "@jupyter-widgets/controls",
      "model_module_version": "1.5.0",
      "model_name": "ButtonModel",
      "state": {
       "description": "EDIT",
       "layout": "IPY_MODEL_99fff606b3674b1e85f4127b1894e572",
       "style": "IPY_MODEL_f70b38e505d8499f830dbb7d2a61d4b3"
      }
     },
     "a772ac3b50b14ff49fc0dbda5d8c0b90": {
      "model_module": "@jupyter-widgets/controls",
      "model_module_version": "1.5.0",
      "model_name": "BoxModel",
      "state": {
       "layout": "IPY_MODEL_172944073015426eba72fe8a396b47f4"
      }
     },
     "a78c392e1dfa4c639d9aaeaa8de5da27": {
      "model_module": "@jupyter-widgets/controls",
      "model_module_version": "1.5.0",
      "model_name": "DescriptionStyleModel",
      "state": {
       "description_width": ""
      }
     },
     "a78f41e1baed4218801d921b7dca64f1": {
      "model_module": "@jupyter-widgets/base",
      "model_module_version": "1.2.0",
      "model_name": "LayoutModel",
      "state": {
       "display": "none",
       "width": "60px"
      }
     },
     "a79aa83a23c840cf99c7c8ca859d732d": {
      "model_module": "@jupyter-widgets/controls",
      "model_module_version": "1.5.0",
      "model_name": "DescriptionStyleModel",
      "state": {
       "description_width": ""
      }
     },
     "a7c4453abe1a446d91ff6bb858f85c64": {
      "model_module": "@jupyter-widgets/controls",
      "model_module_version": "1.5.0",
      "model_name": "ButtonModel",
      "state": {
       "layout": "IPY_MODEL_bf6847c945a349c89b4f288f89b33897",
       "style": "IPY_MODEL_161cd5460bf940c688eaa2bc054d66cb"
      }
     },
     "a7f32e09a47c43468a4b26746438b484": {
      "model_module": "@jupyter-widgets/base",
      "model_module_version": "1.2.0",
      "model_name": "LayoutModel",
      "state": {
       "height": "32px",
       "overflow": "visible",
       "width": "100%"
      }
     },
     "a82452e95bb146b89559b25bf4e88631": {
      "model_module": "@jupyter-widgets/controls",
      "model_module_version": "1.5.0",
      "model_name": "ButtonStyleModel",
      "state": {}
     },
     "a82987a593674c42a009e624902f6ef6": {
      "model_module": "@jupyter-widgets/controls",
      "model_module_version": "1.5.0",
      "model_name": "LabelModel",
      "state": {
       "layout": "IPY_MODEL_145bb541ae974705bc04bbffb4892508",
       "style": "IPY_MODEL_d3136a5e272f4589a89ddf23be9b420b",
       "value": "     (0/1)"
      }
     },
     "a835a07cfc024ee09f04521bec4bc4a7": {
      "model_module": "@jupyter-widgets/base",
      "model_module_version": "1.2.0",
      "model_name": "LayoutModel",
      "state": {
       "display": "none"
      }
     },
     "a84fdeb035704bea987ad8f021c8106c": {
      "model_module": "@jupyter-widgets/controls",
      "model_module_version": "1.5.0",
      "model_name": "HTMLModel",
      "state": {
       "layout": "IPY_MODEL_23e85f3c951a4a3cbbf1936dfd3ce3e4",
       "style": "IPY_MODEL_8c7b1323bd354111b1d5033152182932",
       "value": "<i></i>"
      }
     },
     "a8747aaf71024af18461eabd2d0868e8": {
      "model_module": "@jupyter-widgets/controls",
      "model_module_version": "1.5.0",
      "model_name": "ButtonModel",
      "state": {
       "layout": "IPY_MODEL_9b93b886043a4688b5960a75b16e1f92",
       "style": "IPY_MODEL_5222a3dd3a8c4b2486826f52b70abfdb"
      }
     },
     "a88f8d51f1c2453eadbe3c93d07a7fb4": {
      "model_module": "@jupyter-widgets/controls",
      "model_module_version": "1.5.0",
      "model_name": "ButtonStyleModel",
      "state": {}
     },
     "a899789ad9ec4524bcd1786e05e0d372": {
      "model_module": "@jupyter-widgets/controls",
      "model_module_version": "1.5.0",
      "model_name": "LabelModel",
      "state": {
       "layout": "IPY_MODEL_6ecc816b90d642c4ab6d4d484d0621a7",
       "style": "IPY_MODEL_cc0c4b0ff81d47acb8b2ef11707fc249",
       "value": "Tree:"
      }
     },
     "a89a79db379a489bad7dadaf80d2790b": {
      "model_module": "@jupyter-widgets/controls",
      "model_module_version": "1.5.0",
      "model_name": "ButtonModel",
      "state": {
       "layout": "IPY_MODEL_28e30c0f89ba440ca2752105392d6952",
       "style": "IPY_MODEL_51d46a0b13e040aca64bcd755533132f"
      }
     },
     "a8d155a3c5904d08bdb19cef354c1dc2": {
      "model_module": "@jupyter-widgets/controls",
      "model_module_version": "1.5.0",
      "model_name": "ProgressStyleModel",
      "state": {
       "description_width": ""
      }
     },
     "a8d5708a1dc6496c8e5eb24e2e2ac3dd": {
      "model_module": "@jupyter-widgets/controls",
      "model_module_version": "1.5.0",
      "model_name": "LabelModel",
      "state": {
       "layout": "IPY_MODEL_e1e8e8eb03244c47bb9258df5169f577",
       "style": "IPY_MODEL_2c090cebe5c7429d83e082581bdba225",
       "value": "   objective"
      }
     },
     "a901fa81de9244a3ab02025f7863ad36": {
      "model_module": "@jupyter-widgets/controls",
      "model_module_version": "1.5.0",
      "model_name": "ButtonStyleModel",
      "state": {}
     },
     "a927bd0354414cf2966520e34c8454a9": {
      "model_module": "@jupyter-widgets/controls",
      "model_module_version": "1.5.0",
      "model_name": "ButtonModel",
      "state": {
       "description": "EDIT",
       "layout": "IPY_MODEL_fcbd393f8fad4b868c54d7f303328240",
       "style": "IPY_MODEL_f6e9662691ad44d182b946c4363f2179"
      }
     },
     "a942835c37f84294a5efd7b4bcbcf2d4": {
      "model_module": "@jupyter-widgets/controls",
      "model_module_version": "1.5.0",
      "model_name": "ButtonModel",
      "state": {
       "description": "EDIT",
       "layout": "IPY_MODEL_d69d5a424b984860ac6e799f569374b4",
       "style": "IPY_MODEL_eea505b60a2b4b38a736ba1f530b03bd"
      }
     },
     "a971416ee7aa463d8c738bf3dacac1df": {
      "model_module": "@jupyter-widgets/base",
      "model_module_version": "1.2.0",
      "model_name": "LayoutModel",
      "state": {
       "height": "32px",
       "order": "-2",
       "width": "32px"
      }
     },
     "a97d2e30f01f46bc831cf88608f8b7ba": {
      "model_module": "@jupyter-widgets/controls",
      "model_module_version": "1.5.0",
      "model_name": "DescriptionStyleModel",
      "state": {
       "description_width": ""
      }
     },
     "a97fcbe17c4b4525b1188f38e11c4148": {
      "model_module": "@jupyter-widgets/controls",
      "model_module_version": "1.5.0",
      "model_name": "DescriptionStyleModel",
      "state": {
       "description_width": ""
      }
     },
     "a99be376eae34e5eb7f7748fa14bc402": {
      "model_module": "@jupyter-widgets/base",
      "model_module_version": "1.2.0",
      "model_name": "LayoutModel",
      "state": {
       "height": "32px",
       "order": "-2",
       "width": "32px"
      }
     },
     "a9aa3318b8674f79ad1086549ce6d07e": {
      "model_module": "@jupyter-widgets/controls",
      "model_module_version": "1.5.0",
      "model_name": "DescriptionStyleModel",
      "state": {
       "description_width": ""
      }
     },
     "a9b2c068841d45afa1d34d20e73f7147": {
      "model_module": "@jupyter-widgets/controls",
      "model_module_version": "1.5.0",
      "model_name": "ButtonModel",
      "state": {
       "button_style": "success",
       "description": "EDIT",
       "layout": "IPY_MODEL_1570ea62f59c475c957f3b0c7f05d193",
       "style": "IPY_MODEL_155601422de94204b384f9a1301f8975"
      }
     },
     "a9b4d0e79e2f404aa1191fa33ff4d2bc": {
      "model_module": "@jupyter-widgets/base",
      "model_module_version": "1.2.0",
      "model_name": "LayoutModel",
      "state": {
       "display": "none",
       "width": "60px"
      }
     },
     "a9d6d77dec2b4b699af0b9c88512d721": {
      "model_module": "@jupyter-widgets/base",
      "model_module_version": "1.2.0",
      "model_name": "LayoutModel",
      "state": {
       "display": "none",
       "width": "95%"
      }
     },
     "aa34b770ee1b4def87bce97f37df804b": {
      "model_module": "@jupyter-widgets/controls",
      "model_module_version": "1.5.0",
      "model_name": "DescriptionStyleModel",
      "state": {
       "description_width": ""
      }
     },
     "aa3c438c96c14f7c8ae4a6b681a5f165": {
      "model_module": "@jupyter-widgets/controls",
      "model_module_version": "1.5.0",
      "model_name": "IntProgressModel",
      "state": {
       "layout": "IPY_MODEL_72821f7b357242968353621441945c67",
       "style": "IPY_MODEL_f9312e54f1c84761a7de3fd24719ab4b",
       "value": 30
      }
     },
     "aa5b3028a92c40d38d2adb49291bfb36": {
      "model_module": "@jupyter-widgets/base",
      "model_module_version": "1.2.0",
      "model_name": "LayoutModel",
      "state": {
       "overflow": "visible",
       "width": "100%"
      }
     },
     "aa5db768f9b947e4a9a1f39810247ff3": {
      "model_module": "@jupyter-widgets/base",
      "model_module_version": "1.2.0",
      "model_name": "LayoutModel",
      "state": {
       "display": "flex"
      }
     },
     "aa64a80332df47618077e12b94f6c24b": {
      "model_module": "@jupyter-widgets/base",
      "model_module_version": "1.2.0",
      "model_name": "LayoutModel",
      "state": {}
     },
     "aa781ba9d4104fc391d0fc254a140e88": {
      "model_module": "@jupyter-widgets/controls",
      "model_module_version": "1.5.0",
      "model_name": "HBoxModel",
      "state": {
       "children": [
        "IPY_MODEL_60df9aaefd554a47a0ff78488010f895",
        "IPY_MODEL_25b852f390ae481f92c4055b1178cdd8",
        "IPY_MODEL_ce86beaecef74c5c9c602183aec76904",
        "IPY_MODEL_74824f19556148f780e8dd77d2993882"
       ],
       "layout": "IPY_MODEL_360e8d2e6ad24f41bfe666563c6750c5"
      }
     },
     "aa7a6914946c49429944aac51b98ac28": {
      "model_module": "@jupyter-widgets/controls",
      "model_module_version": "1.5.0",
      "model_name": "DropdownModel",
      "state": {
       "_options_labels": [
        "Any",
        "Titan",
        "Hunter",
        "Warlock"
       ],
       "index": 0,
       "layout": "IPY_MODEL_dfd5c6303e934458b6257be1b14f92ef",
       "style": "IPY_MODEL_1c8adecd648b4d118ace6f43dd02889a"
      }
     },
     "aa8242589363470caa4c8eb22ccac2d6": {
      "model_module": "@jupyter-widgets/controls",
      "model_module_version": "1.5.0",
      "model_name": "ButtonStyleModel",
      "state": {}
     },
     "aa85ccea4a0f409c9e8be7b096e5a8c7": {
      "model_module": "@jupyter-widgets/controls",
      "model_module_version": "1.5.0",
      "model_name": "ButtonModel",
      "state": {
       "description": "EDIT",
       "layout": "IPY_MODEL_c0d52c5da4ea498f8106a9676d953175",
       "style": "IPY_MODEL_fa44bf5138b64de7aaa8843eb938f80c"
      }
     },
     "aac6ee9c32da43018c20e480cbf83d8d": {
      "model_module": "@jupyter-widgets/base",
      "model_module_version": "1.2.0",
      "model_name": "LayoutModel",
      "state": {
       "display": "none",
       "width": "60px"
      }
     },
     "aad6802b7448492bbd3c9718e5d57057": {
      "model_module": "@jupyter-widgets/base",
      "model_module_version": "1.2.0",
      "model_name": "LayoutModel",
      "state": {}
     },
     "ab03b25ada7447aa958a7e4d8f9bf2a7": {
      "model_module": "@jupyter-widgets/controls",
      "model_module_version": "1.5.0",
      "model_name": "IntProgressModel",
      "state": {
       "layout": "IPY_MODEL_8ba80004b8a44805942182d04924ef9b",
       "style": "IPY_MODEL_81693d984ef0413f9f0abd5f5afdcf2f",
       "value": 30
      }
     },
     "ab06df5f249a4559b0be7295390af7a7": {
      "model_module": "@jupyter-widgets/base",
      "model_module_version": "1.2.0",
      "model_name": "LayoutModel",
      "state": {
       "display": "none",
       "width": "60px"
      }
     },
     "ab14e98f04a740c5a62d25c9922618d6": {
      "model_module": "@jupyter-widgets/controls",
      "model_module_version": "1.5.0",
      "model_name": "ButtonStyleModel",
      "state": {}
     },
     "ab3dc30316cd40078f63391534898cc6": {
      "model_module": "@jupyter-widgets/base",
      "model_module_version": "1.2.0",
      "model_name": "LayoutModel",
      "state": {
       "display": "none",
       "width": "60px"
      }
     },
     "ab4706d5a89c4808be9c1e5dc7cb70a5": {
      "model_module": "@jupyter-widgets/controls",
      "model_module_version": "1.5.0",
      "model_name": "IntProgressModel",
      "state": {
       "layout": "IPY_MODEL_870bda03bc1349f08b187250ac2fbc6e",
       "max": 20,
       "style": "IPY_MODEL_df2136acb2f74c52ba6a18c072f05c83"
      }
     },
     "ab9466fb6117480ea47f37a7140ec15d": {
      "model_module": "@jupyter-widgets/base",
      "model_module_version": "1.2.0",
      "model_name": "LayoutModel",
      "state": {}
     },
     "ab9542df199247a6beb76f1cd1a57d7f": {
      "model_module": "@jupyter-widgets/controls",
      "model_module_version": "1.5.0",
      "model_name": "ButtonStyleModel",
      "state": {}
     },
     "abc642fc41e440bb9a87d0fa92a89159": {
      "model_module": "@jupyter-widgets/controls",
      "model_module_version": "1.5.0",
      "model_name": "IntProgressModel",
      "state": {
       "layout": "IPY_MODEL_7baad8aebc4d47818bcb06a43bb4e78a",
       "style": "IPY_MODEL_9173f0eb97284ee290158e429898d4b0",
       "value": 30
      }
     },
     "abd57d9a107c4a7b9ae844c283897cc0": {
      "model_module": "@jupyter-widgets/controls",
      "model_module_version": "1.5.0",
      "model_name": "DescriptionStyleModel",
      "state": {
       "description_width": ""
      }
     },
     "abed37b117a4484eaec473330f6f2cca": {
      "model_module": "@jupyter-widgets/base",
      "model_module_version": "1.2.0",
      "model_name": "LayoutModel",
      "state": {
       "display": "none"
      }
     },
     "ac19547337414ce698fb7b2a381ab587": {
      "model_module": "@jupyter-widgets/controls",
      "model_module_version": "1.5.0",
      "model_name": "DropdownModel",
      "state": {
       "_options_labels": [
        "All"
       ],
       "index": 0,
       "layout": "IPY_MODEL_26aea6f09a67478eacd19ba3f3ca2284",
       "style": "IPY_MODEL_3348dd41948e4494ab07324dbc42a114"
      }
     },
     "ac2efad7e471445fa261d0ea3082f95f": {
      "model_module": "@jupyter-widgets/controls",
      "model_module_version": "1.5.0",
      "model_name": "ButtonStyleModel",
      "state": {}
     },
     "ac5b3214b26c48caa5e6fad5ea85a99e": {
      "model_module": "@jupyter-widgets/base",
      "model_module_version": "1.2.0",
      "model_name": "LayoutModel",
      "state": {
       "display": "none",
       "width": "60px"
      }
     },
     "acf85f755c4d465c9335c5c2c37ec713": {
      "model_module": "@jupyter-widgets/controls",
      "model_module_version": "1.5.0",
      "model_name": "LabelModel",
      "state": {
       "layout": "IPY_MODEL_6d346cf1fb1a438e972078719087b594",
       "style": "IPY_MODEL_a17e5628003040a39bdae60bd81768f4",
       "value": "   objective"
      }
     },
     "ad00bacf08d149ac83e45c25bcf1f7bc": {
      "model_module": "@jupyter-widgets/controls",
      "model_module_version": "1.5.0",
      "model_name": "IntProgressModel",
      "state": {
       "layout": "IPY_MODEL_b21f6774d5b84886b19cce8bb2fd190a",
       "max": 1,
       "style": "IPY_MODEL_f55a0c1a391049619edb81d16a4445f4"
      }
     },
     "ad27ca8fca5a40769f64112abf5c9275": {
      "model_module": "@jupyter-widgets/controls",
      "model_module_version": "1.5.0",
      "model_name": "ButtonStyleModel",
      "state": {}
     },
     "ad5d37d02d634e3aad4fb53b360eaab9": {
      "model_module": "@jupyter-widgets/controls",
      "model_module_version": "1.5.0",
      "model_name": "LabelModel",
      "state": {
       "layout": "IPY_MODEL_60e7b19153944663af02e08f06a293e4",
       "style": "IPY_MODEL_1a8dff04a9944237954ac4a5e53c6249",
       "value": "     (0/1)"
      }
     },
     "ad75ef000ce7494990a19ee4b98049e0": {
      "model_module": "@jupyter-widgets/base",
      "model_module_version": "1.2.0",
      "model_name": "LayoutModel",
      "state": {
       "order": "-1",
       "overflow": "visible",
       "padding": "1px",
       "width": "0px"
      }
     },
     "ad823225104a4d87b39bdc32c19e2531": {
      "model_module": "@jupyter-widgets/controls",
      "model_module_version": "1.5.0",
      "model_name": "HTMLModel",
      "state": {
       "layout": "IPY_MODEL_02577d0d2a1a48889340994b5afe1649",
       "style": "IPY_MODEL_8f23eeee8030457494bf1fc21bfa962c",
       "value": "<font size=\"1\">Triumphs/Crucible/Lifetime/Valor Ranks/Season 6: Valor</font size=>"
      }
     },
     "adb12287bcef4a0eba3bec5563d531a8": {
      "model_module": "@jupyter-widgets/controls",
      "model_module_version": "1.5.0",
      "model_name": "DescriptionStyleModel",
      "state": {
       "description_width": ""
      }
     },
     "adbbc7b5f4e146b3a55e91f7d5edf29a": {
      "model_module": "@jupyter-widgets/base",
      "model_module_version": "1.2.0",
      "model_name": "LayoutModel",
      "state": {
       "display": "none",
       "width": "60px"
      }
     },
     "ae769b4a20ce483b9b24b348da911c05": {
      "model_module": "@jupyter-widgets/base",
      "model_module_version": "1.2.0",
      "model_name": "LayoutModel",
      "state": {}
     },
     "ae86aa1239d54e2686d10e0b8de4af4a": {
      "model_module": "@jupyter-widgets/base",
      "model_module_version": "1.2.0",
      "model_name": "LayoutModel",
      "state": {
       "height": "32px",
       "order": "-2",
       "width": "32px"
      }
     },
     "ae93efcb17b14780abcf151c4e51b1c2": {
      "model_module": "@jupyter-widgets/base",
      "model_module_version": "1.2.0",
      "model_name": "LayoutModel",
      "state": {
       "height": "32px",
       "order": "-2",
       "width": "32px"
      }
     },
     "aeabd65b6d444ccdb1ca30ca9fd30ca3": {
      "model_module": "@jupyter-widgets/base",
      "model_module_version": "1.2.0",
      "model_name": "LayoutModel",
      "state": {
       "display": "none",
       "width": "60px"
      }
     },
     "aecb1f195cbc481ca346bc1238ef50b9": {
      "model_module": "@jupyter-widgets/base",
      "model_module_version": "1.2.0",
      "model_name": "LayoutModel",
      "state": {
       "display": "none",
       "width": "60px"
      }
     },
     "aefc89a9301b435d9877b0cd341c2c2a": {
      "model_module": "@jupyter-widgets/controls",
      "model_module_version": "1.5.0",
      "model_name": "VBoxModel",
      "state": {
       "children": [
        "IPY_MODEL_37f84743d3b94a33930bdf59dcfb7ec9",
        "IPY_MODEL_8a5a52250e8b4646a5954660541a4029",
        "IPY_MODEL_d7067c6487fe4dc5889e9705a2190ed2",
        "IPY_MODEL_a1045ec92597468a9cc0e398d61e37f6",
        "IPY_MODEL_1d0aabee5aa84034815c695d02acb74d",
        "IPY_MODEL_62ebbd8c1d6f4ccab698a3dc3a073ac3"
       ],
       "layout": "IPY_MODEL_cd4c8f374d324bd9bcdc7e8f8ae65652"
      }
     },
     "af663994d54d490aae92d9cdae0094c5": {
      "model_module": "@jupyter-widgets/controls",
      "model_module_version": "1.5.0",
      "model_name": "DescriptionStyleModel",
      "state": {
       "description_width": ""
      }
     },
     "af6f71ca3fe24f15ac0fc47219752c73": {
      "model_module": "@jupyter-widgets/base",
      "model_module_version": "1.2.0",
      "model_name": "LayoutModel",
      "state": {
       "overflow": "visible",
       "width": "100%"
      }
     },
     "afaf457ca1cf4d7a959685e66d838187": {
      "model_module": "@jupyter-widgets/controls",
      "model_module_version": "1.5.0",
      "model_name": "ButtonStyleModel",
      "state": {}
     },
     "afc5e3f1ebe74fae9310dff9541835d4": {
      "model_module": "@jupyter-widgets/base",
      "model_module_version": "1.2.0",
      "model_name": "LayoutModel",
      "state": {
       "display": "none",
       "width": "60px"
      }
     },
     "afdf40289fa241019bc4c2103192bf2c": {
      "model_module": "@jupyter-widgets/controls",
      "model_module_version": "1.5.0",
      "model_name": "DescriptionStyleModel",
      "state": {
       "description_width": ""
      }
     },
     "b00c338bae8b49bf827b4f35b9ab4ccb": {
      "model_module": "@jupyter-widgets/base",
      "model_module_version": "1.2.0",
      "model_name": "LayoutModel",
      "state": {
       "height": "32px",
       "order": "-2",
       "width": "32px"
      }
     },
     "b01024c1bc77460fa9c8683363a43f66": {
      "model_module": "@jupyter-widgets/controls",
      "model_module_version": "1.5.0",
      "model_name": "DescriptionStyleModel",
      "state": {
       "description_width": ""
      }
     },
     "b0238414f95744eda1228357bf910547": {
      "model_module": "@jupyter-widgets/controls",
      "model_module_version": "1.5.0",
      "model_name": "IntProgressModel",
      "state": {
       "layout": "IPY_MODEL_e2685460d7854a019ef4447cd391bf0e",
       "style": "IPY_MODEL_ed6e76aeabf74da7bb26016ce13099f1",
       "value": 30
      }
     },
     "b02632e93c9b40cdb944ffeb9868e0e5": {
      "model_module": "@jupyter-widgets/controls",
      "model_module_version": "1.5.0",
      "model_name": "ButtonStyleModel",
      "state": {}
     },
     "b0332233ebf54391ba19e743fcce23a5": {
      "model_module": "@jupyter-widgets/base",
      "model_module_version": "1.2.0",
      "model_name": "LayoutModel",
      "state": {
       "height": "32px",
       "overflow": "visible",
       "width": "100%"
      }
     },
     "b0352f6f5f344ae89b6932b0c8f34270": {
      "model_module": "@jupyter-widgets/controls",
      "model_module_version": "1.5.0",
      "model_name": "IntProgressModel",
      "state": {
       "layout": "IPY_MODEL_67cae642277a4dd48070fd2032ed97bc",
       "style": "IPY_MODEL_00510ce857f84a35bd0b76205577e9c7",
       "value": 30
      }
     },
     "b036ed6c465941f38794ffc87a129cae": {
      "model_module": "@jupyter-widgets/controls",
      "model_module_version": "1.5.0",
      "model_name": "HBoxModel",
      "state": {
       "children": [
        "IPY_MODEL_6bfde74c36c245a180d503619577f44c",
        "IPY_MODEL_ad00bacf08d149ac83e45c25bcf1f7bc",
        "IPY_MODEL_08e1c60747a04ad4a069d9c78f2cdae6",
        "IPY_MODEL_9f1b829f394d444e8b2473882b785068"
       ],
       "layout": "IPY_MODEL_8d6666e4a0834cdfbafc7b28acca32af"
      }
     },
     "b03db7746ae5421fb9d450c484001c18": {
      "model_module": "@jupyter-widgets/base",
      "model_module_version": "1.2.0",
      "model_name": "LayoutModel",
      "state": {}
     },
     "b07be576feb842ff99aa5ef5ba59e265": {
      "model_module": "@jupyter-widgets/controls",
      "model_module_version": "1.5.0",
      "model_name": "HTMLModel",
      "state": {
       "layout": "IPY_MODEL_25994e8a967748cfbe6c39578c355068",
       "style": "IPY_MODEL_b84137a6ca784b158a222975ebba5bb0",
       "value": "<font size=\"1\">Triumphs/Lore/Dusk and Dawn/Revelation/Time Lapse</font size=>"
      }
     },
     "b085b584da4e4719b9ba005a92d6dd47": {
      "model_module": "@jupyter-widgets/controls",
      "model_module_version": "1.5.0",
      "model_name": "DescriptionStyleModel",
      "state": {
       "description_width": ""
      }
     },
     "b09173c46215465bbaac753d13632c62": {
      "model_module": "@jupyter-widgets/controls",
      "model_module_version": "1.5.0",
      "model_name": "IntProgressModel",
      "state": {
       "layout": "IPY_MODEL_5f340c630ebe4f4bb9ddef518ef40e63",
       "style": "IPY_MODEL_89904adc280a45c5913a0ff25f262101",
       "value": 30
      }
     },
     "b0ea74d3f775448aaafea48a335129e8": {
      "model_module": "@jupyter-widgets/base",
      "model_module_version": "1.2.0",
      "model_name": "LayoutModel",
      "state": {
       "height": "32px",
       "overflow": "visible",
       "width": "100%"
      }
     },
     "b0ee704adf0a425e8103eedc9b575bbc": {
      "model_module": "@jupyter-widgets/controls",
      "model_module_version": "1.5.0",
      "model_name": "LabelModel",
      "state": {
       "layout": "IPY_MODEL_1461a8a4a7d04a3d803defa55740c19b",
       "style": "IPY_MODEL_81326cf3ea304fdd94d8891afa011bda",
       "value": "   objective"
      }
     },
     "b10513e7cb0642619093d74f7d2f1411": {
      "model_module": "@jupyter-widgets/controls",
      "model_module_version": "1.5.0",
      "model_name": "IntProgressModel",
      "state": {
       "layout": "IPY_MODEL_5f8a84a711544c5ab3ca870c9cdc1870",
       "style": "IPY_MODEL_c2eea2c5fd62488c83d52c8f171185ca",
       "value": 30
      }
     },
     "b11892ceff3749ae8583551406091cb1": {
      "model_module": "@jupyter-widgets/controls",
      "model_module_version": "1.5.0",
      "model_name": "ButtonStyleModel",
      "state": {}
     },
     "b139faa4f95b4376977d8aec5c773958": {
      "model_module": "@jupyter-widgets/controls",
      "model_module_version": "1.5.0",
      "model_name": "LabelModel",
      "state": {
       "layout": "IPY_MODEL_cc481ca59f0e4a37acb1841d7dd1d00b",
       "style": "IPY_MODEL_0b75237724404bb096e5a0938f4a2504",
       "value": "     (0/1)"
      }
     },
     "b14c48a277a04f2aa45d86da048217ff": {
      "model_module": "@jupyter-widgets/controls",
      "model_module_version": "1.5.0",
      "model_name": "DescriptionStyleModel",
      "state": {
       "description_width": ""
      }
     },
     "b18e5597bd984d76a3aab3fc8f197f90": {
      "model_module": "@jupyter-widgets/controls",
      "model_module_version": "1.5.0",
      "model_name": "LabelModel",
      "state": {
       "layout": "IPY_MODEL_c1be0ea5e289410a8fcb9743adb11ed5",
       "style": "IPY_MODEL_754b192ff15d469d9beaf2bf4dfbf17d",
       "value": "Class:"
      }
     },
     "b1af9a8597e6466b93d9237528f77391": {
      "model_module": "@jupyter-widgets/controls",
      "model_module_version": "1.5.0",
      "model_name": "ButtonStyleModel",
      "state": {}
     },
     "b203022492b848558330ab8b86f7383f": {
      "model_module": "@jupyter-widgets/controls",
      "model_module_version": "1.5.0",
      "model_name": "ButtonStyleModel",
      "state": {}
     },
     "b20869cdc20842a7a2b0c9f87063b83c": {
      "model_module": "@jupyter-widgets/base",
      "model_module_version": "1.2.0",
      "model_name": "LayoutModel",
      "state": {
       "display": "flex"
      }
     },
     "b20ff29166d74db4b0bce08434f1db0f": {
      "model_module": "@jupyter-widgets/base",
      "model_module_version": "1.2.0",
      "model_name": "LayoutModel",
      "state": {
       "order": "-1",
       "overflow": "visible",
       "padding": "1px",
       "width": "0px"
      }
     },
     "b21f6774d5b84886b19cce8bb2fd190a": {
      "model_module": "@jupyter-widgets/base",
      "model_module_version": "1.2.0",
      "model_name": "LayoutModel",
      "state": {
       "height": "32px",
       "overflow": "visible",
       "width": "100%"
      }
     },
     "b2aa735b5a804070a4dd9b37bcaf944b": {
      "model_module": "@jupyter-widgets/controls",
      "model_module_version": "1.5.0",
      "model_name": "LabelModel",
      "state": {
       "layout": "IPY_MODEL_bd4cbdb7ca1c4d90917694dc4dc1ae1e",
       "style": "IPY_MODEL_f8a29f92c6bb48a7b21f1c44ee17c736",
       "value": "    Bosses defeated (0/20)"
      }
     },
     "b2ea4c4b0b1b4778bf73c4fb0ca59466": {
      "model_module": "@jupyter-widgets/controls",
      "model_module_version": "1.5.0",
      "model_name": "ButtonModel",
      "state": {
       "layout": "IPY_MODEL_7c9e0a5d0f9c460d9e9c1f405bf1b85e",
       "style": "IPY_MODEL_89367b9e51a14a338b61b7adf0b05c8e"
      }
     },
     "b336a9d612c94e09ba23ca208f8c684d": {
      "model_module": "@jupyter-widgets/base",
      "model_module_version": "1.2.0",
      "model_name": "LayoutModel",
      "state": {
       "display": "none"
      }
     },
     "b350e4c2b20b401281e5b4bf823100a9": {
      "model_module": "@jupyter-widgets/controls",
      "model_module_version": "1.5.0",
      "model_name": "LabelModel",
      "state": {
       "layout": "IPY_MODEL_e02fb4221c9d4ebe9feaecfdcbb81c73",
       "style": "IPY_MODEL_6e230aba56a445e185b698b3a4a6b409",
       "value": "    [Bow][Headshot] Precision (89/25)"
      }
     },
     "b3548f85e5ee4c69b3ea56fbbc9cbe66": {
      "model_module": "@jupyter-widgets/controls",
      "model_module_version": "1.5.0",
      "model_name": "ButtonStyleModel",
      "state": {}
     },
     "b35f828055e14f45bbb890046f01519e": {
      "model_module": "@jupyter-widgets/controls",
      "model_module_version": "1.5.0",
      "model_name": "IntProgressModel",
      "state": {
       "layout": "IPY_MODEL_beb6494a43b94c6fb52b2a13fcdb7657",
       "style": "IPY_MODEL_516e5216232c4798b3f53f69f3aa8433",
       "value": 30
      }
     },
     "b363272ee77849428ad9775d9b1780cf": {
      "model_module": "@jupyter-widgets/base",
      "model_module_version": "1.2.0",
      "model_name": "LayoutModel",
      "state": {
       "height": "32px",
       "order": "-2",
       "width": "32px"
      }
     },
     "b386404468f441bd87cb8c07f278c684": {
      "model_module": "@jupyter-widgets/controls",
      "model_module_version": "1.5.0",
      "model_name": "ButtonStyleModel",
      "state": {}
     },
     "b38879b25be442bea0cc44fbc0b57d9e": {
      "model_module": "@jupyter-widgets/controls",
      "model_module_version": "1.5.0",
      "model_name": "DescriptionStyleModel",
      "state": {
       "description_width": ""
      }
     },
     "b426a9770f164224b40ef1bf8c6cc9b0": {
      "model_module": "@jupyter-widgets/controls",
      "model_module_version": "1.5.0",
      "model_name": "VBoxModel",
      "state": {
       "children": [
        "IPY_MODEL_b036ed6c465941f38794ffc87a129cae",
        "IPY_MODEL_6f002ab2bf544b6f9843d9d956c977af",
        "IPY_MODEL_c0854b5c9ffa4f6984424101732545d7",
        "IPY_MODEL_4d9baaa1df1d47a0ac94af3f90154f1f",
        "IPY_MODEL_9d3350ed254a41009bc5fc3702bc366d",
        "IPY_MODEL_673645f0e67944ec8454c05d5d866b49"
       ],
       "layout": "IPY_MODEL_4813f1ccbe5548debc706cdb4e3f2a90"
      }
     },
     "b44a3d2db53a49b68881366bb9fe6c16": {
      "model_module": "@jupyter-widgets/base",
      "model_module_version": "1.2.0",
      "model_name": "LayoutModel",
      "state": {
       "order": "-1",
       "overflow": "visible",
       "padding": "1px",
       "width": "0px"
      }
     },
     "b45cdaf6a1914d25bc5a4242a184b6fc": {
      "model_module": "@jupyter-widgets/controls",
      "model_module_version": "1.5.0",
      "model_name": "ButtonModel",
      "state": {
       "description": "Submit",
       "layout": "IPY_MODEL_4de91392b68c45d5a98748773c790fdb",
       "style": "IPY_MODEL_16fbdc07452e459395b3cb19b1ddd5ed"
      }
     },
     "b47540a1fe8e43c2a6e05433f7b21ba1": {
      "model_module": "@jupyter-widgets/controls",
      "model_module_version": "1.5.0",
      "model_name": "HTMLModel",
      "state": {
       "layout": "IPY_MODEL_f0718239124b46f9a3b927d2a442d060",
       "style": "IPY_MODEL_78deccd8e087466491cbe3f4815830d3",
       "value": "<font size=\"1\">Triumphs/Lore/Dusk and Dawn/Revelation/A Desperate Ploy</font size=>"
      }
     },
     "b47d65acb3f5486da29e02732125a073": {
      "model_module": "@jupyter-widgets/controls",
      "model_module_version": "1.5.0",
      "model_name": "LabelModel",
      "state": {
       "layout": "IPY_MODEL_6901dfcbb89b4d42b3c5c82a49a1f88a",
       "style": "IPY_MODEL_369f6699ec5b4c1dbe0c92b30012a6aa",
       "value": "Open a new window and go here: https://www.bungie.net/en/OAuth/Authorize?client_id=29004&response_type=code"
      }
     },
     "b4a3812e3f7a4532a26872a211c2160b": {
      "model_module": "@jupyter-widgets/controls",
      "model_module_version": "1.5.0",
      "model_name": "IntProgressModel",
      "state": {
       "layout": "IPY_MODEL_7de71f25918b4a59ba3a30c31b4e4f0d",
       "style": "IPY_MODEL_bc7c06bf07ec4a9a94f8aedb9e0c4aa2",
       "value": 30
      }
     },
     "b4b9007a16e94af5a0b462b815e9407b": {
      "model_module": "@jupyter-widgets/controls",
      "model_module_version": "1.5.0",
      "model_name": "DescriptionStyleModel",
      "state": {
       "description_width": ""
      }
     },
     "b4caabe7cd0e4aa7829866704f467054": {
      "model_module": "@jupyter-widgets/base",
      "model_module_version": "1.2.0",
      "model_name": "LayoutModel",
      "state": {
       "height": "32px",
       "order": "-2",
       "width": "32px"
      }
     },
     "b4e22cb2bc1a479f9fe3d41d41c91489": {
      "model_module": "@jupyter-widgets/controls",
      "model_module_version": "1.5.0",
      "model_name": "HTMLModel",
      "state": {
       "layout": "IPY_MODEL_3a10ea007c4043c59f56bda5c9ec875f",
       "style": "IPY_MODEL_aa34b770ee1b4def87bce97f37df804b",
       "value": "<i>Get kills with Izanagi's Burden at the Izanami Forge.</i>"
      }
     },
     "b4e5e18e844d431198e5e027ebb17d4c": {
      "model_module": "@jupyter-widgets/base",
      "model_module_version": "1.2.0",
      "model_name": "LayoutModel",
      "state": {
       "display": "none"
      }
     },
     "b51a2f84df3a48fe8d3ddf475414abb6": {
      "model_module": "@jupyter-widgets/base",
      "model_module_version": "1.2.0",
      "model_name": "LayoutModel",
      "state": {
       "height": "32px",
       "overflow": "visible",
       "width": "100%"
      }
     },
     "b537253c05c54a4aa0e4ed0d52a32769": {
      "model_module": "@jupyter-widgets/controls",
      "model_module_version": "1.5.0",
      "model_name": "ButtonStyleModel",
      "state": {}
     },
     "b53efde3f1144a8ca0878f1558c8e13f": {
      "model_module": "@jupyter-widgets/base",
      "model_module_version": "1.2.0",
      "model_name": "LayoutModel",
      "state": {}
     },
     "b5475fdd82cf4b4ab2500fbedc558609": {
      "model_module": "@jupyter-widgets/controls",
      "model_module_version": "1.5.0",
      "model_name": "DropdownModel",
      "state": {
       "_options_labels": [
        "All"
       ],
       "index": 0,
       "layout": "IPY_MODEL_ebf022691739459e8027d4a69dc8265b",
       "style": "IPY_MODEL_2c96ee11e33245dea2a2882719b6e554"
      }
     },
     "b54ecc505ace4d44b5e4802ea2e76402": {
      "model_module": "@jupyter-widgets/controls",
      "model_module_version": "1.5.0",
      "model_name": "ButtonModel",
      "state": {
       "description": "EDIT",
       "layout": "IPY_MODEL_ff37ee7b1cb946789cee2ce22ecec74b",
       "style": "IPY_MODEL_15248b5a1a014d0895b69cf392bf851f"
      }
     },
     "b552cb7fd86e4baa8ccda4e67b942712": {
      "model_module": "@jupyter-widgets/base",
      "model_module_version": "1.2.0",
      "model_name": "LayoutModel",
      "state": {
       "height": "32px",
       "overflow": "visible",
       "width": "100%"
      }
     },
     "b55612f5a70c4d3b904085e35c4890a6": {
      "model_module": "@jupyter-widgets/controls",
      "model_module_version": "1.5.0",
      "model_name": "IntProgressModel",
      "state": {
       "layout": "IPY_MODEL_be736bcf9ddb4eaab7bd95909fdb8ca8",
       "max": 1,
       "style": "IPY_MODEL_d76184ee5391411cbf026e0175de90f6"
      }
     },
     "b556e899c44545a5be7515d8fe869a62": {
      "model_module": "@jupyter-widgets/controls",
      "model_module_version": "1.5.0",
      "model_name": "HBoxModel",
      "state": {
       "children": [
        "IPY_MODEL_92b0f0c19fba43a082179a1a3c365d4b",
        "IPY_MODEL_d32e419059a54ef0a30c529e3c4c853b",
        "IPY_MODEL_679e538708894cae953d576fbde818af",
        "IPY_MODEL_6fa16871996749d08ffa6ebf5473c840"
       ],
       "layout": "IPY_MODEL_70f594b8996d4dafb4f1144450e93b7c"
      }
     },
     "b56ee57d33e04447aa6dd1c3a3a31706": {
      "model_module": "@jupyter-widgets/base",
      "model_module_version": "1.2.0",
      "model_name": "LayoutModel",
      "state": {
       "height": "32px",
       "order": "-2",
       "width": "32px"
      }
     },
     "b5739cf11cde4d7b820460faf777e31d": {
      "model_module": "@jupyter-widgets/controls",
      "model_module_version": "1.5.0",
      "model_name": "CheckboxModel",
      "state": {
       "description": "Hide Complete Tasks",
       "disabled": false,
       "indent": false,
       "layout": "IPY_MODEL_22039860e7fb4879baf1f46dbff816a8",
       "style": "IPY_MODEL_6dcdb294eb2448dea5a5b36337d54384",
       "value": true
      }
     },
     "b573a107587d4e41b87192e3d23d9243": {
      "model_module": "@jupyter-widgets/base",
      "model_module_version": "1.2.0",
      "model_name": "LayoutModel",
      "state": {
       "display": "none",
       "width": "60px"
      }
     },
     "b584a5b7930d454692049246551ea906": {
      "model_module": "@jupyter-widgets/controls",
      "model_module_version": "1.5.0",
      "model_name": "ButtonStyleModel",
      "state": {}
     },
     "b58df085a46b45b080c5cc27fd20f4b9": {
      "model_module": "@jupyter-widgets/controls",
      "model_module_version": "1.5.0",
      "model_name": "LabelModel",
      "state": {
       "layout": "IPY_MODEL_46e221d2a4154483a584e0651d99aa1d",
       "style": "IPY_MODEL_7d59293ffe344f5c8b11ce2a7601dca6",
       "value": "    Grenade kills (289/200)"
      }
     },
     "b5983cb23b4043d2867248abc18fa86a": {
      "model_module": "@jupyter-widgets/controls",
      "model_module_version": "1.5.0",
      "model_name": "CheckboxModel",
      "state": {
       "description": "Edit Mode",
       "disabled": false,
       "layout": "IPY_MODEL_2717c9cfe51b4121b407a8fdfe9685be",
       "style": "IPY_MODEL_144ca389fb314ff082d79ca311a99dcd",
       "value": true
      }
     },
     "b5a42be75ac241d0ac244ed5fc49ee47": {
      "model_module": "@jupyter-widgets/controls",
      "model_module_version": "1.5.0",
      "model_name": "ButtonModel",
      "state": {
       "layout": "IPY_MODEL_7ba4333a49114de394cfa3b3a8d80632",
       "style": "IPY_MODEL_a2bb34a6088848fe8137346a67b9a480"
      }
     },
     "b5bc2b0bfad8430696d30eb539655dcd": {
      "model_module": "@jupyter-widgets/controls",
      "model_module_version": "1.5.0",
      "model_name": "ButtonModel",
      "state": {
       "layout": "IPY_MODEL_fca0aac00d2645869cd842136fd6f2f8",
       "style": "IPY_MODEL_79e9e21c9d4c42458cedc6859ba8e3ed"
      }
     },
     "b5f7720432944eed912caf1b5016922e": {
      "model_module": "@jupyter-widgets/base",
      "model_module_version": "1.2.0",
      "model_name": "LayoutModel",
      "state": {
       "overflow": "visible",
       "width": "100%"
      }
     },
     "b61643472d404a1fb97bace2eb33bf61": {
      "model_module": "@jupyter-widgets/controls",
      "model_module_version": "1.5.0",
      "model_name": "HBoxModel",
      "state": {
       "children": [
        "IPY_MODEL_13e21623b1cd45a8b8ecd29af2a91064",
        "IPY_MODEL_b0238414f95744eda1228357bf910547",
        "IPY_MODEL_f76633412f3348069e57c6b60f3954e7",
        "IPY_MODEL_48807ffabda6490a93815774c5f6831d"
       ],
       "layout": "IPY_MODEL_fdc8a8e63f38415fb988b2720d85ff95"
      }
     },
     "b647c9da183e4174b17eaa4242d74511": {
      "model_module": "@jupyter-widgets/controls",
      "model_module_version": "1.5.0",
      "model_name": "DropdownModel",
      "state": {
       "_options_labels": [
        "All"
       ],
       "index": 0,
       "layout": "IPY_MODEL_e9f47d965fb544d189fb4216e3701297",
       "style": "IPY_MODEL_2b5f90fadb9e493ea979111c83149606"
      }
     },
     "b652380aeace4a3ba3663e1441f2ea44": {
      "model_module": "@jupyter-widgets/controls",
      "model_module_version": "1.5.0",
      "model_name": "IntProgressModel",
      "state": {
       "layout": "IPY_MODEL_e1a439bb9ff545b2963ba5d1fbaffa09",
       "style": "IPY_MODEL_284b9f0cef324a0a9710d3b20060e212",
       "value": 30
      }
     },
     "b659bde8383a4359abf5fd8eaaee70eb": {
      "model_module": "@jupyter-widgets/base",
      "model_module_version": "1.2.0",
      "model_name": "LayoutModel",
      "state": {
       "height": "32px",
       "order": "-2",
       "width": "32px"
      }
     },
     "b678908e3eec4cef8bb659d569ab821e": {
      "model_module": "@jupyter-widgets/controls",
      "model_module_version": "1.5.0",
      "model_name": "DescriptionStyleModel",
      "state": {
       "description_width": ""
      }
     },
     "b68ec2310d1d454e96b4981833530327": {
      "model_module": "@jupyter-widgets/controls",
      "model_module_version": "1.5.0",
      "model_name": "IntProgressModel",
      "state": {
       "layout": "IPY_MODEL_a139349acb8e4cb7afbcfbc5035b2d48",
       "max": 1,
       "style": "IPY_MODEL_6f1fda0d152a4bf5ba319ed1726af678"
      }
     },
     "b6f7ab07cee44f23b225e655d9a7463a": {
      "model_module": "@jupyter-widgets/controls",
      "model_module_version": "1.5.0",
      "model_name": "IntProgressModel",
      "state": {
       "layout": "IPY_MODEL_9c5bdb0cf43f4195955afd287ec52813",
       "style": "IPY_MODEL_81444c36cc1e4251be27d69b9e44029b",
       "value": 30
      }
     },
     "b6fede9911ba4194a55f4e68e7f8c952": {
      "model_module": "@jupyter-widgets/controls",
      "model_module_version": "1.5.0",
      "model_name": "DescriptionStyleModel",
      "state": {
       "description_width": ""
      }
     },
     "b72482f6912b42a88442ee6a875ee1f9": {
      "model_module": "@jupyter-widgets/base",
      "model_module_version": "1.2.0",
      "model_name": "LayoutModel",
      "state": {
       "overflow": "visible",
       "width": "100%"
      }
     },
     "b734b07ca29f467282a1089813531f09": {
      "model_module": "@jupyter-widgets/base",
      "model_module_version": "1.2.0",
      "model_name": "LayoutModel",
      "state": {
       "height": "32px",
       "overflow": "visible",
       "width": "100%"
      }
     },
     "b76ddb656cda40ca9f154b4bef6ddfaa": {
      "model_module": "@jupyter-widgets/controls",
      "model_module_version": "1.5.0",
      "model_name": "HBoxModel",
      "state": {
       "children": [
        "IPY_MODEL_7e74daff143243c090ce79a860707b55",
        "IPY_MODEL_b68ec2310d1d454e96b4981833530327",
        "IPY_MODEL_e5de4eab9805460bae19053b3eaaa717",
        "IPY_MODEL_21307ebbe39c43adbf3cc33f049fcdb8"
       ],
       "layout": "IPY_MODEL_aa5db768f9b947e4a9a1f39810247ff3"
      }
     },
     "b7840ba934eb4beda111d96be8ab2360": {
      "model_module": "@jupyter-widgets/controls",
      "model_module_version": "1.5.0",
      "model_name": "DescriptionStyleModel",
      "state": {
       "description_width": ""
      }
     },
     "b78b0e0963d44786b0d47af43c8fe152": {
      "model_module": "@jupyter-widgets/controls",
      "model_module_version": "1.5.0",
      "model_name": "VBoxModel",
      "state": {
       "children": [
        "IPY_MODEL_12df4cbc3aca46dcaef035654cc1c378",
        "IPY_MODEL_40c3cad87c5449588c7b2ffdba1b0fdd",
        "IPY_MODEL_81b8ad22862d47c8968919fece81709d"
       ],
       "layout": "IPY_MODEL_c83c30f5f6f04ad39fab1b7d17882be0"
      }
     },
     "b798fe84db8748c0bc8f417d989e3c71": {
      "model_module": "@jupyter-widgets/controls",
      "model_module_version": "1.5.0",
      "model_name": "ButtonModel",
      "state": {
       "description": "EDIT",
       "layout": "IPY_MODEL_483093007061497c8ae547a0e5095c29",
       "style": "IPY_MODEL_507484ab33d743a2bd04656fac683391"
      }
     },
     "b806fa74a0d8427ab552366a0cea2a3d": {
      "model_module": "@jupyter-widgets/controls",
      "model_module_version": "1.5.0",
      "model_name": "LabelModel",
      "state": {
       "layout": "IPY_MODEL_eb100a3ff813400a944b5a9f8df4efb7",
       "style": "IPY_MODEL_546811ba024c4c9d923835309ddb8b60",
       "value": "   objective"
      }
     },
     "b8386ba738a14947b27d60fc948ff39c": {
      "model_module": "@jupyter-widgets/controls",
      "model_module_version": "1.5.0",
      "model_name": "LabelModel",
      "state": {
       "layout": "IPY_MODEL_6917e87be9c24cf48797699ac963ce6d",
       "style": "IPY_MODEL_eca5c4045e9847ee8977f961c3d0ae2f",
       "value": "   objective"
      }
     },
     "b84137a6ca784b158a222975ebba5bb0": {
      "model_module": "@jupyter-widgets/controls",
      "model_module_version": "1.5.0",
      "model_name": "DescriptionStyleModel",
      "state": {
       "description_width": ""
      }
     },
     "b85a61f242a84ed385df90dc41f3a0be": {
      "model_module": "@jupyter-widgets/controls",
      "model_module_version": "1.5.0",
      "model_name": "HBoxModel",
      "state": {
       "children": [
        "IPY_MODEL_071bba51794b4600a4fc8bef5afa57c4",
        "IPY_MODEL_08a900b3faa9475eaef40b1b8100e553",
        "IPY_MODEL_03ad57088f124601ab3226c76ef7aebf",
        "IPY_MODEL_13a4c7f42f9f43fead66e41508f022fb"
       ],
       "layout": "IPY_MODEL_b4e5e18e844d431198e5e027ebb17d4c"
      }
     },
     "b8635dec7d724663a5a710780cefd2bf": {
      "model_module": "@jupyter-widgets/base",
      "model_module_version": "1.2.0",
      "model_name": "LayoutModel",
      "state": {}
     },
     "b8e4242a6a6c439aa855ae3847389350": {
      "model_module": "@jupyter-widgets/controls",
      "model_module_version": "1.5.0",
      "model_name": "HTMLModel",
      "state": {
       "layout": "IPY_MODEL_3888239c31cc4a8dba5f31c787484ff0",
       "style": "IPY_MODEL_fc52b414be3341b0af37d504d7e4d4b1",
       "value": "<font size=\"5\"><b>Maximum Carnage</b></font size=>"
      }
     },
     "b924617afe534bfeb8d7ef1fc6b6fcc2": {
      "model_module": "@jupyter-widgets/base",
      "model_module_version": "1.2.0",
      "model_name": "LayoutModel",
      "state": {
       "display": "none"
      }
     },
     "b942ebf3c0d4416f9481c4c2c9e2becd": {
      "model_module": "@jupyter-widgets/controls",
      "model_module_version": "1.5.0",
      "model_name": "DescriptionStyleModel",
      "state": {
       "description_width": ""
      }
     },
     "b983a57e9e7d440699eaa341d8549d6b": {
      "model_module": "@jupyter-widgets/controls",
      "model_module_version": "1.5.0",
      "model_name": "LabelModel",
      "state": {
       "layout": "IPY_MODEL_3672018bdd3d412d8c06e42b04c9f0d6",
       "style": "IPY_MODEL_5aa73228fba94428ac0dbd3c9f1ef26e",
       "value": "   objective"
      }
     },
     "b993b4594b1a4c4daba114757307b8f0": {
      "model_module": "@jupyter-widgets/base",
      "model_module_version": "1.2.0",
      "model_name": "LayoutModel",
      "state": {
       "order": "-1",
       "overflow": "visible",
       "padding": "1px",
       "width": "0px"
      }
     },
     "b9d41cdb4e074573a189253551f9b343": {
      "model_module": "@jupyter-widgets/base",
      "model_module_version": "1.2.0",
      "model_name": "LayoutModel",
      "state": {}
     },
     "b9d43ecc021041b3b53f13ff6c4d0394": {
      "model_module": "@jupyter-widgets/base",
      "model_module_version": "1.2.0",
      "model_name": "LayoutModel",
      "state": {
       "height": "32px",
       "overflow": "visible",
       "width": "100%"
      }
     },
     "b9dc54516c7f41bcb55ee1195c16efc9": {
      "model_module": "@jupyter-widgets/controls",
      "model_module_version": "1.5.0",
      "model_name": "IntProgressModel",
      "state": {
       "layout": "IPY_MODEL_2c82e3f203ce4ae3b0b4494fc69c87d9",
       "style": "IPY_MODEL_8988f881fe6f470e9b7206af134f6da7",
       "value": 30
      }
     },
     "ba2294f72968457091443ff9254d81dc": {
      "model_module": "@jupyter-widgets/controls",
      "model_module_version": "1.5.0",
      "model_name": "DescriptionStyleModel",
      "state": {
       "description_width": ""
      }
     },
     "ba2bd26415e94eb6b6891f95889a1795": {
      "model_module": "@jupyter-widgets/controls",
      "model_module_version": "1.5.0",
      "model_name": "LabelModel",
      "state": {
       "layout": "IPY_MODEL_40956a5f2a21403ca3675ce843130ee6",
       "style": "IPY_MODEL_513bdf1098994ed8932e40aec6d50399",
       "value": "   objective"
      }
     },
     "ba8188fe7db346539f7db42c43d389aa": {
      "model_module": "@jupyter-widgets/controls",
      "model_module_version": "1.5.0",
      "model_name": "VBoxModel",
      "state": {
       "children": [
        "IPY_MODEL_0e9bf56ef971430cac76377569d67ed1",
        "IPY_MODEL_994c52cd03cc41d2a781d42eac423b61",
        "IPY_MODEL_a84fdeb035704bea987ad8f021c8106c",
        "IPY_MODEL_23efe50453bd4b2bbd673808e0de1b73"
       ],
       "layout": "IPY_MODEL_63bfc575e76e416bba84538db0216aec"
      }
     },
     "ba8b753eb20e4885a0c9c753f27a32e8": {
      "model_module": "@jupyter-widgets/controls",
      "model_module_version": "1.5.0",
      "model_name": "DropdownModel",
      "state": {
       "_options_labels": [
        "Any"
       ],
       "disabled": true,
       "index": 0,
       "layout": "IPY_MODEL_dfd5c6303e934458b6257be1b14f92ef",
       "style": "IPY_MODEL_7dae89eb876646d5a54d5ef2f03c02a5"
      }
     },
     "ba8f24a1d3664392b58ed9993f959e69": {
      "model_module": "@jupyter-widgets/base",
      "model_module_version": "1.2.0",
      "model_name": "LayoutModel",
      "state": {
       "height": "32px",
       "order": "-2",
       "width": "32px"
      }
     },
     "babfc6500a034f34a878b986bb52f2a5": {
      "model_module": "@jupyter-widgets/controls",
      "model_module_version": "1.5.0",
      "model_name": "ButtonStyleModel",
      "state": {}
     },
     "bac71be4a11343b1925e544aa005adac": {
      "model_module": "@jupyter-widgets/base",
      "model_module_version": "1.2.0",
      "model_name": "LayoutModel",
      "state": {
       "height": "32px",
       "order": "-2",
       "width": "32px"
      }
     },
     "bace1b56bc474a05b228e4c6f5082787": {
      "model_module": "@jupyter-widgets/base",
      "model_module_version": "1.2.0",
      "model_name": "LayoutModel",
      "state": {
       "height": "32px",
       "overflow": "visible",
       "width": "100%"
      }
     },
     "bb2305bbdff546008ae1aee585bf066c": {
      "model_module": "@jupyter-widgets/controls",
      "model_module_version": "1.5.0",
      "model_name": "DescriptionStyleModel",
      "state": {
       "description_width": ""
      }
     },
     "bb3f08cffd3a4f409c35de0bd4b8b02b": {
      "model_module": "@jupyter-widgets/controls",
      "model_module_version": "1.5.0",
      "model_name": "LabelModel",
      "state": {
       "layout": "IPY_MODEL_168f66eb69f644e88de0c7864354b6b7",
       "style": "IPY_MODEL_c10e77fc6cd74f0097901f83b19fa652",
       "value": "   objective"
      }
     },
     "bb598c3a15c14718ac282e81a5a28e44": {
      "model_module": "@jupyter-widgets/base",
      "model_module_version": "1.2.0",
      "model_name": "LayoutModel",
      "state": {
       "display": "none",
       "width": "60px"
      }
     },
     "bb6c921398c7409d98407dd5fdd24912": {
      "model_module": "@jupyter-widgets/controls",
      "model_module_version": "1.5.0",
      "model_name": "HTMLModel",
      "state": {
       "layout": "IPY_MODEL_85922652a80a4a938f81b226354d2e77",
       "style": "IPY_MODEL_93c89dac1617439c8852e0d7a07fc59c",
       "value": "<font size=\"5\"><b>Reunited Siblings</b></font size=>"
      }
     },
     "bb7a177f2a694b4abd027f7995e99ec4": {
      "model_module": "@jupyter-widgets/controls",
      "model_module_version": "1.5.0",
      "model_name": "DescriptionStyleModel",
      "state": {
       "description_width": ""
      }
     },
     "bba5a922973945709f5108ec089af5e3": {
      "model_module": "@jupyter-widgets/base",
      "model_module_version": "1.2.0",
      "model_name": "LayoutModel",
      "state": {
       "display": "none",
       "width": "60px"
      }
     },
     "bbaad51153584b9ab7427bfa182456bc": {
      "model_module": "@jupyter-widgets/controls",
      "model_module_version": "1.5.0",
      "model_name": "LabelModel",
      "state": {
       "layout": "IPY_MODEL_91d1445221b54867b268521f0cf6393f",
       "style": "IPY_MODEL_fd2530bc442747529396c7dbab8bd5e2",
       "value": "   objective"
      }
     },
     "bbe3e7dbb31c42ceb74c5b7500a98bbd": {
      "model_module": "@jupyter-widgets/base",
      "model_module_version": "1.2.0",
      "model_name": "LayoutModel",
      "state": {
       "display": "none",
       "width": "60px"
      }
     },
     "bbeae8de326c4d43920635ccc662a14b": {
      "model_module": "@jupyter-widgets/controls",
      "model_module_version": "1.5.0",
      "model_name": "HTMLModel",
      "state": {
       "layout": "IPY_MODEL_9d2d5fa3b217408783bce3119b06e546",
       "style": "IPY_MODEL_80e61b43a100487eacdada5f1facdcbd",
       "value": "<font size=\"1\">Triumphs/Account/Character/Titan/Strike Them Down</font size=>"
      }
     },
     "bc29e211b7bf42de89543fc8f9141c51": {
      "model_module": "@jupyter-widgets/controls",
      "model_module_version": "1.5.0",
      "model_name": "ProgressStyleModel",
      "state": {
       "description_width": ""
      }
     },
     "bc5080facf914ff2a8138e4a5ae3385d": {
      "model_module": "@jupyter-widgets/controls",
      "model_module_version": "1.5.0",
      "model_name": "ButtonModel",
      "state": {
       "description": "EDIT",
       "layout": "IPY_MODEL_993535f0482d46e0839b9f5a00db884c",
       "style": "IPY_MODEL_eb5d298febb74a8eb067223cb67550c1"
      }
     },
     "bc55c92d08c4497aabb276670625ecb7": {
      "model_module": "@jupyter-widgets/base",
      "model_module_version": "1.2.0",
      "model_name": "LayoutModel",
      "state": {
       "order": "-1",
       "overflow": "visible",
       "padding": "1px",
       "width": "0px"
      }
     },
     "bc7c06bf07ec4a9a94f8aedb9e0c4aa2": {
      "model_module": "@jupyter-widgets/controls",
      "model_module_version": "1.5.0",
      "model_name": "ProgressStyleModel",
      "state": {
       "description_width": ""
      }
     },
     "bd039c58dd44400c8142dc88973f32ec": {
      "model_module": "@jupyter-widgets/controls",
      "model_module_version": "1.5.0",
      "model_name": "IntProgressModel",
      "state": {
       "layout": "IPY_MODEL_286cd809432f475f97ec004dc088c014",
       "style": "IPY_MODEL_5b494b89c9f0438992458ccdb0477a85",
       "value": 30
      }
     },
     "bd1958bfb50445b7a196f672355aaf58": {
      "model_module": "@jupyter-widgets/controls",
      "model_module_version": "1.5.0",
      "model_name": "ButtonStyleModel",
      "state": {}
     },
     "bd3c8fb10f8f4adda786a72d23cea962": {
      "model_module": "@jupyter-widgets/controls",
      "model_module_version": "1.5.0",
      "model_name": "ButtonStyleModel",
      "state": {}
     },
     "bd4cbdb7ca1c4d90917694dc4dc1ae1e": {
      "model_module": "@jupyter-widgets/base",
      "model_module_version": "1.2.0",
      "model_name": "LayoutModel",
      "state": {
       "order": "-1",
       "overflow": "visible",
       "padding": "1px",
       "width": "0px"
      }
     },
     "bd952a9ebef348129ea6c4b700d23c09": {
      "model_module": "@jupyter-widgets/controls",
      "model_module_version": "1.5.0",
      "model_name": "LabelModel",
      "state": {
       "layout": "IPY_MODEL_197c0081d786467cac3f64eb10287fa2",
       "style": "IPY_MODEL_4b99ce24d362486fa43fac0e84974a19",
       "value": "   objective"
      }
     },
     "bdd22217c3e04b019455582a8b7230fe": {
      "model_module": "@jupyter-widgets/base",
      "model_module_version": "1.2.0",
      "model_name": "LayoutModel",
      "state": {}
     },
     "bddd0367a3cf47b29b368b94b74a96c8": {
      "model_module": "@jupyter-widgets/base",
      "model_module_version": "1.2.0",
      "model_name": "LayoutModel",
      "state": {
       "overflow": "visible",
       "width": "100%"
      }
     },
     "be6be00df88e4504bcc23a62a201ee18": {
      "model_module": "@jupyter-widgets/base",
      "model_module_version": "1.2.0",
      "model_name": "LayoutModel",
      "state": {
       "display": "none",
       "width": "60px"
      }
     },
     "be6e902b016449959e145c90010f8a32": {
      "model_module": "@jupyter-widgets/controls",
      "model_module_version": "1.5.0",
      "model_name": "ButtonModel",
      "state": {
       "button_style": "success",
       "description": "EDIT",
       "layout": "IPY_MODEL_a57b9ce3eee546978d3196962e121b3e",
       "style": "IPY_MODEL_92ee3c4a165449aeafe7bffbdb5ab23d"
      }
     },
     "be736bcf9ddb4eaab7bd95909fdb8ca8": {
      "model_module": "@jupyter-widgets/base",
      "model_module_version": "1.2.0",
      "model_name": "LayoutModel",
      "state": {
       "height": "32px",
       "overflow": "visible",
       "width": "100%"
      }
     },
     "be8610e6fb4d4d91a347dfebce41d07c": {
      "model_module": "@jupyter-widgets/controls",
      "model_module_version": "1.5.0",
      "model_name": "HTMLModel",
      "state": {
       "layout": "IPY_MODEL_e60e23197b77419e9bbecc793e55493d",
       "style": "IPY_MODEL_dbe9bac9b7ff4646a068abe9c42596c3",
       "value": "<font size=\"5\"><b>Strike Them Down</b></font size=>"
      }
     },
     "beb6494a43b94c6fb52b2a13fcdb7657": {
      "model_module": "@jupyter-widgets/base",
      "model_module_version": "1.2.0",
      "model_name": "LayoutModel",
      "state": {
       "height": "32px",
       "overflow": "visible",
       "width": "100%"
      }
     },
     "beb71122ee8d43bb959532165d810dd9": {
      "model_module": "@jupyter-widgets/base",
      "model_module_version": "1.2.0",
      "model_name": "LayoutModel",
      "state": {
       "display": "none"
      }
     },
     "bece198d81e04229af71366afba7bfcf": {
      "model_module": "@jupyter-widgets/controls",
      "model_module_version": "1.5.0",
      "model_name": "ButtonStyleModel",
      "state": {}
     },
     "bf12cc622eeb41d9bc96404bd9c8c642": {
      "model_module": "@jupyter-widgets/controls",
      "model_module_version": "1.5.0",
      "model_name": "IntProgressModel",
      "state": {
       "layout": "IPY_MODEL_f2d5d2d8f95948d0912de88d4d0ffecb",
       "style": "IPY_MODEL_f2d6eb0d256542e9b8f9559ad5cfdc75",
       "value": 30
      }
     },
     "bf4267a64e5944f3a0e44fd4e618a0b4": {
      "model_module": "@jupyter-widgets/base",
      "model_module_version": "1.2.0",
      "model_name": "LayoutModel",
      "state": {
       "overflow": "visible",
       "width": "100%"
      }
     },
     "bf565053e014433687b39c1c1a60d4f8": {
      "model_module": "@jupyter-widgets/controls",
      "model_module_version": "1.5.0",
      "model_name": "DescriptionStyleModel",
      "state": {
       "description_width": ""
      }
     },
     "bf6847c945a349c89b4f288f89b33897": {
      "model_module": "@jupyter-widgets/base",
      "model_module_version": "1.2.0",
      "model_name": "LayoutModel",
      "state": {
       "height": "32px",
       "order": "-2",
       "width": "32px"
      }
     },
     "bf7fe99a36334cfca5216d963f5958a9": {
      "model_module": "@jupyter-widgets/controls",
      "model_module_version": "1.5.0",
      "model_name": "ButtonStyleModel",
      "state": {}
     },
     "bf89ed1df38d45e0bf3cc3c45ab544a8": {
      "model_module": "@jupyter-widgets/controls",
      "model_module_version": "1.5.0",
      "model_name": "DescriptionStyleModel",
      "state": {
       "description_width": ""
      }
     },
     "bffdda45af7b4e91b3d456fd759e749e": {
      "model_module": "@jupyter-widgets/base",
      "model_module_version": "1.2.0",
      "model_name": "LayoutModel",
      "state": {
       "border": "3px solid white",
       "display": "flex",
       "flex": "1 1 0%",
       "margin": "10px",
       "min_width": "400px",
       "overflow": "visible",
       "padding": "10px",
       "width": "auto"
      }
     },
     "c00b7d4946a94b93a904617bb5ee5a8d": {
      "model_module": "@jupyter-widgets/controls",
      "model_module_version": "1.5.0",
      "model_name": "ButtonStyleModel",
      "state": {}
     },
     "c04f520af0a847f99ee01e1295d931bc": {
      "model_module": "@jupyter-widgets/base",
      "model_module_version": "1.2.0",
      "model_name": "LayoutModel",
      "state": {
       "display": "none",
       "width": "60px"
      }
     },
     "c06e7d318c6f437bad57c94b5db7734e": {
      "model_module": "@jupyter-widgets/controls",
      "model_module_version": "1.5.0",
      "model_name": "ButtonModel",
      "state": {
       "description": "EDIT",
       "layout": "IPY_MODEL_119b50d7e7414f239837a240b8032ca2",
       "style": "IPY_MODEL_c6413d4d0a904b8b8a49233b60f28d3c"
      }
     },
     "c072ab75a33a412d84b9d6d5be881abd": {
      "model_module": "@jupyter-widgets/controls",
      "model_module_version": "1.5.0",
      "model_name": "ButtonStyleModel",
      "state": {}
     },
     "c0758e0209534972a3bb40f675cce903": {
      "model_module": "@jupyter-widgets/base",
      "model_module_version": "1.2.0",
      "model_name": "LayoutModel",
      "state": {
       "height": "32px",
       "order": "-2",
       "width": "32px"
      }
     },
     "c0854b5c9ffa4f6984424101732545d7": {
      "model_module": "@jupyter-widgets/controls",
      "model_module_version": "1.5.0",
      "model_name": "HBoxModel",
      "state": {
       "children": [
        "IPY_MODEL_8819794f7e7d4fee91569433ae0d0440",
        "IPY_MODEL_70f1953c465e4160b725819b3554349f",
        "IPY_MODEL_f5367e47cccd4a64b70d08428a14f41d",
        "IPY_MODEL_36f7bb4c2a324964b452b259c196429c"
       ],
       "layout": "IPY_MODEL_55a9e01d115145478a04f39f7e56852f"
      }
     },
     "c0858ccb5b534c8fb3ece8201ccb241e": {
      "model_module": "@jupyter-widgets/controls",
      "model_module_version": "1.5.0",
      "model_name": "DescriptionStyleModel",
      "state": {
       "description_width": ""
      }
     },
     "c0aac8a4b50240ce89ce38a3915a7358": {
      "model_module": "@jupyter-widgets/controls",
      "model_module_version": "1.5.0",
      "model_name": "ButtonModel",
      "state": {
       "layout": "IPY_MODEL_facf168be39c48d28fb8f0b23ca21293",
       "style": "IPY_MODEL_bf7fe99a36334cfca5216d963f5958a9"
      }
     },
     "c0d2e122f60d45c0a77a1c54f5fe0ab2": {
      "model_module": "@jupyter-widgets/controls",
      "model_module_version": "1.5.0",
      "model_name": "DropdownModel",
      "state": {
       "_options_labels": [
        "All"
       ],
       "index": 0,
       "layout": "IPY_MODEL_f0f82774f39249e0b76db332651e6088",
       "style": "IPY_MODEL_b01024c1bc77460fa9c8683363a43f66"
      }
     },
     "c0d52c5da4ea498f8106a9676d953175": {
      "model_module": "@jupyter-widgets/base",
      "model_module_version": "1.2.0",
      "model_name": "LayoutModel",
      "state": {
       "display": "none",
       "width": "60px"
      }
     },
     "c0f16df21d204086920ff54c4da3c53c": {
      "model_module": "@jupyter-widgets/controls",
      "model_module_version": "1.5.0",
      "model_name": "VBoxModel",
      "state": {
       "children": [
        "IPY_MODEL_2a19f652ed434119970e99c14abd9964",
        "IPY_MODEL_a772ac3b50b14ff49fc0dbda5d8c0b90",
        "IPY_MODEL_f2f96002f90f4d29b31794245ed649c0",
        "IPY_MODEL_a772ac3b50b14ff49fc0dbda5d8c0b90",
        "IPY_MODEL_a0340c8d5eb04c829fa06f7477e15595"
       ],
       "layout": "IPY_MODEL_96c1cf99876e4e2992560d4f0ae56d54"
      }
     },
     "c10e77fc6cd74f0097901f83b19fa652": {
      "model_module": "@jupyter-widgets/controls",
      "model_module_version": "1.5.0",
      "model_name": "DescriptionStyleModel",
      "state": {
       "description_width": ""
      }
     },
     "c1285fe2748a4c33b401eace2daef3fe": {
      "model_module": "@jupyter-widgets/controls",
      "model_module_version": "1.5.0",
      "model_name": "HBoxModel",
      "state": {
       "children": [
        "IPY_MODEL_095224f98ec24999a6ffbc033837300e",
        "IPY_MODEL_a0120140948e44389b91f70d14b19644",
        "IPY_MODEL_77db70c62ed545eaaa8c864c0a6b905e",
        "IPY_MODEL_b798fe84db8748c0bc8f417d989e3c71"
       ],
       "layout": "IPY_MODEL_f0341b60d3d24488a6ca8abc061c5e63"
      }
     },
     "c174cead493e4f65ba034211e3d56ab1": {
      "model_module": "@jupyter-widgets/controls",
      "model_module_version": "1.5.0",
      "model_name": "LabelModel",
      "state": {
       "layout": "IPY_MODEL_5890dcbd4ab643c584e1eeb074dd4216",
       "style": "IPY_MODEL_5dc058d48da146e7925d38a9b8b3e543",
       "value": "Armor Set:"
      }
     },
     "c1894ad505f04b0abdf5e15e87d30835": {
      "model_module": "@jupyter-widgets/base",
      "model_module_version": "1.2.0",
      "model_name": "LayoutModel",
      "state": {
       "display": "none"
      }
     },
     "c1be0ea5e289410a8fcb9743adb11ed5": {
      "model_module": "@jupyter-widgets/base",
      "model_module_version": "1.2.0",
      "model_name": "LayoutModel",
      "state": {}
     },
     "c1c6dd76ab4c47459090ffa497888493": {
      "model_module": "@jupyter-widgets/controls",
      "model_module_version": "1.5.0",
      "model_name": "DescriptionStyleModel",
      "state": {
       "description_width": ""
      }
     },
     "c1eaa540dbe94d9b98898b85ed0a5d64": {
      "model_module": "@jupyter-widgets/controls",
      "model_module_version": "1.5.0",
      "model_name": "DescriptionStyleModel",
      "state": {
       "description_width": ""
      }
     },
     "c240b2159369498a84cd19061bde1244": {
      "model_module": "@jupyter-widgets/controls",
      "model_module_version": "1.5.0",
      "model_name": "HBoxModel",
      "state": {
       "children": [
        "IPY_MODEL_02cb754e3e004651ab6c53e762d1128d",
        "IPY_MODEL_0a95e6ecfa01453ab18cbdbe999144ec",
        "IPY_MODEL_b806fa74a0d8427ab552366a0cea2a3d",
        "IPY_MODEL_a942835c37f84294a5efd7b4bcbcf2d4"
       ],
       "layout": "IPY_MODEL_1e90b49ab50c4bf29a0f8bf8119c5824"
      }
     },
     "c2ee5789d2034d97a6b2364c15da36f0": {
      "model_module": "@jupyter-widgets/base",
      "model_module_version": "1.2.0",
      "model_name": "LayoutModel",
      "state": {
       "height": "32px",
       "order": "-2",
       "width": "32px"
      }
     },
     "c2eea2c5fd62488c83d52c8f171185ca": {
      "model_module": "@jupyter-widgets/controls",
      "model_module_version": "1.5.0",
      "model_name": "ProgressStyleModel",
      "state": {
       "description_width": ""
      }
     },
     "c2f4276102ea40609d3283c58cd13b6a": {
      "model_module": "@jupyter-widgets/controls",
      "model_module_version": "1.5.0",
      "model_name": "HTMLModel",
      "state": {
       "layout": "IPY_MODEL_796042e77cf34bfd92759175083cac4f",
       "style": "IPY_MODEL_bf565053e014433687b39c1c1a60d4f8",
       "value": "<i>During the Revelry 2019, defeat bosses in the Verdant Forest while wearing at least four pieces of the Inaugural Revelry armor set.</i>"
      }
     },
     "c2ffebbcd617463094b4a0627cfa913f": {
      "model_module": "@jupyter-widgets/base",
      "model_module_version": "1.2.0",
      "model_name": "LayoutModel",
      "state": {
       "height": "32px",
       "overflow": "visible",
       "width": "100%"
      }
     },
     "c307593000bb41a891dc21df48f3c0dc": {
      "model_module": "@jupyter-widgets/base",
      "model_module_version": "1.2.0",
      "model_name": "LayoutModel",
      "state": {
       "order": "-1",
       "overflow": "visible",
       "padding": "1px",
       "width": "0px"
      }
     },
     "c352dad518a840e3b4a475f22965ce06": {
      "model_module": "@jupyter-widgets/controls",
      "model_module_version": "1.5.0",
      "model_name": "ButtonModel",
      "state": {
       "button_style": "success",
       "disabled": true,
       "layout": "IPY_MODEL_4cc7f539f1c74279ba4a33bea9ca6f67",
       "style": "IPY_MODEL_5fc4a03420d24a42a5cc41aa11666107"
      }
     },
     "c37070892d854e56bc7690e42b43ae15": {
      "model_module": "@jupyter-widgets/controls",
      "model_module_version": "1.5.0",
      "model_name": "ButtonStyleModel",
      "state": {}
     },
     "c3742002b9d74a368def726d73add85b": {
      "model_module": "@jupyter-widgets/controls",
      "model_module_version": "1.5.0",
      "model_name": "VBoxModel",
      "state": {
       "children": [
        "IPY_MODEL_94219506402348baa8a06d9880116dae",
        "IPY_MODEL_6a2f5e29fca64b7981b09cd8a361d567",
        "IPY_MODEL_a26e943b468542f78e9ce063ecee66cc",
        "IPY_MODEL_b426a9770f164224b40ef1bf8c6cc9b0"
       ],
       "layout": "IPY_MODEL_15a4686d16b74e41a61c6289ac3d5e18"
      }
     },
     "c38403cae00d4301a93e5efa6c92cd0e": {
      "model_module": "@jupyter-widgets/controls",
      "model_module_version": "1.5.0",
      "model_name": "ProgressStyleModel",
      "state": {
       "description_width": ""
      }
     },
     "c3a7e6b439b64c7191132a292d366f9c": {
      "model_module": "@jupyter-widgets/controls",
      "model_module_version": "1.5.0",
      "model_name": "ProgressStyleModel",
      "state": {
       "description_width": ""
      }
     },
     "c3f00b5a4cf94bfdacea5de9bddfac2f": {
      "model_module": "@jupyter-widgets/controls",
      "model_module_version": "1.5.0",
      "model_name": "DescriptionStyleModel",
      "state": {
       "description_width": ""
      }
     },
     "c48f549e23b24972b14699676749ca3b": {
      "model_module": "@jupyter-widgets/controls",
      "model_module_version": "1.5.0",
      "model_name": "ButtonModel",
      "state": {
       "description": "EDIT",
       "layout": "IPY_MODEL_07ed530755204f0c9c39cd5292934919",
       "style": "IPY_MODEL_a351df0516104ae4a8b34a999259e654"
      }
     },
     "c4966108ecf04cd2b7d92084e5695f07": {
      "model_module": "@jupyter-widgets/base",
      "model_module_version": "1.2.0",
      "model_name": "LayoutModel",
      "state": {
       "display": "none"
      }
     },
     "c4d32edfb3bc4213b542aee3382ae279": {
      "model_module": "@jupyter-widgets/controls",
      "model_module_version": "1.5.0",
      "model_name": "ButtonModel",
      "state": {
       "description": "EDIT",
       "layout": "IPY_MODEL_e93b7a49f44d46e5a9f28f7e0ad9e78d",
       "style": "IPY_MODEL_61d4c76c48b24035b4eb69742020a69e"
      }
     },
     "c4ecb50d737d4851b7c3502344258cce": {
      "model_module": "@jupyter-widgets/controls",
      "model_module_version": "1.5.0",
      "model_name": "VBoxModel",
      "state": {
       "children": [
        "IPY_MODEL_b47540a1fe8e43c2a6e05433f7b21ba1",
        "IPY_MODEL_d1490a929151496897c4392939c6de60",
        "IPY_MODEL_0f8a9bed75264567889f4ce985e4e5f2",
        "IPY_MODEL_14fad39ca7d240be86cb8c6142f3d610"
       ],
       "layout": "IPY_MODEL_12ddc03f9eaf4d619962555aca7e0e6e"
      }
     },
     "c5209098e36248c3bea852e34f857648": {
      "model_module": "@jupyter-widgets/base",
      "model_module_version": "1.2.0",
      "model_name": "LayoutModel",
      "state": {
       "height": "32px",
       "overflow": "visible",
       "width": "100%"
      }
     },
     "c5694f41dda14c8fa23d8843aba7000d": {
      "model_module": "@jupyter-widgets/controls",
      "model_module_version": "1.5.0",
      "model_name": "ProgressStyleModel",
      "state": {
       "description_width": ""
      }
     },
     "c59ea5eca0454a8796a56cd9034a4e3e": {
      "model_module": "@jupyter-widgets/base",
      "model_module_version": "1.2.0",
      "model_name": "LayoutModel",
      "state": {
       "overflow": "visible",
       "width": "100%"
      }
     },
     "c5d406781f6f462eb3c00139b0451c60": {
      "model_module": "@jupyter-widgets/controls",
      "model_module_version": "1.5.0",
      "model_name": "ButtonStyleModel",
      "state": {}
     },
     "c604df63b2464f169e8371308202cabc": {
      "model_module": "@jupyter-widgets/controls",
      "model_module_version": "1.5.0",
      "model_name": "ButtonStyleModel",
      "state": {}
     },
     "c62db1d450684a43af4fb6ce7be99cd1": {
      "model_module": "@jupyter-widgets/controls",
      "model_module_version": "1.5.0",
      "model_name": "HBoxModel",
      "state": {
       "children": [
        "IPY_MODEL_a1a8c258405949aa80289d36936274c8",
        "IPY_MODEL_b35f828055e14f45bbb890046f01519e",
        "IPY_MODEL_9f1426434fdb4bfabc936b223e47b64d",
        "IPY_MODEL_8070b025b5d647e5b66c34dbf6dc4c36"
       ],
       "layout": "IPY_MODEL_e5544fc96ac64022adddb98cc41d7c7c"
      }
     },
     "c6413d4d0a904b8b8a49233b60f28d3c": {
      "model_module": "@jupyter-widgets/controls",
      "model_module_version": "1.5.0",
      "model_name": "ButtonStyleModel",
      "state": {}
     },
     "c651648956814f1c94c7e896534cc882": {
      "model_module": "@jupyter-widgets/controls",
      "model_module_version": "1.5.0",
      "model_name": "ButtonStyleModel",
      "state": {}
     },
     "c688f3c9245b4bd896bca637d1baa9d4": {
      "model_module": "@jupyter-widgets/controls",
      "model_module_version": "1.5.0",
      "model_name": "ProgressStyleModel",
      "state": {
       "description_width": ""
      }
     },
     "c69ab11d742a485a92c564b6a5f9edbb": {
      "model_module": "@jupyter-widgets/base",
      "model_module_version": "1.2.0",
      "model_name": "LayoutModel",
      "state": {
       "height": "32px",
       "order": "-2",
       "width": "32px"
      }
     },
     "c7015501a48e473988c8292141b20810": {
      "model_module": "@jupyter-widgets/controls",
      "model_module_version": "1.5.0",
      "model_name": "DescriptionStyleModel",
      "state": {
       "description_width": ""
      }
     },
     "c706c9b916c9490e90d9d2871e29193e": {
      "model_module": "@jupyter-widgets/base",
      "model_module_version": "1.2.0",
      "model_name": "LayoutModel",
      "state": {
       "height": "32px",
       "order": "-2",
       "width": "32px"
      }
     },
     "c714f1845f5d4596a681432d7af4e593": {
      "model_module": "@jupyter-widgets/base",
      "model_module_version": "1.2.0",
      "model_name": "LayoutModel",
      "state": {
       "height": "32px",
       "order": "-2",
       "width": "32px"
      }
     },
     "c72790956ea54ddbaafded9dbec08159": {
      "model_module": "@jupyter-widgets/base",
      "model_module_version": "1.2.0",
      "model_name": "LayoutModel",
      "state": {
       "height": "32px",
       "overflow": "visible",
       "width": "100%"
      }
     },
     "c77aba113fff43e1a976436a9edd8aca": {
      "model_module": "@jupyter-widgets/controls",
      "model_module_version": "1.5.0",
      "model_name": "IntProgressModel",
      "state": {
       "layout": "IPY_MODEL_7f41ca1c64ab41b98f15452499dbf4bd",
       "style": "IPY_MODEL_2de22f974814485e9b54d7848b52249e",
       "value": 30
      }
     },
     "c78d7c36a00c4dc29692658fdd521cb8": {
      "model_module": "@jupyter-widgets/base",
      "model_module_version": "1.2.0",
      "model_name": "LayoutModel",
      "state": {
       "height": "32px",
       "order": "-2",
       "width": "32px"
      }
     },
     "c79b28850e024806b0db74114fba44e9": {
      "model_module": "@jupyter-widgets/controls",
      "model_module_version": "1.5.0",
      "model_name": "HBoxModel",
      "state": {
       "children": [
        "IPY_MODEL_8829960ac5fb4705a7187e59ad5d9d54",
        "IPY_MODEL_8323388623f8454a977b3a33fde6a228",
        "IPY_MODEL_07044537a3924fb5a16fbbbf32fbaee6",
        "IPY_MODEL_64a4ba1c9ef64ee69856791c2b0c49b0"
       ],
       "layout": "IPY_MODEL_304336c5d693485c99ec1ca92e00bbc7"
      }
     },
     "c79b8254404f412e85bd1516f8549a3c": {
      "model_module": "@jupyter-widgets/controls",
      "model_module_version": "1.5.0",
      "model_name": "ButtonModel",
      "state": {
       "button_style": "success",
       "description": "EDIT",
       "layout": "IPY_MODEL_8ba1d179d7ad4863ba4f0443c9c89cd0",
       "style": "IPY_MODEL_bece198d81e04229af71366afba7bfcf"
      }
     },
     "c7b944f940d34190b0406144c1b7868b": {
      "model_module": "@jupyter-widgets/controls",
      "model_module_version": "1.5.0",
      "model_name": "IntProgressModel",
      "state": {
       "layout": "IPY_MODEL_49ac3c20d86d472f99c432d05f7f22a5",
       "style": "IPY_MODEL_d98878c7668f4cc9b30a39755b5c21a9",
       "value": 30
      }
     },
     "c7e74597f23248bebeff6fe0efbeaf38": {
      "model_module": "@jupyter-widgets/controls",
      "model_module_version": "1.5.0",
      "model_name": "ProgressStyleModel",
      "state": {
       "description_width": ""
      }
     },
     "c7eef7ab9d254631a407a2e4a699ef3e": {
      "model_module": "@jupyter-widgets/base",
      "model_module_version": "1.2.0",
      "model_name": "LayoutModel",
      "state": {
       "display": "flex"
      }
     },
     "c83c30f5f6f04ad39fab1b7d17882be0": {
      "model_module": "@jupyter-widgets/base",
      "model_module_version": "1.2.0",
      "model_name": "LayoutModel",
      "state": {}
     },
     "c8415b5806964fa5af3349c418c48bb3": {
      "model_module": "@jupyter-widgets/base",
      "model_module_version": "1.2.0",
      "model_name": "LayoutModel",
      "state": {
       "order": "-1",
       "overflow": "visible",
       "padding": "1px",
       "width": "0px"
      }
     },
     "c84c4c6a6c834bacac6685244e515da2": {
      "model_module": "@jupyter-widgets/controls",
      "model_module_version": "1.5.0",
      "model_name": "ButtonStyleModel",
      "state": {}
     },
     "c85e918bef094591818e81f59923e988": {
      "model_module": "@jupyter-widgets/base",
      "model_module_version": "1.2.0",
      "model_name": "LayoutModel",
      "state": {}
     },
     "c8768cdaeac34bdabe959ed7f62a62a1": {
      "model_module": "@jupyter-widgets/controls",
      "model_module_version": "1.5.0",
      "model_name": "VBoxModel",
      "state": {
       "children": [
        "IPY_MODEL_029fe55345b549e1829483080398831b",
        "IPY_MODEL_4fee7373d1ea4e62a66ecd1ec7da5803",
        "IPY_MODEL_18e457d905774f7ca5c2f6cc82df1713",
        "IPY_MODEL_49baf8186ef441e6b43d21ce6953a5ef",
        "IPY_MODEL_fe5d1aab527844f3bae1b514e6f08be9",
        "IPY_MODEL_fc69a01963aa4c9e91adabd9abc3fc95"
       ],
       "layout": "IPY_MODEL_aad6802b7448492bbd3c9718e5d57057"
      }
     },
     "c88c76f8e623427dba0ac299bd786e13": {
      "model_module": "@jupyter-widgets/controls",
      "model_module_version": "1.5.0",
      "model_name": "HTMLModel",
      "state": {
       "layout": "IPY_MODEL_c59ea5eca0454a8796a56cd9034a4e3e",
       "style": "IPY_MODEL_14ba4bbca8f443c087bfc64e029c88b0",
       "value": "<font size=\"5\"><b>Time Lapse</b></font size=>"
      }
     },
     "c8b05098616c47f8aa32ab09b7c717b7": {
      "model_module": "@jupyter-widgets/controls",
      "model_module_version": "1.5.0",
      "model_name": "HTMLModel",
      "state": {
       "layout": "IPY_MODEL_b5f7720432944eed912caf1b5016922e",
       "style": "IPY_MODEL_e8005dc6e3444d6085b27ddfbbc7b6a1",
       "value": "<font size=\"5\"><b>Become Legend</b></font size=>"
      }
     },
     "c8e4df4f1b6841aaa42790be270a365f": {
      "model_module": "@jupyter-widgets/controls",
      "model_module_version": "1.5.0",
      "model_name": "DropdownModel",
      "state": {
       "_options_labels": [
        "Any"
       ],
       "disabled": true,
       "index": 0,
       "layout": "IPY_MODEL_8cc9e95fc27a4d419a863e3cc4a81363",
       "style": "IPY_MODEL_a3190f4c5f0a46b385ac1e48b903d637"
      }
     },
     "c9ea17660be5462faaff20f86b8c8b68": {
      "model_module": "@jupyter-widgets/base",
      "model_module_version": "1.2.0",
      "model_name": "LayoutModel",
      "state": {}
     },
     "ca105abe949449c9b54400a191bacc9f": {
      "model_module": "@jupyter-widgets/controls",
      "model_module_version": "1.5.0",
      "model_name": "ProgressStyleModel",
      "state": {
       "description_width": ""
      }
     },
     "ca68fff90cec48ddac0a33b4f79c8c24": {
      "model_module": "@jupyter-widgets/controls",
      "model_module_version": "1.5.0",
      "model_name": "ButtonStyleModel",
      "state": {}
     },
     "cac43cd5146c40e78fc1de583979a9dc": {
      "model_module": "@jupyter-widgets/base",
      "model_module_version": "1.2.0",
      "model_name": "LayoutModel",
      "state": {
       "display": "none",
       "width": "95%"
      }
     },
     "cae9c244c57f458dbc34a249acc6f07f": {
      "model_module": "@jupyter-widgets/controls",
      "model_module_version": "1.5.0",
      "model_name": "ButtonModel",
      "state": {
       "description": "EDIT",
       "layout": "IPY_MODEL_65cfa2b63b4f48aaa9c7cccd72f59364",
       "style": "IPY_MODEL_9fd4c47ea27b40d69ac85273fe8f5613"
      }
     },
     "cb477c66116d400ba45a58fd0c45d265": {
      "model_module": "@jupyter-widgets/controls",
      "model_module_version": "1.5.0",
      "model_name": "DescriptionStyleModel",
      "state": {
       "description_width": ""
      }
     },
     "cb6b1f890f48494cb9c6cc72a8792a6e": {
      "model_module": "@jupyter-widgets/controls",
      "model_module_version": "1.5.0",
      "model_name": "ButtonModel",
      "state": {
       "layout": "IPY_MODEL_6340334375214ac0ba4d29a4910f12a1",
       "style": "IPY_MODEL_8b3c783d88cd41ccb72253ad1050af74"
      }
     },
     "cb6d88e9b1e240fcbfcc3f6c011feeae": {
      "model_module": "@jupyter-widgets/controls",
      "model_module_version": "1.5.0",
      "model_name": "ButtonStyleModel",
      "state": {}
     },
     "cb8c05fbb710417cb387ce32043ef1f9": {
      "model_module": "@jupyter-widgets/base",
      "model_module_version": "1.2.0",
      "model_name": "LayoutModel",
      "state": {
       "display": "none",
       "width": "60px"
      }
     },
     "cbe5b2c2c5ba4008aa48266867b9a692": {
      "model_module": "@jupyter-widgets/base",
      "model_module_version": "1.2.0",
      "model_name": "LayoutModel",
      "state": {
       "height": "32px",
       "order": "-2",
       "width": "32px"
      }
     },
     "cbf8be40d7084863ab7b77dcc28648b7": {
      "model_module": "@jupyter-widgets/controls",
      "model_module_version": "1.5.0",
      "model_name": "DropdownModel",
      "state": {
       "_options_labels": [
        "Any",
        "Patrol",
        "Gambit",
        "Reckoning",
        "Menagerie",
        "Vex Offensive",
        "Raid",
        "Strike",
        "Nightfall",
        "Crucible",
        "Forge"
       ],
       "index": 0,
       "layout": "IPY_MODEL_dfd5c6303e934458b6257be1b14f92ef",
       "style": "IPY_MODEL_c0858ccb5b534c8fb3ece8201ccb241e"
      }
     },
     "cc0c4b0ff81d47acb8b2ef11707fc249": {
      "model_module": "@jupyter-widgets/controls",
      "model_module_version": "1.5.0",
      "model_name": "DescriptionStyleModel",
      "state": {
       "description_width": ""
      }
     },
     "cc2d2465522d4b9094f29e1c3a03d3c5": {
      "model_module": "@jupyter-widgets/controls",
      "model_module_version": "1.5.0",
      "model_name": "ButtonModel",
      "state": {
       "description": "EDIT",
       "layout": "IPY_MODEL_aeabd65b6d444ccdb1ca30ca9fd30ca3",
       "style": "IPY_MODEL_ab14e98f04a740c5a62d25c9922618d6"
      }
     },
     "cc2e22c1a45a43019982f5ddf63f28d2": {
      "model_module": "@jupyter-widgets/controls",
      "model_module_version": "1.5.0",
      "model_name": "ProgressStyleModel",
      "state": {
       "description_width": ""
      }
     },
     "cc3ce319fb7a48fb8ebdb9cdcfc3e340": {
      "model_module": "@jupyter-widgets/base",
      "model_module_version": "1.2.0",
      "model_name": "LayoutModel",
      "state": {
       "width": "95%"
      }
     },
     "cc481ca59f0e4a37acb1841d7dd1d00b": {
      "model_module": "@jupyter-widgets/base",
      "model_module_version": "1.2.0",
      "model_name": "LayoutModel",
      "state": {
       "order": "-1",
       "overflow": "visible",
       "padding": "1px",
       "width": "0px"
      }
     },
     "cc8ea0aaae0f481c9168e2f62ef661ad": {
      "model_module": "@jupyter-widgets/controls",
      "model_module_version": "1.5.0",
      "model_name": "LabelModel",
      "state": {
       "layout": "IPY_MODEL_5fba5c744e6d4a99b58322906d2ad1a1",
       "style": "IPY_MODEL_46b4070d2b7140abb7b96fea27c68b9d",
       "value": "   objective"
      }
     },
     "cca668602d3d46558d4a5a467c34bb10": {
      "model_module": "@jupyter-widgets/controls",
      "model_module_version": "1.5.0",
      "model_name": "ButtonStyleModel",
      "state": {}
     },
     "cce7e208d5034cffabe58a520e1d6719": {
      "model_module": "@jupyter-widgets/base",
      "model_module_version": "1.2.0",
      "model_name": "LayoutModel",
      "state": {
       "height": "32px",
       "order": "-2",
       "width": "32px"
      }
     },
     "cd24057e96d743748c23299f52f02b96": {
      "model_module": "@jupyter-widgets/controls",
      "model_module_version": "1.5.0",
      "model_name": "ButtonStyleModel",
      "state": {}
     },
     "cd4c8f374d324bd9bcdc7e8f8ae65652": {
      "model_module": "@jupyter-widgets/base",
      "model_module_version": "1.2.0",
      "model_name": "LayoutModel",
      "state": {}
     },
     "cdb180c93ad34f07acc10ab8b3ca55f8": {
      "model_module": "@jupyter-widgets/controls",
      "model_module_version": "1.5.0",
      "model_name": "ButtonStyleModel",
      "state": {}
     },
     "cde0fc39e4eb44c0a91c3f18c9d13b63": {
      "model_module": "@jupyter-widgets/base",
      "model_module_version": "1.2.0",
      "model_name": "LayoutModel",
      "state": {}
     },
     "cde6b0c075714efa9fdffceb5e7cb6fa": {
      "model_module": "@jupyter-widgets/base",
      "model_module_version": "1.2.0",
      "model_name": "LayoutModel",
      "state": {}
     },
     "cdf75359562a43eaad4962aa93388c59": {
      "model_module": "@jupyter-widgets/controls",
      "model_module_version": "1.5.0",
      "model_name": "ProgressStyleModel",
      "state": {
       "description_width": ""
      }
     },
     "cdfe845a4355414ba3e7704cec9cfd42": {
      "model_module": "@jupyter-widgets/controls",
      "model_module_version": "1.5.0",
      "model_name": "TextModel",
      "state": {
       "description": "Code:",
       "layout": "IPY_MODEL_3878341b7e234bcc85ee509c6dc64bf1",
       "style": "IPY_MODEL_528a1a2ae6cc4d0a89774c49f07cc092",
       "value": "32246bdbd034db166ea3920d6dd7fde2"
      }
     },
     "ce07cb718ead45e3b51a8027b1f63dff": {
      "model_module": "@jupyter-widgets/base",
      "model_module_version": "1.2.0",
      "model_name": "LayoutModel",
      "state": {}
     },
     "ce15350e4b8b4618a177ece342d911eb": {
      "model_module": "@jupyter-widgets/controls",
      "model_module_version": "1.5.0",
      "model_name": "HTMLModel",
      "state": {
       "layout": "IPY_MODEL_518a9045859b4f4c8d9a92f9082bcb48",
       "style": "IPY_MODEL_e317ae1cb8e24f598715c061e00339d2",
       "value": "<i>Achieve a Glory rank of \"Legend\" in any season.</i>"
      }
     },
     "ce1abfc815334055a1de3da5c379a64b": {
      "model_module": "@jupyter-widgets/controls",
      "model_module_version": "1.5.0",
      "model_name": "IntProgressModel",
      "state": {
       "layout": "IPY_MODEL_83bf3c79d7d24796af93dbef0d9973c4",
       "style": "IPY_MODEL_27d49a1d73294c4daa10b5970ab293d9",
       "value": 30
      }
     },
     "ce20f4cf4a614ede9a957b4f4800378c": {
      "model_module": "@jupyter-widgets/controls",
      "model_module_version": "1.5.0",
      "model_name": "HBoxModel",
      "state": {
       "children": [
        "IPY_MODEL_a7c4453abe1a446d91ff6bb858f85c64",
        "IPY_MODEL_272f2a8f22784694b74f1b5d624a97a9",
        "IPY_MODEL_fd9d3ba073ec42b3aa6a9e0ae3f9a3a8",
        "IPY_MODEL_c4d32edfb3bc4213b542aee3382ae279"
       ],
       "layout": "IPY_MODEL_969d912523b64acfbe26e1c6afd0a976"
      }
     },
     "ce5bc466fe5444a3b90ad9b041c32299": {
      "model_module": "@jupyter-widgets/base",
      "model_module_version": "1.2.0",
      "model_name": "LayoutModel",
      "state": {
       "display": "none"
      }
     },
     "ce69495e78e74ad8839a7c9e5d7760b3": {
      "model_module": "@jupyter-widgets/controls",
      "model_module_version": "1.5.0",
      "model_name": "LabelModel",
      "state": {
       "layout": "IPY_MODEL_2a9f22f806ec48c5866cca9e7fd2f402",
       "style": "IPY_MODEL_5bbf5f4c59ab438d86b2472c42eda92d",
       "value": "   objective"
      }
     },
     "ce7d5c1901774ba7b8a3ca3a0ddb78d1": {
      "model_module": "@jupyter-widgets/base",
      "model_module_version": "1.2.0",
      "model_name": "LayoutModel",
      "state": {
       "display": "none",
       "width": "60px"
      }
     },
     "ce8185439e31480990c9ce726fa214cb": {
      "model_module": "@jupyter-widgets/controls",
      "model_module_version": "1.5.0",
      "model_name": "VBoxModel",
      "state": {
       "children": [
        "IPY_MODEL_ad823225104a4d87b39bdc32c19e2531",
        "IPY_MODEL_6f0cca5628614397af56faa92830edc2",
        "IPY_MODEL_10c07c2dbb2c4dd79589919a20c9aef8",
        "IPY_MODEL_d6301c4e3cea4e1caa6cda8dfdabfb13"
       ],
       "layout": "IPY_MODEL_cfc11a396b454031b0e51ccdd1aea444"
      }
     },
     "ce86beaecef74c5c9c602183aec76904": {
      "model_module": "@jupyter-widgets/controls",
      "model_module_version": "1.5.0",
      "model_name": "LabelModel",
      "state": {
       "layout": "IPY_MODEL_6b6a57723d904446836283f0b7098953",
       "style": "IPY_MODEL_b4b9007a16e94af5a0b462b815e9407b",
       "value": "   objective"
      }
     },
     "ce8a109ab54747e687752db3ef9d69c4": {
      "model_module": "@jupyter-widgets/controls",
      "model_module_version": "1.5.0",
      "model_name": "ButtonStyleModel",
      "state": {}
     },
     "ce9027d607d548c385c0fc3fcd89c7a3": {
      "model_module": "@jupyter-widgets/controls",
      "model_module_version": "1.5.0",
      "model_name": "ProgressStyleModel",
      "state": {
       "description_width": ""
      }
     },
     "ceb2e80dae6b47969dac727117d84162": {
      "model_module": "@jupyter-widgets/controls",
      "model_module_version": "1.5.0",
      "model_name": "VBoxModel",
      "state": {
       "children": [
        "IPY_MODEL_0dc34a77a0a94de984b77823f2a7a893",
        "IPY_MODEL_2f86cf4049ba41cb8bfa89e8f30b953c",
        "IPY_MODEL_52d547ee37a24ad686f7e97c0cfe8298",
        "IPY_MODEL_c240b2159369498a84cd19061bde1244",
        "IPY_MODEL_c1285fe2748a4c33b401eace2daef3fe",
        "IPY_MODEL_e71665822a4248a18de8f79e6fec03e8"
       ],
       "layout": "IPY_MODEL_05cd8f3e5b624074a1c69006dfbb44ad"
      }
     },
     "ced97339f0f24007865afdc406f607ef": {
      "model_module": "@jupyter-widgets/controls",
      "model_module_version": "1.5.0",
      "model_name": "ButtonModel",
      "state": {
       "description": "EDIT",
       "layout": "IPY_MODEL_39fab35eded944f7a700fafd8faede66",
       "style": "IPY_MODEL_4a1f9837a8af454b86bea4f2202c0154"
      }
     },
     "cee2ca9494d843fd873c9aaf70c6e083": {
      "model_module": "@jupyter-widgets/controls",
      "model_module_version": "1.5.0",
      "model_name": "ButtonStyleModel",
      "state": {}
     },
     "cf2f233fff9641279053e21e045de4a3": {
      "model_module": "@jupyter-widgets/controls",
      "model_module_version": "1.5.0",
      "model_name": "LabelModel",
      "state": {
       "layout": "IPY_MODEL_658bff5bf8b44086bf72917d8424f900",
       "style": "IPY_MODEL_ffb45d3edf2a496b98d67839d07f88a8",
       "value": "Filter Tasks"
      }
     },
     "cf3423ff5b4049218da5fc199c46fb84": {
      "model_module": "@jupyter-widgets/controls",
      "model_module_version": "1.5.0",
      "model_name": "HBoxModel",
      "state": {
       "children": [
        "IPY_MODEL_e215d12954124e218f8ea20c94f3aec3",
        "IPY_MODEL_b652380aeace4a3ba3663e1441f2ea44",
        "IPY_MODEL_77b5c368013c452da98a91ae5836c85f",
        "IPY_MODEL_a752fd83f6464c50b251ab6f3f56f57c"
       ],
       "layout": "IPY_MODEL_8ba6d4a6bf1546dc88471e295ed4f8f4"
      }
     },
     "cf489039acdc4bc4bfd208442c3bd03e": {
      "model_module": "@jupyter-widgets/base",
      "model_module_version": "1.2.0",
      "model_name": "LayoutModel",
      "state": {
       "width": "100px"
      }
     },
     "cf97b9fb9a1a4ce885fbaa7338768616": {
      "model_module": "@jupyter-widgets/base",
      "model_module_version": "1.2.0",
      "model_name": "LayoutModel",
      "state": {}
     },
     "cfc11a396b454031b0e51ccdd1aea444": {
      "model_module": "@jupyter-widgets/base",
      "model_module_version": "1.2.0",
      "model_name": "LayoutModel",
      "state": {
       "border": "3px solid white",
       "display": "flex",
       "flex": "1 1 0%",
       "margin": "10px",
       "min_width": "400px",
       "overflow": "visible",
       "padding": "10px",
       "width": "auto"
      }
     },
     "cfca0150bae64c25811437cd37d13c22": {
      "model_module": "@jupyter-widgets/controls",
      "model_module_version": "1.5.0",
      "model_name": "VBoxModel",
      "state": {
       "children": [
        "IPY_MODEL_22477978badf452cb28d8e3971fe1568",
        "IPY_MODEL_2feb720601324293a64e377045dd7c5d",
        "IPY_MODEL_909d484c59324e15bf32df73038ad9ba",
        "IPY_MODEL_0b67040ab86145809dd3c1f3f77772fb",
        "IPY_MODEL_6c8ad5141bde4101b9d2c04b00a71d81",
        "IPY_MODEL_5cfdae71bf0c49b7b8bb744b8c967c03"
       ],
       "layout": "IPY_MODEL_16b37c2ee21f4123a9dc6a84462a9abe"
      }
     },
     "cffebec2346e40ed9f42e7633d8ab550": {
      "model_module": "@jupyter-widgets/controls",
      "model_module_version": "1.5.0",
      "model_name": "HBoxModel",
      "state": {
       "children": [
        "IPY_MODEL_99b05d7bd8184cd8af73ba61d155041b",
        "IPY_MODEL_316f444ae5904e8f96e3d42ef59b04fa",
        "IPY_MODEL_8bceca97eab9473299cf8081600c4685",
        "IPY_MODEL_423c997bb4a64732a27ae5592dc5bd80"
       ],
       "layout": "IPY_MODEL_abed37b117a4484eaec473330f6f2cca"
      }
     },
     "d00f1ee2581f4378bdb54f4293c5eeba": {
      "model_module": "@jupyter-widgets/controls",
      "model_module_version": "1.5.0",
      "model_name": "ProgressStyleModel",
      "state": {
       "description_width": ""
      }
     },
     "d01140ac96da40f79463857d86d130e2": {
      "model_module": "@jupyter-widgets/base",
      "model_module_version": "1.2.0",
      "model_name": "LayoutModel",
      "state": {
       "display": "none",
       "width": "60px"
      }
     },
     "d0482847204f44bf87133074ce41c1cc": {
      "model_module": "@jupyter-widgets/base",
      "model_module_version": "1.2.0",
      "model_name": "LayoutModel",
      "state": {
       "height": "32px",
       "order": "-2",
       "width": "32px"
      }
     },
     "d080dd9caf5e4ddfaa5e277518d35e8f": {
      "model_module": "@jupyter-widgets/base",
      "model_module_version": "1.2.0",
      "model_name": "LayoutModel",
      "state": {
       "display": "flex",
       "flex_flow": "row wrap"
      }
     },
     "d0d3ad302e844a93839dfe98e9b6418e": {
      "model_module": "@jupyter-widgets/base",
      "model_module_version": "1.2.0",
      "model_name": "LayoutModel",
      "state": {
       "display": "none"
      }
     },
     "d0e0c2dcb4f74991a2306dad9c2dd184": {
      "model_module": "@jupyter-widgets/controls",
      "model_module_version": "1.5.0",
      "model_name": "HBoxModel",
      "state": {
       "children": [
        "IPY_MODEL_e9e18802dfb64713b84494a3f0d86e6a",
        "IPY_MODEL_f7ce20a271fc4b11b7884c84029af465",
        "IPY_MODEL_6c78e64fcfb64aa5b09f89248ff68ace",
        "IPY_MODEL_f7e3386e9f1941b9ac05b85f41ccbd31"
       ],
       "layout": "IPY_MODEL_c1894ad505f04b0abdf5e15e87d30835"
      }
     },
     "d0ed8a555fe8461c90a12a9a8c0c7e73": {
      "model_module": "@jupyter-widgets/controls",
      "model_module_version": "1.5.0",
      "model_name": "ProgressStyleModel",
      "state": {
       "description_width": ""
      }
     },
     "d1490a929151496897c4392939c6de60": {
      "model_module": "@jupyter-widgets/controls",
      "model_module_version": "1.5.0",
      "model_name": "HTMLModel",
      "state": {
       "layout": "IPY_MODEL_aa5b3028a92c40d38d2adb49291bfb36",
       "style": "IPY_MODEL_349aab7027a44b9ea3b5db07635c620f",
       "value": "<font size=\"5\"><b>A Desperate Ploy</b></font size=>"
      }
     },
     "d14c343e9c984f398f3e717459dcc695": {
      "model_module": "@jupyter-widgets/controls",
      "model_module_version": "1.5.0",
      "model_name": "ButtonModel",
      "state": {
       "description": "EDIT",
       "layout": "IPY_MODEL_661c5397be1e44368e64291acf01be4c",
       "style": "IPY_MODEL_31c3c5db6cb9418cadbf2504959866db"
      }
     },
     "d179e12dee33471eadbd968dbdc7a29f": {
      "model_module": "@jupyter-widgets/controls",
      "model_module_version": "1.5.0",
      "model_name": "DescriptionStyleModel",
      "state": {
       "description_width": ""
      }
     },
     "d1872b397f63425385c3834886b96f95": {
      "model_module": "@jupyter-widgets/base",
      "model_module_version": "1.2.0",
      "model_name": "LayoutModel",
      "state": {
       "display": "none"
      }
     },
     "d187ed6d1393406bb671877559e31fec": {
      "model_module": "@jupyter-widgets/base",
      "model_module_version": "1.2.0",
      "model_name": "LayoutModel",
      "state": {
       "height": "32px",
       "order": "-2",
       "width": "32px"
      }
     },
     "d211fa47d0a54588a6eac435cf685e0b": {
      "model_module": "@jupyter-widgets/base",
      "model_module_version": "1.2.0",
      "model_name": "LayoutModel",
      "state": {
       "height": "32px",
       "order": "-2",
       "width": "32px"
      }
     },
     "d22add1ddcb44469b59e65d391fd3124": {
      "model_module": "@jupyter-widgets/controls",
      "model_module_version": "1.5.0",
      "model_name": "DescriptionStyleModel",
      "state": {
       "description_width": ""
      }
     },
     "d269193a275744e2883923e4cdd62c9f": {
      "model_module": "@jupyter-widgets/base",
      "model_module_version": "1.2.0",
      "model_name": "LayoutModel",
      "state": {
       "height": "32px",
       "overflow": "visible",
       "width": "100%"
      }
     },
     "d273b0f0d2d94718a42cf62e5b9c3f86": {
      "model_module": "@jupyter-widgets/base",
      "model_module_version": "1.2.0",
      "model_name": "LayoutModel",
      "state": {
       "display": "none"
      }
     },
     "d29517a1ade4448a964ffbe7fea8baa0": {
      "model_module": "@jupyter-widgets/base",
      "model_module_version": "1.2.0",
      "model_name": "LayoutModel",
      "state": {
       "height": "32px",
       "overflow": "visible",
       "width": "100%"
      }
     },
     "d2d9a9cab75a494eba2776a3b9f81544": {
      "model_module": "@jupyter-widgets/controls",
      "model_module_version": "1.5.0",
      "model_name": "DescriptionStyleModel",
      "state": {
       "description_width": ""
      }
     },
     "d30b969069ec439b910ec638cfb25a9d": {
      "model_module": "@jupyter-widgets/base",
      "model_module_version": "1.2.0",
      "model_name": "LayoutModel",
      "state": {
       "order": "-1",
       "overflow": "visible",
       "padding": "1px",
       "width": "0px"
      }
     },
     "d3136a5e272f4589a89ddf23be9b420b": {
      "model_module": "@jupyter-widgets/controls",
      "model_module_version": "1.5.0",
      "model_name": "DescriptionStyleModel",
      "state": {
       "description_width": ""
      }
     },
     "d326b049bf3649699e0fca5541f63400": {
      "model_module": "@jupyter-widgets/controls",
      "model_module_version": "1.5.0",
      "model_name": "HBoxModel",
      "state": {
       "children": [
        "IPY_MODEL_5d2df4f61f194159bc43dfef23fe75ab",
        "IPY_MODEL_8faabf225d24408d9ea300580ec7d4f0",
        "IPY_MODEL_b139faa4f95b4376977d8aec5c773958",
        "IPY_MODEL_ed767c32cfac48878011fba4c347a084"
       ],
       "layout": "IPY_MODEL_d41982eb34234c0b94a848756f5d998e"
      }
     },
     "d32e419059a54ef0a30c529e3c4c853b": {
      "model_module": "@jupyter-widgets/controls",
      "model_module_version": "1.5.0",
      "model_name": "IntProgressModel",
      "state": {
       "layout": "IPY_MODEL_d7648dff40f44d159e10cbfa391e0bd9",
       "style": "IPY_MODEL_0eec337c135f4d6485d3ecc44c9bcb16",
       "value": 30
      }
     },
     "d3429de3f0ff416a86b94e90c5e2da0c": {
      "model_module": "@jupyter-widgets/controls",
      "model_module_version": "1.5.0",
      "model_name": "HTMLModel",
      "state": {
       "layout": "IPY_MODEL_31aa6965d2804d8583314710eaddd8a4",
       "style": "IPY_MODEL_b678908e3eec4cef8bb659d569ab821e",
       "value": "<b>Weapon Requirements</b>"
      }
     },
     "d39afc7cc2ee49cda285a97af512b73e": {
      "model_module": "@jupyter-widgets/base",
      "model_module_version": "1.2.0",
      "model_name": "LayoutModel",
      "state": {
       "display": "flex",
       "flex_flow": "row wrap"
      }
     },
     "d3a8187dafa04231b59c9340186f3003": {
      "model_module": "@jupyter-widgets/controls",
      "model_module_version": "1.5.0",
      "model_name": "DescriptionStyleModel",
      "state": {
       "description_width": ""
      }
     },
     "d3e600dedd5b4100969ec8f81a6bb3e3": {
      "model_module": "@jupyter-widgets/controls",
      "model_module_version": "1.5.0",
      "model_name": "LabelModel",
      "state": {
       "layout": "IPY_MODEL_58280e71bb534094b44229ce9e2fe149",
       "style": "IPY_MODEL_84edca33df2f4bfb9c015008588fbd24",
       "value": "   objective"
      }
     },
     "d3fa00da597946eaa528c158bf3758e6": {
      "model_module": "@jupyter-widgets/base",
      "model_module_version": "1.2.0",
      "model_name": "LayoutModel",
      "state": {
       "height": "32px",
       "overflow": "visible",
       "width": "100%"
      }
     },
     "d410a7e3145c413b8c54929ad3d5a0a6": {
      "model_module": "@jupyter-widgets/base",
      "model_module_version": "1.2.0",
      "model_name": "LayoutModel",
      "state": {
       "justify_items": "center",
       "padding": "5px",
       "width": "200px"
      }
     },
     "d41982eb34234c0b94a848756f5d998e": {
      "model_module": "@jupyter-widgets/base",
      "model_module_version": "1.2.0",
      "model_name": "LayoutModel",
      "state": {
       "display": "flex"
      }
     },
     "d41fdaf17fd044fe815315d5221f305c": {
      "model_module": "@jupyter-widgets/controls",
      "model_module_version": "1.5.0",
      "model_name": "DescriptionStyleModel",
      "state": {
       "description_width": ""
      }
     },
     "d4664b4ada734ad19898a5680593439b": {
      "model_module": "@jupyter-widgets/controls",
      "model_module_version": "1.5.0",
      "model_name": "ProgressStyleModel",
      "state": {
       "description_width": ""
      }
     },
     "d47d83634f92436e81a9e5e782eaa0b6": {
      "model_module": "@jupyter-widgets/base",
      "model_module_version": "1.2.0",
      "model_name": "LayoutModel",
      "state": {
       "overflow": "visible",
       "width": "100%"
      }
     },
     "d4b08364a7d34761849f910d494be4de": {
      "model_module": "@jupyter-widgets/base",
      "model_module_version": "1.2.0",
      "model_name": "LayoutModel",
      "state": {
       "height": "32px",
       "overflow": "visible",
       "width": "100%"
      }
     },
     "d4c29df77f9a43a8bcf6141e0c086a38": {
      "model_module": "@jupyter-widgets/base",
      "model_module_version": "1.2.0",
      "model_name": "LayoutModel",
      "state": {
       "border": "1px solid white",
       "min_width": "250px",
       "padding": "10px",
       "width": "15%"
      }
     },
     "d4ebc3a50f144e3485732f4e2575f72d": {
      "model_module": "@jupyter-widgets/base",
      "model_module_version": "1.2.0",
      "model_name": "LayoutModel",
      "state": {
       "display": "none"
      }
     },
     "d531b743b19a4fd38918beacd6addd2a": {
      "model_module": "@jupyter-widgets/controls",
      "model_module_version": "1.5.0",
      "model_name": "ButtonStyleModel",
      "state": {}
     },
     "d53ab0b7ea124bbea4a0d2f7a3e298d8": {
      "model_module": "@jupyter-widgets/controls",
      "model_module_version": "1.5.0",
      "model_name": "ProgressStyleModel",
      "state": {
       "description_width": ""
      }
     },
     "d546eb48095b4c16805b35d59f13d9f9": {
      "model_module": "@jupyter-widgets/controls",
      "model_module_version": "1.5.0",
      "model_name": "IntProgressModel",
      "state": {
       "layout": "IPY_MODEL_e7471d9f1d7249cfb70b6c9423192d48",
       "style": "IPY_MODEL_f58426fe48d747c8a60025278cf26825",
       "value": 30
      }
     },
     "d6301c4e3cea4e1caa6cda8dfdabfb13": {
      "model_module": "@jupyter-widgets/controls",
      "model_module_version": "1.5.0",
      "model_name": "VBoxModel",
      "state": {
       "children": [
        "IPY_MODEL_b76ddb656cda40ca9f154b4bef6ddfaa",
        "IPY_MODEL_99c7b85e8d0044a2b75af941fe60cd9b",
        "IPY_MODEL_d0e0c2dcb4f74991a2306dad9c2dd184",
        "IPY_MODEL_8e27e096ed6747ba9b62589821f743e7",
        "IPY_MODEL_a47f5967490e4e548ef6eb2ebe904f8c",
        "IPY_MODEL_710cc3841d1642a9ba2116487da7ddc4"
       ],
       "layout": "IPY_MODEL_2356c4081666496db761af0393bf80f3"
      }
     },
     "d641ef3185c7425695f66d664472eb5a": {
      "model_module": "@jupyter-widgets/controls",
      "model_module_version": "1.5.0",
      "model_name": "ButtonStyleModel",
      "state": {}
     },
     "d652c5b356da4480aaf7dd43675b6f37": {
      "model_module": "@jupyter-widgets/base",
      "model_module_version": "1.2.0",
      "model_name": "LayoutModel",
      "state": {
       "display": "none"
      }
     },
     "d69d5a424b984860ac6e799f569374b4": {
      "model_module": "@jupyter-widgets/base",
      "model_module_version": "1.2.0",
      "model_name": "LayoutModel",
      "state": {
       "display": "none",
       "width": "60px"
      }
     },
     "d6eb0ec38a924a0b8421111a1097bfa7": {
      "model_module": "@jupyter-widgets/base",
      "model_module_version": "1.2.0",
      "model_name": "LayoutModel",
      "state": {
       "height": "32px",
       "overflow": "visible",
       "width": "100%"
      }
     },
     "d7067c6487fe4dc5889e9705a2190ed2": {
      "model_module": "@jupyter-widgets/controls",
      "model_module_version": "1.5.0",
      "model_name": "HBoxModel",
      "state": {
       "children": [
        "IPY_MODEL_89994e0b8751483ca141c93d53c8b3fa",
        "IPY_MODEL_81bd072d29bc4b2ab4822ea3ddb43be7",
        "IPY_MODEL_1d18cd39dbaf439eb4d8ab5790d1145c",
        "IPY_MODEL_10b413a23f2242faaa90fe73d45e07d3"
       ],
       "layout": "IPY_MODEL_1660f9a1849d4e7dbcac119d37d05d5e"
      }
     },
     "d7469124a784409e80700a51719e0e75": {
      "model_module": "@jupyter-widgets/controls",
      "model_module_version": "1.5.0",
      "model_name": "ProgressStyleModel",
      "state": {
       "description_width": ""
      }
     },
     "d76184ee5391411cbf026e0175de90f6": {
      "model_module": "@jupyter-widgets/controls",
      "model_module_version": "1.5.0",
      "model_name": "ProgressStyleModel",
      "state": {
       "description_width": ""
      }
     },
     "d7648dff40f44d159e10cbfa391e0bd9": {
      "model_module": "@jupyter-widgets/base",
      "model_module_version": "1.2.0",
      "model_name": "LayoutModel",
      "state": {
       "height": "32px",
       "overflow": "visible",
       "width": "100%"
      }
     },
     "d7673dd7ff5b496d9ce8f41808254b28": {
      "model_module": "@jupyter-widgets/controls",
      "model_module_version": "1.5.0",
      "model_name": "HBoxModel",
      "state": {
       "children": [
        "IPY_MODEL_44acd268ccae4f3a9daf8735042d7745",
        "IPY_MODEL_c0f16df21d204086920ff54c4da3c53c",
        "IPY_MODEL_0dbd5f60a7df4e10898a93580e3875fb",
        "IPY_MODEL_a19f826f08c4419a996a63297d217dc3"
       ],
       "layout": "IPY_MODEL_dbea97388c404acfa850b4899cf04148"
      }
     },
     "d787ad61d0f44351975006371e90f4de": {
      "model_module": "@jupyter-widgets/base",
      "model_module_version": "1.2.0",
      "model_name": "LayoutModel",
      "state": {
       "order": "-1",
       "overflow": "visible",
       "padding": "1px",
       "width": "0px"
      }
     },
     "d7cab2623cd34e2cbe47fc3a172d2e87": {
      "model_module": "@jupyter-widgets/base",
      "model_module_version": "1.2.0",
      "model_name": "LayoutModel",
      "state": {
       "height": "32px",
       "overflow": "visible",
       "width": "100%"
      }
     },
     "d7dc73f200f140b9983b8bf4c67e2a3b": {
      "model_module": "@jupyter-widgets/controls",
      "model_module_version": "1.5.0",
      "model_name": "ButtonModel",
      "state": {
       "description": "EDIT",
       "layout": "IPY_MODEL_be6be00df88e4504bcc23a62a201ee18",
       "style": "IPY_MODEL_f21484b420ea49d2a21df3730153d85b"
      }
     },
     "d7fcc171b5d9488798094596e9719c8a": {
      "model_module": "@jupyter-widgets/base",
      "model_module_version": "1.2.0",
      "model_name": "LayoutModel",
      "state": {
       "order": "-1",
       "overflow": "visible",
       "padding": "1px",
       "width": "0px"
      }
     },
     "d8547ec56a884774a038a8e2e473684e": {
      "model_module": "@jupyter-widgets/base",
      "model_module_version": "1.2.0",
      "model_name": "LayoutModel",
      "state": {
       "height": "32px",
       "overflow": "visible",
       "width": "100%"
      }
     },
     "d885040ee5d4479899b2b8595aba7668": {
      "model_module": "@jupyter-widgets/base",
      "model_module_version": "1.2.0",
      "model_name": "LayoutModel",
      "state": {
       "display": "none",
       "width": "95%"
      }
     },
     "d89dbbd046724f4abb1ab89e45c9b970": {
      "model_module": "@jupyter-widgets/controls",
      "model_module_version": "1.5.0",
      "model_name": "ButtonModel",
      "state": {
       "button_style": "success",
       "description": "EDIT",
       "layout": "IPY_MODEL_2aabf4120aeb4533bb015072bdea8034",
       "style": "IPY_MODEL_73aebad55c0b4940a3f57130e9636b21"
      }
     },
     "d8a37b68ed314be1b5bd9879dd9ba0a8": {
      "model_module": "@jupyter-widgets/controls",
      "model_module_version": "1.5.0",
      "model_name": "ButtonStyleModel",
      "state": {}
     },
     "d9410eb450e349b8aab0e825f78a60bd": {
      "model_module": "@jupyter-widgets/base",
      "model_module_version": "1.2.0",
      "model_name": "LayoutModel",
      "state": {
       "display": "none"
      }
     },
     "d97be573e0144c47b50934d0f491e285": {
      "model_module": "@jupyter-widgets/controls",
      "model_module_version": "1.5.0",
      "model_name": "IntProgressModel",
      "state": {
       "layout": "IPY_MODEL_e7c8e086a5aa4b7d913fd22de190a136",
       "style": "IPY_MODEL_a1248cd8215b4e95aa9e12d765480d7c",
       "value": 30
      }
     },
     "d98878c7668f4cc9b30a39755b5c21a9": {
      "model_module": "@jupyter-widgets/controls",
      "model_module_version": "1.5.0",
      "model_name": "ProgressStyleModel",
      "state": {
       "description_width": ""
      }
     },
     "d9c1889d418c4d52a7420b5fb103abb5": {
      "model_module": "@jupyter-widgets/controls",
      "model_module_version": "1.5.0",
      "model_name": "LabelModel",
      "state": {
       "layout": "IPY_MODEL_db16db48942940189dc3d77c4fcf1fb4",
       "style": "IPY_MODEL_22bf2605d549475e9c5fb3c96b7ce4a8",
       "value": "   objective"
      }
     },
     "d9c6244d078546fcab5e3253553c6d3f": {
      "model_module": "@jupyter-widgets/base",
      "model_module_version": "1.2.0",
      "model_name": "LayoutModel",
      "state": {
       "display": "none"
      }
     },
     "da2667a688324d81b8ac32fdc0a58232": {
      "model_module": "@jupyter-widgets/base",
      "model_module_version": "1.2.0",
      "model_name": "LayoutModel",
      "state": {
       "height": "32px",
       "overflow": "visible",
       "width": "100%"
      }
     },
     "daca6cd50d6f4477a1e333e8bc5c2ab9": {
      "model_module": "@jupyter-widgets/controls",
      "model_module_version": "1.5.0",
      "model_name": "IntProgressModel",
      "state": {
       "layout": "IPY_MODEL_d8547ec56a884774a038a8e2e473684e",
       "style": "IPY_MODEL_1c65064e61f549bf9edc5c63e24a0359",
       "value": 30
      }
     },
     "dae66bf9468f4f8cb961a4822ecd94d9": {
      "model_module": "@jupyter-widgets/controls",
      "model_module_version": "1.5.0",
      "model_name": "DropdownModel",
      "state": {
       "_options_labels": [
        "All"
       ],
       "index": 0,
       "layout": "IPY_MODEL_02243d5f452143e5b8a1a3640e5a85d9",
       "style": "IPY_MODEL_4eef71aefcf14eec82767e4237be59c6"
      }
     },
     "db16db48942940189dc3d77c4fcf1fb4": {
      "model_module": "@jupyter-widgets/base",
      "model_module_version": "1.2.0",
      "model_name": "LayoutModel",
      "state": {
       "order": "-1",
       "overflow": "visible",
       "padding": "1px",
       "width": "0px"
      }
     },
     "db29f500f5d547489a546477f80610f8": {
      "model_module": "@jupyter-widgets/controls",
      "model_module_version": "1.5.0",
      "model_name": "VBoxModel",
      "state": {
       "children": [
        "IPY_MODEL_5bd8e80ef8b3434ca5e4b117fb1e4ee9",
        "IPY_MODEL_f2c92afc92e143659a8b1a14001fc976",
        "IPY_MODEL_09048ef587994031961318da6873b029",
        "IPY_MODEL_aefc89a9301b435d9877b0cd341c2c2a"
       ],
       "layout": "IPY_MODEL_7ac2d8b88032446094beab5a6af981fc"
      }
     },
     "db7f0d7e66734dd5b218b0e4f5a64745": {
      "model_module": "@jupyter-widgets/controls",
      "model_module_version": "1.5.0",
      "model_name": "LabelModel",
      "state": {
       "layout": "IPY_MODEL_997c793030d346cdb894d6b7ccc16bdb",
       "style": "IPY_MODEL_cb477c66116d400ba45a58fd0c45d265",
       "value": "Kinetic Weapon:"
      }
     },
     "dbc2e149a72a469f9bdc46ce148aedff": {
      "model_module": "@jupyter-widgets/base",
      "model_module_version": "1.2.0",
      "model_name": "LayoutModel",
      "state": {
       "display": "none",
       "width": "60px"
      }
     },
     "dbc9b951434b4b1fbc74bcc61b7bc6d3": {
      "model_module": "@jupyter-widgets/base",
      "model_module_version": "1.2.0",
      "model_name": "LayoutModel",
      "state": {}
     },
     "dbe9bac9b7ff4646a068abe9c42596c3": {
      "model_module": "@jupyter-widgets/controls",
      "model_module_version": "1.5.0",
      "model_name": "DescriptionStyleModel",
      "state": {
       "description_width": ""
      }
     },
     "dbea97388c404acfa850b4899cf04148": {
      "model_module": "@jupyter-widgets/base",
      "model_module_version": "1.2.0",
      "model_name": "LayoutModel",
      "state": {}
     },
     "dc11040c239d44e1be352da33ebffc90": {
      "model_module": "@jupyter-widgets/controls",
      "model_module_version": "1.5.0",
      "model_name": "ProgressStyleModel",
      "state": {
       "description_width": ""
      }
     },
     "dc14e4044c7b44c494000713df431da9": {
      "model_module": "@jupyter-widgets/controls",
      "model_module_version": "1.5.0",
      "model_name": "LabelModel",
      "state": {
       "layout": "IPY_MODEL_b8635dec7d724663a5a710780cefd2bf",
       "style": "IPY_MODEL_b942ebf3c0d4416f9481c4c2c9e2becd",
       "value": "Subclass:"
      }
     },
     "dc6de438cf6d4055a5cab9f82f6cc43d": {
      "model_module": "@jupyter-widgets/base",
      "model_module_version": "1.2.0",
      "model_name": "LayoutModel",
      "state": {}
     },
     "dc856745ca6343d4ba83f8514c3c61de": {
      "model_module": "@jupyter-widgets/controls",
      "model_module_version": "1.5.0",
      "model_name": "ButtonModel",
      "state": {
       "layout": "IPY_MODEL_a5accca2e32a46a6917853a505ff4359",
       "style": "IPY_MODEL_eb9647e0e5ec410f9203417f763c059e"
      }
     },
     "dc891558fa4846c59a012dc43fec27d1": {
      "model_module": "@jupyter-widgets/base",
      "model_module_version": "1.2.0",
      "model_name": "LayoutModel",
      "state": {
       "order": "-1",
       "overflow": "visible",
       "padding": "1px",
       "width": "0px"
      }
     },
     "dcb9c2357ab3406ba750bad03fe043af": {
      "model_module": "@jupyter-widgets/base",
      "model_module_version": "1.2.0",
      "model_name": "LayoutModel",
      "state": {
       "order": "-1",
       "overflow": "visible",
       "padding": "1px",
       "width": "0px"
      }
     },
     "dcbb9bd7eb874fe0ba56ac600ba719f8": {
      "model_module": "@jupyter-widgets/controls",
      "model_module_version": "1.5.0",
      "model_name": "DescriptionStyleModel",
      "state": {
       "description_width": ""
      }
     },
     "dd184b7ebf9e40d98c7bd69835bd639a": {
      "model_module": "@jupyter-widgets/controls",
      "model_module_version": "1.5.0",
      "model_name": "HBoxModel",
      "state": {
       "children": [
        "IPY_MODEL_5a55303b2bd74bcb99bee677b2d30111",
        "IPY_MODEL_f3c072fbf7364abbab1607183c933d1c",
        "IPY_MODEL_cc8ea0aaae0f481c9168e2f62ef661ad",
        "IPY_MODEL_f27cae354e3e4363ab04fbb0075ce377"
       ],
       "layout": "IPY_MODEL_9abd591aafcb48daa8a407af74a7f93d"
      }
     },
     "dd62c55486484c8d926bdf9887c10ccb": {
      "model_module": "@jupyter-widgets/base",
      "model_module_version": "1.2.0",
      "model_name": "LayoutModel",
      "state": {
       "border": "3px solid white",
       "display": "flex",
       "flex": "1 1 0%",
       "margin": "10px",
       "min_width": "400px",
       "overflow": "visible",
       "padding": "10px",
       "width": "auto"
      }
     },
     "de792867d9d84b138fd65ebb3f7f68cb": {
      "model_module": "@jupyter-widgets/base",
      "model_module_version": "1.2.0",
      "model_name": "LayoutModel",
      "state": {
       "height": "32px",
       "overflow": "visible",
       "width": "100%"
      }
     },
     "de7ef24442184778b9f8f8c76fc275a2": {
      "model_module": "@jupyter-widgets/base",
      "model_module_version": "1.2.0",
      "model_name": "LayoutModel",
      "state": {
       "overflow": "visible",
       "width": "100%"
      }
     },
     "de8f89a42e5b429ca5f45ea5dcf7db75": {
      "model_module": "@jupyter-widgets/controls",
      "model_module_version": "1.5.0",
      "model_name": "ButtonStyleModel",
      "state": {}
     },
     "ded0d245bcee48d183343ab6b66910bd": {
      "model_module": "@jupyter-widgets/controls",
      "model_module_version": "1.5.0",
      "model_name": "DescriptionStyleModel",
      "state": {
       "description_width": ""
      }
     },
     "df2136acb2f74c52ba6a18c072f05c83": {
      "model_module": "@jupyter-widgets/controls",
      "model_module_version": "1.5.0",
      "model_name": "ProgressStyleModel",
      "state": {
       "description_width": ""
      }
     },
     "df6a02afbc45404a8e585f234c927ee8": {
      "model_module": "@jupyter-widgets/controls",
      "model_module_version": "1.5.0",
      "model_name": "ButtonStyleModel",
      "state": {}
     },
     "dfcc9ae822674c0e96803e6ffd00991b": {
      "model_module": "@jupyter-widgets/base",
      "model_module_version": "1.2.0",
      "model_name": "LayoutModel",
      "state": {
       "display": "none",
       "width": "60px"
      }
     },
     "dfd5c6303e934458b6257be1b14f92ef": {
      "model_module": "@jupyter-widgets/base",
      "model_module_version": "1.2.0",
      "model_name": "LayoutModel",
      "state": {
       "border": "",
       "width": "98%"
      }
     },
     "e003a2b7615245beb38037028b17dc3c": {
      "model_module": "@jupyter-widgets/controls",
      "model_module_version": "1.5.0",
      "model_name": "ButtonModel",
      "state": {
       "description": "EDIT",
       "layout": "IPY_MODEL_83a8ecefcf2846b5a3e38d4d17099181",
       "style": "IPY_MODEL_a62a26b79a3642a488a1702f9d02b9a5"
      }
     },
     "e00bb0d4dbf347e1b0b699a861d92785": {
      "model_module": "@jupyter-widgets/base",
      "model_module_version": "1.2.0",
      "model_name": "LayoutModel",
      "state": {
       "height": "32px",
       "order": "-2",
       "width": "32px"
      }
     },
     "e02fb4221c9d4ebe9feaecfdcbb81c73": {
      "model_module": "@jupyter-widgets/base",
      "model_module_version": "1.2.0",
      "model_name": "LayoutModel",
      "state": {
       "order": "-1",
       "overflow": "visible",
       "padding": "1px",
       "width": "0px"
      }
     },
     "e07b00e59b4b4c318fa06575cea4f87a": {
      "model_module": "@jupyter-widgets/controls",
      "model_module_version": "1.5.0",
      "model_name": "ProgressStyleModel",
      "state": {
       "description_width": ""
      }
     },
     "e099974b88bd421e8f31106bd12bfaf5": {
      "model_module": "@jupyter-widgets/controls",
      "model_module_version": "1.5.0",
      "model_name": "HBoxModel",
      "state": {
       "children": [
        "IPY_MODEL_1245fd7ad06141d7b006aa6eb61e8357",
        "IPY_MODEL_7f3089cd5e74410d99485b52022d716a",
        "IPY_MODEL_15f25f5a54634888ba83e6995029049f",
        "IPY_MODEL_29390f2668da4c28b3b63a872030910b"
       ],
       "layout": "IPY_MODEL_d1872b397f63425385c3834886b96f95"
      }
     },
     "e0aee399113d466abe4c83fe642fbcd7": {
      "model_module": "@jupyter-widgets/controls",
      "model_module_version": "1.5.0",
      "model_name": "HTMLModel",
      "state": {
       "layout": "IPY_MODEL_d080dd9caf5e4ddfaa5e277518d35e8f",
       "style": "IPY_MODEL_2c5d648af55e48258ee0bbf17a85bcc3",
       "value": "<i>As a Striker, get kills with Lightning Grenades.</i>"
      }
     },
     "e0c13e040fc249bd85a5366ce2799b97": {
      "model_module": "@jupyter-widgets/controls",
      "model_module_version": "1.5.0",
      "model_name": "ButtonStyleModel",
      "state": {}
     },
     "e0e1f22047374e35869f0cf28f5cc8d5": {
      "model_module": "@jupyter-widgets/controls",
      "model_module_version": "1.5.0",
      "model_name": "ButtonModel",
      "state": {
       "description": "EDIT",
       "layout": "IPY_MODEL_7f6138e5ff5b47d7ae20e441f9c259e2",
       "style": "IPY_MODEL_88f784abc1a347e0bd137dfb67eff898"
      }
     },
     "e0f0fbdb56e644d09ec10a91bebaac9f": {
      "model_module": "@jupyter-widgets/controls",
      "model_module_version": "1.5.0",
      "model_name": "ButtonModel",
      "state": {
       "layout": "IPY_MODEL_e31799942b8940bfbf1b32ed0b14ee0c",
       "style": "IPY_MODEL_32fdb2845b4441e5bbadd5c19c790a58"
      }
     },
     "e148c99cf91c4809a3f1b88ad7a44da7": {
      "model_module": "@jupyter-widgets/base",
      "model_module_version": "1.2.0",
      "model_name": "LayoutModel",
      "state": {
       "display": "none"
      }
     },
     "e1a439bb9ff545b2963ba5d1fbaffa09": {
      "model_module": "@jupyter-widgets/base",
      "model_module_version": "1.2.0",
      "model_name": "LayoutModel",
      "state": {
       "height": "32px",
       "overflow": "visible",
       "width": "100%"
      }
     },
     "e1e1ce0012f741b697d0b68d614eeb94": {
      "model_module": "@jupyter-widgets/base",
      "model_module_version": "1.2.0",
      "model_name": "LayoutModel",
      "state": {
       "order": "-1",
       "overflow": "visible",
       "padding": "1px",
       "width": "0px"
      }
     },
     "e1e8e8eb03244c47bb9258df5169f577": {
      "model_module": "@jupyter-widgets/base",
      "model_module_version": "1.2.0",
      "model_name": "LayoutModel",
      "state": {
       "order": "-1",
       "overflow": "visible",
       "padding": "1px",
       "width": "0px"
      }
     },
     "e215d12954124e218f8ea20c94f3aec3": {
      "model_module": "@jupyter-widgets/controls",
      "model_module_version": "1.5.0",
      "model_name": "ButtonModel",
      "state": {
       "layout": "IPY_MODEL_290888ba4c2d4776aae53c7cab75fd2e",
       "style": "IPY_MODEL_e0c13e040fc249bd85a5366ce2799b97"
      }
     },
     "e2368643403c44ca802edd5a44fd8509": {
      "model_module": "@jupyter-widgets/controls",
      "model_module_version": "1.5.0",
      "model_name": "HBoxModel",
      "state": {
       "children": [
        "IPY_MODEL_e0f0fbdb56e644d09ec10a91bebaac9f",
        "IPY_MODEL_b9dc54516c7f41bcb55ee1195c16efc9",
        "IPY_MODEL_b983a57e9e7d440699eaa341d8549d6b",
        "IPY_MODEL_46cb9b2701e64cc6a114281caac68187"
       ],
       "layout": "IPY_MODEL_f97e92c429ac492c9e3b8930dd57e288"
      }
     },
     "e2482600596e43a4b9a9cbec6840bf1f": {
      "model_module": "@jupyter-widgets/base",
      "model_module_version": "1.2.0",
      "model_name": "LayoutModel",
      "state": {
       "order": "-1",
       "overflow": "visible",
       "padding": "1px",
       "width": "0px"
      }
     },
     "e25626f000d64be688b5e6dbd0b22755": {
      "model_module": "@jupyter-widgets/controls",
      "model_module_version": "1.5.0",
      "model_name": "ButtonStyleModel",
      "state": {}
     },
     "e25aadcfd0fc48de9349cc145d6fb3d5": {
      "model_module": "@jupyter-widgets/controls",
      "model_module_version": "1.5.0",
      "model_name": "LabelModel",
      "state": {
       "layout": "IPY_MODEL_d787ad61d0f44351975006371e90f4de",
       "style": "IPY_MODEL_d179e12dee33471eadbd968dbdc7a29f",
       "value": "   objective"
      }
     },
     "e2685460d7854a019ef4447cd391bf0e": {
      "model_module": "@jupyter-widgets/base",
      "model_module_version": "1.2.0",
      "model_name": "LayoutModel",
      "state": {
       "height": "32px",
       "overflow": "visible",
       "width": "100%"
      }
     },
     "e28a08c29c35437393c2e04162a49d40": {
      "model_module": "@jupyter-widgets/controls",
      "model_module_version": "1.5.0",
      "model_name": "DescriptionStyleModel",
      "state": {
       "description_width": ""
      }
     },
     "e2d074172b944167829640088c70e2f3": {
      "model_module": "@jupyter-widgets/controls",
      "model_module_version": "1.5.0",
      "model_name": "DescriptionStyleModel",
      "state": {
       "description_width": ""
      }
     },
     "e2e7af2c0d4d42aeadab327cb13bac38": {
      "model_module": "@jupyter-widgets/controls",
      "model_module_version": "1.5.0",
      "model_name": "IntProgressModel",
      "state": {
       "layout": "IPY_MODEL_4bf35b8b86634a3c84bd178e716ee804",
       "style": "IPY_MODEL_c7e74597f23248bebeff6fe0efbeaf38",
       "value": 30
      }
     },
     "e302237cfd984398b72e5c7c9efb5dbf": {
      "model_module": "@jupyter-widgets/controls",
      "model_module_version": "1.5.0",
      "model_name": "ProgressStyleModel",
      "state": {
       "description_width": ""
      }
     },
     "e31799942b8940bfbf1b32ed0b14ee0c": {
      "model_module": "@jupyter-widgets/base",
      "model_module_version": "1.2.0",
      "model_name": "LayoutModel",
      "state": {
       "height": "32px",
       "order": "-2",
       "width": "32px"
      }
     },
     "e317ae1cb8e24f598715c061e00339d2": {
      "model_module": "@jupyter-widgets/controls",
      "model_module_version": "1.5.0",
      "model_name": "DescriptionStyleModel",
      "state": {
       "description_width": ""
      }
     },
     "e34f97c2c0a941aba6d93c5fa9b65e4e": {
      "model_module": "@jupyter-widgets/base",
      "model_module_version": "1.2.0",
      "model_name": "LayoutModel",
      "state": {
       "display": "none"
      }
     },
     "e35c1a498ca1472ea7cd16889c11f9b1": {
      "model_module": "@jupyter-widgets/controls",
      "model_module_version": "1.5.0",
      "model_name": "DescriptionStyleModel",
      "state": {
       "description_width": ""
      }
     },
     "e37ede7c4c994bfab27f1131a425e417": {
      "model_module": "@jupyter-widgets/base",
      "model_module_version": "1.2.0",
      "model_name": "LayoutModel",
      "state": {
       "order": "-1",
       "overflow": "visible",
       "padding": "1px",
       "width": "0px"
      }
     },
     "e391a77dd4224953b66660611254ece0": {
      "model_module": "@jupyter-widgets/base",
      "model_module_version": "1.2.0",
      "model_name": "LayoutModel",
      "state": {}
     },
     "e3a702e9acd8434bb380beed82004a11": {
      "model_module": "@jupyter-widgets/base",
      "model_module_version": "1.2.0",
      "model_name": "LayoutModel",
      "state": {
       "display": "none"
      }
     },
     "e3ccc0b67e0848f4a04e573ae75daeb6": {
      "model_module": "@jupyter-widgets/controls",
      "model_module_version": "1.5.0",
      "model_name": "DescriptionStyleModel",
      "state": {
       "description_width": ""
      }
     },
     "e3f6d66621ee4f13ae42f8abede4a278": {
      "model_module": "@jupyter-widgets/controls",
      "model_module_version": "1.5.0",
      "model_name": "IntProgressModel",
      "state": {
       "layout": "IPY_MODEL_17728205de594d5b88d6a3e51a3cd8d0",
       "max": 1000,
       "style": "IPY_MODEL_8d0b111b8d134fe2989488a312b58d59",
       "value": 289
      }
     },
     "e4761d6bbf7c4797862921ed6910f67f": {
      "model_module": "@jupyter-widgets/controls",
      "model_module_version": "1.5.0",
      "model_name": "ButtonStyleModel",
      "state": {}
     },
     "e4cc42d9789b4868bf9cb22bb9787981": {
      "model_module": "@jupyter-widgets/base",
      "model_module_version": "1.2.0",
      "model_name": "LayoutModel",
      "state": {
       "height": "32px",
       "overflow": "visible",
       "width": "100%"
      }
     },
     "e4f741ad360243d09794316a67309ccb": {
      "model_module": "@jupyter-widgets/controls",
      "model_module_version": "1.5.0",
      "model_name": "DescriptionStyleModel",
      "state": {
       "description_width": ""
      }
     },
     "e5544fc96ac64022adddb98cc41d7c7c": {
      "model_module": "@jupyter-widgets/base",
      "model_module_version": "1.2.0",
      "model_name": "LayoutModel",
      "state": {
       "display": "none"
      }
     },
     "e58defba092247378e88d25a6370cd26": {
      "model_module": "@jupyter-widgets/controls",
      "model_module_version": "1.5.0",
      "model_name": "DescriptionStyleModel",
      "state": {
       "description_width": ""
      }
     },
     "e5de4eab9805460bae19053b3eaaa717": {
      "model_module": "@jupyter-widgets/controls",
      "model_module_version": "1.5.0",
      "model_name": "LabelModel",
      "state": {
       "layout": "IPY_MODEL_80218956fe324869bdddfc58d573330d",
       "style": "IPY_MODEL_31dce67f4abe479b93ef7b81d4709f12",
       "value": "    Valor ranks (0/1)"
      }
     },
     "e5f0b5315bd749c28f20bc2308cbb77c": {
      "model_module": "@jupyter-widgets/controls",
      "model_module_version": "1.5.0",
      "model_name": "IntProgressModel",
      "state": {
       "layout": "IPY_MODEL_b552cb7fd86e4baa8ccda4e67b942712",
       "style": "IPY_MODEL_cdf75359562a43eaad4962aa93388c59",
       "value": 30
      }
     },
     "e5fed33bf23f4f0b9de33e3382fbcbb8": {
      "model_module": "@jupyter-widgets/base",
      "model_module_version": "1.2.0",
      "model_name": "LayoutModel",
      "state": {
       "display": "flex"
      }
     },
     "e60e23197b77419e9bbecc793e55493d": {
      "model_module": "@jupyter-widgets/base",
      "model_module_version": "1.2.0",
      "model_name": "LayoutModel",
      "state": {
       "overflow": "visible",
       "width": "100%"
      }
     },
     "e6d08c29ca2b415996d252a9a6509b60": {
      "model_module": "@jupyter-widgets/controls",
      "model_module_version": "1.5.0",
      "model_name": "DescriptionStyleModel",
      "state": {
       "description_width": ""
      }
     },
     "e71665822a4248a18de8f79e6fec03e8": {
      "model_module": "@jupyter-widgets/controls",
      "model_module_version": "1.5.0",
      "model_name": "HBoxModel",
      "state": {
       "children": [
        "IPY_MODEL_08230782de7249c185633540ba3c058f",
        "IPY_MODEL_025a071b183f425fb2f917ed66661225",
        "IPY_MODEL_0471565b942f42f583c3cd4d8ab11e4d",
        "IPY_MODEL_ced97339f0f24007865afdc406f607ef"
       ],
       "layout": "IPY_MODEL_12b4fc3a93694a82af47e39dab2d6bad"
      }
     },
     "e7359e5f89c24f5c912e07141bb64afd": {
      "model_module": "@jupyter-widgets/controls",
      "model_module_version": "1.5.0",
      "model_name": "LabelModel",
      "state": {
       "layout": "IPY_MODEL_770d473bcd774676a2256bd09df1836c",
       "style": "IPY_MODEL_e2d074172b944167829640088c70e2f3",
       "value": "     (0/1)"
      }
     },
     "e7471d9f1d7249cfb70b6c9423192d48": {
      "model_module": "@jupyter-widgets/base",
      "model_module_version": "1.2.0",
      "model_name": "LayoutModel",
      "state": {
       "height": "32px",
       "overflow": "visible",
       "width": "100%"
      }
     },
     "e7b1b78201fc4e22a284d80b02e59e26": {
      "model_module": "@jupyter-widgets/base",
      "model_module_version": "1.2.0",
      "model_name": "LayoutModel",
      "state": {
       "order": "-1",
       "overflow": "visible",
       "padding": "1px",
       "width": "0px"
      }
     },
     "e7c8e086a5aa4b7d913fd22de190a136": {
      "model_module": "@jupyter-widgets/base",
      "model_module_version": "1.2.0",
      "model_name": "LayoutModel",
      "state": {
       "height": "32px",
       "overflow": "visible",
       "width": "100%"
      }
     },
     "e8005dc6e3444d6085b27ddfbbc7b6a1": {
      "model_module": "@jupyter-widgets/controls",
      "model_module_version": "1.5.0",
      "model_name": "DescriptionStyleModel",
      "state": {
       "description_width": ""
      }
     },
     "e8d50b2ad3594f7b800948e43cd93155": {
      "model_module": "@jupyter-widgets/controls",
      "model_module_version": "1.5.0",
      "model_name": "ButtonModel",
      "state": {
       "description": "EDIT",
       "layout": "IPY_MODEL_ea0a538fd1f849919abd2b03919dabeb",
       "style": "IPY_MODEL_0c289c5c05ac4713aef864fb4b817a87"
      }
     },
     "e8f9245a650f4cdd87747dd71d949724": {
      "model_module": "@jupyter-widgets/base",
      "model_module_version": "1.2.0",
      "model_name": "LayoutModel",
      "state": {
       "height": "32px",
       "overflow": "visible",
       "width": "100%"
      }
     },
     "e8ffd080c63b407da4fedc90060486c7": {
      "model_module": "@jupyter-widgets/controls",
      "model_module_version": "1.5.0",
      "model_name": "LabelModel",
      "state": {
       "layout": "IPY_MODEL_7f0683df679d4760bad35ea3d0411737",
       "style": "IPY_MODEL_a71d042bd08a45efa9ee884f884dea7e",
       "value": "   objective"
      }
     },
     "e93b7a49f44d46e5a9f28f7e0ad9e78d": {
      "model_module": "@jupyter-widgets/base",
      "model_module_version": "1.2.0",
      "model_name": "LayoutModel",
      "state": {
       "display": "none",
       "width": "60px"
      }
     },
     "e95971d0943940fc83cc7fabd9b596c7": {
      "model_module": "@jupyter-widgets/controls",
      "model_module_version": "1.5.0",
      "model_name": "ProgressStyleModel",
      "state": {
       "description_width": ""
      }
     },
     "e99ce637aaf44dccbb030f88a3865120": {
      "model_module": "@jupyter-widgets/base",
      "model_module_version": "1.2.0",
      "model_name": "LayoutModel",
      "state": {
       "order": "-1",
       "overflow": "visible",
       "padding": "1px",
       "width": "0px"
      }
     },
     "e99f1a85152642ef83b46111c21828ff": {
      "model_module": "@jupyter-widgets/controls",
      "model_module_version": "1.5.0",
      "model_name": "IntProgressModel",
      "state": {
       "layout": "IPY_MODEL_4afba36d945d4ef2aa4c2077b439207b",
       "style": "IPY_MODEL_3111941aa8b5495aae5a50e1e30b6344",
       "value": 30
      }
     },
     "e9c07c79d0cf46e89d876e3f51f8259a": {
      "model_module": "@jupyter-widgets/controls",
      "model_module_version": "1.5.0",
      "model_name": "DescriptionStyleModel",
      "state": {
       "description_width": ""
      }
     },
     "e9d595415fac4e9fa45cfd27d86c0db9": {
      "model_module": "@jupyter-widgets/controls",
      "model_module_version": "1.5.0",
      "model_name": "ButtonModel",
      "state": {
       "description": "EDIT",
       "layout": "IPY_MODEL_4b0dee6d5b6f4ffdb45492ef39e0fb49",
       "style": "IPY_MODEL_78137d465a164ff49defe3afedfeba29"
      }
     },
     "e9e18802dfb64713b84494a3f0d86e6a": {
      "model_module": "@jupyter-widgets/controls",
      "model_module_version": "1.5.0",
      "model_name": "ButtonModel",
      "state": {
       "layout": "IPY_MODEL_c78d7c36a00c4dc29692658fdd521cb8",
       "style": "IPY_MODEL_df6a02afbc45404a8e585f234c927ee8"
      }
     },
     "e9e7986feffb4bb1b313954c95164cd5": {
      "model_module": "@jupyter-widgets/controls",
      "model_module_version": "1.5.0",
      "model_name": "DescriptionStyleModel",
      "state": {
       "description_width": ""
      }
     },
     "e9f47d965fb544d189fb4216e3701297": {
      "model_module": "@jupyter-widgets/base",
      "model_module_version": "1.2.0",
      "model_name": "LayoutModel",
      "state": {
       "display": "none",
       "width": "95%"
      }
     },
     "e9f7682d94c14d569f2fe3592369e157": {
      "model_module": "@jupyter-widgets/base",
      "model_module_version": "1.2.0",
      "model_name": "LayoutModel",
      "state": {
       "display": "none",
       "width": "60px"
      }
     },
     "e9f813536c0348db99475bbcfe97b1ee": {
      "model_module": "@jupyter-widgets/controls",
      "model_module_version": "1.5.0",
      "model_name": "IntProgressModel",
      "state": {
       "layout": "IPY_MODEL_f54285aa3a394fab989325f4628371fa",
       "max": 1,
       "style": "IPY_MODEL_e07b00e59b4b4c318fa06575cea4f87a"
      }
     },
     "ea0a538fd1f849919abd2b03919dabeb": {
      "model_module": "@jupyter-widgets/base",
      "model_module_version": "1.2.0",
      "model_name": "LayoutModel",
      "state": {
       "display": "none",
       "width": "60px"
      }
     },
     "ea3b9456d62c4fb3b087f27ab920b4cb": {
      "model_module": "@jupyter-widgets/controls",
      "model_module_version": "1.5.0",
      "model_name": "IntProgressModel",
      "state": {
       "layout": "IPY_MODEL_7590e296a9d941f7a06b879a65e1f46d",
       "max": 5,
       "style": "IPY_MODEL_0506b485ca3a491c9c67b81ab7c21d17",
       "value": 2
      }
     },
     "ea91090046d544c38e67c6936897c767": {
      "model_module": "@jupyter-widgets/base",
      "model_module_version": "1.2.0",
      "model_name": "LayoutModel",
      "state": {
       "display": "none",
       "width": "60px"
      }
     },
     "eaba09a591834e9b8fc87363a6172ed4": {
      "model_module": "@jupyter-widgets/controls",
      "model_module_version": "1.5.0",
      "model_name": "ButtonStyleModel",
      "state": {}
     },
     "eac4a7bf83b3487481b1187c58f8cfe6": {
      "model_module": "@jupyter-widgets/base",
      "model_module_version": "1.2.0",
      "model_name": "LayoutModel",
      "state": {
       "display": "none"
      }
     },
     "eb100a3ff813400a944b5a9f8df4efb7": {
      "model_module": "@jupyter-widgets/base",
      "model_module_version": "1.2.0",
      "model_name": "LayoutModel",
      "state": {
       "order": "-1",
       "overflow": "visible",
       "padding": "1px",
       "width": "0px"
      }
     },
     "eb33ed58a0f4423a9622fbaaa86ec810": {
      "model_module": "@jupyter-widgets/base",
      "model_module_version": "1.2.0",
      "model_name": "LayoutModel",
      "state": {
       "display": "none"
      }
     },
     "eb5d298febb74a8eb067223cb67550c1": {
      "model_module": "@jupyter-widgets/controls",
      "model_module_version": "1.5.0",
      "model_name": "ButtonStyleModel",
      "state": {}
     },
     "eb9647e0e5ec410f9203417f763c059e": {
      "model_module": "@jupyter-widgets/controls",
      "model_module_version": "1.5.0",
      "model_name": "ButtonStyleModel",
      "state": {}
     },
     "ebf022691739459e8027d4a69dc8265b": {
      "model_module": "@jupyter-widgets/base",
      "model_module_version": "1.2.0",
      "model_name": "LayoutModel",
      "state": {
       "display": "none",
       "width": "95%"
      }
     },
     "ebf72c59c68f458bb9bff31a0c1482df": {
      "model_module": "@jupyter-widgets/controls",
      "model_module_version": "1.5.0",
      "model_name": "ProgressStyleModel",
      "state": {
       "description_width": ""
      }
     },
     "ec5666d767b14068bad7322962258e10": {
      "model_module": "@jupyter-widgets/base",
      "model_module_version": "1.2.0",
      "model_name": "LayoutModel",
      "state": {
       "height": "32px",
       "overflow": "visible",
       "width": "100%"
      }
     },
     "eca5c4045e9847ee8977f961c3d0ae2f": {
      "model_module": "@jupyter-widgets/controls",
      "model_module_version": "1.5.0",
      "model_name": "DescriptionStyleModel",
      "state": {
       "description_width": ""
      }
     },
     "ecfa02cefd6f4e4c8f07dffc8ef75a7e": {
      "model_module": "@jupyter-widgets/controls",
      "model_module_version": "1.5.0",
      "model_name": "ButtonModel",
      "state": {
       "layout": "IPY_MODEL_a498a51d790e46ebbabefd86b62fcc52",
       "style": "IPY_MODEL_435b6affb80a42fc8dd654d030373949"
      }
     },
     "ed4f8216cbb04c3988fd9d443db19b3d": {
      "model_module": "@jupyter-widgets/base",
      "model_module_version": "1.2.0",
      "model_name": "LayoutModel",
      "state": {
       "display": "none"
      }
     },
     "ed6d70ea899e48df8500dc00dbc74135": {
      "model_module": "@jupyter-widgets/controls",
      "model_module_version": "1.5.0",
      "model_name": "ButtonStyleModel",
      "state": {}
     },
     "ed6e76aeabf74da7bb26016ce13099f1": {
      "model_module": "@jupyter-widgets/controls",
      "model_module_version": "1.5.0",
      "model_name": "ProgressStyleModel",
      "state": {
       "description_width": ""
      }
     },
     "ed6fc49ff6484bbd8c018f2140281504": {
      "model_module": "@jupyter-widgets/base",
      "model_module_version": "1.2.0",
      "model_name": "LayoutModel",
      "state": {
       "height": "32px",
       "overflow": "visible",
       "width": "100%"
      }
     },
     "ed767c32cfac48878011fba4c347a084": {
      "model_module": "@jupyter-widgets/controls",
      "model_module_version": "1.5.0",
      "model_name": "ButtonModel",
      "state": {
       "description": "EDIT",
       "layout": "IPY_MODEL_d01140ac96da40f79463857d86d130e2",
       "style": "IPY_MODEL_c84c4c6a6c834bacac6685244e515da2"
      }
     },
     "edfe04bbc3dc42e39463006b5a42e865": {
      "model_module": "@jupyter-widgets/controls",
      "model_module_version": "1.5.0",
      "model_name": "ButtonModel",
      "state": {
       "layout": "IPY_MODEL_c714f1845f5d4596a681432d7af4e593",
       "style": "IPY_MODEL_bd1958bfb50445b7a196f672355aaf58"
      }
     },
     "edfed8cfdbb94edaa1d9cd7b437d3c5c": {
      "model_module": "@jupyter-widgets/controls",
      "model_module_version": "1.5.0",
      "model_name": "HBoxModel",
      "state": {
       "children": [
        "IPY_MODEL_23cb0c245a1e46419044fec31dcab619",
        "IPY_MODEL_4d377d574aec4b3b8e18e467c122e41a",
        "IPY_MODEL_833762775fb645948bdc8a6e84cadf26",
        "IPY_MODEL_37107e75a1504e369f4a4c38c72ade1c"
       ],
       "layout": "IPY_MODEL_019dd9ea33f44266a3494e9029c23efe"
      }
     },
     "ee1580aa8b394e72b96e3469d93bac38": {
      "model_module": "@jupyter-widgets/base",
      "model_module_version": "1.2.0",
      "model_name": "LayoutModel",
      "state": {
       "height": "32px",
       "overflow": "visible",
       "width": "100%"
      }
     },
     "ee25979dc73d484691fa09639d74ccc0": {
      "model_module": "@jupyter-widgets/controls",
      "model_module_version": "1.5.0",
      "model_name": "LabelModel",
      "state": {
       "layout": "IPY_MODEL_ad75ef000ce7494990a19ee4b98049e0",
       "style": "IPY_MODEL_ded0d245bcee48d183343ab6b66910bd",
       "value": "   objective"
      }
     },
     "eea505b60a2b4b38a736ba1f530b03bd": {
      "model_module": "@jupyter-widgets/controls",
      "model_module_version": "1.5.0",
      "model_name": "ButtonStyleModel",
      "state": {}
     },
     "eedbf386138f450ab1bbeba467466dd0": {
      "model_module": "@jupyter-widgets/base",
      "model_module_version": "1.2.0",
      "model_name": "LayoutModel",
      "state": {
       "overflow": "visible",
       "width": "100%"
      }
     },
     "ef16ee56765b42baa0f345660ec9b052": {
      "model_module": "@jupyter-widgets/controls",
      "model_module_version": "1.5.0",
      "model_name": "HBoxModel",
      "state": {
       "children": [
        "IPY_MODEL_3d502a215a264372bfdd2de40644c20f",
        "IPY_MODEL_2b6400891c7347dea2e7af294b1bcdb6",
        "IPY_MODEL_0619e622a5124deda5dfc461318ae836",
        "IPY_MODEL_848ce1e3ea1d4b23b0c544b111b0e89a"
       ],
       "layout": "IPY_MODEL_631aa0ff49034c728b4aac6f740dc99e"
      }
     },
     "ef22064d191c4cfe8cdca010ed5a1775": {
      "model_module": "@jupyter-widgets/controls",
      "model_module_version": "1.5.0",
      "model_name": "ButtonModel",
      "state": {
       "layout": "IPY_MODEL_7721aebce755443abd73d8f111b18f32",
       "style": "IPY_MODEL_e25626f000d64be688b5e6dbd0b22755"
      }
     },
     "ef2719f5e9014d35af26fcd84dd8a66d": {
      "model_module": "@jupyter-widgets/controls",
      "model_module_version": "1.5.0",
      "model_name": "DescriptionStyleModel",
      "state": {
       "description_width": ""
      }
     },
     "ef326374c636423589876b0bfb700999": {
      "model_module": "@jupyter-widgets/controls",
      "model_module_version": "1.5.0",
      "model_name": "ProgressStyleModel",
      "state": {
       "description_width": ""
      }
     },
     "ef350d7c128d4626bb2e4f319e9de4c3": {
      "model_module": "@jupyter-widgets/controls",
      "model_module_version": "1.5.0",
      "model_name": "ProgressStyleModel",
      "state": {
       "description_width": ""
      }
     },
     "ef5d6304e1664098bd10c42af973a538": {
      "model_module": "@jupyter-widgets/base",
      "model_module_version": "1.2.0",
      "model_name": "LayoutModel",
      "state": {
       "display": "none"
      }
     },
     "ef7abebdc86046d488745c5f79fef5fb": {
      "model_module": "@jupyter-widgets/controls",
      "model_module_version": "1.5.0",
      "model_name": "VBoxModel",
      "state": {
       "children": [
        "IPY_MODEL_65e7066b48e0454ea10eb6a517fbf311",
        "IPY_MODEL_1e652e79994c406294696860043db37e",
        "IPY_MODEL_f41656adca144680a3c4cd74b2d144c6",
        "IPY_MODEL_9904fca78d664e0e94577ed1a6c40590",
        "IPY_MODEL_45f295d3d932471cbee682d45a8d5977",
        "IPY_MODEL_9cd145cee22a495c8960c1cc6d09e92f"
       ],
       "layout": "IPY_MODEL_1da04752f9cb452fa47b1564119dfe95"
      }
     },
     "f0341b60d3d24488a6ca8abc061c5e63": {
      "model_module": "@jupyter-widgets/base",
      "model_module_version": "1.2.0",
      "model_name": "LayoutModel",
      "state": {
       "display": "none"
      }
     },
     "f0407299380445aabb3a048a102d49ba": {
      "model_module": "@jupyter-widgets/controls",
      "model_module_version": "1.5.0",
      "model_name": "LabelModel",
      "state": {
       "layout": "IPY_MODEL_dc891558fa4846c59a012dc43fec27d1",
       "style": "IPY_MODEL_ff092016b6cf4b9e8bcf6c2b3e17c3c6",
       "value": "   objective"
      }
     },
     "f059234d9b6a48e9af8a8c66e198426c": {
      "model_module": "@jupyter-widgets/base",
      "model_module_version": "1.2.0",
      "model_name": "LayoutModel",
      "state": {
       "order": "-1",
       "overflow": "visible",
       "padding": "1px",
       "width": "0px"
      }
     },
     "f0718239124b46f9a3b927d2a442d060": {
      "model_module": "@jupyter-widgets/base",
      "model_module_version": "1.2.0",
      "model_name": "LayoutModel",
      "state": {
       "overflow": "visible",
       "width": "100%"
      }
     },
     "f0bc007f9d1244e99f58c26db1ee078b": {
      "model_module": "@jupyter-widgets/controls",
      "model_module_version": "1.5.0",
      "model_name": "DescriptionStyleModel",
      "state": {
       "description_width": ""
      }
     },
     "f0f2e9c6936b414aa005eca0b41d5545": {
      "model_module": "@jupyter-widgets/controls",
      "model_module_version": "1.5.0",
      "model_name": "ButtonStyleModel",
      "state": {}
     },
     "f0f82774f39249e0b76db332651e6088": {
      "model_module": "@jupyter-widgets/base",
      "model_module_version": "1.2.0",
      "model_name": "LayoutModel",
      "state": {
       "display": "none",
       "width": "95%"
      }
     },
     "f112049623c84affb32e63d4b3a53ea6": {
      "model_module": "@jupyter-widgets/controls",
      "model_module_version": "1.5.0",
      "model_name": "ButtonStyleModel",
      "state": {}
     },
     "f1289b7d0e524170989f3cd60bddf1c0": {
      "model_module": "@jupyter-widgets/controls",
      "model_module_version": "1.5.0",
      "model_name": "ButtonStyleModel",
      "state": {}
     },
     "f133cac56d5943289a2435939046557a": {
      "model_module": "@jupyter-widgets/controls",
      "model_module_version": "1.5.0",
      "model_name": "ButtonModel",
      "state": {
       "description": "EDIT",
       "layout": "IPY_MODEL_7c23f388b31f46f888ee4427bd85270a",
       "style": "IPY_MODEL_8a807ffc1ccb4d91ae5dc0c34c73e4a7"
      }
     },
     "f138f63da5494ddb8bf952ec9cc34d81": {
      "model_module": "@jupyter-widgets/controls",
      "model_module_version": "1.5.0",
      "model_name": "IntProgressModel",
      "state": {
       "layout": "IPY_MODEL_761e3175fddb4af79ca306722e7fe03a",
       "style": "IPY_MODEL_0902cccf723948218e00fb1c0e76f229",
       "value": 30
      }
     },
     "f17db0616a934df29afa1a02790b92e6": {
      "model_module": "@jupyter-widgets/controls",
      "model_module_version": "1.5.0",
      "model_name": "LabelModel",
      "state": {
       "layout": "IPY_MODEL_08979f57869a4c3cb019967a037b83bb",
       "style": "IPY_MODEL_1f5df359a9f4469ebe02904c90705c6d",
       "value": "Weapon:"
      }
     },
     "f1bef552229049eab4d96d472172e7b7": {
      "model_module": "@jupyter-widgets/controls",
      "model_module_version": "1.5.0",
      "model_name": "ButtonModel",
      "state": {
       "layout": "IPY_MODEL_78f6b9b5c38247cc89883b5c3a14c31a",
       "style": "IPY_MODEL_8d8ee672b8884e5981b36706090d2294"
      }
     },
     "f1c28bdbe01a4fcf9ac2ec56ef905f45": {
      "model_module": "@jupyter-widgets/base",
      "model_module_version": "1.2.0",
      "model_name": "LayoutModel",
      "state": {
       "order": "-1",
       "overflow": "visible",
       "padding": "1px",
       "width": "0px"
      }
     },
     "f1ce5890e7bf44c0b46adeecf9466470": {
      "model_module": "@jupyter-widgets/controls",
      "model_module_version": "1.5.0",
      "model_name": "DropdownModel",
      "state": {
       "_options_labels": [
        "Glory ranks"
       ],
       "index": 0,
       "layout": "IPY_MODEL_8cc9e95fc27a4d419a863e3cc4a81363",
       "style": "IPY_MODEL_7e5af3a4c44745848725ef64a9efda4c"
      }
     },
     "f21484b420ea49d2a21df3730153d85b": {
      "model_module": "@jupyter-widgets/controls",
      "model_module_version": "1.5.0",
      "model_name": "ButtonStyleModel",
      "state": {}
     },
     "f22f9dea138e465ebb21ae7816cdb07e": {
      "model_module": "@jupyter-widgets/controls",
      "model_module_version": "1.5.0",
      "model_name": "ButtonModel",
      "state": {
       "layout": "IPY_MODEL_606ff8c47de640ec814fa6a0360e1448",
       "style": "IPY_MODEL_213eeef7653148578e93c828e9e40198"
      }
     },
     "f25ef5a43d1842c28c522e460878bf74": {
      "model_module": "@jupyter-widgets/base",
      "model_module_version": "1.2.0",
      "model_name": "LayoutModel",
      "state": {}
     },
     "f263e3218ed5415099dba4a8ee771a10": {
      "model_module": "@jupyter-widgets/controls",
      "model_module_version": "1.5.0",
      "model_name": "ButtonStyleModel",
      "state": {}
     },
     "f27cae354e3e4363ab04fbb0075ce377": {
      "model_module": "@jupyter-widgets/controls",
      "model_module_version": "1.5.0",
      "model_name": "ButtonModel",
      "state": {
       "description": "EDIT",
       "layout": "IPY_MODEL_bbe3e7dbb31c42ceb74c5b7500a98bbd",
       "style": "IPY_MODEL_5fdd526ad02147f9935f7351939df7b5"
      }
     },
     "f2858aa9fc204389a0cd5d888e94786c": {
      "model_module": "@jupyter-widgets/base",
      "model_module_version": "1.2.0",
      "model_name": "LayoutModel",
      "state": {
       "display": "none"
      }
     },
     "f2c92afc92e143659a8b1a14001fc976": {
      "model_module": "@jupyter-widgets/controls",
      "model_module_version": "1.5.0",
      "model_name": "HTMLModel",
      "state": {
       "layout": "IPY_MODEL_fce35878097d4d6c8387e6ec0bd86892",
       "style": "IPY_MODEL_92518634b4e6499cb6610cefbb7e3196",
       "value": "<font size=\"5\"><b>Suspicions</b></font size=>"
      }
     },
     "f2d5d2d8f95948d0912de88d4d0ffecb": {
      "model_module": "@jupyter-widgets/base",
      "model_module_version": "1.2.0",
      "model_name": "LayoutModel",
      "state": {
       "height": "32px",
       "overflow": "visible",
       "width": "100%"
      }
     },
     "f2d6eb0d256542e9b8f9559ad5cfdc75": {
      "model_module": "@jupyter-widgets/controls",
      "model_module_version": "1.5.0",
      "model_name": "ProgressStyleModel",
      "state": {
       "description_width": ""
      }
     },
     "f2f96002f90f4d29b31794245ed649c0": {
      "model_module": "@jupyter-widgets/controls",
      "model_module_version": "1.5.0",
      "model_name": "VBoxModel",
      "state": {
       "children": [
        "IPY_MODEL_7bd03200c9bf4ee4a464bc7f7c57d54b",
        "IPY_MODEL_397079c3c4494f49a3cae1f9c2805b9d",
        "IPY_MODEL_aa7a6914946c49429944aac51b98ac28",
        "IPY_MODEL_9ab089870f534217839b7928f129341a",
        "IPY_MODEL_ba8b753eb20e4885a0c9c753f27a32e8",
        "IPY_MODEL_a1b7cd85bb2f46f8bfa25b028d3a112a",
        "IPY_MODEL_918236043a164b51b80dcc3604a2d5b9",
        "IPY_MODEL_9eebcd128586480fac533fc4c04a6d80",
        "IPY_MODEL_9e3808cd8f6f4c7795c8319470f4a135"
       ],
       "layout": "IPY_MODEL_6b7c34e484534c06a372d66b9b32419f"
      }
     },
     "f35ae73634944b16bae2aadbbeed9e04": {
      "model_module": "@jupyter-widgets/controls",
      "model_module_version": "1.5.0",
      "model_name": "IntProgressModel",
      "state": {
       "layout": "IPY_MODEL_72446b8986364a099961ad73c646cb9b",
       "style": "IPY_MODEL_c688f3c9245b4bd896bca637d1baa9d4",
       "value": 30
      }
     },
     "f3767a2caa314353ba148e5b950246c9": {
      "model_module": "@jupyter-widgets/base",
      "model_module_version": "1.2.0",
      "model_name": "LayoutModel",
      "state": {
       "display": "none",
       "width": "60px"
      }
     },
     "f388a0946443448e9575552cf45526cb": {
      "model_module": "@jupyter-widgets/controls",
      "model_module_version": "1.5.0",
      "model_name": "DropdownModel",
      "state": {
       "_options_labels": [
        "Any",
        "Kinetic",
        "Solar",
        "Void",
        "Arc"
       ],
       "index": 0,
       "layout": "IPY_MODEL_8cc9e95fc27a4d419a863e3cc4a81363",
       "style": "IPY_MODEL_7d3758383aae45a79a1439483221dcef"
      }
     },
     "f3985c22a5054b7cacf74ec7af704e3e": {
      "model_module": "@jupyter-widgets/controls",
      "model_module_version": "1.5.0",
      "model_name": "ProgressStyleModel",
      "state": {
       "description_width": ""
      }
     },
     "f3c072fbf7364abbab1607183c933d1c": {
      "model_module": "@jupyter-widgets/controls",
      "model_module_version": "1.5.0",
      "model_name": "IntProgressModel",
      "state": {
       "layout": "IPY_MODEL_09e81e4abf3e4e128f47d03258ff82f9",
       "style": "IPY_MODEL_c3a7e6b439b64c7191132a292d366f9c",
       "value": 30
      }
     },
     "f3c3a3f203174b93bcef142facdde640": {
      "model_module": "@jupyter-widgets/controls",
      "model_module_version": "1.5.0",
      "model_name": "DescriptionStyleModel",
      "state": {
       "description_width": ""
      }
     },
     "f405bf4acf574d6baca837181cdb2015": {
      "model_module": "@jupyter-widgets/controls",
      "model_module_version": "1.5.0",
      "model_name": "VBoxModel",
      "state": {
       "children": [
        "IPY_MODEL_d3429de3f0ff416a86b94e90c5e2da0c",
        "IPY_MODEL_8fc57de0fc1e4101a2556704d93a5660",
        "IPY_MODEL_608ace7fb66245789d14ab8269318451",
        "IPY_MODEL_3a785c53f8d146bfa328ccd1534bcd1a",
        "IPY_MODEL_f388a0946443448e9575552cf45526cb",
        "IPY_MODEL_f17db0616a934df29afa1a02790b92e6",
        "IPY_MODEL_01ae7e6071ab427d91ee5de929c0cdd5",
        "IPY_MODEL_460f2124312142b5b6345c2b0734f07e",
        "IPY_MODEL_968b6351165d4877a6bdd9883c4e6fe4"
       ],
       "layout": "IPY_MODEL_f25ef5a43d1842c28c522e460878bf74"
      }
     },
     "f41656adca144680a3c4cd74b2d144c6": {
      "model_module": "@jupyter-widgets/controls",
      "model_module_version": "1.5.0",
      "model_name": "HBoxModel",
      "state": {
       "children": [
        "IPY_MODEL_a89a79db379a489bad7dadaf80d2790b",
        "IPY_MODEL_b6f7ab07cee44f23b225e655d9a7463a",
        "IPY_MODEL_28c5f527328c424c93e776cc2a9a02b3",
        "IPY_MODEL_3f15c6000e1240028ee3935387efcbfa"
       ],
       "layout": "IPY_MODEL_a835a07cfc024ee09f04521bec4bc4a7"
      }
     },
     "f48eb1955c664531b9d45737d4a0486c": {
      "model_module": "@jupyter-widgets/controls",
      "model_module_version": "1.5.0",
      "model_name": "HBoxModel",
      "state": {
       "children": [
        "IPY_MODEL_05651c38b67c47b48205ac957194f361",
        "IPY_MODEL_98510c61a02f430ab41058dd17e8eaea"
       ],
       "layout": "IPY_MODEL_5e127d1a65a6436e83ac0dc11e71b99e"
      }
     },
     "f5367e47cccd4a64b70d08428a14f41d": {
      "model_module": "@jupyter-widgets/controls",
      "model_module_version": "1.5.0",
      "model_name": "LabelModel",
      "state": {
       "layout": "IPY_MODEL_372539ec71e745c9a4dddd5708a3726a",
       "style": "IPY_MODEL_a17ec0fe07b54d129a238ea99ac97432",
       "value": "    My Bowfriend's Back (3/1)"
      }
     },
     "f54285aa3a394fab989325f4628371fa": {
      "model_module": "@jupyter-widgets/base",
      "model_module_version": "1.2.0",
      "model_name": "LayoutModel",
      "state": {
       "height": "32px",
       "overflow": "visible",
       "width": "100%"
      }
     },
     "f55a0c1a391049619edb81d16a4445f4": {
      "model_module": "@jupyter-widgets/controls",
      "model_module_version": "1.5.0",
      "model_name": "ProgressStyleModel",
      "state": {
       "description_width": ""
      }
     },
     "f570950ae45949fe9dbd8c1f5c9a6ae1": {
      "model_module": "@jupyter-widgets/base",
      "model_module_version": "1.2.0",
      "model_name": "LayoutModel",
      "state": {
       "display": "none"
      }
     },
     "f58426fe48d747c8a60025278cf26825": {
      "model_module": "@jupyter-widgets/controls",
      "model_module_version": "1.5.0",
      "model_name": "ProgressStyleModel",
      "state": {
       "description_width": ""
      }
     },
     "f5b7e9c222694fafa87ee1e52555b93d": {
      "model_module": "@jupyter-widgets/base",
      "model_module_version": "1.2.0",
      "model_name": "LayoutModel",
      "state": {}
     },
     "f6138fd7d30b4f93a7b2778a9b89c46c": {
      "model_module": "@jupyter-widgets/controls",
      "model_module_version": "1.5.0",
      "model_name": "LabelModel",
      "state": {
       "layout": "IPY_MODEL_9eb5b6ec28e4431fae29ebcc7e8c083b",
       "style": "IPY_MODEL_e28a08c29c35437393c2e04162a49d40",
       "value": "   objective"
      }
     },
     "f63ad98150e442cebf4f721527989d71": {
      "model_module": "@jupyter-widgets/base",
      "model_module_version": "1.2.0",
      "model_name": "LayoutModel",
      "state": {}
     },
     "f63ba9d048c0453b843bda9eb96a9475": {
      "model_module": "@jupyter-widgets/controls",
      "model_module_version": "1.5.0",
      "model_name": "LabelModel",
      "state": {
       "layout": "IPY_MODEL_f1c28bdbe01a4fcf9ac2ec56ef905f45",
       "style": "IPY_MODEL_a140dda8ef324a35bc6355910df8628b",
       "value": "   objective"
      }
     },
     "f6bfbb87db3940ef9e5db7f53d02b332": {
      "model_module": "@jupyter-widgets/base",
      "model_module_version": "1.2.0",
      "model_name": "LayoutModel",
      "state": {
       "order": "-1",
       "overflow": "visible",
       "padding": "1px",
       "width": "0px"
      }
     },
     "f6c70fa78ccb413ca504ec9d32390e2d": {
      "model_module": "@jupyter-widgets/controls",
      "model_module_version": "1.5.0",
      "model_name": "ButtonModel",
      "state": {
       "layout": "IPY_MODEL_69a656eab5e74a1b8c8c4716846c04a1",
       "style": "IPY_MODEL_bd3c8fb10f8f4adda786a72d23cea962"
      }
     },
     "f6e9662691ad44d182b946c4363f2179": {
      "model_module": "@jupyter-widgets/controls",
      "model_module_version": "1.5.0",
      "model_name": "ButtonStyleModel",
      "state": {}
     },
     "f70b38e505d8499f830dbb7d2a61d4b3": {
      "model_module": "@jupyter-widgets/controls",
      "model_module_version": "1.5.0",
      "model_name": "ButtonStyleModel",
      "state": {}
     },
     "f750eb55b47b46c89671f924ff5c7d20": {
      "model_module": "@jupyter-widgets/controls",
      "model_module_version": "1.5.0",
      "model_name": "LabelModel",
      "state": {
       "layout": "IPY_MODEL_e2482600596e43a4b9a9cbec6840bf1f",
       "style": "IPY_MODEL_56df058fbea646989644f980bb0aeb38",
       "value": "   objective"
      }
     },
     "f76633412f3348069e57c6b60f3954e7": {
      "model_module": "@jupyter-widgets/controls",
      "model_module_version": "1.5.0",
      "model_name": "LabelModel",
      "state": {
       "layout": "IPY_MODEL_10c080657ae048b5bfb25984914422f5",
       "style": "IPY_MODEL_43c707e1ecef434a9fcbec259bb459b2",
       "value": "   objective"
      }
     },
     "f7994e4d851243dab9adba43958bdf9f": {
      "model_module": "@jupyter-widgets/controls",
      "model_module_version": "1.5.0",
      "model_name": "ButtonStyleModel",
      "state": {}
     },
     "f7ce20a271fc4b11b7884c84029af465": {
      "model_module": "@jupyter-widgets/controls",
      "model_module_version": "1.5.0",
      "model_name": "IntProgressModel",
      "state": {
       "layout": "IPY_MODEL_03c9e4499e324ccd852f3d59cb765e9d",
       "style": "IPY_MODEL_d7469124a784409e80700a51719e0e75",
       "value": 30
      }
     },
     "f7dd26350a54465a90134b8372cae8d4": {
      "model_module": "@jupyter-widgets/controls",
      "model_module_version": "1.5.0",
      "model_name": "IntProgressModel",
      "state": {
       "layout": "IPY_MODEL_0f12151315bb48f6ae59e14aa8e8aa9c",
       "style": "IPY_MODEL_f3985c22a5054b7cacf74ec7af704e3e",
       "value": 30
      }
     },
     "f7e3386e9f1941b9ac05b85f41ccbd31": {
      "model_module": "@jupyter-widgets/controls",
      "model_module_version": "1.5.0",
      "model_name": "ButtonModel",
      "state": {
       "description": "EDIT",
       "layout": "IPY_MODEL_0bd358a4b83848d6868c3e53e431fe05",
       "style": "IPY_MODEL_1702311c232c4512ab7ce9e45614270b"
      }
     },
     "f833090c63284bd6a19bdf295e061571": {
      "model_module": "@jupyter-widgets/controls",
      "model_module_version": "1.5.0",
      "model_name": "ButtonStyleModel",
      "state": {}
     },
     "f85294818da34e62b88ca2f124e40d87": {
      "model_module": "@jupyter-widgets/controls",
      "model_module_version": "1.5.0",
      "model_name": "HTMLModel",
      "state": {
       "layout": "IPY_MODEL_70fe75107b5c46b7b4624eb4c157eaaa",
       "style": "IPY_MODEL_a1c29e0c9e1845deae1763358e3053bd",
       "value": "<i>Win a Gambit Prime match while wearing a full set of Notorious armor.</i>"
      }
     },
     "f8620f8f3b714e5a850f92d3963ce87e": {
      "model_module": "@jupyter-widgets/controls",
      "model_module_version": "1.5.0",
      "model_name": "ButtonStyleModel",
      "state": {}
     },
     "f867e64a1537453dbb2c301b127cbdc5": {
      "model_module": "@jupyter-widgets/controls",
      "model_module_version": "1.5.0",
      "model_name": "HBoxModel",
      "state": {
       "children": [
        "IPY_MODEL_6036a48507e8427f8f5ec87ce30ee52f",
        "IPY_MODEL_4850b198e5164e55a7916c6db59b4e11"
       ],
       "layout": "IPY_MODEL_50c7b69e661d4de1ab32ce372d3dcbf5"
      }
     },
     "f8a29f92c6bb48a7b21f1c44ee17c736": {
      "model_module": "@jupyter-widgets/controls",
      "model_module_version": "1.5.0",
      "model_name": "DescriptionStyleModel",
      "state": {
       "description_width": ""
      }
     },
     "f8ac8864e835461db7c62b5655baec84": {
      "model_module": "@jupyter-widgets/controls",
      "model_module_version": "1.5.0",
      "model_name": "VBoxModel",
      "state": {
       "children": [
        "IPY_MODEL_7476eb0b53f14fa0bfc23c1975be2da2",
        "IPY_MODEL_421bcb08c8fa428ab38f34ff768fe31b",
        "IPY_MODEL_f85294818da34e62b88ca2f124e40d87",
        "IPY_MODEL_cfca0150bae64c25811437cd37d13c22"
       ],
       "layout": "IPY_MODEL_8209e31c742b4daa8020b43f33e9224b"
      }
     },
     "f8b344305e074923b86e1b274682101a": {
      "model_module": "@jupyter-widgets/controls",
      "model_module_version": "1.5.0",
      "model_name": "ButtonStyleModel",
      "state": {}
     },
     "f8d04161114644cd9b73a566c71dedd6": {
      "model_module": "@jupyter-widgets/base",
      "model_module_version": "1.2.0",
      "model_name": "LayoutModel",
      "state": {
       "height": "32px",
       "overflow": "visible",
       "width": "100%"
      }
     },
     "f8d545fb98924fb7b72d99338c46629e": {
      "model_module": "@jupyter-widgets/controls",
      "model_module_version": "1.5.0",
      "model_name": "ButtonModel",
      "state": {
       "layout": "IPY_MODEL_3460d43d24b74f65a5b4c06a8a9479ff",
       "style": "IPY_MODEL_2aae24036f3048e0864935ede346cd4c"
      }
     },
     "f8ed3c3104fb443194ed1eb281fa241c": {
      "model_module": "@jupyter-widgets/base",
      "model_module_version": "1.2.0",
      "model_name": "LayoutModel",
      "state": {
       "order": "-1",
       "overflow": "visible",
       "padding": "1px",
       "width": "0px"
      }
     },
     "f8f7e5bd688148e096756a6c5c18b987": {
      "model_module": "@jupyter-widgets/base",
      "model_module_version": "1.2.0",
      "model_name": "LayoutModel",
      "state": {
       "display": "none",
       "width": "60px"
      }
     },
     "f910231444b846aa98095e12f3792ddb": {
      "model_module": "@jupyter-widgets/controls",
      "model_module_version": "1.5.0",
      "model_name": "DescriptionStyleModel",
      "state": {
       "description_width": ""
      }
     },
     "f9312e54f1c84761a7de3fd24719ab4b": {
      "model_module": "@jupyter-widgets/controls",
      "model_module_version": "1.5.0",
      "model_name": "ProgressStyleModel",
      "state": {
       "description_width": ""
      }
     },
     "f97e92c429ac492c9e3b8930dd57e288": {
      "model_module": "@jupyter-widgets/base",
      "model_module_version": "1.2.0",
      "model_name": "LayoutModel",
      "state": {
       "display": "none"
      }
     },
     "f9daa25888d9490982f9e7275d236e7d": {
      "model_module": "@jupyter-widgets/controls",
      "model_module_version": "1.5.0",
      "model_name": "ButtonStyleModel",
      "state": {}
     },
     "fa017060ba294305a07458978d640a38": {
      "model_module": "@jupyter-widgets/controls",
      "model_module_version": "1.5.0",
      "model_name": "HTMLModel",
      "state": {
       "layout": "IPY_MODEL_69988e81541b4eff8d5e0e277f9777d4",
       "style": "IPY_MODEL_5989e829a8f643e2a123ad86adfcba4c",
       "value": "<i></i>"
      }
     },
     "fa44bf5138b64de7aaa8843eb938f80c": {
      "model_module": "@jupyter-widgets/controls",
      "model_module_version": "1.5.0",
      "model_name": "ButtonStyleModel",
      "state": {}
     },
     "fa8e9f887f634ed2b0d0aaaf6a924107": {
      "model_module": "@jupyter-widgets/controls",
      "model_module_version": "1.5.0",
      "model_name": "LabelModel",
      "state": {
       "layout": "IPY_MODEL_8f59e9dacd8045e9ab78be13212c4c37",
       "style": "IPY_MODEL_a78c392e1dfa4c639d9aaeaa8de5da27",
       "value": "   objective"
      }
     },
     "faa3f732822648068aca2abf131ce9ea": {
      "model_module": "@jupyter-widgets/controls",
      "model_module_version": "1.5.0",
      "model_name": "ButtonModel",
      "state": {
       "layout": "IPY_MODEL_d211fa47d0a54588a6eac435cf685e0b",
       "style": "IPY_MODEL_3fa32f981ca1425c8ab1d3376d42903a"
      }
     },
     "facf168be39c48d28fb8f0b23ca21293": {
      "model_module": "@jupyter-widgets/base",
      "model_module_version": "1.2.0",
      "model_name": "LayoutModel",
      "state": {
       "height": "32px",
       "order": "-2",
       "width": "32px"
      }
     },
     "fb18f12e90364d8fb390970711e29a0a": {
      "model_module": "@jupyter-widgets/base",
      "model_module_version": "1.2.0",
      "model_name": "LayoutModel",
      "state": {
       "height": "32px",
       "order": "-2",
       "width": "32px"
      }
     },
     "fba7aa52c9d545bca7e3e4437d802381": {
      "model_module": "@jupyter-widgets/base",
      "model_module_version": "1.2.0",
      "model_name": "LayoutModel",
      "state": {
       "display": "none",
       "width": "60px"
      }
     },
     "fbaeaa263bc744cb80df0d4c1ae25bc2": {
      "model_module": "@jupyter-widgets/base",
      "model_module_version": "1.2.0",
      "model_name": "LayoutModel",
      "state": {
       "display": "none",
       "width": "60px"
      }
     },
     "fc49d4eef07540e88a2bba7b480fc2aa": {
      "model_module": "@jupyter-widgets/controls",
      "model_module_version": "1.5.0",
      "model_name": "HBoxModel",
      "state": {
       "children": [
        "IPY_MODEL_73e49ed13ad54c4da695d840b24abb2d",
        "IPY_MODEL_a642770af2fc4f80bb573a9453e3c952",
        "IPY_MODEL_4a69ba7acc2745c6949c24f63603e9f6",
        "IPY_MODEL_56ddad879932447ca73828e7510df9f1"
       ],
       "layout": "IPY_MODEL_71d5afbebaaa415c9911ed386ad2e5dc"
      }
     },
     "fc52b414be3341b0af37d504d7e4d4b1": {
      "model_module": "@jupyter-widgets/controls",
      "model_module_version": "1.5.0",
      "model_name": "DescriptionStyleModel",
      "state": {
       "description_width": ""
      }
     },
     "fc68185f82364f24ad7d7119c5e7f711": {
      "model_module": "@jupyter-widgets/base",
      "model_module_version": "1.2.0",
      "model_name": "LayoutModel",
      "state": {
       "height": "32px",
       "order": "-2",
       "width": "32px"
      }
     },
     "fc697783c43f405a9e06d298f9687d41": {
      "model_module": "@jupyter-widgets/base",
      "model_module_version": "1.2.0",
      "model_name": "LayoutModel",
      "state": {
       "height": "32px",
       "order": "-2",
       "width": "32px"
      }
     },
     "fc69a01963aa4c9e91adabd9abc3fc95": {
      "model_module": "@jupyter-widgets/controls",
      "model_module_version": "1.5.0",
      "model_name": "HBoxModel",
      "state": {
       "children": [
        "IPY_MODEL_8cf176474c734ea987dd199ed92dfd5e",
        "IPY_MODEL_177d2055133f4d449932e24cc34f7c3e",
        "IPY_MODEL_f750eb55b47b46c89671f924ff5c7d20",
        "IPY_MODEL_4d98097f11d94dc5b8c0bf8fbee95217"
       ],
       "layout": "IPY_MODEL_899358a923b941da913bda437eb7c5f1"
      }
     },
     "fc7aebd2ff55414e88b2a7c896b38bb5": {
      "model_module": "@jupyter-widgets/controls",
      "model_module_version": "1.5.0",
      "model_name": "VBoxModel",
      "state": {
       "children": [
        "IPY_MODEL_3f820c88413a41eb9dd2fb0713a1bd27",
        "IPY_MODEL_2731eb2590ae46c58fedf080165c98bb",
        "IPY_MODEL_1a5c31b3e79a4f7e8b2a866a07c3507a",
        "IPY_MODEL_7af1308b51d24f2e80eee4436c15f5c5",
        "IPY_MODEL_f1ce5890e7bf44c0b46adeecf9466470"
       ],
       "layout": "IPY_MODEL_f5b7e9c222694fafa87ee1e52555b93d"
      }
     },
     "fc969f52c245417bbe7051a629b6790e": {
      "model_module": "@jupyter-widgets/controls",
      "model_module_version": "1.5.0",
      "model_name": "DescriptionStyleModel",
      "state": {
       "description_width": ""
      }
     },
     "fca0aac00d2645869cd842136fd6f2f8": {
      "model_module": "@jupyter-widgets/base",
      "model_module_version": "1.2.0",
      "model_name": "LayoutModel",
      "state": {
       "height": "32px",
       "order": "-2",
       "width": "32px"
      }
     },
     "fcbd393f8fad4b868c54d7f303328240": {
      "model_module": "@jupyter-widgets/base",
      "model_module_version": "1.2.0",
      "model_name": "LayoutModel",
      "state": {
       "display": "none",
       "width": "60px"
      }
     },
     "fccf0bed16ab4b64a3ab1697394d5e5b": {
      "model_module": "@jupyter-widgets/controls",
      "model_module_version": "1.5.0",
      "model_name": "ButtonModel",
      "state": {
       "layout": "IPY_MODEL_6ab843f4e099497ab7b3c1798461acd9",
       "style": "IPY_MODEL_a901fa81de9244a3ab02025f7863ad36"
      }
     },
     "fce35878097d4d6c8387e6ec0bd86892": {
      "model_module": "@jupyter-widgets/base",
      "model_module_version": "1.2.0",
      "model_name": "LayoutModel",
      "state": {
       "overflow": "visible",
       "width": "100%"
      }
     },
     "fd2530bc442747529396c7dbab8bd5e2": {
      "model_module": "@jupyter-widgets/controls",
      "model_module_version": "1.5.0",
      "model_name": "DescriptionStyleModel",
      "state": {
       "description_width": ""
      }
     },
     "fd312b70942344a5a9d4afc9d52cec3f": {
      "model_module": "@jupyter-widgets/controls",
      "model_module_version": "1.5.0",
      "model_name": "ButtonStyleModel",
      "state": {}
     },
     "fd35ac81f5874293a2d702ece40de220": {
      "model_module": "@jupyter-widgets/controls",
      "model_module_version": "1.5.0",
      "model_name": "DescriptionStyleModel",
      "state": {
       "description_width": ""
      }
     },
     "fd7d26917ce446b88056e42f3ed609d0": {
      "model_module": "@jupyter-widgets/base",
      "model_module_version": "1.2.0",
      "model_name": "LayoutModel",
      "state": {
       "display": "none"
      }
     },
     "fd855aa0d6914e1ca0c10ea9664a4147": {
      "model_module": "@jupyter-widgets/base",
      "model_module_version": "1.2.0",
      "model_name": "LayoutModel",
      "state": {
       "display": "flex"
      }
     },
     "fd9d3ba073ec42b3aa6a9e0ae3f9a3a8": {
      "model_module": "@jupyter-widgets/controls",
      "model_module_version": "1.5.0",
      "model_name": "LabelModel",
      "state": {
       "layout": "IPY_MODEL_9f1ec3bc8d8248a79336d1891dba1b1a",
       "style": "IPY_MODEL_656f721697dc4fc4944ef22b4848591f",
       "value": "   objective"
      }
     },
     "fd9f3873e26a4d51b6454040fb53fa43": {
      "model_module": "@jupyter-widgets/controls",
      "model_module_version": "1.5.0",
      "model_name": "IntProgressModel",
      "state": {
       "layout": "IPY_MODEL_548acfab8d954d69b60626d44a424c39",
       "style": "IPY_MODEL_12c9a09d8ae74c238a828267f558a6ff",
       "value": 30
      }
     },
     "fda06db9a39244409a1ffb3452e2e018": {
      "model_module": "@jupyter-widgets/controls",
      "model_module_version": "1.5.0",
      "model_name": "ButtonModel",
      "state": {
       "layout": "IPY_MODEL_51ce7782ecbd4948b5251c62d6c8f77d",
       "style": "IPY_MODEL_0071edfd96af4349ba3157ce1bd33bed"
      }
     },
     "fda104ba8bfc4e75bb1be37707a61eae": {
      "model_module": "@jupyter-widgets/controls",
      "model_module_version": "1.5.0",
      "model_name": "ProgressStyleModel",
      "state": {
       "description_width": ""
      }
     },
     "fdbd334049ee4d42af0147b61813dcc9": {
      "model_module": "@jupyter-widgets/controls",
      "model_module_version": "1.5.0",
      "model_name": "ButtonStyleModel",
      "state": {}
     },
     "fdc4f463d3e44ca0969eb7bb68ffbfd0": {
      "model_module": "@jupyter-widgets/base",
      "model_module_version": "1.2.0",
      "model_name": "LayoutModel",
      "state": {
       "order": "-1",
       "overflow": "visible",
       "padding": "1px",
       "width": "0px"
      }
     },
     "fdc8a8e63f38415fb988b2720d85ff95": {
      "model_module": "@jupyter-widgets/base",
      "model_module_version": "1.2.0",
      "model_name": "LayoutModel",
      "state": {
       "display": "none"
      }
     },
     "fdf90d597a3344edb9c3a4d5d3805dc1": {
      "model_module": "@jupyter-widgets/controls",
      "model_module_version": "1.5.0",
      "model_name": "ButtonModel",
      "state": {
       "layout": "IPY_MODEL_35566f3b2c1a457f936e29f81e9a3de9",
       "style": "IPY_MODEL_65ca365392304b658c33eda0f02e1cbb"
      }
     },
     "fe3a96b1f07f4942a8b0b973e3fcf75f": {
      "model_module": "@jupyter-widgets/base",
      "model_module_version": "1.2.0",
      "model_name": "LayoutModel",
      "state": {
       "display": "none"
      }
     },
     "fe4666b1f2cf4a6d892e44a559dda9f6": {
      "model_module": "@jupyter-widgets/controls",
      "model_module_version": "1.5.0",
      "model_name": "ProgressStyleModel",
      "state": {
       "description_width": ""
      }
     },
     "fe5d1aab527844f3bae1b514e6f08be9": {
      "model_module": "@jupyter-widgets/controls",
      "model_module_version": "1.5.0",
      "model_name": "HBoxModel",
      "state": {
       "children": [
        "IPY_MODEL_2511aaa7487b4772be7092a4caeca61b",
        "IPY_MODEL_a26f30306e9f4b80b3c471a0ae73dd52",
        "IPY_MODEL_f6138fd7d30b4f93a7b2778a9b89c46c",
        "IPY_MODEL_5145cbfba0ee458da71aa98bcbafd085"
       ],
       "layout": "IPY_MODEL_d4ebc3a50f144e3485732f4e2575f72d"
      }
     },
     "fe60bfb477b44499a1d6a8d3c4021adc": {
      "model_module": "@jupyter-widgets/base",
      "model_module_version": "1.2.0",
      "model_name": "LayoutModel",
      "state": {
       "order": "-1",
       "overflow": "visible",
       "padding": "1px",
       "width": "0px"
      }
     },
     "feae6a0e4af4411282416f341c2c4ad4": {
      "model_module": "@jupyter-widgets/base",
      "model_module_version": "1.2.0",
      "model_name": "LayoutModel",
      "state": {}
     },
     "ff03e7c221a142119585696c87090254": {
      "model_module": "@jupyter-widgets/controls",
      "model_module_version": "1.5.0",
      "model_name": "DescriptionStyleModel",
      "state": {
       "description_width": ""
      }
     },
     "ff092016b6cf4b9e8bcf6c2b3e17c3c6": {
      "model_module": "@jupyter-widgets/controls",
      "model_module_version": "1.5.0",
      "model_name": "DescriptionStyleModel",
      "state": {
       "description_width": ""
      }
     },
     "ff37ee7b1cb946789cee2ce22ecec74b": {
      "model_module": "@jupyter-widgets/base",
      "model_module_version": "1.2.0",
      "model_name": "LayoutModel",
      "state": {
       "display": "none",
       "width": "60px"
      }
     },
     "ff3f8b44f0af4817b0d376d6d1dc2feb": {
      "model_module": "@jupyter-widgets/controls",
      "model_module_version": "1.5.0",
      "model_name": "DescriptionStyleModel",
      "state": {
       "description_width": ""
      }
     },
     "ffb45d3edf2a496b98d67839d07f88a8": {
      "model_module": "@jupyter-widgets/controls",
      "model_module_version": "1.5.0",
      "model_name": "DescriptionStyleModel",
      "state": {
       "description_width": ""
      }
     }
    },
    "version_major": 2,
    "version_minor": 0
   }
  }
 },
 "nbformat": 4,
 "nbformat_minor": 4
}
