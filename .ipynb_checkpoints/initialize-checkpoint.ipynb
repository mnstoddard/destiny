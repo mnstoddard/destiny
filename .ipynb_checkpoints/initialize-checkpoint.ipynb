{
 "cells": [
  {
   "cell_type": "code",
   "execution_count": 1,
   "metadata": {},
   "outputs": [
    {
     "data": {
      "application/vnd.jupyter.widget-view+json": {
       "model_id": "a4c160009af74c94a65d27191fddbf3c",
       "version_major": 2,
       "version_minor": 0
      },
      "text/plain": [
       "Output()"
      ]
     },
     "metadata": {},
     "output_type": "display_data"
    }
   ],
   "source": [
    "%run APIfunctions.ipynb\n",
    "%run build_widgets.ipynb\n",
    "%run interaction.ipynb\n",
    "output = ipw.Output()\n",
    "\n"
   ]
  },
  {
   "cell_type": "code",
   "execution_count": 2,
   "metadata": {},
   "outputs": [
    {
     "data": {
      "application/vnd.jupyter.widget-view+json": {
       "model_id": "f738efbeeb294af3b5ddecfc2a533462",
       "version_major": 2,
       "version_minor": 0
      },
      "text/plain": [
       "Output()"
      ]
     },
     "metadata": {},
     "output_type": "display_data"
    }
   ],
   "source": [
    "display(output)"
   ]
  },
  {
   "cell_type": "code",
   "execution_count": 3,
   "metadata": {},
   "outputs": [],
   "source": [
    "def build_login():\n",
    "    \n",
    "    text_gamertag = ipw.Text(\n",
    "        description = 'Gamertag:'\n",
    "    )\n",
    "\n",
    "    button_gamertag = ipw.Button(\n",
    "        description = 'Search'\n",
    "    )\n",
    "\n",
    "    hbox_gamertag = ipw.HBox(\n",
    "        children = [\n",
    "            text_gamertag,\n",
    "            button_gamertag\n",
    "        ]\n",
    "    )\n",
    "    \n",
    "    url = 'https://www.bungie.net/en/OAuth/Authorize?client_id=29004&response_type=code'\n",
    "    \n",
    "    label_authenticate =  ipw.Label(\n",
    "        value = f'Open a new window and go here: {url}'\n",
    "    )\n",
    "\n",
    "    text_code = ipw.Text(\n",
    "        description=\"Code:\"\n",
    "    )\n",
    "\n",
    "    button_submit_code = ipw.Button(\n",
    "        description='Submit'\n",
    "    )\n",
    "\n",
    "    hbox_code = ipw.HBox(\n",
    "        children = [\n",
    "            text_code,\n",
    "            button_submit_code\n",
    "        ]\n",
    "    )\n",
    "    vbox_authenticate = ipw.VBox(\n",
    "        children = [\n",
    "            label_authenticate,\n",
    "            hbox_code\n",
    "        ]\n",
    "    )\n",
    "\n",
    "    def search_gamertag(b):\n",
    "        success = get_membershipId(text_gamertag.value)\n",
    "        if success:\n",
    "            output.clear_output()\n",
    "            with output: display(vbox_authenticate)\n",
    "        else:\n",
    "            with output: print(f'Unable to find {gamertag}!')\n",
    "        \n",
    "    button_gamertag.on_click(search_gamertag)\n",
    "    \n",
    "    \n",
    "    def submit_code(b):\n",
    "        success = authenticate(text_code.value)\n",
    "        if success:\n",
    "            output.clear_output()\n",
    "            build_interface()\n",
    "        else:\n",
    "            with output: print(\"Please Try Again\")\n",
    "\n",
    "    button_submit_code.on_click(submit_code)\n",
    "    \n",
    "    with output: display(hbox_gamertag)\n",
    "    \n",
    "\n",
    "    "
   ]
  },
  {
   "cell_type": "code",
   "execution_count": 4,
   "metadata": {},
   "outputs": [],
   "source": [
    "def build_interface():\n",
    "    global active_pursuits\n",
    "    \n",
    "    progress = ipw.HBox(\n",
    "        children = [\n",
    "            ipw.FloatProgress(\n",
    "                description = 'Loading:',\n",
    "                min = 0,\n",
    "                value = 0,\n",
    "                max = 110\n",
    "            ),\n",
    "            ipw.Label(\n",
    "                value = 'Building interface ()....'\n",
    "            )\n",
    "        ]\n",
    "    )\n",
    "    \n",
    "    with output: display(progress)\n",
    "    \n",
    "    progress.children[1].value = 'Building interface (loadout panel)....'\n",
    "    build_loadout_panel()\n",
    "    progress.children[0].value += 1 \n",
    "    \n",
    "    progress.children[1].value = 'Building interface (task panel)....'\n",
    "    build_task_panel()\n",
    "    progress.children[0].value += 1 \n",
    "    \n",
    "    progress.children[1].value = 'Building interface (filter panel)....' \n",
    "    build_filter_panel()\n",
    "    progress.children[0].value += 1\n",
    "    \n",
    "    progress.children[1].value = 'Downloading Data (Characters)....'\n",
    "    get_characters()\n",
    "    progress.children[0].value += 1 \n",
    "    \n",
    "    progress.children[1].value = 'Downloading Data (Triumphs)....'\n",
    "    refresh_triumphs()\n",
    "    progress.children[0].value += 1 \n",
    "    \n",
    "    progress.children[1].value = 'Downloading Data (Pursuits)....'\n",
    "    get_pursuits()\n",
    "    progress.children[0].value += 1 \n",
    "    \n",
    "    refresh_pursuits(active_pursuits, progress)\n",
    "    \n",
    "    progress.children[1].value = 'Loading Data (Tasks)....'\n",
    "    get_all_tasks()\n",
    "    progress.children[0].value += 1 \n",
    "    \n",
    "    progress.children[1].value = 'Loading Data (Filters)....'\n",
    "    filter_tasks()\n",
    "    progress.children[0].value += 1 \n",
    "    \n",
    "    progress.children[1].value = 'Loading Data (Interface)....'\n",
    "    refresh_view()\n",
    "    progress.children[0].value += 1 \n",
    "    \n",
    "\n",
    "\n",
    "    interface = ipw.HBox(\n",
    "        children = [\n",
    "            loadout.panel,\n",
    "            tasks.panel,\n",
    "            filters.panel\n",
    "        ]\n",
    "    )\n",
    "    \n",
    "    output.clear_output()\n",
    "    with output: display(interface)\n",
    "    "
   ]
  },
  {
   "cell_type": "code",
   "execution_count": 5,
   "metadata": {},
   "outputs": [],
   "source": [
    "build_login()"
   ]
  },
  {
   "cell_type": "code",
   "execution_count": null,
   "metadata": {},
   "outputs": [],
   "source": []
  }
 ],
 "metadata": {
  "kernelspec": {
   "display_name": "Python 3",
   "language": "python",
   "name": "python3"
  },
  "language_info": {
   "codemirror_mode": {
    "name": "ipython",
    "version": 3
   },
   "file_extension": ".py",
   "mimetype": "text/x-python",
   "name": "python",
   "nbconvert_exporter": "python",
   "pygments_lexer": "ipython3",
   "version": "3.7.4"
  },
  "widgets": {
   "application/vnd.jupyter.widget-state+json": {
    "state": {},
    "version_major": 2,
    "version_minor": 0
   }
  }
 },
 "nbformat": 4,
 "nbformat_minor": 4
}
