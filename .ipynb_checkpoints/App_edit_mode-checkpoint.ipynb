{
 "cells": [
  {
   "cell_type": "code",
   "execution_count": 1,
   "metadata": {
    "collapsed": true,
    "jupyter": {
     "outputs_hidden": true
    }
   },
   "outputs": [
    {
     "data": {
      "application/vnd.jupyter.widget-view+json": {
       "model_id": "25590846f13e4ac79e8c580ab5971eef",
       "version_major": 2,
       "version_minor": 0
      },
      "text/plain": [
       "Output()"
      ]
     },
     "metadata": {},
     "output_type": "display_data"
    }
   ],
   "source": [
    "import pickle\n",
    "import requests\n",
    "import ipywidgets as ipw\n",
    "%run interface.ipynb\n",
    "\n",
    "\n",
    "    \n",
    "#with open('pursuits.data', 'rb') as filehandle:\n",
    "    #pursuits = pickle.load(filehandle)\n",
    "    \n",
    "#with open('requirements_tasks.data', 'rb') as filehandle:\n",
    "    #requirements = pickle.load(filehandle)\n",
    "    \n"
   ]
  },
  {
   "cell_type": "code",
   "execution_count": null,
   "metadata": {},
   "outputs": [],
   "source": [
    "refresh_loadout()"
   ]
  },
  {
   "cell_type": "code",
   "execution_count": null,
   "metadata": {},
   "outputs": [],
   "source": [
    "print(active_objectives)"
   ]
  },
  {
   "cell_type": "code",
   "execution_count": null,
   "metadata": {},
   "outputs": [],
   "source": [
    "possible_requirements = {\n",
    "    'Class': ['Any', 'Titan', 'Hunter', 'Warlock'],\n",
    "    'Subclass': {\n",
    "        'Titan': ['Any', 'Sentinel', 'Striker', 'Sunbreaker'],\n",
    "        'Hunter': ['Any', 'Nightstalker', 'Arcstrider', 'Gunslinger'],\n",
    "        'Warlock': ['Any', 'Voidwalker', 'Stormcaller', 'Dawnblade']\n",
    "    },\n",
    "    'Tree': {\n",
    "        'Titan': {\n",
    "            'Sentinel': ['Any', 'Code of the Commander', 'Code of the Protector', 'Code of the Aggressor'],\n",
    "            'Striker': ['Any', 'Code of the Earthshaker', 'Code of the Missile', 'Code of the Juggernaut'],\n",
    "            'Sunbreaker':['Any', 'Code of the Fire-Forged', 'Code of the Devastator', 'Code of the Siegebreaker']\n",
    "        },\n",
    "        'Hunter': {\n",
    "            'Nightstalker': ['Any', 'Way of the Trapper', 'Way of the Wraith', 'Way of the Pathfinder'],\n",
    "            'Arcstrider': ['Any', 'Way of the Warrior', 'Way of the Current', 'Way of the Wind'],\n",
    "            'Gunslinger': ['Any', 'Way of the Outlaw', 'Way of a Thousand Cuts', 'Way of the Outlaw']\n",
    "        },\n",
    "        'Warlock': {\n",
    "            'Voidwalker': ['Any', 'Attunement of Chaos', 'Attunement of Fission', 'Attunement of Hunger'],\n",
    "            'Stormcaller': ['Any', 'Attunement of Conduction', 'Attunement of Control', 'Attunement of the Elements'],\n",
    "            'Dawnblade': ['Any', 'Attunement of Sky', 'Attunement of Grace', 'Attunement of Flame']\n",
    "        }\n",
    "    },\n",
    "    'Grenade': {\n",
    "        'Titan': {\n",
    "            'Sentinel': ['Any', 'Magnetic Grenade', 'Voidwall Grenade', 'Suppressor Grenade'],\n",
    "            'Striker': ['Any', 'Flashbang Grenade', 'Pulse Grenade', 'Lightning Grenade'],\n",
    "            'Sunbreaker':['Any', 'Incendiary Grenade', 'Thermite Grenade', 'Fusion Grenade']\n",
    "        },\n",
    "        'Hunter': {\n",
    "            'Nightstalker':['Any' ,'Vortex Grenade', 'Spike Grenade', ' Voidwall Grenade'],\n",
    "            'Arcstrider': ['Any', 'Skip Grenade', 'Flux Grenade', 'Arcbolt Grenade'],\n",
    "            'Gunslinger': ['Any', 'Incendiary Grenade', 'Swarm Grenade', 'Tripmine Grenade']\n",
    "        },\n",
    "        'Warlock': {\n",
    "            'Voidwalker': ['Any', 'Vortex Grenade', 'Axion Bolt', 'Scatter Grenade'],\n",
    "            'Stormcaller': ['Any', 'Arcbolt Grenade', 'Pulse Grenade', 'Storm Grenade'],\n",
    "            'Dawnblade': ['Any', 'Solar Grenade', 'Firebolt Grenade', 'Fusion Grenade']\n",
    "        }\n",
    "    },\n",
    "    'Weapon Slot': ['Any', 'Kinetic', 'Energy', 'Power'],\n",
    "    'Weapon Type': ['Any', 'Hand Cannon', 'Auto Rifle', 'Scout Rifle', 'Pulse Rifle', 'Sidearm', 'Submachine Gun', 'Combt Bow','Sniper Rifle', 'Shotgun', 'Fusion Rifle', 'Grenade Launcher', 'Machine Gun', 'Sword', 'Grenade Launcher', 'Rocket Launcher', 'Linear Fusion Rifle'],\n",
    "    'Weapon Ammo': ['Any', 'Primary', 'Secondary', 'Heavy'],\n",
    "    'Weapon Ammo Type': {\n",
    "        'Primary': ['Any', 'Hand Cannon', 'Auto Rifle', 'Scout Rifle', 'Pulse Rifle', 'Sidearm', 'Submachine Gun', 'Combt Bow',],\n",
    "        'Secondary': ['Any', 'Sniper Rifle', 'Shotgun', 'Fusion Rifle', 'Grenade Launcher'],\n",
    "        'Heavy': ['Any', 'Machine Gun', 'Sword', 'Grenade Launcher', 'Rocket Launcher', 'Linear Fusion Rifle']\n",
    "    },\n",
    "    'Weapon Energy': ['Any', 'Kinetic', 'Solar', 'Void', 'Arc'],\n",
    "    'Activity Type': ['Any', 'Patrol', 'Gambit', 'Reckoning', 'Menagerie', 'Vex Offensive', 'Raid', 'Strike', 'Nightfall', 'Crucible', 'Forge'],\n",
    "    'Activity': {\n",
    "        'Patrol': ['Any', 'Earth', 'Io', 'Nessus', 'Titan','Mars', 'Dreaming City', 'Tangled Shore', 'The Moon'],\n",
    "        'Strike': ['Any', 'Lake of Shadows','Savathûn\\'s Song','The Arms Dealer','The Inverted Spire','The Pyramidion', 'A Garden World','Tree of Probabilities','Will of The Thousands','Strange Terrain','The Insight Termius','Warden of Nothing','Broodhold','The Hollowed Lair','The Corrupted'],\n",
    "        'Nightfall': ['Any', 'Lake of Shadows','Savathûn\\'s Song','The Arms Dealer','The Inverted Spire','The Pyramidion', 'A Garden World','Tree of Probabilities','Will of The Thousands','Strange Terrain','The Insight Termius','Warden of Nothing','Broodhold','The Hollowed Lair','The Corrupted'],\n",
    "        'Raid': ['Any', 'Liathan', 'Prestige Leviathan', 'Eater of Worlds', 'Spire of Stars', 'Last Wish', 'Scourage of The Past', 'Crown of Sorrow', 'Garden of Salvation'],\n",
    "        'Crucible': ['Any', 'Clash', 'Control', 'Showdown', 'Mayhem', 'Breakthrough', 'Lockdown', 'Rumble', 'Supremacy', 'Doubles', 'Scorched', 'Countdown', 'Survival', 'Iron Banner'],\n",
    "        'Gambit': ['Any', 'Gambit', 'Gambit Prime'],\n",
    "        'Reckoning': ['Any', 'Tier I', 'Tier II', 'Tier III'],\n",
    "        'Menagerie': ['Any', 'Normal', 'Heroic'],\n",
    "        'Vex Offensive': ['Any'],\n",
    "        'Forge': ['Any', 'Volundr Forge', 'Gofannon Forge', 'Izanami Forge', 'Bergusia Forge']\n",
    "    }\n",
    "}\n",
    "layout_req = widgets.Layout(width='20%')\n",
    "layout_label_req = widgets.Layout(width='10%')\n",
    "output_req = widgets.Output()\n",
    "\n",
    "hbox_triumph_req = widgets.HBox()\n",
    "label_triumph_req = widgets.Label(\"Triumph:\", layout=layout_label_req)\n",
    "dropdown_triumph_req = widgets.Dropdown(options=list(triumphs.keys()), layout=layout_req)\n",
    "dropdown_objective_req = widgets.Dropdown(layout=layout_req)\n",
    "box_spacer_req = widgets.Box(layout=layout_req)\n",
    "button_save_req = widgets.Button(description='Save', layout=layout_req)\n",
    "hbox_triumph_req.children = [label_triumph_req,dropdown_triumph_req,dropdown_objective_req, box_spacer_req, button_save_req]\n",
    "\n",
    "def change_triumph(change):\n",
    "    output_req.clear_output()\n",
    "    with output_req: print_map(triumphs[change['new']])\n",
    "    dropdown_objective_req.options = list(triumphs[change['new']]['objectives'].keys())\n",
    "    \n",
    "\n",
    "    \n",
    "dropdown_triumph_req.observe(change_triumph, names='value')\n",
    "\n",
    "\n",
    "\n",
    "#----------------------Class----------------------------\n",
    "\n",
    "\n",
    "hbox_class_req = widgets.HBox()\n",
    "label_class_req = widgets.Label(value='Class:',layout=layout_label_req)\n",
    "dropdown_class_req = widgets.Dropdown(options=possible_requirements['Class'],layout=layout_req)\n",
    "dropdown_subclass_req = widgets.Dropdown(disabled = True, options = ['Any'],layout=layout_req)\n",
    "dropdown_tree_req = widgets.Dropdown(disabled = True, options = ['Any'],layout=layout_req)\n",
    "dropdown_grenade_req = widgets.Dropdown(disabled = True, options = ['Any'],layout=layout_req)\n",
    "hbox_class_req.children = [\n",
    "    label_class_req,\n",
    "    dropdown_class_req,\n",
    "    dropdown_subclass_req,\n",
    "    dropdown_tree_req,\n",
    "    dropdown_grenade_req\n",
    "]\n",
    "\n",
    "def change_class(change):\n",
    "    if change['new'] == 'Any':\n",
    "        dropdown_subclass_req.options = ['Any']\n",
    "        dropdown_subclass_req.disabled = True\n",
    "    else:\n",
    "        dropdown_subclass_req.options = possible_requirements['Subclass'][change['new']]\n",
    "        dropdown_subclass_req.disabled = False\n",
    "        \n",
    "def change_subclass(change):\n",
    "    if change['new'] == 'Any':\n",
    "        dropdown_tree_req.options = ['Any']\n",
    "        dropdown_tree_req.disabled = True\n",
    "        dropdown_grenade_req.options = ['Any']\n",
    "        dropdown_grenade_req.disabled = True\n",
    "    else:\n",
    "        dropdown_tree_req.options = possible_requirements['Tree'][dropdown_class_req.value][change['new']]\n",
    "        dropdown_tree_req.disabled = False\n",
    "        dropdown_grenade_req.options = possible_requirements['Grenade'][dropdown_class_req.value][change['new']]\n",
    "        dropdown_grenade_req.disabled = False\n",
    "\n",
    "dropdown_class_req.observe(change_class, names = 'value')\n",
    "dropdown_subclass_req.observe(change_subclass, names = 'value')\n",
    "\n",
    "\n",
    "#---------------Weapon-----------------------\n",
    "\n",
    "\n",
    "hbox_weapon_req = widgets.HBox()\n",
    "label_weapon_req = widgets.Label(value='Weapon:',layout=layout_label_req)\n",
    "dropdown_weapon_slot_req = widgets.Dropdown(options = possible_requirements['Weapon Slot'],layout=layout_req)\n",
    "dropdown_weapon_ammo_req = widgets.Dropdown(options = possible_requirements['Weapon Ammo'],layout=layout_req)\n",
    "dropdown_weapon_type_req = widgets.Dropdown(options = possible_requirements['Weapon Type'],layout=layout_req)\n",
    "dropdown_weapon_energy_req = widgets.Dropdown(options = possible_requirements['Weapon Energy'],layout=layout_req)\n",
    "\n",
    "\n",
    "hbox_weapon_req.children = [\n",
    "    label_weapon_req,\n",
    "    dropdown_weapon_slot_req,\n",
    "    dropdown_weapon_energy_req,\n",
    "    dropdown_weapon_type_req,\n",
    "    dropdown_weapon_ammo_req\n",
    "]\n",
    "\n",
    "stop_refresh_weapon = False\n",
    "\n",
    "#TODO: need to add functionality to set weapon slot type\n",
    "\n",
    "def refresh_weapon(dropdown, old, new):\n",
    "    global stop_refresh_weapon\n",
    "    if not stop_refresh_weapon:\n",
    "        stop_refresh_weapon = True\n",
    "        if dropdown == 'type':\n",
    "            if new != 'Any':\n",
    "                for ammo in possible_requirements['Weapon Ammo Type']:\n",
    "                    if new in possible_requirements['Weapon Ammo Type'][ammo]:\n",
    "                        dropdown_weapon_ammo_req.value = ammo\n",
    "                        dropdown_weapon_type_req.options = possible_requirements['Weapon Ammo Type'][ammo]\n",
    "                        dropdown_weapon_type_req.value = new\n",
    "        elif dropdown == 'ammo':\n",
    "            dropdown_weapon_type_req.value = 'Any'\n",
    "            if new == 'Any':\n",
    "                dropdown_weapon_type_req.options = possible_requirements['Weapon Type']\n",
    "            else:\n",
    "                 dropdown_weapon_type_req.options = possible_requirements['Weapon Ammo Type'][new]\n",
    "        stop_refresh_weapon = False \n",
    "            \n",
    "\n",
    "def change_weapon_type(change):\n",
    "    refresh_weapon('type',change['old'],change['new'])\n",
    "\n",
    "def change_weapon_ammo(change):\n",
    "    refresh_weapon('ammo',change['old'],change['new'])\n",
    "\n",
    "    \n",
    "dropdown_weapon_type_req.observe(change_weapon_type, names = 'value')\n",
    "dropdown_weapon_ammo_req.observe(change_weapon_ammo, names = 'value')\n",
    "\n",
    "\n",
    "#-----------------------------Activity------------------------------\n",
    "\n",
    "\n",
    "hbox_activity_req = widgets.HBox()\n",
    "label_activity_req = widgets.Label(value='Activity:',layout=layout_label_req)\n",
    "dropdown_activity_type_req = widgets.Dropdown(options = possible_requirements['Activity Type'],layout=layout_req)\n",
    "dropdown_activity_req = widgets.Dropdown(disabled = True, options = ['Any'],layout=layout_req)\n",
    "\n",
    "hbox_activity_req.children = [\n",
    "    label_activity_req,\n",
    "    dropdown_activity_type_req,\n",
    "    dropdown_activity_req\n",
    "]\n",
    "\n",
    "def change_activity_type(change):\n",
    "    if change['new'] == 'Any':\n",
    "        dropdown_activity_req.options = ['Any']\n",
    "        dropdown_activity_req.disabled = True\n",
    "    else:\n",
    "        dropdown_activity_req.options = possible_requirements['Activity'][change['new']]\n",
    "        dropdown_activity_req.disabled = False\n",
    "\n",
    "dropdown_activity_type_req.observe(change_activity_type, names = 'value')\n",
    "        \n",
    "vbox_req = widgets.VBox(children=[hbox_triumph_req,hbox_class_req,hbox_weapon_req,hbox_activity_req])\n",
    "\n",
    "\n",
    "\n",
    "def load_objective(objective):\n",
    "    if objective in requirements:\n",
    "        dropdown_class_req.value = requirements[objective]['Class']\n",
    "        dropdown_subclass_req.value = requirements[objective]['Subclass']\n",
    "        dropdown_tree_req.value = requirements[objective]['Tree']\n",
    "        dropdown_grenade_req.value = requirements[objective]['Grenade']\n",
    "        dropdown_weapon_slot_req.value = requirements[objective]['Weapon Slot']\n",
    "        dropdown_weapon_ammo_req.value = requirements[objective]['Weapon Ammo']\n",
    "        dropdown_weapon_type_req.value = requirements[objective]['Weapon Type']\n",
    "        dropdown_weapon_energy_req.value = requirements[objective]['Weapon Energy']\n",
    "        dropdown_activity_type_req.value = requirements[objective]['Activity Type']\n",
    "        dropdown_activity_req.value = requirements[objective]['Activity']\n",
    "    else:\n",
    "        dropdown_class_req.value = 'Any'\n",
    "        dropdown_subclass_req.value = 'Any'\n",
    "        dropdown_tree_req.value = 'Any'\n",
    "        dropdown_grenade_req.value = 'Any'\n",
    "        dropdown_weapon_slot_req.value = 'Any'\n",
    "        dropdown_weapon_ammo_req.value = 'Any'\n",
    "        dropdown_weapon_type_req.value = 'Any'\n",
    "        dropdown_weapon_energy_req.value = 'Any'\n",
    "        dropdown_activity_type_req.value = 'Any'\n",
    "        dropdown_activity_req.value = 'Any'\n",
    "    \n",
    "def save_objective(b):\n",
    "    objective = dropdown_objective_req.value\n",
    "    if objective not in requirements:\n",
    "        requirements[objective] = {}\n",
    "    requirements[objective]['Class'] = dropdown_class_req.value\n",
    "    requirements[objective]['Subclass'] = dropdown_subclass_req.value\n",
    "    requirements[objective]['Tree'] = dropdown_tree_req.value\n",
    "    requirements[objective]['Grenade'] = dropdown_grenade_req.value\n",
    "    requirements[objective]['Weapon Slot'] = dropdown_weapon_slot_req.value\n",
    "    requirements[objective]['Weapon Ammo'] = dropdown_weapon_ammo_req.value\n",
    "    requirements[objective]['Weapon Type'] = dropdown_weapon_type_req.value\n",
    "    requirements[objective]['Weapon Energy'] = dropdown_weapon_energy_req.value\n",
    "    requirements[objective]['Activity Type'] = dropdown_activity_type_req.value\n",
    "    requirements[objective]['Activity'] = dropdown_activity_req.value\n",
    "    with open('requirements.data', 'wb') as filehandle:\n",
    "        pickle.dump(requirements, filehandle) \n",
    "    \n",
    "\n",
    "def change_objective(change):\n",
    "    load_objective(change['new'])\n",
    "    \n",
    "dropdown_objective_req.observe(change_objective, names='value')\n",
    "button_save_req.on_click(save_objective)\n",
    "\n",
    "dropdown_triumph_req.value = list(triumphs.keys())[-1]\n",
    "dropdown_triumph_req.value = list(triumphs.keys())[0]\n"
   ]
  }
 ],
 "metadata": {
  "kernelspec": {
   "display_name": "Python 3",
   "language": "python",
   "name": "python3"
  },
  "language_info": {
   "codemirror_mode": {
    "name": "ipython",
    "version": 3
   },
   "file_extension": ".py",
   "mimetype": "text/x-python",
   "name": "python",
   "nbconvert_exporter": "python",
   "pygments_lexer": "ipython3",
   "version": "3.7.4"
  },
  "widgets": {
   "application/vnd.jupyter.widget-state+json": {
    "state": {
     "0059673c87f14592a08fe2aa5ed81720": {
      "model_module": "@jupyter-widgets/controls",
      "model_module_version": "1.5.0",
      "model_name": "LabelModel",
      "state": {
       "layout": "IPY_MODEL_e14452d6e17842518bd86cb1a8735285",
       "style": "IPY_MODEL_c2a7548796a0462f81318e37b9467de8",
       "value": "    Grenade kills (289/1000)"
      }
     },
     "00ac43d7f8c048aaa515e3a26673da9f": {
      "model_module": "@jupyter-widgets/controls",
      "model_module_version": "1.5.0",
      "model_name": "HTMLModel",
      "state": {
       "layout": "IPY_MODEL_6ee3a9f45d004f1997b2d15f82923be4",
       "style": "IPY_MODEL_1d7808f1027448fc9e2e96e800610195",
       "value": "<i></i>"
      }
     },
     "00af66bd49e14b8ea1e1167d88c57c74": {
      "model_module": "@jupyter-widgets/controls",
      "model_module_version": "1.5.0",
      "model_name": "ProgressStyleModel",
      "state": {
       "description_width": ""
      }
     },
     "00df1dc899a54ddbbd6d1e9173554746": {
      "model_module": "@jupyter-widgets/controls",
      "model_module_version": "1.5.0",
      "model_name": "VBoxModel",
      "state": {
       "children": [
        "IPY_MODEL_e4e60c6713d7457eab012447a5ce6658",
        "IPY_MODEL_3ecc2817b79d49cf8a8ebf8892e7e825"
       ],
       "layout": "IPY_MODEL_4ab3bdc9802a454d804b0cb50a693217"
      }
     },
     "00ec0da8d8944e0ea0d0b056c21c53e3": {
      "model_module": "@jupyter-widgets/controls",
      "model_module_version": "1.5.0",
      "model_name": "ButtonModel",
      "state": {
       "layout": "IPY_MODEL_b6ef0e95464b49f1bc672d211d609f34",
       "style": "IPY_MODEL_d0b6519f5c784a328c2abc4d72a2ec18"
      }
     },
     "0116ad24b9dd482ca1b7ea52f88192fb": {
      "model_module": "@jupyter-widgets/base",
      "model_module_version": "1.2.0",
      "model_name": "LayoutModel",
      "state": {
       "display": "none"
      }
     },
     "011b1349474f465bac5672bd2b891389": {
      "model_module": "@jupyter-widgets/controls",
      "model_module_version": "1.5.0",
      "model_name": "ProgressStyleModel",
      "state": {
       "description_width": ""
      }
     },
     "01359fd598f04440bf1de20b8072d0e1": {
      "model_module": "@jupyter-widgets/base",
      "model_module_version": "1.2.0",
      "model_name": "LayoutModel",
      "state": {}
     },
     "01423eea5af748a3b411838a9cc59364": {
      "model_module": "@jupyter-widgets/controls",
      "model_module_version": "1.5.0",
      "model_name": "DescriptionStyleModel",
      "state": {
       "description_width": ""
      }
     },
     "0163e256055f4f149ab53a5da1c45d07": {
      "model_module": "@jupyter-widgets/base",
      "model_module_version": "1.2.0",
      "model_name": "LayoutModel",
      "state": {
       "height": "32px",
       "order": "-2",
       "width": "32px"
      }
     },
     "017008c7f1174412828f2b916b58b69d": {
      "model_module": "@jupyter-widgets/controls",
      "model_module_version": "1.5.0",
      "model_name": "ProgressStyleModel",
      "state": {
       "description_width": ""
      }
     },
     "0174dfcf03e44454ae40773134fc935a": {
      "model_module": "@jupyter-widgets/controls",
      "model_module_version": "1.5.0",
      "model_name": "ButtonModel",
      "state": {
       "layout": "IPY_MODEL_f0816d7cef704fd395f21ff4b30986f9",
       "style": "IPY_MODEL_737ac58df6d84d929bfe700232bc54a3"
      }
     },
     "01853cfdc0864787b7f3646541443ec8": {
      "model_module": "@jupyter-widgets/controls",
      "model_module_version": "1.5.0",
      "model_name": "LabelModel",
      "state": {
       "layout": "IPY_MODEL_c8cd5d9aeaff47a49836074da0ca3bb5",
       "style": "IPY_MODEL_c3825753c2024b55bc0699c7cae818a9",
       "value": "Complete4!"
      }
     },
     "0187169b874a4b01bfedcd3d95d8ec36": {
      "model_module": "@jupyter-widgets/base",
      "model_module_version": "1.2.0",
      "model_name": "LayoutModel",
      "state": {
       "width": "60px"
      }
     },
     "018c01d34279464891ae224490bc67b3": {
      "model_module": "@jupyter-widgets/base",
      "model_module_version": "1.2.0",
      "model_name": "LayoutModel",
      "state": {}
     },
     "01a6d51332f040639d0f1888098ac25b": {
      "model_module": "@jupyter-widgets/controls",
      "model_module_version": "1.5.0",
      "model_name": "DescriptionStyleModel",
      "state": {
       "description_width": ""
      }
     },
     "01b272e440f941a0abe6f702a8694c1a": {
      "model_module": "@jupyter-widgets/controls",
      "model_module_version": "1.5.0",
      "model_name": "IntProgressModel",
      "state": {
       "layout": "IPY_MODEL_2b97c95a6c1d493dbd0bb1e7f4c2e8f8",
       "style": "IPY_MODEL_dfc5f36ec30b4b268343f6de29e3ab91",
       "value": 30
      }
     },
     "01f27f8092bd4ce1940336d1c3c79cf2": {
      "model_module": "@jupyter-widgets/controls",
      "model_module_version": "1.5.0",
      "model_name": "ButtonStyleModel",
      "state": {}
     },
     "01f7d267fe5941c2a6157ecfed4e2025": {
      "model_module": "@jupyter-widgets/base",
      "model_module_version": "1.2.0",
      "model_name": "LayoutModel",
      "state": {}
     },
     "020297ca211b4910846eead6bfd242d9": {
      "model_module": "@jupyter-widgets/base",
      "model_module_version": "1.2.0",
      "model_name": "LayoutModel",
      "state": {}
     },
     "025c3fd5c7874f62a4bf82d1fa375890": {
      "model_module": "@jupyter-widgets/controls",
      "model_module_version": "1.5.0",
      "model_name": "ButtonStyleModel",
      "state": {}
     },
     "026010354ad34006ad870e3eef587d23": {
      "model_module": "@jupyter-widgets/controls",
      "model_module_version": "1.5.0",
      "model_name": "DescriptionStyleModel",
      "state": {
       "description_width": ""
      }
     },
     "0260a8d72f034eae9939272403041898": {
      "model_module": "@jupyter-widgets/controls",
      "model_module_version": "1.5.0",
      "model_name": "HBoxModel",
      "state": {
       "children": [
        "IPY_MODEL_08031a327d224c4784b4a665ecdf80d3",
        "IPY_MODEL_03a7ceb2e63b4627a983e31cc733c36c",
        "IPY_MODEL_dec268b7770f4f5dba9911ac605e004f",
        "IPY_MODEL_699b08eecd3e4b62a7faa4405375c3eb"
       ],
       "layout": "IPY_MODEL_1dd3340cbe834034b6e112cd29839caa"
      }
     },
     "0295a09057fd4bcb98f15ff60618a4ee": {
      "model_module": "@jupyter-widgets/controls",
      "model_module_version": "1.5.0",
      "model_name": "IntProgressModel",
      "state": {
       "layout": "IPY_MODEL_45f6cf185f074dfe86807c8ee9c3c3bc",
       "style": "IPY_MODEL_c6574d0e94e74808bfd4ca460168f334",
       "value": 30
      }
     },
     "029db24411fa4ce9886e8c256e8c23b1": {
      "model_module": "@jupyter-widgets/base",
      "model_module_version": "1.2.0",
      "model_name": "LayoutModel",
      "state": {
       "width": "60px"
      }
     },
     "02b12a83e531445cb2bd9f19c0171ee6": {
      "model_module": "@jupyter-widgets/controls",
      "model_module_version": "1.5.0",
      "model_name": "LabelModel",
      "state": {
       "layout": "IPY_MODEL_a334818e3727481c9c4d2c572ab779b2",
       "style": "IPY_MODEL_a0d81ebf3dad42e6998e58cec84f9fb9",
       "value": "Energy Weapon:"
      }
     },
     "02ce4b4d272c4fb5ba28cb943672e523": {
      "model_module": "@jupyter-widgets/controls",
      "model_module_version": "1.5.0",
      "model_name": "ProgressStyleModel",
      "state": {
       "description_width": ""
      }
     },
     "030de7b910564de2bee473c574be5153": {
      "model_module": "@jupyter-widgets/controls",
      "model_module_version": "1.5.0",
      "model_name": "ButtonModel",
      "state": {
       "description": "EDIT",
       "layout": "IPY_MODEL_c5267accdff3423db983bfcf7be14946",
       "style": "IPY_MODEL_67142de1ef42442fb9e86ad0e345d5dd"
      }
     },
     "03335648816d4175a34882813699f2a4": {
      "model_module": "@jupyter-widgets/controls",
      "model_module_version": "1.5.0",
      "model_name": "VBoxModel",
      "state": {
       "children": [
        "IPY_MODEL_de32fde5fc1740ee877d58ad9d8937bc",
        "IPY_MODEL_e5de224541f14cd881a93540c890fa90",
        "IPY_MODEL_c12277b3f2ef4043904749f6e084b792",
        "IPY_MODEL_4614ba9abf934cb08ab22408b1186d59"
       ],
       "layout": "IPY_MODEL_07a806ff51194d12ba6f7e97e3ffb9a6"
      }
     },
     "03a7ceb2e63b4627a983e31cc733c36c": {
      "model_module": "@jupyter-widgets/controls",
      "model_module_version": "1.5.0",
      "model_name": "IntProgressModel",
      "state": {
       "layout": "IPY_MODEL_5c66cf40fe0b4f33985b4b1d154ebc1e",
       "style": "IPY_MODEL_1b23f51376bd4b11af40ac1984c2b540",
       "value": 30
      }
     },
     "03ad15e466d744969d7d81cbbcf89cdb": {
      "model_module": "@jupyter-widgets/base",
      "model_module_version": "1.2.0",
      "model_name": "LayoutModel",
      "state": {}
     },
     "03afb99422684f2ca3c4cc7cb30c6351": {
      "model_module": "@jupyter-widgets/controls",
      "model_module_version": "1.5.0",
      "model_name": "DescriptionStyleModel",
      "state": {
       "description_width": ""
      }
     },
     "03c4d30e099841a69f91d7d94fd797d8": {
      "model_module": "@jupyter-widgets/controls",
      "model_module_version": "1.5.0",
      "model_name": "ButtonStyleModel",
      "state": {}
     },
     "03e4e802afa7450690b8feacee5ad5f6": {
      "model_module": "@jupyter-widgets/base",
      "model_module_version": "1.2.0",
      "model_name": "LayoutModel",
      "state": {
       "height": "32px",
       "overflow": "visible",
       "width": "100%"
      }
     },
     "03f9a37030f4424f896af593e43a36fa": {
      "model_module": "@jupyter-widgets/base",
      "model_module_version": "1.2.0",
      "model_name": "LayoutModel",
      "state": {
       "display": "none"
      }
     },
     "03fb06338a064fcfa7bd84432f525191": {
      "model_module": "@jupyter-widgets/controls",
      "model_module_version": "1.5.0",
      "model_name": "IntProgressModel",
      "state": {
       "layout": "IPY_MODEL_03e4e802afa7450690b8feacee5ad5f6",
       "style": "IPY_MODEL_8523f8eba9bb42f59ec5cca2110f92d7",
       "value": 30
      }
     },
     "043c082d6930411f8ba80558f208187e": {
      "model_module": "@jupyter-widgets/controls",
      "model_module_version": "1.5.0",
      "model_name": "IntProgressModel",
      "state": {
       "layout": "IPY_MODEL_8ba0487c5cbc4dfeb82e49e6754c4a37",
       "style": "IPY_MODEL_e7e75ad50aca4111ac5b473675ed5909",
       "value": 30
      }
     },
     "047b6828d60842919a033ccc1c5dfef1": {
      "model_module": "@jupyter-widgets/base",
      "model_module_version": "1.2.0",
      "model_name": "LayoutModel",
      "state": {
       "width": "60px"
      }
     },
     "047c6ae5d4c049518c77747d16577dd7": {
      "model_module": "@jupyter-widgets/controls",
      "model_module_version": "1.5.0",
      "model_name": "ButtonStyleModel",
      "state": {}
     },
     "048330d3358a4e1c816e32a2a04d68db": {
      "model_module": "@jupyter-widgets/controls",
      "model_module_version": "1.5.0",
      "model_name": "HBoxModel",
      "state": {
       "children": [
        "IPY_MODEL_69fb17afd77c431590269097b6041710",
        "IPY_MODEL_0c933cfde6974477a337ce9c9ab865fd",
        "IPY_MODEL_7f1489c323bf4eb288e1b46e9d00e538",
        "IPY_MODEL_e2e2410ce7c64d0fa9ab137b6a241469"
       ],
       "layout": "IPY_MODEL_858c3669b9ef42cab501a5ea1138f6cb"
      }
     },
     "04bf6270bbb74eafa047e8847e75368e": {
      "model_module": "@jupyter-widgets/base",
      "model_module_version": "1.2.0",
      "model_name": "LayoutModel",
      "state": {
       "height": "32px",
       "order": "-2",
       "width": "32px"
      }
     },
     "04d39928f7094adc94ff6a97eddf0914": {
      "model_module": "@jupyter-widgets/controls",
      "model_module_version": "1.5.0",
      "model_name": "ButtonModel",
      "state": {
       "layout": "IPY_MODEL_bde2639552444a6e8e5731ec26f9286b",
       "style": "IPY_MODEL_880e5dd6ebf545d1a40138aeeab9014f"
      }
     },
     "04e863a01d744fda8cf46e3ec4aedd16": {
      "model_module": "@jupyter-widgets/controls",
      "model_module_version": "1.5.0",
      "model_name": "VBoxModel",
      "state": {
       "children": [
        "IPY_MODEL_7d5f373a4a154accb94858853d83a367",
        "IPY_MODEL_e6ebc7e5e75146b899c3a704b1edaff3",
        "IPY_MODEL_9769a2a38dd64592a35ced19ad4510e2"
       ],
       "layout": "IPY_MODEL_2b8a49d35e214d799ae5082a6fb12e9f"
      }
     },
     "0513c11c14444dfba62ae11aa42289b4": {
      "model_module": "@jupyter-widgets/controls",
      "model_module_version": "1.5.0",
      "model_name": "ButtonModel",
      "state": {
       "button_style": "success",
       "disabled": true,
       "layout": "IPY_MODEL_f0f87b7fcb6c4ed19c8abd75fd6bab34",
       "style": "IPY_MODEL_cab1564d0de84131ae1d4e28dabc2f06"
      }
     },
     "05324d0fc83445e49a7bef27674b9057": {
      "model_module": "@jupyter-widgets/controls",
      "model_module_version": "1.5.0",
      "model_name": "LabelModel",
      "state": {
       "layout": "IPY_MODEL_5fb18d30bfec4927a1eb34d302fd6510",
       "style": "IPY_MODEL_8faf853d0849402d94c4537cb2e729f4",
       "value": "   objective"
      }
     },
     "0562ec4f494f48ecb7add4aff4afb4b6": {
      "model_module": "@jupyter-widgets/controls",
      "model_module_version": "1.5.0",
      "model_name": "DescriptionStyleModel",
      "state": {
       "description_width": ""
      }
     },
     "05724f1b0502462b943c2fd46ea01926": {
      "model_module": "@jupyter-widgets/controls",
      "model_module_version": "1.5.0",
      "model_name": "HTMLModel",
      "state": {
       "layout": "IPY_MODEL_5312f129e8f54e218988c9233042cc7e",
       "style": "IPY_MODEL_026010354ad34006ad870e3eef587d23",
       "value": "<font size=\"1\">Triumphs/Lore/Dusk and Dawn/Revelation</font size=>"
      }
     },
     "05b929ba1d7b404cb6171832b99047f1": {
      "model_module": "@jupyter-widgets/controls",
      "model_module_version": "1.5.0",
      "model_name": "ProgressStyleModel",
      "state": {
       "description_width": ""
      }
     },
     "05db440ed4fa4647a7b8fee6156114b3": {
      "model_module": "@jupyter-widgets/base",
      "model_module_version": "1.2.0",
      "model_name": "LayoutModel",
      "state": {
       "align_items": "stretch",
       "display": "flex",
       "flex_flow": "row wrap"
      }
     },
     "0667bd116404491f88c927be5f38d7e1": {
      "model_module": "@jupyter-widgets/controls",
      "model_module_version": "1.5.0",
      "model_name": "ButtonStyleModel",
      "state": {}
     },
     "06b6bef8e0f244e098cc767b3168263a": {
      "model_module": "@jupyter-widgets/base",
      "model_module_version": "1.2.0",
      "model_name": "LayoutModel",
      "state": {
       "order": "-1",
       "overflow": "visible",
       "padding": "1px",
       "width": "0px"
      }
     },
     "06f51ee7fd024b16b290164a9108687b": {
      "model_module": "@jupyter-widgets/base",
      "model_module_version": "1.2.0",
      "model_name": "LayoutModel",
      "state": {
       "width": "60px"
      }
     },
     "06fe30e96de54998a454b41381e2fea1": {
      "model_module": "@jupyter-widgets/controls",
      "model_module_version": "1.5.0",
      "model_name": "ButtonStyleModel",
      "state": {}
     },
     "0751d79d6152413a88e38d57ba56350e": {
      "model_module": "@jupyter-widgets/controls",
      "model_module_version": "1.5.0",
      "model_name": "DescriptionStyleModel",
      "state": {
       "description_width": ""
      }
     },
     "077bb36a2e1c4a4fbd251e6474f78153": {
      "model_module": "@jupyter-widgets/base",
      "model_module_version": "1.2.0",
      "model_name": "LayoutModel",
      "state": {
       "height": "32px",
       "order": "-2",
       "width": "32px"
      }
     },
     "07a57ad4f4b94e74ac361d3b85bc802a": {
      "model_module": "@jupyter-widgets/base",
      "model_module_version": "1.2.0",
      "model_name": "LayoutModel",
      "state": {
       "width": "60px"
      }
     },
     "07a806ff51194d12ba6f7e97e3ffb9a6": {
      "model_module": "@jupyter-widgets/base",
      "model_module_version": "1.2.0",
      "model_name": "LayoutModel",
      "state": {
       "border": "3px solid white",
       "display": "flex",
       "flex": "1 1 0%",
       "margin": "10px",
       "min_width": "400px",
       "overflow": "visible",
       "padding": "10px",
       "width": "auto"
      }
     },
     "07ae971b30bc426984d02ee5f511bdf7": {
      "model_module": "@jupyter-widgets/controls",
      "model_module_version": "1.5.0",
      "model_name": "ProgressStyleModel",
      "state": {
       "description_width": ""
      }
     },
     "07f5f327f6c049b38b544deaf4504662": {
      "model_module": "@jupyter-widgets/controls",
      "model_module_version": "1.5.0",
      "model_name": "DescriptionStyleModel",
      "state": {
       "description_width": ""
      }
     },
     "07fcb5e9707b440991be1ce4f2ad6f4b": {
      "model_module": "@jupyter-widgets/base",
      "model_module_version": "1.2.0",
      "model_name": "LayoutModel",
      "state": {
       "height": "32px",
       "overflow": "visible",
       "width": "100%"
      }
     },
     "08031a327d224c4784b4a665ecdf80d3": {
      "model_module": "@jupyter-widgets/controls",
      "model_module_version": "1.5.0",
      "model_name": "ButtonModel",
      "state": {
       "layout": "IPY_MODEL_813b8b784a1a455ba4332633427cba3e",
       "style": "IPY_MODEL_54a4ff41fee84db1aebbcd1111c39324"
      }
     },
     "08140547c0a14668bc26a69ec5596a27": {
      "model_module": "@jupyter-widgets/controls",
      "model_module_version": "1.5.0",
      "model_name": "ButtonModel",
      "state": {
       "description": "EDIT",
       "layout": "IPY_MODEL_2f10ac0bf476480c95b49448e8218bc0",
       "style": "IPY_MODEL_4943c3a8cfbe41f0907ed9d901d250b2"
      }
     },
     "081a9f2767674d769aa9b5f184c9868a": {
      "model_module": "@jupyter-widgets/controls",
      "model_module_version": "1.5.0",
      "model_name": "ProgressStyleModel",
      "state": {
       "description_width": ""
      }
     },
     "08897eb8a0d54f4e9e2110c94c831b1a": {
      "model_module": "@jupyter-widgets/controls",
      "model_module_version": "1.5.0",
      "model_name": "LabelModel",
      "state": {
       "layout": "IPY_MODEL_2fe917e125b5496c8d982b7efbdeb631",
       "style": "IPY_MODEL_611820577dc440d9b48b1bf3eab9ef3e",
       "value": "    Valor ranks (0/1)"
      }
     },
     "08db801c056e468cbb97c5e249caf6f9": {
      "model_module": "@jupyter-widgets/controls",
      "model_module_version": "1.5.0",
      "model_name": "ButtonModel",
      "state": {
       "layout": "IPY_MODEL_86c5a1488d9240229f043bdc12554047",
       "style": "IPY_MODEL_dafcc5c2503e489d883ccb413109fbf2"
      }
     },
     "08e8e523fa5a43d98e04a92a8fae61b9": {
      "model_module": "@jupyter-widgets/base",
      "model_module_version": "1.2.0",
      "model_name": "LayoutModel",
      "state": {
       "height": "32px",
       "order": "-2",
       "width": "32px"
      }
     },
     "08ea95aa14db451aa317049c579c5ead": {
      "model_module": "@jupyter-widgets/controls",
      "model_module_version": "1.5.0",
      "model_name": "ProgressStyleModel",
      "state": {
       "description_width": ""
      }
     },
     "09059c5c3a8640118729afc86ac3449d": {
      "model_module": "@jupyter-widgets/base",
      "model_module_version": "1.2.0",
      "model_name": "LayoutModel",
      "state": {
       "order": "-1",
       "overflow": "visible",
       "padding": "1px",
       "width": "0px"
      }
     },
     "0911074f8cc54e309743ee5b5cf45110": {
      "model_module": "@jupyter-widgets/controls",
      "model_module_version": "1.5.0",
      "model_name": "HBoxModel",
      "state": {
       "children": [
        "IPY_MODEL_67b2657a091b4fcc9d75b18bed4076e2",
        "IPY_MODEL_e7c21c8715c149589726dc089ac5a46c",
        "IPY_MODEL_175db0e3e9204c37b4450b582825a01c",
        "IPY_MODEL_08140547c0a14668bc26a69ec5596a27"
       ],
       "layout": "IPY_MODEL_228da5589897452eb83a3cd5a08618d0"
      }
     },
     "09c50dc3dc6a4abcb0d77b59c29b4875": {
      "model_module": "@jupyter-widgets/controls",
      "model_module_version": "1.5.0",
      "model_name": "DescriptionStyleModel",
      "state": {
       "description_width": ""
      }
     },
     "0a59aa59f8434161828156389ba8aaa8": {
      "model_module": "@jupyter-widgets/controls",
      "model_module_version": "1.5.0",
      "model_name": "IntProgressModel",
      "state": {
       "layout": "IPY_MODEL_8a1582d8af97428c85ab234b5e9494cb",
       "style": "IPY_MODEL_75a7b3c7203c49e6998c9a77356888b9",
       "value": 30
      }
     },
     "0a7b857d738e4268901e4a75743923f5": {
      "model_module": "@jupyter-widgets/controls",
      "model_module_version": "1.5.0",
      "model_name": "HBoxModel",
      "state": {
       "children": [
        "IPY_MODEL_554ce52ac1264281959c5315eeb88ab4",
        "IPY_MODEL_1343d579a7d4406692a2c01c4cef52c6",
        "IPY_MODEL_ddb53d9517754a4a99923c7bd9dd97d2",
        "IPY_MODEL_c138bc665dbb4a8f8a0d22795b9b630d"
       ],
       "layout": "IPY_MODEL_2eda1edf20fd4aa6b96023c883db1000"
      }
     },
     "0a863d4bca6f493a84a1c24c4886cc62": {
      "model_module": "@jupyter-widgets/base",
      "model_module_version": "1.2.0",
      "model_name": "LayoutModel",
      "state": {
       "height": "32px",
       "overflow": "visible",
       "width": "100%"
      }
     },
     "0a9548b30cfd46c3bbb3e3526cf22ab5": {
      "model_module": "@jupyter-widgets/base",
      "model_module_version": "1.2.0",
      "model_name": "LayoutModel",
      "state": {
       "height": "32px",
       "order": "-2",
       "width": "32px"
      }
     },
     "0ad89779d4164550a5b20e21f99190e6": {
      "model_module": "@jupyter-widgets/controls",
      "model_module_version": "1.5.0",
      "model_name": "DescriptionStyleModel",
      "state": {
       "description_width": ""
      }
     },
     "0adda05299634a17a4a124d0b666fd5e": {
      "model_module": "@jupyter-widgets/controls",
      "model_module_version": "1.5.0",
      "model_name": "HTMLModel",
      "state": {
       "layout": "IPY_MODEL_3caccc10714d41d68809f2fc8f7bfca1",
       "style": "IPY_MODEL_9b4a63a5af6a4545b8020669d194ed7b",
       "value": "<font size=\"1\">Triumphs/Crucible/Lifetime/Valor Ranks</font size=>"
      }
     },
     "0b26d9549344458585e576744f75ecc6": {
      "model_module": "@jupyter-widgets/base",
      "model_module_version": "1.2.0",
      "model_name": "LayoutModel",
      "state": {
       "height": "32px",
       "order": "-2",
       "width": "32px"
      }
     },
     "0b56f75fb7824a7e9b93ddc1039d4ac5": {
      "model_module": "@jupyter-widgets/base",
      "model_module_version": "1.2.0",
      "model_name": "LayoutModel",
      "state": {
       "height": "32px",
       "order": "-2",
       "width": "32px"
      }
     },
     "0b9af65399b84dde9f9d91820f62339e": {
      "model_module": "@jupyter-widgets/controls",
      "model_module_version": "1.5.0",
      "model_name": "ButtonStyleModel",
      "state": {}
     },
     "0ba902530bed4fa288cfd0cbd86bdc5c": {
      "model_module": "@jupyter-widgets/controls",
      "model_module_version": "1.5.0",
      "model_name": "IntProgressModel",
      "state": {
       "layout": "IPY_MODEL_ca2da139518d496ab2ac977bfe57a701",
       "style": "IPY_MODEL_45e97715eb0840e1b7afb04ac995fe56",
       "value": 30
      }
     },
     "0bedf2d674b7483c8ccd9047e52e61b9": {
      "model_module": "@jupyter-widgets/controls",
      "model_module_version": "1.5.0",
      "model_name": "ProgressStyleModel",
      "state": {
       "description_width": ""
      }
     },
     "0bfec0465ebe40fa9e6192b07e450418": {
      "model_module": "@jupyter-widgets/base",
      "model_module_version": "1.2.0",
      "model_name": "LayoutModel",
      "state": {
       "display": "none"
      }
     },
     "0c9162b2c2c741d0a7582580c038877c": {
      "model_module": "@jupyter-widgets/controls",
      "model_module_version": "1.5.0",
      "model_name": "ButtonModel",
      "state": {
       "description": "EDIT",
       "layout": "IPY_MODEL_4004f52a10da4eeda1e4dd59bfa67fce",
       "style": "IPY_MODEL_a41dc64a618e43978c58c2b9763d6100"
      }
     },
     "0c933cfde6974477a337ce9c9ab865fd": {
      "model_module": "@jupyter-widgets/controls",
      "model_module_version": "1.5.0",
      "model_name": "IntProgressModel",
      "state": {
       "layout": "IPY_MODEL_b56a22c68eed4b1da17f41611b9aa347",
       "style": "IPY_MODEL_dcb201addbd1473db6af819a2c6ab864",
       "value": 30
      }
     },
     "0c99b0b457404b1b9b570fb369f1f344": {
      "model_module": "@jupyter-widgets/controls",
      "model_module_version": "1.5.0",
      "model_name": "LabelModel",
      "state": {
       "layout": "IPY_MODEL_3f5c4382d13d4faab72c7227eea950b2",
       "style": "IPY_MODEL_cd2cee413a59456fa07990ff4ea0759a",
       "value": "   objective"
      }
     },
     "0ca73a081591406c94e1bfb6101e946d": {
      "model_module": "@jupyter-widgets/controls",
      "model_module_version": "1.5.0",
      "model_name": "ButtonModel",
      "state": {
       "description": "EDIT",
       "layout": "IPY_MODEL_e11fc4a4c3a449b0953882d6ba650069",
       "style": "IPY_MODEL_4573829494ab4c63a4104322b9d0e676"
      }
     },
     "0ca783f83b874b739baf34f7c36235f4": {
      "model_module": "@jupyter-widgets/controls",
      "model_module_version": "1.5.0",
      "model_name": "ButtonStyleModel",
      "state": {}
     },
     "0d1a43b9061345a5a0ece0fd92dacbb5": {
      "model_module": "@jupyter-widgets/controls",
      "model_module_version": "1.5.0",
      "model_name": "ButtonModel",
      "state": {
       "description": "EDIT",
       "layout": "IPY_MODEL_8dba9bba6eed456890f2e1f7e131b5a5",
       "style": "IPY_MODEL_6d152c399cdf4bb9abc585ec2faa358f"
      }
     },
     "0d2dbc5f05b2429ab71fea9cc47d296e": {
      "model_module": "@jupyter-widgets/base",
      "model_module_version": "1.2.0",
      "model_name": "LayoutModel",
      "state": {
       "height": "32px",
       "overflow": "visible",
       "width": "100%"
      }
     },
     "0d75755dd2984e66bcde97d257b62dd1": {
      "model_module": "@jupyter-widgets/base",
      "model_module_version": "1.2.0",
      "model_name": "LayoutModel",
      "state": {}
     },
     "0dd5fc58da8e49a799fb9733326bc5cd": {
      "model_module": "@jupyter-widgets/controls",
      "model_module_version": "1.5.0",
      "model_name": "DropdownModel",
      "state": {
       "_options_labels": [
        "Any"
       ],
       "index": 0,
       "layout": "IPY_MODEL_a2e339e1cc0245c895eb6b18b242ffff",
       "style": "IPY_MODEL_ba89912e5cb247f2ad1439ece6aaee71"
      }
     },
     "0def9d7b612c4abb9581f8476bd3afe3": {
      "model_module": "@jupyter-widgets/controls",
      "model_module_version": "1.5.0",
      "model_name": "ButtonModel",
      "state": {
       "description": "EDIT",
       "layout": "IPY_MODEL_b21aba549e444a4b8cd7854129246fc2",
       "style": "IPY_MODEL_6e4447f0bdb746f3a94e9a50745a81e0"
      }
     },
     "0e077386dd51497c93a9960b6d65b522": {
      "model_module": "@jupyter-widgets/base",
      "model_module_version": "1.2.0",
      "model_name": "LayoutModel",
      "state": {}
     },
     "0e5909f5802e47a68ab031697b82ead9": {
      "model_module": "@jupyter-widgets/controls",
      "model_module_version": "1.5.0",
      "model_name": "ProgressStyleModel",
      "state": {
       "description_width": ""
      }
     },
     "0e5e0c4dd80e4ff5ae438bce5aab561c": {
      "model_module": "@jupyter-widgets/controls",
      "model_module_version": "1.5.0",
      "model_name": "ButtonModel",
      "state": {
       "layout": "IPY_MODEL_2ce60bd02649476e9452869459eeae45",
       "style": "IPY_MODEL_e00ebd325eb84976899a7d31b276c443"
      }
     },
     "0ef0439883244a41a8192775b9e6227a": {
      "model_module": "@jupyter-widgets/controls",
      "model_module_version": "1.5.0",
      "model_name": "VBoxModel",
      "state": {
       "children": [
        "IPY_MODEL_7381cce2e9fc406aae56abd8d3272f61",
        "IPY_MODEL_1373f36d6e6447dcaafe89dad19e5d1b",
        "IPY_MODEL_0260a8d72f034eae9939272403041898",
        "IPY_MODEL_d2ac8400158c462baed6d895ff08132b",
        "IPY_MODEL_e79c6f6ef68b4b67bb0a30af7138fd1f",
        "IPY_MODEL_2281b8f26b044a3a883d1293d836b60b"
       ],
       "layout": "IPY_MODEL_47dc0abb1d2742bcbabca4b9950f89b1"
      }
     },
     "0f0a4f60b1e444e8ae292eb38cc2d2b7": {
      "model_module": "@jupyter-widgets/base",
      "model_module_version": "1.2.0",
      "model_name": "LayoutModel",
      "state": {
       "width": "60px"
      }
     },
     "0f505fb4c5d74a8b918a2ef1bcaf0c86": {
      "model_module": "@jupyter-widgets/base",
      "model_module_version": "1.2.0",
      "model_name": "LayoutModel",
      "state": {
       "display": "none"
      }
     },
     "0fd234618bc842379721d11516eebeb4": {
      "model_module": "@jupyter-widgets/controls",
      "model_module_version": "1.5.0",
      "model_name": "IntProgressModel",
      "state": {
       "layout": "IPY_MODEL_b8f2211d862746c490b45105aea2fcbc",
       "max": 1,
       "style": "IPY_MODEL_fc6c493d1be94a8c97260e88892f373d"
      }
     },
     "0fd95d86f24b40c6947bd6ddea2d69e1": {
      "model_module": "@jupyter-widgets/controls",
      "model_module_version": "1.5.0",
      "model_name": "ButtonModel",
      "state": {
       "description": "EDIT",
       "layout": "IPY_MODEL_047b6828d60842919a033ccc1c5dfef1",
       "style": "IPY_MODEL_355a9698640c48b3bfe8582d8f2cfccf"
      }
     },
     "0ff651b9973240e1ac1f4ab7bed0d215": {
      "model_module": "@jupyter-widgets/controls",
      "model_module_version": "1.5.0",
      "model_name": "ButtonStyleModel",
      "state": {}
     },
     "1052056e159c49869ace1c2e97fbbc7a": {
      "model_module": "@jupyter-widgets/controls",
      "model_module_version": "1.5.0",
      "model_name": "HTMLModel",
      "state": {
       "layout": "IPY_MODEL_bd68372d5caf4dfb8b1666984c689969",
       "style": "IPY_MODEL_c5261a515ee34290bb609bc7da479293",
       "value": "<i>During the Revelry 2019, defeat bosses in the Verdant Forest while wearing at least four pieces of the Inaugural Revelry armor set.</i>"
      }
     },
     "105d924a06e4481398980ba6921cce4b": {
      "model_module": "@jupyter-widgets/controls",
      "model_module_version": "1.5.0",
      "model_name": "ButtonStyleModel",
      "state": {}
     },
     "10bde13c9f9f4346b89e4bcd458b6483": {
      "model_module": "@jupyter-widgets/base",
      "model_module_version": "1.2.0",
      "model_name": "LayoutModel",
      "state": {
       "height": "32px",
       "overflow": "visible",
       "width": "100%"
      }
     },
     "10e658ae16274e1d9a2d246fb8a6d6f8": {
      "model_module": "@jupyter-widgets/controls",
      "model_module_version": "1.5.0",
      "model_name": "IntProgressModel",
      "state": {
       "layout": "IPY_MODEL_6f40491254b54d3ca2b7dbb95c094e41",
       "style": "IPY_MODEL_c508c5203aa64ee9860063e29dd8451f",
       "value": 30
      }
     },
     "10e75e8174df4c80b8b5a519135da93e": {
      "model_module": "@jupyter-widgets/controls",
      "model_module_version": "1.5.0",
      "model_name": "LabelModel",
      "state": {
       "layout": "IPY_MODEL_fad1b5ed3da545f49920c8e64ea7c6c7",
       "style": "IPY_MODEL_48aa08289045481bae14d57dd3ade093",
       "value": "     (0/1)"
      }
     },
     "10ea3de08851477c88e552554fb55708": {
      "model_module": "@jupyter-widgets/controls",
      "model_module_version": "1.5.0",
      "model_name": "HTMLModel",
      "state": {
       "layout": "IPY_MODEL_bd91161f2afe4bb1ad6902314c8d9602",
       "style": "IPY_MODEL_1ab4bca4433f4785a7a423d0cdeabeff",
       "value": "<font size=\"5\"><b>Suspicions</b></font size=>"
      }
     },
     "1141363e5e994acd89e589586ba44645": {
      "model_module": "@jupyter-widgets/base",
      "model_module_version": "1.2.0",
      "model_name": "LayoutModel",
      "state": {
       "height": "32px",
       "order": "-2",
       "width": "32px"
      }
     },
     "124bb53b31d44d4881308cc866f3a8d6": {
      "model_module": "@jupyter-widgets/controls",
      "model_module_version": "1.5.0",
      "model_name": "ButtonStyleModel",
      "state": {}
     },
     "12577f42ce374bec81c2f729ef37d92b": {
      "model_module": "@jupyter-widgets/controls",
      "model_module_version": "1.5.0",
      "model_name": "HBoxModel",
      "state": {
       "children": [
        "IPY_MODEL_32e1100f715747b48e7b0376ca44ab71",
        "IPY_MODEL_345c3d1d4a3d4625b13f10bd4ee2dd65",
        "IPY_MODEL_64244e88dbdb4af7be9e99f0198b98e4",
        "IPY_MODEL_c582f36dbfa640cd8143d0fd6a01bbca"
       ],
       "layout": "IPY_MODEL_c10e13deb54a4215856b790baca36d80"
      }
     },
     "12830c71df4c45148424491c088aece3": {
      "model_module": "@jupyter-widgets/controls",
      "model_module_version": "1.5.0",
      "model_name": "DescriptionStyleModel",
      "state": {
       "description_width": ""
      }
     },
     "129bb809ddf4406eb7973f41212b1a9e": {
      "model_module": "@jupyter-widgets/base",
      "model_module_version": "1.2.0",
      "model_name": "LayoutModel",
      "state": {
       "border": "3px solid white",
       "display": "flex",
       "flex": "1 1 0%",
       "margin": "10px",
       "min_width": "400px",
       "overflow": "visible",
       "padding": "10px",
       "width": "auto"
      }
     },
     "12b3058ed7464f0ebe3a8d055be6285a": {
      "model_module": "@jupyter-widgets/base",
      "model_module_version": "1.2.0",
      "model_name": "LayoutModel",
      "state": {
       "width": "60px"
      }
     },
     "131c10280cc048caa223c2a3155a83fc": {
      "model_module": "@jupyter-widgets/controls",
      "model_module_version": "1.5.0",
      "model_name": "ButtonStyleModel",
      "state": {}
     },
     "132f34210ca24193a86995a50896fde2": {
      "model_module": "@jupyter-widgets/base",
      "model_module_version": "1.2.0",
      "model_name": "LayoutModel",
      "state": {
       "display": "none"
      }
     },
     "1340b88460bd4b9094d09788229eda58": {
      "model_module": "@jupyter-widgets/controls",
      "model_module_version": "1.5.0",
      "model_name": "DescriptionStyleModel",
      "state": {
       "description_width": ""
      }
     },
     "1343d579a7d4406692a2c01c4cef52c6": {
      "model_module": "@jupyter-widgets/controls",
      "model_module_version": "1.5.0",
      "model_name": "IntProgressModel",
      "state": {
       "layout": "IPY_MODEL_16864298e99941d5a8786dceb401328a",
       "style": "IPY_MODEL_a02e3a9d21f745ea9bb8a0e1b35282a4",
       "value": 30
      }
     },
     "13696560cddc46c38ecddb1db317164d": {
      "model_module": "@jupyter-widgets/controls",
      "model_module_version": "1.5.0",
      "model_name": "LabelModel",
      "state": {
       "layout": "IPY_MODEL_2371b4cf79954c02b14f901a60d2bbee",
       "style": "IPY_MODEL_9eaf4306181c4f35938504f015a1eba6",
       "value": "   objective"
      }
     },
     "1373f36d6e6447dcaafe89dad19e5d1b": {
      "model_module": "@jupyter-widgets/controls",
      "model_module_version": "1.5.0",
      "model_name": "HBoxModel",
      "state": {
       "children": [
        "IPY_MODEL_b0c3ba1cef5245a48395eec049f87e70",
        "IPY_MODEL_d5e8a652e8e44aa892c7d396fe3bc1ce",
        "IPY_MODEL_dd2b634b646b4d53b102fe4af323f997",
        "IPY_MODEL_a00c857babf94343a39e1a7a3f92f6b8"
       ],
       "layout": "IPY_MODEL_23ae89a575864112b7edca3013255100"
      }
     },
     "139e3c1856624407aee63ae128155fc0": {
      "model_module": "@jupyter-widgets/controls",
      "model_module_version": "1.5.0",
      "model_name": "ButtonStyleModel",
      "state": {}
     },
     "147895523da34970b43241918ade8baf": {
      "model_module": "@jupyter-widgets/controls",
      "model_module_version": "1.5.0",
      "model_name": "ButtonStyleModel",
      "state": {}
     },
     "14afe78ba9ca4a49b1c71992a49e1165": {
      "model_module": "@jupyter-widgets/base",
      "model_module_version": "1.2.0",
      "model_name": "LayoutModel",
      "state": {
       "height": "32px",
       "overflow": "visible",
       "width": "100%"
      }
     },
     "14b5e57145eb4b19b66931af8ff78131": {
      "model_module": "@jupyter-widgets/controls",
      "model_module_version": "1.5.0",
      "model_name": "LabelModel",
      "state": {
       "layout": "IPY_MODEL_a50f59e809c4473e98cef12c6ecd3668",
       "style": "IPY_MODEL_6183b262d37d4b75834ac145180af301",
       "value": "   objective"
      }
     },
     "14b804090ba14c21a35fbc240bef3e34": {
      "model_module": "@jupyter-widgets/base",
      "model_module_version": "1.2.0",
      "model_name": "LayoutModel",
      "state": {
       "height": "32px",
       "overflow": "visible",
       "width": "100%"
      }
     },
     "14e69d80454246e3847b5862d91f0a6a": {
      "model_module": "@jupyter-widgets/controls",
      "model_module_version": "1.5.0",
      "model_name": "DescriptionStyleModel",
      "state": {
       "description_width": ""
      }
     },
     "15691676f6d64539858006fc1e96604b": {
      "model_module": "@jupyter-widgets/controls",
      "model_module_version": "1.5.0",
      "model_name": "ButtonModel",
      "state": {
       "description": "EDIT",
       "layout": "IPY_MODEL_18b210677f5246ef821111f2f3561601",
       "style": "IPY_MODEL_3ff16986b67b41d181cdd86df1f765fd"
      }
     },
     "158fcfc9cb7c4d31a3858ba30372027f": {
      "model_module": "@jupyter-widgets/controls",
      "model_module_version": "1.5.0",
      "model_name": "DescriptionStyleModel",
      "state": {
       "description_width": ""
      }
     },
     "15ca7c28457146b2999f7fc527133de7": {
      "model_module": "@jupyter-widgets/controls",
      "model_module_version": "1.5.0",
      "model_name": "DescriptionStyleModel",
      "state": {
       "description_width": ""
      }
     },
     "160f496a2be44929a68deaa5a5b1e028": {
      "model_module": "@jupyter-widgets/controls",
      "model_module_version": "1.5.0",
      "model_name": "ProgressStyleModel",
      "state": {
       "description_width": ""
      }
     },
     "160feb4801994283b380d1bb07505f78": {
      "model_module": "@jupyter-widgets/base",
      "model_module_version": "1.2.0",
      "model_name": "LayoutModel",
      "state": {
       "display": "none"
      }
     },
     "1618e42158cb4b498554e9a9a0ce5c22": {
      "model_module": "@jupyter-widgets/base",
      "model_module_version": "1.2.0",
      "model_name": "LayoutModel",
      "state": {}
     },
     "166e8522bfc94f979aef41e6da1617c2": {
      "model_module": "@jupyter-widgets/controls",
      "model_module_version": "1.5.0",
      "model_name": "IntProgressModel",
      "state": {
       "layout": "IPY_MODEL_51f2f48b1cdc448ebd61ebb908d4e1c9",
       "max": 1,
       "style": "IPY_MODEL_8f794d5e379f42b8a3f3893809cf507e"
      }
     },
     "16864298e99941d5a8786dceb401328a": {
      "model_module": "@jupyter-widgets/base",
      "model_module_version": "1.2.0",
      "model_name": "LayoutModel",
      "state": {
       "height": "32px",
       "overflow": "visible",
       "width": "100%"
      }
     },
     "1690faca486640b1b2c65a58c7b18341": {
      "model_module": "@jupyter-widgets/controls",
      "model_module_version": "1.5.0",
      "model_name": "DescriptionStyleModel",
      "state": {
       "description_width": ""
      }
     },
     "16a3eede231b4c5da0ba7d54028c5915": {
      "model_module": "@jupyter-widgets/controls",
      "model_module_version": "1.5.0",
      "model_name": "ButtonModel",
      "state": {
       "description": "EDIT",
       "layout": "IPY_MODEL_f9131e53fb6b4522964894295422deed",
       "style": "IPY_MODEL_21b5b69fbf534faab93f59535cee3012"
      }
     },
     "16ae67d078a24c999e44f0c7694ea3c1": {
      "model_module": "@jupyter-widgets/base",
      "model_module_version": "1.2.0",
      "model_name": "LayoutModel",
      "state": {
       "order": "-1",
       "overflow": "visible",
       "padding": "1px",
       "width": "0px"
      }
     },
     "16b8e192daa34f72a32cc9bef1cab99b": {
      "model_module": "@jupyter-widgets/controls",
      "model_module_version": "1.5.0",
      "model_name": "LabelModel",
      "state": {
       "layout": "IPY_MODEL_1979da0d72844b6c8016be5859aeecf0",
       "style": "IPY_MODEL_f931e26b14814a35a457298546931573",
       "value": "     (0/1)"
      }
     },
     "16ce66e1b0bf4a419ddf5a9058b1a8c7": {
      "model_module": "@jupyter-widgets/base",
      "model_module_version": "1.2.0",
      "model_name": "LayoutModel",
      "state": {
       "height": "32px",
       "order": "-2",
       "width": "32px"
      }
     },
     "16cf27e4ccb14acfb80b7b7132175c26": {
      "model_module": "@jupyter-widgets/base",
      "model_module_version": "1.2.0",
      "model_name": "LayoutModel",
      "state": {
       "width": "60px"
      }
     },
     "171fc03635594bb2b0859faf9a1d1cb6": {
      "model_module": "@jupyter-widgets/base",
      "model_module_version": "1.2.0",
      "model_name": "LayoutModel",
      "state": {
       "border": "1px solid white",
       "min_width": "250px",
       "padding": "10px",
       "width": "15%"
      }
     },
     "175db0e3e9204c37b4450b582825a01c": {
      "model_module": "@jupyter-widgets/controls",
      "model_module_version": "1.5.0",
      "model_name": "LabelModel",
      "state": {
       "layout": "IPY_MODEL_780d7e7a646743fe98f4405458d9a6d9",
       "style": "IPY_MODEL_7d55c1dfdcb743a088d00235754b6108",
       "value": "   objective"
      }
     },
     "17654ddcfcd94d66b4ef8efb3c294236": {
      "model_module": "@jupyter-widgets/controls",
      "model_module_version": "1.5.0",
      "model_name": "HBoxModel",
      "state": {
       "children": [
        "IPY_MODEL_27436f298d8b4fcdaafe48ad52316ded",
        "IPY_MODEL_bb02fd1d3eee46b7bff91f76e91bfaee",
        "IPY_MODEL_c018bbd0af7641748a82fab57afea00b",
        "IPY_MODEL_a29be911130f49128f9a3afd1a5e09be"
       ],
       "layout": "IPY_MODEL_535e0cd859ce4ccd8125885283370b38"
      }
     },
     "17cff2909232481d88fca6586315dd9e": {
      "model_module": "@jupyter-widgets/controls",
      "model_module_version": "1.5.0",
      "model_name": "ButtonModel",
      "state": {
       "description": "EDIT",
       "layout": "IPY_MODEL_82893b5aa67a4bd1ba69339fa8a58ee9",
       "style": "IPY_MODEL_85b1e2b57cf44355a60735bc55bcee7e"
      }
     },
     "17dbb09dcdf2401d989bb0044cc6a328": {
      "model_module": "@jupyter-widgets/base",
      "model_module_version": "1.2.0",
      "model_name": "LayoutModel",
      "state": {
       "display": "flex"
      }
     },
     "1853dbee4d6b4eadb9fab572d2c8a2b6": {
      "model_module": "@jupyter-widgets/controls",
      "model_module_version": "1.5.0",
      "model_name": "ButtonModel",
      "state": {
       "layout": "IPY_MODEL_16ce66e1b0bf4a419ddf5a9058b1a8c7",
       "style": "IPY_MODEL_d1442d04204e4640b662568849168a35"
      }
     },
     "1876194ad416440db254be1911c72cfc": {
      "model_module": "@jupyter-widgets/base",
      "model_module_version": "1.2.0",
      "model_name": "LayoutModel",
      "state": {
       "height": "32px",
       "order": "-2",
       "width": "32px"
      }
     },
     "1889ce1e71ab4bf18996f052037d55c3": {
      "model_module": "@jupyter-widgets/base",
      "model_module_version": "1.2.0",
      "model_name": "LayoutModel",
      "state": {
       "height": "32px",
       "order": "-2",
       "width": "32px"
      }
     },
     "18b210677f5246ef821111f2f3561601": {
      "model_module": "@jupyter-widgets/base",
      "model_module_version": "1.2.0",
      "model_name": "LayoutModel",
      "state": {
       "width": "60px"
      }
     },
     "18c01af378c8484bbdeaadd43e682b9d": {
      "model_module": "@jupyter-widgets/controls",
      "model_module_version": "1.5.0",
      "model_name": "ButtonStyleModel",
      "state": {}
     },
     "196b03aa683a4432b0bd44d9b493d6e6": {
      "model_module": "@jupyter-widgets/controls",
      "model_module_version": "1.5.0",
      "model_name": "ButtonStyleModel",
      "state": {}
     },
     "1979da0d72844b6c8016be5859aeecf0": {
      "model_module": "@jupyter-widgets/base",
      "model_module_version": "1.2.0",
      "model_name": "LayoutModel",
      "state": {
       "order": "-1",
       "overflow": "visible",
       "padding": "1px",
       "width": "0px"
      }
     },
     "19bc52d7b0f84f4fb6bab5023fe7bc36": {
      "model_module": "@jupyter-widgets/controls",
      "model_module_version": "1.5.0",
      "model_name": "ProgressStyleModel",
      "state": {
       "description_width": ""
      }
     },
     "1a17bf4a0cb34fc38d3179f5c96df639": {
      "model_module": "@jupyter-widgets/controls",
      "model_module_version": "1.5.0",
      "model_name": "DescriptionStyleModel",
      "state": {
       "description_width": ""
      }
     },
     "1a274ddd3248414fb3405c4ac0f14e7b": {
      "model_module": "@jupyter-widgets/controls",
      "model_module_version": "1.5.0",
      "model_name": "ButtonStyleModel",
      "state": {}
     },
     "1a3944cd539c419ca8612bc1675d2ca3": {
      "model_module": "@jupyter-widgets/controls",
      "model_module_version": "1.5.0",
      "model_name": "DescriptionStyleModel",
      "state": {
       "description_width": ""
      }
     },
     "1a4f093c78814c228a25b531e204cb4f": {
      "model_module": "@jupyter-widgets/base",
      "model_module_version": "1.2.0",
      "model_name": "LayoutModel",
      "state": {
       "width": "60px"
      }
     },
     "1ab4bca4433f4785a7a423d0cdeabeff": {
      "model_module": "@jupyter-widgets/controls",
      "model_module_version": "1.5.0",
      "model_name": "DescriptionStyleModel",
      "state": {
       "description_width": ""
      }
     },
     "1aced4b3443543a1a532d424ad7c1ad9": {
      "model_module": "@jupyter-widgets/controls",
      "model_module_version": "1.5.0",
      "model_name": "ButtonStyleModel",
      "state": {}
     },
     "1ad7cee83d90422ba8da0bf265ab7916": {
      "model_module": "@jupyter-widgets/base",
      "model_module_version": "1.2.0",
      "model_name": "LayoutModel",
      "state": {
       "width": "60px"
      }
     },
     "1ad8a2be37a84611b7a3c3cd0a5e3577": {
      "model_module": "@jupyter-widgets/controls",
      "model_module_version": "1.5.0",
      "model_name": "DescriptionStyleModel",
      "state": {
       "description_width": ""
      }
     },
     "1ae1e6dc06fc4b74af8706feff6c96ea": {
      "model_module": "@jupyter-widgets/controls",
      "model_module_version": "1.5.0",
      "model_name": "ButtonModel",
      "state": {
       "description": "EDIT",
       "layout": "IPY_MODEL_9d5d72d7c16a43eaac88cba28df14478",
       "style": "IPY_MODEL_cc13525154e64888a3b6df3fb20218a5"
      }
     },
     "1b08212a8cd84252ad657afbf6df8821": {
      "model_module": "@jupyter-widgets/controls",
      "model_module_version": "1.5.0",
      "model_name": "LabelModel",
      "state": {
       "layout": "IPY_MODEL_9254204b623347b0b67ec3741dbaf9dd",
       "style": "IPY_MODEL_4b432d5958a742efb2bdb8f9c419c5f3",
       "value": "   objective"
      }
     },
     "1b22471ae90449ddafadec8a3535fbd6": {
      "model_module": "@jupyter-widgets/controls",
      "model_module_version": "1.5.0",
      "model_name": "VBoxModel",
      "state": {
       "children": [
        "IPY_MODEL_b105a35061e94ecabb9a62ae05fe598a",
        "IPY_MODEL_ffdc04786f2e4cf2964c82783198fb2e",
        "IPY_MODEL_58dcb4072b1d4246a2b89250732bc315",
        "IPY_MODEL_53729df786f74641a565c21660030b0e"
       ],
       "layout": "IPY_MODEL_52641ceff8f6462493614d9a09177ee0"
      }
     },
     "1b23f51376bd4b11af40ac1984c2b540": {
      "model_module": "@jupyter-widgets/controls",
      "model_module_version": "1.5.0",
      "model_name": "ProgressStyleModel",
      "state": {
       "description_width": ""
      }
     },
     "1b75f56170f14a6baf9129edd6990142": {
      "model_module": "@jupyter-widgets/controls",
      "model_module_version": "1.5.0",
      "model_name": "HTMLModel",
      "state": {
       "layout": "IPY_MODEL_01359fd598f04440bf1de20b8072d0e1",
       "style": "IPY_MODEL_88e434dc001a47feb13c4cbf69012709",
       "value": "<b>Activity Options</b>"
      }
     },
     "1bac32694a5948a8a39d17f6192d7f95": {
      "model_module": "@jupyter-widgets/base",
      "model_module_version": "1.2.0",
      "model_name": "LayoutModel",
      "state": {
       "height": "32px",
       "order": "-2",
       "width": "32px"
      }
     },
     "1bdea848cf00432bbb4802b905ed14fa": {
      "model_module": "@jupyter-widgets/base",
      "model_module_version": "1.2.0",
      "model_name": "LayoutModel",
      "state": {
       "height": "32px",
       "overflow": "visible",
       "width": "100%"
      }
     },
     "1beab48a134b434ea7fef612f1929b6e": {
      "model_module": "@jupyter-widgets/controls",
      "model_module_version": "1.5.0",
      "model_name": "ProgressStyleModel",
      "state": {
       "description_width": ""
      }
     },
     "1c3bf56d3f4b4d7bafe9778eaa042aa2": {
      "model_module": "@jupyter-widgets/base",
      "model_module_version": "1.2.0",
      "model_name": "LayoutModel",
      "state": {
       "border": "3px solid white",
       "display": "flex",
       "flex": "1 1 0%",
       "margin": "10px",
       "min_width": "400px",
       "overflow": "visible",
       "padding": "10px",
       "width": "auto"
      }
     },
     "1c720d83d5c4423a863b22de072798b3": {
      "model_module": "@jupyter-widgets/controls",
      "model_module_version": "1.5.0",
      "model_name": "DescriptionStyleModel",
      "state": {
       "description_width": ""
      }
     },
     "1c74b4179e474507bdd2f9bc67396e29": {
      "model_module": "@jupyter-widgets/base",
      "model_module_version": "1.2.0",
      "model_name": "LayoutModel",
      "state": {
       "overflow": "visible",
       "width": "100%"
      }
     },
     "1c7521fbeba145bd85dafa0ab055d94c": {
      "model_module": "@jupyter-widgets/base",
      "model_module_version": "1.2.0",
      "model_name": "LayoutModel",
      "state": {
       "width": "60px"
      }
     },
     "1cb2d29983d1455db2b02d40943f852e": {
      "model_module": "@jupyter-widgets/controls",
      "model_module_version": "1.5.0",
      "model_name": "DescriptionStyleModel",
      "state": {
       "description_width": ""
      }
     },
     "1cfe6c730257464ba8c2ad2fb3f9c081": {
      "model_module": "@jupyter-widgets/base",
      "model_module_version": "1.2.0",
      "model_name": "LayoutModel",
      "state": {
       "display": "none"
      }
     },
     "1d1756f1f37d4615a761e8b2e978522c": {
      "model_module": "@jupyter-widgets/controls",
      "model_module_version": "1.5.0",
      "model_name": "ButtonModel",
      "state": {
       "description": "EDIT",
       "layout": "IPY_MODEL_4e6a6acbbdc44304996eb25ae050d7e3",
       "style": "IPY_MODEL_8d7ad5ea3c5e482aa792f226d1210809"
      }
     },
     "1d53da2024484e9098b8974eaca536d1": {
      "model_module": "@jupyter-widgets/controls",
      "model_module_version": "1.5.0",
      "model_name": "ButtonModel",
      "state": {
       "layout": "IPY_MODEL_bb2449b6a95a46808732c17fb0626715",
       "style": "IPY_MODEL_d08c3d9cda1a4e82bb501c23ec2f4662"
      }
     },
     "1d7808f1027448fc9e2e96e800610195": {
      "model_module": "@jupyter-widgets/controls",
      "model_module_version": "1.5.0",
      "model_name": "DescriptionStyleModel",
      "state": {
       "description_width": ""
      }
     },
     "1d7c07c44e7d4f9f9ea69134fd426a0b": {
      "model_module": "@jupyter-widgets/controls",
      "model_module_version": "1.5.0",
      "model_name": "HTMLModel",
      "state": {
       "layout": "IPY_MODEL_e4014afea67744a3a46ecfec37ad0e89",
       "style": "IPY_MODEL_43fb04a699c748c38b0cfb2e23586048",
       "value": "<font size=\"5\"><b>A Grim Assessment</b></font size=>"
      }
     },
     "1d80df2b71f5485fb969f7a974cd6aa3": {
      "model_module": "@jupyter-widgets/base",
      "model_module_version": "1.2.0",
      "model_name": "LayoutModel",
      "state": {
       "order": "-1",
       "overflow": "visible",
       "padding": "1px",
       "width": "0px"
      }
     },
     "1d9534a8040f477cb35cf43cb2fefa9e": {
      "model_module": "@jupyter-widgets/controls",
      "model_module_version": "1.5.0",
      "model_name": "LabelModel",
      "state": {
       "layout": "IPY_MODEL_aec5aa3a7ab548678c37cab5e42454e0",
       "style": "IPY_MODEL_b3f297e0fa374542bcd0d7de664c9399",
       "value": "   objective"
      }
     },
     "1da80a7becd4441e9b1f98f5f41b9c07": {
      "model_module": "@jupyter-widgets/controls",
      "model_module_version": "1.5.0",
      "model_name": "LabelModel",
      "state": {
       "layout": "IPY_MODEL_df7b0cf6c95447ddb7840c99594634d8",
       "style": "IPY_MODEL_3c67c23fe6ae42bf82c2bb501fdd9bec",
       "value": "    Medals earned (0/1)"
      }
     },
     "1dae5cbab32b4a89a8ec3ada5836dc63": {
      "model_module": "@jupyter-widgets/controls",
      "model_module_version": "1.5.0",
      "model_name": "HBoxModel",
      "state": {
       "children": [
        "IPY_MODEL_890d25e4a0e248e9b2c3f1fb6bfcb0e6",
        "IPY_MODEL_656f88c4c39d433397c07a03c00a3959",
        "IPY_MODEL_711ebe19521b4e3cb8fd7b107621f3e1",
        "IPY_MODEL_030de7b910564de2bee473c574be5153"
       ],
       "layout": "IPY_MODEL_774db5e79f434625a1afe85a4e021421"
      }
     },
     "1dd3340cbe834034b6e112cd29839caa": {
      "model_module": "@jupyter-widgets/base",
      "model_module_version": "1.2.0",
      "model_name": "LayoutModel",
      "state": {
       "display": "none"
      }
     },
     "1e1179c67c54412a8506b02a6f18567d": {
      "model_module": "@jupyter-widgets/controls",
      "model_module_version": "1.5.0",
      "model_name": "DescriptionStyleModel",
      "state": {
       "description_width": ""
      }
     },
     "1e1bf96eafdd4a70b43d88d42de9bf80": {
      "model_module": "@jupyter-widgets/controls",
      "model_module_version": "1.5.0",
      "model_name": "DropdownModel",
      "state": {
       "_options_labels": [
        "Any",
        "Titan",
        "Hunter",
        "Warlock"
       ],
       "index": 0,
       "layout": "IPY_MODEL_a2e339e1cc0245c895eb6b18b242ffff",
       "style": "IPY_MODEL_e7d702eeec4f47e5b4aed814e6a857ba"
      }
     },
     "1e278f44db3e4e9188f0f4c6c0e1da4a": {
      "model_module": "@jupyter-widgets/controls",
      "model_module_version": "1.5.0",
      "model_name": "VBoxModel",
      "state": {
       "children": [
        "IPY_MODEL_ba9ad1db6e844cbc8c598db3a90180e2",
        "IPY_MODEL_90fc0c927fce4b6e982675d8a554efaa",
        "IPY_MODEL_20c52f60fdcf4a7b9a4622931f6e2bcf",
        "IPY_MODEL_a880a68aa036478ba1c3f52fbc7479a6",
        "IPY_MODEL_27821d6b71b1489db15be1b32fb15e01",
        "IPY_MODEL_fd85d237631541b39bf5f8c4d8e452ec"
       ],
       "layout": "IPY_MODEL_6af03aa00e4548eca73125ee74dc21dc"
      }
     },
     "1e4ccd081e824322935bf165d9021cf8": {
      "model_module": "@jupyter-widgets/controls",
      "model_module_version": "1.5.0",
      "model_name": "ButtonModel",
      "state": {
       "description": "EDIT",
       "layout": "IPY_MODEL_cf9b43c1d9544919a4e3fb24c9f82d5b",
       "style": "IPY_MODEL_e5c9013b0a744dfd994b6b726b49b864"
      }
     },
     "1e7692ccbc8c49d8a9766fa039d4920a": {
      "model_module": "@jupyter-widgets/controls",
      "model_module_version": "1.5.0",
      "model_name": "IntProgressModel",
      "state": {
       "layout": "IPY_MODEL_ea6340f4e9be4a9aaf01cb32f10a2bef",
       "max": 1,
       "style": "IPY_MODEL_c133baafd41645faaaccc9311582c7d3"
      }
     },
     "1e80dd7d0b6f4184bbc293e6207a4e48": {
      "model_module": "@jupyter-widgets/controls",
      "model_module_version": "1.5.0",
      "model_name": "ButtonModel",
      "state": {
       "description": "EDIT",
       "layout": "IPY_MODEL_bf87d8263add447199d76cfe71b3b790",
       "style": "IPY_MODEL_d402406008e34ee9a6b2598f8e73c19d"
      }
     },
     "1ebc7c73ebbc48319550b51636d446d3": {
      "model_module": "@jupyter-widgets/controls",
      "model_module_version": "1.5.0",
      "model_name": "ButtonStyleModel",
      "state": {}
     },
     "1f13b2e424b74ca29c4633f2e6d15f64": {
      "model_module": "@jupyter-widgets/base",
      "model_module_version": "1.2.0",
      "model_name": "LayoutModel",
      "state": {
       "height": "32px",
       "order": "-2",
       "width": "32px"
      }
     },
     "1f4fb903b2a143c6be1fb25e6f1206f2": {
      "model_module": "@jupyter-widgets/controls",
      "model_module_version": "1.5.0",
      "model_name": "VBoxModel",
      "state": {
       "children": [
        "IPY_MODEL_77acf8bb85e845dd98f1e47887078c08",
        "IPY_MODEL_e8b7e2ec930e44bca03fff1d14802031",
        "IPY_MODEL_5cf7641de6b94e8aa9844b5d7e596b54",
        "IPY_MODEL_f53f8837945f445f8d7ea8085ce0a943"
       ],
       "layout": "IPY_MODEL_1c3bf56d3f4b4d7bafe9778eaa042aa2"
      }
     },
     "1f993b4874dc4e3991589ac58a743d13": {
      "model_module": "@jupyter-widgets/base",
      "model_module_version": "1.2.0",
      "model_name": "LayoutModel",
      "state": {
       "height": "32px",
       "order": "-2",
       "width": "32px"
      }
     },
     "1f996f3ba1a64fe3ab7d934878a50010": {
      "model_module": "@jupyter-widgets/base",
      "model_module_version": "1.2.0",
      "model_name": "LayoutModel",
      "state": {
       "display": "none"
      }
     },
     "201b9bf1532b4184bccf07ddcd025ee3": {
      "model_module": "@jupyter-widgets/controls",
      "model_module_version": "1.5.0",
      "model_name": "ButtonStyleModel",
      "state": {}
     },
     "204b956da76a47acbab549ecfd522467": {
      "model_module": "@jupyter-widgets/controls",
      "model_module_version": "1.5.0",
      "model_name": "ButtonModel",
      "state": {
       "layout": "IPY_MODEL_d355c567e8d34265a11fa06ed5b1f401",
       "style": "IPY_MODEL_e982fc6abeb844d7a61ac42c030a31d7"
      }
     },
     "20c52f60fdcf4a7b9a4622931f6e2bcf": {
      "model_module": "@jupyter-widgets/controls",
      "model_module_version": "1.5.0",
      "model_name": "HBoxModel",
      "state": {
       "children": [
        "IPY_MODEL_81cf93a075754bb0956354225ad935ca",
        "IPY_MODEL_4ad7f28d7c994ac38353aae404f7fc3c",
        "IPY_MODEL_a970419fba2c4df290bcc2a70e7181c2",
        "IPY_MODEL_469948f215324c41a0bc9d044de3c8b7"
       ],
       "layout": "IPY_MODEL_2aa25f34c1ad4a3ab3680f5eb2bc3ebc"
      }
     },
     "20db224117314a34a5aaea83ab2762f6": {
      "model_module": "@jupyter-widgets/controls",
      "model_module_version": "1.5.0",
      "model_name": "ProgressStyleModel",
      "state": {
       "description_width": ""
      }
     },
     "20df0de705b0419790e8c9e61b08dbcc": {
      "model_module": "@jupyter-widgets/base",
      "model_module_version": "1.2.0",
      "model_name": "LayoutModel",
      "state": {
       "height": "32px",
       "order": "-2",
       "width": "32px"
      }
     },
     "216aead801eb445da128620727a481fa": {
      "model_module": "@jupyter-widgets/controls",
      "model_module_version": "1.5.0",
      "model_name": "ProgressStyleModel",
      "state": {
       "description_width": ""
      }
     },
     "21b5b69fbf534faab93f59535cee3012": {
      "model_module": "@jupyter-widgets/controls",
      "model_module_version": "1.5.0",
      "model_name": "ButtonStyleModel",
      "state": {}
     },
     "21ba2479efc84c96ad9bde22675f077d": {
      "model_module": "@jupyter-widgets/controls",
      "model_module_version": "1.5.0",
      "model_name": "ButtonStyleModel",
      "state": {}
     },
     "21eb8e701722464d97decabfec17bf2e": {
      "model_module": "@jupyter-widgets/base",
      "model_module_version": "1.2.0",
      "model_name": "LayoutModel",
      "state": {
       "order": "-1",
       "overflow": "visible",
       "padding": "1px",
       "width": "0px"
      }
     },
     "225ca1a60a81429299fc18a8d7b4246a": {
      "model_module": "@jupyter-widgets/controls",
      "model_module_version": "1.5.0",
      "model_name": "IntProgressModel",
      "state": {
       "layout": "IPY_MODEL_fbba9dc233074274a9f030bc173b3347",
       "style": "IPY_MODEL_6f32236c0ff34cac991fb1b47e2ea350",
       "value": 30
      }
     },
     "22649b0c6b1f465d92baaadad73f0089": {
      "model_module": "@jupyter-widgets/controls",
      "model_module_version": "1.5.0",
      "model_name": "IntProgressModel",
      "state": {
       "layout": "IPY_MODEL_3a330edb8dd24fc2b4ea970ea9178878",
       "max": 1,
       "style": "IPY_MODEL_9e28f18ba2cd431da4ea72c611ec437a"
      }
     },
     "2276e6c539ea410e9ebc6f767e9400a5": {
      "model_module": "@jupyter-widgets/controls",
      "model_module_version": "1.5.0",
      "model_name": "ProgressStyleModel",
      "state": {
       "description_width": ""
      }
     },
     "2281b8f26b044a3a883d1293d836b60b": {
      "model_module": "@jupyter-widgets/controls",
      "model_module_version": "1.5.0",
      "model_name": "HBoxModel",
      "state": {
       "children": [
        "IPY_MODEL_2e9fad67603d45839fd27a1e65760abf",
        "IPY_MODEL_f9fc567a50b64a9eb891b857788e63d4",
        "IPY_MODEL_51c64bf242254eae8286d43cb2b9d982",
        "IPY_MODEL_0d1a43b9061345a5a0ece0fd92dacbb5"
       ],
       "layout": "IPY_MODEL_d7d804bacdbd4fccac9aa9de25153b69"
      }
     },
     "228da5589897452eb83a3cd5a08618d0": {
      "model_module": "@jupyter-widgets/base",
      "model_module_version": "1.2.0",
      "model_name": "LayoutModel",
      "state": {
       "display": "none"
      }
     },
     "22eccbb44dae46e0af2fab40b8f82025": {
      "model_module": "@jupyter-widgets/base",
      "model_module_version": "1.2.0",
      "model_name": "LayoutModel",
      "state": {
       "overflow": "visible",
       "width": "100%"
      }
     },
     "2320e9c04c8c40808d063a1c1d70ef47": {
      "model_module": "@jupyter-widgets/base",
      "model_module_version": "1.2.0",
      "model_name": "LayoutModel",
      "state": {
       "display": "flex"
      }
     },
     "2371b4cf79954c02b14f901a60d2bbee": {
      "model_module": "@jupyter-widgets/base",
      "model_module_version": "1.2.0",
      "model_name": "LayoutModel",
      "state": {
       "order": "-1",
       "overflow": "visible",
       "padding": "1px",
       "width": "0px"
      }
     },
     "23756793d1db44a6a9888745ce4d21ca": {
      "model_module": "@jupyter-widgets/controls",
      "model_module_version": "1.5.0",
      "model_name": "LabelModel",
      "state": {
       "layout": "IPY_MODEL_c47d7ae854ac4ea5961098477b1ef813",
       "style": "IPY_MODEL_f19e07eda4dc4162a4f01948cf856c92",
       "value": "Subclass:"
      }
     },
     "2394f9b43035492b9ccf5fd7309a60c1": {
      "model_module": "@jupyter-widgets/controls",
      "model_module_version": "1.5.0",
      "model_name": "ProgressStyleModel",
      "state": {
       "description_width": ""
      }
     },
     "23ac6aa040f949b2b1c4c548388fa10f": {
      "model_module": "@jupyter-widgets/controls",
      "model_module_version": "1.5.0",
      "model_name": "ButtonModel",
      "state": {
       "description": "EDIT",
       "layout": "IPY_MODEL_5e8ecdcd0aa8418f9a00db82b7f398b5",
       "style": "IPY_MODEL_9b8bb0a4092547f6b0b15fe44c07ce74"
      }
     },
     "23ae89a575864112b7edca3013255100": {
      "model_module": "@jupyter-widgets/base",
      "model_module_version": "1.2.0",
      "model_name": "LayoutModel",
      "state": {
       "display": "none"
      }
     },
     "23b17baa05ce4e8aaf2be51d11a75fa0": {
      "model_module": "@jupyter-widgets/controls",
      "model_module_version": "1.5.0",
      "model_name": "LabelModel",
      "state": {
       "layout": "IPY_MODEL_452447ad978c4c1d897151e423727432",
       "style": "IPY_MODEL_daa072431f9f49cf8cffe71775d6c1a8",
       "value": "   objective"
      }
     },
     "23df2b39bf6648fcbaedd3c89576f24d": {
      "model_module": "@jupyter-widgets/base",
      "model_module_version": "1.2.0",
      "model_name": "LayoutModel",
      "state": {
       "height": "32px",
       "overflow": "visible",
       "width": "100%"
      }
     },
     "23e1ee3a07934ff4b49c23b36ea1b7ee": {
      "model_module": "@jupyter-widgets/base",
      "model_module_version": "1.2.0",
      "model_name": "LayoutModel",
      "state": {
       "display": "none"
      }
     },
     "2432850d88844c5c94fee06f8d782756": {
      "model_module": "@jupyter-widgets/base",
      "model_module_version": "1.2.0",
      "model_name": "LayoutModel",
      "state": {
       "width": "60px"
      }
     },
     "243f91df4c0f4c87a9275ac31746ea38": {
      "model_module": "@jupyter-widgets/controls",
      "model_module_version": "1.5.0",
      "model_name": "ButtonModel",
      "state": {
       "layout": "IPY_MODEL_08e8e523fa5a43d98e04a92a8fae61b9",
       "style": "IPY_MODEL_ffb3239e86c549e498858519749f9ab1"
      }
     },
     "2449d11fe9754c649cbcc7ef82a69fc8": {
      "model_module": "@jupyter-widgets/controls",
      "model_module_version": "1.5.0",
      "model_name": "HBoxModel",
      "state": {
       "children": [
        "IPY_MODEL_a50ba409c76e458e901c0d05f1ec60a8",
        "IPY_MODEL_00df1dc899a54ddbbd6d1e9173554746"
       ],
       "layout": "IPY_MODEL_cbc5a3fcc0cf4cfda4f35e7e06a9fec7"
      }
     },
     "248eb4c0e3cb49418c88404c1da4b7fe": {
      "model_module": "@jupyter-widgets/controls",
      "model_module_version": "1.5.0",
      "model_name": "DescriptionStyleModel",
      "state": {
       "description_width": ""
      }
     },
     "24b67fe477874f6f90dc8e53f2e75eec": {
      "model_module": "@jupyter-widgets/base",
      "model_module_version": "1.2.0",
      "model_name": "LayoutModel",
      "state": {
       "display": "none"
      }
     },
     "251d6e133eb445de8a2de7e0b96c008d": {
      "model_module": "@jupyter-widgets/controls",
      "model_module_version": "1.5.0",
      "model_name": "ButtonStyleModel",
      "state": {}
     },
     "25590846f13e4ac79e8c580ab5971eef": {
      "model_module": "@jupyter-widgets/output",
      "model_module_version": "1.0.0",
      "model_name": "OutputModel",
      "state": {
       "layout": "IPY_MODEL_7a73065903334f6ca5232ab7de4571f1",
       "outputs": [
        {
         "data": {
          "application/vnd.jupyter.widget-view+json": {
           "model_id": "2449d11fe9754c649cbcc7ef82a69fc8",
           "version_major": 2,
           "version_minor": 0
          },
          "text/plain": "HBox(children=(VBox(children=(VBox(children=(HTML(value='<b>Activity Options</b>'), Dropdown(layout=Layout(bor…"
         },
         "metadata": {},
         "output_type": "display_data"
        },
        {
         "name": "stdout",
         "output_type": "stream",
         "text": "test1\ntest2\ntest1\ntest2\n"
        }
       ]
      }
     },
     "258f6c0ca6b84bc0a9c5204e4c521f43": {
      "model_module": "@jupyter-widgets/controls",
      "model_module_version": "1.5.0",
      "model_name": "LabelModel",
      "state": {
       "layout": "IPY_MODEL_8e7f7db1f1c041b3b490b13405ab61b3",
       "style": "IPY_MODEL_76fd5a5d1e35422bb426211e1bde4fcc",
       "value": "   objective"
      }
     },
     "25e85f1e2f8e489f9af8ba2b23bcd9d0": {
      "model_module": "@jupyter-widgets/controls",
      "model_module_version": "1.5.0",
      "model_name": "HBoxModel",
      "state": {
       "children": [
        "IPY_MODEL_e3feb92610e34e5a80f21ca54cc090b2",
        "IPY_MODEL_c1b2a910511e4b7a80f76bdd2667d148",
        "IPY_MODEL_363de51a7d664bc983dd376e62832823",
        "IPY_MODEL_f8d2350d3be943fbb484e4c0187a7574"
       ],
       "layout": "IPY_MODEL_718ec77d32ad480cb7c8d9d6cb858296"
      }
     },
     "264afbaa2b7e45b8ad442ae3dca239d9": {
      "model_module": "@jupyter-widgets/controls",
      "model_module_version": "1.5.0",
      "model_name": "ButtonModel",
      "state": {
       "button_style": "success",
       "disabled": true,
       "layout": "IPY_MODEL_4de32dda91684a8abe4b3a44d7a97a32",
       "style": "IPY_MODEL_f2c33ddb039c4d1d801c430f3d4b2063"
      }
     },
     "269bd7b3f9694d798f08a53a39533751": {
      "model_module": "@jupyter-widgets/controls",
      "model_module_version": "1.5.0",
      "model_name": "DescriptionStyleModel",
      "state": {
       "description_width": ""
      }
     },
     "26c7cf792e4e4330ad05e220016e7194": {
      "model_module": "@jupyter-widgets/base",
      "model_module_version": "1.2.0",
      "model_name": "LayoutModel",
      "state": {
       "height": "32px",
       "order": "-2",
       "width": "32px"
      }
     },
     "26dc6342c5714c6a802bf485a01053d2": {
      "model_module": "@jupyter-widgets/controls",
      "model_module_version": "1.5.0",
      "model_name": "HTMLModel",
      "state": {
       "layout": "IPY_MODEL_e03b77c6c95947cea80ba2bc34c6918f",
       "style": "IPY_MODEL_bf58326469034979af983450fc168d93",
       "value": "<font size=\"1\">Triumphs/Lore/Dusk and Dawn/Revelation</font size=>"
      }
     },
     "26ddd6644df94f08b1c639ea8a13a48f": {
      "model_module": "@jupyter-widgets/base",
      "model_module_version": "1.2.0",
      "model_name": "LayoutModel",
      "state": {}
     },
     "26f99e5f28234fbd8c49659b33fbc6d1": {
      "model_module": "@jupyter-widgets/controls",
      "model_module_version": "1.5.0",
      "model_name": "ButtonModel",
      "state": {
       "layout": "IPY_MODEL_20df0de705b0419790e8c9e61b08dbcc",
       "style": "IPY_MODEL_423a799259854cbdbacab65d437cf4af"
      }
     },
     "27133889b5b74c4a922580b68341cf68": {
      "model_module": "@jupyter-widgets/controls",
      "model_module_version": "1.5.0",
      "model_name": "HTMLModel",
      "state": {
       "layout": "IPY_MODEL_dac1966faa1f4cc4b686013bcabeb2f5",
       "style": "IPY_MODEL_d17d32ecb031479d8eee9fe9ccee6f08",
       "value": "<font size=\"5\"><b>A Desperate Ploy</b></font size=>"
      }
     },
     "271dbfbd8e754e7eb8fb03387a28d088": {
      "model_module": "@jupyter-widgets/base",
      "model_module_version": "1.2.0",
      "model_name": "LayoutModel",
      "state": {
       "width": "60px"
      }
     },
     "271f2f23c0234162ac52bd48cc8fcfa0": {
      "model_module": "@jupyter-widgets/controls",
      "model_module_version": "1.5.0",
      "model_name": "HTMLModel",
      "state": {
       "layout": "IPY_MODEL_8283683904e24a2cb3ed74107fff2263",
       "style": "IPY_MODEL_b44ed940ce8244dbb29ad9dca43802e7",
       "value": "<font size=\"1\">Triumphs/Account/Moments of Triumph/Moments of Triumph</font size=>"
      }
     },
     "27219a6ebfa34714b8ef626023ae8a50": {
      "model_module": "@jupyter-widgets/controls",
      "model_module_version": "1.5.0",
      "model_name": "HBoxModel",
      "state": {
       "children": [
        "IPY_MODEL_204b956da76a47acbab549ecfd522467",
        "IPY_MODEL_2f4c47356cec49d1a49d38092cde56a9",
        "IPY_MODEL_595f0ce9c509465186b7f054d666ae8c",
        "IPY_MODEL_ac3998717f4443d5beab523e144f3c3f"
       ],
       "layout": "IPY_MODEL_31b1104ba263418aa9461df411124216"
      }
     },
     "273a716950db439caa3f3be1e7b46c5f": {
      "model_module": "@jupyter-widgets/controls",
      "model_module_version": "1.5.0",
      "model_name": "ProgressStyleModel",
      "state": {
       "description_width": ""
      }
     },
     "27436f298d8b4fcdaafe48ad52316ded": {
      "model_module": "@jupyter-widgets/controls",
      "model_module_version": "1.5.0",
      "model_name": "ButtonModel",
      "state": {
       "layout": "IPY_MODEL_d984a5b22ecc4ab79f1a082ebcaacfff",
       "style": "IPY_MODEL_76877925e26d49528248a6005b8ceaf9"
      }
     },
     "27821d6b71b1489db15be1b32fb15e01": {
      "model_module": "@jupyter-widgets/controls",
      "model_module_version": "1.5.0",
      "model_name": "HBoxModel",
      "state": {
       "children": [
        "IPY_MODEL_ca4a3a737acf47bc9f13ab53317402ab",
        "IPY_MODEL_dc6107b14e5043e5b75c8b28f865fdf9",
        "IPY_MODEL_1d9534a8040f477cb35cf43cb2fefa9e",
        "IPY_MODEL_c596e65c280a4dc7b466aca2c601706f"
       ],
       "layout": "IPY_MODEL_9a17e4f6cb204c8db9ef9856287b127c"
      }
     },
     "279f228d9f3c4b748a7442b1934b89b4": {
      "model_module": "@jupyter-widgets/controls",
      "model_module_version": "1.5.0",
      "model_name": "ButtonStyleModel",
      "state": {}
     },
     "27b66c0162f2489aa7accf485943549c": {
      "model_module": "@jupyter-widgets/controls",
      "model_module_version": "1.5.0",
      "model_name": "HBoxModel",
      "state": {
       "children": [
        "IPY_MODEL_7084ba36f65143528c9283b849121473",
        "IPY_MODEL_77e1b6a20d2a46b39766e274eafb32d8",
        "IPY_MODEL_3a8b8407827a4bfb860c879fb4f580eb",
        "IPY_MODEL_db08f5937d2949a8ae251f0ffbf7cb4f"
       ],
       "layout": "IPY_MODEL_0116ad24b9dd482ca1b7ea52f88192fb"
      }
     },
     "27c64277a7264ed1990640ed2ea453e0": {
      "model_module": "@jupyter-widgets/base",
      "model_module_version": "1.2.0",
      "model_name": "LayoutModel",
      "state": {
       "width": "100px"
      }
     },
     "27f529a950a94712acfbebde94595725": {
      "model_module": "@jupyter-widgets/controls",
      "model_module_version": "1.5.0",
      "model_name": "HTMLModel",
      "state": {
       "layout": "IPY_MODEL_dabdf4470b49406e81f81367f3c0efb8",
       "style": "IPY_MODEL_3613a26fcf5441baa29da6c332afb5a8",
       "value": "<font size=\"1\">Triumphs/Lore/The Light/Dust</font size=>"
      }
     },
     "2806c99f3bd443649e692d2f11445b77": {
      "model_module": "@jupyter-widgets/base",
      "model_module_version": "1.2.0",
      "model_name": "LayoutModel",
      "state": {}
     },
     "2891df9151664f11bf980a0d978d72dc": {
      "model_module": "@jupyter-widgets/controls",
      "model_module_version": "1.5.0",
      "model_name": "IntProgressModel",
      "state": {
       "layout": "IPY_MODEL_a44d6ac6009c412298f6320e2d727b75",
       "style": "IPY_MODEL_2394f9b43035492b9ccf5fd7309a60c1",
       "value": 30
      }
     },
     "2899c0fa81f548e29a73dc1e47152cd8": {
      "model_module": "@jupyter-widgets/controls",
      "model_module_version": "1.5.0",
      "model_name": "ButtonStyleModel",
      "state": {}
     },
     "2899d1886d5d492c92059214efacb26e": {
      "model_module": "@jupyter-widgets/controls",
      "model_module_version": "1.5.0",
      "model_name": "DescriptionStyleModel",
      "state": {
       "description_width": ""
      }
     },
     "289ba1d3df264da9a740d82b56f5e2bf": {
      "model_module": "@jupyter-widgets/controls",
      "model_module_version": "1.5.0",
      "model_name": "HBoxModel",
      "state": {
       "children": [
        "IPY_MODEL_6b0dc1064e8c40b8899ab1f96422b251",
        "IPY_MODEL_2a8020a89f3c4a2395151d4a23c30b6e",
        "IPY_MODEL_c1d1d242a494439fb5d06b7807e6f972",
        "IPY_MODEL_b506a6d677a34693b2dd5f2703802a5e"
       ],
       "layout": "IPY_MODEL_2320e9c04c8c40808d063a1c1d70ef47"
      }
     },
     "28d40e970bde4705b7526e9758a73a9f": {
      "model_module": "@jupyter-widgets/controls",
      "model_module_version": "1.5.0",
      "model_name": "ProgressStyleModel",
      "state": {
       "description_width": ""
      }
     },
     "28ed6e84ae014f799a3f6c84b188524e": {
      "model_module": "@jupyter-widgets/base",
      "model_module_version": "1.2.0",
      "model_name": "LayoutModel",
      "state": {
       "order": "-1",
       "overflow": "visible",
       "padding": "1px",
       "width": "0px"
      }
     },
     "28ef6ace702c47c4beb3faceab493cc4": {
      "model_module": "@jupyter-widgets/base",
      "model_module_version": "1.2.0",
      "model_name": "LayoutModel",
      "state": {
       "order": "-1",
       "overflow": "visible",
       "padding": "1px",
       "width": "0px"
      }
     },
     "291ebd978ff5438d83f3a1c7b985f215": {
      "model_module": "@jupyter-widgets/base",
      "model_module_version": "1.2.0",
      "model_name": "LayoutModel",
      "state": {
       "display": "none"
      }
     },
     "291f9994d90543b9bb9613fd922eee79": {
      "model_module": "@jupyter-widgets/controls",
      "model_module_version": "1.5.0",
      "model_name": "LabelModel",
      "state": {
       "layout": "IPY_MODEL_3ca8ea32081948eeb256ed7b942ac6ae",
       "style": "IPY_MODEL_b7022973bf3b49d9a70b328d651f1a68",
       "value": "   objective"
      }
     },
     "292e0999ba1c418d97d9e0f1aa003fa5": {
      "model_module": "@jupyter-widgets/controls",
      "model_module_version": "1.5.0",
      "model_name": "HTMLModel",
      "state": {
       "layout": "IPY_MODEL_dfdcfdc5999b4ca6831a857829b075b5",
       "style": "IPY_MODEL_8bf483b585ba418b831f2934d0852e6e",
       "value": "<i>Complete all Invitations from the Nine.</i>"
      }
     },
     "29869b6028c242148508ae741914514d": {
      "model_module": "@jupyter-widgets/base",
      "model_module_version": "1.2.0",
      "model_name": "LayoutModel",
      "state": {
       "display": "none"
      }
     },
     "299d2ff5c13347458236d2f654351f98": {
      "model_module": "@jupyter-widgets/controls",
      "model_module_version": "1.5.0",
      "model_name": "DescriptionStyleModel",
      "state": {
       "description_width": ""
      }
     },
     "29a835c686944281911f21c4eb19cf38": {
      "model_module": "@jupyter-widgets/controls",
      "model_module_version": "1.5.0",
      "model_name": "ButtonModel",
      "state": {
       "layout": "IPY_MODEL_9f88c14d7ac14ec2a705470bfb02d0d4",
       "style": "IPY_MODEL_a1b5d6ad87f44a848f7dc6bba55d5c84"
      }
     },
     "29bf8469d5d94db38b22e2a5750cd688": {
      "model_module": "@jupyter-widgets/controls",
      "model_module_version": "1.5.0",
      "model_name": "ButtonModel",
      "state": {
       "layout": "IPY_MODEL_696bbee12a70410aae25cad385f377d6",
       "style": "IPY_MODEL_83eec6ea2cd94ce5a2de423087881c8f"
      }
     },
     "29c3105f0f46413d8bb6eacc97bb16b7": {
      "model_module": "@jupyter-widgets/base",
      "model_module_version": "1.2.0",
      "model_name": "LayoutModel",
      "state": {
       "width": "60px"
      }
     },
     "2a1cf5b327b84091824551b9defa0658": {
      "model_module": "@jupyter-widgets/base",
      "model_module_version": "1.2.0",
      "model_name": "LayoutModel",
      "state": {
       "order": "-1",
       "overflow": "visible",
       "padding": "1px",
       "width": "0px"
      }
     },
     "2a8020a89f3c4a2395151d4a23c30b6e": {
      "model_module": "@jupyter-widgets/controls",
      "model_module_version": "1.5.0",
      "model_name": "IntProgressModel",
      "state": {
       "layout": "IPY_MODEL_37c8ce373fa4449382cc992a7760bbca",
       "max": 1,
       "style": "IPY_MODEL_fc6f74d28bc745a79d03d4ba0f39c004"
      }
     },
     "2a9e05c992fe4b1fb49bbf32d0f45042": {
      "model_module": "@jupyter-widgets/controls",
      "model_module_version": "1.5.0",
      "model_name": "ButtonStyleModel",
      "state": {}
     },
     "2aa25f34c1ad4a3ab3680f5eb2bc3ebc": {
      "model_module": "@jupyter-widgets/base",
      "model_module_version": "1.2.0",
      "model_name": "LayoutModel",
      "state": {
       "display": "none"
      }
     },
     "2b0a2b55166447dea678cdd50082675d": {
      "model_module": "@jupyter-widgets/base",
      "model_module_version": "1.2.0",
      "model_name": "LayoutModel",
      "state": {
       "order": "-1",
       "overflow": "visible",
       "padding": "1px",
       "width": "0px"
      }
     },
     "2b1df3a53a1549528f4f083693bc1916": {
      "model_module": "@jupyter-widgets/base",
      "model_module_version": "1.2.0",
      "model_name": "LayoutModel",
      "state": {
       "display": "none"
      }
     },
     "2b43109ef4744ee5a8e41cb73cc1bfa5": {
      "model_module": "@jupyter-widgets/controls",
      "model_module_version": "1.5.0",
      "model_name": "IntProgressModel",
      "state": {
       "layout": "IPY_MODEL_92bdce1f7b434db3b16c5d6d468d612e",
       "style": "IPY_MODEL_d54bde405b114064a11423f169730ee6",
       "value": 30
      }
     },
     "2b5e40f220d345f58d9c63d5ed790927": {
      "model_module": "@jupyter-widgets/controls",
      "model_module_version": "1.5.0",
      "model_name": "IntProgressModel",
      "state": {
       "layout": "IPY_MODEL_ae742a219ae34096a2a05a6b81e2a439",
       "style": "IPY_MODEL_a8ea74da2bbd46af900b3fcdbf7a756c",
       "value": 30
      }
     },
     "2b8a49d35e214d799ae5082a6fb12e9f": {
      "model_module": "@jupyter-widgets/base",
      "model_module_version": "1.2.0",
      "model_name": "LayoutModel",
      "state": {}
     },
     "2b97c95a6c1d493dbd0bb1e7f4c2e8f8": {
      "model_module": "@jupyter-widgets/base",
      "model_module_version": "1.2.0",
      "model_name": "LayoutModel",
      "state": {
       "height": "32px",
       "overflow": "visible",
       "width": "100%"
      }
     },
     "2bc76e5da816478b80cd70273069ce8d": {
      "model_module": "@jupyter-widgets/controls",
      "model_module_version": "1.5.0",
      "model_name": "HBoxModel",
      "state": {
       "children": [
        "IPY_MODEL_e589e3e3c5854ddab258f678c9c5597a",
        "IPY_MODEL_566bf61763db4bdd92330c0aaa3902bd",
        "IPY_MODEL_f9a9d51aa84e4e9ea0c8940aa58621be",
        "IPY_MODEL_efae0bd190024b319e7a49dc1a879691"
       ],
       "layout": "IPY_MODEL_ec972f52bda047e1bcb3782036a9fe90"
      }
     },
     "2bffde4498394b6998afcf51369e76ab": {
      "model_module": "@jupyter-widgets/base",
      "model_module_version": "1.2.0",
      "model_name": "LayoutModel",
      "state": {
       "width": "60px"
      }
     },
     "2c851ee1c67e405da12f4d05eccafc58": {
      "model_module": "@jupyter-widgets/base",
      "model_module_version": "1.2.0",
      "model_name": "LayoutModel",
      "state": {
       "width": "60px"
      }
     },
     "2ce60bd02649476e9452869459eeae45": {
      "model_module": "@jupyter-widgets/base",
      "model_module_version": "1.2.0",
      "model_name": "LayoutModel",
      "state": {
       "height": "32px",
       "order": "-2",
       "width": "32px"
      }
     },
     "2cfbb31bfac94252a6b0b529a46ff48b": {
      "model_module": "@jupyter-widgets/controls",
      "model_module_version": "1.5.0",
      "model_name": "LabelModel",
      "state": {
       "layout": "IPY_MODEL_4fe0f713c76b4036956a572da9898924",
       "style": "IPY_MODEL_c4af7bb5cc0b44199092b75fec125f39",
       "value": "     (0/1)"
      }
     },
     "2d4d9659ff584655bb7fda2251d48b01": {
      "model_module": "@jupyter-widgets/controls",
      "model_module_version": "1.5.0",
      "model_name": "ButtonStyleModel",
      "state": {}
     },
     "2d50e60f75eb4d1d948f7e2f556f59ce": {
      "model_module": "@jupyter-widgets/controls",
      "model_module_version": "1.5.0",
      "model_name": "ButtonModel",
      "state": {
       "layout": "IPY_MODEL_bf7d7fdb4340499f91eb3087bd21acf1",
       "style": "IPY_MODEL_e468cf230edc4ac59f19478877eb1319"
      }
     },
     "2d768155f4a8447e801eb30bcc07a4da": {
      "model_module": "@jupyter-widgets/controls",
      "model_module_version": "1.5.0",
      "model_name": "ButtonStyleModel",
      "state": {}
     },
     "2d955256a7424e93b1d1c6cc00d4320e": {
      "model_module": "@jupyter-widgets/base",
      "model_module_version": "1.2.0",
      "model_name": "LayoutModel",
      "state": {
       "height": "32px",
       "order": "-2",
       "width": "32px"
      }
     },
     "2dac2a9dd9614179ae4e011706b7a522": {
      "model_module": "@jupyter-widgets/controls",
      "model_module_version": "1.5.0",
      "model_name": "VBoxModel",
      "state": {
       "children": [
        "IPY_MODEL_c8e4b81af7ce4a1b88fc97c831e672eb",
        "IPY_MODEL_808f2d197d7f4edd9e459ae0be05896f",
        "IPY_MODEL_7a8abd6507194146b6a710da1d9bfc6c",
        "IPY_MODEL_5c278bd78492403889324e3134776421",
        "IPY_MODEL_a1082d0f0bec4262b7c7605d5e13f1d7",
        "IPY_MODEL_0911074f8cc54e309743ee5b5cf45110"
       ],
       "layout": "IPY_MODEL_983600dd40ff4f5fb042f2ca2763559e"
      }
     },
     "2dcd63c30bff4d05a7cebf21702dc41d": {
      "model_module": "@jupyter-widgets/controls",
      "model_module_version": "1.5.0",
      "model_name": "IntProgressModel",
      "state": {
       "layout": "IPY_MODEL_3b16d7471e664da487102f5e7e6fb9a5",
       "style": "IPY_MODEL_eb6b68210c204aabbf42b08c4df32150",
       "value": 30
      }
     },
     "2deb1009f8f546e98cd5abadb3cf2ada": {
      "model_module": "@jupyter-widgets/base",
      "model_module_version": "1.2.0",
      "model_name": "LayoutModel",
      "state": {}
     },
     "2e071a58ad1e4debae3eebde32198473": {
      "model_module": "@jupyter-widgets/controls",
      "model_module_version": "1.5.0",
      "model_name": "ButtonModel",
      "state": {
       "button_style": "success",
       "disabled": true,
       "layout": "IPY_MODEL_c80945505d0146c197bd22f05f53a631",
       "style": "IPY_MODEL_2d768155f4a8447e801eb30bcc07a4da"
      }
     },
     "2e6c4b20bbc14f089f038b8ec6d2cd1c": {
      "model_module": "@jupyter-widgets/controls",
      "model_module_version": "1.5.0",
      "model_name": "LabelModel",
      "state": {
       "layout": "IPY_MODEL_c6df69cb02904814b5b119b4ccf1d9c5",
       "style": "IPY_MODEL_0751d79d6152413a88e38d57ba56350e",
       "value": "   objective"
      }
     },
     "2e9fad67603d45839fd27a1e65760abf": {
      "model_module": "@jupyter-widgets/controls",
      "model_module_version": "1.5.0",
      "model_name": "ButtonModel",
      "state": {
       "layout": "IPY_MODEL_643aa89f14dc48bf8c0cde72ac6b77a0",
       "style": "IPY_MODEL_d0c750d80f2d42fdae0fb6309290d15e"
      }
     },
     "2ec3342195344967a11bc4376809903f": {
      "model_module": "@jupyter-widgets/controls",
      "model_module_version": "1.5.0",
      "model_name": "LabelModel",
      "state": {
       "layout": "IPY_MODEL_cc6ceca2ad9b43efadfc77a3abfe3c83",
       "style": "IPY_MODEL_51214e639d6444ffac81f6bb1e992bad",
       "value": "Power Weapon:"
      }
     },
     "2ecf0c4185b4409c9f68b2fe492ed4c4": {
      "model_module": "@jupyter-widgets/base",
      "model_module_version": "1.2.0",
      "model_name": "LayoutModel",
      "state": {}
     },
     "2eda1edf20fd4aa6b96023c883db1000": {
      "model_module": "@jupyter-widgets/base",
      "model_module_version": "1.2.0",
      "model_name": "LayoutModel",
      "state": {
       "display": "none"
      }
     },
     "2edb5498c5ee4f57a53f1f86931c0793": {
      "model_module": "@jupyter-widgets/controls",
      "model_module_version": "1.5.0",
      "model_name": "ButtonStyleModel",
      "state": {}
     },
     "2f10ac0bf476480c95b49448e8218bc0": {
      "model_module": "@jupyter-widgets/base",
      "model_module_version": "1.2.0",
      "model_name": "LayoutModel",
      "state": {
       "width": "60px"
      }
     },
     "2f111bea4745408db56e4cb408b9e0ed": {
      "model_module": "@jupyter-widgets/base",
      "model_module_version": "1.2.0",
      "model_name": "LayoutModel",
      "state": {
       "height": "32px",
       "overflow": "visible",
       "width": "100%"
      }
     },
     "2f4c47356cec49d1a49d38092cde56a9": {
      "model_module": "@jupyter-widgets/controls",
      "model_module_version": "1.5.0",
      "model_name": "IntProgressModel",
      "state": {
       "layout": "IPY_MODEL_96422ffc4a6a4759875786d10bc2fad9",
       "style": "IPY_MODEL_da2a1117dccb4b1eace372cd04499d84",
       "value": 30
      }
     },
     "2f8b7c64bf534509b19c36e19e2f1399": {
      "model_module": "@jupyter-widgets/controls",
      "model_module_version": "1.5.0",
      "model_name": "ButtonModel",
      "state": {
       "description": "EDIT",
       "layout": "IPY_MODEL_a76252f5b5bf4dd3aad2735db5e21074",
       "style": "IPY_MODEL_457b1fca33c44feea9ac3dc4d01bc0fe"
      }
     },
     "2fe917e125b5496c8d982b7efbdeb631": {
      "model_module": "@jupyter-widgets/base",
      "model_module_version": "1.2.0",
      "model_name": "LayoutModel",
      "state": {
       "order": "-1",
       "overflow": "visible",
       "padding": "1px",
       "width": "0px"
      }
     },
     "301a9241a20749169a88a04c34f81676": {
      "model_module": "@jupyter-widgets/base",
      "model_module_version": "1.2.0",
      "model_name": "LayoutModel",
      "state": {
       "display": "none"
      }
     },
     "3040731593b14a95ab1847ea96dcac4a": {
      "model_module": "@jupyter-widgets/controls",
      "model_module_version": "1.5.0",
      "model_name": "ButtonModel",
      "state": {
       "description": "EDIT",
       "layout": "IPY_MODEL_e5ad98d38508430784eaf733a425d0d2",
       "style": "IPY_MODEL_3d59338ed8594b49a3f1ca1c977d7595"
      }
     },
     "30d6f1733d6d4e5ebf4948ddcc320940": {
      "model_module": "@jupyter-widgets/base",
      "model_module_version": "1.2.0",
      "model_name": "LayoutModel",
      "state": {
       "width": "60px"
      }
     },
     "30eb8ec4356843aba917aa846a4f2835": {
      "model_module": "@jupyter-widgets/controls",
      "model_module_version": "1.5.0",
      "model_name": "ButtonStyleModel",
      "state": {}
     },
     "3193e70c84574689a7fd7c64c2d3efdb": {
      "model_module": "@jupyter-widgets/controls",
      "model_module_version": "1.5.0",
      "model_name": "DescriptionStyleModel",
      "state": {
       "description_width": ""
      }
     },
     "31b1104ba263418aa9461df411124216": {
      "model_module": "@jupyter-widgets/base",
      "model_module_version": "1.2.0",
      "model_name": "LayoutModel",
      "state": {
       "display": "none"
      }
     },
     "31c1dac466c14c86ada2fefaffd79392": {
      "model_module": "@jupyter-widgets/controls",
      "model_module_version": "1.5.0",
      "model_name": "ButtonModel",
      "state": {
       "layout": "IPY_MODEL_1876194ad416440db254be1911c72cfc",
       "style": "IPY_MODEL_ec72e64a098443cbb8a4226a5d57791a"
      }
     },
     "32085430e7b94f71aac49528f3a40303": {
      "model_module": "@jupyter-widgets/base",
      "model_module_version": "1.2.0",
      "model_name": "LayoutModel",
      "state": {
       "order": "-1",
       "overflow": "visible",
       "padding": "1px",
       "width": "0px"
      }
     },
     "3243dbf3a968490fb87410f6eae4b880": {
      "model_module": "@jupyter-widgets/controls",
      "model_module_version": "1.5.0",
      "model_name": "ButtonModel",
      "state": {
       "description": "EDIT",
       "layout": "IPY_MODEL_0187169b874a4b01bfedcd3d95d8ec36",
       "style": "IPY_MODEL_4084653c79a544bdb5016f61b4e0772f"
      }
     },
     "32440e294c144e0592ff429dbd8db3ba": {
      "model_module": "@jupyter-widgets/base",
      "model_module_version": "1.2.0",
      "model_name": "LayoutModel",
      "state": {
       "width": "60px"
      }
     },
     "324ab6b88da746a99a045afdb28875db": {
      "model_module": "@jupyter-widgets/base",
      "model_module_version": "1.2.0",
      "model_name": "LayoutModel",
      "state": {
       "width": "186px"
      }
     },
     "326cc0c9ade3436c8aa509823a1695c6": {
      "model_module": "@jupyter-widgets/controls",
      "model_module_version": "1.5.0",
      "model_name": "VBoxModel",
      "state": {
       "children": [
        "IPY_MODEL_efc67f3c971e4224a4b7d10a43b74f70",
        "IPY_MODEL_fbd067d90d3d4732bd2bfe49805759f9",
        "IPY_MODEL_80e4197110404139ad20f43efff09ff8"
       ],
       "layout": "IPY_MODEL_ac316156acb74d76adb81a1d29694203"
      }
     },
     "32834de9139d4652a637a0e647e24809": {
      "model_module": "@jupyter-widgets/base",
      "model_module_version": "1.2.0",
      "model_name": "LayoutModel",
      "state": {
       "order": "-1",
       "overflow": "visible",
       "padding": "1px",
       "width": "0px"
      }
     },
     "32871f3fccae48979d3f672e1b8ce33a": {
      "model_module": "@jupyter-widgets/controls",
      "model_module_version": "1.5.0",
      "model_name": "HTMLModel",
      "state": {
       "layout": "IPY_MODEL_7c1e08d7317e46b9bd47b995459d302e",
       "style": "IPY_MODEL_b6ae1047c5c643a6828305dd1c97a9e0",
       "value": "<i></i>"
      }
     },
     "32923824402640209315bb3d5cd7ca9f": {
      "model_module": "@jupyter-widgets/controls",
      "model_module_version": "1.5.0",
      "model_name": "LabelModel",
      "state": {
       "layout": "IPY_MODEL_90e2f570ec174084a19541f15745dd18",
       "style": "IPY_MODEL_9f64713cf7b34ae69544b8a7e155276e",
       "value": "   objective"
      }
     },
     "32e1100f715747b48e7b0376ca44ab71": {
      "model_module": "@jupyter-widgets/controls",
      "model_module_version": "1.5.0",
      "model_name": "ButtonModel",
      "state": {
       "layout": "IPY_MODEL_0b26d9549344458585e576744f75ecc6",
       "style": "IPY_MODEL_6a875bdb9c1449ae9cd55837f4e21b7f"
      }
     },
     "32e8451e5de74b1bbc84c6ea72ea83b3": {
      "model_module": "@jupyter-widgets/base",
      "model_module_version": "1.2.0",
      "model_name": "LayoutModel",
      "state": {
       "height": "32px",
       "overflow": "visible",
       "width": "100%"
      }
     },
     "330a179fb68b4308a7bed9ca765d8c3b": {
      "model_module": "@jupyter-widgets/controls",
      "model_module_version": "1.5.0",
      "model_name": "ButtonModel",
      "state": {
       "layout": "IPY_MODEL_b1f38a8abfe948ec90b253110d86f265",
       "style": "IPY_MODEL_8be96fdc6854435489c3cd70bf4eca42"
      }
     },
     "33492bd6dcad4b06a25ea00919d81633": {
      "model_module": "@jupyter-widgets/base",
      "model_module_version": "1.2.0",
      "model_name": "LayoutModel",
      "state": {
       "height": "32px",
       "overflow": "visible",
       "width": "100%"
      }
     },
     "33978e0c31074742af184857f64113e3": {
      "model_module": "@jupyter-widgets/controls",
      "model_module_version": "1.5.0",
      "model_name": "HBoxModel",
      "state": {
       "children": [
        "IPY_MODEL_e46a88684135422cb07edd0130b70771",
        "IPY_MODEL_3a916e86d74b4f59b769999bbd6ad793",
        "IPY_MODEL_64976a986f634267a9f13617518848bb",
        "IPY_MODEL_94e3be37ba074bd6aa9b7e0044119f8d"
       ],
       "layout": "IPY_MODEL_bef93ea42c234d268025bd3f5933a6d5"
      }
     },
     "33b0d78019f047d4ab18999d11552397": {
      "model_module": "@jupyter-widgets/controls",
      "model_module_version": "1.5.0",
      "model_name": "IntProgressModel",
      "state": {
       "layout": "IPY_MODEL_b7c9c70a84b740cabc6503a260decc00",
       "max": 1,
       "style": "IPY_MODEL_81133b9ec9b8471b9e2edbb64e273115"
      }
     },
     "33bdfb61af284f68a503d701ad966bad": {
      "model_module": "@jupyter-widgets/controls",
      "model_module_version": "1.5.0",
      "model_name": "ButtonStyleModel",
      "state": {}
     },
     "345c3d1d4a3d4625b13f10bd4ee2dd65": {
      "model_module": "@jupyter-widgets/controls",
      "model_module_version": "1.5.0",
      "model_name": "IntProgressModel",
      "state": {
       "layout": "IPY_MODEL_3e37e7b18a9146a086a42329850cb058",
       "style": "IPY_MODEL_96b572481f0c4f7ca288d40f75a64004",
       "value": 30
      }
     },
     "34a430f6d82a4137b92ee13d0b8b97ea": {
      "model_module": "@jupyter-widgets/base",
      "model_module_version": "1.2.0",
      "model_name": "LayoutModel",
      "state": {
       "order": "-1",
       "overflow": "visible",
       "padding": "1px",
       "width": "0px"
      }
     },
     "3504c82c3494431ebd37bdacb7996bab": {
      "model_module": "@jupyter-widgets/controls",
      "model_module_version": "1.5.0",
      "model_name": "ButtonModel",
      "state": {
       "layout": "IPY_MODEL_ad77e11fb5594e82965279bc48cd0a7f",
       "style": "IPY_MODEL_f56d59eb17984b13b14f06148169debf"
      }
     },
     "3520b034caed4b2ca3537ede9331f8f9": {
      "model_module": "@jupyter-widgets/base",
      "model_module_version": "1.2.0",
      "model_name": "LayoutModel",
      "state": {
       "display": "none"
      }
     },
     "3526d8d2eb2a4056b68b63005458377e": {
      "model_module": "@jupyter-widgets/controls",
      "model_module_version": "1.5.0",
      "model_name": "HTMLModel",
      "state": {
       "layout": "IPY_MODEL_86a2e69b79ce4f0c911ce61cb7065ef0",
       "style": "IPY_MODEL_e4c4b72b52ac43ee862fbe3b2cbd9739",
       "value": "<i>Earn Valor ranks in Season 6.</i>"
      }
     },
     "352c3e70f1704a869711762042d84fc3": {
      "model_module": "@jupyter-widgets/controls",
      "model_module_version": "1.5.0",
      "model_name": "ButtonStyleModel",
      "state": {}
     },
     "3546e0982720448d9b7e26e3f247e981": {
      "model_module": "@jupyter-widgets/base",
      "model_module_version": "1.2.0",
      "model_name": "LayoutModel",
      "state": {
       "height": "32px",
       "overflow": "visible",
       "width": "100%"
      }
     },
     "355a9698640c48b3bfe8582d8f2cfccf": {
      "model_module": "@jupyter-widgets/controls",
      "model_module_version": "1.5.0",
      "model_name": "ButtonStyleModel",
      "state": {}
     },
     "356c36be735e433f930280f8649795cb": {
      "model_module": "@jupyter-widgets/controls",
      "model_module_version": "1.5.0",
      "model_name": "IntProgressModel",
      "state": {
       "layout": "IPY_MODEL_51efae3e622f4a868f48d594497f3416",
       "style": "IPY_MODEL_56cf53795bb94fd9935eb9d5393748fc",
       "value": 30
      }
     },
     "3583838f1f2c435c86a3e1dfbce0efb8": {
      "model_module": "@jupyter-widgets/base",
      "model_module_version": "1.2.0",
      "model_name": "LayoutModel",
      "state": {
       "width": "60px"
      }
     },
     "35a5fba74ff247b895f157a72dfd2863": {
      "model_module": "@jupyter-widgets/base",
      "model_module_version": "1.2.0",
      "model_name": "LayoutModel",
      "state": {
       "order": "-1",
       "overflow": "visible",
       "padding": "1px",
       "width": "0px"
      }
     },
     "35c4168b86de4e0bb35ba5d4f40b08a0": {
      "model_module": "@jupyter-widgets/controls",
      "model_module_version": "1.5.0",
      "model_name": "DropdownModel",
      "state": {
       "_options_labels": [
        "Any"
       ],
       "index": 0,
       "layout": "IPY_MODEL_a2e339e1cc0245c895eb6b18b242ffff",
       "style": "IPY_MODEL_7b127ed469794a8eaf2862c85e8fece9"
      }
     },
     "35d6ee40cf8744bda69571015b7e2143": {
      "model_module": "@jupyter-widgets/controls",
      "model_module_version": "1.5.0",
      "model_name": "ButtonModel",
      "state": {
       "layout": "IPY_MODEL_1bac32694a5948a8a39d17f6192d7f95",
       "style": "IPY_MODEL_3753b330e2134521b8b9b360bdf30aa8"
      }
     },
     "3613a26fcf5441baa29da6c332afb5a8": {
      "model_module": "@jupyter-widgets/controls",
      "model_module_version": "1.5.0",
      "model_name": "DescriptionStyleModel",
      "state": {
       "description_width": ""
      }
     },
     "363de51a7d664bc983dd376e62832823": {
      "model_module": "@jupyter-widgets/controls",
      "model_module_version": "1.5.0",
      "model_name": "LabelModel",
      "state": {
       "layout": "IPY_MODEL_a762e5367db943309411ed7bc3ab9e77",
       "style": "IPY_MODEL_b9ee4c619a7a4244b1fc3660d8a0ce07",
       "value": "   objective"
      }
     },
     "365a5118bdb9458fbaaa50720326c840": {
      "model_module": "@jupyter-widgets/controls",
      "model_module_version": "1.5.0",
      "model_name": "HTMLModel",
      "state": {
       "layout": "IPY_MODEL_22eccbb44dae46e0af2fab40b8f82025",
       "style": "IPY_MODEL_ec92b3e8aca84abbbbce12800a185cba",
       "value": "<font size=\"5\"><b>The Expedition</b></font size=>"
      }
     },
     "370c5174cf7841b9bd43111afd36ef22": {
      "model_module": "@jupyter-widgets/controls",
      "model_module_version": "1.5.0",
      "model_name": "HBoxModel",
      "state": {
       "children": [
        "IPY_MODEL_52e4df5e6ae74fb48a79198aeb302483",
        "IPY_MODEL_40b1d2cd18a24b4a9c1c8de9c530393f",
        "IPY_MODEL_b43948a2e3434ec6baef86891f345930",
        "IPY_MODEL_7d2ea8cf7476471a8f468e9b76557357"
       ],
       "layout": "IPY_MODEL_0f505fb4c5d74a8b918a2ef1bcaf0c86"
      }
     },
     "3718bf4a51814d5a904d3a2922b7190a": {
      "model_module": "@jupyter-widgets/controls",
      "model_module_version": "1.5.0",
      "model_name": "LabelModel",
      "state": {
       "layout": "IPY_MODEL_d08aa9ce78d24e31ad6bfd0064ec74d4",
       "style": "IPY_MODEL_6f5dab00242a40c69d366e9950e097d3",
       "value": "   objective"
      }
     },
     "3753b330e2134521b8b9b360bdf30aa8": {
      "model_module": "@jupyter-widgets/controls",
      "model_module_version": "1.5.0",
      "model_name": "ButtonStyleModel",
      "state": {}
     },
     "37c2161999da42da85b930b2941cdf6b": {
      "model_module": "@jupyter-widgets/base",
      "model_module_version": "1.2.0",
      "model_name": "LayoutModel",
      "state": {
       "order": "-1",
       "overflow": "visible",
       "padding": "1px",
       "width": "0px"
      }
     },
     "37c8ce373fa4449382cc992a7760bbca": {
      "model_module": "@jupyter-widgets/base",
      "model_module_version": "1.2.0",
      "model_name": "LayoutModel",
      "state": {
       "height": "32px",
       "overflow": "visible",
       "width": "100%"
      }
     },
     "381b38f448cb48d68dbff98e91700090": {
      "model_module": "@jupyter-widgets/base",
      "model_module_version": "1.2.0",
      "model_name": "LayoutModel",
      "state": {
       "display": "flex",
       "flex_flow": "row wrap"
      }
     },
     "384c9578f2c34c6db052cb9541641dee": {
      "model_module": "@jupyter-widgets/controls",
      "model_module_version": "1.5.0",
      "model_name": "IntProgressModel",
      "state": {
       "layout": "IPY_MODEL_aa8dccc0961f49f9a843b9962cacaba0",
       "style": "IPY_MODEL_9cafdd488fdd4b91b5ff3e2949735a11",
       "value": 30
      }
     },
     "385002e5bb964d2a8702af72fc92f2a6": {
      "model_module": "@jupyter-widgets/controls",
      "model_module_version": "1.5.0",
      "model_name": "LabelModel",
      "state": {
       "layout": "IPY_MODEL_661537bda91e470c973c9e3981bb8e5a",
       "style": "IPY_MODEL_611c0761dc2b4cb5b3071bf19fd9f362",
       "value": "   objective"
      }
     },
     "38545b90a2b64b969f9c8850306bb67d": {
      "model_module": "@jupyter-widgets/base",
      "model_module_version": "1.2.0",
      "model_name": "LayoutModel",
      "state": {
       "order": "-1",
       "overflow": "visible",
       "padding": "1px",
       "width": "0px"
      }
     },
     "38b427a8e9c94455923db935fcc90114": {
      "model_module": "@jupyter-widgets/base",
      "model_module_version": "1.2.0",
      "model_name": "LayoutModel",
      "state": {
       "overflow": "visible",
       "width": "100%"
      }
     },
     "38fa036df1244d63b55e3fd39c73a775": {
      "model_module": "@jupyter-widgets/controls",
      "model_module_version": "1.5.0",
      "model_name": "ButtonModel",
      "state": {
       "description": "EDIT",
       "layout": "IPY_MODEL_07a57ad4f4b94e74ac361d3b85bc802a",
       "style": "IPY_MODEL_414d1aa9f19f4d26a511a60ac0f601e3"
      }
     },
     "393cc4e667304b2ca54bdc788c5b8532": {
      "model_module": "@jupyter-widgets/base",
      "model_module_version": "1.2.0",
      "model_name": "LayoutModel",
      "state": {
       "display": "none"
      }
     },
     "396b9a8bd8ca419b8bec37bde147c921": {
      "model_module": "@jupyter-widgets/controls",
      "model_module_version": "1.5.0",
      "model_name": "ProgressStyleModel",
      "state": {
       "description_width": ""
      }
     },
     "39704871345f45ecbb2cf0a91f1f1d51": {
      "model_module": "@jupyter-widgets/base",
      "model_module_version": "1.2.0",
      "model_name": "LayoutModel",
      "state": {
       "order": "-1",
       "overflow": "visible",
       "padding": "1px",
       "width": "0px"
      }
     },
     "399cf32e175344b487a2d982486f9365": {
      "model_module": "@jupyter-widgets/controls",
      "model_module_version": "1.5.0",
      "model_name": "ProgressStyleModel",
      "state": {
       "description_width": ""
      }
     },
     "39aae47a3d24425d94978b908cde129b": {
      "model_module": "@jupyter-widgets/controls",
      "model_module_version": "1.5.0",
      "model_name": "DescriptionStyleModel",
      "state": {
       "description_width": ""
      }
     },
     "3a119ce2267d4e7ab60deeca0e5fcee5": {
      "model_module": "@jupyter-widgets/base",
      "model_module_version": "1.2.0",
      "model_name": "LayoutModel",
      "state": {
       "height": "32px",
       "overflow": "visible",
       "width": "100%"
      }
     },
     "3a330edb8dd24fc2b4ea970ea9178878": {
      "model_module": "@jupyter-widgets/base",
      "model_module_version": "1.2.0",
      "model_name": "LayoutModel",
      "state": {
       "height": "32px",
       "overflow": "visible",
       "width": "100%"
      }
     },
     "3a6eab2fd5334a49b6331953d2499782": {
      "model_module": "@jupyter-widgets/controls",
      "model_module_version": "1.5.0",
      "model_name": "HBoxModel",
      "state": {
       "children": [
        "IPY_MODEL_e9fef7c76c4647fea4b89619dc786b1a",
        "IPY_MODEL_bf3400139c28408d8815f87f536eb263",
        "IPY_MODEL_404e57333a2f4cc09f43e7ae07261f25",
        "IPY_MODEL_6503c30abfdd48eda0db567b73b3fed7"
       ],
       "layout": "IPY_MODEL_0bfec0465ebe40fa9e6192b07e450418"
      }
     },
     "3a7588154ab14c4691e2f80728eee47e": {
      "model_module": "@jupyter-widgets/controls",
      "model_module_version": "1.5.0",
      "model_name": "ButtonModel",
      "state": {
       "layout": "IPY_MODEL_8b5260126aef4fe88e4e7595294e91c6",
       "style": "IPY_MODEL_251d6e133eb445de8a2de7e0b96c008d"
      }
     },
     "3a8b8407827a4bfb860c879fb4f580eb": {
      "model_module": "@jupyter-widgets/controls",
      "model_module_version": "1.5.0",
      "model_name": "LabelModel",
      "state": {
       "layout": "IPY_MODEL_6f5ad3f08a104e299542c207e9e91aa0",
       "style": "IPY_MODEL_01a6d51332f040639d0f1888098ac25b",
       "value": "   objective"
      }
     },
     "3a916e86d74b4f59b769999bbd6ad793": {
      "model_module": "@jupyter-widgets/controls",
      "model_module_version": "1.5.0",
      "model_name": "IntProgressModel",
      "state": {
       "layout": "IPY_MODEL_3a119ce2267d4e7ab60deeca0e5fcee5",
       "style": "IPY_MODEL_7e4375084a1a4703a5c712b65ae79112",
       "value": 30
      }
     },
     "3ae180beedea4f99be47ac06cd8580db": {
      "model_module": "@jupyter-widgets/base",
      "model_module_version": "1.2.0",
      "model_name": "LayoutModel",
      "state": {
       "width": "60px"
      }
     },
     "3b16d7471e664da487102f5e7e6fb9a5": {
      "model_module": "@jupyter-widgets/base",
      "model_module_version": "1.2.0",
      "model_name": "LayoutModel",
      "state": {
       "height": "32px",
       "overflow": "visible",
       "width": "100%"
      }
     },
     "3b461ae35660425c8d78e076b6baaf8c": {
      "model_module": "@jupyter-widgets/base",
      "model_module_version": "1.2.0",
      "model_name": "LayoutModel",
      "state": {
       "display": "flex"
      }
     },
     "3b4f72b40103475da96ebec62f819d76": {
      "model_module": "@jupyter-widgets/controls",
      "model_module_version": "1.5.0",
      "model_name": "HBoxModel",
      "state": {
       "children": [
        "IPY_MODEL_56c039c017764f95897e5a290f8e7def",
        "IPY_MODEL_7cb87d96758d4afea1e54a56619e47b1",
        "IPY_MODEL_291f9994d90543b9bb9613fd922eee79",
        "IPY_MODEL_e56ca10531994fd8a668d9d3be439bb3"
       ],
       "layout": "IPY_MODEL_f8dc753f84d2459590ca2530c52dad76"
      }
     },
     "3b543c4251464993923c1e5a31d98dae": {
      "model_module": "@jupyter-widgets/controls",
      "model_module_version": "1.5.0",
      "model_name": "HTMLModel",
      "state": {
       "layout": "IPY_MODEL_5d3ebf124956465f8ea5e35f73678a4a",
       "style": "IPY_MODEL_c8ecfb17afaa438ebdd3911393c3bc57",
       "value": "<font size=\"1\">Triumphs/Seasonal/Events/The Revelry 2019</font size=>"
      }
     },
     "3bcf15cadff94ac4be6eabb62a03e672": {
      "model_module": "@jupyter-widgets/controls",
      "model_module_version": "1.5.0",
      "model_name": "ButtonModel",
      "state": {
       "layout": "IPY_MODEL_e1727429c4c64e1f8579ff3ea4868e96",
       "style": "IPY_MODEL_eaf7e866b1994dc2a77ad0441df71a20"
      }
     },
     "3bde1e442d3149ee8041835231237f0a": {
      "model_module": "@jupyter-widgets/base",
      "model_module_version": "1.2.0",
      "model_name": "LayoutModel",
      "state": {
       "order": "-1",
       "overflow": "visible",
       "padding": "1px",
       "width": "0px"
      }
     },
     "3c4c4d5771ae4d72929f23b85792458a": {
      "model_module": "@jupyter-widgets/base",
      "model_module_version": "1.2.0",
      "model_name": "LayoutModel",
      "state": {
       "order": "-1",
       "overflow": "visible",
       "padding": "1px",
       "width": "0px"
      }
     },
     "3c6730e9e6f641f8b967e6e6fa798c1d": {
      "model_module": "@jupyter-widgets/controls",
      "model_module_version": "1.5.0",
      "model_name": "DescriptionStyleModel",
      "state": {
       "description_width": ""
      }
     },
     "3c67c23fe6ae42bf82c2bb501fdd9bec": {
      "model_module": "@jupyter-widgets/controls",
      "model_module_version": "1.5.0",
      "model_name": "DescriptionStyleModel",
      "state": {
       "description_width": ""
      }
     },
     "3ca8ea32081948eeb256ed7b942ac6ae": {
      "model_module": "@jupyter-widgets/base",
      "model_module_version": "1.2.0",
      "model_name": "LayoutModel",
      "state": {
       "order": "-1",
       "overflow": "visible",
       "padding": "1px",
       "width": "0px"
      }
     },
     "3caccc10714d41d68809f2fc8f7bfca1": {
      "model_module": "@jupyter-widgets/base",
      "model_module_version": "1.2.0",
      "model_name": "LayoutModel",
      "state": {
       "overflow": "visible",
       "width": "100%"
      }
     },
     "3d59338ed8594b49a3f1ca1c977d7595": {
      "model_module": "@jupyter-widgets/controls",
      "model_module_version": "1.5.0",
      "model_name": "ButtonStyleModel",
      "state": {}
     },
     "3d8831df514d4ca2a25347738a75967f": {
      "model_module": "@jupyter-widgets/base",
      "model_module_version": "1.2.0",
      "model_name": "LayoutModel",
      "state": {
       "order": "-1",
       "overflow": "visible",
       "padding": "1px",
       "width": "0px"
      }
     },
     "3dd13631d5544d3a9a281c63ec72cf11": {
      "model_module": "@jupyter-widgets/base",
      "model_module_version": "1.2.0",
      "model_name": "LayoutModel",
      "state": {
       "overflow": "visible",
       "width": "100%"
      }
     },
     "3e110bfbeab14791968e35ffeadafd3f": {
      "model_module": "@jupyter-widgets/controls",
      "model_module_version": "1.5.0",
      "model_name": "DescriptionStyleModel",
      "state": {
       "description_width": ""
      }
     },
     "3e1e3116358549a296a305c71e68eea8": {
      "model_module": "@jupyter-widgets/controls",
      "model_module_version": "1.5.0",
      "model_name": "VBoxModel",
      "state": {
       "children": [
        "IPY_MODEL_937b0c4a4478495188d9c4ce52855bdc",
        "IPY_MODEL_c23d0c88498949c3b1f811931bb38742",
        "IPY_MODEL_fcfdd546bc814da29df0fbd14a7bf54e",
        "IPY_MODEL_1dae5cbab32b4a89a8ec3ada5836dc63",
        "IPY_MODEL_5a3939aed78446f5b0bee26c73ec7712",
        "IPY_MODEL_89957a620d1646d6821117298cadd784"
       ],
       "layout": "IPY_MODEL_5b9cb0f7bf5c4304881a1fed066f898a"
      }
     },
     "3e37e7b18a9146a086a42329850cb058": {
      "model_module": "@jupyter-widgets/base",
      "model_module_version": "1.2.0",
      "model_name": "LayoutModel",
      "state": {
       "height": "32px",
       "overflow": "visible",
       "width": "100%"
      }
     },
     "3e66f10df3414fe4b177ee91ea8a3c3a": {
      "model_module": "@jupyter-widgets/controls",
      "model_module_version": "1.5.0",
      "model_name": "LabelModel",
      "state": {
       "layout": "IPY_MODEL_9af2314855394b8e8fc8d12f1ba9a6ae",
       "style": "IPY_MODEL_63b556d7dfbb45a284238bc020454a3a",
       "value": "   objective"
      }
     },
     "3e6751ca00f54441a14fc08cbbd32460": {
      "model_module": "@jupyter-widgets/controls",
      "model_module_version": "1.5.0",
      "model_name": "DescriptionStyleModel",
      "state": {
       "description_width": ""
      }
     },
     "3ea2912b8bdc4447b34d80feacac5e6a": {
      "model_module": "@jupyter-widgets/controls",
      "model_module_version": "1.5.0",
      "model_name": "HTMLModel",
      "state": {
       "layout": "IPY_MODEL_4f5ca7a5f27947a29fe65e5907100e07",
       "style": "IPY_MODEL_1c720d83d5c4423a863b22de072798b3",
       "value": "<font size=\"5\"><b>Season 6: Valor</b></font size=>"
      }
     },
     "3ecc2817b79d49cf8a8ebf8892e7e825": {
      "model_module": "@jupyter-widgets/controls",
      "model_module_version": "1.5.0",
      "model_name": "BoxModel",
      "state": {
       "children": [
        "IPY_MODEL_c787e5967866439e97e3b82ef2b54751",
        "IPY_MODEL_1b22471ae90449ddafadec8a3535fbd6",
        "IPY_MODEL_a2f2b62be8704935bfd9ffef34a9fc77",
        "IPY_MODEL_8f26030e2506447b97fbc4270b705520",
        "IPY_MODEL_e45c908f877641bd8225a028c66fc6bb",
        "IPY_MODEL_42a3a86435b44a849115fb7f5159669e",
        "IPY_MODEL_fc465b39364d4cfdac96665e778f5f75",
        "IPY_MODEL_d7de220cdb9e442aa40b010b71aa0867",
        "IPY_MODEL_e43945a8e50240149b5d454150013396",
        "IPY_MODEL_70a880e717ae4f2cb3188c7b301d40cb",
        "IPY_MODEL_43d0d44f546a4658b50f8b1379b75142",
        "IPY_MODEL_f8931a1b6e3548c1b68325dbcd7bf8fb",
        "IPY_MODEL_03335648816d4175a34882813699f2a4",
        "IPY_MODEL_926cb9fb7ad64aa18617d29d572de102",
        "IPY_MODEL_1f4fb903b2a143c6be1fb25e6f1206f2"
       ],
       "layout": "IPY_MODEL_05db440ed4fa4647a7b8fee6156114b3"
      }
     },
     "3edb330226a24dd5b2714ccf3ecc10dd": {
      "model_module": "@jupyter-widgets/base",
      "model_module_version": "1.2.0",
      "model_name": "LayoutModel",
      "state": {
       "height": "300px",
       "justify_content": "space-between"
      }
     },
     "3f12fbe79b4743069e462a97b002277d": {
      "model_module": "@jupyter-widgets/controls",
      "model_module_version": "1.5.0",
      "model_name": "HTMLModel",
      "state": {
       "layout": "IPY_MODEL_ff31c59471844da2a37e3add19a8935a",
       "style": "IPY_MODEL_993bf2408658451e8879dcb49c27661c",
       "value": "<i></i>"
      }
     },
     "3f5c4382d13d4faab72c7227eea950b2": {
      "model_module": "@jupyter-widgets/base",
      "model_module_version": "1.2.0",
      "model_name": "LayoutModel",
      "state": {
       "order": "-1",
       "overflow": "visible",
       "padding": "1px",
       "width": "0px"
      }
     },
     "3fd850dd2b7447908260a9ff24b034c3": {
      "model_module": "@jupyter-widgets/base",
      "model_module_version": "1.2.0",
      "model_name": "LayoutModel",
      "state": {
       "height": "32px",
       "overflow": "visible",
       "width": "100%"
      }
     },
     "3ff16986b67b41d181cdd86df1f765fd": {
      "model_module": "@jupyter-widgets/controls",
      "model_module_version": "1.5.0",
      "model_name": "ButtonStyleModel",
      "state": {}
     },
     "4004f52a10da4eeda1e4dd59bfa67fce": {
      "model_module": "@jupyter-widgets/base",
      "model_module_version": "1.2.0",
      "model_name": "LayoutModel",
      "state": {
       "width": "60px"
      }
     },
     "401a85095c0a4bfab1142deb3a3717dd": {
      "model_module": "@jupyter-widgets/controls",
      "model_module_version": "1.5.0",
      "model_name": "HBoxModel",
      "state": {
       "children": [
        "IPY_MODEL_264afbaa2b7e45b8ad442ae3dca239d9",
        "IPY_MODEL_dffcfea91c884c48901fc45911128cb9",
        "IPY_MODEL_d39055cee07249b1adae326fef47e1bf",
        "IPY_MODEL_e5e161ebe95d43a69c37c8c48c3aef44"
       ],
       "layout": "IPY_MODEL_5864bc5f8dca413a96241cea2ac799a3"
      }
     },
     "40375768133d4faa89f48e63df5d7e11": {
      "model_module": "@jupyter-widgets/base",
      "model_module_version": "1.2.0",
      "model_name": "LayoutModel",
      "state": {
       "overflow": "visible",
       "width": "100%"
      }
     },
     "404e57333a2f4cc09f43e7ae07261f25": {
      "model_module": "@jupyter-widgets/controls",
      "model_module_version": "1.5.0",
      "model_name": "LabelModel",
      "state": {
       "layout": "IPY_MODEL_9342ad88b75e4d498123f7eb002b01c6",
       "style": "IPY_MODEL_430207a548e143f2a39135b6b17ddc92",
       "value": "    Prime Engrams decrypted (0/2)"
      }
     },
     "4084052be092468db72041b95dc36692": {
      "model_module": "@jupyter-widgets/base",
      "model_module_version": "1.2.0",
      "model_name": "LayoutModel",
      "state": {}
     },
     "4084653c79a544bdb5016f61b4e0772f": {
      "model_module": "@jupyter-widgets/controls",
      "model_module_version": "1.5.0",
      "model_name": "ButtonStyleModel",
      "state": {}
     },
     "4088fa74cd5b401c818bc92eed13f5ec": {
      "model_module": "@jupyter-widgets/base",
      "model_module_version": "1.2.0",
      "model_name": "LayoutModel",
      "state": {
       "height": "32px",
       "overflow": "visible",
       "width": "100%"
      }
     },
     "40b1d2cd18a24b4a9c1c8de9c530393f": {
      "model_module": "@jupyter-widgets/controls",
      "model_module_version": "1.5.0",
      "model_name": "IntProgressModel",
      "state": {
       "layout": "IPY_MODEL_acc0a9e314834d369bddab431fbd3660",
       "style": "IPY_MODEL_7d5f1b3f71534e53aef3b1704a46d507",
       "value": 30
      }
     },
     "40d764b794634e7c829b3066e0d289b6": {
      "model_module": "@jupyter-widgets/base",
      "model_module_version": "1.2.0",
      "model_name": "LayoutModel",
      "state": {
       "width": "60px"
      }
     },
     "412ca732a2594ff2bbc049b2d78d7269": {
      "model_module": "@jupyter-widgets/controls",
      "model_module_version": "1.5.0",
      "model_name": "HBoxModel",
      "state": {
       "children": [
        "IPY_MODEL_7606406da2204ac9906ad77a1510fae2",
        "IPY_MODEL_01853cfdc0864787b7f3646541443ec8"
       ],
       "layout": "IPY_MODEL_bd52d50479b148eb87db20d76cc40e70"
      }
     },
     "412d6590feb444249095293d076df9be": {
      "model_module": "@jupyter-widgets/controls",
      "model_module_version": "1.5.0",
      "model_name": "ButtonStyleModel",
      "state": {}
     },
     "413d081284284b3abe700cfe82043d5f": {
      "model_module": "@jupyter-widgets/controls",
      "model_module_version": "1.5.0",
      "model_name": "LabelModel",
      "state": {
       "layout": "IPY_MODEL_de09225346274b8c8a162563e0e1599c",
       "style": "IPY_MODEL_5d85391c90174513b9cca2ff1a0c1820",
       "value": "    My Bowfriend's Back (3/1)"
      }
     },
     "414d1aa9f19f4d26a511a60ac0f601e3": {
      "model_module": "@jupyter-widgets/controls",
      "model_module_version": "1.5.0",
      "model_name": "ButtonStyleModel",
      "state": {}
     },
     "4156ab430e2f4a8dbab7311fe01e078a": {
      "model_module": "@jupyter-widgets/controls",
      "model_module_version": "1.5.0",
      "model_name": "ButtonModel",
      "state": {
       "description": "EDIT",
       "layout": "IPY_MODEL_63220aeee56c43dbb0ba40de02dc4863",
       "style": "IPY_MODEL_448d0eabd22049dcbf6371c109936a15"
      }
     },
     "41b49d0b36404c4aa880a025100d3a01": {
      "model_module": "@jupyter-widgets/controls",
      "model_module_version": "1.5.0",
      "model_name": "HBoxModel",
      "state": {
       "children": [
        "IPY_MODEL_e0229743ea674180a61e724940ff088c",
        "IPY_MODEL_9562d799e28a43c4a699dc869a8a9655",
        "IPY_MODEL_54ea609251d04954a64a1ef088c7474c",
        "IPY_MODEL_6ee2970b1f714af3bed1f87deb29ed25"
       ],
       "layout": "IPY_MODEL_4926018895d546e7b3e7fc561b5b0fe2"
      }
     },
     "41e67c32a19947049d71fa6a837183eb": {
      "model_module": "@jupyter-widgets/controls",
      "model_module_version": "1.5.0",
      "model_name": "DescriptionStyleModel",
      "state": {
       "description_width": ""
      }
     },
     "421c616adb904ba680ef37abdc414693": {
      "model_module": "@jupyter-widgets/base",
      "model_module_version": "1.2.0",
      "model_name": "LayoutModel",
      "state": {
       "width": "60px"
      }
     },
     "421f47bdd71c4e4aa34a4dba154c5407": {
      "model_module": "@jupyter-widgets/controls",
      "model_module_version": "1.5.0",
      "model_name": "ButtonStyleModel",
      "state": {}
     },
     "423a799259854cbdbacab65d437cf4af": {
      "model_module": "@jupyter-widgets/controls",
      "model_module_version": "1.5.0",
      "model_name": "ButtonStyleModel",
      "state": {}
     },
     "42870ed1fafd45faa17d63964f24b3f3": {
      "model_module": "@jupyter-widgets/controls",
      "model_module_version": "1.5.0",
      "model_name": "LabelModel",
      "state": {
       "layout": "IPY_MODEL_4941565c5c2d401eb3d3241e47089325",
       "style": "IPY_MODEL_618c049e51e7462795ff8e480c4b6fe7",
       "value": "   objective"
      }
     },
     "428895204c344c0094249585c4747546": {
      "model_module": "@jupyter-widgets/base",
      "model_module_version": "1.2.0",
      "model_name": "LayoutModel",
      "state": {
       "display": "none"
      }
     },
     "429b51a63a6a434d93d5c2568bba4397": {
      "model_module": "@jupyter-widgets/controls",
      "model_module_version": "1.5.0",
      "model_name": "DescriptionStyleModel",
      "state": {
       "description_width": ""
      }
     },
     "42a3a86435b44a849115fb7f5159669e": {
      "model_module": "@jupyter-widgets/controls",
      "model_module_version": "1.5.0",
      "model_name": "VBoxModel",
      "state": {
       "children": [
        "IPY_MODEL_6757de04859d4a09b17f8bfbd8329603",
        "IPY_MODEL_baa4b41b93d0403187f198cf0e1b93f2",
        "IPY_MODEL_292e0999ba1c418d97d9e0f1aa003fa5",
        "IPY_MODEL_6cf67d88115c4c3ebf902b478f914743"
       ],
       "layout": "IPY_MODEL_f7c533bbe1bc4400a955b142c0c066b9"
      }
     },
     "42ca1eb7989241cab3ab3a1f61194770": {
      "model_module": "@jupyter-widgets/controls",
      "model_module_version": "1.5.0",
      "model_name": "ButtonModel",
      "state": {
       "description": "EDIT",
       "layout": "IPY_MODEL_bd4cfcf8601149afaab984af98897e6b",
       "style": "IPY_MODEL_ad8c831a5e3a4a308b0f3d829288f207"
      }
     },
     "42dc43fb30e9460399efb52842077647": {
      "model_module": "@jupyter-widgets/controls",
      "model_module_version": "1.5.0",
      "model_name": "LabelModel",
      "state": {
       "layout": "IPY_MODEL_f55548406506428baa70ae95745c8879",
       "style": "IPY_MODEL_f865626b4b5f410e92b38dd4aeb37930",
       "value": "   objective"
      }
     },
     "42e4e62c75cf41e7b72bfaaea17f84ec": {
      "model_module": "@jupyter-widgets/base",
      "model_module_version": "1.2.0",
      "model_name": "LayoutModel",
      "state": {
       "height": "32px",
       "overflow": "visible",
       "width": "100%"
      }
     },
     "42eeb964796f46fbb1b330a444763c89": {
      "model_module": "@jupyter-widgets/base",
      "model_module_version": "1.2.0",
      "model_name": "LayoutModel",
      "state": {
       "overflow": "visible",
       "width": "100%"
      }
     },
     "42fd33475bf34867bcd6ee48c5f5611f": {
      "model_module": "@jupyter-widgets/controls",
      "model_module_version": "1.5.0",
      "model_name": "ButtonStyleModel",
      "state": {}
     },
     "430207a548e143f2a39135b6b17ddc92": {
      "model_module": "@jupyter-widgets/controls",
      "model_module_version": "1.5.0",
      "model_name": "DescriptionStyleModel",
      "state": {
       "description_width": ""
      }
     },
     "432527ea67bf4423ae9bb5bd7b389371": {
      "model_module": "@jupyter-widgets/controls",
      "model_module_version": "1.5.0",
      "model_name": "ButtonModel",
      "state": {
       "layout": "IPY_MODEL_a9bce69c8cee43ed83e33b193a056746",
       "style": "IPY_MODEL_5cdf76e520d54771981c6063e146e04e"
      }
     },
     "4334aa9634c54b89b46808eb182ee8d3": {
      "model_module": "@jupyter-widgets/base",
      "model_module_version": "1.2.0",
      "model_name": "LayoutModel",
      "state": {
       "width": "60px"
      }
     },
     "4347cedbaaa14149a0348f58560f9012": {
      "model_module": "@jupyter-widgets/controls",
      "model_module_version": "1.5.0",
      "model_name": "ProgressStyleModel",
      "state": {
       "description_width": ""
      }
     },
     "43bd5789c92141569bd63dea43daf5ff": {
      "model_module": "@jupyter-widgets/base",
      "model_module_version": "1.2.0",
      "model_name": "LayoutModel",
      "state": {
       "order": "-1",
       "overflow": "visible",
       "padding": "1px",
       "width": "0px"
      }
     },
     "43d0d44f546a4658b50f8b1379b75142": {
      "model_module": "@jupyter-widgets/controls",
      "model_module_version": "1.5.0",
      "model_name": "VBoxModel",
      "state": {
       "children": [
        "IPY_MODEL_fc3222162b104c2c8a83bab5afca8532",
        "IPY_MODEL_95f65a41f6a14e68823f5e384a756525",
        "IPY_MODEL_3f12fbe79b4743069e462a97b002277d",
        "IPY_MODEL_2dac2a9dd9614179ae4e011706b7a522"
       ],
       "layout": "IPY_MODEL_ab2d19dea93a4659b2332f5cc7c30276"
      }
     },
     "43e8d16b52744af4bb03b51d017bcf28": {
      "model_module": "@jupyter-widgets/controls",
      "model_module_version": "1.5.0",
      "model_name": "ButtonStyleModel",
      "state": {}
     },
     "43fb04a699c748c38b0cfb2e23586048": {
      "model_module": "@jupyter-widgets/controls",
      "model_module_version": "1.5.0",
      "model_name": "DescriptionStyleModel",
      "state": {
       "description_width": ""
      }
     },
     "448d0eabd22049dcbf6371c109936a15": {
      "model_module": "@jupyter-widgets/controls",
      "model_module_version": "1.5.0",
      "model_name": "ButtonStyleModel",
      "state": {}
     },
     "44ae334bf69f46d49f0359c8f2a4f92a": {
      "model_module": "@jupyter-widgets/controls",
      "model_module_version": "1.5.0",
      "model_name": "HBoxModel",
      "state": {
       "children": [
        "IPY_MODEL_c1cbe7bd7efa4dba829d5e74b29791b9",
        "IPY_MODEL_03fb06338a064fcfa7bd84432f525191",
        "IPY_MODEL_92db250e05b04e2ca2c593619da1fcec",
        "IPY_MODEL_42ca1eb7989241cab3ab3a1f61194770"
       ],
       "layout": "IPY_MODEL_c09b801fdfeb4b3097065351761e319f"
      }
     },
     "452447ad978c4c1d897151e423727432": {
      "model_module": "@jupyter-widgets/base",
      "model_module_version": "1.2.0",
      "model_name": "LayoutModel",
      "state": {
       "order": "-1",
       "overflow": "visible",
       "padding": "1px",
       "width": "0px"
      }
     },
     "4529d2cdbfbc46aaa209b9708196fbb6": {
      "model_module": "@jupyter-widgets/base",
      "model_module_version": "1.2.0",
      "model_name": "LayoutModel",
      "state": {
       "order": "-1",
       "overflow": "visible",
       "padding": "1px",
       "width": "0px"
      }
     },
     "4573829494ab4c63a4104322b9d0e676": {
      "model_module": "@jupyter-widgets/controls",
      "model_module_version": "1.5.0",
      "model_name": "ButtonStyleModel",
      "state": {}
     },
     "457b1fca33c44feea9ac3dc4d01bc0fe": {
      "model_module": "@jupyter-widgets/controls",
      "model_module_version": "1.5.0",
      "model_name": "ButtonStyleModel",
      "state": {}
     },
     "45e97715eb0840e1b7afb04ac995fe56": {
      "model_module": "@jupyter-widgets/controls",
      "model_module_version": "1.5.0",
      "model_name": "ProgressStyleModel",
      "state": {
       "description_width": ""
      }
     },
     "45f6cf185f074dfe86807c8ee9c3c3bc": {
      "model_module": "@jupyter-widgets/base",
      "model_module_version": "1.2.0",
      "model_name": "LayoutModel",
      "state": {
       "height": "32px",
       "overflow": "visible",
       "width": "100%"
      }
     },
     "4614ba9abf934cb08ab22408b1186d59": {
      "model_module": "@jupyter-widgets/controls",
      "model_module_version": "1.5.0",
      "model_name": "VBoxModel",
      "state": {
       "children": [
        "IPY_MODEL_289ba1d3df264da9a740d82b56f5e2bf",
        "IPY_MODEL_370c5174cf7841b9bd43111afd36ef22",
        "IPY_MODEL_a08ffdf1c32944c6ac405e5aca1a8e14",
        "IPY_MODEL_970af89e224d4fe6a326c27ef53a2bd9",
        "IPY_MODEL_a988cfff3a604ead96a8ec87dbc52017",
        "IPY_MODEL_9a141d8d60e14bebb0df2049f85ed487"
       ],
       "layout": "IPY_MODEL_d1694c713fef4e378df468db81900d64"
      }
     },
     "461bcdd6c6524036a6a27980ec8d1ff2": {
      "model_module": "@jupyter-widgets/controls",
      "model_module_version": "1.5.0",
      "model_name": "ProgressStyleModel",
      "state": {
       "description_width": ""
      }
     },
     "46444497654d4335b865f96d377df230": {
      "model_module": "@jupyter-widgets/base",
      "model_module_version": "1.2.0",
      "model_name": "LayoutModel",
      "state": {
       "display": "none"
      }
     },
     "4645f7fd29164fee9d07d9b6ef9972c9": {
      "model_module": "@jupyter-widgets/base",
      "model_module_version": "1.2.0",
      "model_name": "LayoutModel",
      "state": {
       "order": "-1",
       "overflow": "visible",
       "padding": "1px",
       "width": "0px"
      }
     },
     "467abe6b8141451f90d2cb6286125c9c": {
      "model_module": "@jupyter-widgets/base",
      "model_module_version": "1.2.0",
      "model_name": "LayoutModel",
      "state": {
       "height": "32px",
       "overflow": "visible",
       "width": "100%"
      }
     },
     "469948f215324c41a0bc9d044de3c8b7": {
      "model_module": "@jupyter-widgets/controls",
      "model_module_version": "1.5.0",
      "model_name": "ButtonModel",
      "state": {
       "description": "EDIT",
       "layout": "IPY_MODEL_3ae180beedea4f99be47ac06cd8580db",
       "style": "IPY_MODEL_b5163627e68b4833a99aab965f6431bd"
      }
     },
     "471f9e56869b49f9bb73f7c9f63abe93": {
      "model_module": "@jupyter-widgets/base",
      "model_module_version": "1.2.0",
      "model_name": "LayoutModel",
      "state": {
       "order": "-1",
       "overflow": "visible",
       "padding": "1px",
       "width": "0px"
      }
     },
     "472ffaecf0c1448ab49b598b81988663": {
      "model_module": "@jupyter-widgets/controls",
      "model_module_version": "1.5.0",
      "model_name": "HBoxModel",
      "state": {
       "children": [
        "IPY_MODEL_a5f94dd79f08464db68c035a4d66e346",
        "IPY_MODEL_225ca1a60a81429299fc18a8d7b4246a",
        "IPY_MODEL_b7e57083f9354cb68c50733acb924053",
        "IPY_MODEL_fa30d3cbfc1a42458f63cb1cb649fcc3"
       ],
       "layout": "IPY_MODEL_03f9a37030f4424f896af593e43a36fa"
      }
     },
     "479e8491f78149039dd3b666b78411a7": {
      "model_module": "@jupyter-widgets/base",
      "model_module_version": "1.2.0",
      "model_name": "LayoutModel",
      "state": {
       "order": "-1",
       "overflow": "visible",
       "padding": "1px",
       "width": "0px"
      }
     },
     "47dc0abb1d2742bcbabca4b9950f89b1": {
      "model_module": "@jupyter-widgets/base",
      "model_module_version": "1.2.0",
      "model_name": "LayoutModel",
      "state": {}
     },
     "4844994f4500435686cb4ab6524b6a38": {
      "model_module": "@jupyter-widgets/controls",
      "model_module_version": "1.5.0",
      "model_name": "ButtonModel",
      "state": {
       "description": "EDIT",
       "layout": "IPY_MODEL_06f51ee7fd024b16b290164a9108687b",
       "style": "IPY_MODEL_131c10280cc048caa223c2a3155a83fc"
      }
     },
     "488b29ca9d504ee680d0045e8b1ef4c1": {
      "model_module": "@jupyter-widgets/controls",
      "model_module_version": "1.5.0",
      "model_name": "ButtonStyleModel",
      "state": {}
     },
     "4899f0a72d284f14b9601127d643e327": {
      "model_module": "@jupyter-widgets/base",
      "model_module_version": "1.2.0",
      "model_name": "LayoutModel",
      "state": {
       "height": "32px",
       "order": "-2",
       "width": "32px"
      }
     },
     "48aa08289045481bae14d57dd3ade093": {
      "model_module": "@jupyter-widgets/controls",
      "model_module_version": "1.5.0",
      "model_name": "DescriptionStyleModel",
      "state": {
       "description_width": ""
      }
     },
     "48b3b2dacd924467a330e9ec0a05dfd7": {
      "model_module": "@jupyter-widgets/controls",
      "model_module_version": "1.5.0",
      "model_name": "DescriptionStyleModel",
      "state": {
       "description_width": ""
      }
     },
     "48ba4ee16096482ca98dbd34fa30aa37": {
      "model_module": "@jupyter-widgets/controls",
      "model_module_version": "1.5.0",
      "model_name": "VBoxModel",
      "state": {
       "children": [
        "IPY_MODEL_963284586ba24817ba0f71a083b21e3a",
        "IPY_MODEL_53d038ef666c4e82a39761f9b8927f09",
        "IPY_MODEL_4c036aaa3011403aba4da6199f5ce0c9"
       ],
       "layout": "IPY_MODEL_641a08b152b044ffb0668bf99e573e23"
      }
     },
     "48cfb449a323450f80b87edce92871d6": {
      "model_module": "@jupyter-widgets/controls",
      "model_module_version": "1.5.0",
      "model_name": "HBoxModel",
      "state": {
       "children": [
        "IPY_MODEL_29bf8469d5d94db38b22e2a5750cd688",
        "IPY_MODEL_70690f680870443f8aaf016188e98413",
        "IPY_MODEL_d136b3a67eac445983e9b5840e0f3f84",
        "IPY_MODEL_e117c91b0c164c0997bbf94ac6f2687e"
       ],
       "layout": "IPY_MODEL_b5543274655049dbb1c7697f09cb98ab"
      }
     },
     "4926018895d546e7b3e7fc561b5b0fe2": {
      "model_module": "@jupyter-widgets/base",
      "model_module_version": "1.2.0",
      "model_name": "LayoutModel",
      "state": {
       "display": "flex"
      }
     },
     "493bed18b34c41739bb836fcccaadc20": {
      "model_module": "@jupyter-widgets/base",
      "model_module_version": "1.2.0",
      "model_name": "LayoutModel",
      "state": {
       "height": "32px",
       "order": "-2",
       "width": "32px"
      }
     },
     "4941565c5c2d401eb3d3241e47089325": {
      "model_module": "@jupyter-widgets/base",
      "model_module_version": "1.2.0",
      "model_name": "LayoutModel",
      "state": {
       "order": "-1",
       "overflow": "visible",
       "padding": "1px",
       "width": "0px"
      }
     },
     "4943c3a8cfbe41f0907ed9d901d250b2": {
      "model_module": "@jupyter-widgets/controls",
      "model_module_version": "1.5.0",
      "model_name": "ButtonStyleModel",
      "state": {}
     },
     "4969a583705f46559f3a4a4ab0cf673e": {
      "model_module": "@jupyter-widgets/controls",
      "model_module_version": "1.5.0",
      "model_name": "BoxModel",
      "state": {
       "layout": "IPY_MODEL_cac87949fce84d6186cbe9b73c131cce"
      }
     },
     "49819ec01abc42c6b6153016a9ef8f92": {
      "model_module": "@jupyter-widgets/controls",
      "model_module_version": "1.5.0",
      "model_name": "IntProgressModel",
      "state": {
       "layout": "IPY_MODEL_5a596a4ac8fc44d0857bd2bdaa7d7c80",
       "max": 20,
       "style": "IPY_MODEL_05b929ba1d7b404cb6171832b99047f1"
      }
     },
     "49869e458e6143bd90dd5312cc5d4d02": {
      "model_module": "@jupyter-widgets/controls",
      "model_module_version": "1.5.0",
      "model_name": "ButtonModel",
      "state": {
       "description": "Next",
       "layout": "IPY_MODEL_b845d49d31814272b19a8c970fcdf5c2",
       "style": "IPY_MODEL_744cd08fb825432983128dbffbaf9ae7"
      }
     },
     "49d5ee229cd9476cad80ed55b5436f3a": {
      "model_module": "@jupyter-widgets/controls",
      "model_module_version": "1.5.0",
      "model_name": "DescriptionStyleModel",
      "state": {
       "description_width": ""
      }
     },
     "4a1e1bc68ad44e3eb93a19684b4e86c3": {
      "model_module": "@jupyter-widgets/controls",
      "model_module_version": "1.5.0",
      "model_name": "HTMLModel",
      "state": {
       "layout": "IPY_MODEL_1618e42158cb4b498554e9a9a0ce5c22",
       "style": "IPY_MODEL_987ff0a872094386942feb73c8a49825",
       "value": "<b>Class Options</b>"
      }
     },
     "4a3acde855df483eb18a27f1b2e4fb92": {
      "model_module": "@jupyter-widgets/controls",
      "model_module_version": "1.5.0",
      "model_name": "LabelModel",
      "state": {
       "layout": "IPY_MODEL_a39468ed224142a6b2b20cb42e61535b",
       "style": "IPY_MODEL_4eb8a379c71e4fd1a59427e2020ff5d3",
       "value": "   objective"
      }
     },
     "4a49f308f979437883e523c5c2e8532d": {
      "model_module": "@jupyter-widgets/controls",
      "model_module_version": "1.5.0",
      "model_name": "ButtonModel",
      "state": {
       "description": "Previous",
       "disabled": true,
       "layout": "IPY_MODEL_27c64277a7264ed1990640ed2ea453e0",
       "style": "IPY_MODEL_5f0cfe6f4e114ce082b9a8caed4bb28c"
      }
     },
     "4a806bfd010d4b12a64d9a404ef5e3c5": {
      "model_module": "@jupyter-widgets/base",
      "model_module_version": "1.2.0",
      "model_name": "LayoutModel",
      "state": {
       "order": "-1",
       "overflow": "visible",
       "padding": "1px",
       "width": "0px"
      }
     },
     "4a87f9feaa8b4b73a4c280fd21601792": {
      "model_module": "@jupyter-widgets/controls",
      "model_module_version": "1.5.0",
      "model_name": "DescriptionStyleModel",
      "state": {
       "description_width": ""
      }
     },
     "4a9834bed4f94d00a9430a3bb5421e5a": {
      "model_module": "@jupyter-widgets/base",
      "model_module_version": "1.2.0",
      "model_name": "LayoutModel",
      "state": {
       "height": "32px",
       "overflow": "visible",
       "width": "100%"
      }
     },
     "4aa98e3579e94a95a622cf56e84ffe12": {
      "model_module": "@jupyter-widgets/controls",
      "model_module_version": "1.5.0",
      "model_name": "ProgressStyleModel",
      "state": {
       "description_width": ""
      }
     },
     "4ab3bdc9802a454d804b0cb50a693217": {
      "model_module": "@jupyter-widgets/base",
      "model_module_version": "1.2.0",
      "model_name": "LayoutModel",
      "state": {}
     },
     "4ad7f28d7c994ac38353aae404f7fc3c": {
      "model_module": "@jupyter-widgets/controls",
      "model_module_version": "1.5.0",
      "model_name": "IntProgressModel",
      "state": {
       "layout": "IPY_MODEL_60171ed23ad94e6db3dd3c7b94ffe8e1",
       "style": "IPY_MODEL_273a716950db439caa3f3be1e7b46c5f",
       "value": 30
      }
     },
     "4b05d2da61da44c39cfbedfdc3b2d4f9": {
      "model_module": "@jupyter-widgets/controls",
      "model_module_version": "1.5.0",
      "model_name": "ProgressStyleModel",
      "state": {
       "description_width": ""
      }
     },
     "4b0cab3a489145dabf26a330f18f74bd": {
      "model_module": "@jupyter-widgets/controls",
      "model_module_version": "1.5.0",
      "model_name": "HBoxModel",
      "state": {
       "children": [
        "IPY_MODEL_80060603222449f8b3a113678c9730bc",
        "IPY_MODEL_f65325eda0914be59c852e01d9246952"
       ],
       "layout": "IPY_MODEL_c2d663c1326b4cd8a8dc4b7fecc89084"
      }
     },
     "4b432d5958a742efb2bdb8f9c419c5f3": {
      "model_module": "@jupyter-widgets/controls",
      "model_module_version": "1.5.0",
      "model_name": "DescriptionStyleModel",
      "state": {
       "description_width": ""
      }
     },
     "4b5e80e27e034a70afdedea543516f1f": {
      "model_module": "@jupyter-widgets/controls",
      "model_module_version": "1.5.0",
      "model_name": "DescriptionStyleModel",
      "state": {
       "description_width": ""
      }
     },
     "4b5f026fcd6f4554b6cadacca322e9a4": {
      "model_module": "@jupyter-widgets/controls",
      "model_module_version": "1.5.0",
      "model_name": "IntProgressModel",
      "state": {
       "layout": "IPY_MODEL_ed44d5db349c47ebbf6f308a20f37912",
       "style": "IPY_MODEL_2276e6c539ea410e9ebc6f767e9400a5",
       "value": 30
      }
     },
     "4be6043df1d14d3b8aaf64c7e30f11d1": {
      "model_module": "@jupyter-widgets/controls",
      "model_module_version": "1.5.0",
      "model_name": "HBoxModel",
      "state": {
       "children": [
        "IPY_MODEL_d7866957180041069286bffe666aadfa",
        "IPY_MODEL_858bdc2956c5488fb09436adc0741be1",
        "IPY_MODEL_5f17b78bbdb44eccbc5a1e101ee7cc06",
        "IPY_MODEL_0c9162b2c2c741d0a7582580c038877c"
       ],
       "layout": "IPY_MODEL_23e1ee3a07934ff4b49c23b36ea1b7ee"
      }
     },
     "4c036aaa3011403aba4da6199f5ce0c9": {
      "model_module": "@jupyter-widgets/controls",
      "model_module_version": "1.5.0",
      "model_name": "ButtonModel",
      "state": {
       "description": "Refresh",
       "layout": "IPY_MODEL_324ab6b88da746a99a045afdb28875db",
       "style": "IPY_MODEL_fd18a16712084123baede87087fa084c"
      }
     },
     "4c35615f82b94640982bc9981720427f": {
      "model_module": "@jupyter-widgets/controls",
      "model_module_version": "1.5.0",
      "model_name": "DescriptionStyleModel",
      "state": {
       "description_width": ""
      }
     },
     "4c46370418744820a61537f085572ebf": {
      "model_module": "@jupyter-widgets/controls",
      "model_module_version": "1.5.0",
      "model_name": "ButtonStyleModel",
      "state": {}
     },
     "4c504fedf5e8441ebe67cdf307cd0b05": {
      "model_module": "@jupyter-widgets/controls",
      "model_module_version": "1.5.0",
      "model_name": "DescriptionStyleModel",
      "state": {
       "description_width": ""
      }
     },
     "4c94ecc2dcf14b628f9300c62167f104": {
      "model_module": "@jupyter-widgets/controls",
      "model_module_version": "1.5.0",
      "model_name": "ButtonStyleModel",
      "state": {}
     },
     "4cb1b86e04fc4c44968dd3e080aeefec": {
      "model_module": "@jupyter-widgets/controls",
      "model_module_version": "1.5.0",
      "model_name": "LabelModel",
      "state": {
       "layout": "IPY_MODEL_57b6e2a9f33a4ce988ed0195c78b2870",
       "style": "IPY_MODEL_1ad8a2be37a84611b7a3c3cd0a5e3577",
       "value": "   objective"
      }
     },
     "4cd7b4e6e8594188b9529799a21743c6": {
      "model_module": "@jupyter-widgets/controls",
      "model_module_version": "1.5.0",
      "model_name": "ButtonStyleModel",
      "state": {}
     },
     "4cdd92e8609a4e4d8207325da18afe2b": {
      "model_module": "@jupyter-widgets/base",
      "model_module_version": "1.2.0",
      "model_name": "LayoutModel",
      "state": {
       "overflow": "visible",
       "width": "100%"
      }
     },
     "4cf0cba404c94f449953be78b456ac34": {
      "model_module": "@jupyter-widgets/base",
      "model_module_version": "1.2.0",
      "model_name": "LayoutModel",
      "state": {
       "width": "60px"
      }
     },
     "4d150a2f90b9435595957fb7b15aaf48": {
      "model_module": "@jupyter-widgets/controls",
      "model_module_version": "1.5.0",
      "model_name": "DescriptionStyleModel",
      "state": {
       "description_width": ""
      }
     },
     "4d15d998f3aa4ab5839906b4d210ada7": {
      "model_module": "@jupyter-widgets/base",
      "model_module_version": "1.2.0",
      "model_name": "LayoutModel",
      "state": {
       "display": "none"
      }
     },
     "4d3222312fbe4fe9b7ce0ba561c942a3": {
      "model_module": "@jupyter-widgets/base",
      "model_module_version": "1.2.0",
      "model_name": "LayoutModel",
      "state": {
       "height": "32px",
       "overflow": "visible",
       "width": "100%"
      }
     },
     "4d55919a4bf4473c937ae0f2f3dc8eab": {
      "model_module": "@jupyter-widgets/base",
      "model_module_version": "1.2.0",
      "model_name": "LayoutModel",
      "state": {
       "height": "32px",
       "overflow": "visible",
       "width": "100%"
      }
     },
     "4d9f7aefe87744b5b76b8e149305b8a1": {
      "model_module": "@jupyter-widgets/controls",
      "model_module_version": "1.5.0",
      "model_name": "DescriptionStyleModel",
      "state": {
       "description_width": ""
      }
     },
     "4dcb21c512e24e1fa54779bb6ff52485": {
      "model_module": "@jupyter-widgets/controls",
      "model_module_version": "1.5.0",
      "model_name": "HTMLModel",
      "state": {
       "layout": "IPY_MODEL_f021eee29ff246bab545e77d87020875",
       "style": "IPY_MODEL_41e67c32a19947049d71fa6a837183eb",
       "value": "<i>As an Invader, defeat seven Guardians in a single invasion before Drifter brings you back to your side.</i>"
      }
     },
     "4dd4f8611f2d4ce5a0f8a8bb2ab83a7a": {
      "model_module": "@jupyter-widgets/controls",
      "model_module_version": "1.5.0",
      "model_name": "ButtonStyleModel",
      "state": {}
     },
     "4dd6f96bc0154698939f705e3955ffd1": {
      "model_module": "@jupyter-widgets/controls",
      "model_module_version": "1.5.0",
      "model_name": "IntProgressModel",
      "state": {
       "layout": "IPY_MODEL_a48e1a98659e439ea886ae42fbe572dc",
       "max": 1,
       "style": "IPY_MODEL_20db224117314a34a5aaea83ab2762f6"
      }
     },
     "4de32dda91684a8abe4b3a44d7a97a32": {
      "model_module": "@jupyter-widgets/base",
      "model_module_version": "1.2.0",
      "model_name": "LayoutModel",
      "state": {
       "height": "32px",
       "order": "-2",
       "width": "32px"
      }
     },
     "4e6a6acbbdc44304996eb25ae050d7e3": {
      "model_module": "@jupyter-widgets/base",
      "model_module_version": "1.2.0",
      "model_name": "LayoutModel",
      "state": {
       "width": "60px"
      }
     },
     "4e8ca24623e64fdb9b4f66d2b29df6ba": {
      "model_module": "@jupyter-widgets/controls",
      "model_module_version": "1.5.0",
      "model_name": "DescriptionStyleModel",
      "state": {
       "description_width": ""
      }
     },
     "4e9f0f0dcf51452dabe2537a441ab0ef": {
      "model_module": "@jupyter-widgets/base",
      "model_module_version": "1.2.0",
      "model_name": "LayoutModel",
      "state": {
       "height": "32px",
       "order": "-2",
       "width": "32px"
      }
     },
     "4eb8a379c71e4fd1a59427e2020ff5d3": {
      "model_module": "@jupyter-widgets/controls",
      "model_module_version": "1.5.0",
      "model_name": "DescriptionStyleModel",
      "state": {
       "description_width": ""
      }
     },
     "4ebc3cdc1c884c81b8aa26410eaf5a95": {
      "model_module": "@jupyter-widgets/controls",
      "model_module_version": "1.5.0",
      "model_name": "LabelModel",
      "state": {
       "layout": "IPY_MODEL_3d8831df514d4ca2a25347738a75967f",
       "style": "IPY_MODEL_76cc384d490449628eaead726d5999ec",
       "value": "     (0/1)"
      }
     },
     "4ec82d81ec9f419b9b4f79bcef251d97": {
      "model_module": "@jupyter-widgets/controls",
      "model_module_version": "1.5.0",
      "model_name": "IntProgressModel",
      "state": {
       "layout": "IPY_MODEL_4d3222312fbe4fe9b7ce0ba561c942a3",
       "style": "IPY_MODEL_d7a5fc50c6f443b0ad35400f9d1e2497",
       "value": 30
      }
     },
     "4ecc10db96e745968ce2341370a7fb94": {
      "model_module": "@jupyter-widgets/controls",
      "model_module_version": "1.5.0",
      "model_name": "ButtonStyleModel",
      "state": {}
     },
     "4eef3e6309a940bfb34fd264ef5cde1f": {
      "model_module": "@jupyter-widgets/controls",
      "model_module_version": "1.5.0",
      "model_name": "ButtonStyleModel",
      "state": {}
     },
     "4f0dfe2e01264b298fb535f3d89b6834": {
      "model_module": "@jupyter-widgets/controls",
      "model_module_version": "1.5.0",
      "model_name": "LabelModel",
      "state": {
       "layout": "IPY_MODEL_2a1cf5b327b84091824551b9defa0658",
       "style": "IPY_MODEL_6a43f096fc604673b94f41862a3d3554",
       "value": "   objective"
      }
     },
     "4f3f28d9c2c741cca17e89101c0a9fd2": {
      "model_module": "@jupyter-widgets/controls",
      "model_module_version": "1.5.0",
      "model_name": "ButtonModel",
      "state": {
       "description": "EDIT",
       "layout": "IPY_MODEL_79b93c2a2b5546c398594653678a341d",
       "style": "IPY_MODEL_f9112236171d4e729a81a09569c2b3e4"
      }
     },
     "4f497618712c4489ac0336b3d924ef65": {
      "model_module": "@jupyter-widgets/controls",
      "model_module_version": "1.5.0",
      "model_name": "IntProgressModel",
      "state": {
       "layout": "IPY_MODEL_5d6afad0dba64332a6b28976baadb8fd",
       "style": "IPY_MODEL_c0ba6e051d5a4f8bb690c1c30d071e29",
       "value": 30
      }
     },
     "4f5ca7a5f27947a29fe65e5907100e07": {
      "model_module": "@jupyter-widgets/base",
      "model_module_version": "1.2.0",
      "model_name": "LayoutModel",
      "state": {
       "overflow": "visible",
       "width": "100%"
      }
     },
     "4f906c19416e4b7abc32124c9c38d80d": {
      "model_module": "@jupyter-widgets/controls",
      "model_module_version": "1.5.0",
      "model_name": "DescriptionStyleModel",
      "state": {
       "description_width": ""
      }
     },
     "4fc54fba7ebb47b1910c16b4da8c8d52": {
      "model_module": "@jupyter-widgets/base",
      "model_module_version": "1.2.0",
      "model_name": "LayoutModel",
      "state": {
       "overflow": "visible",
       "width": "100%"
      }
     },
     "4fd6262a1e9c4a8989e1aa10fcdc25eb": {
      "model_module": "@jupyter-widgets/base",
      "model_module_version": "1.2.0",
      "model_name": "LayoutModel",
      "state": {
       "order": "-1",
       "overflow": "visible",
       "padding": "1px",
       "width": "0px"
      }
     },
     "4fdcae90fde8412295b599a05f416b05": {
      "model_module": "@jupyter-widgets/base",
      "model_module_version": "1.2.0",
      "model_name": "LayoutModel",
      "state": {
       "width": "60px"
      }
     },
     "4fe0f713c76b4036956a572da9898924": {
      "model_module": "@jupyter-widgets/base",
      "model_module_version": "1.2.0",
      "model_name": "LayoutModel",
      "state": {
       "order": "-1",
       "overflow": "visible",
       "padding": "1px",
       "width": "0px"
      }
     },
     "502a59cdf0254cdd8bfd185160e3c42a": {
      "model_module": "@jupyter-widgets/base",
      "model_module_version": "1.2.0",
      "model_name": "LayoutModel",
      "state": {
       "height": "32px",
       "overflow": "visible",
       "width": "100%"
      }
     },
     "503a01017b404da2b6a9f4c2a6f94aca": {
      "model_module": "@jupyter-widgets/controls",
      "model_module_version": "1.5.0",
      "model_name": "ButtonStyleModel",
      "state": {}
     },
     "50803204f3cf422b97195e14ea6b774a": {
      "model_module": "@jupyter-widgets/controls",
      "model_module_version": "1.5.0",
      "model_name": "DescriptionStyleModel",
      "state": {
       "description_width": ""
      }
     },
     "5085bdd553b546a896eecd9287d497a5": {
      "model_module": "@jupyter-widgets/controls",
      "model_module_version": "1.5.0",
      "model_name": "ButtonStyleModel",
      "state": {}
     },
     "508fc4423cf14a289704bc1c4623803d": {
      "model_module": "@jupyter-widgets/base",
      "model_module_version": "1.2.0",
      "model_name": "LayoutModel",
      "state": {
       "height": "32px",
       "overflow": "visible",
       "width": "100%"
      }
     },
     "50c03c6eda074babbb07e997839e6b26": {
      "model_module": "@jupyter-widgets/controls",
      "model_module_version": "1.5.0",
      "model_name": "ProgressStyleModel",
      "state": {
       "description_width": ""
      }
     },
     "50efc565e06d4818af822461dedb7622": {
      "model_module": "@jupyter-widgets/controls",
      "model_module_version": "1.5.0",
      "model_name": "ButtonModel",
      "state": {
       "layout": "IPY_MODEL_26c7cf792e4e4330ad05e220016e7194",
       "style": "IPY_MODEL_124bb53b31d44d4881308cc866f3a8d6"
      }
     },
     "50fe9bba0617414480cabe580f88c225": {
      "model_module": "@jupyter-widgets/controls",
      "model_module_version": "1.5.0",
      "model_name": "HBoxModel",
      "state": {
       "children": [
        "IPY_MODEL_fd0bcd982f554034aa513ff89fa2096c",
        "IPY_MODEL_fa5c94271b7d4556b637274cc1b906c2",
        "IPY_MODEL_e5112165d96142afa8255cb23f6ba99a",
        "IPY_MODEL_ce797a0afd1c4d28ab0a0c6742e7eaab"
       ],
       "layout": "IPY_MODEL_29869b6028c242148508ae741914514d"
      }
     },
     "510c15423be243a08df0480aef9c7744": {
      "model_module": "@jupyter-widgets/controls",
      "model_module_version": "1.5.0",
      "model_name": "ButtonModel",
      "state": {
       "description": "EDIT",
       "layout": "IPY_MODEL_beec8bb03cec43a8a9502427e3e3e65b",
       "style": "IPY_MODEL_6341b9d3054648df9ad53672b952cbd0"
      }
     },
     "51100d9eb1314fa2a238acea57badc13": {
      "model_module": "@jupyter-widgets/controls",
      "model_module_version": "1.5.0",
      "model_name": "DescriptionStyleModel",
      "state": {
       "description_width": ""
      }
     },
     "51214e639d6444ffac81f6bb1e992bad": {
      "model_module": "@jupyter-widgets/controls",
      "model_module_version": "1.5.0",
      "model_name": "DescriptionStyleModel",
      "state": {
       "description_width": ""
      }
     },
     "514ff30419d041bca5efb12844dbf968": {
      "model_module": "@jupyter-widgets/controls",
      "model_module_version": "1.5.0",
      "model_name": "DescriptionStyleModel",
      "state": {
       "description_width": ""
      }
     },
     "5158a0ad9c8741ecb8a3ce915cb66220": {
      "model_module": "@jupyter-widgets/controls",
      "model_module_version": "1.5.0",
      "model_name": "HTMLModel",
      "state": {
       "layout": "IPY_MODEL_c4e95a0b3a1044fe8bc61c19b86ef344",
       "style": "IPY_MODEL_c2d957c23f12431689a31c45dd96658f",
       "value": "<i></i>"
      }
     },
     "5183298d42f144b58de907241cc18c4c": {
      "model_module": "@jupyter-widgets/base",
      "model_module_version": "1.2.0",
      "model_name": "LayoutModel",
      "state": {
       "display": "none"
      }
     },
     "519b7fec82e04f33b6e67bff0ba3e3a2": {
      "model_module": "@jupyter-widgets/base",
      "model_module_version": "1.2.0",
      "model_name": "LayoutModel",
      "state": {
       "width": "60px"
      }
     },
     "51c64bf242254eae8286d43cb2b9d982": {
      "model_module": "@jupyter-widgets/controls",
      "model_module_version": "1.5.0",
      "model_name": "LabelModel",
      "state": {
       "layout": "IPY_MODEL_28ed6e84ae014f799a3f6c84b188524e",
       "style": "IPY_MODEL_f64b4c4aba3a46b7bcf182de8c7c1c3b",
       "value": "   objective"
      }
     },
     "51efae3e622f4a868f48d594497f3416": {
      "model_module": "@jupyter-widgets/base",
      "model_module_version": "1.2.0",
      "model_name": "LayoutModel",
      "state": {
       "height": "32px",
       "overflow": "visible",
       "width": "100%"
      }
     },
     "51f2f48b1cdc448ebd61ebb908d4e1c9": {
      "model_module": "@jupyter-widgets/base",
      "model_module_version": "1.2.0",
      "model_name": "LayoutModel",
      "state": {
       "height": "32px",
       "overflow": "visible",
       "width": "100%"
      }
     },
     "520d6f21b15449408cc1b7787994dd4e": {
      "model_module": "@jupyter-widgets/base",
      "model_module_version": "1.2.0",
      "model_name": "LayoutModel",
      "state": {
       "order": "-1",
       "overflow": "visible",
       "padding": "1px",
       "width": "0px"
      }
     },
     "5215e2dd5ddc40b89cfdd7047ce1274d": {
      "model_module": "@jupyter-widgets/controls",
      "model_module_version": "1.5.0",
      "model_name": "ButtonModel",
      "state": {
       "layout": "IPY_MODEL_e3afbc4a41594477aaf6c607b9796681",
       "style": "IPY_MODEL_b0aa9ffac00f4fb4a6bb78702614973b"
      }
     },
     "52194395fff84822a3279296b1e1f0a5": {
      "model_module": "@jupyter-widgets/base",
      "model_module_version": "1.2.0",
      "model_name": "LayoutModel",
      "state": {
       "height": "32px",
       "overflow": "visible",
       "width": "100%"
      }
     },
     "521da24f8db54fcf962f05a246187c02": {
      "model_module": "@jupyter-widgets/controls",
      "model_module_version": "1.5.0",
      "model_name": "LabelModel",
      "state": {
       "layout": "IPY_MODEL_ce612d8ca58d4958a6d48c5d66defb06",
       "style": "IPY_MODEL_abbaa7b1cc7b456cbe0c607066dbd9d4",
       "value": "   objective"
      }
     },
     "52641ceff8f6462493614d9a09177ee0": {
      "model_module": "@jupyter-widgets/base",
      "model_module_version": "1.2.0",
      "model_name": "LayoutModel",
      "state": {
       "border": "3px solid white",
       "display": "flex",
       "flex": "1 1 0%",
       "margin": "10px",
       "min_width": "400px",
       "overflow": "visible",
       "padding": "10px",
       "width": "auto"
      }
     },
     "527a5ec0a55e4e4ba7992229bf40fa8f": {
      "model_module": "@jupyter-widgets/controls",
      "model_module_version": "1.5.0",
      "model_name": "VBoxModel",
      "state": {
       "children": [
        "IPY_MODEL_fb91e960d86849268c056b95543882a8",
        "IPY_MODEL_6be06d121c754453891af437b6af5dc0",
        "IPY_MODEL_fa99d58170f24c1497f5051378b68d63",
        "IPY_MODEL_17654ddcfcd94d66b4ef8efb3c294236",
        "IPY_MODEL_33978e0c31074742af184857f64113e3",
        "IPY_MODEL_80397aae882b428087b6f62966d6e17e"
       ],
       "layout": "IPY_MODEL_01f7d267fe5941c2a6157ecfed4e2025"
      }
     },
     "528d3f6dbda9440c911659f3f2673a84": {
      "model_module": "@jupyter-widgets/base",
      "model_module_version": "1.2.0",
      "model_name": "LayoutModel",
      "state": {
       "order": "-1",
       "overflow": "visible",
       "padding": "1px",
       "width": "0px"
      }
     },
     "52e4df5e6ae74fb48a79198aeb302483": {
      "model_module": "@jupyter-widgets/controls",
      "model_module_version": "1.5.0",
      "model_name": "ButtonModel",
      "state": {
       "layout": "IPY_MODEL_2d955256a7424e93b1d1c6cc00d4320e",
       "style": "IPY_MODEL_1a274ddd3248414fb3405c4ac0f14e7b"
      }
     },
     "530610d47637441199b95ac2630ecb22": {
      "model_module": "@jupyter-widgets/base",
      "model_module_version": "1.2.0",
      "model_name": "LayoutModel",
      "state": {
       "height": "32px",
       "order": "-2",
       "width": "32px"
      }
     },
     "5312c36970d74181a0f28e0760eb7ccc": {
      "model_module": "@jupyter-widgets/base",
      "model_module_version": "1.2.0",
      "model_name": "LayoutModel",
      "state": {
       "height": "32px",
       "order": "-2",
       "width": "32px"
      }
     },
     "5312f129e8f54e218988c9233042cc7e": {
      "model_module": "@jupyter-widgets/base",
      "model_module_version": "1.2.0",
      "model_name": "LayoutModel",
      "state": {
       "overflow": "visible",
       "width": "100%"
      }
     },
     "535e0cd859ce4ccd8125885283370b38": {
      "model_module": "@jupyter-widgets/base",
      "model_module_version": "1.2.0",
      "model_name": "LayoutModel",
      "state": {
       "display": "none"
      }
     },
     "536997a28b15479198799264af06b432": {
      "model_module": "@jupyter-widgets/controls",
      "model_module_version": "1.5.0",
      "model_name": "IntProgressModel",
      "state": {
       "bar_style": "success",
       "layout": "IPY_MODEL_d66223ecd68c458d860c30affc8a5bcb",
       "max": 25,
       "style": "IPY_MODEL_8f97e9f47e1b4b74a8c7fc346a7af70f",
       "value": 25
      }
     },
     "537112cf9ce242e88a0f5296aea30318": {
      "model_module": "@jupyter-widgets/controls",
      "model_module_version": "1.5.0",
      "model_name": "LabelModel",
      "state": {
       "layout": "IPY_MODEL_787462a3a5304671b5318d1cbbbacda8",
       "style": "IPY_MODEL_fb69b7180b3c4e0093e0a4f6eee30934",
       "value": "Armor Set:"
      }
     },
     "53729df786f74641a565c21660030b0e": {
      "model_module": "@jupyter-widgets/controls",
      "model_module_version": "1.5.0",
      "model_name": "VBoxModel",
      "state": {
       "children": [
        "IPY_MODEL_83cc4310083d4e618066ef35cca22f35",
        "IPY_MODEL_fadc2d523ba34a9880a8ff5e957bfe31",
        "IPY_MODEL_eb5b65c9e5e64589bf6caa3d9cd1a2f8",
        "IPY_MODEL_25e85f1e2f8e489f9af8ba2b23bcd9d0",
        "IPY_MODEL_27219a6ebfa34714b8ef626023ae8a50",
        "IPY_MODEL_b48e8e6172a245618af7089aa57349f6"
       ],
       "layout": "IPY_MODEL_d30d98bc7e944d00a0fd1b27c523d38a"
      }
     },
     "5399d03104c946ed92d38e76160417d3": {
      "model_module": "@jupyter-widgets/base",
      "model_module_version": "1.2.0",
      "model_name": "LayoutModel",
      "state": {
       "width": "60px"
      }
     },
     "53a034cd55b14694ab7aafa6a824f19b": {
      "model_module": "@jupyter-widgets/controls",
      "model_module_version": "1.5.0",
      "model_name": "DescriptionStyleModel",
      "state": {
       "description_width": ""
      }
     },
     "53a23f7d6f28430b84b72b4cc4f2e7c6": {
      "model_module": "@jupyter-widgets/controls",
      "model_module_version": "1.5.0",
      "model_name": "ButtonModel",
      "state": {
       "description": "EDIT",
       "layout": "IPY_MODEL_e4a54cd32b494a44919cd545173348e6",
       "style": "IPY_MODEL_c961443c3206470fbceab215b3f391b3"
      }
     },
     "53d038ef666c4e82a39761f9b8927f09": {
      "model_module": "@jupyter-widgets/controls",
      "model_module_version": "1.5.0",
      "model_name": "HBoxModel",
      "state": {
       "children": [
        "IPY_MODEL_4a49f308f979437883e523c5c2e8532d",
        "IPY_MODEL_49869e458e6143bd90dd5312cc5d4d02"
       ],
       "layout": "IPY_MODEL_2806c99f3bd443649e692d2f11445b77"
      }
     },
     "53dc4595875a4d6e9ceafbaa447697f0": {
      "model_module": "@jupyter-widgets/controls",
      "model_module_version": "1.5.0",
      "model_name": "ButtonStyleModel",
      "state": {}
     },
     "545ab55b84934b399872ee2ffe6b4c9a": {
      "model_module": "@jupyter-widgets/controls",
      "model_module_version": "1.5.0",
      "model_name": "ButtonModel",
      "state": {
       "description": "EDIT",
       "layout": "IPY_MODEL_a004404ed60e4a0790023d751acb1cb1",
       "style": "IPY_MODEL_047c6ae5d4c049518c77747d16577dd7"
      }
     },
     "5470e06661424ca98903445dffc3e6da": {
      "model_module": "@jupyter-widgets/base",
      "model_module_version": "1.2.0",
      "model_name": "LayoutModel",
      "state": {}
     },
     "548daf6936c24af68036edf86280d012": {
      "model_module": "@jupyter-widgets/base",
      "model_module_version": "1.2.0",
      "model_name": "LayoutModel",
      "state": {
       "order": "-1",
       "overflow": "visible",
       "padding": "1px",
       "width": "0px"
      }
     },
     "54a4ff41fee84db1aebbcd1111c39324": {
      "model_module": "@jupyter-widgets/controls",
      "model_module_version": "1.5.0",
      "model_name": "ButtonStyleModel",
      "state": {}
     },
     "54c1183ecd464a43b1af71985c62b923": {
      "model_module": "@jupyter-widgets/base",
      "model_module_version": "1.2.0",
      "model_name": "LayoutModel",
      "state": {
       "height": "32px",
       "order": "-2",
       "width": "32px"
      }
     },
     "54ea609251d04954a64a1ef088c7474c": {
      "model_module": "@jupyter-widgets/controls",
      "model_module_version": "1.5.0",
      "model_name": "LabelModel",
      "state": {
       "layout": "IPY_MODEL_e0ad09981e14467b8e265cc44affc11d",
       "style": "IPY_MODEL_6a1c81e4e89f4442aa5315d22a959a30",
       "value": "    Grenade kills (289/1000)"
      }
     },
     "554ce52ac1264281959c5315eeb88ab4": {
      "model_module": "@jupyter-widgets/controls",
      "model_module_version": "1.5.0",
      "model_name": "ButtonModel",
      "state": {
       "layout": "IPY_MODEL_f9d5e405f48e4c5481ce65d8a582db9d",
       "style": "IPY_MODEL_33bdfb61af284f68a503d701ad966bad"
      }
     },
     "555905ca62c045bc9b6bdf5aca594799": {
      "model_module": "@jupyter-widgets/base",
      "model_module_version": "1.2.0",
      "model_name": "LayoutModel",
      "state": {
       "order": "-1",
       "overflow": "visible",
       "padding": "1px",
       "width": "0px"
      }
     },
     "556dca4c741248af92051492b32524d4": {
      "model_module": "@jupyter-widgets/base",
      "model_module_version": "1.2.0",
      "model_name": "LayoutModel",
      "state": {
       "display": "flex"
      }
     },
     "5574f4855a0749348f40253f993ef5af": {
      "model_module": "@jupyter-widgets/controls",
      "model_module_version": "1.5.0",
      "model_name": "ProgressStyleModel",
      "state": {
       "description_width": ""
      }
     },
     "55d1022c694748b1bd2331cb4e85a630": {
      "model_module": "@jupyter-widgets/controls",
      "model_module_version": "1.5.0",
      "model_name": "ButtonStyleModel",
      "state": {}
     },
     "55d1a8aa802840fb9d4d2760ab70ceaf": {
      "model_module": "@jupyter-widgets/base",
      "model_module_version": "1.2.0",
      "model_name": "LayoutModel",
      "state": {
       "order": "-1",
       "overflow": "visible",
       "padding": "1px",
       "width": "0px"
      }
     },
     "56541598739e470e834d82290916010b": {
      "model_module": "@jupyter-widgets/controls",
      "model_module_version": "1.5.0",
      "model_name": "IntProgressModel",
      "state": {
       "layout": "IPY_MODEL_502a59cdf0254cdd8bfd185160e3c42a",
       "style": "IPY_MODEL_b0d159d963c74bfaa9acd2e3106c8eee",
       "value": 30
      }
     },
     "566bf61763db4bdd92330c0aaa3902bd": {
      "model_module": "@jupyter-widgets/controls",
      "model_module_version": "1.5.0",
      "model_name": "IntProgressModel",
      "state": {
       "bar_style": "success",
       "layout": "IPY_MODEL_42e4e62c75cf41e7b72bfaaea17f84ec",
       "max": 25,
       "style": "IPY_MODEL_6e5e9f3250d34fdbb5bed604e8addb33",
       "value": 25
      }
     },
     "569fe620bb9b48e5b703ee77c6a18506": {
      "model_module": "@jupyter-widgets/base",
      "model_module_version": "1.2.0",
      "model_name": "LayoutModel",
      "state": {
       "order": "-1",
       "overflow": "visible",
       "padding": "1px",
       "width": "0px"
      }
     },
     "56c039c017764f95897e5a290f8e7def": {
      "model_module": "@jupyter-widgets/controls",
      "model_module_version": "1.5.0",
      "model_name": "ButtonModel",
      "state": {
       "layout": "IPY_MODEL_bb5cfe1e208a46ce9552c57055bf4c6d",
       "style": "IPY_MODEL_42fd33475bf34867bcd6ee48c5f5611f"
      }
     },
     "56cf53795bb94fd9935eb9d5393748fc": {
      "model_module": "@jupyter-widgets/controls",
      "model_module_version": "1.5.0",
      "model_name": "ProgressStyleModel",
      "state": {
       "description_width": ""
      }
     },
     "571db08165854c688366fd7b55da2af8": {
      "model_module": "@jupyter-widgets/controls",
      "model_module_version": "1.5.0",
      "model_name": "ButtonStyleModel",
      "state": {}
     },
     "57252323ff03455c9c2686f63193810c": {
      "model_module": "@jupyter-widgets/base",
      "model_module_version": "1.2.0",
      "model_name": "LayoutModel",
      "state": {
       "height": "32px",
       "order": "-2",
       "width": "32px"
      }
     },
     "5763325ead1d4f8ebbde33f12fe84917": {
      "model_module": "@jupyter-widgets/controls",
      "model_module_version": "1.5.0",
      "model_name": "ButtonModel",
      "state": {
       "description": "EDIT",
       "layout": "IPY_MODEL_d43a7b7145364a73a72b8dff16ec94b0",
       "style": "IPY_MODEL_18c01af378c8484bbdeaadd43e682b9d"
      }
     },
     "57b47bf9db2c423dab83b77de6a7ce7a": {
      "model_module": "@jupyter-widgets/controls",
      "model_module_version": "1.5.0",
      "model_name": "LabelModel",
      "state": {
       "layout": "IPY_MODEL_eda66d71d7d54d47938b9ec5ad308040",
       "style": "IPY_MODEL_b1db29e43c1e4ca59fb3958859b681b4",
       "value": "Grenade:"
      }
     },
     "57b6e2a9f33a4ce988ed0195c78b2870": {
      "model_module": "@jupyter-widgets/base",
      "model_module_version": "1.2.0",
      "model_name": "LayoutModel",
      "state": {
       "order": "-1",
       "overflow": "visible",
       "padding": "1px",
       "width": "0px"
      }
     },
     "57c56f2e09894154976097d2f09efe8a": {
      "model_module": "@jupyter-widgets/controls",
      "model_module_version": "1.5.0",
      "model_name": "HBoxModel",
      "state": {
       "children": [
        "IPY_MODEL_fb482a5213fc43a88e991ba2eb0d31f0",
        "IPY_MODEL_a9d9599fcfd440ff977a27fe657b736d",
        "IPY_MODEL_c680dc5f818047159285495d8a48c589",
        "IPY_MODEL_8e439164d5184962af00761a5c3d484a"
       ],
       "layout": "IPY_MODEL_3520b034caed4b2ca3537ede9331f8f9"
      }
     },
     "57e8541e4e7b49f4b8c2bdb835459ad8": {
      "model_module": "@jupyter-widgets/base",
      "model_module_version": "1.2.0",
      "model_name": "LayoutModel",
      "state": {
       "height": "32px",
       "order": "-2",
       "width": "32px"
      }
     },
     "58104de9fe7347e0b221bca6cee8a63b": {
      "model_module": "@jupyter-widgets/controls",
      "model_module_version": "1.5.0",
      "model_name": "ProgressStyleModel",
      "state": {
       "description_width": ""
      }
     },
     "5864bc5f8dca413a96241cea2ac799a3": {
      "model_module": "@jupyter-widgets/base",
      "model_module_version": "1.2.0",
      "model_name": "LayoutModel",
      "state": {
       "display": "flex"
      }
     },
     "5892d09346d24e7888869a9adec7c270": {
      "model_module": "@jupyter-widgets/base",
      "model_module_version": "1.2.0",
      "model_name": "LayoutModel",
      "state": {
       "order": "-1",
       "overflow": "visible",
       "padding": "1px",
       "width": "0px"
      }
     },
     "58c10fa9aeea4d279377fd586565bd2a": {
      "model_module": "@jupyter-widgets/base",
      "model_module_version": "1.2.0",
      "model_name": "LayoutModel",
      "state": {
       "order": "-1",
       "overflow": "visible",
       "padding": "1px",
       "width": "0px"
      }
     },
     "58d98290fa3445e682f70fc3c24ec943": {
      "model_module": "@jupyter-widgets/base",
      "model_module_version": "1.2.0",
      "model_name": "LayoutModel",
      "state": {
       "width": "60px"
      }
     },
     "58dcb4072b1d4246a2b89250732bc315": {
      "model_module": "@jupyter-widgets/controls",
      "model_module_version": "1.5.0",
      "model_name": "HTMLModel",
      "state": {
       "layout": "IPY_MODEL_abd076538f3a45448ac32ae27b55f1c7",
       "style": "IPY_MODEL_0ad89779d4164550a5b20e21f99190e6",
       "value": "<i>Win a Gambit Prime match while wearing a full set of Notorious armor.</i>"
      }
     },
     "590ff819e1a5423cb2e6eda5e4bd32c5": {
      "model_module": "@jupyter-widgets/controls",
      "model_module_version": "1.5.0",
      "model_name": "ButtonStyleModel",
      "state": {}
     },
     "59277d338d7143df80b5ca38fd36e851": {
      "model_module": "@jupyter-widgets/controls",
      "model_module_version": "1.5.0",
      "model_name": "LabelModel",
      "state": {
       "layout": "IPY_MODEL_479e8491f78149039dd3b666b78411a7",
       "style": "IPY_MODEL_6f7799c720244a54811673b5489bd36a",
       "value": "     (0/1)"
      }
     },
     "5934ccde3742499ea6378fbc4bed6df7": {
      "model_module": "@jupyter-widgets/controls",
      "model_module_version": "1.5.0",
      "model_name": "LabelModel",
      "state": {
       "layout": "IPY_MODEL_af61cae4377049e88ff5a3adec4d3b93",
       "style": "IPY_MODEL_01423eea5af748a3b411838a9cc59364",
       "value": "   objective"
      }
     },
     "5941f68823694c499180e227a648c599": {
      "model_module": "@jupyter-widgets/base",
      "model_module_version": "1.2.0",
      "model_name": "LayoutModel",
      "state": {
       "height": "32px",
       "overflow": "visible",
       "width": "100%"
      }
     },
     "595f0ce9c509465186b7f054d666ae8c": {
      "model_module": "@jupyter-widgets/controls",
      "model_module_version": "1.5.0",
      "model_name": "LabelModel",
      "state": {
       "layout": "IPY_MODEL_7de1ad4563af4f288c8815da0cf01373",
       "style": "IPY_MODEL_e311b985cb3d4a38a30a4aba18da8536",
       "value": "   objective"
      }
     },
     "598c22ce6901410e8e38549e4d3687e9": {
      "model_module": "@jupyter-widgets/base",
      "model_module_version": "1.2.0",
      "model_name": "LayoutModel",
      "state": {
       "width": "60px"
      }
     },
     "59934fe29e054fcead4286a790d74676": {
      "model_module": "@jupyter-widgets/base",
      "model_module_version": "1.2.0",
      "model_name": "LayoutModel",
      "state": {
       "display": "none"
      }
     },
     "59f1762af66c4f8490def16ffb0ebb57": {
      "model_module": "@jupyter-widgets/base",
      "model_module_version": "1.2.0",
      "model_name": "LayoutModel",
      "state": {
       "order": "-1",
       "overflow": "visible",
       "padding": "1px",
       "width": "0px"
      }
     },
     "59f9de1c1a6f4369b0d360bb0595d4c6": {
      "model_module": "@jupyter-widgets/base",
      "model_module_version": "1.2.0",
      "model_name": "LayoutModel",
      "state": {
       "display": "flex",
       "flex_flow": "row wrap"
      }
     },
     "5a3939aed78446f5b0bee26c73ec7712": {
      "model_module": "@jupyter-widgets/controls",
      "model_module_version": "1.5.0",
      "model_name": "HBoxModel",
      "state": {
       "children": [
        "IPY_MODEL_31c1dac466c14c86ada2fefaffd79392",
        "IPY_MODEL_043c082d6930411f8ba80558f208187e",
        "IPY_MODEL_f9dbcec1fa314d36a726ac5a75f5396d",
        "IPY_MODEL_545ab55b84934b399872ee2ffe6b4c9a"
       ],
       "layout": "IPY_MODEL_7958e32616f642f5b38c81d0e9997294"
      }
     },
     "5a4acc20a2ec4abea93a3331bac006dc": {
      "model_module": "@jupyter-widgets/controls",
      "model_module_version": "1.5.0",
      "model_name": "DescriptionStyleModel",
      "state": {
       "description_width": ""
      }
     },
     "5a596a4ac8fc44d0857bd2bdaa7d7c80": {
      "model_module": "@jupyter-widgets/base",
      "model_module_version": "1.2.0",
      "model_name": "LayoutModel",
      "state": {
       "height": "32px",
       "overflow": "visible",
       "width": "100%"
      }
     },
     "5ad4535d104743b8be54ba29862cbb85": {
      "model_module": "@jupyter-widgets/controls",
      "model_module_version": "1.5.0",
      "model_name": "HBoxModel",
      "state": {
       "children": [
        "IPY_MODEL_d85a8ab6493b4fe992ea123b0cf3321b",
        "IPY_MODEL_ce254e18b42a4077b54c12af4fa67551",
        "IPY_MODEL_0c99b0b457404b1b9b570fb369f1f344",
        "IPY_MODEL_e082bf8d8bad488797b8c198bfa05f79"
       ],
       "layout": "IPY_MODEL_a21ed9e5e9d149059ea55293d44d7123"
      }
     },
     "5ad717aa6dc746a4a5d845e61749e3aa": {
      "model_module": "@jupyter-widgets/controls",
      "model_module_version": "1.5.0",
      "model_name": "ButtonModel",
      "state": {
       "layout": "IPY_MODEL_72c63235240d4f519a0e3e7b149db9b1",
       "style": "IPY_MODEL_785943ac75ab4daaa4e3f4c1294952de"
      }
     },
     "5b9cb0f7bf5c4304881a1fed066f898a": {
      "model_module": "@jupyter-widgets/base",
      "model_module_version": "1.2.0",
      "model_name": "LayoutModel",
      "state": {}
     },
     "5b9e20ee543c42a2829ab26643b70209": {
      "model_module": "@jupyter-widgets/controls",
      "model_module_version": "1.5.0",
      "model_name": "HBoxModel",
      "state": {
       "children": [
        "IPY_MODEL_50efc565e06d4818af822461dedb7622",
        "IPY_MODEL_c9fb850b359b487c8586299a9e8bda33",
        "IPY_MODEL_14b5e57145eb4b19b66931af8ff78131",
        "IPY_MODEL_4844994f4500435686cb4ab6524b6a38"
       ],
       "layout": "IPY_MODEL_96825ba33f774546907e19005e3ab142"
      }
     },
     "5bd567428cde41308a8fce736b4fe223": {
      "model_module": "@jupyter-widgets/base",
      "model_module_version": "1.2.0",
      "model_name": "LayoutModel",
      "state": {
       "order": "-1",
       "overflow": "visible",
       "padding": "1px",
       "width": "0px"
      }
     },
     "5c14fab474d341879b60159e4fd71cb6": {
      "model_module": "@jupyter-widgets/base",
      "model_module_version": "1.2.0",
      "model_name": "LayoutModel",
      "state": {
       "order": "-1",
       "overflow": "visible",
       "padding": "1px",
       "width": "0px"
      }
     },
     "5c278bd78492403889324e3134776421": {
      "model_module": "@jupyter-widgets/controls",
      "model_module_version": "1.5.0",
      "model_name": "HBoxModel",
      "state": {
       "children": [
        "IPY_MODEL_5ad717aa6dc746a4a5d845e61749e3aa",
        "IPY_MODEL_eb41c65a152f4d7f80ca87b3dc8ef4a5",
        "IPY_MODEL_258f6c0ca6b84bc0a9c5204e4c521f43",
        "IPY_MODEL_6d86c0d718c342a290888c8b84e92529"
       ],
       "layout": "IPY_MODEL_ca52a4e65e224731ad32264c7088223e"
      }
     },
     "5c66cf40fe0b4f33985b4b1d154ebc1e": {
      "model_module": "@jupyter-widgets/base",
      "model_module_version": "1.2.0",
      "model_name": "LayoutModel",
      "state": {
       "height": "32px",
       "overflow": "visible",
       "width": "100%"
      }
     },
     "5cdf76e520d54771981c6063e146e04e": {
      "model_module": "@jupyter-widgets/controls",
      "model_module_version": "1.5.0",
      "model_name": "ButtonStyleModel",
      "state": {}
     },
     "5ce2a7a1eafb4427b4a89eee34bc17b4": {
      "model_module": "@jupyter-widgets/controls",
      "model_module_version": "1.5.0",
      "model_name": "ButtonStyleModel",
      "state": {}
     },
     "5cf7641de6b94e8aa9844b5d7e596b54": {
      "model_module": "@jupyter-widgets/controls",
      "model_module_version": "1.5.0",
      "model_name": "HTMLModel",
      "state": {
       "layout": "IPY_MODEL_381b38f448cb48d68dbff98e91700090",
       "style": "IPY_MODEL_fc1a14dd579b41dfb72152dd7dad8e09",
       "value": "<i></i>"
      }
     },
     "5d3cfd30c11d4934b4ae3bfe212fcbf2": {
      "model_module": "@jupyter-widgets/controls",
      "model_module_version": "1.5.0",
      "model_name": "DescriptionStyleModel",
      "state": {
       "description_width": ""
      }
     },
     "5d3ebf124956465f8ea5e35f73678a4a": {
      "model_module": "@jupyter-widgets/base",
      "model_module_version": "1.2.0",
      "model_name": "LayoutModel",
      "state": {
       "overflow": "visible",
       "width": "100%"
      }
     },
     "5d6afad0dba64332a6b28976baadb8fd": {
      "model_module": "@jupyter-widgets/base",
      "model_module_version": "1.2.0",
      "model_name": "LayoutModel",
      "state": {
       "height": "32px",
       "overflow": "visible",
       "width": "100%"
      }
     },
     "5d85391c90174513b9cca2ff1a0c1820": {
      "model_module": "@jupyter-widgets/controls",
      "model_module_version": "1.5.0",
      "model_name": "DescriptionStyleModel",
      "state": {
       "description_width": ""
      }
     },
     "5d8e3565222c44f183f6141ae7b30f23": {
      "model_module": "@jupyter-widgets/base",
      "model_module_version": "1.2.0",
      "model_name": "LayoutModel",
      "state": {
       "display": "none"
      }
     },
     "5d9ac0a7afec44a3bb9a565fd67312bb": {
      "model_module": "@jupyter-widgets/base",
      "model_module_version": "1.2.0",
      "model_name": "LayoutModel",
      "state": {
       "overflow": "visible",
       "width": "100%"
      }
     },
     "5d9b17655c26466985ed358e20559fb0": {
      "model_module": "@jupyter-widgets/base",
      "model_module_version": "1.2.0",
      "model_name": "LayoutModel",
      "state": {
       "order": "-1",
       "overflow": "visible",
       "padding": "1px",
       "width": "0px"
      }
     },
     "5dbcbeccc8fc4d719b0ada8fc48166a3": {
      "model_module": "@jupyter-widgets/controls",
      "model_module_version": "1.5.0",
      "model_name": "IntProgressModel",
      "state": {
       "layout": "IPY_MODEL_7c1359bc76964ca9a6e477c0e3d2773c",
       "style": "IPY_MODEL_c51a87321308467c9b7c5670ef1f386d",
       "value": 30
      }
     },
     "5e047b1fea6a419ebea647291be610ca": {
      "model_module": "@jupyter-widgets/controls",
      "model_module_version": "1.5.0",
      "model_name": "DescriptionStyleModel",
      "state": {
       "description_width": ""
      }
     },
     "5e0b3132a1fe4663a94653d8093f053e": {
      "model_module": "@jupyter-widgets/base",
      "model_module_version": "1.2.0",
      "model_name": "LayoutModel",
      "state": {
       "height": "32px",
       "order": "-2",
       "width": "32px"
      }
     },
     "5e12ef3db094432aac1d9a149d467df2": {
      "model_module": "@jupyter-widgets/controls",
      "model_module_version": "1.5.0",
      "model_name": "IntProgressModel",
      "state": {
       "layout": "IPY_MODEL_febcffe9b2a24a568eb3d5f37468cc78",
       "style": "IPY_MODEL_890836a8652346228677ca0aece01825",
       "value": 30
      }
     },
     "5e8ecdcd0aa8418f9a00db82b7f398b5": {
      "model_module": "@jupyter-widgets/base",
      "model_module_version": "1.2.0",
      "model_name": "LayoutModel",
      "state": {
       "width": "60px"
      }
     },
     "5ee49d04abf94c3882b32d3294dc36ab": {
      "model_module": "@jupyter-widgets/controls",
      "model_module_version": "1.5.0",
      "model_name": "IntProgressModel",
      "state": {
       "layout": "IPY_MODEL_bd6407bea6994673b2d21743e23420cc",
       "style": "IPY_MODEL_c6bbb5deae724c888c193ed94a5dd758",
       "value": 30
      }
     },
     "5f0cfe6f4e114ce082b9a8caed4bb28c": {
      "model_module": "@jupyter-widgets/controls",
      "model_module_version": "1.5.0",
      "model_name": "ButtonStyleModel",
      "state": {}
     },
     "5f17b78bbdb44eccbc5a1e101ee7cc06": {
      "model_module": "@jupyter-widgets/controls",
      "model_module_version": "1.5.0",
      "model_name": "LabelModel",
      "state": {
       "layout": "IPY_MODEL_4fd6262a1e9c4a8989e1aa10fcdc25eb",
       "style": "IPY_MODEL_48b3b2dacd924467a330e9ec0a05dfd7",
       "value": "   objective"
      }
     },
     "5f1b63a3e2cf45548fc5591eff3bcd15": {
      "model_module": "@jupyter-widgets/base",
      "model_module_version": "1.2.0",
      "model_name": "LayoutModel",
      "state": {
       "width": "60px"
      }
     },
     "5f241f525d854425be35ad2bba480bf4": {
      "model_module": "@jupyter-widgets/controls",
      "model_module_version": "1.5.0",
      "model_name": "DescriptionStyleModel",
      "state": {
       "description_width": ""
      }
     },
     "5f26094f6ada4c86b69d1b9e7ceb5bac": {
      "model_module": "@jupyter-widgets/base",
      "model_module_version": "1.2.0",
      "model_name": "LayoutModel",
      "state": {
       "display": "flex"
      }
     },
     "5f620ca8641d4cf9ad1d2c4c3dfa80a2": {
      "model_module": "@jupyter-widgets/base",
      "model_module_version": "1.2.0",
      "model_name": "LayoutModel",
      "state": {
       "overflow": "visible",
       "width": "100%"
      }
     },
     "5fb18d30bfec4927a1eb34d302fd6510": {
      "model_module": "@jupyter-widgets/base",
      "model_module_version": "1.2.0",
      "model_name": "LayoutModel",
      "state": {
       "order": "-1",
       "overflow": "visible",
       "padding": "1px",
       "width": "0px"
      }
     },
     "5fea92506cef4a10b1825a6bee898532": {
      "model_module": "@jupyter-widgets/controls",
      "model_module_version": "1.5.0",
      "model_name": "ButtonStyleModel",
      "state": {}
     },
     "5ff0a6e4ec634d79b84fb7e430f1381c": {
      "model_module": "@jupyter-widgets/base",
      "model_module_version": "1.2.0",
      "model_name": "LayoutModel",
      "state": {
       "display": "none"
      }
     },
     "60171ed23ad94e6db3dd3c7b94ffe8e1": {
      "model_module": "@jupyter-widgets/base",
      "model_module_version": "1.2.0",
      "model_name": "LayoutModel",
      "state": {
       "height": "32px",
       "overflow": "visible",
       "width": "100%"
      }
     },
     "601efe8dc0ad4246b3040589bdf41ff6": {
      "model_module": "@jupyter-widgets/controls",
      "model_module_version": "1.5.0",
      "model_name": "ProgressStyleModel",
      "state": {
       "description_width": ""
      }
     },
     "605307a096a74587931f70fc6289693c": {
      "model_module": "@jupyter-widgets/base",
      "model_module_version": "1.2.0",
      "model_name": "LayoutModel",
      "state": {
       "order": "-1",
       "overflow": "visible",
       "padding": "1px",
       "width": "0px"
      }
     },
     "605f70a458ae423fb20bec92f29f87ec": {
      "model_module": "@jupyter-widgets/base",
      "model_module_version": "1.2.0",
      "model_name": "LayoutModel",
      "state": {
       "display": "none"
      }
     },
     "60653e1ba3e846ae9c53a954308f01fd": {
      "model_module": "@jupyter-widgets/base",
      "model_module_version": "1.2.0",
      "model_name": "LayoutModel",
      "state": {}
     },
     "60b4ac928ee74b978dd3b2391910b92f": {
      "model_module": "@jupyter-widgets/controls",
      "model_module_version": "1.5.0",
      "model_name": "ButtonStyleModel",
      "state": {}
     },
     "60cacd18146f4407b2b79d99ad676f40": {
      "model_module": "@jupyter-widgets/controls",
      "model_module_version": "1.5.0",
      "model_name": "ProgressStyleModel",
      "state": {
       "description_width": ""
      }
     },
     "611820577dc440d9b48b1bf3eab9ef3e": {
      "model_module": "@jupyter-widgets/controls",
      "model_module_version": "1.5.0",
      "model_name": "DescriptionStyleModel",
      "state": {
       "description_width": ""
      }
     },
     "611c0761dc2b4cb5b3071bf19fd9f362": {
      "model_module": "@jupyter-widgets/controls",
      "model_module_version": "1.5.0",
      "model_name": "DescriptionStyleModel",
      "state": {
       "description_width": ""
      }
     },
     "61610cf274f94186bc5efa753a608fad": {
      "model_module": "@jupyter-widgets/controls",
      "model_module_version": "1.5.0",
      "model_name": "ButtonModel",
      "state": {
       "description": "EDIT",
       "layout": "IPY_MODEL_1a4f093c78814c228a25b531e204cb4f",
       "style": "IPY_MODEL_75b13595535e4ac6a406d7f19a8f459d"
      }
     },
     "6165b61af3a34ee7af5b9d4f63398cb1": {
      "model_module": "@jupyter-widgets/controls",
      "model_module_version": "1.5.0",
      "model_name": "ProgressStyleModel",
      "state": {
       "description_width": ""
      }
     },
     "6183b262d37d4b75834ac145180af301": {
      "model_module": "@jupyter-widgets/controls",
      "model_module_version": "1.5.0",
      "model_name": "DescriptionStyleModel",
      "state": {
       "description_width": ""
      }
     },
     "618c049e51e7462795ff8e480c4b6fe7": {
      "model_module": "@jupyter-widgets/controls",
      "model_module_version": "1.5.0",
      "model_name": "DescriptionStyleModel",
      "state": {
       "description_width": ""
      }
     },
     "619e12992f0e47e8951cd1746ad407ef": {
      "model_module": "@jupyter-widgets/controls",
      "model_module_version": "1.5.0",
      "model_name": "ButtonModel",
      "state": {
       "layout": "IPY_MODEL_1f993b4874dc4e3991589ac58a743d13",
       "style": "IPY_MODEL_94a1c4232d364306b11c849dcbfc2730"
      }
     },
     "61a3063b37e843dea72de01dd03ad21b": {
      "model_module": "@jupyter-widgets/controls",
      "model_module_version": "1.5.0",
      "model_name": "ButtonStyleModel",
      "state": {}
     },
     "61db89d600e94509b180e6daed4176e0": {
      "model_module": "@jupyter-widgets/controls",
      "model_module_version": "1.5.0",
      "model_name": "DescriptionStyleModel",
      "state": {
       "description_width": ""
      }
     },
     "61df311dc76d414eb8b0dc1c5184c213": {
      "model_module": "@jupyter-widgets/base",
      "model_module_version": "1.2.0",
      "model_name": "LayoutModel",
      "state": {
       "width": "60px"
      }
     },
     "61e154433b80405e9e672198d47ee6b4": {
      "model_module": "@jupyter-widgets/controls",
      "model_module_version": "1.5.0",
      "model_name": "DescriptionStyleModel",
      "state": {
       "description_width": ""
      }
     },
     "62bba45b452744058fc45732b2d5563a": {
      "model_module": "@jupyter-widgets/controls",
      "model_module_version": "1.5.0",
      "model_name": "ButtonStyleModel",
      "state": {}
     },
     "62dd2ad75bc3486c8c3b96d5addc9ac3": {
      "model_module": "@jupyter-widgets/controls",
      "model_module_version": "1.5.0",
      "model_name": "ProgressStyleModel",
      "state": {
       "description_width": ""
      }
     },
     "62f78b2be9ab4f598fd6a1836974696d": {
      "model_module": "@jupyter-widgets/base",
      "model_module_version": "1.2.0",
      "model_name": "LayoutModel",
      "state": {
       "order": "-1",
       "overflow": "visible",
       "padding": "1px",
       "width": "0px"
      }
     },
     "631426e56c4c448fa811a8da4376defb": {
      "model_module": "@jupyter-widgets/controls",
      "model_module_version": "1.5.0",
      "model_name": "LabelModel",
      "state": {
       "layout": "IPY_MODEL_7181d0913a544e429717dc080f5ba0d5",
       "style": "IPY_MODEL_4a87f9feaa8b4b73a4c280fd21601792",
       "value": "   objective"
      }
     },
     "63220aeee56c43dbb0ba40de02dc4863": {
      "model_module": "@jupyter-widgets/base",
      "model_module_version": "1.2.0",
      "model_name": "LayoutModel",
      "state": {
       "width": "60px"
      }
     },
     "633ade34b18b44569aa4f46e2ce5882d": {
      "model_module": "@jupyter-widgets/controls",
      "model_module_version": "1.5.0",
      "model_name": "ButtonStyleModel",
      "state": {}
     },
     "6341b9d3054648df9ad53672b952cbd0": {
      "model_module": "@jupyter-widgets/controls",
      "model_module_version": "1.5.0",
      "model_name": "ButtonStyleModel",
      "state": {}
     },
     "634d59558bf14f0092a34cf6ab097f7e": {
      "model_module": "@jupyter-widgets/base",
      "model_module_version": "1.2.0",
      "model_name": "LayoutModel",
      "state": {
       "height": "32px",
       "order": "-2",
       "width": "32px"
      }
     },
     "636a3cff22e24687b3f0c0af11dd85d3": {
      "model_module": "@jupyter-widgets/controls",
      "model_module_version": "1.5.0",
      "model_name": "DescriptionStyleModel",
      "state": {
       "description_width": ""
      }
     },
     "639424b286124a22b86439cdd10d02c0": {
      "model_module": "@jupyter-widgets/base",
      "model_module_version": "1.2.0",
      "model_name": "LayoutModel",
      "state": {
       "height": "32px",
       "order": "-2",
       "width": "32px"
      }
     },
     "6395e9430bb240eca1d9cd39a90d7a75": {
      "model_module": "@jupyter-widgets/base",
      "model_module_version": "1.2.0",
      "model_name": "LayoutModel",
      "state": {
       "height": "32px",
       "overflow": "visible",
       "width": "100%"
      }
     },
     "63b556d7dfbb45a284238bc020454a3a": {
      "model_module": "@jupyter-widgets/controls",
      "model_module_version": "1.5.0",
      "model_name": "DescriptionStyleModel",
      "state": {
       "description_width": ""
      }
     },
     "63c295a732bf49e9baa312db2545e358": {
      "model_module": "@jupyter-widgets/base",
      "model_module_version": "1.2.0",
      "model_name": "LayoutModel",
      "state": {
       "order": "-1",
       "overflow": "visible",
       "padding": "1px",
       "width": "0px"
      }
     },
     "63dbbb1ab876496fb1ada251bbe03944": {
      "model_module": "@jupyter-widgets/controls",
      "model_module_version": "1.5.0",
      "model_name": "ButtonModel",
      "state": {
       "description": "EDIT",
       "layout": "IPY_MODEL_29c3105f0f46413d8bb6eacc97bb16b7",
       "style": "IPY_MODEL_c1e6adb63b164f579965bd16200531a9"
      }
     },
     "641a08b152b044ffb0668bf99e573e23": {
      "model_module": "@jupyter-widgets/base",
      "model_module_version": "1.2.0",
      "model_name": "LayoutModel",
      "state": {
       "justify_items": "flex-end",
       "padding": "5px",
       "width": "200px"
      }
     },
     "64244e88dbdb4af7be9e99f0198b98e4": {
      "model_module": "@jupyter-widgets/controls",
      "model_module_version": "1.5.0",
      "model_name": "LabelModel",
      "state": {
       "layout": "IPY_MODEL_db7421a832884387a03ee423c3158e6d",
       "style": "IPY_MODEL_874e92512b5845bfaca010f0a723e9e7",
       "value": "   objective"
      }
     },
     "643aa89f14dc48bf8c0cde72ac6b77a0": {
      "model_module": "@jupyter-widgets/base",
      "model_module_version": "1.2.0",
      "model_name": "LayoutModel",
      "state": {
       "height": "32px",
       "order": "-2",
       "width": "32px"
      }
     },
     "6486aa8525f14efb92da07c61a245b37": {
      "model_module": "@jupyter-widgets/controls",
      "model_module_version": "1.5.0",
      "model_name": "ButtonModel",
      "state": {
       "layout": "IPY_MODEL_a300252116cf4acdaff4348beaa71dbf",
       "style": "IPY_MODEL_b1bcb5d23b6d42c6a206d44f6541280a"
      }
     },
     "6496a9ee208c4ee3975e6554636146d2": {
      "model_module": "@jupyter-widgets/controls",
      "model_module_version": "1.5.0",
      "model_name": "ProgressStyleModel",
      "state": {
       "description_width": ""
      }
     },
     "64976a986f634267a9f13617518848bb": {
      "model_module": "@jupyter-widgets/controls",
      "model_module_version": "1.5.0",
      "model_name": "LabelModel",
      "state": {
       "layout": "IPY_MODEL_63c295a732bf49e9baa312db2545e358",
       "style": "IPY_MODEL_4d9f7aefe87744b5b76b8e149305b8a1",
       "value": "   objective"
      }
     },
     "64dfc8bc1a0d419cad7de40122f21717": {
      "model_module": "@jupyter-widgets/base",
      "model_module_version": "1.2.0",
      "model_name": "LayoutModel",
      "state": {
       "height": "32px",
       "overflow": "visible",
       "width": "100%"
      }
     },
     "64e2f02797d940db92da62ed281247e8": {
      "model_module": "@jupyter-widgets/controls",
      "model_module_version": "1.5.0",
      "model_name": "DescriptionStyleModel",
      "state": {
       "description_width": ""
      }
     },
     "6503c30abfdd48eda0db567b73b3fed7": {
      "model_module": "@jupyter-widgets/controls",
      "model_module_version": "1.5.0",
      "model_name": "ButtonModel",
      "state": {
       "description": "EDIT",
       "layout": "IPY_MODEL_30d6f1733d6d4e5ebf4948ddcc320940",
       "style": "IPY_MODEL_8c6d491b69184864826bad66462645f3"
      }
     },
     "65374e9357fa46e2b5f25cd2d845d21b": {
      "model_module": "@jupyter-widgets/controls",
      "model_module_version": "1.5.0",
      "model_name": "DescriptionStyleModel",
      "state": {
       "description_width": ""
      }
     },
     "65503676f2d8473da2e4b9b6cfc6fa6a": {
      "model_module": "@jupyter-widgets/base",
      "model_module_version": "1.2.0",
      "model_name": "LayoutModel",
      "state": {
       "width": "60px"
      }
     },
     "656f88c4c39d433397c07a03c00a3959": {
      "model_module": "@jupyter-widgets/controls",
      "model_module_version": "1.5.0",
      "model_name": "IntProgressModel",
      "state": {
       "layout": "IPY_MODEL_83ac6b6bdc25405faba2213933674997",
       "style": "IPY_MODEL_c656711c2dce4976bb92536412353a37",
       "value": 30
      }
     },
     "657342e2e6f54971bb6b98455a4c7ed1": {
      "model_module": "@jupyter-widgets/base",
      "model_module_version": "1.2.0",
      "model_name": "LayoutModel",
      "state": {
       "order": "-1",
       "overflow": "visible",
       "padding": "1px",
       "width": "0px"
      }
     },
     "6599ccb5cde34d00880213c0d9dd6126": {
      "model_module": "@jupyter-widgets/controls",
      "model_module_version": "1.5.0",
      "model_name": "ButtonStyleModel",
      "state": {}
     },
     "65be1d620c3d4e0d92c334e4d6eb8b40": {
      "model_module": "@jupyter-widgets/controls",
      "model_module_version": "1.5.0",
      "model_name": "TextModel",
      "state": {
       "description": "Code:",
       "layout": "IPY_MODEL_71965ab2d5f243c7b57f143f5a337c28",
       "style": "IPY_MODEL_39aae47a3d24425d94978b908cde129b",
       "value": "3056cc7e04b75480d5bb724c53ba7dd6"
      }
     },
     "65fcc13fa642430eb391b0da488b43b5": {
      "model_module": "@jupyter-widgets/controls",
      "model_module_version": "1.5.0",
      "model_name": "DescriptionStyleModel",
      "state": {
       "description_width": ""
      }
     },
     "661537bda91e470c973c9e3981bb8e5a": {
      "model_module": "@jupyter-widgets/base",
      "model_module_version": "1.2.0",
      "model_name": "LayoutModel",
      "state": {
       "order": "-1",
       "overflow": "visible",
       "padding": "1px",
       "width": "0px"
      }
     },
     "662b5249da30422d8336e6999bf34d5e": {
      "model_module": "@jupyter-widgets/controls",
      "model_module_version": "1.5.0",
      "model_name": "ButtonStyleModel",
      "state": {}
     },
     "664f5db351584cce9e83cdf8cf34addc": {
      "model_module": "@jupyter-widgets/base",
      "model_module_version": "1.2.0",
      "model_name": "LayoutModel",
      "state": {
       "height": "32px",
       "overflow": "visible",
       "width": "100%"
      }
     },
     "6676d117c5034274a69cfbbab528b31f": {
      "model_module": "@jupyter-widgets/controls",
      "model_module_version": "1.5.0",
      "model_name": "ButtonModel",
      "state": {
       "layout": "IPY_MODEL_78bd0d8b47274796b020fead0f71dffa",
       "style": "IPY_MODEL_ce39ddeae82a44e68ada5c5b8af08b0d"
      }
     },
     "67142de1ef42442fb9e86ad0e345d5dd": {
      "model_module": "@jupyter-widgets/controls",
      "model_module_version": "1.5.0",
      "model_name": "ButtonStyleModel",
      "state": {}
     },
     "672fc5fa81524baa8b66ca97e45fa4ec": {
      "model_module": "@jupyter-widgets/controls",
      "model_module_version": "1.5.0",
      "model_name": "ButtonStyleModel",
      "state": {}
     },
     "6757de04859d4a09b17f8bfbd8329603": {
      "model_module": "@jupyter-widgets/controls",
      "model_module_version": "1.5.0",
      "model_name": "HTMLModel",
      "state": {
       "layout": "IPY_MODEL_40375768133d4faa89f48e63df5d7e11",
       "style": "IPY_MODEL_86aaec6888494210b5ad689681301e1e",
       "value": "<font size=\"1\">Triumphs/Destinations/Minor/The Haul</font size=>"
      }
     },
     "67b2657a091b4fcc9d75b18bed4076e2": {
      "model_module": "@jupyter-widgets/controls",
      "model_module_version": "1.5.0",
      "model_name": "ButtonModel",
      "state": {
       "layout": "IPY_MODEL_e9b611a289de422992fb43baed976aa7",
       "style": "IPY_MODEL_412d6590feb444249095293d076df9be"
      }
     },
     "67f4377a910d4296a7a1bb0b9b8711a7": {
      "model_module": "@jupyter-widgets/controls",
      "model_module_version": "1.5.0",
      "model_name": "ProgressStyleModel",
      "state": {
       "description_width": ""
      }
     },
     "68e53c6888524e9bbfa9f445652f7906": {
      "model_module": "@jupyter-widgets/controls",
      "model_module_version": "1.5.0",
      "model_name": "HBoxModel",
      "state": {
       "children": [
        "IPY_MODEL_6e8d7046a6524377af92cef349b068bb",
        "IPY_MODEL_356c36be735e433f930280f8649795cb",
        "IPY_MODEL_ff8b41b831414ff8b235b5af32f204ef",
        "IPY_MODEL_2f8b7c64bf534509b19c36e19e2f1399"
       ],
       "layout": "IPY_MODEL_4d15d998f3aa4ab5839906b4d210ada7"
      }
     },
     "6906b42c61364cf39f6d0a6679db5f47": {
      "model_module": "@jupyter-widgets/controls",
      "model_module_version": "1.5.0",
      "model_name": "ButtonModel",
      "state": {
       "description": "EDIT",
       "layout": "IPY_MODEL_c3f37fe4c67c470e8805ca5f2685b35f",
       "style": "IPY_MODEL_9b7189406d024d72992ed0ca38b66d99"
      }
     },
     "691021ba4f46495d87a9803e37941dd0": {
      "model_module": "@jupyter-widgets/controls",
      "model_module_version": "1.5.0",
      "model_name": "DescriptionStyleModel",
      "state": {
       "description_width": ""
      }
     },
     "691f43c3bac6486abb274e5f72d4e755": {
      "model_module": "@jupyter-widgets/base",
      "model_module_version": "1.2.0",
      "model_name": "LayoutModel",
      "state": {
       "width": "60px"
      }
     },
     "69692a1362e54ea781c9e7892f172e85": {
      "model_module": "@jupyter-widgets/controls",
      "model_module_version": "1.5.0",
      "model_name": "HTMLModel",
      "state": {
       "layout": "IPY_MODEL_74a0ef3407574c138fe5831a88f943f9",
       "style": "IPY_MODEL_4b5e80e27e034a70afdedea543516f1f",
       "value": "<font size=\"5\"><b>Budding Fashion</b></font size=>"
      }
     },
     "696bbee12a70410aae25cad385f377d6": {
      "model_module": "@jupyter-widgets/base",
      "model_module_version": "1.2.0",
      "model_name": "LayoutModel",
      "state": {
       "height": "32px",
       "order": "-2",
       "width": "32px"
      }
     },
     "699b08eecd3e4b62a7faa4405375c3eb": {
      "model_module": "@jupyter-widgets/controls",
      "model_module_version": "1.5.0",
      "model_name": "ButtonModel",
      "state": {
       "description": "EDIT",
       "layout": "IPY_MODEL_86f11a2afb1946cb9d468c7e5db81a53",
       "style": "IPY_MODEL_196b03aa683a4432b0bd44d9b493d6e6"
      }
     },
     "69dc122d5b014f22a29bf8438a1cc16e": {
      "model_module": "@jupyter-widgets/controls",
      "model_module_version": "1.5.0",
      "model_name": "DropdownModel",
      "state": {
       "_options_labels": [
        "Any"
       ],
       "index": 0,
       "layout": "IPY_MODEL_a2e339e1cc0245c895eb6b18b242ffff",
       "style": "IPY_MODEL_07f5f327f6c049b38b544deaf4504662"
      }
     },
     "69fb17afd77c431590269097b6041710": {
      "model_module": "@jupyter-widgets/controls",
      "model_module_version": "1.5.0",
      "model_name": "ButtonModel",
      "state": {
       "layout": "IPY_MODEL_adc238859aee4978a0b5f657e6395f19",
       "style": "IPY_MODEL_633ade34b18b44569aa4f46e2ce5882d"
      }
     },
     "6a1c81e4e89f4442aa5315d22a959a30": {
      "model_module": "@jupyter-widgets/controls",
      "model_module_version": "1.5.0",
      "model_name": "DescriptionStyleModel",
      "state": {
       "description_width": ""
      }
     },
     "6a43f096fc604673b94f41862a3d3554": {
      "model_module": "@jupyter-widgets/controls",
      "model_module_version": "1.5.0",
      "model_name": "DescriptionStyleModel",
      "state": {
       "description_width": ""
      }
     },
     "6a875bdb9c1449ae9cd55837f4e21b7f": {
      "model_module": "@jupyter-widgets/controls",
      "model_module_version": "1.5.0",
      "model_name": "ButtonStyleModel",
      "state": {}
     },
     "6af03aa00e4548eca73125ee74dc21dc": {
      "model_module": "@jupyter-widgets/base",
      "model_module_version": "1.2.0",
      "model_name": "LayoutModel",
      "state": {}
     },
     "6afacbbcb4214a4abd32b9392380060c": {
      "model_module": "@jupyter-widgets/base",
      "model_module_version": "1.2.0",
      "model_name": "LayoutModel",
      "state": {
       "width": "60px"
      }
     },
     "6b0dc1064e8c40b8899ab1f96422b251": {
      "model_module": "@jupyter-widgets/controls",
      "model_module_version": "1.5.0",
      "model_name": "ButtonModel",
      "state": {
       "layout": "IPY_MODEL_76accd0309ef4db991f0d3269264e6e0",
       "style": "IPY_MODEL_9d0a4994843f4e2e92212d7638038f68"
      }
     },
     "6bad4b7086cc4dd6a6a03cc58f4ef350": {
      "model_module": "@jupyter-widgets/base",
      "model_module_version": "1.2.0",
      "model_name": "LayoutModel",
      "state": {
       "width": "60px"
      }
     },
     "6bdfdac7ee9d49fbbf6f66a95366021b": {
      "model_module": "@jupyter-widgets/controls",
      "model_module_version": "1.5.0",
      "model_name": "ProgressStyleModel",
      "state": {
       "description_width": ""
      }
     },
     "6be06d121c754453891af437b6af5dc0": {
      "model_module": "@jupyter-widgets/controls",
      "model_module_version": "1.5.0",
      "model_name": "HBoxModel",
      "state": {
       "children": [
        "IPY_MODEL_0513c11c14444dfba62ae11aa42289b4",
        "IPY_MODEL_536997a28b15479198799264af06b432",
        "IPY_MODEL_7792fb92fbde487ab154ac1b783632cb",
        "IPY_MODEL_4156ab430e2f4a8dbab7311fe01e078a"
       ],
       "layout": "IPY_MODEL_d294f5aab7c44d809594780fc0da8ed4"
      }
     },
     "6bf9718bc2024efd8a1915c77f47f139": {
      "model_module": "@jupyter-widgets/base",
      "model_module_version": "1.2.0",
      "model_name": "LayoutModel",
      "state": {}
     },
     "6bfd35f257d840c3b7850adc9fc260cf": {
      "model_module": "@jupyter-widgets/controls",
      "model_module_version": "1.5.0",
      "model_name": "VBoxModel",
      "state": {
       "children": [
        "IPY_MODEL_f85c1d20244147eab0ebfbe10cc60490",
        "IPY_MODEL_6ff1b067e257448cb98735d4fadcf853",
        "IPY_MODEL_a8e8fe12eacd45f7a3a271b548e38fb9",
        "IPY_MODEL_02b12a83e531445cb2bd9f19c0171ee6",
        "IPY_MODEL_7288fa3194364579a7fad45dc3345fbb",
        "IPY_MODEL_c1978d20248d440c95edfc8d8c20d12b",
        "IPY_MODEL_2ec3342195344967a11bc4376809903f",
        "IPY_MODEL_96fd6c6dec5d4e3bb71596e13a29d04d",
        "IPY_MODEL_848e9caa12c44fe69b0239f9c04341ec",
        "IPY_MODEL_537112cf9ce242e88a0f5296aea30318",
        "IPY_MODEL_0dd5fc58da8e49a799fb9733326bc5cd"
       ],
       "layout": "IPY_MODEL_0e077386dd51497c93a9960b6d65b522"
      }
     },
     "6cb79ce5302947e3bc8f255e0509dc9a": {
      "model_module": "@jupyter-widgets/controls",
      "model_module_version": "1.5.0",
      "model_name": "LabelModel",
      "state": {
       "layout": "IPY_MODEL_38545b90a2b64b969f9c8850306bb67d",
       "style": "IPY_MODEL_b511c5533d9a47ca81f0e218215d1f7c",
       "value": "     (0/1)"
      }
     },
     "6cf67d88115c4c3ebf902b478f914743": {
      "model_module": "@jupyter-widgets/controls",
      "model_module_version": "1.5.0",
      "model_name": "VBoxModel",
      "state": {
       "children": [
        "IPY_MODEL_c5684fc69d574265992c328b15c7267b",
        "IPY_MODEL_2bc76e5da816478b80cd70273069ce8d",
        "IPY_MODEL_afbc59719cee4743be2465de06c349e9",
        "IPY_MODEL_cf4488030d3643be81afe24d3077bca4",
        "IPY_MODEL_50fe9bba0617414480cabe580f88c225",
        "IPY_MODEL_eb341a135b234c859b42b9ad20daeb10"
       ],
       "layout": "IPY_MODEL_a5181d3f39a74bf0b1d23006998a020c"
      }
     },
     "6d0165e7b60c4fc3bd7b421469905a93": {
      "model_module": "@jupyter-widgets/controls",
      "model_module_version": "1.5.0",
      "model_name": "ButtonStyleModel",
      "state": {}
     },
     "6d152c399cdf4bb9abc585ec2faa358f": {
      "model_module": "@jupyter-widgets/controls",
      "model_module_version": "1.5.0",
      "model_name": "ButtonStyleModel",
      "state": {}
     },
     "6d86c0d718c342a290888c8b84e92529": {
      "model_module": "@jupyter-widgets/controls",
      "model_module_version": "1.5.0",
      "model_name": "ButtonModel",
      "state": {
       "description": "EDIT",
       "layout": "IPY_MODEL_d76e73eedc514842b0429e245695ad83",
       "style": "IPY_MODEL_db96091ea682408bab227c1ca6e2695b"
      }
     },
     "6dd00d91e07147638b3dd9550bee6b0c": {
      "model_module": "@jupyter-widgets/base",
      "model_module_version": "1.2.0",
      "model_name": "LayoutModel",
      "state": {}
     },
     "6e08b7f2a9b745028cc4b27ea61b81fd": {
      "model_module": "@jupyter-widgets/controls",
      "model_module_version": "1.5.0",
      "model_name": "ButtonModel",
      "state": {
       "description": "EDIT",
       "layout": "IPY_MODEL_f40e189627124c64a72eb4c79e06fdab",
       "style": "IPY_MODEL_867469365bbe40aa81fd89a1f4d777ed"
      }
     },
     "6e11c232cd204475817f4ce12fb1cdc3": {
      "model_module": "@jupyter-widgets/base",
      "model_module_version": "1.2.0",
      "model_name": "LayoutModel",
      "state": {}
     },
     "6e4447f0bdb746f3a94e9a50745a81e0": {
      "model_module": "@jupyter-widgets/controls",
      "model_module_version": "1.5.0",
      "model_name": "ButtonStyleModel",
      "state": {}
     },
     "6e5e9f3250d34fdbb5bed604e8addb33": {
      "model_module": "@jupyter-widgets/controls",
      "model_module_version": "1.5.0",
      "model_name": "ProgressStyleModel",
      "state": {
       "description_width": ""
      }
     },
     "6e89672b52e64257bd7d22e870092b93": {
      "model_module": "@jupyter-widgets/base",
      "model_module_version": "1.2.0",
      "model_name": "LayoutModel",
      "state": {
       "border": "3px solid white",
       "display": "flex",
       "flex": "1 1 0%",
       "margin": "10px",
       "min_width": "400px",
       "overflow": "visible",
       "padding": "10px",
       "width": "auto"
      }
     },
     "6e8d7046a6524377af92cef349b068bb": {
      "model_module": "@jupyter-widgets/controls",
      "model_module_version": "1.5.0",
      "model_name": "ButtonModel",
      "state": {
       "layout": "IPY_MODEL_4899f0a72d284f14b9601127d643e327",
       "style": "IPY_MODEL_105d924a06e4481398980ba6921cce4b"
      }
     },
     "6ee2970b1f714af3bed1f87deb29ed25": {
      "model_module": "@jupyter-widgets/controls",
      "model_module_version": "1.5.0",
      "model_name": "ButtonModel",
      "state": {
       "description": "EDIT",
       "layout": "IPY_MODEL_519b7fec82e04f33b6e67bff0ba3e3a2",
       "style": "IPY_MODEL_e430fd3b5eca496b8797a8a17b77451e"
      }
     },
     "6ee3a9f45d004f1997b2d15f82923be4": {
      "model_module": "@jupyter-widgets/base",
      "model_module_version": "1.2.0",
      "model_name": "LayoutModel",
      "state": {
       "display": "flex",
       "flex_flow": "row wrap"
      }
     },
     "6f16f38393534b218765a85804db0464": {
      "model_module": "@jupyter-widgets/controls",
      "model_module_version": "1.5.0",
      "model_name": "DescriptionStyleModel",
      "state": {
       "description_width": ""
      }
     },
     "6f22ed99beb34a108eaf3fa47a0676c3": {
      "model_module": "@jupyter-widgets/controls",
      "model_module_version": "1.5.0",
      "model_name": "HBoxModel",
      "state": {
       "children": [
        "IPY_MODEL_6486aa8525f14efb92da07c61a245b37",
        "IPY_MODEL_cdfe622b18d040659a35202937d42eb8",
        "IPY_MODEL_08897eb8a0d54f4e9e2110c94c831b1a",
        "IPY_MODEL_88139556b4544d17a552f8dc7c2c895d"
       ],
       "layout": "IPY_MODEL_f628663b9ab74e649ad7e1d397cfd33b"
      }
     },
     "6f32236c0ff34cac991fb1b47e2ea350": {
      "model_module": "@jupyter-widgets/controls",
      "model_module_version": "1.5.0",
      "model_name": "ProgressStyleModel",
      "state": {
       "description_width": ""
      }
     },
     "6f40491254b54d3ca2b7dbb95c094e41": {
      "model_module": "@jupyter-widgets/base",
      "model_module_version": "1.2.0",
      "model_name": "LayoutModel",
      "state": {
       "height": "32px",
       "overflow": "visible",
       "width": "100%"
      }
     },
     "6f48a1dcb6a44d9d9c5535c447e7ae11": {
      "model_module": "@jupyter-widgets/controls",
      "model_module_version": "1.5.0",
      "model_name": "HBoxModel",
      "state": {
       "children": [
        "IPY_MODEL_97e822bc862349eabecb72b9fc44d95c",
        "IPY_MODEL_8b65fdd9c4cc4d0faa07f6fe5da668b9",
        "IPY_MODEL_16b8e192daa34f72a32cc9bef1cab99b",
        "IPY_MODEL_6e08b7f2a9b745028cc4b27ea61b81fd"
       ],
       "layout": "IPY_MODEL_cfdfbc7a39d947dc89f4e4bce75ff711"
      }
     },
     "6f5ad3f08a104e299542c207e9e91aa0": {
      "model_module": "@jupyter-widgets/base",
      "model_module_version": "1.2.0",
      "model_name": "LayoutModel",
      "state": {
       "order": "-1",
       "overflow": "visible",
       "padding": "1px",
       "width": "0px"
      }
     },
     "6f5dab00242a40c69d366e9950e097d3": {
      "model_module": "@jupyter-widgets/controls",
      "model_module_version": "1.5.0",
      "model_name": "DescriptionStyleModel",
      "state": {
       "description_width": ""
      }
     },
     "6f7799c720244a54811673b5489bd36a": {
      "model_module": "@jupyter-widgets/controls",
      "model_module_version": "1.5.0",
      "model_name": "DescriptionStyleModel",
      "state": {
       "description_width": ""
      }
     },
     "6fc3afd7f7e24a9db0df25e604f86102": {
      "model_module": "@jupyter-widgets/controls",
      "model_module_version": "1.5.0",
      "model_name": "ButtonStyleModel",
      "state": {}
     },
     "6fe9eaec3eac4d2bb00cb18da47c6a8b": {
      "model_module": "@jupyter-widgets/controls",
      "model_module_version": "1.5.0",
      "model_name": "ButtonStyleModel",
      "state": {}
     },
     "6feda9657e45422abb036d8bc12e3f8f": {
      "model_module": "@jupyter-widgets/base",
      "model_module_version": "1.2.0",
      "model_name": "LayoutModel",
      "state": {
       "display": "flex"
      }
     },
     "6ff1b067e257448cb98735d4fadcf853": {
      "model_module": "@jupyter-widgets/controls",
      "model_module_version": "1.5.0",
      "model_name": "LabelModel",
      "state": {
       "layout": "IPY_MODEL_7fe8b9133b634affbc6aff028f803f82",
       "style": "IPY_MODEL_09c50dc3dc6a4abcb0d77b59c29b4875",
       "value": "Kinetic Weapon:"
      }
     },
     "70690f680870443f8aaf016188e98413": {
      "model_module": "@jupyter-widgets/controls",
      "model_module_version": "1.5.0",
      "model_name": "IntProgressModel",
      "state": {
       "layout": "IPY_MODEL_9304337a27164016baecc36bda354c61",
       "style": "IPY_MODEL_caa732c0f99246fd8331f31aac8ad895",
       "value": 30
      }
     },
     "7084ba36f65143528c9283b849121473": {
      "model_module": "@jupyter-widgets/controls",
      "model_module_version": "1.5.0",
      "model_name": "ButtonModel",
      "state": {
       "layout": "IPY_MODEL_e7bb0eb6f3ab49fa85636c717b163f0e",
       "style": "IPY_MODEL_8c10ecdfd46940709b0e778cabe13e86"
      }
     },
     "709ccad41ff24887a601b944a4696ed0": {
      "model_module": "@jupyter-widgets/base",
      "model_module_version": "1.2.0",
      "model_name": "LayoutModel",
      "state": {}
     },
     "70a880e717ae4f2cb3188c7b301d40cb": {
      "model_module": "@jupyter-widgets/controls",
      "model_module_version": "1.5.0",
      "model_name": "VBoxModel",
      "state": {
       "children": [
        "IPY_MODEL_fc7fa94ef3ae40228474459aabd09402",
        "IPY_MODEL_10ea3de08851477c88e552554fb55708",
        "IPY_MODEL_e8ca953d1b9c480d82ef22956216e60a",
        "IPY_MODEL_bc27dcf36add4cb2a8702e48ede88fdd"
       ],
       "layout": "IPY_MODEL_f325ea9f714d4146a5912626de543f51"
      }
     },
     "70b14c5b439641de8054dc84b301597e": {
      "model_module": "@jupyter-widgets/controls",
      "model_module_version": "1.5.0",
      "model_name": "HTMLModel",
      "state": {
       "layout": "IPY_MODEL_5d9ac0a7afec44a3bb9a565fd67312bb",
       "style": "IPY_MODEL_5f241f525d854425be35ad2bba480bf4",
       "value": "<font size=\"1\">Triumphs/Account/Character/Titan</font size=>"
      }
     },
     "711ebe19521b4e3cb8fd7b107621f3e1": {
      "model_module": "@jupyter-widgets/controls",
      "model_module_version": "1.5.0",
      "model_name": "LabelModel",
      "state": {
       "layout": "IPY_MODEL_32085430e7b94f71aac49528f3a40303",
       "style": "IPY_MODEL_3c6730e9e6f641f8b967e6e6fa798c1d",
       "value": "   objective"
      }
     },
     "71213ef76df740e39c55dd4f93a7b408": {
      "model_module": "@jupyter-widgets/base",
      "model_module_version": "1.2.0",
      "model_name": "LayoutModel",
      "state": {
       "border": "3px solid white",
       "display": "flex",
       "flex": "1 1 0%",
       "margin": "10px",
       "min_width": "400px",
       "overflow": "visible",
       "padding": "10px",
       "width": "auto"
      }
     },
     "716d6c390f4146739448fb57d09d2ff4": {
      "model_module": "@jupyter-widgets/controls",
      "model_module_version": "1.5.0",
      "model_name": "ButtonStyleModel",
      "state": {}
     },
     "7181d0913a544e429717dc080f5ba0d5": {
      "model_module": "@jupyter-widgets/base",
      "model_module_version": "1.2.0",
      "model_name": "LayoutModel",
      "state": {
       "order": "-1",
       "overflow": "visible",
       "padding": "1px",
       "width": "0px"
      }
     },
     "718ec77d32ad480cb7c8d9d6cb858296": {
      "model_module": "@jupyter-widgets/base",
      "model_module_version": "1.2.0",
      "model_name": "LayoutModel",
      "state": {
       "display": "none"
      }
     },
     "71965ab2d5f243c7b57f143f5a337c28": {
      "model_module": "@jupyter-widgets/base",
      "model_module_version": "1.2.0",
      "model_name": "LayoutModel",
      "state": {}
     },
     "725a7d19b2914f7e8a3563c7b6bbef91": {
      "model_module": "@jupyter-widgets/base",
      "model_module_version": "1.2.0",
      "model_name": "LayoutModel",
      "state": {
       "order": "-1",
       "overflow": "visible",
       "padding": "1px",
       "width": "0px"
      }
     },
     "7288fa3194364579a7fad45dc3345fbb": {
      "model_module": "@jupyter-widgets/controls",
      "model_module_version": "1.5.0",
      "model_name": "DropdownModel",
      "state": {
       "_options_labels": [
        "Any",
        "Hand Cannon",
        "Auto Rifle",
        "Scout Rifle",
        "Pulse Rifle",
        "Sidearm",
        "Submachine Gun",
        "Combt Bow",
        "Sniper Rifle",
        "Shotgun",
        "Fusion Rifle",
        "Grenade Launcher"
       ],
       "index": 0,
       "layout": "IPY_MODEL_a2e339e1cc0245c895eb6b18b242ffff",
       "style": "IPY_MODEL_8d8bfc86709840f6af2e5f4a96c2ea14"
      }
     },
     "728d0ed77b984512a0318ce869296b7d": {
      "model_module": "@jupyter-widgets/base",
      "model_module_version": "1.2.0",
      "model_name": "LayoutModel",
      "state": {
       "height": "32px",
       "overflow": "visible",
       "width": "100%"
      }
     },
     "72c63235240d4f519a0e3e7b149db9b1": {
      "model_module": "@jupyter-widgets/base",
      "model_module_version": "1.2.0",
      "model_name": "LayoutModel",
      "state": {
       "height": "32px",
       "order": "-2",
       "width": "32px"
      }
     },
     "73283c2e90ba48fbad3e9738b1ef1359": {
      "model_module": "@jupyter-widgets/controls",
      "model_module_version": "1.5.0",
      "model_name": "ButtonModel",
      "state": {
       "description": "EDIT",
       "layout": "IPY_MODEL_598c22ce6901410e8e38549e4d3687e9",
       "style": "IPY_MODEL_a9bcbbd054fc40f698f704d77d62d26d"
      }
     },
     "737ac58df6d84d929bfe700232bc54a3": {
      "model_module": "@jupyter-widgets/controls",
      "model_module_version": "1.5.0",
      "model_name": "ButtonStyleModel",
      "state": {}
     },
     "7381cce2e9fc406aae56abd8d3272f61": {
      "model_module": "@jupyter-widgets/controls",
      "model_module_version": "1.5.0",
      "model_name": "HBoxModel",
      "state": {
       "children": [
        "IPY_MODEL_9b14abdd0436484891f6d2965481ecb8",
        "IPY_MODEL_0fd234618bc842379721d11516eebeb4",
        "IPY_MODEL_10e75e8174df4c80b8b5a519135da93e",
        "IPY_MODEL_876fb79598894452851d9337f591e47c"
       ],
       "layout": "IPY_MODEL_3b461ae35660425c8d78e076b6baaf8c"
      }
     },
     "73c760e266184112916552aa0dd852dc": {
      "model_module": "@jupyter-widgets/base",
      "model_module_version": "1.2.0",
      "model_name": "LayoutModel",
      "state": {
       "height": "32px",
       "order": "-2",
       "width": "32px"
      }
     },
     "741796eac89e49d6887ab5f62f19a1b9": {
      "model_module": "@jupyter-widgets/controls",
      "model_module_version": "1.5.0",
      "model_name": "ButtonStyleModel",
      "state": {}
     },
     "74276fa0af7042c49936df2a4e7733d6": {
      "model_module": "@jupyter-widgets/base",
      "model_module_version": "1.2.0",
      "model_name": "LayoutModel",
      "state": {
       "order": "-1",
       "overflow": "visible",
       "padding": "1px",
       "width": "0px"
      }
     },
     "743bbb7a97184898805adf7f5f417efd": {
      "model_module": "@jupyter-widgets/base",
      "model_module_version": "1.2.0",
      "model_name": "LayoutModel",
      "state": {
       "display": "none"
      }
     },
     "744cd08fb825432983128dbffbaf9ae7": {
      "model_module": "@jupyter-widgets/controls",
      "model_module_version": "1.5.0",
      "model_name": "ButtonStyleModel",
      "state": {}
     },
     "74a0ef3407574c138fe5831a88f943f9": {
      "model_module": "@jupyter-widgets/base",
      "model_module_version": "1.2.0",
      "model_name": "LayoutModel",
      "state": {
       "overflow": "visible",
       "width": "100%"
      }
     },
     "7508bea33af149c8831ac2d245cd289c": {
      "model_module": "@jupyter-widgets/controls",
      "model_module_version": "1.5.0",
      "model_name": "HBoxModel",
      "state": {
       "children": [
        "IPY_MODEL_86be2a7d0a0a4c54a82f459bfdab4ec6",
        "IPY_MODEL_ddf0b376c18e4b288403508298bc6325",
        "IPY_MODEL_42870ed1fafd45faa17d63964f24b3f3",
        "IPY_MODEL_1e80dd7d0b6f4184bbc293e6207a4e48"
       ],
       "layout": "IPY_MODEL_d9189af959bd40bd8a2d5538bc947e11"
      }
     },
     "75521234eb9f46deb8a8bb40c7cb605f": {
      "model_module": "@jupyter-widgets/controls",
      "model_module_version": "1.5.0",
      "model_name": "ProgressStyleModel",
      "state": {
       "description_width": ""
      }
     },
     "755ee355a6d64f1a94b9bc755eb67cbb": {
      "model_module": "@jupyter-widgets/base",
      "model_module_version": "1.2.0",
      "model_name": "LayoutModel",
      "state": {
       "height": "32px",
       "overflow": "visible",
       "width": "100%"
      }
     },
     "75a7b3c7203c49e6998c9a77356888b9": {
      "model_module": "@jupyter-widgets/controls",
      "model_module_version": "1.5.0",
      "model_name": "ProgressStyleModel",
      "state": {
       "description_width": ""
      }
     },
     "75b13595535e4ac6a406d7f19a8f459d": {
      "model_module": "@jupyter-widgets/controls",
      "model_module_version": "1.5.0",
      "model_name": "ButtonStyleModel",
      "state": {}
     },
     "75ee68222efc4382ad32e6ff82e59dc9": {
      "model_module": "@jupyter-widgets/base",
      "model_module_version": "1.2.0",
      "model_name": "LayoutModel",
      "state": {
       "order": "-1",
       "overflow": "visible",
       "padding": "1px",
       "width": "0px"
      }
     },
     "7601a124aa014b8586c928b4cb99298b": {
      "model_module": "@jupyter-widgets/controls",
      "model_module_version": "1.5.0",
      "model_name": "ButtonModel",
      "state": {
       "layout": "IPY_MODEL_639424b286124a22b86439cdd10d02c0",
       "style": "IPY_MODEL_6fc3afd7f7e24a9db0df25e604f86102"
      }
     },
     "7606406da2204ac9906ad77a1510fae2": {
      "model_module": "@jupyter-widgets/controls",
      "model_module_version": "1.5.0",
      "model_name": "FloatProgressModel",
      "state": {
       "description": "Loading:",
       "layout": "IPY_MODEL_4084052be092468db72041b95dc36692",
       "max": 6,
       "style": "IPY_MODEL_50c03c6eda074babbb07e997839e6b26",
       "value": 6
      }
     },
     "766b1b5217794fb79862640e32f02019": {
      "model_module": "@jupyter-widgets/controls",
      "model_module_version": "1.5.0",
      "model_name": "HBoxModel",
      "state": {
       "children": [
        "IPY_MODEL_8481b721115c4bb69b39c2409a2cbbe3",
        "IPY_MODEL_166e8522bfc94f979aef41e6da1617c2",
        "IPY_MODEL_cb73572e0e394f12939d571f75aca77e",
        "IPY_MODEL_b4b077902f2f48d094f00a66ad2d32de"
       ],
       "layout": "IPY_MODEL_fafda331a4324f1791dc2e66caae82bc"
      }
     },
     "76877925e26d49528248a6005b8ceaf9": {
      "model_module": "@jupyter-widgets/controls",
      "model_module_version": "1.5.0",
      "model_name": "ButtonStyleModel",
      "state": {}
     },
     "769376cbee914396aa36dc449fc5b268": {
      "model_module": "@jupyter-widgets/controls",
      "model_module_version": "1.5.0",
      "model_name": "IntProgressModel",
      "state": {
       "layout": "IPY_MODEL_5941f68823694c499180e227a648c599",
       "style": "IPY_MODEL_00af66bd49e14b8ea1e1167d88c57c74",
       "value": 30
      }
     },
     "7698de79c35d430caf8e01bb5ba1cd6c": {
      "model_module": "@jupyter-widgets/controls",
      "model_module_version": "1.5.0",
      "model_name": "LabelModel",
      "state": {
       "layout": "IPY_MODEL_1d80df2b71f5485fb969f7a974cd6aa3",
       "style": "IPY_MODEL_a3da10107f7e4a988542ddefab2df5d3",
       "value": "     (0/1)"
      }
     },
     "76accd0309ef4db991f0d3269264e6e0": {
      "model_module": "@jupyter-widgets/base",
      "model_module_version": "1.2.0",
      "model_name": "LayoutModel",
      "state": {
       "height": "32px",
       "order": "-2",
       "width": "32px"
      }
     },
     "76cc384d490449628eaead726d5999ec": {
      "model_module": "@jupyter-widgets/controls",
      "model_module_version": "1.5.0",
      "model_name": "DescriptionStyleModel",
      "state": {
       "description_width": ""
      }
     },
     "76fd5a5d1e35422bb426211e1bde4fcc": {
      "model_module": "@jupyter-widgets/controls",
      "model_module_version": "1.5.0",
      "model_name": "DescriptionStyleModel",
      "state": {
       "description_width": ""
      }
     },
     "771781ed25f444619c03bd8d3bea99a6": {
      "model_module": "@jupyter-widgets/controls",
      "model_module_version": "1.5.0",
      "model_name": "LabelModel",
      "state": {
       "layout": "IPY_MODEL_55d1a8aa802840fb9d4d2760ab70ceaf",
       "style": "IPY_MODEL_fff633a042ab45b18f5dcfab470e25fd",
       "value": "    Bosses defeated (0/20)"
      }
     },
     "774db5e79f434625a1afe85a4e021421": {
      "model_module": "@jupyter-widgets/base",
      "model_module_version": "1.2.0",
      "model_name": "LayoutModel",
      "state": {
       "display": "none"
      }
     },
     "7792fb92fbde487ab154ac1b783632cb": {
      "model_module": "@jupyter-widgets/controls",
      "model_module_version": "1.5.0",
      "model_name": "LabelModel",
      "state": {
       "layout": "IPY_MODEL_2b0a2b55166447dea678cdd50082675d",
       "style": "IPY_MODEL_3e110bfbeab14791968e35ffeadafd3f",
       "value": "    Crucible medals earned (25/25)"
      }
     },
     "77952ec561b542cb9b4433ba04b872d0": {
      "model_module": "@jupyter-widgets/controls",
      "model_module_version": "1.5.0",
      "model_name": "ButtonStyleModel",
      "state": {}
     },
     "779c457dc2ef451f9e6251a0f6448b6c": {
      "model_module": "@jupyter-widgets/controls",
      "model_module_version": "1.5.0",
      "model_name": "HBoxModel",
      "state": {
       "children": [
        "IPY_MODEL_7d553319f91047c7bc8e0a25faabaa39",
        "IPY_MODEL_0295a09057fd4bcb98f15ff60618a4ee",
        "IPY_MODEL_dde53ea236d74524a649f0b372a0b722",
        "IPY_MODEL_f237b0208c1e49b3b8cc12635d43a8d0"
       ],
       "layout": "IPY_MODEL_393cc4e667304b2ca54bdc788c5b8532"
      }
     },
     "77acf8bb85e845dd98f1e47887078c08": {
      "model_module": "@jupyter-widgets/controls",
      "model_module_version": "1.5.0",
      "model_name": "HTMLModel",
      "state": {
       "layout": "IPY_MODEL_dcbd410db1d84d47909eda9c50059849",
       "style": "IPY_MODEL_e8f502e37ab84cbb9cfc60a3db3fe696",
       "value": "<font size=\"1\">Triumphs/Lore/Dusk and Dawn/Revelation</font size=>"
      }
     },
     "77e1b6a20d2a46b39766e274eafb32d8": {
      "model_module": "@jupyter-widgets/controls",
      "model_module_version": "1.5.0",
      "model_name": "IntProgressModel",
      "state": {
       "layout": "IPY_MODEL_eb06d8f3cf9646a79c47a2d6265bf913",
       "style": "IPY_MODEL_5574f4855a0749348f40253f993ef5af",
       "value": 30
      }
     },
     "77f64f5731d045349a221d478da76c17": {
      "model_module": "@jupyter-widgets/controls",
      "model_module_version": "1.5.0",
      "model_name": "DescriptionStyleModel",
      "state": {
       "description_width": ""
      }
     },
     "780d7e7a646743fe98f4405458d9a6d9": {
      "model_module": "@jupyter-widgets/base",
      "model_module_version": "1.2.0",
      "model_name": "LayoutModel",
      "state": {
       "order": "-1",
       "overflow": "visible",
       "padding": "1px",
       "width": "0px"
      }
     },
     "781b5e8257df42c09d3695acc6a840db": {
      "model_module": "@jupyter-widgets/controls",
      "model_module_version": "1.5.0",
      "model_name": "DescriptionStyleModel",
      "state": {
       "description_width": ""
      }
     },
     "785943ac75ab4daaa4e3f4c1294952de": {
      "model_module": "@jupyter-widgets/controls",
      "model_module_version": "1.5.0",
      "model_name": "ButtonStyleModel",
      "state": {}
     },
     "786438605f2e41fc8170bbeafdacb6f6": {
      "model_module": "@jupyter-widgets/controls",
      "model_module_version": "1.5.0",
      "model_name": "DescriptionStyleModel",
      "state": {
       "description_width": ""
      }
     },
     "7872cf3a346d45908c60c840cf2dbd64": {
      "model_module": "@jupyter-widgets/base",
      "model_module_version": "1.2.0",
      "model_name": "LayoutModel",
      "state": {
       "overflow": "visible",
       "width": "100%"
      }
     },
     "787462a3a5304671b5318d1cbbbacda8": {
      "model_module": "@jupyter-widgets/base",
      "model_module_version": "1.2.0",
      "model_name": "LayoutModel",
      "state": {}
     },
     "78bd0d8b47274796b020fead0f71dffa": {
      "model_module": "@jupyter-widgets/base",
      "model_module_version": "1.2.0",
      "model_name": "LayoutModel",
      "state": {
       "height": "32px",
       "order": "-2",
       "width": "32px"
      }
     },
     "78fc4306c9214d8e973402bf4a3dbda7": {
      "model_module": "@jupyter-widgets/controls",
      "model_module_version": "1.5.0",
      "model_name": "LabelModel",
      "state": {
       "layout": "IPY_MODEL_528d3f6dbda9440c911659f3f2673a84",
       "style": "IPY_MODEL_e2c7e682153648969c8dd315e58c655c",
       "value": "   objective"
      }
     },
     "79447e9d86b7436f93de26624917f245": {
      "model_module": "@jupyter-widgets/controls",
      "model_module_version": "1.5.0",
      "model_name": "ButtonStyleModel",
      "state": {}
     },
     "79586d9c0729431cbf26a8e304da42fb": {
      "model_module": "@jupyter-widgets/controls",
      "model_module_version": "1.5.0",
      "model_name": "ButtonStyleModel",
      "state": {}
     },
     "7958e32616f642f5b38c81d0e9997294": {
      "model_module": "@jupyter-widgets/base",
      "model_module_version": "1.2.0",
      "model_name": "LayoutModel",
      "state": {
       "display": "none"
      }
     },
     "79629aba4f054ee4aa22e038c41664a9": {
      "model_module": "@jupyter-widgets/base",
      "model_module_version": "1.2.0",
      "model_name": "LayoutModel",
      "state": {
       "height": "32px",
       "overflow": "visible",
       "width": "100%"
      }
     },
     "7969fa3a51f74a29b182fcb4385bf8c1": {
      "model_module": "@jupyter-widgets/controls",
      "model_module_version": "1.5.0",
      "model_name": "ButtonStyleModel",
      "state": {}
     },
     "79b93c2a2b5546c398594653678a341d": {
      "model_module": "@jupyter-widgets/base",
      "model_module_version": "1.2.0",
      "model_name": "LayoutModel",
      "state": {
       "width": "60px"
      }
     },
     "79b972c5e3ad405fa9c16d193d636df4": {
      "model_module": "@jupyter-widgets/base",
      "model_module_version": "1.2.0",
      "model_name": "LayoutModel",
      "state": {
       "border": "3px solid white",
       "display": "flex",
       "flex": "1 1 0%",
       "margin": "10px",
       "min_width": "400px",
       "overflow": "visible",
       "padding": "10px",
       "width": "auto"
      }
     },
     "79c3c9880afc4dbfb8056841ba36ad13": {
      "model_module": "@jupyter-widgets/controls",
      "model_module_version": "1.5.0",
      "model_name": "ButtonModel",
      "state": {
       "layout": "IPY_MODEL_077bb36a2e1c4a4fbd251e6474f78153",
       "style": "IPY_MODEL_0b9af65399b84dde9f9d91820f62339e"
      }
     },
     "7a1d47237c8444fbb80f79f469ccd144": {
      "model_module": "@jupyter-widgets/base",
      "model_module_version": "1.2.0",
      "model_name": "LayoutModel",
      "state": {
       "order": "-1",
       "overflow": "visible",
       "padding": "1px",
       "width": "0px"
      }
     },
     "7a298a2ed5c74feaa23e4c127a7d0479": {
      "model_module": "@jupyter-widgets/controls",
      "model_module_version": "1.5.0",
      "model_name": "IntProgressModel",
      "state": {
       "layout": "IPY_MODEL_6395e9430bb240eca1d9cd39a90d7a75",
       "style": "IPY_MODEL_601efe8dc0ad4246b3040589bdf41ff6",
       "value": 30
      }
     },
     "7a73065903334f6ca5232ab7de4571f1": {
      "model_module": "@jupyter-widgets/base",
      "model_module_version": "1.2.0",
      "model_name": "LayoutModel",
      "state": {}
     },
     "7a8abd6507194146b6a710da1d9bfc6c": {
      "model_module": "@jupyter-widgets/controls",
      "model_module_version": "1.5.0",
      "model_name": "HBoxModel",
      "state": {
       "children": [
        "IPY_MODEL_7ad6ecbdcf7e4bcc81156e47ecbe9e48",
        "IPY_MODEL_56541598739e470e834d82290916010b",
        "IPY_MODEL_bc3fbf58693d40fda0320bf950427c13",
        "IPY_MODEL_fc181bfef5e44590a4de998629d0c691"
       ],
       "layout": "IPY_MODEL_24b67fe477874f6f90dc8e53f2e75eec"
      }
     },
     "7ad6ecbdcf7e4bcc81156e47ecbe9e48": {
      "model_module": "@jupyter-widgets/controls",
      "model_module_version": "1.5.0",
      "model_name": "ButtonModel",
      "state": {
       "layout": "IPY_MODEL_4e9f0f0dcf51452dabe2537a441ab0ef",
       "style": "IPY_MODEL_61a3063b37e843dea72de01dd03ad21b"
      }
     },
     "7af26c7c9fb747fd99864dca24614e89": {
      "model_module": "@jupyter-widgets/controls",
      "model_module_version": "1.5.0",
      "model_name": "DescriptionStyleModel",
      "state": {
       "description_width": ""
      }
     },
     "7b127ed469794a8eaf2862c85e8fece9": {
      "model_module": "@jupyter-widgets/controls",
      "model_module_version": "1.5.0",
      "model_name": "DescriptionStyleModel",
      "state": {
       "description_width": ""
      }
     },
     "7b2a4f0e9c334bf99de01dbf695ab900": {
      "model_module": "@jupyter-widgets/controls",
      "model_module_version": "1.5.0",
      "model_name": "DescriptionStyleModel",
      "state": {
       "description_width": ""
      }
     },
     "7b65373a08f94c9f9b98a7d60624ceb9": {
      "model_module": "@jupyter-widgets/controls",
      "model_module_version": "1.5.0",
      "model_name": "ButtonStyleModel",
      "state": {}
     },
     "7b944224fb1a4024b474ebd442a48215": {
      "model_module": "@jupyter-widgets/controls",
      "model_module_version": "1.5.0",
      "model_name": "HBoxModel",
      "state": {
       "children": [
        "IPY_MODEL_8387cd17dae1423eb6492acb59737605",
        "IPY_MODEL_2891df9151664f11bf980a0d978d72dc",
        "IPY_MODEL_7d55b0facd7340bda788d4feba03b3ea",
        "IPY_MODEL_9819147452b54d27ad05cbbc98becb37"
       ],
       "layout": "IPY_MODEL_605f70a458ae423fb20bec92f29f87ec"
      }
     },
     "7c1359bc76964ca9a6e477c0e3d2773c": {
      "model_module": "@jupyter-widgets/base",
      "model_module_version": "1.2.0",
      "model_name": "LayoutModel",
      "state": {
       "height": "32px",
       "overflow": "visible",
       "width": "100%"
      }
     },
     "7c1e08d7317e46b9bd47b995459d302e": {
      "model_module": "@jupyter-widgets/base",
      "model_module_version": "1.2.0",
      "model_name": "LayoutModel",
      "state": {
       "display": "flex",
       "flex_flow": "row wrap"
      }
     },
     "7cb87d96758d4afea1e54a56619e47b1": {
      "model_module": "@jupyter-widgets/controls",
      "model_module_version": "1.5.0",
      "model_name": "IntProgressModel",
      "state": {
       "layout": "IPY_MODEL_f454218e8c954151beae4bee59a6dc16",
       "style": "IPY_MODEL_4aa98e3579e94a95a622cf56e84ffe12",
       "value": 30
      }
     },
     "7cd5d0aa6ab749df82eb0ec85684e847": {
      "model_module": "@jupyter-widgets/base",
      "model_module_version": "1.2.0",
      "model_name": "LayoutModel",
      "state": {
       "height": "32px",
       "overflow": "visible",
       "width": "100%"
      }
     },
     "7d124aeaf55a4d8284dc0f86662b05fe": {
      "model_module": "@jupyter-widgets/controls",
      "model_module_version": "1.5.0",
      "model_name": "ButtonStyleModel",
      "state": {}
     },
     "7d2ea8cf7476471a8f468e9b76557357": {
      "model_module": "@jupyter-widgets/controls",
      "model_module_version": "1.5.0",
      "model_name": "ButtonModel",
      "state": {
       "description": "EDIT",
       "layout": "IPY_MODEL_3583838f1f2c435c86a3e1dfbce0efb8",
       "style": "IPY_MODEL_b80788d7e41348b5a7751e75fc7d795b"
      }
     },
     "7d553319f91047c7bc8e0a25faabaa39": {
      "model_module": "@jupyter-widgets/controls",
      "model_module_version": "1.5.0",
      "model_name": "ButtonModel",
      "state": {
       "layout": "IPY_MODEL_493bed18b34c41739bb836fcccaadc20",
       "style": "IPY_MODEL_0ff651b9973240e1ac1f4ab7bed0d215"
      }
     },
     "7d55b0facd7340bda788d4feba03b3ea": {
      "model_module": "@jupyter-widgets/controls",
      "model_module_version": "1.5.0",
      "model_name": "LabelModel",
      "state": {
       "layout": "IPY_MODEL_39704871345f45ecbb2cf0a91f1f1d51",
       "style": "IPY_MODEL_9893575597a948379f21acce232ab063",
       "value": "   objective"
      }
     },
     "7d55c1dfdcb743a088d00235754b6108": {
      "model_module": "@jupyter-widgets/controls",
      "model_module_version": "1.5.0",
      "model_name": "DescriptionStyleModel",
      "state": {
       "description_width": ""
      }
     },
     "7d5f1b3f71534e53aef3b1704a46d507": {
      "model_module": "@jupyter-widgets/controls",
      "model_module_version": "1.5.0",
      "model_name": "ProgressStyleModel",
      "state": {
       "description_width": ""
      }
     },
     "7d5f373a4a154accb94858853d83a367": {
      "model_module": "@jupyter-widgets/controls",
      "model_module_version": "1.5.0",
      "model_name": "LabelModel",
      "state": {
       "layout": "IPY_MODEL_f5a7a1d5bb8447c7a8fb261c32e23a3b",
       "style": "IPY_MODEL_12830c71df4c45148424491c088aece3",
       "value": "In order to authenticate, sign in with Bungie to get an authentication code"
      }
     },
     "7d8ec831d30443b9a08ff3aa817c412f": {
      "model_module": "@jupyter-widgets/controls",
      "model_module_version": "1.5.0",
      "model_name": "ButtonModel",
      "state": {
       "description": "EDIT",
       "layout": "IPY_MODEL_2c851ee1c67e405da12f4d05eccafc58",
       "style": "IPY_MODEL_6d0165e7b60c4fc3bd7b421469905a93"
      }
     },
     "7da4bba5f06447449a716d556e3fd1bc": {
      "model_module": "@jupyter-widgets/controls",
      "model_module_version": "1.5.0",
      "model_name": "ButtonModel",
      "state": {
       "description": "EDIT",
       "layout": "IPY_MODEL_6afacbbcb4214a4abd32b9392380060c",
       "style": "IPY_MODEL_86480bff69ff41e0835c6aa86a3642a4"
      }
     },
     "7db10492754a4c59bb9ad9b5fa8d28e7": {
      "model_module": "@jupyter-widgets/controls",
      "model_module_version": "1.5.0",
      "model_name": "DescriptionStyleModel",
      "state": {
       "description_width": ""
      }
     },
     "7de1ad4563af4f288c8815da0cf01373": {
      "model_module": "@jupyter-widgets/base",
      "model_module_version": "1.2.0",
      "model_name": "LayoutModel",
      "state": {
       "order": "-1",
       "overflow": "visible",
       "padding": "1px",
       "width": "0px"
      }
     },
     "7ded2c1dd7cf4d7381723a7d55142628": {
      "model_module": "@jupyter-widgets/controls",
      "model_module_version": "1.5.0",
      "model_name": "IntProgressModel",
      "state": {
       "layout": "IPY_MODEL_2f111bea4745408db56e4cb408b9e0ed",
       "style": "IPY_MODEL_bd1f78cc80574a1c8db41b62d04750ce",
       "value": 30
      }
     },
     "7e04920fcb564e0eb2a3b72495506f62": {
      "model_module": "@jupyter-widgets/controls",
      "model_module_version": "1.5.0",
      "model_name": "ButtonStyleModel",
      "state": {}
     },
     "7e1ba396ca324494996b2a1eb469ad87": {
      "model_module": "@jupyter-widgets/base",
      "model_module_version": "1.2.0",
      "model_name": "LayoutModel",
      "state": {
       "width": "60px"
      }
     },
     "7e3a6819bdb34d319b5675aa42d7c1e3": {
      "model_module": "@jupyter-widgets/controls",
      "model_module_version": "1.5.0",
      "model_name": "DescriptionStyleModel",
      "state": {
       "description_width": ""
      }
     },
     "7e4375084a1a4703a5c712b65ae79112": {
      "model_module": "@jupyter-widgets/controls",
      "model_module_version": "1.5.0",
      "model_name": "ProgressStyleModel",
      "state": {
       "description_width": ""
      }
     },
     "7e7d7b6a488947bab85061b5f852625e": {
      "model_module": "@jupyter-widgets/base",
      "model_module_version": "1.2.0",
      "model_name": "LayoutModel",
      "state": {
       "width": "60px"
      }
     },
     "7f1489c323bf4eb288e1b46e9d00e538": {
      "model_module": "@jupyter-widgets/controls",
      "model_module_version": "1.5.0",
      "model_name": "LabelModel",
      "state": {
       "layout": "IPY_MODEL_09059c5c3a8640118729afc86ac3449d",
       "style": "IPY_MODEL_a0910fef743d4187962b6083f84acf64",
       "value": "   objective"
      }
     },
     "7fe8b9133b634affbc6aff028f803f82": {
      "model_module": "@jupyter-widgets/base",
      "model_module_version": "1.2.0",
      "model_name": "LayoutModel",
      "state": {}
     },
     "80060603222449f8b3a113678c9730bc": {
      "model_module": "@jupyter-widgets/controls",
      "model_module_version": "1.5.0",
      "model_name": "TextModel",
      "state": {
       "description": "Gamertag:",
       "layout": "IPY_MODEL_c63d71d69aa44968b662d9a71f5b3f96",
       "style": "IPY_MODEL_61e154433b80405e9e672198d47ee6b4",
       "value": "skalligman"
      }
     },
     "80397aae882b428087b6f62966d6e17e": {
      "model_module": "@jupyter-widgets/controls",
      "model_module_version": "1.5.0",
      "model_name": "HBoxModel",
      "state": {
       "children": [
        "IPY_MODEL_2d50e60f75eb4d1d948f7e2f556f59ce",
        "IPY_MODEL_bb0ed8e8d574493bb6b4283c9adb8674",
        "IPY_MODEL_b6025eaccd434d13b26ba119afb744aa",
        "IPY_MODEL_d30c895c5f3a471e81a5f1fa11c98c15"
       ],
       "layout": "IPY_MODEL_5183298d42f144b58de907241cc18c4c"
      }
     },
     "807c026392014fda89b55eb4c7703f7a": {
      "model_module": "@jupyter-widgets/controls",
      "model_module_version": "1.5.0",
      "model_name": "ProgressStyleModel",
      "state": {
       "description_width": ""
      }
     },
     "808f2d197d7f4edd9e459ae0be05896f": {
      "model_module": "@jupyter-widgets/controls",
      "model_module_version": "1.5.0",
      "model_name": "HBoxModel",
      "state": {
       "children": [
        "IPY_MODEL_35d6ee40cf8744bda69571015b7e2143",
        "IPY_MODEL_ca5bca91a37a43588ed5bb0d1479334e",
        "IPY_MODEL_05324d0fc83445e49a7bef27674b9057",
        "IPY_MODEL_38fa036df1244d63b55e3fd39c73a775"
       ],
       "layout": "IPY_MODEL_83e862baf69246a2adb6ff87b36f1673"
      }
     },
     "80e4197110404139ad20f43efff09ff8": {
      "model_module": "@jupyter-widgets/controls",
      "model_module_version": "1.5.0",
      "model_name": "CheckboxModel",
      "state": {
       "description": "Hide Conflicting Objectives",
       "disabled": false,
       "layout": "IPY_MODEL_03ad15e466d744969d7d81cbbcf89cdb",
       "style": "IPY_MODEL_5d3cfd30c11d4934b4ae3bfe212fcbf2",
       "value": true
      }
     },
     "81133b9ec9b8471b9e2edbb64e273115": {
      "model_module": "@jupyter-widgets/controls",
      "model_module_version": "1.5.0",
      "model_name": "ProgressStyleModel",
      "state": {
       "description_width": ""
      }
     },
     "813b8b784a1a455ba4332633427cba3e": {
      "model_module": "@jupyter-widgets/base",
      "model_module_version": "1.2.0",
      "model_name": "LayoutModel",
      "state": {
       "height": "32px",
       "order": "-2",
       "width": "32px"
      }
     },
     "819f9ab5d4774d54b8d3c70315fc154a": {
      "model_module": "@jupyter-widgets/base",
      "model_module_version": "1.2.0",
      "model_name": "LayoutModel",
      "state": {
       "height": "32px",
       "order": "-2",
       "width": "32px"
      }
     },
     "81a9e2fadc8a4a829b4c671f8fd65ae0": {
      "model_module": "@jupyter-widgets/base",
      "model_module_version": "1.2.0",
      "model_name": "LayoutModel",
      "state": {
       "height": "32px",
       "overflow": "visible",
       "width": "100%"
      }
     },
     "81cf93a075754bb0956354225ad935ca": {
      "model_module": "@jupyter-widgets/controls",
      "model_module_version": "1.5.0",
      "model_name": "ButtonModel",
      "state": {
       "layout": "IPY_MODEL_73c760e266184112916552aa0dd852dc",
       "style": "IPY_MODEL_571db08165854c688366fd7b55da2af8"
      }
     },
     "821aaf815de94d7b92d5a6da56bc0a96": {
      "model_module": "@jupyter-widgets/controls",
      "model_module_version": "1.5.0",
      "model_name": "DescriptionStyleModel",
      "state": {
       "description_width": ""
      }
     },
     "82433aa4fc7b429f92aa0c2014fda17d": {
      "model_module": "@jupyter-widgets/base",
      "model_module_version": "1.2.0",
      "model_name": "LayoutModel",
      "state": {
       "height": "32px",
       "order": "-2",
       "width": "32px"
      }
     },
     "8256a5ce34ee4ebc9986140d0d5a47d2": {
      "model_module": "@jupyter-widgets/base",
      "model_module_version": "1.2.0",
      "model_name": "LayoutModel",
      "state": {}
     },
     "826f9c3dce0743f4aad12380a8c8321b": {
      "model_module": "@jupyter-widgets/base",
      "model_module_version": "1.2.0",
      "model_name": "LayoutModel",
      "state": {
       "height": "32px",
       "order": "-2",
       "width": "32px"
      }
     },
     "8283683904e24a2cb3ed74107fff2263": {
      "model_module": "@jupyter-widgets/base",
      "model_module_version": "1.2.0",
      "model_name": "LayoutModel",
      "state": {
       "overflow": "visible",
       "width": "100%"
      }
     },
     "82893b5aa67a4bd1ba69339fa8a58ee9": {
      "model_module": "@jupyter-widgets/base",
      "model_module_version": "1.2.0",
      "model_name": "LayoutModel",
      "state": {
       "width": "60px"
      }
     },
     "8387cd17dae1423eb6492acb59737605": {
      "model_module": "@jupyter-widgets/controls",
      "model_module_version": "1.5.0",
      "model_name": "ButtonModel",
      "state": {
       "layout": "IPY_MODEL_8d3e4b0b54054a9a9fe74853e024d4c5",
       "style": "IPY_MODEL_ce85e89755364422a01d950f2a3c2d28"
      }
     },
     "83ac6b6bdc25405faba2213933674997": {
      "model_module": "@jupyter-widgets/base",
      "model_module_version": "1.2.0",
      "model_name": "LayoutModel",
      "state": {
       "height": "32px",
       "overflow": "visible",
       "width": "100%"
      }
     },
     "83cc4310083d4e618066ef35cca22f35": {
      "model_module": "@jupyter-widgets/controls",
      "model_module_version": "1.5.0",
      "model_name": "HBoxModel",
      "state": {
       "children": [
        "IPY_MODEL_29a835c686944281911f21c4eb19cf38",
        "IPY_MODEL_fec21a31060c4e08901d9e14f2873bbf",
        "IPY_MODEL_59277d338d7143df80b5ca38fd36e851",
        "IPY_MODEL_ddcb13c29b2640878aa502e13aa455c0"
       ],
       "layout": "IPY_MODEL_5f26094f6ada4c86b69d1b9e7ceb5bac"
      }
     },
     "83e862baf69246a2adb6ff87b36f1673": {
      "model_module": "@jupyter-widgets/base",
      "model_module_version": "1.2.0",
      "model_name": "LayoutModel",
      "state": {
       "display": "none"
      }
     },
     "83eec6ea2cd94ce5a2de423087881c8f": {
      "model_module": "@jupyter-widgets/controls",
      "model_module_version": "1.5.0",
      "model_name": "ButtonStyleModel",
      "state": {}
     },
     "8436b6fa38de42a6afc7b9379e48e9f0": {
      "model_module": "@jupyter-widgets/controls",
      "model_module_version": "1.5.0",
      "model_name": "VBoxModel",
      "state": {
       "children": [
        "IPY_MODEL_99b757d7bd9b4d628fc8869ea52bf14e",
        "IPY_MODEL_48cfb449a323450f80b87edce92871d6",
        "IPY_MODEL_5b9e20ee543c42a2829ab26643b70209",
        "IPY_MODEL_fee7c12cd4e2462f84de32709d0a5de0",
        "IPY_MODEL_e5b12fdb8f8c4f4cb3f981a061349992",
        "IPY_MODEL_048330d3358a4e1c816e32a2a04d68db"
       ],
       "layout": "IPY_MODEL_e1c95ed32da3461083f8946c274653e9"
      }
     },
     "8479d1ee8fbb40b2b0dc902fb4df1fb5": {
      "model_module": "@jupyter-widgets/controls",
      "model_module_version": "1.5.0",
      "model_name": "ButtonStyleModel",
      "state": {}
     },
     "8481b721115c4bb69b39c2409a2cbbe3": {
      "model_module": "@jupyter-widgets/controls",
      "model_module_version": "1.5.0",
      "model_name": "ButtonModel",
      "state": {
       "layout": "IPY_MODEL_57252323ff03455c9c2686f63193810c",
       "style": "IPY_MODEL_a29e05caf06e4c73a27c23daed46c5dd"
      }
     },
     "848e9caa12c44fe69b0239f9c04341ec": {
      "model_module": "@jupyter-widgets/controls",
      "model_module_version": "1.5.0",
      "model_name": "DropdownModel",
      "state": {
       "_options_labels": [
        "Any",
        "Arc",
        "Solar",
        "Void"
       ],
       "index": 0,
       "layout": "IPY_MODEL_a2e339e1cc0245c895eb6b18b242ffff",
       "style": "IPY_MODEL_f5b794d9b7ea4dee96dc77a5356f542b"
      }
     },
     "84b47de479fa4711ad6488c7e58e9eee": {
      "model_module": "@jupyter-widgets/base",
      "model_module_version": "1.2.0",
      "model_name": "LayoutModel",
      "state": {
       "display": "none"
      }
     },
     "84c273e6446047f38a1a9103250f2811": {
      "model_module": "@jupyter-widgets/controls",
      "model_module_version": "1.5.0",
      "model_name": "DescriptionStyleModel",
      "state": {
       "description_width": ""
      }
     },
     "84d3eff46a4f47458ff5fb1a432e4143": {
      "model_module": "@jupyter-widgets/base",
      "model_module_version": "1.2.0",
      "model_name": "LayoutModel",
      "state": {
       "height": "32px",
       "overflow": "visible",
       "width": "100%"
      }
     },
     "84fc2009412240cb9851592bdccfde47": {
      "model_module": "@jupyter-widgets/base",
      "model_module_version": "1.2.0",
      "model_name": "LayoutModel",
      "state": {
       "height": "32px",
       "overflow": "visible",
       "width": "100%"
      }
     },
     "8523f8eba9bb42f59ec5cca2110f92d7": {
      "model_module": "@jupyter-widgets/controls",
      "model_module_version": "1.5.0",
      "model_name": "ProgressStyleModel",
      "state": {
       "description_width": ""
      }
     },
     "858bdc2956c5488fb09436adc0741be1": {
      "model_module": "@jupyter-widgets/controls",
      "model_module_version": "1.5.0",
      "model_name": "IntProgressModel",
      "state": {
       "layout": "IPY_MODEL_4088fa74cd5b401c818bc92eed13f5ec",
       "style": "IPY_MODEL_ce0082f9f14043b5960cc33037ff8d97",
       "value": 30
      }
     },
     "858c3669b9ef42cab501a5ea1138f6cb": {
      "model_module": "@jupyter-widgets/base",
      "model_module_version": "1.2.0",
      "model_name": "LayoutModel",
      "state": {
       "display": "none"
      }
     },
     "85ad5b39964647e580225e391b465d11": {
      "model_module": "@jupyter-widgets/controls",
      "model_module_version": "1.5.0",
      "model_name": "DescriptionStyleModel",
      "state": {
       "description_width": ""
      }
     },
     "85b1e2b57cf44355a60735bc55bcee7e": {
      "model_module": "@jupyter-widgets/controls",
      "model_module_version": "1.5.0",
      "model_name": "ButtonStyleModel",
      "state": {}
     },
     "85c22ea68ee64640b1ae506ae36f9040": {
      "model_module": "@jupyter-widgets/controls",
      "model_module_version": "1.5.0",
      "model_name": "ButtonModel",
      "state": {
       "layout": "IPY_MODEL_bc89a778517842fdaa6d91df9dab7c8b",
       "style": "IPY_MODEL_5ce2a7a1eafb4427b4a89eee34bc17b4"
      }
     },
     "85df654f70c64659bc9bc61cf356d8fa": {
      "model_module": "@jupyter-widgets/controls",
      "model_module_version": "1.5.0",
      "model_name": "ButtonModel",
      "state": {
       "description": "Submit",
       "layout": "IPY_MODEL_8e42351e1510496d8a0bc1e35e304365",
       "style": "IPY_MODEL_55d1022c694748b1bd2331cb4e85a630"
      }
     },
     "86480bff69ff41e0835c6aa86a3642a4": {
      "model_module": "@jupyter-widgets/controls",
      "model_module_version": "1.5.0",
      "model_name": "ButtonStyleModel",
      "state": {}
     },
     "867469365bbe40aa81fd89a1f4d777ed": {
      "model_module": "@jupyter-widgets/controls",
      "model_module_version": "1.5.0",
      "model_name": "ButtonStyleModel",
      "state": {}
     },
     "867df15c8a314483a84dab502c612c1c": {
      "model_module": "@jupyter-widgets/base",
      "model_module_version": "1.2.0",
      "model_name": "LayoutModel",
      "state": {
       "height": "32px",
       "order": "-2",
       "width": "32px"
      }
     },
     "86898611fe1f40198288d5a542d2b05e": {
      "model_module": "@jupyter-widgets/controls",
      "model_module_version": "1.5.0",
      "model_name": "DescriptionStyleModel",
      "state": {
       "description_width": ""
      }
     },
     "86a2e69b79ce4f0c911ce61cb7065ef0": {
      "model_module": "@jupyter-widgets/base",
      "model_module_version": "1.2.0",
      "model_name": "LayoutModel",
      "state": {
       "display": "flex",
       "flex_flow": "row wrap"
      }
     },
     "86aaec6888494210b5ad689681301e1e": {
      "model_module": "@jupyter-widgets/controls",
      "model_module_version": "1.5.0",
      "model_name": "DescriptionStyleModel",
      "state": {
       "description_width": ""
      }
     },
     "86be2a7d0a0a4c54a82f459bfdab4ec6": {
      "model_module": "@jupyter-widgets/controls",
      "model_module_version": "1.5.0",
      "model_name": "ButtonModel",
      "state": {
       "layout": "IPY_MODEL_fdee9989bfd64731a6f1a4a003032e06",
       "style": "IPY_MODEL_60b4ac928ee74b978dd3b2391910b92f"
      }
     },
     "86c332c9b3424d60a4b48c4d98ad1a70": {
      "model_module": "@jupyter-widgets/controls",
      "model_module_version": "1.5.0",
      "model_name": "IntProgressModel",
      "state": {
       "layout": "IPY_MODEL_f339863908ff44cb99463d896f6c280a",
       "style": "IPY_MODEL_d9c0129748624fbabaecb3b76c3b14ff",
       "value": 30
      }
     },
     "86c5a1488d9240229f043bdc12554047": {
      "model_module": "@jupyter-widgets/base",
      "model_module_version": "1.2.0",
      "model_name": "LayoutModel",
      "state": {
       "height": "32px",
       "order": "-2",
       "width": "32px"
      }
     },
     "86f11a2afb1946cb9d468c7e5db81a53": {
      "model_module": "@jupyter-widgets/base",
      "model_module_version": "1.2.0",
      "model_name": "LayoutModel",
      "state": {
       "width": "60px"
      }
     },
     "874a51e9a0724da9acd7faef0691fd47": {
      "model_module": "@jupyter-widgets/controls",
      "model_module_version": "1.5.0",
      "model_name": "ButtonStyleModel",
      "state": {}
     },
     "874e92512b5845bfaca010f0a723e9e7": {
      "model_module": "@jupyter-widgets/controls",
      "model_module_version": "1.5.0",
      "model_name": "DescriptionStyleModel",
      "state": {
       "description_width": ""
      }
     },
     "876fb79598894452851d9337f591e47c": {
      "model_module": "@jupyter-widgets/controls",
      "model_module_version": "1.5.0",
      "model_name": "ButtonModel",
      "state": {
       "description": "EDIT",
       "layout": "IPY_MODEL_c9c669b77120465da2c520f0d18d72e1",
       "style": "IPY_MODEL_2899c0fa81f548e29a73dc1e47152cd8"
      }
     },
     "877d53ef7e05414bba571913a02fb991": {
      "model_module": "@jupyter-widgets/controls",
      "model_module_version": "1.5.0",
      "model_name": "ButtonModel",
      "state": {
       "layout": "IPY_MODEL_0a9548b30cfd46c3bbb3e3526cf22ab5",
       "style": "IPY_MODEL_bb116e4f142c4d56bb1eb96ec6eb724e"
      }
     },
     "87bf876d02b04f2db1e169742bb64f79": {
      "model_module": "@jupyter-widgets/base",
      "model_module_version": "1.2.0",
      "model_name": "LayoutModel",
      "state": {
       "display": "none"
      }
     },
     "87c7226e6fac4270bfae18315cf9eb7a": {
      "model_module": "@jupyter-widgets/controls",
      "model_module_version": "1.5.0",
      "model_name": "IntProgressModel",
      "state": {
       "layout": "IPY_MODEL_c52b648425e14011ae04629ac4b555f1",
       "style": "IPY_MODEL_0e5909f5802e47a68ab031697b82ead9",
       "value": 30
      }
     },
     "87db388d31394f28bfb8a02a96ac2780": {
      "model_module": "@jupyter-widgets/base",
      "model_module_version": "1.2.0",
      "model_name": "LayoutModel",
      "state": {
       "width": "60px"
      }
     },
     "87f8a24618884b479f85ca25ab7c9369": {
      "model_module": "@jupyter-widgets/controls",
      "model_module_version": "1.5.0",
      "model_name": "ButtonStyleModel",
      "state": {}
     },
     "880e5dd6ebf545d1a40138aeeab9014f": {
      "model_module": "@jupyter-widgets/controls",
      "model_module_version": "1.5.0",
      "model_name": "ButtonStyleModel",
      "state": {}
     },
     "88139556b4544d17a552f8dc7c2c895d": {
      "model_module": "@jupyter-widgets/controls",
      "model_module_version": "1.5.0",
      "model_name": "ButtonModel",
      "state": {
       "description": "EDIT",
       "layout": "IPY_MODEL_e615941cbf774459bd23e79632caef05",
       "style": "IPY_MODEL_06fe30e96de54998a454b41381e2fea1"
      }
     },
     "88730576ca9344a784a0c8843ff91bfd": {
      "model_module": "@jupyter-widgets/controls",
      "model_module_version": "1.5.0",
      "model_name": "ButtonModel",
      "state": {
       "layout": "IPY_MODEL_ca40328e2f024f51a98a22a290a40986",
       "style": "IPY_MODEL_139e3c1856624407aee63ae128155fc0"
      }
     },
     "88772c9ba8b44e269645042a3b20c7b7": {
      "model_module": "@jupyter-widgets/base",
      "model_module_version": "1.2.0",
      "model_name": "LayoutModel",
      "state": {
       "display": "none"
      }
     },
     "889773736ff34471992ac5609658521c": {
      "model_module": "@jupyter-widgets/controls",
      "model_module_version": "1.5.0",
      "model_name": "ProgressStyleModel",
      "state": {
       "description_width": ""
      }
     },
     "88990b81137d44a8948cb50efa34646a": {
      "model_module": "@jupyter-widgets/base",
      "model_module_version": "1.2.0",
      "model_name": "LayoutModel",
      "state": {
       "height": "32px",
       "order": "-2",
       "width": "32px"
      }
     },
     "88e434dc001a47feb13c4cbf69012709": {
      "model_module": "@jupyter-widgets/controls",
      "model_module_version": "1.5.0",
      "model_name": "DescriptionStyleModel",
      "state": {
       "description_width": ""
      }
     },
     "890836a8652346228677ca0aece01825": {
      "model_module": "@jupyter-widgets/controls",
      "model_module_version": "1.5.0",
      "model_name": "ProgressStyleModel",
      "state": {
       "description_width": ""
      }
     },
     "890d25e4a0e248e9b2c3f1fb6bfcb0e6": {
      "model_module": "@jupyter-widgets/controls",
      "model_module_version": "1.5.0",
      "model_name": "ButtonModel",
      "state": {
       "layout": "IPY_MODEL_867df15c8a314483a84dab502c612c1c",
       "style": "IPY_MODEL_4cd7b4e6e8594188b9529799a21743c6"
      }
     },
     "894da0e29dff4d85ba83d87e8dcaa5c3": {
      "model_module": "@jupyter-widgets/controls",
      "model_module_version": "1.5.0",
      "model_name": "DescriptionStyleModel",
      "state": {
       "description_width": ""
      }
     },
     "89957a620d1646d6821117298cadd784": {
      "model_module": "@jupyter-widgets/controls",
      "model_module_version": "1.5.0",
      "model_name": "HBoxModel",
      "state": {
       "children": [
        "IPY_MODEL_907a8f51567c417eacafd534515660ae",
        "IPY_MODEL_5dbcbeccc8fc4d719b0ada8fc48166a3",
        "IPY_MODEL_1b08212a8cd84252ad657afbf6df8821",
        "IPY_MODEL_ed3cf6d5722846eab48928a672672ee2"
       ],
       "layout": "IPY_MODEL_301a9241a20749169a88a04c34f81676"
      }
     },
     "8a1582d8af97428c85ab234b5e9494cb": {
      "model_module": "@jupyter-widgets/base",
      "model_module_version": "1.2.0",
      "model_name": "LayoutModel",
      "state": {
       "height": "32px",
       "overflow": "visible",
       "width": "100%"
      }
     },
     "8a91a24ffb6b47efb7a2c60b46ed8589": {
      "model_module": "@jupyter-widgets/base",
      "model_module_version": "1.2.0",
      "model_name": "LayoutModel",
      "state": {
       "border": "3px solid white",
       "display": "flex",
       "flex": "1 1 0%",
       "margin": "10px",
       "min_width": "400px",
       "overflow": "visible",
       "padding": "10px",
       "width": "auto"
      }
     },
     "8ab1e74a2024487d870dbe5147435e99": {
      "model_module": "@jupyter-widgets/controls",
      "model_module_version": "1.5.0",
      "model_name": "ButtonStyleModel",
      "state": {}
     },
     "8b16141b0e2d47629ab923fec8547cae": {
      "model_module": "@jupyter-widgets/controls",
      "model_module_version": "1.5.0",
      "model_name": "ButtonModel",
      "state": {
       "layout": "IPY_MODEL_54c1183ecd464a43b1af71985c62b923",
       "style": "IPY_MODEL_8e23e4281f834b2ab9b2cc198bfd7221"
      }
     },
     "8b5260126aef4fe88e4e7595294e91c6": {
      "model_module": "@jupyter-widgets/base",
      "model_module_version": "1.2.0",
      "model_name": "LayoutModel",
      "state": {
       "height": "32px",
       "order": "-2",
       "width": "32px"
      }
     },
     "8b65fdd9c4cc4d0faa07f6fe5da668b9": {
      "model_module": "@jupyter-widgets/controls",
      "model_module_version": "1.5.0",
      "model_name": "IntProgressModel",
      "state": {
       "layout": "IPY_MODEL_7cd5d0aa6ab749df82eb0ec85684e847",
       "max": 1,
       "style": "IPY_MODEL_d791ddeb541b4bf6827c90d9e1f26e8b"
      }
     },
     "8ba0487c5cbc4dfeb82e49e6754c4a37": {
      "model_module": "@jupyter-widgets/base",
      "model_module_version": "1.2.0",
      "model_name": "LayoutModel",
      "state": {
       "height": "32px",
       "overflow": "visible",
       "width": "100%"
      }
     },
     "8be96fdc6854435489c3cd70bf4eca42": {
      "model_module": "@jupyter-widgets/controls",
      "model_module_version": "1.5.0",
      "model_name": "ButtonStyleModel",
      "state": {}
     },
     "8bf483b585ba418b831f2934d0852e6e": {
      "model_module": "@jupyter-widgets/controls",
      "model_module_version": "1.5.0",
      "model_name": "DescriptionStyleModel",
      "state": {
       "description_width": ""
      }
     },
     "8c10ecdfd46940709b0e778cabe13e86": {
      "model_module": "@jupyter-widgets/controls",
      "model_module_version": "1.5.0",
      "model_name": "ButtonStyleModel",
      "state": {}
     },
     "8c1282a57f0943689dcef5bb5d9de0b9": {
      "model_module": "@jupyter-widgets/base",
      "model_module_version": "1.2.0",
      "model_name": "LayoutModel",
      "state": {
       "display": "none"
      }
     },
     "8c6d491b69184864826bad66462645f3": {
      "model_module": "@jupyter-widgets/controls",
      "model_module_version": "1.5.0",
      "model_name": "ButtonStyleModel",
      "state": {}
     },
     "8ca2d8c2dd3e47ca90cf5f795f91522d": {
      "model_module": "@jupyter-widgets/controls",
      "model_module_version": "1.5.0",
      "model_name": "VBoxModel",
      "state": {
       "children": [
        "IPY_MODEL_6f22ed99beb34a108eaf3fa47a0676c3",
        "IPY_MODEL_b566b11de8d34c64ae6b015e2dc5ee1a",
        "IPY_MODEL_992ac18e7c89458387ccbea2a3768eb5",
        "IPY_MODEL_7508bea33af149c8831ac2d245cd289c",
        "IPY_MODEL_b06e97de0b9c4561bcad836acb5862ba",
        "IPY_MODEL_7b944224fb1a4024b474ebd442a48215"
       ],
       "layout": "IPY_MODEL_0d75755dd2984e66bcde97d257b62dd1"
      }
     },
     "8cfd8d561ba849bba32b25b2d41e06a4": {
      "model_module": "@jupyter-widgets/controls",
      "model_module_version": "1.5.0",
      "model_name": "DescriptionStyleModel",
      "state": {
       "description_width": ""
      }
     },
     "8d105231eef34968a70fafa3e53638cb": {
      "model_module": "@jupyter-widgets/base",
      "model_module_version": "1.2.0",
      "model_name": "LayoutModel",
      "state": {
       "height": "32px",
       "order": "-2",
       "width": "32px"
      }
     },
     "8d3e4b0b54054a9a9fe74853e024d4c5": {
      "model_module": "@jupyter-widgets/base",
      "model_module_version": "1.2.0",
      "model_name": "LayoutModel",
      "state": {
       "height": "32px",
       "order": "-2",
       "width": "32px"
      }
     },
     "8d7ad5ea3c5e482aa792f226d1210809": {
      "model_module": "@jupyter-widgets/controls",
      "model_module_version": "1.5.0",
      "model_name": "ButtonStyleModel",
      "state": {}
     },
     "8d7ba1100cc94333804685ed45c0e6b3": {
      "model_module": "@jupyter-widgets/controls",
      "model_module_version": "1.5.0",
      "model_name": "DescriptionStyleModel",
      "state": {
       "description_width": ""
      }
     },
     "8d8bfc86709840f6af2e5f4a96c2ea14": {
      "model_module": "@jupyter-widgets/controls",
      "model_module_version": "1.5.0",
      "model_name": "DescriptionStyleModel",
      "state": {
       "description_width": ""
      }
     },
     "8da7ebcaa79d437db88ac4e7f1d596bb": {
      "model_module": "@jupyter-widgets/controls",
      "model_module_version": "1.5.0",
      "model_name": "ButtonModel",
      "state": {
       "description": "EDIT",
       "layout": "IPY_MODEL_0f0a4f60b1e444e8ae292eb38cc2d2b7",
       "style": "IPY_MODEL_503a01017b404da2b6a9f4c2a6f94aca"
      }
     },
     "8dadbd2dd82f43118c377908be1b8a91": {
      "model_module": "@jupyter-widgets/controls",
      "model_module_version": "1.5.0",
      "model_name": "ButtonStyleModel",
      "state": {}
     },
     "8dba9bba6eed456890f2e1f7e131b5a5": {
      "model_module": "@jupyter-widgets/base",
      "model_module_version": "1.2.0",
      "model_name": "LayoutModel",
      "state": {
       "width": "60px"
      }
     },
     "8dd645a6b4574812a4f85b769f784c89": {
      "model_module": "@jupyter-widgets/controls",
      "model_module_version": "1.5.0",
      "model_name": "ButtonModel",
      "state": {
       "layout": "IPY_MODEL_e0745522dca84e25b2eb1f198baa9f84",
       "style": "IPY_MODEL_dcc9868d51ff48a1bb81b20ec14d2ea7"
      }
     },
     "8ddaad3fa93e4fb7ae57e6b2b3de2408": {
      "model_module": "@jupyter-widgets/controls",
      "model_module_version": "1.5.0",
      "model_name": "DescriptionStyleModel",
      "state": {
       "description_width": ""
      }
     },
     "8e23e4281f834b2ab9b2cc198bfd7221": {
      "model_module": "@jupyter-widgets/controls",
      "model_module_version": "1.5.0",
      "model_name": "ButtonStyleModel",
      "state": {}
     },
     "8e42351e1510496d8a0bc1e35e304365": {
      "model_module": "@jupyter-widgets/base",
      "model_module_version": "1.2.0",
      "model_name": "LayoutModel",
      "state": {}
     },
     "8e439164d5184962af00761a5c3d484a": {
      "model_module": "@jupyter-widgets/controls",
      "model_module_version": "1.5.0",
      "model_name": "ButtonModel",
      "state": {
       "description": "EDIT",
       "layout": "IPY_MODEL_12b3058ed7464f0ebe3a8d055be6285a",
       "style": "IPY_MODEL_716d6c390f4146739448fb57d09d2ff4"
      }
     },
     "8e7f7db1f1c041b3b490b13405ab61b3": {
      "model_module": "@jupyter-widgets/base",
      "model_module_version": "1.2.0",
      "model_name": "LayoutModel",
      "state": {
       "order": "-1",
       "overflow": "visible",
       "padding": "1px",
       "width": "0px"
      }
     },
     "8f006ef60110460aa281833f23b14dc5": {
      "model_module": "@jupyter-widgets/controls",
      "model_module_version": "1.5.0",
      "model_name": "ButtonModel",
      "state": {
       "description": "EDIT",
       "layout": "IPY_MODEL_e84d53f8330748748c3ce66e76b38aed",
       "style": "IPY_MODEL_ba5bddcefca045938c5a8f961b9124b8"
      }
     },
     "8f26030e2506447b97fbc4270b705520": {
      "model_module": "@jupyter-widgets/controls",
      "model_module_version": "1.5.0",
      "model_name": "VBoxModel",
      "state": {
       "children": [
        "IPY_MODEL_3b543c4251464993923c1e5a31d98dae",
        "IPY_MODEL_69692a1362e54ea781c9e7892f172e85",
        "IPY_MODEL_1052056e159c49869ace1c2e97fbbc7a",
        "IPY_MODEL_f96d3ccd08ba453591945efd4974fde6"
       ],
       "layout": "IPY_MODEL_71213ef76df740e39c55dd4f93a7b408"
      }
     },
     "8f2c49beddbc4b0581596d107d23c893": {
      "model_module": "@jupyter-widgets/controls",
      "model_module_version": "1.5.0",
      "model_name": "HBoxModel",
      "state": {
       "children": [
        "IPY_MODEL_d66c869f13b84dc58935c6b0090d6cfc",
        "IPY_MODEL_e382899e858441968a6a72c1f4450db5",
        "IPY_MODEL_0059673c87f14592a08fe2aa5ed81720",
        "IPY_MODEL_7d8ec831d30443b9a08ff3aa817c412f"
       ],
       "layout": "IPY_MODEL_b3266bcb8f894ca991413ca4c01c106f"
      }
     },
     "8f794d5e379f42b8a3f3893809cf507e": {
      "model_module": "@jupyter-widgets/controls",
      "model_module_version": "1.5.0",
      "model_name": "ProgressStyleModel",
      "state": {
       "description_width": ""
      }
     },
     "8f97e9f47e1b4b74a8c7fc346a7af70f": {
      "model_module": "@jupyter-widgets/controls",
      "model_module_version": "1.5.0",
      "model_name": "ProgressStyleModel",
      "state": {
       "description_width": ""
      }
     },
     "8faf853d0849402d94c4537cb2e729f4": {
      "model_module": "@jupyter-widgets/controls",
      "model_module_version": "1.5.0",
      "model_name": "DescriptionStyleModel",
      "state": {
       "description_width": ""
      }
     },
     "8ff718fe46cc48f0bf781f83a5b04958": {
      "model_module": "@jupyter-widgets/base",
      "model_module_version": "1.2.0",
      "model_name": "LayoutModel",
      "state": {
       "width": "60px"
      }
     },
     "906bc6558bc24d9eb2b74086fad3b798": {
      "model_module": "@jupyter-widgets/controls",
      "model_module_version": "1.5.0",
      "model_name": "ButtonModel",
      "state": {
       "layout": "IPY_MODEL_8d105231eef34968a70fafa3e53638cb",
       "style": "IPY_MODEL_79586d9c0729431cbf26a8e304da42fb"
      }
     },
     "907a8f51567c417eacafd534515660ae": {
      "model_module": "@jupyter-widgets/controls",
      "model_module_version": "1.5.0",
      "model_name": "ButtonModel",
      "state": {
       "layout": "IPY_MODEL_04bf6270bbb74eafa047e8847e75368e",
       "style": "IPY_MODEL_4c46370418744820a61537f085572ebf"
      }
     },
     "90d5acf6f37d4cb991e9c11fe0ee75b9": {
      "model_module": "@jupyter-widgets/controls",
      "model_module_version": "1.5.0",
      "model_name": "ButtonModel",
      "state": {
       "description": "EDIT",
       "layout": "IPY_MODEL_f29f8e27525e408f91cb44d1d79ed4c3",
       "style": "IPY_MODEL_2a9e05c992fe4b1fb49bbf32d0f45042"
      }
     },
     "90e2f570ec174084a19541f15745dd18": {
      "model_module": "@jupyter-widgets/base",
      "model_module_version": "1.2.0",
      "model_name": "LayoutModel",
      "state": {
       "order": "-1",
       "overflow": "visible",
       "padding": "1px",
       "width": "0px"
      }
     },
     "90fc0c927fce4b6e982675d8a554efaa": {
      "model_module": "@jupyter-widgets/controls",
      "model_module_version": "1.5.0",
      "model_name": "HBoxModel",
      "state": {
       "children": [
        "IPY_MODEL_b14b0392c1864b6ea22638fa64c20763",
        "IPY_MODEL_86c332c9b3424d60a4b48c4d98ad1a70",
        "IPY_MODEL_efc306bd824d4069bd6ca3559052c552",
        "IPY_MODEL_be63c4c9111a4296b98693fd5cedeb49"
       ],
       "layout": "IPY_MODEL_ecd7541e560849e7979bfccebf827b17"
      }
     },
     "911574d7ab0d4c1c8b040eeac2e8f4e9": {
      "model_module": "@jupyter-widgets/controls",
      "model_module_version": "1.5.0",
      "model_name": "LabelModel",
      "state": {
       "layout": "IPY_MODEL_f6204b87a3254c849bcd4cc244eba507",
       "style": "IPY_MODEL_50803204f3cf422b97195e14ea6b774a",
       "value": "   objective"
      }
     },
     "91570e00c969411988ad677a01b98ef3": {
      "model_module": "@jupyter-widgets/controls",
      "model_module_version": "1.5.0",
      "model_name": "HBoxModel",
      "state": {
       "children": [
        "IPY_MODEL_cc774c38e4524c5cacebd1d224e98756",
        "IPY_MODEL_a421f4082c9247178143f57e4209d7e5",
        "IPY_MODEL_23b17baa05ce4e8aaf2be51d11a75fa0",
        "IPY_MODEL_a7e2d7a668d04723a1e96d7e235c07ca"
       ],
       "layout": "IPY_MODEL_132f34210ca24193a86995a50896fde2"
      }
     },
     "916a0c38e55f434dbf16e179e525544a": {
      "model_module": "@jupyter-widgets/base",
      "model_module_version": "1.2.0",
      "model_name": "LayoutModel",
      "state": {
       "height": "32px",
       "order": "-2",
       "width": "32px"
      }
     },
     "9254204b623347b0b67ec3741dbaf9dd": {
      "model_module": "@jupyter-widgets/base",
      "model_module_version": "1.2.0",
      "model_name": "LayoutModel",
      "state": {
       "order": "-1",
       "overflow": "visible",
       "padding": "1px",
       "width": "0px"
      }
     },
     "926cb9fb7ad64aa18617d29d572de102": {
      "model_module": "@jupyter-widgets/controls",
      "model_module_version": "1.5.0",
      "model_name": "VBoxModel",
      "state": {
       "children": [
        "IPY_MODEL_05724f1b0502462b943c2fd46ea01926",
        "IPY_MODEL_1d7c07c44e7d4f9f9ea69134fd426a0b",
        "IPY_MODEL_5158a0ad9c8741ecb8a3ce915cb66220",
        "IPY_MODEL_527a5ec0a55e4e4ba7992229bf40fa8f"
       ],
       "layout": "IPY_MODEL_f804607968594016901d8f8bb34a7649"
      }
     },
     "9293575e5faa4c0a9c4b15ff0980941b": {
      "model_module": "@jupyter-widgets/controls",
      "model_module_version": "1.5.0",
      "model_name": "ButtonStyleModel",
      "state": {}
     },
     "92bdce1f7b434db3b16c5d6d468d612e": {
      "model_module": "@jupyter-widgets/base",
      "model_module_version": "1.2.0",
      "model_name": "LayoutModel",
      "state": {
       "height": "32px",
       "overflow": "visible",
       "width": "100%"
      }
     },
     "92d3c3cd28c54d09a9868c6a35e648a7": {
      "model_module": "@jupyter-widgets/base",
      "model_module_version": "1.2.0",
      "model_name": "LayoutModel",
      "state": {
       "display": "none"
      }
     },
     "92db250e05b04e2ca2c593619da1fcec": {
      "model_module": "@jupyter-widgets/controls",
      "model_module_version": "1.5.0",
      "model_name": "LabelModel",
      "state": {
       "layout": "IPY_MODEL_35a5fba74ff247b895f157a72dfd2863",
       "style": "IPY_MODEL_86898611fe1f40198288d5a542d2b05e",
       "value": "   objective"
      }
     },
     "92faa6249c6a4f9d90ecad53d9e2e6c2": {
      "model_module": "@jupyter-widgets/controls",
      "model_module_version": "1.5.0",
      "model_name": "ButtonModel",
      "state": {
       "description": "EDIT",
       "layout": "IPY_MODEL_efcf1dedada64b45adbe352d46b21508",
       "style": "IPY_MODEL_b678a7327fbf48ff821ede394b5a08f2"
      }
     },
     "9304337a27164016baecc36bda354c61": {
      "model_module": "@jupyter-widgets/base",
      "model_module_version": "1.2.0",
      "model_name": "LayoutModel",
      "state": {
       "height": "32px",
       "overflow": "visible",
       "width": "100%"
      }
     },
     "9307f7b139144372a04047b6abd3891e": {
      "model_module": "@jupyter-widgets/controls",
      "model_module_version": "1.5.0",
      "model_name": "ButtonModel",
      "state": {
       "layout": "IPY_MODEL_d866798a44af4256acb545ce03b3ec23",
       "style": "IPY_MODEL_7969fa3a51f74a29b182fcb4385bf8c1"
      }
     },
     "93300418cb384a58a281883bb9fc3ff9": {
      "model_module": "@jupyter-widgets/controls",
      "model_module_version": "1.5.0",
      "model_name": "ButtonStyleModel",
      "state": {}
     },
     "9342ad88b75e4d498123f7eb002b01c6": {
      "model_module": "@jupyter-widgets/base",
      "model_module_version": "1.2.0",
      "model_name": "LayoutModel",
      "state": {
       "order": "-1",
       "overflow": "visible",
       "padding": "1px",
       "width": "0px"
      }
     },
     "937b0c4a4478495188d9c4ce52855bdc": {
      "model_module": "@jupyter-widgets/controls",
      "model_module_version": "1.5.0",
      "model_name": "HBoxModel",
      "state": {
       "children": [
        "IPY_MODEL_8dd645a6b4574812a4f85b769f784c89",
        "IPY_MODEL_4dd6f96bc0154698939f705e3955ffd1",
        "IPY_MODEL_1da80a7becd4441e9b1f98f5f41b9c07",
        "IPY_MODEL_73283c2e90ba48fbad3e9738b1ef1359"
       ],
       "layout": "IPY_MODEL_17dbb09dcdf2401d989bb0044cc6a328"
      }
     },
     "93af998905144ff599e0d0d00dd32d1b": {
      "model_module": "@jupyter-widgets/base",
      "model_module_version": "1.2.0",
      "model_name": "LayoutModel",
      "state": {
       "order": "-1",
       "overflow": "visible",
       "padding": "1px",
       "width": "0px"
      }
     },
     "93ee4d0539bb498c9b17632793d6c561": {
      "model_module": "@jupyter-widgets/base",
      "model_module_version": "1.2.0",
      "model_name": "LayoutModel",
      "state": {
       "width": "60px"
      }
     },
     "940bb69feba341adac90cd1ac116050a": {
      "model_module": "@jupyter-widgets/controls",
      "model_module_version": "1.5.0",
      "model_name": "HTMLModel",
      "state": {
       "layout": "IPY_MODEL_42eeb964796f46fbb1b330a444763c89",
       "style": "IPY_MODEL_3e6751ca00f54441a14fc08cbbd32460",
       "value": "<font size=\"1\">Triumphs/Lore/Dusk and Dawn/Revelation</font size=>"
      }
     },
     "941ce76eefa540ccaf190492408b0805": {
      "model_module": "@jupyter-widgets/base",
      "model_module_version": "1.2.0",
      "model_name": "LayoutModel",
      "state": {
       "overflow": "visible",
       "width": "100%"
      }
     },
     "9429fd520ae548d09205d50266cf4d7a": {
      "model_module": "@jupyter-widgets/controls",
      "model_module_version": "1.5.0",
      "model_name": "ButtonStyleModel",
      "state": {}
     },
     "945b76c5ce49409686d5dbeee4f0da65": {
      "model_module": "@jupyter-widgets/base",
      "model_module_version": "1.2.0",
      "model_name": "LayoutModel",
      "state": {
       "height": "32px",
       "order": "-2",
       "width": "32px"
      }
     },
     "9467fe3f9a804625a1bfb430eefaf2d8": {
      "model_module": "@jupyter-widgets/base",
      "model_module_version": "1.2.0",
      "model_name": "LayoutModel",
      "state": {
       "display": "none"
      }
     },
     "94a1c4232d364306b11c849dcbfc2730": {
      "model_module": "@jupyter-widgets/controls",
      "model_module_version": "1.5.0",
      "model_name": "ButtonStyleModel",
      "state": {}
     },
     "94e3be37ba074bd6aa9b7e0044119f8d": {
      "model_module": "@jupyter-widgets/controls",
      "model_module_version": "1.5.0",
      "model_name": "ButtonModel",
      "state": {
       "description": "EDIT",
       "layout": "IPY_MODEL_df60a927ebc947aabc6686c9203a555b",
       "style": "IPY_MODEL_62bba45b452744058fc45732b2d5563a"
      }
     },
     "9562d799e28a43c4a699dc869a8a9655": {
      "model_module": "@jupyter-widgets/controls",
      "model_module_version": "1.5.0",
      "model_name": "IntProgressModel",
      "state": {
       "layout": "IPY_MODEL_14b804090ba14c21a35fbc240bef3e34",
       "max": 1000,
       "style": "IPY_MODEL_9fc4a562445e4a6d84e878e61a6edb09",
       "value": 289
      }
     },
     "956f357eed3f40b68ab358507bfb6cbc": {
      "model_module": "@jupyter-widgets/controls",
      "model_module_version": "1.5.0",
      "model_name": "LabelModel",
      "state": {
       "layout": "IPY_MODEL_5c14fab474d341879b60159e4fd71cb6",
       "style": "IPY_MODEL_e87de7d56b7248dbb516c8f3e8a19c1b",
       "value": "   objective"
      }
     },
     "958d7237cd6a46cb9fac9abec35cbd01": {
      "model_module": "@jupyter-widgets/controls",
      "model_module_version": "1.5.0",
      "model_name": "IntProgressModel",
      "state": {
       "layout": "IPY_MODEL_52194395fff84822a3279296b1e1f0a5",
       "style": "IPY_MODEL_60cacd18146f4407b2b79d99ad676f40",
       "value": 30
      }
     },
     "95e6e695777745469e0895a74c066fd5": {
      "model_module": "@jupyter-widgets/controls",
      "model_module_version": "1.5.0",
      "model_name": "ButtonModel",
      "state": {
       "description": "EDIT",
       "layout": "IPY_MODEL_b9b346355bf54646941089f5aae10a88",
       "style": "IPY_MODEL_01f27f8092bd4ce1940336d1c3c79cf2"
      }
     },
     "95eba6d7ef834bdbabb598dba07b640e": {
      "model_module": "@jupyter-widgets/controls",
      "model_module_version": "1.5.0",
      "model_name": "IntProgressModel",
      "state": {
       "layout": "IPY_MODEL_4d55919a4bf4473c937ae0f2f3dc8eab",
       "max": 1,
       "style": "IPY_MODEL_c38af94a49bd4394973a1ba22c9d5392"
      }
     },
     "95f65a41f6a14e68823f5e384a756525": {
      "model_module": "@jupyter-widgets/controls",
      "model_module_version": "1.5.0",
      "model_name": "HTMLModel",
      "state": {
       "layout": "IPY_MODEL_4fc54fba7ebb47b1910c16b4da8c8d52",
       "style": "IPY_MODEL_0562ec4f494f48ecb7add4aff4afb4b6",
       "value": "<font size=\"5\"><b>Time Lapse</b></font size=>"
      }
     },
     "95f82e6285ec44b295894ccf1ae5ef7c": {
      "model_module": "@jupyter-widgets/controls",
      "model_module_version": "1.5.0",
      "model_name": "ButtonStyleModel",
      "state": {}
     },
     "961c5b82c45e479c90be207b86b3dd47": {
      "model_module": "@jupyter-widgets/controls",
      "model_module_version": "1.5.0",
      "model_name": "HBoxModel",
      "state": {
       "children": [
        "IPY_MODEL_08db801c056e468cbb97c5e249caf6f9",
        "IPY_MODEL_49819ec01abc42c6b6153016a9ef8f92",
        "IPY_MODEL_771781ed25f444619c03bd8d3bea99a6",
        "IPY_MODEL_9e06805ab65845d68c27b57a8b2383a1"
       ],
       "layout": "IPY_MODEL_fc4e825c233f4c25a0058b84546d7e28"
      }
     },
     "963284586ba24817ba0f71a083b21e3a": {
      "model_module": "@jupyter-widgets/controls",
      "model_module_version": "1.5.0",
      "model_name": "HTMLModel",
      "state": {
       "layout": "IPY_MODEL_2deb1009f8f546e98cd5abadb3cf2ada",
       "style": "IPY_MODEL_7af26c7c9fb747fd99864dca24614e89",
       "value": "Showing Tasks 1-15 of 942"
      }
     },
     "96422ffc4a6a4759875786d10bc2fad9": {
      "model_module": "@jupyter-widgets/base",
      "model_module_version": "1.2.0",
      "model_name": "LayoutModel",
      "state": {
       "height": "32px",
       "overflow": "visible",
       "width": "100%"
      }
     },
     "9660ffdfac5d4629aa0aab617c27f789": {
      "model_module": "@jupyter-widgets/base",
      "model_module_version": "1.2.0",
      "model_name": "LayoutModel",
      "state": {
       "display": "none"
      }
     },
     "96825ba33f774546907e19005e3ab142": {
      "model_module": "@jupyter-widgets/base",
      "model_module_version": "1.2.0",
      "model_name": "LayoutModel",
      "state": {
       "display": "none"
      }
     },
     "96a69ec421ce420f968413ed5041ef56": {
      "model_module": "@jupyter-widgets/base",
      "model_module_version": "1.2.0",
      "model_name": "LayoutModel",
      "state": {
       "height": "32px",
       "order": "-2",
       "width": "32px"
      }
     },
     "96b572481f0c4f7ca288d40f75a64004": {
      "model_module": "@jupyter-widgets/controls",
      "model_module_version": "1.5.0",
      "model_name": "ProgressStyleModel",
      "state": {
       "description_width": ""
      }
     },
     "96fd6c6dec5d4e3bb71596e13a29d04d": {
      "model_module": "@jupyter-widgets/controls",
      "model_module_version": "1.5.0",
      "model_name": "DropdownModel",
      "state": {
       "_options_labels": [
        "Any",
        "Machine Gun",
        "Sword",
        "Grenade Launcher",
        "Rocket Launcher",
        "Linear Fusion Rifle"
       ],
       "index": 0,
       "layout": "IPY_MODEL_a2e339e1cc0245c895eb6b18b242ffff",
       "style": "IPY_MODEL_248eb4c0e3cb49418c88404c1da4b7fe"
      }
     },
     "970af89e224d4fe6a326c27ef53a2bd9": {
      "model_module": "@jupyter-widgets/controls",
      "model_module_version": "1.5.0",
      "model_name": "HBoxModel",
      "state": {
       "children": [
        "IPY_MODEL_6676d117c5034274a69cfbbab528b31f",
        "IPY_MODEL_b8ab55bebb054a4dbf4f4f271526ef41",
        "IPY_MODEL_956f357eed3f40b68ab358507bfb6cbc",
        "IPY_MODEL_17cff2909232481d88fca6586315dd9e"
       ],
       "layout": "IPY_MODEL_2b1df3a53a1549528f4f083693bc1916"
      }
     },
     "971eed822d2c4d83ad3713244c105ee5": {
      "model_module": "@jupyter-widgets/controls",
      "model_module_version": "1.5.0",
      "model_name": "ButtonModel",
      "state": {
       "layout": "IPY_MODEL_f03591081cee4d7893ffab95bb079f7f",
       "style": "IPY_MODEL_5085bdd553b546a896eecd9287d497a5"
      }
     },
     "9766dc7729d04f6b889c17c499e195ee": {
      "model_module": "@jupyter-widgets/base",
      "model_module_version": "1.2.0",
      "model_name": "LayoutModel",
      "state": {
       "overflow": "visible",
       "width": "100%"
      }
     },
     "9769a2a38dd64592a35ced19ad4510e2": {
      "model_module": "@jupyter-widgets/controls",
      "model_module_version": "1.5.0",
      "model_name": "HBoxModel",
      "state": {
       "children": [
        "IPY_MODEL_65be1d620c3d4e0d92c334e4d6eb8b40",
        "IPY_MODEL_85df654f70c64659bc9bc61cf356d8fa"
       ],
       "layout": "IPY_MODEL_2ecf0c4185b4409c9f68b2fe492ed4c4"
      }
     },
     "97a8095f80b648ac98948b534c9a3af3": {
      "model_module": "@jupyter-widgets/controls",
      "model_module_version": "1.5.0",
      "model_name": "ButtonStyleModel",
      "state": {}
     },
     "97e822bc862349eabecb72b9fc44d95c": {
      "model_module": "@jupyter-widgets/controls",
      "model_module_version": "1.5.0",
      "model_name": "ButtonModel",
      "state": {
       "layout": "IPY_MODEL_634d59558bf14f0092a34cf6ab097f7e",
       "style": "IPY_MODEL_f35d916a47c04a479b9fb5d722d7c7f1"
      }
     },
     "9819147452b54d27ad05cbbc98becb37": {
      "model_module": "@jupyter-widgets/controls",
      "model_module_version": "1.5.0",
      "model_name": "ButtonModel",
      "state": {
       "description": "EDIT",
       "layout": "IPY_MODEL_4334aa9634c54b89b46808eb182ee8d3",
       "style": "IPY_MODEL_7b65373a08f94c9f9b98a7d60624ceb9"
      }
     },
     "9832f5592d074be081c3ce5d60f9e090": {
      "model_module": "@jupyter-widgets/base",
      "model_module_version": "1.2.0",
      "model_name": "LayoutModel",
      "state": {}
     },
     "983600dd40ff4f5fb042f2ca2763559e": {
      "model_module": "@jupyter-widgets/base",
      "model_module_version": "1.2.0",
      "model_name": "LayoutModel",
      "state": {}
     },
     "983635475266427386474d90aed6645b": {
      "model_module": "@jupyter-widgets/controls",
      "model_module_version": "1.5.0",
      "model_name": "ProgressStyleModel",
      "state": {
       "description_width": ""
      }
     },
     "987e4856cc8d491996ceef6677d9d398": {
      "model_module": "@jupyter-widgets/controls",
      "model_module_version": "1.5.0",
      "model_name": "HBoxModel",
      "state": {
       "children": [
        "IPY_MODEL_cf66444d8ae44d8db1cc2fbcdf7d1657",
        "IPY_MODEL_769376cbee914396aa36dc449fc5b268",
        "IPY_MODEL_c0fbcd0a47934f35b753bc4a61e61acc",
        "IPY_MODEL_3243dbf3a968490fb87410f6eae4b880"
       ],
       "layout": "IPY_MODEL_1cfe6c730257464ba8c2ad2fb3f9c081"
      }
     },
     "987ff0a872094386942feb73c8a49825": {
      "model_module": "@jupyter-widgets/controls",
      "model_module_version": "1.5.0",
      "model_name": "DescriptionStyleModel",
      "state": {
       "description_width": ""
      }
     },
     "9893575597a948379f21acce232ab063": {
      "model_module": "@jupyter-widgets/controls",
      "model_module_version": "1.5.0",
      "model_name": "DescriptionStyleModel",
      "state": {
       "description_width": ""
      }
     },
     "9920b41df0f146f294004b832568e21a": {
      "model_module": "@jupyter-widgets/base",
      "model_module_version": "1.2.0",
      "model_name": "LayoutModel",
      "state": {
       "display": "flex"
      }
     },
     "992ac18e7c89458387ccbea2a3768eb5": {
      "model_module": "@jupyter-widgets/controls",
      "model_module_version": "1.5.0",
      "model_name": "HBoxModel",
      "state": {
       "children": [
        "IPY_MODEL_5215e2dd5ddc40b89cfdd7047ce1274d",
        "IPY_MODEL_2b5e40f220d345f58d9c63d5ed790927",
        "IPY_MODEL_4f0dfe2e01264b298fb535f3d89b6834",
        "IPY_MODEL_ed20d8852f3d45b980b13035e26b5654"
       ],
       "layout": "IPY_MODEL_291ebd978ff5438d83f3a1c7b985f215"
      }
     },
     "993bf2408658451e8879dcb49c27661c": {
      "model_module": "@jupyter-widgets/controls",
      "model_module_version": "1.5.0",
      "model_name": "DescriptionStyleModel",
      "state": {
       "description_width": ""
      }
     },
     "99acac5201b4494d9527b994098b7d94": {
      "model_module": "@jupyter-widgets/base",
      "model_module_version": "1.2.0",
      "model_name": "LayoutModel",
      "state": {
       "width": "60px"
      }
     },
     "99b757d7bd9b4d628fc8869ea52bf14e": {
      "model_module": "@jupyter-widgets/controls",
      "model_module_version": "1.5.0",
      "model_name": "HBoxModel",
      "state": {
       "children": [
        "IPY_MODEL_1853dbee4d6b4eadb9fab572d2c8a2b6",
        "IPY_MODEL_95eba6d7ef834bdbabb598dba07b640e",
        "IPY_MODEL_2cfbb31bfac94252a6b0b529a46ff48b",
        "IPY_MODEL_7da4bba5f06447449a716d556e3fd1bc"
       ],
       "layout": "IPY_MODEL_af7a772aec9c490c8ee0afa1da7d3406"
      }
     },
     "99c3d45f108049a6ba5053d655961808": {
      "model_module": "@jupyter-widgets/controls",
      "model_module_version": "1.5.0",
      "model_name": "DescriptionStyleModel",
      "state": {
       "description_width": ""
      }
     },
     "9a0dc03a62b44d2f881befd585957058": {
      "model_module": "@jupyter-widgets/base",
      "model_module_version": "1.2.0",
      "model_name": "LayoutModel",
      "state": {
       "overflow": "visible",
       "width": "100%"
      }
     },
     "9a141d8d60e14bebb0df2049f85ed487": {
      "model_module": "@jupyter-widgets/controls",
      "model_module_version": "1.5.0",
      "model_name": "HBoxModel",
      "state": {
       "children": [
        "IPY_MODEL_b088e9c14abb4e51849e18d68361bf48",
        "IPY_MODEL_9c4db148b72243e99a94608ed6ef7985",
        "IPY_MODEL_f8304504e703442b8a1599a69e40de9d",
        "IPY_MODEL_b448d6079c3b42878368df6543e591a1"
       ],
       "layout": "IPY_MODEL_c072f53b02bd4844be2c59d1b61e1c49"
      }
     },
     "9a17e4f6cb204c8db9ef9856287b127c": {
      "model_module": "@jupyter-widgets/base",
      "model_module_version": "1.2.0",
      "model_name": "LayoutModel",
      "state": {
       "display": "none"
      }
     },
     "9a1ff31c840447ea96e58a7b62910bbc": {
      "model_module": "@jupyter-widgets/base",
      "model_module_version": "1.2.0",
      "model_name": "LayoutModel",
      "state": {
       "height": "32px",
       "overflow": "visible",
       "width": "100%"
      }
     },
     "9a4204591cf04df8a8f7cbbbc6493e1d": {
      "model_module": "@jupyter-widgets/controls",
      "model_module_version": "1.5.0",
      "model_name": "ProgressStyleModel",
      "state": {
       "description_width": ""
      }
     },
     "9af2314855394b8e8fc8d12f1ba9a6ae": {
      "model_module": "@jupyter-widgets/base",
      "model_module_version": "1.2.0",
      "model_name": "LayoutModel",
      "state": {
       "order": "-1",
       "overflow": "visible",
       "padding": "1px",
       "width": "0px"
      }
     },
     "9b14abdd0436484891f6d2965481ecb8": {
      "model_module": "@jupyter-widgets/controls",
      "model_module_version": "1.5.0",
      "model_name": "ButtonModel",
      "state": {
       "layout": "IPY_MODEL_5312c36970d74181a0f28e0760eb7ccc",
       "style": "IPY_MODEL_2edb5498c5ee4f57a53f1f86931c0793"
      }
     },
     "9b4201486014430e80f1678edf19b745": {
      "model_module": "@jupyter-widgets/controls",
      "model_module_version": "1.5.0",
      "model_name": "LabelModel",
      "state": {
       "layout": "IPY_MODEL_7a1d47237c8444fbb80f79f469ccd144",
       "style": "IPY_MODEL_fdfdb70b07b048c4a7dca054f960f5ad",
       "value": "     (0/1)"
      }
     },
     "9b4a63a5af6a4545b8020669d194ed7b": {
      "model_module": "@jupyter-widgets/controls",
      "model_module_version": "1.5.0",
      "model_name": "DescriptionStyleModel",
      "state": {
       "description_width": ""
      }
     },
     "9b7189406d024d72992ed0ca38b66d99": {
      "model_module": "@jupyter-widgets/controls",
      "model_module_version": "1.5.0",
      "model_name": "ButtonStyleModel",
      "state": {}
     },
     "9b8bb0a4092547f6b0b15fe44c07ce74": {
      "model_module": "@jupyter-widgets/controls",
      "model_module_version": "1.5.0",
      "model_name": "ButtonStyleModel",
      "state": {}
     },
     "9b91d6a46ab6455ab14768e06c9f0918": {
      "model_module": "@jupyter-widgets/controls",
      "model_module_version": "1.5.0",
      "model_name": "HBoxModel",
      "state": {
       "children": [
        "IPY_MODEL_00ec0da8d8944e0ea0d0b056c21c53e3",
        "IPY_MODEL_0ba902530bed4fa288cfd0cbd86bdc5c",
        "IPY_MODEL_9f12d31caf374cac8ff79bf06c3ef2fc",
        "IPY_MODEL_ffa9adc18ee74844950308e72504794e"
       ],
       "layout": "IPY_MODEL_ef48326df4c3467385a4d2b53c1363cd"
      }
     },
     "9bdbd4e764ff42fda64e0a37d6d637d6": {
      "model_module": "@jupyter-widgets/controls",
      "model_module_version": "1.5.0",
      "model_name": "IntProgressModel",
      "state": {
       "layout": "IPY_MODEL_14afe78ba9ca4a49b1c71992a49e1165",
       "style": "IPY_MODEL_02ce4b4d272c4fb5ba28cb943672e523",
       "value": 30
      }
     },
     "9c4db148b72243e99a94608ed6ef7985": {
      "model_module": "@jupyter-widgets/controls",
      "model_module_version": "1.5.0",
      "model_name": "IntProgressModel",
      "state": {
       "layout": "IPY_MODEL_d68dba797279459d8fbea24a9b76658c",
       "style": "IPY_MODEL_fa2a943f399a46c5ad2c82d92ce07364",
       "value": 30
      }
     },
     "9c5aeaa824e24e348ad6a14cc4e89bcd": {
      "model_module": "@jupyter-widgets/controls",
      "model_module_version": "1.5.0",
      "model_name": "ProgressStyleModel",
      "state": {
       "description_width": ""
      }
     },
     "9ca0b061814845af9ef2b11dfa0afcaf": {
      "model_module": "@jupyter-widgets/controls",
      "model_module_version": "1.5.0",
      "model_name": "DescriptionStyleModel",
      "state": {
       "description_width": ""
      }
     },
     "9cafdd488fdd4b91b5ff3e2949735a11": {
      "model_module": "@jupyter-widgets/controls",
      "model_module_version": "1.5.0",
      "model_name": "ProgressStyleModel",
      "state": {
       "description_width": ""
      }
     },
     "9cb71cb3911445dab0f7a516c7ad6cd5": {
      "model_module": "@jupyter-widgets/base",
      "model_module_version": "1.2.0",
      "model_name": "LayoutModel",
      "state": {}
     },
     "9d0a4994843f4e2e92212d7638038f68": {
      "model_module": "@jupyter-widgets/controls",
      "model_module_version": "1.5.0",
      "model_name": "ButtonStyleModel",
      "state": {}
     },
     "9d0bc871e6a54c6e9f53330baa770051": {
      "model_module": "@jupyter-widgets/controls",
      "model_module_version": "1.5.0",
      "model_name": "IntProgressModel",
      "state": {
       "layout": "IPY_MODEL_ed332fdd663f4918b748b12fc37cdafb",
       "style": "IPY_MODEL_19bc52d7b0f84f4fb6bab5023fe7bc36",
       "value": 30
      }
     },
     "9d29114b2c034c16aee7d57fb5684739": {
      "model_module": "@jupyter-widgets/controls",
      "model_module_version": "1.5.0",
      "model_name": "ButtonStyleModel",
      "state": {}
     },
     "9d5d72d7c16a43eaac88cba28df14478": {
      "model_module": "@jupyter-widgets/base",
      "model_module_version": "1.2.0",
      "model_name": "LayoutModel",
      "state": {
       "width": "60px"
      }
     },
     "9d6713449ee04107a210395ce1bdaf74": {
      "model_module": "@jupyter-widgets/controls",
      "model_module_version": "1.5.0",
      "model_name": "DescriptionStyleModel",
      "state": {
       "description_width": ""
      }
     },
     "9d9fc3c0338742b3bcc5080993a7c9fa": {
      "model_module": "@jupyter-widgets/controls",
      "model_module_version": "1.5.0",
      "model_name": "DescriptionStyleModel",
      "state": {
       "description_width": ""
      }
     },
     "9dd6f5e39bf9437898a3d529e99ad4d0": {
      "model_module": "@jupyter-widgets/controls",
      "model_module_version": "1.5.0",
      "model_name": "IntProgressModel",
      "state": {
       "layout": "IPY_MODEL_f6d6052770e84816a5cfc3759b75924b",
       "style": "IPY_MODEL_017008c7f1174412828f2b916b58b69d",
       "value": 30
      }
     },
     "9e06805ab65845d68c27b57a8b2383a1": {
      "model_module": "@jupyter-widgets/controls",
      "model_module_version": "1.5.0",
      "model_name": "ButtonModel",
      "state": {
       "description": "EDIT",
       "layout": "IPY_MODEL_4fdcae90fde8412295b599a05f416b05",
       "style": "IPY_MODEL_0667bd116404491f88c927be5f38d7e1"
      }
     },
     "9e17d139c95648e3af3fcadca8479fd2": {
      "model_module": "@jupyter-widgets/controls",
      "model_module_version": "1.5.0",
      "model_name": "IntProgressModel",
      "state": {
       "layout": "IPY_MODEL_64dfc8bc1a0d419cad7de40122f21717",
       "style": "IPY_MODEL_9a4204591cf04df8a8f7cbbbc6493e1d",
       "value": 30
      }
     },
     "9e28f18ba2cd431da4ea72c611ec437a": {
      "model_module": "@jupyter-widgets/controls",
      "model_module_version": "1.5.0",
      "model_name": "ProgressStyleModel",
      "state": {
       "description_width": ""
      }
     },
     "9eaf4306181c4f35938504f015a1eba6": {
      "model_module": "@jupyter-widgets/controls",
      "model_module_version": "1.5.0",
      "model_name": "DescriptionStyleModel",
      "state": {
       "description_width": ""
      }
     },
     "9f12d31caf374cac8ff79bf06c3ef2fc": {
      "model_module": "@jupyter-widgets/controls",
      "model_module_version": "1.5.0",
      "model_name": "LabelModel",
      "state": {
       "layout": "IPY_MODEL_3bde1e442d3149ee8041835231237f0a",
       "style": "IPY_MODEL_e6f12469bd3345fd881a95c8e8ccc47c",
       "value": "   objective"
      }
     },
     "9f608eef02be44c09826491e0ee426cf": {
      "model_module": "@jupyter-widgets/controls",
      "model_module_version": "1.5.0",
      "model_name": "ButtonStyleModel",
      "state": {}
     },
     "9f64713cf7b34ae69544b8a7e155276e": {
      "model_module": "@jupyter-widgets/controls",
      "model_module_version": "1.5.0",
      "model_name": "DescriptionStyleModel",
      "state": {
       "description_width": ""
      }
     },
     "9f88c14d7ac14ec2a705470bfb02d0d4": {
      "model_module": "@jupyter-widgets/base",
      "model_module_version": "1.2.0",
      "model_name": "LayoutModel",
      "state": {
       "height": "32px",
       "order": "-2",
       "width": "32px"
      }
     },
     "9fc4a562445e4a6d84e878e61a6edb09": {
      "model_module": "@jupyter-widgets/controls",
      "model_module_version": "1.5.0",
      "model_name": "ProgressStyleModel",
      "state": {
       "description_width": ""
      }
     },
     "a004404ed60e4a0790023d751acb1cb1": {
      "model_module": "@jupyter-widgets/base",
      "model_module_version": "1.2.0",
      "model_name": "LayoutModel",
      "state": {
       "width": "60px"
      }
     },
     "a00711fa9eae423391b0610670cfb9f8": {
      "model_module": "@jupyter-widgets/base",
      "model_module_version": "1.2.0",
      "model_name": "LayoutModel",
      "state": {
       "width": "60px"
      }
     },
     "a00c857babf94343a39e1a7a3f92f6b8": {
      "model_module": "@jupyter-widgets/controls",
      "model_module_version": "1.5.0",
      "model_name": "ButtonModel",
      "state": {
       "description": "EDIT",
       "layout": "IPY_MODEL_61df311dc76d414eb8b0dc1c5184c213",
       "style": "IPY_MODEL_afb789518ee54bfe85783c53d426cdf9"
      }
     },
     "a02d0efcd87044a2a172b673f7458fcd": {
      "model_module": "@jupyter-widgets/base",
      "model_module_version": "1.2.0",
      "model_name": "LayoutModel",
      "state": {
       "display": "none"
      }
     },
     "a02e3a9d21f745ea9bb8a0e1b35282a4": {
      "model_module": "@jupyter-widgets/controls",
      "model_module_version": "1.5.0",
      "model_name": "ProgressStyleModel",
      "state": {
       "description_width": ""
      }
     },
     "a04fd3d7ce0e41068c74d68ceccfde3d": {
      "model_module": "@jupyter-widgets/controls",
      "model_module_version": "1.5.0",
      "model_name": "LabelModel",
      "state": {
       "layout": "IPY_MODEL_6e11c232cd204475817f4ce12fb1cdc3",
       "style": "IPY_MODEL_49d5ee229cd9476cad80ed55b5436f3a",
       "value": "Class:"
      }
     },
     "a0616b24ad354abf9f6dcbc93f9786b3": {
      "model_module": "@jupyter-widgets/controls",
      "model_module_version": "1.5.0",
      "model_name": "ButtonStyleModel",
      "state": {}
     },
     "a08ffdf1c32944c6ac405e5aca1a8e14": {
      "model_module": "@jupyter-widgets/controls",
      "model_module_version": "1.5.0",
      "model_name": "HBoxModel",
      "state": {
       "children": [
        "IPY_MODEL_3a7588154ab14c4691e2f80728eee47e",
        "IPY_MODEL_9bdbd4e764ff42fda64e0a37d6d637d6",
        "IPY_MODEL_42dc43fb30e9460399efb52842077647",
        "IPY_MODEL_63dbbb1ab876496fb1ada251bbe03944"
       ],
       "layout": "IPY_MODEL_5ff0a6e4ec634d79b84fb7e430f1381c"
      }
     },
     "a0910fef743d4187962b6083f84acf64": {
      "model_module": "@jupyter-widgets/controls",
      "model_module_version": "1.5.0",
      "model_name": "DescriptionStyleModel",
      "state": {
       "description_width": ""
      }
     },
     "a0d81ebf3dad42e6998e58cec84f9fb9": {
      "model_module": "@jupyter-widgets/controls",
      "model_module_version": "1.5.0",
      "model_name": "DescriptionStyleModel",
      "state": {
       "description_width": ""
      }
     },
     "a1082d0f0bec4262b7c7605d5e13f1d7": {
      "model_module": "@jupyter-widgets/controls",
      "model_module_version": "1.5.0",
      "model_name": "HBoxModel",
      "state": {
       "children": [
        "IPY_MODEL_0e5e0c4dd80e4ff5ae438bce5aab561c",
        "IPY_MODEL_2dcd63c30bff4d05a7cebf21702dc41d",
        "IPY_MODEL_f26d2e1b6f314ff98e0a3500218f5750",
        "IPY_MODEL_90d5acf6f37d4cb991e9c11fe0ee75b9"
       ],
       "layout": "IPY_MODEL_c5335882439346c0b8b1e0a41ef34a02"
      }
     },
     "a10de02dc7a745089bd9097a60338ffb": {
      "model_module": "@jupyter-widgets/controls",
      "model_module_version": "1.5.0",
      "model_name": "DescriptionStyleModel",
      "state": {
       "description_width": ""
      }
     },
     "a11f714ea73f4f508556bfef9838df3d": {
      "model_module": "@jupyter-widgets/controls",
      "model_module_version": "1.5.0",
      "model_name": "ButtonStyleModel",
      "state": {}
     },
     "a121795b560b473ba6fdbe1126649ec4": {
      "model_module": "@jupyter-widgets/controls",
      "model_module_version": "1.5.0",
      "model_name": "HBoxModel",
      "state": {
       "children": [
        "IPY_MODEL_db035a35da2c43ce98fe99152488ae14",
        "IPY_MODEL_c45fb22b36524e01a90fb941e0d363f4",
        "IPY_MODEL_d6ff8b9b88e841fdab0176c58ba9fb5e",
        "IPY_MODEL_1d1756f1f37d4615a761e8b2e978522c"
       ],
       "layout": "IPY_MODEL_9660ffdfac5d4629aa0aab617c27f789"
      }
     },
     "a15989b0fcdc47b89ac29152164fe55d": {
      "model_module": "@jupyter-widgets/controls",
      "model_module_version": "1.5.0",
      "model_name": "HTMLModel",
      "state": {
       "layout": "IPY_MODEL_d6cd0ad89e284830a36696b821e7a531",
       "style": "IPY_MODEL_8cfd8d561ba849bba32b25b2d41e06a4",
       "value": "<i></i>"
      }
     },
     "a1b5d6ad87f44a848f7dc6bba55d5c84": {
      "model_module": "@jupyter-widgets/controls",
      "model_module_version": "1.5.0",
      "model_name": "ButtonStyleModel",
      "state": {}
     },
     "a1e388e5e1374187989f5e30c197c5cb": {
      "model_module": "@jupyter-widgets/controls",
      "model_module_version": "1.5.0",
      "model_name": "DescriptionStyleModel",
      "state": {
       "description_width": ""
      }
     },
     "a1f0999857cc4cd9be1ad62281867628": {
      "model_module": "@jupyter-widgets/base",
      "model_module_version": "1.2.0",
      "model_name": "LayoutModel",
      "state": {
       "display": "none"
      }
     },
     "a2168ceb19204d0daf7d42540fa8fbe2": {
      "model_module": "@jupyter-widgets/controls",
      "model_module_version": "1.5.0",
      "model_name": "ProgressStyleModel",
      "state": {
       "description_width": ""
      }
     },
     "a21ed9e5e9d149059ea55293d44d7123": {
      "model_module": "@jupyter-widgets/base",
      "model_module_version": "1.2.0",
      "model_name": "LayoutModel",
      "state": {
       "display": "none"
      }
     },
     "a26dfd3b792f486da356a853d26f889a": {
      "model_module": "@jupyter-widgets/base",
      "model_module_version": "1.2.0",
      "model_name": "LayoutModel",
      "state": {
       "height": "32px",
       "order": "-2",
       "width": "32px"
      }
     },
     "a29be911130f49128f9a3afd1a5e09be": {
      "model_module": "@jupyter-widgets/controls",
      "model_module_version": "1.5.0",
      "model_name": "ButtonModel",
      "state": {
       "description": "EDIT",
       "layout": "IPY_MODEL_6bad4b7086cc4dd6a6a03cc58f4ef350",
       "style": "IPY_MODEL_d6848bae24414cb8b5997a4293c2c5f4"
      }
     },
     "a29e05caf06e4c73a27c23daed46c5dd": {
      "model_module": "@jupyter-widgets/controls",
      "model_module_version": "1.5.0",
      "model_name": "ButtonStyleModel",
      "state": {}
     },
     "a2e0ef9bc00147f0846e6b3a8862432c": {
      "model_module": "@jupyter-widgets/controls",
      "model_module_version": "1.5.0",
      "model_name": "DescriptionStyleModel",
      "state": {
       "description_width": ""
      }
     },
     "a2e339e1cc0245c895eb6b18b242ffff": {
      "model_module": "@jupyter-widgets/base",
      "model_module_version": "1.2.0",
      "model_name": "LayoutModel",
      "state": {
       "border": "",
       "width": "98%"
      }
     },
     "a2f2b62be8704935bfd9ffef34a9fc77": {
      "model_module": "@jupyter-widgets/controls",
      "model_module_version": "1.5.0",
      "model_name": "VBoxModel",
      "state": {
       "children": [
        "IPY_MODEL_c72c5bfd5ce844c992024a9f781e6579",
        "IPY_MODEL_f07356286e94445a992a02aa00486bbd",
        "IPY_MODEL_4dcb21c512e24e1fa54779bb6ff52485",
        "IPY_MODEL_3e1e3116358549a296a305c71e68eea8"
       ],
       "layout": "IPY_MODEL_d7307f38879446ef9f411bf17bfabc72"
      }
     },
     "a300252116cf4acdaff4348beaa71dbf": {
      "model_module": "@jupyter-widgets/base",
      "model_module_version": "1.2.0",
      "model_name": "LayoutModel",
      "state": {
       "height": "32px",
       "order": "-2",
       "width": "32px"
      }
     },
     "a32cb83b4eec468f8d4ae1ee15c2aa1a": {
      "model_module": "@jupyter-widgets/controls",
      "model_module_version": "1.5.0",
      "model_name": "HBoxModel",
      "state": {
       "children": [
        "IPY_MODEL_bf7cab0bb61d49d4af8816576794f14c",
        "IPY_MODEL_4f497618712c4489ac0336b3d924ef65",
        "IPY_MODEL_b25c013071f4436988202dcb056280fe",
        "IPY_MODEL_0ca73a081591406c94e1bfb6101e946d"
       ],
       "layout": "IPY_MODEL_8c1282a57f0943689dcef5bb5d9de0b9"
      }
     },
     "a334818e3727481c9c4d2c572ab779b2": {
      "model_module": "@jupyter-widgets/base",
      "model_module_version": "1.2.0",
      "model_name": "LayoutModel",
      "state": {}
     },
     "a39468ed224142a6b2b20cb42e61535b": {
      "model_module": "@jupyter-widgets/base",
      "model_module_version": "1.2.0",
      "model_name": "LayoutModel",
      "state": {
       "order": "-1",
       "overflow": "visible",
       "padding": "1px",
       "width": "0px"
      }
     },
     "a3da10107f7e4a988542ddefab2df5d3": {
      "model_module": "@jupyter-widgets/controls",
      "model_module_version": "1.5.0",
      "model_name": "DescriptionStyleModel",
      "state": {
       "description_width": ""
      }
     },
     "a4026515f1e14295987726cb66ee0413": {
      "model_module": "@jupyter-widgets/controls",
      "model_module_version": "1.5.0",
      "model_name": "ButtonModel",
      "state": {
       "description": "EDIT",
       "layout": "IPY_MODEL_b1b9ef09861249bbbda09fd071969142",
       "style": "IPY_MODEL_a444dbe4ff734d73a030cdf4336ffbfb"
      }
     },
     "a41dc64a618e43978c58c2b9763d6100": {
      "model_module": "@jupyter-widgets/controls",
      "model_module_version": "1.5.0",
      "model_name": "ButtonStyleModel",
      "state": {}
     },
     "a421f4082c9247178143f57e4209d7e5": {
      "model_module": "@jupyter-widgets/controls",
      "model_module_version": "1.5.0",
      "model_name": "IntProgressModel",
      "state": {
       "layout": "IPY_MODEL_33492bd6dcad4b06a25ea00919d81633",
       "style": "IPY_MODEL_58104de9fe7347e0b221bca6cee8a63b",
       "value": 30
      }
     },
     "a444dbe4ff734d73a030cdf4336ffbfb": {
      "model_module": "@jupyter-widgets/controls",
      "model_module_version": "1.5.0",
      "model_name": "ButtonStyleModel",
      "state": {}
     },
     "a44d6ac6009c412298f6320e2d727b75": {
      "model_module": "@jupyter-widgets/base",
      "model_module_version": "1.2.0",
      "model_name": "LayoutModel",
      "state": {
       "height": "32px",
       "overflow": "visible",
       "width": "100%"
      }
     },
     "a45a19cc3e334bf789c256ee2e54458b": {
      "model_module": "@jupyter-widgets/controls",
      "model_module_version": "1.5.0",
      "model_name": "DropdownModel",
      "state": {
       "_options_labels": [
        "Any",
        "Gambit",
        "Gambit Prime"
       ],
       "index": 0,
       "layout": "IPY_MODEL_a2e339e1cc0245c895eb6b18b242ffff",
       "style": "IPY_MODEL_84c273e6446047f38a1a9103250f2811"
      }
     },
     "a48e1a98659e439ea886ae42fbe572dc": {
      "model_module": "@jupyter-widgets/base",
      "model_module_version": "1.2.0",
      "model_name": "LayoutModel",
      "state": {
       "height": "32px",
       "overflow": "visible",
       "width": "100%"
      }
     },
     "a50ba409c76e458e901c0d05f1ec60a8": {
      "model_module": "@jupyter-widgets/controls",
      "model_module_version": "1.5.0",
      "model_name": "VBoxModel",
      "state": {
       "children": [
        "IPY_MODEL_e7b8d68fe82042a6b8f967d86cd14dca",
        "IPY_MODEL_4969a583705f46559f3a4a4ab0cf673e",
        "IPY_MODEL_d393c127671649baa3ca5f2188ecaf20",
        "IPY_MODEL_4969a583705f46559f3a4a4ab0cf673e",
        "IPY_MODEL_6bfd35f257d840c3b7850adc9fc260cf"
       ],
       "layout": "IPY_MODEL_171fc03635594bb2b0859faf9a1d1cb6"
      }
     },
     "a50f59e809c4473e98cef12c6ecd3668": {
      "model_module": "@jupyter-widgets/base",
      "model_module_version": "1.2.0",
      "model_name": "LayoutModel",
      "state": {
       "order": "-1",
       "overflow": "visible",
       "padding": "1px",
       "width": "0px"
      }
     },
     "a5181d3f39a74bf0b1d23006998a020c": {
      "model_module": "@jupyter-widgets/base",
      "model_module_version": "1.2.0",
      "model_name": "LayoutModel",
      "state": {}
     },
     "a5f94dd79f08464db68c035a4d66e346": {
      "model_module": "@jupyter-widgets/controls",
      "model_module_version": "1.5.0",
      "model_name": "ButtonModel",
      "state": {
       "layout": "IPY_MODEL_57e8541e4e7b49f4b8c2bdb835459ad8",
       "style": "IPY_MODEL_21ba2479efc84c96ad9bde22675f077d"
      }
     },
     "a63cc19019034535b225e70d28d471f8": {
      "model_module": "@jupyter-widgets/controls",
      "model_module_version": "1.5.0",
      "model_name": "ProgressStyleModel",
      "state": {
       "description_width": ""
      }
     },
     "a64ded8a26554418a76280291dcdf7fa": {
      "model_module": "@jupyter-widgets/base",
      "model_module_version": "1.2.0",
      "model_name": "LayoutModel",
      "state": {
       "height": "32px",
       "overflow": "visible",
       "width": "100%"
      }
     },
     "a6975ca001354c409bc86c141b9a28f4": {
      "model_module": "@jupyter-widgets/base",
      "model_module_version": "1.2.0",
      "model_name": "LayoutModel",
      "state": {
       "display": "none"
      }
     },
     "a705b91fb4034f06886b1e7394f5bc44": {
      "model_module": "@jupyter-widgets/controls",
      "model_module_version": "1.5.0",
      "model_name": "ButtonModel",
      "state": {
       "layout": "IPY_MODEL_bcd90b4c1c3848db8c9d641516c59724",
       "style": "IPY_MODEL_79447e9d86b7436f93de26624917f245"
      }
     },
     "a71d39ebc941485b8172a3de8a57267c": {
      "model_module": "@jupyter-widgets/controls",
      "model_module_version": "1.5.0",
      "model_name": "ButtonModel",
      "state": {
       "layout": "IPY_MODEL_f8d5901f1b0a4aa894566a168d1c5890",
       "style": "IPY_MODEL_f6f423e1e9b047d3aceb41c388ae711c"
      }
     },
     "a76252f5b5bf4dd3aad2735db5e21074": {
      "model_module": "@jupyter-widgets/base",
      "model_module_version": "1.2.0",
      "model_name": "LayoutModel",
      "state": {
       "width": "60px"
      }
     },
     "a762e5367db943309411ed7bc3ab9e77": {
      "model_module": "@jupyter-widgets/base",
      "model_module_version": "1.2.0",
      "model_name": "LayoutModel",
      "state": {
       "order": "-1",
       "overflow": "visible",
       "padding": "1px",
       "width": "0px"
      }
     },
     "a7e2d7a668d04723a1e96d7e235c07ca": {
      "model_module": "@jupyter-widgets/controls",
      "model_module_version": "1.5.0",
      "model_name": "ButtonModel",
      "state": {
       "description": "EDIT",
       "layout": "IPY_MODEL_ac3f3975e8cc4347b4f14746790a833a",
       "style": "IPY_MODEL_87f8a24618884b479f85ca25ab7c9369"
      }
     },
     "a81fc68320114b378d1488e71a5b3fe2": {
      "model_module": "@jupyter-widgets/base",
      "model_module_version": "1.2.0",
      "model_name": "LayoutModel",
      "state": {}
     },
     "a880a68aa036478ba1c3f52fbc7479a6": {
      "model_module": "@jupyter-widgets/controls",
      "model_module_version": "1.5.0",
      "model_name": "HBoxModel",
      "state": {
       "children": [
        "IPY_MODEL_0174dfcf03e44454ae40773134fc935a",
        "IPY_MODEL_eeebdf5bbdb041e4a2cc1d1af5061235",
        "IPY_MODEL_13696560cddc46c38ecddb1db317164d",
        "IPY_MODEL_b5db7e75901a417994fb77bd4e27f917"
       ],
       "layout": "IPY_MODEL_160feb4801994283b380d1bb07505f78"
      }
     },
     "a8968b51783f44e2a1b5fb4da5fdfe0a": {
      "model_module": "@jupyter-widgets/controls",
      "model_module_version": "1.5.0",
      "model_name": "IntProgressModel",
      "state": {
       "layout": "IPY_MODEL_508fc4423cf14a289704bc1c4623803d",
       "max": 1,
       "style": "IPY_MODEL_4347cedbaaa14149a0348f58560f9012"
      }
     },
     "a8ca1d04e8e04f92848d3406625030cc": {
      "model_module": "@jupyter-widgets/controls",
      "model_module_version": "1.5.0",
      "model_name": "VBoxModel",
      "state": {
       "children": [
        "IPY_MODEL_401a85095c0a4bfab1142deb3a3717dd",
        "IPY_MODEL_41b49d0b36404c4aa880a025100d3a01",
        "IPY_MODEL_fb75d2bc124f4670a5f73ef56a4943d0",
        "IPY_MODEL_dbdcb68968594068b22daea229f8e234",
        "IPY_MODEL_57c56f2e09894154976097d2f09efe8a",
        "IPY_MODEL_91570e00c969411988ad677a01b98ef3"
       ],
       "layout": "IPY_MODEL_709ccad41ff24887a601b944a4696ed0"
      }
     },
     "a8e8fe12eacd45f7a3a271b548e38fb9": {
      "model_module": "@jupyter-widgets/controls",
      "model_module_version": "1.5.0",
      "model_name": "DropdownModel",
      "state": {
       "_options_labels": [
        "Any",
        "Hand Cannon",
        "Auto Rifle",
        "Scout Rifle",
        "Pulse Rifle",
        "Sidearm",
        "Submachine Gun",
        "Combt Bow",
        "Sniper Rifle",
        "Shotgun"
       ],
       "index": 0,
       "layout": "IPY_MODEL_a2e339e1cc0245c895eb6b18b242ffff",
       "style": "IPY_MODEL_4c35615f82b94640982bc9981720427f"
      }
     },
     "a8ea74da2bbd46af900b3fcdbf7a756c": {
      "model_module": "@jupyter-widgets/controls",
      "model_module_version": "1.5.0",
      "model_name": "ProgressStyleModel",
      "state": {
       "description_width": ""
      }
     },
     "a913445c77484b28b4d5ae3aa18afac3": {
      "model_module": "@jupyter-widgets/controls",
      "model_module_version": "1.5.0",
      "model_name": "LabelModel",
      "state": {
       "layout": "IPY_MODEL_5d9b17655c26466985ed358e20559fb0",
       "style": "IPY_MODEL_1a17bf4a0cb34fc38d3179f5c96df639",
       "value": "   objective"
      }
     },
     "a951a62f03e148f088a4c6c7cb448d92": {
      "model_module": "@jupyter-widgets/controls",
      "model_module_version": "1.5.0",
      "model_name": "HBoxModel",
      "state": {
       "children": [
        "IPY_MODEL_432527ea67bf4423ae9bb5bd7b389371",
        "IPY_MODEL_0a59aa59f8434161828156389ba8aaa8",
        "IPY_MODEL_3718bf4a51814d5a904d3a2922b7190a",
        "IPY_MODEL_6906b42c61364cf39f6d0a6679db5f47"
       ],
       "layout": "IPY_MODEL_d33adccc0d284c10b2f33784b9626988"
      }
     },
     "a970419fba2c4df290bcc2a70e7181c2": {
      "model_module": "@jupyter-widgets/controls",
      "model_module_version": "1.5.0",
      "model_name": "LabelModel",
      "state": {
       "layout": "IPY_MODEL_58c10fa9aeea4d279377fd586565bd2a",
       "style": "IPY_MODEL_b12b7f93d8a2486ca19f8ffb330dcfee",
       "value": "   objective"
      }
     },
     "a988cfff3a604ead96a8ec87dbc52017": {
      "model_module": "@jupyter-widgets/controls",
      "model_module_version": "1.5.0",
      "model_name": "HBoxModel",
      "state": {
       "children": [
        "IPY_MODEL_ad6335e22836412483ced903aecd818e",
        "IPY_MODEL_d02d04a6b19943d78c39a5cd8dc338ec",
        "IPY_MODEL_ca1ae2a96f734791bb057222e811eba5",
        "IPY_MODEL_0def9d7b612c4abb9581f8476bd3afe3"
       ],
       "layout": "IPY_MODEL_59934fe29e054fcead4286a790d74676"
      }
     },
     "a9bcbbd054fc40f698f704d77d62d26d": {
      "model_module": "@jupyter-widgets/controls",
      "model_module_version": "1.5.0",
      "model_name": "ButtonStyleModel",
      "state": {}
     },
     "a9bce69c8cee43ed83e33b193a056746": {
      "model_module": "@jupyter-widgets/base",
      "model_module_version": "1.2.0",
      "model_name": "LayoutModel",
      "state": {
       "height": "32px",
       "order": "-2",
       "width": "32px"
      }
     },
     "a9d9599fcfd440ff977a27fe657b736d": {
      "model_module": "@jupyter-widgets/controls",
      "model_module_version": "1.5.0",
      "model_name": "IntProgressModel",
      "state": {
       "layout": "IPY_MODEL_3546e0982720448d9b7e26e3f247e981",
       "style": "IPY_MODEL_6bdfdac7ee9d49fbbf6f66a95366021b",
       "value": 30
      }
     },
     "aa5ba28d92cf4085b27443d611db0e51": {
      "model_module": "@jupyter-widgets/controls",
      "model_module_version": "1.5.0",
      "model_name": "ButtonStyleModel",
      "state": {}
     },
     "aa8dccc0961f49f9a843b9962cacaba0": {
      "model_module": "@jupyter-widgets/base",
      "model_module_version": "1.2.0",
      "model_name": "LayoutModel",
      "state": {
       "height": "32px",
       "overflow": "visible",
       "width": "100%"
      }
     },
     "aacf0dd2468948aba26988a801c897c5": {
      "model_module": "@jupyter-widgets/base",
      "model_module_version": "1.2.0",
      "model_name": "LayoutModel",
      "state": {
       "height": "32px",
       "order": "-2",
       "width": "32px"
      }
     },
     "ab2d19dea93a4659b2332f5cc7c30276": {
      "model_module": "@jupyter-widgets/base",
      "model_module_version": "1.2.0",
      "model_name": "LayoutModel",
      "state": {
       "border": "3px solid white",
       "display": "flex",
       "flex": "1 1 0%",
       "margin": "10px",
       "min_width": "400px",
       "overflow": "visible",
       "padding": "10px",
       "width": "auto"
      }
     },
     "ab59e516d8c2427dae454d69b2d87495": {
      "model_module": "@jupyter-widgets/base",
      "model_module_version": "1.2.0",
      "model_name": "LayoutModel",
      "state": {
       "display": "none"
      }
     },
     "ab6e2b8774f6477ca4932502f16e6b17": {
      "model_module": "@jupyter-widgets/controls",
      "model_module_version": "1.5.0",
      "model_name": "ButtonModel",
      "state": {
       "description": "EDIT",
       "layout": "IPY_MODEL_b2390494451e411aa85a01427c862902",
       "style": "IPY_MODEL_2d4d9659ff584655bb7fda2251d48b01"
      }
     },
     "abbaa7b1cc7b456cbe0c607066dbd9d4": {
      "model_module": "@jupyter-widgets/controls",
      "model_module_version": "1.5.0",
      "model_name": "DescriptionStyleModel",
      "state": {
       "description_width": ""
      }
     },
     "abd076538f3a45448ac32ae27b55f1c7": {
      "model_module": "@jupyter-widgets/base",
      "model_module_version": "1.2.0",
      "model_name": "LayoutModel",
      "state": {
       "display": "flex",
       "flex_flow": "row wrap"
      }
     },
     "ac316156acb74d76adb81a1d29694203": {
      "model_module": "@jupyter-widgets/base",
      "model_module_version": "1.2.0",
      "model_name": "LayoutModel",
      "state": {}
     },
     "ac3998717f4443d5beab523e144f3c3f": {
      "model_module": "@jupyter-widgets/controls",
      "model_module_version": "1.5.0",
      "model_name": "ButtonModel",
      "state": {
       "description": "EDIT",
       "layout": "IPY_MODEL_5399d03104c946ed92d38e76160417d3",
       "style": "IPY_MODEL_97a8095f80b648ac98948b534c9a3af3"
      }
     },
     "ac3f3975e8cc4347b4f14746790a833a": {
      "model_module": "@jupyter-widgets/base",
      "model_module_version": "1.2.0",
      "model_name": "LayoutModel",
      "state": {
       "width": "60px"
      }
     },
     "aca063c7e70a43b996b49b4f9ee1dede": {
      "model_module": "@jupyter-widgets/base",
      "model_module_version": "1.2.0",
      "model_name": "LayoutModel",
      "state": {
       "display": "none"
      }
     },
     "acc0a9e314834d369bddab431fbd3660": {
      "model_module": "@jupyter-widgets/base",
      "model_module_version": "1.2.0",
      "model_name": "LayoutModel",
      "state": {
       "height": "32px",
       "overflow": "visible",
       "width": "100%"
      }
     },
     "ad6335e22836412483ced903aecd818e": {
      "model_module": "@jupyter-widgets/controls",
      "model_module_version": "1.5.0",
      "model_name": "ButtonModel",
      "state": {
       "layout": "IPY_MODEL_530610d47637441199b95ac2630ecb22",
       "style": "IPY_MODEL_f5ee7794c4904588838b27dee20d6ada"
      }
     },
     "ad77e11fb5594e82965279bc48cd0a7f": {
      "model_module": "@jupyter-widgets/base",
      "model_module_version": "1.2.0",
      "model_name": "LayoutModel",
      "state": {
       "height": "32px",
       "order": "-2",
       "width": "32px"
      }
     },
     "ad8c831a5e3a4a308b0f3d829288f207": {
      "model_module": "@jupyter-widgets/controls",
      "model_module_version": "1.5.0",
      "model_name": "ButtonStyleModel",
      "state": {}
     },
     "adc238859aee4978a0b5f657e6395f19": {
      "model_module": "@jupyter-widgets/base",
      "model_module_version": "1.2.0",
      "model_name": "LayoutModel",
      "state": {
       "height": "32px",
       "order": "-2",
       "width": "32px"
      }
     },
     "ade599272faf45b896cdfea0f587ae6b": {
      "model_module": "@jupyter-widgets/base",
      "model_module_version": "1.2.0",
      "model_name": "LayoutModel",
      "state": {
       "width": "60px"
      }
     },
     "ae742a219ae34096a2a05a6b81e2a439": {
      "model_module": "@jupyter-widgets/base",
      "model_module_version": "1.2.0",
      "model_name": "LayoutModel",
      "state": {
       "height": "32px",
       "overflow": "visible",
       "width": "100%"
      }
     },
     "ae8aadbe246b4585acf8930d40f2e29a": {
      "model_module": "@jupyter-widgets/base",
      "model_module_version": "1.2.0",
      "model_name": "LayoutModel",
      "state": {
       "height": "32px",
       "order": "-2",
       "width": "32px"
      }
     },
     "aec5aa3a7ab548678c37cab5e42454e0": {
      "model_module": "@jupyter-widgets/base",
      "model_module_version": "1.2.0",
      "model_name": "LayoutModel",
      "state": {
       "order": "-1",
       "overflow": "visible",
       "padding": "1px",
       "width": "0px"
      }
     },
     "af61cae4377049e88ff5a3adec4d3b93": {
      "model_module": "@jupyter-widgets/base",
      "model_module_version": "1.2.0",
      "model_name": "LayoutModel",
      "state": {
       "order": "-1",
       "overflow": "visible",
       "padding": "1px",
       "width": "0px"
      }
     },
     "af7a772aec9c490c8ee0afa1da7d3406": {
      "model_module": "@jupyter-widgets/base",
      "model_module_version": "1.2.0",
      "model_name": "LayoutModel",
      "state": {
       "display": "flex"
      }
     },
     "af86ea8207d64adaab023934630c8f5f": {
      "model_module": "@jupyter-widgets/controls",
      "model_module_version": "1.5.0",
      "model_name": "DescriptionStyleModel",
      "state": {
       "description_width": ""
      }
     },
     "afa81e0ce4ec402bb89078c26389afeb": {
      "model_module": "@jupyter-widgets/controls",
      "model_module_version": "1.5.0",
      "model_name": "ProgressStyleModel",
      "state": {
       "description_width": ""
      }
     },
     "afb789518ee54bfe85783c53d426cdf9": {
      "model_module": "@jupyter-widgets/controls",
      "model_module_version": "1.5.0",
      "model_name": "ButtonStyleModel",
      "state": {}
     },
     "afbc59719cee4743be2465de06c349e9": {
      "model_module": "@jupyter-widgets/controls",
      "model_module_version": "1.5.0",
      "model_name": "HBoxModel",
      "state": {
       "children": [
        "IPY_MODEL_f25d7cd4e820479ba79461fbc19e783e",
        "IPY_MODEL_d662948a17a740358f647041f2e6ca57",
        "IPY_MODEL_413d081284284b3abe700cfe82043d5f",
        "IPY_MODEL_0fd95d86f24b40c6947bd6ddea2d69e1"
       ],
       "layout": "IPY_MODEL_1f996f3ba1a64fe3ab7d934878a50010"
      }
     },
     "afd1516fd5e249f78c80b6d3319fd561": {
      "model_module": "@jupyter-widgets/controls",
      "model_module_version": "1.5.0",
      "model_name": "ButtonStyleModel",
      "state": {}
     },
     "affc75892bd3485d837973ab254ce883": {
      "model_module": "@jupyter-widgets/base",
      "model_module_version": "1.2.0",
      "model_name": "LayoutModel",
      "state": {
       "width": "60px"
      }
     },
     "b01934e9c2ee44c99408020e92fab5be": {
      "model_module": "@jupyter-widgets/base",
      "model_module_version": "1.2.0",
      "model_name": "LayoutModel",
      "state": {
       "height": "32px",
       "order": "-2",
       "width": "32px"
      }
     },
     "b06e97de0b9c4561bcad836acb5862ba": {
      "model_module": "@jupyter-widgets/controls",
      "model_module_version": "1.5.0",
      "model_name": "HBoxModel",
      "state": {
       "children": [
        "IPY_MODEL_877d53ef7e05414bba571913a02fb991",
        "IPY_MODEL_384c9578f2c34c6db052cb9541641dee",
        "IPY_MODEL_385002e5bb964d2a8702af72fc92f2a6",
        "IPY_MODEL_3040731593b14a95ab1847ea96dcac4a"
       ],
       "layout": "IPY_MODEL_428895204c344c0094249585c4747546"
      }
     },
     "b088e9c14abb4e51849e18d68361bf48": {
      "model_module": "@jupyter-widgets/controls",
      "model_module_version": "1.5.0",
      "model_name": "ButtonModel",
      "state": {
       "layout": "IPY_MODEL_e365465cd944492c9e51be6b33984881",
       "style": "IPY_MODEL_e59142e69090453dbc47c72c13719e8d"
      }
     },
     "b0aa9ffac00f4fb4a6bb78702614973b": {
      "model_module": "@jupyter-widgets/controls",
      "model_module_version": "1.5.0",
      "model_name": "ButtonStyleModel",
      "state": {}
     },
     "b0c3ba1cef5245a48395eec049f87e70": {
      "model_module": "@jupyter-widgets/controls",
      "model_module_version": "1.5.0",
      "model_name": "ButtonModel",
      "state": {
       "layout": "IPY_MODEL_e5602176584848d8bc2f1ae0a4595e35",
       "style": "IPY_MODEL_30eb8ec4356843aba917aa846a4f2835"
      }
     },
     "b0d159d963c74bfaa9acd2e3106c8eee": {
      "model_module": "@jupyter-widgets/controls",
      "model_module_version": "1.5.0",
      "model_name": "ProgressStyleModel",
      "state": {
       "description_width": ""
      }
     },
     "b105a35061e94ecabb9a62ae05fe598a": {
      "model_module": "@jupyter-widgets/controls",
      "model_module_version": "1.5.0",
      "model_name": "HTMLModel",
      "state": {
       "layout": "IPY_MODEL_941ce76eefa540ccaf190492408b0805",
       "style": "IPY_MODEL_4d150a2f90b9435595957fb7b15aaf48",
       "value": "<font size=\"1\">Seals/Moments of Triumph: MMXIX</font size=>"
      }
     },
     "b11d1bc187004471a039cb6a40fbeb16": {
      "model_module": "@jupyter-widgets/base",
      "model_module_version": "1.2.0",
      "model_name": "LayoutModel",
      "state": {
       "display": "none"
      }
     },
     "b12b7f93d8a2486ca19f8ffb330dcfee": {
      "model_module": "@jupyter-widgets/controls",
      "model_module_version": "1.5.0",
      "model_name": "DescriptionStyleModel",
      "state": {
       "description_width": ""
      }
     },
     "b14b0392c1864b6ea22638fa64c20763": {
      "model_module": "@jupyter-widgets/controls",
      "model_module_version": "1.5.0",
      "model_name": "ButtonModel",
      "state": {
       "layout": "IPY_MODEL_ae8aadbe246b4585acf8930d40f2e29a",
       "style": "IPY_MODEL_8dadbd2dd82f43118c377908be1b8a91"
      }
     },
     "b14fb877b30e4e6786183184722838ca": {
      "model_module": "@jupyter-widgets/controls",
      "model_module_version": "1.5.0",
      "model_name": "ButtonStyleModel",
      "state": {}
     },
     "b1b9ef09861249bbbda09fd071969142": {
      "model_module": "@jupyter-widgets/base",
      "model_module_version": "1.2.0",
      "model_name": "LayoutModel",
      "state": {
       "width": "60px"
      }
     },
     "b1bcb5d23b6d42c6a206d44f6541280a": {
      "model_module": "@jupyter-widgets/controls",
      "model_module_version": "1.5.0",
      "model_name": "ButtonStyleModel",
      "state": {}
     },
     "b1db29e43c1e4ca59fb3958859b681b4": {
      "model_module": "@jupyter-widgets/controls",
      "model_module_version": "1.5.0",
      "model_name": "DescriptionStyleModel",
      "state": {
       "description_width": ""
      }
     },
     "b1eab8a1257f446697fc21577abcbe84": {
      "model_module": "@jupyter-widgets/controls",
      "model_module_version": "1.5.0",
      "model_name": "HTMLModel",
      "state": {
       "layout": "IPY_MODEL_59f9de1c1a6f4369b0d360bb0595d4c6",
       "style": "IPY_MODEL_5a4acc20a2ec4abea93a3331bac006dc",
       "value": "<i>Defeated Skolas in the Prison of Elders in Destiny 1.</i>"
      }
     },
     "b1f38a8abfe948ec90b253110d86f265": {
      "model_module": "@jupyter-widgets/base",
      "model_module_version": "1.2.0",
      "model_name": "LayoutModel",
      "state": {
       "height": "32px",
       "order": "-2",
       "width": "32px"
      }
     },
     "b1f817ce203b4b0cb6427ea404b5746c": {
      "model_module": "@jupyter-widgets/controls",
      "model_module_version": "1.5.0",
      "model_name": "HTMLModel",
      "state": {
       "layout": "IPY_MODEL_9766dc7729d04f6b889c17c499e195ee",
       "style": "IPY_MODEL_c425803e85784c33b9dea676b2789e42",
       "value": "<font size=\"5\"><b>Strike Them Down</b></font size=>"
      }
     },
     "b21aba549e444a4b8cd7854129246fc2": {
      "model_module": "@jupyter-widgets/base",
      "model_module_version": "1.2.0",
      "model_name": "LayoutModel",
      "state": {
       "width": "60px"
      }
     },
     "b2390494451e411aa85a01427c862902": {
      "model_module": "@jupyter-widgets/base",
      "model_module_version": "1.2.0",
      "model_name": "LayoutModel",
      "state": {
       "width": "60px"
      }
     },
     "b23b3b5c03ea403f82fc5e8c98e20282": {
      "model_module": "@jupyter-widgets/controls",
      "model_module_version": "1.5.0",
      "model_name": "LabelModel",
      "state": {
       "layout": "IPY_MODEL_555905ca62c045bc9b6bdf5aca594799",
       "style": "IPY_MODEL_51100d9eb1314fa2a238acea57badc13",
       "value": "   objective"
      }
     },
     "b25c013071f4436988202dcb056280fe": {
      "model_module": "@jupyter-widgets/controls",
      "model_module_version": "1.5.0",
      "model_name": "LabelModel",
      "state": {
       "layout": "IPY_MODEL_21eb8e701722464d97decabfec17bf2e",
       "style": "IPY_MODEL_c61410bf30aa443692e22eb09721336f",
       "value": "   objective"
      }
     },
     "b3266bcb8f894ca991413ca4c01c106f": {
      "model_module": "@jupyter-widgets/base",
      "model_module_version": "1.2.0",
      "model_name": "LayoutModel",
      "state": {
       "display": "none"
      }
     },
     "b3534a44ca2e47e7b51bc875070b2c1d": {
      "model_module": "@jupyter-widgets/controls",
      "model_module_version": "1.5.0",
      "model_name": "DescriptionStyleModel",
      "state": {
       "description_width": ""
      }
     },
     "b35c5ffede30411184b9a9dd468838b4": {
      "model_module": "@jupyter-widgets/base",
      "model_module_version": "1.2.0",
      "model_name": "LayoutModel",
      "state": {
       "width": "60px"
      }
     },
     "b3bdf5721ae941568f205176e86f3add": {
      "model_module": "@jupyter-widgets/base",
      "model_module_version": "1.2.0",
      "model_name": "LayoutModel",
      "state": {
       "height": "32px",
       "order": "-2",
       "width": "32px"
      }
     },
     "b3f297e0fa374542bcd0d7de664c9399": {
      "model_module": "@jupyter-widgets/controls",
      "model_module_version": "1.5.0",
      "model_name": "DescriptionStyleModel",
      "state": {
       "description_width": ""
      }
     },
     "b43948a2e3434ec6baef86891f345930": {
      "model_module": "@jupyter-widgets/controls",
      "model_module_version": "1.5.0",
      "model_name": "LabelModel",
      "state": {
       "layout": "IPY_MODEL_f73fd22bf258486f8d4364ba559e267c",
       "style": "IPY_MODEL_af86ea8207d64adaab023934630c8f5f",
       "value": "   objective"
      }
     },
     "b448d6079c3b42878368df6543e591a1": {
      "model_module": "@jupyter-widgets/controls",
      "model_module_version": "1.5.0",
      "model_name": "ButtonModel",
      "state": {
       "description": "EDIT",
       "layout": "IPY_MODEL_271dbfbd8e754e7eb8fb03387a28d088",
       "style": "IPY_MODEL_662b5249da30422d8336e6999bf34d5e"
      }
     },
     "b44ed940ce8244dbb29ad9dca43802e7": {
      "model_module": "@jupyter-widgets/controls",
      "model_module_version": "1.5.0",
      "model_name": "DescriptionStyleModel",
      "state": {
       "description_width": ""
      }
     },
     "b48e8e6172a245618af7089aa57349f6": {
      "model_module": "@jupyter-widgets/controls",
      "model_module_version": "1.5.0",
      "model_name": "HBoxModel",
      "state": {
       "children": [
        "IPY_MODEL_e16cfaea606f4ef3971e1e3152d123ce",
        "IPY_MODEL_2b43109ef4744ee5a8e41cb73cc1bfa5",
        "IPY_MODEL_78fc4306c9214d8e973402bf4a3dbda7",
        "IPY_MODEL_16a3eede231b4c5da0ba7d54028c5915"
       ],
       "layout": "IPY_MODEL_c22beb6390844be88b2049eeddfe42af"
      }
     },
     "b4b077902f2f48d094f00a66ad2d32de": {
      "model_module": "@jupyter-widgets/controls",
      "model_module_version": "1.5.0",
      "model_name": "ButtonModel",
      "state": {
       "description": "EDIT",
       "layout": "IPY_MODEL_b60d475bc08644ec83461804fb46cb50",
       "style": "IPY_MODEL_d4dd334f15e74a29b8c5c435ca64a799"
      }
     },
     "b4b27f2335c64083a3b3b6353cb5d29d": {
      "model_module": "@jupyter-widgets/controls",
      "model_module_version": "1.5.0",
      "model_name": "ButtonStyleModel",
      "state": {}
     },
     "b506a6d677a34693b2dd5f2703802a5e": {
      "model_module": "@jupyter-widgets/controls",
      "model_module_version": "1.5.0",
      "model_name": "ButtonModel",
      "state": {
       "description": "EDIT",
       "layout": "IPY_MODEL_1c7521fbeba145bd85dafa0ab055d94c",
       "style": "IPY_MODEL_dfd94558e9584d5d8ab57b3559986d49"
      }
     },
     "b511c5533d9a47ca81f0e218215d1f7c": {
      "model_module": "@jupyter-widgets/controls",
      "model_module_version": "1.5.0",
      "model_name": "DescriptionStyleModel",
      "state": {
       "description_width": ""
      }
     },
     "b5163627e68b4833a99aab965f6431bd": {
      "model_module": "@jupyter-widgets/controls",
      "model_module_version": "1.5.0",
      "model_name": "ButtonStyleModel",
      "state": {}
     },
     "b54021d2152b490a88970b4eb21b339d": {
      "model_module": "@jupyter-widgets/controls",
      "model_module_version": "1.5.0",
      "model_name": "ProgressStyleModel",
      "state": {
       "description_width": ""
      }
     },
     "b5543274655049dbb1c7697f09cb98ab": {
      "model_module": "@jupyter-widgets/base",
      "model_module_version": "1.2.0",
      "model_name": "LayoutModel",
      "state": {
       "display": "none"
      }
     },
     "b566b11de8d34c64ae6b015e2dc5ee1a": {
      "model_module": "@jupyter-widgets/controls",
      "model_module_version": "1.5.0",
      "model_name": "HBoxModel",
      "state": {
       "children": [
        "IPY_MODEL_bc0add58d0ca4c61867672f36375d3c1",
        "IPY_MODEL_9d0bc871e6a54c6e9f53330baa770051",
        "IPY_MODEL_5934ccde3742499ea6378fbc4bed6df7",
        "IPY_MODEL_eb4dcc9f4ffd4caea87f2dbe915c4386"
       ],
       "layout": "IPY_MODEL_a6975ca001354c409bc86c141b9a28f4"
      }
     },
     "b56a22c68eed4b1da17f41611b9aa347": {
      "model_module": "@jupyter-widgets/base",
      "model_module_version": "1.2.0",
      "model_name": "LayoutModel",
      "state": {
       "height": "32px",
       "overflow": "visible",
       "width": "100%"
      }
     },
     "b5d7b9d3766d490f9290e0f2849d1184": {
      "model_module": "@jupyter-widgets/controls",
      "model_module_version": "1.5.0",
      "model_name": "DescriptionStyleModel",
      "state": {
       "description_width": ""
      }
     },
     "b5db7e75901a417994fb77bd4e27f917": {
      "model_module": "@jupyter-widgets/controls",
      "model_module_version": "1.5.0",
      "model_name": "ButtonModel",
      "state": {
       "description": "EDIT",
       "layout": "IPY_MODEL_029db24411fa4ce9886e8c256e8c23b1",
       "style": "IPY_MODEL_7d124aeaf55a4d8284dc0f86662b05fe"
      }
     },
     "b6025eaccd434d13b26ba119afb744aa": {
      "model_module": "@jupyter-widgets/controls",
      "model_module_version": "1.5.0",
      "model_name": "LabelModel",
      "state": {
       "layout": "IPY_MODEL_520d6f21b15449408cc1b7787994dd4e",
       "style": "IPY_MODEL_ecb3b4dbc06245baa5ed2005086430e1",
       "value": "   objective"
      }
     },
     "b60d475bc08644ec83461804fb46cb50": {
      "model_module": "@jupyter-widgets/base",
      "model_module_version": "1.2.0",
      "model_name": "LayoutModel",
      "state": {
       "width": "60px"
      }
     },
     "b653bbfd71f645f3a96016da473d2346": {
      "model_module": "@jupyter-widgets/controls",
      "model_module_version": "1.5.0",
      "model_name": "ButtonModel",
      "state": {
       "layout": "IPY_MODEL_b01934e9c2ee44c99408020e92fab5be",
       "style": "IPY_MODEL_95f82e6285ec44b295894ccf1ae5ef7c"
      }
     },
     "b678a7327fbf48ff821ede394b5a08f2": {
      "model_module": "@jupyter-widgets/controls",
      "model_module_version": "1.5.0",
      "model_name": "ButtonStyleModel",
      "state": {}
     },
     "b6919df598c54430ac37913c6549e55c": {
      "model_module": "@jupyter-widgets/controls",
      "model_module_version": "1.5.0",
      "model_name": "LabelModel",
      "state": {
       "layout": "IPY_MODEL_4645f7fd29164fee9d07d9b6ef9972c9",
       "style": "IPY_MODEL_14e69d80454246e3847b5862d91f0a6a",
       "value": "    Hive Larvae collected (50/50)"
      }
     },
     "b6ae1047c5c643a6828305dd1c97a9e0": {
      "model_module": "@jupyter-widgets/controls",
      "model_module_version": "1.5.0",
      "model_name": "DescriptionStyleModel",
      "state": {
       "description_width": ""
      }
     },
     "b6ef0e95464b49f1bc672d211d609f34": {
      "model_module": "@jupyter-widgets/base",
      "model_module_version": "1.2.0",
      "model_name": "LayoutModel",
      "state": {
       "height": "32px",
       "order": "-2",
       "width": "32px"
      }
     },
     "b7022973bf3b49d9a70b328d651f1a68": {
      "model_module": "@jupyter-widgets/controls",
      "model_module_version": "1.5.0",
      "model_name": "DescriptionStyleModel",
      "state": {
       "description_width": ""
      }
     },
     "b73e4a266c8144a0b7e207e56a7fd07e": {
      "model_module": "@jupyter-widgets/controls",
      "model_module_version": "1.5.0",
      "model_name": "ButtonStyleModel",
      "state": {}
     },
     "b7c9c70a84b740cabc6503a260decc00": {
      "model_module": "@jupyter-widgets/base",
      "model_module_version": "1.2.0",
      "model_name": "LayoutModel",
      "state": {
       "height": "32px",
       "overflow": "visible",
       "width": "100%"
      }
     },
     "b7e57083f9354cb68c50733acb924053": {
      "model_module": "@jupyter-widgets/controls",
      "model_module_version": "1.5.0",
      "model_name": "LabelModel",
      "state": {
       "layout": "IPY_MODEL_93af998905144ff599e0d0d00dd32d1b",
       "style": "IPY_MODEL_5e047b1fea6a419ebea647291be610ca",
       "value": "   objective"
      }
     },
     "b80788d7e41348b5a7751e75fc7d795b": {
      "model_module": "@jupyter-widgets/controls",
      "model_module_version": "1.5.0",
      "model_name": "ButtonStyleModel",
      "state": {}
     },
     "b845d49d31814272b19a8c970fcdf5c2": {
      "model_module": "@jupyter-widgets/base",
      "model_module_version": "1.2.0",
      "model_name": "LayoutModel",
      "state": {
       "width": "100px"
      }
     },
     "b87f0e4c65d14d3c90e0739bdcba36d2": {
      "model_module": "@jupyter-widgets/base",
      "model_module_version": "1.2.0",
      "model_name": "LayoutModel",
      "state": {
       "display": "flex",
       "flex_flow": "row wrap"
      }
     },
     "b88fd4966610438cac00eb1756679fab": {
      "model_module": "@jupyter-widgets/controls",
      "model_module_version": "1.5.0",
      "model_name": "HBoxModel",
      "state": {
       "children": [
        "IPY_MODEL_906bc6558bc24d9eb2b74086fad3b798",
        "IPY_MODEL_4b5f026fcd6f4554b6cadacca322e9a4",
        "IPY_MODEL_d3dd6e40f41b40759862f4b8002b823f",
        "IPY_MODEL_95e6e695777745469e0895a74c066fd5"
       ],
       "layout": "IPY_MODEL_46444497654d4335b865f96d377df230"
      }
     },
     "b8ab55bebb054a4dbf4f4f271526ef41": {
      "model_module": "@jupyter-widgets/controls",
      "model_module_version": "1.5.0",
      "model_name": "IntProgressModel",
      "state": {
       "layout": "IPY_MODEL_728d0ed77b984512a0318ce869296b7d",
       "style": "IPY_MODEL_07ae971b30bc426984d02ee5f511bdf7",
       "value": 30
      }
     },
     "b8f2211d862746c490b45105aea2fcbc": {
      "model_module": "@jupyter-widgets/base",
      "model_module_version": "1.2.0",
      "model_name": "LayoutModel",
      "state": {
       "height": "32px",
       "overflow": "visible",
       "width": "100%"
      }
     },
     "b9a09da7d7a64ffb945c2e73ca1bae9d": {
      "model_module": "@jupyter-widgets/controls",
      "model_module_version": "1.5.0",
      "model_name": "LabelModel",
      "state": {
       "layout": "IPY_MODEL_59f1762af66c4f8490def16ffb0ebb57",
       "style": "IPY_MODEL_8d7ba1100cc94333804685ed45c0e6b3",
       "value": "   objective"
      }
     },
     "b9b346355bf54646941089f5aae10a88": {
      "model_module": "@jupyter-widgets/base",
      "model_module_version": "1.2.0",
      "model_name": "LayoutModel",
      "state": {
       "width": "60px"
      }
     },
     "b9ee4c619a7a4244b1fc3660d8a0ce07": {
      "model_module": "@jupyter-widgets/controls",
      "model_module_version": "1.5.0",
      "model_name": "DescriptionStyleModel",
      "state": {
       "description_width": ""
      }
     },
     "b9fc9ce93a2e4708ae2eda7b6823d3bf": {
      "model_module": "@jupyter-widgets/base",
      "model_module_version": "1.2.0",
      "model_name": "LayoutModel",
      "state": {
       "overflow": "visible",
       "width": "100%"
      }
     },
     "ba248e0ac89345afa02c6acb3bd3c51d": {
      "model_module": "@jupyter-widgets/base",
      "model_module_version": "1.2.0",
      "model_name": "LayoutModel",
      "state": {
       "overflow": "visible",
       "width": "100%"
      }
     },
     "ba256256c8114a5298ab127004e4cf17": {
      "model_module": "@jupyter-widgets/base",
      "model_module_version": "1.2.0",
      "model_name": "LayoutModel",
      "state": {
       "order": "-1",
       "overflow": "visible",
       "padding": "1px",
       "width": "0px"
      }
     },
     "ba5bddcefca045938c5a8f961b9124b8": {
      "model_module": "@jupyter-widgets/controls",
      "model_module_version": "1.5.0",
      "model_name": "ButtonStyleModel",
      "state": {}
     },
     "ba762ff13a6e4488ba505de3d46707f9": {
      "model_module": "@jupyter-widgets/base",
      "model_module_version": "1.2.0",
      "model_name": "LayoutModel",
      "state": {
       "height": "32px",
       "order": "-2",
       "width": "32px"
      }
     },
     "ba89912e5cb247f2ad1439ece6aaee71": {
      "model_module": "@jupyter-widgets/controls",
      "model_module_version": "1.5.0",
      "model_name": "DescriptionStyleModel",
      "state": {
       "description_width": ""
      }
     },
     "ba9ad1db6e844cbc8c598db3a90180e2": {
      "model_module": "@jupyter-widgets/controls",
      "model_module_version": "1.5.0",
      "model_name": "HBoxModel",
      "state": {
       "children": [
        "IPY_MODEL_243f91df4c0f4c87a9275ac31746ea38",
        "IPY_MODEL_a8968b51783f44e2a1b5fb4da5fdfe0a",
        "IPY_MODEL_9b4201486014430e80f1678edf19b745",
        "IPY_MODEL_53a23f7d6f28430b84b72b4cc4f2e7c6"
       ],
       "layout": "IPY_MODEL_9920b41df0f146f294004b832568e21a"
      }
     },
     "ba9eae8e502441a79b7194189feb52ad": {
      "model_module": "@jupyter-widgets/controls",
      "model_module_version": "1.5.0",
      "model_name": "DescriptionStyleModel",
      "state": {
       "description_width": ""
      }
     },
     "baa4b41b93d0403187f198cf0e1b93f2": {
      "model_module": "@jupyter-widgets/controls",
      "model_module_version": "1.5.0",
      "model_name": "HTMLModel",
      "state": {
       "layout": "IPY_MODEL_38b427a8e9c94455923db935fcc90114",
       "style": "IPY_MODEL_691021ba4f46495d87a9803e37941dd0",
       "value": "<font size=\"5\"><b>IX</b></font size=>"
      }
     },
     "bb02fd1d3eee46b7bff91f76e91bfaee": {
      "model_module": "@jupyter-widgets/controls",
      "model_module_version": "1.5.0",
      "model_name": "IntProgressModel",
      "state": {
       "layout": "IPY_MODEL_10bde13c9f9f4346b89e4bcd458b6483",
       "max": 3,
       "style": "IPY_MODEL_75521234eb9f46deb8a8bb40c7cb605f",
       "value": 2
      }
     },
     "bb0ed8e8d574493bb6b4283c9adb8674": {
      "model_module": "@jupyter-widgets/controls",
      "model_module_version": "1.5.0",
      "model_name": "IntProgressModel",
      "state": {
       "layout": "IPY_MODEL_755ee355a6d64f1a94b9bc755eb67cbb",
       "style": "IPY_MODEL_889773736ff34471992ac5609658521c",
       "value": 30
      }
     },
     "bb116e4f142c4d56bb1eb96ec6eb724e": {
      "model_module": "@jupyter-widgets/controls",
      "model_module_version": "1.5.0",
      "model_name": "ButtonStyleModel",
      "state": {}
     },
     "bb2449b6a95a46808732c17fb0626715": {
      "model_module": "@jupyter-widgets/base",
      "model_module_version": "1.2.0",
      "model_name": "LayoutModel",
      "state": {
       "height": "32px",
       "order": "-2",
       "width": "32px"
      }
     },
     "bb5cfe1e208a46ce9552c57055bf4c6d": {
      "model_module": "@jupyter-widgets/base",
      "model_module_version": "1.2.0",
      "model_name": "LayoutModel",
      "state": {
       "height": "32px",
       "order": "-2",
       "width": "32px"
      }
     },
     "bb6f3173b18a4ca4856e904862b57a93": {
      "model_module": "@jupyter-widgets/controls",
      "model_module_version": "1.5.0",
      "model_name": "ButtonStyleModel",
      "state": {}
     },
     "bc0add58d0ca4c61867672f36375d3c1": {
      "model_module": "@jupyter-widgets/controls",
      "model_module_version": "1.5.0",
      "model_name": "ButtonModel",
      "state": {
       "layout": "IPY_MODEL_b3bdf5721ae941568f205176e86f3add",
       "style": "IPY_MODEL_b14fb877b30e4e6786183184722838ca"
      }
     },
     "bc27dcf36add4cb2a8702e48ede88fdd": {
      "model_module": "@jupyter-widgets/controls",
      "model_module_version": "1.5.0",
      "model_name": "VBoxModel",
      "state": {
       "children": [
        "IPY_MODEL_c0d8f28a4ad54649a7ccf62c7f2d9386",
        "IPY_MODEL_8f2c49beddbc4b0581596d107d23c893",
        "IPY_MODEL_a32cb83b4eec468f8d4ae1ee15c2aa1a",
        "IPY_MODEL_a121795b560b473ba6fdbe1126649ec4",
        "IPY_MODEL_4be6043df1d14d3b8aaf64c7e30f11d1",
        "IPY_MODEL_27b66c0162f2489aa7accf485943549c"
       ],
       "layout": "IPY_MODEL_6bf9718bc2024efd8a1915c77f47f139"
      }
     },
     "bc3fbf58693d40fda0320bf950427c13": {
      "model_module": "@jupyter-widgets/controls",
      "model_module_version": "1.5.0",
      "model_name": "LabelModel",
      "state": {
       "layout": "IPY_MODEL_ba256256c8114a5298ab127004e4cf17",
       "style": "IPY_MODEL_821aaf815de94d7b92d5a6da56bc0a96",
       "value": "   objective"
      }
     },
     "bc640961b5ee49808a61c80f8f3b3eac": {
      "model_module": "@jupyter-widgets/base",
      "model_module_version": "1.2.0",
      "model_name": "LayoutModel",
      "state": {
       "display": "flex"
      }
     },
     "bc89a778517842fdaa6d91df9dab7c8b": {
      "model_module": "@jupyter-widgets/base",
      "model_module_version": "1.2.0",
      "model_name": "LayoutModel",
      "state": {
       "height": "32px",
       "order": "-2",
       "width": "32px"
      }
     },
     "bcd90b4c1c3848db8c9d641516c59724": {
      "model_module": "@jupyter-widgets/base",
      "model_module_version": "1.2.0",
      "model_name": "LayoutModel",
      "state": {
       "height": "32px",
       "order": "-2",
       "width": "32px"
      }
     },
     "bd1f78cc80574a1c8db41b62d04750ce": {
      "model_module": "@jupyter-widgets/controls",
      "model_module_version": "1.5.0",
      "model_name": "ProgressStyleModel",
      "state": {
       "description_width": ""
      }
     },
     "bd4cfcf8601149afaab984af98897e6b": {
      "model_module": "@jupyter-widgets/base",
      "model_module_version": "1.2.0",
      "model_name": "LayoutModel",
      "state": {
       "width": "60px"
      }
     },
     "bd52d50479b148eb87db20d76cc40e70": {
      "model_module": "@jupyter-widgets/base",
      "model_module_version": "1.2.0",
      "model_name": "LayoutModel",
      "state": {}
     },
     "bd6407bea6994673b2d21743e23420cc": {
      "model_module": "@jupyter-widgets/base",
      "model_module_version": "1.2.0",
      "model_name": "LayoutModel",
      "state": {
       "height": "32px",
       "overflow": "visible",
       "width": "100%"
      }
     },
     "bd68372d5caf4dfb8b1666984c689969": {
      "model_module": "@jupyter-widgets/base",
      "model_module_version": "1.2.0",
      "model_name": "LayoutModel",
      "state": {
       "display": "flex",
       "flex_flow": "row wrap"
      }
     },
     "bd91161f2afe4bb1ad6902314c8d9602": {
      "model_module": "@jupyter-widgets/base",
      "model_module_version": "1.2.0",
      "model_name": "LayoutModel",
      "state": {
       "overflow": "visible",
       "width": "100%"
      }
     },
     "bd9ab2e7100f4d338ae0e0275ba3b9da": {
      "model_module": "@jupyter-widgets/base",
      "model_module_version": "1.2.0",
      "model_name": "LayoutModel",
      "state": {
       "height": "32px",
       "order": "-2",
       "width": "32px"
      }
     },
     "bde2639552444a6e8e5731ec26f9286b": {
      "model_module": "@jupyter-widgets/base",
      "model_module_version": "1.2.0",
      "model_name": "LayoutModel",
      "state": {
       "height": "32px",
       "order": "-2",
       "width": "32px"
      }
     },
     "be63c4c9111a4296b98693fd5cedeb49": {
      "model_module": "@jupyter-widgets/controls",
      "model_module_version": "1.5.0",
      "model_name": "ButtonModel",
      "state": {
       "description": "EDIT",
       "layout": "IPY_MODEL_93ee4d0539bb498c9b17632793d6c561",
       "style": "IPY_MODEL_a11f714ea73f4f508556bfef9838df3d"
      }
     },
     "beb19ec556a2403ba0f7aa9501762d0d": {
      "model_module": "@jupyter-widgets/base",
      "model_module_version": "1.2.0",
      "model_name": "LayoutModel",
      "state": {
       "overflow": "visible",
       "width": "100%"
      }
     },
     "beec8bb03cec43a8a9502427e3e3e65b": {
      "model_module": "@jupyter-widgets/base",
      "model_module_version": "1.2.0",
      "model_name": "LayoutModel",
      "state": {
       "width": "60px"
      }
     },
     "bef93ea42c234d268025bd3f5933a6d5": {
      "model_module": "@jupyter-widgets/base",
      "model_module_version": "1.2.0",
      "model_name": "LayoutModel",
      "state": {
       "display": "none"
      }
     },
     "bf3400139c28408d8815f87f536eb263": {
      "model_module": "@jupyter-widgets/controls",
      "model_module_version": "1.5.0",
      "model_name": "IntProgressModel",
      "state": {
       "layout": "IPY_MODEL_cfc18b4c751e420cb63dd27ed7adc05b",
       "max": 2,
       "style": "IPY_MODEL_1beab48a134b434ea7fef612f1929b6e"
      }
     },
     "bf58326469034979af983450fc168d93": {
      "model_module": "@jupyter-widgets/controls",
      "model_module_version": "1.5.0",
      "model_name": "DescriptionStyleModel",
      "state": {
       "description_width": ""
      }
     },
     "bf7cab0bb61d49d4af8816576794f14c": {
      "model_module": "@jupyter-widgets/controls",
      "model_module_version": "1.5.0",
      "model_name": "ButtonModel",
      "state": {
       "layout": "IPY_MODEL_96a69ec421ce420f968413ed5041ef56",
       "style": "IPY_MODEL_a0616b24ad354abf9f6dcbc93f9786b3"
      }
     },
     "bf7d7fdb4340499f91eb3087bd21acf1": {
      "model_module": "@jupyter-widgets/base",
      "model_module_version": "1.2.0",
      "model_name": "LayoutModel",
      "state": {
       "height": "32px",
       "order": "-2",
       "width": "32px"
      }
     },
     "bf87d8263add447199d76cfe71b3b790": {
      "model_module": "@jupyter-widgets/base",
      "model_module_version": "1.2.0",
      "model_name": "LayoutModel",
      "state": {
       "width": "60px"
      }
     },
     "c018bbd0af7641748a82fab57afea00b": {
      "model_module": "@jupyter-widgets/controls",
      "model_module_version": "1.5.0",
      "model_name": "LabelModel",
      "state": {
       "layout": "IPY_MODEL_5892d09346d24e7888869a9adec7c270",
       "style": "IPY_MODEL_ba9eae8e502441a79b7194189feb52ad",
       "value": "    Heroic Hive rituals completed (2/3)"
      }
     },
     "c072f53b02bd4844be2c59d1b61e1c49": {
      "model_module": "@jupyter-widgets/base",
      "model_module_version": "1.2.0",
      "model_name": "LayoutModel",
      "state": {
       "display": "none"
      }
     },
     "c09b801fdfeb4b3097065351761e319f": {
      "model_module": "@jupyter-widgets/base",
      "model_module_version": "1.2.0",
      "model_name": "LayoutModel",
      "state": {
       "display": "none"
      }
     },
     "c0ba6e051d5a4f8bb690c1c30d071e29": {
      "model_module": "@jupyter-widgets/controls",
      "model_module_version": "1.5.0",
      "model_name": "ProgressStyleModel",
      "state": {
       "description_width": ""
      }
     },
     "c0d8f28a4ad54649a7ccf62c7f2d9386": {
      "model_module": "@jupyter-widgets/controls",
      "model_module_version": "1.5.0",
      "model_name": "HBoxModel",
      "state": {
       "children": [
        "IPY_MODEL_3504c82c3494431ebd37bdacb7996bab",
        "IPY_MODEL_33b0d78019f047d4ab18999d11552397",
        "IPY_MODEL_4ebc3cdc1c884c81b8aa26410eaf5a95",
        "IPY_MODEL_92faa6249c6a4f9d90ecad53d9e2e6c2"
       ],
       "layout": "IPY_MODEL_556dca4c741248af92051492b32524d4"
      }
     },
     "c0fbcd0a47934f35b753bc4a61e61acc": {
      "model_module": "@jupyter-widgets/controls",
      "model_module_version": "1.5.0",
      "model_name": "LabelModel",
      "state": {
       "layout": "IPY_MODEL_725a7d19b2914f7e8a3563c7b6bbef91",
       "style": "IPY_MODEL_64e2f02797d940db92da62ed281247e8",
       "value": "   objective"
      }
     },
     "c10e13deb54a4215856b790baca36d80": {
      "model_module": "@jupyter-widgets/base",
      "model_module_version": "1.2.0",
      "model_name": "LayoutModel",
      "state": {
       "display": "none"
      }
     },
     "c12277b3f2ef4043904749f6e084b792": {
      "model_module": "@jupyter-widgets/controls",
      "model_module_version": "1.5.0",
      "model_name": "HTMLModel",
      "state": {
       "layout": "IPY_MODEL_c1a6256cfad047f0ac2ec3a4c475748f",
       "style": "IPY_MODEL_269bd7b3f9694d798f08a53a39533751",
       "value": "<i></i>"
      }
     },
     "c133baafd41645faaaccc9311582c7d3": {
      "model_module": "@jupyter-widgets/controls",
      "model_module_version": "1.5.0",
      "model_name": "ProgressStyleModel",
      "state": {
       "description_width": ""
      }
     },
     "c138bc665dbb4a8f8a0d22795b9b630d": {
      "model_module": "@jupyter-widgets/controls",
      "model_module_version": "1.5.0",
      "model_name": "ButtonModel",
      "state": {
       "description": "EDIT",
       "layout": "IPY_MODEL_87db388d31394f28bfb8a02a96ac2780",
       "style": "IPY_MODEL_6599ccb5cde34d00880213c0d9dd6126"
      }
     },
     "c1978d20248d440c95edfc8d8c20d12b": {
      "model_module": "@jupyter-widgets/controls",
      "model_module_version": "1.5.0",
      "model_name": "DropdownModel",
      "state": {
       "_options_labels": [
        "Any",
        "Arc",
        "Solar",
        "Void"
       ],
       "index": 0,
       "layout": "IPY_MODEL_a2e339e1cc0245c895eb6b18b242ffff",
       "style": "IPY_MODEL_158fcfc9cb7c4d31a3858ba30372027f"
      }
     },
     "c1a6256cfad047f0ac2ec3a4c475748f": {
      "model_module": "@jupyter-widgets/base",
      "model_module_version": "1.2.0",
      "model_name": "LayoutModel",
      "state": {
       "display": "flex",
       "flex_flow": "row wrap"
      }
     },
     "c1b2a910511e4b7a80f76bdd2667d148": {
      "model_module": "@jupyter-widgets/controls",
      "model_module_version": "1.5.0",
      "model_name": "IntProgressModel",
      "state": {
       "layout": "IPY_MODEL_23df2b39bf6648fcbaedd3c89576f24d",
       "style": "IPY_MODEL_67f4377a910d4296a7a1bb0b9b8711a7",
       "value": 30
      }
     },
     "c1bbe5eeadf249cf8ab275c43bd6b27c": {
      "model_module": "@jupyter-widgets/controls",
      "model_module_version": "1.5.0",
      "model_name": "ButtonModel",
      "state": {
       "description": "EDIT",
       "layout": "IPY_MODEL_ca97b776c63e4a3e9b3d3321481b9b4c",
       "style": "IPY_MODEL_53dc4595875a4d6e9ceafbaa447697f0"
      }
     },
     "c1cbe7bd7efa4dba829d5e74b29791b9": {
      "model_module": "@jupyter-widgets/controls",
      "model_module_version": "1.5.0",
      "model_name": "ButtonModel",
      "state": {
       "layout": "IPY_MODEL_1f13b2e424b74ca29c4633f2e6d15f64",
       "style": "IPY_MODEL_741796eac89e49d6887ab5f62f19a1b9"
      }
     },
     "c1d1d242a494439fb5d06b7807e6f972": {
      "model_module": "@jupyter-widgets/controls",
      "model_module_version": "1.5.0",
      "model_name": "LabelModel",
      "state": {
       "layout": "IPY_MODEL_eb6650b7ff2e41ca8d96da5572e144d5",
       "style": "IPY_MODEL_636a3cff22e24687b3f0c0af11dd85d3",
       "value": "     (0/1)"
      }
     },
     "c1e6adb63b164f579965bd16200531a9": {
      "model_module": "@jupyter-widgets/controls",
      "model_module_version": "1.5.0",
      "model_name": "ButtonStyleModel",
      "state": {}
     },
     "c22beb6390844be88b2049eeddfe42af": {
      "model_module": "@jupyter-widgets/base",
      "model_module_version": "1.2.0",
      "model_name": "LayoutModel",
      "state": {
       "display": "none"
      }
     },
     "c23d0c88498949c3b1f811931bb38742": {
      "model_module": "@jupyter-widgets/controls",
      "model_module_version": "1.5.0",
      "model_name": "HBoxModel",
      "state": {
       "children": [
        "IPY_MODEL_cbe3a15365944b67afd438b809bf1743",
        "IPY_MODEL_958d7237cd6a46cb9fac9abec35cbd01",
        "IPY_MODEL_2e6c4b20bbc14f089f038b8ec6d2cd1c",
        "IPY_MODEL_4f3f28d9c2c741cca17e89101c0a9fd2"
       ],
       "layout": "IPY_MODEL_ab59e516d8c2427dae454d69b2d87495"
      }
     },
     "c2a7548796a0462f81318e37b9467de8": {
      "model_module": "@jupyter-widgets/controls",
      "model_module_version": "1.5.0",
      "model_name": "DescriptionStyleModel",
      "state": {
       "description_width": ""
      }
     },
     "c2d663c1326b4cd8a8dc4b7fecc89084": {
      "model_module": "@jupyter-widgets/base",
      "model_module_version": "1.2.0",
      "model_name": "LayoutModel",
      "state": {}
     },
     "c2d957c23f12431689a31c45dd96658f": {
      "model_module": "@jupyter-widgets/controls",
      "model_module_version": "1.5.0",
      "model_name": "DescriptionStyleModel",
      "state": {
       "description_width": ""
      }
     },
     "c3825753c2024b55bc0699c7cae818a9": {
      "model_module": "@jupyter-widgets/controls",
      "model_module_version": "1.5.0",
      "model_name": "DescriptionStyleModel",
      "state": {
       "description_width": ""
      }
     },
     "c38af94a49bd4394973a1ba22c9d5392": {
      "model_module": "@jupyter-widgets/controls",
      "model_module_version": "1.5.0",
      "model_name": "ProgressStyleModel",
      "state": {
       "description_width": ""
      }
     },
     "c39c980139ae4164a44ed1412bea15c4": {
      "model_module": "@jupyter-widgets/base",
      "model_module_version": "1.2.0",
      "model_name": "LayoutModel",
      "state": {
       "border": "3px solid white",
       "display": "flex",
       "flex": "1 1 0%",
       "margin": "10px",
       "min_width": "400px",
       "overflow": "visible",
       "padding": "10px",
       "width": "auto"
      }
     },
     "c3f37fe4c67c470e8805ca5f2685b35f": {
      "model_module": "@jupyter-widgets/base",
      "model_module_version": "1.2.0",
      "model_name": "LayoutModel",
      "state": {
       "width": "60px"
      }
     },
     "c425803e85784c33b9dea676b2789e42": {
      "model_module": "@jupyter-widgets/controls",
      "model_module_version": "1.5.0",
      "model_name": "DescriptionStyleModel",
      "state": {
       "description_width": ""
      }
     },
     "c45fb22b36524e01a90fb941e0d363f4": {
      "model_module": "@jupyter-widgets/controls",
      "model_module_version": "1.5.0",
      "model_name": "IntProgressModel",
      "state": {
       "layout": "IPY_MODEL_664f5db351584cce9e83cdf8cf34addc",
       "style": "IPY_MODEL_807c026392014fda89b55eb4c7703f7a",
       "value": 30
      }
     },
     "c47d7ae854ac4ea5961098477b1ef813": {
      "model_module": "@jupyter-widgets/base",
      "model_module_version": "1.2.0",
      "model_name": "LayoutModel",
      "state": {}
     },
     "c4af7bb5cc0b44199092b75fec125f39": {
      "model_module": "@jupyter-widgets/controls",
      "model_module_version": "1.5.0",
      "model_name": "DescriptionStyleModel",
      "state": {
       "description_width": ""
      }
     },
     "c4e95a0b3a1044fe8bc61c19b86ef344": {
      "model_module": "@jupyter-widgets/base",
      "model_module_version": "1.2.0",
      "model_name": "LayoutModel",
      "state": {
       "display": "flex",
       "flex_flow": "row wrap"
      }
     },
     "c508c5203aa64ee9860063e29dd8451f": {
      "model_module": "@jupyter-widgets/controls",
      "model_module_version": "1.5.0",
      "model_name": "ProgressStyleModel",
      "state": {
       "description_width": ""
      }
     },
     "c51a87321308467c9b7c5670ef1f386d": {
      "model_module": "@jupyter-widgets/controls",
      "model_module_version": "1.5.0",
      "model_name": "ProgressStyleModel",
      "state": {
       "description_width": ""
      }
     },
     "c5261a515ee34290bb609bc7da479293": {
      "model_module": "@jupyter-widgets/controls",
      "model_module_version": "1.5.0",
      "model_name": "DescriptionStyleModel",
      "state": {
       "description_width": ""
      }
     },
     "c5267accdff3423db983bfcf7be14946": {
      "model_module": "@jupyter-widgets/base",
      "model_module_version": "1.2.0",
      "model_name": "LayoutModel",
      "state": {
       "width": "60px"
      }
     },
     "c52b648425e14011ae04629ac4b555f1": {
      "model_module": "@jupyter-widgets/base",
      "model_module_version": "1.2.0",
      "model_name": "LayoutModel",
      "state": {
       "height": "32px",
       "overflow": "visible",
       "width": "100%"
      }
     },
     "c5335882439346c0b8b1e0a41ef34a02": {
      "model_module": "@jupyter-widgets/base",
      "model_module_version": "1.2.0",
      "model_name": "LayoutModel",
      "state": {
       "display": "none"
      }
     },
     "c5684fc69d574265992c328b15c7267b": {
      "model_module": "@jupyter-widgets/controls",
      "model_module_version": "1.5.0",
      "model_name": "HBoxModel",
      "state": {
       "children": [
        "IPY_MODEL_8b16141b0e2d47629ab923fec8547cae",
        "IPY_MODEL_22649b0c6b1f465d92baaadad73f0089",
        "IPY_MODEL_d70d0915f7da4cac812e226929927136",
        "IPY_MODEL_e8cfd62292bc432190de4f386642d396"
       ],
       "layout": "IPY_MODEL_d416602bec524d3e9e1909dddc1d79e3"
      }
     },
     "c582f36dbfa640cd8143d0fd6a01bbca": {
      "model_module": "@jupyter-widgets/controls",
      "model_module_version": "1.5.0",
      "model_name": "ButtonModel",
      "state": {
       "description": "EDIT",
       "layout": "IPY_MODEL_16cf27e4ccb14acfb80b7b7132175c26",
       "style": "IPY_MODEL_e30d477df1d144ad8bee38ff6d7a4f8c"
      }
     },
     "c596e65c280a4dc7b466aca2c601706f": {
      "model_module": "@jupyter-widgets/controls",
      "model_module_version": "1.5.0",
      "model_name": "ButtonModel",
      "state": {
       "description": "EDIT",
       "layout": "IPY_MODEL_691f43c3bac6486abb274e5f72d4e755",
       "style": "IPY_MODEL_e9a3b1b598954ca8b3314996f1b01d7e"
      }
     },
     "c61410bf30aa443692e22eb09721336f": {
      "model_module": "@jupyter-widgets/controls",
      "model_module_version": "1.5.0",
      "model_name": "DescriptionStyleModel",
      "state": {
       "description_width": ""
      }
     },
     "c61af84e28224c5f9f57ac60992328a5": {
      "model_module": "@jupyter-widgets/base",
      "model_module_version": "1.2.0",
      "model_name": "LayoutModel",
      "state": {
       "width": "60px"
      }
     },
     "c63d71d69aa44968b662d9a71f5b3f96": {
      "model_module": "@jupyter-widgets/base",
      "model_module_version": "1.2.0",
      "model_name": "LayoutModel",
      "state": {}
     },
     "c656711c2dce4976bb92536412353a37": {
      "model_module": "@jupyter-widgets/controls",
      "model_module_version": "1.5.0",
      "model_name": "ProgressStyleModel",
      "state": {
       "description_width": ""
      }
     },
     "c6574d0e94e74808bfd4ca460168f334": {
      "model_module": "@jupyter-widgets/controls",
      "model_module_version": "1.5.0",
      "model_name": "ProgressStyleModel",
      "state": {
       "description_width": ""
      }
     },
     "c680dc5f818047159285495d8a48c589": {
      "model_module": "@jupyter-widgets/controls",
      "model_module_version": "1.5.0",
      "model_name": "LabelModel",
      "state": {
       "layout": "IPY_MODEL_fa85fc9e986b47f2be57ec60ed29ab41",
       "style": "IPY_MODEL_4f906c19416e4b7abc32124c9c38d80d",
       "value": "   objective"
      }
     },
     "c6bbb5deae724c888c193ed94a5dd758": {
      "model_module": "@jupyter-widgets/controls",
      "model_module_version": "1.5.0",
      "model_name": "ProgressStyleModel",
      "state": {
       "description_width": ""
      }
     },
     "c6df69cb02904814b5b119b4ccf1d9c5": {
      "model_module": "@jupyter-widgets/base",
      "model_module_version": "1.2.0",
      "model_name": "LayoutModel",
      "state": {
       "order": "-1",
       "overflow": "visible",
       "padding": "1px",
       "width": "0px"
      }
     },
     "c72c5bfd5ce844c992024a9f781e6579": {
      "model_module": "@jupyter-widgets/controls",
      "model_module_version": "1.5.0",
      "model_name": "HTMLModel",
      "state": {
       "layout": "IPY_MODEL_b9fc9ce93a2e4708ae2eda7b6823d3bf",
       "style": "IPY_MODEL_6f16f38393534b218765a85804db0464",
       "value": "<font size=\"1\">Triumphs/Gambit/Medals/Invading</font size=>"
      }
     },
     "c787e5967866439e97e3b82ef2b54751": {
      "model_module": "@jupyter-widgets/controls",
      "model_module_version": "1.5.0",
      "model_name": "VBoxModel",
      "state": {
       "children": [
        "IPY_MODEL_27f529a950a94712acfbebde94595725",
        "IPY_MODEL_cd084f4019f54c8b8fb973d9c642910c",
        "IPY_MODEL_32871f3fccae48979d3f672e1b8ce33a",
        "IPY_MODEL_1e278f44db3e4e9188f0f4c6c0e1da4a"
       ],
       "layout": "IPY_MODEL_8a91a24ffb6b47efb7a2c60b46ed8589"
      }
     },
     "c80945505d0146c197bd22f05f53a631": {
      "model_module": "@jupyter-widgets/base",
      "model_module_version": "1.2.0",
      "model_name": "LayoutModel",
      "state": {
       "height": "32px",
       "order": "-2",
       "width": "32px"
      }
     },
     "c8a2cf96a9464d7b957dcb9c39e90807": {
      "model_module": "@jupyter-widgets/controls",
      "model_module_version": "1.5.0",
      "model_name": "IntProgressModel",
      "state": {
       "layout": "IPY_MODEL_cc5433cfac9340c7ab3da30fb18aba54",
       "style": "IPY_MODEL_a2168ceb19204d0daf7d42540fa8fbe2",
       "value": 30
      }
     },
     "c8cd5d9aeaff47a49836074da0ca3bb5": {
      "model_module": "@jupyter-widgets/base",
      "model_module_version": "1.2.0",
      "model_name": "LayoutModel",
      "state": {}
     },
     "c8e4b81af7ce4a1b88fc97c831e672eb": {
      "model_module": "@jupyter-widgets/controls",
      "model_module_version": "1.5.0",
      "model_name": "HBoxModel",
      "state": {
       "children": [
        "IPY_MODEL_7601a124aa014b8586c928b4cb99298b",
        "IPY_MODEL_1e7692ccbc8c49d8a9766fa039d4920a",
        "IPY_MODEL_7698de79c35d430caf8e01bb5ba1cd6c",
        "IPY_MODEL_1ae1e6dc06fc4b74af8706feff6c96ea"
       ],
       "layout": "IPY_MODEL_6feda9657e45422abb036d8bc12e3f8f"
      }
     },
     "c8ecfb17afaa438ebdd3911393c3bc57": {
      "model_module": "@jupyter-widgets/controls",
      "model_module_version": "1.5.0",
      "model_name": "DescriptionStyleModel",
      "state": {
       "description_width": ""
      }
     },
     "c961443c3206470fbceab215b3f391b3": {
      "model_module": "@jupyter-widgets/controls",
      "model_module_version": "1.5.0",
      "model_name": "ButtonStyleModel",
      "state": {}
     },
     "c9989c63856542fc9c0d98edfa2cc4d1": {
      "model_module": "@jupyter-widgets/controls",
      "model_module_version": "1.5.0",
      "model_name": "ProgressStyleModel",
      "state": {
       "description_width": ""
      }
     },
     "c9bef31bd0244df48a49124e5f74b7c4": {
      "model_module": "@jupyter-widgets/controls",
      "model_module_version": "1.5.0",
      "model_name": "LabelModel",
      "state": {
       "layout": "IPY_MODEL_548daf6936c24af68036edf86280d012",
       "style": "IPY_MODEL_99c3d45f108049a6ba5053d655961808",
       "value": "   objective"
      }
     },
     "c9c669b77120465da2c520f0d18d72e1": {
      "model_module": "@jupyter-widgets/base",
      "model_module_version": "1.2.0",
      "model_name": "LayoutModel",
      "state": {
       "width": "60px"
      }
     },
     "c9fb850b359b487c8586299a9e8bda33": {
      "model_module": "@jupyter-widgets/controls",
      "model_module_version": "1.5.0",
      "model_name": "IntProgressModel",
      "state": {
       "layout": "IPY_MODEL_f9dbb32a0c1a4670815e2d14cdce41a3",
       "style": "IPY_MODEL_0bedf2d674b7483c8ccd9047e52e61b9",
       "value": 30
      }
     },
     "ca1ae2a96f734791bb057222e811eba5": {
      "model_module": "@jupyter-widgets/controls",
      "model_module_version": "1.5.0",
      "model_name": "LabelModel",
      "state": {
       "layout": "IPY_MODEL_657342e2e6f54971bb6b98455a4c7ed1",
       "style": "IPY_MODEL_786438605f2e41fc8170bbeafdacb6f6",
       "value": "   objective"
      }
     },
     "ca2da139518d496ab2ac977bfe57a701": {
      "model_module": "@jupyter-widgets/base",
      "model_module_version": "1.2.0",
      "model_name": "LayoutModel",
      "state": {
       "height": "32px",
       "overflow": "visible",
       "width": "100%"
      }
     },
     "ca40328e2f024f51a98a22a290a40986": {
      "model_module": "@jupyter-widgets/base",
      "model_module_version": "1.2.0",
      "model_name": "LayoutModel",
      "state": {
       "height": "32px",
       "order": "-2",
       "width": "32px"
      }
     },
     "ca4a3a737acf47bc9f13ab53317402ab": {
      "model_module": "@jupyter-widgets/controls",
      "model_module_version": "1.5.0",
      "model_name": "ButtonModel",
      "state": {
       "layout": "IPY_MODEL_82433aa4fc7b429f92aa0c2014fda17d",
       "style": "IPY_MODEL_fac0c3e1c2854e628610c71e09ce51c7"
      }
     },
     "ca52a4e65e224731ad32264c7088223e": {
      "model_module": "@jupyter-widgets/base",
      "model_module_version": "1.2.0",
      "model_name": "LayoutModel",
      "state": {
       "display": "none"
      }
     },
     "ca5bca91a37a43588ed5bb0d1479334e": {
      "model_module": "@jupyter-widgets/controls",
      "model_module_version": "1.5.0",
      "model_name": "IntProgressModel",
      "state": {
       "layout": "IPY_MODEL_d04c7be47b914ffda61b91d33eb76738",
       "style": "IPY_MODEL_e90fba9d23ae4d679bfa9c3fcec9029d",
       "value": 30
      }
     },
     "ca97b776c63e4a3e9b3d3321481b9b4c": {
      "model_module": "@jupyter-widgets/base",
      "model_module_version": "1.2.0",
      "model_name": "LayoutModel",
      "state": {
       "width": "60px"
      }
     },
     "caa732c0f99246fd8331f31aac8ad895": {
      "model_module": "@jupyter-widgets/controls",
      "model_module_version": "1.5.0",
      "model_name": "ProgressStyleModel",
      "state": {
       "description_width": ""
      }
     },
     "cab1564d0de84131ae1d4e28dabc2f06": {
      "model_module": "@jupyter-widgets/controls",
      "model_module_version": "1.5.0",
      "model_name": "ButtonStyleModel",
      "state": {}
     },
     "cac87949fce84d6186cbe9b73c131cce": {
      "model_module": "@jupyter-widgets/base",
      "model_module_version": "1.2.0",
      "model_name": "LayoutModel",
      "state": {
       "height": "20px"
      }
     },
     "cad1de628e3f4238a179fbdbb737d46d": {
      "model_module": "@jupyter-widgets/controls",
      "model_module_version": "1.5.0",
      "model_name": "ButtonModel",
      "state": {
       "description": "EDIT",
       "layout": "IPY_MODEL_e7583af3851c4d93ad8e81a73cba64bb",
       "style": "IPY_MODEL_9f608eef02be44c09826491e0ee426cf"
      }
     },
     "cb15961cc7154e8b9fda02d4f03ba475": {
      "model_module": "@jupyter-widgets/controls",
      "model_module_version": "1.5.0",
      "model_name": "ButtonModel",
      "state": {
       "description": "EDIT",
       "layout": "IPY_MODEL_32440e294c144e0592ff429dbd8db3ba",
       "style": "IPY_MODEL_03c4d30e099841a69f91d7d94fd797d8"
      }
     },
     "cb73572e0e394f12939d571f75aca77e": {
      "model_module": "@jupyter-widgets/controls",
      "model_module_version": "1.5.0",
      "model_name": "LabelModel",
      "state": {
       "layout": "IPY_MODEL_d1da43ea3dfe483fab4e8cd2f698ee04",
       "style": "IPY_MODEL_2899d1886d5d492c92059214efacb26e",
       "value": "     (0/1)"
      }
     },
     "cb8a71ff154847f0b9e661254bd0295e": {
      "model_module": "@jupyter-widgets/controls",
      "model_module_version": "1.5.0",
      "model_name": "DropdownModel",
      "state": {
       "_options_labels": [
        "Any"
       ],
       "index": 0,
       "layout": "IPY_MODEL_a2e339e1cc0245c895eb6b18b242ffff",
       "style": "IPY_MODEL_4e8ca24623e64fdb9b4f66d2b29df6ba"
      }
     },
     "cba1bb3ec5cb4f50bd593b36af14e222": {
      "model_module": "@jupyter-widgets/base",
      "model_module_version": "1.2.0",
      "model_name": "LayoutModel",
      "state": {
       "width": "60px"
      }
     },
     "cbc5a3fcc0cf4cfda4f35e7e06a9fec7": {
      "model_module": "@jupyter-widgets/base",
      "model_module_version": "1.2.0",
      "model_name": "LayoutModel",
      "state": {
       "height": "800px"
      }
     },
     "cbe3a15365944b67afd438b809bf1743": {
      "model_module": "@jupyter-widgets/controls",
      "model_module_version": "1.5.0",
      "model_name": "ButtonModel",
      "state": {
       "layout": "IPY_MODEL_ba762ff13a6e4488ba505de3d46707f9",
       "style": "IPY_MODEL_4dd4f8611f2d4ce5a0f8a8bb2ab83a7a"
      }
     },
     "cc13525154e64888a3b6df3fb20218a5": {
      "model_module": "@jupyter-widgets/controls",
      "model_module_version": "1.5.0",
      "model_name": "ButtonStyleModel",
      "state": {}
     },
     "cc5433cfac9340c7ab3da30fb18aba54": {
      "model_module": "@jupyter-widgets/base",
      "model_module_version": "1.2.0",
      "model_name": "LayoutModel",
      "state": {
       "height": "32px",
       "overflow": "visible",
       "width": "100%"
      }
     },
     "cc6ceca2ad9b43efadfc77a3abfe3c83": {
      "model_module": "@jupyter-widgets/base",
      "model_module_version": "1.2.0",
      "model_name": "LayoutModel",
      "state": {}
     },
     "cc774c38e4524c5cacebd1d224e98756": {
      "model_module": "@jupyter-widgets/controls",
      "model_module_version": "1.5.0",
      "model_name": "ButtonModel",
      "state": {
       "layout": "IPY_MODEL_ce5e478b304f47be8ee9137c6a8901b7",
       "style": "IPY_MODEL_201b9bf1532b4184bccf07ddcd025ee3"
      }
     },
     "cd084f4019f54c8b8fb973d9c642910c": {
      "model_module": "@jupyter-widgets/controls",
      "model_module_version": "1.5.0",
      "model_name": "HTMLModel",
      "state": {
       "layout": "IPY_MODEL_4cdd92e8609a4e4d8207325da18afe2b",
       "style": "IPY_MODEL_b3534a44ca2e47e7b51bc875070b2c1d",
       "value": "<font size=\"5\"><b>The Witch</b></font size=>"
      }
     },
     "cd2cee413a59456fa07990ff4ea0759a": {
      "model_module": "@jupyter-widgets/controls",
      "model_module_version": "1.5.0",
      "model_name": "DescriptionStyleModel",
      "state": {
       "description_width": ""
      }
     },
     "cdfe622b18d040659a35202937d42eb8": {
      "model_module": "@jupyter-widgets/controls",
      "model_module_version": "1.5.0",
      "model_name": "IntProgressModel",
      "state": {
       "layout": "IPY_MODEL_edbde7b4fda0443899deca27f96d00e8",
       "max": 1,
       "style": "IPY_MODEL_08ea95aa14db451aa317049c579c5ead"
      }
     },
     "ce0082f9f14043b5960cc33037ff8d97": {
      "model_module": "@jupyter-widgets/controls",
      "model_module_version": "1.5.0",
      "model_name": "ProgressStyleModel",
      "state": {
       "description_width": ""
      }
     },
     "ce254e18b42a4077b54c12af4fa67551": {
      "model_module": "@jupyter-widgets/controls",
      "model_module_version": "1.5.0",
      "model_name": "IntProgressModel",
      "state": {
       "layout": "IPY_MODEL_81a9e2fadc8a4a829b4c671f8fd65ae0",
       "style": "IPY_MODEL_399cf32e175344b487a2d982486f9365",
       "value": 30
      }
     },
     "ce39ddeae82a44e68ada5c5b8af08b0d": {
      "model_module": "@jupyter-widgets/controls",
      "model_module_version": "1.5.0",
      "model_name": "ButtonStyleModel",
      "state": {}
     },
     "ce5e478b304f47be8ee9137c6a8901b7": {
      "model_module": "@jupyter-widgets/base",
      "model_module_version": "1.2.0",
      "model_name": "LayoutModel",
      "state": {
       "height": "32px",
       "order": "-2",
       "width": "32px"
      }
     },
     "ce612d8ca58d4958a6d48c5d66defb06": {
      "model_module": "@jupyter-widgets/base",
      "model_module_version": "1.2.0",
      "model_name": "LayoutModel",
      "state": {
       "order": "-1",
       "overflow": "visible",
       "padding": "1px",
       "width": "0px"
      }
     },
     "ce797a0afd1c4d28ab0a0c6742e7eaab": {
      "model_module": "@jupyter-widgets/controls",
      "model_module_version": "1.5.0",
      "model_name": "ButtonModel",
      "state": {
       "description": "EDIT",
       "layout": "IPY_MODEL_d79faa18995542da9a2039068414c830",
       "style": "IPY_MODEL_bb6f3173b18a4ca4856e904862b57a93"
      }
     },
     "ce85e89755364422a01d950f2a3c2d28": {
      "model_module": "@jupyter-widgets/controls",
      "model_module_version": "1.5.0",
      "model_name": "ButtonStyleModel",
      "state": {}
     },
     "cf4488030d3643be81afe24d3077bca4": {
      "model_module": "@jupyter-widgets/controls",
      "model_module_version": "1.5.0",
      "model_name": "HBoxModel",
      "state": {
       "children": [
        "IPY_MODEL_971eed822d2c4d83ad3713244c105ee5",
        "IPY_MODEL_d346fb042c0e40d49441b4cf1433a2f7",
        "IPY_MODEL_da28c360692843a0bb3f4353f98065f1",
        "IPY_MODEL_15691676f6d64539858006fc1e96604b"
       ],
       "layout": "IPY_MODEL_e8b88fad2b174755a32098e4788f3683"
      }
     },
     "cf66444d8ae44d8db1cc2fbcdf7d1657": {
      "model_module": "@jupyter-widgets/controls",
      "model_module_version": "1.5.0",
      "model_name": "ButtonModel",
      "state": {
       "layout": "IPY_MODEL_aacf0dd2468948aba26988a801c897c5",
       "style": "IPY_MODEL_ef56caaf0576484aa825a25c6df315ae"
      }
     },
     "cf778dcd182d4ea090d7fb472ee2d541": {
      "model_module": "@jupyter-widgets/base",
      "model_module_version": "1.2.0",
      "model_name": "LayoutModel",
      "state": {
       "border": "2px solid #00bcd4",
       "width": "98%"
      }
     },
     "cf9b43c1d9544919a4e3fb24c9f82d5b": {
      "model_module": "@jupyter-widgets/base",
      "model_module_version": "1.2.0",
      "model_name": "LayoutModel",
      "state": {
       "width": "60px"
      }
     },
     "cfc18b4c751e420cb63dd27ed7adc05b": {
      "model_module": "@jupyter-widgets/base",
      "model_module_version": "1.2.0",
      "model_name": "LayoutModel",
      "state": {
       "height": "32px",
       "overflow": "visible",
       "width": "100%"
      }
     },
     "cfdfbc7a39d947dc89f4e4bce75ff711": {
      "model_module": "@jupyter-widgets/base",
      "model_module_version": "1.2.0",
      "model_name": "LayoutModel",
      "state": {
       "display": "flex"
      }
     },
     "d008ced914484946a98182a3f6d1deda": {
      "model_module": "@jupyter-widgets/base",
      "model_module_version": "1.2.0",
      "model_name": "LayoutModel",
      "state": {
       "display": "none"
      }
     },
     "d02d04a6b19943d78c39a5cd8dc338ec": {
      "model_module": "@jupyter-widgets/controls",
      "model_module_version": "1.5.0",
      "model_name": "IntProgressModel",
      "state": {
       "layout": "IPY_MODEL_1bdea848cf00432bbb4802b905ed14fa",
       "style": "IPY_MODEL_983635475266427386474d90aed6645b",
       "value": 30
      }
     },
     "d04c7be47b914ffda61b91d33eb76738": {
      "model_module": "@jupyter-widgets/base",
      "model_module_version": "1.2.0",
      "model_name": "LayoutModel",
      "state": {
       "height": "32px",
       "overflow": "visible",
       "width": "100%"
      }
     },
     "d08aa9ce78d24e31ad6bfd0064ec74d4": {
      "model_module": "@jupyter-widgets/base",
      "model_module_version": "1.2.0",
      "model_name": "LayoutModel",
      "state": {
       "order": "-1",
       "overflow": "visible",
       "padding": "1px",
       "width": "0px"
      }
     },
     "d08c3d9cda1a4e82bb501c23ec2f4662": {
      "model_module": "@jupyter-widgets/controls",
      "model_module_version": "1.5.0",
      "model_name": "ButtonStyleModel",
      "state": {}
     },
     "d0b6519f5c784a328c2abc4d72a2ec18": {
      "model_module": "@jupyter-widgets/controls",
      "model_module_version": "1.5.0",
      "model_name": "ButtonStyleModel",
      "state": {}
     },
     "d0c750d80f2d42fdae0fb6309290d15e": {
      "model_module": "@jupyter-widgets/controls",
      "model_module_version": "1.5.0",
      "model_name": "ButtonStyleModel",
      "state": {}
     },
     "d136b3a67eac445983e9b5840e0f3f84": {
      "model_module": "@jupyter-widgets/controls",
      "model_module_version": "1.5.0",
      "model_name": "LabelModel",
      "state": {
       "layout": "IPY_MODEL_34a430f6d82a4137b92ee13d0b8b97ea",
       "style": "IPY_MODEL_85ad5b39964647e580225e391b465d11",
       "value": "   objective"
      }
     },
     "d1442d04204e4640b662568849168a35": {
      "model_module": "@jupyter-widgets/controls",
      "model_module_version": "1.5.0",
      "model_name": "ButtonStyleModel",
      "state": {}
     },
     "d1694c713fef4e378df468db81900d64": {
      "model_module": "@jupyter-widgets/base",
      "model_module_version": "1.2.0",
      "model_name": "LayoutModel",
      "state": {}
     },
     "d17d32ecb031479d8eee9fe9ccee6f08": {
      "model_module": "@jupyter-widgets/controls",
      "model_module_version": "1.5.0",
      "model_name": "DescriptionStyleModel",
      "state": {
       "description_width": ""
      }
     },
     "d1bf59f4ab534b8493f40945875d8f00": {
      "model_module": "@jupyter-widgets/base",
      "model_module_version": "1.2.0",
      "model_name": "LayoutModel",
      "state": {
       "width": "60px"
      }
     },
     "d1da43ea3dfe483fab4e8cd2f698ee04": {
      "model_module": "@jupyter-widgets/base",
      "model_module_version": "1.2.0",
      "model_name": "LayoutModel",
      "state": {
       "order": "-1",
       "overflow": "visible",
       "padding": "1px",
       "width": "0px"
      }
     },
     "d294f5aab7c44d809594780fc0da8ed4": {
      "model_module": "@jupyter-widgets/base",
      "model_module_version": "1.2.0",
      "model_name": "LayoutModel",
      "state": {
       "display": "none"
      }
     },
     "d2ac8400158c462baed6d895ff08132b": {
      "model_module": "@jupyter-widgets/controls",
      "model_module_version": "1.5.0",
      "model_name": "HBoxModel",
      "state": {
       "children": [
        "IPY_MODEL_9307f7b139144372a04047b6abd3891e",
        "IPY_MODEL_01b272e440f941a0abe6f702a8694c1a",
        "IPY_MODEL_521da24f8db54fcf962f05a246187c02",
        "IPY_MODEL_5763325ead1d4f8ebbde33f12fe84917"
       ],
       "layout": "IPY_MODEL_d008ced914484946a98182a3f6d1deda"
      }
     },
     "d30c895c5f3a471e81a5f1fa11c98c15": {
      "model_module": "@jupyter-widgets/controls",
      "model_module_version": "1.5.0",
      "model_name": "ButtonModel",
      "state": {
       "description": "EDIT",
       "layout": "IPY_MODEL_58d98290fa3445e682f70fc3c24ec943",
       "style": "IPY_MODEL_d50e28f678b34a16b6bf0d93a4d266ea"
      }
     },
     "d30d98bc7e944d00a0fd1b27c523d38a": {
      "model_module": "@jupyter-widgets/base",
      "model_module_version": "1.2.0",
      "model_name": "LayoutModel",
      "state": {}
     },
     "d33adccc0d284c10b2f33784b9626988": {
      "model_module": "@jupyter-widgets/base",
      "model_module_version": "1.2.0",
      "model_name": "LayoutModel",
      "state": {
       "display": "none"
      }
     },
     "d346fb042c0e40d49441b4cf1433a2f7": {
      "model_module": "@jupyter-widgets/controls",
      "model_module_version": "1.5.0",
      "model_name": "IntProgressModel",
      "state": {
       "layout": "IPY_MODEL_4a9834bed4f94d00a9430a3bb5421e5a",
       "style": "IPY_MODEL_a63cc19019034535b225e70d28d471f8",
       "value": 30
      }
     },
     "d355c567e8d34265a11fa06ed5b1f401": {
      "model_module": "@jupyter-widgets/base",
      "model_module_version": "1.2.0",
      "model_name": "LayoutModel",
      "state": {
       "height": "32px",
       "order": "-2",
       "width": "32px"
      }
     },
     "d363c6728f7946ef93613d58795a38c8": {
      "model_module": "@jupyter-widgets/base",
      "model_module_version": "1.2.0",
      "model_name": "LayoutModel",
      "state": {
       "height": "32px",
       "overflow": "visible",
       "width": "100%"
      }
     },
     "d39055cee07249b1adae326fef47e1bf": {
      "model_module": "@jupyter-widgets/controls",
      "model_module_version": "1.5.0",
      "model_name": "LabelModel",
      "state": {
       "layout": "IPY_MODEL_eadd9a5a9f454f18be7a873c09008dde",
       "style": "IPY_MODEL_a2e0ef9bc00147f0846e6b3a8862432c",
       "value": "    Grenade kills (289/200)"
      }
     },
     "d393c127671649baa3ca5f2188ecaf20": {
      "model_module": "@jupyter-widgets/controls",
      "model_module_version": "1.5.0",
      "model_name": "VBoxModel",
      "state": {
       "children": [
        "IPY_MODEL_4a1e1bc68ad44e3eb93a19684b4e86c3",
        "IPY_MODEL_a04fd3d7ce0e41068c74d68ceccfde3d",
        "IPY_MODEL_1e1bf96eafdd4a70b43d88d42de9bf80",
        "IPY_MODEL_23756793d1db44a6a9888745ce4d21ca",
        "IPY_MODEL_69dc122d5b014f22a29bf8438a1cc16e",
        "IPY_MODEL_f1aef7a68b8342059c5aaf4cfd9e5cd7",
        "IPY_MODEL_cb8a71ff154847f0b9e661254bd0295e",
        "IPY_MODEL_57b47bf9db2c423dab83b77de6a7ce7a",
        "IPY_MODEL_35c4168b86de4e0bb35ba5d4f40b08a0"
       ],
       "layout": "IPY_MODEL_f9c00c41fbf64262a531544ac94fa119"
      }
     },
     "d3dd6e40f41b40759862f4b8002b823f": {
      "model_module": "@jupyter-widgets/controls",
      "model_module_version": "1.5.0",
      "model_name": "LabelModel",
      "state": {
       "layout": "IPY_MODEL_4529d2cdbfbc46aaa209b9708196fbb6",
       "style": "IPY_MODEL_1cb2d29983d1455db2b02d40943f852e",
       "value": "   objective"
      }
     },
     "d402406008e34ee9a6b2598f8e73c19d": {
      "model_module": "@jupyter-widgets/controls",
      "model_module_version": "1.5.0",
      "model_name": "ButtonStyleModel",
      "state": {}
     },
     "d416602bec524d3e9e1909dddc1d79e3": {
      "model_module": "@jupyter-widgets/base",
      "model_module_version": "1.2.0",
      "model_name": "LayoutModel",
      "state": {
       "display": "flex"
      }
     },
     "d43a7b7145364a73a72b8dff16ec94b0": {
      "model_module": "@jupyter-widgets/base",
      "model_module_version": "1.2.0",
      "model_name": "LayoutModel",
      "state": {
       "width": "60px"
      }
     },
     "d443d20fac754cdb8981d01e4c2926dc": {
      "model_module": "@jupyter-widgets/base",
      "model_module_version": "1.2.0",
      "model_name": "LayoutModel",
      "state": {
       "height": "32px",
       "overflow": "visible",
       "width": "100%"
      }
     },
     "d4dd334f15e74a29b8c5c435ca64a799": {
      "model_module": "@jupyter-widgets/controls",
      "model_module_version": "1.5.0",
      "model_name": "ButtonStyleModel",
      "state": {}
     },
     "d50e28f678b34a16b6bf0d93a4d266ea": {
      "model_module": "@jupyter-widgets/controls",
      "model_module_version": "1.5.0",
      "model_name": "ButtonStyleModel",
      "state": {}
     },
     "d54bde405b114064a11423f169730ee6": {
      "model_module": "@jupyter-widgets/controls",
      "model_module_version": "1.5.0",
      "model_name": "ProgressStyleModel",
      "state": {
       "description_width": ""
      }
     },
     "d55ff926f7e04fd2a9b39c3a07bed5e8": {
      "model_module": "@jupyter-widgets/controls",
      "model_module_version": "1.5.0",
      "model_name": "IntProgressModel",
      "state": {
       "layout": "IPY_MODEL_79629aba4f054ee4aa22e038c41664a9",
       "style": "IPY_MODEL_461bcdd6c6524036a6a27980ec8d1ff2",
       "value": 30
      }
     },
     "d5e8a652e8e44aa892c7d396fe3bc1ce": {
      "model_module": "@jupyter-widgets/controls",
      "model_module_version": "1.5.0",
      "model_name": "IntProgressModel",
      "state": {
       "layout": "IPY_MODEL_0d2dbc5f05b2429ab71fea9cc47d296e",
       "max": 15,
       "style": "IPY_MODEL_c9989c63856542fc9c0d98edfa2cc4d1",
       "value": 3
      }
     },
     "d66223ecd68c458d860c30affc8a5bcb": {
      "model_module": "@jupyter-widgets/base",
      "model_module_version": "1.2.0",
      "model_name": "LayoutModel",
      "state": {
       "height": "32px",
       "overflow": "visible",
       "width": "100%"
      }
     },
     "d662948a17a740358f647041f2e6ca57": {
      "model_module": "@jupyter-widgets/controls",
      "model_module_version": "1.5.0",
      "model_name": "IntProgressModel",
      "state": {
       "bar_style": "success",
       "layout": "IPY_MODEL_eb88dd610ded40228328d43582863b62",
       "max": 1,
       "style": "IPY_MODEL_28d40e970bde4705b7526e9758a73a9f",
       "value": 1
      }
     },
     "d66c869f13b84dc58935c6b0090d6cfc": {
      "model_module": "@jupyter-widgets/controls",
      "model_module_version": "1.5.0",
      "model_name": "ButtonModel",
      "state": {
       "layout": "IPY_MODEL_e3ce325ae77b44b28215101299d61b9c",
       "style": "IPY_MODEL_590ff819e1a5423cb2e6eda5e4bd32c5"
      }
     },
     "d684197677814771bb2edc72298488e7": {
      "model_module": "@jupyter-widgets/base",
      "model_module_version": "1.2.0",
      "model_name": "LayoutModel",
      "state": {
       "overflow": "visible",
       "width": "100%"
      }
     },
     "d6848bae24414cb8b5997a4293c2c5f4": {
      "model_module": "@jupyter-widgets/controls",
      "model_module_version": "1.5.0",
      "model_name": "ButtonStyleModel",
      "state": {}
     },
     "d68dba797279459d8fbea24a9b76658c": {
      "model_module": "@jupyter-widgets/base",
      "model_module_version": "1.2.0",
      "model_name": "LayoutModel",
      "state": {
       "height": "32px",
       "overflow": "visible",
       "width": "100%"
      }
     },
     "d6cd0ad89e284830a36696b821e7a531": {
      "model_module": "@jupyter-widgets/base",
      "model_module_version": "1.2.0",
      "model_name": "LayoutModel",
      "state": {
       "display": "flex",
       "flex_flow": "row wrap"
      }
     },
     "d6ff8b9b88e841fdab0176c58ba9fb5e": {
      "model_module": "@jupyter-widgets/controls",
      "model_module_version": "1.5.0",
      "model_name": "LabelModel",
      "state": {
       "layout": "IPY_MODEL_74276fa0af7042c49936df2a4e7733d6",
       "style": "IPY_MODEL_ee86643d8d1349a99dd2dda745109390",
       "value": "   objective"
      }
     },
     "d70d0915f7da4cac812e226929927136": {
      "model_module": "@jupyter-widgets/controls",
      "model_module_version": "1.5.0",
      "model_name": "LabelModel",
      "state": {
       "layout": "IPY_MODEL_605307a096a74587931f70fc6289693c",
       "style": "IPY_MODEL_9d9fc3c0338742b3bcc5080993a7c9fa",
       "value": "    Invitations answered (0/1)"
      }
     },
     "d7307f38879446ef9f411bf17bfabc72": {
      "model_module": "@jupyter-widgets/base",
      "model_module_version": "1.2.0",
      "model_name": "LayoutModel",
      "state": {
       "border": "3px solid white",
       "display": "flex",
       "flex": "1 1 0%",
       "margin": "10px",
       "min_width": "400px",
       "overflow": "visible",
       "padding": "10px",
       "width": "auto"
      }
     },
     "d76e73eedc514842b0429e245695ad83": {
      "model_module": "@jupyter-widgets/base",
      "model_module_version": "1.2.0",
      "model_name": "LayoutModel",
      "state": {
       "width": "60px"
      }
     },
     "d7866957180041069286bffe666aadfa": {
      "model_module": "@jupyter-widgets/controls",
      "model_module_version": "1.5.0",
      "model_name": "ButtonModel",
      "state": {
       "layout": "IPY_MODEL_0b56f75fb7824a7e9b93ddc1039d4ac5",
       "style": "IPY_MODEL_aa5ba28d92cf4085b27443d611db0e51"
      }
     },
     "d791ddeb541b4bf6827c90d9e1f26e8b": {
      "model_module": "@jupyter-widgets/controls",
      "model_module_version": "1.5.0",
      "model_name": "ProgressStyleModel",
      "state": {
       "description_width": ""
      }
     },
     "d79faa18995542da9a2039068414c830": {
      "model_module": "@jupyter-widgets/base",
      "model_module_version": "1.2.0",
      "model_name": "LayoutModel",
      "state": {
       "width": "60px"
      }
     },
     "d7a5fc50c6f443b0ad35400f9d1e2497": {
      "model_module": "@jupyter-widgets/controls",
      "model_module_version": "1.5.0",
      "model_name": "ProgressStyleModel",
      "state": {
       "description_width": ""
      }
     },
     "d7bdd77357ca43a18f2a7e51f148d551": {
      "model_module": "@jupyter-widgets/controls",
      "model_module_version": "1.5.0",
      "model_name": "ButtonStyleModel",
      "state": {}
     },
     "d7d804bacdbd4fccac9aa9de25153b69": {
      "model_module": "@jupyter-widgets/base",
      "model_module_version": "1.2.0",
      "model_name": "LayoutModel",
      "state": {
       "display": "none"
      }
     },
     "d7de220cdb9e442aa40b010b71aa0867": {
      "model_module": "@jupyter-widgets/controls",
      "model_module_version": "1.5.0",
      "model_name": "VBoxModel",
      "state": {
       "children": [
        "IPY_MODEL_0adda05299634a17a4a124d0b666fd5e",
        "IPY_MODEL_3ea2912b8bdc4447b34d80feacac5e6a",
        "IPY_MODEL_3526d8d2eb2a4056b68b63005458377e",
        "IPY_MODEL_8ca2d8c2dd3e47ca90cf5f795f91522d"
       ],
       "layout": "IPY_MODEL_6e89672b52e64257bd7d22e870092b93"
      }
     },
     "d8226a9c68db4b71902a6b6e4388b4a3": {
      "model_module": "@jupyter-widgets/base",
      "model_module_version": "1.2.0",
      "model_name": "LayoutModel",
      "state": {
       "height": "32px",
       "overflow": "visible",
       "width": "100%"
      }
     },
     "d84fee50304c48cf8684c91299b96667": {
      "model_module": "@jupyter-widgets/controls",
      "model_module_version": "1.5.0",
      "model_name": "HBoxModel",
      "state": {
       "children": [
        "IPY_MODEL_a705b91fb4034f06886b1e7394f5bc44",
        "IPY_MODEL_10e658ae16274e1d9a2d246fb8a6d6f8",
        "IPY_MODEL_b23b3b5c03ea403f82fc5e8c98e20282",
        "IPY_MODEL_e197bf4df86c41e1b19e970b60a6390c"
       ],
       "layout": "IPY_MODEL_e4c9338a3c1a4f1696353df03efb7f87"
      }
     },
     "d85a8ab6493b4fe992ea123b0cf3321b": {
      "model_module": "@jupyter-widgets/controls",
      "model_module_version": "1.5.0",
      "model_name": "ButtonModel",
      "state": {
       "layout": "IPY_MODEL_1141363e5e994acd89e589586ba44645",
       "style": "IPY_MODEL_77952ec561b542cb9b4433ba04b872d0"
      }
     },
     "d866798a44af4256acb545ce03b3ec23": {
      "model_module": "@jupyter-widgets/base",
      "model_module_version": "1.2.0",
      "model_name": "LayoutModel",
      "state": {
       "height": "32px",
       "order": "-2",
       "width": "32px"
      }
     },
     "d9189af959bd40bd8a2d5538bc947e11": {
      "model_module": "@jupyter-widgets/base",
      "model_module_version": "1.2.0",
      "model_name": "LayoutModel",
      "state": {
       "display": "none"
      }
     },
     "d984a5b22ecc4ab79f1a082ebcaacfff": {
      "model_module": "@jupyter-widgets/base",
      "model_module_version": "1.2.0",
      "model_name": "LayoutModel",
      "state": {
       "height": "32px",
       "order": "-2",
       "width": "32px"
      }
     },
     "d9c0129748624fbabaecb3b76c3b14ff": {
      "model_module": "@jupyter-widgets/controls",
      "model_module_version": "1.5.0",
      "model_name": "ProgressStyleModel",
      "state": {
       "description_width": ""
      }
     },
     "da28c360692843a0bb3f4353f98065f1": {
      "model_module": "@jupyter-widgets/controls",
      "model_module_version": "1.5.0",
      "model_name": "LabelModel",
      "state": {
       "layout": "IPY_MODEL_16ae67d078a24c999e44f0c7694ea3c1",
       "style": "IPY_MODEL_429b51a63a6a434d93d5c2568bba4397",
       "value": "   objective"
      }
     },
     "da2a1117dccb4b1eace372cd04499d84": {
      "model_module": "@jupyter-widgets/controls",
      "model_module_version": "1.5.0",
      "model_name": "ProgressStyleModel",
      "state": {
       "description_width": ""
      }
     },
     "da434402d2254cd38c585c960e670cae": {
      "model_module": "@jupyter-widgets/controls",
      "model_module_version": "1.5.0",
      "model_name": "DescriptionStyleModel",
      "state": {
       "description_width": ""
      }
     },
     "daa072431f9f49cf8cffe71775d6c1a8": {
      "model_module": "@jupyter-widgets/controls",
      "model_module_version": "1.5.0",
      "model_name": "DescriptionStyleModel",
      "state": {
       "description_width": ""
      }
     },
     "dabdf4470b49406e81f81367f3c0efb8": {
      "model_module": "@jupyter-widgets/base",
      "model_module_version": "1.2.0",
      "model_name": "LayoutModel",
      "state": {
       "overflow": "visible",
       "width": "100%"
      }
     },
     "dac1966faa1f4cc4b686013bcabeb2f5": {
      "model_module": "@jupyter-widgets/base",
      "model_module_version": "1.2.0",
      "model_name": "LayoutModel",
      "state": {
       "overflow": "visible",
       "width": "100%"
      }
     },
     "dafcc5c2503e489d883ccb413109fbf2": {
      "model_module": "@jupyter-widgets/controls",
      "model_module_version": "1.5.0",
      "model_name": "ButtonStyleModel",
      "state": {}
     },
     "db035a35da2c43ce98fe99152488ae14": {
      "model_module": "@jupyter-widgets/controls",
      "model_module_version": "1.5.0",
      "model_name": "ButtonModel",
      "state": {
       "layout": "IPY_MODEL_945b76c5ce49409686d5dbeee4f0da65",
       "style": "IPY_MODEL_43e8d16b52744af4bb03b51d017bcf28"
      }
     },
     "db08f5937d2949a8ae251f0ffbf7cb4f": {
      "model_module": "@jupyter-widgets/controls",
      "model_module_version": "1.5.0",
      "model_name": "ButtonModel",
      "state": {
       "description": "EDIT",
       "layout": "IPY_MODEL_5f1b63a3e2cf45548fc5591eff3bcd15",
       "style": "IPY_MODEL_147895523da34970b43241918ade8baf"
      }
     },
     "db7421a832884387a03ee423c3158e6d": {
      "model_module": "@jupyter-widgets/base",
      "model_module_version": "1.2.0",
      "model_name": "LayoutModel",
      "state": {
       "order": "-1",
       "overflow": "visible",
       "padding": "1px",
       "width": "0px"
      }
     },
     "db96091ea682408bab227c1ca6e2695b": {
      "model_module": "@jupyter-widgets/controls",
      "model_module_version": "1.5.0",
      "model_name": "ButtonStyleModel",
      "state": {}
     },
     "dbbdc900154547ff8c6db1739649bcc7": {
      "model_module": "@jupyter-widgets/controls",
      "model_module_version": "1.5.0",
      "model_name": "LabelModel",
      "state": {
       "layout": "IPY_MODEL_75ee68222efc4382ad32e6ff82e59dc9",
       "style": "IPY_MODEL_65fcc13fa642430eb391b0da488b43b5",
       "value": "   objective"
      }
     },
     "dbdcb68968594068b22daea229f8e234": {
      "model_module": "@jupyter-widgets/controls",
      "model_module_version": "1.5.0",
      "model_name": "HBoxModel",
      "state": {
       "children": [
        "IPY_MODEL_85c22ea68ee64640b1ae506ae36f9040",
        "IPY_MODEL_87c7226e6fac4270bfae18315cf9eb7a",
        "IPY_MODEL_4cb1b86e04fc4c44968dd3e080aeefec",
        "IPY_MODEL_ab6e2b8774f6477ca4932502f16e6b17"
       ],
       "layout": "IPY_MODEL_a1f0999857cc4cd9be1ad62281867628"
      }
     },
     "dc6107b14e5043e5b75c8b28f865fdf9": {
      "model_module": "@jupyter-widgets/controls",
      "model_module_version": "1.5.0",
      "model_name": "IntProgressModel",
      "state": {
       "layout": "IPY_MODEL_a64ded8a26554418a76280291dcdf7fa",
       "style": "IPY_MODEL_9c5aeaa824e24e348ad6a14cc4e89bcd",
       "value": 30
      }
     },
     "dc94b8ffe9f742f4bc0a8d66f1c05b4b": {
      "model_module": "@jupyter-widgets/controls",
      "model_module_version": "1.5.0",
      "model_name": "ButtonStyleModel",
      "state": {}
     },
     "dcb201addbd1473db6af819a2c6ab864": {
      "model_module": "@jupyter-widgets/controls",
      "model_module_version": "1.5.0",
      "model_name": "ProgressStyleModel",
      "state": {
       "description_width": ""
      }
     },
     "dcbd410db1d84d47909eda9c50059849": {
      "model_module": "@jupyter-widgets/base",
      "model_module_version": "1.2.0",
      "model_name": "LayoutModel",
      "state": {
       "overflow": "visible",
       "width": "100%"
      }
     },
     "dcc9868d51ff48a1bb81b20ec14d2ea7": {
      "model_module": "@jupyter-widgets/controls",
      "model_module_version": "1.5.0",
      "model_name": "ButtonStyleModel",
      "state": {}
     },
     "dce6426b721d4deb9a84cd13ee4139e7": {
      "model_module": "@jupyter-widgets/controls",
      "model_module_version": "1.5.0",
      "model_name": "IntProgressModel",
      "state": {
       "layout": "IPY_MODEL_3fd850dd2b7447908260a9ff24b034c3",
       "style": "IPY_MODEL_6496a9ee208c4ee3975e6554636146d2",
       "value": 30
      }
     },
     "dd2b634b646b4d53b102fe4af323f997": {
      "model_module": "@jupyter-widgets/controls",
      "model_module_version": "1.5.0",
      "model_name": "LabelModel",
      "state": {
       "layout": "IPY_MODEL_28ef6ace702c47c4beb3faceab493cc4",
       "style": "IPY_MODEL_1340b88460bd4b9094d09788229eda58",
       "value": "    Sleeper Nodes accessed (3/15)"
      }
     },
     "ddb53d9517754a4a99923c7bd9dd97d2": {
      "model_module": "@jupyter-widgets/controls",
      "model_module_version": "1.5.0",
      "model_name": "LabelModel",
      "state": {
       "layout": "IPY_MODEL_471f9e56869b49f9bb73f7c9f63abe93",
       "style": "IPY_MODEL_da434402d2254cd38c585c960e670cae",
       "value": "   objective"
      }
     },
     "ddcb13c29b2640878aa502e13aa455c0": {
      "model_module": "@jupyter-widgets/controls",
      "model_module_version": "1.5.0",
      "model_name": "ButtonModel",
      "state": {
       "description": "EDIT",
       "layout": "IPY_MODEL_4cf0cba404c94f449953be78b456ac34",
       "style": "IPY_MODEL_afd1516fd5e249f78c80b6d3319fd561"
      }
     },
     "dde53ea236d74524a649f0b372a0b722": {
      "model_module": "@jupyter-widgets/controls",
      "model_module_version": "1.5.0",
      "model_name": "LabelModel",
      "state": {
       "layout": "IPY_MODEL_5bd567428cde41308a8fce736b4fe223",
       "style": "IPY_MODEL_894da0e29dff4d85ba83d87e8dcaa5c3",
       "value": "   objective"
      }
     },
     "ddf0b376c18e4b288403508298bc6325": {
      "model_module": "@jupyter-widgets/controls",
      "model_module_version": "1.5.0",
      "model_name": "IntProgressModel",
      "state": {
       "layout": "IPY_MODEL_0a863d4bca6f493a84a1c24c4886cc62",
       "style": "IPY_MODEL_160f496a2be44929a68deaa5a5b1e028",
       "value": 30
      }
     },
     "de09225346274b8c8a162563e0e1599c": {
      "model_module": "@jupyter-widgets/base",
      "model_module_version": "1.2.0",
      "model_name": "LayoutModel",
      "state": {
       "order": "-1",
       "overflow": "visible",
       "padding": "1px",
       "width": "0px"
      }
     },
     "de32fde5fc1740ee877d58ad9d8937bc": {
      "model_module": "@jupyter-widgets/controls",
      "model_module_version": "1.5.0",
      "model_name": "HTMLModel",
      "state": {
       "layout": "IPY_MODEL_1c74b4179e474507bdd2f9bc67396e29",
       "style": "IPY_MODEL_53a034cd55b14694ab7aafa6a824f19b",
       "value": "<font size=\"1\">Triumphs/Lore/Dusk and Dawn/Revelation</font size=>"
      }
     },
     "dec268b7770f4f5dba9911ac605e004f": {
      "model_module": "@jupyter-widgets/controls",
      "model_module_version": "1.5.0",
      "model_name": "LabelModel",
      "state": {
       "layout": "IPY_MODEL_e6406b87459c4e1aafe0b4ef768432af",
       "style": "IPY_MODEL_77f64f5731d045349a221d478da76c17",
       "value": "   objective"
      }
     },
     "df4e05e7cb1742e0b647d7e120add201": {
      "model_module": "@jupyter-widgets/controls",
      "model_module_version": "1.5.0",
      "model_name": "ButtonStyleModel",
      "state": {}
     },
     "df60a927ebc947aabc6686c9203a555b": {
      "model_module": "@jupyter-widgets/base",
      "model_module_version": "1.2.0",
      "model_name": "LayoutModel",
      "state": {
       "width": "60px"
      }
     },
     "df7b0cf6c95447ddb7840c99594634d8": {
      "model_module": "@jupyter-widgets/base",
      "model_module_version": "1.2.0",
      "model_name": "LayoutModel",
      "state": {
       "order": "-1",
       "overflow": "visible",
       "padding": "1px",
       "width": "0px"
      }
     },
     "dfc5f36ec30b4b268343f6de29e3ab91": {
      "model_module": "@jupyter-widgets/controls",
      "model_module_version": "1.5.0",
      "model_name": "ProgressStyleModel",
      "state": {
       "description_width": ""
      }
     },
     "dfd94558e9584d5d8ab57b3559986d49": {
      "model_module": "@jupyter-widgets/controls",
      "model_module_version": "1.5.0",
      "model_name": "ButtonStyleModel",
      "state": {}
     },
     "dfdcfdc5999b4ca6831a857829b075b5": {
      "model_module": "@jupyter-widgets/base",
      "model_module_version": "1.2.0",
      "model_name": "LayoutModel",
      "state": {
       "display": "flex",
       "flex_flow": "row wrap"
      }
     },
     "dffcfea91c884c48901fc45911128cb9": {
      "model_module": "@jupyter-widgets/controls",
      "model_module_version": "1.5.0",
      "model_name": "IntProgressModel",
      "state": {
       "bar_style": "success",
       "layout": "IPY_MODEL_84fc2009412240cb9851592bdccfde47",
       "max": 200,
       "style": "IPY_MODEL_4b05d2da61da44c39cfbedfdc3b2d4f9",
       "value": 200
      }
     },
     "e00ebd325eb84976899a7d31b276c443": {
      "model_module": "@jupyter-widgets/controls",
      "model_module_version": "1.5.0",
      "model_name": "ButtonStyleModel",
      "state": {}
     },
     "e0229743ea674180a61e724940ff088c": {
      "model_module": "@jupyter-widgets/controls",
      "model_module_version": "1.5.0",
      "model_name": "ButtonModel",
      "state": {
       "layout": "IPY_MODEL_f40a9fd82e8946729c32037beb066187",
       "style": "IPY_MODEL_b4b27f2335c64083a3b3b6353cb5d29d"
      }
     },
     "e03b77c6c95947cea80ba2bc34c6918f": {
      "model_module": "@jupyter-widgets/base",
      "model_module_version": "1.2.0",
      "model_name": "LayoutModel",
      "state": {
       "overflow": "visible",
       "width": "100%"
      }
     },
     "e0745522dca84e25b2eb1f198baa9f84": {
      "model_module": "@jupyter-widgets/base",
      "model_module_version": "1.2.0",
      "model_name": "LayoutModel",
      "state": {
       "height": "32px",
       "order": "-2",
       "width": "32px"
      }
     },
     "e082bf8d8bad488797b8c198bfa05f79": {
      "model_module": "@jupyter-widgets/controls",
      "model_module_version": "1.5.0",
      "model_name": "ButtonModel",
      "state": {
       "description": "EDIT",
       "layout": "IPY_MODEL_2432850d88844c5c94fee06f8d782756",
       "style": "IPY_MODEL_4c94ecc2dcf14b628f9300c62167f104"
      }
     },
     "e0ad09981e14467b8e265cc44affc11d": {
      "model_module": "@jupyter-widgets/base",
      "model_module_version": "1.2.0",
      "model_name": "LayoutModel",
      "state": {
       "order": "-1",
       "overflow": "visible",
       "padding": "1px",
       "width": "0px"
      }
     },
     "e117c91b0c164c0997bbf94ac6f2687e": {
      "model_module": "@jupyter-widgets/controls",
      "model_module_version": "1.5.0",
      "model_name": "ButtonModel",
      "state": {
       "description": "EDIT",
       "layout": "IPY_MODEL_1ad7cee83d90422ba8da0bf265ab7916",
       "style": "IPY_MODEL_8ab1e74a2024487d870dbe5147435e99"
      }
     },
     "e11fc4a4c3a449b0953882d6ba650069": {
      "model_module": "@jupyter-widgets/base",
      "model_module_version": "1.2.0",
      "model_name": "LayoutModel",
      "state": {
       "width": "60px"
      }
     },
     "e14452d6e17842518bd86cb1a8735285": {
      "model_module": "@jupyter-widgets/base",
      "model_module_version": "1.2.0",
      "model_name": "LayoutModel",
      "state": {
       "order": "-1",
       "overflow": "visible",
       "padding": "1px",
       "width": "0px"
      }
     },
     "e16cfaea606f4ef3971e1e3152d123ce": {
      "model_module": "@jupyter-widgets/controls",
      "model_module_version": "1.5.0",
      "model_name": "ButtonModel",
      "state": {
       "layout": "IPY_MODEL_819f9ab5d4774d54b8d3c70315fc154a",
       "style": "IPY_MODEL_279f228d9f3c4b748a7442b1934b89b4"
      }
     },
     "e1727429c4c64e1f8579ff3ea4868e96": {
      "model_module": "@jupyter-widgets/base",
      "model_module_version": "1.2.0",
      "model_name": "LayoutModel",
      "state": {
       "height": "32px",
       "order": "-2",
       "width": "32px"
      }
     },
     "e197bf4df86c41e1b19e970b60a6390c": {
      "model_module": "@jupyter-widgets/controls",
      "model_module_version": "1.5.0",
      "model_name": "ButtonModel",
      "state": {
       "description": "EDIT",
       "layout": "IPY_MODEL_8ff718fe46cc48f0bf781f83a5b04958",
       "style": "IPY_MODEL_9d29114b2c034c16aee7d57fb5684739"
      }
     },
     "e1a5734ccba64da78e4eb50421a8cacf": {
      "model_module": "@jupyter-widgets/controls",
      "model_module_version": "1.5.0",
      "model_name": "IntProgressModel",
      "state": {
       "bar_style": "success",
       "layout": "IPY_MODEL_d363c6728f7946ef93613d58795a38c8",
       "max": 50,
       "style": "IPY_MODEL_216aead801eb445da128620727a481fa",
       "value": 50
      }
     },
     "e1c95ed32da3461083f8946c274653e9": {
      "model_module": "@jupyter-widgets/base",
      "model_module_version": "1.2.0",
      "model_name": "LayoutModel",
      "state": {}
     },
     "e2c7e682153648969c8dd315e58c655c": {
      "model_module": "@jupyter-widgets/controls",
      "model_module_version": "1.5.0",
      "model_name": "DescriptionStyleModel",
      "state": {
       "description_width": ""
      }
     },
     "e2e2410ce7c64d0fa9ab137b6a241469": {
      "model_module": "@jupyter-widgets/controls",
      "model_module_version": "1.5.0",
      "model_name": "ButtonModel",
      "state": {
       "description": "EDIT",
       "layout": "IPY_MODEL_40d764b794634e7c829b3066e0d289b6",
       "style": "IPY_MODEL_7e04920fcb564e0eb2a3b72495506f62"
      }
     },
     "e30d477df1d144ad8bee38ff6d7a4f8c": {
      "model_module": "@jupyter-widgets/controls",
      "model_module_version": "1.5.0",
      "model_name": "ButtonStyleModel",
      "state": {}
     },
     "e311b985cb3d4a38a30a4aba18da8536": {
      "model_module": "@jupyter-widgets/controls",
      "model_module_version": "1.5.0",
      "model_name": "DescriptionStyleModel",
      "state": {
       "description_width": ""
      }
     },
     "e365465cd944492c9e51be6b33984881": {
      "model_module": "@jupyter-widgets/base",
      "model_module_version": "1.2.0",
      "model_name": "LayoutModel",
      "state": {
       "height": "32px",
       "order": "-2",
       "width": "32px"
      }
     },
     "e382899e858441968a6a72c1f4450db5": {
      "model_module": "@jupyter-widgets/controls",
      "model_module_version": "1.5.0",
      "model_name": "IntProgressModel",
      "state": {
       "layout": "IPY_MODEL_f44e7abae86341c3a646eca774f49a75",
       "max": 1000,
       "style": "IPY_MODEL_081a9f2767674d769aa9b5f184c9868a",
       "value": 289
      }
     },
     "e3afbc4a41594477aaf6c607b9796681": {
      "model_module": "@jupyter-widgets/base",
      "model_module_version": "1.2.0",
      "model_name": "LayoutModel",
      "state": {
       "height": "32px",
       "order": "-2",
       "width": "32px"
      }
     },
     "e3ce325ae77b44b28215101299d61b9c": {
      "model_module": "@jupyter-widgets/base",
      "model_module_version": "1.2.0",
      "model_name": "LayoutModel",
      "state": {
       "height": "32px",
       "order": "-2",
       "width": "32px"
      }
     },
     "e3feb92610e34e5a80f21ca54cc090b2": {
      "model_module": "@jupyter-widgets/controls",
      "model_module_version": "1.5.0",
      "model_name": "ButtonModel",
      "state": {
       "layout": "IPY_MODEL_916a0c38e55f434dbf16e179e525544a",
       "style": "IPY_MODEL_874a51e9a0724da9acd7faef0691fd47"
      }
     },
     "e4014afea67744a3a46ecfec37ad0e89": {
      "model_module": "@jupyter-widgets/base",
      "model_module_version": "1.2.0",
      "model_name": "LayoutModel",
      "state": {
       "overflow": "visible",
       "width": "100%"
      }
     },
     "e430fd3b5eca496b8797a8a17b77451e": {
      "model_module": "@jupyter-widgets/controls",
      "model_module_version": "1.5.0",
      "model_name": "ButtonStyleModel",
      "state": {}
     },
     "e43945a8e50240149b5d454150013396": {
      "model_module": "@jupyter-widgets/controls",
      "model_module_version": "1.5.0",
      "model_name": "VBoxModel",
      "state": {
       "children": [
        "IPY_MODEL_940bb69feba341adac90cd1ac116050a",
        "IPY_MODEL_365a5118bdb9458fbaaa50720326c840",
        "IPY_MODEL_a15989b0fcdc47b89ac29152164fe55d",
        "IPY_MODEL_0ef0439883244a41a8192775b9e6227a"
       ],
       "layout": "IPY_MODEL_79b972c5e3ad405fa9c16d193d636df4"
      }
     },
     "e4557e49f6bc4c0fbf2be1d8d3f44dbf": {
      "model_module": "@jupyter-widgets/base",
      "model_module_version": "1.2.0",
      "model_name": "LayoutModel",
      "state": {
       "display": "none"
      }
     },
     "e45c908f877641bd8225a028c66fc6bb": {
      "model_module": "@jupyter-widgets/controls",
      "model_module_version": "1.5.0",
      "model_name": "VBoxModel",
      "state": {
       "children": [
        "IPY_MODEL_271f2f23c0234162ac52bd48cc8fcfa0",
        "IPY_MODEL_eec6668dc42549a388921115bac40c94",
        "IPY_MODEL_b1eab8a1257f446697fc21577abcbe84",
        "IPY_MODEL_8436b6fa38de42a6afc7b9379e48e9f0"
       ],
       "layout": "IPY_MODEL_f526c5024c6f47d0b679f482f67e5275"
      }
     },
     "e468cf230edc4ac59f19478877eb1319": {
      "model_module": "@jupyter-widgets/controls",
      "model_module_version": "1.5.0",
      "model_name": "ButtonStyleModel",
      "state": {}
     },
     "e46a88684135422cb07edd0130b70771": {
      "model_module": "@jupyter-widgets/controls",
      "model_module_version": "1.5.0",
      "model_name": "ButtonModel",
      "state": {
       "layout": "IPY_MODEL_5e0b3132a1fe4663a94653d8093f053e",
       "style": "IPY_MODEL_4ecc10db96e745968ce2341370a7fb94"
      }
     },
     "e4a54cd32b494a44919cd545173348e6": {
      "model_module": "@jupyter-widgets/base",
      "model_module_version": "1.2.0",
      "model_name": "LayoutModel",
      "state": {
       "width": "60px"
      }
     },
     "e4c4b72b52ac43ee862fbe3b2cbd9739": {
      "model_module": "@jupyter-widgets/controls",
      "model_module_version": "1.5.0",
      "model_name": "DescriptionStyleModel",
      "state": {
       "description_width": ""
      }
     },
     "e4c9338a3c1a4f1696353df03efb7f87": {
      "model_module": "@jupyter-widgets/base",
      "model_module_version": "1.2.0",
      "model_name": "LayoutModel",
      "state": {
       "display": "none"
      }
     },
     "e4e60c6713d7457eab012447a5ce6658": {
      "model_module": "@jupyter-widgets/controls",
      "model_module_version": "1.5.0",
      "model_name": "HBoxModel",
      "state": {
       "children": [
        "IPY_MODEL_326cc0c9ade3436c8aa509823a1695c6",
        "IPY_MODEL_48ba4ee16096482ca98dbd34fa30aa37"
       ],
       "layout": "IPY_MODEL_3edb330226a24dd5b2714ccf3ecc10dd"
      }
     },
     "e5112165d96142afa8255cb23f6ba99a": {
      "model_module": "@jupyter-widgets/controls",
      "model_module_version": "1.5.0",
      "model_name": "LabelModel",
      "state": {
       "layout": "IPY_MODEL_62f78b2be9ab4f598fd6a1836974696d",
       "style": "IPY_MODEL_1e1179c67c54412a8506b02a6f18567d",
       "value": "   objective"
      }
     },
     "e5602176584848d8bc2f1ae0a4595e35": {
      "model_module": "@jupyter-widgets/base",
      "model_module_version": "1.2.0",
      "model_name": "LayoutModel",
      "state": {
       "height": "32px",
       "order": "-2",
       "width": "32px"
      }
     },
     "e56ca10531994fd8a668d9d3be439bb3": {
      "model_module": "@jupyter-widgets/controls",
      "model_module_version": "1.5.0",
      "model_name": "ButtonModel",
      "state": {
       "description": "EDIT",
       "layout": "IPY_MODEL_eceb76179c9e40f3a52b1966d8596a67",
       "style": "IPY_MODEL_9293575e5faa4c0a9c4b15ff0980941b"
      }
     },
     "e589e3e3c5854ddab258f678c9c5597a": {
      "model_module": "@jupyter-widgets/controls",
      "model_module_version": "1.5.0",
      "model_name": "ButtonModel",
      "state": {
       "button_style": "success",
       "disabled": true,
       "layout": "IPY_MODEL_88990b81137d44a8948cb50efa34646a",
       "style": "IPY_MODEL_1ebc7c73ebbc48319550b51636d446d3"
      }
     },
     "e59142e69090453dbc47c72c13719e8d": {
      "model_module": "@jupyter-widgets/controls",
      "model_module_version": "1.5.0",
      "model_name": "ButtonStyleModel",
      "state": {}
     },
     "e5ad98d38508430784eaf733a425d0d2": {
      "model_module": "@jupyter-widgets/base",
      "model_module_version": "1.2.0",
      "model_name": "LayoutModel",
      "state": {
       "width": "60px"
      }
     },
     "e5b12fdb8f8c4f4cb3f981a061349992": {
      "model_module": "@jupyter-widgets/controls",
      "model_module_version": "1.5.0",
      "model_name": "HBoxModel",
      "state": {
       "children": [
        "IPY_MODEL_88730576ca9344a784a0c8843ff91bfd",
        "IPY_MODEL_4ec82d81ec9f419b9b4f79bcef251d97",
        "IPY_MODEL_dbbdc900154547ff8c6db1739649bcc7",
        "IPY_MODEL_c1bbe5eeadf249cf8ab275c43bd6b27c"
       ],
       "layout": "IPY_MODEL_92d3c3cd28c54d09a9868c6a35e648a7"
      }
     },
     "e5c9013b0a744dfd994b6b726b49b864": {
      "model_module": "@jupyter-widgets/controls",
      "model_module_version": "1.5.0",
      "model_name": "ButtonStyleModel",
      "state": {}
     },
     "e5de224541f14cd881a93540c890fa90": {
      "model_module": "@jupyter-widgets/controls",
      "model_module_version": "1.5.0",
      "model_name": "HTMLModel",
      "state": {
       "layout": "IPY_MODEL_beb19ec556a2403ba0f7aa9501762d0d",
       "style": "IPY_MODEL_03afb99422684f2ca3c4cc7cb30c6351",
       "value": "<font size=\"5\"><b>The First Disappearance</b></font size=>"
      }
     },
     "e5e161ebe95d43a69c37c8c48c3aef44": {
      "model_module": "@jupyter-widgets/controls",
      "model_module_version": "1.5.0",
      "model_name": "ButtonModel",
      "state": {
       "description": "EDIT",
       "layout": "IPY_MODEL_a00711fa9eae423391b0610670cfb9f8",
       "style": "IPY_MODEL_d7bdd77357ca43a18f2a7e51f148d551"
      }
     },
     "e615941cbf774459bd23e79632caef05": {
      "model_module": "@jupyter-widgets/base",
      "model_module_version": "1.2.0",
      "model_name": "LayoutModel",
      "state": {
       "width": "60px"
      }
     },
     "e6406b87459c4e1aafe0b4ef768432af": {
      "model_module": "@jupyter-widgets/base",
      "model_module_version": "1.2.0",
      "model_name": "LayoutModel",
      "state": {
       "order": "-1",
       "overflow": "visible",
       "padding": "1px",
       "width": "0px"
      }
     },
     "e6ebc7e5e75146b899c3a704b1edaff3": {
      "model_module": "@jupyter-widgets/controls",
      "model_module_version": "1.5.0",
      "model_name": "ButtonModel",
      "state": {
       "description": "Sign In",
       "layout": "IPY_MODEL_018c01d34279464891ae224490bc67b3",
       "style": "IPY_MODEL_8479d1ee8fbb40b2b0dc902fb4df1fb5"
      }
     },
     "e6f12469bd3345fd881a95c8e8ccc47c": {
      "model_module": "@jupyter-widgets/controls",
      "model_module_version": "1.5.0",
      "model_name": "DescriptionStyleModel",
      "state": {
       "description_width": ""
      }
     },
     "e7583af3851c4d93ad8e81a73cba64bb": {
      "model_module": "@jupyter-widgets/base",
      "model_module_version": "1.2.0",
      "model_name": "LayoutModel",
      "state": {
       "width": "60px"
      }
     },
     "e79c6f6ef68b4b67bb0a30af7138fd1f": {
      "model_module": "@jupyter-widgets/controls",
      "model_module_version": "1.5.0",
      "model_name": "HBoxModel",
      "state": {
       "children": [
        "IPY_MODEL_a71d39ebc941485b8172a3de8a57267c",
        "IPY_MODEL_d55ff926f7e04fd2a9b39c3a07bed5e8",
        "IPY_MODEL_911574d7ab0d4c1c8b040eeac2e8f4e9",
        "IPY_MODEL_1e4ccd081e824322935bf165d9021cf8"
       ],
       "layout": "IPY_MODEL_a02d0efcd87044a2a172b673f7458fcd"
      }
     },
     "e7b8d68fe82042a6b8f967d86cd14dca": {
      "model_module": "@jupyter-widgets/controls",
      "model_module_version": "1.5.0",
      "model_name": "VBoxModel",
      "state": {
       "children": [
        "IPY_MODEL_1b75f56170f14a6baf9129edd6990142",
        "IPY_MODEL_f5f13cef6f7b4b759050a5183e274466",
        "IPY_MODEL_a45a19cc3e334bf789c256ee2e54458b"
       ],
       "layout": "IPY_MODEL_9832f5592d074be081c3ce5d60f9e090"
      }
     },
     "e7bb0eb6f3ab49fa85636c717b163f0e": {
      "model_module": "@jupyter-widgets/base",
      "model_module_version": "1.2.0",
      "model_name": "LayoutModel",
      "state": {
       "height": "32px",
       "order": "-2",
       "width": "32px"
      }
     },
     "e7c21c8715c149589726dc089ac5a46c": {
      "model_module": "@jupyter-widgets/controls",
      "model_module_version": "1.5.0",
      "model_name": "IntProgressModel",
      "state": {
       "layout": "IPY_MODEL_07fcb5e9707b440991be1ce4f2ad6f4b",
       "style": "IPY_MODEL_fbaa498b7a2a4d0eb4541af0a62495d7",
       "value": 30
      }
     },
     "e7d702eeec4f47e5b4aed814e6a857ba": {
      "model_module": "@jupyter-widgets/controls",
      "model_module_version": "1.5.0",
      "model_name": "DescriptionStyleModel",
      "state": {
       "description_width": ""
      }
     },
     "e7e75ad50aca4111ac5b473675ed5909": {
      "model_module": "@jupyter-widgets/controls",
      "model_module_version": "1.5.0",
      "model_name": "ProgressStyleModel",
      "state": {
       "description_width": ""
      }
     },
     "e84d53f8330748748c3ce66e76b38aed": {
      "model_module": "@jupyter-widgets/base",
      "model_module_version": "1.2.0",
      "model_name": "LayoutModel",
      "state": {
       "width": "60px"
      }
     },
     "e87de7d56b7248dbb516c8f3e8a19c1b": {
      "model_module": "@jupyter-widgets/controls",
      "model_module_version": "1.5.0",
      "model_name": "DescriptionStyleModel",
      "state": {
       "description_width": ""
      }
     },
     "e8b7e2ec930e44bca03fff1d14802031": {
      "model_module": "@jupyter-widgets/controls",
      "model_module_version": "1.5.0",
      "model_name": "HTMLModel",
      "state": {
       "layout": "IPY_MODEL_7872cf3a346d45908c60c840cf2dbd64",
       "style": "IPY_MODEL_61db89d600e94509b180e6daed4176e0",
       "value": "<font size=\"5\"><b>Classified</b></font size=>"
      }
     },
     "e8b88fad2b174755a32098e4788f3683": {
      "model_module": "@jupyter-widgets/base",
      "model_module_version": "1.2.0",
      "model_name": "LayoutModel",
      "state": {
       "display": "none"
      }
     },
     "e8ca953d1b9c480d82ef22956216e60a": {
      "model_module": "@jupyter-widgets/controls",
      "model_module_version": "1.5.0",
      "model_name": "HTMLModel",
      "state": {
       "layout": "IPY_MODEL_ed4c51d3db0543d8b7c844815007082a",
       "style": "IPY_MODEL_7b2a4f0e9c334bf99de01dbf695ab900",
       "value": "<i></i>"
      }
     },
     "e8cfd62292bc432190de4f386642d396": {
      "model_module": "@jupyter-widgets/controls",
      "model_module_version": "1.5.0",
      "model_name": "ButtonModel",
      "state": {
       "description": "EDIT",
       "layout": "IPY_MODEL_2bffde4498394b6998afcf51369e76ab",
       "style": "IPY_MODEL_672fc5fa81524baa8b66ca97e45fa4ec"
      }
     },
     "e8f502e37ab84cbb9cfc60a3db3fe696": {
      "model_module": "@jupyter-widgets/controls",
      "model_module_version": "1.5.0",
      "model_name": "DescriptionStyleModel",
      "state": {
       "description_width": ""
      }
     },
     "e90fba9d23ae4d679bfa9c3fcec9029d": {
      "model_module": "@jupyter-widgets/controls",
      "model_module_version": "1.5.0",
      "model_name": "ProgressStyleModel",
      "state": {
       "description_width": ""
      }
     },
     "e982fc6abeb844d7a61ac42c030a31d7": {
      "model_module": "@jupyter-widgets/controls",
      "model_module_version": "1.5.0",
      "model_name": "ButtonStyleModel",
      "state": {}
     },
     "e9a3b1b598954ca8b3314996f1b01d7e": {
      "model_module": "@jupyter-widgets/controls",
      "model_module_version": "1.5.0",
      "model_name": "ButtonStyleModel",
      "state": {}
     },
     "e9b611a289de422992fb43baed976aa7": {
      "model_module": "@jupyter-widgets/base",
      "model_module_version": "1.2.0",
      "model_name": "LayoutModel",
      "state": {
       "height": "32px",
       "order": "-2",
       "width": "32px"
      }
     },
     "e9c5b9de5de241bcbb76d20ef304498c": {
      "model_module": "@jupyter-widgets/controls",
      "model_module_version": "1.5.0",
      "model_name": "ButtonModel",
      "state": {
       "description": "EDIT",
       "layout": "IPY_MODEL_d1bf59f4ab534b8493f40945875d8f00",
       "style": "IPY_MODEL_df4e05e7cb1742e0b647d7e120add201"
      }
     },
     "e9d688e84a5043ba86b1d1d86205833f": {
      "model_module": "@jupyter-widgets/controls",
      "model_module_version": "1.5.0",
      "model_name": "LabelModel",
      "state": {
       "layout": "IPY_MODEL_4a806bfd010d4b12a64d9a404ef5e3c5",
       "style": "IPY_MODEL_7e3a6819bdb34d319b5675aa42d7c1e3",
       "value": "   objective"
      }
     },
     "e9fef7c76c4647fea4b89619dc786b1a": {
      "model_module": "@jupyter-widgets/controls",
      "model_module_version": "1.5.0",
      "model_name": "ButtonModel",
      "state": {
       "layout": "IPY_MODEL_1889ce1e71ab4bf18996f052037d55c3",
       "style": "IPY_MODEL_6fe9eaec3eac4d2bb00cb18da47c6a8b"
      }
     },
     "ea6340f4e9be4a9aaf01cb32f10a2bef": {
      "model_module": "@jupyter-widgets/base",
      "model_module_version": "1.2.0",
      "model_name": "LayoutModel",
      "state": {
       "height": "32px",
       "overflow": "visible",
       "width": "100%"
      }
     },
     "eadd9a5a9f454f18be7a873c09008dde": {
      "model_module": "@jupyter-widgets/base",
      "model_module_version": "1.2.0",
      "model_name": "LayoutModel",
      "state": {
       "order": "-1",
       "overflow": "visible",
       "padding": "1px",
       "width": "0px"
      }
     },
     "eaf7e866b1994dc2a77ad0441df71a20": {
      "model_module": "@jupyter-widgets/controls",
      "model_module_version": "1.5.0",
      "model_name": "ButtonStyleModel",
      "state": {}
     },
     "eb06d8f3cf9646a79c47a2d6265bf913": {
      "model_module": "@jupyter-widgets/base",
      "model_module_version": "1.2.0",
      "model_name": "LayoutModel",
      "state": {
       "height": "32px",
       "overflow": "visible",
       "width": "100%"
      }
     },
     "eb341a135b234c859b42b9ad20daeb10": {
      "model_module": "@jupyter-widgets/controls",
      "model_module_version": "1.5.0",
      "model_name": "HBoxModel",
      "state": {
       "children": [
        "IPY_MODEL_26f99e5f28234fbd8c49659b33fbc6d1",
        "IPY_MODEL_5e12ef3db094432aac1d9a149d467df2",
        "IPY_MODEL_3e66f10df3414fe4b177ee91ea8a3c3a",
        "IPY_MODEL_23ac6aa040f949b2b1c4c548388fa10f"
       ],
       "layout": "IPY_MODEL_9467fe3f9a804625a1bfb430eefaf2d8"
      }
     },
     "eb41c65a152f4d7f80ca87b3dc8ef4a5": {
      "model_module": "@jupyter-widgets/controls",
      "model_module_version": "1.5.0",
      "model_name": "IntProgressModel",
      "state": {
       "layout": "IPY_MODEL_32e8451e5de74b1bbc84c6ea72ea83b3",
       "style": "IPY_MODEL_afa81e0ce4ec402bb89078c26389afeb",
       "value": 30
      }
     },
     "eb4dcc9f4ffd4caea87f2dbe915c4386": {
      "model_module": "@jupyter-widgets/controls",
      "model_module_version": "1.5.0",
      "model_name": "ButtonModel",
      "state": {
       "description": "EDIT",
       "layout": "IPY_MODEL_ade599272faf45b896cdfea0f587ae6b",
       "style": "IPY_MODEL_fefedc423d4f4880a10c8df0d4587804"
      }
     },
     "eb5b65c9e5e64589bf6caa3d9cd1a2f8": {
      "model_module": "@jupyter-widgets/controls",
      "model_module_version": "1.5.0",
      "model_name": "HBoxModel",
      "state": {
       "children": [
        "IPY_MODEL_330a179fb68b4308a7bed9ca765d8c3b",
        "IPY_MODEL_c8a2cf96a9464d7b957dcb9c39e90807",
        "IPY_MODEL_b9a09da7d7a64ffb945c2e73ca1bae9d",
        "IPY_MODEL_cb15961cc7154e8b9fda02d4f03ba475"
       ],
       "layout": "IPY_MODEL_b11d1bc187004471a039cb6a40fbeb16"
      }
     },
     "eb6650b7ff2e41ca8d96da5572e144d5": {
      "model_module": "@jupyter-widgets/base",
      "model_module_version": "1.2.0",
      "model_name": "LayoutModel",
      "state": {
       "order": "-1",
       "overflow": "visible",
       "padding": "1px",
       "width": "0px"
      }
     },
     "eb6b68210c204aabbf42b08c4df32150": {
      "model_module": "@jupyter-widgets/controls",
      "model_module_version": "1.5.0",
      "model_name": "ProgressStyleModel",
      "state": {
       "description_width": ""
      }
     },
     "eb88dd610ded40228328d43582863b62": {
      "model_module": "@jupyter-widgets/base",
      "model_module_version": "1.2.0",
      "model_name": "LayoutModel",
      "state": {
       "height": "32px",
       "overflow": "visible",
       "width": "100%"
      }
     },
     "ec72e64a098443cbb8a4226a5d57791a": {
      "model_module": "@jupyter-widgets/controls",
      "model_module_version": "1.5.0",
      "model_name": "ButtonStyleModel",
      "state": {}
     },
     "ec92b3e8aca84abbbbce12800a185cba": {
      "model_module": "@jupyter-widgets/controls",
      "model_module_version": "1.5.0",
      "model_name": "DescriptionStyleModel",
      "state": {
       "description_width": ""
      }
     },
     "ec972f52bda047e1bcb3782036a9fe90": {
      "model_module": "@jupyter-widgets/base",
      "model_module_version": "1.2.0",
      "model_name": "LayoutModel",
      "state": {
       "display": "none"
      }
     },
     "ecb3b4dbc06245baa5ed2005086430e1": {
      "model_module": "@jupyter-widgets/controls",
      "model_module_version": "1.5.0",
      "model_name": "DescriptionStyleModel",
      "state": {
       "description_width": ""
      }
     },
     "ecd7541e560849e7979bfccebf827b17": {
      "model_module": "@jupyter-widgets/base",
      "model_module_version": "1.2.0",
      "model_name": "LayoutModel",
      "state": {
       "display": "none"
      }
     },
     "eceb76179c9e40f3a52b1966d8596a67": {
      "model_module": "@jupyter-widgets/base",
      "model_module_version": "1.2.0",
      "model_name": "LayoutModel",
      "state": {
       "width": "60px"
      }
     },
     "ed20d8852f3d45b980b13035e26b5654": {
      "model_module": "@jupyter-widgets/controls",
      "model_module_version": "1.5.0",
      "model_name": "ButtonModel",
      "state": {
       "description": "EDIT",
       "layout": "IPY_MODEL_65503676f2d8473da2e4b9b6cfc6fa6a",
       "style": "IPY_MODEL_f4d7356119ca43c9bcbb4d961a954e4b"
      }
     },
     "ed332fdd663f4918b748b12fc37cdafb": {
      "model_module": "@jupyter-widgets/base",
      "model_module_version": "1.2.0",
      "model_name": "LayoutModel",
      "state": {
       "height": "32px",
       "overflow": "visible",
       "width": "100%"
      }
     },
     "ed3cf6d5722846eab48928a672672ee2": {
      "model_module": "@jupyter-widgets/controls",
      "model_module_version": "1.5.0",
      "model_name": "ButtonModel",
      "state": {
       "description": "EDIT",
       "layout": "IPY_MODEL_99acac5201b4494d9527b994098b7d94",
       "style": "IPY_MODEL_f83cf5acc4b84575831ebde23b3c8ff5"
      }
     },
     "ed44d5db349c47ebbf6f308a20f37912": {
      "model_module": "@jupyter-widgets/base",
      "model_module_version": "1.2.0",
      "model_name": "LayoutModel",
      "state": {
       "height": "32px",
       "overflow": "visible",
       "width": "100%"
      }
     },
     "ed4c51d3db0543d8b7c844815007082a": {
      "model_module": "@jupyter-widgets/base",
      "model_module_version": "1.2.0",
      "model_name": "LayoutModel",
      "state": {
       "display": "flex",
       "flex_flow": "row wrap"
      }
     },
     "eda66d71d7d54d47938b9ec5ad308040": {
      "model_module": "@jupyter-widgets/base",
      "model_module_version": "1.2.0",
      "model_name": "LayoutModel",
      "state": {}
     },
     "edbde7b4fda0443899deca27f96d00e8": {
      "model_module": "@jupyter-widgets/base",
      "model_module_version": "1.2.0",
      "model_name": "LayoutModel",
      "state": {
       "height": "32px",
       "overflow": "visible",
       "width": "100%"
      }
     },
     "ee86643d8d1349a99dd2dda745109390": {
      "model_module": "@jupyter-widgets/controls",
      "model_module_version": "1.5.0",
      "model_name": "DescriptionStyleModel",
      "state": {
       "description_width": ""
      }
     },
     "eec6668dc42549a388921115bac40c94": {
      "model_module": "@jupyter-widgets/controls",
      "model_module_version": "1.5.0",
      "model_name": "HTMLModel",
      "state": {
       "layout": "IPY_MODEL_ba248e0ac89345afa02c6acb3bd3c51d",
       "style": "IPY_MODEL_1690faca486640b1b2c65a58c7b18341",
       "value": "<font size=\"5\"><b>Skolas</b></font size=>"
      }
     },
     "eeebdf5bbdb041e4a2cc1d1af5061235": {
      "model_module": "@jupyter-widgets/controls",
      "model_module_version": "1.5.0",
      "model_name": "IntProgressModel",
      "state": {
       "layout": "IPY_MODEL_d443d20fac754cdb8981d01e4c2926dc",
       "style": "IPY_MODEL_396b9a8bd8ca419b8bec37bde147c921",
       "value": 30
      }
     },
     "ef48326df4c3467385a4d2b53c1363cd": {
      "model_module": "@jupyter-widgets/base",
      "model_module_version": "1.2.0",
      "model_name": "LayoutModel",
      "state": {
       "display": "none"
      }
     },
     "ef56caaf0576484aa825a25c6df315ae": {
      "model_module": "@jupyter-widgets/controls",
      "model_module_version": "1.5.0",
      "model_name": "ButtonStyleModel",
      "state": {}
     },
     "efae0bd190024b319e7a49dc1a879691": {
      "model_module": "@jupyter-widgets/controls",
      "model_module_version": "1.5.0",
      "model_name": "ButtonModel",
      "state": {
       "description": "EDIT",
       "layout": "IPY_MODEL_421c616adb904ba680ef37abdc414693",
       "style": "IPY_MODEL_5fea92506cef4a10b1825a6bee898532"
      }
     },
     "efc306bd824d4069bd6ca3559052c552": {
      "model_module": "@jupyter-widgets/controls",
      "model_module_version": "1.5.0",
      "model_name": "LabelModel",
      "state": {
       "layout": "IPY_MODEL_569fe620bb9b48e5b703ee77c6a18506",
       "style": "IPY_MODEL_15ca7c28457146b2999f7fc527133de7",
       "value": "   objective"
      }
     },
     "efc67f3c971e4224a4b7d10a43b74f70": {
      "model_module": "@jupyter-widgets/controls",
      "model_module_version": "1.5.0",
      "model_name": "DropdownModel",
      "state": {
       "_options_labels": [
        "All",
        "Active Objectives",
        "Pursuits",
        "Milestones",
        "Triumphs",
        "Collections"
       ],
       "description": "Show:",
       "index": 0,
       "layout": "IPY_MODEL_a81fc68320114b378d1488e71a5b3fe2",
       "style": "IPY_MODEL_b5d7b9d3766d490f9290e0f2849d1184"
      }
     },
     "efcf1dedada64b45adbe352d46b21508": {
      "model_module": "@jupyter-widgets/base",
      "model_module_version": "1.2.0",
      "model_name": "LayoutModel",
      "state": {
       "width": "60px"
      }
     },
     "effe86446e5843f5a2b98c4487fbe3f1": {
      "model_module": "@jupyter-widgets/controls",
      "model_module_version": "1.5.0",
      "model_name": "DescriptionStyleModel",
      "state": {
       "description_width": ""
      }
     },
     "f021eee29ff246bab545e77d87020875": {
      "model_module": "@jupyter-widgets/base",
      "model_module_version": "1.2.0",
      "model_name": "LayoutModel",
      "state": {
       "display": "flex",
       "flex_flow": "row wrap"
      }
     },
     "f03591081cee4d7893ffab95bb079f7f": {
      "model_module": "@jupyter-widgets/base",
      "model_module_version": "1.2.0",
      "model_name": "LayoutModel",
      "state": {
       "height": "32px",
       "order": "-2",
       "width": "32px"
      }
     },
     "f07356286e94445a992a02aa00486bbd": {
      "model_module": "@jupyter-widgets/controls",
      "model_module_version": "1.5.0",
      "model_name": "HTMLModel",
      "state": {
       "layout": "IPY_MODEL_d684197677814771bb2edc72298488e7",
       "style": "IPY_MODEL_8ddaad3fa93e4fb7ae57e6b2b3de2408",
       "value": "<font size=\"5\"><b>Maximum Carnage</b></font size=>"
      }
     },
     "f0816d7cef704fd395f21ff4b30986f9": {
      "model_module": "@jupyter-widgets/base",
      "model_module_version": "1.2.0",
      "model_name": "LayoutModel",
      "state": {
       "height": "32px",
       "order": "-2",
       "width": "32px"
      }
     },
     "f0f87b7fcb6c4ed19c8abd75fd6bab34": {
      "model_module": "@jupyter-widgets/base",
      "model_module_version": "1.2.0",
      "model_name": "LayoutModel",
      "state": {
       "height": "32px",
       "order": "-2",
       "width": "32px"
      }
     },
     "f15eed162efa4896baafa9ba0a269b04": {
      "model_module": "@jupyter-widgets/controls",
      "model_module_version": "1.5.0",
      "model_name": "HTMLModel",
      "state": {
       "layout": "IPY_MODEL_b87f0e4c65d14d3c90e0739bdcba36d2",
       "style": "IPY_MODEL_4c504fedf5e8441ebe67cdf307cd0b05",
       "value": "<i>As a Striker, get kills with Lightning Grenades.</i>"
      }
     },
     "f19e07eda4dc4162a4f01948cf856c92": {
      "model_module": "@jupyter-widgets/controls",
      "model_module_version": "1.5.0",
      "model_name": "DescriptionStyleModel",
      "state": {
       "description_width": ""
      }
     },
     "f1aef7a68b8342059c5aaf4cfd9e5cd7": {
      "model_module": "@jupyter-widgets/controls",
      "model_module_version": "1.5.0",
      "model_name": "LabelModel",
      "state": {
       "layout": "IPY_MODEL_9cb71cb3911445dab0f7a516c7ad6cd5",
       "style": "IPY_MODEL_1a3944cd539c419ca8612bc1675d2ca3",
       "value": "Tree:"
      }
     },
     "f237b0208c1e49b3b8cc12635d43a8d0": {
      "model_module": "@jupyter-widgets/controls",
      "model_module_version": "1.5.0",
      "model_name": "ButtonModel",
      "state": {
       "description": "EDIT",
       "layout": "IPY_MODEL_c61af84e28224c5f9f57ac60992328a5",
       "style": "IPY_MODEL_dc94b8ffe9f742f4bc0a8d66f1c05b4b"
      }
     },
     "f25d7cd4e820479ba79461fbc19e783e": {
      "model_module": "@jupyter-widgets/controls",
      "model_module_version": "1.5.0",
      "model_name": "ButtonModel",
      "state": {
       "button_style": "success",
       "disabled": true,
       "layout": "IPY_MODEL_0163e256055f4f149ab53a5da1c45d07",
       "style": "IPY_MODEL_9429fd520ae548d09205d50266cf4d7a"
      }
     },
     "f26d2e1b6f314ff98e0a3500218f5750": {
      "model_module": "@jupyter-widgets/controls",
      "model_module_version": "1.5.0",
      "model_name": "LabelModel",
      "state": {
       "layout": "IPY_MODEL_3c4c4d5771ae4d72929f23b85792458a",
       "style": "IPY_MODEL_3193e70c84574689a7fd7c64c2d3efdb",
       "value": "   objective"
      }
     },
     "f2808d260b424fdd907919b5a1870613": {
      "model_module": "@jupyter-widgets/controls",
      "model_module_version": "1.5.0",
      "model_name": "VBoxModel",
      "state": {
       "children": [
        "IPY_MODEL_766b1b5217794fb79862640e32f02019",
        "IPY_MODEL_d84fee50304c48cf8684c91299b96667",
        "IPY_MODEL_9b91d6a46ab6455ab14768e06c9f0918",
        "IPY_MODEL_5ad4535d104743b8be54ba29862cbb85",
        "IPY_MODEL_12577f42ce374bec81c2f729ef37d92b",
        "IPY_MODEL_472ffaecf0c1448ab49b598b81988663"
       ],
       "layout": "IPY_MODEL_020297ca211b4910846eead6bfd242d9"
      }
     },
     "f29f8e27525e408f91cb44d1d79ed4c3": {
      "model_module": "@jupyter-widgets/base",
      "model_module_version": "1.2.0",
      "model_name": "LayoutModel",
      "state": {
       "width": "60px"
      }
     },
     "f2c33ddb039c4d1d801c430f3d4b2063": {
      "model_module": "@jupyter-widgets/controls",
      "model_module_version": "1.5.0",
      "model_name": "ButtonStyleModel",
      "state": {}
     },
     "f325ea9f714d4146a5912626de543f51": {
      "model_module": "@jupyter-widgets/base",
      "model_module_version": "1.2.0",
      "model_name": "LayoutModel",
      "state": {
       "border": "3px solid white",
       "display": "flex",
       "flex": "1 1 0%",
       "margin": "10px",
       "min_width": "400px",
       "overflow": "visible",
       "padding": "10px",
       "width": "auto"
      }
     },
     "f339863908ff44cb99463d896f6c280a": {
      "model_module": "@jupyter-widgets/base",
      "model_module_version": "1.2.0",
      "model_name": "LayoutModel",
      "state": {
       "height": "32px",
       "overflow": "visible",
       "width": "100%"
      }
     },
     "f35d916a47c04a479b9fb5d722d7c7f1": {
      "model_module": "@jupyter-widgets/controls",
      "model_module_version": "1.5.0",
      "model_name": "ButtonStyleModel",
      "state": {}
     },
     "f40a9fd82e8946729c32037beb066187": {
      "model_module": "@jupyter-widgets/base",
      "model_module_version": "1.2.0",
      "model_name": "LayoutModel",
      "state": {
       "height": "32px",
       "order": "-2",
       "width": "32px"
      }
     },
     "f40e189627124c64a72eb4c79e06fdab": {
      "model_module": "@jupyter-widgets/base",
      "model_module_version": "1.2.0",
      "model_name": "LayoutModel",
      "state": {
       "width": "60px"
      }
     },
     "f44e7abae86341c3a646eca774f49a75": {
      "model_module": "@jupyter-widgets/base",
      "model_module_version": "1.2.0",
      "model_name": "LayoutModel",
      "state": {
       "height": "32px",
       "overflow": "visible",
       "width": "100%"
      }
     },
     "f454218e8c954151beae4bee59a6dc16": {
      "model_module": "@jupyter-widgets/base",
      "model_module_version": "1.2.0",
      "model_name": "LayoutModel",
      "state": {
       "height": "32px",
       "overflow": "visible",
       "width": "100%"
      }
     },
     "f4d7356119ca43c9bcbb4d961a954e4b": {
      "model_module": "@jupyter-widgets/controls",
      "model_module_version": "1.5.0",
      "model_name": "ButtonStyleModel",
      "state": {}
     },
     "f4f5ffbd5c85420da8bbcbebef494f74": {
      "model_module": "@jupyter-widgets/controls",
      "model_module_version": "1.5.0",
      "model_name": "ButtonModel",
      "state": {
       "description": "EDIT",
       "layout": "IPY_MODEL_b35c5ffede30411184b9a9dd468838b4",
       "style": "IPY_MODEL_1aced4b3443543a1a532d424ad7c1ad9"
      }
     },
     "f5134a144c52402fbeeb23f54ba24b62": {
      "model_module": "@jupyter-widgets/controls",
      "model_module_version": "1.5.0",
      "model_name": "ButtonModel",
      "state": {
       "layout": "IPY_MODEL_a26dfd3b792f486da356a853d26f889a",
       "style": "IPY_MODEL_4eef3e6309a940bfb34fd264ef5cde1f"
      }
     },
     "f526c5024c6f47d0b679f482f67e5275": {
      "model_module": "@jupyter-widgets/base",
      "model_module_version": "1.2.0",
      "model_name": "LayoutModel",
      "state": {
       "border": "3px solid white",
       "display": "flex",
       "flex": "1 1 0%",
       "margin": "10px",
       "min_width": "400px",
       "overflow": "visible",
       "padding": "10px",
       "width": "auto"
      }
     },
     "f53f8837945f445f8d7ea8085ce0a943": {
      "model_module": "@jupyter-widgets/controls",
      "model_module_version": "1.5.0",
      "model_name": "VBoxModel",
      "state": {
       "children": [
        "IPY_MODEL_6f48a1dcb6a44d9d9c5535c447e7ae11",
        "IPY_MODEL_3a6eab2fd5334a49b6331953d2499782",
        "IPY_MODEL_987e4856cc8d491996ceef6677d9d398",
        "IPY_MODEL_3b4f72b40103475da96ebec62f819d76",
        "IPY_MODEL_faaa0343e4204cd38ed458e9a0170b99",
        "IPY_MODEL_a951a62f03e148f088a4c6c7cb448d92"
       ],
       "layout": "IPY_MODEL_26ddd6644df94f08b1c639ea8a13a48f"
      }
     },
     "f55548406506428baa70ae95745c8879": {
      "model_module": "@jupyter-widgets/base",
      "model_module_version": "1.2.0",
      "model_name": "LayoutModel",
      "state": {
       "order": "-1",
       "overflow": "visible",
       "padding": "1px",
       "width": "0px"
      }
     },
     "f56d59eb17984b13b14f06148169debf": {
      "model_module": "@jupyter-widgets/controls",
      "model_module_version": "1.5.0",
      "model_name": "ButtonStyleModel",
      "state": {}
     },
     "f5a7a1d5bb8447c7a8fb261c32e23a3b": {
      "model_module": "@jupyter-widgets/base",
      "model_module_version": "1.2.0",
      "model_name": "LayoutModel",
      "state": {}
     },
     "f5b794d9b7ea4dee96dc77a5356f542b": {
      "model_module": "@jupyter-widgets/controls",
      "model_module_version": "1.5.0",
      "model_name": "DescriptionStyleModel",
      "state": {
       "description_width": ""
      }
     },
     "f5ee7794c4904588838b27dee20d6ada": {
      "model_module": "@jupyter-widgets/controls",
      "model_module_version": "1.5.0",
      "model_name": "ButtonStyleModel",
      "state": {}
     },
     "f5f13cef6f7b4b759050a5183e274466": {
      "model_module": "@jupyter-widgets/controls",
      "model_module_version": "1.5.0",
      "model_name": "DropdownModel",
      "state": {
       "_options_labels": [
        "Any",
        "Patrol",
        "Gambit",
        "Reckoning",
        "Menagerie",
        "Vex Offensive",
        "Raid",
        "Strike",
        "Nightfall",
        "Crucible",
        "Forge"
       ],
       "index": 2,
       "layout": "IPY_MODEL_a2e339e1cc0245c895eb6b18b242ffff",
       "style": "IPY_MODEL_299d2ff5c13347458236d2f654351f98"
      }
     },
     "f6204b87a3254c849bcd4cc244eba507": {
      "model_module": "@jupyter-widgets/base",
      "model_module_version": "1.2.0",
      "model_name": "LayoutModel",
      "state": {
       "order": "-1",
       "overflow": "visible",
       "padding": "1px",
       "width": "0px"
      }
     },
     "f628663b9ab74e649ad7e1d397cfd33b": {
      "model_module": "@jupyter-widgets/base",
      "model_module_version": "1.2.0",
      "model_name": "LayoutModel",
      "state": {
       "display": "flex"
      }
     },
     "f64b4c4aba3a46b7bcf182de8c7c1c3b": {
      "model_module": "@jupyter-widgets/controls",
      "model_module_version": "1.5.0",
      "model_name": "DescriptionStyleModel",
      "state": {
       "description_width": ""
      }
     },
     "f65325eda0914be59c852e01d9246952": {
      "model_module": "@jupyter-widgets/controls",
      "model_module_version": "1.5.0",
      "model_name": "ButtonModel",
      "state": {
       "description": "Search",
       "layout": "IPY_MODEL_8256a5ce34ee4ebc9986140d0d5a47d2",
       "style": "IPY_MODEL_421f47bdd71c4e4aa34a4dba154c5407"
      }
     },
     "f6d6052770e84816a5cfc3759b75924b": {
      "model_module": "@jupyter-widgets/base",
      "model_module_version": "1.2.0",
      "model_name": "LayoutModel",
      "state": {
       "height": "32px",
       "overflow": "visible",
       "width": "100%"
      }
     },
     "f6f423e1e9b047d3aceb41c388ae711c": {
      "model_module": "@jupyter-widgets/controls",
      "model_module_version": "1.5.0",
      "model_name": "ButtonStyleModel",
      "state": {}
     },
     "f732d959e0594d9dab7bc7ccb75a96a5": {
      "model_module": "@jupyter-widgets/controls",
      "model_module_version": "1.5.0",
      "model_name": "IntProgressModel",
      "state": {
       "layout": "IPY_MODEL_84d3eff46a4f47458ff5fb1a432e4143",
       "max": 1,
       "style": "IPY_MODEL_6165b61af3a34ee7af5b9d4f63398cb1"
      }
     },
     "f73fd22bf258486f8d4364ba559e267c": {
      "model_module": "@jupyter-widgets/base",
      "model_module_version": "1.2.0",
      "model_name": "LayoutModel",
      "state": {
       "order": "-1",
       "overflow": "visible",
       "padding": "1px",
       "width": "0px"
      }
     },
     "f7c533bbe1bc4400a955b142c0c066b9": {
      "model_module": "@jupyter-widgets/base",
      "model_module_version": "1.2.0",
      "model_name": "LayoutModel",
      "state": {
       "border": "3px solid white",
       "display": "flex",
       "flex": "1 1 0%",
       "margin": "10px",
       "min_width": "400px",
       "overflow": "visible",
       "padding": "10px",
       "width": "auto"
      }
     },
     "f804607968594016901d8f8bb34a7649": {
      "model_module": "@jupyter-widgets/base",
      "model_module_version": "1.2.0",
      "model_name": "LayoutModel",
      "state": {
       "border": "3px solid white",
       "display": "flex",
       "flex": "1 1 0%",
       "margin": "10px",
       "min_width": "400px",
       "overflow": "visible",
       "padding": "10px",
       "width": "auto"
      }
     },
     "f8304504e703442b8a1599a69e40de9d": {
      "model_module": "@jupyter-widgets/controls",
      "model_module_version": "1.5.0",
      "model_name": "LabelModel",
      "state": {
       "layout": "IPY_MODEL_06b6bef8e0f244e098cc767b3168263a",
       "style": "IPY_MODEL_9ca0b061814845af9ef2b11dfa0afcaf",
       "value": "   objective"
      }
     },
     "f83cf5acc4b84575831ebde23b3c8ff5": {
      "model_module": "@jupyter-widgets/controls",
      "model_module_version": "1.5.0",
      "model_name": "ButtonStyleModel",
      "state": {}
     },
     "f85c1d20244147eab0ebfbe10cc60490": {
      "model_module": "@jupyter-widgets/controls",
      "model_module_version": "1.5.0",
      "model_name": "HTMLModel",
      "state": {
       "layout": "IPY_MODEL_6dd00d91e07147638b3dd9550bee6b0c",
       "style": "IPY_MODEL_7db10492754a4c59bb9ad9b5fa8d28e7",
       "value": "<b>Gear Options</b>"
      }
     },
     "f865626b4b5f410e92b38dd4aeb37930": {
      "model_module": "@jupyter-widgets/controls",
      "model_module_version": "1.5.0",
      "model_name": "DescriptionStyleModel",
      "state": {
       "description_width": ""
      }
     },
     "f8931a1b6e3548c1b68325dbcd7bf8fb": {
      "model_module": "@jupyter-widgets/controls",
      "model_module_version": "1.5.0",
      "model_name": "VBoxModel",
      "state": {
       "children": [
        "IPY_MODEL_26dc6342c5714c6a802bf485a01053d2",
        "IPY_MODEL_27133889b5b74c4a922580b68341cf68",
        "IPY_MODEL_00ac43d7f8c048aaa515e3a26673da9f",
        "IPY_MODEL_f2808d260b424fdd907919b5a1870613"
       ],
       "layout": "IPY_MODEL_129bb809ddf4406eb7973f41212b1a9e"
      }
     },
     "f8d2350d3be943fbb484e4c0187a7574": {
      "model_module": "@jupyter-widgets/controls",
      "model_module_version": "1.5.0",
      "model_name": "ButtonModel",
      "state": {
       "description": "EDIT",
       "layout": "IPY_MODEL_cba1bb3ec5cb4f50bd593b36af14e222",
       "style": "IPY_MODEL_b73e4a266c8144a0b7e207e56a7fd07e"
      }
     },
     "f8d5901f1b0a4aa894566a168d1c5890": {
      "model_module": "@jupyter-widgets/base",
      "model_module_version": "1.2.0",
      "model_name": "LayoutModel",
      "state": {
       "height": "32px",
       "order": "-2",
       "width": "32px"
      }
     },
     "f8dc753f84d2459590ca2530c52dad76": {
      "model_module": "@jupyter-widgets/base",
      "model_module_version": "1.2.0",
      "model_name": "LayoutModel",
      "state": {
       "display": "none"
      }
     },
     "f9112236171d4e729a81a09569c2b3e4": {
      "model_module": "@jupyter-widgets/controls",
      "model_module_version": "1.5.0",
      "model_name": "ButtonStyleModel",
      "state": {}
     },
     "f9131e53fb6b4522964894295422deed": {
      "model_module": "@jupyter-widgets/base",
      "model_module_version": "1.2.0",
      "model_name": "LayoutModel",
      "state": {
       "width": "60px"
      }
     },
     "f931e26b14814a35a457298546931573": {
      "model_module": "@jupyter-widgets/controls",
      "model_module_version": "1.5.0",
      "model_name": "DescriptionStyleModel",
      "state": {
       "description_width": ""
      }
     },
     "f96d3ccd08ba453591945efd4974fde6": {
      "model_module": "@jupyter-widgets/controls",
      "model_module_version": "1.5.0",
      "model_name": "VBoxModel",
      "state": {
       "children": [
        "IPY_MODEL_961c5b82c45e479c90be207b86b3dd47",
        "IPY_MODEL_44ae334bf69f46d49f0359c8f2a4f92a",
        "IPY_MODEL_68e53c6888524e9bbfa9f445652f7906",
        "IPY_MODEL_0a7b857d738e4268901e4a75743923f5",
        "IPY_MODEL_b88fd4966610438cac00eb1756679fab",
        "IPY_MODEL_779c457dc2ef451f9e6251a0f6448b6c"
       ],
       "layout": "IPY_MODEL_5470e06661424ca98903445dffc3e6da"
      }
     },
     "f9a9d51aa84e4e9ea0c8940aa58621be": {
      "model_module": "@jupyter-widgets/controls",
      "model_module_version": "1.5.0",
      "model_name": "LabelModel",
      "state": {
       "layout": "IPY_MODEL_37c2161999da42da85b930b2941cdf6b",
       "style": "IPY_MODEL_781b5e8257df42c09d3695acc6a840db",
       "value": "    [Bow][Headshot] Precision (89/25)"
      }
     },
     "f9c00c41fbf64262a531544ac94fa119": {
      "model_module": "@jupyter-widgets/base",
      "model_module_version": "1.2.0",
      "model_name": "LayoutModel",
      "state": {}
     },
     "f9d5e405f48e4c5481ce65d8a582db9d": {
      "model_module": "@jupyter-widgets/base",
      "model_module_version": "1.2.0",
      "model_name": "LayoutModel",
      "state": {
       "height": "32px",
       "order": "-2",
       "width": "32px"
      }
     },
     "f9dbb32a0c1a4670815e2d14cdce41a3": {
      "model_module": "@jupyter-widgets/base",
      "model_module_version": "1.2.0",
      "model_name": "LayoutModel",
      "state": {
       "height": "32px",
       "overflow": "visible",
       "width": "100%"
      }
     },
     "f9dbcec1fa314d36a726ac5a75f5396d": {
      "model_module": "@jupyter-widgets/controls",
      "model_module_version": "1.5.0",
      "model_name": "LabelModel",
      "state": {
       "layout": "IPY_MODEL_32834de9139d4652a637a0e647e24809",
       "style": "IPY_MODEL_9d6713449ee04107a210395ce1bdaf74",
       "value": "   objective"
      }
     },
     "f9fc567a50b64a9eb891b857788e63d4": {
      "model_module": "@jupyter-widgets/controls",
      "model_module_version": "1.5.0",
      "model_name": "IntProgressModel",
      "state": {
       "layout": "IPY_MODEL_9a1ff31c840447ea96e58a7b62910bbc",
       "style": "IPY_MODEL_62dd2ad75bc3486c8c3b96d5addc9ac3",
       "value": 30
      }
     },
     "fa2a943f399a46c5ad2c82d92ce07364": {
      "model_module": "@jupyter-widgets/controls",
      "model_module_version": "1.5.0",
      "model_name": "ProgressStyleModel",
      "state": {
       "description_width": ""
      }
     },
     "fa30d3cbfc1a42458f63cb1cb649fcc3": {
      "model_module": "@jupyter-widgets/controls",
      "model_module_version": "1.5.0",
      "model_name": "ButtonModel",
      "state": {
       "description": "EDIT",
       "layout": "IPY_MODEL_affc75892bd3485d837973ab254ce883",
       "style": "IPY_MODEL_93300418cb384a58a281883bb9fc3ff9"
      }
     },
     "fa5c94271b7d4556b637274cc1b906c2": {
      "model_module": "@jupyter-widgets/controls",
      "model_module_version": "1.5.0",
      "model_name": "IntProgressModel",
      "state": {
       "layout": "IPY_MODEL_467abe6b8141451f90d2cb6286125c9c",
       "style": "IPY_MODEL_011b1349474f465bac5672bd2b891389",
       "value": 30
      }
     },
     "fa85fc9e986b47f2be57ec60ed29ab41": {
      "model_module": "@jupyter-widgets/base",
      "model_module_version": "1.2.0",
      "model_name": "LayoutModel",
      "state": {
       "order": "-1",
       "overflow": "visible",
       "padding": "1px",
       "width": "0px"
      }
     },
     "fa99d58170f24c1497f5051378b68d63": {
      "model_module": "@jupyter-widgets/controls",
      "model_module_version": "1.5.0",
      "model_name": "HBoxModel",
      "state": {
       "children": [
        "IPY_MODEL_2e071a58ad1e4debae3eebde32198473",
        "IPY_MODEL_e1a5734ccba64da78e4eb50421a8cacf",
        "IPY_MODEL_b6919df598c54430ac37913c6549e55c",
        "IPY_MODEL_61610cf274f94186bc5efa753a608fad"
       ],
       "layout": "IPY_MODEL_e4557e49f6bc4c0fbf2be1d8d3f44dbf"
      }
     },
     "faaa0343e4204cd38ed458e9a0170b99": {
      "model_module": "@jupyter-widgets/controls",
      "model_module_version": "1.5.0",
      "model_name": "HBoxModel",
      "state": {
       "children": [
        "IPY_MODEL_619e12992f0e47e8951cd1746ad407ef",
        "IPY_MODEL_5ee49d04abf94c3882b32d3294dc36ab",
        "IPY_MODEL_4a3acde855df483eb18a27f1b2e4fb92",
        "IPY_MODEL_8f006ef60110460aa281833f23b14dc5"
       ],
       "layout": "IPY_MODEL_743bbb7a97184898805adf7f5f417efd"
      }
     },
     "fac0c3e1c2854e628610c71e09ce51c7": {
      "model_module": "@jupyter-widgets/controls",
      "model_module_version": "1.5.0",
      "model_name": "ButtonStyleModel",
      "state": {}
     },
     "fad1b5ed3da545f49920c8e64ea7c6c7": {
      "model_module": "@jupyter-widgets/base",
      "model_module_version": "1.2.0",
      "model_name": "LayoutModel",
      "state": {
       "order": "-1",
       "overflow": "visible",
       "padding": "1px",
       "width": "0px"
      }
     },
     "fadc2d523ba34a9880a8ff5e957bfe31": {
      "model_module": "@jupyter-widgets/controls",
      "model_module_version": "1.5.0",
      "model_name": "HBoxModel",
      "state": {
       "children": [
        "IPY_MODEL_3bcf15cadff94ac4be6eabb62a03e672",
        "IPY_MODEL_dce6426b721d4deb9a84cd13ee4139e7",
        "IPY_MODEL_c9bef31bd0244df48a49124e5f74b7c4",
        "IPY_MODEL_a4026515f1e14295987726cb66ee0413"
       ],
       "layout": "IPY_MODEL_84b47de479fa4711ad6488c7e58e9eee"
      }
     },
     "fafda331a4324f1791dc2e66caae82bc": {
      "model_module": "@jupyter-widgets/base",
      "model_module_version": "1.2.0",
      "model_name": "LayoutModel",
      "state": {
       "display": "flex"
      }
     },
     "fb482a5213fc43a88e991ba2eb0d31f0": {
      "model_module": "@jupyter-widgets/controls",
      "model_module_version": "1.5.0",
      "model_name": "ButtonModel",
      "state": {
       "layout": "IPY_MODEL_bd9ab2e7100f4d338ae0e0275ba3b9da",
       "style": "IPY_MODEL_488b29ca9d504ee680d0045e8b1ef4c1"
      }
     },
     "fb69b7180b3c4e0093e0a4f6eee30934": {
      "model_module": "@jupyter-widgets/controls",
      "model_module_version": "1.5.0",
      "model_name": "DescriptionStyleModel",
      "state": {
       "description_width": ""
      }
     },
     "fb75d2bc124f4670a5f73ef56a4943d0": {
      "model_module": "@jupyter-widgets/controls",
      "model_module_version": "1.5.0",
      "model_name": "HBoxModel",
      "state": {
       "children": [
        "IPY_MODEL_f5134a144c52402fbeeb23f54ba24b62",
        "IPY_MODEL_7ded2c1dd7cf4d7381723a7d55142628",
        "IPY_MODEL_631426e56c4c448fa811a8da4376defb",
        "IPY_MODEL_cad1de628e3f4238a179fbdbb737d46d"
       ],
       "layout": "IPY_MODEL_5d8e3565222c44f183f6141ae7b30f23"
      }
     },
     "fb91e960d86849268c056b95543882a8": {
      "model_module": "@jupyter-widgets/controls",
      "model_module_version": "1.5.0",
      "model_name": "HBoxModel",
      "state": {
       "children": [
        "IPY_MODEL_04d39928f7094adc94ff6a97eddf0914",
        "IPY_MODEL_f732d959e0594d9dab7bc7ccb75a96a5",
        "IPY_MODEL_6cb79ce5302947e3bc8f255e0509dc9a",
        "IPY_MODEL_f4f5ffbd5c85420da8bbcbebef494f74"
       ],
       "layout": "IPY_MODEL_bc640961b5ee49808a61c80f8f3b3eac"
      }
     },
     "fbaa498b7a2a4d0eb4541af0a62495d7": {
      "model_module": "@jupyter-widgets/controls",
      "model_module_version": "1.5.0",
      "model_name": "ProgressStyleModel",
      "state": {
       "description_width": ""
      }
     },
     "fbba9dc233074274a9f030bc173b3347": {
      "model_module": "@jupyter-widgets/base",
      "model_module_version": "1.2.0",
      "model_name": "LayoutModel",
      "state": {
       "height": "32px",
       "overflow": "visible",
       "width": "100%"
      }
     },
     "fbd067d90d3d4732bd2bfe49805759f9": {
      "model_module": "@jupyter-widgets/controls",
      "model_module_version": "1.5.0",
      "model_name": "CheckboxModel",
      "state": {
       "description": "Hide Complete Objectives",
       "disabled": false,
       "layout": "IPY_MODEL_60653e1ba3e846ae9c53a954308f01fd",
       "style": "IPY_MODEL_65374e9357fa46e2b5f25cd2d845d21b",
       "value": true
      }
     },
     "fc181bfef5e44590a4de998629d0c691": {
      "model_module": "@jupyter-widgets/controls",
      "model_module_version": "1.5.0",
      "model_name": "ButtonModel",
      "state": {
       "description": "EDIT",
       "layout": "IPY_MODEL_7e1ba396ca324494996b2a1eb469ad87",
       "style": "IPY_MODEL_025c3fd5c7874f62a4bf82d1fa375890"
      }
     },
     "fc1a14dd579b41dfb72152dd7dad8e09": {
      "model_module": "@jupyter-widgets/controls",
      "model_module_version": "1.5.0",
      "model_name": "DescriptionStyleModel",
      "state": {
       "description_width": ""
      }
     },
     "fc3222162b104c2c8a83bab5afca8532": {
      "model_module": "@jupyter-widgets/controls",
      "model_module_version": "1.5.0",
      "model_name": "HTMLModel",
      "state": {
       "layout": "IPY_MODEL_5f620ca8641d4cf9ad1d2c4c3dfa80a2",
       "style": "IPY_MODEL_a10de02dc7a745089bd9097a60338ffb",
       "value": "<font size=\"1\">Triumphs/Lore/Dusk and Dawn/Revelation</font size=>"
      }
     },
     "fc465b39364d4cfdac96665e778f5f75": {
      "model_module": "@jupyter-widgets/controls",
      "model_module_version": "1.5.0",
      "model_name": "VBoxModel",
      "state": {
       "children": [
        "IPY_MODEL_70b14c5b439641de8054dc84b301597e",
        "IPY_MODEL_b1f817ce203b4b0cb6427ea404b5746c",
        "IPY_MODEL_f15eed162efa4896baafa9ba0a269b04",
        "IPY_MODEL_a8ca1d04e8e04f92848d3406625030cc"
       ],
       "layout": "IPY_MODEL_c39c980139ae4164a44ed1412bea15c4"
      }
     },
     "fc4e825c233f4c25a0058b84546d7e28": {
      "model_module": "@jupyter-widgets/base",
      "model_module_version": "1.2.0",
      "model_name": "LayoutModel",
      "state": {
       "display": "flex"
      }
     },
     "fc6c493d1be94a8c97260e88892f373d": {
      "model_module": "@jupyter-widgets/controls",
      "model_module_version": "1.5.0",
      "model_name": "ProgressStyleModel",
      "state": {
       "description_width": ""
      }
     },
     "fc6f74d28bc745a79d03d4ba0f39c004": {
      "model_module": "@jupyter-widgets/controls",
      "model_module_version": "1.5.0",
      "model_name": "ProgressStyleModel",
      "state": {
       "description_width": ""
      }
     },
     "fc7fa94ef3ae40228474459aabd09402": {
      "model_module": "@jupyter-widgets/controls",
      "model_module_version": "1.5.0",
      "model_name": "HTMLModel",
      "state": {
       "layout": "IPY_MODEL_3dd13631d5544d3a9a281c63ec72cf11",
       "style": "IPY_MODEL_514ff30419d041bca5efb12844dbf968",
       "value": "<font size=\"1\">Triumphs/Lore/Dusk and Dawn/Revelation</font size=>"
      }
     },
     "fcfdd546bc814da29df0fbd14a7bf54e": {
      "model_module": "@jupyter-widgets/controls",
      "model_module_version": "1.5.0",
      "model_name": "HBoxModel",
      "state": {
       "children": [
        "IPY_MODEL_1d53da2024484e9098b8974eaca536d1",
        "IPY_MODEL_9e17d139c95648e3af3fcadca8479fd2",
        "IPY_MODEL_a913445c77484b28b4d5ae3aa18afac3",
        "IPY_MODEL_8da7ebcaa79d437db88ac4e7f1d596bb"
       ],
       "layout": "IPY_MODEL_aca063c7e70a43b996b49b4f9ee1dede"
      }
     },
     "fd0bcd982f554034aa513ff89fa2096c": {
      "model_module": "@jupyter-widgets/controls",
      "model_module_version": "1.5.0",
      "model_name": "ButtonModel",
      "state": {
       "layout": "IPY_MODEL_826f9c3dce0743f4aad12380a8c8321b",
       "style": "IPY_MODEL_352c3e70f1704a869711762042d84fc3"
      }
     },
     "fd18a16712084123baede87087fa084c": {
      "model_module": "@jupyter-widgets/controls",
      "model_module_version": "1.5.0",
      "model_name": "ButtonStyleModel",
      "state": {}
     },
     "fd85d237631541b39bf5f8c4d8e452ec": {
      "model_module": "@jupyter-widgets/controls",
      "model_module_version": "1.5.0",
      "model_name": "HBoxModel",
      "state": {
       "children": [
        "IPY_MODEL_79c3c9880afc4dbfb8056841ba36ad13",
        "IPY_MODEL_9dd6f5e39bf9437898a3d529e99ad4d0",
        "IPY_MODEL_e9d688e84a5043ba86b1d1d86205833f",
        "IPY_MODEL_e9c5b9de5de241bcbb76d20ef304498c"
       ],
       "layout": "IPY_MODEL_88772c9ba8b44e269645042a3b20c7b7"
      }
     },
     "fdee9989bfd64731a6f1a4a003032e06": {
      "model_module": "@jupyter-widgets/base",
      "model_module_version": "1.2.0",
      "model_name": "LayoutModel",
      "state": {
       "height": "32px",
       "order": "-2",
       "width": "32px"
      }
     },
     "fdfdb70b07b048c4a7dca054f960f5ad": {
      "model_module": "@jupyter-widgets/controls",
      "model_module_version": "1.5.0",
      "model_name": "DescriptionStyleModel",
      "state": {
       "description_width": ""
      }
     },
     "febcffe9b2a24a568eb3d5f37468cc78": {
      "model_module": "@jupyter-widgets/base",
      "model_module_version": "1.2.0",
      "model_name": "LayoutModel",
      "state": {
       "height": "32px",
       "overflow": "visible",
       "width": "100%"
      }
     },
     "fec21a31060c4e08901d9e14f2873bbf": {
      "model_module": "@jupyter-widgets/controls",
      "model_module_version": "1.5.0",
      "model_name": "IntProgressModel",
      "state": {
       "layout": "IPY_MODEL_d8226a9c68db4b71902a6b6e4388b4a3",
       "max": 1,
       "style": "IPY_MODEL_b54021d2152b490a88970b4eb21b339d"
      }
     },
     "fee7c12cd4e2462f84de32709d0a5de0": {
      "model_module": "@jupyter-widgets/controls",
      "model_module_version": "1.5.0",
      "model_name": "HBoxModel",
      "state": {
       "children": [
        "IPY_MODEL_b653bbfd71f645f3a96016da473d2346",
        "IPY_MODEL_7a298a2ed5c74feaa23e4c127a7d0479",
        "IPY_MODEL_32923824402640209315bb3d5cd7ca9f",
        "IPY_MODEL_510c15423be243a08df0480aef9c7744"
       ],
       "layout": "IPY_MODEL_87bf876d02b04f2db1e169742bb64f79"
      }
     },
     "fefedc423d4f4880a10c8df0d4587804": {
      "model_module": "@jupyter-widgets/controls",
      "model_module_version": "1.5.0",
      "model_name": "ButtonStyleModel",
      "state": {}
     },
     "ff31c59471844da2a37e3add19a8935a": {
      "model_module": "@jupyter-widgets/base",
      "model_module_version": "1.2.0",
      "model_name": "LayoutModel",
      "state": {
       "display": "flex",
       "flex_flow": "row wrap"
      }
     },
     "ff8b41b831414ff8b235b5af32f204ef": {
      "model_module": "@jupyter-widgets/controls",
      "model_module_version": "1.5.0",
      "model_name": "LabelModel",
      "state": {
       "layout": "IPY_MODEL_43bd5789c92141569bd63dea43daf5ff",
       "style": "IPY_MODEL_a1e388e5e1374187989f5e30c197c5cb",
       "value": "   objective"
      }
     },
     "ffa9adc18ee74844950308e72504794e": {
      "model_module": "@jupyter-widgets/controls",
      "model_module_version": "1.5.0",
      "model_name": "ButtonModel",
      "state": {
       "description": "EDIT",
       "layout": "IPY_MODEL_7e7d7b6a488947bab85061b5f852625e",
       "style": "IPY_MODEL_0ca783f83b874b739baf34f7c36235f4"
      }
     },
     "ffb3239e86c549e498858519749f9ab1": {
      "model_module": "@jupyter-widgets/controls",
      "model_module_version": "1.5.0",
      "model_name": "ButtonStyleModel",
      "state": {}
     },
     "ffdc04786f2e4cf2964c82783198fb2e": {
      "model_module": "@jupyter-widgets/controls",
      "model_module_version": "1.5.0",
      "model_name": "HTMLModel",
      "state": {
       "layout": "IPY_MODEL_9a0dc03a62b44d2f881befd585957058",
       "style": "IPY_MODEL_effe86446e5843f5a2b98c4487fbe3f1",
       "value": "<font size=\"5\"><b>Prime Fashion</b></font size=>"
      }
     },
     "fff633a042ab45b18f5dcfab470e25fd": {
      "model_module": "@jupyter-widgets/controls",
      "model_module_version": "1.5.0",
      "model_name": "DescriptionStyleModel",
      "state": {
       "description_width": ""
      }
     }
    },
    "version_major": 2,
    "version_minor": 0
   }
  }
 },
 "nbformat": 4,
 "nbformat_minor": 4
}
