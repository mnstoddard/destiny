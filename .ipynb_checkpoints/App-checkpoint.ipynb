{
 "cells": [
  {
   "cell_type": "code",
   "execution_count": 1,
   "metadata": {},
   "outputs": [
    {
     "data": {
      "application/vnd.jupyter.widget-view+json": {
       "model_id": "3ac8684a2b1c46b3bcf8abd6a0ad65d6",
       "version_major": 2,
       "version_minor": 0
      },
      "text/plain": [
       "Output()"
      ]
     },
     "metadata": {},
     "output_type": "display_data"
    }
   ],
   "source": [
    "import pickle\n",
    "import requests\n",
    "import ipywidgets as widgets\n",
    "\n",
    "def print_map(a,lvl=0):\n",
    "    for key, val in a.items():\n",
    "        indent = ''\n",
    "        for i in range(lvl):\n",
    "            indent = indent + '  '\n",
    "        if type(val) is dict:\n",
    "            print(indent,'-', key)\n",
    "            print_map(val,lvl+1)\n",
    "        else:\n",
    "            print(indent,'-', key, ':', val)\n",
    "\n",
    "with open('triumphs.data', 'rb') as filehandle:\n",
    "    triumphs = pickle.load(filehandle)\n",
    "    \n",
    "with open('bounties.data', 'rb') as filehandle:\n",
    "    bounties = pickle.load(filehandle)\n",
    "    \n",
    "with open('requirements.data', 'rb') as filehandle:\n",
    "    requirements = pickle.load(filehandle)\n",
    "\n",
    "output = widgets.Output()\n",
    "display(output)"
   ]
  },
  {
   "cell_type": "code",
   "execution_count": 2,
   "metadata": {},
   "outputs": [],
   "source": [
    "gamertag = 'skalligman'\n",
    "\n",
    "#retrieve membershipId\n",
    "HEADERS = {'X-API-KEY':'ae7eca0de2cf4bdea9777dc66d862f71'}\n",
    "base = 'https://www.bungie.net/Platform/Destiny2'\n",
    "\n",
    "#retrieve membershipId\n",
    "URL = f'{base}/SearchDestinyPlayer/-1/{gamertag}/'\n",
    "r = requests.get(url = URL, headers = HEADERS) \n",
    "data = r.json()\n",
    "membershipId = data['Response'][0]['membershipId']\n",
    "\n",
    "#retrieve characterIds\n",
    "URL = f'{base}/1/Profile/{membershipId}/?components=200'\n",
    "r = requests.get(url = URL, headers = HEADERS) \n",
    "data = r.json()\n",
    "characterIds = list(data['Response']['characters']['data'].keys())\n",
    "characters = {}\n",
    "for characterId in characterIds:\n",
    "    if data['Response']['characters']['data'][characterId]['classHash'] == 2271682572:\n",
    "        characters[characterId] = 'Warlock' \n",
    "    if data['Response']['characters']['data'][characterId]['classHash'] == 671679327:\n",
    "        characters[characterId] = 'Hunter' \n",
    "    if data['Response']['characters']['data'][characterId]['classHash'] == 3655393761:\n",
    "        characters[characterId] = 'Titan' \n",
    "\n",
    "URL = f'{base}/1/Profile/{membershipId}/?components=900'\n",
    "r = requests.get(url = URL, headers = HEADERS) \n",
    "data = r.json()\n",
    "records = data['Response']['profileRecords']['data']['records']\n",
    "for characterId in characterIds:\n",
    "    records.update(data['Response']['characterRecords']['data'][characterId]['records'])\n",
    "for record in records:\n",
    "    if int(record) in triumphs:\n",
    "        if 'objectives' in records[record]:\n",
    "            obj = 'objectives'\n",
    "        if 'intervalObjectives' in records[record]:\n",
    "            obj = 'intervalObjectives'\n",
    "        triumphs[int(record)]['complete'] = True\n",
    "        for objective in records[record][obj]:\n",
    "            objectiveHash = objective['objectiveHash']\n",
    "            triumphs[int(record)]['objectives'][objectiveHash]['progress'] = objective['progress']\n",
    "            triumphs[int(record)]['objectives'][objectiveHash]['complete'] = objective['complete']\n",
    "            if not objective['complete']:\n",
    "                triumphs[int(record)]['complete'] = False\n",
    "\n",
    "bountyInstances = {}\n",
    "nonInstancedItems = {}\n",
    "\n",
    "URL = f'{base}/1/Profile/{membershipId}?components=201'\n",
    "r = requests.get(url = URL, headers = HEADERS) \n",
    "data = r.json()\n",
    "for characterId in data['Response']['characterInventories']['data']:\n",
    "    nonInstancedItems[characterId] = []\n",
    "    for item in data['Response']['characterInventories']['data'][characterId]['items']:\n",
    "        if item['bucketHash'] == 1345459588:\n",
    "            if 'itemInstanceId' in item:\n",
    "                if item['itemHash'] in bounties:\n",
    "                    bountyInstances[item['itemInstanceId']] = bounties[item['itemHash']]\n",
    "                    bountyInstances[item['itemInstanceId']]['itemHash'] = item['itemHash']\n",
    "                    if 'expirationDate' in item:\n",
    "                        bountyInstances[item['itemInstanceId']]['expirationDate'] = item['expirationDate']\n",
    "                    else:\n",
    "                        bountyInstances[item['itemInstanceId']]['expirationDate'] = 'none'\n",
    "            else:\n",
    "                nonInstancedItems[characterId].append(item['itemHash'])\n",
    "\n",
    "        \n",
    "                \n",
    "for bountyInstance in bountyInstances:\n",
    "    URL = f'{base}/1/Profile/{membershipId}/Item/{bountyInstance}/?components=301'\n",
    "    r = requests.get(url = URL, headers = HEADERS)\n",
    "    bountyInstanceData = r.json()\n",
    "    bountyInstances[bountyInstance]['character'] = characters[bountyInstanceData['Response']['characterId']]\n",
    "    for objective in bountyInstanceData['Response']['objectives']['data']['objectives']:\n",
    "        bountyInstances[bountyInstance]['objectives'][objective['objectiveHash']]['progress'] = objective['progress']\n",
    "        bountyInstances[bountyInstance]['objectives'][objective['objectiveHash']]['complete'] = objective['complete']\n",
    "\n"
   ]
  },
  {
   "cell_type": "code",
   "execution_count": 5,
   "metadata": {},
   "outputs": [],
   "source": [
    "all_tasks = {}\n",
    "\n",
    "for triumph in triumphs:\n",
    "    all_tasks[triumph] = {\n",
    "        'path': triumphs[triumph]['path'],\n",
    "        'name': triumphs[triumph]['name'],\n",
    "        'description': triumphs[triumph]['description'],\n",
    "        'objectives': {}}\n",
    "    for objective in triumphs[triumph]['objectives']:\n",
    "        all_tasks[triumph]['objectives'][objective] = {\n",
    "            'description': triumphs[triumph]['objectives'][objective]['description'],\n",
    "            'completionValue': triumphs[triumph]['objectives'][objective]['completionValue'],\n",
    "            'progress': triumphs[triumph]['objectives'][objective]['progress']\n",
    "        }\n",
    "        \n",
    "\n",
    "        \n",
    "for bounty in bounties:\n",
    "    vendor = bounties[bounty]['vendor']\n",
    "    all_tasks[bounty] = {\n",
    "        'path': f'Pursuits/Bounties/{vendor}',\n",
    "        'name': bounties[bounty]['name'],\n",
    "        'description': bounties[bounty]['description'],\n",
    "        'objectives': {}}\n",
    "    for objective in bounties[bounty]['objectives']:\n",
    "        all_tasks[bounty]['objectives'][objective] = {\n",
    "            'description': bounties[bounty]['objectives'][objective]['description'],\n",
    "            'completionValue': bounties[bounty]['objectives'][objective]['completionValue'],\n",
    "            'progress': bounties[bounty]['objectives'][objective]['progress']\n",
    "        }"
   ]
  },
  {
   "cell_type": "code",
   "execution_count": 6,
   "metadata": {},
   "outputs": [],
   "source": [
    "\n",
    "hbox_GUI = widgets.HBox()\n"
   ]
  },
  {
   "cell_type": "code",
   "execution_count": 7,
   "metadata": {},
   "outputs": [],
   "source": [
    "options = {\n",
    "    'Class': ['Any', 'Titan', 'Hunter', 'Warlock'],\n",
    "    'Subclass': {\n",
    "        'Titan': ['Any', 'Sentinel', 'Striker', 'Sunbreaker'],\n",
    "        'Hunter': ['Any', 'Nightstalker', 'Arcstrider', 'Gunslinger'],\n",
    "        'Warlock': ['Any', 'Voidwalker', 'Stormcaller', 'Dawnblade']\n",
    "    },\n",
    "    'Tree': {\n",
    "        'Titan': {\n",
    "            'Sentinel': ['Any', 'Code of the Commander', 'Code of the Protector', 'Code of the Aggressor'],\n",
    "            'Striker': ['Any', 'Code of the Earthshaker', 'Code of the Missile', 'Code of the Juggernaut'],\n",
    "            'Sunbreaker':['Any', 'Code of the Fire-Forged', 'Code of the Devastator', 'Code of the Siegebreaker']\n",
    "        },\n",
    "        'Hunter': {\n",
    "            'Nightstalker': ['Any', 'Way of the Trapper', 'Way of the Wraith', 'Way of the Pathfinder'],\n",
    "            'Arcstrider': ['Any', 'Way of the Warrior', 'Way of the Current', 'Way of the Wind'],\n",
    "            'Gunslinger': ['Any', 'Way of the Outlaw', 'Way of a Thousand Cuts', 'Way of the Outlaw']\n",
    "        },\n",
    "        'Warlock': {\n",
    "            'Voidwalker': ['Any', 'Attunement of Chaos', 'Attunement of Fission', 'Attunement of Hunger'],\n",
    "            'Stormcaller': ['Any', 'Attunement of Conduction', 'Attunement of Control', 'Attunement of the Elements'],\n",
    "            'Dawnblade': ['Any', 'Attunement of Sky', 'Attunement of Grace', 'Attunement of Flame']\n",
    "        }\n",
    "    },\n",
    "    'Grenade': {\n",
    "        'Titan': {\n",
    "            'Sentinel': ['Any', 'Magnetic Grenade', 'Voidwall Grenade', 'Suppressor Grenade'],\n",
    "            'Striker': ['Any', 'Flashbang Grenade', 'Pulse Grenade', 'Lightning Grenade'],\n",
    "            'Sunbreaker':['Any', 'Incendiary Grenade', 'Thermite Grenade', 'Fusion Grenade']\n",
    "        },\n",
    "        'Hunter': {\n",
    "            'Nightstalker':['Any' ,'Vortex Grenade', 'Spike Grenade', ' Voidwall Grenade'],\n",
    "            'Arcstrider': ['Any', 'Skip Grenade', 'Flux Grenade', 'Arcbolt Grenade'],\n",
    "            'Gunslinger': ['Any', 'Incendiary Grenade', 'Swarm Grenade', 'Tripmine Grenade']\n",
    "        },\n",
    "        'Warlock': {\n",
    "            'Voidwalker': ['Any', 'Vortex Grenade', 'Axion Bolt', 'Scatter Grenade'],\n",
    "            'Stormcaller': ['Any', 'Arcbolt Grenade', 'Pulse Grenade', 'Storm Grenade'],\n",
    "            'Dawnblade': ['Any', 'Solar Grenade', 'Firebolt Grenade', 'Fusion Grenade']\n",
    "        }\n",
    "    },\n",
    "    \n",
    "    'Kinetic Weapon': ['Any', 'Hand Cannon', 'Auto Rifle', 'Scout Rifle', 'Pulse Rifle', 'Sidearm', 'Submachine Gun', 'Combt Bow', 'Sniper Rifle', 'Shotgun'],\n",
    "    'Energy Weapon': ['Any', 'Hand Cannon', 'Auto Rifle', 'Scout Rifle', 'Pulse Rifle', 'Sidearm', 'Submachine Gun', 'Combt Bow', 'Sniper Rifle', 'Shotgun', 'Fusion Rifle', 'Grenade Launcher'],\n",
    "    'Power Weapon': ['Any', 'Machine Gun', 'Sword', 'Grenade Launcher', 'Rocket Launcher', 'Linear Fusion Rifle'],\n",
    "    'Energy Weapon Type': ['Any', 'Arc', 'Solar', 'Void'],\n",
    "    'Power Weapon Type': ['Any', 'Arc', 'Solar', 'Void'],\n",
    "    'Armor': ['Any'],\n",
    "    \n",
    "    'Activity Type': ['Any', 'Patrol', 'Gambit', 'Reckoning', 'Menagerie', 'Vex Offensive', 'Raid', 'Strike', 'Nightfall', 'Crucible', 'Forge'],\n",
    "    'Activity': {\n",
    "        'Patrol': ['Any', 'Earth', 'Io', 'Nessus', 'Titan','Mars', 'Dreaming City', 'Tangled Shore', 'The Moon'],\n",
    "        'Strike': ['Any', 'Lake of Shadows','Savathûn\\'s Song','The Arms Dealer','The Inverted Spire','The Pyramidion', 'A Garden World','Tree of Probabilities','Will of The Thousands','Strange Terrain','The Insight Termius','Warden of Nothing','Broodhold','The Hollowed Lair','The Corrupted'],\n",
    "        'Nightfall': ['Any', 'Lake of Shadows','Savathûn\\'s Song','The Arms Dealer','The Inverted Spire','The Pyramidion', 'A Garden World','Tree of Probabilities','Will of The Thousands','Strange Terrain','The Insight Termius','Warden of Nothing','Broodhold','The Hollowed Lair','The Corrupted'],\n",
    "        'Raid': ['Any', 'Liathan', 'Prestige Leviathan', 'Eater of Worlds', 'Spire of Stars', 'Last Wish', 'Scourage of The Past', 'Crown of Sorrow', 'Garden of Salvation'],\n",
    "        'Crucible': ['Any', 'Clash', 'Control', 'Showdown', 'Mayhem', 'Breakthrough', 'Lockdown', 'Rumble', 'Supremacy', 'Doubles', 'Scorched', 'Countdown', 'Survival', 'Iron Banner'],\n",
    "        'Gambit': ['Any', 'Gambit', 'Gambit Prime'],\n",
    "        'Reckoning': ['Any', 'Tier I', 'Tier II', 'Tier III'],\n",
    "        'Menagerie': ['Any', 'Normal', 'Heroic'],\n",
    "        'Forge': ['Any', 'Volundr Forge', 'Gofannon Forge', 'Izanami Forge', 'Bergusia Forge']\n",
    "    }\n",
    "}\n",
    "\n",
    "\n",
    "#build Options Pane\n",
    "\n",
    "box_spacer = widgets.Box(layout=widgets.Layout(height='20px'))\n",
    "\n",
    "#---------------------Filter---------------------\n",
    "layout_box = widgets.Layout(\n",
    "    border='1px solid white',\n",
    "    width='15%',\n",
    "    padding='10px'\n",
    ")\n",
    "\n",
    "layout_general = widgets.Layout(\n",
    "    width='98%',\n",
    "    height = '100%'\n",
    ")\n",
    "\n",
    "layout_dropdown_inactive = widgets.Layout(\n",
    "    width='98%',\n",
    "    height = '100%',\n",
    "    border = ''\n",
    ")\n",
    "\n",
    "layout_dropdown_active = widgets.Layout(\n",
    "    width='98%',\n",
    "    border = '2px solid #00bcd4',\n",
    "    height = '100%'\n",
    ")\n",
    "\n",
    "\n",
    "#---------------------Class---------------------\n",
    "label_class_options = widgets.HTML(value = \"<b>Class Options</b>\")\n",
    "\n",
    "label_class = widgets.Label(value='Class:',layout = layout_general)\n",
    "dropdown_class = widgets.Dropdown(options = options['Class'],layout = layout_dropdown_inactive)\n",
    "\n",
    "label_subclass = widgets.Label(value='Subclass:',layout = layout_general)\n",
    "dropdown_subclass = widgets.Dropdown(options = ['Any'],disabled = True,layout = layout_dropdown_inactive)\n",
    "\n",
    "label_tree = widgets.Label(value='Tree:',layout = layout_general)\n",
    "dropdown_tree = widgets.Dropdown(options = ['Any'],disabled = True,layout = layout_dropdown_inactive)\n",
    "\n",
    "label_grenade = widgets.Label(value='Grenade:',layout = layout_general)\n",
    "dropdown_grenade = widgets.Dropdown(options = ['Any'],disabled = True,layout = layout_dropdown_inactive)\n",
    "\n",
    "vbox_class_options = widgets.VBox(\n",
    "    children = [\n",
    "        label_class_options,\n",
    "        label_class,\n",
    "        dropdown_class,\n",
    "        label_subclass,\n",
    "        dropdown_subclass,\n",
    "        label_tree,\n",
    "        dropdown_tree,\n",
    "        label_grenade,\n",
    "        dropdown_grenade])\n",
    "\n",
    "\n",
    "#---------------------Gear---------------------\n",
    "label_gear_options = widgets.HTML(value = \"<b>Gear Options</b>\")\n",
    "\n",
    "label_kinetic = widgets.Label(value='Kinetic Weapon:',layout = layout_general)\n",
    "dropdown_kinetic = widgets.Dropdown(options = options['Kinetic Weapon'],layout = layout_dropdown_inactive)\n",
    "\n",
    "label_energy = widgets.Label(value='Energy Weapon:',layout = layout_general)\n",
    "dropdown_energy = widgets.Dropdown(options = options['Energy Weapon'],layout = layout_general)\n",
    "dropdown_energy_type = widgets.Dropdown(options = options['Energy Weapon Type'],layout = layout_dropdown_inactive)\n",
    "\n",
    "label_power = widgets.Label(value='Power Weapon:',layout = layout_general)\n",
    "dropdown_power = widgets.Dropdown(options = options['Power Weapon'])\n",
    "dropdown_power_type = widgets.Dropdown(options = options['Power Weapon Type'],layout = layout_dropdown_inactive)\n",
    "\n",
    "label_armor = widgets.Label(value='Armor Set:',layout = layout_general)\n",
    "dropdown_armor = widgets.Dropdown(options = options['Armor'],layout = layout_dropdown_inactive)\n",
    "\n",
    "vbox_gear = widgets.VBox(\n",
    "    children = [\n",
    "        label_gear_options,\n",
    "        label_kinetic,\n",
    "        dropdown_kinetic,\n",
    "        label_energy,\n",
    "        dropdown_energy,\n",
    "        dropdown_energy_type,\n",
    "        label_power,\n",
    "        dropdown_power,\n",
    "        dropdown_power_type,\n",
    "        label_armor,\n",
    "        dropdown_armor])\n",
    "\n",
    "#---------------------Activities---------------------\n",
    "label_activity_options = widgets.HTML(\n",
    "    value = \"<b>Activity Options</b>\",layout = layout_general)\n",
    "\n",
    "dropdown_activity_type = widgets.Dropdown(options = options['Activity Type'],layout = layout_dropdown_inactive)\n",
    "\n",
    "dropdown_activity = widgets.Dropdown(options = ['Any'],disabled = True,layout = layout_dropdown_inactive)\n",
    "\n",
    "vbox_activity = widgets.VBox(\n",
    "    children=[\n",
    "        label_activity_options,\n",
    "        dropdown_activity_type,\n",
    "        dropdown_activity])\n",
    "\n",
    "#----------Options-------------\n",
    "\n",
    "vbox_options = widgets.VBox(\n",
    "    children=[\n",
    "        vbox_activity,\n",
    "        box_spacer,\n",
    "        vbox_class_options,\n",
    "        box_spacer,\n",
    "        vbox_gear],\n",
    "    layout = layout_box)\n",
    "\n",
    "#-----------------------Interact Functions --------------------------\n",
    "\n",
    "def change_class(change):\n",
    "    if change['new'] == 'Any':\n",
    "        dropdown_subclass.options = ['Any']\n",
    "        dropdown_subclass.disabled = True\n",
    "    else:\n",
    "        dropdown_subclass.options = options['Subclass'][change['new']]\n",
    "        dropdown_subclass.disabled = False\n",
    "        \n",
    "def change_subclass(change):\n",
    "    if change['new'] == 'Any':\n",
    "        dropdown_tree.options = ['Any']\n",
    "        dropdown_tree.disabled = True\n",
    "        dropdown_grenade.options = ['Any']\n",
    "        dropdown_grenade.disabled = True\n",
    "    else:\n",
    "        dropdown_tree.options = options['Tree'][dropdown_class.value][change['new']]\n",
    "        dropdown_tree.disabled = False\n",
    "        dropdown_grenade.options = options['Grenade'][dropdown_class.value][change['new']]\n",
    "        dropdown_grenade.disabled = False\n",
    "        \n",
    "def change_activity_type(change):\n",
    "    if change['new'] == 'Any':\n",
    "        dropdown_activity.options = ['Any']\n",
    "        dropdown_activity.disabled = True\n",
    "    else:\n",
    "        dropdown_activity.options = options['Activity'][change['new']]\n",
    "        dropdown_activity.disabled = False\n",
    "        \n",
    "        \n",
    "dropdown_class.observe(change_class, names = 'value')\n",
    "dropdown_subclass.observe(change_subclass, names = 'value')\n",
    "dropdown_activity_type.observe(change_activity_type, names = 'value')\n"
   ]
  },
  {
   "cell_type": "code",
   "execution_count": 8,
   "metadata": {},
   "outputs": [],
   "source": [
    "n_per_page = 15\n",
    "\n",
    "def toggle_objective(b):\n",
    "    if b.objective_hash in active_objectives:\n",
    "        active_objectives.remove(b.objective_hash)\n",
    "    else:\n",
    "        active_objectives.append(b.objective_hash)\n",
    "    refresh_loadout()\n",
    "    refresh_task_view()\n",
    "    \n",
    "    \n",
    "    \n",
    "def edit_objective(b):\n",
    "    dropdown_triumph_req.value = b.task_hash\n",
    "    dropdown_objective_req.value = b.objective_hash\n",
    "\n",
    "def build_task_widget():\n",
    "\n",
    "    layout_vbox_triumph = widgets.Layout(\n",
    "        margin = '10px',\n",
    "        padding='10px',\n",
    "        border='3px solid white',\n",
    "        width = '400px',\n",
    "        overflow = 'visible')\n",
    "\n",
    "    layout_label_name = widgets.Layout(\n",
    "        width = '100%',\n",
    "        overflow = 'visible')\n",
    "\n",
    "    layout_label_word = widgets.Layout(\n",
    "        )\n",
    "\n",
    "    layout_hbox_description = widgets.Layout(\n",
    "        display = 'flex',\n",
    "        flex_flow = 'row wrap')\n",
    "\n",
    "    layout_vbox_objectives = widgets.Layout(\n",
    "        width = '100%',\n",
    "        overflow = 'visible')\n",
    "\n",
    "\n",
    "    layout_label_objective = widgets.Layout(\n",
    "        padding='1px',\n",
    "        width = '0px',\n",
    "        overflow = 'visible',\n",
    "        order='-1')\n",
    "\n",
    "    layout_intProgress_objective = widgets.Layout(\n",
    "        padding='0px',\n",
    "        #border='1px solid black',\n",
    "        width = '100%',\n",
    "        height = '32px',\n",
    "        overflow = 'visible')\n",
    "\n",
    "    layout_button_objective = widgets.Layout(\n",
    "        width = '32px',\n",
    "        height = '32px',\n",
    "        order = '-2')\n",
    "\n",
    "    vbox_triumph = widgets.VBox(layout=layout_vbox_triumph)\n",
    "    \n",
    "    label_path = widgets.HTML(value = '<font size=\"1\">Path/Path/Path/Path/</font size>', layout = layout_label_name)\n",
    "\n",
    "    label_name = widgets.HTML(value = '<b>Task Name</b>', layout = layout_label_name)\n",
    "\n",
    "    label_description = widgets.HTML(value = '<i>test test test test test test test test test test test test test test test test test test test test test test test test </i>')\n",
    "\n",
    "    vbox_objectives = widgets.VBox(layout=layout_vbox_objectives)\n",
    "    objectives = []\n",
    "    for i in range(6):\n",
    "        \n",
    "        button_objective = widgets.Button(layout = layout_button_objective)\n",
    "        button_objective.objective_hash = 0\n",
    "        button_objective.on_click(toggle_objective)\n",
    "        button_edit = widgets.Button(description='EDIT', layout=widgets.Layout(width='60px'))\n",
    "        button_edit.on_click(edit_objective)\n",
    "        \n",
    "        objective_description = f'objective {i}'\n",
    "        label_objective = widgets.Label(value = f'\\xa0\\xa0\\xa0\\xa0\\xa0\\xa0\\xa0\\xa0\\xa0\\xa0\\xa0\\xa0\\xa0{objective_description}', layout = layout_label_objective)\n",
    "        \n",
    "        intProgress_objective = widgets.IntProgress(\n",
    "            value=30,\n",
    "            min=0,\n",
    "            max=100,\n",
    "            step=1,\n",
    "            layout = layout_intProgress_objective)\n",
    "        \n",
    "        hbox_objective = widgets.HBox()\n",
    "        hbox_objective.children = [button_objective,intProgress_objective, label_objective, button_edit]\n",
    "        button_objective.parent = hbox_objective\n",
    "        hbox_objective.parent = vbox_objectives\n",
    "        \n",
    "        \n",
    "        objectives.append(hbox_objective)\n",
    "\n",
    "    vbox_objectives.children = objectives\n",
    "    vbox_triumph.children = [label_path,label_name,label_description, vbox_objectives]\n",
    "    vbox_objectives.parent = vbox_triumph\n",
    "\n",
    "    return (vbox_triumph)\n",
    "    \n",
    "vbox_tasks = widgets.VBox(layout=widgets.Layout(width='85%'))\n",
    "\n",
    "hbox_tasks_header = widgets.HBox(layout=widgets.Layout(justify_content = 'space-between'))\n",
    "button_refresh = widgets.Button(description='Refresh')\n",
    "button_previous_page = widgets.Button(description = 'Previous Page')\n",
    "button_next_page = widgets.Button(description = 'Next Page')\n",
    "label_current_page = widgets.HTML('Current Page')\n",
    "hbox_task_buttons = widgets.HBox(children=[button_previous_page,button_next_page])\n",
    "vbox_task_info = widgets.VBox(children=[label_current_page,hbox_task_buttons])\n",
    "checkbox_complete = widgets.Checkbox(description='Hide Complete')\n",
    "checkbox_triumphs = widgets.Checkbox(description='Hide Triumphs')\n",
    "checkbox_pursuits = widgets.Checkbox(description='Hide Pursuits')\n",
    "checkbox_collections = widgets.Checkbox(description='Hide Collections')\n",
    "checkbox_milestones = widgets.Checkbox(description='Hide Milestones')\n",
    "checkbox_conflicting = widgets.Checkbox(description='Hide Conflicting Tasks')\n",
    "layout_checkboxes = widgets.Layout(display = 'flex', flex_flow = 'column wrap')\n",
    "box_checkboxes = widgets.Box(children=[checkbox_complete,checkbox_triumphs,checkbox_pursuits,checkbox_collections,checkbox_milestones,checkbox_conflicting],layout=layout_checkboxes)\n",
    "hbox_tasks_header.children = [button_refresh,box_checkboxes,vbox_task_info]\n",
    "\n",
    "layout_tasks = widgets.Layout(\n",
    "    display = 'flex',\n",
    "    flex_flow = 'row wrap',\n",
    "    justify_content = 'space-between'\n",
    ")\n",
    "task_widgets = []\n",
    "for i in range(n_per_page):\n",
    "    task_widgets.append(build_task_widget())\n",
    "box_tasks = widgets.Box(children=task_widgets, layout=layout_tasks)\n",
    "\n",
    "\n",
    "vbox_tasks.children = [hbox_tasks_header,box_tasks]\n",
    "\n",
    "hbox_GUI.children=[vbox_options,vbox_tasks]"
   ]
  },
  {
   "cell_type": "code",
   "execution_count": 9,
   "metadata": {},
   "outputs": [],
   "source": [
    "\n",
    "active_objectives = []\n",
    "total_potential_tasks = 0\n",
    "tasks_per_page = 15\n",
    "total_task_pages = 0\n",
    "current_page = 0\n",
    "\n",
    "\n",
    "def filter_tasks():\n",
    "    \n",
    "    global potential_tasks\n",
    "    global total_potential_tasks\n",
    "    global total_task_pages\n",
    "    global current_page\n",
    "    \n",
    "    current_page = 0\n",
    "    \n",
    "    potential_tasks = []\n",
    "\n",
    "    for task in all_tasks:\n",
    "        add_task = True\n",
    "        \n",
    "        #filter compllete\n",
    "        if checkbox_complete.value:\n",
    "            complete = True\n",
    "            for objective in all_tasks[task]['objectives']:\n",
    "                if all_tasks[task]['objectives'][objective]['progress'] < all_tasks[task]['objectives'][objective]['completionValue']:\n",
    "                    complete = False\n",
    "            if complete:\n",
    "                add_task = False\n",
    "                \n",
    "        #filter triumphs\n",
    "        if checkbox_triumphs.value and ('Triumphs' in all_tasks[task]['path'] or 'Seals' in all_tasks[task]['path']):\n",
    "            add_task = False\n",
    "            \n",
    "        #filter pursuits\n",
    "        if checkbox_pursuits.value and 'Pursuits' in all_tasks[task]['path']:\n",
    "            add_task = False\n",
    "        \n",
    "        \n",
    "        if checkbox_conflicting.value:\n",
    "            conflicting = True\n",
    "            for objective in all_tasks[task]['objectives']:\n",
    "                if not has_conflict(objective):\n",
    "                    conflicting = False\n",
    "            if conflicting:\n",
    "                add_task = False\n",
    "        if add_task:\n",
    "            potential_tasks.append(task) \n",
    " \n",
    "    total_potential_tasks = len(potential_tasks)      \n",
    "    total_task_pages = int(total_potential_tasks/tasks_per_page)\n",
    "    if total_potential_tasks%tasks_per_page > 0:\n",
    "        total_task_pages += 1\n",
    "\n",
    "\n",
    "\n",
    "filter_tasks()\n",
    "\n",
    "\n",
    "\n",
    "def has_conflict(objective):\n",
    "    conflict = False\n",
    "    if objective in requirements:\n",
    "        for requirement in requirements[objective]:\n",
    "            if requirements[objective][requirement] != 'Any':\n",
    "                if requirement == 'Activity Type' and dropdown_activity_type.value != requirements[objective][requirement]:\n",
    "                    if dropdown_activity_type.value != 'Any':\n",
    "                        conflict = True\n",
    "                if requirement == 'Activity' and dropdown_activity.value != requirements[objective][requirement]:\n",
    "                    if dropdown_activity.value != 'Any':\n",
    "                        conflict = True\n",
    "                if requirement == 'Class' and dropdown_class.value != requirements[objective][requirement]:\n",
    "                    if dropdown_class.value != 'Any':\n",
    "                        conflict = True\n",
    "                if requirement == 'Subclass' and dropdown_subclass.value != requirements[objective][requirement]:\n",
    "                    if dropdown_subclass.value != 'Any':\n",
    "                        conflict = True\n",
    "                if requirement == 'Tree' and dropdown_tree.value != requirements[objective][requirement]:\n",
    "                    if dropdown_tree.value != 'Any':\n",
    "                        conflict = True\n",
    "                if requirement == 'Grenade' and dropdown_grenade.value != requirements[objective][requirement]:\n",
    "                    if dropdown_grenade.value != 'Any':\n",
    "                        conflict = True\n",
    " \n",
    "    return conflict\n",
    "\n",
    "\n",
    "\n",
    "def refresh_task_view():\n",
    "    \n",
    "    global current_page\n",
    "    \n",
    "    if current_page == 0:\n",
    "        button_previous_page.disabled = True\n",
    "    else:\n",
    "        button_previous_page.disabled = False\n",
    "    if current_page == total_task_pages - 1:\n",
    "        button_next_page.disabled = True\n",
    "    else:\n",
    "        button_next_page.disabled = False\n",
    "    \n",
    "    starting_task = current_page*tasks_per_page\n",
    "    \n",
    "    if total_potential_tasks == 0:\n",
    "        hbox_GUI.children[1].children[0].children[2].children[0].value = 'No tasks to show!!'\n",
    "    elif starting_task+tasks_per_page > total_potential_tasks:\n",
    "        hbox_GUI.children[1].children[0].children[2].children[0].value = f'Showing Tasks {starting_task+1}-{total_potential_tasks} of {total_potential_tasks}'\n",
    "    else:\n",
    "        hbox_GUI.children[1].children[0].children[2].children[0].value = f'Showing Tasks {starting_task+1}-{starting_task+tasks_per_page} of {total_potential_tasks}'\n",
    "\n",
    "    for i in range(tasks_per_page):\n",
    "        \n",
    "        #hide extra task boxes\n",
    "        if starting_task + i >= total_potential_tasks:\n",
    "            hbox_GUI.children[1].children[1].children[i].layout.display = 'none'\n",
    "        else:\n",
    "            hbox_GUI.children[1].children[1].children[i].layout.display = 'flex'\n",
    "            task = potential_tasks[starting_task+i]\n",
    "            \n",
    "        \n",
    "            #update values in task box\n",
    "            task_path = all_tasks[task]['path']\n",
    "            hbox_GUI.children[1].children[1].children[i].children[0].value = f'<font size=\"1\">{task_path}/</font size=>'\n",
    "\n",
    "            task_name = all_tasks[task]['name']\n",
    "            hbox_GUI.children[1].children[1].children[i].children[1].value = f'<font size=\"5\"><b>{task_name}</b></font size=>'\n",
    "\n",
    "            task_description = all_tasks[task]['description']\n",
    "            hbox_GUI.children[1].children[1].children[i].children[2].value = f'<i>{task_description}</i>'\n",
    "\n",
    "            for j in range(6):\n",
    "                if j >= len(all_tasks[task]['objectives']):\n",
    "                    hbox_GUI.children[1].children[1].children[i].children[3].children[j].layout.display = 'none'\n",
    "                else:\n",
    "                    hbox_GUI.children[1].children[1].children[i].children[3].children[j].layout.display = 'flex'\n",
    "\n",
    "                    objective_hash = list(all_tasks[task]['objectives'].keys())[j]\n",
    "\n",
    "                    hbox_GUI.children[1].children[1].children[i].children[3].children[j].children[0].objective_hash = objective_hash\n",
    "                    hbox_GUI.children[1].children[1].children[i].children[3].children[j].children[3].objective_hash = objective_hash\n",
    "                    hbox_GUI.children[1].children[1].children[i].children[3].children[j].children[3].task_hash = task\n",
    "\n",
    "                    objective_completion_value = all_tasks[task]['objectives'][objective_hash]['completionValue']\n",
    "                    hbox_GUI.children[1].children[1].children[i].children[3].children[j].children[1].max = objective_completion_value\n",
    "\n",
    "                    objective_progress = all_tasks[task]['objectives'][objective_hash]['progress']\n",
    "                    hbox_GUI.children[1].children[1].children[i].children[3].children[j].children[1].value = objective_progress\n",
    "\n",
    "                    objective_description = all_tasks[task]['objectives'][objective_hash]['description']\n",
    "                    indent = '\\xa0\\xa0\\xa0\\xa0'\n",
    "                    hbox_GUI.children[1].children[1].children[i].children[3].children[j].children[2].value = f'{indent}{objective_description} ({objective_progress}/{objective_completion_value})'\n",
    "\n",
    "\n",
    "                    #set objective color\n",
    "                    if objective_progress >= objective_completion_value:\n",
    "                        hbox_GUI.children[1].children[1].children[i].children[3].children[j].children[0].button_style = 'success'\n",
    "                        hbox_GUI.children[1].children[1].children[i].children[3].children[j].children[0].disabled = True\n",
    "                        hbox_GUI.children[1].children[1].children[i].children[3].children[j].children[1].bar_style = 'success'\n",
    "                    elif objective_hash in active_objectives:\n",
    "                        hbox_GUI.children[1].children[1].children[i].children[3].children[j].children[0].button_style = 'info'\n",
    "                        hbox_GUI.children[1].children[1].children[i].children[3].children[j].children[0].disabled = False\n",
    "                        hbox_GUI.children[1].children[1].children[i].children[3].children[j].children[1].bar_style = 'info'\n",
    "                    elif has_conflict(objective_hash):\n",
    "                        hbox_GUI.children[1].children[1].children[i].children[3].children[j].children[0].button_style = 'danger'\n",
    "                        hbox_GUI.children[1].children[1].children[i].children[3].children[j].children[0].disabled = True\n",
    "                        hbox_GUI.children[1].children[1].children[i].children[3].children[j].children[1].bar_style = 'danger'\n",
    "                    else:\n",
    "                        hbox_GUI.children[1].children[1].children[i].children[3].children[j].children[0].button_style = ''\n",
    "                        hbox_GUI.children[1].children[1].children[i].children[3].children[j].children[0].disabled = False\n",
    "                        hbox_GUI.children[1].children[1].children[i].children[3].children[j].children[1].bar_style = ''\n",
    "\n",
    "\n",
    "\n",
    "            \n",
    "refresh_task_view()\n",
    "\n",
    "def previous_page(b):\n",
    "    global current_page    \n",
    "    current_page -= 1\n",
    "    refresh_task_view()\n",
    "\n",
    "\n",
    "def next_page(b):\n",
    "    global current_page\n",
    "    current_page += 1\n",
    "    refresh_task_view()\n",
    "\n",
    "button_previous_page.on_click(previous_page)\n",
    "button_next_page.on_click(next_page)\n",
    "\n",
    "\n",
    "def refresh_button(b):\n",
    "    filter_tasks()\n",
    "    refresh_task_view()\n",
    "    \n",
    "button_refresh.on_click(refresh_button)\n"
   ]
  },
  {
   "cell_type": "code",
   "execution_count": 10,
   "metadata": {},
   "outputs": [],
   "source": [
    "possible_requirements = {\n",
    "    'Class': ['Any', 'Titan', 'Hunter', 'Warlock'],\n",
    "    'Subclass': {\n",
    "        'Titan': ['Any', 'Sentinel', 'Striker', 'Sunbreaker'],\n",
    "        'Hunter': ['Any', 'Nightstalker', 'Arcstrider', 'Gunslinger'],\n",
    "        'Warlock': ['Any', 'Voidwalker', 'Stormcaller', 'Dawnblade']\n",
    "    },\n",
    "    'Tree': {\n",
    "        'Titan': {\n",
    "            'Sentinel': ['Any', 'Code of the Commander', 'Code of the Protector', 'Code of the Aggressor'],\n",
    "            'Striker': ['Any', 'Code of the Earthshaker', 'Code of the Missile', 'Code of the Juggernaut'],\n",
    "            'Sunbreaker':['Any', 'Code of the Fire-Forged', 'Code of the Devastator', 'Code of the Siegebreaker']\n",
    "        },\n",
    "        'Hunter': {\n",
    "            'Nightstalker': ['Any', 'Way of the Trapper', 'Way of the Wraith', 'Way of the Pathfinder'],\n",
    "            'Arcstrider': ['Any', 'Way of the Warrior', 'Way of the Current', 'Way of the Wind'],\n",
    "            'Gunslinger': ['Any', 'Way of the Outlaw', 'Way of a Thousand Cuts', 'Way of the Outlaw']\n",
    "        },\n",
    "        'Warlock': {\n",
    "            'Voidwalker': ['Any', 'Attunement of Chaos', 'Attunement of Fission', 'Attunement of Hunger'],\n",
    "            'Stormcaller': ['Any', 'Attunement of Conduction', 'Attunement of Control', 'Attunement of the Elements'],\n",
    "            'Dawnblade': ['Any', 'Attunement of Sky', 'Attunement of Grace', 'Attunement of Flame']\n",
    "        }\n",
    "    },\n",
    "    'Grenade': {\n",
    "        'Titan': {\n",
    "            'Sentinel': ['Any', 'Magnetic Grenade', 'Voidwall Grenade', 'Suppressor Grenade'],\n",
    "            'Striker': ['Any', 'Flashbang Grenade', 'Pulse Grenade', 'Lightning Grenade'],\n",
    "            'Sunbreaker':['Any', 'Incendiary Grenade', 'Thermite Grenade', 'Fusion Grenade']\n",
    "        },\n",
    "        'Hunter': {\n",
    "            'Nightstalker':['Any' ,'Vortex Grenade', 'Spike Grenade', ' Voidwall Grenade'],\n",
    "            'Arcstrider': ['Any', 'Skip Grenade', 'Flux Grenade', 'Arcbolt Grenade'],\n",
    "            'Gunslinger': ['Any', 'Incendiary Grenade', 'Swarm Grenade', 'Tripmine Grenade']\n",
    "        },\n",
    "        'Warlock': {\n",
    "            'Voidwalker': ['Any', 'Vortex Grenade', 'Axion Bolt', 'Scatter Grenade'],\n",
    "            'Stormcaller': ['Any', 'Arcbolt Grenade', 'Pulse Grenade', 'Storm Grenade'],\n",
    "            'Dawnblade': ['Any', 'Solar Grenade', 'Firebolt Grenade', 'Fusion Grenade']\n",
    "        }\n",
    "    },\n",
    "    'Weapon Slot': ['Any', 'Kinetic', 'Energy', 'Power'],\n",
    "    'Weapon Type': ['Any', 'Hand Cannon', 'Auto Rifle', 'Scout Rifle', 'Pulse Rifle', 'Sidearm', 'Submachine Gun', 'Combt Bow','Sniper Rifle', 'Shotgun', 'Fusion Rifle', 'Grenade Launcher', 'Machine Gun', 'Sword', 'Grenade Launcher', 'Rocket Launcher', 'Linear Fusion Rifle'],\n",
    "    'Weapon Ammo': ['Any', 'Primary', 'Secondary', 'Heavy'],\n",
    "    'Weapon Ammo Type': {\n",
    "        'Primary': ['Any', 'Hand Cannon', 'Auto Rifle', 'Scout Rifle', 'Pulse Rifle', 'Sidearm', 'Submachine Gun', 'Combt Bow',],\n",
    "        'Secondary': ['Any', 'Sniper Rifle', 'Shotgun', 'Fusion Rifle', 'Grenade Launcher'],\n",
    "        'Heavy': ['Any', 'Machine Gun', 'Sword', 'Grenade Launcher', 'Rocket Launcher', 'Linear Fusion Rifle']\n",
    "    },\n",
    "    'Weapon Energy': ['Any', 'Kinetic', 'Solar', 'Void', 'Arc'],\n",
    "    'Activity Type': ['Any', 'Patrol', 'Gambit', 'Reckoning', 'Menagerie', 'Vex Offensive', 'Raid', 'Strike', 'Nightfall', 'Crucible', 'Forge'],\n",
    "    'Activity': {\n",
    "        'Patrol': ['Any', 'Earth', 'Io', 'Nessus', 'Titan','Mars', 'Dreaming City', 'Tangled Shore', 'The Moon'],\n",
    "        'Strike': ['Any', 'Lake of Shadows','Savathûn\\'s Song','The Arms Dealer','The Inverted Spire','The Pyramidion', 'A Garden World','Tree of Probabilities','Will of The Thousands','Strange Terrain','The Insight Termius','Warden of Nothing','Broodhold','The Hollowed Lair','The Corrupted'],\n",
    "        'Nightfall': ['Any', 'Lake of Shadows','Savathûn\\'s Song','The Arms Dealer','The Inverted Spire','The Pyramidion', 'A Garden World','Tree of Probabilities','Will of The Thousands','Strange Terrain','The Insight Termius','Warden of Nothing','Broodhold','The Hollowed Lair','The Corrupted'],\n",
    "        'Raid': ['Any', 'Liathan', 'Prestige Leviathan', 'Eater of Worlds', 'Spire of Stars', 'Last Wish', 'Scourage of The Past', 'Crown of Sorrow', 'Garden of Salvation'],\n",
    "        'Crucible': ['Any', 'Clash', 'Control', 'Showdown', 'Mayhem', 'Breakthrough', 'Lockdown', 'Rumble', 'Supremacy', 'Doubles', 'Scorched', 'Countdown', 'Survival', 'Iron Banner'],\n",
    "        'Gambit': ['Any', 'Gambit', 'Gambit Prime'],\n",
    "        'Reckoning': ['Any', 'Tier I', 'Tier II', 'Tier III'],\n",
    "        'Menagerie': ['Any', 'Normal', 'Heroic'],\n",
    "        'Vex Offensive': ['Any'],\n",
    "        'Forge': ['Any', 'Volundr Forge', 'Gofannon Forge', 'Izanami Forge', 'Bergusia Forge']\n",
    "    }\n",
    "}\n",
    "layout_req = widgets.Layout(width='20%')\n",
    "layout_label_req = widgets.Layout(width='10%')\n",
    "output_req = widgets.Output()\n",
    "\n",
    "hbox_triumph_req = widgets.HBox()\n",
    "label_triumph_req = widgets.Label(\"Triumph:\", layout=layout_label_req)\n",
    "dropdown_triumph_req = widgets.Dropdown(options=list(triumphs.keys()), layout=layout_req)\n",
    "dropdown_objective_req = widgets.Dropdown(layout=layout_req)\n",
    "box_spacer_req = widgets.Box(layout=layout_req)\n",
    "button_save_req = widgets.Button(description='Save', layout=layout_req)\n",
    "hbox_triumph_req.children = [label_triumph_req,dropdown_triumph_req,dropdown_objective_req, box_spacer_req, button_save_req]\n",
    "\n",
    "def change_triumph(change):\n",
    "    output_req.clear_output()\n",
    "    with output_req: print_map(triumphs[change['new']])\n",
    "    dropdown_objective_req.options = list(triumphs[change['new']]['objectives'].keys())\n",
    "    \n",
    "\n",
    "    \n",
    "dropdown_triumph_req.observe(change_triumph, names='value')\n",
    "\n",
    "\n",
    "\n",
    "#----------------------Class----------------------------\n",
    "\n",
    "\n",
    "hbox_class_req = widgets.HBox()\n",
    "label_class_req = widgets.Label(value='Class:',layout=layout_label_req)\n",
    "dropdown_class_req = widgets.Dropdown(options=possible_requirements['Class'],layout=layout_req)\n",
    "dropdown_subclass_req = widgets.Dropdown(disabled = True, options = ['Any'],layout=layout_req)\n",
    "dropdown_tree_req = widgets.Dropdown(disabled = True, options = ['Any'],layout=layout_req)\n",
    "dropdown_grenade_req = widgets.Dropdown(disabled = True, options = ['Any'],layout=layout_req)\n",
    "hbox_class_req.children = [\n",
    "    label_class_req,\n",
    "    dropdown_class_req,\n",
    "    dropdown_subclass_req,\n",
    "    dropdown_tree_req,\n",
    "    dropdown_grenade_req\n",
    "]\n",
    "\n",
    "def change_class(change):\n",
    "    if change['new'] == 'Any':\n",
    "        dropdown_subclass_req.options = ['Any']\n",
    "        dropdown_subclass_req.disabled = True\n",
    "    else:\n",
    "        dropdown_subclass_req.options = possible_requirements['Subclass'][change['new']]\n",
    "        dropdown_subclass_req.disabled = False\n",
    "        \n",
    "def change_subclass(change):\n",
    "    if change['new'] == 'Any':\n",
    "        dropdown_tree_req.options = ['Any']\n",
    "        dropdown_tree_req.disabled = True\n",
    "        dropdown_grenade_req.options = ['Any']\n",
    "        dropdown_grenade_req.disabled = True\n",
    "    else:\n",
    "        dropdown_tree_req.options = possible_requirements['Tree'][dropdown_class_req.value][change['new']]\n",
    "        dropdown_tree_req.disabled = False\n",
    "        dropdown_grenade_req.options = possible_requirements['Grenade'][dropdown_class_req.value][change['new']]\n",
    "        dropdown_grenade_req.disabled = False\n",
    "\n",
    "dropdown_class_req.observe(change_class, names = 'value')\n",
    "dropdown_subclass_req.observe(change_subclass, names = 'value')\n",
    "\n",
    "\n",
    "#---------------Weapon-----------------------\n",
    "\n",
    "\n",
    "hbox_weapon_req = widgets.HBox()\n",
    "label_weapon_req = widgets.Label(value='Weapon:',layout=layout_label_req)\n",
    "dropdown_weapon_slot_req = widgets.Dropdown(options = possible_requirements['Weapon Slot'],layout=layout_req)\n",
    "dropdown_weapon_ammo_req = widgets.Dropdown(options = possible_requirements['Weapon Ammo'],layout=layout_req)\n",
    "dropdown_weapon_type_req = widgets.Dropdown(options = possible_requirements['Weapon Type'],layout=layout_req)\n",
    "dropdown_weapon_energy_req = widgets.Dropdown(options = possible_requirements['Weapon Energy'],layout=layout_req)\n",
    "\n",
    "\n",
    "hbox_weapon_req.children = [\n",
    "    label_weapon_req,\n",
    "    dropdown_weapon_slot_req,\n",
    "    dropdown_weapon_energy_req,\n",
    "    dropdown_weapon_type_req,\n",
    "    dropdown_weapon_ammo_req\n",
    "]\n",
    "\n",
    "stop_refresh_weapon = False\n",
    "\n",
    "#TODO: need to add functionality to set weapon slot type\n",
    "\n",
    "def refresh_weapon(dropdown, old, new):\n",
    "    global stop_refresh_weapon\n",
    "    if not stop_refresh_weapon:\n",
    "        stop_refresh_weapon = True\n",
    "        if dropdown == 'type':\n",
    "            if new != 'Any':\n",
    "                for ammo in possible_requirements['Weapon Ammo Type']:\n",
    "                    if new in possible_requirements['Weapon Ammo Type'][ammo]:\n",
    "                        dropdown_weapon_ammo_req.value = ammo\n",
    "                        dropdown_weapon_type_req.options = possible_requirements['Weapon Ammo Type'][ammo]\n",
    "                        dropdown_weapon_type_req.value = new\n",
    "        elif dropdown == 'ammo':\n",
    "            dropdown_weapon_type_req.value = 'Any'\n",
    "            if new == 'Any':\n",
    "                dropdown_weapon_type_req.options = possible_requirements['Weapon Type']\n",
    "            else:\n",
    "                 dropdown_weapon_type_req.options = possible_requirements['Weapon Ammo Type'][new]\n",
    "        stop_refresh_weapon = False \n",
    "            \n",
    "\n",
    "def change_weapon_type(change):\n",
    "    refresh_weapon('type',change['old'],change['new'])\n",
    "\n",
    "def change_weapon_ammo(change):\n",
    "    refresh_weapon('ammo',change['old'],change['new'])\n",
    "\n",
    "    \n",
    "dropdown_weapon_type_req.observe(change_weapon_type, names = 'value')\n",
    "dropdown_weapon_ammo_req.observe(change_weapon_ammo, names = 'value')\n",
    "\n",
    "\n",
    "#-----------------------------Activity------------------------------\n",
    "\n",
    "\n",
    "hbox_activity_req = widgets.HBox()\n",
    "label_activity_req = widgets.Label(value='Activity:',layout=layout_label_req)\n",
    "dropdown_activity_type_req = widgets.Dropdown(options = possible_requirements['Activity Type'],layout=layout_req)\n",
    "dropdown_activity_req = widgets.Dropdown(disabled = True, options = ['Any'],layout=layout_req)\n",
    "\n",
    "hbox_activity_req.children = [\n",
    "    label_activity_req,\n",
    "    dropdown_activity_type_req,\n",
    "    dropdown_activity_req\n",
    "]\n",
    "\n",
    "def change_activity_type(change):\n",
    "    if change['new'] == 'Any':\n",
    "        dropdown_activity_req.options = ['Any']\n",
    "        dropdown_activity_req.disabled = True\n",
    "    else:\n",
    "        dropdown_activity_req.options = possible_requirements['Activity'][change['new']]\n",
    "        dropdown_activity_req.disabled = False\n",
    "\n",
    "dropdown_activity_type_req.observe(change_activity_type, names = 'value')\n",
    "        \n",
    "vbox_req = widgets.VBox(children=[hbox_triumph_req,hbox_class_req,hbox_weapon_req,hbox_activity_req])\n",
    "\n",
    "\n",
    "\n",
    "def load_objective(objective):\n",
    "    if objective in requirements:\n",
    "        dropdown_class_req.value = requirements[objective]['Class']\n",
    "        dropdown_subclass_req.value = requirements[objective]['Subclass']\n",
    "        dropdown_tree_req.value = requirements[objective]['Tree']\n",
    "        dropdown_grenade_req.value = requirements[objective]['Grenade']\n",
    "        dropdown_weapon_slot_req.value = requirements[objective]['Weapon Slot']\n",
    "        dropdown_weapon_ammo_req.value = requirements[objective]['Weapon Ammo']\n",
    "        dropdown_weapon_type_req.value = requirements[objective]['Weapon Type']\n",
    "        dropdown_weapon_energy_req.value = requirements[objective]['Weapon Energy']\n",
    "        dropdown_activity_type_req.value = requirements[objective]['Activity Type']\n",
    "        dropdown_activity_req.value = requirements[objective]['Activity']\n",
    "    else:\n",
    "        dropdown_class_req.value = 'Any'\n",
    "        dropdown_subclass_req.value = 'Any'\n",
    "        dropdown_tree_req.value = 'Any'\n",
    "        dropdown_grenade_req.value = 'Any'\n",
    "        dropdown_weapon_slot_req.value = 'Any'\n",
    "        dropdown_weapon_ammo_req.value = 'Any'\n",
    "        dropdown_weapon_type_req.value = 'Any'\n",
    "        dropdown_weapon_energy_req.value = 'Any'\n",
    "        dropdown_activity_type_req.value = 'Any'\n",
    "        dropdown_activity_req.value = 'Any'\n",
    "    \n",
    "def save_objective(b):\n",
    "    objective = dropdown_objective_req.value\n",
    "    if objective not in requirements:\n",
    "        requirements[objective] = {}\n",
    "    requirements[objective]['Class'] = dropdown_class_req.value\n",
    "    requirements[objective]['Subclass'] = dropdown_subclass_req.value\n",
    "    requirements[objective]['Tree'] = dropdown_tree_req.value\n",
    "    requirements[objective]['Grenade'] = dropdown_grenade_req.value\n",
    "    requirements[objective]['Weapon Slot'] = dropdown_weapon_slot_req.value\n",
    "    requirements[objective]['Weapon Ammo'] = dropdown_weapon_ammo_req.value\n",
    "    requirements[objective]['Weapon Type'] = dropdown_weapon_type_req.value\n",
    "    requirements[objective]['Weapon Energy'] = dropdown_weapon_energy_req.value\n",
    "    requirements[objective]['Activity Type'] = dropdown_activity_type_req.value\n",
    "    requirements[objective]['Activity'] = dropdown_activity_req.value\n",
    "    with open('requirements.data', 'wb') as filehandle:\n",
    "        pickle.dump(requirements, filehandle) \n",
    "    \n",
    "\n",
    "def change_objective(change):\n",
    "    load_objective(change['new'])\n",
    "    \n",
    "dropdown_objective_req.observe(change_objective, names='value')\n",
    "button_save_req.on_click(save_objective)\n",
    "\n",
    "dropdown_triumph_req.value = list(triumphs.keys())[-1]\n",
    "dropdown_triumph_req.value = list(triumphs.keys())[0]\n"
   ]
  },
  {
   "cell_type": "code",
   "execution_count": 11,
   "metadata": {},
   "outputs": [
    {
     "data": {
      "application/vnd.jupyter.widget-view+json": {
       "model_id": "de179474a5084ab79acd22ad315c830c",
       "version_major": 2,
       "version_minor": 0
      },
      "text/plain": [
       "VBox(children=(HBox(children=(Label(value='Triumph:', layout=Layout(width='10%')), Dropdown(layout=Layout(widt…"
      ]
     },
     "metadata": {},
     "output_type": "display_data"
    },
    {
     "data": {
      "application/vnd.jupyter.widget-view+json": {
       "model_id": "27d1e5dd91a748beb1bc2088fd866719",
       "version_major": 2,
       "version_minor": 0
      },
      "text/plain": [
       "HBox(children=(VBox(children=(VBox(children=(HTML(value='<b>Activity Options</b>', layout=Layout(height='100%'…"
      ]
     },
     "metadata": {},
     "output_type": "display_data"
    }
   ],
   "source": [
    "display(vbox_req,hbox_GUI)"
   ]
  },
  {
   "cell_type": "code",
   "execution_count": 12,
   "metadata": {},
   "outputs": [],
   "source": [
    "\n",
    "\n",
    "\n",
    "def set_loadout(dropdown, value):\n",
    "    dropdown.value = value\n",
    "    if value == 'Any':\n",
    "        dropdown.disabled = False\n",
    "        dropdown.layout = layout_dropdown_inactive\n",
    "    else:\n",
    "        dropdown.disabled = True\n",
    "        dropdown.layout = layout_dropdown_active\n",
    "    \n",
    "\n",
    "loadout_list = [\n",
    "    dropdown_activity_type, \n",
    "    dropdown_activity, \n",
    "    dropdown_class,\n",
    "    dropdown_subclass,\n",
    "    dropdown_grenade,\n",
    "    dropdown_kinetic,\n",
    "    dropdown_energy,\n",
    "    dropdown_energy_type,\n",
    "    dropdown_power,\n",
    "    dropdown_power_type]\n",
    "\n",
    "\n",
    "def refresh_loadout():\n",
    "    \n",
    "    for dropdown in loadout_list:\n",
    "        set_loadout(dropdown, 'Any')\n",
    "    \n",
    "    for objective in active_objectives:\n",
    "        for requirement in requirements[objective]:\n",
    "            if requirements[objective][requirement] != 'Any':\n",
    "                if requirement == 'Activity Type':\n",
    "                    set_loadout(dropdown_activity_type, requirements[objective][requirement])\n",
    "                if requirement == 'Activity':\n",
    "                    set_loadout(dropdown_activity, requirements[objective][requirement])\n",
    "                if requirement == 'Class':\n",
    "                    set_loadout(dropdown_class, requirements[objective][requirement])\n",
    "                if requirement == 'Subclass':\n",
    "                    set_loadout(dropdown_subclass, requirements[objective][requirement])\n",
    "                if requirement == 'Tree':\n",
    "                    set_loadout(dropdown_tree, requirements[objective][requirement])\n",
    "                if requirement == 'Grenade':\n",
    "                    set_loadout(dropdown_grenade, requirements[objective][requirement])\n",
    "                if requirement == 'Weapon Slot':\n",
    "                    if requirements[objective][requirement] == 'Kinetic':\n",
    "                        set_loadout(dropdown_kinetic, requirements[objective]['Weapon Type'])\n",
    "                    if requirements[objective][requirement] == 'Energy':\n",
    "                        set_loadout(dropdown_energy, requirements[objective]['Weapon Type'])\n",
    "                        set_loadout(dropdown_energy_type, requirements[objective]['Weapon Energy'])\n",
    "                    if requirements[objective][requirement] == 'Power':\n",
    "                        set_loadout(dropdown_power, requirements[objective]['Weapon Type'])\n",
    "                        set_loadout(dropdown_power_type, requirements[objective]['Weapon Energy'])\n",
    "\n",
    "                \n",
    "        \n"
   ]
  }
 ],
 "metadata": {
  "kernelspec": {
   "display_name": "Python 3",
   "language": "python",
   "name": "python3"
  },
  "language_info": {
   "codemirror_mode": {
    "name": "ipython",
    "version": 3
   },
   "file_extension": ".py",
   "mimetype": "text/x-python",
   "name": "python",
   "nbconvert_exporter": "python",
   "pygments_lexer": "ipython3",
   "version": "3.7.4"
  },
  "widgets": {
   "application/vnd.jupyter.widget-state+json": {
    "state": {
     "0009c7882f3b4140a12bb6f5508b5bac": {
      "model_module": "@jupyter-widgets/base",
      "model_module_version": "1.2.0",
      "model_name": "LayoutModel",
      "state": {
       "width": "60px"
      }
     },
     "0052eff296d94bad9743aa9e7ddf66f8": {
      "model_module": "@jupyter-widgets/base",
      "model_module_version": "1.2.0",
      "model_name": "LayoutModel",
      "state": {
       "display": "none"
      }
     },
     "00c0f62ecfac4c8093b4dea0238216e8": {
      "model_module": "@jupyter-widgets/base",
      "model_module_version": "1.2.0",
      "model_name": "LayoutModel",
      "state": {
       "display": "none"
      }
     },
     "012e23fea4c34bfe83b66fb333e6f5d7": {
      "model_module": "@jupyter-widgets/controls",
      "model_module_version": "1.5.0",
      "model_name": "BoxModel",
      "state": {
       "layout": "IPY_MODEL_ecf0126975994a2e94ceee5fe9ab8c25"
      }
     },
     "016327c760154e5eb6d9c168a923fb5a": {
      "model_module": "@jupyter-widgets/controls",
      "model_module_version": "1.5.0",
      "model_name": "DescriptionStyleModel",
      "state": {
       "description_width": ""
      }
     },
     "016519bfada54c9892d2e7c9343e82cd": {
      "model_module": "@jupyter-widgets/base",
      "model_module_version": "1.2.0",
      "model_name": "LayoutModel",
      "state": {}
     },
     "018558e8c6bb40a3abf05ed68e8f3b08": {
      "model_module": "@jupyter-widgets/controls",
      "model_module_version": "1.5.0",
      "model_name": "ButtonModel",
      "state": {
       "description": "EDIT",
       "layout": "IPY_MODEL_d7136417d0be4ffb9a21233258c7685a",
       "style": "IPY_MODEL_4f05147c6e6a46b7b39fd0b76621d42d"
      }
     },
     "01937c797ada430fba88c0a1370899d9": {
      "model_module": "@jupyter-widgets/controls",
      "model_module_version": "1.5.0",
      "model_name": "ButtonModel",
      "state": {
       "layout": "IPY_MODEL_f119f68547074a5c9b7861dd0e476f75",
       "style": "IPY_MODEL_9d65c252f9df4775aa5283ef9aeba291"
      }
     },
     "01c261d451bd459d8aaf812c6149bd8f": {
      "model_module": "@jupyter-widgets/controls",
      "model_module_version": "1.5.0",
      "model_name": "ButtonStyleModel",
      "state": {}
     },
     "01c6afff824d439c83ae58bbcbaf2c4b": {
      "model_module": "@jupyter-widgets/base",
      "model_module_version": "1.2.0",
      "model_name": "LayoutModel",
      "state": {
       "order": "-1",
       "overflow": "visible",
       "padding": "1px",
       "width": "0px"
      }
     },
     "01cb2990afea4ff7b4ac181bc087b62a": {
      "model_module": "@jupyter-widgets/controls",
      "model_module_version": "1.5.0",
      "model_name": "IntProgressModel",
      "state": {
       "layout": "IPY_MODEL_d3f365df8c9442de8da92df2817e8ce6",
       "style": "IPY_MODEL_3588e6d3d3c548e1b55158c45cae0b5e",
       "value": 30
      }
     },
     "01ecb6cf6228409bbbf720027f9ac3eb": {
      "model_module": "@jupyter-widgets/base",
      "model_module_version": "1.2.0",
      "model_name": "LayoutModel",
      "state": {
       "display": "none"
      }
     },
     "0251edbee39146e28956ae0b0dfb1501": {
      "model_module": "@jupyter-widgets/controls",
      "model_module_version": "1.5.0",
      "model_name": "ButtonModel",
      "state": {
       "description": "EDIT",
       "layout": "IPY_MODEL_db618dc226754d5299989a154f7caf22",
       "style": "IPY_MODEL_f293065cfc564bc3ab85aec24d99c344"
      }
     },
     "02a13a84b9a04cb6b4b87be3acee73f0": {
      "model_module": "@jupyter-widgets/controls",
      "model_module_version": "1.5.0",
      "model_name": "DescriptionStyleModel",
      "state": {
       "description_width": ""
      }
     },
     "02a65ed5b87e417db0d02389d7a7aa38": {
      "model_module": "@jupyter-widgets/base",
      "model_module_version": "1.2.0",
      "model_name": "LayoutModel",
      "state": {
       "order": "-1",
       "overflow": "visible",
       "padding": "1px",
       "width": "0px"
      }
     },
     "02c81e0590fb4419922c17a397fab3b3": {
      "model_module": "@jupyter-widgets/controls",
      "model_module_version": "1.5.0",
      "model_name": "ProgressStyleModel",
      "state": {
       "description_width": ""
      }
     },
     "02cfa7cef33e4b1b80639c1e344c6d94": {
      "model_module": "@jupyter-widgets/controls",
      "model_module_version": "1.5.0",
      "model_name": "ProgressStyleModel",
      "state": {
       "description_width": ""
      }
     },
     "02ffb0faa4654c5c894f0b706219f269": {
      "model_module": "@jupyter-widgets/base",
      "model_module_version": "1.2.0",
      "model_name": "LayoutModel",
      "state": {}
     },
     "03113fea843246e0a7b09b13098673d2": {
      "model_module": "@jupyter-widgets/controls",
      "model_module_version": "1.5.0",
      "model_name": "IntProgressModel",
      "state": {
       "layout": "IPY_MODEL_5913bb3e39594888b2ddeee31bfbcec9",
       "style": "IPY_MODEL_2e9603df87b74903a74c59a21daefb60",
       "value": 30
      }
     },
     "0326b4c6d52f4773a7d943e99b6d838c": {
      "model_module": "@jupyter-widgets/base",
      "model_module_version": "1.2.0",
      "model_name": "LayoutModel",
      "state": {
       "width": "60px"
      }
     },
     "034565d4a865461684b7cd9808703a91": {
      "model_module": "@jupyter-widgets/controls",
      "model_module_version": "1.5.0",
      "model_name": "IntProgressModel",
      "state": {
       "layout": "IPY_MODEL_805e879b1322474fbf45e4f8f8a05f73",
       "max": 5,
       "style": "IPY_MODEL_7eba0e2e4dbe472bafca9950d9c5bb3b",
       "value": 2
      }
     },
     "03c4d81a48004ca196159f86bc7cd250": {
      "model_module": "@jupyter-widgets/controls",
      "model_module_version": "1.5.0",
      "model_name": "LabelModel",
      "state": {
       "layout": "IPY_MODEL_fcb4aca329804dd98ec8394b3e45e619",
       "style": "IPY_MODEL_f09dfdf71b124896bca5601d135bf90c",
       "value": "             objective 5"
      }
     },
     "040b07cacfe54849868776cc3b7cdc5f": {
      "model_module": "@jupyter-widgets/controls",
      "model_module_version": "1.5.0",
      "model_name": "ButtonModel",
      "state": {
       "layout": "IPY_MODEL_213939b5bd9749d8b7b3b36e96ad7a8d",
       "style": "IPY_MODEL_81d5e90141a147c5a471d05beecf96d7"
      }
     },
     "04b5ec54f83a465284e6aac6cffdcbcd": {
      "model_module": "@jupyter-widgets/controls",
      "model_module_version": "1.5.0",
      "model_name": "ProgressStyleModel",
      "state": {
       "description_width": ""
      }
     },
     "04bfb3d81c314f9c85d63a3fb4d488dc": {
      "model_module": "@jupyter-widgets/controls",
      "model_module_version": "1.5.0",
      "model_name": "DescriptionStyleModel",
      "state": {
       "description_width": ""
      }
     },
     "04deb22c94a74eef8572d1fb1b27dcba": {
      "model_module": "@jupyter-widgets/controls",
      "model_module_version": "1.5.0",
      "model_name": "HBoxModel",
      "state": {
       "children": [
        "IPY_MODEL_b8c6e48415604395aa59ec4bee03a2f2",
        "IPY_MODEL_218e28b5e96941d79bed967d904cbbbe",
        "IPY_MODEL_6cb91cc8be83405496c7193208730522",
        "IPY_MODEL_41de5f9591a44a40ace15694555d52e4"
       ],
       "layout": "IPY_MODEL_c618cbad6e5e4a3aa364176bf06a5c08"
      }
     },
     "0535c4ed925c4b7f86a0961da84004fe": {
      "model_module": "@jupyter-widgets/controls",
      "model_module_version": "1.5.0",
      "model_name": "ButtonStyleModel",
      "state": {}
     },
     "0546abb9f603483580298d8a07482ce4": {
      "model_module": "@jupyter-widgets/controls",
      "model_module_version": "1.5.0",
      "model_name": "LabelModel",
      "state": {
       "layout": "IPY_MODEL_6839730e72df425ba8227d8a61caf696",
       "style": "IPY_MODEL_115c3377b0da495aa8704c2a2748efcc",
       "value": "             objective 1"
      }
     },
     "05704a0471ad47cdab184cf3599d0d1c": {
      "model_module": "@jupyter-widgets/base",
      "model_module_version": "1.2.0",
      "model_name": "LayoutModel",
      "state": {
       "width": "60px"
      }
     },
     "0606a2f669cd4b4f8ee4f5f395e1ccdd": {
      "model_module": "@jupyter-widgets/controls",
      "model_module_version": "1.5.0",
      "model_name": "IntProgressModel",
      "state": {
       "layout": "IPY_MODEL_7ab2f7c86fdf451d84d74476cd07109a",
       "style": "IPY_MODEL_ddfeb3ecc71c4dd2b07e02d348b8e0a7",
       "value": 30
      }
     },
     "06075dce9b6040309d14f052b2a2de36": {
      "model_module": "@jupyter-widgets/controls",
      "model_module_version": "1.5.0",
      "model_name": "LabelModel",
      "state": {
       "layout": "IPY_MODEL_23b1c1ffc9ef4a5abdd53e4ddc878692",
       "style": "IPY_MODEL_7ebee4484bbb451497dcf99e673cc86c",
       "value": "Kinetic Weapon:"
      }
     },
     "060d1e7d8b974b3d8fd75d6841623a0c": {
      "model_module": "@jupyter-widgets/controls",
      "model_module_version": "1.5.0",
      "model_name": "LabelModel",
      "state": {
       "layout": "IPY_MODEL_df00d075487c4c0db73993d548632bd8",
       "style": "IPY_MODEL_f0ac15ae7d6349e98478589704ad1651",
       "value": "             objective 3"
      }
     },
     "063cfcaa86c3474aa1e55deda19b708d": {
      "model_module": "@jupyter-widgets/base",
      "model_module_version": "1.2.0",
      "model_name": "LayoutModel",
      "state": {
       "display": "flex",
       "flex_flow": "row wrap"
      }
     },
     "064df75cdd7b49bdb01022260df246e1": {
      "model_module": "@jupyter-widgets/base",
      "model_module_version": "1.2.0",
      "model_name": "LayoutModel",
      "state": {
       "border": "3px solid white",
       "display": "flex",
       "margin": "10px",
       "overflow": "visible",
       "padding": "10px",
       "width": "400px"
      }
     },
     "064fe0c135984ceb9d54e501c98d6af1": {
      "model_module": "@jupyter-widgets/controls",
      "model_module_version": "1.5.0",
      "model_name": "DescriptionStyleModel",
      "state": {
       "description_width": ""
      }
     },
     "06596f44010d4daca8a7dd39f40b2539": {
      "model_module": "@jupyter-widgets/controls",
      "model_module_version": "1.5.0",
      "model_name": "DescriptionStyleModel",
      "state": {
       "description_width": ""
      }
     },
     "0668d504a83c40779651c1390d6dee21": {
      "model_module": "@jupyter-widgets/controls",
      "model_module_version": "1.5.0",
      "model_name": "HTMLModel",
      "state": {
       "layout": "IPY_MODEL_23b1c1ffc9ef4a5abdd53e4ddc878692",
       "style": "IPY_MODEL_1edb4670f0464db2bf0e8b717e356327",
       "value": "<b>Activity Options</b>"
      }
     },
     "0722b370ca7a417499ac931759454ec9": {
      "model_module": "@jupyter-widgets/controls",
      "model_module_version": "1.5.0",
      "model_name": "DescriptionStyleModel",
      "state": {
       "description_width": ""
      }
     },
     "0748289507d64efe8c5109d4e34eb45f": {
      "model_module": "@jupyter-widgets/base",
      "model_module_version": "1.2.0",
      "model_name": "LayoutModel",
      "state": {
       "width": "60px"
      }
     },
     "076c932e8ee34ca6805af289df511236": {
      "model_module": "@jupyter-widgets/base",
      "model_module_version": "1.2.0",
      "model_name": "LayoutModel",
      "state": {
       "display": "flex"
      }
     },
     "078de4fd1a144597b25cbb0f26ad9e73": {
      "model_module": "@jupyter-widgets/controls",
      "model_module_version": "1.5.0",
      "model_name": "DescriptionStyleModel",
      "state": {
       "description_width": ""
      }
     },
     "079d81fbc2cd4cb48cc6753168b48332": {
      "model_module": "@jupyter-widgets/controls",
      "model_module_version": "1.5.0",
      "model_name": "HBoxModel",
      "state": {
       "children": [
        "IPY_MODEL_aae4f40ef609486da605023466c07bde",
        "IPY_MODEL_17d1a939f3724b5f9cf49b4ed42198d4",
        "IPY_MODEL_0e581fe703c44b93b15f4499f8279b92",
        "IPY_MODEL_e0639f7b0a6b44f99bcfcc748a115b57"
       ],
       "layout": "IPY_MODEL_f5b708a615bf45cdbb9cfb0c19e2100b"
      }
     },
     "07a53f3933624d95a4ba1c4ad128626d": {
      "model_module": "@jupyter-widgets/controls",
      "model_module_version": "1.5.0",
      "model_name": "ButtonModel",
      "state": {
       "layout": "IPY_MODEL_4f92c5719b53461082e38f932605ab3d",
       "style": "IPY_MODEL_f11ecb639f864e0298122e0483353f73"
      }
     },
     "07afb95045924ebd8ebac90200c47c23": {
      "model_module": "@jupyter-widgets/base",
      "model_module_version": "1.2.0",
      "model_name": "LayoutModel",
      "state": {
       "display": "none"
      }
     },
     "07c566c39ff24da99c872cefe145483a": {
      "model_module": "@jupyter-widgets/base",
      "model_module_version": "1.2.0",
      "model_name": "LayoutModel",
      "state": {}
     },
     "07d9f1a3854d46efb6fd6e7f7c86453a": {
      "model_module": "@jupyter-widgets/controls",
      "model_module_version": "1.5.0",
      "model_name": "LabelModel",
      "state": {
       "layout": "IPY_MODEL_58a9efa8c1004142b339d418615b8a78",
       "style": "IPY_MODEL_26739fd0e1094b65ab3389fa1520b8e4",
       "value": "             objective 4"
      }
     },
     "07dd3508da3541d8a45c83e89f8d5923": {
      "model_module": "@jupyter-widgets/controls",
      "model_module_version": "1.5.0",
      "model_name": "ButtonStyleModel",
      "state": {}
     },
     "0809be38d51c46a1986132812941c510": {
      "model_module": "@jupyter-widgets/controls",
      "model_module_version": "1.5.0",
      "model_name": "LabelModel",
      "state": {
       "layout": "IPY_MODEL_be921af9c19543a58a8508f5ad01b691",
       "style": "IPY_MODEL_9c32d917c70a48d68bf23f4fc7038162",
       "value": "             objective 4"
      }
     },
     "080f9a1c140944bf847bfef770e9d552": {
      "model_module": "@jupyter-widgets/controls",
      "model_module_version": "1.5.0",
      "model_name": "HTMLModel",
      "state": {
       "layout": "IPY_MODEL_d7e815a51e1c4cd2a07ee19adb573fc0",
       "style": "IPY_MODEL_8c8a7a1bfaf646259816eebbd4990a5c",
       "value": "<i></i>"
      }
     },
     "081b3790589e4d1796a63c187bc5213b": {
      "model_module": "@jupyter-widgets/controls",
      "model_module_version": "1.5.0",
      "model_name": "LabelModel",
      "state": {
       "layout": "IPY_MODEL_02a65ed5b87e417db0d02389d7a7aa38",
       "style": "IPY_MODEL_ee7bb0769d8b46df8acbf2379b372ab0",
       "value": "             objective 1"
      }
     },
     "08206146fcdd4713a93d344cea7943a3": {
      "model_module": "@jupyter-widgets/controls",
      "model_module_version": "1.5.0",
      "model_name": "ProgressStyleModel",
      "state": {
       "description_width": ""
      }
     },
     "08222ebdb693486cb4105baf10bc7885": {
      "model_module": "@jupyter-widgets/controls",
      "model_module_version": "1.5.0",
      "model_name": "HBoxModel",
      "state": {
       "children": [
        "IPY_MODEL_d40029d473f6491a89d9b71e768e11c5",
        "IPY_MODEL_f434dce84bdc45e9ba99f6f2b83fe7e4",
        "IPY_MODEL_3099f00cc3e94ee7a5184a80568ea177",
        "IPY_MODEL_6cceeabc6f534319a868f8214d8862e0"
       ],
       "layout": "IPY_MODEL_00c0f62ecfac4c8093b4dea0238216e8"
      }
     },
     "0836e4d5576448ecb941c34d80695282": {
      "model_module": "@jupyter-widgets/base",
      "model_module_version": "1.2.0",
      "model_name": "LayoutModel",
      "state": {
       "width": "60px"
      }
     },
     "08460ba8e6664beb99401187942c7a6e": {
      "model_module": "@jupyter-widgets/controls",
      "model_module_version": "1.5.0",
      "model_name": "ProgressStyleModel",
      "state": {
       "description_width": ""
      }
     },
     "08befc58d45740148afd3d336cc281d6": {
      "model_module": "@jupyter-widgets/base",
      "model_module_version": "1.2.0",
      "model_name": "LayoutModel",
      "state": {
       "display": "none"
      }
     },
     "0911cbfd239a4adeb1896022f1a61493": {
      "model_module": "@jupyter-widgets/controls",
      "model_module_version": "1.5.0",
      "model_name": "HBoxModel",
      "state": {
       "children": [
        "IPY_MODEL_0d13936bb3f3431bac2011b692acd058",
        "IPY_MODEL_a6ba992fb48c415b81031b05b84ee9e4",
        "IPY_MODEL_931f64852d9d48d8980801bbddb7643e",
        "IPY_MODEL_60d928d92f3042f8861b106ed125651f"
       ],
       "layout": "IPY_MODEL_a596b0e932704299b96aa28c6dd01390"
      }
     },
     "09655f831d4c428ea32bc80689c0b659": {
      "model_module": "@jupyter-widgets/controls",
      "model_module_version": "1.5.0",
      "model_name": "ButtonStyleModel",
      "state": {}
     },
     "096e51f2258b4065bf015003c017f49d": {
      "model_module": "@jupyter-widgets/controls",
      "model_module_version": "1.5.0",
      "model_name": "DescriptionStyleModel",
      "state": {
       "description_width": ""
      }
     },
     "098a4b50d0904e6cae4c7eb6f34d8934": {
      "model_module": "@jupyter-widgets/controls",
      "model_module_version": "1.5.0",
      "model_name": "HBoxModel",
      "state": {
       "children": [
        "IPY_MODEL_c49d3718c11a44a9a0fdbd2bc258ebbb",
        "IPY_MODEL_03113fea843246e0a7b09b13098673d2",
        "IPY_MODEL_502e292d345845b59f1c0e40e3438143",
        "IPY_MODEL_2d8beb89d73c4dcd9ebc93a9492aea37"
       ],
       "layout": "IPY_MODEL_1a0762544d16478a8d7f813f20f0827f"
      }
     },
     "098c9f7a14734bdfa141bd0d2d065898": {
      "model_module": "@jupyter-widgets/controls",
      "model_module_version": "1.5.0",
      "model_name": "IntProgressModel",
      "state": {
       "layout": "IPY_MODEL_b2b8c860423c400288526c3ef1930cf8",
       "style": "IPY_MODEL_ccd405d8fb6d4c5483a3c8096d711340",
       "value": 30
      }
     },
     "0995262b2cff47778b8a31803e630b85": {
      "model_module": "@jupyter-widgets/base",
      "model_module_version": "1.2.0",
      "model_name": "LayoutModel",
      "state": {
       "display": "none"
      }
     },
     "0a545a66fa15445181323b63dfe08b70": {
      "model_module": "@jupyter-widgets/controls",
      "model_module_version": "1.5.0",
      "model_name": "HBoxModel",
      "state": {
       "children": [
        "IPY_MODEL_e42a98286e9e4fb79969d0bfde776088",
        "IPY_MODEL_f69a6ebaf70644fda7b69581a75a127b",
        "IPY_MODEL_5615bc05df274d1fbe624790d96a0f4a",
        "IPY_MODEL_a6a188e59fa04f3aab85e04cc8cc2ca2"
       ],
       "layout": "IPY_MODEL_d0c5dad0b266423a848bdf979299ba0a"
      }
     },
     "0ab7da6bceb448ca8cbf6aa3fa898972": {
      "model_module": "@jupyter-widgets/controls",
      "model_module_version": "1.5.0",
      "model_name": "ProgressStyleModel",
      "state": {
       "description_width": ""
      }
     },
     "0af8a77a88e9496393f23fa56f43370f": {
      "model_module": "@jupyter-widgets/controls",
      "model_module_version": "1.5.0",
      "model_name": "DescriptionStyleModel",
      "state": {
       "description_width": ""
      }
     },
     "0b3691dc07134fe59d4ac1159dbfaf43": {
      "model_module": "@jupyter-widgets/controls",
      "model_module_version": "1.5.0",
      "model_name": "ButtonModel",
      "state": {
       "layout": "IPY_MODEL_f1604c54a4294deb9a3c49812ff897fe",
       "style": "IPY_MODEL_e2fd0918b0ac4edaadc0ba9669aff111"
      }
     },
     "0c121aca74554ed681b5a9e4e865a88a": {
      "model_module": "@jupyter-widgets/controls",
      "model_module_version": "1.5.0",
      "model_name": "IntProgressModel",
      "state": {
       "bar_style": "success",
       "layout": "IPY_MODEL_bc6288a7e48841b0acf38fb8b9223da9",
       "max": 1,
       "style": "IPY_MODEL_08460ba8e6664beb99401187942c7a6e",
       "value": 1
      }
     },
     "0c279389d5f840c8872e0430395cb71e": {
      "model_module": "@jupyter-widgets/controls",
      "model_module_version": "1.5.0",
      "model_name": "DescriptionStyleModel",
      "state": {
       "description_width": ""
      }
     },
     "0c5dd73170ed4c4794d99e7f94bf737d": {
      "model_module": "@jupyter-widgets/controls",
      "model_module_version": "1.5.0",
      "model_name": "ButtonStyleModel",
      "state": {}
     },
     "0d13936bb3f3431bac2011b692acd058": {
      "model_module": "@jupyter-widgets/controls",
      "model_module_version": "1.5.0",
      "model_name": "ButtonModel",
      "state": {
       "layout": "IPY_MODEL_213939b5bd9749d8b7b3b36e96ad7a8d",
       "style": "IPY_MODEL_2b079e57b352439e8afb1a3937897df1"
      }
     },
     "0d216ce1233146e2875b98a796ccc8fc": {
      "model_module": "@jupyter-widgets/controls",
      "model_module_version": "1.5.0",
      "model_name": "HBoxModel",
      "state": {
       "children": [
        "IPY_MODEL_d5cee57bda2d4e6080f4b6eaa6bb9d0b",
        "IPY_MODEL_13688a563f72412ba1d6db2bc2025e27",
        "IPY_MODEL_4acf2d937f7f4435bfba18f0360da337",
        "IPY_MODEL_bbd18083dd3d4bd7b11ecbc1a2ffdc2d"
       ],
       "layout": "IPY_MODEL_621c5991b8cc4af2a3be822a5315302e"
      }
     },
     "0d5c51fa1c9641658b0899a58a5a5b47": {
      "model_module": "@jupyter-widgets/controls",
      "model_module_version": "1.5.0",
      "model_name": "ButtonStyleModel",
      "state": {}
     },
     "0d7a3500d2bd482c9817eebd8ea8f8b9": {
      "model_module": "@jupyter-widgets/controls",
      "model_module_version": "1.5.0",
      "model_name": "DescriptionStyleModel",
      "state": {
       "description_width": ""
      }
     },
     "0d8baf5e74094b14913b94e57b2c199c": {
      "model_module": "@jupyter-widgets/controls",
      "model_module_version": "1.5.0",
      "model_name": "ProgressStyleModel",
      "state": {
       "description_width": ""
      }
     },
     "0d97b5b1136f4d3ca93769e6b1b336ae": {
      "model_module": "@jupyter-widgets/controls",
      "model_module_version": "1.5.0",
      "model_name": "ButtonModel",
      "state": {
       "description": "EDIT",
       "layout": "IPY_MODEL_6f62c9d88f3e45edb27e29a12b1acb58",
       "style": "IPY_MODEL_d5ce236ec90d4356870838a7b213662d"
      }
     },
     "0da3fd782d84457286f145a61eede5c5": {
      "model_module": "@jupyter-widgets/base",
      "model_module_version": "1.2.0",
      "model_name": "LayoutModel",
      "state": {
       "width": "60px"
      }
     },
     "0de609e3f4c747bbb492694a3a816172": {
      "model_module": "@jupyter-widgets/controls",
      "model_module_version": "1.5.0",
      "model_name": "ButtonStyleModel",
      "state": {}
     },
     "0e328808a2a1477da2acc2a4221ed22d": {
      "model_module": "@jupyter-widgets/controls",
      "model_module_version": "1.5.0",
      "model_name": "VBoxModel",
      "state": {
       "children": [
        "IPY_MODEL_994c7069310b457abbc2706d598471a7",
        "IPY_MODEL_6e47e78a1c7940d39dd8c0938da4e414",
        "IPY_MODEL_8653ae4dfa5c42dc9a0a03bce9104c6d",
        "IPY_MODEL_98b7515a11e24ad5af803f261ac49bd9",
        "IPY_MODEL_23a71db72fbc426faf3d6774d6c499c5",
        "IPY_MODEL_fe56d182b3d641339068e42308b94eaa"
       ],
       "layout": "IPY_MODEL_1a7a3fe3421648acac2d3c3440f7e0aa"
      }
     },
     "0e581fe703c44b93b15f4499f8279b92": {
      "model_module": "@jupyter-widgets/controls",
      "model_module_version": "1.5.0",
      "model_name": "LabelModel",
      "state": {
       "layout": "IPY_MODEL_13370eb9b0eb421c9bfdaf96619a82af",
       "style": "IPY_MODEL_64a7842f4b054e8485b39b20e64f8767",
       "value": "             objective 5"
      }
     },
     "0e84552193164a05aba6b845868906a1": {
      "model_module": "@jupyter-widgets/base",
      "model_module_version": "1.2.0",
      "model_name": "LayoutModel",
      "state": {
       "display": "flex"
      }
     },
     "0e90c1f41c4c4305b36a4fe2f124fb2f": {
      "model_module": "@jupyter-widgets/controls",
      "model_module_version": "1.5.0",
      "model_name": "DropdownModel",
      "state": {
       "_options_labels": [
        "Any"
       ],
       "index": 0,
       "layout": "IPY_MODEL_9fd1f2d0c9f4460d991ea4e17ed1f0a3",
       "style": "IPY_MODEL_42cfcce7b7fd42ffbc8d3b5b8922d438"
      }
     },
     "0e91682122c040398147ff7c95de81f5": {
      "model_module": "@jupyter-widgets/controls",
      "model_module_version": "1.5.0",
      "model_name": "ButtonModel",
      "state": {
       "description": "EDIT",
       "layout": "IPY_MODEL_7d8f5887ca454414848f032a48c6b466",
       "style": "IPY_MODEL_5660bdd8d7174486befa684fb18b5022"
      }
     },
     "0ec2f7bd131f4425923af75ec60920cb": {
      "model_module": "@jupyter-widgets/controls",
      "model_module_version": "1.5.0",
      "model_name": "DropdownModel",
      "state": {
       "_options_labels": [
        "Any"
       ],
       "disabled": true,
       "index": 0,
       "layout": "IPY_MODEL_9fd1f2d0c9f4460d991ea4e17ed1f0a3",
       "style": "IPY_MODEL_b2e105ad696f47c2a3e1d6ae486acbf1"
      }
     },
     "0ec5768d44224a339714ccd9f5f7b24e": {
      "model_module": "@jupyter-widgets/controls",
      "model_module_version": "1.5.0",
      "model_name": "IntProgressModel",
      "state": {
       "layout": "IPY_MODEL_bc6288a7e48841b0acf38fb8b9223da9",
       "style": "IPY_MODEL_a44aac372ddf4b488029adbdfdb45804",
       "value": 30
      }
     },
     "0eff4fc8fcbc487bb3844ee70901706d": {
      "model_module": "@jupyter-widgets/controls",
      "model_module_version": "1.5.0",
      "model_name": "DropdownModel",
      "state": {
       "_options_labels": [
        "272434793"
       ],
       "index": 0,
       "layout": "IPY_MODEL_ecf0126975994a2e94ceee5fe9ab8c25",
       "style": "IPY_MODEL_b54f5bfbf7164cf2ae159acc48adcabb"
      }
     },
     "0f241d7ac1da405cbc9e036ca7c9c405": {
      "model_module": "@jupyter-widgets/base",
      "model_module_version": "1.2.0",
      "model_name": "LayoutModel",
      "state": {
       "display": "none"
      }
     },
     "0f4cf28a229d4774b70ae74f7ba23a30": {
      "model_module": "@jupyter-widgets/base",
      "model_module_version": "1.2.0",
      "model_name": "LayoutModel",
      "state": {
       "display": "none"
      }
     },
     "0f7025081790494e9932b96bffd15a1b": {
      "model_module": "@jupyter-widgets/controls",
      "model_module_version": "1.5.0",
      "model_name": "IntProgressModel",
      "state": {
       "bar_style": "success",
       "layout": "IPY_MODEL_bd255d790df242498f51fc76a5be8b99",
       "max": 1,
       "style": "IPY_MODEL_499191045fb74335822a022d786dffc8",
       "value": 1
      }
     },
     "0f7a9ba557764a798d4118b7a865e4fb": {
      "model_module": "@jupyter-widgets/base",
      "model_module_version": "1.2.0",
      "model_name": "LayoutModel",
      "state": {
       "display": "flex"
      }
     },
     "0fb418b5339b4f6c9531ccd70226745e": {
      "model_module": "@jupyter-widgets/base",
      "model_module_version": "1.2.0",
      "model_name": "LayoutModel",
      "state": {
       "display": "none"
      }
     },
     "10341edf65124c5d9e52744115ed2c7c": {
      "model_module": "@jupyter-widgets/base",
      "model_module_version": "1.2.0",
      "model_name": "LayoutModel",
      "state": {
       "height": "32px",
       "order": "-2",
       "width": "32px"
      }
     },
     "108956ad265744ec8bf7e9e470af981f": {
      "model_module": "@jupyter-widgets/controls",
      "model_module_version": "1.5.0",
      "model_name": "IntProgressModel",
      "state": {
       "bar_style": "success",
       "layout": "IPY_MODEL_aef2d136ba5b4c89ae7f5553a75e99ff",
       "style": "IPY_MODEL_50b8dd18ca2d4461853c6733df076b03",
       "value": 100
      }
     },
     "10d054a4b81c46e0ae835f499d5b6a1a": {
      "model_module": "@jupyter-widgets/controls",
      "model_module_version": "1.5.0",
      "model_name": "LabelModel",
      "state": {
       "layout": "IPY_MODEL_8382b4ecf96a474fb5e863551d9be33b",
       "style": "IPY_MODEL_fe02d9dd556e42b7bbe1a17f1cbe7345",
       "value": "             objective 4"
      }
     },
     "1120f37be2f748eaab5bcb94107c3237": {
      "model_module": "@jupyter-widgets/controls",
      "model_module_version": "1.5.0",
      "model_name": "IntProgressModel",
      "state": {
       "layout": "IPY_MODEL_805e879b1322474fbf45e4f8f8a05f73",
       "style": "IPY_MODEL_b0f75121ce3b47478281dd6447c73a1f",
       "value": 30
      }
     },
     "115c3377b0da495aa8704c2a2748efcc": {
      "model_module": "@jupyter-widgets/controls",
      "model_module_version": "1.5.0",
      "model_name": "DescriptionStyleModel",
      "state": {
       "description_width": ""
      }
     },
     "117039a9d4ba4a85af214dbe8981036e": {
      "model_module": "@jupyter-widgets/base",
      "model_module_version": "1.2.0",
      "model_name": "LayoutModel",
      "state": {
       "display": "none"
      }
     },
     "118896075163436c87b068ecdb99c92a": {
      "model_module": "@jupyter-widgets/controls",
      "model_module_version": "1.5.0",
      "model_name": "DescriptionStyleModel",
      "state": {
       "description_width": ""
      }
     },
     "11a6742322f94a02bc91dcaf9a9d9bfa": {
      "model_module": "@jupyter-widgets/controls",
      "model_module_version": "1.5.0",
      "model_name": "HTMLModel",
      "state": {
       "layout": "IPY_MODEL_b0df6c03a4a64c96a7ced1ec07de4d85",
       "style": "IPY_MODEL_9d66e464097d453ea06dc4c63fb2812b",
       "value": "<font size=\"1\">Triumphs/Crucible/Lifetime/Glory Ranks/</font size=>"
      }
     },
     "11a6d88bb8e749fe8353489905118dbf": {
      "model_module": "@jupyter-widgets/controls",
      "model_module_version": "1.5.0",
      "model_name": "LabelModel",
      "state": {
       "layout": "IPY_MODEL_a20693167e9543fb82efaeff514928db",
       "style": "IPY_MODEL_37474058087946ad8ecea303fcf3454b",
       "value": "    Medals earned (71/1)"
      }
     },
     "11ad46d4e6d84ad7a7cddd1954e543fa": {
      "model_module": "@jupyter-widgets/controls",
      "model_module_version": "1.5.0",
      "model_name": "HBoxModel",
      "state": {
       "children": [
        "IPY_MODEL_c721c0f4e1a84566ab737aa31983ce1d",
        "IPY_MODEL_8783b3f0797543f68b10a73db0cac6ee",
        "IPY_MODEL_3f15a32e8bb64764ab90cc3299cca53c",
        "IPY_MODEL_a321216be8294973a984253541d0d5d6"
       ],
       "layout": "IPY_MODEL_736e271c64b540d6abaf9de0ee4eaa0c"
      }
     },
     "11ee1fbfe2094b2983e18d0664fb780b": {
      "model_module": "@jupyter-widgets/base",
      "model_module_version": "1.2.0",
      "model_name": "LayoutModel",
      "state": {
       "height": "20px"
      }
     },
     "120ed63660bf47d4b296170c72a61e97": {
      "model_module": "@jupyter-widgets/base",
      "model_module_version": "1.2.0",
      "model_name": "LayoutModel",
      "state": {
       "width": "60px"
      }
     },
     "12b2f7d0a74540adae2ec34a16165e0b": {
      "model_module": "@jupyter-widgets/base",
      "model_module_version": "1.2.0",
      "model_name": "LayoutModel",
      "state": {
       "width": "60px"
      }
     },
     "12c17cfe68cd459ba62630474cb8a3e9": {
      "model_module": "@jupyter-widgets/controls",
      "model_module_version": "1.5.0",
      "model_name": "DescriptionStyleModel",
      "state": {
       "description_width": ""
      }
     },
     "12cf84888e5c4461848cd80246d8d14d": {
      "model_module": "@jupyter-widgets/base",
      "model_module_version": "1.2.0",
      "model_name": "LayoutModel",
      "state": {
       "display": "flex"
      }
     },
     "12e5007872444dde9294e444a30b3ccc": {
      "model_module": "@jupyter-widgets/controls",
      "model_module_version": "1.5.0",
      "model_name": "ButtonModel",
      "state": {
       "layout": "IPY_MODEL_23c03b0f613a44fc9616b664db0fc2ff",
       "style": "IPY_MODEL_256c13b114e14daead404c3ebdcc1a06"
      }
     },
     "12f768ca23d6438ab30c1d24d67b2cc3": {
      "model_module": "@jupyter-widgets/controls",
      "model_module_version": "1.5.0",
      "model_name": "LabelModel",
      "state": {
       "layout": "IPY_MODEL_a20693167e9543fb82efaeff514928db",
       "style": "IPY_MODEL_a17fa66bdba245488a50b1dda0959774",
       "value": "             objective 3"
      }
     },
     "12fb2bc59ccb4b04bfd6265a24d0b888": {
      "model_module": "@jupyter-widgets/controls",
      "model_module_version": "1.5.0",
      "model_name": "HBoxModel",
      "state": {
       "children": [
        "IPY_MODEL_5adca0b43dad40bfa8914bc9e9960662",
        "IPY_MODEL_098c9f7a14734bdfa141bd0d2d065898",
        "IPY_MODEL_ebcd98ccce114e8a87ecc5f6bd3fdb5a",
        "IPY_MODEL_69b902d3f42f4346bcd469636cc6312f"
       ],
       "layout": "IPY_MODEL_b41c5cdf48d748e7bb05065e95a2092f"
      }
     },
     "1306db80fe30480bb9dbcb3cf925ed1a": {
      "model_module": "@jupyter-widgets/controls",
      "model_module_version": "1.5.0",
      "model_name": "IntProgressModel",
      "state": {
       "layout": "IPY_MODEL_d33469158c684f08a0ac9d76d826bdd7",
       "style": "IPY_MODEL_23895d02c3a047dc94e4c43b24d55b8c",
       "value": 30
      }
     },
     "1313e3bc7da343d380023e647308246a": {
      "model_module": "@jupyter-widgets/controls",
      "model_module_version": "1.5.0",
      "model_name": "ProgressStyleModel",
      "state": {
       "description_width": ""
      }
     },
     "13370eb9b0eb421c9bfdaf96619a82af": {
      "model_module": "@jupyter-widgets/base",
      "model_module_version": "1.2.0",
      "model_name": "LayoutModel",
      "state": {
       "order": "-1",
       "overflow": "visible",
       "padding": "1px",
       "width": "0px"
      }
     },
     "135ca363d3d84f629703bea6c464ae1d": {
      "model_module": "@jupyter-widgets/controls",
      "model_module_version": "1.5.0",
      "model_name": "ButtonModel",
      "state": {
       "button_style": "success",
       "disabled": true,
       "layout": "IPY_MODEL_4f92c5719b53461082e38f932605ab3d",
       "style": "IPY_MODEL_c30d1cf3ab234b6ab017028b6a3a5f40"
      }
     },
     "13607bf99e4f45b6a2ef408279df9014": {
      "model_module": "@jupyter-widgets/controls",
      "model_module_version": "1.5.0",
      "model_name": "ButtonStyleModel",
      "state": {}
     },
     "13688a563f72412ba1d6db2bc2025e27": {
      "model_module": "@jupyter-widgets/controls",
      "model_module_version": "1.5.0",
      "model_name": "IntProgressModel",
      "state": {
       "layout": "IPY_MODEL_bc6288a7e48841b0acf38fb8b9223da9",
       "style": "IPY_MODEL_353d774155614d3cb5dd540605c56e94",
       "value": 30
      }
     },
     "137bbb4267524118b2dcfac9d87c6b85": {
      "model_module": "@jupyter-widgets/controls",
      "model_module_version": "1.5.0",
      "model_name": "DescriptionStyleModel",
      "state": {
       "description_width": ""
      }
     },
     "13acb60ac79d4f339d6b11459deb987d": {
      "model_module": "@jupyter-widgets/base",
      "model_module_version": "1.2.0",
      "model_name": "LayoutModel",
      "state": {
       "width": "60px"
      }
     },
     "13c666ecfef742e385a490e1cc92cbb2": {
      "model_module": "@jupyter-widgets/controls",
      "model_module_version": "1.5.0",
      "model_name": "ButtonStyleModel",
      "state": {}
     },
     "13d389915f284ccfb8c4ec909d0f2069": {
      "model_module": "@jupyter-widgets/controls",
      "model_module_version": "1.5.0",
      "model_name": "DescriptionStyleModel",
      "state": {
       "description_width": ""
      }
     },
     "13e666348b104163ab28a6879ce9b0f3": {
      "model_module": "@jupyter-widgets/base",
      "model_module_version": "1.2.0",
      "model_name": "LayoutModel",
      "state": {
       "display": "none"
      }
     },
     "145f0b81c5d143f4b4a96b590317004c": {
      "model_module": "@jupyter-widgets/controls",
      "model_module_version": "1.5.0",
      "model_name": "ButtonModel",
      "state": {
       "description": "EDIT",
       "layout": "IPY_MODEL_4b2a2ae5711348a382021d79e8e6362c",
       "style": "IPY_MODEL_f5e9c1f18569456183563918df318994"
      }
     },
     "14f1ad60f5b14e278b6be7cee563527b": {
      "model_module": "@jupyter-widgets/controls",
      "model_module_version": "1.5.0",
      "model_name": "ButtonModel",
      "state": {
       "description": "EDIT",
       "layout": "IPY_MODEL_7b75f32c23aa49b98414fa383a68aa1b",
       "style": "IPY_MODEL_badc70aef35443bbbc190c4214c77371"
      }
     },
     "15139a7d893b46ad916bab6a3aca5748": {
      "model_module": "@jupyter-widgets/controls",
      "model_module_version": "1.5.0",
      "model_name": "LabelModel",
      "state": {
       "layout": "IPY_MODEL_77ca4ec0767e43629d0245781730f6cb",
       "style": "IPY_MODEL_ae10ef5fedbe485b9807d4134112ba86",
       "value": "             objective 2"
      }
     },
     "1544063bd7df44bbbe0a800160e536aa": {
      "model_module": "@jupyter-widgets/controls",
      "model_module_version": "1.5.0",
      "model_name": "ButtonModel",
      "state": {
       "button_style": "success",
       "disabled": true,
       "layout": "IPY_MODEL_21f202eb90994d40973b8d6a7771461b",
       "style": "IPY_MODEL_3a510eb2cdb84eeda0a9a07d5775c397"
      }
     },
     "154d69a5c24d4cf4a318562c2c587c51": {
      "model_module": "@jupyter-widgets/controls",
      "model_module_version": "1.5.0",
      "model_name": "ButtonModel",
      "state": {
       "description": "EDIT",
       "layout": "IPY_MODEL_e6e46a45e02b474b859656eb3411c724",
       "style": "IPY_MODEL_6ed3cc50730149488c0a27145ee2948f"
      }
     },
     "155ab55096ce4900bd5a6200c3292bbf": {
      "model_module": "@jupyter-widgets/controls",
      "model_module_version": "1.5.0",
      "model_name": "ProgressStyleModel",
      "state": {
       "description_width": ""
      }
     },
     "157596ec40c44faf86e2dfde74ce4614": {
      "model_module": "@jupyter-widgets/controls",
      "model_module_version": "1.5.0",
      "model_name": "LabelModel",
      "state": {
       "layout": "IPY_MODEL_db9ee4b72f7e48c48436fb895dc09e82",
       "style": "IPY_MODEL_bc4163580a37472fa99f0f46e02ec189",
       "value": "    Glory ranks (2/5)"
      }
     },
     "1579719a83484a5d962a0c8933c0ea85": {
      "model_module": "@jupyter-widgets/base",
      "model_module_version": "1.2.0",
      "model_name": "LayoutModel",
      "state": {
       "display": "none"
      }
     },
     "15a3f9dc3b9047bfa49fab4367a2150d": {
      "model_module": "@jupyter-widgets/controls",
      "model_module_version": "1.5.0",
      "model_name": "IntProgressModel",
      "state": {
       "layout": "IPY_MODEL_dc07c9b6f35643b9ae187c980ae46d86",
       "style": "IPY_MODEL_6016e626fc894348838ea0275a04430b",
       "value": 30
      }
     },
     "15b5df26bf034e3cbf8696086c7855d6": {
      "model_module": "@jupyter-widgets/base",
      "model_module_version": "1.2.0",
      "model_name": "LayoutModel",
      "state": {
       "display": "none"
      }
     },
     "15be5af536ef45f6a731fc31228aaeb9": {
      "model_module": "@jupyter-widgets/base",
      "model_module_version": "1.2.0",
      "model_name": "LayoutModel",
      "state": {
       "display": "flex",
       "flex_flow": "row wrap"
      }
     },
     "15f9e22ea3d64ec585a666dd376a5254": {
      "model_module": "@jupyter-widgets/base",
      "model_module_version": "1.2.0",
      "model_name": "LayoutModel",
      "state": {
       "display": "none"
      }
     },
     "16038704daf7492bb119e2d5c973b9c8": {
      "model_module": "@jupyter-widgets/controls",
      "model_module_version": "1.5.0",
      "model_name": "HTMLModel",
      "state": {
       "layout": "IPY_MODEL_399bd724c34f484abf8771427f1fdbcd",
       "style": "IPY_MODEL_be43e195ca1745c192a3f528d9f61625",
       "value": "<b>Gear Options</b>"
      }
     },
     "162e41231c8c4c97a79c1a88632585e8": {
      "model_module": "@jupyter-widgets/controls",
      "model_module_version": "1.5.0",
      "model_name": "ButtonModel",
      "state": {
       "description": "EDIT",
       "layout": "IPY_MODEL_45e44a9e411a44f39c540bf30aa5d6bb",
       "style": "IPY_MODEL_f7f2da62dbaa4c8fb98f49a82bb3ddb9"
      }
     },
     "1693947f03174790ac74208532c0bc7d": {
      "model_module": "@jupyter-widgets/controls",
      "model_module_version": "1.5.0",
      "model_name": "HBoxModel",
      "state": {
       "children": [
        "IPY_MODEL_f7afa93e4d46465192f7a810bf80a2e2",
        "IPY_MODEL_c4f1c76bc9dd436a98a46fa8a1c1dbf7",
        "IPY_MODEL_03c4d81a48004ca196159f86bc7cd250",
        "IPY_MODEL_260e9e18416c4b98817d86f7475bf1ee"
       ],
       "layout": "IPY_MODEL_7720db56b30a46af8601c41913cbe5b4"
      }
     },
     "16e658bdcea64eb393b21b5b22c88e31": {
      "model_module": "@jupyter-widgets/controls",
      "model_module_version": "1.5.0",
      "model_name": "HBoxModel",
      "state": {
       "children": [
        "IPY_MODEL_37a86dff0c1e43dfa5705d2205356ab9",
        "IPY_MODEL_6a073434db06471093b38e96484a9a5b",
        "IPY_MODEL_d46bfab263004939959779c54b665fa1",
        "IPY_MODEL_225cedc396444396b0114258e1ca325b"
       ],
       "layout": "IPY_MODEL_15f9e22ea3d64ec585a666dd376a5254"
      }
     },
     "17724496945d48f2b0f17872c291dd5f": {
      "model_module": "@jupyter-widgets/controls",
      "model_module_version": "1.5.0",
      "model_name": "DescriptionStyleModel",
      "state": {
       "description_width": ""
      }
     },
     "17cedfaae7a14545a556999f712ed98e": {
      "model_module": "@jupyter-widgets/controls",
      "model_module_version": "1.5.0",
      "model_name": "DescriptionStyleModel",
      "state": {
       "description_width": ""
      }
     },
     "17d1a939f3724b5f9cf49b4ed42198d4": {
      "model_module": "@jupyter-widgets/controls",
      "model_module_version": "1.5.0",
      "model_name": "IntProgressModel",
      "state": {
       "layout": "IPY_MODEL_5913bb3e39594888b2ddeee31bfbcec9",
       "style": "IPY_MODEL_b539b62b0cde4e2ebbd794588ec1e626",
       "value": 30
      }
     },
     "17ebc37263b0478abee69fa4176604a8": {
      "model_module": "@jupyter-widgets/controls",
      "model_module_version": "1.5.0",
      "model_name": "HBoxModel",
      "state": {
       "children": [
        "IPY_MODEL_4ddf0f43647c424bbb48151103c542c8",
        "IPY_MODEL_ab814f00928f495a81e149e34e919b2f",
        "IPY_MODEL_3537fef446604a4892c1bd0e555f7f77",
        "IPY_MODEL_be4b08d260914e78a9c789f4b149e5f5"
       ],
       "layout": "IPY_MODEL_ccf89e5017934c1197314e313e240d6b"
      }
     },
     "182ad77c4086495c82ab307046a80b29": {
      "model_module": "@jupyter-widgets/base",
      "model_module_version": "1.2.0",
      "model_name": "LayoutModel",
      "state": {
       "width": "60px"
      }
     },
     "186c2e4bc0f2440bb124035a9ae9e2d5": {
      "model_module": "@jupyter-widgets/controls",
      "model_module_version": "1.5.0",
      "model_name": "LabelModel",
      "state": {
       "layout": "IPY_MODEL_df00d075487c4c0db73993d548632bd8",
       "style": "IPY_MODEL_72db795ccc2d4f90a6e265c6b57742d8",
       "value": "             objective 1"
      }
     },
     "1876376ecfde4e348ef768fa49728a1c": {
      "model_module": "@jupyter-widgets/controls",
      "model_module_version": "1.5.0",
      "model_name": "ButtonStyleModel",
      "state": {}
     },
     "18ae6f0456b14dd19aa3bf1fad48891b": {
      "model_module": "@jupyter-widgets/controls",
      "model_module_version": "1.5.0",
      "model_name": "VBoxModel",
      "state": {
       "children": [
        "IPY_MODEL_0668d504a83c40779651c1390d6dee21",
        "IPY_MODEL_661ba6596df44e059c1943f39a9fb069",
        "IPY_MODEL_0ec2f7bd131f4425923af75ec60920cb"
       ],
       "layout": "IPY_MODEL_ed57050314554a968fbfe3fbb510ed5b"
      }
     },
     "18d0fb400cbf4b69876fe4baffda3da8": {
      "model_module": "@jupyter-widgets/controls",
      "model_module_version": "1.5.0",
      "model_name": "LabelModel",
      "state": {
       "layout": "IPY_MODEL_23b1c1ffc9ef4a5abdd53e4ddc878692",
       "style": "IPY_MODEL_d89e00c8b0ed449ba2c43266f42eba00",
       "value": "Class:"
      }
     },
     "18db01e8b4c04a54a6045d5989987176": {
      "model_module": "@jupyter-widgets/controls",
      "model_module_version": "1.5.0",
      "model_name": "VBoxModel",
      "state": {
       "children": [
        "IPY_MODEL_5bb1cf4bbdbd473daff41409172cfbb7",
        "IPY_MODEL_fbe5c20e4e68456ba4fd176c6c3cec6c",
        "IPY_MODEL_7d5c8757e7a4441087d696f24ff7fe6a",
        "IPY_MODEL_deae9ebe69964a4fbe1941929849ff94"
       ],
       "layout": "IPY_MODEL_f2b13b4656134e5a9a29f921ecb060bd"
      }
     },
     "18ecc3cbb30643e7bfad649cbdb058af": {
      "model_module": "@jupyter-widgets/base",
      "model_module_version": "1.2.0",
      "model_name": "LayoutModel",
      "state": {
       "display": "flex"
      }
     },
     "19302ae05af244e28ce439215c910caa": {
      "model_module": "@jupyter-widgets/base",
      "model_module_version": "1.2.0",
      "model_name": "LayoutModel",
      "state": {
       "display": "none"
      }
     },
     "1935970024fc464fab7afa8e6fa6f0c9": {
      "model_module": "@jupyter-widgets/base",
      "model_module_version": "1.2.0",
      "model_name": "LayoutModel",
      "state": {
       "width": "60px"
      }
     },
     "1950dc0ce1854647a004ca1911a8b55b": {
      "model_module": "@jupyter-widgets/controls",
      "model_module_version": "1.5.0",
      "model_name": "ButtonModel",
      "state": {
       "button_style": "success",
       "disabled": true,
       "layout": "IPY_MODEL_9fada2a0e36341b68dcd055b41a73a2e",
       "style": "IPY_MODEL_13c666ecfef742e385a490e1cc92cbb2"
      }
     },
     "19eb5c39c67b44f7b53614817511ace4": {
      "model_module": "@jupyter-widgets/controls",
      "model_module_version": "1.5.0",
      "model_name": "VBoxModel",
      "state": {
       "children": [
        "IPY_MODEL_2cc13e9c4ff14f1591181c9c2ea95a52",
        "IPY_MODEL_99e4537cb1be4fb5b39e1e6bce952cf6",
        "IPY_MODEL_1a0f28a7c63a4f608dae4d5a6068a345",
        "IPY_MODEL_44457e894a654dcf96aece168fe0ab78"
       ],
       "layout": "IPY_MODEL_cac7c96612584c89b2c044591698785b"
      }
     },
     "19fb2b6e002f4dd78427c43dc3d83103": {
      "model_module": "@jupyter-widgets/controls",
      "model_module_version": "1.5.0",
      "model_name": "DropdownModel",
      "state": {
       "_options_labels": [
        "Any",
        "Hand Cannon",
        "Auto Rifle",
        "Scout Rifle",
        "Pulse Rifle",
        "Sidearm",
        "Submachine Gun",
        "Combt Bow",
        "Sniper Rifle",
        "Shotgun"
       ],
       "index": 0,
       "layout": "IPY_MODEL_9fd1f2d0c9f4460d991ea4e17ed1f0a3",
       "style": "IPY_MODEL_800e7d18c82c4ef08be98acbac156be0"
      }
     },
     "1a02a1043aa14011bae6c1123ea603ef": {
      "model_module": "@jupyter-widgets/controls",
      "model_module_version": "1.5.0",
      "model_name": "ProgressStyleModel",
      "state": {
       "description_width": ""
      }
     },
     "1a0762544d16478a8d7f813f20f0827f": {
      "model_module": "@jupyter-widgets/base",
      "model_module_version": "1.2.0",
      "model_name": "LayoutModel",
      "state": {
       "display": "none"
      }
     },
     "1a0f28a7c63a4f608dae4d5a6068a345": {
      "model_module": "@jupyter-widgets/controls",
      "model_module_version": "1.5.0",
      "model_name": "HTMLModel",
      "state": {
       "layout": "IPY_MODEL_3723ee30fc8d4a5598c775963d4ab6ae",
       "style": "IPY_MODEL_d50ddf0aaaae4207b3af04e216740396",
       "value": "<i></i>"
      }
     },
     "1a7a3fe3421648acac2d3c3440f7e0aa": {
      "model_module": "@jupyter-widgets/base",
      "model_module_version": "1.2.0",
      "model_name": "LayoutModel",
      "state": {
       "overflow": "visible",
       "width": "100%"
      }
     },
     "1acf7d1feaa34af88b2d99c75484860a": {
      "model_module": "@jupyter-widgets/controls",
      "model_module_version": "1.5.0",
      "model_name": "HBoxModel",
      "state": {
       "children": [
        "IPY_MODEL_da9d473cc4a64a7eb83eb22490f148f3",
        "IPY_MODEL_652f19779e964ecfb4452b4dea78a450",
        "IPY_MODEL_840359c25e954a879085d9632b2d3e74"
       ],
       "layout": "IPY_MODEL_54939035130d4b6dbb74b20842d138c5"
      }
     },
     "1af292256b6e4187888b505b5ebdb752": {
      "model_module": "@jupyter-widgets/controls",
      "model_module_version": "1.5.0",
      "model_name": "DescriptionStyleModel",
      "state": {
       "description_width": ""
      }
     },
     "1b6daf2564314a14a871d4621dcbecdb": {
      "model_module": "@jupyter-widgets/controls",
      "model_module_version": "1.5.0",
      "model_name": "IntProgressModel",
      "state": {
       "layout": "IPY_MODEL_efb60c79236d457a97e0e8db813bd4cb",
       "style": "IPY_MODEL_fdace3d7f5e54a9194d334618a807b43",
       "value": 30
      }
     },
     "1b929d7f88b942609ca3644758e418ac": {
      "model_module": "@jupyter-widgets/controls",
      "model_module_version": "1.5.0",
      "model_name": "ButtonModel",
      "state": {
       "layout": "IPY_MODEL_d965074cab4c491ea3b2a93fe68c9867",
       "style": "IPY_MODEL_bba636560bbc45d3936b6226603f7f4a"
      }
     },
     "1b99fc65e0b74c99aa3b6477cefbd76c": {
      "model_module": "@jupyter-widgets/controls",
      "model_module_version": "1.5.0",
      "model_name": "HBoxModel",
      "state": {
       "children": [
        "IPY_MODEL_caa78cba33b44c20bc88463b90f6ffdf",
        "IPY_MODEL_54e3691a9aec48a99d8e6d42bc441e30",
        "IPY_MODEL_52c99bfb3e5a4fa998bbd8365fa37151",
        "IPY_MODEL_018558e8c6bb40a3abf05ed68e8f3b08"
       ],
       "layout": "IPY_MODEL_1579719a83484a5d962a0c8933c0ea85"
      }
     },
     "1ba88289fd0548bb8ddf9eb95b22ff56": {
      "model_module": "@jupyter-widgets/controls",
      "model_module_version": "1.5.0",
      "model_name": "HBoxModel",
      "state": {
       "children": [
        "IPY_MODEL_1cb4c59cac9c466fb2193a42751d7c6c",
        "IPY_MODEL_47b883b8846941afafd8d346c37dc406",
        "IPY_MODEL_c9bb25f538f84572a4797b54fbea57e4",
        "IPY_MODEL_96d5279d666b4a74ac9bfa0f03ea0440"
       ],
       "layout": "IPY_MODEL_0f4cf28a229d4774b70ae74f7ba23a30"
      }
     },
     "1be34bbed7114df0881ce77ded2c3844": {
      "model_module": "@jupyter-widgets/controls",
      "model_module_version": "1.5.0",
      "model_name": "ButtonStyleModel",
      "state": {}
     },
     "1c447c71b43d42d8975522f7008b4313": {
      "model_module": "@jupyter-widgets/base",
      "model_module_version": "1.2.0",
      "model_name": "LayoutModel",
      "state": {
       "overflow": "visible",
       "width": "100%"
      }
     },
     "1c64dc0487fd48dda9b8ffe3e4428f7f": {
      "model_module": "@jupyter-widgets/controls",
      "model_module_version": "1.5.0",
      "model_name": "DescriptionStyleModel",
      "state": {
       "description_width": ""
      }
     },
     "1c8136ae516149ea9c6141c6d19292e9": {
      "model_module": "@jupyter-widgets/controls",
      "model_module_version": "1.5.0",
      "model_name": "ButtonStyleModel",
      "state": {}
     },
     "1cb4c59cac9c466fb2193a42751d7c6c": {
      "model_module": "@jupyter-widgets/controls",
      "model_module_version": "1.5.0",
      "model_name": "ButtonModel",
      "state": {
       "layout": "IPY_MODEL_23c03b0f613a44fc9616b664db0fc2ff",
       "style": "IPY_MODEL_374b804e86ed4257ad611d10438c6806"
      }
     },
     "1cb4e9783ae540778f92f28eb3cbaffa": {
      "model_module": "@jupyter-widgets/controls",
      "model_module_version": "1.5.0",
      "model_name": "DescriptionStyleModel",
      "state": {
       "description_width": ""
      }
     },
     "1d5d229be84b4bcca50a18339ddb5f67": {
      "model_module": "@jupyter-widgets/base",
      "model_module_version": "1.2.0",
      "model_name": "LayoutModel",
      "state": {
       "width": "60px"
      }
     },
     "1da850d1578b47019d261d9b88bee395": {
      "model_module": "@jupyter-widgets/controls",
      "model_module_version": "1.5.0",
      "model_name": "HTMLModel",
      "state": {
       "layout": "IPY_MODEL_eafea1b5597e455e81d9820397e24c07",
       "style": "IPY_MODEL_c948927d26884970a4179f4c87bb8bd9",
       "value": "<font size=\"5\"><b>Batteries Not Included</b></font size=>"
      }
     },
     "1dd02a58bfe94197aed260d2feafe375": {
      "model_module": "@jupyter-widgets/base",
      "model_module_version": "1.2.0",
      "model_name": "LayoutModel",
      "state": {
       "overflow": "visible",
       "width": "100%"
      }
     },
     "1e22ae9f94cc414f9a2f13c6332ec908": {
      "model_module": "@jupyter-widgets/controls",
      "model_module_version": "1.5.0",
      "model_name": "ButtonStyleModel",
      "state": {}
     },
     "1edb4670f0464db2bf0e8b717e356327": {
      "model_module": "@jupyter-widgets/controls",
      "model_module_version": "1.5.0",
      "model_name": "DescriptionStyleModel",
      "state": {
       "description_width": ""
      }
     },
     "1f3ed2661f8b4d599b93ee1890259995": {
      "model_module": "@jupyter-widgets/controls",
      "model_module_version": "1.5.0",
      "model_name": "LabelModel",
      "state": {
       "layout": "IPY_MODEL_6839730e72df425ba8227d8a61caf696",
       "style": "IPY_MODEL_ea3fc34f5e124aac91bd0f61063484e8",
       "value": "             objective 4"
      }
     },
     "1f5e4b7cdb6f4701b0875a12a6f484cf": {
      "model_module": "@jupyter-widgets/controls",
      "model_module_version": "1.5.0",
      "model_name": "ButtonModel",
      "state": {
       "description": "Previous Page",
       "disabled": true,
       "layout": "IPY_MODEL_b9a08cf21cce4e1a99faa196616f928e",
       "style": "IPY_MODEL_3129505a61a74fc6a8400d9cac031503"
      }
     },
     "1f6383c5264c4ca0bd71e189b750cf67": {
      "model_module": "@jupyter-widgets/controls",
      "model_module_version": "1.5.0",
      "model_name": "ButtonModel",
      "state": {
       "layout": "IPY_MODEL_d965074cab4c491ea3b2a93fe68c9867",
       "style": "IPY_MODEL_b402527ef56b4bb38a5cf35472f006ea"
      }
     },
     "1f789b8c95af429c8d617e87eef4ab13": {
      "model_module": "@jupyter-widgets/controls",
      "model_module_version": "1.5.0",
      "model_name": "ProgressStyleModel",
      "state": {
       "description_width": ""
      }
     },
     "1f884947caa943aeacc414ad073bde01": {
      "model_module": "@jupyter-widgets/base",
      "model_module_version": "1.2.0",
      "model_name": "LayoutModel",
      "state": {
       "display": "flex",
       "flex_flow": "row wrap"
      }
     },
     "1fb57fa963fb43b199e103d6b68f06e4": {
      "model_module": "@jupyter-widgets/controls",
      "model_module_version": "1.5.0",
      "model_name": "HBoxModel",
      "state": {
       "children": [
        "IPY_MODEL_439da814abcf46e9a9981b1dc42fa11d",
        "IPY_MODEL_b5d9caa8d0cc41279bae9c4ab332265d",
        "IPY_MODEL_abdd5c958c8b4b648a20783ac902d6b3",
        "IPY_MODEL_fcf6c45a7cb94cf3aa2092d7578e8f0a"
       ],
       "layout": "IPY_MODEL_68002ceca87b4849858190d35e50aa90"
      }
     },
     "1fd0e132bcba4139917995d580626b4a": {
      "model_module": "@jupyter-widgets/controls",
      "model_module_version": "1.5.0",
      "model_name": "DescriptionStyleModel",
      "state": {
       "description_width": ""
      }
     },
     "1fe55e15b4ac46e8a7a5ce2d01484f31": {
      "model_module": "@jupyter-widgets/controls",
      "model_module_version": "1.5.0",
      "model_name": "ButtonModel",
      "state": {
       "description": "EDIT",
       "layout": "IPY_MODEL_e0a672b2ac8c471c84f72bc182266c37",
       "style": "IPY_MODEL_a1d5e0c24922494cb4a0eaba8e5c07cf"
      }
     },
     "204b76bad38744b282fa87f297112098": {
      "model_module": "@jupyter-widgets/controls",
      "model_module_version": "1.5.0",
      "model_name": "LabelModel",
      "state": {
       "layout": "IPY_MODEL_427853489cc7448a89048fd571cafe69",
       "style": "IPY_MODEL_fd0611a5e91c418f9bb4e861af7dc9a6",
       "value": "             objective 2"
      }
     },
     "20b138a87c47445f99e4ea8523e39704": {
      "model_module": "@jupyter-widgets/controls",
      "model_module_version": "1.5.0",
      "model_name": "HTMLModel",
      "state": {
       "layout": "IPY_MODEL_4cf838dcd6fb40e5aba2f9eac13d3fd9",
       "style": "IPY_MODEL_84df6c3be7564e5f98b6736d6f12d265",
       "value": "<i>Complete a Flashpoint on Io.</i>"
      }
     },
     "20be9331e5f24cb390e9162b5f5b4d65": {
      "model_module": "@jupyter-widgets/base",
      "model_module_version": "1.2.0",
      "model_name": "LayoutModel",
      "state": {}
     },
     "21087f9fd5714a18b170a7b563e10657": {
      "model_module": "@jupyter-widgets/controls",
      "model_module_version": "1.5.0",
      "model_name": "ProgressStyleModel",
      "state": {
       "description_width": ""
      }
     },
     "213939b5bd9749d8b7b3b36e96ad7a8d": {
      "model_module": "@jupyter-widgets/base",
      "model_module_version": "1.2.0",
      "model_name": "LayoutModel",
      "state": {
       "height": "32px",
       "order": "-2",
       "width": "32px"
      }
     },
     "214634b737e340a288fa0f86f39ae215": {
      "model_module": "@jupyter-widgets/controls",
      "model_module_version": "1.5.0",
      "model_name": "ButtonModel",
      "state": {
       "description": "EDIT",
       "layout": "IPY_MODEL_cbf37cce48874fcfb3e5125e6c579b9c",
       "style": "IPY_MODEL_8e8f0ba743054b1d937abcf369f8f156"
      }
     },
     "21572769204c43939e777ff460f21232": {
      "model_module": "@jupyter-widgets/controls",
      "model_module_version": "1.5.0",
      "model_name": "ButtonModel",
      "state": {
       "layout": "IPY_MODEL_810a59a0197f48038f3041736400c732",
       "style": "IPY_MODEL_be1d513570674e69879fe8d09e172df3"
      }
     },
     "218e28b5e96941d79bed967d904cbbbe": {
      "model_module": "@jupyter-widgets/controls",
      "model_module_version": "1.5.0",
      "model_name": "IntProgressModel",
      "state": {
       "layout": "IPY_MODEL_d3f365df8c9442de8da92df2817e8ce6",
       "style": "IPY_MODEL_a6c976f4f5fd4034a8f17111f006c31a",
       "value": 30
      }
     },
     "218f3d70b7e94adc8ab47c6ecb56334a": {
      "model_module": "@jupyter-widgets/controls",
      "model_module_version": "1.5.0",
      "model_name": "ButtonModel",
      "state": {
       "description": "EDIT",
       "layout": "IPY_MODEL_e637d99a6d804170bf616011e55fe0ff",
       "style": "IPY_MODEL_a3c38b9610894b8e8b448fc0720c6fe0"
      }
     },
     "21b5c45507e64e498d6fd35585def173": {
      "model_module": "@jupyter-widgets/controls",
      "model_module_version": "1.5.0",
      "model_name": "ButtonStyleModel",
      "state": {}
     },
     "21dcf0cd61a34a4e8e6969a9d159564b": {
      "model_module": "@jupyter-widgets/base",
      "model_module_version": "1.2.0",
      "model_name": "LayoutModel",
      "state": {
       "border": "2px solid #00bcd4",
       "height": "100%",
       "width": "98%"
      }
     },
     "21f202eb90994d40973b8d6a7771461b": {
      "model_module": "@jupyter-widgets/base",
      "model_module_version": "1.2.0",
      "model_name": "LayoutModel",
      "state": {
       "height": "32px",
       "order": "-2",
       "width": "32px"
      }
     },
     "221f785236dd40a6b055936c5c6ddda8": {
      "model_module": "@jupyter-widgets/controls",
      "model_module_version": "1.5.0",
      "model_name": "ButtonModel",
      "state": {
       "description": "EDIT",
       "layout": "IPY_MODEL_7daea5bcef634cd28e616d14d620ec70",
       "style": "IPY_MODEL_ac8d8b2d3abb41a0b1f8183f5d644e92"
      }
     },
     "224422ce78aa4e18af5be9c2806f585e": {
      "model_module": "@jupyter-widgets/controls",
      "model_module_version": "1.5.0",
      "model_name": "ButtonStyleModel",
      "state": {}
     },
     "225cedc396444396b0114258e1ca325b": {
      "model_module": "@jupyter-widgets/controls",
      "model_module_version": "1.5.0",
      "model_name": "ButtonModel",
      "state": {
       "description": "EDIT",
       "layout": "IPY_MODEL_fecfbcba4eed461c96e112e96e9c293c",
       "style": "IPY_MODEL_71660586322749428eab6446d29389d3"
      }
     },
     "22dc077e567047a89e1e099d7577800a": {
      "model_module": "@jupyter-widgets/controls",
      "model_module_version": "1.5.0",
      "model_name": "ButtonStyleModel",
      "state": {}
     },
     "23053590d11d4c6caaac3dba2ef25577": {
      "model_module": "@jupyter-widgets/controls",
      "model_module_version": "1.5.0",
      "model_name": "LabelModel",
      "state": {
       "layout": "IPY_MODEL_db9ee4b72f7e48c48436fb895dc09e82",
       "style": "IPY_MODEL_7e67811bc2d340eaa57ddad7bbac478b",
       "value": "             objective 5"
      }
     },
     "232305a7cdee478fb91875f1d5b7d1f3": {
      "model_module": "@jupyter-widgets/controls",
      "model_module_version": "1.5.0",
      "model_name": "VBoxModel",
      "state": {
       "children": [
        "IPY_MODEL_afae761b5bb64053aa1126ac5fd4bca6",
        "IPY_MODEL_70a9385bd8e642059329b7d7d59ad3c0",
        "IPY_MODEL_bd279c7511a64c9fb1fe6ee6a8b54853",
        "IPY_MODEL_d386edc92c584889b0c667544b8692be"
       ],
       "layout": "IPY_MODEL_cb0b3fabcec44498b3c913361f6c751a"
      }
     },
     "23895d02c3a047dc94e4c43b24d55b8c": {
      "model_module": "@jupyter-widgets/controls",
      "model_module_version": "1.5.0",
      "model_name": "ProgressStyleModel",
      "state": {
       "description_width": ""
      }
     },
     "23a71db72fbc426faf3d6774d6c499c5": {
      "model_module": "@jupyter-widgets/controls",
      "model_module_version": "1.5.0",
      "model_name": "HBoxModel",
      "state": {
       "children": [
        "IPY_MODEL_40ebccc8c93e4030844986eca60e9a22",
        "IPY_MODEL_64716c5d4d3843f5b6bde3dbaa4ec447",
        "IPY_MODEL_74ca4b2539f94ab797498bc158d3b514",
        "IPY_MODEL_5aea7dd3a2804a5288a5081a150c0ae6"
       ],
       "layout": "IPY_MODEL_f729d36a12b14aa08f2669d150ec92e9"
      }
     },
     "23b1c1ffc9ef4a5abdd53e4ddc878692": {
      "model_module": "@jupyter-widgets/base",
      "model_module_version": "1.2.0",
      "model_name": "LayoutModel",
      "state": {
       "height": "100%",
       "width": "98%"
      }
     },
     "23c03b0f613a44fc9616b664db0fc2ff": {
      "model_module": "@jupyter-widgets/base",
      "model_module_version": "1.2.0",
      "model_name": "LayoutModel",
      "state": {
       "height": "32px",
       "order": "-2",
       "width": "32px"
      }
     },
     "240a6d7a67404c16bd2cb4be48b4f3e6": {
      "model_module": "@jupyter-widgets/base",
      "model_module_version": "1.2.0",
      "model_name": "LayoutModel",
      "state": {
       "width": "60px"
      }
     },
     "247e0322996f41f5b7cef9cb7093bd5d": {
      "model_module": "@jupyter-widgets/controls",
      "model_module_version": "1.5.0",
      "model_name": "ButtonModel",
      "state": {
       "button_style": "success",
       "disabled": true,
       "layout": "IPY_MODEL_213939b5bd9749d8b7b3b36e96ad7a8d",
       "style": "IPY_MODEL_f909a22023814f5eafcf5f13102c4c4e"
      }
     },
     "24856bd8e17649e3ba48fe5aab3c665e": {
      "model_module": "@jupyter-widgets/controls",
      "model_module_version": "1.5.0",
      "model_name": "ButtonModel",
      "state": {
       "layout": "IPY_MODEL_23c03b0f613a44fc9616b664db0fc2ff",
       "style": "IPY_MODEL_9382494ffa714376be4c1aa07a5f732e"
      }
     },
     "248717661b7a4223af58048b3e024e46": {
      "model_module": "@jupyter-widgets/controls",
      "model_module_version": "1.5.0",
      "model_name": "DescriptionStyleModel",
      "state": {
       "description_width": ""
      }
     },
     "2509ea7197de434bbfa61ac5cd3c1827": {
      "model_module": "@jupyter-widgets/base",
      "model_module_version": "1.2.0",
      "model_name": "LayoutModel",
      "state": {
       "display": "none"
      }
     },
     "256c13b114e14daead404c3ebdcc1a06": {
      "model_module": "@jupyter-widgets/controls",
      "model_module_version": "1.5.0",
      "model_name": "ButtonStyleModel",
      "state": {}
     },
     "25741a9a3da240499d2fcfafe161b008": {
      "model_module": "@jupyter-widgets/base",
      "model_module_version": "1.2.0",
      "model_name": "LayoutModel",
      "state": {
       "display": "none"
      }
     },
     "25afd19b352e45a987625262f5566e84": {
      "model_module": "@jupyter-widgets/controls",
      "model_module_version": "1.5.0",
      "model_name": "ButtonStyleModel",
      "state": {}
     },
     "260e9e18416c4b98817d86f7475bf1ee": {
      "model_module": "@jupyter-widgets/controls",
      "model_module_version": "1.5.0",
      "model_name": "ButtonModel",
      "state": {
       "description": "EDIT",
       "layout": "IPY_MODEL_3e85827065d54b6b8c969ed80cd5fa99",
       "style": "IPY_MODEL_775e910560b04080af1910e474710fe3"
      }
     },
     "26739fd0e1094b65ab3389fa1520b8e4": {
      "model_module": "@jupyter-widgets/controls",
      "model_module_version": "1.5.0",
      "model_name": "DescriptionStyleModel",
      "state": {
       "description_width": ""
      }
     },
     "2674452ddb6f40dda7055bde24cc471e": {
      "model_module": "@jupyter-widgets/controls",
      "model_module_version": "1.5.0",
      "model_name": "DescriptionStyleModel",
      "state": {
       "description_width": ""
      }
     },
     "267cb9bf7a24402a8efb768162a6d4ea": {
      "model_module": "@jupyter-widgets/controls",
      "model_module_version": "1.5.0",
      "model_name": "ButtonModel",
      "state": {
       "description": "EDIT",
       "layout": "IPY_MODEL_13acb60ac79d4f339d6b11459deb987d",
       "style": "IPY_MODEL_abed80ee6a3d4a019eb17c3d34b153f6"
      }
     },
     "26855ff48adb4fcaa7a7859151253a98": {
      "model_module": "@jupyter-widgets/base",
      "model_module_version": "1.2.0",
      "model_name": "LayoutModel",
      "state": {
       "display": "flex",
       "flex_flow": "column wrap"
      }
     },
     "272d5e7146644d4b8ae79d9159b33e36": {
      "model_module": "@jupyter-widgets/controls",
      "model_module_version": "1.5.0",
      "model_name": "ProgressStyleModel",
      "state": {
       "description_width": ""
      }
     },
     "272f1d85068a4d33addb85ff246efaa8": {
      "model_module": "@jupyter-widgets/base",
      "model_module_version": "1.2.0",
      "model_name": "LayoutModel",
      "state": {
       "display": "none"
      }
     },
     "27400526e0a442b7b7c4dbfd0bfeaceb": {
      "model_module": "@jupyter-widgets/base",
      "model_module_version": "1.2.0",
      "model_name": "LayoutModel",
      "state": {
       "height": "32px",
       "overflow": "visible",
       "padding": "0px",
       "width": "100%"
      }
     },
     "2777e01009b4424098749f4d32494211": {
      "model_module": "@jupyter-widgets/base",
      "model_module_version": "1.2.0",
      "model_name": "LayoutModel",
      "state": {
       "display": "flex"
      }
     },
     "27d1e5dd91a748beb1bc2088fd866719": {
      "model_module": "@jupyter-widgets/controls",
      "model_module_version": "1.5.0",
      "model_name": "HBoxModel",
      "state": {
       "children": [
        "IPY_MODEL_a5b1bab576de4c4b825944f9612439cb",
        "IPY_MODEL_68a2b427280b46b0bbc5c633b8e05f9e"
       ],
       "layout": "IPY_MODEL_c5b2efdf40f441fc80fca866ce009d7c"
      }
     },
     "27dfc83e452843fbb0efb98e413ac496": {
      "model_module": "@jupyter-widgets/controls",
      "model_module_version": "1.5.0",
      "model_name": "IntProgressModel",
      "state": {
       "layout": "IPY_MODEL_d3f365df8c9442de8da92df2817e8ce6",
       "style": "IPY_MODEL_ac4009d6f6a44178879b6473f83ce62b",
       "value": 30
      }
     },
     "282846f2ac974290b0d5eed073922e61": {
      "model_module": "@jupyter-widgets/controls",
      "model_module_version": "1.5.0",
      "model_name": "ButtonModel",
      "state": {
       "description": "EDIT",
       "layout": "IPY_MODEL_6de158064cb241d0ab5120bdd1519884",
       "style": "IPY_MODEL_3e12ebfc4e3e4cc0bdeb1a9da74f7de4"
      }
     },
     "2870c07f04154fbd9f7aa9272cadc5bd": {
      "model_module": "@jupyter-widgets/controls",
      "model_module_version": "1.5.0",
      "model_name": "ButtonModel",
      "state": {
       "description": "EDIT",
       "layout": "IPY_MODEL_d5ede3370e4c45d29fdc30f2993577da",
       "style": "IPY_MODEL_74c9e3894df749c181560b95a1fb85bd"
      }
     },
     "28a1d9d8f5dc4dfcb949d76e747efab4": {
      "model_module": "@jupyter-widgets/controls",
      "model_module_version": "1.5.0",
      "model_name": "ButtonStyleModel",
      "state": {}
     },
     "28ac75d5b6444b42a8eb0db0af539c08": {
      "model_module": "@jupyter-widgets/controls",
      "model_module_version": "1.5.0",
      "model_name": "ButtonModel",
      "state": {
       "description": "EDIT",
       "layout": "IPY_MODEL_1d5d229be84b4bcca50a18339ddb5f67",
       "style": "IPY_MODEL_54e9317194a148bf9aacbe36a560b00f"
      }
     },
     "28eb24b86f88467a9145f9a52152b820": {
      "model_module": "@jupyter-widgets/controls",
      "model_module_version": "1.5.0",
      "model_name": "ButtonModel",
      "state": {
       "layout": "IPY_MODEL_10341edf65124c5d9e52744115ed2c7c",
       "style": "IPY_MODEL_7446e7dd01414e4ca2256286addb9433"
      }
     },
     "28fe19e21eff471fbdb5f9d31c180cc5": {
      "model_module": "@jupyter-widgets/base",
      "model_module_version": "1.2.0",
      "model_name": "LayoutModel",
      "state": {}
     },
     "29080414db8d41b58cdda53461370d5d": {
      "model_module": "@jupyter-widgets/controls",
      "model_module_version": "1.5.0",
      "model_name": "ButtonStyleModel",
      "state": {}
     },
     "29d82c795f984a1786046300583921c4": {
      "model_module": "@jupyter-widgets/base",
      "model_module_version": "1.2.0",
      "model_name": "LayoutModel",
      "state": {
       "width": "60px"
      }
     },
     "29e383f434f94719a9f0c677e0ab4990": {
      "model_module": "@jupyter-widgets/controls",
      "model_module_version": "1.5.0",
      "model_name": "ButtonStyleModel",
      "state": {}
     },
     "2a03a836b7ce4166ae97c65564bab4cf": {
      "model_module": "@jupyter-widgets/base",
      "model_module_version": "1.2.0",
      "model_name": "LayoutModel",
      "state": {
       "order": "-1",
       "overflow": "visible",
       "padding": "1px",
       "width": "0px"
      }
     },
     "2a82ee8f523247678b2bf6c3ec766c8b": {
      "model_module": "@jupyter-widgets/controls",
      "model_module_version": "1.5.0",
      "model_name": "LabelModel",
      "state": {
       "layout": "IPY_MODEL_8382b4ecf96a474fb5e863551d9be33b",
       "style": "IPY_MODEL_e66f07b337694c4e983589254d5f6426",
       "value": "             objective 5"
      }
     },
     "2aabcff20245464ba75391f0440e207f": {
      "model_module": "@jupyter-widgets/controls",
      "model_module_version": "1.5.0",
      "model_name": "ButtonStyleModel",
      "state": {}
     },
     "2ac12827937940369aec6da16f93b88c": {
      "model_module": "@jupyter-widgets/controls",
      "model_module_version": "1.5.0",
      "model_name": "IntProgressModel",
      "state": {
       "layout": "IPY_MODEL_d33469158c684f08a0ac9d76d826bdd7",
       "style": "IPY_MODEL_454fb640206c445da06eee1ace48499f",
       "value": 30
      }
     },
     "2b079e57b352439e8afb1a3937897df1": {
      "model_module": "@jupyter-widgets/controls",
      "model_module_version": "1.5.0",
      "model_name": "ButtonStyleModel",
      "state": {}
     },
     "2b5b7b5da2124946a456bdfd26563157": {
      "model_module": "@jupyter-widgets/controls",
      "model_module_version": "1.5.0",
      "model_name": "ButtonStyleModel",
      "state": {}
     },
     "2bbee13dbaef41cc9ab512643cea24aa": {
      "model_module": "@jupyter-widgets/controls",
      "model_module_version": "1.5.0",
      "model_name": "DescriptionStyleModel",
      "state": {
       "description_width": ""
      }
     },
     "2bc14da1f9ac4d06b0fb1e8836ee53db": {
      "model_module": "@jupyter-widgets/controls",
      "model_module_version": "1.5.0",
      "model_name": "LabelModel",
      "state": {
       "layout": "IPY_MODEL_58a9efa8c1004142b339d418615b8a78",
       "style": "IPY_MODEL_4b1828baf78f4d6faece4325e0725702",
       "value": "             objective 3"
      }
     },
     "2c30d3f9471a43ba8adfdd7e836b850e": {
      "model_module": "@jupyter-widgets/controls",
      "model_module_version": "1.5.0",
      "model_name": "ButtonModel",
      "state": {
       "description": "EDIT",
       "layout": "IPY_MODEL_f1e7ae4a011f48ed9a0fcfd786560b5d",
       "style": "IPY_MODEL_39fbc2b9425b41238fcb6606b49c4a98"
      }
     },
     "2c4c6c96a09e4702b995c70c087c5c07": {
      "model_module": "@jupyter-widgets/controls",
      "model_module_version": "1.5.0",
      "model_name": "ButtonModel",
      "state": {
       "layout": "IPY_MODEL_10341edf65124c5d9e52744115ed2c7c",
       "style": "IPY_MODEL_0d5c51fa1c9641658b0899a58a5a5b47"
      }
     },
     "2cc13e9c4ff14f1591181c9c2ea95a52": {
      "model_module": "@jupyter-widgets/controls",
      "model_module_version": "1.5.0",
      "model_name": "HTMLModel",
      "state": {
       "layout": "IPY_MODEL_8baf94e8142a4b5e8141d3facb2e0c7d",
       "style": "IPY_MODEL_830a166cd04a41ca87f5f5f51d1700b3",
       "value": "<font size=\"1\">Triumphs/Lore/The Light/Ghost Stories/</font size=>"
      }
     },
     "2cc437b9c5e945fabff857b5d36fcd61": {
      "model_module": "@jupyter-widgets/controls",
      "model_module_version": "1.5.0",
      "model_name": "ProgressStyleModel",
      "state": {
       "description_width": ""
      }
     },
     "2ccf7557ff864306bba07c785cabaf92": {
      "model_module": "@jupyter-widgets/controls",
      "model_module_version": "1.5.0",
      "model_name": "IntProgressModel",
      "state": {
       "bar_style": "success",
       "layout": "IPY_MODEL_7ab2f7c86fdf451d84d74476cd07109a",
       "max": 1,
       "style": "IPY_MODEL_8dd46b32f0e44c9f9627129c241e0965",
       "value": 1
      }
     },
     "2d1271f85489470aa770c3e64afede75": {
      "model_module": "@jupyter-widgets/controls",
      "model_module_version": "1.5.0",
      "model_name": "ProgressStyleModel",
      "state": {
       "description_width": ""
      }
     },
     "2d2da2660ef24b4282b527d6836f24f8": {
      "model_module": "@jupyter-widgets/base",
      "model_module_version": "1.2.0",
      "model_name": "LayoutModel",
      "state": {
       "width": "60px"
      }
     },
     "2d67b93c50b14e45ba57de1febe0e49a": {
      "model_module": "@jupyter-widgets/base",
      "model_module_version": "1.2.0",
      "model_name": "LayoutModel",
      "state": {
       "width": "60px"
      }
     },
     "2d8237306a6341039b7b0cd1bacc86f6": {
      "model_module": "@jupyter-widgets/controls",
      "model_module_version": "1.5.0",
      "model_name": "ButtonStyleModel",
      "state": {}
     },
     "2d8beb89d73c4dcd9ebc93a9492aea37": {
      "model_module": "@jupyter-widgets/controls",
      "model_module_version": "1.5.0",
      "model_name": "ButtonModel",
      "state": {
       "description": "EDIT",
       "layout": "IPY_MODEL_0326b4c6d52f4773a7d943e99b6d838c",
       "style": "IPY_MODEL_e2da946ae48449ad94ff281d3aac02fa"
      }
     },
     "2d954afa9d9f4b5dbaaa348f52e85b55": {
      "model_module": "@jupyter-widgets/controls",
      "model_module_version": "1.5.0",
      "model_name": "HTMLModel",
      "state": {
       "layout": "IPY_MODEL_b0df6c03a4a64c96a7ced1ec07de4d85",
       "style": "IPY_MODEL_9dc066cc85154a0f960030d14e28662d",
       "value": "<font size=\"5\"><b>Become Legend</b></font size=>"
      }
     },
     "2dbe142ae7e04fdba0daf170a00f1ba2": {
      "model_module": "@jupyter-widgets/controls",
      "model_module_version": "1.5.0",
      "model_name": "DescriptionStyleModel",
      "state": {
       "description_width": ""
      }
     },
     "2dde827188e44d40a24cb8f1fc7642eb": {
      "model_module": "@jupyter-widgets/controls",
      "model_module_version": "1.5.0",
      "model_name": "ButtonStyleModel",
      "state": {}
     },
     "2e78d181adee4c47831ab0b8301c8d51": {
      "model_module": "@jupyter-widgets/controls",
      "model_module_version": "1.5.0",
      "model_name": "ProgressStyleModel",
      "state": {
       "description_width": ""
      }
     },
     "2e7ced0c18c84bb5afa1d40b88a79cd8": {
      "model_module": "@jupyter-widgets/controls",
      "model_module_version": "1.5.0",
      "model_name": "IntProgressModel",
      "state": {
       "layout": "IPY_MODEL_3c71d236c3874c039703a214a7b31bc1",
       "style": "IPY_MODEL_b82e4973d61c4e928c635a7cfe321e8c",
       "value": 30
      }
     },
     "2e9603df87b74903a74c59a21daefb60": {
      "model_module": "@jupyter-widgets/controls",
      "model_module_version": "1.5.0",
      "model_name": "ProgressStyleModel",
      "state": {
       "description_width": ""
      }
     },
     "300e55de7b3e45f29ec5568bd1efdf9e": {
      "model_module": "@jupyter-widgets/controls",
      "model_module_version": "1.5.0",
      "model_name": "VBoxModel",
      "state": {
       "children": [
        "IPY_MODEL_c22e580228244f30a30b1867760fa350",
        "IPY_MODEL_a7cde0533d104a63aede27d0ee259dbf",
        "IPY_MODEL_5399584f8d424c4fb06127a174698e24",
        "IPY_MODEL_61779b6a420b47e1a4386b895a2edf15"
       ],
       "layout": "IPY_MODEL_b2386e97c1c949d3bfb67f5cd9ca4f74"
      }
     },
     "307bbaa93bc3459eb399a85641cc493c": {
      "model_module": "@jupyter-widgets/controls",
      "model_module_version": "1.5.0",
      "model_name": "DescriptionStyleModel",
      "state": {
       "description_width": ""
      }
     },
     "3099f00cc3e94ee7a5184a80568ea177": {
      "model_module": "@jupyter-widgets/controls",
      "model_module_version": "1.5.0",
      "model_name": "LabelModel",
      "state": {
       "layout": "IPY_MODEL_13370eb9b0eb421c9bfdaf96619a82af",
       "style": "IPY_MODEL_851f17fb97c8405785e57569079d6f83",
       "value": "             objective 4"
      }
     },
     "3129505a61a74fc6a8400d9cac031503": {
      "model_module": "@jupyter-widgets/controls",
      "model_module_version": "1.5.0",
      "model_name": "ButtonStyleModel",
      "state": {}
     },
     "316d33ff1313459b89d18079840d6331": {
      "model_module": "@jupyter-widgets/controls",
      "model_module_version": "1.5.0",
      "model_name": "IntProgressModel",
      "state": {
       "layout": "IPY_MODEL_27400526e0a442b7b7c4dbfd0bfeaceb",
       "style": "IPY_MODEL_f5801d3425774baf81da0c24be6420cf",
       "value": 30
      }
     },
     "3178d323b4b1429180ff28e3138c81f8": {
      "model_module": "@jupyter-widgets/controls",
      "model_module_version": "1.5.0",
      "model_name": "ButtonStyleModel",
      "state": {}
     },
     "317b3c5e847248099dde223a2b071545": {
      "model_module": "@jupyter-widgets/controls",
      "model_module_version": "1.5.0",
      "model_name": "HBoxModel",
      "state": {
       "children": [
        "IPY_MODEL_e01bc2dc822b44879d5322a6fabf1641",
        "IPY_MODEL_7c7f8b0fa1a1489bb694c8bdfeead08d",
        "IPY_MODEL_3215657a3728413f80611162a395267d",
        "IPY_MODEL_9daf0924264e4cad863a20418f2e85c7"
       ],
       "layout": "IPY_MODEL_340ae114ddef441897afc105306af806"
      }
     },
     "31ccc10620754dd49df1b01911999ef0": {
      "model_module": "@jupyter-widgets/controls",
      "model_module_version": "1.5.0",
      "model_name": "ButtonModel",
      "state": {
       "layout": "IPY_MODEL_f1604c54a4294deb9a3c49812ff897fe",
       "style": "IPY_MODEL_28a1d9d8f5dc4dfcb949d76e747efab4"
      }
     },
     "31ff580b92d4450bb851d4bf49b58b62": {
      "model_module": "@jupyter-widgets/controls",
      "model_module_version": "1.5.0",
      "model_name": "HBoxModel",
      "state": {
       "children": [
        "IPY_MODEL_63383a6255204f65a59d6c9b964e332d",
        "IPY_MODEL_75bcd3bbe69b4ea6959d17e68571bc05",
        "IPY_MODEL_a1395d7874d440ccb6918c9856bc4e45",
        "IPY_MODEL_4f7dd312a1f842d9a8ac6c115b970f9f"
       ],
       "layout": "IPY_MODEL_4cfad70d1bc14cbd919ad048a14a39e9"
      }
     },
     "321476ee1ff545e190f95500fa53b0fb": {
      "model_module": "@jupyter-widgets/controls",
      "model_module_version": "1.5.0",
      "model_name": "ButtonStyleModel",
      "state": {}
     },
     "3215657a3728413f80611162a395267d": {
      "model_module": "@jupyter-widgets/controls",
      "model_module_version": "1.5.0",
      "model_name": "LabelModel",
      "state": {
       "layout": "IPY_MODEL_01c6afff824d439c83ae58bbcbaf2c4b",
       "style": "IPY_MODEL_86246a450ca14dba856e97773d139d37",
       "value": "             objective 3"
      }
     },
     "32e005266b3f4dd092cf3e0f1be2085c": {
      "model_module": "@jupyter-widgets/controls",
      "model_module_version": "1.5.0",
      "model_name": "ButtonModel",
      "state": {
       "description": "EDIT",
       "layout": "IPY_MODEL_cd6b5cce387340b09c6a4054b797adfb",
       "style": "IPY_MODEL_ea2f63e8c14b4a07a93e06ac34462060"
      }
     },
     "32ebb04735a04e19a02b62896ed77f70": {
      "model_module": "@jupyter-widgets/controls",
      "model_module_version": "1.5.0",
      "model_name": "HBoxModel",
      "state": {
       "children": [
        "IPY_MODEL_87955b18b1ef49118e57b4c31eeb7398",
        "IPY_MODEL_61a207a7e0e64fdc883c007af984ca47",
        "IPY_MODEL_e6c25ac29b4646a094421979d156a320",
        "IPY_MODEL_dd5b64766a00469188ae0c0276731597"
       ],
       "layout": "IPY_MODEL_370daff7647842628988ce237a76ea1a"
      }
     },
     "333d39fb1d1d41d0ada55ff8f0657aea": {
      "model_module": "@jupyter-widgets/base",
      "model_module_version": "1.2.0",
      "model_name": "LayoutModel",
      "state": {}
     },
     "337539452f824bde87c3f5d6a18856ec": {
      "model_module": "@jupyter-widgets/controls",
      "model_module_version": "1.5.0",
      "model_name": "LabelModel",
      "state": {
       "layout": "IPY_MODEL_01c6afff824d439c83ae58bbcbaf2c4b",
       "style": "IPY_MODEL_096e51f2258b4065bf015003c017f49d",
       "value": "             objective 2"
      }
     },
     "3378fe796fdb4bf682a46f0339fc64fd": {
      "model_module": "@jupyter-widgets/controls",
      "model_module_version": "1.5.0",
      "model_name": "ButtonModel",
      "state": {
       "layout": "IPY_MODEL_62e470f31deb42908309c330e01009a0",
       "style": "IPY_MODEL_4ef02cbe26f24a07ba99bfee3d5ca07f"
      }
     },
     "33ae947b7a464dacb141f4ba3f2cd531": {
      "model_module": "@jupyter-widgets/base",
      "model_module_version": "1.2.0",
      "model_name": "LayoutModel",
      "state": {
       "display": "none"
      }
     },
     "33fb76eead5b421c909a011dcb00cfe2": {
      "model_module": "@jupyter-widgets/controls",
      "model_module_version": "1.5.0",
      "model_name": "HTMLModel",
      "state": {
       "layout": "IPY_MODEL_94d2d37784514838bddc40cbe13c3000",
       "style": "IPY_MODEL_8bc2eb2da6c54216a40128a8bb39a032",
       "value": "<i>Achieve a Glory rank of \"Legend\" in any season.</i>"
      }
     },
     "3404487ce14c495f86ca711fa01f0271": {
      "model_module": "@jupyter-widgets/controls",
      "model_module_version": "1.5.0",
      "model_name": "LabelModel",
      "state": {
       "layout": "IPY_MODEL_7961ea1f11ea44e28371a62f7ab67143",
       "style": "IPY_MODEL_0722b370ca7a417499ac931759454ec9",
       "value": "             objective 5"
      }
     },
     "340ae114ddef441897afc105306af806": {
      "model_module": "@jupyter-widgets/base",
      "model_module_version": "1.2.0",
      "model_name": "LayoutModel",
      "state": {
       "display": "none"
      }
     },
     "34aa1ea9e21243d48992abdaf7543dbd": {
      "model_module": "@jupyter-widgets/controls",
      "model_module_version": "1.5.0",
      "model_name": "ProgressStyleModel",
      "state": {
       "description_width": ""
      }
     },
     "34baf7d6ecf847eb8cb02da6d702fd4e": {
      "model_module": "@jupyter-widgets/controls",
      "model_module_version": "1.5.0",
      "model_name": "HTMLModel",
      "state": {
       "layout": "IPY_MODEL_a542631c359f4a16a3611f375363233f",
       "style": "IPY_MODEL_7aebcbadf3d340bab66c63e7d7a023ac",
       "value": "<font size=\"5\"><b>Showdown</b></font size=>"
      }
     },
     "34e2446c19ea4eea94b32656cb97d5c9": {
      "model_module": "@jupyter-widgets/controls",
      "model_module_version": "1.5.0",
      "model_name": "ButtonStyleModel",
      "state": {}
     },
     "34ee3a4a411b47b8a4e1f7e5efe7db79": {
      "model_module": "@jupyter-widgets/controls",
      "model_module_version": "1.5.0",
      "model_name": "ButtonModel",
      "state": {
       "layout": "IPY_MODEL_5273f5c4c6674e88ace0dee1b367a13e",
       "style": "IPY_MODEL_cd05e8ce320d463097a32e2002cfb7f8"
      }
     },
     "35310873e0de46cfb5ebc4b47ae42355": {
      "model_module": "@jupyter-widgets/controls",
      "model_module_version": "1.5.0",
      "model_name": "DescriptionStyleModel",
      "state": {
       "description_width": ""
      }
     },
     "3537fef446604a4892c1bd0e555f7f77": {
      "model_module": "@jupyter-widgets/controls",
      "model_module_version": "1.5.0",
      "model_name": "LabelModel",
      "state": {
       "layout": "IPY_MODEL_df00d075487c4c0db73993d548632bd8",
       "style": "IPY_MODEL_078de4fd1a144597b25cbb0f26ad9e73",
       "value": "     (1/1)"
      }
     },
     "353d774155614d3cb5dd540605c56e94": {
      "model_module": "@jupyter-widgets/controls",
      "model_module_version": "1.5.0",
      "model_name": "ProgressStyleModel",
      "state": {
       "description_width": ""
      }
     },
     "356fbec3aad94e109444fdecce0bdd44": {
      "model_module": "@jupyter-widgets/controls",
      "model_module_version": "1.5.0",
      "model_name": "ButtonModel",
      "state": {
       "description": "EDIT",
       "layout": "IPY_MODEL_650a941d23324cee9a006e203e239472",
       "style": "IPY_MODEL_21b5c45507e64e498d6fd35585def173"
      }
     },
     "3588e6d3d3c548e1b55158c45cae0b5e": {
      "model_module": "@jupyter-widgets/controls",
      "model_module_version": "1.5.0",
      "model_name": "ProgressStyleModel",
      "state": {
       "description_width": ""
      }
     },
     "35f732a773bf47168af3d78a402452d9": {
      "model_module": "@jupyter-widgets/controls",
      "model_module_version": "1.5.0",
      "model_name": "ButtonStyleModel",
      "state": {}
     },
     "363a419263ba4af7a52ea35a86d159ae": {
      "model_module": "@jupyter-widgets/controls",
      "model_module_version": "1.5.0",
      "model_name": "ButtonStyleModel",
      "state": {}
     },
     "367fec10feae4c46a174ff3646aafd10": {
      "model_module": "@jupyter-widgets/controls",
      "model_module_version": "1.5.0",
      "model_name": "IntProgressModel",
      "state": {
       "layout": "IPY_MODEL_d79af918f7c24601b07b21c96ce75be2",
       "style": "IPY_MODEL_3ab7715e9b69472f804e08a5c5a6bc2d",
       "value": 30
      }
     },
     "368e5e8153fa4a23814105954f9ba46d": {
      "model_module": "@jupyter-widgets/controls",
      "model_module_version": "1.5.0",
      "model_name": "HBoxModel",
      "state": {
       "children": [
        "IPY_MODEL_e7534f0d08024813a160a713e4457e85",
        "IPY_MODEL_01cb2990afea4ff7b4ac181bc087b62a",
        "IPY_MODEL_2a82ee8f523247678b2bf6c3ec766c8b",
        "IPY_MODEL_fc8f9ac2fee647b383897b9b0d8bf2dd"
       ],
       "layout": "IPY_MODEL_0fb418b5339b4f6c9531ccd70226745e"
      }
     },
     "36d0e788392d490a8fceb20b5449ec90": {
      "model_module": "@jupyter-widgets/controls",
      "model_module_version": "1.5.0",
      "model_name": "DropdownModel",
      "state": {
       "_options_labels": [
        "Any"
       ],
       "disabled": true,
       "index": 0,
       "layout": "IPY_MODEL_9fd1f2d0c9f4460d991ea4e17ed1f0a3",
       "style": "IPY_MODEL_630bd5e5e3e842fb8857483fb7315760"
      }
     },
     "370daff7647842628988ce237a76ea1a": {
      "model_module": "@jupyter-widgets/base",
      "model_module_version": "1.2.0",
      "model_name": "LayoutModel",
      "state": {
       "display": "flex"
      }
     },
     "3723ee30fc8d4a5598c775963d4ab6ae": {
      "model_module": "@jupyter-widgets/base",
      "model_module_version": "1.2.0",
      "model_name": "LayoutModel",
      "state": {}
     },
     "37474058087946ad8ecea303fcf3454b": {
      "model_module": "@jupyter-widgets/controls",
      "model_module_version": "1.5.0",
      "model_name": "DescriptionStyleModel",
      "state": {
       "description_width": ""
      }
     },
     "374b804e86ed4257ad611d10438c6806": {
      "model_module": "@jupyter-widgets/controls",
      "model_module_version": "1.5.0",
      "model_name": "ButtonStyleModel",
      "state": {}
     },
     "37a86dff0c1e43dfa5705d2205356ab9": {
      "model_module": "@jupyter-widgets/controls",
      "model_module_version": "1.5.0",
      "model_name": "ButtonModel",
      "state": {
       "layout": "IPY_MODEL_62e470f31deb42908309c330e01009a0",
       "style": "IPY_MODEL_fe25112937ff47878b65bac1119d057e"
      }
     },
     "37f15d442c1544aeab9e93d88c0d8f9d": {
      "model_module": "@jupyter-widgets/controls",
      "model_module_version": "1.5.0",
      "model_name": "HTMLModel",
      "state": {
       "layout": "IPY_MODEL_c3fb2f48ab00447b8ca48b234f17969e",
       "style": "IPY_MODEL_63b5d7ff3e8c47d38d9d4900f7cd7714",
       "value": "<font size=\"1\">Triumphs/Lore/The Light/The Man They Call Cayde/</font size=>"
      }
     },
     "37fb0b00ab0f46c59ad8b935143ef514": {
      "model_module": "@jupyter-widgets/controls",
      "model_module_version": "1.5.0",
      "model_name": "ButtonStyleModel",
      "state": {}
     },
     "382464535a844215a8d6d403a0e013b0": {
      "model_module": "@jupyter-widgets/controls",
      "model_module_version": "1.5.0",
      "model_name": "DropdownModel",
      "state": {
       "_options_labels": [
        "Any",
        "Titan",
        "Hunter",
        "Warlock"
       ],
       "index": 0,
       "layout": "IPY_MODEL_9fd1f2d0c9f4460d991ea4e17ed1f0a3",
       "style": "IPY_MODEL_38f0447c809844a2b43f811a8f26fbab"
      }
     },
     "3846d5d22be940a0a48cd162fd321c72": {
      "model_module": "@jupyter-widgets/controls",
      "model_module_version": "1.5.0",
      "model_name": "IntProgressModel",
      "state": {
       "layout": "IPY_MODEL_efb60c79236d457a97e0e8db813bd4cb",
       "style": "IPY_MODEL_554c3d1b5d01403a97089ca9f00cbda7",
       "value": 30
      }
     },
     "388ab1cbc8fb463281614092add76d64": {
      "model_module": "@jupyter-widgets/controls",
      "model_module_version": "1.5.0",
      "model_name": "ButtonModel",
      "state": {
       "description": "EDIT",
       "layout": "IPY_MODEL_4d986d3cbe8a4e5baa3f78975db67865",
       "style": "IPY_MODEL_d607d7973b6b4f59a72528b2d3fbe8ff"
      }
     },
     "38f0447c809844a2b43f811a8f26fbab": {
      "model_module": "@jupyter-widgets/controls",
      "model_module_version": "1.5.0",
      "model_name": "DescriptionStyleModel",
      "state": {
       "description_width": ""
      }
     },
     "393fe2751e26449b813f0e6a0f43cdfc": {
      "model_module": "@jupyter-widgets/controls",
      "model_module_version": "1.5.0",
      "model_name": "ButtonStyleModel",
      "state": {}
     },
     "395218163cb441ea847d3ad300819215": {
      "model_module": "@jupyter-widgets/controls",
      "model_module_version": "1.5.0",
      "model_name": "HBoxModel",
      "state": {
       "children": [
        "IPY_MODEL_d10fa4d090154f35a9a9e270b3409993",
        "IPY_MODEL_eefd436d95ab438aafa1e469a3ef4944",
        "IPY_MODEL_aebe8e20c76c4c9d85d8c5ba5ed3aaa9",
        "IPY_MODEL_84e42cae4b65452dae200e6576f8c88f"
       ],
       "layout": "IPY_MODEL_db7a48803f7948108b1c4650d3eb50bf"
      }
     },
     "3959ab02747d425f971a4e6f5aa3f645": {
      "model_module": "@jupyter-widgets/controls",
      "model_module_version": "1.5.0",
      "model_name": "ButtonStyleModel",
      "state": {}
     },
     "397d32d4a52c4ba0963c73f4c38e4263": {
      "model_module": "@jupyter-widgets/controls",
      "model_module_version": "1.5.0",
      "model_name": "ButtonModel",
      "state": {
       "description": "EDIT",
       "layout": "IPY_MODEL_e28d36aec26f4404a4fbb241752ca6a9",
       "style": "IPY_MODEL_e1a6172f8690477f8d1da5b91028ed75"
      }
     },
     "399bd724c34f484abf8771427f1fdbcd": {
      "model_module": "@jupyter-widgets/base",
      "model_module_version": "1.2.0",
      "model_name": "LayoutModel",
      "state": {}
     },
     "39d06d4df1354686b91cb563a3fe505d": {
      "model_module": "@jupyter-widgets/base",
      "model_module_version": "1.2.0",
      "model_name": "LayoutModel",
      "state": {
       "height": "32px",
       "order": "-2",
       "width": "32px"
      }
     },
     "39fbc2b9425b41238fcb6606b49c4a98": {
      "model_module": "@jupyter-widgets/controls",
      "model_module_version": "1.5.0",
      "model_name": "ButtonStyleModel",
      "state": {}
     },
     "3a510eb2cdb84eeda0a9a07d5775c397": {
      "model_module": "@jupyter-widgets/controls",
      "model_module_version": "1.5.0",
      "model_name": "ButtonStyleModel",
      "state": {}
     },
     "3a532febdf6940aa8644e878b17f4fd8": {
      "model_module": "@jupyter-widgets/controls",
      "model_module_version": "1.5.0",
      "model_name": "IntProgressModel",
      "state": {
       "layout": "IPY_MODEL_7eb9256572764a16b80566cc9de998de",
       "style": "IPY_MODEL_5bd1b78a050442b38978a4324c1fd30e",
       "value": 30
      }
     },
     "3a59bb082d8f4f0c8b7d844dbb51ef0d": {
      "model_module": "@jupyter-widgets/controls",
      "model_module_version": "1.5.0",
      "model_name": "CheckboxModel",
      "state": {
       "description": "Hide Complete",
       "disabled": false,
       "layout": "IPY_MODEL_333d39fb1d1d41d0ada55ff8f0657aea",
       "style": "IPY_MODEL_2674452ddb6f40dda7055bde24cc471e",
       "value": false
      }
     },
     "3a8194ef8ed34c7da382b66fe6cea977": {
      "model_module": "@jupyter-widgets/controls",
      "model_module_version": "1.5.0",
      "model_name": "LabelModel",
      "state": {
       "layout": "IPY_MODEL_7961ea1f11ea44e28371a62f7ab67143",
       "style": "IPY_MODEL_eb9dc8abf1954096937ec3633eed5e2c",
       "value": "             objective 2"
      }
     },
     "3ab3d5c5cc194cb09ac9f7db73b38641": {
      "model_module": "@jupyter-widgets/controls",
      "model_module_version": "1.5.0",
      "model_name": "DescriptionStyleModel",
      "state": {
       "description_width": ""
      }
     },
     "3ab7715e9b69472f804e08a5c5a6bc2d": {
      "model_module": "@jupyter-widgets/controls",
      "model_module_version": "1.5.0",
      "model_name": "ProgressStyleModel",
      "state": {
       "description_width": ""
      }
     },
     "3ac8684a2b1c46b3bcf8abd6a0ad65d6": {
      "model_module": "@jupyter-widgets/output",
      "model_module_version": "1.0.0",
      "model_name": "OutputModel",
      "state": {
       "layout": "IPY_MODEL_d3fe9db6557647cead25b7dccc962e8f"
      }
     },
     "3aec5a910af246c38ddcadfc2ade8726": {
      "model_module": "@jupyter-widgets/controls",
      "model_module_version": "1.5.0",
      "model_name": "ButtonStyleModel",
      "state": {}
     },
     "3aee05770c0944f7b51fd23de6f32a02": {
      "model_module": "@jupyter-widgets/controls",
      "model_module_version": "1.5.0",
      "model_name": "DescriptionStyleModel",
      "state": {
       "description_width": ""
      }
     },
     "3ba93f052741424b9e843efd3aaa0468": {
      "model_module": "@jupyter-widgets/controls",
      "model_module_version": "1.5.0",
      "model_name": "IntProgressModel",
      "state": {
       "layout": "IPY_MODEL_7ab2f7c86fdf451d84d74476cd07109a",
       "style": "IPY_MODEL_90e1b27d538841da9a693cf74dfa0aac",
       "value": 30
      }
     },
     "3c1e308d84ca42a8acfb422773c3ca41": {
      "model_module": "@jupyter-widgets/base",
      "model_module_version": "1.2.0",
      "model_name": "LayoutModel",
      "state": {
       "border": "3px solid white",
       "display": "flex",
       "margin": "10px",
       "overflow": "visible",
       "padding": "10px",
       "width": "400px"
      }
     },
     "3c71d236c3874c039703a214a7b31bc1": {
      "model_module": "@jupyter-widgets/base",
      "model_module_version": "1.2.0",
      "model_name": "LayoutModel",
      "state": {
       "height": "32px",
       "overflow": "visible",
       "padding": "0px",
       "width": "100%"
      }
     },
     "3c9a573fd9c94968897b39e0f41ab088": {
      "model_module": "@jupyter-widgets/controls",
      "model_module_version": "1.5.0",
      "model_name": "IntProgressModel",
      "state": {
       "bar_style": "success",
       "layout": "IPY_MODEL_b2b8c860423c400288526c3ef1930cf8",
       "max": 1,
       "style": "IPY_MODEL_41be4a25bf05413ea4d565019620f807",
       "value": 1
      }
     },
     "3ca0b2af45e7428b9ca34a9e7f678d37": {
      "model_module": "@jupyter-widgets/controls",
      "model_module_version": "1.5.0",
      "model_name": "ButtonModel",
      "state": {
       "description": "EDIT",
       "layout": "IPY_MODEL_0748289507d64efe8c5109d4e34eb45f",
       "style": "IPY_MODEL_d39d48caf2284a2fa7df348f9a101fd8"
      }
     },
     "3d2996a40c3840b8b5810a7341711526": {
      "model_module": "@jupyter-widgets/controls",
      "model_module_version": "1.5.0",
      "model_name": "ProgressStyleModel",
      "state": {
       "description_width": ""
      }
     },
     "3d9d82c860b84d3ebd4b9a1613a882b0": {
      "model_module": "@jupyter-widgets/controls",
      "model_module_version": "1.5.0",
      "model_name": "LabelModel",
      "state": {
       "layout": "IPY_MODEL_427853489cc7448a89048fd571cafe69",
       "style": "IPY_MODEL_cd9da637fac44a289effdd389acaebd2",
       "value": "             objective 5"
      }
     },
     "3e12ebfc4e3e4cc0bdeb1a9da74f7de4": {
      "model_module": "@jupyter-widgets/controls",
      "model_module_version": "1.5.0",
      "model_name": "ButtonStyleModel",
      "state": {}
     },
     "3e274a4b45f341cc9350812419c6edc0": {
      "model_module": "@jupyter-widgets/controls",
      "model_module_version": "1.5.0",
      "model_name": "VBoxModel",
      "state": {
       "children": [
        "IPY_MODEL_5483fddf07fd4d6792bb6a6b94b064e5",
        "IPY_MODEL_847e93f2aaa843cda019fa5a4a0384af",
        "IPY_MODEL_6c8762ab94c241bdb505df2ffd9818df",
        "IPY_MODEL_317b3c5e847248099dde223a2b071545",
        "IPY_MODEL_f902a931dabb49ea861e624b9bb57282",
        "IPY_MODEL_fc2e4a87ad55467a9103772209ba1cf5"
       ],
       "layout": "IPY_MODEL_96925237bbdf482494a762f07a4d13dc"
      }
     },
     "3e2878a1b3be43bd923bddff4851a0f8": {
      "model_module": "@jupyter-widgets/base",
      "model_module_version": "1.2.0",
      "model_name": "LayoutModel",
      "state": {}
     },
     "3e751eebf8034b858647368a694f603a": {
      "model_module": "@jupyter-widgets/controls",
      "model_module_version": "1.5.0",
      "model_name": "ButtonModel",
      "state": {
       "description": "Save",
       "layout": "IPY_MODEL_ecf0126975994a2e94ceee5fe9ab8c25",
       "style": "IPY_MODEL_3178d323b4b1429180ff28e3138c81f8"
      }
     },
     "3e85827065d54b6b8c969ed80cd5fa99": {
      "model_module": "@jupyter-widgets/base",
      "model_module_version": "1.2.0",
      "model_name": "LayoutModel",
      "state": {
       "width": "60px"
      }
     },
     "3eca067d3ab94e80b25c8db5db52941c": {
      "model_module": "@jupyter-widgets/controls",
      "model_module_version": "1.5.0",
      "model_name": "ButtonStyleModel",
      "state": {}
     },
     "3f15a32e8bb64764ab90cc3299cca53c": {
      "model_module": "@jupyter-widgets/controls",
      "model_module_version": "1.5.0",
      "model_name": "LabelModel",
      "state": {
       "layout": "IPY_MODEL_77ca4ec0767e43629d0245781730f6cb",
       "style": "IPY_MODEL_2dbe142ae7e04fdba0daf170a00f1ba2",
       "value": "             objective 4"
      }
     },
     "3fa70a93d9f94ef5b71b4364e3d11863": {
      "model_module": "@jupyter-widgets/controls",
      "model_module_version": "1.5.0",
      "model_name": "ButtonStyleModel",
      "state": {}
     },
     "3fb63a5bf35d411c8b75170c3a1dfd4b": {
      "model_module": "@jupyter-widgets/controls",
      "model_module_version": "1.5.0",
      "model_name": "BoxModel",
      "state": {
       "children": [
        "IPY_MODEL_19eb5c39c67b44f7b53614817511ace4",
        "IPY_MODEL_fd9586a8741344a4ae0252e457719853",
        "IPY_MODEL_232305a7cdee478fb91875f1d5b7d1f3",
        "IPY_MODEL_4f61e67003f14bab924a11bf05ab3c96",
        "IPY_MODEL_762d56493e2c49f7b8121cd67c5a11a2",
        "IPY_MODEL_ba0e610a62aa48f083f662b500daba74",
        "IPY_MODEL_f5a9578103bb4e4c816a714c1728a6c1",
        "IPY_MODEL_d541fe3ec3d04848ae40fe2ba3445c4f",
        "IPY_MODEL_58885f08dc714c90917affb75ae9f8fc",
        "IPY_MODEL_e56d4bdd67f745a7a131f07bf4d1f0f2",
        "IPY_MODEL_cb2fd478978b48199859d67b68cbf346",
        "IPY_MODEL_300e55de7b3e45f29ec5568bd1efdf9e",
        "IPY_MODEL_61dfa9c6100147c4895e08ae969a2924",
        "IPY_MODEL_18db01e8b4c04a54a6045d5989987176",
        "IPY_MODEL_f9d9a1df6c6f47b6a71ab8fbf9e0efa3"
       ],
       "layout": "IPY_MODEL_dd38abcd301f4d7ea3909ea69834e0cf"
      }
     },
     "4053e2c16c46493caff4214dfd28f81f": {
      "model_module": "@jupyter-widgets/base",
      "model_module_version": "1.2.0",
      "model_name": "LayoutModel",
      "state": {
       "overflow": "visible",
       "width": "100%"
      }
     },
     "4068c3c8d9234668bcea78a2cfad9078": {
      "model_module": "@jupyter-widgets/controls",
      "model_module_version": "1.5.0",
      "model_name": "ButtonStyleModel",
      "state": {}
     },
     "40765377db214ee4a66c1ade7ad0a81f": {
      "model_module": "@jupyter-widgets/base",
      "model_module_version": "1.2.0",
      "model_name": "LayoutModel",
      "state": {
       "overflow": "visible",
       "width": "100%"
      }
     },
     "40a277c063444afa8dcd18b3625883d5": {
      "model_module": "@jupyter-widgets/controls",
      "model_module_version": "1.5.0",
      "model_name": "CheckboxModel",
      "state": {
       "description": "Hide Milestones",
       "disabled": false,
       "layout": "IPY_MODEL_bb17e9c35ffc45e5b77f0ffb1b700be6",
       "style": "IPY_MODEL_f1be72b7ec8d4d299c1fc71c20935ece",
       "value": false
      }
     },
     "40cba8a6c5bb4139a922986359796b2a": {
      "model_module": "@jupyter-widgets/controls",
      "model_module_version": "1.5.0",
      "model_name": "IntProgressModel",
      "state": {
       "layout": "IPY_MODEL_aef2d136ba5b4c89ae7f5553a75e99ff",
       "style": "IPY_MODEL_7d78ab083502485f8cad42bfb6d63a36",
       "value": 30
      }
     },
     "40ebccc8c93e4030844986eca60e9a22": {
      "model_module": "@jupyter-widgets/controls",
      "model_module_version": "1.5.0",
      "model_name": "ButtonModel",
      "state": {
       "layout": "IPY_MODEL_9fada2a0e36341b68dcd055b41a73a2e",
       "style": "IPY_MODEL_7c84a1abe10d47acb4de7024e3a7b0cf"
      }
     },
     "412c7a7e49ef4d09bbdc21c91a03875a": {
      "model_module": "@jupyter-widgets/controls",
      "model_module_version": "1.5.0",
      "model_name": "HBoxModel",
      "state": {
       "children": [
        "IPY_MODEL_5c943cf943a74bc69fafbacf7324cab4",
        "IPY_MODEL_6a2574c8bb8a4c47ad608dda442300b9",
        "IPY_MODEL_0eff4fc8fcbc487bb3844ee70901706d",
        "IPY_MODEL_012e23fea4c34bfe83b66fb333e6f5d7",
        "IPY_MODEL_3e751eebf8034b858647368a694f603a"
       ],
       "layout": "IPY_MODEL_3e2878a1b3be43bd923bddff4851a0f8"
      }
     },
     "418e31f688154f4baf3cfcbb07ab3b1d": {
      "model_module": "@jupyter-widgets/controls",
      "model_module_version": "1.5.0",
      "model_name": "ProgressStyleModel",
      "state": {
       "description_width": ""
      }
     },
     "41ba5190b073478e8d1570879a4925a9": {
      "model_module": "@jupyter-widgets/base",
      "model_module_version": "1.2.0",
      "model_name": "LayoutModel",
      "state": {
       "display": "none"
      }
     },
     "41be4a25bf05413ea4d565019620f807": {
      "model_module": "@jupyter-widgets/controls",
      "model_module_version": "1.5.0",
      "model_name": "ProgressStyleModel",
      "state": {
       "description_width": ""
      }
     },
     "41de5f9591a44a40ace15694555d52e4": {
      "model_module": "@jupyter-widgets/controls",
      "model_module_version": "1.5.0",
      "model_name": "ButtonModel",
      "state": {
       "description": "EDIT",
       "layout": "IPY_MODEL_cf902cd8d7c44c3bbe521017242e30a7",
       "style": "IPY_MODEL_ea39367fbc2a43f1a22f7fcbf17b9258"
      }
     },
     "41e47d34867b4433b87fca622229d440": {
      "model_module": "@jupyter-widgets/base",
      "model_module_version": "1.2.0",
      "model_name": "LayoutModel",
      "state": {
       "width": "60px"
      }
     },
     "4212af7173d34ff2b3638e6fa05d16b1": {
      "model_module": "@jupyter-widgets/base",
      "model_module_version": "1.2.0",
      "model_name": "LayoutModel",
      "state": {}
     },
     "4241a3ef97bc4c8c89bb0e946b7e93fd": {
      "model_module": "@jupyter-widgets/controls",
      "model_module_version": "1.5.0",
      "model_name": "LabelModel",
      "state": {
       "layout": "IPY_MODEL_fcb4aca329804dd98ec8394b3e45e619",
       "style": "IPY_MODEL_5e79727817544fdeabe6c2c28773564c",
       "value": "             objective 3"
      }
     },
     "427853489cc7448a89048fd571cafe69": {
      "model_module": "@jupyter-widgets/base",
      "model_module_version": "1.2.0",
      "model_name": "LayoutModel",
      "state": {
       "order": "-1",
       "overflow": "visible",
       "padding": "1px",
       "width": "0px"
      }
     },
     "42b7bca6f2914b06bcd5fc3a6bb71390": {
      "model_module": "@jupyter-widgets/controls",
      "model_module_version": "1.5.0",
      "model_name": "HTMLModel",
      "state": {
       "layout": "IPY_MODEL_f05ce6a6bebf4452b9cafdd7dcd4a7d3",
       "style": "IPY_MODEL_cc789f406c2c4a969f58b711f96f3ad4",
       "value": "<font size=\"5\"><b>Flashpoint</b></font size=>"
      }
     },
     "42cfcce7b7fd42ffbc8d3b5b8922d438": {
      "model_module": "@jupyter-widgets/controls",
      "model_module_version": "1.5.0",
      "model_name": "DescriptionStyleModel",
      "state": {
       "description_width": ""
      }
     },
     "4329595c16d8458f9f6bf443c9d3306f": {
      "model_module": "@jupyter-widgets/controls",
      "model_module_version": "1.5.0",
      "model_name": "ButtonStyleModel",
      "state": {}
     },
     "4334b271344e4089af4f87be1f2ec7f6": {
      "model_module": "@jupyter-widgets/controls",
      "model_module_version": "1.5.0",
      "model_name": "ButtonModel",
      "state": {
       "description": "EDIT",
       "layout": "IPY_MODEL_bf9f3fccb9af4dacb4358d9b3a1dd2cf",
       "style": "IPY_MODEL_4068c3c8d9234668bcea78a2cfad9078"
      }
     },
     "433767fa6b6c4d1bac57c856f3fd1f43": {
      "model_module": "@jupyter-widgets/controls",
      "model_module_version": "1.5.0",
      "model_name": "ButtonModel",
      "state": {
       "layout": "IPY_MODEL_39d06d4df1354686b91cb563a3fe505d",
       "style": "IPY_MODEL_52ba54596a33473fbda9e621b8903cec"
      }
     },
     "439da814abcf46e9a9981b1dc42fa11d": {
      "model_module": "@jupyter-widgets/controls",
      "model_module_version": "1.5.0",
      "model_name": "ButtonModel",
      "state": {
       "button_style": "success",
       "disabled": true,
       "layout": "IPY_MODEL_f1604c54a4294deb9a3c49812ff897fe",
       "style": "IPY_MODEL_6cda7ed7e8314fb7aeb5a5eeef7d8a6b"
      }
     },
     "43b8ba29301b4cc29bb5f4ae58168639": {
      "model_module": "@jupyter-widgets/controls",
      "model_module_version": "1.5.0",
      "model_name": "ButtonStyleModel",
      "state": {}
     },
     "43e96f4fabad4c5a8d3e8471f382311e": {
      "model_module": "@jupyter-widgets/controls",
      "model_module_version": "1.5.0",
      "model_name": "ButtonModel",
      "state": {
       "layout": "IPY_MODEL_6699ef01bd5d4bceabd3d7bb083274d6",
       "style": "IPY_MODEL_a71a05620dfe4217b76eb15b056a2e85"
      }
     },
     "443a07320de349f798fee4d554ddd87c": {
      "model_module": "@jupyter-widgets/controls",
      "model_module_version": "1.5.0",
      "model_name": "LabelModel",
      "state": {
       "layout": "IPY_MODEL_8382b4ecf96a474fb5e863551d9be33b",
       "style": "IPY_MODEL_8ea7ec15fd1d490abba3b1c04a1e6ee6",
       "value": "     (1/1)"
      }
     },
     "44457e894a654dcf96aece168fe0ab78": {
      "model_module": "@jupyter-widgets/controls",
      "model_module_version": "1.5.0",
      "model_name": "VBoxModel",
      "state": {
       "children": [
        "IPY_MODEL_78c0477b96c9469680715bbbf1d16b8c",
        "IPY_MODEL_a2a4bdbfcab4492eac09f148d63f90ff",
        "IPY_MODEL_f1a652b4450a46a7ade9b657e001ffb1",
        "IPY_MODEL_04deb22c94a74eef8572d1fb1b27dcba",
        "IPY_MODEL_c6a11bd93ef9431183d02b792f30a883",
        "IPY_MODEL_368e5e8153fa4a23814105954f9ba46d"
       ],
       "layout": "IPY_MODEL_1dd02a58bfe94197aed260d2feafe375"
      }
     },
     "448c1c4aef3d46a8912823310b9ed395": {
      "model_module": "@jupyter-widgets/controls",
      "model_module_version": "1.5.0",
      "model_name": "ButtonModel",
      "state": {
       "description": "EDIT",
       "layout": "IPY_MODEL_12b2f7d0a74540adae2ec34a16165e0b",
       "style": "IPY_MODEL_d52f9ecc04da4213a56843378e4d0d7b"
      }
     },
     "44dd12d238274245a0ec411264bb4d9c": {
      "model_module": "@jupyter-widgets/base",
      "model_module_version": "1.2.0",
      "model_name": "LayoutModel",
      "state": {
       "display": "none"
      }
     },
     "454fb640206c445da06eee1ace48499f": {
      "model_module": "@jupyter-widgets/controls",
      "model_module_version": "1.5.0",
      "model_name": "ProgressStyleModel",
      "state": {
       "description_width": ""
      }
     },
     "458a257fc4f24836af1cf4388b89fb56": {
      "model_module": "@jupyter-widgets/controls",
      "model_module_version": "1.5.0",
      "model_name": "DescriptionStyleModel",
      "state": {
       "description_width": ""
      }
     },
     "459ed5cbb3264853bbf4065c988ccade": {
      "model_module": "@jupyter-widgets/controls",
      "model_module_version": "1.5.0",
      "model_name": "DescriptionStyleModel",
      "state": {
       "description_width": ""
      }
     },
     "45b9e7b81ef048749b9cf4744ebd11fe": {
      "model_module": "@jupyter-widgets/controls",
      "model_module_version": "1.5.0",
      "model_name": "ButtonModel",
      "state": {
       "layout": "IPY_MODEL_9fada2a0e36341b68dcd055b41a73a2e",
       "style": "IPY_MODEL_1876376ecfde4e348ef768fa49728a1c"
      }
     },
     "45e44a9e411a44f39c540bf30aa5d6bb": {
      "model_module": "@jupyter-widgets/base",
      "model_module_version": "1.2.0",
      "model_name": "LayoutModel",
      "state": {
       "width": "60px"
      }
     },
     "465a4bfaa4d247a7845c924066746bd8": {
      "model_module": "@jupyter-widgets/controls",
      "model_module_version": "1.5.0",
      "model_name": "ButtonStyleModel",
      "state": {}
     },
     "466b0385de614f8aa35d2277867b23fe": {
      "model_module": "@jupyter-widgets/controls",
      "model_module_version": "1.5.0",
      "model_name": "ButtonModel",
      "state": {
       "description": "EDIT",
       "layout": "IPY_MODEL_29d82c795f984a1786046300583921c4",
       "style": "IPY_MODEL_f241086f389a4a0c9146624cf368914d"
      }
     },
     "468a50ddf71f4d1ea2dad2e457a757b0": {
      "model_module": "@jupyter-widgets/controls",
      "model_module_version": "1.5.0",
      "model_name": "VBoxModel",
      "state": {
       "children": [
        "IPY_MODEL_1fb57fa963fb43b199e103d6b68f06e4",
        "IPY_MODEL_ca89120a343743de8eb3fc9507cae573",
        "IPY_MODEL_b50a89ee906548f8bf1c2b1b69a3a3d3",
        "IPY_MODEL_9120e61f298e4cb0927ae13cc10b99a5",
        "IPY_MODEL_11ad46d4e6d84ad7a7cddd1954e543fa",
        "IPY_MODEL_5abb4bc2cc784dc3a6c8b42b642ad270"
       ],
       "layout": "IPY_MODEL_5a8d3e5b9d8b417dbc5daa725a1a5439"
      }
     },
     "46fd7684e45a47b38592574652ff57d7": {
      "model_module": "@jupyter-widgets/controls",
      "model_module_version": "1.5.0",
      "model_name": "IntProgressModel",
      "state": {
       "layout": "IPY_MODEL_d33469158c684f08a0ac9d76d826bdd7",
       "style": "IPY_MODEL_6a9209e2f1f84e41a873df1cc43a8d6e",
       "value": 30
      }
     },
     "474ba2ed1a27440096346e20c22cf91a": {
      "model_module": "@jupyter-widgets/controls",
      "model_module_version": "1.5.0",
      "model_name": "ButtonModel",
      "state": {
       "layout": "IPY_MODEL_213939b5bd9749d8b7b3b36e96ad7a8d",
       "style": "IPY_MODEL_d1e120a98c384e2882a7d04fbee4043c"
      }
     },
     "4772641b84ad45369f9dd0e6e3ef8a3a": {
      "model_module": "@jupyter-widgets/base",
      "model_module_version": "1.2.0",
      "model_name": "LayoutModel",
      "state": {
       "width": "60px"
      }
     },
     "4782ecc50baa4ed3b705f9500adb8e59": {
      "model_module": "@jupyter-widgets/controls",
      "model_module_version": "1.5.0",
      "model_name": "DescriptionStyleModel",
      "state": {
       "description_width": ""
      }
     },
     "47b883b8846941afafd8d346c37dc406": {
      "model_module": "@jupyter-widgets/controls",
      "model_module_version": "1.5.0",
      "model_name": "IntProgressModel",
      "state": {
       "layout": "IPY_MODEL_d33469158c684f08a0ac9d76d826bdd7",
       "style": "IPY_MODEL_aa3c007dec734797874c6738ac638d60",
       "value": 30
      }
     },
     "47dc4211ad77478baf04fe79efdef8c7": {
      "model_module": "@jupyter-widgets/controls",
      "model_module_version": "1.5.0",
      "model_name": "ButtonModel",
      "state": {
       "description": "EDIT",
       "layout": "IPY_MODEL_ccdb431714ba48fa971ab20df8254b7a",
       "style": "IPY_MODEL_9b8cd0dffaa94510a837e28b9b02a6a7"
      }
     },
     "48157ba9d7e5404dafb2b7ecb9ecdf45": {
      "model_module": "@jupyter-widgets/controls",
      "model_module_version": "1.5.0",
      "model_name": "HBoxModel",
      "state": {
       "children": [
        "IPY_MODEL_07a53f3933624d95a4ba1c4ad128626d",
        "IPY_MODEL_40cba8a6c5bb4139a922986359796b2a",
        "IPY_MODEL_86ac1259b6454884aceeeb41af57616e",
        "IPY_MODEL_5d25d9e93e664da0abec242dc3869101"
       ],
       "layout": "IPY_MODEL_0052eff296d94bad9743aa9e7ddf66f8"
      }
     },
     "48276db1dc8149df847dcead9504f0b6": {
      "model_module": "@jupyter-widgets/controls",
      "model_module_version": "1.5.0",
      "model_name": "LabelModel",
      "state": {
       "layout": "IPY_MODEL_be921af9c19543a58a8508f5ad01b691",
       "style": "IPY_MODEL_965678ae4a714403b9d7d33197ad1b3e",
       "value": "             objective 2"
      }
     },
     "48559b544f384a9e881f1b911289ddef": {
      "model_module": "@jupyter-widgets/controls",
      "model_module_version": "1.5.0",
      "model_name": "ButtonModel",
      "state": {
       "description": "EDIT",
       "layout": "IPY_MODEL_705e7d78936444d7aadbb5b89b5596a4",
       "style": "IPY_MODEL_ff3d288077804f45bab2d489a8c95b7e"
      }
     },
     "48a24615704f4bb7b2eb6d0a543bb275": {
      "model_module": "@jupyter-widgets/controls",
      "model_module_version": "1.5.0",
      "model_name": "DescriptionStyleModel",
      "state": {
       "description_width": ""
      }
     },
     "48a65990a9284783ad45101cd0494eac": {
      "model_module": "@jupyter-widgets/controls",
      "model_module_version": "1.5.0",
      "model_name": "ButtonModel",
      "state": {
       "button_style": "success",
       "disabled": true,
       "layout": "IPY_MODEL_39d06d4df1354686b91cb563a3fe505d",
       "style": "IPY_MODEL_512a957abb114e5193c8039ed28ba4c1"
      }
     },
     "48ad56bc42be48dfb927b76fbc941bf8": {
      "model_module": "@jupyter-widgets/controls",
      "model_module_version": "1.5.0",
      "model_name": "DescriptionStyleModel",
      "state": {
       "description_width": ""
      }
     },
     "48fbabb07f5a4ea488e3ade66a942965": {
      "model_module": "@jupyter-widgets/base",
      "model_module_version": "1.2.0",
      "model_name": "LayoutModel",
      "state": {}
     },
     "493094354c78491c85b8799242a275a0": {
      "model_module": "@jupyter-widgets/controls",
      "model_module_version": "1.5.0",
      "model_name": "HBoxModel",
      "state": {
       "children": [
        "IPY_MODEL_1f6383c5264c4ca0bd71e189b750cf67",
        "IPY_MODEL_cbcfc73695044afcb83bfe95294b93c4",
        "IPY_MODEL_7e0a337dd5ba415a9a1af8fc864526fb",
        "IPY_MODEL_de825452da244051af8289f0ff540a67"
       ],
       "layout": "IPY_MODEL_a9c78a5226db40cb98ecae481278835a"
      }
     },
     "49574dd5f0fa4a909fdd32cc9524567c": {
      "model_module": "@jupyter-widgets/controls",
      "model_module_version": "1.5.0",
      "model_name": "DropdownModel",
      "state": {
       "_options_labels": [
        "Any",
        "Hand Cannon",
        "Auto Rifle",
        "Scout Rifle",
        "Pulse Rifle",
        "Sidearm",
        "Submachine Gun",
        "Combt Bow",
        "Sniper Rifle",
        "Shotgun",
        "Fusion Rifle",
        "Grenade Launcher",
        "Machine Gun",
        "Sword",
        "Grenade Launcher",
        "Rocket Launcher",
        "Linear Fusion Rifle"
       ],
       "index": 0,
       "layout": "IPY_MODEL_ecf0126975994a2e94ceee5fe9ab8c25",
       "style": "IPY_MODEL_e3fc2c30aa494836945b3f0fec110d8c"
      }
     },
     "4978a1fd9dd4463abcd2d49208a8f76a": {
      "model_module": "@jupyter-widgets/controls",
      "model_module_version": "1.5.0",
      "model_name": "ButtonStyleModel",
      "state": {}
     },
     "499191045fb74335822a022d786dffc8": {
      "model_module": "@jupyter-widgets/controls",
      "model_module_version": "1.5.0",
      "model_name": "ProgressStyleModel",
      "state": {
       "description_width": ""
      }
     },
     "49c4e194a30142ab8cd1c71b725866ca": {
      "model_module": "@jupyter-widgets/controls",
      "model_module_version": "1.5.0",
      "model_name": "ProgressStyleModel",
      "state": {
       "description_width": ""
      }
     },
     "4a2abd95981848c2ac348afe5bc2331a": {
      "model_module": "@jupyter-widgets/controls",
      "model_module_version": "1.5.0",
      "model_name": "ButtonStyleModel",
      "state": {}
     },
     "4acf2d937f7f4435bfba18f0360da337": {
      "model_module": "@jupyter-widgets/controls",
      "model_module_version": "1.5.0",
      "model_name": "LabelModel",
      "state": {
       "layout": "IPY_MODEL_02a65ed5b87e417db0d02389d7a7aa38",
       "style": "IPY_MODEL_822fc57ac1444ee3b595a475a69f2b8b",
       "value": "             objective 5"
      }
     },
     "4ada5ccb1b1e41a185271c88880b1163": {
      "model_module": "@jupyter-widgets/controls",
      "model_module_version": "1.5.0",
      "model_name": "ProgressStyleModel",
      "state": {
       "description_width": ""
      }
     },
     "4b0393a02b9347b89e9e5d0a2d71f55c": {
      "model_module": "@jupyter-widgets/controls",
      "model_module_version": "1.5.0",
      "model_name": "HBoxModel",
      "state": {
       "children": [
        "IPY_MODEL_433767fa6b6c4d1bac57c856f3fd1f43",
        "IPY_MODEL_ea7e0949ef8c4485aa80093ce1e31c7e",
        "IPY_MODEL_48276db1dc8149df847dcead9504f0b6",
        "IPY_MODEL_6c1f498d6147429799abca2f98c778d7"
       ],
       "layout": "IPY_MODEL_e828c902395b4cad9e1eb5816a19ad77"
      }
     },
     "4b1828baf78f4d6faece4325e0725702": {
      "model_module": "@jupyter-widgets/controls",
      "model_module_version": "1.5.0",
      "model_name": "DescriptionStyleModel",
      "state": {
       "description_width": ""
      }
     },
     "4b2a2ae5711348a382021d79e8e6362c": {
      "model_module": "@jupyter-widgets/base",
      "model_module_version": "1.2.0",
      "model_name": "LayoutModel",
      "state": {
       "width": "60px"
      }
     },
     "4b70296de83d49bc87135a74a3196b8c": {
      "model_module": "@jupyter-widgets/base",
      "model_module_version": "1.2.0",
      "model_name": "LayoutModel",
      "state": {}
     },
     "4b759b6479ba4cf2af7c94a9b31ac9f6": {
      "model_module": "@jupyter-widgets/base",
      "model_module_version": "1.2.0",
      "model_name": "LayoutModel",
      "state": {
       "overflow": "visible",
       "width": "100%"
      }
     },
     "4cf838dcd6fb40e5aba2f9eac13d3fd9": {
      "model_module": "@jupyter-widgets/base",
      "model_module_version": "1.2.0",
      "model_name": "LayoutModel",
      "state": {}
     },
     "4cfad70d1bc14cbd919ad048a14a39e9": {
      "model_module": "@jupyter-widgets/base",
      "model_module_version": "1.2.0",
      "model_name": "LayoutModel",
      "state": {
       "display": "none"
      }
     },
     "4d130851cc2f413baf1066a3d2bb38d7": {
      "model_module": "@jupyter-widgets/base",
      "model_module_version": "1.2.0",
      "model_name": "LayoutModel",
      "state": {
       "display": "none"
      }
     },
     "4d96724554f4497689ba9a5624a18702": {
      "model_module": "@jupyter-widgets/controls",
      "model_module_version": "1.5.0",
      "model_name": "ButtonModel",
      "state": {
       "description": "EDIT",
       "layout": "IPY_MODEL_656977f842764248968d4c5ce9dc3833",
       "style": "IPY_MODEL_5d2e318a44624363819e1d7fa4b1feb2"
      }
     },
     "4d986d3cbe8a4e5baa3f78975db67865": {
      "model_module": "@jupyter-widgets/base",
      "model_module_version": "1.2.0",
      "model_name": "LayoutModel",
      "state": {
       "width": "60px"
      }
     },
     "4d9c1ed91484481dbefcd22ae014a48b": {
      "model_module": "@jupyter-widgets/controls",
      "model_module_version": "1.5.0",
      "model_name": "ButtonStyleModel",
      "state": {}
     },
     "4da8ef0b18174f869612d0399640d6b9": {
      "model_module": "@jupyter-widgets/controls",
      "model_module_version": "1.5.0",
      "model_name": "ButtonModel",
      "state": {
       "description": "EDIT",
       "layout": "IPY_MODEL_a65cbc401df54231a124fe803e06a594",
       "style": "IPY_MODEL_c51f77e1aea444ac831ca52ca63a1ea4"
      }
     },
     "4dc021590c32404181c9a23042648ff1": {
      "model_module": "@jupyter-widgets/controls",
      "model_module_version": "1.5.0",
      "model_name": "VBoxModel",
      "state": {
       "children": [
        "IPY_MODEL_a96c7638ef1a484b950c58d2fc79f8c5",
        "IPY_MODEL_c38f52debb364392b8ef0feb27bbcd7b",
        "IPY_MODEL_16e658bdcea64eb393b21b5b22c88e31",
        "IPY_MODEL_f53be755bd5044f1af763809d8d21358",
        "IPY_MODEL_a9f49a39253a4f42a50772f90ddff15f",
        "IPY_MODEL_75afa67a9435423f83310b63ea3ec88a"
       ],
       "layout": "IPY_MODEL_f6f24273614248f6ad9d03bf2eb41998"
      }
     },
     "4ddf0f43647c424bbb48151103c542c8": {
      "model_module": "@jupyter-widgets/controls",
      "model_module_version": "1.5.0",
      "model_name": "ButtonModel",
      "state": {
       "button_style": "success",
       "disabled": true,
       "layout": "IPY_MODEL_23c03b0f613a44fc9616b664db0fc2ff",
       "style": "IPY_MODEL_2dde827188e44d40a24cb8f1fc7642eb"
      }
     },
     "4ed8c8a9878e4c45b4424f31477a52f6": {
      "model_module": "@jupyter-widgets/base",
      "model_module_version": "1.2.0",
      "model_name": "LayoutModel",
      "state": {
       "overflow": "visible",
       "width": "100%"
      }
     },
     "4ef02cbe26f24a07ba99bfee3d5ca07f": {
      "model_module": "@jupyter-widgets/controls",
      "model_module_version": "1.5.0",
      "model_name": "ButtonStyleModel",
      "state": {}
     },
     "4f05147c6e6a46b7b39fd0b76621d42d": {
      "model_module": "@jupyter-widgets/controls",
      "model_module_version": "1.5.0",
      "model_name": "ButtonStyleModel",
      "state": {}
     },
     "4f61e67003f14bab924a11bf05ab3c96": {
      "model_module": "@jupyter-widgets/controls",
      "model_module_version": "1.5.0",
      "model_name": "VBoxModel",
      "state": {
       "children": [
        "IPY_MODEL_c985a0e3d5e94ae4ab84e644a4a7cb29",
        "IPY_MODEL_1da850d1578b47019d261d9b88bee395",
        "IPY_MODEL_d63d212328cc4d8c81d6ce070a384732",
        "IPY_MODEL_4fce27e378ae4b0aba7c0709b4414e86"
       ],
       "layout": "IPY_MODEL_7e981e91084447529b00b0caa6aa1cc7"
      }
     },
     "4f7dd312a1f842d9a8ac6c115b970f9f": {
      "model_module": "@jupyter-widgets/controls",
      "model_module_version": "1.5.0",
      "model_name": "ButtonModel",
      "state": {
       "description": "EDIT",
       "layout": "IPY_MODEL_ba2ebc266b9a459e86c3a601a24cc2b1",
       "style": "IPY_MODEL_2b5b7b5da2124946a456bdfd26563157"
      }
     },
     "4f92c5719b53461082e38f932605ab3d": {
      "model_module": "@jupyter-widgets/base",
      "model_module_version": "1.2.0",
      "model_name": "LayoutModel",
      "state": {
       "height": "32px",
       "order": "-2",
       "width": "32px"
      }
     },
     "4f947d6130f14d09960080ebf7d56626": {
      "model_module": "@jupyter-widgets/controls",
      "model_module_version": "1.5.0",
      "model_name": "ButtonStyleModel",
      "state": {}
     },
     "4f95c0f68a07489d9855e0362062769d": {
      "model_module": "@jupyter-widgets/controls",
      "model_module_version": "1.5.0",
      "model_name": "ButtonStyleModel",
      "state": {}
     },
     "4fce27e378ae4b0aba7c0709b4414e86": {
      "model_module": "@jupyter-widgets/controls",
      "model_module_version": "1.5.0",
      "model_name": "VBoxModel",
      "state": {
       "children": [
        "IPY_MODEL_ad03192af00c4ac58e533b9663e2d807",
        "IPY_MODEL_b5350fbab8c1468d92796c3ef3346a77",
        "IPY_MODEL_ebccb111287145c7bb75c026498218bb",
        "IPY_MODEL_aef5e5231dab40ec9d43c80d9dd5f1ee",
        "IPY_MODEL_b68b7c3a3ba64a30b32867e35a119794",
        "IPY_MODEL_1693947f03174790ac74208532c0bc7d"
       ],
       "layout": "IPY_MODEL_734cdd9d24084b4e89d43923a1893612"
      }
     },
     "4ff357dbee4049b5bf6a0ebd6c86cf47": {
      "model_module": "@jupyter-widgets/controls",
      "model_module_version": "1.5.0",
      "model_name": "ButtonStyleModel",
      "state": {}
     },
     "502e292d345845b59f1c0e40e3438143": {
      "model_module": "@jupyter-widgets/controls",
      "model_module_version": "1.5.0",
      "model_name": "LabelModel",
      "state": {
       "layout": "IPY_MODEL_13370eb9b0eb421c9bfdaf96619a82af",
       "style": "IPY_MODEL_5535ea0a050e4e6d83c66df5b4fa3a4d",
       "value": "             objective 3"
      }
     },
     "505706c536114134a720dd0a1520a2ea": {
      "model_module": "@jupyter-widgets/controls",
      "model_module_version": "1.5.0",
      "model_name": "DescriptionStyleModel",
      "state": {
       "description_width": ""
      }
     },
     "509a7f61da9740ee98e2fce3fb647879": {
      "model_module": "@jupyter-widgets/controls",
      "model_module_version": "1.5.0",
      "model_name": "ButtonStyleModel",
      "state": {}
     },
     "50b8dd18ca2d4461853c6733df076b03": {
      "model_module": "@jupyter-widgets/controls",
      "model_module_version": "1.5.0",
      "model_name": "ProgressStyleModel",
      "state": {
       "description_width": ""
      }
     },
     "50cf47a0f3994a78a16c9e8fcc7b8554": {
      "model_module": "@jupyter-widgets/controls",
      "model_module_version": "1.5.0",
      "model_name": "IntProgressModel",
      "state": {
       "layout": "IPY_MODEL_efb60c79236d457a97e0e8db813bd4cb",
       "style": "IPY_MODEL_21087f9fd5714a18b170a7b563e10657",
       "value": 30
      }
     },
     "50f0677f74c24b79a9168b86d848a881": {
      "model_module": "@jupyter-widgets/controls",
      "model_module_version": "1.5.0",
      "model_name": "HBoxModel",
      "state": {
       "children": [
        "IPY_MODEL_01937c797ada430fba88c0a1370899d9",
        "IPY_MODEL_c0cdde6b431c4733bede4564149a5876",
        "IPY_MODEL_0546abb9f603483580298d8a07482ce4",
        "IPY_MODEL_949ebd22663f4671ac471b9275b9e6b6"
       ],
       "layout": "IPY_MODEL_66b01298175a4dde9fa9338cf0ff13bb"
      }
     },
     "511b864af3be4f8899b870c11ad09e99": {
      "model_module": "@jupyter-widgets/controls",
      "model_module_version": "1.5.0",
      "model_name": "DescriptionStyleModel",
      "state": {
       "description_width": ""
      }
     },
     "512a957abb114e5193c8039ed28ba4c1": {
      "model_module": "@jupyter-widgets/controls",
      "model_module_version": "1.5.0",
      "model_name": "ButtonStyleModel",
      "state": {}
     },
     "5148d708cf0448c08dca6fbca26be157": {
      "model_module": "@jupyter-widgets/controls",
      "model_module_version": "1.5.0",
      "model_name": "IntProgressModel",
      "state": {
       "layout": "IPY_MODEL_d79af918f7c24601b07b21c96ce75be2",
       "style": "IPY_MODEL_a3e2aaa22215429382e87e12672558af",
       "value": 30
      }
     },
     "51ca6efc33e94df99482a6db38887380": {
      "model_module": "@jupyter-widgets/controls",
      "model_module_version": "1.5.0",
      "model_name": "ButtonModel",
      "state": {
       "layout": "IPY_MODEL_f1604c54a4294deb9a3c49812ff897fe",
       "style": "IPY_MODEL_0c5dd73170ed4c4794d99e7f94bf737d"
      }
     },
     "51d120b29ce5466ba57dc6402bd30808": {
      "model_module": "@jupyter-widgets/controls",
      "model_module_version": "1.5.0",
      "model_name": "LabelModel",
      "state": {
       "layout": "IPY_MODEL_8382b4ecf96a474fb5e863551d9be33b",
       "style": "IPY_MODEL_4782ecc50baa4ed3b705f9500adb8e59",
       "value": "             objective 1"
      }
     },
     "51fbbae36a0c4cec930f29fe1194225c": {
      "model_module": "@jupyter-widgets/controls",
      "model_module_version": "1.5.0",
      "model_name": "HTMLModel",
      "state": {
       "layout": "IPY_MODEL_ab782c601b394ff691a4371632034c14",
       "style": "IPY_MODEL_458a257fc4f24836af1cf4388b89fb56",
       "value": "<font size=\"5\"><b>Who Guards the Guardians?</b></font size=>"
      }
     },
     "520f817ebdcc49d58c75d310b86a3091": {
      "model_module": "@jupyter-widgets/controls",
      "model_module_version": "1.5.0",
      "model_name": "ButtonStyleModel",
      "state": {}
     },
     "5228f03597f1453e963587be3e68a1fa": {
      "model_module": "@jupyter-widgets/base",
      "model_module_version": "1.2.0",
      "model_name": "LayoutModel",
      "state": {
       "display": "flex",
       "flex_flow": "row wrap"
      }
     },
     "5273f5c4c6674e88ace0dee1b367a13e": {
      "model_module": "@jupyter-widgets/base",
      "model_module_version": "1.2.0",
      "model_name": "LayoutModel",
      "state": {
       "height": "32px",
       "order": "-2",
       "width": "32px"
      }
     },
     "52ba54596a33473fbda9e621b8903cec": {
      "model_module": "@jupyter-widgets/controls",
      "model_module_version": "1.5.0",
      "model_name": "ButtonStyleModel",
      "state": {}
     },
     "52c99bfb3e5a4fa998bbd8365fa37151": {
      "model_module": "@jupyter-widgets/controls",
      "model_module_version": "1.5.0",
      "model_name": "LabelModel",
      "state": {
       "layout": "IPY_MODEL_6839730e72df425ba8227d8a61caf696",
       "style": "IPY_MODEL_f395f40d2eeb4c348ca0f0cbe7a95899",
       "value": "             objective 3"
      }
     },
     "52ca4fee0ca44dd5bc0bf0ece253eb94": {
      "model_module": "@jupyter-widgets/base",
      "model_module_version": "1.2.0",
      "model_name": "LayoutModel",
      "state": {}
     },
     "53328ad5dc044b6a96674389d335f19d": {
      "model_module": "@jupyter-widgets/base",
      "model_module_version": "1.2.0",
      "model_name": "LayoutModel",
      "state": {
       "height": "32px",
       "order": "-2",
       "width": "32px"
      }
     },
     "533595722bea4cd8be11558b36ec7513": {
      "model_module": "@jupyter-widgets/controls",
      "model_module_version": "1.5.0",
      "model_name": "ButtonStyleModel",
      "state": {}
     },
     "5358123ae7594924ac5f1337adf769ff": {
      "model_module": "@jupyter-widgets/controls",
      "model_module_version": "1.5.0",
      "model_name": "LabelModel",
      "state": {
       "layout": "IPY_MODEL_01c6afff824d439c83ae58bbcbaf2c4b",
       "style": "IPY_MODEL_b6abfa95031846319c2a21c96fd15fd1",
       "value": "             objective 1"
      }
     },
     "537186a58fe748f880aa078e8733299b": {
      "model_module": "@jupyter-widgets/base",
      "model_module_version": "1.2.0",
      "model_name": "LayoutModel",
      "state": {
       "width": "60px"
      }
     },
     "5391fc79ca4040f98a91648ad323d50d": {
      "model_module": "@jupyter-widgets/base",
      "model_module_version": "1.2.0",
      "model_name": "LayoutModel",
      "state": {
       "display": "flex"
      }
     },
     "5399584f8d424c4fb06127a174698e24": {
      "model_module": "@jupyter-widgets/controls",
      "model_module_version": "1.5.0",
      "model_name": "HTMLModel",
      "state": {
       "layout": "IPY_MODEL_d9e12d7bd93b4c58b51d36b477f36580",
       "style": "IPY_MODEL_7137b736fbfa40fa8309a7e3be028021",
       "value": "<i>Completed \"The Black Garden\" campaign in Destiny 1.</i>"
      }
     },
     "53acc2e076914356840f46f0fe5a1049": {
      "model_module": "@jupyter-widgets/controls",
      "model_module_version": "1.5.0",
      "model_name": "DropdownModel",
      "state": {
       "_options_labels": [
        "Any"
       ],
       "disabled": true,
       "index": 0,
       "layout": "IPY_MODEL_9fd1f2d0c9f4460d991ea4e17ed1f0a3",
       "style": "IPY_MODEL_89c769dcacea4eeea7ca94d76be12e7b"
      }
     },
     "53dcb020da5f48b09beda69ceafc0f6b": {
      "model_module": "@jupyter-widgets/controls",
      "model_module_version": "1.5.0",
      "model_name": "ButtonStyleModel",
      "state": {}
     },
     "5473a47770f44757a6e31273c2b05b5d": {
      "model_module": "@jupyter-widgets/base",
      "model_module_version": "1.2.0",
      "model_name": "LayoutModel",
      "state": {
       "width": "60px"
      }
     },
     "5483fddf07fd4d6792bb6a6b94b064e5": {
      "model_module": "@jupyter-widgets/controls",
      "model_module_version": "1.5.0",
      "model_name": "HBoxModel",
      "state": {
       "children": [
        "IPY_MODEL_a2e21b57f8494f4eaeb6525171bd22dc",
        "IPY_MODEL_2ccf7557ff864306bba07c785cabaf92",
        "IPY_MODEL_ab09ad6d597e4caea0051a52d149286c",
        "IPY_MODEL_5c9027d46c92430aaca62c12935bd8a2"
       ],
       "layout": "IPY_MODEL_7043926cf1404ab79851ca7e84aa1f71"
      }
     },
     "54939035130d4b6dbb74b20842d138c5": {
      "model_module": "@jupyter-widgets/base",
      "model_module_version": "1.2.0",
      "model_name": "LayoutModel",
      "state": {
       "justify_content": "space-between"
      }
     },
     "54bf646656584eff936f581d6cbcc721": {
      "model_module": "@jupyter-widgets/base",
      "model_module_version": "1.2.0",
      "model_name": "LayoutModel",
      "state": {
       "display": "flex",
       "flex_flow": "row wrap"
      }
     },
     "54c22a5feaf94a9ea8158f7723d6b520": {
      "model_module": "@jupyter-widgets/controls",
      "model_module_version": "1.5.0",
      "model_name": "DescriptionStyleModel",
      "state": {
       "description_width": ""
      }
     },
     "54e3691a9aec48a99d8e6d42bc441e30": {
      "model_module": "@jupyter-widgets/controls",
      "model_module_version": "1.5.0",
      "model_name": "IntProgressModel",
      "state": {
       "layout": "IPY_MODEL_3c71d236c3874c039703a214a7b31bc1",
       "style": "IPY_MODEL_49c4e194a30142ab8cd1c71b725866ca",
       "value": 30
      }
     },
     "54e9317194a148bf9aacbe36a560b00f": {
      "model_module": "@jupyter-widgets/controls",
      "model_module_version": "1.5.0",
      "model_name": "ButtonStyleModel",
      "state": {}
     },
     "552311ea9428453e9f5aa53f0a705c93": {
      "model_module": "@jupyter-widgets/controls",
      "model_module_version": "1.5.0",
      "model_name": "ButtonStyleModel",
      "state": {}
     },
     "5535ea0a050e4e6d83c66df5b4fa3a4d": {
      "model_module": "@jupyter-widgets/controls",
      "model_module_version": "1.5.0",
      "model_name": "DescriptionStyleModel",
      "state": {
       "description_width": ""
      }
     },
     "553f0316be88428ba8e326af0be47eaa": {
      "model_module": "@jupyter-widgets/controls",
      "model_module_version": "1.5.0",
      "model_name": "ButtonStyleModel",
      "state": {}
     },
     "554c3d1b5d01403a97089ca9f00cbda7": {
      "model_module": "@jupyter-widgets/controls",
      "model_module_version": "1.5.0",
      "model_name": "ProgressStyleModel",
      "state": {
       "description_width": ""
      }
     },
     "5615bc05df274d1fbe624790d96a0f4a": {
      "model_module": "@jupyter-widgets/controls",
      "model_module_version": "1.5.0",
      "model_name": "LabelModel",
      "state": {
       "layout": "IPY_MODEL_6839730e72df425ba8227d8a61caf696",
       "style": "IPY_MODEL_756e8ad5044446d09f9d6dc6b7ba868f",
       "value": "             objective 5"
      }
     },
     "5626b512c9b54766b7c6c509d3e503a5": {
      "model_module": "@jupyter-widgets/controls",
      "model_module_version": "1.5.0",
      "model_name": "ButtonStyleModel",
      "state": {}
     },
     "56340243a3eb4ad798d3eae73693112b": {
      "model_module": "@jupyter-widgets/controls",
      "model_module_version": "1.5.0",
      "model_name": "ProgressStyleModel",
      "state": {
       "description_width": ""
      }
     },
     "565e6ddace344adb964124620925929e": {
      "model_module": "@jupyter-widgets/controls",
      "model_module_version": "1.5.0",
      "model_name": "ProgressStyleModel",
      "state": {
       "description_width": ""
      }
     },
     "5660bdd8d7174486befa684fb18b5022": {
      "model_module": "@jupyter-widgets/controls",
      "model_module_version": "1.5.0",
      "model_name": "ButtonStyleModel",
      "state": {}
     },
     "56adfec79f0e4fea90a03e8a46307405": {
      "model_module": "@jupyter-widgets/controls",
      "model_module_version": "1.5.0",
      "model_name": "ButtonStyleModel",
      "state": {}
     },
     "56ca50b6f19846588c9dba64ae94eab2": {
      "model_module": "@jupyter-widgets/controls",
      "model_module_version": "1.5.0",
      "model_name": "ButtonModel",
      "state": {
       "layout": "IPY_MODEL_53328ad5dc044b6a96674389d335f19d",
       "style": "IPY_MODEL_553f0316be88428ba8e326af0be47eaa"
      }
     },
     "56dbde452eb8489ab94e099e28f0358c": {
      "model_module": "@jupyter-widgets/base",
      "model_module_version": "1.2.0",
      "model_name": "LayoutModel",
      "state": {
       "border": "3px solid white",
       "display": "flex",
       "margin": "10px",
       "overflow": "visible",
       "padding": "10px",
       "width": "400px"
      }
     },
     "5725a837e4e94481a43a80345799da66": {
      "model_module": "@jupyter-widgets/controls",
      "model_module_version": "1.5.0",
      "model_name": "DescriptionStyleModel",
      "state": {
       "description_width": ""
      }
     },
     "572f5666122c43dd950fae1cd16a3e07": {
      "model_module": "@jupyter-widgets/controls",
      "model_module_version": "1.5.0",
      "model_name": "VBoxModel",
      "state": {
       "children": [
        "IPY_MODEL_dfec0005cf2a44988a40682c622df536",
        "IPY_MODEL_12fb2bc59ccb4b04bfd6265a24d0b888",
        "IPY_MODEL_4b0393a02b9347b89e9e5d0a2d71f55c",
        "IPY_MODEL_a46adfccf43e45cbbae6a19cf6cb5e88",
        "IPY_MODEL_ac82423d7fb343d2b9b2de1b4562fe4d",
        "IPY_MODEL_683b3b51f9b44f6e81e4680f65524424"
       ],
       "layout": "IPY_MODEL_c39f1718cd984d908fd83797d6d8767c"
      }
     },
     "57441b0553714cc19b520a05b2d73b02": {
      "model_module": "@jupyter-widgets/controls",
      "model_module_version": "1.5.0",
      "model_name": "ButtonStyleModel",
      "state": {}
     },
     "579e62b5df764f05ad52271f7791a79e": {
      "model_module": "@jupyter-widgets/controls",
      "model_module_version": "1.5.0",
      "model_name": "DropdownModel",
      "state": {
       "_options_labels": [
        "Any",
        "Kinetic",
        "Energy",
        "Power"
       ],
       "index": 0,
       "layout": "IPY_MODEL_ecf0126975994a2e94ceee5fe9ab8c25",
       "style": "IPY_MODEL_a26811de82fb4066a4a5b8501ae31953"
      }
     },
     "57afb32be7b347f7b1cf0d1e2f9e75fb": {
      "model_module": "@jupyter-widgets/controls",
      "model_module_version": "1.5.0",
      "model_name": "LabelModel",
      "state": {
       "layout": "IPY_MODEL_23b1c1ffc9ef4a5abdd53e4ddc878692",
       "style": "IPY_MODEL_e1333fe433c6441393819dd075d4bbec",
       "value": "Grenade:"
      }
     },
     "580b70146dd0439daffe8ec16bfc4df9": {
      "model_module": "@jupyter-widgets/controls",
      "model_module_version": "1.5.0",
      "model_name": "DescriptionStyleModel",
      "state": {
       "description_width": ""
      }
     },
     "5857d35f80c34ff7b0cffca2fb378754": {
      "model_module": "@jupyter-widgets/base",
      "model_module_version": "1.2.0",
      "model_name": "LayoutModel",
      "state": {}
     },
     "587e2c2e796d4fdcb626b7dee4159d5f": {
      "model_module": "@jupyter-widgets/controls",
      "model_module_version": "1.5.0",
      "model_name": "ButtonModel",
      "state": {
       "description": "EDIT",
       "layout": "IPY_MODEL_05704a0471ad47cdab184cf3599d0d1c",
       "style": "IPY_MODEL_56adfec79f0e4fea90a03e8a46307405"
      }
     },
     "58885f08dc714c90917affb75ae9f8fc": {
      "model_module": "@jupyter-widgets/controls",
      "model_module_version": "1.5.0",
      "model_name": "VBoxModel",
      "state": {
       "children": [
        "IPY_MODEL_a2a64c013bb14d70873c4b4380ec934f",
        "IPY_MODEL_6dd38fe7700a4d1cb73664e8e49246ad",
        "IPY_MODEL_080f9a1c140944bf847bfef770e9d552",
        "IPY_MODEL_6212cb930a624229bc7eb44cc13badc4"
       ],
       "layout": "IPY_MODEL_b706b727a9784dc0ade1ddfc1d48b6e6"
      }
     },
     "58a627d38c6342e8b5e0550a3c738cbf": {
      "model_module": "@jupyter-widgets/base",
      "model_module_version": "1.2.0",
      "model_name": "LayoutModel",
      "state": {
       "width": "60px"
      }
     },
     "58a9efa8c1004142b339d418615b8a78": {
      "model_module": "@jupyter-widgets/base",
      "model_module_version": "1.2.0",
      "model_name": "LayoutModel",
      "state": {
       "order": "-1",
       "overflow": "visible",
       "padding": "1px",
       "width": "0px"
      }
     },
     "58bfa8adab0c46d4ade266ba7b4e7a12": {
      "model_module": "@jupyter-widgets/base",
      "model_module_version": "1.2.0",
      "model_name": "LayoutModel",
      "state": {}
     },
     "58ca14091d224892ab6d422db9c79467": {
      "model_module": "@jupyter-widgets/controls",
      "model_module_version": "1.5.0",
      "model_name": "IntProgressModel",
      "state": {
       "layout": "IPY_MODEL_b2b8c860423c400288526c3ef1930cf8",
       "style": "IPY_MODEL_02c81e0590fb4419922c17a397fab3b3",
       "value": 30
      }
     },
     "590caf77f3ed4e80a29a07d6bf64821e": {
      "model_module": "@jupyter-widgets/base",
      "model_module_version": "1.2.0",
      "model_name": "LayoutModel",
      "state": {
       "border": "3px solid white",
       "display": "flex",
       "margin": "10px",
       "overflow": "visible",
       "padding": "10px",
       "width": "400px"
      }
     },
     "5913bb3e39594888b2ddeee31bfbcec9": {
      "model_module": "@jupyter-widgets/base",
      "model_module_version": "1.2.0",
      "model_name": "LayoutModel",
      "state": {
       "height": "32px",
       "overflow": "visible",
       "padding": "0px",
       "width": "100%"
      }
     },
     "5987372ee9f841b29230f725ec923438": {
      "model_module": "@jupyter-widgets/base",
      "model_module_version": "1.2.0",
      "model_name": "LayoutModel",
      "state": {
       "display": "flex",
       "flex_flow": "row wrap"
      }
     },
     "59bdd243f2e3427ea9ae03237160374d": {
      "model_module": "@jupyter-widgets/controls",
      "model_module_version": "1.5.0",
      "model_name": "ButtonStyleModel",
      "state": {}
     },
     "59fc8d6e518644b1bc8d4be975561071": {
      "model_module": "@jupyter-widgets/controls",
      "model_module_version": "1.5.0",
      "model_name": "ButtonModel",
      "state": {
       "description": "EDIT",
       "layout": "IPY_MODEL_84212d451b914d7eab61d0be0f7f9771",
       "style": "IPY_MODEL_b5ae90d737a0431a9c692277322ae89d"
      }
     },
     "5a06b7dff6e34037943a182a0a7264fb": {
      "model_module": "@jupyter-widgets/base",
      "model_module_version": "1.2.0",
      "model_name": "LayoutModel",
      "state": {
       "display": "none"
      }
     },
     "5a2dd41c061d4cc98b7424ba11edaae3": {
      "model_module": "@jupyter-widgets/controls",
      "model_module_version": "1.5.0",
      "model_name": "ButtonModel",
      "state": {
       "description": "EDIT",
       "layout": "IPY_MODEL_e5cc6c1c34534046b3c1717653ca1b63",
       "style": "IPY_MODEL_f0c997c57ea9457582b7b0efd44c15ca"
      }
     },
     "5a31d9d5ab8149d296b82cae13707e29": {
      "model_module": "@jupyter-widgets/controls",
      "model_module_version": "1.5.0",
      "model_name": "ButtonStyleModel",
      "state": {}
     },
     "5a8d3e5b9d8b417dbc5daa725a1a5439": {
      "model_module": "@jupyter-widgets/base",
      "model_module_version": "1.2.0",
      "model_name": "LayoutModel",
      "state": {
       "overflow": "visible",
       "width": "100%"
      }
     },
     "5abb4bc2cc784dc3a6c8b42b642ad270": {
      "model_module": "@jupyter-widgets/controls",
      "model_module_version": "1.5.0",
      "model_name": "HBoxModel",
      "state": {
       "children": [
        "IPY_MODEL_8c28bd0503c94118bf1b73dade34d683",
        "IPY_MODEL_b4556c0fece1466485047820eada3e3d",
        "IPY_MODEL_f7230f710f4d407cb7b9e0907e585cb4",
        "IPY_MODEL_a37e6e91d1ec4b37802927ac635a54d9"
       ],
       "layout": "IPY_MODEL_eeb4ef284bf84982aa2f8ed16bbd6508"
      }
     },
     "5adca0b43dad40bfa8914bc9e9960662": {
      "model_module": "@jupyter-widgets/controls",
      "model_module_version": "1.5.0",
      "model_name": "ButtonModel",
      "state": {
       "layout": "IPY_MODEL_39d06d4df1354686b91cb563a3fe505d",
       "style": "IPY_MODEL_8479cbfe8be44e538fe5e2c5d3f3a094"
      }
     },
     "5aea7dd3a2804a5288a5081a150c0ae6": {
      "model_module": "@jupyter-widgets/controls",
      "model_module_version": "1.5.0",
      "model_name": "ButtonModel",
      "state": {
       "description": "EDIT",
       "layout": "IPY_MODEL_69738e1db8684f9baf6216bf031da996",
       "style": "IPY_MODEL_0535c4ed925c4b7f86a0961da84004fe"
      }
     },
     "5b6b820f0f034e558bb419ece51e13f6": {
      "model_module": "@jupyter-widgets/controls",
      "model_module_version": "1.5.0",
      "model_name": "HBoxModel",
      "state": {
       "children": [
        "IPY_MODEL_774ea2bf23e14d8c8cf21eb5ff1bc8cd",
        "IPY_MODEL_a75eb490ecea431291daff45f0d898bf",
        "IPY_MODEL_07d9f1a3854d46efb6fd6e7f7c86453a",
        "IPY_MODEL_145f0b81c5d143f4b4a96b590317004c"
       ],
       "layout": "IPY_MODEL_33ae947b7a464dacb141f4ba3f2cd531"
      }
     },
     "5bb1cf4bbdbd473daff41409172cfbb7": {
      "model_module": "@jupyter-widgets/controls",
      "model_module_version": "1.5.0",
      "model_name": "HTMLModel",
      "state": {
       "layout": "IPY_MODEL_9223eef5458d4972b37f756a5974d100",
       "style": "IPY_MODEL_04bfb3d81c314f9c85d63a3fb4d488dc",
       "value": "<font size=\"1\">Triumphs/Lore/The Light/Dust/</font size=>"
      }
     },
     "5bd1b78a050442b38978a4324c1fd30e": {
      "model_module": "@jupyter-widgets/controls",
      "model_module_version": "1.5.0",
      "model_name": "ProgressStyleModel",
      "state": {
       "description_width": ""
      }
     },
     "5bd3814e2caf4ae59136d2b48ed3b215": {
      "model_module": "@jupyter-widgets/controls",
      "model_module_version": "1.5.0",
      "model_name": "LabelModel",
      "state": {
       "layout": "IPY_MODEL_2a03a836b7ce4166ae97c65564bab4cf",
       "style": "IPY_MODEL_c85e4dc8b21648f98456ed3d2f931ab5",
       "value": "             objective 1"
      }
     },
     "5c51904103264134b81fe938bd0c1664": {
      "model_module": "@jupyter-widgets/controls",
      "model_module_version": "1.5.0",
      "model_name": "ButtonModel",
      "state": {
       "layout": "IPY_MODEL_39d06d4df1354686b91cb563a3fe505d",
       "style": "IPY_MODEL_cc84fccc973a4f58bed3cb2302d31653"
      }
     },
     "5c61586fffac4971b65f5d9971d8aa6a": {
      "model_module": "@jupyter-widgets/controls",
      "model_module_version": "1.5.0",
      "model_name": "LabelModel",
      "state": {
       "layout": "IPY_MODEL_db9ee4b72f7e48c48436fb895dc09e82",
       "style": "IPY_MODEL_adb73e4107004689a4760bb9effb3310",
       "value": "             objective 1"
      }
     },
     "5c818b8918ff4564a6a7df40d4c294bc": {
      "model_module": "@jupyter-widgets/base",
      "model_module_version": "1.2.0",
      "model_name": "LayoutModel",
      "state": {}
     },
     "5c9027d46c92430aaca62c12935bd8a2": {
      "model_module": "@jupyter-widgets/controls",
      "model_module_version": "1.5.0",
      "model_name": "ButtonModel",
      "state": {
       "description": "EDIT",
       "layout": "IPY_MODEL_2d2da2660ef24b4282b527d6836f24f8",
       "style": "IPY_MODEL_ba3719683fc14a58b01f65eb310f5adc"
      }
     },
     "5c943cf943a74bc69fafbacf7324cab4": {
      "model_module": "@jupyter-widgets/controls",
      "model_module_version": "1.5.0",
      "model_name": "LabelModel",
      "state": {
       "layout": "IPY_MODEL_ac44968f614f4b9e85ba631201ed37c7",
       "style": "IPY_MODEL_d0ab329bbda64f629dd39e5f2fa9ed2a",
       "value": "Triumph:"
      }
     },
     "5d10a185e2694b81b1a7ce7e93dc0bff": {
      "model_module": "@jupyter-widgets/base",
      "model_module_version": "1.2.0",
      "model_name": "LayoutModel",
      "state": {}
     },
     "5d25d9e93e664da0abec242dc3869101": {
      "model_module": "@jupyter-widgets/controls",
      "model_module_version": "1.5.0",
      "model_name": "ButtonModel",
      "state": {
       "description": "EDIT",
       "layout": "IPY_MODEL_0836e4d5576448ecb941c34d80695282",
       "style": "IPY_MODEL_ac72ef1b76174efa81f0ff91b96c8a45"
      }
     },
     "5d2e318a44624363819e1d7fa4b1feb2": {
      "model_module": "@jupyter-widgets/controls",
      "model_module_version": "1.5.0",
      "model_name": "ButtonStyleModel",
      "state": {}
     },
     "5d53c138901543f481198ef8b5333933": {
      "model_module": "@jupyter-widgets/base",
      "model_module_version": "1.2.0",
      "model_name": "LayoutModel",
      "state": {
       "display": "none"
      }
     },
     "5dc4a172d3d14d1dbe7038bf01a5fed8": {
      "model_module": "@jupyter-widgets/controls",
      "model_module_version": "1.5.0",
      "model_name": "LabelModel",
      "state": {
       "layout": "IPY_MODEL_db9ee4b72f7e48c48436fb895dc09e82",
       "style": "IPY_MODEL_8904cfd5c8fe4d5d9a025d57daed661d",
       "value": "             objective 3"
      }
     },
     "5def30138abe4762bcd54b874ecdd197": {
      "model_module": "@jupyter-widgets/base",
      "model_module_version": "1.2.0",
      "model_name": "LayoutModel",
      "state": {
       "width": "60px"
      }
     },
     "5e2535391c944b6493eb0268d1c3d461": {
      "model_module": "@jupyter-widgets/controls",
      "model_module_version": "1.5.0",
      "model_name": "HBoxModel",
      "state": {
       "children": [
        "IPY_MODEL_12e5007872444dde9294e444a30b3ccc",
        "IPY_MODEL_2ac12827937940369aec6da16f93b88c",
        "IPY_MODEL_186c2e4bc0f2440bb124035a9ae9e2d5",
        "IPY_MODEL_b6e26202eeb541dbb8b26ddf044feca3"
       ],
       "layout": "IPY_MODEL_88e50116aa214761b3ba7199bfbd43c5"
      }
     },
     "5e33f94fefdc4d2f8296f6ec2bea397b": {
      "model_module": "@jupyter-widgets/controls",
      "model_module_version": "1.5.0",
      "model_name": "ButtonStyleModel",
      "state": {}
     },
     "5e79727817544fdeabe6c2c28773564c": {
      "model_module": "@jupyter-widgets/controls",
      "model_module_version": "1.5.0",
      "model_name": "DescriptionStyleModel",
      "state": {
       "description_width": ""
      }
     },
     "5ede3bbf8edb4ee89d0974eaf806ef4d": {
      "model_module": "@jupyter-widgets/controls",
      "model_module_version": "1.5.0",
      "model_name": "ButtonModel",
      "state": {
       "description": "EDIT",
       "layout": "IPY_MODEL_d7620a0c208a44d593beb30f574fefed",
       "style": "IPY_MODEL_edcb7bc1ec2e404890711b74b82d78cc"
      }
     },
     "5f1803c84f944ca3928e4be812d589b6": {
      "model_module": "@jupyter-widgets/base",
      "model_module_version": "1.2.0",
      "model_name": "LayoutModel",
      "state": {}
     },
     "5f25a42f900d4c3e8f46ff211cc3933d": {
      "model_module": "@jupyter-widgets/base",
      "model_module_version": "1.2.0",
      "model_name": "LayoutModel",
      "state": {
       "display": "none"
      }
     },
     "5fa55ffcfeff4cdf87085b9828168da2": {
      "model_module": "@jupyter-widgets/controls",
      "model_module_version": "1.5.0",
      "model_name": "ProgressStyleModel",
      "state": {
       "description_width": ""
      }
     },
     "5fcdf4ac62c94ffcbe048ea478c6e027": {
      "model_module": "@jupyter-widgets/controls",
      "model_module_version": "1.5.0",
      "model_name": "ButtonStyleModel",
      "state": {}
     },
     "5ffd863dd8294c7297f3809a1cc574b3": {
      "model_module": "@jupyter-widgets/controls",
      "model_module_version": "1.5.0",
      "model_name": "IntProgressModel",
      "state": {
       "layout": "IPY_MODEL_7ab2f7c86fdf451d84d74476cd07109a",
       "style": "IPY_MODEL_1f789b8c95af429c8d617e87eef4ab13",
       "value": 30
      }
     },
     "6016e626fc894348838ea0275a04430b": {
      "model_module": "@jupyter-widgets/controls",
      "model_module_version": "1.5.0",
      "model_name": "ProgressStyleModel",
      "state": {
       "description_width": ""
      }
     },
     "6077c654a25e407fa44948484b0c20ff": {
      "model_module": "@jupyter-widgets/base",
      "model_module_version": "1.2.0",
      "model_name": "LayoutModel",
      "state": {}
     },
     "609106db37f84c27bbd96a7348d1360f": {
      "model_module": "@jupyter-widgets/base",
      "model_module_version": "1.2.0",
      "model_name": "LayoutModel",
      "state": {
       "overflow": "visible",
       "width": "100%"
      }
     },
     "60b656437c2b4b668c053b476f5b4c11": {
      "model_module": "@jupyter-widgets/controls",
      "model_module_version": "1.5.0",
      "model_name": "ProgressStyleModel",
      "state": {
       "description_width": ""
      }
     },
     "60ba632d2d2e4182a6a5a4a1b02abec3": {
      "model_module": "@jupyter-widgets/base",
      "model_module_version": "1.2.0",
      "model_name": "LayoutModel",
      "state": {}
     },
     "60cb07e99b69452a95957317f7bc27bc": {
      "model_module": "@jupyter-widgets/controls",
      "model_module_version": "1.5.0",
      "model_name": "ButtonStyleModel",
      "state": {}
     },
     "60d928d92f3042f8861b106ed125651f": {
      "model_module": "@jupyter-widgets/controls",
      "model_module_version": "1.5.0",
      "model_name": "ButtonModel",
      "state": {
       "description": "EDIT",
       "layout": "IPY_MODEL_f9061a9beaa44854a7faf2a3e8d9241a",
       "style": "IPY_MODEL_c3c76299b73248f1b724ed3292a516bb"
      }
     },
     "60db77cf118f4339958158ae96eb3570": {
      "model_module": "@jupyter-widgets/controls",
      "model_module_version": "1.5.0",
      "model_name": "LabelModel",
      "state": {
       "layout": "IPY_MODEL_23b1c1ffc9ef4a5abdd53e4ddc878692",
       "style": "IPY_MODEL_f9d25e01075c4a08996a2aff41c1d6d2",
       "value": "Energy Weapon:"
      }
     },
     "61779b6a420b47e1a4386b895a2edf15": {
      "model_module": "@jupyter-widgets/controls",
      "model_module_version": "1.5.0",
      "model_name": "VBoxModel",
      "state": {
       "children": [
        "IPY_MODEL_17ebc37263b0478abee69fa4176604a8",
        "IPY_MODEL_5e2535391c944b6493eb0268d1c3d461",
        "IPY_MODEL_b2b55a879c944a58b4fb89baf5a1ef7c",
        "IPY_MODEL_a70ad8b4f3314caca2c1a00a207ba8bd",
        "IPY_MODEL_ab1fef261ab74cfb885b9f1898457f68",
        "IPY_MODEL_1ba88289fd0548bb8ddf9eb95b22ff56"
       ],
       "layout": "IPY_MODEL_4ed8c8a9878e4c45b4424f31477a52f6"
      }
     },
     "61a207a7e0e64fdc883c007af984ca47": {
      "model_module": "@jupyter-widgets/controls",
      "model_module_version": "1.5.0",
      "model_name": "IntProgressModel",
      "state": {
       "bar_style": "success",
       "layout": "IPY_MODEL_d79af918f7c24601b07b21c96ce75be2",
       "max": 1,
       "style": "IPY_MODEL_2e78d181adee4c47831ab0b8301c8d51",
       "value": 1
      }
     },
     "61dfa9c6100147c4895e08ae969a2924": {
      "model_module": "@jupyter-widgets/controls",
      "model_module_version": "1.5.0",
      "model_name": "VBoxModel",
      "state": {
       "children": [
        "IPY_MODEL_a0489fcda92a4b48b0193f45182145d2",
        "IPY_MODEL_42b7bca6f2914b06bcd5fc3a6bb71390",
        "IPY_MODEL_20b138a87c47445f99e4ea8523e39704",
        "IPY_MODEL_f5d0c0db9a2148cd84ded6d28d1d416d"
       ],
       "layout": "IPY_MODEL_590caf77f3ed4e80a29a07d6bf64821e"
      }
     },
     "6212cb930a624229bc7eb44cc13badc4": {
      "model_module": "@jupyter-widgets/controls",
      "model_module_version": "1.5.0",
      "model_name": "VBoxModel",
      "state": {
       "children": [
        "IPY_MODEL_d0f195250fb24975b46fb6fb17b46039",
        "IPY_MODEL_e27e68c86943434aba32269e2e7e9af0",
        "IPY_MODEL_c26223e41a1148aebc73f710db0c6419",
        "IPY_MODEL_835e53f174e04f7887da7d1dda564a8b",
        "IPY_MODEL_b737a24b598d446b9a52f286c2c8a631",
        "IPY_MODEL_f2b4b10f384944b9908b1839b6387b9b"
       ],
       "layout": "IPY_MODEL_e49c0d2d5c4b4a4f95840056d8f427de"
      }
     },
     "62150a28768f4b3b855269da25c79c14": {
      "model_module": "@jupyter-widgets/controls",
      "model_module_version": "1.5.0",
      "model_name": "ButtonStyleModel",
      "state": {}
     },
     "6215eba248f24933aa1c7d17a94fc284": {
      "model_module": "@jupyter-widgets/base",
      "model_module_version": "1.2.0",
      "model_name": "LayoutModel",
      "state": {
       "width": "60px"
      }
     },
     "621c5991b8cc4af2a3be822a5315302e": {
      "model_module": "@jupyter-widgets/base",
      "model_module_version": "1.2.0",
      "model_name": "LayoutModel",
      "state": {
       "display": "none"
      }
     },
     "6254c1ae06044a2f91aee63d34144ccd": {
      "model_module": "@jupyter-widgets/controls",
      "model_module_version": "1.5.0",
      "model_name": "LabelModel",
      "state": {
       "layout": "IPY_MODEL_fcb4aca329804dd98ec8394b3e45e619",
       "style": "IPY_MODEL_b46acec9a8ed467e89b879a7f455f1ca",
       "value": "             objective 2"
      }
     },
     "629e7c35a6514063a527d661850ac08e": {
      "model_module": "@jupyter-widgets/controls",
      "model_module_version": "1.5.0",
      "model_name": "ProgressStyleModel",
      "state": {
       "description_width": ""
      }
     },
     "62b1b8fcae9d4102ae5c3c66822b5b48": {
      "model_module": "@jupyter-widgets/base",
      "model_module_version": "1.2.0",
      "model_name": "LayoutModel",
      "state": {
       "width": "60px"
      }
     },
     "62b8dfedf30046ad8839f7add82187bb": {
      "model_module": "@jupyter-widgets/controls",
      "model_module_version": "1.5.0",
      "model_name": "ButtonStyleModel",
      "state": {}
     },
     "62e470f31deb42908309c330e01009a0": {
      "model_module": "@jupyter-widgets/base",
      "model_module_version": "1.2.0",
      "model_name": "LayoutModel",
      "state": {
       "height": "32px",
       "order": "-2",
       "width": "32px"
      }
     },
     "630bd5e5e3e842fb8857483fb7315760": {
      "model_module": "@jupyter-widgets/controls",
      "model_module_version": "1.5.0",
      "model_name": "DescriptionStyleModel",
      "state": {
       "description_width": ""
      }
     },
     "631b70fb92774a029debbe824b31a450": {
      "model_module": "@jupyter-widgets/base",
      "model_module_version": "1.2.0",
      "model_name": "LayoutModel",
      "state": {
       "display": "flex",
       "flex_flow": "row wrap"
      }
     },
     "63383a6255204f65a59d6c9b964e332d": {
      "model_module": "@jupyter-widgets/controls",
      "model_module_version": "1.5.0",
      "model_name": "ButtonModel",
      "state": {
       "layout": "IPY_MODEL_213939b5bd9749d8b7b3b36e96ad7a8d",
       "style": "IPY_MODEL_e26160bd8b874a47a189e1ee7968db2c"
      }
     },
     "63b5d7ff3e8c47d38d9d4900f7cd7714": {
      "model_module": "@jupyter-widgets/controls",
      "model_module_version": "1.5.0",
      "model_name": "DescriptionStyleModel",
      "state": {
       "description_width": ""
      }
     },
     "63cb0ee2285a41b2b2f19e03faf4e028": {
      "model_module": "@jupyter-widgets/controls",
      "model_module_version": "1.5.0",
      "model_name": "ProgressStyleModel",
      "state": {
       "description_width": ""
      }
     },
     "6433711cd7ef467d92eea050f4664e12": {
      "model_module": "@jupyter-widgets/controls",
      "model_module_version": "1.5.0",
      "model_name": "ButtonModel",
      "state": {
       "layout": "IPY_MODEL_53328ad5dc044b6a96674389d335f19d",
       "style": "IPY_MODEL_01c261d451bd459d8aaf812c6149bd8f"
      }
     },
     "64716c5d4d3843f5b6bde3dbaa4ec447": {
      "model_module": "@jupyter-widgets/controls",
      "model_module_version": "1.5.0",
      "model_name": "IntProgressModel",
      "state": {
       "layout": "IPY_MODEL_27400526e0a442b7b7c4dbfd0bfeaceb",
       "style": "IPY_MODEL_02cfa7cef33e4b1b80639c1e344c6d94",
       "value": 30
      }
     },
     "648577d68e9144579d6fd76f52f58419": {
      "model_module": "@jupyter-widgets/controls",
      "model_module_version": "1.5.0",
      "model_name": "DescriptionStyleModel",
      "state": {
       "description_width": ""
      }
     },
     "64a7842f4b054e8485b39b20e64f8767": {
      "model_module": "@jupyter-widgets/controls",
      "model_module_version": "1.5.0",
      "model_name": "DescriptionStyleModel",
      "state": {
       "description_width": ""
      }
     },
     "64cee050c88e49fdaffe3c77c8ac1122": {
      "model_module": "@jupyter-widgets/controls",
      "model_module_version": "1.5.0",
      "model_name": "VBoxModel",
      "state": {
       "children": [
        "IPY_MODEL_c8e5e1751c674a6f82773f09a8b38b13",
        "IPY_MODEL_fa287bd545bb4972bdcb48517a828b01",
        "IPY_MODEL_8d0c0d2f64bb4d9dbb6ab43be9feea0b",
        "IPY_MODEL_098a4b50d0904e6cae4c7eb6f34d8934",
        "IPY_MODEL_08222ebdb693486cb4105baf10bc7885",
        "IPY_MODEL_079d81fbc2cd4cb48cc6753168b48332"
       ],
       "layout": "IPY_MODEL_1c447c71b43d42d8975522f7008b4313"
      }
     },
     "650236b910d547aba216fdb728375472": {
      "model_module": "@jupyter-widgets/controls",
      "model_module_version": "1.5.0",
      "model_name": "ButtonModel",
      "state": {
       "layout": "IPY_MODEL_62e470f31deb42908309c330e01009a0",
       "style": "IPY_MODEL_af63cc2f1f634ab1ad9ab8ddaf7cfcfb"
      }
     },
     "650a941d23324cee9a006e203e239472": {
      "model_module": "@jupyter-widgets/base",
      "model_module_version": "1.2.0",
      "model_name": "LayoutModel",
      "state": {
       "width": "60px"
      }
     },
     "652f19779e964ecfb4452b4dea78a450": {
      "model_module": "@jupyter-widgets/controls",
      "model_module_version": "1.5.0",
      "model_name": "BoxModel",
      "state": {
       "children": [
        "IPY_MODEL_3a59bb082d8f4f0c8b7d844dbb51ef0d",
        "IPY_MODEL_9bd000a7ecb94749906655cf5673bcf0",
        "IPY_MODEL_7cc1eb99c6864d97b77a443f926d0199",
        "IPY_MODEL_b9641a087ed34523aad2c82fcff3508a",
        "IPY_MODEL_40a277c063444afa8dcd18b3625883d5",
        "IPY_MODEL_af8e5020c7d6433cb0a6802cc93667a7"
       ],
       "layout": "IPY_MODEL_26855ff48adb4fcaa7a7859151253a98"
      }
     },
     "655fdd8ad2c4459dab5b8f85d551f55e": {
      "model_module": "@jupyter-widgets/controls",
      "model_module_version": "1.5.0",
      "model_name": "ButtonStyleModel",
      "state": {}
     },
     "656977f842764248968d4c5ce9dc3833": {
      "model_module": "@jupyter-widgets/base",
      "model_module_version": "1.2.0",
      "model_name": "LayoutModel",
      "state": {
       "width": "60px"
      }
     },
     "65f5119fad5544839043b5b303e2ea7c": {
      "model_module": "@jupyter-widgets/controls",
      "model_module_version": "1.5.0",
      "model_name": "ButtonStyleModel",
      "state": {}
     },
     "661ba6596df44e059c1943f39a9fb069": {
      "model_module": "@jupyter-widgets/controls",
      "model_module_version": "1.5.0",
      "model_name": "DropdownModel",
      "state": {
       "_options_labels": [
        "Any",
        "Patrol",
        "Gambit",
        "Reckoning",
        "Menagerie",
        "Vex Offensive",
        "Raid",
        "Strike",
        "Nightfall",
        "Crucible",
        "Forge"
       ],
       "index": 0,
       "layout": "IPY_MODEL_9fd1f2d0c9f4460d991ea4e17ed1f0a3",
       "style": "IPY_MODEL_511b864af3be4f8899b870c11ad09e99"
      }
     },
     "667c94c3c57241ac97945cb102ea8816": {
      "model_module": "@jupyter-widgets/controls",
      "model_module_version": "1.5.0",
      "model_name": "ButtonModel",
      "state": {
       "description": "EDIT",
       "layout": "IPY_MODEL_41e47d34867b4433b87fca622229d440",
       "style": "IPY_MODEL_34e2446c19ea4eea94b32656cb97d5c9"
      }
     },
     "6699ef01bd5d4bceabd3d7bb083274d6": {
      "model_module": "@jupyter-widgets/base",
      "model_module_version": "1.2.0",
      "model_name": "LayoutModel",
      "state": {
       "height": "32px",
       "order": "-2",
       "width": "32px"
      }
     },
     "66a9c6381296466caebe79b989fd3b61": {
      "model_module": "@jupyter-widgets/base",
      "model_module_version": "1.2.0",
      "model_name": "LayoutModel",
      "state": {
       "width": "60px"
      }
     },
     "66b01298175a4dde9fa9338cf0ff13bb": {
      "model_module": "@jupyter-widgets/base",
      "model_module_version": "1.2.0",
      "model_name": "LayoutModel",
      "state": {
       "display": "none"
      }
     },
     "6761f544d3a045db8c6a74a45e72448c": {
      "model_module": "@jupyter-widgets/controls",
      "model_module_version": "1.5.0",
      "model_name": "DescriptionStyleModel",
      "state": {
       "description_width": ""
      }
     },
     "67ebeca7c1e244948b6965d54c38f419": {
      "model_module": "@jupyter-widgets/controls",
      "model_module_version": "1.5.0",
      "model_name": "ButtonModel",
      "state": {
       "description": "EDIT",
       "layout": "IPY_MODEL_2d67b93c50b14e45ba57de1febe0e49a",
       "style": "IPY_MODEL_4a2abd95981848c2ac348afe5bc2331a"
      }
     },
     "68002ceca87b4849858190d35e50aa90": {
      "model_module": "@jupyter-widgets/base",
      "model_module_version": "1.2.0",
      "model_name": "LayoutModel",
      "state": {
       "display": "flex"
      }
     },
     "6839730e72df425ba8227d8a61caf696": {
      "model_module": "@jupyter-widgets/base",
      "model_module_version": "1.2.0",
      "model_name": "LayoutModel",
      "state": {
       "order": "-1",
       "overflow": "visible",
       "padding": "1px",
       "width": "0px"
      }
     },
     "683b3b51f9b44f6e81e4680f65524424": {
      "model_module": "@jupyter-widgets/controls",
      "model_module_version": "1.5.0",
      "model_name": "HBoxModel",
      "state": {
       "children": [
        "IPY_MODEL_5c51904103264134b81fe938bd0c1664",
        "IPY_MODEL_f6445e0c9bee46b88a880a179678f61b",
        "IPY_MODEL_985e8714dd4744c4ac0821f43ddbbe2b",
        "IPY_MODEL_67ebeca7c1e244948b6965d54c38f419"
       ],
       "layout": "IPY_MODEL_15b5df26bf034e3cbf8696086c7855d6"
      }
     },
     "689c12635bb24ff6a51b7bde679d3dc3": {
      "model_module": "@jupyter-widgets/controls",
      "model_module_version": "1.5.0",
      "model_name": "LabelModel",
      "state": {
       "layout": "IPY_MODEL_2a03a836b7ce4166ae97c65564bab4cf",
       "style": "IPY_MODEL_48ad56bc42be48dfb927b76fbc941bf8",
       "value": "             objective 3"
      }
     },
     "68a2b427280b46b0bbc5c633b8e05f9e": {
      "model_module": "@jupyter-widgets/controls",
      "model_module_version": "1.5.0",
      "model_name": "VBoxModel",
      "state": {
       "children": [
        "IPY_MODEL_1acf7d1feaa34af88b2d99c75484860a",
        "IPY_MODEL_3fb63a5bf35d411c8b75170c3a1dfd4b"
       ],
       "layout": "IPY_MODEL_c7b5d1ab8e8d4701832e66c3be5ede96"
      }
     },
     "68a77956135c4e9f917f5659071b5628": {
      "model_module": "@jupyter-widgets/controls",
      "model_module_version": "1.5.0",
      "model_name": "ButtonModel",
      "state": {
       "button_style": "success",
       "disabled": true,
       "layout": "IPY_MODEL_d965074cab4c491ea3b2a93fe68c9867",
       "style": "IPY_MODEL_9368b5a5f05544a7b06c964e738d7207"
      }
     },
     "69096f76dbdc4bdea3ef4edaedfcb84b": {
      "model_module": "@jupyter-widgets/controls",
      "model_module_version": "1.5.0",
      "model_name": "LabelModel",
      "state": {
       "layout": "IPY_MODEL_fcb4aca329804dd98ec8394b3e45e619",
       "style": "IPY_MODEL_d33e4fd260184ccab0c09e91f18c0c79",
       "value": "             objective 4"
      }
     },
     "69738e1db8684f9baf6216bf031da996": {
      "model_module": "@jupyter-widgets/base",
      "model_module_version": "1.2.0",
      "model_name": "LayoutModel",
      "state": {
       "width": "60px"
      }
     },
     "69b902d3f42f4346bcd469636cc6312f": {
      "model_module": "@jupyter-widgets/controls",
      "model_module_version": "1.5.0",
      "model_name": "ButtonModel",
      "state": {
       "description": "EDIT",
       "layout": "IPY_MODEL_6215eba248f24933aa1c7d17a94fc284",
       "style": "IPY_MODEL_c0025e9f946e4963897c95eed0c378dc"
      }
     },
     "69dd2f04ddb54820921ddcdf750b35c8": {
      "model_module": "@jupyter-widgets/controls",
      "model_module_version": "1.5.0",
      "model_name": "LabelModel",
      "state": {
       "layout": "IPY_MODEL_01c6afff824d439c83ae58bbcbaf2c4b",
       "style": "IPY_MODEL_064fe0c135984ceb9d54e501c98d6af1",
       "value": "             objective 5"
      }
     },
     "6a073434db06471093b38e96484a9a5b": {
      "model_module": "@jupyter-widgets/controls",
      "model_module_version": "1.5.0",
      "model_name": "IntProgressModel",
      "state": {
       "layout": "IPY_MODEL_805e879b1322474fbf45e4f8f8a05f73",
       "style": "IPY_MODEL_08206146fcdd4713a93d344cea7943a3",
       "value": 30
      }
     },
     "6a2574c8bb8a4c47ad608dda442300b9": {
      "model_module": "@jupyter-widgets/controls",
      "model_module_version": "1.5.0",
      "model_name": "DropdownModel",
      "state": {
       "_options_labels": [
        "2154860340",
        "2154860341",
        "2154860342",
        "2154860343",
        "2156824804",
        "2157758001",
        "2158033469",
        "2158825356",
        "2158825357",
        "2158825358",
        "2158825359",
        "2163056166",
        "2163667980",
        "2165600550",
        "2165600551",
        "2165600552",
        "2165600553",
        "2165600554",
        "2165600555",
        "2165600556",
        "2165600557",
        "2165600558",
        "2167527924",
        "2170106955",
        "2172518965",
        "2175353922",
        "2175603062",
        "2175603063",
        "2175603064",
        "2175603065",
        "2175603066",
        "2175603067",
        "2175603068",
        "2175603069",
        "2175603070",
        "2175796146",
        "2181708792",
        "2186801540",
        "2188503042",
        "2189078909",
        "2189078910",
        "2190647702",
        "2191229220",
        "2192752535",
        "2194379228",
        "2195455623",
        "2196415799",
        "2205891758",
        "2208219663",
        "2213484424",
        "2216522217",
        "2216557404",
        "2219999707",
        "2224919182",
        "2229373471",
        "2230249087",
        "2230262130",
        "2230262131",
        "2230262136",
        "2230262137",
        "2230262138",
        "2230262140",
        "2230262141",
        "2230262142",
        "2230262143",
        "2233474128",
        "2233474132",
        "2233474133",
        "2233474134",
        "2233474135",
        "2234714130",
        "2234827297",
        "2238575485",
        "2239411636",
        "2239411638",
        "2239411639",
        "2241590012",
        "2241717133",
        "2241717134",
        "2245186555",
        "2256027242",
        "2257421674",
        "2258087446",
        "2264077519",
        "2266548618",
        "2270675233",
        "2270675234",
        "2281230393",
        "2282894388",
        "2287149840",
        "2287149841",
        "2287149842",
        "2287149843",
        "2287149844",
        "2287149845",
        "2287149846",
        "2287149847",
        "2287149854",
        "2287149855",
        "2287452848",
        "2287452849",
        "2287452850",
        "2287452855",
        "2292050116",
        "2292050118",
        "2292050119",
        "2292461012",
        "2304075271",
        "2304230402",
        "2304230404",
        "2304230405",
        "2304230407",
        "2305785639",
        "2309032641",
        "2309365823",
        "2314271318",
        "2314725644",
        "2316097579",
        "2316952677",
        "2316952678",
        "2316952679",
        "2319750236",
        "2323654178",
        "2325336792",
        "2326322890",
        "2332658765",
        "2341886425",
        "2345002673",
        "2349183946",
        "2351146132",
        "2354302733",
        "2356701558",
        "2357839819",
        "2358176597",
        "2362979568",
        "2364729185",
        "2367932631",
        "2369153435",
        "2372209106",
        "2388152175",
        "2398356743",
        "2398673548",
        "2405724331",
        "2411397891",
        "2412880299",
        "2413868417",
        "2417378659",
        "2419109984",
        "2419556790",
        "2421801389",
        "2422246592",
        "2422246593",
        "2422246600",
        "2422246601",
        "2422246602",
        "2422246604",
        "2422246605",
        "2422246606",
        "2422246607",
        "2425043760",
        "2425043761",
        "2425043764",
        "2425043765",
        "2425043766",
        "2425043767",
        "2426134653",
        "2427757122",
        "2439024306",
        "2439024307",
        "2439024314",
        "2439024316",
        "2439024318",
        "2439024319",
        "2441563692",
        "2441821344",
        "2441821345",
        "2441821346",
        "2441821347",
        "2441821348",
        "2441821349",
        "2441821350",
        "2441821358",
        "2441821359",
        "2442138301",
        "2455749269",
        "2462366312",
        "2462707519",
        "2472579457",
        "2472579459",
        "2476912508",
        "2477942819",
        "2478001043",
        "2487226217",
        "2489542141",
        "2489553554",
        "2490851406",
        "2493039085",
        "2497233656",
        "2500732572",
        "2502625450",
        "2507615350",
        "2510383879",
        "2516080100",
        "2516850755",
        "2519410346",
        "2521385645",
        "2522725707",
        "2528982241",
        "2536953338",
        "2542531058",
        "2543223197",
        "2545345764",
        "2548421444",
        "2548580601",
        "2549619982",
        "2556301326",
        "2556866202",
        "2562666046",
        "2566434162",
        "2567210364",
        "2567210365",
        "2567210366",
        "2569908923",
        "2574072230",
        "2575452461",
        "2575965017",
        "2581768637",
        "2582522989",
        "2585063661",
        "2589331138",
        "2590294698",
        "2593433832",
        "2595141627",
        "2602370549",
        "2615277024",
        "2630441634",
        "2631726056",
        "2633814448",
        "2638892835",
        "2647057001",
        "2647977323",
        "2648109757",
        "2653311362",
        "2653351430",
        "2658094422",
        "2660224414",
        "2673340594",
        "2673596601",
        "2674965793",
        "2676320666",
        "2690344985",
        "2692332187",
        "2694849138",
        "2698190890",
        "2698848157",
        "2701908644",
        "2702532926",
        "2711248749",
        "2711883372",
        "2725374066",
        "2734663473",
        "2737678546",
        "2737832720",
        "2738665088",
        "2738694544",
        "2738694545",
        "2738694546",
        "2738694548",
        "2738694549",
        "2738694550",
        "2738694551",
        "2738694554",
        "2738694555",
        "2745164727",
        "2747517035",
        "2747759652",
        "2748367119",
        "2753626436",
        "2759021899",
        "2765010546",
        "2766929016",
        "2769541312",
        "2776744497",
        "2777498893",
        "2778379986",
        "2782139949",
        "2790141380",
        "2790261838",
        "2794426212",
        "2808299284",
        "2808702448",
        "2811846808",
        "2818354043",
        "2822000740",
        "2836924866",
        "2841179989",
        "2842773522",
        "2844726896",
        "2846658569",
        "2856242353",
        "2856474352",
        "2857093873",
        "2858561750",
        "2863337003",
        "2874049730",
        "2880581646",
        "2882151405",
        "2895678647",
        "2900968934",
        "2901923505",
        "2904000913",
        "2910489519",
        "2912918660",
        "2913109294",
        "2914618589",
        "2914663020",
        "2918198318",
        "2923250426",
        "2923920213",
        "2924619184",
        "2927675329",
        "2929326295",
        "2931545395",
        "2940870560",
        "2940918151",
        "2942983290",
        "2943357143",
        "2948949247",
        "2953158791",
        "2954667718",
        "2957876347",
        "2968758821",
        "2970271298",
        "2970941799",
        "2974117604",
        "2974117605",
        "2974117611",
        "2977524096",
        "2982440614",
        "2982664966",
        "2983721440",
        "2986090159",
        "2987408684",
        "2994199542",
        "3002736314",
        "3006768431",
        "3007266598",
        "3008350477",
        "3013611925",
        "3015116930",
        "3015917345",
        "3015917346",
        "3015917347",
        "3015941901",
        "3016588454",
        "3020697345",
        "3024450464",
        "3024450465",
        "3024450468",
        "3024450469",
        "3024450470",
        "3024450471",
        "3024875718",
        "3026670632",
        "3028385023",
        "3028789928",
        "3028808153",
        "3029681530",
        "3034639042",
        "3034639043",
        "3034639048",
        "3034639049",
        "3034639050",
        "3034639052",
        "3034639053",
        "3034639054",
        "3034639055",
        "3042714868",
        "3053687420",
        "3054774873",
        "3055480592",
        "3055480593",
        "3055480594",
        "3058117549",
        "3058814955",
        "3065417982",
        "3074780428",
        "3078681488",
        "3078681489",
        "3078681491",
        "3078681492",
        "3078681493",
        "3078681494",
        "3078681495",
        "3078681498",
        "3078681499",
        "3079212897",
        "3080061772",
        "3084088704",
        "3087434129",
        "3088324080",
        "3088324081",
        "3088324082",
        "3088324083",
        "3088324084",
        "3088324086",
        "3088324087",
        "3088324092",
        "3088324093",
        "3094160434",
        "3108158456",
        "3108476717",
        "3108502456",
        "3111471346",
        "3121210389",
        "3122478469",
        "3125997324",
        "3131604184",
        "3131889837",
        "3131889838",
        "3136771444",
        "3137136954",
        "3138467749",
        "3139055990",
        "3141945846",
        "3144419263",
        "3144827156",
        "3145627334",
        "3147085345",
        "3154122421",
        "3155364169",
        "3158297636",
        "3158715546",
        "3164957436",
        "3167066980",
        "3167166053",
        "3174045247",
        "3175460993",
        "3180635594",
        "3181604446",
        "3182222820",
        "3182222822",
        "3182222823",
        "3191146526",
        "3204879741",
        "3206158567",
        "3206626971",
        "3216522804",
        "3217987680",
        "3222009077",
        "3224539664",
        "3225699997",
        "3229767955",
        "3231147005",
        "3231791630",
        "3232448575",
        "3234357867",
        "3242204786",
        "3242276917",
        "3245402197",
        "3247232743",
        "3248675632",
        "3250123968",
        "3258258278",
        "3268368678",
        "3270958601",
        "3273410592",
        "3278408272",
        "3279886460",
        "3281243931",
        "3282880582",
        "3287781316",
        "3289153909",
        "3291796550",
        "3303390072",
        "3303459931",
        "3303729824",
        "3305512855",
        "3307463725",
        "3308633273",
        "3309476373",
        "3311833517",
        "3318199669",
        "3324094091",
        "3326902549",
        "3327085974",
        "3327600011",
        "3330110373",
        "3332500563",
        "3337586114",
        "3337586115",
        "3340846443",
        "3342375663",
        "3344716151",
        "3350489579",
        "3356804751",
        "3357503754",
        "3362185512",
        "3364794481",
        "3367594762",
        "3369372011",
        "3374539358",
        "3382024472",
        "3382182066",
        "3387412013",
        "3388126667",
        "3390078226",
        "3390078227",
        "3390078232",
        "3390078233",
        "3390078234",
        "3390078235",
        "3390078236",
        "3390078237",
        "3390078238",
        "3390078239",
        "3393436175",
        "3393552539",
        "3399168111",
        "3400576446",
        "3401927553",
        "3405837767",
        "3408598133",
        "3410731424",
        "3411850063",
        "3415184383",
        "3417737709",
        "3420353827",
        "3422458392",
        "3428487153",
        "3428527852",
        "3429403077",
        "3431961936",
        "3431961937",
        "3431961938",
        "3431961939",
        "3431961940",
        "3431961941",
        "3431961942",
        "3431961943",
        "3431961946",
        "3431961947",
        "3433615715",
        "3448739520",
        "3448739521",
        "3448739522",
        "3448739523",
        "3448739524",
        "3448739526",
        "3448739527",
        "3448739532",
        "3448739533",
        "3450412105",
        "3450793480",
        "3450819748",
        "3459614157",
        "3460299299",
        "3470255495",
        "3473447568",
        "3473447569",
        "3473447570",
        "3473447571",
        "3473447572",
        "3473447573",
        "3473447574",
        "3473447575",
        "3473447580",
        "3473447581",
        "3481300563",
        "3484578777",
        "3486499057",
        "3486530434",
        "3486530436",
        "3486530437",
        "3486530438",
        "3486530439",
        "3488769908",
        "3492541163",
        "3495463202",
        "3495463203",
        "3495463204",
        "3495463205",
        "3498783387",
        "3501618455",
        "3503308144",
        "3503308145",
        "3503308152",
        "3503308154",
        "3503308155",
        "3503308156",
        "3503308157",
        "3503308158",
        "3503308159",
        "3509178410",
        "3517489196",
        "3518847135",
        "3521082631",
        "3523455218",
        "3541301354",
        "3541581269",
        "3564107993",
        "3566026229",
        "3566059558",
        "3567299813",
        "3567859314",
        "3567859315",
        "3568848026",
        "3574310085",
        "3575029957",
        "3575189553",
        "3578247132",
        "3579759870",
        "3582127862",
        "3584636896",
        "3584636897",
        "3584636898",
        "3584636899",
        "3584636900",
        "3584636902",
        "3584636903",
        "3584636908",
        "3584636909",
        "3591093174",
        "3591836320",
        "3595080331",
        "3599006440",
        "3600156143",
        "3601025763",
        "3604670589",
        "3608027344",
        "3608507543",
        "3630489247",
        "3630901200",
        "3631669465",
        "3632308741",
        "3636866482",
        "3641080561",
        "3641166665",
        "3647083276",
        "3649360404",
        "3656200582",
        "3657886407",
        "3664890052",
        "3664983231",
        "3666883430",
        "3669523238",
        "3672750091",
        "3675487637",
        "3675740696",
        "3675740698",
        "3675740699",
        "3686586344",
        "3686797699",
        "3700968734",
        "3709742728",
        "3710831503",
        "3715769785",
        "3718392522",
        "3723768609",
        "3724648326",
        "3727584102",
        "3728188192",
        "3737200951",
        "3742000974",
        "3749164188",
        "3749730895",
        "3755663441",
        "3758103712",
        "3758540824",
        "3759366231",
        "3759633613",
        "3762058492",
        "3762058493",
        "3762058494",
        "3763143014",
        "3763174510",
        "3763330325",
        "3765429897",
        "3765705655",
        "3768930132",
        "3771371600",
        "3771371601",
        "3771371608",
        "3771371610",
        "3771371611",
        "3771371612",
        "3771371613",
        "3771371614",
        "3771371615",
        "3776725365",
        "3778836048",
        "3778836051",
        "3780682732",
        "3781961120",
        "3783249575",
        "3786862122",
        "3793243435",
        "3798472606",
        "3798685639",
        "3802330071",
        "3806804934",
        "3807589987",
        "3807924444",
        "3812674679",
        "3812775859",
        "3814347534",
        "3816420962",
        "3819920005",
        "3822361563",
        "3823507720",
        "3827957216",
        "3833240759",
        "3836008081",
        "3841209808",
        "3841209809",
        "3841209810",
        "3841209811",
        "3841209812",
        "3841209814",
        "3841209815",
        "3841209820",
        "3841209821",
        "3842084319",
        "3846075781",
        "3846344753",
        "3847472228",
        "3847579126",
        "3851032617",
        "3851137658",
        "3853730685",
        "3861076347",
        "3864479986",
        "3865475919",
        "3882642308",
        "3885534828",
        "3899933775",
        "3901785488",
        "3903376255",
        "3904776877",
        "3906232320",
        "3906232321",
        "3906232322",
        "3906232323",
        "3906232324",
        "3906232325",
        "3906232326",
        "3906232327",
        "3906232330",
        "3906232331",
        "3906772567",
        "3909162059",
        "3920378224",
        "3925437282",
        "3927529277",
        "3930580689",
        "3937155811",
        "3942398833",
        "3942398834",
        "3947889773",
        "3948150872",
        "3949040536",
        "3951275509",
        "3957303142",
        "3957574964",
        "3959176388",
        "3959176389",
        "3959176391",
        "3963239036",
        "3967582262",
        "3967884273",
        "3973165904",
        "3981762193",
        "3984014991",
        "3985015094",
        "3985356666",
        "3994678988",
        "3999088229",
        "4011899423",
        "4012125090",
        "4019629605",
        "4020528891",
        "4020709858",
        "4025379205",
        "4026109699",
        "4026489705",
        "4037666416",
        "4037666417",
        "4037666418",
        "4037666419",
        "4037666420",
        "4037666421",
        "4037666422",
        "4037666423",
        "4037666428",
        "4037666429",
        "4038085253",
        "4041232608",
        "4052233640",
        "4060320345",
        "4062087976",
        "4066171783",
        "4066667911",
        "4070936471",
        "4084913407",
        "4085788814",
        "4094110138",
        "4094315914",
        "4096604676",
        "4102566641",
        "4108141222",
        "4109457230",
        "4119344228",
        "4120805470",
        "4132148533",
        "4135952126",
        "4136121815",
        "4138047631",
        "4138159715",
        "4140553751",
        "4140588287",
        "4143851405",
        "4150117620",
        "4150117621",
        "4150117622",
        "4156350130",
        "4156353017",
        "4160670554",
        "4162926221",
        "4163099445",
        "4166658100",
        "4166895176",
        "4166895179",
        "4168712242",
        "4174911913",
        "4175049478",
        "4175099112",
        "4175285726",
        "4175541463",
        "4177910003",
        "4181440763",
        "4185918315",
        "4189480969",
        "4191620858",
        "4197846177",
        "4197846178",
        "4197846179",
        "4197846180",
        "4197846181",
        "4197846182",
        "4197846183",
        "4197846184",
        "4197846185",
        "4201266719",
        "4204447573",
        "4204990045",
        "4205280592",
        "4210878095",
        "4212118070",
        "4212118071",
        "4212118072",
        "4212118073",
        "4212118074",
        "4212118075",
        "4212118076",
        "4212118077",
        "4212118078",
        "4212118079",
        "4212178425",
        "4214623760",
        "4214623761",
        "4214623762",
        "4214623763",
        "4214623766",
        "4214623767",
        "4222058179",
        "4224668392",
        "4230088036",
        "4230088039",
        "4230720151",
        "4237873551",
        "4239853304",
        "4241441993",
        "4241828000",
        "4243279770",
        "4247122247",
        "4249005590",
        "4250947536",
        "4250947537",
        "4250947538",
        "4250947539",
        "4250947540",
        "4250947541",
        "4250947542",
        "4250947543",
        "4250947546",
        "4250947547",
        "4255945596",
        "4256122751",
        "4256630891",
        "4262971164",
        "4267516859",
        "4268318727",
        "4269157841",
        "4270070440",
        "4273408478",
        "4276614341",
        "4276872224",
        "4278867533",
        "4281613050",
        "4290186049",
        "4293614091",
        "11994000",
        "11996340",
        "20024721",
        "20431832",
        "20493479",
        "27079920",
        "28292202",
        "28773927",
        "31686901",
        "39572581",
        "43046618",
        "50106418",
        "52802522",
        "55098543",
        "56035082",
        "56596211",
        "58812229",
        "61328604",
        "64778617",
        "66244570",
        "66744960",
        "66744961",
        "66744963",
        "72025264",
        "75852146",
        "76056909",
        "76808929",
        "78340251",
        "87609703",
        "94777801",
        "96478725",
        "97558110",
        "98447849",
        "99050004",
        "103377387",
        "105811740",
        "108257051",
        "108280137",
        "114259053",
        "115001349",
        "116328783",
        "118547290",
        "122050733",
        "122129118",
        "126223063",
        "134253516",
        "137611858",
        "138927950",
        "140572051",
        "141082836",
        "141268704",
        "142013189",
        "142290502",
        "144967993",
        "147323772",
        "147788586",
        "149192209",
        "154968291",
        "157348228",
        "158452041",
        "165166474",
        "181310951",
        "183892908",
        "184258406",
        "189012149",
        "190188375",
        "190498113",
        "195315622",
        "199260626",
        "200792717",
        "202137963",
        "206063775",
        "212587483",
        "215085557",
        "218267618",
        "221857936",
        "223970495",
        "225013228",
        "227490707",
        "232584921",
        "242464656",
        "242464657",
        "242464658",
        "242464659",
        "243596678",
        "249088297",
        "254145194",
        "256005845",
        "259242240",
        "259242241",
        "259242242",
        "259242243",
        "259242244",
        "259242245",
        "259242246",
        "259242247",
        "259242254",
        "259242255",
        "262330401",
        "264758859",
        "267060719",
        "267836607",
        "268612955",
        "270943800",
        "276019952",
        "276019953",
        "276019960",
        "276019962",
        "276019963",
        "276019964",
        "276019965",
        "276019966",
        "276019967",
        "277879384",
        "286254422",
        "288478788",
        "294322125",
        "300073435",
        "307522032",
        "311553070",
        "312429971",
        "319759693",
        "342347709",
        "362133172",
        "364375244",
        "366622223",
        "370865362",
        "372857781",
        "376008854",
        "376114010",
        "378857807",
        "382777394",
        "388585397",
        "395207948",
        "398866567",
        "402361679",
        "405612087",
        "413743786",
        "417192912",
        "417454997",
        "417550387",
        "419233155",
        "427517758",
        "433917666",
        "435060157",
        "444152197",
        "452100546",
        "452451691",
        "459249011",
        "461152590",
        "463638534",
        "463638535",
        "473797693",
        "479438672",
        "481791392",
        "488817206",
        "488987738",
        "489312011",
        "495916021",
        "496309570",
        "497313765",
        "499494670",
        "501823856",
        "503811851",
        "510151900",
        "512817277",
        "517657777",
        "520045964",
        "535644892",
        "543481464",
        "548399698",
        "550650400",
        "554223965",
        "559593008",
        "559943871",
        "562163044",
        "565725664",
        "567142312",
        "567795114",
        "574761812",
        "578385083",
        "579641773",
        "581049871",
        "581089627",
        "585875588",
        "585875589",
        "585875592",
        "585875593",
        "585875594",
        "585875595",
        "585875596",
        "585875597",
        "585875598",
        "585875599",
        "586316675",
        "588012753",
        "590872239",
        "599303591",
        "599626507",
        "602316980",
        "602316983",
        "613834558",
        "614406941",
        "614571553",
        "614571554",
        "614571555",
        "614571556",
        "614571557",
        "614571558",
        "614571559",
        "614571560",
        "614571561",
        "622242972",
        "622361905",
        "624350677",
        "625268251",
        "630510424",
        "633055621",
        "635174847",
        "639901446",
        "641038864",
        "645697534",
        "648783360",
        "653350487",
        "654986383",
        "656498579",
        "660046832",
        "667850322",
        "667993428",
        "668362217",
        "673722307",
        "684525211",
        "693522256",
        "696175076",
        "697150349",
        "700444358",
        "706112207",
        "708283993",
        "708283994",
        "708283995",
        "709188219",
        "709251999",
        "711121024",
        "711121025",
        "711121027",
        "711121028",
        "711121029",
        "711121030",
        "711121031",
        "711121034",
        "711121035",
        "711204572",
        "713893072",
        "713893073",
        "713893075",
        "713893076",
        "713893078",
        "713893079",
        "714631552",
        "720205407",
        "723502823",
        "727898741",
        "731407759",
        "731533650",
        "734114175",
        "734525036",
        "735550162",
        "741263299",
        "745021037",
        "749838902",
        "751035753",
        "751041271",
        "758616720",
        "758616723",
        "759958308",
        "769868555",
        "772878705",
        "773877428",
        "789562768",
        "794103965",
        "794571444",
        "796129320",
        "799789941",
        "801255690",
        "801453721",
        "807818112",
        "807845972",
        "810213052",
        "810944748",
        "818564990",
        "819775261",
        "819869942",
        "820921504",
        "821084586",
        "821758608",
        "825425501",
        "827330513",
        "827895011",
        "830121872",
        "836362355",
        "837553231",
        "850090435",
        "850090440",
        "850090441",
        "850090442",
        "850090443",
        "850090444",
        "850090445",
        "850090446",
        "850090447",
        "850928232",
        "851701008",
        "855929237",
        "866465097",
        "870507644",
        "876661133",
        "890367121",
        "896769581",
        "898220115",
        "899421308",
        "903845240",
        "907161188",
        "909564168",
        "912770300",
        "913036541",
        "915055151",
        "915223473",
        "922314753",
        "936519399",
        "940998165",
        "952321049",
        "955522375",
        "956257660",
        "972955405",
        "976803518",
        "976885985",
        "976885986",
        "976885987",
        "980527357",
        "990661957",
        "992007906",
        "996562847",
        "1001496800",
        "1004616690",
        "1005191861",
        "1016686191",
        "1025804814",
        "1025917306",
        "1026882738",
        "1032620927",
        "1034097928",
        "1037110515",
        "1037849955",
        "1039085461",
        "1039797865",
        "1047773612",
        "1051654420",
        "1052090143",
        "1053902591",
        "1060780635",
        "1066087615",
        "1067995471",
        "1071663279",
        "1076096270",
        "1079063233",
        "1086196562",
        "1090139609",
        "1099196574",
        "1120290476",
        "1135755896",
        "1137502468",
        "1141543029",
        "1142177491",
        "1142192080",
        "1144140061",
        "1147506155",
        "1156730092",
        "1156730093",
        "1156730094",
        "1156730095",
        "1158520774",
        "1166445408",
        "1166445409",
        "1166445410",
        "1166445411",
        "1166445412",
        "1166445413",
        "1166445414",
        "1166445415",
        "1166445423",
        "1166560879",
        "1173507670",
        "1173507671",
        "1173507672",
        "1173507673",
        "1173507674",
        "1173507675",
        "1173507676",
        "1173507677",
        "1173507678",
        "1174877328",
        "1174877329",
        "1174877330",
        "1174877331",
        "1174877332",
        "1174877333",
        "1174877335",
        "1174877342",
        "1174877343",
        "1175797132",
        "1177307979",
        "1178901007",
        "1179386892",
        "1183021806",
        "1185926964",
        "1185926965",
        "1185926968",
        "1185926969",
        "1185926970",
        "1185926971",
        "1185926973",
        "1185926974",
        "1185926975",
        "1191654920",
        "1191654921",
        "1191654922",
        "1191654923",
        "1191654924",
        "1191654925",
        "1205516741",
        "1209624585",
        "1214241085",
        "1214251150",
        "1223581433",
        "1228579173",
        "1229374476",
        "1231739638",
        "1236992882",
        "1238389519",
        "1246669095",
        "1247544128",
        "1251772809",
        "1257836884",
        "1261302732",
        "1266663497",
        "1271667367",
        "1274230714",
        "1276003068",
        "1277163032",
        "1289529921",
        "1289798960",
        "1290309452",
        "1290309453",
        "1290309454",
        "1290403512",
        "1290451257",
        "1291112668",
        "1294368731",
        "1294551872",
        "1294968143",
        "1298112482",
        "1298457978",
        "1307087008",
        "1307087011",
        "1312270975",
        "1316710099",
        "1319909495",
        "1322754255",
        "1325891336",
        "1327869331",
        "1329556468",
        "1332133148",
        "1333119148",
        "1336344009",
        "1341226925",
        "1341325320",
        "1341533303",
        "1345953030",
        "1351982072",
        "1355802591",
        "1358540787",
        "1363982253",
        "1364605277",
        "1366508788",
        "1368759659",
        "1371644410",
        "1371679603",
        "1372723679",
        "1373122528",
        "1375269962",
        "1386173696",
        "1387797289",
        "1387797290",
        "1391735969",
        "1396554507",
        "1398454187",
        "1403792946",
        "1405614232",
        "1407123858",
        "1413337742",
        "1414820429",
        "1415847174",
        "1416291884",
        "1416925544",
        "1417036993",
        "1417930213",
        "1420454218",
        "1420663287",
        "1425921424",
        "1428420761",
        "1428463716",
        "1438130272",
        "1438130274",
        "1438130275",
        "1438813765",
        "1441693899",
        "1442165390",
        "1442950315",
        "1444407971",
        "1444711376",
        "1460765006",
        "1464434566",
        "1466482627",
        "1469598452",
        "1473714136",
        "1478600655",
        "1483963998",
        "1484250585",
        "1484905630",
        "1485121063",
        "1485582185",
        "1485847905",
        "1486384135",
        "1487722505",
        "1489828608",
        "1492080644",
        "1497347070",
        "1497969739",
        "1498229894",
        "1498253977",
        "1504605755",
        "1515947769",
        "1518196036",
        "1518215963",
        "1518515265",
        "1519456486",
        "1520473246",
        "1522035006",
        "1522954160",
        "1526865549",
        "1544191462",
        "1549003459",
        "1549532367",
        "1549892907",
        "1550365601",
        "1558682416",
        "1558682417",
        "1558682418",
        "1558682419",
        "1558682421",
        "1558682422",
        "1558682423",
        "1558682428",
        "1558682429",
        "1559002718",
        "1562138684",
        "1567884322",
        "1575460002",
        "1575460003",
        "1575460004",
        "1575460005",
        "1576480714",
        "1585753315",
        "1587165122",
        "1590210414",
        "1593047161",
        "1599383419",
        "1599750028",
        "1602622486",
        "1605418532",
        "1621950319",
        "1622150852",
        "1624361599",
        "1628091546",
        "1629541854",
        "1632551190",
        "1637771053",
        "1638036073",
        "1640774328",
        "1641495327",
        "1642140110",
        "1648136131",
        "1649258247",
        "1651981295",
        "1652021369",
        "1661612473",
        "1672792871",
        "1675858334",
        "1676823618",
        "1683000545",
        "1684571234",
        "1686267788",
        "1686327621",
        "1688823117",
        "1694320690",
        "1702720423",
        "1703455291",
        "1707190649",
        "1710087400",
        "1711079800",
        "1719592571",
        "1726429346",
        "1731604990",
        "1731722761",
        "1732935196",
        "1738299320",
        "1741494383",
        "1742345588",
        "1742897719",
        "1745790710",
        "1753083296",
        "1755196920",
        "1757149139",
        "1760928123",
        "1761789705",
        "1767590660",
        "1768837759",
        "1769517637",
        "1773475425",
        "1776771540",
        "1783003007",
        "1784977487",
        "1786947686",
        "1790031820",
        "1794186830",
        "1801056576",
        "1801056577",
        "1801056578",
        "1801056579",
        "1801056580",
        "1801056581",
        "1801056582",
        "1801056583",
        "1801056588",
        "1804999028",
        "1817834288",
        "1817834289",
        "1817834290",
        "1817834291",
        "1817834292",
        "1817834293",
        "1817834294",
        "1817834302",
        "1817834303",
        "1827105928",
        "1838738368",
        "1841174948",
        "1841345022",
        "1841779644",
        "1842255608",
        "1842255610",
        "1842255611",
        "1842255612",
        "1842255613",
        "1842255614",
        "1842255615",
        "1842542594",
        "1844924834",
        "1850466452",
        "1856139708",
        "1859033168",
        "1859033170",
        "1859033171",
        "1859033172",
        "1859033173",
        "1859033174",
        "1859033175",
        "1859033176",
        "1859033177",
        "1861568610",
        "1869892631",
        "1871570556",
        "1872013791",
        "1879702969",
        "1881735727",
        "1883059838",
        "1889144800",
        "1891338678",
        "1900286833",
        "1911491978",
        "1911649721",
        "1912542720",
        "1913403057",
        "1914666283",
        "1915077419",
        "1916279056",
        "1919487861",
        "1925300422",
        "1926238990",
        "1934273229",
        "1941459378",
        "1944236510",
        "1949540113",
        "1959753477",
        "1962727403",
        "1968031376",
        "1970426437",
        "1971661116",
        "1974332638",
        "1975718024",
        "1978617345",
        "1984733874",
        "1987500905",
        "2023796284",
        "2027886756",
        "2028468500",
        "2028468501",
        "2028468504",
        "2028468505",
        "2028468506",
        "2028468507",
        "2028468508",
        "2028468509",
        "2028468510",
        "2028468511",
        "2029263931",
        "2030459290",
        "2032752906",
        "2034667224",
        "2041489007",
        "2052871747",
        "2052987728",
        "2053529794",
        "2053546184",
        "2055584838",
        "2070013491",
        "2070972007",
        "2075530733",
        "2075566064",
        "2085002577",
        "2087362844",
        "2088813168",
        "2089898004",
        "2093828598",
        "2097519327",
        "2099501667",
        "2100504924",
        "2101481124",
        "2104527476",
        "2104527477",
        "2104527480",
        "2104527481",
        "2104527482",
        "2104527483",
        "2104527484",
        "2104527485",
        "2104527486",
        "2104527487",
        "2109838578",
        "2110987253",
        "2121305062",
        "2121305063",
        "2121305064",
        "2121305065",
        "2121305066",
        "2121305067",
        "2121305068",
        "2121305069",
        "2121305070",
        "2122204471",
        "2122886722",
        "2129401906",
        "2133906881",
        "2134792592",
        "2136108437",
        "2136564733",
        "2137287373",
        "2139838652",
        "2139838653",
        "2139838654",
        "2139838655",
        "2140068897",
        "2140812264",
        "2144075645",
        "2144075646",
        "2144075647"
       ],
       "index": 0,
       "layout": "IPY_MODEL_ecf0126975994a2e94ceee5fe9ab8c25",
       "style": "IPY_MODEL_be65b799004b47ac8fd6de1c5bbdcbe3"
      }
     },
     "6a2a7b50bf974479848958a55323c1ea": {
      "model_module": "@jupyter-widgets/base",
      "model_module_version": "1.2.0",
      "model_name": "LayoutModel",
      "state": {}
     },
     "6a9209e2f1f84e41a873df1cc43a8d6e": {
      "model_module": "@jupyter-widgets/controls",
      "model_module_version": "1.5.0",
      "model_name": "ProgressStyleModel",
      "state": {
       "description_width": ""
      }
     },
     "6ab6338e9a9e4a9fb4214b7b51658b26": {
      "model_module": "@jupyter-widgets/base",
      "model_module_version": "1.2.0",
      "model_name": "LayoutModel",
      "state": {
       "display": "flex",
       "flex_flow": "row wrap"
      }
     },
     "6ac02f6add1e452a9f6169e9177d18d9": {
      "model_module": "@jupyter-widgets/controls",
      "model_module_version": "1.5.0",
      "model_name": "ButtonModel",
      "state": {
       "description": "EDIT",
       "layout": "IPY_MODEL_e13b4d19063e4047bdd242e134ed028f",
       "style": "IPY_MODEL_927c81a33bd9475dad39b0c418eb3cd7"
      }
     },
     "6b0035a363834ed88617be7a0bda2f21": {
      "model_module": "@jupyter-widgets/base",
      "model_module_version": "1.2.0",
      "model_name": "LayoutModel",
      "state": {}
     },
     "6b124ff898084c609322b5d4038ca71f": {
      "model_module": "@jupyter-widgets/controls",
      "model_module_version": "1.5.0",
      "model_name": "LabelModel",
      "state": {
       "layout": "IPY_MODEL_58a9efa8c1004142b339d418615b8a78",
       "style": "IPY_MODEL_f8b5a8ebac9345788e865c08a80374b8",
       "value": "    My Bowfriend's Back (3/1)"
      }
     },
     "6b96d58c8da443998538f18a4a9817fa": {
      "model_module": "@jupyter-widgets/controls",
      "model_module_version": "1.5.0",
      "model_name": "ButtonModel",
      "state": {
       "button_style": "success",
       "disabled": true,
       "layout": "IPY_MODEL_5273f5c4c6674e88ace0dee1b367a13e",
       "style": "IPY_MODEL_86b01e9d8f874ece81b4e6938127f563"
      }
     },
     "6be73796dd214a91aad0f0e59cf32eeb": {
      "model_module": "@jupyter-widgets/controls",
      "model_module_version": "1.5.0",
      "model_name": "DescriptionStyleModel",
      "state": {
       "description_width": ""
      }
     },
     "6c1f498d6147429799abca2f98c778d7": {
      "model_module": "@jupyter-widgets/controls",
      "model_module_version": "1.5.0",
      "model_name": "ButtonModel",
      "state": {
       "description": "EDIT",
       "layout": "IPY_MODEL_a82dbdae437947599ac5efa4d33a6641",
       "style": "IPY_MODEL_5626b512c9b54766b7c6c509d3e503a5"
      }
     },
     "6c8762ab94c241bdb505df2ffd9818df": {
      "model_module": "@jupyter-widgets/controls",
      "model_module_version": "1.5.0",
      "model_name": "HBoxModel",
      "state": {
       "children": [
        "IPY_MODEL_6433711cd7ef467d92eea050f4664e12",
        "IPY_MODEL_5ffd863dd8294c7297f3809a1cc574b3",
        "IPY_MODEL_337539452f824bde87c3f5d6a18856ec",
        "IPY_MODEL_dd06d61278304c23822f920eeb9a3373"
       ],
       "layout": "IPY_MODEL_ee795cb854574982a05a5d39c96a9fb5"
      }
     },
     "6cb91cc8be83405496c7193208730522": {
      "model_module": "@jupyter-widgets/controls",
      "model_module_version": "1.5.0",
      "model_name": "LabelModel",
      "state": {
       "layout": "IPY_MODEL_8382b4ecf96a474fb5e863551d9be33b",
       "style": "IPY_MODEL_ca3a52de13c14af4b58f5ab058ba6bdf",
       "value": "             objective 3"
      }
     },
     "6cbe00a0489e4a6cad3106cb34a28284": {
      "model_module": "@jupyter-widgets/base",
      "model_module_version": "1.2.0",
      "model_name": "LayoutModel",
      "state": {
       "display": "none"
      }
     },
     "6cceeabc6f534319a868f8214d8862e0": {
      "model_module": "@jupyter-widgets/controls",
      "model_module_version": "1.5.0",
      "model_name": "ButtonModel",
      "state": {
       "description": "EDIT",
       "layout": "IPY_MODEL_537186a58fe748f880aa078e8733299b",
       "style": "IPY_MODEL_7e9ac0cd7834473f8947189b2dac5871"
      }
     },
     "6cd1d026f79049af8451054adb28f865": {
      "model_module": "@jupyter-widgets/controls",
      "model_module_version": "1.5.0",
      "model_name": "DropdownModel",
      "state": {
       "_options_labels": [
        "Any",
        "Titan",
        "Hunter",
        "Warlock"
       ],
       "index": 0,
       "layout": "IPY_MODEL_ecf0126975994a2e94ceee5fe9ab8c25",
       "style": "IPY_MODEL_a6a6dcd2d83040a18b4ae27de6150fd2"
      }
     },
     "6cd70dfbf3d5464e87a79f71293599ce": {
      "model_module": "@jupyter-widgets/base",
      "model_module_version": "1.2.0",
      "model_name": "LayoutModel",
      "state": {
       "overflow": "visible",
       "width": "100%"
      }
     },
     "6cda7ed7e8314fb7aeb5a5eeef7d8a6b": {
      "model_module": "@jupyter-widgets/controls",
      "model_module_version": "1.5.0",
      "model_name": "ButtonStyleModel",
      "state": {}
     },
     "6d3bb9aff8d34b43b52a7d44d0e808f1": {
      "model_module": "@jupyter-widgets/controls",
      "model_module_version": "1.5.0",
      "model_name": "DescriptionStyleModel",
      "state": {
       "description_width": ""
      }
     },
     "6d640b30cdef4ce4bfeb1a9bd61290b4": {
      "model_module": "@jupyter-widgets/controls",
      "model_module_version": "1.5.0",
      "model_name": "ButtonModel",
      "state": {
       "description": "EDIT",
       "layout": "IPY_MODEL_5def30138abe4762bcd54b874ecdd197",
       "style": "IPY_MODEL_c17abf6f1e22428bb60cdc0cf7340d47"
      }
     },
     "6d6caa81c5804f589233b499e85213c1": {
      "model_module": "@jupyter-widgets/controls",
      "model_module_version": "1.5.0",
      "model_name": "ButtonStyleModel",
      "state": {}
     },
     "6d954990ced54aacb398c2d320587e1f": {
      "model_module": "@jupyter-widgets/base",
      "model_module_version": "1.2.0",
      "model_name": "LayoutModel",
      "state": {}
     },
     "6dd38fe7700a4d1cb73664e8e49246ad": {
      "model_module": "@jupyter-widgets/controls",
      "model_module_version": "1.5.0",
      "model_name": "HTMLModel",
      "state": {
       "layout": "IPY_MODEL_cc94cf563a1245edb1ceb3348d2f5e98",
       "style": "IPY_MODEL_872226ad2a934314a1a7be970c1e6c9d",
       "value": "<font size=\"5\"><b>Winner Take All</b></font size=>"
      }
     },
     "6de158064cb241d0ab5120bdd1519884": {
      "model_module": "@jupyter-widgets/base",
      "model_module_version": "1.2.0",
      "model_name": "LayoutModel",
      "state": {
       "width": "60px"
      }
     },
     "6debb18cac0746fb877d85edc8f12540": {
      "model_module": "@jupyter-widgets/controls",
      "model_module_version": "1.5.0",
      "model_name": "DescriptionStyleModel",
      "state": {
       "description_width": ""
      }
     },
     "6e47e78a1c7940d39dd8c0938da4e414": {
      "model_module": "@jupyter-widgets/controls",
      "model_module_version": "1.5.0",
      "model_name": "HBoxModel",
      "state": {
       "children": [
        "IPY_MODEL_fb0ce289b0144871a0ebb2a9d8c3ce3a",
        "IPY_MODEL_c0f42d011e56446eabe7156e2ceb9bc2",
        "IPY_MODEL_5bd3814e2caf4ae59136d2b48ed3b215",
        "IPY_MODEL_2c30d3f9471a43ba8adfdd7e836b850e"
       ],
       "layout": "IPY_MODEL_d63bc58bb97e4b4e91c2c2138b716f38"
      }
     },
     "6e636f889bba4ca7987a29f3ba52b8ee": {
      "model_module": "@jupyter-widgets/controls",
      "model_module_version": "1.5.0",
      "model_name": "DescriptionStyleModel",
      "state": {
       "description_width": ""
      }
     },
     "6e672599fe624ce58c532074a2e2675b": {
      "model_module": "@jupyter-widgets/controls",
      "model_module_version": "1.5.0",
      "model_name": "ButtonModel",
      "state": {
       "layout": "IPY_MODEL_62e470f31deb42908309c330e01009a0",
       "style": "IPY_MODEL_747b7c14d4a74080aab7e0f2e6100793"
      }
     },
     "6ed3cc50730149488c0a27145ee2948f": {
      "model_module": "@jupyter-widgets/controls",
      "model_module_version": "1.5.0",
      "model_name": "ButtonStyleModel",
      "state": {}
     },
     "6f3e98ad86ae47f685436a7a9b24fb1e": {
      "model_module": "@jupyter-widgets/controls",
      "model_module_version": "1.5.0",
      "model_name": "ProgressStyleModel",
      "state": {
       "description_width": ""
      }
     },
     "6f62c9d88f3e45edb27e29a12b1acb58": {
      "model_module": "@jupyter-widgets/base",
      "model_module_version": "1.2.0",
      "model_name": "LayoutModel",
      "state": {
       "width": "60px"
      }
     },
     "6f6d94403246461c834da2968c71b93c": {
      "model_module": "@jupyter-widgets/controls",
      "model_module_version": "1.5.0",
      "model_name": "HBoxModel",
      "state": {
       "children": [
        "IPY_MODEL_f9263761f0ac423a9bc91a2e926d4ae6",
        "IPY_MODEL_83e416fc8fc44339842979d70d8e87ec",
        "IPY_MODEL_71000698265e480d8ff8c04201edef62",
        "IPY_MODEL_de789d9dbd864bdca5bfc6269bac7710"
       ],
       "layout": "IPY_MODEL_5a06b7dff6e34037943a182a0a7264fb"
      }
     },
     "6fe9d786a4484aea9635182f381a9818": {
      "model_module": "@jupyter-widgets/controls",
      "model_module_version": "1.5.0",
      "model_name": "ButtonModel",
      "state": {
       "layout": "IPY_MODEL_f119f68547074a5c9b7861dd0e476f75",
       "style": "IPY_MODEL_6d6caa81c5804f589233b499e85213c1"
      }
     },
     "701f4049baa44a3d8cab050b191b61c0": {
      "model_module": "@jupyter-widgets/controls",
      "model_module_version": "1.5.0",
      "model_name": "IntProgressModel",
      "state": {
       "layout": "IPY_MODEL_3c71d236c3874c039703a214a7b31bc1",
       "max": 1,
       "style": "IPY_MODEL_ea07967484f842edb910bad9384e6b0a"
      }
     },
     "7043926cf1404ab79851ca7e84aa1f71": {
      "model_module": "@jupyter-widgets/base",
      "model_module_version": "1.2.0",
      "model_name": "LayoutModel",
      "state": {
       "display": "flex"
      }
     },
     "705e7d78936444d7aadbb5b89b5596a4": {
      "model_module": "@jupyter-widgets/base",
      "model_module_version": "1.2.0",
      "model_name": "LayoutModel",
      "state": {
       "width": "60px"
      }
     },
     "70a9385bd8e642059329b7d7d59ad3c0": {
      "model_module": "@jupyter-widgets/controls",
      "model_module_version": "1.5.0",
      "model_name": "HTMLModel",
      "state": {
       "layout": "IPY_MODEL_e15ef761c23e487189d2338d9be063d9",
       "style": "IPY_MODEL_8a5fa1ef39044a84aa499fe88e88ef96",
       "value": "<font size=\"5\"><b>To Map the Unknown</b></font size=>"
      }
     },
     "70e9dd240d8f407f83479ef7cb2ff9cd": {
      "model_module": "@jupyter-widgets/base",
      "model_module_version": "1.2.0",
      "model_name": "LayoutModel",
      "state": {
       "display": "flex",
       "flex_flow": "row wrap"
      }
     },
     "71000698265e480d8ff8c04201edef62": {
      "model_module": "@jupyter-widgets/controls",
      "model_module_version": "1.5.0",
      "model_name": "LabelModel",
      "state": {
       "layout": "IPY_MODEL_a20693167e9543fb82efaeff514928db",
       "style": "IPY_MODEL_76d4542293b842988ff9774e3622894e",
       "value": "             objective 4"
      }
     },
     "711aabf3ec3747ddac5e3abcd2e6355b": {
      "model_module": "@jupyter-widgets/base",
      "model_module_version": "1.2.0",
      "model_name": "LayoutModel",
      "state": {
       "width": "60px"
      }
     },
     "7137b736fbfa40fa8309a7e3be028021": {
      "model_module": "@jupyter-widgets/controls",
      "model_module_version": "1.5.0",
      "model_name": "DescriptionStyleModel",
      "state": {
       "description_width": ""
      }
     },
     "7149387b205d4e3684a8f9f3c43159ff": {
      "model_module": "@jupyter-widgets/base",
      "model_module_version": "1.2.0",
      "model_name": "LayoutModel",
      "state": {
       "display": "none"
      }
     },
     "71660586322749428eab6446d29389d3": {
      "model_module": "@jupyter-widgets/controls",
      "model_module_version": "1.5.0",
      "model_name": "ButtonStyleModel",
      "state": {}
     },
     "71c69b84499f48b784cccef420bd4d63": {
      "model_module": "@jupyter-widgets/controls",
      "model_module_version": "1.5.0",
      "model_name": "ButtonStyleModel",
      "state": {}
     },
     "7233ce026d0f499aa02a048910cb21e5": {
      "model_module": "@jupyter-widgets/base",
      "model_module_version": "1.2.0",
      "model_name": "LayoutModel",
      "state": {
       "width": "60px"
      }
     },
     "72ace6a22e094dbda00143abbb0c57ae": {
      "model_module": "@jupyter-widgets/controls",
      "model_module_version": "1.5.0",
      "model_name": "DescriptionStyleModel",
      "state": {
       "description_width": ""
      }
     },
     "72db795ccc2d4f90a6e265c6b57742d8": {
      "model_module": "@jupyter-widgets/controls",
      "model_module_version": "1.5.0",
      "model_name": "DescriptionStyleModel",
      "state": {
       "description_width": ""
      }
     },
     "72fe2683aae542b088cd5a9bc4b6d0f8": {
      "model_module": "@jupyter-widgets/controls",
      "model_module_version": "1.5.0",
      "model_name": "DescriptionStyleModel",
      "state": {
       "description_width": ""
      }
     },
     "731fb28024454217850400e0d973bcb4": {
      "model_module": "@jupyter-widgets/controls",
      "model_module_version": "1.5.0",
      "model_name": "LabelModel",
      "state": {
       "layout": "IPY_MODEL_02a65ed5b87e417db0d02389d7a7aa38",
       "style": "IPY_MODEL_02a13a84b9a04cb6b4b87be3acee73f0",
       "value": "             objective 3"
      }
     },
     "734cdd9d24084b4e89d43923a1893612": {
      "model_module": "@jupyter-widgets/base",
      "model_module_version": "1.2.0",
      "model_name": "LayoutModel",
      "state": {
       "overflow": "visible",
       "width": "100%"
      }
     },
     "7367c1276f07466e81c165bdd5d0dfa6": {
      "model_module": "@jupyter-widgets/base",
      "model_module_version": "1.2.0",
      "model_name": "LayoutModel",
      "state": {
       "display": "none"
      }
     },
     "736e271c64b540d6abaf9de0ee4eaa0c": {
      "model_module": "@jupyter-widgets/base",
      "model_module_version": "1.2.0",
      "model_name": "LayoutModel",
      "state": {
       "display": "none"
      }
     },
     "74392e92a65f4256951e328bff59b82d": {
      "model_module": "@jupyter-widgets/controls",
      "model_module_version": "1.5.0",
      "model_name": "ButtonModel",
      "state": {
       "layout": "IPY_MODEL_d965074cab4c491ea3b2a93fe68c9867",
       "style": "IPY_MODEL_22dc077e567047a89e1e099d7577800a"
      }
     },
     "7446e7dd01414e4ca2256286addb9433": {
      "model_module": "@jupyter-widgets/controls",
      "model_module_version": "1.5.0",
      "model_name": "ButtonStyleModel",
      "state": {}
     },
     "747b7c14d4a74080aab7e0f2e6100793": {
      "model_module": "@jupyter-widgets/controls",
      "model_module_version": "1.5.0",
      "model_name": "ButtonStyleModel",
      "state": {}
     },
     "74a69591360b4a9cba94ae110233c8f2": {
      "model_module": "@jupyter-widgets/controls",
      "model_module_version": "1.5.0",
      "model_name": "ButtonModel",
      "state": {
       "description": "EDIT",
       "layout": "IPY_MODEL_d2519420916e4a6aa54af7fb0b40225a",
       "style": "IPY_MODEL_d7f81ea570df4454ac9b752810586fe0"
      }
     },
     "74b4e73a92114a7095b8b93ae74b89a3": {
      "model_module": "@jupyter-widgets/base",
      "model_module_version": "1.2.0",
      "model_name": "LayoutModel",
      "state": {}
     },
     "74c9e3894df749c181560b95a1fb85bd": {
      "model_module": "@jupyter-widgets/controls",
      "model_module_version": "1.5.0",
      "model_name": "ButtonStyleModel",
      "state": {}
     },
     "74ca4b2539f94ab797498bc158d3b514": {
      "model_module": "@jupyter-widgets/controls",
      "model_module_version": "1.5.0",
      "model_name": "LabelModel",
      "state": {
       "layout": "IPY_MODEL_2a03a836b7ce4166ae97c65564bab4cf",
       "style": "IPY_MODEL_118896075163436c87b068ecdb99c92a",
       "value": "             objective 4"
      }
     },
     "750f76f2a88f4654a28c0a1c26013b81": {
      "model_module": "@jupyter-widgets/controls",
      "model_module_version": "1.5.0",
      "model_name": "DescriptionStyleModel",
      "state": {
       "description_width": ""
      }
     },
     "7526eb679b9e4283857ec09a139db195": {
      "model_module": "@jupyter-widgets/controls",
      "model_module_version": "1.5.0",
      "model_name": "ButtonModel",
      "state": {
       "description": "EDIT",
       "layout": "IPY_MODEL_97c57ba7ae384bde92f8366dfc48571c",
       "style": "IPY_MODEL_43b8ba29301b4cc29bb5f4ae58168639"
      }
     },
     "7528501d741b400bb5331b2ea2f3efe1": {
      "model_module": "@jupyter-widgets/controls",
      "model_module_version": "1.5.0",
      "model_name": "ProgressStyleModel",
      "state": {
       "description_width": ""
      }
     },
     "756b1e182b134f629891326796bff03b": {
      "model_module": "@jupyter-widgets/controls",
      "model_module_version": "1.5.0",
      "model_name": "IntProgressModel",
      "state": {
       "layout": "IPY_MODEL_805e879b1322474fbf45e4f8f8a05f73",
       "style": "IPY_MODEL_3d2996a40c3840b8b5810a7341711526",
       "value": 30
      }
     },
     "756e8ad5044446d09f9d6dc6b7ba868f": {
      "model_module": "@jupyter-widgets/controls",
      "model_module_version": "1.5.0",
      "model_name": "DescriptionStyleModel",
      "state": {
       "description_width": ""
      }
     },
     "75749dc9bead46dba4a044c7d383b52b": {
      "model_module": "@jupyter-widgets/base",
      "model_module_version": "1.2.0",
      "model_name": "LayoutModel",
      "state": {
       "display": "flex",
       "flex_flow": "row wrap"
      }
     },
     "758bcd01070d435dab35e273ce472daf": {
      "model_module": "@jupyter-widgets/controls",
      "model_module_version": "1.5.0",
      "model_name": "DescriptionStyleModel",
      "state": {
       "description_width": ""
      }
     },
     "75ab3fb22dca4042901dc9eb63996ec0": {
      "model_module": "@jupyter-widgets/base",
      "model_module_version": "1.2.0",
      "model_name": "LayoutModel",
      "state": {
       "display": "none"
      }
     },
     "75afa67a9435423f83310b63ea3ec88a": {
      "model_module": "@jupyter-widgets/controls",
      "model_module_version": "1.5.0",
      "model_name": "HBoxModel",
      "state": {
       "children": [
        "IPY_MODEL_efe2e1d6a50a4cf3811800740c207979",
        "IPY_MODEL_756b1e182b134f629891326796bff03b",
        "IPY_MODEL_23053590d11d4c6caaac3dba2ef25577",
        "IPY_MODEL_c5a9a2da11c04a45bd96055374968f4f"
       ],
       "layout": "IPY_MODEL_e1b0c0040ae347039f04ceca794a140f"
      }
     },
     "75bcd3bbe69b4ea6959d17e68571bc05": {
      "model_module": "@jupyter-widgets/controls",
      "model_module_version": "1.5.0",
      "model_name": "IntProgressModel",
      "state": {
       "layout": "IPY_MODEL_bd255d790df242498f51fc76a5be8b99",
       "style": "IPY_MODEL_fca2674fc15e442db776bf91b6e571e6",
       "value": 30
      }
     },
     "761238fabe7a4a5ca89f2c255db86173": {
      "model_module": "@jupyter-widgets/controls",
      "model_module_version": "1.5.0",
      "model_name": "DropdownModel",
      "state": {
       "_options_labels": [
        "Any"
       ],
       "disabled": true,
       "index": 0,
       "layout": "IPY_MODEL_ecf0126975994a2e94ceee5fe9ab8c25",
       "style": "IPY_MODEL_72ace6a22e094dbda00143abbb0c57ae"
      }
     },
     "762d56493e2c49f7b8121cd67c5a11a2": {
      "model_module": "@jupyter-widgets/controls",
      "model_module_version": "1.5.0",
      "model_name": "VBoxModel",
      "state": {
       "children": [
        "IPY_MODEL_f8153874f9654c66a555ce5c056eb31e",
        "IPY_MODEL_80a57797e0cf4f6e845af9bf666c48df",
        "IPY_MODEL_887961b10063469f82415b30094bb949",
        "IPY_MODEL_bf4f618721ea4d189bf5a3705ec50f30"
       ],
       "layout": "IPY_MODEL_b72779a021ca44ba8e06452d37f5afdb"
      }
     },
     "765f06482ee949a389146b754d27be6c": {
      "model_module": "@jupyter-widgets/base",
      "model_module_version": "1.2.0",
      "model_name": "LayoutModel",
      "state": {
       "width": "60px"
      }
     },
     "76a6a8c19bb84585b5ea36bad75b73f0": {
      "model_module": "@jupyter-widgets/base",
      "model_module_version": "1.2.0",
      "model_name": "LayoutModel",
      "state": {
       "border": "3px solid white",
       "display": "flex",
       "margin": "10px",
       "overflow": "visible",
       "padding": "10px",
       "width": "400px"
      }
     },
     "76ac9bd91a6e47d5956663bc3ab58d1a": {
      "model_module": "@jupyter-widgets/controls",
      "model_module_version": "1.5.0",
      "model_name": "ButtonModel",
      "state": {
       "description": "EDIT",
       "layout": "IPY_MODEL_fffa0c8ba8cb4505b58a1838c645d876",
       "style": "IPY_MODEL_5e33f94fefdc4d2f8296f6ec2bea397b"
      }
     },
     "76d4542293b842988ff9774e3622894e": {
      "model_module": "@jupyter-widgets/controls",
      "model_module_version": "1.5.0",
      "model_name": "DescriptionStyleModel",
      "state": {
       "description_width": ""
      }
     },
     "7720db56b30a46af8601c41913cbe5b4": {
      "model_module": "@jupyter-widgets/base",
      "model_module_version": "1.2.0",
      "model_name": "LayoutModel",
      "state": {
       "display": "none"
      }
     },
     "774ea2bf23e14d8c8cf21eb5ff1bc8cd": {
      "model_module": "@jupyter-widgets/controls",
      "model_module_version": "1.5.0",
      "model_name": "ButtonModel",
      "state": {
       "layout": "IPY_MODEL_4f92c5719b53461082e38f932605ab3d",
       "style": "IPY_MODEL_a987e1031d374764b32bbedd82e7ad39"
      }
     },
     "775e910560b04080af1910e474710fe3": {
      "model_module": "@jupyter-widgets/controls",
      "model_module_version": "1.5.0",
      "model_name": "ButtonStyleModel",
      "state": {}
     },
     "778e8675f7a1409395099de9c4bf1382": {
      "model_module": "@jupyter-widgets/controls",
      "model_module_version": "1.5.0",
      "model_name": "DescriptionStyleModel",
      "state": {
       "description_width": ""
      }
     },
     "77ca4ec0767e43629d0245781730f6cb": {
      "model_module": "@jupyter-widgets/base",
      "model_module_version": "1.2.0",
      "model_name": "LayoutModel",
      "state": {
       "order": "-1",
       "overflow": "visible",
       "padding": "1px",
       "width": "0px"
      }
     },
     "7862fa1002c24770a129196c11f0b346": {
      "model_module": "@jupyter-widgets/controls",
      "model_module_version": "1.5.0",
      "model_name": "ButtonStyleModel",
      "state": {}
     },
     "78c0477b96c9469680715bbbf1d16b8c": {
      "model_module": "@jupyter-widgets/controls",
      "model_module_version": "1.5.0",
      "model_name": "HBoxModel",
      "state": {
       "children": [
        "IPY_MODEL_6b96d58c8da443998538f18a4a9817fa",
        "IPY_MODEL_fd2efd41d8fc4e89bd23f1219c220bc4",
        "IPY_MODEL_443a07320de349f798fee4d554ddd87c",
        "IPY_MODEL_8301567d897f4d32acf52bd873b3a49f"
       ],
       "layout": "IPY_MODEL_87c82a3348464a10b5f78c8e59115894"
      }
     },
     "7961ea1f11ea44e28371a62f7ab67143": {
      "model_module": "@jupyter-widgets/base",
      "model_module_version": "1.2.0",
      "model_name": "LayoutModel",
      "state": {
       "order": "-1",
       "overflow": "visible",
       "padding": "1px",
       "width": "0px"
      }
     },
     "79e844441e6f481b8b2b3172b9668217": {
      "model_module": "@jupyter-widgets/controls",
      "model_module_version": "1.5.0",
      "model_name": "HBoxModel",
      "state": {
       "children": [
        "IPY_MODEL_96ba16677d704351944aca325ab1e919",
        "IPY_MODEL_b28128e374c84568bffa123ae0b061c0",
        "IPY_MODEL_6b124ff898084c609322b5d4038ca71f",
        "IPY_MODEL_7ea98574eddc4ee38d6d170b87450476"
       ],
       "layout": "IPY_MODEL_f451a3481ea1473f8ae84a1b81a4d045"
      }
     },
     "7a1a3cba45ff433590f8918ac4b2ac4b": {
      "model_module": "@jupyter-widgets/controls",
      "model_module_version": "1.5.0",
      "model_name": "DescriptionStyleModel",
      "state": {
       "description_width": ""
      }
     },
     "7a4ba08cdd1f42b9a9ae78e2a6bd2212": {
      "model_module": "@jupyter-widgets/controls",
      "model_module_version": "1.5.0",
      "model_name": "ProgressStyleModel",
      "state": {
       "description_width": ""
      }
     },
     "7ab2f7c86fdf451d84d74476cd07109a": {
      "model_module": "@jupyter-widgets/base",
      "model_module_version": "1.2.0",
      "model_name": "LayoutModel",
      "state": {
       "height": "32px",
       "overflow": "visible",
       "padding": "0px",
       "width": "100%"
      }
     },
     "7aebcbadf3d340bab66c63e7d7a023ac": {
      "model_module": "@jupyter-widgets/controls",
      "model_module_version": "1.5.0",
      "model_name": "DescriptionStyleModel",
      "state": {
       "description_width": ""
      }
     },
     "7b04c0d39a0b4b25902be09cfe2c1e37": {
      "model_module": "@jupyter-widgets/controls",
      "model_module_version": "1.5.0",
      "model_name": "VBoxModel",
      "state": {
       "children": [
        "IPY_MODEL_16038704daf7492bb119e2d5c973b9c8",
        "IPY_MODEL_06075dce9b6040309d14f052b2a2de36",
        "IPY_MODEL_19fb2b6e002f4dd78427c43dc3d83103",
        "IPY_MODEL_60db77cf118f4339958158ae96eb3570",
        "IPY_MODEL_976db47d171f471596c7241d7760eb15",
        "IPY_MODEL_ce4105fdb11945d3a2a79739aaa84a36",
        "IPY_MODEL_c9127ffbee0d4ab9935be7faf8ad1be7",
        "IPY_MODEL_ad8f8b4907764a3eb2a3a47b1b525fba",
        "IPY_MODEL_eaa08bb453cb43a7adaf9ee817fb2a76",
        "IPY_MODEL_b7c254b49f2148668b182c8bf727a2b2",
        "IPY_MODEL_0e90c1f41c4c4305b36a4fe2f124fb2f"
       ],
       "layout": "IPY_MODEL_6b0035a363834ed88617be7a0bda2f21"
      }
     },
     "7b75f32c23aa49b98414fa383a68aa1b": {
      "model_module": "@jupyter-widgets/base",
      "model_module_version": "1.2.0",
      "model_name": "LayoutModel",
      "state": {
       "width": "60px"
      }
     },
     "7bee93d448434915af82f5a5ac190604": {
      "model_module": "@jupyter-widgets/controls",
      "model_module_version": "1.5.0",
      "model_name": "LabelModel",
      "state": {
       "layout": "IPY_MODEL_2a03a836b7ce4166ae97c65564bab4cf",
       "style": "IPY_MODEL_e138a9ab83ff4ef8b2f9a544f5420e9d",
       "value": "     (1/1)"
      }
     },
     "7bf4ad17a9c3488894cae8fb8d501f7d": {
      "model_module": "@jupyter-widgets/controls",
      "model_module_version": "1.5.0",
      "model_name": "ProgressStyleModel",
      "state": {
       "description_width": ""
      }
     },
     "7c11999520e5456aade966b3b2abda7f": {
      "model_module": "@jupyter-widgets/base",
      "model_module_version": "1.2.0",
      "model_name": "LayoutModel",
      "state": {}
     },
     "7c40f00a11a142458343921eb3f59ff3": {
      "model_module": "@jupyter-widgets/controls",
      "model_module_version": "1.5.0",
      "model_name": "ButtonStyleModel",
      "state": {}
     },
     "7c7f8b0fa1a1489bb694c8bdfeead08d": {
      "model_module": "@jupyter-widgets/controls",
      "model_module_version": "1.5.0",
      "model_name": "IntProgressModel",
      "state": {
       "layout": "IPY_MODEL_7ab2f7c86fdf451d84d74476cd07109a",
       "style": "IPY_MODEL_b5a1996f368c4f01a7dbb64c8dac7272",
       "value": 30
      }
     },
     "7c84a1abe10d47acb4de7024e3a7b0cf": {
      "model_module": "@jupyter-widgets/controls",
      "model_module_version": "1.5.0",
      "model_name": "ButtonStyleModel",
      "state": {}
     },
     "7cbc70a5ff4143a9bb0f61ce60d85b12": {
      "model_module": "@jupyter-widgets/base",
      "model_module_version": "1.2.0",
      "model_name": "LayoutModel",
      "state": {
       "width": "60px"
      }
     },
     "7cc1eb99c6864d97b77a443f926d0199": {
      "model_module": "@jupyter-widgets/controls",
      "model_module_version": "1.5.0",
      "model_name": "CheckboxModel",
      "state": {
       "description": "Hide Pursuits",
       "disabled": false,
       "layout": "IPY_MODEL_20be9331e5f24cb390e9162b5f5b4d65",
       "style": "IPY_MODEL_758bcd01070d435dab35e273ce472daf",
       "value": false
      }
     },
     "7cf311ed1b2d4f86b22c18fb6ca092fa": {
      "model_module": "@jupyter-widgets/base",
      "model_module_version": "1.2.0",
      "model_name": "LayoutModel",
      "state": {
       "width": "60px"
      }
     },
     "7d1c84ff03684d16a37bd2093b432f2f": {
      "model_module": "@jupyter-widgets/base",
      "model_module_version": "1.2.0",
      "model_name": "LayoutModel",
      "state": {
       "overflow": "visible",
       "width": "100%"
      }
     },
     "7d4e20ea431a46b9ab57979fb02c1920": {
      "model_module": "@jupyter-widgets/controls",
      "model_module_version": "1.5.0",
      "model_name": "ButtonStyleModel",
      "state": {}
     },
     "7d5c8757e7a4441087d696f24ff7fe6a": {
      "model_module": "@jupyter-widgets/controls",
      "model_module_version": "1.5.0",
      "model_name": "HTMLModel",
      "state": {
       "layout": "IPY_MODEL_6077c654a25e407fa44948484b0c20ff",
       "style": "IPY_MODEL_8f5b77e767764478ba6f17e0939a04ba",
       "value": "<i></i>"
      }
     },
     "7d78ab083502485f8cad42bfb6d63a36": {
      "model_module": "@jupyter-widgets/controls",
      "model_module_version": "1.5.0",
      "model_name": "ProgressStyleModel",
      "state": {
       "description_width": ""
      }
     },
     "7d8f5887ca454414848f032a48c6b466": {
      "model_module": "@jupyter-widgets/base",
      "model_module_version": "1.2.0",
      "model_name": "LayoutModel",
      "state": {
       "width": "60px"
      }
     },
     "7d92d6e9fe2d4f46abc4e5e5fd2fe5d2": {
      "model_module": "@jupyter-widgets/controls",
      "model_module_version": "1.5.0",
      "model_name": "DescriptionStyleModel",
      "state": {
       "description_width": ""
      }
     },
     "7daea5bcef634cd28e616d14d620ec70": {
      "model_module": "@jupyter-widgets/base",
      "model_module_version": "1.2.0",
      "model_name": "LayoutModel",
      "state": {
       "width": "60px"
      }
     },
     "7dc5868379ee4cddb492f228023bc6b9": {
      "model_module": "@jupyter-widgets/controls",
      "model_module_version": "1.5.0",
      "model_name": "ButtonModel",
      "state": {
       "layout": "IPY_MODEL_f119f68547074a5c9b7861dd0e476f75",
       "style": "IPY_MODEL_eb568385533c45e481109ff81c6efaaa"
      }
     },
     "7e0a337dd5ba415a9a1af8fc864526fb": {
      "model_module": "@jupyter-widgets/controls",
      "model_module_version": "1.5.0",
      "model_name": "LabelModel",
      "state": {
       "layout": "IPY_MODEL_02a65ed5b87e417db0d02389d7a7aa38",
       "style": "IPY_MODEL_c689200d62864eea957ed9b53d58363a",
       "value": "             objective 2"
      }
     },
     "7e1fa34981034fdf846e606b256ed628": {
      "model_module": "@jupyter-widgets/controls",
      "model_module_version": "1.5.0",
      "model_name": "DescriptionStyleModel",
      "state": {
       "description_width": ""
      }
     },
     "7e24763e754b42809a3628d6243b2032": {
      "model_module": "@jupyter-widgets/controls",
      "model_module_version": "1.5.0",
      "model_name": "LabelModel",
      "state": {
       "layout": "IPY_MODEL_77ca4ec0767e43629d0245781730f6cb",
       "style": "IPY_MODEL_ee7de84fe0fa4aed84831765b5a79bc3",
       "value": "             objective 3"
      }
     },
     "7e67811bc2d340eaa57ddad7bbac478b": {
      "model_module": "@jupyter-widgets/controls",
      "model_module_version": "1.5.0",
      "model_name": "DescriptionStyleModel",
      "state": {
       "description_width": ""
      }
     },
     "7e981e91084447529b00b0caa6aa1cc7": {
      "model_module": "@jupyter-widgets/base",
      "model_module_version": "1.2.0",
      "model_name": "LayoutModel",
      "state": {
       "border": "3px solid white",
       "display": "flex",
       "margin": "10px",
       "overflow": "visible",
       "padding": "10px",
       "width": "400px"
      }
     },
     "7e9ac0cd7834473f8947189b2dac5871": {
      "model_module": "@jupyter-widgets/controls",
      "model_module_version": "1.5.0",
      "model_name": "ButtonStyleModel",
      "state": {}
     },
     "7ea98574eddc4ee38d6d170b87450476": {
      "model_module": "@jupyter-widgets/controls",
      "model_module_version": "1.5.0",
      "model_name": "ButtonModel",
      "state": {
       "description": "EDIT",
       "layout": "IPY_MODEL_cbcce32cb32147cd9145f278795aa024",
       "style": "IPY_MODEL_5fcdf4ac62c94ffcbe048ea478c6e027"
      }
     },
     "7eb9256572764a16b80566cc9de998de": {
      "model_module": "@jupyter-widgets/base",
      "model_module_version": "1.2.0",
      "model_name": "LayoutModel",
      "state": {
       "height": "32px",
       "overflow": "visible",
       "padding": "0px",
       "width": "100%"
      }
     },
     "7eba0e2e4dbe472bafca9950d9c5bb3b": {
      "model_module": "@jupyter-widgets/controls",
      "model_module_version": "1.5.0",
      "model_name": "ProgressStyleModel",
      "state": {
       "description_width": ""
      }
     },
     "7ebee4484bbb451497dcf99e673cc86c": {
      "model_module": "@jupyter-widgets/controls",
      "model_module_version": "1.5.0",
      "model_name": "DescriptionStyleModel",
      "state": {
       "description_width": ""
      }
     },
     "7ef27178a0af4a6a854860ff542dad9d": {
      "model_module": "@jupyter-widgets/controls",
      "model_module_version": "1.5.0",
      "model_name": "LabelModel",
      "state": {
       "layout": "IPY_MODEL_be921af9c19543a58a8508f5ad01b691",
       "style": "IPY_MODEL_580b70146dd0439daffe8ec16bfc4df9",
       "value": "             objective 3"
      }
     },
     "7f0c4677f80a45589f68581fc7d6dd4c": {
      "model_module": "@jupyter-widgets/controls",
      "model_module_version": "1.5.0",
      "model_name": "IntProgressModel",
      "state": {
       "layout": "IPY_MODEL_d79af918f7c24601b07b21c96ce75be2",
       "style": "IPY_MODEL_60b656437c2b4b668c053b476f5b4c11",
       "value": 30
      }
     },
     "7ffeef9c55f64be896595e0951d48830": {
      "model_module": "@jupyter-widgets/controls",
      "model_module_version": "1.5.0",
      "model_name": "HTMLModel",
      "state": {
       "layout": "IPY_MODEL_a3981816ffb749fea7f7c9d5f834bbca",
       "style": "IPY_MODEL_0d7a3500d2bd482c9817eebd8ea8f8b9",
       "value": "<i></i>"
      }
     },
     "800e7d18c82c4ef08be98acbac156be0": {
      "model_module": "@jupyter-widgets/controls",
      "model_module_version": "1.5.0",
      "model_name": "DescriptionStyleModel",
      "state": {
       "description_width": ""
      }
     },
     "805e879b1322474fbf45e4f8f8a05f73": {
      "model_module": "@jupyter-widgets/base",
      "model_module_version": "1.2.0",
      "model_name": "LayoutModel",
      "state": {
       "height": "32px",
       "overflow": "visible",
       "padding": "0px",
       "width": "100%"
      }
     },
     "806c1f07fdd646018ce421eadc19c447": {
      "model_module": "@jupyter-widgets/controls",
      "model_module_version": "1.5.0",
      "model_name": "ProgressStyleModel",
      "state": {
       "description_width": ""
      }
     },
     "806d6d5669ed4b119a562abfab820fd7": {
      "model_module": "@jupyter-widgets/controls",
      "model_module_version": "1.5.0",
      "model_name": "LabelModel",
      "state": {
       "layout": "IPY_MODEL_6839730e72df425ba8227d8a61caf696",
       "style": "IPY_MODEL_7a1a3cba45ff433590f8918ac4b2ac4b",
       "value": "     (0/1)"
      }
     },
     "80a57797e0cf4f6e845af9bf666c48df": {
      "model_module": "@jupyter-widgets/controls",
      "model_module_version": "1.5.0",
      "model_name": "HTMLModel",
      "state": {
       "layout": "IPY_MODEL_f395a95fd7764f0db143292b4fad3627",
       "style": "IPY_MODEL_8e76b660598743e6a40a5cdb4891c8d5",
       "value": "<font size=\"5\"><b>Quick Strike</b></font size=>"
      }
     },
     "810a59a0197f48038f3041736400c732": {
      "model_module": "@jupyter-widgets/base",
      "model_module_version": "1.2.0",
      "model_name": "LayoutModel",
      "state": {
       "height": "32px",
       "order": "-2",
       "width": "32px"
      }
     },
     "81720ff33763430fbe3759ad6dea3338": {
      "model_module": "@jupyter-widgets/controls",
      "model_module_version": "1.5.0",
      "model_name": "LabelModel",
      "state": {
       "layout": "IPY_MODEL_6839730e72df425ba8227d8a61caf696",
       "style": "IPY_MODEL_1fd0e132bcba4139917995d580626b4a",
       "value": "             objective 2"
      }
     },
     "81d5e90141a147c5a471d05beecf96d7": {
      "model_module": "@jupyter-widgets/controls",
      "model_module_version": "1.5.0",
      "model_name": "ButtonStyleModel",
      "state": {}
     },
     "822fc57ac1444ee3b595a475a69f2b8b": {
      "model_module": "@jupyter-widgets/controls",
      "model_module_version": "1.5.0",
      "model_name": "DescriptionStyleModel",
      "state": {
       "description_width": ""
      }
     },
     "8273aa15de65483895fe7c21cd03a3a4": {
      "model_module": "@jupyter-widgets/controls",
      "model_module_version": "1.5.0",
      "model_name": "ButtonStyleModel",
      "state": {}
     },
     "82b8c6de5caf4720ac65c4ff19aa5885": {
      "model_module": "@jupyter-widgets/controls",
      "model_module_version": "1.5.0",
      "model_name": "LabelModel",
      "state": {
       "layout": "IPY_MODEL_23b1c1ffc9ef4a5abdd53e4ddc878692",
       "style": "IPY_MODEL_b6e7d5d8f41c431a8f817f9040f95233",
       "value": "Tree:"
      }
     },
     "82e649930e6e439887738640ab30402f": {
      "model_module": "@jupyter-widgets/base",
      "model_module_version": "1.2.0",
      "model_name": "LayoutModel",
      "state": {
       "width": "60px"
      }
     },
     "8301567d897f4d32acf52bd873b3a49f": {
      "model_module": "@jupyter-widgets/controls",
      "model_module_version": "1.5.0",
      "model_name": "ButtonModel",
      "state": {
       "description": "EDIT",
       "layout": "IPY_MODEL_9665cfe1cc744501a3fa33df67725d65",
       "style": "IPY_MODEL_e90b9ac73f504a4a9a9c14584debe2e0"
      }
     },
     "830a166cd04a41ca87f5f5f51d1700b3": {
      "model_module": "@jupyter-widgets/controls",
      "model_module_version": "1.5.0",
      "model_name": "DescriptionStyleModel",
      "state": {
       "description_width": ""
      }
     },
     "8340cae2498949f88016d6c7434efe00": {
      "model_module": "@jupyter-widgets/base",
      "model_module_version": "1.2.0",
      "model_name": "LayoutModel",
      "state": {
       "display": "none"
      }
     },
     "8359149f5f134bc78ef4f7c1af54e8ff": {
      "model_module": "@jupyter-widgets/base",
      "model_module_version": "1.2.0",
      "model_name": "LayoutModel",
      "state": {
       "display": "flex",
       "flex_flow": "row wrap"
      }
     },
     "835e53f174e04f7887da7d1dda564a8b": {
      "model_module": "@jupyter-widgets/controls",
      "model_module_version": "1.5.0",
      "model_name": "HBoxModel",
      "state": {
       "children": [
        "IPY_MODEL_b35427f191674004a88082665a2806c7",
        "IPY_MODEL_851cfbaca0544c01a39db8f502257d29",
        "IPY_MODEL_a1645de8b4084e3c9377e34724f170d8",
        "IPY_MODEL_9bcc6e3f2b824369b7ad4cd9b912ff7f"
       ],
       "layout": "IPY_MODEL_b67aeea0ceef4635b75a99144d297e81"
      }
     },
     "8382b4ecf96a474fb5e863551d9be33b": {
      "model_module": "@jupyter-widgets/base",
      "model_module_version": "1.2.0",
      "model_name": "LayoutModel",
      "state": {
       "order": "-1",
       "overflow": "visible",
       "padding": "1px",
       "width": "0px"
      }
     },
     "83e416fc8fc44339842979d70d8e87ec": {
      "model_module": "@jupyter-widgets/controls",
      "model_module_version": "1.5.0",
      "model_name": "IntProgressModel",
      "state": {
       "layout": "IPY_MODEL_bd255d790df242498f51fc76a5be8b99",
       "style": "IPY_MODEL_4ada5ccb1b1e41a185271c88880b1163",
       "value": 30
      }
     },
     "840359c25e954a879085d9632b2d3e74": {
      "model_module": "@jupyter-widgets/controls",
      "model_module_version": "1.5.0",
      "model_name": "VBoxModel",
      "state": {
       "children": [
        "IPY_MODEL_a7a4f30027424891819507cd102f7c0e",
        "IPY_MODEL_ffd083ca138c44b9938d0dc622e2bd40"
       ],
       "layout": "IPY_MODEL_bfbcb696b54d40f6be61827ca679f081"
      }
     },
     "84212d451b914d7eab61d0be0f7f9771": {
      "model_module": "@jupyter-widgets/base",
      "model_module_version": "1.2.0",
      "model_name": "LayoutModel",
      "state": {
       "width": "60px"
      }
     },
     "8458afc0435c405c9ab5c5c930e42645": {
      "model_module": "@jupyter-widgets/controls",
      "model_module_version": "1.5.0",
      "model_name": "DropdownModel",
      "state": {
       "_options_labels": [
        "Any",
        "Patrol",
        "Gambit",
        "Reckoning",
        "Menagerie",
        "Vex Offensive",
        "Raid",
        "Strike",
        "Nightfall",
        "Crucible",
        "Forge"
       ],
       "index": 0,
       "layout": "IPY_MODEL_ecf0126975994a2e94ceee5fe9ab8c25",
       "style": "IPY_MODEL_a0b33856204544139fa086398defb8dd"
      }
     },
     "845fe5fc7d2f4e618e160cf227999130": {
      "model_module": "@jupyter-widgets/controls",
      "model_module_version": "1.5.0",
      "model_name": "IntProgressModel",
      "state": {
       "layout": "IPY_MODEL_27400526e0a442b7b7c4dbfd0bfeaceb",
       "style": "IPY_MODEL_565e6ddace344adb964124620925929e",
       "value": 30
      }
     },
     "8479cbfe8be44e538fe5e2c5d3f3a094": {
      "model_module": "@jupyter-widgets/controls",
      "model_module_version": "1.5.0",
      "model_name": "ButtonStyleModel",
      "state": {}
     },
     "847e93f2aaa843cda019fa5a4a0384af": {
      "model_module": "@jupyter-widgets/controls",
      "model_module_version": "1.5.0",
      "model_name": "HBoxModel",
      "state": {
       "children": [
        "IPY_MODEL_dbb143486976410799fef217cb1f5f5f",
        "IPY_MODEL_3ba93f052741424b9e843efd3aaa0468",
        "IPY_MODEL_5358123ae7594924ac5f1337adf769ff",
        "IPY_MODEL_6d640b30cdef4ce4bfeb1a9bd61290b4"
       ],
       "layout": "IPY_MODEL_7367c1276f07466e81c165bdd5d0dfa6"
      }
     },
     "84df6c3be7564e5f98b6736d6f12d265": {
      "model_module": "@jupyter-widgets/controls",
      "model_module_version": "1.5.0",
      "model_name": "DescriptionStyleModel",
      "state": {
       "description_width": ""
      }
     },
     "84e42cae4b65452dae200e6576f8c88f": {
      "model_module": "@jupyter-widgets/controls",
      "model_module_version": "1.5.0",
      "model_name": "ButtonModel",
      "state": {
       "description": "EDIT",
       "layout": "IPY_MODEL_765f06482ee949a389146b754d27be6c",
       "style": "IPY_MODEL_5a31d9d5ab8149d296b82cae13707e29"
      }
     },
     "85196424aecf48278e578ad2cbd02d89": {
      "model_module": "@jupyter-widgets/controls",
      "model_module_version": "1.5.0",
      "model_name": "DescriptionStyleModel",
      "state": {
       "description_width": ""
      }
     },
     "851cfbaca0544c01a39db8f502257d29": {
      "model_module": "@jupyter-widgets/controls",
      "model_module_version": "1.5.0",
      "model_name": "IntProgressModel",
      "state": {
       "layout": "IPY_MODEL_efb60c79236d457a97e0e8db813bd4cb",
       "style": "IPY_MODEL_dab7990781a84c12ad0847182344349f",
       "value": 30
      }
     },
     "851f17fb97c8405785e57569079d6f83": {
      "model_module": "@jupyter-widgets/controls",
      "model_module_version": "1.5.0",
      "model_name": "DescriptionStyleModel",
      "state": {
       "description_width": ""
      }
     },
     "8527718b7f874db3a6aeac3cd46ea35e": {
      "model_module": "@jupyter-widgets/controls",
      "model_module_version": "1.5.0",
      "model_name": "IntProgressModel",
      "state": {
       "layout": "IPY_MODEL_dc07c9b6f35643b9ae187c980ae46d86",
       "style": "IPY_MODEL_cd5f948b765d43729b0f1df7f8835d35",
       "value": 30
      }
     },
     "85d7af0b76a94463b105f2f650527931": {
      "model_module": "@jupyter-widgets/controls",
      "model_module_version": "1.5.0",
      "model_name": "HTMLModel",
      "state": {
       "layout": "IPY_MODEL_4b70296de83d49bc87135a74a3196b8c",
       "style": "IPY_MODEL_c19a3af31c274ad395296547c5ccbd37",
       "value": "<i></i>"
      }
     },
     "85e3ff82ec9942b9a948f36134d46588": {
      "model_module": "@jupyter-widgets/controls",
      "model_module_version": "1.5.0",
      "model_name": "IntProgressModel",
      "state": {
       "layout": "IPY_MODEL_7eb9256572764a16b80566cc9de998de",
       "style": "IPY_MODEL_aa95f91a3a87479fb6dc0cdab6a7c261",
       "value": 30
      }
     },
     "86246a450ca14dba856e97773d139d37": {
      "model_module": "@jupyter-widgets/controls",
      "model_module_version": "1.5.0",
      "model_name": "DescriptionStyleModel",
      "state": {
       "description_width": ""
      }
     },
     "8650e893ae8347d8893ecec545bf77eb": {
      "model_module": "@jupyter-widgets/controls",
      "model_module_version": "1.5.0",
      "model_name": "IntProgressModel",
      "state": {
       "layout": "IPY_MODEL_805e879b1322474fbf45e4f8f8a05f73",
       "style": "IPY_MODEL_34aa1ea9e21243d48992abdaf7543dbd",
       "value": 30
      }
     },
     "8653ae4dfa5c42dc9a0a03bce9104c6d": {
      "model_module": "@jupyter-widgets/controls",
      "model_module_version": "1.5.0",
      "model_name": "HBoxModel",
      "state": {
       "children": [
        "IPY_MODEL_c33e99589cc34088956f292a599781f6",
        "IPY_MODEL_316d33ff1313459b89d18079840d6331",
        "IPY_MODEL_efe0c8787b174b5aa86c72f46735ac4e",
        "IPY_MODEL_356fbec3aad94e109444fdecce0bdd44"
       ],
       "layout": "IPY_MODEL_44dd12d238274245a0ec411264bb4d9c"
      }
     },
     "86911360a032476192e2e6493fd60ff3": {
      "model_module": "@jupyter-widgets/controls",
      "model_module_version": "1.5.0",
      "model_name": "ButtonModel",
      "state": {
       "description": "Next Page",
       "layout": "IPY_MODEL_5f1803c84f944ca3928e4be812d589b6",
       "style": "IPY_MODEL_eab244bfe9e34657a4abee2a16f098a8"
      }
     },
     "86a81e2b49d347f8b98a3080a9b9df95": {
      "model_module": "@jupyter-widgets/controls",
      "model_module_version": "1.5.0",
      "model_name": "ProgressStyleModel",
      "state": {
       "description_width": ""
      }
     },
     "86ac1259b6454884aceeeb41af57616e": {
      "model_module": "@jupyter-widgets/controls",
      "model_module_version": "1.5.0",
      "model_name": "LabelModel",
      "state": {
       "layout": "IPY_MODEL_58a9efa8c1004142b339d418615b8a78",
       "style": "IPY_MODEL_137bbb4267524118b2dcfac9d87c6b85",
       "value": "             objective 5"
      }
     },
     "86b01e9d8f874ece81b4e6938127f563": {
      "model_module": "@jupyter-widgets/controls",
      "model_module_version": "1.5.0",
      "model_name": "ButtonStyleModel",
      "state": {}
     },
     "86c532203ac2409cbb810bb6a40f5cd4": {
      "model_module": "@jupyter-widgets/controls",
      "model_module_version": "1.5.0",
      "model_name": "ButtonModel",
      "state": {
       "layout": "IPY_MODEL_6699ef01bd5d4bceabd3d7bb083274d6",
       "style": "IPY_MODEL_59bdd243f2e3427ea9ae03237160374d"
      }
     },
     "871981713d29498c93ab77c778bf4411": {
      "model_module": "@jupyter-widgets/controls",
      "model_module_version": "1.5.0",
      "model_name": "DescriptionStyleModel",
      "state": {
       "description_width": ""
      }
     },
     "872226ad2a934314a1a7be970c1e6c9d": {
      "model_module": "@jupyter-widgets/controls",
      "model_module_version": "1.5.0",
      "model_name": "DescriptionStyleModel",
      "state": {
       "description_width": ""
      }
     },
     "8783b3f0797543f68b10a73db0cac6ee": {
      "model_module": "@jupyter-widgets/controls",
      "model_module_version": "1.5.0",
      "model_name": "IntProgressModel",
      "state": {
       "layout": "IPY_MODEL_dc07c9b6f35643b9ae187c980ae46d86",
       "style": "IPY_MODEL_c8d401a3208e41d8a1044c4e08884cd3",
       "value": 30
      }
     },
     "87955b18b1ef49118e57b4c31eeb7398": {
      "model_module": "@jupyter-widgets/controls",
      "model_module_version": "1.5.0",
      "model_name": "ButtonModel",
      "state": {
       "button_style": "success",
       "disabled": true,
       "layout": "IPY_MODEL_810a59a0197f48038f3041736400c732",
       "style": "IPY_MODEL_b5b89735b9474c5a90420fbae0957c6e"
      }
     },
     "87c82a3348464a10b5f78c8e59115894": {
      "model_module": "@jupyter-widgets/base",
      "model_module_version": "1.2.0",
      "model_name": "LayoutModel",
      "state": {
       "display": "flex"
      }
     },
     "87cde16b075747b2a105d3d5ba784fe5": {
      "model_module": "@jupyter-widgets/controls",
      "model_module_version": "1.5.0",
      "model_name": "LabelModel",
      "state": {
       "layout": "IPY_MODEL_df00d075487c4c0db73993d548632bd8",
       "style": "IPY_MODEL_c759af8a00ab48ffa1b57303d32b8ddf",
       "value": "             objective 2"
      }
     },
     "87e7ad96c8e04a42a5a03f8a846ad06d": {
      "model_module": "@jupyter-widgets/controls",
      "model_module_version": "1.5.0",
      "model_name": "DescriptionStyleModel",
      "state": {
       "description_width": ""
      }
     },
     "886f69b84094471c90576e90931248c1": {
      "model_module": "@jupyter-widgets/controls",
      "model_module_version": "1.5.0",
      "model_name": "ProgressStyleModel",
      "state": {
       "description_width": ""
      }
     },
     "887961b10063469f82415b30094bb949": {
      "model_module": "@jupyter-widgets/controls",
      "model_module_version": "1.5.0",
      "model_name": "HTMLModel",
      "state": {
       "layout": "IPY_MODEL_9d2c081af6a94d299a4dba3531607c52",
       "style": "IPY_MODEL_648577d68e9144579d6fd76f52f58419",
       "value": "<i>Defeat an opponent within the first 20 seconds of a match.</i>"
      }
     },
     "888f073380644088a9042ce56a74035e": {
      "model_module": "@jupyter-widgets/controls",
      "model_module_version": "1.5.0",
      "model_name": "ButtonModel",
      "state": {
       "layout": "IPY_MODEL_5273f5c4c6674e88ace0dee1b367a13e",
       "style": "IPY_MODEL_dcfd9122558a4e5bad64d9c7ac8b7a2d"
      }
     },
     "88e50116aa214761b3ba7199bfbd43c5": {
      "model_module": "@jupyter-widgets/base",
      "model_module_version": "1.2.0",
      "model_name": "LayoutModel",
      "state": {
       "display": "none"
      }
     },
     "88ed23222f10449194fbbab46db54e38": {
      "model_module": "@jupyter-widgets/controls",
      "model_module_version": "1.5.0",
      "model_name": "HTMLModel",
      "state": {
       "layout": "IPY_MODEL_60ba632d2d2e4182a6a5a4a1b02abec3",
       "style": "IPY_MODEL_eaa83ecf9fb146ff8c3b1d1f7119d18c",
       "value": "<i>With any Bow, land final blows and precision final blows. Earn the medal \"My Bowfriend's Back.\"</i>"
      }
     },
     "890176c16e304baf8bf62137258a70b9": {
      "model_module": "@jupyter-widgets/base",
      "model_module_version": "1.2.0",
      "model_name": "LayoutModel",
      "state": {
       "width": "60px"
      }
     },
     "89017888e9cf48b79a47dfcc94b34e3d": {
      "model_module": "@jupyter-widgets/controls",
      "model_module_version": "1.5.0",
      "model_name": "ButtonStyleModel",
      "state": {}
     },
     "8904cfd5c8fe4d5d9a025d57daed661d": {
      "model_module": "@jupyter-widgets/controls",
      "model_module_version": "1.5.0",
      "model_name": "DescriptionStyleModel",
      "state": {
       "description_width": ""
      }
     },
     "89c769dcacea4eeea7ca94d76be12e7b": {
      "model_module": "@jupyter-widgets/controls",
      "model_module_version": "1.5.0",
      "model_name": "DescriptionStyleModel",
      "state": {
       "description_width": ""
      }
     },
     "8a171bebf0b246f282df7a77f509b4dd": {
      "model_module": "@jupyter-widgets/controls",
      "model_module_version": "1.5.0",
      "model_name": "DescriptionStyleModel",
      "state": {
       "description_width": ""
      }
     },
     "8a1851508e494db08a66afab04d047f5": {
      "model_module": "@jupyter-widgets/controls",
      "model_module_version": "1.5.0",
      "model_name": "HBoxModel",
      "state": {
       "children": [
        "IPY_MODEL_eabfd11278ec49d7a3bce58606258faf",
        "IPY_MODEL_579e62b5df764f05ad52271f7791a79e",
        "IPY_MODEL_c4d06d2976884c0e845034bf4c623131",
        "IPY_MODEL_49574dd5f0fa4a909fdd32cc9524567c",
        "IPY_MODEL_ab290bfd2b994372920ae71a38392265"
       ],
       "layout": "IPY_MODEL_b42d8a03a702480696bbea3f3169aa06"
      }
     },
     "8a5fa1ef39044a84aa499fe88e88ef96": {
      "model_module": "@jupyter-widgets/controls",
      "model_module_version": "1.5.0",
      "model_name": "DescriptionStyleModel",
      "state": {
       "description_width": ""
      }
     },
     "8a6bb3af702a4f4685a14f3f243043a6": {
      "model_module": "@jupyter-widgets/controls",
      "model_module_version": "1.5.0",
      "model_name": "HBoxModel",
      "state": {
       "children": [
        "IPY_MODEL_247e0322996f41f5b7cef9cb7093bd5d",
        "IPY_MODEL_0f7025081790494e9932b96bffd15a1b",
        "IPY_MODEL_11a6d88bb8e749fe8353489905118dbf",
        "IPY_MODEL_4334b271344e4089af4f87be1f2ec7f6"
       ],
       "layout": "IPY_MODEL_8c0531b6b189471f9b672cf865a5e700"
      }
     },
     "8ad74e5092c8411793f8d85b83cebcd7": {
      "model_module": "@jupyter-widgets/controls",
      "model_module_version": "1.5.0",
      "model_name": "DescriptionStyleModel",
      "state": {
       "description_width": ""
      }
     },
     "8b4f7d3a08f448e38f0925868f5aa589": {
      "model_module": "@jupyter-widgets/controls",
      "model_module_version": "1.5.0",
      "model_name": "DescriptionStyleModel",
      "state": {
       "description_width": ""
      }
     },
     "8b5937593a6741f2b2acadcaf8e97ee5": {
      "model_module": "@jupyter-widgets/base",
      "model_module_version": "1.2.0",
      "model_name": "LayoutModel",
      "state": {
       "width": "60px"
      }
     },
     "8b5f478bf02344a6becaa42badb84f64": {
      "model_module": "@jupyter-widgets/controls",
      "model_module_version": "1.5.0",
      "model_name": "LabelModel",
      "state": {
       "layout": "IPY_MODEL_a20693167e9543fb82efaeff514928db",
       "style": "IPY_MODEL_87e7ad96c8e04a42a5a03f8a846ad06d",
       "value": "             objective 1"
      }
     },
     "8b7f5beb7db744918eeb1d8848dc31c3": {
      "model_module": "@jupyter-widgets/base",
      "model_module_version": "1.2.0",
      "model_name": "LayoutModel",
      "state": {
       "display": "none"
      }
     },
     "8baf94e8142a4b5e8141d3facb2e0c7d": {
      "model_module": "@jupyter-widgets/base",
      "model_module_version": "1.2.0",
      "model_name": "LayoutModel",
      "state": {
       "overflow": "visible",
       "width": "100%"
      }
     },
     "8bbe1e6fbc4f4bf5b4bfed60bfd16198": {
      "model_module": "@jupyter-widgets/controls",
      "model_module_version": "1.5.0",
      "model_name": "ButtonModel",
      "state": {
       "description": "EDIT",
       "layout": "IPY_MODEL_1935970024fc464fab7afa8e6fa6f0c9",
       "style": "IPY_MODEL_ad7c0f49615c4796b6454c015eb583ae"
      }
     },
     "8bc2eb2da6c54216a40128a8bb39a032": {
      "model_module": "@jupyter-widgets/controls",
      "model_module_version": "1.5.0",
      "model_name": "DescriptionStyleModel",
      "state": {
       "description_width": ""
      }
     },
     "8bdab988238140efb2dd9de2de9ddbc4": {
      "model_module": "@jupyter-widgets/controls",
      "model_module_version": "1.5.0",
      "model_name": "IntProgressModel",
      "state": {
       "layout": "IPY_MODEL_d79af918f7c24601b07b21c96ce75be2",
       "style": "IPY_MODEL_1313e3bc7da343d380023e647308246a",
       "value": 30
      }
     },
     "8c0531b6b189471f9b672cf865a5e700": {
      "model_module": "@jupyter-widgets/base",
      "model_module_version": "1.2.0",
      "model_name": "LayoutModel",
      "state": {
       "display": "flex"
      }
     },
     "8c22a563595c45019d1f445243bcae45": {
      "model_module": "@jupyter-widgets/base",
      "model_module_version": "1.2.0",
      "model_name": "LayoutModel",
      "state": {}
     },
     "8c28bd0503c94118bf1b73dade34d683": {
      "model_module": "@jupyter-widgets/controls",
      "model_module_version": "1.5.0",
      "model_name": "ButtonModel",
      "state": {
       "layout": "IPY_MODEL_f1604c54a4294deb9a3c49812ff897fe",
       "style": "IPY_MODEL_37fb0b00ab0f46c59ad8b935143ef514"
      }
     },
     "8c32d2759ff94bfc812d099f775f1ffe": {
      "model_module": "@jupyter-widgets/controls",
      "model_module_version": "1.5.0",
      "model_name": "ButtonModel",
      "state": {
       "layout": "IPY_MODEL_810a59a0197f48038f3041736400c732",
       "style": "IPY_MODEL_da78bd7c41e142d79a94c73deee7e1cd"
      }
     },
     "8c8a7a1bfaf646259816eebbd4990a5c": {
      "model_module": "@jupyter-widgets/controls",
      "model_module_version": "1.5.0",
      "model_name": "DescriptionStyleModel",
      "state": {
       "description_width": ""
      }
     },
     "8d0c0d2f64bb4d9dbb6ab43be9feea0b": {
      "model_module": "@jupyter-widgets/controls",
      "model_module_version": "1.5.0",
      "model_name": "HBoxModel",
      "state": {
       "children": [
        "IPY_MODEL_d1805f0d23ac44a3b4264493654d9815",
        "IPY_MODEL_f217697126b446bd8e8860ce0dd4a495",
        "IPY_MODEL_e39761b67f0845798f03539e4d733db9",
        "IPY_MODEL_47dc4211ad77478baf04fe79efdef8c7"
       ],
       "layout": "IPY_MODEL_c88356fc880c4a05965ec4874d97366f"
      }
     },
     "8d1f173f8c7444dabe7e659b81253982": {
      "model_module": "@jupyter-widgets/controls",
      "model_module_version": "1.5.0",
      "model_name": "ButtonModel",
      "state": {
       "description": "EDIT",
       "layout": "IPY_MODEL_890176c16e304baf8bf62137258a70b9",
       "style": "IPY_MODEL_c282b637a77842c1ad93248a16cc37fa"
      }
     },
     "8d3796ad3b304e3f8e8186b74bdfe9d3": {
      "model_module": "@jupyter-widgets/controls",
      "model_module_version": "1.5.0",
      "model_name": "ButtonModel",
      "state": {
       "layout": "IPY_MODEL_6699ef01bd5d4bceabd3d7bb083274d6",
       "style": "IPY_MODEL_1c8136ae516149ea9c6141c6d19292e9"
      }
     },
     "8d594f4f4b7540b6843d4a2df82b0e49": {
      "model_module": "@jupyter-widgets/controls",
      "model_module_version": "1.5.0",
      "model_name": "HTMLModel",
      "state": {
       "layout": "IPY_MODEL_a28b24d8442141eab9527fa32477a086",
       "style": "IPY_MODEL_94290a33a2f94614b63cb5e4eb11f1e5",
       "value": "<font size=\"5\"><b>Bow Mastery</b></font size=>"
      }
     },
     "8dd46b32f0e44c9f9627129c241e0965": {
      "model_module": "@jupyter-widgets/controls",
      "model_module_version": "1.5.0",
      "model_name": "ProgressStyleModel",
      "state": {
       "description_width": ""
      }
     },
     "8e40bc3a43964f5992dbc7f5868aa1e9": {
      "model_module": "@jupyter-widgets/controls",
      "model_module_version": "1.5.0",
      "model_name": "DescriptionStyleModel",
      "state": {
       "description_width": ""
      }
     },
     "8e76b660598743e6a40a5cdb4891c8d5": {
      "model_module": "@jupyter-widgets/controls",
      "model_module_version": "1.5.0",
      "model_name": "DescriptionStyleModel",
      "state": {
       "description_width": ""
      }
     },
     "8e8f0ba743054b1d937abcf369f8f156": {
      "model_module": "@jupyter-widgets/controls",
      "model_module_version": "1.5.0",
      "model_name": "ButtonStyleModel",
      "state": {}
     },
     "8ea7ec15fd1d490abba3b1c04a1e6ee6": {
      "model_module": "@jupyter-widgets/controls",
      "model_module_version": "1.5.0",
      "model_name": "DescriptionStyleModel",
      "state": {
       "description_width": ""
      }
     },
     "8ebbe83e304d4b9bba3f51649e8f8ae6": {
      "model_module": "@jupyter-widgets/controls",
      "model_module_version": "1.5.0",
      "model_name": "IntProgressModel",
      "state": {
       "layout": "IPY_MODEL_dc07c9b6f35643b9ae187c980ae46d86",
       "style": "IPY_MODEL_bb593cfa1e7b42789b0c42fe2482980e",
       "value": 30
      }
     },
     "8ef02f45ad1c43cfa313acdad8c2a62b": {
      "model_module": "@jupyter-widgets/base",
      "model_module_version": "1.2.0",
      "model_name": "LayoutModel",
      "state": {
       "width": "60px"
      }
     },
     "8f133c0013dc4b31943d52d93b17a00d": {
      "model_module": "@jupyter-widgets/controls",
      "model_module_version": "1.5.0",
      "model_name": "LabelModel",
      "state": {
       "layout": "IPY_MODEL_01c6afff824d439c83ae58bbcbaf2c4b",
       "style": "IPY_MODEL_a55a8e9e8e754d07acadccdbdf0593f2",
       "value": "             objective 4"
      }
     },
     "8f5b77e767764478ba6f17e0939a04ba": {
      "model_module": "@jupyter-widgets/controls",
      "model_module_version": "1.5.0",
      "model_name": "DescriptionStyleModel",
      "state": {
       "description_width": ""
      }
     },
     "8f85c256c49045f8a9efc3db647c0dd9": {
      "model_module": "@jupyter-widgets/controls",
      "model_module_version": "1.5.0",
      "model_name": "LabelModel",
      "state": {
       "layout": "IPY_MODEL_23b1c1ffc9ef4a5abdd53e4ddc878692",
       "style": "IPY_MODEL_750f76f2a88f4654a28c0a1c26013b81",
       "value": "Subclass:"
      }
     },
     "8f87f9b55fc94240aae2874e09ba8c93": {
      "model_module": "@jupyter-widgets/controls",
      "model_module_version": "1.5.0",
      "model_name": "ButtonModel",
      "state": {
       "description": "EDIT",
       "layout": "IPY_MODEL_f3c5a60cb2af40869eaa66d247e25b8a",
       "style": "IPY_MODEL_c97de60e472b49b084f17c4b8c6428dd"
      }
     },
     "90440be4424d46a5a56c6d08a8e509d6": {
      "model_module": "@jupyter-widgets/base",
      "model_module_version": "1.2.0",
      "model_name": "LayoutModel",
      "state": {
       "width": "60px"
      }
     },
     "90a02c9f323046f5aae0684a3db049b4": {
      "model_module": "@jupyter-widgets/controls",
      "model_module_version": "1.5.0",
      "model_name": "DescriptionStyleModel",
      "state": {
       "description_width": ""
      }
     },
     "90bebcf4a4ad436e8285f3faa2ccbfe3": {
      "model_module": "@jupyter-widgets/controls",
      "model_module_version": "1.5.0",
      "model_name": "ProgressStyleModel",
      "state": {
       "description_width": ""
      }
     },
     "90e1b27d538841da9a693cf74dfa0aac": {
      "model_module": "@jupyter-widgets/controls",
      "model_module_version": "1.5.0",
      "model_name": "ProgressStyleModel",
      "state": {
       "description_width": ""
      }
     },
     "9120e61f298e4cb0927ae13cc10b99a5": {
      "model_module": "@jupyter-widgets/controls",
      "model_module_version": "1.5.0",
      "model_name": "HBoxModel",
      "state": {
       "children": [
        "IPY_MODEL_0b3691dc07134fe59d4ac1159dbfaf43",
        "IPY_MODEL_8527718b7f874db3a6aeac3cd46ea35e",
        "IPY_MODEL_7e24763e754b42809a3628d6243b2032",
        "IPY_MODEL_b7b98893b53d46389c5d5301938b6808"
       ],
       "layout": "IPY_MODEL_b6c89fa07ac543878939fb7a2ba1fc3b"
      }
     },
     "9223eef5458d4972b37f756a5974d100": {
      "model_module": "@jupyter-widgets/base",
      "model_module_version": "1.2.0",
      "model_name": "LayoutModel",
      "state": {
       "overflow": "visible",
       "width": "100%"
      }
     },
     "92370613cdcf477299453a8fc1edc782": {
      "model_module": "@jupyter-widgets/base",
      "model_module_version": "1.2.0",
      "model_name": "LayoutModel",
      "state": {
       "display": "none"
      }
     },
     "927c81a33bd9475dad39b0c418eb3cd7": {
      "model_module": "@jupyter-widgets/controls",
      "model_module_version": "1.5.0",
      "model_name": "ButtonStyleModel",
      "state": {}
     },
     "929fed715f084d78837e8e279cad32d4": {
      "model_module": "@jupyter-widgets/controls",
      "model_module_version": "1.5.0",
      "model_name": "IntProgressModel",
      "state": {
       "layout": "IPY_MODEL_d3f365df8c9442de8da92df2817e8ce6",
       "style": "IPY_MODEL_7528501d741b400bb5331b2ea2f3efe1",
       "value": 30
      }
     },
     "931f64852d9d48d8980801bbddb7643e": {
      "model_module": "@jupyter-widgets/controls",
      "model_module_version": "1.5.0",
      "model_name": "LabelModel",
      "state": {
       "layout": "IPY_MODEL_a20693167e9543fb82efaeff514928db",
       "style": "IPY_MODEL_e613c470d56a4295999bbff2f0d922ea",
       "value": "             objective 5"
      }
     },
     "933281f4aea04d44a56139eef7036280": {
      "model_module": "@jupyter-widgets/controls",
      "model_module_version": "1.5.0",
      "model_name": "ProgressStyleModel",
      "state": {
       "description_width": ""
      }
     },
     "93464af318b344a5bd4546516317d805": {
      "model_module": "@jupyter-widgets/controls",
      "model_module_version": "1.5.0",
      "model_name": "DescriptionStyleModel",
      "state": {
       "description_width": ""
      }
     },
     "9368b5a5f05544a7b06c964e738d7207": {
      "model_module": "@jupyter-widgets/controls",
      "model_module_version": "1.5.0",
      "model_name": "ButtonStyleModel",
      "state": {}
     },
     "93799b4031c64d2e88834fad0ff65ac2": {
      "model_module": "@jupyter-widgets/base",
      "model_module_version": "1.2.0",
      "model_name": "LayoutModel",
      "state": {
       "display": "none"
      }
     },
     "9382494ffa714376be4c1aa07a5f732e": {
      "model_module": "@jupyter-widgets/controls",
      "model_module_version": "1.5.0",
      "model_name": "ButtonStyleModel",
      "state": {}
     },
     "93a25057bfc749d8b21d3dbf2d4b4f77": {
      "model_module": "@jupyter-widgets/base",
      "model_module_version": "1.2.0",
      "model_name": "LayoutModel",
      "state": {
       "display": "none"
      }
     },
     "94290a33a2f94614b63cb5e4eb11f1e5": {
      "model_module": "@jupyter-widgets/controls",
      "model_module_version": "1.5.0",
      "model_name": "DescriptionStyleModel",
      "state": {
       "description_width": ""
      }
     },
     "949ebd22663f4671ac471b9275b9e6b6": {
      "model_module": "@jupyter-widgets/controls",
      "model_module_version": "1.5.0",
      "model_name": "ButtonModel",
      "state": {
       "description": "EDIT",
       "layout": "IPY_MODEL_4772641b84ad45369f9dd0e6e3ef8a3a",
       "style": "IPY_MODEL_3eca067d3ab94e80b25c8db5db52941c"
      }
     },
     "94be1e01cfac49a0946f38349d7f2103": {
      "model_module": "@jupyter-widgets/controls",
      "model_module_version": "1.5.0",
      "model_name": "ButtonStyleModel",
      "state": {}
     },
     "94d2d37784514838bddc40cbe13c3000": {
      "model_module": "@jupyter-widgets/base",
      "model_module_version": "1.2.0",
      "model_name": "LayoutModel",
      "state": {}
     },
     "960fbdc310914e2c90f0d28d8fbe0ce8": {
      "model_module": "@jupyter-widgets/controls",
      "model_module_version": "1.5.0",
      "model_name": "ProgressStyleModel",
      "state": {
       "description_width": ""
      }
     },
     "9619808d4f5d4a7195dd1a49f93344ef": {
      "model_module": "@jupyter-widgets/controls",
      "model_module_version": "1.5.0",
      "model_name": "DescriptionStyleModel",
      "state": {
       "description_width": ""
      }
     },
     "96503e184327413da31f18df40f72ead": {
      "model_module": "@jupyter-widgets/controls",
      "model_module_version": "1.5.0",
      "model_name": "DescriptionStyleModel",
      "state": {
       "description_width": ""
      }
     },
     "965678ae4a714403b9d7d33197ad1b3e": {
      "model_module": "@jupyter-widgets/controls",
      "model_module_version": "1.5.0",
      "model_name": "DescriptionStyleModel",
      "state": {
       "description_width": ""
      }
     },
     "9665cfe1cc744501a3fa33df67725d65": {
      "model_module": "@jupyter-widgets/base",
      "model_module_version": "1.2.0",
      "model_name": "LayoutModel",
      "state": {
       "width": "60px"
      }
     },
     "96925237bbdf482494a762f07a4d13dc": {
      "model_module": "@jupyter-widgets/base",
      "model_module_version": "1.2.0",
      "model_name": "LayoutModel",
      "state": {
       "overflow": "visible",
       "width": "100%"
      }
     },
     "96ba16677d704351944aca325ab1e919": {
      "model_module": "@jupyter-widgets/controls",
      "model_module_version": "1.5.0",
      "model_name": "ButtonModel",
      "state": {
       "button_style": "success",
       "disabled": true,
       "layout": "IPY_MODEL_4f92c5719b53461082e38f932605ab3d",
       "style": "IPY_MODEL_f941ec0e7ae44c468ecadb09ef23f110"
      }
     },
     "96bd9183b9ae481e9b984bfb0a50acbf": {
      "model_module": "@jupyter-widgets/controls",
      "model_module_version": "1.5.0",
      "model_name": "ButtonModel",
      "state": {
       "layout": "IPY_MODEL_4f92c5719b53461082e38f932605ab3d",
       "style": "IPY_MODEL_363a419263ba4af7a52ea35a86d159ae"
      }
     },
     "96d5279d666b4a74ac9bfa0f03ea0440": {
      "model_module": "@jupyter-widgets/controls",
      "model_module_version": "1.5.0",
      "model_name": "ButtonModel",
      "state": {
       "description": "EDIT",
       "layout": "IPY_MODEL_b8d4735bbc444ab088aa7b4348d9e639",
       "style": "IPY_MODEL_7c40f00a11a142458343921eb3f59ff3"
      }
     },
     "976db47d171f471596c7241d7760eb15": {
      "model_module": "@jupyter-widgets/controls",
      "model_module_version": "1.5.0",
      "model_name": "DropdownModel",
      "state": {
       "_options_labels": [
        "Any",
        "Hand Cannon",
        "Auto Rifle",
        "Scout Rifle",
        "Pulse Rifle",
        "Sidearm",
        "Submachine Gun",
        "Combt Bow",
        "Sniper Rifle",
        "Shotgun",
        "Fusion Rifle",
        "Grenade Launcher"
       ],
       "index": 0,
       "layout": "IPY_MODEL_23b1c1ffc9ef4a5abdd53e4ddc878692",
       "style": "IPY_MODEL_f298d16cc7df4555b62b6f0a152ec540"
      }
     },
     "9789cdb349a24ee78771c356bb69e5c1": {
      "model_module": "@jupyter-widgets/base",
      "model_module_version": "1.2.0",
      "model_name": "LayoutModel",
      "state": {
       "display": "none"
      }
     },
     "97ab9ccb3f324317a8cf0b03c41cc40c": {
      "model_module": "@jupyter-widgets/base",
      "model_module_version": "1.2.0",
      "model_name": "LayoutModel",
      "state": {
       "display": "none"
      }
     },
     "97c57ba7ae384bde92f8366dfc48571c": {
      "model_module": "@jupyter-widgets/base",
      "model_module_version": "1.2.0",
      "model_name": "LayoutModel",
      "state": {
       "width": "60px"
      }
     },
     "9807cebe7d3c42f3a4f5b90f6f67a602": {
      "model_module": "@jupyter-widgets/base",
      "model_module_version": "1.2.0",
      "model_name": "LayoutModel",
      "state": {
       "overflow": "visible",
       "width": "100%"
      }
     },
     "9820a566b5ae4b578b9f58880d4e654b": {
      "model_module": "@jupyter-widgets/controls",
      "model_module_version": "1.5.0",
      "model_name": "ButtonStyleModel",
      "state": {}
     },
     "985e8714dd4744c4ac0821f43ddbbe2b": {
      "model_module": "@jupyter-widgets/controls",
      "model_module_version": "1.5.0",
      "model_name": "LabelModel",
      "state": {
       "layout": "IPY_MODEL_be921af9c19543a58a8508f5ad01b691",
       "style": "IPY_MODEL_a2e6aea166344716a0d29947cd132a51",
       "value": "             objective 5"
      }
     },
     "98a9c49fc1f64ba780caf4d5e90fec58": {
      "model_module": "@jupyter-widgets/controls",
      "model_module_version": "1.5.0",
      "model_name": "IntProgressModel",
      "state": {
       "layout": "IPY_MODEL_7eb9256572764a16b80566cc9de998de",
       "style": "IPY_MODEL_f347374d76f24875973ca4350c4313ab",
       "value": 30
      }
     },
     "98b7515a11e24ad5af803f261ac49bd9": {
      "model_module": "@jupyter-widgets/controls",
      "model_module_version": "1.5.0",
      "model_name": "HBoxModel",
      "state": {
       "children": [
        "IPY_MODEL_fd12482e44ce4771bed39749f8d77f3e",
        "IPY_MODEL_845fe5fc7d2f4e618e160cf227999130",
        "IPY_MODEL_689c12635bb24ff6a51b7bde679d3dc3",
        "IPY_MODEL_466b0385de614f8aa35d2277867b23fe"
       ],
       "layout": "IPY_MODEL_fa57a386fe8e45f7bf7885a511a19acc"
      }
     },
     "98e3fbf8b9c24130854dd8318e7eb92f": {
      "model_module": "@jupyter-widgets/controls",
      "model_module_version": "1.5.0",
      "model_name": "ButtonModel",
      "state": {
       "layout": "IPY_MODEL_21f202eb90994d40973b8d6a7771461b",
       "style": "IPY_MODEL_aac0f6c8655d463294f2c4264c69008b"
      }
     },
     "99239d4466da4ed6a905dc2e3c1d24cd": {
      "model_module": "@jupyter-widgets/controls",
      "model_module_version": "1.5.0",
      "model_name": "ButtonModel",
      "state": {
       "layout": "IPY_MODEL_6699ef01bd5d4bceabd3d7bb083274d6",
       "style": "IPY_MODEL_d54a7a8d12a34c1bb2ceaf1f5c15bd22"
      }
     },
     "994c7069310b457abbc2706d598471a7": {
      "model_module": "@jupyter-widgets/controls",
      "model_module_version": "1.5.0",
      "model_name": "HBoxModel",
      "state": {
       "children": [
        "IPY_MODEL_1950dc0ce1854647a004ca1911a8b55b",
        "IPY_MODEL_c319605c0eba47a682002b121d3ea20b",
        "IPY_MODEL_7bee93d448434915af82f5a5ac190604",
        "IPY_MODEL_8f87f9b55fc94240aae2874e09ba8c93"
       ],
       "layout": "IPY_MODEL_0e84552193164a05aba6b845868906a1"
      }
     },
     "99e4537cb1be4fb5b39e1e6bce952cf6": {
      "model_module": "@jupyter-widgets/controls",
      "model_module_version": "1.5.0",
      "model_name": "HTMLModel",
      "state": {
       "layout": "IPY_MODEL_8baf94e8142a4b5e8141d3facb2e0c7d",
       "style": "IPY_MODEL_90a02c9f323046f5aae0684a3db049b4",
       "value": "<font size=\"5\"><b>Whether Windmills or Cranes</b></font size=>"
      }
     },
     "99ef75231a164107b87226c9c8c737ad": {
      "model_module": "@jupyter-widgets/base",
      "model_module_version": "1.2.0",
      "model_name": "LayoutModel",
      "state": {
       "display": "flex",
       "flex_flow": "row wrap"
      }
     },
     "9a7600178ee04d3dab5c4c73d6a21b7e": {
      "model_module": "@jupyter-widgets/controls",
      "model_module_version": "1.5.0",
      "model_name": "DropdownModel",
      "state": {
       "_options_labels": [
        "Any"
       ],
       "disabled": true,
       "index": 0,
       "layout": "IPY_MODEL_ecf0126975994a2e94ceee5fe9ab8c25",
       "style": "IPY_MODEL_a8da0718161a4ad1bf92923e209c98e9"
      }
     },
     "9aaf5f4e87b24afa8c22ac87f8d81bfb": {
      "model_module": "@jupyter-widgets/controls",
      "model_module_version": "1.5.0",
      "model_name": "LabelModel",
      "state": {
       "layout": "IPY_MODEL_ac44968f614f4b9e85ba631201ed37c7",
       "style": "IPY_MODEL_17724496945d48f2b0f17872c291dd5f",
       "value": "Class:"
      }
     },
     "9b8a44433e2c47c5a6d8e0719999b1a1": {
      "model_module": "@jupyter-widgets/base",
      "model_module_version": "1.2.0",
      "model_name": "LayoutModel",
      "state": {
       "display": "none"
      }
     },
     "9b8cd0dffaa94510a837e28b9b02a6a7": {
      "model_module": "@jupyter-widgets/controls",
      "model_module_version": "1.5.0",
      "model_name": "ButtonStyleModel",
      "state": {}
     },
     "9bb17d58f26e4d79b873339ad39d5110": {
      "model_module": "@jupyter-widgets/controls",
      "model_module_version": "1.5.0",
      "model_name": "ButtonStyleModel",
      "state": {}
     },
     "9bcc6e3f2b824369b7ad4cd9b912ff7f": {
      "model_module": "@jupyter-widgets/controls",
      "model_module_version": "1.5.0",
      "model_name": "ButtonModel",
      "state": {
       "description": "EDIT",
       "layout": "IPY_MODEL_7cbc70a5ff4143a9bb0f61ce60d85b12",
       "style": "IPY_MODEL_520f817ebdcc49d58c75d310b86a3091"
      }
     },
     "9bd000a7ecb94749906655cf5673bcf0": {
      "model_module": "@jupyter-widgets/controls",
      "model_module_version": "1.5.0",
      "model_name": "CheckboxModel",
      "state": {
       "description": "Hide Triumphs",
       "disabled": false,
       "layout": "IPY_MODEL_f402d0436eee466796cef92adb149d83",
       "style": "IPY_MODEL_f9b5f82dd0ed4d69988f961a9d303182",
       "value": false
      }
     },
     "9c200582fe654afd8257a67c7c180f5b": {
      "model_module": "@jupyter-widgets/controls",
      "model_module_version": "1.5.0",
      "model_name": "DescriptionStyleModel",
      "state": {
       "description_width": ""
      }
     },
     "9c32d917c70a48d68bf23f4fc7038162": {
      "model_module": "@jupyter-widgets/controls",
      "model_module_version": "1.5.0",
      "model_name": "DescriptionStyleModel",
      "state": {
       "description_width": ""
      }
     },
     "9ccf06797c154ed182ce454de89eb365": {
      "model_module": "@jupyter-widgets/controls",
      "model_module_version": "1.5.0",
      "model_name": "ButtonStyleModel",
      "state": {}
     },
     "9d2c081af6a94d299a4dba3531607c52": {
      "model_module": "@jupyter-widgets/base",
      "model_module_version": "1.2.0",
      "model_name": "LayoutModel",
      "state": {}
     },
     "9d4d2af335d64bdeb44b1863ec99d14a": {
      "model_module": "@jupyter-widgets/controls",
      "model_module_version": "1.5.0",
      "model_name": "HTMLModel",
      "state": {
       "layout": "IPY_MODEL_4b759b6479ba4cf2af7c94a9b31ac9f6",
       "style": "IPY_MODEL_cf2a7e0b7305459e810486698052e5c2",
       "value": "<font size=\"5\"><b>Bluff</b></font size=>"
      }
     },
     "9d65c252f9df4775aa5283ef9aeba291": {
      "model_module": "@jupyter-widgets/controls",
      "model_module_version": "1.5.0",
      "model_name": "ButtonStyleModel",
      "state": {}
     },
     "9d66e464097d453ea06dc4c63fb2812b": {
      "model_module": "@jupyter-widgets/controls",
      "model_module_version": "1.5.0",
      "model_name": "DescriptionStyleModel",
      "state": {
       "description_width": ""
      }
     },
     "9daf0924264e4cad863a20418f2e85c7": {
      "model_module": "@jupyter-widgets/controls",
      "model_module_version": "1.5.0",
      "model_name": "ButtonModel",
      "state": {
       "description": "EDIT",
       "layout": "IPY_MODEL_f165988c84bd4f64b0f77f8c3afd712f",
       "style": "IPY_MODEL_2d8237306a6341039b7b0cd1bacc86f6"
      }
     },
     "9dc066cc85154a0f960030d14e28662d": {
      "model_module": "@jupyter-widgets/controls",
      "model_module_version": "1.5.0",
      "model_name": "DescriptionStyleModel",
      "state": {
       "description_width": ""
      }
     },
     "9e71eded36dd48a48521d8727a519047": {
      "model_module": "@jupyter-widgets/controls",
      "model_module_version": "1.5.0",
      "model_name": "LabelModel",
      "state": {
       "layout": "IPY_MODEL_427853489cc7448a89048fd571cafe69",
       "style": "IPY_MODEL_9c200582fe654afd8257a67c7c180f5b",
       "value": "             objective 4"
      }
     },
     "9e9b4b146bd94fbb8a8c3d17ccbaa484": {
      "model_module": "@jupyter-widgets/controls",
      "model_module_version": "1.5.0",
      "model_name": "HBoxModel",
      "state": {
       "children": [
        "IPY_MODEL_9aaf5f4e87b24afa8c22ac87f8d81bfb",
        "IPY_MODEL_6cd1d026f79049af8451054adb28f865",
        "IPY_MODEL_c4600dbd754f40aaa027f202083081a6",
        "IPY_MODEL_b6c2485b705b4a0ba169195244776a0b",
        "IPY_MODEL_761238fabe7a4a5ca89f2c255db86173"
       ],
       "layout": "IPY_MODEL_d6c6ffe11ab74fb99110767be1443e73"
      }
     },
     "9ee9154eb9d54bfeb050309a64baa2c4": {
      "model_module": "@jupyter-widgets/controls",
      "model_module_version": "1.5.0",
      "model_name": "HTMLModel",
      "state": {
       "layout": "IPY_MODEL_fbb9810477194dadbb1861f3f8b67219",
       "style": "IPY_MODEL_6be73796dd214a91aad0f0e59cf32eeb",
       "value": "<i></i>"
      }
     },
     "9f426fd6365747de9758708f51bda0ff": {
      "model_module": "@jupyter-widgets/controls",
      "model_module_version": "1.5.0",
      "model_name": "ButtonModel",
      "state": {
       "layout": "IPY_MODEL_810a59a0197f48038f3041736400c732",
       "style": "IPY_MODEL_4978a1fd9dd4463abcd2d49208a8f76a"
      }
     },
     "9f98834cc5a84c75ba4d9f97a9686c7a": {
      "model_module": "@jupyter-widgets/controls",
      "model_module_version": "1.5.0",
      "model_name": "HBoxModel",
      "state": {
       "children": [
        "IPY_MODEL_af6a2fdac653499f9d270f61d188f12b",
        "IPY_MODEL_108956ad265744ec8bf7e9e470af981f",
        "IPY_MODEL_b6a4d6603843425988f14e23326cc19a",
        "IPY_MODEL_2870c07f04154fbd9f7aa9272cadc5bd"
       ],
       "layout": "IPY_MODEL_0f7a9ba557764a798d4118b7a865e4fb"
      }
     },
     "9f9c3bc1d1114a81a4f604fdfdf8fb93": {
      "model_module": "@jupyter-widgets/controls",
      "model_module_version": "1.5.0",
      "model_name": "ButtonModel",
      "state": {
       "layout": "IPY_MODEL_23c03b0f613a44fc9616b664db0fc2ff",
       "style": "IPY_MODEL_4d9c1ed91484481dbefcd22ae014a48b"
      }
     },
     "9fada2a0e36341b68dcd055b41a73a2e": {
      "model_module": "@jupyter-widgets/base",
      "model_module_version": "1.2.0",
      "model_name": "LayoutModel",
      "state": {
       "height": "32px",
       "order": "-2",
       "width": "32px"
      }
     },
     "9fd1f2d0c9f4460d991ea4e17ed1f0a3": {
      "model_module": "@jupyter-widgets/base",
      "model_module_version": "1.2.0",
      "model_name": "LayoutModel",
      "state": {
       "border": "",
       "height": "100%",
       "width": "98%"
      }
     },
     "a00ed1061b734840ad53738a5845763f": {
      "model_module": "@jupyter-widgets/controls",
      "model_module_version": "1.5.0",
      "model_name": "ButtonStyleModel",
      "state": {}
     },
     "a0489fcda92a4b48b0193f45182145d2": {
      "model_module": "@jupyter-widgets/controls",
      "model_module_version": "1.5.0",
      "model_name": "HTMLModel",
      "state": {
       "layout": "IPY_MODEL_f05ce6a6bebf4452b9cafdd7dcd4a7d3",
       "style": "IPY_MODEL_ab09ad4f56a84325a44c23963571458d",
       "value": "<font size=\"1\">Triumphs/Destinations/Major/Io/</font size=>"
      }
     },
     "a0677c08b62746e4a97196e9c1032f81": {
      "model_module": "@jupyter-widgets/controls",
      "model_module_version": "1.5.0",
      "model_name": "ButtonStyleModel",
      "state": {}
     },
     "a0b33856204544139fa086398defb8dd": {
      "model_module": "@jupyter-widgets/controls",
      "model_module_version": "1.5.0",
      "model_name": "DescriptionStyleModel",
      "state": {
       "description_width": ""
      }
     },
     "a0cc300fdb7743d4b53b062941de5c98": {
      "model_module": "@jupyter-widgets/controls",
      "model_module_version": "1.5.0",
      "model_name": "ButtonStyleModel",
      "state": {}
     },
     "a0ff25cdaedc4874bf2afa36f700a74c": {
      "model_module": "@jupyter-widgets/controls",
      "model_module_version": "1.5.0",
      "model_name": "ProgressStyleModel",
      "state": {
       "description_width": ""
      }
     },
     "a1395d7874d440ccb6918c9856bc4e45": {
      "model_module": "@jupyter-widgets/controls",
      "model_module_version": "1.5.0",
      "model_name": "LabelModel",
      "state": {
       "layout": "IPY_MODEL_a20693167e9543fb82efaeff514928db",
       "style": "IPY_MODEL_248717661b7a4223af58048b3e024e46",
       "value": "             objective 2"
      }
     },
     "a1488a43a8c64862bf02c8ff3665e11d": {
      "model_module": "@jupyter-widgets/base",
      "model_module_version": "1.2.0",
      "model_name": "LayoutModel",
      "state": {
       "display": "flex"
      }
     },
     "a1645de8b4084e3c9377e34724f170d8": {
      "model_module": "@jupyter-widgets/controls",
      "model_module_version": "1.5.0",
      "model_name": "LabelModel",
      "state": {
       "layout": "IPY_MODEL_427853489cc7448a89048fd571cafe69",
       "style": "IPY_MODEL_54c22a5feaf94a9ea8158f7723d6b520",
       "value": "             objective 3"
      }
     },
     "a17fa66bdba245488a50b1dda0959774": {
      "model_module": "@jupyter-widgets/controls",
      "model_module_version": "1.5.0",
      "model_name": "DescriptionStyleModel",
      "state": {
       "description_width": ""
      }
     },
     "a18a18b633394e32a3af0914bc7f8ebe": {
      "model_module": "@jupyter-widgets/controls",
      "model_module_version": "1.5.0",
      "model_name": "HTMLModel",
      "state": {
       "layout": "IPY_MODEL_6cd70dfbf3d5464e87a79f71293599ce",
       "style": "IPY_MODEL_06596f44010d4daca8a7dd39f40b2539",
       "value": "<font size=\"5\"><b>The Nine</b></font size=>"
      }
     },
     "a19c185f89e74bf197520569e2f4b7c9": {
      "model_module": "@jupyter-widgets/base",
      "model_module_version": "1.2.0",
      "model_name": "LayoutModel",
      "state": {
       "display": "none"
      }
     },
     "a1d5e0c24922494cb4a0eaba8e5c07cf": {
      "model_module": "@jupyter-widgets/controls",
      "model_module_version": "1.5.0",
      "model_name": "ButtonStyleModel",
      "state": {}
     },
     "a1e02697f82d4f71ab001480b812f6c4": {
      "model_module": "@jupyter-widgets/base",
      "model_module_version": "1.2.0",
      "model_name": "LayoutModel",
      "state": {
       "overflow": "visible",
       "width": "100%"
      }
     },
     "a1e1d85fee7044f382a0c4a902555f72": {
      "model_module": "@jupyter-widgets/controls",
      "model_module_version": "1.5.0",
      "model_name": "ButtonStyleModel",
      "state": {}
     },
     "a20693167e9543fb82efaeff514928db": {
      "model_module": "@jupyter-widgets/base",
      "model_module_version": "1.2.0",
      "model_name": "LayoutModel",
      "state": {
       "order": "-1",
       "overflow": "visible",
       "padding": "1px",
       "width": "0px"
      }
     },
     "a23683692a4141e0ad7555f42c7ed429": {
      "model_module": "@jupyter-widgets/controls",
      "model_module_version": "1.5.0",
      "model_name": "ButtonStyleModel",
      "state": {}
     },
     "a26811de82fb4066a4a5b8501ae31953": {
      "model_module": "@jupyter-widgets/controls",
      "model_module_version": "1.5.0",
      "model_name": "DescriptionStyleModel",
      "state": {
       "description_width": ""
      }
     },
     "a28b24d8442141eab9527fa32477a086": {
      "model_module": "@jupyter-widgets/base",
      "model_module_version": "1.2.0",
      "model_name": "LayoutModel",
      "state": {
       "overflow": "visible",
       "width": "100%"
      }
     },
     "a2a4bdbfcab4492eac09f148d63f90ff": {
      "model_module": "@jupyter-widgets/controls",
      "model_module_version": "1.5.0",
      "model_name": "HBoxModel",
      "state": {
       "children": [
        "IPY_MODEL_df886dc1acb2414d88542ce3a7e8ae36",
        "IPY_MODEL_929fed715f084d78837e8e279cad32d4",
        "IPY_MODEL_51d120b29ce5466ba57dc6402bd30808",
        "IPY_MODEL_8d1f173f8c7444dabe7e659b81253982"
       ],
       "layout": "IPY_MODEL_25741a9a3da240499d2fcfafe161b008"
      }
     },
     "a2a64c013bb14d70873c4b4380ec934f": {
      "model_module": "@jupyter-widgets/controls",
      "model_module_version": "1.5.0",
      "model_name": "HTMLModel",
      "state": {
       "layout": "IPY_MODEL_cc94cf563a1245edb1ceb3348d2f5e98",
       "style": "IPY_MODEL_d1c939a3d9ce48829e21e9033f4659bd",
       "value": "<font size=\"1\">Triumphs/Lore/The Light/The Man They Call Cayde/</font size=>"
      }
     },
     "a2e21b57f8494f4eaeb6525171bd22dc": {
      "model_module": "@jupyter-widgets/controls",
      "model_module_version": "1.5.0",
      "model_name": "ButtonModel",
      "state": {
       "button_style": "success",
       "disabled": true,
       "layout": "IPY_MODEL_53328ad5dc044b6a96674389d335f19d",
       "style": "IPY_MODEL_e3909a13628749ec8631703420b1898f"
      }
     },
     "a2e6aea166344716a0d29947cd132a51": {
      "model_module": "@jupyter-widgets/controls",
      "model_module_version": "1.5.0",
      "model_name": "DescriptionStyleModel",
      "state": {
       "description_width": ""
      }
     },
     "a321216be8294973a984253541d0d5d6": {
      "model_module": "@jupyter-widgets/controls",
      "model_module_version": "1.5.0",
      "model_name": "ButtonModel",
      "state": {
       "description": "EDIT",
       "layout": "IPY_MODEL_f2042357983949048416842d1085649c",
       "style": "IPY_MODEL_89017888e9cf48b79a47dfcc94b34e3d"
      }
     },
     "a37e6e91d1ec4b37802927ac635a54d9": {
      "model_module": "@jupyter-widgets/controls",
      "model_module_version": "1.5.0",
      "model_name": "ButtonModel",
      "state": {
       "description": "EDIT",
       "layout": "IPY_MODEL_240a6d7a67404c16bd2cb4be48b4f3e6",
       "style": "IPY_MODEL_53dcb020da5f48b09beda69ceafc0f6b"
      }
     },
     "a3981816ffb749fea7f7c9d5f834bbca": {
      "model_module": "@jupyter-widgets/base",
      "model_module_version": "1.2.0",
      "model_name": "LayoutModel",
      "state": {}
     },
     "a3a6dfa774844a8589a330906d73e6e3": {
      "model_module": "@jupyter-widgets/controls",
      "model_module_version": "1.5.0",
      "model_name": "ButtonModel",
      "state": {
       "description": "EDIT",
       "layout": "IPY_MODEL_db24ce1d2a834e2da89cbaf107768e3a",
       "style": "IPY_MODEL_655fdd8ad2c4459dab5b8f85d551f55e"
      }
     },
     "a3c38b9610894b8e8b448fc0720c6fe0": {
      "model_module": "@jupyter-widgets/controls",
      "model_module_version": "1.5.0",
      "model_name": "ButtonStyleModel",
      "state": {}
     },
     "a3e2aaa22215429382e87e12672558af": {
      "model_module": "@jupyter-widgets/controls",
      "model_module_version": "1.5.0",
      "model_name": "ProgressStyleModel",
      "state": {
       "description_width": ""
      }
     },
     "a3f16a6c28ee4732818003e5c1c09721": {
      "model_module": "@jupyter-widgets/controls",
      "model_module_version": "1.5.0",
      "model_name": "ProgressStyleModel",
      "state": {
       "description_width": ""
      }
     },
     "a42c6b057fed40c492b36da92d16abde": {
      "model_module": "@jupyter-widgets/controls",
      "model_module_version": "1.5.0",
      "model_name": "LabelModel",
      "state": {
       "layout": "IPY_MODEL_8382b4ecf96a474fb5e863551d9be33b",
       "style": "IPY_MODEL_a9974326a50b4a81b68e09fb4455248a",
       "value": "             objective 2"
      }
     },
     "a439e65c96c241a3a1c1392decc5cd31": {
      "model_module": "@jupyter-widgets/controls",
      "model_module_version": "1.5.0",
      "model_name": "ButtonStyleModel",
      "state": {}
     },
     "a43cc87c447b4f19950f009f586693f9": {
      "model_module": "@jupyter-widgets/base",
      "model_module_version": "1.2.0",
      "model_name": "LayoutModel",
      "state": {}
     },
     "a44aac372ddf4b488029adbdfdb45804": {
      "model_module": "@jupyter-widgets/controls",
      "model_module_version": "1.5.0",
      "model_name": "ProgressStyleModel",
      "state": {
       "description_width": ""
      }
     },
     "a46adfccf43e45cbbae6a19cf6cb5e88": {
      "model_module": "@jupyter-widgets/controls",
      "model_module_version": "1.5.0",
      "model_name": "HBoxModel",
      "state": {
       "children": [
        "IPY_MODEL_d90f4d036d0844b0b1861e37c18c9487",
        "IPY_MODEL_acf3064e3a0f4bb6a15abdbbabe1d7d2",
        "IPY_MODEL_7ef27178a0af4a6a854860ff542dad9d",
        "IPY_MODEL_8bbe1e6fbc4f4bf5b4bfed60bfd16198"
       ],
       "layout": "IPY_MODEL_9b8a44433e2c47c5a6d8e0719999b1a1"
      }
     },
     "a4eb28f6a50d4bfdafeee72606b987df": {
      "model_module": "@jupyter-widgets/controls",
      "model_module_version": "1.5.0",
      "model_name": "LabelModel",
      "state": {
       "layout": "IPY_MODEL_fcb4aca329804dd98ec8394b3e45e619",
       "style": "IPY_MODEL_0af8a77a88e9496393f23fa56f43370f",
       "value": "             objective 1"
      }
     },
     "a542631c359f4a16a3611f375363233f": {
      "model_module": "@jupyter-widgets/base",
      "model_module_version": "1.2.0",
      "model_name": "LayoutModel",
      "state": {
       "overflow": "visible",
       "width": "100%"
      }
     },
     "a54a9067acde45c3b941ba0980d17c1a": {
      "model_module": "@jupyter-widgets/controls",
      "model_module_version": "1.5.0",
      "model_name": "HBoxModel",
      "state": {
       "children": [
        "IPY_MODEL_135ca363d3d84f629703bea6c464ae1d",
        "IPY_MODEL_b049efb2087e47d88605d381413f196c",
        "IPY_MODEL_bb185ab86c3840ebba6aaa4b9d4eed67",
        "IPY_MODEL_df42f99184c34540ad34042c397bc4f9"
       ],
       "layout": "IPY_MODEL_a1488a43a8c64862bf02c8ff3665e11d"
      }
     },
     "a54d54d9a5b8409584376b66e2a825e3": {
      "model_module": "@jupyter-widgets/controls",
      "model_module_version": "1.5.0",
      "model_name": "ProgressStyleModel",
      "state": {
       "description_width": ""
      }
     },
     "a55a8e9e8e754d07acadccdbdf0593f2": {
      "model_module": "@jupyter-widgets/controls",
      "model_module_version": "1.5.0",
      "model_name": "DescriptionStyleModel",
      "state": {
       "description_width": ""
      }
     },
     "a55e1a32a2054d10900109afef5866a3": {
      "model_module": "@jupyter-widgets/base",
      "model_module_version": "1.2.0",
      "model_name": "LayoutModel",
      "state": {
       "display": "none"
      }
     },
     "a596b0e932704299b96aa28c6dd01390": {
      "model_module": "@jupyter-widgets/base",
      "model_module_version": "1.2.0",
      "model_name": "LayoutModel",
      "state": {
       "display": "none"
      }
     },
     "a5af207ef60d4aa78162c525b2b8d5ef": {
      "model_module": "@jupyter-widgets/controls",
      "model_module_version": "1.5.0",
      "model_name": "ButtonModel",
      "state": {
       "layout": "IPY_MODEL_10341edf65124c5d9e52744115ed2c7c",
       "style": "IPY_MODEL_cdcc7256c092407597fed8a6497fca68"
      }
     },
     "a5b1bab576de4c4b825944f9612439cb": {
      "model_module": "@jupyter-widgets/controls",
      "model_module_version": "1.5.0",
      "model_name": "VBoxModel",
      "state": {
       "children": [
        "IPY_MODEL_18ae6f0456b14dd19aa3bf1fad48891b",
        "IPY_MODEL_b62d15de5de046c6a456b0a6a91b0a28",
        "IPY_MODEL_c91f0b8b4d234a32a948943a37cf44cf",
        "IPY_MODEL_b62d15de5de046c6a456b0a6a91b0a28",
        "IPY_MODEL_7b04c0d39a0b4b25902be09cfe2c1e37"
       ],
       "layout": "IPY_MODEL_d6c48a88c2414a8b89350c9d0079297a"
      }
     },
     "a614597f0dc5404f8020ecd80081abc0": {
      "model_module": "@jupyter-widgets/controls",
      "model_module_version": "1.5.0",
      "model_name": "VBoxModel",
      "state": {
       "children": [
        "IPY_MODEL_9f98834cc5a84c75ba4d9f97a9686c7a",
        "IPY_MODEL_a54a9067acde45c3b941ba0980d17c1a",
        "IPY_MODEL_79e844441e6f481b8b2b3172b9668217",
        "IPY_MODEL_aa502eb586bf401bb9cf37a30fbc5e46",
        "IPY_MODEL_5b6b820f0f034e558bb419ece51e13f6",
        "IPY_MODEL_48157ba9d7e5404dafb2b7ecb9ecdf45"
       ],
       "layout": "IPY_MODEL_609106db37f84c27bbd96a7348d1360f"
      }
     },
     "a65cbc401df54231a124fe803e06a594": {
      "model_module": "@jupyter-widgets/base",
      "model_module_version": "1.2.0",
      "model_name": "LayoutModel",
      "state": {
       "width": "60px"
      }
     },
     "a6a188e59fa04f3aab85e04cc8cc2ca2": {
      "model_module": "@jupyter-widgets/controls",
      "model_module_version": "1.5.0",
      "model_name": "ButtonModel",
      "state": {
       "description": "EDIT",
       "layout": "IPY_MODEL_bdc381cd30a94622ae23636cb9df7303",
       "style": "IPY_MODEL_4ff357dbee4049b5bf6a0ebd6c86cf47"
      }
     },
     "a6a6dcd2d83040a18b4ae27de6150fd2": {
      "model_module": "@jupyter-widgets/controls",
      "model_module_version": "1.5.0",
      "model_name": "DescriptionStyleModel",
      "state": {
       "description_width": ""
      }
     },
     "a6b3616cd5d341039145126a26f82658": {
      "model_module": "@jupyter-widgets/controls",
      "model_module_version": "1.5.0",
      "model_name": "DescriptionStyleModel",
      "state": {
       "description_width": ""
      }
     },
     "a6ba992fb48c415b81031b05b84ee9e4": {
      "model_module": "@jupyter-widgets/controls",
      "model_module_version": "1.5.0",
      "model_name": "IntProgressModel",
      "state": {
       "layout": "IPY_MODEL_bd255d790df242498f51fc76a5be8b99",
       "style": "IPY_MODEL_d564dc3d5c9e4bf1a388d7ae37328e68",
       "value": 30
      }
     },
     "a6c976f4f5fd4034a8f17111f006c31a": {
      "model_module": "@jupyter-widgets/controls",
      "model_module_version": "1.5.0",
      "model_name": "ProgressStyleModel",
      "state": {
       "description_width": ""
      }
     },
     "a6ec750b3ad24933a2628e023a27b879": {
      "model_module": "@jupyter-widgets/controls",
      "model_module_version": "1.5.0",
      "model_name": "DescriptionStyleModel",
      "state": {
       "description_width": ""
      }
     },
     "a70ad8b4f3314caca2c1a00a207ba8bd": {
      "model_module": "@jupyter-widgets/controls",
      "model_module_version": "1.5.0",
      "model_name": "HBoxModel",
      "state": {
       "children": [
        "IPY_MODEL_a794bd4f5bcb46dd9b9f8885f38acfad",
        "IPY_MODEL_1306db80fe30480bb9dbcb3cf925ed1a",
        "IPY_MODEL_060d1e7d8b974b3d8fd75d6841623a0c",
        "IPY_MODEL_48559b544f384a9e881f1b911289ddef"
       ],
       "layout": "IPY_MODEL_19302ae05af244e28ce439215c910caa"
      }
     },
     "a71a05620dfe4217b76eb15b056a2e85": {
      "model_module": "@jupyter-widgets/controls",
      "model_module_version": "1.5.0",
      "model_name": "ButtonStyleModel",
      "state": {}
     },
     "a75eb490ecea431291daff45f0d898bf": {
      "model_module": "@jupyter-widgets/controls",
      "model_module_version": "1.5.0",
      "model_name": "IntProgressModel",
      "state": {
       "layout": "IPY_MODEL_aef2d136ba5b4c89ae7f5553a75e99ff",
       "style": "IPY_MODEL_0d8baf5e74094b14913b94e57b2c199c",
       "value": 30
      }
     },
     "a78d09a311aa4875abfab858681167dd": {
      "model_module": "@jupyter-widgets/controls",
      "model_module_version": "1.5.0",
      "model_name": "ButtonModel",
      "state": {
       "layout": "IPY_MODEL_f119f68547074a5c9b7861dd0e476f75",
       "style": "IPY_MODEL_e10c93a2b3e34d82b265ff02a05feb08"
      }
     },
     "a794bd4f5bcb46dd9b9f8885f38acfad": {
      "model_module": "@jupyter-widgets/controls",
      "model_module_version": "1.5.0",
      "model_name": "ButtonModel",
      "state": {
       "layout": "IPY_MODEL_23c03b0f613a44fc9616b664db0fc2ff",
       "style": "IPY_MODEL_4329595c16d8458f9f6bf443c9d3306f"
      }
     },
     "a7a4f30027424891819507cd102f7c0e": {
      "model_module": "@jupyter-widgets/controls",
      "model_module_version": "1.5.0",
      "model_name": "HTMLModel",
      "state": {
       "layout": "IPY_MODEL_5857d35f80c34ff7b0cffca2fb378754",
       "style": "IPY_MODEL_1c64dc0487fd48dda9b8ffe3e4428f7f",
       "value": "Showing Tasks 1-15 of 2411"
      }
     },
     "a7cde0533d104a63aede27d0ee259dbf": {
      "model_module": "@jupyter-widgets/controls",
      "model_module_version": "1.5.0",
      "model_name": "HTMLModel",
      "state": {
       "layout": "IPY_MODEL_a1e02697f82d4f71ab001480b812f6c4",
       "style": "IPY_MODEL_8ad74e5092c8411793f8d85b83cebcd7",
       "value": "<font size=\"5\"><b>The Black Garden</b></font size=>"
      }
     },
     "a82dbdae437947599ac5efa4d33a6641": {
      "model_module": "@jupyter-widgets/base",
      "model_module_version": "1.2.0",
      "model_name": "LayoutModel",
      "state": {
       "width": "60px"
      }
     },
     "a8da0718161a4ad1bf92923e209c98e9": {
      "model_module": "@jupyter-widgets/controls",
      "model_module_version": "1.5.0",
      "model_name": "DescriptionStyleModel",
      "state": {
       "description_width": ""
      }
     },
     "a8db36a97c324486b35595e5c5a57d5f": {
      "model_module": "@jupyter-widgets/controls",
      "model_module_version": "1.5.0",
      "model_name": "DescriptionStyleModel",
      "state": {
       "description_width": ""
      }
     },
     "a91949a4a60647c4baec2301801f91f4": {
      "model_module": "@jupyter-widgets/base",
      "model_module_version": "1.2.0",
      "model_name": "LayoutModel",
      "state": {
       "display": "flex",
       "flex_flow": "row wrap"
      }
     },
     "a96c7638ef1a484b950c58d2fc79f8c5": {
      "model_module": "@jupyter-widgets/controls",
      "model_module_version": "1.5.0",
      "model_name": "HBoxModel",
      "state": {
       "children": [
        "IPY_MODEL_3378fe796fdb4bf682a46f0339fc64fd",
        "IPY_MODEL_034565d4a865461684b7cd9808703a91",
        "IPY_MODEL_157596ec40c44faf86e2dfde74ce4614",
        "IPY_MODEL_c2cf74d263b34fbca14154745c640394"
       ],
       "layout": "IPY_MODEL_d9999b4fa8524ae3a5be3f448a005d59"
      }
     },
     "a987e0cc4bdb46a6ae0c82ef27de76ed": {
      "model_module": "@jupyter-widgets/controls",
      "model_module_version": "1.5.0",
      "model_name": "IntProgressModel",
      "state": {
       "layout": "IPY_MODEL_bd255d790df242498f51fc76a5be8b99",
       "style": "IPY_MODEL_886f69b84094471c90576e90931248c1",
       "value": 30
      }
     },
     "a987e1031d374764b32bbedd82e7ad39": {
      "model_module": "@jupyter-widgets/controls",
      "model_module_version": "1.5.0",
      "model_name": "ButtonStyleModel",
      "state": {}
     },
     "a9974326a50b4a81b68e09fb4455248a": {
      "model_module": "@jupyter-widgets/controls",
      "model_module_version": "1.5.0",
      "model_name": "DescriptionStyleModel",
      "state": {
       "description_width": ""
      }
     },
     "a9bfa9cf0d414f08a531252dd74e5c20": {
      "model_module": "@jupyter-widgets/controls",
      "model_module_version": "1.5.0",
      "model_name": "HTMLModel",
      "state": {
       "layout": "IPY_MODEL_48fbabb07f5a4ea488e3ade66a942965",
       "style": "IPY_MODEL_c5fc23a156bc40fabb656758ac20c58f",
       "value": "<b>Class Options</b>"
      }
     },
     "a9c78a5226db40cb98ecae481278835a": {
      "model_module": "@jupyter-widgets/base",
      "model_module_version": "1.2.0",
      "model_name": "LayoutModel",
      "state": {
       "display": "none"
      }
     },
     "a9f49a39253a4f42a50772f90ddff15f": {
      "model_module": "@jupyter-widgets/controls",
      "model_module_version": "1.5.0",
      "model_name": "HBoxModel",
      "state": {
       "children": [
        "IPY_MODEL_6e672599fe624ce58c532074a2e2675b",
        "IPY_MODEL_1120f37be2f748eaab5bcb94107c3237",
        "IPY_MODEL_d4d3034c8ba34fac932c1e8792863d6b",
        "IPY_MODEL_0e91682122c040398147ff7c95de81f5"
       ],
       "layout": "IPY_MODEL_deccfb60d921459987e5d5c4b058603b"
      }
     },
     "aa38490bbb06475eb90a439ae8a8c459": {
      "model_module": "@jupyter-widgets/controls",
      "model_module_version": "1.5.0",
      "model_name": "ButtonStyleModel",
      "state": {}
     },
     "aa3c007dec734797874c6738ac638d60": {
      "model_module": "@jupyter-widgets/controls",
      "model_module_version": "1.5.0",
      "model_name": "ProgressStyleModel",
      "state": {
       "description_width": ""
      }
     },
     "aa3c53e6b1cd4235aeed7fed4a7674d1": {
      "model_module": "@jupyter-widgets/base",
      "model_module_version": "1.2.0",
      "model_name": "LayoutModel",
      "state": {
       "display": "flex"
      }
     },
     "aa502eb586bf401bb9cf37a30fbc5e46": {
      "model_module": "@jupyter-widgets/controls",
      "model_module_version": "1.5.0",
      "model_name": "HBoxModel",
      "state": {
       "children": [
        "IPY_MODEL_96bd9183b9ae481e9b984bfb0a50acbf",
        "IPY_MODEL_ba316c13b7b04999aeb041ea5b40bb29",
        "IPY_MODEL_2bc14da1f9ac4d06b0fb1e8836ee53db",
        "IPY_MODEL_221f785236dd40a6b055936c5c6ddda8"
       ],
       "layout": "IPY_MODEL_a19c185f89e74bf197520569e2f4b7c9"
      }
     },
     "aa6d944aaed6496880c554e4532f886e": {
      "model_module": "@jupyter-widgets/controls",
      "model_module_version": "1.5.0",
      "model_name": "ButtonModel",
      "state": {
       "button_style": "success",
       "disabled": true,
       "layout": "IPY_MODEL_6699ef01bd5d4bceabd3d7bb083274d6",
       "style": "IPY_MODEL_c42c10a8ed2049aea320b9edd339b3f5"
      }
     },
     "aa95f91a3a87479fb6dc0cdab6a7c261": {
      "model_module": "@jupyter-widgets/controls",
      "model_module_version": "1.5.0",
      "model_name": "ProgressStyleModel",
      "state": {
       "description_width": ""
      }
     },
     "aac0f6c8655d463294f2c4264c69008b": {
      "model_module": "@jupyter-widgets/controls",
      "model_module_version": "1.5.0",
      "model_name": "ButtonStyleModel",
      "state": {}
     },
     "aae2d6cd9c07483283f94c4c54b0f20c": {
      "model_module": "@jupyter-widgets/controls",
      "model_module_version": "1.5.0",
      "model_name": "ProgressStyleModel",
      "state": {
       "description_width": ""
      }
     },
     "aae4f40ef609486da605023466c07bde": {
      "model_module": "@jupyter-widgets/controls",
      "model_module_version": "1.5.0",
      "model_name": "ButtonModel",
      "state": {
       "layout": "IPY_MODEL_21f202eb90994d40973b8d6a7771461b",
       "style": "IPY_MODEL_e3333f25991e43859601715c2fb3f351"
      }
     },
     "ab09ad4f56a84325a44c23963571458d": {
      "model_module": "@jupyter-widgets/controls",
      "model_module_version": "1.5.0",
      "model_name": "DescriptionStyleModel",
      "state": {
       "description_width": ""
      }
     },
     "ab09ad6d597e4caea0051a52d149286c": {
      "model_module": "@jupyter-widgets/controls",
      "model_module_version": "1.5.0",
      "model_name": "LabelModel",
      "state": {
       "layout": "IPY_MODEL_01c6afff824d439c83ae58bbcbaf2c4b",
       "style": "IPY_MODEL_d242190ef2024bf48dee7dc0b1a04827",
       "value": "     (1/1)"
      }
     },
     "ab1fef261ab74cfb885b9f1898457f68": {
      "model_module": "@jupyter-widgets/controls",
      "model_module_version": "1.5.0",
      "model_name": "HBoxModel",
      "state": {
       "children": [
        "IPY_MODEL_24856bd8e17649e3ba48fe5aab3c665e",
        "IPY_MODEL_46fd7684e45a47b38592574652ff57d7",
        "IPY_MODEL_b45799cdaac74e4d93e05d78854168e0",
        "IPY_MODEL_c3fdee356e7b4a00a4cbcb00833b6706"
       ],
       "layout": "IPY_MODEL_0f241d7ac1da405cbc9e036ca7c9c405"
      }
     },
     "ab290bfd2b994372920ae71a38392265": {
      "model_module": "@jupyter-widgets/controls",
      "model_module_version": "1.5.0",
      "model_name": "DropdownModel",
      "state": {
       "_options_labels": [
        "Any",
        "Primary",
        "Secondary",
        "Heavy"
       ],
       "index": 0,
       "layout": "IPY_MODEL_ecf0126975994a2e94ceee5fe9ab8c25",
       "style": "IPY_MODEL_6debb18cac0746fb877d85edc8f12540"
      }
     },
     "ab57ce44e2e14cce8874f4856347894b": {
      "model_module": "@jupyter-widgets/controls",
      "model_module_version": "1.5.0",
      "model_name": "HTMLModel",
      "state": {
       "layout": "IPY_MODEL_ab782c601b394ff691a4371632034c14",
       "style": "IPY_MODEL_871981713d29498c93ab77c778bf4411",
       "value": "<font size=\"1\">Triumphs/Lore/The Light/Ghost Stories/</font size=>"
      }
     },
     "ab782c601b394ff691a4371632034c14": {
      "model_module": "@jupyter-widgets/base",
      "model_module_version": "1.2.0",
      "model_name": "LayoutModel",
      "state": {
       "overflow": "visible",
       "width": "100%"
      }
     },
     "ab80a50f363c4155ae4d29f7b4b3d638": {
      "model_module": "@jupyter-widgets/controls",
      "model_module_version": "1.5.0",
      "model_name": "DropdownModel",
      "state": {
       "_options_labels": [
        "Any"
       ],
       "disabled": true,
       "index": 0,
       "layout": "IPY_MODEL_9fd1f2d0c9f4460d991ea4e17ed1f0a3",
       "style": "IPY_MODEL_72fe2683aae542b088cd5a9bc4b6d0f8"
      }
     },
     "ab814f00928f495a81e149e34e919b2f": {
      "model_module": "@jupyter-widgets/controls",
      "model_module_version": "1.5.0",
      "model_name": "IntProgressModel",
      "state": {
       "bar_style": "success",
       "layout": "IPY_MODEL_d33469158c684f08a0ac9d76d826bdd7",
       "max": 1,
       "style": "IPY_MODEL_eb71df0c5dc84dbda71319be27028e15",
       "value": 1
      }
     },
     "abdd5c958c8b4b648a20783ac902d6b3": {
      "model_module": "@jupyter-widgets/controls",
      "model_module_version": "1.5.0",
      "model_name": "LabelModel",
      "state": {
       "layout": "IPY_MODEL_77ca4ec0767e43629d0245781730f6cb",
       "style": "IPY_MODEL_7e1fa34981034fdf846e606b256ed628",
       "value": "     (1/1)"
      }
     },
     "abed80ee6a3d4a019eb17c3d34b153f6": {
      "model_module": "@jupyter-widgets/controls",
      "model_module_version": "1.5.0",
      "model_name": "ButtonStyleModel",
      "state": {}
     },
     "ac202b5d27ff47a3a38be95b4f9fa908": {
      "model_module": "@jupyter-widgets/controls",
      "model_module_version": "1.5.0",
      "model_name": "IntProgressModel",
      "state": {
       "layout": "IPY_MODEL_d3f365df8c9442de8da92df2817e8ce6",
       "style": "IPY_MODEL_e44f6b128690492f8d2bd39a5b4f2d69",
       "value": 30
      }
     },
     "ac4009d6f6a44178879b6473f83ce62b": {
      "model_module": "@jupyter-widgets/controls",
      "model_module_version": "1.5.0",
      "model_name": "ProgressStyleModel",
      "state": {
       "description_width": ""
      }
     },
     "ac44968f614f4b9e85ba631201ed37c7": {
      "model_module": "@jupyter-widgets/base",
      "model_module_version": "1.2.0",
      "model_name": "LayoutModel",
      "state": {
       "width": "10%"
      }
     },
     "ac72ef1b76174efa81f0ff91b96c8a45": {
      "model_module": "@jupyter-widgets/controls",
      "model_module_version": "1.5.0",
      "model_name": "ButtonStyleModel",
      "state": {}
     },
     "ac82423d7fb343d2b9b2de1b4562fe4d": {
      "model_module": "@jupyter-widgets/controls",
      "model_module_version": "1.5.0",
      "model_name": "HBoxModel",
      "state": {
       "children": [
        "IPY_MODEL_fafb7bb190cb4301a4429772b79faf37",
        "IPY_MODEL_58ca14091d224892ab6d422db9c79467",
        "IPY_MODEL_0809be38d51c46a1986132812941c510",
        "IPY_MODEL_c67b6dec6b6140f6ab65e0a7f316c87d"
       ],
       "layout": "IPY_MODEL_b474bd00ff3042538fcd757b5e07861c"
      }
     },
     "ac8396867b284aa2943e8477c6f563d8": {
      "model_module": "@jupyter-widgets/controls",
      "model_module_version": "1.5.0",
      "model_name": "DescriptionStyleModel",
      "state": {
       "description_width": ""
      }
     },
     "ac8d8b2d3abb41a0b1f8183f5d644e92": {
      "model_module": "@jupyter-widgets/controls",
      "model_module_version": "1.5.0",
      "model_name": "ButtonStyleModel",
      "state": {}
     },
     "acf3064e3a0f4bb6a15abdbbabe1d7d2": {
      "model_module": "@jupyter-widgets/controls",
      "model_module_version": "1.5.0",
      "model_name": "IntProgressModel",
      "state": {
       "layout": "IPY_MODEL_b2b8c860423c400288526c3ef1930cf8",
       "style": "IPY_MODEL_a3f16a6c28ee4732818003e5c1c09721",
       "value": 30
      }
     },
     "ad03192af00c4ac58e533b9663e2d807": {
      "model_module": "@jupyter-widgets/controls",
      "model_module_version": "1.5.0",
      "model_name": "HBoxModel",
      "state": {
       "children": [
        "IPY_MODEL_aa6d944aaed6496880c554e4532f886e",
        "IPY_MODEL_d73c88369a9b4214b2e691484ed4473d",
        "IPY_MODEL_ba4de69acc8f45fcaa41dec8330ca716",
        "IPY_MODEL_282846f2ac974290b0d5eed073922e61"
       ],
       "layout": "IPY_MODEL_5391fc79ca4040f98a91648ad323d50d"
      }
     },
     "ad4eb37ce7394d87aa99d8da72003b4d": {
      "model_module": "@jupyter-widgets/base",
      "model_module_version": "1.2.0",
      "model_name": "LayoutModel",
      "state": {}
     },
     "ad7c0f49615c4796b6454c015eb583ae": {
      "model_module": "@jupyter-widgets/controls",
      "model_module_version": "1.5.0",
      "model_name": "ButtonStyleModel",
      "state": {}
     },
     "ad8c44b1e27349bd84e78b5ccec47df9": {
      "model_module": "@jupyter-widgets/base",
      "model_module_version": "1.2.0",
      "model_name": "LayoutModel",
      "state": {
       "display": "flex",
       "flex_flow": "row wrap"
      }
     },
     "ad8f8b4907764a3eb2a3a47b1b525fba": {
      "model_module": "@jupyter-widgets/controls",
      "model_module_version": "1.5.0",
      "model_name": "DropdownModel",
      "state": {
       "_options_labels": [
        "Any",
        "Machine Gun",
        "Sword",
        "Grenade Launcher",
        "Rocket Launcher",
        "Linear Fusion Rifle"
       ],
       "index": 0,
       "layout": "IPY_MODEL_eede78cac56245c38e65280830eab192",
       "style": "IPY_MODEL_6761f544d3a045db8c6a74a45e72448c"
      }
     },
     "adb73e4107004689a4760bb9effb3310": {
      "model_module": "@jupyter-widgets/controls",
      "model_module_version": "1.5.0",
      "model_name": "DescriptionStyleModel",
      "state": {
       "description_width": ""
      }
     },
     "ae10ef5fedbe485b9807d4134112ba86": {
      "model_module": "@jupyter-widgets/controls",
      "model_module_version": "1.5.0",
      "model_name": "DescriptionStyleModel",
      "state": {
       "description_width": ""
      }
     },
     "aebe8e20c76c4c9d85d8c5ba5ed3aaa9": {
      "model_module": "@jupyter-widgets/controls",
      "model_module_version": "1.5.0",
      "model_name": "LabelModel",
      "state": {
       "layout": "IPY_MODEL_02a65ed5b87e417db0d02389d7a7aa38",
       "style": "IPY_MODEL_8b4f7d3a08f448e38f0925868f5aa589",
       "value": "             objective 4"
      }
     },
     "aef2d136ba5b4c89ae7f5553a75e99ff": {
      "model_module": "@jupyter-widgets/base",
      "model_module_version": "1.2.0",
      "model_name": "LayoutModel",
      "state": {
       "height": "32px",
       "overflow": "visible",
       "padding": "0px",
       "width": "100%"
      }
     },
     "aef5e5231dab40ec9d43c80d9dd5f1ee": {
      "model_module": "@jupyter-widgets/controls",
      "model_module_version": "1.5.0",
      "model_name": "HBoxModel",
      "state": {
       "children": [
        "IPY_MODEL_99239d4466da4ed6a905dc2e3c1d24cd",
        "IPY_MODEL_c2d3b79c0ffd4e3fbdde800ccf6fc85c",
        "IPY_MODEL_4241a3ef97bc4c8c89bb0e946b7e93fd",
        "IPY_MODEL_0d97b5b1136f4d3ca93769e6b1b336ae"
       ],
       "layout": "IPY_MODEL_41ba5190b073478e8d1570879a4925a9"
      }
     },
     "af63cc2f1f634ab1ad9ab8ddaf7cfcfb": {
      "model_module": "@jupyter-widgets/controls",
      "model_module_version": "1.5.0",
      "model_name": "ButtonStyleModel",
      "state": {}
     },
     "af6a2fdac653499f9d270f61d188f12b": {
      "model_module": "@jupyter-widgets/controls",
      "model_module_version": "1.5.0",
      "model_name": "ButtonModel",
      "state": {
       "button_style": "success",
       "disabled": true,
       "layout": "IPY_MODEL_4f92c5719b53461082e38f932605ab3d",
       "style": "IPY_MODEL_7d4e20ea431a46b9ab57979fb02c1920"
      }
     },
     "af8e5020c7d6433cb0a6802cc93667a7": {
      "model_module": "@jupyter-widgets/controls",
      "model_module_version": "1.5.0",
      "model_name": "CheckboxModel",
      "state": {
       "description": "Hide Conflicting Tasks",
       "disabled": false,
       "layout": "IPY_MODEL_5d10a185e2694b81b1a7ce7e93dc0bff",
       "style": "IPY_MODEL_f3562a62993845b8ae5721141f0fdf59",
       "value": false
      }
     },
     "afae761b5bb64053aa1126ac5fd4bca6": {
      "model_module": "@jupyter-widgets/controls",
      "model_module_version": "1.5.0",
      "model_name": "HTMLModel",
      "state": {
       "layout": "IPY_MODEL_e15ef761c23e487189d2338d9be063d9",
       "style": "IPY_MODEL_93464af318b344a5bd4546516317d805",
       "value": "<font size=\"1\">Triumphs/Lore/The Light/Ghost Stories/</font size=>"
      }
     },
     "afd1fd5ccf984cf2ace23d3a810c4a44": {
      "model_module": "@jupyter-widgets/controls",
      "model_module_version": "1.5.0",
      "model_name": "HBoxModel",
      "state": {
       "children": [
        "IPY_MODEL_7dc5868379ee4cddb492f228023bc6b9",
        "IPY_MODEL_701f4049baa44a3d8cab050b191b61c0",
        "IPY_MODEL_806d6d5669ed4b119a562abfab820fd7",
        "IPY_MODEL_1fe55e15b4ac46e8a7a5ce2d01484f31"
       ],
       "layout": "IPY_MODEL_076c932e8ee34ca6805af289df511236"
      }
     },
     "b049efb2087e47d88605d381413f196c": {
      "model_module": "@jupyter-widgets/controls",
      "model_module_version": "1.5.0",
      "model_name": "IntProgressModel",
      "state": {
       "bar_style": "success",
       "layout": "IPY_MODEL_aef2d136ba5b4c89ae7f5553a75e99ff",
       "max": 25,
       "style": "IPY_MODEL_c2aba21f88ce4c1b8fa1849c5352b8c4",
       "value": 25
      }
     },
     "b0df6c03a4a64c96a7ced1ec07de4d85": {
      "model_module": "@jupyter-widgets/base",
      "model_module_version": "1.2.0",
      "model_name": "LayoutModel",
      "state": {
       "overflow": "visible",
       "width": "100%"
      }
     },
     "b0f75121ce3b47478281dd6447c73a1f": {
      "model_module": "@jupyter-widgets/controls",
      "model_module_version": "1.5.0",
      "model_name": "ProgressStyleModel",
      "state": {
       "description_width": ""
      }
     },
     "b11a4e06c924434da48bc97e77c38237": {
      "model_module": "@jupyter-widgets/controls",
      "model_module_version": "1.5.0",
      "model_name": "HTMLModel",
      "state": {
       "layout": "IPY_MODEL_6cd70dfbf3d5464e87a79f71293599ce",
       "style": "IPY_MODEL_0c279389d5f840c8872e0430395cb71e",
       "value": "<font size=\"1\">Triumphs/Lore/The Light/Dust/</font size=>"
      }
     },
     "b1ce99f76f2a4c4fb5f2b75bc3c850cc": {
      "model_module": "@jupyter-widgets/controls",
      "model_module_version": "1.5.0",
      "model_name": "HBoxModel",
      "state": {
       "children": [
        "IPY_MODEL_1b929d7f88b942609ca3644758e418ac",
        "IPY_MODEL_0ec5768d44224a339714ccd9f5f7b24e",
        "IPY_MODEL_081b3790589e4d1796a63c187bc5213b",
        "IPY_MODEL_5ede3bbf8edb4ee89d0974eaf806ef4d"
       ],
       "layout": "IPY_MODEL_93a25057bfc749d8b21d3dbf2d4b4f77"
      }
     },
     "b200458265ec47499ecfdb4794bfea46": {
      "model_module": "@jupyter-widgets/controls",
      "model_module_version": "1.5.0",
      "model_name": "ButtonModel",
      "state": {
       "description": "EDIT",
       "layout": "IPY_MODEL_e467969965e549bea11f78e628b08308",
       "style": "IPY_MODEL_a0cc300fdb7743d4b53b062941de5c98"
      }
     },
     "b2386e97c1c949d3bfb67f5cd9ca4f74": {
      "model_module": "@jupyter-widgets/base",
      "model_module_version": "1.2.0",
      "model_name": "LayoutModel",
      "state": {
       "border": "3px solid white",
       "display": "flex",
       "margin": "10px",
       "overflow": "visible",
       "padding": "10px",
       "width": "400px"
      }
     },
     "b28128e374c84568bffa123ae0b061c0": {
      "model_module": "@jupyter-widgets/controls",
      "model_module_version": "1.5.0",
      "model_name": "IntProgressModel",
      "state": {
       "bar_style": "success",
       "layout": "IPY_MODEL_aef2d136ba5b4c89ae7f5553a75e99ff",
       "max": 1,
       "style": "IPY_MODEL_2d1271f85489470aa770c3e64afede75",
       "value": 1
      }
     },
     "b2b55a879c944a58b4fb89baf5a1ef7c": {
      "model_module": "@jupyter-widgets/controls",
      "model_module_version": "1.5.0",
      "model_name": "HBoxModel",
      "state": {
       "children": [
        "IPY_MODEL_9f9c3bc1d1114a81a4f604fdfdf8fb93",
        "IPY_MODEL_c45d992dbb954d6ebeb277bd1621dd00",
        "IPY_MODEL_87cde16b075747b2a105d3d5ba784fe5",
        "IPY_MODEL_76ac9bd91a6e47d5956663bc3ab58d1a"
       ],
       "layout": "IPY_MODEL_e8a21420d7ae40ef8f1a1cc464f7ccc1"
      }
     },
     "b2b8c860423c400288526c3ef1930cf8": {
      "model_module": "@jupyter-widgets/base",
      "model_module_version": "1.2.0",
      "model_name": "LayoutModel",
      "state": {
       "height": "32px",
       "overflow": "visible",
       "padding": "0px",
       "width": "100%"
      }
     },
     "b2e105ad696f47c2a3e1d6ae486acbf1": {
      "model_module": "@jupyter-widgets/controls",
      "model_module_version": "1.5.0",
      "model_name": "DescriptionStyleModel",
      "state": {
       "description_width": ""
      }
     },
     "b2e837d62c3a426cbe26f723f52bbd5e": {
      "model_module": "@jupyter-widgets/controls",
      "model_module_version": "1.5.0",
      "model_name": "LabelModel",
      "state": {
       "layout": "IPY_MODEL_77ca4ec0767e43629d0245781730f6cb",
       "style": "IPY_MODEL_cda8aaab1aa44ec7805eac51f0be4148",
       "value": "             objective 1"
      }
     },
     "b31abeb104d74ab696287e9d05d5c402": {
      "model_module": "@jupyter-widgets/controls",
      "model_module_version": "1.5.0",
      "model_name": "LabelModel",
      "state": {
       "layout": "IPY_MODEL_13370eb9b0eb421c9bfdaf96619a82af",
       "style": "IPY_MODEL_17cedfaae7a14545a556999f712ed98e",
       "value": "     (1/1)"
      }
     },
     "b35427f191674004a88082665a2806c7": {
      "model_module": "@jupyter-widgets/controls",
      "model_module_version": "1.5.0",
      "model_name": "ButtonModel",
      "state": {
       "layout": "IPY_MODEL_10341edf65124c5d9e52744115ed2c7c",
       "style": "IPY_MODEL_25afd19b352e45a987625262f5566e84"
      }
     },
     "b3df59f1ecf94bb88ecc2bf9af990fb0": {
      "model_module": "@jupyter-widgets/controls",
      "model_module_version": "1.5.0",
      "model_name": "HBoxModel",
      "state": {
       "children": [
        "IPY_MODEL_e420ad3c6f0e45f79004e85c79b8e22d",
        "IPY_MODEL_8458afc0435c405c9ab5c5c930e42645",
        "IPY_MODEL_9a7600178ee04d3dab5c4c73d6a21b7e"
       ],
       "layout": "IPY_MODEL_e19191984e964a6186b655010a3d4e73"
      }
     },
     "b402527ef56b4bb38a5cf35472f006ea": {
      "model_module": "@jupyter-widgets/controls",
      "model_module_version": "1.5.0",
      "model_name": "ButtonStyleModel",
      "state": {}
     },
     "b41c5cdf48d748e7bb05065e95a2092f": {
      "model_module": "@jupyter-widgets/base",
      "model_module_version": "1.2.0",
      "model_name": "LayoutModel",
      "state": {
       "display": "none"
      }
     },
     "b42d8a03a702480696bbea3f3169aa06": {
      "model_module": "@jupyter-widgets/base",
      "model_module_version": "1.2.0",
      "model_name": "LayoutModel",
      "state": {}
     },
     "b4556c0fece1466485047820eada3e3d": {
      "model_module": "@jupyter-widgets/controls",
      "model_module_version": "1.5.0",
      "model_name": "IntProgressModel",
      "state": {
       "layout": "IPY_MODEL_dc07c9b6f35643b9ae187c980ae46d86",
       "style": "IPY_MODEL_418e31f688154f4baf3cfcbb07ab3b1d",
       "value": 30
      }
     },
     "b45799cdaac74e4d93e05d78854168e0": {
      "model_module": "@jupyter-widgets/controls",
      "model_module_version": "1.5.0",
      "model_name": "LabelModel",
      "state": {
       "layout": "IPY_MODEL_df00d075487c4c0db73993d548632bd8",
       "style": "IPY_MODEL_85196424aecf48278e578ad2cbd02d89",
       "value": "             objective 4"
      }
     },
     "b46acec9a8ed467e89b879a7f455f1ca": {
      "model_module": "@jupyter-widgets/controls",
      "model_module_version": "1.5.0",
      "model_name": "DescriptionStyleModel",
      "state": {
       "description_width": ""
      }
     },
     "b474bd00ff3042538fcd757b5e07861c": {
      "model_module": "@jupyter-widgets/base",
      "model_module_version": "1.2.0",
      "model_name": "LayoutModel",
      "state": {
       "display": "none"
      }
     },
     "b4c8748c41df4b46bf8afce6035a0007": {
      "model_module": "@jupyter-widgets/controls",
      "model_module_version": "1.5.0",
      "model_name": "LabelModel",
      "state": {
       "layout": "IPY_MODEL_be921af9c19543a58a8508f5ad01b691",
       "style": "IPY_MODEL_7d92d6e9fe2d4f46abc4e5e5fd2fe5d2",
       "value": "     (1/1)"
      }
     },
     "b50a89ee906548f8bf1c2b1b69a3a3d3": {
      "model_module": "@jupyter-widgets/controls",
      "model_module_version": "1.5.0",
      "model_name": "HBoxModel",
      "state": {
       "children": [
        "IPY_MODEL_51ca6efc33e94df99482a6db38887380",
        "IPY_MODEL_8ebbe83e304d4b9bba3f51649e8f8ae6",
        "IPY_MODEL_15139a7d893b46ad916bab6a3aca5748",
        "IPY_MODEL_a3a6dfa774844a8589a330906d73e6e3"
       ],
       "layout": "IPY_MODEL_5f25a42f900d4c3e8f46ff211cc3933d"
      }
     },
     "b5138b00b267478ca30bd6b973d5926a": {
      "model_module": "@jupyter-widgets/base",
      "model_module_version": "1.2.0",
      "model_name": "LayoutModel",
      "state": {}
     },
     "b5350fbab8c1468d92796c3ef3346a77": {
      "model_module": "@jupyter-widgets/controls",
      "model_module_version": "1.5.0",
      "model_name": "HBoxModel",
      "state": {
       "children": [
        "IPY_MODEL_43e96f4fabad4c5a8d3e8471f382311e",
        "IPY_MODEL_85e3ff82ec9942b9a948f36134d46588",
        "IPY_MODEL_a4eb28f6a50d4bfdafeee72606b987df",
        "IPY_MODEL_f72ce49ff7a34648998b600b3847abd9"
       ],
       "layout": "IPY_MODEL_ba95d1e725ab41ddbc445167f74e65b4"
      }
     },
     "b539b62b0cde4e2ebbd794588ec1e626": {
      "model_module": "@jupyter-widgets/controls",
      "model_module_version": "1.5.0",
      "model_name": "ProgressStyleModel",
      "state": {
       "description_width": ""
      }
     },
     "b54f5bfbf7164cf2ae159acc48adcabb": {
      "model_module": "@jupyter-widgets/controls",
      "model_module_version": "1.5.0",
      "model_name": "DescriptionStyleModel",
      "state": {
       "description_width": ""
      }
     },
     "b56194d0a3b2402ea151a2e7559dcac1": {
      "model_module": "@jupyter-widgets/base",
      "model_module_version": "1.2.0",
      "model_name": "LayoutModel",
      "state": {}
     },
     "b5a1996f368c4f01a7dbb64c8dac7272": {
      "model_module": "@jupyter-widgets/controls",
      "model_module_version": "1.5.0",
      "model_name": "ProgressStyleModel",
      "state": {
       "description_width": ""
      }
     },
     "b5ae90d737a0431a9c692277322ae89d": {
      "model_module": "@jupyter-widgets/controls",
      "model_module_version": "1.5.0",
      "model_name": "ButtonStyleModel",
      "state": {}
     },
     "b5b89735b9474c5a90420fbae0957c6e": {
      "model_module": "@jupyter-widgets/controls",
      "model_module_version": "1.5.0",
      "model_name": "ButtonStyleModel",
      "state": {}
     },
     "b5d9caa8d0cc41279bae9c4ab332265d": {
      "model_module": "@jupyter-widgets/controls",
      "model_module_version": "1.5.0",
      "model_name": "IntProgressModel",
      "state": {
       "bar_style": "success",
       "layout": "IPY_MODEL_dc07c9b6f35643b9ae187c980ae46d86",
       "max": 1,
       "style": "IPY_MODEL_f7ed99b3b01a4a7faa2a232e92be72da",
       "value": 1
      }
     },
     "b62d15de5de046c6a456b0a6a91b0a28": {
      "model_module": "@jupyter-widgets/controls",
      "model_module_version": "1.5.0",
      "model_name": "BoxModel",
      "state": {
       "layout": "IPY_MODEL_11ee1fbfe2094b2983e18d0664fb780b"
      }
     },
     "b64b4d7096604aed86969940780480f0": {
      "model_module": "@jupyter-widgets/controls",
      "model_module_version": "1.5.0",
      "model_name": "DescriptionStyleModel",
      "state": {
       "description_width": ""
      }
     },
     "b67aeea0ceef4635b75a99144d297e81": {
      "model_module": "@jupyter-widgets/base",
      "model_module_version": "1.2.0",
      "model_name": "LayoutModel",
      "state": {
       "display": "none"
      }
     },
     "b68b7c3a3ba64a30b32867e35a119794": {
      "model_module": "@jupyter-widgets/controls",
      "model_module_version": "1.5.0",
      "model_name": "HBoxModel",
      "state": {
       "children": [
        "IPY_MODEL_86c532203ac2409cbb810bb6a40f5cd4",
        "IPY_MODEL_98a9c49fc1f64ba780caf4d5e90fec58",
        "IPY_MODEL_69096f76dbdc4bdea3ef4edaedfcb84b",
        "IPY_MODEL_448c1c4aef3d46a8912823310b9ed395"
       ],
       "layout": "IPY_MODEL_8b7f5beb7db744918eeb1d8848dc31c3"
      }
     },
     "b6a4d6603843425988f14e23326cc19a": {
      "model_module": "@jupyter-widgets/controls",
      "model_module_version": "1.5.0",
      "model_name": "LabelModel",
      "state": {
       "layout": "IPY_MODEL_58a9efa8c1004142b339d418615b8a78",
       "style": "IPY_MODEL_e6ce1e88ba3f4b3fb07d63b745bf63c5",
       "value": "     Final blows (148/100)"
      }
     },
     "b6abfa95031846319c2a21c96fd15fd1": {
      "model_module": "@jupyter-widgets/controls",
      "model_module_version": "1.5.0",
      "model_name": "DescriptionStyleModel",
      "state": {
       "description_width": ""
      }
     },
     "b6c2485b705b4a0ba169195244776a0b": {
      "model_module": "@jupyter-widgets/controls",
      "model_module_version": "1.5.0",
      "model_name": "DropdownModel",
      "state": {
       "_options_labels": [
        "Any"
       ],
       "disabled": true,
       "index": 0,
       "layout": "IPY_MODEL_ecf0126975994a2e94ceee5fe9ab8c25",
       "style": "IPY_MODEL_016327c760154e5eb6d9c168a923fb5a"
      }
     },
     "b6c89fa07ac543878939fb7a2ba1fc3b": {
      "model_module": "@jupyter-widgets/base",
      "model_module_version": "1.2.0",
      "model_name": "LayoutModel",
      "state": {
       "display": "none"
      }
     },
     "b6e26202eeb541dbb8b26ddf044feca3": {
      "model_module": "@jupyter-widgets/controls",
      "model_module_version": "1.5.0",
      "model_name": "ButtonModel",
      "state": {
       "description": "EDIT",
       "layout": "IPY_MODEL_0009c7882f3b4140a12bb6f5508b5bac",
       "style": "IPY_MODEL_1e22ae9f94cc414f9a2f13c6332ec908"
      }
     },
     "b6e7d5d8f41c431a8f817f9040f95233": {
      "model_module": "@jupyter-widgets/controls",
      "model_module_version": "1.5.0",
      "model_name": "DescriptionStyleModel",
      "state": {
       "description_width": ""
      }
     },
     "b706b727a9784dc0ade1ddfc1d48b6e6": {
      "model_module": "@jupyter-widgets/base",
      "model_module_version": "1.2.0",
      "model_name": "LayoutModel",
      "state": {
       "border": "3px solid white",
       "display": "flex",
       "margin": "10px",
       "overflow": "visible",
       "padding": "10px",
       "width": "400px"
      }
     },
     "b72779a021ca44ba8e06452d37f5afdb": {
      "model_module": "@jupyter-widgets/base",
      "model_module_version": "1.2.0",
      "model_name": "LayoutModel",
      "state": {
       "border": "3px solid white",
       "display": "flex",
       "margin": "10px",
       "overflow": "visible",
       "padding": "10px",
       "width": "400px"
      }
     },
     "b737a24b598d446b9a52f286c2c8a631": {
      "model_module": "@jupyter-widgets/controls",
      "model_module_version": "1.5.0",
      "model_name": "HBoxModel",
      "state": {
       "children": [
        "IPY_MODEL_eb108ac174df4f8b9627dcc1eb407da4",
        "IPY_MODEL_3846d5d22be940a0a48cd162fd321c72",
        "IPY_MODEL_9e71eded36dd48a48521d8727a519047",
        "IPY_MODEL_667c94c3c57241ac97945cb102ea8816"
       ],
       "layout": "IPY_MODEL_7149387b205d4e3684a8f9f3c43159ff"
      }
     },
     "b7b98893b53d46389c5d5301938b6808": {
      "model_module": "@jupyter-widgets/controls",
      "model_module_version": "1.5.0",
      "model_name": "ButtonModel",
      "state": {
       "description": "EDIT",
       "layout": "IPY_MODEL_7cf311ed1b2d4f86b22c18fb6ca092fa",
       "style": "IPY_MODEL_ef7e1ef259ae4b07957c4120c1a5a106"
      }
     },
     "b7c254b49f2148668b182c8bf727a2b2": {
      "model_module": "@jupyter-widgets/controls",
      "model_module_version": "1.5.0",
      "model_name": "LabelModel",
      "state": {
       "layout": "IPY_MODEL_23b1c1ffc9ef4a5abdd53e4ddc878692",
       "style": "IPY_MODEL_cabb92cceae34578ad646ce41109f8f7",
       "value": "Armor Set:"
      }
     },
     "b82e4973d61c4e928c635a7cfe321e8c": {
      "model_module": "@jupyter-widgets/controls",
      "model_module_version": "1.5.0",
      "model_name": "ProgressStyleModel",
      "state": {
       "description_width": ""
      }
     },
     "b8b67b2f568947e6aaaa7128de5e11c0": {
      "model_module": "@jupyter-widgets/controls",
      "model_module_version": "1.5.0",
      "model_name": "ProgressStyleModel",
      "state": {
       "description_width": ""
      }
     },
     "b8c6e48415604395aa59ec4bee03a2f2": {
      "model_module": "@jupyter-widgets/controls",
      "model_module_version": "1.5.0",
      "model_name": "ButtonModel",
      "state": {
       "layout": "IPY_MODEL_5273f5c4c6674e88ace0dee1b367a13e",
       "style": "IPY_MODEL_c453ec545b8f4855b3d8943ca7f1607c"
      }
     },
     "b8d4735bbc444ab088aa7b4348d9e639": {
      "model_module": "@jupyter-widgets/base",
      "model_module_version": "1.2.0",
      "model_name": "LayoutModel",
      "state": {
       "width": "60px"
      }
     },
     "b93eea522a1e4bfca1c3d57586f9db37": {
      "model_module": "@jupyter-widgets/controls",
      "model_module_version": "1.5.0",
      "model_name": "LabelModel",
      "state": {
       "layout": "IPY_MODEL_02a65ed5b87e417db0d02389d7a7aa38",
       "style": "IPY_MODEL_3ab3d5c5cc194cb09ac9f7db73b38641",
       "value": "    Flashpoint completed (5/1)"
      }
     },
     "b9641a087ed34523aad2c82fcff3508a": {
      "model_module": "@jupyter-widgets/controls",
      "model_module_version": "1.5.0",
      "model_name": "CheckboxModel",
      "state": {
       "description": "Hide Collections",
       "disabled": false,
       "layout": "IPY_MODEL_07c566c39ff24da99c872cefe145483a",
       "style": "IPY_MODEL_6d3bb9aff8d34b43b52a7d44d0e808f1",
       "value": false
      }
     },
     "b9659d54c1b04189b28158ba4b61409f": {
      "model_module": "@jupyter-widgets/base",
      "model_module_version": "1.2.0",
      "model_name": "LayoutModel",
      "state": {
       "width": "60px"
      }
     },
     "b973ecf81b2446949d300f7f55bfdda0": {
      "model_module": "@jupyter-widgets/controls",
      "model_module_version": "1.5.0",
      "model_name": "ButtonModel",
      "state": {
       "layout": "IPY_MODEL_53328ad5dc044b6a96674389d335f19d",
       "style": "IPY_MODEL_3aec5a910af246c38ddcadfc2ade8726"
      }
     },
     "b9a08cf21cce4e1a99faa196616f928e": {
      "model_module": "@jupyter-widgets/base",
      "model_module_version": "1.2.0",
      "model_name": "LayoutModel",
      "state": {}
     },
     "b9f699e424ed4e6595a118659fc6fb3d": {
      "model_module": "@jupyter-widgets/base",
      "model_module_version": "1.2.0",
      "model_name": "LayoutModel",
      "state": {}
     },
     "ba0e610a62aa48f083f662b500daba74": {
      "model_module": "@jupyter-widgets/controls",
      "model_module_version": "1.5.0",
      "model_name": "VBoxModel",
      "state": {
       "children": [
        "IPY_MODEL_ebac56d38a7744a6a547dcb6fc688390",
        "IPY_MODEL_8d594f4f4b7540b6843d4a2df82b0e49",
        "IPY_MODEL_88ed23222f10449194fbbab46db54e38",
        "IPY_MODEL_a614597f0dc5404f8020ecd80081abc0"
       ],
       "layout": "IPY_MODEL_d05d75ffcade4bb4937996f0f8a9a989"
      }
     },
     "ba2ebc266b9a459e86c3a601a24cc2b1": {
      "model_module": "@jupyter-widgets/base",
      "model_module_version": "1.2.0",
      "model_name": "LayoutModel",
      "state": {
       "width": "60px"
      }
     },
     "ba316c13b7b04999aeb041ea5b40bb29": {
      "model_module": "@jupyter-widgets/controls",
      "model_module_version": "1.5.0",
      "model_name": "IntProgressModel",
      "state": {
       "layout": "IPY_MODEL_aef2d136ba5b4c89ae7f5553a75e99ff",
       "style": "IPY_MODEL_155ab55096ce4900bd5a6200c3292bbf",
       "value": 30
      }
     },
     "ba3719683fc14a58b01f65eb310f5adc": {
      "model_module": "@jupyter-widgets/controls",
      "model_module_version": "1.5.0",
      "model_name": "ButtonStyleModel",
      "state": {}
     },
     "ba4de69acc8f45fcaa41dec8330ca716": {
      "model_module": "@jupyter-widgets/controls",
      "model_module_version": "1.5.0",
      "model_name": "LabelModel",
      "state": {
       "layout": "IPY_MODEL_fcb4aca329804dd98ec8394b3e45e619",
       "style": "IPY_MODEL_96503e184327413da31f18df40f72ead",
       "value": "     (1/1)"
      }
     },
     "ba95d1e725ab41ddbc445167f74e65b4": {
      "model_module": "@jupyter-widgets/base",
      "model_module_version": "1.2.0",
      "model_name": "LayoutModel",
      "state": {
       "display": "none"
      }
     },
     "badc70aef35443bbbc190c4214c77371": {
      "model_module": "@jupyter-widgets/controls",
      "model_module_version": "1.5.0",
      "model_name": "ButtonStyleModel",
      "state": {}
     },
     "bb17e9c35ffc45e5b77f0ffb1b700be6": {
      "model_module": "@jupyter-widgets/base",
      "model_module_version": "1.2.0",
      "model_name": "LayoutModel",
      "state": {}
     },
     "bb185ab86c3840ebba6aaa4b9d4eed67": {
      "model_module": "@jupyter-widgets/controls",
      "model_module_version": "1.5.0",
      "model_name": "LabelModel",
      "state": {
       "layout": "IPY_MODEL_58a9efa8c1004142b339d418615b8a78",
       "style": "IPY_MODEL_505706c536114134a720dd0a1520a2ea",
       "value": "     Precision (89/25)"
      }
     },
     "bb593cfa1e7b42789b0c42fe2482980e": {
      "model_module": "@jupyter-widgets/controls",
      "model_module_version": "1.5.0",
      "model_name": "ProgressStyleModel",
      "state": {
       "description_width": ""
      }
     },
     "bba636560bbc45d3936b6226603f7f4a": {
      "model_module": "@jupyter-widgets/controls",
      "model_module_version": "1.5.0",
      "model_name": "ButtonStyleModel",
      "state": {}
     },
     "bbd18083dd3d4bd7b11ecbc1a2ffdc2d": {
      "model_module": "@jupyter-widgets/controls",
      "model_module_version": "1.5.0",
      "model_name": "ButtonModel",
      "state": {
       "description": "EDIT",
       "layout": "IPY_MODEL_f7ab5e66d185465ebd75c2f1f4d7befd",
       "style": "IPY_MODEL_d5eb389e19134e6388c27beea93999f8"
      }
     },
     "bbf3337e9e634ea8806fc857198cc784": {
      "model_module": "@jupyter-widgets/controls",
      "model_module_version": "1.5.0",
      "model_name": "DescriptionStyleModel",
      "state": {
       "description_width": ""
      }
     },
     "bc117112e4f24de1ad1cf170370c124c": {
      "model_module": "@jupyter-widgets/controls",
      "model_module_version": "1.5.0",
      "model_name": "IntProgressModel",
      "state": {
       "layout": "IPY_MODEL_5913bb3e39594888b2ddeee31bfbcec9",
       "style": "IPY_MODEL_e63ff846db0a4eb48c60c3afb181d06f",
       "value": 30
      }
     },
     "bc38655cfff94c529deead7224fed747": {
      "model_module": "@jupyter-widgets/controls",
      "model_module_version": "1.5.0",
      "model_name": "HBoxModel",
      "state": {
       "children": [
        "IPY_MODEL_6fe9d786a4484aea9635182f381a9818",
        "IPY_MODEL_2e7ced0c18c84bb5afa1d40b88a79cd8",
        "IPY_MODEL_1f3ed2661f8b4d599b93ee1890259995",
        "IPY_MODEL_feb8d07f99d746329b852935564bea74"
       ],
       "layout": "IPY_MODEL_8340cae2498949f88016d6c7434efe00"
      }
     },
     "bc4163580a37472fa99f0f46e02ec189": {
      "model_module": "@jupyter-widgets/controls",
      "model_module_version": "1.5.0",
      "model_name": "DescriptionStyleModel",
      "state": {
       "description_width": ""
      }
     },
     "bc6288a7e48841b0acf38fb8b9223da9": {
      "model_module": "@jupyter-widgets/base",
      "model_module_version": "1.2.0",
      "model_name": "LayoutModel",
      "state": {
       "height": "32px",
       "overflow": "visible",
       "padding": "0px",
       "width": "100%"
      }
     },
     "bcf17a10ef084f2fbb318dfb0f09ef7a": {
      "model_module": "@jupyter-widgets/controls",
      "model_module_version": "1.5.0",
      "model_name": "IntProgressModel",
      "state": {
       "layout": "IPY_MODEL_7ab2f7c86fdf451d84d74476cd07109a",
       "style": "IPY_MODEL_aae2d6cd9c07483283f94c4c54b0f20c",
       "value": 30
      }
     },
     "bd255d790df242498f51fc76a5be8b99": {
      "model_module": "@jupyter-widgets/base",
      "model_module_version": "1.2.0",
      "model_name": "LayoutModel",
      "state": {
       "height": "32px",
       "overflow": "visible",
       "padding": "0px",
       "width": "100%"
      }
     },
     "bd279c7511a64c9fb1fe6ee6a8b54853": {
      "model_module": "@jupyter-widgets/controls",
      "model_module_version": "1.5.0",
      "model_name": "HTMLModel",
      "state": {
       "layout": "IPY_MODEL_4212af7173d34ff2b3638e6fa05d16b1",
       "style": "IPY_MODEL_13d389915f284ccfb8c4ec909d0f2069",
       "value": "<i></i>"
      }
     },
     "bd743c259a9d4026b551dc604b23f91e": {
      "model_module": "@jupyter-widgets/controls",
      "model_module_version": "1.5.0",
      "model_name": "ButtonModel",
      "state": {
       "button_style": "success",
       "disabled": true,
       "layout": "IPY_MODEL_10341edf65124c5d9e52744115ed2c7c",
       "style": "IPY_MODEL_ef0fe7cbf88e4269929bb6e7d093f73e"
      }
     },
     "bd9233cb3d654887945e4601535f2a3a": {
      "model_module": "@jupyter-widgets/controls",
      "model_module_version": "1.5.0",
      "model_name": "HBoxModel",
      "state": {
       "children": [
        "IPY_MODEL_21572769204c43939e777ff460f21232",
        "IPY_MODEL_e77b015177b3400c80440bdc6a2062b5",
        "IPY_MODEL_f2b59343fd8b4d3da8a705a7ee13b2e8",
        "IPY_MODEL_0251edbee39146e28956ae0b0dfb1501"
       ],
       "layout": "IPY_MODEL_75ab3fb22dca4042901dc9eb63996ec0"
      }
     },
     "bdc381cd30a94622ae23636cb9df7303": {
      "model_module": "@jupyter-widgets/base",
      "model_module_version": "1.2.0",
      "model_name": "LayoutModel",
      "state": {
       "width": "60px"
      }
     },
     "be1d513570674e69879fe8d09e172df3": {
      "model_module": "@jupyter-widgets/controls",
      "model_module_version": "1.5.0",
      "model_name": "ButtonStyleModel",
      "state": {}
     },
     "be43e195ca1745c192a3f528d9f61625": {
      "model_module": "@jupyter-widgets/controls",
      "model_module_version": "1.5.0",
      "model_name": "DescriptionStyleModel",
      "state": {
       "description_width": ""
      }
     },
     "be4b08d260914e78a9c789f4b149e5f5": {
      "model_module": "@jupyter-widgets/controls",
      "model_module_version": "1.5.0",
      "model_name": "ButtonModel",
      "state": {
       "description": "EDIT",
       "layout": "IPY_MODEL_58a627d38c6342e8b5e0550a3c738cbf",
       "style": "IPY_MODEL_8273aa15de65483895fe7c21cd03a3a4"
      }
     },
     "be65b799004b47ac8fd6de1c5bbdcbe3": {
      "model_module": "@jupyter-widgets/controls",
      "model_module_version": "1.5.0",
      "model_name": "DescriptionStyleModel",
      "state": {
       "description_width": ""
      }
     },
     "be921af9c19543a58a8508f5ad01b691": {
      "model_module": "@jupyter-widgets/base",
      "model_module_version": "1.2.0",
      "model_name": "LayoutModel",
      "state": {
       "order": "-1",
       "overflow": "visible",
       "padding": "1px",
       "width": "0px"
      }
     },
     "bf4f618721ea4d189bf5a3705ec50f30": {
      "model_module": "@jupyter-widgets/controls",
      "model_module_version": "1.5.0",
      "model_name": "VBoxModel",
      "state": {
       "children": [
        "IPY_MODEL_8a6bb3af702a4f4685a14f3f243043a6",
        "IPY_MODEL_f1c115e520a840aab08d31d4b8d4a772",
        "IPY_MODEL_31ff580b92d4450bb851d4bf49b58b62",
        "IPY_MODEL_d9e9c68591df482a9496b0391948635f",
        "IPY_MODEL_6f6d94403246461c834da2968c71b93c",
        "IPY_MODEL_0911cbfd239a4adeb1896022f1a61493"
       ],
       "layout": "IPY_MODEL_7d1c84ff03684d16a37bd2093b432f2f"
      }
     },
     "bf9f3fccb9af4dacb4358d9b3a1dd2cf": {
      "model_module": "@jupyter-widgets/base",
      "model_module_version": "1.2.0",
      "model_name": "LayoutModel",
      "state": {
       "width": "60px"
      }
     },
     "bfbcb696b54d40f6be61827ca679f081": {
      "model_module": "@jupyter-widgets/base",
      "model_module_version": "1.2.0",
      "model_name": "LayoutModel",
      "state": {}
     },
     "c0025e9f946e4963897c95eed0c378dc": {
      "model_module": "@jupyter-widgets/controls",
      "model_module_version": "1.5.0",
      "model_name": "ButtonStyleModel",
      "state": {}
     },
     "c012504b34fb4a99bfaecbead7d86fb9": {
      "model_module": "@jupyter-widgets/base",
      "model_module_version": "1.2.0",
      "model_name": "LayoutModel",
      "state": {}
     },
     "c0cdde6b431c4733bede4564149a5876": {
      "model_module": "@jupyter-widgets/controls",
      "model_module_version": "1.5.0",
      "model_name": "IntProgressModel",
      "state": {
       "layout": "IPY_MODEL_3c71d236c3874c039703a214a7b31bc1",
       "style": "IPY_MODEL_2cc437b9c5e945fabff857b5d36fcd61",
       "value": 30
      }
     },
     "c0f42d011e56446eabe7156e2ceb9bc2": {
      "model_module": "@jupyter-widgets/controls",
      "model_module_version": "1.5.0",
      "model_name": "IntProgressModel",
      "state": {
       "layout": "IPY_MODEL_27400526e0a442b7b7c4dbfd0bfeaceb",
       "style": "IPY_MODEL_d3f5148e442c4b1f87e5dd478bd14475",
       "value": 30
      }
     },
     "c17088f942c8403895116cb13c9a4cfa": {
      "model_module": "@jupyter-widgets/controls",
      "model_module_version": "1.5.0",
      "model_name": "ProgressStyleModel",
      "state": {
       "description_width": ""
      }
     },
     "c17abf6f1e22428bb60cdc0cf7340d47": {
      "model_module": "@jupyter-widgets/controls",
      "model_module_version": "1.5.0",
      "model_name": "ButtonStyleModel",
      "state": {}
     },
     "c18a617ea96b47c69a734eabcedb460d": {
      "model_module": "@jupyter-widgets/controls",
      "model_module_version": "1.5.0",
      "model_name": "ButtonModel",
      "state": {
       "description": "EDIT",
       "layout": "IPY_MODEL_d4e8bc8c65ca40dc8722ff98bd8948e3",
       "style": "IPY_MODEL_09655f831d4c428ea32bc80689c0b659"
      }
     },
     "c1960bc86da64f6d9ac339292668eb90": {
      "model_module": "@jupyter-widgets/controls",
      "model_module_version": "1.5.0",
      "model_name": "DescriptionStyleModel",
      "state": {
       "description_width": ""
      }
     },
     "c19a3af31c274ad395296547c5ccbd37": {
      "model_module": "@jupyter-widgets/controls",
      "model_module_version": "1.5.0",
      "model_name": "DescriptionStyleModel",
      "state": {
       "description_width": ""
      }
     },
     "c22e580228244f30a30b1867760fa350": {
      "model_module": "@jupyter-widgets/controls",
      "model_module_version": "1.5.0",
      "model_name": "HTMLModel",
      "state": {
       "layout": "IPY_MODEL_a1e02697f82d4f71ab001480b812f6c4",
       "style": "IPY_MODEL_ef0e2c93347641df80db3c2a19199d74",
       "value": "<font size=\"1\">Triumphs/Account/Moments of Triumph/Moments of Triumph/</font size=>"
      }
     },
     "c26223e41a1148aebc73f710db0c6419": {
      "model_module": "@jupyter-widgets/controls",
      "model_module_version": "1.5.0",
      "model_name": "HBoxModel",
      "state": {
       "children": [
        "IPY_MODEL_2c4c6c96a09e4702b995c70c087c5c07",
        "IPY_MODEL_1b6daf2564314a14a871d4621dcbecdb",
        "IPY_MODEL_204b76bad38744b282fa87f297112098",
        "IPY_MODEL_fdd50fc63d734bb09f187bdeb06c873e"
       ],
       "layout": "IPY_MODEL_6cbe00a0489e4a6cad3106cb34a28284"
      }
     },
     "c282b637a77842c1ad93248a16cc37fa": {
      "model_module": "@jupyter-widgets/controls",
      "model_module_version": "1.5.0",
      "model_name": "ButtonStyleModel",
      "state": {}
     },
     "c2aba21f88ce4c1b8fa1849c5352b8c4": {
      "model_module": "@jupyter-widgets/controls",
      "model_module_version": "1.5.0",
      "model_name": "ProgressStyleModel",
      "state": {
       "description_width": ""
      }
     },
     "c2c21be87cdd4b73882343e51d382526": {
      "model_module": "@jupyter-widgets/controls",
      "model_module_version": "1.5.0",
      "model_name": "ButtonStyleModel",
      "state": {}
     },
     "c2cf74d263b34fbca14154745c640394": {
      "model_module": "@jupyter-widgets/controls",
      "model_module_version": "1.5.0",
      "model_name": "ButtonModel",
      "state": {
       "description": "EDIT",
       "layout": "IPY_MODEL_120ed63660bf47d4b296170c72a61e97",
       "style": "IPY_MODEL_57441b0553714cc19b520a05b2d73b02"
      }
     },
     "c2d3b79c0ffd4e3fbdde800ccf6fc85c": {
      "model_module": "@jupyter-widgets/controls",
      "model_module_version": "1.5.0",
      "model_name": "IntProgressModel",
      "state": {
       "layout": "IPY_MODEL_7eb9256572764a16b80566cc9de998de",
       "style": "IPY_MODEL_c17088f942c8403895116cb13c9a4cfa",
       "value": 30
      }
     },
     "c30d1cf3ab234b6ab017028b6a3a5f40": {
      "model_module": "@jupyter-widgets/controls",
      "model_module_version": "1.5.0",
      "model_name": "ButtonStyleModel",
      "state": {}
     },
     "c31072b6b5f04768ba27c2c9d4f048e7": {
      "model_module": "@jupyter-widgets/controls",
      "model_module_version": "1.5.0",
      "model_name": "IntProgressModel",
      "state": {
       "layout": "IPY_MODEL_bd255d790df242498f51fc76a5be8b99",
       "style": "IPY_MODEL_806c1f07fdd646018ce421eadc19c447",
       "value": 30
      }
     },
     "c319605c0eba47a682002b121d3ea20b": {
      "model_module": "@jupyter-widgets/controls",
      "model_module_version": "1.5.0",
      "model_name": "IntProgressModel",
      "state": {
       "bar_style": "success",
       "layout": "IPY_MODEL_27400526e0a442b7b7c4dbfd0bfeaceb",
       "max": 1,
       "style": "IPY_MODEL_deabfbe87a3242f49e6e8865c89884e3",
       "value": 1
      }
     },
     "c33e99589cc34088956f292a599781f6": {
      "model_module": "@jupyter-widgets/controls",
      "model_module_version": "1.5.0",
      "model_name": "ButtonModel",
      "state": {
       "layout": "IPY_MODEL_9fada2a0e36341b68dcd055b41a73a2e",
       "style": "IPY_MODEL_13607bf99e4f45b6a2ef408279df9014"
      }
     },
     "c38f52debb364392b8ef0feb27bbcd7b": {
      "model_module": "@jupyter-widgets/controls",
      "model_module_version": "1.5.0",
      "model_name": "HBoxModel",
      "state": {
       "children": [
        "IPY_MODEL_650236b910d547aba216fdb728375472",
        "IPY_MODEL_8650e893ae8347d8893ecec545bf77eb",
        "IPY_MODEL_5c61586fffac4971b65f5d9971d8aa6a",
        "IPY_MODEL_4da8ef0b18174f869612d0399640d6b9"
       ],
       "layout": "IPY_MODEL_97ab9ccb3f324317a8cf0b03c41cc40c"
      }
     },
     "c39f1718cd984d908fd83797d6d8767c": {
      "model_module": "@jupyter-widgets/base",
      "model_module_version": "1.2.0",
      "model_name": "LayoutModel",
      "state": {
       "overflow": "visible",
       "width": "100%"
      }
     },
     "c3c76299b73248f1b724ed3292a516bb": {
      "model_module": "@jupyter-widgets/controls",
      "model_module_version": "1.5.0",
      "model_name": "ButtonStyleModel",
      "state": {}
     },
     "c3fb2f48ab00447b8ca48b234f17969e": {
      "model_module": "@jupyter-widgets/base",
      "model_module_version": "1.2.0",
      "model_name": "LayoutModel",
      "state": {
       "overflow": "visible",
       "width": "100%"
      }
     },
     "c3fdee356e7b4a00a4cbcb00833b6706": {
      "model_module": "@jupyter-widgets/controls",
      "model_module_version": "1.5.0",
      "model_name": "ButtonModel",
      "state": {
       "description": "EDIT",
       "layout": "IPY_MODEL_62b1b8fcae9d4102ae5c3c66822b5b48",
       "style": "IPY_MODEL_3fa70a93d9f94ef5b71b4364e3d11863"
      }
     },
     "c42c10a8ed2049aea320b9edd339b3f5": {
      "model_module": "@jupyter-widgets/controls",
      "model_module_version": "1.5.0",
      "model_name": "ButtonStyleModel",
      "state": {}
     },
     "c43ec35e86a84547b8c4b4c56a7b3940": {
      "model_module": "@jupyter-widgets/controls",
      "model_module_version": "1.5.0",
      "model_name": "ButtonStyleModel",
      "state": {}
     },
     "c453ec545b8f4855b3d8943ca7f1607c": {
      "model_module": "@jupyter-widgets/controls",
      "model_module_version": "1.5.0",
      "model_name": "ButtonStyleModel",
      "state": {}
     },
     "c45d992dbb954d6ebeb277bd1621dd00": {
      "model_module": "@jupyter-widgets/controls",
      "model_module_version": "1.5.0",
      "model_name": "IntProgressModel",
      "state": {
       "layout": "IPY_MODEL_d33469158c684f08a0ac9d76d826bdd7",
       "style": "IPY_MODEL_0ab7da6bceb448ca8cbf6aa3fa898972",
       "value": 30
      }
     },
     "c4600dbd754f40aaa027f202083081a6": {
      "model_module": "@jupyter-widgets/controls",
      "model_module_version": "1.5.0",
      "model_name": "DropdownModel",
      "state": {
       "_options_labels": [
        "Any"
       ],
       "disabled": true,
       "index": 0,
       "layout": "IPY_MODEL_ecf0126975994a2e94ceee5fe9ab8c25",
       "style": "IPY_MODEL_2bbee13dbaef41cc9ab512643cea24aa"
      }
     },
     "c499fbf34f8c4d029185079be3c675d7": {
      "model_module": "@jupyter-widgets/controls",
      "model_module_version": "1.5.0",
      "model_name": "IntProgressModel",
      "state": {
       "layout": "IPY_MODEL_bc6288a7e48841b0acf38fb8b9223da9",
       "style": "IPY_MODEL_6f3e98ad86ae47f685436a7a9b24fb1e",
       "value": 30
      }
     },
     "c49d3718c11a44a9a0fdbd2bc258ebbb": {
      "model_module": "@jupyter-widgets/controls",
      "model_module_version": "1.5.0",
      "model_name": "ButtonModel",
      "state": {
       "layout": "IPY_MODEL_21f202eb90994d40973b8d6a7771461b",
       "style": "IPY_MODEL_29080414db8d41b58cdda53461370d5d"
      }
     },
     "c4d06d2976884c0e845034bf4c623131": {
      "model_module": "@jupyter-widgets/controls",
      "model_module_version": "1.5.0",
      "model_name": "DropdownModel",
      "state": {
       "_options_labels": [
        "Any",
        "Kinetic",
        "Solar",
        "Void",
        "Arc"
       ],
       "index": 0,
       "layout": "IPY_MODEL_ecf0126975994a2e94ceee5fe9ab8c25",
       "style": "IPY_MODEL_459ed5cbb3264853bbf4065c988ccade"
      }
     },
     "c4f1c76bc9dd436a98a46fa8a1c1dbf7": {
      "model_module": "@jupyter-widgets/controls",
      "model_module_version": "1.5.0",
      "model_name": "IntProgressModel",
      "state": {
       "layout": "IPY_MODEL_7eb9256572764a16b80566cc9de998de",
       "style": "IPY_MODEL_1a02a1043aa14011bae6c1123ea603ef",
       "value": 30
      }
     },
     "c51f77e1aea444ac831ca52ca63a1ea4": {
      "model_module": "@jupyter-widgets/controls",
      "model_module_version": "1.5.0",
      "model_name": "ButtonStyleModel",
      "state": {}
     },
     "c59de76236bd4873be2b33b9fc44e78c": {
      "model_module": "@jupyter-widgets/controls",
      "model_module_version": "1.5.0",
      "model_name": "HTMLModel",
      "state": {
       "layout": "IPY_MODEL_a542631c359f4a16a3611f375363233f",
       "style": "IPY_MODEL_cb49fd95a0364e509a66832b53a689c7",
       "value": "<font size=\"1\">Triumphs/Lore/The Light/The Man They Call Cayde/</font size=>"
      }
     },
     "c5a9a2da11c04a45bd96055374968f4f": {
      "model_module": "@jupyter-widgets/controls",
      "model_module_version": "1.5.0",
      "model_name": "ButtonModel",
      "state": {
       "description": "EDIT",
       "layout": "IPY_MODEL_5473a47770f44757a6e31273c2b05b5d",
       "style": "IPY_MODEL_a1e1d85fee7044f382a0c4a902555f72"
      }
     },
     "c5b2efdf40f441fc80fca866ce009d7c": {
      "model_module": "@jupyter-widgets/base",
      "model_module_version": "1.2.0",
      "model_name": "LayoutModel",
      "state": {}
     },
     "c5fc23a156bc40fabb656758ac20c58f": {
      "model_module": "@jupyter-widgets/controls",
      "model_module_version": "1.5.0",
      "model_name": "DescriptionStyleModel",
      "state": {
       "description_width": ""
      }
     },
     "c618cbad6e5e4a3aa364176bf06a5c08": {
      "model_module": "@jupyter-widgets/base",
      "model_module_version": "1.2.0",
      "model_name": "LayoutModel",
      "state": {
       "display": "none"
      }
     },
     "c67b6dec6b6140f6ab65e0a7f316c87d": {
      "model_module": "@jupyter-widgets/controls",
      "model_module_version": "1.5.0",
      "model_name": "ButtonModel",
      "state": {
       "description": "EDIT",
       "layout": "IPY_MODEL_711aabf3ec3747ddac5e3abcd2e6355b",
       "style": "IPY_MODEL_a23683692a4141e0ad7555f42c7ed429"
      }
     },
     "c689200d62864eea957ed9b53d58363a": {
      "model_module": "@jupyter-widgets/controls",
      "model_module_version": "1.5.0",
      "model_name": "DescriptionStyleModel",
      "state": {
       "description_width": ""
      }
     },
     "c6a11bd93ef9431183d02b792f30a883": {
      "model_module": "@jupyter-widgets/controls",
      "model_module_version": "1.5.0",
      "model_name": "HBoxModel",
      "state": {
       "children": [
        "IPY_MODEL_34ee3a4a411b47b8a4e1f7e5efe7db79",
        "IPY_MODEL_27dfc83e452843fbb0efb98e413ac496",
        "IPY_MODEL_10d054a4b81c46e0ae835f499d5b6a1a",
        "IPY_MODEL_388ab1cbc8fb463281614092add76d64"
       ],
       "layout": "IPY_MODEL_2509ea7197de434bbfa61ac5cd3c1827"
      }
     },
     "c721c0f4e1a84566ab737aa31983ce1d": {
      "model_module": "@jupyter-widgets/controls",
      "model_module_version": "1.5.0",
      "model_name": "ButtonModel",
      "state": {
       "layout": "IPY_MODEL_f1604c54a4294deb9a3c49812ff897fe",
       "style": "IPY_MODEL_c2c21be87cdd4b73882343e51d382526"
      }
     },
     "c73a47a1465847eab501de8274e66ad0": {
      "model_module": "@jupyter-widgets/controls",
      "model_module_version": "1.5.0",
      "model_name": "HTMLModel",
      "state": {
       "layout": "IPY_MODEL_4b759b6479ba4cf2af7c94a9b31ac9f6",
       "style": "IPY_MODEL_ec0f766c1ffd4b0cb4775ec8453a1bef",
       "value": "<font size=\"1\">Triumphs/Lore/The Light/The Man They Call Cayde/</font size=>"
      }
     },
     "c744b1f5157d4e0f87afb388392c4992": {
      "model_module": "@jupyter-widgets/base",
      "model_module_version": "1.2.0",
      "model_name": "LayoutModel",
      "state": {}
     },
     "c759af8a00ab48ffa1b57303d32b8ddf": {
      "model_module": "@jupyter-widgets/controls",
      "model_module_version": "1.5.0",
      "model_name": "DescriptionStyleModel",
      "state": {
       "description_width": ""
      }
     },
     "c7b5d1ab8e8d4701832e66c3be5ede96": {
      "model_module": "@jupyter-widgets/base",
      "model_module_version": "1.2.0",
      "model_name": "LayoutModel",
      "state": {
       "width": "85%"
      }
     },
     "c7f735dd773549e997e0de646df26209": {
      "model_module": "@jupyter-widgets/controls",
      "model_module_version": "1.5.0",
      "model_name": "ProgressStyleModel",
      "state": {
       "description_width": ""
      }
     },
     "c85e4dc8b21648f98456ed3d2f931ab5": {
      "model_module": "@jupyter-widgets/controls",
      "model_module_version": "1.5.0",
      "model_name": "DescriptionStyleModel",
      "state": {
       "description_width": ""
      }
     },
     "c880529f2ecd4b0a8422e8d3d5aa9232": {
      "model_module": "@jupyter-widgets/base",
      "model_module_version": "1.2.0",
      "model_name": "LayoutModel",
      "state": {
       "width": "60px"
      }
     },
     "c88356fc880c4a05965ec4874d97366f": {
      "model_module": "@jupyter-widgets/base",
      "model_module_version": "1.2.0",
      "model_name": "LayoutModel",
      "state": {
       "display": "none"
      }
     },
     "c8d401a3208e41d8a1044c4e08884cd3": {
      "model_module": "@jupyter-widgets/controls",
      "model_module_version": "1.5.0",
      "model_name": "ProgressStyleModel",
      "state": {
       "description_width": ""
      }
     },
     "c8e5e1751c674a6f82773f09a8b38b13": {
      "model_module": "@jupyter-widgets/controls",
      "model_module_version": "1.5.0",
      "model_name": "HBoxModel",
      "state": {
       "children": [
        "IPY_MODEL_1544063bd7df44bbbe0a800160e536aa",
        "IPY_MODEL_ea4d715e52a24d14bff3c84956fdd065",
        "IPY_MODEL_b31abeb104d74ab696287e9d05d5c402",
        "IPY_MODEL_14f1ad60f5b14e278b6be7cee563527b"
       ],
       "layout": "IPY_MODEL_18ecc3cbb30643e7bfad649cbdb058af"
      }
     },
     "c9127ffbee0d4ab9935be7faf8ad1be7": {
      "model_module": "@jupyter-widgets/controls",
      "model_module_version": "1.5.0",
      "model_name": "LabelModel",
      "state": {
       "layout": "IPY_MODEL_23b1c1ffc9ef4a5abdd53e4ddc878692",
       "style": "IPY_MODEL_5725a837e4e94481a43a80345799da66",
       "value": "Power Weapon:"
      }
     },
     "c91f0b8b4d234a32a948943a37cf44cf": {
      "model_module": "@jupyter-widgets/controls",
      "model_module_version": "1.5.0",
      "model_name": "VBoxModel",
      "state": {
       "children": [
        "IPY_MODEL_a9bfa9cf0d414f08a531252dd74e5c20",
        "IPY_MODEL_18d0fb400cbf4b69876fe4baffda3da8",
        "IPY_MODEL_382464535a844215a8d6d403a0e013b0",
        "IPY_MODEL_8f85c256c49045f8a9efc3db647c0dd9",
        "IPY_MODEL_36d0e788392d490a8fceb20b5449ec90",
        "IPY_MODEL_82b8c6de5caf4720ac65c4ff19aa5885",
        "IPY_MODEL_53acc2e076914356840f46f0fe5a1049",
        "IPY_MODEL_57afb32be7b347f7b1cf0d1e2f9e75fb",
        "IPY_MODEL_ab80a50f363c4155ae4d29f7b4b3d638"
       ],
       "layout": "IPY_MODEL_d0ba6933d50c42b69fceb47c38c5632a"
      }
     },
     "c948927d26884970a4179f4c87bb8bd9": {
      "model_module": "@jupyter-widgets/controls",
      "model_module_version": "1.5.0",
      "model_name": "DescriptionStyleModel",
      "state": {
       "description_width": ""
      }
     },
     "c97de60e472b49b084f17c4b8c6428dd": {
      "model_module": "@jupyter-widgets/controls",
      "model_module_version": "1.5.0",
      "model_name": "ButtonStyleModel",
      "state": {}
     },
     "c985a0e3d5e94ae4ab84e644a4a7cb29": {
      "model_module": "@jupyter-widgets/controls",
      "model_module_version": "1.5.0",
      "model_name": "HTMLModel",
      "state": {
       "layout": "IPY_MODEL_eafea1b5597e455e81d9820397e24c07",
       "style": "IPY_MODEL_cc2753fbca1d410dba0bd66ae195b6d0",
       "value": "<font size=\"1\">Triumphs/Lore/The Light/Ghost Stories/</font size=>"
      }
     },
     "c9b236e615884a84b87626b5962ea541": {
      "model_module": "@jupyter-widgets/controls",
      "model_module_version": "1.5.0",
      "model_name": "HBoxModel",
      "state": {
       "children": [
        "IPY_MODEL_68a77956135c4e9f917f5659071b5628",
        "IPY_MODEL_0c121aca74554ed681b5a9e4e865a88a",
        "IPY_MODEL_b93eea522a1e4bfca1c3d57586f9db37",
        "IPY_MODEL_4d96724554f4497689ba9a5624a18702"
       ],
       "layout": "IPY_MODEL_aa3c53e6b1cd4235aeed7fed4a7674d1"
      }
     },
     "c9bb25f538f84572a4797b54fbea57e4": {
      "model_module": "@jupyter-widgets/controls",
      "model_module_version": "1.5.0",
      "model_name": "LabelModel",
      "state": {
       "layout": "IPY_MODEL_df00d075487c4c0db73993d548632bd8",
       "style": "IPY_MODEL_8e40bc3a43964f5992dbc7f5868aa1e9",
       "value": "             objective 5"
      }
     },
     "ca3a52de13c14af4b58f5ab058ba6bdf": {
      "model_module": "@jupyter-widgets/controls",
      "model_module_version": "1.5.0",
      "model_name": "DescriptionStyleModel",
      "state": {
       "description_width": ""
      }
     },
     "ca89120a343743de8eb3fc9507cae573": {
      "model_module": "@jupyter-widgets/controls",
      "model_module_version": "1.5.0",
      "model_name": "HBoxModel",
      "state": {
       "children": [
        "IPY_MODEL_31ccc10620754dd49df1b01911999ef0",
        "IPY_MODEL_15a3f9dc3b9047bfa49fab4367a2150d",
        "IPY_MODEL_b2e837d62c3a426cbe26f723f52bbd5e",
        "IPY_MODEL_267cb9bf7a24402a8efb768162a6d4ea"
       ],
       "layout": "IPY_MODEL_07afb95045924ebd8ebac90200c47c23"
      }
     },
     "caa78cba33b44c20bc88463b90f6ffdf": {
      "model_module": "@jupyter-widgets/controls",
      "model_module_version": "1.5.0",
      "model_name": "ButtonModel",
      "state": {
       "layout": "IPY_MODEL_f119f68547074a5c9b7861dd0e476f75",
       "style": "IPY_MODEL_35f732a773bf47168af3d78a402452d9"
      }
     },
     "cabb92cceae34578ad646ce41109f8f7": {
      "model_module": "@jupyter-widgets/controls",
      "model_module_version": "1.5.0",
      "model_name": "DescriptionStyleModel",
      "state": {
       "description_width": ""
      }
     },
     "cac7c96612584c89b2c044591698785b": {
      "model_module": "@jupyter-widgets/base",
      "model_module_version": "1.2.0",
      "model_name": "LayoutModel",
      "state": {
       "border": "3px solid white",
       "display": "flex",
       "margin": "10px",
       "overflow": "visible",
       "padding": "10px",
       "width": "400px"
      }
     },
     "cb0b3fabcec44498b3c913361f6c751a": {
      "model_module": "@jupyter-widgets/base",
      "model_module_version": "1.2.0",
      "model_name": "LayoutModel",
      "state": {
       "border": "3px solid white",
       "display": "flex",
       "margin": "10px",
       "overflow": "visible",
       "padding": "10px",
       "width": "400px"
      }
     },
     "cb2fd478978b48199859d67b68cbf346": {
      "model_module": "@jupyter-widgets/controls",
      "model_module_version": "1.5.0",
      "model_name": "VBoxModel",
      "state": {
       "children": [
        "IPY_MODEL_37f15d442c1544aeab9e93d88c0d8f9d",
        "IPY_MODEL_f0b9aa9ef18142ce82241faa7eaaadbe",
        "IPY_MODEL_85d7af0b76a94463b105f2f650527931",
        "IPY_MODEL_468a50ddf71f4d1ea2dad2e457a757b0"
       ],
       "layout": "IPY_MODEL_76a6a8c19bb84585b5ea36bad75b73f0"
      }
     },
     "cb49fd95a0364e509a66832b53a689c7": {
      "model_module": "@jupyter-widgets/controls",
      "model_module_version": "1.5.0",
      "model_name": "DescriptionStyleModel",
      "state": {
       "description_width": ""
      }
     },
     "cbcce32cb32147cd9145f278795aa024": {
      "model_module": "@jupyter-widgets/base",
      "model_module_version": "1.2.0",
      "model_name": "LayoutModel",
      "state": {
       "width": "60px"
      }
     },
     "cbcfc73695044afcb83bfe95294b93c4": {
      "model_module": "@jupyter-widgets/controls",
      "model_module_version": "1.5.0",
      "model_name": "IntProgressModel",
      "state": {
       "layout": "IPY_MODEL_bc6288a7e48841b0acf38fb8b9223da9",
       "style": "IPY_MODEL_90bebcf4a4ad436e8285f3faa2ccbfe3",
       "value": 30
      }
     },
     "cbf37cce48874fcfb3e5125e6c579b9c": {
      "model_module": "@jupyter-widgets/base",
      "model_module_version": "1.2.0",
      "model_name": "LayoutModel",
      "state": {
       "width": "60px"
      }
     },
     "cc2753fbca1d410dba0bd66ae195b6d0": {
      "model_module": "@jupyter-widgets/controls",
      "model_module_version": "1.5.0",
      "model_name": "DescriptionStyleModel",
      "state": {
       "description_width": ""
      }
     },
     "cc720a65dace474b9ead598418951098": {
      "model_module": "@jupyter-widgets/controls",
      "model_module_version": "1.5.0",
      "model_name": "HTMLModel",
      "state": {
       "layout": "IPY_MODEL_c744b1f5157d4e0f87afb388392c4992",
       "style": "IPY_MODEL_f7ec47f990824fb5ad81ae3e9fe0e68d",
       "value": "<i></i>"
      }
     },
     "cc789f406c2c4a969f58b711f96f3ad4": {
      "model_module": "@jupyter-widgets/controls",
      "model_module_version": "1.5.0",
      "model_name": "DescriptionStyleModel",
      "state": {
       "description_width": ""
      }
     },
     "cc84fccc973a4f58bed3cb2302d31653": {
      "model_module": "@jupyter-widgets/controls",
      "model_module_version": "1.5.0",
      "model_name": "ButtonStyleModel",
      "state": {}
     },
     "cc94cf563a1245edb1ceb3348d2f5e98": {
      "model_module": "@jupyter-widgets/base",
      "model_module_version": "1.2.0",
      "model_name": "LayoutModel",
      "state": {
       "overflow": "visible",
       "width": "100%"
      }
     },
     "ccd405d8fb6d4c5483a3c8096d711340": {
      "model_module": "@jupyter-widgets/controls",
      "model_module_version": "1.5.0",
      "model_name": "ProgressStyleModel",
      "state": {
       "description_width": ""
      }
     },
     "ccdaeed9465b4e0a83a538d086748d90": {
      "model_module": "@jupyter-widgets/controls",
      "model_module_version": "1.5.0",
      "model_name": "ButtonModel",
      "state": {
       "description": "EDIT",
       "layout": "IPY_MODEL_7233ce026d0f499aa02a048910cb21e5",
       "style": "IPY_MODEL_393fe2751e26449b813f0e6a0f43cdfc"
      }
     },
     "ccdb431714ba48fa971ab20df8254b7a": {
      "model_module": "@jupyter-widgets/base",
      "model_module_version": "1.2.0",
      "model_name": "LayoutModel",
      "state": {
       "width": "60px"
      }
     },
     "ccf89e5017934c1197314e313e240d6b": {
      "model_module": "@jupyter-widgets/base",
      "model_module_version": "1.2.0",
      "model_name": "LayoutModel",
      "state": {
       "display": "flex"
      }
     },
     "cd05e8ce320d463097a32e2002cfb7f8": {
      "model_module": "@jupyter-widgets/controls",
      "model_module_version": "1.5.0",
      "model_name": "ButtonStyleModel",
      "state": {}
     },
     "cd4b714f3a6841e889dfc8b39d9f4bb1": {
      "model_module": "@jupyter-widgets/controls",
      "model_module_version": "1.5.0",
      "model_name": "ButtonModel",
      "state": {
       "layout": "IPY_MODEL_810a59a0197f48038f3041736400c732",
       "style": "IPY_MODEL_aa38490bbb06475eb90a439ae8a8c459"
      }
     },
     "cd5e7037204342458200d06a1dc2bedc": {
      "model_module": "@jupyter-widgets/controls",
      "model_module_version": "1.5.0",
      "model_name": "LabelModel",
      "state": {
       "layout": "IPY_MODEL_2a03a836b7ce4166ae97c65564bab4cf",
       "style": "IPY_MODEL_f93cf4b4de8141e2a36c5b068309e3fa",
       "value": "             objective 5"
      }
     },
     "cd5f948b765d43729b0f1df7f8835d35": {
      "model_module": "@jupyter-widgets/controls",
      "model_module_version": "1.5.0",
      "model_name": "ProgressStyleModel",
      "state": {
       "description_width": ""
      }
     },
     "cd6b5cce387340b09c6a4054b797adfb": {
      "model_module": "@jupyter-widgets/base",
      "model_module_version": "1.2.0",
      "model_name": "LayoutModel",
      "state": {
       "width": "60px"
      }
     },
     "cd71cf933f3c4b3aa9dea0024724a17f": {
      "model_module": "@jupyter-widgets/base",
      "model_module_version": "1.2.0",
      "model_name": "LayoutModel",
      "state": {
       "display": "none"
      }
     },
     "cd9da637fac44a289effdd389acaebd2": {
      "model_module": "@jupyter-widgets/controls",
      "model_module_version": "1.5.0",
      "model_name": "DescriptionStyleModel",
      "state": {
       "description_width": ""
      }
     },
     "cda8aaab1aa44ec7805eac51f0be4148": {
      "model_module": "@jupyter-widgets/controls",
      "model_module_version": "1.5.0",
      "model_name": "DescriptionStyleModel",
      "state": {
       "description_width": ""
      }
     },
     "cdcc7256c092407597fed8a6497fca68": {
      "model_module": "@jupyter-widgets/controls",
      "model_module_version": "1.5.0",
      "model_name": "ButtonStyleModel",
      "state": {}
     },
     "ce4105fdb11945d3a2a79739aaa84a36": {
      "model_module": "@jupyter-widgets/controls",
      "model_module_version": "1.5.0",
      "model_name": "DropdownModel",
      "state": {
       "_options_labels": [
        "Any",
        "Arc",
        "Solar",
        "Void"
       ],
       "index": 0,
       "layout": "IPY_MODEL_9fd1f2d0c9f4460d991ea4e17ed1f0a3",
       "style": "IPY_MODEL_307bbaa93bc3459eb399a85641cc493c"
      }
     },
     "cf2a7e0b7305459e810486698052e5c2": {
      "model_module": "@jupyter-widgets/controls",
      "model_module_version": "1.5.0",
      "model_name": "DescriptionStyleModel",
      "state": {
       "description_width": ""
      }
     },
     "cf7f311267b841b593dd360d705f0556": {
      "model_module": "@jupyter-widgets/controls",
      "model_module_version": "1.5.0",
      "model_name": "ButtonStyleModel",
      "state": {}
     },
     "cf902cd8d7c44c3bbe521017242e30a7": {
      "model_module": "@jupyter-widgets/base",
      "model_module_version": "1.2.0",
      "model_name": "LayoutModel",
      "state": {
       "width": "60px"
      }
     },
     "d03ab52ef1ab4567b1e1ad0706c76358": {
      "model_module": "@jupyter-widgets/controls",
      "model_module_version": "1.5.0",
      "model_name": "ButtonModel",
      "state": {
       "description": "EDIT",
       "layout": "IPY_MODEL_f0f0ff79299b465d9684fe2f0f6124f6",
       "style": "IPY_MODEL_29e383f434f94719a9f0c677e0ab4990"
      }
     },
     "d05d75ffcade4bb4937996f0f8a9a989": {
      "model_module": "@jupyter-widgets/base",
      "model_module_version": "1.2.0",
      "model_name": "LayoutModel",
      "state": {
       "border": "3px solid white",
       "display": "flex",
       "margin": "10px",
       "overflow": "visible",
       "padding": "10px",
       "width": "400px"
      }
     },
     "d0ab329bbda64f629dd39e5f2fa9ed2a": {
      "model_module": "@jupyter-widgets/controls",
      "model_module_version": "1.5.0",
      "model_name": "DescriptionStyleModel",
      "state": {
       "description_width": ""
      }
     },
     "d0ba6933d50c42b69fceb47c38c5632a": {
      "model_module": "@jupyter-widgets/base",
      "model_module_version": "1.2.0",
      "model_name": "LayoutModel",
      "state": {}
     },
     "d0c5dad0b266423a848bdf979299ba0a": {
      "model_module": "@jupyter-widgets/base",
      "model_module_version": "1.2.0",
      "model_name": "LayoutModel",
      "state": {
       "display": "none"
      }
     },
     "d0f195250fb24975b46fb6fb17b46039": {
      "model_module": "@jupyter-widgets/controls",
      "model_module_version": "1.5.0",
      "model_name": "HBoxModel",
      "state": {
       "children": [
        "IPY_MODEL_bd743c259a9d4026b551dc604b23f91e",
        "IPY_MODEL_e0d2625a372b4c97895766d320232315",
        "IPY_MODEL_e9dc42423b834bfaad045538888c4412",
        "IPY_MODEL_c18a617ea96b47c69a734eabcedb460d"
       ],
       "layout": "IPY_MODEL_12cf84888e5c4461848cd80246d8d14d"
      }
     },
     "d10fa4d090154f35a9a9e270b3409993": {
      "model_module": "@jupyter-widgets/controls",
      "model_module_version": "1.5.0",
      "model_name": "ButtonModel",
      "state": {
       "layout": "IPY_MODEL_d965074cab4c491ea3b2a93fe68c9867",
       "style": "IPY_MODEL_62150a28768f4b3b855269da25c79c14"
      }
     },
     "d1805f0d23ac44a3b4264493654d9815": {
      "model_module": "@jupyter-widgets/controls",
      "model_module_version": "1.5.0",
      "model_name": "ButtonModel",
      "state": {
       "layout": "IPY_MODEL_21f202eb90994d40973b8d6a7771461b",
       "style": "IPY_MODEL_7862fa1002c24770a129196c11f0b346"
      }
     },
     "d1c939a3d9ce48829e21e9033f4659bd": {
      "model_module": "@jupyter-widgets/controls",
      "model_module_version": "1.5.0",
      "model_name": "DescriptionStyleModel",
      "state": {
       "description_width": ""
      }
     },
     "d1e120a98c384e2882a7d04fbee4043c": {
      "model_module": "@jupyter-widgets/controls",
      "model_module_version": "1.5.0",
      "model_name": "ButtonStyleModel",
      "state": {}
     },
     "d242190ef2024bf48dee7dc0b1a04827": {
      "model_module": "@jupyter-widgets/controls",
      "model_module_version": "1.5.0",
      "model_name": "DescriptionStyleModel",
      "state": {
       "description_width": ""
      }
     },
     "d2519420916e4a6aa54af7fb0b40225a": {
      "model_module": "@jupyter-widgets/base",
      "model_module_version": "1.2.0",
      "model_name": "LayoutModel",
      "state": {
       "width": "60px"
      }
     },
     "d33469158c684f08a0ac9d76d826bdd7": {
      "model_module": "@jupyter-widgets/base",
      "model_module_version": "1.2.0",
      "model_name": "LayoutModel",
      "state": {
       "height": "32px",
       "overflow": "visible",
       "padding": "0px",
       "width": "100%"
      }
     },
     "d33e4fd260184ccab0c09e91f18c0c79": {
      "model_module": "@jupyter-widgets/controls",
      "model_module_version": "1.5.0",
      "model_name": "DescriptionStyleModel",
      "state": {
       "description_width": ""
      }
     },
     "d386edc92c584889b0c667544b8692be": {
      "model_module": "@jupyter-widgets/controls",
      "model_module_version": "1.5.0",
      "model_name": "VBoxModel",
      "state": {
       "children": [
        "IPY_MODEL_32ebb04735a04e19a02b62896ed77f70",
        "IPY_MODEL_d59524bd004f41ce85bd71e74b1ab618",
        "IPY_MODEL_e555362c70834d469552a9bf5a70904e",
        "IPY_MODEL_e41571d654574c2f886457f426d1f0f0",
        "IPY_MODEL_bd9233cb3d654887945e4601535f2a3a",
        "IPY_MODEL_ea9e2a653c7447ff820fb42c4f1fc6cc"
       ],
       "layout": "IPY_MODEL_9807cebe7d3c42f3a4f5b90f6f67a602"
      }
     },
     "d39d48caf2284a2fa7df348f9a101fd8": {
      "model_module": "@jupyter-widgets/controls",
      "model_module_version": "1.5.0",
      "model_name": "ButtonStyleModel",
      "state": {}
     },
     "d3e4447e4fb3443fbee88a9128c6f0b2": {
      "model_module": "@jupyter-widgets/controls",
      "model_module_version": "1.5.0",
      "model_name": "HBoxModel",
      "state": {
       "children": [
        "IPY_MODEL_74392e92a65f4256951e328bff59b82d",
        "IPY_MODEL_c499fbf34f8c4d029185079be3c675d7",
        "IPY_MODEL_731fb28024454217850400e0d973bcb4",
        "IPY_MODEL_162e41231c8c4c97a79c1a88632585e8"
       ],
       "layout": "IPY_MODEL_01ecb6cf6228409bbbf720027f9ac3eb"
      }
     },
     "d3f365df8c9442de8da92df2817e8ce6": {
      "model_module": "@jupyter-widgets/base",
      "model_module_version": "1.2.0",
      "model_name": "LayoutModel",
      "state": {
       "height": "32px",
       "overflow": "visible",
       "padding": "0px",
       "width": "100%"
      }
     },
     "d3f5148e442c4b1f87e5dd478bd14475": {
      "model_module": "@jupyter-widgets/controls",
      "model_module_version": "1.5.0",
      "model_name": "ProgressStyleModel",
      "state": {
       "description_width": ""
      }
     },
     "d3fe9db6557647cead25b7dccc962e8f": {
      "model_module": "@jupyter-widgets/base",
      "model_module_version": "1.2.0",
      "model_name": "LayoutModel",
      "state": {}
     },
     "d40029d473f6491a89d9b71e768e11c5": {
      "model_module": "@jupyter-widgets/controls",
      "model_module_version": "1.5.0",
      "model_name": "ButtonModel",
      "state": {
       "layout": "IPY_MODEL_21f202eb90994d40973b8d6a7771461b",
       "style": "IPY_MODEL_a0677c08b62746e4a97196e9c1032f81"
      }
     },
     "d46bfab263004939959779c54b665fa1": {
      "model_module": "@jupyter-widgets/controls",
      "model_module_version": "1.5.0",
      "model_name": "LabelModel",
      "state": {
       "layout": "IPY_MODEL_db9ee4b72f7e48c48436fb895dc09e82",
       "style": "IPY_MODEL_f0b5bb8b10a84e969f6feccd9ec24fe3",
       "value": "             objective 2"
      }
     },
     "d4d3034c8ba34fac932c1e8792863d6b": {
      "model_module": "@jupyter-widgets/controls",
      "model_module_version": "1.5.0",
      "model_name": "LabelModel",
      "state": {
       "layout": "IPY_MODEL_db9ee4b72f7e48c48436fb895dc09e82",
       "style": "IPY_MODEL_ac8396867b284aa2943e8477c6f563d8",
       "value": "             objective 4"
      }
     },
     "d4e8bc8c65ca40dc8722ff98bd8948e3": {
      "model_module": "@jupyter-widgets/base",
      "model_module_version": "1.2.0",
      "model_name": "LayoutModel",
      "state": {
       "width": "60px"
      }
     },
     "d50ddf0aaaae4207b3af04e216740396": {
      "model_module": "@jupyter-widgets/controls",
      "model_module_version": "1.5.0",
      "model_name": "DescriptionStyleModel",
      "state": {
       "description_width": ""
      }
     },
     "d52f9ecc04da4213a56843378e4d0d7b": {
      "model_module": "@jupyter-widgets/controls",
      "model_module_version": "1.5.0",
      "model_name": "ButtonStyleModel",
      "state": {}
     },
     "d541fe3ec3d04848ae40fe2ba3445c4f": {
      "model_module": "@jupyter-widgets/controls",
      "model_module_version": "1.5.0",
      "model_name": "VBoxModel",
      "state": {
       "children": [
        "IPY_MODEL_c59de76236bd4873be2b33b9fc44e78c",
        "IPY_MODEL_34baf7d6ecf847eb8cb02da6d702fd4e",
        "IPY_MODEL_9ee9154eb9d54bfeb050309a64baa2c4",
        "IPY_MODEL_0e328808a2a1477da2acc2a4221ed22d"
       ],
       "layout": "IPY_MODEL_56dbde452eb8489ab94e099e28f0358c"
      }
     },
     "d54a7a8d12a34c1bb2ceaf1f5c15bd22": {
      "model_module": "@jupyter-widgets/controls",
      "model_module_version": "1.5.0",
      "model_name": "ButtonStyleModel",
      "state": {}
     },
     "d564dc3d5c9e4bf1a388d7ae37328e68": {
      "model_module": "@jupyter-widgets/controls",
      "model_module_version": "1.5.0",
      "model_name": "ProgressStyleModel",
      "state": {
       "description_width": ""
      }
     },
     "d59524bd004f41ce85bd71e74b1ab618": {
      "model_module": "@jupyter-widgets/controls",
      "model_module_version": "1.5.0",
      "model_name": "HBoxModel",
      "state": {
       "children": [
        "IPY_MODEL_e2f1342aebfa4b7c96a0c17284eb8b23",
        "IPY_MODEL_367fec10feae4c46a174ff3646aafd10",
        "IPY_MODEL_ff01339406b3497791027f49f6eac7b3",
        "IPY_MODEL_5a2dd41c061d4cc98b7424ba11edaae3"
       ],
       "layout": "IPY_MODEL_92370613cdcf477299453a8fc1edc782"
      }
     },
     "d5ce236ec90d4356870838a7b213662d": {
      "model_module": "@jupyter-widgets/controls",
      "model_module_version": "1.5.0",
      "model_name": "ButtonStyleModel",
      "state": {}
     },
     "d5cee57bda2d4e6080f4b6eaa6bb9d0b": {
      "model_module": "@jupyter-widgets/controls",
      "model_module_version": "1.5.0",
      "model_name": "ButtonModel",
      "state": {
       "layout": "IPY_MODEL_d965074cab4c491ea3b2a93fe68c9867",
       "style": "IPY_MODEL_9ccf06797c154ed182ce454de89eb365"
      }
     },
     "d5eb389e19134e6388c27beea93999f8": {
      "model_module": "@jupyter-widgets/controls",
      "model_module_version": "1.5.0",
      "model_name": "ButtonStyleModel",
      "state": {}
     },
     "d5ede3370e4c45d29fdc30f2993577da": {
      "model_module": "@jupyter-widgets/base",
      "model_module_version": "1.2.0",
      "model_name": "LayoutModel",
      "state": {
       "width": "60px"
      }
     },
     "d5fc1663dcdb4e0e9cf4204608d8ce2c": {
      "model_module": "@jupyter-widgets/base",
      "model_module_version": "1.2.0",
      "model_name": "LayoutModel",
      "state": {}
     },
     "d607d7973b6b4f59a72528b2d3fbe8ff": {
      "model_module": "@jupyter-widgets/controls",
      "model_module_version": "1.5.0",
      "model_name": "ButtonStyleModel",
      "state": {}
     },
     "d63bc58bb97e4b4e91c2c2138b716f38": {
      "model_module": "@jupyter-widgets/base",
      "model_module_version": "1.2.0",
      "model_name": "LayoutModel",
      "state": {
       "display": "none"
      }
     },
     "d63d212328cc4d8c81d6ce070a384732": {
      "model_module": "@jupyter-widgets/controls",
      "model_module_version": "1.5.0",
      "model_name": "HTMLModel",
      "state": {
       "layout": "IPY_MODEL_ff08b385d96d4243a2cab77f19769896",
       "style": "IPY_MODEL_bbf3337e9e634ea8806fc857198cc784",
       "value": "<i></i>"
      }
     },
     "d6c48a88c2414a8b89350c9d0079297a": {
      "model_module": "@jupyter-widgets/base",
      "model_module_version": "1.2.0",
      "model_name": "LayoutModel",
      "state": {
       "border": "1px solid white",
       "padding": "10px",
       "width": "15%"
      }
     },
     "d6c6ffe11ab74fb99110767be1443e73": {
      "model_module": "@jupyter-widgets/base",
      "model_module_version": "1.2.0",
      "model_name": "LayoutModel",
      "state": {}
     },
     "d6d742f902ff46dd890387b5efad5e1b": {
      "model_module": "@jupyter-widgets/controls",
      "model_module_version": "1.5.0",
      "model_name": "IntProgressModel",
      "state": {
       "layout": "IPY_MODEL_27400526e0a442b7b7c4dbfd0bfeaceb",
       "style": "IPY_MODEL_b8b67b2f568947e6aaaa7128de5e11c0",
       "value": 30
      }
     },
     "d7136417d0be4ffb9a21233258c7685a": {
      "model_module": "@jupyter-widgets/base",
      "model_module_version": "1.2.0",
      "model_name": "LayoutModel",
      "state": {
       "width": "60px"
      }
     },
     "d73c88369a9b4214b2e691484ed4473d": {
      "model_module": "@jupyter-widgets/controls",
      "model_module_version": "1.5.0",
      "model_name": "IntProgressModel",
      "state": {
       "bar_style": "success",
       "layout": "IPY_MODEL_7eb9256572764a16b80566cc9de998de",
       "max": 1,
       "style": "IPY_MODEL_a0ff25cdaedc4874bf2afa36f700a74c",
       "value": 1
      }
     },
     "d7463c33c95648c8be2dd83bb7072d4f": {
      "model_module": "@jupyter-widgets/controls",
      "model_module_version": "1.5.0",
      "model_name": "ButtonStyleModel",
      "state": {}
     },
     "d7598bdb6bc346f9a765167a0330464d": {
      "model_module": "@jupyter-widgets/base",
      "model_module_version": "1.2.0",
      "model_name": "LayoutModel",
      "state": {}
     },
     "d7620a0c208a44d593beb30f574fefed": {
      "model_module": "@jupyter-widgets/base",
      "model_module_version": "1.2.0",
      "model_name": "LayoutModel",
      "state": {
       "width": "60px"
      }
     },
     "d79af918f7c24601b07b21c96ce75be2": {
      "model_module": "@jupyter-widgets/base",
      "model_module_version": "1.2.0",
      "model_name": "LayoutModel",
      "state": {
       "height": "32px",
       "overflow": "visible",
       "padding": "0px",
       "width": "100%"
      }
     },
     "d7e815a51e1c4cd2a07ee19adb573fc0": {
      "model_module": "@jupyter-widgets/base",
      "model_module_version": "1.2.0",
      "model_name": "LayoutModel",
      "state": {}
     },
     "d7f81ea570df4454ac9b752810586fe0": {
      "model_module": "@jupyter-widgets/controls",
      "model_module_version": "1.5.0",
      "model_name": "ButtonStyleModel",
      "state": {}
     },
     "d85a5fde477a4083b1644d499b004378": {
      "model_module": "@jupyter-widgets/base",
      "model_module_version": "1.2.0",
      "model_name": "LayoutModel",
      "state": {
       "border": "3px solid white",
       "display": "flex",
       "margin": "10px",
       "overflow": "visible",
       "padding": "10px",
       "width": "400px"
      }
     },
     "d89e00c8b0ed449ba2c43266f42eba00": {
      "model_module": "@jupyter-widgets/controls",
      "model_module_version": "1.5.0",
      "model_name": "DescriptionStyleModel",
      "state": {
       "description_width": ""
      }
     },
     "d90f4d036d0844b0b1861e37c18c9487": {
      "model_module": "@jupyter-widgets/controls",
      "model_module_version": "1.5.0",
      "model_name": "ButtonModel",
      "state": {
       "layout": "IPY_MODEL_39d06d4df1354686b91cb563a3fe505d",
       "style": "IPY_MODEL_0de609e3f4c747bbb492694a3a816172"
      }
     },
     "d91bcd4929234fabb2297b6dd4458f4b": {
      "model_module": "@jupyter-widgets/controls",
      "model_module_version": "1.5.0",
      "model_name": "LabelModel",
      "state": {
       "layout": "IPY_MODEL_13370eb9b0eb421c9bfdaf96619a82af",
       "style": "IPY_MODEL_1cb4e9783ae540778f92f28eb3cbaffa",
       "value": "             objective 1"
      }
     },
     "d92968bdc03b47a9b30d79c1d03cd58f": {
      "model_module": "@jupyter-widgets/controls",
      "model_module_version": "1.5.0",
      "model_name": "IntProgressModel",
      "state": {
       "layout": "IPY_MODEL_efb60c79236d457a97e0e8db813bd4cb",
       "style": "IPY_MODEL_7bf4ad17a9c3488894cae8fb8d501f7d",
       "value": 30
      }
     },
     "d965074cab4c491ea3b2a93fe68c9867": {
      "model_module": "@jupyter-widgets/base",
      "model_module_version": "1.2.0",
      "model_name": "LayoutModel",
      "state": {
       "height": "32px",
       "order": "-2",
       "width": "32px"
      }
     },
     "d9999b4fa8524ae3a5be3f448a005d59": {
      "model_module": "@jupyter-widgets/base",
      "model_module_version": "1.2.0",
      "model_name": "LayoutModel",
      "state": {
       "display": "flex"
      }
     },
     "d9e12d7bd93b4c58b51d36b477f36580": {
      "model_module": "@jupyter-widgets/base",
      "model_module_version": "1.2.0",
      "model_name": "LayoutModel",
      "state": {}
     },
     "d9e9c68591df482a9496b0391948635f": {
      "model_module": "@jupyter-widgets/controls",
      "model_module_version": "1.5.0",
      "model_name": "HBoxModel",
      "state": {
       "children": [
        "IPY_MODEL_040b07cacfe54849868776cc3b7cdc5f",
        "IPY_MODEL_a987e0cc4bdb46a6ae0c82ef27de76ed",
        "IPY_MODEL_12f768ca23d6438ab30c1d24d67b2cc3",
        "IPY_MODEL_154d69a5c24d4cf4a318562c2c587c51"
       ],
       "layout": "IPY_MODEL_4d130851cc2f413baf1066a3d2bb38d7"
      }
     },
     "da447927f0074a7186c39983c57804a7": {
      "model_module": "@jupyter-widgets/controls",
      "model_module_version": "1.5.0",
      "model_name": "DescriptionStyleModel",
      "state": {
       "description_width": ""
      }
     },
     "da78bd7c41e142d79a94c73deee7e1cd": {
      "model_module": "@jupyter-widgets/controls",
      "model_module_version": "1.5.0",
      "model_name": "ButtonStyleModel",
      "state": {}
     },
     "da9d473cc4a64a7eb83eb22490f148f3": {
      "model_module": "@jupyter-widgets/controls",
      "model_module_version": "1.5.0",
      "model_name": "ButtonModel",
      "state": {
       "description": "Refresh",
       "layout": "IPY_MODEL_b56194d0a3b2402ea151a2e7559dcac1",
       "style": "IPY_MODEL_3959ab02747d425f971a4e6f5aa3f645"
      }
     },
     "dab7990781a84c12ad0847182344349f": {
      "model_module": "@jupyter-widgets/controls",
      "model_module_version": "1.5.0",
      "model_name": "ProgressStyleModel",
      "state": {
       "description_width": ""
      }
     },
     "db24ce1d2a834e2da89cbaf107768e3a": {
      "model_module": "@jupyter-widgets/base",
      "model_module_version": "1.2.0",
      "model_name": "LayoutModel",
      "state": {
       "width": "60px"
      }
     },
     "db618dc226754d5299989a154f7caf22": {
      "model_module": "@jupyter-widgets/base",
      "model_module_version": "1.2.0",
      "model_name": "LayoutModel",
      "state": {
       "width": "60px"
      }
     },
     "db7a48803f7948108b1c4650d3eb50bf": {
      "model_module": "@jupyter-widgets/base",
      "model_module_version": "1.2.0",
      "model_name": "LayoutModel",
      "state": {
       "display": "none"
      }
     },
     "db9ee4b72f7e48c48436fb895dc09e82": {
      "model_module": "@jupyter-widgets/base",
      "model_module_version": "1.2.0",
      "model_name": "LayoutModel",
      "state": {
       "order": "-1",
       "overflow": "visible",
       "padding": "1px",
       "width": "0px"
      }
     },
     "dba7908eb9d84323b0ca212a2659fa7a": {
      "model_module": "@jupyter-widgets/base",
      "model_module_version": "1.2.0",
      "model_name": "LayoutModel",
      "state": {
       "border": "3px solid white",
       "display": "flex",
       "margin": "10px",
       "overflow": "visible",
       "padding": "10px",
       "width": "400px"
      }
     },
     "dbae2af3ce424d3496197cd3cd1dc1fa": {
      "model_module": "@jupyter-widgets/controls",
      "model_module_version": "1.5.0",
      "model_name": "HBoxModel",
      "state": {
       "children": [
        "IPY_MODEL_a78d09a311aa4875abfab858681167dd",
        "IPY_MODEL_e85e437e2cf4465291ae9c36c1953b24",
        "IPY_MODEL_81720ff33763430fbe3759ad6dea3338",
        "IPY_MODEL_e19549b2cd4947fe9a6a986a0ea26823"
       ],
       "layout": "IPY_MODEL_9789cdb349a24ee78771c356bb69e5c1"
      }
     },
     "dbb143486976410799fef217cb1f5f5f": {
      "model_module": "@jupyter-widgets/controls",
      "model_module_version": "1.5.0",
      "model_name": "ButtonModel",
      "state": {
       "layout": "IPY_MODEL_53328ad5dc044b6a96674389d335f19d",
       "style": "IPY_MODEL_a439e65c96c241a3a1c1392decc5cd31"
      }
     },
     "dc07c9b6f35643b9ae187c980ae46d86": {
      "model_module": "@jupyter-widgets/base",
      "model_module_version": "1.2.0",
      "model_name": "LayoutModel",
      "state": {
       "height": "32px",
       "overflow": "visible",
       "padding": "0px",
       "width": "100%"
      }
     },
     "dcfd9122558a4e5bad64d9c7ac8b7a2d": {
      "model_module": "@jupyter-widgets/controls",
      "model_module_version": "1.5.0",
      "model_name": "ButtonStyleModel",
      "state": {}
     },
     "dd06d61278304c23822f920eeb9a3373": {
      "model_module": "@jupyter-widgets/controls",
      "model_module_version": "1.5.0",
      "model_name": "ButtonModel",
      "state": {
       "description": "EDIT",
       "layout": "IPY_MODEL_66a9c6381296466caebe79b989fd3b61",
       "style": "IPY_MODEL_4f947d6130f14d09960080ebf7d56626"
      }
     },
     "dd38abcd301f4d7ea3909ea69834e0cf": {
      "model_module": "@jupyter-widgets/base",
      "model_module_version": "1.2.0",
      "model_name": "LayoutModel",
      "state": {
       "display": "flex",
       "flex_flow": "row wrap",
       "justify_content": "space-between"
      }
     },
     "dd5839c01ed940e1ae424373a8329d56": {
      "model_module": "@jupyter-widgets/base",
      "model_module_version": "1.2.0",
      "model_name": "LayoutModel",
      "state": {
       "display": "flex",
       "flex_flow": "row wrap"
      }
     },
     "dd5b64766a00469188ae0c0276731597": {
      "model_module": "@jupyter-widgets/controls",
      "model_module_version": "1.5.0",
      "model_name": "ButtonModel",
      "state": {
       "description": "EDIT",
       "layout": "IPY_MODEL_f68b4aac1fc344469822e1eefb4c62b5",
       "style": "IPY_MODEL_cf7f311267b841b593dd360d705f0556"
      }
     },
     "ddfeb3ecc71c4dd2b07e02d348b8e0a7": {
      "model_module": "@jupyter-widgets/controls",
      "model_module_version": "1.5.0",
      "model_name": "ProgressStyleModel",
      "state": {
       "description_width": ""
      }
     },
     "de179474a5084ab79acd22ad315c830c": {
      "model_module": "@jupyter-widgets/controls",
      "model_module_version": "1.5.0",
      "model_name": "VBoxModel",
      "state": {
       "children": [
        "IPY_MODEL_412c7a7e49ef4d09bbdc21c91a03875a",
        "IPY_MODEL_9e9b4b146bd94fbb8a8c3d17ccbaa484",
        "IPY_MODEL_8a1851508e494db08a66afab04d047f5",
        "IPY_MODEL_b3df59f1ecf94bb88ecc2bf9af990fb0"
       ],
       "layout": "IPY_MODEL_02ffb0faa4654c5c894f0b706219f269"
      }
     },
     "de789d9dbd864bdca5bfc6269bac7710": {
      "model_module": "@jupyter-widgets/controls",
      "model_module_version": "1.5.0",
      "model_name": "ButtonModel",
      "state": {
       "description": "EDIT",
       "layout": "IPY_MODEL_90440be4424d46a5a56c6d08a8e509d6",
       "style": "IPY_MODEL_f5ecb2d895df4f4c898d62f4a99a6408"
      }
     },
     "de825452da244051af8289f0ff540a67": {
      "model_module": "@jupyter-widgets/controls",
      "model_module_version": "1.5.0",
      "model_name": "ButtonModel",
      "state": {
       "description": "EDIT",
       "layout": "IPY_MODEL_eb305eb9138749f981ca44fce55a51ef",
       "style": "IPY_MODEL_465a4bfaa4d247a7845c924066746bd8"
      }
     },
     "de88e651b23241968d5656ab806cb2ba": {
      "model_module": "@jupyter-widgets/controls",
      "model_module_version": "1.5.0",
      "model_name": "ButtonStyleModel",
      "state": {}
     },
     "deabfbe87a3242f49e6e8865c89884e3": {
      "model_module": "@jupyter-widgets/controls",
      "model_module_version": "1.5.0",
      "model_name": "ProgressStyleModel",
      "state": {
       "description_width": ""
      }
     },
     "deae9ebe69964a4fbe1941929849ff94": {
      "model_module": "@jupyter-widgets/controls",
      "model_module_version": "1.5.0",
      "model_name": "VBoxModel",
      "state": {
       "children": [
        "IPY_MODEL_afd1fd5ccf984cf2ace23d3a810c4a44",
        "IPY_MODEL_50f0677f74c24b79a9168b86d848a881",
        "IPY_MODEL_dbae2af3ce424d3496197cd3cd1dc1fa",
        "IPY_MODEL_1b99fc65e0b74c99aa3b6477cefbd76c",
        "IPY_MODEL_bc38655cfff94c529deead7224fed747",
        "IPY_MODEL_0a545a66fa15445181323b63dfe08b70"
       ],
       "layout": "IPY_MODEL_40765377db214ee4a66c1ade7ad0a81f"
      }
     },
     "deccfb60d921459987e5d5c4b058603b": {
      "model_module": "@jupyter-widgets/base",
      "model_module_version": "1.2.0",
      "model_name": "LayoutModel",
      "state": {
       "display": "none"
      }
     },
     "df00d075487c4c0db73993d548632bd8": {
      "model_module": "@jupyter-widgets/base",
      "model_module_version": "1.2.0",
      "model_name": "LayoutModel",
      "state": {
       "order": "-1",
       "overflow": "visible",
       "padding": "1px",
       "width": "0px"
      }
     },
     "df42f99184c34540ad34042c397bc4f9": {
      "model_module": "@jupyter-widgets/controls",
      "model_module_version": "1.5.0",
      "model_name": "ButtonModel",
      "state": {
       "description": "EDIT",
       "layout": "IPY_MODEL_182ad77c4086495c82ab307046a80b29",
       "style": "IPY_MODEL_4f95c0f68a07489d9855e0362062769d"
      }
     },
     "df886dc1acb2414d88542ce3a7e8ae36": {
      "model_module": "@jupyter-widgets/controls",
      "model_module_version": "1.5.0",
      "model_name": "ButtonModel",
      "state": {
       "layout": "IPY_MODEL_5273f5c4c6674e88ace0dee1b367a13e",
       "style": "IPY_MODEL_e4a589c916bc40da9b52ad53b67cf414"
      }
     },
     "dfec0005cf2a44988a40682c622df536": {
      "model_module": "@jupyter-widgets/controls",
      "model_module_version": "1.5.0",
      "model_name": "HBoxModel",
      "state": {
       "children": [
        "IPY_MODEL_48a65990a9284783ad45101cd0494eac",
        "IPY_MODEL_3c9a573fd9c94968897b39e0f41ab088",
        "IPY_MODEL_b4c8748c41df4b46bf8afce6035a0007",
        "IPY_MODEL_214634b737e340a288fa0f86f39ae215"
       ],
       "layout": "IPY_MODEL_2777e01009b4424098749f4d32494211"
      }
     },
     "e01bc2dc822b44879d5322a6fabf1641": {
      "model_module": "@jupyter-widgets/controls",
      "model_module_version": "1.5.0",
      "model_name": "ButtonModel",
      "state": {
       "layout": "IPY_MODEL_53328ad5dc044b6a96674389d335f19d",
       "style": "IPY_MODEL_60cb07e99b69452a95957317f7bc27bc"
      }
     },
     "e0639f7b0a6b44f99bcfcc748a115b57": {
      "model_module": "@jupyter-widgets/controls",
      "model_module_version": "1.5.0",
      "model_name": "ButtonModel",
      "state": {
       "description": "EDIT",
       "layout": "IPY_MODEL_0da3fd782d84457286f145a61eede5c5",
       "style": "IPY_MODEL_509a7f61da9740ee98e2fce3fb647879"
      }
     },
     "e0a672b2ac8c471c84f72bc182266c37": {
      "model_module": "@jupyter-widgets/base",
      "model_module_version": "1.2.0",
      "model_name": "LayoutModel",
      "state": {
       "width": "60px"
      }
     },
     "e0d2625a372b4c97895766d320232315": {
      "model_module": "@jupyter-widgets/controls",
      "model_module_version": "1.5.0",
      "model_name": "IntProgressModel",
      "state": {
       "bar_style": "success",
       "layout": "IPY_MODEL_efb60c79236d457a97e0e8db813bd4cb",
       "max": 1,
       "style": "IPY_MODEL_a54d54d9a5b8409584376b66e2a825e3",
       "value": 1
      }
     },
     "e10c93a2b3e34d82b265ff02a05feb08": {
      "model_module": "@jupyter-widgets/controls",
      "model_module_version": "1.5.0",
      "model_name": "ButtonStyleModel",
      "state": {}
     },
     "e1333fe433c6441393819dd075d4bbec": {
      "model_module": "@jupyter-widgets/controls",
      "model_module_version": "1.5.0",
      "model_name": "DescriptionStyleModel",
      "state": {
       "description_width": ""
      }
     },
     "e138a9ab83ff4ef8b2f9a544f5420e9d": {
      "model_module": "@jupyter-widgets/controls",
      "model_module_version": "1.5.0",
      "model_name": "DescriptionStyleModel",
      "state": {
       "description_width": ""
      }
     },
     "e13b4d19063e4047bdd242e134ed028f": {
      "model_module": "@jupyter-widgets/base",
      "model_module_version": "1.2.0",
      "model_name": "LayoutModel",
      "state": {
       "width": "60px"
      }
     },
     "e15ef761c23e487189d2338d9be063d9": {
      "model_module": "@jupyter-widgets/base",
      "model_module_version": "1.2.0",
      "model_name": "LayoutModel",
      "state": {
       "overflow": "visible",
       "width": "100%"
      }
     },
     "e170098b5ab940ba916c004c272c7f41": {
      "model_module": "@jupyter-widgets/controls",
      "model_module_version": "1.5.0",
      "model_name": "IntProgressModel",
      "state": {
       "layout": "IPY_MODEL_805e879b1322474fbf45e4f8f8a05f73",
       "style": "IPY_MODEL_7a4ba08cdd1f42b9a9ae78e2a6bd2212",
       "value": 30
      }
     },
     "e19191984e964a6186b655010a3d4e73": {
      "model_module": "@jupyter-widgets/base",
      "model_module_version": "1.2.0",
      "model_name": "LayoutModel",
      "state": {}
     },
     "e19549b2cd4947fe9a6a986a0ea26823": {
      "model_module": "@jupyter-widgets/controls",
      "model_module_version": "1.5.0",
      "model_name": "ButtonModel",
      "state": {
       "description": "EDIT",
       "layout": "IPY_MODEL_8b5937593a6741f2b2acadcaf8e97ee5",
       "style": "IPY_MODEL_62b8dfedf30046ad8839f7add82187bb"
      }
     },
     "e1a6172f8690477f8d1da5b91028ed75": {
      "model_module": "@jupyter-widgets/controls",
      "model_module_version": "1.5.0",
      "model_name": "ButtonStyleModel",
      "state": {}
     },
     "e1b0c0040ae347039f04ceca794a140f": {
      "model_module": "@jupyter-widgets/base",
      "model_module_version": "1.2.0",
      "model_name": "LayoutModel",
      "state": {
       "display": "none"
      }
     },
     "e26160bd8b874a47a189e1ee7968db2c": {
      "model_module": "@jupyter-widgets/controls",
      "model_module_version": "1.5.0",
      "model_name": "ButtonStyleModel",
      "state": {}
     },
     "e27e68c86943434aba32269e2e7e9af0": {
      "model_module": "@jupyter-widgets/controls",
      "model_module_version": "1.5.0",
      "model_name": "HBoxModel",
      "state": {
       "children": [
        "IPY_MODEL_28eb24b86f88467a9145f9a52152b820",
        "IPY_MODEL_d92968bdc03b47a9b30d79c1d03cd58f",
        "IPY_MODEL_e8deb571f55947f8ad75df196e79333a",
        "IPY_MODEL_d03ab52ef1ab4567b1e1ad0706c76358"
       ],
       "layout": "IPY_MODEL_272f1d85068a4d33addb85ff246efaa8"
      }
     },
     "e28d36aec26f4404a4fbb241752ca6a9": {
      "model_module": "@jupyter-widgets/base",
      "model_module_version": "1.2.0",
      "model_name": "LayoutModel",
      "state": {
       "width": "60px"
      }
     },
     "e2da946ae48449ad94ff281d3aac02fa": {
      "model_module": "@jupyter-widgets/controls",
      "model_module_version": "1.5.0",
      "model_name": "ButtonStyleModel",
      "state": {}
     },
     "e2eda8ce25f04d458d849070ca2b38b9": {
      "model_module": "@jupyter-widgets/base",
      "model_module_version": "1.2.0",
      "model_name": "LayoutModel",
      "state": {
       "display": "none"
      }
     },
     "e2f1342aebfa4b7c96a0c17284eb8b23": {
      "model_module": "@jupyter-widgets/controls",
      "model_module_version": "1.5.0",
      "model_name": "ButtonModel",
      "state": {
       "layout": "IPY_MODEL_810a59a0197f48038f3041736400c732",
       "style": "IPY_MODEL_552311ea9428453e9f5aa53f0a705c93"
      }
     },
     "e2fd0918b0ac4edaadc0ba9669aff111": {
      "model_module": "@jupyter-widgets/controls",
      "model_module_version": "1.5.0",
      "model_name": "ButtonStyleModel",
      "state": {}
     },
     "e333247f8a934e8bb6e5cf0b0bdf75c2": {
      "model_module": "@jupyter-widgets/controls",
      "model_module_version": "1.5.0",
      "model_name": "DescriptionStyleModel",
      "state": {
       "description_width": ""
      }
     },
     "e3333f25991e43859601715c2fb3f351": {
      "model_module": "@jupyter-widgets/controls",
      "model_module_version": "1.5.0",
      "model_name": "ButtonStyleModel",
      "state": {}
     },
     "e3909a13628749ec8631703420b1898f": {
      "model_module": "@jupyter-widgets/controls",
      "model_module_version": "1.5.0",
      "model_name": "ButtonStyleModel",
      "state": {}
     },
     "e39761b67f0845798f03539e4d733db9": {
      "model_module": "@jupyter-widgets/controls",
      "model_module_version": "1.5.0",
      "model_name": "LabelModel",
      "state": {
       "layout": "IPY_MODEL_13370eb9b0eb421c9bfdaf96619a82af",
       "style": "IPY_MODEL_a8db36a97c324486b35595e5c5a57d5f",
       "value": "             objective 2"
      }
     },
     "e3fc2c30aa494836945b3f0fec110d8c": {
      "model_module": "@jupyter-widgets/controls",
      "model_module_version": "1.5.0",
      "model_name": "DescriptionStyleModel",
      "state": {
       "description_width": ""
      }
     },
     "e41571d654574c2f886457f426d1f0f0": {
      "model_module": "@jupyter-widgets/controls",
      "model_module_version": "1.5.0",
      "model_name": "HBoxModel",
      "state": {
       "children": [
        "IPY_MODEL_cd4b714f3a6841e889dfc8b39d9f4bb1",
        "IPY_MODEL_8bdab988238140efb2dd9de2de9ddbc4",
        "IPY_MODEL_fcb12da55ea44a61b9d733a4c859a570",
        "IPY_MODEL_6ac02f6add1e452a9f6169e9177d18d9"
       ],
       "layout": "IPY_MODEL_117039a9d4ba4a85af214dbe8981036e"
      }
     },
     "e420ad3c6f0e45f79004e85c79b8e22d": {
      "model_module": "@jupyter-widgets/controls",
      "model_module_version": "1.5.0",
      "model_name": "LabelModel",
      "state": {
       "layout": "IPY_MODEL_ac44968f614f4b9e85ba631201ed37c7",
       "style": "IPY_MODEL_a6ec750b3ad24933a2628e023a27b879",
       "value": "Activity:"
      }
     },
     "e42a98286e9e4fb79969d0bfde776088": {
      "model_module": "@jupyter-widgets/controls",
      "model_module_version": "1.5.0",
      "model_name": "ButtonModel",
      "state": {
       "layout": "IPY_MODEL_f119f68547074a5c9b7861dd0e476f75",
       "style": "IPY_MODEL_d7463c33c95648c8be2dd83bb7072d4f"
      }
     },
     "e44f6b128690492f8d2bd39a5b4f2d69": {
      "model_module": "@jupyter-widgets/controls",
      "model_module_version": "1.5.0",
      "model_name": "ProgressStyleModel",
      "state": {
       "description_width": ""
      }
     },
     "e467969965e549bea11f78e628b08308": {
      "model_module": "@jupyter-widgets/base",
      "model_module_version": "1.2.0",
      "model_name": "LayoutModel",
      "state": {
       "width": "60px"
      }
     },
     "e49c0d2d5c4b4a4f95840056d8f427de": {
      "model_module": "@jupyter-widgets/base",
      "model_module_version": "1.2.0",
      "model_name": "LayoutModel",
      "state": {
       "overflow": "visible",
       "width": "100%"
      }
     },
     "e4a589c916bc40da9b52ad53b67cf414": {
      "model_module": "@jupyter-widgets/controls",
      "model_module_version": "1.5.0",
      "model_name": "ButtonStyleModel",
      "state": {}
     },
     "e555362c70834d469552a9bf5a70904e": {
      "model_module": "@jupyter-widgets/controls",
      "model_module_version": "1.5.0",
      "model_name": "HBoxModel",
      "state": {
       "children": [
        "IPY_MODEL_8c32d2759ff94bfc812d099f775f1ffe",
        "IPY_MODEL_7f0c4677f80a45589f68581fc7d6dd4c",
        "IPY_MODEL_3a8194ef8ed34c7da382b66fe6cea977",
        "IPY_MODEL_587e2c2e796d4fdcb626b7dee4159d5f"
       ],
       "layout": "IPY_MODEL_cd71cf933f3c4b3aa9dea0024724a17f"
      }
     },
     "e56d4bdd67f745a7a131f07bf4d1f0f2": {
      "model_module": "@jupyter-widgets/controls",
      "model_module_version": "1.5.0",
      "model_name": "VBoxModel",
      "state": {
       "children": [
        "IPY_MODEL_c73a47a1465847eab501de8274e66ad0",
        "IPY_MODEL_9d4d2af335d64bdeb44b1863ec99d14a",
        "IPY_MODEL_cc720a65dace474b9ead598418951098",
        "IPY_MODEL_572f5666122c43dd950fae1cd16a3e07"
       ],
       "layout": "IPY_MODEL_d85a5fde477a4083b1644d499b004378"
      }
     },
     "e5cc6c1c34534046b3c1717653ca1b63": {
      "model_module": "@jupyter-widgets/base",
      "model_module_version": "1.2.0",
      "model_name": "LayoutModel",
      "state": {
       "width": "60px"
      }
     },
     "e613c470d56a4295999bbff2f0d922ea": {
      "model_module": "@jupyter-widgets/controls",
      "model_module_version": "1.5.0",
      "model_name": "DescriptionStyleModel",
      "state": {
       "description_width": ""
      }
     },
     "e637d99a6d804170bf616011e55fe0ff": {
      "model_module": "@jupyter-widgets/base",
      "model_module_version": "1.2.0",
      "model_name": "LayoutModel",
      "state": {
       "width": "60px"
      }
     },
     "e63ff846db0a4eb48c60c3afb181d06f": {
      "model_module": "@jupyter-widgets/controls",
      "model_module_version": "1.5.0",
      "model_name": "ProgressStyleModel",
      "state": {
       "description_width": ""
      }
     },
     "e66f07b337694c4e983589254d5f6426": {
      "model_module": "@jupyter-widgets/controls",
      "model_module_version": "1.5.0",
      "model_name": "DescriptionStyleModel",
      "state": {
       "description_width": ""
      }
     },
     "e6c25ac29b4646a094421979d156a320": {
      "model_module": "@jupyter-widgets/controls",
      "model_module_version": "1.5.0",
      "model_name": "LabelModel",
      "state": {
       "layout": "IPY_MODEL_7961ea1f11ea44e28371a62f7ab67143",
       "style": "IPY_MODEL_3aee05770c0944f7b51fd23de6f32a02",
       "value": "     (1/1)"
      }
     },
     "e6ce1e88ba3f4b3fb07d63b745bf63c5": {
      "model_module": "@jupyter-widgets/controls",
      "model_module_version": "1.5.0",
      "model_name": "DescriptionStyleModel",
      "state": {
       "description_width": ""
      }
     },
     "e6e46a45e02b474b859656eb3411c724": {
      "model_module": "@jupyter-widgets/base",
      "model_module_version": "1.2.0",
      "model_name": "LayoutModel",
      "state": {
       "width": "60px"
      }
     },
     "e7534f0d08024813a160a713e4457e85": {
      "model_module": "@jupyter-widgets/controls",
      "model_module_version": "1.5.0",
      "model_name": "ButtonModel",
      "state": {
       "layout": "IPY_MODEL_5273f5c4c6674e88ace0dee1b367a13e",
       "style": "IPY_MODEL_533595722bea4cd8be11558b36ec7513"
      }
     },
     "e77b015177b3400c80440bdc6a2062b5": {
      "model_module": "@jupyter-widgets/controls",
      "model_module_version": "1.5.0",
      "model_name": "IntProgressModel",
      "state": {
       "layout": "IPY_MODEL_d79af918f7c24601b07b21c96ce75be2",
       "style": "IPY_MODEL_933281f4aea04d44a56139eef7036280",
       "value": 30
      }
     },
     "e7d29c62e1344302bc751c0475982426": {
      "model_module": "@jupyter-widgets/base",
      "model_module_version": "1.2.0",
      "model_name": "LayoutModel",
      "state": {
       "display": "none"
      }
     },
     "e7ffed0507c14220975a2548cea42fe6": {
      "model_module": "@jupyter-widgets/base",
      "model_module_version": "1.2.0",
      "model_name": "LayoutModel",
      "state": {
       "display": "none"
      }
     },
     "e828c902395b4cad9e1eb5816a19ad77": {
      "model_module": "@jupyter-widgets/base",
      "model_module_version": "1.2.0",
      "model_name": "LayoutModel",
      "state": {
       "display": "none"
      }
     },
     "e85e437e2cf4465291ae9c36c1953b24": {
      "model_module": "@jupyter-widgets/controls",
      "model_module_version": "1.5.0",
      "model_name": "IntProgressModel",
      "state": {
       "layout": "IPY_MODEL_3c71d236c3874c039703a214a7b31bc1",
       "style": "IPY_MODEL_629e7c35a6514063a527d661850ac08e",
       "value": 30
      }
     },
     "e8a21420d7ae40ef8f1a1cc464f7ccc1": {
      "model_module": "@jupyter-widgets/base",
      "model_module_version": "1.2.0",
      "model_name": "LayoutModel",
      "state": {
       "display": "none"
      }
     },
     "e8deb571f55947f8ad75df196e79333a": {
      "model_module": "@jupyter-widgets/controls",
      "model_module_version": "1.5.0",
      "model_name": "LabelModel",
      "state": {
       "layout": "IPY_MODEL_427853489cc7448a89048fd571cafe69",
       "style": "IPY_MODEL_da447927f0074a7186c39983c57804a7",
       "value": "             objective 1"
      }
     },
     "e90b9ac73f504a4a9a9c14584debe2e0": {
      "model_module": "@jupyter-widgets/controls",
      "model_module_version": "1.5.0",
      "model_name": "ButtonStyleModel",
      "state": {}
     },
     "e9dc42423b834bfaad045538888c4412": {
      "model_module": "@jupyter-widgets/controls",
      "model_module_version": "1.5.0",
      "model_name": "LabelModel",
      "state": {
       "layout": "IPY_MODEL_427853489cc7448a89048fd571cafe69",
       "style": "IPY_MODEL_a6b3616cd5d341039145126a26f82658",
       "value": "     (1/1)"
      }
     },
     "ea07967484f842edb910bad9384e6b0a": {
      "model_module": "@jupyter-widgets/controls",
      "model_module_version": "1.5.0",
      "model_name": "ProgressStyleModel",
      "state": {
       "description_width": ""
      }
     },
     "ea2f63e8c14b4a07a93e06ac34462060": {
      "model_module": "@jupyter-widgets/controls",
      "model_module_version": "1.5.0",
      "model_name": "ButtonStyleModel",
      "state": {}
     },
     "ea39367fbc2a43f1a22f7fcbf17b9258": {
      "model_module": "@jupyter-widgets/controls",
      "model_module_version": "1.5.0",
      "model_name": "ButtonStyleModel",
      "state": {}
     },
     "ea3fc34f5e124aac91bd0f61063484e8": {
      "model_module": "@jupyter-widgets/controls",
      "model_module_version": "1.5.0",
      "model_name": "DescriptionStyleModel",
      "state": {
       "description_width": ""
      }
     },
     "ea4d715e52a24d14bff3c84956fdd065": {
      "model_module": "@jupyter-widgets/controls",
      "model_module_version": "1.5.0",
      "model_name": "IntProgressModel",
      "state": {
       "bar_style": "success",
       "layout": "IPY_MODEL_5913bb3e39594888b2ddeee31bfbcec9",
       "max": 1,
       "style": "IPY_MODEL_56340243a3eb4ad798d3eae73693112b",
       "value": 1
      }
     },
     "ea7e0949ef8c4485aa80093ce1e31c7e": {
      "model_module": "@jupyter-widgets/controls",
      "model_module_version": "1.5.0",
      "model_name": "IntProgressModel",
      "state": {
       "layout": "IPY_MODEL_b2b8c860423c400288526c3ef1930cf8",
       "style": "IPY_MODEL_c7f735dd773549e997e0de646df26209",
       "value": 30
      }
     },
     "ea9e2a653c7447ff820fb42c4f1fc6cc": {
      "model_module": "@jupyter-widgets/controls",
      "model_module_version": "1.5.0",
      "model_name": "HBoxModel",
      "state": {
       "children": [
        "IPY_MODEL_9f426fd6365747de9758708f51bda0ff",
        "IPY_MODEL_5148d708cf0448c08dca6fbca26be157",
        "IPY_MODEL_3404487ce14c495f86ca711fa01f0271",
        "IPY_MODEL_397d32d4a52c4ba0963c73f4c38e4263"
       ],
       "layout": "IPY_MODEL_08befc58d45740148afd3d336cc281d6"
      }
     },
     "eaa08bb453cb43a7adaf9ee817fb2a76": {
      "model_module": "@jupyter-widgets/controls",
      "model_module_version": "1.5.0",
      "model_name": "DropdownModel",
      "state": {
       "_options_labels": [
        "Any",
        "Arc",
        "Solar",
        "Void"
       ],
       "index": 0,
       "layout": "IPY_MODEL_9fd1f2d0c9f4460d991ea4e17ed1f0a3",
       "style": "IPY_MODEL_b64b4d7096604aed86969940780480f0"
      }
     },
     "eaa83ecf9fb146ff8c3b1d1f7119d18c": {
      "model_module": "@jupyter-widgets/controls",
      "model_module_version": "1.5.0",
      "model_name": "DescriptionStyleModel",
      "state": {
       "description_width": ""
      }
     },
     "eab244bfe9e34657a4abee2a16f098a8": {
      "model_module": "@jupyter-widgets/controls",
      "model_module_version": "1.5.0",
      "model_name": "ButtonStyleModel",
      "state": {}
     },
     "eabfd11278ec49d7a3bce58606258faf": {
      "model_module": "@jupyter-widgets/controls",
      "model_module_version": "1.5.0",
      "model_name": "LabelModel",
      "state": {
       "layout": "IPY_MODEL_ac44968f614f4b9e85ba631201ed37c7",
       "style": "IPY_MODEL_35310873e0de46cfb5ebc4b47ae42355",
       "value": "Weapon:"
      }
     },
     "eafea1b5597e455e81d9820397e24c07": {
      "model_module": "@jupyter-widgets/base",
      "model_module_version": "1.2.0",
      "model_name": "LayoutModel",
      "state": {
       "overflow": "visible",
       "width": "100%"
      }
     },
     "eb108ac174df4f8b9627dcc1eb407da4": {
      "model_module": "@jupyter-widgets/controls",
      "model_module_version": "1.5.0",
      "model_name": "ButtonModel",
      "state": {
       "layout": "IPY_MODEL_10341edf65124c5d9e52744115ed2c7c",
       "style": "IPY_MODEL_71c69b84499f48b784cccef420bd4d63"
      }
     },
     "eb305eb9138749f981ca44fce55a51ef": {
      "model_module": "@jupyter-widgets/base",
      "model_module_version": "1.2.0",
      "model_name": "LayoutModel",
      "state": {
       "width": "60px"
      }
     },
     "eb568385533c45e481109ff81c6efaaa": {
      "model_module": "@jupyter-widgets/controls",
      "model_module_version": "1.5.0",
      "model_name": "ButtonStyleModel",
      "state": {}
     },
     "eb71df0c5dc84dbda71319be27028e15": {
      "model_module": "@jupyter-widgets/controls",
      "model_module_version": "1.5.0",
      "model_name": "ProgressStyleModel",
      "state": {
       "description_width": ""
      }
     },
     "eb9dc8abf1954096937ec3633eed5e2c": {
      "model_module": "@jupyter-widgets/controls",
      "model_module_version": "1.5.0",
      "model_name": "DescriptionStyleModel",
      "state": {
       "description_width": ""
      }
     },
     "ebac56d38a7744a6a547dcb6fc688390": {
      "model_module": "@jupyter-widgets/controls",
      "model_module_version": "1.5.0",
      "model_name": "HTMLModel",
      "state": {
       "layout": "IPY_MODEL_a28b24d8442141eab9527fa32477a086",
       "style": "IPY_MODEL_f69707a03ab8475ba3dd39f25b4f6b4d",
       "value": "<font size=\"1\">Triumphs/Crucible/Mastery/Weapons/</font size=>"
      }
     },
     "ebccb111287145c7bb75c026498218bb": {
      "model_module": "@jupyter-widgets/controls",
      "model_module_version": "1.5.0",
      "model_name": "HBoxModel",
      "state": {
       "children": [
        "IPY_MODEL_8d3796ad3b304e3f8e8186b74bdfe9d3",
        "IPY_MODEL_3a532febdf6940aa8644e878b17f4fd8",
        "IPY_MODEL_6254c1ae06044a2f91aee63d34144ccd",
        "IPY_MODEL_32e005266b3f4dd092cf3e0f1be2085c"
       ],
       "layout": "IPY_MODEL_0995262b2cff47778b8a31803e630b85"
      }
     },
     "ebcd98ccce114e8a87ecc5f6bd3fdb5a": {
      "model_module": "@jupyter-widgets/controls",
      "model_module_version": "1.5.0",
      "model_name": "LabelModel",
      "state": {
       "layout": "IPY_MODEL_be921af9c19543a58a8508f5ad01b691",
       "style": "IPY_MODEL_c1960bc86da64f6d9ac339292668eb90",
       "value": "             objective 1"
      }
     },
     "ec0f766c1ffd4b0cb4775ec8453a1bef": {
      "model_module": "@jupyter-widgets/controls",
      "model_module_version": "1.5.0",
      "model_name": "DescriptionStyleModel",
      "state": {
       "description_width": ""
      }
     },
     "eca6669d9ae8411680e8fcc44bb8bc28": {
      "model_module": "@jupyter-widgets/base",
      "model_module_version": "1.2.0",
      "model_name": "LayoutModel",
      "state": {
       "display": "none"
      }
     },
     "ecaf504ca3ab405a963c35bec8a9026a": {
      "model_module": "@jupyter-widgets/controls",
      "model_module_version": "1.5.0",
      "model_name": "DescriptionStyleModel",
      "state": {
       "description_width": ""
      }
     },
     "ecf0126975994a2e94ceee5fe9ab8c25": {
      "model_module": "@jupyter-widgets/base",
      "model_module_version": "1.2.0",
      "model_name": "LayoutModel",
      "state": {
       "width": "20%"
      }
     },
     "ed57050314554a968fbfe3fbb510ed5b": {
      "model_module": "@jupyter-widgets/base",
      "model_module_version": "1.2.0",
      "model_name": "LayoutModel",
      "state": {}
     },
     "edcb7bc1ec2e404890711b74b82d78cc": {
      "model_module": "@jupyter-widgets/controls",
      "model_module_version": "1.5.0",
      "model_name": "ButtonStyleModel",
      "state": {}
     },
     "ee795cb854574982a05a5d39c96a9fb5": {
      "model_module": "@jupyter-widgets/base",
      "model_module_version": "1.2.0",
      "model_name": "LayoutModel",
      "state": {
       "display": "none"
      }
     },
     "ee7bb0769d8b46df8acbf2379b372ab0": {
      "model_module": "@jupyter-widgets/controls",
      "model_module_version": "1.5.0",
      "model_name": "DescriptionStyleModel",
      "state": {
       "description_width": ""
      }
     },
     "ee7de84fe0fa4aed84831765b5a79bc3": {
      "model_module": "@jupyter-widgets/controls",
      "model_module_version": "1.5.0",
      "model_name": "DescriptionStyleModel",
      "state": {
       "description_width": ""
      }
     },
     "eeb4ef284bf84982aa2f8ed16bbd6508": {
      "model_module": "@jupyter-widgets/base",
      "model_module_version": "1.2.0",
      "model_name": "LayoutModel",
      "state": {
       "display": "none"
      }
     },
     "eede78cac56245c38e65280830eab192": {
      "model_module": "@jupyter-widgets/base",
      "model_module_version": "1.2.0",
      "model_name": "LayoutModel",
      "state": {}
     },
     "eefd436d95ab438aafa1e469a3ef4944": {
      "model_module": "@jupyter-widgets/controls",
      "model_module_version": "1.5.0",
      "model_name": "IntProgressModel",
      "state": {
       "layout": "IPY_MODEL_bc6288a7e48841b0acf38fb8b9223da9",
       "style": "IPY_MODEL_960fbdc310914e2c90f0d28d8fbe0ce8",
       "value": 30
      }
     },
     "ef0e2c93347641df80db3c2a19199d74": {
      "model_module": "@jupyter-widgets/controls",
      "model_module_version": "1.5.0",
      "model_name": "DescriptionStyleModel",
      "state": {
       "description_width": ""
      }
     },
     "ef0fe7cbf88e4269929bb6e7d093f73e": {
      "model_module": "@jupyter-widgets/controls",
      "model_module_version": "1.5.0",
      "model_name": "ButtonStyleModel",
      "state": {}
     },
     "ef7e1ef259ae4b07957c4120c1a5a106": {
      "model_module": "@jupyter-widgets/controls",
      "model_module_version": "1.5.0",
      "model_name": "ButtonStyleModel",
      "state": {}
     },
     "efb60c79236d457a97e0e8db813bd4cb": {
      "model_module": "@jupyter-widgets/base",
      "model_module_version": "1.2.0",
      "model_name": "LayoutModel",
      "state": {
       "height": "32px",
       "overflow": "visible",
       "padding": "0px",
       "width": "100%"
      }
     },
     "efe0c8787b174b5aa86c72f46735ac4e": {
      "model_module": "@jupyter-widgets/controls",
      "model_module_version": "1.5.0",
      "model_name": "LabelModel",
      "state": {
       "layout": "IPY_MODEL_2a03a836b7ce4166ae97c65564bab4cf",
       "style": "IPY_MODEL_ecaf504ca3ab405a963c35bec8a9026a",
       "value": "             objective 2"
      }
     },
     "efe2e1d6a50a4cf3811800740c207979": {
      "model_module": "@jupyter-widgets/controls",
      "model_module_version": "1.5.0",
      "model_name": "ButtonModel",
      "state": {
       "layout": "IPY_MODEL_62e470f31deb42908309c330e01009a0",
       "style": "IPY_MODEL_9820a566b5ae4b578b9f58880d4e654b"
      }
     },
     "f05ce6a6bebf4452b9cafdd7dcd4a7d3": {
      "model_module": "@jupyter-widgets/base",
      "model_module_version": "1.2.0",
      "model_name": "LayoutModel",
      "state": {
       "overflow": "visible",
       "width": "100%"
      }
     },
     "f09dfdf71b124896bca5601d135bf90c": {
      "model_module": "@jupyter-widgets/controls",
      "model_module_version": "1.5.0",
      "model_name": "DescriptionStyleModel",
      "state": {
       "description_width": ""
      }
     },
     "f0ac15ae7d6349e98478589704ad1651": {
      "model_module": "@jupyter-widgets/controls",
      "model_module_version": "1.5.0",
      "model_name": "DescriptionStyleModel",
      "state": {
       "description_width": ""
      }
     },
     "f0b5bb8b10a84e969f6feccd9ec24fe3": {
      "model_module": "@jupyter-widgets/controls",
      "model_module_version": "1.5.0",
      "model_name": "DescriptionStyleModel",
      "state": {
       "description_width": ""
      }
     },
     "f0b9aa9ef18142ce82241faa7eaaadbe": {
      "model_module": "@jupyter-widgets/controls",
      "model_module_version": "1.5.0",
      "model_name": "HTMLModel",
      "state": {
       "layout": "IPY_MODEL_c3fb2f48ab00447b8ca48b234f17969e",
       "style": "IPY_MODEL_8a171bebf0b246f282df7a77f509b4dd",
       "value": "<font size=\"5\"><b>Bad Beat</b></font size=>"
      }
     },
     "f0c997c57ea9457582b7b0efd44c15ca": {
      "model_module": "@jupyter-widgets/controls",
      "model_module_version": "1.5.0",
      "model_name": "ButtonStyleModel",
      "state": {}
     },
     "f0f0ff79299b465d9684fe2f0f6124f6": {
      "model_module": "@jupyter-widgets/base",
      "model_module_version": "1.2.0",
      "model_name": "LayoutModel",
      "state": {
       "width": "60px"
      }
     },
     "f119f68547074a5c9b7861dd0e476f75": {
      "model_module": "@jupyter-widgets/base",
      "model_module_version": "1.2.0",
      "model_name": "LayoutModel",
      "state": {
       "height": "32px",
       "order": "-2",
       "width": "32px"
      }
     },
     "f11ecb639f864e0298122e0483353f73": {
      "model_module": "@jupyter-widgets/controls",
      "model_module_version": "1.5.0",
      "model_name": "ButtonStyleModel",
      "state": {}
     },
     "f122c91dcdd148c4a6989c986a1e0056": {
      "model_module": "@jupyter-widgets/base",
      "model_module_version": "1.2.0",
      "model_name": "LayoutModel",
      "state": {}
     },
     "f13a85b9454342b4b3a99ab2d6be9671": {
      "model_module": "@jupyter-widgets/controls",
      "model_module_version": "1.5.0",
      "model_name": "ButtonModel",
      "state": {
       "layout": "IPY_MODEL_62e470f31deb42908309c330e01009a0",
       "style": "IPY_MODEL_94be1e01cfac49a0946f38349d7f2103"
      }
     },
     "f1604c54a4294deb9a3c49812ff897fe": {
      "model_module": "@jupyter-widgets/base",
      "model_module_version": "1.2.0",
      "model_name": "LayoutModel",
      "state": {
       "height": "32px",
       "order": "-2",
       "width": "32px"
      }
     },
     "f165988c84bd4f64b0f77f8c3afd712f": {
      "model_module": "@jupyter-widgets/base",
      "model_module_version": "1.2.0",
      "model_name": "LayoutModel",
      "state": {
       "width": "60px"
      }
     },
     "f1a652b4450a46a7ade9b657e001ffb1": {
      "model_module": "@jupyter-widgets/controls",
      "model_module_version": "1.5.0",
      "model_name": "HBoxModel",
      "state": {
       "children": [
        "IPY_MODEL_888f073380644088a9042ce56a74035e",
        "IPY_MODEL_ac202b5d27ff47a3a38be95b4f9fa908",
        "IPY_MODEL_a42c6b057fed40c492b36da92d16abde",
        "IPY_MODEL_28ac75d5b6444b42a8eb0db0af539c08"
       ],
       "layout": "IPY_MODEL_a55e1a32a2054d10900109afef5866a3"
      }
     },
     "f1be72b7ec8d4d299c1fc71c20935ece": {
      "model_module": "@jupyter-widgets/controls",
      "model_module_version": "1.5.0",
      "model_name": "DescriptionStyleModel",
      "state": {
       "description_width": ""
      }
     },
     "f1c115e520a840aab08d31d4b8d4a772": {
      "model_module": "@jupyter-widgets/controls",
      "model_module_version": "1.5.0",
      "model_name": "HBoxModel",
      "state": {
       "children": [
        "IPY_MODEL_474ba2ed1a27440096346e20c22cf91a",
        "IPY_MODEL_c31072b6b5f04768ba27c2c9d4f048e7",
        "IPY_MODEL_8b5f478bf02344a6becaa42badb84f64",
        "IPY_MODEL_3ca0b2af45e7428b9ca34a9e7f678d37"
       ],
       "layout": "IPY_MODEL_5d53c138901543f481198ef8b5333933"
      }
     },
     "f1e7ae4a011f48ed9a0fcfd786560b5d": {
      "model_module": "@jupyter-widgets/base",
      "model_module_version": "1.2.0",
      "model_name": "LayoutModel",
      "state": {
       "width": "60px"
      }
     },
     "f2042357983949048416842d1085649c": {
      "model_module": "@jupyter-widgets/base",
      "model_module_version": "1.2.0",
      "model_name": "LayoutModel",
      "state": {
       "width": "60px"
      }
     },
     "f217697126b446bd8e8860ce0dd4a495": {
      "model_module": "@jupyter-widgets/controls",
      "model_module_version": "1.5.0",
      "model_name": "IntProgressModel",
      "state": {
       "layout": "IPY_MODEL_5913bb3e39594888b2ddeee31bfbcec9",
       "style": "IPY_MODEL_5fa55ffcfeff4cdf87085b9828168da2",
       "value": 30
      }
     },
     "f241086f389a4a0c9146624cf368914d": {
      "model_module": "@jupyter-widgets/controls",
      "model_module_version": "1.5.0",
      "model_name": "ButtonStyleModel",
      "state": {}
     },
     "f293065cfc564bc3ab85aec24d99c344": {
      "model_module": "@jupyter-widgets/controls",
      "model_module_version": "1.5.0",
      "model_name": "ButtonStyleModel",
      "state": {}
     },
     "f298d16cc7df4555b62b6f0a152ec540": {
      "model_module": "@jupyter-widgets/controls",
      "model_module_version": "1.5.0",
      "model_name": "DescriptionStyleModel",
      "state": {
       "description_width": ""
      }
     },
     "f2b13b4656134e5a9a29f921ecb060bd": {
      "model_module": "@jupyter-widgets/base",
      "model_module_version": "1.2.0",
      "model_name": "LayoutModel",
      "state": {
       "border": "3px solid white",
       "display": "flex",
       "margin": "10px",
       "overflow": "visible",
       "padding": "10px",
       "width": "400px"
      }
     },
     "f2b4b10f384944b9908b1839b6387b9b": {
      "model_module": "@jupyter-widgets/controls",
      "model_module_version": "1.5.0",
      "model_name": "HBoxModel",
      "state": {
       "children": [
        "IPY_MODEL_a5af207ef60d4aa78162c525b2b8d5ef",
        "IPY_MODEL_50cf47a0f3994a78a16c9e8fcc7b8554",
        "IPY_MODEL_3d9d82c860b84d3ebd4b9a1613a882b0",
        "IPY_MODEL_59fc8d6e518644b1bc8d4be975561071"
       ],
       "layout": "IPY_MODEL_13e666348b104163ab28a6879ce9b0f3"
      }
     },
     "f2b59343fd8b4d3da8a705a7ee13b2e8": {
      "model_module": "@jupyter-widgets/controls",
      "model_module_version": "1.5.0",
      "model_name": "LabelModel",
      "state": {
       "layout": "IPY_MODEL_7961ea1f11ea44e28371a62f7ab67143",
       "style": "IPY_MODEL_6e636f889bba4ca7987a29f3ba52b8ee",
       "value": "             objective 4"
      }
     },
     "f347374d76f24875973ca4350c4313ab": {
      "model_module": "@jupyter-widgets/controls",
      "model_module_version": "1.5.0",
      "model_name": "ProgressStyleModel",
      "state": {
       "description_width": ""
      }
     },
     "f3562a62993845b8ae5721141f0fdf59": {
      "model_module": "@jupyter-widgets/controls",
      "model_module_version": "1.5.0",
      "model_name": "DescriptionStyleModel",
      "state": {
       "description_width": ""
      }
     },
     "f395a95fd7764f0db143292b4fad3627": {
      "model_module": "@jupyter-widgets/base",
      "model_module_version": "1.2.0",
      "model_name": "LayoutModel",
      "state": {
       "overflow": "visible",
       "width": "100%"
      }
     },
     "f395f40d2eeb4c348ca0f0cbe7a95899": {
      "model_module": "@jupyter-widgets/controls",
      "model_module_version": "1.5.0",
      "model_name": "DescriptionStyleModel",
      "state": {
       "description_width": ""
      }
     },
     "f3c5a60cb2af40869eaa66d247e25b8a": {
      "model_module": "@jupyter-widgets/base",
      "model_module_version": "1.2.0",
      "model_name": "LayoutModel",
      "state": {
       "width": "60px"
      }
     },
     "f402d0436eee466796cef92adb149d83": {
      "model_module": "@jupyter-widgets/base",
      "model_module_version": "1.2.0",
      "model_name": "LayoutModel",
      "state": {}
     },
     "f434dce84bdc45e9ba99f6f2b83fe7e4": {
      "model_module": "@jupyter-widgets/controls",
      "model_module_version": "1.5.0",
      "model_name": "IntProgressModel",
      "state": {
       "layout": "IPY_MODEL_5913bb3e39594888b2ddeee31bfbcec9",
       "style": "IPY_MODEL_63cb0ee2285a41b2b2f19e03faf4e028",
       "value": 30
      }
     },
     "f451a3481ea1473f8ae84a1b81a4d045": {
      "model_module": "@jupyter-widgets/base",
      "model_module_version": "1.2.0",
      "model_name": "LayoutModel",
      "state": {
       "display": "flex"
      }
     },
     "f522012b966148139b84536f13efe1b6": {
      "model_module": "@jupyter-widgets/output",
      "model_module_version": "1.0.0",
      "model_name": "OutputModel",
      "state": {
       "layout": "IPY_MODEL_a43cc87c447b4f19950f009f586693f9",
       "outputs": [
        {
         "name": "stdout",
         "output_type": "stream",
         "text": " - name : Whether Windmills or Cranes\n - path : Triumphs/Lore/The Light/Ghost Stories\n - description : \n - expired : False\n - objectives\n   - 272434793\n     - name : \n     - description : \n     - completionValue : 1\n     - progress : 1\n     - complete : True\n - complete : True\n"
        }
       ]
      }
     },
     "f53be755bd5044f1af763809d8d21358": {
      "model_module": "@jupyter-widgets/controls",
      "model_module_version": "1.5.0",
      "model_name": "HBoxModel",
      "state": {
       "children": [
        "IPY_MODEL_f13a85b9454342b4b3a99ab2d6be9671",
        "IPY_MODEL_e170098b5ab940ba916c004c272c7f41",
        "IPY_MODEL_5dc4a172d3d14d1dbe7038bf01a5fed8",
        "IPY_MODEL_ccdaeed9465b4e0a83a538d086748d90"
       ],
       "layout": "IPY_MODEL_93799b4031c64d2e88834fad0ff65ac2"
      }
     },
     "f5801d3425774baf81da0c24be6420cf": {
      "model_module": "@jupyter-widgets/controls",
      "model_module_version": "1.5.0",
      "model_name": "ProgressStyleModel",
      "state": {
       "description_width": ""
      }
     },
     "f5a9578103bb4e4c816a714c1728a6c1": {
      "model_module": "@jupyter-widgets/controls",
      "model_module_version": "1.5.0",
      "model_name": "VBoxModel",
      "state": {
       "children": [
        "IPY_MODEL_11a6742322f94a02bc91dcaf9a9d9bfa",
        "IPY_MODEL_2d954afa9d9f4b5dbaaa348f52e85b55",
        "IPY_MODEL_33fb76eead5b421c909a011dcb00cfe2",
        "IPY_MODEL_4dc021590c32404181c9a23042648ff1"
       ],
       "layout": "IPY_MODEL_dba7908eb9d84323b0ca212a2659fa7a"
      }
     },
     "f5b708a615bf45cdbb9cfb0c19e2100b": {
      "model_module": "@jupyter-widgets/base",
      "model_module_version": "1.2.0",
      "model_name": "LayoutModel",
      "state": {
       "display": "none"
      }
     },
     "f5d0c0db9a2148cd84ded6d28d1d416d": {
      "model_module": "@jupyter-widgets/controls",
      "model_module_version": "1.5.0",
      "model_name": "VBoxModel",
      "state": {
       "children": [
        "IPY_MODEL_c9b236e615884a84b87626b5962ea541",
        "IPY_MODEL_b1ce99f76f2a4c4fb5f2b75bc3c850cc",
        "IPY_MODEL_493094354c78491c85b8799242a275a0",
        "IPY_MODEL_d3e4447e4fb3443fbee88a9128c6f0b2",
        "IPY_MODEL_395218163cb441ea847d3ad300819215",
        "IPY_MODEL_0d216ce1233146e2875b98a796ccc8fc"
       ],
       "layout": "IPY_MODEL_4053e2c16c46493caff4214dfd28f81f"
      }
     },
     "f5e9c1f18569456183563918df318994": {
      "model_module": "@jupyter-widgets/controls",
      "model_module_version": "1.5.0",
      "model_name": "ButtonStyleModel",
      "state": {}
     },
     "f5ecb2d895df4f4c898d62f4a99a6408": {
      "model_module": "@jupyter-widgets/controls",
      "model_module_version": "1.5.0",
      "model_name": "ButtonStyleModel",
      "state": {}
     },
     "f6445e0c9bee46b88a880a179678f61b": {
      "model_module": "@jupyter-widgets/controls",
      "model_module_version": "1.5.0",
      "model_name": "IntProgressModel",
      "state": {
       "layout": "IPY_MODEL_b2b8c860423c400288526c3ef1930cf8",
       "style": "IPY_MODEL_272d5e7146644d4b8ae79d9159b33e36",
       "value": 30
      }
     },
     "f68b4aac1fc344469822e1eefb4c62b5": {
      "model_module": "@jupyter-widgets/base",
      "model_module_version": "1.2.0",
      "model_name": "LayoutModel",
      "state": {
       "width": "60px"
      }
     },
     "f69707a03ab8475ba3dd39f25b4f6b4d": {
      "model_module": "@jupyter-widgets/controls",
      "model_module_version": "1.5.0",
      "model_name": "DescriptionStyleModel",
      "state": {
       "description_width": ""
      }
     },
     "f69a6ebaf70644fda7b69581a75a127b": {
      "model_module": "@jupyter-widgets/controls",
      "model_module_version": "1.5.0",
      "model_name": "IntProgressModel",
      "state": {
       "layout": "IPY_MODEL_3c71d236c3874c039703a214a7b31bc1",
       "style": "IPY_MODEL_86a81e2b49d347f8b98a3080a9b9df95",
       "value": 30
      }
     },
     "f6f24273614248f6ad9d03bf2eb41998": {
      "model_module": "@jupyter-widgets/base",
      "model_module_version": "1.2.0",
      "model_name": "LayoutModel",
      "state": {
       "overflow": "visible",
       "width": "100%"
      }
     },
     "f7230f710f4d407cb7b9e0907e585cb4": {
      "model_module": "@jupyter-widgets/controls",
      "model_module_version": "1.5.0",
      "model_name": "LabelModel",
      "state": {
       "layout": "IPY_MODEL_77ca4ec0767e43629d0245781730f6cb",
       "style": "IPY_MODEL_e333247f8a934e8bb6e5cf0b0bdf75c2",
       "value": "             objective 5"
      }
     },
     "f729d36a12b14aa08f2669d150ec92e9": {
      "model_module": "@jupyter-widgets/base",
      "model_module_version": "1.2.0",
      "model_name": "LayoutModel",
      "state": {
       "display": "none"
      }
     },
     "f72ce49ff7a34648998b600b3847abd9": {
      "model_module": "@jupyter-widgets/controls",
      "model_module_version": "1.5.0",
      "model_name": "ButtonModel",
      "state": {
       "description": "EDIT",
       "layout": "IPY_MODEL_c880529f2ecd4b0a8422e8d3d5aa9232",
       "style": "IPY_MODEL_c43ec35e86a84547b8c4b4c56a7b3940"
      }
     },
     "f7ab5e66d185465ebd75c2f1f4d7befd": {
      "model_module": "@jupyter-widgets/base",
      "model_module_version": "1.2.0",
      "model_name": "LayoutModel",
      "state": {
       "width": "60px"
      }
     },
     "f7afa93e4d46465192f7a810bf80a2e2": {
      "model_module": "@jupyter-widgets/controls",
      "model_module_version": "1.5.0",
      "model_name": "ButtonModel",
      "state": {
       "layout": "IPY_MODEL_6699ef01bd5d4bceabd3d7bb083274d6",
       "style": "IPY_MODEL_9bb17d58f26e4d79b873339ad39d5110"
      }
     },
     "f7ec47f990824fb5ad81ae3e9fe0e68d": {
      "model_module": "@jupyter-widgets/controls",
      "model_module_version": "1.5.0",
      "model_name": "DescriptionStyleModel",
      "state": {
       "description_width": ""
      }
     },
     "f7ed99b3b01a4a7faa2a232e92be72da": {
      "model_module": "@jupyter-widgets/controls",
      "model_module_version": "1.5.0",
      "model_name": "ProgressStyleModel",
      "state": {
       "description_width": ""
      }
     },
     "f7f2da62dbaa4c8fb98f49a82bb3ddb9": {
      "model_module": "@jupyter-widgets/controls",
      "model_module_version": "1.5.0",
      "model_name": "ButtonStyleModel",
      "state": {}
     },
     "f8153874f9654c66a555ce5c056eb31e": {
      "model_module": "@jupyter-widgets/controls",
      "model_module_version": "1.5.0",
      "model_name": "HTMLModel",
      "state": {
       "layout": "IPY_MODEL_f395a95fd7764f0db143292b4fad3627",
       "style": "IPY_MODEL_48a24615704f4bb7b2eb6d0a543bb275",
       "value": "<font size=\"1\">Triumphs/Crucible/Medals/Combat/</font size=>"
      }
     },
     "f8b5a8ebac9345788e865c08a80374b8": {
      "model_module": "@jupyter-widgets/controls",
      "model_module_version": "1.5.0",
      "model_name": "DescriptionStyleModel",
      "state": {
       "description_width": ""
      }
     },
     "f902a931dabb49ea861e624b9bb57282": {
      "model_module": "@jupyter-widgets/controls",
      "model_module_version": "1.5.0",
      "model_name": "HBoxModel",
      "state": {
       "children": [
        "IPY_MODEL_b973ecf81b2446949d300f7f55bfdda0",
        "IPY_MODEL_0606a2f669cd4b4f8ee4f5f395e1ccdd",
        "IPY_MODEL_8f133c0013dc4b31943d52d93b17a00d",
        "IPY_MODEL_218f3d70b7e94adc8ab47c6ecb56334a"
       ],
       "layout": "IPY_MODEL_e2eda8ce25f04d458d849070ca2b38b9"
      }
     },
     "f9061a9beaa44854a7faf2a3e8d9241a": {
      "model_module": "@jupyter-widgets/base",
      "model_module_version": "1.2.0",
      "model_name": "LayoutModel",
      "state": {
       "width": "60px"
      }
     },
     "f909a22023814f5eafcf5f13102c4c4e": {
      "model_module": "@jupyter-widgets/controls",
      "model_module_version": "1.5.0",
      "model_name": "ButtonStyleModel",
      "state": {}
     },
     "f91e069b46924a60aa7e78eb0beece63": {
      "model_module": "@jupyter-widgets/controls",
      "model_module_version": "1.5.0",
      "model_name": "HTMLModel",
      "state": {
       "layout": "IPY_MODEL_8c22a563595c45019d1f445243bcae45",
       "style": "IPY_MODEL_1af292256b6e4187888b505b5ebdb752",
       "value": "<i></i>"
      }
     },
     "f9263761f0ac423a9bc91a2e926d4ae6": {
      "model_module": "@jupyter-widgets/controls",
      "model_module_version": "1.5.0",
      "model_name": "ButtonModel",
      "state": {
       "layout": "IPY_MODEL_213939b5bd9749d8b7b3b36e96ad7a8d",
       "style": "IPY_MODEL_224422ce78aa4e18af5be9c2806f585e"
      }
     },
     "f93cf4b4de8141e2a36c5b068309e3fa": {
      "model_module": "@jupyter-widgets/controls",
      "model_module_version": "1.5.0",
      "model_name": "DescriptionStyleModel",
      "state": {
       "description_width": ""
      }
     },
     "f941ec0e7ae44c468ecadb09ef23f110": {
      "model_module": "@jupyter-widgets/controls",
      "model_module_version": "1.5.0",
      "model_name": "ButtonStyleModel",
      "state": {}
     },
     "f9b5f82dd0ed4d69988f961a9d303182": {
      "model_module": "@jupyter-widgets/controls",
      "model_module_version": "1.5.0",
      "model_name": "DescriptionStyleModel",
      "state": {
       "description_width": ""
      }
     },
     "f9d25e01075c4a08996a2aff41c1d6d2": {
      "model_module": "@jupyter-widgets/controls",
      "model_module_version": "1.5.0",
      "model_name": "DescriptionStyleModel",
      "state": {
       "description_width": ""
      }
     },
     "f9d9a1df6c6f47b6a71ab8fbf9e0efa3": {
      "model_module": "@jupyter-widgets/controls",
      "model_module_version": "1.5.0",
      "model_name": "VBoxModel",
      "state": {
       "children": [
        "IPY_MODEL_b11a4e06c924434da48bc97e77c38237",
        "IPY_MODEL_a18a18b633394e32a3af0914bc7f8ebe",
        "IPY_MODEL_7ffeef9c55f64be896595e0951d48830",
        "IPY_MODEL_3e274a4b45f341cc9350812419c6edc0"
       ],
       "layout": "IPY_MODEL_064df75cdd7b49bdb01022260df246e1"
      }
     },
     "fa287bd545bb4972bdcb48517a828b01": {
      "model_module": "@jupyter-widgets/controls",
      "model_module_version": "1.5.0",
      "model_name": "HBoxModel",
      "state": {
       "children": [
        "IPY_MODEL_98e3fbf8b9c24130854dd8318e7eb92f",
        "IPY_MODEL_bc117112e4f24de1ad1cf170370c124c",
        "IPY_MODEL_d91bcd4929234fabb2297b6dd4458f4b",
        "IPY_MODEL_b200458265ec47499ecfdb4794bfea46"
       ],
       "layout": "IPY_MODEL_e7ffed0507c14220975a2548cea42fe6"
      }
     },
     "fa57a386fe8e45f7bf7885a511a19acc": {
      "model_module": "@jupyter-widgets/base",
      "model_module_version": "1.2.0",
      "model_name": "LayoutModel",
      "state": {
       "display": "none"
      }
     },
     "fafb7bb190cb4301a4429772b79faf37": {
      "model_module": "@jupyter-widgets/controls",
      "model_module_version": "1.5.0",
      "model_name": "ButtonModel",
      "state": {
       "layout": "IPY_MODEL_39d06d4df1354686b91cb563a3fe505d",
       "style": "IPY_MODEL_65f5119fad5544839043b5b303e2ea7c"
      }
     },
     "fb0ce289b0144871a0ebb2a9d8c3ce3a": {
      "model_module": "@jupyter-widgets/controls",
      "model_module_version": "1.5.0",
      "model_name": "ButtonModel",
      "state": {
       "layout": "IPY_MODEL_9fada2a0e36341b68dcd055b41a73a2e",
       "style": "IPY_MODEL_1be34bbed7114df0881ce77ded2c3844"
      }
     },
     "fbb9810477194dadbb1861f3f8b67219": {
      "model_module": "@jupyter-widgets/base",
      "model_module_version": "1.2.0",
      "model_name": "LayoutModel",
      "state": {}
     },
     "fbe5c20e4e68456ba4fd176c6c3cec6c": {
      "model_module": "@jupyter-widgets/controls",
      "model_module_version": "1.5.0",
      "model_name": "HTMLModel",
      "state": {
       "layout": "IPY_MODEL_9223eef5458d4972b37f756a5974d100",
       "style": "IPY_MODEL_9619808d4f5d4a7195dd1a49f93344ef",
       "value": "<font size=\"5\"><b>The Witch</b></font size=>"
      }
     },
     "fc2e4a87ad55467a9103772209ba1cf5": {
      "model_module": "@jupyter-widgets/controls",
      "model_module_version": "1.5.0",
      "model_name": "HBoxModel",
      "state": {
       "children": [
        "IPY_MODEL_56ca50b6f19846588c9dba64ae94eab2",
        "IPY_MODEL_bcf17a10ef084f2fbb318dfb0f09ef7a",
        "IPY_MODEL_69dd2f04ddb54820921ddcdf750b35c8",
        "IPY_MODEL_7526eb679b9e4283857ec09a139db195"
       ],
       "layout": "IPY_MODEL_eca6669d9ae8411680e8fcc44bb8bc28"
      }
     },
     "fc8f9ac2fee647b383897b9b0d8bf2dd": {
      "model_module": "@jupyter-widgets/controls",
      "model_module_version": "1.5.0",
      "model_name": "ButtonModel",
      "state": {
       "description": "EDIT",
       "layout": "IPY_MODEL_8ef02f45ad1c43cfa313acdad8c2a62b",
       "style": "IPY_MODEL_2aabcff20245464ba75391f0440e207f"
      }
     },
     "fca2674fc15e442db776bf91b6e571e6": {
      "model_module": "@jupyter-widgets/controls",
      "model_module_version": "1.5.0",
      "model_name": "ProgressStyleModel",
      "state": {
       "description_width": ""
      }
     },
     "fcb12da55ea44a61b9d733a4c859a570": {
      "model_module": "@jupyter-widgets/controls",
      "model_module_version": "1.5.0",
      "model_name": "LabelModel",
      "state": {
       "layout": "IPY_MODEL_7961ea1f11ea44e28371a62f7ab67143",
       "style": "IPY_MODEL_12c17cfe68cd459ba62630474cb8a3e9",
       "value": "             objective 3"
      }
     },
     "fcb4aca329804dd98ec8394b3e45e619": {
      "model_module": "@jupyter-widgets/base",
      "model_module_version": "1.2.0",
      "model_name": "LayoutModel",
      "state": {
       "order": "-1",
       "overflow": "visible",
       "padding": "1px",
       "width": "0px"
      }
     },
     "fcf6c45a7cb94cf3aa2092d7578e8f0a": {
      "model_module": "@jupyter-widgets/controls",
      "model_module_version": "1.5.0",
      "model_name": "ButtonModel",
      "state": {
       "description": "EDIT",
       "layout": "IPY_MODEL_b9659d54c1b04189b28158ba4b61409f",
       "style": "IPY_MODEL_a00ed1061b734840ad53738a5845763f"
      }
     },
     "fd0611a5e91c418f9bb4e861af7dc9a6": {
      "model_module": "@jupyter-widgets/controls",
      "model_module_version": "1.5.0",
      "model_name": "DescriptionStyleModel",
      "state": {
       "description_width": ""
      }
     },
     "fd12482e44ce4771bed39749f8d77f3e": {
      "model_module": "@jupyter-widgets/controls",
      "model_module_version": "1.5.0",
      "model_name": "ButtonModel",
      "state": {
       "layout": "IPY_MODEL_9fada2a0e36341b68dcd055b41a73a2e",
       "style": "IPY_MODEL_de88e651b23241968d5656ab806cb2ba"
      }
     },
     "fd2efd41d8fc4e89bd23f1219c220bc4": {
      "model_module": "@jupyter-widgets/controls",
      "model_module_version": "1.5.0",
      "model_name": "IntProgressModel",
      "state": {
       "bar_style": "success",
       "layout": "IPY_MODEL_d3f365df8c9442de8da92df2817e8ce6",
       "max": 1,
       "style": "IPY_MODEL_04b5ec54f83a465284e6aac6cffdcbcd",
       "value": 1
      }
     },
     "fd9586a8741344a4ae0252e457719853": {
      "model_module": "@jupyter-widgets/controls",
      "model_module_version": "1.5.0",
      "model_name": "VBoxModel",
      "state": {
       "children": [
        "IPY_MODEL_ab57ce44e2e14cce8874f4856347894b",
        "IPY_MODEL_51fbbae36a0c4cec930f29fe1194225c",
        "IPY_MODEL_f91e069b46924a60aa7e78eb0beece63",
        "IPY_MODEL_64cee050c88e49fdaffe3c77c8ac1122"
       ],
       "layout": "IPY_MODEL_3c1e308d84ca42a8acfb422773c3ca41"
      }
     },
     "fdace3d7f5e54a9194d334618a807b43": {
      "model_module": "@jupyter-widgets/controls",
      "model_module_version": "1.5.0",
      "model_name": "ProgressStyleModel",
      "state": {
       "description_width": ""
      }
     },
     "fdd50fc63d734bb09f187bdeb06c873e": {
      "model_module": "@jupyter-widgets/controls",
      "model_module_version": "1.5.0",
      "model_name": "ButtonModel",
      "state": {
       "description": "EDIT",
       "layout": "IPY_MODEL_fe6459349b32496cab0c937b98abf6d6",
       "style": "IPY_MODEL_07dd3508da3541d8a45c83e89f8d5923"
      }
     },
     "fe02d9dd556e42b7bbe1a17f1cbe7345": {
      "model_module": "@jupyter-widgets/controls",
      "model_module_version": "1.5.0",
      "model_name": "DescriptionStyleModel",
      "state": {
       "description_width": ""
      }
     },
     "fe25112937ff47878b65bac1119d057e": {
      "model_module": "@jupyter-widgets/controls",
      "model_module_version": "1.5.0",
      "model_name": "ButtonStyleModel",
      "state": {}
     },
     "fe56d182b3d641339068e42308b94eaa": {
      "model_module": "@jupyter-widgets/controls",
      "model_module_version": "1.5.0",
      "model_name": "HBoxModel",
      "state": {
       "children": [
        "IPY_MODEL_45b9e7b81ef048749b9cf4744ebd11fe",
        "IPY_MODEL_d6d742f902ff46dd890387b5efad5e1b",
        "IPY_MODEL_cd5e7037204342458200d06a1dc2bedc",
        "IPY_MODEL_74a69591360b4a9cba94ae110233c8f2"
       ],
       "layout": "IPY_MODEL_e7d29c62e1344302bc751c0475982426"
      }
     },
     "fe6459349b32496cab0c937b98abf6d6": {
      "model_module": "@jupyter-widgets/base",
      "model_module_version": "1.2.0",
      "model_name": "LayoutModel",
      "state": {
       "width": "60px"
      }
     },
     "feb8d07f99d746329b852935564bea74": {
      "model_module": "@jupyter-widgets/controls",
      "model_module_version": "1.5.0",
      "model_name": "ButtonModel",
      "state": {
       "description": "EDIT",
       "layout": "IPY_MODEL_82e649930e6e439887738640ab30402f",
       "style": "IPY_MODEL_321476ee1ff545e190f95500fa53b0fb"
      }
     },
     "fecfbcba4eed461c96e112e96e9c293c": {
      "model_module": "@jupyter-widgets/base",
      "model_module_version": "1.2.0",
      "model_name": "LayoutModel",
      "state": {
       "width": "60px"
      }
     },
     "ff01339406b3497791027f49f6eac7b3": {
      "model_module": "@jupyter-widgets/controls",
      "model_module_version": "1.5.0",
      "model_name": "LabelModel",
      "state": {
       "layout": "IPY_MODEL_7961ea1f11ea44e28371a62f7ab67143",
       "style": "IPY_MODEL_778e8675f7a1409395099de9c4bf1382",
       "value": "             objective 1"
      }
     },
     "ff08b385d96d4243a2cab77f19769896": {
      "model_module": "@jupyter-widgets/base",
      "model_module_version": "1.2.0",
      "model_name": "LayoutModel",
      "state": {}
     },
     "ff3d288077804f45bab2d489a8c95b7e": {
      "model_module": "@jupyter-widgets/controls",
      "model_module_version": "1.5.0",
      "model_name": "ButtonStyleModel",
      "state": {}
     },
     "ffd083ca138c44b9938d0dc622e2bd40": {
      "model_module": "@jupyter-widgets/controls",
      "model_module_version": "1.5.0",
      "model_name": "HBoxModel",
      "state": {
       "children": [
        "IPY_MODEL_1f5e4b7cdb6f4701b0875a12a6f484cf",
        "IPY_MODEL_86911360a032476192e2e6493fd60ff3"
       ],
       "layout": "IPY_MODEL_6a2a7b50bf974479848958a55323c1ea"
      }
     },
     "fffa0c8ba8cb4505b58a1838c645d876": {
      "model_module": "@jupyter-widgets/base",
      "model_module_version": "1.2.0",
      "model_name": "LayoutModel",
      "state": {
       "width": "60px"
      }
     }
    },
    "version_major": 2,
    "version_minor": 0
   }
  }
 },
 "nbformat": 4,
 "nbformat_minor": 4
}
