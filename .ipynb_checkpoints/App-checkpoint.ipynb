{
 "cells": [
  {
   "cell_type": "code",
   "execution_count": 1,
   "metadata": {},
   "outputs": [
    {
     "data": {
      "application/vnd.jupyter.widget-view+json": {
       "model_id": "40289da97e154c608a17a76537edac1b",
       "version_major": 2,
       "version_minor": 0
      },
      "text/plain": [
       "Output()"
      ]
     },
     "metadata": {},
     "output_type": "display_data"
    }
   ],
   "source": [
    "import pickle\n",
    "import requests\n",
    "import ipywidgets as widgets\n",
    "\n",
    "def print_map(a,lvl=0):\n",
    "    for key, val in a.items():\n",
    "        indent = ''\n",
    "        for i in range(lvl):\n",
    "            indent = indent + '  '\n",
    "        if type(val) is dict:\n",
    "            print(indent,'-', key)\n",
    "            print_map(val,lvl+1)\n",
    "        else:\n",
    "            print(indent,'-', key, ':', val)\n",
    "\n",
    "with open('triumphs.data', 'rb') as filehandle:\n",
    "    triumphs = pickle.load(filehandle)\n",
    "    \n",
    "with open('bounties.data', 'rb') as filehandle:\n",
    "    bounties = pickle.load(filehandle)\n",
    "    \n",
    "with open('requirements_tasks.data', 'rb') as filehandle:\n",
    "    requirements = pickle.load(filehandle)\n",
    "\n",
    "output = widgets.Output()\n",
    "display(output)"
   ]
  },
  {
   "cell_type": "code",
   "execution_count": 7,
   "metadata": {},
   "outputs": [],
   "source": [
    "%run interface.ipynb"
   ]
  },
  {
   "cell_type": "code",
   "execution_count": 8,
   "metadata": {},
   "outputs": [
    {
     "data": {
      "application/vnd.jupyter.widget-view+json": {
       "model_id": "91e64f6cc3714799b63fe6978b41853b",
       "version_major": 2,
       "version_minor": 0
      },
      "text/plain": [
       "HBox(children=(VBox(children=(VBox(children=(HTML(value='<b>Activity Options</b>'), Dropdown(layout=Layout(bor…"
      ]
     },
     "metadata": {},
     "output_type": "display_data"
    }
   ],
   "source": [
    "display(initialize_interface())"
   ]
  },
  {
   "cell_type": "code",
   "execution_count": 4,
   "metadata": {},
   "outputs": [
    {
     "ename": "ModuleNotFoundError",
     "evalue": "No module named 'interface'",
     "output_type": "error",
     "traceback": [
      "\u001b[0;31m---------------------------------------------------------------------------\u001b[0m",
      "\u001b[0;31mModuleNotFoundError\u001b[0m                       Traceback (most recent call last)",
      "\u001b[0;32m<ipython-input-4-0b07b765798f>\u001b[0m in \u001b[0;36m<module>\u001b[0;34m\u001b[0m\n\u001b[1;32m      1\u001b[0m \u001b[0;32mimport\u001b[0m \u001b[0mimportlib\u001b[0m\u001b[0;34m\u001b[0m\u001b[0;34m\u001b[0m\u001b[0m\n\u001b[0;32m----> 2\u001b[0;31m \u001b[0mimportlib\u001b[0m\u001b[0;34m.\u001b[0m\u001b[0mimport_module\u001b[0m\u001b[0;34m(\u001b[0m\u001b[0;34m'interface'\u001b[0m\u001b[0;34m)\u001b[0m\u001b[0;34m\u001b[0m\u001b[0;34m\u001b[0m\u001b[0m\n\u001b[0m",
      "\u001b[0;32m~/opt/anaconda3/lib/python3.7/importlib/__init__.py\u001b[0m in \u001b[0;36mimport_module\u001b[0;34m(name, package)\u001b[0m\n\u001b[1;32m    125\u001b[0m                 \u001b[0;32mbreak\u001b[0m\u001b[0;34m\u001b[0m\u001b[0;34m\u001b[0m\u001b[0m\n\u001b[1;32m    126\u001b[0m             \u001b[0mlevel\u001b[0m \u001b[0;34m+=\u001b[0m \u001b[0;36m1\u001b[0m\u001b[0;34m\u001b[0m\u001b[0;34m\u001b[0m\u001b[0m\n\u001b[0;32m--> 127\u001b[0;31m     \u001b[0;32mreturn\u001b[0m \u001b[0m_bootstrap\u001b[0m\u001b[0;34m.\u001b[0m\u001b[0m_gcd_import\u001b[0m\u001b[0;34m(\u001b[0m\u001b[0mname\u001b[0m\u001b[0;34m[\u001b[0m\u001b[0mlevel\u001b[0m\u001b[0;34m:\u001b[0m\u001b[0;34m]\u001b[0m\u001b[0;34m,\u001b[0m \u001b[0mpackage\u001b[0m\u001b[0;34m,\u001b[0m \u001b[0mlevel\u001b[0m\u001b[0;34m)\u001b[0m\u001b[0;34m\u001b[0m\u001b[0;34m\u001b[0m\u001b[0m\n\u001b[0m\u001b[1;32m    128\u001b[0m \u001b[0;34m\u001b[0m\u001b[0m\n\u001b[1;32m    129\u001b[0m \u001b[0;34m\u001b[0m\u001b[0m\n",
      "\u001b[0;32m~/opt/anaconda3/lib/python3.7/importlib/_bootstrap.py\u001b[0m in \u001b[0;36m_gcd_import\u001b[0;34m(name, package, level)\u001b[0m\n",
      "\u001b[0;32m~/opt/anaconda3/lib/python3.7/importlib/_bootstrap.py\u001b[0m in \u001b[0;36m_find_and_load\u001b[0;34m(name, import_)\u001b[0m\n",
      "\u001b[0;32m~/opt/anaconda3/lib/python3.7/importlib/_bootstrap.py\u001b[0m in \u001b[0;36m_find_and_load_unlocked\u001b[0;34m(name, import_)\u001b[0m\n",
      "\u001b[0;31mModuleNotFoundError\u001b[0m: No module named 'interface'"
     ]
    }
   ],
   "source": [
    "import importlib\n",
    "importlib.import_module('interface.ipynb')"
   ]
  },
  {
   "cell_type": "code",
   "execution_count": 2,
   "metadata": {},
   "outputs": [],
   "source": [
    "gamertag = 'skalligman'\n",
    "\n",
    "#retrieve membershipId\n",
    "HEADERS = {'X-API-KEY':'ae7eca0de2cf4bdea9777dc66d862f71'}\n",
    "base = 'https://www.bungie.net/Platform/Destiny2'\n",
    "\n",
    "#retrieve membershipId\n",
    "URL = f'{base}/SearchDestinyPlayer/-1/{gamertag}/'\n",
    "r = requests.get(url = URL, headers = HEADERS) \n",
    "data = r.json()\n",
    "membershipId = data['Response'][0]['membershipId']\n",
    "\n",
    "#retrieve characterIds\n",
    "URL = f'{base}/1/Profile/{membershipId}/?components=200'\n",
    "r = requests.get(url = URL, headers = HEADERS) \n",
    "data = r.json()\n",
    "characterIds = list(data['Response']['characters']['data'].keys())\n",
    "characters = {}\n",
    "for characterId in characterIds:\n",
    "    if data['Response']['characters']['data'][characterId]['classHash'] == 2271682572:\n",
    "        characters[characterId] = 'Warlock' \n",
    "    if data['Response']['characters']['data'][characterId]['classHash'] == 671679327:\n",
    "        characters[characterId] = 'Hunter' \n",
    "    if data['Response']['characters']['data'][characterId]['classHash'] == 3655393761:\n",
    "        characters[characterId] = 'Titan' \n",
    "\n",
    "URL = f'{base}/1/Profile/{membershipId}/?components=900'\n",
    "r = requests.get(url = URL, headers = HEADERS) \n",
    "data = r.json()\n",
    "records = data['Response']['profileRecords']['data']['records']\n",
    "for characterId in characterIds:\n",
    "    records.update(data['Response']['characterRecords']['data'][characterId]['records'])\n",
    "for record in records:\n",
    "    if int(record) in triumphs:\n",
    "        if 'objectives' in records[record]:\n",
    "            obj = 'objectives'\n",
    "        if 'intervalObjectives' in records[record]:\n",
    "            obj = 'intervalObjectives'\n",
    "        triumphs[int(record)]['complete'] = True\n",
    "        for objective in records[record][obj]:\n",
    "            objectiveHash = objective['objectiveHash']\n",
    "            triumphs[int(record)]['objectives'][objectiveHash]['progress'] = objective['progress']\n",
    "            triumphs[int(record)]['objectives'][objectiveHash]['complete'] = objective['complete']\n",
    "            if not objective['complete']:\n",
    "                triumphs[int(record)]['complete'] = False\n",
    "\n",
    "bountyInstances = {}\n",
    "nonInstancedItems = {}\n",
    "\n",
    "URL = f'{base}/1/Profile/{membershipId}?components=201'\n",
    "r = requests.get(url = URL, headers = HEADERS) \n",
    "data = r.json()\n",
    "for characterId in data['Response']['characterInventories']['data']:\n",
    "    nonInstancedItems[characterId] = []\n",
    "    for item in data['Response']['characterInventories']['data'][characterId]['items']:\n",
    "        if item['bucketHash'] == 1345459588:\n",
    "            if 'itemInstanceId' in item:\n",
    "                if item['itemHash'] in bounties:\n",
    "                    bountyInstances[item['itemInstanceId']] = bounties[item['itemHash']]\n",
    "                    bountyInstances[item['itemInstanceId']]['itemHash'] = item['itemHash']\n",
    "                    if 'expirationDate' in item:\n",
    "                        bountyInstances[item['itemInstanceId']]['expirationDate'] = item['expirationDate']\n",
    "                    else:\n",
    "                        bountyInstances[item['itemInstanceId']]['expirationDate'] = 'none'\n",
    "            else:\n",
    "                nonInstancedItems[characterId].append(item['itemHash'])\n",
    "\n",
    "        \n",
    "                \n",
    "for bountyInstance in bountyInstances:\n",
    "    URL = f'{base}/1/Profile/{membershipId}/Item/{bountyInstance}/?components=301'\n",
    "    r = requests.get(url = URL, headers = HEADERS)\n",
    "    bountyInstanceData = r.json()\n",
    "    bountyInstances[bountyInstance]['character'] = characters[bountyInstanceData['Response']['characterId']]\n",
    "    for objective in bountyInstanceData['Response']['objectives']['data']['objectives']:\n",
    "        bountyInstances[bountyInstance]['objectives'][objective['objectiveHash']]['progress'] = objective['progress']\n",
    "        bountyInstances[bountyInstance]['objectives'][objective['objectiveHash']]['complete'] = objective['complete']\n",
    "\n"
   ]
  },
  {
   "cell_type": "code",
   "execution_count": 3,
   "metadata": {},
   "outputs": [],
   "source": [
    "all_tasks = {}\n",
    "\n",
    "for triumph in triumphs:\n",
    "    all_tasks[triumph] = {\n",
    "        'path': triumphs[triumph]['path'],\n",
    "        'name': triumphs[triumph]['name'],\n",
    "        'description': triumphs[triumph]['description'],\n",
    "        'objectives': {}}\n",
    "    for objective in triumphs[triumph]['objectives']:\n",
    "        all_tasks[triumph]['objectives'][objective] = {\n",
    "            'description': triumphs[triumph]['objectives'][objective]['description'],\n",
    "            'completionValue': triumphs[triumph]['objectives'][objective]['completionValue'],\n",
    "            'progress': triumphs[triumph]['objectives'][objective]['progress']\n",
    "        }\n",
    "        \n",
    "\n",
    "        \n",
    "for bounty in bounties:\n",
    "    vendor = bounties[bounty]['vendor']\n",
    "    all_tasks[bounty] = {\n",
    "        'path': f'Pursuits/Bounties/{vendor}',\n",
    "        'name': bounties[bounty]['name'],\n",
    "        'description': bounties[bounty]['description'],\n",
    "        'objectives': {}}\n",
    "    for objective in bounties[bounty]['objectives']:\n",
    "        all_tasks[bounty]['objectives'][objective] = {\n",
    "            'description': bounties[bounty]['objectives'][objective]['description'],\n",
    "            'completionValue': bounties[bounty]['objectives'][objective]['completionValue'],\n",
    "            'progress': bounties[bounty]['objectives'][objective]['progress']\n",
    "        }"
   ]
  },
  {
   "cell_type": "code",
   "execution_count": 4,
   "metadata": {},
   "outputs": [],
   "source": [
    "\n",
    "hbox_GUI = widgets.HBox()\n"
   ]
  },
  {
   "cell_type": "code",
   "execution_count": 5,
   "metadata": {},
   "outputs": [],
   "source": [
    "options = {\n",
    "    'Class': ['Any', 'Titan', 'Hunter', 'Warlock'],\n",
    "    'Subclass': {\n",
    "        'Titan': ['Any', 'Sentinel', 'Striker', 'Sunbreaker'],\n",
    "        'Hunter': ['Any', 'Nightstalker', 'Arcstrider', 'Gunslinger'],\n",
    "        'Warlock': ['Any', 'Voidwalker', 'Stormcaller', 'Dawnblade']\n",
    "    },\n",
    "    'Tree': {\n",
    "        'Titan': {\n",
    "            'Sentinel': ['Any', 'Code of the Commander', 'Code of the Protector', 'Code of the Aggressor'],\n",
    "            'Striker': ['Any', 'Code of the Earthshaker', 'Code of the Missile', 'Code of the Juggernaut'],\n",
    "            'Sunbreaker':['Any', 'Code of the Fire-Forged', 'Code of the Devastator', 'Code of the Siegebreaker']\n",
    "        },\n",
    "        'Hunter': {\n",
    "            'Nightstalker': ['Any', 'Way of the Trapper', 'Way of the Wraith', 'Way of the Pathfinder'],\n",
    "            'Arcstrider': ['Any', 'Way of the Warrior', 'Way of the Current', 'Way of the Wind'],\n",
    "            'Gunslinger': ['Any', 'Way of the Outlaw', 'Way of a Thousand Cuts', 'Way of the Outlaw']\n",
    "        },\n",
    "        'Warlock': {\n",
    "            'Voidwalker': ['Any', 'Attunement of Chaos', 'Attunement of Fission', 'Attunement of Hunger'],\n",
    "            'Stormcaller': ['Any', 'Attunement of Conduction', 'Attunement of Control', 'Attunement of the Elements'],\n",
    "            'Dawnblade': ['Any', 'Attunement of Sky', 'Attunement of Grace', 'Attunement of Flame']\n",
    "        }\n",
    "    },\n",
    "    'Grenade': {\n",
    "        'Titan': {\n",
    "            'Sentinel': ['Any', 'Magnetic Grenade', 'Voidwall Grenade', 'Suppressor Grenade'],\n",
    "            'Striker': ['Any', 'Flashbang Grenade', 'Pulse Grenade', 'Lightning Grenade'],\n",
    "            'Sunbreaker':['Any', 'Incendiary Grenade', 'Thermite Grenade', 'Fusion Grenade']\n",
    "        },\n",
    "        'Hunter': {\n",
    "            'Nightstalker':['Any' ,'Vortex Grenade', 'Spike Grenade', ' Voidwall Grenade'],\n",
    "            'Arcstrider': ['Any', 'Skip Grenade', 'Flux Grenade', 'Arcbolt Grenade'],\n",
    "            'Gunslinger': ['Any', 'Incendiary Grenade', 'Swarm Grenade', 'Tripmine Grenade']\n",
    "        },\n",
    "        'Warlock': {\n",
    "            'Voidwalker': ['Any', 'Vortex Grenade', 'Axion Bolt', 'Scatter Grenade'],\n",
    "            'Stormcaller': ['Any', 'Arcbolt Grenade', 'Pulse Grenade', 'Storm Grenade'],\n",
    "            'Dawnblade': ['Any', 'Solar Grenade', 'Firebolt Grenade', 'Fusion Grenade']\n",
    "        }\n",
    "    },\n",
    "    \n",
    "    'Kinetic Weapon': ['Any', 'Hand Cannon', 'Auto Rifle', 'Scout Rifle', 'Pulse Rifle', 'Sidearm', 'Submachine Gun', 'Combt Bow', 'Sniper Rifle', 'Shotgun'],\n",
    "    'Energy Weapon': ['Any', 'Hand Cannon', 'Auto Rifle', 'Scout Rifle', 'Pulse Rifle', 'Sidearm', 'Submachine Gun', 'Combt Bow', 'Sniper Rifle', 'Shotgun', 'Fusion Rifle', 'Grenade Launcher'],\n",
    "    'Power Weapon': ['Any', 'Machine Gun', 'Sword', 'Grenade Launcher', 'Rocket Launcher', 'Linear Fusion Rifle'],\n",
    "    'Energy Weapon Type': ['Any', 'Arc', 'Solar', 'Void'],\n",
    "    'Power Weapon Type': ['Any', 'Arc', 'Solar', 'Void'],\n",
    "    'Armor': ['Any'],\n",
    "    \n",
    "    'Activity Type': ['Any', 'Patrol', 'Gambit', 'Reckoning', 'Menagerie', 'Vex Offensive', 'Raid', 'Strike', 'Nightfall', 'Crucible', 'Forge'],\n",
    "    'Activity': {\n",
    "        'Patrol': ['Any', 'Earth', 'Io', 'Nessus', 'Titan','Mars', 'Dreaming City', 'Tangled Shore', 'The Moon'],\n",
    "        'Strike': ['Any', 'Lake of Shadows','Savathûn\\'s Song','The Arms Dealer','The Inverted Spire','The Pyramidion', 'A Garden World','Tree of Probabilities','Will of The Thousands','Strange Terrain','The Insight Termius','Warden of Nothing','Broodhold','The Hollowed Lair','The Corrupted'],\n",
    "        'Nightfall': ['Any', 'Lake of Shadows','Savathûn\\'s Song','The Arms Dealer','The Inverted Spire','The Pyramidion', 'A Garden World','Tree of Probabilities','Will of The Thousands','Strange Terrain','The Insight Termius','Warden of Nothing','Broodhold','The Hollowed Lair','The Corrupted'],\n",
    "        'Raid': ['Any', 'Liathan', 'Prestige Leviathan', 'Eater of Worlds', 'Spire of Stars', 'Last Wish', 'Scourage of The Past', 'Crown of Sorrow', 'Garden of Salvation'],\n",
    "        'Crucible': ['Any', 'Clash', 'Control', 'Showdown', 'Mayhem', 'Breakthrough', 'Lockdown', 'Rumble', 'Supremacy', 'Doubles', 'Scorched', 'Countdown', 'Survival', 'Iron Banner'],\n",
    "        'Gambit': ['Any', 'Gambit', 'Gambit Prime'],\n",
    "        'Reckoning': ['Any', 'Tier I', 'Tier II', 'Tier III'],\n",
    "        'Menagerie': ['Any', 'Normal', 'Heroic'],\n",
    "        'Forge': ['Any', 'Volundr Forge', 'Gofannon Forge', 'Izanami Forge', 'Bergusia Forge']\n",
    "    }\n",
    "}\n",
    "\n",
    "\n",
    "#build Options Pane\n",
    "\n",
    "box_spacer = widgets.Box(layout=widgets.Layout(height='20px'))\n",
    "\n",
    "#---------------------Filter---------------------\n",
    "layout_box = widgets.Layout(\n",
    "    border='1px solid white',\n",
    "    width='15%',\n",
    "    padding='10px'\n",
    ")\n",
    "\n",
    "layout_general = widgets.Layout(\n",
    "    width='98%',\n",
    "    height = '100%'\n",
    ")\n",
    "\n",
    "layout_dropdown_inactive = widgets.Layout(\n",
    "    width='98%',\n",
    "    height = '100%',\n",
    "    border = ''\n",
    ")\n",
    "\n",
    "layout_dropdown_active = widgets.Layout(\n",
    "    width='98%',\n",
    "    border = '2px solid #00bcd4',\n",
    "    height = '100%'\n",
    ")\n",
    "\n",
    "\n",
    "#---------------------Class---------------------\n",
    "label_class_options = widgets.HTML(value = \"<b>Class Options</b>\")\n",
    "\n",
    "label_class = widgets.Label(value='Class:',layout = layout_general)\n",
    "dropdown_class = widgets.Dropdown(options = options['Class'],layout = layout_dropdown_inactive)\n",
    "\n",
    "label_subclass = widgets.Label(value='Subclass:',layout = layout_general)\n",
    "dropdown_subclass = widgets.Dropdown(options = ['Any'],disabled = True,layout = layout_dropdown_inactive)\n",
    "\n",
    "label_tree = widgets.Label(value='Tree:',layout = layout_general)\n",
    "dropdown_tree = widgets.Dropdown(options = ['Any'],disabled = True,layout = layout_dropdown_inactive)\n",
    "\n",
    "label_grenade = widgets.Label(value='Grenade:',layout = layout_general)\n",
    "dropdown_grenade = widgets.Dropdown(options = ['Any'],disabled = True,layout = layout_dropdown_inactive)\n",
    "\n",
    "vbox_class_options = widgets.VBox(\n",
    "    children = [\n",
    "        label_class_options,\n",
    "        label_class,\n",
    "        dropdown_class,\n",
    "        label_subclass,\n",
    "        dropdown_subclass,\n",
    "        label_tree,\n",
    "        dropdown_tree,\n",
    "        label_grenade,\n",
    "        dropdown_grenade])\n",
    "\n",
    "\n",
    "#---------------------Gear---------------------\n",
    "label_gear_options = widgets.HTML(value = \"<b>Gear Options</b>\")\n",
    "\n",
    "label_kinetic = widgets.Label(value='Kinetic Weapon:',layout = layout_general)\n",
    "dropdown_kinetic = widgets.Dropdown(options = options['Kinetic Weapon'],layout = layout_dropdown_inactive)\n",
    "\n",
    "label_energy = widgets.Label(value='Energy Weapon:',layout = layout_general)\n",
    "dropdown_energy = widgets.Dropdown(options = options['Energy Weapon'],layout = layout_general)\n",
    "dropdown_energy_type = widgets.Dropdown(options = options['Energy Weapon Type'],layout = layout_dropdown_inactive)\n",
    "\n",
    "label_power = widgets.Label(value='Power Weapon:',layout = layout_general)\n",
    "dropdown_power = widgets.Dropdown(options = options['Power Weapon'])\n",
    "dropdown_power_type = widgets.Dropdown(options = options['Power Weapon Type'],layout = layout_dropdown_inactive)\n",
    "\n",
    "label_armor = widgets.Label(value='Armor Set:',layout = layout_general)\n",
    "dropdown_armor = widgets.Dropdown(options = options['Armor'],layout = layout_dropdown_inactive)\n",
    "\n",
    "vbox_gear = widgets.VBox(\n",
    "    children = [\n",
    "        label_gear_options,\n",
    "        label_kinetic,\n",
    "        dropdown_kinetic,\n",
    "        label_energy,\n",
    "        dropdown_energy,\n",
    "        dropdown_energy_type,\n",
    "        label_power,\n",
    "        dropdown_power,\n",
    "        dropdown_power_type,\n",
    "        label_armor,\n",
    "        dropdown_armor])\n",
    "\n",
    "#---------------------Activities---------------------\n",
    "label_activity_options = widgets.HTML(\n",
    "    value = \"<b>Activity Options</b>\",layout = layout_general)\n",
    "\n",
    "dropdown_activity_type = widgets.Dropdown(options = options['Activity Type'],layout = layout_dropdown_inactive)\n",
    "\n",
    "dropdown_activity = widgets.Dropdown(options = ['Any'],disabled = True,layout = layout_dropdown_inactive)\n",
    "\n",
    "vbox_activity = widgets.VBox(\n",
    "    children=[\n",
    "        label_activity_options,\n",
    "        dropdown_activity_type,\n",
    "        dropdown_activity])\n",
    "\n",
    "#----------Options-------------\n",
    "\n",
    "vbox_options = widgets.VBox(\n",
    "    children=[\n",
    "        vbox_activity,\n",
    "        box_spacer,\n",
    "        vbox_class_options,\n",
    "        box_spacer,\n",
    "        vbox_gear],\n",
    "    layout = layout_box)\n",
    "\n",
    "#-----------------------Interact Functions --------------------------\n",
    "\n",
    "def change_class(change):\n",
    "    if change['new'] == 'Any':\n",
    "        dropdown_subclass.options = ['Any']\n",
    "        dropdown_subclass.disabled = True\n",
    "    else:\n",
    "        dropdown_subclass.options = options['Subclass'][change['new']]\n",
    "        dropdown_subclass.disabled = False\n",
    "        \n",
    "def change_subclass(change):\n",
    "    if change['new'] == 'Any':\n",
    "        dropdown_tree.options = ['Any']\n",
    "        dropdown_tree.disabled = True\n",
    "        dropdown_grenade.options = ['Any']\n",
    "        dropdown_grenade.disabled = True\n",
    "    else:\n",
    "        dropdown_tree.options = options['Tree'][dropdown_class.value][change['new']]\n",
    "        dropdown_tree.disabled = False\n",
    "        dropdown_grenade.options = options['Grenade'][dropdown_class.value][change['new']]\n",
    "        dropdown_grenade.disabled = False\n",
    "        \n",
    "def change_activity_type(change):\n",
    "    if change['new'] == 'Any':\n",
    "        dropdown_activity.options = ['Any']\n",
    "        dropdown_activity.disabled = True\n",
    "    else:\n",
    "        dropdown_activity.options = options['Activity'][change['new']]\n",
    "        dropdown_activity.disabled = False\n",
    "        \n",
    "        \n",
    "dropdown_class.observe(change_class, names = 'value')\n",
    "dropdown_subclass.observe(change_subclass, names = 'value')\n",
    "dropdown_activity_type.observe(change_activity_type, names = 'value')\n"
   ]
  },
  {
   "cell_type": "code",
   "execution_count": 6,
   "metadata": {},
   "outputs": [],
   "source": [
    "n_per_page = 15\n",
    "\n",
    "def toggle_objective(b):\n",
    "    if b.objective_hash in active_objectives:\n",
    "        active_objectives.remove(b.objective_hash)\n",
    "    else:\n",
    "        active_objectives.append(b.objective_hash)\n",
    "    refresh_loadout()\n",
    "    refresh_task_view()\n",
    "    \n",
    "    \n",
    "    \n",
    "def edit_objective(b):\n",
    "    dropdown_triumph_req.value = b.task_hash\n",
    "    dropdown_objective_req.value = b.objective_hash\n",
    "\n",
    "def build_task_widget():\n",
    "\n",
    "    layout_vbox_triumph = widgets.Layout(\n",
    "        margin = '10px',\n",
    "        padding='10px',\n",
    "        border='3px solid white',\n",
    "        width = '400px',\n",
    "        overflow = 'visible')\n",
    "\n",
    "    layout_label_name = widgets.Layout(\n",
    "        width = '100%',\n",
    "        overflow = 'visible')\n",
    "\n",
    "    layout_label_word = widgets.Layout(\n",
    "        )\n",
    "\n",
    "    layout_hbox_description = widgets.Layout(\n",
    "        display = 'flex',\n",
    "        flex_flow = 'row wrap')\n",
    "\n",
    "    layout_vbox_objectives = widgets.Layout(\n",
    "        width = '100%',\n",
    "        overflow = 'visible')\n",
    "\n",
    "\n",
    "    layout_label_objective = widgets.Layout(\n",
    "        padding='1px',\n",
    "        width = '0px',\n",
    "        overflow = 'visible',\n",
    "        order='-1')\n",
    "\n",
    "    layout_intProgress_objective = widgets.Layout(\n",
    "        padding='0px',\n",
    "        #border='1px solid black',\n",
    "        width = '100%',\n",
    "        height = '32px',\n",
    "        overflow = 'visible')\n",
    "\n",
    "    layout_button_objective = widgets.Layout(\n",
    "        width = '32px',\n",
    "        height = '32px',\n",
    "        order = '-2')\n",
    "\n",
    "    vbox_triumph = widgets.VBox(layout=layout_vbox_triumph)\n",
    "    \n",
    "    label_path = widgets.HTML(value = '<font size=\"1\">Path/Path/Path/Path/</font size>', layout = layout_label_name)\n",
    "\n",
    "    label_name = widgets.HTML(value = '<b>Task Name</b>', layout = layout_label_name)\n",
    "\n",
    "    label_description = widgets.HTML(value = '<i>test test test test test test test test test test test test test test test test test test test test test test test test </i>')\n",
    "\n",
    "    vbox_objectives = widgets.VBox(layout=layout_vbox_objectives)\n",
    "    objectives = []\n",
    "    for i in range(6):\n",
    "        \n",
    "        button_objective = widgets.Button(layout = layout_button_objective)\n",
    "        button_objective.objective_hash = 0\n",
    "        button_objective.on_click(toggle_objective)\n",
    "        button_edit = widgets.Button(description='EDIT', layout=widgets.Layout(width='60px'))\n",
    "        button_edit.on_click(edit_objective)\n",
    "        \n",
    "        objective_description = f'objective {i}'\n",
    "        label_objective = widgets.Label(value = f'\\xa0\\xa0\\xa0\\xa0\\xa0\\xa0\\xa0\\xa0\\xa0\\xa0\\xa0\\xa0\\xa0{objective_description}', layout = layout_label_objective)\n",
    "        \n",
    "        intProgress_objective = widgets.IntProgress(\n",
    "            value=30,\n",
    "            min=0,\n",
    "            max=100,\n",
    "            step=1,\n",
    "            layout = layout_intProgress_objective)\n",
    "        \n",
    "        hbox_objective = widgets.HBox()\n",
    "        hbox_objective.children = [button_objective,intProgress_objective, label_objective, button_edit]\n",
    "        button_objective.parent = hbox_objective\n",
    "        hbox_objective.parent = vbox_objectives\n",
    "        \n",
    "        \n",
    "        objectives.append(hbox_objective)\n",
    "\n",
    "    vbox_objectives.children = objectives\n",
    "    vbox_triumph.children = [label_path,label_name,label_description, vbox_objectives]\n",
    "    vbox_objectives.parent = vbox_triumph\n",
    "\n",
    "    return (vbox_triumph)\n",
    "    \n",
    "vbox_tasks = widgets.VBox(layout=widgets.Layout(width='85%'))\n",
    "\n",
    "hbox_tasks_header = widgets.HBox(layout=widgets.Layout(justify_content = 'space-between'))\n",
    "button_refresh = widgets.Button(description='Refresh')\n",
    "button_previous_page = widgets.Button(description = 'Previous Page')\n",
    "button_next_page = widgets.Button(description = 'Next Page')\n",
    "label_current_page = widgets.HTML('Current Page')\n",
    "hbox_task_buttons = widgets.HBox(children=[button_previous_page,button_next_page])\n",
    "vbox_task_info = widgets.VBox(children=[label_current_page,hbox_task_buttons])\n",
    "checkbox_complete = widgets.Checkbox(description='Hide Complete')\n",
    "checkbox_triumphs = widgets.Checkbox(description='Hide Triumphs')\n",
    "checkbox_pursuits = widgets.Checkbox(description='Hide Pursuits')\n",
    "checkbox_collections = widgets.Checkbox(description='Hide Collections')\n",
    "checkbox_milestones = widgets.Checkbox(description='Hide Milestones')\n",
    "checkbox_conflicting = widgets.Checkbox(description='Hide Conflicting Tasks')\n",
    "layout_checkboxes = widgets.Layout(display = 'flex', flex_flow = 'column wrap')\n",
    "box_checkboxes = widgets.Box(children=[checkbox_complete,checkbox_triumphs,checkbox_pursuits,checkbox_collections,checkbox_milestones,checkbox_conflicting],layout=layout_checkboxes)\n",
    "hbox_tasks_header.children = [button_refresh,box_checkboxes,vbox_task_info]\n",
    "\n",
    "layout_tasks = widgets.Layout(\n",
    "    display = 'flex',\n",
    "    flex_flow = 'row wrap',\n",
    "    justify_content = 'space-between'\n",
    ")\n",
    "task_widgets = []\n",
    "for i in range(n_per_page):\n",
    "    task_widgets.append(build_task_widget())\n",
    "box_tasks = widgets.Box(children=task_widgets, layout=layout_tasks)\n",
    "\n",
    "\n",
    "vbox_tasks.children = [hbox_tasks_header,box_tasks]\n",
    "\n",
    "hbox_GUI.children=[vbox_options,vbox_tasks]"
   ]
  },
  {
   "cell_type": "code",
   "execution_count": 7,
   "metadata": {},
   "outputs": [],
   "source": [
    "\n",
    "active_objectives = []\n",
    "total_potential_tasks = 0\n",
    "tasks_per_page = 15\n",
    "total_task_pages = 0\n",
    "current_page = 0\n",
    "\n",
    "\n",
    "def filter_tasks():\n",
    "    \n",
    "    global potential_tasks\n",
    "    global total_potential_tasks\n",
    "    global total_task_pages\n",
    "    global current_page\n",
    "    \n",
    "    current_page = 0\n",
    "    \n",
    "    potential_tasks = []\n",
    "\n",
    "    for task in all_tasks:\n",
    "        add_task = True\n",
    "        \n",
    "        #filter compllete\n",
    "        if checkbox_complete.value:\n",
    "            complete = True\n",
    "            for objective in all_tasks[task]['objectives']:\n",
    "                if all_tasks[task]['objectives'][objective]['progress'] < all_tasks[task]['objectives'][objective]['completionValue']:\n",
    "                    complete = False\n",
    "            if complete:\n",
    "                add_task = False\n",
    "                \n",
    "        #filter triumphs\n",
    "        if checkbox_triumphs.value and ('Triumphs' in all_tasks[task]['path'] or 'Seals' in all_tasks[task]['path']):\n",
    "            add_task = False\n",
    "            \n",
    "        #filter pursuits\n",
    "        if checkbox_pursuits.value and 'Pursuits' in all_tasks[task]['path']:\n",
    "            add_task = False\n",
    "        \n",
    "        \n",
    "        if checkbox_conflicting.value:\n",
    "            conflicting = True\n",
    "            for objective in all_tasks[task]['objectives']:\n",
    "                if not has_conflict(objective):\n",
    "                    conflicting = False\n",
    "            if conflicting:\n",
    "                add_task = False\n",
    "        if add_task:\n",
    "            potential_tasks.append(task) \n",
    " \n",
    "    total_potential_tasks = len(potential_tasks)      \n",
    "    total_task_pages = int(total_potential_tasks/tasks_per_page)\n",
    "    if total_potential_tasks%tasks_per_page > 0:\n",
    "        total_task_pages += 1\n",
    "\n",
    "\n",
    "\n",
    "filter_tasks()\n",
    "\n",
    "\n",
    "\n",
    "def has_conflict(objective):\n",
    "    conflict = False\n",
    "    if objective in requirements:\n",
    "        for requirement in requirements[objective]:\n",
    "            if requirements[objective][requirement] != 'Any':\n",
    "                if requirement == 'Activity Type' and dropdown_activity_type.value != requirements[objective][requirement]:\n",
    "                    if dropdown_activity_type.value != 'Any':\n",
    "                        conflict = True\n",
    "                if requirement == 'Activity' and dropdown_activity.value != requirements[objective][requirement]:\n",
    "                    if dropdown_activity.value != 'Any':\n",
    "                        conflict = True\n",
    "                if requirement == 'Class' and dropdown_class.value != requirements[objective][requirement]:\n",
    "                    if dropdown_class.value != 'Any':\n",
    "                        conflict = True\n",
    "                if requirement == 'Subclass' and dropdown_subclass.value != requirements[objective][requirement]:\n",
    "                    if dropdown_subclass.value != 'Any':\n",
    "                        conflict = True\n",
    "                if requirement == 'Tree' and dropdown_tree.value != requirements[objective][requirement]:\n",
    "                    if dropdown_tree.value != 'Any':\n",
    "                        conflict = True\n",
    "                if requirement == 'Grenade' and dropdown_grenade.value != requirements[objective][requirement]:\n",
    "                    if dropdown_grenade.value != 'Any':\n",
    "                        conflict = True\n",
    " \n",
    "    return conflict\n",
    "\n",
    "\n",
    "\n",
    "def refresh_task_view():\n",
    "    \n",
    "    global current_page\n",
    "    \n",
    "    if current_page == 0:\n",
    "        button_previous_page.disabled = True\n",
    "    else:\n",
    "        button_previous_page.disabled = False\n",
    "    if current_page == total_task_pages - 1:\n",
    "        button_next_page.disabled = True\n",
    "    else:\n",
    "        button_next_page.disabled = False\n",
    "    \n",
    "    starting_task = current_page*tasks_per_page\n",
    "    \n",
    "    if total_potential_tasks == 0:\n",
    "        hbox_GUI.children[1].children[0].children[2].children[0].value = 'No tasks to show!!'\n",
    "    elif starting_task+tasks_per_page > total_potential_tasks:\n",
    "        hbox_GUI.children[1].children[0].children[2].children[0].value = f'Showing Tasks {starting_task+1}-{total_potential_tasks} of {total_potential_tasks}'\n",
    "    else:\n",
    "        hbox_GUI.children[1].children[0].children[2].children[0].value = f'Showing Tasks {starting_task+1}-{starting_task+tasks_per_page} of {total_potential_tasks}'\n",
    "\n",
    "    for i in range(tasks_per_page):\n",
    "        \n",
    "        #hide extra task boxes\n",
    "        if starting_task + i >= total_potential_tasks:\n",
    "            hbox_GUI.children[1].children[1].children[i].layout.display = 'none'\n",
    "        else:\n",
    "            hbox_GUI.children[1].children[1].children[i].layout.display = 'flex'\n",
    "            task = potential_tasks[starting_task+i]\n",
    "            \n",
    "        \n",
    "            #update values in task box\n",
    "            task_path = all_tasks[task]['path']\n",
    "            hbox_GUI.children[1].children[1].children[i].children[0].value = f'<font size=\"1\">{task_path}/</font size=>'\n",
    "\n",
    "            task_name = all_tasks[task]['name']\n",
    "            hbox_GUI.children[1].children[1].children[i].children[1].value = f'<font size=\"5\"><b>{task_name}</b></font size=>'\n",
    "\n",
    "            task_description = all_tasks[task]['description']\n",
    "            hbox_GUI.children[1].children[1].children[i].children[2].value = f'<i>{task_description}</i>'\n",
    "\n",
    "            for j in range(6):\n",
    "                if j >= len(all_tasks[task]['objectives']):\n",
    "                    hbox_GUI.children[1].children[1].children[i].children[3].children[j].layout.display = 'none'\n",
    "                else:\n",
    "                    hbox_GUI.children[1].children[1].children[i].children[3].children[j].layout.display = 'flex'\n",
    "\n",
    "                    objective_hash = list(all_tasks[task]['objectives'].keys())[j]\n",
    "\n",
    "                    hbox_GUI.children[1].children[1].children[i].children[3].children[j].children[0].objective_hash = objective_hash\n",
    "                    hbox_GUI.children[1].children[1].children[i].children[3].children[j].children[3].objective_hash = objective_hash\n",
    "                    hbox_GUI.children[1].children[1].children[i].children[3].children[j].children[3].task_hash = task\n",
    "\n",
    "                    objective_completion_value = all_tasks[task]['objectives'][objective_hash]['completionValue']\n",
    "                    hbox_GUI.children[1].children[1].children[i].children[3].children[j].children[1].max = objective_completion_value\n",
    "\n",
    "                    objective_progress = all_tasks[task]['objectives'][objective_hash]['progress']\n",
    "                    hbox_GUI.children[1].children[1].children[i].children[3].children[j].children[1].value = objective_progress\n",
    "\n",
    "                    objective_description = all_tasks[task]['objectives'][objective_hash]['description']\n",
    "                    indent = '\\xa0\\xa0\\xa0\\xa0'\n",
    "                    hbox_GUI.children[1].children[1].children[i].children[3].children[j].children[2].value = f'{indent}{objective_description} ({objective_progress}/{objective_completion_value})'\n",
    "\n",
    "\n",
    "                    #set objective color\n",
    "                    if objective_progress >= objective_completion_value:\n",
    "                        hbox_GUI.children[1].children[1].children[i].children[3].children[j].children[0].button_style = 'success'\n",
    "                        hbox_GUI.children[1].children[1].children[i].children[3].children[j].children[0].disabled = True\n",
    "                        hbox_GUI.children[1].children[1].children[i].children[3].children[j].children[1].bar_style = 'success'\n",
    "                    elif objective_hash in active_objectives:\n",
    "                        hbox_GUI.children[1].children[1].children[i].children[3].children[j].children[0].button_style = 'info'\n",
    "                        hbox_GUI.children[1].children[1].children[i].children[3].children[j].children[0].disabled = False\n",
    "                        hbox_GUI.children[1].children[1].children[i].children[3].children[j].children[1].bar_style = 'info'\n",
    "                    elif has_conflict(objective_hash):\n",
    "                        hbox_GUI.children[1].children[1].children[i].children[3].children[j].children[0].button_style = 'danger'\n",
    "                        hbox_GUI.children[1].children[1].children[i].children[3].children[j].children[0].disabled = True\n",
    "                        hbox_GUI.children[1].children[1].children[i].children[3].children[j].children[1].bar_style = 'danger'\n",
    "                    else:\n",
    "                        hbox_GUI.children[1].children[1].children[i].children[3].children[j].children[0].button_style = ''\n",
    "                        hbox_GUI.children[1].children[1].children[i].children[3].children[j].children[0].disabled = False\n",
    "                        hbox_GUI.children[1].children[1].children[i].children[3].children[j].children[1].bar_style = ''\n",
    "\n",
    "\n",
    "\n",
    "            \n",
    "refresh_task_view()\n",
    "\n",
    "def previous_page(b):\n",
    "    global current_page    \n",
    "    current_page -= 1\n",
    "    refresh_task_view()\n",
    "\n",
    "\n",
    "def next_page(b):\n",
    "    global current_page\n",
    "    current_page += 1\n",
    "    refresh_task_view()\n",
    "\n",
    "button_previous_page.on_click(previous_page)\n",
    "button_next_page.on_click(next_page)\n",
    "\n",
    "\n",
    "def refresh_button(b):\n",
    "    filter_tasks()\n",
    "    refresh_task_view()\n",
    "    \n",
    "button_refresh.on_click(refresh_button)\n"
   ]
  },
  {
   "cell_type": "code",
   "execution_count": 8,
   "metadata": {},
   "outputs": [],
   "source": [
    "possible_requirements = {\n",
    "    'Class': ['Any', 'Titan', 'Hunter', 'Warlock'],\n",
    "    'Subclass': {\n",
    "        'Titan': ['Any', 'Sentinel', 'Striker', 'Sunbreaker'],\n",
    "        'Hunter': ['Any', 'Nightstalker', 'Arcstrider', 'Gunslinger'],\n",
    "        'Warlock': ['Any', 'Voidwalker', 'Stormcaller', 'Dawnblade']\n",
    "    },\n",
    "    'Tree': {\n",
    "        'Titan': {\n",
    "            'Sentinel': ['Any', 'Code of the Commander', 'Code of the Protector', 'Code of the Aggressor'],\n",
    "            'Striker': ['Any', 'Code of the Earthshaker', 'Code of the Missile', 'Code of the Juggernaut'],\n",
    "            'Sunbreaker':['Any', 'Code of the Fire-Forged', 'Code of the Devastator', 'Code of the Siegebreaker']\n",
    "        },\n",
    "        'Hunter': {\n",
    "            'Nightstalker': ['Any', 'Way of the Trapper', 'Way of the Wraith', 'Way of the Pathfinder'],\n",
    "            'Arcstrider': ['Any', 'Way of the Warrior', 'Way of the Current', 'Way of the Wind'],\n",
    "            'Gunslinger': ['Any', 'Way of the Outlaw', 'Way of a Thousand Cuts', 'Way of the Outlaw']\n",
    "        },\n",
    "        'Warlock': {\n",
    "            'Voidwalker': ['Any', 'Attunement of Chaos', 'Attunement of Fission', 'Attunement of Hunger'],\n",
    "            'Stormcaller': ['Any', 'Attunement of Conduction', 'Attunement of Control', 'Attunement of the Elements'],\n",
    "            'Dawnblade': ['Any', 'Attunement of Sky', 'Attunement of Grace', 'Attunement of Flame']\n",
    "        }\n",
    "    },\n",
    "    'Grenade': {\n",
    "        'Titan': {\n",
    "            'Sentinel': ['Any', 'Magnetic Grenade', 'Voidwall Grenade', 'Suppressor Grenade'],\n",
    "            'Striker': ['Any', 'Flashbang Grenade', 'Pulse Grenade', 'Lightning Grenade'],\n",
    "            'Sunbreaker':['Any', 'Incendiary Grenade', 'Thermite Grenade', 'Fusion Grenade']\n",
    "        },\n",
    "        'Hunter': {\n",
    "            'Nightstalker':['Any' ,'Vortex Grenade', 'Spike Grenade', ' Voidwall Grenade'],\n",
    "            'Arcstrider': ['Any', 'Skip Grenade', 'Flux Grenade', 'Arcbolt Grenade'],\n",
    "            'Gunslinger': ['Any', 'Incendiary Grenade', 'Swarm Grenade', 'Tripmine Grenade']\n",
    "        },\n",
    "        'Warlock': {\n",
    "            'Voidwalker': ['Any', 'Vortex Grenade', 'Axion Bolt', 'Scatter Grenade'],\n",
    "            'Stormcaller': ['Any', 'Arcbolt Grenade', 'Pulse Grenade', 'Storm Grenade'],\n",
    "            'Dawnblade': ['Any', 'Solar Grenade', 'Firebolt Grenade', 'Fusion Grenade']\n",
    "        }\n",
    "    },\n",
    "    'Weapon Slot': ['Any', 'Kinetic', 'Energy', 'Power'],\n",
    "    'Weapon Type': ['Any', 'Hand Cannon', 'Auto Rifle', 'Scout Rifle', 'Pulse Rifle', 'Sidearm', 'Submachine Gun', 'Combt Bow','Sniper Rifle', 'Shotgun', 'Fusion Rifle', 'Grenade Launcher', 'Machine Gun', 'Sword', 'Grenade Launcher', 'Rocket Launcher', 'Linear Fusion Rifle'],\n",
    "    'Weapon Ammo': ['Any', 'Primary', 'Secondary', 'Heavy'],\n",
    "    'Weapon Ammo Type': {\n",
    "        'Primary': ['Any', 'Hand Cannon', 'Auto Rifle', 'Scout Rifle', 'Pulse Rifle', 'Sidearm', 'Submachine Gun', 'Combt Bow',],\n",
    "        'Secondary': ['Any', 'Sniper Rifle', 'Shotgun', 'Fusion Rifle', 'Grenade Launcher'],\n",
    "        'Heavy': ['Any', 'Machine Gun', 'Sword', 'Grenade Launcher', 'Rocket Launcher', 'Linear Fusion Rifle']\n",
    "    },\n",
    "    'Weapon Energy': ['Any', 'Kinetic', 'Solar', 'Void', 'Arc'],\n",
    "    'Activity Type': ['Any', 'Patrol', 'Gambit', 'Reckoning', 'Menagerie', 'Vex Offensive', 'Raid', 'Strike', 'Nightfall', 'Crucible', 'Forge'],\n",
    "    'Activity': {\n",
    "        'Patrol': ['Any', 'Earth', 'Io', 'Nessus', 'Titan','Mars', 'Dreaming City', 'Tangled Shore', 'The Moon'],\n",
    "        'Strike': ['Any', 'Lake of Shadows','Savathûn\\'s Song','The Arms Dealer','The Inverted Spire','The Pyramidion', 'A Garden World','Tree of Probabilities','Will of The Thousands','Strange Terrain','The Insight Termius','Warden of Nothing','Broodhold','The Hollowed Lair','The Corrupted'],\n",
    "        'Nightfall': ['Any', 'Lake of Shadows','Savathûn\\'s Song','The Arms Dealer','The Inverted Spire','The Pyramidion', 'A Garden World','Tree of Probabilities','Will of The Thousands','Strange Terrain','The Insight Termius','Warden of Nothing','Broodhold','The Hollowed Lair','The Corrupted'],\n",
    "        'Raid': ['Any', 'Liathan', 'Prestige Leviathan', 'Eater of Worlds', 'Spire of Stars', 'Last Wish', 'Scourage of The Past', 'Crown of Sorrow', 'Garden of Salvation'],\n",
    "        'Crucible': ['Any', 'Clash', 'Control', 'Showdown', 'Mayhem', 'Breakthrough', 'Lockdown', 'Rumble', 'Supremacy', 'Doubles', 'Scorched', 'Countdown', 'Survival', 'Iron Banner'],\n",
    "        'Gambit': ['Any', 'Gambit', 'Gambit Prime'],\n",
    "        'Reckoning': ['Any', 'Tier I', 'Tier II', 'Tier III'],\n",
    "        'Menagerie': ['Any', 'Normal', 'Heroic'],\n",
    "        'Vex Offensive': ['Any'],\n",
    "        'Forge': ['Any', 'Volundr Forge', 'Gofannon Forge', 'Izanami Forge', 'Bergusia Forge']\n",
    "    }\n",
    "}\n",
    "layout_req = widgets.Layout(width='20%')\n",
    "layout_label_req = widgets.Layout(width='10%')\n",
    "output_req = widgets.Output()\n",
    "\n",
    "hbox_triumph_req = widgets.HBox()\n",
    "label_triumph_req = widgets.Label(\"Triumph:\", layout=layout_label_req)\n",
    "dropdown_triumph_req = widgets.Dropdown(options=list(triumphs.keys()), layout=layout_req)\n",
    "dropdown_objective_req = widgets.Dropdown(layout=layout_req)\n",
    "box_spacer_req = widgets.Box(layout=layout_req)\n",
    "button_save_req = widgets.Button(description='Save', layout=layout_req)\n",
    "hbox_triumph_req.children = [label_triumph_req,dropdown_triumph_req,dropdown_objective_req, box_spacer_req, button_save_req]\n",
    "\n",
    "def change_triumph(change):\n",
    "    output_req.clear_output()\n",
    "    with output_req: print_map(triumphs[change['new']])\n",
    "    dropdown_objective_req.options = list(triumphs[change['new']]['objectives'].keys())\n",
    "    \n",
    "\n",
    "    \n",
    "dropdown_triumph_req.observe(change_triumph, names='value')\n",
    "\n",
    "\n",
    "\n",
    "#----------------------Class----------------------------\n",
    "\n",
    "\n",
    "hbox_class_req = widgets.HBox()\n",
    "label_class_req = widgets.Label(value='Class:',layout=layout_label_req)\n",
    "dropdown_class_req = widgets.Dropdown(options=possible_requirements['Class'],layout=layout_req)\n",
    "dropdown_subclass_req = widgets.Dropdown(disabled = True, options = ['Any'],layout=layout_req)\n",
    "dropdown_tree_req = widgets.Dropdown(disabled = True, options = ['Any'],layout=layout_req)\n",
    "dropdown_grenade_req = widgets.Dropdown(disabled = True, options = ['Any'],layout=layout_req)\n",
    "hbox_class_req.children = [\n",
    "    label_class_req,\n",
    "    dropdown_class_req,\n",
    "    dropdown_subclass_req,\n",
    "    dropdown_tree_req,\n",
    "    dropdown_grenade_req\n",
    "]\n",
    "\n",
    "def change_class(change):\n",
    "    if change['new'] == 'Any':\n",
    "        dropdown_subclass_req.options = ['Any']\n",
    "        dropdown_subclass_req.disabled = True\n",
    "    else:\n",
    "        dropdown_subclass_req.options = possible_requirements['Subclass'][change['new']]\n",
    "        dropdown_subclass_req.disabled = False\n",
    "        \n",
    "def change_subclass(change):\n",
    "    if change['new'] == 'Any':\n",
    "        dropdown_tree_req.options = ['Any']\n",
    "        dropdown_tree_req.disabled = True\n",
    "        dropdown_grenade_req.options = ['Any']\n",
    "        dropdown_grenade_req.disabled = True\n",
    "    else:\n",
    "        dropdown_tree_req.options = possible_requirements['Tree'][dropdown_class_req.value][change['new']]\n",
    "        dropdown_tree_req.disabled = False\n",
    "        dropdown_grenade_req.options = possible_requirements['Grenade'][dropdown_class_req.value][change['new']]\n",
    "        dropdown_grenade_req.disabled = False\n",
    "\n",
    "dropdown_class_req.observe(change_class, names = 'value')\n",
    "dropdown_subclass_req.observe(change_subclass, names = 'value')\n",
    "\n",
    "\n",
    "#---------------Weapon-----------------------\n",
    "\n",
    "\n",
    "hbox_weapon_req = widgets.HBox()\n",
    "label_weapon_req = widgets.Label(value='Weapon:',layout=layout_label_req)\n",
    "dropdown_weapon_slot_req = widgets.Dropdown(options = possible_requirements['Weapon Slot'],layout=layout_req)\n",
    "dropdown_weapon_ammo_req = widgets.Dropdown(options = possible_requirements['Weapon Ammo'],layout=layout_req)\n",
    "dropdown_weapon_type_req = widgets.Dropdown(options = possible_requirements['Weapon Type'],layout=layout_req)\n",
    "dropdown_weapon_energy_req = widgets.Dropdown(options = possible_requirements['Weapon Energy'],layout=layout_req)\n",
    "\n",
    "\n",
    "hbox_weapon_req.children = [\n",
    "    label_weapon_req,\n",
    "    dropdown_weapon_slot_req,\n",
    "    dropdown_weapon_energy_req,\n",
    "    dropdown_weapon_type_req,\n",
    "    dropdown_weapon_ammo_req\n",
    "]\n",
    "\n",
    "stop_refresh_weapon = False\n",
    "\n",
    "#TODO: need to add functionality to set weapon slot type\n",
    "\n",
    "def refresh_weapon(dropdown, old, new):\n",
    "    global stop_refresh_weapon\n",
    "    if not stop_refresh_weapon:\n",
    "        stop_refresh_weapon = True\n",
    "        if dropdown == 'type':\n",
    "            if new != 'Any':\n",
    "                for ammo in possible_requirements['Weapon Ammo Type']:\n",
    "                    if new in possible_requirements['Weapon Ammo Type'][ammo]:\n",
    "                        dropdown_weapon_ammo_req.value = ammo\n",
    "                        dropdown_weapon_type_req.options = possible_requirements['Weapon Ammo Type'][ammo]\n",
    "                        dropdown_weapon_type_req.value = new\n",
    "        elif dropdown == 'ammo':\n",
    "            dropdown_weapon_type_req.value = 'Any'\n",
    "            if new == 'Any':\n",
    "                dropdown_weapon_type_req.options = possible_requirements['Weapon Type']\n",
    "            else:\n",
    "                 dropdown_weapon_type_req.options = possible_requirements['Weapon Ammo Type'][new]\n",
    "        stop_refresh_weapon = False \n",
    "            \n",
    "\n",
    "def change_weapon_type(change):\n",
    "    refresh_weapon('type',change['old'],change['new'])\n",
    "\n",
    "def change_weapon_ammo(change):\n",
    "    refresh_weapon('ammo',change['old'],change['new'])\n",
    "\n",
    "    \n",
    "dropdown_weapon_type_req.observe(change_weapon_type, names = 'value')\n",
    "dropdown_weapon_ammo_req.observe(change_weapon_ammo, names = 'value')\n",
    "\n",
    "\n",
    "#-----------------------------Activity------------------------------\n",
    "\n",
    "\n",
    "hbox_activity_req = widgets.HBox()\n",
    "label_activity_req = widgets.Label(value='Activity:',layout=layout_label_req)\n",
    "dropdown_activity_type_req = widgets.Dropdown(options = possible_requirements['Activity Type'],layout=layout_req)\n",
    "dropdown_activity_req = widgets.Dropdown(disabled = True, options = ['Any'],layout=layout_req)\n",
    "\n",
    "hbox_activity_req.children = [\n",
    "    label_activity_req,\n",
    "    dropdown_activity_type_req,\n",
    "    dropdown_activity_req\n",
    "]\n",
    "\n",
    "def change_activity_type(change):\n",
    "    if change['new'] == 'Any':\n",
    "        dropdown_activity_req.options = ['Any']\n",
    "        dropdown_activity_req.disabled = True\n",
    "    else:\n",
    "        dropdown_activity_req.options = possible_requirements['Activity'][change['new']]\n",
    "        dropdown_activity_req.disabled = False\n",
    "\n",
    "dropdown_activity_type_req.observe(change_activity_type, names = 'value')\n",
    "        \n",
    "vbox_req = widgets.VBox(children=[hbox_triumph_req,hbox_class_req,hbox_weapon_req,hbox_activity_req])\n",
    "\n",
    "\n",
    "\n",
    "def load_objective(objective):\n",
    "    if objective in requirements:\n",
    "        dropdown_class_req.value = requirements[objective]['Class']\n",
    "        dropdown_subclass_req.value = requirements[objective]['Subclass']\n",
    "        dropdown_tree_req.value = requirements[objective]['Tree']\n",
    "        dropdown_grenade_req.value = requirements[objective]['Grenade']\n",
    "        dropdown_weapon_slot_req.value = requirements[objective]['Weapon Slot']\n",
    "        dropdown_weapon_ammo_req.value = requirements[objective]['Weapon Ammo']\n",
    "        dropdown_weapon_type_req.value = requirements[objective]['Weapon Type']\n",
    "        dropdown_weapon_energy_req.value = requirements[objective]['Weapon Energy']\n",
    "        dropdown_activity_type_req.value = requirements[objective]['Activity Type']\n",
    "        dropdown_activity_req.value = requirements[objective]['Activity']\n",
    "    else:\n",
    "        dropdown_class_req.value = 'Any'\n",
    "        dropdown_subclass_req.value = 'Any'\n",
    "        dropdown_tree_req.value = 'Any'\n",
    "        dropdown_grenade_req.value = 'Any'\n",
    "        dropdown_weapon_slot_req.value = 'Any'\n",
    "        dropdown_weapon_ammo_req.value = 'Any'\n",
    "        dropdown_weapon_type_req.value = 'Any'\n",
    "        dropdown_weapon_energy_req.value = 'Any'\n",
    "        dropdown_activity_type_req.value = 'Any'\n",
    "        dropdown_activity_req.value = 'Any'\n",
    "    \n",
    "def save_objective(b):\n",
    "    objective = dropdown_objective_req.value\n",
    "    if objective not in requirements:\n",
    "        requirements[objective] = {}\n",
    "    requirements[objective]['Class'] = dropdown_class_req.value\n",
    "    requirements[objective]['Subclass'] = dropdown_subclass_req.value\n",
    "    requirements[objective]['Tree'] = dropdown_tree_req.value\n",
    "    requirements[objective]['Grenade'] = dropdown_grenade_req.value\n",
    "    requirements[objective]['Weapon Slot'] = dropdown_weapon_slot_req.value\n",
    "    requirements[objective]['Weapon Ammo'] = dropdown_weapon_ammo_req.value\n",
    "    requirements[objective]['Weapon Type'] = dropdown_weapon_type_req.value\n",
    "    requirements[objective]['Weapon Energy'] = dropdown_weapon_energy_req.value\n",
    "    requirements[objective]['Activity Type'] = dropdown_activity_type_req.value\n",
    "    requirements[objective]['Activity'] = dropdown_activity_req.value\n",
    "    with open('requirements.data', 'wb') as filehandle:\n",
    "        pickle.dump(requirements, filehandle) \n",
    "    \n",
    "\n",
    "def change_objective(change):\n",
    "    load_objective(change['new'])\n",
    "    \n",
    "dropdown_objective_req.observe(change_objective, names='value')\n",
    "button_save_req.on_click(save_objective)\n",
    "\n",
    "dropdown_triumph_req.value = list(triumphs.keys())[-1]\n",
    "dropdown_triumph_req.value = list(triumphs.keys())[0]\n"
   ]
  },
  {
   "cell_type": "code",
   "execution_count": 9,
   "metadata": {},
   "outputs": [
    {
     "data": {
      "application/vnd.jupyter.widget-view+json": {
       "model_id": "386289ba82fa46189502cb17862c40c6",
       "version_major": 2,
       "version_minor": 0
      },
      "text/plain": [
       "VBox(children=(HBox(children=(Label(value='Triumph:', layout=Layout(width='10%')), Dropdown(layout=Layout(widt…"
      ]
     },
     "metadata": {},
     "output_type": "display_data"
    },
    {
     "data": {
      "application/vnd.jupyter.widget-view+json": {
       "model_id": "79a474bf807143968aec05193eec6132",
       "version_major": 2,
       "version_minor": 0
      },
      "text/plain": [
       "HBox(children=(VBox(children=(VBox(children=(HTML(value='<b>Activity Options</b>', layout=Layout(height='100%'…"
      ]
     },
     "metadata": {},
     "output_type": "display_data"
    }
   ],
   "source": [
    "display(vbox_req,hbox_GUI)"
   ]
  },
  {
   "cell_type": "code",
   "execution_count": 10,
   "metadata": {},
   "outputs": [],
   "source": [
    "\n",
    "\n",
    "\n",
    "def set_loadout(dropdown, value):\n",
    "    dropdown.value = value\n",
    "    if value == 'Any':\n",
    "        dropdown.disabled = False\n",
    "        dropdown.layout = layout_dropdown_inactive\n",
    "    else:\n",
    "        dropdown.disabled = True\n",
    "        dropdown.layout = layout_dropdown_active\n",
    "    \n",
    "\n",
    "loadout_list = [\n",
    "    dropdown_activity_type, \n",
    "    dropdown_activity, \n",
    "    dropdown_class,\n",
    "    dropdown_subclass,\n",
    "    dropdown_grenade,\n",
    "    dropdown_kinetic,\n",
    "    dropdown_energy,\n",
    "    dropdown_energy_type,\n",
    "    dropdown_power,\n",
    "    dropdown_power_type]\n",
    "\n",
    "\n",
    "def refresh_loadout():\n",
    "    \n",
    "    for dropdown in loadout_list:\n",
    "        set_loadout(dropdown, 'Any')\n",
    "    \n",
    "    for objective in active_objectives:\n",
    "        for requirement in requirements[objective]:\n",
    "            if requirements[objective][requirement] != 'Any':\n",
    "                if requirement == 'Activity Type':\n",
    "                    set_loadout(dropdown_activity_type, requirements[objective][requirement])\n",
    "                if requirement == 'Activity':\n",
    "                    set_loadout(dropdown_activity, requirements[objective][requirement])\n",
    "                if requirement == 'Class':\n",
    "                    set_loadout(dropdown_class, requirements[objective][requirement])\n",
    "                if requirement == 'Subclass':\n",
    "                    set_loadout(dropdown_subclass, requirements[objective][requirement])\n",
    "                if requirement == 'Tree':\n",
    "                    set_loadout(dropdown_tree, requirements[objective][requirement])\n",
    "                if requirement == 'Grenade':\n",
    "                    set_loadout(dropdown_grenade, requirements[objective][requirement])\n",
    "                if requirement == 'Weapon Slot':\n",
    "                    if requirements[objective][requirement] == 'Kinetic':\n",
    "                        set_loadout(dropdown_kinetic, requirements[objective]['Weapon Type'])\n",
    "                    if requirements[objective][requirement] == 'Energy':\n",
    "                        set_loadout(dropdown_energy, requirements[objective]['Weapon Type'])\n",
    "                        set_loadout(dropdown_energy_type, requirements[objective]['Weapon Energy'])\n",
    "                    if requirements[objective][requirement] == 'Power':\n",
    "                        set_loadout(dropdown_power, requirements[objective]['Weapon Type'])\n",
    "                        set_loadout(dropdown_power_type, requirements[objective]['Weapon Energy'])\n",
    "\n",
    "                \n",
    "        \n"
   ]
  }
 ],
 "metadata": {
  "kernelspec": {
   "display_name": "Python 3",
   "language": "python",
   "name": "python3"
  },
  "language_info": {
   "codemirror_mode": {
    "name": "ipython",
    "version": 3
   },
   "file_extension": ".py",
   "mimetype": "text/x-python",
   "name": "python",
   "nbconvert_exporter": "python",
   "pygments_lexer": "ipython3",
   "version": "3.7.4"
  },
  "widgets": {
   "application/vnd.jupyter.widget-state+json": {
    "state": {
     "001cb636bd744c33baf5a7e9c79be016": {
      "model_module": "@jupyter-widgets/base",
      "model_module_version": "1.2.0",
      "model_name": "LayoutModel",
      "state": {
       "height": "32px",
       "order": "-2",
       "width": "32px"
      }
     },
     "001d204cde8a4ab3925be9754a1d5e23": {
      "model_module": "@jupyter-widgets/base",
      "model_module_version": "1.2.0",
      "model_name": "LayoutModel",
      "state": {
       "height": "32px",
       "order": "-2",
       "width": "32px"
      }
     },
     "003793475c234bc690ec1c01fcc94773": {
      "model_module": "@jupyter-widgets/controls",
      "model_module_version": "1.5.0",
      "model_name": "ButtonStyleModel",
      "state": {}
     },
     "00408af5a034467ca459d6b4ac0a8609": {
      "model_module": "@jupyter-widgets/base",
      "model_module_version": "1.2.0",
      "model_name": "LayoutModel",
      "state": {
       "width": "60px"
      }
     },
     "00862c945b2b499b98a72eb558833547": {
      "model_module": "@jupyter-widgets/controls",
      "model_module_version": "1.5.0",
      "model_name": "ProgressStyleModel",
      "state": {
       "description_width": ""
      }
     },
     "00be9b82f75b4cc68d6b2f6f04604d5a": {
      "model_module": "@jupyter-widgets/controls",
      "model_module_version": "1.5.0",
      "model_name": "LabelModel",
      "state": {
       "layout": "IPY_MODEL_4fc6118b2ac248fe9ffe8dbca12b75d1",
       "style": "IPY_MODEL_b010838fdee249799071314c0a63c46e",
       "value": "   objective"
      }
     },
     "00e90f3348b34a63945b63a77592034d": {
      "model_module": "@jupyter-widgets/controls",
      "model_module_version": "1.5.0",
      "model_name": "ButtonModel",
      "state": {
       "layout": "IPY_MODEL_1b5a0f49ac86465fabd92acc74e8934a",
       "style": "IPY_MODEL_dc023f12ba1843d39e420a0b4611f17a"
      }
     },
     "010edbdc68bb46cfb1de09f07cff7a46": {
      "model_module": "@jupyter-widgets/controls",
      "model_module_version": "1.5.0",
      "model_name": "DescriptionStyleModel",
      "state": {
       "description_width": ""
      }
     },
     "013183d3b5f547e2b615f1da4a9dd6ee": {
      "model_module": "@jupyter-widgets/base",
      "model_module_version": "1.2.0",
      "model_name": "LayoutModel",
      "state": {
       "width": "60px"
      }
     },
     "0148b7f21c434a90b26e7eb48787a856": {
      "model_module": "@jupyter-widgets/controls",
      "model_module_version": "1.5.0",
      "model_name": "VBoxModel",
      "state": {
       "children": [
        "IPY_MODEL_ffbda24eeac542be893031270967a0d5",
        "IPY_MODEL_d4133888c31b412899cd203b16caa16f",
        "IPY_MODEL_295f9835a37a4406a7f3efae47baf41f"
       ],
       "layout": "IPY_MODEL_4a7e7dfa71b345c483c666f630680052"
      }
     },
     "01673682ac1543a8bbe04a905e361752": {
      "model_module": "@jupyter-widgets/base",
      "model_module_version": "1.2.0",
      "model_name": "LayoutModel",
      "state": {
       "order": "-1",
       "overflow": "visible",
       "padding": "1px",
       "width": "0px"
      }
     },
     "018235994723411881610591296b0a61": {
      "model_module": "@jupyter-widgets/controls",
      "model_module_version": "1.5.0",
      "model_name": "HTMLModel",
      "state": {
       "layout": "IPY_MODEL_994a82aae0f04c94a50a33a9760d331a",
       "style": "IPY_MODEL_cbc390c524d64e2bb25b61d6f663b578",
       "value": "<font size=\"1\">Path/Path/Path/Path/</font size>"
      }
     },
     "018273b66f73466eba6186ce99921f5f": {
      "model_module": "@jupyter-widgets/controls",
      "model_module_version": "1.5.0",
      "model_name": "HBoxModel",
      "state": {
       "children": [
        "IPY_MODEL_1a8427efee864406917e4a002c51c886",
        "IPY_MODEL_d2bc6773d127441193cc79fc8983c943",
        "IPY_MODEL_22a03aba66dc46caa473b02b84681ba0",
        "IPY_MODEL_5c3e72177627466ea092570ecaaa68ea"
       ],
       "layout": "IPY_MODEL_1aee3c87086b49babd83066f99da9134"
      }
     },
     "01ce66a191aa4fbfb7e7d36fa54ef22f": {
      "model_module": "@jupyter-widgets/controls",
      "model_module_version": "1.5.0",
      "model_name": "ProgressStyleModel",
      "state": {
       "description_width": ""
      }
     },
     "01d9b2f17d9a4172bf2ff9fd7ab06b53": {
      "model_module": "@jupyter-widgets/base",
      "model_module_version": "1.2.0",
      "model_name": "LayoutModel",
      "state": {
       "height": "32px",
       "overflow": "visible",
       "width": "100%"
      }
     },
     "01de178c24c34cad96781c35f8a890c4": {
      "model_module": "@jupyter-widgets/base",
      "model_module_version": "1.2.0",
      "model_name": "LayoutModel",
      "state": {
       "height": "32px",
       "order": "-2",
       "width": "32px"
      }
     },
     "01e5b0b8648948c1888cf6190529d4e9": {
      "model_module": "@jupyter-widgets/base",
      "model_module_version": "1.2.0",
      "model_name": "LayoutModel",
      "state": {
       "order": "-1",
       "overflow": "visible",
       "padding": "1px",
       "width": "0px"
      }
     },
     "01f41ebf80f14e9d8d1dda65a65eb27c": {
      "model_module": "@jupyter-widgets/base",
      "model_module_version": "1.2.0",
      "model_name": "LayoutModel",
      "state": {
       "height": "32px",
       "overflow": "visible",
       "width": "100%"
      }
     },
     "02284187f52841fe869c5f046ebb52c4": {
      "model_module": "@jupyter-widgets/controls",
      "model_module_version": "1.5.0",
      "model_name": "LabelModel",
      "state": {
       "layout": "IPY_MODEL_4dd2a4c18c7742959927005a26fc6528",
       "style": "IPY_MODEL_8361d0d4d55a4febadbf85cfba02da31",
       "value": "   objective"
      }
     },
     "0230a7b0713146dba7e10460ee0d1359": {
      "model_module": "@jupyter-widgets/base",
      "model_module_version": "1.2.0",
      "model_name": "LayoutModel",
      "state": {
       "height": "32px",
       "overflow": "visible",
       "width": "100%"
      }
     },
     "02385df397dc46d18a295e8eb8bcf43e": {
      "model_module": "@jupyter-widgets/controls",
      "model_module_version": "1.5.0",
      "model_name": "HTMLModel",
      "state": {
       "layout": "IPY_MODEL_7ec9c33dca3d4ae6a363d4036c6d5bd0",
       "style": "IPY_MODEL_ea1a5992eb5b41cea38160f951db9fec",
       "value": "<font size=\"1\">Path/Path/Path/Path/</font size>"
      }
     },
     "02429e184e4341f5984de99088e012d6": {
      "model_module": "@jupyter-widgets/controls",
      "model_module_version": "1.5.0",
      "model_name": "IntProgressModel",
      "state": {
       "layout": "IPY_MODEL_dd0e47bdf0e24b008ed9cff55b57e97f",
       "style": "IPY_MODEL_76e490a2826c4da5ac9352cd85f9f94f",
       "value": 30
      }
     },
     "024dae5ec9a047ed98b3a6bebff11813": {
      "model_module": "@jupyter-widgets/controls",
      "model_module_version": "1.5.0",
      "model_name": "HTMLModel",
      "state": {
       "layout": "IPY_MODEL_cf38532d78c0433c8e34514d74949864",
       "style": "IPY_MODEL_36ee3f1ecdf34e029673dc175dc321ae",
       "value": "<b>Task Name</b>"
      }
     },
     "025bad78f74644e5acea324584503fd5": {
      "model_module": "@jupyter-widgets/controls",
      "model_module_version": "1.5.0",
      "model_name": "VBoxModel",
      "state": {
       "children": [
        "IPY_MODEL_50cade5dfd7942428a84a4351fafda78",
        "IPY_MODEL_20a5f0a44e834180a52cf0a668a7c256",
        "IPY_MODEL_9815c69e944c4e3c9c71fee3d958dc15",
        "IPY_MODEL_dec6482ec8dc4079a71b244b75c0d881"
       ],
       "layout": "IPY_MODEL_ea390c5694c04241b080082181f9895a"
      }
     },
     "026a7756d7b44b8293b7122ac81fe49a": {
      "model_module": "@jupyter-widgets/controls",
      "model_module_version": "1.5.0",
      "model_name": "ButtonModel",
      "state": {
       "layout": "IPY_MODEL_f933c7e8b1dd4a52901630321fe9d487",
       "style": "IPY_MODEL_6a57a5044c144005aef1d12851e2c6be"
      }
     },
     "026de7fdbd744b1cbf7635d3939274d0": {
      "model_module": "@jupyter-widgets/base",
      "model_module_version": "1.2.0",
      "model_name": "LayoutModel",
      "state": {
       "height": "32px",
       "overflow": "visible",
       "width": "100%"
      }
     },
     "02aad2c256e84371b4f1f57d28ab3c0a": {
      "model_module": "@jupyter-widgets/controls",
      "model_module_version": "1.5.0",
      "model_name": "IntProgressModel",
      "state": {
       "layout": "IPY_MODEL_19ed7c9edb084a9b909c6ee9f4bf0e6f",
       "style": "IPY_MODEL_c645569eac3f4d1a9c60d4073a0084c9",
       "value": 30
      }
     },
     "02b33a92e9634c68a3db700a71ebc07c": {
      "model_module": "@jupyter-widgets/base",
      "model_module_version": "1.2.0",
      "model_name": "LayoutModel",
      "state": {
       "width": "60px"
      }
     },
     "02c37756f19d4def99fd2b934fc85815": {
      "model_module": "@jupyter-widgets/controls",
      "model_module_version": "1.5.0",
      "model_name": "ProgressStyleModel",
      "state": {
       "description_width": ""
      }
     },
     "02c8d47ed58342d5a3003af5a715f070": {
      "model_module": "@jupyter-widgets/controls",
      "model_module_version": "1.5.0",
      "model_name": "DescriptionStyleModel",
      "state": {
       "description_width": ""
      }
     },
     "02f1f3dfca6d41398dd1b1776ae8dde6": {
      "model_module": "@jupyter-widgets/base",
      "model_module_version": "1.2.0",
      "model_name": "LayoutModel",
      "state": {
       "height": "32px",
       "order": "-2",
       "width": "32px"
      }
     },
     "030a43e382064d79beff195a7c30ea8d": {
      "model_module": "@jupyter-widgets/base",
      "model_module_version": "1.2.0",
      "model_name": "LayoutModel",
      "state": {
       "width": "60px"
      }
     },
     "030da210e4f54ea793269dd18d799a09": {
      "model_module": "@jupyter-widgets/base",
      "model_module_version": "1.2.0",
      "model_name": "LayoutModel",
      "state": {}
     },
     "0312c08c3379457fb03d4e062a476c7e": {
      "model_module": "@jupyter-widgets/controls",
      "model_module_version": "1.5.0",
      "model_name": "ButtonStyleModel",
      "state": {}
     },
     "032dd42a967647349760ae864a425882": {
      "model_module": "@jupyter-widgets/controls",
      "model_module_version": "1.5.0",
      "model_name": "HBoxModel",
      "state": {
       "children": [
        "IPY_MODEL_89811571e15d436b8638eea7af7b32f9",
        "IPY_MODEL_3796f874db6644cd946b51bef4606515",
        "IPY_MODEL_3c4497e486ea46e3b6975ca2610649d3",
        "IPY_MODEL_711a21b6dcdc4f6197ad0ea4f3cbf294"
       ],
       "layout": "IPY_MODEL_6a7499cfe527444085a34913359ac0d8"
      }
     },
     "034da111da104b039b6d94bcd2131f15": {
      "model_module": "@jupyter-widgets/base",
      "model_module_version": "1.2.0",
      "model_name": "LayoutModel",
      "state": {}
     },
     "0353077eb0bf46b8966beb2d70058de7": {
      "model_module": "@jupyter-widgets/controls",
      "model_module_version": "1.5.0",
      "model_name": "DescriptionStyleModel",
      "state": {
       "description_width": ""
      }
     },
     "035824df95394c3090dea435f15e2b9c": {
      "model_module": "@jupyter-widgets/controls",
      "model_module_version": "1.5.0",
      "model_name": "HBoxModel",
      "state": {
       "children": [
        "IPY_MODEL_2c11178fba1e446c8fee24228ca7ee0e",
        "IPY_MODEL_8b8257a7f862460f8284aa5d5f536a06",
        "IPY_MODEL_8156f6cc3766494baf5cb528cf7d0135",
        "IPY_MODEL_e85ae355471b429eb79bbf52f2923981"
       ],
       "layout": "IPY_MODEL_1b27f0de692e4a038216a98e56432b2e"
      }
     },
     "03613809de7240ce8e447ce0df1ba990": {
      "model_module": "@jupyter-widgets/controls",
      "model_module_version": "1.5.0",
      "model_name": "HBoxModel",
      "state": {
       "children": [
        "IPY_MODEL_0d19c67c505b4cbca91a32ba26678278",
        "IPY_MODEL_1647ffca4c3d49f7bf0b88e94faf7028",
        "IPY_MODEL_b6d43f9444054cdc96f5133921a4fd0e",
        "IPY_MODEL_69debbec15cf43c6ade745bcbc0aa751"
       ],
       "layout": "IPY_MODEL_6adb9781530e44a6acf59809ce2fffa2"
      }
     },
     "03673022c2b14898969b877086bd1261": {
      "model_module": "@jupyter-widgets/base",
      "model_module_version": "1.2.0",
      "model_name": "LayoutModel",
      "state": {
       "width": "60px"
      }
     },
     "03686fac9d75485386be3cfcf5b13423": {
      "model_module": "@jupyter-widgets/controls",
      "model_module_version": "1.5.0",
      "model_name": "VBoxModel",
      "state": {
       "children": [
        "IPY_MODEL_d3432ed4cfae43299274fd6662bb6724",
        "IPY_MODEL_978b3974ce474f228f2f4c896475134c",
        "IPY_MODEL_93a2c34d35f64b1885a866737b6b5bd0",
        "IPY_MODEL_1f549845fd594eb888a027154aae9dba"
       ],
       "layout": "IPY_MODEL_53c84bd467554b758ecc00cbe23f1ca0"
      }
     },
     "0393dc327ef74cbb9f5f78adb993dace": {
      "model_module": "@jupyter-widgets/controls",
      "model_module_version": "1.5.0",
      "model_name": "DescriptionStyleModel",
      "state": {
       "description_width": ""
      }
     },
     "03962158a83448e59a24c1dac73786cc": {
      "model_module": "@jupyter-widgets/controls",
      "model_module_version": "1.5.0",
      "model_name": "ButtonModel",
      "state": {
       "description": "EDIT",
       "layout": "IPY_MODEL_86f8d9ca5c894e30905198725426054f",
       "style": "IPY_MODEL_9f8caaa5c68443048e391bc4f4a150fd"
      }
     },
     "03b03c1edafe4fd489132233006e8241": {
      "model_module": "@jupyter-widgets/controls",
      "model_module_version": "1.5.0",
      "model_name": "ProgressStyleModel",
      "state": {
       "description_width": ""
      }
     },
     "03b18574cc6c456e9aebb8e01483267e": {
      "model_module": "@jupyter-widgets/controls",
      "model_module_version": "1.5.0",
      "model_name": "ButtonStyleModel",
      "state": {}
     },
     "03f9bcab92b148b19ce7f0734390dbc8": {
      "model_module": "@jupyter-widgets/controls",
      "model_module_version": "1.5.0",
      "model_name": "DescriptionStyleModel",
      "state": {
       "description_width": ""
      }
     },
     "041e528f47d84b058ccb4a01ba3f5ef0": {
      "model_module": "@jupyter-widgets/controls",
      "model_module_version": "1.5.0",
      "model_name": "ButtonModel",
      "state": {
       "layout": "IPY_MODEL_f63053cf48054a8898b57e9922ccfac0",
       "style": "IPY_MODEL_8afb4f98b2b442ea8fa5576aaa2119e0"
      }
     },
     "042d17ba42074968a89e2b68d1fb8e51": {
      "model_module": "@jupyter-widgets/controls",
      "model_module_version": "1.5.0",
      "model_name": "ButtonStyleModel",
      "state": {}
     },
     "0430c12dcdc845fb9ffc8aaa70ba0dff": {
      "model_module": "@jupyter-widgets/controls",
      "model_module_version": "1.5.0",
      "model_name": "ButtonStyleModel",
      "state": {}
     },
     "043be14e41684de18b66a1d6dbf2987e": {
      "model_module": "@jupyter-widgets/controls",
      "model_module_version": "1.5.0",
      "model_name": "VBoxModel",
      "state": {
       "children": [
        "IPY_MODEL_eea9df62fd054dddb2641c7348766aa0",
        "IPY_MODEL_71a979a58c9a465e9f97a907cbed5689",
        "IPY_MODEL_379b627b8be54d66ace415b55e260c53"
       ],
       "layout": "IPY_MODEL_0611003c7a484195b8975aa563ebdad4"
      }
     },
     "04461115838d4b01afacbeb6131af68f": {
      "model_module": "@jupyter-widgets/controls",
      "model_module_version": "1.5.0",
      "model_name": "ButtonStyleModel",
      "state": {}
     },
     "0459222773174b8987d1c397294e47ba": {
      "model_module": "@jupyter-widgets/controls",
      "model_module_version": "1.5.0",
      "model_name": "HBoxModel",
      "state": {
       "children": [
        "IPY_MODEL_f30bd0d434ca4034ab1c672ef8a1b827",
        "IPY_MODEL_883fb7ecb8d54db19a772fc65c611221",
        "IPY_MODEL_790c5221587c442a821ac7854de44631",
        "IPY_MODEL_2357352cbefe4fbcad8eb1c95a583648"
       ],
       "layout": "IPY_MODEL_6d9183bea900475abf33f542ebbc0487"
      }
     },
     "045f8ee9810a40bb8b54a18c1f305907": {
      "model_module": "@jupyter-widgets/base",
      "model_module_version": "1.2.0",
      "model_name": "LayoutModel",
      "state": {}
     },
     "0464e5985a8443ac997fb7426d1c39eb": {
      "model_module": "@jupyter-widgets/controls",
      "model_module_version": "1.5.0",
      "model_name": "ButtonModel",
      "state": {
       "description": "EDIT",
       "layout": "IPY_MODEL_3429665f72de4e29874def7f13587747",
       "style": "IPY_MODEL_24d5674f321a41bfabfca54e012c1bac"
      }
     },
     "0492baa4bc814e81bf97d3a2ba0ba255": {
      "model_module": "@jupyter-widgets/base",
      "model_module_version": "1.2.0",
      "model_name": "LayoutModel",
      "state": {
       "border": "3px solid white",
       "flex": "1 1 0%",
       "margin": "10px",
       "min_width": "400px",
       "overflow": "visible",
       "padding": "10px",
       "width": "auto"
      }
     },
     "04bdcea7d7f44de3820a097178dc6046": {
      "model_module": "@jupyter-widgets/base",
      "model_module_version": "1.2.0",
      "model_name": "LayoutModel",
      "state": {
       "overflow": "visible",
       "width": "100%"
      }
     },
     "04d81271092549ee89102098bba56564": {
      "model_module": "@jupyter-widgets/controls",
      "model_module_version": "1.5.0",
      "model_name": "DropdownModel",
      "state": {
       "_options_labels": [
        "Any",
        "Titan",
        "Hunter",
        "Warlock"
       ],
       "index": 0,
       "layout": "IPY_MODEL_27de6b728bae49b0a4b2fdd732570aae",
       "style": "IPY_MODEL_508e90e817b44b1ea9c273804c65eb26"
      }
     },
     "04e2e86a2ac145c1b647619fc97ed604": {
      "model_module": "@jupyter-widgets/controls",
      "model_module_version": "1.5.0",
      "model_name": "ButtonModel",
      "state": {
       "description": "EDIT",
       "layout": "IPY_MODEL_425b70686b5048368df4dd9cd6d7507e",
       "style": "IPY_MODEL_2d14b380364940b69c1f7b4ceb75eb23"
      }
     },
     "04ea97727b254a79b1d8e0318394dfeb": {
      "model_module": "@jupyter-widgets/controls",
      "model_module_version": "1.5.0",
      "model_name": "HBoxModel",
      "state": {
       "children": [
        "IPY_MODEL_574bf47c5efe429bb953933f5a5cfe18",
        "IPY_MODEL_3285b837aa8d44adae7a0089a8c190d1",
        "IPY_MODEL_a5e655c453a144de90f147add503c94f",
        "IPY_MODEL_da746bbbba8643479a588dcd37f92995"
       ],
       "layout": "IPY_MODEL_c095eaa57d464c7aa583629e173a063a"
      }
     },
     "04ef2a7241ad4d7ebf12eba42619f8a8": {
      "model_module": "@jupyter-widgets/base",
      "model_module_version": "1.2.0",
      "model_name": "LayoutModel",
      "state": {
       "height": "32px",
       "overflow": "visible",
       "width": "100%"
      }
     },
     "04f6b7be2a584400a094257240555bb8": {
      "model_module": "@jupyter-widgets/base",
      "model_module_version": "1.2.0",
      "model_name": "LayoutModel",
      "state": {
       "overflow": "visible",
       "width": "100%"
      }
     },
     "04fabdfd2a8347e595ad5341c5d4debd": {
      "model_module": "@jupyter-widgets/controls",
      "model_module_version": "1.5.0",
      "model_name": "HBoxModel",
      "state": {
       "children": [
        "IPY_MODEL_bb1ddee5048240b0922f23795c6f0c26",
        "IPY_MODEL_a1c35b1585dc4363ad7b6cfb961572b3",
        "IPY_MODEL_6a2a79f9b06348b8a0b1e308221fa6e4",
        "IPY_MODEL_7fa163c1c66845dd8da862f94d56cc85"
       ],
       "layout": "IPY_MODEL_0a41801bec3c4acf9caa8a63d0661ee2"
      }
     },
     "051054880768413b9027455b8fc43bd1": {
      "model_module": "@jupyter-widgets/controls",
      "model_module_version": "1.5.0",
      "model_name": "DescriptionStyleModel",
      "state": {
       "description_width": ""
      }
     },
     "051b381a5a2a455c995cdc9bfedfb46e": {
      "model_module": "@jupyter-widgets/controls",
      "model_module_version": "1.5.0",
      "model_name": "ProgressStyleModel",
      "state": {
       "description_width": ""
      }
     },
     "052b2f7125834179bf81768a4ee789d6": {
      "model_module": "@jupyter-widgets/controls",
      "model_module_version": "1.5.0",
      "model_name": "ButtonStyleModel",
      "state": {}
     },
     "05583a7ce1f447b68257286aeacde9b4": {
      "model_module": "@jupyter-widgets/base",
      "model_module_version": "1.2.0",
      "model_name": "LayoutModel",
      "state": {
       "overflow": "visible",
       "width": "100%"
      }
     },
     "0572db8bfc0d4276aa34aeb56db46add": {
      "model_module": "@jupyter-widgets/controls",
      "model_module_version": "1.5.0",
      "model_name": "HBoxModel",
      "state": {
       "children": [
        "IPY_MODEL_353c300dcbe24a34b270f0994ce0ff1f",
        "IPY_MODEL_830e304b96cc4a6fb255c20dd1271f4e",
        "IPY_MODEL_c0355a1bd4c14206bfa43ccf06f70ae6",
        "IPY_MODEL_a115c0bb662b4a0cae9cbe617d71170a"
       ],
       "layout": "IPY_MODEL_819ef4d882eb4b77a00003063f891e6c"
      }
     },
     "057427af83894521a85a00c60ecbb958": {
      "model_module": "@jupyter-widgets/controls",
      "model_module_version": "1.5.0",
      "model_name": "HBoxModel",
      "state": {
       "children": [
        "IPY_MODEL_195c65b5a2d24302a0a384b7675dcc76",
        "IPY_MODEL_121d5c9b4d1a4de39c8baf773043c876",
        "IPY_MODEL_0f27c702762445d7a57e2f2fadfc33f1",
        "IPY_MODEL_6b442522d7bd4510bc32068eaeaae844"
       ],
       "layout": "IPY_MODEL_0cf4c49875d64450a3481046f72659ed"
      }
     },
     "05957ac4f9e6465fb5e8518a0b3f8035": {
      "model_module": "@jupyter-widgets/controls",
      "model_module_version": "1.5.0",
      "model_name": "IntProgressModel",
      "state": {
       "layout": "IPY_MODEL_17f7f1cffb144ababaada1f1a314dc31",
       "style": "IPY_MODEL_bf0d055e431d4087b90d4cfe32c59e45",
       "value": 30
      }
     },
     "05961dfb4666423cba6fbe8480e11ded": {
      "model_module": "@jupyter-widgets/base",
      "model_module_version": "1.2.0",
      "model_name": "LayoutModel",
      "state": {}
     },
     "05a7f52dd9ac479fab809f07a78033fb": {
      "model_module": "@jupyter-widgets/base",
      "model_module_version": "1.2.0",
      "model_name": "LayoutModel",
      "state": {
       "height": "32px",
       "overflow": "visible",
       "width": "100%"
      }
     },
     "05f5cc01f4e0430ca7eae122b9be29f2": {
      "model_module": "@jupyter-widgets/base",
      "model_module_version": "1.2.0",
      "model_name": "LayoutModel",
      "state": {
       "height": "32px",
       "overflow": "visible",
       "width": "100%"
      }
     },
     "0611003c7a484195b8975aa563ebdad4": {
      "model_module": "@jupyter-widgets/base",
      "model_module_version": "1.2.0",
      "model_name": "LayoutModel",
      "state": {
       "justify_items": "flex-end",
       "padding": "5px",
       "width": "200px"
      }
     },
     "061631136ce0429d87ec3f538fa5d626": {
      "model_module": "@jupyter-widgets/controls",
      "model_module_version": "1.5.0",
      "model_name": "IntProgressModel",
      "state": {
       "layout": "IPY_MODEL_fec177aa5aca4652891bbccb46fc570e",
       "style": "IPY_MODEL_ff895126fc084247b648c8a083dcf565",
       "value": 30
      }
     },
     "06252444414844f2b350a8324ecac0be": {
      "model_module": "@jupyter-widgets/controls",
      "model_module_version": "1.5.0",
      "model_name": "LabelModel",
      "state": {
       "layout": "IPY_MODEL_59254b003da84a94894f04d3802f0c57",
       "style": "IPY_MODEL_bf66d7672d2d43f49f8c23c4dc113d0c",
       "value": "   objective"
      }
     },
     "068c94cb5688421ca48d2a1455fca893": {
      "model_module": "@jupyter-widgets/controls",
      "model_module_version": "1.5.0",
      "model_name": "IntProgressModel",
      "state": {
       "layout": "IPY_MODEL_4f81b8f4a2b24cc2a99868160d44f2f5",
       "style": "IPY_MODEL_d27bb76454d4471eacb50a8f5e406079",
       "value": 30
      }
     },
     "068e5a4b81ec4290b61eae0fe530da99": {
      "model_module": "@jupyter-widgets/controls",
      "model_module_version": "1.5.0",
      "model_name": "DescriptionStyleModel",
      "state": {
       "description_width": ""
      }
     },
     "06ba03fc31f44adda484ca885a8c25c9": {
      "model_module": "@jupyter-widgets/controls",
      "model_module_version": "1.5.0",
      "model_name": "DescriptionStyleModel",
      "state": {
       "description_width": ""
      }
     },
     "06bd1eb46f1e497aa3cd92507a2f9c48": {
      "model_module": "@jupyter-widgets/controls",
      "model_module_version": "1.5.0",
      "model_name": "ButtonStyleModel",
      "state": {}
     },
     "06c837aa593449c299b57e837a7eae5f": {
      "model_module": "@jupyter-widgets/base",
      "model_module_version": "1.2.0",
      "model_name": "LayoutModel",
      "state": {
       "border": "3px solid white",
       "flex": "1 1 0%",
       "margin": "10px",
       "min_width": "400px",
       "overflow": "visible",
       "padding": "10px",
       "width": "auto"
      }
     },
     "078c3d35ebe0427680c7416ac066812f": {
      "model_module": "@jupyter-widgets/base",
      "model_module_version": "1.2.0",
      "model_name": "LayoutModel",
      "state": {
       "width": "60px"
      }
     },
     "07992c9a38ec4341a75584e6434133cf": {
      "model_module": "@jupyter-widgets/controls",
      "model_module_version": "1.5.0",
      "model_name": "ProgressStyleModel",
      "state": {
       "description_width": ""
      }
     },
     "079ff8a4ccec41239614ce1dd997777d": {
      "model_module": "@jupyter-widgets/controls",
      "model_module_version": "1.5.0",
      "model_name": "ButtonModel",
      "state": {
       "description": "EDIT",
       "layout": "IPY_MODEL_030a43e382064d79beff195a7c30ea8d",
       "style": "IPY_MODEL_68192789f2d441a28b6368bd92c9732c"
      }
     },
     "07b36a5bf7e04061aa006a85848963e1": {
      "model_module": "@jupyter-widgets/base",
      "model_module_version": "1.2.0",
      "model_name": "LayoutModel",
      "state": {
       "width": "60px"
      }
     },
     "07dd4ee328e540a1bdf98d2b215ed2eb": {
      "model_module": "@jupyter-widgets/base",
      "model_module_version": "1.2.0",
      "model_name": "LayoutModel",
      "state": {
       "overflow": "visible",
       "width": "100%"
      }
     },
     "07fb68f6701f494e8bdc0af49920b418": {
      "model_module": "@jupyter-widgets/base",
      "model_module_version": "1.2.0",
      "model_name": "LayoutModel",
      "state": {
       "order": "-1",
       "overflow": "visible",
       "padding": "1px",
       "width": "0px"
      }
     },
     "082dd6f6b71c4c0386914618d11cdb05": {
      "model_module": "@jupyter-widgets/controls",
      "model_module_version": "1.5.0",
      "model_name": "ButtonStyleModel",
      "state": {}
     },
     "082f91bc4a25426c81a7522ae6e6e730": {
      "model_module": "@jupyter-widgets/controls",
      "model_module_version": "1.5.0",
      "model_name": "HBoxModel",
      "state": {
       "children": [
        "IPY_MODEL_74dab67d2976401e827992e1db1a86f7",
        "IPY_MODEL_e7c3f12e026a4e33b3784ede62366d98",
        "IPY_MODEL_29f7a33191eb4328be928a550ba05415",
        "IPY_MODEL_8c256c60a6fc4f57853deee7e7b90a86"
       ],
       "layout": "IPY_MODEL_106f521384964e7cab22d4b81953958a"
      }
     },
     "083e4c7ab3704eb78845f1a479d84d5d": {
      "model_module": "@jupyter-widgets/controls",
      "model_module_version": "1.5.0",
      "model_name": "DropdownModel",
      "state": {
       "_options_labels": [
        "Any",
        "Patrol",
        "Gambit",
        "Reckoning",
        "Menagerie",
        "Vex Offensive",
        "Raid",
        "Strike",
        "Nightfall",
        "Crucible",
        "Forge"
       ],
       "index": 0,
       "layout": "IPY_MODEL_27de6b728bae49b0a4b2fdd732570aae",
       "style": "IPY_MODEL_1721e88023bf48b08698f3844c5fc9bc"
      }
     },
     "08891990117b4c79ba6ed55988956cb3": {
      "model_module": "@jupyter-widgets/controls",
      "model_module_version": "1.5.0",
      "model_name": "ButtonStyleModel",
      "state": {}
     },
     "088bf589382e488bab670a5b4f3de4ae": {
      "model_module": "@jupyter-widgets/controls",
      "model_module_version": "1.5.0",
      "model_name": "HTMLModel",
      "state": {
       "layout": "IPY_MODEL_9eaece3591b74fb5baa2abafd44e79dd",
       "style": "IPY_MODEL_15890fd728c74485a08338c5129ca615",
       "value": "<b>Task Name</b>"
      }
     },
     "088e01e3dcc84001841fbce2f852db4a": {
      "model_module": "@jupyter-widgets/controls",
      "model_module_version": "1.5.0",
      "model_name": "DescriptionStyleModel",
      "state": {
       "description_width": ""
      }
     },
     "08d004a3e2264bbea55660d025812377": {
      "model_module": "@jupyter-widgets/controls",
      "model_module_version": "1.5.0",
      "model_name": "ButtonModel",
      "state": {
       "description": "EDIT",
       "layout": "IPY_MODEL_32b25726142c4e6cb9011b69f1448c1e",
       "style": "IPY_MODEL_e3f57176678a4ac69c85ec836874cd36"
      }
     },
     "08d084b2b67c4f7a9f20638770442149": {
      "model_module": "@jupyter-widgets/controls",
      "model_module_version": "1.5.0",
      "model_name": "ButtonModel",
      "state": {
       "description": "EDIT",
       "layout": "IPY_MODEL_f923ee28860143e6a31bc96282f827af",
       "style": "IPY_MODEL_fa9f32a02ca34c50b47740b2148ab949"
      }
     },
     "08d224c1899b4b60909fa0e3bb6436a9": {
      "model_module": "@jupyter-widgets/controls",
      "model_module_version": "1.5.0",
      "model_name": "ButtonStyleModel",
      "state": {}
     },
     "08d686552acc4869a783b1c8e704065b": {
      "model_module": "@jupyter-widgets/controls",
      "model_module_version": "1.5.0",
      "model_name": "ButtonModel",
      "state": {
       "description": "EDIT",
       "layout": "IPY_MODEL_6f19752d550b4720afd7cfe4ea8732ec",
       "style": "IPY_MODEL_e69083f709f14e92bbee918b0b99a505"
      }
     },
     "09187eacd0b245aaa1377cab4349b478": {
      "model_module": "@jupyter-widgets/controls",
      "model_module_version": "1.5.0",
      "model_name": "ProgressStyleModel",
      "state": {
       "description_width": ""
      }
     },
     "0927eb6a1dc044b094ca5ea052228281": {
      "model_module": "@jupyter-widgets/controls",
      "model_module_version": "1.5.0",
      "model_name": "ButtonModel",
      "state": {
       "description": "EDIT",
       "layout": "IPY_MODEL_315e2477b1ac4c9cade32eec81c1ff56",
       "style": "IPY_MODEL_3a110422a27d4dc6b6e278d8ca1a9d57"
      }
     },
     "092cdd9fef3640158d4e782e71e80d21": {
      "model_module": "@jupyter-widgets/controls",
      "model_module_version": "1.5.0",
      "model_name": "LabelModel",
      "state": {
       "layout": "IPY_MODEL_96744a54a80c49ef9c872f24a7c1e45a",
       "style": "IPY_MODEL_65649c5eb1c146639bc78e3b03f23c4e",
       "value": "   objective"
      }
     },
     "093f7f1f00e448e9a93c51ccdbb13aa0": {
      "model_module": "@jupyter-widgets/controls",
      "model_module_version": "1.5.0",
      "model_name": "ProgressStyleModel",
      "state": {
       "description_width": ""
      }
     },
     "09401725ccb24ab68b9daa4be4d25b93": {
      "model_module": "@jupyter-widgets/base",
      "model_module_version": "1.2.0",
      "model_name": "LayoutModel",
      "state": {
       "order": "-1",
       "overflow": "visible",
       "padding": "1px",
       "width": "0px"
      }
     },
     "096ef61b83f442d8aae352b5233628d8": {
      "model_module": "@jupyter-widgets/controls",
      "model_module_version": "1.5.0",
      "model_name": "DescriptionStyleModel",
      "state": {
       "description_width": ""
      }
     },
     "0992f808f61a43ad86b4610d5128ca1a": {
      "model_module": "@jupyter-widgets/base",
      "model_module_version": "1.2.0",
      "model_name": "LayoutModel",
      "state": {
       "width": "60px"
      }
     },
     "0999e82a12e146778d2e709252853f41": {
      "model_module": "@jupyter-widgets/base",
      "model_module_version": "1.2.0",
      "model_name": "LayoutModel",
      "state": {
       "order": "-1",
       "overflow": "visible",
       "padding": "1px",
       "width": "0px"
      }
     },
     "099ee212f4614c969911b8d061b48191": {
      "model_module": "@jupyter-widgets/controls",
      "model_module_version": "1.5.0",
      "model_name": "HTMLModel",
      "state": {
       "layout": "IPY_MODEL_f9c0560eac804750a8bb11caad88c5e4",
       "style": "IPY_MODEL_6ad3498fdd2b4870b9f96941f59af939",
       "value": "<b>Task Name</b>"
      }
     },
     "09b09a292ba04387a51f4d95937e5f11": {
      "model_module": "@jupyter-widgets/base",
      "model_module_version": "1.2.0",
      "model_name": "LayoutModel",
      "state": {}
     },
     "09b0f49e1d444f8da244df5db988d482": {
      "model_module": "@jupyter-widgets/controls",
      "model_module_version": "1.5.0",
      "model_name": "ButtonStyleModel",
      "state": {}
     },
     "09bb47b0d3f04407a8cb85ca380c2fd8": {
      "model_module": "@jupyter-widgets/controls",
      "model_module_version": "1.5.0",
      "model_name": "IntProgressModel",
      "state": {
       "layout": "IPY_MODEL_787c98015f564a27b2f02e476bfd3b50",
       "style": "IPY_MODEL_7f425ca2c2b047ccb3d8698f4dd38f2c",
       "value": 30
      }
     },
     "09cff6b7caf5407eb4c14584b1299d59": {
      "model_module": "@jupyter-widgets/base",
      "model_module_version": "1.2.0",
      "model_name": "LayoutModel",
      "state": {
       "width": "60px"
      }
     },
     "09d16c53f0e1465cac6b7bd5d04a0b44": {
      "model_module": "@jupyter-widgets/base",
      "model_module_version": "1.2.0",
      "model_name": "LayoutModel",
      "state": {
       "order": "-1",
       "overflow": "visible",
       "padding": "1px",
       "width": "0px"
      }
     },
     "09fd609055dd44dd8789cae671fac06f": {
      "model_module": "@jupyter-widgets/controls",
      "model_module_version": "1.5.0",
      "model_name": "IntProgressModel",
      "state": {
       "layout": "IPY_MODEL_fa9a03c823a845b2a338f656f5b574c9",
       "style": "IPY_MODEL_f5621e93515542c3956bdf71d2b11ccb",
       "value": 30
      }
     },
     "0a1be0e844c342589180cc17d9f410f1": {
      "model_module": "@jupyter-widgets/controls",
      "model_module_version": "1.5.0",
      "model_name": "DescriptionStyleModel",
      "state": {
       "description_width": ""
      }
     },
     "0a41801bec3c4acf9caa8a63d0661ee2": {
      "model_module": "@jupyter-widgets/base",
      "model_module_version": "1.2.0",
      "model_name": "LayoutModel",
      "state": {}
     },
     "0a633fa49b8640889089efe1cb2583c4": {
      "model_module": "@jupyter-widgets/controls",
      "model_module_version": "1.5.0",
      "model_name": "LabelModel",
      "state": {
       "layout": "IPY_MODEL_e76e38854c974967a06aa76b2dfcaf21",
       "style": "IPY_MODEL_5ae89b393e2c46f396132612322ac450",
       "value": "   objective"
      }
     },
     "0a6637de198d4606a1b9f1a7270ab9fe": {
      "model_module": "@jupyter-widgets/controls",
      "model_module_version": "1.5.0",
      "model_name": "DescriptionStyleModel",
      "state": {
       "description_width": ""
      }
     },
     "0a83800eda054d1b87c360a4cf90abe6": {
      "model_module": "@jupyter-widgets/base",
      "model_module_version": "1.2.0",
      "model_name": "LayoutModel",
      "state": {
       "width": "60px"
      }
     },
     "0a9ad8412cfd4f24bf4513e75191a498": {
      "model_module": "@jupyter-widgets/base",
      "model_module_version": "1.2.0",
      "model_name": "LayoutModel",
      "state": {
       "height": "32px",
       "order": "-2",
       "width": "32px"
      }
     },
     "0aa9a61cf0cd4aa8b8d9e6373e1eda6d": {
      "model_module": "@jupyter-widgets/controls",
      "model_module_version": "1.5.0",
      "model_name": "LabelModel",
      "state": {
       "layout": "IPY_MODEL_4c1e76739468476996c247d1ef466a2f",
       "style": "IPY_MODEL_e5f2f0f9f7224739b5329ee0557ed26a",
       "value": "   objective"
      }
     },
     "0aadf17e166d4cd0bd3c9e4e47ae4691": {
      "model_module": "@jupyter-widgets/base",
      "model_module_version": "1.2.0",
      "model_name": "LayoutModel",
      "state": {
       "order": "-1",
       "overflow": "visible",
       "padding": "1px",
       "width": "0px"
      }
     },
     "0aaed69630644bd38e4600c091dcccd8": {
      "model_module": "@jupyter-widgets/controls",
      "model_module_version": "1.5.0",
      "model_name": "ButtonModel",
      "state": {
       "layout": "IPY_MODEL_596dd5c1bcce4104baa7df98d7c7a34e",
       "style": "IPY_MODEL_dcedade1f31b4f9fb8554a211d6ed9ca"
      }
     },
     "0ab200830fc246bfb6169c758885f1fd": {
      "model_module": "@jupyter-widgets/controls",
      "model_module_version": "1.5.0",
      "model_name": "ButtonModel",
      "state": {
       "description": "EDIT",
       "layout": "IPY_MODEL_71b6752f09b84ee0844414daa692912c",
       "style": "IPY_MODEL_3b1d48d8c4004ef5bd3c8a1872927485"
      }
     },
     "0aeda80afbd443bfa5f4e83d21cc63a6": {
      "model_module": "@jupyter-widgets/base",
      "model_module_version": "1.2.0",
      "model_name": "LayoutModel",
      "state": {}
     },
     "0b0e1496f16d4aea8d22ba9325e56255": {
      "model_module": "@jupyter-widgets/controls",
      "model_module_version": "1.5.0",
      "model_name": "ButtonModel",
      "state": {
       "description": "EDIT",
       "layout": "IPY_MODEL_508cead4560c484099a4833cb0df4ce7",
       "style": "IPY_MODEL_3537e3fbdd5948878258fe0e0f6a5b2f"
      }
     },
     "0b2038a66d3441f5b90b199cc413b0e2": {
      "model_module": "@jupyter-widgets/base",
      "model_module_version": "1.2.0",
      "model_name": "LayoutModel",
      "state": {
       "order": "-1",
       "overflow": "visible",
       "padding": "1px",
       "width": "0px"
      }
     },
     "0b378901c813412d96684ce94951788c": {
      "model_module": "@jupyter-widgets/base",
      "model_module_version": "1.2.0",
      "model_name": "LayoutModel",
      "state": {
       "width": "60px"
      }
     },
     "0b38235a177848a3aa53031834bd81f6": {
      "model_module": "@jupyter-widgets/controls",
      "model_module_version": "1.5.0",
      "model_name": "ProgressStyleModel",
      "state": {
       "description_width": ""
      }
     },
     "0b4868dae93d4aebaf840d2cba923278": {
      "model_module": "@jupyter-widgets/controls",
      "model_module_version": "1.5.0",
      "model_name": "LabelModel",
      "state": {
       "layout": "IPY_MODEL_3cf967d5ca3c482d9ad23638fe3fdd7a",
       "style": "IPY_MODEL_ca0de055505c41e7b7db5dc23bc39063",
       "value": "   objective"
      }
     },
     "0b6f59a2318c4b4cac0329baac6c6c69": {
      "model_module": "@jupyter-widgets/controls",
      "model_module_version": "1.5.0",
      "model_name": "ProgressStyleModel",
      "state": {
       "description_width": ""
      }
     },
     "0b7b4ac0a6ca42d7b40236d5322e9fd2": {
      "model_module": "@jupyter-widgets/controls",
      "model_module_version": "1.5.0",
      "model_name": "HTMLModel",
      "state": {
       "layout": "IPY_MODEL_7e53c60e160c4eec9b8e33bfea5dce78",
       "style": "IPY_MODEL_5ff4f24adbc5441a930b25fe65261873",
       "value": "<b>Class Options</b>"
      }
     },
     "0ba80bc8e5bc4ec89515e87b2a39098f": {
      "model_module": "@jupyter-widgets/controls",
      "model_module_version": "1.5.0",
      "model_name": "DropdownModel",
      "state": {
       "_options_labels": [
        "Any"
       ],
       "disabled": true,
       "index": 0,
       "layout": "IPY_MODEL_56b87d7d00c54e96938caab1e6aa41f1",
       "style": "IPY_MODEL_8a29bae3a7814a618a54179c6d31888d"
      }
     },
     "0bc5b71edfe8421c994f0fcac1970767": {
      "model_module": "@jupyter-widgets/controls",
      "model_module_version": "1.5.0",
      "model_name": "HBoxModel",
      "state": {
       "children": [
        "IPY_MODEL_c1502614a6fa470a8908ccce2a3d669a",
        "IPY_MODEL_e8dd79f6e3ad4c23ba7b4f400df0c4ea"
       ],
       "layout": "IPY_MODEL_18854a882c7443cf9f3f1e71a6f6f689"
      }
     },
     "0bd6ef49c3304ed0b1ec11fbfa33653e": {
      "model_module": "@jupyter-widgets/controls",
      "model_module_version": "1.5.0",
      "model_name": "ButtonStyleModel",
      "state": {}
     },
     "0c16f0c04e8248ddb53af7a0be898ebb": {
      "model_module": "@jupyter-widgets/base",
      "model_module_version": "1.2.0",
      "model_name": "LayoutModel",
      "state": {
       "order": "-1",
       "overflow": "visible",
       "padding": "1px",
       "width": "0px"
      }
     },
     "0c70db1776714c78b96d88d7885ac5a5": {
      "model_module": "@jupyter-widgets/controls",
      "model_module_version": "1.5.0",
      "model_name": "ButtonStyleModel",
      "state": {}
     },
     "0c7428fbd3f84da2b2739ae892cef8d4": {
      "model_module": "@jupyter-widgets/controls",
      "model_module_version": "1.5.0",
      "model_name": "ButtonStyleModel",
      "state": {}
     },
     "0c7b730d733d49e88ea0175522d12afb": {
      "model_module": "@jupyter-widgets/controls",
      "model_module_version": "1.5.0",
      "model_name": "IntProgressModel",
      "state": {
       "layout": "IPY_MODEL_0de104747dd94e2bb946e19640ef41b2",
       "style": "IPY_MODEL_7a70f9d0e93a4ad8878c2c6209a9ab95",
       "value": 30
      }
     },
     "0c88dff37d0b4cd5beca76e68bc90ca6": {
      "model_module": "@jupyter-widgets/base",
      "model_module_version": "1.2.0",
      "model_name": "LayoutModel",
      "state": {
       "order": "-1",
       "overflow": "visible",
       "padding": "1px",
       "width": "0px"
      }
     },
     "0c904fe7edb844fe92695ae6dde22349": {
      "model_module": "@jupyter-widgets/controls",
      "model_module_version": "1.5.0",
      "model_name": "LabelModel",
      "state": {
       "layout": "IPY_MODEL_8232b6d5d5a14ed78d5bfc0397609150",
       "style": "IPY_MODEL_3e9c60cd9f734cc08ac1fa76ca480056",
       "value": "   objective"
      }
     },
     "0c97bdb5b9ba48dba39e0627e3db14cc": {
      "model_module": "@jupyter-widgets/base",
      "model_module_version": "1.2.0",
      "model_name": "LayoutModel",
      "state": {
       "order": "-1",
       "overflow": "visible",
       "padding": "1px",
       "width": "0px"
      }
     },
     "0cb2c2743eaa4f28b8bd1dc462745289": {
      "model_module": "@jupyter-widgets/controls",
      "model_module_version": "1.5.0",
      "model_name": "ButtonModel",
      "state": {
       "description": "EDIT",
       "layout": "IPY_MODEL_9b51f78a7de84788ace5ef2a13d2ef33",
       "style": "IPY_MODEL_ef058327a08d4f3fa12b09b04a514121"
      }
     },
     "0cb7edec8d7b44e8bdbcf614ce053a84": {
      "model_module": "@jupyter-widgets/controls",
      "model_module_version": "1.5.0",
      "model_name": "ButtonModel",
      "state": {
       "description": "EDIT",
       "layout": "IPY_MODEL_2b4b8442e9b24509b7652b796b78f175",
       "style": "IPY_MODEL_1bd06af200864526bdd29ebbd3ecacd0"
      }
     },
     "0cbc7137ba8a4694a5c4477ac435ccd8": {
      "model_module": "@jupyter-widgets/controls",
      "model_module_version": "1.5.0",
      "model_name": "HBoxModel",
      "state": {
       "children": [
        "IPY_MODEL_d5b7e45742b74e499f79b5ecc822aa04",
        "IPY_MODEL_b7c73e96a76140b2b5ccf5b6cd936e2d",
        "IPY_MODEL_fb6db6f455e8410eb5fdc964d7900f61",
        "IPY_MODEL_56536af189cc45699ccf833b201fba19"
       ],
       "layout": "IPY_MODEL_09b09a292ba04387a51f4d95937e5f11"
      }
     },
     "0cbc766988ea40568306f2b11b5f03ba": {
      "model_module": "@jupyter-widgets/controls",
      "model_module_version": "1.5.0",
      "model_name": "ButtonModel",
      "state": {
       "description": "EDIT",
       "layout": "IPY_MODEL_078c3d35ebe0427680c7416ac066812f",
       "style": "IPY_MODEL_db529bccb6c8464b91b48794c80fbd0d"
      }
     },
     "0cd1ae7df46b487abd067b006f2e98a3": {
      "model_module": "@jupyter-widgets/controls",
      "model_module_version": "1.5.0",
      "model_name": "ButtonModel",
      "state": {
       "description": "EDIT",
       "layout": "IPY_MODEL_a91b8aa66cf149fcb2d159c27187188d",
       "style": "IPY_MODEL_f97a41658e6348d8b7c7724584f08f96"
      }
     },
     "0cf4c49875d64450a3481046f72659ed": {
      "model_module": "@jupyter-widgets/base",
      "model_module_version": "1.2.0",
      "model_name": "LayoutModel",
      "state": {}
     },
     "0d19c67c505b4cbca91a32ba26678278": {
      "model_module": "@jupyter-widgets/controls",
      "model_module_version": "1.5.0",
      "model_name": "ButtonModel",
      "state": {
       "layout": "IPY_MODEL_ab4e1a808d01459294dcc0ec92bcc00d",
       "style": "IPY_MODEL_082dd6f6b71c4c0386914618d11cdb05"
      }
     },
     "0d1ea37e614d45eb8cf3328dd3ceec2e": {
      "model_module": "@jupyter-widgets/base",
      "model_module_version": "1.2.0",
      "model_name": "LayoutModel",
      "state": {
       "width": "60px"
      }
     },
     "0d2ed3b5450444cdabaa87ce08f80bdd": {
      "model_module": "@jupyter-widgets/base",
      "model_module_version": "1.2.0",
      "model_name": "LayoutModel",
      "state": {
       "height": "32px",
       "overflow": "visible",
       "width": "100%"
      }
     },
     "0d4b42e161f04d66bd8287028d33fb00": {
      "model_module": "@jupyter-widgets/base",
      "model_module_version": "1.2.0",
      "model_name": "LayoutModel",
      "state": {
       "height": "32px",
       "order": "-2",
       "width": "32px"
      }
     },
     "0d6f86d6c26d4930942dc1894c6e7b56": {
      "model_module": "@jupyter-widgets/base",
      "model_module_version": "1.2.0",
      "model_name": "LayoutModel",
      "state": {
       "height": "32px",
       "order": "-2",
       "width": "32px"
      }
     },
     "0d8699854cdf488b9c98da9eb8c71f19": {
      "model_module": "@jupyter-widgets/controls",
      "model_module_version": "1.5.0",
      "model_name": "IntProgressModel",
      "state": {
       "layout": "IPY_MODEL_59c6154c8c544458b553d5a5d727256f",
       "style": "IPY_MODEL_b39db62fffa24832947888b119e0ff59",
       "value": 30
      }
     },
     "0da1612d94f142aab70ca751f044b06a": {
      "model_module": "@jupyter-widgets/controls",
      "model_module_version": "1.5.0",
      "model_name": "ProgressStyleModel",
      "state": {
       "description_width": ""
      }
     },
     "0de104747dd94e2bb946e19640ef41b2": {
      "model_module": "@jupyter-widgets/base",
      "model_module_version": "1.2.0",
      "model_name": "LayoutModel",
      "state": {
       "height": "32px",
       "overflow": "visible",
       "width": "100%"
      }
     },
     "0de7399737f747c2b45f9157ee578896": {
      "model_module": "@jupyter-widgets/base",
      "model_module_version": "1.2.0",
      "model_name": "LayoutModel",
      "state": {
       "height": "32px",
       "order": "-2",
       "width": "32px"
      }
     },
     "0e00144c3ccb41e1b0f55b1657a90391": {
      "model_module": "@jupyter-widgets/base",
      "model_module_version": "1.2.0",
      "model_name": "LayoutModel",
      "state": {}
     },
     "0e202d6f8ba043d1a0ec0fe3c38a3ac1": {
      "model_module": "@jupyter-widgets/base",
      "model_module_version": "1.2.0",
      "model_name": "LayoutModel",
      "state": {
       "height": "32px",
       "overflow": "visible",
       "width": "100%"
      }
     },
     "0e442371ebd14b3990b09eeeb01ef380": {
      "model_module": "@jupyter-widgets/base",
      "model_module_version": "1.2.0",
      "model_name": "LayoutModel",
      "state": {
       "height": "32px",
       "order": "-2",
       "width": "32px"
      }
     },
     "0e46ef14485b42e6b2e0b4e730455a16": {
      "model_module": "@jupyter-widgets/base",
      "model_module_version": "1.2.0",
      "model_name": "LayoutModel",
      "state": {
       "order": "-1",
       "overflow": "visible",
       "padding": "1px",
       "width": "0px"
      }
     },
     "0e5276a3b02248b2897009ac49b0461b": {
      "model_module": "@jupyter-widgets/controls",
      "model_module_version": "1.5.0",
      "model_name": "DropdownModel",
      "state": {
       "_options_labels": [
        "Any"
       ],
       "disabled": true,
       "index": 0,
       "layout": "IPY_MODEL_27de6b728bae49b0a4b2fdd732570aae",
       "style": "IPY_MODEL_40f1ede7bc214a00a3c62ce7c78bae80"
      }
     },
     "0e5cae358cd64452af3d05e77df8568d": {
      "model_module": "@jupyter-widgets/base",
      "model_module_version": "1.2.0",
      "model_name": "LayoutModel",
      "state": {
       "order": "-1",
       "overflow": "visible",
       "padding": "1px",
       "width": "0px"
      }
     },
     "0e7738a92a734e7b876ead803e39a35d": {
      "model_module": "@jupyter-widgets/base",
      "model_module_version": "1.2.0",
      "model_name": "LayoutModel",
      "state": {}
     },
     "0e88845d4e40412c96002d8741b6bebd": {
      "model_module": "@jupyter-widgets/controls",
      "model_module_version": "1.5.0",
      "model_name": "ProgressStyleModel",
      "state": {
       "description_width": ""
      }
     },
     "0e8b295be0b0445d810403491aed889e": {
      "model_module": "@jupyter-widgets/controls",
      "model_module_version": "1.5.0",
      "model_name": "DescriptionStyleModel",
      "state": {
       "description_width": ""
      }
     },
     "0e90b0c1855a46a380f3ec74722707b7": {
      "model_module": "@jupyter-widgets/controls",
      "model_module_version": "1.5.0",
      "model_name": "HBoxModel",
      "state": {
       "children": [
        "IPY_MODEL_9276f4d654ea43d88e28b66dfa0dddbe",
        "IPY_MODEL_f8085c9ab4964adc949371e8144ffd21",
        "IPY_MODEL_9097970f1d294bf09743b60452de93a2",
        "IPY_MODEL_79215f04651a498bb4e5e6bd767093f1"
       ],
       "layout": "IPY_MODEL_93d0a21662504e56ad30d274fdcd3902"
      }
     },
     "0ec02ea18e92444584be63ae91b8b248": {
      "model_module": "@jupyter-widgets/base",
      "model_module_version": "1.2.0",
      "model_name": "LayoutModel",
      "state": {
       "overflow": "visible",
       "width": "100%"
      }
     },
     "0ec19d59e1694fdf87ac64924e9d7729": {
      "model_module": "@jupyter-widgets/controls",
      "model_module_version": "1.5.0",
      "model_name": "DescriptionStyleModel",
      "state": {
       "description_width": ""
      }
     },
     "0ed8868ee4234a7c92146c685d6d6b92": {
      "model_module": "@jupyter-widgets/base",
      "model_module_version": "1.2.0",
      "model_name": "LayoutModel",
      "state": {}
     },
     "0edec2aede424be3bb5f05f1150cd3e4": {
      "model_module": "@jupyter-widgets/base",
      "model_module_version": "1.2.0",
      "model_name": "LayoutModel",
      "state": {
       "display": "flex",
       "flex_flow": "row wrap"
      }
     },
     "0ef29b5165c4465e8ad99695ef4bc844": {
      "model_module": "@jupyter-widgets/controls",
      "model_module_version": "1.5.0",
      "model_name": "ButtonStyleModel",
      "state": {}
     },
     "0ef43c10b33d4e089145046d6b0ba49e": {
      "model_module": "@jupyter-widgets/controls",
      "model_module_version": "1.5.0",
      "model_name": "ButtonModel",
      "state": {
       "layout": "IPY_MODEL_d695cd94e2434e16af416a1cba6a5820",
       "style": "IPY_MODEL_60176e84dd0c4ccc86c309907ee7a2a4"
      }
     },
     "0efa3e8f7e3349eb8121d368700326b8": {
      "model_module": "@jupyter-widgets/base",
      "model_module_version": "1.2.0",
      "model_name": "LayoutModel",
      "state": {}
     },
     "0f27c702762445d7a57e2f2fadfc33f1": {
      "model_module": "@jupyter-widgets/controls",
      "model_module_version": "1.5.0",
      "model_name": "LabelModel",
      "state": {
       "layout": "IPY_MODEL_ca4b4cc0b3c246b9baeb89a33d1f0393",
       "style": "IPY_MODEL_fcc758769caa48c495a90b566cc952b3",
       "value": "   objective"
      }
     },
     "0f3b6a31356a4f72ba1e71dfd99f2a5d": {
      "model_module": "@jupyter-widgets/base",
      "model_module_version": "1.2.0",
      "model_name": "LayoutModel",
      "state": {
       "height": "32px",
       "order": "-2",
       "width": "32px"
      }
     },
     "0f3edbbd14174f2eb8f538c7de318b71": {
      "model_module": "@jupyter-widgets/controls",
      "model_module_version": "1.5.0",
      "model_name": "DescriptionStyleModel",
      "state": {
       "description_width": ""
      }
     },
     "0f5284bf03bc471cab50f0211711556d": {
      "model_module": "@jupyter-widgets/controls",
      "model_module_version": "1.5.0",
      "model_name": "LabelModel",
      "state": {
       "layout": "IPY_MODEL_ac52fe7153dc47058e6c684125bbd93a",
       "style": "IPY_MODEL_49acb08adae34911bc79a0c7360054a9",
       "value": "   objective"
      }
     },
     "0f935cf6556545cba5a2ca156372f4e9": {
      "model_module": "@jupyter-widgets/base",
      "model_module_version": "1.2.0",
      "model_name": "LayoutModel",
      "state": {}
     },
     "0fabc6d2ed314d599ca17981c2395d07": {
      "model_module": "@jupyter-widgets/controls",
      "model_module_version": "1.5.0",
      "model_name": "ButtonStyleModel",
      "state": {}
     },
     "0fb4835e53c64f71a9ab6dd8220fe49a": {
      "model_module": "@jupyter-widgets/controls",
      "model_module_version": "1.5.0",
      "model_name": "HTMLModel",
      "state": {
       "layout": "IPY_MODEL_2c7f7eee1950428ebbec808be8cc7232",
       "style": "IPY_MODEL_7754820bccb64526848f426dc2a02669",
       "value": "<font size=\"1\">Path/Path/Path/Path/</font size>"
      }
     },
     "0fcf81429c7140cb9a57b802d8089466": {
      "model_module": "@jupyter-widgets/base",
      "model_module_version": "1.2.0",
      "model_name": "LayoutModel",
      "state": {
       "border": "3px solid white",
       "flex": "1 1 0%",
       "margin": "10px",
       "min_width": "400px",
       "overflow": "visible",
       "padding": "10px",
       "width": "auto"
      }
     },
     "0fdf13e312674eabb277af6ea0d61ec5": {
      "model_module": "@jupyter-widgets/controls",
      "model_module_version": "1.5.0",
      "model_name": "ButtonStyleModel",
      "state": {}
     },
     "0feb903cb73f48918b1c4a6021a25fe6": {
      "model_module": "@jupyter-widgets/controls",
      "model_module_version": "1.5.0",
      "model_name": "IntProgressModel",
      "state": {
       "layout": "IPY_MODEL_f6a746cec91148cbadebb485e442e77e",
       "style": "IPY_MODEL_447639ecfd7f423e9faed6f92fad64df",
       "value": 30
      }
     },
     "0ff2273ac81444499a7b41d83190d31a": {
      "model_module": "@jupyter-widgets/controls",
      "model_module_version": "1.5.0",
      "model_name": "DescriptionStyleModel",
      "state": {
       "description_width": ""
      }
     },
     "101abfe99b2646799516baefa7dd6633": {
      "model_module": "@jupyter-widgets/controls",
      "model_module_version": "1.5.0",
      "model_name": "ButtonModel",
      "state": {
       "layout": "IPY_MODEL_b049ae500d194cf59465a7988f62ee15",
       "style": "IPY_MODEL_b149a9c82c9240eba97061d8435aab98"
      }
     },
     "102aadc523f844f3818cbdbc5e00029e": {
      "model_module": "@jupyter-widgets/base",
      "model_module_version": "1.2.0",
      "model_name": "LayoutModel",
      "state": {
       "overflow": "visible",
       "width": "100%"
      }
     },
     "10502605e81f485ea12d091483f9d173": {
      "model_module": "@jupyter-widgets/controls",
      "model_module_version": "1.5.0",
      "model_name": "ButtonModel",
      "state": {
       "layout": "IPY_MODEL_7d626793213149a79fdf3f4f5a6fe6d0",
       "style": "IPY_MODEL_76a73f2b4c23428eaab552e47f240a70"
      }
     },
     "106952da208e4a488e6cfaaea087f76b": {
      "model_module": "@jupyter-widgets/controls",
      "model_module_version": "1.5.0",
      "model_name": "LabelModel",
      "state": {
       "layout": "IPY_MODEL_1216dcf2cd404435b0f8c8d16438defb",
       "style": "IPY_MODEL_949fc101beb94e64ae4d58bb6a480b44",
       "value": "   objective"
      }
     },
     "106b799bff754dccba87ea23c6c276f1": {
      "model_module": "@jupyter-widgets/controls",
      "model_module_version": "1.5.0",
      "model_name": "HBoxModel",
      "state": {
       "children": [
        "IPY_MODEL_37a4010ad62e47a5a8b31b6f60719153",
        "IPY_MODEL_a66adec19f0043cdaefe61808ccce929",
        "IPY_MODEL_e8ffee3592d74b158b11667ed62fb026",
        "IPY_MODEL_4f9bb2950c0d457ca2054e399ca7dc10"
       ],
       "layout": "IPY_MODEL_61ad88cd8a6c48809fe855989431eb0f"
      }
     },
     "106cf1eb7fda4ea1b7e2438e6e644b53": {
      "model_module": "@jupyter-widgets/base",
      "model_module_version": "1.2.0",
      "model_name": "LayoutModel",
      "state": {}
     },
     "106f521384964e7cab22d4b81953958a": {
      "model_module": "@jupyter-widgets/base",
      "model_module_version": "1.2.0",
      "model_name": "LayoutModel",
      "state": {}
     },
     "10e9f70e83664b12aed18e15a5276109": {
      "model_module": "@jupyter-widgets/base",
      "model_module_version": "1.2.0",
      "model_name": "LayoutModel",
      "state": {
       "height": "32px",
       "order": "-2",
       "width": "32px"
      }
     },
     "1106c2ba343043858bb85f07020a0c47": {
      "model_module": "@jupyter-widgets/base",
      "model_module_version": "1.2.0",
      "model_name": "LayoutModel",
      "state": {
       "height": "32px",
       "order": "-2",
       "width": "32px"
      }
     },
     "110cafad8cb94abcaad956960934dc63": {
      "model_module": "@jupyter-widgets/base",
      "model_module_version": "1.2.0",
      "model_name": "LayoutModel",
      "state": {}
     },
     "110ceba50d03428db6eb72fa1b80d403": {
      "model_module": "@jupyter-widgets/base",
      "model_module_version": "1.2.0",
      "model_name": "LayoutModel",
      "state": {}
     },
     "11346b6e7fb84d59a093802e35eaf049": {
      "model_module": "@jupyter-widgets/base",
      "model_module_version": "1.2.0",
      "model_name": "LayoutModel",
      "state": {
       "justify_items": "flex-end",
       "padding": "5px",
       "width": "200px"
      }
     },
     "1150cbe31e174fbeb83f068ae61ca29e": {
      "model_module": "@jupyter-widgets/controls",
      "model_module_version": "1.5.0",
      "model_name": "IntProgressModel",
      "state": {
       "layout": "IPY_MODEL_cb19152ea1d8404b80507eb44d96a9cb",
       "style": "IPY_MODEL_09187eacd0b245aaa1377cab4349b478",
       "value": 30
      }
     },
     "11542191d6074adb8178902028093809": {
      "model_module": "@jupyter-widgets/controls",
      "model_module_version": "1.5.0",
      "model_name": "HBoxModel",
      "state": {
       "children": [
        "IPY_MODEL_8030c07db8074917af1f5f88cdbfcfd9",
        "IPY_MODEL_58f22265ccab4d17a33bd1a434808e4a",
        "IPY_MODEL_c2124127b09a4767994da9ab704344a7",
        "IPY_MODEL_0cb2c2743eaa4f28b8bd1dc462745289"
       ],
       "layout": "IPY_MODEL_2cd3c52d10c64a92961f556a78d61e00"
      }
     },
     "116061f6e7c748d185c2e57ab43a3978": {
      "model_module": "@jupyter-widgets/base",
      "model_module_version": "1.2.0",
      "model_name": "LayoutModel",
      "state": {}
     },
     "117bd45bf56e4fcfabc2497c02b6f78e": {
      "model_module": "@jupyter-widgets/base",
      "model_module_version": "1.2.0",
      "model_name": "LayoutModel",
      "state": {
       "height": "32px",
       "order": "-2",
       "width": "32px"
      }
     },
     "1180108db0e24615a49ba1240b6772e6": {
      "model_module": "@jupyter-widgets/controls",
      "model_module_version": "1.5.0",
      "model_name": "HTMLModel",
      "state": {
       "layout": "IPY_MODEL_cff231f5a6ed4d9698458c6f448b3183",
       "style": "IPY_MODEL_f1768a9bb0ed4ac2b3495b29fd6e9a6c",
       "value": "<font size=\"1\">Path/Path/Path/Path/</font size>"
      }
     },
     "118ec29addb74f498516a5febbd9f5a1": {
      "model_module": "@jupyter-widgets/controls",
      "model_module_version": "1.5.0",
      "model_name": "HTMLModel",
      "state": {
       "layout": "IPY_MODEL_e8af72b254234da089644ded49bb773e",
       "style": "IPY_MODEL_d7979a9dc788495eab8b260b02d08644",
       "value": "<b>Gear Options</b>"
      }
     },
     "1197c7592da0422891db440b5d578fa4": {
      "model_module": "@jupyter-widgets/base",
      "model_module_version": "1.2.0",
      "model_name": "LayoutModel",
      "state": {}
     },
     "11b3a56820b042e79525bf4808f92b81": {
      "model_module": "@jupyter-widgets/controls",
      "model_module_version": "1.5.0",
      "model_name": "LabelModel",
      "state": {
       "layout": "IPY_MODEL_0e5cae358cd64452af3d05e77df8568d",
       "style": "IPY_MODEL_c00d12476a75481390c5076e2b4968d3",
       "value": "   objective"
      }
     },
     "11b6b9a87ff648579b970b4fb0b3fa95": {
      "model_module": "@jupyter-widgets/controls",
      "model_module_version": "1.5.0",
      "model_name": "VBoxModel",
      "state": {
       "children": [
        "IPY_MODEL_ff9120c91e1b4635b31c6e61f554f78c",
        "IPY_MODEL_6ce9e25e69404aecb0b89def007023ec"
       ],
       "layout": "IPY_MODEL_60c863eeaba349579ca83d1670298594"
      }
     },
     "11d13296086446bc8ba669c9c8baac5c": {
      "model_module": "@jupyter-widgets/controls",
      "model_module_version": "1.5.0",
      "model_name": "IntProgressModel",
      "state": {
       "layout": "IPY_MODEL_b6f2345f68cb4d68b5a0e77b4f84ba33",
       "style": "IPY_MODEL_4a7015c997284b02bff65429da28721f",
       "value": 30
      }
     },
     "12064908f2ea4baeb076adb947fae499": {
      "model_module": "@jupyter-widgets/base",
      "model_module_version": "1.2.0",
      "model_name": "LayoutModel",
      "state": {
       "height": "32px",
       "order": "-2",
       "width": "32px"
      }
     },
     "1208643c8b26467c9739edfc5457e0a7": {
      "model_module": "@jupyter-widgets/controls",
      "model_module_version": "1.5.0",
      "model_name": "ButtonStyleModel",
      "state": {}
     },
     "1216dcf2cd404435b0f8c8d16438defb": {
      "model_module": "@jupyter-widgets/base",
      "model_module_version": "1.2.0",
      "model_name": "LayoutModel",
      "state": {
       "order": "-1",
       "overflow": "visible",
       "padding": "1px",
       "width": "0px"
      }
     },
     "12186e07c75345f7b67ea245a951905d": {
      "model_module": "@jupyter-widgets/controls",
      "model_module_version": "1.5.0",
      "model_name": "ButtonStyleModel",
      "state": {}
     },
     "121d5c9b4d1a4de39c8baf773043c876": {
      "model_module": "@jupyter-widgets/controls",
      "model_module_version": "1.5.0",
      "model_name": "IntProgressModel",
      "state": {
       "layout": "IPY_MODEL_c6722a1f4f554176a301db46693dafca",
       "style": "IPY_MODEL_f4f2830b859c4b719db45bb55839596c",
       "value": 30
      }
     },
     "12316727e7e94812a0d07c374f52add0": {
      "model_module": "@jupyter-widgets/base",
      "model_module_version": "1.2.0",
      "model_name": "LayoutModel",
      "state": {
       "height": "32px",
       "order": "-2",
       "width": "32px"
      }
     },
     "123f50fd614f4be7b0b24e426ffff400": {
      "model_module": "@jupyter-widgets/controls",
      "model_module_version": "1.5.0",
      "model_name": "VBoxModel",
      "state": {
       "children": [
        "IPY_MODEL_2fb9943e421c41a8b6350d4d3225e857",
        "IPY_MODEL_8e3a3f4be312431cac7458a772f50b58",
        "IPY_MODEL_2436f57c08914784a1f8ce8e33e9b057",
        "IPY_MODEL_f8cc7de6380d45ae9a820fbc695240ec"
       ],
       "layout": "IPY_MODEL_cfd657fe56654e94ad2edc795199e93d"
      }
     },
     "1254fbf1387447b69b454dd12138805f": {
      "model_module": "@jupyter-widgets/controls",
      "model_module_version": "1.5.0",
      "model_name": "HBoxModel",
      "state": {
       "children": [
        "IPY_MODEL_5798bf06ba524dc2b8f7fd577a5dfd31",
        "IPY_MODEL_9a595c1973584066a3e3d72353184ba3",
        "IPY_MODEL_d63571a2247d4dbb875102d231ac0047",
        "IPY_MODEL_0cb7edec8d7b44e8bdbcf614ce053a84"
       ],
       "layout": "IPY_MODEL_1a744646f2394ed489889ff9da3606a2"
      }
     },
     "12831ed399bd43958640814d9a72f550": {
      "model_module": "@jupyter-widgets/controls",
      "model_module_version": "1.5.0",
      "model_name": "ButtonModel",
      "state": {
       "description": "EDIT",
       "layout": "IPY_MODEL_16c63f8cb5314cf8ad2098cb14c55c36",
       "style": "IPY_MODEL_565b041c26ff444e80dce08516f396c4"
      }
     },
     "12cbc1f0d44b49e4988b500627045c95": {
      "model_module": "@jupyter-widgets/base",
      "model_module_version": "1.2.0",
      "model_name": "LayoutModel",
      "state": {}
     },
     "12ceb1813611477d89e43ed2a4181fc4": {
      "model_module": "@jupyter-widgets/controls",
      "model_module_version": "1.5.0",
      "model_name": "ButtonStyleModel",
      "state": {}
     },
     "12d1b9e3316043c1a13dd3abfff997d7": {
      "model_module": "@jupyter-widgets/controls",
      "model_module_version": "1.5.0",
      "model_name": "DescriptionStyleModel",
      "state": {
       "description_width": ""
      }
     },
     "12f888c71d034f07bcb317eb92bc84bb": {
      "model_module": "@jupyter-widgets/controls",
      "model_module_version": "1.5.0",
      "model_name": "ProgressStyleModel",
      "state": {
       "description_width": ""
      }
     },
     "12fbd01363c647df9ca9b61fb897a952": {
      "model_module": "@jupyter-widgets/controls",
      "model_module_version": "1.5.0",
      "model_name": "DescriptionStyleModel",
      "state": {
       "description_width": ""
      }
     },
     "1307805817c44e9f9fcd20964a62d95e": {
      "model_module": "@jupyter-widgets/controls",
      "model_module_version": "1.5.0",
      "model_name": "ProgressStyleModel",
      "state": {
       "description_width": ""
      }
     },
     "130b22d218674f86803fcb44053c30a6": {
      "model_module": "@jupyter-widgets/controls",
      "model_module_version": "1.5.0",
      "model_name": "LabelModel",
      "state": {
       "layout": "IPY_MODEL_ee2ee2f2a0814dfea5a728337b6f0d2e",
       "style": "IPY_MODEL_792b807888bd4179a60577c528bbfe30",
       "value": "   objective"
      }
     },
     "132dbe9fdc4c4cf78b878d88dd9bd452": {
      "model_module": "@jupyter-widgets/controls",
      "model_module_version": "1.5.0",
      "model_name": "ButtonStyleModel",
      "state": {}
     },
     "13521b5e00f84dc4a8195f00e5177494": {
      "model_module": "@jupyter-widgets/base",
      "model_module_version": "1.2.0",
      "model_name": "LayoutModel",
      "state": {
       "order": "-1",
       "overflow": "visible",
       "padding": "1px",
       "width": "0px"
      }
     },
     "1358de3ef81f4cb3b3341dd6458c64bc": {
      "model_module": "@jupyter-widgets/controls",
      "model_module_version": "1.5.0",
      "model_name": "IntProgressModel",
      "state": {
       "layout": "IPY_MODEL_444ae346245e4b4dafa025f44a9a8edd",
       "style": "IPY_MODEL_4897edfff3764db9b12b19374dfeb0ba",
       "value": 30
      }
     },
     "135a2880908e45afa564ed0f7c4b33f5": {
      "model_module": "@jupyter-widgets/controls",
      "model_module_version": "1.5.0",
      "model_name": "ButtonStyleModel",
      "state": {}
     },
     "1362584536d64ff982b2e9810c811045": {
      "model_module": "@jupyter-widgets/controls",
      "model_module_version": "1.5.0",
      "model_name": "LabelModel",
      "state": {
       "layout": "IPY_MODEL_61aa9ce003a7465bbb3478e28b42f302",
       "style": "IPY_MODEL_85f8434ceef5481b847acf9f5e10f0ec",
       "value": "Class:"
      }
     },
     "137ec257d52e4f8d843c6dfe945625f3": {
      "model_module": "@jupyter-widgets/controls",
      "model_module_version": "1.5.0",
      "model_name": "DescriptionStyleModel",
      "state": {
       "description_width": ""
      }
     },
     "13829c419c3345129adead1dde698ebf": {
      "model_module": "@jupyter-widgets/controls",
      "model_module_version": "1.5.0",
      "model_name": "LabelModel",
      "state": {
       "layout": "IPY_MODEL_a280c32877c24ae3af441b5e3207fe9b",
       "style": "IPY_MODEL_e99c70f942894a398aaa2c85ca21f11c",
       "value": "   objective"
      }
     },
     "138807bb466a47bd969549959540aa01": {
      "model_module": "@jupyter-widgets/base",
      "model_module_version": "1.2.0",
      "model_name": "LayoutModel",
      "state": {
       "height": "32px",
       "overflow": "visible",
       "width": "100%"
      }
     },
     "139e8f49a22848de9fc34890d6e2c941": {
      "model_module": "@jupyter-widgets/base",
      "model_module_version": "1.2.0",
      "model_name": "LayoutModel",
      "state": {
       "height": "32px",
       "order": "-2",
       "width": "32px"
      }
     },
     "139ee11382304a5c877270fa83f4fde0": {
      "model_module": "@jupyter-widgets/controls",
      "model_module_version": "1.5.0",
      "model_name": "ButtonStyleModel",
      "state": {}
     },
     "13a930de03634554b43b9adc1207c3a3": {
      "model_module": "@jupyter-widgets/base",
      "model_module_version": "1.2.0",
      "model_name": "LayoutModel",
      "state": {}
     },
     "13b54b5381504c41983f420001d1a213": {
      "model_module": "@jupyter-widgets/controls",
      "model_module_version": "1.5.0",
      "model_name": "DescriptionStyleModel",
      "state": {
       "description_width": ""
      }
     },
     "13b5d451ea804b28bba6cf4029dc73f3": {
      "model_module": "@jupyter-widgets/controls",
      "model_module_version": "1.5.0",
      "model_name": "VBoxModel",
      "state": {
       "children": [
        "IPY_MODEL_3a4c3478410c4084a536d1b898a73ba8",
        "IPY_MODEL_d84ecc388f8b4be4a2799ba2e778d888",
        "IPY_MODEL_4b92faf8005649edab27209c41185e49",
        "IPY_MODEL_d6de7498b27c4150b9bfb047f7bb5aa8",
        "IPY_MODEL_94c32b77be8743bf9cbb869c4d1a3020",
        "IPY_MODEL_70cdf5011572405a8e39d1bf5a098d8a"
       ],
       "layout": "IPY_MODEL_6507b3c8d124495fa5c5cecf38f830de"
      }
     },
     "13b60f1122924bea868701ecfe84589c": {
      "model_module": "@jupyter-widgets/base",
      "model_module_version": "1.2.0",
      "model_name": "LayoutModel",
      "state": {
       "height": "32px",
       "order": "-2",
       "width": "32px"
      }
     },
     "13d95862bd5b4495827e560e50175bd1": {
      "model_module": "@jupyter-widgets/base",
      "model_module_version": "1.2.0",
      "model_name": "LayoutModel",
      "state": {
       "height": "32px",
       "overflow": "visible",
       "width": "100%"
      }
     },
     "13e48d1b97b5457788e44d50c729a60a": {
      "model_module": "@jupyter-widgets/base",
      "model_module_version": "1.2.0",
      "model_name": "LayoutModel",
      "state": {
       "height": "32px",
       "overflow": "visible",
       "width": "100%"
      }
     },
     "13ef2408453f4174a4bde31080652d0b": {
      "model_module": "@jupyter-widgets/controls",
      "model_module_version": "1.5.0",
      "model_name": "HTMLModel",
      "state": {
       "layout": "IPY_MODEL_25481e870115499483010d89275ecfc6",
       "style": "IPY_MODEL_1c31d60886664d40971bc94d4c8c0809",
       "value": "<i>test test test test test test test test test test test test test test test test test test test test test test test test </i>"
      }
     },
     "1485abe839cf40a59fae317020d0658a": {
      "model_module": "@jupyter-widgets/base",
      "model_module_version": "1.2.0",
      "model_name": "LayoutModel",
      "state": {
       "height": "32px",
       "order": "-2",
       "width": "32px"
      }
     },
     "14fb2e119a0748cda152f1c2afcbcde1": {
      "model_module": "@jupyter-widgets/controls",
      "model_module_version": "1.5.0",
      "model_name": "LabelModel",
      "state": {
       "layout": "IPY_MODEL_b867bdff83bd4ad9af8db7e69dccf11c",
       "style": "IPY_MODEL_eefd93dfdf214976b4434984c12fed2e",
       "value": "   objective"
      }
     },
     "1541a5b1a0f3493c8850ebb34a044213": {
      "model_module": "@jupyter-widgets/base",
      "model_module_version": "1.2.0",
      "model_name": "LayoutModel",
      "state": {
       "width": "60px"
      }
     },
     "1542c80c495943e8b1bba950a5f0cbac": {
      "model_module": "@jupyter-widgets/controls",
      "model_module_version": "1.5.0",
      "model_name": "HBoxModel",
      "state": {
       "children": [
        "IPY_MODEL_b18fcd5602c7477683b56237b80497d1",
        "IPY_MODEL_0feb903cb73f48918b1c4a6021a25fe6",
        "IPY_MODEL_6ea585807b024aa9966aeee20fc6f3e0",
        "IPY_MODEL_c1e4211db7fa42c08c067ee8d068c656"
       ],
       "layout": "IPY_MODEL_cf023f376170466d9e16973d3a72a5a9"
      }
     },
     "154c5fc19e384297a4ee494c72f97c82": {
      "model_module": "@jupyter-widgets/base",
      "model_module_version": "1.2.0",
      "model_name": "LayoutModel",
      "state": {}
     },
     "155f99e6a0584ec8a9a5b609d08e224b": {
      "model_module": "@jupyter-widgets/base",
      "model_module_version": "1.2.0",
      "model_name": "LayoutModel",
      "state": {
       "height": "32px",
       "order": "-2",
       "width": "32px"
      }
     },
     "15623645a0fa43feadbc4071628d8362": {
      "model_module": "@jupyter-widgets/controls",
      "model_module_version": "1.5.0",
      "model_name": "IntProgressModel",
      "state": {
       "layout": "IPY_MODEL_e40dbb61a89b44989d90b312b327f1b4",
       "style": "IPY_MODEL_8b6fa82676324854979ea527215c6a16",
       "value": 30
      }
     },
     "157225dbbf9541578f62a843a7573ad3": {
      "model_module": "@jupyter-widgets/controls",
      "model_module_version": "1.5.0",
      "model_name": "DescriptionStyleModel",
      "state": {
       "description_width": ""
      }
     },
     "1584608f6a634800b3b74f9f77610a92": {
      "model_module": "@jupyter-widgets/base",
      "model_module_version": "1.2.0",
      "model_name": "LayoutModel",
      "state": {
       "order": "-1",
       "overflow": "visible",
       "padding": "1px",
       "width": "0px"
      }
     },
     "15890fd728c74485a08338c5129ca615": {
      "model_module": "@jupyter-widgets/controls",
      "model_module_version": "1.5.0",
      "model_name": "DescriptionStyleModel",
      "state": {
       "description_width": ""
      }
     },
     "15dc281c10ac429db293d33f2e3c19ee": {
      "model_module": "@jupyter-widgets/controls",
      "model_module_version": "1.5.0",
      "model_name": "ButtonModel",
      "state": {
       "layout": "IPY_MODEL_69a8377c94114c32b2fe8e5cce65e1f2",
       "style": "IPY_MODEL_d500b7c6fe324c1ba246fbdc44686a50"
      }
     },
     "160f265e05dd48b3b4ebd66cca147707": {
      "model_module": "@jupyter-widgets/controls",
      "model_module_version": "1.5.0",
      "model_name": "ButtonStyleModel",
      "state": {}
     },
     "163ef86869314fe28b91ef2edff5e15a": {
      "model_module": "@jupyter-widgets/controls",
      "model_module_version": "1.5.0",
      "model_name": "ButtonModel",
      "state": {
       "description": "EDIT",
       "layout": "IPY_MODEL_42897f7689624ed8bde7c06401aef70d",
       "style": "IPY_MODEL_7bec8616976f434eaf31b7f0ff822333"
      }
     },
     "1647ffca4c3d49f7bf0b88e94faf7028": {
      "model_module": "@jupyter-widgets/controls",
      "model_module_version": "1.5.0",
      "model_name": "IntProgressModel",
      "state": {
       "layout": "IPY_MODEL_e39deb9745b649588b2e8189da49cae0",
       "style": "IPY_MODEL_b0f7054c1dc84616a05a6bf4ceb948ff",
       "value": 30
      }
     },
     "16880c5e4f794da594e3058784bfb18c": {
      "model_module": "@jupyter-widgets/base",
      "model_module_version": "1.2.0",
      "model_name": "LayoutModel",
      "state": {}
     },
     "16b8341e2a5e405c92707ce72af5db49": {
      "model_module": "@jupyter-widgets/controls",
      "model_module_version": "1.5.0",
      "model_name": "DescriptionStyleModel",
      "state": {
       "description_width": ""
      }
     },
     "16c63f8cb5314cf8ad2098cb14c55c36": {
      "model_module": "@jupyter-widgets/base",
      "model_module_version": "1.2.0",
      "model_name": "LayoutModel",
      "state": {
       "width": "60px"
      }
     },
     "16d7fc11339b424499e0b9ad3414d1b0": {
      "model_module": "@jupyter-widgets/controls",
      "model_module_version": "1.5.0",
      "model_name": "VBoxModel",
      "state": {
       "children": [
        "IPY_MODEL_844f266da9d245d3874b399ca4dfb611",
        "IPY_MODEL_a5b0e8629612475aa414295bab3c3d4e",
        "IPY_MODEL_618674a3c286497e8d2c2a43139bf56d",
        "IPY_MODEL_6f119e420fde444dabc88879d2a5fc58",
        "IPY_MODEL_288653978be54cbe9ea8de1bf4b511ab",
        "IPY_MODEL_c8c1a2b858f44d3da97f1133c70e4220"
       ],
       "layout": "IPY_MODEL_2822649e94ea4c4299fafa0ea572ebf0"
      }
     },
     "170bdcfa321b4474980ac66560142e67": {
      "model_module": "@jupyter-widgets/controls",
      "model_module_version": "1.5.0",
      "model_name": "HBoxModel",
      "state": {
       "children": [
        "IPY_MODEL_3bd6dbf9bf0b4eb099f75c39d3663b57",
        "IPY_MODEL_b954bc9272d94ad6b1f8f22c41c6d75b",
        "IPY_MODEL_285fa1a697724a16bf82ba7b27e658d8",
        "IPY_MODEL_54d07227e6554852a118346c5151df8f"
       ],
       "layout": "IPY_MODEL_526fe836384340bdbd91f5af82f30984"
      }
     },
     "1720c88fff1647ae8f7fcbfbaf8591c1": {
      "model_module": "@jupyter-widgets/controls",
      "model_module_version": "1.5.0",
      "model_name": "ButtonStyleModel",
      "state": {}
     },
     "1721e88023bf48b08698f3844c5fc9bc": {
      "model_module": "@jupyter-widgets/controls",
      "model_module_version": "1.5.0",
      "model_name": "DescriptionStyleModel",
      "state": {
       "description_width": ""
      }
     },
     "17284b9594834fcd83ada1da7ed0faa8": {
      "model_module": "@jupyter-widgets/base",
      "model_module_version": "1.2.0",
      "model_name": "LayoutModel",
      "state": {}
     },
     "1744501f4adb412596a21d93fab3c162": {
      "model_module": "@jupyter-widgets/controls",
      "model_module_version": "1.5.0",
      "model_name": "LabelModel",
      "state": {
       "layout": "IPY_MODEL_6ed3c1f219344f7fb88c7e5a4f405457",
       "style": "IPY_MODEL_2fca9026759848a4808bae0adef8dad2",
       "value": "Energy Weapon:"
      }
     },
     "17655facfb80471eabdb52a641d70dd2": {
      "model_module": "@jupyter-widgets/base",
      "model_module_version": "1.2.0",
      "model_name": "LayoutModel",
      "state": {
       "order": "-1",
       "overflow": "visible",
       "padding": "1px",
       "width": "0px"
      }
     },
     "177106e57e204ec4900c60a35057d048": {
      "model_module": "@jupyter-widgets/base",
      "model_module_version": "1.2.0",
      "model_name": "LayoutModel",
      "state": {
       "order": "-1",
       "overflow": "visible",
       "padding": "1px",
       "width": "0px"
      }
     },
     "17942dc535134b9fbf1454f101e58d7f": {
      "model_module": "@jupyter-widgets/base",
      "model_module_version": "1.2.0",
      "model_name": "LayoutModel",
      "state": {
       "order": "-1",
       "overflow": "visible",
       "padding": "1px",
       "width": "0px"
      }
     },
     "179aeeae088b478a850abc46df5fa05c": {
      "model_module": "@jupyter-widgets/base",
      "model_module_version": "1.2.0",
      "model_name": "LayoutModel",
      "state": {
       "border": "3px solid white",
       "flex": "1 1 0%",
       "margin": "10px",
       "min_width": "400px",
       "overflow": "visible",
       "padding": "10px",
       "width": "auto"
      }
     },
     "17bd38f1e0e444428a52c6ab5f0b77a6": {
      "model_module": "@jupyter-widgets/base",
      "model_module_version": "1.2.0",
      "model_name": "LayoutModel",
      "state": {}
     },
     "17c6e26787f348afa49ef58478416c09": {
      "model_module": "@jupyter-widgets/controls",
      "model_module_version": "1.5.0",
      "model_name": "ButtonStyleModel",
      "state": {}
     },
     "17d009a3a39e4a6da595a9e80fc99c02": {
      "model_module": "@jupyter-widgets/controls",
      "model_module_version": "1.5.0",
      "model_name": "DescriptionStyleModel",
      "state": {
       "description_width": ""
      }
     },
     "17f7f1cffb144ababaada1f1a314dc31": {
      "model_module": "@jupyter-widgets/base",
      "model_module_version": "1.2.0",
      "model_name": "LayoutModel",
      "state": {
       "height": "32px",
       "overflow": "visible",
       "width": "100%"
      }
     },
     "180334eef0ff428e9b57245d80ea6828": {
      "model_module": "@jupyter-widgets/base",
      "model_module_version": "1.2.0",
      "model_name": "LayoutModel",
      "state": {
       "width": "60px"
      }
     },
     "181b586afe03407b911e0ec2c5aac954": {
      "model_module": "@jupyter-widgets/controls",
      "model_module_version": "1.5.0",
      "model_name": "ButtonStyleModel",
      "state": {}
     },
     "18437da0a5904875b4a9350d705ad268": {
      "model_module": "@jupyter-widgets/controls",
      "model_module_version": "1.5.0",
      "model_name": "DescriptionStyleModel",
      "state": {
       "description_width": ""
      }
     },
     "185bf8c396634212bdc3aebfcb1eb5fc": {
      "model_module": "@jupyter-widgets/base",
      "model_module_version": "1.2.0",
      "model_name": "LayoutModel",
      "state": {}
     },
     "1860f9c879bd4ccb959cf661f8cf9891": {
      "model_module": "@jupyter-widgets/base",
      "model_module_version": "1.2.0",
      "model_name": "LayoutModel",
      "state": {}
     },
     "18854a882c7443cf9f3f1e71a6f6f689": {
      "model_module": "@jupyter-widgets/base",
      "model_module_version": "1.2.0",
      "model_name": "LayoutModel",
      "state": {}
     },
     "18a8e15a189f4e1089fce2c464719cec": {
      "model_module": "@jupyter-widgets/controls",
      "model_module_version": "1.5.0",
      "model_name": "LabelModel",
      "state": {
       "layout": "IPY_MODEL_ad92498533d34287bdd17987e4ab3b51",
       "style": "IPY_MODEL_8e9f0a155b0649f7a04676313a4c6e80",
       "value": "   objective"
      }
     },
     "18ce4606e6c44e8fa604fe0da5db5567": {
      "model_module": "@jupyter-widgets/controls",
      "model_module_version": "1.5.0",
      "model_name": "LabelModel",
      "state": {
       "layout": "IPY_MODEL_1584608f6a634800b3b74f9f77610a92",
       "style": "IPY_MODEL_1eea744b888b43189fda1a9f29d51299",
       "value": "   objective"
      }
     },
     "18ece7dd37d543a6b267835ba746b130": {
      "model_module": "@jupyter-widgets/controls",
      "model_module_version": "1.5.0",
      "model_name": "ButtonStyleModel",
      "state": {}
     },
     "18f170f9d38f46fbb99f2fabd355e352": {
      "model_module": "@jupyter-widgets/base",
      "model_module_version": "1.2.0",
      "model_name": "LayoutModel",
      "state": {}
     },
     "18f6b4517ab841a3ad1da1b21a56aadc": {
      "model_module": "@jupyter-widgets/controls",
      "model_module_version": "1.5.0",
      "model_name": "ButtonStyleModel",
      "state": {}
     },
     "18fc6970cd944a0b95201f2d403d4851": {
      "model_module": "@jupyter-widgets/base",
      "model_module_version": "1.2.0",
      "model_name": "LayoutModel",
      "state": {}
     },
     "19094401cb7d44c2bda6863da04c5f3e": {
      "model_module": "@jupyter-widgets/base",
      "model_module_version": "1.2.0",
      "model_name": "LayoutModel",
      "state": {
       "order": "-1",
       "overflow": "visible",
       "padding": "1px",
       "width": "0px"
      }
     },
     "190c06c1f9614bbfb529638b72b56952": {
      "model_module": "@jupyter-widgets/controls",
      "model_module_version": "1.5.0",
      "model_name": "ProgressStyleModel",
      "state": {
       "description_width": ""
      }
     },
     "191737fb35564d0dba50d5b7ad8d9ba6": {
      "model_module": "@jupyter-widgets/controls",
      "model_module_version": "1.5.0",
      "model_name": "ButtonModel",
      "state": {
       "layout": "IPY_MODEL_13b60f1122924bea868701ecfe84589c",
       "style": "IPY_MODEL_0430c12dcdc845fb9ffc8aaa70ba0dff"
      }
     },
     "19305bc970c04305a927ee0a7eafcdc7": {
      "model_module": "@jupyter-widgets/controls",
      "model_module_version": "1.5.0",
      "model_name": "LabelModel",
      "state": {
       "layout": "IPY_MODEL_fce3535aae3a48a2963a29e2b19e97d0",
       "style": "IPY_MODEL_3b3669ed9e21481f9579d6d75eb62b22",
       "value": "   objective"
      }
     },
     "19314a9df5be4c9fa474e27fee710734": {
      "model_module": "@jupyter-widgets/controls",
      "model_module_version": "1.5.0",
      "model_name": "ButtonStyleModel",
      "state": {}
     },
     "195c65b5a2d24302a0a384b7675dcc76": {
      "model_module": "@jupyter-widgets/controls",
      "model_module_version": "1.5.0",
      "model_name": "ButtonModel",
      "state": {
       "layout": "IPY_MODEL_139e8f49a22848de9fc34890d6e2c941",
       "style": "IPY_MODEL_5ee6b1e09e2843b1b971d285f9817586"
      }
     },
     "1972915a9f004df4826d0182e50ae19b": {
      "model_module": "@jupyter-widgets/controls",
      "model_module_version": "1.5.0",
      "model_name": "HBoxModel",
      "state": {
       "children": [
        "IPY_MODEL_a634c09b69434beb9dcfb8124c6a96b1",
        "IPY_MODEL_67ab565bfd134af1a37c005a6140d3e7",
        "IPY_MODEL_d123191ba9b442a9b80c4ff57d242b5a",
        "IPY_MODEL_5781a63a109c493d832fe52fe5ac3f80"
       ],
       "layout": "IPY_MODEL_7296a1de92fd46dc9e14d6c5da27a895"
      }
     },
     "19822fff28354f60a43b43efb2a87632": {
      "model_module": "@jupyter-widgets/base",
      "model_module_version": "1.2.0",
      "model_name": "LayoutModel",
      "state": {
       "height": "32px",
       "order": "-2",
       "width": "32px"
      }
     },
     "19ca1e8a77ba49e38d1b01a6f467130f": {
      "model_module": "@jupyter-widgets/controls",
      "model_module_version": "1.5.0",
      "model_name": "ButtonModel",
      "state": {
       "layout": "IPY_MODEL_99539d8945ce4eedbda1d54dc771b007",
       "style": "IPY_MODEL_63f363f396004db4b03a073aa777ccf4"
      }
     },
     "19d006b8f8ff48b1a1e240d5168254f9": {
      "model_module": "@jupyter-widgets/controls",
      "model_module_version": "1.5.0",
      "model_name": "DescriptionStyleModel",
      "state": {
       "description_width": ""
      }
     },
     "19d65758ca5c4f4e81e146fa8e37fce8": {
      "model_module": "@jupyter-widgets/base",
      "model_module_version": "1.2.0",
      "model_name": "LayoutModel",
      "state": {
       "width": "60px"
      }
     },
     "19e4601587b34b028651c2657ae49905": {
      "model_module": "@jupyter-widgets/controls",
      "model_module_version": "1.5.0",
      "model_name": "LabelModel",
      "state": {
       "layout": "IPY_MODEL_bce01f2cfa7b44c18daf3228c12fcc71",
       "style": "IPY_MODEL_0ec19d59e1694fdf87ac64924e9d7729",
       "value": "   objective"
      }
     },
     "19ed7c9edb084a9b909c6ee9f4bf0e6f": {
      "model_module": "@jupyter-widgets/base",
      "model_module_version": "1.2.0",
      "model_name": "LayoutModel",
      "state": {
       "height": "32px",
       "overflow": "visible",
       "width": "100%"
      }
     },
     "19fe657ef1cb43fdb879dad735bb0a32": {
      "model_module": "@jupyter-widgets/controls",
      "model_module_version": "1.5.0",
      "model_name": "DescriptionStyleModel",
      "state": {
       "description_width": ""
      }
     },
     "1a0f07745c514718a813e6456ea30911": {
      "model_module": "@jupyter-widgets/base",
      "model_module_version": "1.2.0",
      "model_name": "LayoutModel",
      "state": {
       "border": "3px solid white",
       "flex": "1 1 0%",
       "margin": "10px",
       "min_width": "400px",
       "overflow": "visible",
       "padding": "10px",
       "width": "auto"
      }
     },
     "1a202e54e38145a08bd527439b188de5": {
      "model_module": "@jupyter-widgets/controls",
      "model_module_version": "1.5.0",
      "model_name": "ButtonModel",
      "state": {
       "layout": "IPY_MODEL_c6e6fb3d2e8244cc9f96d7c03092b49e",
       "style": "IPY_MODEL_a1015c25602649f7b6f699f9c18db14c"
      }
     },
     "1a687d002a9c4babab82663ee1386754": {
      "model_module": "@jupyter-widgets/base",
      "model_module_version": "1.2.0",
      "model_name": "LayoutModel",
      "state": {
       "height": "32px",
       "overflow": "visible",
       "width": "100%"
      }
     },
     "1a744646f2394ed489889ff9da3606a2": {
      "model_module": "@jupyter-widgets/base",
      "model_module_version": "1.2.0",
      "model_name": "LayoutModel",
      "state": {}
     },
     "1a765372f03242e7b17378b2179b07dd": {
      "model_module": "@jupyter-widgets/base",
      "model_module_version": "1.2.0",
      "model_name": "LayoutModel",
      "state": {
       "order": "-1",
       "overflow": "visible",
       "padding": "1px",
       "width": "0px"
      }
     },
     "1a8277cdbbee42eab2bf21e9319d433e": {
      "model_module": "@jupyter-widgets/base",
      "model_module_version": "1.2.0",
      "model_name": "LayoutModel",
      "state": {}
     },
     "1a8427efee864406917e4a002c51c886": {
      "model_module": "@jupyter-widgets/controls",
      "model_module_version": "1.5.0",
      "model_name": "ButtonModel",
      "state": {
       "layout": "IPY_MODEL_001d204cde8a4ab3925be9754a1d5e23",
       "style": "IPY_MODEL_7549a95b1aa84a79b9472f483ae17466"
      }
     },
     "1a89327ecff44dc0a93905e68bb1f3a4": {
      "model_module": "@jupyter-widgets/controls",
      "model_module_version": "1.5.0",
      "model_name": "ButtonModel",
      "state": {
       "layout": "IPY_MODEL_dfc91f1ae70647a597375f061986cf33",
       "style": "IPY_MODEL_94e054a392e7498d8eb3ab4469c24e47"
      }
     },
     "1a96dda53a564526a34dce95b9249889": {
      "model_module": "@jupyter-widgets/base",
      "model_module_version": "1.2.0",
      "model_name": "LayoutModel",
      "state": {}
     },
     "1a99b637a237479e91bc6959507c5c8f": {
      "model_module": "@jupyter-widgets/controls",
      "model_module_version": "1.5.0",
      "model_name": "HTMLModel",
      "state": {
       "layout": "IPY_MODEL_c5a45838fa034e8b91a0cf34eb491460",
       "style": "IPY_MODEL_46ca7d0c9eec4c84bd6a787a433cad5e",
       "value": "<i>test test test test test test test test test test test test test test test test test test test test test test test test </i>"
      }
     },
     "1a9a6b1f4421449bab6fd45b964bca99": {
      "model_module": "@jupyter-widgets/controls",
      "model_module_version": "1.5.0",
      "model_name": "ButtonStyleModel",
      "state": {}
     },
     "1ac5b1f0630b420cafee69ba05ef9b20": {
      "model_module": "@jupyter-widgets/base",
      "model_module_version": "1.2.0",
      "model_name": "LayoutModel",
      "state": {
       "width": "60px"
      }
     },
     "1ad5eef895464a6e93e9918da74cc9f6": {
      "model_module": "@jupyter-widgets/base",
      "model_module_version": "1.2.0",
      "model_name": "LayoutModel",
      "state": {
       "display": "flex",
       "flex_flow": "row wrap"
      }
     },
     "1ad786889574454bad2b162d2aa566d0": {
      "model_module": "@jupyter-widgets/base",
      "model_module_version": "1.2.0",
      "model_name": "LayoutModel",
      "state": {}
     },
     "1adbd962f29343a2b40c9f8ba4e5b876": {
      "model_module": "@jupyter-widgets/base",
      "model_module_version": "1.2.0",
      "model_name": "LayoutModel",
      "state": {
       "width": "60px"
      }
     },
     "1adf554089e445fe8a681bc3e2dbb937": {
      "model_module": "@jupyter-widgets/controls",
      "model_module_version": "1.5.0",
      "model_name": "ButtonModel",
      "state": {
       "description": "EDIT",
       "layout": "IPY_MODEL_0992f808f61a43ad86b4610d5128ca1a",
       "style": "IPY_MODEL_3d1a7a21918c4dc3bf4e5e49d4f446a8"
      }
     },
     "1aee3c87086b49babd83066f99da9134": {
      "model_module": "@jupyter-widgets/base",
      "model_module_version": "1.2.0",
      "model_name": "LayoutModel",
      "state": {}
     },
     "1afd05699ae94b688fe384edb2c3178a": {
      "model_module": "@jupyter-widgets/base",
      "model_module_version": "1.2.0",
      "model_name": "LayoutModel",
      "state": {
       "height": "32px",
       "overflow": "visible",
       "width": "100%"
      }
     },
     "1b27f0de692e4a038216a98e56432b2e": {
      "model_module": "@jupyter-widgets/base",
      "model_module_version": "1.2.0",
      "model_name": "LayoutModel",
      "state": {}
     },
     "1b2b300a41b84313aab0e83e14e0c968": {
      "model_module": "@jupyter-widgets/base",
      "model_module_version": "1.2.0",
      "model_name": "LayoutModel",
      "state": {}
     },
     "1b3894523adf466aa4a75a1ffe6b13ac": {
      "model_module": "@jupyter-widgets/controls",
      "model_module_version": "1.5.0",
      "model_name": "LabelModel",
      "state": {
       "layout": "IPY_MODEL_bdb6ce4286a646978152f8a5e037def4",
       "style": "IPY_MODEL_18437da0a5904875b4a9350d705ad268",
       "value": "   objective"
      }
     },
     "1b3f0cb685704a0e8451f7b6a8cf680d": {
      "model_module": "@jupyter-widgets/controls",
      "model_module_version": "1.5.0",
      "model_name": "ProgressStyleModel",
      "state": {
       "description_width": ""
      }
     },
     "1b43e2e2c79442c89d29d11706dab6c6": {
      "model_module": "@jupyter-widgets/controls",
      "model_module_version": "1.5.0",
      "model_name": "LabelModel",
      "state": {
       "layout": "IPY_MODEL_3d6b05d8835f40319141d029ea9c1f35",
       "style": "IPY_MODEL_d3332bcd9e114e08b439829963674f7a",
       "value": "   objective"
      }
     },
     "1b5a0f49ac86465fabd92acc74e8934a": {
      "model_module": "@jupyter-widgets/base",
      "model_module_version": "1.2.0",
      "model_name": "LayoutModel",
      "state": {
       "height": "32px",
       "order": "-2",
       "width": "32px"
      }
     },
     "1b64bc6fd8ee4efd8abd04ce82401d3f": {
      "model_module": "@jupyter-widgets/controls",
      "model_module_version": "1.5.0",
      "model_name": "LabelModel",
      "state": {
       "layout": "IPY_MODEL_675eb332a85745a38807f49f16733664",
       "style": "IPY_MODEL_204b2882151f412cbebe086cac88d438",
       "value": "   objective"
      }
     },
     "1bad4729ab8448abbaf0bbf5bf8a2b79": {
      "model_module": "@jupyter-widgets/base",
      "model_module_version": "1.2.0",
      "model_name": "LayoutModel",
      "state": {}
     },
     "1bb45cb8c7664d8aa29e0214df7a2d3c": {
      "model_module": "@jupyter-widgets/base",
      "model_module_version": "1.2.0",
      "model_name": "LayoutModel",
      "state": {
       "height": "32px",
       "order": "-2",
       "width": "32px"
      }
     },
     "1bbff37445914999866651a4ff3738bd": {
      "model_module": "@jupyter-widgets/base",
      "model_module_version": "1.2.0",
      "model_name": "LayoutModel",
      "state": {
       "order": "-1",
       "overflow": "visible",
       "padding": "1px",
       "width": "0px"
      }
     },
     "1bcb7bcf7b6e406a8ae54936e24a61e2": {
      "model_module": "@jupyter-widgets/controls",
      "model_module_version": "1.5.0",
      "model_name": "ButtonStyleModel",
      "state": {}
     },
     "1bcf3214558b443ab1a0745bc7cbd8e4": {
      "model_module": "@jupyter-widgets/controls",
      "model_module_version": "1.5.0",
      "model_name": "VBoxModel",
      "state": {
       "children": [
        "IPY_MODEL_e67d896386f44199a573cca60b5014df",
        "IPY_MODEL_b60533afe6664a63ad0de4e450fd0eeb",
        "IPY_MODEL_64ea9943a02b45c980d6ea02e323eddc",
        "IPY_MODEL_306e83ec62234f26825798432a3fa015",
        "IPY_MODEL_4612658a310240259a4562531d6b3850",
        "IPY_MODEL_0459222773174b8987d1c397294e47ba"
       ],
       "layout": "IPY_MODEL_d9bb73500d3b456089cd24e539e3e0ca"
      }
     },
     "1bd06af200864526bdd29ebbd3ecacd0": {
      "model_module": "@jupyter-widgets/controls",
      "model_module_version": "1.5.0",
      "model_name": "ButtonStyleModel",
      "state": {}
     },
     "1be7bf0ba5624741b1a19d798d5b6b78": {
      "model_module": "@jupyter-widgets/controls",
      "model_module_version": "1.5.0",
      "model_name": "HBoxModel",
      "state": {
       "children": [
        "IPY_MODEL_f85523313f24416db6a090b209f561a5",
        "IPY_MODEL_e736f533b4414bdfa4f29c060a15f043",
        "IPY_MODEL_3494b62d7d554a3f87160d224ae9bf25",
        "IPY_MODEL_9e5be0601f8f4c6e86430ae0b894c570"
       ],
       "layout": "IPY_MODEL_73e9bba925304b709f2d1561b2879f33"
      }
     },
     "1bf3f1b9486647789459838db955cac6": {
      "model_module": "@jupyter-widgets/controls",
      "model_module_version": "1.5.0",
      "model_name": "ButtonStyleModel",
      "state": {}
     },
     "1bfafabe8b4548beb58655596656b50c": {
      "model_module": "@jupyter-widgets/controls",
      "model_module_version": "1.5.0",
      "model_name": "HBoxModel",
      "state": {
       "children": [
        "IPY_MODEL_e6b0a51f81a64c1594a08f4a063eec4b",
        "IPY_MODEL_d5ad230bd4e7428282a3cd0482cd5151",
        "IPY_MODEL_9c1ff24f8e70454d9e72ff9143e86034",
        "IPY_MODEL_deaa84d4b5a84e8f8a5e87386cb61ae9"
       ],
       "layout": "IPY_MODEL_d615b53bef1a4a7ea97168b25ca95469"
      }
     },
     "1c0417ea67714564b5b9bd48a78aa4f8": {
      "model_module": "@jupyter-widgets/controls",
      "model_module_version": "1.5.0",
      "model_name": "ButtonStyleModel",
      "state": {}
     },
     "1c0ef6ca2f1b42f586754ef9198ed09d": {
      "model_module": "@jupyter-widgets/controls",
      "model_module_version": "1.5.0",
      "model_name": "IntProgressModel",
      "state": {
       "layout": "IPY_MODEL_99b5ef084abc449d9e9d04c03e25191f",
       "style": "IPY_MODEL_3acf9c355aba40b886f289a22e5bf180",
       "value": 30
      }
     },
     "1c1c22c203bb4f83a7ac083311bb0f37": {
      "model_module": "@jupyter-widgets/controls",
      "model_module_version": "1.5.0",
      "model_name": "ButtonModel",
      "state": {
       "layout": "IPY_MODEL_1106c2ba343043858bb85f07020a0c47",
       "style": "IPY_MODEL_9166242ab287420597d6a1c5fb7b2dda"
      }
     },
     "1c31d60886664d40971bc94d4c8c0809": {
      "model_module": "@jupyter-widgets/controls",
      "model_module_version": "1.5.0",
      "model_name": "DescriptionStyleModel",
      "state": {
       "description_width": ""
      }
     },
     "1c39aa8cfe764bf886624a047ac0e49e": {
      "model_module": "@jupyter-widgets/controls",
      "model_module_version": "1.5.0",
      "model_name": "ButtonModel",
      "state": {
       "description": "EDIT",
       "layout": "IPY_MODEL_c103133e30a34a12a17152aa4b8a07fd",
       "style": "IPY_MODEL_12186e07c75345f7b67ea245a951905d"
      }
     },
     "1cb4938eddca480998f808a73cf2e984": {
      "model_module": "@jupyter-widgets/controls",
      "model_module_version": "1.5.0",
      "model_name": "DescriptionStyleModel",
      "state": {
       "description_width": ""
      }
     },
     "1cc2635fafc74e6ea6a28f318848810b": {
      "model_module": "@jupyter-widgets/base",
      "model_module_version": "1.2.0",
      "model_name": "LayoutModel",
      "state": {
       "overflow": "visible",
       "width": "100%"
      }
     },
     "1cd02ab9907c4de396502038a74942e8": {
      "model_module": "@jupyter-widgets/base",
      "model_module_version": "1.2.0",
      "model_name": "LayoutModel",
      "state": {
       "display": "flex",
       "flex_flow": "row wrap"
      }
     },
     "1cf9401bbf6249d69dc26de3c3412abb": {
      "model_module": "@jupyter-widgets/controls",
      "model_module_version": "1.5.0",
      "model_name": "ButtonStyleModel",
      "state": {}
     },
     "1cfaa3f288274adc9a2067a57a0b1c5b": {
      "model_module": "@jupyter-widgets/controls",
      "model_module_version": "1.5.0",
      "model_name": "DescriptionStyleModel",
      "state": {
       "description_width": ""
      }
     },
     "1d0e0eb948714c96b7991174c392b827": {
      "model_module": "@jupyter-widgets/controls",
      "model_module_version": "1.5.0",
      "model_name": "ButtonModel",
      "state": {
       "layout": "IPY_MODEL_fd8391cf02924fb68850bcb2d582f7c1",
       "style": "IPY_MODEL_f912bb5d181942bb9e4460e65ac72a42"
      }
     },
     "1d1e812d3c614c2d8da9e83f1e30cce9": {
      "model_module": "@jupyter-widgets/controls",
      "model_module_version": "1.5.0",
      "model_name": "ButtonStyleModel",
      "state": {}
     },
     "1d20aa5ed11f4afd908214885c1227c4": {
      "model_module": "@jupyter-widgets/controls",
      "model_module_version": "1.5.0",
      "model_name": "ButtonModel",
      "state": {
       "description": "EDIT",
       "layout": "IPY_MODEL_d18d8d9586a746f28a2d2f83e67d82d7",
       "style": "IPY_MODEL_348e7f191bee416ea612634a31387ca6"
      }
     },
     "1d2a24a1ef3d478b94038a42c0155765": {
      "model_module": "@jupyter-widgets/controls",
      "model_module_version": "1.5.0",
      "model_name": "ButtonStyleModel",
      "state": {}
     },
     "1d33e3071377479580c55b7cabfdfc58": {
      "model_module": "@jupyter-widgets/controls",
      "model_module_version": "1.5.0",
      "model_name": "ButtonModel",
      "state": {
       "layout": "IPY_MODEL_61b215e7026942ccbef00f93d67dbbe8",
       "style": "IPY_MODEL_e580085d3c214647b8b2f611a663b2dc"
      }
     },
     "1d4353d9b7444efdacda09d5f65e3c72": {
      "model_module": "@jupyter-widgets/base",
      "model_module_version": "1.2.0",
      "model_name": "LayoutModel",
      "state": {}
     },
     "1d62919eb1e3452f891d94f268b11e05": {
      "model_module": "@jupyter-widgets/base",
      "model_module_version": "1.2.0",
      "model_name": "LayoutModel",
      "state": {
       "display": "flex",
       "flex_flow": "row wrap"
      }
     },
     "1d68c051f83348808b05c551dd6e2231": {
      "model_module": "@jupyter-widgets/base",
      "model_module_version": "1.2.0",
      "model_name": "LayoutModel",
      "state": {}
     },
     "1d9d3d6b4e084d18a4e7ebdd9f874b98": {
      "model_module": "@jupyter-widgets/base",
      "model_module_version": "1.2.0",
      "model_name": "LayoutModel",
      "state": {
       "overflow": "visible",
       "width": "100%"
      }
     },
     "1dc1b34c95554aa8bbf388ffbf4b9068": {
      "model_module": "@jupyter-widgets/controls",
      "model_module_version": "1.5.0",
      "model_name": "HBoxModel",
      "state": {
       "children": [
        "IPY_MODEL_0aaed69630644bd38e4600c091dcccd8",
        "IPY_MODEL_8c24a4f3c82c4de3b5b1475ea7abfaa7",
        "IPY_MODEL_77e1e4cae6e34277b98d65cb130d83c9",
        "IPY_MODEL_b587e74a987045dc9bca654a1c0a4d70"
       ],
       "layout": "IPY_MODEL_ef7ba19811f1444d9cf023d5be8445bb"
      }
     },
     "1dc50c7587264720b1ec0dd245371119": {
      "model_module": "@jupyter-widgets/controls",
      "model_module_version": "1.5.0",
      "model_name": "DescriptionStyleModel",
      "state": {
       "description_width": ""
      }
     },
     "1dd6c78eb05148af838d6a03010f6b22": {
      "model_module": "@jupyter-widgets/controls",
      "model_module_version": "1.5.0",
      "model_name": "HTMLModel",
      "state": {
       "layout": "IPY_MODEL_07dd4ee328e540a1bdf98d2b215ed2eb",
       "style": "IPY_MODEL_0393dc327ef74cbb9f5f78adb993dace",
       "value": "<b>Task Name</b>"
      }
     },
     "1e084a12a7a54ce9a0193b0f622e9bf1": {
      "model_module": "@jupyter-widgets/controls",
      "model_module_version": "1.5.0",
      "model_name": "ButtonStyleModel",
      "state": {}
     },
     "1e281fa242514253b327a8d60602e1be": {
      "model_module": "@jupyter-widgets/controls",
      "model_module_version": "1.5.0",
      "model_name": "ButtonModel",
      "state": {
       "description": "EDIT",
       "layout": "IPY_MODEL_2103e59471c94f37b393d3643d0107a7",
       "style": "IPY_MODEL_f76823b05252496e968a7c4aa150f0c6"
      }
     },
     "1e3d50c15f654a8996ef593dbab69436": {
      "model_module": "@jupyter-widgets/controls",
      "model_module_version": "1.5.0",
      "model_name": "ButtonModel",
      "state": {
       "description": "EDIT",
       "layout": "IPY_MODEL_f1d7d66e49534b89a40e9af3bf13fd2b",
       "style": "IPY_MODEL_7ec6a80f76dd43498151bf4ab9e7cd6a"
      }
     },
     "1e3f6d625cdb4dca813bd286aa8b290a": {
      "model_module": "@jupyter-widgets/controls",
      "model_module_version": "1.5.0",
      "model_name": "LabelModel",
      "state": {
       "layout": "IPY_MODEL_e4298f38d77b4cda948c08d7c771d873",
       "style": "IPY_MODEL_39fa15ca266c428792f1a45ab55834f2",
       "value": "   objective"
      }
     },
     "1e6002d37194493badf6235fef73b5c0": {
      "model_module": "@jupyter-widgets/controls",
      "model_module_version": "1.5.0",
      "model_name": "ButtonStyleModel",
      "state": {}
     },
     "1e7b45add1f147a4bf151226126acef7": {
      "model_module": "@jupyter-widgets/controls",
      "model_module_version": "1.5.0",
      "model_name": "ButtonStyleModel",
      "state": {}
     },
     "1e827fa60cb84975b0a4079ea3a39a7d": {
      "model_module": "@jupyter-widgets/controls",
      "model_module_version": "1.5.0",
      "model_name": "LabelModel",
      "state": {
       "layout": "IPY_MODEL_0999e82a12e146778d2e709252853f41",
       "style": "IPY_MODEL_9571adaea90247f19fcb135a8dd81dfb",
       "value": "   objective"
      }
     },
     "1e876ef3bdb64566a19f0f007144bb8c": {
      "model_module": "@jupyter-widgets/controls",
      "model_module_version": "1.5.0",
      "model_name": "ButtonModel",
      "state": {
       "description": "EDIT",
       "layout": "IPY_MODEL_a925b8e567484309821002c13c7f1f74",
       "style": "IPY_MODEL_6c5b237403754977bb025162aa1e70b9"
      }
     },
     "1e89c105a2aa4e97860615f93e6800f3": {
      "model_module": "@jupyter-widgets/base",
      "model_module_version": "1.2.0",
      "model_name": "LayoutModel",
      "state": {
       "height": "32px",
       "overflow": "visible",
       "width": "100%"
      }
     },
     "1e8a089da0714c5e9ff1f2b2e69f25c8": {
      "model_module": "@jupyter-widgets/controls",
      "model_module_version": "1.5.0",
      "model_name": "LabelModel",
      "state": {
       "layout": "IPY_MODEL_3ecd309af9904be79d8abbe1d227f15d",
       "style": "IPY_MODEL_df1a16e8359641c786e23537778b0420",
       "value": "   objective"
      }
     },
     "1ec74c0df5cf4d3abea29612bf95fd0e": {
      "model_module": "@jupyter-widgets/controls",
      "model_module_version": "1.5.0",
      "model_name": "ProgressStyleModel",
      "state": {
       "description_width": ""
      }
     },
     "1ee2fc8f523d470cbcc92bef60f5a0e8": {
      "model_module": "@jupyter-widgets/controls",
      "model_module_version": "1.5.0",
      "model_name": "LabelModel",
      "state": {
       "layout": "IPY_MODEL_aa1bdaf9dcde482f8c1b0a2359eb57b4",
       "style": "IPY_MODEL_e69d93a80d0e4145bdbcb7b6592e80d6",
       "value": "   objective"
      }
     },
     "1eea744b888b43189fda1a9f29d51299": {
      "model_module": "@jupyter-widgets/controls",
      "model_module_version": "1.5.0",
      "model_name": "DescriptionStyleModel",
      "state": {
       "description_width": ""
      }
     },
     "1f02d11b638b4f3fbfbf2fd36f8f3d77": {
      "model_module": "@jupyter-widgets/base",
      "model_module_version": "1.2.0",
      "model_name": "LayoutModel",
      "state": {}
     },
     "1f068ae898ea41c19797aabf9f23e4aa": {
      "model_module": "@jupyter-widgets/controls",
      "model_module_version": "1.5.0",
      "model_name": "LabelModel",
      "state": {
       "layout": "IPY_MODEL_07fb68f6701f494e8bdc0af49920b418",
       "style": "IPY_MODEL_adf8dfa8ae2c45b8ba19c1fbc3de93f8",
       "value": "   objective"
      }
     },
     "1f34a88fd4e84f3bbb6f1581a70d5799": {
      "model_module": "@jupyter-widgets/controls",
      "model_module_version": "1.5.0",
      "model_name": "ButtonStyleModel",
      "state": {}
     },
     "1f524502226547b8841e0e91698ed2cc": {
      "model_module": "@jupyter-widgets/controls",
      "model_module_version": "1.5.0",
      "model_name": "VBoxModel",
      "state": {
       "children": [
        "IPY_MODEL_9304d7313936402da0d7982e5b9f1ab8",
        "IPY_MODEL_853713f8630d4b5182f1f870fca90f0a",
        "IPY_MODEL_7339248a6804481f846473110722d360",
        "IPY_MODEL_ee1dc768cd864fc6958930a9f0410da4"
       ],
       "layout": "IPY_MODEL_0492baa4bc814e81bf97d3a2ba0ba255"
      }
     },
     "1f549845fd594eb888a027154aae9dba": {
      "model_module": "@jupyter-widgets/controls",
      "model_module_version": "1.5.0",
      "model_name": "VBoxModel",
      "state": {
       "children": [
        "IPY_MODEL_d055c756f9234eb2820c61a92b66d81c",
        "IPY_MODEL_9f1d7738692a4c8aa12cd0e5b3d3ddea",
        "IPY_MODEL_284b6352dfec4e109e35ff9003f2e132",
        "IPY_MODEL_521a86348afb4343a6664aa10e564b81",
        "IPY_MODEL_9b14c1ba09d6460c9b8601ada79117c5",
        "IPY_MODEL_d1741e06124c48879c7cb53bee838567"
       ],
       "layout": "IPY_MODEL_1bad4729ab8448abbaf0bbf5bf8a2b79"
      }
     },
     "1f56aae5851f46bab2f5cdb22c977a70": {
      "model_module": "@jupyter-widgets/controls",
      "model_module_version": "1.5.0",
      "model_name": "DescriptionStyleModel",
      "state": {
       "description_width": ""
      }
     },
     "1f5aecfe869a45f6840ad494a0efaf51": {
      "model_module": "@jupyter-widgets/controls",
      "model_module_version": "1.5.0",
      "model_name": "ButtonStyleModel",
      "state": {}
     },
     "1f64fc547a95439c84fb21f64fca22eb": {
      "model_module": "@jupyter-widgets/controls",
      "model_module_version": "1.5.0",
      "model_name": "ButtonModel",
      "state": {
       "description": "EDIT",
       "layout": "IPY_MODEL_5a9e8c3071f14e02987eced4a17e8c41",
       "style": "IPY_MODEL_1bf3f1b9486647789459838db955cac6"
      }
     },
     "1fa4e4ae80874c2496728f008c3877a2": {
      "model_module": "@jupyter-widgets/base",
      "model_module_version": "1.2.0",
      "model_name": "LayoutModel",
      "state": {
       "width": "60px"
      }
     },
     "1fad735927aa45a685a4d4f5b3ad2769": {
      "model_module": "@jupyter-widgets/base",
      "model_module_version": "1.2.0",
      "model_name": "LayoutModel",
      "state": {
       "height": "32px",
       "overflow": "visible",
       "width": "100%"
      }
     },
     "1fb19451f9c641db9add3cd3cb74c69b": {
      "model_module": "@jupyter-widgets/base",
      "model_module_version": "1.2.0",
      "model_name": "LayoutModel",
      "state": {}
     },
     "1fd1ffcc4add468dac23d795fe6212cc": {
      "model_module": "@jupyter-widgets/controls",
      "model_module_version": "1.5.0",
      "model_name": "HBoxModel",
      "state": {
       "children": [
        "IPY_MODEL_8003ad858a304fc7b42d7a77d9473113",
        "IPY_MODEL_9c822db4e54c41609413f093aa4b2b07",
        "IPY_MODEL_2d7e871f68824b6da2155f1b79c20dfb",
        "IPY_MODEL_f104f46226244c0e8b47a55fbac36268"
       ],
       "layout": "IPY_MODEL_0f935cf6556545cba5a2ca156372f4e9"
      }
     },
     "200dc1b2c4f24d408cc1e831b423fb77": {
      "model_module": "@jupyter-widgets/controls",
      "model_module_version": "1.5.0",
      "model_name": "ButtonModel",
      "state": {
       "description": "EDIT",
       "layout": "IPY_MODEL_977ba821bdac4e0e8aa6e38bf3354f4c",
       "style": "IPY_MODEL_73c582df8aa34128a91a36f26e44186f"
      }
     },
     "200e112b4d1145b09701d2741c1eb8f8": {
      "model_module": "@jupyter-widgets/controls",
      "model_module_version": "1.5.0",
      "model_name": "ButtonStyleModel",
      "state": {}
     },
     "204b2882151f412cbebe086cac88d438": {
      "model_module": "@jupyter-widgets/controls",
      "model_module_version": "1.5.0",
      "model_name": "DescriptionStyleModel",
      "state": {
       "description_width": ""
      }
     },
     "204c4038263d4f2a92eab67f3def981c": {
      "model_module": "@jupyter-widgets/base",
      "model_module_version": "1.2.0",
      "model_name": "LayoutModel",
      "state": {
       "width": "60px"
      }
     },
     "20785de0aac44f7aaa3dac16c61cc40f": {
      "model_module": "@jupyter-widgets/base",
      "model_module_version": "1.2.0",
      "model_name": "LayoutModel",
      "state": {}
     },
     "20811ec2bd1f4441bd299a22e69b943a": {
      "model_module": "@jupyter-widgets/controls",
      "model_module_version": "1.5.0",
      "model_name": "IntProgressModel",
      "state": {
       "layout": "IPY_MODEL_1a687d002a9c4babab82663ee1386754",
       "style": "IPY_MODEL_de88258bfb944b53a4c8673dbff9754f",
       "value": 30
      }
     },
     "209d1c34eb7d4d20ba4d47dd11f19791": {
      "model_module": "@jupyter-widgets/controls",
      "model_module_version": "1.5.0",
      "model_name": "ButtonStyleModel",
      "state": {}
     },
     "209f16237a3941428961ee2609a95f9b": {
      "model_module": "@jupyter-widgets/controls",
      "model_module_version": "1.5.0",
      "model_name": "VBoxModel",
      "state": {
       "children": [
        "IPY_MODEL_1180108db0e24615a49ba1240b6772e6",
        "IPY_MODEL_099ee212f4614c969911b8d061b48191",
        "IPY_MODEL_5b076bc1e374495dbd878f24859ae6b1",
        "IPY_MODEL_9a8bf075e404440ab978e0a157074353"
       ],
       "layout": "IPY_MODEL_268f9f69db064b77a9980f0405de8f25"
      }
     },
     "20a5f0a44e834180a52cf0a668a7c256": {
      "model_module": "@jupyter-widgets/controls",
      "model_module_version": "1.5.0",
      "model_name": "HTMLModel",
      "state": {
       "layout": "IPY_MODEL_2d2562dc02294482bce1811536eba51a",
       "style": "IPY_MODEL_b30e5a33dfeb4e37b066e231cf5b8c82",
       "value": "<b>Task Name</b>"
      }
     },
     "20aafb0c2ae142da81ee034afbda4192": {
      "model_module": "@jupyter-widgets/base",
      "model_module_version": "1.2.0",
      "model_name": "LayoutModel",
      "state": {}
     },
     "20b1bed7e06e4c729e7ebf8ea5e95b4d": {
      "model_module": "@jupyter-widgets/controls",
      "model_module_version": "1.5.0",
      "model_name": "VBoxModel",
      "state": {
       "children": [
        "IPY_MODEL_29c844c39f3f4edcbd0feace31e8cce0",
        "IPY_MODEL_3f6b458ba68b4d559d7f9cac0ba8d348",
        "IPY_MODEL_9c39bd3db2954f5f90ef162ebde4a5f3",
        "IPY_MODEL_13b5d451ea804b28bba6cf4029dc73f3"
       ],
       "layout": "IPY_MODEL_320cec565414450ab0221d72159d990a"
      }
     },
     "20b2e71877c9440aa1b53abbdfcf1797": {
      "model_module": "@jupyter-widgets/base",
      "model_module_version": "1.2.0",
      "model_name": "LayoutModel",
      "state": {
       "border": "3px solid white",
       "flex": "1 1 0%",
       "margin": "10px",
       "min_width": "400px",
       "overflow": "visible",
       "padding": "10px",
       "width": "auto"
      }
     },
     "20b7a9e3d1f148059fdf35cac86f7729": {
      "model_module": "@jupyter-widgets/controls",
      "model_module_version": "1.5.0",
      "model_name": "HBoxModel",
      "state": {
       "children": [
        "IPY_MODEL_3ef01237947a4c6c87d20cab673c624d",
        "IPY_MODEL_21daaf4c6476487a8108681b77a3e683",
        "IPY_MODEL_5acd464ac4ae4ca2bbbd95fa24449131",
        "IPY_MODEL_29691f31c5384284bfbf953533d2a65b"
       ],
       "layout": "IPY_MODEL_20aafb0c2ae142da81ee034afbda4192"
      }
     },
     "20bb2fcaac7142eb8f0d0451931c0848": {
      "model_module": "@jupyter-widgets/controls",
      "model_module_version": "1.5.0",
      "model_name": "DescriptionStyleModel",
      "state": {
       "description_width": ""
      }
     },
     "20c1c3a74afa451080319aa299ea35c1": {
      "model_module": "@jupyter-widgets/base",
      "model_module_version": "1.2.0",
      "model_name": "LayoutModel",
      "state": {
       "overflow": "visible",
       "width": "100%"
      }
     },
     "20c2cc87c80d42f293b813d221c139d9": {
      "model_module": "@jupyter-widgets/controls",
      "model_module_version": "1.5.0",
      "model_name": "DescriptionStyleModel",
      "state": {
       "description_width": ""
      }
     },
     "20c32c47e1234d6698c42eb0e35fd113": {
      "model_module": "@jupyter-widgets/controls",
      "model_module_version": "1.5.0",
      "model_name": "ButtonStyleModel",
      "state": {}
     },
     "20d03a44923d4c7f87fdedd8f4581144": {
      "model_module": "@jupyter-widgets/controls",
      "model_module_version": "1.5.0",
      "model_name": "DescriptionStyleModel",
      "state": {
       "description_width": ""
      }
     },
     "20d58ff9b5f2480e9d0743ac0eaa6f0a": {
      "model_module": "@jupyter-widgets/controls",
      "model_module_version": "1.5.0",
      "model_name": "HBoxModel",
      "state": {
       "children": [
        "IPY_MODEL_b9302c2d60124e258500d60f6941e653",
        "IPY_MODEL_e0d54f3f0b184ac4bed5f4899528f8bc",
        "IPY_MODEL_2e3ae57a2fae4b4ebb8d92ff28bc35f4",
        "IPY_MODEL_5db2696218ad461793fbff7e19f2f35a"
       ],
       "layout": "IPY_MODEL_17bd38f1e0e444428a52c6ab5f0b77a6"
      }
     },
     "20f217d09afc43cfbf9cbd3a7dc982cf": {
      "model_module": "@jupyter-widgets/controls",
      "model_module_version": "1.5.0",
      "model_name": "ButtonModel",
      "state": {
       "description": "EDIT",
       "layout": "IPY_MODEL_6a312f5e434f419aaae624c2be61b4e7",
       "style": "IPY_MODEL_19314a9df5be4c9fa474e27fee710734"
      }
     },
     "20f6dcbf774042b0864da4643f059e19": {
      "model_module": "@jupyter-widgets/base",
      "model_module_version": "1.2.0",
      "model_name": "LayoutModel",
      "state": {
       "overflow": "visible",
       "width": "100%"
      }
     },
     "2103e59471c94f37b393d3643d0107a7": {
      "model_module": "@jupyter-widgets/base",
      "model_module_version": "1.2.0",
      "model_name": "LayoutModel",
      "state": {
       "width": "60px"
      }
     },
     "2106d2efcc44483ab5972a35f060ab9b": {
      "model_module": "@jupyter-widgets/controls",
      "model_module_version": "1.5.0",
      "model_name": "DescriptionStyleModel",
      "state": {
       "description_width": ""
      }
     },
     "212340accef0452293a1edc291d2786d": {
      "model_module": "@jupyter-widgets/controls",
      "model_module_version": "1.5.0",
      "model_name": "ProgressStyleModel",
      "state": {
       "description_width": ""
      }
     },
     "212f3053d0154c36badbe717b809ba07": {
      "model_module": "@jupyter-widgets/base",
      "model_module_version": "1.2.0",
      "model_name": "LayoutModel",
      "state": {
       "width": "60px"
      }
     },
     "212fab84c6dd4f3597086b8f9bb67235": {
      "model_module": "@jupyter-widgets/controls",
      "model_module_version": "1.5.0",
      "model_name": "HBoxModel",
      "state": {
       "children": [
        "IPY_MODEL_65a58841a971404c978a75604e840469",
        "IPY_MODEL_a250bf06ac154bc0b1e822f6ba3187e0",
        "IPY_MODEL_fd28f7f4d126465887bb6f9bbc9c62d1",
        "IPY_MODEL_5ebab174fc1246b59a601ca8da06a2ec"
       ],
       "layout": "IPY_MODEL_e5782eab49954e4fb5cd4703dd387ae3"
      }
     },
     "21310c4385ac4f4f91b0c7fa55042ae0": {
      "model_module": "@jupyter-widgets/controls",
      "model_module_version": "1.5.0",
      "model_name": "IntProgressModel",
      "state": {
       "layout": "IPY_MODEL_f04e56d1072c4293af1d7be4e9d277cf",
       "style": "IPY_MODEL_c9d8123635b149ffa1dc2f39a7c3337f",
       "value": 30
      }
     },
     "21378f8fc9af49948ea733b3c763658a": {
      "model_module": "@jupyter-widgets/controls",
      "model_module_version": "1.5.0",
      "model_name": "IntProgressModel",
      "state": {
       "layout": "IPY_MODEL_caef7d753c9c4035946e494000a23b31",
       "style": "IPY_MODEL_c4fefc9a0ab84d38872d42bf6a1d9283",
       "value": 30
      }
     },
     "21522710628b42de823c27f8c5a44b8f": {
      "model_module": "@jupyter-widgets/base",
      "model_module_version": "1.2.0",
      "model_name": "LayoutModel",
      "state": {}
     },
     "21611e0388264783a71bb32b0e9c0d92": {
      "model_module": "@jupyter-widgets/controls",
      "model_module_version": "1.5.0",
      "model_name": "VBoxModel",
      "state": {
       "children": [
        "IPY_MODEL_02385df397dc46d18a295e8eb8bcf43e",
        "IPY_MODEL_e1bd91aa053a42fa9d01dc344b8f5694",
        "IPY_MODEL_863c847a16a14992adb131c1a526116b",
        "IPY_MODEL_f926ebcdadea4886ad3b3d52b22e3d26"
       ],
       "layout": "IPY_MODEL_737305beef4246c781b49e5d04dcd2d3"
      }
     },
     "217e68a3c5d342bfb9b3c93e9e485eb0": {
      "model_module": "@jupyter-widgets/controls",
      "model_module_version": "1.5.0",
      "model_name": "VBoxModel",
      "state": {
       "children": [
        "IPY_MODEL_106b799bff754dccba87ea23c6c276f1",
        "IPY_MODEL_91d920471938497896549223ae39fbb3",
        "IPY_MODEL_c21938de04a44f34adc54350feca6723",
        "IPY_MODEL_276d6d0fbb59468b84f092ffdfc20de6",
        "IPY_MODEL_74c60c8dbaef4335bdee1cb990e8db74",
        "IPY_MODEL_e09cdc916b214d15a5804e6270f566ee"
       ],
       "layout": "IPY_MODEL_21522710628b42de823c27f8c5a44b8f"
      }
     },
     "21bcafac057d4184b4ce2c9eb9b1dfb0": {
      "model_module": "@jupyter-widgets/base",
      "model_module_version": "1.2.0",
      "model_name": "LayoutModel",
      "state": {
       "width": "60px"
      }
     },
     "21c23d4ca9df4b4abe462ef4426f9ce7": {
      "model_module": "@jupyter-widgets/controls",
      "model_module_version": "1.5.0",
      "model_name": "DescriptionStyleModel",
      "state": {
       "description_width": ""
      }
     },
     "21d90b3fdcd3484695303df715ca26ab": {
      "model_module": "@jupyter-widgets/controls",
      "model_module_version": "1.5.0",
      "model_name": "ButtonStyleModel",
      "state": {}
     },
     "21daaf4c6476487a8108681b77a3e683": {
      "model_module": "@jupyter-widgets/controls",
      "model_module_version": "1.5.0",
      "model_name": "IntProgressModel",
      "state": {
       "layout": "IPY_MODEL_7d986d82239d41178b36a8399a9da9ed",
       "style": "IPY_MODEL_6ab50f9928994872a02dd371f7d9bece",
       "value": 30
      }
     },
     "21e78cc6d350461eabaa0dfdf47238ff": {
      "model_module": "@jupyter-widgets/base",
      "model_module_version": "1.2.0",
      "model_name": "LayoutModel",
      "state": {
       "height": "32px",
       "overflow": "visible",
       "width": "100%"
      }
     },
     "21f3bb6b31b94fe088169fe50a08e70f": {
      "model_module": "@jupyter-widgets/controls",
      "model_module_version": "1.5.0",
      "model_name": "HTMLModel",
      "state": {
       "layout": "IPY_MODEL_04bdcea7d7f44de3820a097178dc6046",
       "style": "IPY_MODEL_19d006b8f8ff48b1a1e240d5168254f9",
       "value": "<font size=\"1\">Path/Path/Path/Path/</font size>"
      }
     },
     "221028eb063c4bd0b480a5f7e93dcc42": {
      "model_module": "@jupyter-widgets/base",
      "model_module_version": "1.2.0",
      "model_name": "LayoutModel",
      "state": {
       "width": "60px"
      }
     },
     "2215850581be459f9f40c0d30f7af1a3": {
      "model_module": "@jupyter-widgets/controls",
      "model_module_version": "1.5.0",
      "model_name": "ButtonStyleModel",
      "state": {}
     },
     "222b1f5c48b148f29a17cd18caecba40": {
      "model_module": "@jupyter-widgets/controls",
      "model_module_version": "1.5.0",
      "model_name": "ButtonStyleModel",
      "state": {}
     },
     "2233bcc9f8ec42a08d635d164809da6a": {
      "model_module": "@jupyter-widgets/base",
      "model_module_version": "1.2.0",
      "model_name": "LayoutModel",
      "state": {
       "width": "60px"
      }
     },
     "225893abead44228933379c04eed99e1": {
      "model_module": "@jupyter-widgets/controls",
      "model_module_version": "1.5.0",
      "model_name": "HBoxModel",
      "state": {
       "children": [
        "IPY_MODEL_df5c801b034a4bcc92cbceddda32001f",
        "IPY_MODEL_9977c354b0e540a0a7bb557d1fc1f67d",
        "IPY_MODEL_d90460101b8345a785237c49ac9d48b0",
        "IPY_MODEL_a5af74a6ced24550b36e3ef02991ba9a"
       ],
       "layout": "IPY_MODEL_e7697fb577c34f3fa5eb13cc86717981"
      }
     },
     "228429a2da00468aa2305490309af9fe": {
      "model_module": "@jupyter-widgets/controls",
      "model_module_version": "1.5.0",
      "model_name": "IntProgressModel",
      "state": {
       "layout": "IPY_MODEL_b9ccb4a4625b4932b100ab1ae5da3325",
       "style": "IPY_MODEL_8ed067469b394b178b16a2f56b1f36ac",
       "value": 30
      }
     },
     "2284d62291ff41ed90f63c232d9aeccd": {
      "model_module": "@jupyter-widgets/base",
      "model_module_version": "1.2.0",
      "model_name": "LayoutModel",
      "state": {
       "display": "flex",
       "flex_flow": "row wrap"
      }
     },
     "2286efb6eeb94c69bc0e905d4f944335": {
      "model_module": "@jupyter-widgets/base",
      "model_module_version": "1.2.0",
      "model_name": "LayoutModel",
      "state": {}
     },
     "228c84c5071e4f689065e5790bd03172": {
      "model_module": "@jupyter-widgets/base",
      "model_module_version": "1.2.0",
      "model_name": "LayoutModel",
      "state": {
       "overflow": "visible",
       "width": "100%"
      }
     },
     "229ac699808f4a908a1d60f137cafbcd": {
      "model_module": "@jupyter-widgets/controls",
      "model_module_version": "1.5.0",
      "model_name": "ButtonStyleModel",
      "state": {}
     },
     "22a03aba66dc46caa473b02b84681ba0": {
      "model_module": "@jupyter-widgets/controls",
      "model_module_version": "1.5.0",
      "model_name": "LabelModel",
      "state": {
       "layout": "IPY_MODEL_ab8fb6d279094cdcab2a7f1070a23660",
       "style": "IPY_MODEL_37a423d70ade4842b2d91574ab7a6b79",
       "value": "   objective"
      }
     },
     "22a3950dc03b4eb58786ca7b0e80dd12": {
      "model_module": "@jupyter-widgets/controls",
      "model_module_version": "1.5.0",
      "model_name": "LabelModel",
      "state": {
       "layout": "IPY_MODEL_711fa32fedbe4d66ae4bb4616889cabb",
       "style": "IPY_MODEL_5db93460415748dc90327783a25a1a71",
       "value": "   objective"
      }
     },
     "22bbb6628fc94d77a1de7a31faa80e0e": {
      "model_module": "@jupyter-widgets/base",
      "model_module_version": "1.2.0",
      "model_name": "LayoutModel",
      "state": {
       "display": "flex",
       "flex_flow": "row wrap"
      }
     },
     "22bda61896cf4d9bbc2723c0c632d380": {
      "model_module": "@jupyter-widgets/controls",
      "model_module_version": "1.5.0",
      "model_name": "ButtonModel",
      "state": {
       "description": "EDIT",
       "layout": "IPY_MODEL_f7c573efbb4746ae974e9f29122c2177",
       "style": "IPY_MODEL_6343f4ed89284655a79439407d81d74c"
      }
     },
     "22e301434a304e31b53f8f34ef8c8056": {
      "model_module": "@jupyter-widgets/base",
      "model_module_version": "1.2.0",
      "model_name": "LayoutModel",
      "state": {
       "height": "32px",
       "overflow": "visible",
       "width": "100%"
      }
     },
     "232eced477654a07b0daa5d567cc52d0": {
      "model_module": "@jupyter-widgets/controls",
      "model_module_version": "1.5.0",
      "model_name": "ButtonStyleModel",
      "state": {}
     },
     "2332835519a94f6b95d9471f1e684950": {
      "model_module": "@jupyter-widgets/controls",
      "model_module_version": "1.5.0",
      "model_name": "ProgressStyleModel",
      "state": {
       "description_width": ""
      }
     },
     "2336d76762644f18a601365fdd5547e1": {
      "model_module": "@jupyter-widgets/controls",
      "model_module_version": "1.5.0",
      "model_name": "ButtonModel",
      "state": {
       "layout": "IPY_MODEL_81a889dc9aa34c9b911847f77656e9da",
       "style": "IPY_MODEL_8e79f62f166340f98514860dddec9f41"
      }
     },
     "2357352cbefe4fbcad8eb1c95a583648": {
      "model_module": "@jupyter-widgets/controls",
      "model_module_version": "1.5.0",
      "model_name": "ButtonModel",
      "state": {
       "description": "EDIT",
       "layout": "IPY_MODEL_b23c50c415dc417d8482bd2207685ccb",
       "style": "IPY_MODEL_09b0f49e1d444f8da244df5db988d482"
      }
     },
     "23577833c5a143e1a7b085f3e6c02861": {
      "model_module": "@jupyter-widgets/base",
      "model_module_version": "1.2.0",
      "model_name": "LayoutModel",
      "state": {
       "order": "-1",
       "overflow": "visible",
       "padding": "1px",
       "width": "0px"
      }
     },
     "23939c2bfab84b9ea9fc46a62a6d73dc": {
      "model_module": "@jupyter-widgets/controls",
      "model_module_version": "1.5.0",
      "model_name": "HTMLModel",
      "state": {
       "layout": "IPY_MODEL_3625a21bd5cb4c589033386437d30003",
       "style": "IPY_MODEL_3944e0970dc149b59755892225871dff",
       "value": "Showing __-__ of ___"
      }
     },
     "23acb9c1c89a4777861413e7e2954bdd": {
      "model_module": "@jupyter-widgets/controls",
      "model_module_version": "1.5.0",
      "model_name": "DropdownModel",
      "state": {
       "_options_labels": [
        "Any",
        "Machine Gun",
        "Sword",
        "Grenade Launcher",
        "Rocket Launcher",
        "Linear Fusion Rifle"
       ],
       "index": 0,
       "layout": "IPY_MODEL_56b87d7d00c54e96938caab1e6aa41f1",
       "style": "IPY_MODEL_9b574b2d6d87472fa9ba14593a99adf5"
      }
     },
     "23b8cb4d05214183a3b977541bc3ff39": {
      "model_module": "@jupyter-widgets/base",
      "model_module_version": "1.2.0",
      "model_name": "LayoutModel",
      "state": {
       "height": "32px",
       "overflow": "visible",
       "width": "100%"
      }
     },
     "23bb5a2cdde144f282c437078359cc2c": {
      "model_module": "@jupyter-widgets/controls",
      "model_module_version": "1.5.0",
      "model_name": "DescriptionStyleModel",
      "state": {
       "description_width": ""
      }
     },
     "23d44e9f4ed84c7d802b46e8150903ee": {
      "model_module": "@jupyter-widgets/base",
      "model_module_version": "1.2.0",
      "model_name": "LayoutModel",
      "state": {
       "overflow": "visible",
       "width": "100%"
      }
     },
     "23d87be5fd7c42599a50bcc4527bee02": {
      "model_module": "@jupyter-widgets/controls",
      "model_module_version": "1.5.0",
      "model_name": "HTMLModel",
      "state": {
       "layout": "IPY_MODEL_3fe1dba2d7e745f396e67de7242f0ba1",
       "style": "IPY_MODEL_2a55c40626514bbf945b1ad95997d849",
       "value": "<b>Task Name</b>"
      }
     },
     "23ec5d15d7124ed6aed8bdaa3ca3fee4": {
      "model_module": "@jupyter-widgets/controls",
      "model_module_version": "1.5.0",
      "model_name": "DescriptionStyleModel",
      "state": {
       "description_width": ""
      }
     },
     "24261f062c344b759af5094c190266d3": {
      "model_module": "@jupyter-widgets/controls",
      "model_module_version": "1.5.0",
      "model_name": "HBoxModel",
      "state": {
       "children": [
        "IPY_MODEL_7ac8a10e879a4be19c98a6d5dc7c80f3",
        "IPY_MODEL_7c9df36701494a19bc5c947f14dbc1ea",
        "IPY_MODEL_73c02a668f7f4deaaf787b2051d7e7d6",
        "IPY_MODEL_7922605223764db89fb0b6893fe2c7d3"
       ],
       "layout": "IPY_MODEL_116061f6e7c748d185c2e57ab43a3978"
      }
     },
     "2436f57c08914784a1f8ce8e33e9b057": {
      "model_module": "@jupyter-widgets/controls",
      "model_module_version": "1.5.0",
      "model_name": "HTMLModel",
      "state": {
       "layout": "IPY_MODEL_aefb41d3596641098d21996fd8c8477f",
       "style": "IPY_MODEL_556985fa29bc4f5cbadef816255f6630",
       "value": "<i>test test test test test test test test test test test test test test test test test test test test test test test test </i>"
      }
     },
     "243d04987bca41f0a7fd8f694de741be": {
      "model_module": "@jupyter-widgets/controls",
      "model_module_version": "1.5.0",
      "model_name": "ButtonModel",
      "state": {
       "description": "EDIT",
       "layout": "IPY_MODEL_49dcf835a9bd43fca0aaf9184165b1c7",
       "style": "IPY_MODEL_dc51dd30bd304804a9e02e8af4f83e1f"
      }
     },
     "244c4c5238c440b28a2f34d7cafbc037": {
      "model_module": "@jupyter-widgets/controls",
      "model_module_version": "1.5.0",
      "model_name": "DescriptionStyleModel",
      "state": {
       "description_width": ""
      }
     },
     "244ccbe4a30b4a0d877d31934b116c32": {
      "model_module": "@jupyter-widgets/base",
      "model_module_version": "1.2.0",
      "model_name": "LayoutModel",
      "state": {
       "width": "60px"
      }
     },
     "244f3fca7e0e4cc3a823e881030a7ee1": {
      "model_module": "@jupyter-widgets/controls",
      "model_module_version": "1.5.0",
      "model_name": "DescriptionStyleModel",
      "state": {
       "description_width": ""
      }
     },
     "2453ad42b85440edb0291e6e4e1e3470": {
      "model_module": "@jupyter-widgets/controls",
      "model_module_version": "1.5.0",
      "model_name": "DescriptionStyleModel",
      "state": {
       "description_width": ""
      }
     },
     "246b9d2329da4a7aba073d808e2a2c12": {
      "model_module": "@jupyter-widgets/controls",
      "model_module_version": "1.5.0",
      "model_name": "ProgressStyleModel",
      "state": {
       "description_width": ""
      }
     },
     "248c37eb10aa40358e7f54ccbecdc224": {
      "model_module": "@jupyter-widgets/base",
      "model_module_version": "1.2.0",
      "model_name": "LayoutModel",
      "state": {
       "height": "32px",
       "overflow": "visible",
       "width": "100%"
      }
     },
     "24b4ab39528c414b88657ff5f084396f": {
      "model_module": "@jupyter-widgets/base",
      "model_module_version": "1.2.0",
      "model_name": "LayoutModel",
      "state": {
       "height": "32px",
       "overflow": "visible",
       "width": "100%"
      }
     },
     "24c26a712d2a465da715b4664564b378": {
      "model_module": "@jupyter-widgets/controls",
      "model_module_version": "1.5.0",
      "model_name": "ButtonModel",
      "state": {
       "layout": "IPY_MODEL_0d6f86d6c26d4930942dc1894c6e7b56",
       "style": "IPY_MODEL_93e9edd0a11d4fa9bf322ff447d80ad1"
      }
     },
     "24d5674f321a41bfabfca54e012c1bac": {
      "model_module": "@jupyter-widgets/controls",
      "model_module_version": "1.5.0",
      "model_name": "ButtonStyleModel",
      "state": {}
     },
     "24d6484f64594f518f488e0452db97f5": {
      "model_module": "@jupyter-widgets/base",
      "model_module_version": "1.2.0",
      "model_name": "LayoutModel",
      "state": {}
     },
     "24e4390635984f8abade60defcf366bf": {
      "model_module": "@jupyter-widgets/controls",
      "model_module_version": "1.5.0",
      "model_name": "LabelModel",
      "state": {
       "layout": "IPY_MODEL_dacf932fb9694a28a5bb69f61fb46d29",
       "style": "IPY_MODEL_28f16c41ecde4a7e89ab0d56d2c29dbb",
       "value": "   objective"
      }
     },
     "24eaaaf34ce84146b1e03a2baa2ef75f": {
      "model_module": "@jupyter-widgets/controls",
      "model_module_version": "1.5.0",
      "model_name": "ButtonModel",
      "state": {
       "description": "EDIT",
       "layout": "IPY_MODEL_78a517eeb6ea4536be7458cb3b860d3a",
       "style": "IPY_MODEL_f826f2c5b1924a69abc939edf44e4fa3"
      }
     },
     "250eca00a347497994ad3b14fedc8bf3": {
      "model_module": "@jupyter-widgets/controls",
      "model_module_version": "1.5.0",
      "model_name": "IntProgressModel",
      "state": {
       "layout": "IPY_MODEL_678b531dec964533973651292a709582",
       "style": "IPY_MODEL_6c3f60f72eb6420fa8b6dfc23d0562c7",
       "value": 30
      }
     },
     "25257fb0eb464023a6814885d73aa9d7": {
      "model_module": "@jupyter-widgets/controls",
      "model_module_version": "1.5.0",
      "model_name": "ButtonModel",
      "state": {
       "layout": "IPY_MODEL_56e4d949b21f4f06bf0a8cb4edf13ba7",
       "style": "IPY_MODEL_f3406219480b44f0bd8dd55380be9dbc"
      }
     },
     "252a3f88288f4622925c49359b4ee17b": {
      "model_module": "@jupyter-widgets/controls",
      "model_module_version": "1.5.0",
      "model_name": "LabelModel",
      "state": {
       "layout": "IPY_MODEL_77809ff2589440bfb5c55db19afb4963",
       "style": "IPY_MODEL_e3f0d78f6254439ab1eaa9924c2a51cd",
       "value": "   objective"
      }
     },
     "2531fcc6e28f47afb98c4ce0c436a324": {
      "model_module": "@jupyter-widgets/controls",
      "model_module_version": "1.5.0",
      "model_name": "VBoxModel",
      "state": {
       "children": [
        "IPY_MODEL_2df64ddf773146538feb2e2e7258c428",
        "IPY_MODEL_5a773447187f429cad632b914aba3f60",
        "IPY_MODEL_b1dcf0cce3784737bd10cff26f24d30a",
        "IPY_MODEL_ba2fd0515e7d40b3b5d4e747f2051bdd"
       ],
       "layout": "IPY_MODEL_d3e047bbb37e417c8865bd57d3d34497"
      }
     },
     "25390a96e79b419d8c3c86beb570e48c": {
      "model_module": "@jupyter-widgets/base",
      "model_module_version": "1.2.0",
      "model_name": "LayoutModel",
      "state": {
       "width": "60px"
      }
     },
     "2539225d27c5473ca8efa82d2bdcb797": {
      "model_module": "@jupyter-widgets/controls",
      "model_module_version": "1.5.0",
      "model_name": "HTMLModel",
      "state": {
       "layout": "IPY_MODEL_2284d62291ff41ed90f63c232d9aeccd",
       "style": "IPY_MODEL_1cb4938eddca480998f808a73cf2e984",
       "value": "<i>test test test test test test test test test test test test test test test test test test test test test test test test </i>"
      }
     },
     "25481e870115499483010d89275ecfc6": {
      "model_module": "@jupyter-widgets/base",
      "model_module_version": "1.2.0",
      "model_name": "LayoutModel",
      "state": {
       "display": "flex",
       "flex_flow": "row wrap"
      }
     },
     "254fb795cbe645c9b69fdac51295d531": {
      "model_module": "@jupyter-widgets/base",
      "model_module_version": "1.2.0",
      "model_name": "LayoutModel",
      "state": {
       "height": "32px",
       "order": "-2",
       "width": "32px"
      }
     },
     "255fed821f104cdaa05e9bd191c16d8d": {
      "model_module": "@jupyter-widgets/controls",
      "model_module_version": "1.5.0",
      "model_name": "DescriptionStyleModel",
      "state": {
       "description_width": ""
      }
     },
     "2567b5d9cbe147bc832cd7517678a720": {
      "model_module": "@jupyter-widgets/base",
      "model_module_version": "1.2.0",
      "model_name": "LayoutModel",
      "state": {
       "width": "60px"
      }
     },
     "256e2691727a415b9f9fa3a6d1cfb485": {
      "model_module": "@jupyter-widgets/base",
      "model_module_version": "1.2.0",
      "model_name": "LayoutModel",
      "state": {
       "height": "32px",
       "order": "-2",
       "width": "32px"
      }
     },
     "257d0b60ebcb4ac5afef4150fe8dc894": {
      "model_module": "@jupyter-widgets/controls",
      "model_module_version": "1.5.0",
      "model_name": "HBoxModel",
      "state": {
       "children": [
        "IPY_MODEL_74a01413ad3f4591bb59483feb65ee42",
        "IPY_MODEL_05957ac4f9e6465fb5e8518a0b3f8035",
        "IPY_MODEL_2720fdb4b53e4b5697551d384521ad59",
        "IPY_MODEL_163ef86869314fe28b91ef2edff5e15a"
       ],
       "layout": "IPY_MODEL_6d4c0dce1be045c39edbd2e234df7076"
      }
     },
     "25916822fe134f849e4876734d69abe7": {
      "model_module": "@jupyter-widgets/base",
      "model_module_version": "1.2.0",
      "model_name": "LayoutModel",
      "state": {
       "width": "60px"
      }
     },
     "25b1bcc00b11497db68608c6c2b93640": {
      "model_module": "@jupyter-widgets/base",
      "model_module_version": "1.2.0",
      "model_name": "LayoutModel",
      "state": {
       "width": "60px"
      }
     },
     "25bb9221431340efaf640bf2bf023343": {
      "model_module": "@jupyter-widgets/controls",
      "model_module_version": "1.5.0",
      "model_name": "HTMLModel",
      "state": {
       "layout": "IPY_MODEL_f171d5f9f9bf438a8e14b64653842228",
       "style": "IPY_MODEL_50d61d59851b44678b32ed0c92c1d5cf",
       "value": "<b>Task Name</b>"
      }
     },
     "25d185dddca04db3a1e559af45b42489": {
      "model_module": "@jupyter-widgets/controls",
      "model_module_version": "1.5.0",
      "model_name": "ButtonModel",
      "state": {
       "layout": "IPY_MODEL_edc9e4d8e9f3460fbe973e3a5a774a46",
       "style": "IPY_MODEL_bc01a3b0105845d197d7649795abbb3a"
      }
     },
     "25e490d7b4654539b0e74a7d101a3127": {
      "model_module": "@jupyter-widgets/controls",
      "model_module_version": "1.5.0",
      "model_name": "ButtonStyleModel",
      "state": {}
     },
     "25eec585fd454b6994f8388d8acedb83": {
      "model_module": "@jupyter-widgets/controls",
      "model_module_version": "1.5.0",
      "model_name": "HBoxModel",
      "state": {
       "children": [
        "IPY_MODEL_1a89327ecff44dc0a93905e68bb1f3a4",
        "IPY_MODEL_3e316825ba434134a0141aa4aace433d",
        "IPY_MODEL_d46d119c4ce1449287c5ee6b397a9cc6",
        "IPY_MODEL_71bf89bddaf84d0cbd28adc798fd40cd"
       ],
       "layout": "IPY_MODEL_ea635c04e8b64d2aa721a1cad018f0de"
      }
     },
     "25f6b13889984ea78eda1f51638b4f9f": {
      "model_module": "@jupyter-widgets/controls",
      "model_module_version": "1.5.0",
      "model_name": "ButtonModel",
      "state": {
       "layout": "IPY_MODEL_8616d19dbef8465a8f0e4b1f76ba1175",
       "style": "IPY_MODEL_ba7e33fae5f841e984ce0d37e68f3aea"
      }
     },
     "25f79d4174324b1fb1ee365e751d755e": {
      "model_module": "@jupyter-widgets/controls",
      "model_module_version": "1.5.0",
      "model_name": "IntProgressModel",
      "state": {
       "layout": "IPY_MODEL_138807bb466a47bd969549959540aa01",
       "style": "IPY_MODEL_c6d5b3cfdd704337a22b064ced6be1e5",
       "value": 30
      }
     },
     "260de7bcac5c470bb7895fd780eb630a": {
      "model_module": "@jupyter-widgets/controls",
      "model_module_version": "1.5.0",
      "model_name": "VBoxModel",
      "state": {
       "children": [
        "IPY_MODEL_257d0b60ebcb4ac5afef4150fe8dc894",
        "IPY_MODEL_cfd7103cb88c41fe9225bb29ad0b84c2",
        "IPY_MODEL_6af435d7cbc94c6d81e85bd434eeca4e",
        "IPY_MODEL_24261f062c344b759af5094c190266d3",
        "IPY_MODEL_04fabdfd2a8347e595ad5341c5d4debd",
        "IPY_MODEL_29fa0703e6764bba91cb86c64fafae6c"
       ],
       "layout": "IPY_MODEL_17284b9594834fcd83ada1da7ed0faa8"
      }
     },
     "2618cb2e9cc944289ce2b5482a581664": {
      "model_module": "@jupyter-widgets/controls",
      "model_module_version": "1.5.0",
      "model_name": "ButtonModel",
      "state": {
       "layout": "IPY_MODEL_368ebe0eab95434ca957db3c8be8dadc",
       "style": "IPY_MODEL_132dbe9fdc4c4cf78b878d88dd9bd452"
      }
     },
     "26528b3f11324c749a67ae51a79ea495": {
      "model_module": "@jupyter-widgets/base",
      "model_module_version": "1.2.0",
      "model_name": "LayoutModel",
      "state": {
       "height": "32px",
       "order": "-2",
       "width": "32px"
      }
     },
     "26556c072c4d43e6ba6b360cabcf703e": {
      "model_module": "@jupyter-widgets/base",
      "model_module_version": "1.2.0",
      "model_name": "LayoutModel",
      "state": {
       "order": "-1",
       "overflow": "visible",
       "padding": "1px",
       "width": "0px"
      }
     },
     "268f9f69db064b77a9980f0405de8f25": {
      "model_module": "@jupyter-widgets/base",
      "model_module_version": "1.2.0",
      "model_name": "LayoutModel",
      "state": {
       "border": "3px solid white",
       "flex": "1 1 0%",
       "margin": "10px",
       "min_width": "400px",
       "overflow": "visible",
       "padding": "10px",
       "width": "auto"
      }
     },
     "269560d9d939486f8696d2fd746125a8": {
      "model_module": "@jupyter-widgets/controls",
      "model_module_version": "1.5.0",
      "model_name": "IntProgressModel",
      "state": {
       "layout": "IPY_MODEL_f0ec787933894b2d98258bfadcc37d7b",
       "style": "IPY_MODEL_e1814c2d2f4245589b2a53b5cae8b953",
       "value": 30
      }
     },
     "26a5c5a33ef24d2f9e3619c004af79bd": {
      "model_module": "@jupyter-widgets/base",
      "model_module_version": "1.2.0",
      "model_name": "LayoutModel",
      "state": {
       "width": "60px"
      }
     },
     "26c2adcb650f4ca684416ee92068fe6b": {
      "model_module": "@jupyter-widgets/base",
      "model_module_version": "1.2.0",
      "model_name": "LayoutModel",
      "state": {
       "width": "60px"
      }
     },
     "26cc39ab5cf345459a855dff3d255728": {
      "model_module": "@jupyter-widgets/controls",
      "model_module_version": "1.5.0",
      "model_name": "ButtonModel",
      "state": {
       "layout": "IPY_MODEL_d7ea87751a9e47e9849b550a9afa22eb",
       "style": "IPY_MODEL_68886790907144b7ad677fce3f1a4cea"
      }
     },
     "26e954a6ded644d1914697c7e7d4f001": {
      "model_module": "@jupyter-widgets/base",
      "model_module_version": "1.2.0",
      "model_name": "LayoutModel",
      "state": {
       "order": "-1",
       "overflow": "visible",
       "padding": "1px",
       "width": "0px"
      }
     },
     "26eeef04d7bf45ab9b36bb3b8ea00aca": {
      "model_module": "@jupyter-widgets/controls",
      "model_module_version": "1.5.0",
      "model_name": "DropdownModel",
      "state": {
       "_options_labels": [
        "Any",
        "Arc",
        "Solar",
        "Void"
       ],
       "index": 0,
       "layout": "IPY_MODEL_27de6b728bae49b0a4b2fdd732570aae",
       "style": "IPY_MODEL_1f56aae5851f46bab2f5cdb22c977a70"
      }
     },
     "26fe87ad503a403f87e6d2061ff1518f": {
      "model_module": "@jupyter-widgets/controls",
      "model_module_version": "1.5.0",
      "model_name": "ProgressStyleModel",
      "state": {
       "description_width": ""
      }
     },
     "270d00fa748a47c5aa723d050ada5a6f": {
      "model_module": "@jupyter-widgets/controls",
      "model_module_version": "1.5.0",
      "model_name": "LabelModel",
      "state": {
       "layout": "IPY_MODEL_ee702161bc164b59b80aa9a1a780d5f6",
       "style": "IPY_MODEL_20c2cc87c80d42f293b813d221c139d9",
       "value": "   objective"
      }
     },
     "270e45584aef473e8cb3be1a093370e3": {
      "model_module": "@jupyter-widgets/controls",
      "model_module_version": "1.5.0",
      "model_name": "ButtonStyleModel",
      "state": {}
     },
     "2720fdb4b53e4b5697551d384521ad59": {
      "model_module": "@jupyter-widgets/controls",
      "model_module_version": "1.5.0",
      "model_name": "LabelModel",
      "state": {
       "layout": "IPY_MODEL_475874f67628477e99247ebaadcaf43c",
       "style": "IPY_MODEL_7d88d3403d0449c4a16bd83fe44981ce",
       "value": "   objective"
      }
     },
     "273b9cf1f40b49eda2bd5008e7f388d3": {
      "model_module": "@jupyter-widgets/base",
      "model_module_version": "1.2.0",
      "model_name": "LayoutModel",
      "state": {
       "height": "32px",
       "order": "-2",
       "width": "32px"
      }
     },
     "273d902e027d4f219bb7c95f4750a06b": {
      "model_module": "@jupyter-widgets/controls",
      "model_module_version": "1.5.0",
      "model_name": "ButtonStyleModel",
      "state": {}
     },
     "274a175d9c824bb699c187b9b0dc95eb": {
      "model_module": "@jupyter-widgets/base",
      "model_module_version": "1.2.0",
      "model_name": "LayoutModel",
      "state": {}
     },
     "276d6d0fbb59468b84f092ffdfc20de6": {
      "model_module": "@jupyter-widgets/controls",
      "model_module_version": "1.5.0",
      "model_name": "HBoxModel",
      "state": {
       "children": [
        "IPY_MODEL_cd68262194a6464f8c896466316946ef",
        "IPY_MODEL_b5c7bf7fbf65466990d49337268cdcd4",
        "IPY_MODEL_e3a6178838b949d4aecd72b2a58c0d63",
        "IPY_MODEL_53a83fec0b6c4c9380cc47396acf81a5"
       ],
       "layout": "IPY_MODEL_f6612a6960bd44059d8d82241ec58357"
      }
     },
     "27742bd6e8204771b25d254281c3bc3d": {
      "model_module": "@jupyter-widgets/base",
      "model_module_version": "1.2.0",
      "model_name": "LayoutModel",
      "state": {}
     },
     "278179071e5440b0bed5f87da98d9940": {
      "model_module": "@jupyter-widgets/controls",
      "model_module_version": "1.5.0",
      "model_name": "ButtonModel",
      "state": {
       "layout": "IPY_MODEL_7deda00bd56c45388ff716aafc9ddac1",
       "style": "IPY_MODEL_fe7f60c0371849c98b7912a766dabed0"
      }
     },
     "27856c25d72542a1914ce34b29181f48": {
      "model_module": "@jupyter-widgets/controls",
      "model_module_version": "1.5.0",
      "model_name": "ProgressStyleModel",
      "state": {
       "description_width": ""
      }
     },
     "27a9f3374d0c49e1a550708f589c5d04": {
      "model_module": "@jupyter-widgets/controls",
      "model_module_version": "1.5.0",
      "model_name": "ButtonStyleModel",
      "state": {}
     },
     "27b6ee7f48004652a2bab1a4606108cb": {
      "model_module": "@jupyter-widgets/controls",
      "model_module_version": "1.5.0",
      "model_name": "IntProgressModel",
      "state": {
       "layout": "IPY_MODEL_aa5af718bbc04cc1aa64f3500a7f8df6",
       "style": "IPY_MODEL_01ce66a191aa4fbfb7e7d36fa54ef22f",
       "value": 30
      }
     },
     "27cc81cd498a42c0989055e1697dc756": {
      "model_module": "@jupyter-widgets/base",
      "model_module_version": "1.2.0",
      "model_name": "LayoutModel",
      "state": {
       "width": "60px"
      }
     },
     "27de6b728bae49b0a4b2fdd732570aae": {
      "model_module": "@jupyter-widgets/base",
      "model_module_version": "1.2.0",
      "model_name": "LayoutModel",
      "state": {
       "border": "",
       "width": "98%"
      }
     },
     "27f5b5474f3347588a3535bac7e60f22": {
      "model_module": "@jupyter-widgets/controls",
      "model_module_version": "1.5.0",
      "model_name": "IntProgressModel",
      "state": {
       "layout": "IPY_MODEL_def9911b30be4323ba96fe30db996695",
       "style": "IPY_MODEL_12f888c71d034f07bcb317eb92bc84bb",
       "value": 30
      }
     },
     "27fa275e174e47d29302379e98bd4eef": {
      "model_module": "@jupyter-widgets/base",
      "model_module_version": "1.2.0",
      "model_name": "LayoutModel",
      "state": {}
     },
     "27fd23a4a0b64429adc2c4b0215521dd": {
      "model_module": "@jupyter-widgets/base",
      "model_module_version": "1.2.0",
      "model_name": "LayoutModel",
      "state": {}
     },
     "27fe6e54c6804c149ccc573eeb381ea5": {
      "model_module": "@jupyter-widgets/controls",
      "model_module_version": "1.5.0",
      "model_name": "DescriptionStyleModel",
      "state": {
       "description_width": ""
      }
     },
     "280389f5be8a48689eb48a3b6e14306c": {
      "model_module": "@jupyter-widgets/controls",
      "model_module_version": "1.5.0",
      "model_name": "DescriptionStyleModel",
      "state": {
       "description_width": ""
      }
     },
     "281140ae7b7c435aaaa3f21a80e5557a": {
      "model_module": "@jupyter-widgets/controls",
      "model_module_version": "1.5.0",
      "model_name": "ProgressStyleModel",
      "state": {
       "description_width": ""
      }
     },
     "28178510313f4810b9297ecfb206f2dc": {
      "model_module": "@jupyter-widgets/controls",
      "model_module_version": "1.5.0",
      "model_name": "ButtonStyleModel",
      "state": {}
     },
     "281c3a76529e48d086f781f7233c30bf": {
      "model_module": "@jupyter-widgets/base",
      "model_module_version": "1.2.0",
      "model_name": "LayoutModel",
      "state": {}
     },
     "2822649e94ea4c4299fafa0ea572ebf0": {
      "model_module": "@jupyter-widgets/base",
      "model_module_version": "1.2.0",
      "model_name": "LayoutModel",
      "state": {}
     },
     "283e3e7b20a54a8096c4a74023c1677f": {
      "model_module": "@jupyter-widgets/controls",
      "model_module_version": "1.5.0",
      "model_name": "ButtonModel",
      "state": {
       "layout": "IPY_MODEL_fb38a5376a1944e4a80a7fa40b87af4e",
       "style": "IPY_MODEL_72ce3870926f42988f5e93f8eec86461"
      }
     },
     "28488a763cb04997b3e95462b6097e2c": {
      "model_module": "@jupyter-widgets/base",
      "model_module_version": "1.2.0",
      "model_name": "LayoutModel",
      "state": {
       "height": "32px",
       "order": "-2",
       "width": "32px"
      }
     },
     "284b6352dfec4e109e35ff9003f2e132": {
      "model_module": "@jupyter-widgets/controls",
      "model_module_version": "1.5.0",
      "model_name": "HBoxModel",
      "state": {
       "children": [
        "IPY_MODEL_f04ec310e47348cda7abd0d1fbdc8b1a",
        "IPY_MODEL_dc5b898b96c743519a77bfa57c4ae2df",
        "IPY_MODEL_3817602917d94955be647f39e178c06b",
        "IPY_MODEL_cec3469b979943a7b7b0e1b316ae29e3"
       ],
       "layout": "IPY_MODEL_d9354615f8f74f41a73330a2c0d4f15d"
      }
     },
     "285e6d32130c48a0b2a14b15be61ee02": {
      "model_module": "@jupyter-widgets/controls",
      "model_module_version": "1.5.0",
      "model_name": "IntProgressModel",
      "state": {
       "layout": "IPY_MODEL_efce8442061343b4b99f93b0bd143a5e",
       "style": "IPY_MODEL_52c6d2862f8e4d0eb66452cc68f4bdde",
       "value": 30
      }
     },
     "285fa1a697724a16bf82ba7b27e658d8": {
      "model_module": "@jupyter-widgets/controls",
      "model_module_version": "1.5.0",
      "model_name": "LabelModel",
      "state": {
       "layout": "IPY_MODEL_b63447d62c3e4c6bb8ef4eb55356fb79",
       "style": "IPY_MODEL_701d2dc19b6f46ceaf60e1a023002250",
       "value": "   objective"
      }
     },
     "2860a436729f40408787559be587a9a3": {
      "model_module": "@jupyter-widgets/base",
      "model_module_version": "1.2.0",
      "model_name": "LayoutModel",
      "state": {
       "width": "60px"
      }
     },
     "28796aa6ba3f4da184c27ed24b20d59d": {
      "model_module": "@jupyter-widgets/base",
      "model_module_version": "1.2.0",
      "model_name": "LayoutModel",
      "state": {
       "order": "-1",
       "overflow": "visible",
       "padding": "1px",
       "width": "0px"
      }
     },
     "288653978be54cbe9ea8de1bf4b511ab": {
      "model_module": "@jupyter-widgets/controls",
      "model_module_version": "1.5.0",
      "model_name": "HBoxModel",
      "state": {
       "children": [
        "IPY_MODEL_55a40b66c5c84d8f87df5df4da40df90",
        "IPY_MODEL_647a51ffa2674208a359823c16a288ca",
        "IPY_MODEL_79fe8e4f536b4f5b91bb6fd9e27aa680",
        "IPY_MODEL_e778c5236dec4056975a6ed8514ba371"
       ],
       "layout": "IPY_MODEL_f71e2032e35c4384b58e0e805ce97017"
      }
     },
     "288ca56f8b8f4cc08a6d8a6315836e66": {
      "model_module": "@jupyter-widgets/base",
      "model_module_version": "1.2.0",
      "model_name": "LayoutModel",
      "state": {
       "order": "-1",
       "overflow": "visible",
       "padding": "1px",
       "width": "0px"
      }
     },
     "28a9245b7fe240dca98ad672af55a9f8": {
      "model_module": "@jupyter-widgets/base",
      "model_module_version": "1.2.0",
      "model_name": "LayoutModel",
      "state": {
       "height": "32px",
       "overflow": "visible",
       "width": "100%"
      }
     },
     "28b73a12241e4072a516ce04221c04bc": {
      "model_module": "@jupyter-widgets/controls",
      "model_module_version": "1.5.0",
      "model_name": "ButtonStyleModel",
      "state": {}
     },
     "28bba4b7be8a4a9f885959ecf6f4427e": {
      "model_module": "@jupyter-widgets/controls",
      "model_module_version": "1.5.0",
      "model_name": "ButtonModel",
      "state": {
       "layout": "IPY_MODEL_1bb45cb8c7664d8aa29e0214df7a2d3c",
       "style": "IPY_MODEL_5e6ae3e3ef524f96a1a57f0402fe91d0"
      }
     },
     "28f16c41ecde4a7e89ab0d56d2c29dbb": {
      "model_module": "@jupyter-widgets/controls",
      "model_module_version": "1.5.0",
      "model_name": "DescriptionStyleModel",
      "state": {
       "description_width": ""
      }
     },
     "28f5cd71a7014f418844ae5bf4a532e4": {
      "model_module": "@jupyter-widgets/controls",
      "model_module_version": "1.5.0",
      "model_name": "DescriptionStyleModel",
      "state": {
       "description_width": ""
      }
     },
     "291f6a7d0dc64b18a6d3c708418e1912": {
      "model_module": "@jupyter-widgets/controls",
      "model_module_version": "1.5.0",
      "model_name": "IntProgressModel",
      "state": {
       "layout": "IPY_MODEL_f18a217b3238471ca7d8d69425d65e94",
       "style": "IPY_MODEL_d2c0672f4c184772a51e0c8d6288b2f0",
       "value": 30
      }
     },
     "2945f8fb4b8d461e94fa06c5bea7b232": {
      "model_module": "@jupyter-widgets/controls",
      "model_module_version": "1.5.0",
      "model_name": "ButtonStyleModel",
      "state": {}
     },
     "295272ef9e6a4daea284d3bbdc340e4b": {
      "model_module": "@jupyter-widgets/controls",
      "model_module_version": "1.5.0",
      "model_name": "DescriptionStyleModel",
      "state": {
       "description_width": ""
      }
     },
     "295f9835a37a4406a7f3efae47baf41f": {
      "model_module": "@jupyter-widgets/controls",
      "model_module_version": "1.5.0",
      "model_name": "CheckboxModel",
      "state": {
       "description": "Hide Conflicting Objectives",
       "disabled": false,
       "layout": "IPY_MODEL_18fc6970cd944a0b95201f2d403d4851",
       "style": "IPY_MODEL_8a55798cc3524187a7dfb533f9d8ca32",
       "value": false
      }
     },
     "29691f31c5384284bfbf953533d2a65b": {
      "model_module": "@jupyter-widgets/controls",
      "model_module_version": "1.5.0",
      "model_name": "ButtonModel",
      "state": {
       "description": "EDIT",
       "layout": "IPY_MODEL_7ceea62ae34a4c4ca5ed38858ea963a9",
       "style": "IPY_MODEL_9bf542bb883c4e80ae76170c02d8187a"
      }
     },
     "299a8384b06e4273b81fb602de6f0a61": {
      "model_module": "@jupyter-widgets/controls",
      "model_module_version": "1.5.0",
      "model_name": "HBoxModel",
      "state": {
       "children": [
        "IPY_MODEL_f438dd9b3c7c4a8489d44f455978b0f5",
        "IPY_MODEL_a632e2dc50d64bea968f538c9e05338e",
        "IPY_MODEL_98995f11e6834cb89b4f581605dcf4a4",
        "IPY_MODEL_7a3c0559796a4a17800a5b18e7e9ce52"
       ],
       "layout": "IPY_MODEL_e91194be15ee4ce6bbfa13be280bf404"
      }
     },
     "29a0defe869343d2ba966b5e70e22512": {
      "model_module": "@jupyter-widgets/controls",
      "model_module_version": "1.5.0",
      "model_name": "DescriptionStyleModel",
      "state": {
       "description_width": ""
      }
     },
     "29b5aa17c19b404ba356d590596887f9": {
      "model_module": "@jupyter-widgets/controls",
      "model_module_version": "1.5.0",
      "model_name": "DropdownModel",
      "state": {
       "_options_labels": [
        "Any",
        "Hand Cannon",
        "Auto Rifle",
        "Scout Rifle",
        "Pulse Rifle",
        "Sidearm",
        "Submachine Gun",
        "Combt Bow",
        "Sniper Rifle",
        "Shotgun",
        "Fusion Rifle",
        "Grenade Launcher"
       ],
       "index": 0,
       "layout": "IPY_MODEL_56b87d7d00c54e96938caab1e6aa41f1",
       "style": "IPY_MODEL_bfa60911369e4b5c8a4e960357f58a7b"
      }
     },
     "29bfe75f296844e5bf596cfe017b73f6": {
      "model_module": "@jupyter-widgets/controls",
      "model_module_version": "1.5.0",
      "model_name": "ButtonModel",
      "state": {
       "layout": "IPY_MODEL_f43b1c145f694b778cbe5948b5bef63a",
       "style": "IPY_MODEL_7b234fe6aa77448fb3f6bca7f125d1b4"
      }
     },
     "29c844c39f3f4edcbd0feace31e8cce0": {
      "model_module": "@jupyter-widgets/controls",
      "model_module_version": "1.5.0",
      "model_name": "HTMLModel",
      "state": {
       "layout": "IPY_MODEL_690fab2a611e43f2b1b0bb10da2864bd",
       "style": "IPY_MODEL_e63df24b589846d09b1d5469e1d19b3c",
       "value": "<font size=\"1\">Path/Path/Path/Path/</font size>"
      }
     },
     "29d99c05240c4dafadf1bddf5bacd26e": {
      "model_module": "@jupyter-widgets/controls",
      "model_module_version": "1.5.0",
      "model_name": "ButtonModel",
      "state": {
       "layout": "IPY_MODEL_c0b5eb12639148bba34bccac03261766",
       "style": "IPY_MODEL_41a6e6bdb0d74a21ac9902991d6ce03d"
      }
     },
     "29f61522ede24488a402b25f3f8620a8": {
      "model_module": "@jupyter-widgets/controls",
      "model_module_version": "1.5.0",
      "model_name": "ButtonStyleModel",
      "state": {}
     },
     "29f7a33191eb4328be928a550ba05415": {
      "model_module": "@jupyter-widgets/controls",
      "model_module_version": "1.5.0",
      "model_name": "LabelModel",
      "state": {
       "layout": "IPY_MODEL_bf4f7771533948e48c02feb3c2c6d819",
       "style": "IPY_MODEL_472b904c15b544cda40dc20559908b2b",
       "value": "   objective"
      }
     },
     "29fa0703e6764bba91cb86c64fafae6c": {
      "model_module": "@jupyter-widgets/controls",
      "model_module_version": "1.5.0",
      "model_name": "HBoxModel",
      "state": {
       "children": [
        "IPY_MODEL_71c8369f0fb840379022e1ef26c4d7b1",
        "IPY_MODEL_aa91e7268a2b43f3abbb65b6956a3e58",
        "IPY_MODEL_06252444414844f2b350a8324ecac0be",
        "IPY_MODEL_0ab200830fc246bfb6169c758885f1fd"
       ],
       "layout": "IPY_MODEL_274a175d9c824bb699c187b9b0dc95eb"
      }
     },
     "29fc7bd8ed23460eb483aa05fb2fad49": {
      "model_module": "@jupyter-widgets/base",
      "model_module_version": "1.2.0",
      "model_name": "LayoutModel",
      "state": {
       "order": "-1",
       "overflow": "visible",
       "padding": "1px",
       "width": "0px"
      }
     },
     "2a0f7f02ed4e4d3b81cd5587a0502949": {
      "model_module": "@jupyter-widgets/controls",
      "model_module_version": "1.5.0",
      "model_name": "IntProgressModel",
      "state": {
       "layout": "IPY_MODEL_1fad735927aa45a685a4d4f5b3ad2769",
       "style": "IPY_MODEL_bf0dfa6213754c79a96c263d60054ec6",
       "value": 30
      }
     },
     "2a13d1f0671e4a09bc53a0573d06849b": {
      "model_module": "@jupyter-widgets/base",
      "model_module_version": "1.2.0",
      "model_name": "LayoutModel",
      "state": {
       "height": "32px",
       "order": "-2",
       "width": "32px"
      }
     },
     "2a183f07bf67482c83f945a8197ee3cc": {
      "model_module": "@jupyter-widgets/base",
      "model_module_version": "1.2.0",
      "model_name": "LayoutModel",
      "state": {
       "order": "-1",
       "overflow": "visible",
       "padding": "1px",
       "width": "0px"
      }
     },
     "2a286a4c7ad34b3a9f39c31bd7dd6d5b": {
      "model_module": "@jupyter-widgets/controls",
      "model_module_version": "1.5.0",
      "model_name": "DescriptionStyleModel",
      "state": {
       "description_width": ""
      }
     },
     "2a3d6ba2074f4988bb62b41050f6a27a": {
      "model_module": "@jupyter-widgets/controls",
      "model_module_version": "1.5.0",
      "model_name": "ProgressStyleModel",
      "state": {
       "description_width": ""
      }
     },
     "2a529fb0af75465091b78e9964a3a8e9": {
      "model_module": "@jupyter-widgets/base",
      "model_module_version": "1.2.0",
      "model_name": "LayoutModel",
      "state": {
       "height": "32px",
       "order": "-2",
       "width": "32px"
      }
     },
     "2a55c40626514bbf945b1ad95997d849": {
      "model_module": "@jupyter-widgets/controls",
      "model_module_version": "1.5.0",
      "model_name": "DescriptionStyleModel",
      "state": {
       "description_width": ""
      }
     },
     "2a75ec6a351a41c694e40310e20aff8a": {
      "model_module": "@jupyter-widgets/controls",
      "model_module_version": "1.5.0",
      "model_name": "ButtonModel",
      "state": {
       "layout": "IPY_MODEL_bf69ffd2247248898f97295040190955",
       "style": "IPY_MODEL_181b586afe03407b911e0ec2c5aac954"
      }
     },
     "2aa19a762e134a5295bb56179b94aa05": {
      "model_module": "@jupyter-widgets/base",
      "model_module_version": "1.2.0",
      "model_name": "LayoutModel",
      "state": {
       "width": "60px"
      }
     },
     "2ac8f007aa0a471db345583132075abc": {
      "model_module": "@jupyter-widgets/base",
      "model_module_version": "1.2.0",
      "model_name": "LayoutModel",
      "state": {
       "width": "60px"
      }
     },
     "2addcd0965494e5c8a1031c1a22cfef4": {
      "model_module": "@jupyter-widgets/controls",
      "model_module_version": "1.5.0",
      "model_name": "ButtonModel",
      "state": {
       "description": "EDIT",
       "layout": "IPY_MODEL_a5f908c0f0b84f6aa0886a98a88cb23a",
       "style": "IPY_MODEL_c6067a50565c4f1497e66ba72d9dc98c"
      }
     },
     "2b00e8d367bb4f92b7181e3f2dd96d14": {
      "model_module": "@jupyter-widgets/controls",
      "model_module_version": "1.5.0",
      "model_name": "IntProgressModel",
      "state": {
       "layout": "IPY_MODEL_ef491208cb7d49d189f885d563bed11e",
       "style": "IPY_MODEL_df1d568106754c4b8908f9cfb284bed0",
       "value": 30
      }
     },
     "2b11c0c382b94bb586dae593fd3c58bf": {
      "model_module": "@jupyter-widgets/controls",
      "model_module_version": "1.5.0",
      "model_name": "ButtonModel",
      "state": {
       "layout": "IPY_MODEL_28488a763cb04997b3e95462b6097e2c",
       "style": "IPY_MODEL_ca9ba2d172784f12a89946cf5775d20b"
      }
     },
     "2b2065c159794143b1b3f4de8a99fa39": {
      "model_module": "@jupyter-widgets/base",
      "model_module_version": "1.2.0",
      "model_name": "LayoutModel",
      "state": {
       "height": "32px",
       "order": "-2",
       "width": "32px"
      }
     },
     "2b40969060944a029894b291ec02389c": {
      "model_module": "@jupyter-widgets/controls",
      "model_module_version": "1.5.0",
      "model_name": "ButtonStyleModel",
      "state": {}
     },
     "2b46562f352a480390ff53e26f29cbf2": {
      "model_module": "@jupyter-widgets/base",
      "model_module_version": "1.2.0",
      "model_name": "LayoutModel",
      "state": {
       "height": "32px",
       "overflow": "visible",
       "width": "100%"
      }
     },
     "2b4b8442e9b24509b7652b796b78f175": {
      "model_module": "@jupyter-widgets/base",
      "model_module_version": "1.2.0",
      "model_name": "LayoutModel",
      "state": {
       "width": "60px"
      }
     },
     "2b765f7179af4c4995dc3185fc1ff1f0": {
      "model_module": "@jupyter-widgets/controls",
      "model_module_version": "1.5.0",
      "model_name": "ButtonStyleModel",
      "state": {}
     },
     "2b76c813100043f5a356802afef9c34f": {
      "model_module": "@jupyter-widgets/base",
      "model_module_version": "1.2.0",
      "model_name": "LayoutModel",
      "state": {}
     },
     "2b86c02ed0f449fe94e88dba9e53ea01": {
      "model_module": "@jupyter-widgets/controls",
      "model_module_version": "1.5.0",
      "model_name": "ButtonStyleModel",
      "state": {}
     },
     "2b91e3e587e7417c9e92054e0c77b3b7": {
      "model_module": "@jupyter-widgets/controls",
      "model_module_version": "1.5.0",
      "model_name": "IntProgressModel",
      "state": {
       "layout": "IPY_MODEL_f516c16a27a64ed0a1a098523b4b5f78",
       "style": "IPY_MODEL_777ff816d7d144d2b3542f15ea428328",
       "value": 30
      }
     },
     "2b9768e17f8b413987cef897baa93750": {
      "model_module": "@jupyter-widgets/base",
      "model_module_version": "1.2.0",
      "model_name": "LayoutModel",
      "state": {}
     },
     "2bc14939538746ea931b6bc14b73052d": {
      "model_module": "@jupyter-widgets/base",
      "model_module_version": "1.2.0",
      "model_name": "LayoutModel",
      "state": {
       "height": "32px",
       "order": "-2",
       "width": "32px"
      }
     },
     "2be00c1184a346929a70ce741010e50d": {
      "model_module": "@jupyter-widgets/base",
      "model_module_version": "1.2.0",
      "model_name": "LayoutModel",
      "state": {
       "height": "32px",
       "overflow": "visible",
       "width": "100%"
      }
     },
     "2bfaf447907a49bdafc17e9e949b2d98": {
      "model_module": "@jupyter-widgets/controls",
      "model_module_version": "1.5.0",
      "model_name": "HBoxModel",
      "state": {
       "children": [
        "IPY_MODEL_d939d5a82d0742fb9a670ca01b6d936a",
        "IPY_MODEL_953d878047914d9ab09a33fdd751f451",
        "IPY_MODEL_79486c066ce448c9b5240af2926a3e95",
        "IPY_MODEL_b4c1756de73143eb8d09be3506bc470c"
       ],
       "layout": "IPY_MODEL_d4d92c79bc4542ff8bfe9d8c3bf4e5f8"
      }
     },
     "2c11178fba1e446c8fee24228ca7ee0e": {
      "model_module": "@jupyter-widgets/controls",
      "model_module_version": "1.5.0",
      "model_name": "ButtonModel",
      "state": {
       "layout": "IPY_MODEL_d5c7e671705c47e78c75d5f2fef0c9c7",
       "style": "IPY_MODEL_84fb124ab34f43be9c2bc751fe803ecb"
      }
     },
     "2c1a1e7786dc4dffbfaca231b70d100c": {
      "model_module": "@jupyter-widgets/controls",
      "model_module_version": "1.5.0",
      "model_name": "ButtonStyleModel",
      "state": {}
     },
     "2c3429200ae24b2384607740f838959f": {
      "model_module": "@jupyter-widgets/controls",
      "model_module_version": "1.5.0",
      "model_name": "ButtonStyleModel",
      "state": {}
     },
     "2c675cbd5acd43bbb817d064291416e2": {
      "model_module": "@jupyter-widgets/controls",
      "model_module_version": "1.5.0",
      "model_name": "ButtonModel",
      "state": {
       "layout": "IPY_MODEL_dc4c393a1a2f4a35a7aad96280534dfd",
       "style": "IPY_MODEL_ed2dd216f7194eceb302cb666b200c41"
      }
     },
     "2c7f7eee1950428ebbec808be8cc7232": {
      "model_module": "@jupyter-widgets/base",
      "model_module_version": "1.2.0",
      "model_name": "LayoutModel",
      "state": {
       "overflow": "visible",
       "width": "100%"
      }
     },
     "2c826cd4ce864c21b31658d159f1d1ed": {
      "model_module": "@jupyter-widgets/controls",
      "model_module_version": "1.5.0",
      "model_name": "ButtonStyleModel",
      "state": {}
     },
     "2c96be50fa404d8da82af1f2610c525b": {
      "model_module": "@jupyter-widgets/controls",
      "model_module_version": "1.5.0",
      "model_name": "IntProgressModel",
      "state": {
       "layout": "IPY_MODEL_01d9b2f17d9a4172bf2ff9fd7ab06b53",
       "style": "IPY_MODEL_cd7f64a255d64f1c813138356e4d16ea",
       "value": 30
      }
     },
     "2c9a54de368244a59ad0d75030b94d7d": {
      "model_module": "@jupyter-widgets/controls",
      "model_module_version": "1.5.0",
      "model_name": "ProgressStyleModel",
      "state": {
       "description_width": ""
      }
     },
     "2c9d11719c074ecbbf89b4a3bebba04a": {
      "model_module": "@jupyter-widgets/base",
      "model_module_version": "1.2.0",
      "model_name": "LayoutModel",
      "state": {
       "width": "60px"
      }
     },
     "2c9daa0d547b46f398523306e80c4cfe": {
      "model_module": "@jupyter-widgets/controls",
      "model_module_version": "1.5.0",
      "model_name": "HBoxModel",
      "state": {
       "children": [
        "IPY_MODEL_2d5eed09329b4838a37076ba8df711fc",
        "IPY_MODEL_285e6d32130c48a0b2a14b15be61ee02",
        "IPY_MODEL_df220935cb554b8c990455e586fd2b90",
        "IPY_MODEL_93c5fba108394f24a86b4545a36b7fde"
       ],
       "layout": "IPY_MODEL_b72ec0d7d7264f35b7e84b78565c2340"
      }
     },
     "2cd3c52d10c64a92961f556a78d61e00": {
      "model_module": "@jupyter-widgets/base",
      "model_module_version": "1.2.0",
      "model_name": "LayoutModel",
      "state": {}
     },
     "2cd710c72705416193701ea01df553f0": {
      "model_module": "@jupyter-widgets/controls",
      "model_module_version": "1.5.0",
      "model_name": "ButtonModel",
      "state": {
       "description": "EDIT",
       "layout": "IPY_MODEL_212f3053d0154c36badbe717b809ba07",
       "style": "IPY_MODEL_4b27824238844bb8b20d828c605a11ca"
      }
     },
     "2ce240394d4945f79e0ea453ecb339de": {
      "model_module": "@jupyter-widgets/base",
      "model_module_version": "1.2.0",
      "model_name": "LayoutModel",
      "state": {
       "height": "32px",
       "order": "-2",
       "width": "32px"
      }
     },
     "2ce30c0cb0e344ae908217484f055544": {
      "model_module": "@jupyter-widgets/controls",
      "model_module_version": "1.5.0",
      "model_name": "VBoxModel",
      "state": {
       "children": [
        "IPY_MODEL_7e309d8e579c459d86c5522de9e6f566",
        "IPY_MODEL_2de7b7133b544ccdb6822593fad6185f",
        "IPY_MODEL_68d1d871ce0e422caeb99cfc104f94be",
        "IPY_MODEL_d46216ed35734bd3a0a02c45b2678597",
        "IPY_MODEL_9d1deb0fd62b45da82c9ffae83f6c26a",
        "IPY_MODEL_480a7769404d49e8bb67718c5da5de19"
       ],
       "layout": "IPY_MODEL_992cf5084bf6404bb1b68d33cbe13a9a"
      }
     },
     "2cf891f34551454eb4ca4baa6f0e9183": {
      "model_module": "@jupyter-widgets/base",
      "model_module_version": "1.2.0",
      "model_name": "LayoutModel",
      "state": {
       "height": "32px",
       "overflow": "visible",
       "width": "100%"
      }
     },
     "2d14b380364940b69c1f7b4ceb75eb23": {
      "model_module": "@jupyter-widgets/controls",
      "model_module_version": "1.5.0",
      "model_name": "ButtonStyleModel",
      "state": {}
     },
     "2d1fb5a7c2174f9f9b7bf45f647d5868": {
      "model_module": "@jupyter-widgets/base",
      "model_module_version": "1.2.0",
      "model_name": "LayoutModel",
      "state": {}
     },
     "2d2562dc02294482bce1811536eba51a": {
      "model_module": "@jupyter-widgets/base",
      "model_module_version": "1.2.0",
      "model_name": "LayoutModel",
      "state": {
       "overflow": "visible",
       "width": "100%"
      }
     },
     "2d404fef6b4e4378bd5c4f453d6f857c": {
      "model_module": "@jupyter-widgets/base",
      "model_module_version": "1.2.0",
      "model_name": "LayoutModel",
      "state": {
       "order": "-1",
       "overflow": "visible",
       "padding": "1px",
       "width": "0px"
      }
     },
     "2d4f5da4c2a04a289aea5eb791836913": {
      "model_module": "@jupyter-widgets/base",
      "model_module_version": "1.2.0",
      "model_name": "LayoutModel",
      "state": {
       "order": "-1",
       "overflow": "visible",
       "padding": "1px",
       "width": "0px"
      }
     },
     "2d5eed09329b4838a37076ba8df711fc": {
      "model_module": "@jupyter-widgets/controls",
      "model_module_version": "1.5.0",
      "model_name": "ButtonModel",
      "state": {
       "layout": "IPY_MODEL_a0a46810dbe44ce585a6ee195c646779",
       "style": "IPY_MODEL_da831ef8203141b193f72c7130612bd2"
      }
     },
     "2d7e871f68824b6da2155f1b79c20dfb": {
      "model_module": "@jupyter-widgets/controls",
      "model_module_version": "1.5.0",
      "model_name": "LabelModel",
      "state": {
       "layout": "IPY_MODEL_fb67d53cf4b04516b2b4f64a267da163",
       "style": "IPY_MODEL_546f5179ed184bf6bd89166241c7af19",
       "value": "   objective"
      }
     },
     "2d9975f32b1747f688c541492d3071fc": {
      "model_module": "@jupyter-widgets/base",
      "model_module_version": "1.2.0",
      "model_name": "LayoutModel",
      "state": {}
     },
     "2de7b7133b544ccdb6822593fad6185f": {
      "model_module": "@jupyter-widgets/controls",
      "model_module_version": "1.5.0",
      "model_name": "HBoxModel",
      "state": {
       "children": [
        "IPY_MODEL_5bed2aaa2e8c45a0b045909bd6e389f0",
        "IPY_MODEL_b6a20f2dfd2b4f5d87cf0e1331f8db7f",
        "IPY_MODEL_3ef491d278414f7db37f37aeb11fd4e6",
        "IPY_MODEL_34718b342d22450fab41246b6f0395f8"
       ],
       "layout": "IPY_MODEL_a5b0cfa4114d45a3b88f1d24544a1f4a"
      }
     },
     "2df64ddf773146538feb2e2e7258c428": {
      "model_module": "@jupyter-widgets/controls",
      "model_module_version": "1.5.0",
      "model_name": "HTMLModel",
      "state": {
       "layout": "IPY_MODEL_e28c918dd8df4f53a015efa1d3bb13da",
       "style": "IPY_MODEL_255fed821f104cdaa05e9bd191c16d8d",
       "value": "<font size=\"1\">Path/Path/Path/Path/</font size>"
      }
     },
     "2e13c660943b468b99a1442d38a769c4": {
      "model_module": "@jupyter-widgets/controls",
      "model_module_version": "1.5.0",
      "model_name": "ButtonModel",
      "state": {
       "description": "EDIT",
       "layout": "IPY_MODEL_dd2ab84ed4dc4414b6def0aaeef23bce",
       "style": "IPY_MODEL_df0a01f5ce7240d79bd8a53b599f549f"
      }
     },
     "2e26fd3f871b414cbc415c78b6502fbd": {
      "model_module": "@jupyter-widgets/base",
      "model_module_version": "1.2.0",
      "model_name": "LayoutModel",
      "state": {
       "width": "60px"
      }
     },
     "2e373e18c82e47bf8f0bd0ebff85dc99": {
      "model_module": "@jupyter-widgets/base",
      "model_module_version": "1.2.0",
      "model_name": "LayoutModel",
      "state": {}
     },
     "2e3ae57a2fae4b4ebb8d92ff28bc35f4": {
      "model_module": "@jupyter-widgets/controls",
      "model_module_version": "1.5.0",
      "model_name": "LabelModel",
      "state": {
       "layout": "IPY_MODEL_c30a20be330a44a09e2982936f064598",
       "style": "IPY_MODEL_625f392de1a84ce69257392be06df7ac",
       "value": "   objective"
      }
     },
     "2e74815ce122420e8f0f7eafaab17143": {
      "model_module": "@jupyter-widgets/base",
      "model_module_version": "1.2.0",
      "model_name": "LayoutModel",
      "state": {
       "width": "60px"
      }
     },
     "2ea11713926d4eeaa427825d89d5a8ca": {
      "model_module": "@jupyter-widgets/controls",
      "model_module_version": "1.5.0",
      "model_name": "HTMLModel",
      "state": {
       "layout": "IPY_MODEL_f01e0c87439a4f799798b84505a7637e",
       "style": "IPY_MODEL_b1ddcf1e7c0548b5baa4594b93188abf",
       "value": "<b>Task Name</b>"
      }
     },
     "2eeaa3922d334a3ea1ab259171fe58c4": {
      "model_module": "@jupyter-widgets/controls",
      "model_module_version": "1.5.0",
      "model_name": "ProgressStyleModel",
      "state": {
       "description_width": ""
      }
     },
     "2ef325ab9d7e4bb9a88b1a41bbc739b8": {
      "model_module": "@jupyter-widgets/controls",
      "model_module_version": "1.5.0",
      "model_name": "ButtonModel",
      "state": {
       "layout": "IPY_MODEL_40e98a96311844a5a4b12e043d70ba29",
       "style": "IPY_MODEL_1f34a88fd4e84f3bbb6f1581a70d5799"
      }
     },
     "2f1c8bdfe2624041b38107b8c54a93fd": {
      "model_module": "@jupyter-widgets/base",
      "model_module_version": "1.2.0",
      "model_name": "LayoutModel",
      "state": {
       "width": "60px"
      }
     },
     "2f35e1ef1a4c49649698c27aa4372b03": {
      "model_module": "@jupyter-widgets/controls",
      "model_module_version": "1.5.0",
      "model_name": "HTMLModel",
      "state": {
       "layout": "IPY_MODEL_ce922ad352cf48ce8258bc13ca8fdd0a",
       "style": "IPY_MODEL_93664f53b309438cbe5c7dcdf6d7e5a0",
       "value": "<i>test test test test test test test test test test test test test test test test test test test test test test test test </i>"
      }
     },
     "2f41641daf054441859d9f82df2fcc92": {
      "model_module": "@jupyter-widgets/controls",
      "model_module_version": "1.5.0",
      "model_name": "ButtonModel",
      "state": {
       "description": "EDIT",
       "layout": "IPY_MODEL_d63bbbd8c9df47b39969993e2fec7fe8",
       "style": "IPY_MODEL_f780826fac3f4cc9a8f48e116d091870"
      }
     },
     "2f43b848fcfc48188bdd7232c6e3dfe4": {
      "model_module": "@jupyter-widgets/controls",
      "model_module_version": "1.5.0",
      "model_name": "ButtonModel",
      "state": {
       "description": "EDIT",
       "layout": "IPY_MODEL_febf383bb26a4023b8deef1ecf7453c1",
       "style": "IPY_MODEL_432e540a35f742149d0a9adc2daf720d"
      }
     },
     "2f6d0d8ecaad4d7780995a3cc8096403": {
      "model_module": "@jupyter-widgets/controls",
      "model_module_version": "1.5.0",
      "model_name": "DescriptionStyleModel",
      "state": {
       "description_width": ""
      }
     },
     "2f7138d8777b4f3b8f21f5a3dd34b80a": {
      "model_module": "@jupyter-widgets/base",
      "model_module_version": "1.2.0",
      "model_name": "LayoutModel",
      "state": {}
     },
     "2f998c52a0fa45b390cae62de3828705": {
      "model_module": "@jupyter-widgets/controls",
      "model_module_version": "1.5.0",
      "model_name": "VBoxModel",
      "state": {
       "children": [
        "IPY_MODEL_21f3bb6b31b94fe088169fe50a08e70f",
        "IPY_MODEL_f5e5786c445444caa20da43ddb141430",
        "IPY_MODEL_c5e8766e66bd4b23b76e6d577a116bdd",
        "IPY_MODEL_7c57b19586d0424da1319b3c604ecc48"
       ],
       "layout": "IPY_MODEL_69003125c93c4e3c8a627a5dd22a554b"
      }
     },
     "2fb7894c46254b0c89d2c25d742078b1": {
      "model_module": "@jupyter-widgets/base",
      "model_module_version": "1.2.0",
      "model_name": "LayoutModel",
      "state": {}
     },
     "2fb9943e421c41a8b6350d4d3225e857": {
      "model_module": "@jupyter-widgets/controls",
      "model_module_version": "1.5.0",
      "model_name": "HTMLModel",
      "state": {
       "layout": "IPY_MODEL_c0712c5a9430471eabf0e5fc23bc8417",
       "style": "IPY_MODEL_ad2a9b6543224f01a89ec5caccc2f586",
       "value": "<font size=\"1\">Path/Path/Path/Path/</font size>"
      }
     },
     "2fca9026759848a4808bae0adef8dad2": {
      "model_module": "@jupyter-widgets/controls",
      "model_module_version": "1.5.0",
      "model_name": "DescriptionStyleModel",
      "state": {
       "description_width": ""
      }
     },
     "2fd22ecc12cd41f8a08a6f6397b67a18": {
      "model_module": "@jupyter-widgets/base",
      "model_module_version": "1.2.0",
      "model_name": "LayoutModel",
      "state": {
       "width": "60px"
      }
     },
     "301114ae15d94a2c983a8320db4d6f45": {
      "model_module": "@jupyter-widgets/base",
      "model_module_version": "1.2.0",
      "model_name": "LayoutModel",
      "state": {
       "order": "-1",
       "overflow": "visible",
       "padding": "1px",
       "width": "0px"
      }
     },
     "30380acd59654bebbb8113e50acf1fff": {
      "model_module": "@jupyter-widgets/base",
      "model_module_version": "1.2.0",
      "model_name": "LayoutModel",
      "state": {
       "order": "-1",
       "overflow": "visible",
       "padding": "1px",
       "width": "0px"
      }
     },
     "3044619e3a2a4924a7f642ed9ad7f48d": {
      "model_module": "@jupyter-widgets/base",
      "model_module_version": "1.2.0",
      "model_name": "LayoutModel",
      "state": {
       "height": "32px",
       "overflow": "visible",
       "width": "100%"
      }
     },
     "3069522c2f1c437d874a3e7d6281963d": {
      "model_module": "@jupyter-widgets/base",
      "model_module_version": "1.2.0",
      "model_name": "LayoutModel",
      "state": {}
     },
     "306e83ec62234f26825798432a3fa015": {
      "model_module": "@jupyter-widgets/controls",
      "model_module_version": "1.5.0",
      "model_name": "HBoxModel",
      "state": {
       "children": [
        "IPY_MODEL_6d6741a90b1d4fb9b044d26ab2ca2829",
        "IPY_MODEL_412bacb2e0dd4b02b8f3c64527a129f6",
        "IPY_MODEL_bb6ffa14fda14bd88be0941719c48553",
        "IPY_MODEL_9ade569d1fb641828dfbc6cb1b6584fb"
       ],
       "layout": "IPY_MODEL_e7d2a8f41c98476c9498db353cf1dfdc"
      }
     },
     "307b50710e114c18a87bb3ff61360e8b": {
      "model_module": "@jupyter-widgets/base",
      "model_module_version": "1.2.0",
      "model_name": "LayoutModel",
      "state": {
       "height": "32px",
       "overflow": "visible",
       "width": "100%"
      }
     },
     "30a4173032d4430e9edf5f0ebd4d37f6": {
      "model_module": "@jupyter-widgets/controls",
      "model_module_version": "1.5.0",
      "model_name": "HTMLModel",
      "state": {
       "layout": "IPY_MODEL_8d69423a541a40db9cf36a0a8e3554c4",
       "style": "IPY_MODEL_f097b80241224c039d80453bdd50dd0c",
       "value": "<font size=\"1\">Path/Path/Path/Path/</font size>"
      }
     },
     "30d7a6a97f164f3ebe68801ccbfe96c4": {
      "model_module": "@jupyter-widgets/controls",
      "model_module_version": "1.5.0",
      "model_name": "ButtonModel",
      "state": {
       "description": "EDIT",
       "layout": "IPY_MODEL_88bc92edffa746dfbfeb9f3f758aa11e",
       "style": "IPY_MODEL_003793475c234bc690ec1c01fcc94773"
      }
     },
     "30e0d10a258a459fb790aa71cad4fa03": {
      "model_module": "@jupyter-widgets/controls",
      "model_module_version": "1.5.0",
      "model_name": "ButtonModel",
      "state": {
       "layout": "IPY_MODEL_435d31bcd80f4f70838ac80a89860712",
       "style": "IPY_MODEL_222b1f5c48b148f29a17cd18caecba40"
      }
     },
     "30f19969761c46b19abd6599a3d98e1f": {
      "model_module": "@jupyter-widgets/controls",
      "model_module_version": "1.5.0",
      "model_name": "ButtonModel",
      "state": {
       "layout": "IPY_MODEL_19822fff28354f60a43b43efb2a87632",
       "style": "IPY_MODEL_0ef29b5165c4465e8ad99695ef4bc844"
      }
     },
     "310b0bbe04e7449aa462789095e737e2": {
      "model_module": "@jupyter-widgets/controls",
      "model_module_version": "1.5.0",
      "model_name": "ButtonModel",
      "state": {
       "layout": "IPY_MODEL_88d61f3505b649aba23b2f3e09f74e97",
       "style": "IPY_MODEL_c0e8ff104afc4ca78283394257d78d46"
      }
     },
     "311f2dd183d3415b98a66ae9c2e112a2": {
      "model_module": "@jupyter-widgets/base",
      "model_module_version": "1.2.0",
      "model_name": "LayoutModel",
      "state": {
       "border": "3px solid white",
       "flex": "1 1 0%",
       "margin": "10px",
       "min_width": "400px",
       "overflow": "visible",
       "padding": "10px",
       "width": "auto"
      }
     },
     "312f1b25c96e41bda0a15e80da803078": {
      "model_module": "@jupyter-widgets/base",
      "model_module_version": "1.2.0",
      "model_name": "LayoutModel",
      "state": {}
     },
     "3141f7e373fc48b69f38736a3283fb75": {
      "model_module": "@jupyter-widgets/controls",
      "model_module_version": "1.5.0",
      "model_name": "DescriptionStyleModel",
      "state": {
       "description_width": ""
      }
     },
     "3141fd78f79547cc8cf522198b47d3e0": {
      "model_module": "@jupyter-widgets/controls",
      "model_module_version": "1.5.0",
      "model_name": "HTMLModel",
      "state": {
       "layout": "IPY_MODEL_aa4aed5274b54b28a2c73c1bd06bc487",
       "style": "IPY_MODEL_a591df80d54942f397dc7f9b8c91f1bf",
       "value": "<i>test test test test test test test test test test test test test test test test test test test test test test test test </i>"
      }
     },
     "315e2477b1ac4c9cade32eec81c1ff56": {
      "model_module": "@jupyter-widgets/base",
      "model_module_version": "1.2.0",
      "model_name": "LayoutModel",
      "state": {
       "width": "60px"
      }
     },
     "31649d475a694be5a8dcfb23243f5e76": {
      "model_module": "@jupyter-widgets/controls",
      "model_module_version": "1.5.0",
      "model_name": "HBoxModel",
      "state": {
       "children": [
        "IPY_MODEL_90924e8f9cf64de19cc5f4e97ddc6025",
        "IPY_MODEL_250eca00a347497994ad3b14fedc8bf3",
        "IPY_MODEL_c8d79b33c8fb416daf4ef0b903e77f04",
        "IPY_MODEL_364f5835953949ea96ce3441fe99df74"
       ],
       "layout": "IPY_MODEL_973e13228e24456ea4632570714e8854"
      }
     },
     "3196023a61b94d1095a42277c8cb6245": {
      "model_module": "@jupyter-widgets/controls",
      "model_module_version": "1.5.0",
      "model_name": "ButtonStyleModel",
      "state": {}
     },
     "31a22c5454fa4697865214b47676af48": {
      "model_module": "@jupyter-widgets/base",
      "model_module_version": "1.2.0",
      "model_name": "LayoutModel",
      "state": {
       "height": "32px",
       "overflow": "visible",
       "width": "100%"
      }
     },
     "31ccc9d368f94e68b04167ed6a7d9944": {
      "model_module": "@jupyter-widgets/controls",
      "model_module_version": "1.5.0",
      "model_name": "LabelModel",
      "state": {
       "layout": "IPY_MODEL_3cdc831204424e2eba06f3a358504ffc",
       "style": "IPY_MODEL_4107047c3a594888ab71300155ffa3c9",
       "value": "   objective"
      }
     },
     "31e830022a4e4694aef29ba22e132e1e": {
      "model_module": "@jupyter-widgets/controls",
      "model_module_version": "1.5.0",
      "model_name": "ButtonStyleModel",
      "state": {}
     },
     "320cec565414450ab0221d72159d990a": {
      "model_module": "@jupyter-widgets/base",
      "model_module_version": "1.2.0",
      "model_name": "LayoutModel",
      "state": {
       "border": "3px solid white",
       "flex": "1 1 0%",
       "margin": "10px",
       "min_width": "400px",
       "overflow": "visible",
       "padding": "10px",
       "width": "auto"
      }
     },
     "3229bacf6e9846f1a7b5542fff3fedb4": {
      "model_module": "@jupyter-widgets/controls",
      "model_module_version": "1.5.0",
      "model_name": "DescriptionStyleModel",
      "state": {
       "description_width": ""
      }
     },
     "324c5025cc194077b8200939fa371e58": {
      "model_module": "@jupyter-widgets/controls",
      "model_module_version": "1.5.0",
      "model_name": "ProgressStyleModel",
      "state": {
       "description_width": ""
      }
     },
     "326168f5c05548cc8ac2e88bec9fbd22": {
      "model_module": "@jupyter-widgets/base",
      "model_module_version": "1.2.0",
      "model_name": "LayoutModel",
      "state": {
       "width": "60px"
      }
     },
     "3285b837aa8d44adae7a0089a8c190d1": {
      "model_module": "@jupyter-widgets/controls",
      "model_module_version": "1.5.0",
      "model_name": "IntProgressModel",
      "state": {
       "layout": "IPY_MODEL_8718762e90ac4a159c5dca75ef17009a",
       "style": "IPY_MODEL_42d0519129f24af2ada713a7e3cc90a8",
       "value": 30
      }
     },
     "32a2c029d1a54d24ba456c56b198c1e1": {
      "model_module": "@jupyter-widgets/controls",
      "model_module_version": "1.5.0",
      "model_name": "ButtonModel",
      "state": {
       "layout": "IPY_MODEL_ea35590c75a84948802b8ffd2acffe8e",
       "style": "IPY_MODEL_471f39e6ec9e4248a4cdf8714545e1ce"
      }
     },
     "32b25726142c4e6cb9011b69f1448c1e": {
      "model_module": "@jupyter-widgets/base",
      "model_module_version": "1.2.0",
      "model_name": "LayoutModel",
      "state": {
       "width": "60px"
      }
     },
     "32cab3eee1584d0c959429fd9186dffd": {
      "model_module": "@jupyter-widgets/controls",
      "model_module_version": "1.5.0",
      "model_name": "DescriptionStyleModel",
      "state": {
       "description_width": ""
      }
     },
     "32f543ddea89464595c65c24f7294595": {
      "model_module": "@jupyter-widgets/base",
      "model_module_version": "1.2.0",
      "model_name": "LayoutModel",
      "state": {
       "display": "flex",
       "flex_flow": "row wrap"
      }
     },
     "33178f310e684ca3aae5737d642d9861": {
      "model_module": "@jupyter-widgets/controls",
      "model_module_version": "1.5.0",
      "model_name": "IntProgressModel",
      "state": {
       "layout": "IPY_MODEL_8a218348318646a3be1422b7b2c230eb",
       "style": "IPY_MODEL_4926c3d19c9a4523ac4377e7aac6aa73",
       "value": 30
      }
     },
     "3317c15c1f6945a3a6a5d73481899823": {
      "model_module": "@jupyter-widgets/controls",
      "model_module_version": "1.5.0",
      "model_name": "ButtonStyleModel",
      "state": {}
     },
     "334d0ccd239a4004afb656b95db32de6": {
      "model_module": "@jupyter-widgets/base",
      "model_module_version": "1.2.0",
      "model_name": "LayoutModel",
      "state": {
       "height": "32px",
       "order": "-2",
       "width": "32px"
      }
     },
     "335e5326a5bb45e58df2584fa51c907d": {
      "model_module": "@jupyter-widgets/base",
      "model_module_version": "1.2.0",
      "model_name": "LayoutModel",
      "state": {
       "height": "32px",
       "overflow": "visible",
       "width": "100%"
      }
     },
     "336095cd07f04e02a1191e4eeaec156d": {
      "model_module": "@jupyter-widgets/controls",
      "model_module_version": "1.5.0",
      "model_name": "HBoxModel",
      "state": {
       "children": [
        "IPY_MODEL_dc1b433c055f40d4bc27befa08c66cb0",
        "IPY_MODEL_2c96be50fa404d8da82af1f2610c525b",
        "IPY_MODEL_40010b836b35411db0efd56440517d27",
        "IPY_MODEL_f888e19274e147ed9e8662be44bdcc79"
       ],
       "layout": "IPY_MODEL_4d0246719e05424da0d8f6fdf3699caf"
      }
     },
     "336868513dae47a0a7c5952e460a16e1": {
      "model_module": "@jupyter-widgets/controls",
      "model_module_version": "1.5.0",
      "model_name": "IntProgressModel",
      "state": {
       "layout": "IPY_MODEL_6c4ca5d0a1a34d8ebe6a7c8a7ef8405b",
       "style": "IPY_MODEL_b110d9ecc9a14ebaaebf0d5dc84f0382",
       "value": 30
      }
     },
     "3381791d088c403b99c3514f4e867dc1": {
      "model_module": "@jupyter-widgets/controls",
      "model_module_version": "1.5.0",
      "model_name": "ButtonModel",
      "state": {
       "description": "EDIT",
       "layout": "IPY_MODEL_b1d38c80a3bc43ffad8116c06e4c6965",
       "style": "IPY_MODEL_90ef41b053584148a293c93c87fd9ee5"
      }
     },
     "3389aeeb1fd2401ba28ca3bda4102b50": {
      "model_module": "@jupyter-widgets/controls",
      "model_module_version": "1.5.0",
      "model_name": "IntProgressModel",
      "state": {
       "layout": "IPY_MODEL_69dc12a4e7d242b2a2beec44ad12a7f5",
       "style": "IPY_MODEL_554be826e07147448ed251c65b80958b",
       "value": 30
      }
     },
     "3390377ff94141929abe9443a2bf0056": {
      "model_module": "@jupyter-widgets/base",
      "model_module_version": "1.2.0",
      "model_name": "LayoutModel",
      "state": {
       "height": "32px",
       "overflow": "visible",
       "width": "100%"
      }
     },
     "339bc1c3c10e47229172eee5e722161e": {
      "model_module": "@jupyter-widgets/controls",
      "model_module_version": "1.5.0",
      "model_name": "ButtonStyleModel",
      "state": {}
     },
     "33c58d5bd88943738e8074111fe0816a": {
      "model_module": "@jupyter-widgets/controls",
      "model_module_version": "1.5.0",
      "model_name": "DescriptionStyleModel",
      "state": {
       "description_width": ""
      }
     },
     "3429665f72de4e29874def7f13587747": {
      "model_module": "@jupyter-widgets/base",
      "model_module_version": "1.2.0",
      "model_name": "LayoutModel",
      "state": {
       "width": "60px"
      }
     },
     "34718b342d22450fab41246b6f0395f8": {
      "model_module": "@jupyter-widgets/controls",
      "model_module_version": "1.5.0",
      "model_name": "ButtonModel",
      "state": {
       "description": "EDIT",
       "layout": "IPY_MODEL_b7620a41453d40f0b5fed704aefdc1b7",
       "style": "IPY_MODEL_dc7ecd96b03c4c23ae83352d1b87df77"
      }
     },
     "348146acc6734a5a8eb0f837d274e25e": {
      "model_module": "@jupyter-widgets/controls",
      "model_module_version": "1.5.0",
      "model_name": "ButtonModel",
      "state": {
       "layout": "IPY_MODEL_5a80406f02c243b7888848553ce3b7cf",
       "style": "IPY_MODEL_9586fde64d6142a98b2cb7c5802b2f15"
      }
     },
     "348ae4d85fa145df8c8eb53e7687878f": {
      "model_module": "@jupyter-widgets/base",
      "model_module_version": "1.2.0",
      "model_name": "LayoutModel",
      "state": {}
     },
     "348e7f191bee416ea612634a31387ca6": {
      "model_module": "@jupyter-widgets/controls",
      "model_module_version": "1.5.0",
      "model_name": "ButtonStyleModel",
      "state": {}
     },
     "3494b62d7d554a3f87160d224ae9bf25": {
      "model_module": "@jupyter-widgets/controls",
      "model_module_version": "1.5.0",
      "model_name": "LabelModel",
      "state": {
       "layout": "IPY_MODEL_a5d301edd45345a8a46c550832b86a0c",
       "style": "IPY_MODEL_2106d2efcc44483ab5972a35f060ab9b",
       "value": "   objective"
      }
     },
     "349eed1b93a0410ea0de18477f1668ae": {
      "model_module": "@jupyter-widgets/base",
      "model_module_version": "1.2.0",
      "model_name": "LayoutModel",
      "state": {}
     },
     "34a70007ecff453ea7b91fbaad5d7713": {
      "model_module": "@jupyter-widgets/controls",
      "model_module_version": "1.5.0",
      "model_name": "DescriptionStyleModel",
      "state": {
       "description_width": ""
      }
     },
     "34bfa7f1c77b4f4ab7bd71dcca9fb0c1": {
      "model_module": "@jupyter-widgets/controls",
      "model_module_version": "1.5.0",
      "model_name": "HTMLModel",
      "state": {
       "layout": "IPY_MODEL_23d44e9f4ed84c7d802b46e8150903ee",
       "style": "IPY_MODEL_d8bb10ebdf174bff93577b9fee47b59d",
       "value": "<b>Task Name</b>"
      }
     },
     "3510f829128a44769450349a6694792a": {
      "model_module": "@jupyter-widgets/base",
      "model_module_version": "1.2.0",
      "model_name": "LayoutModel",
      "state": {
       "order": "-1",
       "overflow": "visible",
       "padding": "1px",
       "width": "0px"
      }
     },
     "3537e3fbdd5948878258fe0e0f6a5b2f": {
      "model_module": "@jupyter-widgets/controls",
      "model_module_version": "1.5.0",
      "model_name": "ButtonStyleModel",
      "state": {}
     },
     "353c300dcbe24a34b270f0994ce0ff1f": {
      "model_module": "@jupyter-widgets/controls",
      "model_module_version": "1.5.0",
      "model_name": "ButtonModel",
      "state": {
       "layout": "IPY_MODEL_da79baf52e774ac192e1f393e4026500",
       "style": "IPY_MODEL_d59521d9f9db47d29abe0f5f70b29638"
      }
     },
     "35447abf2126463b976857ab6ea5f3fc": {
      "model_module": "@jupyter-widgets/controls",
      "model_module_version": "1.5.0",
      "model_name": "HBoxModel",
      "state": {
       "children": [
        "IPY_MODEL_6fcc3a0b286a41548bcd7dd426e3d675",
        "IPY_MODEL_6de22d3365394bb8a12f20e77b20107f",
        "IPY_MODEL_130b22d218674f86803fcb44053c30a6",
        "IPY_MODEL_f5a9a3e26e09426b8d04ab7fc3c182aa"
       ],
       "layout": "IPY_MODEL_a6dff113ff224ad5991f6ee984bb4afa"
      }
     },
     "3561f41b0cdd4e8b99648651896ee2cc": {
      "model_module": "@jupyter-widgets/controls",
      "model_module_version": "1.5.0",
      "model_name": "DescriptionStyleModel",
      "state": {
       "description_width": ""
      }
     },
     "35a1a8f2884a4526a9bf0751861af503": {
      "model_module": "@jupyter-widgets/controls",
      "model_module_version": "1.5.0",
      "model_name": "ProgressStyleModel",
      "state": {
       "description_width": ""
      }
     },
     "35ad604c719742c3b7b29391e75f47f6": {
      "model_module": "@jupyter-widgets/base",
      "model_module_version": "1.2.0",
      "model_name": "LayoutModel",
      "state": {}
     },
     "35dbddead24b40bea1df35902505bbfc": {
      "model_module": "@jupyter-widgets/controls",
      "model_module_version": "1.5.0",
      "model_name": "LabelModel",
      "state": {
       "layout": "IPY_MODEL_2d4f5da4c2a04a289aea5eb791836913",
       "style": "IPY_MODEL_649229a526f944788972b5a273a57711",
       "value": "   objective"
      }
     },
     "35df06f73bb5432f8df67cb67b232b24": {
      "model_module": "@jupyter-widgets/controls",
      "model_module_version": "1.5.0",
      "model_name": "DescriptionStyleModel",
      "state": {
       "description_width": ""
      }
     },
     "35e53bb30c4541238a4a5945aea4de7c": {
      "model_module": "@jupyter-widgets/controls",
      "model_module_version": "1.5.0",
      "model_name": "ButtonStyleModel",
      "state": {}
     },
     "35e5d8661be94fc3bea38fada13662bf": {
      "model_module": "@jupyter-widgets/base",
      "model_module_version": "1.2.0",
      "model_name": "LayoutModel",
      "state": {
       "height": "32px",
       "order": "-2",
       "width": "32px"
      }
     },
     "361fa4ce807741fe88a9246b0ff42c7b": {
      "model_module": "@jupyter-widgets/base",
      "model_module_version": "1.2.0",
      "model_name": "LayoutModel",
      "state": {
       "width": "60px"
      }
     },
     "3625a21bd5cb4c589033386437d30003": {
      "model_module": "@jupyter-widgets/base",
      "model_module_version": "1.2.0",
      "model_name": "LayoutModel",
      "state": {}
     },
     "362eb6e5df00459eae4481943d075a79": {
      "model_module": "@jupyter-widgets/controls",
      "model_module_version": "1.5.0",
      "model_name": "LabelModel",
      "state": {
       "layout": "IPY_MODEL_aca625fa5d8c434ba6331ceb338fa79d",
       "style": "IPY_MODEL_e3076515c5414fb7bd79e92263a27aed",
       "value": "   objective"
      }
     },
     "36331c3f9a1a4140864f3f967017e667": {
      "model_module": "@jupyter-widgets/controls",
      "model_module_version": "1.5.0",
      "model_name": "HTMLModel",
      "state": {
       "layout": "IPY_MODEL_65f2413f1be94c1c92f80de762d9a406",
       "style": "IPY_MODEL_280389f5be8a48689eb48a3b6e14306c",
       "value": "<i>test test test test test test test test test test test test test test test test test test test test test test test test </i>"
      }
     },
     "364f5835953949ea96ce3441fe99df74": {
      "model_module": "@jupyter-widgets/controls",
      "model_module_version": "1.5.0",
      "model_name": "ButtonModel",
      "state": {
       "description": "EDIT",
       "layout": "IPY_MODEL_56d66a2b76a643ae8661fbc3be2daaac",
       "style": "IPY_MODEL_fbf760c6ca514d9bbcc42cb9e97fa10e"
      }
     },
     "368ebe0eab95434ca957db3c8be8dadc": {
      "model_module": "@jupyter-widgets/base",
      "model_module_version": "1.2.0",
      "model_name": "LayoutModel",
      "state": {
       "height": "32px",
       "order": "-2",
       "width": "32px"
      }
     },
     "368f0b29f2574a15849d86a96c7a546a": {
      "model_module": "@jupyter-widgets/controls",
      "model_module_version": "1.5.0",
      "model_name": "ButtonModel",
      "state": {
       "layout": "IPY_MODEL_26528b3f11324c749a67ae51a79ea495",
       "style": "IPY_MODEL_7e139d8ef1ff43d1a136427d8efaf5a7"
      }
     },
     "36c12025099645d9858626b3340dbb1e": {
      "model_module": "@jupyter-widgets/base",
      "model_module_version": "1.2.0",
      "model_name": "LayoutModel",
      "state": {}
     },
     "36c2308fc6e84b00ac8daf19816bb1ef": {
      "model_module": "@jupyter-widgets/controls",
      "model_module_version": "1.5.0",
      "model_name": "ButtonModel",
      "state": {
       "description": "EDIT",
       "layout": "IPY_MODEL_a7a7b64cffec4df6ae411b6252f3c09c",
       "style": "IPY_MODEL_a1561b623c1c479d96036d77cb53d722"
      }
     },
     "36d5206d89f640b4be1527145e46fe0f": {
      "model_module": "@jupyter-widgets/controls",
      "model_module_version": "1.5.0",
      "model_name": "BoxModel",
      "state": {
       "layout": "IPY_MODEL_d34e01239401470088034dd8c521222a"
      }
     },
     "36de66e7d2a24cdc878d521496003dcd": {
      "model_module": "@jupyter-widgets/base",
      "model_module_version": "1.2.0",
      "model_name": "LayoutModel",
      "state": {
       "width": "60px"
      }
     },
     "36ee3f1ecdf34e029673dc175dc321ae": {
      "model_module": "@jupyter-widgets/controls",
      "model_module_version": "1.5.0",
      "model_name": "DescriptionStyleModel",
      "state": {
       "description_width": ""
      }
     },
     "36f19ef96fb4447fa0a824e9c7bbed94": {
      "model_module": "@jupyter-widgets/controls",
      "model_module_version": "1.5.0",
      "model_name": "ProgressStyleModel",
      "state": {
       "description_width": ""
      }
     },
     "370c109cd1c44c7c9c1ce43a38c7b89c": {
      "model_module": "@jupyter-widgets/base",
      "model_module_version": "1.2.0",
      "model_name": "LayoutModel",
      "state": {}
     },
     "3729072c16f5440c870e655c07f168d1": {
      "model_module": "@jupyter-widgets/controls",
      "model_module_version": "1.5.0",
      "model_name": "HTMLModel",
      "state": {
       "layout": "IPY_MODEL_6ed1b1640dca40b287a4cfd483c0d8da",
       "style": "IPY_MODEL_79ed894b9af440a09e2242d1b8903a19",
       "value": "<b>Task Name</b>"
      }
     },
     "3738aad10832479ebf54caefd80bf41c": {
      "model_module": "@jupyter-widgets/controls",
      "model_module_version": "1.5.0",
      "model_name": "DropdownModel",
      "state": {
       "_options_labels": [
        "Any",
        "Arc",
        "Solar",
        "Void"
       ],
       "index": 0,
       "layout": "IPY_MODEL_56b87d7d00c54e96938caab1e6aa41f1",
       "style": "IPY_MODEL_4fdc899d603d478c92ed92766dd426a4"
      }
     },
     "374350e5afe341f58118a51e6e9744bf": {
      "model_module": "@jupyter-widgets/base",
      "model_module_version": "1.2.0",
      "model_name": "LayoutModel",
      "state": {
       "order": "-1",
       "overflow": "visible",
       "padding": "1px",
       "width": "0px"
      }
     },
     "375fa7633d494980bd2112fb0347eb3b": {
      "model_module": "@jupyter-widgets/base",
      "model_module_version": "1.2.0",
      "model_name": "LayoutModel",
      "state": {
       "height": "32px",
       "overflow": "visible",
       "width": "100%"
      }
     },
     "3765b7f25705488ea9d3b277c0c2bc28": {
      "model_module": "@jupyter-widgets/controls",
      "model_module_version": "1.5.0",
      "model_name": "LabelModel",
      "state": {
       "layout": "IPY_MODEL_8131f8afe4174fc2b6e0281abf90f90e",
       "style": "IPY_MODEL_b78fcc5797074383ae3299e00dc32c68",
       "value": "   objective"
      }
     },
     "3774d2f333e147fe81f8e3b5a50f0404": {
      "model_module": "@jupyter-widgets/base",
      "model_module_version": "1.2.0",
      "model_name": "LayoutModel",
      "state": {}
     },
     "3796f874db6644cd946b51bef4606515": {
      "model_module": "@jupyter-widgets/controls",
      "model_module_version": "1.5.0",
      "model_name": "IntProgressModel",
      "state": {
       "layout": "IPY_MODEL_6ef07bddccbd49bf81e9f8f7a30f76d0",
       "style": "IPY_MODEL_093f7f1f00e448e9a93c51ccdbb13aa0",
       "value": 30
      }
     },
     "379b627b8be54d66ace415b55e260c53": {
      "model_module": "@jupyter-widgets/controls",
      "model_module_version": "1.5.0",
      "model_name": "ButtonModel",
      "state": {
       "description": "Refresh",
       "layout": "IPY_MODEL_7821d787d71b45e5a8c4921ef33fe790",
       "style": "IPY_MODEL_bf7b3bea655540ca8563da9fec06ca70"
      }
     },
     "37a4010ad62e47a5a8b31b6f60719153": {
      "model_module": "@jupyter-widgets/controls",
      "model_module_version": "1.5.0",
      "model_name": "ButtonModel",
      "state": {
       "layout": "IPY_MODEL_72daf6efdf144bf39c0790d6f7b7b892",
       "style": "IPY_MODEL_39f976eb2c604c359212103d8ef7f98d"
      }
     },
     "37a423d70ade4842b2d91574ab7a6b79": {
      "model_module": "@jupyter-widgets/controls",
      "model_module_version": "1.5.0",
      "model_name": "DescriptionStyleModel",
      "state": {
       "description_width": ""
      }
     },
     "37f66e8ef94b43eeaf91ba0b58ed55ea": {
      "model_module": "@jupyter-widgets/controls",
      "model_module_version": "1.5.0",
      "model_name": "ButtonModel",
      "state": {
       "description": "EDIT",
       "layout": "IPY_MODEL_46e6d78c745b45bba01c7a580a77d496",
       "style": "IPY_MODEL_c335e1adc222496393a31dcdf713cc4a"
      }
     },
     "3800e4c3c20d40cd98e4e6319ce9b4ee": {
      "model_module": "@jupyter-widgets/controls",
      "model_module_version": "1.5.0",
      "model_name": "DescriptionStyleModel",
      "state": {
       "description_width": ""
      }
     },
     "3817602917d94955be647f39e178c06b": {
      "model_module": "@jupyter-widgets/controls",
      "model_module_version": "1.5.0",
      "model_name": "LabelModel",
      "state": {
       "layout": "IPY_MODEL_1a765372f03242e7b17378b2179b07dd",
       "style": "IPY_MODEL_295272ef9e6a4daea284d3bbdc340e4b",
       "value": "   objective"
      }
     },
     "3819c7f2e6c94ef780a4d7fbcb78bf15": {
      "model_module": "@jupyter-widgets/controls",
      "model_module_version": "1.5.0",
      "model_name": "DescriptionStyleModel",
      "state": {
       "description_width": ""
      }
     },
     "38539604a68d4f3ba052e1e22b78a754": {
      "model_module": "@jupyter-widgets/controls",
      "model_module_version": "1.5.0",
      "model_name": "ButtonStyleModel",
      "state": {}
     },
     "386e71058101432696ca2af851909cf1": {
      "model_module": "@jupyter-widgets/controls",
      "model_module_version": "1.5.0",
      "model_name": "ButtonStyleModel",
      "state": {}
     },
     "389c20fb4e9443d8a294acf0087c6952": {
      "model_module": "@jupyter-widgets/base",
      "model_module_version": "1.2.0",
      "model_name": "LayoutModel",
      "state": {
       "width": "60px"
      }
     },
     "38a3db7628104b62b865d683e8f6aaa7": {
      "model_module": "@jupyter-widgets/base",
      "model_module_version": "1.2.0",
      "model_name": "LayoutModel",
      "state": {
       "display": "flex",
       "flex_flow": "row wrap"
      }
     },
     "38c4b9f3b10b4c42b1806d248057ed3e": {
      "model_module": "@jupyter-widgets/base",
      "model_module_version": "1.2.0",
      "model_name": "LayoutModel",
      "state": {}
     },
     "38d260057626462a9673ddfad126be8c": {
      "model_module": "@jupyter-widgets/controls",
      "model_module_version": "1.5.0",
      "model_name": "IntProgressModel",
      "state": {
       "layout": "IPY_MODEL_ea541392baac45aa807e692e5f33cf02",
       "style": "IPY_MODEL_fa3371a9d05f412e851d676d607574c3",
       "value": 30
      }
     },
     "3908e6cf791c4a47a056ad57d6e4d92b": {
      "model_module": "@jupyter-widgets/controls",
      "model_module_version": "1.5.0",
      "model_name": "HBoxModel",
      "state": {
       "children": [
        "IPY_MODEL_30e0d10a258a459fb790aa71cad4fa03",
        "IPY_MODEL_9770921d3866415091686282b16209c9",
        "IPY_MODEL_8249b550a9984d8e9b0c2305cea1a1c4",
        "IPY_MODEL_c50578f149ce4bd6bfd140729d650680"
       ],
       "layout": "IPY_MODEL_1ad786889574454bad2b162d2aa566d0"
      }
     },
     "3913d657dec946eabfb61eaa7631dc1f": {
      "model_module": "@jupyter-widgets/controls",
      "model_module_version": "1.5.0",
      "model_name": "ButtonStyleModel",
      "state": {}
     },
     "39231fccceab4b8baf52d8924b92a1d7": {
      "model_module": "@jupyter-widgets/base",
      "model_module_version": "1.2.0",
      "model_name": "LayoutModel",
      "state": {
       "order": "-1",
       "overflow": "visible",
       "padding": "1px",
       "width": "0px"
      }
     },
     "393a2ca02f30439cbe42a107dddfe0eb": {
      "model_module": "@jupyter-widgets/controls",
      "model_module_version": "1.5.0",
      "model_name": "ButtonModel",
      "state": {
       "description": "EDIT",
       "layout": "IPY_MODEL_8eca1375ca874ea0b987a3300368359b",
       "style": "IPY_MODEL_be8e35d842a342f3ae315af8bf92ae03"
      }
     },
     "393bdc790a9f41be9ec60c108f6e0782": {
      "model_module": "@jupyter-widgets/base",
      "model_module_version": "1.2.0",
      "model_name": "LayoutModel",
      "state": {
       "height": "32px",
       "overflow": "visible",
       "width": "100%"
      }
     },
     "3944e0970dc149b59755892225871dff": {
      "model_module": "@jupyter-widgets/controls",
      "model_module_version": "1.5.0",
      "model_name": "DescriptionStyleModel",
      "state": {
       "description_width": ""
      }
     },
     "39c80243436d40a8a5cfbef6bb6b0738": {
      "model_module": "@jupyter-widgets/base",
      "model_module_version": "1.2.0",
      "model_name": "LayoutModel",
      "state": {
       "width": "60px"
      }
     },
     "39d348f8345b412791a5e3dbc6f8ecc0": {
      "model_module": "@jupyter-widgets/base",
      "model_module_version": "1.2.0",
      "model_name": "LayoutModel",
      "state": {}
     },
     "39e2e0438f964bc6aa5a4a5ab90774ce": {
      "model_module": "@jupyter-widgets/base",
      "model_module_version": "1.2.0",
      "model_name": "LayoutModel",
      "state": {
       "height": "32px",
       "overflow": "visible",
       "width": "100%"
      }
     },
     "39f3f87bedc44a3ea655c3ea1dc34cf5": {
      "model_module": "@jupyter-widgets/controls",
      "model_module_version": "1.5.0",
      "model_name": "DescriptionStyleModel",
      "state": {
       "description_width": ""
      }
     },
     "39f976eb2c604c359212103d8ef7f98d": {
      "model_module": "@jupyter-widgets/controls",
      "model_module_version": "1.5.0",
      "model_name": "ButtonStyleModel",
      "state": {}
     },
     "39fa15ca266c428792f1a45ab55834f2": {
      "model_module": "@jupyter-widgets/controls",
      "model_module_version": "1.5.0",
      "model_name": "DescriptionStyleModel",
      "state": {
       "description_width": ""
      }
     },
     "3a110422a27d4dc6b6e278d8ca1a9d57": {
      "model_module": "@jupyter-widgets/controls",
      "model_module_version": "1.5.0",
      "model_name": "ButtonStyleModel",
      "state": {}
     },
     "3a335744688f4615b2303df9212dc605": {
      "model_module": "@jupyter-widgets/controls",
      "model_module_version": "1.5.0",
      "model_name": "ButtonModel",
      "state": {
       "layout": "IPY_MODEL_adfb0b852e854e489fc2d6722c48ea67",
       "style": "IPY_MODEL_3ebe2d11c2474bcdba1248ad6aa7d34a"
      }
     },
     "3a41f52d51854d3cb3649057f695b044": {
      "model_module": "@jupyter-widgets/base",
      "model_module_version": "1.2.0",
      "model_name": "LayoutModel",
      "state": {
       "width": "60px"
      }
     },
     "3a4681de3ffd4ccc9eae1cfe08c938a3": {
      "model_module": "@jupyter-widgets/controls",
      "model_module_version": "1.5.0",
      "model_name": "DescriptionStyleModel",
      "state": {
       "description_width": ""
      }
     },
     "3a4c3478410c4084a536d1b898a73ba8": {
      "model_module": "@jupyter-widgets/controls",
      "model_module_version": "1.5.0",
      "model_name": "HBoxModel",
      "state": {
       "children": [
        "IPY_MODEL_efe000f69a5f47c4b6d070de5b7ae372",
        "IPY_MODEL_7d3648baf15b4d6482656933d232641d",
        "IPY_MODEL_14fb2e119a0748cda152f1c2afcbcde1",
        "IPY_MODEL_1e876ef3bdb64566a19f0f007144bb8c"
       ],
       "layout": "IPY_MODEL_154c5fc19e384297a4ee494c72f97c82"
      }
     },
     "3a55f792690747f4864f396b6b361df2": {
      "model_module": "@jupyter-widgets/controls",
      "model_module_version": "1.5.0",
      "model_name": "ButtonModel",
      "state": {
       "description": "EDIT",
       "layout": "IPY_MODEL_5653af6a79124eb7bccc07de800b2f8c",
       "style": "IPY_MODEL_b1559b78b05c42b399293c0de526fbbb"
      }
     },
     "3a643641460946fa8ef8a56080c85026": {
      "model_module": "@jupyter-widgets/controls",
      "model_module_version": "1.5.0",
      "model_name": "LabelModel",
      "state": {
       "layout": "IPY_MODEL_3510f829128a44769450349a6694792a",
       "style": "IPY_MODEL_52efd42bb8be41e8ba1add3ac509efe0",
       "value": "   objective"
      }
     },
     "3a660de6fed5490cad0bc2387e40b659": {
      "model_module": "@jupyter-widgets/base",
      "model_module_version": "1.2.0",
      "model_name": "LayoutModel",
      "state": {
       "height": "32px",
       "overflow": "visible",
       "width": "100%"
      }
     },
     "3a93478b47f64df7ad61ce521e0917f7": {
      "model_module": "@jupyter-widgets/controls",
      "model_module_version": "1.5.0",
      "model_name": "ButtonStyleModel",
      "state": {}
     },
     "3aa2a8e2b388405cb3664642dd5bd3af": {
      "model_module": "@jupyter-widgets/controls",
      "model_module_version": "1.5.0",
      "model_name": "LabelModel",
      "state": {
       "layout": "IPY_MODEL_e7a10ef04ce44afebc3a7b1a71fbcfeb",
       "style": "IPY_MODEL_d133a71a325d4c518c10a28b2af587b8",
       "value": "   objective"
      }
     },
     "3acf9c355aba40b886f289a22e5bf180": {
      "model_module": "@jupyter-widgets/controls",
      "model_module_version": "1.5.0",
      "model_name": "ProgressStyleModel",
      "state": {
       "description_width": ""
      }
     },
     "3af639af078f45c88f6750645cd8594a": {
      "model_module": "@jupyter-widgets/controls",
      "model_module_version": "1.5.0",
      "model_name": "DescriptionStyleModel",
      "state": {
       "description_width": ""
      }
     },
     "3b04dd0585834d5bb279532a98ee66dd": {
      "model_module": "@jupyter-widgets/base",
      "model_module_version": "1.2.0",
      "model_name": "LayoutModel",
      "state": {
       "order": "-1",
       "overflow": "visible",
       "padding": "1px",
       "width": "0px"
      }
     },
     "3b15d47970804b11b6e5b0284e89e107": {
      "model_module": "@jupyter-widgets/controls",
      "model_module_version": "1.5.0",
      "model_name": "ButtonModel",
      "state": {
       "layout": "IPY_MODEL_7a7ba250311c4f6c8a36621ae3291c84",
       "style": "IPY_MODEL_476c1c26cbee4b958c506aab6db77b99"
      }
     },
     "3b1ce7fb80c946c3906f277c63e5cf35": {
      "model_module": "@jupyter-widgets/controls",
      "model_module_version": "1.5.0",
      "model_name": "VBoxModel",
      "state": {
       "children": [
        "IPY_MODEL_d9b1b73f87b94b07beddf619343f9e90",
        "IPY_MODEL_84bf35a7a498408699c4c9d9aaed53cb",
        "IPY_MODEL_13ef2408453f4174a4bde31080652d0b",
        "IPY_MODEL_8f04495737b2497c900e3240aecad741"
       ],
       "layout": "IPY_MODEL_55326b6a947f442da2963b37034d98cd"
      }
     },
     "3b1d48d8c4004ef5bd3c8a1872927485": {
      "model_module": "@jupyter-widgets/controls",
      "model_module_version": "1.5.0",
      "model_name": "ButtonStyleModel",
      "state": {}
     },
     "3b36043821494c19a075702aa0b0124e": {
      "model_module": "@jupyter-widgets/controls",
      "model_module_version": "1.5.0",
      "model_name": "ButtonStyleModel",
      "state": {}
     },
     "3b3669ed9e21481f9579d6d75eb62b22": {
      "model_module": "@jupyter-widgets/controls",
      "model_module_version": "1.5.0",
      "model_name": "DescriptionStyleModel",
      "state": {
       "description_width": ""
      }
     },
     "3ba438a1e4784647bc98c64816fddd2f": {
      "model_module": "@jupyter-widgets/controls",
      "model_module_version": "1.5.0",
      "model_name": "IntProgressModel",
      "state": {
       "layout": "IPY_MODEL_8ea54b08dab8427495aa1d8521f321fd",
       "style": "IPY_MODEL_81e47ce056a346149041ad4e29d6664c",
       "value": 30
      }
     },
     "3bb5a253350e45569a37154f4e0b425c": {
      "model_module": "@jupyter-widgets/controls",
      "model_module_version": "1.5.0",
      "model_name": "ButtonStyleModel",
      "state": {}
     },
     "3bb8ab43e1be4c2aa700f39bff9377e6": {
      "model_module": "@jupyter-widgets/controls",
      "model_module_version": "1.5.0",
      "model_name": "ProgressStyleModel",
      "state": {
       "description_width": ""
      }
     },
     "3bbc51d087d54e78a1703f086d3381af": {
      "model_module": "@jupyter-widgets/controls",
      "model_module_version": "1.5.0",
      "model_name": "HTMLModel",
      "state": {
       "layout": "IPY_MODEL_0ec02ea18e92444584be63ae91b8b248",
       "style": "IPY_MODEL_088e01e3dcc84001841fbce2f852db4a",
       "value": "<font size=\"1\">Path/Path/Path/Path/</font size>"
      }
     },
     "3bd6dbf9bf0b4eb099f75c39d3663b57": {
      "model_module": "@jupyter-widgets/controls",
      "model_module_version": "1.5.0",
      "model_name": "ButtonModel",
      "state": {
       "layout": "IPY_MODEL_af149845fb024c2586388351f3f2cae6",
       "style": "IPY_MODEL_38539604a68d4f3ba052e1e22b78a754"
      }
     },
     "3be07d41e3dc4155a0e2ab15b1a7baaf": {
      "model_module": "@jupyter-widgets/base",
      "model_module_version": "1.2.0",
      "model_name": "LayoutModel",
      "state": {
       "width": "60px"
      }
     },
     "3bf74ac0473445188c8cc163ddc8ada7": {
      "model_module": "@jupyter-widgets/controls",
      "model_module_version": "1.5.0",
      "model_name": "DescriptionStyleModel",
      "state": {
       "description_width": ""
      }
     },
     "3c0e7244aa0648c880a1eedeb242a619": {
      "model_module": "@jupyter-widgets/controls",
      "model_module_version": "1.5.0",
      "model_name": "DescriptionStyleModel",
      "state": {
       "description_width": ""
      }
     },
     "3c1a84afb72849228193ce1be678c76f": {
      "model_module": "@jupyter-widgets/controls",
      "model_module_version": "1.5.0",
      "model_name": "ButtonModel",
      "state": {
       "layout": "IPY_MODEL_c8406ec3cc144bb09712e4899b20ee26",
       "style": "IPY_MODEL_5de4389e690f4a509dc0298f915df35f"
      }
     },
     "3c2e15f065ea4c6da57a6026cb30e8f4": {
      "model_module": "@jupyter-widgets/base",
      "model_module_version": "1.2.0",
      "model_name": "LayoutModel",
      "state": {
       "order": "-1",
       "overflow": "visible",
       "padding": "1px",
       "width": "0px"
      }
     },
     "3c3069647007465b9f034cace0274f5e": {
      "model_module": "@jupyter-widgets/controls",
      "model_module_version": "1.5.0",
      "model_name": "IntProgressModel",
      "state": {
       "layout": "IPY_MODEL_c129f402e7b54d09b1e314bedf531d53",
       "style": "IPY_MODEL_949eda63ffa64a87a8aa9e66ebc14dc1",
       "value": 30
      }
     },
     "3c4497e486ea46e3b6975ca2610649d3": {
      "model_module": "@jupyter-widgets/controls",
      "model_module_version": "1.5.0",
      "model_name": "LabelModel",
      "state": {
       "layout": "IPY_MODEL_7c7af3fe8dd2451ca2f9c85277c14545",
       "style": "IPY_MODEL_bbb8d1b731f743759b69040d05e3896e",
       "value": "   objective"
      }
     },
     "3c4bb148c29c4217a8e890e13cedd015": {
      "model_module": "@jupyter-widgets/controls",
      "model_module_version": "1.5.0",
      "model_name": "HBoxModel",
      "state": {
       "children": [
        "IPY_MODEL_2336d76762644f18a601365fdd5547e1",
        "IPY_MODEL_3ba438a1e4784647bc98c64816fddd2f",
        "IPY_MODEL_c6bf23f28c144be79eafe7c19725a796",
        "IPY_MODEL_2e13c660943b468b99a1442d38a769c4"
       ],
       "layout": "IPY_MODEL_71171584e032496e9761930dee56930f"
      }
     },
     "3c4be276c7814aeebc7d37a584b8842b": {
      "model_module": "@jupyter-widgets/controls",
      "model_module_version": "1.5.0",
      "model_name": "IntProgressModel",
      "state": {
       "layout": "IPY_MODEL_ce076a479a184d539faf54483dd1ad8a",
       "style": "IPY_MODEL_2332835519a94f6b95d9471f1e684950",
       "value": 30
      }
     },
     "3c5096cbfa9b43228119861c9663109d": {
      "model_module": "@jupyter-widgets/controls",
      "model_module_version": "1.5.0",
      "model_name": "ProgressStyleModel",
      "state": {
       "description_width": ""
      }
     },
     "3c9c61f8f2a348e0bcabe64aa007b3da": {
      "model_module": "@jupyter-widgets/controls",
      "model_module_version": "1.5.0",
      "model_name": "ButtonStyleModel",
      "state": {}
     },
     "3cb2246057df4e6399d0031ab3696a6e": {
      "model_module": "@jupyter-widgets/base",
      "model_module_version": "1.2.0",
      "model_name": "LayoutModel",
      "state": {
       "width": "60px"
      }
     },
     "3cc09f57fac44c87932f8fa0f06031a4": {
      "model_module": "@jupyter-widgets/controls",
      "model_module_version": "1.5.0",
      "model_name": "HTMLModel",
      "state": {
       "layout": "IPY_MODEL_38a3db7628104b62b865d683e8f6aaa7",
       "style": "IPY_MODEL_2453ad42b85440edb0291e6e4e1e3470",
       "value": "<i>test test test test test test test test test test test test test test test test test test test test test test test test </i>"
      }
     },
     "3cc3b16b2456479d888c38a05fdc4b22": {
      "model_module": "@jupyter-widgets/controls",
      "model_module_version": "1.5.0",
      "model_name": "DescriptionStyleModel",
      "state": {
       "description_width": ""
      }
     },
     "3cdc831204424e2eba06f3a358504ffc": {
      "model_module": "@jupyter-widgets/base",
      "model_module_version": "1.2.0",
      "model_name": "LayoutModel",
      "state": {
       "order": "-1",
       "overflow": "visible",
       "padding": "1px",
       "width": "0px"
      }
     },
     "3cef4f6a274d40f0be429615ed339be2": {
      "model_module": "@jupyter-widgets/controls",
      "model_module_version": "1.5.0",
      "model_name": "VBoxModel",
      "state": {
       "children": [
        "IPY_MODEL_8ee1870c8f2e41ccbfa6cb6e837ef8ca",
        "IPY_MODEL_1972915a9f004df4826d0182e50ae19b",
        "IPY_MODEL_88318ed3b7fc4ea2893f9d90bd9763a1",
        "IPY_MODEL_68034236a4974836be6e499f0f4939ac",
        "IPY_MODEL_3e73fe68fe5d4079a92a32b9101cdc9a",
        "IPY_MODEL_d1e5c09ce4f245089b92e6faecb7d337"
       ],
       "layout": "IPY_MODEL_ebb80aa2ae9d4e21b9afa1fc8efd3dac"
      }
     },
     "3cf967d5ca3c482d9ad23638fe3fdd7a": {
      "model_module": "@jupyter-widgets/base",
      "model_module_version": "1.2.0",
      "model_name": "LayoutModel",
      "state": {
       "order": "-1",
       "overflow": "visible",
       "padding": "1px",
       "width": "0px"
      }
     },
     "3d1489b5a3024a85aac5d5b52161099d": {
      "model_module": "@jupyter-widgets/base",
      "model_module_version": "1.2.0",
      "model_name": "LayoutModel",
      "state": {
       "order": "-1",
       "overflow": "visible",
       "padding": "1px",
       "width": "0px"
      }
     },
     "3d1509fc032a47d1b25c686fe094e47e": {
      "model_module": "@jupyter-widgets/base",
      "model_module_version": "1.2.0",
      "model_name": "LayoutModel",
      "state": {
       "overflow": "visible",
       "width": "100%"
      }
     },
     "3d1a7a21918c4dc3bf4e5e49d4f446a8": {
      "model_module": "@jupyter-widgets/controls",
      "model_module_version": "1.5.0",
      "model_name": "ButtonStyleModel",
      "state": {}
     },
     "3d1db439eb0e49a69f3f9c1a8d0a487c": {
      "model_module": "@jupyter-widgets/controls",
      "model_module_version": "1.5.0",
      "model_name": "ButtonModel",
      "state": {
       "description": "EDIT",
       "layout": "IPY_MODEL_9d19de54596c4f019fb73435a4e52bec",
       "style": "IPY_MODEL_1e6002d37194493badf6235fef73b5c0"
      }
     },
     "3d4819ca5d2f478995c052a27b7ce2a7": {
      "model_module": "@jupyter-widgets/controls",
      "model_module_version": "1.5.0",
      "model_name": "ButtonStyleModel",
      "state": {}
     },
     "3d4e94091e024dd3b9aad421eb063854": {
      "model_module": "@jupyter-widgets/controls",
      "model_module_version": "1.5.0",
      "model_name": "IntProgressModel",
      "state": {
       "layout": "IPY_MODEL_cfd1b0b372f342b0a1a3a7bec13de375",
       "style": "IPY_MODEL_478dea6187ed4175befebefdb6fc3fe3",
       "value": 30
      }
     },
     "3d6b05d8835f40319141d029ea9c1f35": {
      "model_module": "@jupyter-widgets/base",
      "model_module_version": "1.2.0",
      "model_name": "LayoutModel",
      "state": {
       "order": "-1",
       "overflow": "visible",
       "padding": "1px",
       "width": "0px"
      }
     },
     "3d74afa326164de9be0e57c2714eaa02": {
      "model_module": "@jupyter-widgets/base",
      "model_module_version": "1.2.0",
      "model_name": "LayoutModel",
      "state": {}
     },
     "3d8faf3fc8ac48489bda3730c8cecbd5": {
      "model_module": "@jupyter-widgets/controls",
      "model_module_version": "1.5.0",
      "model_name": "HBoxModel",
      "state": {
       "children": [
        "IPY_MODEL_283e3e7b20a54a8096c4a74023c1677f",
        "IPY_MODEL_9b5af9e15f84465f8022acb9e83d0382",
        "IPY_MODEL_e53b711713d94a2887126d4552a92631",
        "IPY_MODEL_61c83ad38b0e4ed38f025180053cb2fa"
       ],
       "layout": "IPY_MODEL_030da210e4f54ea793269dd18d799a09"
      }
     },
     "3dc96a0ec1b949c9bb26f0c4924b4a1b": {
      "model_module": "@jupyter-widgets/controls",
      "model_module_version": "1.5.0",
      "model_name": "HBoxModel",
      "state": {
       "children": [
        "IPY_MODEL_a8196d2477e447e09797ec3684500a0b",
        "IPY_MODEL_25f79d4174324b1fb1ee365e751d755e",
        "IPY_MODEL_6c807feb806b462da611d465414405d6",
        "IPY_MODEL_6df23453a6934e1abf941969f23ffb9b"
       ],
       "layout": "IPY_MODEL_52fe85efae9f44c4b8e602506df9d5a1"
      }
     },
     "3df004c8217641f2b3c2c263fb6b4a5b": {
      "model_module": "@jupyter-widgets/base",
      "model_module_version": "1.2.0",
      "model_name": "LayoutModel",
      "state": {
       "width": "60px"
      }
     },
     "3df2cb35d5cf4e1eab336ec9fe4cc33c": {
      "model_module": "@jupyter-widgets/controls",
      "model_module_version": "1.5.0",
      "model_name": "ButtonModel",
      "state": {
       "layout": "IPY_MODEL_937ae1ebc2254088b7feda5f9e1b4803",
       "style": "IPY_MODEL_e65dc2deff7e4e6b997999bf3f9b8f16"
      }
     },
     "3e10b019855c425ba034e147e4de9594": {
      "model_module": "@jupyter-widgets/base",
      "model_module_version": "1.2.0",
      "model_name": "LayoutModel",
      "state": {
       "overflow": "visible",
       "width": "100%"
      }
     },
     "3e2db6ab96d34918872141ff6e5e7e3c": {
      "model_module": "@jupyter-widgets/controls",
      "model_module_version": "1.5.0",
      "model_name": "HBoxModel",
      "state": {
       "children": [
        "IPY_MODEL_0ef43c10b33d4e089145046d6b0ba49e",
        "IPY_MODEL_d34e808bef304de7b57f896012e30e8c",
        "IPY_MODEL_bf8cd4e4d26140fdb941c120df20f237",
        "IPY_MODEL_5e5ee839d53948d8a36627b8d5292781"
       ],
       "layout": "IPY_MODEL_c7ac66f422a141799118328120b642b5"
      }
     },
     "3e316825ba434134a0141aa4aace433d": {
      "model_module": "@jupyter-widgets/controls",
      "model_module_version": "1.5.0",
      "model_name": "IntProgressModel",
      "state": {
       "layout": "IPY_MODEL_719dfffb5d9f465e9e811a0b2a19c181",
       "style": "IPY_MODEL_1307805817c44e9f9fcd20964a62d95e",
       "value": 30
      }
     },
     "3e418c6d868d428ab0e44b7f8c882cb5": {
      "model_module": "@jupyter-widgets/controls",
      "model_module_version": "1.5.0",
      "model_name": "DescriptionStyleModel",
      "state": {
       "description_width": ""
      }
     },
     "3e6acdf682084b75aab19f46138bee30": {
      "model_module": "@jupyter-widgets/controls",
      "model_module_version": "1.5.0",
      "model_name": "VBoxModel",
      "state": {
       "children": [
        "IPY_MODEL_a6bd4a0a81ed45a7a48a9a1515a0d3d4",
        "IPY_MODEL_25bb9221431340efaf640bf2bf023343",
        "IPY_MODEL_48399e0810964ac5a995d9f109d20db3",
        "IPY_MODEL_bf8355b09c214a6fa4139b9d87a91274"
       ],
       "layout": "IPY_MODEL_20b2e71877c9440aa1b53abbdfcf1797"
      }
     },
     "3e6c95c96be644b8b7121b8d25d45139": {
      "model_module": "@jupyter-widgets/controls",
      "model_module_version": "1.5.0",
      "model_name": "HBoxModel",
      "state": {
       "children": [
        "IPY_MODEL_425c8fceb5244b31951367a8c784f65d",
        "IPY_MODEL_269560d9d939486f8696d2fd746125a8",
        "IPY_MODEL_f40981de02984cb3b0945679102706ff",
        "IPY_MODEL_9a9de4cd1c434e9b8ea02ef7e690ff50"
       ],
       "layout": "IPY_MODEL_46d0cab546f346d2a77b3aeae32db1b6"
      }
     },
     "3e7240bfa16c43b2be147008f248af49": {
      "model_module": "@jupyter-widgets/base",
      "model_module_version": "1.2.0",
      "model_name": "LayoutModel",
      "state": {
       "overflow": "visible",
       "width": "100%"
      }
     },
     "3e73fe68fe5d4079a92a32b9101cdc9a": {
      "model_module": "@jupyter-widgets/controls",
      "model_module_version": "1.5.0",
      "model_name": "HBoxModel",
      "state": {
       "children": [
        "IPY_MODEL_e697916457294c8eb7fdba2e340ae93e",
        "IPY_MODEL_af5483993d7448c69c45d90de0e34a5f",
        "IPY_MODEL_0f5284bf03bc471cab50f0211711556d",
        "IPY_MODEL_9bf702da25f7490b87e2b593bac101ff"
       ],
       "layout": "IPY_MODEL_c8b83db90cc64190957dc3104a978b18"
      }
     },
     "3e7fc72d08e74ebb8c21d872779ca053": {
      "model_module": "@jupyter-widgets/controls",
      "model_module_version": "1.5.0",
      "model_name": "ButtonModel",
      "state": {
       "layout": "IPY_MODEL_b24179a5ff9b4c89bf8cd282ba623e44",
       "style": "IPY_MODEL_c2fc65ce92da45d2b56670f89aa5c83b"
      }
     },
     "3e8e0a6056534521aa2b24babcfbc1c7": {
      "model_module": "@jupyter-widgets/controls",
      "model_module_version": "1.5.0",
      "model_name": "ProgressStyleModel",
      "state": {
       "description_width": ""
      }
     },
     "3e9c60cd9f734cc08ac1fa76ca480056": {
      "model_module": "@jupyter-widgets/controls",
      "model_module_version": "1.5.0",
      "model_name": "DescriptionStyleModel",
      "state": {
       "description_width": ""
      }
     },
     "3ebe2d11c2474bcdba1248ad6aa7d34a": {
      "model_module": "@jupyter-widgets/controls",
      "model_module_version": "1.5.0",
      "model_name": "ButtonStyleModel",
      "state": {}
     },
     "3ec865865c454d1382fb139122b0317a": {
      "model_module": "@jupyter-widgets/controls",
      "model_module_version": "1.5.0",
      "model_name": "ButtonStyleModel",
      "state": {}
     },
     "3ecd309af9904be79d8abbe1d227f15d": {
      "model_module": "@jupyter-widgets/base",
      "model_module_version": "1.2.0",
      "model_name": "LayoutModel",
      "state": {
       "order": "-1",
       "overflow": "visible",
       "padding": "1px",
       "width": "0px"
      }
     },
     "3eedb7f70c0a49bb8bb129c705a5281d": {
      "model_module": "@jupyter-widgets/controls",
      "model_module_version": "1.5.0",
      "model_name": "DescriptionStyleModel",
      "state": {
       "description_width": ""
      }
     },
     "3ef01237947a4c6c87d20cab673c624d": {
      "model_module": "@jupyter-widgets/controls",
      "model_module_version": "1.5.0",
      "model_name": "ButtonModel",
      "state": {
       "layout": "IPY_MODEL_77071e97ffb742f481d6501f1e458bb3",
       "style": "IPY_MODEL_bab472d7e3634bad810708570caf7197"
      }
     },
     "3ef491d278414f7db37f37aeb11fd4e6": {
      "model_module": "@jupyter-widgets/controls",
      "model_module_version": "1.5.0",
      "model_name": "LabelModel",
      "state": {
       "layout": "IPY_MODEL_30380acd59654bebbb8113e50acf1fff",
       "style": "IPY_MODEL_3800e4c3c20d40cd98e4e6319ce9b4ee",
       "value": "   objective"
      }
     },
     "3ef8d03351bb45c4912941cff3c5a8e5": {
      "model_module": "@jupyter-widgets/base",
      "model_module_version": "1.2.0",
      "model_name": "LayoutModel",
      "state": {}
     },
     "3efdc4b24a5e4edf9f0c21403355eef3": {
      "model_module": "@jupyter-widgets/base",
      "model_module_version": "1.2.0",
      "model_name": "LayoutModel",
      "state": {
       "height": "32px",
       "overflow": "visible",
       "width": "100%"
      }
     },
     "3f17a609cbb04f098e2dc7f861c0e46a": {
      "model_module": "@jupyter-widgets/base",
      "model_module_version": "1.2.0",
      "model_name": "LayoutModel",
      "state": {
       "width": "60px"
      }
     },
     "3f23ce7b24514118901ce003dbbe34f0": {
      "model_module": "@jupyter-widgets/base",
      "model_module_version": "1.2.0",
      "model_name": "LayoutModel",
      "state": {
       "order": "-1",
       "overflow": "visible",
       "padding": "1px",
       "width": "0px"
      }
     },
     "3f241b71aa3f401b96d2d700ef0f5295": {
      "model_module": "@jupyter-widgets/controls",
      "model_module_version": "1.5.0",
      "model_name": "ProgressStyleModel",
      "state": {
       "description_width": ""
      }
     },
     "3f425d082e6a4d6b9ae7a781c70e25e7": {
      "model_module": "@jupyter-widgets/controls",
      "model_module_version": "1.5.0",
      "model_name": "DescriptionStyleModel",
      "state": {
       "description_width": ""
      }
     },
     "3f6b458ba68b4d559d7f9cac0ba8d348": {
      "model_module": "@jupyter-widgets/controls",
      "model_module_version": "1.5.0",
      "model_name": "HTMLModel",
      "state": {
       "layout": "IPY_MODEL_4dae5829975046089779473c635ef7ff",
       "style": "IPY_MODEL_3eedb7f70c0a49bb8bb129c705a5281d",
       "value": "<b>Task Name</b>"
      }
     },
     "3f73d7718ae948f9a5fce0914c4dfe82": {
      "model_module": "@jupyter-widgets/controls",
      "model_module_version": "1.5.0",
      "model_name": "ProgressStyleModel",
      "state": {
       "description_width": ""
      }
     },
     "3f7a54288fae4605804c91a8d2044fe4": {
      "model_module": "@jupyter-widgets/base",
      "model_module_version": "1.2.0",
      "model_name": "LayoutModel",
      "state": {
       "height": "32px",
       "order": "-2",
       "width": "32px"
      }
     },
     "3f8142f9b5a448a08804f5634b5d03ed": {
      "model_module": "@jupyter-widgets/base",
      "model_module_version": "1.2.0",
      "model_name": "LayoutModel",
      "state": {}
     },
     "3fa08c0f0e214735aaf478a648607132": {
      "model_module": "@jupyter-widgets/controls",
      "model_module_version": "1.5.0",
      "model_name": "VBoxModel",
      "state": {
       "children": [
        "IPY_MODEL_9f844e52832d4e77bff3876c6a7d639c",
        "IPY_MODEL_032dd42a967647349760ae864a425882",
        "IPY_MODEL_31649d475a694be5a8dcfb23243f5e76",
        "IPY_MODEL_461935837c9c46389db63d91e6b3ca7f",
        "IPY_MODEL_04ea97727b254a79b1d8e0318394dfeb",
        "IPY_MODEL_897e37c4a4d841ec862b165ce4a878ea"
       ],
       "layout": "IPY_MODEL_e2c94c6aaf424c2390f5197276cc01f5"
      }
     },
     "3fa526e9867c4f1aaefb7dc7f47f0595": {
      "model_module": "@jupyter-widgets/base",
      "model_module_version": "1.2.0",
      "model_name": "LayoutModel",
      "state": {
       "order": "-1",
       "overflow": "visible",
       "padding": "1px",
       "width": "0px"
      }
     },
     "3fb2d9e2da7644c89b07b9d7233e48ec": {
      "model_module": "@jupyter-widgets/controls",
      "model_module_version": "1.5.0",
      "model_name": "DescriptionStyleModel",
      "state": {
       "description_width": ""
      }
     },
     "3fb9adfbee674946a27fe02c988b091b": {
      "model_module": "@jupyter-widgets/controls",
      "model_module_version": "1.5.0",
      "model_name": "ButtonStyleModel",
      "state": {}
     },
     "3fd96632fd8e4b4cbd7e5b54e44a797a": {
      "model_module": "@jupyter-widgets/controls",
      "model_module_version": "1.5.0",
      "model_name": "ButtonModel",
      "state": {
       "description": "EDIT",
       "layout": "IPY_MODEL_75daebb1733b4a6999399b3e385b22ad",
       "style": "IPY_MODEL_655b8145129a4febb8cc450ddcbb890c"
      }
     },
     "3fe1dba2d7e745f396e67de7242f0ba1": {
      "model_module": "@jupyter-widgets/base",
      "model_module_version": "1.2.0",
      "model_name": "LayoutModel",
      "state": {
       "overflow": "visible",
       "width": "100%"
      }
     },
     "3feb67b7fcfd4713b246fdfaab9e5dd7": {
      "model_module": "@jupyter-widgets/base",
      "model_module_version": "1.2.0",
      "model_name": "LayoutModel",
      "state": {
       "height": "32px",
       "overflow": "visible",
       "width": "100%"
      }
     },
     "3ff91f1d53934dc3881a4f6129e67c4a": {
      "model_module": "@jupyter-widgets/controls",
      "model_module_version": "1.5.0",
      "model_name": "IntProgressModel",
      "state": {
       "layout": "IPY_MODEL_6a70b7b73ae543aab16586c4e970eaa2",
       "style": "IPY_MODEL_a89f9fedf47f44908c579cad04503806",
       "value": 30
      }
     },
     "40010b836b35411db0efd56440517d27": {
      "model_module": "@jupyter-widgets/controls",
      "model_module_version": "1.5.0",
      "model_name": "LabelModel",
      "state": {
       "layout": "IPY_MODEL_6782cd734dde4336bec8ddfbf9858bc4",
       "style": "IPY_MODEL_5c62227d3fc64dc4aae8a5e48c9694c1",
       "value": "   objective"
      }
     },
     "400bc5b89fa94583ae658f72659fcbc8": {
      "model_module": "@jupyter-widgets/base",
      "model_module_version": "1.2.0",
      "model_name": "LayoutModel",
      "state": {
       "width": "60px"
      }
     },
     "406310cecf7f4ca9b49176fcb365694d": {
      "model_module": "@jupyter-widgets/controls",
      "model_module_version": "1.5.0",
      "model_name": "LabelModel",
      "state": {
       "layout": "IPY_MODEL_c2c45b8523c94ad7b3b5952b3233792f",
       "style": "IPY_MODEL_80fbc0c15e634559a582739487fd59f8",
       "value": "   objective"
      }
     },
     "407093ff81ce4c4ca70ebf7a2a02b393": {
      "model_module": "@jupyter-widgets/controls",
      "model_module_version": "1.5.0",
      "model_name": "ButtonModel",
      "state": {
       "layout": "IPY_MODEL_d377153c080140289451d601efecb4ed",
       "style": "IPY_MODEL_04461115838d4b01afacbeb6131af68f"
      }
     },
     "40855e98cc724a60b0e922b6b7129471": {
      "model_module": "@jupyter-widgets/controls",
      "model_module_version": "1.5.0",
      "model_name": "ButtonModel",
      "state": {
       "layout": "IPY_MODEL_ae26fe961f484fd2a45b91926cb42873",
       "style": "IPY_MODEL_9297715af1d24ced8c0c97ef52773ea0"
      }
     },
     "40bd9b9b0e554c138736aa59e465f7b8": {
      "model_module": "@jupyter-widgets/controls",
      "model_module_version": "1.5.0",
      "model_name": "ButtonStyleModel",
      "state": {}
     },
     "40c181a1db5e49c6b87a528adc6a7c24": {
      "model_module": "@jupyter-widgets/base",
      "model_module_version": "1.2.0",
      "model_name": "LayoutModel",
      "state": {
       "height": "32px",
       "order": "-2",
       "width": "32px"
      }
     },
     "40e98a96311844a5a4b12e043d70ba29": {
      "model_module": "@jupyter-widgets/base",
      "model_module_version": "1.2.0",
      "model_name": "LayoutModel",
      "state": {
       "height": "32px",
       "order": "-2",
       "width": "32px"
      }
     },
     "40eb25fd29e54e77b8e11c9a07ee7953": {
      "model_module": "@jupyter-widgets/controls",
      "model_module_version": "1.5.0",
      "model_name": "LabelModel",
      "state": {
       "layout": "IPY_MODEL_b9c36985c5854ce3afd0f91b6417a4c1",
       "style": "IPY_MODEL_096ef61b83f442d8aae352b5233628d8",
       "value": "   objective"
      }
     },
     "40f0ed1b0cdc4c15ab8998673f7b1cdd": {
      "model_module": "@jupyter-widgets/base",
      "model_module_version": "1.2.0",
      "model_name": "LayoutModel",
      "state": {
       "width": "60px"
      }
     },
     "40f1ede7bc214a00a3c62ce7c78bae80": {
      "model_module": "@jupyter-widgets/controls",
      "model_module_version": "1.5.0",
      "model_name": "DescriptionStyleModel",
      "state": {
       "description_width": ""
      }
     },
     "40fa9133640d47798ebef087f577472f": {
      "model_module": "@jupyter-widgets/controls",
      "model_module_version": "1.5.0",
      "model_name": "LabelModel",
      "state": {
       "layout": "IPY_MODEL_301114ae15d94a2c983a8320db4d6f45",
       "style": "IPY_MODEL_dfd7c251e8a6480a99908d165a4a0b06",
       "value": "   objective"
      }
     },
     "4107047c3a594888ab71300155ffa3c9": {
      "model_module": "@jupyter-widgets/controls",
      "model_module_version": "1.5.0",
      "model_name": "DescriptionStyleModel",
      "state": {
       "description_width": ""
      }
     },
     "4107cc2415034e0a819222977bdeff0e": {
      "model_module": "@jupyter-widgets/base",
      "model_module_version": "1.2.0",
      "model_name": "LayoutModel",
      "state": {
       "width": "60px"
      }
     },
     "412308536886479388b6ea989b6a4383": {
      "model_module": "@jupyter-widgets/controls",
      "model_module_version": "1.5.0",
      "model_name": "LabelModel",
      "state": {
       "layout": "IPY_MODEL_c7b1f56f7ec94b91a9737dd44d90be1f",
       "style": "IPY_MODEL_8faecb050cec45718b60054ffc03db2f",
       "value": "   objective"
      }
     },
     "4124bf4c0ebc4d049c2cf4e0dec117e2": {
      "model_module": "@jupyter-widgets/controls",
      "model_module_version": "1.5.0",
      "model_name": "ButtonModel",
      "state": {
       "description": "EDIT",
       "layout": "IPY_MODEL_0d1ea37e614d45eb8cf3328dd3ceec2e",
       "style": "IPY_MODEL_d8a7235ecae646a5adc10c70f745c250"
      }
     },
     "412bacb2e0dd4b02b8f3c64527a129f6": {
      "model_module": "@jupyter-widgets/controls",
      "model_module_version": "1.5.0",
      "model_name": "IntProgressModel",
      "state": {
       "layout": "IPY_MODEL_4aa734f63791442c9892c9de8f160bee",
       "style": "IPY_MODEL_ae6e4e73e8f14fabb2b79b564cd0093d",
       "value": 30
      }
     },
     "4141781ed7e1416594297b3ab5f1bd64": {
      "model_module": "@jupyter-widgets/controls",
      "model_module_version": "1.5.0",
      "model_name": "DescriptionStyleModel",
      "state": {
       "description_width": ""
      }
     },
     "415419828ca04609942c4384d815f70d": {
      "model_module": "@jupyter-widgets/controls",
      "model_module_version": "1.5.0",
      "model_name": "ButtonStyleModel",
      "state": {}
     },
     "4173356d16f44b91a39e0d43ebcbad27": {
      "model_module": "@jupyter-widgets/controls",
      "model_module_version": "1.5.0",
      "model_name": "DescriptionStyleModel",
      "state": {
       "description_width": ""
      }
     },
     "41a6e6bdb0d74a21ac9902991d6ce03d": {
      "model_module": "@jupyter-widgets/controls",
      "model_module_version": "1.5.0",
      "model_name": "ButtonStyleModel",
      "state": {}
     },
     "41ad3a3c4f44494eba84cbe276be294e": {
      "model_module": "@jupyter-widgets/controls",
      "model_module_version": "1.5.0",
      "model_name": "DescriptionStyleModel",
      "state": {
       "description_width": ""
      }
     },
     "41b1c7cfc43a4db0a5cd5ebe470690f9": {
      "model_module": "@jupyter-widgets/base",
      "model_module_version": "1.2.0",
      "model_name": "LayoutModel",
      "state": {
       "display": "flex",
       "flex_flow": "row wrap"
      }
     },
     "41c6524d6df74731a5709c40b22c3978": {
      "model_module": "@jupyter-widgets/controls",
      "model_module_version": "1.5.0",
      "model_name": "ButtonModel",
      "state": {
       "layout": "IPY_MODEL_f6f399667763409bbc870b78a004905b",
       "style": "IPY_MODEL_f6e011c737614b7382ce9b4a24f465ef"
      }
     },
     "41c806333e9441a5a038e9a81c2d8964": {
      "model_module": "@jupyter-widgets/controls",
      "model_module_version": "1.5.0",
      "model_name": "DescriptionStyleModel",
      "state": {
       "description_width": ""
      }
     },
     "4212e7f7a9e64cac99f04398046afbe5": {
      "model_module": "@jupyter-widgets/base",
      "model_module_version": "1.2.0",
      "model_name": "LayoutModel",
      "state": {
       "order": "-1",
       "overflow": "visible",
       "padding": "1px",
       "width": "0px"
      }
     },
     "425b70686b5048368df4dd9cd6d7507e": {
      "model_module": "@jupyter-widgets/base",
      "model_module_version": "1.2.0",
      "model_name": "LayoutModel",
      "state": {
       "width": "60px"
      }
     },
     "425c8fceb5244b31951367a8c784f65d": {
      "model_module": "@jupyter-widgets/controls",
      "model_module_version": "1.5.0",
      "model_name": "ButtonModel",
      "state": {
       "layout": "IPY_MODEL_001cb636bd744c33baf5a7e9c79be016",
       "style": "IPY_MODEL_43f59a72e33f4fe6adcff2e44091f71e"
      }
     },
     "426f0fc93d5f4277afa1b4c41d7ae314": {
      "model_module": "@jupyter-widgets/base",
      "model_module_version": "1.2.0",
      "model_name": "LayoutModel",
      "state": {
       "height": "32px",
       "order": "-2",
       "width": "32px"
      }
     },
     "427e7dff481f4572b969027fb56e6c5a": {
      "model_module": "@jupyter-widgets/base",
      "model_module_version": "1.2.0",
      "model_name": "LayoutModel",
      "state": {}
     },
     "42897f7689624ed8bde7c06401aef70d": {
      "model_module": "@jupyter-widgets/base",
      "model_module_version": "1.2.0",
      "model_name": "LayoutModel",
      "state": {
       "width": "60px"
      }
     },
     "428d55ea349345f985e5914a41643e49": {
      "model_module": "@jupyter-widgets/controls",
      "model_module_version": "1.5.0",
      "model_name": "ButtonStyleModel",
      "state": {}
     },
     "42a251f5ed5b421ca7f13a8e1e26aefc": {
      "model_module": "@jupyter-widgets/base",
      "model_module_version": "1.2.0",
      "model_name": "LayoutModel",
      "state": {}
     },
     "42a34c875798419c97cc3a8b19f70a82": {
      "model_module": "@jupyter-widgets/controls",
      "model_module_version": "1.5.0",
      "model_name": "ButtonModel",
      "state": {
       "layout": "IPY_MODEL_9607ab6f892b40a680a58dda290bfee4",
       "style": "IPY_MODEL_baf9f236b63948fe8368d3bf155d8723"
      }
     },
     "42ac34c7a00e41b8a64f9f9e600044c8": {
      "model_module": "@jupyter-widgets/controls",
      "model_module_version": "1.5.0",
      "model_name": "ButtonModel",
      "state": {
       "description": "EDIT",
       "layout": "IPY_MODEL_02b33a92e9634c68a3db700a71ebc07c",
       "style": "IPY_MODEL_0fabc6d2ed314d599ca17981c2395d07"
      }
     },
     "42aec83930f44b72ab211b02ce7aa486": {
      "model_module": "@jupyter-widgets/controls",
      "model_module_version": "1.5.0",
      "model_name": "ButtonStyleModel",
      "state": {}
     },
     "42d0519129f24af2ada713a7e3cc90a8": {
      "model_module": "@jupyter-widgets/controls",
      "model_module_version": "1.5.0",
      "model_name": "ProgressStyleModel",
      "state": {
       "description_width": ""
      }
     },
     "42ebfb50ebf646ddb303d8bdd376d7d3": {
      "model_module": "@jupyter-widgets/controls",
      "model_module_version": "1.5.0",
      "model_name": "DescriptionStyleModel",
      "state": {
       "description_width": ""
      }
     },
     "430c738fd52b49eeb57d0e203df9579c": {
      "model_module": "@jupyter-widgets/controls",
      "model_module_version": "1.5.0",
      "model_name": "DescriptionStyleModel",
      "state": {
       "description_width": ""
      }
     },
     "431a6c6dabc64084a56c5f6a21c9b20f": {
      "model_module": "@jupyter-widgets/controls",
      "model_module_version": "1.5.0",
      "model_name": "IntProgressModel",
      "state": {
       "layout": "IPY_MODEL_2cf891f34551454eb4ca4baa6f0e9183",
       "style": "IPY_MODEL_6a1697bf88bb42d0aadf1f84af23303b",
       "value": 30
      }
     },
     "432207748e534990a6d1ac8c51158321": {
      "model_module": "@jupyter-widgets/base",
      "model_module_version": "1.2.0",
      "model_name": "LayoutModel",
      "state": {
       "height": "32px",
       "order": "-2",
       "width": "32px"
      }
     },
     "432e540a35f742149d0a9adc2daf720d": {
      "model_module": "@jupyter-widgets/controls",
      "model_module_version": "1.5.0",
      "model_name": "ButtonStyleModel",
      "state": {}
     },
     "4343c4e95ee040f09f7705c2a0ef34b9": {
      "model_module": "@jupyter-widgets/controls",
      "model_module_version": "1.5.0",
      "model_name": "ProgressStyleModel",
      "state": {
       "description_width": ""
      }
     },
     "435d31bcd80f4f70838ac80a89860712": {
      "model_module": "@jupyter-widgets/base",
      "model_module_version": "1.2.0",
      "model_name": "LayoutModel",
      "state": {
       "height": "32px",
       "order": "-2",
       "width": "32px"
      }
     },
     "4361a1e9019f4233ac072ffa3b2dcf46": {
      "model_module": "@jupyter-widgets/base",
      "model_module_version": "1.2.0",
      "model_name": "LayoutModel",
      "state": {
       "display": "flex",
       "flex_flow": "row wrap"
      }
     },
     "438aeb345c244b3884d68d167692e689": {
      "model_module": "@jupyter-widgets/controls",
      "model_module_version": "1.5.0",
      "model_name": "HTMLModel",
      "state": {
       "layout": "IPY_MODEL_3e10b019855c425ba034e147e4de9594",
       "style": "IPY_MODEL_8e1f29967b9f4cefbb533526337cc476",
       "value": "<b>Task Name</b>"
      }
     },
     "43a3a77152634003b7c56bb4496de7c9": {
      "model_module": "@jupyter-widgets/controls",
      "model_module_version": "1.5.0",
      "model_name": "ButtonStyleModel",
      "state": {}
     },
     "43ecb1aef09d490cbda209c7c6a6ac33": {
      "model_module": "@jupyter-widgets/controls",
      "model_module_version": "1.5.0",
      "model_name": "DescriptionStyleModel",
      "state": {
       "description_width": ""
      }
     },
     "43f59a72e33f4fe6adcff2e44091f71e": {
      "model_module": "@jupyter-widgets/controls",
      "model_module_version": "1.5.0",
      "model_name": "ButtonStyleModel",
      "state": {}
     },
     "4406629881214893bc556bd3719cfa4b": {
      "model_module": "@jupyter-widgets/controls",
      "model_module_version": "1.5.0",
      "model_name": "ButtonModel",
      "state": {
       "layout": "IPY_MODEL_f434b2a2e07a4df7895a731410ac8a62",
       "style": "IPY_MODEL_1bcb7bcf7b6e406a8ae54936e24a61e2"
      }
     },
     "44140299f20c46b2bb23c9880179bb1d": {
      "model_module": "@jupyter-widgets/controls",
      "model_module_version": "1.5.0",
      "model_name": "ButtonStyleModel",
      "state": {}
     },
     "44214511d8944295854a39b2de967fc5": {
      "model_module": "@jupyter-widgets/controls",
      "model_module_version": "1.5.0",
      "model_name": "IntProgressModel",
      "state": {
       "layout": "IPY_MODEL_9491928170a546d28f1da1d2936fe0c8",
       "style": "IPY_MODEL_961e32bb57484bd2bdf113baa4d343c7",
       "value": 30
      }
     },
     "444673db9f024b009fae42629203ca6b": {
      "model_module": "@jupyter-widgets/controls",
      "model_module_version": "1.5.0",
      "model_name": "HBoxModel",
      "state": {
       "children": [
        "IPY_MODEL_f080b93ac7c04fa0911675a643ad3b80",
        "IPY_MODEL_56830fc5b340434f9485b61a906ffcdb",
        "IPY_MODEL_cf21ad1057104a09aceb8dc58b74597f",
        "IPY_MODEL_a8c2ce03aaf6402b803612ff78142c8a"
       ],
       "layout": "IPY_MODEL_c096167534ea4f1089b07ec85503ad17"
      }
     },
     "444ae346245e4b4dafa025f44a9a8edd": {
      "model_module": "@jupyter-widgets/base",
      "model_module_version": "1.2.0",
      "model_name": "LayoutModel",
      "state": {
       "height": "32px",
       "overflow": "visible",
       "width": "100%"
      }
     },
     "44602720e2a0488a9d68734d7b371c8b": {
      "model_module": "@jupyter-widgets/controls",
      "model_module_version": "1.5.0",
      "model_name": "ButtonModel",
      "state": {
       "layout": "IPY_MODEL_fd442f64dc7541c7bc38dd964882e5ae",
       "style": "IPY_MODEL_18ece7dd37d543a6b267835ba746b130"
      }
     },
     "446401cc2500410fa6b74e5a9316c3b1": {
      "model_module": "@jupyter-widgets/base",
      "model_module_version": "1.2.0",
      "model_name": "LayoutModel",
      "state": {
       "height": "32px",
       "overflow": "visible",
       "width": "100%"
      }
     },
     "44694c64dbe942ff9582bf775b82b196": {
      "model_module": "@jupyter-widgets/controls",
      "model_module_version": "1.5.0",
      "model_name": "ButtonModel",
      "state": {
       "description": "EDIT",
       "layout": "IPY_MODEL_a68177f920b047efa5373ee001173d81",
       "style": "IPY_MODEL_ff771d97b8fb4acd913e8ecc8a3dcd91"
      }
     },
     "446c215e96fd41139df5613b717508b4": {
      "model_module": "@jupyter-widgets/controls",
      "model_module_version": "1.5.0",
      "model_name": "LabelModel",
      "state": {
       "layout": "IPY_MODEL_99bc15e833304343b6511813edf56701",
       "style": "IPY_MODEL_c6d86a7a4e804282bc3e311dd8509476",
       "value": "   objective"
      }
     },
     "447639ecfd7f423e9faed6f92fad64df": {
      "model_module": "@jupyter-widgets/controls",
      "model_module_version": "1.5.0",
      "model_name": "ProgressStyleModel",
      "state": {
       "description_width": ""
      }
     },
     "44b0461c7cfb4f9f9aa71319cea9a7f0": {
      "model_module": "@jupyter-widgets/controls",
      "model_module_version": "1.5.0",
      "model_name": "DescriptionStyleModel",
      "state": {
       "description_width": ""
      }
     },
     "44b58e3bc67b4a3bac64c4be84ea3627": {
      "model_module": "@jupyter-widgets/controls",
      "model_module_version": "1.5.0",
      "model_name": "HBoxModel",
      "state": {
       "children": [
        "IPY_MODEL_d3b08c7e72244c619acb5c311dec51fb",
        "IPY_MODEL_431a6c6dabc64084a56c5f6a21c9b20f",
        "IPY_MODEL_54a3c5f4d68f4cd9bc72074b0e8f6038",
        "IPY_MODEL_3381791d088c403b99c3514f4e867dc1"
       ],
       "layout": "IPY_MODEL_b09069ce3b414f6caf32e7ca25f93fa5"
      }
     },
     "44c52697dc784a618c2e00cf9c90c01b": {
      "model_module": "@jupyter-widgets/controls",
      "model_module_version": "1.5.0",
      "model_name": "ButtonModel",
      "state": {
       "layout": "IPY_MODEL_9a5aa99e3012412ea84ee73631175512",
       "style": "IPY_MODEL_d4c8eb4544644992877c0b648383f789"
      }
     },
     "44cc97ea82654b22be0a3dc2e688c8b6": {
      "model_module": "@jupyter-widgets/controls",
      "model_module_version": "1.5.0",
      "model_name": "HTMLModel",
      "state": {
       "layout": "IPY_MODEL_5c37e6049e6e47cfb8223a27d9a0fb91",
       "style": "IPY_MODEL_de90be00d8184913b4e070cf1a1f63d3",
       "value": "<i>test test test test test test test test test test test test test test test test test test test test test test test test </i>"
      }
     },
     "450fdd06a8814e47a6bb9a288f3a870a": {
      "model_module": "@jupyter-widgets/controls",
      "model_module_version": "1.5.0",
      "model_name": "ProgressStyleModel",
      "state": {
       "description_width": ""
      }
     },
     "452a944fa82f4a7e882a9014daf91b95": {
      "model_module": "@jupyter-widgets/controls",
      "model_module_version": "1.5.0",
      "model_name": "ButtonStyleModel",
      "state": {}
     },
     "454e5f6f8954467aa5609456d3e24806": {
      "model_module": "@jupyter-widgets/controls",
      "model_module_version": "1.5.0",
      "model_name": "HTMLModel",
      "state": {
       "layout": "IPY_MODEL_20c1c3a74afa451080319aa299ea35c1",
       "style": "IPY_MODEL_e28122b53bf44adcab6ed4ea5c2a8ebe",
       "value": "<font size=\"1\">Path/Path/Path/Path/</font size>"
      }
     },
     "459874582cef4cc6bb242269fc6ff2f4": {
      "model_module": "@jupyter-widgets/controls",
      "model_module_version": "1.5.0",
      "model_name": "LabelModel",
      "state": {
       "layout": "IPY_MODEL_99ba1c7084ac40f89edd188a0e9997cc",
       "style": "IPY_MODEL_54dfbf38170b4e9ab62cf8e907a6c68f",
       "value": "   objective"
      }
     },
     "45bb6b0eae624cd7ba18d234cec27c25": {
      "model_module": "@jupyter-widgets/controls",
      "model_module_version": "1.5.0",
      "model_name": "DescriptionStyleModel",
      "state": {
       "description_width": ""
      }
     },
     "45eb19ddd2894db2926838678e1bb5e1": {
      "model_module": "@jupyter-widgets/controls",
      "model_module_version": "1.5.0",
      "model_name": "ButtonStyleModel",
      "state": {}
     },
     "4612658a310240259a4562531d6b3850": {
      "model_module": "@jupyter-widgets/controls",
      "model_module_version": "1.5.0",
      "model_name": "HBoxModel",
      "state": {
       "children": [
        "IPY_MODEL_310b0bbe04e7449aa462789095e737e2",
        "IPY_MODEL_3c3069647007465b9f034cace0274f5e",
        "IPY_MODEL_3aa2a8e2b388405cb3664642dd5bd3af",
        "IPY_MODEL_5adab9ac361649dea76ba564a9df3ab4"
       ],
       "layout": "IPY_MODEL_be49ce5b8faa4127bc2423682ee7bec2"
      }
     },
     "461935837c9c46389db63d91e6b3ca7f": {
      "model_module": "@jupyter-widgets/controls",
      "model_module_version": "1.5.0",
      "model_name": "HBoxModel",
      "state": {
       "children": [
        "IPY_MODEL_407093ff81ce4c4ca70ebf7a2a02b393",
        "IPY_MODEL_b84287bfd9504b39a4835d732f082cb2",
        "IPY_MODEL_69aa9ee4125b425888a563ad4836a05c",
        "IPY_MODEL_b02697036496412f8dae072f7f1e7882"
       ],
       "layout": "IPY_MODEL_8f90c516161a4b70b9e92334081ca632"
      }
     },
     "461a39a1b9884ab989a15f12a9c5b40c": {
      "model_module": "@jupyter-widgets/controls",
      "model_module_version": "1.5.0",
      "model_name": "ButtonStyleModel",
      "state": {}
     },
     "4672749c74f840998ddede9815e171e5": {
      "model_module": "@jupyter-widgets/controls",
      "model_module_version": "1.5.0",
      "model_name": "VBoxModel",
      "state": {
       "children": [
        "IPY_MODEL_118ec29addb74f498516a5febbd9f5a1",
        "IPY_MODEL_e10fad0ed6a34e13995de411f8316ee8",
        "IPY_MODEL_6a96c1149f2d407792f340ba57105412",
        "IPY_MODEL_ed69a151769e437195c776f4e9d379aa",
        "IPY_MODEL_c526a00669ed449c818ed7280e1a4252",
        "IPY_MODEL_a7055b30bae445f1b37163d3516d6de0",
        "IPY_MODEL_c97c11ee898f4abe822476435099dc82",
        "IPY_MODEL_82824c5641dc49779711f3c5278471ab",
        "IPY_MODEL_26eeef04d7bf45ab9b36bb3b8ea00aca",
        "IPY_MODEL_4c614bdfaddb414f8f96775020b3a149",
        "IPY_MODEL_65df0937ede34827ab1af1b2222cd8de"
       ],
       "layout": "IPY_MODEL_e483a226c56e4195a33a1deda32a8e4d"
      }
     },
     "46742a5e52644526a98c4706b78afcb9": {
      "model_module": "@jupyter-widgets/base",
      "model_module_version": "1.2.0",
      "model_name": "LayoutModel",
      "state": {
       "height": "32px",
       "overflow": "visible",
       "width": "100%"
      }
     },
     "46ca7d0c9eec4c84bd6a787a433cad5e": {
      "model_module": "@jupyter-widgets/controls",
      "model_module_version": "1.5.0",
      "model_name": "DescriptionStyleModel",
      "state": {
       "description_width": ""
      }
     },
     "46d0cab546f346d2a77b3aeae32db1b6": {
      "model_module": "@jupyter-widgets/base",
      "model_module_version": "1.2.0",
      "model_name": "LayoutModel",
      "state": {}
     },
     "46e1a69237ac4a7894e2816d238a9799": {
      "model_module": "@jupyter-widgets/controls",
      "model_module_version": "1.5.0",
      "model_name": "DescriptionStyleModel",
      "state": {
       "description_width": ""
      }
     },
     "46e6d78c745b45bba01c7a580a77d496": {
      "model_module": "@jupyter-widgets/base",
      "model_module_version": "1.2.0",
      "model_name": "LayoutModel",
      "state": {
       "width": "60px"
      }
     },
     "471d9748e9dc4ae8bfc377b6eb35d5dc": {
      "model_module": "@jupyter-widgets/controls",
      "model_module_version": "1.5.0",
      "model_name": "ButtonModel",
      "state": {
       "description": "EDIT",
       "layout": "IPY_MODEL_df31eef498684151b164b0595f70df01",
       "style": "IPY_MODEL_f9dbc079e6db467f80e6e272ef6cf542"
      }
     },
     "471f39e6ec9e4248a4cdf8714545e1ce": {
      "model_module": "@jupyter-widgets/controls",
      "model_module_version": "1.5.0",
      "model_name": "ButtonStyleModel",
      "state": {}
     },
     "4727217a9b51424fbfbc1e6b926b99d5": {
      "model_module": "@jupyter-widgets/controls",
      "model_module_version": "1.5.0",
      "model_name": "DescriptionStyleModel",
      "state": {
       "description_width": ""
      }
     },
     "4728a7600fce4bd2bfc5e65075d05223": {
      "model_module": "@jupyter-widgets/controls",
      "model_module_version": "1.5.0",
      "model_name": "IntProgressModel",
      "state": {
       "layout": "IPY_MODEL_d3955ee45f6247f7a4f07b42cf0187b7",
       "style": "IPY_MODEL_93b27d80b17f42c6b69912062084a5db",
       "value": 30
      }
     },
     "472b904c15b544cda40dc20559908b2b": {
      "model_module": "@jupyter-widgets/controls",
      "model_module_version": "1.5.0",
      "model_name": "DescriptionStyleModel",
      "state": {
       "description_width": ""
      }
     },
     "47460701b048488c9eeac2b925db3eba": {
      "model_module": "@jupyter-widgets/controls",
      "model_module_version": "1.5.0",
      "model_name": "IntProgressModel",
      "state": {
       "layout": "IPY_MODEL_248c37eb10aa40358e7f54ccbecdc224",
       "style": "IPY_MODEL_ee1b23bcccd04949986ed894986df65c",
       "value": 30
      }
     },
     "475874f67628477e99247ebaadcaf43c": {
      "model_module": "@jupyter-widgets/base",
      "model_module_version": "1.2.0",
      "model_name": "LayoutModel",
      "state": {
       "order": "-1",
       "overflow": "visible",
       "padding": "1px",
       "width": "0px"
      }
     },
     "475d7a815dc3487c9e51f8b752260b85": {
      "model_module": "@jupyter-widgets/base",
      "model_module_version": "1.2.0",
      "model_name": "LayoutModel",
      "state": {
       "height": "32px",
       "overflow": "visible",
       "width": "100%"
      }
     },
     "475fd59b007541db80004f80bb8cc14b": {
      "model_module": "@jupyter-widgets/controls",
      "model_module_version": "1.5.0",
      "model_name": "ButtonStyleModel",
      "state": {}
     },
     "476c1c26cbee4b958c506aab6db77b99": {
      "model_module": "@jupyter-widgets/controls",
      "model_module_version": "1.5.0",
      "model_name": "ButtonStyleModel",
      "state": {}
     },
     "4784074b8d284f729299c572f1dea36d": {
      "model_module": "@jupyter-widgets/controls",
      "model_module_version": "1.5.0",
      "model_name": "ProgressStyleModel",
      "state": {
       "description_width": ""
      }
     },
     "478dea6187ed4175befebefdb6fc3fe3": {
      "model_module": "@jupyter-widgets/controls",
      "model_module_version": "1.5.0",
      "model_name": "ProgressStyleModel",
      "state": {
       "description_width": ""
      }
     },
     "48001acf34e5406bb34d1a9e5a58a9d0": {
      "model_module": "@jupyter-widgets/controls",
      "model_module_version": "1.5.0",
      "model_name": "ButtonStyleModel",
      "state": {}
     },
     "480a7769404d49e8bb67718c5da5de19": {
      "model_module": "@jupyter-widgets/controls",
      "model_module_version": "1.5.0",
      "model_name": "HBoxModel",
      "state": {
       "children": [
        "IPY_MODEL_910b133008b345e5921ace5a87529e29",
        "IPY_MODEL_8b2460d33166432cb142443d8a1d5c35",
        "IPY_MODEL_0a633fa49b8640889089efe1cb2583c4",
        "IPY_MODEL_d3425348d36e45f2900cac0edd68c53f"
       ],
       "layout": "IPY_MODEL_f1d7294cfaa146d3820b3b84a0f14fb2"
      }
     },
     "48158836d5244add8f17f1fa5d29e07d": {
      "model_module": "@jupyter-widgets/controls",
      "model_module_version": "1.5.0",
      "model_name": "LabelModel",
      "state": {
       "layout": "IPY_MODEL_288ca56f8b8f4cc08a6d8a6315836e66",
       "style": "IPY_MODEL_d9b8678704f946a2bf23d1adb7c7fc21",
       "value": "   objective"
      }
     },
     "482a1343321a4b70b3547d3da4cbf47b": {
      "model_module": "@jupyter-widgets/controls",
      "model_module_version": "1.5.0",
      "model_name": "ProgressStyleModel",
      "state": {
       "description_width": ""
      }
     },
     "48399e0810964ac5a995d9f109d20db3": {
      "model_module": "@jupyter-widgets/controls",
      "model_module_version": "1.5.0",
      "model_name": "HTMLModel",
      "state": {
       "layout": "IPY_MODEL_f3c52337408c4b848705bab13fa29a0f",
       "style": "IPY_MODEL_3bf74ac0473445188c8cc163ddc8ada7",
       "value": "<i>test test test test test test test test test test test test test test test test test test test test test test test test </i>"
      }
     },
     "4842114f6c7a48e4b9459470b8e57020": {
      "model_module": "@jupyter-widgets/base",
      "model_module_version": "1.2.0",
      "model_name": "LayoutModel",
      "state": {
       "width": "60px"
      }
     },
     "486a592a83c64bb2a49ff6f10ae697c9": {
      "model_module": "@jupyter-widgets/base",
      "model_module_version": "1.2.0",
      "model_name": "LayoutModel",
      "state": {
       "height": "32px",
       "order": "-2",
       "width": "32px"
      }
     },
     "489242e427864151a3a310fb5015d1eb": {
      "model_module": "@jupyter-widgets/controls",
      "model_module_version": "1.5.0",
      "model_name": "LabelModel",
      "state": {
       "layout": "IPY_MODEL_b44d906598c542949051248c36b734eb",
       "style": "IPY_MODEL_b5afaef182a447a0846f5565ab165564",
       "value": "   objective"
      }
     },
     "4897edfff3764db9b12b19374dfeb0ba": {
      "model_module": "@jupyter-widgets/controls",
      "model_module_version": "1.5.0",
      "model_name": "ProgressStyleModel",
      "state": {
       "description_width": ""
      }
     },
     "48a5203d2b6a4f169f9dc5126445b611": {
      "model_module": "@jupyter-widgets/controls",
      "model_module_version": "1.5.0",
      "model_name": "LabelModel",
      "state": {
       "layout": "IPY_MODEL_23577833c5a143e1a7b085f3e6c02861",
       "style": "IPY_MODEL_755682e63ae8449faf3b8e0f7e621b19",
       "value": "   objective"
      }
     },
     "48ae456f6ca6427ca8327daeb247994d": {
      "model_module": "@jupyter-widgets/controls",
      "model_module_version": "1.5.0",
      "model_name": "ButtonModel",
      "state": {
       "description": "EDIT",
       "layout": "IPY_MODEL_2e74815ce122420e8f0f7eafaab17143",
       "style": "IPY_MODEL_b9b1b77c474148cab8a52b2e41764cc8"
      }
     },
     "48afb430595046918432447b850a2a66": {
      "model_module": "@jupyter-widgets/controls",
      "model_module_version": "1.5.0",
      "model_name": "ButtonModel",
      "state": {
       "layout": "IPY_MODEL_a5c53020d8474ae0bb5d6f2b2d2e21e9",
       "style": "IPY_MODEL_0312c08c3379457fb03d4e062a476c7e"
      }
     },
     "48f7039d713d4f05a689fb058d3b63b1": {
      "model_module": "@jupyter-widgets/base",
      "model_module_version": "1.2.0",
      "model_name": "LayoutModel",
      "state": {}
     },
     "4922df6121cc4ee6b4512ed717fd3c7f": {
      "model_module": "@jupyter-widgets/base",
      "model_module_version": "1.2.0",
      "model_name": "LayoutModel",
      "state": {
       "display": "flex",
       "flex_flow": "row wrap"
      }
     },
     "49244401d35f484794747befad33bb8b": {
      "model_module": "@jupyter-widgets/base",
      "model_module_version": "1.2.0",
      "model_name": "LayoutModel",
      "state": {
       "height": "32px",
       "order": "-2",
       "width": "32px"
      }
     },
     "4926c3d19c9a4523ac4377e7aac6aa73": {
      "model_module": "@jupyter-widgets/controls",
      "model_module_version": "1.5.0",
      "model_name": "ProgressStyleModel",
      "state": {
       "description_width": ""
      }
     },
     "4943d75f1f0f4c68955d7d9606a677ea": {
      "model_module": "@jupyter-widgets/controls",
      "model_module_version": "1.5.0",
      "model_name": "ButtonModel",
      "state": {
       "description": "EDIT",
       "layout": "IPY_MODEL_f8452b0014904458bb74c03be8403c4f",
       "style": "IPY_MODEL_386e71058101432696ca2af851909cf1"
      }
     },
     "495f15b10c2749aebfd24c58ad3eafb7": {
      "model_module": "@jupyter-widgets/controls",
      "model_module_version": "1.5.0",
      "model_name": "ButtonModel",
      "state": {
       "layout": "IPY_MODEL_d027f4e9d037438ab70af900e23cfcd9",
       "style": "IPY_MODEL_2c3429200ae24b2384607740f838959f"
      }
     },
     "49977d2958c94793ba26cb4949397a24": {
      "model_module": "@jupyter-widgets/base",
      "model_module_version": "1.2.0",
      "model_name": "LayoutModel",
      "state": {}
     },
     "499aabcb0b0c4fe285a1947595b9d484": {
      "model_module": "@jupyter-widgets/base",
      "model_module_version": "1.2.0",
      "model_name": "LayoutModel",
      "state": {
       "height": "32px",
       "order": "-2",
       "width": "32px"
      }
     },
     "49aa55e4ae2b4105a78a1b83ea8f643d": {
      "model_module": "@jupyter-widgets/controls",
      "model_module_version": "1.5.0",
      "model_name": "ButtonStyleModel",
      "state": {}
     },
     "49acb08adae34911bc79a0c7360054a9": {
      "model_module": "@jupyter-widgets/controls",
      "model_module_version": "1.5.0",
      "model_name": "DescriptionStyleModel",
      "state": {
       "description_width": ""
      }
     },
     "49dcf835a9bd43fca0aaf9184165b1c7": {
      "model_module": "@jupyter-widgets/base",
      "model_module_version": "1.2.0",
      "model_name": "LayoutModel",
      "state": {
       "width": "60px"
      }
     },
     "49e1496de1584b3a9c63beb5127829bd": {
      "model_module": "@jupyter-widgets/base",
      "model_module_version": "1.2.0",
      "model_name": "LayoutModel",
      "state": {
       "order": "-1",
       "overflow": "visible",
       "padding": "1px",
       "width": "0px"
      }
     },
     "4a07a6057d57450081ec002eb9114bbc": {
      "model_module": "@jupyter-widgets/base",
      "model_module_version": "1.2.0",
      "model_name": "LayoutModel",
      "state": {
       "height": "32px",
       "overflow": "visible",
       "width": "100%"
      }
     },
     "4a1f67cb32c94b33b1477bf0813759a4": {
      "model_module": "@jupyter-widgets/base",
      "model_module_version": "1.2.0",
      "model_name": "LayoutModel",
      "state": {
       "height": "32px",
       "order": "-2",
       "width": "32px"
      }
     },
     "4a5eb22eb90c4ad8bada3309ad419c1a": {
      "model_module": "@jupyter-widgets/controls",
      "model_module_version": "1.5.0",
      "model_name": "DescriptionStyleModel",
      "state": {
       "description_width": ""
      }
     },
     "4a7015c997284b02bff65429da28721f": {
      "model_module": "@jupyter-widgets/controls",
      "model_module_version": "1.5.0",
      "model_name": "ProgressStyleModel",
      "state": {
       "description_width": ""
      }
     },
     "4a7e7dfa71b345c483c666f630680052": {
      "model_module": "@jupyter-widgets/base",
      "model_module_version": "1.2.0",
      "model_name": "LayoutModel",
      "state": {}
     },
     "4a843552549b40949bffe0592b282c27": {
      "model_module": "@jupyter-widgets/controls",
      "model_module_version": "1.5.0",
      "model_name": "ButtonModel",
      "state": {
       "description": "EDIT",
       "layout": "IPY_MODEL_2fd22ecc12cd41f8a08a6f6397b67a18",
       "style": "IPY_MODEL_57b723fc4c574c8cb909762cae384c62"
      }
     },
     "4a844e6d58d3443c9c960478db083a29": {
      "model_module": "@jupyter-widgets/controls",
      "model_module_version": "1.5.0",
      "model_name": "ButtonStyleModel",
      "state": {}
     },
     "4aa734f63791442c9892c9de8f160bee": {
      "model_module": "@jupyter-widgets/base",
      "model_module_version": "1.2.0",
      "model_name": "LayoutModel",
      "state": {
       "height": "32px",
       "overflow": "visible",
       "width": "100%"
      }
     },
     "4b1e347cc5fb4d9bbba05661f662fb44": {
      "model_module": "@jupyter-widgets/controls",
      "model_module_version": "1.5.0",
      "model_name": "LabelModel",
      "state": {
       "layout": "IPY_MODEL_d2163071751a49eab50bb9a874fd7d48",
       "style": "IPY_MODEL_4ded4e2e2bde451ca801fc19a418ca99",
       "value": "   objective"
      }
     },
     "4b27824238844bb8b20d828c605a11ca": {
      "model_module": "@jupyter-widgets/controls",
      "model_module_version": "1.5.0",
      "model_name": "ButtonStyleModel",
      "state": {}
     },
     "4b5362cf36d64c56bf2cab75cadc4d08": {
      "model_module": "@jupyter-widgets/controls",
      "model_module_version": "1.5.0",
      "model_name": "ButtonStyleModel",
      "state": {}
     },
     "4b635557c99e4f5e882fff52b7da5830": {
      "model_module": "@jupyter-widgets/base",
      "model_module_version": "1.2.0",
      "model_name": "LayoutModel",
      "state": {
       "height": "32px",
       "overflow": "visible",
       "width": "100%"
      }
     },
     "4b75df7fdfb44cfbafea97dd12ccc84f": {
      "model_module": "@jupyter-widgets/controls",
      "model_module_version": "1.5.0",
      "model_name": "ButtonModel",
      "state": {
       "layout": "IPY_MODEL_f09089c76c5d4f3698436e03f32571d3",
       "style": "IPY_MODEL_5ba541160cbb423d85d63b8a6fb35d39"
      }
     },
     "4b92faf8005649edab27209c41185e49": {
      "model_module": "@jupyter-widgets/controls",
      "model_module_version": "1.5.0",
      "model_name": "HBoxModel",
      "state": {
       "children": [
        "IPY_MODEL_b789b730839345d3a9eeb812643351c7",
        "IPY_MODEL_c792aea60e0c468fa96374ef1277d876",
        "IPY_MODEL_f9260e360f4f49a9850b52a7b07732c5",
        "IPY_MODEL_d25641f4cdd54df89ce5ed88d4a9aa43"
       ],
       "layout": "IPY_MODEL_18f170f9d38f46fbb99f2fabd355e352"
      }
     },
     "4b9d2a2d7d0b4567a4fb7e07f0e80427": {
      "model_module": "@jupyter-widgets/base",
      "model_module_version": "1.2.0",
      "model_name": "LayoutModel",
      "state": {
       "order": "-1",
       "overflow": "visible",
       "padding": "1px",
       "width": "0px"
      }
     },
     "4bbc0fde62bd47c9ad17d700c3700a8b": {
      "model_module": "@jupyter-widgets/controls",
      "model_module_version": "1.5.0",
      "model_name": "DescriptionStyleModel",
      "state": {
       "description_width": ""
      }
     },
     "4bc6519537394a849468a1526aacedbe": {
      "model_module": "@jupyter-widgets/controls",
      "model_module_version": "1.5.0",
      "model_name": "ButtonModel",
      "state": {
       "description": "EDIT",
       "layout": "IPY_MODEL_fdc575e1245347cfabfafa848a8f583c",
       "style": "IPY_MODEL_29f61522ede24488a402b25f3f8620a8"
      }
     },
     "4bc9ca9bff4f47d2b3e5d5e9bff1d360": {
      "model_module": "@jupyter-widgets/controls",
      "model_module_version": "1.5.0",
      "model_name": "ProgressStyleModel",
      "state": {
       "description_width": ""
      }
     },
     "4bc9e597b93442bea50424e80801fe45": {
      "model_module": "@jupyter-widgets/controls",
      "model_module_version": "1.5.0",
      "model_name": "HTMLModel",
      "state": {
       "layout": "IPY_MODEL_7bf30cb142f848fb8aeb3e99f47c7755",
       "style": "IPY_MODEL_4a5eb22eb90c4ad8bada3309ad419c1a",
       "value": "<font size=\"1\">Path/Path/Path/Path/</font size>"
      }
     },
     "4be56ea1f3b8463f948acdac2cbc5c75": {
      "model_module": "@jupyter-widgets/controls",
      "model_module_version": "1.5.0",
      "model_name": "IntProgressModel",
      "state": {
       "layout": "IPY_MODEL_9d893cd130a54dd782ec0a7f2f6ebbd2",
       "style": "IPY_MODEL_b2c87d6eb4934d9cad100a2393946862",
       "value": 30
      }
     },
     "4be895e3f503492dbbe762e8a8b768b8": {
      "model_module": "@jupyter-widgets/base",
      "model_module_version": "1.2.0",
      "model_name": "LayoutModel",
      "state": {
       "order": "-1",
       "overflow": "visible",
       "padding": "1px",
       "width": "0px"
      }
     },
     "4c17d833e8f548e38980284c45c3721e": {
      "model_module": "@jupyter-widgets/controls",
      "model_module_version": "1.5.0",
      "model_name": "DescriptionStyleModel",
      "state": {
       "description_width": ""
      }
     },
     "4c1d2a5c469e4708997a0bf009a6e543": {
      "model_module": "@jupyter-widgets/controls",
      "model_module_version": "1.5.0",
      "model_name": "ButtonModel",
      "state": {
       "layout": "IPY_MODEL_2bc14939538746ea931b6bc14b73052d",
       "style": "IPY_MODEL_65644cf1ccb6438fa5cd14cb7a3f3245"
      }
     },
     "4c1e76739468476996c247d1ef466a2f": {
      "model_module": "@jupyter-widgets/base",
      "model_module_version": "1.2.0",
      "model_name": "LayoutModel",
      "state": {
       "order": "-1",
       "overflow": "visible",
       "padding": "1px",
       "width": "0px"
      }
     },
     "4c231a1252b949749a2461007958c28e": {
      "model_module": "@jupyter-widgets/base",
      "model_module_version": "1.2.0",
      "model_name": "LayoutModel",
      "state": {
       "order": "-1",
       "overflow": "visible",
       "padding": "1px",
       "width": "0px"
      }
     },
     "4c2bda8508cd458aa09141eb83e16f6b": {
      "model_module": "@jupyter-widgets/controls",
      "model_module_version": "1.5.0",
      "model_name": "ButtonModel",
      "state": {
       "layout": "IPY_MODEL_c629b2b08a5b4012aa66d2b61a931494",
       "style": "IPY_MODEL_f2b055ceecc94c04b8c65f51e2e407fc"
      }
     },
     "4c48e2a7d8d84e71ad19fce014923912": {
      "model_module": "@jupyter-widgets/controls",
      "model_module_version": "1.5.0",
      "model_name": "ButtonStyleModel",
      "state": {}
     },
     "4c614bdfaddb414f8f96775020b3a149": {
      "model_module": "@jupyter-widgets/controls",
      "model_module_version": "1.5.0",
      "model_name": "LabelModel",
      "state": {
       "layout": "IPY_MODEL_bd6438a12fe942f399e52ec3b522e74c",
       "style": "IPY_MODEL_88e5be3a0eb64798b4f79af6e2b6c08c",
       "value": "Armor Set:"
      }
     },
     "4c7a6e15c23346169e11bd1692d7a3e3": {
      "model_module": "@jupyter-widgets/base",
      "model_module_version": "1.2.0",
      "model_name": "LayoutModel",
      "state": {}
     },
     "4c806626c7f44e7cb954daffe7e18ddd": {
      "model_module": "@jupyter-widgets/base",
      "model_module_version": "1.2.0",
      "model_name": "LayoutModel",
      "state": {
       "order": "-1",
       "overflow": "visible",
       "padding": "1px",
       "width": "0px"
      }
     },
     "4cac215ecb7e42ab80a2c268a1d947c9": {
      "model_module": "@jupyter-widgets/base",
      "model_module_version": "1.2.0",
      "model_name": "LayoutModel",
      "state": {
       "height": "32px",
       "overflow": "visible",
       "width": "100%"
      }
     },
     "4cafd3a102cd4bc5837da2a01ce9e732": {
      "model_module": "@jupyter-widgets/base",
      "model_module_version": "1.2.0",
      "model_name": "LayoutModel",
      "state": {}
     },
     "4cb119ffb7f64c9eaee1f4447a99da24": {
      "model_module": "@jupyter-widgets/controls",
      "model_module_version": "1.5.0",
      "model_name": "LabelModel",
      "state": {
       "layout": "IPY_MODEL_9e017e6ad0944a1ebdec468b44f5e46f",
       "style": "IPY_MODEL_c38c65c32fe34253ba3986db5cb10f3d",
       "value": "   objective"
      }
     },
     "4cb3ab46c41d4141891b0beb60ac2229": {
      "model_module": "@jupyter-widgets/controls",
      "model_module_version": "1.5.0",
      "model_name": "ProgressStyleModel",
      "state": {
       "description_width": ""
      }
     },
     "4cb5e7551d764ff48905f3ff6d5b95c0": {
      "model_module": "@jupyter-widgets/base",
      "model_module_version": "1.2.0",
      "model_name": "LayoutModel",
      "state": {
       "height": "32px",
       "overflow": "visible",
       "width": "100%"
      }
     },
     "4ce4aa2157524996836b7d0beb8d9991": {
      "model_module": "@jupyter-widgets/controls",
      "model_module_version": "1.5.0",
      "model_name": "VBoxModel",
      "state": {
       "children": [
        "IPY_MODEL_cf950a3225264d9db21f580c3967bdff",
        "IPY_MODEL_97299c09c7a0496d9c8ae8e4bb014273",
        "IPY_MODEL_6f14bce4266b4709b9b355ece314f9b3",
        "IPY_MODEL_c90e11fba80c4d37af8efe18aa9e6134"
       ],
       "layout": "IPY_MODEL_0fcf81429c7140cb9a57b802d8089466"
      }
     },
     "4d0246719e05424da0d8f6fdf3699caf": {
      "model_module": "@jupyter-widgets/base",
      "model_module_version": "1.2.0",
      "model_name": "LayoutModel",
      "state": {}
     },
     "4d0c0a482579451eb74a18e3cc3eb621": {
      "model_module": "@jupyter-widgets/controls",
      "model_module_version": "1.5.0",
      "model_name": "ButtonModel",
      "state": {
       "description": "EDIT",
       "layout": "IPY_MODEL_244ccbe4a30b4a0d877d31934b116c32",
       "style": "IPY_MODEL_64d34d96699c497993cd85b0ca1238bb"
      }
     },
     "4d4e57ccf4a14866a787a48d28bf6029": {
      "model_module": "@jupyter-widgets/controls",
      "model_module_version": "1.5.0",
      "model_name": "ButtonStyleModel",
      "state": {}
     },
     "4d6159ce82d74a61aa5e4fca27c65396": {
      "model_module": "@jupyter-widgets/base",
      "model_module_version": "1.2.0",
      "model_name": "LayoutModel",
      "state": {
       "height": "32px",
       "overflow": "visible",
       "width": "100%"
      }
     },
     "4d6397634ffe4bd982c7fc475f149a28": {
      "model_module": "@jupyter-widgets/controls",
      "model_module_version": "1.5.0",
      "model_name": "HBoxModel",
      "state": {
       "children": [
        "IPY_MODEL_15dc281c10ac429db293d33f2e3c19ee",
        "IPY_MODEL_2a0f7f02ed4e4d3b81cd5587a0502949",
        "IPY_MODEL_446c215e96fd41139df5613b717508b4",
        "IPY_MODEL_58f72ce20a644c5d8e6985b4ae438426"
       ],
       "layout": "IPY_MODEL_9f9282c8867f4202b472c619dd3ea3f0"
      }
     },
     "4d6bb078779745b4a388ae475b9e7618": {
      "model_module": "@jupyter-widgets/controls",
      "model_module_version": "1.5.0",
      "model_name": "DescriptionStyleModel",
      "state": {
       "description_width": ""
      }
     },
     "4d8b570df6e348d28dee312a8bb01790": {
      "model_module": "@jupyter-widgets/base",
      "model_module_version": "1.2.0",
      "model_name": "LayoutModel",
      "state": {}
     },
     "4dabd923a43d4feaaede42b433406771": {
      "model_module": "@jupyter-widgets/base",
      "model_module_version": "1.2.0",
      "model_name": "LayoutModel",
      "state": {
       "border": "3px solid white",
       "flex": "1 1 0%",
       "margin": "10px",
       "min_width": "400px",
       "overflow": "visible",
       "padding": "10px",
       "width": "auto"
      }
     },
     "4dae5829975046089779473c635ef7ff": {
      "model_module": "@jupyter-widgets/base",
      "model_module_version": "1.2.0",
      "model_name": "LayoutModel",
      "state": {
       "overflow": "visible",
       "width": "100%"
      }
     },
     "4db2c36f5c9d4a62a8044a1fc34480b6": {
      "model_module": "@jupyter-widgets/controls",
      "model_module_version": "1.5.0",
      "model_name": "HBoxModel",
      "state": {
       "children": [
        "IPY_MODEL_f9f489541a4c4b759b6a624401bd566a",
        "IPY_MODEL_5f0fd29016f34c63bb8e7ad7868acc54",
        "IPY_MODEL_22a3950dc03b4eb58786ca7b0e80dd12",
        "IPY_MODEL_75174ca4b53d4beea5a91aa699101ef9"
       ],
       "layout": "IPY_MODEL_981325dbfbd741dda156b31e8e8c7f77"
      }
     },
     "4db8862745604caf85022614e5d569ad": {
      "model_module": "@jupyter-widgets/controls",
      "model_module_version": "1.5.0",
      "model_name": "ButtonModel",
      "state": {
       "description": "EDIT",
       "layout": "IPY_MODEL_88d90a3664f2428f8a745c55dc2c54d8",
       "style": "IPY_MODEL_0c7428fbd3f84da2b2739ae892cef8d4"
      }
     },
     "4db9c80b017a432aac4ea73119725147": {
      "model_module": "@jupyter-widgets/base",
      "model_module_version": "1.2.0",
      "model_name": "LayoutModel",
      "state": {
       "height": "32px",
       "overflow": "visible",
       "width": "100%"
      }
     },
     "4dcf1dae76ee4e1a99e5cdef17a59d2a": {
      "model_module": "@jupyter-widgets/base",
      "model_module_version": "1.2.0",
      "model_name": "LayoutModel",
      "state": {
       "order": "-1",
       "overflow": "visible",
       "padding": "1px",
       "width": "0px"
      }
     },
     "4dd2a4c18c7742959927005a26fc6528": {
      "model_module": "@jupyter-widgets/base",
      "model_module_version": "1.2.0",
      "model_name": "LayoutModel",
      "state": {
       "order": "-1",
       "overflow": "visible",
       "padding": "1px",
       "width": "0px"
      }
     },
     "4ded4e2e2bde451ca801fc19a418ca99": {
      "model_module": "@jupyter-widgets/controls",
      "model_module_version": "1.5.0",
      "model_name": "DescriptionStyleModel",
      "state": {
       "description_width": ""
      }
     },
     "4e17128638d84930b74363224cbc2fcb": {
      "model_module": "@jupyter-widgets/controls",
      "model_module_version": "1.5.0",
      "model_name": "VBoxModel",
      "state": {
       "children": [
        "IPY_MODEL_0b7b4ac0a6ca42d7b40236d5322e9fd2",
        "IPY_MODEL_4eee3ccefa564a958b9bb1941112e8d6",
        "IPY_MODEL_6a29a1fa7bf14d1d88cc3823d9dd21ea",
        "IPY_MODEL_fb50184075c742278aaf4b9011308a05",
        "IPY_MODEL_e0169d36bd61497f9fbe6364c4432225",
        "IPY_MODEL_8c95bf4208fe4f88ad3905246d32a19a",
        "IPY_MODEL_8e12f70036bd4b24a2b3f095cc5415e3",
        "IPY_MODEL_4f19d0fc2eaa4826a986a4bc4c877e2c",
        "IPY_MODEL_0ba80bc8e5bc4ec89515e87b2a39098f"
       ],
       "layout": "IPY_MODEL_b451e4ed7ba04a11911b0f17b782ff42"
      }
     },
     "4e18bc364d7143568c6ff159cecd7ea9": {
      "model_module": "@jupyter-widgets/controls",
      "model_module_version": "1.5.0",
      "model_name": "DescriptionStyleModel",
      "state": {
       "description_width": ""
      }
     },
     "4e19b8e261e3487fadcb181de8a3a21c": {
      "model_module": "@jupyter-widgets/controls",
      "model_module_version": "1.5.0",
      "model_name": "ProgressStyleModel",
      "state": {
       "description_width": ""
      }
     },
     "4e5f5a26fda14b3f855a9a52cf1d6171": {
      "model_module": "@jupyter-widgets/controls",
      "model_module_version": "1.5.0",
      "model_name": "ButtonStyleModel",
      "state": {}
     },
     "4e942995ccb64ce9a1125053a41c9e49": {
      "model_module": "@jupyter-widgets/controls",
      "model_module_version": "1.5.0",
      "model_name": "ButtonModel",
      "state": {
       "layout": "IPY_MODEL_9b554f70080949a38caeafc5a2ca65d2",
       "style": "IPY_MODEL_80866dbe6e4f49c0ad58e5f5b88337dc"
      }
     },
     "4eaac8d65b584635b14ff75c2d5d6021": {
      "model_module": "@jupyter-widgets/base",
      "model_module_version": "1.2.0",
      "model_name": "LayoutModel",
      "state": {}
     },
     "4ed2e87c7d3645408bccbac51077ed0a": {
      "model_module": "@jupyter-widgets/controls",
      "model_module_version": "1.5.0",
      "model_name": "DescriptionStyleModel",
      "state": {
       "description_width": ""
      }
     },
     "4eee3ccefa564a958b9bb1941112e8d6": {
      "model_module": "@jupyter-widgets/controls",
      "model_module_version": "1.5.0",
      "model_name": "LabelModel",
      "state": {
       "layout": "IPY_MODEL_0e00144c3ccb41e1b0f55b1657a90391",
       "style": "IPY_MODEL_7e3e096fb1774041bed0bb4259e7aa4b",
       "value": "Class:"
      }
     },
     "4ef2b8c3542f46778a579ed15e6d35a2": {
      "model_module": "@jupyter-widgets/controls",
      "model_module_version": "1.5.0",
      "model_name": "ButtonModel",
      "state": {
       "layout": "IPY_MODEL_eb9a4bf3a86b4942a6c060a3c3f42953",
       "style": "IPY_MODEL_1d1e812d3c614c2d8da9e83f1e30cce9"
      }
     },
     "4f11e69f6b50497387c0ac3bd09b6768": {
      "model_module": "@jupyter-widgets/base",
      "model_module_version": "1.2.0",
      "model_name": "LayoutModel",
      "state": {
       "height": "32px",
       "overflow": "visible",
       "width": "100%"
      }
     },
     "4f19d0fc2eaa4826a986a4bc4c877e2c": {
      "model_module": "@jupyter-widgets/controls",
      "model_module_version": "1.5.0",
      "model_name": "LabelModel",
      "state": {
       "layout": "IPY_MODEL_c39d2f726407415ea85eba1d4e2009aa",
       "style": "IPY_MODEL_010edbdc68bb46cfb1de09f07cff7a46",
       "value": "Grenade:"
      }
     },
     "4f3ce10a6b584e759ef1cb4bce57c80c": {
      "model_module": "@jupyter-widgets/controls",
      "model_module_version": "1.5.0",
      "model_name": "IntProgressModel",
      "state": {
       "layout": "IPY_MODEL_2be00c1184a346929a70ce741010e50d",
       "style": "IPY_MODEL_e3d482b62e2e4b9d918e2c9d9dc94552",
       "value": 30
      }
     },
     "4f493ee89eb24268b87f66c7f4f1668d": {
      "model_module": "@jupyter-widgets/base",
      "model_module_version": "1.2.0",
      "model_name": "LayoutModel",
      "state": {
       "width": "60px"
      }
     },
     "4f6883ff00a94892a398efa159e4f1e3": {
      "model_module": "@jupyter-widgets/controls",
      "model_module_version": "1.5.0",
      "model_name": "ButtonModel",
      "state": {
       "layout": "IPY_MODEL_f901192e05f84ec290bafeefc12706aa",
       "style": "IPY_MODEL_9dc813ecf208436eb444fbc8bdc6f684"
      }
     },
     "4f81b8f4a2b24cc2a99868160d44f2f5": {
      "model_module": "@jupyter-widgets/base",
      "model_module_version": "1.2.0",
      "model_name": "LayoutModel",
      "state": {
       "height": "32px",
       "overflow": "visible",
       "width": "100%"
      }
     },
     "4f96c22f15b14b47844ac5e994e18443": {
      "model_module": "@jupyter-widgets/controls",
      "model_module_version": "1.5.0",
      "model_name": "ButtonStyleModel",
      "state": {}
     },
     "4f9bb2950c0d457ca2054e399ca7dc10": {
      "model_module": "@jupyter-widgets/controls",
      "model_module_version": "1.5.0",
      "model_name": "ButtonModel",
      "state": {
       "description": "EDIT",
       "layout": "IPY_MODEL_e1aebefd2bd84a65b473722dee6a3703",
       "style": "IPY_MODEL_452a944fa82f4a7e882a9014daf91b95"
      }
     },
     "4fbf832ed7a84a8eaa5e7c41861bf241": {
      "model_module": "@jupyter-widgets/controls",
      "model_module_version": "1.5.0",
      "model_name": "HTMLModel",
      "state": {
       "layout": "IPY_MODEL_f9e2cb701fb9405299bbb610169c35b2",
       "style": "IPY_MODEL_c383539640d54503a1add342a2d8e5b6",
       "value": "<font size=\"1\">Path/Path/Path/Path/</font size>"
      }
     },
     "4fc6118b2ac248fe9ffe8dbca12b75d1": {
      "model_module": "@jupyter-widgets/base",
      "model_module_version": "1.2.0",
      "model_name": "LayoutModel",
      "state": {
       "order": "-1",
       "overflow": "visible",
       "padding": "1px",
       "width": "0px"
      }
     },
     "4fdb3412d4ee4e29a728e17385658761": {
      "model_module": "@jupyter-widgets/base",
      "model_module_version": "1.2.0",
      "model_name": "LayoutModel",
      "state": {
       "height": "32px",
       "overflow": "visible",
       "width": "100%"
      }
     },
     "4fdc899d603d478c92ed92766dd426a4": {
      "model_module": "@jupyter-widgets/controls",
      "model_module_version": "1.5.0",
      "model_name": "DescriptionStyleModel",
      "state": {
       "description_width": ""
      }
     },
     "4ff13851c39c413fbce655c028f734bc": {
      "model_module": "@jupyter-widgets/base",
      "model_module_version": "1.2.0",
      "model_name": "LayoutModel",
      "state": {
       "width": "60px"
      }
     },
     "50171820f015420f93609dc3a26ae378": {
      "model_module": "@jupyter-widgets/controls",
      "model_module_version": "1.5.0",
      "model_name": "DescriptionStyleModel",
      "state": {
       "description_width": ""
      }
     },
     "506784e2e8f24f63969f7b49972805d3": {
      "model_module": "@jupyter-widgets/controls",
      "model_module_version": "1.5.0",
      "model_name": "ProgressStyleModel",
      "state": {
       "description_width": ""
      }
     },
     "508cead4560c484099a4833cb0df4ce7": {
      "model_module": "@jupyter-widgets/base",
      "model_module_version": "1.2.0",
      "model_name": "LayoutModel",
      "state": {
       "width": "60px"
      }
     },
     "508e90e817b44b1ea9c273804c65eb26": {
      "model_module": "@jupyter-widgets/controls",
      "model_module_version": "1.5.0",
      "model_name": "DescriptionStyleModel",
      "state": {
       "description_width": ""
      }
     },
     "50b5063dc01b4d15845c25737ba5d4bd": {
      "model_module": "@jupyter-widgets/controls",
      "model_module_version": "1.5.0",
      "model_name": "IntProgressModel",
      "state": {
       "layout": "IPY_MODEL_bb4d36a77d064b9085cc8ae7844ee9d4",
       "style": "IPY_MODEL_f7f49bc4eb764ac3b40c3a997e41133e",
       "value": 30
      }
     },
     "50cade5dfd7942428a84a4351fafda78": {
      "model_module": "@jupyter-widgets/controls",
      "model_module_version": "1.5.0",
      "model_name": "HTMLModel",
      "state": {
       "layout": "IPY_MODEL_b22a6bdd55844e6789d1b77e11f053db",
       "style": "IPY_MODEL_65d3d58de61f4f42a96f289016edfa17",
       "value": "<font size=\"1\">Path/Path/Path/Path/</font size>"
      }
     },
     "50d61d59851b44678b32ed0c92c1d5cf": {
      "model_module": "@jupyter-widgets/controls",
      "model_module_version": "1.5.0",
      "model_name": "DescriptionStyleModel",
      "state": {
       "description_width": ""
      }
     },
     "50fc950e12434821afa673aeb3290b2e": {
      "model_module": "@jupyter-widgets/controls",
      "model_module_version": "1.5.0",
      "model_name": "ButtonStyleModel",
      "state": {}
     },
     "50fe7f449ea3443d9c9ccaa00968c0b4": {
      "model_module": "@jupyter-widgets/controls",
      "model_module_version": "1.5.0",
      "model_name": "IntProgressModel",
      "state": {
       "layout": "IPY_MODEL_307b50710e114c18a87bb3ff61360e8b",
       "style": "IPY_MODEL_e3c2a54110a94f3cb25b4b3c0a9403b7",
       "value": 30
      }
     },
     "5117407a072b4ca4b95962535d1352d2": {
      "model_module": "@jupyter-widgets/controls",
      "model_module_version": "1.5.0",
      "model_name": "LabelModel",
      "state": {
       "layout": "IPY_MODEL_8f82773d077f4b71b69a44851a92f213",
       "style": "IPY_MODEL_dd7733c44d8e4867883aa72985efa40d",
       "value": "   objective"
      }
     },
     "5139025850654d869e2f3e36a807e63c": {
      "model_module": "@jupyter-widgets/base",
      "model_module_version": "1.2.0",
      "model_name": "LayoutModel",
      "state": {
       "width": "60px"
      }
     },
     "517dc78e1be94a5cb4d5b8ece49f2c12": {
      "model_module": "@jupyter-widgets/controls",
      "model_module_version": "1.5.0",
      "model_name": "IntProgressModel",
      "state": {
       "layout": "IPY_MODEL_335e5326a5bb45e58df2584fa51c907d",
       "style": "IPY_MODEL_27856c25d72542a1914ce34b29181f48",
       "value": 30
      }
     },
     "519f3a616afc4bf583ae4274a6016a77": {
      "model_module": "@jupyter-widgets/controls",
      "model_module_version": "1.5.0",
      "model_name": "CheckboxModel",
      "state": {
       "description": "Hide Complete Objectives",
       "disabled": false,
       "layout": "IPY_MODEL_9ef63849229548cda35903a623c1cb1f",
       "style": "IPY_MODEL_0e8b295be0b0445d810403491aed889e",
       "value": false
      }
     },
     "51cafd0f58444661b4288ac63c7f6935": {
      "model_module": "@jupyter-widgets/controls",
      "model_module_version": "1.5.0",
      "model_name": "IntProgressModel",
      "state": {
       "layout": "IPY_MODEL_6146a5b321a746aa9b1a84b3f67ab5a4",
       "style": "IPY_MODEL_3f241b71aa3f401b96d2d700ef0f5295",
       "value": 30
      }
     },
     "51f66019bebb48169b98a96e387264d2": {
      "model_module": "@jupyter-widgets/base",
      "model_module_version": "1.2.0",
      "model_name": "LayoutModel",
      "state": {
       "height": "32px",
       "overflow": "visible",
       "width": "100%"
      }
     },
     "521a86348afb4343a6664aa10e564b81": {
      "model_module": "@jupyter-widgets/controls",
      "model_module_version": "1.5.0",
      "model_name": "HBoxModel",
      "state": {
       "children": [
        "IPY_MODEL_3c1a84afb72849228193ce1be678c76f",
        "IPY_MODEL_6fc6cd7e9b7b462f9c28d3580109ef3f",
        "IPY_MODEL_18a8e15a189f4e1089fce2c464719cec",
        "IPY_MODEL_44694c64dbe942ff9582bf775b82b196"
       ],
       "layout": "IPY_MODEL_7a998962b8544a1b9baceba7a7bd6683"
      }
     },
     "526fe836384340bdbd91f5af82f30984": {
      "model_module": "@jupyter-widgets/base",
      "model_module_version": "1.2.0",
      "model_name": "LayoutModel",
      "state": {}
     },
     "52c6d2862f8e4d0eb66452cc68f4bdde": {
      "model_module": "@jupyter-widgets/controls",
      "model_module_version": "1.5.0",
      "model_name": "ProgressStyleModel",
      "state": {
       "description_width": ""
      }
     },
     "52cdc695ac684996ac99817237f84115": {
      "model_module": "@jupyter-widgets/base",
      "model_module_version": "1.2.0",
      "model_name": "LayoutModel",
      "state": {
       "order": "-1",
       "overflow": "visible",
       "padding": "1px",
       "width": "0px"
      }
     },
     "52dc8b305bdc4cdcaa114ab7045b2b56": {
      "model_module": "@jupyter-widgets/base",
      "model_module_version": "1.2.0",
      "model_name": "LayoutModel",
      "state": {}
     },
     "52efd42bb8be41e8ba1add3ac509efe0": {
      "model_module": "@jupyter-widgets/controls",
      "model_module_version": "1.5.0",
      "model_name": "DescriptionStyleModel",
      "state": {
       "description_width": ""
      }
     },
     "52f183d96e3e48888e357f5abbede572": {
      "model_module": "@jupyter-widgets/controls",
      "model_module_version": "1.5.0",
      "model_name": "HBoxModel",
      "state": {
       "children": [
        "IPY_MODEL_c5a76a21fa22418a984553b816260623",
        "IPY_MODEL_7ff8c8ef7dd146ec9a84d3f38da586ad",
        "IPY_MODEL_81aa904a6353412eb7690ce9eee26b86",
        "IPY_MODEL_860758613f7b4b9bba3e7dc78e358c49"
       ],
       "layout": "IPY_MODEL_4eaac8d65b584635b14ff75c2d5d6021"
      }
     },
     "52f958d427224eaf86b2848837b90fcf": {
      "model_module": "@jupyter-widgets/controls",
      "model_module_version": "1.5.0",
      "model_name": "DescriptionStyleModel",
      "state": {
       "description_width": ""
      }
     },
     "52fe85efae9f44c4b8e602506df9d5a1": {
      "model_module": "@jupyter-widgets/base",
      "model_module_version": "1.2.0",
      "model_name": "LayoutModel",
      "state": {}
     },
     "531537f003c54fb2a27f860099cb2589": {
      "model_module": "@jupyter-widgets/controls",
      "model_module_version": "1.5.0",
      "model_name": "DescriptionStyleModel",
      "state": {
       "description_width": ""
      }
     },
     "5338e6e1ec25482fb3abf6ca6be51bc5": {
      "model_module": "@jupyter-widgets/base",
      "model_module_version": "1.2.0",
      "model_name": "LayoutModel",
      "state": {}
     },
     "533db05ea7374d018b3fee8ab39d56d3": {
      "model_module": "@jupyter-widgets/base",
      "model_module_version": "1.2.0",
      "model_name": "LayoutModel",
      "state": {}
     },
     "534115842e5341b9a8ece2ba4ec27feb": {
      "model_module": "@jupyter-widgets/base",
      "model_module_version": "1.2.0",
      "model_name": "LayoutModel",
      "state": {
       "order": "-1",
       "overflow": "visible",
       "padding": "1px",
       "width": "0px"
      }
     },
     "53440c1f7e1845fca17d1d44375abe99": {
      "model_module": "@jupyter-widgets/controls",
      "model_module_version": "1.5.0",
      "model_name": "VBoxModel",
      "state": {
       "children": [
        "IPY_MODEL_8fd812b21e2e43e0b3f7012e69a88948",
        "IPY_MODEL_d6b9bab315734685b405966e8c390267",
        "IPY_MODEL_3908e6cf791c4a47a056ad57d6e4d92b",
        "IPY_MODEL_a5dc1b72e94f4b108841c9d87efffe72",
        "IPY_MODEL_d997767533f0448c803b7e28b08951f3",
        "IPY_MODEL_8f2fc2aa3b3d4436bccfbe8afd76023f"
       ],
       "layout": "IPY_MODEL_8a7ab2b2a23149008447670532675e46"
      }
     },
     "534e9ba9ba374b2a957b804c2a8a4289": {
      "model_module": "@jupyter-widgets/controls",
      "model_module_version": "1.5.0",
      "model_name": "DescriptionStyleModel",
      "state": {
       "description_width": ""
      }
     },
     "5364f75f9aa5462480d11371ebb44f81": {
      "model_module": "@jupyter-widgets/controls",
      "model_module_version": "1.5.0",
      "model_name": "ButtonStyleModel",
      "state": {}
     },
     "53a83fec0b6c4c9380cc47396acf81a5": {
      "model_module": "@jupyter-widgets/controls",
      "model_module_version": "1.5.0",
      "model_name": "ButtonModel",
      "state": {
       "description": "EDIT",
       "layout": "IPY_MODEL_4107cc2415034e0a819222977bdeff0e",
       "style": "IPY_MODEL_75fd4db0995d42d1a1cacb168b664960"
      }
     },
     "53c57aa9cbab4d988bd62fdc13ed2b0e": {
      "model_module": "@jupyter-widgets/base",
      "model_module_version": "1.2.0",
      "model_name": "LayoutModel",
      "state": {}
     },
     "53c84bd467554b758ecc00cbe23f1ca0": {
      "model_module": "@jupyter-widgets/base",
      "model_module_version": "1.2.0",
      "model_name": "LayoutModel",
      "state": {
       "border": "3px solid white",
       "flex": "1 1 0%",
       "margin": "10px",
       "min_width": "400px",
       "overflow": "visible",
       "padding": "10px",
       "width": "auto"
      }
     },
     "53cbe9294e464e818e2e019c44b8b220": {
      "model_module": "@jupyter-widgets/controls",
      "model_module_version": "1.5.0",
      "model_name": "ButtonModel",
      "state": {
       "description": "EDIT",
       "layout": "IPY_MODEL_c749c26569c24790ad7ccf9d2b87af7c",
       "style": "IPY_MODEL_2b40969060944a029894b291ec02389c"
      }
     },
     "53ce456ad55a46bfbeb1ff9b8ee089a7": {
      "model_module": "@jupyter-widgets/controls",
      "model_module_version": "1.5.0",
      "model_name": "ButtonModel",
      "state": {
       "layout": "IPY_MODEL_2a529fb0af75465091b78e9964a3a8e9",
       "style": "IPY_MODEL_3196023a61b94d1095a42277c8cb6245"
      }
     },
     "53dc8b3cd3964a278e5bcbc73377c3c9": {
      "model_module": "@jupyter-widgets/base",
      "model_module_version": "1.2.0",
      "model_name": "LayoutModel",
      "state": {
       "width": "60px"
      }
     },
     "53dfeff0b2ea47fb87c0e95d9ee1e593": {
      "model_module": "@jupyter-widgets/base",
      "model_module_version": "1.2.0",
      "model_name": "LayoutModel",
      "state": {
       "overflow": "visible",
       "width": "100%"
      }
     },
     "53ef15bf001c46f3a6934b4d0522fe44": {
      "model_module": "@jupyter-widgets/controls",
      "model_module_version": "1.5.0",
      "model_name": "ButtonStyleModel",
      "state": {}
     },
     "53fc23e2e9d548979c06d9ce45fd318e": {
      "model_module": "@jupyter-widgets/controls",
      "model_module_version": "1.5.0",
      "model_name": "ButtonStyleModel",
      "state": {}
     },
     "541a3ebf25384ef3912e95d527e6679a": {
      "model_module": "@jupyter-widgets/base",
      "model_module_version": "1.2.0",
      "model_name": "LayoutModel",
      "state": {
       "height": "32px",
       "overflow": "visible",
       "width": "100%"
      }
     },
     "542fe69ce22746b8bdfe573418a9c10a": {
      "model_module": "@jupyter-widgets/controls",
      "model_module_version": "1.5.0",
      "model_name": "ButtonStyleModel",
      "state": {}
     },
     "546f5179ed184bf6bd89166241c7af19": {
      "model_module": "@jupyter-widgets/controls",
      "model_module_version": "1.5.0",
      "model_name": "DescriptionStyleModel",
      "state": {
       "description_width": ""
      }
     },
     "549beafb25244531930f00410393de9c": {
      "model_module": "@jupyter-widgets/controls",
      "model_module_version": "1.5.0",
      "model_name": "ButtonModel",
      "state": {
       "description": "EDIT",
       "layout": "IPY_MODEL_b561c23e80744e6fb6f109645c8f25ed",
       "style": "IPY_MODEL_9095b620be94434db9792126982c579d"
      }
     },
     "54a3c5f4d68f4cd9bc72074b0e8f6038": {
      "model_module": "@jupyter-widgets/controls",
      "model_module_version": "1.5.0",
      "model_name": "LabelModel",
      "state": {
       "layout": "IPY_MODEL_cdfe9b160f4343dbbf081385b459a428",
       "style": "IPY_MODEL_82f0ee4bc4054aafaf04dbf8fc36000a",
       "value": "   objective"
      }
     },
     "54cfb7da69bb4083aa493d060665d56e": {
      "model_module": "@jupyter-widgets/base",
      "model_module_version": "1.2.0",
      "model_name": "LayoutModel",
      "state": {
       "height": "32px",
       "overflow": "visible",
       "width": "100%"
      }
     },
     "54d07227e6554852a118346c5151df8f": {
      "model_module": "@jupyter-widgets/controls",
      "model_module_version": "1.5.0",
      "model_name": "ButtonModel",
      "state": {
       "description": "EDIT",
       "layout": "IPY_MODEL_2aa19a762e134a5295bb56179b94aa05",
       "style": "IPY_MODEL_c91ae090cac244839d2a3ba27d000e5a"
      }
     },
     "54dfbf38170b4e9ab62cf8e907a6c68f": {
      "model_module": "@jupyter-widgets/controls",
      "model_module_version": "1.5.0",
      "model_name": "DescriptionStyleModel",
      "state": {
       "description_width": ""
      }
     },
     "54f8fda3dbba478e846c34128f3b1632": {
      "model_module": "@jupyter-widgets/controls",
      "model_module_version": "1.5.0",
      "model_name": "ButtonStyleModel",
      "state": {}
     },
     "54ff18b384264109ad8a3d79a13ed690": {
      "model_module": "@jupyter-widgets/base",
      "model_module_version": "1.2.0",
      "model_name": "LayoutModel",
      "state": {
       "height": "32px",
       "order": "-2",
       "width": "32px"
      }
     },
     "5507fa20cf564042951b6440ec315ef9": {
      "model_module": "@jupyter-widgets/base",
      "model_module_version": "1.2.0",
      "model_name": "LayoutModel",
      "state": {}
     },
     "550983cd016b408e99f8301836b9af85": {
      "model_module": "@jupyter-widgets/controls",
      "model_module_version": "1.5.0",
      "model_name": "DescriptionStyleModel",
      "state": {
       "description_width": ""
      }
     },
     "552885adde614ca1b0c27a219bf229ce": {
      "model_module": "@jupyter-widgets/base",
      "model_module_version": "1.2.0",
      "model_name": "LayoutModel",
      "state": {
       "width": "60px"
      }
     },
     "552c4939b8044ef9ab8bfa2e6ba7ad6a": {
      "model_module": "@jupyter-widgets/controls",
      "model_module_version": "1.5.0",
      "model_name": "ProgressStyleModel",
      "state": {
       "description_width": ""
      }
     },
     "55326b6a947f442da2963b37034d98cd": {
      "model_module": "@jupyter-widgets/base",
      "model_module_version": "1.2.0",
      "model_name": "LayoutModel",
      "state": {
       "border": "3px solid white",
       "flex": "1 1 0%",
       "margin": "10px",
       "min_width": "400px",
       "overflow": "visible",
       "padding": "10px",
       "width": "auto"
      }
     },
     "553b8ae4a0464c0683cfe4bfdf25a703": {
      "model_module": "@jupyter-widgets/controls",
      "model_module_version": "1.5.0",
      "model_name": "HBoxModel",
      "state": {
       "children": [
        "IPY_MODEL_7c51843061004c6194026a13fcc3741c",
        "IPY_MODEL_b4941cbbbd1547baa8680a6759b8c3e1",
        "IPY_MODEL_106952da208e4a488e6cfaaea087f76b",
        "IPY_MODEL_e1e3b2dd0e8946b28e3d39238b04aa6b"
       ],
       "layout": "IPY_MODEL_fec5401f1e3241a6a18665df5a3a8e37"
      }
     },
     "554be826e07147448ed251c65b80958b": {
      "model_module": "@jupyter-widgets/controls",
      "model_module_version": "1.5.0",
      "model_name": "ProgressStyleModel",
      "state": {
       "description_width": ""
      }
     },
     "5560f0a9061e433fac1fe588f2c3eaa4": {
      "model_module": "@jupyter-widgets/controls",
      "model_module_version": "1.5.0",
      "model_name": "IntProgressModel",
      "state": {
       "layout": "IPY_MODEL_849572afdcf9498dbfe685f22f428198",
       "style": "IPY_MODEL_a42e6e41c3ec49c594daef6c8f0ca327",
       "value": 30
      }
     },
     "556985fa29bc4f5cbadef816255f6630": {
      "model_module": "@jupyter-widgets/controls",
      "model_module_version": "1.5.0",
      "model_name": "DescriptionStyleModel",
      "state": {
       "description_width": ""
      }
     },
     "55793c4bb7f84cdea6d7b4453f99b6a5": {
      "model_module": "@jupyter-widgets/controls",
      "model_module_version": "1.5.0",
      "model_name": "ProgressStyleModel",
      "state": {
       "description_width": ""
      }
     },
     "55a40b66c5c84d8f87df5df4da40df90": {
      "model_module": "@jupyter-widgets/controls",
      "model_module_version": "1.5.0",
      "model_name": "ButtonModel",
      "state": {
       "layout": "IPY_MODEL_beed00c010c84258bbf8913055b0b4c9",
       "style": "IPY_MODEL_35e53bb30c4541238a4a5945aea4de7c"
      }
     },
     "55bd37cf08c742f7a5612420b31de173": {
      "model_module": "@jupyter-widgets/base",
      "model_module_version": "1.2.0",
      "model_name": "LayoutModel",
      "state": {}
     },
     "55c5a9bbb3dc406abec031466062605e": {
      "model_module": "@jupyter-widgets/controls",
      "model_module_version": "1.5.0",
      "model_name": "ButtonStyleModel",
      "state": {}
     },
     "55e6d677c37d449099e11f12038260c9": {
      "model_module": "@jupyter-widgets/controls",
      "model_module_version": "1.5.0",
      "model_name": "DescriptionStyleModel",
      "state": {
       "description_width": ""
      }
     },
     "55f1631295ef486c8071bf9826568fbf": {
      "model_module": "@jupyter-widgets/controls",
      "model_module_version": "1.5.0",
      "model_name": "IntProgressModel",
      "state": {
       "layout": "IPY_MODEL_6493d18f458946d6bd54658b5dae1f41",
       "style": "IPY_MODEL_7fb96db2fb1d4d7f81950f9ea6716e75",
       "value": 30
      }
     },
     "563fc2290bef478eb56a786b5456ed61": {
      "model_module": "@jupyter-widgets/controls",
      "model_module_version": "1.5.0",
      "model_name": "ButtonModel",
      "state": {
       "layout": "IPY_MODEL_849482fcafa048b2b83d6525f333a17f",
       "style": "IPY_MODEL_7cd0cebfaa614878b2dda221be0f3473"
      }
     },
     "56536af189cc45699ccf833b201fba19": {
      "model_module": "@jupyter-widgets/controls",
      "model_module_version": "1.5.0",
      "model_name": "ButtonModel",
      "state": {
       "description": "EDIT",
       "layout": "IPY_MODEL_03673022c2b14898969b877086bd1261",
       "style": "IPY_MODEL_6b30188de16d41f9a681a6b9092cf530"
      }
     },
     "5653af6a79124eb7bccc07de800b2f8c": {
      "model_module": "@jupyter-widgets/base",
      "model_module_version": "1.2.0",
      "model_name": "LayoutModel",
      "state": {
       "width": "60px"
      }
     },
     "565b041c26ff444e80dce08516f396c4": {
      "model_module": "@jupyter-widgets/controls",
      "model_module_version": "1.5.0",
      "model_name": "ButtonStyleModel",
      "state": {}
     },
     "567bd2545a4f49cd96769dad29fbec25": {
      "model_module": "@jupyter-widgets/base",
      "model_module_version": "1.2.0",
      "model_name": "LayoutModel",
      "state": {}
     },
     "56830fc5b340434f9485b61a906ffcdb": {
      "model_module": "@jupyter-widgets/controls",
      "model_module_version": "1.5.0",
      "model_name": "IntProgressModel",
      "state": {
       "layout": "IPY_MODEL_1afd05699ae94b688fe384edb2c3178a",
       "style": "IPY_MODEL_00862c945b2b499b98a72eb558833547",
       "value": 30
      }
     },
     "568379cc725d4e5fa3d4f3360e268ad7": {
      "model_module": "@jupyter-widgets/controls",
      "model_module_version": "1.5.0",
      "model_name": "ButtonStyleModel",
      "state": {}
     },
     "56a2cb83c67e43d2bbdbbac14433017b": {
      "model_module": "@jupyter-widgets/controls",
      "model_module_version": "1.5.0",
      "model_name": "LabelModel",
      "state": {
       "layout": "IPY_MODEL_0c97bdb5b9ba48dba39e0627e3db14cc",
       "style": "IPY_MODEL_b428073fd8fa4da6ac4121613db8cb50",
       "value": "   objective"
      }
     },
     "56a4cf2b800847a3a6e0e6adb8c2e840": {
      "model_module": "@jupyter-widgets/controls",
      "model_module_version": "1.5.0",
      "model_name": "DescriptionStyleModel",
      "state": {
       "description_width": ""
      }
     },
     "56b87d7d00c54e96938caab1e6aa41f1": {
      "model_module": "@jupyter-widgets/base",
      "model_module_version": "1.2.0",
      "model_name": "LayoutModel",
      "state": {
       "border": "",
       "width": "98%"
      }
     },
     "56cc65ed3b4a4f859e300a8304627135": {
      "model_module": "@jupyter-widgets/controls",
      "model_module_version": "1.5.0",
      "model_name": "LabelModel",
      "state": {
       "layout": "IPY_MODEL_e7a6543a75de49efa463efd7b874dcc4",
       "style": "IPY_MODEL_d180543341d64f2da1626d4b2b641dcc",
       "value": "   objective"
      }
     },
     "56cea72a702f4678b8e0bb807a0797ba": {
      "model_module": "@jupyter-widgets/controls",
      "model_module_version": "1.5.0",
      "model_name": "DescriptionStyleModel",
      "state": {
       "description_width": ""
      }
     },
     "56d5c3ecb7b04f8b8e295bcfaeaf3af8": {
      "model_module": "@jupyter-widgets/controls",
      "model_module_version": "1.5.0",
      "model_name": "LabelModel",
      "state": {
       "layout": "IPY_MODEL_79227fadd4884e528e5bd06f05ac2263",
       "style": "IPY_MODEL_3c0e7244aa0648c880a1eedeb242a619",
       "value": "Power Weapon:"
      }
     },
     "56d66a2b76a643ae8661fbc3be2daaac": {
      "model_module": "@jupyter-widgets/base",
      "model_module_version": "1.2.0",
      "model_name": "LayoutModel",
      "state": {
       "width": "60px"
      }
     },
     "56e4d949b21f4f06bf0a8cb4edf13ba7": {
      "model_module": "@jupyter-widgets/base",
      "model_module_version": "1.2.0",
      "model_name": "LayoutModel",
      "state": {
       "height": "32px",
       "order": "-2",
       "width": "32px"
      }
     },
     "570a26de1e34409898283d24278d4591": {
      "model_module": "@jupyter-widgets/controls",
      "model_module_version": "1.5.0",
      "model_name": "DescriptionStyleModel",
      "state": {
       "description_width": ""
      }
     },
     "570bde5920054fe0a6d307ea7d2d5c5e": {
      "model_module": "@jupyter-widgets/controls",
      "model_module_version": "1.5.0",
      "model_name": "IntProgressModel",
      "state": {
       "layout": "IPY_MODEL_f06b9cc54a9a4eeebceed4342bb1f520",
       "style": "IPY_MODEL_8080095fc8364b658099cf2224b137b4",
       "value": 30
      }
     },
     "574bf47c5efe429bb953933f5a5cfe18": {
      "model_module": "@jupyter-widgets/controls",
      "model_module_version": "1.5.0",
      "model_name": "ButtonModel",
      "state": {
       "layout": "IPY_MODEL_c80a547eb208450e8fc71fd3a930ac17",
       "style": "IPY_MODEL_7c174bc40ec34583ad48abc747a30124"
      }
     },
     "57581b24d99a4ff899ba05d99cb0e270": {
      "model_module": "@jupyter-widgets/controls",
      "model_module_version": "1.5.0",
      "model_name": "ButtonStyleModel",
      "state": {}
     },
     "575afc4e7bfb44178c662959be710be8": {
      "model_module": "@jupyter-widgets/base",
      "model_module_version": "1.2.0",
      "model_name": "LayoutModel",
      "state": {
       "order": "-1",
       "overflow": "visible",
       "padding": "1px",
       "width": "0px"
      }
     },
     "576de87d461044008746f95b0a4f7963": {
      "model_module": "@jupyter-widgets/controls",
      "model_module_version": "1.5.0",
      "model_name": "HBoxModel",
      "state": {
       "children": [
        "IPY_MODEL_d6d4ab3d47e6466fbd1a2626b8202bd2",
        "IPY_MODEL_82be266cac1b47f98b3b90ed389a8836",
        "IPY_MODEL_684212ddab1b4a318fdde477cadaea69",
        "IPY_MODEL_b23ec722400645e1b562097c6f4f3311"
       ],
       "layout": "IPY_MODEL_16880c5e4f794da594e3058784bfb18c"
      }
     },
     "5781a63a109c493d832fe52fe5ac3f80": {
      "model_module": "@jupyter-widgets/controls",
      "model_module_version": "1.5.0",
      "model_name": "ButtonModel",
      "state": {
       "description": "EDIT",
       "layout": "IPY_MODEL_ba1838318236490999dba0775feecde0",
       "style": "IPY_MODEL_b5fbd833bc894272839e61d0159c852d"
      }
     },
     "5798bf06ba524dc2b8f7fd577a5dfd31": {
      "model_module": "@jupyter-widgets/controls",
      "model_module_version": "1.5.0",
      "model_name": "ButtonModel",
      "state": {
       "layout": "IPY_MODEL_5a0cd578ed13425caad709ee71ad4beb",
       "style": "IPY_MODEL_1cf9401bbf6249d69dc26de3c3412abb"
      }
     },
     "57b723fc4c574c8cb909762cae384c62": {
      "model_module": "@jupyter-widgets/controls",
      "model_module_version": "1.5.0",
      "model_name": "ButtonStyleModel",
      "state": {}
     },
     "57ee04f33184414b94329f0735c3e066": {
      "model_module": "@jupyter-widgets/base",
      "model_module_version": "1.2.0",
      "model_name": "LayoutModel",
      "state": {
       "overflow": "visible",
       "width": "100%"
      }
     },
     "580ae84a52a940eda9e57b09baa62dda": {
      "model_module": "@jupyter-widgets/controls",
      "model_module_version": "1.5.0",
      "model_name": "ButtonStyleModel",
      "state": {}
     },
     "581a9ed44d8b4bf0988e45eb49a06d50": {
      "model_module": "@jupyter-widgets/controls",
      "model_module_version": "1.5.0",
      "model_name": "ButtonStyleModel",
      "state": {}
     },
     "58417cc34cd946e087ecaf3e0316c465": {
      "model_module": "@jupyter-widgets/base",
      "model_module_version": "1.2.0",
      "model_name": "LayoutModel",
      "state": {
       "height": "32px",
       "order": "-2",
       "width": "32px"
      }
     },
     "5899b29f1e5d4b4298a25d386b3bcd7b": {
      "model_module": "@jupyter-widgets/base",
      "model_module_version": "1.2.0",
      "model_name": "LayoutModel",
      "state": {}
     },
     "58afbee69d684298bb9a3dc0ce238e16": {
      "model_module": "@jupyter-widgets/controls",
      "model_module_version": "1.5.0",
      "model_name": "HBoxModel",
      "state": {
       "children": [
        "IPY_MODEL_aed7adf680204cdcaab400eecf90fc00",
        "IPY_MODEL_83af1a8e5a464fb394894b48d0775ead",
        "IPY_MODEL_e21e65a9b0c44a829bd4f4cad70ea5f8",
        "IPY_MODEL_24eaaaf34ce84146b1e03a2baa2ef75f"
       ],
       "layout": "IPY_MODEL_20785de0aac44f7aaa3dac16c61cc40f"
      }
     },
     "58de2b80577e4ba490160f71da9ac15f": {
      "model_module": "@jupyter-widgets/controls",
      "model_module_version": "1.5.0",
      "model_name": "ButtonStyleModel",
      "state": {}
     },
     "58e36d45443f49fab761d00b54f76aa8": {
      "model_module": "@jupyter-widgets/controls",
      "model_module_version": "1.5.0",
      "model_name": "HTMLModel",
      "state": {
       "layout": "IPY_MODEL_65cfe559c5c646d6b68164f7b07740c0",
       "style": "IPY_MODEL_fa1f7f778ba4414c9ac5f5c1827e39a9",
       "value": "<i>test test test test test test test test test test test test test test test test test test test test test test test test </i>"
      }
     },
     "58f22265ccab4d17a33bd1a434808e4a": {
      "model_module": "@jupyter-widgets/controls",
      "model_module_version": "1.5.0",
      "model_name": "IntProgressModel",
      "state": {
       "layout": "IPY_MODEL_5eb4ad60ff7a4be382fec1467523a120",
       "style": "IPY_MODEL_ed409e8ff6af42139e03c82d146ace8d",
       "value": 30
      }
     },
     "58f72ce20a644c5d8e6985b4ae438426": {
      "model_module": "@jupyter-widgets/controls",
      "model_module_version": "1.5.0",
      "model_name": "ButtonModel",
      "state": {
       "description": "EDIT",
       "layout": "IPY_MODEL_5a1f2c2ccabc4ddcbc5bf0359f7cbd17",
       "style": "IPY_MODEL_92202d1369f843bf832c89b4f97897cf"
      }
     },
     "59168165e5a449869461a8288be400a7": {
      "model_module": "@jupyter-widgets/controls",
      "model_module_version": "1.5.0",
      "model_name": "ButtonModel",
      "state": {
       "description": "EDIT",
       "layout": "IPY_MODEL_f4272f8bb1114978b16519d7f1767757",
       "style": "IPY_MODEL_e38ba168224f4b80a835b9b533fb2453"
      }
     },
     "59254b003da84a94894f04d3802f0c57": {
      "model_module": "@jupyter-widgets/base",
      "model_module_version": "1.2.0",
      "model_name": "LayoutModel",
      "state": {
       "order": "-1",
       "overflow": "visible",
       "padding": "1px",
       "width": "0px"
      }
     },
     "59523bd584314afeb3f7ff955aa42d72": {
      "model_module": "@jupyter-widgets/base",
      "model_module_version": "1.2.0",
      "model_name": "LayoutModel",
      "state": {}
     },
     "595810a7e33744529665da386caddb6f": {
      "model_module": "@jupyter-widgets/controls",
      "model_module_version": "1.5.0",
      "model_name": "VBoxModel",
      "state": {
       "children": [
        "IPY_MODEL_aadf71a72211490ca2d5235896617e70",
        "IPY_MODEL_088bf589382e488bab670a5b4f3de4ae",
        "IPY_MODEL_2f35e1ef1a4c49649698c27aa4372b03",
        "IPY_MODEL_f288c343b434471f861ce70310d1db65"
       ],
       "layout": "IPY_MODEL_b65b31f13a964141b1af682473da3ee2"
      }
     },
     "596dd5c1bcce4104baa7df98d7c7a34e": {
      "model_module": "@jupyter-widgets/base",
      "model_module_version": "1.2.0",
      "model_name": "LayoutModel",
      "state": {
       "height": "32px",
       "order": "-2",
       "width": "32px"
      }
     },
     "598d1c802d2f400ca0e401ab0160648a": {
      "model_module": "@jupyter-widgets/controls",
      "model_module_version": "1.5.0",
      "model_name": "HTMLModel",
      "state": {
       "layout": "IPY_MODEL_5d4e04248b6c4bd7af6d474dc25e90bf",
       "style": "IPY_MODEL_4c17d833e8f548e38980284c45c3721e",
       "value": "<b>Task Name</b>"
      }
     },
     "59c6154c8c544458b553d5a5d727256f": {
      "model_module": "@jupyter-widgets/base",
      "model_module_version": "1.2.0",
      "model_name": "LayoutModel",
      "state": {
       "height": "32px",
       "overflow": "visible",
       "width": "100%"
      }
     },
     "59d59581228a44108526cacd8de8a8c8": {
      "model_module": "@jupyter-widgets/controls",
      "model_module_version": "1.5.0",
      "model_name": "DescriptionStyleModel",
      "state": {
       "description_width": ""
      }
     },
     "5a004469627b4b78be1cd7a227df2079": {
      "model_module": "@jupyter-widgets/controls",
      "model_module_version": "1.5.0",
      "model_name": "LabelModel",
      "state": {
       "layout": "IPY_MODEL_df378e115aef49e08c7f159a4c229142",
       "style": "IPY_MODEL_59d59581228a44108526cacd8de8a8c8",
       "value": "   objective"
      }
     },
     "5a0cd578ed13425caad709ee71ad4beb": {
      "model_module": "@jupyter-widgets/base",
      "model_module_version": "1.2.0",
      "model_name": "LayoutModel",
      "state": {
       "height": "32px",
       "order": "-2",
       "width": "32px"
      }
     },
     "5a1f2c2ccabc4ddcbc5bf0359f7cbd17": {
      "model_module": "@jupyter-widgets/base",
      "model_module_version": "1.2.0",
      "model_name": "LayoutModel",
      "state": {
       "width": "60px"
      }
     },
     "5a2826b13c1e4b72a27990a26f7933ce": {
      "model_module": "@jupyter-widgets/base",
      "model_module_version": "1.2.0",
      "model_name": "LayoutModel",
      "state": {
       "width": "60px"
      }
     },
     "5a6ead0fc9604d25a25613d250b0ccad": {
      "model_module": "@jupyter-widgets/base",
      "model_module_version": "1.2.0",
      "model_name": "LayoutModel",
      "state": {
       "height": "32px",
       "overflow": "visible",
       "width": "100%"
      }
     },
     "5a773447187f429cad632b914aba3f60": {
      "model_module": "@jupyter-widgets/controls",
      "model_module_version": "1.5.0",
      "model_name": "HTMLModel",
      "state": {
       "layout": "IPY_MODEL_97f30c8f64b3459d99c2fb4eba94512e",
       "style": "IPY_MODEL_28f5cd71a7014f418844ae5bf4a532e4",
       "value": "<b>Task Name</b>"
      }
     },
     "5a80406f02c243b7888848553ce3b7cf": {
      "model_module": "@jupyter-widgets/base",
      "model_module_version": "1.2.0",
      "model_name": "LayoutModel",
      "state": {
       "height": "32px",
       "order": "-2",
       "width": "32px"
      }
     },
     "5a977ff92e8b403c84368210882ecc9b": {
      "model_module": "@jupyter-widgets/controls",
      "model_module_version": "1.5.0",
      "model_name": "LabelModel",
      "state": {
       "layout": "IPY_MODEL_8b5946256a6a4806ae71b77ed4a57af5",
       "style": "IPY_MODEL_76bb6e4cb4254144abc595ba8add3c95",
       "value": "   objective"
      }
     },
     "5a9e8c3071f14e02987eced4a17e8c41": {
      "model_module": "@jupyter-widgets/base",
      "model_module_version": "1.2.0",
      "model_name": "LayoutModel",
      "state": {
       "width": "60px"
      }
     },
     "5ac4e36db739443292d23a0f2cbb28e3": {
      "model_module": "@jupyter-widgets/controls",
      "model_module_version": "1.5.0",
      "model_name": "ButtonModel",
      "state": {
       "layout": "IPY_MODEL_d5880f1123f347fa82b48edeac08fde0",
       "style": "IPY_MODEL_f47a22a60963473bb2d5031077ac8c91"
      }
     },
     "5ac53a58a0544f379f972f1ec387feaf": {
      "model_module": "@jupyter-widgets/base",
      "model_module_version": "1.2.0",
      "model_name": "LayoutModel",
      "state": {}
     },
     "5acd464ac4ae4ca2bbbd95fa24449131": {
      "model_module": "@jupyter-widgets/controls",
      "model_module_version": "1.5.0",
      "model_name": "LabelModel",
      "state": {
       "layout": "IPY_MODEL_4be895e3f503492dbbe762e8a8b768b8",
       "style": "IPY_MODEL_570a26de1e34409898283d24278d4591",
       "value": "   objective"
      }
     },
     "5ad91d6ec5864a4084b3ca9d32d526fb": {
      "model_module": "@jupyter-widgets/controls",
      "model_module_version": "1.5.0",
      "model_name": "DescriptionStyleModel",
      "state": {
       "description_width": ""
      }
     },
     "5adab9ac361649dea76ba564a9df3ab4": {
      "model_module": "@jupyter-widgets/controls",
      "model_module_version": "1.5.0",
      "model_name": "ButtonModel",
      "state": {
       "description": "EDIT",
       "layout": "IPY_MODEL_83f69596b79945bcbea116b414cfc063",
       "style": "IPY_MODEL_b8eb04cde33c46b09edb5ff31f6cce1f"
      }
     },
     "5adb423081134981aeee526f1e889b19": {
      "model_module": "@jupyter-widgets/controls",
      "model_module_version": "1.5.0",
      "model_name": "ButtonStyleModel",
      "state": {}
     },
     "5adb725af0fb40069900c99437375d86": {
      "model_module": "@jupyter-widgets/controls",
      "model_module_version": "1.5.0",
      "model_name": "BoxModel",
      "state": {
       "children": [
        "IPY_MODEL_b52781e3386f44dc8ffff600e16a2c01",
        "IPY_MODEL_2f998c52a0fa45b390cae62de3828705",
        "IPY_MODEL_b240b02da7e04c17819f2c5a7e1aa528",
        "IPY_MODEL_fd7f329ce24d4cdca3993dfd4da0ce37",
        "IPY_MODEL_21611e0388264783a71bb32b0e9c0d92",
        "IPY_MODEL_cfde11efcd964babafe52d66624d302a",
        "IPY_MODEL_6dc3a9208f8f48efa2be4cb17de42abc",
        "IPY_MODEL_97f7fc6b83a14797bc4cef0072b4b525",
        "IPY_MODEL_86b9df52383d493188d51269b5ea14ff",
        "IPY_MODEL_2531fcc6e28f47afb98c4ce0c436a324",
        "IPY_MODEL_f736b5a3cb2e46708a26cf937b6ed6a4",
        "IPY_MODEL_de18a4877d774efab518e487f5797671",
        "IPY_MODEL_3e6acdf682084b75aab19f46138bee30",
        "IPY_MODEL_beaefadcec644b41891326fc6ec8f3d0",
        "IPY_MODEL_ea25f67c03694db28dd6f3472c68c2c8"
       ],
       "layout": "IPY_MODEL_7ac50edb2e6c4aa680906bf16ffc92a9"
      }
     },
     "5ae89b393e2c46f396132612322ac450": {
      "model_module": "@jupyter-widgets/controls",
      "model_module_version": "1.5.0",
      "model_name": "DescriptionStyleModel",
      "state": {
       "description_width": ""
      }
     },
     "5b027b59fd4d41b18fcdd1570caf9886": {
      "model_module": "@jupyter-widgets/controls",
      "model_module_version": "1.5.0",
      "model_name": "ButtonStyleModel",
      "state": {}
     },
     "5b076bc1e374495dbd878f24859ae6b1": {
      "model_module": "@jupyter-widgets/controls",
      "model_module_version": "1.5.0",
      "model_name": "HTMLModel",
      "state": {
       "layout": "IPY_MODEL_bf9f7d90b3c444e78a6a7440fb40eb6a",
       "style": "IPY_MODEL_03f9bcab92b148b19ce7f0734390dbc8",
       "value": "<i>test test test test test test test test test test test test test test test test test test test test test test test test </i>"
      }
     },
     "5b6ed87a1864431d949df284b0c6fc8e": {
      "model_module": "@jupyter-widgets/base",
      "model_module_version": "1.2.0",
      "model_name": "LayoutModel",
      "state": {
       "order": "-1",
       "overflow": "visible",
       "padding": "1px",
       "width": "0px"
      }
     },
     "5b821c1d9c5c43dca04bc52c76ce87b4": {
      "model_module": "@jupyter-widgets/controls",
      "model_module_version": "1.5.0",
      "model_name": "DescriptionStyleModel",
      "state": {
       "description_width": ""
      }
     },
     "5b8264d3d7d3462d9c32905a72ee5253": {
      "model_module": "@jupyter-widgets/controls",
      "model_module_version": "1.5.0",
      "model_name": "DescriptionStyleModel",
      "state": {
       "description_width": ""
      }
     },
     "5ba16f1d9a4f40e48773811b0f07b3e5": {
      "model_module": "@jupyter-widgets/controls",
      "model_module_version": "1.5.0",
      "model_name": "ButtonStyleModel",
      "state": {}
     },
     "5ba541160cbb423d85d63b8a6fb35d39": {
      "model_module": "@jupyter-widgets/controls",
      "model_module_version": "1.5.0",
      "model_name": "ButtonStyleModel",
      "state": {}
     },
     "5bc0f219f1f54f0688c8371ee69e0c29": {
      "model_module": "@jupyter-widgets/controls",
      "model_module_version": "1.5.0",
      "model_name": "DescriptionStyleModel",
      "state": {
       "description_width": ""
      }
     },
     "5bed2aaa2e8c45a0b045909bd6e389f0": {
      "model_module": "@jupyter-widgets/controls",
      "model_module_version": "1.5.0",
      "model_name": "ButtonModel",
      "state": {
       "layout": "IPY_MODEL_b2616132e074474197e2b3543aaa7eaa",
       "style": "IPY_MODEL_415419828ca04609942c4384d815f70d"
      }
     },
     "5c0c6866567a4a649df4f5983d5b038e": {
      "model_module": "@jupyter-widgets/base",
      "model_module_version": "1.2.0",
      "model_name": "LayoutModel",
      "state": {
       "height": "32px",
       "overflow": "visible",
       "width": "100%"
      }
     },
     "5c0f624eafd14c65b38f690bf0c87840": {
      "model_module": "@jupyter-widgets/base",
      "model_module_version": "1.2.0",
      "model_name": "LayoutModel",
      "state": {}
     },
     "5c11fa876dbc4be3b82751d088459648": {
      "model_module": "@jupyter-widgets/controls",
      "model_module_version": "1.5.0",
      "model_name": "ButtonStyleModel",
      "state": {}
     },
     "5c37e6049e6e47cfb8223a27d9a0fb91": {
      "model_module": "@jupyter-widgets/base",
      "model_module_version": "1.2.0",
      "model_name": "LayoutModel",
      "state": {
       "display": "flex",
       "flex_flow": "row wrap"
      }
     },
     "5c3e72177627466ea092570ecaaa68ea": {
      "model_module": "@jupyter-widgets/controls",
      "model_module_version": "1.5.0",
      "model_name": "ButtonModel",
      "state": {
       "description": "EDIT",
       "layout": "IPY_MODEL_4f493ee89eb24268b87f66c7f4f1668d",
       "style": "IPY_MODEL_9312bc3a20954730b9914b960f56eefb"
      }
     },
     "5c423fc480f9444db55225c5ded9c94b": {
      "model_module": "@jupyter-widgets/controls",
      "model_module_version": "1.5.0",
      "model_name": "ProgressStyleModel",
      "state": {
       "description_width": ""
      }
     },
     "5c446d2445fd48f4bd23400375aa5bbc": {
      "model_module": "@jupyter-widgets/base",
      "model_module_version": "1.2.0",
      "model_name": "LayoutModel",
      "state": {
       "height": "32px",
       "overflow": "visible",
       "width": "100%"
      }
     },
     "5c481c103a7844739548938941d2f87a": {
      "model_module": "@jupyter-widgets/controls",
      "model_module_version": "1.5.0",
      "model_name": "DescriptionStyleModel",
      "state": {
       "description_width": ""
      }
     },
     "5c5417461280499784ee6d66014a4c2c": {
      "model_module": "@jupyter-widgets/base",
      "model_module_version": "1.2.0",
      "model_name": "LayoutModel",
      "state": {
       "border": "3px solid white",
       "flex": "1 1 0%",
       "margin": "10px",
       "min_width": "400px",
       "overflow": "visible",
       "padding": "10px",
       "width": "auto"
      }
     },
     "5c56c2299fc345af8c61f9f0c51d7e77": {
      "model_module": "@jupyter-widgets/controls",
      "model_module_version": "1.5.0",
      "model_name": "LabelModel",
      "state": {
       "layout": "IPY_MODEL_29fc7bd8ed23460eb483aa05fb2fad49",
       "style": "IPY_MODEL_bd34524cc6b6402daaf925704b8c5e29",
       "value": "   objective"
      }
     },
     "5c611db05b3b42e19a247b80e1a33ea7": {
      "model_module": "@jupyter-widgets/base",
      "model_module_version": "1.2.0",
      "model_name": "LayoutModel",
      "state": {
       "width": "60px"
      }
     },
     "5c62227d3fc64dc4aae8a5e48c9694c1": {
      "model_module": "@jupyter-widgets/controls",
      "model_module_version": "1.5.0",
      "model_name": "DescriptionStyleModel",
      "state": {
       "description_width": ""
      }
     },
     "5c7eef1c024c47399e6b5e1d51e81e7b": {
      "model_module": "@jupyter-widgets/controls",
      "model_module_version": "1.5.0",
      "model_name": "ButtonStyleModel",
      "state": {}
     },
     "5c8e588325e7475da7f652adf7d3d806": {
      "model_module": "@jupyter-widgets/controls",
      "model_module_version": "1.5.0",
      "model_name": "ProgressStyleModel",
      "state": {
       "description_width": ""
      }
     },
     "5cc1bd97f2b24287b37f764e1cfe7fd9": {
      "model_module": "@jupyter-widgets/controls",
      "model_module_version": "1.5.0",
      "model_name": "ButtonModel",
      "state": {
       "layout": "IPY_MODEL_bf58d9744f3b4255bd32af6650945603",
       "style": "IPY_MODEL_5c7eef1c024c47399e6b5e1d51e81e7b"
      }
     },
     "5d14c902e5854e048948cbf79ca97e3a": {
      "model_module": "@jupyter-widgets/controls",
      "model_module_version": "1.5.0",
      "model_name": "ButtonModel",
      "state": {
       "layout": "IPY_MODEL_f88bdf9e9e3c4477808b8c4760013258",
       "style": "IPY_MODEL_1a9a6b1f4421449bab6fd45b964bca99"
      }
     },
     "5d30c8c272c94cbc9ef8f3e6622d26f5": {
      "model_module": "@jupyter-widgets/controls",
      "model_module_version": "1.5.0",
      "model_name": "IntProgressModel",
      "state": {
       "layout": "IPY_MODEL_7403a46c2eb64b3f9194154977f20f4d",
       "style": "IPY_MODEL_5c8e588325e7475da7f652adf7d3d806",
       "value": 30
      }
     },
     "5d4e04248b6c4bd7af6d474dc25e90bf": {
      "model_module": "@jupyter-widgets/base",
      "model_module_version": "1.2.0",
      "model_name": "LayoutModel",
      "state": {
       "overflow": "visible",
       "width": "100%"
      }
     },
     "5d81974a6e8241188437aca9d0dd898b": {
      "model_module": "@jupyter-widgets/controls",
      "model_module_version": "1.5.0",
      "model_name": "HTMLModel",
      "state": {
       "layout": "IPY_MODEL_d06f8ec1692d4f2eac1bd1e06e76ef68",
       "style": "IPY_MODEL_eb40104af0f34c0aa187cc9d07d2c9f5",
       "value": "<font size=\"1\">Path/Path/Path/Path/</font size>"
      }
     },
     "5d9db64b1e3840c88659d42e9b68d8b5": {
      "model_module": "@jupyter-widgets/controls",
      "model_module_version": "1.5.0",
      "model_name": "ButtonStyleModel",
      "state": {}
     },
     "5db2696218ad461793fbff7e19f2f35a": {
      "model_module": "@jupyter-widgets/controls",
      "model_module_version": "1.5.0",
      "model_name": "ButtonModel",
      "state": {
       "description": "EDIT",
       "layout": "IPY_MODEL_abaa5bd520454febbbdebeb01c5a7dfa",
       "style": "IPY_MODEL_139ee11382304a5c877270fa83f4fde0"
      }
     },
     "5db93460415748dc90327783a25a1a71": {
      "model_module": "@jupyter-widgets/controls",
      "model_module_version": "1.5.0",
      "model_name": "DescriptionStyleModel",
      "state": {
       "description_width": ""
      }
     },
     "5dc8d9299ed14ae7ae0dfde7f563cc95": {
      "model_module": "@jupyter-widgets/controls",
      "model_module_version": "1.5.0",
      "model_name": "ProgressStyleModel",
      "state": {
       "description_width": ""
      }
     },
     "5dd08ddbcd704e6dac6162b2cfe6b63f": {
      "model_module": "@jupyter-widgets/base",
      "model_module_version": "1.2.0",
      "model_name": "LayoutModel",
      "state": {
       "height": "32px",
       "order": "-2",
       "width": "32px"
      }
     },
     "5de4389e690f4a509dc0298f915df35f": {
      "model_module": "@jupyter-widgets/controls",
      "model_module_version": "1.5.0",
      "model_name": "ButtonStyleModel",
      "state": {}
     },
     "5dec96ff78704e68b0f75c5ffcbbe659": {
      "model_module": "@jupyter-widgets/controls",
      "model_module_version": "1.5.0",
      "model_name": "VBoxModel",
      "state": {
       "children": [
        "IPY_MODEL_76bafcc7c7a14b1989fcc08a4236559e",
        "IPY_MODEL_d5f2b96cd0564c11befeb7789a56a796",
        "IPY_MODEL_4e17128638d84930b74363224cbc2fcb",
        "IPY_MODEL_d5f2b96cd0564c11befeb7789a56a796",
        "IPY_MODEL_ac46fe134a9c4303a1e00595f9e14e32"
       ],
       "layout": "IPY_MODEL_f752e87e2e6c4c27a494738d8d2c0ad5"
      }
     },
     "5e14fe7bea1145fd885b48ff10b2f947": {
      "model_module": "@jupyter-widgets/controls",
      "model_module_version": "1.5.0",
      "model_name": "DropdownModel",
      "state": {
       "_options_labels": [
        "All",
        "Active Objectives",
        "Pursuits",
        "Milestones",
        "Triumphs",
        "Collections"
       ],
       "description": "Show:",
       "index": 0,
       "layout": "IPY_MODEL_bd3cd92dc11944eebca7eeebbb6275ac",
       "style": "IPY_MODEL_8a4673a85fcb446dba8dafa3c10806a0"
      }
     },
     "5e325a36fb7f4055b9d1528e5d2b8043": {
      "model_module": "@jupyter-widgets/controls",
      "model_module_version": "1.5.0",
      "model_name": "IntProgressModel",
      "state": {
       "layout": "IPY_MODEL_4b635557c99e4f5e882fff52b7da5830",
       "style": "IPY_MODEL_35a1a8f2884a4526a9bf0751861af503",
       "value": 30
      }
     },
     "5e5ee839d53948d8a36627b8d5292781": {
      "model_module": "@jupyter-widgets/controls",
      "model_module_version": "1.5.0",
      "model_name": "ButtonModel",
      "state": {
       "description": "EDIT",
       "layout": "IPY_MODEL_8c37432676cc48449679e7ba2cd21a75",
       "style": "IPY_MODEL_6c406dd840ef412c827f8c6a686bd16a"
      }
     },
     "5e5f5f43d5c340ab8a51b9aafe091f9b": {
      "model_module": "@jupyter-widgets/base",
      "model_module_version": "1.2.0",
      "model_name": "LayoutModel",
      "state": {
       "height": "300px",
       "justify_content": "space-between"
      }
     },
     "5e6ae3e3ef524f96a1a57f0402fe91d0": {
      "model_module": "@jupyter-widgets/controls",
      "model_module_version": "1.5.0",
      "model_name": "ButtonStyleModel",
      "state": {}
     },
     "5e829042fc6643a98f6a0fea923c6c9d": {
      "model_module": "@jupyter-widgets/controls",
      "model_module_version": "1.5.0",
      "model_name": "ProgressStyleModel",
      "state": {
       "description_width": ""
      }
     },
     "5e937c9cfe584365a0f246f82e3c396c": {
      "model_module": "@jupyter-widgets/controls",
      "model_module_version": "1.5.0",
      "model_name": "ButtonModel",
      "state": {
       "description": "EDIT",
       "layout": "IPY_MODEL_2ac8f007aa0a471db345583132075abc",
       "style": "IPY_MODEL_f9842e7bfcfc4e479c6efbe0636ab414"
      }
     },
     "5eaadf2df1d841409d6295e372cd8c98": {
      "model_module": "@jupyter-widgets/base",
      "model_module_version": "1.2.0",
      "model_name": "LayoutModel",
      "state": {
       "overflow": "visible",
       "width": "100%"
      }
     },
     "5eb4ad60ff7a4be382fec1467523a120": {
      "model_module": "@jupyter-widgets/base",
      "model_module_version": "1.2.0",
      "model_name": "LayoutModel",
      "state": {
       "height": "32px",
       "overflow": "visible",
       "width": "100%"
      }
     },
     "5ebab174fc1246b59a601ca8da06a2ec": {
      "model_module": "@jupyter-widgets/controls",
      "model_module_version": "1.5.0",
      "model_name": "ButtonModel",
      "state": {
       "description": "EDIT",
       "layout": "IPY_MODEL_0b378901c813412d96684ce94951788c",
       "style": "IPY_MODEL_e6aa74f9362f44d8804fb84ae0a6d58d"
      }
     },
     "5edf7432ab1a4c3abef912c85c592b52": {
      "model_module": "@jupyter-widgets/controls",
      "model_module_version": "1.5.0",
      "model_name": "HBoxModel",
      "state": {
       "children": [
        "IPY_MODEL_30f19969761c46b19abd6599a3d98e1f",
        "IPY_MODEL_4be56ea1f3b8463f948acdac2cbc5c75",
        "IPY_MODEL_f15e15518fee497397fba721a1ddaeea",
        "IPY_MODEL_2cd710c72705416193701ea01df553f0"
       ],
       "layout": "IPY_MODEL_110ceba50d03428db6eb72fa1b80d403"
      }
     },
     "5ee6b1e09e2843b1b971d285f9817586": {
      "model_module": "@jupyter-widgets/controls",
      "model_module_version": "1.5.0",
      "model_name": "ButtonStyleModel",
      "state": {}
     },
     "5f0fd29016f34c63bb8e7ad7868acc54": {
      "model_module": "@jupyter-widgets/controls",
      "model_module_version": "1.5.0",
      "model_name": "IntProgressModel",
      "state": {
       "layout": "IPY_MODEL_446401cc2500410fa6b74e5a9316c3b1",
       "style": "IPY_MODEL_9c6d998a6c8f4e99b95daccd52276742",
       "value": 30
      }
     },
     "5f63982945e24daa906e0440df898226": {
      "model_module": "@jupyter-widgets/controls",
      "model_module_version": "1.5.0",
      "model_name": "LabelModel",
      "state": {
       "layout": "IPY_MODEL_9231dee85b004d99b4ca8a33d78aa973",
       "style": "IPY_MODEL_9ba4a40a44de4b249534492c8131e717",
       "value": "   objective"
      }
     },
     "5f6663b9100c42e58add1a792095e204": {
      "model_module": "@jupyter-widgets/controls",
      "model_module_version": "1.5.0",
      "model_name": "ButtonStyleModel",
      "state": {}
     },
     "5f6a750d745d4da0b50f1722e4d9cac7": {
      "model_module": "@jupyter-widgets/controls",
      "model_module_version": "1.5.0",
      "model_name": "ButtonModel",
      "state": {
       "layout": "IPY_MODEL_f5177859339a471a8312233da69336f0",
       "style": "IPY_MODEL_e518d08d567c4b2293e4b844ba89028b"
      }
     },
     "5f802675c40745c387c58032a091a3c5": {
      "model_module": "@jupyter-widgets/base",
      "model_module_version": "1.2.0",
      "model_name": "LayoutModel",
      "state": {
       "order": "-1",
       "overflow": "visible",
       "padding": "1px",
       "width": "0px"
      }
     },
     "5f88a36a71a942428ee8fdf1d7f5dca1": {
      "model_module": "@jupyter-widgets/controls",
      "model_module_version": "1.5.0",
      "model_name": "DescriptionStyleModel",
      "state": {
       "description_width": ""
      }
     },
     "5fa0d17423f1466caf0e255a789cc75c": {
      "model_module": "@jupyter-widgets/controls",
      "model_module_version": "1.5.0",
      "model_name": "DescriptionStyleModel",
      "state": {
       "description_width": ""
      }
     },
     "5fe2c2d14c0e4b7d8aaffdf2dc8d4c4a": {
      "model_module": "@jupyter-widgets/controls",
      "model_module_version": "1.5.0",
      "model_name": "DescriptionStyleModel",
      "state": {
       "description_width": ""
      }
     },
     "5ff4f24adbc5441a930b25fe65261873": {
      "model_module": "@jupyter-widgets/controls",
      "model_module_version": "1.5.0",
      "model_name": "DescriptionStyleModel",
      "state": {
       "description_width": ""
      }
     },
     "60176e84dd0c4ccc86c309907ee7a2a4": {
      "model_module": "@jupyter-widgets/controls",
      "model_module_version": "1.5.0",
      "model_name": "ButtonStyleModel",
      "state": {}
     },
     "6022adca9ca94a8fbef815ffdeefc69a": {
      "model_module": "@jupyter-widgets/base",
      "model_module_version": "1.2.0",
      "model_name": "LayoutModel",
      "state": {
       "height": "800px"
      }
     },
     "603cdef38b574b1dbb79eb706396bd5d": {
      "model_module": "@jupyter-widgets/controls",
      "model_module_version": "1.5.0",
      "model_name": "IntProgressModel",
      "state": {
       "layout": "IPY_MODEL_fd3d278a27c84e6287e05c364c8a31b2",
       "style": "IPY_MODEL_6e57614f7d8f4b89910068b478946a5e",
       "value": 30
      }
     },
     "608d10b7ab864f458edad1a7a8470e42": {
      "model_module": "@jupyter-widgets/controls",
      "model_module_version": "1.5.0",
      "model_name": "ProgressStyleModel",
      "state": {
       "description_width": ""
      }
     },
     "6098559af9cf4a0ea9ddcce720617670": {
      "model_module": "@jupyter-widgets/controls",
      "model_module_version": "1.5.0",
      "model_name": "ButtonStyleModel",
      "state": {}
     },
     "60a063179e81487ea720ffc5b039a72d": {
      "model_module": "@jupyter-widgets/base",
      "model_module_version": "1.2.0",
      "model_name": "LayoutModel",
      "state": {
       "order": "-1",
       "overflow": "visible",
       "padding": "1px",
       "width": "0px"
      }
     },
     "60ac875cbd0c4a2b913fccc86164c87e": {
      "model_module": "@jupyter-widgets/base",
      "model_module_version": "1.2.0",
      "model_name": "LayoutModel",
      "state": {
       "width": "60px"
      }
     },
     "60c4a0cfa5764a7b96a9c75957f3997c": {
      "model_module": "@jupyter-widgets/controls",
      "model_module_version": "1.5.0",
      "model_name": "ButtonStyleModel",
      "state": {}
     },
     "60c863eeaba349579ca83d1670298594": {
      "model_module": "@jupyter-widgets/base",
      "model_module_version": "1.2.0",
      "model_name": "LayoutModel",
      "state": {}
     },
     "60dbe9a241964218a3558dc431daf21a": {
      "model_module": "@jupyter-widgets/base",
      "model_module_version": "1.2.0",
      "model_name": "LayoutModel",
      "state": {
       "border": "3px solid white",
       "flex": "1 1 0%",
       "margin": "10px",
       "min_width": "400px",
       "overflow": "visible",
       "padding": "10px",
       "width": "auto"
      }
     },
     "60fed2c569984a8d9590bdfde299896c": {
      "model_module": "@jupyter-widgets/base",
      "model_module_version": "1.2.0",
      "model_name": "LayoutModel",
      "state": {}
     },
     "6108e1506bf449b1b7cc1cb0cbab1bd2": {
      "model_module": "@jupyter-widgets/controls",
      "model_module_version": "1.5.0",
      "model_name": "ButtonStyleModel",
      "state": {}
     },
     "612b1cdaa4b94f7782a3968697137124": {
      "model_module": "@jupyter-widgets/base",
      "model_module_version": "1.2.0",
      "model_name": "LayoutModel",
      "state": {
       "height": "32px",
       "overflow": "visible",
       "width": "100%"
      }
     },
     "6146a5b321a746aa9b1a84b3f67ab5a4": {
      "model_module": "@jupyter-widgets/base",
      "model_module_version": "1.2.0",
      "model_name": "LayoutModel",
      "state": {
       "height": "32px",
       "overflow": "visible",
       "width": "100%"
      }
     },
     "615350e5eefb40d699c7e99a82dd8c9d": {
      "model_module": "@jupyter-widgets/base",
      "model_module_version": "1.2.0",
      "model_name": "LayoutModel",
      "state": {
       "order": "-1",
       "overflow": "visible",
       "padding": "1px",
       "width": "0px"
      }
     },
     "6155b1f7cb64462b8d2ba1dfb83b91b5": {
      "model_module": "@jupyter-widgets/base",
      "model_module_version": "1.2.0",
      "model_name": "LayoutModel",
      "state": {
       "width": "60px"
      }
     },
     "616169d431a64199b64fe98e3bacb26f": {
      "model_module": "@jupyter-widgets/base",
      "model_module_version": "1.2.0",
      "model_name": "LayoutModel",
      "state": {
       "height": "32px",
       "order": "-2",
       "width": "32px"
      }
     },
     "6172052634794ef49cde71e08f822600": {
      "model_module": "@jupyter-widgets/base",
      "model_module_version": "1.2.0",
      "model_name": "LayoutModel",
      "state": {
       "overflow": "visible",
       "width": "100%"
      }
     },
     "618674a3c286497e8d2c2a43139bf56d": {
      "model_module": "@jupyter-widgets/controls",
      "model_module_version": "1.5.0",
      "model_name": "HBoxModel",
      "state": {
       "children": [
        "IPY_MODEL_041e528f47d84b058ccb4a01ba3f5ef0",
        "IPY_MODEL_73bef90a8ec446c0af933de8071ee6b8",
        "IPY_MODEL_f68fc79327b245d597e23d2f1dab89c5",
        "IPY_MODEL_04e2e86a2ac145c1b647619fc97ed604"
       ],
       "layout": "IPY_MODEL_38c4b9f3b10b4c42b1806d248057ed3e"
      }
     },
     "61aa9ce003a7465bbb3478e28b42f302": {
      "model_module": "@jupyter-widgets/base",
      "model_module_version": "1.2.0",
      "model_name": "LayoutModel",
      "state": {}
     },
     "61ad88cd8a6c48809fe855989431eb0f": {
      "model_module": "@jupyter-widgets/base",
      "model_module_version": "1.2.0",
      "model_name": "LayoutModel",
      "state": {}
     },
     "61b215e7026942ccbef00f93d67dbbe8": {
      "model_module": "@jupyter-widgets/base",
      "model_module_version": "1.2.0",
      "model_name": "LayoutModel",
      "state": {
       "height": "32px",
       "order": "-2",
       "width": "32px"
      }
     },
     "61c83ad38b0e4ed38f025180053cb2fa": {
      "model_module": "@jupyter-widgets/controls",
      "model_module_version": "1.5.0",
      "model_name": "ButtonModel",
      "state": {
       "description": "EDIT",
       "layout": "IPY_MODEL_4842114f6c7a48e4b9459470b8e57020",
       "style": "IPY_MODEL_7071f3af95d644ca9880a22c493550eb"
      }
     },
     "61ce91f9a2294860a931ca6965e46d01": {
      "model_module": "@jupyter-widgets/controls",
      "model_module_version": "1.5.0",
      "model_name": "HBoxModel",
      "state": {
       "children": [
        "IPY_MODEL_bdc5caf615ff48d78532293a057618a6",
        "IPY_MODEL_a9f70844d2e2439487ce36b51aa0ebe8",
        "IPY_MODEL_c1158a4a2a724c19a258788c2eb38851",
        "IPY_MODEL_08d004a3e2264bbea55660d025812377"
       ],
       "layout": "IPY_MODEL_1860f9c879bd4ccb959cf661f8cf9891"
      }
     },
     "61d13f6bf0f047d78e441da01491742e": {
      "model_module": "@jupyter-widgets/controls",
      "model_module_version": "1.5.0",
      "model_name": "HBoxModel",
      "state": {
       "children": [
        "IPY_MODEL_44c52697dc784a618c2e00cf9c90c01b",
        "IPY_MODEL_8b1270fa5f99430582dac344a84000f1",
        "IPY_MODEL_252a3f88288f4622925c49359b4ee17b",
        "IPY_MODEL_3a55f792690747f4864f396b6b361df2"
       ],
       "layout": "IPY_MODEL_034da111da104b039b6d94bcd2131f15"
      }
     },
     "61d7bb4f6f4b4582b08ed25b3f57ea50": {
      "model_module": "@jupyter-widgets/base",
      "model_module_version": "1.2.0",
      "model_name": "LayoutModel",
      "state": {
       "border": "3px solid white",
       "flex": "1 1 0%",
       "margin": "10px",
       "min_width": "400px",
       "overflow": "visible",
       "padding": "10px",
       "width": "auto"
      }
     },
     "61deb607a10f4e79a803e6a708ac10e8": {
      "model_module": "@jupyter-widgets/controls",
      "model_module_version": "1.5.0",
      "model_name": "DescriptionStyleModel",
      "state": {
       "description_width": ""
      }
     },
     "61e70f2bb1bb46ebac956cddcbbb19c0": {
      "model_module": "@jupyter-widgets/base",
      "model_module_version": "1.2.0",
      "model_name": "LayoutModel",
      "state": {
       "width": "60px"
      }
     },
     "620f372c713d481da27cf5c182e623c0": {
      "model_module": "@jupyter-widgets/controls",
      "model_module_version": "1.5.0",
      "model_name": "DescriptionStyleModel",
      "state": {
       "description_width": ""
      }
     },
     "625f392de1a84ce69257392be06df7ac": {
      "model_module": "@jupyter-widgets/controls",
      "model_module_version": "1.5.0",
      "model_name": "DescriptionStyleModel",
      "state": {
       "description_width": ""
      }
     },
     "62743dcec197462f86b8fa38c641c864": {
      "model_module": "@jupyter-widgets/controls",
      "model_module_version": "1.5.0",
      "model_name": "ButtonModel",
      "state": {
       "description": "EDIT",
       "layout": "IPY_MODEL_6a8a8cb3fcea437c96f9df718604d1f8",
       "style": "IPY_MODEL_f13b79ffcf8243e28b8ce33d105e9b84"
      }
     },
     "6275017122654bb9aa9f30e64159ce15": {
      "model_module": "@jupyter-widgets/base",
      "model_module_version": "1.2.0",
      "model_name": "LayoutModel",
      "state": {
       "order": "-1",
       "overflow": "visible",
       "padding": "1px",
       "width": "0px"
      }
     },
     "62961bc6c34b47579e2a2aae46b21676": {
      "model_module": "@jupyter-widgets/controls",
      "model_module_version": "1.5.0",
      "model_name": "DescriptionStyleModel",
      "state": {
       "description_width": ""
      }
     },
     "62edd5341c6545408504f09fbd4319b0": {
      "model_module": "@jupyter-widgets/base",
      "model_module_version": "1.2.0",
      "model_name": "LayoutModel",
      "state": {
       "order": "-1",
       "overflow": "visible",
       "padding": "1px",
       "width": "0px"
      }
     },
     "63146ea2d97d4d529cde7489e7f38587": {
      "model_module": "@jupyter-widgets/base",
      "model_module_version": "1.2.0",
      "model_name": "LayoutModel",
      "state": {
       "order": "-1",
       "overflow": "visible",
       "padding": "1px",
       "width": "0px"
      }
     },
     "6343f4ed89284655a79439407d81d74c": {
      "model_module": "@jupyter-widgets/controls",
      "model_module_version": "1.5.0",
      "model_name": "ButtonStyleModel",
      "state": {}
     },
     "634adfef7d6a40888e3c84f83e68fc07": {
      "model_module": "@jupyter-widgets/controls",
      "model_module_version": "1.5.0",
      "model_name": "LabelModel",
      "state": {
       "layout": "IPY_MODEL_b396722fd8ee44d9946d881203e1b316",
       "style": "IPY_MODEL_83287fd2ea3e4441b1c575cec35534a6",
       "value": "   objective"
      }
     },
     "6362ca8407954351836bce0fe33eb4f4": {
      "model_module": "@jupyter-widgets/controls",
      "model_module_version": "1.5.0",
      "model_name": "ProgressStyleModel",
      "state": {
       "description_width": ""
      }
     },
     "6363026150014bc7bf37c9ff383ae6ae": {
      "model_module": "@jupyter-widgets/controls",
      "model_module_version": "1.5.0",
      "model_name": "IntProgressModel",
      "state": {
       "layout": "IPY_MODEL_01f41ebf80f14e9d8d1dda65a65eb27c",
       "style": "IPY_MODEL_7057baf9858a4d2bbac7b67228aeafa3",
       "value": 30
      }
     },
     "63f363f396004db4b03a073aa777ccf4": {
      "model_module": "@jupyter-widgets/controls",
      "model_module_version": "1.5.0",
      "model_name": "ButtonStyleModel",
      "state": {}
     },
     "640661aa95354259af16c72752977f27": {
      "model_module": "@jupyter-widgets/controls",
      "model_module_version": "1.5.0",
      "model_name": "IntProgressModel",
      "state": {
       "layout": "IPY_MODEL_882764aab2d24729bf05318049e68a69",
       "style": "IPY_MODEL_b78c00ca298646d8be0c6084294baefa",
       "value": 30
      }
     },
     "6411e8d8b0d3486691f16438c4726692": {
      "model_module": "@jupyter-widgets/controls",
      "model_module_version": "1.5.0",
      "model_name": "ButtonModel",
      "state": {
       "description": "EDIT",
       "layout": "IPY_MODEL_994b0881a11544f28b5aeb5456ef5a8c",
       "style": "IPY_MODEL_08d224c1899b4b60909fa0e3bb6436a9"
      }
     },
     "6417f1d8ff684395bb30b4e5270a89eb": {
      "model_module": "@jupyter-widgets/controls",
      "model_module_version": "1.5.0",
      "model_name": "IntProgressModel",
      "state": {
       "layout": "IPY_MODEL_39e2e0438f964bc6aa5a4a5ab90774ce",
       "style": "IPY_MODEL_daf81a8b2da84f1a9783647e90869365",
       "value": 30
      }
     },
     "64276fba23cf4a17ba2462226c7c4bbf": {
      "model_module": "@jupyter-widgets/controls",
      "model_module_version": "1.5.0",
      "model_name": "ButtonModel",
      "state": {
       "layout": "IPY_MODEL_bb6f109f02c34634a59566f282716ef5",
       "style": "IPY_MODEL_b37d8c8231194c1cafc09cbb461d3965"
      }
     },
     "644df179a8704dcd895ca208e387c5a6": {
      "model_module": "@jupyter-widgets/controls",
      "model_module_version": "1.5.0",
      "model_name": "DescriptionStyleModel",
      "state": {
       "description_width": ""
      }
     },
     "646d4b21caa3443cb296d029f6a1c956": {
      "model_module": "@jupyter-widgets/base",
      "model_module_version": "1.2.0",
      "model_name": "LayoutModel",
      "state": {}
     },
     "647a51ffa2674208a359823c16a288ca": {
      "model_module": "@jupyter-widgets/controls",
      "model_module_version": "1.5.0",
      "model_name": "IntProgressModel",
      "state": {
       "layout": "IPY_MODEL_9fbd016e2fb54ba3b0dfc7a6bd433deb",
       "style": "IPY_MODEL_bb93d9da938141368da1bf1d8b3ed736",
       "value": 30
      }
     },
     "649229a526f944788972b5a273a57711": {
      "model_module": "@jupyter-widgets/controls",
      "model_module_version": "1.5.0",
      "model_name": "DescriptionStyleModel",
      "state": {
       "description_width": ""
      }
     },
     "6493d18f458946d6bd54658b5dae1f41": {
      "model_module": "@jupyter-widgets/base",
      "model_module_version": "1.2.0",
      "model_name": "LayoutModel",
      "state": {
       "height": "32px",
       "overflow": "visible",
       "width": "100%"
      }
     },
     "64ccae08fa614de5a13ada69071c07fe": {
      "model_module": "@jupyter-widgets/base",
      "model_module_version": "1.2.0",
      "model_name": "LayoutModel",
      "state": {
       "width": "60px"
      }
     },
     "64d34d96699c497993cd85b0ca1238bb": {
      "model_module": "@jupyter-widgets/controls",
      "model_module_version": "1.5.0",
      "model_name": "ButtonStyleModel",
      "state": {}
     },
     "64ea9943a02b45c980d6ea02e323eddc": {
      "model_module": "@jupyter-widgets/controls",
      "model_module_version": "1.5.0",
      "model_name": "HBoxModel",
      "state": {
       "children": [
        "IPY_MODEL_4c1d2a5c469e4708997a0bf009a6e543",
        "IPY_MODEL_6a45f83154924b3ab882c1b00e0537a0",
        "IPY_MODEL_1f068ae898ea41c19797aabf9f23e4aa",
        "IPY_MODEL_36c2308fc6e84b00ac8daf19816bb1ef"
       ],
       "layout": "IPY_MODEL_9bc83c57b2ed44899953a2044820d5da"
      }
     },
     "64ecbd5a963f414281c1197317e41ddb": {
      "model_module": "@jupyter-widgets/controls",
      "model_module_version": "1.5.0",
      "model_name": "HBoxModel",
      "state": {
       "children": [
        "IPY_MODEL_6ac655b897f246fe8e261aed0b666756",
        "IPY_MODEL_c0e46f10c21e4f6496000910fa423c1a",
        "IPY_MODEL_3765b7f25705488ea9d3b277c0c2bc28",
        "IPY_MODEL_e51b9f59c8c44b82886507b77b7419eb"
       ],
       "layout": "IPY_MODEL_3ef8d03351bb45c4912941cff3c5a8e5"
      }
     },
     "64fce2ee9e0e4848856427ea3e2b7f17": {
      "model_module": "@jupyter-widgets/controls",
      "model_module_version": "1.5.0",
      "model_name": "LabelModel",
      "state": {
       "layout": "IPY_MODEL_3b04dd0585834d5bb279532a98ee66dd",
       "style": "IPY_MODEL_663769e6ec44499889d113b889287ae3",
       "value": "   objective"
      }
     },
     "650517bedcd14ce7987503d486879796": {
      "model_module": "@jupyter-widgets/controls",
      "model_module_version": "1.5.0",
      "model_name": "HTMLModel",
      "state": {
       "layout": "IPY_MODEL_c4b577aa01794776ba0c0a1adfee2eb1",
       "style": "IPY_MODEL_244f3fca7e0e4cc3a823e881030a7ee1",
       "value": "<b>Activity Options</b>"
      }
     },
     "6507b3c8d124495fa5c5cecf38f830de": {
      "model_module": "@jupyter-widgets/base",
      "model_module_version": "1.2.0",
      "model_name": "LayoutModel",
      "state": {}
     },
     "651aa7afa0724cd29678aa9af111a5de": {
      "model_module": "@jupyter-widgets/base",
      "model_module_version": "1.2.0",
      "model_name": "LayoutModel",
      "state": {}
     },
     "6543d3b87a12477291d5373030aa17a3": {
      "model_module": "@jupyter-widgets/controls",
      "model_module_version": "1.5.0",
      "model_name": "ButtonStyleModel",
      "state": {}
     },
     "654f48fed9b8427989470d2423e52b52": {
      "model_module": "@jupyter-widgets/controls",
      "model_module_version": "1.5.0",
      "model_name": "IntProgressModel",
      "state": {
       "layout": "IPY_MODEL_afbfa48500ea47769119a2f0ae1f81eb",
       "style": "IPY_MODEL_1b3f0cb685704a0e8451f7b6a8cf680d",
       "value": 30
      }
     },
     "655b8145129a4febb8cc450ddcbb890c": {
      "model_module": "@jupyter-widgets/controls",
      "model_module_version": "1.5.0",
      "model_name": "ButtonStyleModel",
      "state": {}
     },
     "655ef601517147c2aeeac77bd03d8c07": {
      "model_module": "@jupyter-widgets/controls",
      "model_module_version": "1.5.0",
      "model_name": "ButtonModel",
      "state": {
       "description": "EDIT",
       "layout": "IPY_MODEL_25916822fe134f849e4876734d69abe7",
       "style": "IPY_MODEL_06bd1eb46f1e497aa3cd92507a2f9c48"
      }
     },
     "65644cf1ccb6438fa5cd14cb7a3f3245": {
      "model_module": "@jupyter-widgets/controls",
      "model_module_version": "1.5.0",
      "model_name": "ButtonStyleModel",
      "state": {}
     },
     "65649c5eb1c146639bc78e3b03f23c4e": {
      "model_module": "@jupyter-widgets/controls",
      "model_module_version": "1.5.0",
      "model_name": "DescriptionStyleModel",
      "state": {
       "description_width": ""
      }
     },
     "6587e943d70e438c97fee591db460c72": {
      "model_module": "@jupyter-widgets/controls",
      "model_module_version": "1.5.0",
      "model_name": "LabelModel",
      "state": {
       "layout": "IPY_MODEL_ed5900325476461099b1617de98353d8",
       "style": "IPY_MODEL_8ee4ea34ed4c485ab4715d701e0ff4e1",
       "value": "   objective"
      }
     },
     "658ea12700884248af2ce316ad738df0": {
      "model_module": "@jupyter-widgets/base",
      "model_module_version": "1.2.0",
      "model_name": "LayoutModel",
      "state": {
       "height": "32px",
       "overflow": "visible",
       "width": "100%"
      }
     },
     "65a02a85d8c74e6cacdce3d9208a66f7": {
      "model_module": "@jupyter-widgets/controls",
      "model_module_version": "1.5.0",
      "model_name": "HBoxModel",
      "state": {
       "children": [
        "IPY_MODEL_95067ab7fd874de8a1b4efafe145682a",
        "IPY_MODEL_061631136ce0429d87ec3f538fa5d626",
        "IPY_MODEL_3a643641460946fa8ef8a56080c85026",
        "IPY_MODEL_079ff8a4ccec41239614ce1dd997777d"
       ],
       "layout": "IPY_MODEL_d9d6e9f704bd4f058a0a8b8f1f0ab10b"
      }
     },
     "65a58841a971404c978a75604e840469": {
      "model_module": "@jupyter-widgets/controls",
      "model_module_version": "1.5.0",
      "model_name": "ButtonModel",
      "state": {
       "layout": "IPY_MODEL_df9970bb7a094806af962e14d8c7eb86",
       "style": "IPY_MODEL_fa0fae9886d14fa7b77ecd911da3daa5"
      }
     },
     "65a696bb6b5849748f962dd81a12843f": {
      "model_module": "@jupyter-widgets/controls",
      "model_module_version": "1.5.0",
      "model_name": "ButtonModel",
      "state": {
       "description": "EDIT",
       "layout": "IPY_MODEL_2860a436729f40408787559be587a9a3",
       "style": "IPY_MODEL_31e830022a4e4694aef29ba22e132e1e"
      }
     },
     "65a8e745af974af7a8c29b9f2f41b94e": {
      "model_module": "@jupyter-widgets/controls",
      "model_module_version": "1.5.0",
      "model_name": "LabelModel",
      "state": {
       "layout": "IPY_MODEL_4dcf1dae76ee4e1a99e5cdef17a59d2a",
       "style": "IPY_MODEL_847c02f0388042e887da8f331094d790",
       "value": "   objective"
      }
     },
     "65cfe559c5c646d6b68164f7b07740c0": {
      "model_module": "@jupyter-widgets/base",
      "model_module_version": "1.2.0",
      "model_name": "LayoutModel",
      "state": {
       "display": "flex",
       "flex_flow": "row wrap"
      }
     },
     "65d3d58de61f4f42a96f289016edfa17": {
      "model_module": "@jupyter-widgets/controls",
      "model_module_version": "1.5.0",
      "model_name": "DescriptionStyleModel",
      "state": {
       "description_width": ""
      }
     },
     "65df0937ede34827ab1af1b2222cd8de": {
      "model_module": "@jupyter-widgets/controls",
      "model_module_version": "1.5.0",
      "model_name": "DropdownModel",
      "state": {
       "_options_labels": [
        "Any"
       ],
       "index": 0,
       "layout": "IPY_MODEL_27de6b728bae49b0a4b2fdd732570aae",
       "style": "IPY_MODEL_bd428b4db280455a80e41c14192db49d"
      }
     },
     "65ec53d551fc4c4b869593a152585de2": {
      "model_module": "@jupyter-widgets/controls",
      "model_module_version": "1.5.0",
      "model_name": "LabelModel",
      "state": {
       "layout": "IPY_MODEL_a3367438dfc244aa9525c80bba95aea1",
       "style": "IPY_MODEL_d391044057b647e58b955dcaeb6c1230",
       "value": "Tree:"
      }
     },
     "65f2413f1be94c1c92f80de762d9a406": {
      "model_module": "@jupyter-widgets/base",
      "model_module_version": "1.2.0",
      "model_name": "LayoutModel",
      "state": {
       "display": "flex",
       "flex_flow": "row wrap"
      }
     },
     "65fec82538f4491b8a12dd95c494ff03": {
      "model_module": "@jupyter-widgets/controls",
      "model_module_version": "1.5.0",
      "model_name": "IntProgressModel",
      "state": {
       "layout": "IPY_MODEL_13e48d1b97b5457788e44d50c729a60a",
       "style": "IPY_MODEL_e44a891713794890b516b0dc21bae3a2",
       "value": 30
      }
     },
     "663769e6ec44499889d113b889287ae3": {
      "model_module": "@jupyter-widgets/controls",
      "model_module_version": "1.5.0",
      "model_name": "DescriptionStyleModel",
      "state": {
       "description_width": ""
      }
     },
     "663b5db1b1b34d639e8f1be47d0e39f3": {
      "model_module": "@jupyter-widgets/controls",
      "model_module_version": "1.5.0",
      "model_name": "HBoxModel",
      "state": {
       "children": [
        "IPY_MODEL_5d14c902e5854e048948cbf79ca97e3a",
        "IPY_MODEL_65fec82538f4491b8a12dd95c494ff03",
        "IPY_MODEL_40eb25fd29e54e77b8e11c9a07ee7953",
        "IPY_MODEL_4d0c0a482579451eb74a18e3cc3eb621"
       ],
       "layout": "IPY_MODEL_990f0f41b2d14d87b2a85bff4b75e688"
      }
     },
     "664b8d4bcd1344bcaddf041cf874a40d": {
      "model_module": "@jupyter-widgets/controls",
      "model_module_version": "1.5.0",
      "model_name": "ButtonModel",
      "state": {
       "layout": "IPY_MODEL_dbf33a81c25e438c89dab71afc219359",
       "style": "IPY_MODEL_3a93478b47f64df7ad61ce521e0917f7"
      }
     },
     "667d26ade38d4591a1a5f9d65d58e608": {
      "model_module": "@jupyter-widgets/base",
      "model_module_version": "1.2.0",
      "model_name": "LayoutModel",
      "state": {
       "height": "32px",
       "overflow": "visible",
       "width": "100%"
      }
     },
     "66dca36f326b4b94b95f86379571826a": {
      "model_module": "@jupyter-widgets/controls",
      "model_module_version": "1.5.0",
      "model_name": "ProgressStyleModel",
      "state": {
       "description_width": ""
      }
     },
     "67127891da1b4fc1bb4bea5e934d0ee7": {
      "model_module": "@jupyter-widgets/base",
      "model_module_version": "1.2.0",
      "model_name": "LayoutModel",
      "state": {
       "height": "32px",
       "order": "-2",
       "width": "32px"
      }
     },
     "672ad400b7b34936b423225223878d77": {
      "model_module": "@jupyter-widgets/controls",
      "model_module_version": "1.5.0",
      "model_name": "ButtonModel",
      "state": {
       "description": "EDIT",
       "layout": "IPY_MODEL_9dd759e0e990461d8d5950330ba24163",
       "style": "IPY_MODEL_273d902e027d4f219bb7c95f4750a06b"
      }
     },
     "675eb332a85745a38807f49f16733664": {
      "model_module": "@jupyter-widgets/base",
      "model_module_version": "1.2.0",
      "model_name": "LayoutModel",
      "state": {
       "order": "-1",
       "overflow": "visible",
       "padding": "1px",
       "width": "0px"
      }
     },
     "678036110ada48959c011972c1039bc6": {
      "model_module": "@jupyter-widgets/controls",
      "model_module_version": "1.5.0",
      "model_name": "ButtonStyleModel",
      "state": {}
     },
     "6782cd734dde4336bec8ddfbf9858bc4": {
      "model_module": "@jupyter-widgets/base",
      "model_module_version": "1.2.0",
      "model_name": "LayoutModel",
      "state": {
       "order": "-1",
       "overflow": "visible",
       "padding": "1px",
       "width": "0px"
      }
     },
     "678b531dec964533973651292a709582": {
      "model_module": "@jupyter-widgets/base",
      "model_module_version": "1.2.0",
      "model_name": "LayoutModel",
      "state": {
       "height": "32px",
       "overflow": "visible",
       "width": "100%"
      }
     },
     "67ab565bfd134af1a37c005a6140d3e7": {
      "model_module": "@jupyter-widgets/controls",
      "model_module_version": "1.5.0",
      "model_name": "IntProgressModel",
      "state": {
       "layout": "IPY_MODEL_0230a7b0713146dba7e10460ee0d1359",
       "style": "IPY_MODEL_4cb3ab46c41d4141891b0beb60ac2229",
       "value": 30
      }
     },
     "67ea07e9f63148ef81dff9d8a96d2939": {
      "model_module": "@jupyter-widgets/controls",
      "model_module_version": "1.5.0",
      "model_name": "LabelModel",
      "state": {
       "layout": "IPY_MODEL_d41d7a2b2e244c5cbd4aeec596ce0dbc",
       "style": "IPY_MODEL_7bb2072b3059422fba25342ae9462388",
       "value": "   objective"
      }
     },
     "67f638e91a9a449da4a332d5d2792608": {
      "model_module": "@jupyter-widgets/base",
      "model_module_version": "1.2.0",
      "model_name": "LayoutModel",
      "state": {
       "height": "32px",
       "order": "-2",
       "width": "32px"
      }
     },
     "6802dcf30dc3409eb96dbca47b22ac75": {
      "model_module": "@jupyter-widgets/controls",
      "model_module_version": "1.5.0",
      "model_name": "DescriptionStyleModel",
      "state": {
       "description_width": ""
      }
     },
     "68034236a4974836be6e499f0f4939ac": {
      "model_module": "@jupyter-widgets/controls",
      "model_module_version": "1.5.0",
      "model_name": "HBoxModel",
      "state": {
       "children": [
        "IPY_MODEL_ec7ce61fbecb4e01b35e78e8c282e7a2",
        "IPY_MODEL_aa4b8c76ac444b98b8c1cd4764deeb99",
        "IPY_MODEL_1b43e2e2c79442c89d29d11706dab6c6",
        "IPY_MODEL_ccc2912e62054ee4a0dcfcb6bd9e65d8"
       ],
       "layout": "IPY_MODEL_5899b29f1e5d4b4298a25d386b3bcd7b"
      }
     },
     "68192789f2d441a28b6368bd92c9732c": {
      "model_module": "@jupyter-widgets/controls",
      "model_module_version": "1.5.0",
      "model_name": "ButtonStyleModel",
      "state": {}
     },
     "6829745df30c4eacbf623d1f855e9e58": {
      "model_module": "@jupyter-widgets/base",
      "model_module_version": "1.2.0",
      "model_name": "LayoutModel",
      "state": {
       "order": "-1",
       "overflow": "visible",
       "padding": "1px",
       "width": "0px"
      }
     },
     "682a656e9d7546c2b8af6eab501622dd": {
      "model_module": "@jupyter-widgets/controls",
      "model_module_version": "1.5.0",
      "model_name": "ProgressStyleModel",
      "state": {
       "description_width": ""
      }
     },
     "684212ddab1b4a318fdde477cadaea69": {
      "model_module": "@jupyter-widgets/controls",
      "model_module_version": "1.5.0",
      "model_name": "LabelModel",
      "state": {
       "layout": "IPY_MODEL_09d16c53f0e1465cac6b7bd5d04a0b44",
       "style": "IPY_MODEL_c271e2a07a3c4416ae813baf27753b16",
       "value": "   objective"
      }
     },
     "6867a0f956cc47ff98be44fe30364940": {
      "model_module": "@jupyter-widgets/base",
      "model_module_version": "1.2.0",
      "model_name": "LayoutModel",
      "state": {
       "height": "32px",
       "overflow": "visible",
       "width": "100%"
      }
     },
     "68886790907144b7ad677fce3f1a4cea": {
      "model_module": "@jupyter-widgets/controls",
      "model_module_version": "1.5.0",
      "model_name": "ButtonStyleModel",
      "state": {}
     },
     "68b67e259255472f9ecb9dd41620bb04": {
      "model_module": "@jupyter-widgets/controls",
      "model_module_version": "1.5.0",
      "model_name": "HTMLModel",
      "state": {
       "layout": "IPY_MODEL_0edec2aede424be3bb5f05f1150cd3e4",
       "style": "IPY_MODEL_6b9c21ab925d435eb11c27e0a8c82a4a",
       "value": "<i>test test test test test test test test test test test test test test test test test test test test test test test test </i>"
      }
     },
     "68c64112c8d6467685631ce9c39aa10c": {
      "model_module": "@jupyter-widgets/base",
      "model_module_version": "1.2.0",
      "model_name": "LayoutModel",
      "state": {
       "height": "32px",
       "overflow": "visible",
       "width": "100%"
      }
     },
     "68d1d871ce0e422caeb99cfc104f94be": {
      "model_module": "@jupyter-widgets/controls",
      "model_module_version": "1.5.0",
      "model_name": "HBoxModel",
      "state": {
       "children": [
        "IPY_MODEL_93705f59954f4fbbb04088dac74390cb",
        "IPY_MODEL_72d82da27d40426eb8d1e51c193df2a3",
        "IPY_MODEL_84f053345e6747c29b0c0df93b4c030f",
        "IPY_MODEL_4bc6519537394a849468a1526aacedbe"
       ],
       "layout": "IPY_MODEL_df86b8f74ff048d48429ffb322e287f9"
      }
     },
     "68dad37a2d6848719373acc68861ee5b": {
      "model_module": "@jupyter-widgets/controls",
      "model_module_version": "1.5.0",
      "model_name": "LabelModel",
      "state": {
       "layout": "IPY_MODEL_848b98092a344943987f3c2a298df0ef",
       "style": "IPY_MODEL_cbf064c948f341c2ac73447c54dba923",
       "value": "Armor Set:"
      }
     },
     "68f19c1c1ef2431a8a000f1fdff05b9e": {
      "model_module": "@jupyter-widgets/base",
      "model_module_version": "1.2.0",
      "model_name": "LayoutModel",
      "state": {
       "height": "32px",
       "order": "-2",
       "width": "32px"
      }
     },
     "69003125c93c4e3c8a627a5dd22a554b": {
      "model_module": "@jupyter-widgets/base",
      "model_module_version": "1.2.0",
      "model_name": "LayoutModel",
      "state": {
       "border": "3px solid white",
       "flex": "1 1 0%",
       "margin": "10px",
       "min_width": "400px",
       "overflow": "visible",
       "padding": "10px",
       "width": "auto"
      }
     },
     "690fab2a611e43f2b1b0bb10da2864bd": {
      "model_module": "@jupyter-widgets/base",
      "model_module_version": "1.2.0",
      "model_name": "LayoutModel",
      "state": {
       "overflow": "visible",
       "width": "100%"
      }
     },
     "69331add77734f43a43d8482b0fb162b": {
      "model_module": "@jupyter-widgets/controls",
      "model_module_version": "1.5.0",
      "model_name": "ButtonModel",
      "state": {
       "description": "EDIT",
       "layout": "IPY_MODEL_c4a15f413eb94f58b7620a60327221c7",
       "style": "IPY_MODEL_21d90b3fdcd3484695303df715ca26ab"
      }
     },
     "693b3d5b384d4a3284b82979cce4ccc9": {
      "model_module": "@jupyter-widgets/controls",
      "model_module_version": "1.5.0",
      "model_name": "DescriptionStyleModel",
      "state": {
       "description_width": ""
      }
     },
     "695978b2f32b403b936d14a9b9f95e2e": {
      "model_module": "@jupyter-widgets/controls",
      "model_module_version": "1.5.0",
      "model_name": "LabelModel",
      "state": {
       "layout": "IPY_MODEL_bdc67eb12f1d45f98ffc5d2fc64e9fac",
       "style": "IPY_MODEL_9f1ed4389c444ab993378bf11df6e8fd",
       "value": "   objective"
      }
     },
     "697174e495d646a5b04fc3fdefa75116": {
      "model_module": "@jupyter-widgets/base",
      "model_module_version": "1.2.0",
      "model_name": "LayoutModel",
      "state": {
       "order": "-1",
       "overflow": "visible",
       "padding": "1px",
       "width": "0px"
      }
     },
     "69a8377c94114c32b2fe8e5cce65e1f2": {
      "model_module": "@jupyter-widgets/base",
      "model_module_version": "1.2.0",
      "model_name": "LayoutModel",
      "state": {
       "height": "32px",
       "order": "-2",
       "width": "32px"
      }
     },
     "69aa9ee4125b425888a563ad4836a05c": {
      "model_module": "@jupyter-widgets/controls",
      "model_module_version": "1.5.0",
      "model_name": "LabelModel",
      "state": {
       "layout": "IPY_MODEL_8b7dca76a4b94512817a7cf89951c6d4",
       "style": "IPY_MODEL_e22882b9e08a448596554f7206c7573f",
       "value": "   objective"
      }
     },
     "69b352e4910d41f4b2b4f2c18705e76e": {
      "model_module": "@jupyter-widgets/controls",
      "model_module_version": "1.5.0",
      "model_name": "DescriptionStyleModel",
      "state": {
       "description_width": ""
      }
     },
     "69db86db44a54636a8b6e7fce958eac3": {
      "model_module": "@jupyter-widgets/controls",
      "model_module_version": "1.5.0",
      "model_name": "DescriptionStyleModel",
      "state": {
       "description_width": ""
      }
     },
     "69dc12a4e7d242b2a2beec44ad12a7f5": {
      "model_module": "@jupyter-widgets/base",
      "model_module_version": "1.2.0",
      "model_name": "LayoutModel",
      "state": {
       "height": "32px",
       "overflow": "visible",
       "width": "100%"
      }
     },
     "69debbec15cf43c6ade745bcbc0aa751": {
      "model_module": "@jupyter-widgets/controls",
      "model_module_version": "1.5.0",
      "model_name": "ButtonModel",
      "state": {
       "description": "EDIT",
       "layout": "IPY_MODEL_36de66e7d2a24cdc878d521496003dcd",
       "style": "IPY_MODEL_becfed4fd3c34eca8199a4a250e74c0b"
      }
     },
     "69f08e320f2841a5926920e4b741396e": {
      "model_module": "@jupyter-widgets/controls",
      "model_module_version": "1.5.0",
      "model_name": "VBoxModel",
      "state": {
       "children": [
        "IPY_MODEL_89fc0154dd4649da9f4f5e2945d2cd63",
        "IPY_MODEL_5adb725af0fb40069900c99437375d86"
       ],
       "layout": "IPY_MODEL_53c57aa9cbab4d988bd62fdc13ed2b0e"
      }
     },
     "69fad6ef5e5c4d94aa3109943360b408": {
      "model_module": "@jupyter-widgets/controls",
      "model_module_version": "1.5.0",
      "model_name": "LabelModel",
      "state": {
       "layout": "IPY_MODEL_4212e7f7a9e64cac99f04398046afbe5",
       "style": "IPY_MODEL_a1dd6104fbe141989ceba4933076e521",
       "value": "   objective"
      }
     },
     "6a0b639f1ac542a4a89272c3d0c18b05": {
      "model_module": "@jupyter-widgets/controls",
      "model_module_version": "1.5.0",
      "model_name": "HBoxModel",
      "state": {
       "children": [
        "IPY_MODEL_d311872436d5423ab14b35aba6bf8d1c",
        "IPY_MODEL_97099428863544d2bbcf67005311db64",
        "IPY_MODEL_67ea07e9f63148ef81dff9d8a96d2939",
        "IPY_MODEL_08d686552acc4869a783b1c8e704065b"
       ],
       "layout": "IPY_MODEL_ab9199eac0cc44b9babf9293e0a6e27d"
      }
     },
     "6a1697bf88bb42d0aadf1f84af23303b": {
      "model_module": "@jupyter-widgets/controls",
      "model_module_version": "1.5.0",
      "model_name": "ProgressStyleModel",
      "state": {
       "description_width": ""
      }
     },
     "6a29a1fa7bf14d1d88cc3823d9dd21ea": {
      "model_module": "@jupyter-widgets/controls",
      "model_module_version": "1.5.0",
      "model_name": "DropdownModel",
      "state": {
       "_options_labels": [
        "Any",
        "Titan",
        "Hunter",
        "Warlock"
       ],
       "index": 0,
       "layout": "IPY_MODEL_56b87d7d00c54e96938caab1e6aa41f1",
       "style": "IPY_MODEL_0ff2273ac81444499a7b41d83190d31a"
      }
     },
     "6a2a79f9b06348b8a0b1e308221fa6e4": {
      "model_module": "@jupyter-widgets/controls",
      "model_module_version": "1.5.0",
      "model_name": "LabelModel",
      "state": {
       "layout": "IPY_MODEL_f8c57b700cd64582841f092bf46d90b9",
       "style": "IPY_MODEL_5fe2c2d14c0e4b7d8aaffdf2dc8d4c4a",
       "value": "   objective"
      }
     },
     "6a312f5e434f419aaae624c2be61b4e7": {
      "model_module": "@jupyter-widgets/base",
      "model_module_version": "1.2.0",
      "model_name": "LayoutModel",
      "state": {
       "width": "60px"
      }
     },
     "6a45f83154924b3ab882c1b00e0537a0": {
      "model_module": "@jupyter-widgets/controls",
      "model_module_version": "1.5.0",
      "model_name": "IntProgressModel",
      "state": {
       "layout": "IPY_MODEL_4cb5e7551d764ff48905f3ff6d5b95c0",
       "style": "IPY_MODEL_dfb777f7b17e481f9862a66db7da8a6d",
       "value": 30
      }
     },
     "6a57a5044c144005aef1d12851e2c6be": {
      "model_module": "@jupyter-widgets/controls",
      "model_module_version": "1.5.0",
      "model_name": "ButtonStyleModel",
      "state": {}
     },
     "6a5a570f13424660979b9a255b21769d": {
      "model_module": "@jupyter-widgets/controls",
      "model_module_version": "1.5.0",
      "model_name": "ButtonStyleModel",
      "state": {}
     },
     "6a6f3098ed1549cc8335e81844cf8f30": {
      "model_module": "@jupyter-widgets/controls",
      "model_module_version": "1.5.0",
      "model_name": "DescriptionStyleModel",
      "state": {
       "description_width": ""
      }
     },
     "6a70b7b73ae543aab16586c4e970eaa2": {
      "model_module": "@jupyter-widgets/base",
      "model_module_version": "1.2.0",
      "model_name": "LayoutModel",
      "state": {
       "height": "32px",
       "overflow": "visible",
       "width": "100%"
      }
     },
     "6a7499cfe527444085a34913359ac0d8": {
      "model_module": "@jupyter-widgets/base",
      "model_module_version": "1.2.0",
      "model_name": "LayoutModel",
      "state": {}
     },
     "6a8a8cb3fcea437c96f9df718604d1f8": {
      "model_module": "@jupyter-widgets/base",
      "model_module_version": "1.2.0",
      "model_name": "LayoutModel",
      "state": {
       "width": "60px"
      }
     },
     "6a931477a31840b7b25ee8dba252025f": {
      "model_module": "@jupyter-widgets/controls",
      "model_module_version": "1.5.0",
      "model_name": "HBoxModel",
      "state": {
       "children": [
        "IPY_MODEL_40855e98cc724a60b0e922b6b7129471",
        "IPY_MODEL_a90ddadf5aed42349d841eb8f547af1c",
        "IPY_MODEL_1e8a089da0714c5e9ff1f2b2e69f25c8",
        "IPY_MODEL_e1a9b97a743b4f96ba360e250e2c2724"
       ],
       "layout": "IPY_MODEL_9ff26521004d4418b9ed3507f5fa40ca"
      }
     },
     "6a96c1149f2d407792f340ba57105412": {
      "model_module": "@jupyter-widgets/controls",
      "model_module_version": "1.5.0",
      "model_name": "DropdownModel",
      "state": {
       "_options_labels": [
        "Any",
        "Hand Cannon",
        "Auto Rifle",
        "Scout Rifle",
        "Pulse Rifle",
        "Sidearm",
        "Submachine Gun",
        "Combt Bow",
        "Sniper Rifle",
        "Shotgun"
       ],
       "index": 0,
       "layout": "IPY_MODEL_27de6b728bae49b0a4b2fdd732570aae",
       "style": "IPY_MODEL_77c372fedcb740efb1ae282cc36b31c0"
      }
     },
     "6ab50f9928994872a02dd371f7d9bece": {
      "model_module": "@jupyter-widgets/controls",
      "model_module_version": "1.5.0",
      "model_name": "ProgressStyleModel",
      "state": {
       "description_width": ""
      }
     },
     "6abc613e968340f291ca4a9a0336952d": {
      "model_module": "@jupyter-widgets/controls",
      "model_module_version": "1.5.0",
      "model_name": "ButtonStyleModel",
      "state": {}
     },
     "6ac3806ffd78426fa2c284cb267257a0": {
      "model_module": "@jupyter-widgets/controls",
      "model_module_version": "1.5.0",
      "model_name": "IntProgressModel",
      "state": {
       "layout": "IPY_MODEL_7e50e6ba1a124167b4751ce9657521a2",
       "style": "IPY_MODEL_ceccd7fd4c6c4491aa89bdf8ed86e1b5",
       "value": 30
      }
     },
     "6ac39e7e3d83416cacf704416a857902": {
      "model_module": "@jupyter-widgets/controls",
      "model_module_version": "1.5.0",
      "model_name": "ButtonStyleModel",
      "state": {}
     },
     "6ac4af223d0e41aa9c1508aa472a76fb": {
      "model_module": "@jupyter-widgets/base",
      "model_module_version": "1.2.0",
      "model_name": "LayoutModel",
      "state": {}
     },
     "6ac655b897f246fe8e261aed0b666756": {
      "model_module": "@jupyter-widgets/controls",
      "model_module_version": "1.5.0",
      "model_name": "ButtonModel",
      "state": {
       "layout": "IPY_MODEL_cf0241ee59b446cebe81a4ee572cd378",
       "style": "IPY_MODEL_a0bd0366892941e6963c5712bff1fc22"
      }
     },
     "6ad3498fdd2b4870b9f96941f59af939": {
      "model_module": "@jupyter-widgets/controls",
      "model_module_version": "1.5.0",
      "model_name": "DescriptionStyleModel",
      "state": {
       "description_width": ""
      }
     },
     "6adb9781530e44a6acf59809ce2fffa2": {
      "model_module": "@jupyter-widgets/base",
      "model_module_version": "1.2.0",
      "model_name": "LayoutModel",
      "state": {}
     },
     "6aea3e047e0e42b9a2063dd90c834fd9": {
      "model_module": "@jupyter-widgets/controls",
      "model_module_version": "1.5.0",
      "model_name": "DescriptionStyleModel",
      "state": {
       "description_width": ""
      }
     },
     "6af435d7cbc94c6d81e85bd434eeca4e": {
      "model_module": "@jupyter-widgets/controls",
      "model_module_version": "1.5.0",
      "model_name": "HBoxModel",
      "state": {
       "children": [
        "IPY_MODEL_98df142bf58b4d709212005caab531c2",
        "IPY_MODEL_02429e184e4341f5984de99088e012d6",
        "IPY_MODEL_c9051adbe9954373ac597c7acfdea18a",
        "IPY_MODEL_f35c54e826094c03972f1c7f7a0a34df"
       ],
       "layout": "IPY_MODEL_e1537bacc3c44577a95196a19ca65a11"
      }
     },
     "6b053fb0e603476c9052548f8cf33ce6": {
      "model_module": "@jupyter-widgets/controls",
      "model_module_version": "1.5.0",
      "model_name": "IntProgressModel",
      "state": {
       "layout": "IPY_MODEL_bd1dd96c351a4752b33fe7b8508b5c21",
       "style": "IPY_MODEL_e2b43cc608b84d80aed2f3ff317235fa",
       "value": 30
      }
     },
     "6b0788e66e294e658208d6a8804c4738": {
      "model_module": "@jupyter-widgets/base",
      "model_module_version": "1.2.0",
      "model_name": "LayoutModel",
      "state": {
       "height": "32px",
       "overflow": "visible",
       "width": "100%"
      }
     },
     "6b1083a5409a4e7d848a7b7ef5798c09": {
      "model_module": "@jupyter-widgets/controls",
      "model_module_version": "1.5.0",
      "model_name": "ProgressStyleModel",
      "state": {
       "description_width": ""
      }
     },
     "6b251b030eac46c7aff989e623cc0e58": {
      "model_module": "@jupyter-widgets/controls",
      "model_module_version": "1.5.0",
      "model_name": "IntProgressModel",
      "state": {
       "layout": "IPY_MODEL_9d8c43c1f3ff4ef48a4a413681ba2a82",
       "style": "IPY_MODEL_c5c5c307496d4fae83d67cec508c656f",
       "value": 30
      }
     },
     "6b30188de16d41f9a681a6b9092cf530": {
      "model_module": "@jupyter-widgets/controls",
      "model_module_version": "1.5.0",
      "model_name": "ButtonStyleModel",
      "state": {}
     },
     "6b3d0d0f4f074821b71304d937f2a105": {
      "model_module": "@jupyter-widgets/controls",
      "model_module_version": "1.5.0",
      "model_name": "ProgressStyleModel",
      "state": {
       "description_width": ""
      }
     },
     "6b442522d7bd4510bc32068eaeaae844": {
      "model_module": "@jupyter-widgets/controls",
      "model_module_version": "1.5.0",
      "model_name": "ButtonModel",
      "state": {
       "description": "EDIT",
       "layout": "IPY_MODEL_61e70f2bb1bb46ebac956cddcbbb19c0",
       "style": "IPY_MODEL_580ae84a52a940eda9e57b09baa62dda"
      }
     },
     "6b976e91b8c34c7e90abb150f8f5cc2f": {
      "model_module": "@jupyter-widgets/controls",
      "model_module_version": "1.5.0",
      "model_name": "ButtonStyleModel",
      "state": {}
     },
     "6b9c21ab925d435eb11c27e0a8c82a4a": {
      "model_module": "@jupyter-widgets/controls",
      "model_module_version": "1.5.0",
      "model_name": "DescriptionStyleModel",
      "state": {
       "description_width": ""
      }
     },
     "6bbfd3f54c1e4d759ad5a32b5193ce00": {
      "model_module": "@jupyter-widgets/base",
      "model_module_version": "1.2.0",
      "model_name": "LayoutModel",
      "state": {}
     },
     "6bfb3f37401148619158af1fb1177800": {
      "model_module": "@jupyter-widgets/controls",
      "model_module_version": "1.5.0",
      "model_name": "ButtonStyleModel",
      "state": {}
     },
     "6bfedbb7b80a4e31859831dcae4e9b85": {
      "model_module": "@jupyter-widgets/controls",
      "model_module_version": "1.5.0",
      "model_name": "ButtonModel",
      "state": {
       "layout": "IPY_MODEL_cbd41ec0c6a54dd4916e24d6ac3b2601",
       "style": "IPY_MODEL_43a3a77152634003b7c56bb4496de7c9"
      }
     },
     "6c20be5663a84d4280fcc1951a6ae713": {
      "model_module": "@jupyter-widgets/base",
      "model_module_version": "1.2.0",
      "model_name": "LayoutModel",
      "state": {
       "width": "60px"
      }
     },
     "6c3f60f72eb6420fa8b6dfc23d0562c7": {
      "model_module": "@jupyter-widgets/controls",
      "model_module_version": "1.5.0",
      "model_name": "ProgressStyleModel",
      "state": {
       "description_width": ""
      }
     },
     "6c406dd840ef412c827f8c6a686bd16a": {
      "model_module": "@jupyter-widgets/controls",
      "model_module_version": "1.5.0",
      "model_name": "ButtonStyleModel",
      "state": {}
     },
     "6c40c320235d4be1a5d8930a3bf4e926": {
      "model_module": "@jupyter-widgets/controls",
      "model_module_version": "1.5.0",
      "model_name": "ButtonModel",
      "state": {
       "description": "EDIT",
       "layout": "IPY_MODEL_3cb2246057df4e6399d0031ab3696a6e",
       "style": "IPY_MODEL_135a2880908e45afa564ed0f7c4b33f5"
      }
     },
     "6c4ca5d0a1a34d8ebe6a7c8a7ef8405b": {
      "model_module": "@jupyter-widgets/base",
      "model_module_version": "1.2.0",
      "model_name": "LayoutModel",
      "state": {
       "height": "32px",
       "overflow": "visible",
       "width": "100%"
      }
     },
     "6c50a5e2ad4f49988bf9280fe84d3ea8": {
      "model_module": "@jupyter-widgets/controls",
      "model_module_version": "1.5.0",
      "model_name": "IntProgressModel",
      "state": {
       "layout": "IPY_MODEL_7472707b8b69436c9367a301bd2fb761",
       "style": "IPY_MODEL_212340accef0452293a1edc291d2786d",
       "value": 30
      }
     },
     "6c5b237403754977bb025162aa1e70b9": {
      "model_module": "@jupyter-widgets/controls",
      "model_module_version": "1.5.0",
      "model_name": "ButtonStyleModel",
      "state": {}
     },
     "6c7639d1526a4a3aa5ce64a2d44a31e9": {
      "model_module": "@jupyter-widgets/base",
      "model_module_version": "1.2.0",
      "model_name": "LayoutModel",
      "state": {
       "height": "32px",
       "order": "-2",
       "width": "32px"
      }
     },
     "6c807feb806b462da611d465414405d6": {
      "model_module": "@jupyter-widgets/controls",
      "model_module_version": "1.5.0",
      "model_name": "LabelModel",
      "state": {
       "layout": "IPY_MODEL_17942dc535134b9fbf1454f101e58d7f",
       "style": "IPY_MODEL_ca96d21b2a134a1a9640d59788cb2aee",
       "value": "   objective"
      }
     },
     "6c8d0507ba2d430ca69dd82ed4f298e7": {
      "model_module": "@jupyter-widgets/controls",
      "model_module_version": "1.5.0",
      "model_name": "IntProgressModel",
      "state": {
       "layout": "IPY_MODEL_cdd6925fec014ebfa551f8a2c23ad512",
       "style": "IPY_MODEL_2a3d6ba2074f4988bb62b41050f6a27a",
       "value": 30
      }
     },
     "6cb53f5264cf4fe8a30d9cf1fbd41e76": {
      "model_module": "@jupyter-widgets/controls",
      "model_module_version": "1.5.0",
      "model_name": "VBoxModel",
      "state": {
       "children": [
        "IPY_MODEL_a0ba828a6ab84dfe9fa37224d9be820c",
        "IPY_MODEL_999a4ac538104c538fa69472e3bddabf",
        "IPY_MODEL_f3689da1c17c4776a4588556f2995b8c",
        "IPY_MODEL_25eec585fd454b6994f8388d8acedb83",
        "IPY_MODEL_7dfc415c22e246fd92b9ca72b38d13e9",
        "IPY_MODEL_3d8faf3fc8ac48489bda3730c8cecbd5"
       ],
       "layout": "IPY_MODEL_d99169c13a3f49bd9aa36bc86615abcf"
      }
     },
     "6cb652353c8445faa6f1b0acf24e4b03": {
      "model_module": "@jupyter-widgets/controls",
      "model_module_version": "1.5.0",
      "model_name": "HBoxModel",
      "state": {
       "children": [
        "IPY_MODEL_2618cb2e9cc944289ce2b5482a581664",
        "IPY_MODEL_e5b8b01474d74d4a9915b75385df7791",
        "IPY_MODEL_4cb119ffb7f64c9eaee1f4447a99da24",
        "IPY_MODEL_92f32c5e11ed4fada9387206c81ecbc7"
       ],
       "layout": "IPY_MODEL_281c3a76529e48d086f781f7233c30bf"
      }
     },
     "6cb76453ce3147d081e2b5f7003fecc8": {
      "model_module": "@jupyter-widgets/base",
      "model_module_version": "1.2.0",
      "model_name": "LayoutModel",
      "state": {
       "order": "-1",
       "overflow": "visible",
       "padding": "1px",
       "width": "0px"
      }
     },
     "6cc9e97ea14c447abf6d97aa17fb7ff0": {
      "model_module": "@jupyter-widgets/controls",
      "model_module_version": "1.5.0",
      "model_name": "LabelModel",
      "state": {
       "layout": "IPY_MODEL_0aadf17e166d4cd0bd3c9e4e47ae4691",
       "style": "IPY_MODEL_644df179a8704dcd895ca208e387c5a6",
       "value": "   objective"
      }
     },
     "6ce9e25e69404aecb0b89def007023ec": {
      "model_module": "@jupyter-widgets/controls",
      "model_module_version": "1.5.0",
      "model_name": "BoxModel",
      "state": {
       "children": [
        "IPY_MODEL_3b1ce7fb80c946c3906f277c63e5cf35",
        "IPY_MODEL_595810a7e33744529665da386caddb6f",
        "IPY_MODEL_1f524502226547b8841e0e91698ed2cc",
        "IPY_MODEL_b42f543f6f474fb392d3233cb5c41899",
        "IPY_MODEL_db37cf38a7434cbe84a7ddce855571ba",
        "IPY_MODEL_20b1bed7e06e4c729e7ebf8ea5e95b4d",
        "IPY_MODEL_025bad78f74644e5acea324584503fd5",
        "IPY_MODEL_4ce4aa2157524996836b7d0beb8d9991",
        "IPY_MODEL_82d3aef6aa4e465e9de0b6df1a94751a",
        "IPY_MODEL_ec76ea5671594c5f9852fd74156b2e2e",
        "IPY_MODEL_03686fac9d75485386be3cfcf5b13423",
        "IPY_MODEL_7308997913314b40a162baec2548e98f",
        "IPY_MODEL_123f50fd614f4be7b0b24e426ffff400",
        "IPY_MODEL_209f16237a3941428961ee2609a95f9b",
        "IPY_MODEL_c8769a899bbe4934900756cadfb3a996"
       ],
       "layout": "IPY_MODEL_adae4070062e4e04bbef65b9961f4343"
      }
     },
     "6d01fef4b4c7478cadf255f27f5faebd": {
      "model_module": "@jupyter-widgets/controls",
      "model_module_version": "1.5.0",
      "model_name": "ButtonStyleModel",
      "state": {}
     },
     "6d3c73f08b0042738474ca4f5a68ea7d": {
      "model_module": "@jupyter-widgets/controls",
      "model_module_version": "1.5.0",
      "model_name": "HBoxModel",
      "state": {
       "children": [
        "IPY_MODEL_026a7756d7b44b8293b7122ac81fe49a",
        "IPY_MODEL_c5f3d6c5c3294a5087439ee60adf2656",
        "IPY_MODEL_ee6109a28f7842acb10ec210952680d7",
        "IPY_MODEL_a802dc6896b34fbba30da93805fc1067"
       ],
       "layout": "IPY_MODEL_9745cf807c274071aedfe9e01bbfd38b"
      }
     },
     "6d4c0dce1be045c39edbd2e234df7076": {
      "model_module": "@jupyter-widgets/base",
      "model_module_version": "1.2.0",
      "model_name": "LayoutModel",
      "state": {}
     },
     "6d6741a90b1d4fb9b044d26ab2ca2829": {
      "model_module": "@jupyter-widgets/controls",
      "model_module_version": "1.5.0",
      "model_name": "ButtonModel",
      "state": {
       "layout": "IPY_MODEL_9b8b711cfc6d46d482284893b17d991d",
       "style": "IPY_MODEL_968e939b462d43579ed611a9d832ea38"
      }
     },
     "6d795e66aa58427daafefdea4daf15c8": {
      "model_module": "@jupyter-widgets/controls",
      "model_module_version": "1.5.0",
      "model_name": "IntProgressModel",
      "state": {
       "layout": "IPY_MODEL_ab70837a4fef47ff83fd008fe4d49695",
       "style": "IPY_MODEL_0b6f59a2318c4b4cac0329baac6c6c69",
       "value": 30
      }
     },
     "6d9183bea900475abf33f542ebbc0487": {
      "model_module": "@jupyter-widgets/base",
      "model_module_version": "1.2.0",
      "model_name": "LayoutModel",
      "state": {}
     },
     "6daa0986260c491684f5c8da546b8c65": {
      "model_module": "@jupyter-widgets/controls",
      "model_module_version": "1.5.0",
      "model_name": "DescriptionStyleModel",
      "state": {
       "description_width": ""
      }
     },
     "6dc3a9208f8f48efa2be4cb17de42abc": {
      "model_module": "@jupyter-widgets/controls",
      "model_module_version": "1.5.0",
      "model_name": "VBoxModel",
      "state": {
       "children": [
        "IPY_MODEL_70329bb4d21148e28fc9f627ef235852",
        "IPY_MODEL_438aeb345c244b3884d68d167692e689",
        "IPY_MODEL_db76f9da30d5413fa801147bd6bd8fcd",
        "IPY_MODEL_ad4d05369a92469c86c96761e5cdaf67"
       ],
       "layout": "IPY_MODEL_894a1d38b4ff4309bcb967d5e9fc3e55"
      }
     },
     "6de22d3365394bb8a12f20e77b20107f": {
      "model_module": "@jupyter-widgets/controls",
      "model_module_version": "1.5.0",
      "model_name": "IntProgressModel",
      "state": {
       "layout": "IPY_MODEL_b7eead6a8c4440849e137f38ca66b0d6",
       "style": "IPY_MODEL_c4815a3500d1411ba8302646420760e2",
       "value": 30
      }
     },
     "6df23453a6934e1abf941969f23ffb9b": {
      "model_module": "@jupyter-widgets/controls",
      "model_module_version": "1.5.0",
      "model_name": "ButtonModel",
      "state": {
       "description": "EDIT",
       "layout": "IPY_MODEL_40f0ed1b0cdc4c15ab8998673f7b1cdd",
       "style": "IPY_MODEL_81ce1132a3b54f509c0d37f468a5d380"
      }
     },
     "6e112706fbbc4a2e92b67ed8e7938bd5": {
      "model_module": "@jupyter-widgets/base",
      "model_module_version": "1.2.0",
      "model_name": "LayoutModel",
      "state": {
       "height": "32px",
       "overflow": "visible",
       "width": "100%"
      }
     },
     "6e3c613d91984d31bedf1914338e0b4a": {
      "model_module": "@jupyter-widgets/base",
      "model_module_version": "1.2.0",
      "model_name": "LayoutModel",
      "state": {
       "height": "32px",
       "overflow": "visible",
       "width": "100%"
      }
     },
     "6e49120c52264228a97825c7851ac691": {
      "model_module": "@jupyter-widgets/controls",
      "model_module_version": "1.5.0",
      "model_name": "HTMLModel",
      "state": {
       "layout": "IPY_MODEL_be5bb0004c9b4c4c89059bd159afa801",
       "style": "IPY_MODEL_fad7d369d1084706b7e90ad45e30ded5",
       "value": "<b>Task Name</b>"
      }
     },
     "6e4a007d439d439e89037c99b3febaf9": {
      "model_module": "@jupyter-widgets/base",
      "model_module_version": "1.2.0",
      "model_name": "LayoutModel",
      "state": {}
     },
     "6e57614f7d8f4b89910068b478946a5e": {
      "model_module": "@jupyter-widgets/controls",
      "model_module_version": "1.5.0",
      "model_name": "ProgressStyleModel",
      "state": {
       "description_width": ""
      }
     },
     "6e607291ee8740459a6185fafc459d74": {
      "model_module": "@jupyter-widgets/base",
      "model_module_version": "1.2.0",
      "model_name": "LayoutModel",
      "state": {
       "order": "-1",
       "overflow": "visible",
       "padding": "1px",
       "width": "0px"
      }
     },
     "6e912c55951a49cda033a57d48d0f20f": {
      "model_module": "@jupyter-widgets/controls",
      "model_module_version": "1.5.0",
      "model_name": "IntProgressModel",
      "state": {
       "layout": "IPY_MODEL_77b86d369a07489eab0c6d25bfc2f531",
       "style": "IPY_MODEL_bc039c2c0aac41c5b436be290742ce89",
       "value": 30
      }
     },
     "6e9a99a0cdc542afbef112d4b4dc03b2": {
      "model_module": "@jupyter-widgets/controls",
      "model_module_version": "1.5.0",
      "model_name": "HBoxModel",
      "state": {
       "children": [
        "IPY_MODEL_9fcb54648b424d2c9566ece40693e2bf",
        "IPY_MODEL_33178f310e684ca3aae5737d642d9861",
        "IPY_MODEL_1b64bc6fd8ee4efd8abd04ce82401d3f",
        "IPY_MODEL_22bda61896cf4d9bbc2723c0c632d380"
       ],
       "layout": "IPY_MODEL_f1c036d05c034fcca741cedf42eea135"
      }
     },
     "6ea229d25666407d8fd261a203bd606f": {
      "model_module": "@jupyter-widgets/controls",
      "model_module_version": "1.5.0",
      "model_name": "ProgressStyleModel",
      "state": {
       "description_width": ""
      }
     },
     "6ea585807b024aa9966aeee20fc6f3e0": {
      "model_module": "@jupyter-widgets/controls",
      "model_module_version": "1.5.0",
      "model_name": "LabelModel",
      "state": {
       "layout": "IPY_MODEL_7913f153b0874598aa05c3c620fa7a6f",
       "style": "IPY_MODEL_693b3d5b384d4a3284b82979cce4ccc9",
       "value": "   objective"
      }
     },
     "6eb441da0c484a3395c93556810cd453": {
      "model_module": "@jupyter-widgets/controls",
      "model_module_version": "1.5.0",
      "model_name": "LabelModel",
      "state": {
       "layout": "IPY_MODEL_b80c2b9343f74e639e9c061c94d5a14b",
       "style": "IPY_MODEL_c882596216b548968cd40b1175c5ffa5",
       "value": "   objective"
      }
     },
     "6ed1b1640dca40b287a4cfd483c0d8da": {
      "model_module": "@jupyter-widgets/base",
      "model_module_version": "1.2.0",
      "model_name": "LayoutModel",
      "state": {
       "overflow": "visible",
       "width": "100%"
      }
     },
     "6ed3c1f219344f7fb88c7e5a4f405457": {
      "model_module": "@jupyter-widgets/base",
      "model_module_version": "1.2.0",
      "model_name": "LayoutModel",
      "state": {}
     },
     "6ee5d3e18d184b2c81ae2e05f3802f90": {
      "model_module": "@jupyter-widgets/controls",
      "model_module_version": "1.5.0",
      "model_name": "ButtonModel",
      "state": {
       "layout": "IPY_MODEL_0a9ad8412cfd4f24bf4513e75191a498",
       "style": "IPY_MODEL_1208643c8b26467c9739edfc5457e0a7"
      }
     },
     "6ef07bddccbd49bf81e9f8f7a30f76d0": {
      "model_module": "@jupyter-widgets/base",
      "model_module_version": "1.2.0",
      "model_name": "LayoutModel",
      "state": {
       "height": "32px",
       "overflow": "visible",
       "width": "100%"
      }
     },
     "6f119e420fde444dabc88879d2a5fc58": {
      "model_module": "@jupyter-widgets/controls",
      "model_module_version": "1.5.0",
      "model_name": "HBoxModel",
      "state": {
       "children": [
        "IPY_MODEL_4ef2b8c3542f46778a579ed15e6d35a2",
        "IPY_MODEL_50b5063dc01b4d15845c25737ba5d4bd",
        "IPY_MODEL_eb42423991e8493899b72287f177f5e5",
        "IPY_MODEL_0927eb6a1dc044b094ca5ea052228281"
       ],
       "layout": "IPY_MODEL_9278d19cb3fa48c1b76eaf582f1d73d6"
      }
     },
     "6f14bce4266b4709b9b355ece314f9b3": {
      "model_module": "@jupyter-widgets/controls",
      "model_module_version": "1.5.0",
      "model_name": "HTMLModel",
      "state": {
       "layout": "IPY_MODEL_d4049bb857044238836a9e31333364dc",
       "style": "IPY_MODEL_61deb607a10f4e79a803e6a708ac10e8",
       "value": "<i>test test test test test test test test test test test test test test test test test test test test test test test test </i>"
      }
     },
     "6f14e2502d4f403eadcfbe8ae0948fd0": {
      "model_module": "@jupyter-widgets/controls",
      "model_module_version": "1.5.0",
      "model_name": "HBoxModel",
      "state": {
       "children": [
        "IPY_MODEL_64276fba23cf4a17ba2462226c7c4bbf",
        "IPY_MODEL_21310c4385ac4f4f91b0c7fa55042ae0",
        "IPY_MODEL_48158836d5244add8f17f1fa5d29e07d",
        "IPY_MODEL_91a109bd18704c59a4b69931a25af087"
       ],
       "layout": "IPY_MODEL_27fa275e174e47d29302379e98bd4eef"
      }
     },
     "6f19752d550b4720afd7cfe4ea8732ec": {
      "model_module": "@jupyter-widgets/base",
      "model_module_version": "1.2.0",
      "model_name": "LayoutModel",
      "state": {
       "width": "60px"
      }
     },
     "6f44157f19104d59a04bf38083388aed": {
      "model_module": "@jupyter-widgets/controls",
      "model_module_version": "1.5.0",
      "model_name": "DescriptionStyleModel",
      "state": {
       "description_width": ""
      }
     },
     "6f5b54b6786d4120a424c6a126ce0efa": {
      "model_module": "@jupyter-widgets/controls",
      "model_module_version": "1.5.0",
      "model_name": "HBoxModel",
      "state": {
       "children": [
        "IPY_MODEL_9f8d0b7d544644c58e92f76e3cacc801",
        "IPY_MODEL_9edb87c5274c41b084574d7cae100f02",
        "IPY_MODEL_6587e943d70e438c97fee591db460c72",
        "IPY_MODEL_471d9748e9dc4ae8bfc377b6eb35d5dc"
       ],
       "layout": "IPY_MODEL_bf8697f67bce4c9faa44788017196a64"
      }
     },
     "6f5f5fe15c0f460eb611df03fc8ce010": {
      "model_module": "@jupyter-widgets/controls",
      "model_module_version": "1.5.0",
      "model_name": "DropdownModel",
      "state": {
       "_options_labels": [
        "Any"
       ],
       "disabled": true,
       "index": 0,
       "layout": "IPY_MODEL_27de6b728bae49b0a4b2fdd732570aae",
       "style": "IPY_MODEL_02c8d47ed58342d5a3003af5a715f070"
      }
     },
     "6f606b8261fd460ba22db999ed06368c": {
      "model_module": "@jupyter-widgets/controls",
      "model_module_version": "1.5.0",
      "model_name": "ButtonModel",
      "state": {
       "layout": "IPY_MODEL_8539df3b792c4fe5a29814fd1f892cb1",
       "style": "IPY_MODEL_ee1ab6e4ac494daf95651861f726d290"
      }
     },
     "6f9adb8832fe490899d15877d8494298": {
      "model_module": "@jupyter-widgets/controls",
      "model_module_version": "1.5.0",
      "model_name": "ButtonModel",
      "state": {
       "description": "EDIT",
       "layout": "IPY_MODEL_7b48b621ec794915aa2472411a4aebb0",
       "style": "IPY_MODEL_042d17ba42074968a89e2b68d1fb8e51"
      }
     },
     "6fc6cd7e9b7b462f9c28d3580109ef3f": {
      "model_module": "@jupyter-widgets/controls",
      "model_module_version": "1.5.0",
      "model_name": "IntProgressModel",
      "state": {
       "layout": "IPY_MODEL_04ef2a7241ad4d7ebf12eba42619f8a8",
       "style": "IPY_MODEL_5dc8d9299ed14ae7ae0dfde7f563cc95",
       "value": 30
      }
     },
     "6fcc3a0b286a41548bcd7dd426e3d675": {
      "model_module": "@jupyter-widgets/controls",
      "model_module_version": "1.5.0",
      "model_name": "ButtonModel",
      "state": {
       "layout": "IPY_MODEL_a927da0dac3d4a2ca15e610751e2d321",
       "style": "IPY_MODEL_3bb5a253350e45569a37154f4e0b425c"
      }
     },
     "6ff48f490baf47b0a6a0e6136b448425": {
      "model_module": "@jupyter-widgets/controls",
      "model_module_version": "1.5.0",
      "model_name": "ButtonStyleModel",
      "state": {}
     },
     "700efc38acb4466aa5a0c281da6cd834": {
      "model_module": "@jupyter-widgets/controls",
      "model_module_version": "1.5.0",
      "model_name": "ProgressStyleModel",
      "state": {
       "description_width": ""
      }
     },
     "7014faea1c7946d8b79831bf46cdc6e9": {
      "model_module": "@jupyter-widgets/base",
      "model_module_version": "1.2.0",
      "model_name": "LayoutModel",
      "state": {}
     },
     "701d2dc19b6f46ceaf60e1a023002250": {
      "model_module": "@jupyter-widgets/controls",
      "model_module_version": "1.5.0",
      "model_name": "DescriptionStyleModel",
      "state": {
       "description_width": ""
      }
     },
     "70329bb4d21148e28fc9f627ef235852": {
      "model_module": "@jupyter-widgets/controls",
      "model_module_version": "1.5.0",
      "model_name": "HTMLModel",
      "state": {
       "layout": "IPY_MODEL_b419ad1103c74a729add8625ae93ab0a",
       "style": "IPY_MODEL_f23a48bac2aa419da0cc0434eae53021",
       "value": "<font size=\"1\">Path/Path/Path/Path/</font size>"
      }
     },
     "7057baf9858a4d2bbac7b67228aeafa3": {
      "model_module": "@jupyter-widgets/controls",
      "model_module_version": "1.5.0",
      "model_name": "ProgressStyleModel",
      "state": {
       "description_width": ""
      }
     },
     "7061cbf922c94fbfbd53633c344ea2e5": {
      "model_module": "@jupyter-widgets/controls",
      "model_module_version": "1.5.0",
      "model_name": "DescriptionStyleModel",
      "state": {
       "description_width": ""
      }
     },
     "7071f3af95d644ca9880a22c493550eb": {
      "model_module": "@jupyter-widgets/controls",
      "model_module_version": "1.5.0",
      "model_name": "ButtonStyleModel",
      "state": {}
     },
     "707201281dfe4b4ab35671322ce11279": {
      "model_module": "@jupyter-widgets/controls",
      "model_module_version": "1.5.0",
      "model_name": "ButtonStyleModel",
      "state": {}
     },
     "70cdf5011572405a8e39d1bf5a098d8a": {
      "model_module": "@jupyter-widgets/controls",
      "model_module_version": "1.5.0",
      "model_name": "HBoxModel",
      "state": {
       "children": [
        "IPY_MODEL_bc4c04e4c20e403c8b6f094fa814283f",
        "IPY_MODEL_9f242dcb95cb4ec6be30c7caca236e42",
        "IPY_MODEL_97288330667746fab2a262ea23715980",
        "IPY_MODEL_abb025ce7b4b437cb38d8ecf98abb95c"
       ],
       "layout": "IPY_MODEL_12cbc1f0d44b49e4988b500627045c95"
      }
     },
     "70f597e847e540f7ac735894d4f53419": {
      "model_module": "@jupyter-widgets/base",
      "model_module_version": "1.2.0",
      "model_name": "LayoutModel",
      "state": {
       "height": "32px",
       "order": "-2",
       "width": "32px"
      }
     },
     "71062eaa57ff45cbab7d8632a16b56ba": {
      "model_module": "@jupyter-widgets/controls",
      "model_module_version": "1.5.0",
      "model_name": "ButtonStyleModel",
      "state": {}
     },
     "71171584e032496e9761930dee56930f": {
      "model_module": "@jupyter-widgets/base",
      "model_module_version": "1.2.0",
      "model_name": "LayoutModel",
      "state": {}
     },
     "711a21b6dcdc4f6197ad0ea4f3cbf294": {
      "model_module": "@jupyter-widgets/controls",
      "model_module_version": "1.5.0",
      "model_name": "ButtonModel",
      "state": {
       "description": "EDIT",
       "layout": "IPY_MODEL_361fa4ce807741fe88a9246b0ff42c7b",
       "style": "IPY_MODEL_a8fc0ca947f1420fa60508bdb730581f"
      }
     },
     "711fa32fedbe4d66ae4bb4616889cabb": {
      "model_module": "@jupyter-widgets/base",
      "model_module_version": "1.2.0",
      "model_name": "LayoutModel",
      "state": {
       "order": "-1",
       "overflow": "visible",
       "padding": "1px",
       "width": "0px"
      }
     },
     "714838b6dbb6478ea66608c907d92f6b": {
      "model_module": "@jupyter-widgets/controls",
      "model_module_version": "1.5.0",
      "model_name": "ButtonStyleModel",
      "state": {}
     },
     "717554a63f8a43edb95f693971afea83": {
      "model_module": "@jupyter-widgets/controls",
      "model_module_version": "1.5.0",
      "model_name": "ButtonStyleModel",
      "state": {}
     },
     "718d4262d1e14b248c51f2a77bda3a07": {
      "model_module": "@jupyter-widgets/controls",
      "model_module_version": "1.5.0",
      "model_name": "ButtonModel",
      "state": {
       "layout": "IPY_MODEL_155f99e6a0584ec8a9a5b609d08e224b",
       "style": "IPY_MODEL_763e5c571aa94e5f8cb12d140a8a8fe6"
      }
     },
     "719da81c2dec44c6a45f5b65d6b7e63f": {
      "model_module": "@jupyter-widgets/base",
      "model_module_version": "1.2.0",
      "model_name": "LayoutModel",
      "state": {
       "width": "60px"
      }
     },
     "719dfffb5d9f465e9e811a0b2a19c181": {
      "model_module": "@jupyter-widgets/base",
      "model_module_version": "1.2.0",
      "model_name": "LayoutModel",
      "state": {
       "height": "32px",
       "overflow": "visible",
       "width": "100%"
      }
     },
     "71a979a58c9a465e9f97a907cbed5689": {
      "model_module": "@jupyter-widgets/controls",
      "model_module_version": "1.5.0",
      "model_name": "HBoxModel",
      "state": {
       "children": [
        "IPY_MODEL_832f63099c6b48eeb0fe0e76caada471",
        "IPY_MODEL_a9463da452cc42079cb2386bc749f7bb"
       ],
       "layout": "IPY_MODEL_a438b410f54749028e071b7dbc2ac92e"
      }
     },
     "71b6752f09b84ee0844414daa692912c": {
      "model_module": "@jupyter-widgets/base",
      "model_module_version": "1.2.0",
      "model_name": "LayoutModel",
      "state": {
       "width": "60px"
      }
     },
     "71bf89bddaf84d0cbd28adc798fd40cd": {
      "model_module": "@jupyter-widgets/controls",
      "model_module_version": "1.5.0",
      "model_name": "ButtonModel",
      "state": {
       "description": "EDIT",
       "layout": "IPY_MODEL_7e44c52d644b49b9b6b58a3ceffeb67d",
       "style": "IPY_MODEL_5b027b59fd4d41b18fcdd1570caf9886"
      }
     },
     "71c8369f0fb840379022e1ef26c4d7b1": {
      "model_module": "@jupyter-widgets/controls",
      "model_module_version": "1.5.0",
      "model_name": "ButtonModel",
      "state": {
       "layout": "IPY_MODEL_486a592a83c64bb2a49ff6f10ae697c9",
       "style": "IPY_MODEL_d75a50f9187b40a68a73a1872e0f4f0a"
      }
     },
     "71dfae1ab12145a2b97360c3a8b97779": {
      "model_module": "@jupyter-widgets/controls",
      "model_module_version": "1.5.0",
      "model_name": "ButtonModel",
      "state": {
       "description": "EDIT",
       "layout": "IPY_MODEL_21bcafac057d4184b4ce2c9eb9b1dfb0",
       "style": "IPY_MODEL_ea6eccb58a594b2eb96fb4ef8b22132d"
      }
     },
     "71edc23d8144496b94a34d90ca07071d": {
      "model_module": "@jupyter-widgets/controls",
      "model_module_version": "1.5.0",
      "model_name": "ButtonModel",
      "state": {
       "description": "EDIT",
       "layout": "IPY_MODEL_8f6cebd6e0ca403ba1fc91e4c3d8144c",
       "style": "IPY_MODEL_717554a63f8a43edb95f693971afea83"
      }
     },
     "7214ebc3b16d4766b48ce5a64ef6a499": {
      "model_module": "@jupyter-widgets/base",
      "model_module_version": "1.2.0",
      "model_name": "LayoutModel",
      "state": {
       "height": "32px",
       "order": "-2",
       "width": "32px"
      }
     },
     "726ea4b1209445cebeab728bc7518641": {
      "model_module": "@jupyter-widgets/base",
      "model_module_version": "1.2.0",
      "model_name": "LayoutModel",
      "state": {
       "display": "flex",
       "flex_flow": "row wrap"
      }
     },
     "7283010038e24c8da6b209b5f92cfa15": {
      "model_module": "@jupyter-widgets/controls",
      "model_module_version": "1.5.0",
      "model_name": "ButtonStyleModel",
      "state": {}
     },
     "7296a1de92fd46dc9e14d6c5da27a895": {
      "model_module": "@jupyter-widgets/base",
      "model_module_version": "1.2.0",
      "model_name": "LayoutModel",
      "state": {}
     },
     "72b90a0fe0f94f06b74fbaeaf04e0c1f": {
      "model_module": "@jupyter-widgets/base",
      "model_module_version": "1.2.0",
      "model_name": "LayoutModel",
      "state": {
       "width": "60px"
      }
     },
     "72c1b633c6a64d87b11890c945f0d77f": {
      "model_module": "@jupyter-widgets/base",
      "model_module_version": "1.2.0",
      "model_name": "LayoutModel",
      "state": {
       "height": "32px",
       "overflow": "visible",
       "width": "100%"
      }
     },
     "72ce3870926f42988f5e93f8eec86461": {
      "model_module": "@jupyter-widgets/controls",
      "model_module_version": "1.5.0",
      "model_name": "ButtonStyleModel",
      "state": {}
     },
     "72d82da27d40426eb8d1e51c193df2a3": {
      "model_module": "@jupyter-widgets/controls",
      "model_module_version": "1.5.0",
      "model_name": "IntProgressModel",
      "state": {
       "layout": "IPY_MODEL_1e89c105a2aa4e97860615f93e6800f3",
       "style": "IPY_MODEL_851f92ce3b45437186db8c36a61d7a80",
       "value": 30
      }
     },
     "72daf6efdf144bf39c0790d6f7b7b892": {
      "model_module": "@jupyter-widgets/base",
      "model_module_version": "1.2.0",
      "model_name": "LayoutModel",
      "state": {
       "height": "32px",
       "order": "-2",
       "width": "32px"
      }
     },
     "72f033d7bfb74755b0ba778328655d87": {
      "model_module": "@jupyter-widgets/base",
      "model_module_version": "1.2.0",
      "model_name": "LayoutModel",
      "state": {
       "height": "32px",
       "order": "-2",
       "width": "32px"
      }
     },
     "7308997913314b40a162baec2548e98f": {
      "model_module": "@jupyter-widgets/controls",
      "model_module_version": "1.5.0",
      "model_name": "VBoxModel",
      "state": {
       "children": [
        "IPY_MODEL_e7b1dae625e44dcdaf26c1d92484f7e8",
        "IPY_MODEL_598d1c802d2f400ca0e401ab0160648a",
        "IPY_MODEL_aab191b57ba54408b2de2bcd4d1f6fe3",
        "IPY_MODEL_217e68a3c5d342bfb9b3c93e9e485eb0"
       ],
       "layout": "IPY_MODEL_9e3e264e84d64a16abe791f029236f48"
      }
     },
     "7339248a6804481f846473110722d360": {
      "model_module": "@jupyter-widgets/controls",
      "model_module_version": "1.5.0",
      "model_name": "HTMLModel",
      "state": {
       "layout": "IPY_MODEL_1ad5eef895464a6e93e9918da74cc9f6",
       "style": "IPY_MODEL_39f3f87bedc44a3ea655c3ea1dc34cf5",
       "value": "<i>test test test test test test test test test test test test test test test test test test test test test test test test </i>"
      }
     },
     "733fa4fbdfd24ba68168a5435a883c0d": {
      "model_module": "@jupyter-widgets/controls",
      "model_module_version": "1.5.0",
      "model_name": "HTMLModel",
      "state": {
       "layout": "IPY_MODEL_1d62919eb1e3452f891d94f268b11e05",
       "style": "IPY_MODEL_42ebfb50ebf646ddb303d8bdd376d7d3",
       "value": "<i>test test test test test test test test test test test test test test test test test test test test test test test test </i>"
      }
     },
     "734c78a1059b454f832aa044429f2391": {
      "model_module": "@jupyter-widgets/controls",
      "model_module_version": "1.5.0",
      "model_name": "IntProgressModel",
      "state": {
       "layout": "IPY_MODEL_4f11e69f6b50497387c0ac3bd09b6768",
       "style": "IPY_MODEL_ed0aa0b590574913a354ff43e79f2d8c",
       "value": 30
      }
     },
     "7354565ea74b489abff0059054742265": {
      "model_module": "@jupyter-widgets/base",
      "model_module_version": "1.2.0",
      "model_name": "LayoutModel",
      "state": {
       "width": "60px"
      }
     },
     "737305beef4246c781b49e5d04dcd2d3": {
      "model_module": "@jupyter-widgets/base",
      "model_module_version": "1.2.0",
      "model_name": "LayoutModel",
      "state": {
       "border": "3px solid white",
       "flex": "1 1 0%",
       "margin": "10px",
       "min_width": "400px",
       "overflow": "visible",
       "padding": "10px",
       "width": "auto"
      }
     },
     "73821b06a69e4993b3db468a7f6aa38c": {
      "model_module": "@jupyter-widgets/base",
      "model_module_version": "1.2.0",
      "model_name": "LayoutModel",
      "state": {}
     },
     "739ddfb28f9e403cb4153bf1644663d1": {
      "model_module": "@jupyter-widgets/controls",
      "model_module_version": "1.5.0",
      "model_name": "ProgressStyleModel",
      "state": {
       "description_width": ""
      }
     },
     "73bef90a8ec446c0af933de8071ee6b8": {
      "model_module": "@jupyter-widgets/controls",
      "model_module_version": "1.5.0",
      "model_name": "IntProgressModel",
      "state": {
       "layout": "IPY_MODEL_05f5cc01f4e0430ca7eae122b9be29f2",
       "style": "IPY_MODEL_81d10941099f41a4b582306c39d0d6b0",
       "value": 30
      }
     },
     "73c02a668f7f4deaaf787b2051d7e7d6": {
      "model_module": "@jupyter-widgets/controls",
      "model_module_version": "1.5.0",
      "model_name": "LabelModel",
      "state": {
       "layout": "IPY_MODEL_6cb76453ce3147d081e2b5f7003fecc8",
       "style": "IPY_MODEL_5bc0f219f1f54f0688c8371ee69e0c29",
       "value": "   objective"
      }
     },
     "73c582df8aa34128a91a36f26e44186f": {
      "model_module": "@jupyter-widgets/controls",
      "model_module_version": "1.5.0",
      "model_name": "ButtonStyleModel",
      "state": {}
     },
     "73e9bba925304b709f2d1561b2879f33": {
      "model_module": "@jupyter-widgets/base",
      "model_module_version": "1.2.0",
      "model_name": "LayoutModel",
      "state": {}
     },
     "74037579e6f34cebb27c3eee10061157": {
      "model_module": "@jupyter-widgets/controls",
      "model_module_version": "1.5.0",
      "model_name": "ButtonModel",
      "state": {
       "layout": "IPY_MODEL_fb9a62f9b6dc4b08aca8c61e6e347e5b",
       "style": "IPY_MODEL_052b2f7125834179bf81768a4ee789d6"
      }
     },
     "7403a46c2eb64b3f9194154977f20f4d": {
      "model_module": "@jupyter-widgets/base",
      "model_module_version": "1.2.0",
      "model_name": "LayoutModel",
      "state": {
       "height": "32px",
       "overflow": "visible",
       "width": "100%"
      }
     },
     "741a269d34934766a6b9789199d1cb4d": {
      "model_module": "@jupyter-widgets/controls",
      "model_module_version": "1.5.0",
      "model_name": "HBoxModel",
      "state": {
       "children": [
        "IPY_MODEL_f90cfd78f1da44c785e8594d1e7308bd",
        "IPY_MODEL_1c0ef6ca2f1b42f586754ef9198ed09d",
        "IPY_MODEL_b5e91111ca8b475fae25a662784607a5",
        "IPY_MODEL_655ef601517147c2aeeac77bd03d8c07"
       ],
       "layout": "IPY_MODEL_f86cc6a731e84504bece81fd0678deb3"
      }
     },
     "7472707b8b69436c9367a301bd2fb761": {
      "model_module": "@jupyter-widgets/base",
      "model_module_version": "1.2.0",
      "model_name": "LayoutModel",
      "state": {
       "height": "32px",
       "overflow": "visible",
       "width": "100%"
      }
     },
     "7493e0b1642747a2ac56b4bd133d4ff2": {
      "model_module": "@jupyter-widgets/base",
      "model_module_version": "1.2.0",
      "model_name": "LayoutModel",
      "state": {}
     },
     "74a01413ad3f4591bb59483feb65ee42": {
      "model_module": "@jupyter-widgets/controls",
      "model_module_version": "1.5.0",
      "model_name": "ButtonModel",
      "state": {
       "layout": "IPY_MODEL_cdaba90e44a04b4bb9c3157a57bd8558",
       "style": "IPY_MODEL_461a39a1b9884ab989a15f12a9c5b40c"
      }
     },
     "74c60c8dbaef4335bdee1cb990e8db74": {
      "model_module": "@jupyter-widgets/controls",
      "model_module_version": "1.5.0",
      "model_name": "HBoxModel",
      "state": {
       "children": [
        "IPY_MODEL_ce3d9b0af1564aca9022fd1925d6c070",
        "IPY_MODEL_20811ec2bd1f4441bd299a22e69b943a",
        "IPY_MODEL_e322473c205347fd8fe6b71b9f8b8ba6",
        "IPY_MODEL_ef2d72171e6949b49ba8d01506427adb"
       ],
       "layout": "IPY_MODEL_fcb255930a894df18d655a88449c384b"
      }
     },
     "74dab67d2976401e827992e1db1a86f7": {
      "model_module": "@jupyter-widgets/controls",
      "model_module_version": "1.5.0",
      "model_name": "ButtonModel",
      "state": {
       "layout": "IPY_MODEL_1485abe839cf40a59fae317020d0658a",
       "style": "IPY_MODEL_270e45584aef473e8cb3be1a093370e3"
      }
     },
     "75174ca4b53d4beea5a91aa699101ef9": {
      "model_module": "@jupyter-widgets/controls",
      "model_module_version": "1.5.0",
      "model_name": "ButtonModel",
      "state": {
       "description": "EDIT",
       "layout": "IPY_MODEL_00408af5a034467ca459d6b4ac0a8609",
       "style": "IPY_MODEL_a4f2fbdc257c4d279e7e0abdfdbee6bb"
      }
     },
     "753d0863cb89489da1df6d5bf0c443c0": {
      "model_module": "@jupyter-widgets/controls",
      "model_module_version": "1.5.0",
      "model_name": "HTMLModel",
      "state": {
       "layout": "IPY_MODEL_dea55114031b4807a61b2e69b8b1ea80",
       "style": "IPY_MODEL_f8e591454fc8448bb07a5ef4a2aa0e5f",
       "value": "<i>test test test test test test test test test test test test test test test test test test test test test test test test </i>"
      }
     },
     "7549a95b1aa84a79b9472f483ae17466": {
      "model_module": "@jupyter-widgets/controls",
      "model_module_version": "1.5.0",
      "model_name": "ButtonStyleModel",
      "state": {}
     },
     "755682e63ae8449faf3b8e0f7e621b19": {
      "model_module": "@jupyter-widgets/controls",
      "model_module_version": "1.5.0",
      "model_name": "DescriptionStyleModel",
      "state": {
       "description_width": ""
      }
     },
     "75573f4e4e14480e9f815ca65468306d": {
      "model_module": "@jupyter-widgets/base",
      "model_module_version": "1.2.0",
      "model_name": "LayoutModel",
      "state": {}
     },
     "75c783e1190f45bba94c7195c3abe535": {
      "model_module": "@jupyter-widgets/controls",
      "model_module_version": "1.5.0",
      "model_name": "ProgressStyleModel",
      "state": {
       "description_width": ""
      }
     },
     "75daebb1733b4a6999399b3e385b22ad": {
      "model_module": "@jupyter-widgets/base",
      "model_module_version": "1.2.0",
      "model_name": "LayoutModel",
      "state": {
       "width": "60px"
      }
     },
     "75fd4db0995d42d1a1cacb168b664960": {
      "model_module": "@jupyter-widgets/controls",
      "model_module_version": "1.5.0",
      "model_name": "ButtonStyleModel",
      "state": {}
     },
     "76263a61d3654c0b8ad4482eb54f4acc": {
      "model_module": "@jupyter-widgets/base",
      "model_module_version": "1.2.0",
      "model_name": "LayoutModel",
      "state": {
       "order": "-1",
       "overflow": "visible",
       "padding": "1px",
       "width": "0px"
      }
     },
     "762a902795884d71a73c967c898de788": {
      "model_module": "@jupyter-widgets/base",
      "model_module_version": "1.2.0",
      "model_name": "LayoutModel",
      "state": {
       "height": "32px",
       "order": "-2",
       "width": "32px"
      }
     },
     "763e5c571aa94e5f8cb12d140a8a8fe6": {
      "model_module": "@jupyter-widgets/controls",
      "model_module_version": "1.5.0",
      "model_name": "ButtonStyleModel",
      "state": {}
     },
     "763ec0b161f54dc3b052a4f4ced0f170": {
      "model_module": "@jupyter-widgets/base",
      "model_module_version": "1.2.0",
      "model_name": "LayoutModel",
      "state": {}
     },
     "76476b2fe53546b3a6dc7946f69c5403": {
      "model_module": "@jupyter-widgets/controls",
      "model_module_version": "1.5.0",
      "model_name": "IntProgressModel",
      "state": {
       "layout": "IPY_MODEL_5c0c6866567a4a649df4f5983d5b038e",
       "style": "IPY_MODEL_f37f48cc269543babae9b31f811d0b5f",
       "value": 30
      }
     },
     "766ae883cb26429fa9a4c93b3e037dbc": {
      "model_module": "@jupyter-widgets/controls",
      "model_module_version": "1.5.0",
      "model_name": "LabelModel",
      "state": {
       "layout": "IPY_MODEL_7c039651cbbd415db2c387ec40aa09a6",
       "style": "IPY_MODEL_9a8a3cbf3242478093616a953a574328",
       "value": "   objective"
      }
     },
     "766e5b4f7ff34f96b965480520747fc3": {
      "model_module": "@jupyter-widgets/controls",
      "model_module_version": "1.5.0",
      "model_name": "IntProgressModel",
      "state": {
       "layout": "IPY_MODEL_a45c63f71f0240049402e876ae252cb3",
       "style": "IPY_MODEL_246b9d2329da4a7aba073d808e2a2c12",
       "value": 30
      }
     },
     "767afee5e5c94ca0a7658f60e7e0606b": {
      "model_module": "@jupyter-widgets/controls",
      "model_module_version": "1.5.0",
      "model_name": "ButtonStyleModel",
      "state": {}
     },
     "7692973fd61a4998ace8cc290d9bbe95": {
      "model_module": "@jupyter-widgets/base",
      "model_module_version": "1.2.0",
      "model_name": "LayoutModel",
      "state": {}
     },
     "769339b148b641c185a567f7a96b3dd3": {
      "model_module": "@jupyter-widgets/controls",
      "model_module_version": "1.5.0",
      "model_name": "ButtonModel",
      "state": {
       "description": "EDIT",
       "layout": "IPY_MODEL_e2023d66fa0845b7886f271fd31e421b",
       "style": "IPY_MODEL_c5f929a087e1477ca4cffa0beab6b17c"
      }
     },
     "76a73f2b4c23428eaab552e47f240a70": {
      "model_module": "@jupyter-widgets/controls",
      "model_module_version": "1.5.0",
      "model_name": "ButtonStyleModel",
      "state": {}
     },
     "76bafcc7c7a14b1989fcc08a4236559e": {
      "model_module": "@jupyter-widgets/controls",
      "model_module_version": "1.5.0",
      "model_name": "VBoxModel",
      "state": {
       "children": [
        "IPY_MODEL_9821c234e5e64abf9ecf3de961791b86",
        "IPY_MODEL_dc9e145b3b384ae3be912f32ffa39138",
        "IPY_MODEL_79f1825024054114bd384f150858a234"
       ],
       "layout": "IPY_MODEL_7493e0b1642747a2ac56b4bd133d4ff2"
      }
     },
     "76bb6e4cb4254144abc595ba8add3c95": {
      "model_module": "@jupyter-widgets/controls",
      "model_module_version": "1.5.0",
      "model_name": "DescriptionStyleModel",
      "state": {
       "description_width": ""
      }
     },
     "76c71fa3277944c99dda7d2a121d3ede": {
      "model_module": "@jupyter-widgets/base",
      "model_module_version": "1.2.0",
      "model_name": "LayoutModel",
      "state": {
       "height": "32px",
       "overflow": "visible",
       "width": "100%"
      }
     },
     "76c8a0201e394480bbc48fc0e9ebcad7": {
      "model_module": "@jupyter-widgets/base",
      "model_module_version": "1.2.0",
      "model_name": "LayoutModel",
      "state": {
       "display": "flex",
       "flex_flow": "row wrap"
      }
     },
     "76d6922a8e774839b537d5170d9eb159": {
      "model_module": "@jupyter-widgets/controls",
      "model_module_version": "1.5.0",
      "model_name": "ButtonStyleModel",
      "state": {}
     },
     "76d967721fd74167800149f22e7cbb23": {
      "model_module": "@jupyter-widgets/controls",
      "model_module_version": "1.5.0",
      "model_name": "HBoxModel",
      "state": {
       "children": [
        "IPY_MODEL_74037579e6f34cebb27c3eee10061157",
        "IPY_MODEL_8d3a6b8c42c1402fa84f91dc3dfb56bc",
        "IPY_MODEL_0aa9a61cf0cd4aa8b8d9e6373e1eda6d",
        "IPY_MODEL_faeaa226dae4467e8d60df8ca574ab6d"
       ],
       "layout": "IPY_MODEL_1a8277cdbbee42eab2bf21e9319d433e"
      }
     },
     "76e490a2826c4da5ac9352cd85f9f94f": {
      "model_module": "@jupyter-widgets/controls",
      "model_module_version": "1.5.0",
      "model_name": "ProgressStyleModel",
      "state": {
       "description_width": ""
      }
     },
     "77071e97ffb742f481d6501f1e458bb3": {
      "model_module": "@jupyter-widgets/base",
      "model_module_version": "1.2.0",
      "model_name": "LayoutModel",
      "state": {
       "height": "32px",
       "order": "-2",
       "width": "32px"
      }
     },
     "770df35574ba4d5ab69772e973243975": {
      "model_module": "@jupyter-widgets/controls",
      "model_module_version": "1.5.0",
      "model_name": "ButtonModel",
      "state": {
       "description": "EDIT",
       "layout": "IPY_MODEL_2e26fd3f871b414cbc415c78b6502fbd",
       "style": "IPY_MODEL_ad6f9226d1bd453e9da5bc62a7325955"
      }
     },
     "773cf399faea4b98a0303ba84656a6b5": {
      "model_module": "@jupyter-widgets/controls",
      "model_module_version": "1.5.0",
      "model_name": "DescriptionStyleModel",
      "state": {
       "description_width": ""
      }
     },
     "7745ed8f3b31449eb2c942e1ad9c140b": {
      "model_module": "@jupyter-widgets/controls",
      "model_module_version": "1.5.0",
      "model_name": "IntProgressModel",
      "state": {
       "layout": "IPY_MODEL_5c446d2445fd48f4bd23400375aa5bbc",
       "style": "IPY_MODEL_5c423fc480f9444db55225c5ded9c94b",
       "value": 30
      }
     },
     "77505dd3752247eea669322f47197def": {
      "model_module": "@jupyter-widgets/base",
      "model_module_version": "1.2.0",
      "model_name": "LayoutModel",
      "state": {
       "width": "60px"
      }
     },
     "7754820bccb64526848f426dc2a02669": {
      "model_module": "@jupyter-widgets/controls",
      "model_module_version": "1.5.0",
      "model_name": "DescriptionStyleModel",
      "state": {
       "description_width": ""
      }
     },
     "776b3f18b1fa42e49ce2745e385004a9": {
      "model_module": "@jupyter-widgets/controls",
      "model_module_version": "1.5.0",
      "model_name": "ButtonModel",
      "state": {
       "description": "EDIT",
       "layout": "IPY_MODEL_f32290f55ba54e29bf7257b9c5a9097a",
       "style": "IPY_MODEL_cb108b8848b74b9fb8dad764f7c2b05a"
      }
     },
     "777ff816d7d144d2b3542f15ea428328": {
      "model_module": "@jupyter-widgets/controls",
      "model_module_version": "1.5.0",
      "model_name": "ProgressStyleModel",
      "state": {
       "description_width": ""
      }
     },
     "77809ff2589440bfb5c55db19afb4963": {
      "model_module": "@jupyter-widgets/base",
      "model_module_version": "1.2.0",
      "model_name": "LayoutModel",
      "state": {
       "order": "-1",
       "overflow": "visible",
       "padding": "1px",
       "width": "0px"
      }
     },
     "77b86d369a07489eab0c6d25bfc2f531": {
      "model_module": "@jupyter-widgets/base",
      "model_module_version": "1.2.0",
      "model_name": "LayoutModel",
      "state": {
       "height": "32px",
       "overflow": "visible",
       "width": "100%"
      }
     },
     "77c372fedcb740efb1ae282cc36b31c0": {
      "model_module": "@jupyter-widgets/controls",
      "model_module_version": "1.5.0",
      "model_name": "DescriptionStyleModel",
      "state": {
       "description_width": ""
      }
     },
     "77e1e4cae6e34277b98d65cb130d83c9": {
      "model_module": "@jupyter-widgets/controls",
      "model_module_version": "1.5.0",
      "model_name": "LabelModel",
      "state": {
       "layout": "IPY_MODEL_c0b759cd8cfa43c59ea27dbd36ccb4ea",
       "style": "IPY_MODEL_0353077eb0bf46b8966beb2d70058de7",
       "value": "   objective"
      }
     },
     "77edaea93764481c8e785b447499cc2e": {
      "model_module": "@jupyter-widgets/controls",
      "model_module_version": "1.5.0",
      "model_name": "HBoxModel",
      "state": {
       "children": [
        "IPY_MODEL_eba97e8d7fb143d0973143e0f8d3a612",
        "IPY_MODEL_b6ea276428b945a9b1306c1092f12328",
        "IPY_MODEL_270d00fa748a47c5aa723d050ada5a6f",
        "IPY_MODEL_3d1db439eb0e49a69f3f9c1a8d0a487c"
       ],
       "layout": "IPY_MODEL_2b76c813100043f5a356802afef9c34f"
      }
     },
     "780b13e05e7642c6b4659c7ef8de6baa": {
      "model_module": "@jupyter-widgets/base",
      "model_module_version": "1.2.0",
      "model_name": "LayoutModel",
      "state": {
       "height": "32px",
       "order": "-2",
       "width": "32px"
      }
     },
     "7821d787d71b45e5a8c4921ef33fe790": {
      "model_module": "@jupyter-widgets/base",
      "model_module_version": "1.2.0",
      "model_name": "LayoutModel",
      "state": {
       "width": "186px"
      }
     },
     "783246bcaf154977a593a9daf1f7248f": {
      "model_module": "@jupyter-widgets/base",
      "model_module_version": "1.2.0",
      "model_name": "LayoutModel",
      "state": {
       "order": "-1",
       "overflow": "visible",
       "padding": "1px",
       "width": "0px"
      }
     },
     "7835f10b46e943afa9b6fc9417bf1d28": {
      "model_module": "@jupyter-widgets/controls",
      "model_module_version": "1.5.0",
      "model_name": "ProgressStyleModel",
      "state": {
       "description_width": ""
      }
     },
     "7850c1fee0e948d1b311d8c950af4148": {
      "model_module": "@jupyter-widgets/controls",
      "model_module_version": "1.5.0",
      "model_name": "ButtonStyleModel",
      "state": {}
     },
     "787c98015f564a27b2f02e476bfd3b50": {
      "model_module": "@jupyter-widgets/base",
      "model_module_version": "1.2.0",
      "model_name": "LayoutModel",
      "state": {
       "height": "32px",
       "overflow": "visible",
       "width": "100%"
      }
     },
     "78a517eeb6ea4536be7458cb3b860d3a": {
      "model_module": "@jupyter-widgets/base",
      "model_module_version": "1.2.0",
      "model_name": "LayoutModel",
      "state": {
       "width": "60px"
      }
     },
     "78b23195d5c04d4cb88838e8648af652": {
      "model_module": "@jupyter-widgets/base",
      "model_module_version": "1.2.0",
      "model_name": "LayoutModel",
      "state": {
       "overflow": "visible",
       "width": "100%"
      }
     },
     "78b770f805cc4d4aac6ccad439e6ddcd": {
      "model_module": "@jupyter-widgets/base",
      "model_module_version": "1.2.0",
      "model_name": "LayoutModel",
      "state": {
       "height": "32px",
       "order": "-2",
       "width": "32px"
      }
     },
     "78bfaefd4b3a4789a48c4b939c1fc9fa": {
      "model_module": "@jupyter-widgets/base",
      "model_module_version": "1.2.0",
      "model_name": "LayoutModel",
      "state": {
       "overflow": "visible",
       "width": "100%"
      }
     },
     "78f08fb8de3a4de9a5eda0023e134a18": {
      "model_module": "@jupyter-widgets/controls",
      "model_module_version": "1.5.0",
      "model_name": "ButtonStyleModel",
      "state": {}
     },
     "790c5221587c442a821ac7854de44631": {
      "model_module": "@jupyter-widgets/controls",
      "model_module_version": "1.5.0",
      "model_name": "LabelModel",
      "state": {
       "layout": "IPY_MODEL_fa714899b4bd499e849d5f061f474625",
       "style": "IPY_MODEL_d99e325fae39448a94c64d3f1109e32f",
       "value": "   objective"
      }
     },
     "7913f153b0874598aa05c3c620fa7a6f": {
      "model_module": "@jupyter-widgets/base",
      "model_module_version": "1.2.0",
      "model_name": "LayoutModel",
      "state": {
       "order": "-1",
       "overflow": "visible",
       "padding": "1px",
       "width": "0px"
      }
     },
     "79215f04651a498bb4e5e6bd767093f1": {
      "model_module": "@jupyter-widgets/controls",
      "model_module_version": "1.5.0",
      "model_name": "ButtonModel",
      "state": {
       "description": "EDIT",
       "layout": "IPY_MODEL_d68f664f0ad1453eb99f4e0b8a44a12a",
       "style": "IPY_MODEL_1e084a12a7a54ce9a0193b0f622e9bf1"
      }
     },
     "7922605223764db89fb0b6893fe2c7d3": {
      "model_module": "@jupyter-widgets/controls",
      "model_module_version": "1.5.0",
      "model_name": "ButtonModel",
      "state": {
       "description": "EDIT",
       "layout": "IPY_MODEL_c3c9aa13b5d2426aa43bcae21bb503a8",
       "style": "IPY_MODEL_3317c15c1f6945a3a6a5d73481899823"
      }
     },
     "79227fadd4884e528e5bd06f05ac2263": {
      "model_module": "@jupyter-widgets/base",
      "model_module_version": "1.2.0",
      "model_name": "LayoutModel",
      "state": {}
     },
     "792b807888bd4179a60577c528bbfe30": {
      "model_module": "@jupyter-widgets/controls",
      "model_module_version": "1.5.0",
      "model_name": "DescriptionStyleModel",
      "state": {
       "description_width": ""
      }
     },
     "79486c066ce448c9b5240af2926a3e95": {
      "model_module": "@jupyter-widgets/controls",
      "model_module_version": "1.5.0",
      "model_name": "LabelModel",
      "state": {
       "layout": "IPY_MODEL_d8507813710340f787da99fbe90f2a5b",
       "style": "IPY_MODEL_6aea3e047e0e42b9a2063dd90c834fd9",
       "value": "   objective"
      }
     },
     "79567253389d45f1aaa38a02427997fe": {
      "model_module": "@jupyter-widgets/base",
      "model_module_version": "1.2.0",
      "model_name": "LayoutModel",
      "state": {
       "height": "32px",
       "overflow": "visible",
       "width": "100%"
      }
     },
     "7963113d4ad7422fb1c62a8577839b1f": {
      "model_module": "@jupyter-widgets/controls",
      "model_module_version": "1.5.0",
      "model_name": "ButtonModel",
      "state": {
       "layout": "IPY_MODEL_939e1ccdae2042549ed81de3d21641d4",
       "style": "IPY_MODEL_6bfb3f37401148619158af1fb1177800"
      }
     },
     "799a0403fd1a4e748fd0ff6215097ef6": {
      "model_module": "@jupyter-widgets/controls",
      "model_module_version": "1.5.0",
      "model_name": "DescriptionStyleModel",
      "state": {
       "description_width": ""
      }
     },
     "79ed894b9af440a09e2242d1b8903a19": {
      "model_module": "@jupyter-widgets/controls",
      "model_module_version": "1.5.0",
      "model_name": "DescriptionStyleModel",
      "state": {
       "description_width": ""
      }
     },
     "79f1825024054114bd384f150858a234": {
      "model_module": "@jupyter-widgets/controls",
      "model_module_version": "1.5.0",
      "model_name": "DropdownModel",
      "state": {
       "_options_labels": [
        "Any"
       ],
       "disabled": true,
       "index": 0,
       "layout": "IPY_MODEL_56b87d7d00c54e96938caab1e6aa41f1",
       "style": "IPY_MODEL_98bc7c9d659844fb99e4f50ffa1c384c"
      }
     },
     "79fe8e4f536b4f5b91bb6fd9e27aa680": {
      "model_module": "@jupyter-widgets/controls",
      "model_module_version": "1.5.0",
      "model_name": "LabelModel",
      "state": {
       "layout": "IPY_MODEL_19094401cb7d44c2bda6863da04c5f3e",
       "style": "IPY_MODEL_531537f003c54fb2a27f860099cb2589",
       "value": "   objective"
      }
     },
     "7a14ec50d85f4cef8ea95ee5003183f4": {
      "model_module": "@jupyter-widgets/base",
      "model_module_version": "1.2.0",
      "model_name": "LayoutModel",
      "state": {
       "order": "-1",
       "overflow": "visible",
       "padding": "1px",
       "width": "0px"
      }
     },
     "7a2d003cfc6c4b089825ad1e8cc063a7": {
      "model_module": "@jupyter-widgets/controls",
      "model_module_version": "1.5.0",
      "model_name": "ProgressStyleModel",
      "state": {
       "description_width": ""
      }
     },
     "7a3c0559796a4a17800a5b18e7e9ce52": {
      "model_module": "@jupyter-widgets/controls",
      "model_module_version": "1.5.0",
      "model_name": "ButtonModel",
      "state": {
       "description": "EDIT",
       "layout": "IPY_MODEL_c810765a5c58405ba4abcea1d97dce60",
       "style": "IPY_MODEL_838a10b392214303b3637e486872ccd6"
      }
     },
     "7a57b22f9bef44d4b3df73f510e50e9d": {
      "model_module": "@jupyter-widgets/base",
      "model_module_version": "1.2.0",
      "model_name": "LayoutModel",
      "state": {
       "border": "3px solid white",
       "flex": "1 1 0%",
       "margin": "10px",
       "min_width": "400px",
       "overflow": "visible",
       "padding": "10px",
       "width": "auto"
      }
     },
     "7a70f9d0e93a4ad8878c2c6209a9ab95": {
      "model_module": "@jupyter-widgets/controls",
      "model_module_version": "1.5.0",
      "model_name": "ProgressStyleModel",
      "state": {
       "description_width": ""
      }
     },
     "7a75bda18a0240349a98de8f25c50cf7": {
      "model_module": "@jupyter-widgets/controls",
      "model_module_version": "1.5.0",
      "model_name": "ButtonStyleModel",
      "state": {}
     },
     "7a7ba250311c4f6c8a36621ae3291c84": {
      "model_module": "@jupyter-widgets/base",
      "model_module_version": "1.2.0",
      "model_name": "LayoutModel",
      "state": {
       "height": "32px",
       "order": "-2",
       "width": "32px"
      }
     },
     "7a998962b8544a1b9baceba7a7bd6683": {
      "model_module": "@jupyter-widgets/base",
      "model_module_version": "1.2.0",
      "model_name": "LayoutModel",
      "state": {}
     },
     "7ac50edb2e6c4aa680906bf16ffc92a9": {
      "model_module": "@jupyter-widgets/base",
      "model_module_version": "1.2.0",
      "model_name": "LayoutModel",
      "state": {
       "align_items": "stretch",
       "display": "flex",
       "flex_flow": "row wrap"
      }
     },
     "7ac8a10e879a4be19c98a6d5dc7c80f3": {
      "model_module": "@jupyter-widgets/controls",
      "model_module_version": "1.5.0",
      "model_name": "ButtonModel",
      "state": {
       "layout": "IPY_MODEL_bdec16a8603f482d87c89b05542cc1a7",
       "style": "IPY_MODEL_b4f4b62c18c84f44b22b944b2782d488"
      }
     },
     "7ad287d100b641f185f1c48dadf73247": {
      "model_module": "@jupyter-widgets/base",
      "model_module_version": "1.2.0",
      "model_name": "LayoutModel",
      "state": {
       "order": "-1",
       "overflow": "visible",
       "padding": "1px",
       "width": "0px"
      }
     },
     "7b00059d420c4a6795592cb7289b19cf": {
      "model_module": "@jupyter-widgets/base",
      "model_module_version": "1.2.0",
      "model_name": "LayoutModel",
      "state": {
       "height": "32px",
       "overflow": "visible",
       "width": "100%"
      }
     },
     "7b03b8634a7845d8bdeb9c5ea1ab4a85": {
      "model_module": "@jupyter-widgets/controls",
      "model_module_version": "1.5.0",
      "model_name": "ButtonStyleModel",
      "state": {}
     },
     "7b234fe6aa77448fb3f6bca7f125d1b4": {
      "model_module": "@jupyter-widgets/controls",
      "model_module_version": "1.5.0",
      "model_name": "ButtonStyleModel",
      "state": {}
     },
     "7b316c0e5c1a416283b5b895a6446695": {
      "model_module": "@jupyter-widgets/controls",
      "model_module_version": "1.5.0",
      "model_name": "LabelModel",
      "state": {
       "layout": "IPY_MODEL_dde76fd442f640c685907d27809d3efa",
       "style": "IPY_MODEL_5fa0d17423f1466caf0e255a789cc75c",
       "value": "   objective"
      }
     },
     "7b48b621ec794915aa2472411a4aebb0": {
      "model_module": "@jupyter-widgets/base",
      "model_module_version": "1.2.0",
      "model_name": "LayoutModel",
      "state": {
       "width": "60px"
      }
     },
     "7b553238c4164e36b62a1dc359056098": {
      "model_module": "@jupyter-widgets/base",
      "model_module_version": "1.2.0",
      "model_name": "LayoutModel",
      "state": {
       "order": "-1",
       "overflow": "visible",
       "padding": "1px",
       "width": "0px"
      }
     },
     "7b8efd41ffaa42ff88a21fc4632d7873": {
      "model_module": "@jupyter-widgets/base",
      "model_module_version": "1.2.0",
      "model_name": "LayoutModel",
      "state": {
       "height": "32px",
       "overflow": "visible",
       "width": "100%"
      }
     },
     "7bace59f880f42fda795f53751b8ee60": {
      "model_module": "@jupyter-widgets/base",
      "model_module_version": "1.2.0",
      "model_name": "LayoutModel",
      "state": {}
     },
     "7bb2072b3059422fba25342ae9462388": {
      "model_module": "@jupyter-widgets/controls",
      "model_module_version": "1.5.0",
      "model_name": "DescriptionStyleModel",
      "state": {
       "description_width": ""
      }
     },
     "7bc5aa2511904638bd7d57e1e2a5935b": {
      "model_module": "@jupyter-widgets/base",
      "model_module_version": "1.2.0",
      "model_name": "LayoutModel",
      "state": {
       "overflow": "visible",
       "width": "100%"
      }
     },
     "7bcbabe22e824bb6bd4313836a5e07a2": {
      "model_module": "@jupyter-widgets/controls",
      "model_module_version": "1.5.0",
      "model_name": "ProgressStyleModel",
      "state": {
       "description_width": ""
      }
     },
     "7bec8616976f434eaf31b7f0ff822333": {
      "model_module": "@jupyter-widgets/controls",
      "model_module_version": "1.5.0",
      "model_name": "ButtonStyleModel",
      "state": {}
     },
     "7bf30cb142f848fb8aeb3e99f47c7755": {
      "model_module": "@jupyter-widgets/base",
      "model_module_version": "1.2.0",
      "model_name": "LayoutModel",
      "state": {
       "overflow": "visible",
       "width": "100%"
      }
     },
     "7bf3ad846b8a4bcc9102c451490174df": {
      "model_module": "@jupyter-widgets/controls",
      "model_module_version": "1.5.0",
      "model_name": "DescriptionStyleModel",
      "state": {
       "description_width": ""
      }
     },
     "7c039651cbbd415db2c387ec40aa09a6": {
      "model_module": "@jupyter-widgets/base",
      "model_module_version": "1.2.0",
      "model_name": "LayoutModel",
      "state": {
       "order": "-1",
       "overflow": "visible",
       "padding": "1px",
       "width": "0px"
      }
     },
     "7c174bc40ec34583ad48abc747a30124": {
      "model_module": "@jupyter-widgets/controls",
      "model_module_version": "1.5.0",
      "model_name": "ButtonStyleModel",
      "state": {}
     },
     "7c185a3837874c3ca434b7e6f70be177": {
      "model_module": "@jupyter-widgets/base",
      "model_module_version": "1.2.0",
      "model_name": "LayoutModel",
      "state": {}
     },
     "7c51843061004c6194026a13fcc3741c": {
      "model_module": "@jupyter-widgets/controls",
      "model_module_version": "1.5.0",
      "model_name": "ButtonModel",
      "state": {
       "layout": "IPY_MODEL_7f51d821ce164fd4854d82dfa3d25430",
       "style": "IPY_MODEL_53fc23e2e9d548979c06d9ce45fd318e"
      }
     },
     "7c57b19586d0424da1319b3c604ecc48": {
      "model_module": "@jupyter-widgets/controls",
      "model_module_version": "1.5.0",
      "model_name": "VBoxModel",
      "state": {
       "children": [
        "IPY_MODEL_d6c55406a44b49909dca568f0e809e9d",
        "IPY_MODEL_20b7a9e3d1f148059fdf35cac86f7729",
        "IPY_MODEL_0572db8bfc0d4276aa34aeb56db46add",
        "IPY_MODEL_4db2c36f5c9d4a62a8044a1fc34480b6",
        "IPY_MODEL_035824df95394c3090dea435f15e2b9c",
        "IPY_MODEL_d949144e3a134cdb8174eb1a3f966a66"
       ],
       "layout": "IPY_MODEL_950cc19258834c66965a06a3d8ef237f"
      }
     },
     "7c6ed64caef949429760b50b0e77a1c7": {
      "model_module": "@jupyter-widgets/base",
      "model_module_version": "1.2.0",
      "model_name": "LayoutModel",
      "state": {
       "height": "32px",
       "order": "-2",
       "width": "32px"
      }
     },
     "7c7af3fe8dd2451ca2f9c85277c14545": {
      "model_module": "@jupyter-widgets/base",
      "model_module_version": "1.2.0",
      "model_name": "LayoutModel",
      "state": {
       "order": "-1",
       "overflow": "visible",
       "padding": "1px",
       "width": "0px"
      }
     },
     "7c9df36701494a19bc5c947f14dbc1ea": {
      "model_module": "@jupyter-widgets/controls",
      "model_module_version": "1.5.0",
      "model_name": "IntProgressModel",
      "state": {
       "layout": "IPY_MODEL_23b8cb4d05214183a3b977541bc3ff39",
       "style": "IPY_MODEL_4343c4e95ee040f09f7705c2a0ef34b9",
       "value": 30
      }
     },
     "7cc4786da100439eb341dc365a4a104b": {
      "model_module": "@jupyter-widgets/controls",
      "model_module_version": "1.5.0",
      "model_name": "LabelModel",
      "state": {
       "layout": "IPY_MODEL_13521b5e00f84dc4a8195f00e5177494",
       "style": "IPY_MODEL_534e9ba9ba374b2a957b804c2a8a4289",
       "value": "   objective"
      }
     },
     "7cd0cebfaa614878b2dda221be0f3473": {
      "model_module": "@jupyter-widgets/controls",
      "model_module_version": "1.5.0",
      "model_name": "ButtonStyleModel",
      "state": {}
     },
     "7ce0fbbdd31048768bce790dc1e08339": {
      "model_module": "@jupyter-widgets/controls",
      "model_module_version": "1.5.0",
      "model_name": "IntProgressModel",
      "state": {
       "layout": "IPY_MODEL_4cac215ecb7e42ab80a2c268a1d947c9",
       "style": "IPY_MODEL_94f601978cc24876bb6b6f441415b51a",
       "value": 30
      }
     },
     "7ceea62ae34a4c4ca5ed38858ea963a9": {
      "model_module": "@jupyter-widgets/base",
      "model_module_version": "1.2.0",
      "model_name": "LayoutModel",
      "state": {
       "width": "60px"
      }
     },
     "7d24c0b1df014f9080654f709ce6edb4": {
      "model_module": "@jupyter-widgets/base",
      "model_module_version": "1.2.0",
      "model_name": "LayoutModel",
      "state": {
       "height": "32px",
       "overflow": "visible",
       "width": "100%"
      }
     },
     "7d3648baf15b4d6482656933d232641d": {
      "model_module": "@jupyter-widgets/controls",
      "model_module_version": "1.5.0",
      "model_name": "IntProgressModel",
      "state": {
       "layout": "IPY_MODEL_541a3ebf25384ef3912e95d527e6679a",
       "style": "IPY_MODEL_dc04c0ebc0564aa684840460c174855c",
       "value": 30
      }
     },
     "7d4a2b301bf34b5ebf933b2d5b57dc72": {
      "model_module": "@jupyter-widgets/base",
      "model_module_version": "1.2.0",
      "model_name": "LayoutModel",
      "state": {
       "height": "32px",
       "order": "-2",
       "width": "32px"
      }
     },
     "7d626793213149a79fdf3f4f5a6fe6d0": {
      "model_module": "@jupyter-widgets/base",
      "model_module_version": "1.2.0",
      "model_name": "LayoutModel",
      "state": {
       "height": "32px",
       "order": "-2",
       "width": "32px"
      }
     },
     "7d88d3403d0449c4a16bd83fe44981ce": {
      "model_module": "@jupyter-widgets/controls",
      "model_module_version": "1.5.0",
      "model_name": "DescriptionStyleModel",
      "state": {
       "description_width": ""
      }
     },
     "7d986d82239d41178b36a8399a9da9ed": {
      "model_module": "@jupyter-widgets/base",
      "model_module_version": "1.2.0",
      "model_name": "LayoutModel",
      "state": {
       "height": "32px",
       "overflow": "visible",
       "width": "100%"
      }
     },
     "7deda00bd56c45388ff716aafc9ddac1": {
      "model_module": "@jupyter-widgets/base",
      "model_module_version": "1.2.0",
      "model_name": "LayoutModel",
      "state": {
       "height": "32px",
       "order": "-2",
       "width": "32px"
      }
     },
     "7dfc415c22e246fd92b9ca72b38d13e9": {
      "model_module": "@jupyter-widgets/controls",
      "model_module_version": "1.5.0",
      "model_name": "HBoxModel",
      "state": {
       "children": [
        "IPY_MODEL_bdd440a32d5f4dcc86480d2ba7a233b4",
        "IPY_MODEL_6b251b030eac46c7aff989e623cc0e58",
        "IPY_MODEL_b6f4e003d83246689dc893a789f28be0",
        "IPY_MODEL_549beafb25244531930f00410393de9c"
       ],
       "layout": "IPY_MODEL_82988ef506f04f2e93cd8ae19b21ccd8"
      }
     },
     "7e139d8ef1ff43d1a136427d8efaf5a7": {
      "model_module": "@jupyter-widgets/controls",
      "model_module_version": "1.5.0",
      "model_name": "ButtonStyleModel",
      "state": {}
     },
     "7e309d8e579c459d86c5522de9e6f566": {
      "model_module": "@jupyter-widgets/controls",
      "model_module_version": "1.5.0",
      "model_name": "HBoxModel",
      "state": {
       "children": [
        "IPY_MODEL_7f5bcee1caac40fb9c8fca7c3e9f9286",
        "IPY_MODEL_47460701b048488c9eeac2b925db3eba",
        "IPY_MODEL_dd363207f342492daf7a66fe2f82831b",
        "IPY_MODEL_8da278b99cd047b2a17cff784ed6f4f5"
       ],
       "layout": "IPY_MODEL_a54b88d7546a4a328d41546f2d47ee94"
      }
     },
     "7e3e096fb1774041bed0bb4259e7aa4b": {
      "model_module": "@jupyter-widgets/controls",
      "model_module_version": "1.5.0",
      "model_name": "DescriptionStyleModel",
      "state": {
       "description_width": ""
      }
     },
     "7e44c52d644b49b9b6b58a3ceffeb67d": {
      "model_module": "@jupyter-widgets/base",
      "model_module_version": "1.2.0",
      "model_name": "LayoutModel",
      "state": {
       "width": "60px"
      }
     },
     "7e50e6ba1a124167b4751ce9657521a2": {
      "model_module": "@jupyter-widgets/base",
      "model_module_version": "1.2.0",
      "model_name": "LayoutModel",
      "state": {
       "height": "32px",
       "overflow": "visible",
       "width": "100%"
      }
     },
     "7e53c60e160c4eec9b8e33bfea5dce78": {
      "model_module": "@jupyter-widgets/base",
      "model_module_version": "1.2.0",
      "model_name": "LayoutModel",
      "state": {}
     },
     "7e86ddc5013a4f60bcd632219849d281": {
      "model_module": "@jupyter-widgets/controls",
      "model_module_version": "1.5.0",
      "model_name": "LabelModel",
      "state": {
       "layout": "IPY_MODEL_26556c072c4d43e6ba6b360cabcf703e",
       "style": "IPY_MODEL_137ec257d52e4f8d843c6dfe945625f3",
       "value": "   objective"
      }
     },
     "7ec6a80f76dd43498151bf4ab9e7cd6a": {
      "model_module": "@jupyter-widgets/controls",
      "model_module_version": "1.5.0",
      "model_name": "ButtonStyleModel",
      "state": {}
     },
     "7ec9c33dca3d4ae6a363d4036c6d5bd0": {
      "model_module": "@jupyter-widgets/base",
      "model_module_version": "1.2.0",
      "model_name": "LayoutModel",
      "state": {
       "overflow": "visible",
       "width": "100%"
      }
     },
     "7ed1ed5ea0ac49d6aeeee3d57b1d629b": {
      "model_module": "@jupyter-widgets/controls",
      "model_module_version": "1.5.0",
      "model_name": "DescriptionStyleModel",
      "state": {
       "description_width": ""
      }
     },
     "7ed68fdae79c4e0c83a164ea600e0c8f": {
      "model_module": "@jupyter-widgets/controls",
      "model_module_version": "1.5.0",
      "model_name": "ButtonModel",
      "state": {
       "layout": "IPY_MODEL_8280d683abfe4f93bfcd40b44867bb28",
       "style": "IPY_MODEL_d0736997217940e99ca47e8bea5accac"
      }
     },
     "7ee54f71ba4e4acaae392ecb55590b58": {
      "model_module": "@jupyter-widgets/base",
      "model_module_version": "1.2.0",
      "model_name": "LayoutModel",
      "state": {
       "height": "32px",
       "overflow": "visible",
       "width": "100%"
      }
     },
     "7efe4e4b6f2d40a7880becfe08267ee1": {
      "model_module": "@jupyter-widgets/base",
      "model_module_version": "1.2.0",
      "model_name": "LayoutModel",
      "state": {
       "width": "60px"
      }
     },
     "7f265b6c23ad48ae8d0a709d5fd5a204": {
      "model_module": "@jupyter-widgets/controls",
      "model_module_version": "1.5.0",
      "model_name": "ButtonModel",
      "state": {
       "description": "EDIT",
       "layout": "IPY_MODEL_cdc874a9f36c4613902a261147f67fca",
       "style": "IPY_MODEL_9c1a4786e1544720a7d4ded54293bb3b"
      }
     },
     "7f32088c8db443d7a39388625f84e8b2": {
      "model_module": "@jupyter-widgets/base",
      "model_module_version": "1.2.0",
      "model_name": "LayoutModel",
      "state": {
       "order": "-1",
       "overflow": "visible",
       "padding": "1px",
       "width": "0px"
      }
     },
     "7f425ca2c2b047ccb3d8698f4dd38f2c": {
      "model_module": "@jupyter-widgets/controls",
      "model_module_version": "1.5.0",
      "model_name": "ProgressStyleModel",
      "state": {
       "description_width": ""
      }
     },
     "7f51d821ce164fd4854d82dfa3d25430": {
      "model_module": "@jupyter-widgets/base",
      "model_module_version": "1.2.0",
      "model_name": "LayoutModel",
      "state": {
       "height": "32px",
       "order": "-2",
       "width": "32px"
      }
     },
     "7f5bcee1caac40fb9c8fca7c3e9f9286": {
      "model_module": "@jupyter-widgets/controls",
      "model_module_version": "1.5.0",
      "model_name": "ButtonModel",
      "state": {
       "layout": "IPY_MODEL_0de7399737f747c2b45f9157ee578896",
       "style": "IPY_MODEL_e5e9d3bbd7344c51b99d5565258db812"
      }
     },
     "7f756d304b804da3a4f54154fdf7c29c": {
      "model_module": "@jupyter-widgets/controls",
      "model_module_version": "1.5.0",
      "model_name": "ProgressStyleModel",
      "state": {
       "description_width": ""
      }
     },
     "7f8e831a4bb0407888c41456a7226aff": {
      "model_module": "@jupyter-widgets/controls",
      "model_module_version": "1.5.0",
      "model_name": "ButtonModel",
      "state": {
       "layout": "IPY_MODEL_35e5d8661be94fc3bea38fada13662bf",
       "style": "IPY_MODEL_542fe69ce22746b8bdfe573418a9c10a"
      }
     },
     "7f9c71076e494140a2241d7c94d6d575": {
      "model_module": "@jupyter-widgets/controls",
      "model_module_version": "1.5.0",
      "model_name": "ButtonStyleModel",
      "state": {}
     },
     "7fa1602efe4846118fb20c17d7d0cc9e": {
      "model_module": "@jupyter-widgets/base",
      "model_module_version": "1.2.0",
      "model_name": "LayoutModel",
      "state": {
       "width": "60px"
      }
     },
     "7fa163c1c66845dd8da862f94d56cc85": {
      "model_module": "@jupyter-widgets/controls",
      "model_module_version": "1.5.0",
      "model_name": "ButtonModel",
      "state": {
       "description": "EDIT",
       "layout": "IPY_MODEL_d81ebccea7414348900053e1513fc8ff",
       "style": "IPY_MODEL_18f6b4517ab841a3ad1da1b21a56aadc"
      }
     },
     "7fb96db2fb1d4d7f81950f9ea6716e75": {
      "model_module": "@jupyter-widgets/controls",
      "model_module_version": "1.5.0",
      "model_name": "ProgressStyleModel",
      "state": {
       "description_width": ""
      }
     },
     "7ff8c8ef7dd146ec9a84d3f38da586ad": {
      "model_module": "@jupyter-widgets/controls",
      "model_module_version": "1.5.0",
      "model_name": "IntProgressModel",
      "state": {
       "layout": "IPY_MODEL_3efdc4b24a5e4edf9f0c21403355eef3",
       "style": "IPY_MODEL_700efc38acb4466aa5a0c281da6cd834",
       "value": 30
      }
     },
     "800205fa58124f138759e3849d2d849e": {
      "model_module": "@jupyter-widgets/base",
      "model_module_version": "1.2.0",
      "model_name": "LayoutModel",
      "state": {
       "height": "32px",
       "order": "-2",
       "width": "32px"
      }
     },
     "8003ad858a304fc7b42d7a77d9473113": {
      "model_module": "@jupyter-widgets/controls",
      "model_module_version": "1.5.0",
      "model_name": "ButtonModel",
      "state": {
       "layout": "IPY_MODEL_f4f0202120db4d9db5677699a0bd0d8f",
       "style": "IPY_MODEL_8bd891cd10814e519d150a0e271dffec"
      }
     },
     "800bef115c0f4fdfbb588ea028958e3c": {
      "model_module": "@jupyter-widgets/base",
      "model_module_version": "1.2.0",
      "model_name": "LayoutModel",
      "state": {
       "overflow": "visible",
       "width": "100%"
      }
     },
     "801431ffe45d4256886196344097916f": {
      "model_module": "@jupyter-widgets/controls",
      "model_module_version": "1.5.0",
      "model_name": "ButtonModel",
      "state": {
       "layout": "IPY_MODEL_fb4b02ecc75e4b8aa69513e1f08bf47b",
       "style": "IPY_MODEL_c3551f7401654c4fbdf8aaa03bde5b02"
      }
     },
     "8030c07db8074917af1f5f88cdbfcfd9": {
      "model_module": "@jupyter-widgets/controls",
      "model_module_version": "1.5.0",
      "model_name": "ButtonModel",
      "state": {
       "layout": "IPY_MODEL_426f0fc93d5f4277afa1b4c41d7ae314",
       "style": "IPY_MODEL_f0d1f7b8b7c048e4a2de47656db283d8"
      }
     },
     "8034de0ea5dd4200b97a6fa957700ad3": {
      "model_module": "@jupyter-widgets/base",
      "model_module_version": "1.2.0",
      "model_name": "LayoutModel",
      "state": {
       "height": "32px",
       "order": "-2",
       "width": "32px"
      }
     },
     "805929a0535f4aa894e012be969cc867": {
      "model_module": "@jupyter-widgets/base",
      "model_module_version": "1.2.0",
      "model_name": "LayoutModel",
      "state": {
       "height": "32px",
       "overflow": "visible",
       "width": "100%"
      }
     },
     "805acb428fe84b64b0ab3418ae14c806": {
      "model_module": "@jupyter-widgets/base",
      "model_module_version": "1.2.0",
      "model_name": "LayoutModel",
      "state": {
       "border": "3px solid white",
       "flex": "1 1 0%",
       "margin": "10px",
       "min_width": "400px",
       "overflow": "visible",
       "padding": "10px",
       "width": "auto"
      }
     },
     "806d793238744d0b8edb543514d96c89": {
      "model_module": "@jupyter-widgets/controls",
      "model_module_version": "1.5.0",
      "model_name": "LabelModel",
      "state": {
       "layout": "IPY_MODEL_49e1496de1584b3a9c63beb5127829bd",
       "style": "IPY_MODEL_d4905737d87e45f7bdd5fbd5e88b57f8",
       "value": "   objective"
      }
     },
     "8080095fc8364b658099cf2224b137b4": {
      "model_module": "@jupyter-widgets/controls",
      "model_module_version": "1.5.0",
      "model_name": "ProgressStyleModel",
      "state": {
       "description_width": ""
      }
     },
     "80866dbe6e4f49c0ad58e5f5b88337dc": {
      "model_module": "@jupyter-widgets/controls",
      "model_module_version": "1.5.0",
      "model_name": "ButtonStyleModel",
      "state": {}
     },
     "80af7465365543e6aef9d8c6118cf3bc": {
      "model_module": "@jupyter-widgets/controls",
      "model_module_version": "1.5.0",
      "model_name": "ButtonStyleModel",
      "state": {}
     },
     "80fbc0c15e634559a582739487fd59f8": {
      "model_module": "@jupyter-widgets/controls",
      "model_module_version": "1.5.0",
      "model_name": "DescriptionStyleModel",
      "state": {
       "description_width": ""
      }
     },
     "8101c68dbc574d39b0ba7e437ab4404d": {
      "model_module": "@jupyter-widgets/controls",
      "model_module_version": "1.5.0",
      "model_name": "ProgressStyleModel",
      "state": {
       "description_width": ""
      }
     },
     "810b7084c41049a5bfbe359cbd3e9b91": {
      "model_module": "@jupyter-widgets/controls",
      "model_module_version": "1.5.0",
      "model_name": "ButtonStyleModel",
      "state": {}
     },
     "8131f8afe4174fc2b6e0281abf90f90e": {
      "model_module": "@jupyter-widgets/base",
      "model_module_version": "1.2.0",
      "model_name": "LayoutModel",
      "state": {
       "order": "-1",
       "overflow": "visible",
       "padding": "1px",
       "width": "0px"
      }
     },
     "8156f6cc3766494baf5cb528cf7d0135": {
      "model_module": "@jupyter-widgets/controls",
      "model_module_version": "1.5.0",
      "model_name": "LabelModel",
      "state": {
       "layout": "IPY_MODEL_db262a14a45d48f0b3268128f59f9454",
       "style": "IPY_MODEL_69b352e4910d41f4b2b4f2c18705e76e",
       "value": "   objective"
      }
     },
     "817e1ea3289244d3a9ad2328b88e6258": {
      "model_module": "@jupyter-widgets/controls",
      "model_module_version": "1.5.0",
      "model_name": "ButtonModel",
      "state": {
       "layout": "IPY_MODEL_7c6ed64caef949429760b50b0e77a1c7",
       "style": "IPY_MODEL_b44b6f848a6547acb178ee17f1e21738"
      }
     },
     "81865d7c26744446b1435eff58967a9f": {
      "model_module": "@jupyter-widgets/controls",
      "model_module_version": "1.5.0",
      "model_name": "LabelModel",
      "state": {
       "layout": "IPY_MODEL_615350e5eefb40d699c7e99a82dd8c9d",
       "style": "IPY_MODEL_56cea72a702f4678b8e0bb807a0797ba",
       "value": "   objective"
      }
     },
     "8190c59ee2864f08a3898ba0d96ca774": {
      "model_module": "@jupyter-widgets/controls",
      "model_module_version": "1.5.0",
      "model_name": "IntProgressModel",
      "state": {
       "layout": "IPY_MODEL_eee645fb44984072b2d9be2455a6b58d",
       "style": "IPY_MODEL_2c9a54de368244a59ad0d75030b94d7d",
       "value": 30
      }
     },
     "819ef4d882eb4b77a00003063f891e6c": {
      "model_module": "@jupyter-widgets/base",
      "model_module_version": "1.2.0",
      "model_name": "LayoutModel",
      "state": {}
     },
     "81a889dc9aa34c9b911847f77656e9da": {
      "model_module": "@jupyter-widgets/base",
      "model_module_version": "1.2.0",
      "model_name": "LayoutModel",
      "state": {
       "height": "32px",
       "order": "-2",
       "width": "32px"
      }
     },
     "81aa904a6353412eb7690ce9eee26b86": {
      "model_module": "@jupyter-widgets/controls",
      "model_module_version": "1.5.0",
      "model_name": "LabelModel",
      "state": {
       "layout": "IPY_MODEL_6e607291ee8740459a6185fafc459d74",
       "style": "IPY_MODEL_4173356d16f44b91a39e0d43ebcbad27",
       "value": "   objective"
      }
     },
     "81ce1132a3b54f509c0d37f468a5d380": {
      "model_module": "@jupyter-widgets/controls",
      "model_module_version": "1.5.0",
      "model_name": "ButtonStyleModel",
      "state": {}
     },
     "81d10941099f41a4b582306c39d0d6b0": {
      "model_module": "@jupyter-widgets/controls",
      "model_module_version": "1.5.0",
      "model_name": "ProgressStyleModel",
      "state": {
       "description_width": ""
      }
     },
     "81e47ce056a346149041ad4e29d6664c": {
      "model_module": "@jupyter-widgets/controls",
      "model_module_version": "1.5.0",
      "model_name": "ProgressStyleModel",
      "state": {
       "description_width": ""
      }
     },
     "8232b6d5d5a14ed78d5bfc0397609150": {
      "model_module": "@jupyter-widgets/base",
      "model_module_version": "1.2.0",
      "model_name": "LayoutModel",
      "state": {
       "order": "-1",
       "overflow": "visible",
       "padding": "1px",
       "width": "0px"
      }
     },
     "82331793023e43b68044ae6f82a7053f": {
      "model_module": "@jupyter-widgets/controls",
      "model_module_version": "1.5.0",
      "model_name": "ButtonModel",
      "state": {
       "layout": "IPY_MODEL_334d0ccd239a4004afb656b95db32de6",
       "style": "IPY_MODEL_08891990117b4c79ba6ed55988956cb3"
      }
     },
     "823a474b9b824bfab7bbe247c03bf209": {
      "model_module": "@jupyter-widgets/controls",
      "model_module_version": "1.5.0",
      "model_name": "ButtonModel",
      "state": {
       "layout": "IPY_MODEL_f2a65b052c574922b3a3cd9bf0c6f6b4",
       "style": "IPY_MODEL_aeb027167d56415b88ca3d51cc10845c"
      }
     },
     "824778df8b344c3e8861b6fe26813391": {
      "model_module": "@jupyter-widgets/controls",
      "model_module_version": "1.5.0",
      "model_name": "ButtonModel",
      "state": {
       "description": "EDIT",
       "layout": "IPY_MODEL_2f1c8bdfe2624041b38107b8c54a93fd",
       "style": "IPY_MODEL_0c70db1776714c78b96d88d7885ac5a5"
      }
     },
     "8249b550a9984d8e9b0c2305cea1a1c4": {
      "model_module": "@jupyter-widgets/controls",
      "model_module_version": "1.5.0",
      "model_name": "LabelModel",
      "state": {
       "layout": "IPY_MODEL_b7675c9afe2f4e34ace5dce237acc62c",
       "style": "IPY_MODEL_4727217a9b51424fbfbc1e6b926b99d5",
       "value": "   objective"
      }
     },
     "827a51de997143329c4408d069620a4c": {
      "model_module": "@jupyter-widgets/controls",
      "model_module_version": "1.5.0",
      "model_name": "ProgressStyleModel",
      "state": {
       "description_width": ""
      }
     },
     "8280d683abfe4f93bfcd40b44867bb28": {
      "model_module": "@jupyter-widgets/base",
      "model_module_version": "1.2.0",
      "model_name": "LayoutModel",
      "state": {
       "height": "32px",
       "order": "-2",
       "width": "32px"
      }
     },
     "8281a709759c44fbb6723a26fc0df922": {
      "model_module": "@jupyter-widgets/base",
      "model_module_version": "1.2.0",
      "model_name": "LayoutModel",
      "state": {}
     },
     "82824c5641dc49779711f3c5278471ab": {
      "model_module": "@jupyter-widgets/controls",
      "model_module_version": "1.5.0",
      "model_name": "DropdownModel",
      "state": {
       "_options_labels": [
        "Any",
        "Machine Gun",
        "Sword",
        "Grenade Launcher",
        "Rocket Launcher",
        "Linear Fusion Rifle"
       ],
       "index": 0,
       "layout": "IPY_MODEL_27de6b728bae49b0a4b2fdd732570aae",
       "style": "IPY_MODEL_244c4c5238c440b28a2f34d7cafbc037"
      }
     },
     "82988ef506f04f2e93cd8ae19b21ccd8": {
      "model_module": "@jupyter-widgets/base",
      "model_module_version": "1.2.0",
      "model_name": "LayoutModel",
      "state": {}
     },
     "829eb42a02ea4c698496b2a525f56789": {
      "model_module": "@jupyter-widgets/controls",
      "model_module_version": "1.5.0",
      "model_name": "LabelModel",
      "state": {
       "layout": "IPY_MODEL_e9bf1005f0d642e7933e77de712c7454",
       "style": "IPY_MODEL_21c23d4ca9df4b4abe462ef4426f9ce7",
       "value": "   objective"
      }
     },
     "82ae42f9b162475fa3445a295068d67c": {
      "model_module": "@jupyter-widgets/controls",
      "model_module_version": "1.5.0",
      "model_name": "LabelModel",
      "state": {
       "layout": "IPY_MODEL_3d1489b5a3024a85aac5d5b52161099d",
       "style": "IPY_MODEL_32cab3eee1584d0c959429fd9186dffd",
       "value": "   objective"
      }
     },
     "82be266cac1b47f98b3b90ed389a8836": {
      "model_module": "@jupyter-widgets/controls",
      "model_module_version": "1.5.0",
      "model_name": "IntProgressModel",
      "state": {
       "layout": "IPY_MODEL_54cfb7da69bb4083aa493d060665d56e",
       "style": "IPY_MODEL_ea52b68913464bfeac428e8ea779a5f3",
       "value": 30
      }
     },
     "82d2e775a07746d79e563fc542b4e64c": {
      "model_module": "@jupyter-widgets/base",
      "model_module_version": "1.2.0",
      "model_name": "LayoutModel",
      "state": {
       "height": "32px",
       "overflow": "visible",
       "width": "100%"
      }
     },
     "82d3aef6aa4e465e9de0b6df1a94751a": {
      "model_module": "@jupyter-widgets/controls",
      "model_module_version": "1.5.0",
      "model_name": "VBoxModel",
      "state": {
       "children": [
        "IPY_MODEL_8731273824ee44b4b0524621335f5cee",
        "IPY_MODEL_34bfa7f1c77b4f4ab7bd71dcca9fb0c1",
        "IPY_MODEL_3141fd78f79547cc8cf522198b47d3e0",
        "IPY_MODEL_3fa08c0f0e214735aaf478a648607132"
       ],
       "layout": "IPY_MODEL_1a0f07745c514718a813e6456ea30911"
      }
     },
     "82f0ee4bc4054aafaf04dbf8fc36000a": {
      "model_module": "@jupyter-widgets/controls",
      "model_module_version": "1.5.0",
      "model_name": "DescriptionStyleModel",
      "state": {
       "description_width": ""
      }
     },
     "82fd714270e549f2b67a1b77a7c1bd5b": {
      "model_module": "@jupyter-widgets/controls",
      "model_module_version": "1.5.0",
      "model_name": "IntProgressModel",
      "state": {
       "layout": "IPY_MODEL_b743d64ca13c4065b35e7a6a00f5b23d",
       "style": "IPY_MODEL_ae83dd82d4354d6892f9f4a73e2e487b",
       "value": 30
      }
     },
     "82fe8db5c2464773b957b8384be6466b": {
      "model_module": "@jupyter-widgets/controls",
      "model_module_version": "1.5.0",
      "model_name": "ButtonModel",
      "state": {
       "layout": "IPY_MODEL_12064908f2ea4baeb076adb947fae499",
       "style": "IPY_MODEL_d0717452f965413586d26d85ebc6756b"
      }
     },
     "830e304b96cc4a6fb255c20dd1271f4e": {
      "model_module": "@jupyter-widgets/controls",
      "model_module_version": "1.5.0",
      "model_name": "IntProgressModel",
      "state": {
       "layout": "IPY_MODEL_4a07a6057d57450081ec002eb9114bbc",
       "style": "IPY_MODEL_450fdd06a8814e47a6bb9a288f3a870a",
       "value": 30
      }
     },
     "83287fd2ea3e4441b1c575cec35534a6": {
      "model_module": "@jupyter-widgets/controls",
      "model_module_version": "1.5.0",
      "model_name": "DescriptionStyleModel",
      "state": {
       "description_width": ""
      }
     },
     "832f63099c6b48eeb0fe0e76caada471": {
      "model_module": "@jupyter-widgets/controls",
      "model_module_version": "1.5.0",
      "model_name": "ButtonModel",
      "state": {
       "description": "Previous",
       "layout": "IPY_MODEL_d1962fb017124587b582a1edfad19689",
       "style": "IPY_MODEL_ee97d28127a545a08912c55200c9503d"
      }
     },
     "83364c6147f84e4ca727c1df19341e27": {
      "model_module": "@jupyter-widgets/controls",
      "model_module_version": "1.5.0",
      "model_name": "ButtonStyleModel",
      "state": {}
     },
     "8343b476659243459835cf1fe9183557": {
      "model_module": "@jupyter-widgets/base",
      "model_module_version": "1.2.0",
      "model_name": "LayoutModel",
      "state": {
       "height": "32px",
       "overflow": "visible",
       "width": "100%"
      }
     },
     "834499e3d06744cd87f2b2d4eabdc1fc": {
      "model_module": "@jupyter-widgets/controls",
      "model_module_version": "1.5.0",
      "model_name": "ButtonStyleModel",
      "state": {}
     },
     "8352644352854c3db0d6702ef966d848": {
      "model_module": "@jupyter-widgets/controls",
      "model_module_version": "1.5.0",
      "model_name": "ButtonStyleModel",
      "state": {}
     },
     "8361d0d4d55a4febadbf85cfba02da31": {
      "model_module": "@jupyter-widgets/controls",
      "model_module_version": "1.5.0",
      "model_name": "DescriptionStyleModel",
      "state": {
       "description_width": ""
      }
     },
     "8376da1208084773862325a04a1e1c78": {
      "model_module": "@jupyter-widgets/controls",
      "model_module_version": "1.5.0",
      "model_name": "ButtonModel",
      "state": {
       "description": "EDIT",
       "layout": "IPY_MODEL_221028eb063c4bd0b480a5f7e93dcc42",
       "style": "IPY_MODEL_bd1241fdee5245c88617a6dcac1541d4"
      }
     },
     "83799cf6de6f41be87a9c5463b056857": {
      "model_module": "@jupyter-widgets/controls",
      "model_module_version": "1.5.0",
      "model_name": "DescriptionStyleModel",
      "state": {
       "description_width": ""
      }
     },
     "838a10b392214303b3637e486872ccd6": {
      "model_module": "@jupyter-widgets/controls",
      "model_module_version": "1.5.0",
      "model_name": "ButtonStyleModel",
      "state": {}
     },
     "83af1a8e5a464fb394894b48d0775ead": {
      "model_module": "@jupyter-widgets/controls",
      "model_module_version": "1.5.0",
      "model_name": "IntProgressModel",
      "state": {
       "layout": "IPY_MODEL_3390377ff94141929abe9443a2bf0056",
       "style": "IPY_MODEL_fd55ed3a05ee448380b65cbc3197c085",
       "value": 30
      }
     },
     "83f69596b79945bcbea116b414cfc063": {
      "model_module": "@jupyter-widgets/base",
      "model_module_version": "1.2.0",
      "model_name": "LayoutModel",
      "state": {
       "width": "60px"
      }
     },
     "83fb8a7c51cf4c259a54cdfcc095762d": {
      "model_module": "@jupyter-widgets/controls",
      "model_module_version": "1.5.0",
      "model_name": "HTMLModel",
      "state": {
       "layout": "IPY_MODEL_a8b5bb4ae43f4664b28653147b6312b2",
       "style": "IPY_MODEL_34a70007ecff453ea7b91fbaad5d7713",
       "value": "<font size=\"1\">Path/Path/Path/Path/</font size>"
      }
     },
     "842bf608241643c08d709e7f9ba3b744": {
      "model_module": "@jupyter-widgets/controls",
      "model_module_version": "1.5.0",
      "model_name": "ButtonStyleModel",
      "state": {}
     },
     "844f266da9d245d3874b399ca4dfb611": {
      "model_module": "@jupyter-widgets/controls",
      "model_module_version": "1.5.0",
      "model_name": "HBoxModel",
      "state": {
       "children": [
        "IPY_MODEL_ae104a2dae5f4f1dada8de74f43932a3",
        "IPY_MODEL_6d795e66aa58427daafefdea4daf15c8",
        "IPY_MODEL_c0a08473d9c8499ea638f3fba7ffbde3",
        "IPY_MODEL_08d084b2b67c4f7a9f20638770442149"
       ],
       "layout": "IPY_MODEL_d5fe9362c85b453da2e96047d6ceb851"
      }
     },
     "847c02f0388042e887da8f331094d790": {
      "model_module": "@jupyter-widgets/controls",
      "model_module_version": "1.5.0",
      "model_name": "DescriptionStyleModel",
      "state": {
       "description_width": ""
      }
     },
     "848b98092a344943987f3c2a298df0ef": {
      "model_module": "@jupyter-widgets/base",
      "model_module_version": "1.2.0",
      "model_name": "LayoutModel",
      "state": {}
     },
     "849482fcafa048b2b83d6525f333a17f": {
      "model_module": "@jupyter-widgets/base",
      "model_module_version": "1.2.0",
      "model_name": "LayoutModel",
      "state": {
       "height": "32px",
       "order": "-2",
       "width": "32px"
      }
     },
     "849572afdcf9498dbfe685f22f428198": {
      "model_module": "@jupyter-widgets/base",
      "model_module_version": "1.2.0",
      "model_name": "LayoutModel",
      "state": {
       "height": "32px",
       "overflow": "visible",
       "width": "100%"
      }
     },
     "84ada0d3b42d4b94a39a219e54f9c96b": {
      "model_module": "@jupyter-widgets/base",
      "model_module_version": "1.2.0",
      "model_name": "LayoutModel",
      "state": {
       "width": "60px"
      }
     },
     "84bf35a7a498408699c4c9d9aaed53cb": {
      "model_module": "@jupyter-widgets/controls",
      "model_module_version": "1.5.0",
      "model_name": "HTMLModel",
      "state": {
       "layout": "IPY_MODEL_800bef115c0f4fdfbb588ea028958e3c",
       "style": "IPY_MODEL_b54189d204f3470fa5333243a73ac720",
       "value": "<b>Task Name</b>"
      }
     },
     "84d0d5234b1b4dee83597c9f4425c56d": {
      "model_module": "@jupyter-widgets/controls",
      "model_module_version": "1.5.0",
      "model_name": "DescriptionStyleModel",
      "state": {
       "description_width": ""
      }
     },
     "84d17e0cd6f74070811f7f23fa504493": {
      "model_module": "@jupyter-widgets/controls",
      "model_module_version": "1.5.0",
      "model_name": "HBoxModel",
      "state": {
       "children": [
        "IPY_MODEL_718d4262d1e14b248c51f2a77bda3a07",
        "IPY_MODEL_2b91e3e587e7417c9e92054e0c77b3b7",
        "IPY_MODEL_da1eeb62eb054cbd962993e129dc35b5",
        "IPY_MODEL_92a366b1d2d2412f9726d8302350dfe7"
       ],
       "layout": "IPY_MODEL_75573f4e4e14480e9f815ca65468306d"
      }
     },
     "84e00b0b7e5240eb8a209edffdd43fbb": {
      "model_module": "@jupyter-widgets/base",
      "model_module_version": "1.2.0",
      "model_name": "LayoutModel",
      "state": {}
     },
     "84f053345e6747c29b0c0df93b4c030f": {
      "model_module": "@jupyter-widgets/controls",
      "model_module_version": "1.5.0",
      "model_name": "LabelModel",
      "state": {
       "layout": "IPY_MODEL_b52a1fe8b2df4f77a455fbab4119dbfe",
       "style": "IPY_MODEL_20d03a44923d4c7f87fdedd8f4581144",
       "value": "   objective"
      }
     },
     "84fb124ab34f43be9c2bc751fe803ecb": {
      "model_module": "@jupyter-widgets/controls",
      "model_module_version": "1.5.0",
      "model_name": "ButtonStyleModel",
      "state": {}
     },
     "85141dfa2bfe42d2878ee7ef33a59807": {
      "model_module": "@jupyter-widgets/controls",
      "model_module_version": "1.5.0",
      "model_name": "HTMLModel",
      "state": {
       "layout": "IPY_MODEL_1d9d3d6b4e084d18a4e7ebdd9f874b98",
       "style": "IPY_MODEL_89396eaa4c294426b76ab3cac96a549c",
       "value": "<b>Task Name</b>"
      }
     },
     "851f92ce3b45437186db8c36a61d7a80": {
      "model_module": "@jupyter-widgets/controls",
      "model_module_version": "1.5.0",
      "model_name": "ProgressStyleModel",
      "state": {
       "description_width": ""
      }
     },
     "853713f8630d4b5182f1f870fca90f0a": {
      "model_module": "@jupyter-widgets/controls",
      "model_module_version": "1.5.0",
      "model_name": "HTMLModel",
      "state": {
       "layout": "IPY_MODEL_228c84c5071e4f689065e5790bd03172",
       "style": "IPY_MODEL_17d009a3a39e4a6da595a9e80fc99c02",
       "value": "<b>Task Name</b>"
      }
     },
     "8539df3b792c4fe5a29814fd1f892cb1": {
      "model_module": "@jupyter-widgets/base",
      "model_module_version": "1.2.0",
      "model_name": "LayoutModel",
      "state": {
       "height": "32px",
       "order": "-2",
       "width": "32px"
      }
     },
     "856c11e029e44ec0b7ebe1bfd393f779": {
      "model_module": "@jupyter-widgets/controls",
      "model_module_version": "1.5.0",
      "model_name": "LabelModel",
      "state": {
       "layout": "IPY_MODEL_575afc4e7bfb44178c662959be710be8",
       "style": "IPY_MODEL_35df06f73bb5432f8df67cb67b232b24",
       "value": "   objective"
      }
     },
     "858cf759227a47f683da043f7d9239da": {
      "model_module": "@jupyter-widgets/controls",
      "model_module_version": "1.5.0",
      "model_name": "ProgressStyleModel",
      "state": {
       "description_width": ""
      }
     },
     "859645de07934582867f85594d6cba9a": {
      "model_module": "@jupyter-widgets/controls",
      "model_module_version": "1.5.0",
      "model_name": "HTMLModel",
      "state": {
       "layout": "IPY_MODEL_866ff11159f441fd9382acf42fa52c82",
       "style": "IPY_MODEL_5ad91d6ec5864a4084b3ca9d32d526fb",
       "value": "<font size=\"1\">Path/Path/Path/Path/</font size>"
      }
     },
     "85e168a2bcf04da993d6c21ef68437f3": {
      "model_module": "@jupyter-widgets/controls",
      "model_module_version": "1.5.0",
      "model_name": "LabelModel",
      "state": {
       "layout": "IPY_MODEL_9a62e28c3a134dfb8bc6c7420d9a5d8e",
       "style": "IPY_MODEL_799a0403fd1a4e748fd0ff6215097ef6",
       "value": "   objective"
      }
     },
     "85ea91c48d424256964e078e6db8f9d8": {
      "model_module": "@jupyter-widgets/base",
      "model_module_version": "1.2.0",
      "model_name": "LayoutModel",
      "state": {
       "order": "-1",
       "overflow": "visible",
       "padding": "1px",
       "width": "0px"
      }
     },
     "85f8434ceef5481b847acf9f5e10f0ec": {
      "model_module": "@jupyter-widgets/controls",
      "model_module_version": "1.5.0",
      "model_name": "DescriptionStyleModel",
      "state": {
       "description_width": ""
      }
     },
     "860758613f7b4b9bba3e7dc78e358c49": {
      "model_module": "@jupyter-widgets/controls",
      "model_module_version": "1.5.0",
      "model_name": "ButtonModel",
      "state": {
       "description": "EDIT",
       "layout": "IPY_MODEL_27cc81cd498a42c0989055e1697dc756",
       "style": "IPY_MODEL_7f9c71076e494140a2241d7c94d6d575"
      }
     },
     "8616d19dbef8465a8f0e4b1f76ba1175": {
      "model_module": "@jupyter-widgets/base",
      "model_module_version": "1.2.0",
      "model_name": "LayoutModel",
      "state": {
       "height": "32px",
       "order": "-2",
       "width": "32px"
      }
     },
     "863c847a16a14992adb131c1a526116b": {
      "model_module": "@jupyter-widgets/controls",
      "model_module_version": "1.5.0",
      "model_name": "HTMLModel",
      "state": {
       "layout": "IPY_MODEL_e2e843f2f6c54d25ab9f0eb7069dad48",
       "style": "IPY_MODEL_4ed2e87c7d3645408bccbac51077ed0a",
       "value": "<i>test test test test test test test test test test test test test test test test test test test test test test test test </i>"
      }
     },
     "8649398b859b4eb495145d32e227e50b": {
      "model_module": "@jupyter-widgets/controls",
      "model_module_version": "1.5.0",
      "model_name": "DescriptionStyleModel",
      "state": {
       "description_width": ""
      }
     },
     "865b957c18ec428eae938935c46b0586": {
      "model_module": "@jupyter-widgets/controls",
      "model_module_version": "1.5.0",
      "model_name": "IntProgressModel",
      "state": {
       "layout": "IPY_MODEL_6e3c613d91984d31bedf1914338e0b4a",
       "style": "IPY_MODEL_4bc9ca9bff4f47d2b3e5d5e9bff1d360",
       "value": 30
      }
     },
     "865f0b3d832b4e709b97de604dd4ef2e": {
      "model_module": "@jupyter-widgets/base",
      "model_module_version": "1.2.0",
      "model_name": "LayoutModel",
      "state": {
       "height": "32px",
       "order": "-2",
       "width": "32px"
      }
     },
     "8666e21e9903420d8071328f2c453bbb": {
      "model_module": "@jupyter-widgets/controls",
      "model_module_version": "1.5.0",
      "model_name": "DescriptionStyleModel",
      "state": {
       "description_width": ""
      }
     },
     "866ff11159f441fd9382acf42fa52c82": {
      "model_module": "@jupyter-widgets/base",
      "model_module_version": "1.2.0",
      "model_name": "LayoutModel",
      "state": {
       "overflow": "visible",
       "width": "100%"
      }
     },
     "868a2a1857e649759d7360567203ae42": {
      "model_module": "@jupyter-widgets/controls",
      "model_module_version": "1.5.0",
      "model_name": "LabelModel",
      "state": {
       "layout": "IPY_MODEL_5f802675c40745c387c58032a091a3c5",
       "style": "IPY_MODEL_8a6ea06ed0e64bc2a5bc70ef4c41650b",
       "value": "   objective"
      }
     },
     "86ac93667f80488cb60183a94d628ab4": {
      "model_module": "@jupyter-widgets/base",
      "model_module_version": "1.2.0",
      "model_name": "LayoutModel",
      "state": {
       "height": "32px",
       "overflow": "visible",
       "width": "100%"
      }
     },
     "86af0055f6644e1381a4d051d2e9c630": {
      "model_module": "@jupyter-widgets/controls",
      "model_module_version": "1.5.0",
      "model_name": "HBoxModel",
      "state": {
       "children": [
        "IPY_MODEL_b68b83aeefec41aa819a28b19f95ff0a",
        "IPY_MODEL_0c7b730d733d49e88ea0175522d12afb",
        "IPY_MODEL_cd87b5fa93044f768c7bfc83713ed8eb",
        "IPY_MODEL_71dfae1ab12145a2b97360c3a8b97779"
       ],
       "layout": "IPY_MODEL_cb5c889651c34a0a8abc15081c9cc725"
      }
     },
     "86b9df52383d493188d51269b5ea14ff": {
      "model_module": "@jupyter-widgets/controls",
      "model_module_version": "1.5.0",
      "model_name": "VBoxModel",
      "state": {
       "children": [
        "IPY_MODEL_8cca441b043d48b5af2be650dd4e5dce",
        "IPY_MODEL_ef7fce39377741ddafc7d12e3df253cd",
        "IPY_MODEL_3cc09f57fac44c87932f8fa0f06031a4",
        "IPY_MODEL_c50e1fa3d12544589ad874997eb9c1ac"
       ],
       "layout": "IPY_MODEL_311f2dd183d3415b98a66ae9c2e112a2"
      }
     },
     "86f6afc646fb4e348b162d9987118157": {
      "model_module": "@jupyter-widgets/controls",
      "model_module_version": "1.5.0",
      "model_name": "DescriptionStyleModel",
      "state": {
       "description_width": ""
      }
     },
     "86f8d9ca5c894e30905198725426054f": {
      "model_module": "@jupyter-widgets/base",
      "model_module_version": "1.2.0",
      "model_name": "LayoutModel",
      "state": {
       "width": "60px"
      }
     },
     "8707d64cea5d4355a4d2d6049866218a": {
      "model_module": "@jupyter-widgets/base",
      "model_module_version": "1.2.0",
      "model_name": "LayoutModel",
      "state": {
       "width": "60px"
      }
     },
     "8718762e90ac4a159c5dca75ef17009a": {
      "model_module": "@jupyter-widgets/base",
      "model_module_version": "1.2.0",
      "model_name": "LayoutModel",
      "state": {
       "height": "32px",
       "overflow": "visible",
       "width": "100%"
      }
     },
     "8731273824ee44b4b0524621335f5cee": {
      "model_module": "@jupyter-widgets/controls",
      "model_module_version": "1.5.0",
      "model_name": "HTMLModel",
      "state": {
       "layout": "IPY_MODEL_8c084479b6154863b1e378a05686aa40",
       "style": "IPY_MODEL_550983cd016b408e99f8301836b9af85",
       "value": "<font size=\"1\">Path/Path/Path/Path/</font size>"
      }
     },
     "874954a17e934fdb996aef48ee412f6b": {
      "model_module": "@jupyter-widgets/controls",
      "model_module_version": "1.5.0",
      "model_name": "DescriptionStyleModel",
      "state": {
       "description_width": ""
      }
     },
     "8757c90c9e6c4ca3a74a9d1d57f49437": {
      "model_module": "@jupyter-widgets/controls",
      "model_module_version": "1.5.0",
      "model_name": "ProgressStyleModel",
      "state": {
       "description_width": ""
      }
     },
     "875cfd68f95a41dc9da6903d5f804b47": {
      "model_module": "@jupyter-widgets/controls",
      "model_module_version": "1.5.0",
      "model_name": "ButtonModel",
      "state": {
       "description": "EDIT",
       "layout": "IPY_MODEL_6155b1f7cb64462b8d2ba1dfb83b91b5",
       "style": "IPY_MODEL_6108e1506bf449b1b7cc1cb0cbab1bd2"
      }
     },
     "878da8bcfac04ad49fd7b3233c199fd5": {
      "model_module": "@jupyter-widgets/controls",
      "model_module_version": "1.5.0",
      "model_name": "ButtonStyleModel",
      "state": {}
     },
     "87c9f9ab66f14dde8dbd08cf91905d30": {
      "model_module": "@jupyter-widgets/controls",
      "model_module_version": "1.5.0",
      "model_name": "ButtonStyleModel",
      "state": {}
     },
     "880825826cf5468eaab342dcd0f4d61b": {
      "model_module": "@jupyter-widgets/controls",
      "model_module_version": "1.5.0",
      "model_name": "HBoxModel",
      "state": {
       "children": [
        "IPY_MODEL_d867c06864174e6d87ba5fb7914a4a8e",
        "IPY_MODEL_76476b2fe53546b3a6dc7946f69c5403",
        "IPY_MODEL_48a5203d2b6a4f169f9dc5126445b611",
        "IPY_MODEL_20f217d09afc43cfbf9cbd3a7dc982cf"
       ],
       "layout": "IPY_MODEL_2d1fb5a7c2174f9f9b7bf45f647d5868"
      }
     },
     "881769bb196a4dcd9cb041e2a4e71369": {
      "model_module": "@jupyter-widgets/controls",
      "model_module_version": "1.5.0",
      "model_name": "ButtonStyleModel",
      "state": {}
     },
     "882764aab2d24729bf05318049e68a69": {
      "model_module": "@jupyter-widgets/base",
      "model_module_version": "1.2.0",
      "model_name": "LayoutModel",
      "state": {
       "height": "32px",
       "overflow": "visible",
       "width": "100%"
      }
     },
     "88318ed3b7fc4ea2893f9d90bd9763a1": {
      "model_module": "@jupyter-widgets/controls",
      "model_module_version": "1.5.0",
      "model_name": "HBoxModel",
      "state": {
       "children": [
        "IPY_MODEL_82331793023e43b68044ae6f82a7053f",
        "IPY_MODEL_27f5b5474f3347588a3535bac7e60f22",
        "IPY_MODEL_9879d0d52d6046abb3090d4cc8ddc780",
        "IPY_MODEL_c7f8044ff3f14b5991b1712c9929f6c2"
       ],
       "layout": "IPY_MODEL_0efa3e8f7e3349eb8121d368700326b8"
      }
     },
     "88352797a28b44d78509c360c94f6290": {
      "model_module": "@jupyter-widgets/controls",
      "model_module_version": "1.5.0",
      "model_name": "HBoxModel",
      "state": {
       "children": [
        "IPY_MODEL_25257fb0eb464023a6814885d73aa9d7",
        "IPY_MODEL_e5eecad601a847cf9446a23d94dcc2dc",
        "IPY_MODEL_b5314da9ac47433bb4d826ff77f90d74",
        "IPY_MODEL_2f43b848fcfc48188bdd7232c6e3dfe4"
       ],
       "layout": "IPY_MODEL_a73778415d8e4abdbf3ada81f8479f30"
      }
     },
     "883fb7ecb8d54db19a772fc65c611221": {
      "model_module": "@jupyter-widgets/controls",
      "model_module_version": "1.5.0",
      "model_name": "IntProgressModel",
      "state": {
       "layout": "IPY_MODEL_ff9e55f77c0540e494d2d594c84ee5a7",
       "style": "IPY_MODEL_cf84f7b5460745b9acb7efd106523a34",
       "value": 30
      }
     },
     "885f6e4c26d7432f9f1f8c9e24729ac3": {
      "model_module": "@jupyter-widgets/base",
      "model_module_version": "1.2.0",
      "model_name": "LayoutModel",
      "state": {
       "order": "-1",
       "overflow": "visible",
       "padding": "1px",
       "width": "0px"
      }
     },
     "886b481a7fe64ce787c274629e0155aa": {
      "model_module": "@jupyter-widgets/controls",
      "model_module_version": "1.5.0",
      "model_name": "ProgressStyleModel",
      "state": {
       "description_width": ""
      }
     },
     "88bc92edffa746dfbfeb9f3f758aa11e": {
      "model_module": "@jupyter-widgets/base",
      "model_module_version": "1.2.0",
      "model_name": "LayoutModel",
      "state": {
       "width": "60px"
      }
     },
     "88d44c528969402c9e54ce6a2ab19bfb": {
      "model_module": "@jupyter-widgets/controls",
      "model_module_version": "1.5.0",
      "model_name": "IntProgressModel",
      "state": {
       "layout": "IPY_MODEL_e05644a996594ff9ad77f22f3f035a17",
       "style": "IPY_MODEL_55793c4bb7f84cdea6d7b4453f99b6a5",
       "value": 30
      }
     },
     "88d61f3505b649aba23b2f3e09f74e97": {
      "model_module": "@jupyter-widgets/base",
      "model_module_version": "1.2.0",
      "model_name": "LayoutModel",
      "state": {
       "height": "32px",
       "order": "-2",
       "width": "32px"
      }
     },
     "88d90a3664f2428f8a745c55dc2c54d8": {
      "model_module": "@jupyter-widgets/base",
      "model_module_version": "1.2.0",
      "model_name": "LayoutModel",
      "state": {
       "width": "60px"
      }
     },
     "88e5be3a0eb64798b4f79af6e2b6c08c": {
      "model_module": "@jupyter-widgets/controls",
      "model_module_version": "1.5.0",
      "model_name": "DescriptionStyleModel",
      "state": {
       "description_width": ""
      }
     },
     "88f783748b8540e98a69d8d492425f2e": {
      "model_module": "@jupyter-widgets/controls",
      "model_module_version": "1.5.0",
      "model_name": "LabelModel",
      "state": {
       "layout": "IPY_MODEL_8bff26e4a56e41f3a3a705b1cb836cc1",
       "style": "IPY_MODEL_cc679d1abe6d4b5f9df1882a1655c0e6",
       "value": "   objective"
      }
     },
     "89396eaa4c294426b76ab3cac96a549c": {
      "model_module": "@jupyter-widgets/controls",
      "model_module_version": "1.5.0",
      "model_name": "DescriptionStyleModel",
      "state": {
       "description_width": ""
      }
     },
     "893eff64346c433bb8534c37d3ffdf4e": {
      "model_module": "@jupyter-widgets/controls",
      "model_module_version": "1.5.0",
      "model_name": "IntProgressModel",
      "state": {
       "layout": "IPY_MODEL_a9d52607e905475cbbf2f5994128cad8",
       "style": "IPY_MODEL_66dca36f326b4b94b95f86379571826a",
       "value": 30
      }
     },
     "894a1d38b4ff4309bcb967d5e9fc3e55": {
      "model_module": "@jupyter-widgets/base",
      "model_module_version": "1.2.0",
      "model_name": "LayoutModel",
      "state": {
       "border": "3px solid white",
       "flex": "1 1 0%",
       "margin": "10px",
       "min_width": "400px",
       "overflow": "visible",
       "padding": "10px",
       "width": "auto"
      }
     },
     "89553e3a68d0489a9f14db2fd9415e00": {
      "model_module": "@jupyter-widgets/controls",
      "model_module_version": "1.5.0",
      "model_name": "ButtonModel",
      "state": {
       "description": "EDIT",
       "layout": "IPY_MODEL_204c4038263d4f2a92eab67f3def981c",
       "style": "IPY_MODEL_2215850581be459f9f40c0d30f7af1a3"
      }
     },
     "895d7a3fb381428d8cc14dddb316ad7b": {
      "model_module": "@jupyter-widgets/base",
      "model_module_version": "1.2.0",
      "model_name": "LayoutModel",
      "state": {
       "height": "800px"
      }
     },
     "896a85d7442447a895c944e21e772bd9": {
      "model_module": "@jupyter-widgets/base",
      "model_module_version": "1.2.0",
      "model_name": "LayoutModel",
      "state": {
       "height": "32px",
       "order": "-2",
       "width": "32px"
      }
     },
     "897e37c4a4d841ec862b165ce4a878ea": {
      "model_module": "@jupyter-widgets/controls",
      "model_module_version": "1.5.0",
      "model_name": "HBoxModel",
      "state": {
       "children": [
        "IPY_MODEL_1d0e0eb948714c96b7991174c392b827",
        "IPY_MODEL_9ad5819bc2b34e8ab00c6568ea12cabb",
        "IPY_MODEL_91a1692812a1404abbcfecaa07cac859",
        "IPY_MODEL_ac909ae136174b25b7231d509c759188"
       ],
       "layout": "IPY_MODEL_52dc8b305bdc4cdcaa114ab7045b2b56"
      }
     },
     "89811571e15d436b8638eea7af7b32f9": {
      "model_module": "@jupyter-widgets/controls",
      "model_module_version": "1.5.0",
      "model_name": "ButtonModel",
      "state": {
       "layout": "IPY_MODEL_ed3c5224ecec4d7eb30d2f68d6183260",
       "style": "IPY_MODEL_160f265e05dd48b3b4ebd66cca147707"
      }
     },
     "8993cb40026c41e2b50442f0e87461dc": {
      "model_module": "@jupyter-widgets/controls",
      "model_module_version": "1.5.0",
      "model_name": "ProgressStyleModel",
      "state": {
       "description_width": ""
      }
     },
     "89951e6356734063850bb77c2d7f94c8": {
      "model_module": "@jupyter-widgets/base",
      "model_module_version": "1.2.0",
      "model_name": "LayoutModel",
      "state": {
       "width": "60px"
      }
     },
     "899f6b46edce4930ba13c485d4a5b59a": {
      "model_module": "@jupyter-widgets/controls",
      "model_module_version": "1.5.0",
      "model_name": "ButtonModel",
      "state": {
       "description": "EDIT",
       "layout": "IPY_MODEL_326168f5c05548cc8ac2e88bec9fbd22",
       "style": "IPY_MODEL_28178510313f4810b9297ecfb206f2dc"
      }
     },
     "89cf55c9c8a64dec8830a008bdd6db76": {
      "model_module": "@jupyter-widgets/controls",
      "model_module_version": "1.5.0",
      "model_name": "LabelModel",
      "state": {
       "layout": "IPY_MODEL_39231fccceab4b8baf52d8924b92a1d7",
       "style": "IPY_MODEL_33c58d5bd88943738e8074111fe0816a",
       "value": "   objective"
      }
     },
     "89fc0154dd4649da9f4f5e2945d2cd63": {
      "model_module": "@jupyter-widgets/controls",
      "model_module_version": "1.5.0",
      "model_name": "HBoxModel",
      "state": {
       "children": [
        "IPY_MODEL_0148b7f21c434a90b26e7eb48787a856",
        "IPY_MODEL_e531fb5f67d243b4ad8255f7216ce4aa"
       ],
       "layout": "IPY_MODEL_99b49b1167ff44b998752c99c9b0642a"
      }
     },
     "89ff702fe81a44a18ea480d2155f731d": {
      "model_module": "@jupyter-widgets/controls",
      "model_module_version": "1.5.0",
      "model_name": "DescriptionStyleModel",
      "state": {
       "description_width": ""
      }
     },
     "8a028c9fcc5849ed881321fc36c2ec81": {
      "model_module": "@jupyter-widgets/base",
      "model_module_version": "1.2.0",
      "model_name": "LayoutModel",
      "state": {
       "order": "-1",
       "overflow": "visible",
       "padding": "1px",
       "width": "0px"
      }
     },
     "8a041a5375c54a3fa3030863b295fd0c": {
      "model_module": "@jupyter-widgets/controls",
      "model_module_version": "1.5.0",
      "model_name": "DescriptionStyleModel",
      "state": {
       "description_width": ""
      }
     },
     "8a218348318646a3be1422b7b2c230eb": {
      "model_module": "@jupyter-widgets/base",
      "model_module_version": "1.2.0",
      "model_name": "LayoutModel",
      "state": {
       "height": "32px",
       "overflow": "visible",
       "width": "100%"
      }
     },
     "8a29bae3a7814a618a54179c6d31888d": {
      "model_module": "@jupyter-widgets/controls",
      "model_module_version": "1.5.0",
      "model_name": "DescriptionStyleModel",
      "state": {
       "description_width": ""
      }
     },
     "8a4673a85fcb446dba8dafa3c10806a0": {
      "model_module": "@jupyter-widgets/controls",
      "model_module_version": "1.5.0",
      "model_name": "DescriptionStyleModel",
      "state": {
       "description_width": ""
      }
     },
     "8a55798cc3524187a7dfb533f9d8ca32": {
      "model_module": "@jupyter-widgets/controls",
      "model_module_version": "1.5.0",
      "model_name": "DescriptionStyleModel",
      "state": {
       "description_width": ""
      }
     },
     "8a5da9b8ac22477689ffac7d25f14a9a": {
      "model_module": "@jupyter-widgets/controls",
      "model_module_version": "1.5.0",
      "model_name": "LabelModel",
      "state": {
       "layout": "IPY_MODEL_f701b686328c473bbda5e29083c6735a",
       "style": "IPY_MODEL_12fbd01363c647df9ca9b61fb897a952",
       "value": "   objective"
      }
     },
     "8a6ea06ed0e64bc2a5bc70ef4c41650b": {
      "model_module": "@jupyter-widgets/controls",
      "model_module_version": "1.5.0",
      "model_name": "DescriptionStyleModel",
      "state": {
       "description_width": ""
      }
     },
     "8a7201de70f048248f0d699a7c65a9d6": {
      "model_module": "@jupyter-widgets/controls",
      "model_module_version": "1.5.0",
      "model_name": "ButtonModel",
      "state": {
       "layout": "IPY_MODEL_d6c5ca3c1de143e88b0175e513c23c45",
       "style": "IPY_MODEL_5d9db64b1e3840c88659d42e9b68d8b5"
      }
     },
     "8a76dd72a902406b8a8aa7382aa692be": {
      "model_module": "@jupyter-widgets/base",
      "model_module_version": "1.2.0",
      "model_name": "LayoutModel",
      "state": {
       "width": "60px"
      }
     },
     "8a7ab2b2a23149008447670532675e46": {
      "model_module": "@jupyter-widgets/base",
      "model_module_version": "1.2.0",
      "model_name": "LayoutModel",
      "state": {}
     },
     "8a813ff4064c450dbd67370fd72f3600": {
      "model_module": "@jupyter-widgets/controls",
      "model_module_version": "1.5.0",
      "model_name": "ButtonModel",
      "state": {
       "layout": "IPY_MODEL_117bd45bf56e4fcfabc2497c02b6f78e",
       "style": "IPY_MODEL_4e5f5a26fda14b3f855a9a52cf1d6171"
      }
     },
     "8a968ed4f01e49b09a86329ae7a6c00d": {
      "model_module": "@jupyter-widgets/controls",
      "model_module_version": "1.5.0",
      "model_name": "HBoxModel",
      "state": {
       "children": [
        "IPY_MODEL_5dec96ff78704e68b0f75c5ffcbbe659",
        "IPY_MODEL_11b6b9a87ff648579b970b4fb0b3fa95"
       ],
       "layout": "IPY_MODEL_6022adca9ca94a8fbef815ffdeefc69a"
      }
     },
     "8aedfc98c6584ac99dcfb8726a07a9dc": {
      "model_module": "@jupyter-widgets/base",
      "model_module_version": "1.2.0",
      "model_name": "LayoutModel",
      "state": {}
     },
     "8afb4f98b2b442ea8fa5576aaa2119e0": {
      "model_module": "@jupyter-widgets/controls",
      "model_module_version": "1.5.0",
      "model_name": "ButtonStyleModel",
      "state": {}
     },
     "8b00e3a60bdf45739a704e58d15d004e": {
      "model_module": "@jupyter-widgets/base",
      "model_module_version": "1.2.0",
      "model_name": "LayoutModel",
      "state": {
       "order": "-1",
       "overflow": "visible",
       "padding": "1px",
       "width": "0px"
      }
     },
     "8b1270fa5f99430582dac344a84000f1": {
      "model_module": "@jupyter-widgets/controls",
      "model_module_version": "1.5.0",
      "model_name": "IntProgressModel",
      "state": {
       "layout": "IPY_MODEL_4db9c80b017a432aac4ea73119725147",
       "style": "IPY_MODEL_858cf759227a47f683da043f7d9239da",
       "value": 30
      }
     },
     "8b192c665e2048eba05d94e3c8049145": {
      "model_module": "@jupyter-widgets/controls",
      "model_module_version": "1.5.0",
      "model_name": "HBoxModel",
      "state": {
       "children": [
        "IPY_MODEL_24c26a712d2a465da715b4664564b378",
        "IPY_MODEL_e0b89103fca2494c822803f449166fb1",
        "IPY_MODEL_e0ff0b5b48ab4fa084a8b8d653c232ad",
        "IPY_MODEL_1adf554089e445fe8a681bc3e2dbb937"
       ],
       "layout": "IPY_MODEL_8d459e7fb30b40bfbd8ea48629e0fc98"
      }
     },
     "8b2460d33166432cb142443d8a1d5c35": {
      "model_module": "@jupyter-widgets/controls",
      "model_module_version": "1.5.0",
      "model_name": "IntProgressModel",
      "state": {
       "layout": "IPY_MODEL_31a22c5454fa4697865214b47676af48",
       "style": "IPY_MODEL_3bb8ab43e1be4c2aa700f39bff9377e6",
       "value": 30
      }
     },
     "8b32be5e47274e3da03f0028064a19e6": {
      "model_module": "@jupyter-widgets/controls",
      "model_module_version": "1.5.0",
      "model_name": "ButtonStyleModel",
      "state": {}
     },
     "8b5946256a6a4806ae71b77ed4a57af5": {
      "model_module": "@jupyter-widgets/base",
      "model_module_version": "1.2.0",
      "model_name": "LayoutModel",
      "state": {
       "order": "-1",
       "overflow": "visible",
       "padding": "1px",
       "width": "0px"
      }
     },
     "8b6fa82676324854979ea527215c6a16": {
      "model_module": "@jupyter-widgets/controls",
      "model_module_version": "1.5.0",
      "model_name": "ProgressStyleModel",
      "state": {
       "description_width": ""
      }
     },
     "8b7dca76a4b94512817a7cf89951c6d4": {
      "model_module": "@jupyter-widgets/base",
      "model_module_version": "1.2.0",
      "model_name": "LayoutModel",
      "state": {
       "order": "-1",
       "overflow": "visible",
       "padding": "1px",
       "width": "0px"
      }
     },
     "8b8257a7f862460f8284aa5d5f536a06": {
      "model_module": "@jupyter-widgets/controls",
      "model_module_version": "1.5.0",
      "model_name": "IntProgressModel",
      "state": {
       "layout": "IPY_MODEL_7b00059d420c4a6795592cb7289b19cf",
       "style": "IPY_MODEL_3c5096cbfa9b43228119861c9663109d",
       "value": 30
      }
     },
     "8bd891cd10814e519d150a0e271dffec": {
      "model_module": "@jupyter-widgets/controls",
      "model_module_version": "1.5.0",
      "model_name": "ButtonStyleModel",
      "state": {}
     },
     "8be2f1f78b574b78985375c35b8cea87": {
      "model_module": "@jupyter-widgets/base",
      "model_module_version": "1.2.0",
      "model_name": "LayoutModel",
      "state": {}
     },
     "8bf32782ddca497f803f90b41ad8321f": {
      "model_module": "@jupyter-widgets/controls",
      "model_module_version": "1.5.0",
      "model_name": "HBoxModel",
      "state": {
       "children": [
        "IPY_MODEL_7963113d4ad7422fb1c62a8577839b1f",
        "IPY_MODEL_11d13296086446bc8ba669c9c8baac5c",
        "IPY_MODEL_56cc65ed3b4a4f859e300a8304627135",
        "IPY_MODEL_c50f49720e7e400ba74f11c24a4dd084"
       ],
       "layout": "IPY_MODEL_daa8125fb79b480fbaf0af02acb7a0d3"
      }
     },
     "8bf42be28e574bf1b7acaf39526c6404": {
      "model_module": "@jupyter-widgets/base",
      "model_module_version": "1.2.0",
      "model_name": "LayoutModel",
      "state": {
       "height": "32px",
       "overflow": "visible",
       "width": "100%"
      }
     },
     "8bff26e4a56e41f3a3a705b1cb836cc1": {
      "model_module": "@jupyter-widgets/base",
      "model_module_version": "1.2.0",
      "model_name": "LayoutModel",
      "state": {
       "order": "-1",
       "overflow": "visible",
       "padding": "1px",
       "width": "0px"
      }
     },
     "8c084479b6154863b1e378a05686aa40": {
      "model_module": "@jupyter-widgets/base",
      "model_module_version": "1.2.0",
      "model_name": "LayoutModel",
      "state": {
       "overflow": "visible",
       "width": "100%"
      }
     },
     "8c24a4f3c82c4de3b5b1475ea7abfaa7": {
      "model_module": "@jupyter-widgets/controls",
      "model_module_version": "1.5.0",
      "model_name": "IntProgressModel",
      "state": {
       "layout": "IPY_MODEL_658ea12700884248af2ce316ad738df0",
       "style": "IPY_MODEL_0b38235a177848a3aa53031834bd81f6",
       "value": 30
      }
     },
     "8c256c60a6fc4f57853deee7e7b90a86": {
      "model_module": "@jupyter-widgets/controls",
      "model_module_version": "1.5.0",
      "model_name": "ButtonModel",
      "state": {
       "description": "EDIT",
       "layout": "IPY_MODEL_7fa1602efe4846118fb20c17d7d0cc9e",
       "style": "IPY_MODEL_76d6922a8e774839b537d5170d9eb159"
      }
     },
     "8c37432676cc48449679e7ba2cd21a75": {
      "model_module": "@jupyter-widgets/base",
      "model_module_version": "1.2.0",
      "model_name": "LayoutModel",
      "state": {
       "width": "60px"
      }
     },
     "8c6c08c77ab945fe96602bbc1a1e4796": {
      "model_module": "@jupyter-widgets/controls",
      "model_module_version": "1.5.0",
      "model_name": "ButtonStyleModel",
      "state": {}
     },
     "8c95bf4208fe4f88ad3905246d32a19a": {
      "model_module": "@jupyter-widgets/controls",
      "model_module_version": "1.5.0",
      "model_name": "LabelModel",
      "state": {
       "layout": "IPY_MODEL_c9f12b7c044640e28ac8a2ca91b4d4b9",
       "style": "IPY_MODEL_a9d8c71d962440cb873fb649f0df294b",
       "value": "Tree:"
      }
     },
     "8c98d3d34436441f857c387afb3d9820": {
      "model_module": "@jupyter-widgets/controls",
      "model_module_version": "1.5.0",
      "model_name": "ButtonModel",
      "state": {
       "description": "EDIT",
       "layout": "IPY_MODEL_8707d64cea5d4355a4d2d6049866218a",
       "style": "IPY_MODEL_9fdc3154e8a54847b47108ed40a6dda1"
      }
     },
     "8cb2e5a986fd4cc281f8221369d07a7d": {
      "model_module": "@jupyter-widgets/controls",
      "model_module_version": "1.5.0",
      "model_name": "ButtonStyleModel",
      "state": {}
     },
     "8cc13d9066d7473c803c872af592f197": {
      "model_module": "@jupyter-widgets/controls",
      "model_module_version": "1.5.0",
      "model_name": "HBoxModel",
      "state": {
       "children": [
        "IPY_MODEL_b1b4316854a94f5b8860b8407dbc5d0c",
        "IPY_MODEL_4f3ce10a6b584e759ef1cb4bce57c80c",
        "IPY_MODEL_913facef88164fa391167561ed444e81",
        "IPY_MODEL_89553e3a68d0489a9f14db2fd9415e00"
       ],
       "layout": "IPY_MODEL_36c12025099645d9858626b3340dbb1e"
      }
     },
     "8cca441b043d48b5af2be650dd4e5dce": {
      "model_module": "@jupyter-widgets/controls",
      "model_module_version": "1.5.0",
      "model_name": "HTMLModel",
      "state": {
       "layout": "IPY_MODEL_04f6b7be2a584400a094257240555bb8",
       "style": "IPY_MODEL_3229bacf6e9846f1a7b5542fff3fedb4",
       "value": "<font size=\"1\">Path/Path/Path/Path/</font size>"
      }
     },
     "8d3a6b8c42c1402fa84f91dc3dfb56bc": {
      "model_module": "@jupyter-widgets/controls",
      "model_module_version": "1.5.0",
      "model_name": "IntProgressModel",
      "state": {
       "layout": "IPY_MODEL_d2e48c47b6d345d180bcd7dd94ed574e",
       "style": "IPY_MODEL_aa49b5054c7e49569b43f1a326be5143",
       "value": 30
      }
     },
     "8d3a6d8e22bb4a7bbc9866f6ffc1cc80": {
      "model_module": "@jupyter-widgets/controls",
      "model_module_version": "1.5.0",
      "model_name": "IntProgressModel",
      "state": {
       "layout": "IPY_MODEL_f0546a4460ca41b8800c24697821fda9",
       "style": "IPY_MODEL_97b5d51118a54df892a93a35ecab44d7",
       "value": 30
      }
     },
     "8d3b33ca2be14569992004441e6bf00d": {
      "model_module": "@jupyter-widgets/controls",
      "model_module_version": "1.5.0",
      "model_name": "HBoxModel",
      "state": {
       "children": [
        "IPY_MODEL_b20cd3bbb08c4755957d01551e711c43",
        "IPY_MODEL_de61d29ab76445b1aeca0e44e89c732d",
        "IPY_MODEL_cc2148f4fdc04d98916da4b4d18e5904",
        "IPY_MODEL_dc3c288b7f6440b48b30bbb107084036"
       ],
       "layout": "IPY_MODEL_045f8ee9810a40bb8b54a18c1f305907"
      }
     },
     "8d459e7fb30b40bfbd8ea48629e0fc98": {
      "model_module": "@jupyter-widgets/base",
      "model_module_version": "1.2.0",
      "model_name": "LayoutModel",
      "state": {}
     },
     "8d59be0ebf1c41f88f6075cbd2957558": {
      "model_module": "@jupyter-widgets/base",
      "model_module_version": "1.2.0",
      "model_name": "LayoutModel",
      "state": {
       "width": "100px"
      }
     },
     "8d680bfd9d6d4888b383c8ae30fe8e88": {
      "model_module": "@jupyter-widgets/controls",
      "model_module_version": "1.5.0",
      "model_name": "DescriptionStyleModel",
      "state": {
       "description_width": ""
      }
     },
     "8d69423a541a40db9cf36a0a8e3554c4": {
      "model_module": "@jupyter-widgets/base",
      "model_module_version": "1.2.0",
      "model_name": "LayoutModel",
      "state": {
       "overflow": "visible",
       "width": "100%"
      }
     },
     "8d6d6ed3e2c642f983d28482f7e05afa": {
      "model_module": "@jupyter-widgets/controls",
      "model_module_version": "1.5.0",
      "model_name": "ProgressStyleModel",
      "state": {
       "description_width": ""
      }
     },
     "8d6e90a5723243af85ab0ec687417f5a": {
      "model_module": "@jupyter-widgets/base",
      "model_module_version": "1.2.0",
      "model_name": "LayoutModel",
      "state": {}
     },
     "8d832679115742a9a98e8d423d81e97c": {
      "model_module": "@jupyter-widgets/controls",
      "model_module_version": "1.5.0",
      "model_name": "LabelModel",
      "state": {
       "layout": "IPY_MODEL_df874124d46a4d618ddeb27913471159",
       "style": "IPY_MODEL_3fb2d9e2da7644c89b07b9d7233e48ec",
       "value": "   objective"
      }
     },
     "8d9c7ea4a59641c69437f7cd1893d82d": {
      "model_module": "@jupyter-widgets/base",
      "model_module_version": "1.2.0",
      "model_name": "LayoutModel",
      "state": {
       "width": "60px"
      }
     },
     "8da278b99cd047b2a17cff784ed6f4f5": {
      "model_module": "@jupyter-widgets/controls",
      "model_module_version": "1.5.0",
      "model_name": "ButtonModel",
      "state": {
       "description": "EDIT",
       "layout": "IPY_MODEL_89951e6356734063850bb77c2d7f94c8",
       "style": "IPY_MODEL_cb799ddee72f4ea7b6b58a53c5b95481"
      }
     },
     "8daa0e2575834f62a3cce2779343a356": {
      "model_module": "@jupyter-widgets/controls",
      "model_module_version": "1.5.0",
      "model_name": "ButtonStyleModel",
      "state": {}
     },
     "8db9eae517eb4491854a75d2816d6fad": {
      "model_module": "@jupyter-widgets/base",
      "model_module_version": "1.2.0",
      "model_name": "LayoutModel",
      "state": {}
     },
     "8dd3d77dc52349f7a4e76aee59238f0a": {
      "model_module": "@jupyter-widgets/controls",
      "model_module_version": "1.5.0",
      "model_name": "ButtonStyleModel",
      "state": {}
     },
     "8dd6e605ea644ee38853c533ad0aefb8": {
      "model_module": "@jupyter-widgets/controls",
      "model_module_version": "1.5.0",
      "model_name": "ProgressStyleModel",
      "state": {
       "description_width": ""
      }
     },
     "8de6883df54148578d70d6261e32c0bd": {
      "model_module": "@jupyter-widgets/controls",
      "model_module_version": "1.5.0",
      "model_name": "DescriptionStyleModel",
      "state": {
       "description_width": ""
      }
     },
     "8e12f70036bd4b24a2b3f095cc5415e3": {
      "model_module": "@jupyter-widgets/controls",
      "model_module_version": "1.5.0",
      "model_name": "DropdownModel",
      "state": {
       "_options_labels": [
        "Any"
       ],
       "disabled": true,
       "index": 0,
       "layout": "IPY_MODEL_56b87d7d00c54e96938caab1e6aa41f1",
       "style": "IPY_MODEL_aa061a3380844b30bb8f3d6d1536aff6"
      }
     },
     "8e1f29967b9f4cefbb533526337cc476": {
      "model_module": "@jupyter-widgets/controls",
      "model_module_version": "1.5.0",
      "model_name": "DescriptionStyleModel",
      "state": {
       "description_width": ""
      }
     },
     "8e3a3f4be312431cac7458a772f50b58": {
      "model_module": "@jupyter-widgets/controls",
      "model_module_version": "1.5.0",
      "model_name": "HTMLModel",
      "state": {
       "layout": "IPY_MODEL_20f6dcbf774042b0864da4643f059e19",
       "style": "IPY_MODEL_f8f9813f9c6842e7ada4469963645b68",
       "value": "<b>Task Name</b>"
      }
     },
     "8e5edf3950ba4b379e56415e7391f559": {
      "model_module": "@jupyter-widgets/controls",
      "model_module_version": "1.5.0",
      "model_name": "IntProgressModel",
      "state": {
       "layout": "IPY_MODEL_e9509dcb9245485f8a86c164905a7175",
       "style": "IPY_MODEL_c304d6ddbf08421695294fc04fdf64e1",
       "value": 30
      }
     },
     "8e79f62f166340f98514860dddec9f41": {
      "model_module": "@jupyter-widgets/controls",
      "model_module_version": "1.5.0",
      "model_name": "ButtonStyleModel",
      "state": {}
     },
     "8e8a194e1d2749dbb0e6fb44d244bb87": {
      "model_module": "@jupyter-widgets/base",
      "model_module_version": "1.2.0",
      "model_name": "LayoutModel",
      "state": {
       "height": "32px",
       "overflow": "visible",
       "width": "100%"
      }
     },
     "8e9f0a155b0649f7a04676313a4c6e80": {
      "model_module": "@jupyter-widgets/controls",
      "model_module_version": "1.5.0",
      "model_name": "DescriptionStyleModel",
      "state": {
       "description_width": ""
      }
     },
     "8ea54b08dab8427495aa1d8521f321fd": {
      "model_module": "@jupyter-widgets/base",
      "model_module_version": "1.2.0",
      "model_name": "LayoutModel",
      "state": {
       "height": "32px",
       "overflow": "visible",
       "width": "100%"
      }
     },
     "8eca1375ca874ea0b987a3300368359b": {
      "model_module": "@jupyter-widgets/base",
      "model_module_version": "1.2.0",
      "model_name": "LayoutModel",
      "state": {
       "width": "60px"
      }
     },
     "8ed067469b394b178b16a2f56b1f36ac": {
      "model_module": "@jupyter-widgets/controls",
      "model_module_version": "1.5.0",
      "model_name": "ProgressStyleModel",
      "state": {
       "description_width": ""
      }
     },
     "8ee1870c8f2e41ccbfa6cb6e837ef8ca": {
      "model_module": "@jupyter-widgets/controls",
      "model_module_version": "1.5.0",
      "model_name": "HBoxModel",
      "state": {
       "children": [
        "IPY_MODEL_4f6883ff00a94892a398efa159e4f1e3",
        "IPY_MODEL_654f48fed9b8427989470d2423e52b52",
        "IPY_MODEL_eb2b508eb41d4db9b5e73a9c6036bc32",
        "IPY_MODEL_4a843552549b40949bffe0592b282c27"
       ],
       "layout": "IPY_MODEL_05961dfb4666423cba6fbe8480e11ded"
      }
     },
     "8ee4ea34ed4c485ab4715d701e0ff4e1": {
      "model_module": "@jupyter-widgets/controls",
      "model_module_version": "1.5.0",
      "model_name": "DescriptionStyleModel",
      "state": {
       "description_width": ""
      }
     },
     "8f04495737b2497c900e3240aecad741": {
      "model_module": "@jupyter-widgets/controls",
      "model_module_version": "1.5.0",
      "model_name": "VBoxModel",
      "state": {
       "children": [
        "IPY_MODEL_d8e6b74cbcab43f5a70ae10e0ee0d9c2",
        "IPY_MODEL_c945bf913a9f4a17812bd5ce8aeab08a",
        "IPY_MODEL_225893abead44228933379c04eed99e1",
        "IPY_MODEL_e236305b8ad147c39287da3f19cb6554",
        "IPY_MODEL_be81816b75cb46e2a712e79f647ea7b4",
        "IPY_MODEL_d0c6d5b9714c431da549bc866d2e4cec"
       ],
       "layout": "IPY_MODEL_9a536bd624de4cc5a20e126f58a0aa48"
      }
     },
     "8f2fc2aa3b3d4436bccfbe8afd76023f": {
      "model_module": "@jupyter-widgets/controls",
      "model_module_version": "1.5.0",
      "model_name": "HBoxModel",
      "state": {
       "children": [
        "IPY_MODEL_25f6b13889984ea78eda1f51638b4f9f",
        "IPY_MODEL_6363026150014bc7bf37c9ff383ae6ae",
        "IPY_MODEL_ddb7dcb3b6bf40d4a5c19f68680b57b7",
        "IPY_MODEL_4124bf4c0ebc4d049c2cf4e0dec117e2"
       ],
       "layout": "IPY_MODEL_2e373e18c82e47bf8f0bd0ebff85dc99"
      }
     },
     "8f511ed7def14cac80664b03d087e737": {
      "model_module": "@jupyter-widgets/base",
      "model_module_version": "1.2.0",
      "model_name": "LayoutModel",
      "state": {
       "border": "3px solid white",
       "flex": "1 1 0%",
       "margin": "10px",
       "min_width": "400px",
       "overflow": "visible",
       "padding": "10px",
       "width": "auto"
      }
     },
     "8f690b22f42b49e5b090b20070f20231": {
      "model_module": "@jupyter-widgets/controls",
      "model_module_version": "1.5.0",
      "model_name": "LabelModel",
      "state": {
       "layout": "IPY_MODEL_b44ca83ed967497e80854dbb6fe4a3f8",
       "style": "IPY_MODEL_3819c7f2e6c94ef780a4d7fbcb78bf15",
       "value": "Kinetic Weapon:"
      }
     },
     "8f6cebd6e0ca403ba1fc91e4c3d8144c": {
      "model_module": "@jupyter-widgets/base",
      "model_module_version": "1.2.0",
      "model_name": "LayoutModel",
      "state": {
       "width": "60px"
      }
     },
     "8f82773d077f4b71b69a44851a92f213": {
      "model_module": "@jupyter-widgets/base",
      "model_module_version": "1.2.0",
      "model_name": "LayoutModel",
      "state": {
       "order": "-1",
       "overflow": "visible",
       "padding": "1px",
       "width": "0px"
      }
     },
     "8f90c516161a4b70b9e92334081ca632": {
      "model_module": "@jupyter-widgets/base",
      "model_module_version": "1.2.0",
      "model_name": "LayoutModel",
      "state": {}
     },
     "8faecb050cec45718b60054ffc03db2f": {
      "model_module": "@jupyter-widgets/controls",
      "model_module_version": "1.5.0",
      "model_name": "DescriptionStyleModel",
      "state": {
       "description_width": ""
      }
     },
     "8fc79435970c47a9858425ab05324062": {
      "model_module": "@jupyter-widgets/base",
      "model_module_version": "1.2.0",
      "model_name": "LayoutModel",
      "state": {
       "width": "60px"
      }
     },
     "8fd812b21e2e43e0b3f7012e69a88948": {
      "model_module": "@jupyter-widgets/controls",
      "model_module_version": "1.5.0",
      "model_name": "HBoxModel",
      "state": {
       "children": [
        "IPY_MODEL_cf511beb7e5a4d33aad5df4ce2e2bfd5",
        "IPY_MODEL_b5588e43cc6f40d48112947dcd1c78a1",
        "IPY_MODEL_1e827fa60cb84975b0a4079ea3a39a7d",
        "IPY_MODEL_b1e6667da6a04569bd6e8fc7c0b2f83d"
       ],
       "layout": "IPY_MODEL_3069522c2f1c437d874a3e7d6281963d"
      }
     },
     "8fecd1344e14464884f42ab5c7321f97": {
      "model_module": "@jupyter-widgets/base",
      "model_module_version": "1.2.0",
      "model_name": "LayoutModel",
      "state": {
       "width": "100px"
      }
     },
     "9016e8367cf84b238601e3696c4e3349": {
      "model_module": "@jupyter-widgets/controls",
      "model_module_version": "1.5.0",
      "model_name": "LabelModel",
      "state": {
       "layout": "IPY_MODEL_6275017122654bb9aa9f30e64159ce15",
       "style": "IPY_MODEL_19fe657ef1cb43fdb879dad735bb0a32",
       "value": "   objective"
      }
     },
     "90255e1aab764ee0bb98d82e6ea5c0e6": {
      "model_module": "@jupyter-widgets/controls",
      "model_module_version": "1.5.0",
      "model_name": "IntProgressModel",
      "state": {
       "layout": "IPY_MODEL_b273ded3617443479c7b1d3ccfc21558",
       "style": "IPY_MODEL_fc4286e932ef4fc283b5ab69da83e0fb",
       "value": 30
      }
     },
     "9045f7a8b3204f74abcc567d3f93c1e9": {
      "model_module": "@jupyter-widgets/controls",
      "model_module_version": "1.5.0",
      "model_name": "ButtonModel",
      "state": {
       "description": "EDIT",
       "layout": "IPY_MODEL_b52f76effe69407681cbfde6ce46bd6c",
       "style": "IPY_MODEL_6d01fef4b4c7478cadf255f27f5faebd"
      }
     },
     "904a16f5964748cda328b2b24a01f13a": {
      "model_module": "@jupyter-widgets/controls",
      "model_module_version": "1.5.0",
      "model_name": "HBoxModel",
      "state": {
       "children": [
        "IPY_MODEL_2c675cbd5acd43bbb817d064291416e2",
        "IPY_MODEL_7ce0fbbdd31048768bce790dc1e08339",
        "IPY_MODEL_8a5da9b8ac22477689ffac7d25f14a9a",
        "IPY_MODEL_1f64fc547a95439c84fb21f64fca22eb"
       ],
       "layout": "IPY_MODEL_6ac4af223d0e41aa9c1508aa472a76fb"
      }
     },
     "90784145f59142c7a78a80a6aed2e112": {
      "model_module": "@jupyter-widgets/controls",
      "model_module_version": "1.5.0",
      "model_name": "LabelModel",
      "state": {
       "layout": "IPY_MODEL_3fa526e9867c4f1aaefb7dc7f47f0595",
       "style": "IPY_MODEL_941b8837e34d435ba7c14ee4aa54609c",
       "value": "   objective"
      }
     },
     "90924e8f9cf64de19cc5f4e97ddc6025": {
      "model_module": "@jupyter-widgets/controls",
      "model_module_version": "1.5.0",
      "model_name": "ButtonModel",
      "state": {
       "layout": "IPY_MODEL_e08ccfc7b34d4066aaa68757a0a4ebfb",
       "style": "IPY_MODEL_1720c88fff1647ae8f7fcbfbaf8591c1"
      }
     },
     "9095b620be94434db9792126982c579d": {
      "model_module": "@jupyter-widgets/controls",
      "model_module_version": "1.5.0",
      "model_name": "ButtonStyleModel",
      "state": {}
     },
     "9097970f1d294bf09743b60452de93a2": {
      "model_module": "@jupyter-widgets/controls",
      "model_module_version": "1.5.0",
      "model_name": "LabelModel",
      "state": {
       "layout": "IPY_MODEL_2a183f07bf67482c83f945a8197ee3cc",
       "style": "IPY_MODEL_6daa0986260c491684f5c8da546b8c65",
       "value": "   objective"
      }
     },
     "90cb232a60c6496e90afc7b8ef05fcfb": {
      "model_module": "@jupyter-widgets/controls",
      "model_module_version": "1.5.0",
      "model_name": "HBoxModel",
      "state": {
       "children": [
        "IPY_MODEL_90f94056a3d744718f0d2ca03b695130",
        "IPY_MODEL_51cafd0f58444661b4288ac63c7f6935",
        "IPY_MODEL_9aea9c7f9ab94a46903c750f6f63906e",
        "IPY_MODEL_b43bd687b84949c6bd4d0a5df95859e7"
       ],
       "layout": "IPY_MODEL_2f7138d8777b4f3b8f21f5a3dd34b80a"
      }
     },
     "90d47cdb756241a7b40b990b85e91aa2": {
      "model_module": "@jupyter-widgets/controls",
      "model_module_version": "1.5.0",
      "model_name": "HBoxModel",
      "state": {
       "children": [
        "IPY_MODEL_e2cff70fab1a4339a0a1e67ca0cc5491",
        "IPY_MODEL_336868513dae47a0a7c5952e460a16e1",
        "IPY_MODEL_c2cbf512ce0b40c2a32f51e088b0b901",
        "IPY_MODEL_bf09e08745294c888f75f649d06ba6b0"
       ],
       "layout": "IPY_MODEL_0aeda80afbd443bfa5f4e83d21cc63a6"
      }
     },
     "90ef41b053584148a293c93c87fd9ee5": {
      "model_module": "@jupyter-widgets/controls",
      "model_module_version": "1.5.0",
      "model_name": "ButtonStyleModel",
      "state": {}
     },
     "90f94056a3d744718f0d2ca03b695130": {
      "model_module": "@jupyter-widgets/controls",
      "model_module_version": "1.5.0",
      "model_name": "ButtonModel",
      "state": {
       "layout": "IPY_MODEL_c3d706b437f749728015ac1b6550b678",
       "style": "IPY_MODEL_b52bf1ec7a3f41e08dfe6a39bcd4abb6"
      }
     },
     "910b133008b345e5921ace5a87529e29": {
      "model_module": "@jupyter-widgets/controls",
      "model_module_version": "1.5.0",
      "model_name": "ButtonModel",
      "state": {
       "layout": "IPY_MODEL_273b9cf1f40b49eda2bd5008e7f388d3",
       "style": "IPY_MODEL_eef25bd54dcd4b048698b84fed5f2031"
      }
     },
     "912688d661f94bf3954417cd9f8f05cc": {
      "model_module": "@jupyter-widgets/controls",
      "model_module_version": "1.5.0",
      "model_name": "IntProgressModel",
      "state": {
       "layout": "IPY_MODEL_22e301434a304e31b53f8f34ef8c8056",
       "style": "IPY_MODEL_b0b8596ab03f4a6a98cf2e076952a18f",
       "value": 30
      }
     },
     "913facef88164fa391167561ed444e81": {
      "model_module": "@jupyter-widgets/controls",
      "model_module_version": "1.5.0",
      "model_name": "LabelModel",
      "state": {
       "layout": "IPY_MODEL_b6dd222eabad4aaeb4ba82b7c14a99dd",
       "style": "IPY_MODEL_ce3c3880259c45cbab393cda37a972ce",
       "value": "   objective"
      }
     },
     "91404e6bfe0e49efab3c0f288f2251b2": {
      "model_module": "@jupyter-widgets/controls",
      "model_module_version": "1.5.0",
      "model_name": "LabelModel",
      "state": {
       "layout": "IPY_MODEL_2d404fef6b4e4378bd5c4f453d6f857c",
       "style": "IPY_MODEL_e26978331ea94d4082e50b7112bc9f44",
       "value": "   objective"
      }
     },
     "9166242ab287420597d6a1c5fb7b2dda": {
      "model_module": "@jupyter-widgets/controls",
      "model_module_version": "1.5.0",
      "model_name": "ButtonStyleModel",
      "state": {}
     },
     "91820c9216ba41f99b23622a9d1f6414": {
      "model_module": "@jupyter-widgets/base",
      "model_module_version": "1.2.0",
      "model_name": "LayoutModel",
      "state": {
       "height": "32px",
       "overflow": "visible",
       "width": "100%"
      }
     },
     "9185974c9592431c95b545dc5a588b66": {
      "model_module": "@jupyter-widgets/base",
      "model_module_version": "1.2.0",
      "model_name": "LayoutModel",
      "state": {
       "order": "-1",
       "overflow": "visible",
       "padding": "1px",
       "width": "0px"
      }
     },
     "91a109bd18704c59a4b69931a25af087": {
      "model_module": "@jupyter-widgets/controls",
      "model_module_version": "1.5.0",
      "model_name": "ButtonModel",
      "state": {
       "description": "EDIT",
       "layout": "IPY_MODEL_400bc5b89fa94583ae658f72659fcbc8",
       "style": "IPY_MODEL_49aa55e4ae2b4105a78a1b83ea8f643d"
      }
     },
     "91a1692812a1404abbcfecaa07cac859": {
      "model_module": "@jupyter-widgets/controls",
      "model_module_version": "1.5.0",
      "model_name": "LabelModel",
      "state": {
       "layout": "IPY_MODEL_697174e495d646a5b04fc3fdefa75116",
       "style": "IPY_MODEL_3f425d082e6a4d6b9ae7a781c70e25e7",
       "value": "   objective"
      }
     },
     "91bcd66ed181461c8e974ac506fe1a31": {
      "model_module": "@jupyter-widgets/controls",
      "model_module_version": "1.5.0",
      "model_name": "ProgressStyleModel",
      "state": {
       "description_width": ""
      }
     },
     "91c8f45660a44f3e87504db1471fb801": {
      "model_module": "@jupyter-widgets/controls",
      "model_module_version": "1.5.0",
      "model_name": "ButtonStyleModel",
      "state": {}
     },
     "91d920471938497896549223ae39fbb3": {
      "model_module": "@jupyter-widgets/controls",
      "model_module_version": "1.5.0",
      "model_name": "HBoxModel",
      "state": {
       "children": [
        "IPY_MODEL_7ed68fdae79c4e0c83a164ea600e0c8f",
        "IPY_MODEL_be58dba303294f7faa1b06a1c72c843b",
        "IPY_MODEL_88f783748b8540e98a69d8d492425f2e",
        "IPY_MODEL_cd721f3b977f4a9aace3bf9048d1aec7"
       ],
       "layout": "IPY_MODEL_f614dd234bde49f4b3457b37a80d171e"
      }
     },
     "91e64f6cc3714799b63fe6978b41853b": {
      "model_module": "@jupyter-widgets/controls",
      "model_module_version": "1.5.0",
      "model_name": "HBoxModel",
      "state": {
       "children": [
        "IPY_MODEL_c904fd905fa0412baa8b4164bc4d503e",
        "IPY_MODEL_69f08e320f2841a5926920e4b741396e"
       ],
       "layout": "IPY_MODEL_895d7a3fb381428d8cc14dddb316ad7b"
      }
     },
     "9216c8a6e177480593289cd114846633": {
      "model_module": "@jupyter-widgets/controls",
      "model_module_version": "1.5.0",
      "model_name": "DropdownModel",
      "state": {
       "_options_labels": [
        "Any"
       ],
       "disabled": true,
       "index": 0,
       "layout": "IPY_MODEL_27de6b728bae49b0a4b2fdd732570aae",
       "style": "IPY_MODEL_44b0461c7cfb4f9f9aa71319cea9a7f0"
      }
     },
     "92202d1369f843bf832c89b4f97897cf": {
      "model_module": "@jupyter-widgets/controls",
      "model_module_version": "1.5.0",
      "model_name": "ButtonStyleModel",
      "state": {}
     },
     "9231dee85b004d99b4ca8a33d78aa973": {
      "model_module": "@jupyter-widgets/base",
      "model_module_version": "1.2.0",
      "model_name": "LayoutModel",
      "state": {
       "order": "-1",
       "overflow": "visible",
       "padding": "1px",
       "width": "0px"
      }
     },
     "92682c24903c48cb9d54ba40df9b0593": {
      "model_module": "@jupyter-widgets/base",
      "model_module_version": "1.2.0",
      "model_name": "LayoutModel",
      "state": {
       "height": "32px",
       "order": "-2",
       "width": "32px"
      }
     },
     "9276f4d654ea43d88e28b66dfa0dddbe": {
      "model_module": "@jupyter-widgets/controls",
      "model_module_version": "1.5.0",
      "model_name": "ButtonModel",
      "state": {
       "layout": "IPY_MODEL_67f638e91a9a449da4a332d5d2792608",
       "style": "IPY_MODEL_40bd9b9b0e554c138736aa59e465f7b8"
      }
     },
     "9278d19cb3fa48c1b76eaf582f1d73d6": {
      "model_module": "@jupyter-widgets/base",
      "model_module_version": "1.2.0",
      "model_name": "LayoutModel",
      "state": {}
     },
     "9297715af1d24ced8c0c97ef52773ea0": {
      "model_module": "@jupyter-widgets/controls",
      "model_module_version": "1.5.0",
      "model_name": "ButtonStyleModel",
      "state": {}
     },
     "92a366b1d2d2412f9726d8302350dfe7": {
      "model_module": "@jupyter-widgets/controls",
      "model_module_version": "1.5.0",
      "model_name": "ButtonModel",
      "state": {
       "description": "EDIT",
       "layout": "IPY_MODEL_9487e44e140a46e192a09f39130767f7",
       "style": "IPY_MODEL_e5382cf2e7864e8caf52d2e42d1e8eeb"
      }
     },
     "92f32c5e11ed4fada9387206c81ecbc7": {
      "model_module": "@jupyter-widgets/controls",
      "model_module_version": "1.5.0",
      "model_name": "ButtonModel",
      "state": {
       "description": "EDIT",
       "layout": "IPY_MODEL_975aa23227b04e35a6ef8ca776accf86",
       "style": "IPY_MODEL_9314d4a101ca4a9fba9e331f1d6856f8"
      }
     },
     "92f52e8abd7843a096df14fb3dcf71e7": {
      "model_module": "@jupyter-widgets/base",
      "model_module_version": "1.2.0",
      "model_name": "LayoutModel",
      "state": {
       "height": "32px",
       "order": "-2",
       "width": "32px"
      }
     },
     "930344d99ec947508272cc1adae0398f": {
      "model_module": "@jupyter-widgets/controls",
      "model_module_version": "1.5.0",
      "model_name": "DescriptionStyleModel",
      "state": {
       "description_width": ""
      }
     },
     "9304d7313936402da0d7982e5b9f1ab8": {
      "model_module": "@jupyter-widgets/controls",
      "model_module_version": "1.5.0",
      "model_name": "HTMLModel",
      "state": {
       "layout": "IPY_MODEL_7bc5aa2511904638bd7d57e1e2a5935b",
       "style": "IPY_MODEL_27fe6e54c6804c149ccc573eeb381ea5",
       "value": "<font size=\"1\">Path/Path/Path/Path/</font size>"
      }
     },
     "9305e49602be461c900d1439adb23e51": {
      "model_module": "@jupyter-widgets/base",
      "model_module_version": "1.2.0",
      "model_name": "LayoutModel",
      "state": {
       "order": "-1",
       "overflow": "visible",
       "padding": "1px",
       "width": "0px"
      }
     },
     "9312bc3a20954730b9914b960f56eefb": {
      "model_module": "@jupyter-widgets/controls",
      "model_module_version": "1.5.0",
      "model_name": "ButtonStyleModel",
      "state": {}
     },
     "9314d4a101ca4a9fba9e331f1d6856f8": {
      "model_module": "@jupyter-widgets/controls",
      "model_module_version": "1.5.0",
      "model_name": "ButtonStyleModel",
      "state": {}
     },
     "93664f53b309438cbe5c7dcdf6d7e5a0": {
      "model_module": "@jupyter-widgets/controls",
      "model_module_version": "1.5.0",
      "model_name": "DescriptionStyleModel",
      "state": {
       "description_width": ""
      }
     },
     "93705f59954f4fbbb04088dac74390cb": {
      "model_module": "@jupyter-widgets/controls",
      "model_module_version": "1.5.0",
      "model_name": "ButtonModel",
      "state": {
       "layout": "IPY_MODEL_2ce240394d4945f79e0ea453ecb339de",
       "style": "IPY_MODEL_6ac39e7e3d83416cacf704416a857902"
      }
     },
     "937ae1ebc2254088b7feda5f9e1b4803": {
      "model_module": "@jupyter-widgets/base",
      "model_module_version": "1.2.0",
      "model_name": "LayoutModel",
      "state": {
       "height": "32px",
       "order": "-2",
       "width": "32px"
      }
     },
     "939e1ccdae2042549ed81de3d21641d4": {
      "model_module": "@jupyter-widgets/base",
      "model_module_version": "1.2.0",
      "model_name": "LayoutModel",
      "state": {
       "height": "32px",
       "order": "-2",
       "width": "32px"
      }
     },
     "93a2c34d35f64b1885a866737b6b5bd0": {
      "model_module": "@jupyter-widgets/controls",
      "model_module_version": "1.5.0",
      "model_name": "HTMLModel",
      "state": {
       "layout": "IPY_MODEL_1cd02ab9907c4de396502038a74942e8",
       "style": "IPY_MODEL_bae7254bcbf44618ac858f2177e0f408",
       "value": "<i>test test test test test test test test test test test test test test test test test test test test test test test test </i>"
      }
     },
     "93b27d80b17f42c6b69912062084a5db": {
      "model_module": "@jupyter-widgets/controls",
      "model_module_version": "1.5.0",
      "model_name": "ProgressStyleModel",
      "state": {
       "description_width": ""
      }
     },
     "93b99f0f63b443d4bf47adcaa9dd9097": {
      "model_module": "@jupyter-widgets/controls",
      "model_module_version": "1.5.0",
      "model_name": "HBoxModel",
      "state": {
       "children": [
        "IPY_MODEL_29d99c05240c4dafadf1bddf5bacd26e",
        "IPY_MODEL_4728a7600fce4bd2bfc5e65075d05223",
        "IPY_MODEL_6eb441da0c484a3395c93556810cd453",
        "IPY_MODEL_1e3d50c15f654a8996ef593dbab69436"
       ],
       "layout": "IPY_MODEL_13a930de03634554b43b9adc1207c3a3"
      }
     },
     "93c5fba108394f24a86b4545a36b7fde": {
      "model_module": "@jupyter-widgets/controls",
      "model_module_version": "1.5.0",
      "model_name": "ButtonModel",
      "state": {
       "description": "EDIT",
       "layout": "IPY_MODEL_f08cf46c32644eb58c85747baab188e4",
       "style": "IPY_MODEL_d03b05b15fae420e88049b60b46adfcf"
      }
     },
     "93d0a21662504e56ad30d274fdcd3902": {
      "model_module": "@jupyter-widgets/base",
      "model_module_version": "1.2.0",
      "model_name": "LayoutModel",
      "state": {}
     },
     "93e9edd0a11d4fa9bf322ff447d80ad1": {
      "model_module": "@jupyter-widgets/controls",
      "model_module_version": "1.5.0",
      "model_name": "ButtonStyleModel",
      "state": {}
     },
     "9403568a69be4dad80a1986f99fb11eb": {
      "model_module": "@jupyter-widgets/controls",
      "model_module_version": "1.5.0",
      "model_name": "ButtonModel",
      "state": {
       "description": "EDIT",
       "layout": "IPY_MODEL_2c9d11719c074ecbbf89b4a3bebba04a",
       "style": "IPY_MODEL_2945f8fb4b8d461e94fa06c5bea7b232"
      }
     },
     "941b8837e34d435ba7c14ee4aa54609c": {
      "model_module": "@jupyter-widgets/controls",
      "model_module_version": "1.5.0",
      "model_name": "DescriptionStyleModel",
      "state": {
       "description_width": ""
      }
     },
     "942108f6f1694d20a963b410fc9ca8a7": {
      "model_module": "@jupyter-widgets/controls",
      "model_module_version": "1.5.0",
      "model_name": "DescriptionStyleModel",
      "state": {
       "description_width": ""
      }
     },
     "94316d082c9b4e0096aa3443836a98e9": {
      "model_module": "@jupyter-widgets/controls",
      "model_module_version": "1.5.0",
      "model_name": "DescriptionStyleModel",
      "state": {
       "description_width": ""
      }
     },
     "9467bd3d168047dba7c9fa7149404b27": {
      "model_module": "@jupyter-widgets/base",
      "model_module_version": "1.2.0",
      "model_name": "LayoutModel",
      "state": {}
     },
     "9487e44e140a46e192a09f39130767f7": {
      "model_module": "@jupyter-widgets/base",
      "model_module_version": "1.2.0",
      "model_name": "LayoutModel",
      "state": {
       "width": "60px"
      }
     },
     "948bf70e38184945a42843ebcdf9efb8": {
      "model_module": "@jupyter-widgets/controls",
      "model_module_version": "1.5.0",
      "model_name": "ButtonModel",
      "state": {
       "layout": "IPY_MODEL_a94f246cd2204982990e98358d52415a",
       "style": "IPY_MODEL_3b36043821494c19a075702aa0b0124e"
      }
     },
     "9491928170a546d28f1da1d2936fe0c8": {
      "model_module": "@jupyter-widgets/base",
      "model_module_version": "1.2.0",
      "model_name": "LayoutModel",
      "state": {
       "height": "32px",
       "overflow": "visible",
       "width": "100%"
      }
     },
     "9496378047b64901af4ad8c33eb8f190": {
      "model_module": "@jupyter-widgets/base",
      "model_module_version": "1.2.0",
      "model_name": "LayoutModel",
      "state": {
       "border": "3px solid white",
       "flex": "1 1 0%",
       "margin": "10px",
       "min_width": "400px",
       "overflow": "visible",
       "padding": "10px",
       "width": "auto"
      }
     },
     "949aa6c876904b09a89ffa461bda52f1": {
      "model_module": "@jupyter-widgets/base",
      "model_module_version": "1.2.0",
      "model_name": "LayoutModel",
      "state": {
       "width": "60px"
      }
     },
     "949eda63ffa64a87a8aa9e66ebc14dc1": {
      "model_module": "@jupyter-widgets/controls",
      "model_module_version": "1.5.0",
      "model_name": "ProgressStyleModel",
      "state": {
       "description_width": ""
      }
     },
     "949fc101beb94e64ae4d58bb6a480b44": {
      "model_module": "@jupyter-widgets/controls",
      "model_module_version": "1.5.0",
      "model_name": "DescriptionStyleModel",
      "state": {
       "description_width": ""
      }
     },
     "94c32b77be8743bf9cbb869c4d1a3020": {
      "model_module": "@jupyter-widgets/controls",
      "model_module_version": "1.5.0",
      "model_name": "HBoxModel",
      "state": {
       "children": [
        "IPY_MODEL_948bf70e38184945a42843ebcdf9efb8",
        "IPY_MODEL_44214511d8944295854a39b2de967fc5",
        "IPY_MODEL_65a8e745af974af7a8c29b9f2f41b94e",
        "IPY_MODEL_8376da1208084773862325a04a1e1c78"
       ],
       "layout": "IPY_MODEL_cbeb1a6c00ad49debdd5384d0a191675"
      }
     },
     "94d8a42e659b473eab8512eacf0ce464": {
      "model_module": "@jupyter-widgets/controls",
      "model_module_version": "1.5.0",
      "model_name": "DescriptionStyleModel",
      "state": {
       "description_width": ""
      }
     },
     "94e054a392e7498d8eb3ab4469c24e47": {
      "model_module": "@jupyter-widgets/controls",
      "model_module_version": "1.5.0",
      "model_name": "ButtonStyleModel",
      "state": {}
     },
     "94f601978cc24876bb6b6f441415b51a": {
      "model_module": "@jupyter-widgets/controls",
      "model_module_version": "1.5.0",
      "model_name": "ProgressStyleModel",
      "state": {
       "description_width": ""
      }
     },
     "94f80a480de24edb8bcd395aa6d5ff4c": {
      "model_module": "@jupyter-widgets/controls",
      "model_module_version": "1.5.0",
      "model_name": "LabelModel",
      "state": {
       "layout": "IPY_MODEL_374350e5afe341f58118a51e6e9744bf",
       "style": "IPY_MODEL_c3d6ff3d23a04de7ae7fc2cc3d67c357",
       "value": "   objective"
      }
     },
     "95067ab7fd874de8a1b4efafe145682a": {
      "model_module": "@jupyter-widgets/controls",
      "model_module_version": "1.5.0",
      "model_name": "ButtonModel",
      "state": {
       "layout": "IPY_MODEL_01de178c24c34cad96781c35f8a890c4",
       "style": "IPY_MODEL_834499e3d06744cd87f2b2d4eabdc1fc"
      }
     },
     "950cc19258834c66965a06a3d8ef237f": {
      "model_module": "@jupyter-widgets/base",
      "model_module_version": "1.2.0",
      "model_name": "LayoutModel",
      "state": {}
     },
     "95356facd5624eacbb417a5bcdf510ef": {
      "model_module": "@jupyter-widgets/controls",
      "model_module_version": "1.5.0",
      "model_name": "HTMLModel",
      "state": {
       "layout": "IPY_MODEL_7bace59f880f42fda795f53751b8ee60",
       "style": "IPY_MODEL_2a286a4c7ad34b3a9f39c31bd7dd6d5b",
       "value": "<b>Gear Options</b>"
      }
     },
     "953d878047914d9ab09a33fdd751f451": {
      "model_module": "@jupyter-widgets/controls",
      "model_module_version": "1.5.0",
      "model_name": "IntProgressModel",
      "state": {
       "layout": "IPY_MODEL_21e78cc6d350461eabaa0dfdf47238ff",
       "style": "IPY_MODEL_7835f10b46e943afa9b6fc9417bf1d28",
       "value": 30
      }
     },
     "95401356cb5c462a8871b45bf3b6d8f6": {
      "model_module": "@jupyter-widgets/base",
      "model_module_version": "1.2.0",
      "model_name": "LayoutModel",
      "state": {
       "order": "-1",
       "overflow": "visible",
       "padding": "1px",
       "width": "0px"
      }
     },
     "9571adaea90247f19fcb135a8dd81dfb": {
      "model_module": "@jupyter-widgets/controls",
      "model_module_version": "1.5.0",
      "model_name": "DescriptionStyleModel",
      "state": {
       "description_width": ""
      }
     },
     "9586fde64d6142a98b2cb7c5802b2f15": {
      "model_module": "@jupyter-widgets/controls",
      "model_module_version": "1.5.0",
      "model_name": "ButtonStyleModel",
      "state": {}
     },
     "959cea96a43e40ceb959520204a8cbde": {
      "model_module": "@jupyter-widgets/controls",
      "model_module_version": "1.5.0",
      "model_name": "ProgressStyleModel",
      "state": {
       "description_width": ""
      }
     },
     "95b891c8d6f04bfbb565ebda32c7c272": {
      "model_module": "@jupyter-widgets/base",
      "model_module_version": "1.2.0",
      "model_name": "LayoutModel",
      "state": {
       "order": "-1",
       "overflow": "visible",
       "padding": "1px",
       "width": "0px"
      }
     },
     "9607ab6f892b40a680a58dda290bfee4": {
      "model_module": "@jupyter-widgets/base",
      "model_module_version": "1.2.0",
      "model_name": "LayoutModel",
      "state": {
       "height": "32px",
       "order": "-2",
       "width": "32px"
      }
     },
     "961e32bb57484bd2bdf113baa4d343c7": {
      "model_module": "@jupyter-widgets/controls",
      "model_module_version": "1.5.0",
      "model_name": "ProgressStyleModel",
      "state": {
       "description_width": ""
      }
     },
     "9633828558ab400b930251eb744ae471": {
      "model_module": "@jupyter-widgets/base",
      "model_module_version": "1.2.0",
      "model_name": "LayoutModel",
      "state": {
       "height": "32px",
       "overflow": "visible",
       "width": "100%"
      }
     },
     "965faa38e7944af981b4f49d4d322519": {
      "model_module": "@jupyter-widgets/base",
      "model_module_version": "1.2.0",
      "model_name": "LayoutModel",
      "state": {
       "height": "32px",
       "overflow": "visible",
       "width": "100%"
      }
     },
     "9666a6c3d0cf485ca548a7846afa3a4f": {
      "model_module": "@jupyter-widgets/controls",
      "model_module_version": "1.5.0",
      "model_name": "ButtonStyleModel",
      "state": {}
     },
     "96744a54a80c49ef9c872f24a7c1e45a": {
      "model_module": "@jupyter-widgets/base",
      "model_module_version": "1.2.0",
      "model_name": "LayoutModel",
      "state": {
       "order": "-1",
       "overflow": "visible",
       "padding": "1px",
       "width": "0px"
      }
     },
     "968e939b462d43579ed611a9d832ea38": {
      "model_module": "@jupyter-widgets/controls",
      "model_module_version": "1.5.0",
      "model_name": "ButtonStyleModel",
      "state": {}
     },
     "969a3cabc6e74222967e2c8d4960634e": {
      "model_module": "@jupyter-widgets/base",
      "model_module_version": "1.2.0",
      "model_name": "LayoutModel",
      "state": {
       "height": "32px",
       "order": "-2",
       "width": "32px"
      }
     },
     "969c166cf1014dea9372eb22688cb1d1": {
      "model_module": "@jupyter-widgets/controls",
      "model_module_version": "1.5.0",
      "model_name": "DescriptionStyleModel",
      "state": {
       "description_width": ""
      }
     },
     "96a44fd1ce4a4bb8b0f0dcbfdcf4cea9": {
      "model_module": "@jupyter-widgets/base",
      "model_module_version": "1.2.0",
      "model_name": "LayoutModel",
      "state": {}
     },
     "96b3bf27a0e84a89856dc79733274d4d": {
      "model_module": "@jupyter-widgets/controls",
      "model_module_version": "1.5.0",
      "model_name": "HTMLModel",
      "state": {
       "layout": "IPY_MODEL_c26edabddf3f4af9bae80ce087545f2b",
       "style": "IPY_MODEL_c5c1f5d85334463abe35467c14e1a7ae",
       "value": "<b>Class Options</b>"
      }
     },
     "96d6665030f6488db7d1bab9fa0d2d2a": {
      "model_module": "@jupyter-widgets/base",
      "model_module_version": "1.2.0",
      "model_name": "LayoutModel",
      "state": {
       "width": "60px"
      }
     },
     "96ec89bd76f743e4b27595db5b9a2c69": {
      "model_module": "@jupyter-widgets/base",
      "model_module_version": "1.2.0",
      "model_name": "LayoutModel",
      "state": {
       "height": "32px",
       "order": "-2",
       "width": "32px"
      }
     },
     "97099428863544d2bbcf67005311db64": {
      "model_module": "@jupyter-widgets/controls",
      "model_module_version": "1.5.0",
      "model_name": "IntProgressModel",
      "state": {
       "layout": "IPY_MODEL_3feb67b7fcfd4713b246fdfaab9e5dd7",
       "style": "IPY_MODEL_cc46601e8b554ae78dd3ef38a45cf974",
       "value": 30
      }
     },
     "97288330667746fab2a262ea23715980": {
      "model_module": "@jupyter-widgets/controls",
      "model_module_version": "1.5.0",
      "model_name": "LabelModel",
      "state": {
       "layout": "IPY_MODEL_c3067c0828db427b8b97f4f6143c2be3",
       "style": "IPY_MODEL_6a6f3098ed1549cc8335e81844cf8f30",
       "value": "   objective"
      }
     },
     "97299c09c7a0496d9c8ae8e4bb014273": {
      "model_module": "@jupyter-widgets/controls",
      "model_module_version": "1.5.0",
      "model_name": "HTMLModel",
      "state": {
       "layout": "IPY_MODEL_c6ca232f95d44e0d9aeab70d2c9c7e98",
       "style": "IPY_MODEL_f6862c407532473982cb82c2484001d0",
       "value": "<b>Task Name</b>"
      }
     },
     "973e13228e24456ea4632570714e8854": {
      "model_module": "@jupyter-widgets/base",
      "model_module_version": "1.2.0",
      "model_name": "LayoutModel",
      "state": {}
     },
     "973f25b813354166b66b46722ed99963": {
      "model_module": "@jupyter-widgets/base",
      "model_module_version": "1.2.0",
      "model_name": "LayoutModel",
      "state": {
       "order": "-1",
       "overflow": "visible",
       "padding": "1px",
       "width": "0px"
      }
     },
     "97423cb4391a422c88b49d9e78f72786": {
      "model_module": "@jupyter-widgets/controls",
      "model_module_version": "1.5.0",
      "model_name": "ButtonModel",
      "state": {
       "description": "EDIT",
       "layout": "IPY_MODEL_aa6ac28d95f84888af47bd202d3c7484",
       "style": "IPY_MODEL_ed3647c208fc4a4a8861f607060353c9"
      }
     },
     "9745cf807c274071aedfe9e01bbfd38b": {
      "model_module": "@jupyter-widgets/base",
      "model_module_version": "1.2.0",
      "model_name": "LayoutModel",
      "state": {}
     },
     "974a17e21e204e078b9d69d4cb1947a6": {
      "model_module": "@jupyter-widgets/base",
      "model_module_version": "1.2.0",
      "model_name": "LayoutModel",
      "state": {
       "display": "flex",
       "flex_flow": "row wrap"
      }
     },
     "975aa23227b04e35a6ef8ca776accf86": {
      "model_module": "@jupyter-widgets/base",
      "model_module_version": "1.2.0",
      "model_name": "LayoutModel",
      "state": {
       "width": "60px"
      }
     },
     "9770921d3866415091686282b16209c9": {
      "model_module": "@jupyter-widgets/controls",
      "model_module_version": "1.5.0",
      "model_name": "IntProgressModel",
      "state": {
       "layout": "IPY_MODEL_c5a85b51b92e4d41a10f6cc348756e93",
       "style": "IPY_MODEL_6b3d0d0f4f074821b71304d937f2a105",
       "value": 30
      }
     },
     "97797b49bf16407e83c48ec05337ab78": {
      "model_module": "@jupyter-widgets/controls",
      "model_module_version": "1.5.0",
      "model_name": "HBoxModel",
      "state": {
       "children": [
        "IPY_MODEL_a7980c9a83154a9cb8a18957d60346c8",
        "IPY_MODEL_912688d661f94bf3954417cd9f8f05cc",
        "IPY_MODEL_b13237ceb7944e3ba4b90208e1a314c0",
        "IPY_MODEL_4db8862745604caf85022614e5d569ad"
       ],
       "layout": "IPY_MODEL_110cafad8cb94abcaad956960934dc63"
      }
     },
     "977ba821bdac4e0e8aa6e38bf3354f4c": {
      "model_module": "@jupyter-widgets/base",
      "model_module_version": "1.2.0",
      "model_name": "LayoutModel",
      "state": {
       "width": "60px"
      }
     },
     "978b3974ce474f228f2f4c896475134c": {
      "model_module": "@jupyter-widgets/controls",
      "model_module_version": "1.5.0",
      "model_name": "HTMLModel",
      "state": {
       "layout": "IPY_MODEL_ff54b56ae62e464289184e66f840b720",
       "style": "IPY_MODEL_e083998980b84a4b8f0708db8ce3d845",
       "value": "<b>Task Name</b>"
      }
     },
     "97b5d51118a54df892a93a35ecab44d7": {
      "model_module": "@jupyter-widgets/controls",
      "model_module_version": "1.5.0",
      "model_name": "ProgressStyleModel",
      "state": {
       "description_width": ""
      }
     },
     "97b7d90afb0c40f2a9d07527746291c6": {
      "model_module": "@jupyter-widgets/controls",
      "model_module_version": "1.5.0",
      "model_name": "HBoxModel",
      "state": {
       "children": [
        "IPY_MODEL_a2fbcfa8d18e4427b7372bff9ac0136b",
        "IPY_MODEL_3ff91f1d53934dc3881a4f6129e67c4a",
        "IPY_MODEL_4b1e347cc5fb4d9bbba05661f662fb44",
        "IPY_MODEL_65a696bb6b5849748f962dd81a12843f"
       ],
       "layout": "IPY_MODEL_1fb19451f9c641db9add3cd3cb74c69b"
      }
     },
     "97d888bfd7044875a7e2268ca7df609c": {
      "model_module": "@jupyter-widgets/controls",
      "model_module_version": "1.5.0",
      "model_name": "DescriptionStyleModel",
      "state": {
       "description_width": ""
      }
     },
     "97f30c8f64b3459d99c2fb4eba94512e": {
      "model_module": "@jupyter-widgets/base",
      "model_module_version": "1.2.0",
      "model_name": "LayoutModel",
      "state": {
       "overflow": "visible",
       "width": "100%"
      }
     },
     "97f7baf00cde43f3b4c229f276972c07": {
      "model_module": "@jupyter-widgets/controls",
      "model_module_version": "1.5.0",
      "model_name": "IntProgressModel",
      "state": {
       "layout": "IPY_MODEL_f14f13182d7b4ec2909ff8a91b090762",
       "style": "IPY_MODEL_4784074b8d284f729299c572f1dea36d",
       "value": 30
      }
     },
     "97f7fc6b83a14797bc4cef0072b4b525": {
      "model_module": "@jupyter-widgets/controls",
      "model_module_version": "1.5.0",
      "model_name": "VBoxModel",
      "state": {
       "children": [
        "IPY_MODEL_ed3217d4da6e42028d6e3e0b3d4346d4",
        "IPY_MODEL_2ea11713926d4eeaa427825d89d5a8ca",
        "IPY_MODEL_2539225d27c5473ca8efa82d2bdcb797",
        "IPY_MODEL_1bcf3214558b443ab1a0745bc7cbd8e4"
       ],
       "layout": "IPY_MODEL_805acb428fe84b64b0ab3418ae14c806"
      }
     },
     "981325dbfbd741dda156b31e8e8c7f77": {
      "model_module": "@jupyter-widgets/base",
      "model_module_version": "1.2.0",
      "model_name": "LayoutModel",
      "state": {}
     },
     "9815c69e944c4e3c9c71fee3d958dc15": {
      "model_module": "@jupyter-widgets/controls",
      "model_module_version": "1.5.0",
      "model_name": "HTMLModel",
      "state": {
       "layout": "IPY_MODEL_41b1c7cfc43a4db0a5cd5ebe470690f9",
       "style": "IPY_MODEL_6802dcf30dc3409eb96dbca47b22ac75",
       "value": "<i>test test test test test test test test test test test test test test test test test test test test test test test test </i>"
      }
     },
     "9821c234e5e64abf9ecf3de961791b86": {
      "model_module": "@jupyter-widgets/controls",
      "model_module_version": "1.5.0",
      "model_name": "HTMLModel",
      "state": {
       "layout": "IPY_MODEL_f9e55d2e115b4228896e13be1ac6408a",
       "style": "IPY_MODEL_e0d3d0ab3de748a98cd88e5114182e9f",
       "value": "<b>Activity Options</b>"
      }
     },
     "9841642d674f48c880a0a5241f84b45d": {
      "model_module": "@jupyter-widgets/base",
      "model_module_version": "1.2.0",
      "model_name": "LayoutModel",
      "state": {}
     },
     "984dbd4babec4c9e955fcd8fa671cc74": {
      "model_module": "@jupyter-widgets/controls",
      "model_module_version": "1.5.0",
      "model_name": "ButtonStyleModel",
      "state": {}
     },
     "9869cf701a314413a5c082a221a622a8": {
      "model_module": "@jupyter-widgets/base",
      "model_module_version": "1.2.0",
      "model_name": "LayoutModel",
      "state": {
       "width": "60px"
      }
     },
     "986e420de80c4fc894bdbbccd99fa143": {
      "model_module": "@jupyter-widgets/base",
      "model_module_version": "1.2.0",
      "model_name": "LayoutModel",
      "state": {
       "width": "60px"
      }
     },
     "9879d0d52d6046abb3090d4cc8ddc780": {
      "model_module": "@jupyter-widgets/controls",
      "model_module_version": "1.5.0",
      "model_name": "LabelModel",
      "state": {
       "layout": "IPY_MODEL_783246bcaf154977a593a9daf1f7248f",
       "style": "IPY_MODEL_12d1b9e3316043c1a13dd3abfff997d7",
       "value": "   objective"
      }
     },
     "98995f11e6834cb89b4f581605dcf4a4": {
      "model_module": "@jupyter-widgets/controls",
      "model_module_version": "1.5.0",
      "model_name": "LabelModel",
      "state": {
       "layout": "IPY_MODEL_eaa415ba126444af9ad8e54bd0a1ccc6",
       "style": "IPY_MODEL_8666e21e9903420d8071328f2c453bbb",
       "value": "   objective"
      }
     },
     "98b4ddcfb3b84a338a6ad155c02f1949": {
      "model_module": "@jupyter-widgets/controls",
      "model_module_version": "1.5.0",
      "model_name": "HTMLModel",
      "state": {
       "layout": "IPY_MODEL_eab1bf1eac194c24b322968c907bcae0",
       "style": "IPY_MODEL_f54df1d4a8624bef8b36dc7b36d7d4d3",
       "value": "<b>Task Name</b>"
      }
     },
     "98bc7c9d659844fb99e4f50ffa1c384c": {
      "model_module": "@jupyter-widgets/controls",
      "model_module_version": "1.5.0",
      "model_name": "DescriptionStyleModel",
      "state": {
       "description_width": ""
      }
     },
     "98bd617b471541768e4d148e030bdc43": {
      "model_module": "@jupyter-widgets/base",
      "model_module_version": "1.2.0",
      "model_name": "LayoutModel",
      "state": {
       "height": "32px",
       "order": "-2",
       "width": "32px"
      }
     },
     "98c92d16dfec427487bf99e8bd44affe": {
      "model_module": "@jupyter-widgets/base",
      "model_module_version": "1.2.0",
      "model_name": "LayoutModel",
      "state": {}
     },
     "98df142bf58b4d709212005caab531c2": {
      "model_module": "@jupyter-widgets/controls",
      "model_module_version": "1.5.0",
      "model_name": "ButtonModel",
      "state": {
       "layout": "IPY_MODEL_0f3b6a31356a4f72ba1e71dfd99f2a5d",
       "style": "IPY_MODEL_8352644352854c3db0d6702ef966d848"
      }
     },
     "990f0f41b2d14d87b2a85bff4b75e688": {
      "model_module": "@jupyter-widgets/base",
      "model_module_version": "1.2.0",
      "model_name": "LayoutModel",
      "state": {}
     },
     "992cf5084bf6404bb1b68d33cbe13a9a": {
      "model_module": "@jupyter-widgets/base",
      "model_module_version": "1.2.0",
      "model_name": "LayoutModel",
      "state": {}
     },
     "992d72fd20ac4914913a6ce4baaf2408": {
      "model_module": "@jupyter-widgets/controls",
      "model_module_version": "1.5.0",
      "model_name": "IntProgressModel",
      "state": {
       "layout": "IPY_MODEL_f5d2cec19c4d4c5e88db1859473a9f51",
       "style": "IPY_MODEL_f243b7d4331f4c389ba21de3776ae40b",
       "value": 30
      }
     },
     "994a82aae0f04c94a50a33a9760d331a": {
      "model_module": "@jupyter-widgets/base",
      "model_module_version": "1.2.0",
      "model_name": "LayoutModel",
      "state": {
       "overflow": "visible",
       "width": "100%"
      }
     },
     "994b0881a11544f28b5aeb5456ef5a8c": {
      "model_module": "@jupyter-widgets/base",
      "model_module_version": "1.2.0",
      "model_name": "LayoutModel",
      "state": {
       "width": "60px"
      }
     },
     "99539d8945ce4eedbda1d54dc771b007": {
      "model_module": "@jupyter-widgets/base",
      "model_module_version": "1.2.0",
      "model_name": "LayoutModel",
      "state": {
       "height": "32px",
       "order": "-2",
       "width": "32px"
      }
     },
     "995dc58cb9394038af5f9aa41880df9d": {
      "model_module": "@jupyter-widgets/base",
      "model_module_version": "1.2.0",
      "model_name": "LayoutModel",
      "state": {
       "width": "60px"
      }
     },
     "9977c354b0e540a0a7bb557d1fc1f67d": {
      "model_module": "@jupyter-widgets/controls",
      "model_module_version": "1.5.0",
      "model_name": "IntProgressModel",
      "state": {
       "layout": "IPY_MODEL_393bdc790a9f41be9ec60c108f6e0782",
       "style": "IPY_MODEL_482a1343321a4b70b3547d3da4cbf47b",
       "value": 30
      }
     },
     "999a4ac538104c538fa69472e3bddabf": {
      "model_module": "@jupyter-widgets/controls",
      "model_module_version": "1.5.0",
      "model_name": "HBoxModel",
      "state": {
       "children": [
        "IPY_MODEL_817e1ea3289244d3a9ad2328b88e6258",
        "IPY_MODEL_cd0f0fcf0f334ae9ba932d3284394779",
        "IPY_MODEL_0b4868dae93d4aebaf840d2cba923278",
        "IPY_MODEL_bc29361eec3a4b279f51fff46f42323e"
       ],
       "layout": "IPY_MODEL_35ad604c719742c3b7b29391e75f47f6"
      }
     },
     "99b49b1167ff44b998752c99c9b0642a": {
      "model_module": "@jupyter-widgets/base",
      "model_module_version": "1.2.0",
      "model_name": "LayoutModel",
      "state": {
       "height": "300px",
       "justify_content": "space-between"
      }
     },
     "99b5ef084abc449d9e9d04c03e25191f": {
      "model_module": "@jupyter-widgets/base",
      "model_module_version": "1.2.0",
      "model_name": "LayoutModel",
      "state": {
       "height": "32px",
       "overflow": "visible",
       "width": "100%"
      }
     },
     "99b8a4649c2a4f769e6c68d3f9dea226": {
      "model_module": "@jupyter-widgets/controls",
      "model_module_version": "1.5.0",
      "model_name": "ButtonStyleModel",
      "state": {}
     },
     "99ba1c7084ac40f89edd188a0e9997cc": {
      "model_module": "@jupyter-widgets/base",
      "model_module_version": "1.2.0",
      "model_name": "LayoutModel",
      "state": {
       "order": "-1",
       "overflow": "visible",
       "padding": "1px",
       "width": "0px"
      }
     },
     "99bc15e833304343b6511813edf56701": {
      "model_module": "@jupyter-widgets/base",
      "model_module_version": "1.2.0",
      "model_name": "LayoutModel",
      "state": {
       "order": "-1",
       "overflow": "visible",
       "padding": "1px",
       "width": "0px"
      }
     },
     "99cb26bc129d40a79dbbfadb393404bb": {
      "model_module": "@jupyter-widgets/controls",
      "model_module_version": "1.5.0",
      "model_name": "ButtonModel",
      "state": {
       "layout": "IPY_MODEL_67127891da1b4fc1bb4bea5e934d0ee7",
       "style": "IPY_MODEL_42aec83930f44b72ab211b02ce7aa486"
      }
     },
     "9a0b96e6d3f849aa8b04626462833eab": {
      "model_module": "@jupyter-widgets/controls",
      "model_module_version": "1.5.0",
      "model_name": "DescriptionStyleModel",
      "state": {
       "description_width": ""
      }
     },
     "9a17d19a54c34adab172a8a9c68aabbf": {
      "model_module": "@jupyter-widgets/base",
      "model_module_version": "1.2.0",
      "model_name": "LayoutModel",
      "state": {
       "width": "60px"
      }
     },
     "9a536bd624de4cc5a20e126f58a0aa48": {
      "model_module": "@jupyter-widgets/base",
      "model_module_version": "1.2.0",
      "model_name": "LayoutModel",
      "state": {}
     },
     "9a595c1973584066a3e3d72353184ba3": {
      "model_module": "@jupyter-widgets/controls",
      "model_module_version": "1.5.0",
      "model_name": "IntProgressModel",
      "state": {
       "layout": "IPY_MODEL_612b1cdaa4b94f7782a3968697137124",
       "style": "IPY_MODEL_739ddfb28f9e403cb4153bf1644663d1",
       "value": 30
      }
     },
     "9a5aa99e3012412ea84ee73631175512": {
      "model_module": "@jupyter-widgets/base",
      "model_module_version": "1.2.0",
      "model_name": "LayoutModel",
      "state": {
       "height": "32px",
       "order": "-2",
       "width": "32px"
      }
     },
     "9a6088e3a4ef4638b7b4f1e5fc90324b": {
      "model_module": "@jupyter-widgets/base",
      "model_module_version": "1.2.0",
      "model_name": "LayoutModel",
      "state": {
       "width": "60px"
      }
     },
     "9a62e28c3a134dfb8bc6c7420d9a5d8e": {
      "model_module": "@jupyter-widgets/base",
      "model_module_version": "1.2.0",
      "model_name": "LayoutModel",
      "state": {
       "order": "-1",
       "overflow": "visible",
       "padding": "1px",
       "width": "0px"
      }
     },
     "9a682ebe7f184deeb9b3e556e7263b8e": {
      "model_module": "@jupyter-widgets/controls",
      "model_module_version": "1.5.0",
      "model_name": "IntProgressModel",
      "state": {
       "layout": "IPY_MODEL_375fa7633d494980bd2112fb0347eb3b",
       "style": "IPY_MODEL_b6bebf7ddd094478acc8d7dba93d129c",
       "value": 30
      }
     },
     "9a6c0fe231254dbb98a66147d74e7e27": {
      "model_module": "@jupyter-widgets/controls",
      "model_module_version": "1.5.0",
      "model_name": "DescriptionStyleModel",
      "state": {
       "description_width": ""
      }
     },
     "9a8a3cbf3242478093616a953a574328": {
      "model_module": "@jupyter-widgets/controls",
      "model_module_version": "1.5.0",
      "model_name": "DescriptionStyleModel",
      "state": {
       "description_width": ""
      }
     },
     "9a8bf075e404440ab978e0a157074353": {
      "model_module": "@jupyter-widgets/controls",
      "model_module_version": "1.5.0",
      "model_name": "VBoxModel",
      "state": {
       "children": [
        "IPY_MODEL_082f91bc4a25426c81a7522ae6e6e730",
        "IPY_MODEL_88352797a28b44d78509c360c94f6290",
        "IPY_MODEL_8d3b33ca2be14569992004441e6bf00d",
        "IPY_MODEL_58afbee69d684298bb9a3dc0ce238e16",
        "IPY_MODEL_f1c41d15ab85470ba933e63c014c8012",
        "IPY_MODEL_d21457786e054b67b58fd0719d60a6ac"
       ],
       "layout": "IPY_MODEL_b79afbf9f0c9493783d025a6875f582a"
      }
     },
     "9a9de4cd1c434e9b8ea02ef7e690ff50": {
      "model_module": "@jupyter-widgets/controls",
      "model_module_version": "1.5.0",
      "model_name": "ButtonModel",
      "state": {
       "description": "EDIT",
       "layout": "IPY_MODEL_dcf4168945974d71a4d9f288038d82d8",
       "style": "IPY_MODEL_da41f88b4aac48ecbd9c8f42116a6a0d"
      }
     },
     "9aca63667369494eb8953258271f5a7d": {
      "model_module": "@jupyter-widgets/controls",
      "model_module_version": "1.5.0",
      "model_name": "ButtonModel",
      "state": {
       "description": "EDIT",
       "layout": "IPY_MODEL_2567b5d9cbe147bc832cd7517678a720",
       "style": "IPY_MODEL_7283010038e24c8da6b209b5f92cfa15"
      }
     },
     "9ad5819bc2b34e8ab00c6568ea12cabb": {
      "model_module": "@jupyter-widgets/controls",
      "model_module_version": "1.5.0",
      "model_name": "IntProgressModel",
      "state": {
       "layout": "IPY_MODEL_13d95862bd5b4495827e560e50175bd1",
       "style": "IPY_MODEL_bba696858bbb44e3be3263a0daa6bb7b",
       "value": 30
      }
     },
     "9ade569d1fb641828dfbc6cb1b6584fb": {
      "model_module": "@jupyter-widgets/controls",
      "model_module_version": "1.5.0",
      "model_name": "ButtonModel",
      "state": {
       "description": "EDIT",
       "layout": "IPY_MODEL_c5272a3533d34c95b944ee49e856d068",
       "style": "IPY_MODEL_cf0b45bdba07443ca07a0a4c44fd9d80"
      }
     },
     "9aea9c7f9ab94a46903c750f6f63906e": {
      "model_module": "@jupyter-widgets/controls",
      "model_module_version": "1.5.0",
      "model_name": "LabelModel",
      "state": {
       "layout": "IPY_MODEL_a2f71cef68b14ae8838942c1d88935b3",
       "style": "IPY_MODEL_c36871ee3f4f451a834db4390a87617e",
       "value": "   objective"
      }
     },
     "9b10130f34a74304b5fdd42a9ea0ed14": {
      "model_module": "@jupyter-widgets/base",
      "model_module_version": "1.2.0",
      "model_name": "LayoutModel",
      "state": {
       "height": "32px",
       "order": "-2",
       "width": "32px"
      }
     },
     "9b14c1ba09d6460c9b8601ada79117c5": {
      "model_module": "@jupyter-widgets/controls",
      "model_module_version": "1.5.0",
      "model_name": "HBoxModel",
      "state": {
       "children": [
        "IPY_MODEL_32a2c029d1a54d24ba456c56b198c1e1",
        "IPY_MODEL_228429a2da00468aa2305490309af9fe",
        "IPY_MODEL_85e168a2bcf04da993d6c21ef68437f3",
        "IPY_MODEL_f00f50e84371455296f2d777ceffdf75"
       ],
       "layout": "IPY_MODEL_ceb500c68d244424a605e912952896c6"
      }
     },
     "9b4b0542927f4d31ab48b15702d872ab": {
      "model_module": "@jupyter-widgets/controls",
      "model_module_version": "1.5.0",
      "model_name": "ButtonModel",
      "state": {
       "description": "EDIT",
       "layout": "IPY_MODEL_19d65758ca5c4f4e81e146fa8e37fce8",
       "style": "IPY_MODEL_f9fc6505c6604d479b92a42380935a4d"
      }
     },
     "9b51f78a7de84788ace5ef2a13d2ef33": {
      "model_module": "@jupyter-widgets/base",
      "model_module_version": "1.2.0",
      "model_name": "LayoutModel",
      "state": {
       "width": "60px"
      }
     },
     "9b554f70080949a38caeafc5a2ca65d2": {
      "model_module": "@jupyter-widgets/base",
      "model_module_version": "1.2.0",
      "model_name": "LayoutModel",
      "state": {
       "height": "32px",
       "order": "-2",
       "width": "32px"
      }
     },
     "9b574b2d6d87472fa9ba14593a99adf5": {
      "model_module": "@jupyter-widgets/controls",
      "model_module_version": "1.5.0",
      "model_name": "DescriptionStyleModel",
      "state": {
       "description_width": ""
      }
     },
     "9b5af9e15f84465f8022acb9e83d0382": {
      "model_module": "@jupyter-widgets/controls",
      "model_module_version": "1.5.0",
      "model_name": "IntProgressModel",
      "state": {
       "layout": "IPY_MODEL_4d6159ce82d74a61aa5e4fca27c65396",
       "style": "IPY_MODEL_9f434578d5694dc4b36fb9c2251aa170",
       "value": 30
      }
     },
     "9b8b711cfc6d46d482284893b17d991d": {
      "model_module": "@jupyter-widgets/base",
      "model_module_version": "1.2.0",
      "model_name": "LayoutModel",
      "state": {
       "height": "32px",
       "order": "-2",
       "width": "32px"
      }
     },
     "9ba4a40a44de4b249534492c8131e717": {
      "model_module": "@jupyter-widgets/controls",
      "model_module_version": "1.5.0",
      "model_name": "DescriptionStyleModel",
      "state": {
       "description_width": ""
      }
     },
     "9bc83c57b2ed44899953a2044820d5da": {
      "model_module": "@jupyter-widgets/base",
      "model_module_version": "1.2.0",
      "model_name": "LayoutModel",
      "state": {}
     },
     "9bf542bb883c4e80ae76170c02d8187a": {
      "model_module": "@jupyter-widgets/controls",
      "model_module_version": "1.5.0",
      "model_name": "ButtonStyleModel",
      "state": {}
     },
     "9bf702da25f7490b87e2b593bac101ff": {
      "model_module": "@jupyter-widgets/controls",
      "model_module_version": "1.5.0",
      "model_name": "ButtonModel",
      "state": {
       "description": "EDIT",
       "layout": "IPY_MODEL_949aa6c876904b09a89ffa461bda52f1",
       "style": "IPY_MODEL_5c11fa876dbc4be3b82751d088459648"
      }
     },
     "9c1a4786e1544720a7d4ded54293bb3b": {
      "model_module": "@jupyter-widgets/controls",
      "model_module_version": "1.5.0",
      "model_name": "ButtonStyleModel",
      "state": {}
     },
     "9c1ff24f8e70454d9e72ff9143e86034": {
      "model_module": "@jupyter-widgets/controls",
      "model_module_version": "1.5.0",
      "model_name": "LabelModel",
      "state": {
       "layout": "IPY_MODEL_b2d089a393d84782a4c407a1c12eb617",
       "style": "IPY_MODEL_43ecb1aef09d490cbda209c7c6a6ac33",
       "value": "   objective"
      }
     },
     "9c2b7ea6a0384df88c8cd053a82eeab9": {
      "model_module": "@jupyter-widgets/base",
      "model_module_version": "1.2.0",
      "model_name": "LayoutModel",
      "state": {
       "height": "32px",
       "overflow": "visible",
       "width": "100%"
      }
     },
     "9c39bd3db2954f5f90ef162ebde4a5f3": {
      "model_module": "@jupyter-widgets/controls",
      "model_module_version": "1.5.0",
      "model_name": "HTMLModel",
      "state": {
       "layout": "IPY_MODEL_4922df6121cc4ee6b4512ed717fd3c7f",
       "style": "IPY_MODEL_c3e3ca23964f4307b402dfe64442d6f6",
       "value": "<i>test test test test test test test test test test test test test test test test test test test test test test test test </i>"
      }
     },
     "9c47a6102f5a40b5af36a5bbb4c4d0b3": {
      "model_module": "@jupyter-widgets/controls",
      "model_module_version": "1.5.0",
      "model_name": "ButtonStyleModel",
      "state": {}
     },
     "9c6b3bd883e94a71894935999b518db6": {
      "model_module": "@jupyter-widgets/controls",
      "model_module_version": "1.5.0",
      "model_name": "ButtonModel",
      "state": {
       "layout": "IPY_MODEL_a4c63facffb944eab6f7762956010550",
       "style": "IPY_MODEL_60c4a0cfa5764a7b96a9c75957f3997c"
      }
     },
     "9c6d998a6c8f4e99b95daccd52276742": {
      "model_module": "@jupyter-widgets/controls",
      "model_module_version": "1.5.0",
      "model_name": "ProgressStyleModel",
      "state": {
       "description_width": ""
      }
     },
     "9c822db4e54c41609413f093aa4b2b07": {
      "model_module": "@jupyter-widgets/controls",
      "model_module_version": "1.5.0",
      "model_name": "IntProgressModel",
      "state": {
       "layout": "IPY_MODEL_8343b476659243459835cf1fe9183557",
       "style": "IPY_MODEL_c7feeb08323a4354ac63d93e6a4b0b3d",
       "value": 30
      }
     },
     "9c89e25370794b83a1554a54fe9e9ee9": {
      "model_module": "@jupyter-widgets/base",
      "model_module_version": "1.2.0",
      "model_name": "LayoutModel",
      "state": {
       "height": "32px",
       "overflow": "visible",
       "width": "100%"
      }
     },
     "9cfbbfd3f08c4f40ad3f465aed23d151": {
      "model_module": "@jupyter-widgets/controls",
      "model_module_version": "1.5.0",
      "model_name": "HBoxModel",
      "state": {
       "children": [
        "IPY_MODEL_191737fb35564d0dba50d5b7ad8d9ba6",
        "IPY_MODEL_517dc78e1be94a5cb4d5b8ece49f2c12",
        "IPY_MODEL_634adfef7d6a40888e3c84f83e68fc07",
        "IPY_MODEL_c35251061c74466798bf2ff789caf518"
       ],
       "layout": "IPY_MODEL_b2bd600d82a946f8b71d476dd434eeec"
      }
     },
     "9d003c3840ae4598a6294160dfb08abc": {
      "model_module": "@jupyter-widgets/controls",
      "model_module_version": "1.5.0",
      "model_name": "HBoxModel",
      "state": {
       "children": [
        "IPY_MODEL_563fc2290bef478eb56a786b5456ed61",
        "IPY_MODEL_5560f0a9061e433fac1fe588f2c3eaa4",
        "IPY_MODEL_d3c9934a5dad4184a9be6c2575bea760",
        "IPY_MODEL_d040e2f72454486fac313c1342c35083"
       ],
       "layout": "IPY_MODEL_24d6484f64594f518f488e0452db97f5"
      }
     },
     "9d19de54596c4f019fb73435a4e52bec": {
      "model_module": "@jupyter-widgets/base",
      "model_module_version": "1.2.0",
      "model_name": "LayoutModel",
      "state": {
       "width": "60px"
      }
     },
     "9d1deb0fd62b45da82c9ffae83f6c26a": {
      "model_module": "@jupyter-widgets/controls",
      "model_module_version": "1.5.0",
      "model_name": "HBoxModel",
      "state": {
       "children": [
        "IPY_MODEL_4c2bda8508cd458aa09141eb83e16f6b",
        "IPY_MODEL_cec6bee4dea34069b78b5b0967fc8210",
        "IPY_MODEL_856c11e029e44ec0b7ebe1bfd393f779",
        "IPY_MODEL_53cbe9294e464e818e2e019c44b8b220"
       ],
       "layout": "IPY_MODEL_c6b25ecb8fb04108bb757e3c8b006ea1"
      }
     },
     "9d2c6bc78c1d4fa19ec2d84c38eb3e88": {
      "model_module": "@jupyter-widgets/base",
      "model_module_version": "1.2.0",
      "model_name": "LayoutModel",
      "state": {
       "height": "32px",
       "overflow": "visible",
       "width": "100%"
      }
     },
     "9d67deb85e664ba8899dddb5419c115a": {
      "model_module": "@jupyter-widgets/controls",
      "model_module_version": "1.5.0",
      "model_name": "DropdownModel",
      "state": {
       "_options_labels": [
        "Any"
       ],
       "index": 0,
       "layout": "IPY_MODEL_56b87d7d00c54e96938caab1e6aa41f1",
       "style": "IPY_MODEL_83799cf6de6f41be87a9c5463b056857"
      }
     },
     "9d893cd130a54dd782ec0a7f2f6ebbd2": {
      "model_module": "@jupyter-widgets/base",
      "model_module_version": "1.2.0",
      "model_name": "LayoutModel",
      "state": {
       "height": "32px",
       "overflow": "visible",
       "width": "100%"
      }
     },
     "9d8c43c1f3ff4ef48a4a413681ba2a82": {
      "model_module": "@jupyter-widgets/base",
      "model_module_version": "1.2.0",
      "model_name": "LayoutModel",
      "state": {
       "height": "32px",
       "overflow": "visible",
       "width": "100%"
      }
     },
     "9dc813ecf208436eb444fbc8bdc6f684": {
      "model_module": "@jupyter-widgets/controls",
      "model_module_version": "1.5.0",
      "model_name": "ButtonStyleModel",
      "state": {}
     },
     "9dd759e0e990461d8d5950330ba24163": {
      "model_module": "@jupyter-widgets/base",
      "model_module_version": "1.2.0",
      "model_name": "LayoutModel",
      "state": {
       "width": "60px"
      }
     },
     "9e017e6ad0944a1ebdec468b44f5e46f": {
      "model_module": "@jupyter-widgets/base",
      "model_module_version": "1.2.0",
      "model_name": "LayoutModel",
      "state": {
       "order": "-1",
       "overflow": "visible",
       "padding": "1px",
       "width": "0px"
      }
     },
     "9e15d29f9eed4ac2a0157343ceaa1f73": {
      "model_module": "@jupyter-widgets/controls",
      "model_module_version": "1.5.0",
      "model_name": "ProgressStyleModel",
      "state": {
       "description_width": ""
      }
     },
     "9e1acdd58616450d8a88daf04dd1aabf": {
      "model_module": "@jupyter-widgets/controls",
      "model_module_version": "1.5.0",
      "model_name": "ButtonModel",
      "state": {
       "layout": "IPY_MODEL_f94bf3049ced4eddbe6177ad3058f0c5",
       "style": "IPY_MODEL_b32b77a002aa4462b8a3b6c817570573"
      }
     },
     "9e3e264e84d64a16abe791f029236f48": {
      "model_module": "@jupyter-widgets/base",
      "model_module_version": "1.2.0",
      "model_name": "LayoutModel",
      "state": {
       "border": "3px solid white",
       "flex": "1 1 0%",
       "margin": "10px",
       "min_width": "400px",
       "overflow": "visible",
       "padding": "10px",
       "width": "auto"
      }
     },
     "9e5be0601f8f4c6e86430ae0b894c570": {
      "model_module": "@jupyter-widgets/controls",
      "model_module_version": "1.5.0",
      "model_name": "ButtonModel",
      "state": {
       "description": "EDIT",
       "layout": "IPY_MODEL_7efe4e4b6f2d40a7880becfe08267ee1",
       "style": "IPY_MODEL_cbfa1a2106a4444e872253ae01d4203b"
      }
     },
     "9eaece3591b74fb5baa2abafd44e79dd": {
      "model_module": "@jupyter-widgets/base",
      "model_module_version": "1.2.0",
      "model_name": "LayoutModel",
      "state": {
       "overflow": "visible",
       "width": "100%"
      }
     },
     "9eda88db70d74e81a8af8a25a5d3c9e5": {
      "model_module": "@jupyter-widgets/controls",
      "model_module_version": "1.5.0",
      "model_name": "ButtonStyleModel",
      "state": {}
     },
     "9edb87c5274c41b084574d7cae100f02": {
      "model_module": "@jupyter-widgets/controls",
      "model_module_version": "1.5.0",
      "model_name": "IntProgressModel",
      "state": {
       "layout": "IPY_MODEL_d6aed83822c149fe9027e12648815513",
       "style": "IPY_MODEL_190c06c1f9614bbfb529638b72b56952",
       "value": 30
      }
     },
     "9ee0a09db8d5497da86bfad227d1dfd7": {
      "model_module": "@jupyter-widgets/controls",
      "model_module_version": "1.5.0",
      "model_name": "ButtonStyleModel",
      "state": {}
     },
     "9ef63849229548cda35903a623c1cb1f": {
      "model_module": "@jupyter-widgets/base",
      "model_module_version": "1.2.0",
      "model_name": "LayoutModel",
      "state": {}
     },
     "9f08e6f7dfe243628f085501e7dcc0e2": {
      "model_module": "@jupyter-widgets/controls",
      "model_module_version": "1.5.0",
      "model_name": "IntProgressModel",
      "state": {
       "layout": "IPY_MODEL_05a7f52dd9ac479fab809f07a78033fb",
       "style": "IPY_MODEL_baf4f3dcf84a42d38759ff4c8d4c3362",
       "value": 30
      }
     },
     "9f154bb96e6945839de35019c0a4be4d": {
      "model_module": "@jupyter-widgets/controls",
      "model_module_version": "1.5.0",
      "model_name": "ButtonModel",
      "state": {
       "description": "EDIT",
       "layout": "IPY_MODEL_5139025850654d869e2f3e36a807e63c",
       "style": "IPY_MODEL_a4bd2040bc43402283d65998cc92dca2"
      }
     },
     "9f1d7738692a4c8aa12cd0e5b3d3ddea": {
      "model_module": "@jupyter-widgets/controls",
      "model_module_version": "1.5.0",
      "model_name": "HBoxModel",
      "state": {
       "children": [
        "IPY_MODEL_9e1acdd58616450d8a88daf04dd1aabf",
        "IPY_MODEL_09bb47b0d3f04407a8cb85ca380c2fd8",
        "IPY_MODEL_aabdfd937f90409d93bbc53198208ef4",
        "IPY_MODEL_8c98d3d34436441f857c387afb3d9820"
       ],
       "layout": "IPY_MODEL_49977d2958c94793ba26cb4949397a24"
      }
     },
     "9f1ed4389c444ab993378bf11df6e8fd": {
      "model_module": "@jupyter-widgets/controls",
      "model_module_version": "1.5.0",
      "model_name": "DescriptionStyleModel",
      "state": {
       "description_width": ""
      }
     },
     "9f242dcb95cb4ec6be30c7caca236e42": {
      "model_module": "@jupyter-widgets/controls",
      "model_module_version": "1.5.0",
      "model_name": "IntProgressModel",
      "state": {
       "layout": "IPY_MODEL_475d7a815dc3487c9e51f8b752260b85",
       "style": "IPY_MODEL_682a656e9d7546c2b8af6eab501622dd",
       "value": 30
      }
     },
     "9f434578d5694dc4b36fb9c2251aa170": {
      "model_module": "@jupyter-widgets/controls",
      "model_module_version": "1.5.0",
      "model_name": "ProgressStyleModel",
      "state": {
       "description_width": ""
      }
     },
     "9f844e52832d4e77bff3876c6a7d639c": {
      "model_module": "@jupyter-widgets/controls",
      "model_module_version": "1.5.0",
      "model_name": "HBoxModel",
      "state": {
       "children": [
        "IPY_MODEL_fcc115e2be574e2e8f99e5a937b417ec",
        "IPY_MODEL_82fd714270e549f2b67a1b77a7c1bd5b",
        "IPY_MODEL_1e3f6d625cdb4dca813bd286aa8b290a",
        "IPY_MODEL_de64dc5c5ade4bfbbf73df24b192b88a"
       ],
       "layout": "IPY_MODEL_370c109cd1c44c7c9c1ce43a38c7b89c"
      }
     },
     "9f8caaa5c68443048e391bc4f4a150fd": {
      "model_module": "@jupyter-widgets/controls",
      "model_module_version": "1.5.0",
      "model_name": "ButtonStyleModel",
      "state": {}
     },
     "9f8d0b7d544644c58e92f76e3cacc801": {
      "model_module": "@jupyter-widgets/controls",
      "model_module_version": "1.5.0",
      "model_name": "ButtonModel",
      "state": {
       "layout": "IPY_MODEL_e51afefdd6024e00a394ab0eb47730b3",
       "style": "IPY_MODEL_6abc613e968340f291ca4a9a0336952d"
      }
     },
     "9f9282c8867f4202b472c619dd3ea3f0": {
      "model_module": "@jupyter-widgets/base",
      "model_module_version": "1.2.0",
      "model_name": "LayoutModel",
      "state": {}
     },
     "9fb3439214ae43c2910d510dfacdbde7": {
      "model_module": "@jupyter-widgets/controls",
      "model_module_version": "1.5.0",
      "model_name": "VBoxModel",
      "state": {
       "children": [
        "IPY_MODEL_aa455dbb70af4d359260c5a7b004947e",
        "IPY_MODEL_6f14e2502d4f403eadcfbe8ae0948fd0",
        "IPY_MODEL_d0e6c8a6665d4e7cb3bcf8ffc407cb65",
        "IPY_MODEL_299a8384b06e4273b81fb602de6f0a61",
        "IPY_MODEL_b4a3b66193b94d3397f28f5586944d1c",
        "IPY_MODEL_1be7bf0ba5624741b1a19d798d5b6b78"
       ],
       "layout": "IPY_MODEL_6e4a007d439d439e89037c99b3febaf9"
      }
     },
     "9fbd016e2fb54ba3b0dfc7a6bd433deb": {
      "model_module": "@jupyter-widgets/base",
      "model_module_version": "1.2.0",
      "model_name": "LayoutModel",
      "state": {
       "height": "32px",
       "overflow": "visible",
       "width": "100%"
      }
     },
     "9fcb54648b424d2c9566ece40693e2bf": {
      "model_module": "@jupyter-widgets/controls",
      "model_module_version": "1.5.0",
      "model_name": "ButtonModel",
      "state": {
       "layout": "IPY_MODEL_969a3cabc6e74222967e2c8d4960634e",
       "style": "IPY_MODEL_3fb9adfbee674946a27fe02c988b091b"
      }
     },
     "9fdc3154e8a54847b47108ed40a6dda1": {
      "model_module": "@jupyter-widgets/controls",
      "model_module_version": "1.5.0",
      "model_name": "ButtonStyleModel",
      "state": {}
     },
     "9fea64863b464852a3a8737f2cf7a57c": {
      "model_module": "@jupyter-widgets/controls",
      "model_module_version": "1.5.0",
      "model_name": "DropdownModel",
      "state": {
       "_options_labels": [
        "Any"
       ],
       "disabled": true,
       "index": 0,
       "layout": "IPY_MODEL_27de6b728bae49b0a4b2fdd732570aae",
       "style": "IPY_MODEL_db893e52e16d42d6b5c538dcc6e00e41"
      }
     },
     "9ff26521004d4418b9ed3507f5fa40ca": {
      "model_module": "@jupyter-widgets/base",
      "model_module_version": "1.2.0",
      "model_name": "LayoutModel",
      "state": {}
     },
     "a00b86666f984bb0a32c78d4da0ddf88": {
      "model_module": "@jupyter-widgets/base",
      "model_module_version": "1.2.0",
      "model_name": "LayoutModel",
      "state": {
       "width": "60px"
      }
     },
     "a0a46810dbe44ce585a6ee195c646779": {
      "model_module": "@jupyter-widgets/base",
      "model_module_version": "1.2.0",
      "model_name": "LayoutModel",
      "state": {
       "height": "32px",
       "order": "-2",
       "width": "32px"
      }
     },
     "a0ba828a6ab84dfe9fa37224d9be820c": {
      "model_module": "@jupyter-widgets/controls",
      "model_module_version": "1.5.0",
      "model_name": "HBoxModel",
      "state": {
       "children": [
        "IPY_MODEL_f501b216dddb43f6889657804713d0b2",
        "IPY_MODEL_5d30c8c272c94cbc9ef8f3e6622d26f5",
        "IPY_MODEL_412308536886479388b6ea989b6a4383",
        "IPY_MODEL_2f41641daf054441859d9f82df2fcc92"
       ],
       "layout": "IPY_MODEL_8d6e90a5723243af85ab0ec687417f5a"
      }
     },
     "a0bd0366892941e6963c5712bff1fc22": {
      "model_module": "@jupyter-widgets/controls",
      "model_module_version": "1.5.0",
      "model_name": "ButtonStyleModel",
      "state": {}
     },
     "a1015c25602649f7b6f699f9c18db14c": {
      "model_module": "@jupyter-widgets/controls",
      "model_module_version": "1.5.0",
      "model_name": "ButtonStyleModel",
      "state": {}
     },
     "a115c0bb662b4a0cae9cbe617d71170a": {
      "model_module": "@jupyter-widgets/controls",
      "model_module_version": "1.5.0",
      "model_name": "ButtonModel",
      "state": {
       "description": "EDIT",
       "layout": "IPY_MODEL_a00b86666f984bb0a32c78d4da0ddf88",
       "style": "IPY_MODEL_6ff48f490baf47b0a6a0e6136b448425"
      }
     },
     "a14ca0e2d7494ea7b4de525a91257357": {
      "model_module": "@jupyter-widgets/controls",
      "model_module_version": "1.5.0",
      "model_name": "IntProgressModel",
      "state": {
       "layout": "IPY_MODEL_6e112706fbbc4a2e92b67ed8e7938bd5",
       "style": "IPY_MODEL_b203c44ee98140f1993cf1c2b90266b9",
       "value": 30
      }
     },
     "a1561b623c1c479d96036d77cb53d722": {
      "model_module": "@jupyter-widgets/controls",
      "model_module_version": "1.5.0",
      "model_name": "ButtonStyleModel",
      "state": {}
     },
     "a15a5f6ec86448b0a356b25f2a6f05b6": {
      "model_module": "@jupyter-widgets/controls",
      "model_module_version": "1.5.0",
      "model_name": "VBoxModel",
      "state": {
       "children": [
        "IPY_MODEL_6a0b639f1ac542a4a89272c3d0c18b05",
        "IPY_MODEL_8b192c665e2048eba05d94e3c8049145",
        "IPY_MODEL_b59038eedab74b098296224a2f1c44a8",
        "IPY_MODEL_b7cd85b153c44964909b35d46e4ec1d5",
        "IPY_MODEL_a4ed733bd4b34486bb2bf357ae90535d",
        "IPY_MODEL_3c4bb148c29c4217a8e890e13cedd015"
       ],
       "layout": "IPY_MODEL_d0a2678650164098bf6f9e2d1f4701c3"
      }
     },
     "a184d64f082d473c825f73d515c99356": {
      "model_module": "@jupyter-widgets/controls",
      "model_module_version": "1.5.0",
      "model_name": "DescriptionStyleModel",
      "state": {
       "description_width": ""
      }
     },
     "a1c35b1585dc4363ad7b6cfb961572b3": {
      "model_module": "@jupyter-widgets/controls",
      "model_module_version": "1.5.0",
      "model_name": "IntProgressModel",
      "state": {
       "layout": "IPY_MODEL_ae6fd538a4c7452297551707037246eb",
       "style": "IPY_MODEL_26fe87ad503a403f87e6d2061ff1518f",
       "value": 30
      }
     },
     "a1dd6104fbe141989ceba4933076e521": {
      "model_module": "@jupyter-widgets/controls",
      "model_module_version": "1.5.0",
      "model_name": "DescriptionStyleModel",
      "state": {
       "description_width": ""
      }
     },
     "a20e625b83644de594a33a24fb7f8a18": {
      "model_module": "@jupyter-widgets/controls",
      "model_module_version": "1.5.0",
      "model_name": "DescriptionStyleModel",
      "state": {
       "description_width": ""
      }
     },
     "a24ba86c81da441b9e5fe380d11dc00a": {
      "model_module": "@jupyter-widgets/controls",
      "model_module_version": "1.5.0",
      "model_name": "DescriptionStyleModel",
      "state": {
       "description_width": ""
      }
     },
     "a250bf06ac154bc0b1e822f6ba3187e0": {
      "model_module": "@jupyter-widgets/controls",
      "model_module_version": "1.5.0",
      "model_name": "IntProgressModel",
      "state": {
       "layout": "IPY_MODEL_72c1b633c6a64d87b11890c945f0d77f",
       "style": "IPY_MODEL_552c4939b8044ef9ab8bfa2e6ba7ad6a",
       "value": 30
      }
     },
     "a27dfce63dff4bc7ad0e02eeccfa582e": {
      "model_module": "@jupyter-widgets/controls",
      "model_module_version": "1.5.0",
      "model_name": "ButtonModel",
      "state": {
       "layout": "IPY_MODEL_10e9f70e83664b12aed18e15a5276109",
       "style": "IPY_MODEL_ff58007e6c844cdb8f5b2055ce00c683"
      }
     },
     "a280c32877c24ae3af441b5e3207fe9b": {
      "model_module": "@jupyter-widgets/base",
      "model_module_version": "1.2.0",
      "model_name": "LayoutModel",
      "state": {
       "order": "-1",
       "overflow": "visible",
       "padding": "1px",
       "width": "0px"
      }
     },
     "a2c87374834a422ebf43ec522d9187f4": {
      "model_module": "@jupyter-widgets/controls",
      "model_module_version": "1.5.0",
      "model_name": "LabelModel",
      "state": {
       "layout": "IPY_MODEL_4d8b570df6e348d28dee312a8bb01790",
       "style": "IPY_MODEL_a24ba86c81da441b9e5fe380d11dc00a",
       "value": "Grenade:"
      }
     },
     "a2f71cef68b14ae8838942c1d88935b3": {
      "model_module": "@jupyter-widgets/base",
      "model_module_version": "1.2.0",
      "model_name": "LayoutModel",
      "state": {
       "order": "-1",
       "overflow": "visible",
       "padding": "1px",
       "width": "0px"
      }
     },
     "a2fbcfa8d18e4427b7372bff9ac0136b": {
      "model_module": "@jupyter-widgets/controls",
      "model_module_version": "1.5.0",
      "model_name": "ButtonModel",
      "state": {
       "layout": "IPY_MODEL_499aabcb0b0c4fe285a1947595b9d484",
       "style": "IPY_MODEL_229ac699808f4a908a1d60f137cafbcd"
      }
     },
     "a301c8707a4d4b4aabf7d35d005f9309": {
      "model_module": "@jupyter-widgets/controls",
      "model_module_version": "1.5.0",
      "model_name": "ProgressStyleModel",
      "state": {
       "description_width": ""
      }
     },
     "a30d33e8b4984a2198133d0cda2dcd56": {
      "model_module": "@jupyter-widgets/controls",
      "model_module_version": "1.5.0",
      "model_name": "ButtonModel",
      "state": {
       "layout": "IPY_MODEL_02f1f3dfca6d41398dd1b1776ae8dde6",
       "style": "IPY_MODEL_ef11c3a0372f4892afc53a14129b8a3f"
      }
     },
     "a3367438dfc244aa9525c80bba95aea1": {
      "model_module": "@jupyter-widgets/base",
      "model_module_version": "1.2.0",
      "model_name": "LayoutModel",
      "state": {}
     },
     "a4291cd877aa437a9cdf6e87780f5d1e": {
      "model_module": "@jupyter-widgets/controls",
      "model_module_version": "1.5.0",
      "model_name": "ButtonStyleModel",
      "state": {}
     },
     "a42e6e41c3ec49c594daef6c8f0ca327": {
      "model_module": "@jupyter-widgets/controls",
      "model_module_version": "1.5.0",
      "model_name": "ProgressStyleModel",
      "state": {
       "description_width": ""
      }
     },
     "a4316b7c1d684ac0a3a72443d5f0e72a": {
      "model_module": "@jupyter-widgets/controls",
      "model_module_version": "1.5.0",
      "model_name": "DescriptionStyleModel",
      "state": {
       "description_width": ""
      }
     },
     "a438b410f54749028e071b7dbc2ac92e": {
      "model_module": "@jupyter-widgets/base",
      "model_module_version": "1.2.0",
      "model_name": "LayoutModel",
      "state": {}
     },
     "a45c63f71f0240049402e876ae252cb3": {
      "model_module": "@jupyter-widgets/base",
      "model_module_version": "1.2.0",
      "model_name": "LayoutModel",
      "state": {
       "height": "32px",
       "overflow": "visible",
       "width": "100%"
      }
     },
     "a46d13ff4fbc429b993416253a684bd2": {
      "model_module": "@jupyter-widgets/controls",
      "model_module_version": "1.5.0",
      "model_name": "ButtonStyleModel",
      "state": {}
     },
     "a4a3ad63a81c42d8ba1a9f31d915376a": {
      "model_module": "@jupyter-widgets/controls",
      "model_module_version": "1.5.0",
      "model_name": "DescriptionStyleModel",
      "state": {
       "description_width": ""
      }
     },
     "a4bd2040bc43402283d65998cc92dca2": {
      "model_module": "@jupyter-widgets/controls",
      "model_module_version": "1.5.0",
      "model_name": "ButtonStyleModel",
      "state": {}
     },
     "a4c63facffb944eab6f7762956010550": {
      "model_module": "@jupyter-widgets/base",
      "model_module_version": "1.2.0",
      "model_name": "LayoutModel",
      "state": {
       "height": "32px",
       "order": "-2",
       "width": "32px"
      }
     },
     "a4ed733bd4b34486bb2bf357ae90535d": {
      "model_module": "@jupyter-widgets/controls",
      "model_module_version": "1.5.0",
      "model_name": "HBoxModel",
      "state": {
       "children": [
        "IPY_MODEL_fcec750b79104b14b25044408b55eb24",
        "IPY_MODEL_88d44c528969402c9e54ce6a2ab19bfb",
        "IPY_MODEL_c169d57d62ca4d80a70d36f5cea0729e",
        "IPY_MODEL_97423cb4391a422c88b49d9e78f72786"
       ],
       "layout": "IPY_MODEL_cf39443da2e84885aa9df19d46064335"
      }
     },
     "a4f2fbdc257c4d279e7e0abdfdbee6bb": {
      "model_module": "@jupyter-widgets/controls",
      "model_module_version": "1.5.0",
      "model_name": "ButtonStyleModel",
      "state": {}
     },
     "a51b98f7ce4649d5a0699b1c74f92610": {
      "model_module": "@jupyter-widgets/controls",
      "model_module_version": "1.5.0",
      "model_name": "HBoxModel",
      "state": {
       "children": [
        "IPY_MODEL_9c6b3bd883e94a71894935999b518db6",
        "IPY_MODEL_b544c2e4bfce402881ce71f7eceb12eb",
        "IPY_MODEL_406310cecf7f4ca9b49176fcb365694d",
        "IPY_MODEL_dff5860c6c6148cc8e9aa714a6b97715"
       ],
       "layout": "IPY_MODEL_a7aee27a93584fa9a28faae4e2601e81"
      }
     },
     "a52745b2b2d64df5a43ad6ad09adbd27": {
      "model_module": "@jupyter-widgets/base",
      "model_module_version": "1.2.0",
      "model_name": "LayoutModel",
      "state": {
       "border": "2px solid #00bcd4",
       "width": "98%"
      }
     },
     "a54aa4e81a1e41babe32adb47d13d915": {
      "model_module": "@jupyter-widgets/controls",
      "model_module_version": "1.5.0",
      "model_name": "DescriptionStyleModel",
      "state": {
       "description_width": ""
      }
     },
     "a54b88d7546a4a328d41546f2d47ee94": {
      "model_module": "@jupyter-widgets/base",
      "model_module_version": "1.2.0",
      "model_name": "LayoutModel",
      "state": {}
     },
     "a5664068598d44f6a8714b564f5f3393": {
      "model_module": "@jupyter-widgets/controls",
      "model_module_version": "1.5.0",
      "model_name": "HBoxModel",
      "state": {
       "children": [
        "IPY_MODEL_f6632a8d77124eb29f7a96ada668687b",
        "IPY_MODEL_02aad2c256e84371b4f1f57d28ab3c0a",
        "IPY_MODEL_489242e427864151a3a310fb5015d1eb",
        "IPY_MODEL_f45c11d21a4c4413abcd1e848755add3"
       ],
       "layout": "IPY_MODEL_f50451558a474c2384bbf5e4b9cc3ed0"
      }
     },
     "a5718fb5b305474c97b6796a10928a36": {
      "model_module": "@jupyter-widgets/base",
      "model_module_version": "1.2.0",
      "model_name": "LayoutModel",
      "state": {}
     },
     "a58b939f936c4a55b0e5c0fb5d5b7cf7": {
      "model_module": "@jupyter-widgets/base",
      "model_module_version": "1.2.0",
      "model_name": "LayoutModel",
      "state": {
       "height": "20px"
      }
     },
     "a591df80d54942f397dc7f9b8c91f1bf": {
      "model_module": "@jupyter-widgets/controls",
      "model_module_version": "1.5.0",
      "model_name": "DescriptionStyleModel",
      "state": {
       "description_width": ""
      }
     },
     "a5af74a6ced24550b36e3ef02991ba9a": {
      "model_module": "@jupyter-widgets/controls",
      "model_module_version": "1.5.0",
      "model_name": "ButtonModel",
      "state": {
       "description": "EDIT",
       "layout": "IPY_MODEL_d57e547925a94c048960ff2c1c3c1275",
       "style": "IPY_MODEL_2c826cd4ce864c21b31658d159f1d1ed"
      }
     },
     "a5b0cfa4114d45a3b88f1d24544a1f4a": {
      "model_module": "@jupyter-widgets/base",
      "model_module_version": "1.2.0",
      "model_name": "LayoutModel",
      "state": {}
     },
     "a5b0e8629612475aa414295bab3c3d4e": {
      "model_module": "@jupyter-widgets/controls",
      "model_module_version": "1.5.0",
      "model_name": "HBoxModel",
      "state": {
       "children": [
        "IPY_MODEL_3a335744688f4615b2303df9212dc605",
        "IPY_MODEL_b629bbe171044923938b49ae3b7ef68f",
        "IPY_MODEL_dd62c40d5c7d4e958fa79c6e81be0745",
        "IPY_MODEL_e908c60f1748445da0667d79f37f2839"
       ],
       "layout": "IPY_MODEL_ff20d92cc1384adcbd5e44f6bbfc9427"
      }
     },
     "a5c53020d8474ae0bb5d6f2b2d2e21e9": {
      "model_module": "@jupyter-widgets/base",
      "model_module_version": "1.2.0",
      "model_name": "LayoutModel",
      "state": {
       "height": "32px",
       "order": "-2",
       "width": "32px"
      }
     },
     "a5d301edd45345a8a46c550832b86a0c": {
      "model_module": "@jupyter-widgets/base",
      "model_module_version": "1.2.0",
      "model_name": "LayoutModel",
      "state": {
       "order": "-1",
       "overflow": "visible",
       "padding": "1px",
       "width": "0px"
      }
     },
     "a5dc1b72e94f4b108841c9d87efffe72": {
      "model_module": "@jupyter-widgets/controls",
      "model_module_version": "1.5.0",
      "model_name": "HBoxModel",
      "state": {
       "children": [
        "IPY_MODEL_4406629881214893bc556bd3719cfa4b",
        "IPY_MODEL_a14ca0e2d7494ea7b4de525a91257357",
        "IPY_MODEL_868a2a1857e649759d7360567203ae42",
        "IPY_MODEL_e6a3b8c77b264b489690d98fc369f6a9"
       ],
       "layout": "IPY_MODEL_567bd2545a4f49cd96769dad29fbec25"
      }
     },
     "a5deed0e968e4b85a45e9fd12f823114": {
      "model_module": "@jupyter-widgets/controls",
      "model_module_version": "1.5.0",
      "model_name": "ButtonStyleModel",
      "state": {}
     },
     "a5e655c453a144de90f147add503c94f": {
      "model_module": "@jupyter-widgets/controls",
      "model_module_version": "1.5.0",
      "model_name": "LabelModel",
      "state": {
       "layout": "IPY_MODEL_26e954a6ded644d1914697c7e7d4f001",
       "style": "IPY_MODEL_c8c14c73bf3741ecabaac4382af56577",
       "value": "   objective"
      }
     },
     "a5f908c0f0b84f6aa0886a98a88cb23a": {
      "model_module": "@jupyter-widgets/base",
      "model_module_version": "1.2.0",
      "model_name": "LayoutModel",
      "state": {
       "width": "60px"
      }
     },
     "a62ccd18e52d49879a6bf738b25d8270": {
      "model_module": "@jupyter-widgets/controls",
      "model_module_version": "1.5.0",
      "model_name": "VBoxModel",
      "state": {
       "children": [
        "IPY_MODEL_5e14fe7bea1145fd885b48ff10b2f947",
        "IPY_MODEL_519f3a616afc4bf583ae4274a6016a77",
        "IPY_MODEL_de511121cb164c878c09e01732bad4e6"
       ],
       "layout": "IPY_MODEL_55bd37cf08c742f7a5612420b31de173"
      }
     },
     "a632e2dc50d64bea968f538c9e05338e": {
      "model_module": "@jupyter-widgets/controls",
      "model_module_version": "1.5.0",
      "model_name": "IntProgressModel",
      "state": {
       "layout": "IPY_MODEL_805929a0535f4aa894e012be969cc867",
       "style": "IPY_MODEL_a67978045a25452c83071a00b62133b6",
       "value": 30
      }
     },
     "a634c09b69434beb9dcfb8124c6a96b1": {
      "model_module": "@jupyter-widgets/controls",
      "model_module_version": "1.5.0",
      "model_name": "ButtonModel",
      "state": {
       "layout": "IPY_MODEL_eb3e3820823843ac972cbf2107bc6f1e",
       "style": "IPY_MODEL_53ef15bf001c46f3a6934b4d0522fe44"
      }
     },
     "a652bcb0c2c34defb839922063bcdb00": {
      "model_module": "@jupyter-widgets/controls",
      "model_module_version": "1.5.0",
      "model_name": "DescriptionStyleModel",
      "state": {
       "description_width": ""
      }
     },
     "a66adec19f0043cdaefe61808ccce929": {
      "model_module": "@jupyter-widgets/controls",
      "model_module_version": "1.5.0",
      "model_name": "IntProgressModel",
      "state": {
       "layout": "IPY_MODEL_667d26ade38d4591a1a5f9d65d58e608",
       "style": "IPY_MODEL_f05e4c8bd1574f1d9a83c4adadda82a6",
       "value": 30
      }
     },
     "a67978045a25452c83071a00b62133b6": {
      "model_module": "@jupyter-widgets/controls",
      "model_module_version": "1.5.0",
      "model_name": "ProgressStyleModel",
      "state": {
       "description_width": ""
      }
     },
     "a67e61c7141a40faa26b3f4b120c6e42": {
      "model_module": "@jupyter-widgets/controls",
      "model_module_version": "1.5.0",
      "model_name": "HBoxModel",
      "state": {
       "children": [
        "IPY_MODEL_a30d33e8b4984a2198133d0cda2dcd56",
        "IPY_MODEL_766e5b4f7ff34f96b965480520747fc3",
        "IPY_MODEL_362eb6e5df00459eae4481943d075a79",
        "IPY_MODEL_ee53de78953b4d838f30bc389c34a15c"
       ],
       "layout": "IPY_MODEL_dcd9fdbb2d56477bbc7f05e579c44ab7"
      }
     },
     "a68177f920b047efa5373ee001173d81": {
      "model_module": "@jupyter-widgets/base",
      "model_module_version": "1.2.0",
      "model_name": "LayoutModel",
      "state": {
       "width": "60px"
      }
     },
     "a68603efd58c444cbdef03ae269e00c3": {
      "model_module": "@jupyter-widgets/controls",
      "model_module_version": "1.5.0",
      "model_name": "ButtonModel",
      "state": {
       "layout": "IPY_MODEL_780b13e05e7642c6b4659c7ef8de6baa",
       "style": "IPY_MODEL_f27c2d7506d644719178d5fc1236273b"
      }
     },
     "a6a747c3449449f987c5db3b205c3543": {
      "model_module": "@jupyter-widgets/controls",
      "model_module_version": "1.5.0",
      "model_name": "IntProgressModel",
      "state": {
       "layout": "IPY_MODEL_ef7a762b2cb14dc8bc244cd82e411d8e",
       "style": "IPY_MODEL_0da1612d94f142aab70ca751f044b06a",
       "value": 30
      }
     },
     "a6ae8907b96748a3912cf176af7cf47f": {
      "model_module": "@jupyter-widgets/controls",
      "model_module_version": "1.5.0",
      "model_name": "DescriptionStyleModel",
      "state": {
       "description_width": ""
      }
     },
     "a6bd4a0a81ed45a7a48a9a1515a0d3d4": {
      "model_module": "@jupyter-widgets/controls",
      "model_module_version": "1.5.0",
      "model_name": "HTMLModel",
      "state": {
       "layout": "IPY_MODEL_5eaadf2df1d841409d6295e372cd8c98",
       "style": "IPY_MODEL_8649398b859b4eb495145d32e227e50b",
       "value": "<font size=\"1\">Path/Path/Path/Path/</font size>"
      }
     },
     "a6dff113ff224ad5991f6ee984bb4afa": {
      "model_module": "@jupyter-widgets/base",
      "model_module_version": "1.2.0",
      "model_name": "LayoutModel",
      "state": {}
     },
     "a6e86e6ef28e4dfcb9c786f03f45df8c": {
      "model_module": "@jupyter-widgets/base",
      "model_module_version": "1.2.0",
      "model_name": "LayoutModel",
      "state": {
       "order": "-1",
       "overflow": "visible",
       "padding": "1px",
       "width": "0px"
      }
     },
     "a7055b30bae445f1b37163d3516d6de0": {
      "model_module": "@jupyter-widgets/controls",
      "model_module_version": "1.5.0",
      "model_name": "DropdownModel",
      "state": {
       "_options_labels": [
        "Any",
        "Arc",
        "Solar",
        "Void"
       ],
       "index": 0,
       "layout": "IPY_MODEL_27de6b728bae49b0a4b2fdd732570aae",
       "style": "IPY_MODEL_55e6d677c37d449099e11f12038260c9"
      }
     },
     "a73778415d8e4abdbf3ada81f8479f30": {
      "model_module": "@jupyter-widgets/base",
      "model_module_version": "1.2.0",
      "model_name": "LayoutModel",
      "state": {}
     },
     "a7980c9a83154a9cb8a18957d60346c8": {
      "model_module": "@jupyter-widgets/controls",
      "model_module_version": "1.5.0",
      "model_name": "ButtonModel",
      "state": {
       "layout": "IPY_MODEL_d86cbe7f244646a6ad4a0f0cf6abb211",
       "style": "IPY_MODEL_339bc1c3c10e47229172eee5e722161e"
      }
     },
     "a7a7b64cffec4df6ae411b6252f3c09c": {
      "model_module": "@jupyter-widgets/base",
      "model_module_version": "1.2.0",
      "model_name": "LayoutModel",
      "state": {
       "width": "60px"
      }
     },
     "a7aee27a93584fa9a28faae4e2601e81": {
      "model_module": "@jupyter-widgets/base",
      "model_module_version": "1.2.0",
      "model_name": "LayoutModel",
      "state": {}
     },
     "a7d3b70a492c40dc929ab38fd306f603": {
      "model_module": "@jupyter-widgets/controls",
      "model_module_version": "1.5.0",
      "model_name": "ProgressStyleModel",
      "state": {
       "description_width": ""
      }
     },
     "a7ed3f138c804d638852e85e252eb390": {
      "model_module": "@jupyter-widgets/base",
      "model_module_version": "1.2.0",
      "model_name": "LayoutModel",
      "state": {
       "height": "32px",
       "overflow": "visible",
       "width": "100%"
      }
     },
     "a800417230084064992879d7a1be7c9d": {
      "model_module": "@jupyter-widgets/controls",
      "model_module_version": "1.5.0",
      "model_name": "ButtonStyleModel",
      "state": {}
     },
     "a802dc6896b34fbba30da93805fc1067": {
      "model_module": "@jupyter-widgets/controls",
      "model_module_version": "1.5.0",
      "model_name": "ButtonModel",
      "state": {
       "description": "EDIT",
       "layout": "IPY_MODEL_25390a96e79b419d8c3c86beb570e48c",
       "style": "IPY_MODEL_abccf03be8fe4b68be0a21ef6374fa7e"
      }
     },
     "a815223935f140b599d71148ee39c8cf": {
      "model_module": "@jupyter-widgets/controls",
      "model_module_version": "1.5.0",
      "model_name": "DescriptionStyleModel",
      "state": {
       "description_width": ""
      }
     },
     "a8196d2477e447e09797ec3684500a0b": {
      "model_module": "@jupyter-widgets/controls",
      "model_module_version": "1.5.0",
      "model_name": "ButtonModel",
      "state": {
       "layout": "IPY_MODEL_7214ebc3b16d4766b48ce5a64ef6a499",
       "style": "IPY_MODEL_878da8bcfac04ad49fd7b3233c199fd5"
      }
     },
     "a81ca3a11f4b4f95975e3fe979b7004a": {
      "model_module": "@jupyter-widgets/controls",
      "model_module_version": "1.5.0",
      "model_name": "ButtonModel",
      "state": {
       "layout": "IPY_MODEL_70f597e847e540f7ac735894d4f53419",
       "style": "IPY_MODEL_3ec865865c454d1382fb139122b0317a"
      }
     },
     "a8933a2e0882454a8fc73115acf84b68": {
      "model_module": "@jupyter-widgets/base",
      "model_module_version": "1.2.0",
      "model_name": "LayoutModel",
      "state": {
       "height": "32px",
       "order": "-2",
       "width": "32px"
      }
     },
     "a89f9fedf47f44908c579cad04503806": {
      "model_module": "@jupyter-widgets/controls",
      "model_module_version": "1.5.0",
      "model_name": "ProgressStyleModel",
      "state": {
       "description_width": ""
      }
     },
     "a8b5bb4ae43f4664b28653147b6312b2": {
      "model_module": "@jupyter-widgets/base",
      "model_module_version": "1.2.0",
      "model_name": "LayoutModel",
      "state": {
       "overflow": "visible",
       "width": "100%"
      }
     },
     "a8c2ce03aaf6402b803612ff78142c8a": {
      "model_module": "@jupyter-widgets/controls",
      "model_module_version": "1.5.0",
      "model_name": "ButtonModel",
      "state": {
       "description": "EDIT",
       "layout": "IPY_MODEL_bbd4f3622e1d47b8ac0c094c695fa166",
       "style": "IPY_MODEL_83364c6147f84e4ca727c1df19341e27"
      }
     },
     "a8fc0ca947f1420fa60508bdb730581f": {
      "model_module": "@jupyter-widgets/controls",
      "model_module_version": "1.5.0",
      "model_name": "ButtonStyleModel",
      "state": {}
     },
     "a90ddadf5aed42349d841eb8f547af1c": {
      "model_module": "@jupyter-widgets/controls",
      "model_module_version": "1.5.0",
      "model_name": "IntProgressModel",
      "state": {
       "layout": "IPY_MODEL_b1924c4d33114f668539a0e6c2a7ad04",
       "style": "IPY_MODEL_324c5025cc194077b8200939fa371e58",
       "value": 30
      }
     },
     "a91b8aa66cf149fcb2d159c27187188d": {
      "model_module": "@jupyter-widgets/base",
      "model_module_version": "1.2.0",
      "model_name": "LayoutModel",
      "state": {
       "width": "60px"
      }
     },
     "a91ec66b42e34a3aab911e8b33f14522": {
      "model_module": "@jupyter-widgets/controls",
      "model_module_version": "1.5.0",
      "model_name": "ButtonStyleModel",
      "state": {}
     },
     "a925b8e567484309821002c13c7f1f74": {
      "model_module": "@jupyter-widgets/base",
      "model_module_version": "1.2.0",
      "model_name": "LayoutModel",
      "state": {
       "width": "60px"
      }
     },
     "a927da0dac3d4a2ca15e610751e2d321": {
      "model_module": "@jupyter-widgets/base",
      "model_module_version": "1.2.0",
      "model_name": "LayoutModel",
      "state": {
       "height": "32px",
       "order": "-2",
       "width": "32px"
      }
     },
     "a9463da452cc42079cb2386bc749f7bb": {
      "model_module": "@jupyter-widgets/controls",
      "model_module_version": "1.5.0",
      "model_name": "ButtonModel",
      "state": {
       "description": "Next",
       "layout": "IPY_MODEL_f4af7afe184a418cae5861e18be64ca3",
       "style": "IPY_MODEL_fb073d727fc543aea097f005eba3b5c7"
      }
     },
     "a94cd7e7dbf74a808303478ad2d2c8eb": {
      "model_module": "@jupyter-widgets/controls",
      "model_module_version": "1.5.0",
      "model_name": "HTMLModel",
      "state": {
       "layout": "IPY_MODEL_726ea4b1209445cebeab728bc7518641",
       "style": "IPY_MODEL_430c738fd52b49eeb57d0e203df9579c",
       "value": "<i>test test test test test test test test test test test test test test test test test test test test test test test test </i>"
      }
     },
     "a94f246cd2204982990e98358d52415a": {
      "model_module": "@jupyter-widgets/base",
      "model_module_version": "1.2.0",
      "model_name": "LayoutModel",
      "state": {
       "height": "32px",
       "order": "-2",
       "width": "32px"
      }
     },
     "a989e41a5e044201a3bb74abc9a89838": {
      "model_module": "@jupyter-widgets/controls",
      "model_module_version": "1.5.0",
      "model_name": "DescriptionStyleModel",
      "state": {
       "description_width": ""
      }
     },
     "a9ad029119994c349efea331ce97018a": {
      "model_module": "@jupyter-widgets/controls",
      "model_module_version": "1.5.0",
      "model_name": "ButtonStyleModel",
      "state": {}
     },
     "a9d52607e905475cbbf2f5994128cad8": {
      "model_module": "@jupyter-widgets/base",
      "model_module_version": "1.2.0",
      "model_name": "LayoutModel",
      "state": {
       "height": "32px",
       "overflow": "visible",
       "width": "100%"
      }
     },
     "a9d8c71d962440cb873fb649f0df294b": {
      "model_module": "@jupyter-widgets/controls",
      "model_module_version": "1.5.0",
      "model_name": "DescriptionStyleModel",
      "state": {
       "description_width": ""
      }
     },
     "a9f70844d2e2439487ce36b51aa0ebe8": {
      "model_module": "@jupyter-widgets/controls",
      "model_module_version": "1.5.0",
      "model_name": "IntProgressModel",
      "state": {
       "layout": "IPY_MODEL_9c89e25370794b83a1554a54fe9e9ee9",
       "style": "IPY_MODEL_7bcbabe22e824bb6bd4313836a5e07a2",
       "value": 30
      }
     },
     "a9fbb17da8944634b9a71621fc1d285a": {
      "model_module": "@jupyter-widgets/base",
      "model_module_version": "1.2.0",
      "model_name": "LayoutModel",
      "state": {
       "height": "32px",
       "order": "-2",
       "width": "32px"
      }
     },
     "aa061a3380844b30bb8f3d6d1536aff6": {
      "model_module": "@jupyter-widgets/controls",
      "model_module_version": "1.5.0",
      "model_name": "DescriptionStyleModel",
      "state": {
       "description_width": ""
      }
     },
     "aa1bdaf9dcde482f8c1b0a2359eb57b4": {
      "model_module": "@jupyter-widgets/base",
      "model_module_version": "1.2.0",
      "model_name": "LayoutModel",
      "state": {
       "order": "-1",
       "overflow": "visible",
       "padding": "1px",
       "width": "0px"
      }
     },
     "aa455dbb70af4d359260c5a7b004947e": {
      "model_module": "@jupyter-widgets/controls",
      "model_module_version": "1.5.0",
      "model_name": "HBoxModel",
      "state": {
       "children": [
        "IPY_MODEL_a27dfce63dff4bc7ad0e02eeccfa582e",
        "IPY_MODEL_b47026b7bc39495583ab5f1d2667d149",
        "IPY_MODEL_64fce2ee9e0e4848856427ea3e2b7f17",
        "IPY_MODEL_eae1a10e9e364f458d9d302ac1dda27c"
       ],
       "layout": "IPY_MODEL_3d74afa326164de9be0e57c2714eaa02"
      }
     },
     "aa49b5054c7e49569b43f1a326be5143": {
      "model_module": "@jupyter-widgets/controls",
      "model_module_version": "1.5.0",
      "model_name": "ProgressStyleModel",
      "state": {
       "description_width": ""
      }
     },
     "aa4aed5274b54b28a2c73c1bd06bc487": {
      "model_module": "@jupyter-widgets/base",
      "model_module_version": "1.2.0",
      "model_name": "LayoutModel",
      "state": {
       "display": "flex",
       "flex_flow": "row wrap"
      }
     },
     "aa4b8c76ac444b98b8c1cd4764deeb99": {
      "model_module": "@jupyter-widgets/controls",
      "model_module_version": "1.5.0",
      "model_name": "IntProgressModel",
      "state": {
       "layout": "IPY_MODEL_6b0788e66e294e658208d6a8804c4738",
       "style": "IPY_MODEL_e513869a2c8f42099c0db5af93fc4837",
       "value": 30
      }
     },
     "aa5af718bbc04cc1aa64f3500a7f8df6": {
      "model_module": "@jupyter-widgets/base",
      "model_module_version": "1.2.0",
      "model_name": "LayoutModel",
      "state": {
       "height": "32px",
       "overflow": "visible",
       "width": "100%"
      }
     },
     "aa6ac28d95f84888af47bd202d3c7484": {
      "model_module": "@jupyter-widgets/base",
      "model_module_version": "1.2.0",
      "model_name": "LayoutModel",
      "state": {
       "width": "60px"
      }
     },
     "aa91e7268a2b43f3abbb65b6956a3e58": {
      "model_module": "@jupyter-widgets/controls",
      "model_module_version": "1.5.0",
      "model_name": "IntProgressModel",
      "state": {
       "layout": "IPY_MODEL_82d2e775a07746d79e563fc542b4e64c",
       "style": "IPY_MODEL_efffa1445d8b4633b3d090830e34bb47",
       "value": 30
      }
     },
     "aab191b57ba54408b2de2bcd4d1f6fe3": {
      "model_module": "@jupyter-widgets/controls",
      "model_module_version": "1.5.0",
      "model_name": "HTMLModel",
      "state": {
       "layout": "IPY_MODEL_f866c3cb1cc64154a81770dc18d79acc",
       "style": "IPY_MODEL_3af639af078f45c88f6750645cd8594a",
       "value": "<i>test test test test test test test test test test test test test test test test test test test test test test test test </i>"
      }
     },
     "aabdfd937f90409d93bbc53198208ef4": {
      "model_module": "@jupyter-widgets/controls",
      "model_module_version": "1.5.0",
      "model_name": "LabelModel",
      "state": {
       "layout": "IPY_MODEL_9305e49602be461c900d1439adb23e51",
       "style": "IPY_MODEL_94316d082c9b4e0096aa3443836a98e9",
       "value": "   objective"
      }
     },
     "aadf71a72211490ca2d5235896617e70": {
      "model_module": "@jupyter-widgets/controls",
      "model_module_version": "1.5.0",
      "model_name": "HTMLModel",
      "state": {
       "layout": "IPY_MODEL_cf267bbc3290442a853a1c6b0b413ed9",
       "style": "IPY_MODEL_06ba03fc31f44adda484ca885a8c25c9",
       "value": "<font size=\"1\">Path/Path/Path/Path/</font size>"
      }
     },
     "ab277868807846f5b05ce229a7f7ae27": {
      "model_module": "@jupyter-widgets/controls",
      "model_module_version": "1.5.0",
      "model_name": "IntProgressModel",
      "state": {
       "layout": "IPY_MODEL_0e202d6f8ba043d1a0ec0fe3c38a3ac1",
       "style": "IPY_MODEL_e2899a15ac534140b8edd4b0fbf8d870",
       "value": 30
      }
     },
     "ab2eb38109004cb085dd5d8c3d74059f": {
      "model_module": "@jupyter-widgets/base",
      "model_module_version": "1.2.0",
      "model_name": "LayoutModel",
      "state": {}
     },
     "ab2f85596e7242fdbf9498131ce9c03b": {
      "model_module": "@jupyter-widgets/controls",
      "model_module_version": "1.5.0",
      "model_name": "ButtonModel",
      "state": {
       "description": "Refresh",
       "layout": "IPY_MODEL_c906e7b8ec184c88baff03a17761c853",
       "style": "IPY_MODEL_affde2ac48bc46008dd7c83fe6f7c5ce"
      }
     },
     "ab4e1a808d01459294dcc0ec92bcc00d": {
      "model_module": "@jupyter-widgets/base",
      "model_module_version": "1.2.0",
      "model_name": "LayoutModel",
      "state": {
       "height": "32px",
       "order": "-2",
       "width": "32px"
      }
     },
     "ab642ce9881d44f489b022f650039162": {
      "model_module": "@jupyter-widgets/controls",
      "model_module_version": "1.5.0",
      "model_name": "IntProgressModel",
      "state": {
       "layout": "IPY_MODEL_79567253389d45f1aaa38a02427997fe",
       "style": "IPY_MODEL_4e19b8e261e3487fadcb181de8a3a21c",
       "value": 30
      }
     },
     "ab70837a4fef47ff83fd008fe4d49695": {
      "model_module": "@jupyter-widgets/base",
      "model_module_version": "1.2.0",
      "model_name": "LayoutModel",
      "state": {
       "height": "32px",
       "overflow": "visible",
       "width": "100%"
      }
     },
     "ab8fb6d279094cdcab2a7f1070a23660": {
      "model_module": "@jupyter-widgets/base",
      "model_module_version": "1.2.0",
      "model_name": "LayoutModel",
      "state": {
       "order": "-1",
       "overflow": "visible",
       "padding": "1px",
       "width": "0px"
      }
     },
     "ab903696970b4cc384519c9580990120": {
      "model_module": "@jupyter-widgets/controls",
      "model_module_version": "1.5.0",
      "model_name": "ButtonModel",
      "state": {
       "layout": "IPY_MODEL_6c7639d1526a4a3aa5ce64a2d44a31e9",
       "style": "IPY_MODEL_acaf38f6f78740629da9368c8f7f6776"
      }
     },
     "ab9199eac0cc44b9babf9293e0a6e27d": {
      "model_module": "@jupyter-widgets/base",
      "model_module_version": "1.2.0",
      "model_name": "LayoutModel",
      "state": {}
     },
     "abaa5bd520454febbbdebeb01c5a7dfa": {
      "model_module": "@jupyter-widgets/base",
      "model_module_version": "1.2.0",
      "model_name": "LayoutModel",
      "state": {
       "width": "60px"
      }
     },
     "abb025ce7b4b437cb38d8ecf98abb95c": {
      "model_module": "@jupyter-widgets/controls",
      "model_module_version": "1.5.0",
      "model_name": "ButtonModel",
      "state": {
       "description": "EDIT",
       "layout": "IPY_MODEL_cd8a02c5a3ff4982a366983ed268cc9c",
       "style": "IPY_MODEL_b57efbcee5b04c60b6283c4060aa3be5"
      }
     },
     "abccf03be8fe4b68be0a21ef6374fa7e": {
      "model_module": "@jupyter-widgets/controls",
      "model_module_version": "1.5.0",
      "model_name": "ButtonStyleModel",
      "state": {}
     },
     "ac3ebaab8ee74a949a7f4fd59555e75f": {
      "model_module": "@jupyter-widgets/controls",
      "model_module_version": "1.5.0",
      "model_name": "ButtonStyleModel",
      "state": {}
     },
     "ac46fe134a9c4303a1e00595f9e14e32": {
      "model_module": "@jupyter-widgets/controls",
      "model_module_version": "1.5.0",
      "model_name": "VBoxModel",
      "state": {
       "children": [
        "IPY_MODEL_95356facd5624eacbb417a5bcdf510ef",
        "IPY_MODEL_8f690b22f42b49e5b090b20070f20231",
        "IPY_MODEL_b2f50e6f681f4b71af480fb2f8a0b7b1",
        "IPY_MODEL_1744501f4adb412596a21d93fab3c162",
        "IPY_MODEL_29b5aa17c19b404ba356d590596887f9",
        "IPY_MODEL_ff6779a5d543450197d941363274ae0d",
        "IPY_MODEL_56d5c3ecb7b04f8b8e295bcfaeaf3af8",
        "IPY_MODEL_23acb9c1c89a4777861413e7e2954bdd",
        "IPY_MODEL_3738aad10832479ebf54caefd80bf41c",
        "IPY_MODEL_68dad37a2d6848719373acc68861ee5b",
        "IPY_MODEL_9d67deb85e664ba8899dddb5419c115a"
       ],
       "layout": "IPY_MODEL_cc2869e26350419dab3c6d51c89134a8"
      }
     },
     "ac52fe7153dc47058e6c684125bbd93a": {
      "model_module": "@jupyter-widgets/base",
      "model_module_version": "1.2.0",
      "model_name": "LayoutModel",
      "state": {
       "order": "-1",
       "overflow": "visible",
       "padding": "1px",
       "width": "0px"
      }
     },
     "ac61e7a14a484f17a4c367356738c4aa": {
      "model_module": "@jupyter-widgets/controls",
      "model_module_version": "1.5.0",
      "model_name": "ProgressStyleModel",
      "state": {
       "description_width": ""
      }
     },
     "ac854715fbb84c9f9fd8d403cc28dbd8": {
      "model_module": "@jupyter-widgets/base",
      "model_module_version": "1.2.0",
      "model_name": "LayoutModel",
      "state": {}
     },
     "ac909ae136174b25b7231d509c759188": {
      "model_module": "@jupyter-widgets/controls",
      "model_module_version": "1.5.0",
      "model_name": "ButtonModel",
      "state": {
       "description": "EDIT",
       "layout": "IPY_MODEL_f42685269bce4bb684d87f2f49c73a6c",
       "style": "IPY_MODEL_1e7b45add1f147a4bf151226126acef7"
      }
     },
     "aca625fa5d8c434ba6331ceb338fa79d": {
      "model_module": "@jupyter-widgets/base",
      "model_module_version": "1.2.0",
      "model_name": "LayoutModel",
      "state": {
       "order": "-1",
       "overflow": "visible",
       "padding": "1px",
       "width": "0px"
      }
     },
     "acaf38f6f78740629da9368c8f7f6776": {
      "model_module": "@jupyter-widgets/controls",
      "model_module_version": "1.5.0",
      "model_name": "ButtonStyleModel",
      "state": {}
     },
     "acb54d7f84b64be8884565b471eed237": {
      "model_module": "@jupyter-widgets/controls",
      "model_module_version": "1.5.0",
      "model_name": "LabelModel",
      "state": {
       "layout": "IPY_MODEL_63146ea2d97d4d529cde7489e7f38587",
       "style": "IPY_MODEL_d7d6c919d8334c1c8a78a2ea4776e436",
       "value": "   objective"
      }
     },
     "acec7b0a0309403d9288b0d2b314894d": {
      "model_module": "@jupyter-widgets/base",
      "model_module_version": "1.2.0",
      "model_name": "LayoutModel",
      "state": {
       "height": "32px",
       "order": "-2",
       "width": "32px"
      }
     },
     "ad0e6f84482d4b2184d0447c63671242": {
      "model_module": "@jupyter-widgets/controls",
      "model_module_version": "1.5.0",
      "model_name": "ButtonModel",
      "state": {
       "description": "EDIT",
       "layout": "IPY_MODEL_3a41f52d51854d3cb3649057f695b044",
       "style": "IPY_MODEL_99b8a4649c2a4f769e6c68d3f9dea226"
      }
     },
     "ad2a9b6543224f01a89ec5caccc2f586": {
      "model_module": "@jupyter-widgets/controls",
      "model_module_version": "1.5.0",
      "model_name": "DescriptionStyleModel",
      "state": {
       "description_width": ""
      }
     },
     "ad4d05369a92469c86c96761e5cdaf67": {
      "model_module": "@jupyter-widgets/controls",
      "model_module_version": "1.5.0",
      "model_name": "VBoxModel",
      "state": {
       "children": [
        "IPY_MODEL_11542191d6074adb8178902028093809",
        "IPY_MODEL_e14b44958454441f8fc804957d5418d9",
        "IPY_MODEL_018273b66f73466eba6186ce99921f5f",
        "IPY_MODEL_3e2db6ab96d34918872141ff6e5e7e3c",
        "IPY_MODEL_fbc9074e6fa94c6c9fd3894b01577dcd",
        "IPY_MODEL_5edf7432ab1a4c3abef912c85c592b52"
       ],
       "layout": "IPY_MODEL_8281a709759c44fbb6723a26fc0df922"
      }
     },
     "ad6c76d8ca464141a506b52c137e2897": {
      "model_module": "@jupyter-widgets/base",
      "model_module_version": "1.2.0",
      "model_name": "LayoutModel",
      "state": {
       "height": "32px",
       "order": "-2",
       "width": "32px"
      }
     },
     "ad6f9226d1bd453e9da5bc62a7325955": {
      "model_module": "@jupyter-widgets/controls",
      "model_module_version": "1.5.0",
      "model_name": "ButtonStyleModel",
      "state": {}
     },
     "ad7f9c878493420f9635565184ccc1ba": {
      "model_module": "@jupyter-widgets/base",
      "model_module_version": "1.2.0",
      "model_name": "LayoutModel",
      "state": {
       "height": "32px",
       "order": "-2",
       "width": "32px"
      }
     },
     "ad8158cc90a64637b109ee8cced513ab": {
      "model_module": "@jupyter-widgets/base",
      "model_module_version": "1.2.0",
      "model_name": "LayoutModel",
      "state": {
       "width": "60px"
      }
     },
     "ad8cc64963fa401b9e67b59a663b9416": {
      "model_module": "@jupyter-widgets/controls",
      "model_module_version": "1.5.0",
      "model_name": "VBoxModel",
      "state": {
       "children": [
        "IPY_MODEL_b720143222da4c499c071fa6ba9a74c4",
        "IPY_MODEL_bce7fe5b66334d5ca3bf0e23ea20ab50",
        "IPY_MODEL_c4270d5e011d4eb991a10fa2cca3e6db",
        "IPY_MODEL_c31bc0a8e76a4888a75f699a9fa6250e",
        "IPY_MODEL_20d58ff9b5f2480e9d0743ac0eaa6f0a",
        "IPY_MODEL_741a269d34934766a6b9789199d1cb4d"
       ],
       "layout": "IPY_MODEL_cacdb258a952491183c78332d14e23d9"
      }
     },
     "ad92498533d34287bdd17987e4ab3b51": {
      "model_module": "@jupyter-widgets/base",
      "model_module_version": "1.2.0",
      "model_name": "LayoutModel",
      "state": {
       "order": "-1",
       "overflow": "visible",
       "padding": "1px",
       "width": "0px"
      }
     },
     "ad99bc81bb044afca0a617ad31996b52": {
      "model_module": "@jupyter-widgets/controls",
      "model_module_version": "1.5.0",
      "model_name": "DescriptionStyleModel",
      "state": {
       "description_width": ""
      }
     },
     "adae4070062e4e04bbef65b9961f4343": {
      "model_module": "@jupyter-widgets/base",
      "model_module_version": "1.2.0",
      "model_name": "LayoutModel",
      "state": {
       "align_items": "stretch",
       "display": "flex",
       "flex_flow": "row wrap"
      }
     },
     "adbc7c89be924c8797bc0da52251e59b": {
      "model_module": "@jupyter-widgets/base",
      "model_module_version": "1.2.0",
      "model_name": "LayoutModel",
      "state": {}
     },
     "ade9b83ee96140d3975e1c2cd9711fa1": {
      "model_module": "@jupyter-widgets/base",
      "model_module_version": "1.2.0",
      "model_name": "LayoutModel",
      "state": {}
     },
     "adf8dfa8ae2c45b8ba19c1fbc3de93f8": {
      "model_module": "@jupyter-widgets/controls",
      "model_module_version": "1.5.0",
      "model_name": "DescriptionStyleModel",
      "state": {
       "description_width": ""
      }
     },
     "adfb0b852e854e489fc2d6722c48ea67": {
      "model_module": "@jupyter-widgets/base",
      "model_module_version": "1.2.0",
      "model_name": "LayoutModel",
      "state": {
       "height": "32px",
       "order": "-2",
       "width": "32px"
      }
     },
     "ae104a2dae5f4f1dada8de74f43932a3": {
      "model_module": "@jupyter-widgets/controls",
      "model_module_version": "1.5.0",
      "model_name": "ButtonModel",
      "state": {
       "layout": "IPY_MODEL_49244401d35f484794747befad33bb8b",
       "style": "IPY_MODEL_a5deed0e968e4b85a45e9fd12f823114"
      }
     },
     "ae20d3675a5d4376b6f74f42d08c7f52": {
      "model_module": "@jupyter-widgets/controls",
      "model_module_version": "1.5.0",
      "model_name": "ButtonStyleModel",
      "state": {}
     },
     "ae26fe961f484fd2a45b91926cb42873": {
      "model_module": "@jupyter-widgets/base",
      "model_module_version": "1.2.0",
      "model_name": "LayoutModel",
      "state": {
       "height": "32px",
       "order": "-2",
       "width": "32px"
      }
     },
     "ae6e4e73e8f14fabb2b79b564cd0093d": {
      "model_module": "@jupyter-widgets/controls",
      "model_module_version": "1.5.0",
      "model_name": "ProgressStyleModel",
      "state": {
       "description_width": ""
      }
     },
     "ae6fd538a4c7452297551707037246eb": {
      "model_module": "@jupyter-widgets/base",
      "model_module_version": "1.2.0",
      "model_name": "LayoutModel",
      "state": {
       "height": "32px",
       "overflow": "visible",
       "width": "100%"
      }
     },
     "ae83dd82d4354d6892f9f4a73e2e487b": {
      "model_module": "@jupyter-widgets/controls",
      "model_module_version": "1.5.0",
      "model_name": "ProgressStyleModel",
      "state": {
       "description_width": ""
      }
     },
     "aeb027167d56415b88ca3d51cc10845c": {
      "model_module": "@jupyter-widgets/controls",
      "model_module_version": "1.5.0",
      "model_name": "ButtonStyleModel",
      "state": {}
     },
     "aec2ee97369347659db49056e614b86e": {
      "model_module": "@jupyter-widgets/base",
      "model_module_version": "1.2.0",
      "model_name": "LayoutModel",
      "state": {}
     },
     "aed7adf680204cdcaab400eecf90fc00": {
      "model_module": "@jupyter-widgets/controls",
      "model_module_version": "1.5.0",
      "model_name": "ButtonModel",
      "state": {
       "layout": "IPY_MODEL_800205fa58124f138759e3849d2d849e",
       "style": "IPY_MODEL_25e490d7b4654539b0e74a7d101a3127"
      }
     },
     "aef2790e0a084b49af1b331f5096f943": {
      "model_module": "@jupyter-widgets/controls",
      "model_module_version": "1.5.0",
      "model_name": "ButtonModel",
      "state": {
       "layout": "IPY_MODEL_762a902795884d71a73c967c898de788",
       "style": "IPY_MODEL_8cb2e5a986fd4cc281f8221369d07a7d"
      }
     },
     "aefb41d3596641098d21996fd8c8477f": {
      "model_module": "@jupyter-widgets/base",
      "model_module_version": "1.2.0",
      "model_name": "LayoutModel",
      "state": {
       "display": "flex",
       "flex_flow": "row wrap"
      }
     },
     "af149845fb024c2586388351f3f2cae6": {
      "model_module": "@jupyter-widgets/base",
      "model_module_version": "1.2.0",
      "model_name": "LayoutModel",
      "state": {
       "height": "32px",
       "order": "-2",
       "width": "32px"
      }
     },
     "af5483993d7448c69c45d90de0e34a5f": {
      "model_module": "@jupyter-widgets/controls",
      "model_module_version": "1.5.0",
      "model_name": "IntProgressModel",
      "state": {
       "layout": "IPY_MODEL_5a6ead0fc9604d25a25613d250b0ccad",
       "style": "IPY_MODEL_bb276ab8e0ca4d6cae22aed2fb32cba6",
       "value": 30
      }
     },
     "afa6f9f5af4b49b18acea8bad249444e": {
      "model_module": "@jupyter-widgets/base",
      "model_module_version": "1.2.0",
      "model_name": "LayoutModel",
      "state": {
       "height": "32px",
       "order": "-2",
       "width": "32px"
      }
     },
     "afae96423372404084cfc140c8ac30b1": {
      "model_module": "@jupyter-widgets/base",
      "model_module_version": "1.2.0",
      "model_name": "LayoutModel",
      "state": {
       "height": "32px",
       "overflow": "visible",
       "width": "100%"
      }
     },
     "afb6b1103a6846dd9404a8774e5234e7": {
      "model_module": "@jupyter-widgets/controls",
      "model_module_version": "1.5.0",
      "model_name": "ProgressStyleModel",
      "state": {
       "description_width": ""
      }
     },
     "afbfa48500ea47769119a2f0ae1f81eb": {
      "model_module": "@jupyter-widgets/base",
      "model_module_version": "1.2.0",
      "model_name": "LayoutModel",
      "state": {
       "height": "32px",
       "overflow": "visible",
       "width": "100%"
      }
     },
     "afc1faa9ba834d3badc4635e264d55cf": {
      "model_module": "@jupyter-widgets/base",
      "model_module_version": "1.2.0",
      "model_name": "LayoutModel",
      "state": {}
     },
     "affde2ac48bc46008dd7c83fe6f7c5ce": {
      "model_module": "@jupyter-widgets/controls",
      "model_module_version": "1.5.0",
      "model_name": "ButtonStyleModel",
      "state": {}
     },
     "b010838fdee249799071314c0a63c46e": {
      "model_module": "@jupyter-widgets/controls",
      "model_module_version": "1.5.0",
      "model_name": "DescriptionStyleModel",
      "state": {
       "description_width": ""
      }
     },
     "b02697036496412f8dae072f7f1e7882": {
      "model_module": "@jupyter-widgets/controls",
      "model_module_version": "1.5.0",
      "model_name": "ButtonModel",
      "state": {
       "description": "EDIT",
       "layout": "IPY_MODEL_39c80243436d40a8a5cfbef6bb6b0738",
       "style": "IPY_MODEL_a800417230084064992879d7a1be7c9d"
      }
     },
     "b049ae500d194cf59465a7988f62ee15": {
      "model_module": "@jupyter-widgets/base",
      "model_module_version": "1.2.0",
      "model_name": "LayoutModel",
      "state": {
       "height": "32px",
       "order": "-2",
       "width": "32px"
      }
     },
     "b0629aaf5b8b43bd9d6193ef242b383f": {
      "model_module": "@jupyter-widgets/controls",
      "model_module_version": "1.5.0",
      "model_name": "ButtonStyleModel",
      "state": {}
     },
     "b09069ce3b414f6caf32e7ca25f93fa5": {
      "model_module": "@jupyter-widgets/base",
      "model_module_version": "1.2.0",
      "model_name": "LayoutModel",
      "state": {}
     },
     "b0b8596ab03f4a6a98cf2e076952a18f": {
      "model_module": "@jupyter-widgets/controls",
      "model_module_version": "1.5.0",
      "model_name": "ProgressStyleModel",
      "state": {
       "description_width": ""
      }
     },
     "b0e20eeb76d845c1993c39e1f7ff649d": {
      "model_module": "@jupyter-widgets/controls",
      "model_module_version": "1.5.0",
      "model_name": "HBoxModel",
      "state": {
       "children": [
        "IPY_MODEL_53ce456ad55a46bfbeb1ff9b8ee089a7",
        "IPY_MODEL_dffdd8c40ded43ff9e07d06a551578fb",
        "IPY_MODEL_1ee2fc8f523d470cbcc92bef60f5a0e8",
        "IPY_MODEL_393a2ca02f30439cbe42a107dddfe0eb"
       ],
       "layout": "IPY_MODEL_e0205ff3e074401dbf4c5994b04c5bc8"
      }
     },
     "b0f3293b8c8a4e358b03f97c2e33d184": {
      "model_module": "@jupyter-widgets/base",
      "model_module_version": "1.2.0",
      "model_name": "LayoutModel",
      "state": {
       "overflow": "visible",
       "width": "100%"
      }
     },
     "b0f7054c1dc84616a05a6bf4ceb948ff": {
      "model_module": "@jupyter-widgets/controls",
      "model_module_version": "1.5.0",
      "model_name": "ProgressStyleModel",
      "state": {
       "description_width": ""
      }
     },
     "b110d9ecc9a14ebaaebf0d5dc84f0382": {
      "model_module": "@jupyter-widgets/controls",
      "model_module_version": "1.5.0",
      "model_name": "ProgressStyleModel",
      "state": {
       "description_width": ""
      }
     },
     "b13237ceb7944e3ba4b90208e1a314c0": {
      "model_module": "@jupyter-widgets/controls",
      "model_module_version": "1.5.0",
      "model_name": "LabelModel",
      "state": {
       "layout": "IPY_MODEL_cca9313c8f5447918a05ada285bfea1a",
       "style": "IPY_MODEL_a184d64f082d473c825f73d515c99356",
       "value": "   objective"
      }
     },
     "b145eb022c074d38b2b6ee2b1f4f593c": {
      "model_module": "@jupyter-widgets/base",
      "model_module_version": "1.2.0",
      "model_name": "LayoutModel",
      "state": {
       "height": "32px",
       "overflow": "visible",
       "width": "100%"
      }
     },
     "b149a9c82c9240eba97061d8435aab98": {
      "model_module": "@jupyter-widgets/controls",
      "model_module_version": "1.5.0",
      "model_name": "ButtonStyleModel",
      "state": {}
     },
     "b1559b78b05c42b399293c0de526fbbb": {
      "model_module": "@jupyter-widgets/controls",
      "model_module_version": "1.5.0",
      "model_name": "ButtonStyleModel",
      "state": {}
     },
     "b18fcd5602c7477683b56237b80497d1": {
      "model_module": "@jupyter-widgets/controls",
      "model_module_version": "1.5.0",
      "model_name": "ButtonModel",
      "state": {
       "layout": "IPY_MODEL_d1181ff5c84a46b48167249373ab89c3",
       "style": "IPY_MODEL_e2898680c28a43e4ae00353f2e4159d7"
      }
     },
     "b1924c4d33114f668539a0e6c2a7ad04": {
      "model_module": "@jupyter-widgets/base",
      "model_module_version": "1.2.0",
      "model_name": "LayoutModel",
      "state": {
       "height": "32px",
       "overflow": "visible",
       "width": "100%"
      }
     },
     "b1b4316854a94f5b8860b8407dbc5d0c": {
      "model_module": "@jupyter-widgets/controls",
      "model_module_version": "1.5.0",
      "model_name": "ButtonModel",
      "state": {
       "layout": "IPY_MODEL_c8e035cb35974a9f8bf4a1a756bd1692",
       "style": "IPY_MODEL_d63ad9d8e4994fca9ef815b49fad0bae"
      }
     },
     "b1d38c80a3bc43ffad8116c06e4c6965": {
      "model_module": "@jupyter-widgets/base",
      "model_module_version": "1.2.0",
      "model_name": "LayoutModel",
      "state": {
       "width": "60px"
      }
     },
     "b1dcf0cce3784737bd10cff26f24d30a": {
      "model_module": "@jupyter-widgets/controls",
      "model_module_version": "1.5.0",
      "model_name": "HTMLModel",
      "state": {
       "layout": "IPY_MODEL_76c8a0201e394480bbc48fc0e9ebcad7",
       "style": "IPY_MODEL_620f372c713d481da27cf5c182e623c0",
       "value": "<i>test test test test test test test test test test test test test test test test test test test test test test test test </i>"
      }
     },
     "b1ddcf1e7c0548b5baa4594b93188abf": {
      "model_module": "@jupyter-widgets/controls",
      "model_module_version": "1.5.0",
      "model_name": "DescriptionStyleModel",
      "state": {
       "description_width": ""
      }
     },
     "b1e6667da6a04569bd6e8fc7c0b2f83d": {
      "model_module": "@jupyter-widgets/controls",
      "model_module_version": "1.5.0",
      "model_name": "ButtonModel",
      "state": {
       "description": "EDIT",
       "layout": "IPY_MODEL_1fa4e4ae80874c2496728f008c3877a2",
       "style": "IPY_MODEL_6a5a570f13424660979b9a255b21769d"
      }
     },
     "b203c44ee98140f1993cf1c2b90266b9": {
      "model_module": "@jupyter-widgets/controls",
      "model_module_version": "1.5.0",
      "model_name": "ProgressStyleModel",
      "state": {
       "description_width": ""
      }
     },
     "b20cd3bbb08c4755957d01551e711c43": {
      "model_module": "@jupyter-widgets/controls",
      "model_module_version": "1.5.0",
      "model_name": "ButtonModel",
      "state": {
       "layout": "IPY_MODEL_254fb795cbe645c9b69fdac51295d531",
       "style": "IPY_MODEL_232eced477654a07b0daa5d567cc52d0"
      }
     },
     "b22a6bdd55844e6789d1b77e11f053db": {
      "model_module": "@jupyter-widgets/base",
      "model_module_version": "1.2.0",
      "model_name": "LayoutModel",
      "state": {
       "overflow": "visible",
       "width": "100%"
      }
     },
     "b23c50c415dc417d8482bd2207685ccb": {
      "model_module": "@jupyter-widgets/base",
      "model_module_version": "1.2.0",
      "model_name": "LayoutModel",
      "state": {
       "width": "60px"
      }
     },
     "b23ec722400645e1b562097c6f4f3311": {
      "model_module": "@jupyter-widgets/controls",
      "model_module_version": "1.5.0",
      "model_name": "ButtonModel",
      "state": {
       "description": "EDIT",
       "layout": "IPY_MODEL_d0a7b8dfdee2451fb9b1c8acfd2f076c",
       "style": "IPY_MODEL_475fd59b007541db80004f80bb8cc14b"
      }
     },
     "b240b02da7e04c17819f2c5a7e1aa528": {
      "model_module": "@jupyter-widgets/controls",
      "model_module_version": "1.5.0",
      "model_name": "VBoxModel",
      "state": {
       "children": [
        "IPY_MODEL_859645de07934582867f85594d6cba9a",
        "IPY_MODEL_c0035e7b7eaa480c8d9f2a653843ca88",
        "IPY_MODEL_b8f6014f30524400a18da5e58f62bdc7",
        "IPY_MODEL_dbb33bd587134bd984150a0eef7dc732"
       ],
       "layout": "IPY_MODEL_7a57b22f9bef44d4b3df73f510e50e9d"
      }
     },
     "b24179a5ff9b4c89bf8cd282ba623e44": {
      "model_module": "@jupyter-widgets/base",
      "model_module_version": "1.2.0",
      "model_name": "LayoutModel",
      "state": {
       "height": "32px",
       "order": "-2",
       "width": "32px"
      }
     },
     "b2616132e074474197e2b3543aaa7eaa": {
      "model_module": "@jupyter-widgets/base",
      "model_module_version": "1.2.0",
      "model_name": "LayoutModel",
      "state": {
       "height": "32px",
       "order": "-2",
       "width": "32px"
      }
     },
     "b2621268e724423bae16af14bb080c6d": {
      "model_module": "@jupyter-widgets/base",
      "model_module_version": "1.2.0",
      "model_name": "LayoutModel",
      "state": {
       "order": "-1",
       "overflow": "visible",
       "padding": "1px",
       "width": "0px"
      }
     },
     "b273ded3617443479c7b1d3ccfc21558": {
      "model_module": "@jupyter-widgets/base",
      "model_module_version": "1.2.0",
      "model_name": "LayoutModel",
      "state": {
       "height": "32px",
       "overflow": "visible",
       "width": "100%"
      }
     },
     "b2bd600d82a946f8b71d476dd434eeec": {
      "model_module": "@jupyter-widgets/base",
      "model_module_version": "1.2.0",
      "model_name": "LayoutModel",
      "state": {}
     },
     "b2c736a16440479ea7d445477e7638ef": {
      "model_module": "@jupyter-widgets/controls",
      "model_module_version": "1.5.0",
      "model_name": "HBoxModel",
      "state": {
       "children": [
        "IPY_MODEL_3b15d47970804b11b6e5b0284e89e107",
        "IPY_MODEL_865b957c18ec428eae938935c46b0586",
        "IPY_MODEL_5c56c2299fc345af8c61f9f0c51d7e77",
        "IPY_MODEL_770df35574ba4d5ab69772e973243975"
       ],
       "layout": "IPY_MODEL_1d4353d9b7444efdacda09d5f65e3c72"
      }
     },
     "b2c87d6eb4934d9cad100a2393946862": {
      "model_module": "@jupyter-widgets/controls",
      "model_module_version": "1.5.0",
      "model_name": "ProgressStyleModel",
      "state": {
       "description_width": ""
      }
     },
     "b2d089a393d84782a4c407a1c12eb617": {
      "model_module": "@jupyter-widgets/base",
      "model_module_version": "1.2.0",
      "model_name": "LayoutModel",
      "state": {
       "order": "-1",
       "overflow": "visible",
       "padding": "1px",
       "width": "0px"
      }
     },
     "b2f4cf7420ce47cc8bf47fc3952a58c5": {
      "model_module": "@jupyter-widgets/base",
      "model_module_version": "1.2.0",
      "model_name": "LayoutModel",
      "state": {
       "order": "-1",
       "overflow": "visible",
       "padding": "1px",
       "width": "0px"
      }
     },
     "b2f50e6f681f4b71af480fb2f8a0b7b1": {
      "model_module": "@jupyter-widgets/controls",
      "model_module_version": "1.5.0",
      "model_name": "DropdownModel",
      "state": {
       "_options_labels": [
        "Any",
        "Hand Cannon",
        "Auto Rifle",
        "Scout Rifle",
        "Pulse Rifle",
        "Sidearm",
        "Submachine Gun",
        "Combt Bow",
        "Sniper Rifle",
        "Shotgun"
       ],
       "index": 0,
       "layout": "IPY_MODEL_56b87d7d00c54e96938caab1e6aa41f1",
       "style": "IPY_MODEL_23ec5d15d7124ed6aed8bdaa3ca3fee4"
      }
     },
     "b30e5a33dfeb4e37b066e231cf5b8c82": {
      "model_module": "@jupyter-widgets/controls",
      "model_module_version": "1.5.0",
      "model_name": "DescriptionStyleModel",
      "state": {
       "description_width": ""
      }
     },
     "b32b77a002aa4462b8a3b6c817570573": {
      "model_module": "@jupyter-widgets/controls",
      "model_module_version": "1.5.0",
      "model_name": "ButtonStyleModel",
      "state": {}
     },
     "b35c10c8d52c420db043be1277a87da4": {
      "model_module": "@jupyter-widgets/controls",
      "model_module_version": "1.5.0",
      "model_name": "HTMLModel",
      "state": {
       "layout": "IPY_MODEL_6172052634794ef49cde71e08f822600",
       "style": "IPY_MODEL_1cfaa3f288274adc9a2067a57a0b1c5b",
       "value": "<b>Task Name</b>"
      }
     },
     "b37d8c8231194c1cafc09cbb461d3965": {
      "model_module": "@jupyter-widgets/controls",
      "model_module_version": "1.5.0",
      "model_name": "ButtonStyleModel",
      "state": {}
     },
     "b38911071d5d47ceb9d55dc2f61053b0": {
      "model_module": "@jupyter-widgets/controls",
      "model_module_version": "1.5.0",
      "model_name": "DescriptionStyleModel",
      "state": {
       "description_width": ""
      }
     },
     "b396722fd8ee44d9946d881203e1b316": {
      "model_module": "@jupyter-widgets/base",
      "model_module_version": "1.2.0",
      "model_name": "LayoutModel",
      "state": {
       "order": "-1",
       "overflow": "visible",
       "padding": "1px",
       "width": "0px"
      }
     },
     "b39db62fffa24832947888b119e0ff59": {
      "model_module": "@jupyter-widgets/controls",
      "model_module_version": "1.5.0",
      "model_name": "ProgressStyleModel",
      "state": {
       "description_width": ""
      }
     },
     "b3aabb1d41cb42de9455f61a4fbe73c9": {
      "model_module": "@jupyter-widgets/base",
      "model_module_version": "1.2.0",
      "model_name": "LayoutModel",
      "state": {
       "height": "32px",
       "order": "-2",
       "width": "32px"
      }
     },
     "b3c16267bd34478c8e95baee90791fc3": {
      "model_module": "@jupyter-widgets/controls",
      "model_module_version": "1.5.0",
      "model_name": "DescriptionStyleModel",
      "state": {
       "description_width": ""
      }
     },
     "b419ad1103c74a729add8625ae93ab0a": {
      "model_module": "@jupyter-widgets/base",
      "model_module_version": "1.2.0",
      "model_name": "LayoutModel",
      "state": {
       "overflow": "visible",
       "width": "100%"
      }
     },
     "b428073fd8fa4da6ac4121613db8cb50": {
      "model_module": "@jupyter-widgets/controls",
      "model_module_version": "1.5.0",
      "model_name": "DescriptionStyleModel",
      "state": {
       "description_width": ""
      }
     },
     "b42f543f6f474fb392d3233cb5c41899": {
      "model_module": "@jupyter-widgets/controls",
      "model_module_version": "1.5.0",
      "model_name": "VBoxModel",
      "state": {
       "children": [
        "IPY_MODEL_c7c337f05c2b49e68e95248bcbb92610",
        "IPY_MODEL_1dd6c78eb05148af838d6a03010f6b22",
        "IPY_MODEL_f40a0a05228e4602b657e988f97cf1c2",
        "IPY_MODEL_6cb53f5264cf4fe8a30d9cf1fbd41e76"
       ],
       "layout": "IPY_MODEL_c56e903065dd46e8955b72459c6a8428"
      }
     },
     "b43bd687b84949c6bd4d0a5df95859e7": {
      "model_module": "@jupyter-widgets/controls",
      "model_module_version": "1.5.0",
      "model_name": "ButtonModel",
      "state": {
       "description": "EDIT",
       "layout": "IPY_MODEL_180334eef0ff428e9b57245d80ea6828",
       "style": "IPY_MODEL_45eb19ddd2894db2926838678e1bb5e1"
      }
     },
     "b44b6f848a6547acb178ee17f1e21738": {
      "model_module": "@jupyter-widgets/controls",
      "model_module_version": "1.5.0",
      "model_name": "ButtonStyleModel",
      "state": {}
     },
     "b44ca83ed967497e80854dbb6fe4a3f8": {
      "model_module": "@jupyter-widgets/base",
      "model_module_version": "1.2.0",
      "model_name": "LayoutModel",
      "state": {}
     },
     "b44d906598c542949051248c36b734eb": {
      "model_module": "@jupyter-widgets/base",
      "model_module_version": "1.2.0",
      "model_name": "LayoutModel",
      "state": {
       "order": "-1",
       "overflow": "visible",
       "padding": "1px",
       "width": "0px"
      }
     },
     "b451e4ed7ba04a11911b0f17b782ff42": {
      "model_module": "@jupyter-widgets/base",
      "model_module_version": "1.2.0",
      "model_name": "LayoutModel",
      "state": {}
     },
     "b47026b7bc39495583ab5f1d2667d149": {
      "model_module": "@jupyter-widgets/controls",
      "model_module_version": "1.5.0",
      "model_name": "IntProgressModel",
      "state": {
       "layout": "IPY_MODEL_e0d8a92be93a44beb37d58599d9eaac7",
       "style": "IPY_MODEL_91bcd66ed181461c8e974ac506fe1a31",
       "value": 30
      }
     },
     "b491ef95c6e54e8a8f499a762a3fe3fa": {
      "model_module": "@jupyter-widgets/base",
      "model_module_version": "1.2.0",
      "model_name": "LayoutModel",
      "state": {
       "height": "32px",
       "overflow": "visible",
       "width": "100%"
      }
     },
     "b4941cbbbd1547baa8680a6759b8c3e1": {
      "model_module": "@jupyter-widgets/controls",
      "model_module_version": "1.5.0",
      "model_name": "IntProgressModel",
      "state": {
       "layout": "IPY_MODEL_46742a5e52644526a98c4706b78afcb9",
       "style": "IPY_MODEL_8d6d6ed3e2c642f983d28482f7e05afa",
       "value": 30
      }
     },
     "b49d6a23bcea4e519c4481ce2dc78765": {
      "model_module": "@jupyter-widgets/base",
      "model_module_version": "1.2.0",
      "model_name": "LayoutModel",
      "state": {
       "order": "-1",
       "overflow": "visible",
       "padding": "1px",
       "width": "0px"
      }
     },
     "b4a3b66193b94d3397f28f5586944d1c": {
      "model_module": "@jupyter-widgets/controls",
      "model_module_version": "1.5.0",
      "model_name": "HBoxModel",
      "state": {
       "children": [
        "IPY_MODEL_4b75df7fdfb44cfbafea97dd12ccc84f",
        "IPY_MODEL_fb4ec7f7d9224616bdf69c9a9ec04eff",
        "IPY_MODEL_19e4601587b34b028651c2657ae49905",
        "IPY_MODEL_d2a8ee9ca4eb45dab06e79a3dcc8c93d"
       ],
       "layout": "IPY_MODEL_60fed2c569984a8d9590bdfde299896c"
      }
     },
     "b4c1756de73143eb8d09be3506bc470c": {
      "model_module": "@jupyter-widgets/controls",
      "model_module_version": "1.5.0",
      "model_name": "ButtonModel",
      "state": {
       "description": "EDIT",
       "layout": "IPY_MODEL_ea33efc6049c48639d115b3f13c85a5d",
       "style": "IPY_MODEL_edb0c5a3f7ee4cff917988debd6cf680"
      }
     },
     "b4f4b62c18c84f44b22b944b2782d488": {
      "model_module": "@jupyter-widgets/controls",
      "model_module_version": "1.5.0",
      "model_name": "ButtonStyleModel",
      "state": {}
     },
     "b52781e3386f44dc8ffff600e16a2c01": {
      "model_module": "@jupyter-widgets/controls",
      "model_module_version": "1.5.0",
      "model_name": "VBoxModel",
      "state": {
       "children": [
        "IPY_MODEL_018235994723411881610591296b0a61",
        "IPY_MODEL_bc4fff61209e4692996cf0fc93e3665c",
        "IPY_MODEL_733fa4fbdfd24ba68168a5435a883c0d",
        "IPY_MODEL_3cef4f6a274d40f0be429615ed339be2"
       ],
       "layout": "IPY_MODEL_179aeeae088b478a850abc46df5fa05c"
      }
     },
     "b52a1fe8b2df4f77a455fbab4119dbfe": {
      "model_module": "@jupyter-widgets/base",
      "model_module_version": "1.2.0",
      "model_name": "LayoutModel",
      "state": {
       "order": "-1",
       "overflow": "visible",
       "padding": "1px",
       "width": "0px"
      }
     },
     "b52bf1ec7a3f41e08dfe6a39bcd4abb6": {
      "model_module": "@jupyter-widgets/controls",
      "model_module_version": "1.5.0",
      "model_name": "ButtonStyleModel",
      "state": {}
     },
     "b52f76effe69407681cbfde6ce46bd6c": {
      "model_module": "@jupyter-widgets/base",
      "model_module_version": "1.2.0",
      "model_name": "LayoutModel",
      "state": {
       "width": "60px"
      }
     },
     "b5314da9ac47433bb4d826ff77f90d74": {
      "model_module": "@jupyter-widgets/controls",
      "model_module_version": "1.5.0",
      "model_name": "LabelModel",
      "state": {
       "layout": "IPY_MODEL_01e5b0b8648948c1888cf6190529d4e9",
       "style": "IPY_MODEL_8de6883df54148578d70d6261e32c0bd",
       "value": "   objective"
      }
     },
     "b54189d204f3470fa5333243a73ac720": {
      "model_module": "@jupyter-widgets/controls",
      "model_module_version": "1.5.0",
      "model_name": "DescriptionStyleModel",
      "state": {
       "description_width": ""
      }
     },
     "b544c2e4bfce402881ce71f7eceb12eb": {
      "model_module": "@jupyter-widgets/controls",
      "model_module_version": "1.5.0",
      "model_name": "IntProgressModel",
      "state": {
       "layout": "IPY_MODEL_e564873a3a3b4b659f8fe5392b2d6369",
       "style": "IPY_MODEL_1ec74c0df5cf4d3abea29612bf95fd0e",
       "value": 30
      }
     },
     "b5588e43cc6f40d48112947dcd1c78a1": {
      "model_module": "@jupyter-widgets/controls",
      "model_module_version": "1.5.0",
      "model_name": "IntProgressModel",
      "state": {
       "layout": "IPY_MODEL_68c64112c8d6467685631ce9c39aa10c",
       "style": "IPY_MODEL_a301c8707a4d4b4aabf7d35d005f9309",
       "value": 30
      }
     },
     "b561c23e80744e6fb6f109645c8f25ed": {
      "model_module": "@jupyter-widgets/base",
      "model_module_version": "1.2.0",
      "model_name": "LayoutModel",
      "state": {
       "width": "60px"
      }
     },
     "b572e8aceb644ef6bd7a2f742bfd6bd0": {
      "model_module": "@jupyter-widgets/base",
      "model_module_version": "1.2.0",
      "model_name": "LayoutModel",
      "state": {}
     },
     "b57efbcee5b04c60b6283c4060aa3be5": {
      "model_module": "@jupyter-widgets/controls",
      "model_module_version": "1.5.0",
      "model_name": "ButtonStyleModel",
      "state": {}
     },
     "b587e74a987045dc9bca654a1c0a4d70": {
      "model_module": "@jupyter-widgets/controls",
      "model_module_version": "1.5.0",
      "model_name": "ButtonModel",
      "state": {
       "description": "EDIT",
       "layout": "IPY_MODEL_3be07d41e3dc4155a0e2ab15b1a7baaf",
       "style": "IPY_MODEL_4f96c22f15b14b47844ac5e994e18443"
      }
     },
     "b59038eedab74b098296224a2f1c44a8": {
      "model_module": "@jupyter-widgets/controls",
      "model_module_version": "1.5.0",
      "model_name": "HBoxModel",
      "state": {
       "children": [
        "IPY_MODEL_19ca1e8a77ba49e38d1b01a6f467130f",
        "IPY_MODEL_fafc0cfbd4964506a09d579ab2a55f93",
        "IPY_MODEL_c039ed5707864e769f1737216a6e4c8a",
        "IPY_MODEL_4943d75f1f0f4c68955d7d9606a677ea"
       ],
       "layout": "IPY_MODEL_1d68c051f83348808b05c551dd6e2231"
      }
     },
     "b5afaef182a447a0846f5565ab165564": {
      "model_module": "@jupyter-widgets/controls",
      "model_module_version": "1.5.0",
      "model_name": "DescriptionStyleModel",
      "state": {
       "description_width": ""
      }
     },
     "b5c60ff655d14d6387a7e858e84bc5b8": {
      "model_module": "@jupyter-widgets/base",
      "model_module_version": "1.2.0",
      "model_name": "LayoutModel",
      "state": {
       "height": "32px",
       "order": "-2",
       "width": "32px"
      }
     },
     "b5c7bf7fbf65466990d49337268cdcd4": {
      "model_module": "@jupyter-widgets/controls",
      "model_module_version": "1.5.0",
      "model_name": "IntProgressModel",
      "state": {
       "layout": "IPY_MODEL_9d2c6bc78c1d4fa19ec2d84c38eb3e88",
       "style": "IPY_MODEL_03b03c1edafe4fd489132233006e8241",
       "value": 30
      }
     },
     "b5d0d10e0bd343b69220cf37f949aa3c": {
      "model_module": "@jupyter-widgets/controls",
      "model_module_version": "1.5.0",
      "model_name": "DescriptionStyleModel",
      "state": {
       "description_width": ""
      }
     },
     "b5e91111ca8b475fae25a662784607a5": {
      "model_module": "@jupyter-widgets/controls",
      "model_module_version": "1.5.0",
      "model_name": "LabelModel",
      "state": {
       "layout": "IPY_MODEL_f876af64922441ecb5fa16c17f5679a3",
       "style": "IPY_MODEL_46e1a69237ac4a7894e2816d238a9799",
       "value": "   objective"
      }
     },
     "b5fbd833bc894272839e61d0159c852d": {
      "model_module": "@jupyter-widgets/controls",
      "model_module_version": "1.5.0",
      "model_name": "ButtonStyleModel",
      "state": {}
     },
     "b603381ab74d4b5eb60727280fae6e14": {
      "model_module": "@jupyter-widgets/controls",
      "model_module_version": "1.5.0",
      "model_name": "IntProgressModel",
      "state": {
       "layout": "IPY_MODEL_8bf42be28e574bf1b7acaf39526c6404",
       "style": "IPY_MODEL_afb6b1103a6846dd9404a8774e5234e7",
       "value": 30
      }
     },
     "b60533afe6664a63ad0de4e450fd0eeb": {
      "model_module": "@jupyter-widgets/controls",
      "model_module_version": "1.5.0",
      "model_name": "HBoxModel",
      "state": {
       "children": [
        "IPY_MODEL_d2b02c0fcb8048f8907e9f05f1f2915e",
        "IPY_MODEL_0d8699854cdf488b9c98da9eb8c71f19",
        "IPY_MODEL_bad2433155c046b2aec2aff804d015e8",
        "IPY_MODEL_672ad400b7b34936b423225223878d77"
       ],
       "layout": "IPY_MODEL_9467bd3d168047dba7c9fa7149404b27"
      }
     },
     "b629bbe171044923938b49ae3b7ef68f": {
      "model_module": "@jupyter-widgets/controls",
      "model_module_version": "1.5.0",
      "model_name": "IntProgressModel",
      "state": {
       "layout": "IPY_MODEL_91820c9216ba41f99b23622a9d1f6414",
       "style": "IPY_MODEL_e7a584a1d0c342d48c9c3a4e07938425",
       "value": 30
      }
     },
     "b63447d62c3e4c6bb8ef4eb55356fb79": {
      "model_module": "@jupyter-widgets/base",
      "model_module_version": "1.2.0",
      "model_name": "LayoutModel",
      "state": {
       "order": "-1",
       "overflow": "visible",
       "padding": "1px",
       "width": "0px"
      }
     },
     "b65b31f13a964141b1af682473da3ee2": {
      "model_module": "@jupyter-widgets/base",
      "model_module_version": "1.2.0",
      "model_name": "LayoutModel",
      "state": {
       "border": "3px solid white",
       "flex": "1 1 0%",
       "margin": "10px",
       "min_width": "400px",
       "overflow": "visible",
       "padding": "10px",
       "width": "auto"
      }
     },
     "b68b83aeefec41aa819a28b19f95ff0a": {
      "model_module": "@jupyter-widgets/controls",
      "model_module_version": "1.5.0",
      "model_name": "ButtonModel",
      "state": {
       "layout": "IPY_MODEL_d6177c0cc6344e67974c9350f5a88a2c",
       "style": "IPY_MODEL_ecc802ab9c7e4c3990e4fdb15e868498"
      }
     },
     "b6a20f2dfd2b4f5d87cf0e1331f8db7f": {
      "model_module": "@jupyter-widgets/controls",
      "model_module_version": "1.5.0",
      "model_name": "IntProgressModel",
      "state": {
       "layout": "IPY_MODEL_b145eb022c074d38b2b6ee2b1f4f593c",
       "style": "IPY_MODEL_8993cb40026c41e2b50442f0e87461dc",
       "value": 30
      }
     },
     "b6bebf7ddd094478acc8d7dba93d129c": {
      "model_module": "@jupyter-widgets/controls",
      "model_module_version": "1.5.0",
      "model_name": "ProgressStyleModel",
      "state": {
       "description_width": ""
      }
     },
     "b6d43f9444054cdc96f5133921a4fd0e": {
      "model_module": "@jupyter-widgets/controls",
      "model_module_version": "1.5.0",
      "model_name": "LabelModel",
      "state": {
       "layout": "IPY_MODEL_9185974c9592431c95b545dc5a588b66",
       "style": "IPY_MODEL_d0afc6c006c34991ac55ace34c840eb2",
       "value": "   objective"
      }
     },
     "b6da10cec5c947f2a81e775b5ec020ab": {
      "model_module": "@jupyter-widgets/controls",
      "model_module_version": "1.5.0",
      "model_name": "DescriptionStyleModel",
      "state": {
       "description_width": ""
      }
     },
     "b6dd222eabad4aaeb4ba82b7c14a99dd": {
      "model_module": "@jupyter-widgets/base",
      "model_module_version": "1.2.0",
      "model_name": "LayoutModel",
      "state": {
       "order": "-1",
       "overflow": "visible",
       "padding": "1px",
       "width": "0px"
      }
     },
     "b6ea276428b945a9b1306c1092f12328": {
      "model_module": "@jupyter-widgets/controls",
      "model_module_version": "1.5.0",
      "model_name": "IntProgressModel",
      "state": {
       "layout": "IPY_MODEL_be9cec2121f34de98d31e89621fe47bc",
       "style": "IPY_MODEL_7a2d003cfc6c4b089825ad1e8cc063a7",
       "value": 30
      }
     },
     "b6f2345f68cb4d68b5a0e77b4f84ba33": {
      "model_module": "@jupyter-widgets/base",
      "model_module_version": "1.2.0",
      "model_name": "LayoutModel",
      "state": {
       "height": "32px",
       "overflow": "visible",
       "width": "100%"
      }
     },
     "b6f4e003d83246689dc893a789f28be0": {
      "model_module": "@jupyter-widgets/controls",
      "model_module_version": "1.5.0",
      "model_name": "LabelModel",
      "state": {
       "layout": "IPY_MODEL_da50449ed5924e36a674c4cc5e90f5ed",
       "style": "IPY_MODEL_ccd2452c799d42f38cfe361b2e2e37fb",
       "value": "   objective"
      }
     },
     "b720143222da4c499c071fa6ba9a74c4": {
      "model_module": "@jupyter-widgets/controls",
      "model_module_version": "1.5.0",
      "model_name": "HBoxModel",
      "state": {
       "children": [
        "IPY_MODEL_1c1c22c203bb4f83a7ac083311bb0f37",
        "IPY_MODEL_c247c30f056b454f8b9a432130b50ea7",
        "IPY_MODEL_31ccc9d368f94e68b04167ed6a7d9944",
        "IPY_MODEL_d795c6871c6e4615851edb2ce973bc3d"
       ],
       "layout": "IPY_MODEL_427e7dff481f4572b969027fb56e6c5a"
      }
     },
     "b72ec0d7d7264f35b7e84b78565c2340": {
      "model_module": "@jupyter-widgets/base",
      "model_module_version": "1.2.0",
      "model_name": "LayoutModel",
      "state": {}
     },
     "b743d64ca13c4065b35e7a6a00f5b23d": {
      "model_module": "@jupyter-widgets/base",
      "model_module_version": "1.2.0",
      "model_name": "LayoutModel",
      "state": {
       "height": "32px",
       "overflow": "visible",
       "width": "100%"
      }
     },
     "b7620a41453d40f0b5fed704aefdc1b7": {
      "model_module": "@jupyter-widgets/base",
      "model_module_version": "1.2.0",
      "model_name": "LayoutModel",
      "state": {
       "width": "60px"
      }
     },
     "b7675c9afe2f4e34ace5dce237acc62c": {
      "model_module": "@jupyter-widgets/base",
      "model_module_version": "1.2.0",
      "model_name": "LayoutModel",
      "state": {
       "order": "-1",
       "overflow": "visible",
       "padding": "1px",
       "width": "0px"
      }
     },
     "b771ddc3969743de96f4406de0b75cb5": {
      "model_module": "@jupyter-widgets/controls",
      "model_module_version": "1.5.0",
      "model_name": "LabelModel",
      "state": {
       "layout": "IPY_MODEL_973f25b813354166b66b46722ed99963",
       "style": "IPY_MODEL_fa5f5d64e79d4da08ca4e8c7e7f9123e",
       "value": "   objective"
      }
     },
     "b789b730839345d3a9eeb812643351c7": {
      "model_module": "@jupyter-widgets/controls",
      "model_module_version": "1.5.0",
      "model_name": "ButtonModel",
      "state": {
       "layout": "IPY_MODEL_0d4b42e161f04d66bd8287028d33fb00",
       "style": "IPY_MODEL_d4beab816d194b9fa6c62e4076f5f389"
      }
     },
     "b78c00ca298646d8be0c6084294baefa": {
      "model_module": "@jupyter-widgets/controls",
      "model_module_version": "1.5.0",
      "model_name": "ProgressStyleModel",
      "state": {
       "description_width": ""
      }
     },
     "b78fcc5797074383ae3299e00dc32c68": {
      "model_module": "@jupyter-widgets/controls",
      "model_module_version": "1.5.0",
      "model_name": "DescriptionStyleModel",
      "state": {
       "description_width": ""
      }
     },
     "b79afbf9f0c9493783d025a6875f582a": {
      "model_module": "@jupyter-widgets/base",
      "model_module_version": "1.2.0",
      "model_name": "LayoutModel",
      "state": {}
     },
     "b7c73e96a76140b2b5ccf5b6cd936e2d": {
      "model_module": "@jupyter-widgets/controls",
      "model_module_version": "1.5.0",
      "model_name": "IntProgressModel",
      "state": {
       "layout": "IPY_MODEL_fb1d53790acc45f98f728b38dede3b1b",
       "style": "IPY_MODEL_c5d60de2b46c49c695da69234ea436b3",
       "value": 30
      }
     },
     "b7cd85b153c44964909b35d46e4ec1d5": {
      "model_module": "@jupyter-widgets/controls",
      "model_module_version": "1.5.0",
      "model_name": "HBoxModel",
      "state": {
       "children": [
        "IPY_MODEL_10502605e81f485ea12d091483f9d173",
        "IPY_MODEL_e1679d61e14147c8b3e9328dd1ef439f",
        "IPY_MODEL_94f80a480de24edb8bcd395aa6d5ff4c",
        "IPY_MODEL_243d04987bca41f0a7fd8f694de741be"
       ],
       "layout": "IPY_MODEL_39d348f8345b412791a5e3dbc6f8ecc0"
      }
     },
     "b7eead6a8c4440849e137f38ca66b0d6": {
      "model_module": "@jupyter-widgets/base",
      "model_module_version": "1.2.0",
      "model_name": "LayoutModel",
      "state": {
       "height": "32px",
       "overflow": "visible",
       "width": "100%"
      }
     },
     "b7fd1d7a0dc244e480a3f6eea8793583": {
      "model_module": "@jupyter-widgets/base",
      "model_module_version": "1.2.0",
      "model_name": "LayoutModel",
      "state": {
       "order": "-1",
       "overflow": "visible",
       "padding": "1px",
       "width": "0px"
      }
     },
     "b80c2b9343f74e639e9c061c94d5a14b": {
      "model_module": "@jupyter-widgets/base",
      "model_module_version": "1.2.0",
      "model_name": "LayoutModel",
      "state": {
       "order": "-1",
       "overflow": "visible",
       "padding": "1px",
       "width": "0px"
      }
     },
     "b84287bfd9504b39a4835d732f082cb2": {
      "model_module": "@jupyter-widgets/controls",
      "model_module_version": "1.5.0",
      "model_name": "IntProgressModel",
      "state": {
       "layout": "IPY_MODEL_9c2b7ea6a0384df88c8cd053a82eeab9",
       "style": "IPY_MODEL_a7d3b70a492c40dc929ab38fd306f603",
       "value": 30
      }
     },
     "b867bdff83bd4ad9af8db7e69dccf11c": {
      "model_module": "@jupyter-widgets/base",
      "model_module_version": "1.2.0",
      "model_name": "LayoutModel",
      "state": {
       "order": "-1",
       "overflow": "visible",
       "padding": "1px",
       "width": "0px"
      }
     },
     "b891b5bb64e14fc7ab0173fc4395c980": {
      "model_module": "@jupyter-widgets/controls",
      "model_module_version": "1.5.0",
      "model_name": "LabelModel",
      "state": {
       "layout": "IPY_MODEL_85ea91c48d424256964e078e6db8f9d8",
       "style": "IPY_MODEL_8d680bfd9d6d4888b383c8ae30fe8e88",
       "value": "   objective"
      }
     },
     "b8b14f2588124dc0baffbf4730eb73d6": {
      "model_module": "@jupyter-widgets/controls",
      "model_module_version": "1.5.0",
      "model_name": "HTMLModel",
      "state": {
       "layout": "IPY_MODEL_32f543ddea89464595c65c24f7294595",
       "style": "IPY_MODEL_ec0bc3c934314f7bb965556817ea60b4",
       "value": "<i>test test test test test test test test test test test test test test test test test test test test test test test test </i>"
      }
     },
     "b8cdc348c25e4672a1e008012ab86bd1": {
      "model_module": "@jupyter-widgets/base",
      "model_module_version": "1.2.0",
      "model_name": "LayoutModel",
      "state": {
       "order": "-1",
       "overflow": "visible",
       "padding": "1px",
       "width": "0px"
      }
     },
     "b8da70a6e5c7443282e57a4d723329d9": {
      "model_module": "@jupyter-widgets/controls",
      "model_module_version": "1.5.0",
      "model_name": "DescriptionStyleModel",
      "state": {
       "description_width": ""
      }
     },
     "b8eb04cde33c46b09edb5ff31f6cce1f": {
      "model_module": "@jupyter-widgets/controls",
      "model_module_version": "1.5.0",
      "model_name": "ButtonStyleModel",
      "state": {}
     },
     "b8f6014f30524400a18da5e58f62bdc7": {
      "model_module": "@jupyter-widgets/controls",
      "model_module_version": "1.5.0",
      "model_name": "HTMLModel",
      "state": {
       "layout": "IPY_MODEL_974a17e21e204e078b9d69d4cb1947a6",
       "style": "IPY_MODEL_5f88a36a71a942428ee8fdf1d7f5dca1",
       "value": "<i>test test test test test test test test test test test test test test test test test test test test test test test test </i>"
      }
     },
     "b9302c2d60124e258500d60f6941e653": {
      "model_module": "@jupyter-widgets/controls",
      "model_module_version": "1.5.0",
      "model_name": "ButtonModel",
      "state": {
       "layout": "IPY_MODEL_ad7f9c878493420f9635565184ccc1ba",
       "style": "IPY_MODEL_810b7084c41049a5bfbe359cbd3e9b91"
      }
     },
     "b954bc9272d94ad6b1f8f22c41c6d75b": {
      "model_module": "@jupyter-widgets/controls",
      "model_module_version": "1.5.0",
      "model_name": "IntProgressModel",
      "state": {
       "layout": "IPY_MODEL_3044619e3a2a4924a7f642ed9ad7f48d",
       "style": "IPY_MODEL_3e8e0a6056534521aa2b24babcfbc1c7",
       "value": 30
      }
     },
     "b9a4303133fa412082f052c3c68b40cd": {
      "model_module": "@jupyter-widgets/base",
      "model_module_version": "1.2.0",
      "model_name": "LayoutModel",
      "state": {
       "height": "32px",
       "overflow": "visible",
       "width": "100%"
      }
     },
     "b9b1b77c474148cab8a52b2e41764cc8": {
      "model_module": "@jupyter-widgets/controls",
      "model_module_version": "1.5.0",
      "model_name": "ButtonStyleModel",
      "state": {}
     },
     "b9c36985c5854ce3afd0f91b6417a4c1": {
      "model_module": "@jupyter-widgets/base",
      "model_module_version": "1.2.0",
      "model_name": "LayoutModel",
      "state": {
       "order": "-1",
       "overflow": "visible",
       "padding": "1px",
       "width": "0px"
      }
     },
     "b9ccb4a4625b4932b100ab1ae5da3325": {
      "model_module": "@jupyter-widgets/base",
      "model_module_version": "1.2.0",
      "model_name": "LayoutModel",
      "state": {
       "height": "32px",
       "overflow": "visible",
       "width": "100%"
      }
     },
     "ba1838318236490999dba0775feecde0": {
      "model_module": "@jupyter-widgets/base",
      "model_module_version": "1.2.0",
      "model_name": "LayoutModel",
      "state": {
       "width": "60px"
      }
     },
     "ba2fd0515e7d40b3b5d4e747f2051bdd": {
      "model_module": "@jupyter-widgets/controls",
      "model_module_version": "1.5.0",
      "model_name": "VBoxModel",
      "state": {
       "children": [
        "IPY_MODEL_663b5db1b1b34d639e8f1be47d0e39f3",
        "IPY_MODEL_1dc1b34c95554aa8bbf388ffbf4b9068",
        "IPY_MODEL_c308ffbe4d224caf9f0fafba67e27d1c",
        "IPY_MODEL_77edaea93764481c8e785b447499cc2e",
        "IPY_MODEL_b2c736a16440479ea7d445477e7638ef",
        "IPY_MODEL_ef6ee8265a074ba9954f058623ee090a"
       ],
       "layout": "IPY_MODEL_f3aaef81ac8248e8a0d6af72c9a52d87"
      }
     },
     "ba577feb1b2e44cbaf057ce366cc1d1c": {
      "model_module": "@jupyter-widgets/controls",
      "model_module_version": "1.5.0",
      "model_name": "HBoxModel",
      "state": {
       "children": [
        "IPY_MODEL_42a34c875798419c97cc3a8b19f70a82",
        "IPY_MODEL_3d4e94091e024dd3b9aad421eb063854",
        "IPY_MODEL_35dbddead24b40bea1df35902505bbfc",
        "IPY_MODEL_9aca63667369494eb8953258271f5a7d"
       ],
       "layout": "IPY_MODEL_afc1faa9ba834d3badc4635e264d55cf"
      }
     },
     "ba5c19d0192542f1a144788a84c21bd3": {
      "model_module": "@jupyter-widgets/controls",
      "model_module_version": "1.5.0",
      "model_name": "IntProgressModel",
      "state": {
       "layout": "IPY_MODEL_d0e72a958d4d452e83a33bee64cfd165",
       "style": "IPY_MODEL_8101c68dbc574d39b0ba7e437ab4404d",
       "value": 30
      }
     },
     "ba7e33fae5f841e984ce0d37e68f3aea": {
      "model_module": "@jupyter-widgets/controls",
      "model_module_version": "1.5.0",
      "model_name": "ButtonStyleModel",
      "state": {}
     },
     "ba93521e375f47ddb92c0e0f472a51dd": {
      "model_module": "@jupyter-widgets/base",
      "model_module_version": "1.2.0",
      "model_name": "LayoutModel",
      "state": {}
     },
     "bab472d7e3634bad810708570caf7197": {
      "model_module": "@jupyter-widgets/controls",
      "model_module_version": "1.5.0",
      "model_name": "ButtonStyleModel",
      "state": {}
     },
     "bad2433155c046b2aec2aff804d015e8": {
      "model_module": "@jupyter-widgets/controls",
      "model_module_version": "1.5.0",
      "model_name": "LabelModel",
      "state": {
       "layout": "IPY_MODEL_6829745df30c4eacbf623d1f855e9e58",
       "style": "IPY_MODEL_6f44157f19104d59a04bf38083388aed",
       "value": "   objective"
      }
     },
     "bad835914e2a43e0b89708036ef65370": {
      "model_module": "@jupyter-widgets/controls",
      "model_module_version": "1.5.0",
      "model_name": "ButtonModel",
      "state": {
       "description": "EDIT",
       "layout": "IPY_MODEL_8fc79435970c47a9858425ab05324062",
       "style": "IPY_MODEL_cfcd0c9beaba4356aff2294964eddb96"
      }
     },
     "bae7254bcbf44618ac858f2177e0f408": {
      "model_module": "@jupyter-widgets/controls",
      "model_module_version": "1.5.0",
      "model_name": "DescriptionStyleModel",
      "state": {
       "description_width": ""
      }
     },
     "baf4f3dcf84a42d38759ff4c8d4c3362": {
      "model_module": "@jupyter-widgets/controls",
      "model_module_version": "1.5.0",
      "model_name": "ProgressStyleModel",
      "state": {
       "description_width": ""
      }
     },
     "baf9f236b63948fe8368d3bf155d8723": {
      "model_module": "@jupyter-widgets/controls",
      "model_module_version": "1.5.0",
      "model_name": "ButtonStyleModel",
      "state": {}
     },
     "bb023c29bdaf478b9913340c2d08c825": {
      "model_module": "@jupyter-widgets/base",
      "model_module_version": "1.2.0",
      "model_name": "LayoutModel",
      "state": {
       "width": "60px"
      }
     },
     "bb05f8eba2e548da9e3acbea00879c28": {
      "model_module": "@jupyter-widgets/controls",
      "model_module_version": "1.5.0",
      "model_name": "LabelModel",
      "state": {
       "layout": "IPY_MODEL_7a14ec50d85f4cef8ea95ee5003183f4",
       "style": "IPY_MODEL_157225dbbf9541578f62a843a7573ad3",
       "value": "   objective"
      }
     },
     "bb1ddee5048240b0922f23795c6f0c26": {
      "model_module": "@jupyter-widgets/controls",
      "model_module_version": "1.5.0",
      "model_name": "ButtonModel",
      "state": {
       "layout": "IPY_MODEL_432207748e534990a6d1ac8c51158321",
       "style": "IPY_MODEL_1f5aecfe869a45f6840ad494a0efaf51"
      }
     },
     "bb276ab8e0ca4d6cae22aed2fb32cba6": {
      "model_module": "@jupyter-widgets/controls",
      "model_module_version": "1.5.0",
      "model_name": "ProgressStyleModel",
      "state": {
       "description_width": ""
      }
     },
     "bb4d36a77d064b9085cc8ae7844ee9d4": {
      "model_module": "@jupyter-widgets/base",
      "model_module_version": "1.2.0",
      "model_name": "LayoutModel",
      "state": {
       "height": "32px",
       "overflow": "visible",
       "width": "100%"
      }
     },
     "bb6f109f02c34634a59566f282716ef5": {
      "model_module": "@jupyter-widgets/base",
      "model_module_version": "1.2.0",
      "model_name": "LayoutModel",
      "state": {
       "height": "32px",
       "order": "-2",
       "width": "32px"
      }
     },
     "bb6ffa14fda14bd88be0941719c48553": {
      "model_module": "@jupyter-widgets/controls",
      "model_module_version": "1.5.0",
      "model_name": "LabelModel",
      "state": {
       "layout": "IPY_MODEL_7f32088c8db443d7a39388625f84e8b2",
       "style": "IPY_MODEL_dd1e41beff314765a143d55e813c0e82",
       "value": "   objective"
      }
     },
     "bb7c150ec3ad41659023d1529cf574f1": {
      "model_module": "@jupyter-widgets/base",
      "model_module_version": "1.2.0",
      "model_name": "LayoutModel",
      "state": {
       "display": "flex",
       "flex_flow": "row wrap"
      }
     },
     "bb93d9da938141368da1bf1d8b3ed736": {
      "model_module": "@jupyter-widgets/controls",
      "model_module_version": "1.5.0",
      "model_name": "ProgressStyleModel",
      "state": {
       "description_width": ""
      }
     },
     "bba696858bbb44e3be3263a0daa6bb7b": {
      "model_module": "@jupyter-widgets/controls",
      "model_module_version": "1.5.0",
      "model_name": "ProgressStyleModel",
      "state": {
       "description_width": ""
      }
     },
     "bbb8d1b731f743759b69040d05e3896e": {
      "model_module": "@jupyter-widgets/controls",
      "model_module_version": "1.5.0",
      "model_name": "DescriptionStyleModel",
      "state": {
       "description_width": ""
      }
     },
     "bbbc3203147c4ea693b3a834fe48d862": {
      "model_module": "@jupyter-widgets/controls",
      "model_module_version": "1.5.0",
      "model_name": "DescriptionStyleModel",
      "state": {
       "description_width": ""
      }
     },
     "bbd4f3622e1d47b8ac0c094c695fa166": {
      "model_module": "@jupyter-widgets/base",
      "model_module_version": "1.2.0",
      "model_name": "LayoutModel",
      "state": {
       "width": "60px"
      }
     },
     "bc01a3b0105845d197d7649795abbb3a": {
      "model_module": "@jupyter-widgets/controls",
      "model_module_version": "1.5.0",
      "model_name": "ButtonStyleModel",
      "state": {}
     },
     "bc039c2c0aac41c5b436be290742ce89": {
      "model_module": "@jupyter-widgets/controls",
      "model_module_version": "1.5.0",
      "model_name": "ProgressStyleModel",
      "state": {
       "description_width": ""
      }
     },
     "bc29361eec3a4b279f51fff46f42323e": {
      "model_module": "@jupyter-widgets/controls",
      "model_module_version": "1.5.0",
      "model_name": "ButtonModel",
      "state": {
       "description": "EDIT",
       "layout": "IPY_MODEL_e6e043d2b21647f5b74a5b72aa06da62",
       "style": "IPY_MODEL_28b73a12241e4072a516ce04221c04bc"
      }
     },
     "bc4c04e4c20e403c8b6f094fa814283f": {
      "model_module": "@jupyter-widgets/controls",
      "model_module_version": "1.5.0",
      "model_name": "ButtonModel",
      "state": {
       "layout": "IPY_MODEL_3f7a54288fae4605804c91a8d2044fe4",
       "style": "IPY_MODEL_7a75bda18a0240349a98de8f25c50cf7"
      }
     },
     "bc4fff61209e4692996cf0fc93e3665c": {
      "model_module": "@jupyter-widgets/controls",
      "model_module_version": "1.5.0",
      "model_name": "HTMLModel",
      "state": {
       "layout": "IPY_MODEL_78b23195d5c04d4cb88838e8648af652",
       "style": "IPY_MODEL_4d6bb078779745b4a388ae475b9e7618",
       "value": "<b>Task Name</b>"
      }
     },
     "bc6e81ce275e46399317e2f9c179a5df": {
      "model_module": "@jupyter-widgets/controls",
      "model_module_version": "1.5.0",
      "model_name": "ButtonStyleModel",
      "state": {}
     },
     "bce01f2cfa7b44c18daf3228c12fcc71": {
      "model_module": "@jupyter-widgets/base",
      "model_module_version": "1.2.0",
      "model_name": "LayoutModel",
      "state": {
       "order": "-1",
       "overflow": "visible",
       "padding": "1px",
       "width": "0px"
      }
     },
     "bce7fe5b66334d5ca3bf0e23ea20ab50": {
      "model_module": "@jupyter-widgets/controls",
      "model_module_version": "1.5.0",
      "model_name": "HBoxModel",
      "state": {
       "children": [
        "IPY_MODEL_6bfedbb7b80a4e31859831dcae4e9b85",
        "IPY_MODEL_9a682ebe7f184deeb9b3e556e7263b8e",
        "IPY_MODEL_5a004469627b4b78be1cd7a227df2079",
        "IPY_MODEL_e960aac352174a9ebcc51487a3de1f41"
       ],
       "layout": "IPY_MODEL_2286efb6eeb94c69bc0e905d4f944335"
      }
     },
     "bd012a7b2d7a4511837f9eb0bbe7736a": {
      "model_module": "@jupyter-widgets/base",
      "model_module_version": "1.2.0",
      "model_name": "LayoutModel",
      "state": {
       "height": "32px",
       "order": "-2",
       "width": "32px"
      }
     },
     "bd1241fdee5245c88617a6dcac1541d4": {
      "model_module": "@jupyter-widgets/controls",
      "model_module_version": "1.5.0",
      "model_name": "ButtonStyleModel",
      "state": {}
     },
     "bd1dd96c351a4752b33fe7b8508b5c21": {
      "model_module": "@jupyter-widgets/base",
      "model_module_version": "1.2.0",
      "model_name": "LayoutModel",
      "state": {
       "height": "32px",
       "overflow": "visible",
       "width": "100%"
      }
     },
     "bd34524cc6b6402daaf925704b8c5e29": {
      "model_module": "@jupyter-widgets/controls",
      "model_module_version": "1.5.0",
      "model_name": "DescriptionStyleModel",
      "state": {
       "description_width": ""
      }
     },
     "bd3cd92dc11944eebca7eeebbb6275ac": {
      "model_module": "@jupyter-widgets/base",
      "model_module_version": "1.2.0",
      "model_name": "LayoutModel",
      "state": {}
     },
     "bd428b4db280455a80e41c14192db49d": {
      "model_module": "@jupyter-widgets/controls",
      "model_module_version": "1.5.0",
      "model_name": "DescriptionStyleModel",
      "state": {
       "description_width": ""
      }
     },
     "bd6438a12fe942f399e52ec3b522e74c": {
      "model_module": "@jupyter-widgets/base",
      "model_module_version": "1.2.0",
      "model_name": "LayoutModel",
      "state": {}
     },
     "bdb6ce4286a646978152f8a5e037def4": {
      "model_module": "@jupyter-widgets/base",
      "model_module_version": "1.2.0",
      "model_name": "LayoutModel",
      "state": {
       "order": "-1",
       "overflow": "visible",
       "padding": "1px",
       "width": "0px"
      }
     },
     "bdc5caf615ff48d78532293a057618a6": {
      "model_module": "@jupyter-widgets/controls",
      "model_module_version": "1.5.0",
      "model_name": "ButtonModel",
      "state": {
       "layout": "IPY_MODEL_a9fbb17da8944634b9a71621fc1d285a",
       "style": "IPY_MODEL_200e112b4d1145b09701d2741c1eb8f8"
      }
     },
     "bdc67eb12f1d45f98ffc5d2fc64e9fac": {
      "model_module": "@jupyter-widgets/base",
      "model_module_version": "1.2.0",
      "model_name": "LayoutModel",
      "state": {
       "order": "-1",
       "overflow": "visible",
       "padding": "1px",
       "width": "0px"
      }
     },
     "bdd440a32d5f4dcc86480d2ba7a233b4": {
      "model_module": "@jupyter-widgets/controls",
      "model_module_version": "1.5.0",
      "model_name": "ButtonModel",
      "state": {
       "layout": "IPY_MODEL_40c181a1db5e49c6b87a528adc6a7c24",
       "style": "IPY_MODEL_767afee5e5c94ca0a7658f60e7e0606b"
      }
     },
     "bdec16a8603f482d87c89b05542cc1a7": {
      "model_module": "@jupyter-widgets/base",
      "model_module_version": "1.2.0",
      "model_name": "LayoutModel",
      "state": {
       "height": "32px",
       "order": "-2",
       "width": "32px"
      }
     },
     "bdfa1b49f30b495ba41d2bf8821833d9": {
      "model_module": "@jupyter-widgets/base",
      "model_module_version": "1.2.0",
      "model_name": "LayoutModel",
      "state": {
       "order": "-1",
       "overflow": "visible",
       "padding": "1px",
       "width": "0px"
      }
     },
     "be49ce5b8faa4127bc2423682ee7bec2": {
      "model_module": "@jupyter-widgets/base",
      "model_module_version": "1.2.0",
      "model_name": "LayoutModel",
      "state": {}
     },
     "be58dba303294f7faa1b06a1c72c843b": {
      "model_module": "@jupyter-widgets/controls",
      "model_module_version": "1.5.0",
      "model_name": "IntProgressModel",
      "state": {
       "layout": "IPY_MODEL_f525cacbdd454e7f831797c7c117b462",
       "style": "IPY_MODEL_6ea229d25666407d8fd261a203bd606f",
       "value": 30
      }
     },
     "be5bb0004c9b4c4c89059bd159afa801": {
      "model_module": "@jupyter-widgets/base",
      "model_module_version": "1.2.0",
      "model_name": "LayoutModel",
      "state": {
       "overflow": "visible",
       "width": "100%"
      }
     },
     "be81816b75cb46e2a712e79f647ea7b4": {
      "model_module": "@jupyter-widgets/controls",
      "model_module_version": "1.5.0",
      "model_name": "HBoxModel",
      "state": {
       "children": [
        "IPY_MODEL_5cc1bd97f2b24287b37f764e1cfe7fd9",
        "IPY_MODEL_6e912c55951a49cda033a57d48d0f20f",
        "IPY_MODEL_9016e8367cf84b238601e3696c4e3349",
        "IPY_MODEL_5e937c9cfe584365a0f246f82e3c396c"
       ],
       "layout": "IPY_MODEL_106cf1eb7fda4ea1b7e2438e6e644b53"
      }
     },
     "be8e35d842a342f3ae315af8bf92ae03": {
      "model_module": "@jupyter-widgets/controls",
      "model_module_version": "1.5.0",
      "model_name": "ButtonStyleModel",
      "state": {}
     },
     "be9cec2121f34de98d31e89621fe47bc": {
      "model_module": "@jupyter-widgets/base",
      "model_module_version": "1.2.0",
      "model_name": "LayoutModel",
      "state": {
       "height": "32px",
       "overflow": "visible",
       "width": "100%"
      }
     },
     "beaefadcec644b41891326fc6ec8f3d0": {
      "model_module": "@jupyter-widgets/controls",
      "model_module_version": "1.5.0",
      "model_name": "VBoxModel",
      "state": {
       "children": [
        "IPY_MODEL_454e5f6f8954467aa5609456d3e24806",
        "IPY_MODEL_3729072c16f5440c870e655c07f168d1",
        "IPY_MODEL_b8b14f2588124dc0baffbf4730eb73d6",
        "IPY_MODEL_ad8cc64963fa401b9e67b59a663b9416"
       ],
       "layout": "IPY_MODEL_d61ae680a4bd493c87a2f9f1b3225a22"
      }
     },
     "beb076f8e855479f968b2e3d15b364ef": {
      "model_module": "@jupyter-widgets/base",
      "model_module_version": "1.2.0",
      "model_name": "LayoutModel",
      "state": {
       "height": "32px",
       "order": "-2",
       "width": "32px"
      }
     },
     "becfed4fd3c34eca8199a4a250e74c0b": {
      "model_module": "@jupyter-widgets/controls",
      "model_module_version": "1.5.0",
      "model_name": "ButtonStyleModel",
      "state": {}
     },
     "beed00c010c84258bbf8913055b0b4c9": {
      "model_module": "@jupyter-widgets/base",
      "model_module_version": "1.2.0",
      "model_name": "LayoutModel",
      "state": {
       "height": "32px",
       "order": "-2",
       "width": "32px"
      }
     },
     "beeea98fc4cb42fa8f681fabb2565625": {
      "model_module": "@jupyter-widgets/controls",
      "model_module_version": "1.5.0",
      "model_name": "HBoxModel",
      "state": {
       "children": [
        "IPY_MODEL_2a75ec6a351a41c694e40310e20aff8a",
        "IPY_MODEL_09fd609055dd44dd8789cae671fac06f",
        "IPY_MODEL_f051eeae9b8e40bc901892f0c6838bcf",
        "IPY_MODEL_1d20aa5ed11f4afd908214885c1227c4"
       ],
       "layout": "IPY_MODEL_646d4b21caa3443cb296d029f6a1c956"
      }
     },
     "bf09e08745294c888f75f649d06ba6b0": {
      "model_module": "@jupyter-widgets/controls",
      "model_module_version": "1.5.0",
      "model_name": "ButtonModel",
      "state": {
       "description": "EDIT",
       "layout": "IPY_MODEL_77505dd3752247eea669322f47197def",
       "style": "IPY_MODEL_581a9ed44d8b4bf0988e45eb49a06d50"
      }
     },
     "bf0d055e431d4087b90d4cfe32c59e45": {
      "model_module": "@jupyter-widgets/controls",
      "model_module_version": "1.5.0",
      "model_name": "ProgressStyleModel",
      "state": {
       "description_width": ""
      }
     },
     "bf0dfa6213754c79a96c263d60054ec6": {
      "model_module": "@jupyter-widgets/controls",
      "model_module_version": "1.5.0",
      "model_name": "ProgressStyleModel",
      "state": {
       "description_width": ""
      }
     },
     "bf4f7771533948e48c02feb3c2c6d819": {
      "model_module": "@jupyter-widgets/base",
      "model_module_version": "1.2.0",
      "model_name": "LayoutModel",
      "state": {
       "order": "-1",
       "overflow": "visible",
       "padding": "1px",
       "width": "0px"
      }
     },
     "bf58d9744f3b4255bd32af6650945603": {
      "model_module": "@jupyter-widgets/base",
      "model_module_version": "1.2.0",
      "model_name": "LayoutModel",
      "state": {
       "height": "32px",
       "order": "-2",
       "width": "32px"
      }
     },
     "bf66d7672d2d43f49f8c23c4dc113d0c": {
      "model_module": "@jupyter-widgets/controls",
      "model_module_version": "1.5.0",
      "model_name": "DescriptionStyleModel",
      "state": {
       "description_width": ""
      }
     },
     "bf69ffd2247248898f97295040190955": {
      "model_module": "@jupyter-widgets/base",
      "model_module_version": "1.2.0",
      "model_name": "LayoutModel",
      "state": {
       "height": "32px",
       "order": "-2",
       "width": "32px"
      }
     },
     "bf7b3bea655540ca8563da9fec06ca70": {
      "model_module": "@jupyter-widgets/controls",
      "model_module_version": "1.5.0",
      "model_name": "ButtonStyleModel",
      "state": {}
     },
     "bf82785552454d999938db9c2a490c7c": {
      "model_module": "@jupyter-widgets/base",
      "model_module_version": "1.2.0",
      "model_name": "LayoutModel",
      "state": {
       "height": "32px",
       "overflow": "visible",
       "width": "100%"
      }
     },
     "bf8355b09c214a6fa4139b9d87a91274": {
      "model_module": "@jupyter-widgets/controls",
      "model_module_version": "1.5.0",
      "model_name": "VBoxModel",
      "state": {
       "children": [
        "IPY_MODEL_f1e62c56ecd94eef83ab53de30b19d25",
        "IPY_MODEL_057427af83894521a85a00c60ecbb958",
        "IPY_MODEL_d5c3a588f860466f9c88df9e6a82ef91",
        "IPY_MODEL_52f183d96e3e48888e357f5abbede572",
        "IPY_MODEL_61ce91f9a2294860a931ca6965e46d01",
        "IPY_MODEL_c64f8b449c6f46c0bd8b52ef8f6f4d71"
       ],
       "layout": "IPY_MODEL_c60eacc000f74cbe85423559510a23b9"
      }
     },
     "bf8697f67bce4c9faa44788017196a64": {
      "model_module": "@jupyter-widgets/base",
      "model_module_version": "1.2.0",
      "model_name": "LayoutModel",
      "state": {}
     },
     "bf8cd4e4d26140fdb941c120df20f237": {
      "model_module": "@jupyter-widgets/controls",
      "model_module_version": "1.5.0",
      "model_name": "LabelModel",
      "state": {
       "layout": "IPY_MODEL_52cdc695ac684996ac99817237f84115",
       "style": "IPY_MODEL_8a041a5375c54a3fa3030863b295fd0c",
       "value": "   objective"
      }
     },
     "bf9f7d90b3c444e78a6a7440fb40eb6a": {
      "model_module": "@jupyter-widgets/base",
      "model_module_version": "1.2.0",
      "model_name": "LayoutModel",
      "state": {
       "display": "flex",
       "flex_flow": "row wrap"
      }
     },
     "bfa60911369e4b5c8a4e960357f58a7b": {
      "model_module": "@jupyter-widgets/controls",
      "model_module_version": "1.5.0",
      "model_name": "DescriptionStyleModel",
      "state": {
       "description_width": ""
      }
     },
     "bfd38befdc0841a887152aa81718e88c": {
      "model_module": "@jupyter-widgets/controls",
      "model_module_version": "1.5.0",
      "model_name": "LabelModel",
      "state": {
       "layout": "IPY_MODEL_a6e86e6ef28e4dfcb9c786f03f45df8c",
       "style": "IPY_MODEL_a815223935f140b599d71148ee39c8cf",
       "value": "   objective"
      }
     },
     "c0035e7b7eaa480c8d9f2a653843ca88": {
      "model_module": "@jupyter-widgets/controls",
      "model_module_version": "1.5.0",
      "model_name": "HTMLModel",
      "state": {
       "layout": "IPY_MODEL_53dfeff0b2ea47fb87c0e95d9ee1e593",
       "style": "IPY_MODEL_9a0b96e6d3f849aa8b04626462833eab",
       "value": "<b>Task Name</b>"
      }
     },
     "c00d12476a75481390c5076e2b4968d3": {
      "model_module": "@jupyter-widgets/controls",
      "model_module_version": "1.5.0",
      "model_name": "DescriptionStyleModel",
      "state": {
       "description_width": ""
      }
     },
     "c0325b0ff331475bbbe6642645ca56b1": {
      "model_module": "@jupyter-widgets/base",
      "model_module_version": "1.2.0",
      "model_name": "LayoutModel",
      "state": {
       "overflow": "visible",
       "width": "100%"
      }
     },
     "c0355a1bd4c14206bfa43ccf06f70ae6": {
      "model_module": "@jupyter-widgets/controls",
      "model_module_version": "1.5.0",
      "model_name": "LabelModel",
      "state": {
       "layout": "IPY_MODEL_c6c4a683074f4e54b94640d9532ffa3b",
       "style": "IPY_MODEL_b8da70a6e5c7443282e57a4d723329d9",
       "value": "   objective"
      }
     },
     "c039ed5707864e769f1737216a6e4c8a": {
      "model_module": "@jupyter-widgets/controls",
      "model_module_version": "1.5.0",
      "model_name": "LabelModel",
      "state": {
       "layout": "IPY_MODEL_e0cc9a5d5ab348e4986e8649e1ed42fc",
       "style": "IPY_MODEL_a20e625b83644de594a33a24fb7f8a18",
       "value": "   objective"
      }
     },
     "c0712c5a9430471eabf0e5fc23bc8417": {
      "model_module": "@jupyter-widgets/base",
      "model_module_version": "1.2.0",
      "model_name": "LayoutModel",
      "state": {
       "overflow": "visible",
       "width": "100%"
      }
     },
     "c095eaa57d464c7aa583629e173a063a": {
      "model_module": "@jupyter-widgets/base",
      "model_module_version": "1.2.0",
      "model_name": "LayoutModel",
      "state": {}
     },
     "c096167534ea4f1089b07ec85503ad17": {
      "model_module": "@jupyter-widgets/base",
      "model_module_version": "1.2.0",
      "model_name": "LayoutModel",
      "state": {}
     },
     "c0a08473d9c8499ea638f3fba7ffbde3": {
      "model_module": "@jupyter-widgets/controls",
      "model_module_version": "1.5.0",
      "model_name": "LabelModel",
      "state": {
       "layout": "IPY_MODEL_4c806626c7f44e7cb954daffe7e18ddd",
       "style": "IPY_MODEL_0a6637de198d4606a1b9f1a7270ab9fe",
       "value": "   objective"
      }
     },
     "c0b5eb12639148bba34bccac03261766": {
      "model_module": "@jupyter-widgets/base",
      "model_module_version": "1.2.0",
      "model_name": "LayoutModel",
      "state": {
       "height": "32px",
       "order": "-2",
       "width": "32px"
      }
     },
     "c0b759cd8cfa43c59ea27dbd36ccb4ea": {
      "model_module": "@jupyter-widgets/base",
      "model_module_version": "1.2.0",
      "model_name": "LayoutModel",
      "state": {
       "order": "-1",
       "overflow": "visible",
       "padding": "1px",
       "width": "0px"
      }
     },
     "c0e456498ad6404ebdf23c3e2398d411": {
      "model_module": "@jupyter-widgets/controls",
      "model_module_version": "1.5.0",
      "model_name": "LabelModel",
      "state": {
       "layout": "IPY_MODEL_76263a61d3654c0b8ad4482eb54f4acc",
       "style": "IPY_MODEL_c6b20a917d174dd2be14ede7d40e217e",
       "value": "   objective"
      }
     },
     "c0e46f10c21e4f6496000910fa423c1a": {
      "model_module": "@jupyter-widgets/controls",
      "model_module_version": "1.5.0",
      "model_name": "IntProgressModel",
      "state": {
       "layout": "IPY_MODEL_0d2ed3b5450444cdabaa87ce08f80bdd",
       "style": "IPY_MODEL_608d10b7ab864f458edad1a7a8470e42",
       "value": 30
      }
     },
     "c0e8ff104afc4ca78283394257d78d46": {
      "model_module": "@jupyter-widgets/controls",
      "model_module_version": "1.5.0",
      "model_name": "ButtonStyleModel",
      "state": {}
     },
     "c103133e30a34a12a17152aa4b8a07fd": {
      "model_module": "@jupyter-widgets/base",
      "model_module_version": "1.2.0",
      "model_name": "LayoutModel",
      "state": {
       "width": "60px"
      }
     },
     "c1158a4a2a724c19a258788c2eb38851": {
      "model_module": "@jupyter-widgets/controls",
      "model_module_version": "1.5.0",
      "model_name": "LabelModel",
      "state": {
       "layout": "IPY_MODEL_db863a56de3649da9feec035b2f5cfec",
       "style": "IPY_MODEL_84d0d5234b1b4dee83597c9f4425c56d",
       "value": "   objective"
      }
     },
     "c129f402e7b54d09b1e314bedf531d53": {
      "model_module": "@jupyter-widgets/base",
      "model_module_version": "1.2.0",
      "model_name": "LayoutModel",
      "state": {
       "height": "32px",
       "overflow": "visible",
       "width": "100%"
      }
     },
     "c1502614a6fa470a8908ccce2a3d669a": {
      "model_module": "@jupyter-widgets/controls",
      "model_module_version": "1.5.0",
      "model_name": "ButtonModel",
      "state": {
       "description": "Previous",
       "layout": "IPY_MODEL_8fecd1344e14464884f42ab5c7321f97",
       "style": "IPY_MODEL_20c32c47e1234d6698c42eb0e35fd113"
      }
     },
     "c169d57d62ca4d80a70d36f5cea0729e": {
      "model_module": "@jupyter-widgets/controls",
      "model_module_version": "1.5.0",
      "model_name": "LabelModel",
      "state": {
       "layout": "IPY_MODEL_bdfa1b49f30b495ba41d2bf8821833d9",
       "style": "IPY_MODEL_4e18bc364d7143568c6ff159cecd7ea9",
       "value": "   objective"
      }
     },
     "c1e4211db7fa42c08c067ee8d068c656": {
      "model_module": "@jupyter-widgets/controls",
      "model_module_version": "1.5.0",
      "model_name": "ButtonModel",
      "state": {
       "description": "EDIT",
       "layout": "IPY_MODEL_3df004c8217641f2b3c2c263fb6b4a5b",
       "style": "IPY_MODEL_bc6e81ce275e46399317e2f9c179a5df"
      }
     },
     "c1f6c353fa3b4b20abec62960b0670db": {
      "model_module": "@jupyter-widgets/controls",
      "model_module_version": "1.5.0",
      "model_name": "ButtonStyleModel",
      "state": {}
     },
     "c2124127b09a4767994da9ab704344a7": {
      "model_module": "@jupyter-widgets/controls",
      "model_module_version": "1.5.0",
      "model_name": "LabelModel",
      "state": {
       "layout": "IPY_MODEL_885f6e4c26d7432f9f1f8c9e24729ac3",
       "style": "IPY_MODEL_23bb5a2cdde144f282c437078359cc2c",
       "value": "   objective"
      }
     },
     "c21938de04a44f34adc54350feca6723": {
      "model_module": "@jupyter-widgets/controls",
      "model_module_version": "1.5.0",
      "model_name": "HBoxModel",
      "state": {
       "children": [
        "IPY_MODEL_1a202e54e38145a08bd527439b188de5",
        "IPY_MODEL_cd5a0327ff3c49e1abc595db664a18b0",
        "IPY_MODEL_ca7b7a0c6dc9476f9ca08afb2e842571",
        "IPY_MODEL_1e281fa242514253b327a8d60602e1be"
       ],
       "layout": "IPY_MODEL_ba93521e375f47ddb92c0e0f472a51dd"
      }
     },
     "c247c30f056b454f8b9a432130b50ea7": {
      "model_module": "@jupyter-widgets/controls",
      "model_module_version": "1.5.0",
      "model_name": "IntProgressModel",
      "state": {
       "layout": "IPY_MODEL_bf82785552454d999938db9c2a490c7c",
       "style": "IPY_MODEL_02c37756f19d4def99fd2b934fc85815",
       "value": 30
      }
     },
     "c26edabddf3f4af9bae80ce087545f2b": {
      "model_module": "@jupyter-widgets/base",
      "model_module_version": "1.2.0",
      "model_name": "LayoutModel",
      "state": {}
     },
     "c271e2a07a3c4416ae813baf27753b16": {
      "model_module": "@jupyter-widgets/controls",
      "model_module_version": "1.5.0",
      "model_name": "DescriptionStyleModel",
      "state": {
       "description_width": ""
      }
     },
     "c2af7ff9e2604662a1eb60ea32d100c7": {
      "model_module": "@jupyter-widgets/controls",
      "model_module_version": "1.5.0",
      "model_name": "ProgressStyleModel",
      "state": {
       "description_width": ""
      }
     },
     "c2c45b8523c94ad7b3b5952b3233792f": {
      "model_module": "@jupyter-widgets/base",
      "model_module_version": "1.2.0",
      "model_name": "LayoutModel",
      "state": {
       "order": "-1",
       "overflow": "visible",
       "padding": "1px",
       "width": "0px"
      }
     },
     "c2cbf512ce0b40c2a32f51e088b0b901": {
      "model_module": "@jupyter-widgets/controls",
      "model_module_version": "1.5.0",
      "model_name": "LabelModel",
      "state": {
       "layout": "IPY_MODEL_e9a811e6343a4446966c7efb40ce071d",
       "style": "IPY_MODEL_f813a435c44c461d89c2f4acd6aae12b",
       "value": "   objective"
      }
     },
     "c2fc65ce92da45d2b56670f89aa5c83b": {
      "model_module": "@jupyter-widgets/controls",
      "model_module_version": "1.5.0",
      "model_name": "ButtonStyleModel",
      "state": {}
     },
     "c304d6ddbf08421695294fc04fdf64e1": {
      "model_module": "@jupyter-widgets/controls",
      "model_module_version": "1.5.0",
      "model_name": "ProgressStyleModel",
      "state": {
       "description_width": ""
      }
     },
     "c3067c0828db427b8b97f4f6143c2be3": {
      "model_module": "@jupyter-widgets/base",
      "model_module_version": "1.2.0",
      "model_name": "LayoutModel",
      "state": {
       "order": "-1",
       "overflow": "visible",
       "padding": "1px",
       "width": "0px"
      }
     },
     "c308ffbe4d224caf9f0fafba67e27d1c": {
      "model_module": "@jupyter-widgets/controls",
      "model_module_version": "1.5.0",
      "model_name": "HBoxModel",
      "state": {
       "children": [
        "IPY_MODEL_8a7201de70f048248f0d699a7c65a9d6",
        "IPY_MODEL_8e5edf3950ba4b379e56415e7391f559",
        "IPY_MODEL_6cc9e97ea14c447abf6d97aa17fb7ff0",
        "IPY_MODEL_899f6b46edce4930ba13c485d4a5b59a"
       ],
       "layout": "IPY_MODEL_312f1b25c96e41bda0a15e80da803078"
      }
     },
     "c30a20be330a44a09e2982936f064598": {
      "model_module": "@jupyter-widgets/base",
      "model_module_version": "1.2.0",
      "model_name": "LayoutModel",
      "state": {
       "order": "-1",
       "overflow": "visible",
       "padding": "1px",
       "width": "0px"
      }
     },
     "c31bc0a8e76a4888a75f699a9fa6250e": {
      "model_module": "@jupyter-widgets/controls",
      "model_module_version": "1.5.0",
      "model_name": "HBoxModel",
      "state": {
       "children": [
        "IPY_MODEL_26cc39ab5cf345459a855dff3d255728",
        "IPY_MODEL_3389aeeb1fd2401ba28ca3bda4102b50",
        "IPY_MODEL_81865d7c26744446b1435eff58967a9f",
        "IPY_MODEL_c388034540ff4c0a85fed5666c88bcdb"
       ],
       "layout": "IPY_MODEL_f2d4d279e24942c6ac90e28c638d5aea"
      }
     },
     "c335e1adc222496393a31dcdf713cc4a": {
      "model_module": "@jupyter-widgets/controls",
      "model_module_version": "1.5.0",
      "model_name": "ButtonStyleModel",
      "state": {}
     },
     "c35251061c74466798bf2ff789caf518": {
      "model_module": "@jupyter-widgets/controls",
      "model_module_version": "1.5.0",
      "model_name": "ButtonModel",
      "state": {
       "description": "EDIT",
       "layout": "IPY_MODEL_e92e76652ff74959906fc66859f22ebb",
       "style": "IPY_MODEL_a91ec66b42e34a3aab911e8b33f14522"
      }
     },
     "c3551f7401654c4fbdf8aaa03bde5b02": {
      "model_module": "@jupyter-widgets/controls",
      "model_module_version": "1.5.0",
      "model_name": "ButtonStyleModel",
      "state": {}
     },
     "c36871ee3f4f451a834db4390a87617e": {
      "model_module": "@jupyter-widgets/controls",
      "model_module_version": "1.5.0",
      "model_name": "DescriptionStyleModel",
      "state": {
       "description_width": ""
      }
     },
     "c383539640d54503a1add342a2d8e5b6": {
      "model_module": "@jupyter-widgets/controls",
      "model_module_version": "1.5.0",
      "model_name": "DescriptionStyleModel",
      "state": {
       "description_width": ""
      }
     },
     "c388034540ff4c0a85fed5666c88bcdb": {
      "model_module": "@jupyter-widgets/controls",
      "model_module_version": "1.5.0",
      "model_name": "ButtonModel",
      "state": {
       "description": "EDIT",
       "layout": "IPY_MODEL_07b36a5bf7e04061aa006a85848963e1",
       "style": "IPY_MODEL_f76e43b21f0d45499791617d56d91234"
      }
     },
     "c38c65c32fe34253ba3986db5cb10f3d": {
      "model_module": "@jupyter-widgets/controls",
      "model_module_version": "1.5.0",
      "model_name": "DescriptionStyleModel",
      "state": {
       "description_width": ""
      }
     },
     "c39d2f726407415ea85eba1d4e2009aa": {
      "model_module": "@jupyter-widgets/base",
      "model_module_version": "1.2.0",
      "model_name": "LayoutModel",
      "state": {}
     },
     "c3c9aa13b5d2426aa43bcae21bb503a8": {
      "model_module": "@jupyter-widgets/base",
      "model_module_version": "1.2.0",
      "model_name": "LayoutModel",
      "state": {
       "width": "60px"
      }
     },
     "c3d6ff3d23a04de7ae7fc2cc3d67c357": {
      "model_module": "@jupyter-widgets/controls",
      "model_module_version": "1.5.0",
      "model_name": "DescriptionStyleModel",
      "state": {
       "description_width": ""
      }
     },
     "c3d706b437f749728015ac1b6550b678": {
      "model_module": "@jupyter-widgets/base",
      "model_module_version": "1.2.0",
      "model_name": "LayoutModel",
      "state": {
       "height": "32px",
       "order": "-2",
       "width": "32px"
      }
     },
     "c3e3ca23964f4307b402dfe64442d6f6": {
      "model_module": "@jupyter-widgets/controls",
      "model_module_version": "1.5.0",
      "model_name": "DescriptionStyleModel",
      "state": {
       "description_width": ""
      }
     },
     "c40e7967d35d4b198ea6453020b93bce": {
      "model_module": "@jupyter-widgets/base",
      "model_module_version": "1.2.0",
      "model_name": "LayoutModel",
      "state": {}
     },
     "c4270d5e011d4eb991a10fa2cca3e6db": {
      "model_module": "@jupyter-widgets/controls",
      "model_module_version": "1.5.0",
      "model_name": "HBoxModel",
      "state": {
       "children": [
        "IPY_MODEL_495f15b10c2749aebfd24c58ad3eafb7",
        "IPY_MODEL_603cdef38b574b1dbb79eb706396bd5d",
        "IPY_MODEL_13829c419c3345129adead1dde698ebf",
        "IPY_MODEL_7f265b6c23ad48ae8d0a709d5fd5a204"
       ],
       "layout": "IPY_MODEL_5c0f624eafd14c65b38f690bf0c87840"
      }
     },
     "c47ac3b5d35b4216920c309d5af63f4e": {
      "model_module": "@jupyter-widgets/base",
      "model_module_version": "1.2.0",
      "model_name": "LayoutModel",
      "state": {}
     },
     "c4815a3500d1411ba8302646420760e2": {
      "model_module": "@jupyter-widgets/controls",
      "model_module_version": "1.5.0",
      "model_name": "ProgressStyleModel",
      "state": {
       "description_width": ""
      }
     },
     "c481d6d4bba3403798ce76dc788c7af9": {
      "model_module": "@jupyter-widgets/controls",
      "model_module_version": "1.5.0",
      "model_name": "ButtonModel",
      "state": {
       "description": "EDIT",
       "layout": "IPY_MODEL_986e420de80c4fc894bdbbccd99fa143",
       "style": "IPY_MODEL_a46d13ff4fbc429b993416253a684bd2"
      }
     },
     "c4a15f413eb94f58b7620a60327221c7": {
      "model_module": "@jupyter-widgets/base",
      "model_module_version": "1.2.0",
      "model_name": "LayoutModel",
      "state": {
       "width": "60px"
      }
     },
     "c4b577aa01794776ba0c0a1adfee2eb1": {
      "model_module": "@jupyter-widgets/base",
      "model_module_version": "1.2.0",
      "model_name": "LayoutModel",
      "state": {}
     },
     "c4e16b09b8f34f7ba1af9499cda29e68": {
      "model_module": "@jupyter-widgets/controls",
      "model_module_version": "1.5.0",
      "model_name": "ButtonStyleModel",
      "state": {}
     },
     "c4fefc9a0ab84d38872d42bf6a1d9283": {
      "model_module": "@jupyter-widgets/controls",
      "model_module_version": "1.5.0",
      "model_name": "ProgressStyleModel",
      "state": {
       "description_width": ""
      }
     },
     "c50578f149ce4bd6bfd140729d650680": {
      "model_module": "@jupyter-widgets/controls",
      "model_module_version": "1.5.0",
      "model_name": "ButtonModel",
      "state": {
       "description": "EDIT",
       "layout": "IPY_MODEL_cb17ade9ca4844d4b8899323e87a4cbe",
       "style": "IPY_MODEL_57581b24d99a4ff899ba05d99cb0e270"
      }
     },
     "c508b97680c64ac3b93f628d7d93b943": {
      "model_module": "@jupyter-widgets/controls",
      "model_module_version": "1.5.0",
      "model_name": "LabelModel",
      "state": {
       "layout": "IPY_MODEL_e8ba1ef7c2fd4582be598e51f87fa6ee",
       "style": "IPY_MODEL_b38911071d5d47ceb9d55dc2f61053b0",
       "value": "   objective"
      }
     },
     "c50e1fa3d12544589ad874997eb9c1ac": {
      "model_module": "@jupyter-widgets/controls",
      "model_module_version": "1.5.0",
      "model_name": "VBoxModel",
      "state": {
       "children": [
        "IPY_MODEL_1254fbf1387447b69b454dd12138805f",
        "IPY_MODEL_35447abf2126463b976857ab6ea5f3fc",
        "IPY_MODEL_61d13f6bf0f047d78e441da01491742e",
        "IPY_MODEL_a51b98f7ce4649d5a0699b1c74f92610",
        "IPY_MODEL_97797b49bf16407e83c48ec05337ab78",
        "IPY_MODEL_6f5b54b6786d4120a424c6a126ce0efa"
       ],
       "layout": "IPY_MODEL_4cafd3a102cd4bc5837da2a01ce9e732"
      }
     },
     "c50f49720e7e400ba74f11c24a4dd084": {
      "model_module": "@jupyter-widgets/controls",
      "model_module_version": "1.5.0",
      "model_name": "ButtonModel",
      "state": {
       "description": "EDIT",
       "layout": "IPY_MODEL_8d9c7ea4a59641c69437f7cd1893d82d",
       "style": "IPY_MODEL_d056b79ed2b842c690f08262efb63a69"
      }
     },
     "c516a227ec72430ca3ebe935a9b70d86": {
      "model_module": "@jupyter-widgets/controls",
      "model_module_version": "1.5.0",
      "model_name": "HBoxModel",
      "state": {
       "children": [
        "IPY_MODEL_e50fda5219764ce38964301ccfc87726",
        "IPY_MODEL_90255e1aab764ee0bb98d82e6ea5c0e6",
        "IPY_MODEL_695978b2f32b403b936d14a9b9f95e2e",
        "IPY_MODEL_62743dcec197462f86b8fa38c641c864"
       ],
       "layout": "IPY_MODEL_1a96dda53a564526a34dce95b9249889"
      }
     },
     "c526a00669ed449c818ed7280e1a4252": {
      "model_module": "@jupyter-widgets/controls",
      "model_module_version": "1.5.0",
      "model_name": "DropdownModel",
      "state": {
       "_options_labels": [
        "Any",
        "Hand Cannon",
        "Auto Rifle",
        "Scout Rifle",
        "Pulse Rifle",
        "Sidearm",
        "Submachine Gun",
        "Combt Bow",
        "Sniper Rifle",
        "Shotgun",
        "Fusion Rifle",
        "Grenade Launcher"
       ],
       "index": 0,
       "layout": "IPY_MODEL_27de6b728bae49b0a4b2fdd732570aae",
       "style": "IPY_MODEL_41c806333e9441a5a038e9a81c2d8964"
      }
     },
     "c5272a3533d34c95b944ee49e856d068": {
      "model_module": "@jupyter-widgets/base",
      "model_module_version": "1.2.0",
      "model_name": "LayoutModel",
      "state": {
       "width": "60px"
      }
     },
     "c53af2443afc46d793b0a0b225fcaf54": {
      "model_module": "@jupyter-widgets/controls",
      "model_module_version": "1.5.0",
      "model_name": "DescriptionStyleModel",
      "state": {
       "description_width": ""
      }
     },
     "c555af6764774feeab42a99990d598a4": {
      "model_module": "@jupyter-widgets/controls",
      "model_module_version": "1.5.0",
      "model_name": "DescriptionStyleModel",
      "state": {
       "description_width": ""
      }
     },
     "c56e903065dd46e8955b72459c6a8428": {
      "model_module": "@jupyter-widgets/base",
      "model_module_version": "1.2.0",
      "model_name": "LayoutModel",
      "state": {
       "border": "3px solid white",
       "flex": "1 1 0%",
       "margin": "10px",
       "min_width": "400px",
       "overflow": "visible",
       "padding": "10px",
       "width": "auto"
      }
     },
     "c5a45838fa034e8b91a0cf34eb491460": {
      "model_module": "@jupyter-widgets/base",
      "model_module_version": "1.2.0",
      "model_name": "LayoutModel",
      "state": {
       "display": "flex",
       "flex_flow": "row wrap"
      }
     },
     "c5a76a21fa22418a984553b816260623": {
      "model_module": "@jupyter-widgets/controls",
      "model_module_version": "1.5.0",
      "model_name": "ButtonModel",
      "state": {
       "layout": "IPY_MODEL_e11202f74877458fa8adff63b6349aaa",
       "style": "IPY_MODEL_54f8fda3dbba478e846c34128f3b1632"
      }
     },
     "c5a85b51b92e4d41a10f6cc348756e93": {
      "model_module": "@jupyter-widgets/base",
      "model_module_version": "1.2.0",
      "model_name": "LayoutModel",
      "state": {
       "height": "32px",
       "overflow": "visible",
       "width": "100%"
      }
     },
     "c5c1f5d85334463abe35467c14e1a7ae": {
      "model_module": "@jupyter-widgets/controls",
      "model_module_version": "1.5.0",
      "model_name": "DescriptionStyleModel",
      "state": {
       "description_width": ""
      }
     },
     "c5c5c307496d4fae83d67cec508c656f": {
      "model_module": "@jupyter-widgets/controls",
      "model_module_version": "1.5.0",
      "model_name": "ProgressStyleModel",
      "state": {
       "description_width": ""
      }
     },
     "c5d60de2b46c49c695da69234ea436b3": {
      "model_module": "@jupyter-widgets/controls",
      "model_module_version": "1.5.0",
      "model_name": "ProgressStyleModel",
      "state": {
       "description_width": ""
      }
     },
     "c5e8766e66bd4b23b76e6d577a116bdd": {
      "model_module": "@jupyter-widgets/controls",
      "model_module_version": "1.5.0",
      "model_name": "HTMLModel",
      "state": {
       "layout": "IPY_MODEL_4361a1e9019f4233ac072ffa3b2dcf46",
       "style": "IPY_MODEL_d503fc75452645cdbe221a28e8e55603",
       "value": "<i>test test test test test test test test test test test test test test test test test test test test test test test test </i>"
      }
     },
     "c5f3d6c5c3294a5087439ee60adf2656": {
      "model_module": "@jupyter-widgets/controls",
      "model_module_version": "1.5.0",
      "model_name": "IntProgressModel",
      "state": {
       "layout": "IPY_MODEL_b9a4303133fa412082f052c3c68b40cd",
       "style": "IPY_MODEL_506784e2e8f24f63969f7b49972805d3",
       "value": 30
      }
     },
     "c5f929a087e1477ca4cffa0beab6b17c": {
      "model_module": "@jupyter-widgets/controls",
      "model_module_version": "1.5.0",
      "model_name": "ButtonStyleModel",
      "state": {}
     },
     "c6067a50565c4f1497e66ba72d9dc98c": {
      "model_module": "@jupyter-widgets/controls",
      "model_module_version": "1.5.0",
      "model_name": "ButtonStyleModel",
      "state": {}
     },
     "c60eacc000f74cbe85423559510a23b9": {
      "model_module": "@jupyter-widgets/base",
      "model_module_version": "1.2.0",
      "model_name": "LayoutModel",
      "state": {}
     },
     "c6110a48285741e08e4684301ec3390d": {
      "model_module": "@jupyter-widgets/controls",
      "model_module_version": "1.5.0",
      "model_name": "ButtonModel",
      "state": {
       "description": "EDIT",
       "layout": "IPY_MODEL_bb023c29bdaf478b9913340c2d08c825",
       "style": "IPY_MODEL_12ceb1813611477d89e43ed2a4181fc4"
      }
     },
     "c629b2b08a5b4012aa66d2b61a931494": {
      "model_module": "@jupyter-widgets/base",
      "model_module_version": "1.2.0",
      "model_name": "LayoutModel",
      "state": {
       "height": "32px",
       "order": "-2",
       "width": "32px"
      }
     },
     "c636ed0096154b8ab02eb8f43b87d724": {
      "model_module": "@jupyter-widgets/base",
      "model_module_version": "1.2.0",
      "model_name": "LayoutModel",
      "state": {}
     },
     "c645569eac3f4d1a9c60d4073a0084c9": {
      "model_module": "@jupyter-widgets/controls",
      "model_module_version": "1.5.0",
      "model_name": "ProgressStyleModel",
      "state": {
       "description_width": ""
      }
     },
     "c64f8b449c6f46c0bd8b52ef8f6f4d71": {
      "model_module": "@jupyter-widgets/controls",
      "model_module_version": "1.5.0",
      "model_name": "HBoxModel",
      "state": {
       "children": [
        "IPY_MODEL_e9695a5caf1b4cbca926ef325115173c",
        "IPY_MODEL_8d3a6d8e22bb4a7bbc9866f6ffc1cc80",
        "IPY_MODEL_fe3b288059f84a77b95d3233fda52c61",
        "IPY_MODEL_9403568a69be4dad80a1986f99fb11eb"
       ],
       "layout": "IPY_MODEL_73821b06a69e4993b3db468a7f6aa38c"
      }
     },
     "c6722a1f4f554176a301db46693dafca": {
      "model_module": "@jupyter-widgets/base",
      "model_module_version": "1.2.0",
      "model_name": "LayoutModel",
      "state": {
       "height": "32px",
       "overflow": "visible",
       "width": "100%"
      }
     },
     "c6b20a917d174dd2be14ede7d40e217e": {
      "model_module": "@jupyter-widgets/controls",
      "model_module_version": "1.5.0",
      "model_name": "DescriptionStyleModel",
      "state": {
       "description_width": ""
      }
     },
     "c6b25ecb8fb04108bb757e3c8b006ea1": {
      "model_module": "@jupyter-widgets/base",
      "model_module_version": "1.2.0",
      "model_name": "LayoutModel",
      "state": {}
     },
     "c6bf23f28c144be79eafe7c19725a796": {
      "model_module": "@jupyter-widgets/controls",
      "model_module_version": "1.5.0",
      "model_name": "LabelModel",
      "state": {
       "layout": "IPY_MODEL_0c88dff37d0b4cd5beca76e68bc90ca6",
       "style": "IPY_MODEL_13b54b5381504c41983f420001d1a213",
       "value": "   objective"
      }
     },
     "c6c4a683074f4e54b94640d9532ffa3b": {
      "model_module": "@jupyter-widgets/base",
      "model_module_version": "1.2.0",
      "model_name": "LayoutModel",
      "state": {
       "order": "-1",
       "overflow": "visible",
       "padding": "1px",
       "width": "0px"
      }
     },
     "c6ca232f95d44e0d9aeab70d2c9c7e98": {
      "model_module": "@jupyter-widgets/base",
      "model_module_version": "1.2.0",
      "model_name": "LayoutModel",
      "state": {
       "overflow": "visible",
       "width": "100%"
      }
     },
     "c6d5b3cfdd704337a22b064ced6be1e5": {
      "model_module": "@jupyter-widgets/controls",
      "model_module_version": "1.5.0",
      "model_name": "ProgressStyleModel",
      "state": {
       "description_width": ""
      }
     },
     "c6d86a7a4e804282bc3e311dd8509476": {
      "model_module": "@jupyter-widgets/controls",
      "model_module_version": "1.5.0",
      "model_name": "DescriptionStyleModel",
      "state": {
       "description_width": ""
      }
     },
     "c6e18cc68fc24fe5be57cc8803fbbb7a": {
      "model_module": "@jupyter-widgets/base",
      "model_module_version": "1.2.0",
      "model_name": "LayoutModel",
      "state": {}
     },
     "c6e6fb3d2e8244cc9f96d7c03092b49e": {
      "model_module": "@jupyter-widgets/base",
      "model_module_version": "1.2.0",
      "model_name": "LayoutModel",
      "state": {
       "height": "32px",
       "order": "-2",
       "width": "32px"
      }
     },
     "c749c26569c24790ad7ccf9d2b87af7c": {
      "model_module": "@jupyter-widgets/base",
      "model_module_version": "1.2.0",
      "model_name": "LayoutModel",
      "state": {
       "width": "60px"
      }
     },
     "c792aea60e0c468fa96374ef1277d876": {
      "model_module": "@jupyter-widgets/controls",
      "model_module_version": "1.5.0",
      "model_name": "IntProgressModel",
      "state": {
       "layout": "IPY_MODEL_b491ef95c6e54e8a8f499a762a3fe3fa",
       "style": "IPY_MODEL_75c783e1190f45bba94c7195c3abe535",
       "value": 30
      }
     },
     "c7a371b9e4ec4687b6f9dee904d110a3": {
      "model_module": "@jupyter-widgets/base",
      "model_module_version": "1.2.0",
      "model_name": "LayoutModel",
      "state": {
       "height": "32px",
       "order": "-2",
       "width": "32px"
      }
     },
     "c7ac66f422a141799118328120b642b5": {
      "model_module": "@jupyter-widgets/base",
      "model_module_version": "1.2.0",
      "model_name": "LayoutModel",
      "state": {}
     },
     "c7b1f56f7ec94b91a9737dd44d90be1f": {
      "model_module": "@jupyter-widgets/base",
      "model_module_version": "1.2.0",
      "model_name": "LayoutModel",
      "state": {
       "order": "-1",
       "overflow": "visible",
       "padding": "1px",
       "width": "0px"
      }
     },
     "c7c02741d8034bd1895778aaa1d625e7": {
      "model_module": "@jupyter-widgets/controls",
      "model_module_version": "1.5.0",
      "model_name": "HTMLModel",
      "state": {
       "layout": "IPY_MODEL_d2c0e381d00d4d3f9945f9838a484a47",
       "style": "IPY_MODEL_f96c37a3aacf4356a746060299ff4520",
       "value": "<font size=\"1\">Path/Path/Path/Path/</font size>"
      }
     },
     "c7c337f05c2b49e68e95248bcbb92610": {
      "model_module": "@jupyter-widgets/controls",
      "model_module_version": "1.5.0",
      "model_name": "HTMLModel",
      "state": {
       "layout": "IPY_MODEL_d348411dffad4ac09dd8ed94b7644efb",
       "style": "IPY_MODEL_f3d1a584afbb4da28b19875c07031f04",
       "value": "<font size=\"1\">Path/Path/Path/Path/</font size>"
      }
     },
     "c7e3404e571f44ccb1034f537b2204a2": {
      "model_module": "@jupyter-widgets/controls",
      "model_module_version": "1.5.0",
      "model_name": "HBoxModel",
      "state": {
       "children": [
        "IPY_MODEL_1d33e3071377479580c55b7cabfdfc58",
        "IPY_MODEL_893eff64346c433bb8534c37d3ffdf4e",
        "IPY_MODEL_7cc4786da100439eb341dc365a4a104b",
        "IPY_MODEL_9f154bb96e6945839de35019c0a4be4d"
       ],
       "layout": "IPY_MODEL_8aedfc98c6584ac99dcfb8726a07a9dc"
      }
     },
     "c7f8044ff3f14b5991b1712c9929f6c2": {
      "model_module": "@jupyter-widgets/controls",
      "model_module_version": "1.5.0",
      "model_name": "ButtonModel",
      "state": {
       "description": "EDIT",
       "layout": "IPY_MODEL_09cff6b7caf5407eb4c14584b1299d59",
       "style": "IPY_MODEL_e64e0d8885c442c7a4228f52c5890dc9"
      }
     },
     "c7feeb08323a4354ac63d93e6a4b0b3d": {
      "model_module": "@jupyter-widgets/controls",
      "model_module_version": "1.5.0",
      "model_name": "ProgressStyleModel",
      "state": {
       "description_width": ""
      }
     },
     "c80a547eb208450e8fc71fd3a930ac17": {
      "model_module": "@jupyter-widgets/base",
      "model_module_version": "1.2.0",
      "model_name": "LayoutModel",
      "state": {
       "height": "32px",
       "order": "-2",
       "width": "32px"
      }
     },
     "c810765a5c58405ba4abcea1d97dce60": {
      "model_module": "@jupyter-widgets/base",
      "model_module_version": "1.2.0",
      "model_name": "LayoutModel",
      "state": {
       "width": "60px"
      }
     },
     "c814575e4ed84699845e3d480229c251": {
      "model_module": "@jupyter-widgets/controls",
      "model_module_version": "1.5.0",
      "model_name": "ProgressStyleModel",
      "state": {
       "description_width": ""
      }
     },
     "c8406ec3cc144bb09712e4899b20ee26": {
      "model_module": "@jupyter-widgets/base",
      "model_module_version": "1.2.0",
      "model_name": "LayoutModel",
      "state": {
       "height": "32px",
       "order": "-2",
       "width": "32px"
      }
     },
     "c8769a899bbe4934900756cadfb3a996": {
      "model_module": "@jupyter-widgets/controls",
      "model_module_version": "1.5.0",
      "model_name": "VBoxModel",
      "state": {
       "children": [
        "IPY_MODEL_30a4173032d4430e9edf5f0ebd4d37f6",
        "IPY_MODEL_b35c10c8d52c420db043be1277a87da4",
        "IPY_MODEL_68b67e259255472f9ecb9dd41620bb04",
        "IPY_MODEL_a15a5f6ec86448b0a356b25f2a6f05b6"
       ],
       "layout": "IPY_MODEL_dd780563fc75499ba2af5e5c5fd7fbc4"
      }
     },
     "c882596216b548968cd40b1175c5ffa5": {
      "model_module": "@jupyter-widgets/controls",
      "model_module_version": "1.5.0",
      "model_name": "DescriptionStyleModel",
      "state": {
       "description_width": ""
      }
     },
     "c8b39d4fedaf4f678fabf0bd0f0d105a": {
      "model_module": "@jupyter-widgets/controls",
      "model_module_version": "1.5.0",
      "model_name": "ButtonModel",
      "state": {
       "layout": "IPY_MODEL_865f0b3d832b4e709b97de604dd4ef2e",
       "style": "IPY_MODEL_b0629aaf5b8b43bd9d6193ef242b383f"
      }
     },
     "c8b83db90cc64190957dc3104a978b18": {
      "model_module": "@jupyter-widgets/base",
      "model_module_version": "1.2.0",
      "model_name": "LayoutModel",
      "state": {}
     },
     "c8c14c73bf3741ecabaac4382af56577": {
      "model_module": "@jupyter-widgets/controls",
      "model_module_version": "1.5.0",
      "model_name": "DescriptionStyleModel",
      "state": {
       "description_width": ""
      }
     },
     "c8c1a2b858f44d3da97f1133c70e4220": {
      "model_module": "@jupyter-widgets/controls",
      "model_module_version": "1.5.0",
      "model_name": "HBoxModel",
      "state": {
       "children": [
        "IPY_MODEL_82fe8db5c2464773b957b8384be6466b",
        "IPY_MODEL_7745ed8f3b31449eb2c942e1ad9c140b",
        "IPY_MODEL_459874582cef4cc6bb242269fc6ff2f4",
        "IPY_MODEL_cc67374babac4d48b8e5ffd916152527"
       ],
       "layout": "IPY_MODEL_6bbfd3f54c1e4d759ad5a32b5193ce00"
      }
     },
     "c8d79b33c8fb416daf4ef0b903e77f04": {
      "model_module": "@jupyter-widgets/controls",
      "model_module_version": "1.5.0",
      "model_name": "LabelModel",
      "state": {
       "layout": "IPY_MODEL_b49d6a23bcea4e519c4481ce2dc78765",
       "style": "IPY_MODEL_52f958d427224eaf86b2848837b90fcf",
       "value": "   objective"
      }
     },
     "c8e035cb35974a9f8bf4a1a756bd1692": {
      "model_module": "@jupyter-widgets/base",
      "model_module_version": "1.2.0",
      "model_name": "LayoutModel",
      "state": {
       "height": "32px",
       "order": "-2",
       "width": "32px"
      }
     },
     "c904fd905fa0412baa8b4164bc4d503e": {
      "model_module": "@jupyter-widgets/controls",
      "model_module_version": "1.5.0",
      "model_name": "VBoxModel",
      "state": {
       "children": [
        "IPY_MODEL_d5143d3f8bed46f28e1b3712b9a41bc4",
        "IPY_MODEL_36d5206d89f640b4be1527145e46fe0f",
        "IPY_MODEL_fabfd0c651db4b59ba7e0342f58bf9b6",
        "IPY_MODEL_36d5206d89f640b4be1527145e46fe0f",
        "IPY_MODEL_4672749c74f840998ddede9815e171e5"
       ],
       "layout": "IPY_MODEL_ceeb13141d244d0daccc780daf65310e"
      }
     },
     "c9051adbe9954373ac597c7acfdea18a": {
      "model_module": "@jupyter-widgets/controls",
      "model_module_version": "1.5.0",
      "model_name": "LabelModel",
      "state": {
       "layout": "IPY_MODEL_8b00e3a60bdf45739a704e58d15d004e",
       "style": "IPY_MODEL_e97a75d1924c4c618d3acadc7865900a",
       "value": "   objective"
      }
     },
     "c906e7b8ec184c88baff03a17761c853": {
      "model_module": "@jupyter-widgets/base",
      "model_module_version": "1.2.0",
      "model_name": "LayoutModel",
      "state": {
       "width": "186px"
      }
     },
     "c90e11fba80c4d37af8efe18aa9e6134": {
      "model_module": "@jupyter-widgets/controls",
      "model_module_version": "1.5.0",
      "model_name": "VBoxModel",
      "state": {
       "children": [
        "IPY_MODEL_97b7d90afb0c40f2a9d07527746291c6",
        "IPY_MODEL_8bf32782ddca497f803f90b41ad8321f",
        "IPY_MODEL_a67e61c7141a40faa26b3f4b120c6e42",
        "IPY_MODEL_904a16f5964748cda328b2b24a01f13a",
        "IPY_MODEL_b0e20eeb76d845c1993c39e1f7ff649d",
        "IPY_MODEL_beeea98fc4cb42fa8f681fabb2565625"
       ],
       "layout": "IPY_MODEL_7014faea1c7946d8b79831bf46cdc6e9"
      }
     },
     "c91ae090cac244839d2a3ba27d000e5a": {
      "model_module": "@jupyter-widgets/controls",
      "model_module_version": "1.5.0",
      "model_name": "ButtonStyleModel",
      "state": {}
     },
     "c945bf913a9f4a17812bd5ce8aeab08a": {
      "model_module": "@jupyter-widgets/controls",
      "model_module_version": "1.5.0",
      "model_name": "HBoxModel",
      "state": {
       "children": [
        "IPY_MODEL_348146acc6734a5a8eb0f837d274e25e",
        "IPY_MODEL_38d260057626462a9673ddfad126be8c",
        "IPY_MODEL_766ae883cb26429fa9a4c93b3e037dbc",
        "IPY_MODEL_48ae456f6ca6427ca8327daeb247994d"
       ],
       "layout": "IPY_MODEL_763ec0b161f54dc3b052a4f4ced0f170"
      }
     },
     "c9534a34ba1e4f61b037038d167dd55d": {
      "model_module": "@jupyter-widgets/controls",
      "model_module_version": "1.5.0",
      "model_name": "DescriptionStyleModel",
      "state": {
       "description_width": ""
      }
     },
     "c95a57a2e87042e7b0c6901c4b773c1c": {
      "model_module": "@jupyter-widgets/base",
      "model_module_version": "1.2.0",
      "model_name": "LayoutModel",
      "state": {
       "width": "60px"
      }
     },
     "c97c11ee898f4abe822476435099dc82": {
      "model_module": "@jupyter-widgets/controls",
      "model_module_version": "1.5.0",
      "model_name": "LabelModel",
      "state": {
       "layout": "IPY_MODEL_cfa662763ff84744a03b24d6c96afc5d",
       "style": "IPY_MODEL_69db86db44a54636a8b6e7fce958eac3",
       "value": "Power Weapon:"
      }
     },
     "c9d8123635b149ffa1dc2f39a7c3337f": {
      "model_module": "@jupyter-widgets/controls",
      "model_module_version": "1.5.0",
      "model_name": "ProgressStyleModel",
      "state": {
       "description_width": ""
      }
     },
     "c9f12b7c044640e28ac8a2ca91b4d4b9": {
      "model_module": "@jupyter-widgets/base",
      "model_module_version": "1.2.0",
      "model_name": "LayoutModel",
      "state": {}
     },
     "ca0de055505c41e7b7db5dc23bc39063": {
      "model_module": "@jupyter-widgets/controls",
      "model_module_version": "1.5.0",
      "model_name": "DescriptionStyleModel",
      "state": {
       "description_width": ""
      }
     },
     "ca4b4cc0b3c246b9baeb89a33d1f0393": {
      "model_module": "@jupyter-widgets/base",
      "model_module_version": "1.2.0",
      "model_name": "LayoutModel",
      "state": {
       "order": "-1",
       "overflow": "visible",
       "padding": "1px",
       "width": "0px"
      }
     },
     "ca691801d9e84bce8787e2545fc0961e": {
      "model_module": "@jupyter-widgets/controls",
      "model_module_version": "1.5.0",
      "model_name": "ButtonStyleModel",
      "state": {}
     },
     "ca7b7a0c6dc9476f9ca08afb2e842571": {
      "model_module": "@jupyter-widgets/controls",
      "model_module_version": "1.5.0",
      "model_name": "LabelModel",
      "state": {
       "layout": "IPY_MODEL_3c2e15f065ea4c6da57a6026cb30e8f4",
       "style": "IPY_MODEL_b3c16267bd34478c8e95baee90791fc3",
       "value": "   objective"
      }
     },
     "ca96d21b2a134a1a9640d59788cb2aee": {
      "model_module": "@jupyter-widgets/controls",
      "model_module_version": "1.5.0",
      "model_name": "DescriptionStyleModel",
      "state": {
       "description_width": ""
      }
     },
     "ca9ba2d172784f12a89946cf5775d20b": {
      "model_module": "@jupyter-widgets/controls",
      "model_module_version": "1.5.0",
      "model_name": "ButtonStyleModel",
      "state": {}
     },
     "caa4244a51704ebd815cc59fadbd536c": {
      "model_module": "@jupyter-widgets/base",
      "model_module_version": "1.2.0",
      "model_name": "LayoutModel",
      "state": {
       "width": "60px"
      }
     },
     "caa56e961f3142abb6adf8d51bbe1a13": {
      "model_module": "@jupyter-widgets/base",
      "model_module_version": "1.2.0",
      "model_name": "LayoutModel",
      "state": {}
     },
     "cacdb258a952491183c78332d14e23d9": {
      "model_module": "@jupyter-widgets/base",
      "model_module_version": "1.2.0",
      "model_name": "LayoutModel",
      "state": {}
     },
     "caef7d753c9c4035946e494000a23b31": {
      "model_module": "@jupyter-widgets/base",
      "model_module_version": "1.2.0",
      "model_name": "LayoutModel",
      "state": {
       "height": "32px",
       "overflow": "visible",
       "width": "100%"
      }
     },
     "cb108b8848b74b9fb8dad764f7c2b05a": {
      "model_module": "@jupyter-widgets/controls",
      "model_module_version": "1.5.0",
      "model_name": "ButtonStyleModel",
      "state": {}
     },
     "cb17ade9ca4844d4b8899323e87a4cbe": {
      "model_module": "@jupyter-widgets/base",
      "model_module_version": "1.2.0",
      "model_name": "LayoutModel",
      "state": {
       "width": "60px"
      }
     },
     "cb19152ea1d8404b80507eb44d96a9cb": {
      "model_module": "@jupyter-widgets/base",
      "model_module_version": "1.2.0",
      "model_name": "LayoutModel",
      "state": {
       "height": "32px",
       "overflow": "visible",
       "width": "100%"
      }
     },
     "cb402c85d9304f1b8fc739048842e58a": {
      "model_module": "@jupyter-widgets/controls",
      "model_module_version": "1.5.0",
      "model_name": "IntProgressModel",
      "state": {
       "layout": "IPY_MODEL_7ee54f71ba4e4acaae392ecb55590b58",
       "style": "IPY_MODEL_2eeaa3922d334a3ea1ab259171fe58c4",
       "value": 30
      }
     },
     "cb5c889651c34a0a8abc15081c9cc725": {
      "model_module": "@jupyter-widgets/base",
      "model_module_version": "1.2.0",
      "model_name": "LayoutModel",
      "state": {}
     },
     "cb799ddee72f4ea7b6b58a53c5b95481": {
      "model_module": "@jupyter-widgets/controls",
      "model_module_version": "1.5.0",
      "model_name": "ButtonStyleModel",
      "state": {}
     },
     "cbc390c524d64e2bb25b61d6f663b578": {
      "model_module": "@jupyter-widgets/controls",
      "model_module_version": "1.5.0",
      "model_name": "DescriptionStyleModel",
      "state": {
       "description_width": ""
      }
     },
     "cbd41ec0c6a54dd4916e24d6ac3b2601": {
      "model_module": "@jupyter-widgets/base",
      "model_module_version": "1.2.0",
      "model_name": "LayoutModel",
      "state": {
       "height": "32px",
       "order": "-2",
       "width": "32px"
      }
     },
     "cbeb1a6c00ad49debdd5384d0a191675": {
      "model_module": "@jupyter-widgets/base",
      "model_module_version": "1.2.0",
      "model_name": "LayoutModel",
      "state": {}
     },
     "cbf064c948f341c2ac73447c54dba923": {
      "model_module": "@jupyter-widgets/controls",
      "model_module_version": "1.5.0",
      "model_name": "DescriptionStyleModel",
      "state": {
       "description_width": ""
      }
     },
     "cbfa1a2106a4444e872253ae01d4203b": {
      "model_module": "@jupyter-widgets/controls",
      "model_module_version": "1.5.0",
      "model_name": "ButtonStyleModel",
      "state": {}
     },
     "cc2148f4fdc04d98916da4b4d18e5904": {
      "model_module": "@jupyter-widgets/controls",
      "model_module_version": "1.5.0",
      "model_name": "LabelModel",
      "state": {
       "layout": "IPY_MODEL_534115842e5341b9a8ece2ba4ec27feb",
       "style": "IPY_MODEL_97d888bfd7044875a7e2268ca7df609c",
       "value": "   objective"
      }
     },
     "cc2869e26350419dab3c6d51c89134a8": {
      "model_module": "@jupyter-widgets/base",
      "model_module_version": "1.2.0",
      "model_name": "LayoutModel",
      "state": {}
     },
     "cc46601e8b554ae78dd3ef38a45cf974": {
      "model_module": "@jupyter-widgets/controls",
      "model_module_version": "1.5.0",
      "model_name": "ProgressStyleModel",
      "state": {
       "description_width": ""
      }
     },
     "cc67374babac4d48b8e5ffd916152527": {
      "model_module": "@jupyter-widgets/controls",
      "model_module_version": "1.5.0",
      "model_name": "ButtonModel",
      "state": {
       "description": "EDIT",
       "layout": "IPY_MODEL_84ada0d3b42d4b94a39a219e54f9c96b",
       "style": "IPY_MODEL_8daa0e2575834f62a3cce2779343a356"
      }
     },
     "cc679d1abe6d4b5f9df1882a1655c0e6": {
      "model_module": "@jupyter-widgets/controls",
      "model_module_version": "1.5.0",
      "model_name": "DescriptionStyleModel",
      "state": {
       "description_width": ""
      }
     },
     "cca9313c8f5447918a05ada285bfea1a": {
      "model_module": "@jupyter-widgets/base",
      "model_module_version": "1.2.0",
      "model_name": "LayoutModel",
      "state": {
       "order": "-1",
       "overflow": "visible",
       "padding": "1px",
       "width": "0px"
      }
     },
     "ccc2912e62054ee4a0dcfcb6bd9e65d8": {
      "model_module": "@jupyter-widgets/controls",
      "model_module_version": "1.5.0",
      "model_name": "ButtonModel",
      "state": {
       "description": "EDIT",
       "layout": "IPY_MODEL_25b1bcc00b11497db68608c6c2b93640",
       "style": "IPY_MODEL_3913d657dec946eabfb61eaa7631dc1f"
      }
     },
     "ccc3460c013f4b41883f95a0a46c2e95": {
      "model_module": "@jupyter-widgets/controls",
      "model_module_version": "1.5.0",
      "model_name": "DescriptionStyleModel",
      "state": {
       "description_width": ""
      }
     },
     "ccd2452c799d42f38cfe361b2e2e37fb": {
      "model_module": "@jupyter-widgets/controls",
      "model_module_version": "1.5.0",
      "model_name": "DescriptionStyleModel",
      "state": {
       "description_width": ""
      }
     },
     "cce6a9a307a94afda3a11f16936a0b7a": {
      "model_module": "@jupyter-widgets/controls",
      "model_module_version": "1.5.0",
      "model_name": "HBoxModel",
      "state": {
       "children": [
        "IPY_MODEL_8a813ff4064c450dbd67370fd72f3600",
        "IPY_MODEL_3c4be276c7814aeebc7d37a584b8842b",
        "IPY_MODEL_91404e6bfe0e49efab3c0f288f2251b2",
        "IPY_MODEL_37f66e8ef94b43eeaf91ba0b58ed55ea"
       ],
       "layout": "IPY_MODEL_9841642d674f48c880a0a5241f84b45d"
      }
     },
     "cd0f0fcf0f334ae9ba932d3284394779": {
      "model_module": "@jupyter-widgets/controls",
      "model_module_version": "1.5.0",
      "model_name": "IntProgressModel",
      "state": {
       "layout": "IPY_MODEL_d7efb3db67214f0facf97d040f5e3333",
       "style": "IPY_MODEL_07992c9a38ec4341a75584e6434133cf",
       "value": 30
      }
     },
     "cd5a0327ff3c49e1abc595db664a18b0": {
      "model_module": "@jupyter-widgets/controls",
      "model_module_version": "1.5.0",
      "model_name": "IntProgressModel",
      "state": {
       "layout": "IPY_MODEL_51f66019bebb48169b98a96e387264d2",
       "style": "IPY_MODEL_c814575e4ed84699845e3d480229c251",
       "value": 30
      }
     },
     "cd68262194a6464f8c896466316946ef": {
      "model_module": "@jupyter-widgets/controls",
      "model_module_version": "1.5.0",
      "model_name": "ButtonModel",
      "state": {
       "layout": "IPY_MODEL_98bd617b471541768e4d148e030bdc43",
       "style": "IPY_MODEL_9eda88db70d74e81a8af8a25a5d3c9e5"
      }
     },
     "cd721f3b977f4a9aace3bf9048d1aec7": {
      "model_module": "@jupyter-widgets/controls",
      "model_module_version": "1.5.0",
      "model_name": "ButtonModel",
      "state": {
       "description": "EDIT",
       "layout": "IPY_MODEL_d336899f2e984092a06100079c31d386",
       "style": "IPY_MODEL_1d2a24a1ef3d478b94038a42c0155765"
      }
     },
     "cd7f64a255d64f1c813138356e4d16ea": {
      "model_module": "@jupyter-widgets/controls",
      "model_module_version": "1.5.0",
      "model_name": "ProgressStyleModel",
      "state": {
       "description_width": ""
      }
     },
     "cd87b5fa93044f768c7bfc83713ed8eb": {
      "model_module": "@jupyter-widgets/controls",
      "model_module_version": "1.5.0",
      "model_name": "LabelModel",
      "state": {
       "layout": "IPY_MODEL_0e46ef14485b42e6b2e0b4e730455a16",
       "style": "IPY_MODEL_5b821c1d9c5c43dca04bc52c76ce87b4",
       "value": "   objective"
      }
     },
     "cd8a02c5a3ff4982a366983ed268cc9c": {
      "model_module": "@jupyter-widgets/base",
      "model_module_version": "1.2.0",
      "model_name": "LayoutModel",
      "state": {
       "width": "60px"
      }
     },
     "cdaba90e44a04b4bb9c3157a57bd8558": {
      "model_module": "@jupyter-widgets/base",
      "model_module_version": "1.2.0",
      "model_name": "LayoutModel",
      "state": {
       "height": "32px",
       "order": "-2",
       "width": "32px"
      }
     },
     "cdc874a9f36c4613902a261147f67fca": {
      "model_module": "@jupyter-widgets/base",
      "model_module_version": "1.2.0",
      "model_name": "LayoutModel",
      "state": {
       "width": "60px"
      }
     },
     "cdc9c5a63e064e9faa4c7e58a49303de": {
      "model_module": "@jupyter-widgets/controls",
      "model_module_version": "1.5.0",
      "model_name": "VBoxModel",
      "state": {
       "children": [
        "IPY_MODEL_ba577feb1b2e44cbaf057ce366cc1d1c",
        "IPY_MODEL_65a02a85d8c74e6cacdce3d9208a66f7",
        "IPY_MODEL_e1dd43b3fd454b718584b036896dcafd",
        "IPY_MODEL_44b58e3bc67b4a3bac64c4be84ea3627",
        "IPY_MODEL_fd5b416a6aa94c92954dfa4cb550665f",
        "IPY_MODEL_03613809de7240ce8e447ce0df1ba990"
       ],
       "layout": "IPY_MODEL_3f8142f9b5a448a08804f5634b5d03ed"
      }
     },
     "cdd6925fec014ebfa551f8a2c23ad512": {
      "model_module": "@jupyter-widgets/base",
      "model_module_version": "1.2.0",
      "model_name": "LayoutModel",
      "state": {
       "height": "32px",
       "overflow": "visible",
       "width": "100%"
      }
     },
     "cdfe9b160f4343dbbf081385b459a428": {
      "model_module": "@jupyter-widgets/base",
      "model_module_version": "1.2.0",
      "model_name": "LayoutModel",
      "state": {
       "order": "-1",
       "overflow": "visible",
       "padding": "1px",
       "width": "0px"
      }
     },
     "ce076a479a184d539faf54483dd1ad8a": {
      "model_module": "@jupyter-widgets/base",
      "model_module_version": "1.2.0",
      "model_name": "LayoutModel",
      "state": {
       "height": "32px",
       "overflow": "visible",
       "width": "100%"
      }
     },
     "ce0c9f15d742440884a37c3f1ce2554e": {
      "model_module": "@jupyter-widgets/base",
      "model_module_version": "1.2.0",
      "model_name": "LayoutModel",
      "state": {
       "order": "-1",
       "overflow": "visible",
       "padding": "1px",
       "width": "0px"
      }
     },
     "ce0def2a09c141cf80233460f7df1644": {
      "model_module": "@jupyter-widgets/base",
      "model_module_version": "1.2.0",
      "model_name": "LayoutModel",
      "state": {
       "width": "60px"
      }
     },
     "ce346b7b2f1e44259219f45a6ae468b1": {
      "model_module": "@jupyter-widgets/base",
      "model_module_version": "1.2.0",
      "model_name": "LayoutModel",
      "state": {
       "display": "flex",
       "flex_flow": "row wrap"
      }
     },
     "ce3c3880259c45cbab393cda37a972ce": {
      "model_module": "@jupyter-widgets/controls",
      "model_module_version": "1.5.0",
      "model_name": "DescriptionStyleModel",
      "state": {
       "description_width": ""
      }
     },
     "ce3d9b0af1564aca9022fd1925d6c070": {
      "model_module": "@jupyter-widgets/controls",
      "model_module_version": "1.5.0",
      "model_name": "ButtonModel",
      "state": {
       "layout": "IPY_MODEL_8034de0ea5dd4200b97a6fa957700ad3",
       "style": "IPY_MODEL_4d4e57ccf4a14866a787a48d28bf6029"
      }
     },
     "ce922ad352cf48ce8258bc13ca8fdd0a": {
      "model_module": "@jupyter-widgets/base",
      "model_module_version": "1.2.0",
      "model_name": "LayoutModel",
      "state": {
       "display": "flex",
       "flex_flow": "row wrap"
      }
     },
     "ceb500c68d244424a605e912952896c6": {
      "model_module": "@jupyter-widgets/base",
      "model_module_version": "1.2.0",
      "model_name": "LayoutModel",
      "state": {}
     },
     "cec3469b979943a7b7b0e1b316ae29e3": {
      "model_module": "@jupyter-widgets/controls",
      "model_module_version": "1.5.0",
      "model_name": "ButtonModel",
      "state": {
       "description": "EDIT",
       "layout": "IPY_MODEL_60ac875cbd0c4a2b913fccc86164c87e",
       "style": "IPY_MODEL_fef7fb6c455d4d20b5ed8364b7a7d12d"
      }
     },
     "cec6bee4dea34069b78b5b0967fc8210": {
      "model_module": "@jupyter-widgets/controls",
      "model_module_version": "1.5.0",
      "model_name": "IntProgressModel",
      "state": {
       "layout": "IPY_MODEL_4fdb3412d4ee4e29a728e17385658761",
       "style": "IPY_MODEL_6b1083a5409a4e7d848a7b7ef5798c09",
       "value": 30
      }
     },
     "ceccd7fd4c6c4491aa89bdf8ed86e1b5": {
      "model_module": "@jupyter-widgets/controls",
      "model_module_version": "1.5.0",
      "model_name": "ProgressStyleModel",
      "state": {
       "description_width": ""
      }
     },
     "ceeb13141d244d0daccc780daf65310e": {
      "model_module": "@jupyter-widgets/base",
      "model_module_version": "1.2.0",
      "model_name": "LayoutModel",
      "state": {
       "border": "1px solid white",
       "min_width": "250px",
       "padding": "10px",
       "width": "15%"
      }
     },
     "cf023f376170466d9e16973d3a72a5a9": {
      "model_module": "@jupyter-widgets/base",
      "model_module_version": "1.2.0",
      "model_name": "LayoutModel",
      "state": {}
     },
     "cf0241ee59b446cebe81a4ee572cd378": {
      "model_module": "@jupyter-widgets/base",
      "model_module_version": "1.2.0",
      "model_name": "LayoutModel",
      "state": {
       "height": "32px",
       "order": "-2",
       "width": "32px"
      }
     },
     "cf0b45bdba07443ca07a0a4c44fd9d80": {
      "model_module": "@jupyter-widgets/controls",
      "model_module_version": "1.5.0",
      "model_name": "ButtonStyleModel",
      "state": {}
     },
     "cf21ad1057104a09aceb8dc58b74597f": {
      "model_module": "@jupyter-widgets/controls",
      "model_module_version": "1.5.0",
      "model_name": "LabelModel",
      "state": {
       "layout": "IPY_MODEL_b8cdc348c25e4672a1e008012ab86bd1",
       "style": "IPY_MODEL_4141781ed7e1416594297b3ab5f1bd64",
       "value": "   objective"
      }
     },
     "cf267bbc3290442a853a1c6b0b413ed9": {
      "model_module": "@jupyter-widgets/base",
      "model_module_version": "1.2.0",
      "model_name": "LayoutModel",
      "state": {
       "overflow": "visible",
       "width": "100%"
      }
     },
     "cf38532d78c0433c8e34514d74949864": {
      "model_module": "@jupyter-widgets/base",
      "model_module_version": "1.2.0",
      "model_name": "LayoutModel",
      "state": {
       "overflow": "visible",
       "width": "100%"
      }
     },
     "cf39443da2e84885aa9df19d46064335": {
      "model_module": "@jupyter-widgets/base",
      "model_module_version": "1.2.0",
      "model_name": "LayoutModel",
      "state": {}
     },
     "cf511beb7e5a4d33aad5df4ce2e2bfd5": {
      "model_module": "@jupyter-widgets/controls",
      "model_module_version": "1.5.0",
      "model_name": "ButtonModel",
      "state": {
       "layout": "IPY_MODEL_d556cde4f3434769b781aa7e057ce137",
       "style": "IPY_MODEL_7b03b8634a7845d8bdeb9c5ea1ab4a85"
      }
     },
     "cf5c3f825c4242ed80f94914f4776cec": {
      "model_module": "@jupyter-widgets/base",
      "model_module_version": "1.2.0",
      "model_name": "LayoutModel",
      "state": {
       "height": "32px",
       "order": "-2",
       "width": "32px"
      }
     },
     "cf6c69cf403f46d3b7ee185fefaa5e24": {
      "model_module": "@jupyter-widgets/controls",
      "model_module_version": "1.5.0",
      "model_name": "ButtonModel",
      "state": {
       "layout": "IPY_MODEL_beb076f8e855479f968b2e3d15b364ef",
       "style": "IPY_MODEL_9c47a6102f5a40b5af36a5bbb4c4d0b3"
      }
     },
     "cf84f7b5460745b9acb7efd106523a34": {
      "model_module": "@jupyter-widgets/controls",
      "model_module_version": "1.5.0",
      "model_name": "ProgressStyleModel",
      "state": {
       "description_width": ""
      }
     },
     "cf950a3225264d9db21f580c3967bdff": {
      "model_module": "@jupyter-widgets/controls",
      "model_module_version": "1.5.0",
      "model_name": "HTMLModel",
      "state": {
       "layout": "IPY_MODEL_3e7240bfa16c43b2be147008f248af49",
       "style": "IPY_MODEL_41ad3a3c4f44494eba84cbe276be294e",
       "value": "<font size=\"1\">Path/Path/Path/Path/</font size>"
      }
     },
     "cfa662763ff84744a03b24d6c96afc5d": {
      "model_module": "@jupyter-widgets/base",
      "model_module_version": "1.2.0",
      "model_name": "LayoutModel",
      "state": {}
     },
     "cfcd0c9beaba4356aff2294964eddb96": {
      "model_module": "@jupyter-widgets/controls",
      "model_module_version": "1.5.0",
      "model_name": "ButtonStyleModel",
      "state": {}
     },
     "cfcef8d52b9041a3af59674050e7ab9b": {
      "model_module": "@jupyter-widgets/controls",
      "model_module_version": "1.5.0",
      "model_name": "IntProgressModel",
      "state": {
       "layout": "IPY_MODEL_2b46562f352a480390ff53e26f29cbf2",
       "style": "IPY_MODEL_7f756d304b804da3a4f54154fdf7c29c",
       "value": 30
      }
     },
     "cfd1b0b372f342b0a1a3a7bec13de375": {
      "model_module": "@jupyter-widgets/base",
      "model_module_version": "1.2.0",
      "model_name": "LayoutModel",
      "state": {
       "height": "32px",
       "overflow": "visible",
       "width": "100%"
      }
     },
     "cfd657fe56654e94ad2edc795199e93d": {
      "model_module": "@jupyter-widgets/base",
      "model_module_version": "1.2.0",
      "model_name": "LayoutModel",
      "state": {
       "border": "3px solid white",
       "flex": "1 1 0%",
       "margin": "10px",
       "min_width": "400px",
       "overflow": "visible",
       "padding": "10px",
       "width": "auto"
      }
     },
     "cfd7103cb88c41fe9225bb29ad0b84c2": {
      "model_module": "@jupyter-widgets/controls",
      "model_module_version": "1.5.0",
      "model_name": "HBoxModel",
      "state": {
       "children": [
        "IPY_MODEL_25d185dddca04db3a1e559af45b42489",
        "IPY_MODEL_ab277868807846f5b05ce229a7f7ae27",
        "IPY_MODEL_69fad6ef5e5c4d94aa3109943360b408",
        "IPY_MODEL_6411e8d8b0d3486691f16438c4726692"
       ],
       "layout": "IPY_MODEL_8db9eae517eb4491854a75d2816d6fad"
      }
     },
     "cfde11efcd964babafe52d66624d302a": {
      "model_module": "@jupyter-widgets/controls",
      "model_module_version": "1.5.0",
      "model_name": "VBoxModel",
      "state": {
       "children": [
        "IPY_MODEL_4fbf832ed7a84a8eaa5e7c41861bf241",
        "IPY_MODEL_e66718ec0e95479a85760276d32efd7c",
        "IPY_MODEL_36331c3f9a1a4140864f3f967017e667",
        "IPY_MODEL_cdc9c5a63e064e9faa4c7e58a49303de"
       ],
       "layout": "IPY_MODEL_61d7bb4f6f4b4582b08ed25b3f57ea50"
      }
     },
     "cff231f5a6ed4d9698458c6f448b3183": {
      "model_module": "@jupyter-widgets/base",
      "model_module_version": "1.2.0",
      "model_name": "LayoutModel",
      "state": {
       "overflow": "visible",
       "width": "100%"
      }
     },
     "d027f4e9d037438ab70af900e23cfcd9": {
      "model_module": "@jupyter-widgets/base",
      "model_module_version": "1.2.0",
      "model_name": "LayoutModel",
      "state": {
       "height": "32px",
       "order": "-2",
       "width": "32px"
      }
     },
     "d03b05b15fae420e88049b60b46adfcf": {
      "model_module": "@jupyter-widgets/controls",
      "model_module_version": "1.5.0",
      "model_name": "ButtonStyleModel",
      "state": {}
     },
     "d040e2f72454486fac313c1342c35083": {
      "model_module": "@jupyter-widgets/controls",
      "model_module_version": "1.5.0",
      "model_name": "ButtonModel",
      "state": {
       "description": "EDIT",
       "layout": "IPY_MODEL_1ac5b1f0630b420cafee69ba05ef9b20",
       "style": "IPY_MODEL_8c6c08c77ab945fe96602bbc1a1e4796"
      }
     },
     "d055c756f9234eb2820c61a92b66d81c": {
      "model_module": "@jupyter-widgets/controls",
      "model_module_version": "1.5.0",
      "model_name": "HBoxModel",
      "state": {
       "children": [
        "IPY_MODEL_ee313b9657ab4442aad51e350395da94",
        "IPY_MODEL_068c94cb5688421ca48d2a1455fca893",
        "IPY_MODEL_c0e456498ad6404ebdf23c3e2398d411",
        "IPY_MODEL_3fd96632fd8e4b4cbd7e5b54e44a797a"
       ],
       "layout": "IPY_MODEL_2d9975f32b1747f688c541492d3071fc"
      }
     },
     "d056b79ed2b842c690f08262efb63a69": {
      "model_module": "@jupyter-widgets/controls",
      "model_module_version": "1.5.0",
      "model_name": "ButtonStyleModel",
      "state": {}
     },
     "d061675597b84bc897d7a0b69cadc961": {
      "model_module": "@jupyter-widgets/controls",
      "model_module_version": "1.5.0",
      "model_name": "HTMLModel",
      "state": {
       "layout": "IPY_MODEL_78bfaefd4b3a4789a48c4b939c1fc9fa",
       "style": "IPY_MODEL_ccc3460c013f4b41883f95a0a46c2e95",
       "value": "<b>Task Name</b>"
      }
     },
     "d061d510780f40549ffe4690ec0fc800": {
      "model_module": "@jupyter-widgets/controls",
      "model_module_version": "1.5.0",
      "model_name": "ButtonModel",
      "state": {
       "description": "EDIT",
       "layout": "IPY_MODEL_3f17a609cbb04f098e2dc7f861c0e46a",
       "style": "IPY_MODEL_d1bdc61bbceb4456a763c529b45d74bc"
      }
     },
     "d06f8ec1692d4f2eac1bd1e06e76ef68": {
      "model_module": "@jupyter-widgets/base",
      "model_module_version": "1.2.0",
      "model_name": "LayoutModel",
      "state": {
       "overflow": "visible",
       "width": "100%"
      }
     },
     "d0717452f965413586d26d85ebc6756b": {
      "model_module": "@jupyter-widgets/controls",
      "model_module_version": "1.5.0",
      "model_name": "ButtonStyleModel",
      "state": {}
     },
     "d0736997217940e99ca47e8bea5accac": {
      "model_module": "@jupyter-widgets/controls",
      "model_module_version": "1.5.0",
      "model_name": "ButtonStyleModel",
      "state": {}
     },
     "d07a7f804c6446e1899a4f718d1ccc7a": {
      "model_module": "@jupyter-widgets/base",
      "model_module_version": "1.2.0",
      "model_name": "LayoutModel",
      "state": {
       "height": "32px",
       "overflow": "visible",
       "width": "100%"
      }
     },
     "d0a2678650164098bf6f9e2d1f4701c3": {
      "model_module": "@jupyter-widgets/base",
      "model_module_version": "1.2.0",
      "model_name": "LayoutModel",
      "state": {}
     },
     "d0a7b8dfdee2451fb9b1c8acfd2f076c": {
      "model_module": "@jupyter-widgets/base",
      "model_module_version": "1.2.0",
      "model_name": "LayoutModel",
      "state": {
       "width": "60px"
      }
     },
     "d0afc6c006c34991ac55ace34c840eb2": {
      "model_module": "@jupyter-widgets/controls",
      "model_module_version": "1.5.0",
      "model_name": "DescriptionStyleModel",
      "state": {
       "description_width": ""
      }
     },
     "d0c6d5b9714c431da549bc866d2e4cec": {
      "model_module": "@jupyter-widgets/controls",
      "model_module_version": "1.5.0",
      "model_name": "HBoxModel",
      "state": {
       "children": [
        "IPY_MODEL_cf6c69cf403f46d3b7ee185fefaa5e24",
        "IPY_MODEL_6ac3806ffd78426fa2c284cb267257a0",
        "IPY_MODEL_5a977ff92e8b403c84368210882ecc9b",
        "IPY_MODEL_dc0287d8dc2943948c750abe110ea87b"
       ],
       "layout": "IPY_MODEL_aec2ee97369347659db49056e614b86e"
      }
     },
     "d0e6c8a6665d4e7cb3bcf8ffc407cb65": {
      "model_module": "@jupyter-widgets/controls",
      "model_module_version": "1.5.0",
      "model_name": "HBoxModel",
      "state": {
       "children": [
        "IPY_MODEL_29bfe75f296844e5bf596cfe017b73f6",
        "IPY_MODEL_cb402c85d9304f1b8fc739048842e58a",
        "IPY_MODEL_bb05f8eba2e548da9e3acbea00879c28",
        "IPY_MODEL_03962158a83448e59a24c1dac73786cc"
       ],
       "layout": "IPY_MODEL_84e00b0b7e5240eb8a209edffdd43fbb"
      }
     },
     "d0e72a958d4d452e83a33bee64cfd165": {
      "model_module": "@jupyter-widgets/base",
      "model_module_version": "1.2.0",
      "model_name": "LayoutModel",
      "state": {
       "height": "32px",
       "overflow": "visible",
       "width": "100%"
      }
     },
     "d1181ff5c84a46b48167249373ab89c3": {
      "model_module": "@jupyter-widgets/base",
      "model_module_version": "1.2.0",
      "model_name": "LayoutModel",
      "state": {
       "height": "32px",
       "order": "-2",
       "width": "32px"
      }
     },
     "d123191ba9b442a9b80c4ff57d242b5a": {
      "model_module": "@jupyter-widgets/controls",
      "model_module_version": "1.5.0",
      "model_name": "LabelModel",
      "state": {
       "layout": "IPY_MODEL_d8e62a53deb24b40ab268c57f99f09a1",
       "style": "IPY_MODEL_da9a1c7d9c234fddaa7d088f71279ac3",
       "value": "   objective"
      }
     },
     "d133a71a325d4c518c10a28b2af587b8": {
      "model_module": "@jupyter-widgets/controls",
      "model_module_version": "1.5.0",
      "model_name": "DescriptionStyleModel",
      "state": {
       "description_width": ""
      }
     },
     "d1741e06124c48879c7cb53bee838567": {
      "model_module": "@jupyter-widgets/controls",
      "model_module_version": "1.5.0",
      "model_name": "HBoxModel",
      "state": {
       "children": [
        "IPY_MODEL_6f606b8261fd460ba22db999ed06368c",
        "IPY_MODEL_6b053fb0e603476c9052548f8cf33ce6",
        "IPY_MODEL_89cf55c9c8a64dec8830a008bdd6db76",
        "IPY_MODEL_6c40c320235d4be1a5d8930a3bf4e926"
       ],
       "layout": "IPY_MODEL_533db05ea7374d018b3fee8ab39d56d3"
      }
     },
     "d180543341d64f2da1626d4b2b641dcc": {
      "model_module": "@jupyter-widgets/controls",
      "model_module_version": "1.5.0",
      "model_name": "DescriptionStyleModel",
      "state": {
       "description_width": ""
      }
     },
     "d18d8d9586a746f28a2d2f83e67d82d7": {
      "model_module": "@jupyter-widgets/base",
      "model_module_version": "1.2.0",
      "model_name": "LayoutModel",
      "state": {
       "width": "60px"
      }
     },
     "d1962fb017124587b582a1edfad19689": {
      "model_module": "@jupyter-widgets/base",
      "model_module_version": "1.2.0",
      "model_name": "LayoutModel",
      "state": {
       "width": "100px"
      }
     },
     "d1bdc61bbceb4456a763c529b45d74bc": {
      "model_module": "@jupyter-widgets/controls",
      "model_module_version": "1.5.0",
      "model_name": "ButtonStyleModel",
      "state": {}
     },
     "d1d07bb0bea247ab9710afd039c40826": {
      "model_module": "@jupyter-widgets/base",
      "model_module_version": "1.2.0",
      "model_name": "LayoutModel",
      "state": {}
     },
     "d1e5c09ce4f245089b92e6faecb7d337": {
      "model_module": "@jupyter-widgets/controls",
      "model_module_version": "1.5.0",
      "model_name": "HBoxModel",
      "state": {
       "children": [
        "IPY_MODEL_801431ffe45d4256886196344097916f",
        "IPY_MODEL_dd78092dbb1b40a39eeddc56e0cf7b2f",
        "IPY_MODEL_18ce4606e6c44e8fa604fe0da5db5567",
        "IPY_MODEL_0cbc766988ea40568306f2b11b5f03ba"
       ],
       "layout": "IPY_MODEL_e052f44991864497abeffd70003537c8"
      }
     },
     "d21457786e054b67b58fd0719d60a6ac": {
      "model_module": "@jupyter-widgets/controls",
      "model_module_version": "1.5.0",
      "model_name": "HBoxModel",
      "state": {
       "children": [
        "IPY_MODEL_823a474b9b824bfab7bbe247c03bf209",
        "IPY_MODEL_6c8d0507ba2d430ca69dd82ed4f298e7",
        "IPY_MODEL_90784145f59142c7a78a80a6aed2e112",
        "IPY_MODEL_59168165e5a449869461a8288be400a7"
       ],
       "layout": "IPY_MODEL_ade9b83ee96140d3975e1c2cd9711fa1"
      }
     },
     "d2163071751a49eab50bb9a874fd7d48": {
      "model_module": "@jupyter-widgets/base",
      "model_module_version": "1.2.0",
      "model_name": "LayoutModel",
      "state": {
       "order": "-1",
       "overflow": "visible",
       "padding": "1px",
       "width": "0px"
      }
     },
     "d235795e9dfc4de1b356ffb6dc89f2e2": {
      "model_module": "@jupyter-widgets/controls",
      "model_module_version": "1.5.0",
      "model_name": "HBoxModel",
      "state": {
       "children": [
        "IPY_MODEL_48afb430595046918432447b850a2a66",
        "IPY_MODEL_21378f8fc9af49948ea733b3c763658a",
        "IPY_MODEL_0c904fe7edb844fe92695ae6dde22349",
        "IPY_MODEL_0b0e1496f16d4aea8d22ba9325e56255"
       ],
       "layout": "IPY_MODEL_651aa7afa0724cd29678aa9af111a5de"
      }
     },
     "d25641f4cdd54df89ce5ed88d4a9aa43": {
      "model_module": "@jupyter-widgets/controls",
      "model_module_version": "1.5.0",
      "model_name": "ButtonModel",
      "state": {
       "description": "EDIT",
       "layout": "IPY_MODEL_5a2826b13c1e4b72a27990a26f7933ce",
       "style": "IPY_MODEL_2b86c02ed0f449fe94e88dba9e53ea01"
      }
     },
     "d26fb54334b54162b066d9dffb3d6889": {
      "model_module": "@jupyter-widgets/controls",
      "model_module_version": "1.5.0",
      "model_name": "HBoxModel",
      "state": {
       "children": [
        "IPY_MODEL_f68797d9f7834184bbfb12d635e070d0",
        "IPY_MODEL_570bde5920054fe0a6d307ea7d2d5c5e",
        "IPY_MODEL_c508b97680c64ac3b93f628d7d93b943",
        "IPY_MODEL_71edc23d8144496b94a34d90ca07071d"
       ],
       "layout": "IPY_MODEL_f3ece90eb34542188b8c438416fd1fc8"
      }
     },
     "d27bb76454d4471eacb50a8f5e406079": {
      "model_module": "@jupyter-widgets/controls",
      "model_module_version": "1.5.0",
      "model_name": "ProgressStyleModel",
      "state": {
       "description_width": ""
      }
     },
     "d2a8ee9ca4eb45dab06e79a3dcc8c93d": {
      "model_module": "@jupyter-widgets/controls",
      "model_module_version": "1.5.0",
      "model_name": "ButtonModel",
      "state": {
       "description": "EDIT",
       "layout": "IPY_MODEL_7354565ea74b489abff0059054742265",
       "style": "IPY_MODEL_71062eaa57ff45cbab7d8632a16b56ba"
      }
     },
     "d2b02c0fcb8048f8907e9f05f1f2915e": {
      "model_module": "@jupyter-widgets/controls",
      "model_module_version": "1.5.0",
      "model_name": "ButtonModel",
      "state": {
       "layout": "IPY_MODEL_96ec89bd76f743e4b27595db5b9a2c69",
       "style": "IPY_MODEL_c4e16b09b8f34f7ba1af9499cda29e68"
      }
     },
     "d2bc6773d127441193cc79fc8983c943": {
      "model_module": "@jupyter-widgets/controls",
      "model_module_version": "1.5.0",
      "model_name": "IntProgressModel",
      "state": {
       "layout": "IPY_MODEL_8e8a194e1d2749dbb0e6fb44d244bb87",
       "style": "IPY_MODEL_0e88845d4e40412c96002d8741b6bebd",
       "value": 30
      }
     },
     "d2c0672f4c184772a51e0c8d6288b2f0": {
      "model_module": "@jupyter-widgets/controls",
      "model_module_version": "1.5.0",
      "model_name": "ProgressStyleModel",
      "state": {
       "description_width": ""
      }
     },
     "d2c0e381d00d4d3f9945f9838a484a47": {
      "model_module": "@jupyter-widgets/base",
      "model_module_version": "1.2.0",
      "model_name": "LayoutModel",
      "state": {
       "overflow": "visible",
       "width": "100%"
      }
     },
     "d2e48c47b6d345d180bcd7dd94ed574e": {
      "model_module": "@jupyter-widgets/base",
      "model_module_version": "1.2.0",
      "model_name": "LayoutModel",
      "state": {
       "height": "32px",
       "overflow": "visible",
       "width": "100%"
      }
     },
     "d311872436d5423ab14b35aba6bf8d1c": {
      "model_module": "@jupyter-widgets/controls",
      "model_module_version": "1.5.0",
      "model_name": "ButtonModel",
      "state": {
       "layout": "IPY_MODEL_616169d431a64199b64fe98e3bacb26f",
       "style": "IPY_MODEL_8dd3d77dc52349f7a4e76aee59238f0a"
      }
     },
     "d3332bcd9e114e08b439829963674f7a": {
      "model_module": "@jupyter-widgets/controls",
      "model_module_version": "1.5.0",
      "model_name": "DescriptionStyleModel",
      "state": {
       "description_width": ""
      }
     },
     "d336899f2e984092a06100079c31d386": {
      "model_module": "@jupyter-widgets/base",
      "model_module_version": "1.2.0",
      "model_name": "LayoutModel",
      "state": {
       "width": "60px"
      }
     },
     "d3425348d36e45f2900cac0edd68c53f": {
      "model_module": "@jupyter-widgets/controls",
      "model_module_version": "1.5.0",
      "model_name": "ButtonModel",
      "state": {
       "description": "EDIT",
       "layout": "IPY_MODEL_96d6665030f6488db7d1bab9fa0d2d2a",
       "style": "IPY_MODEL_e08d83e2b45f4e78abe108b905aa3103"
      }
     },
     "d3432ed4cfae43299274fd6662bb6724": {
      "model_module": "@jupyter-widgets/controls",
      "model_module_version": "1.5.0",
      "model_name": "HTMLModel",
      "state": {
       "layout": "IPY_MODEL_1cc2635fafc74e6ea6a28f318848810b",
       "style": "IPY_MODEL_89ff702fe81a44a18ea480d2155f731d",
       "value": "<font size=\"1\">Path/Path/Path/Path/</font size>"
      }
     },
     "d348411dffad4ac09dd8ed94b7644efb": {
      "model_module": "@jupyter-widgets/base",
      "model_module_version": "1.2.0",
      "model_name": "LayoutModel",
      "state": {
       "overflow": "visible",
       "width": "100%"
      }
     },
     "d34e01239401470088034dd8c521222a": {
      "model_module": "@jupyter-widgets/base",
      "model_module_version": "1.2.0",
      "model_name": "LayoutModel",
      "state": {
       "height": "20px"
      }
     },
     "d34e808bef304de7b57f896012e30e8c": {
      "model_module": "@jupyter-widgets/controls",
      "model_module_version": "1.5.0",
      "model_name": "IntProgressModel",
      "state": {
       "layout": "IPY_MODEL_24b4ab39528c414b88657ff5f084396f",
       "style": "IPY_MODEL_f930a61b704d48f7bddb9146f1b0bc89",
       "value": 30
      }
     },
     "d377153c080140289451d601efecb4ed": {
      "model_module": "@jupyter-widgets/base",
      "model_module_version": "1.2.0",
      "model_name": "LayoutModel",
      "state": {
       "height": "32px",
       "order": "-2",
       "width": "32px"
      }
     },
     "d391044057b647e58b955dcaeb6c1230": {
      "model_module": "@jupyter-widgets/controls",
      "model_module_version": "1.5.0",
      "model_name": "DescriptionStyleModel",
      "state": {
       "description_width": ""
      }
     },
     "d3955ee45f6247f7a4f07b42cf0187b7": {
      "model_module": "@jupyter-widgets/base",
      "model_module_version": "1.2.0",
      "model_name": "LayoutModel",
      "state": {
       "height": "32px",
       "overflow": "visible",
       "width": "100%"
      }
     },
     "d3b08c7e72244c619acb5c311dec51fb": {
      "model_module": "@jupyter-widgets/controls",
      "model_module_version": "1.5.0",
      "model_name": "ButtonModel",
      "state": {
       "layout": "IPY_MODEL_7d4a2b301bf34b5ebf933b2d5b57dc72",
       "style": "IPY_MODEL_7850c1fee0e948d1b311d8c950af4148"
      }
     },
     "d3c874aec38c423ebd311deef261cb76": {
      "model_module": "@jupyter-widgets/base",
      "model_module_version": "1.2.0",
      "model_name": "LayoutModel",
      "state": {
       "overflow": "visible",
       "width": "100%"
      }
     },
     "d3c9934a5dad4184a9be6c2575bea760": {
      "model_module": "@jupyter-widgets/controls",
      "model_module_version": "1.5.0",
      "model_name": "LabelModel",
      "state": {
       "layout": "IPY_MODEL_4b9d2a2d7d0b4567a4fb7e07f0e80427",
       "style": "IPY_MODEL_0f3edbbd14174f2eb8f538c7de318b71",
       "value": "   objective"
      }
     },
     "d3ca0bc3ff1d40f78667ed1784002a8e": {
      "model_module": "@jupyter-widgets/controls",
      "model_module_version": "1.5.0",
      "model_name": "HBoxModel",
      "state": {
       "children": [
        "IPY_MODEL_664b8d4bcd1344bcaddf041cf874a40d",
        "IPY_MODEL_a6a747c3449449f987c5db3b205c3543",
        "IPY_MODEL_5f63982945e24daa906e0440df898226",
        "IPY_MODEL_9045f7a8b3204f74abcc567d3f93c1e9"
       ],
       "layout": "IPY_MODEL_185bf8c396634212bdc3aebfcb1eb5fc"
      }
     },
     "d3d9f720ccd14c3fab3f1c901ced503b": {
      "model_module": "@jupyter-widgets/controls",
      "model_module_version": "1.5.0",
      "model_name": "IntProgressModel",
      "state": {
       "layout": "IPY_MODEL_e2132dcfeff74b8a84bb10b5a167a96d",
       "style": "IPY_MODEL_959cea96a43e40ceb959520204a8cbde",
       "value": 30
      }
     },
     "d3e047bbb37e417c8865bd57d3d34497": {
      "model_module": "@jupyter-widgets/base",
      "model_module_version": "1.2.0",
      "model_name": "LayoutModel",
      "state": {
       "border": "3px solid white",
       "flex": "1 1 0%",
       "margin": "10px",
       "min_width": "400px",
       "overflow": "visible",
       "padding": "10px",
       "width": "auto"
      }
     },
     "d4049bb857044238836a9e31333364dc": {
      "model_module": "@jupyter-widgets/base",
      "model_module_version": "1.2.0",
      "model_name": "LayoutModel",
      "state": {
       "display": "flex",
       "flex_flow": "row wrap"
      }
     },
     "d4133888c31b412899cd203b16caa16f": {
      "model_module": "@jupyter-widgets/controls",
      "model_module_version": "1.5.0",
      "model_name": "CheckboxModel",
      "state": {
       "description": "Hide Complete Objectives",
       "disabled": false,
       "layout": "IPY_MODEL_d1d07bb0bea247ab9710afd039c40826",
       "style": "IPY_MODEL_c53af2443afc46d793b0a0b225fcaf54",
       "value": false
      }
     },
     "d41d7a2b2e244c5cbd4aeec596ce0dbc": {
      "model_module": "@jupyter-widgets/base",
      "model_module_version": "1.2.0",
      "model_name": "LayoutModel",
      "state": {
       "order": "-1",
       "overflow": "visible",
       "padding": "1px",
       "width": "0px"
      }
     },
     "d46216ed35734bd3a0a02c45b2678597": {
      "model_module": "@jupyter-widgets/controls",
      "model_module_version": "1.5.0",
      "model_name": "HBoxModel",
      "state": {
       "children": [
        "IPY_MODEL_2b11c0c382b94bb586dae593fd3c58bf",
        "IPY_MODEL_cfcef8d52b9041a3af59674050e7ab9b",
        "IPY_MODEL_806d793238744d0b8edb543514d96c89",
        "IPY_MODEL_c6110a48285741e08e4684301ec3390d"
       ],
       "layout": "IPY_MODEL_c40e7967d35d4b198ea6453020b93bce"
      }
     },
     "d46d119c4ce1449287c5ee6b397a9cc6": {
      "model_module": "@jupyter-widgets/controls",
      "model_module_version": "1.5.0",
      "model_name": "LabelModel",
      "state": {
       "layout": "IPY_MODEL_5b6ed87a1864431d949df284b0c6fc8e",
       "style": "IPY_MODEL_930344d99ec947508272cc1adae0398f",
       "value": "   objective"
      }
     },
     "d4905737d87e45f7bdd5fbd5e88b57f8": {
      "model_module": "@jupyter-widgets/controls",
      "model_module_version": "1.5.0",
      "model_name": "DescriptionStyleModel",
      "state": {
       "description_width": ""
      }
     },
     "d4beab816d194b9fa6c62e4076f5f389": {
      "model_module": "@jupyter-widgets/controls",
      "model_module_version": "1.5.0",
      "model_name": "ButtonStyleModel",
      "state": {}
     },
     "d4c8eb4544644992877c0b648383f789": {
      "model_module": "@jupyter-widgets/controls",
      "model_module_version": "1.5.0",
      "model_name": "ButtonStyleModel",
      "state": {}
     },
     "d4d92c79bc4542ff8bfe9d8c3bf4e5f8": {
      "model_module": "@jupyter-widgets/base",
      "model_module_version": "1.2.0",
      "model_name": "LayoutModel",
      "state": {}
     },
     "d4d95ba513274762a794e882bad3be03": {
      "model_module": "@jupyter-widgets/controls",
      "model_module_version": "1.5.0",
      "model_name": "ButtonStyleModel",
      "state": {}
     },
     "d500b7c6fe324c1ba246fbdc44686a50": {
      "model_module": "@jupyter-widgets/controls",
      "model_module_version": "1.5.0",
      "model_name": "ButtonStyleModel",
      "state": {}
     },
     "d503fc75452645cdbe221a28e8e55603": {
      "model_module": "@jupyter-widgets/controls",
      "model_module_version": "1.5.0",
      "model_name": "DescriptionStyleModel",
      "state": {
       "description_width": ""
      }
     },
     "d5143d3f8bed46f28e1b3712b9a41bc4": {
      "model_module": "@jupyter-widgets/controls",
      "model_module_version": "1.5.0",
      "model_name": "VBoxModel",
      "state": {
       "children": [
        "IPY_MODEL_650517bedcd14ce7987503d486879796",
        "IPY_MODEL_083e4c7ab3704eb78845f1a479d84d5d",
        "IPY_MODEL_0e5276a3b02248b2897009ac49b0461b"
       ],
       "layout": "IPY_MODEL_5338e6e1ec25482fb3abf6ca6be51bc5"
      }
     },
     "d5225136276e431992adc8cc29cc83bf": {
      "model_module": "@jupyter-widgets/controls",
      "model_module_version": "1.5.0",
      "model_name": "LabelModel",
      "state": {
       "layout": "IPY_MODEL_df3cbf69b3d245e7ad3842768a3d769b",
       "style": "IPY_MODEL_3561f41b0cdd4e8b99648651896ee2cc",
       "value": "   objective"
      }
     },
     "d556cde4f3434769b781aa7e057ce137": {
      "model_module": "@jupyter-widgets/base",
      "model_module_version": "1.2.0",
      "model_name": "LayoutModel",
      "state": {
       "height": "32px",
       "order": "-2",
       "width": "32px"
      }
     },
     "d55ded2843104e4798df2f2af490f62a": {
      "model_module": "@jupyter-widgets/controls",
      "model_module_version": "1.5.0",
      "model_name": "ButtonStyleModel",
      "state": {}
     },
     "d57e547925a94c048960ff2c1c3c1275": {
      "model_module": "@jupyter-widgets/base",
      "model_module_version": "1.2.0",
      "model_name": "LayoutModel",
      "state": {
       "width": "60px"
      }
     },
     "d5880f1123f347fa82b48edeac08fde0": {
      "model_module": "@jupyter-widgets/base",
      "model_module_version": "1.2.0",
      "model_name": "LayoutModel",
      "state": {
       "height": "32px",
       "order": "-2",
       "width": "32px"
      }
     },
     "d59521d9f9db47d29abe0f5f70b29638": {
      "model_module": "@jupyter-widgets/controls",
      "model_module_version": "1.5.0",
      "model_name": "ButtonStyleModel",
      "state": {}
     },
     "d5ad230bd4e7428282a3cd0482cd5151": {
      "model_module": "@jupyter-widgets/controls",
      "model_module_version": "1.5.0",
      "model_name": "IntProgressModel",
      "state": {
       "layout": "IPY_MODEL_9633828558ab400b930251eb744ae471",
       "style": "IPY_MODEL_8dd6e605ea644ee38853c533ad0aefb8",
       "value": 30
      }
     },
     "d5b7e45742b74e499f79b5ecc822aa04": {
      "model_module": "@jupyter-widgets/controls",
      "model_module_version": "1.5.0",
      "model_name": "ButtonModel",
      "state": {
       "layout": "IPY_MODEL_b5c60ff655d14d6387a7e858e84bc5b8",
       "style": "IPY_MODEL_678036110ada48959c011972c1039bc6"
      }
     },
     "d5c3a588f860466f9c88df9e6a82ef91": {
      "model_module": "@jupyter-widgets/controls",
      "model_module_version": "1.5.0",
      "model_name": "HBoxModel",
      "state": {
       "children": [
        "IPY_MODEL_5f6a750d745d4da0b50f1722e4d9cac7",
        "IPY_MODEL_734c78a1059b454f832aa044429f2391",
        "IPY_MODEL_02284187f52841fe869c5f046ebb52c4",
        "IPY_MODEL_12831ed399bd43958640814d9a72f550"
       ],
       "layout": "IPY_MODEL_b572e8aceb644ef6bd7a2f742bfd6bd0"
      }
     },
     "d5c7e671705c47e78c75d5f2fef0c9c7": {
      "model_module": "@jupyter-widgets/base",
      "model_module_version": "1.2.0",
      "model_name": "LayoutModel",
      "state": {
       "height": "32px",
       "order": "-2",
       "width": "32px"
      }
     },
     "d5f2b96cd0564c11befeb7789a56a796": {
      "model_module": "@jupyter-widgets/controls",
      "model_module_version": "1.5.0",
      "model_name": "BoxModel",
      "state": {
       "layout": "IPY_MODEL_a58b939f936c4a55b0e5c0fb5d5b7cf7"
      }
     },
     "d5fe9362c85b453da2e96047d6ceb851": {
      "model_module": "@jupyter-widgets/base",
      "model_module_version": "1.2.0",
      "model_name": "LayoutModel",
      "state": {}
     },
     "d615b53bef1a4a7ea97168b25ca95469": {
      "model_module": "@jupyter-widgets/base",
      "model_module_version": "1.2.0",
      "model_name": "LayoutModel",
      "state": {}
     },
     "d6177c0cc6344e67974c9350f5a88a2c": {
      "model_module": "@jupyter-widgets/base",
      "model_module_version": "1.2.0",
      "model_name": "LayoutModel",
      "state": {
       "height": "32px",
       "order": "-2",
       "width": "32px"
      }
     },
     "d61ae680a4bd493c87a2f9f1b3225a22": {
      "model_module": "@jupyter-widgets/base",
      "model_module_version": "1.2.0",
      "model_name": "LayoutModel",
      "state": {
       "border": "3px solid white",
       "flex": "1 1 0%",
       "margin": "10px",
       "min_width": "400px",
       "overflow": "visible",
       "padding": "10px",
       "width": "auto"
      }
     },
     "d63571a2247d4dbb875102d231ac0047": {
      "model_module": "@jupyter-widgets/controls",
      "model_module_version": "1.5.0",
      "model_name": "LabelModel",
      "state": {
       "layout": "IPY_MODEL_dd63f52663b140aa8fc70f4d506e1be8",
       "style": "IPY_MODEL_5c481c103a7844739548938941d2f87a",
       "value": "   objective"
      }
     },
     "d63ad9d8e4994fca9ef815b49fad0bae": {
      "model_module": "@jupyter-widgets/controls",
      "model_module_version": "1.5.0",
      "model_name": "ButtonStyleModel",
      "state": {}
     },
     "d63bbbd8c9df47b39969993e2fec7fe8": {
      "model_module": "@jupyter-widgets/base",
      "model_module_version": "1.2.0",
      "model_name": "LayoutModel",
      "state": {
       "width": "60px"
      }
     },
     "d63e65e4e96247e987f52da925237af8": {
      "model_module": "@jupyter-widgets/controls",
      "model_module_version": "1.5.0",
      "model_name": "DescriptionStyleModel",
      "state": {
       "description_width": ""
      }
     },
     "d68f664f0ad1453eb99f4e0b8a44a12a": {
      "model_module": "@jupyter-widgets/base",
      "model_module_version": "1.2.0",
      "model_name": "LayoutModel",
      "state": {
       "width": "60px"
      }
     },
     "d695cd94e2434e16af416a1cba6a5820": {
      "model_module": "@jupyter-widgets/base",
      "model_module_version": "1.2.0",
      "model_name": "LayoutModel",
      "state": {
       "height": "32px",
       "order": "-2",
       "width": "32px"
      }
     },
     "d6aed83822c149fe9027e12648815513": {
      "model_module": "@jupyter-widgets/base",
      "model_module_version": "1.2.0",
      "model_name": "LayoutModel",
      "state": {
       "height": "32px",
       "overflow": "visible",
       "width": "100%"
      }
     },
     "d6b9bab315734685b405966e8c390267": {
      "model_module": "@jupyter-widgets/controls",
      "model_module_version": "1.5.0",
      "model_name": "HBoxModel",
      "state": {
       "children": [
        "IPY_MODEL_5ac4e36db739443292d23a0f2cbb28e3",
        "IPY_MODEL_1150cbe31e174fbeb83f068ae61ca29e",
        "IPY_MODEL_1b3894523adf466aa4a75a1ffe6b13ac",
        "IPY_MODEL_bad835914e2a43e0b89708036ef65370"
       ],
       "layout": "IPY_MODEL_27742bd6e8204771b25d254281c3bc3d"
      }
     },
     "d6c55406a44b49909dca568f0e809e9d": {
      "model_module": "@jupyter-widgets/controls",
      "model_module_version": "1.5.0",
      "model_name": "HBoxModel",
      "state": {
       "children": [
        "IPY_MODEL_99cb26bc129d40a79dbbfadb393404bb",
        "IPY_MODEL_15623645a0fa43feadbc4071628d8362",
        "IPY_MODEL_b771ddc3969743de96f4406de0b75cb5",
        "IPY_MODEL_824778df8b344c3e8861b6fe26813391"
       ],
       "layout": "IPY_MODEL_c636ed0096154b8ab02eb8f43b87d724"
      }
     },
     "d6c5ca3c1de143e88b0175e513c23c45": {
      "model_module": "@jupyter-widgets/base",
      "model_module_version": "1.2.0",
      "model_name": "LayoutModel",
      "state": {
       "height": "32px",
       "order": "-2",
       "width": "32px"
      }
     },
     "d6d4ab3d47e6466fbd1a2626b8202bd2": {
      "model_module": "@jupyter-widgets/controls",
      "model_module_version": "1.5.0",
      "model_name": "ButtonModel",
      "state": {
       "layout": "IPY_MODEL_92f52e8abd7843a096df14fb3dcf71e7",
       "style": "IPY_MODEL_8b32be5e47274e3da03f0028064a19e6"
      }
     },
     "d6de7498b27c4150b9bfb047f7bb5aa8": {
      "model_module": "@jupyter-widgets/controls",
      "model_module_version": "1.5.0",
      "model_name": "HBoxModel",
      "state": {
       "children": [
        "IPY_MODEL_a68603efd58c444cbdef03ae269e00c3",
        "IPY_MODEL_27b6ee7f48004652a2bab1a4606108cb",
        "IPY_MODEL_e03c69a7420c496a9429f7597f5f24c3",
        "IPY_MODEL_1c39aa8cfe764bf886624a047ac0e49e"
       ],
       "layout": "IPY_MODEL_96a44fd1ce4a4bb8b0f0dcbfdcf4cea9"
      }
     },
     "d6e42756ab4545d9ab5173c330dd68ab": {
      "model_module": "@jupyter-widgets/controls",
      "model_module_version": "1.5.0",
      "model_name": "ButtonModel",
      "state": {
       "description": "EDIT",
       "layout": "IPY_MODEL_caa4244a51704ebd815cc59fadbd536c",
       "style": "IPY_MODEL_c1f6c353fa3b4b20abec62960b0670db"
      }
     },
     "d75a50f9187b40a68a73a1872e0f4f0a": {
      "model_module": "@jupyter-widgets/controls",
      "model_module_version": "1.5.0",
      "model_name": "ButtonStyleModel",
      "state": {}
     },
     "d77a0daab72144f895e8e89047f1e1d7": {
      "model_module": "@jupyter-widgets/controls",
      "model_module_version": "1.5.0",
      "model_name": "ButtonStyleModel",
      "state": {}
     },
     "d795c6871c6e4615851edb2ce973bc3d": {
      "model_module": "@jupyter-widgets/controls",
      "model_module_version": "1.5.0",
      "model_name": "ButtonModel",
      "state": {
       "description": "EDIT",
       "layout": "IPY_MODEL_64ccae08fa614de5a13ada69071c07fe",
       "style": "IPY_MODEL_d77a0daab72144f895e8e89047f1e1d7"
      }
     },
     "d7979a9dc788495eab8b260b02d08644": {
      "model_module": "@jupyter-widgets/controls",
      "model_module_version": "1.5.0",
      "model_name": "DescriptionStyleModel",
      "state": {
       "description_width": ""
      }
     },
     "d7ca7eed59ce4563b5041a30b3f449fd": {
      "model_module": "@jupyter-widgets/base",
      "model_module_version": "1.2.0",
      "model_name": "LayoutModel",
      "state": {}
     },
     "d7d6c919d8334c1c8a78a2ea4776e436": {
      "model_module": "@jupyter-widgets/controls",
      "model_module_version": "1.5.0",
      "model_name": "DescriptionStyleModel",
      "state": {
       "description_width": ""
      }
     },
     "d7ea87751a9e47e9849b550a9afa22eb": {
      "model_module": "@jupyter-widgets/base",
      "model_module_version": "1.2.0",
      "model_name": "LayoutModel",
      "state": {
       "height": "32px",
       "order": "-2",
       "width": "32px"
      }
     },
     "d7efb3db67214f0facf97d040f5e3333": {
      "model_module": "@jupyter-widgets/base",
      "model_module_version": "1.2.0",
      "model_name": "LayoutModel",
      "state": {
       "height": "32px",
       "overflow": "visible",
       "width": "100%"
      }
     },
     "d81ebccea7414348900053e1513fc8ff": {
      "model_module": "@jupyter-widgets/base",
      "model_module_version": "1.2.0",
      "model_name": "LayoutModel",
      "state": {
       "width": "60px"
      }
     },
     "d84ecc388f8b4be4a2799ba2e778d888": {
      "model_module": "@jupyter-widgets/controls",
      "model_module_version": "1.5.0",
      "model_name": "HBoxModel",
      "state": {
       "children": [
        "IPY_MODEL_101abfe99b2646799516baefa7dd6633",
        "IPY_MODEL_ab642ce9881d44f489b022f650039162",
        "IPY_MODEL_7e86ddc5013a4f60bcd632219849d281",
        "IPY_MODEL_f1a5cf1576ab471694f9f51ccf93694e"
       ],
       "layout": "IPY_MODEL_7692973fd61a4998ace8cc290d9bbe95"
      }
     },
     "d8507813710340f787da99fbe90f2a5b": {
      "model_module": "@jupyter-widgets/base",
      "model_module_version": "1.2.0",
      "model_name": "LayoutModel",
      "state": {
       "order": "-1",
       "overflow": "visible",
       "padding": "1px",
       "width": "0px"
      }
     },
     "d867c06864174e6d87ba5fb7914a4a8e": {
      "model_module": "@jupyter-widgets/controls",
      "model_module_version": "1.5.0",
      "model_name": "ButtonModel",
      "state": {
       "layout": "IPY_MODEL_a8933a2e0882454a8fc73115acf84b68",
       "style": "IPY_MODEL_f49870b73310467a80333bf327cc6843"
      }
     },
     "d86cbe7f244646a6ad4a0f0cf6abb211": {
      "model_module": "@jupyter-widgets/base",
      "model_module_version": "1.2.0",
      "model_name": "LayoutModel",
      "state": {
       "height": "32px",
       "order": "-2",
       "width": "32px"
      }
     },
     "d8a7235ecae646a5adc10c70f745c250": {
      "model_module": "@jupyter-widgets/controls",
      "model_module_version": "1.5.0",
      "model_name": "ButtonStyleModel",
      "state": {}
     },
     "d8bb10ebdf174bff93577b9fee47b59d": {
      "model_module": "@jupyter-widgets/controls",
      "model_module_version": "1.5.0",
      "model_name": "DescriptionStyleModel",
      "state": {
       "description_width": ""
      }
     },
     "d8e5f68f35804cfe884a38f51cb47131": {
      "model_module": "@jupyter-widgets/controls",
      "model_module_version": "1.5.0",
      "model_name": "HBoxModel",
      "state": {
       "children": [
        "IPY_MODEL_7f8e831a4bb0407888c41456a7226aff",
        "IPY_MODEL_992d72fd20ac4914913a6ce4baaf2408",
        "IPY_MODEL_24e4390635984f8abade60defcf366bf",
        "IPY_MODEL_875cfd68f95a41dc9da6903d5f804b47"
       ],
       "layout": "IPY_MODEL_7c185a3837874c3ca434b7e6f70be177"
      }
     },
     "d8e62a53deb24b40ab268c57f99f09a1": {
      "model_module": "@jupyter-widgets/base",
      "model_module_version": "1.2.0",
      "model_name": "LayoutModel",
      "state": {
       "order": "-1",
       "overflow": "visible",
       "padding": "1px",
       "width": "0px"
      }
     },
     "d8e6b74cbcab43f5a70ae10e0ee0d9c2": {
      "model_module": "@jupyter-widgets/controls",
      "model_module_version": "1.5.0",
      "model_name": "HBoxModel",
      "state": {
       "children": [
        "IPY_MODEL_3e7fc72d08e74ebb8c21d872779ca053",
        "IPY_MODEL_d3d9f720ccd14c3fab3f1c901ced503b",
        "IPY_MODEL_092cdd9fef3640158d4e782e71e80d21",
        "IPY_MODEL_d6e42756ab4545d9ab5173c330dd68ab"
       ],
       "layout": "IPY_MODEL_d7ca7eed59ce4563b5041a30b3f449fd"
      }
     },
     "d90053cada1e410eb9f1160393499a68": {
      "model_module": "@jupyter-widgets/controls",
      "model_module_version": "1.5.0",
      "model_name": "HBoxModel",
      "state": {
       "children": [
        "IPY_MODEL_aef2790e0a084b49af1b331f5096f943",
        "IPY_MODEL_f8d9712c669649d8b64b0a0438f6b0f1",
        "IPY_MODEL_d5225136276e431992adc8cc29cc83bf",
        "IPY_MODEL_30d7a6a97f164f3ebe68801ccbfe96c4"
       ],
       "layout": "IPY_MODEL_48f7039d713d4f05a689fb058d3b63b1"
      }
     },
     "d90460101b8345a785237c49ac9d48b0": {
      "model_module": "@jupyter-widgets/controls",
      "model_module_version": "1.5.0",
      "model_name": "LabelModel",
      "state": {
       "layout": "IPY_MODEL_b2f4cf7420ce47cc8bf47fc3952a58c5",
       "style": "IPY_MODEL_d63e65e4e96247e987f52da925237af8",
       "value": "   objective"
      }
     },
     "d9354615f8f74f41a73330a2c0d4f15d": {
      "model_module": "@jupyter-widgets/base",
      "model_module_version": "1.2.0",
      "model_name": "LayoutModel",
      "state": {}
     },
     "d939d5a82d0742fb9a670ca01b6d936a": {
      "model_module": "@jupyter-widgets/controls",
      "model_module_version": "1.5.0",
      "model_name": "ButtonModel",
      "state": {
       "layout": "IPY_MODEL_54ff18b384264109ad8a3d79a13ed690",
       "style": "IPY_MODEL_4b5362cf36d64c56bf2cab75cadc4d08"
      }
     },
     "d949144e3a134cdb8174eb1a3f966a66": {
      "model_module": "@jupyter-widgets/controls",
      "model_module_version": "1.5.0",
      "model_name": "HBoxModel",
      "state": {
       "children": [
        "IPY_MODEL_3df2cb35d5cf4e1eab336ec9fe4cc33c",
        "IPY_MODEL_55f1631295ef486c8071bf9826568fbf",
        "IPY_MODEL_7b316c0e5c1a416283b5b895a6446695",
        "IPY_MODEL_776b3f18b1fa42e49ce2745e385004a9"
       ],
       "layout": "IPY_MODEL_efc25a5bf4074ad49d67a951f07ecad9"
      }
     },
     "d99169c13a3f49bd9aa36bc86615abcf": {
      "model_module": "@jupyter-widgets/base",
      "model_module_version": "1.2.0",
      "model_name": "LayoutModel",
      "state": {}
     },
     "d997767533f0448c803b7e28b08951f3": {
      "model_module": "@jupyter-widgets/controls",
      "model_module_version": "1.5.0",
      "model_name": "HBoxModel",
      "state": {
       "children": [
        "IPY_MODEL_41c6524d6df74731a5709c40b22c3978",
        "IPY_MODEL_e3ef388da50e44b2b0a3698d7b6eec90",
        "IPY_MODEL_8d832679115742a9a98e8d423d81e97c",
        "IPY_MODEL_0cd1ae7df46b487abd067b006f2e98a3"
       ],
       "layout": "IPY_MODEL_adbc7c89be924c8797bc0da52251e59b"
      }
     },
     "d99e325fae39448a94c64d3f1109e32f": {
      "model_module": "@jupyter-widgets/controls",
      "model_module_version": "1.5.0",
      "model_name": "DescriptionStyleModel",
      "state": {
       "description_width": ""
      }
     },
     "d9b1b73f87b94b07beddf619343f9e90": {
      "model_module": "@jupyter-widgets/controls",
      "model_module_version": "1.5.0",
      "model_name": "HTMLModel",
      "state": {
       "layout": "IPY_MODEL_b0f3293b8c8a4e358b03f97c2e33d184",
       "style": "IPY_MODEL_4bbc0fde62bd47c9ad17d700c3700a8b",
       "value": "<font size=\"1\">Path/Path/Path/Path/</font size>"
      }
     },
     "d9b8678704f946a2bf23d1adb7c7fc21": {
      "model_module": "@jupyter-widgets/controls",
      "model_module_version": "1.5.0",
      "model_name": "DescriptionStyleModel",
      "state": {
       "description_width": ""
      }
     },
     "d9bb73500d3b456089cd24e539e3e0ca": {
      "model_module": "@jupyter-widgets/base",
      "model_module_version": "1.2.0",
      "model_name": "LayoutModel",
      "state": {}
     },
     "d9d6e9f704bd4f058a0a8b8f1f0ab10b": {
      "model_module": "@jupyter-widgets/base",
      "model_module_version": "1.2.0",
      "model_name": "LayoutModel",
      "state": {}
     },
     "d9fa083707f242dbbcc9046447197614": {
      "model_module": "@jupyter-widgets/controls",
      "model_module_version": "1.5.0",
      "model_name": "ButtonStyleModel",
      "state": {}
     },
     "da1eeb62eb054cbd962993e129dc35b5": {
      "model_module": "@jupyter-widgets/controls",
      "model_module_version": "1.5.0",
      "model_name": "LabelModel",
      "state": {
       "layout": "IPY_MODEL_95b891c8d6f04bfbb565ebda32c7c272",
       "style": "IPY_MODEL_f3cb673cef2a43999419714b36f334a1",
       "value": "   objective"
      }
     },
     "da41f88b4aac48ecbd9c8f42116a6a0d": {
      "model_module": "@jupyter-widgets/controls",
      "model_module_version": "1.5.0",
      "model_name": "ButtonStyleModel",
      "state": {}
     },
     "da50449ed5924e36a674c4cc5e90f5ed": {
      "model_module": "@jupyter-widgets/base",
      "model_module_version": "1.2.0",
      "model_name": "LayoutModel",
      "state": {
       "order": "-1",
       "overflow": "visible",
       "padding": "1px",
       "width": "0px"
      }
     },
     "da746bbbba8643479a588dcd37f92995": {
      "model_module": "@jupyter-widgets/controls",
      "model_module_version": "1.5.0",
      "model_name": "ButtonModel",
      "state": {
       "description": "EDIT",
       "layout": "IPY_MODEL_2233bcc9f8ec42a08d635d164809da6a",
       "style": "IPY_MODEL_0fdf13e312674eabb277af6ea0d61ec5"
      }
     },
     "da79baf52e774ac192e1f393e4026500": {
      "model_module": "@jupyter-widgets/base",
      "model_module_version": "1.2.0",
      "model_name": "LayoutModel",
      "state": {
       "height": "32px",
       "order": "-2",
       "width": "32px"
      }
     },
     "da831ef8203141b193f72c7130612bd2": {
      "model_module": "@jupyter-widgets/controls",
      "model_module_version": "1.5.0",
      "model_name": "ButtonStyleModel",
      "state": {}
     },
     "da9a1c7d9c234fddaa7d088f71279ac3": {
      "model_module": "@jupyter-widgets/controls",
      "model_module_version": "1.5.0",
      "model_name": "DescriptionStyleModel",
      "state": {
       "description_width": ""
      }
     },
     "daa8125fb79b480fbaf0af02acb7a0d3": {
      "model_module": "@jupyter-widgets/base",
      "model_module_version": "1.2.0",
      "model_name": "LayoutModel",
      "state": {}
     },
     "dac9d1fb101e47f19d786d3c7197ac6f": {
      "model_module": "@jupyter-widgets/controls",
      "model_module_version": "1.5.0",
      "model_name": "ButtonModel",
      "state": {
       "layout": "IPY_MODEL_ad6c76d8ca464141a506b52c137e2897",
       "style": "IPY_MODEL_d55ded2843104e4798df2f2af490f62a"
      }
     },
     "dacf932fb9694a28a5bb69f61fb46d29": {
      "model_module": "@jupyter-widgets/base",
      "model_module_version": "1.2.0",
      "model_name": "LayoutModel",
      "state": {
       "order": "-1",
       "overflow": "visible",
       "padding": "1px",
       "width": "0px"
      }
     },
     "daf81a8b2da84f1a9783647e90869365": {
      "model_module": "@jupyter-widgets/controls",
      "model_module_version": "1.5.0",
      "model_name": "ProgressStyleModel",
      "state": {
       "description_width": ""
      }
     },
     "db262a14a45d48f0b3268128f59f9454": {
      "model_module": "@jupyter-widgets/base",
      "model_module_version": "1.2.0",
      "model_name": "LayoutModel",
      "state": {
       "order": "-1",
       "overflow": "visible",
       "padding": "1px",
       "width": "0px"
      }
     },
     "db37cf38a7434cbe84a7ddce855571ba": {
      "model_module": "@jupyter-widgets/controls",
      "model_module_version": "1.5.0",
      "model_name": "VBoxModel",
      "state": {
       "children": [
        "IPY_MODEL_c7c02741d8034bd1895778aaa1d625e7",
        "IPY_MODEL_85141dfa2bfe42d2878ee7ef33a59807",
        "IPY_MODEL_44cc97ea82654b22be0a3dc2e688c8b6",
        "IPY_MODEL_260de7bcac5c470bb7895fd780eb630a"
       ],
       "layout": "IPY_MODEL_9496378047b64901af4ad8c33eb8f190"
      }
     },
     "db529bccb6c8464b91b48794c80fbd0d": {
      "model_module": "@jupyter-widgets/controls",
      "model_module_version": "1.5.0",
      "model_name": "ButtonStyleModel",
      "state": {}
     },
     "db76f9da30d5413fa801147bd6bd8fcd": {
      "model_module": "@jupyter-widgets/controls",
      "model_module_version": "1.5.0",
      "model_name": "HTMLModel",
      "state": {
       "layout": "IPY_MODEL_ce346b7b2f1e44259219f45a6ae468b1",
       "style": "IPY_MODEL_3141f7e373fc48b69f38736a3283fb75",
       "value": "<i>test test test test test test test test test test test test test test test test test test test test test test test test </i>"
      }
     },
     "db863a56de3649da9feec035b2f5cfec": {
      "model_module": "@jupyter-widgets/base",
      "model_module_version": "1.2.0",
      "model_name": "LayoutModel",
      "state": {
       "order": "-1",
       "overflow": "visible",
       "padding": "1px",
       "width": "0px"
      }
     },
     "db893e52e16d42d6b5c538dcc6e00e41": {
      "model_module": "@jupyter-widgets/controls",
      "model_module_version": "1.5.0",
      "model_name": "DescriptionStyleModel",
      "state": {
       "description_width": ""
      }
     },
     "dbb33bd587134bd984150a0eef7dc732": {
      "model_module": "@jupyter-widgets/controls",
      "model_module_version": "1.5.0",
      "model_name": "VBoxModel",
      "state": {
       "children": [
        "IPY_MODEL_553b8ae4a0464c0683cfe4bfdf25a703",
        "IPY_MODEL_3dc96a0ec1b949c9bb26f0c4924b4a1b",
        "IPY_MODEL_d3ca0bc3ff1d40f78667ed1784002a8e",
        "IPY_MODEL_1bfafabe8b4548beb58655596656b50c",
        "IPY_MODEL_90cb232a60c6496e90afc7b8ef05fcfb",
        "IPY_MODEL_6d3c73f08b0042738474ca4f5a68ea7d"
       ],
       "layout": "IPY_MODEL_e755df258642491394d45a5bb38d1b94"
      }
     },
     "dbf33a81c25e438c89dab71afc219359": {
      "model_module": "@jupyter-widgets/base",
      "model_module_version": "1.2.0",
      "model_name": "LayoutModel",
      "state": {
       "height": "32px",
       "order": "-2",
       "width": "32px"
      }
     },
     "dc023f12ba1843d39e420a0b4611f17a": {
      "model_module": "@jupyter-widgets/controls",
      "model_module_version": "1.5.0",
      "model_name": "ButtonStyleModel",
      "state": {}
     },
     "dc0287d8dc2943948c750abe110ea87b": {
      "model_module": "@jupyter-widgets/controls",
      "model_module_version": "1.5.0",
      "model_name": "ButtonModel",
      "state": {
       "description": "EDIT",
       "layout": "IPY_MODEL_e079219fdce1478f81a3cca0e211d3d7",
       "style": "IPY_MODEL_209d1c34eb7d4d20ba4d47dd11f19791"
      }
     },
     "dc04c0ebc0564aa684840460c174855c": {
      "model_module": "@jupyter-widgets/controls",
      "model_module_version": "1.5.0",
      "model_name": "ProgressStyleModel",
      "state": {
       "description_width": ""
      }
     },
     "dc1b433c055f40d4bc27befa08c66cb0": {
      "model_module": "@jupyter-widgets/controls",
      "model_module_version": "1.5.0",
      "model_name": "ButtonModel",
      "state": {
       "layout": "IPY_MODEL_f071e3342a92434399a2876565b34f49",
       "style": "IPY_MODEL_50fc950e12434821afa673aeb3290b2e"
      }
     },
     "dc3c288b7f6440b48b30bbb107084036": {
      "model_module": "@jupyter-widgets/controls",
      "model_module_version": "1.5.0",
      "model_name": "ButtonModel",
      "state": {
       "description": "EDIT",
       "layout": "IPY_MODEL_9869cf701a314413a5c082a221a622a8",
       "style": "IPY_MODEL_568379cc725d4e5fa3d4f3360e268ad7"
      }
     },
     "dc4c393a1a2f4a35a7aad96280534dfd": {
      "model_module": "@jupyter-widgets/base",
      "model_module_version": "1.2.0",
      "model_name": "LayoutModel",
      "state": {
       "height": "32px",
       "order": "-2",
       "width": "32px"
      }
     },
     "dc51dd30bd304804a9e02e8af4f83e1f": {
      "model_module": "@jupyter-widgets/controls",
      "model_module_version": "1.5.0",
      "model_name": "ButtonStyleModel",
      "state": {}
     },
     "dc5b898b96c743519a77bfa57c4ae2df": {
      "model_module": "@jupyter-widgets/controls",
      "model_module_version": "1.5.0",
      "model_name": "IntProgressModel",
      "state": {
       "layout": "IPY_MODEL_026de7fdbd744b1cbf7635d3939274d0",
       "style": "IPY_MODEL_8757c90c9e6c4ca3a74a9d1d57f49437",
       "value": 30
      }
     },
     "dc7ecd96b03c4c23ae83352d1b87df77": {
      "model_module": "@jupyter-widgets/controls",
      "model_module_version": "1.5.0",
      "model_name": "ButtonStyleModel",
      "state": {}
     },
     "dc9e145b3b384ae3be912f32ffa39138": {
      "model_module": "@jupyter-widgets/controls",
      "model_module_version": "1.5.0",
      "model_name": "DropdownModel",
      "state": {
       "_options_labels": [
        "Any",
        "Patrol",
        "Gambit",
        "Reckoning",
        "Menagerie",
        "Vex Offensive",
        "Raid",
        "Strike",
        "Nightfall",
        "Crucible",
        "Forge"
       ],
       "index": 0,
       "layout": "IPY_MODEL_56b87d7d00c54e96938caab1e6aa41f1",
       "style": "IPY_MODEL_bbbc3203147c4ea693b3a834fe48d862"
      }
     },
     "dcd9fdbb2d56477bbc7f05e579c44ab7": {
      "model_module": "@jupyter-widgets/base",
      "model_module_version": "1.2.0",
      "model_name": "LayoutModel",
      "state": {}
     },
     "dcedade1f31b4f9fb8554a211d6ed9ca": {
      "model_module": "@jupyter-widgets/controls",
      "model_module_version": "1.5.0",
      "model_name": "ButtonStyleModel",
      "state": {}
     },
     "dcf4168945974d71a4d9f288038d82d8": {
      "model_module": "@jupyter-widgets/base",
      "model_module_version": "1.2.0",
      "model_name": "LayoutModel",
      "state": {
       "width": "60px"
      }
     },
     "dd0e47bdf0e24b008ed9cff55b57e97f": {
      "model_module": "@jupyter-widgets/base",
      "model_module_version": "1.2.0",
      "model_name": "LayoutModel",
      "state": {
       "height": "32px",
       "overflow": "visible",
       "width": "100%"
      }
     },
     "dd1e41beff314765a143d55e813c0e82": {
      "model_module": "@jupyter-widgets/controls",
      "model_module_version": "1.5.0",
      "model_name": "DescriptionStyleModel",
      "state": {
       "description_width": ""
      }
     },
     "dd2ab84ed4dc4414b6def0aaeef23bce": {
      "model_module": "@jupyter-widgets/base",
      "model_module_version": "1.2.0",
      "model_name": "LayoutModel",
      "state": {
       "width": "60px"
      }
     },
     "dd324b3cb22f4dfca455ef83faf3046f": {
      "model_module": "@jupyter-widgets/controls",
      "model_module_version": "1.5.0",
      "model_name": "ProgressStyleModel",
      "state": {
       "description_width": ""
      }
     },
     "dd363207f342492daf7a66fe2f82831b": {
      "model_module": "@jupyter-widgets/controls",
      "model_module_version": "1.5.0",
      "model_name": "LabelModel",
      "state": {
       "layout": "IPY_MODEL_7b553238c4164e36b62a1dc359056098",
       "style": "IPY_MODEL_3a4681de3ffd4ccc9eae1cfe08c938a3",
       "value": "   objective"
      }
     },
     "dd62c40d5c7d4e958fa79c6e81be0745": {
      "model_module": "@jupyter-widgets/controls",
      "model_module_version": "1.5.0",
      "model_name": "LabelModel",
      "state": {
       "layout": "IPY_MODEL_17655facfb80471eabdb52a641d70dd2",
       "style": "IPY_MODEL_94d8a42e659b473eab8512eacf0ce464",
       "value": "   objective"
      }
     },
     "dd63f52663b140aa8fc70f4d506e1be8": {
      "model_module": "@jupyter-widgets/base",
      "model_module_version": "1.2.0",
      "model_name": "LayoutModel",
      "state": {
       "order": "-1",
       "overflow": "visible",
       "padding": "1px",
       "width": "0px"
      }
     },
     "dd7733c44d8e4867883aa72985efa40d": {
      "model_module": "@jupyter-widgets/controls",
      "model_module_version": "1.5.0",
      "model_name": "DescriptionStyleModel",
      "state": {
       "description_width": ""
      }
     },
     "dd780563fc75499ba2af5e5c5fd7fbc4": {
      "model_module": "@jupyter-widgets/base",
      "model_module_version": "1.2.0",
      "model_name": "LayoutModel",
      "state": {
       "border": "3px solid white",
       "flex": "1 1 0%",
       "margin": "10px",
       "min_width": "400px",
       "overflow": "visible",
       "padding": "10px",
       "width": "auto"
      }
     },
     "dd78092dbb1b40a39eeddc56e0cf7b2f": {
      "model_module": "@jupyter-widgets/controls",
      "model_module_version": "1.5.0",
      "model_name": "IntProgressModel",
      "state": {
       "layout": "IPY_MODEL_965faa38e7944af981b4f49d4d322519",
       "style": "IPY_MODEL_827a51de997143329c4408d069620a4c",
       "value": 30
      }
     },
     "dd8e9113c93e48efba5ffeac556788ec": {
      "model_module": "@jupyter-widgets/controls",
      "model_module_version": "1.5.0",
      "model_name": "ButtonStyleModel",
      "state": {}
     },
     "ddb7dcb3b6bf40d4a5c19f68680b57b7": {
      "model_module": "@jupyter-widgets/controls",
      "model_module_version": "1.5.0",
      "model_name": "LabelModel",
      "state": {
       "layout": "IPY_MODEL_1bbff37445914999866651a4ff3738bd",
       "style": "IPY_MODEL_16b8341e2a5e405c92707ce72af5db49",
       "value": "   objective"
      }
     },
     "dde76fd442f640c685907d27809d3efa": {
      "model_module": "@jupyter-widgets/base",
      "model_module_version": "1.2.0",
      "model_name": "LayoutModel",
      "state": {
       "order": "-1",
       "overflow": "visible",
       "padding": "1px",
       "width": "0px"
      }
     },
     "de18a4877d774efab518e487f5797671": {
      "model_module": "@jupyter-widgets/controls",
      "model_module_version": "1.5.0",
      "model_name": "VBoxModel",
      "state": {
       "children": [
        "IPY_MODEL_3bbc51d087d54e78a1703f086d3381af",
        "IPY_MODEL_024dae5ec9a047ed98b3a6bebff11813",
        "IPY_MODEL_f0621a58164848a1992039183e2e420b",
        "IPY_MODEL_9fb3439214ae43c2910d510dfacdbde7"
       ],
       "layout": "IPY_MODEL_06c837aa593449c299b57e837a7eae5f"
      }
     },
     "de511121cb164c878c09e01732bad4e6": {
      "model_module": "@jupyter-widgets/controls",
      "model_module_version": "1.5.0",
      "model_name": "CheckboxModel",
      "state": {
       "description": "Hide Conflicting Objectives",
       "disabled": false,
       "layout": "IPY_MODEL_59523bd584314afeb3f7ff955aa42d72",
       "style": "IPY_MODEL_5b8264d3d7d3462d9c32905a72ee5253",
       "value": false
      }
     },
     "de61d29ab76445b1aeca0e44e89c732d": {
      "model_module": "@jupyter-widgets/controls",
      "model_module_version": "1.5.0",
      "model_name": "IntProgressModel",
      "state": {
       "layout": "IPY_MODEL_86ac93667f80488cb60183a94d628ab4",
       "style": "IPY_MODEL_dd324b3cb22f4dfca455ef83faf3046f",
       "value": 30
      }
     },
     "de64dc5c5ade4bfbbf73df24b192b88a": {
      "model_module": "@jupyter-widgets/controls",
      "model_module_version": "1.5.0",
      "model_name": "ButtonModel",
      "state": {
       "description": "EDIT",
       "layout": "IPY_MODEL_ce0def2a09c141cf80233460f7df1644",
       "style": "IPY_MODEL_2c1a1e7786dc4dffbfaca231b70d100c"
      }
     },
     "de88258bfb944b53a4c8673dbff9754f": {
      "model_module": "@jupyter-widgets/controls",
      "model_module_version": "1.5.0",
      "model_name": "ProgressStyleModel",
      "state": {
       "description_width": ""
      }
     },
     "de90be00d8184913b4e070cf1a1f63d3": {
      "model_module": "@jupyter-widgets/controls",
      "model_module_version": "1.5.0",
      "model_name": "DescriptionStyleModel",
      "state": {
       "description_width": ""
      }
     },
     "dea55114031b4807a61b2e69b8b1ea80": {
      "model_module": "@jupyter-widgets/base",
      "model_module_version": "1.2.0",
      "model_name": "LayoutModel",
      "state": {
       "display": "flex",
       "flex_flow": "row wrap"
      }
     },
     "deaa84d4b5a84e8f8a5e87386cb61ae9": {
      "model_module": "@jupyter-widgets/controls",
      "model_module_version": "1.5.0",
      "model_name": "ButtonModel",
      "state": {
       "description": "EDIT",
       "layout": "IPY_MODEL_53dc8b3cd3964a278e5bcbc73377c3c9",
       "style": "IPY_MODEL_1c0417ea67714564b5b9bd48a78aa4f8"
      }
     },
     "dec6482ec8dc4079a71b244b75c0d881": {
      "model_module": "@jupyter-widgets/controls",
      "model_module_version": "1.5.0",
      "model_name": "VBoxModel",
      "state": {
       "children": [
        "IPY_MODEL_76d967721fd74167800149f22e7cbb23",
        "IPY_MODEL_444673db9f024b009fae42629203ca6b",
        "IPY_MODEL_9cfbbfd3f08c4f40ad3f465aed23d151",
        "IPY_MODEL_336095cd07f04e02a1191e4eeaec156d",
        "IPY_MODEL_2bfaf447907a49bdafc17e9e949b2d98",
        "IPY_MODEL_0e90b0c1855a46a380f3ec74722707b7"
       ],
       "layout": "IPY_MODEL_3774d2f333e147fe81f8e3b5a50f0404"
      }
     },
     "def9911b30be4323ba96fe30db996695": {
      "model_module": "@jupyter-widgets/base",
      "model_module_version": "1.2.0",
      "model_name": "LayoutModel",
      "state": {
       "height": "32px",
       "overflow": "visible",
       "width": "100%"
      }
     },
     "df0a01f5ce7240d79bd8a53b599f549f": {
      "model_module": "@jupyter-widgets/controls",
      "model_module_version": "1.5.0",
      "model_name": "ButtonStyleModel",
      "state": {}
     },
     "df1a16e8359641c786e23537778b0420": {
      "model_module": "@jupyter-widgets/controls",
      "model_module_version": "1.5.0",
      "model_name": "DescriptionStyleModel",
      "state": {
       "description_width": ""
      }
     },
     "df1d568106754c4b8908f9cfb284bed0": {
      "model_module": "@jupyter-widgets/controls",
      "model_module_version": "1.5.0",
      "model_name": "ProgressStyleModel",
      "state": {
       "description_width": ""
      }
     },
     "df220935cb554b8c990455e586fd2b90": {
      "model_module": "@jupyter-widgets/controls",
      "model_module_version": "1.5.0",
      "model_name": "LabelModel",
      "state": {
       "layout": "IPY_MODEL_177106e57e204ec4900c60a35057d048",
       "style": "IPY_MODEL_068e5a4b81ec4290b61eae0fe530da99",
       "value": "   objective"
      }
     },
     "df31eef498684151b164b0595f70df01": {
      "model_module": "@jupyter-widgets/base",
      "model_module_version": "1.2.0",
      "model_name": "LayoutModel",
      "state": {
       "width": "60px"
      }
     },
     "df378e115aef49e08c7f159a4c229142": {
      "model_module": "@jupyter-widgets/base",
      "model_module_version": "1.2.0",
      "model_name": "LayoutModel",
      "state": {
       "order": "-1",
       "overflow": "visible",
       "padding": "1px",
       "width": "0px"
      }
     },
     "df3cbf69b3d245e7ad3842768a3d769b": {
      "model_module": "@jupyter-widgets/base",
      "model_module_version": "1.2.0",
      "model_name": "LayoutModel",
      "state": {
       "order": "-1",
       "overflow": "visible",
       "padding": "1px",
       "width": "0px"
      }
     },
     "df5c801b034a4bcc92cbceddda32001f": {
      "model_module": "@jupyter-widgets/controls",
      "model_module_version": "1.5.0",
      "model_name": "ButtonModel",
      "state": {
       "layout": "IPY_MODEL_78b770f805cc4d4aac6ccad439e6ddcd",
       "style": "IPY_MODEL_714838b6dbb6478ea66608c907d92f6b"
      }
     },
     "df86b8f74ff048d48429ffb322e287f9": {
      "model_module": "@jupyter-widgets/base",
      "model_module_version": "1.2.0",
      "model_name": "LayoutModel",
      "state": {}
     },
     "df874124d46a4d618ddeb27913471159": {
      "model_module": "@jupyter-widgets/base",
      "model_module_version": "1.2.0",
      "model_name": "LayoutModel",
      "state": {
       "order": "-1",
       "overflow": "visible",
       "padding": "1px",
       "width": "0px"
      }
     },
     "df9970bb7a094806af962e14d8c7eb86": {
      "model_module": "@jupyter-widgets/base",
      "model_module_version": "1.2.0",
      "model_name": "LayoutModel",
      "state": {
       "height": "32px",
       "order": "-2",
       "width": "32px"
      }
     },
     "dfb777f7b17e481f9862a66db7da8a6d": {
      "model_module": "@jupyter-widgets/controls",
      "model_module_version": "1.5.0",
      "model_name": "ProgressStyleModel",
      "state": {
       "description_width": ""
      }
     },
     "dfc91f1ae70647a597375f061986cf33": {
      "model_module": "@jupyter-widgets/base",
      "model_module_version": "1.2.0",
      "model_name": "LayoutModel",
      "state": {
       "height": "32px",
       "order": "-2",
       "width": "32px"
      }
     },
     "dfd7c251e8a6480a99908d165a4a0b06": {
      "model_module": "@jupyter-widgets/controls",
      "model_module_version": "1.5.0",
      "model_name": "DescriptionStyleModel",
      "state": {
       "description_width": ""
      }
     },
     "dff5860c6c6148cc8e9aa714a6b97715": {
      "model_module": "@jupyter-widgets/controls",
      "model_module_version": "1.5.0",
      "model_name": "ButtonModel",
      "state": {
       "description": "EDIT",
       "layout": "IPY_MODEL_c95a57a2e87042e7b0c6901c4b773c1c",
       "style": "IPY_MODEL_a4291cd877aa437a9cdf6e87780f5d1e"
      }
     },
     "dffdd8c40ded43ff9e07d06a551578fb": {
      "model_module": "@jupyter-widgets/controls",
      "model_module_version": "1.5.0",
      "model_name": "IntProgressModel",
      "state": {
       "layout": "IPY_MODEL_f64d540608f54b668b13a20c84bc81ac",
       "style": "IPY_MODEL_ecff54274d9541b4b30c1825554bee98",
       "value": 30
      }
     },
     "e0169d36bd61497f9fbe6364c4432225": {
      "model_module": "@jupyter-widgets/controls",
      "model_module_version": "1.5.0",
      "model_name": "DropdownModel",
      "state": {
       "_options_labels": [
        "Any"
       ],
       "disabled": true,
       "index": 0,
       "layout": "IPY_MODEL_56b87d7d00c54e96938caab1e6aa41f1",
       "style": "IPY_MODEL_942108f6f1694d20a963b410fc9ca8a7"
      }
     },
     "e0205ff3e074401dbf4c5994b04c5bc8": {
      "model_module": "@jupyter-widgets/base",
      "model_module_version": "1.2.0",
      "model_name": "LayoutModel",
      "state": {}
     },
     "e03c69a7420c496a9429f7597f5f24c3": {
      "model_module": "@jupyter-widgets/controls",
      "model_module_version": "1.5.0",
      "model_name": "LabelModel",
      "state": {
       "layout": "IPY_MODEL_0b2038a66d3441f5b90b199cc413b0e2",
       "style": "IPY_MODEL_a6ae8907b96748a3912cf176af7cf47f",
       "value": "   objective"
      }
     },
     "e052f44991864497abeffd70003537c8": {
      "model_module": "@jupyter-widgets/base",
      "model_module_version": "1.2.0",
      "model_name": "LayoutModel",
      "state": {}
     },
     "e05644a996594ff9ad77f22f3f035a17": {
      "model_module": "@jupyter-widgets/base",
      "model_module_version": "1.2.0",
      "model_name": "LayoutModel",
      "state": {
       "height": "32px",
       "overflow": "visible",
       "width": "100%"
      }
     },
     "e079219fdce1478f81a3cca0e211d3d7": {
      "model_module": "@jupyter-widgets/base",
      "model_module_version": "1.2.0",
      "model_name": "LayoutModel",
      "state": {
       "width": "60px"
      }
     },
     "e083998980b84a4b8f0708db8ce3d845": {
      "model_module": "@jupyter-widgets/controls",
      "model_module_version": "1.5.0",
      "model_name": "DescriptionStyleModel",
      "state": {
       "description_width": ""
      }
     },
     "e08ccfc7b34d4066aaa68757a0a4ebfb": {
      "model_module": "@jupyter-widgets/base",
      "model_module_version": "1.2.0",
      "model_name": "LayoutModel",
      "state": {
       "height": "32px",
       "order": "-2",
       "width": "32px"
      }
     },
     "e08d83e2b45f4e78abe108b905aa3103": {
      "model_module": "@jupyter-widgets/controls",
      "model_module_version": "1.5.0",
      "model_name": "ButtonStyleModel",
      "state": {}
     },
     "e09cdc916b214d15a5804e6270f566ee": {
      "model_module": "@jupyter-widgets/controls",
      "model_module_version": "1.5.0",
      "model_name": "HBoxModel",
      "state": {
       "children": [
        "IPY_MODEL_a81ca3a11f4b4f95975e3fe979b7004a",
        "IPY_MODEL_50fe7f449ea3443d9c9ccaa00968c0b4",
        "IPY_MODEL_5117407a072b4ca4b95962535d1352d2",
        "IPY_MODEL_9b4b0542927f4d31ab48b15702d872ab"
       ],
       "layout": "IPY_MODEL_2b9768e17f8b413987cef897baa93750"
      }
     },
     "e0b89103fca2494c822803f449166fb1": {
      "model_module": "@jupyter-widgets/controls",
      "model_module_version": "1.5.0",
      "model_name": "IntProgressModel",
      "state": {
       "layout": "IPY_MODEL_3a660de6fed5490cad0bc2387e40b659",
       "style": "IPY_MODEL_f73098ff74574cd29f375f9059c632ea",
       "value": 30
      }
     },
     "e0bcdbf81e7247208ddcd01cdcabf497": {
      "model_module": "@jupyter-widgets/controls",
      "model_module_version": "1.5.0",
      "model_name": "DescriptionStyleModel",
      "state": {
       "description_width": ""
      }
     },
     "e0cc9a5d5ab348e4986e8649e1ed42fc": {
      "model_module": "@jupyter-widgets/base",
      "model_module_version": "1.2.0",
      "model_name": "LayoutModel",
      "state": {
       "order": "-1",
       "overflow": "visible",
       "padding": "1px",
       "width": "0px"
      }
     },
     "e0d3d0ab3de748a98cd88e5114182e9f": {
      "model_module": "@jupyter-widgets/controls",
      "model_module_version": "1.5.0",
      "model_name": "DescriptionStyleModel",
      "state": {
       "description_width": ""
      }
     },
     "e0d54f3f0b184ac4bed5f4899528f8bc": {
      "model_module": "@jupyter-widgets/controls",
      "model_module_version": "1.5.0",
      "model_name": "IntProgressModel",
      "state": {
       "layout": "IPY_MODEL_7b8efd41ffaa42ff88a21fc4632d7873",
       "style": "IPY_MODEL_9e15d29f9eed4ac2a0157343ceaa1f73",
       "value": 30
      }
     },
     "e0d8a92be93a44beb37d58599d9eaac7": {
      "model_module": "@jupyter-widgets/base",
      "model_module_version": "1.2.0",
      "model_name": "LayoutModel",
      "state": {
       "height": "32px",
       "overflow": "visible",
       "width": "100%"
      }
     },
     "e0ff0b5b48ab4fa084a8b8d653c232ad": {
      "model_module": "@jupyter-widgets/controls",
      "model_module_version": "1.5.0",
      "model_name": "LabelModel",
      "state": {
       "layout": "IPY_MODEL_60a063179e81487ea720ffc5b039a72d",
       "style": "IPY_MODEL_e27a1c2a24c54bc9ade45556ea144153",
       "value": "   objective"
      }
     },
     "e10307d79d2748da99006dee9ceae1dc": {
      "model_module": "@jupyter-widgets/controls",
      "model_module_version": "1.5.0",
      "model_name": "ButtonStyleModel",
      "state": {}
     },
     "e10c585cfa954cf9bf5f747fa3285550": {
      "model_module": "@jupyter-widgets/controls",
      "model_module_version": "1.5.0",
      "model_name": "ButtonStyleModel",
      "state": {}
     },
     "e10fad0ed6a34e13995de411f8316ee8": {
      "model_module": "@jupyter-widgets/controls",
      "model_module_version": "1.5.0",
      "model_name": "LabelModel",
      "state": {
       "layout": "IPY_MODEL_caa56e961f3142abb6adf8d51bbe1a13",
       "style": "IPY_MODEL_9a6c0fe231254dbb98a66147d74e7e27",
       "value": "Kinetic Weapon:"
      }
     },
     "e11202f74877458fa8adff63b6349aaa": {
      "model_module": "@jupyter-widgets/base",
      "model_module_version": "1.2.0",
      "model_name": "LayoutModel",
      "state": {
       "height": "32px",
       "order": "-2",
       "width": "32px"
      }
     },
     "e14b44958454441f8fc804957d5418d9": {
      "model_module": "@jupyter-widgets/controls",
      "model_module_version": "1.5.0",
      "model_name": "HBoxModel",
      "state": {
       "children": [
        "IPY_MODEL_278179071e5440b0bed5f87da98d9940",
        "IPY_MODEL_b603381ab74d4b5eb60727280fae6e14",
        "IPY_MODEL_e9cfc0e33d84454e971f265b4831d54a",
        "IPY_MODEL_ad0e6f84482d4b2184d0447c63671242"
       ],
       "layout": "IPY_MODEL_e96030d4c22a4d02a79d2787ce419e7c"
      }
     },
     "e1537bacc3c44577a95196a19ca65a11": {
      "model_module": "@jupyter-widgets/base",
      "model_module_version": "1.2.0",
      "model_name": "LayoutModel",
      "state": {}
     },
     "e1679d61e14147c8b3e9328dd1ef439f": {
      "model_module": "@jupyter-widgets/controls",
      "model_module_version": "1.5.0",
      "model_name": "IntProgressModel",
      "state": {
       "layout": "IPY_MODEL_7d24c0b1df014f9080654f709ce6edb4",
       "style": "IPY_MODEL_5e829042fc6643a98f6a0fea923c6c9d",
       "value": 30
      }
     },
     "e1814c2d2f4245589b2a53b5cae8b953": {
      "model_module": "@jupyter-widgets/controls",
      "model_module_version": "1.5.0",
      "model_name": "ProgressStyleModel",
      "state": {
       "description_width": ""
      }
     },
     "e1a9b97a743b4f96ba360e250e2c2724": {
      "model_module": "@jupyter-widgets/controls",
      "model_module_version": "1.5.0",
      "model_name": "ButtonModel",
      "state": {
       "description": "EDIT",
       "layout": "IPY_MODEL_26a5c5a33ef24d2f9e3619c004af79bd",
       "style": "IPY_MODEL_6098559af9cf4a0ea9ddcce720617670"
      }
     },
     "e1aebefd2bd84a65b473722dee6a3703": {
      "model_module": "@jupyter-widgets/base",
      "model_module_version": "1.2.0",
      "model_name": "LayoutModel",
      "state": {
       "width": "60px"
      }
     },
     "e1bd91aa053a42fa9d01dc344b8f5694": {
      "model_module": "@jupyter-widgets/controls",
      "model_module_version": "1.5.0",
      "model_name": "HTMLModel",
      "state": {
       "layout": "IPY_MODEL_d3c874aec38c423ebd311deef261cb76",
       "style": "IPY_MODEL_a989e41a5e044201a3bb74abc9a89838",
       "value": "<b>Task Name</b>"
      }
     },
     "e1dd43b3fd454b718584b036896dcafd": {
      "model_module": "@jupyter-widgets/controls",
      "model_module_version": "1.5.0",
      "model_name": "HBoxModel",
      "state": {
       "children": [
        "IPY_MODEL_dac9d1fb101e47f19d786d3c7197ac6f",
        "IPY_MODEL_2b00e8d367bb4f92b7181e3f2dd96d14",
        "IPY_MODEL_bfd38befdc0841a887152aa81718e88c",
        "IPY_MODEL_200dc1b2c4f24d408cc1e831b423fb77"
       ],
       "layout": "IPY_MODEL_0e7738a92a734e7b876ead803e39a35d"
      }
     },
     "e1e3b2dd0e8946b28e3d39238b04aa6b": {
      "model_module": "@jupyter-widgets/controls",
      "model_module_version": "1.5.0",
      "model_name": "ButtonModel",
      "state": {
       "description": "EDIT",
       "layout": "IPY_MODEL_26c2adcb650f4ca684416ee92068fe6b",
       "style": "IPY_MODEL_3c9c61f8f2a348e0bcabe64aa007b3da"
      }
     },
     "e2023d66fa0845b7886f271fd31e421b": {
      "model_module": "@jupyter-widgets/base",
      "model_module_version": "1.2.0",
      "model_name": "LayoutModel",
      "state": {
       "width": "60px"
      }
     },
     "e2132dcfeff74b8a84bb10b5a167a96d": {
      "model_module": "@jupyter-widgets/base",
      "model_module_version": "1.2.0",
      "model_name": "LayoutModel",
      "state": {
       "height": "32px",
       "overflow": "visible",
       "width": "100%"
      }
     },
     "e21e65a9b0c44a829bd4f4cad70ea5f8": {
      "model_module": "@jupyter-widgets/controls",
      "model_module_version": "1.5.0",
      "model_name": "LabelModel",
      "state": {
       "layout": "IPY_MODEL_28796aa6ba3f4da184c27ed24b20d59d",
       "style": "IPY_MODEL_7bf3ad846b8a4bcc9102c451490174df",
       "value": "   objective"
      }
     },
     "e22882b9e08a448596554f7206c7573f": {
      "model_module": "@jupyter-widgets/controls",
      "model_module_version": "1.5.0",
      "model_name": "DescriptionStyleModel",
      "state": {
       "description_width": ""
      }
     },
     "e236305b8ad147c39287da3f19cb6554": {
      "model_module": "@jupyter-widgets/controls",
      "model_module_version": "1.5.0",
      "model_name": "HBoxModel",
      "state": {
       "children": [
        "IPY_MODEL_c8b39d4fedaf4f678fabf0bd0f0d105a",
        "IPY_MODEL_640661aa95354259af16c72752977f27",
        "IPY_MODEL_19305bc970c04305a927ee0a7eafcdc7",
        "IPY_MODEL_42ac34c7a00e41b8a64f9f9e600044c8"
       ],
       "layout": "IPY_MODEL_c6e18cc68fc24fe5be57cc8803fbbb7a"
      }
     },
     "e26978331ea94d4082e50b7112bc9f44": {
      "model_module": "@jupyter-widgets/controls",
      "model_module_version": "1.5.0",
      "model_name": "DescriptionStyleModel",
      "state": {
       "description_width": ""
      }
     },
     "e27a1c2a24c54bc9ade45556ea144153": {
      "model_module": "@jupyter-widgets/controls",
      "model_module_version": "1.5.0",
      "model_name": "DescriptionStyleModel",
      "state": {
       "description_width": ""
      }
     },
     "e28122b53bf44adcab6ed4ea5c2a8ebe": {
      "model_module": "@jupyter-widgets/controls",
      "model_module_version": "1.5.0",
      "model_name": "DescriptionStyleModel",
      "state": {
       "description_width": ""
      }
     },
     "e2898680c28a43e4ae00353f2e4159d7": {
      "model_module": "@jupyter-widgets/controls",
      "model_module_version": "1.5.0",
      "model_name": "ButtonStyleModel",
      "state": {}
     },
     "e2899a15ac534140b8edd4b0fbf8d870": {
      "model_module": "@jupyter-widgets/controls",
      "model_module_version": "1.5.0",
      "model_name": "ProgressStyleModel",
      "state": {
       "description_width": ""
      }
     },
     "e28c918dd8df4f53a015efa1d3bb13da": {
      "model_module": "@jupyter-widgets/base",
      "model_module_version": "1.2.0",
      "model_name": "LayoutModel",
      "state": {
       "overflow": "visible",
       "width": "100%"
      }
     },
     "e2b43cc608b84d80aed2f3ff317235fa": {
      "model_module": "@jupyter-widgets/controls",
      "model_module_version": "1.5.0",
      "model_name": "ProgressStyleModel",
      "state": {
       "description_width": ""
      }
     },
     "e2c3478db5cc4ac9aa3eaf1bb425a391": {
      "model_module": "@jupyter-widgets/base",
      "model_module_version": "1.2.0",
      "model_name": "LayoutModel",
      "state": {
       "height": "32px",
       "overflow": "visible",
       "width": "100%"
      }
     },
     "e2c94c6aaf424c2390f5197276cc01f5": {
      "model_module": "@jupyter-widgets/base",
      "model_module_version": "1.2.0",
      "model_name": "LayoutModel",
      "state": {}
     },
     "e2cff70fab1a4339a0a1e67ca0cc5491": {
      "model_module": "@jupyter-widgets/controls",
      "model_module_version": "1.5.0",
      "model_name": "ButtonModel",
      "state": {
       "layout": "IPY_MODEL_72f033d7bfb74755b0ba778328655d87",
       "style": "IPY_MODEL_e2f34d3f9ea4495390c1b3330b1d8410"
      }
     },
     "e2e843f2f6c54d25ab9f0eb7069dad48": {
      "model_module": "@jupyter-widgets/base",
      "model_module_version": "1.2.0",
      "model_name": "LayoutModel",
      "state": {
       "display": "flex",
       "flex_flow": "row wrap"
      }
     },
     "e2f34d3f9ea4495390c1b3330b1d8410": {
      "model_module": "@jupyter-widgets/controls",
      "model_module_version": "1.5.0",
      "model_name": "ButtonStyleModel",
      "state": {}
     },
     "e3076515c5414fb7bd79e92263a27aed": {
      "model_module": "@jupyter-widgets/controls",
      "model_module_version": "1.5.0",
      "model_name": "DescriptionStyleModel",
      "state": {
       "description_width": ""
      }
     },
     "e317008b8a514368a3b5b997a99a83c4": {
      "model_module": "@jupyter-widgets/controls",
      "model_module_version": "1.5.0",
      "model_name": "ButtonStyleModel",
      "state": {}
     },
     "e322473c205347fd8fe6b71b9f8b8ba6": {
      "model_module": "@jupyter-widgets/controls",
      "model_module_version": "1.5.0",
      "model_name": "LabelModel",
      "state": {
       "layout": "IPY_MODEL_ce0c9f15d742440884a37c3f1ce2554e",
       "style": "IPY_MODEL_50171820f015420f93609dc3a26ae378",
       "value": "   objective"
      }
     },
     "e38ba168224f4b80a835b9b533fb2453": {
      "model_module": "@jupyter-widgets/controls",
      "model_module_version": "1.5.0",
      "model_name": "ButtonStyleModel",
      "state": {}
     },
     "e39deb9745b649588b2e8189da49cae0": {
      "model_module": "@jupyter-widgets/base",
      "model_module_version": "1.2.0",
      "model_name": "LayoutModel",
      "state": {
       "height": "32px",
       "overflow": "visible",
       "width": "100%"
      }
     },
     "e3a6178838b949d4aecd72b2a58c0d63": {
      "model_module": "@jupyter-widgets/controls",
      "model_module_version": "1.5.0",
      "model_name": "LabelModel",
      "state": {
       "layout": "IPY_MODEL_0c16f0c04e8248ddb53af7a0be898ebb",
       "style": "IPY_MODEL_e0bcdbf81e7247208ddcd01cdcabf497",
       "value": "   objective"
      }
     },
     "e3c2a54110a94f3cb25b4b3c0a9403b7": {
      "model_module": "@jupyter-widgets/controls",
      "model_module_version": "1.5.0",
      "model_name": "ProgressStyleModel",
      "state": {
       "description_width": ""
      }
     },
     "e3d482b62e2e4b9d918e2c9d9dc94552": {
      "model_module": "@jupyter-widgets/controls",
      "model_module_version": "1.5.0",
      "model_name": "ProgressStyleModel",
      "state": {
       "description_width": ""
      }
     },
     "e3ef388da50e44b2b0a3698d7b6eec90": {
      "model_module": "@jupyter-widgets/controls",
      "model_module_version": "1.5.0",
      "model_name": "IntProgressModel",
      "state": {
       "layout": "IPY_MODEL_afae96423372404084cfc140c8ac30b1",
       "style": "IPY_MODEL_36f19ef96fb4447fa0a824e9c7bbed94",
       "value": 30
      }
     },
     "e3f0d78f6254439ab1eaa9924c2a51cd": {
      "model_module": "@jupyter-widgets/controls",
      "model_module_version": "1.5.0",
      "model_name": "DescriptionStyleModel",
      "state": {
       "description_width": ""
      }
     },
     "e3f57176678a4ac69c85ec836874cd36": {
      "model_module": "@jupyter-widgets/controls",
      "model_module_version": "1.5.0",
      "model_name": "ButtonStyleModel",
      "state": {}
     },
     "e40dbb61a89b44989d90b312b327f1b4": {
      "model_module": "@jupyter-widgets/base",
      "model_module_version": "1.2.0",
      "model_name": "LayoutModel",
      "state": {
       "height": "32px",
       "overflow": "visible",
       "width": "100%"
      }
     },
     "e4298f38d77b4cda948c08d7c771d873": {
      "model_module": "@jupyter-widgets/base",
      "model_module_version": "1.2.0",
      "model_name": "LayoutModel",
      "state": {
       "order": "-1",
       "overflow": "visible",
       "padding": "1px",
       "width": "0px"
      }
     },
     "e44a891713794890b516b0dc21bae3a2": {
      "model_module": "@jupyter-widgets/controls",
      "model_module_version": "1.5.0",
      "model_name": "ProgressStyleModel",
      "state": {
       "description_width": ""
      }
     },
     "e483a226c56e4195a33a1deda32a8e4d": {
      "model_module": "@jupyter-widgets/base",
      "model_module_version": "1.2.0",
      "model_name": "LayoutModel",
      "state": {}
     },
     "e50cc46c8588497692c361ba6d8e1a2e": {
      "model_module": "@jupyter-widgets/base",
      "model_module_version": "1.2.0",
      "model_name": "LayoutModel",
      "state": {
       "order": "-1",
       "overflow": "visible",
       "padding": "1px",
       "width": "0px"
      }
     },
     "e50fda5219764ce38964301ccfc87726": {
      "model_module": "@jupyter-widgets/controls",
      "model_module_version": "1.5.0",
      "model_name": "ButtonModel",
      "state": {
       "layout": "IPY_MODEL_896a85d7442447a895c944e21e772bd9",
       "style": "IPY_MODEL_e10307d79d2748da99006dee9ceae1dc"
      }
     },
     "e513869a2c8f42099c0db5af93fc4837": {
      "model_module": "@jupyter-widgets/controls",
      "model_module_version": "1.5.0",
      "model_name": "ProgressStyleModel",
      "state": {
       "description_width": ""
      }
     },
     "e518d08d567c4b2293e4b844ba89028b": {
      "model_module": "@jupyter-widgets/controls",
      "model_module_version": "1.5.0",
      "model_name": "ButtonStyleModel",
      "state": {}
     },
     "e51afefdd6024e00a394ab0eb47730b3": {
      "model_module": "@jupyter-widgets/base",
      "model_module_version": "1.2.0",
      "model_name": "LayoutModel",
      "state": {
       "height": "32px",
       "order": "-2",
       "width": "32px"
      }
     },
     "e51b9f59c8c44b82886507b77b7419eb": {
      "model_module": "@jupyter-widgets/controls",
      "model_module_version": "1.5.0",
      "model_name": "ButtonModel",
      "state": {
       "description": "EDIT",
       "layout": "IPY_MODEL_6c20be5663a84d4280fcc1951a6ae713",
       "style": "IPY_MODEL_5ba16f1d9a4f40e48773811b0f07b3e5"
      }
     },
     "e531fb5f67d243b4ad8255f7216ce4aa": {
      "model_module": "@jupyter-widgets/controls",
      "model_module_version": "1.5.0",
      "model_name": "VBoxModel",
      "state": {
       "children": [
        "IPY_MODEL_23939c2bfab84b9ea9fc46a62a6d73dc",
        "IPY_MODEL_0bc5b71edfe8421c994f0fcac1970767",
        "IPY_MODEL_ab2f85596e7242fdbf9498131ce9c03b"
       ],
       "layout": "IPY_MODEL_11346b6e7fb84d59a093802e35eaf049"
      }
     },
     "e5382cf2e7864e8caf52d2e42d1e8eeb": {
      "model_module": "@jupyter-widgets/controls",
      "model_module_version": "1.5.0",
      "model_name": "ButtonStyleModel",
      "state": {}
     },
     "e53b711713d94a2887126d4552a92631": {
      "model_module": "@jupyter-widgets/controls",
      "model_module_version": "1.5.0",
      "model_name": "LabelModel",
      "state": {
       "layout": "IPY_MODEL_eba62b521b0248e5b4b6f44edfe9cb83",
       "style": "IPY_MODEL_969c166cf1014dea9372eb22688cb1d1",
       "value": "   objective"
      }
     },
     "e564873a3a3b4b659f8fe5392b2d6369": {
      "model_module": "@jupyter-widgets/base",
      "model_module_version": "1.2.0",
      "model_name": "LayoutModel",
      "state": {
       "height": "32px",
       "overflow": "visible",
       "width": "100%"
      }
     },
     "e5782eab49954e4fb5cd4703dd387ae3": {
      "model_module": "@jupyter-widgets/base",
      "model_module_version": "1.2.0",
      "model_name": "LayoutModel",
      "state": {}
     },
     "e580085d3c214647b8b2f611a663b2dc": {
      "model_module": "@jupyter-widgets/controls",
      "model_module_version": "1.5.0",
      "model_name": "ButtonStyleModel",
      "state": {}
     },
     "e5b8b01474d74d4a9915b75385df7791": {
      "model_module": "@jupyter-widgets/controls",
      "model_module_version": "1.5.0",
      "model_name": "IntProgressModel",
      "state": {
       "layout": "IPY_MODEL_d07a7f804c6446e1899a4f718d1ccc7a",
       "style": "IPY_MODEL_ac61e7a14a484f17a4c367356738c4aa",
       "value": 30
      }
     },
     "e5e9d3bbd7344c51b99d5565258db812": {
      "model_module": "@jupyter-widgets/controls",
      "model_module_version": "1.5.0",
      "model_name": "ButtonStyleModel",
      "state": {}
     },
     "e5eecad601a847cf9446a23d94dcc2dc": {
      "model_module": "@jupyter-widgets/controls",
      "model_module_version": "1.5.0",
      "model_name": "IntProgressModel",
      "state": {
       "layout": "IPY_MODEL_a7ed3f138c804d638852e85e252eb390",
       "style": "IPY_MODEL_c2af7ff9e2604662a1eb60ea32d100c7",
       "value": 30
      }
     },
     "e5f2f0f9f7224739b5329ee0557ed26a": {
      "model_module": "@jupyter-widgets/controls",
      "model_module_version": "1.5.0",
      "model_name": "DescriptionStyleModel",
      "state": {
       "description_width": ""
      }
     },
     "e63df24b589846d09b1d5469e1d19b3c": {
      "model_module": "@jupyter-widgets/controls",
      "model_module_version": "1.5.0",
      "model_name": "DescriptionStyleModel",
      "state": {
       "description_width": ""
      }
     },
     "e64e0d8885c442c7a4228f52c5890dc9": {
      "model_module": "@jupyter-widgets/controls",
      "model_module_version": "1.5.0",
      "model_name": "ButtonStyleModel",
      "state": {}
     },
     "e65dc2deff7e4e6b997999bf3f9b8f16": {
      "model_module": "@jupyter-widgets/controls",
      "model_module_version": "1.5.0",
      "model_name": "ButtonStyleModel",
      "state": {}
     },
     "e65f33c30a234f1c97ccde5adb0d207e": {
      "model_module": "@jupyter-widgets/controls",
      "model_module_version": "1.5.0",
      "model_name": "DescriptionStyleModel",
      "state": {
       "description_width": ""
      }
     },
     "e66718ec0e95479a85760276d32efd7c": {
      "model_module": "@jupyter-widgets/controls",
      "model_module_version": "1.5.0",
      "model_name": "HTMLModel",
      "state": {
       "layout": "IPY_MODEL_3d1509fc032a47d1b25c686fe094e47e",
       "style": "IPY_MODEL_051054880768413b9027455b8fc43bd1",
       "value": "<b>Task Name</b>"
      }
     },
     "e67d896386f44199a573cca60b5014df": {
      "model_module": "@jupyter-widgets/controls",
      "model_module_version": "1.5.0",
      "model_name": "HBoxModel",
      "state": {
       "children": [
        "IPY_MODEL_28bba4b7be8a4a9f885959ecf6f4427e",
        "IPY_MODEL_ba5c19d0192542f1a144788a84c21bd3",
        "IPY_MODEL_00be9b82f75b4cc68d6b2f6f04604d5a",
        "IPY_MODEL_769339b148b641c185a567f7a96b3dd3"
       ],
       "layout": "IPY_MODEL_348ae4d85fa145df8c8eb53e7687878f"
      }
     },
     "e69083f709f14e92bbee918b0b99a505": {
      "model_module": "@jupyter-widgets/controls",
      "model_module_version": "1.5.0",
      "model_name": "ButtonStyleModel",
      "state": {}
     },
     "e697916457294c8eb7fdba2e340ae93e": {
      "model_module": "@jupyter-widgets/controls",
      "model_module_version": "1.5.0",
      "model_name": "ButtonModel",
      "state": {
       "layout": "IPY_MODEL_5dd08ddbcd704e6dac6162b2cfe6b63f",
       "style": "IPY_MODEL_4c48e2a7d8d84e71ad19fce014923912"
      }
     },
     "e69d93a80d0e4145bdbcb7b6592e80d6": {
      "model_module": "@jupyter-widgets/controls",
      "model_module_version": "1.5.0",
      "model_name": "DescriptionStyleModel",
      "state": {
       "description_width": ""
      }
     },
     "e6a3b8c77b264b489690d98fc369f6a9": {
      "model_module": "@jupyter-widgets/controls",
      "model_module_version": "1.5.0",
      "model_name": "ButtonModel",
      "state": {
       "description": "EDIT",
       "layout": "IPY_MODEL_719da81c2dec44c6a45f5b65d6b7e63f",
       "style": "IPY_MODEL_5adb423081134981aeee526f1e889b19"
      }
     },
     "e6aa74f9362f44d8804fb84ae0a6d58d": {
      "model_module": "@jupyter-widgets/controls",
      "model_module_version": "1.5.0",
      "model_name": "ButtonStyleModel",
      "state": {}
     },
     "e6b0a51f81a64c1594a08f4a063eec4b": {
      "model_module": "@jupyter-widgets/controls",
      "model_module_version": "1.5.0",
      "model_name": "ButtonModel",
      "state": {
       "layout": "IPY_MODEL_9b10130f34a74304b5fdd42a9ea0ed14",
       "style": "IPY_MODEL_6543d3b87a12477291d5373030aa17a3"
      }
     },
     "e6b28b9114c3436da00f9ca93e520a66": {
      "model_module": "@jupyter-widgets/controls",
      "model_module_version": "1.5.0",
      "model_name": "HBoxModel",
      "state": {
       "children": [
        "IPY_MODEL_2ef325ab9d7e4bb9a88b1a41bbc739b8",
        "IPY_MODEL_9f08e6f7dfe243628f085501e7dcc0e2",
        "IPY_MODEL_829eb42a02ea4c698496b2a525f56789",
        "IPY_MODEL_fc6894624d374bfe9b08208051d5cda6"
       ],
       "layout": "IPY_MODEL_2fb7894c46254b0c89d2c25d742078b1"
      }
     },
     "e6e043d2b21647f5b74a5b72aa06da62": {
      "model_module": "@jupyter-widgets/base",
      "model_module_version": "1.2.0",
      "model_name": "LayoutModel",
      "state": {
       "width": "60px"
      }
     },
     "e736f533b4414bdfa4f29c060a15f043": {
      "model_module": "@jupyter-widgets/controls",
      "model_module_version": "1.5.0",
      "model_name": "IntProgressModel",
      "state": {
       "layout": "IPY_MODEL_76c71fa3277944c99dda7d2a121d3ede",
       "style": "IPY_MODEL_6362ca8407954351836bce0fe33eb4f4",
       "value": 30
      }
     },
     "e755df258642491394d45a5bb38d1b94": {
      "model_module": "@jupyter-widgets/base",
      "model_module_version": "1.2.0",
      "model_name": "LayoutModel",
      "state": {}
     },
     "e7697fb577c34f3fa5eb13cc86717981": {
      "model_module": "@jupyter-widgets/base",
      "model_module_version": "1.2.0",
      "model_name": "LayoutModel",
      "state": {}
     },
     "e76b5cffedef47aea4ca8036814d859a": {
      "model_module": "@jupyter-widgets/controls",
      "model_module_version": "1.5.0",
      "model_name": "ButtonStyleModel",
      "state": {}
     },
     "e76e38854c974967a06aa76b2dfcaf21": {
      "model_module": "@jupyter-widgets/base",
      "model_module_version": "1.2.0",
      "model_name": "LayoutModel",
      "state": {
       "order": "-1",
       "overflow": "visible",
       "padding": "1px",
       "width": "0px"
      }
     },
     "e778c5236dec4056975a6ed8514ba371": {
      "model_module": "@jupyter-widgets/controls",
      "model_module_version": "1.5.0",
      "model_name": "ButtonModel",
      "state": {
       "description": "EDIT",
       "layout": "IPY_MODEL_9a6088e3a4ef4638b7b4f1e5fc90324b",
       "style": "IPY_MODEL_e10c585cfa954cf9bf5f747fa3285550"
      }
     },
     "e7a10ef04ce44afebc3a7b1a71fbcfeb": {
      "model_module": "@jupyter-widgets/base",
      "model_module_version": "1.2.0",
      "model_name": "LayoutModel",
      "state": {
       "order": "-1",
       "overflow": "visible",
       "padding": "1px",
       "width": "0px"
      }
     },
     "e7a584a1d0c342d48c9c3a4e07938425": {
      "model_module": "@jupyter-widgets/controls",
      "model_module_version": "1.5.0",
      "model_name": "ProgressStyleModel",
      "state": {
       "description_width": ""
      }
     },
     "e7a6543a75de49efa463efd7b874dcc4": {
      "model_module": "@jupyter-widgets/base",
      "model_module_version": "1.2.0",
      "model_name": "LayoutModel",
      "state": {
       "order": "-1",
       "overflow": "visible",
       "padding": "1px",
       "width": "0px"
      }
     },
     "e7b1dae625e44dcdaf26c1d92484f7e8": {
      "model_module": "@jupyter-widgets/controls",
      "model_module_version": "1.5.0",
      "model_name": "HTMLModel",
      "state": {
       "layout": "IPY_MODEL_05583a7ce1f447b68257286aeacde9b4",
       "style": "IPY_MODEL_c9534a34ba1e4f61b037038d167dd55d",
       "value": "<font size=\"1\">Path/Path/Path/Path/</font size>"
      }
     },
     "e7c3f12e026a4e33b3784ede62366d98": {
      "model_module": "@jupyter-widgets/controls",
      "model_module_version": "1.5.0",
      "model_name": "IntProgressModel",
      "state": {
       "layout": "IPY_MODEL_e2c3478db5cc4ac9aa3eaf1bb425a391",
       "style": "IPY_MODEL_051b381a5a2a455c995cdc9bfedfb46e",
       "value": 30
      }
     },
     "e7d2a8f41c98476c9498db353cf1dfdc": {
      "model_module": "@jupyter-widgets/base",
      "model_module_version": "1.2.0",
      "model_name": "LayoutModel",
      "state": {}
     },
     "e85ae355471b429eb79bbf52f2923981": {
      "model_module": "@jupyter-widgets/controls",
      "model_module_version": "1.5.0",
      "model_name": "ButtonModel",
      "state": {
       "description": "EDIT",
       "layout": "IPY_MODEL_4ff13851c39c413fbce655c028f734bc",
       "style": "IPY_MODEL_2b765f7179af4c4995dc3185fc1ff1f0"
      }
     },
     "e8af72b254234da089644ded49bb773e": {
      "model_module": "@jupyter-widgets/base",
      "model_module_version": "1.2.0",
      "model_name": "LayoutModel",
      "state": {}
     },
     "e8ba1ef7c2fd4582be598e51f87fa6ee": {
      "model_module": "@jupyter-widgets/base",
      "model_module_version": "1.2.0",
      "model_name": "LayoutModel",
      "state": {
       "order": "-1",
       "overflow": "visible",
       "padding": "1px",
       "width": "0px"
      }
     },
     "e8dd79f6e3ad4c23ba7b4f400df0c4ea": {
      "model_module": "@jupyter-widgets/controls",
      "model_module_version": "1.5.0",
      "model_name": "ButtonModel",
      "state": {
       "description": "Next",
       "layout": "IPY_MODEL_8d59be0ebf1c41f88f6075cbd2957558",
       "style": "IPY_MODEL_03b18574cc6c456e9aebb8e01483267e"
      }
     },
     "e8ffee3592d74b158b11667ed62fb026": {
      "model_module": "@jupyter-widgets/controls",
      "model_module_version": "1.5.0",
      "model_name": "LabelModel",
      "state": {
       "layout": "IPY_MODEL_b7fd1d7a0dc244e480a3f6eea8793583",
       "style": "IPY_MODEL_874954a17e934fdb996aef48ee412f6b",
       "value": "   objective"
      }
     },
     "e908c60f1748445da0667d79f37f2839": {
      "model_module": "@jupyter-widgets/controls",
      "model_module_version": "1.5.0",
      "model_name": "ButtonModel",
      "state": {
       "description": "EDIT",
       "layout": "IPY_MODEL_1adbd962f29343a2b40c9f8ba4e5b876",
       "style": "IPY_MODEL_78f08fb8de3a4de9a5eda0023e134a18"
      }
     },
     "e91194be15ee4ce6bbfa13be280bf404": {
      "model_module": "@jupyter-widgets/base",
      "model_module_version": "1.2.0",
      "model_name": "LayoutModel",
      "state": {}
     },
     "e91873fda02f4832aa2841718c28b25e": {
      "model_module": "@jupyter-widgets/base",
      "model_module_version": "1.2.0",
      "model_name": "LayoutModel",
      "state": {
       "height": "32px",
       "order": "-2",
       "width": "32px"
      }
     },
     "e92e76652ff74959906fc66859f22ebb": {
      "model_module": "@jupyter-widgets/base",
      "model_module_version": "1.2.0",
      "model_name": "LayoutModel",
      "state": {
       "width": "60px"
      }
     },
     "e9509dcb9245485f8a86c164905a7175": {
      "model_module": "@jupyter-widgets/base",
      "model_module_version": "1.2.0",
      "model_name": "LayoutModel",
      "state": {
       "height": "32px",
       "overflow": "visible",
       "width": "100%"
      }
     },
     "e96030d4c22a4d02a79d2787ce419e7c": {
      "model_module": "@jupyter-widgets/base",
      "model_module_version": "1.2.0",
      "model_name": "LayoutModel",
      "state": {}
     },
     "e960aac352174a9ebcc51487a3de1f41": {
      "model_module": "@jupyter-widgets/controls",
      "model_module_version": "1.5.0",
      "model_name": "ButtonModel",
      "state": {
       "description": "EDIT",
       "layout": "IPY_MODEL_995dc58cb9394038af5f9aa41880df9d",
       "style": "IPY_MODEL_6b976e91b8c34c7e90abb150f8f5cc2f"
      }
     },
     "e9695a5caf1b4cbca926ef325115173c": {
      "model_module": "@jupyter-widgets/controls",
      "model_module_version": "1.5.0",
      "model_name": "ButtonModel",
      "state": {
       "layout": "IPY_MODEL_acec7b0a0309403d9288b0d2b314894d",
       "style": "IPY_MODEL_48001acf34e5406bb34d1a9e5a58a9d0"
      }
     },
     "e97a75d1924c4c618d3acadc7865900a": {
      "model_module": "@jupyter-widgets/controls",
      "model_module_version": "1.5.0",
      "model_name": "DescriptionStyleModel",
      "state": {
       "description_width": ""
      }
     },
     "e99c70f942894a398aaa2c85ca21f11c": {
      "model_module": "@jupyter-widgets/controls",
      "model_module_version": "1.5.0",
      "model_name": "DescriptionStyleModel",
      "state": {
       "description_width": ""
      }
     },
     "e9a811e6343a4446966c7efb40ce071d": {
      "model_module": "@jupyter-widgets/base",
      "model_module_version": "1.2.0",
      "model_name": "LayoutModel",
      "state": {
       "order": "-1",
       "overflow": "visible",
       "padding": "1px",
       "width": "0px"
      }
     },
     "e9bf1005f0d642e7933e77de712c7454": {
      "model_module": "@jupyter-widgets/base",
      "model_module_version": "1.2.0",
      "model_name": "LayoutModel",
      "state": {
       "order": "-1",
       "overflow": "visible",
       "padding": "1px",
       "width": "0px"
      }
     },
     "e9cfc0e33d84454e971f265b4831d54a": {
      "model_module": "@jupyter-widgets/controls",
      "model_module_version": "1.5.0",
      "model_name": "LabelModel",
      "state": {
       "layout": "IPY_MODEL_f186073bd1844572a74c3d0dad5ad22e",
       "style": "IPY_MODEL_7061cbf922c94fbfbd53633c344ea2e5",
       "value": "   objective"
      }
     },
     "ea1a5992eb5b41cea38160f951db9fec": {
      "model_module": "@jupyter-widgets/controls",
      "model_module_version": "1.5.0",
      "model_name": "DescriptionStyleModel",
      "state": {
       "description_width": ""
      }
     },
     "ea25f67c03694db28dd6f3472c68c2c8": {
      "model_module": "@jupyter-widgets/controls",
      "model_module_version": "1.5.0",
      "model_name": "VBoxModel",
      "state": {
       "children": [
        "IPY_MODEL_5d81974a6e8241188437aca9d0dd898b",
        "IPY_MODEL_6e49120c52264228a97825c7851ac691",
        "IPY_MODEL_1a99b637a237479e91bc6959507c5c8f",
        "IPY_MODEL_2ce30c0cb0e344ae908217484f055544"
       ],
       "layout": "IPY_MODEL_5c5417461280499784ee6d66014a4c2c"
      }
     },
     "ea33efc6049c48639d115b3f13c85a5d": {
      "model_module": "@jupyter-widgets/base",
      "model_module_version": "1.2.0",
      "model_name": "LayoutModel",
      "state": {
       "width": "60px"
      }
     },
     "ea35590c75a84948802b8ffd2acffe8e": {
      "model_module": "@jupyter-widgets/base",
      "model_module_version": "1.2.0",
      "model_name": "LayoutModel",
      "state": {
       "height": "32px",
       "order": "-2",
       "width": "32px"
      }
     },
     "ea390c5694c04241b080082181f9895a": {
      "model_module": "@jupyter-widgets/base",
      "model_module_version": "1.2.0",
      "model_name": "LayoutModel",
      "state": {
       "border": "3px solid white",
       "flex": "1 1 0%",
       "margin": "10px",
       "min_width": "400px",
       "overflow": "visible",
       "padding": "10px",
       "width": "auto"
      }
     },
     "ea52b68913464bfeac428e8ea779a5f3": {
      "model_module": "@jupyter-widgets/controls",
      "model_module_version": "1.5.0",
      "model_name": "ProgressStyleModel",
      "state": {
       "description_width": ""
      }
     },
     "ea541392baac45aa807e692e5f33cf02": {
      "model_module": "@jupyter-widgets/base",
      "model_module_version": "1.2.0",
      "model_name": "LayoutModel",
      "state": {
       "height": "32px",
       "overflow": "visible",
       "width": "100%"
      }
     },
     "ea635c04e8b64d2aa721a1cad018f0de": {
      "model_module": "@jupyter-widgets/base",
      "model_module_version": "1.2.0",
      "model_name": "LayoutModel",
      "state": {}
     },
     "ea6eccb58a594b2eb96fb4ef8b22132d": {
      "model_module": "@jupyter-widgets/controls",
      "model_module_version": "1.5.0",
      "model_name": "ButtonStyleModel",
      "state": {}
     },
     "eaa415ba126444af9ad8e54bd0a1ccc6": {
      "model_module": "@jupyter-widgets/base",
      "model_module_version": "1.2.0",
      "model_name": "LayoutModel",
      "state": {
       "order": "-1",
       "overflow": "visible",
       "padding": "1px",
       "width": "0px"
      }
     },
     "eaa8c56955af41b29760877c23c83e44": {
      "model_module": "@jupyter-widgets/controls",
      "model_module_version": "1.5.0",
      "model_name": "LabelModel",
      "state": {
       "layout": "IPY_MODEL_09401725ccb24ab68b9daa4be4d25b93",
       "style": "IPY_MODEL_fa6ad9c1303c47238398b4180b09335e",
       "value": "   objective"
      }
     },
     "eab1bf1eac194c24b322968c907bcae0": {
      "model_module": "@jupyter-widgets/base",
      "model_module_version": "1.2.0",
      "model_name": "LayoutModel",
      "state": {
       "overflow": "visible",
       "width": "100%"
      }
     },
     "eae1a10e9e364f458d9d302ac1dda27c": {
      "model_module": "@jupyter-widgets/controls",
      "model_module_version": "1.5.0",
      "model_name": "ButtonModel",
      "state": {
       "description": "EDIT",
       "layout": "IPY_MODEL_389c20fb4e9443d8a294acf0087c6952",
       "style": "IPY_MODEL_5f6663b9100c42e58add1a792095e204"
      }
     },
     "eb2b508eb41d4db9b5e73a9c6036bc32": {
      "model_module": "@jupyter-widgets/controls",
      "model_module_version": "1.5.0",
      "model_name": "LabelModel",
      "state": {
       "layout": "IPY_MODEL_7ad287d100b641f185f1c48dadf73247",
       "style": "IPY_MODEL_773cf399faea4b98a0303ba84656a6b5",
       "value": "   objective"
      }
     },
     "eb3e3820823843ac972cbf2107bc6f1e": {
      "model_module": "@jupyter-widgets/base",
      "model_module_version": "1.2.0",
      "model_name": "LayoutModel",
      "state": {
       "height": "32px",
       "order": "-2",
       "width": "32px"
      }
     },
     "eb40104af0f34c0aa187cc9d07d2c9f5": {
      "model_module": "@jupyter-widgets/controls",
      "model_module_version": "1.5.0",
      "model_name": "DescriptionStyleModel",
      "state": {
       "description_width": ""
      }
     },
     "eb42423991e8493899b72287f177f5e5": {
      "model_module": "@jupyter-widgets/controls",
      "model_module_version": "1.5.0",
      "model_name": "LabelModel",
      "state": {
       "layout": "IPY_MODEL_62edd5341c6545408504f09fbd4319b0",
       "style": "IPY_MODEL_3e418c6d868d428ab0e44b7f8c882cb5",
       "value": "   objective"
      }
     },
     "eb9a4bf3a86b4942a6c060a3c3f42953": {
      "model_module": "@jupyter-widgets/base",
      "model_module_version": "1.2.0",
      "model_name": "LayoutModel",
      "state": {
       "height": "32px",
       "order": "-2",
       "width": "32px"
      }
     },
     "eba62b521b0248e5b4b6f44edfe9cb83": {
      "model_module": "@jupyter-widgets/base",
      "model_module_version": "1.2.0",
      "model_name": "LayoutModel",
      "state": {
       "order": "-1",
       "overflow": "visible",
       "padding": "1px",
       "width": "0px"
      }
     },
     "eba97e8d7fb143d0973143e0f8d3a612": {
      "model_module": "@jupyter-widgets/controls",
      "model_module_version": "1.5.0",
      "model_name": "ButtonModel",
      "state": {
       "layout": "IPY_MODEL_bd012a7b2d7a4511837f9eb0bbe7736a",
       "style": "IPY_MODEL_80af7465365543e6aef9d8c6118cf3bc"
      }
     },
     "ebaf3e6d042c42bbaa91d9d9fb1a6c6c": {
      "model_module": "@jupyter-widgets/base",
      "model_module_version": "1.2.0",
      "model_name": "LayoutModel",
      "state": {
       "width": "60px"
      }
     },
     "ebb80aa2ae9d4e21b9afa1fc8efd3dac": {
      "model_module": "@jupyter-widgets/base",
      "model_module_version": "1.2.0",
      "model_name": "LayoutModel",
      "state": {}
     },
     "ec0bc3c934314f7bb965556817ea60b4": {
      "model_module": "@jupyter-widgets/controls",
      "model_module_version": "1.5.0",
      "model_name": "DescriptionStyleModel",
      "state": {
       "description_width": ""
      }
     },
     "ec76ea5671594c5f9852fd74156b2e2e": {
      "model_module": "@jupyter-widgets/controls",
      "model_module_version": "1.5.0",
      "model_name": "VBoxModel",
      "state": {
       "children": [
        "IPY_MODEL_0fb4835e53c64f71a9ab6dd8220fe49a",
        "IPY_MODEL_98b4ddcfb3b84a338a6ad155c02f1949",
        "IPY_MODEL_753d0863cb89489da1df6d5bf0c443c0",
        "IPY_MODEL_53440c1f7e1845fca17d1d44375abe99"
       ],
       "layout": "IPY_MODEL_4dabd923a43d4feaaede42b433406771"
      }
     },
     "ec7ce61fbecb4e01b35e78e8c282e7a2": {
      "model_module": "@jupyter-widgets/controls",
      "model_module_version": "1.5.0",
      "model_name": "ButtonModel",
      "state": {
       "layout": "IPY_MODEL_afa6f9f5af4b49b18acea8bad249444e",
       "style": "IPY_MODEL_9666a6c3d0cf485ca548a7846afa3a4f"
      }
     },
     "ecc802ab9c7e4c3990e4fdb15e868498": {
      "model_module": "@jupyter-widgets/controls",
      "model_module_version": "1.5.0",
      "model_name": "ButtonStyleModel",
      "state": {}
     },
     "ecff54274d9541b4b30c1825554bee98": {
      "model_module": "@jupyter-widgets/controls",
      "model_module_version": "1.5.0",
      "model_name": "ProgressStyleModel",
      "state": {
       "description_width": ""
      }
     },
     "ed0aa0b590574913a354ff43e79f2d8c": {
      "model_module": "@jupyter-widgets/controls",
      "model_module_version": "1.5.0",
      "model_name": "ProgressStyleModel",
      "state": {
       "description_width": ""
      }
     },
     "ed2dd216f7194eceb302cb666b200c41": {
      "model_module": "@jupyter-widgets/controls",
      "model_module_version": "1.5.0",
      "model_name": "ButtonStyleModel",
      "state": {}
     },
     "ed3217d4da6e42028d6e3e0b3d4346d4": {
      "model_module": "@jupyter-widgets/controls",
      "model_module_version": "1.5.0",
      "model_name": "HTMLModel",
      "state": {
       "layout": "IPY_MODEL_102aadc523f844f3818cbdbc5e00029e",
       "style": "IPY_MODEL_56a4cf2b800847a3a6e0e6adb8c2e840",
       "value": "<font size=\"1\">Path/Path/Path/Path/</font size>"
      }
     },
     "ed3647c208fc4a4a8861f607060353c9": {
      "model_module": "@jupyter-widgets/controls",
      "model_module_version": "1.5.0",
      "model_name": "ButtonStyleModel",
      "state": {}
     },
     "ed3c5224ecec4d7eb30d2f68d6183260": {
      "model_module": "@jupyter-widgets/base",
      "model_module_version": "1.2.0",
      "model_name": "LayoutModel",
      "state": {
       "height": "32px",
       "order": "-2",
       "width": "32px"
      }
     },
     "ed409e8ff6af42139e03c82d146ace8d": {
      "model_module": "@jupyter-widgets/controls",
      "model_module_version": "1.5.0",
      "model_name": "ProgressStyleModel",
      "state": {
       "description_width": ""
      }
     },
     "ed5900325476461099b1617de98353d8": {
      "model_module": "@jupyter-widgets/base",
      "model_module_version": "1.2.0",
      "model_name": "LayoutModel",
      "state": {
       "order": "-1",
       "overflow": "visible",
       "padding": "1px",
       "width": "0px"
      }
     },
     "ed69a151769e437195c776f4e9d379aa": {
      "model_module": "@jupyter-widgets/controls",
      "model_module_version": "1.5.0",
      "model_name": "LabelModel",
      "state": {
       "layout": "IPY_MODEL_8be2f1f78b574b78985375c35b8cea87",
       "style": "IPY_MODEL_29a0defe869343d2ba966b5e70e22512",
       "value": "Energy Weapon:"
      }
     },
     "edb0c5a3f7ee4cff917988debd6cf680": {
      "model_module": "@jupyter-widgets/controls",
      "model_module_version": "1.5.0",
      "model_name": "ButtonStyleModel",
      "state": {}
     },
     "edc9e4d8e9f3460fbe973e3a5a774a46": {
      "model_module": "@jupyter-widgets/base",
      "model_module_version": "1.2.0",
      "model_name": "LayoutModel",
      "state": {
       "height": "32px",
       "order": "-2",
       "width": "32px"
      }
     },
     "edd8a7b377974faab20d3280371c6c6a": {
      "model_module": "@jupyter-widgets/base",
      "model_module_version": "1.2.0",
      "model_name": "LayoutModel",
      "state": {}
     },
     "ee1ab6e4ac494daf95651861f726d290": {
      "model_module": "@jupyter-widgets/controls",
      "model_module_version": "1.5.0",
      "model_name": "ButtonStyleModel",
      "state": {}
     },
     "ee1b23bcccd04949986ed894986df65c": {
      "model_module": "@jupyter-widgets/controls",
      "model_module_version": "1.5.0",
      "model_name": "ProgressStyleModel",
      "state": {
       "description_width": ""
      }
     },
     "ee1dc768cd864fc6958930a9f0410da4": {
      "model_module": "@jupyter-widgets/controls",
      "model_module_version": "1.5.0",
      "model_name": "VBoxModel",
      "state": {
       "children": [
        "IPY_MODEL_c516a227ec72430ca3ebe935a9b70d86",
        "IPY_MODEL_3e6c95c96be644b8b7121b8d25d45139",
        "IPY_MODEL_64ecbd5a963f414281c1197317e41ddb",
        "IPY_MODEL_6a931477a31840b7b25ee8dba252025f",
        "IPY_MODEL_4d6397634ffe4bd982c7fc475f149a28",
        "IPY_MODEL_212fab84c6dd4f3597086b8f9bb67235"
       ],
       "layout": "IPY_MODEL_faab2c23477e4be981098ee3adaea8a2"
      }
     },
     "ee2ee2f2a0814dfea5a728337b6f0d2e": {
      "model_module": "@jupyter-widgets/base",
      "model_module_version": "1.2.0",
      "model_name": "LayoutModel",
      "state": {
       "order": "-1",
       "overflow": "visible",
       "padding": "1px",
       "width": "0px"
      }
     },
     "ee313b9657ab4442aad51e350395da94": {
      "model_module": "@jupyter-widgets/controls",
      "model_module_version": "1.5.0",
      "model_name": "ButtonModel",
      "state": {
       "layout": "IPY_MODEL_92682c24903c48cb9d54ba40df9b0593",
       "style": "IPY_MODEL_dd8e9113c93e48efba5ffeac556788ec"
      }
     },
     "ee53de78953b4d838f30bc389c34a15c": {
      "model_module": "@jupyter-widgets/controls",
      "model_module_version": "1.5.0",
      "model_name": "ButtonModel",
      "state": {
       "description": "EDIT",
       "layout": "IPY_MODEL_f7bb6fae6fbe43e3bf56a7542a7555ce",
       "style": "IPY_MODEL_e317008b8a514368a3b5b997a99a83c4"
      }
     },
     "ee56dbb9fc7a42b3a150b3b9f987de8d": {
      "model_module": "@jupyter-widgets/controls",
      "model_module_version": "1.5.0",
      "model_name": "ButtonModel",
      "state": {
       "description": "EDIT",
       "layout": "IPY_MODEL_72b90a0fe0f94f06b74fbaeaf04e0c1f",
       "style": "IPY_MODEL_984dbd4babec4c9e955fcd8fa671cc74"
      }
     },
     "ee5c745bf4f042a7ba726278aad6c84b": {
      "model_module": "@jupyter-widgets/base",
      "model_module_version": "1.2.0",
      "model_name": "LayoutModel",
      "state": {
       "height": "32px",
       "overflow": "visible",
       "width": "100%"
      }
     },
     "ee6109a28f7842acb10ec210952680d7": {
      "model_module": "@jupyter-widgets/controls",
      "model_module_version": "1.5.0",
      "model_name": "LabelModel",
      "state": {
       "layout": "IPY_MODEL_b2621268e724423bae16af14bb080c6d",
       "style": "IPY_MODEL_a652bcb0c2c34defb839922063bcdb00",
       "value": "   objective"
      }
     },
     "ee702161bc164b59b80aa9a1a780d5f6": {
      "model_module": "@jupyter-widgets/base",
      "model_module_version": "1.2.0",
      "model_name": "LayoutModel",
      "state": {
       "order": "-1",
       "overflow": "visible",
       "padding": "1px",
       "width": "0px"
      }
     },
     "ee97d28127a545a08912c55200c9503d": {
      "model_module": "@jupyter-widgets/controls",
      "model_module_version": "1.5.0",
      "model_name": "ButtonStyleModel",
      "state": {}
     },
     "eea9df62fd054dddb2641c7348766aa0": {
      "model_module": "@jupyter-widgets/controls",
      "model_module_version": "1.5.0",
      "model_name": "HTMLModel",
      "state": {
       "layout": "IPY_MODEL_98c92d16dfec427487bf99e8bd44affe",
       "style": "IPY_MODEL_a4a3ad63a81c42d8ba1a9f31d915376a",
       "value": "Showing __-__ of ___"
      }
     },
     "eee645fb44984072b2d9be2455a6b58d": {
      "model_module": "@jupyter-widgets/base",
      "model_module_version": "1.2.0",
      "model_name": "LayoutModel",
      "state": {
       "height": "32px",
       "overflow": "visible",
       "width": "100%"
      }
     },
     "eef25bd54dcd4b048698b84fed5f2031": {
      "model_module": "@jupyter-widgets/controls",
      "model_module_version": "1.5.0",
      "model_name": "ButtonStyleModel",
      "state": {}
     },
     "eefd93dfdf214976b4434984c12fed2e": {
      "model_module": "@jupyter-widgets/controls",
      "model_module_version": "1.5.0",
      "model_name": "DescriptionStyleModel",
      "state": {
       "description_width": ""
      }
     },
     "ef058327a08d4f3fa12b09b04a514121": {
      "model_module": "@jupyter-widgets/controls",
      "model_module_version": "1.5.0",
      "model_name": "ButtonStyleModel",
      "state": {}
     },
     "ef11c3a0372f4892afc53a14129b8a3f": {
      "model_module": "@jupyter-widgets/controls",
      "model_module_version": "1.5.0",
      "model_name": "ButtonStyleModel",
      "state": {}
     },
     "ef2d72171e6949b49ba8d01506427adb": {
      "model_module": "@jupyter-widgets/controls",
      "model_module_version": "1.5.0",
      "model_name": "ButtonModel",
      "state": {
       "description": "EDIT",
       "layout": "IPY_MODEL_ad8158cc90a64637b109ee8cced513ab",
       "style": "IPY_MODEL_87c9f9ab66f14dde8dbd08cf91905d30"
      }
     },
     "ef491208cb7d49d189f885d563bed11e": {
      "model_module": "@jupyter-widgets/base",
      "model_module_version": "1.2.0",
      "model_name": "LayoutModel",
      "state": {
       "height": "32px",
       "overflow": "visible",
       "width": "100%"
      }
     },
     "ef6ee8265a074ba9954f058623ee090a": {
      "model_module": "@jupyter-widgets/controls",
      "model_module_version": "1.5.0",
      "model_name": "HBoxModel",
      "state": {
       "children": [
        "IPY_MODEL_ab903696970b4cc384519c9580990120",
        "IPY_MODEL_97f7baf00cde43f3b4c229f276972c07",
        "IPY_MODEL_56a2cb83c67e43d2bbdbbac14433017b",
        "IPY_MODEL_d061d510780f40549ffe4690ec0fc800"
       ],
       "layout": "IPY_MODEL_42a251f5ed5b421ca7f13a8e1e26aefc"
      }
     },
     "ef7a762b2cb14dc8bc244cd82e411d8e": {
      "model_module": "@jupyter-widgets/base",
      "model_module_version": "1.2.0",
      "model_name": "LayoutModel",
      "state": {
       "height": "32px",
       "overflow": "visible",
       "width": "100%"
      }
     },
     "ef7ba19811f1444d9cf023d5be8445bb": {
      "model_module": "@jupyter-widgets/base",
      "model_module_version": "1.2.0",
      "model_name": "LayoutModel",
      "state": {}
     },
     "ef7fce39377741ddafc7d12e3df253cd": {
      "model_module": "@jupyter-widgets/controls",
      "model_module_version": "1.5.0",
      "model_name": "HTMLModel",
      "state": {
       "layout": "IPY_MODEL_c0325b0ff331475bbbe6642645ca56b1",
       "style": "IPY_MODEL_0a1be0e844c342589180cc17d9f410f1",
       "value": "<b>Task Name</b>"
      }
     },
     "efc25a5bf4074ad49d67a951f07ecad9": {
      "model_module": "@jupyter-widgets/base",
      "model_module_version": "1.2.0",
      "model_name": "LayoutModel",
      "state": {}
     },
     "efcc430f6e754d25bd77c46064da9087": {
      "model_module": "@jupyter-widgets/base",
      "model_module_version": "1.2.0",
      "model_name": "LayoutModel",
      "state": {
       "border": "2px solid #00bcd4",
       "width": "98%"
      }
     },
     "efce8442061343b4b99f93b0bd143a5e": {
      "model_module": "@jupyter-widgets/base",
      "model_module_version": "1.2.0",
      "model_name": "LayoutModel",
      "state": {
       "height": "32px",
       "overflow": "visible",
       "width": "100%"
      }
     },
     "efe000f69a5f47c4b6d070de5b7ae372": {
      "model_module": "@jupyter-widgets/controls",
      "model_module_version": "1.5.0",
      "model_name": "ButtonModel",
      "state": {
       "layout": "IPY_MODEL_f71603455c6f418f8bcdd98f1e8364d0",
       "style": "IPY_MODEL_58de2b80577e4ba490160f71da9ac15f"
      }
     },
     "efffa1445d8b4633b3d090830e34bb47": {
      "model_module": "@jupyter-widgets/controls",
      "model_module_version": "1.5.0",
      "model_name": "ProgressStyleModel",
      "state": {
       "description_width": ""
      }
     },
     "f00f35b042424a168dabe74524206ffd": {
      "model_module": "@jupyter-widgets/base",
      "model_module_version": "1.2.0",
      "model_name": "LayoutModel",
      "state": {
       "order": "-1",
       "overflow": "visible",
       "padding": "1px",
       "width": "0px"
      }
     },
     "f00f50e84371455296f2d777ceffdf75": {
      "model_module": "@jupyter-widgets/controls",
      "model_module_version": "1.5.0",
      "model_name": "ButtonModel",
      "state": {
       "description": "EDIT",
       "layout": "IPY_MODEL_1541a5b1a0f3493c8850ebb34a044213",
       "style": "IPY_MODEL_a9ad029119994c349efea331ce97018a"
      }
     },
     "f01e0c87439a4f799798b84505a7637e": {
      "model_module": "@jupyter-widgets/base",
      "model_module_version": "1.2.0",
      "model_name": "LayoutModel",
      "state": {
       "overflow": "visible",
       "width": "100%"
      }
     },
     "f04e56d1072c4293af1d7be4e9d277cf": {
      "model_module": "@jupyter-widgets/base",
      "model_module_version": "1.2.0",
      "model_name": "LayoutModel",
      "state": {
       "height": "32px",
       "overflow": "visible",
       "width": "100%"
      }
     },
     "f04ec310e47348cda7abd0d1fbdc8b1a": {
      "model_module": "@jupyter-widgets/controls",
      "model_module_version": "1.5.0",
      "model_name": "ButtonModel",
      "state": {
       "layout": "IPY_MODEL_68f19c1c1ef2431a8a000f1fdff05b9e",
       "style": "IPY_MODEL_428d55ea349345f985e5914a41643e49"
      }
     },
     "f051eeae9b8e40bc901892f0c6838bcf": {
      "model_module": "@jupyter-widgets/controls",
      "model_module_version": "1.5.0",
      "model_name": "LabelModel",
      "state": {
       "layout": "IPY_MODEL_01673682ac1543a8bbe04a905e361752",
       "style": "IPY_MODEL_b6da10cec5c947f2a81e775b5ec020ab",
       "value": "   objective"
      }
     },
     "f0546a4460ca41b8800c24697821fda9": {
      "model_module": "@jupyter-widgets/base",
      "model_module_version": "1.2.0",
      "model_name": "LayoutModel",
      "state": {
       "height": "32px",
       "overflow": "visible",
       "width": "100%"
      }
     },
     "f05e4c8bd1574f1d9a83c4adadda82a6": {
      "model_module": "@jupyter-widgets/controls",
      "model_module_version": "1.5.0",
      "model_name": "ProgressStyleModel",
      "state": {
       "description_width": ""
      }
     },
     "f0621a58164848a1992039183e2e420b": {
      "model_module": "@jupyter-widgets/controls",
      "model_module_version": "1.5.0",
      "model_name": "HTMLModel",
      "state": {
       "layout": "IPY_MODEL_22bbb6628fc94d77a1de7a31faa80e0e",
       "style": "IPY_MODEL_7ed1ed5ea0ac49d6aeeee3d57b1d629b",
       "value": "<i>test test test test test test test test test test test test test test test test test test test test test test test test </i>"
      }
     },
     "f06b9cc54a9a4eeebceed4342bb1f520": {
      "model_module": "@jupyter-widgets/base",
      "model_module_version": "1.2.0",
      "model_name": "LayoutModel",
      "state": {
       "height": "32px",
       "overflow": "visible",
       "width": "100%"
      }
     },
     "f071e3342a92434399a2876565b34f49": {
      "model_module": "@jupyter-widgets/base",
      "model_module_version": "1.2.0",
      "model_name": "LayoutModel",
      "state": {
       "height": "32px",
       "order": "-2",
       "width": "32px"
      }
     },
     "f080b93ac7c04fa0911675a643ad3b80": {
      "model_module": "@jupyter-widgets/controls",
      "model_module_version": "1.5.0",
      "model_name": "ButtonModel",
      "state": {
       "layout": "IPY_MODEL_fdf405fb8e42429d942ed4936b4f5a26",
       "style": "IPY_MODEL_4a844e6d58d3443c9c960478db083a29"
      }
     },
     "f08cf46c32644eb58c85747baab188e4": {
      "model_module": "@jupyter-widgets/base",
      "model_module_version": "1.2.0",
      "model_name": "LayoutModel",
      "state": {
       "width": "60px"
      }
     },
     "f09089c76c5d4f3698436e03f32571d3": {
      "model_module": "@jupyter-widgets/base",
      "model_module_version": "1.2.0",
      "model_name": "LayoutModel",
      "state": {
       "height": "32px",
       "order": "-2",
       "width": "32px"
      }
     },
     "f097b80241224c039d80453bdd50dd0c": {
      "model_module": "@jupyter-widgets/controls",
      "model_module_version": "1.5.0",
      "model_name": "DescriptionStyleModel",
      "state": {
       "description_width": ""
      }
     },
     "f0d1f7b8b7c048e4a2de47656db283d8": {
      "model_module": "@jupyter-widgets/controls",
      "model_module_version": "1.5.0",
      "model_name": "ButtonStyleModel",
      "state": {}
     },
     "f0ec787933894b2d98258bfadcc37d7b": {
      "model_module": "@jupyter-widgets/base",
      "model_module_version": "1.2.0",
      "model_name": "LayoutModel",
      "state": {
       "height": "32px",
       "overflow": "visible",
       "width": "100%"
      }
     },
     "f104f46226244c0e8b47a55fbac36268": {
      "model_module": "@jupyter-widgets/controls",
      "model_module_version": "1.5.0",
      "model_name": "ButtonModel",
      "state": {
       "description": "EDIT",
       "layout": "IPY_MODEL_0a83800eda054d1b87c360a4cf90abe6",
       "style": "IPY_MODEL_3d4819ca5d2f478995c052a27b7ce2a7"
      }
     },
     "f13b79ffcf8243e28b8ce33d105e9b84": {
      "model_module": "@jupyter-widgets/controls",
      "model_module_version": "1.5.0",
      "model_name": "ButtonStyleModel",
      "state": {}
     },
     "f14f13182d7b4ec2909ff8a91b090762": {
      "model_module": "@jupyter-widgets/base",
      "model_module_version": "1.2.0",
      "model_name": "LayoutModel",
      "state": {
       "height": "32px",
       "overflow": "visible",
       "width": "100%"
      }
     },
     "f15e15518fee497397fba721a1ddaeea": {
      "model_module": "@jupyter-widgets/controls",
      "model_module_version": "1.5.0",
      "model_name": "LabelModel",
      "state": {
       "layout": "IPY_MODEL_4c231a1252b949749a2461007958c28e",
       "style": "IPY_MODEL_3cc3b16b2456479d888c38a05fdc4b22",
       "value": "   objective"
      }
     },
     "f171d5f9f9bf438a8e14b64653842228": {
      "model_module": "@jupyter-widgets/base",
      "model_module_version": "1.2.0",
      "model_name": "LayoutModel",
      "state": {
       "overflow": "visible",
       "width": "100%"
      }
     },
     "f1768a9bb0ed4ac2b3495b29fd6e9a6c": {
      "model_module": "@jupyter-widgets/controls",
      "model_module_version": "1.5.0",
      "model_name": "DescriptionStyleModel",
      "state": {
       "description_width": ""
      }
     },
     "f186073bd1844572a74c3d0dad5ad22e": {
      "model_module": "@jupyter-widgets/base",
      "model_module_version": "1.2.0",
      "model_name": "LayoutModel",
      "state": {
       "order": "-1",
       "overflow": "visible",
       "padding": "1px",
       "width": "0px"
      }
     },
     "f18a217b3238471ca7d8d69425d65e94": {
      "model_module": "@jupyter-widgets/base",
      "model_module_version": "1.2.0",
      "model_name": "LayoutModel",
      "state": {
       "height": "32px",
       "overflow": "visible",
       "width": "100%"
      }
     },
     "f1a5cf1576ab471694f9f51ccf93694e": {
      "model_module": "@jupyter-widgets/controls",
      "model_module_version": "1.5.0",
      "model_name": "ButtonModel",
      "state": {
       "description": "EDIT",
       "layout": "IPY_MODEL_ebaf3e6d042c42bbaa91d9d9fb1a6c6c",
       "style": "IPY_MODEL_ac3ebaab8ee74a949a7f4fd59555e75f"
      }
     },
     "f1c036d05c034fcca741cedf42eea135": {
      "model_module": "@jupyter-widgets/base",
      "model_module_version": "1.2.0",
      "model_name": "LayoutModel",
      "state": {}
     },
     "f1c41d15ab85470ba933e63c014c8012": {
      "model_module": "@jupyter-widgets/controls",
      "model_module_version": "1.5.0",
      "model_name": "HBoxModel",
      "state": {
       "children": [
        "IPY_MODEL_44602720e2a0488a9d68734d7b371c8b",
        "IPY_MODEL_5e325a36fb7f4055b9d1528e5d2b8043",
        "IPY_MODEL_11b3a56820b042e79525bf4808f92b81",
        "IPY_MODEL_2addcd0965494e5c8a1031c1a22cfef4"
       ],
       "layout": "IPY_MODEL_ab2eb38109004cb085dd5d8c3d74059f"
      }
     },
     "f1d7294cfaa146d3820b3b84a0f14fb2": {
      "model_module": "@jupyter-widgets/base",
      "model_module_version": "1.2.0",
      "model_name": "LayoutModel",
      "state": {}
     },
     "f1d7d66e49534b89a40e9af3bf13fd2b": {
      "model_module": "@jupyter-widgets/base",
      "model_module_version": "1.2.0",
      "model_name": "LayoutModel",
      "state": {
       "width": "60px"
      }
     },
     "f1e62c56ecd94eef83ab53de30b19d25": {
      "model_module": "@jupyter-widgets/controls",
      "model_module_version": "1.5.0",
      "model_name": "HBoxModel",
      "state": {
       "children": [
        "IPY_MODEL_4e942995ccb64ce9a1125053a41c9e49",
        "IPY_MODEL_6417f1d8ff684395bb30b4e5270a89eb",
        "IPY_MODEL_b891b5bb64e14fc7ab0173fc4395c980",
        "IPY_MODEL_0464e5985a8443ac997fb7426d1c39eb"
       ],
       "layout": "IPY_MODEL_4c7a6e15c23346169e11bd1692d7a3e3"
      }
     },
     "f23a48bac2aa419da0cc0434eae53021": {
      "model_module": "@jupyter-widgets/controls",
      "model_module_version": "1.5.0",
      "model_name": "DescriptionStyleModel",
      "state": {
       "description_width": ""
      }
     },
     "f243b7d4331f4c389ba21de3776ae40b": {
      "model_module": "@jupyter-widgets/controls",
      "model_module_version": "1.5.0",
      "model_name": "ProgressStyleModel",
      "state": {
       "description_width": ""
      }
     },
     "f27c2d7506d644719178d5fc1236273b": {
      "model_module": "@jupyter-widgets/controls",
      "model_module_version": "1.5.0",
      "model_name": "ButtonStyleModel",
      "state": {}
     },
     "f288c343b434471f861ce70310d1db65": {
      "model_module": "@jupyter-widgets/controls",
      "model_module_version": "1.5.0",
      "model_name": "VBoxModel",
      "state": {
       "children": [
        "IPY_MODEL_2c9daa0d547b46f398523306e80c4cfe",
        "IPY_MODEL_84d17e0cd6f74070811f7f23fa504493",
        "IPY_MODEL_8cc13d9066d7473c803c872af592f197",
        "IPY_MODEL_93b99f0f63b443d4bf47adcaa9dd9097",
        "IPY_MODEL_a5664068598d44f6a8714b564f5f3393",
        "IPY_MODEL_e6b28b9114c3436da00f9ca93e520a66"
       ],
       "layout": "IPY_MODEL_5507fa20cf564042951b6440ec315ef9"
      }
     },
     "f2a65b052c574922b3a3cd9bf0c6f6b4": {
      "model_module": "@jupyter-widgets/base",
      "model_module_version": "1.2.0",
      "model_name": "LayoutModel",
      "state": {
       "height": "32px",
       "order": "-2",
       "width": "32px"
      }
     },
     "f2b055ceecc94c04b8c65f51e2e407fc": {
      "model_module": "@jupyter-widgets/controls",
      "model_module_version": "1.5.0",
      "model_name": "ButtonStyleModel",
      "state": {}
     },
     "f2d4d279e24942c6ac90e28c638d5aea": {
      "model_module": "@jupyter-widgets/base",
      "model_module_version": "1.2.0",
      "model_name": "LayoutModel",
      "state": {}
     },
     "f30bd0d434ca4034ab1c672ef8a1b827": {
      "model_module": "@jupyter-widgets/controls",
      "model_module_version": "1.5.0",
      "model_name": "ButtonModel",
      "state": {
       "layout": "IPY_MODEL_c7a371b9e4ec4687b6f9dee904d110a3",
       "style": "IPY_MODEL_d9fa083707f242dbbcc9046447197614"
      }
     },
     "f32290f55ba54e29bf7257b9c5a9097a": {
      "model_module": "@jupyter-widgets/base",
      "model_module_version": "1.2.0",
      "model_name": "LayoutModel",
      "state": {
       "width": "60px"
      }
     },
     "f3406219480b44f0bd8dd55380be9dbc": {
      "model_module": "@jupyter-widgets/controls",
      "model_module_version": "1.5.0",
      "model_name": "ButtonStyleModel",
      "state": {}
     },
     "f35c54e826094c03972f1c7f7a0a34df": {
      "model_module": "@jupyter-widgets/controls",
      "model_module_version": "1.5.0",
      "model_name": "ButtonModel",
      "state": {
       "description": "EDIT",
       "layout": "IPY_MODEL_9a17d19a54c34adab172a8a9c68aabbf",
       "style": "IPY_MODEL_0bd6ef49c3304ed0b1ec11fbfa33653e"
      }
     },
     "f3689da1c17c4776a4588556f2995b8c": {
      "model_module": "@jupyter-widgets/controls",
      "model_module_version": "1.5.0",
      "model_name": "HBoxModel",
      "state": {
       "children": [
        "IPY_MODEL_00e90f3348b34a63945b63a77592034d",
        "IPY_MODEL_1358de3ef81f4cb3b3341dd6458c64bc",
        "IPY_MODEL_82ae42f9b162475fa3445a295068d67c",
        "IPY_MODEL_69331add77734f43a43d8482b0fb162b"
       ],
       "layout": "IPY_MODEL_a5718fb5b305474c97b6796a10928a36"
      }
     },
     "f37f48cc269543babae9b31f811d0b5f": {
      "model_module": "@jupyter-widgets/controls",
      "model_module_version": "1.5.0",
      "model_name": "ProgressStyleModel",
      "state": {
       "description_width": ""
      }
     },
     "f3aaef81ac8248e8a0d6af72c9a52d87": {
      "model_module": "@jupyter-widgets/base",
      "model_module_version": "1.2.0",
      "model_name": "LayoutModel",
      "state": {}
     },
     "f3c52337408c4b848705bab13fa29a0f": {
      "model_module": "@jupyter-widgets/base",
      "model_module_version": "1.2.0",
      "model_name": "LayoutModel",
      "state": {
       "display": "flex",
       "flex_flow": "row wrap"
      }
     },
     "f3cb673cef2a43999419714b36f334a1": {
      "model_module": "@jupyter-widgets/controls",
      "model_module_version": "1.5.0",
      "model_name": "DescriptionStyleModel",
      "state": {
       "description_width": ""
      }
     },
     "f3d1a584afbb4da28b19875c07031f04": {
      "model_module": "@jupyter-widgets/controls",
      "model_module_version": "1.5.0",
      "model_name": "DescriptionStyleModel",
      "state": {
       "description_width": ""
      }
     },
     "f3ece90eb34542188b8c438416fd1fc8": {
      "model_module": "@jupyter-widgets/base",
      "model_module_version": "1.2.0",
      "model_name": "LayoutModel",
      "state": {}
     },
     "f40981de02984cb3b0945679102706ff": {
      "model_module": "@jupyter-widgets/controls",
      "model_module_version": "1.5.0",
      "model_name": "LabelModel",
      "state": {
       "layout": "IPY_MODEL_8a028c9fcc5849ed881321fc36c2ec81",
       "style": "IPY_MODEL_ad99bc81bb044afca0a617ad31996b52",
       "value": "   objective"
      }
     },
     "f40a0a05228e4602b657e988f97cf1c2": {
      "model_module": "@jupyter-widgets/controls",
      "model_module_version": "1.5.0",
      "model_name": "HTMLModel",
      "state": {
       "layout": "IPY_MODEL_bb7c150ec3ad41659023d1529cf574f1",
       "style": "IPY_MODEL_b5d0d10e0bd343b69220cf37f949aa3c",
       "value": "<i>test test test test test test test test test test test test test test test test test test test test test test test test </i>"
      }
     },
     "f42685269bce4bb684d87f2f49c73a6c": {
      "model_module": "@jupyter-widgets/base",
      "model_module_version": "1.2.0",
      "model_name": "LayoutModel",
      "state": {
       "width": "60px"
      }
     },
     "f4272f8bb1114978b16519d7f1767757": {
      "model_module": "@jupyter-widgets/base",
      "model_module_version": "1.2.0",
      "model_name": "LayoutModel",
      "state": {
       "width": "60px"
      }
     },
     "f434b2a2e07a4df7895a731410ac8a62": {
      "model_module": "@jupyter-widgets/base",
      "model_module_version": "1.2.0",
      "model_name": "LayoutModel",
      "state": {
       "height": "32px",
       "order": "-2",
       "width": "32px"
      }
     },
     "f438dd9b3c7c4a8489d44f455978b0f5": {
      "model_module": "@jupyter-widgets/controls",
      "model_module_version": "1.5.0",
      "model_name": "ButtonModel",
      "state": {
       "layout": "IPY_MODEL_2b2065c159794143b1b3f4de8a99fa39",
       "style": "IPY_MODEL_17c6e26787f348afa49ef58478416c09"
      }
     },
     "f43b1c145f694b778cbe5948b5bef63a": {
      "model_module": "@jupyter-widgets/base",
      "model_module_version": "1.2.0",
      "model_name": "LayoutModel",
      "state": {
       "height": "32px",
       "order": "-2",
       "width": "32px"
      }
     },
     "f45c11d21a4c4413abcd1e848755add3": {
      "model_module": "@jupyter-widgets/controls",
      "model_module_version": "1.5.0",
      "model_name": "ButtonModel",
      "state": {
       "description": "EDIT",
       "layout": "IPY_MODEL_552885adde614ca1b0c27a219bf229ce",
       "style": "IPY_MODEL_e76b5cffedef47aea4ca8036814d859a"
      }
     },
     "f47a22a60963473bb2d5031077ac8c91": {
      "model_module": "@jupyter-widgets/controls",
      "model_module_version": "1.5.0",
      "model_name": "ButtonStyleModel",
      "state": {}
     },
     "f49870b73310467a80333bf327cc6843": {
      "model_module": "@jupyter-widgets/controls",
      "model_module_version": "1.5.0",
      "model_name": "ButtonStyleModel",
      "state": {}
     },
     "f4af7afe184a418cae5861e18be64ca3": {
      "model_module": "@jupyter-widgets/base",
      "model_module_version": "1.2.0",
      "model_name": "LayoutModel",
      "state": {
       "width": "100px"
      }
     },
     "f4f0202120db4d9db5677699a0bd0d8f": {
      "model_module": "@jupyter-widgets/base",
      "model_module_version": "1.2.0",
      "model_name": "LayoutModel",
      "state": {
       "height": "32px",
       "order": "-2",
       "width": "32px"
      }
     },
     "f4f2830b859c4b719db45bb55839596c": {
      "model_module": "@jupyter-widgets/controls",
      "model_module_version": "1.5.0",
      "model_name": "ProgressStyleModel",
      "state": {
       "description_width": ""
      }
     },
     "f501b216dddb43f6889657804713d0b2": {
      "model_module": "@jupyter-widgets/controls",
      "model_module_version": "1.5.0",
      "model_name": "ButtonModel",
      "state": {
       "layout": "IPY_MODEL_58417cc34cd946e087ecaf3e0316c465",
       "style": "IPY_MODEL_44140299f20c46b2bb23c9880179bb1d"
      }
     },
     "f50451558a474c2384bbf5e4b9cc3ed0": {
      "model_module": "@jupyter-widgets/base",
      "model_module_version": "1.2.0",
      "model_name": "LayoutModel",
      "state": {}
     },
     "f516c16a27a64ed0a1a098523b4b5f78": {
      "model_module": "@jupyter-widgets/base",
      "model_module_version": "1.2.0",
      "model_name": "LayoutModel",
      "state": {
       "height": "32px",
       "overflow": "visible",
       "width": "100%"
      }
     },
     "f5177859339a471a8312233da69336f0": {
      "model_module": "@jupyter-widgets/base",
      "model_module_version": "1.2.0",
      "model_name": "LayoutModel",
      "state": {
       "height": "32px",
       "order": "-2",
       "width": "32px"
      }
     },
     "f525cacbdd454e7f831797c7c117b462": {
      "model_module": "@jupyter-widgets/base",
      "model_module_version": "1.2.0",
      "model_name": "LayoutModel",
      "state": {
       "height": "32px",
       "overflow": "visible",
       "width": "100%"
      }
     },
     "f54df1d4a8624bef8b36dc7b36d7d4d3": {
      "model_module": "@jupyter-widgets/controls",
      "model_module_version": "1.5.0",
      "model_name": "DescriptionStyleModel",
      "state": {
       "description_width": ""
      }
     },
     "f5621e93515542c3956bdf71d2b11ccb": {
      "model_module": "@jupyter-widgets/controls",
      "model_module_version": "1.5.0",
      "model_name": "ProgressStyleModel",
      "state": {
       "description_width": ""
      }
     },
     "f5a9a3e26e09426b8d04ab7fc3c182aa": {
      "model_module": "@jupyter-widgets/controls",
      "model_module_version": "1.5.0",
      "model_name": "ButtonModel",
      "state": {
       "description": "EDIT",
       "layout": "IPY_MODEL_8a76dd72a902406b8a8aa7382aa692be",
       "style": "IPY_MODEL_881769bb196a4dcd9cb041e2a4e71369"
      }
     },
     "f5d2cec19c4d4c5e88db1859473a9f51": {
      "model_module": "@jupyter-widgets/base",
      "model_module_version": "1.2.0",
      "model_name": "LayoutModel",
      "state": {
       "height": "32px",
       "overflow": "visible",
       "width": "100%"
      }
     },
     "f5e5786c445444caa20da43ddb141430": {
      "model_module": "@jupyter-widgets/controls",
      "model_module_version": "1.5.0",
      "model_name": "HTMLModel",
      "state": {
       "layout": "IPY_MODEL_57ee04f33184414b94329f0735c3e066",
       "style": "IPY_MODEL_e65f33c30a234f1c97ccde5adb0d207e",
       "value": "<b>Task Name</b>"
      }
     },
     "f614dd234bde49f4b3457b37a80d171e": {
      "model_module": "@jupyter-widgets/base",
      "model_module_version": "1.2.0",
      "model_name": "LayoutModel",
      "state": {}
     },
     "f63053cf48054a8898b57e9922ccfac0": {
      "model_module": "@jupyter-widgets/base",
      "model_module_version": "1.2.0",
      "model_name": "LayoutModel",
      "state": {
       "height": "32px",
       "order": "-2",
       "width": "32px"
      }
     },
     "f6467cba29064bc5ac5ac42187e208c4": {
      "model_module": "@jupyter-widgets/controls",
      "model_module_version": "1.5.0",
      "model_name": "VBoxModel",
      "state": {
       "children": [
        "IPY_MODEL_880825826cf5468eaab342dcd0f4d61b",
        "IPY_MODEL_90d47cdb756241a7b40b990b85e91aa2",
        "IPY_MODEL_86af0055f6644e1381a4d051d2e9c630",
        "IPY_MODEL_fa514525d97541cd978e8bd74799c754",
        "IPY_MODEL_6e9a99a0cdc542afbef112d4b4dc03b2",
        "IPY_MODEL_d235795e9dfc4de1b356ffb6dc89f2e2"
       ],
       "layout": "IPY_MODEL_5ac53a58a0544f379f972f1ec387feaf"
      }
     },
     "f64d540608f54b668b13a20c84bc81ac": {
      "model_module": "@jupyter-widgets/base",
      "model_module_version": "1.2.0",
      "model_name": "LayoutModel",
      "state": {
       "height": "32px",
       "overflow": "visible",
       "width": "100%"
      }
     },
     "f6612a6960bd44059d8d82241ec58357": {
      "model_module": "@jupyter-widgets/base",
      "model_module_version": "1.2.0",
      "model_name": "LayoutModel",
      "state": {}
     },
     "f6632a8d77124eb29f7a96ada668687b": {
      "model_module": "@jupyter-widgets/controls",
      "model_module_version": "1.5.0",
      "model_name": "ButtonModel",
      "state": {
       "layout": "IPY_MODEL_2a13d1f0671e4a09bc53a0573d06849b",
       "style": "IPY_MODEL_ca691801d9e84bce8787e2545fc0961e"
      }
     },
     "f67f82726626448aa6b547cbef90e2e8": {
      "model_module": "@jupyter-widgets/controls",
      "model_module_version": "1.5.0",
      "model_name": "ButtonStyleModel",
      "state": {}
     },
     "f6862c407532473982cb82c2484001d0": {
      "model_module": "@jupyter-widgets/controls",
      "model_module_version": "1.5.0",
      "model_name": "DescriptionStyleModel",
      "state": {
       "description_width": ""
      }
     },
     "f68797d9f7834184bbfb12d635e070d0": {
      "model_module": "@jupyter-widgets/controls",
      "model_module_version": "1.5.0",
      "model_name": "ButtonModel",
      "state": {
       "layout": "IPY_MODEL_256e2691727a415b9f9fa3a6d1cfb485",
       "style": "IPY_MODEL_55c5a9bbb3dc406abec031466062605e"
      }
     },
     "f68fc79327b245d597e23d2f1dab89c5": {
      "model_module": "@jupyter-widgets/controls",
      "model_module_version": "1.5.0",
      "model_name": "LabelModel",
      "state": {
       "layout": "IPY_MODEL_f00f35b042424a168dabe74524206ffd",
       "style": "IPY_MODEL_45bb6b0eae624cd7ba18d234cec27c25",
       "value": "   objective"
      }
     },
     "f6a746cec91148cbadebb485e442e77e": {
      "model_module": "@jupyter-widgets/base",
      "model_module_version": "1.2.0",
      "model_name": "LayoutModel",
      "state": {
       "height": "32px",
       "overflow": "visible",
       "width": "100%"
      }
     },
     "f6e011c737614b7382ce9b4a24f465ef": {
      "model_module": "@jupyter-widgets/controls",
      "model_module_version": "1.5.0",
      "model_name": "ButtonStyleModel",
      "state": {}
     },
     "f6f399667763409bbc870b78a004905b": {
      "model_module": "@jupyter-widgets/base",
      "model_module_version": "1.2.0",
      "model_name": "LayoutModel",
      "state": {
       "height": "32px",
       "order": "-2",
       "width": "32px"
      }
     },
     "f701b686328c473bbda5e29083c6735a": {
      "model_module": "@jupyter-widgets/base",
      "model_module_version": "1.2.0",
      "model_name": "LayoutModel",
      "state": {
       "order": "-1",
       "overflow": "visible",
       "padding": "1px",
       "width": "0px"
      }
     },
     "f70b5c66d5c54c33ac99a0d9a0b49e6c": {
      "model_module": "@jupyter-widgets/controls",
      "model_module_version": "1.5.0",
      "model_name": "LabelModel",
      "state": {
       "layout": "IPY_MODEL_edd8a7b377974faab20d3280371c6c6a",
       "style": "IPY_MODEL_c555af6764774feeab42a99990d598a4",
       "value": "Subclass:"
      }
     },
     "f71603455c6f418f8bcdd98f1e8364d0": {
      "model_module": "@jupyter-widgets/base",
      "model_module_version": "1.2.0",
      "model_name": "LayoutModel",
      "state": {
       "height": "32px",
       "order": "-2",
       "width": "32px"
      }
     },
     "f71e2032e35c4384b58e0e805ce97017": {
      "model_module": "@jupyter-widgets/base",
      "model_module_version": "1.2.0",
      "model_name": "LayoutModel",
      "state": {}
     },
     "f73098ff74574cd29f375f9059c632ea": {
      "model_module": "@jupyter-widgets/controls",
      "model_module_version": "1.5.0",
      "model_name": "ProgressStyleModel",
      "state": {
       "description_width": ""
      }
     },
     "f736b5a3cb2e46708a26cf937b6ed6a4": {
      "model_module": "@jupyter-widgets/controls",
      "model_module_version": "1.5.0",
      "model_name": "VBoxModel",
      "state": {
       "children": [
        "IPY_MODEL_4bc9e597b93442bea50424e80801fe45",
        "IPY_MODEL_23d87be5fd7c42599a50bcc4527bee02",
        "IPY_MODEL_58e36d45443f49fab761d00b54f76aa8",
        "IPY_MODEL_16d7fc11339b424499e0b9ad3414d1b0"
       ],
       "layout": "IPY_MODEL_60dbe9a241964218a3558dc431daf21a"
      }
     },
     "f752e87e2e6c4c27a494738d8d2c0ad5": {
      "model_module": "@jupyter-widgets/base",
      "model_module_version": "1.2.0",
      "model_name": "LayoutModel",
      "state": {
       "border": "1px solid white",
       "min_width": "250px",
       "padding": "10px",
       "width": "15%"
      }
     },
     "f76823b05252496e968a7c4aa150f0c6": {
      "model_module": "@jupyter-widgets/controls",
      "model_module_version": "1.5.0",
      "model_name": "ButtonStyleModel",
      "state": {}
     },
     "f76e43b21f0d45499791617d56d91234": {
      "model_module": "@jupyter-widgets/controls",
      "model_module_version": "1.5.0",
      "model_name": "ButtonStyleModel",
      "state": {}
     },
     "f780826fac3f4cc9a8f48e116d091870": {
      "model_module": "@jupyter-widgets/controls",
      "model_module_version": "1.5.0",
      "model_name": "ButtonStyleModel",
      "state": {}
     },
     "f7bb6fae6fbe43e3bf56a7542a7555ce": {
      "model_module": "@jupyter-widgets/base",
      "model_module_version": "1.2.0",
      "model_name": "LayoutModel",
      "state": {
       "width": "60px"
      }
     },
     "f7c573efbb4746ae974e9f29122c2177": {
      "model_module": "@jupyter-widgets/base",
      "model_module_version": "1.2.0",
      "model_name": "LayoutModel",
      "state": {
       "width": "60px"
      }
     },
     "f7f49bc4eb764ac3b40c3a997e41133e": {
      "model_module": "@jupyter-widgets/controls",
      "model_module_version": "1.5.0",
      "model_name": "ProgressStyleModel",
      "state": {
       "description_width": ""
      }
     },
     "f8085c9ab4964adc949371e8144ffd21": {
      "model_module": "@jupyter-widgets/controls",
      "model_module_version": "1.5.0",
      "model_name": "IntProgressModel",
      "state": {
       "layout": "IPY_MODEL_ee5c745bf4f042a7ba726278aad6c84b",
       "style": "IPY_MODEL_3f73d7718ae948f9a5fce0914c4dfe82",
       "value": 30
      }
     },
     "f813a435c44c461d89c2f4acd6aae12b": {
      "model_module": "@jupyter-widgets/controls",
      "model_module_version": "1.5.0",
      "model_name": "DescriptionStyleModel",
      "state": {
       "description_width": ""
      }
     },
     "f82028dc138943c3afe38133bd42ba0b": {
      "model_module": "@jupyter-widgets/base",
      "model_module_version": "1.2.0",
      "model_name": "LayoutModel",
      "state": {
       "width": "60px"
      }
     },
     "f826f2c5b1924a69abc939edf44e4fa3": {
      "model_module": "@jupyter-widgets/controls",
      "model_module_version": "1.5.0",
      "model_name": "ButtonStyleModel",
      "state": {}
     },
     "f8452b0014904458bb74c03be8403c4f": {
      "model_module": "@jupyter-widgets/base",
      "model_module_version": "1.2.0",
      "model_name": "LayoutModel",
      "state": {
       "width": "60px"
      }
     },
     "f85523313f24416db6a090b209f561a5": {
      "model_module": "@jupyter-widgets/controls",
      "model_module_version": "1.5.0",
      "model_name": "ButtonModel",
      "state": {
       "layout": "IPY_MODEL_0e442371ebd14b3990b09eeeb01ef380",
       "style": "IPY_MODEL_ae20d3675a5d4376b6f74f42d08c7f52"
      }
     },
     "f866c3cb1cc64154a81770dc18d79acc": {
      "model_module": "@jupyter-widgets/base",
      "model_module_version": "1.2.0",
      "model_name": "LayoutModel",
      "state": {
       "display": "flex",
       "flex_flow": "row wrap"
      }
     },
     "f86cc6a731e84504bece81fd0678deb3": {
      "model_module": "@jupyter-widgets/base",
      "model_module_version": "1.2.0",
      "model_name": "LayoutModel",
      "state": {}
     },
     "f876af64922441ecb5fa16c17f5679a3": {
      "model_module": "@jupyter-widgets/base",
      "model_module_version": "1.2.0",
      "model_name": "LayoutModel",
      "state": {
       "order": "-1",
       "overflow": "visible",
       "padding": "1px",
       "width": "0px"
      }
     },
     "f888e19274e147ed9e8662be44bdcc79": {
      "model_module": "@jupyter-widgets/controls",
      "model_module_version": "1.5.0",
      "model_name": "ButtonModel",
      "state": {
       "description": "EDIT",
       "layout": "IPY_MODEL_f82028dc138943c3afe38133bd42ba0b",
       "style": "IPY_MODEL_91c8f45660a44f3e87504db1471fb801"
      }
     },
     "f88bdf9e9e3c4477808b8c4760013258": {
      "model_module": "@jupyter-widgets/base",
      "model_module_version": "1.2.0",
      "model_name": "LayoutModel",
      "state": {
       "height": "32px",
       "order": "-2",
       "width": "32px"
      }
     },
     "f8c57b700cd64582841f092bf46d90b9": {
      "model_module": "@jupyter-widgets/base",
      "model_module_version": "1.2.0",
      "model_name": "LayoutModel",
      "state": {
       "order": "-1",
       "overflow": "visible",
       "padding": "1px",
       "width": "0px"
      }
     },
     "f8cc7de6380d45ae9a820fbc695240ec": {
      "model_module": "@jupyter-widgets/controls",
      "model_module_version": "1.5.0",
      "model_name": "VBoxModel",
      "state": {
       "children": [
        "IPY_MODEL_1fd1ffcc4add468dac23d795fe6212cc",
        "IPY_MODEL_170bdcfa321b4474980ac66560142e67",
        "IPY_MODEL_d26fb54334b54162b066d9dffb3d6889",
        "IPY_MODEL_576de87d461044008746f95b0a4f7963",
        "IPY_MODEL_0cbc7137ba8a4694a5c4477ac435ccd8",
        "IPY_MODEL_d90053cada1e410eb9f1160393499a68"
       ],
       "layout": "IPY_MODEL_c47ac3b5d35b4216920c309d5af63f4e"
      }
     },
     "f8d9712c669649d8b64b0a0438f6b0f1": {
      "model_module": "@jupyter-widgets/controls",
      "model_module_version": "1.5.0",
      "model_name": "IntProgressModel",
      "state": {
       "layout": "IPY_MODEL_6867a0f956cc47ff98be44fe30364940",
       "style": "IPY_MODEL_281140ae7b7c435aaaa3f21a80e5557a",
       "value": 30
      }
     },
     "f8e591454fc8448bb07a5ef4a2aa0e5f": {
      "model_module": "@jupyter-widgets/controls",
      "model_module_version": "1.5.0",
      "model_name": "DescriptionStyleModel",
      "state": {
       "description_width": ""
      }
     },
     "f8f9813f9c6842e7ada4469963645b68": {
      "model_module": "@jupyter-widgets/controls",
      "model_module_version": "1.5.0",
      "model_name": "DescriptionStyleModel",
      "state": {
       "description_width": ""
      }
     },
     "f8fdca0f9eb74e0cade8853743f71d0f": {
      "model_module": "@jupyter-widgets/controls",
      "model_module_version": "1.5.0",
      "model_name": "ProgressStyleModel",
      "state": {
       "description_width": ""
      }
     },
     "f901192e05f84ec290bafeefc12706aa": {
      "model_module": "@jupyter-widgets/base",
      "model_module_version": "1.2.0",
      "model_name": "LayoutModel",
      "state": {
       "height": "32px",
       "order": "-2",
       "width": "32px"
      }
     },
     "f90cfd78f1da44c785e8594d1e7308bd": {
      "model_module": "@jupyter-widgets/controls",
      "model_module_version": "1.5.0",
      "model_name": "ButtonModel",
      "state": {
       "layout": "IPY_MODEL_e91873fda02f4832aa2841718c28b25e",
       "style": "IPY_MODEL_d4d95ba513274762a794e882bad3be03"
      }
     },
     "f912bb5d181942bb9e4460e65ac72a42": {
      "model_module": "@jupyter-widgets/controls",
      "model_module_version": "1.5.0",
      "model_name": "ButtonStyleModel",
      "state": {}
     },
     "f923ee28860143e6a31bc96282f827af": {
      "model_module": "@jupyter-widgets/base",
      "model_module_version": "1.2.0",
      "model_name": "LayoutModel",
      "state": {
       "width": "60px"
      }
     },
     "f9260e360f4f49a9850b52a7b07732c5": {
      "model_module": "@jupyter-widgets/controls",
      "model_module_version": "1.5.0",
      "model_name": "LabelModel",
      "state": {
       "layout": "IPY_MODEL_95401356cb5c462a8871b45bf3b6d8f6",
       "style": "IPY_MODEL_2f6d0d8ecaad4d7780995a3cc8096403",
       "value": "   objective"
      }
     },
     "f926ebcdadea4886ad3b3d52b22e3d26": {
      "model_module": "@jupyter-widgets/controls",
      "model_module_version": "1.5.0",
      "model_name": "VBoxModel",
      "state": {
       "children": [
        "IPY_MODEL_6cb652353c8445faa6f1b0acf24e4b03",
        "IPY_MODEL_9d003c3840ae4598a6294160dfb08abc",
        "IPY_MODEL_c7e3404e571f44ccb1034f537b2204a2",
        "IPY_MODEL_1542c80c495943e8b1bba950a5f0cbac",
        "IPY_MODEL_d8e5f68f35804cfe884a38f51cb47131",
        "IPY_MODEL_cce6a9a307a94afda3a11f16936a0b7a"
       ],
       "layout": "IPY_MODEL_349eed1b93a0410ea0de18477f1668ae"
      }
     },
     "f930a61b704d48f7bddb9146f1b0bc89": {
      "model_module": "@jupyter-widgets/controls",
      "model_module_version": "1.5.0",
      "model_name": "ProgressStyleModel",
      "state": {
       "description_width": ""
      }
     },
     "f933c7e8b1dd4a52901630321fe9d487": {
      "model_module": "@jupyter-widgets/base",
      "model_module_version": "1.2.0",
      "model_name": "LayoutModel",
      "state": {
       "height": "32px",
       "order": "-2",
       "width": "32px"
      }
     },
     "f94bf3049ced4eddbe6177ad3058f0c5": {
      "model_module": "@jupyter-widgets/base",
      "model_module_version": "1.2.0",
      "model_name": "LayoutModel",
      "state": {
       "height": "32px",
       "order": "-2",
       "width": "32px"
      }
     },
     "f96c37a3aacf4356a746060299ff4520": {
      "model_module": "@jupyter-widgets/controls",
      "model_module_version": "1.5.0",
      "model_name": "DescriptionStyleModel",
      "state": {
       "description_width": ""
      }
     },
     "f97a41658e6348d8b7c7724584f08f96": {
      "model_module": "@jupyter-widgets/controls",
      "model_module_version": "1.5.0",
      "model_name": "ButtonStyleModel",
      "state": {}
     },
     "f9842e7bfcfc4e479c6efbe0636ab414": {
      "model_module": "@jupyter-widgets/controls",
      "model_module_version": "1.5.0",
      "model_name": "ButtonStyleModel",
      "state": {}
     },
     "f9c0560eac804750a8bb11caad88c5e4": {
      "model_module": "@jupyter-widgets/base",
      "model_module_version": "1.2.0",
      "model_name": "LayoutModel",
      "state": {
       "overflow": "visible",
       "width": "100%"
      }
     },
     "f9dbc079e6db467f80e6e272ef6cf542": {
      "model_module": "@jupyter-widgets/controls",
      "model_module_version": "1.5.0",
      "model_name": "ButtonStyleModel",
      "state": {}
     },
     "f9e2cb701fb9405299bbb610169c35b2": {
      "model_module": "@jupyter-widgets/base",
      "model_module_version": "1.2.0",
      "model_name": "LayoutModel",
      "state": {
       "overflow": "visible",
       "width": "100%"
      }
     },
     "f9e55d2e115b4228896e13be1ac6408a": {
      "model_module": "@jupyter-widgets/base",
      "model_module_version": "1.2.0",
      "model_name": "LayoutModel",
      "state": {}
     },
     "f9f489541a4c4b759b6a624401bd566a": {
      "model_module": "@jupyter-widgets/controls",
      "model_module_version": "1.5.0",
      "model_name": "ButtonModel",
      "state": {
       "layout": "IPY_MODEL_12316727e7e94812a0d07c374f52add0",
       "style": "IPY_MODEL_5364f75f9aa5462480d11371ebb44f81"
      }
     },
     "f9fc6505c6604d479b92a42380935a4d": {
      "model_module": "@jupyter-widgets/controls",
      "model_module_version": "1.5.0",
      "model_name": "ButtonStyleModel",
      "state": {}
     },
     "fa0fae9886d14fa7b77ecd911da3daa5": {
      "model_module": "@jupyter-widgets/controls",
      "model_module_version": "1.5.0",
      "model_name": "ButtonStyleModel",
      "state": {}
     },
     "fa1f7f778ba4414c9ac5f5c1827e39a9": {
      "model_module": "@jupyter-widgets/controls",
      "model_module_version": "1.5.0",
      "model_name": "DescriptionStyleModel",
      "state": {
       "description_width": ""
      }
     },
     "fa3371a9d05f412e851d676d607574c3": {
      "model_module": "@jupyter-widgets/controls",
      "model_module_version": "1.5.0",
      "model_name": "ProgressStyleModel",
      "state": {
       "description_width": ""
      }
     },
     "fa514525d97541cd978e8bd74799c754": {
      "model_module": "@jupyter-widgets/controls",
      "model_module_version": "1.5.0",
      "model_name": "HBoxModel",
      "state": {
       "children": [
        "IPY_MODEL_368f0b29f2574a15849d86a96c7a546a",
        "IPY_MODEL_6c50a5e2ad4f49988bf9280fe84d3ea8",
        "IPY_MODEL_acb54d7f84b64be8884565b471eed237",
        "IPY_MODEL_ee56dbb9fc7a42b3a150b3b9f987de8d"
       ],
       "layout": "IPY_MODEL_1f02d11b638b4f3fbfbf2fd36f8f3d77"
      }
     },
     "fa5f5d64e79d4da08ca4e8c7e7f9123e": {
      "model_module": "@jupyter-widgets/controls",
      "model_module_version": "1.5.0",
      "model_name": "DescriptionStyleModel",
      "state": {
       "description_width": ""
      }
     },
     "fa6ad9c1303c47238398b4180b09335e": {
      "model_module": "@jupyter-widgets/controls",
      "model_module_version": "1.5.0",
      "model_name": "DescriptionStyleModel",
      "state": {
       "description_width": ""
      }
     },
     "fa714899b4bd499e849d5f061f474625": {
      "model_module": "@jupyter-widgets/base",
      "model_module_version": "1.2.0",
      "model_name": "LayoutModel",
      "state": {
       "order": "-1",
       "overflow": "visible",
       "padding": "1px",
       "width": "0px"
      }
     },
     "fa9a03c823a845b2a338f656f5b574c9": {
      "model_module": "@jupyter-widgets/base",
      "model_module_version": "1.2.0",
      "model_name": "LayoutModel",
      "state": {
       "height": "32px",
       "overflow": "visible",
       "width": "100%"
      }
     },
     "fa9f32a02ca34c50b47740b2148ab949": {
      "model_module": "@jupyter-widgets/controls",
      "model_module_version": "1.5.0",
      "model_name": "ButtonStyleModel",
      "state": {}
     },
     "faab2c23477e4be981098ee3adaea8a2": {
      "model_module": "@jupyter-widgets/base",
      "model_module_version": "1.2.0",
      "model_name": "LayoutModel",
      "state": {}
     },
     "fabfd0c651db4b59ba7e0342f58bf9b6": {
      "model_module": "@jupyter-widgets/controls",
      "model_module_version": "1.5.0",
      "model_name": "VBoxModel",
      "state": {
       "children": [
        "IPY_MODEL_96b3bf27a0e84a89856dc79733274d4d",
        "IPY_MODEL_1362584536d64ff982b2e9810c811045",
        "IPY_MODEL_04d81271092549ee89102098bba56564",
        "IPY_MODEL_f70b5c66d5c54c33ac99a0d9a0b49e6c",
        "IPY_MODEL_9216c8a6e177480593289cd114846633",
        "IPY_MODEL_65ec53d551fc4c4b869593a152585de2",
        "IPY_MODEL_6f5f5fe15c0f460eb611df03fc8ce010",
        "IPY_MODEL_a2c87374834a422ebf43ec522d9187f4",
        "IPY_MODEL_9fea64863b464852a3a8737f2cf7a57c"
       ],
       "layout": "IPY_MODEL_1197c7592da0422891db440b5d578fa4"
      }
     },
     "fad7d369d1084706b7e90ad45e30ded5": {
      "model_module": "@jupyter-widgets/controls",
      "model_module_version": "1.5.0",
      "model_name": "DescriptionStyleModel",
      "state": {
       "description_width": ""
      }
     },
     "faeaa226dae4467e8d60df8ca574ab6d": {
      "model_module": "@jupyter-widgets/controls",
      "model_module_version": "1.5.0",
      "model_name": "ButtonModel",
      "state": {
       "description": "EDIT",
       "layout": "IPY_MODEL_5c611db05b3b42e19a247b80e1a33ea7",
       "style": "IPY_MODEL_842bf608241643c08d709e7f9ba3b744"
      }
     },
     "fafc0cfbd4964506a09d579ab2a55f93": {
      "model_module": "@jupyter-widgets/controls",
      "model_module_version": "1.5.0",
      "model_name": "IntProgressModel",
      "state": {
       "layout": "IPY_MODEL_28a9245b7fe240dca98ad672af55a9f8",
       "style": "IPY_MODEL_886b481a7fe64ce787c274629e0155aa",
       "value": 30
      }
     },
     "fb073d727fc543aea097f005eba3b5c7": {
      "model_module": "@jupyter-widgets/controls",
      "model_module_version": "1.5.0",
      "model_name": "ButtonStyleModel",
      "state": {}
     },
     "fb1d53790acc45f98f728b38dede3b1b": {
      "model_module": "@jupyter-widgets/base",
      "model_module_version": "1.2.0",
      "model_name": "LayoutModel",
      "state": {
       "height": "32px",
       "overflow": "visible",
       "width": "100%"
      }
     },
     "fb38a5376a1944e4a80a7fa40b87af4e": {
      "model_module": "@jupyter-widgets/base",
      "model_module_version": "1.2.0",
      "model_name": "LayoutModel",
      "state": {
       "height": "32px",
       "order": "-2",
       "width": "32px"
      }
     },
     "fb4b02ecc75e4b8aa69513e1f08bf47b": {
      "model_module": "@jupyter-widgets/base",
      "model_module_version": "1.2.0",
      "model_name": "LayoutModel",
      "state": {
       "height": "32px",
       "order": "-2",
       "width": "32px"
      }
     },
     "fb4ec7f7d9224616bdf69c9a9ec04eff": {
      "model_module": "@jupyter-widgets/controls",
      "model_module_version": "1.5.0",
      "model_name": "IntProgressModel",
      "state": {
       "layout": "IPY_MODEL_fc5241f9a4d04d98a288b6fd7a7c0dfc",
       "style": "IPY_MODEL_f8fdca0f9eb74e0cade8853743f71d0f",
       "value": 30
      }
     },
     "fb50184075c742278aaf4b9011308a05": {
      "model_module": "@jupyter-widgets/controls",
      "model_module_version": "1.5.0",
      "model_name": "LabelModel",
      "state": {
       "layout": "IPY_MODEL_1b2b300a41b84313aab0e83e14e0c968",
       "style": "IPY_MODEL_1dc50c7587264720b1ec0dd245371119",
       "value": "Subclass:"
      }
     },
     "fb67d53cf4b04516b2b4f64a267da163": {
      "model_module": "@jupyter-widgets/base",
      "model_module_version": "1.2.0",
      "model_name": "LayoutModel",
      "state": {
       "order": "-1",
       "overflow": "visible",
       "padding": "1px",
       "width": "0px"
      }
     },
     "fb6db6f455e8410eb5fdc964d7900f61": {
      "model_module": "@jupyter-widgets/controls",
      "model_module_version": "1.5.0",
      "model_name": "LabelModel",
      "state": {
       "layout": "IPY_MODEL_fc4dd5a27ce1450e860c367c1e49404d",
       "style": "IPY_MODEL_86f6afc646fb4e348b162d9987118157",
       "value": "   objective"
      }
     },
     "fb9a62f9b6dc4b08aca8c61e6e347e5b": {
      "model_module": "@jupyter-widgets/base",
      "model_module_version": "1.2.0",
      "model_name": "LayoutModel",
      "state": {
       "height": "32px",
       "order": "-2",
       "width": "32px"
      }
     },
     "fbc9074e6fa94c6c9fd3894b01577dcd": {
      "model_module": "@jupyter-widgets/controls",
      "model_module_version": "1.5.0",
      "model_name": "HBoxModel",
      "state": {
       "children": [
        "IPY_MODEL_6ee5d3e18d184b2c81ae2e05f3802f90",
        "IPY_MODEL_291f6a7d0dc64b18a6d3c708418e1912",
        "IPY_MODEL_40fa9133640d47798ebef087f577472f",
        "IPY_MODEL_c481d6d4bba3403798ce76dc788c7af9"
       ],
       "layout": "IPY_MODEL_27fd23a4a0b64429adc2c4b0215521dd"
      }
     },
     "fbf760c6ca514d9bbcc42cb9e97fa10e": {
      "model_module": "@jupyter-widgets/controls",
      "model_module_version": "1.5.0",
      "model_name": "ButtonStyleModel",
      "state": {}
     },
     "fc4286e932ef4fc283b5ab69da83e0fb": {
      "model_module": "@jupyter-widgets/controls",
      "model_module_version": "1.5.0",
      "model_name": "ProgressStyleModel",
      "state": {
       "description_width": ""
      }
     },
     "fc4dd5a27ce1450e860c367c1e49404d": {
      "model_module": "@jupyter-widgets/base",
      "model_module_version": "1.2.0",
      "model_name": "LayoutModel",
      "state": {
       "order": "-1",
       "overflow": "visible",
       "padding": "1px",
       "width": "0px"
      }
     },
     "fc5241f9a4d04d98a288b6fd7a7c0dfc": {
      "model_module": "@jupyter-widgets/base",
      "model_module_version": "1.2.0",
      "model_name": "LayoutModel",
      "state": {
       "height": "32px",
       "overflow": "visible",
       "width": "100%"
      }
     },
     "fc6894624d374bfe9b08208051d5cda6": {
      "model_module": "@jupyter-widgets/controls",
      "model_module_version": "1.5.0",
      "model_name": "ButtonModel",
      "state": {
       "description": "EDIT",
       "layout": "IPY_MODEL_013183d3b5f547e2b615f1da4a9dd6ee",
       "style": "IPY_MODEL_27a9f3374d0c49e1a550708f589c5d04"
      }
     },
     "fcb255930a894df18d655a88449c384b": {
      "model_module": "@jupyter-widgets/base",
      "model_module_version": "1.2.0",
      "model_name": "LayoutModel",
      "state": {}
     },
     "fcc115e2be574e2e8f99e5a937b417ec": {
      "model_module": "@jupyter-widgets/controls",
      "model_module_version": "1.5.0",
      "model_name": "ButtonModel",
      "state": {
       "layout": "IPY_MODEL_b3aabb1d41cb42de9455f61a4fbe73c9",
       "style": "IPY_MODEL_9ee0a09db8d5497da86bfad227d1dfd7"
      }
     },
     "fcc758769caa48c495a90b566cc952b3": {
      "model_module": "@jupyter-widgets/controls",
      "model_module_version": "1.5.0",
      "model_name": "DescriptionStyleModel",
      "state": {
       "description_width": ""
      }
     },
     "fce3535aae3a48a2963a29e2b19e97d0": {
      "model_module": "@jupyter-widgets/base",
      "model_module_version": "1.2.0",
      "model_name": "LayoutModel",
      "state": {
       "order": "-1",
       "overflow": "visible",
       "padding": "1px",
       "width": "0px"
      }
     },
     "fcec750b79104b14b25044408b55eb24": {
      "model_module": "@jupyter-widgets/controls",
      "model_module_version": "1.5.0",
      "model_name": "ButtonModel",
      "state": {
       "layout": "IPY_MODEL_4a1f67cb32c94b33b1477bf0813759a4",
       "style": "IPY_MODEL_707201281dfe4b4ab35671322ce11279"
      }
     },
     "fd28f7f4d126465887bb6f9bbc9c62d1": {
      "model_module": "@jupyter-widgets/controls",
      "model_module_version": "1.5.0",
      "model_name": "LabelModel",
      "state": {
       "layout": "IPY_MODEL_3f23ce7b24514118901ce003dbbe34f0",
       "style": "IPY_MODEL_a54aa4e81a1e41babe32adb47d13d915",
       "value": "   objective"
      }
     },
     "fd3d278a27c84e6287e05c364c8a31b2": {
      "model_module": "@jupyter-widgets/base",
      "model_module_version": "1.2.0",
      "model_name": "LayoutModel",
      "state": {
       "height": "32px",
       "overflow": "visible",
       "width": "100%"
      }
     },
     "fd442f64dc7541c7bc38dd964882e5ae": {
      "model_module": "@jupyter-widgets/base",
      "model_module_version": "1.2.0",
      "model_name": "LayoutModel",
      "state": {
       "height": "32px",
       "order": "-2",
       "width": "32px"
      }
     },
     "fd55ed3a05ee448380b65cbc3197c085": {
      "model_module": "@jupyter-widgets/controls",
      "model_module_version": "1.5.0",
      "model_name": "ProgressStyleModel",
      "state": {
       "description_width": ""
      }
     },
     "fd5b416a6aa94c92954dfa4cb550665f": {
      "model_module": "@jupyter-widgets/controls",
      "model_module_version": "1.5.0",
      "model_name": "HBoxModel",
      "state": {
       "children": [
        "IPY_MODEL_ff00c27cdd954d26931047ace1d8ca7e",
        "IPY_MODEL_8190c59ee2864f08a3898ba0d96ca774",
        "IPY_MODEL_eaa8c56955af41b29760877c23c83e44",
        "IPY_MODEL_6f9adb8832fe490899d15877d8494298"
       ],
       "layout": "IPY_MODEL_0ed8868ee4234a7c92146c685d6d6b92"
      }
     },
     "fd7f329ce24d4cdca3993dfd4da0ce37": {
      "model_module": "@jupyter-widgets/controls",
      "model_module_version": "1.5.0",
      "model_name": "VBoxModel",
      "state": {
       "children": [
        "IPY_MODEL_83fb8a7c51cf4c259a54cdfcc095762d",
        "IPY_MODEL_d061675597b84bc897d7a0b69cadc961",
        "IPY_MODEL_a94cd7e7dbf74a808303478ad2d2c8eb",
        "IPY_MODEL_f6467cba29064bc5ac5ac42187e208c4"
       ],
       "layout": "IPY_MODEL_8f511ed7def14cac80664b03d087e737"
      }
     },
     "fd8391cf02924fb68850bcb2d582f7c1": {
      "model_module": "@jupyter-widgets/base",
      "model_module_version": "1.2.0",
      "model_name": "LayoutModel",
      "state": {
       "height": "32px",
       "order": "-2",
       "width": "32px"
      }
     },
     "fdc575e1245347cfabfafa848a8f583c": {
      "model_module": "@jupyter-widgets/base",
      "model_module_version": "1.2.0",
      "model_name": "LayoutModel",
      "state": {
       "width": "60px"
      }
     },
     "fdf405fb8e42429d942ed4936b4f5a26": {
      "model_module": "@jupyter-widgets/base",
      "model_module_version": "1.2.0",
      "model_name": "LayoutModel",
      "state": {
       "height": "32px",
       "order": "-2",
       "width": "32px"
      }
     },
     "fe3b288059f84a77b95d3233fda52c61": {
      "model_module": "@jupyter-widgets/controls",
      "model_module_version": "1.5.0",
      "model_name": "LabelModel",
      "state": {
       "layout": "IPY_MODEL_e50cc46c8588497692c361ba6d8e1a2e",
       "style": "IPY_MODEL_a4316b7c1d684ac0a3a72443d5f0e72a",
       "value": "   objective"
      }
     },
     "fe7f60c0371849c98b7912a766dabed0": {
      "model_module": "@jupyter-widgets/controls",
      "model_module_version": "1.5.0",
      "model_name": "ButtonStyleModel",
      "state": {}
     },
     "febf383bb26a4023b8deef1ecf7453c1": {
      "model_module": "@jupyter-widgets/base",
      "model_module_version": "1.2.0",
      "model_name": "LayoutModel",
      "state": {
       "width": "60px"
      }
     },
     "fec177aa5aca4652891bbccb46fc570e": {
      "model_module": "@jupyter-widgets/base",
      "model_module_version": "1.2.0",
      "model_name": "LayoutModel",
      "state": {
       "height": "32px",
       "overflow": "visible",
       "width": "100%"
      }
     },
     "fec5401f1e3241a6a18665df5a3a8e37": {
      "model_module": "@jupyter-widgets/base",
      "model_module_version": "1.2.0",
      "model_name": "LayoutModel",
      "state": {}
     },
     "fef7fb6c455d4d20b5ed8364b7a7d12d": {
      "model_module": "@jupyter-widgets/controls",
      "model_module_version": "1.5.0",
      "model_name": "ButtonStyleModel",
      "state": {}
     },
     "ff00c27cdd954d26931047ace1d8ca7e": {
      "model_module": "@jupyter-widgets/controls",
      "model_module_version": "1.5.0",
      "model_name": "ButtonModel",
      "state": {
       "layout": "IPY_MODEL_cf5c3f825c4242ed80f94914f4776cec",
       "style": "IPY_MODEL_f67f82726626448aa6b547cbef90e2e8"
      }
     },
     "ff20d92cc1384adcbd5e44f6bbfc9427": {
      "model_module": "@jupyter-widgets/base",
      "model_module_version": "1.2.0",
      "model_name": "LayoutModel",
      "state": {}
     },
     "ff54b56ae62e464289184e66f840b720": {
      "model_module": "@jupyter-widgets/base",
      "model_module_version": "1.2.0",
      "model_name": "LayoutModel",
      "state": {
       "overflow": "visible",
       "width": "100%"
      }
     },
     "ff58007e6c844cdb8f5b2055ce00c683": {
      "model_module": "@jupyter-widgets/controls",
      "model_module_version": "1.5.0",
      "model_name": "ButtonStyleModel",
      "state": {}
     },
     "ff6779a5d543450197d941363274ae0d": {
      "model_module": "@jupyter-widgets/controls",
      "model_module_version": "1.5.0",
      "model_name": "DropdownModel",
      "state": {
       "_options_labels": [
        "Any",
        "Arc",
        "Solar",
        "Void"
       ],
       "index": 0,
       "layout": "IPY_MODEL_56b87d7d00c54e96938caab1e6aa41f1",
       "style": "IPY_MODEL_20bb2fcaac7142eb8f0d0451931c0848"
      }
     },
     "ff771d97b8fb4acd913e8ecc8a3dcd91": {
      "model_module": "@jupyter-widgets/controls",
      "model_module_version": "1.5.0",
      "model_name": "ButtonStyleModel",
      "state": {}
     },
     "ff895126fc084247b648c8a083dcf565": {
      "model_module": "@jupyter-widgets/controls",
      "model_module_version": "1.5.0",
      "model_name": "ProgressStyleModel",
      "state": {
       "description_width": ""
      }
     },
     "ff9120c91e1b4635b31c6e61f554f78c": {
      "model_module": "@jupyter-widgets/controls",
      "model_module_version": "1.5.0",
      "model_name": "HBoxModel",
      "state": {
       "children": [
        "IPY_MODEL_a62ccd18e52d49879a6bf738b25d8270",
        "IPY_MODEL_043be14e41684de18b66a1d6dbf2987e"
       ],
       "layout": "IPY_MODEL_5e5f5f43d5c340ab8a51b9aafe091f9b"
      }
     },
     "ff9e55f77c0540e494d2d594c84ee5a7": {
      "model_module": "@jupyter-widgets/base",
      "model_module_version": "1.2.0",
      "model_name": "LayoutModel",
      "state": {
       "height": "32px",
       "overflow": "visible",
       "width": "100%"
      }
     },
     "ffbda24eeac542be893031270967a0d5": {
      "model_module": "@jupyter-widgets/controls",
      "model_module_version": "1.5.0",
      "model_name": "DropdownModel",
      "state": {
       "_options_labels": [
        "All",
        "Active Objectives",
        "Pursuits",
        "Milestones",
        "Triumphs",
        "Collections"
       ],
       "description": "Show:",
       "index": 0,
       "layout": "IPY_MODEL_ac854715fbb84c9f9fd8d403cc28dbd8",
       "style": "IPY_MODEL_62961bc6c34b47579e2a2aae46b21676"
      }
     }
    },
    "version_major": 2,
    "version_minor": 0
   }
  }
 },
 "nbformat": 4,
 "nbformat_minor": 4
}
