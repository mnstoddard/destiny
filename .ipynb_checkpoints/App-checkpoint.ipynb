{
 "cells": [
  {
   "cell_type": "code",
   "execution_count": 1,
   "metadata": {},
   "outputs": [
    {
     "data": {
      "application/vnd.jupyter.widget-view+json": {
       "model_id": "2b0ad14941f7489db6b2b15280a87fb3",
       "version_major": 2,
       "version_minor": 0
      },
      "text/plain": [
       "Output()"
      ]
     },
     "metadata": {},
     "output_type": "display_data"
    }
   ],
   "source": [
    "import pickle\n",
    "import requests\n",
    "import ipywidgets as ipw\n",
    "%run interface.ipynb\n",
    "\n",
    "\n",
    "    \n",
    "#with open('pursuits.data', 'rb') as filehandle:\n",
    "    #pursuits = pickle.load(filehandle)\n",
    "    \n",
    "#with open('requirements_tasks.data', 'rb') as filehandle:\n",
    "    #requirements = pickle.load(filehandle)\n",
    "    \n"
   ]
  },
  {
   "cell_type": "code",
   "execution_count": null,
   "metadata": {},
   "outputs": [],
   "source": [
    "refresh_loadout()"
   ]
  },
  {
   "cell_type": "code",
   "execution_count": null,
   "metadata": {},
   "outputs": [],
   "source": [
    "print(active_objectives)"
   ]
  },
  {
   "cell_type": "code",
   "execution_count": null,
   "metadata": {},
   "outputs": [],
   "source": [
    "possible_requirements = {\n",
    "    'Class': ['Any', 'Titan', 'Hunter', 'Warlock'],\n",
    "    'Subclass': {\n",
    "        'Titan': ['Any', 'Sentinel', 'Striker', 'Sunbreaker'],\n",
    "        'Hunter': ['Any', 'Nightstalker', 'Arcstrider', 'Gunslinger'],\n",
    "        'Warlock': ['Any', 'Voidwalker', 'Stormcaller', 'Dawnblade']\n",
    "    },\n",
    "    'Tree': {\n",
    "        'Titan': {\n",
    "            'Sentinel': ['Any', 'Code of the Commander', 'Code of the Protector', 'Code of the Aggressor'],\n",
    "            'Striker': ['Any', 'Code of the Earthshaker', 'Code of the Missile', 'Code of the Juggernaut'],\n",
    "            'Sunbreaker':['Any', 'Code of the Fire-Forged', 'Code of the Devastator', 'Code of the Siegebreaker']\n",
    "        },\n",
    "        'Hunter': {\n",
    "            'Nightstalker': ['Any', 'Way of the Trapper', 'Way of the Wraith', 'Way of the Pathfinder'],\n",
    "            'Arcstrider': ['Any', 'Way of the Warrior', 'Way of the Current', 'Way of the Wind'],\n",
    "            'Gunslinger': ['Any', 'Way of the Outlaw', 'Way of a Thousand Cuts', 'Way of the Outlaw']\n",
    "        },\n",
    "        'Warlock': {\n",
    "            'Voidwalker': ['Any', 'Attunement of Chaos', 'Attunement of Fission', 'Attunement of Hunger'],\n",
    "            'Stormcaller': ['Any', 'Attunement of Conduction', 'Attunement of Control', 'Attunement of the Elements'],\n",
    "            'Dawnblade': ['Any', 'Attunement of Sky', 'Attunement of Grace', 'Attunement of Flame']\n",
    "        }\n",
    "    },\n",
    "    'Grenade': {\n",
    "        'Titan': {\n",
    "            'Sentinel': ['Any', 'Magnetic Grenade', 'Voidwall Grenade', 'Suppressor Grenade'],\n",
    "            'Striker': ['Any', 'Flashbang Grenade', 'Pulse Grenade', 'Lightning Grenade'],\n",
    "            'Sunbreaker':['Any', 'Incendiary Grenade', 'Thermite Grenade', 'Fusion Grenade']\n",
    "        },\n",
    "        'Hunter': {\n",
    "            'Nightstalker':['Any' ,'Vortex Grenade', 'Spike Grenade', ' Voidwall Grenade'],\n",
    "            'Arcstrider': ['Any', 'Skip Grenade', 'Flux Grenade', 'Arcbolt Grenade'],\n",
    "            'Gunslinger': ['Any', 'Incendiary Grenade', 'Swarm Grenade', 'Tripmine Grenade']\n",
    "        },\n",
    "        'Warlock': {\n",
    "            'Voidwalker': ['Any', 'Vortex Grenade', 'Axion Bolt', 'Scatter Grenade'],\n",
    "            'Stormcaller': ['Any', 'Arcbolt Grenade', 'Pulse Grenade', 'Storm Grenade'],\n",
    "            'Dawnblade': ['Any', 'Solar Grenade', 'Firebolt Grenade', 'Fusion Grenade']\n",
    "        }\n",
    "    },\n",
    "    'Weapon Slot': ['Any', 'Kinetic', 'Energy', 'Power'],\n",
    "    'Weapon Type': ['Any', 'Hand Cannon', 'Auto Rifle', 'Scout Rifle', 'Pulse Rifle', 'Sidearm', 'Submachine Gun', 'Combt Bow','Sniper Rifle', 'Shotgun', 'Fusion Rifle', 'Grenade Launcher', 'Machine Gun', 'Sword', 'Grenade Launcher', 'Rocket Launcher', 'Linear Fusion Rifle'],\n",
    "    'Weapon Ammo': ['Any', 'Primary', 'Secondary', 'Heavy'],\n",
    "    'Weapon Ammo Type': {\n",
    "        'Primary': ['Any', 'Hand Cannon', 'Auto Rifle', 'Scout Rifle', 'Pulse Rifle', 'Sidearm', 'Submachine Gun', 'Combt Bow',],\n",
    "        'Secondary': ['Any', 'Sniper Rifle', 'Shotgun', 'Fusion Rifle', 'Grenade Launcher'],\n",
    "        'Heavy': ['Any', 'Machine Gun', 'Sword', 'Grenade Launcher', 'Rocket Launcher', 'Linear Fusion Rifle']\n",
    "    },\n",
    "    'Weapon Energy': ['Any', 'Kinetic', 'Solar', 'Void', 'Arc'],\n",
    "    'Activity Type': ['Any', 'Patrol', 'Gambit', 'Reckoning', 'Menagerie', 'Vex Offensive', 'Raid', 'Strike', 'Nightfall', 'Crucible', 'Forge'],\n",
    "    'Activity': {\n",
    "        'Patrol': ['Any', 'Earth', 'Io', 'Nessus', 'Titan','Mars', 'Dreaming City', 'Tangled Shore', 'The Moon'],\n",
    "        'Strike': ['Any', 'Lake of Shadows','Savathûn\\'s Song','The Arms Dealer','The Inverted Spire','The Pyramidion', 'A Garden World','Tree of Probabilities','Will of The Thousands','Strange Terrain','The Insight Termius','Warden of Nothing','Broodhold','The Hollowed Lair','The Corrupted'],\n",
    "        'Nightfall': ['Any', 'Lake of Shadows','Savathûn\\'s Song','The Arms Dealer','The Inverted Spire','The Pyramidion', 'A Garden World','Tree of Probabilities','Will of The Thousands','Strange Terrain','The Insight Termius','Warden of Nothing','Broodhold','The Hollowed Lair','The Corrupted'],\n",
    "        'Raid': ['Any', 'Liathan', 'Prestige Leviathan', 'Eater of Worlds', 'Spire of Stars', 'Last Wish', 'Scourage of The Past', 'Crown of Sorrow', 'Garden of Salvation'],\n",
    "        'Crucible': ['Any', 'Clash', 'Control', 'Showdown', 'Mayhem', 'Breakthrough', 'Lockdown', 'Rumble', 'Supremacy', 'Doubles', 'Scorched', 'Countdown', 'Survival', 'Iron Banner'],\n",
    "        'Gambit': ['Any', 'Gambit', 'Gambit Prime'],\n",
    "        'Reckoning': ['Any', 'Tier I', 'Tier II', 'Tier III'],\n",
    "        'Menagerie': ['Any', 'Normal', 'Heroic'],\n",
    "        'Vex Offensive': ['Any'],\n",
    "        'Forge': ['Any', 'Volundr Forge', 'Gofannon Forge', 'Izanami Forge', 'Bergusia Forge']\n",
    "    }\n",
    "}\n",
    "layout_req = widgets.Layout(width='20%')\n",
    "layout_label_req = widgets.Layout(width='10%')\n",
    "output_req = widgets.Output()\n",
    "\n",
    "hbox_triumph_req = widgets.HBox()\n",
    "label_triumph_req = widgets.Label(\"Triumph:\", layout=layout_label_req)\n",
    "dropdown_triumph_req = widgets.Dropdown(options=list(triumphs.keys()), layout=layout_req)\n",
    "dropdown_objective_req = widgets.Dropdown(layout=layout_req)\n",
    "box_spacer_req = widgets.Box(layout=layout_req)\n",
    "button_save_req = widgets.Button(description='Save', layout=layout_req)\n",
    "hbox_triumph_req.children = [label_triumph_req,dropdown_triumph_req,dropdown_objective_req, box_spacer_req, button_save_req]\n",
    "\n",
    "def change_triumph(change):\n",
    "    output_req.clear_output()\n",
    "    with output_req: print_map(triumphs[change['new']])\n",
    "    dropdown_objective_req.options = list(triumphs[change['new']]['objectives'].keys())\n",
    "    \n",
    "\n",
    "    \n",
    "dropdown_triumph_req.observe(change_triumph, names='value')\n",
    "\n",
    "\n",
    "\n",
    "#----------------------Class----------------------------\n",
    "\n",
    "\n",
    "hbox_class_req = widgets.HBox()\n",
    "label_class_req = widgets.Label(value='Class:',layout=layout_label_req)\n",
    "dropdown_class_req = widgets.Dropdown(options=possible_requirements['Class'],layout=layout_req)\n",
    "dropdown_subclass_req = widgets.Dropdown(disabled = True, options = ['Any'],layout=layout_req)\n",
    "dropdown_tree_req = widgets.Dropdown(disabled = True, options = ['Any'],layout=layout_req)\n",
    "dropdown_grenade_req = widgets.Dropdown(disabled = True, options = ['Any'],layout=layout_req)\n",
    "hbox_class_req.children = [\n",
    "    label_class_req,\n",
    "    dropdown_class_req,\n",
    "    dropdown_subclass_req,\n",
    "    dropdown_tree_req,\n",
    "    dropdown_grenade_req\n",
    "]\n",
    "\n",
    "def change_class(change):\n",
    "    if change['new'] == 'Any':\n",
    "        dropdown_subclass_req.options = ['Any']\n",
    "        dropdown_subclass_req.disabled = True\n",
    "    else:\n",
    "        dropdown_subclass_req.options = possible_requirements['Subclass'][change['new']]\n",
    "        dropdown_subclass_req.disabled = False\n",
    "        \n",
    "def change_subclass(change):\n",
    "    if change['new'] == 'Any':\n",
    "        dropdown_tree_req.options = ['Any']\n",
    "        dropdown_tree_req.disabled = True\n",
    "        dropdown_grenade_req.options = ['Any']\n",
    "        dropdown_grenade_req.disabled = True\n",
    "    else:\n",
    "        dropdown_tree_req.options = possible_requirements['Tree'][dropdown_class_req.value][change['new']]\n",
    "        dropdown_tree_req.disabled = False\n",
    "        dropdown_grenade_req.options = possible_requirements['Grenade'][dropdown_class_req.value][change['new']]\n",
    "        dropdown_grenade_req.disabled = False\n",
    "\n",
    "dropdown_class_req.observe(change_class, names = 'value')\n",
    "dropdown_subclass_req.observe(change_subclass, names = 'value')\n",
    "\n",
    "\n",
    "#---------------Weapon-----------------------\n",
    "\n",
    "\n",
    "hbox_weapon_req = widgets.HBox()\n",
    "label_weapon_req = widgets.Label(value='Weapon:',layout=layout_label_req)\n",
    "dropdown_weapon_slot_req = widgets.Dropdown(options = possible_requirements['Weapon Slot'],layout=layout_req)\n",
    "dropdown_weapon_ammo_req = widgets.Dropdown(options = possible_requirements['Weapon Ammo'],layout=layout_req)\n",
    "dropdown_weapon_type_req = widgets.Dropdown(options = possible_requirements['Weapon Type'],layout=layout_req)\n",
    "dropdown_weapon_energy_req = widgets.Dropdown(options = possible_requirements['Weapon Energy'],layout=layout_req)\n",
    "\n",
    "\n",
    "hbox_weapon_req.children = [\n",
    "    label_weapon_req,\n",
    "    dropdown_weapon_slot_req,\n",
    "    dropdown_weapon_energy_req,\n",
    "    dropdown_weapon_type_req,\n",
    "    dropdown_weapon_ammo_req\n",
    "]\n",
    "\n",
    "stop_refresh_weapon = False\n",
    "\n",
    "#TODO: need to add functionality to set weapon slot type\n",
    "\n",
    "def refresh_weapon(dropdown, old, new):\n",
    "    global stop_refresh_weapon\n",
    "    if not stop_refresh_weapon:\n",
    "        stop_refresh_weapon = True\n",
    "        if dropdown == 'type':\n",
    "            if new != 'Any':\n",
    "                for ammo in possible_requirements['Weapon Ammo Type']:\n",
    "                    if new in possible_requirements['Weapon Ammo Type'][ammo]:\n",
    "                        dropdown_weapon_ammo_req.value = ammo\n",
    "                        dropdown_weapon_type_req.options = possible_requirements['Weapon Ammo Type'][ammo]\n",
    "                        dropdown_weapon_type_req.value = new\n",
    "        elif dropdown == 'ammo':\n",
    "            dropdown_weapon_type_req.value = 'Any'\n",
    "            if new == 'Any':\n",
    "                dropdown_weapon_type_req.options = possible_requirements['Weapon Type']\n",
    "            else:\n",
    "                 dropdown_weapon_type_req.options = possible_requirements['Weapon Ammo Type'][new]\n",
    "        stop_refresh_weapon = False \n",
    "            \n",
    "\n",
    "def change_weapon_type(change):\n",
    "    refresh_weapon('type',change['old'],change['new'])\n",
    "\n",
    "def change_weapon_ammo(change):\n",
    "    refresh_weapon('ammo',change['old'],change['new'])\n",
    "\n",
    "    \n",
    "dropdown_weapon_type_req.observe(change_weapon_type, names = 'value')\n",
    "dropdown_weapon_ammo_req.observe(change_weapon_ammo, names = 'value')\n",
    "\n",
    "\n",
    "#-----------------------------Activity------------------------------\n",
    "\n",
    "\n",
    "hbox_activity_req = widgets.HBox()\n",
    "label_activity_req = widgets.Label(value='Activity:',layout=layout_label_req)\n",
    "dropdown_activity_type_req = widgets.Dropdown(options = possible_requirements['Activity Type'],layout=layout_req)\n",
    "dropdown_activity_req = widgets.Dropdown(disabled = True, options = ['Any'],layout=layout_req)\n",
    "\n",
    "hbox_activity_req.children = [\n",
    "    label_activity_req,\n",
    "    dropdown_activity_type_req,\n",
    "    dropdown_activity_req\n",
    "]\n",
    "\n",
    "def change_activity_type(change):\n",
    "    if change['new'] == 'Any':\n",
    "        dropdown_activity_req.options = ['Any']\n",
    "        dropdown_activity_req.disabled = True\n",
    "    else:\n",
    "        dropdown_activity_req.options = possible_requirements['Activity'][change['new']]\n",
    "        dropdown_activity_req.disabled = False\n",
    "\n",
    "dropdown_activity_type_req.observe(change_activity_type, names = 'value')\n",
    "        \n",
    "vbox_req = widgets.VBox(children=[hbox_triumph_req,hbox_class_req,hbox_weapon_req,hbox_activity_req])\n",
    "\n",
    "\n",
    "\n",
    "def load_objective(objective):\n",
    "    if objective in requirements:\n",
    "        dropdown_class_req.value = requirements[objective]['Class']\n",
    "        dropdown_subclass_req.value = requirements[objective]['Subclass']\n",
    "        dropdown_tree_req.value = requirements[objective]['Tree']\n",
    "        dropdown_grenade_req.value = requirements[objective]['Grenade']\n",
    "        dropdown_weapon_slot_req.value = requirements[objective]['Weapon Slot']\n",
    "        dropdown_weapon_ammo_req.value = requirements[objective]['Weapon Ammo']\n",
    "        dropdown_weapon_type_req.value = requirements[objective]['Weapon Type']\n",
    "        dropdown_weapon_energy_req.value = requirements[objective]['Weapon Energy']\n",
    "        dropdown_activity_type_req.value = requirements[objective]['Activity Type']\n",
    "        dropdown_activity_req.value = requirements[objective]['Activity']\n",
    "    else:\n",
    "        dropdown_class_req.value = 'Any'\n",
    "        dropdown_subclass_req.value = 'Any'\n",
    "        dropdown_tree_req.value = 'Any'\n",
    "        dropdown_grenade_req.value = 'Any'\n",
    "        dropdown_weapon_slot_req.value = 'Any'\n",
    "        dropdown_weapon_ammo_req.value = 'Any'\n",
    "        dropdown_weapon_type_req.value = 'Any'\n",
    "        dropdown_weapon_energy_req.value = 'Any'\n",
    "        dropdown_activity_type_req.value = 'Any'\n",
    "        dropdown_activity_req.value = 'Any'\n",
    "    \n",
    "def save_objective(b):\n",
    "    objective = dropdown_objective_req.value\n",
    "    if objective not in requirements:\n",
    "        requirements[objective] = {}\n",
    "    requirements[objective]['Class'] = dropdown_class_req.value\n",
    "    requirements[objective]['Subclass'] = dropdown_subclass_req.value\n",
    "    requirements[objective]['Tree'] = dropdown_tree_req.value\n",
    "    requirements[objective]['Grenade'] = dropdown_grenade_req.value\n",
    "    requirements[objective]['Weapon Slot'] = dropdown_weapon_slot_req.value\n",
    "    requirements[objective]['Weapon Ammo'] = dropdown_weapon_ammo_req.value\n",
    "    requirements[objective]['Weapon Type'] = dropdown_weapon_type_req.value\n",
    "    requirements[objective]['Weapon Energy'] = dropdown_weapon_energy_req.value\n",
    "    requirements[objective]['Activity Type'] = dropdown_activity_type_req.value\n",
    "    requirements[objective]['Activity'] = dropdown_activity_req.value\n",
    "    with open('requirements.data', 'wb') as filehandle:\n",
    "        pickle.dump(requirements, filehandle) \n",
    "    \n",
    "\n",
    "def change_objective(change):\n",
    "    load_objective(change['new'])\n",
    "    \n",
    "dropdown_objective_req.observe(change_objective, names='value')\n",
    "button_save_req.on_click(save_objective)\n",
    "\n",
    "dropdown_triumph_req.value = list(triumphs.keys())[-1]\n",
    "dropdown_triumph_req.value = list(triumphs.keys())[0]\n"
   ]
  }
 ],
 "metadata": {
  "kernelspec": {
   "display_name": "Python 3",
   "language": "python",
   "name": "python3"
  },
  "language_info": {
   "codemirror_mode": {
    "name": "ipython",
    "version": 3
   },
   "file_extension": ".py",
   "mimetype": "text/x-python",
   "name": "python",
   "nbconvert_exporter": "python",
   "pygments_lexer": "ipython3",
   "version": "3.7.4"
  },
  "widgets": {
   "application/vnd.jupyter.widget-state+json": {
    "state": {
     "007a7a8d5dd64345bad0ad876cd7e8a5": {
      "model_module": "@jupyter-widgets/base",
      "model_module_version": "1.2.0",
      "model_name": "LayoutModel",
      "state": {
       "width": "60px"
      }
     },
     "00c27e2e45804ad08eb99ac1d09c86b3": {
      "model_module": "@jupyter-widgets/controls",
      "model_module_version": "1.5.0",
      "model_name": "ButtonModel",
      "state": {
       "layout": "IPY_MODEL_99dd4274dc9340229c4f24a89feeae98",
       "style": "IPY_MODEL_eb3e5ca600744c329e0d4dace4a37219"
      }
     },
     "00c58da8b5e5472ca68231458e8914cf": {
      "model_module": "@jupyter-widgets/controls",
      "model_module_version": "1.5.0",
      "model_name": "ButtonStyleModel",
      "state": {}
     },
     "0126fd3e2e474c26aa2b2f5c67564cda": {
      "model_module": "@jupyter-widgets/base",
      "model_module_version": "1.2.0",
      "model_name": "LayoutModel",
      "state": {}
     },
     "019465e3ff244e0ba241c47c61644c6a": {
      "model_module": "@jupyter-widgets/controls",
      "model_module_version": "1.5.0",
      "model_name": "ButtonModel",
      "state": {
       "description": "EDIT",
       "layout": "IPY_MODEL_007a7a8d5dd64345bad0ad876cd7e8a5",
       "style": "IPY_MODEL_e9060885aec742a4aea9229468d506e8"
      }
     },
     "01c0d171d1bc4dc68f5a9b2650ca2f35": {
      "model_module": "@jupyter-widgets/controls",
      "model_module_version": "1.5.0",
      "model_name": "VBoxModel",
      "state": {
       "children": [
        "IPY_MODEL_205de1ad37a34135b864b7a3bed7ab45",
        "IPY_MODEL_7f68e29a56b94a3fac87a9b2549b8058",
        "IPY_MODEL_0bf4a194143b4508a2f342b4515f635f",
        "IPY_MODEL_6841a96dcb344aa597535a3aa173e7d9",
        "IPY_MODEL_7737e5ad79a64e8e9bc76094bd536fea",
        "IPY_MODEL_bb0374e9777a4083bdaaeb9f1684781a"
       ],
       "layout": "IPY_MODEL_eea66efc72b5418dbf8b1e9a85e854a6"
      }
     },
     "01d666b24e7042e5bd1df02498c0ce78": {
      "model_module": "@jupyter-widgets/base",
      "model_module_version": "1.2.0",
      "model_name": "LayoutModel",
      "state": {
       "order": "-1",
       "overflow": "visible",
       "padding": "1px",
       "width": "0px"
      }
     },
     "02010b7a0cab414a8d4f424e7f0a3663": {
      "model_module": "@jupyter-widgets/base",
      "model_module_version": "1.2.0",
      "model_name": "LayoutModel",
      "state": {
       "height": "32px",
       "overflow": "visible",
       "width": "100%"
      }
     },
     "0229f8ec90054689924689719311311f": {
      "model_module": "@jupyter-widgets/controls",
      "model_module_version": "1.5.0",
      "model_name": "LabelModel",
      "state": {
       "layout": "IPY_MODEL_74d0ca9129a9444287c3b8fa3cfae9c1",
       "style": "IPY_MODEL_fb025d1083e342ddaaeea6dd007513cb",
       "value": "    My Bowfriend's Back (3/1)"
      }
     },
     "0266e136e8ee442e9dee1837f2a798e3": {
      "model_module": "@jupyter-widgets/controls",
      "model_module_version": "1.5.0",
      "model_name": "IntProgressModel",
      "state": {
       "layout": "IPY_MODEL_2e4264fd190a426d9654f7841fc1ab46",
       "style": "IPY_MODEL_e0f34ce62e2246a0b435bf4f9fd41333",
       "value": 30
      }
     },
     "0281927da21544c3913eae23a21267f6": {
      "model_module": "@jupyter-widgets/base",
      "model_module_version": "1.2.0",
      "model_name": "LayoutModel",
      "state": {
       "order": "-1",
       "overflow": "visible",
       "padding": "1px",
       "width": "0px"
      }
     },
     "02fb3258abef4580aecffbad7fdedc03": {
      "model_module": "@jupyter-widgets/controls",
      "model_module_version": "1.5.0",
      "model_name": "ProgressStyleModel",
      "state": {
       "description_width": ""
      }
     },
     "037b12d734a14f6d922eac88c81ea5c7": {
      "model_module": "@jupyter-widgets/controls",
      "model_module_version": "1.5.0",
      "model_name": "IntProgressModel",
      "state": {
       "layout": "IPY_MODEL_c5dd86537be34694992ea7299b07b257",
       "max": 1,
       "style": "IPY_MODEL_3887066631154ebbb88858635817b944"
      }
     },
     "03c4dbcf96634497800cc5835415de34": {
      "model_module": "@jupyter-widgets/base",
      "model_module_version": "1.2.0",
      "model_name": "LayoutModel",
      "state": {
       "height": "32px",
       "order": "-2",
       "width": "32px"
      }
     },
     "04419a52f92e42a8bb33b8cdeee152c6": {
      "model_module": "@jupyter-widgets/controls",
      "model_module_version": "1.5.0",
      "model_name": "DescriptionStyleModel",
      "state": {
       "description_width": ""
      }
     },
     "04d7bbb4a78b401888e86087367e2f5a": {
      "model_module": "@jupyter-widgets/controls",
      "model_module_version": "1.5.0",
      "model_name": "VBoxModel",
      "state": {
       "children": [
        "IPY_MODEL_db5ed5bdfa824328aa9bf91d6ac66567",
        "IPY_MODEL_bd7d89f00a3c4658ab7d10e9441e1411",
        "IPY_MODEL_8620af0ed8ea4bbcb87ae6f62e53d2bf",
        "IPY_MODEL_c832e7588a6b478eafc0950ca3a4cc37"
       ],
       "layout": "IPY_MODEL_eeefba6e662649c7a6edd2312d59a212"
      }
     },
     "0505a66a20134b54b3e6819c73bdab43": {
      "model_module": "@jupyter-widgets/controls",
      "model_module_version": "1.5.0",
      "model_name": "LabelModel",
      "state": {
       "layout": "IPY_MODEL_3eddedae9059435480360c87c23040c5",
       "style": "IPY_MODEL_c731cf7a3252406e8b49808dcf471d5d",
       "value": "   objective"
      }
     },
     "050ab7813e6a4f299864dc8f351e4fc5": {
      "model_module": "@jupyter-widgets/controls",
      "model_module_version": "1.5.0",
      "model_name": "ProgressStyleModel",
      "state": {
       "description_width": ""
      }
     },
     "051de92f556d44839ddbedaaba274085": {
      "model_module": "@jupyter-widgets/controls",
      "model_module_version": "1.5.0",
      "model_name": "ButtonModel",
      "state": {
       "layout": "IPY_MODEL_94d0219c19104b3ba81c6501ad537b32",
       "style": "IPY_MODEL_939d056540d14c0593a1ef77dbbd2375"
      }
     },
     "054a7124fc664e62b9b5609a662dc886": {
      "model_module": "@jupyter-widgets/controls",
      "model_module_version": "1.5.0",
      "model_name": "ProgressStyleModel",
      "state": {
       "description_width": ""
      }
     },
     "054f3434c35c47b4b117c5ced011b09d": {
      "model_module": "@jupyter-widgets/base",
      "model_module_version": "1.2.0",
      "model_name": "LayoutModel",
      "state": {
       "display": "none"
      }
     },
     "058c3d826aaf422380a7b51e56658a58": {
      "model_module": "@jupyter-widgets/controls",
      "model_module_version": "1.5.0",
      "model_name": "LabelModel",
      "state": {
       "layout": "IPY_MODEL_0b26352be88a46b39285b479f3b51465",
       "style": "IPY_MODEL_b773b494fddf49c5a57e254c21608b21",
       "value": "   objective"
      }
     },
     "05b140529bbf4163ad85506178c41cc8": {
      "model_module": "@jupyter-widgets/controls",
      "model_module_version": "1.5.0",
      "model_name": "DescriptionStyleModel",
      "state": {
       "description_width": ""
      }
     },
     "05bb0eb398e0415996bcf84281f75e78": {
      "model_module": "@jupyter-widgets/controls",
      "model_module_version": "1.5.0",
      "model_name": "DescriptionStyleModel",
      "state": {
       "description_width": ""
      }
     },
     "05cd2ed72eb244bdbd229f450d35a5d8": {
      "model_module": "@jupyter-widgets/base",
      "model_module_version": "1.2.0",
      "model_name": "LayoutModel",
      "state": {
       "order": "-1",
       "overflow": "visible",
       "padding": "1px",
       "width": "0px"
      }
     },
     "06041921aa124627a86b83f27939f82b": {
      "model_module": "@jupyter-widgets/base",
      "model_module_version": "1.2.0",
      "model_name": "LayoutModel",
      "state": {
       "order": "-1",
       "overflow": "visible",
       "padding": "1px",
       "width": "0px"
      }
     },
     "0691ef88576d443f95811647feaffc8b": {
      "model_module": "@jupyter-widgets/controls",
      "model_module_version": "1.5.0",
      "model_name": "ProgressStyleModel",
      "state": {
       "description_width": ""
      }
     },
     "072426ba5a9b40e5a4e44064bdff79dc": {
      "model_module": "@jupyter-widgets/controls",
      "model_module_version": "1.5.0",
      "model_name": "ButtonModel",
      "state": {
       "description": "EDIT",
       "layout": "IPY_MODEL_e024b0be038c4ce48f339ba43601ab8f",
       "style": "IPY_MODEL_254fa71368e54998a15081ee569e0503"
      }
     },
     "07367551068144309ff93d1438d91f84": {
      "model_module": "@jupyter-widgets/base",
      "model_module_version": "1.2.0",
      "model_name": "LayoutModel",
      "state": {
       "height": "32px",
       "overflow": "visible",
       "width": "100%"
      }
     },
     "075455104bba4e91bf833c5359fe062d": {
      "model_module": "@jupyter-widgets/controls",
      "model_module_version": "1.5.0",
      "model_name": "LabelModel",
      "state": {
       "layout": "IPY_MODEL_0d9a91e0915949bb9375f4e3c55a6c22",
       "style": "IPY_MODEL_57fc16497e6b4294802b8e6c622b91cf",
       "value": "   objective"
      }
     },
     "0767973db8754af988f69e7eb2857002": {
      "model_module": "@jupyter-widgets/controls",
      "model_module_version": "1.5.0",
      "model_name": "ButtonStyleModel",
      "state": {}
     },
     "076f739b46fa4b65abc12e42390400f9": {
      "model_module": "@jupyter-widgets/base",
      "model_module_version": "1.2.0",
      "model_name": "LayoutModel",
      "state": {
       "height": "32px",
       "order": "-2",
       "width": "32px"
      }
     },
     "078f627d32df40c08591649effcd6e2b": {
      "model_module": "@jupyter-widgets/controls",
      "model_module_version": "1.5.0",
      "model_name": "HBoxModel",
      "state": {
       "children": [
        "IPY_MODEL_94ffa0819e53469894443a45807659f5",
        "IPY_MODEL_8ad01b97dd8c4c818c3f606d5a3c5bcf",
        "IPY_MODEL_8e09e87e80ac4b88ab7709abfe79d689",
        "IPY_MODEL_d48a126251e44b4c85f5fc40cd88ef8e"
       ],
       "layout": "IPY_MODEL_d2ddf21293294399913660a66909317e"
      }
     },
     "078fdf386e3f4b4d92651e920ec3b02c": {
      "model_module": "@jupyter-widgets/controls",
      "model_module_version": "1.5.0",
      "model_name": "ButtonModel",
      "state": {
       "description": "EDIT",
       "layout": "IPY_MODEL_aff47f6a47024fa78839bf81ce7dcfbc",
       "style": "IPY_MODEL_dd90bc5258a1494997576c2e239b82d5"
      }
     },
     "0806d6abbd6045caa403db7434c5671d": {
      "model_module": "@jupyter-widgets/controls",
      "model_module_version": "1.5.0",
      "model_name": "HTMLModel",
      "state": {
       "layout": "IPY_MODEL_49c9cfa38a914989aa1e20fd16dd747b",
       "style": "IPY_MODEL_05b140529bbf4163ad85506178c41cc8",
       "value": "<font size=\"1\">Triumphs/Lore/Dusk and Dawn/Revelation</font size=>"
      }
     },
     "081260656c9b4222a9a7bd910d54f5b0": {
      "model_module": "@jupyter-widgets/controls",
      "model_module_version": "1.5.0",
      "model_name": "DescriptionStyleModel",
      "state": {
       "description_width": ""
      }
     },
     "081a6176a8994b56850e66fb940eb115": {
      "model_module": "@jupyter-widgets/base",
      "model_module_version": "1.2.0",
      "model_name": "LayoutModel",
      "state": {
       "height": "32px",
       "order": "-2",
       "width": "32px"
      }
     },
     "0846fdd1540740e093f9211e2fb9fb8e": {
      "model_module": "@jupyter-widgets/controls",
      "model_module_version": "1.5.0",
      "model_name": "LabelModel",
      "state": {
       "layout": "IPY_MODEL_7f238bc6e85341c0852bdaef6d11a3a6",
       "style": "IPY_MODEL_e24aa0769c9a40a6a5f7a2600ea55fe4",
       "value": "   objective"
      }
     },
     "0862d8c061e44d0eb6feb0c1fdd90da5": {
      "model_module": "@jupyter-widgets/controls",
      "model_module_version": "1.5.0",
      "model_name": "DescriptionStyleModel",
      "state": {
       "description_width": ""
      }
     },
     "08ca501b9cfa485582029c21ac0114c9": {
      "model_module": "@jupyter-widgets/controls",
      "model_module_version": "1.5.0",
      "model_name": "LabelModel",
      "state": {
       "layout": "IPY_MODEL_84ddb4eacbf3498499473df5ac703e9d",
       "style": "IPY_MODEL_7eeb5f4173614f4fa510c5d22db66c6e",
       "value": "   objective"
      }
     },
     "08e9036683574754849f34fb6a0d1556": {
      "model_module": "@jupyter-widgets/controls",
      "model_module_version": "1.5.0",
      "model_name": "LabelModel",
      "state": {
       "layout": "IPY_MODEL_fd72c26d5f664d11ae72f8ef9b913acc",
       "style": "IPY_MODEL_1c267387e3d8405a9d62c93476fc09a7",
       "value": "   objective"
      }
     },
     "0900321284da442582069721db8182b7": {
      "model_module": "@jupyter-widgets/controls",
      "model_module_version": "1.5.0",
      "model_name": "ButtonStyleModel",
      "state": {}
     },
     "090aee04baff4519983a682e8cf61cc5": {
      "model_module": "@jupyter-widgets/controls",
      "model_module_version": "1.5.0",
      "model_name": "ProgressStyleModel",
      "state": {
       "description_width": ""
      }
     },
     "091b79541ae74271aef0919e2830f488": {
      "model_module": "@jupyter-widgets/controls",
      "model_module_version": "1.5.0",
      "model_name": "ButtonModel",
      "state": {
       "button_style": "info",
       "layout": "IPY_MODEL_8bba68ae9aa34ad28aabff03bb7fa32a",
       "style": "IPY_MODEL_b296b1211ba347ed896cf6fa19aa8a2b"
      }
     },
     "091f920ce77146c4991ead5ec6803f2f": {
      "model_module": "@jupyter-widgets/controls",
      "model_module_version": "1.5.0",
      "model_name": "LabelModel",
      "state": {
       "layout": "IPY_MODEL_df52dcc749414bf5abcf9bbc471ec632",
       "style": "IPY_MODEL_68a58f3d9d334041ab01471e50ec0bac",
       "value": "     (0/1)"
      }
     },
     "098f15bd610749b9a3d6fd723d637542": {
      "model_module": "@jupyter-widgets/base",
      "model_module_version": "1.2.0",
      "model_name": "LayoutModel",
      "state": {
       "height": "32px",
       "overflow": "visible",
       "width": "100%"
      }
     },
     "09b5d17606db4e2b8f966ae03e117957": {
      "model_module": "@jupyter-widgets/controls",
      "model_module_version": "1.5.0",
      "model_name": "VBoxModel",
      "state": {
       "children": [
        "IPY_MODEL_41a56b28a9f64bf8baa59f014dd3c76f",
        "IPY_MODEL_5f7ac920852241ef9b16336cc1fe11b8",
        "IPY_MODEL_7ee802b47b0c48c99f5043f2e8ac2acf"
       ],
       "layout": "IPY_MODEL_f6afe03031134881a713a6dc30062f9c"
      }
     },
     "09ba6e1544d2401e9a813535e7dd3b71": {
      "model_module": "@jupyter-widgets/base",
      "model_module_version": "1.2.0",
      "model_name": "LayoutModel",
      "state": {
       "height": "32px",
       "order": "-2",
       "width": "32px"
      }
     },
     "0a0f3ba3cdac40edbbab40dd141a5773": {
      "model_module": "@jupyter-widgets/controls",
      "model_module_version": "1.5.0",
      "model_name": "DescriptionStyleModel",
      "state": {
       "description_width": ""
      }
     },
     "0a192aaa8a07421ca6fdd238ebfb5f0b": {
      "model_module": "@jupyter-widgets/base",
      "model_module_version": "1.2.0",
      "model_name": "LayoutModel",
      "state": {
       "order": "-1",
       "overflow": "visible",
       "padding": "1px",
       "width": "0px"
      }
     },
     "0a87dfcecd4748be8912a19068d9d68f": {
      "model_module": "@jupyter-widgets/base",
      "model_module_version": "1.2.0",
      "model_name": "LayoutModel",
      "state": {
       "width": "60px"
      }
     },
     "0a95d3fa6b434b92aabcaa523cf00db5": {
      "model_module": "@jupyter-widgets/controls",
      "model_module_version": "1.5.0",
      "model_name": "ButtonStyleModel",
      "state": {}
     },
     "0ab5464c910e48ba9055134e2452dd66": {
      "model_module": "@jupyter-widgets/controls",
      "model_module_version": "1.5.0",
      "model_name": "HTMLModel",
      "state": {
       "layout": "IPY_MODEL_fe408b413fc24f989449741e3d54b49f",
       "style": "IPY_MODEL_3e335e708eac4b55bd48eae7e5718823",
       "value": "<font size=\"1\">Triumphs/Crucible/Lifetime/Valor Ranks</font size=>"
      }
     },
     "0ae484f251b44ca7b47030e3bdb388bd": {
      "model_module": "@jupyter-widgets/base",
      "model_module_version": "1.2.0",
      "model_name": "LayoutModel",
      "state": {
       "width": "60px"
      }
     },
     "0afb29db83494b31a16a4729ce4f0260": {
      "model_module": "@jupyter-widgets/base",
      "model_module_version": "1.2.0",
      "model_name": "LayoutModel",
      "state": {
       "display": "none"
      }
     },
     "0b26352be88a46b39285b479f3b51465": {
      "model_module": "@jupyter-widgets/base",
      "model_module_version": "1.2.0",
      "model_name": "LayoutModel",
      "state": {
       "order": "-1",
       "overflow": "visible",
       "padding": "1px",
       "width": "0px"
      }
     },
     "0b3b22e535644c4e9e5ff570664eb945": {
      "model_module": "@jupyter-widgets/base",
      "model_module_version": "1.2.0",
      "model_name": "LayoutModel",
      "state": {}
     },
     "0b78e292741444c199171100b22b5a2b": {
      "model_module": "@jupyter-widgets/base",
      "model_module_version": "1.2.0",
      "model_name": "LayoutModel",
      "state": {
       "width": "100px"
      }
     },
     "0ba89481fcd34c8599920e5c0a708895": {
      "model_module": "@jupyter-widgets/base",
      "model_module_version": "1.2.0",
      "model_name": "LayoutModel",
      "state": {
       "height": "32px",
       "order": "-2",
       "width": "32px"
      }
     },
     "0bac5521e4864e0e9701a72182eae46d": {
      "model_module": "@jupyter-widgets/controls",
      "model_module_version": "1.5.0",
      "model_name": "HTMLModel",
      "state": {
       "layout": "IPY_MODEL_f3af9415af0a4948914f4d199699bdb3",
       "style": "IPY_MODEL_59351bf7a2944955af4fe225b4dcbc2b",
       "value": "<font size=\"1\">Triumphs/Account/Character/Titan</font size=>"
      }
     },
     "0bf4a194143b4508a2f342b4515f635f": {
      "model_module": "@jupyter-widgets/controls",
      "model_module_version": "1.5.0",
      "model_name": "HBoxModel",
      "state": {
       "children": [
        "IPY_MODEL_3607050b1d57423db151d56341ee0761",
        "IPY_MODEL_7d1463085f1b4abba89f16481e6a2520",
        "IPY_MODEL_338fd43d06574871bedb6a0da7a47569",
        "IPY_MODEL_99a8dbf761e04551b97ebc434e2ccc64"
       ],
       "layout": "IPY_MODEL_f38095f3e37346d7a68d6a8d65de2fd4"
      }
     },
     "0c097fb774a4455fb0e50bb1dcc7e6df": {
      "model_module": "@jupyter-widgets/base",
      "model_module_version": "1.2.0",
      "model_name": "LayoutModel",
      "state": {
       "width": "60px"
      }
     },
     "0c4b7800296948b8b9bedd7eac260ed6": {
      "model_module": "@jupyter-widgets/base",
      "model_module_version": "1.2.0",
      "model_name": "LayoutModel",
      "state": {
       "height": "32px",
       "overflow": "visible",
       "width": "100%"
      }
     },
     "0cc266ffa2fe40aaa5065b2419e224d3": {
      "model_module": "@jupyter-widgets/controls",
      "model_module_version": "1.5.0",
      "model_name": "ButtonStyleModel",
      "state": {}
     },
     "0cf3ff3929ba4ad3a0cfb115db48fea7": {
      "model_module": "@jupyter-widgets/controls",
      "model_module_version": "1.5.0",
      "model_name": "ButtonStyleModel",
      "state": {}
     },
     "0cfe61de2adf42a1a8385ae2e1d04a45": {
      "model_module": "@jupyter-widgets/controls",
      "model_module_version": "1.5.0",
      "model_name": "ProgressStyleModel",
      "state": {
       "description_width": ""
      }
     },
     "0d076d63a7e94f189e974d81eccca10d": {
      "model_module": "@jupyter-widgets/controls",
      "model_module_version": "1.5.0",
      "model_name": "ButtonStyleModel",
      "state": {}
     },
     "0d16b4e8c05c469992a9f40abe05b66c": {
      "model_module": "@jupyter-widgets/base",
      "model_module_version": "1.2.0",
      "model_name": "LayoutModel",
      "state": {
       "height": "32px",
       "overflow": "visible",
       "width": "100%"
      }
     },
     "0d460376ccc2428380daf27d55980a39": {
      "model_module": "@jupyter-widgets/controls",
      "model_module_version": "1.5.0",
      "model_name": "ButtonModel",
      "state": {
       "layout": "IPY_MODEL_d465f666f04a496186a58b8fbe4c90f6",
       "style": "IPY_MODEL_d451699e317344f99b9011bf4e3ff11d"
      }
     },
     "0d48c726408b4cac9c93c5ba85737c45": {
      "model_module": "@jupyter-widgets/controls",
      "model_module_version": "1.5.0",
      "model_name": "HBoxModel",
      "state": {
       "children": [
        "IPY_MODEL_a2c591606c4143c496dc8a1f9bf694d9",
        "IPY_MODEL_2be25089939d4bd7b0bdbf789dd1e34f",
        "IPY_MODEL_70dafce3c5f84e0992f00a637ce615f6",
        "IPY_MODEL_588eb82fbbf54303bdcf50da5a20ecde"
       ],
       "layout": "IPY_MODEL_40fd20a4886e45b1bea8d87b451c31f9"
      }
     },
     "0d626cfc9a97411c80c720cb1834790a": {
      "model_module": "@jupyter-widgets/controls",
      "model_module_version": "1.5.0",
      "model_name": "HBoxModel",
      "state": {
       "children": [
        "IPY_MODEL_5db49d8a8220492bbeec000e119e504e",
        "IPY_MODEL_5b98101ca2c749d0a9e63a1a1d05334f",
        "IPY_MODEL_6c4931fc541f4190817b9371011c834b",
        "IPY_MODEL_b3869964107c49a3b92235275426b279"
       ],
       "layout": "IPY_MODEL_b7892aacfb654ad1b5932ef6d6353036"
      }
     },
     "0d9a91e0915949bb9375f4e3c55a6c22": {
      "model_module": "@jupyter-widgets/base",
      "model_module_version": "1.2.0",
      "model_name": "LayoutModel",
      "state": {
       "order": "-1",
       "overflow": "visible",
       "padding": "1px",
       "width": "0px"
      }
     },
     "0de7aa9779cd4f2b9ab340afdc57626a": {
      "model_module": "@jupyter-widgets/controls",
      "model_module_version": "1.5.0",
      "model_name": "HBoxModel",
      "state": {
       "children": [
        "IPY_MODEL_5e59954e22a44f618836275efec55a33",
        "IPY_MODEL_5a74fad74b0b436dafb5b91f4e55333b",
        "IPY_MODEL_47466ca584bc44cfb662fa8781f9a77d",
        "IPY_MODEL_a74ba11d244a4403aa1b9d135e74a7a4"
       ],
       "layout": "IPY_MODEL_9ea56d6d14df40cda220e3f2e748673e"
      }
     },
     "0e29123cf41448428b5e509bf66ee78c": {
      "model_module": "@jupyter-widgets/base",
      "model_module_version": "1.2.0",
      "model_name": "LayoutModel",
      "state": {
       "width": "60px"
      }
     },
     "0e97bdbd07ca42e19c3932be360d8846": {
      "model_module": "@jupyter-widgets/controls",
      "model_module_version": "1.5.0",
      "model_name": "HTMLModel",
      "state": {
       "layout": "IPY_MODEL_ed106c86276944af9490bdcd85a334dd",
       "style": "IPY_MODEL_6e0ca64efd13459dadc12e2e4c701b6d",
       "value": "<i>As a Striker, get kills with Lightning Grenades.</i>"
      }
     },
     "0e98aa6f9cb84335b13f973ae5303a77": {
      "model_module": "@jupyter-widgets/controls",
      "model_module_version": "1.5.0",
      "model_name": "ButtonModel",
      "state": {
       "layout": "IPY_MODEL_ed07d44545fe43c19ee40f7cfe0857a1",
       "style": "IPY_MODEL_b812c570d44748eb8e138a991c64c542"
      }
     },
     "0eabf1de57c04d42a61b00918eb2d3a3": {
      "model_module": "@jupyter-widgets/controls",
      "model_module_version": "1.5.0",
      "model_name": "HBoxModel",
      "state": {
       "children": [
        "IPY_MODEL_a1477bb782834f8387dbfaa4819d09c1",
        "IPY_MODEL_a9be253a625c4cefa1ad6cfdbc71ab36",
        "IPY_MODEL_79ed5e9b2f434f6b87385284179a7a57",
        "IPY_MODEL_8e3d7ebf02524976b6a868c619fb7e57"
       ],
       "layout": "IPY_MODEL_8c4f9a270fa84dbe83d671533ab84ec3"
      }
     },
     "0eb58ac6095b49069017693c1736987c": {
      "model_module": "@jupyter-widgets/controls",
      "model_module_version": "1.5.0",
      "model_name": "ButtonModel",
      "state": {
       "description": "EDIT",
       "layout": "IPY_MODEL_15fb2106d82a412ba004b8b39207dae2",
       "style": "IPY_MODEL_c0168f167f69419a904861c8884982f4"
      }
     },
     "0ef4a5d32c4148cca9f9b80b98cb3755": {
      "model_module": "@jupyter-widgets/base",
      "model_module_version": "1.2.0",
      "model_name": "LayoutModel",
      "state": {
       "height": "32px",
       "overflow": "visible",
       "width": "100%"
      }
     },
     "0f048f32984d4457a46a886702c643c2": {
      "model_module": "@jupyter-widgets/controls",
      "model_module_version": "1.5.0",
      "model_name": "DescriptionStyleModel",
      "state": {
       "description_width": ""
      }
     },
     "0f30f8c91300406c90734bb5560f2d16": {
      "model_module": "@jupyter-widgets/controls",
      "model_module_version": "1.5.0",
      "model_name": "ButtonStyleModel",
      "state": {}
     },
     "0f33496c662d4d9eba42c96a3f0998af": {
      "model_module": "@jupyter-widgets/controls",
      "model_module_version": "1.5.0",
      "model_name": "ButtonModel",
      "state": {
       "description": "EDIT",
       "layout": "IPY_MODEL_6188112db7944578b5e74782c7cee068",
       "style": "IPY_MODEL_36bcaa8986294d8faab5e04bfa56a407"
      }
     },
     "0f3a9eec596943cab0aecf784b512948": {
      "model_module": "@jupyter-widgets/controls",
      "model_module_version": "1.5.0",
      "model_name": "IntProgressModel",
      "state": {
       "layout": "IPY_MODEL_e9ffa842da5a49a69a7fb50238c6a002",
       "style": "IPY_MODEL_19ece303015e44d0a32962a4d3dadb37",
       "value": 30
      }
     },
     "0f9501cd206c4ccca73341cf8d36486d": {
      "model_module": "@jupyter-widgets/controls",
      "model_module_version": "1.5.0",
      "model_name": "VBoxModel",
      "state": {
       "children": [
        "IPY_MODEL_38a9c3e44395473da8ccbaf9e0370c8f",
        "IPY_MODEL_eb7cb3cd4e9040b0a19e5be9f1785541",
        "IPY_MODEL_0d626cfc9a97411c80c720cb1834790a",
        "IPY_MODEL_86a9c940967141cda6e07fe9c522d10d",
        "IPY_MODEL_0eabf1de57c04d42a61b00918eb2d3a3",
        "IPY_MODEL_7ae7f60bf1e84f49a191d3c198447804"
       ],
       "layout": "IPY_MODEL_2767109723364f29ab5b612ba6e6d352"
      }
     },
     "0fa90a9421bb452c9603cceab0fabbfa": {
      "model_module": "@jupyter-widgets/controls",
      "model_module_version": "1.5.0",
      "model_name": "HBoxModel",
      "state": {
       "children": [
        "IPY_MODEL_665fa03fc1184d5c9bf9e971b6a3fe3c",
        "IPY_MODEL_0f3a9eec596943cab0aecf784b512948",
        "IPY_MODEL_652414f9ba6948798a1359d0968a7fa4",
        "IPY_MODEL_5d8ba3f78cc147d59184864f5885c429"
       ],
       "layout": "IPY_MODEL_a133f0517930459089045fed748e662e"
      }
     },
     "0fdebf9d993f432fba8943ae013eee24": {
      "model_module": "@jupyter-widgets/base",
      "model_module_version": "1.2.0",
      "model_name": "LayoutModel",
      "state": {
       "width": "60px"
      }
     },
     "0ffb1897647b4e519968717809a48954": {
      "model_module": "@jupyter-widgets/base",
      "model_module_version": "1.2.0",
      "model_name": "LayoutModel",
      "state": {
       "height": "32px",
       "order": "-2",
       "width": "32px"
      }
     },
     "1015bb6664c44c88971c45afabd802d2": {
      "model_module": "@jupyter-widgets/base",
      "model_module_version": "1.2.0",
      "model_name": "LayoutModel",
      "state": {
       "order": "-1",
       "overflow": "visible",
       "padding": "1px",
       "width": "0px"
      }
     },
     "10433054606f488ba7393a3890066e87": {
      "model_module": "@jupyter-widgets/controls",
      "model_module_version": "1.5.0",
      "model_name": "ProgressStyleModel",
      "state": {
       "description_width": ""
      }
     },
     "105efbc0bf2548a78351cbea80bf713c": {
      "model_module": "@jupyter-widgets/base",
      "model_module_version": "1.2.0",
      "model_name": "LayoutModel",
      "state": {
       "order": "-1",
       "overflow": "visible",
       "padding": "1px",
       "width": "0px"
      }
     },
     "106e09c4864e4294b18e25694a87c649": {
      "model_module": "@jupyter-widgets/controls",
      "model_module_version": "1.5.0",
      "model_name": "DescriptionStyleModel",
      "state": {
       "description_width": ""
      }
     },
     "10ad94b33f5143fd80d7d928773bb9d1": {
      "model_module": "@jupyter-widgets/base",
      "model_module_version": "1.2.0",
      "model_name": "LayoutModel",
      "state": {
       "display": "none"
      }
     },
     "10c2722a28f54389b0254b3b677dbd90": {
      "model_module": "@jupyter-widgets/base",
      "model_module_version": "1.2.0",
      "model_name": "LayoutModel",
      "state": {
       "order": "-1",
       "overflow": "visible",
       "padding": "1px",
       "width": "0px"
      }
     },
     "111781b98a144d9e9679b4ec54dc8a1a": {
      "model_module": "@jupyter-widgets/controls",
      "model_module_version": "1.5.0",
      "model_name": "ButtonStyleModel",
      "state": {}
     },
     "112376f9d6834b5a97ad864f0f1faef6": {
      "model_module": "@jupyter-widgets/controls",
      "model_module_version": "1.5.0",
      "model_name": "ButtonModel",
      "state": {
       "description": "EDIT",
       "layout": "IPY_MODEL_619ac41ab0dd4e2093b8a1503da5f99f",
       "style": "IPY_MODEL_8affb9efe9764ed6a0ec9e40cb108f52"
      }
     },
     "113f939720d1428a99e33b5e9472a2df": {
      "model_module": "@jupyter-widgets/controls",
      "model_module_version": "1.5.0",
      "model_name": "IntProgressModel",
      "state": {
       "layout": "IPY_MODEL_cc6460d84d9e47c3b3305b4c601f814b",
       "style": "IPY_MODEL_320fd60b49044ffba9ac4bda7f6ee088",
       "value": 30
      }
     },
     "11586464eabe4d33b0da07a6ad7c65a5": {
      "model_module": "@jupyter-widgets/controls",
      "model_module_version": "1.5.0",
      "model_name": "DescriptionStyleModel",
      "state": {
       "description_width": ""
      }
     },
     "117d62acbac9416993790e41cc773bff": {
      "model_module": "@jupyter-widgets/controls",
      "model_module_version": "1.5.0",
      "model_name": "ButtonStyleModel",
      "state": {}
     },
     "11a98098ca7f46ebb789e0e606dbf048": {
      "model_module": "@jupyter-widgets/controls",
      "model_module_version": "1.5.0",
      "model_name": "DescriptionStyleModel",
      "state": {
       "description_width": ""
      }
     },
     "11dd7d31be8e4e7a841fe10c8fb3c8ef": {
      "model_module": "@jupyter-widgets/base",
      "model_module_version": "1.2.0",
      "model_name": "LayoutModel",
      "state": {
       "display": "none"
      }
     },
     "1220f4c927d54303bf4f0113dedfc860": {
      "model_module": "@jupyter-widgets/controls",
      "model_module_version": "1.5.0",
      "model_name": "LabelModel",
      "state": {
       "layout": "IPY_MODEL_e12a9e39e3844e439010befb6e43c7b5",
       "style": "IPY_MODEL_4447b067d02348bf96bacbd42992b317",
       "value": "   objective"
      }
     },
     "1235fc51d2774d848b413d95091d8f04": {
      "model_module": "@jupyter-widgets/controls",
      "model_module_version": "1.5.0",
      "model_name": "ButtonModel",
      "state": {
       "description": "EDIT",
       "layout": "IPY_MODEL_ed859aeede8f4cca93f68da09b723259",
       "style": "IPY_MODEL_1a625818acb04ba29c42c50c2513954b"
      }
     },
     "125dba09c3a143c8a2a6bed9dc8277dc": {
      "model_module": "@jupyter-widgets/base",
      "model_module_version": "1.2.0",
      "model_name": "LayoutModel",
      "state": {
       "order": "-1",
       "overflow": "visible",
       "padding": "1px",
       "width": "0px"
      }
     },
     "126b3e09f482406e92597e85058c1180": {
      "model_module": "@jupyter-widgets/controls",
      "model_module_version": "1.5.0",
      "model_name": "HTMLModel",
      "state": {
       "layout": "IPY_MODEL_f7a61faf35524c2199b0944cc504d83b",
       "style": "IPY_MODEL_16780fbe8fc94cfa872a6462e4b2f6b5",
       "value": "<i>Win a Gambit Prime match while wearing a full set of Notorious armor.</i>"
      }
     },
     "127ce6896bcf482ba0ad43544cb402bf": {
      "model_module": "@jupyter-widgets/base",
      "model_module_version": "1.2.0",
      "model_name": "LayoutModel",
      "state": {
       "height": "32px",
       "order": "-2",
       "width": "32px"
      }
     },
     "12d83ce8f8be4174a067c6b84f1d09de": {
      "model_module": "@jupyter-widgets/controls",
      "model_module_version": "1.5.0",
      "model_name": "IntProgressModel",
      "state": {
       "layout": "IPY_MODEL_f61d3dfcbccc453aa0ae481552d82c6e",
       "style": "IPY_MODEL_270d64d80f604bbb9b4a3d60f1f8e250",
       "value": 30
      }
     },
     "1308d81fd4d34eb4aaa5ce2fe7c311b0": {
      "model_module": "@jupyter-widgets/base",
      "model_module_version": "1.2.0",
      "model_name": "LayoutModel",
      "state": {
       "display": "none"
      }
     },
     "133e31e728874ace8412bbc0d4cdac9f": {
      "model_module": "@jupyter-widgets/base",
      "model_module_version": "1.2.0",
      "model_name": "LayoutModel",
      "state": {
       "height": "32px",
       "overflow": "visible",
       "width": "100%"
      }
     },
     "13c2008839a146e0be403eab447d7ea7": {
      "model_module": "@jupyter-widgets/controls",
      "model_module_version": "1.5.0",
      "model_name": "DescriptionStyleModel",
      "state": {
       "description_width": ""
      }
     },
     "143de58fb37c4b1ea4f8a73cfa764aeb": {
      "model_module": "@jupyter-widgets/controls",
      "model_module_version": "1.5.0",
      "model_name": "DescriptionStyleModel",
      "state": {
       "description_width": ""
      }
     },
     "149d6a7238ca4c9daf72d18af8ea4b8c": {
      "model_module": "@jupyter-widgets/controls",
      "model_module_version": "1.5.0",
      "model_name": "ButtonModel",
      "state": {
       "layout": "IPY_MODEL_496ed5d8d6b1477c8899b93a1702ac30",
       "style": "IPY_MODEL_85b8f21e0f6b4842a3be4372db00fde5"
      }
     },
     "149da2969e1047e89e50ed800e079191": {
      "model_module": "@jupyter-widgets/controls",
      "model_module_version": "1.5.0",
      "model_name": "ProgressStyleModel",
      "state": {
       "description_width": ""
      }
     },
     "14aac1e3f5f148f98ac4c708d9e2c6fc": {
      "model_module": "@jupyter-widgets/base",
      "model_module_version": "1.2.0",
      "model_name": "LayoutModel",
      "state": {}
     },
     "14b21657b5b7444a85f5fb3c9a49c34b": {
      "model_module": "@jupyter-widgets/controls",
      "model_module_version": "1.5.0",
      "model_name": "HTMLModel",
      "state": {
       "layout": "IPY_MODEL_77e1c5ae6f4142eb9fb3f81348a1ab4a",
       "style": "IPY_MODEL_2ea5f48f83854dec9b5d365fca3aeffb",
       "value": "<font size=\"5\"><b>Prime Fashion</b></font size=>"
      }
     },
     "14b738921d7d42c8856ff398869a5aef": {
      "model_module": "@jupyter-widgets/base",
      "model_module_version": "1.2.0",
      "model_name": "LayoutModel",
      "state": {
       "height": "32px",
       "order": "-2",
       "width": "32px"
      }
     },
     "14ce1b6fa5b84df897ed5136c1554e3b": {
      "model_module": "@jupyter-widgets/base",
      "model_module_version": "1.2.0",
      "model_name": "LayoutModel",
      "state": {}
     },
     "14d13b3423e040d28946fa3bf9a7a096": {
      "model_module": "@jupyter-widgets/controls",
      "model_module_version": "1.5.0",
      "model_name": "ProgressStyleModel",
      "state": {
       "description_width": ""
      }
     },
     "1524400cd11a4523bc08bcb4697c4bd1": {
      "model_module": "@jupyter-widgets/base",
      "model_module_version": "1.2.0",
      "model_name": "LayoutModel",
      "state": {
       "order": "-1",
       "overflow": "visible",
       "padding": "1px",
       "width": "0px"
      }
     },
     "154c53ba28364209af6367a480d16f49": {
      "model_module": "@jupyter-widgets/controls",
      "model_module_version": "1.5.0",
      "model_name": "LabelModel",
      "state": {
       "layout": "IPY_MODEL_9186b0539df04a8c83d69f3c52e998f4",
       "style": "IPY_MODEL_575c299ba60d405b89d061142faeb60b",
       "value": "     (0/1)"
      }
     },
     "155900e6730f4e259ae9cbcfdc979ed4": {
      "model_module": "@jupyter-widgets/base",
      "model_module_version": "1.2.0",
      "model_name": "LayoutModel",
      "state": {
       "border": "",
       "width": "98%"
      }
     },
     "15b0fe63feb84a6bb39b055555c91960": {
      "model_module": "@jupyter-widgets/controls",
      "model_module_version": "1.5.0",
      "model_name": "ButtonModel",
      "state": {
       "description": "EDIT",
       "layout": "IPY_MODEL_0a87dfcecd4748be8912a19068d9d68f",
       "style": "IPY_MODEL_31d68611cba948239ce27a1b29c2e45e"
      }
     },
     "15fb2106d82a412ba004b8b39207dae2": {
      "model_module": "@jupyter-widgets/base",
      "model_module_version": "1.2.0",
      "model_name": "LayoutModel",
      "state": {
       "width": "60px"
      }
     },
     "162b2bc570d4464da229b8f54a3a6b9a": {
      "model_module": "@jupyter-widgets/controls",
      "model_module_version": "1.5.0",
      "model_name": "DescriptionStyleModel",
      "state": {
       "description_width": ""
      }
     },
     "1634feb27c374e9bba10c0b5cb27834f": {
      "model_module": "@jupyter-widgets/controls",
      "model_module_version": "1.5.0",
      "model_name": "LabelModel",
      "state": {
       "layout": "IPY_MODEL_9a0bb28e5be546a6b3ca42125dca654f",
       "style": "IPY_MODEL_7a7f4c81ecb54980ad5dfa481aef67c9",
       "value": "   objective"
      }
     },
     "1636e1248ec44fe685ac304b757b7415": {
      "model_module": "@jupyter-widgets/controls",
      "model_module_version": "1.5.0",
      "model_name": "ButtonStyleModel",
      "state": {}
     },
     "163e1f71bb764c27af80d8875e63d7c3": {
      "model_module": "@jupyter-widgets/controls",
      "model_module_version": "1.5.0",
      "model_name": "ButtonStyleModel",
      "state": {}
     },
     "165338139df44d0f8b6852eb2f759f2d": {
      "model_module": "@jupyter-widgets/base",
      "model_module_version": "1.2.0",
      "model_name": "LayoutModel",
      "state": {
       "display": "none"
      }
     },
     "16780fbe8fc94cfa872a6462e4b2f6b5": {
      "model_module": "@jupyter-widgets/controls",
      "model_module_version": "1.5.0",
      "model_name": "DescriptionStyleModel",
      "state": {
       "description_width": ""
      }
     },
     "16ad3c41ce5247c58983d8b32c6d62a3": {
      "model_module": "@jupyter-widgets/controls",
      "model_module_version": "1.5.0",
      "model_name": "IntProgressModel",
      "state": {
       "layout": "IPY_MODEL_e7dc42ce6ba24ca897efff825cbee0cf",
       "max": 1,
       "style": "IPY_MODEL_9f5f9da523da4c878b38fab942b56582"
      }
     },
     "16d992a261b94915adb2aeaf6ef56fcb": {
      "model_module": "@jupyter-widgets/controls",
      "model_module_version": "1.5.0",
      "model_name": "LabelModel",
      "state": {
       "layout": "IPY_MODEL_bb987739f4f74e85989a605dbc58ca16",
       "style": "IPY_MODEL_4c568b76aaf74e9ea9e5ded9e08423aa",
       "value": "   objective"
      }
     },
     "16e3432141464c86a345cd24c4438bb3": {
      "model_module": "@jupyter-widgets/controls",
      "model_module_version": "1.5.0",
      "model_name": "ButtonStyleModel",
      "state": {}
     },
     "16f0f92ee24b4b4ba792d8effc82cbdd": {
      "model_module": "@jupyter-widgets/base",
      "model_module_version": "1.2.0",
      "model_name": "LayoutModel",
      "state": {}
     },
     "177c108d6527470a8622685c3554907b": {
      "model_module": "@jupyter-widgets/controls",
      "model_module_version": "1.5.0",
      "model_name": "HBoxModel",
      "state": {
       "children": [
        "IPY_MODEL_a3a6fb2eef7748e2b7fccfb9fee7c824",
        "IPY_MODEL_889d419d193a4a8b8217dd5544b9b92b",
        "IPY_MODEL_e1156812e150497bb07e3a9c8370c916",
        "IPY_MODEL_1a45081718434506895c3b23e6ceda3e"
       ],
       "layout": "IPY_MODEL_222cd6e58f9942de92ba0c45a4ab960e"
      }
     },
     "17a0656a69484e7a8d49fdc63ba8cfd3": {
      "model_module": "@jupyter-widgets/controls",
      "model_module_version": "1.5.0",
      "model_name": "ButtonStyleModel",
      "state": {}
     },
     "17ce94db1ed24612aa89ba6b117ea1ab": {
      "model_module": "@jupyter-widgets/base",
      "model_module_version": "1.2.0",
      "model_name": "LayoutModel",
      "state": {
       "order": "-1",
       "overflow": "visible",
       "padding": "1px",
       "width": "0px"
      }
     },
     "17e6195166ff457bb484d94b03aeb89a": {
      "model_module": "@jupyter-widgets/base",
      "model_module_version": "1.2.0",
      "model_name": "LayoutModel",
      "state": {
       "height": "32px",
       "overflow": "visible",
       "width": "100%"
      }
     },
     "17eba87d80544d7d81749d89dfc0a0a7": {
      "model_module": "@jupyter-widgets/base",
      "model_module_version": "1.2.0",
      "model_name": "LayoutModel",
      "state": {
       "width": "60px"
      }
     },
     "17fdb3e950e146528895e66cb117b2a0": {
      "model_module": "@jupyter-widgets/base",
      "model_module_version": "1.2.0",
      "model_name": "LayoutModel",
      "state": {
       "border": "2px solid #00bcd4",
       "width": "98%"
      }
     },
     "1852d3c711a74fb2bf93b83045cae2df": {
      "model_module": "@jupyter-widgets/controls",
      "model_module_version": "1.5.0",
      "model_name": "ProgressStyleModel",
      "state": {
       "description_width": ""
      }
     },
     "1856c81f31e94dedb447a072263765da": {
      "model_module": "@jupyter-widgets/base",
      "model_module_version": "1.2.0",
      "model_name": "LayoutModel",
      "state": {
       "width": "60px"
      }
     },
     "1857858ed8274dc7ae2d43a967e8a94b": {
      "model_module": "@jupyter-widgets/base",
      "model_module_version": "1.2.0",
      "model_name": "LayoutModel",
      "state": {
       "order": "-1",
       "overflow": "visible",
       "padding": "1px",
       "width": "0px"
      }
     },
     "1880e32dba8e47c4ac1e850ebde344ae": {
      "model_module": "@jupyter-widgets/base",
      "model_module_version": "1.2.0",
      "model_name": "LayoutModel",
      "state": {
       "width": "60px"
      }
     },
     "18b14a8b30474c23964d677787910f16": {
      "model_module": "@jupyter-widgets/controls",
      "model_module_version": "1.5.0",
      "model_name": "DescriptionStyleModel",
      "state": {
       "description_width": ""
      }
     },
     "18d9de56b7a44c569f7604dd62c76df6": {
      "model_module": "@jupyter-widgets/controls",
      "model_module_version": "1.5.0",
      "model_name": "HTMLModel",
      "state": {
       "layout": "IPY_MODEL_c8df8d9b5b494229a3c9b7eba6e09877",
       "style": "IPY_MODEL_54a638d979db42a69a82b95ccf6c3929",
       "value": "<font size=\"5\"><b>Season 6: Valor</b></font size=>"
      }
     },
     "18f6732ac5184589bccc4b6be5b32239": {
      "model_module": "@jupyter-widgets/controls",
      "model_module_version": "1.5.0",
      "model_name": "HTMLModel",
      "state": {
       "layout": "IPY_MODEL_86ae06e9afcc4334abd869a3573cdbdb",
       "style": "IPY_MODEL_df4e02d0d46a4554b1bb41754ce5fa66",
       "value": "<font size=\"1\">Seals/Moments of Triumph: MMXIX</font size=>"
      }
     },
     "190993f515604c8ea76d102a3fd0352a": {
      "model_module": "@jupyter-widgets/base",
      "model_module_version": "1.2.0",
      "model_name": "LayoutModel",
      "state": {
       "width": "60px"
      }
     },
     "190f2394e0d54a50bc8e4e6418f50976": {
      "model_module": "@jupyter-widgets/controls",
      "model_module_version": "1.5.0",
      "model_name": "ButtonModel",
      "state": {
       "layout": "IPY_MODEL_a52cb4a7f8d241fa9216da0983115def",
       "style": "IPY_MODEL_f6a85d6752b749809b1d933112ddcce7"
      }
     },
     "192b37e0a9a4445fb58be68d6cce0d2c": {
      "model_module": "@jupyter-widgets/base",
      "model_module_version": "1.2.0",
      "model_name": "LayoutModel",
      "state": {
       "height": "32px",
       "overflow": "visible",
       "width": "100%"
      }
     },
     "193da74315af497f843908a3d67515c8": {
      "model_module": "@jupyter-widgets/controls",
      "model_module_version": "1.5.0",
      "model_name": "LabelModel",
      "state": {
       "layout": "IPY_MODEL_bf25040b6707400196571d34d6b06fc6",
       "style": "IPY_MODEL_a56558b6f953472588bb6a1056f9f77f",
       "value": "   objective"
      }
     },
     "195ef717a7aa45d68c3406a7d85a0297": {
      "model_module": "@jupyter-widgets/controls",
      "model_module_version": "1.5.0",
      "model_name": "ButtonModel",
      "state": {
       "description": "EDIT",
       "layout": "IPY_MODEL_48f55402c1e14d8f818e3609c5ad58d6",
       "style": "IPY_MODEL_b07d8cdd47144658a1b5acbe903e4f26"
      }
     },
     "199138c231894b7cb7b524ca44895071": {
      "model_module": "@jupyter-widgets/base",
      "model_module_version": "1.2.0",
      "model_name": "LayoutModel",
      "state": {
       "display": "flex",
       "flex_flow": "row wrap"
      }
     },
     "19b12d633c334b51af1adfb79ba35a9a": {
      "model_module": "@jupyter-widgets/controls",
      "model_module_version": "1.5.0",
      "model_name": "ButtonModel",
      "state": {
       "layout": "IPY_MODEL_fdc3d89ff5014ad0a1f5f41f9f0af280",
       "style": "IPY_MODEL_88fd41978ea64ee6af2de22f992d98a6"
      }
     },
     "19dcdaf6ec5b4e74842c544cda71dd40": {
      "model_module": "@jupyter-widgets/controls",
      "model_module_version": "1.5.0",
      "model_name": "IntProgressModel",
      "state": {
       "layout": "IPY_MODEL_c0411abe4174477a8a276f8632c66986",
       "style": "IPY_MODEL_f0fd534e5923443eb3a9973b83de3792",
       "value": 30
      }
     },
     "19ece303015e44d0a32962a4d3dadb37": {
      "model_module": "@jupyter-widgets/controls",
      "model_module_version": "1.5.0",
      "model_name": "ProgressStyleModel",
      "state": {
       "description_width": ""
      }
     },
     "1a2a57d1567a49f3b2a685b5ceaa5c04": {
      "model_module": "@jupyter-widgets/controls",
      "model_module_version": "1.5.0",
      "model_name": "LabelModel",
      "state": {
       "layout": "IPY_MODEL_b506c2c4621c4000b5f4d65f0b7c489f",
       "style": "IPY_MODEL_b0f06592e5324e35b3b377381903e446",
       "value": "     (0/1)"
      }
     },
     "1a45081718434506895c3b23e6ceda3e": {
      "model_module": "@jupyter-widgets/controls",
      "model_module_version": "1.5.0",
      "model_name": "ButtonModel",
      "state": {
       "description": "EDIT",
       "layout": "IPY_MODEL_6349c62ccae943b89f9c72a1e8d40197",
       "style": "IPY_MODEL_1a6d3b8fcb514723a73f6290b7fae4c6"
      }
     },
     "1a5bb20f5490487da5fac6978752ab36": {
      "model_module": "@jupyter-widgets/base",
      "model_module_version": "1.2.0",
      "model_name": "LayoutModel",
      "state": {
       "width": "60px"
      }
     },
     "1a625818acb04ba29c42c50c2513954b": {
      "model_module": "@jupyter-widgets/controls",
      "model_module_version": "1.5.0",
      "model_name": "ButtonStyleModel",
      "state": {}
     },
     "1a6d3b8fcb514723a73f6290b7fae4c6": {
      "model_module": "@jupyter-widgets/controls",
      "model_module_version": "1.5.0",
      "model_name": "ButtonStyleModel",
      "state": {}
     },
     "1a9791603e5442a0a28627dc93d93118": {
      "model_module": "@jupyter-widgets/controls",
      "model_module_version": "1.5.0",
      "model_name": "VBoxModel",
      "state": {
       "children": [
        "IPY_MODEL_96e6dbce7eaa4d2086486026181c614b",
        "IPY_MODEL_b755104b7b3e497bbe3979d734fb0764",
        "IPY_MODEL_a5f2497f2fc74763988a1bdad07b0bc2",
        "IPY_MODEL_49a389e685dc49618aa96f0b84e345e4",
        "IPY_MODEL_970351932f6a44ea9beaf48b788364e8",
        "IPY_MODEL_49121537a3f14cc3bb2e9edd60bd8b09"
       ],
       "layout": "IPY_MODEL_65471a5403eb409e85b130ce3e9e8759"
      }
     },
     "1aa8a4cee7c74bfe88dc9030677aef11": {
      "model_module": "@jupyter-widgets/controls",
      "model_module_version": "1.5.0",
      "model_name": "DescriptionStyleModel",
      "state": {
       "description_width": ""
      }
     },
     "1ac23c49035947fdacce3cec115d44bc": {
      "model_module": "@jupyter-widgets/controls",
      "model_module_version": "1.5.0",
      "model_name": "HTMLModel",
      "state": {
       "layout": "IPY_MODEL_fa9f6f4815e14fbf961ffa2dcc5d6e36",
       "style": "IPY_MODEL_d0b35e22e3394621ac23d797afc1073e",
       "value": "<font size=\"5\"><b>Maximum Carnage</b></font size=>"
      }
     },
     "1ace6d2ffb104bdcb4a7a73d5a943257": {
      "model_module": "@jupyter-widgets/controls",
      "model_module_version": "1.5.0",
      "model_name": "ButtonStyleModel",
      "state": {}
     },
     "1af8798c56804943a8d677b969da4c96": {
      "model_module": "@jupyter-widgets/base",
      "model_module_version": "1.2.0",
      "model_name": "LayoutModel",
      "state": {
       "height": "32px",
       "order": "-2",
       "width": "32px"
      }
     },
     "1b6e7a844d964b868695793ef39acaa0": {
      "model_module": "@jupyter-widgets/controls",
      "model_module_version": "1.5.0",
      "model_name": "DescriptionStyleModel",
      "state": {
       "description_width": ""
      }
     },
     "1b8897d611594eb0a791e9a79d036830": {
      "model_module": "@jupyter-widgets/base",
      "model_module_version": "1.2.0",
      "model_name": "LayoutModel",
      "state": {
       "height": "32px",
       "order": "-2",
       "width": "32px"
      }
     },
     "1bb09765b2e84c8abd34f9f64767f861": {
      "model_module": "@jupyter-widgets/controls",
      "model_module_version": "1.5.0",
      "model_name": "LabelModel",
      "state": {
       "layout": "IPY_MODEL_f23f39fcbce54542a0e4dfbb6f8e94a4",
       "style": "IPY_MODEL_46e740339bcf4c5faf8d679d38f06ed2",
       "value": "Subclass:"
      }
     },
     "1bfc6b5a50dc41f8b80e1871aa93f0f7": {
      "model_module": "@jupyter-widgets/controls",
      "model_module_version": "1.5.0",
      "model_name": "ButtonModel",
      "state": {
       "description": "EDIT",
       "layout": "IPY_MODEL_e62d3f0c66ce4ae18579fdc8b0515324",
       "style": "IPY_MODEL_3b48cf11d1a4410c8e97affe9a3de242"
      }
     },
     "1c267387e3d8405a9d62c93476fc09a7": {
      "model_module": "@jupyter-widgets/controls",
      "model_module_version": "1.5.0",
      "model_name": "DescriptionStyleModel",
      "state": {
       "description_width": ""
      }
     },
     "1c4f0bd35a0843959bebf77ceb34c693": {
      "model_module": "@jupyter-widgets/controls",
      "model_module_version": "1.5.0",
      "model_name": "DescriptionStyleModel",
      "state": {
       "description_width": ""
      }
     },
     "1c51cf5b678944cd8a3e5e72ebdf158b": {
      "model_module": "@jupyter-widgets/base",
      "model_module_version": "1.2.0",
      "model_name": "LayoutModel",
      "state": {
       "height": "32px",
       "overflow": "visible",
       "width": "100%"
      }
     },
     "1c9ae4c41208465b8462975bb4fe847f": {
      "model_module": "@jupyter-widgets/base",
      "model_module_version": "1.2.0",
      "model_name": "LayoutModel",
      "state": {
       "height": "32px",
       "overflow": "visible",
       "width": "100%"
      }
     },
     "1cdc19b46e584726bbde646f1be939c8": {
      "model_module": "@jupyter-widgets/base",
      "model_module_version": "1.2.0",
      "model_name": "LayoutModel",
      "state": {
       "height": "32px",
       "overflow": "visible",
       "width": "100%"
      }
     },
     "1cfb633be6d746a8bc05b058b8897b1e": {
      "model_module": "@jupyter-widgets/controls",
      "model_module_version": "1.5.0",
      "model_name": "ButtonStyleModel",
      "state": {}
     },
     "1d25879a20b741fdae2d53449b5b93c7": {
      "model_module": "@jupyter-widgets/base",
      "model_module_version": "1.2.0",
      "model_name": "LayoutModel",
      "state": {
       "width": "60px"
      }
     },
     "1d42854b8e5f482ca1d459b857357f94": {
      "model_module": "@jupyter-widgets/controls",
      "model_module_version": "1.5.0",
      "model_name": "ProgressStyleModel",
      "state": {
       "description_width": ""
      }
     },
     "1d5421e4127c44eeba552ba98d61a720": {
      "model_module": "@jupyter-widgets/controls",
      "model_module_version": "1.5.0",
      "model_name": "ButtonModel",
      "state": {
       "layout": "IPY_MODEL_2b7be432418e4e31a5be13f70cc55059",
       "style": "IPY_MODEL_dc5f285984294c5ca5554b5677e1c4a0"
      }
     },
     "1d9ea077240845eca1e1b114a04e0a5f": {
      "model_module": "@jupyter-widgets/controls",
      "model_module_version": "1.5.0",
      "model_name": "ButtonStyleModel",
      "state": {}
     },
     "1da3ce5a15094c39ad5870656b9a2a99": {
      "model_module": "@jupyter-widgets/base",
      "model_module_version": "1.2.0",
      "model_name": "LayoutModel",
      "state": {
       "height": "32px",
       "order": "-2",
       "width": "32px"
      }
     },
     "1daada20ec1947d9af34df38cd793337": {
      "model_module": "@jupyter-widgets/base",
      "model_module_version": "1.2.0",
      "model_name": "LayoutModel",
      "state": {
       "order": "-1",
       "overflow": "visible",
       "padding": "1px",
       "width": "0px"
      }
     },
     "1dea76c6909949b79899f0409986ca34": {
      "model_module": "@jupyter-widgets/controls",
      "model_module_version": "1.5.0",
      "model_name": "LabelModel",
      "state": {
       "layout": "IPY_MODEL_95ed5da1851542a587651f49a3c64f1e",
       "style": "IPY_MODEL_c0baa4761ba54eb393eb422da9aef940",
       "value": "   objective"
      }
     },
     "1e2ec543526a4ef7a3877544900efa70": {
      "model_module": "@jupyter-widgets/base",
      "model_module_version": "1.2.0",
      "model_name": "LayoutModel",
      "state": {
       "height": "32px",
       "overflow": "visible",
       "width": "100%"
      }
     },
     "1e3158d420e846c2ba5ceb4268ca0228": {
      "model_module": "@jupyter-widgets/controls",
      "model_module_version": "1.5.0",
      "model_name": "ButtonStyleModel",
      "state": {}
     },
     "1e5ba9958e9f43ecab08bd5c4b0bf19b": {
      "model_module": "@jupyter-widgets/base",
      "model_module_version": "1.2.0",
      "model_name": "LayoutModel",
      "state": {
       "display": "none"
      }
     },
     "1e8f54e147fa4fe3a36defab5be2d088": {
      "model_module": "@jupyter-widgets/controls",
      "model_module_version": "1.5.0",
      "model_name": "ButtonModel",
      "state": {
       "layout": "IPY_MODEL_5a2af9afb40840848cfd6174ac651cae",
       "style": "IPY_MODEL_1cfb633be6d746a8bc05b058b8897b1e"
      }
     },
     "1f9b6fc2956b47b4a4a43ce444a3acbb": {
      "model_module": "@jupyter-widgets/base",
      "model_module_version": "1.2.0",
      "model_name": "LayoutModel",
      "state": {
       "height": "32px",
       "overflow": "visible",
       "width": "100%"
      }
     },
     "1fdcd6aae39240eea4740f4d94724ee8": {
      "model_module": "@jupyter-widgets/controls",
      "model_module_version": "1.5.0",
      "model_name": "HTMLModel",
      "state": {
       "layout": "IPY_MODEL_4f0ba72f69824bf9ad3504057a739890",
       "style": "IPY_MODEL_8879d65f0dab4493bad032c5f2371f06",
       "value": "<i></i>"
      }
     },
     "205de1ad37a34135b864b7a3bed7ab45": {
      "model_module": "@jupyter-widgets/controls",
      "model_module_version": "1.5.0",
      "model_name": "HBoxModel",
      "state": {
       "children": [
        "IPY_MODEL_091b79541ae74271aef0919e2830f488",
        "IPY_MODEL_5acfba2d35a644d0a9bff73b0e66faa1",
        "IPY_MODEL_cd988282cdf8474d8c34879d641630fe",
        "IPY_MODEL_55489640269e42e7ab9c3a02ad78c087"
       ],
       "layout": "IPY_MODEL_34f81bb84bdf4b2299bb80ba1963ec74"
      }
     },
     "206920790092438c9ab3ce0c0124a4c6": {
      "model_module": "@jupyter-widgets/controls",
      "model_module_version": "1.5.0",
      "model_name": "ButtonModel",
      "state": {
       "description": "EDIT",
       "layout": "IPY_MODEL_ae29f1454dbd422cb527c94d9fd2904c",
       "style": "IPY_MODEL_0a95d3fa6b434b92aabcaa523cf00db5"
      }
     },
     "206be2744b214342982db7b64ebfe4ff": {
      "model_module": "@jupyter-widgets/controls",
      "model_module_version": "1.5.0",
      "model_name": "DescriptionStyleModel",
      "state": {
       "description_width": ""
      }
     },
     "2087c11a23c44152b0201c64387b44b7": {
      "model_module": "@jupyter-widgets/controls",
      "model_module_version": "1.5.0",
      "model_name": "DropdownModel",
      "state": {
       "_options_labels": [
        "All",
        "Active Objectives",
        "Pursuits",
        "Milestones",
        "Triumphs",
        "Collections"
       ],
       "description": "Show:",
       "index": 4,
       "layout": "IPY_MODEL_f71e47ab7d4a45f89a4dbd667ff4c9a4",
       "style": "IPY_MODEL_518d90b2497946309aa2b276e8847b01"
      }
     },
     "20b85d9f318244b5935ad040aa0f00d2": {
      "model_module": "@jupyter-widgets/base",
      "model_module_version": "1.2.0",
      "model_name": "LayoutModel",
      "state": {
       "height": "32px",
       "order": "-2",
       "width": "32px"
      }
     },
     "21051288e3074773b7b002712e02739f": {
      "model_module": "@jupyter-widgets/controls",
      "model_module_version": "1.5.0",
      "model_name": "DescriptionStyleModel",
      "state": {
       "description_width": ""
      }
     },
     "2115d0b60dc5437f9747652f4ce719db": {
      "model_module": "@jupyter-widgets/base",
      "model_module_version": "1.2.0",
      "model_name": "LayoutModel",
      "state": {
       "border": "3px solid white",
       "display": "flex",
       "flex": "1 1 0%",
       "margin": "10px",
       "min_width": "400px",
       "overflow": "visible",
       "padding": "10px",
       "width": "auto"
      }
     },
     "216ab107346e4ae998d3d59b6ddf0fa7": {
      "model_module": "@jupyter-widgets/controls",
      "model_module_version": "1.5.0",
      "model_name": "HBoxModel",
      "state": {
       "children": [
        "IPY_MODEL_19b12d633c334b51af1adfb79ba35a9a",
        "IPY_MODEL_8e5d70f587254ee09cdd43065fbe525b",
        "IPY_MODEL_2c98151d0b5f4e7194ad238704d6db9d",
        "IPY_MODEL_fc7cbff9baf94c5b85841c8c20d290d9"
       ],
       "layout": "IPY_MODEL_397df9e0d0354cba83b9734cae1c15ca"
      }
     },
     "2183a8b3e8b5498db639cbbdc0b51f75": {
      "model_module": "@jupyter-widgets/base",
      "model_module_version": "1.2.0",
      "model_name": "LayoutModel",
      "state": {
       "overflow": "visible",
       "width": "100%"
      }
     },
     "218fbcb56d844fb695675884940b4a6b": {
      "model_module": "@jupyter-widgets/controls",
      "model_module_version": "1.5.0",
      "model_name": "ButtonModel",
      "state": {
       "description": "EDIT",
       "layout": "IPY_MODEL_fe4fe29467cb4e87a8481cc14858cf39",
       "style": "IPY_MODEL_d30e083a44ad49ad8fe3ce188a22567a"
      }
     },
     "21a5239823d14d8f8a5ff9cfdb24e1fc": {
      "model_module": "@jupyter-widgets/base",
      "model_module_version": "1.2.0",
      "model_name": "LayoutModel",
      "state": {
       "width": "60px"
      }
     },
     "21bc8f6f44a04b748fe0b70918c8e224": {
      "model_module": "@jupyter-widgets/controls",
      "model_module_version": "1.5.0",
      "model_name": "ButtonModel",
      "state": {
       "layout": "IPY_MODEL_c24ec0076b644df6bebd58fc27fa1692",
       "style": "IPY_MODEL_c2c7c0b370f240c4b2f111be3f21eef4"
      }
     },
     "22097a6ff30f478bae4e491af82204a1": {
      "model_module": "@jupyter-widgets/base",
      "model_module_version": "1.2.0",
      "model_name": "LayoutModel",
      "state": {
       "width": "60px"
      }
     },
     "2210f7f931be47cb9200aa8bf4031d1d": {
      "model_module": "@jupyter-widgets/base",
      "model_module_version": "1.2.0",
      "model_name": "LayoutModel",
      "state": {
       "height": "32px",
       "order": "-2",
       "width": "32px"
      }
     },
     "221854e531b44d16905588c2111296a9": {
      "model_module": "@jupyter-widgets/controls",
      "model_module_version": "1.5.0",
      "model_name": "IntProgressModel",
      "state": {
       "layout": "IPY_MODEL_71b34dfe78ce4ceebcb5b94db6e5cc91",
       "style": "IPY_MODEL_69301b7a1d2d47859a9edf2e3cfb405a",
       "value": 30
      }
     },
     "222cd6e58f9942de92ba0c45a4ab960e": {
      "model_module": "@jupyter-widgets/base",
      "model_module_version": "1.2.0",
      "model_name": "LayoutModel",
      "state": {
       "display": "flex"
      }
     },
     "224430b473234a51a487e82ac7793a0d": {
      "model_module": "@jupyter-widgets/controls",
      "model_module_version": "1.5.0",
      "model_name": "LabelModel",
      "state": {
       "layout": "IPY_MODEL_c221d85eb4514ab8b9a017af934eee6c",
       "style": "IPY_MODEL_9fdc230a7ccd4fc18c90dbcd6a78f870",
       "value": "   objective"
      }
     },
     "2273d6d6e9ac40b5a63a54f829901cd4": {
      "model_module": "@jupyter-widgets/base",
      "model_module_version": "1.2.0",
      "model_name": "LayoutModel",
      "state": {
       "height": "32px",
       "overflow": "visible",
       "width": "100%"
      }
     },
     "228623b0482942929cf218facbbf9f98": {
      "model_module": "@jupyter-widgets/controls",
      "model_module_version": "1.5.0",
      "model_name": "VBoxModel",
      "state": {
       "children": [
        "IPY_MODEL_68fd1258afd04d4b96d287cbf085974b",
        "IPY_MODEL_d79e7540a8a64283bdca42767ab87fc1",
        "IPY_MODEL_4aa386d3100a460593ee6c2de2e4416c",
        "IPY_MODEL_01c0d171d1bc4dc68f5a9b2650ca2f35"
       ],
       "layout": "IPY_MODEL_3238134c05e248f496c7cbb14aa37fe3"
      }
     },
     "229b1908ebd947b9aa4a07eebf6c267e": {
      "model_module": "@jupyter-widgets/controls",
      "model_module_version": "1.5.0",
      "model_name": "ProgressStyleModel",
      "state": {
       "description_width": ""
      }
     },
     "22b75ae1edc8447f903711e17e41e5c5": {
      "model_module": "@jupyter-widgets/controls",
      "model_module_version": "1.5.0",
      "model_name": "ButtonModel",
      "state": {
       "description": "EDIT",
       "layout": "IPY_MODEL_ca79fefa844e4d2a9266f9ebad5e1ac1",
       "style": "IPY_MODEL_e4e3d23b2ea3432f8c5c3dedf4ec959f"
      }
     },
     "22ea43458dd440f08ed989e73044a521": {
      "model_module": "@jupyter-widgets/controls",
      "model_module_version": "1.5.0",
      "model_name": "IntProgressModel",
      "state": {
       "layout": "IPY_MODEL_99a1eb04416a4aa185128aa3537d3d0f",
       "style": "IPY_MODEL_d0e7a7208ddb4371991618136bb4a608",
       "value": 30
      }
     },
     "23107650983e4a42a08a77d6e06e4f39": {
      "model_module": "@jupyter-widgets/controls",
      "model_module_version": "1.5.0",
      "model_name": "HBoxModel",
      "state": {
       "children": [
        "IPY_MODEL_d7572537655141b38b89103d75b94ce6",
        "IPY_MODEL_e8fcb26a44bb4d89a466bbc3e74ad9a2",
        "IPY_MODEL_091f920ce77146c4991ead5ec6803f2f",
        "IPY_MODEL_6ae67fe3d13542209fa8d75d630f1334"
       ],
       "layout": "IPY_MODEL_f897a457814a4748b2d4805731a18da1"
      }
     },
     "23f99345c37a4d85b676ff28d469ddb7": {
      "model_module": "@jupyter-widgets/base",
      "model_module_version": "1.2.0",
      "model_name": "LayoutModel",
      "state": {
       "order": "-1",
       "overflow": "visible",
       "padding": "1px",
       "width": "0px"
      }
     },
     "23fc4b67779b4b92871dfb7de62d8dc8": {
      "model_module": "@jupyter-widgets/base",
      "model_module_version": "1.2.0",
      "model_name": "LayoutModel",
      "state": {
       "height": "32px",
       "order": "-2",
       "width": "32px"
      }
     },
     "2405f67c618946b7a977cabf89605ee5": {
      "model_module": "@jupyter-widgets/controls",
      "model_module_version": "1.5.0",
      "model_name": "ButtonModel",
      "state": {
       "button_style": "success",
       "disabled": true,
       "layout": "IPY_MODEL_2b523e02cf6b48f693bcd0b513404daa",
       "style": "IPY_MODEL_f63e58afb17f47febadcbd8843dd63f4"
      }
     },
     "24126437c60741dc9a50b3d49d733b50": {
      "model_module": "@jupyter-widgets/controls",
      "model_module_version": "1.5.0",
      "model_name": "HBoxModel",
      "state": {
       "children": [
        "IPY_MODEL_1e8f54e147fa4fe3a36defab5be2d088",
        "IPY_MODEL_9f1db97d30ee428a84738aad9b56a0ea",
        "IPY_MODEL_e3d25a1f657d494f9d88c607edae3e34",
        "IPY_MODEL_1bfc6b5a50dc41f8b80e1871aa93f0f7"
       ],
       "layout": "IPY_MODEL_5acc4bc2fb454cfab071c861e6ad7c7b"
      }
     },
     "246564b04f9c488c971adb7903400ecf": {
      "model_module": "@jupyter-widgets/controls",
      "model_module_version": "1.5.0",
      "model_name": "LabelModel",
      "state": {
       "layout": "IPY_MODEL_348c4bd6deff4505a8ea9bf27e450f65",
       "style": "IPY_MODEL_dd536c4f2edd43c8b2abdb05a3d0f5f1",
       "value": "   objective"
      }
     },
     "24673c4b6f3c4403a7541e1827424377": {
      "model_module": "@jupyter-widgets/controls",
      "model_module_version": "1.5.0",
      "model_name": "ButtonModel",
      "state": {
       "description": "EDIT",
       "layout": "IPY_MODEL_79ac8a169fe04f1883463792bc56a17a",
       "style": "IPY_MODEL_ae8a62cfe65c443ebb6798cce1cd5c65"
      }
     },
     "248e99756eae471fb723d910c9a12632": {
      "model_module": "@jupyter-widgets/controls",
      "model_module_version": "1.5.0",
      "model_name": "ProgressStyleModel",
      "state": {
       "description_width": ""
      }
     },
     "249be887acec43e2905459290515568c": {
      "model_module": "@jupyter-widgets/controls",
      "model_module_version": "1.5.0",
      "model_name": "ProgressStyleModel",
      "state": {
       "description_width": ""
      }
     },
     "24b9471ccfb74062a48ba6bd08c3f4c1": {
      "model_module": "@jupyter-widgets/base",
      "model_module_version": "1.2.0",
      "model_name": "LayoutModel",
      "state": {}
     },
     "24bb22f28c8844a8948c11605a99d7cb": {
      "model_module": "@jupyter-widgets/controls",
      "model_module_version": "1.5.0",
      "model_name": "LabelModel",
      "state": {
       "layout": "IPY_MODEL_fde7afc2419641ac9b338f686ba4a028",
       "style": "IPY_MODEL_5fa4830c0c474c31b9fa15efb7481394",
       "value": "   objective"
      }
     },
     "24d7484f7c954f0092d174ae7623b24c": {
      "model_module": "@jupyter-widgets/base",
      "model_module_version": "1.2.0",
      "model_name": "LayoutModel",
      "state": {
       "height": "32px",
       "order": "-2",
       "width": "32px"
      }
     },
     "24f1bfccbc03498586a594faafea418c": {
      "model_module": "@jupyter-widgets/controls",
      "model_module_version": "1.5.0",
      "model_name": "IntProgressModel",
      "state": {
       "layout": "IPY_MODEL_b6b7c7fb8e7a4840a88b5e2d5997de80",
       "style": "IPY_MODEL_4ceae97f1f58481594d514e9889be85d",
       "value": 30
      }
     },
     "2542d8c3eda64348aeafe04d7b7993cf": {
      "model_module": "@jupyter-widgets/base",
      "model_module_version": "1.2.0",
      "model_name": "LayoutModel",
      "state": {
       "order": "-1",
       "overflow": "visible",
       "padding": "1px",
       "width": "0px"
      }
     },
     "254fa71368e54998a15081ee569e0503": {
      "model_module": "@jupyter-widgets/controls",
      "model_module_version": "1.5.0",
      "model_name": "ButtonStyleModel",
      "state": {}
     },
     "255a57c0ed194fe0aee074f99c1cee4a": {
      "model_module": "@jupyter-widgets/base",
      "model_module_version": "1.2.0",
      "model_name": "LayoutModel",
      "state": {}
     },
     "25a2286930b94ab390e961cd4df32cf2": {
      "model_module": "@jupyter-widgets/controls",
      "model_module_version": "1.5.0",
      "model_name": "ButtonModel",
      "state": {
       "layout": "IPY_MODEL_333075d3076e49feb4bbc88d5a972f97",
       "style": "IPY_MODEL_b0d7c3f56a4b4f7e9bf6838cab184b7f"
      }
     },
     "25a8c167065048729c443dea1ce83dbd": {
      "model_module": "@jupyter-widgets/base",
      "model_module_version": "1.2.0",
      "model_name": "LayoutModel",
      "state": {
       "display": "none"
      }
     },
     "25ad67e5e4364756a3675c5b30cf96a2": {
      "model_module": "@jupyter-widgets/base",
      "model_module_version": "1.2.0",
      "model_name": "LayoutModel",
      "state": {
       "display": "none"
      }
     },
     "25cc35df15734d0597c375de3e1a374f": {
      "model_module": "@jupyter-widgets/base",
      "model_module_version": "1.2.0",
      "model_name": "LayoutModel",
      "state": {}
     },
     "25e88ae3743d4abcb9a65044660c6b09": {
      "model_module": "@jupyter-widgets/base",
      "model_module_version": "1.2.0",
      "model_name": "LayoutModel",
      "state": {}
     },
     "266b9e5e048f4c069ec3204b461b1855": {
      "model_module": "@jupyter-widgets/base",
      "model_module_version": "1.2.0",
      "model_name": "LayoutModel",
      "state": {
       "width": "60px"
      }
     },
     "26ec5a1ced8a41aab034bf92e1795bf1": {
      "model_module": "@jupyter-widgets/base",
      "model_module_version": "1.2.0",
      "model_name": "LayoutModel",
      "state": {
       "height": "32px",
       "order": "-2",
       "width": "32px"
      }
     },
     "270d64d80f604bbb9b4a3d60f1f8e250": {
      "model_module": "@jupyter-widgets/controls",
      "model_module_version": "1.5.0",
      "model_name": "ProgressStyleModel",
      "state": {
       "description_width": ""
      }
     },
     "2728f723643548428a2f42d818ff561a": {
      "model_module": "@jupyter-widgets/base",
      "model_module_version": "1.2.0",
      "model_name": "LayoutModel",
      "state": {
       "width": "60px"
      }
     },
     "2767109723364f29ab5b612ba6e6d352": {
      "model_module": "@jupyter-widgets/base",
      "model_module_version": "1.2.0",
      "model_name": "LayoutModel",
      "state": {}
     },
     "2790a9afd9d9489787b2619512faece3": {
      "model_module": "@jupyter-widgets/base",
      "model_module_version": "1.2.0",
      "model_name": "LayoutModel",
      "state": {
       "height": "32px",
       "order": "-2",
       "width": "32px"
      }
     },
     "27a803e912ad4edc9026ed902a6f1088": {
      "model_module": "@jupyter-widgets/controls",
      "model_module_version": "1.5.0",
      "model_name": "DescriptionStyleModel",
      "state": {
       "description_width": ""
      }
     },
     "27a86ccfbd864d9792e212e4e0099345": {
      "model_module": "@jupyter-widgets/base",
      "model_module_version": "1.2.0",
      "model_name": "LayoutModel",
      "state": {
       "display": "none"
      }
     },
     "27e0b24995a54dc5819e101d2a893b13": {
      "model_module": "@jupyter-widgets/controls",
      "model_module_version": "1.5.0",
      "model_name": "LabelModel",
      "state": {
       "layout": "IPY_MODEL_b1a06eef671849baa56d617255c51f7d",
       "style": "IPY_MODEL_575cc31b1e9544b197b9cdabde297ba9",
       "value": "Kinetic Weapon:"
      }
     },
     "286ec69dc1c149dbb7364bb27f6be1da": {
      "model_module": "@jupyter-widgets/controls",
      "model_module_version": "1.5.0",
      "model_name": "ButtonModel",
      "state": {
       "description": "EDIT",
       "layout": "IPY_MODEL_4ff924b180cb417ab83fe85d047be752",
       "style": "IPY_MODEL_1d9ea077240845eca1e1b114a04e0a5f"
      }
     },
     "287d4a11fc534e228faea9509505d25a": {
      "model_module": "@jupyter-widgets/controls",
      "model_module_version": "1.5.0",
      "model_name": "DescriptionStyleModel",
      "state": {
       "description_width": ""
      }
     },
     "2889db9a016e49edb36f5163640947f1": {
      "model_module": "@jupyter-widgets/base",
      "model_module_version": "1.2.0",
      "model_name": "LayoutModel",
      "state": {
       "order": "-1",
       "overflow": "visible",
       "padding": "1px",
       "width": "0px"
      }
     },
     "28f75a0def0d408eb69287fdd178f6f3": {
      "model_module": "@jupyter-widgets/controls",
      "model_module_version": "1.5.0",
      "model_name": "ProgressStyleModel",
      "state": {
       "description_width": ""
      }
     },
     "2910e072bd7c4cba96917c13d7e18bc0": {
      "model_module": "@jupyter-widgets/controls",
      "model_module_version": "1.5.0",
      "model_name": "LabelModel",
      "state": {
       "layout": "IPY_MODEL_7caaed08249e4addafa41d348a447a36",
       "style": "IPY_MODEL_e53e3c44fd5643df8ed9f44b31746dda",
       "value": "   objective"
      }
     },
     "295eb6b5a2ed49a597228b83067639de": {
      "model_module": "@jupyter-widgets/base",
      "model_module_version": "1.2.0",
      "model_name": "LayoutModel",
      "state": {
       "height": "32px",
       "overflow": "visible",
       "width": "100%"
      }
     },
     "2963ee707f68463ba285a2ba117a8b5f": {
      "model_module": "@jupyter-widgets/base",
      "model_module_version": "1.2.0",
      "model_name": "LayoutModel",
      "state": {
       "height": "32px",
       "order": "-2",
       "width": "32px"
      }
     },
     "29e7e343f3d2452984b25611e0953c49": {
      "model_module": "@jupyter-widgets/base",
      "model_module_version": "1.2.0",
      "model_name": "LayoutModel",
      "state": {
       "display": "flex",
       "flex_flow": "row wrap"
      }
     },
     "2a10255a90f14b35afb80b85b46857e4": {
      "model_module": "@jupyter-widgets/base",
      "model_module_version": "1.2.0",
      "model_name": "LayoutModel",
      "state": {
       "order": "-1",
       "overflow": "visible",
       "padding": "1px",
       "width": "0px"
      }
     },
     "2abe6feae794487788ccf18ff9ef0f0c": {
      "model_module": "@jupyter-widgets/base",
      "model_module_version": "1.2.0",
      "model_name": "LayoutModel",
      "state": {
       "display": "flex"
      }
     },
     "2ac25543b21c4c64856c2f46e62f48a1": {
      "model_module": "@jupyter-widgets/base",
      "model_module_version": "1.2.0",
      "model_name": "LayoutModel",
      "state": {
       "height": "32px",
       "order": "-2",
       "width": "32px"
      }
     },
     "2adcb726c43747f183cf9d23edf78d37": {
      "model_module": "@jupyter-widgets/controls",
      "model_module_version": "1.5.0",
      "model_name": "DescriptionStyleModel",
      "state": {
       "description_width": ""
      }
     },
     "2b0ad14941f7489db6b2b15280a87fb3": {
      "model_module": "@jupyter-widgets/output",
      "model_module_version": "1.0.0",
      "model_name": "OutputModel",
      "state": {
       "layout": "IPY_MODEL_24b9471ccfb74062a48ba6bd08c3f4c1",
       "outputs": [
        {
         "data": {
          "application/vnd.jupyter.widget-view+json": {
           "model_id": "6f5782185fb8471e9447dadde9319873",
           "version_major": 2,
           "version_minor": 0
          },
          "text/plain": "HBox(children=(VBox(children=(VBox(children=(HTML(value='<b>Activity Options</b>'), Dropdown(layout=Layout(bor…"
         },
         "metadata": {},
         "output_type": "display_data"
        },
        {
         "name": "stdout",
         "output_type": "stream",
         "text": "test1\ntest2\ntest1\ntest2\n"
        }
       ]
      }
     },
     "2b1e8692b6fc4d739558f41420522aec": {
      "model_module": "@jupyter-widgets/controls",
      "model_module_version": "1.5.0",
      "model_name": "HBoxModel",
      "state": {
       "children": [
        "IPY_MODEL_676389bacde3441dafd17f4ebca046ba",
        "IPY_MODEL_d920319ae1364983bf78b866b0bee030",
        "IPY_MODEL_8990a67cae744ceab26deb7d54d98cb0",
        "IPY_MODEL_8b585d8a1bfe4a9fbab3fce3126465a2"
       ],
       "layout": "IPY_MODEL_dbcc89ea7ba14e478affb14070a3989a"
      }
     },
     "2b467f90301a4e53b34f594e3f86050f": {
      "model_module": "@jupyter-widgets/base",
      "model_module_version": "1.2.0",
      "model_name": "LayoutModel",
      "state": {
       "order": "-1",
       "overflow": "visible",
       "padding": "1px",
       "width": "0px"
      }
     },
     "2b4b678688ed4a2ebd1b1ca0d41e4b64": {
      "model_module": "@jupyter-widgets/base",
      "model_module_version": "1.2.0",
      "model_name": "LayoutModel",
      "state": {
       "display": "none"
      }
     },
     "2b523e02cf6b48f693bcd0b513404daa": {
      "model_module": "@jupyter-widgets/base",
      "model_module_version": "1.2.0",
      "model_name": "LayoutModel",
      "state": {
       "height": "32px",
       "order": "-2",
       "width": "32px"
      }
     },
     "2b7be432418e4e31a5be13f70cc55059": {
      "model_module": "@jupyter-widgets/base",
      "model_module_version": "1.2.0",
      "model_name": "LayoutModel",
      "state": {
       "height": "32px",
       "order": "-2",
       "width": "32px"
      }
     },
     "2ba7ba55ecd7488b86ad821f46fa65b7": {
      "model_module": "@jupyter-widgets/controls",
      "model_module_version": "1.5.0",
      "model_name": "DescriptionStyleModel",
      "state": {
       "description_width": ""
      }
     },
     "2bd75280146c4930ae20dfc1a96c5f39": {
      "model_module": "@jupyter-widgets/base",
      "model_module_version": "1.2.0",
      "model_name": "LayoutModel",
      "state": {
       "border": "3px solid white",
       "display": "flex",
       "flex": "1 1 0%",
       "margin": "10px",
       "min_width": "400px",
       "overflow": "visible",
       "padding": "10px",
       "width": "auto"
      }
     },
     "2bde1dc5ec2447ed939f472ff08ada0c": {
      "model_module": "@jupyter-widgets/controls",
      "model_module_version": "1.5.0",
      "model_name": "ProgressStyleModel",
      "state": {
       "description_width": ""
      }
     },
     "2be25089939d4bd7b0bdbf789dd1e34f": {
      "model_module": "@jupyter-widgets/controls",
      "model_module_version": "1.5.0",
      "model_name": "IntProgressModel",
      "state": {
       "layout": "IPY_MODEL_d708ca62353743f385a2c4e695d109c5",
       "style": "IPY_MODEL_28f75a0def0d408eb69287fdd178f6f3",
       "value": 30
      }
     },
     "2c0092651fd74722abacb8c48da8c7f9": {
      "model_module": "@jupyter-widgets/controls",
      "model_module_version": "1.5.0",
      "model_name": "IntProgressModel",
      "state": {
       "layout": "IPY_MODEL_ead998b9279745c6baf468a01dbdef7c",
       "style": "IPY_MODEL_bd2e2c97564b469ba2d80fbac6674de4",
       "value": 30
      }
     },
     "2c45a0a33b614f04afa75f7de651d5c6": {
      "model_module": "@jupyter-widgets/controls",
      "model_module_version": "1.5.0",
      "model_name": "IntProgressModel",
      "state": {
       "layout": "IPY_MODEL_6c3890b6f8544d85bfef09169b2cd5d4",
       "max": 20,
       "style": "IPY_MODEL_0691ef88576d443f95811647feaffc8b"
      }
     },
     "2c98151d0b5f4e7194ad238704d6db9d": {
      "model_module": "@jupyter-widgets/controls",
      "model_module_version": "1.5.0",
      "model_name": "LabelModel",
      "state": {
       "layout": "IPY_MODEL_565b3339c2774bdf9d603c982c460c15",
       "style": "IPY_MODEL_a16277c1a39e4281b454e171ab29dcf9",
       "value": "   objective"
      }
     },
     "2ca158f16e9f431891ba42100bd0ccd2": {
      "model_module": "@jupyter-widgets/base",
      "model_module_version": "1.2.0",
      "model_name": "LayoutModel",
      "state": {
       "height": "32px",
       "overflow": "visible",
       "width": "100%"
      }
     },
     "2ca19960bce94d7fa40550c1c89fe60d": {
      "model_module": "@jupyter-widgets/base",
      "model_module_version": "1.2.0",
      "model_name": "LayoutModel",
      "state": {
       "display": "none"
      }
     },
     "2cbd9b1d01f9489b871af684f383907b": {
      "model_module": "@jupyter-widgets/controls",
      "model_module_version": "1.5.0",
      "model_name": "ButtonStyleModel",
      "state": {}
     },
     "2cc333d3ede4492d9ed14977b22499c8": {
      "model_module": "@jupyter-widgets/controls",
      "model_module_version": "1.5.0",
      "model_name": "ButtonStyleModel",
      "state": {}
     },
     "2ce1868ffc41486b8971415dff7b8a30": {
      "model_module": "@jupyter-widgets/controls",
      "model_module_version": "1.5.0",
      "model_name": "HBoxModel",
      "state": {
       "children": [
        "IPY_MODEL_ef9487958bf04c5684968676634a6c7a",
        "IPY_MODEL_377f9c4c2b194de69136e9714233574b",
        "IPY_MODEL_729243b72f504199b67e2663d5fb0dad",
        "IPY_MODEL_e896386346654c95809c7fd53be3e75e"
       ],
       "layout": "IPY_MODEL_c4be5b5dc24a49d4bb2b36ac10900eef"
      }
     },
     "2cffff8eb45b4306b00368911385a03a": {
      "model_module": "@jupyter-widgets/controls",
      "model_module_version": "1.5.0",
      "model_name": "ButtonModel",
      "state": {
       "description": "EDIT",
       "layout": "IPY_MODEL_8cb309c7208e4295bbdb00517e592395",
       "style": "IPY_MODEL_6f207700edef4ec7bb25d9920b524487"
      }
     },
     "2d20877ffbbf4cb5b9dff9c414bf3970": {
      "model_module": "@jupyter-widgets/base",
      "model_module_version": "1.2.0",
      "model_name": "LayoutModel",
      "state": {
       "order": "-1",
       "overflow": "visible",
       "padding": "1px",
       "width": "0px"
      }
     },
     "2d2f6612b76c4dd5bdb8e2e9697a76b8": {
      "model_module": "@jupyter-widgets/controls",
      "model_module_version": "1.5.0",
      "model_name": "HBoxModel",
      "state": {
       "children": [
        "IPY_MODEL_e61d1a9c7721419094d1e07177e08081",
        "IPY_MODEL_5f87247e19af4528910fad0c9b73bde2"
       ],
       "layout": "IPY_MODEL_6f99af7cd2cf4415a6f5b10b8be2be44"
      }
     },
     "2d5567a4c83b404bb8c8d47b6747bc00": {
      "model_module": "@jupyter-widgets/base",
      "model_module_version": "1.2.0",
      "model_name": "LayoutModel",
      "state": {
       "width": "60px"
      }
     },
     "2d6ae223958646c5907d9cc560b35cb2": {
      "model_module": "@jupyter-widgets/base",
      "model_module_version": "1.2.0",
      "model_name": "LayoutModel",
      "state": {
       "overflow": "visible",
       "width": "100%"
      }
     },
     "2d8f8f3cee424af89c57df358515da16": {
      "model_module": "@jupyter-widgets/controls",
      "model_module_version": "1.5.0",
      "model_name": "ButtonModel",
      "state": {
       "button_style": "success",
       "disabled": true,
       "layout": "IPY_MODEL_666e6faf04a1490ba3a58ab9481fc7d8",
       "style": "IPY_MODEL_cc83e0367a9c48bbb959aa347301d7b6"
      }
     },
     "2d910582355b434fb96d413669dc4c06": {
      "model_module": "@jupyter-widgets/base",
      "model_module_version": "1.2.0",
      "model_name": "LayoutModel",
      "state": {
       "overflow": "visible",
       "width": "100%"
      }
     },
     "2da86e734e0244858c8958f03f35f014": {
      "model_module": "@jupyter-widgets/controls",
      "model_module_version": "1.5.0",
      "model_name": "IntProgressModel",
      "state": {
       "layout": "IPY_MODEL_a782e275550d4c5482d650ef87cd5ac1",
       "style": "IPY_MODEL_6b9922df80654857badf28a3d14db5bb",
       "value": 30
      }
     },
     "2e1585c64b18454396ed228c06ca1de2": {
      "model_module": "@jupyter-widgets/controls",
      "model_module_version": "1.5.0",
      "model_name": "DescriptionStyleModel",
      "state": {
       "description_width": ""
      }
     },
     "2e2be4004b4149cc80e090028b1cdfeb": {
      "model_module": "@jupyter-widgets/controls",
      "model_module_version": "1.5.0",
      "model_name": "LabelModel",
      "state": {
       "layout": "IPY_MODEL_fb65f7aa257e4518b53b6046ac0ec24d",
       "style": "IPY_MODEL_763f139e11fd4e46aec87be1d2098fb0",
       "value": "   objective"
      }
     },
     "2e3714f7c8024bddbe159f3908b3d8a7": {
      "model_module": "@jupyter-widgets/controls",
      "model_module_version": "1.5.0",
      "model_name": "LabelModel",
      "state": {
       "layout": "IPY_MODEL_0b3b22e535644c4e9e5ff570664eb945",
       "style": "IPY_MODEL_c7a95176c2724b44b80361242a744196",
       "value": "Grenade:"
      }
     },
     "2e4264fd190a426d9654f7841fc1ab46": {
      "model_module": "@jupyter-widgets/base",
      "model_module_version": "1.2.0",
      "model_name": "LayoutModel",
      "state": {
       "height": "32px",
       "overflow": "visible",
       "width": "100%"
      }
     },
     "2ea5f48f83854dec9b5d365fca3aeffb": {
      "model_module": "@jupyter-widgets/controls",
      "model_module_version": "1.5.0",
      "model_name": "DescriptionStyleModel",
      "state": {
       "description_width": ""
      }
     },
     "2eaa6e4f21654a22b5046c9069736897": {
      "model_module": "@jupyter-widgets/base",
      "model_module_version": "1.2.0",
      "model_name": "LayoutModel",
      "state": {
       "border": "3px solid white",
       "display": "flex",
       "flex": "1 1 0%",
       "margin": "10px",
       "min_width": "400px",
       "overflow": "visible",
       "padding": "10px",
       "width": "auto"
      }
     },
     "2eb75e93a1b341e9adfc0e20f9de05ec": {
      "model_module": "@jupyter-widgets/controls",
      "model_module_version": "1.5.0",
      "model_name": "ButtonModel",
      "state": {
       "description": "EDIT",
       "layout": "IPY_MODEL_beb871d43b9d4265adbe304d6536ba89",
       "style": "IPY_MODEL_5031defeabc8476a88d791e8284a1ffa"
      }
     },
     "2ec05c38a4954a83806990a5cc638bae": {
      "model_module": "@jupyter-widgets/base",
      "model_module_version": "1.2.0",
      "model_name": "LayoutModel",
      "state": {
       "display": "none"
      }
     },
     "2efb73ee945145fe90b8f9babd7c00f9": {
      "model_module": "@jupyter-widgets/base",
      "model_module_version": "1.2.0",
      "model_name": "LayoutModel",
      "state": {
       "display": "none"
      }
     },
     "2f41c3046ef844208d5f19af724ae655": {
      "model_module": "@jupyter-widgets/controls",
      "model_module_version": "1.5.0",
      "model_name": "ButtonModel",
      "state": {
       "layout": "IPY_MODEL_79a5af10fcd84ad5bf68f67b02b9d07f",
       "style": "IPY_MODEL_396c5090f19249f591c5ad6d6d3f85d7"
      }
     },
     "2f475a07ad0d479ca0eb99a17db722c5": {
      "model_module": "@jupyter-widgets/controls",
      "model_module_version": "1.5.0",
      "model_name": "ProgressStyleModel",
      "state": {
       "description_width": ""
      }
     },
     "2f7c5e2a93a6413ba58656be36475a9b": {
      "model_module": "@jupyter-widgets/base",
      "model_module_version": "1.2.0",
      "model_name": "LayoutModel",
      "state": {
       "display": "none"
      }
     },
     "2fadda57d54c4ca09007492e61b4412d": {
      "model_module": "@jupyter-widgets/base",
      "model_module_version": "1.2.0",
      "model_name": "LayoutModel",
      "state": {
       "height": "32px",
       "overflow": "visible",
       "width": "100%"
      }
     },
     "2fd6b71593c94c65b6bfeb723573760c": {
      "model_module": "@jupyter-widgets/controls",
      "model_module_version": "1.5.0",
      "model_name": "HBoxModel",
      "state": {
       "children": [
        "IPY_MODEL_5b5b24b3a1d9477b99d972b126815713",
        "IPY_MODEL_3481ea3381a64bf1992e4f036f3258d9",
        "IPY_MODEL_ca870857fc4348399b2ce04c4c65dc44",
        "IPY_MODEL_c03697d4b65f480f8754a696b28d3108"
       ],
       "layout": "IPY_MODEL_6902e941357f4da3909e9634c1aff38d"
      }
     },
     "2fef6cf3c1434c93ace3d6d01d7adf9a": {
      "model_module": "@jupyter-widgets/base",
      "model_module_version": "1.2.0",
      "model_name": "LayoutModel",
      "state": {
       "width": "60px"
      }
     },
     "3044608ebcec477cbb5badef1f077a5e": {
      "model_module": "@jupyter-widgets/controls",
      "model_module_version": "1.5.0",
      "model_name": "IntProgressModel",
      "state": {
       "layout": "IPY_MODEL_e042bad0ccba48958a6031aa34100cf4",
       "style": "IPY_MODEL_e2589044c5c04f2fab2f8abfe285f3f7",
       "value": 30
      }
     },
     "30d0f6f05cf04d8dac9bb1e648da7fb0": {
      "model_module": "@jupyter-widgets/controls",
      "model_module_version": "1.5.0",
      "model_name": "HTMLModel",
      "state": {
       "layout": "IPY_MODEL_687a79705d50407aad0bd2c1fd9caac7",
       "style": "IPY_MODEL_8da79ad23c294c9fb4200d690c123ac5",
       "value": "<font size=\"5\"><b>Strike Them Down</b></font size=>"
      }
     },
     "30edd8afe8e849539ba24808856cf493": {
      "model_module": "@jupyter-widgets/controls",
      "model_module_version": "1.5.0",
      "model_name": "ButtonStyleModel",
      "state": {}
     },
     "31152ee46723460d9b6df91d7b50c237": {
      "model_module": "@jupyter-widgets/base",
      "model_module_version": "1.2.0",
      "model_name": "LayoutModel",
      "state": {
       "width": "60px"
      }
     },
     "315f35fbeaa84849b1a6699d81b702fa": {
      "model_module": "@jupyter-widgets/controls",
      "model_module_version": "1.5.0",
      "model_name": "ButtonModel",
      "state": {
       "description": "EDIT",
       "layout": "IPY_MODEL_a1c18d3a8bc841b89a58480fb5844da6",
       "style": "IPY_MODEL_1e3158d420e846c2ba5ceb4268ca0228"
      }
     },
     "316beb495e3f4268adb6b1b866f9d7c6": {
      "model_module": "@jupyter-widgets/controls",
      "model_module_version": "1.5.0",
      "model_name": "ButtonModel",
      "state": {
       "layout": "IPY_MODEL_bbc666bc5d844f349d67805174db30db",
       "style": "IPY_MODEL_8dd4ff8706a74f668d747160b93f4c48"
      }
     },
     "3171a480785d4305bac398c1a8991f19": {
      "model_module": "@jupyter-widgets/controls",
      "model_module_version": "1.5.0",
      "model_name": "DescriptionStyleModel",
      "state": {
       "description_width": ""
      }
     },
     "31d68611cba948239ce27a1b29c2e45e": {
      "model_module": "@jupyter-widgets/controls",
      "model_module_version": "1.5.0",
      "model_name": "ButtonStyleModel",
      "state": {}
     },
     "31f399e83f9b4097b4ff50e2bb57deaa": {
      "model_module": "@jupyter-widgets/controls",
      "model_module_version": "1.5.0",
      "model_name": "CheckboxModel",
      "state": {
       "description": "Hide Conflicting Objectives",
       "disabled": false,
       "layout": "IPY_MODEL_0126fd3e2e474c26aa2b2f5c67564cda",
       "style": "IPY_MODEL_cd90de7bc7a749e0a1f988a043ff6fec",
       "value": true
      }
     },
     "320fd60b49044ffba9ac4bda7f6ee088": {
      "model_module": "@jupyter-widgets/controls",
      "model_module_version": "1.5.0",
      "model_name": "ProgressStyleModel",
      "state": {
       "description_width": ""
      }
     },
     "3238134c05e248f496c7cbb14aa37fe3": {
      "model_module": "@jupyter-widgets/base",
      "model_module_version": "1.2.0",
      "model_name": "LayoutModel",
      "state": {
       "border": "3px solid white",
       "display": "flex",
       "flex": "1 1 0%",
       "margin": "10px",
       "min_width": "400px",
       "overflow": "visible",
       "padding": "10px",
       "width": "auto"
      }
     },
     "323b34436dfc4da2bc736ec2bebccb61": {
      "model_module": "@jupyter-widgets/controls",
      "model_module_version": "1.5.0",
      "model_name": "ButtonStyleModel",
      "state": {}
     },
     "32d8519958ea4923af46430f4ad93d36": {
      "model_module": "@jupyter-widgets/controls",
      "model_module_version": "1.5.0",
      "model_name": "VBoxModel",
      "state": {
       "children": [
        "IPY_MODEL_0806d6abbd6045caa403db7434c5671d",
        "IPY_MODEL_e246f8758c1140119f3654d8e4384cc3",
        "IPY_MODEL_e95a22e642544fe0881490abbb38f3c9",
        "IPY_MODEL_8fca6edae7c54a858781da4648d21ba1"
       ],
       "layout": "IPY_MODEL_f9d18c221d3347638938ddef93464e6a"
      }
     },
     "32e0e0a510e84126bbacc01f5fc08892": {
      "model_module": "@jupyter-widgets/controls",
      "model_module_version": "1.5.0",
      "model_name": "HBoxModel",
      "state": {
       "children": [
        "IPY_MODEL_7e4db4fd42004801acddf45ec3741db4",
        "IPY_MODEL_c1599ba1b5f94213abb05d535d60db59",
        "IPY_MODEL_058c3d826aaf422380a7b51e56658a58",
        "IPY_MODEL_f66f78809958463f9efa36acba91a01c"
       ],
       "layout": "IPY_MODEL_25ad67e5e4364756a3675c5b30cf96a2"
      }
     },
     "333075d3076e49feb4bbc88d5a972f97": {
      "model_module": "@jupyter-widgets/base",
      "model_module_version": "1.2.0",
      "model_name": "LayoutModel",
      "state": {
       "height": "32px",
       "order": "-2",
       "width": "32px"
      }
     },
     "334f220d2dbb475994a29f9e1a6f3733": {
      "model_module": "@jupyter-widgets/controls",
      "model_module_version": "1.5.0",
      "model_name": "HBoxModel",
      "state": {
       "children": [
        "IPY_MODEL_0d460376ccc2428380daf27d55980a39",
        "IPY_MODEL_7bda42222dbe4a82b0952830cd00fd11",
        "IPY_MODEL_b7a3584775554b4a924163ead8d8d64d",
        "IPY_MODEL_5460e110a95d4361b8af58b078a6232a"
       ],
       "layout": "IPY_MODEL_9b7fc2ae66cf4f0885046f2314d355de"
      }
     },
     "337283eb2b88419ea70912c8f53173ce": {
      "model_module": "@jupyter-widgets/controls",
      "model_module_version": "1.5.0",
      "model_name": "ButtonModel",
      "state": {
       "description": "EDIT",
       "layout": "IPY_MODEL_0ae484f251b44ca7b47030e3bdb388bd",
       "style": "IPY_MODEL_6a563db80f0a4969b20b418cc8c70f10"
      }
     },
     "338fd43d06574871bedb6a0da7a47569": {
      "model_module": "@jupyter-widgets/controls",
      "model_module_version": "1.5.0",
      "model_name": "LabelModel",
      "state": {
       "layout": "IPY_MODEL_1524400cd11a4523bc08bcb4697c4bd1",
       "style": "IPY_MODEL_e7874e6322d740ae8aa2df96519f42c4",
       "value": "   objective"
      }
     },
     "3395c3e386fb4dec943d28e097dd9a01": {
      "model_module": "@jupyter-widgets/controls",
      "model_module_version": "1.5.0",
      "model_name": "LabelModel",
      "state": {
       "layout": "IPY_MODEL_3e8255d0adcf4063adb8145f4c4a76c5",
       "style": "IPY_MODEL_27a803e912ad4edc9026ed902a6f1088",
       "value": "Armor Set:"
      }
     },
     "33ab3704126a4d7b8c63847757d64ebd": {
      "model_module": "@jupyter-widgets/base",
      "model_module_version": "1.2.0",
      "model_name": "LayoutModel",
      "state": {
       "width": "60px"
      }
     },
     "33af92deab35434b97f052f99a7c1c5a": {
      "model_module": "@jupyter-widgets/base",
      "model_module_version": "1.2.0",
      "model_name": "LayoutModel",
      "state": {
       "display": "none"
      }
     },
     "33ecdac3eb234d6594d71beaacad870e": {
      "model_module": "@jupyter-widgets/controls",
      "model_module_version": "1.5.0",
      "model_name": "HBoxModel",
      "state": {
       "children": [
        "IPY_MODEL_b74554b04d844edb8c9c8a4f481325a5",
        "IPY_MODEL_ecf959b8b60b4c38bc6cf034432074b2",
        "IPY_MODEL_8e8fc77afa054b15835caed0b5d9cf37",
        "IPY_MODEL_24673c4b6f3c4403a7541e1827424377"
       ],
       "layout": "IPY_MODEL_a1ebd769e59141f19e1b9893929c9c73"
      }
     },
     "34081d64347f4cdcb25ed606de147298": {
      "model_module": "@jupyter-widgets/controls",
      "model_module_version": "1.5.0",
      "model_name": "HBoxModel",
      "state": {
       "children": [
        "IPY_MODEL_2405f67c618946b7a977cabf89605ee5",
        "IPY_MODEL_bb8d77f25bad40598fa131441588a131",
        "IPY_MODEL_74ae321918a0414589bf0dbebd6fbcc3",
        "IPY_MODEL_5089b00bd6c149ae90505868e31770ae"
       ],
       "layout": "IPY_MODEL_5456c98d8df74679bc58641f8d7b8300"
      }
     },
     "340e5e1059594391b99544550b08d7e5": {
      "model_module": "@jupyter-widgets/controls",
      "model_module_version": "1.5.0",
      "model_name": "DescriptionStyleModel",
      "state": {
       "description_width": ""
      }
     },
     "341daaca4f874aadb85b5e28242a6898": {
      "model_module": "@jupyter-widgets/base",
      "model_module_version": "1.2.0",
      "model_name": "LayoutModel",
      "state": {
       "width": "60px"
      }
     },
     "3481ea3381a64bf1992e4f036f3258d9": {
      "model_module": "@jupyter-widgets/controls",
      "model_module_version": "1.5.0",
      "model_name": "IntProgressModel",
      "state": {
       "layout": "IPY_MODEL_fc746f211f364be991ae1f8457c6fbdd",
       "max": 1,
       "style": "IPY_MODEL_e76362dd8b694f09a453de0d6ea13d29"
      }
     },
     "348c4bd6deff4505a8ea9bf27e450f65": {
      "model_module": "@jupyter-widgets/base",
      "model_module_version": "1.2.0",
      "model_name": "LayoutModel",
      "state": {
       "order": "-1",
       "overflow": "visible",
       "padding": "1px",
       "width": "0px"
      }
     },
     "34e15734aa304b90a30879d6a2fa3e5c": {
      "model_module": "@jupyter-widgets/controls",
      "model_module_version": "1.5.0",
      "model_name": "ButtonModel",
      "state": {
       "description": "EDIT",
       "layout": "IPY_MODEL_42e63565c2b54efda5f808acc4c036eb",
       "style": "IPY_MODEL_e7ea626989aa4967bd7dfdbfa097ca5b"
      }
     },
     "34f81bb84bdf4b2299bb80ba1963ec74": {
      "model_module": "@jupyter-widgets/base",
      "model_module_version": "1.2.0",
      "model_name": "LayoutModel",
      "state": {
       "display": "flex"
      }
     },
     "350f9817768141f4a33f982ed39ddb3f": {
      "model_module": "@jupyter-widgets/base",
      "model_module_version": "1.2.0",
      "model_name": "LayoutModel",
      "state": {
       "width": "60px"
      }
     },
     "353a72f64b9d4e1c95938f18aeb352f6": {
      "model_module": "@jupyter-widgets/controls",
      "model_module_version": "1.5.0",
      "model_name": "HBoxModel",
      "state": {
       "children": [
        "IPY_MODEL_adbd58f70a46452fb2c308e6eea1494b",
        "IPY_MODEL_82079115757543859abef9defa4600c4",
        "IPY_MODEL_3c43fec57f074aae88f678e6009159a7",
        "IPY_MODEL_480e2149a7834e828b5364d79888b38d"
       ],
       "layout": "IPY_MODEL_27a86ccfbd864d9792e212e4e0099345"
      }
     },
     "356a8d8d04ec48738683a100989d7839": {
      "model_module": "@jupyter-widgets/controls",
      "model_module_version": "1.5.0",
      "model_name": "ProgressStyleModel",
      "state": {
       "description_width": ""
      }
     },
     "357361cf43c14378860795f085f493fa": {
      "model_module": "@jupyter-widgets/controls",
      "model_module_version": "1.5.0",
      "model_name": "ButtonModel",
      "state": {
       "layout": "IPY_MODEL_de27481db4d64cb5af95e2a257a9893b",
       "style": "IPY_MODEL_53f6ceb8566246c18aacaf4b8e99d1c4"
      }
     },
     "35886dc4f2064b948d6eff6e6037947b": {
      "model_module": "@jupyter-widgets/base",
      "model_module_version": "1.2.0",
      "model_name": "LayoutModel",
      "state": {
       "display": "none"
      }
     },
     "359dfd6f479f46fc996f69fd43ea1b81": {
      "model_module": "@jupyter-widgets/base",
      "model_module_version": "1.2.0",
      "model_name": "LayoutModel",
      "state": {
       "display": "none"
      }
     },
     "3607050b1d57423db151d56341ee0761": {
      "model_module": "@jupyter-widgets/controls",
      "model_module_version": "1.5.0",
      "model_name": "ButtonModel",
      "state": {
       "layout": "IPY_MODEL_e822df1ed7594f238f94c44ca3c03d94",
       "style": "IPY_MODEL_7f915d5e2ac54cff9d9671511be90ac6"
      }
     },
     "3616b8da9d1d4437879997fbfc466342": {
      "model_module": "@jupyter-widgets/controls",
      "model_module_version": "1.5.0",
      "model_name": "ButtonModel",
      "state": {
       "layout": "IPY_MODEL_858134500c1a438c82c8af21a837828c",
       "style": "IPY_MODEL_e181a9d817d54f0d92d28d13252220b0"
      }
     },
     "36387b8b508640c7b4eb0786d58827cb": {
      "model_module": "@jupyter-widgets/controls",
      "model_module_version": "1.5.0",
      "model_name": "LabelModel",
      "state": {
       "layout": "IPY_MODEL_125dba09c3a143c8a2a6bed9dc8277dc",
       "style": "IPY_MODEL_11a98098ca7f46ebb789e0e606dbf048",
       "value": "   objective"
      }
     },
     "364e66caacbb445fb9c26adebf075acc": {
      "model_module": "@jupyter-widgets/base",
      "model_module_version": "1.2.0",
      "model_name": "LayoutModel",
      "state": {
       "height": "32px",
       "overflow": "visible",
       "width": "100%"
      }
     },
     "36b1968e82a9487ab5c96f4b501033a7": {
      "model_module": "@jupyter-widgets/base",
      "model_module_version": "1.2.0",
      "model_name": "LayoutModel",
      "state": {
       "overflow": "visible",
       "width": "100%"
      }
     },
     "36bcaa8986294d8faab5e04bfa56a407": {
      "model_module": "@jupyter-widgets/controls",
      "model_module_version": "1.5.0",
      "model_name": "ButtonStyleModel",
      "state": {}
     },
     "36cafbefb0784cbfa30a22f27740d328": {
      "model_module": "@jupyter-widgets/controls",
      "model_module_version": "1.5.0",
      "model_name": "DescriptionStyleModel",
      "state": {
       "description_width": ""
      }
     },
     "36e9c8fb2ce84a6eac033b326e941856": {
      "model_module": "@jupyter-widgets/controls",
      "model_module_version": "1.5.0",
      "model_name": "ButtonModel",
      "state": {
       "button_style": "success",
       "disabled": true,
       "layout": "IPY_MODEL_2963ee707f68463ba285a2ba117a8b5f",
       "style": "IPY_MODEL_d2f59610fcc94389aef4f2b1abe24459"
      }
     },
     "37690ebd79f9462ca5463d8a59411026": {
      "model_module": "@jupyter-widgets/base",
      "model_module_version": "1.2.0",
      "model_name": "LayoutModel",
      "state": {
       "height": "32px",
       "order": "-2",
       "width": "32px"
      }
     },
     "377f9c4c2b194de69136e9714233574b": {
      "model_module": "@jupyter-widgets/controls",
      "model_module_version": "1.5.0",
      "model_name": "IntProgressModel",
      "state": {
       "layout": "IPY_MODEL_192b37e0a9a4445fb58be68d6cce0d2c",
       "max": 1,
       "style": "IPY_MODEL_b74c7a9f42514b37a3bbf23c10af27a6"
      }
     },
     "37c90679d8e0427b8bfdd7e583d5622b": {
      "model_module": "@jupyter-widgets/base",
      "model_module_version": "1.2.0",
      "model_name": "LayoutModel",
      "state": {
       "order": "-1",
       "overflow": "visible",
       "padding": "1px",
       "width": "0px"
      }
     },
     "37d802a330044f8ea1bfee1da526645b": {
      "model_module": "@jupyter-widgets/controls",
      "model_module_version": "1.5.0",
      "model_name": "HTMLModel",
      "state": {
       "layout": "IPY_MODEL_f161b2d89eae49bbaede07fc33f92c32",
       "style": "IPY_MODEL_523fe7fb635546039778e8fd839951be",
       "value": "<font size=\"5\"><b>A Desperate Ploy</b></font size=>"
      }
     },
     "37fe33dc4b4b435e929c448c2e7cb4bf": {
      "model_module": "@jupyter-widgets/controls",
      "model_module_version": "1.5.0",
      "model_name": "DescriptionStyleModel",
      "state": {
       "description_width": ""
      }
     },
     "382a41ee57934171b7148ee1f7cc54c1": {
      "model_module": "@jupyter-widgets/controls",
      "model_module_version": "1.5.0",
      "model_name": "BoxModel",
      "state": {
       "children": [
        "IPY_MODEL_228623b0482942929cf218facbbf9f98",
        "IPY_MODEL_dd708634cfde4f82b0ae09e236fc8720",
        "IPY_MODEL_51e90f1d4bf24dd1a7f156ad1a31cec7",
        "IPY_MODEL_8058f86a218c4cf882403996050575a5",
        "IPY_MODEL_ffdf1d6ab02c4846b3bf2779792791de",
        "IPY_MODEL_f2b2bd0530134828ba696384ba19a0fd",
        "IPY_MODEL_04d7bbb4a78b401888e86087367e2f5a",
        "IPY_MODEL_c73f176fa86e421890f56afc50153f60",
        "IPY_MODEL_abedc72464224ca48654c152673de46f",
        "IPY_MODEL_e7f18a189b404b89aecc1bfcb8a44f4c",
        "IPY_MODEL_8b12ce24534447fdbc7592fe527ba1cf",
        "IPY_MODEL_e36a8327029842aab33e5051c416ed13",
        "IPY_MODEL_7f2bc6516daf49e998d48716471cb73f",
        "IPY_MODEL_32d8519958ea4923af46430f4ad93d36",
        "IPY_MODEL_850a2541b9044fcab128a6d8d2800ede"
       ],
       "layout": "IPY_MODEL_7dab404ad3d54c6da221c3b13a52d0fc"
      }
     },
     "384511066148434b93c52b92cbf839bf": {
      "model_module": "@jupyter-widgets/controls",
      "model_module_version": "1.5.0",
      "model_name": "VBoxModel",
      "state": {
       "children": [
        "IPY_MODEL_7141c8ede3c1435a9d82df1a06ab255f",
        "IPY_MODEL_e6befeae9efc4721a342933fc59b7ce9",
        "IPY_MODEL_87e315bb7c374bd8b5d728515f5ad458",
        "IPY_MODEL_6c50e96efca942d09b142f0b40e5e416",
        "IPY_MODEL_ffa311e99b96450a8eec0d8b686b836e",
        "IPY_MODEL_c778d6b514a0468bb4f1399d6fefa0ca"
       ],
       "layout": "IPY_MODEL_b688dd9f72414bd7a3f45ac5af09c023"
      }
     },
     "3849f5fea7d04e36804608823ceb2290": {
      "model_module": "@jupyter-widgets/controls",
      "model_module_version": "1.5.0",
      "model_name": "DescriptionStyleModel",
      "state": {
       "description_width": ""
      }
     },
     "3887066631154ebbb88858635817b944": {
      "model_module": "@jupyter-widgets/controls",
      "model_module_version": "1.5.0",
      "model_name": "ProgressStyleModel",
      "state": {
       "description_width": ""
      }
     },
     "389cf32a3aec4bbdbac5ca39d520c0d6": {
      "model_module": "@jupyter-widgets/controls",
      "model_module_version": "1.5.0",
      "model_name": "LabelModel",
      "state": {
       "layout": "IPY_MODEL_ec72b7f123cf4e5dae50562e324239df",
       "style": "IPY_MODEL_ea6f00a0591040259373187d388d8f59",
       "value": "   objective"
      }
     },
     "38a9c3e44395473da8ccbaf9e0370c8f": {
      "model_module": "@jupyter-widgets/controls",
      "model_module_version": "1.5.0",
      "model_name": "HBoxModel",
      "state": {
       "children": [
        "IPY_MODEL_7b6e71e869ae445589890c0714904d3d",
        "IPY_MODEL_6f49018da4a04c8fbe3ba262e6b56e02",
        "IPY_MODEL_a75ea66a89ff48e6983776aa7b609a27",
        "IPY_MODEL_4b74786710da4e2b8f0d4b8d66986bc1"
       ],
       "layout": "IPY_MODEL_82521f00ed4f496e9814b4d91bf7008e"
      }
     },
     "38c6fdf8a5ff4281ab2ce4b3b00acdd5": {
      "model_module": "@jupyter-widgets/controls",
      "model_module_version": "1.5.0",
      "model_name": "HTMLModel",
      "state": {
       "layout": "IPY_MODEL_85794bbd10044bae9d594e0ab0e38a43",
       "style": "IPY_MODEL_0a0f3ba3cdac40edbbab40dd141a5773",
       "value": "<font size=\"1\">Triumphs/Destinations/Minor/The Haul</font size=>"
      }
     },
     "38eb7ec0ec3948acb700624324da570d": {
      "model_module": "@jupyter-widgets/base",
      "model_module_version": "1.2.0",
      "model_name": "LayoutModel",
      "state": {
       "width": "60px"
      }
     },
     "3900c0d247aa49b28d40527058d2d865": {
      "model_module": "@jupyter-widgets/controls",
      "model_module_version": "1.5.0",
      "model_name": "HBoxModel",
      "state": {
       "children": [
        "IPY_MODEL_d8dd0a4d642d4b8e8199a80965604ca3",
        "IPY_MODEL_606a378e6fce4d5284c46975fbb4a0c3",
        "IPY_MODEL_08ca501b9cfa485582029c21ac0114c9",
        "IPY_MODEL_d3fcb2b1c594425ab8c5136f3750e53d"
       ],
       "layout": "IPY_MODEL_1e5ba9958e9f43ecab08bd5c4b0bf19b"
      }
     },
     "3938e619310549eabc5292b8d8adb9b0": {
      "model_module": "@jupyter-widgets/base",
      "model_module_version": "1.2.0",
      "model_name": "LayoutModel",
      "state": {
       "height": "32px",
       "order": "-2",
       "width": "32px"
      }
     },
     "396c5090f19249f591c5ad6d6d3f85d7": {
      "model_module": "@jupyter-widgets/controls",
      "model_module_version": "1.5.0",
      "model_name": "ButtonStyleModel",
      "state": {}
     },
     "397df9e0d0354cba83b9734cae1c15ca": {
      "model_module": "@jupyter-widgets/base",
      "model_module_version": "1.2.0",
      "model_name": "LayoutModel",
      "state": {
       "display": "none"
      }
     },
     "39a79090d3b8441fada346de7adc7e6b": {
      "model_module": "@jupyter-widgets/controls",
      "model_module_version": "1.5.0",
      "model_name": "ButtonModel",
      "state": {
       "description": "EDIT",
       "layout": "IPY_MODEL_17eba87d80544d7d81749d89dfc0a0a7",
       "style": "IPY_MODEL_7d9ebb165ed04c3dade5951ac5b0cb01"
      }
     },
     "39a9a40ed9b64c96b4e8e815519594ce": {
      "model_module": "@jupyter-widgets/controls",
      "model_module_version": "1.5.0",
      "model_name": "VBoxModel",
      "state": {
       "children": [
        "IPY_MODEL_ace1b462fd39478cab154f4f544394ed",
        "IPY_MODEL_a0364aaa99bc4546af5a8bf40f4397b3",
        "IPY_MODEL_e34add24fb9548f18252fed0f1a08c00",
        "IPY_MODEL_a0364aaa99bc4546af5a8bf40f4397b3",
        "IPY_MODEL_7e64a9420a264c2fbf2c31997aac3af6"
       ],
       "layout": "IPY_MODEL_be3e2d31f3434b3d8b54354e8aaf628d"
      }
     },
     "39b8568372a84772ad4e5f0b277224f4": {
      "model_module": "@jupyter-widgets/controls",
      "model_module_version": "1.5.0",
      "model_name": "DescriptionStyleModel",
      "state": {
       "description_width": ""
      }
     },
     "39ca839fe6924ee597e036a19dd671eb": {
      "model_module": "@jupyter-widgets/controls",
      "model_module_version": "1.5.0",
      "model_name": "ButtonStyleModel",
      "state": {}
     },
     "39fbe5e01fc54c5984c7a195cff872cb": {
      "model_module": "@jupyter-widgets/controls",
      "model_module_version": "1.5.0",
      "model_name": "DescriptionStyleModel",
      "state": {
       "description_width": ""
      }
     },
     "3a0d3621dc484d5ea261bed99ef2bda0": {
      "model_module": "@jupyter-widgets/controls",
      "model_module_version": "1.5.0",
      "model_name": "HBoxModel",
      "state": {
       "children": [
        "IPY_MODEL_357361cf43c14378860795f085f493fa",
        "IPY_MODEL_79889c74b5334f19bd6aab6600cb489b",
        "IPY_MODEL_e8f9526bfc914169b887ee927e5d2562",
        "IPY_MODEL_bdaf715b81e14884b1501ba5f7cbf3c4"
       ],
       "layout": "IPY_MODEL_11dd7d31be8e4e7a841fe10c8fb3c8ef"
      }
     },
     "3a2f48b48e984690bffede4bdda0d61f": {
      "model_module": "@jupyter-widgets/base",
      "model_module_version": "1.2.0",
      "model_name": "LayoutModel",
      "state": {
       "display": "none"
      }
     },
     "3a3e9f3898424d43a7c3c4f145f99e16": {
      "model_module": "@jupyter-widgets/controls",
      "model_module_version": "1.5.0",
      "model_name": "ButtonStyleModel",
      "state": {}
     },
     "3a736a9cf9f6419ebc1bb2eb8aea2ede": {
      "model_module": "@jupyter-widgets/base",
      "model_module_version": "1.2.0",
      "model_name": "LayoutModel",
      "state": {
       "height": "32px",
       "order": "-2",
       "width": "32px"
      }
     },
     "3a83de3279dc492a8fc44da0fc334c36": {
      "model_module": "@jupyter-widgets/base",
      "model_module_version": "1.2.0",
      "model_name": "LayoutModel",
      "state": {
       "display": "none"
      }
     },
     "3b12e6353d564824945c0f781ef66cdd": {
      "model_module": "@jupyter-widgets/controls",
      "model_module_version": "1.5.0",
      "model_name": "CheckboxModel",
      "state": {
       "description": "Hide Complete Objectives",
       "disabled": false,
       "layout": "IPY_MODEL_c0be1780c1b24e18b8faad36ef9d7702",
       "style": "IPY_MODEL_48979115dd6743e98cc76e04de8ec116",
       "value": true
      }
     },
     "3b35116441b649b8b326d25bf34ddeb5": {
      "model_module": "@jupyter-widgets/controls",
      "model_module_version": "1.5.0",
      "model_name": "DescriptionStyleModel",
      "state": {
       "description_width": ""
      }
     },
     "3b480477a5d148b5a82640554c722a1d": {
      "model_module": "@jupyter-widgets/controls",
      "model_module_version": "1.5.0",
      "model_name": "ButtonStyleModel",
      "state": {}
     },
     "3b48cf11d1a4410c8e97affe9a3de242": {
      "model_module": "@jupyter-widgets/controls",
      "model_module_version": "1.5.0",
      "model_name": "ButtonStyleModel",
      "state": {}
     },
     "3b5153e4439c4ce899e6dc5e7e5b4a3a": {
      "model_module": "@jupyter-widgets/controls",
      "model_module_version": "1.5.0",
      "model_name": "IntProgressModel",
      "state": {
       "layout": "IPY_MODEL_7089a78154254750a92542e5dd21223c",
       "style": "IPY_MODEL_d8535bbeaafc48dfb85370d3b3837152",
       "value": 30
      }
     },
     "3b5a79f0eeb648fe84d981bb81178ada": {
      "model_module": "@jupyter-widgets/base",
      "model_module_version": "1.2.0",
      "model_name": "LayoutModel",
      "state": {
       "display": "none"
      }
     },
     "3b9bd6b803ca483e976b442c448e6c7c": {
      "model_module": "@jupyter-widgets/controls",
      "model_module_version": "1.5.0",
      "model_name": "ButtonStyleModel",
      "state": {}
     },
     "3ba9f024cbb349838ba296c864e319e6": {
      "model_module": "@jupyter-widgets/base",
      "model_module_version": "1.2.0",
      "model_name": "LayoutModel",
      "state": {}
     },
     "3bcf485374524eaab7e780a0ce7a1662": {
      "model_module": "@jupyter-widgets/controls",
      "model_module_version": "1.5.0",
      "model_name": "ButtonModel",
      "state": {
       "layout": "IPY_MODEL_4bf12dbeb77c447a98e689d5e4a4f192",
       "style": "IPY_MODEL_f6977f4d71a940e1a6a1658485e36bc6"
      }
     },
     "3bdf355db59641e08abc7846ec8038ac": {
      "model_module": "@jupyter-widgets/controls",
      "model_module_version": "1.5.0",
      "model_name": "ButtonModel",
      "state": {
       "description": "Sign In",
       "layout": "IPY_MODEL_a28d1c4be9e049d5aa45b9c95006abb9",
       "style": "IPY_MODEL_163e1f71bb764c27af80d8875e63d7c3"
      }
     },
     "3bef62632e4944edbf918a0d4b64275e": {
      "model_module": "@jupyter-widgets/controls",
      "model_module_version": "1.5.0",
      "model_name": "DescriptionStyleModel",
      "state": {
       "description_width": ""
      }
     },
     "3bf4f7c60a02466087a8b021a3f17451": {
      "model_module": "@jupyter-widgets/base",
      "model_module_version": "1.2.0",
      "model_name": "LayoutModel",
      "state": {
       "height": "32px",
       "order": "-2",
       "width": "32px"
      }
     },
     "3c43fec57f074aae88f678e6009159a7": {
      "model_module": "@jupyter-widgets/controls",
      "model_module_version": "1.5.0",
      "model_name": "LabelModel",
      "state": {
       "layout": "IPY_MODEL_10c2722a28f54389b0254b3b677dbd90",
       "style": "IPY_MODEL_eb0c12883ad94caaac9a66ff9c2dd141",
       "value": "   objective"
      }
     },
     "3c8699f4ab524f32b7f4dfdfbb7a2404": {
      "model_module": "@jupyter-widgets/base",
      "model_module_version": "1.2.0",
      "model_name": "LayoutModel",
      "state": {}
     },
     "3c9b9e553d6142fe8288ae39a4fa7a2b": {
      "model_module": "@jupyter-widgets/controls",
      "model_module_version": "1.5.0",
      "model_name": "DescriptionStyleModel",
      "state": {
       "description_width": ""
      }
     },
     "3cc09f29328e4860bf29b0c8e7eb6ca7": {
      "model_module": "@jupyter-widgets/base",
      "model_module_version": "1.2.0",
      "model_name": "LayoutModel",
      "state": {
       "display": "none"
      }
     },
     "3cd6f7eea0924adfac85b0f5d6250190": {
      "model_module": "@jupyter-widgets/controls",
      "model_module_version": "1.5.0",
      "model_name": "ButtonStyleModel",
      "state": {}
     },
     "3cec22596869471fb62e2de6075ab36a": {
      "model_module": "@jupyter-widgets/base",
      "model_module_version": "1.2.0",
      "model_name": "LayoutModel",
      "state": {
       "width": "60px"
      }
     },
     "3ced472557d94b6f909d4e2b8166d7c4": {
      "model_module": "@jupyter-widgets/base",
      "model_module_version": "1.2.0",
      "model_name": "LayoutModel",
      "state": {
       "order": "-1",
       "overflow": "visible",
       "padding": "1px",
       "width": "0px"
      }
     },
     "3cf0b080dba7463c9291e496df56ddbc": {
      "model_module": "@jupyter-widgets/controls",
      "model_module_version": "1.5.0",
      "model_name": "ButtonStyleModel",
      "state": {}
     },
     "3d1df1ec214c44fdaf89707f52c7c57e": {
      "model_module": "@jupyter-widgets/controls",
      "model_module_version": "1.5.0",
      "model_name": "IntProgressModel",
      "state": {
       "layout": "IPY_MODEL_6d4f8f20bffc4b7ca513cce9d99cc6a2",
       "style": "IPY_MODEL_5c26c9bac56d45d191743f24ba55ca54",
       "value": 30
      }
     },
     "3d5a62015e1f4aa9a810c532935048ca": {
      "model_module": "@jupyter-widgets/controls",
      "model_module_version": "1.5.0",
      "model_name": "DescriptionStyleModel",
      "state": {
       "description_width": ""
      }
     },
     "3d62057232ec44b192ac25b2cd3b69e8": {
      "model_module": "@jupyter-widgets/base",
      "model_module_version": "1.2.0",
      "model_name": "LayoutModel",
      "state": {
       "height": "32px",
       "order": "-2",
       "width": "32px"
      }
     },
     "3d6eb48177ff4fbea7645d35f4fe5613": {
      "model_module": "@jupyter-widgets/base",
      "model_module_version": "1.2.0",
      "model_name": "LayoutModel",
      "state": {
       "height": "32px",
       "overflow": "visible",
       "width": "100%"
      }
     },
     "3d71591691c142618b14be6b2a8c791c": {
      "model_module": "@jupyter-widgets/controls",
      "model_module_version": "1.5.0",
      "model_name": "ButtonModel",
      "state": {
       "layout": "IPY_MODEL_4a2cb6866ad74ee9a909378eff8e3e9d",
       "style": "IPY_MODEL_80da39f391744c7495ae7662ad8d67f1"
      }
     },
     "3d8304c165a14987a0033aaa294bda37": {
      "model_module": "@jupyter-widgets/base",
      "model_module_version": "1.2.0",
      "model_name": "LayoutModel",
      "state": {
       "height": "32px",
       "order": "-2",
       "width": "32px"
      }
     },
     "3e104ba3c9224d498421ec3824da96f6": {
      "model_module": "@jupyter-widgets/controls",
      "model_module_version": "1.5.0",
      "model_name": "ButtonModel",
      "state": {
       "layout": "IPY_MODEL_3d8304c165a14987a0033aaa294bda37",
       "style": "IPY_MODEL_595b179ac4004c1baaca2210da2675a3"
      }
     },
     "3e25207260484048a94e4e7e21c89752": {
      "model_module": "@jupyter-widgets/controls",
      "model_module_version": "1.5.0",
      "model_name": "HBoxModel",
      "state": {
       "children": [
        "IPY_MODEL_25a2286930b94ab390e961cd4df32cf2",
        "IPY_MODEL_0266e136e8ee442e9dee1837f2a798e3",
        "IPY_MODEL_d8bb97b870a44251a933b72e6e8c8b52",
        "IPY_MODEL_43839393b9ad40f3b2dad9a97fd81877"
       ],
       "layout": "IPY_MODEL_2b4b678688ed4a2ebd1b1ca0d41e4b64"
      }
     },
     "3e2818b6fdbd434eae0a818bcef14081": {
      "model_module": "@jupyter-widgets/controls",
      "model_module_version": "1.5.0",
      "model_name": "HBoxModel",
      "state": {
       "children": [
        "IPY_MODEL_646c4c2bfdfd4326b3eaca22c2f2b0af",
        "IPY_MODEL_5272cdcecc1c4bfbb1429209904f9b6c",
        "IPY_MODEL_7ee0c7ac348f44909f0de3242aa2c4d9",
        "IPY_MODEL_d0feb171546f415dace85f077ab1b26c"
       ],
       "layout": "IPY_MODEL_2f7c5e2a93a6413ba58656be36475a9b"
      }
     },
     "3e335e708eac4b55bd48eae7e5718823": {
      "model_module": "@jupyter-widgets/controls",
      "model_module_version": "1.5.0",
      "model_name": "DescriptionStyleModel",
      "state": {
       "description_width": ""
      }
     },
     "3e8255d0adcf4063adb8145f4c4a76c5": {
      "model_module": "@jupyter-widgets/base",
      "model_module_version": "1.2.0",
      "model_name": "LayoutModel",
      "state": {}
     },
     "3ea84cf731234799a020d3697ea99b58": {
      "model_module": "@jupyter-widgets/base",
      "model_module_version": "1.2.0",
      "model_name": "LayoutModel",
      "state": {
       "height": "32px",
       "order": "-2",
       "width": "32px"
      }
     },
     "3eddedae9059435480360c87c23040c5": {
      "model_module": "@jupyter-widgets/base",
      "model_module_version": "1.2.0",
      "model_name": "LayoutModel",
      "state": {
       "order": "-1",
       "overflow": "visible",
       "padding": "1px",
       "width": "0px"
      }
     },
     "3f5999f555d4427091463fbeafaf8f1d": {
      "model_module": "@jupyter-widgets/controls",
      "model_module_version": "1.5.0",
      "model_name": "ButtonStyleModel",
      "state": {}
     },
     "3f921693a3b34296aded9e2f55223380": {
      "model_module": "@jupyter-widgets/base",
      "model_module_version": "1.2.0",
      "model_name": "LayoutModel",
      "state": {
       "overflow": "visible",
       "width": "100%"
      }
     },
     "3fab7ed8813d4c1f99c97d2ecec41c21": {
      "model_module": "@jupyter-widgets/base",
      "model_module_version": "1.2.0",
      "model_name": "LayoutModel",
      "state": {
       "display": "flex"
      }
     },
     "3ffaf4f267a14c11bb276a97dbbe6dbc": {
      "model_module": "@jupyter-widgets/controls",
      "model_module_version": "1.5.0",
      "model_name": "ButtonModel",
      "state": {
       "description": "EDIT",
       "layout": "IPY_MODEL_fe97ce3437014232836ee9ff93c0d292",
       "style": "IPY_MODEL_7f1b6c04b5d54a80a0a84d8e79049003"
      }
     },
     "3ffc84e3f17a4fb399c0e15c44dc7f81": {
      "model_module": "@jupyter-widgets/controls",
      "model_module_version": "1.5.0",
      "model_name": "ButtonStyleModel",
      "state": {}
     },
     "403eca168678461fbc5ac1ca1ed23b0f": {
      "model_module": "@jupyter-widgets/controls",
      "model_module_version": "1.5.0",
      "model_name": "HBoxModel",
      "state": {
       "children": [
        "IPY_MODEL_a75ab8cae9554ee5a0f863ec24797226",
        "IPY_MODEL_22ea43458dd440f08ed989e73044a521",
        "IPY_MODEL_736b9253a3024243b0da3e083363ed4d",
        "IPY_MODEL_a132fef920394e9f9a2004d3f4710dc2"
       ],
       "layout": "IPY_MODEL_56b0a6ccaa0848f6a3126bcf7dd53a77"
      }
     },
     "404e7a606366408a8b8e3bc1d9aa2cc6": {
      "model_module": "@jupyter-widgets/base",
      "model_module_version": "1.2.0",
      "model_name": "LayoutModel",
      "state": {
       "order": "-1",
       "overflow": "visible",
       "padding": "1px",
       "width": "0px"
      }
     },
     "4085e5cafeb4465880e99ba16a5d6346": {
      "model_module": "@jupyter-widgets/base",
      "model_module_version": "1.2.0",
      "model_name": "LayoutModel",
      "state": {}
     },
     "40dbbe66f29e4164805ea5e2a90d971c": {
      "model_module": "@jupyter-widgets/controls",
      "model_module_version": "1.5.0",
      "model_name": "DescriptionStyleModel",
      "state": {
       "description_width": ""
      }
     },
     "40fd20a4886e45b1bea8d87b451c31f9": {
      "model_module": "@jupyter-widgets/base",
      "model_module_version": "1.2.0",
      "model_name": "LayoutModel",
      "state": {
       "display": "none"
      }
     },
     "4118e5573d4f4f25937ef242f3e6b554": {
      "model_module": "@jupyter-widgets/controls",
      "model_module_version": "1.5.0",
      "model_name": "IntProgressModel",
      "state": {
       "layout": "IPY_MODEL_712cb95b0032424f93e0fb6b973140ec",
       "style": "IPY_MODEL_2bde1dc5ec2447ed939f472ff08ada0c",
       "value": 30
      }
     },
     "41763a2fc95c446086f0ba438cd53358": {
      "model_module": "@jupyter-widgets/base",
      "model_module_version": "1.2.0",
      "model_name": "LayoutModel",
      "state": {
       "display": "none"
      }
     },
     "417c2a84df4f40a2a564dd07d2c2c771": {
      "model_module": "@jupyter-widgets/base",
      "model_module_version": "1.2.0",
      "model_name": "LayoutModel",
      "state": {
       "width": "60px"
      }
     },
     "41a56b28a9f64bf8baa59f014dd3c76f": {
      "model_module": "@jupyter-widgets/controls",
      "model_module_version": "1.5.0",
      "model_name": "HTMLModel",
      "state": {
       "layout": "IPY_MODEL_16f0f92ee24b4b4ba792d8effc82cbdd",
       "style": "IPY_MODEL_66182195c47a4d6b9118e54337b94f2a",
       "value": "Showing Tasks 1-15 of 575"
      }
     },
     "41cc4c58c61844a78ac5d26804af0fc7": {
      "model_module": "@jupyter-widgets/controls",
      "model_module_version": "1.5.0",
      "model_name": "DescriptionStyleModel",
      "state": {
       "description_width": ""
      }
     },
     "4221fc604a41475aa8fe52943a876d44": {
      "model_module": "@jupyter-widgets/base",
      "model_module_version": "1.2.0",
      "model_name": "LayoutModel",
      "state": {
       "display": "none"
      }
     },
     "422dd091e236416894a5e706adb5d891": {
      "model_module": "@jupyter-widgets/base",
      "model_module_version": "1.2.0",
      "model_name": "LayoutModel",
      "state": {
       "width": "60px"
      }
     },
     "423a1d13ce1c4dc684aada863c947e92": {
      "model_module": "@jupyter-widgets/controls",
      "model_module_version": "1.5.0",
      "model_name": "ButtonStyleModel",
      "state": {}
     },
     "425107668ddc4bc7a55f15b8195d53d6": {
      "model_module": "@jupyter-widgets/controls",
      "model_module_version": "1.5.0",
      "model_name": "ProgressStyleModel",
      "state": {
       "description_width": ""
      }
     },
     "427eb5f99dbf4ad19f73f1809d042064": {
      "model_module": "@jupyter-widgets/controls",
      "model_module_version": "1.5.0",
      "model_name": "ButtonModel",
      "state": {
       "button_style": "danger",
       "disabled": true,
       "layout": "IPY_MODEL_bcd4799e60844be1af4942f45bc9fbc0",
       "style": "IPY_MODEL_a25e84d1c43847bb9fa1896668b64f8b"
      }
     },
     "42cd21d14788416c896a99fc3f6c4be4": {
      "model_module": "@jupyter-widgets/controls",
      "model_module_version": "1.5.0",
      "model_name": "ButtonStyleModel",
      "state": {}
     },
     "42da4ac6c3984583b3384a8ecd5eb855": {
      "model_module": "@jupyter-widgets/controls",
      "model_module_version": "1.5.0",
      "model_name": "DescriptionStyleModel",
      "state": {
       "description_width": ""
      }
     },
     "42e2fd317d6c4b6ebd236d2a197d32cd": {
      "model_module": "@jupyter-widgets/base",
      "model_module_version": "1.2.0",
      "model_name": "LayoutModel",
      "state": {}
     },
     "42e63565c2b54efda5f808acc4c036eb": {
      "model_module": "@jupyter-widgets/base",
      "model_module_version": "1.2.0",
      "model_name": "LayoutModel",
      "state": {
       "width": "60px"
      }
     },
     "43043ddad9f0427c8bced172b87df071": {
      "model_module": "@jupyter-widgets/controls",
      "model_module_version": "1.5.0",
      "model_name": "ButtonModel",
      "state": {
       "layout": "IPY_MODEL_4d1572a9f4bf4a56807a26f68cae0dda",
       "style": "IPY_MODEL_42cd21d14788416c896a99fc3f6c4be4"
      }
     },
     "43331580b30c4957ac4091455ca7b4bc": {
      "model_module": "@jupyter-widgets/controls",
      "model_module_version": "1.5.0",
      "model_name": "HBoxModel",
      "state": {
       "children": [
        "IPY_MODEL_6b09e82a4cc14cdba0f2a392f9f88faf",
        "IPY_MODEL_536649362b234c7399fff1fd4a10085d",
        "IPY_MODEL_447c598c783044d4b1d532ac848c027a",
        "IPY_MODEL_472b9a6ad6604ca6ab0e72cf6840bd1f"
       ],
       "layout": "IPY_MODEL_3a2f48b48e984690bffede4bdda0d61f"
      }
     },
     "4369f19155f54c2b93e356d48c8a39ba": {
      "model_module": "@jupyter-widgets/base",
      "model_module_version": "1.2.0",
      "model_name": "LayoutModel",
      "state": {
       "border": "3px solid white",
       "display": "flex",
       "flex": "1 1 0%",
       "margin": "10px",
       "min_width": "400px",
       "overflow": "visible",
       "padding": "10px",
       "width": "auto"
      }
     },
     "43839393b9ad40f3b2dad9a97fd81877": {
      "model_module": "@jupyter-widgets/controls",
      "model_module_version": "1.5.0",
      "model_name": "ButtonModel",
      "state": {
       "description": "EDIT",
       "layout": "IPY_MODEL_417c2a84df4f40a2a564dd07d2c2c771",
       "style": "IPY_MODEL_e4180139fc234577b867a6a9ff4a20c3"
      }
     },
     "43c5aed6e70b4da3bedd7693df3b2558": {
      "model_module": "@jupyter-widgets/base",
      "model_module_version": "1.2.0",
      "model_name": "LayoutModel",
      "state": {
       "display": "none"
      }
     },
     "4447b067d02348bf96bacbd42992b317": {
      "model_module": "@jupyter-widgets/controls",
      "model_module_version": "1.5.0",
      "model_name": "DescriptionStyleModel",
      "state": {
       "description_width": ""
      }
     },
     "447c598c783044d4b1d532ac848c027a": {
      "model_module": "@jupyter-widgets/controls",
      "model_module_version": "1.5.0",
      "model_name": "LabelModel",
      "state": {
       "layout": "IPY_MODEL_9eca5f5da7f649d2a7377f0a79afb280",
       "style": "IPY_MODEL_ffa8f67706524fd1adac9ea43ea3fcbf",
       "value": "   objective"
      }
     },
     "447ff425cb00403fa4c9ec2138a03358": {
      "model_module": "@jupyter-widgets/controls",
      "model_module_version": "1.5.0",
      "model_name": "LabelModel",
      "state": {
       "layout": "IPY_MODEL_1015bb6664c44c88971c45afabd802d2",
       "style": "IPY_MODEL_ce4232ed06cd4bedbe4d81c38674d799",
       "value": "   objective"
      }
     },
     "44ab2cad56aa473eaa8ff3fb021f7095": {
      "model_module": "@jupyter-widgets/controls",
      "model_module_version": "1.5.0",
      "model_name": "IntProgressModel",
      "state": {
       "layout": "IPY_MODEL_07367551068144309ff93d1438d91f84",
       "style": "IPY_MODEL_249be887acec43e2905459290515568c",
       "value": 30
      }
     },
     "4547c7f87df34f2c9d26863bbebc64c3": {
      "model_module": "@jupyter-widgets/base",
      "model_module_version": "1.2.0",
      "model_name": "LayoutModel",
      "state": {
       "border": "3px solid white",
       "display": "flex",
       "flex": "1 1 0%",
       "margin": "10px",
       "min_width": "400px",
       "overflow": "visible",
       "padding": "10px",
       "width": "auto"
      }
     },
     "45ab88207436457bb50b12b3155d38b4": {
      "model_module": "@jupyter-widgets/controls",
      "model_module_version": "1.5.0",
      "model_name": "ButtonModel",
      "state": {
       "button_style": "info",
       "layout": "IPY_MODEL_fc1aa41393c84d5c8b8f50d781c00184",
       "style": "IPY_MODEL_4a8ad16250c04bc0b9d707de6ea734b3"
      }
     },
     "45d57d08ad914ce1a37fe657cf6fdb68": {
      "model_module": "@jupyter-widgets/base",
      "model_module_version": "1.2.0",
      "model_name": "LayoutModel",
      "state": {
       "width": "60px"
      }
     },
     "45dca17c20d24c20a6cca3ae8fed963a": {
      "model_module": "@jupyter-widgets/controls",
      "model_module_version": "1.5.0",
      "model_name": "ProgressStyleModel",
      "state": {
       "description_width": ""
      }
     },
     "45fca88e55734155a4adfda653128174": {
      "model_module": "@jupyter-widgets/controls",
      "model_module_version": "1.5.0",
      "model_name": "HBoxModel",
      "state": {
       "children": [
        "IPY_MODEL_45ab88207436457bb50b12b3155d38b4",
        "IPY_MODEL_9b7e7bce15a944758c1b544d8c5e0894",
        "IPY_MODEL_792868e720694aacb2e9a457dbcfd37f",
        "IPY_MODEL_7c5473204adc4234bccc0c89ae2dec18"
       ],
       "layout": "IPY_MODEL_980eb81712ca47f2837357d06734a150"
      }
     },
     "465e8dd550c94efa978a1d2e2aad6bc8": {
      "model_module": "@jupyter-widgets/controls",
      "model_module_version": "1.5.0",
      "model_name": "VBoxModel",
      "state": {
       "children": [
        "IPY_MODEL_6c46d43cc2eb41438bda98b9ee558171",
        "IPY_MODEL_382a41ee57934171b7148ee1f7cc54c1"
       ],
       "layout": "IPY_MODEL_25cc35df15734d0597c375de3e1a374f"
      }
     },
     "46a4259bc2d8466e9b6ecf9b10957eec": {
      "model_module": "@jupyter-widgets/base",
      "model_module_version": "1.2.0",
      "model_name": "LayoutModel",
      "state": {
       "height": "32px",
       "overflow": "visible",
       "width": "100%"
      }
     },
     "46afea7f4516420bb80a6f668d9b39a5": {
      "model_module": "@jupyter-widgets/controls",
      "model_module_version": "1.5.0",
      "model_name": "ButtonModel",
      "state": {
       "description": "EDIT",
       "layout": "IPY_MODEL_80d5cc6d67b74437a628caca1f340b4d",
       "style": "IPY_MODEL_0cf3ff3929ba4ad3a0cfb115db48fea7"
      }
     },
     "46ba39b85be54a8ba611bb30f1775d6f": {
      "model_module": "@jupyter-widgets/base",
      "model_module_version": "1.2.0",
      "model_name": "LayoutModel",
      "state": {}
     },
     "46e1dad3f19242f1b0b705a8aa38bfbe": {
      "model_module": "@jupyter-widgets/controls",
      "model_module_version": "1.5.0",
      "model_name": "ButtonStyleModel",
      "state": {}
     },
     "46e740339bcf4c5faf8d679d38f06ed2": {
      "model_module": "@jupyter-widgets/controls",
      "model_module_version": "1.5.0",
      "model_name": "DescriptionStyleModel",
      "state": {
       "description_width": ""
      }
     },
     "46f3384b98cd4c97a42b1f11a2ffa405": {
      "model_module": "@jupyter-widgets/base",
      "model_module_version": "1.2.0",
      "model_name": "LayoutModel",
      "state": {
       "order": "-1",
       "overflow": "visible",
       "padding": "1px",
       "width": "0px"
      }
     },
     "4708c8dc7179422e91879b05b41ca169": {
      "model_module": "@jupyter-widgets/controls",
      "model_module_version": "1.5.0",
      "model_name": "IntProgressModel",
      "state": {
       "layout": "IPY_MODEL_eeb5bdf90ccf451c8f669639495988b3",
       "max": 1,
       "style": "IPY_MODEL_9c6d6f9bde474a999b3133463c522438"
      }
     },
     "4720b801e9fa4839ba0dc5e2d92f23b1": {
      "model_module": "@jupyter-widgets/base",
      "model_module_version": "1.2.0",
      "model_name": "LayoutModel",
      "state": {
       "order": "-1",
       "overflow": "visible",
       "padding": "1px",
       "width": "0px"
      }
     },
     "472b9a6ad6604ca6ab0e72cf6840bd1f": {
      "model_module": "@jupyter-widgets/controls",
      "model_module_version": "1.5.0",
      "model_name": "ButtonModel",
      "state": {
       "description": "EDIT",
       "layout": "IPY_MODEL_ca7bd0c0e1f64059a4926dce3f281c1e",
       "style": "IPY_MODEL_db1159eb010049178ea14e983c2f93df"
      }
     },
     "472eacc8849a41a490cd2124543f1ab4": {
      "model_module": "@jupyter-widgets/base",
      "model_module_version": "1.2.0",
      "model_name": "LayoutModel",
      "state": {
       "order": "-1",
       "overflow": "visible",
       "padding": "1px",
       "width": "0px"
      }
     },
     "47466ca584bc44cfb662fa8781f9a77d": {
      "model_module": "@jupyter-widgets/controls",
      "model_module_version": "1.5.0",
      "model_name": "LabelModel",
      "state": {
       "layout": "IPY_MODEL_2d20877ffbbf4cb5b9dff9c414bf3970",
       "style": "IPY_MODEL_853e63a2e58d4990959315f15e39671f",
       "value": "   objective"
      }
     },
     "4753de7b16e640d8ab6e460644f85b69": {
      "model_module": "@jupyter-widgets/base",
      "model_module_version": "1.2.0",
      "model_name": "LayoutModel",
      "state": {
       "display": "none"
      }
     },
     "47a7297165854f399a77e05af8f31eeb": {
      "model_module": "@jupyter-widgets/controls",
      "model_module_version": "1.5.0",
      "model_name": "ButtonModel",
      "state": {
       "description": "Next",
       "layout": "IPY_MODEL_9f7289832e514f819a8844020176760c",
       "style": "IPY_MODEL_ea5e3d6b53ce44469642947b274e1ff4"
      }
     },
     "47b1ea54b1634c088d15ba8a5289640b": {
      "model_module": "@jupyter-widgets/base",
      "model_module_version": "1.2.0",
      "model_name": "LayoutModel",
      "state": {
       "height": "32px",
       "overflow": "visible",
       "width": "100%"
      }
     },
     "47e4684722524714976648517a775e66": {
      "model_module": "@jupyter-widgets/controls",
      "model_module_version": "1.5.0",
      "model_name": "ButtonStyleModel",
      "state": {}
     },
     "480e2149a7834e828b5364d79888b38d": {
      "model_module": "@jupyter-widgets/controls",
      "model_module_version": "1.5.0",
      "model_name": "ButtonModel",
      "state": {
       "description": "EDIT",
       "layout": "IPY_MODEL_a6797d93251643fdb5ca36d3c0d788bd",
       "style": "IPY_MODEL_dc54040a4fcb4a7eb3c7320ce9449059"
      }
     },
     "4810ff3ce24b469dbc93968533e4ce00": {
      "model_module": "@jupyter-widgets/controls",
      "model_module_version": "1.5.0",
      "model_name": "DescriptionStyleModel",
      "state": {
       "description_width": ""
      }
     },
     "48216be80de14e62864038b77bf2c042": {
      "model_module": "@jupyter-widgets/controls",
      "model_module_version": "1.5.0",
      "model_name": "DescriptionStyleModel",
      "state": {
       "description_width": ""
      }
     },
     "488ee9b6294d4f00b18168b781b3d961": {
      "model_module": "@jupyter-widgets/controls",
      "model_module_version": "1.5.0",
      "model_name": "VBoxModel",
      "state": {
       "children": [
        "IPY_MODEL_f2f997e796694ba89be14eca8e2d00c7",
        "IPY_MODEL_b828e942b2eb45abaacfc4c57bb33c31",
        "IPY_MODEL_334f220d2dbb475994a29f9e1a6f3733",
        "IPY_MODEL_f9295107babe47438009317420caaa53",
        "IPY_MODEL_d4f1a806e11a4bf7827057b9c6313c82",
        "IPY_MODEL_0de7aa9779cd4f2b9ab340afdc57626a"
       ],
       "layout": "IPY_MODEL_42e2fd317d6c4b6ebd236d2a197d32cd"
      }
     },
     "48979115dd6743e98cc76e04de8ec116": {
      "model_module": "@jupyter-widgets/controls",
      "model_module_version": "1.5.0",
      "model_name": "DescriptionStyleModel",
      "state": {
       "description_width": ""
      }
     },
     "48e75d1ab6b7479db008c6431c60a601": {
      "model_module": "@jupyter-widgets/controls",
      "model_module_version": "1.5.0",
      "model_name": "ButtonModel",
      "state": {
       "layout": "IPY_MODEL_a328dee797584265a8cab0afcbe4dea8",
       "style": "IPY_MODEL_ec2ba130333a47bd94da3e5aa5a06814"
      }
     },
     "48f55402c1e14d8f818e3609c5ad58d6": {
      "model_module": "@jupyter-widgets/base",
      "model_module_version": "1.2.0",
      "model_name": "LayoutModel",
      "state": {
       "width": "60px"
      }
     },
     "49121537a3f14cc3bb2e9edd60bd8b09": {
      "model_module": "@jupyter-widgets/controls",
      "model_module_version": "1.5.0",
      "model_name": "HBoxModel",
      "state": {
       "children": [
        "IPY_MODEL_78c3d3e0427d4794a3198693244bcc6d",
        "IPY_MODEL_ca6cea3866014f04b16cce456e41283c",
        "IPY_MODEL_8b9a3e47ca834739a179f47380dc17ca",
        "IPY_MODEL_8160fed2757643058ba5edd212271942"
       ],
       "layout": "IPY_MODEL_10ad94b33f5143fd80d7d928773bb9d1"
      }
     },
     "494a3621a79c49439e177c932290e89b": {
      "model_module": "@jupyter-widgets/base",
      "model_module_version": "1.2.0",
      "model_name": "LayoutModel",
      "state": {
       "overflow": "visible",
       "width": "100%"
      }
     },
     "4966c08e1e424c5c8394fd4c38f1ea3d": {
      "model_module": "@jupyter-widgets/base",
      "model_module_version": "1.2.0",
      "model_name": "LayoutModel",
      "state": {
       "display": "none"
      }
     },
     "496ed5d8d6b1477c8899b93a1702ac30": {
      "model_module": "@jupyter-widgets/base",
      "model_module_version": "1.2.0",
      "model_name": "LayoutModel",
      "state": {
       "height": "32px",
       "order": "-2",
       "width": "32px"
      }
     },
     "4991d85173d1420f99ee886c2db0fadd": {
      "model_module": "@jupyter-widgets/controls",
      "model_module_version": "1.5.0",
      "model_name": "DescriptionStyleModel",
      "state": {
       "description_width": ""
      }
     },
     "499add174747489a94c742616e0d29e2": {
      "model_module": "@jupyter-widgets/base",
      "model_module_version": "1.2.0",
      "model_name": "LayoutModel",
      "state": {
       "order": "-1",
       "overflow": "visible",
       "padding": "1px",
       "width": "0px"
      }
     },
     "49a389e685dc49618aa96f0b84e345e4": {
      "model_module": "@jupyter-widgets/controls",
      "model_module_version": "1.5.0",
      "model_name": "HBoxModel",
      "state": {
       "children": [
        "IPY_MODEL_fa95b45f80a7467d88ede240d6628204",
        "IPY_MODEL_e12bb1db61b74e8f9d41b3af6f2f0fce",
        "IPY_MODEL_6bd02e9c24e1447c9493ed28a1cd41e7",
        "IPY_MODEL_69b05b57ffca464d955bb7a75729228e"
       ],
       "layout": "IPY_MODEL_3a83de3279dc492a8fc44da0fc334c36"
      }
     },
     "49b7d8ca5e464709a5303be8802a1ad2": {
      "model_module": "@jupyter-widgets/base",
      "model_module_version": "1.2.0",
      "model_name": "LayoutModel",
      "state": {
       "width": "60px"
      }
     },
     "49c9cfa38a914989aa1e20fd16dd747b": {
      "model_module": "@jupyter-widgets/base",
      "model_module_version": "1.2.0",
      "model_name": "LayoutModel",
      "state": {
       "overflow": "visible",
       "width": "100%"
      }
     },
     "49cab1990e0b48bc94b09cc5698886fb": {
      "model_module": "@jupyter-widgets/controls",
      "model_module_version": "1.5.0",
      "model_name": "HTMLModel",
      "state": {
       "layout": "IPY_MODEL_c4bd4d7403a84edf9ee37b6492cb2505",
       "style": "IPY_MODEL_4991d85173d1420f99ee886c2db0fadd",
       "value": "<font size=\"5\"><b>Suspicions</b></font size=>"
      }
     },
     "49d195ed39054adc861a97783c17d2c9": {
      "model_module": "@jupyter-widgets/controls",
      "model_module_version": "1.5.0",
      "model_name": "DescriptionStyleModel",
      "state": {
       "description_width": ""
      }
     },
     "4a2cb6866ad74ee9a909378eff8e3e9d": {
      "model_module": "@jupyter-widgets/base",
      "model_module_version": "1.2.0",
      "model_name": "LayoutModel",
      "state": {
       "height": "32px",
       "order": "-2",
       "width": "32px"
      }
     },
     "4a39c467848d4f448ac3ca0b9f455ebe": {
      "model_module": "@jupyter-widgets/controls",
      "model_module_version": "1.5.0",
      "model_name": "DropdownModel",
      "state": {
       "_options_labels": [
        "Any",
        "Hand Cannon",
        "Auto Rifle",
        "Scout Rifle",
        "Pulse Rifle",
        "Sidearm",
        "Submachine Gun",
        "Combt Bow",
        "Sniper Rifle",
        "Shotgun",
        "Fusion Rifle",
        "Grenade Launcher"
       ],
       "index": 0,
       "layout": "IPY_MODEL_155900e6730f4e259ae9cbcfdc979ed4",
       "style": "IPY_MODEL_287d4a11fc534e228faea9509505d25a"
      }
     },
     "4a8a23b5b2d042b3bf0e253cfd9fa3cc": {
      "model_module": "@jupyter-widgets/base",
      "model_module_version": "1.2.0",
      "model_name": "LayoutModel",
      "state": {
       "height": "32px",
       "order": "-2",
       "width": "32px"
      }
     },
     "4a8ad16250c04bc0b9d707de6ea734b3": {
      "model_module": "@jupyter-widgets/controls",
      "model_module_version": "1.5.0",
      "model_name": "ButtonStyleModel",
      "state": {}
     },
     "4a946b33f1f54632ab2ae9532e5ded35": {
      "model_module": "@jupyter-widgets/controls",
      "model_module_version": "1.5.0",
      "model_name": "ButtonModel",
      "state": {
       "layout": "IPY_MODEL_3a736a9cf9f6419ebc1bb2eb8aea2ede",
       "style": "IPY_MODEL_39ca839fe6924ee597e036a19dd671eb"
      }
     },
     "4a9c796de99c466ea9a32c5f8566ddae": {
      "model_module": "@jupyter-widgets/controls",
      "model_module_version": "1.5.0",
      "model_name": "LabelModel",
      "state": {
       "layout": "IPY_MODEL_404e7a606366408a8b8e3bc1d9aa2cc6",
       "style": "IPY_MODEL_f6f12f67c13247599c41ba16944ea3a4",
       "value": "   objective"
      }
     },
     "4aa386d3100a460593ee6c2de2e4416c": {
      "model_module": "@jupyter-widgets/controls",
      "model_module_version": "1.5.0",
      "model_name": "HTMLModel",
      "state": {
       "layout": "IPY_MODEL_fa50179de80a4099b82014b0e0af6b40",
       "style": "IPY_MODEL_18b14a8b30474c23964d677787910f16",
       "value": "<i>Achieve a Glory rank of \"Legend\" in any season.</i>"
      }
     },
     "4ac8895d8726465e96c7f99476b4ba54": {
      "model_module": "@jupyter-widgets/base",
      "model_module_version": "1.2.0",
      "model_name": "LayoutModel",
      "state": {
       "height": "32px",
       "overflow": "visible",
       "width": "100%"
      }
     },
     "4ad17eeaf4f84d768f5cc75f9abf2b12": {
      "model_module": "@jupyter-widgets/controls",
      "model_module_version": "1.5.0",
      "model_name": "DescriptionStyleModel",
      "state": {
       "description_width": ""
      }
     },
     "4b30ec46ec724e7c9685cef0ec753ed9": {
      "model_module": "@jupyter-widgets/controls",
      "model_module_version": "1.5.0",
      "model_name": "ButtonModel",
      "state": {
       "layout": "IPY_MODEL_1b8897d611594eb0a791e9a79d036830",
       "style": "IPY_MODEL_1636e1248ec44fe685ac304b757b7415"
      }
     },
     "4b3110e3b45c4b988fab11ef979c371d": {
      "model_module": "@jupyter-widgets/controls",
      "model_module_version": "1.5.0",
      "model_name": "DescriptionStyleModel",
      "state": {
       "description_width": ""
      }
     },
     "4b425583d6634deaa3aee19ad28dc17d": {
      "model_module": "@jupyter-widgets/controls",
      "model_module_version": "1.5.0",
      "model_name": "IntProgressModel",
      "state": {
       "layout": "IPY_MODEL_d3128cb3e22642338cab456de288ba8d",
       "style": "IPY_MODEL_d4c6e3c1d0c949d0b31e1a64e959e14b",
       "value": 30
      }
     },
     "4b74786710da4e2b8f0d4b8d66986bc1": {
      "model_module": "@jupyter-widgets/controls",
      "model_module_version": "1.5.0",
      "model_name": "ButtonModel",
      "state": {
       "description": "EDIT",
       "layout": "IPY_MODEL_5672f4e4e8e445158865da7362d803fe",
       "style": "IPY_MODEL_117d62acbac9416993790e41cc773bff"
      }
     },
     "4b86d2eaddfd42a4b5d64ac2bdfc4961": {
      "model_module": "@jupyter-widgets/base",
      "model_module_version": "1.2.0",
      "model_name": "LayoutModel",
      "state": {
       "order": "-1",
       "overflow": "visible",
       "padding": "1px",
       "width": "0px"
      }
     },
     "4bf12dbeb77c447a98e689d5e4a4f192": {
      "model_module": "@jupyter-widgets/base",
      "model_module_version": "1.2.0",
      "model_name": "LayoutModel",
      "state": {
       "height": "32px",
       "order": "-2",
       "width": "32px"
      }
     },
     "4c568b76aaf74e9ea9e5ded9e08423aa": {
      "model_module": "@jupyter-widgets/controls",
      "model_module_version": "1.5.0",
      "model_name": "DescriptionStyleModel",
      "state": {
       "description_width": ""
      }
     },
     "4cb8d9b6834a42b88992e73da9fa9ab6": {
      "model_module": "@jupyter-widgets/controls",
      "model_module_version": "1.5.0",
      "model_name": "ButtonModel",
      "state": {
       "description": "EDIT",
       "layout": "IPY_MODEL_6e5409ea6dea41d0bb69a59159b0d92c",
       "style": "IPY_MODEL_5e4bab8d8ac34ebabffabd885e5bf2d6"
      }
     },
     "4ceae97f1f58481594d514e9889be85d": {
      "model_module": "@jupyter-widgets/controls",
      "model_module_version": "1.5.0",
      "model_name": "ProgressStyleModel",
      "state": {
       "description_width": ""
      }
     },
     "4d1572a9f4bf4a56807a26f68cae0dda": {
      "model_module": "@jupyter-widgets/base",
      "model_module_version": "1.2.0",
      "model_name": "LayoutModel",
      "state": {
       "height": "32px",
       "order": "-2",
       "width": "32px"
      }
     },
     "4d46c3eae3c34f188f42d75e11005126": {
      "model_module": "@jupyter-widgets/controls",
      "model_module_version": "1.5.0",
      "model_name": "ProgressStyleModel",
      "state": {
       "description_width": ""
      }
     },
     "4d6220dfc15f4c3dbeff706381d639d6": {
      "model_module": "@jupyter-widgets/controls",
      "model_module_version": "1.5.0",
      "model_name": "ButtonStyleModel",
      "state": {}
     },
     "4dd9125397c0430e84389c39a03cd116": {
      "model_module": "@jupyter-widgets/base",
      "model_module_version": "1.2.0",
      "model_name": "LayoutModel",
      "state": {
       "order": "-1",
       "overflow": "visible",
       "padding": "1px",
       "width": "0px"
      }
     },
     "4dea6f07e49d431a884df1cd066a5984": {
      "model_module": "@jupyter-widgets/controls",
      "model_module_version": "1.5.0",
      "model_name": "ButtonModel",
      "state": {
       "description": "EDIT",
       "layout": "IPY_MODEL_63096b1c48cf41908b702d17e3aa3446",
       "style": "IPY_MODEL_9b4e049971884d38b51831662da47451"
      }
     },
     "4e3cbaad004d4c56af4d02c7bfe62a00": {
      "model_module": "@jupyter-widgets/controls",
      "model_module_version": "1.5.0",
      "model_name": "DescriptionStyleModel",
      "state": {
       "description_width": ""
      }
     },
     "4e62e5c687cd47b49194a2a116cf756d": {
      "model_module": "@jupyter-widgets/controls",
      "model_module_version": "1.5.0",
      "model_name": "ButtonStyleModel",
      "state": {}
     },
     "4f0ba72f69824bf9ad3504057a739890": {
      "model_module": "@jupyter-widgets/base",
      "model_module_version": "1.2.0",
      "model_name": "LayoutModel",
      "state": {
       "display": "flex",
       "flex_flow": "row wrap"
      }
     },
     "4f418c0cd49b4da9950ddc1255749d39": {
      "model_module": "@jupyter-widgets/controls",
      "model_module_version": "1.5.0",
      "model_name": "HBoxModel",
      "state": {
       "children": [
        "IPY_MODEL_699b26984cd34fd48a41754ce79f660a",
        "IPY_MODEL_3044608ebcec477cbb5badef1f077a5e",
        "IPY_MODEL_7c9a45a00648424d974bb4c0ac6a4bda",
        "IPY_MODEL_68e81603b7444a80875ba0b6e3e701a8"
       ],
       "layout": "IPY_MODEL_8a72c19ef6164b8085b297430fa05746"
      }
     },
     "4f5edb4f7bbb4a2fab74be17e66e9a6a": {
      "model_module": "@jupyter-widgets/base",
      "model_module_version": "1.2.0",
      "model_name": "LayoutModel",
      "state": {}
     },
     "4f82bd6bb32944db97da8e69b9c02b37": {
      "model_module": "@jupyter-widgets/base",
      "model_module_version": "1.2.0",
      "model_name": "LayoutModel",
      "state": {
       "order": "-1",
       "overflow": "visible",
       "padding": "1px",
       "width": "0px"
      }
     },
     "4f9215217c7d422e9eccd964640fd750": {
      "model_module": "@jupyter-widgets/controls",
      "model_module_version": "1.5.0",
      "model_name": "ButtonStyleModel",
      "state": {}
     },
     "4fed6d73828a43dda3a2c3bd9af1ef3d": {
      "model_module": "@jupyter-widgets/controls",
      "model_module_version": "1.5.0",
      "model_name": "LabelModel",
      "state": {
       "layout": "IPY_MODEL_255a57c0ed194fe0aee074f99c1cee4a",
       "style": "IPY_MODEL_626cb40ff8544a0ab7828834c5278587",
       "value": "Class:"
      }
     },
     "4ff924b180cb417ab83fe85d047be752": {
      "model_module": "@jupyter-widgets/base",
      "model_module_version": "1.2.0",
      "model_name": "LayoutModel",
      "state": {
       "width": "60px"
      }
     },
     "5025fab70b1e48c28df9008fa72d375c": {
      "model_module": "@jupyter-widgets/base",
      "model_module_version": "1.2.0",
      "model_name": "LayoutModel",
      "state": {
       "width": "60px"
      }
     },
     "5031defeabc8476a88d791e8284a1ffa": {
      "model_module": "@jupyter-widgets/controls",
      "model_module_version": "1.5.0",
      "model_name": "ButtonStyleModel",
      "state": {}
     },
     "507b75d939db4cb1928f547f22c790bd": {
      "model_module": "@jupyter-widgets/base",
      "model_module_version": "1.2.0",
      "model_name": "LayoutModel",
      "state": {
       "display": "none"
      }
     },
     "507cda5b10b4464a86709465971c66ae": {
      "model_module": "@jupyter-widgets/base",
      "model_module_version": "1.2.0",
      "model_name": "LayoutModel",
      "state": {}
     },
     "5089b00bd6c149ae90505868e31770ae": {
      "model_module": "@jupyter-widgets/controls",
      "model_module_version": "1.5.0",
      "model_name": "ButtonModel",
      "state": {
       "description": "EDIT",
       "layout": "IPY_MODEL_85c549f6907045d1870c0c1f3f6b6a92",
       "style": "IPY_MODEL_61285c796b704978a6d83e8c6cfc9211"
      }
     },
     "50b2b5d570c64265b1d8b39fbd0185fa": {
      "model_module": "@jupyter-widgets/base",
      "model_module_version": "1.2.0",
      "model_name": "LayoutModel",
      "state": {
       "display": "flex",
       "flex_flow": "row wrap"
      }
     },
     "50b45e9b6c244fbebb4b0daaa87bff85": {
      "model_module": "@jupyter-widgets/base",
      "model_module_version": "1.2.0",
      "model_name": "LayoutModel",
      "state": {
       "height": "32px",
       "order": "-2",
       "width": "32px"
      }
     },
     "50d7fab82a3f4d90b0efd283965b1a5d": {
      "model_module": "@jupyter-widgets/controls",
      "model_module_version": "1.5.0",
      "model_name": "ButtonStyleModel",
      "state": {}
     },
     "50f92ab0e13f4702ad7e54243ec997f4": {
      "model_module": "@jupyter-widgets/controls",
      "model_module_version": "1.5.0",
      "model_name": "IntProgressModel",
      "state": {
       "layout": "IPY_MODEL_a66f75b19d0d4ba6aa0abb8a85673769",
       "style": "IPY_MODEL_998de2c4b1de4c5ab495b3bb2df08b1d",
       "value": 30
      }
     },
     "5102dd666f5746e490cf549456574373": {
      "model_module": "@jupyter-widgets/base",
      "model_module_version": "1.2.0",
      "model_name": "LayoutModel",
      "state": {
       "overflow": "visible",
       "width": "100%"
      }
     },
     "5156f4349e3c4cf78b9a3174ff5ca537": {
      "model_module": "@jupyter-widgets/base",
      "model_module_version": "1.2.0",
      "model_name": "LayoutModel",
      "state": {
       "height": "32px",
       "overflow": "visible",
       "width": "100%"
      }
     },
     "515a508cc14d404ea017b355d31199f8": {
      "model_module": "@jupyter-widgets/controls",
      "model_module_version": "1.5.0",
      "model_name": "ProgressStyleModel",
      "state": {
       "description_width": ""
      }
     },
     "518d90b2497946309aa2b276e8847b01": {
      "model_module": "@jupyter-widgets/controls",
      "model_module_version": "1.5.0",
      "model_name": "DescriptionStyleModel",
      "state": {
       "description_width": ""
      }
     },
     "51cb8c2c42114705a340c83f3d44a41f": {
      "model_module": "@jupyter-widgets/controls",
      "model_module_version": "1.5.0",
      "model_name": "ButtonStyleModel",
      "state": {}
     },
     "51e90f1d4bf24dd1a7f156ad1a31cec7": {
      "model_module": "@jupyter-widgets/controls",
      "model_module_version": "1.5.0",
      "model_name": "VBoxModel",
      "state": {
       "children": [
        "IPY_MODEL_fa725e18943249958220fabf40fc2761",
        "IPY_MODEL_8c5a96d7671b42d3ab4fb139706a3844",
        "IPY_MODEL_985e946dcca4440b9091a2510b727848",
        "IPY_MODEL_0f9501cd206c4ccca73341cf8d36486d"
       ],
       "layout": "IPY_MODEL_9a7abc84d90448e4881245e5af2f837b"
      }
     },
     "522070619c86474aa37da450cd6e09f9": {
      "model_module": "@jupyter-widgets/base",
      "model_module_version": "1.2.0",
      "model_name": "LayoutModel",
      "state": {
       "display": "none"
      }
     },
     "523316aa410d487b9b5dbdf21d02d4e2": {
      "model_module": "@jupyter-widgets/controls",
      "model_module_version": "1.5.0",
      "model_name": "IntProgressModel",
      "state": {
       "layout": "IPY_MODEL_133e31e728874ace8412bbc0d4cdac9f",
       "style": "IPY_MODEL_86dd2a370a7d47bf8a32a44636d2508e",
       "value": 30
      }
     },
     "5238c9c009fc4c53a8d8faf30ba75e29": {
      "model_module": "@jupyter-widgets/controls",
      "model_module_version": "1.5.0",
      "model_name": "IntProgressModel",
      "state": {
       "layout": "IPY_MODEL_c4971bb0650b45128d774dde1a7e0787",
       "style": "IPY_MODEL_425107668ddc4bc7a55f15b8195d53d6",
       "value": 30
      }
     },
     "523fe7fb635546039778e8fd839951be": {
      "model_module": "@jupyter-widgets/controls",
      "model_module_version": "1.5.0",
      "model_name": "DescriptionStyleModel",
      "state": {
       "description_width": ""
      }
     },
     "5259c0de0c7e4b5fb873b2d573af93ff": {
      "model_module": "@jupyter-widgets/base",
      "model_module_version": "1.2.0",
      "model_name": "LayoutModel",
      "state": {
       "order": "-1",
       "overflow": "visible",
       "padding": "1px",
       "width": "0px"
      }
     },
     "525e8c470e2b462c9015ab9575c064bc": {
      "model_module": "@jupyter-widgets/controls",
      "model_module_version": "1.5.0",
      "model_name": "DescriptionStyleModel",
      "state": {
       "description_width": ""
      }
     },
     "5272cdcecc1c4bfbb1429209904f9b6c": {
      "model_module": "@jupyter-widgets/controls",
      "model_module_version": "1.5.0",
      "model_name": "IntProgressModel",
      "state": {
       "layout": "IPY_MODEL_9e57549a9ff0415ead8211074bcd21db",
       "style": "IPY_MODEL_f8e2ed9e8b4041088d442b86ca688b03",
       "value": 30
      }
     },
     "528cb0359a45492c80dabcb2bc103eb3": {
      "model_module": "@jupyter-widgets/controls",
      "model_module_version": "1.5.0",
      "model_name": "ProgressStyleModel",
      "state": {
       "description_width": ""
      }
     },
     "531d1739041044128948d2c6e6c31c6a": {
      "model_module": "@jupyter-widgets/base",
      "model_module_version": "1.2.0",
      "model_name": "LayoutModel",
      "state": {
       "width": "60px"
      }
     },
     "53276de3caf44a76b6200de2a094e2e2": {
      "model_module": "@jupyter-widgets/base",
      "model_module_version": "1.2.0",
      "model_name": "LayoutModel",
      "state": {
       "width": "60px"
      }
     },
     "5356ca8ce4234ba3af9a7b49b9d701c5": {
      "model_module": "@jupyter-widgets/controls",
      "model_module_version": "1.5.0",
      "model_name": "LabelModel",
      "state": {
       "layout": "IPY_MODEL_2542d8c3eda64348aeafe04d7b7993cf",
       "style": "IPY_MODEL_9e848965fe684af5be0934c09643094b",
       "value": "   objective"
      }
     },
     "536649362b234c7399fff1fd4a10085d": {
      "model_module": "@jupyter-widgets/controls",
      "model_module_version": "1.5.0",
      "model_name": "IntProgressModel",
      "state": {
       "layout": "IPY_MODEL_02010b7a0cab414a8d4f424e7f0a3663",
       "style": "IPY_MODEL_bab9df3cc3d04cf3b2c71c3acc34acd7",
       "value": 30
      }
     },
     "5373751c8dc940bfb1c46a241e431f39": {
      "model_module": "@jupyter-widgets/controls",
      "model_module_version": "1.5.0",
      "model_name": "HTMLModel",
      "state": {
       "layout": "IPY_MODEL_a61c9eb6cfae4184ac9db0771bfa8233",
       "style": "IPY_MODEL_99013c61c0b247068b533f547fe686e9",
       "value": "<font size=\"1\">Triumphs/Lore/The Light/Dust</font size=>"
      }
     },
     "5375907146d1443eb0b761b588d637b1": {
      "model_module": "@jupyter-widgets/controls",
      "model_module_version": "1.5.0",
      "model_name": "IntProgressModel",
      "state": {
       "layout": "IPY_MODEL_9a437247ef4a4cf08f97bcf931144261",
       "style": "IPY_MODEL_910ad2fb5e8a4d6398e57146e1478f41",
       "value": 30
      }
     },
     "53b26906e83141a0ae774ecbc1824c05": {
      "model_module": "@jupyter-widgets/controls",
      "model_module_version": "1.5.0",
      "model_name": "IntProgressModel",
      "state": {
       "layout": "IPY_MODEL_70fe65e47b5341e1b5159e05f8cab70f",
       "style": "IPY_MODEL_92b2ba5d5ebf44c8bc029733c3a1cae5",
       "value": 30
      }
     },
     "53c0ac4a4de24d7bb0be8fb57ba6ef7c": {
      "model_module": "@jupyter-widgets/base",
      "model_module_version": "1.2.0",
      "model_name": "LayoutModel",
      "state": {
       "height": "32px",
       "order": "-2",
       "width": "32px"
      }
     },
     "53f6ceb8566246c18aacaf4b8e99d1c4": {
      "model_module": "@jupyter-widgets/controls",
      "model_module_version": "1.5.0",
      "model_name": "ButtonStyleModel",
      "state": {}
     },
     "5420dd68ad954071953e00a5b7f0654f": {
      "model_module": "@jupyter-widgets/base",
      "model_module_version": "1.2.0",
      "model_name": "LayoutModel",
      "state": {
       "display": "flex",
       "flex_flow": "row wrap"
      }
     },
     "5456c98d8df74679bc58641f8d7b8300": {
      "model_module": "@jupyter-widgets/base",
      "model_module_version": "1.2.0",
      "model_name": "LayoutModel",
      "state": {
       "display": "flex"
      }
     },
     "5460e110a95d4361b8af58b078a6232a": {
      "model_module": "@jupyter-widgets/controls",
      "model_module_version": "1.5.0",
      "model_name": "ButtonModel",
      "state": {
       "description": "EDIT",
       "layout": "IPY_MODEL_dbf7d78834da41939e0cae2d3f206a89",
       "style": "IPY_MODEL_9e5ff042e92844eaa68d92288e4240da"
      }
     },
     "5465e6df9d234763bc4363916e6ad541": {
      "model_module": "@jupyter-widgets/controls",
      "model_module_version": "1.5.0",
      "model_name": "ButtonStyleModel",
      "state": {}
     },
     "546b844906da4f3dbcd3dcf35be11d76": {
      "model_module": "@jupyter-widgets/controls",
      "model_module_version": "1.5.0",
      "model_name": "IntProgressModel",
      "state": {
       "layout": "IPY_MODEL_2ca158f16e9f431891ba42100bd0ccd2",
       "max": 1,
       "style": "IPY_MODEL_efa1032387794b0eadfe507c062c4c3b"
      }
     },
     "5480a400a4c0416d985287795fc36976": {
      "model_module": "@jupyter-widgets/base",
      "model_module_version": "1.2.0",
      "model_name": "LayoutModel",
      "state": {
       "order": "-1",
       "overflow": "visible",
       "padding": "1px",
       "width": "0px"
      }
     },
     "54a638d979db42a69a82b95ccf6c3929": {
      "model_module": "@jupyter-widgets/controls",
      "model_module_version": "1.5.0",
      "model_name": "DescriptionStyleModel",
      "state": {
       "description_width": ""
      }
     },
     "54ce4998a93f47dd8dd67fdea140daee": {
      "model_module": "@jupyter-widgets/controls",
      "model_module_version": "1.5.0",
      "model_name": "DescriptionStyleModel",
      "state": {
       "description_width": ""
      }
     },
     "54f1fc75e2df40e58ecdd86b8a19c496": {
      "model_module": "@jupyter-widgets/base",
      "model_module_version": "1.2.0",
      "model_name": "LayoutModel",
      "state": {
       "width": "60px"
      }
     },
     "551e981611854ccc889f30c3fa019ee1": {
      "model_module": "@jupyter-widgets/controls",
      "model_module_version": "1.5.0",
      "model_name": "IntProgressModel",
      "state": {
       "layout": "IPY_MODEL_1f9b6fc2956b47b4a4a43ce444a3acbb",
       "style": "IPY_MODEL_8aff7c73ff4640d3b3233d0289a01ba8",
       "value": 30
      }
     },
     "55489640269e42e7ab9c3a02ad78c087": {
      "model_module": "@jupyter-widgets/controls",
      "model_module_version": "1.5.0",
      "model_name": "ButtonModel",
      "state": {
       "description": "EDIT",
       "layout": "IPY_MODEL_49b7d8ca5e464709a5303be8802a1ad2",
       "style": "IPY_MODEL_3b9bd6b803ca483e976b442c448e6c7c"
      }
     },
     "55cf0df00f3a4c558d7a83983a78ae5d": {
      "model_module": "@jupyter-widgets/controls",
      "model_module_version": "1.5.0",
      "model_name": "ButtonStyleModel",
      "state": {}
     },
     "55d4436b0bc146ea94d583363c7dc021": {
      "model_module": "@jupyter-widgets/base",
      "model_module_version": "1.2.0",
      "model_name": "LayoutModel",
      "state": {
       "height": "32px",
       "overflow": "visible",
       "width": "100%"
      }
     },
     "55db90358c1f49dbb00a694f83cf1344": {
      "model_module": "@jupyter-widgets/base",
      "model_module_version": "1.2.0",
      "model_name": "LayoutModel",
      "state": {
       "display": "none"
      }
     },
     "55e5d32565d142f9b115efc2b2a15152": {
      "model_module": "@jupyter-widgets/controls",
      "model_module_version": "1.5.0",
      "model_name": "HBoxModel",
      "state": {
       "children": [
        "IPY_MODEL_a92c087ab11649f68e25d5a496df928a",
        "IPY_MODEL_78e56545425545e6889cd7a9b82cc14f",
        "IPY_MODEL_389cf32a3aec4bbdbac5ca39d520c0d6",
        "IPY_MODEL_ca6410a1661541179f04739d25ffef9d"
       ],
       "layout": "IPY_MODEL_f46a7a5094414600a1811f101a830dc5"
      }
     },
     "5609791cbec34dc68e00f23eb1ce487c": {
      "model_module": "@jupyter-widgets/controls",
      "model_module_version": "1.5.0",
      "model_name": "IntProgressModel",
      "state": {
       "bar_style": "success",
       "layout": "IPY_MODEL_cd166ac06bbb4f25bb889aeaac57729e",
       "max": 25,
       "style": "IPY_MODEL_78396ce622d243c79e51e4df1c10a604",
       "value": 25
      }
     },
     "565b3339c2774bdf9d603c982c460c15": {
      "model_module": "@jupyter-widgets/base",
      "model_module_version": "1.2.0",
      "model_name": "LayoutModel",
      "state": {
       "order": "-1",
       "overflow": "visible",
       "padding": "1px",
       "width": "0px"
      }
     },
     "5672f4e4e8e445158865da7362d803fe": {
      "model_module": "@jupyter-widgets/base",
      "model_module_version": "1.2.0",
      "model_name": "LayoutModel",
      "state": {
       "width": "60px"
      }
     },
     "56b0a6ccaa0848f6a3126bcf7dd53a77": {
      "model_module": "@jupyter-widgets/base",
      "model_module_version": "1.2.0",
      "model_name": "LayoutModel",
      "state": {
       "display": "none"
      }
     },
     "575c299ba60d405b89d061142faeb60b": {
      "model_module": "@jupyter-widgets/controls",
      "model_module_version": "1.5.0",
      "model_name": "DescriptionStyleModel",
      "state": {
       "description_width": ""
      }
     },
     "575cc31b1e9544b197b9cdabde297ba9": {
      "model_module": "@jupyter-widgets/controls",
      "model_module_version": "1.5.0",
      "model_name": "DescriptionStyleModel",
      "state": {
       "description_width": ""
      }
     },
     "5768b7365a45470caa4e023081304d2b": {
      "model_module": "@jupyter-widgets/base",
      "model_module_version": "1.2.0",
      "model_name": "LayoutModel",
      "state": {
       "order": "-1",
       "overflow": "visible",
       "padding": "1px",
       "width": "0px"
      }
     },
     "576e947c3ede4edc8551ce47b68c80ec": {
      "model_module": "@jupyter-widgets/base",
      "model_module_version": "1.2.0",
      "model_name": "LayoutModel",
      "state": {
       "order": "-1",
       "overflow": "visible",
       "padding": "1px",
       "width": "0px"
      }
     },
     "5797222b48d34ce49f1244e45e300e41": {
      "model_module": "@jupyter-widgets/base",
      "model_module_version": "1.2.0",
      "model_name": "LayoutModel",
      "state": {
       "order": "-1",
       "overflow": "visible",
       "padding": "1px",
       "width": "0px"
      }
     },
     "57fc16497e6b4294802b8e6c622b91cf": {
      "model_module": "@jupyter-widgets/controls",
      "model_module_version": "1.5.0",
      "model_name": "DescriptionStyleModel",
      "state": {
       "description_width": ""
      }
     },
     "582f6c52c49b45e9ab5058cbbd04a05e": {
      "model_module": "@jupyter-widgets/controls",
      "model_module_version": "1.5.0",
      "model_name": "ButtonModel",
      "state": {
       "layout": "IPY_MODEL_ed6e722ef4de434ca0e6944087c6b69a",
       "style": "IPY_MODEL_b346fbec1fde48998ff7a16c5ca932bf"
      }
     },
     "588eb82fbbf54303bdcf50da5a20ecde": {
      "model_module": "@jupyter-widgets/controls",
      "model_module_version": "1.5.0",
      "model_name": "ButtonModel",
      "state": {
       "description": "EDIT",
       "layout": "IPY_MODEL_5025fab70b1e48c28df9008fa72d375c",
       "style": "IPY_MODEL_a97944a0534644d7ad4d7f4ab157a0b8"
      }
     },
     "58f1d4150fa84282b433abb2482d7437": {
      "model_module": "@jupyter-widgets/controls",
      "model_module_version": "1.5.0",
      "model_name": "HBoxModel",
      "state": {
       "children": [
        "IPY_MODEL_cbe57a7acd834e44a52bb48342597bd9",
        "IPY_MODEL_551e981611854ccc889f30c3fa019ee1",
        "IPY_MODEL_e4916acd610b4573bb51b1bf89777a25",
        "IPY_MODEL_4dea6f07e49d431a884df1cd066a5984"
       ],
       "layout": "IPY_MODEL_25a8c167065048729c443dea1ce83dbd"
      }
     },
     "59351bf7a2944955af4fe225b4dcbc2b": {
      "model_module": "@jupyter-widgets/controls",
      "model_module_version": "1.5.0",
      "model_name": "DescriptionStyleModel",
      "state": {
       "description_width": ""
      }
     },
     "59373bf3960c4699898e4efe51608406": {
      "model_module": "@jupyter-widgets/controls",
      "model_module_version": "1.5.0",
      "model_name": "IntProgressModel",
      "state": {
       "layout": "IPY_MODEL_4ac8895d8726465e96c7f99476b4ba54",
       "style": "IPY_MODEL_c2bb8a879d77429fa9294a9302448b18",
       "value": 30
      }
     },
     "594de41244a84c3cacecf634cdbf5c53": {
      "model_module": "@jupyter-widgets/base",
      "model_module_version": "1.2.0",
      "model_name": "LayoutModel",
      "state": {
       "height": "32px",
       "order": "-2",
       "width": "32px"
      }
     },
     "595b179ac4004c1baaca2210da2675a3": {
      "model_module": "@jupyter-widgets/controls",
      "model_module_version": "1.5.0",
      "model_name": "ButtonStyleModel",
      "state": {}
     },
     "59a01bb15a60470893bd1dc47862695e": {
      "model_module": "@jupyter-widgets/controls",
      "model_module_version": "1.5.0",
      "model_name": "ButtonStyleModel",
      "state": {}
     },
     "5a27fdffe6454d09a23a0c3e166c520a": {
      "model_module": "@jupyter-widgets/controls",
      "model_module_version": "1.5.0",
      "model_name": "ButtonStyleModel",
      "state": {}
     },
     "5a2af9afb40840848cfd6174ac651cae": {
      "model_module": "@jupyter-widgets/base",
      "model_module_version": "1.2.0",
      "model_name": "LayoutModel",
      "state": {
       "height": "32px",
       "order": "-2",
       "width": "32px"
      }
     },
     "5a3a413628e34cb8960127020ac50073": {
      "model_module": "@jupyter-widgets/base",
      "model_module_version": "1.2.0",
      "model_name": "LayoutModel",
      "state": {
       "height": "32px",
       "order": "-2",
       "width": "32px"
      }
     },
     "5a7476848ffc4c2d9ee6823fbe9071a2": {
      "model_module": "@jupyter-widgets/base",
      "model_module_version": "1.2.0",
      "model_name": "LayoutModel",
      "state": {
       "order": "-1",
       "overflow": "visible",
       "padding": "1px",
       "width": "0px"
      }
     },
     "5a74fad74b0b436dafb5b91f4e55333b": {
      "model_module": "@jupyter-widgets/controls",
      "model_module_version": "1.5.0",
      "model_name": "IntProgressModel",
      "state": {
       "layout": "IPY_MODEL_295eb6b5a2ed49a597228b83067639de",
       "style": "IPY_MODEL_ea1842cfb57e48fa8b3bee1024e70484",
       "value": 30
      }
     },
     "5a82d466ada2422389a63d837bb8d7fa": {
      "model_module": "@jupyter-widgets/base",
      "model_module_version": "1.2.0",
      "model_name": "LayoutModel",
      "state": {
       "display": "none"
      }
     },
     "5aa848c08a274445be1585303f4aebf2": {
      "model_module": "@jupyter-widgets/controls",
      "model_module_version": "1.5.0",
      "model_name": "DescriptionStyleModel",
      "state": {
       "description_width": ""
      }
     },
     "5aaab4954d88476088548592d0a0126a": {
      "model_module": "@jupyter-widgets/base",
      "model_module_version": "1.2.0",
      "model_name": "LayoutModel",
      "state": {
       "width": "60px"
      }
     },
     "5acc4bc2fb454cfab071c861e6ad7c7b": {
      "model_module": "@jupyter-widgets/base",
      "model_module_version": "1.2.0",
      "model_name": "LayoutModel",
      "state": {
       "display": "none"
      }
     },
     "5acfba2d35a644d0a9bff73b0e66faa1": {
      "model_module": "@jupyter-widgets/controls",
      "model_module_version": "1.5.0",
      "model_name": "IntProgressModel",
      "state": {
       "bar_style": "info",
       "layout": "IPY_MODEL_af0c72bf514542f9ab26860144de9247",
       "max": 5,
       "style": "IPY_MODEL_eadbfac2c3f540cea8785591d385b434",
       "value": 2
      }
     },
     "5b554b19c126463e8d105766a768a485": {
      "model_module": "@jupyter-widgets/controls",
      "model_module_version": "1.5.0",
      "model_name": "LabelModel",
      "state": {
       "layout": "IPY_MODEL_9a945954c3a24c37becea976af63339b",
       "style": "IPY_MODEL_1b6e7a844d964b868695793ef39acaa0",
       "value": "   objective"
      }
     },
     "5b5b24b3a1d9477b99d972b126815713": {
      "model_module": "@jupyter-widgets/controls",
      "model_module_version": "1.5.0",
      "model_name": "ButtonModel",
      "state": {
       "layout": "IPY_MODEL_5a3a413628e34cb8960127020ac50073",
       "style": "IPY_MODEL_3ffc84e3f17a4fb399c0e15c44dc7f81"
      }
     },
     "5b98101ca2c749d0a9e63a1a1d05334f": {
      "model_module": "@jupyter-widgets/controls",
      "model_module_version": "1.5.0",
      "model_name": "IntProgressModel",
      "state": {
       "layout": "IPY_MODEL_a29f51e42f284779a16acab01736d328",
       "style": "IPY_MODEL_610be5d47ac54f03899b8c2d33bc8b6c",
       "value": 30
      }
     },
     "5c21b1d32081407d82e0c6ac76e7ce8c": {
      "model_module": "@jupyter-widgets/base",
      "model_module_version": "1.2.0",
      "model_name": "LayoutModel",
      "state": {
       "display": "none"
      }
     },
     "5c26c9bac56d45d191743f24ba55ca54": {
      "model_module": "@jupyter-widgets/controls",
      "model_module_version": "1.5.0",
      "model_name": "ProgressStyleModel",
      "state": {
       "description_width": ""
      }
     },
     "5c3444dac7504070bc6d7ffbeacf40d9": {
      "model_module": "@jupyter-widgets/controls",
      "model_module_version": "1.5.0",
      "model_name": "ButtonStyleModel",
      "state": {}
     },
     "5c4a1b5b6b6a4da2b7056ed24617d5b7": {
      "model_module": "@jupyter-widgets/controls",
      "model_module_version": "1.5.0",
      "model_name": "DescriptionStyleModel",
      "state": {
       "description_width": ""
      }
     },
     "5c540b05dba74a9a915143d9dcfe6015": {
      "model_module": "@jupyter-widgets/base",
      "model_module_version": "1.2.0",
      "model_name": "LayoutModel",
      "state": {
       "height": "32px",
       "order": "-2",
       "width": "32px"
      }
     },
     "5c7c64d22b97439f95d17c044dda5af8": {
      "model_module": "@jupyter-widgets/controls",
      "model_module_version": "1.5.0",
      "model_name": "ButtonStyleModel",
      "state": {}
     },
     "5d412b51b84f4d4d967ac0a624e1b4e0": {
      "model_module": "@jupyter-widgets/controls",
      "model_module_version": "1.5.0",
      "model_name": "ButtonStyleModel",
      "state": {}
     },
     "5d8ba3f78cc147d59184864f5885c429": {
      "model_module": "@jupyter-widgets/controls",
      "model_module_version": "1.5.0",
      "model_name": "ButtonModel",
      "state": {
       "description": "EDIT",
       "layout": "IPY_MODEL_5fc195956c0c433cb193c0e718fb80bb",
       "style": "IPY_MODEL_16e3432141464c86a345cd24c4438bb3"
      }
     },
     "5da549034eff4be68e87257acb0bb644": {
      "model_module": "@jupyter-widgets/controls",
      "model_module_version": "1.5.0",
      "model_name": "HBoxModel",
      "state": {
       "children": [
        "IPY_MODEL_3d71591691c142618b14be6b2a8c791c",
        "IPY_MODEL_2c0092651fd74722abacb8c48da8c7f9",
        "IPY_MODEL_bfff941954a941fab08419e66c2c6067",
        "IPY_MODEL_9877f7152fa842feb594d8f08a99b93a"
       ],
       "layout": "IPY_MODEL_4966c08e1e424c5c8394fd4c38f1ea3d"
      }
     },
     "5da5a7cddebd400da6a219ee0b6fe128": {
      "model_module": "@jupyter-widgets/controls",
      "model_module_version": "1.5.0",
      "model_name": "ButtonStyleModel",
      "state": {}
     },
     "5db49d8a8220492bbeec000e119e504e": {
      "model_module": "@jupyter-widgets/controls",
      "model_module_version": "1.5.0",
      "model_name": "ButtonModel",
      "state": {
       "layout": "IPY_MODEL_1af8798c56804943a8d677b969da4c96",
       "style": "IPY_MODEL_828a48b916714bc5ae4536792a6a4092"
      }
     },
     "5df6b0fded7b4ae197b0c6d7aec200db": {
      "model_module": "@jupyter-widgets/base",
      "model_module_version": "1.2.0",
      "model_name": "LayoutModel",
      "state": {
       "order": "-1",
       "overflow": "visible",
       "padding": "1px",
       "width": "0px"
      }
     },
     "5e4bab8d8ac34ebabffabd885e5bf2d6": {
      "model_module": "@jupyter-widgets/controls",
      "model_module_version": "1.5.0",
      "model_name": "ButtonStyleModel",
      "state": {}
     },
     "5e59954e22a44f618836275efec55a33": {
      "model_module": "@jupyter-widgets/controls",
      "model_module_version": "1.5.0",
      "model_name": "ButtonModel",
      "state": {
       "layout": "IPY_MODEL_3d62057232ec44b192ac25b2cd3b69e8",
       "style": "IPY_MODEL_3a3e9f3898424d43a7c3c4f145f99e16"
      }
     },
     "5eed51ab785f467bb75d5f6baf97f5f6": {
      "model_module": "@jupyter-widgets/base",
      "model_module_version": "1.2.0",
      "model_name": "LayoutModel",
      "state": {
       "order": "-1",
       "overflow": "visible",
       "padding": "1px",
       "width": "0px"
      }
     },
     "5f293b6b35884e27a536d66dc11fdcad": {
      "model_module": "@jupyter-widgets/base",
      "model_module_version": "1.2.0",
      "model_name": "LayoutModel",
      "state": {}
     },
     "5f4c06bb921441f8bc600a3fd640dead": {
      "model_module": "@jupyter-widgets/base",
      "model_module_version": "1.2.0",
      "model_name": "LayoutModel",
      "state": {
       "width": "60px"
      }
     },
     "5f4c3acf0b0c4ba7bcbe9542157617a1": {
      "model_module": "@jupyter-widgets/controls",
      "model_module_version": "1.5.0",
      "model_name": "DescriptionStyleModel",
      "state": {
       "description_width": ""
      }
     },
     "5f5d1fd1354c40d087a78d2e4cd060c2": {
      "model_module": "@jupyter-widgets/base",
      "model_module_version": "1.2.0",
      "model_name": "LayoutModel",
      "state": {
       "order": "-1",
       "overflow": "visible",
       "padding": "1px",
       "width": "0px"
      }
     },
     "5f67af7bc862414187a9d593cfff2c0d": {
      "model_module": "@jupyter-widgets/controls",
      "model_module_version": "1.5.0",
      "model_name": "LabelModel",
      "state": {
       "layout": "IPY_MODEL_f10c39eaad934e2491d48b91d75b367e",
       "style": "IPY_MODEL_143de58fb37c4b1ea4f8a73cfa764aeb",
       "value": "   objective"
      }
     },
     "5f7ac920852241ef9b16336cc1fe11b8": {
      "model_module": "@jupyter-widgets/controls",
      "model_module_version": "1.5.0",
      "model_name": "HBoxModel",
      "state": {
       "children": [
        "IPY_MODEL_b4e0e545a45c4040a91af3e711df1c24",
        "IPY_MODEL_47a7297165854f399a77e05af8f31eeb"
       ],
       "layout": "IPY_MODEL_88bd5f19d13842238e4345adc864c06b"
      }
     },
     "5f87247e19af4528910fad0c9b73bde2": {
      "model_module": "@jupyter-widgets/controls",
      "model_module_version": "1.5.0",
      "model_name": "LabelModel",
      "state": {
       "layout": "IPY_MODEL_5f293b6b35884e27a536d66dc11fdcad",
       "style": "IPY_MODEL_707ef007287f4df0b7b0659a739aee6f",
       "value": "Complete4!"
      }
     },
     "5fa4830c0c474c31b9fa15efb7481394": {
      "model_module": "@jupyter-widgets/controls",
      "model_module_version": "1.5.0",
      "model_name": "DescriptionStyleModel",
      "state": {
       "description_width": ""
      }
     },
     "5fc195956c0c433cb193c0e718fb80bb": {
      "model_module": "@jupyter-widgets/base",
      "model_module_version": "1.2.0",
      "model_name": "LayoutModel",
      "state": {
       "width": "60px"
      }
     },
     "5fdcb94c91234757bdebe843392c2d28": {
      "model_module": "@jupyter-widgets/controls",
      "model_module_version": "1.5.0",
      "model_name": "IntProgressModel",
      "state": {
       "layout": "IPY_MODEL_b7907f4423e04bec86b03d3e3a12ff5e",
       "style": "IPY_MODEL_7a406b6129af4fd091e649bedc70889e",
       "value": 30
      }
     },
     "601b8962bcba4bd286590386eecce077": {
      "model_module": "@jupyter-widgets/controls",
      "model_module_version": "1.5.0",
      "model_name": "ButtonModel",
      "state": {
       "description": "EDIT",
       "layout": "IPY_MODEL_1880e32dba8e47c4ac1e850ebde344ae",
       "style": "IPY_MODEL_d745e821f1f940b7abf975ba8cc4dc86"
      }
     },
     "601f78671145493eb6d8dd75d1c6780b": {
      "model_module": "@jupyter-widgets/base",
      "model_module_version": "1.2.0",
      "model_name": "LayoutModel",
      "state": {
       "height": "32px",
       "overflow": "visible",
       "width": "100%"
      }
     },
     "6025e936b0994952871010a36958135a": {
      "model_module": "@jupyter-widgets/base",
      "model_module_version": "1.2.0",
      "model_name": "LayoutModel",
      "state": {}
     },
     "606a378e6fce4d5284c46975fbb4a0c3": {
      "model_module": "@jupyter-widgets/controls",
      "model_module_version": "1.5.0",
      "model_name": "IntProgressModel",
      "state": {
       "layout": "IPY_MODEL_6842034864fd42da90a27d08286fac77",
       "style": "IPY_MODEL_7dc221a92a6d4362af16195d3dd500b3",
       "value": 30
      }
     },
     "60bdd46db630454cb946db326926b5c3": {
      "model_module": "@jupyter-widgets/base",
      "model_module_version": "1.2.0",
      "model_name": "LayoutModel",
      "state": {
       "overflow": "visible",
       "width": "100%"
      }
     },
     "60c919e0fed940dbab6874a9585f1e16": {
      "model_module": "@jupyter-widgets/controls",
      "model_module_version": "1.5.0",
      "model_name": "IntProgressModel",
      "state": {
       "layout": "IPY_MODEL_a9b604a8532c4f82b7da1226592d1505",
       "style": "IPY_MODEL_98311d5f9e0846a5965446d3241bf625",
       "value": 30
      }
     },
     "60d52052e3f14d0c9c960598eed34c55": {
      "model_module": "@jupyter-widgets/base",
      "model_module_version": "1.2.0",
      "model_name": "LayoutModel",
      "state": {
       "display": "none"
      }
     },
     "60df9496fbba4067b424850f941e7ae2": {
      "model_module": "@jupyter-widgets/base",
      "model_module_version": "1.2.0",
      "model_name": "LayoutModel",
      "state": {
       "height": "32px",
       "order": "-2",
       "width": "32px"
      }
     },
     "60e8b0024a0347e6955117e8dcb5c45b": {
      "model_module": "@jupyter-widgets/controls",
      "model_module_version": "1.5.0",
      "model_name": "ProgressStyleModel",
      "state": {
       "description_width": ""
      }
     },
     "610be5d47ac54f03899b8c2d33bc8b6c": {
      "model_module": "@jupyter-widgets/controls",
      "model_module_version": "1.5.0",
      "model_name": "ProgressStyleModel",
      "state": {
       "description_width": ""
      }
     },
     "610f4d8ef4d546a7a9f62ab956f54585": {
      "model_module": "@jupyter-widgets/base",
      "model_module_version": "1.2.0",
      "model_name": "LayoutModel",
      "state": {
       "overflow": "visible",
       "width": "100%"
      }
     },
     "611a66b308624b178098b9e36a38bf49": {
      "model_module": "@jupyter-widgets/base",
      "model_module_version": "1.2.0",
      "model_name": "LayoutModel",
      "state": {
       "display": "flex",
       "flex_flow": "row wrap"
      }
     },
     "6121a9ebc6e54851b7e0d160a6e9fc96": {
      "model_module": "@jupyter-widgets/controls",
      "model_module_version": "1.5.0",
      "model_name": "ButtonModel",
      "state": {
       "layout": "IPY_MODEL_61c9baf7545642e08e3b8a86b5124b32",
       "style": "IPY_MODEL_5d412b51b84f4d4d967ac0a624e1b4e0"
      }
     },
     "61285a063bc349108eae86470728c8c7": {
      "model_module": "@jupyter-widgets/controls",
      "model_module_version": "1.5.0",
      "model_name": "DescriptionStyleModel",
      "state": {
       "description_width": ""
      }
     },
     "61285c796b704978a6d83e8c6cfc9211": {
      "model_module": "@jupyter-widgets/controls",
      "model_module_version": "1.5.0",
      "model_name": "ButtonStyleModel",
      "state": {}
     },
     "612ad0f67b914098b9044d8af42b2347": {
      "model_module": "@jupyter-widgets/controls",
      "model_module_version": "1.5.0",
      "model_name": "ButtonStyleModel",
      "state": {}
     },
     "617c5be511634c98804958df3a0d0215": {
      "model_module": "@jupyter-widgets/controls",
      "model_module_version": "1.5.0",
      "model_name": "HTMLModel",
      "state": {
       "layout": "IPY_MODEL_cf0fe0bbac1b4db1bff9e03e5d44c491",
       "style": "IPY_MODEL_7d9a77136b294bce8cd69e1ba857ed36",
       "value": "<b>Gear Options</b>"
      }
     },
     "61879f974534460d81de2aa2b989dab7": {
      "model_module": "@jupyter-widgets/controls",
      "model_module_version": "1.5.0",
      "model_name": "IntProgressModel",
      "state": {
       "layout": "IPY_MODEL_8425844a26c54885947e1558e84a7630",
       "style": "IPY_MODEL_ce305a928fbb4476845e92af127a2df9",
       "value": 30
      }
     },
     "6188112db7944578b5e74782c7cee068": {
      "model_module": "@jupyter-widgets/base",
      "model_module_version": "1.2.0",
      "model_name": "LayoutModel",
      "state": {
       "width": "60px"
      }
     },
     "619ac41ab0dd4e2093b8a1503da5f99f": {
      "model_module": "@jupyter-widgets/base",
      "model_module_version": "1.2.0",
      "model_name": "LayoutModel",
      "state": {
       "width": "60px"
      }
     },
     "61c9baf7545642e08e3b8a86b5124b32": {
      "model_module": "@jupyter-widgets/base",
      "model_module_version": "1.2.0",
      "model_name": "LayoutModel",
      "state": {
       "height": "32px",
       "order": "-2",
       "width": "32px"
      }
     },
     "61d792f0cf214bc0bf22cfe487409098": {
      "model_module": "@jupyter-widgets/controls",
      "model_module_version": "1.5.0",
      "model_name": "ButtonModel",
      "state": {
       "layout": "IPY_MODEL_127ce6896bcf482ba0ad43544cb402bf",
       "style": "IPY_MODEL_b44d2bce593c4fcf883d4be74cb1fb69"
      }
     },
     "62389bd1230e4ad1a644043f73c31d20": {
      "model_module": "@jupyter-widgets/controls",
      "model_module_version": "1.5.0",
      "model_name": "DescriptionStyleModel",
      "state": {
       "description_width": ""
      }
     },
     "623908d13d194eb09daf0aa68b3afea9": {
      "model_module": "@jupyter-widgets/base",
      "model_module_version": "1.2.0",
      "model_name": "LayoutModel",
      "state": {
       "display": "none"
      }
     },
     "62491210dac7447b8a573cbb5c127c59": {
      "model_module": "@jupyter-widgets/controls",
      "model_module_version": "1.5.0",
      "model_name": "ButtonModel",
      "state": {
       "description": "EDIT",
       "layout": "IPY_MODEL_266b9e5e048f4c069ec3204b461b1855",
       "style": "IPY_MODEL_5c3444dac7504070bc6d7ffbeacf40d9"
      }
     },
     "626cb40ff8544a0ab7828834c5278587": {
      "model_module": "@jupyter-widgets/controls",
      "model_module_version": "1.5.0",
      "model_name": "DescriptionStyleModel",
      "state": {
       "description_width": ""
      }
     },
     "627bc1a63fae4f64b8a9d69eacbbc233": {
      "model_module": "@jupyter-widgets/base",
      "model_module_version": "1.2.0",
      "model_name": "LayoutModel",
      "state": {
       "border": "3px solid white",
       "display": "flex",
       "flex": "1 1 0%",
       "margin": "10px",
       "min_width": "400px",
       "overflow": "visible",
       "padding": "10px",
       "width": "auto"
      }
     },
     "62f4c9f3a6f941c2afab397c787f4030": {
      "model_module": "@jupyter-widgets/controls",
      "model_module_version": "1.5.0",
      "model_name": "LabelModel",
      "state": {
       "layout": "IPY_MODEL_ab38cdf223ae497ea5b092064b2034e5",
       "style": "IPY_MODEL_e3f8ea9c03784a1487f45f71c25e77e0",
       "value": "     (0/1)"
      }
     },
     "63096b1c48cf41908b702d17e3aa3446": {
      "model_module": "@jupyter-widgets/base",
      "model_module_version": "1.2.0",
      "model_name": "LayoutModel",
      "state": {
       "width": "60px"
      }
     },
     "6349c62ccae943b89f9c72a1e8d40197": {
      "model_module": "@jupyter-widgets/base",
      "model_module_version": "1.2.0",
      "model_name": "LayoutModel",
      "state": {
       "width": "60px"
      }
     },
     "638affa295134f64ad352e1abb3806e2": {
      "model_module": "@jupyter-widgets/controls",
      "model_module_version": "1.5.0",
      "model_name": "DescriptionStyleModel",
      "state": {
       "description_width": ""
      }
     },
     "63d6348f03d141d28a6383032b586812": {
      "model_module": "@jupyter-widgets/base",
      "model_module_version": "1.2.0",
      "model_name": "LayoutModel",
      "state": {
       "width": "60px"
      }
     },
     "64105718533646d29bdc9d5c3b3ace6e": {
      "model_module": "@jupyter-widgets/base",
      "model_module_version": "1.2.0",
      "model_name": "LayoutModel",
      "state": {
       "display": "none"
      }
     },
     "646c4c2bfdfd4326b3eaca22c2f2b0af": {
      "model_module": "@jupyter-widgets/controls",
      "model_module_version": "1.5.0",
      "model_name": "ButtonModel",
      "state": {
       "layout": "IPY_MODEL_03c4dbcf96634497800cc5835415de34",
       "style": "IPY_MODEL_65b71ad5ae294f90ab66bf06d459e1e1"
      }
     },
     "6492d564381e4b618f15df21d7c097a4": {
      "model_module": "@jupyter-widgets/base",
      "model_module_version": "1.2.0",
      "model_name": "LayoutModel",
      "state": {}
     },
     "64b4ac98da9c49ad87a765aa94dcef30": {
      "model_module": "@jupyter-widgets/controls",
      "model_module_version": "1.5.0",
      "model_name": "DescriptionStyleModel",
      "state": {
       "description_width": ""
      }
     },
     "64c5d1cade5346c2a45b5124a95a26c1": {
      "model_module": "@jupyter-widgets/controls",
      "model_module_version": "1.5.0",
      "model_name": "LabelModel",
      "state": {
       "layout": "IPY_MODEL_6777fb97ae0545e38f11cc97c23fecaf",
       "style": "IPY_MODEL_c77cbdda4bd64951ae455a4caf34566a",
       "value": "   objective"
      }
     },
     "651050216cd24212a7c98627e1cb0d5e": {
      "model_module": "@jupyter-widgets/controls",
      "model_module_version": "1.5.0",
      "model_name": "ProgressStyleModel",
      "state": {
       "description_width": ""
      }
     },
     "652414f9ba6948798a1359d0968a7fa4": {
      "model_module": "@jupyter-widgets/controls",
      "model_module_version": "1.5.0",
      "model_name": "LabelModel",
      "state": {
       "layout": "IPY_MODEL_17ce94db1ed24612aa89ba6b117ea1ab",
       "style": "IPY_MODEL_77b1db70da9b4a6290993b24a88b79e7",
       "value": "   objective"
      }
     },
     "652d7a81aeee4d348d675077b0641ddb": {
      "model_module": "@jupyter-widgets/controls",
      "model_module_version": "1.5.0",
      "model_name": "ButtonStyleModel",
      "state": {}
     },
     "65471a5403eb409e85b130ce3e9e8759": {
      "model_module": "@jupyter-widgets/base",
      "model_module_version": "1.2.0",
      "model_name": "LayoutModel",
      "state": {}
     },
     "654ed67df41b454e8a0d56890c5af994": {
      "model_module": "@jupyter-widgets/controls",
      "model_module_version": "1.5.0",
      "model_name": "LabelModel",
      "state": {
       "layout": "IPY_MODEL_2b467f90301a4e53b34f594e3f86050f",
       "style": "IPY_MODEL_c0bec3123ac042b7a8835d03e211960a",
       "value": "   objective"
      }
     },
     "656d6a534c644005afb358ce2e50d671": {
      "model_module": "@jupyter-widgets/base",
      "model_module_version": "1.2.0",
      "model_name": "LayoutModel",
      "state": {
       "width": "186px"
      }
     },
     "658d392d4dd04cb5b6265b281c5a1671": {
      "model_module": "@jupyter-widgets/controls",
      "model_module_version": "1.5.0",
      "model_name": "ButtonModel",
      "state": {
       "description": "EDIT",
       "layout": "IPY_MODEL_21a5239823d14d8f8a5ff9cfdb24e1fc",
       "style": "IPY_MODEL_b90b3f1fb49b4160990cf100e35dc43e"
      }
     },
     "659045424a714603820953a1b2b2ab54": {
      "model_module": "@jupyter-widgets/controls",
      "model_module_version": "1.5.0",
      "model_name": "ButtonStyleModel",
      "state": {}
     },
     "65a8791a657246078e0ba224a03413b2": {
      "model_module": "@jupyter-widgets/controls",
      "model_module_version": "1.5.0",
      "model_name": "ButtonModel",
      "state": {
       "description": "EDIT",
       "layout": "IPY_MODEL_531d1739041044128948d2c6e6c31c6a",
       "style": "IPY_MODEL_da4a2be8a1f444e5a4c3623e9af8a8a3"
      }
     },
     "65b71ad5ae294f90ab66bf06d459e1e1": {
      "model_module": "@jupyter-widgets/controls",
      "model_module_version": "1.5.0",
      "model_name": "ButtonStyleModel",
      "state": {}
     },
     "66182195c47a4d6b9118e54337b94f2a": {
      "model_module": "@jupyter-widgets/controls",
      "model_module_version": "1.5.0",
      "model_name": "DescriptionStyleModel",
      "state": {
       "description_width": ""
      }
     },
     "662be711c235433686073b243ef0c0a1": {
      "model_module": "@jupyter-widgets/controls",
      "model_module_version": "1.5.0",
      "model_name": "ButtonModel",
      "state": {
       "description": "Search",
       "layout": "IPY_MODEL_d52af2b7ce7e4108bceecab37f8bba64",
       "style": "IPY_MODEL_cd1131f8b3004a3aba054863f99fc28f"
      }
     },
     "6645c12405ef4a1fb731c8ad468e7f28": {
      "model_module": "@jupyter-widgets/controls",
      "model_module_version": "1.5.0",
      "model_name": "DescriptionStyleModel",
      "state": {
       "description_width": ""
      }
     },
     "665fa03fc1184d5c9bf9e971b6a3fe3c": {
      "model_module": "@jupyter-widgets/controls",
      "model_module_version": "1.5.0",
      "model_name": "ButtonModel",
      "state": {
       "layout": "IPY_MODEL_838cd3ca1cbc48ca9628d692191c4946",
       "style": "IPY_MODEL_4e62e5c687cd47b49194a2a116cf756d"
      }
     },
     "666e6faf04a1490ba3a58ab9481fc7d8": {
      "model_module": "@jupyter-widgets/base",
      "model_module_version": "1.2.0",
      "model_name": "LayoutModel",
      "state": {
       "height": "32px",
       "order": "-2",
       "width": "32px"
      }
     },
     "6672e3ac60704168bf2860249eaa1b2a": {
      "model_module": "@jupyter-widgets/controls",
      "model_module_version": "1.5.0",
      "model_name": "HBoxModel",
      "state": {
       "children": [
        "IPY_MODEL_21bc8f6f44a04b748fe0b70918c8e224",
        "IPY_MODEL_12d83ce8f8be4174a067c6b84f1d09de",
        "IPY_MODEL_ab5576a206e5461a94874ae27d1b2247",
        "IPY_MODEL_ec0d16eaa5a34c6da09cce9e47332ce6"
       ],
       "layout": "IPY_MODEL_78e543e682ec49f59f3a079d46fcd78b"
      }
     },
     "671668be67b648738c7aa8d92aa45a35": {
      "model_module": "@jupyter-widgets/base",
      "model_module_version": "1.2.0",
      "model_name": "LayoutModel",
      "state": {
       "height": "32px",
       "order": "-2",
       "width": "32px"
      }
     },
     "6757a7cd642a4195ad5f629a20c06c2e": {
      "model_module": "@jupyter-widgets/base",
      "model_module_version": "1.2.0",
      "model_name": "LayoutModel",
      "state": {
       "width": "60px"
      }
     },
     "676389bacde3441dafd17f4ebca046ba": {
      "model_module": "@jupyter-widgets/controls",
      "model_module_version": "1.5.0",
      "model_name": "ButtonModel",
      "state": {
       "layout": "IPY_MODEL_acb858d49b334b5fb60572577ec55a83",
       "style": "IPY_MODEL_a943c8443eae4115ab0d8a07a7ceec7b"
      }
     },
     "6777fb97ae0545e38f11cc97c23fecaf": {
      "model_module": "@jupyter-widgets/base",
      "model_module_version": "1.2.0",
      "model_name": "LayoutModel",
      "state": {
       "order": "-1",
       "overflow": "visible",
       "padding": "1px",
       "width": "0px"
      }
     },
     "67a1ef2f930d428c88ed5531c20a42e1": {
      "model_module": "@jupyter-widgets/base",
      "model_module_version": "1.2.0",
      "model_name": "LayoutModel",
      "state": {
       "display": "none"
      }
     },
     "67aac111bb8a4d0b9db2838e97bb1aba": {
      "model_module": "@jupyter-widgets/controls",
      "model_module_version": "1.5.0",
      "model_name": "HBoxModel",
      "state": {
       "children": [
        "IPY_MODEL_995f39dfb2c747e5bb1e59bb226f303f",
        "IPY_MODEL_662be711c235433686073b243ef0c0a1"
       ],
       "layout": "IPY_MODEL_7bb48b5aa5d64c81be72ede90b2d7a6d"
      }
     },
     "68197d384ece4b18a5c945a8c2be5f98": {
      "model_module": "@jupyter-widgets/base",
      "model_module_version": "1.2.0",
      "model_name": "LayoutModel",
      "state": {
       "order": "-1",
       "overflow": "visible",
       "padding": "1px",
       "width": "0px"
      }
     },
     "6841a96dcb344aa597535a3aa173e7d9": {
      "model_module": "@jupyter-widgets/controls",
      "model_module_version": "1.5.0",
      "model_name": "HBoxModel",
      "state": {
       "children": [
        "IPY_MODEL_48e75d1ab6b7479db008c6431c60a601",
        "IPY_MODEL_a0e07bd0793548e9a23edfa0ba8832b9",
        "IPY_MODEL_f0a4458a23ee4b3096fbf3a365b20578",
        "IPY_MODEL_315f35fbeaa84849b1a6699d81b702fa"
       ],
       "layout": "IPY_MODEL_64105718533646d29bdc9d5c3b3ace6e"
      }
     },
     "6842034864fd42da90a27d08286fac77": {
      "model_module": "@jupyter-widgets/base",
      "model_module_version": "1.2.0",
      "model_name": "LayoutModel",
      "state": {
       "height": "32px",
       "overflow": "visible",
       "width": "100%"
      }
     },
     "687a79705d50407aad0bd2c1fd9caac7": {
      "model_module": "@jupyter-widgets/base",
      "model_module_version": "1.2.0",
      "model_name": "LayoutModel",
      "state": {
       "overflow": "visible",
       "width": "100%"
      }
     },
     "68a58f3d9d334041ab01471e50ec0bac": {
      "model_module": "@jupyter-widgets/controls",
      "model_module_version": "1.5.0",
      "model_name": "DescriptionStyleModel",
      "state": {
       "description_width": ""
      }
     },
     "68aab4716d9942469e843879764e92b3": {
      "model_module": "@jupyter-widgets/base",
      "model_module_version": "1.2.0",
      "model_name": "LayoutModel",
      "state": {
       "display": "none"
      }
     },
     "68c69b74fe1b4fe09742f5d8ccc9e2a7": {
      "model_module": "@jupyter-widgets/controls",
      "model_module_version": "1.5.0",
      "model_name": "IntProgressModel",
      "state": {
       "layout": "IPY_MODEL_93acbe48f5764b9eb7f8a377ce309339",
       "style": "IPY_MODEL_a87a132cd1cd4aad85532fac1ec01b34",
       "value": 30
      }
     },
     "68e81603b7444a80875ba0b6e3e701a8": {
      "model_module": "@jupyter-widgets/controls",
      "model_module_version": "1.5.0",
      "model_name": "ButtonModel",
      "state": {
       "description": "EDIT",
       "layout": "IPY_MODEL_190993f515604c8ea76d102a3fd0352a",
       "style": "IPY_MODEL_d3a55579a1d24b3a9a5f0f78e3e74099"
      }
     },
     "68fd1258afd04d4b96d287cbf085974b": {
      "model_module": "@jupyter-widgets/controls",
      "model_module_version": "1.5.0",
      "model_name": "HTMLModel",
      "state": {
       "layout": "IPY_MODEL_d5ac7871279745d2b0db9d8cee0cac36",
       "style": "IPY_MODEL_04419a52f92e42a8bb33b8cdeee152c6",
       "value": "<font size=\"1\">Triumphs/Crucible/Lifetime/Glory Ranks</font size=>"
      }
     },
     "6902e941357f4da3909e9634c1aff38d": {
      "model_module": "@jupyter-widgets/base",
      "model_module_version": "1.2.0",
      "model_name": "LayoutModel",
      "state": {
       "display": "flex"
      }
     },
     "69301b7a1d2d47859a9edf2e3cfb405a": {
      "model_module": "@jupyter-widgets/controls",
      "model_module_version": "1.5.0",
      "model_name": "ProgressStyleModel",
      "state": {
       "description_width": ""
      }
     },
     "6948b366c43043b1bf624fc7832c2a67": {
      "model_module": "@jupyter-widgets/base",
      "model_module_version": "1.2.0",
      "model_name": "LayoutModel",
      "state": {
       "height": "32px",
       "order": "-2",
       "width": "32px"
      }
     },
     "69493610f6784924af6d780d574758fa": {
      "model_module": "@jupyter-widgets/controls",
      "model_module_version": "1.5.0",
      "model_name": "ButtonModel",
      "state": {
       "layout": "IPY_MODEL_50b45e9b6c244fbebb4b0daaa87bff85",
       "style": "IPY_MODEL_4d6220dfc15f4c3dbeff706381d639d6"
      }
     },
     "6963170fddbb4d94923657c7139bbd36": {
      "model_module": "@jupyter-widgets/base",
      "model_module_version": "1.2.0",
      "model_name": "LayoutModel",
      "state": {
       "width": "60px"
      }
     },
     "697ca82eb26a4e5e88ba9ad7aed1d48b": {
      "model_module": "@jupyter-widgets/base",
      "model_module_version": "1.2.0",
      "model_name": "LayoutModel",
      "state": {
       "height": "32px",
       "order": "-2",
       "width": "32px"
      }
     },
     "699b26984cd34fd48a41754ce79f660a": {
      "model_module": "@jupyter-widgets/controls",
      "model_module_version": "1.5.0",
      "model_name": "ButtonModel",
      "state": {
       "layout": "IPY_MODEL_1da3ce5a15094c39ad5870656b9a2a99",
       "style": "IPY_MODEL_d6aa8833c90f4e1298cae349c97e35d8"
      }
     },
     "69aa6aed0ddf4652a333dab48e06f8e0": {
      "model_module": "@jupyter-widgets/controls",
      "model_module_version": "1.5.0",
      "model_name": "DescriptionStyleModel",
      "state": {
       "description_width": ""
      }
     },
     "69b05b57ffca464d955bb7a75729228e": {
      "model_module": "@jupyter-widgets/controls",
      "model_module_version": "1.5.0",
      "model_name": "ButtonModel",
      "state": {
       "description": "EDIT",
       "layout": "IPY_MODEL_866eb7018f51414cae45740f93a148df",
       "style": "IPY_MODEL_3cd6f7eea0924adfac85b0f5d6250190"
      }
     },
     "69daf0aa613f40768b0174048eef3c31": {
      "model_module": "@jupyter-widgets/controls",
      "model_module_version": "1.5.0",
      "model_name": "ButtonStyleModel",
      "state": {}
     },
     "6a2cda581db74847872ad22ad88318ca": {
      "model_module": "@jupyter-widgets/base",
      "model_module_version": "1.2.0",
      "model_name": "LayoutModel",
      "state": {
       "width": "60px"
      }
     },
     "6a540601aa2c442387821137660f7a2b": {
      "model_module": "@jupyter-widgets/controls",
      "model_module_version": "1.5.0",
      "model_name": "IntProgressModel",
      "state": {
       "layout": "IPY_MODEL_ea68bb8d6926407e9785c74236b8aa63",
       "style": "IPY_MODEL_7ba86c8d223c4362890232e727da8997",
       "value": 30
      }
     },
     "6a563db80f0a4969b20b418cc8c70f10": {
      "model_module": "@jupyter-widgets/controls",
      "model_module_version": "1.5.0",
      "model_name": "ButtonStyleModel",
      "state": {}
     },
     "6acc0208d8254dc3b977b3d4bb958a64": {
      "model_module": "@jupyter-widgets/base",
      "model_module_version": "1.2.0",
      "model_name": "LayoutModel",
      "state": {
       "order": "-1",
       "overflow": "visible",
       "padding": "1px",
       "width": "0px"
      }
     },
     "6ae67fe3d13542209fa8d75d630f1334": {
      "model_module": "@jupyter-widgets/controls",
      "model_module_version": "1.5.0",
      "model_name": "ButtonModel",
      "state": {
       "description": "EDIT",
       "layout": "IPY_MODEL_350f9817768141f4a33f982ed39ddb3f",
       "style": "IPY_MODEL_bd7d4bd180a64ed0b30e542633b8f6b6"
      }
     },
     "6b09e82a4cc14cdba0f2a392f9f88faf": {
      "model_module": "@jupyter-widgets/controls",
      "model_module_version": "1.5.0",
      "model_name": "ButtonModel",
      "state": {
       "layout": "IPY_MODEL_94a2d6143a834e0ea0216d23fa1e4620",
       "style": "IPY_MODEL_0f30f8c91300406c90734bb5560f2d16"
      }
     },
     "6b20e9fe69d042729dc42afa62a08e89": {
      "model_module": "@jupyter-widgets/controls",
      "model_module_version": "1.5.0",
      "model_name": "DescriptionStyleModel",
      "state": {
       "description_width": ""
      }
     },
     "6b65fadf2006452588288a5dac072fe8": {
      "model_module": "@jupyter-widgets/base",
      "model_module_version": "1.2.0",
      "model_name": "LayoutModel",
      "state": {
       "width": "60px"
      }
     },
     "6b9922df80654857badf28a3d14db5bb": {
      "model_module": "@jupyter-widgets/controls",
      "model_module_version": "1.5.0",
      "model_name": "ProgressStyleModel",
      "state": {
       "description_width": ""
      }
     },
     "6bd02e9c24e1447c9493ed28a1cd41e7": {
      "model_module": "@jupyter-widgets/controls",
      "model_module_version": "1.5.0",
      "model_name": "LabelModel",
      "state": {
       "layout": "IPY_MODEL_105efbc0bf2548a78351cbea80bf713c",
       "style": "IPY_MODEL_69aa6aed0ddf4652a333dab48e06f8e0",
       "value": "   objective"
      }
     },
     "6be78094224a4cafa5a78998589a4593": {
      "model_module": "@jupyter-widgets/controls",
      "model_module_version": "1.5.0",
      "model_name": "ButtonStyleModel",
      "state": {}
     },
     "6c0eec23ab504a75bfb536439cf39d06": {
      "model_module": "@jupyter-widgets/base",
      "model_module_version": "1.2.0",
      "model_name": "LayoutModel",
      "state": {
       "order": "-1",
       "overflow": "visible",
       "padding": "1px",
       "width": "0px"
      }
     },
     "6c3890b6f8544d85bfef09169b2cd5d4": {
      "model_module": "@jupyter-widgets/base",
      "model_module_version": "1.2.0",
      "model_name": "LayoutModel",
      "state": {
       "height": "32px",
       "overflow": "visible",
       "width": "100%"
      }
     },
     "6c46d43cc2eb41438bda98b9ee558171": {
      "model_module": "@jupyter-widgets/controls",
      "model_module_version": "1.5.0",
      "model_name": "HBoxModel",
      "state": {
       "children": [
        "IPY_MODEL_9e225c3598c44a8c9b680ab6ee853ef5",
        "IPY_MODEL_09b5d17606db4e2b8f966ae03e117957"
       ],
       "layout": "IPY_MODEL_bc75155836454f449eed3a6751557b33"
      }
     },
     "6c4931fc541f4190817b9371011c834b": {
      "model_module": "@jupyter-widgets/controls",
      "model_module_version": "1.5.0",
      "model_name": "LabelModel",
      "state": {
       "layout": "IPY_MODEL_e78de971dd644069999c3e6a6c1f8c06",
       "style": "IPY_MODEL_54ce4998a93f47dd8dd67fdea140daee",
       "value": "   objective"
      }
     },
     "6c50e96efca942d09b142f0b40e5e416": {
      "model_module": "@jupyter-widgets/controls",
      "model_module_version": "1.5.0",
      "model_name": "HBoxModel",
      "state": {
       "children": [
        "IPY_MODEL_c9683bed4a0345709bf392ed0dfd8a21",
        "IPY_MODEL_abae326e3add48e88814e5883637b9c1",
        "IPY_MODEL_7fac4ab6b7a04594b1f257fd92501e68",
        "IPY_MODEL_39a79090d3b8441fada346de7adc7e6b"
       ],
       "layout": "IPY_MODEL_507b75d939db4cb1928f547f22c790bd"
      }
     },
     "6c7161969332475487e1c42453c1ae8c": {
      "model_module": "@jupyter-widgets/controls",
      "model_module_version": "1.5.0",
      "model_name": "DescriptionStyleModel",
      "state": {
       "description_width": ""
      }
     },
     "6d4f8f20bffc4b7ca513cce9d99cc6a2": {
      "model_module": "@jupyter-widgets/base",
      "model_module_version": "1.2.0",
      "model_name": "LayoutModel",
      "state": {
       "height": "32px",
       "overflow": "visible",
       "width": "100%"
      }
     },
     "6dba586dd5d74f5da688ddf60c506f20": {
      "model_module": "@jupyter-widgets/base",
      "model_module_version": "1.2.0",
      "model_name": "LayoutModel",
      "state": {
       "display": "flex"
      }
     },
     "6dcf796a15f747979f9bb4401efdb97c": {
      "model_module": "@jupyter-widgets/controls",
      "model_module_version": "1.5.0",
      "model_name": "DescriptionStyleModel",
      "state": {
       "description_width": ""
      }
     },
     "6e0ca64efd13459dadc12e2e4c701b6d": {
      "model_module": "@jupyter-widgets/controls",
      "model_module_version": "1.5.0",
      "model_name": "DescriptionStyleModel",
      "state": {
       "description_width": ""
      }
     },
     "6e27cd16884d464f80e177d93c11661e": {
      "model_module": "@jupyter-widgets/controls",
      "model_module_version": "1.5.0",
      "model_name": "IntProgressModel",
      "state": {
       "layout": "IPY_MODEL_8a8f593ca92749e4987fb4afbb343f36",
       "style": "IPY_MODEL_7524a4ea97574826bbac8bace84fc0ce",
       "value": 30
      }
     },
     "6e3f171241394a6c9c777d88f9da8565": {
      "model_module": "@jupyter-widgets/controls",
      "model_module_version": "1.5.0",
      "model_name": "ButtonStyleModel",
      "state": {}
     },
     "6e4f55e5138245649fb578739e1aaac8": {
      "model_module": "@jupyter-widgets/controls",
      "model_module_version": "1.5.0",
      "model_name": "VBoxModel",
      "state": {
       "children": [
        "IPY_MODEL_8117a281c1624f6da9ebabe468028d94",
        "IPY_MODEL_a29fa55aa7164558b2ef945000df68fe",
        "IPY_MODEL_b5fd276fa5844988adabc4c9e6a9237c",
        "IPY_MODEL_edeb089b6e9742b79da4bbf4ccd29064",
        "IPY_MODEL_55e5d32565d142f9b115efc2b2a15152",
        "IPY_MODEL_4f418c0cd49b4da9950ddc1255749d39"
       ],
       "layout": "IPY_MODEL_b15cebc648584c3fa93acbd97ade1f7e"
      }
     },
     "6e5409ea6dea41d0bb69a59159b0d92c": {
      "model_module": "@jupyter-widgets/base",
      "model_module_version": "1.2.0",
      "model_name": "LayoutModel",
      "state": {
       "width": "60px"
      }
     },
     "6e7e06f5cc794dc097c519b01566aeda": {
      "model_module": "@jupyter-widgets/controls",
      "model_module_version": "1.5.0",
      "model_name": "IntProgressModel",
      "state": {
       "layout": "IPY_MODEL_fbb6cbf506394383aa6f376954678aa0",
       "style": "IPY_MODEL_229b1908ebd947b9aa4a07eebf6c267e",
       "value": 30
      }
     },
     "6edbec3e9964495bbb83119443e86cf7": {
      "model_module": "@jupyter-widgets/controls",
      "model_module_version": "1.5.0",
      "model_name": "DescriptionStyleModel",
      "state": {
       "description_width": ""
      }
     },
     "6ef97285902f46db9cf800bc445afb21": {
      "model_module": "@jupyter-widgets/base",
      "model_module_version": "1.2.0",
      "model_name": "LayoutModel",
      "state": {
       "overflow": "visible",
       "width": "100%"
      }
     },
     "6f1679c36e4e47a0bfbb753dd616b09d": {
      "model_module": "@jupyter-widgets/controls",
      "model_module_version": "1.5.0",
      "model_name": "DescriptionStyleModel",
      "state": {
       "description_width": ""
      }
     },
     "6f207700edef4ec7bb25d9920b524487": {
      "model_module": "@jupyter-widgets/controls",
      "model_module_version": "1.5.0",
      "model_name": "ButtonStyleModel",
      "state": {}
     },
     "6f49018da4a04c8fbe3ba262e6b56e02": {
      "model_module": "@jupyter-widgets/controls",
      "model_module_version": "1.5.0",
      "model_name": "IntProgressModel",
      "state": {
       "bar_style": "danger",
       "layout": "IPY_MODEL_71f5ee986e0f47f58505f2c111580c5a",
       "max": 500,
       "style": "IPY_MODEL_090aee04baff4519983a682e8cf61cc5",
       "value": 177
      }
     },
     "6f5782185fb8471e9447dadde9319873": {
      "model_module": "@jupyter-widgets/controls",
      "model_module_version": "1.5.0",
      "model_name": "HBoxModel",
      "state": {
       "children": [
        "IPY_MODEL_39a9a40ed9b64c96b4e8e815519594ce",
        "IPY_MODEL_465e8dd550c94efa978a1d2e2aad6bc8"
       ],
       "layout": "IPY_MODEL_76e26e969bde48a095c7019cf3516f69"
      }
     },
     "6f5db5c1817740878986c77c9619e4f6": {
      "model_module": "@jupyter-widgets/controls",
      "model_module_version": "1.5.0",
      "model_name": "HBoxModel",
      "state": {
       "children": [
        "IPY_MODEL_43043ddad9f0427c8bced172b87df071",
        "IPY_MODEL_d2a121c7001f46b19bd109a63baf36d7",
        "IPY_MODEL_88171e316faa443ea5733316bd5fafb3",
        "IPY_MODEL_337283eb2b88419ea70912c8f53173ce"
       ],
       "layout": "IPY_MODEL_ac0cfd8d919641548b18ae2046412380"
      }
     },
     "6f869a081868405695ce65d12afb5c2e": {
      "model_module": "@jupyter-widgets/base",
      "model_module_version": "1.2.0",
      "model_name": "LayoutModel",
      "state": {
       "width": "60px"
      }
     },
     "6f99af7cd2cf4415a6f5b10b8be2be44": {
      "model_module": "@jupyter-widgets/base",
      "model_module_version": "1.2.0",
      "model_name": "LayoutModel",
      "state": {}
     },
     "6fa00e8dab8847268ca054a384668f13": {
      "model_module": "@jupyter-widgets/controls",
      "model_module_version": "1.5.0",
      "model_name": "ButtonModel",
      "state": {
       "layout": "IPY_MODEL_9ffcc1329cf2497ba0f37fa57cad957b",
       "style": "IPY_MODEL_3cf0b080dba7463c9291e496df56ddbc"
      }
     },
     "6fb84583ca7e4c3db4900c1ea91d1e5b": {
      "model_module": "@jupyter-widgets/controls",
      "model_module_version": "1.5.0",
      "model_name": "ButtonStyleModel",
      "state": {}
     },
     "6fd9b600dd65416287aab52342035588": {
      "model_module": "@jupyter-widgets/controls",
      "model_module_version": "1.5.0",
      "model_name": "ButtonStyleModel",
      "state": {}
     },
     "6fee05c58bb741168b3b9e1cad3ba9f6": {
      "model_module": "@jupyter-widgets/controls",
      "model_module_version": "1.5.0",
      "model_name": "ButtonModel",
      "state": {
       "layout": "IPY_MODEL_bbc8b9eba2d74f0c9ad3004bc7b96a06",
       "style": "IPY_MODEL_6e3f171241394a6c9c777d88f9da8565"
      }
     },
     "706874d455a34641bb4b296ae4bf3e7e": {
      "model_module": "@jupyter-widgets/base",
      "model_module_version": "1.2.0",
      "model_name": "LayoutModel",
      "state": {
       "width": "60px"
      }
     },
     "7070757708164201a1333da44aa65e17": {
      "model_module": "@jupyter-widgets/base",
      "model_module_version": "1.2.0",
      "model_name": "LayoutModel",
      "state": {
       "overflow": "visible",
       "width": "100%"
      }
     },
     "707ef007287f4df0b7b0659a739aee6f": {
      "model_module": "@jupyter-widgets/controls",
      "model_module_version": "1.5.0",
      "model_name": "DescriptionStyleModel",
      "state": {
       "description_width": ""
      }
     },
     "708098d29d524c7f9bdfe2a252134e5c": {
      "model_module": "@jupyter-widgets/base",
      "model_module_version": "1.2.0",
      "model_name": "LayoutModel",
      "state": {
       "display": "flex",
       "flex_flow": "row wrap"
      }
     },
     "7089a78154254750a92542e5dd21223c": {
      "model_module": "@jupyter-widgets/base",
      "model_module_version": "1.2.0",
      "model_name": "LayoutModel",
      "state": {
       "height": "32px",
       "overflow": "visible",
       "width": "100%"
      }
     },
     "70cd4d30e1174f57b7bcd98a3f0c4c1d": {
      "model_module": "@jupyter-widgets/controls",
      "model_module_version": "1.5.0",
      "model_name": "ButtonModel",
      "state": {
       "layout": "IPY_MODEL_697ca82eb26a4e5e88ba9ad7aed1d48b",
       "style": "IPY_MODEL_5da5a7cddebd400da6a219ee0b6fe128"
      }
     },
     "70dafce3c5f84e0992f00a637ce615f6": {
      "model_module": "@jupyter-widgets/controls",
      "model_module_version": "1.5.0",
      "model_name": "LabelModel",
      "state": {
       "layout": "IPY_MODEL_76bd04534dbd4a98a6c928ec74ad5f58",
       "style": "IPY_MODEL_cf0f41ecbf0f4769a22c93497945b546",
       "value": "   objective"
      }
     },
     "70fe65e47b5341e1b5159e05f8cab70f": {
      "model_module": "@jupyter-widgets/base",
      "model_module_version": "1.2.0",
      "model_name": "LayoutModel",
      "state": {
       "height": "32px",
       "overflow": "visible",
       "width": "100%"
      }
     },
     "712cb95b0032424f93e0fb6b973140ec": {
      "model_module": "@jupyter-widgets/base",
      "model_module_version": "1.2.0",
      "model_name": "LayoutModel",
      "state": {
       "height": "32px",
       "overflow": "visible",
       "width": "100%"
      }
     },
     "713f801765a7460b998a0e5f86b54991": {
      "model_module": "@jupyter-widgets/controls",
      "model_module_version": "1.5.0",
      "model_name": "ButtonStyleModel",
      "state": {}
     },
     "7141c8ede3c1435a9d82df1a06ab255f": {
      "model_module": "@jupyter-widgets/controls",
      "model_module_version": "1.5.0",
      "model_name": "HBoxModel",
      "state": {
       "children": [
        "IPY_MODEL_316beb495e3f4268adb6b1b866f9d7c6",
        "IPY_MODEL_546b844906da4f3dbcd3dcf35be11d76",
        "IPY_MODEL_89dd7b66bae3490eb06d67fe79de86bc",
        "IPY_MODEL_c8cc095dd1de4faca884b7b49885af99"
       ],
       "layout": "IPY_MODEL_3fab7ed8813d4c1f99c97d2ecec41c21"
      }
     },
     "71b34dfe78ce4ceebcb5b94db6e5cc91": {
      "model_module": "@jupyter-widgets/base",
      "model_module_version": "1.2.0",
      "model_name": "LayoutModel",
      "state": {
       "height": "32px",
       "overflow": "visible",
       "width": "100%"
      }
     },
     "71f0b7d1f8da40738740a3218228e30b": {
      "model_module": "@jupyter-widgets/controls",
      "model_module_version": "1.5.0",
      "model_name": "ProgressStyleModel",
      "state": {
       "description_width": ""
      }
     },
     "71f5ee986e0f47f58505f2c111580c5a": {
      "model_module": "@jupyter-widgets/base",
      "model_module_version": "1.2.0",
      "model_name": "LayoutModel",
      "state": {
       "height": "32px",
       "overflow": "visible",
       "width": "100%"
      }
     },
     "72392c55b9b24252bec1ad77ce1b88c2": {
      "model_module": "@jupyter-widgets/base",
      "model_module_version": "1.2.0",
      "model_name": "LayoutModel",
      "state": {
       "display": "none"
      }
     },
     "727965256e0c4ad89f3cfc0a79afa9e8": {
      "model_module": "@jupyter-widgets/base",
      "model_module_version": "1.2.0",
      "model_name": "LayoutModel",
      "state": {
       "border": "3px solid white",
       "display": "flex",
       "flex": "1 1 0%",
       "margin": "10px",
       "min_width": "400px",
       "overflow": "visible",
       "padding": "10px",
       "width": "auto"
      }
     },
     "729243b72f504199b67e2663d5fb0dad": {
      "model_module": "@jupyter-widgets/controls",
      "model_module_version": "1.5.0",
      "model_name": "LabelModel",
      "state": {
       "layout": "IPY_MODEL_bf71c90af16f420f8eec8cefc09ffda4",
       "style": "IPY_MODEL_1c4f0bd35a0843959bebf77ceb34c693",
       "value": "     (0/1)"
      }
     },
     "72f171ab0b6f48a7883b881d201cdd63": {
      "model_module": "@jupyter-widgets/base",
      "model_module_version": "1.2.0",
      "model_name": "LayoutModel",
      "state": {
       "display": "none"
      }
     },
     "7302f103dd7b49e7867e1584f22e4dea": {
      "model_module": "@jupyter-widgets/controls",
      "model_module_version": "1.5.0",
      "model_name": "ButtonModel",
      "state": {
       "layout": "IPY_MODEL_7ed53939424b4ff68a41cfc2722ca5cc",
       "style": "IPY_MODEL_906451ddb51746e58e1ee61036be9e80"
      }
     },
     "7344d9059bab46298cd7aaf6ca2965fa": {
      "model_module": "@jupyter-widgets/controls",
      "model_module_version": "1.5.0",
      "model_name": "HBoxModel",
      "state": {
       "children": [
        "IPY_MODEL_051de92f556d44839ddbedaaba274085",
        "IPY_MODEL_523316aa410d487b9b5dbdf21d02d4e2",
        "IPY_MODEL_5356ca8ce4234ba3af9a7b49b9d701c5",
        "IPY_MODEL_7e821cb6bf7549579b380ec3c4d0eb92"
       ],
       "layout": "IPY_MODEL_72392c55b9b24252bec1ad77ce1b88c2"
      }
     },
     "736b9253a3024243b0da3e083363ed4d": {
      "model_module": "@jupyter-widgets/controls",
      "model_module_version": "1.5.0",
      "model_name": "LabelModel",
      "state": {
       "layout": "IPY_MODEL_5797222b48d34ce49f1244e45e300e41",
       "style": "IPY_MODEL_61285a063bc349108eae86470728c8c7",
       "value": "   objective"
      }
     },
     "740cd00926544c21a446e29ffb03868a": {
      "model_module": "@jupyter-widgets/controls",
      "model_module_version": "1.5.0",
      "model_name": "ButtonModel",
      "state": {
       "layout": "IPY_MODEL_bf53d88f8a2b42a3b90334e5f2460899",
       "style": "IPY_MODEL_9b427aa65bb94765a442531a555808a4"
      }
     },
     "7472eecd2f9f42c290b382bc8db04c2f": {
      "model_module": "@jupyter-widgets/controls",
      "model_module_version": "1.5.0",
      "model_name": "DescriptionStyleModel",
      "state": {
       "description_width": ""
      }
     },
     "74ae321918a0414589bf0dbebd6fbcc3": {
      "model_module": "@jupyter-widgets/controls",
      "model_module_version": "1.5.0",
      "model_name": "LabelModel",
      "state": {
       "layout": "IPY_MODEL_ae7960af0a6a42299aae03f995a113ba",
       "style": "IPY_MODEL_8da3d6cbc4ea48e580fa0b7966b2cc72",
       "value": "    Grenade kills (289/200)"
      }
     },
     "74be35d403ea475aa11d484821b9859d": {
      "model_module": "@jupyter-widgets/controls",
      "model_module_version": "1.5.0",
      "model_name": "HBoxModel",
      "state": {
       "children": [
        "IPY_MODEL_855f540b21204fe1b1b92de1a209fb06",
        "IPY_MODEL_16ad3c41ce5247c58983d8b32c6d62a3",
        "IPY_MODEL_1a2a57d1567a49f3b2a685b5ceaa5c04",
        "IPY_MODEL_85e63a7585a54f539f679ad2d1bf5609"
       ],
       "layout": "IPY_MODEL_ae47ffd8cf3b411fb91ccdeea6a32f61"
      }
     },
     "74d0ca9129a9444287c3b8fa3cfae9c1": {
      "model_module": "@jupyter-widgets/base",
      "model_module_version": "1.2.0",
      "model_name": "LayoutModel",
      "state": {
       "order": "-1",
       "overflow": "visible",
       "padding": "1px",
       "width": "0px"
      }
     },
     "74f570c23d5743bf90dfff68dceb9c69": {
      "model_module": "@jupyter-widgets/controls",
      "model_module_version": "1.5.0",
      "model_name": "ButtonModel",
      "state": {
       "description": "EDIT",
       "layout": "IPY_MODEL_87c7e792c9414243903c56e5291ae705",
       "style": "IPY_MODEL_e6db184c7a02494baea03ba80b9916c7"
      }
     },
     "74f6ed916dfb49e8a514030c41f9484a": {
      "model_module": "@jupyter-widgets/controls",
      "model_module_version": "1.5.0",
      "model_name": "ButtonStyleModel",
      "state": {}
     },
     "7524a4ea97574826bbac8bace84fc0ce": {
      "model_module": "@jupyter-widgets/controls",
      "model_module_version": "1.5.0",
      "model_name": "ProgressStyleModel",
      "state": {
       "description_width": ""
      }
     },
     "755e37bdec574eb0904216b48a6afaa0": {
      "model_module": "@jupyter-widgets/controls",
      "model_module_version": "1.5.0",
      "model_name": "HTMLModel",
      "state": {
       "layout": "IPY_MODEL_b1b2b3a3367e4e3bb7cb0f23f041dcdd",
       "style": "IPY_MODEL_fb39102c56864169a593af6f63236e7c",
       "value": "<b>Activity Options</b>"
      }
     },
     "75c0511fe0ef419981a8f3d1a4b43bd7": {
      "model_module": "@jupyter-widgets/base",
      "model_module_version": "1.2.0",
      "model_name": "LayoutModel",
      "state": {}
     },
     "763f139e11fd4e46aec87be1d2098fb0": {
      "model_module": "@jupyter-widgets/controls",
      "model_module_version": "1.5.0",
      "model_name": "DescriptionStyleModel",
      "state": {
       "description_width": ""
      }
     },
     "764be3aced7f4bba9867ba789f24ded0": {
      "model_module": "@jupyter-widgets/controls",
      "model_module_version": "1.5.0",
      "model_name": "ButtonModel",
      "state": {
       "description": "EDIT",
       "layout": "IPY_MODEL_2fef6cf3c1434c93ace3d6d01d7adf9a",
       "style": "IPY_MODEL_e8ace6ee05084507afcad62a8ab7d09b"
      }
     },
     "76a66186734d4ba2895e218ee085a5ff": {
      "model_module": "@jupyter-widgets/controls",
      "model_module_version": "1.5.0",
      "model_name": "ButtonStyleModel",
      "state": {}
     },
     "76bd04534dbd4a98a6c928ec74ad5f58": {
      "model_module": "@jupyter-widgets/base",
      "model_module_version": "1.2.0",
      "model_name": "LayoutModel",
      "state": {
       "order": "-1",
       "overflow": "visible",
       "padding": "1px",
       "width": "0px"
      }
     },
     "76c63b77f1e343f1863dae2737a6280c": {
      "model_module": "@jupyter-widgets/controls",
      "model_module_version": "1.5.0",
      "model_name": "DescriptionStyleModel",
      "state": {
       "description_width": ""
      }
     },
     "76e26e969bde48a095c7019cf3516f69": {
      "model_module": "@jupyter-widgets/base",
      "model_module_version": "1.2.0",
      "model_name": "LayoutModel",
      "state": {
       "height": "800px"
      }
     },
     "7737e5ad79a64e8e9bc76094bd536fea": {
      "model_module": "@jupyter-widgets/controls",
      "model_module_version": "1.5.0",
      "model_name": "HBoxModel",
      "state": {
       "children": [
        "IPY_MODEL_e723cbaf2ce7403bb29f7f6a0ee261da",
        "IPY_MODEL_f61f894ab39b497aaa8416fd0cb462e4",
        "IPY_MODEL_8e4d4dd9562f4b4481598c128e77e667",
        "IPY_MODEL_fd6d811a137a46c98b16f65288208f2e"
       ],
       "layout": "IPY_MODEL_91574892256349cebc3b407225fe4fbf"
      }
     },
     "775d5ea1d8e544ac8b9068eac93a0a46": {
      "model_module": "@jupyter-widgets/controls",
      "model_module_version": "1.5.0",
      "model_name": "LabelModel",
      "state": {
       "layout": "IPY_MODEL_05cd2ed72eb244bdbd229f450d35a5d8",
       "style": "IPY_MODEL_c8c68fb569684710978225bdc1cacbf6",
       "value": "   objective"
      }
     },
     "7764d9e2cbcf4cc4aa6df5915a66f9f0": {
      "model_module": "@jupyter-widgets/controls",
      "model_module_version": "1.5.0",
      "model_name": "DescriptionStyleModel",
      "state": {
       "description_width": ""
      }
     },
     "77b1db70da9b4a6290993b24a88b79e7": {
      "model_module": "@jupyter-widgets/controls",
      "model_module_version": "1.5.0",
      "model_name": "DescriptionStyleModel",
      "state": {
       "description_width": ""
      }
     },
     "77e1c5ae6f4142eb9fb3f81348a1ab4a": {
      "model_module": "@jupyter-widgets/base",
      "model_module_version": "1.2.0",
      "model_name": "LayoutModel",
      "state": {
       "overflow": "visible",
       "width": "100%"
      }
     },
     "78252a495bb247f39604f4870184f4c5": {
      "model_module": "@jupyter-widgets/controls",
      "model_module_version": "1.5.0",
      "model_name": "ButtonModel",
      "state": {
       "layout": "IPY_MODEL_f0c38eda28674c75b026346ff99b0349",
       "style": "IPY_MODEL_1ace6d2ffb104bdcb4a7a73d5a943257"
      }
     },
     "78396ce622d243c79e51e4df1c10a604": {
      "model_module": "@jupyter-widgets/controls",
      "model_module_version": "1.5.0",
      "model_name": "ProgressStyleModel",
      "state": {
       "description_width": ""
      }
     },
     "78c3d3e0427d4794a3198693244bcc6d": {
      "model_module": "@jupyter-widgets/controls",
      "model_module_version": "1.5.0",
      "model_name": "ButtonModel",
      "state": {
       "layout": "IPY_MODEL_f218031a6a9b4854b4298a6621bf7170",
       "style": "IPY_MODEL_a419b3dc984843c5998fdf32aca7196f"
      }
     },
     "78cd07a66135447480cd23e0cf0c7e93": {
      "model_module": "@jupyter-widgets/base",
      "model_module_version": "1.2.0",
      "model_name": "LayoutModel",
      "state": {
       "height": "32px",
       "order": "-2",
       "width": "32px"
      }
     },
     "78e543e682ec49f59f3a079d46fcd78b": {
      "model_module": "@jupyter-widgets/base",
      "model_module_version": "1.2.0",
      "model_name": "LayoutModel",
      "state": {
       "display": "none"
      }
     },
     "78e56545425545e6889cd7a9b82cc14f": {
      "model_module": "@jupyter-widgets/controls",
      "model_module_version": "1.5.0",
      "model_name": "IntProgressModel",
      "state": {
       "layout": "IPY_MODEL_aa8607ea9f5c4e77bb79bd6050d56c58",
       "style": "IPY_MODEL_dc19f42924ce441693cab634a60cfe42",
       "value": 30
      }
     },
     "792868e720694aacb2e9a457dbcfd37f": {
      "model_module": "@jupyter-widgets/controls",
      "model_module_version": "1.5.0",
      "model_name": "LabelModel",
      "state": {
       "layout": "IPY_MODEL_8e15968356414b8ea8fa081e470ff621",
       "style": "IPY_MODEL_938680e81af54c4fa144282fbf23e0ab",
       "value": "    Grenade kills (289/1000)"
      }
     },
     "79889c74b5334f19bd6aab6600cb489b": {
      "model_module": "@jupyter-widgets/controls",
      "model_module_version": "1.5.0",
      "model_name": "IntProgressModel",
      "state": {
       "layout": "IPY_MODEL_e6df67b512de4645b606e6c92d394535",
       "style": "IPY_MODEL_9bbb206190384348a98748159c390aac",
       "value": 30
      }
     },
     "79a5af10fcd84ad5bf68f67b02b9d07f": {
      "model_module": "@jupyter-widgets/base",
      "model_module_version": "1.2.0",
      "model_name": "LayoutModel",
      "state": {
       "height": "32px",
       "order": "-2",
       "width": "32px"
      }
     },
     "79ac8a169fe04f1883463792bc56a17a": {
      "model_module": "@jupyter-widgets/base",
      "model_module_version": "1.2.0",
      "model_name": "LayoutModel",
      "state": {
       "width": "60px"
      }
     },
     "79cf4c4520f7473eab7aa9800df7c460": {
      "model_module": "@jupyter-widgets/controls",
      "model_module_version": "1.5.0",
      "model_name": "DescriptionStyleModel",
      "state": {
       "description_width": ""
      }
     },
     "79ed5e9b2f434f6b87385284179a7a57": {
      "model_module": "@jupyter-widgets/controls",
      "model_module_version": "1.5.0",
      "model_name": "LabelModel",
      "state": {
       "layout": "IPY_MODEL_a2c6fe39606d4d0393675961741a3184",
       "style": "IPY_MODEL_3171a480785d4305bac398c1a8991f19",
       "value": "   objective"
      }
     },
     "7a14544b2f2e4e1ba27a4f420b83f16c": {
      "model_module": "@jupyter-widgets/base",
      "model_module_version": "1.2.0",
      "model_name": "LayoutModel",
      "state": {
       "height": "32px",
       "order": "-2",
       "width": "32px"
      }
     },
     "7a406b6129af4fd091e649bedc70889e": {
      "model_module": "@jupyter-widgets/controls",
      "model_module_version": "1.5.0",
      "model_name": "ProgressStyleModel",
      "state": {
       "description_width": ""
      }
     },
     "7a55e5dcc1284cc6aac675c66f8172b9": {
      "model_module": "@jupyter-widgets/controls",
      "model_module_version": "1.5.0",
      "model_name": "ButtonStyleModel",
      "state": {}
     },
     "7a7f4c81ecb54980ad5dfa481aef67c9": {
      "model_module": "@jupyter-widgets/controls",
      "model_module_version": "1.5.0",
      "model_name": "DescriptionStyleModel",
      "state": {
       "description_width": ""
      }
     },
     "7ad778d403a6427089a74ad44b3b1994": {
      "model_module": "@jupyter-widgets/controls",
      "model_module_version": "1.5.0",
      "model_name": "HTMLModel",
      "state": {
       "layout": "IPY_MODEL_2d6ae223958646c5907d9cc560b35cb2",
       "style": "IPY_MODEL_05bb0eb398e0415996bcf84281f75e78",
       "value": "<font size=\"1\">Triumphs/Lore/Dusk and Dawn/Revelation</font size=>"
      }
     },
     "7ae7f60bf1e84f49a191d3c198447804": {
      "model_module": "@jupyter-widgets/controls",
      "model_module_version": "1.5.0",
      "model_name": "HBoxModel",
      "state": {
       "children": [
        "IPY_MODEL_3bcf485374524eaab7e780a0ce7a1662",
        "IPY_MODEL_c23b6ea3307b471586a65490662a5d6f",
        "IPY_MODEL_e25430ecf1e545a6a496d5863c6c83d1",
        "IPY_MODEL_0eb58ac6095b49069017693c1736987c"
       ],
       "layout": "IPY_MODEL_bb6ea0bd1a7c4facb432aff64f1ee2f6"
      }
     },
     "7b2dfd7961974b1a8abc5d641e65bf97": {
      "model_module": "@jupyter-widgets/controls",
      "model_module_version": "1.5.0",
      "model_name": "HBoxModel",
      "state": {
       "children": [
        "IPY_MODEL_bc84bcfb4f6b43d1b887d4c08ae32ce6",
        "IPY_MODEL_86cedfa8115f492cac8e98ab296c6e05",
        "IPY_MODEL_d0d61d03a98e4ba697f5dcc66d855ea7",
        "IPY_MODEL_764be3aced7f4bba9867ba789f24ded0"
       ],
       "layout": "IPY_MODEL_c2ad6acd48d1489dae2684e5ff9546cc"
      }
     },
     "7b34ce5318a04fb795b04b029a123be7": {
      "model_module": "@jupyter-widgets/base",
      "model_module_version": "1.2.0",
      "model_name": "LayoutModel",
      "state": {
       "width": "60px"
      }
     },
     "7b3e27af72f84f45971d30d32b146e2b": {
      "model_module": "@jupyter-widgets/controls",
      "model_module_version": "1.5.0",
      "model_name": "ButtonModel",
      "state": {
       "layout": "IPY_MODEL_b4e44bedcae645d68778588ad0741919",
       "style": "IPY_MODEL_51cb8c2c42114705a340c83f3d44a41f"
      }
     },
     "7b6e71e869ae445589890c0714904d3d": {
      "model_module": "@jupyter-widgets/controls",
      "model_module_version": "1.5.0",
      "model_name": "ButtonModel",
      "state": {
       "button_style": "danger",
       "disabled": true,
       "layout": "IPY_MODEL_24d7484f7c954f0092d174ae7623b24c",
       "style": "IPY_MODEL_d26e79a83dfa4d8aa108ed87b867b504"
      }
     },
     "7ba86c8d223c4362890232e727da8997": {
      "model_module": "@jupyter-widgets/controls",
      "model_module_version": "1.5.0",
      "model_name": "ProgressStyleModel",
      "state": {
       "description_width": ""
      }
     },
     "7bb48b5aa5d64c81be72ede90b2d7a6d": {
      "model_module": "@jupyter-widgets/base",
      "model_module_version": "1.2.0",
      "model_name": "LayoutModel",
      "state": {}
     },
     "7bda42222dbe4a82b0952830cd00fd11": {
      "model_module": "@jupyter-widgets/controls",
      "model_module_version": "1.5.0",
      "model_name": "IntProgressModel",
      "state": {
       "layout": "IPY_MODEL_0ef4a5d32c4148cca9f9b80b98cb3755",
       "style": "IPY_MODEL_bda08994ba2a4a6fa21e16d79f137944",
       "value": 30
      }
     },
     "7c365337d972453fa79854bc8b54fb91": {
      "model_module": "@jupyter-widgets/controls",
      "model_module_version": "1.5.0",
      "model_name": "DescriptionStyleModel",
      "state": {
       "description_width": ""
      }
     },
     "7c5473204adc4234bccc0c89ae2dec18": {
      "model_module": "@jupyter-widgets/controls",
      "model_module_version": "1.5.0",
      "model_name": "ButtonModel",
      "state": {
       "description": "EDIT",
       "layout": "IPY_MODEL_bebc11da165a4028b9ef8f5955c6d95e",
       "style": "IPY_MODEL_96d3bfc99147400d826264a80a3acad5"
      }
     },
     "7c745eb0fcd5442182433f08078aa5be": {
      "model_module": "@jupyter-widgets/controls",
      "model_module_version": "1.5.0",
      "model_name": "DescriptionStyleModel",
      "state": {
       "description_width": ""
      }
     },
     "7c9a45a00648424d974bb4c0ac6a4bda": {
      "model_module": "@jupyter-widgets/controls",
      "model_module_version": "1.5.0",
      "model_name": "LabelModel",
      "state": {
       "layout": "IPY_MODEL_576e947c3ede4edc8551ce47b68c80ec",
       "style": "IPY_MODEL_f3ac6e87e6f7449fb671572ec4acaf9f",
       "value": "   objective"
      }
     },
     "7caaed08249e4addafa41d348a447a36": {
      "model_module": "@jupyter-widgets/base",
      "model_module_version": "1.2.0",
      "model_name": "LayoutModel",
      "state": {
       "order": "-1",
       "overflow": "visible",
       "padding": "1px",
       "width": "0px"
      }
     },
     "7cac87c67d8b41f48f76a484f345bc06": {
      "model_module": "@jupyter-widgets/controls",
      "model_module_version": "1.5.0",
      "model_name": "ButtonModel",
      "state": {
       "description": "EDIT",
       "layout": "IPY_MODEL_3cec22596869471fb62e2de6075ab36a",
       "style": "IPY_MODEL_6fd9b600dd65416287aab52342035588"
      }
     },
     "7d1463085f1b4abba89f16481e6a2520": {
      "model_module": "@jupyter-widgets/controls",
      "model_module_version": "1.5.0",
      "model_name": "IntProgressModel",
      "state": {
       "layout": "IPY_MODEL_1c9ae4c41208465b8462975bb4fe847f",
       "style": "IPY_MODEL_d181ef94b8404a0c88a4798772bd224a",
       "value": 30
      }
     },
     "7d541b86e1344528bbec6259ddaebdb4": {
      "model_module": "@jupyter-widgets/controls",
      "model_module_version": "1.5.0",
      "model_name": "ButtonStyleModel",
      "state": {}
     },
     "7d9a77136b294bce8cd69e1ba857ed36": {
      "model_module": "@jupyter-widgets/controls",
      "model_module_version": "1.5.0",
      "model_name": "DescriptionStyleModel",
      "state": {
       "description_width": ""
      }
     },
     "7d9ebb165ed04c3dade5951ac5b0cb01": {
      "model_module": "@jupyter-widgets/controls",
      "model_module_version": "1.5.0",
      "model_name": "ButtonStyleModel",
      "state": {}
     },
     "7dab404ad3d54c6da221c3b13a52d0fc": {
      "model_module": "@jupyter-widgets/base",
      "model_module_version": "1.2.0",
      "model_name": "LayoutModel",
      "state": {
       "align_items": "stretch",
       "display": "flex",
       "flex_flow": "row wrap"
      }
     },
     "7dc221a92a6d4362af16195d3dd500b3": {
      "model_module": "@jupyter-widgets/controls",
      "model_module_version": "1.5.0",
      "model_name": "ProgressStyleModel",
      "state": {
       "description_width": ""
      }
     },
     "7e4db4fd42004801acddf45ec3741db4": {
      "model_module": "@jupyter-widgets/controls",
      "model_module_version": "1.5.0",
      "model_name": "ButtonModel",
      "state": {
       "layout": "IPY_MODEL_813232af09af48f29e4f87e3cce95601",
       "style": "IPY_MODEL_9c5b0c44a9d14b27bc45b9d2b753be0b"
      }
     },
     "7e64a9420a264c2fbf2c31997aac3af6": {
      "model_module": "@jupyter-widgets/controls",
      "model_module_version": "1.5.0",
      "model_name": "VBoxModel",
      "state": {
       "children": [
        "IPY_MODEL_617c5be511634c98804958df3a0d0215",
        "IPY_MODEL_27e0b24995a54dc5819e101d2a893b13",
        "IPY_MODEL_88f9355ff72840abb7717816a7390269",
        "IPY_MODEL_edeeee48f53349f69576fb03bf5974d2",
        "IPY_MODEL_4a39c467848d4f448ac3ca0b9f455ebe",
        "IPY_MODEL_a4d5348546d946ca92633934842dfb4f",
        "IPY_MODEL_a2aa70928e4645ad8cb52a719db0d7c9",
        "IPY_MODEL_ea91f8737082409589eb071d5b5c4ea8",
        "IPY_MODEL_e5c672280bcc49b1a7bb609cd7f9d553",
        "IPY_MODEL_3395c3e386fb4dec943d28e097dd9a01",
        "IPY_MODEL_84180a314bd343fba36b2f2b0c9b4f62"
       ],
       "layout": "IPY_MODEL_6025e936b0994952871010a36958135a"
      }
     },
     "7e821cb6bf7549579b380ec3c4d0eb92": {
      "model_module": "@jupyter-widgets/controls",
      "model_module_version": "1.5.0",
      "model_name": "ButtonModel",
      "state": {
       "description": "EDIT",
       "layout": "IPY_MODEL_c705c3658a3d4da5a737129ded55df53",
       "style": "IPY_MODEL_e933672f98b1456aa2393ec2d19921d7"
      }
     },
     "7ed53939424b4ff68a41cfc2722ca5cc": {
      "model_module": "@jupyter-widgets/base",
      "model_module_version": "1.2.0",
      "model_name": "LayoutModel",
      "state": {
       "height": "32px",
       "order": "-2",
       "width": "32px"
      }
     },
     "7ee0c7ac348f44909f0de3242aa2c4d9": {
      "model_module": "@jupyter-widgets/controls",
      "model_module_version": "1.5.0",
      "model_name": "LabelModel",
      "state": {
       "layout": "IPY_MODEL_23f99345c37a4d85b676ff28d469ddb7",
       "style": "IPY_MODEL_7764d9e2cbcf4cc4aa6df5915a66f9f0",
       "value": "   objective"
      }
     },
     "7ee802b47b0c48c99f5043f2e8ac2acf": {
      "model_module": "@jupyter-widgets/controls",
      "model_module_version": "1.5.0",
      "model_name": "ButtonModel",
      "state": {
       "description": "Refresh",
       "layout": "IPY_MODEL_656d6a534c644005afb358ce2e50d671",
       "style": "IPY_MODEL_4f9215217c7d422e9eccd964640fd750"
      }
     },
     "7eeb5f4173614f4fa510c5d22db66c6e": {
      "model_module": "@jupyter-widgets/controls",
      "model_module_version": "1.5.0",
      "model_name": "DescriptionStyleModel",
      "state": {
       "description_width": ""
      }
     },
     "7f010c760f1a4a279a8e0ee144ebb1ff": {
      "model_module": "@jupyter-widgets/controls",
      "model_module_version": "1.5.0",
      "model_name": "ButtonStyleModel",
      "state": {}
     },
     "7f1b6c04b5d54a80a0a84d8e79049003": {
      "model_module": "@jupyter-widgets/controls",
      "model_module_version": "1.5.0",
      "model_name": "ButtonStyleModel",
      "state": {}
     },
     "7f238bc6e85341c0852bdaef6d11a3a6": {
      "model_module": "@jupyter-widgets/base",
      "model_module_version": "1.2.0",
      "model_name": "LayoutModel",
      "state": {
       "order": "-1",
       "overflow": "visible",
       "padding": "1px",
       "width": "0px"
      }
     },
     "7f2bc6516daf49e998d48716471cb73f": {
      "model_module": "@jupyter-widgets/controls",
      "model_module_version": "1.5.0",
      "model_name": "VBoxModel",
      "state": {
       "children": [
        "IPY_MODEL_7ad778d403a6427089a74ad44b3b1994",
        "IPY_MODEL_49cab1990e0b48bc94b09cc5698886fb",
        "IPY_MODEL_bc3c87ab0fc0459eb304d1d51013c750",
        "IPY_MODEL_99a95b47b3ab4e6c8bf0d7f8fc233302"
       ],
       "layout": "IPY_MODEL_ae6be18ad64c4c279cfd25f9cdd583cf"
      }
     },
     "7f68e29a56b94a3fac87a9b2549b8058": {
      "model_module": "@jupyter-widgets/controls",
      "model_module_version": "1.5.0",
      "model_name": "HBoxModel",
      "state": {
       "children": [
        "IPY_MODEL_d570c4c211b14d1ab39a9b2ccd7fcf5c",
        "IPY_MODEL_60c919e0fed940dbab6874a9585f1e16",
        "IPY_MODEL_2e2be4004b4149cc80e090028b1cdfeb",
        "IPY_MODEL_a818e0b599e846d58ac0bb4d91df677a"
       ],
       "layout": "IPY_MODEL_81aeec1a573f41109563d799d1784fad"
      }
     },
     "7f915d5e2ac54cff9d9671511be90ac6": {
      "model_module": "@jupyter-widgets/controls",
      "model_module_version": "1.5.0",
      "model_name": "ButtonStyleModel",
      "state": {}
     },
     "7f96f3eff7b5451f827378602e31fde8": {
      "model_module": "@jupyter-widgets/controls",
      "model_module_version": "1.5.0",
      "model_name": "IntProgressModel",
      "state": {
       "layout": "IPY_MODEL_f9c2e6ae208b43fc95b4372c97d443be",
       "style": "IPY_MODEL_60e8b0024a0347e6955117e8dcb5c45b",
       "value": 30
      }
     },
     "7fac4ab6b7a04594b1f257fd92501e68": {
      "model_module": "@jupyter-widgets/controls",
      "model_module_version": "1.5.0",
      "model_name": "LabelModel",
      "state": {
       "layout": "IPY_MODEL_d26de9926aed4cfcb4387a788e22389f",
       "style": "IPY_MODEL_eb4ab95ae98e48f7a6bb95b0647115c5",
       "value": "   objective"
      }
     },
     "7ff33a756c99412cafd5e635f5c2d531": {
      "model_module": "@jupyter-widgets/controls",
      "model_module_version": "1.5.0",
      "model_name": "LabelModel",
      "state": {
       "layout": "IPY_MODEL_5259c0de0c7e4b5fb873b2d573af93ff",
       "style": "IPY_MODEL_9366b457872c4c91bea8a3b091ae8f7c",
       "value": "   objective"
      }
     },
     "8043199744c74231ab44c9c5958c431f": {
      "model_module": "@jupyter-widgets/controls",
      "model_module_version": "1.5.0",
      "model_name": "HTMLModel",
      "state": {
       "layout": "IPY_MODEL_e9d9e314a1ac4d96b2496e579ca27ff8",
       "style": "IPY_MODEL_6b20e9fe69d042729dc42afa62a08e89",
       "value": "<b>Class Options</b>"
      }
     },
     "80459b1500474fe8931aac86fd088017": {
      "model_module": "@jupyter-widgets/controls",
      "model_module_version": "1.5.0",
      "model_name": "ButtonStyleModel",
      "state": {}
     },
     "805036298c6d4fcab2245c72d0ee70e2": {
      "model_module": "@jupyter-widgets/base",
      "model_module_version": "1.2.0",
      "model_name": "LayoutModel",
      "state": {
       "height": "32px",
       "order": "-2",
       "width": "32px"
      }
     },
     "8058f86a218c4cf882403996050575a5": {
      "model_module": "@jupyter-widgets/controls",
      "model_module_version": "1.5.0",
      "model_name": "VBoxModel",
      "state": {
       "children": [
        "IPY_MODEL_18f6732ac5184589bccc4b6be5b32239",
        "IPY_MODEL_14b21657b5b7444a85f5fb3c9a49c34b",
        "IPY_MODEL_126b3e09f482406e92597e85058c1180",
        "IPY_MODEL_e0d8ab150c5340aa8049b8b6bc3d380e"
       ],
       "layout": "IPY_MODEL_4369f19155f54c2b93e356d48c8a39ba"
      }
     },
     "80d5cc6d67b74437a628caca1f340b4d": {
      "model_module": "@jupyter-widgets/base",
      "model_module_version": "1.2.0",
      "model_name": "LayoutModel",
      "state": {
       "width": "60px"
      }
     },
     "80da39f391744c7495ae7662ad8d67f1": {
      "model_module": "@jupyter-widgets/controls",
      "model_module_version": "1.5.0",
      "model_name": "ButtonStyleModel",
      "state": {}
     },
     "810717e970954222b4da6bfb69efe71d": {
      "model_module": "@jupyter-widgets/controls",
      "model_module_version": "1.5.0",
      "model_name": "ButtonStyleModel",
      "state": {}
     },
     "8117a281c1624f6da9ebabe468028d94": {
      "model_module": "@jupyter-widgets/controls",
      "model_module_version": "1.5.0",
      "model_name": "HBoxModel",
      "state": {
       "children": [
        "IPY_MODEL_427eb5f99dbf4ad19f73f1809d042064",
        "IPY_MODEL_c8b118bdb39a4b888cca8f0cead0a028",
        "IPY_MODEL_be4e3c044b1940b6a54e8befa7efbd44",
        "IPY_MODEL_db5c017b08fc4780b291a254dbd15d38"
       ],
       "layout": "IPY_MODEL_90c5569e7d2e4298972e9dfe643e9ac6"
      }
     },
     "813232af09af48f29e4f87e3cce95601": {
      "model_module": "@jupyter-widgets/base",
      "model_module_version": "1.2.0",
      "model_name": "LayoutModel",
      "state": {
       "height": "32px",
       "order": "-2",
       "width": "32px"
      }
     },
     "813c46d7e05944358fe163c1e8fce150": {
      "model_module": "@jupyter-widgets/controls",
      "model_module_version": "1.5.0",
      "model_name": "HTMLModel",
      "state": {
       "layout": "IPY_MODEL_611a66b308624b178098b9e36a38bf49",
       "style": "IPY_MODEL_8a28d079fe2540f5b1656cc1c3849973",
       "value": "<i>Complete all Invitations from the Nine.</i>"
      }
     },
     "8160fed2757643058ba5edd212271942": {
      "model_module": "@jupyter-widgets/controls",
      "model_module_version": "1.5.0",
      "model_name": "ButtonModel",
      "state": {
       "description": "EDIT",
       "layout": "IPY_MODEL_2728f723643548428a2f42d818ff561a",
       "style": "IPY_MODEL_bd66294b5b6c421f81f39991965521db"
      }
     },
     "8175616311054ae98da91402033f1152": {
      "model_module": "@jupyter-widgets/base",
      "model_module_version": "1.2.0",
      "model_name": "LayoutModel",
      "state": {
       "display": "none"
      }
     },
     "81a73f8b0e834dcfbb2d13e96cd122c9": {
      "model_module": "@jupyter-widgets/controls",
      "model_module_version": "1.5.0",
      "model_name": "HTMLModel",
      "state": {
       "layout": "IPY_MODEL_b41753f6a22b413ab7ca23f70b4633ba",
       "style": "IPY_MODEL_0862d8c061e44d0eb6feb0c1fdd90da5",
       "value": "<font size=\"1\">Triumphs/Gambit/Medals/Invading</font size=>"
      }
     },
     "81ab35516922460c8059f742b222f699": {
      "model_module": "@jupyter-widgets/controls",
      "model_module_version": "1.5.0",
      "model_name": "HBoxModel",
      "state": {
       "children": [
        "IPY_MODEL_3616b8da9d1d4437879997fbfc466342",
        "IPY_MODEL_19dcdaf6ec5b4e74842c544cda71dd40",
        "IPY_MODEL_1dea76c6909949b79899f0409986ca34",
        "IPY_MODEL_9cec3a5531be4400bfb2a71c461c2a3c"
       ],
       "layout": "IPY_MODEL_b3750c5dcd0b4308a40574a4f8788d60"
      }
     },
     "81aeec1a573f41109563d799d1784fad": {
      "model_module": "@jupyter-widgets/base",
      "model_module_version": "1.2.0",
      "model_name": "LayoutModel",
      "state": {
       "display": "none"
      }
     },
     "82079115757543859abef9defa4600c4": {
      "model_module": "@jupyter-widgets/controls",
      "model_module_version": "1.5.0",
      "model_name": "IntProgressModel",
      "state": {
       "layout": "IPY_MODEL_d063a00244f544128ddce98851bc7cf5",
       "style": "IPY_MODEL_8b6e0d25c9d24ae9b21f4c5555526388",
       "value": 30
      }
     },
     "82521f00ed4f496e9814b4d91bf7008e": {
      "model_module": "@jupyter-widgets/base",
      "model_module_version": "1.2.0",
      "model_name": "LayoutModel",
      "state": {
       "display": "flex"
      }
     },
     "825de49b85d34fdba221108550366bb9": {
      "model_module": "@jupyter-widgets/controls",
      "model_module_version": "1.5.0",
      "model_name": "LabelModel",
      "state": {
       "layout": "IPY_MODEL_06041921aa124627a86b83f27939f82b",
       "style": "IPY_MODEL_62389bd1230e4ad1a644043f73c31d20",
       "value": "   objective"
      }
     },
     "828a48b916714bc5ae4536792a6a4092": {
      "model_module": "@jupyter-widgets/controls",
      "model_module_version": "1.5.0",
      "model_name": "ButtonStyleModel",
      "state": {}
     },
     "831696a3f9a44aa29a9a993113abf666": {
      "model_module": "@jupyter-widgets/controls",
      "model_module_version": "1.5.0",
      "model_name": "DescriptionStyleModel",
      "state": {
       "description_width": ""
      }
     },
     "8360c5d7495b447789f30b06b62c05a3": {
      "model_module": "@jupyter-widgets/base",
      "model_module_version": "1.2.0",
      "model_name": "LayoutModel",
      "state": {}
     },
     "838cd3ca1cbc48ca9628d692191c4946": {
      "model_module": "@jupyter-widgets/base",
      "model_module_version": "1.2.0",
      "model_name": "LayoutModel",
      "state": {
       "height": "32px",
       "order": "-2",
       "width": "32px"
      }
     },
     "83a29e9296b646cc9b0d222cd3e7a7b6": {
      "model_module": "@jupyter-widgets/controls",
      "model_module_version": "1.5.0",
      "model_name": "ButtonStyleModel",
      "state": {}
     },
     "84180a314bd343fba36b2f2b0c9b4f62": {
      "model_module": "@jupyter-widgets/controls",
      "model_module_version": "1.5.0",
      "model_name": "DropdownModel",
      "state": {
       "_options_labels": [
        "Any"
       ],
       "index": 0,
       "layout": "IPY_MODEL_155900e6730f4e259ae9cbcfdc979ed4",
       "style": "IPY_MODEL_162b2bc570d4464da229b8f54a3a6b9a"
      }
     },
     "8425844a26c54885947e1558e84a7630": {
      "model_module": "@jupyter-widgets/base",
      "model_module_version": "1.2.0",
      "model_name": "LayoutModel",
      "state": {
       "height": "32px",
       "overflow": "visible",
       "width": "100%"
      }
     },
     "8469918b05054a1ab419e978836020cd": {
      "model_module": "@jupyter-widgets/controls",
      "model_module_version": "1.5.0",
      "model_name": "ButtonStyleModel",
      "state": {}
     },
     "84ddb4eacbf3498499473df5ac703e9d": {
      "model_module": "@jupyter-widgets/base",
      "model_module_version": "1.2.0",
      "model_name": "LayoutModel",
      "state": {
       "order": "-1",
       "overflow": "visible",
       "padding": "1px",
       "width": "0px"
      }
     },
     "84e1d0db7ae74214855b0eb57a0bdf8c": {
      "model_module": "@jupyter-widgets/controls",
      "model_module_version": "1.5.0",
      "model_name": "ProgressStyleModel",
      "state": {
       "description_width": ""
      }
     },
     "850a2541b9044fcab128a6d8d2800ede": {
      "model_module": "@jupyter-widgets/controls",
      "model_module_version": "1.5.0",
      "model_name": "VBoxModel",
      "state": {
       "children": [
        "IPY_MODEL_c487fde1754944278a33d1d01b703d16",
        "IPY_MODEL_37d802a330044f8ea1bfee1da526645b",
        "IPY_MODEL_1fdcd6aae39240eea4740f4d94724ee8",
        "IPY_MODEL_ce0630622c6b4b4ab46985449b1da254"
       ],
       "layout": "IPY_MODEL_a012ebaa4e3c4cba94290c153e9158e1"
      }
     },
     "8535f654b43b4aa4a8a48d91bad14791": {
      "model_module": "@jupyter-widgets/base",
      "model_module_version": "1.2.0",
      "model_name": "LayoutModel",
      "state": {
       "height": "32px",
       "order": "-2",
       "width": "32px"
      }
     },
     "853e63a2e58d4990959315f15e39671f": {
      "model_module": "@jupyter-widgets/controls",
      "model_module_version": "1.5.0",
      "model_name": "DescriptionStyleModel",
      "state": {
       "description_width": ""
      }
     },
     "855f540b21204fe1b1b92de1a209fb06": {
      "model_module": "@jupyter-widgets/controls",
      "model_module_version": "1.5.0",
      "model_name": "ButtonModel",
      "state": {
       "layout": "IPY_MODEL_2790a9afd9d9489787b2619512faece3",
       "style": "IPY_MODEL_323b34436dfc4da2bc736ec2bebccb61"
      }
     },
     "857035a0ff52497a87c6edfc52e2d8c6": {
      "model_module": "@jupyter-widgets/base",
      "model_module_version": "1.2.0",
      "model_name": "LayoutModel",
      "state": {
       "height": "32px",
       "order": "-2",
       "width": "32px"
      }
     },
     "85791271a8ce4b64a0bbc5001c28221b": {
      "model_module": "@jupyter-widgets/controls",
      "model_module_version": "1.5.0",
      "model_name": "LabelModel",
      "state": {
       "layout": "IPY_MODEL_b6103abbbb2b441fbfd90eec8133fdfc",
       "style": "IPY_MODEL_f7f3f21ae1a848bb95dcb0c553983a3a",
       "value": "   objective"
      }
     },
     "85794bbd10044bae9d594e0ab0e38a43": {
      "model_module": "@jupyter-widgets/base",
      "model_module_version": "1.2.0",
      "model_name": "LayoutModel",
      "state": {
       "overflow": "visible",
       "width": "100%"
      }
     },
     "858134500c1a438c82c8af21a837828c": {
      "model_module": "@jupyter-widgets/base",
      "model_module_version": "1.2.0",
      "model_name": "LayoutModel",
      "state": {
       "height": "32px",
       "order": "-2",
       "width": "32px"
      }
     },
     "85b8f21e0f6b4842a3be4372db00fde5": {
      "model_module": "@jupyter-widgets/controls",
      "model_module_version": "1.5.0",
      "model_name": "ButtonStyleModel",
      "state": {}
     },
     "85c549f6907045d1870c0c1f3f6b6a92": {
      "model_module": "@jupyter-widgets/base",
      "model_module_version": "1.2.0",
      "model_name": "LayoutModel",
      "state": {
       "width": "60px"
      }
     },
     "85e63a7585a54f539f679ad2d1bf5609": {
      "model_module": "@jupyter-widgets/controls",
      "model_module_version": "1.5.0",
      "model_name": "ButtonModel",
      "state": {
       "description": "EDIT",
       "layout": "IPY_MODEL_cc92f92f10a44ef0a65e26daf8a1037d",
       "style": "IPY_MODEL_46e1dad3f19242f1b0b705a8aa38bfbe"
      }
     },
     "85eb151ee9c0406faccdf566c50c4bf3": {
      "model_module": "@jupyter-widgets/controls",
      "model_module_version": "1.5.0",
      "model_name": "ButtonModel",
      "state": {
       "description": "EDIT",
       "layout": "IPY_MODEL_b7ab9e9ac72a4730946d2a1644db4f72",
       "style": "IPY_MODEL_dc05b555e72c44e2a6d9692cee117615"
      }
     },
     "8613a2b5a95041018af4e502920049fc": {
      "model_module": "@jupyter-widgets/controls",
      "model_module_version": "1.5.0",
      "model_name": "HTMLModel",
      "state": {
       "layout": "IPY_MODEL_2d910582355b434fb96d413669dc4c06",
       "style": "IPY_MODEL_21051288e3074773b7b002712e02739f",
       "value": "<font size=\"1\">Triumphs/Lore/Dusk and Dawn/Revelation</font size=>"
      }
     },
     "8620af0ed8ea4bbcb87ae6f62e53d2bf": {
      "model_module": "@jupyter-widgets/controls",
      "model_module_version": "1.5.0",
      "model_name": "HTMLModel",
      "state": {
       "layout": "IPY_MODEL_fa65a1c653b74d9ab1917cd260b81d08",
       "style": "IPY_MODEL_3b35116441b649b8b326d25bf34ddeb5",
       "value": "<i>During the Revelry 2019, defeat bosses in the Verdant Forest while wearing at least four pieces of the Inaugural Revelry armor set.</i>"
      }
     },
     "866eb7018f51414cae45740f93a148df": {
      "model_module": "@jupyter-widgets/base",
      "model_module_version": "1.2.0",
      "model_name": "LayoutModel",
      "state": {
       "width": "60px"
      }
     },
     "86880a6bf1bc494a8f9e6fe1299979f3": {
      "model_module": "@jupyter-widgets/controls",
      "model_module_version": "1.5.0",
      "model_name": "DescriptionStyleModel",
      "state": {
       "description_width": ""
      }
     },
     "86a9c940967141cda6e07fe9c522d10d": {
      "model_module": "@jupyter-widgets/controls",
      "model_module_version": "1.5.0",
      "model_name": "HBoxModel",
      "state": {
       "children": [
        "IPY_MODEL_6121a9ebc6e54851b7e0d160a6e9fc96",
        "IPY_MODEL_6e7e06f5cc794dc097c519b01566aeda",
        "IPY_MODEL_fed9268f76da453f84a86e9cb633a3f6",
        "IPY_MODEL_85eb151ee9c0406faccdf566c50c4bf3"
       ],
       "layout": "IPY_MODEL_87dd448b53f140139a23efff2b48b730"
      }
     },
     "86ae06e9afcc4334abd869a3573cdbdb": {
      "model_module": "@jupyter-widgets/base",
      "model_module_version": "1.2.0",
      "model_name": "LayoutModel",
      "state": {
       "overflow": "visible",
       "width": "100%"
      }
     },
     "86b6e6d54f6545a4b88e349563ffdd56": {
      "model_module": "@jupyter-widgets/base",
      "model_module_version": "1.2.0",
      "model_name": "LayoutModel",
      "state": {
       "width": "60px"
      }
     },
     "86cedfa8115f492cac8e98ab296c6e05": {
      "model_module": "@jupyter-widgets/controls",
      "model_module_version": "1.5.0",
      "model_name": "IntProgressModel",
      "state": {
       "layout": "IPY_MODEL_601f78671145493eb6d8dd75d1c6780b",
       "style": "IPY_MODEL_ae33782b070847ed9fbed86a1ee883a8",
       "value": 30
      }
     },
     "86dd2a370a7d47bf8a32a44636d2508e": {
      "model_module": "@jupyter-widgets/controls",
      "model_module_version": "1.5.0",
      "model_name": "ProgressStyleModel",
      "state": {
       "description_width": ""
      }
     },
     "86df91e8ffe84002b1442dd3a87bf6db": {
      "model_module": "@jupyter-widgets/base",
      "model_module_version": "1.2.0",
      "model_name": "LayoutModel",
      "state": {}
     },
     "86f5ea0058414b13905c8b1d8937dbc2": {
      "model_module": "@jupyter-widgets/controls",
      "model_module_version": "1.5.0",
      "model_name": "HBoxModel",
      "state": {
       "children": [
        "IPY_MODEL_d61ad40495b74eec8692a6d9020caa63",
        "IPY_MODEL_68c69b74fe1b4fe09742f5d8ccc9e2a7",
        "IPY_MODEL_0505a66a20134b54b3e6819c73bdab43",
        "IPY_MODEL_2eb75e93a1b341e9adfc0e20f9de05ec"
       ],
       "layout": "IPY_MODEL_f4afdc99e4774b71ba3f325a43c69e51"
      }
     },
     "87455a7e251f4db3b2963b609dcdec04": {
      "model_module": "@jupyter-widgets/controls",
      "model_module_version": "1.5.0",
      "model_name": "ButtonStyleModel",
      "state": {}
     },
     "8766ae29900d469cb96a991793bc9ca9": {
      "model_module": "@jupyter-widgets/base",
      "model_module_version": "1.2.0",
      "model_name": "LayoutModel",
      "state": {
       "height": "32px",
       "overflow": "visible",
       "width": "100%"
      }
     },
     "8783eae090e441ab905c8dc9b675778c": {
      "model_module": "@jupyter-widgets/controls",
      "model_module_version": "1.5.0",
      "model_name": "HBoxModel",
      "state": {
       "children": [
        "IPY_MODEL_f61cf1645e064abbb0537dd3ad708f32",
        "IPY_MODEL_f790143e189d4b728991458d53ef2566",
        "IPY_MODEL_b8c2c243ac8842e3ae84eb850c226d8c",
        "IPY_MODEL_aaf76eee0f6a4b15b605c6ad378295df"
       ],
       "layout": "IPY_MODEL_67a1ef2f930d428c88ed5531c20a42e1"
      }
     },
     "8785839444d441369a8da36bb3bc895c": {
      "model_module": "@jupyter-widgets/base",
      "model_module_version": "1.2.0",
      "model_name": "LayoutModel",
      "state": {
       "display": "flex",
       "flex_flow": "row wrap"
      }
     },
     "87c7e792c9414243903c56e5291ae705": {
      "model_module": "@jupyter-widgets/base",
      "model_module_version": "1.2.0",
      "model_name": "LayoutModel",
      "state": {
       "width": "60px"
      }
     },
     "87dd448b53f140139a23efff2b48b730": {
      "model_module": "@jupyter-widgets/base",
      "model_module_version": "1.2.0",
      "model_name": "LayoutModel",
      "state": {
       "display": "none"
      }
     },
     "87e315bb7c374bd8b5d728515f5ad458": {
      "model_module": "@jupyter-widgets/controls",
      "model_module_version": "1.5.0",
      "model_name": "HBoxModel",
      "state": {
       "children": [
        "IPY_MODEL_a6cbe1e31a83447190f5dd8c344006ec",
        "IPY_MODEL_44ab2cad56aa473eaa8ff3fb021f7095",
        "IPY_MODEL_d86ed210408f4606980c2b41243813a7",
        "IPY_MODEL_9b54db4d40894b08a976ddc45b95214e"
       ],
       "layout": "IPY_MODEL_43c5aed6e70b4da3bedd7693df3b2558"
      }
     },
     "88171e316faa443ea5733316bd5fafb3": {
      "model_module": "@jupyter-widgets/controls",
      "model_module_version": "1.5.0",
      "model_name": "LabelModel",
      "state": {
       "layout": "IPY_MODEL_0a192aaa8a07421ca6fdd238ebfb5f0b",
       "style": "IPY_MODEL_e5f0291d0adf4e9dbbba266870b1bd68",
       "value": "   objective"
      }
     },
     "8856deaf21334574a3b3ce5e542edb5b": {
      "model_module": "@jupyter-widgets/controls",
      "model_module_version": "1.5.0",
      "model_name": "ButtonModel",
      "state": {
       "layout": "IPY_MODEL_594de41244a84c3cacecf634cdbf5c53",
       "style": "IPY_MODEL_b90ae59aa0a049f0ac960f43c1fe19b1"
      }
     },
     "8879d65f0dab4493bad032c5f2371f06": {
      "model_module": "@jupyter-widgets/controls",
      "model_module_version": "1.5.0",
      "model_name": "DescriptionStyleModel",
      "state": {
       "description_width": ""
      }
     },
     "8892aa491e52466a98b0a8ba0d2ca233": {
      "model_module": "@jupyter-widgets/base",
      "model_module_version": "1.2.0",
      "model_name": "LayoutModel",
      "state": {
       "display": "none"
      }
     },
     "889d419d193a4a8b8217dd5544b9b92b": {
      "model_module": "@jupyter-widgets/controls",
      "model_module_version": "1.5.0",
      "model_name": "IntProgressModel",
      "state": {
       "layout": "IPY_MODEL_1cdc19b46e584726bbde646f1be939c8",
       "max": 1,
       "style": "IPY_MODEL_054a7124fc664e62b9b5609a662dc886"
      }
     },
     "88bd5f19d13842238e4345adc864c06b": {
      "model_module": "@jupyter-widgets/base",
      "model_module_version": "1.2.0",
      "model_name": "LayoutModel",
      "state": {}
     },
     "88f9355ff72840abb7717816a7390269": {
      "model_module": "@jupyter-widgets/controls",
      "model_module_version": "1.5.0",
      "model_name": "DropdownModel",
      "state": {
       "_options_labels": [
        "Any",
        "Hand Cannon",
        "Auto Rifle",
        "Scout Rifle",
        "Pulse Rifle",
        "Sidearm",
        "Submachine Gun",
        "Combt Bow",
        "Sniper Rifle",
        "Shotgun"
       ],
       "index": 0,
       "layout": "IPY_MODEL_155900e6730f4e259ae9cbcfdc979ed4",
       "style": "IPY_MODEL_c4c9e3ddf23c44509e9eb2d82de35576"
      }
     },
     "88fd41978ea64ee6af2de22f992d98a6": {
      "model_module": "@jupyter-widgets/controls",
      "model_module_version": "1.5.0",
      "model_name": "ButtonStyleModel",
      "state": {}
     },
     "8990a67cae744ceab26deb7d54d98cb0": {
      "model_module": "@jupyter-widgets/controls",
      "model_module_version": "1.5.0",
      "model_name": "LabelModel",
      "state": {
       "layout": "IPY_MODEL_f3c78876b4544ad59670705cfd347dd3",
       "style": "IPY_MODEL_c5d19a30610c418f96bfbb24f1063b7d",
       "value": "   objective"
      }
     },
     "89d8b214fd014fc986f91d701898ba2d": {
      "model_module": "@jupyter-widgets/base",
      "model_module_version": "1.2.0",
      "model_name": "LayoutModel",
      "state": {
       "width": "60px"
      }
     },
     "89dd7b66bae3490eb06d67fe79de86bc": {
      "model_module": "@jupyter-widgets/controls",
      "model_module_version": "1.5.0",
      "model_name": "LabelModel",
      "state": {
       "layout": "IPY_MODEL_b3f66503bdb14981b83b948600a3c180",
       "style": "IPY_MODEL_ba0ecff2705b4fae9a92e4f8b769154c",
       "value": "    Invitations answered (0/1)"
      }
     },
     "8a28d079fe2540f5b1656cc1c3849973": {
      "model_module": "@jupyter-widgets/controls",
      "model_module_version": "1.5.0",
      "model_name": "DescriptionStyleModel",
      "state": {
       "description_width": ""
      }
     },
     "8a318e95e5da4f9d96d145f407d38062": {
      "model_module": "@jupyter-widgets/controls",
      "model_module_version": "1.5.0",
      "model_name": "ButtonModel",
      "state": {
       "description": "EDIT",
       "layout": "IPY_MODEL_b8f822e6c9b74e96ae4c71b93b24ec39",
       "style": "IPY_MODEL_810717e970954222b4da6bfb69efe71d"
      }
     },
     "8a4c209974a14c5696a5d9cc2cdda586": {
      "model_module": "@jupyter-widgets/controls",
      "model_module_version": "1.5.0",
      "model_name": "ButtonStyleModel",
      "state": {}
     },
     "8a72c19ef6164b8085b297430fa05746": {
      "model_module": "@jupyter-widgets/base",
      "model_module_version": "1.2.0",
      "model_name": "LayoutModel",
      "state": {
       "display": "none"
      }
     },
     "8a8f593ca92749e4987fb4afbb343f36": {
      "model_module": "@jupyter-widgets/base",
      "model_module_version": "1.2.0",
      "model_name": "LayoutModel",
      "state": {
       "height": "32px",
       "overflow": "visible",
       "width": "100%"
      }
     },
     "8ad01b97dd8c4c818c3f606d5a3c5bcf": {
      "model_module": "@jupyter-widgets/controls",
      "model_module_version": "1.5.0",
      "model_name": "IntProgressModel",
      "state": {
       "layout": "IPY_MODEL_8cc79f386bbc42ce9a6bdf084f150f0c",
       "style": "IPY_MODEL_a06717ceb3444d818db80c2adca23517",
       "value": 30
      }
     },
     "8aff7c73ff4640d3b3233d0289a01ba8": {
      "model_module": "@jupyter-widgets/controls",
      "model_module_version": "1.5.0",
      "model_name": "ProgressStyleModel",
      "state": {
       "description_width": ""
      }
     },
     "8affb9efe9764ed6a0ec9e40cb108f52": {
      "model_module": "@jupyter-widgets/controls",
      "model_module_version": "1.5.0",
      "model_name": "ButtonStyleModel",
      "state": {}
     },
     "8b12ce24534447fdbc7592fe527ba1cf": {
      "model_module": "@jupyter-widgets/controls",
      "model_module_version": "1.5.0",
      "model_name": "VBoxModel",
      "state": {
       "children": [
        "IPY_MODEL_0ab5464c910e48ba9055134e2452dd66",
        "IPY_MODEL_18d9de56b7a44c569f7604dd62c76df6",
        "IPY_MODEL_9ff405c44cba42daa3b83be3e9b3d556",
        "IPY_MODEL_488ee9b6294d4f00b18168b781b3d961"
       ],
       "layout": "IPY_MODEL_2115d0b60dc5437f9747652f4ce719db"
      }
     },
     "8b585d8a1bfe4a9fbab3fce3126465a2": {
      "model_module": "@jupyter-widgets/controls",
      "model_module_version": "1.5.0",
      "model_name": "ButtonModel",
      "state": {
       "description": "EDIT",
       "layout": "IPY_MODEL_f934361c291d4713b4e462941d55a09b",
       "style": "IPY_MODEL_ab996c22a9324aec99b5b17fbed64584"
      }
     },
     "8b6e0d25c9d24ae9b21f4c5555526388": {
      "model_module": "@jupyter-widgets/controls",
      "model_module_version": "1.5.0",
      "model_name": "ProgressStyleModel",
      "state": {
       "description_width": ""
      }
     },
     "8b9a3e47ca834739a179f47380dc17ca": {
      "model_module": "@jupyter-widgets/controls",
      "model_module_version": "1.5.0",
      "model_name": "LabelModel",
      "state": {
       "layout": "IPY_MODEL_6acc0208d8254dc3b977b3d4bb958a64",
       "style": "IPY_MODEL_a779419de53042d980fdf07ce63ff19c",
       "value": "   objective"
      }
     },
     "8bab458a9d05488c90549993f25738ca": {
      "model_module": "@jupyter-widgets/controls",
      "model_module_version": "1.5.0",
      "model_name": "HBoxModel",
      "state": {
       "children": [
        "IPY_MODEL_96937f9d729f442a890ac834c8c2bf91",
        "IPY_MODEL_b319d05ba2954210a6f4f3c011368f9a",
        "IPY_MODEL_1220f4c927d54303bf4f0113dedfc860",
        "IPY_MODEL_286ec69dc1c149dbb7364bb27f6be1da"
       ],
       "layout": "IPY_MODEL_3b5a79f0eeb648fe84d981bb81178ada"
      }
     },
     "8bba68ae9aa34ad28aabff03bb7fa32a": {
      "model_module": "@jupyter-widgets/base",
      "model_module_version": "1.2.0",
      "model_name": "LayoutModel",
      "state": {
       "height": "32px",
       "order": "-2",
       "width": "32px"
      }
     },
     "8c4f9a270fa84dbe83d671533ab84ec3": {
      "model_module": "@jupyter-widgets/base",
      "model_module_version": "1.2.0",
      "model_name": "LayoutModel",
      "state": {
       "display": "none"
      }
     },
     "8c5a96d7671b42d3ab4fb139706a3844": {
      "model_module": "@jupyter-widgets/controls",
      "model_module_version": "1.5.0",
      "model_name": "HTMLModel",
      "state": {
       "layout": "IPY_MODEL_36b1968e82a9487ab5c96f4b501033a7",
       "style": "IPY_MODEL_d7c368edfa92430a96b6d0cbbe4c67a4",
       "value": "<font size=\"5\"><b>Reunited Siblings</b></font size=>"
      }
     },
     "8c7ebf501b154063be1cbc8db57f90fc": {
      "model_module": "@jupyter-widgets/controls",
      "model_module_version": "1.5.0",
      "model_name": "ButtonStyleModel",
      "state": {}
     },
     "8ca1adccee8646cfb8b57ca7aa46097a": {
      "model_module": "@jupyter-widgets/controls",
      "model_module_version": "1.5.0",
      "model_name": "ButtonStyleModel",
      "state": {}
     },
     "8cb309c7208e4295bbdb00517e592395": {
      "model_module": "@jupyter-widgets/base",
      "model_module_version": "1.2.0",
      "model_name": "LayoutModel",
      "state": {
       "width": "60px"
      }
     },
     "8cc79f386bbc42ce9a6bdf084f150f0c": {
      "model_module": "@jupyter-widgets/base",
      "model_module_version": "1.2.0",
      "model_name": "LayoutModel",
      "state": {
       "height": "32px",
       "overflow": "visible",
       "width": "100%"
      }
     },
     "8d48b103f4f14a92adf156433f4e74c1": {
      "model_module": "@jupyter-widgets/base",
      "model_module_version": "1.2.0",
      "model_name": "LayoutModel",
      "state": {}
     },
     "8da3d6cbc4ea48e580fa0b7966b2cc72": {
      "model_module": "@jupyter-widgets/controls",
      "model_module_version": "1.5.0",
      "model_name": "DescriptionStyleModel",
      "state": {
       "description_width": ""
      }
     },
     "8da79ad23c294c9fb4200d690c123ac5": {
      "model_module": "@jupyter-widgets/controls",
      "model_module_version": "1.5.0",
      "model_name": "DescriptionStyleModel",
      "state": {
       "description_width": ""
      }
     },
     "8db59855a5504c7db309f26f0389a590": {
      "model_module": "@jupyter-widgets/base",
      "model_module_version": "1.2.0",
      "model_name": "LayoutModel",
      "state": {
       "width": "60px"
      }
     },
     "8dd4ff8706a74f668d747160b93f4c48": {
      "model_module": "@jupyter-widgets/controls",
      "model_module_version": "1.5.0",
      "model_name": "ButtonStyleModel",
      "state": {}
     },
     "8e09e87e80ac4b88ab7709abfe79d689": {
      "model_module": "@jupyter-widgets/controls",
      "model_module_version": "1.5.0",
      "model_name": "LabelModel",
      "state": {
       "layout": "IPY_MODEL_1daada20ec1947d9af34df38cd793337",
       "style": "IPY_MODEL_a752727c940d47a995014d99c3a18355",
       "value": "   objective"
      }
     },
     "8e15968356414b8ea8fa081e470ff621": {
      "model_module": "@jupyter-widgets/base",
      "model_module_version": "1.2.0",
      "model_name": "LayoutModel",
      "state": {
       "order": "-1",
       "overflow": "visible",
       "padding": "1px",
       "width": "0px"
      }
     },
     "8e3d7ebf02524976b6a868c619fb7e57": {
      "model_module": "@jupyter-widgets/controls",
      "model_module_version": "1.5.0",
      "model_name": "ButtonModel",
      "state": {
       "description": "EDIT",
       "layout": "IPY_MODEL_d29ae24d421b4b6d83cc87810e6f38b6",
       "style": "IPY_MODEL_b47800887529411ea9fa2dd84e7a9e1a"
      }
     },
     "8e4d4dd9562f4b4481598c128e77e667": {
      "model_module": "@jupyter-widgets/controls",
      "model_module_version": "1.5.0",
      "model_name": "LabelModel",
      "state": {
       "layout": "IPY_MODEL_c3a2fa5a5ae84136be0794ae01d572e8",
       "style": "IPY_MODEL_ed4277ecf9af48afa24e195b329ef735",
       "value": "   objective"
      }
     },
     "8e5d70f587254ee09cdd43065fbe525b": {
      "model_module": "@jupyter-widgets/controls",
      "model_module_version": "1.5.0",
      "model_name": "IntProgressModel",
      "state": {
       "layout": "IPY_MODEL_f501b39db53246fa80fd5ed768adf12b",
       "style": "IPY_MODEL_10433054606f488ba7393a3890066e87",
       "value": 30
      }
     },
     "8e8fc77afa054b15835caed0b5d9cf37": {
      "model_module": "@jupyter-widgets/controls",
      "model_module_version": "1.5.0",
      "model_name": "LabelModel",
      "state": {
       "layout": "IPY_MODEL_4720b801e9fa4839ba0dc5e2d92f23b1",
       "style": "IPY_MODEL_37fe33dc4b4b435e929c448c2e7cb4bf",
       "value": "   objective"
      }
     },
     "8ee9e157805a4cf99161aadc11926ad4": {
      "model_module": "@jupyter-widgets/controls",
      "model_module_version": "1.5.0",
      "model_name": "HBoxModel",
      "state": {
       "children": [
        "IPY_MODEL_6fee05c58bb741168b3b9e1cad3ba9f6",
        "IPY_MODEL_a0c4a73870a14cc1bb030f18b9ac8dea",
        "IPY_MODEL_16d992a261b94915adb2aeaf6ef56fcb",
        "IPY_MODEL_206920790092438c9ab3ce0c0124a4c6"
       ],
       "layout": "IPY_MODEL_522070619c86474aa37da450cd6e09f9"
      }
     },
     "8f4350cc4bd94323a97dc7e6fe315702": {
      "model_module": "@jupyter-widgets/controls",
      "model_module_version": "1.5.0",
      "model_name": "HBoxModel",
      "state": {
       "children": [
        "IPY_MODEL_582f6c52c49b45e9ab5058cbbd04a05e",
        "IPY_MODEL_2da86e734e0244858c8958f03f35f014",
        "IPY_MODEL_bf22e5cf412141a5b1e1ab7de9ca7044",
        "IPY_MODEL_e17dce5f88494798a13424a9149c330f"
       ],
       "layout": "IPY_MODEL_41763a2fc95c446086f0ba438cd53358"
      }
     },
     "8f7018254dc945c2ba509057ec108c3d": {
      "model_module": "@jupyter-widgets/controls",
      "model_module_version": "1.5.0",
      "model_name": "ButtonStyleModel",
      "state": {}
     },
     "8fca6edae7c54a858781da4648d21ba1": {
      "model_module": "@jupyter-widgets/controls",
      "model_module_version": "1.5.0",
      "model_name": "VBoxModel",
      "state": {
       "children": [
        "IPY_MODEL_2fd6b71593c94c65b6bfeb723573760c",
        "IPY_MODEL_8ee9e157805a4cf99161aadc11926ad4",
        "IPY_MODEL_f9d8a15143d747f0833dc4271dde0e36",
        "IPY_MODEL_33ecdac3eb234d6594d71beaacad870e",
        "IPY_MODEL_8f4350cc4bd94323a97dc7e6fe315702",
        "IPY_MODEL_5da549034eff4be68e87257acb0bb644"
       ],
       "layout": "IPY_MODEL_25e88ae3743d4abcb9a65044660c6b09"
      }
     },
     "8fdcd384353e49148aa003956c29a173": {
      "model_module": "@jupyter-widgets/base",
      "model_module_version": "1.2.0",
      "model_name": "LayoutModel",
      "state": {
       "height": "20px"
      }
     },
     "9021dc9a18174be09fe568bc7fbf2560": {
      "model_module": "@jupyter-widgets/base",
      "model_module_version": "1.2.0",
      "model_name": "LayoutModel",
      "state": {
       "display": "flex",
       "flex_flow": "row wrap"
      }
     },
     "906451ddb51746e58e1ee61036be9e80": {
      "model_module": "@jupyter-widgets/controls",
      "model_module_version": "1.5.0",
      "model_name": "ButtonStyleModel",
      "state": {}
     },
     "908e501b5bf34d9f9961f95b1b8c68e4": {
      "model_module": "@jupyter-widgets/controls",
      "model_module_version": "1.5.0",
      "model_name": "ProgressStyleModel",
      "state": {
       "description_width": ""
      }
     },
     "90c5569e7d2e4298972e9dfe643e9ac6": {
      "model_module": "@jupyter-widgets/base",
      "model_module_version": "1.2.0",
      "model_name": "LayoutModel",
      "state": {
       "display": "flex"
      }
     },
     "910ad2fb5e8a4d6398e57146e1478f41": {
      "model_module": "@jupyter-widgets/controls",
      "model_module_version": "1.5.0",
      "model_name": "ProgressStyleModel",
      "state": {
       "description_width": ""
      }
     },
     "91188ebeb8ad4af485d6117a9e87d390": {
      "model_module": "@jupyter-widgets/controls",
      "model_module_version": "1.5.0",
      "model_name": "HBoxModel",
      "state": {
       "children": [
        "IPY_MODEL_6fa00e8dab8847268ca054a384668f13",
        "IPY_MODEL_a69286ec3616463f83bedcd69f5e7514",
        "IPY_MODEL_0846fdd1540740e093f9211e2fb9fb8e",
        "IPY_MODEL_601b8962bcba4bd286590386eecce077"
       ],
       "layout": "IPY_MODEL_68aab4716d9942469e843879764e92b3"
      }
     },
     "914feaa3008b4c63881b5a0af599e91e": {
      "model_module": "@jupyter-widgets/controls",
      "model_module_version": "1.5.0",
      "model_name": "ButtonModel",
      "state": {
       "layout": "IPY_MODEL_5c540b05dba74a9a915143d9dcfe6015",
       "style": "IPY_MODEL_6fb84583ca7e4c3db4900c1ea91d1e5b"
      }
     },
     "91574892256349cebc3b407225fe4fbf": {
      "model_module": "@jupyter-widgets/base",
      "model_module_version": "1.2.0",
      "model_name": "LayoutModel",
      "state": {
       "display": "none"
      }
     },
     "9186b0539df04a8c83d69f3c52e998f4": {
      "model_module": "@jupyter-widgets/base",
      "model_module_version": "1.2.0",
      "model_name": "LayoutModel",
      "state": {
       "order": "-1",
       "overflow": "visible",
       "padding": "1px",
       "width": "0px"
      }
     },
     "92b2ba5d5ebf44c8bc029733c3a1cae5": {
      "model_module": "@jupyter-widgets/controls",
      "model_module_version": "1.5.0",
      "model_name": "ProgressStyleModel",
      "state": {
       "description_width": ""
      }
     },
     "92b51940e76243459b6ca5286d323747": {
      "model_module": "@jupyter-widgets/controls",
      "model_module_version": "1.5.0",
      "model_name": "ButtonStyleModel",
      "state": {}
     },
     "93003671e6e14d46a84dbd2a0d5ee38c": {
      "model_module": "@jupyter-widgets/base",
      "model_module_version": "1.2.0",
      "model_name": "LayoutModel",
      "state": {
       "display": "none"
      }
     },
     "9366b457872c4c91bea8a3b091ae8f7c": {
      "model_module": "@jupyter-widgets/controls",
      "model_module_version": "1.5.0",
      "model_name": "DescriptionStyleModel",
      "state": {
       "description_width": ""
      }
     },
     "93861eeab58546fab1caaac7eafcdfe9": {
      "model_module": "@jupyter-widgets/base",
      "model_module_version": "1.2.0",
      "model_name": "LayoutModel",
      "state": {
       "width": "60px"
      }
     },
     "938680e81af54c4fa144282fbf23e0ab": {
      "model_module": "@jupyter-widgets/controls",
      "model_module_version": "1.5.0",
      "model_name": "DescriptionStyleModel",
      "state": {
       "description_width": ""
      }
     },
     "939d056540d14c0593a1ef77dbbd2375": {
      "model_module": "@jupyter-widgets/controls",
      "model_module_version": "1.5.0",
      "model_name": "ButtonStyleModel",
      "state": {}
     },
     "93acbe48f5764b9eb7f8a377ce309339": {
      "model_module": "@jupyter-widgets/base",
      "model_module_version": "1.2.0",
      "model_name": "LayoutModel",
      "state": {
       "height": "32px",
       "overflow": "visible",
       "width": "100%"
      }
     },
     "94575c4cb82e4f68a7424fd016ec5028": {
      "model_module": "@jupyter-widgets/controls",
      "model_module_version": "1.5.0",
      "model_name": "ButtonStyleModel",
      "state": {}
     },
     "94a2d6143a834e0ea0216d23fa1e4620": {
      "model_module": "@jupyter-widgets/base",
      "model_module_version": "1.2.0",
      "model_name": "LayoutModel",
      "state": {
       "height": "32px",
       "order": "-2",
       "width": "32px"
      }
     },
     "94d0219c19104b3ba81c6501ad537b32": {
      "model_module": "@jupyter-widgets/base",
      "model_module_version": "1.2.0",
      "model_name": "LayoutModel",
      "state": {
       "height": "32px",
       "order": "-2",
       "width": "32px"
      }
     },
     "94ffa0819e53469894443a45807659f5": {
      "model_module": "@jupyter-widgets/controls",
      "model_module_version": "1.5.0",
      "model_name": "ButtonModel",
      "state": {
       "layout": "IPY_MODEL_9e87a77b434d447e92c80c4dcfc8b38d",
       "style": "IPY_MODEL_94575c4cb82e4f68a7424fd016ec5028"
      }
     },
     "95b51d1fabaf4826b3086f9e2f739d48": {
      "model_module": "@jupyter-widgets/base",
      "model_module_version": "1.2.0",
      "model_name": "LayoutModel",
      "state": {}
     },
     "95c131216a5d467ba95ff1e2f2a3dd79": {
      "model_module": "@jupyter-widgets/controls",
      "model_module_version": "1.5.0",
      "model_name": "DescriptionStyleModel",
      "state": {
       "description_width": ""
      }
     },
     "95ed5da1851542a587651f49a3c64f1e": {
      "model_module": "@jupyter-widgets/base",
      "model_module_version": "1.2.0",
      "model_name": "LayoutModel",
      "state": {
       "order": "-1",
       "overflow": "visible",
       "padding": "1px",
       "width": "0px"
      }
     },
     "961c03bac0834bab8fb7f89093d16892": {
      "model_module": "@jupyter-widgets/controls",
      "model_module_version": "1.5.0",
      "model_name": "ButtonModel",
      "state": {
       "layout": "IPY_MODEL_f439c79646bc434e9d14f200442eb244",
       "style": "IPY_MODEL_a6d9f3868900482fbc217f48a6c5633c"
      }
     },
     "96307a7dc14c43b7a96bdb6ab6d94aac": {
      "model_module": "@jupyter-widgets/base",
      "model_module_version": "1.2.0",
      "model_name": "LayoutModel",
      "state": {
       "width": "60px"
      }
     },
     "96937f9d729f442a890ac834c8c2bf91": {
      "model_module": "@jupyter-widgets/controls",
      "model_module_version": "1.5.0",
      "model_name": "ButtonModel",
      "state": {
       "layout": "IPY_MODEL_78cd07a66135447480cd23e0cf0c7e93",
       "style": "IPY_MODEL_cac1c3ece5d54e3582632344d92d3ce5"
      }
     },
     "96d3bfc99147400d826264a80a3acad5": {
      "model_module": "@jupyter-widgets/controls",
      "model_module_version": "1.5.0",
      "model_name": "ButtonStyleModel",
      "state": {}
     },
     "96e6dbce7eaa4d2086486026181c614b": {
      "model_module": "@jupyter-widgets/controls",
      "model_module_version": "1.5.0",
      "model_name": "HBoxModel",
      "state": {
       "children": [
        "IPY_MODEL_9f162f174f844e3380f5b595a8a1b096",
        "IPY_MODEL_f3d519ee797a411e9f1bc551c0e7ee7a",
        "IPY_MODEL_e450c11117f7491b98acb5b3db0770b5",
        "IPY_MODEL_d38c4fec584e4bf0b19cd61cbdb86446"
       ],
       "layout": "IPY_MODEL_cea271120c334b8b9b4d16eb0d655b21"
      }
     },
     "970351932f6a44ea9beaf48b788364e8": {
      "model_module": "@jupyter-widgets/controls",
      "model_module_version": "1.5.0",
      "model_name": "HBoxModel",
      "state": {
       "children": [
        "IPY_MODEL_bb4944d7eea54f4fab67910656c2e3d6",
        "IPY_MODEL_4118e5573d4f4f25937ef242f3e6b554",
        "IPY_MODEL_24bb22f28c8844a8948c11605a99d7cb",
        "IPY_MODEL_4cb8d9b6834a42b88992e73da9fa9ab6"
       ],
       "layout": "IPY_MODEL_9bea51f88c7046dc8c5d4e9c854682e4"
      }
     },
     "9751b89fa4d14b0c93b428ac025f01d2": {
      "model_module": "@jupyter-widgets/controls",
      "model_module_version": "1.5.0",
      "model_name": "ButtonStyleModel",
      "state": {}
     },
     "979934fd221a4d21af8fd6277d6603ae": {
      "model_module": "@jupyter-widgets/controls",
      "model_module_version": "1.5.0",
      "model_name": "HBoxModel",
      "state": {
       "children": [
        "IPY_MODEL_7302f103dd7b49e7867e1584f22e4dea",
        "IPY_MODEL_61879f974534460d81de2aa2b989dab7",
        "IPY_MODEL_075455104bba4e91bf833c5359fe062d",
        "IPY_MODEL_c536910c8a4f47e0947d60a4d215ee9d"
       ],
       "layout": "IPY_MODEL_ab971b316d8c463bb7208365a023dcbc"
      }
     },
     "980eb81712ca47f2837357d06734a150": {
      "model_module": "@jupyter-widgets/base",
      "model_module_version": "1.2.0",
      "model_name": "LayoutModel",
      "state": {
       "display": "flex"
      }
     },
     "98311d5f9e0846a5965446d3241bf625": {
      "model_module": "@jupyter-widgets/controls",
      "model_module_version": "1.5.0",
      "model_name": "ProgressStyleModel",
      "state": {
       "description_width": ""
      }
     },
     "98450e3817744d869cbef9f65f06d7a3": {
      "model_module": "@jupyter-widgets/base",
      "model_module_version": "1.2.0",
      "model_name": "LayoutModel",
      "state": {
       "display": "none"
      }
     },
     "985e946dcca4440b9091a2510b727848": {
      "model_module": "@jupyter-widgets/controls",
      "model_module_version": "1.5.0",
      "model_name": "HTMLModel",
      "state": {
       "layout": "IPY_MODEL_9021dc9a18174be09fe568bc7fbf2560",
       "style": "IPY_MODEL_2ba7ba55ecd7488b86ad821f46fa65b7",
       "value": "<i>Get kills with Izanagi's Burden at the Izanami Forge.</i>"
      }
     },
     "9867dca430024c3296a65e8b9428a135": {
      "model_module": "@jupyter-widgets/controls",
      "model_module_version": "1.5.0",
      "model_name": "DescriptionStyleModel",
      "state": {
       "description_width": ""
      }
     },
     "9877f7152fa842feb594d8f08a99b93a": {
      "model_module": "@jupyter-widgets/controls",
      "model_module_version": "1.5.0",
      "model_name": "ButtonModel",
      "state": {
       "description": "EDIT",
       "layout": "IPY_MODEL_1d25879a20b741fdae2d53449b5b93c7",
       "style": "IPY_MODEL_8ca1adccee8646cfb8b57ca7aa46097a"
      }
     },
     "98add579d68c426db5eea2de4a077b73": {
      "model_module": "@jupyter-widgets/controls",
      "model_module_version": "1.5.0",
      "model_name": "ProgressStyleModel",
      "state": {
       "description_width": ""
      }
     },
     "98e8b74d80cf4de2a90bc43821be9bc1": {
      "model_module": "@jupyter-widgets/controls",
      "model_module_version": "1.5.0",
      "model_name": "ButtonStyleModel",
      "state": {}
     },
     "99013c61c0b247068b533f547fe686e9": {
      "model_module": "@jupyter-widgets/controls",
      "model_module_version": "1.5.0",
      "model_name": "DescriptionStyleModel",
      "state": {
       "description_width": ""
      }
     },
     "991efa56346b453aa88b0c7e97835d1c": {
      "model_module": "@jupyter-widgets/controls",
      "model_module_version": "1.5.0",
      "model_name": "HTMLModel",
      "state": {
       "layout": "IPY_MODEL_50b2b5d570c64265b1d8b39fbd0185fa",
       "style": "IPY_MODEL_48216be80de14e62864038b77bf2c042",
       "value": "<i>As an Invader, defeat seven Guardians in a single invasion before Drifter brings you back to your side.</i>"
      }
     },
     "995f39dfb2c747e5bb1e59bb226f303f": {
      "model_module": "@jupyter-widgets/controls",
      "model_module_version": "1.5.0",
      "model_name": "TextModel",
      "state": {
       "description": "Gamertag:",
       "layout": "IPY_MODEL_e5040daf55884d4184246ee15ef6dd77",
       "style": "IPY_MODEL_41cc4c58c61844a78ac5d26804af0fc7",
       "value": "skalligman"
      }
     },
     "998de2c4b1de4c5ab495b3bb2df08b1d": {
      "model_module": "@jupyter-widgets/controls",
      "model_module_version": "1.5.0",
      "model_name": "ProgressStyleModel",
      "state": {
       "description_width": ""
      }
     },
     "99a1eb04416a4aa185128aa3537d3d0f": {
      "model_module": "@jupyter-widgets/base",
      "model_module_version": "1.2.0",
      "model_name": "LayoutModel",
      "state": {
       "height": "32px",
       "overflow": "visible",
       "width": "100%"
      }
     },
     "99a8dbf761e04551b97ebc434e2ccc64": {
      "model_module": "@jupyter-widgets/controls",
      "model_module_version": "1.5.0",
      "model_name": "ButtonModel",
      "state": {
       "description": "EDIT",
       "layout": "IPY_MODEL_0fdebf9d993f432fba8943ae013eee24",
       "style": "IPY_MODEL_0767973db8754af988f69e7eb2857002"
      }
     },
     "99a95b47b3ab4e6c8bf0d7f8fc233302": {
      "model_module": "@jupyter-widgets/controls",
      "model_module_version": "1.5.0",
      "model_name": "VBoxModel",
      "state": {
       "children": [
        "IPY_MODEL_cfc9daff65ec48dc8f78f60309a65cdf",
        "IPY_MODEL_91188ebeb8ad4af485d6117a9e87d390",
        "IPY_MODEL_353a72f64b9d4e1c95938f18aeb352f6",
        "IPY_MODEL_32e0e0a510e84126bbacc01f5fc08892",
        "IPY_MODEL_aa62595616ea4485a3069a55921fa5af",
        "IPY_MODEL_b9258130facd4e5bb76386a6d04e5ce2"
       ],
       "layout": "IPY_MODEL_507cda5b10b4464a86709465971c66ae"
      }
     },
     "99dd4274dc9340229c4f24a89feeae98": {
      "model_module": "@jupyter-widgets/base",
      "model_module_version": "1.2.0",
      "model_name": "LayoutModel",
      "state": {
       "height": "32px",
       "order": "-2",
       "width": "32px"
      }
     },
     "9a0bb28e5be546a6b3ca42125dca654f": {
      "model_module": "@jupyter-widgets/base",
      "model_module_version": "1.2.0",
      "model_name": "LayoutModel",
      "state": {
       "order": "-1",
       "overflow": "visible",
       "padding": "1px",
       "width": "0px"
      }
     },
     "9a437247ef4a4cf08f97bcf931144261": {
      "model_module": "@jupyter-widgets/base",
      "model_module_version": "1.2.0",
      "model_name": "LayoutModel",
      "state": {
       "height": "32px",
       "overflow": "visible",
       "width": "100%"
      }
     },
     "9a7abc84d90448e4881245e5af2f837b": {
      "model_module": "@jupyter-widgets/base",
      "model_module_version": "1.2.0",
      "model_name": "LayoutModel",
      "state": {
       "border": "3px solid white",
       "display": "flex",
       "flex": "1 1 0%",
       "margin": "10px",
       "min_width": "400px",
       "overflow": "visible",
       "padding": "10px",
       "width": "auto"
      }
     },
     "9a945954c3a24c37becea976af63339b": {
      "model_module": "@jupyter-widgets/base",
      "model_module_version": "1.2.0",
      "model_name": "LayoutModel",
      "state": {
       "order": "-1",
       "overflow": "visible",
       "padding": "1px",
       "width": "0px"
      }
     },
     "9a9d2d63a6ea400c8e1ca934413e2667": {
      "model_module": "@jupyter-widgets/controls",
      "model_module_version": "1.5.0",
      "model_name": "LabelModel",
      "state": {
       "layout": "IPY_MODEL_6c0eec23ab504a75bfb536439cf39d06",
       "style": "IPY_MODEL_f42f1e25c2ef42ae84520b204104a687",
       "value": "   objective"
      }
     },
     "9b427aa65bb94765a442531a555808a4": {
      "model_module": "@jupyter-widgets/controls",
      "model_module_version": "1.5.0",
      "model_name": "ButtonStyleModel",
      "state": {}
     },
     "9b4e049971884d38b51831662da47451": {
      "model_module": "@jupyter-widgets/controls",
      "model_module_version": "1.5.0",
      "model_name": "ButtonStyleModel",
      "state": {}
     },
     "9b54db4d40894b08a976ddc45b95214e": {
      "model_module": "@jupyter-widgets/controls",
      "model_module_version": "1.5.0",
      "model_name": "ButtonModel",
      "state": {
       "description": "EDIT",
       "layout": "IPY_MODEL_ed62504e042b4803926770171107ee7f",
       "style": "IPY_MODEL_17a0656a69484e7a8d49fdc63ba8cfd3"
      }
     },
     "9b68660446d64a80b9498ede88dbcd82": {
      "model_module": "@jupyter-widgets/base",
      "model_module_version": "1.2.0",
      "model_name": "LayoutModel",
      "state": {
       "border": "3px solid white",
       "display": "flex",
       "flex": "1 1 0%",
       "margin": "10px",
       "min_width": "400px",
       "overflow": "visible",
       "padding": "10px",
       "width": "auto"
      }
     },
     "9b7e7bce15a944758c1b544d8c5e0894": {
      "model_module": "@jupyter-widgets/controls",
      "model_module_version": "1.5.0",
      "model_name": "IntProgressModel",
      "state": {
       "bar_style": "info",
       "layout": "IPY_MODEL_1e2ec543526a4ef7a3877544900efa70",
       "max": 1000,
       "style": "IPY_MODEL_14d13b3423e040d28946fa3bf9a7a096",
       "value": 289
      }
     },
     "9b7fc2ae66cf4f0885046f2314d355de": {
      "model_module": "@jupyter-widgets/base",
      "model_module_version": "1.2.0",
      "model_name": "LayoutModel",
      "state": {
       "display": "none"
      }
     },
     "9bbb206190384348a98748159c390aac": {
      "model_module": "@jupyter-widgets/controls",
      "model_module_version": "1.5.0",
      "model_name": "ProgressStyleModel",
      "state": {
       "description_width": ""
      }
     },
     "9bea51f88c7046dc8c5d4e9c854682e4": {
      "model_module": "@jupyter-widgets/base",
      "model_module_version": "1.2.0",
      "model_name": "LayoutModel",
      "state": {
       "display": "none"
      }
     },
     "9c07c2463b004466993587fa8561ef5b": {
      "model_module": "@jupyter-widgets/controls",
      "model_module_version": "1.5.0",
      "model_name": "HTMLModel",
      "state": {
       "layout": "IPY_MODEL_29e7e343f3d2452984b25611e0953c49",
       "style": "IPY_MODEL_2adcb726c43747f183cf9d23edf78d37",
       "value": "<i>Defeated Skolas in the Prison of Elders in Destiny 1.</i>"
      }
     },
     "9c3ced74ef494e9a91c160dba2f3dd4f": {
      "model_module": "@jupyter-widgets/base",
      "model_module_version": "1.2.0",
      "model_name": "LayoutModel",
      "state": {}
     },
     "9c5b0c44a9d14b27bc45b9d2b753be0b": {
      "model_module": "@jupyter-widgets/controls",
      "model_module_version": "1.5.0",
      "model_name": "ButtonStyleModel",
      "state": {}
     },
     "9c63d524ce734d3584abcec924cc66f6": {
      "model_module": "@jupyter-widgets/controls",
      "model_module_version": "1.5.0",
      "model_name": "IntProgressModel",
      "state": {
       "layout": "IPY_MODEL_d358fbf63611465caaa197b7423a6acc",
       "style": "IPY_MODEL_f955e2eaf580423e9df9209a563e2941",
       "value": 30
      }
     },
     "9c6d6f9bde474a999b3133463c522438": {
      "model_module": "@jupyter-widgets/controls",
      "model_module_version": "1.5.0",
      "model_name": "ProgressStyleModel",
      "state": {
       "description_width": ""
      }
     },
     "9ca74d02d00745b9897fe4a6cd3d7eda": {
      "model_module": "@jupyter-widgets/base",
      "model_module_version": "1.2.0",
      "model_name": "LayoutModel",
      "state": {
       "height": "32px",
       "overflow": "visible",
       "width": "100%"
      }
     },
     "9cec3a5531be4400bfb2a71c461c2a3c": {
      "model_module": "@jupyter-widgets/controls",
      "model_module_version": "1.5.0",
      "model_name": "ButtonModel",
      "state": {
       "description": "EDIT",
       "layout": "IPY_MODEL_0e29123cf41448428b5e509bf66ee78c",
       "style": "IPY_MODEL_e498cdea885b4f36befbce6628eeb175"
      }
     },
     "9cf47504ff614ee389165aa0060e9206": {
      "model_module": "@jupyter-widgets/controls",
      "model_module_version": "1.5.0",
      "model_name": "DropdownModel",
      "state": {
       "_options_labels": [
        "Any",
        "Flashbang Grenade",
        "Pulse Grenade",
        "Lightning Grenade"
       ],
       "disabled": true,
       "index": 3,
       "layout": "IPY_MODEL_17fdb3e950e146528895e66cb117b2a0",
       "style": "IPY_MODEL_79cf4c4520f7473eab7aa9800df7c460"
      }
     },
     "9d042b6e972141e9bdbfba249101417b": {
      "model_module": "@jupyter-widgets/controls",
      "model_module_version": "1.5.0",
      "model_name": "DescriptionStyleModel",
      "state": {
       "description_width": ""
      }
     },
     "9db45ce5db81423e8b64cfdfe6683494": {
      "model_module": "@jupyter-widgets/controls",
      "model_module_version": "1.5.0",
      "model_name": "ButtonStyleModel",
      "state": {}
     },
     "9e225c3598c44a8c9b680ab6ee853ef5": {
      "model_module": "@jupyter-widgets/controls",
      "model_module_version": "1.5.0",
      "model_name": "VBoxModel",
      "state": {
       "children": [
        "IPY_MODEL_2087c11a23c44152b0201c64387b44b7",
        "IPY_MODEL_3b12e6353d564824945c0f781ef66cdd",
        "IPY_MODEL_31f399e83f9b4097b4ff50e2bb57deaa"
       ],
       "layout": "IPY_MODEL_4f5edb4f7bbb4a2fab74be17e66e9a6a"
      }
     },
     "9e573d8d4a9f4e0c8e88244c497da4ad": {
      "model_module": "@jupyter-widgets/base",
      "model_module_version": "1.2.0",
      "model_name": "LayoutModel",
      "state": {
       "height": "32px",
       "overflow": "visible",
       "width": "100%"
      }
     },
     "9e57549a9ff0415ead8211074bcd21db": {
      "model_module": "@jupyter-widgets/base",
      "model_module_version": "1.2.0",
      "model_name": "LayoutModel",
      "state": {
       "height": "32px",
       "overflow": "visible",
       "width": "100%"
      }
     },
     "9e5ff042e92844eaa68d92288e4240da": {
      "model_module": "@jupyter-widgets/controls",
      "model_module_version": "1.5.0",
      "model_name": "ButtonStyleModel",
      "state": {}
     },
     "9e7bd881b0bd443187313722656b36d5": {
      "model_module": "@jupyter-widgets/controls",
      "model_module_version": "1.5.0",
      "model_name": "ButtonModel",
      "state": {
       "description": "EDIT",
       "layout": "IPY_MODEL_93861eeab58546fab1caaac7eafcdfe9",
       "style": "IPY_MODEL_faff4c428498430fa899b59617ad0a0a"
      }
     },
     "9e848965fe684af5be0934c09643094b": {
      "model_module": "@jupyter-widgets/controls",
      "model_module_version": "1.5.0",
      "model_name": "DescriptionStyleModel",
      "state": {
       "description_width": ""
      }
     },
     "9e87a77b434d447e92c80c4dcfc8b38d": {
      "model_module": "@jupyter-widgets/base",
      "model_module_version": "1.2.0",
      "model_name": "LayoutModel",
      "state": {
       "height": "32px",
       "order": "-2",
       "width": "32px"
      }
     },
     "9ea56d6d14df40cda220e3f2e748673e": {
      "model_module": "@jupyter-widgets/base",
      "model_module_version": "1.2.0",
      "model_name": "LayoutModel",
      "state": {
       "display": "none"
      }
     },
     "9eca5f5da7f649d2a7377f0a79afb280": {
      "model_module": "@jupyter-widgets/base",
      "model_module_version": "1.2.0",
      "model_name": "LayoutModel",
      "state": {
       "order": "-1",
       "overflow": "visible",
       "padding": "1px",
       "width": "0px"
      }
     },
     "9ecb223cef734828a385c5ea95d03ae1": {
      "model_module": "@jupyter-widgets/controls",
      "model_module_version": "1.5.0",
      "model_name": "ProgressStyleModel",
      "state": {
       "description_width": ""
      }
     },
     "9f10c950c4dd434788c38041f3c5467f": {
      "model_module": "@jupyter-widgets/controls",
      "model_module_version": "1.5.0",
      "model_name": "ButtonStyleModel",
      "state": {}
     },
     "9f1383288e784751b199f046bb614a04": {
      "model_module": "@jupyter-widgets/controls",
      "model_module_version": "1.5.0",
      "model_name": "HTMLModel",
      "state": {
       "layout": "IPY_MODEL_2183a8b3e8b5498db639cbbdc0b51f75",
       "style": "IPY_MODEL_c6bf3bb59aa943e9895aa6bf23f3fef6",
       "value": "<font size=\"5\"><b>The Witch</b></font size=>"
      }
     },
     "9f162f174f844e3380f5b595a8a1b096": {
      "model_module": "@jupyter-widgets/controls",
      "model_module_version": "1.5.0",
      "model_name": "ButtonModel",
      "state": {
       "button_style": "danger",
       "disabled": true,
       "layout": "IPY_MODEL_b6d28d791c64410b8129393117695d58",
       "style": "IPY_MODEL_a11e414fa6d847388ee55c9d28be87ad"
      }
     },
     "9f1db97d30ee428a84738aad9b56a0ea": {
      "model_module": "@jupyter-widgets/controls",
      "model_module_version": "1.5.0",
      "model_name": "IntProgressModel",
      "state": {
       "layout": "IPY_MODEL_5156f4349e3c4cf78b9a3174ff5ca537",
       "style": "IPY_MODEL_4d46c3eae3c34f188f42d75e11005126",
       "value": 30
      }
     },
     "9f40bbe0364f49cca70cf848088729ae": {
      "model_module": "@jupyter-widgets/controls",
      "model_module_version": "1.5.0",
      "model_name": "DescriptionStyleModel",
      "state": {
       "description_width": ""
      }
     },
     "9f5f9da523da4c878b38fab942b56582": {
      "model_module": "@jupyter-widgets/controls",
      "model_module_version": "1.5.0",
      "model_name": "ProgressStyleModel",
      "state": {
       "description_width": ""
      }
     },
     "9f7289832e514f819a8844020176760c": {
      "model_module": "@jupyter-widgets/base",
      "model_module_version": "1.2.0",
      "model_name": "LayoutModel",
      "state": {
       "width": "100px"
      }
     },
     "9fdc230a7ccd4fc18c90dbcd6a78f870": {
      "model_module": "@jupyter-widgets/controls",
      "model_module_version": "1.5.0",
      "model_name": "DescriptionStyleModel",
      "state": {
       "description_width": ""
      }
     },
     "9ff405c44cba42daa3b83be3e9b3d556": {
      "model_module": "@jupyter-widgets/controls",
      "model_module_version": "1.5.0",
      "model_name": "HTMLModel",
      "state": {
       "layout": "IPY_MODEL_b39c106deb2d4b82aebbd680a3686655",
       "style": "IPY_MODEL_afb601152dec4787a2fb5ca1a3bbc1ac",
       "value": "<i>Earn Valor ranks in Season 6.</i>"
      }
     },
     "9ffcc1329cf2497ba0f37fa57cad957b": {
      "model_module": "@jupyter-widgets/base",
      "model_module_version": "1.2.0",
      "model_name": "LayoutModel",
      "state": {
       "height": "32px",
       "order": "-2",
       "width": "32px"
      }
     },
     "a012ebaa4e3c4cba94290c153e9158e1": {
      "model_module": "@jupyter-widgets/base",
      "model_module_version": "1.2.0",
      "model_name": "LayoutModel",
      "state": {
       "border": "3px solid white",
       "display": "flex",
       "flex": "1 1 0%",
       "margin": "10px",
       "min_width": "400px",
       "overflow": "visible",
       "padding": "10px",
       "width": "auto"
      }
     },
     "a0364aaa99bc4546af5a8bf40f4397b3": {
      "model_module": "@jupyter-widgets/controls",
      "model_module_version": "1.5.0",
      "model_name": "BoxModel",
      "state": {
       "layout": "IPY_MODEL_8fdcd384353e49148aa003956c29a173"
      }
     },
     "a06717ceb3444d818db80c2adca23517": {
      "model_module": "@jupyter-widgets/controls",
      "model_module_version": "1.5.0",
      "model_name": "ProgressStyleModel",
      "state": {
       "description_width": ""
      }
     },
     "a0703801a8a14099bd9206dc87130699": {
      "model_module": "@jupyter-widgets/controls",
      "model_module_version": "1.5.0",
      "model_name": "LabelModel",
      "state": {
       "layout": "IPY_MODEL_4dd9125397c0430e84389c39a03cd116",
       "style": "IPY_MODEL_9867dca430024c3296a65e8b9428a135",
       "value": "    [Bow][Headshot] Precision (89/25)"
      }
     },
     "a076f83a2e854912bb25b376fdd4a01f": {
      "model_module": "@jupyter-widgets/controls",
      "model_module_version": "1.5.0",
      "model_name": "ButtonStyleModel",
      "state": {}
     },
     "a0c4a73870a14cc1bb030f18b9ac8dea": {
      "model_module": "@jupyter-widgets/controls",
      "model_module_version": "1.5.0",
      "model_name": "IntProgressModel",
      "state": {
       "layout": "IPY_MODEL_46a4259bc2d8466e9b6ecf9b10957eec",
       "style": "IPY_MODEL_84e1d0db7ae74214855b0eb57a0bdf8c",
       "value": 30
      }
     },
     "a0d2a794efc847f2bcb65af7d620d821": {
      "model_module": "@jupyter-widgets/controls",
      "model_module_version": "1.5.0",
      "model_name": "HTMLModel",
      "state": {
       "layout": "IPY_MODEL_610f4d8ef4d546a7a9f62ab956f54585",
       "style": "IPY_MODEL_d297d182cde241f7b21b8e36e5115b9f",
       "value": "<font size=\"5\"><b>Coliseum Champion</b></font size=>"
      }
     },
     "a0dcff49892748d2877d0438a38dc41c": {
      "model_module": "@jupyter-widgets/controls",
      "model_module_version": "1.5.0",
      "model_name": "ProgressStyleModel",
      "state": {
       "description_width": ""
      }
     },
     "a0e07bd0793548e9a23edfa0ba8832b9": {
      "model_module": "@jupyter-widgets/controls",
      "model_module_version": "1.5.0",
      "model_name": "IntProgressModel",
      "state": {
       "layout": "IPY_MODEL_ba0b25d661b04cafbc421261d38a42c2",
       "style": "IPY_MODEL_b7a2fc4173994e3abd8ae1a69c88e85d",
       "value": 30
      }
     },
     "a0f231a836fe41ea89e5f174a58e9e65": {
      "model_module": "@jupyter-widgets/controls",
      "model_module_version": "1.5.0",
      "model_name": "ButtonStyleModel",
      "state": {}
     },
     "a11e414fa6d847388ee55c9d28be87ad": {
      "model_module": "@jupyter-widgets/controls",
      "model_module_version": "1.5.0",
      "model_name": "ButtonStyleModel",
      "state": {}
     },
     "a132fef920394e9f9a2004d3f4710dc2": {
      "model_module": "@jupyter-widgets/controls",
      "model_module_version": "1.5.0",
      "model_name": "ButtonModel",
      "state": {
       "description": "EDIT",
       "layout": "IPY_MODEL_c25c02e344dc4e88b153d6c69a3ea05c",
       "style": "IPY_MODEL_00c58da8b5e5472ca68231458e8914cf"
      }
     },
     "a133f0517930459089045fed748e662e": {
      "model_module": "@jupyter-widgets/base",
      "model_module_version": "1.2.0",
      "model_name": "LayoutModel",
      "state": {
       "display": "none"
      }
     },
     "a1477bb782834f8387dbfaa4819d09c1": {
      "model_module": "@jupyter-widgets/controls",
      "model_module_version": "1.5.0",
      "model_name": "ButtonModel",
      "state": {
       "layout": "IPY_MODEL_37690ebd79f9462ca5463d8a59411026",
       "style": "IPY_MODEL_5465e6df9d234763bc4363916e6ad541"
      }
     },
     "a16277c1a39e4281b454e171ab29dcf9": {
      "model_module": "@jupyter-widgets/controls",
      "model_module_version": "1.5.0",
      "model_name": "DescriptionStyleModel",
      "state": {
       "description_width": ""
      }
     },
     "a17c3ec990ba44aeb7e11a7b74260612": {
      "model_module": "@jupyter-widgets/base",
      "model_module_version": "1.2.0",
      "model_name": "LayoutModel",
      "state": {
       "display": "flex"
      }
     },
     "a17edd97f79b42c29fd459f690c9cde8": {
      "model_module": "@jupyter-widgets/controls",
      "model_module_version": "1.5.0",
      "model_name": "HBoxModel",
      "state": {
       "children": [
        "IPY_MODEL_149d6a7238ca4c9daf72d18af8ea4b8c",
        "IPY_MODEL_dc398b901f3f4f53a5e8916e37b42713",
        "IPY_MODEL_f23252c0cc7b4bbabe2f1c75ef56ebfd",
        "IPY_MODEL_d14bf151a3db4a3fb865437b2b04d171"
       ],
       "layout": "IPY_MODEL_60d52052e3f14d0c9c960598eed34c55"
      }
     },
     "a198ca0c7c8b40e183b3f4cbdfc291ee": {
      "model_module": "@jupyter-widgets/base",
      "model_module_version": "1.2.0",
      "model_name": "LayoutModel",
      "state": {}
     },
     "a19b3aafa4964917b863af80e6ee0794": {
      "model_module": "@jupyter-widgets/controls",
      "model_module_version": "1.5.0",
      "model_name": "DescriptionStyleModel",
      "state": {
       "description_width": ""
      }
     },
     "a1c18d3a8bc841b89a58480fb5844da6": {
      "model_module": "@jupyter-widgets/base",
      "model_module_version": "1.2.0",
      "model_name": "LayoutModel",
      "state": {
       "width": "60px"
      }
     },
     "a1ebd769e59141f19e1b9893929c9c73": {
      "model_module": "@jupyter-widgets/base",
      "model_module_version": "1.2.0",
      "model_name": "LayoutModel",
      "state": {
       "display": "none"
      }
     },
     "a2066fe354dc486c98ec1f78b1836917": {
      "model_module": "@jupyter-widgets/controls",
      "model_module_version": "1.5.0",
      "model_name": "ButtonModel",
      "state": {
       "description": "EDIT",
       "layout": "IPY_MODEL_45d57d08ad914ce1a37fe657cf6fdb68",
       "style": "IPY_MODEL_5a27fdffe6454d09a23a0c3e166c520a"
      }
     },
     "a22da8ebf5d24d53842df7e9b6d28ada": {
      "model_module": "@jupyter-widgets/base",
      "model_module_version": "1.2.0",
      "model_name": "LayoutModel",
      "state": {
       "overflow": "visible",
       "width": "100%"
      }
     },
     "a25e84d1c43847bb9fa1896668b64f8b": {
      "model_module": "@jupyter-widgets/controls",
      "model_module_version": "1.5.0",
      "model_name": "ButtonStyleModel",
      "state": {}
     },
     "a2894b81286c42fcb9bc3c2118351762": {
      "model_module": "@jupyter-widgets/controls",
      "model_module_version": "1.5.0",
      "model_name": "ButtonModel",
      "state": {
       "layout": "IPY_MODEL_26ec5a1ced8a41aab034bf92e1795bf1",
       "style": "IPY_MODEL_d4c35181ac0a48e1a1cd7451871a9d7c"
      }
     },
     "a28d1c4be9e049d5aa45b9c95006abb9": {
      "model_module": "@jupyter-widgets/base",
      "model_module_version": "1.2.0",
      "model_name": "LayoutModel",
      "state": {}
     },
     "a29f51e42f284779a16acab01736d328": {
      "model_module": "@jupyter-widgets/base",
      "model_module_version": "1.2.0",
      "model_name": "LayoutModel",
      "state": {
       "height": "32px",
       "overflow": "visible",
       "width": "100%"
      }
     },
     "a29fa55aa7164558b2ef945000df68fe": {
      "model_module": "@jupyter-widgets/controls",
      "model_module_version": "1.5.0",
      "model_name": "HBoxModel",
      "state": {
       "children": [
        "IPY_MODEL_36e9c8fb2ce84a6eac033b326e941856",
        "IPY_MODEL_5609791cbec34dc68e00f23eb1ce487c",
        "IPY_MODEL_a0703801a8a14099bd9206dc87130699",
        "IPY_MODEL_078fdf386e3f4b4d92651e920ec3b02c"
       ],
       "layout": "IPY_MODEL_359dfd6f479f46fc996f69fd43ea1b81"
      }
     },
     "a2aa70928e4645ad8cb52a719db0d7c9": {
      "model_module": "@jupyter-widgets/controls",
      "model_module_version": "1.5.0",
      "model_name": "LabelModel",
      "state": {
       "layout": "IPY_MODEL_be2a0db229b84fd5af19a4d2bdadf050",
       "style": "IPY_MODEL_e2e49f4d1863401eb1f99544aed27f86",
       "value": "Power Weapon:"
      }
     },
     "a2c591606c4143c496dc8a1f9bf694d9": {
      "model_module": "@jupyter-widgets/controls",
      "model_module_version": "1.5.0",
      "model_name": "ButtonModel",
      "state": {
       "layout": "IPY_MODEL_805036298c6d4fcab2245c72d0ee70e2",
       "style": "IPY_MODEL_3b480477a5d148b5a82640554c722a1d"
      }
     },
     "a2c6fe39606d4d0393675961741a3184": {
      "model_module": "@jupyter-widgets/base",
      "model_module_version": "1.2.0",
      "model_name": "LayoutModel",
      "state": {
       "order": "-1",
       "overflow": "visible",
       "padding": "1px",
       "width": "0px"
      }
     },
     "a3235b34722f41b0a441d363502b8e77": {
      "model_module": "@jupyter-widgets/base",
      "model_module_version": "1.2.0",
      "model_name": "LayoutModel",
      "state": {
       "height": "32px",
       "overflow": "visible",
       "width": "100%"
      }
     },
     "a328dee797584265a8cab0afcbe4dea8": {
      "model_module": "@jupyter-widgets/base",
      "model_module_version": "1.2.0",
      "model_name": "LayoutModel",
      "state": {
       "height": "32px",
       "order": "-2",
       "width": "32px"
      }
     },
     "a336b1aef87e4bc59844c24e99f4fc61": {
      "model_module": "@jupyter-widgets/controls",
      "model_module_version": "1.5.0",
      "model_name": "IntProgressModel",
      "state": {
       "layout": "IPY_MODEL_baaa840318714a08899107df9273126f",
       "max": 1,
       "style": "IPY_MODEL_908e501b5bf34d9f9961f95b1b8c68e4"
      }
     },
     "a34ea21b7b6448b48c49fe438da116bd": {
      "model_module": "@jupyter-widgets/controls",
      "model_module_version": "1.5.0",
      "model_name": "ButtonModel",
      "state": {
       "description": "EDIT",
       "layout": "IPY_MODEL_ad9be684a88546d0bad21ea05078c89c",
       "style": "IPY_MODEL_df3a7d4c283f47788b56ae2c1aa5dd8d"
      }
     },
     "a3a6fb2eef7748e2b7fccfb9fee7c824": {
      "model_module": "@jupyter-widgets/controls",
      "model_module_version": "1.5.0",
      "model_name": "ButtonModel",
      "state": {
       "layout": "IPY_MODEL_3ea84cf731234799a020d3697ea99b58",
       "style": "IPY_MODEL_8469918b05054a1ab419e978836020cd"
      }
     },
     "a3f6f18aebb645f5821ce1be70c6d9f3": {
      "model_module": "@jupyter-widgets/controls",
      "model_module_version": "1.5.0",
      "model_name": "HBoxModel",
      "state": {
       "children": [
        "IPY_MODEL_69493610f6784924af6d780d574758fa",
        "IPY_MODEL_3d1df1ec214c44fdaf89707f52c7c57e",
        "IPY_MODEL_2910e072bd7c4cba96917c13d7e18bc0",
        "IPY_MODEL_8a318e95e5da4f9d96d145f407d38062"
       ],
       "layout": "IPY_MODEL_98450e3817744d869cbef9f65f06d7a3"
      }
     },
     "a419b3dc984843c5998fdf32aca7196f": {
      "model_module": "@jupyter-widgets/controls",
      "model_module_version": "1.5.0",
      "model_name": "ButtonStyleModel",
      "state": {}
     },
     "a41c9b4e5e794968a1cb4e748a34098d": {
      "model_module": "@jupyter-widgets/controls",
      "model_module_version": "1.5.0",
      "model_name": "DescriptionStyleModel",
      "state": {
       "description_width": ""
      }
     },
     "a4616d5a3ced4150b380c7f81f3e39c7": {
      "model_module": "@jupyter-widgets/base",
      "model_module_version": "1.2.0",
      "model_name": "LayoutModel",
      "state": {
       "height": "32px",
       "order": "-2",
       "width": "32px"
      }
     },
     "a49ae7ad7d584e80817325c4d9066565": {
      "model_module": "@jupyter-widgets/controls",
      "model_module_version": "1.5.0",
      "model_name": "HTMLModel",
      "state": {
       "layout": "IPY_MODEL_199138c231894b7cb7b524ca44895071",
       "style": "IPY_MODEL_6f1679c36e4e47a0bfbb753dd616b09d",
       "value": "<i>Complete the Coliseum Champion challenge.</i>"
      }
     },
     "a49de9732d5b4faa86a4e2c5b22b5ffe": {
      "model_module": "@jupyter-widgets/controls",
      "model_module_version": "1.5.0",
      "model_name": "LabelModel",
      "state": {
       "layout": "IPY_MODEL_0281927da21544c3913eae23a21267f6",
       "style": "IPY_MODEL_5c4a1b5b6b6a4da2b7056ed24617d5b7",
       "value": "    Bosses defeated (0/20)"
      }
     },
     "a4d5348546d946ca92633934842dfb4f": {
      "model_module": "@jupyter-widgets/controls",
      "model_module_version": "1.5.0",
      "model_name": "DropdownModel",
      "state": {
       "_options_labels": [
        "Any",
        "Arc",
        "Solar",
        "Void"
       ],
       "index": 0,
       "layout": "IPY_MODEL_155900e6730f4e259ae9cbcfdc979ed4",
       "style": "IPY_MODEL_e66a2734a0ff4cab81029f63cb674d42"
      }
     },
     "a4d742dd758e47a6b0548645a05bb3f5": {
      "model_module": "@jupyter-widgets/base",
      "model_module_version": "1.2.0",
      "model_name": "LayoutModel",
      "state": {
       "order": "-1",
       "overflow": "visible",
       "padding": "1px",
       "width": "0px"
      }
     },
     "a52cb4a7f8d241fa9216da0983115def": {
      "model_module": "@jupyter-widgets/base",
      "model_module_version": "1.2.0",
      "model_name": "LayoutModel",
      "state": {
       "height": "32px",
       "order": "-2",
       "width": "32px"
      }
     },
     "a56558b6f953472588bb6a1056f9f77f": {
      "model_module": "@jupyter-widgets/controls",
      "model_module_version": "1.5.0",
      "model_name": "DescriptionStyleModel",
      "state": {
       "description_width": ""
      }
     },
     "a5f2497f2fc74763988a1bdad07b0bc2": {
      "model_module": "@jupyter-widgets/controls",
      "model_module_version": "1.5.0",
      "model_name": "HBoxModel",
      "state": {
       "children": [
        "IPY_MODEL_4a946b33f1f54632ab2ae9532e5ded35",
        "IPY_MODEL_50f92ab0e13f4702ad7e54243ec997f4",
        "IPY_MODEL_5b554b19c126463e8d105766a768a485",
        "IPY_MODEL_1235fc51d2774d848b413d95091d8f04"
       ],
       "layout": "IPY_MODEL_5a82d466ada2422389a63d837bb8d7fa"
      }
     },
     "a5f6d45e4f824661b5456b0e8d51cb80": {
      "model_module": "@jupyter-widgets/controls",
      "model_module_version": "1.5.0",
      "model_name": "ProgressStyleModel",
      "state": {
       "description_width": ""
      }
     },
     "a61c9eb6cfae4184ac9db0771bfa8233": {
      "model_module": "@jupyter-widgets/base",
      "model_module_version": "1.2.0",
      "model_name": "LayoutModel",
      "state": {
       "overflow": "visible",
       "width": "100%"
      }
     },
     "a66f75b19d0d4ba6aa0abb8a85673769": {
      "model_module": "@jupyter-widgets/base",
      "model_module_version": "1.2.0",
      "model_name": "LayoutModel",
      "state": {
       "height": "32px",
       "overflow": "visible",
       "width": "100%"
      }
     },
     "a6797d93251643fdb5ca36d3c0d788bd": {
      "model_module": "@jupyter-widgets/base",
      "model_module_version": "1.2.0",
      "model_name": "LayoutModel",
      "state": {
       "width": "60px"
      }
     },
     "a69286ec3616463f83bedcd69f5e7514": {
      "model_module": "@jupyter-widgets/controls",
      "model_module_version": "1.5.0",
      "model_name": "IntProgressModel",
      "state": {
       "layout": "IPY_MODEL_17e6195166ff457bb484d94b03aeb89a",
       "style": "IPY_MODEL_1852d3c711a74fb2bf93b83045cae2df",
       "value": 30
      }
     },
     "a6cbe1e31a83447190f5dd8c344006ec": {
      "model_module": "@jupyter-widgets/controls",
      "model_module_version": "1.5.0",
      "model_name": "ButtonModel",
      "state": {
       "layout": "IPY_MODEL_a97aea19b0bc45ffa17cfca71bb05696",
       "style": "IPY_MODEL_f86af7f68491412c86856ed74639991f"
      }
     },
     "a6d9f3868900482fbc217f48a6c5633c": {
      "model_module": "@jupyter-widgets/controls",
      "model_module_version": "1.5.0",
      "model_name": "ButtonStyleModel",
      "state": {}
     },
     "a74ba11d244a4403aa1b9d135e74a7a4": {
      "model_module": "@jupyter-widgets/controls",
      "model_module_version": "1.5.0",
      "model_name": "ButtonModel",
      "state": {
       "description": "EDIT",
       "layout": "IPY_MODEL_1a5bb20f5490487da5fac6978752ab36",
       "style": "IPY_MODEL_a0f231a836fe41ea89e5f174a58e9e65"
      }
     },
     "a752727c940d47a995014d99c3a18355": {
      "model_module": "@jupyter-widgets/controls",
      "model_module_version": "1.5.0",
      "model_name": "DescriptionStyleModel",
      "state": {
       "description_width": ""
      }
     },
     "a75ab8cae9554ee5a0f863ec24797226": {
      "model_module": "@jupyter-widgets/controls",
      "model_module_version": "1.5.0",
      "model_name": "ButtonModel",
      "state": {
       "layout": "IPY_MODEL_fa1dcc0f1c0643cea5e739f5dc475fce",
       "style": "IPY_MODEL_c04b7655db9741869482ba1a3fdededb"
      }
     },
     "a75ea66a89ff48e6983776aa7b609a27": {
      "model_module": "@jupyter-widgets/controls",
      "model_module_version": "1.5.0",
      "model_name": "LabelModel",
      "state": {
       "layout": "IPY_MODEL_d922de65f37e4089978c0619c12b07d6",
       "style": "IPY_MODEL_76c63b77f1e343f1863dae2737a6280c",
       "value": "    Enemies killed (177/500)"
      }
     },
     "a779419de53042d980fdf07ce63ff19c": {
      "model_module": "@jupyter-widgets/controls",
      "model_module_version": "1.5.0",
      "model_name": "DescriptionStyleModel",
      "state": {
       "description_width": ""
      }
     },
     "a782e275550d4c5482d650ef87cd5ac1": {
      "model_module": "@jupyter-widgets/base",
      "model_module_version": "1.2.0",
      "model_name": "LayoutModel",
      "state": {
       "height": "32px",
       "overflow": "visible",
       "width": "100%"
      }
     },
     "a7e337314d5b4bbc8528c9577f45d664": {
      "model_module": "@jupyter-widgets/base",
      "model_module_version": "1.2.0",
      "model_name": "LayoutModel",
      "state": {
       "height": "32px",
       "order": "-2",
       "width": "32px"
      }
     },
     "a80ddbcd16ec472cb302cfc8c6ecb712": {
      "model_module": "@jupyter-widgets/controls",
      "model_module_version": "1.5.0",
      "model_name": "IntProgressModel",
      "state": {
       "layout": "IPY_MODEL_1c51cf5b678944cd8a3e5e72ebdf158b",
       "style": "IPY_MODEL_45dca17c20d24c20a6cca3ae8fed963a",
       "value": 30
      }
     },
     "a818e0b599e846d58ac0bb4d91df677a": {
      "model_module": "@jupyter-widgets/controls",
      "model_module_version": "1.5.0",
      "model_name": "ButtonModel",
      "state": {
       "description": "EDIT",
       "layout": "IPY_MODEL_706874d455a34641bb4b296ae4bf3e7e",
       "style": "IPY_MODEL_f743579b3327429fa1f2ef4aa54a4999"
      }
     },
     "a8774b400f704af8b1da9a1145f106f3": {
      "model_module": "@jupyter-widgets/controls",
      "model_module_version": "1.5.0",
      "model_name": "HBoxModel",
      "state": {
       "children": [
        "IPY_MODEL_a2894b81286c42fcb9bc3c2118351762",
        "IPY_MODEL_3b5153e4439c4ce899e6dc5e7e5b4a3a",
        "IPY_MODEL_9a9d2d63a6ea400c8e1ca934413e2667",
        "IPY_MODEL_74f570c23d5743bf90dfff68dceb9c69"
       ],
       "layout": "IPY_MODEL_623908d13d194eb09daf0aa68b3afea9"
      }
     },
     "a87a132cd1cd4aad85532fac1ec01b34": {
      "model_module": "@jupyter-widgets/controls",
      "model_module_version": "1.5.0",
      "model_name": "ProgressStyleModel",
      "state": {
       "description_width": ""
      }
     },
     "a92532fc611744fdbf2d61091865ca3e": {
      "model_module": "@jupyter-widgets/controls",
      "model_module_version": "1.5.0",
      "model_name": "ProgressStyleModel",
      "state": {
       "description_width": ""
      }
     },
     "a92c087ab11649f68e25d5a496df928a": {
      "model_module": "@jupyter-widgets/controls",
      "model_module_version": "1.5.0",
      "model_name": "ButtonModel",
      "state": {
       "layout": "IPY_MODEL_6948b366c43043b1bf624fc7832c2a67",
       "style": "IPY_MODEL_87455a7e251f4db3b2963b609dcdec04"
      }
     },
     "a943c8443eae4115ab0d8a07a7ceec7b": {
      "model_module": "@jupyter-widgets/controls",
      "model_module_version": "1.5.0",
      "model_name": "ButtonStyleModel",
      "state": {}
     },
     "a97944a0534644d7ad4d7f4ab157a0b8": {
      "model_module": "@jupyter-widgets/controls",
      "model_module_version": "1.5.0",
      "model_name": "ButtonStyleModel",
      "state": {}
     },
     "a97aea19b0bc45ffa17cfca71bb05696": {
      "model_module": "@jupyter-widgets/base",
      "model_module_version": "1.2.0",
      "model_name": "LayoutModel",
      "state": {
       "height": "32px",
       "order": "-2",
       "width": "32px"
      }
     },
     "a9b604a8532c4f82b7da1226592d1505": {
      "model_module": "@jupyter-widgets/base",
      "model_module_version": "1.2.0",
      "model_name": "LayoutModel",
      "state": {
       "height": "32px",
       "overflow": "visible",
       "width": "100%"
      }
     },
     "a9be253a625c4cefa1ad6cfdbc71ab36": {
      "model_module": "@jupyter-widgets/controls",
      "model_module_version": "1.5.0",
      "model_name": "IntProgressModel",
      "state": {
       "layout": "IPY_MODEL_55d4436b0bc146ea94d583363c7dc021",
       "style": "IPY_MODEL_2f475a07ad0d479ca0eb99a17db722c5",
       "value": 30
      }
     },
     "a9d35a1c322e46af8df08c80683ae798": {
      "model_module": "@jupyter-widgets/controls",
      "model_module_version": "1.5.0",
      "model_name": "ButtonModel",
      "state": {
       "layout": "IPY_MODEL_8535f654b43b4aa4a8a48d91bad14791",
       "style": "IPY_MODEL_55cf0df00f3a4c558d7a83983a78ae5d"
      }
     },
     "a9ecd87743a24a9aa18bbcd1fa955a10": {
      "model_module": "@jupyter-widgets/base",
      "model_module_version": "1.2.0",
      "model_name": "LayoutModel",
      "state": {
       "order": "-1",
       "overflow": "visible",
       "padding": "1px",
       "width": "0px"
      }
     },
     "aa62595616ea4485a3069a55921fa5af": {
      "model_module": "@jupyter-widgets/controls",
      "model_module_version": "1.5.0",
      "model_name": "HBoxModel",
      "state": {
       "children": [
        "IPY_MODEL_a9d35a1c322e46af8df08c80683ae798",
        "IPY_MODEL_24f1bfccbc03498586a594faafea418c",
        "IPY_MODEL_224430b473234a51a487e82ac7793a0d",
        "IPY_MODEL_658d392d4dd04cb5b6265b281c5a1671"
       ],
       "layout": "IPY_MODEL_35886dc4f2064b948d6eff6e6037947b"
      }
     },
     "aa8607ea9f5c4e77bb79bd6050d56c58": {
      "model_module": "@jupyter-widgets/base",
      "model_module_version": "1.2.0",
      "model_name": "LayoutModel",
      "state": {
       "height": "32px",
       "overflow": "visible",
       "width": "100%"
      }
     },
     "aaf76eee0f6a4b15b605c6ad378295df": {
      "model_module": "@jupyter-widgets/controls",
      "model_module_version": "1.5.0",
      "model_name": "ButtonModel",
      "state": {
       "description": "EDIT",
       "layout": "IPY_MODEL_96307a7dc14c43b7a96bdb6ab6d94aac",
       "style": "IPY_MODEL_9db45ce5db81423e8b64cfdfe6683494"
      }
     },
     "ab38cdf223ae497ea5b092064b2034e5": {
      "model_module": "@jupyter-widgets/base",
      "model_module_version": "1.2.0",
      "model_name": "LayoutModel",
      "state": {
       "order": "-1",
       "overflow": "visible",
       "padding": "1px",
       "width": "0px"
      }
     },
     "ab5576a206e5461a94874ae27d1b2247": {
      "model_module": "@jupyter-widgets/controls",
      "model_module_version": "1.5.0",
      "model_name": "LabelModel",
      "state": {
       "layout": "IPY_MODEL_2889db9a016e49edb36f5163640947f1",
       "style": "IPY_MODEL_6dcf796a15f747979f9bb4401efdb97c",
       "value": "   objective"
      }
     },
     "ab971b316d8c463bb7208365a023dcbc": {
      "model_module": "@jupyter-widgets/base",
      "model_module_version": "1.2.0",
      "model_name": "LayoutModel",
      "state": {
       "display": "none"
      }
     },
     "ab996c22a9324aec99b5b17fbed64584": {
      "model_module": "@jupyter-widgets/controls",
      "model_module_version": "1.5.0",
      "model_name": "ButtonStyleModel",
      "state": {}
     },
     "ab9b9685eda04782bf18fa4f3309143f": {
      "model_module": "@jupyter-widgets/controls",
      "model_module_version": "1.5.0",
      "model_name": "ButtonModel",
      "state": {
       "description": "EDIT",
       "layout": "IPY_MODEL_63d6348f03d141d28a6383032b586812",
       "style": "IPY_MODEL_8f7018254dc945c2ba509057ec108c3d"
      }
     },
     "abae326e3add48e88814e5883637b9c1": {
      "model_module": "@jupyter-widgets/controls",
      "model_module_version": "1.5.0",
      "model_name": "IntProgressModel",
      "state": {
       "layout": "IPY_MODEL_3d6eb48177ff4fbea7645d35f4fe5613",
       "style": "IPY_MODEL_bc2a727b26fe4e188fda0e33549e723d",
       "value": 30
      }
     },
     "abd5ce542b6f47e89b95468c1f808701": {
      "model_module": "@jupyter-widgets/base",
      "model_module_version": "1.2.0",
      "model_name": "LayoutModel",
      "state": {
       "order": "-1",
       "overflow": "visible",
       "padding": "1px",
       "width": "0px"
      }
     },
     "abedc72464224ca48654c152673de46f": {
      "model_module": "@jupyter-widgets/controls",
      "model_module_version": "1.5.0",
      "model_name": "VBoxModel",
      "state": {
       "children": [
        "IPY_MODEL_38c6fdf8a5ff4281ab2ce4b3b00acdd5",
        "IPY_MODEL_d8dea5cf8d0d47efba83d3631b79f88a",
        "IPY_MODEL_813c46d7e05944358fe163c1e8fce150",
        "IPY_MODEL_384511066148434b93c52b92cbf839bf"
       ],
       "layout": "IPY_MODEL_9b68660446d64a80b9498ede88dbcd82"
      }
     },
     "ac0cfd8d919641548b18ae2046412380": {
      "model_module": "@jupyter-widgets/base",
      "model_module_version": "1.2.0",
      "model_name": "LayoutModel",
      "state": {
       "display": "none"
      }
     },
     "ac4b714e337c4d069a298fd1af9a9b9d": {
      "model_module": "@jupyter-widgets/controls",
      "model_module_version": "1.5.0",
      "model_name": "ButtonStyleModel",
      "state": {}
     },
     "ac5c6e6afe86413fad5f2d9090951017": {
      "model_module": "@jupyter-widgets/controls",
      "model_module_version": "1.5.0",
      "model_name": "ButtonModel",
      "state": {
       "description": "EDIT",
       "layout": "IPY_MODEL_adac59e598ca47d1958be74412001719",
       "style": "IPY_MODEL_0900321284da442582069721db8182b7"
      }
     },
     "acb858d49b334b5fb60572577ec55a83": {
      "model_module": "@jupyter-widgets/base",
      "model_module_version": "1.2.0",
      "model_name": "LayoutModel",
      "state": {
       "height": "32px",
       "order": "-2",
       "width": "32px"
      }
     },
     "ace1b462fd39478cab154f4f544394ed": {
      "model_module": "@jupyter-widgets/controls",
      "model_module_version": "1.5.0",
      "model_name": "VBoxModel",
      "state": {
       "children": [
        "IPY_MODEL_755e37bdec574eb0904216b48a6afaa0",
        "IPY_MODEL_dd5c31e04d1747feb5edc9a5d06c0ad0",
        "IPY_MODEL_b63d1e9d3d2b4712b5737827e627c433"
       ],
       "layout": "IPY_MODEL_75c0511fe0ef419981a8f3d1a4b43bd7"
      }
     },
     "ad9be684a88546d0bad21ea05078c89c": {
      "model_module": "@jupyter-widgets/base",
      "model_module_version": "1.2.0",
      "model_name": "LayoutModel",
      "state": {
       "width": "60px"
      }
     },
     "adac59e598ca47d1958be74412001719": {
      "model_module": "@jupyter-widgets/base",
      "model_module_version": "1.2.0",
      "model_name": "LayoutModel",
      "state": {
       "width": "60px"
      }
     },
     "adbd58f70a46452fb2c308e6eea1494b": {
      "model_module": "@jupyter-widgets/controls",
      "model_module_version": "1.5.0",
      "model_name": "ButtonModel",
      "state": {
       "layout": "IPY_MODEL_857035a0ff52497a87c6edfc52e2d8c6",
       "style": "IPY_MODEL_98e8b74d80cf4de2a90bc43821be9bc1"
      }
     },
     "ade7d6412cb7486380774bd366400e35": {
      "model_module": "@jupyter-widgets/controls",
      "model_module_version": "1.5.0",
      "model_name": "ButtonStyleModel",
      "state": {}
     },
     "ae29f1454dbd422cb527c94d9fd2904c": {
      "model_module": "@jupyter-widgets/base",
      "model_module_version": "1.2.0",
      "model_name": "LayoutModel",
      "state": {
       "width": "60px"
      }
     },
     "ae33782b070847ed9fbed86a1ee883a8": {
      "model_module": "@jupyter-widgets/controls",
      "model_module_version": "1.5.0",
      "model_name": "ProgressStyleModel",
      "state": {
       "description_width": ""
      }
     },
     "ae46490fa1ae4f019335d792a0345215": {
      "model_module": "@jupyter-widgets/controls",
      "model_module_version": "1.5.0",
      "model_name": "ButtonStyleModel",
      "state": {}
     },
     "ae47ffd8cf3b411fb91ccdeea6a32f61": {
      "model_module": "@jupyter-widgets/base",
      "model_module_version": "1.2.0",
      "model_name": "LayoutModel",
      "state": {
       "display": "flex"
      }
     },
     "ae6be18ad64c4c279cfd25f9cdd583cf": {
      "model_module": "@jupyter-widgets/base",
      "model_module_version": "1.2.0",
      "model_name": "LayoutModel",
      "state": {
       "border": "3px solid white",
       "display": "flex",
       "flex": "1 1 0%",
       "margin": "10px",
       "min_width": "400px",
       "overflow": "visible",
       "padding": "10px",
       "width": "auto"
      }
     },
     "ae7960af0a6a42299aae03f995a113ba": {
      "model_module": "@jupyter-widgets/base",
      "model_module_version": "1.2.0",
      "model_name": "LayoutModel",
      "state": {
       "order": "-1",
       "overflow": "visible",
       "padding": "1px",
       "width": "0px"
      }
     },
     "ae8a62cfe65c443ebb6798cce1cd5c65": {
      "model_module": "@jupyter-widgets/controls",
      "model_module_version": "1.5.0",
      "model_name": "ButtonStyleModel",
      "state": {}
     },
     "af0c72bf514542f9ab26860144de9247": {
      "model_module": "@jupyter-widgets/base",
      "model_module_version": "1.2.0",
      "model_name": "LayoutModel",
      "state": {
       "height": "32px",
       "overflow": "visible",
       "width": "100%"
      }
     },
     "afb601152dec4787a2fb5ca1a3bbc1ac": {
      "model_module": "@jupyter-widgets/controls",
      "model_module_version": "1.5.0",
      "model_name": "DescriptionStyleModel",
      "state": {
       "description_width": ""
      }
     },
     "aff47f6a47024fa78839bf81ce7dcfbc": {
      "model_module": "@jupyter-widgets/base",
      "model_module_version": "1.2.0",
      "model_name": "LayoutModel",
      "state": {
       "width": "60px"
      }
     },
     "b02aa94a477c4601bc18746d79a58c17": {
      "model_module": "@jupyter-widgets/controls",
      "model_module_version": "1.5.0",
      "model_name": "VBoxModel",
      "state": {
       "children": [
        "IPY_MODEL_177c108d6527470a8622685c3554907b",
        "IPY_MODEL_6672e3ac60704168bf2860249eaa1b2a",
        "IPY_MODEL_7b2dfd7961974b1a8abc5d641e65bf97",
        "IPY_MODEL_3e25207260484048a94e4e7e21c89752",
        "IPY_MODEL_d219b6a5dee144a08667728dfdf68f50",
        "IPY_MODEL_0d48c726408b4cac9c93c5ba85737c45"
       ],
       "layout": "IPY_MODEL_3c8699f4ab524f32b7f4dfdfbb7a2404"
      }
     },
     "b05ed14f96174c72b8e71d68670fbb0b": {
      "model_module": "@jupyter-widgets/base",
      "model_module_version": "1.2.0",
      "model_name": "LayoutModel",
      "state": {
       "display": "none"
      }
     },
     "b07d8cdd47144658a1b5acbe903e4f26": {
      "model_module": "@jupyter-widgets/controls",
      "model_module_version": "1.5.0",
      "model_name": "ButtonStyleModel",
      "state": {}
     },
     "b0d7c3f56a4b4f7e9bf6838cab184b7f": {
      "model_module": "@jupyter-widgets/controls",
      "model_module_version": "1.5.0",
      "model_name": "ButtonStyleModel",
      "state": {}
     },
     "b0f06592e5324e35b3b377381903e446": {
      "model_module": "@jupyter-widgets/controls",
      "model_module_version": "1.5.0",
      "model_name": "DescriptionStyleModel",
      "state": {
       "description_width": ""
      }
     },
     "b15cebc648584c3fa93acbd97ade1f7e": {
      "model_module": "@jupyter-widgets/base",
      "model_module_version": "1.2.0",
      "model_name": "LayoutModel",
      "state": {}
     },
     "b1a06eef671849baa56d617255c51f7d": {
      "model_module": "@jupyter-widgets/base",
      "model_module_version": "1.2.0",
      "model_name": "LayoutModel",
      "state": {}
     },
     "b1b2b3a3367e4e3bb7cb0f23f041dcdd": {
      "model_module": "@jupyter-widgets/base",
      "model_module_version": "1.2.0",
      "model_name": "LayoutModel",
      "state": {}
     },
     "b1c8d40f02664de5904db5295e8a44cb": {
      "model_module": "@jupyter-widgets/controls",
      "model_module_version": "1.5.0",
      "model_name": "IntProgressModel",
      "state": {
       "layout": "IPY_MODEL_8766ae29900d469cb96a991793bc9ca9",
       "style": "IPY_MODEL_149da2969e1047e89e50ed800e079191",
       "value": 30
      }
     },
     "b296b1211ba347ed896cf6fa19aa8a2b": {
      "model_module": "@jupyter-widgets/controls",
      "model_module_version": "1.5.0",
      "model_name": "ButtonStyleModel",
      "state": {}
     },
     "b2fefcd13eba47e1809bfd960d2d6532": {
      "model_module": "@jupyter-widgets/controls",
      "model_module_version": "1.5.0",
      "model_name": "ButtonStyleModel",
      "state": {}
     },
     "b319d05ba2954210a6f4f3c011368f9a": {
      "model_module": "@jupyter-widgets/controls",
      "model_module_version": "1.5.0",
      "model_name": "IntProgressModel",
      "state": {
       "layout": "IPY_MODEL_2273d6d6e9ac40b5a63a54f829901cd4",
       "style": "IPY_MODEL_f904d5ae5fbe4e37bcc13ab9eb917e00",
       "value": 30
      }
     },
     "b346fbec1fde48998ff7a16c5ca932bf": {
      "model_module": "@jupyter-widgets/controls",
      "model_module_version": "1.5.0",
      "model_name": "ButtonStyleModel",
      "state": {}
     },
     "b3750c5dcd0b4308a40574a4f8788d60": {
      "model_module": "@jupyter-widgets/base",
      "model_module_version": "1.2.0",
      "model_name": "LayoutModel",
      "state": {
       "display": "none"
      }
     },
     "b3869964107c49a3b92235275426b279": {
      "model_module": "@jupyter-widgets/controls",
      "model_module_version": "1.5.0",
      "model_name": "ButtonModel",
      "state": {
       "description": "EDIT",
       "layout": "IPY_MODEL_5f4c06bb921441f8bc600a3fd640dead",
       "style": "IPY_MODEL_7f010c760f1a4a279a8e0ee144ebb1ff"
      }
     },
     "b39c106deb2d4b82aebbd680a3686655": {
      "model_module": "@jupyter-widgets/base",
      "model_module_version": "1.2.0",
      "model_name": "LayoutModel",
      "state": {
       "display": "flex",
       "flex_flow": "row wrap"
      }
     },
     "b3f66503bdb14981b83b948600a3c180": {
      "model_module": "@jupyter-widgets/base",
      "model_module_version": "1.2.0",
      "model_name": "LayoutModel",
      "state": {
       "order": "-1",
       "overflow": "visible",
       "padding": "1px",
       "width": "0px"
      }
     },
     "b41753f6a22b413ab7ca23f70b4633ba": {
      "model_module": "@jupyter-widgets/base",
      "model_module_version": "1.2.0",
      "model_name": "LayoutModel",
      "state": {
       "overflow": "visible",
       "width": "100%"
      }
     },
     "b44d2bce593c4fcf883d4be74cb1fb69": {
      "model_module": "@jupyter-widgets/controls",
      "model_module_version": "1.5.0",
      "model_name": "ButtonStyleModel",
      "state": {}
     },
     "b47800887529411ea9fa2dd84e7a9e1a": {
      "model_module": "@jupyter-widgets/controls",
      "model_module_version": "1.5.0",
      "model_name": "ButtonStyleModel",
      "state": {}
     },
     "b4e0e545a45c4040a91af3e711df1c24": {
      "model_module": "@jupyter-widgets/controls",
      "model_module_version": "1.5.0",
      "model_name": "ButtonModel",
      "state": {
       "description": "Previous",
       "disabled": true,
       "layout": "IPY_MODEL_0b78e292741444c199171100b22b5a2b",
       "style": "IPY_MODEL_7d541b86e1344528bbec6259ddaebdb4"
      }
     },
     "b4e44bedcae645d68778588ad0741919": {
      "model_module": "@jupyter-widgets/base",
      "model_module_version": "1.2.0",
      "model_name": "LayoutModel",
      "state": {
       "height": "32px",
       "order": "-2",
       "width": "32px"
      }
     },
     "b506c2c4621c4000b5f4d65f0b7c489f": {
      "model_module": "@jupyter-widgets/base",
      "model_module_version": "1.2.0",
      "model_name": "LayoutModel",
      "state": {
       "order": "-1",
       "overflow": "visible",
       "padding": "1px",
       "width": "0px"
      }
     },
     "b5268b4129a444a39e817754483d64bf": {
      "model_module": "@jupyter-widgets/controls",
      "model_module_version": "1.5.0",
      "model_name": "HBoxModel",
      "state": {
       "children": [
        "IPY_MODEL_00c27e2e45804ad08eb99ac1d09c86b3",
        "IPY_MODEL_5238c9c009fc4c53a8d8faf30ba75e29",
        "IPY_MODEL_193da74315af497f843908a3d67515c8",
        "IPY_MODEL_ba3ba7e35f6f4e6cae67a3b138b38301"
       ],
       "layout": "IPY_MODEL_2ec05c38a4954a83806990a5cc638bae"
      }
     },
     "b5fd276fa5844988adabc4c9e6a9237c": {
      "model_module": "@jupyter-widgets/controls",
      "model_module_version": "1.5.0",
      "model_name": "HBoxModel",
      "state": {
       "children": [
        "IPY_MODEL_2d8f8f3cee424af89c57df358515da16",
        "IPY_MODEL_c9f26795e1dd4d8db29d8ca23f568c89",
        "IPY_MODEL_0229f8ec90054689924689719311311f",
        "IPY_MODEL_62491210dac7447b8a573cbb5c127c59"
       ],
       "layout": "IPY_MODEL_b05ed14f96174c72b8e71d68670fbb0b"
      }
     },
     "b6103abbbb2b441fbfd90eec8133fdfc": {
      "model_module": "@jupyter-widgets/base",
      "model_module_version": "1.2.0",
      "model_name": "LayoutModel",
      "state": {
       "order": "-1",
       "overflow": "visible",
       "padding": "1px",
       "width": "0px"
      }
     },
     "b63d1e9d3d2b4712b5737827e627c433": {
      "model_module": "@jupyter-widgets/controls",
      "model_module_version": "1.5.0",
      "model_name": "DropdownModel",
      "state": {
       "_options_labels": [
        "Any",
        "Clash",
        "Control",
        "Showdown",
        "Mayhem",
        "Breakthrough",
        "Lockdown",
        "Rumble",
        "Supremacy",
        "Doubles",
        "Scorched",
        "Countdown",
        "Survival",
        "Iron Banner"
       ],
       "disabled": true,
       "index": 12,
       "layout": "IPY_MODEL_17fdb3e950e146528895e66cb117b2a0",
       "style": "IPY_MODEL_dd04c995a69c46d499b549cdf4f20c86"
      }
     },
     "b65bdc059bc8486fb179e679b4eb9e50": {
      "model_module": "@jupyter-widgets/controls",
      "model_module_version": "1.5.0",
      "model_name": "DescriptionStyleModel",
      "state": {
       "description_width": ""
      }
     },
     "b684749a6b814e188a7568ea93b0b8a6": {
      "model_module": "@jupyter-widgets/base",
      "model_module_version": "1.2.0",
      "model_name": "LayoutModel",
      "state": {
       "display": "flex",
       "flex_flow": "row wrap"
      }
     },
     "b688dd9f72414bd7a3f45ac5af09c023": {
      "model_module": "@jupyter-widgets/base",
      "model_module_version": "1.2.0",
      "model_name": "LayoutModel",
      "state": {}
     },
     "b6ab7bb65eb949df9af2b14806bf0ce5": {
      "model_module": "@jupyter-widgets/controls",
      "model_module_version": "1.5.0",
      "model_name": "ButtonModel",
      "state": {
       "description": "EDIT",
       "layout": "IPY_MODEL_5aaab4954d88476088548592d0a0126a",
       "style": "IPY_MODEL_50d7fab82a3f4d90b0efd283965b1a5d"
      }
     },
     "b6b7c7fb8e7a4840a88b5e2d5997de80": {
      "model_module": "@jupyter-widgets/base",
      "model_module_version": "1.2.0",
      "model_name": "LayoutModel",
      "state": {
       "height": "32px",
       "overflow": "visible",
       "width": "100%"
      }
     },
     "b6d28d791c64410b8129393117695d58": {
      "model_module": "@jupyter-widgets/base",
      "model_module_version": "1.2.0",
      "model_name": "LayoutModel",
      "state": {
       "height": "32px",
       "order": "-2",
       "width": "32px"
      }
     },
     "b74554b04d844edb8c9c8a4f481325a5": {
      "model_module": "@jupyter-widgets/controls",
      "model_module_version": "1.5.0",
      "model_name": "ButtonModel",
      "state": {
       "layout": "IPY_MODEL_3bf4f7c60a02466087a8b021a3f17451",
       "style": "IPY_MODEL_47e4684722524714976648517a775e66"
      }
     },
     "b74c7a9f42514b37a3bbf23c10af27a6": {
      "model_module": "@jupyter-widgets/controls",
      "model_module_version": "1.5.0",
      "model_name": "ProgressStyleModel",
      "state": {
       "description_width": ""
      }
     },
     "b755104b7b3e497bbe3979d734fb0764": {
      "model_module": "@jupyter-widgets/controls",
      "model_module_version": "1.5.0",
      "model_name": "HBoxModel",
      "state": {
       "children": [
        "IPY_MODEL_4b30ec46ec724e7c9685cef0ec753ed9",
        "IPY_MODEL_e221a3145d564b168e2873c437f53605",
        "IPY_MODEL_d18c2971733f4ef9a2cb172cfcc019b3",
        "IPY_MODEL_072426ba5a9b40e5a4e44064bdff79dc"
       ],
       "layout": "IPY_MODEL_8175616311054ae98da91402033f1152"
      }
     },
     "b773b494fddf49c5a57e254c21608b21": {
      "model_module": "@jupyter-widgets/controls",
      "model_module_version": "1.5.0",
      "model_name": "DescriptionStyleModel",
      "state": {
       "description_width": ""
      }
     },
     "b7892aacfb654ad1b5932ef6d6353036": {
      "model_module": "@jupyter-widgets/base",
      "model_module_version": "1.2.0",
      "model_name": "LayoutModel",
      "state": {
       "display": "none"
      }
     },
     "b7907f4423e04bec86b03d3e3a12ff5e": {
      "model_module": "@jupyter-widgets/base",
      "model_module_version": "1.2.0",
      "model_name": "LayoutModel",
      "state": {
       "height": "32px",
       "overflow": "visible",
       "width": "100%"
      }
     },
     "b7a2fc4173994e3abd8ae1a69c88e85d": {
      "model_module": "@jupyter-widgets/controls",
      "model_module_version": "1.5.0",
      "model_name": "ProgressStyleModel",
      "state": {
       "description_width": ""
      }
     },
     "b7a3584775554b4a924163ead8d8d64d": {
      "model_module": "@jupyter-widgets/controls",
      "model_module_version": "1.5.0",
      "model_name": "LabelModel",
      "state": {
       "layout": "IPY_MODEL_472eacc8849a41a490cd2124543f1ab4",
       "style": "IPY_MODEL_b65bdc059bc8486fb179e679b4eb9e50",
       "value": "   objective"
      }
     },
     "b7ab9e9ac72a4730946d2a1644db4f72": {
      "model_module": "@jupyter-widgets/base",
      "model_module_version": "1.2.0",
      "model_name": "LayoutModel",
      "state": {
       "width": "60px"
      }
     },
     "b812c570d44748eb8e138a991c64c542": {
      "model_module": "@jupyter-widgets/controls",
      "model_module_version": "1.5.0",
      "model_name": "ButtonStyleModel",
      "state": {}
     },
     "b81e9c7d768c4818814378ac24c6206a": {
      "model_module": "@jupyter-widgets/controls",
      "model_module_version": "1.5.0",
      "model_name": "ButtonModel",
      "state": {
       "layout": "IPY_MODEL_60df9496fbba4067b424850f941e7ae2",
       "style": "IPY_MODEL_9f10c950c4dd434788c38041f3c5467f"
      }
     },
     "b828e942b2eb45abaacfc4c57bb33c31": {
      "model_module": "@jupyter-widgets/controls",
      "model_module_version": "1.5.0",
      "model_name": "HBoxModel",
      "state": {
       "children": [
        "IPY_MODEL_740cd00926544c21a446e29ffb03868a",
        "IPY_MODEL_a80ddbcd16ec472cb302cfc8c6ecb712",
        "IPY_MODEL_e80cbe20210d476fa49c2ce376d06ce1",
        "IPY_MODEL_7cac87c67d8b41f48f76a484f345bc06"
       ],
       "layout": "IPY_MODEL_ec0e1e3c0ba645599ab0cc9a284b1ce3"
      }
     },
     "b8850a2d3d824f7090ff39ede9f24ebc": {
      "model_module": "@jupyter-widgets/controls",
      "model_module_version": "1.5.0",
      "model_name": "ProgressStyleModel",
      "state": {
       "description_width": ""
      }
     },
     "b8c2c243ac8842e3ae84eb850c226d8c": {
      "model_module": "@jupyter-widgets/controls",
      "model_module_version": "1.5.0",
      "model_name": "LabelModel",
      "state": {
       "layout": "IPY_MODEL_5df6b0fded7b4ae197b0c6d7aec200db",
       "style": "IPY_MODEL_c0e95b09ccb24ff1916455f5b22afef8",
       "value": "   objective"
      }
     },
     "b8f822e6c9b74e96ae4c71b93b24ec39": {
      "model_module": "@jupyter-widgets/base",
      "model_module_version": "1.2.0",
      "model_name": "LayoutModel",
      "state": {
       "width": "60px"
      }
     },
     "b90ae59aa0a049f0ac960f43c1fe19b1": {
      "model_module": "@jupyter-widgets/controls",
      "model_module_version": "1.5.0",
      "model_name": "ButtonStyleModel",
      "state": {}
     },
     "b90b3f1fb49b4160990cf100e35dc43e": {
      "model_module": "@jupyter-widgets/controls",
      "model_module_version": "1.5.0",
      "model_name": "ButtonStyleModel",
      "state": {}
     },
     "b9258130facd4e5bb76386a6d04e5ce2": {
      "model_module": "@jupyter-widgets/controls",
      "model_module_version": "1.5.0",
      "model_name": "HBoxModel",
      "state": {
       "children": [
        "IPY_MODEL_78252a495bb247f39604f4870184f4c5",
        "IPY_MODEL_b1c8d40f02664de5904db5295e8a44cb",
        "IPY_MODEL_5f67af7bc862414187a9d593cfff2c0d",
        "IPY_MODEL_22b75ae1edc8447f903711e17e41e5c5"
       ],
       "layout": "IPY_MODEL_165338139df44d0f8b6852eb2f759f2d"
      }
     },
     "ba0b25d661b04cafbc421261d38a42c2": {
      "model_module": "@jupyter-widgets/base",
      "model_module_version": "1.2.0",
      "model_name": "LayoutModel",
      "state": {
       "height": "32px",
       "overflow": "visible",
       "width": "100%"
      }
     },
     "ba0ecff2705b4fae9a92e4f8b769154c": {
      "model_module": "@jupyter-widgets/controls",
      "model_module_version": "1.5.0",
      "model_name": "DescriptionStyleModel",
      "state": {
       "description_width": ""
      }
     },
     "ba166a42af6940f8a2052c4c7b55cf82": {
      "model_module": "@jupyter-widgets/base",
      "model_module_version": "1.2.0",
      "model_name": "LayoutModel",
      "state": {
       "height": "32px",
       "overflow": "visible",
       "width": "100%"
      }
     },
     "ba25bcd5f3ba41f39184aae5df2172c6": {
      "model_module": "@jupyter-widgets/controls",
      "model_module_version": "1.5.0",
      "model_name": "ButtonStyleModel",
      "state": {}
     },
     "ba3ba7e35f6f4e6cae67a3b138b38301": {
      "model_module": "@jupyter-widgets/controls",
      "model_module_version": "1.5.0",
      "model_name": "ButtonModel",
      "state": {
       "description": "EDIT",
       "layout": "IPY_MODEL_f35c1a664e5740c08109c924ae38c476",
       "style": "IPY_MODEL_111781b98a144d9e9679b4ec54dc8a1a"
      }
     },
     "baaa840318714a08899107df9273126f": {
      "model_module": "@jupyter-widgets/base",
      "model_module_version": "1.2.0",
      "model_name": "LayoutModel",
      "state": {
       "height": "32px",
       "overflow": "visible",
       "width": "100%"
      }
     },
     "bab9df3cc3d04cf3b2c71c3acc34acd7": {
      "model_module": "@jupyter-widgets/controls",
      "model_module_version": "1.5.0",
      "model_name": "ProgressStyleModel",
      "state": {
       "description_width": ""
      }
     },
     "bb0374e9777a4083bdaaeb9f1684781a": {
      "model_module": "@jupyter-widgets/controls",
      "model_module_version": "1.5.0",
      "model_name": "HBoxModel",
      "state": {
       "children": [
        "IPY_MODEL_edd80904cd33457ea0003d668baeca87",
        "IPY_MODEL_5fdcb94c91234757bdebe843392c2d28",
        "IPY_MODEL_7ff33a756c99412cafd5e635f5c2d531",
        "IPY_MODEL_3ffaf4f267a14c11bb276a97dbbe6dbc"
       ],
       "layout": "IPY_MODEL_0afb29db83494b31a16a4729ce4f0260"
      }
     },
     "bb0697b776944d8b8a91d47d8dd964d8": {
      "model_module": "@jupyter-widgets/base",
      "model_module_version": "1.2.0",
      "model_name": "LayoutModel",
      "state": {
       "height": "32px",
       "overflow": "visible",
       "width": "100%"
      }
     },
     "bb4944d7eea54f4fab67910656c2e3d6": {
      "model_module": "@jupyter-widgets/controls",
      "model_module_version": "1.5.0",
      "model_name": "ButtonModel",
      "state": {
       "layout": "IPY_MODEL_2210f7f931be47cb9200aa8bf4031d1d",
       "style": "IPY_MODEL_83a29e9296b646cc9b0d222cd3e7a7b6"
      }
     },
     "bb6ea0bd1a7c4facb432aff64f1ee2f6": {
      "model_module": "@jupyter-widgets/base",
      "model_module_version": "1.2.0",
      "model_name": "LayoutModel",
      "state": {
       "display": "none"
      }
     },
     "bb8d77f25bad40598fa131441588a131": {
      "model_module": "@jupyter-widgets/controls",
      "model_module_version": "1.5.0",
      "model_name": "IntProgressModel",
      "state": {
       "bar_style": "success",
       "layout": "IPY_MODEL_f241652c454a48f18d643ac852c42820",
       "max": 200,
       "style": "IPY_MODEL_9ecb223cef734828a385c5ea95d03ae1",
       "value": 200
      }
     },
     "bb987739f4f74e85989a605dbc58ca16": {
      "model_module": "@jupyter-widgets/base",
      "model_module_version": "1.2.0",
      "model_name": "LayoutModel",
      "state": {
       "order": "-1",
       "overflow": "visible",
       "padding": "1px",
       "width": "0px"
      }
     },
     "bbc666bc5d844f349d67805174db30db": {
      "model_module": "@jupyter-widgets/base",
      "model_module_version": "1.2.0",
      "model_name": "LayoutModel",
      "state": {
       "height": "32px",
       "order": "-2",
       "width": "32px"
      }
     },
     "bbc8b9eba2d74f0c9ad3004bc7b96a06": {
      "model_module": "@jupyter-widgets/base",
      "model_module_version": "1.2.0",
      "model_name": "LayoutModel",
      "state": {
       "height": "32px",
       "order": "-2",
       "width": "32px"
      }
     },
     "bbf858991c844c368037050128cc2232": {
      "model_module": "@jupyter-widgets/controls",
      "model_module_version": "1.5.0",
      "model_name": "LabelModel",
      "state": {
       "layout": "IPY_MODEL_5768b7365a45470caa4e023081304d2b",
       "style": "IPY_MODEL_dc3b9655eaa444ee8135e89801a48cf3",
       "value": "   objective"
      }
     },
     "bc1fcb87c6f14e1c9d5fc62ca2368210": {
      "model_module": "@jupyter-widgets/controls",
      "model_module_version": "1.5.0",
      "model_name": "HBoxModel",
      "state": {
       "children": [
        "IPY_MODEL_8856deaf21334574a3b3ce5e542edb5b",
        "IPY_MODEL_2c45a0a33b614f04afa75f7de651d5c6",
        "IPY_MODEL_a49de9732d5b4faa86a4e2c5b22b5ffe",
        "IPY_MODEL_a34ea21b7b6448b48c49fe438da116bd"
       ],
       "layout": "IPY_MODEL_2abe6feae794487788ccf18ff9ef0f0c"
      }
     },
     "bc2a727b26fe4e188fda0e33549e723d": {
      "model_module": "@jupyter-widgets/controls",
      "model_module_version": "1.5.0",
      "model_name": "ProgressStyleModel",
      "state": {
       "description_width": ""
      }
     },
     "bc3c87ab0fc0459eb304d1d51013c750": {
      "model_module": "@jupyter-widgets/controls",
      "model_module_version": "1.5.0",
      "model_name": "HTMLModel",
      "state": {
       "layout": "IPY_MODEL_708098d29d524c7f9bdfe2a252134e5c",
       "style": "IPY_MODEL_d7373fa0df2642c88bc1253d695fab43",
       "value": "<i></i>"
      }
     },
     "bc75155836454f449eed3a6751557b33": {
      "model_module": "@jupyter-widgets/base",
      "model_module_version": "1.2.0",
      "model_name": "LayoutModel",
      "state": {
       "height": "300px",
       "justify_content": "space-between"
      }
     },
     "bc84bcfb4f6b43d1b887d4c08ae32ce6": {
      "model_module": "@jupyter-widgets/controls",
      "model_module_version": "1.5.0",
      "model_name": "ButtonModel",
      "state": {
       "layout": "IPY_MODEL_d34da7fa2be542ea992fef6ef72ad58b",
       "style": "IPY_MODEL_59a01bb15a60470893bd1dc47862695e"
      }
     },
     "bca0a6e53919491a97cca9bec27f897a": {
      "model_module": "@jupyter-widgets/controls",
      "model_module_version": "1.5.0",
      "model_name": "DescriptionStyleModel",
      "state": {
       "description_width": ""
      }
     },
     "bcd4799e60844be1af4942f45bc9fbc0": {
      "model_module": "@jupyter-widgets/base",
      "model_module_version": "1.2.0",
      "model_name": "LayoutModel",
      "state": {
       "height": "32px",
       "order": "-2",
       "width": "32px"
      }
     },
     "bd100df09b804633b6dc3e7620830d9e": {
      "model_module": "@jupyter-widgets/controls",
      "model_module_version": "1.5.0",
      "model_name": "ButtonModel",
      "state": {
       "layout": "IPY_MODEL_2ac25543b21c4c64856c2f46e62f48a1",
       "style": "IPY_MODEL_f6113f3f212f4deebc8af80cfeb67f19"
      }
     },
     "bd2e2c97564b469ba2d80fbac6674de4": {
      "model_module": "@jupyter-widgets/controls",
      "model_module_version": "1.5.0",
      "model_name": "ProgressStyleModel",
      "state": {
       "description_width": ""
      }
     },
     "bd66294b5b6c421f81f39991965521db": {
      "model_module": "@jupyter-widgets/controls",
      "model_module_version": "1.5.0",
      "model_name": "ButtonStyleModel",
      "state": {}
     },
     "bd7d4bd180a64ed0b30e542633b8f6b6": {
      "model_module": "@jupyter-widgets/controls",
      "model_module_version": "1.5.0",
      "model_name": "ButtonStyleModel",
      "state": {}
     },
     "bd7d89f00a3c4658ab7d10e9441e1411": {
      "model_module": "@jupyter-widgets/controls",
      "model_module_version": "1.5.0",
      "model_name": "HTMLModel",
      "state": {
       "layout": "IPY_MODEL_a22da8ebf5d24d53842df7e9b6d28ada",
       "style": "IPY_MODEL_4e3cbaad004d4c56af4d02c7bfe62a00",
       "value": "<font size=\"5\"><b>Budding Fashion</b></font size=>"
      }
     },
     "bd96458df77947eaa38eaadaa841796d": {
      "model_module": "@jupyter-widgets/controls",
      "model_module_version": "1.5.0",
      "model_name": "LabelModel",
      "state": {
       "layout": "IPY_MODEL_14aac1e3f5f148f98ac4c708d9e2c6fc",
       "style": "IPY_MODEL_a19b3aafa4964917b863af80e6ee0794",
       "value": "Tree:"
      }
     },
     "bda08994ba2a4a6fa21e16d79f137944": {
      "model_module": "@jupyter-widgets/controls",
      "model_module_version": "1.5.0",
      "model_name": "ProgressStyleModel",
      "state": {
       "description_width": ""
      }
     },
     "bdaf715b81e14884b1501ba5f7cbf3c4": {
      "model_module": "@jupyter-widgets/controls",
      "model_module_version": "1.5.0",
      "model_name": "ButtonModel",
      "state": {
       "description": "EDIT",
       "layout": "IPY_MODEL_1856c81f31e94dedb447a072263765da",
       "style": "IPY_MODEL_713f801765a7460b998a0e5f86b54991"
      }
     },
     "be2a0db229b84fd5af19a4d2bdadf050": {
      "model_module": "@jupyter-widgets/base",
      "model_module_version": "1.2.0",
      "model_name": "LayoutModel",
      "state": {}
     },
     "be3e2d31f3434b3d8b54354e8aaf628d": {
      "model_module": "@jupyter-widgets/base",
      "model_module_version": "1.2.0",
      "model_name": "LayoutModel",
      "state": {
       "border": "1px solid white",
       "min_width": "250px",
       "padding": "10px",
       "width": "15%"
      }
     },
     "be47ac3c8d814b02b0535e9b3b656515": {
      "model_module": "@jupyter-widgets/base",
      "model_module_version": "1.2.0",
      "model_name": "LayoutModel",
      "state": {
       "overflow": "visible",
       "width": "100%"
      }
     },
     "be4e3c044b1940b6a54e8befa7efbd44": {
      "model_module": "@jupyter-widgets/controls",
      "model_module_version": "1.5.0",
      "model_name": "LabelModel",
      "state": {
       "layout": "IPY_MODEL_1857858ed8274dc7ae2d43a967e8a94b",
       "style": "IPY_MODEL_c61e4547e60347bb9dfe99ce17f26cf6",
       "value": "    Challenge completed (0/1)"
      }
     },
     "be500dc83829468a8ce6abba72ebd273": {
      "model_module": "@jupyter-widgets/controls",
      "model_module_version": "1.5.0",
      "model_name": "HTMLModel",
      "state": {
       "layout": "IPY_MODEL_60bdd46db630454cb946db326926b5c3",
       "style": "IPY_MODEL_7c745eb0fcd5442182433f08078aa5be",
       "value": "<font size=\"1\">Triumphs/Account/Moments of Triumph/Moments of Triumph</font size=>"
      }
     },
     "be5b5e0376604ea7bceb52103cac7f7d": {
      "model_module": "@jupyter-widgets/controls",
      "model_module_version": "1.5.0",
      "model_name": "ButtonStyleModel",
      "state": {}
     },
     "beb871d43b9d4265adbe304d6536ba89": {
      "model_module": "@jupyter-widgets/base",
      "model_module_version": "1.2.0",
      "model_name": "LayoutModel",
      "state": {
       "width": "60px"
      }
     },
     "bebc11da165a4028b9ef8f5955c6d95e": {
      "model_module": "@jupyter-widgets/base",
      "model_module_version": "1.2.0",
      "model_name": "LayoutModel",
      "state": {
       "width": "60px"
      }
     },
     "bf22e5cf412141a5b1e1ab7de9ca7044": {
      "model_module": "@jupyter-widgets/controls",
      "model_module_version": "1.5.0",
      "model_name": "LabelModel",
      "state": {
       "layout": "IPY_MODEL_3ced472557d94b6f909d4e2b8166d7c4",
       "style": "IPY_MODEL_4ad17eeaf4f84d768f5cc75f9abf2b12",
       "value": "   objective"
      }
     },
     "bf25040b6707400196571d34d6b06fc6": {
      "model_module": "@jupyter-widgets/base",
      "model_module_version": "1.2.0",
      "model_name": "LayoutModel",
      "state": {
       "order": "-1",
       "overflow": "visible",
       "padding": "1px",
       "width": "0px"
      }
     },
     "bf32c01d0c9b499c931b89f09cd05201": {
      "model_module": "@jupyter-widgets/controls",
      "model_module_version": "1.5.0",
      "model_name": "HBoxModel",
      "state": {
       "children": [
        "IPY_MODEL_70cd4d30e1174f57b7bcd98a3f0c4c1d",
        "IPY_MODEL_4708c8dc7179422e91879b05b41ca169",
        "IPY_MODEL_62f4c9f3a6f941c2afab397c787f4030",
        "IPY_MODEL_195ef717a7aa45d68c3406a7d85a0297"
       ],
       "layout": "IPY_MODEL_f6dddaccc72f4babaf4a91021ba18030"
      }
     },
     "bf381b5b838648fcb15a83bc8e31d3a1": {
      "model_module": "@jupyter-widgets/base",
      "model_module_version": "1.2.0",
      "model_name": "LayoutModel",
      "state": {
       "display": "none"
      }
     },
     "bf53d88f8a2b42a3b90334e5f2460899": {
      "model_module": "@jupyter-widgets/base",
      "model_module_version": "1.2.0",
      "model_name": "LayoutModel",
      "state": {
       "height": "32px",
       "order": "-2",
       "width": "32px"
      }
     },
     "bf71c90af16f420f8eec8cefc09ffda4": {
      "model_module": "@jupyter-widgets/base",
      "model_module_version": "1.2.0",
      "model_name": "LayoutModel",
      "state": {
       "order": "-1",
       "overflow": "visible",
       "padding": "1px",
       "width": "0px"
      }
     },
     "bfc1981e48a54f5a853cdc53dd4f5656": {
      "model_module": "@jupyter-widgets/base",
      "model_module_version": "1.2.0",
      "model_name": "LayoutModel",
      "state": {
       "height": "32px",
       "overflow": "visible",
       "width": "100%"
      }
     },
     "bfff941954a941fab08419e66c2c6067": {
      "model_module": "@jupyter-widgets/controls",
      "model_module_version": "1.5.0",
      "model_name": "LabelModel",
      "state": {
       "layout": "IPY_MODEL_e778dbda9e30406880eeceb0f4ef17c9",
       "style": "IPY_MODEL_0f048f32984d4457a46a886702c643c2",
       "value": "   objective"
      }
     },
     "c0168f167f69419a904861c8884982f4": {
      "model_module": "@jupyter-widgets/controls",
      "model_module_version": "1.5.0",
      "model_name": "ButtonStyleModel",
      "state": {}
     },
     "c03697d4b65f480f8754a696b28d3108": {
      "model_module": "@jupyter-widgets/controls",
      "model_module_version": "1.5.0",
      "model_name": "ButtonModel",
      "state": {
       "description": "EDIT",
       "layout": "IPY_MODEL_31152ee46723460d9b6df91d7b50c237",
       "style": "IPY_MODEL_652d7a81aeee4d348d675077b0641ddb"
      }
     },
     "c0411abe4174477a8a276f8632c66986": {
      "model_module": "@jupyter-widgets/base",
      "model_module_version": "1.2.0",
      "model_name": "LayoutModel",
      "state": {
       "height": "32px",
       "overflow": "visible",
       "width": "100%"
      }
     },
     "c04b7655db9741869482ba1a3fdededb": {
      "model_module": "@jupyter-widgets/controls",
      "model_module_version": "1.5.0",
      "model_name": "ButtonStyleModel",
      "state": {}
     },
     "c0baa4761ba54eb393eb422da9aef940": {
      "model_module": "@jupyter-widgets/controls",
      "model_module_version": "1.5.0",
      "model_name": "DescriptionStyleModel",
      "state": {
       "description_width": ""
      }
     },
     "c0be1780c1b24e18b8faad36ef9d7702": {
      "model_module": "@jupyter-widgets/base",
      "model_module_version": "1.2.0",
      "model_name": "LayoutModel",
      "state": {}
     },
     "c0bec3123ac042b7a8835d03e211960a": {
      "model_module": "@jupyter-widgets/controls",
      "model_module_version": "1.5.0",
      "model_name": "DescriptionStyleModel",
      "state": {
       "description_width": ""
      }
     },
     "c0c2c8970aed4a21ae935eb79fb0ea92": {
      "model_module": "@jupyter-widgets/controls",
      "model_module_version": "1.5.0",
      "model_name": "LabelModel",
      "state": {
       "layout": "IPY_MODEL_2a10255a90f14b35afb80b85b46857e4",
       "style": "IPY_MODEL_ca9d2d426a624a85a14cf5aa79507b85",
       "value": "   objective"
      }
     },
     "c0e95b09ccb24ff1916455f5b22afef8": {
      "model_module": "@jupyter-widgets/controls",
      "model_module_version": "1.5.0",
      "model_name": "DescriptionStyleModel",
      "state": {
       "description_width": ""
      }
     },
     "c1599ba1b5f94213abb05d535d60db59": {
      "model_module": "@jupyter-widgets/controls",
      "model_module_version": "1.5.0",
      "model_name": "IntProgressModel",
      "state": {
       "layout": "IPY_MODEL_a3235b34722f41b0a441d363502b8e77",
       "style": "IPY_MODEL_1d42854b8e5f482ca1d459b857357f94",
       "value": 30
      }
     },
     "c1ecce8aac05402897beb495e301dc50": {
      "model_module": "@jupyter-widgets/controls",
      "model_module_version": "1.5.0",
      "model_name": "ProgressStyleModel",
      "state": {
       "description_width": ""
      }
     },
     "c221d85eb4514ab8b9a017af934eee6c": {
      "model_module": "@jupyter-widgets/base",
      "model_module_version": "1.2.0",
      "model_name": "LayoutModel",
      "state": {
       "order": "-1",
       "overflow": "visible",
       "padding": "1px",
       "width": "0px"
      }
     },
     "c23b6ea3307b471586a65490662a5d6f": {
      "model_module": "@jupyter-widgets/controls",
      "model_module_version": "1.5.0",
      "model_name": "IntProgressModel",
      "state": {
       "layout": "IPY_MODEL_0d16b4e8c05c469992a9f40abe05b66c",
       "style": "IPY_MODEL_b8850a2d3d824f7090ff39ede9f24ebc",
       "value": 30
      }
     },
     "c24ec0076b644df6bebd58fc27fa1692": {
      "model_module": "@jupyter-widgets/base",
      "model_module_version": "1.2.0",
      "model_name": "LayoutModel",
      "state": {
       "height": "32px",
       "order": "-2",
       "width": "32px"
      }
     },
     "c25c02e344dc4e88b153d6c69a3ea05c": {
      "model_module": "@jupyter-widgets/base",
      "model_module_version": "1.2.0",
      "model_name": "LayoutModel",
      "state": {
       "width": "60px"
      }
     },
     "c2ad6acd48d1489dae2684e5ff9546cc": {
      "model_module": "@jupyter-widgets/base",
      "model_module_version": "1.2.0",
      "model_name": "LayoutModel",
      "state": {
       "display": "none"
      }
     },
     "c2bb8a879d77429fa9294a9302448b18": {
      "model_module": "@jupyter-widgets/controls",
      "model_module_version": "1.5.0",
      "model_name": "ProgressStyleModel",
      "state": {
       "description_width": ""
      }
     },
     "c2c7c0b370f240c4b2f111be3f21eef4": {
      "model_module": "@jupyter-widgets/controls",
      "model_module_version": "1.5.0",
      "model_name": "ButtonStyleModel",
      "state": {}
     },
     "c3a2fa5a5ae84136be0794ae01d572e8": {
      "model_module": "@jupyter-widgets/base",
      "model_module_version": "1.2.0",
      "model_name": "LayoutModel",
      "state": {
       "order": "-1",
       "overflow": "visible",
       "padding": "1px",
       "width": "0px"
      }
     },
     "c403b99a05d44b48a24facb7d9b78225": {
      "model_module": "@jupyter-widgets/base",
      "model_module_version": "1.2.0",
      "model_name": "LayoutModel",
      "state": {
       "order": "-1",
       "overflow": "visible",
       "padding": "1px",
       "width": "0px"
      }
     },
     "c477611e1ab1442cb0057273d22e96a8": {
      "model_module": "@jupyter-widgets/controls",
      "model_module_version": "1.5.0",
      "model_name": "VBoxModel",
      "state": {
       "children": [
        "IPY_MODEL_bf32c01d0c9b499c931b89f09cd05201",
        "IPY_MODEL_58f1d4150fa84282b433abb2482d7437",
        "IPY_MODEL_a8774b400f704af8b1da9a1145f106f3",
        "IPY_MODEL_3900c0d247aa49b28d40527058d2d865",
        "IPY_MODEL_f945a3a5731c4480a8754fd05e5c188c",
        "IPY_MODEL_7344d9059bab46298cd7aaf6ca2965fa"
       ],
       "layout": "IPY_MODEL_4085e5cafeb4465880e99ba16a5d6346"
      }
     },
     "c487fde1754944278a33d1d01b703d16": {
      "model_module": "@jupyter-widgets/controls",
      "model_module_version": "1.5.0",
      "model_name": "HTMLModel",
      "state": {
       "layout": "IPY_MODEL_cb7595d1adc545af8bd72addfdd0c279",
       "style": "IPY_MODEL_49d195ed39054adc861a97783c17d2c9",
       "value": "<font size=\"1\">Triumphs/Lore/Dusk and Dawn/Revelation</font size=>"
      }
     },
     "c4971bb0650b45128d774dde1a7e0787": {
      "model_module": "@jupyter-widgets/base",
      "model_module_version": "1.2.0",
      "model_name": "LayoutModel",
      "state": {
       "height": "32px",
       "overflow": "visible",
       "width": "100%"
      }
     },
     "c49aa93330494161918f6108bf9fa838": {
      "model_module": "@jupyter-widgets/controls",
      "model_module_version": "1.5.0",
      "model_name": "ButtonModel",
      "state": {
       "description": "EDIT",
       "layout": "IPY_MODEL_38eb7ec0ec3948acb700624324da570d",
       "style": "IPY_MODEL_3f5999f555d4427091463fbeafaf8f1d"
      }
     },
     "c4bd4d7403a84edf9ee37b6492cb2505": {
      "model_module": "@jupyter-widgets/base",
      "model_module_version": "1.2.0",
      "model_name": "LayoutModel",
      "state": {
       "overflow": "visible",
       "width": "100%"
      }
     },
     "c4be5b5dc24a49d4bb2b36ac10900eef": {
      "model_module": "@jupyter-widgets/base",
      "model_module_version": "1.2.0",
      "model_name": "LayoutModel",
      "state": {
       "display": "flex"
      }
     },
     "c4c9e3ddf23c44509e9eb2d82de35576": {
      "model_module": "@jupyter-widgets/controls",
      "model_module_version": "1.5.0",
      "model_name": "DescriptionStyleModel",
      "state": {
       "description_width": ""
      }
     },
     "c535aa8925594db7a32fbff776215d3e": {
      "model_module": "@jupyter-widgets/controls",
      "model_module_version": "1.5.0",
      "model_name": "ButtonStyleModel",
      "state": {}
     },
     "c536910c8a4f47e0947d60a4d215ee9d": {
      "model_module": "@jupyter-widgets/controls",
      "model_module_version": "1.5.0",
      "model_name": "ButtonModel",
      "state": {
       "description": "EDIT",
       "layout": "IPY_MODEL_6b65fadf2006452588288a5dac072fe8",
       "style": "IPY_MODEL_612ad0f67b914098b9044d8af42b2347"
      }
     },
     "c5437099805c47f2a987b23e482b2529": {
      "model_module": "@jupyter-widgets/controls",
      "model_module_version": "1.5.0",
      "model_name": "ProgressStyleModel",
      "state": {
       "description_width": ""
      }
     },
     "c5a4d6a940f6475898076a03ec9acc29": {
      "model_module": "@jupyter-widgets/controls",
      "model_module_version": "1.5.0",
      "model_name": "ButtonModel",
      "state": {
       "layout": "IPY_MODEL_e6942b2505bb48b080533283f848dc38",
       "style": "IPY_MODEL_c535aa8925594db7a32fbff776215d3e"
      }
     },
     "c5d19a30610c418f96bfbb24f1063b7d": {
      "model_module": "@jupyter-widgets/controls",
      "model_module_version": "1.5.0",
      "model_name": "DescriptionStyleModel",
      "state": {
       "description_width": ""
      }
     },
     "c5dd86537be34694992ea7299b07b257": {
      "model_module": "@jupyter-widgets/base",
      "model_module_version": "1.2.0",
      "model_name": "LayoutModel",
      "state": {
       "height": "32px",
       "overflow": "visible",
       "width": "100%"
      }
     },
     "c5f58924f7be4f269de5333c7dcb1cf8": {
      "model_module": "@jupyter-widgets/controls",
      "model_module_version": "1.5.0",
      "model_name": "IntProgressModel",
      "state": {
       "layout": "IPY_MODEL_ba166a42af6940f8a2052c4c7b55cf82",
       "style": "IPY_MODEL_ff283dc1d07c485684af374ec509fbab",
       "value": 30
      }
     },
     "c61e4547e60347bb9dfe99ce17f26cf6": {
      "model_module": "@jupyter-widgets/controls",
      "model_module_version": "1.5.0",
      "model_name": "DescriptionStyleModel",
      "state": {
       "description_width": ""
      }
     },
     "c6272dad5287470b9ee8e0710897f0e9": {
      "model_module": "@jupyter-widgets/controls",
      "model_module_version": "1.5.0",
      "model_name": "HTMLModel",
      "state": {
       "layout": "IPY_MODEL_8785839444d441369a8da36bb3bc895c",
       "style": "IPY_MODEL_42da4ac6c3984583b3384a8ecd5eb855",
       "value": "<i></i>"
      }
     },
     "c6377700525d44529d03a87a50554fde": {
      "model_module": "@jupyter-widgets/controls",
      "model_module_version": "1.5.0",
      "model_name": "ButtonStyleModel",
      "state": {}
     },
     "c66719242404480ab2d76f661638a29f": {
      "model_module": "@jupyter-widgets/controls",
      "model_module_version": "1.5.0",
      "model_name": "ButtonModel",
      "state": {
       "layout": "IPY_MODEL_076f739b46fa4b65abc12e42390400f9",
       "style": "IPY_MODEL_a076f83a2e854912bb25b376fdd4a01f"
      }
     },
     "c6bf3bb59aa943e9895aa6bf23f3fef6": {
      "model_module": "@jupyter-widgets/controls",
      "model_module_version": "1.5.0",
      "model_name": "DescriptionStyleModel",
      "state": {
       "description_width": ""
      }
     },
     "c705c3658a3d4da5a737129ded55df53": {
      "model_module": "@jupyter-widgets/base",
      "model_module_version": "1.2.0",
      "model_name": "LayoutModel",
      "state": {
       "width": "60px"
      }
     },
     "c731cf7a3252406e8b49808dcf471d5d": {
      "model_module": "@jupyter-widgets/controls",
      "model_module_version": "1.5.0",
      "model_name": "DescriptionStyleModel",
      "state": {
       "description_width": ""
      }
     },
     "c73f176fa86e421890f56afc50153f60": {
      "model_module": "@jupyter-widgets/controls",
      "model_module_version": "1.5.0",
      "model_name": "VBoxModel",
      "state": {
       "children": [
        "IPY_MODEL_be500dc83829468a8ce6abba72ebd273",
        "IPY_MODEL_fa9e3812600046c3842096b4b0214352",
        "IPY_MODEL_9c07c2463b004466993587fa8561ef5b",
        "IPY_MODEL_f9876f1980e9496797f54845a10d6b08"
       ],
       "layout": "IPY_MODEL_627bc1a63fae4f64b8a9d69eacbbc233"
      }
     },
     "c75b7da257144c4db19edc701baf1e81": {
      "model_module": "@jupyter-widgets/controls",
      "model_module_version": "1.5.0",
      "model_name": "ButtonStyleModel",
      "state": {}
     },
     "c778d6b514a0468bb4f1399d6fefa0ca": {
      "model_module": "@jupyter-widgets/controls",
      "model_module_version": "1.5.0",
      "model_name": "HBoxModel",
      "state": {
       "children": [
        "IPY_MODEL_0e98aa6f9cb84335b13f973ae5303a77",
        "IPY_MODEL_7f96f3eff7b5451f827378602e31fde8",
        "IPY_MODEL_08e9036683574754849f34fb6a0d1556",
        "IPY_MODEL_0f33496c662d4d9eba42c96a3f0998af"
       ],
       "layout": "IPY_MODEL_054f3434c35c47b4b117c5ced011b09d"
      }
     },
     "c77cbdda4bd64951ae455a4caf34566a": {
      "model_module": "@jupyter-widgets/controls",
      "model_module_version": "1.5.0",
      "model_name": "DescriptionStyleModel",
      "state": {
       "description_width": ""
      }
     },
     "c78381aa48bf4ceea51219cfaf3f5ad8": {
      "model_module": "@jupyter-widgets/base",
      "model_module_version": "1.2.0",
      "model_name": "LayoutModel",
      "state": {
       "height": "32px",
       "overflow": "visible",
       "width": "100%"
      }
     },
     "c7a95176c2724b44b80361242a744196": {
      "model_module": "@jupyter-widgets/controls",
      "model_module_version": "1.5.0",
      "model_name": "DescriptionStyleModel",
      "state": {
       "description_width": ""
      }
     },
     "c8032ca69450441f84e667837ca20bb5": {
      "model_module": "@jupyter-widgets/controls",
      "model_module_version": "1.5.0",
      "model_name": "HBoxModel",
      "state": {
       "children": [
        "IPY_MODEL_914feaa3008b4c63881b5a0af599e91e",
        "IPY_MODEL_d7ba6298fa214b1287562f415568317e",
        "IPY_MODEL_246564b04f9c488c971adb7903400ecf",
        "IPY_MODEL_ab9b9685eda04782bf18fa4f3309143f"
       ],
       "layout": "IPY_MODEL_3cc09f29328e4860bf29b0c8e7eb6ca7"
      }
     },
     "c832e7588a6b478eafc0950ca3a4cc37": {
      "model_module": "@jupyter-widgets/controls",
      "model_module_version": "1.5.0",
      "model_name": "VBoxModel",
      "state": {
       "children": [
        "IPY_MODEL_bc1fcb87c6f14e1c9d5fc62ca2368210",
        "IPY_MODEL_b5268b4129a444a39e817754483d64bf",
        "IPY_MODEL_86f5ea0058414b13905c8b1d8937dbc2",
        "IPY_MODEL_43331580b30c4957ac4091455ca7b4bc",
        "IPY_MODEL_24126437c60741dc9a50b3d49d733b50",
        "IPY_MODEL_ea40ec2ba69642188f16cfdc01b8ce6b"
       ],
       "layout": "IPY_MODEL_3ba9f024cbb349838ba296c864e319e6"
      }
     },
     "c8b118bdb39a4b888cca8f0cead0a028": {
      "model_module": "@jupyter-widgets/controls",
      "model_module_version": "1.5.0",
      "model_name": "IntProgressModel",
      "state": {
       "bar_style": "danger",
       "layout": "IPY_MODEL_bb0697b776944d8b8a91d47d8dd964d8",
       "max": 1,
       "style": "IPY_MODEL_f2a3433f4cac42f9b5310fcd616becdf"
      }
     },
     "c8c68fb569684710978225bdc1cacbf6": {
      "model_module": "@jupyter-widgets/controls",
      "model_module_version": "1.5.0",
      "model_name": "DescriptionStyleModel",
      "state": {
       "description_width": ""
      }
     },
     "c8cc095dd1de4faca884b7b49885af99": {
      "model_module": "@jupyter-widgets/controls",
      "model_module_version": "1.5.0",
      "model_name": "ButtonModel",
      "state": {
       "description": "EDIT",
       "layout": "IPY_MODEL_0c097fb774a4455fb0e50bb1dcc7e6df",
       "style": "IPY_MODEL_e17cf6a539a34e47a1d5e1b365a354a5"
      }
     },
     "c8df8d9b5b494229a3c9b7eba6e09877": {
      "model_module": "@jupyter-widgets/base",
      "model_module_version": "1.2.0",
      "model_name": "LayoutModel",
      "state": {
       "overflow": "visible",
       "width": "100%"
      }
     },
     "c9683bed4a0345709bf392ed0dfd8a21": {
      "model_module": "@jupyter-widgets/controls",
      "model_module_version": "1.5.0",
      "model_name": "ButtonModel",
      "state": {
       "layout": "IPY_MODEL_23fc4b67779b4b92871dfb7de62d8dc8",
       "style": "IPY_MODEL_9751b89fa4d14b0c93b428ac025f01d2"
      }
     },
     "c9f26795e1dd4d8db29d8ca23f568c89": {
      "model_module": "@jupyter-widgets/controls",
      "model_module_version": "1.5.0",
      "model_name": "IntProgressModel",
      "state": {
       "bar_style": "success",
       "layout": "IPY_MODEL_ffe98c77193c465e8f7da07b99aa0c60",
       "max": 1,
       "style": "IPY_MODEL_651050216cd24212a7c98627e1cb0d5e",
       "value": 1
      }
     },
     "ca0933f2821d43bf888f54ab528eedda": {
      "model_module": "@jupyter-widgets/controls",
      "model_module_version": "1.5.0",
      "model_name": "ButtonStyleModel",
      "state": {}
     },
     "ca6410a1661541179f04739d25ffef9d": {
      "model_module": "@jupyter-widgets/controls",
      "model_module_version": "1.5.0",
      "model_name": "ButtonModel",
      "state": {
       "description": "EDIT",
       "layout": "IPY_MODEL_22097a6ff30f478bae4e491af82204a1",
       "style": "IPY_MODEL_69daf0aa613f40768b0174048eef3c31"
      }
     },
     "ca6cea3866014f04b16cce456e41283c": {
      "model_module": "@jupyter-widgets/controls",
      "model_module_version": "1.5.0",
      "model_name": "IntProgressModel",
      "state": {
       "layout": "IPY_MODEL_eb9e19ca26d64a85a9e6530f0bcc8705",
       "style": "IPY_MODEL_050ab7813e6a4f299864dc8f351e4fc5",
       "value": 30
      }
     },
     "ca79fefa844e4d2a9266f9ebad5e1ac1": {
      "model_module": "@jupyter-widgets/base",
      "model_module_version": "1.2.0",
      "model_name": "LayoutModel",
      "state": {
       "width": "60px"
      }
     },
     "ca7bd0c0e1f64059a4926dce3f281c1e": {
      "model_module": "@jupyter-widgets/base",
      "model_module_version": "1.2.0",
      "model_name": "LayoutModel",
      "state": {
       "width": "60px"
      }
     },
     "ca870857fc4348399b2ce04c4c65dc44": {
      "model_module": "@jupyter-widgets/controls",
      "model_module_version": "1.5.0",
      "model_name": "LabelModel",
      "state": {
       "layout": "IPY_MODEL_a4d742dd758e47a6b0548645a05bb3f5",
       "style": "IPY_MODEL_3c9b9e553d6142fe8288ae39a4fa7a2b",
       "value": "     (0/1)"
      }
     },
     "ca9a2dce3b924ca0bffd9c5faa87fbc4": {
      "model_module": "@jupyter-widgets/controls",
      "model_module_version": "1.5.0",
      "model_name": "IntProgressModel",
      "state": {
       "layout": "IPY_MODEL_0c4b7800296948b8b9bedd7eac260ed6",
       "style": "IPY_MODEL_356a8d8d04ec48738683a100989d7839",
       "value": 30
      }
     },
     "ca9d2d426a624a85a14cf5aa79507b85": {
      "model_module": "@jupyter-widgets/controls",
      "model_module_version": "1.5.0",
      "model_name": "DescriptionStyleModel",
      "state": {
       "description_width": ""
      }
     },
     "cac1c3ece5d54e3582632344d92d3ce5": {
      "model_module": "@jupyter-widgets/controls",
      "model_module_version": "1.5.0",
      "model_name": "ButtonStyleModel",
      "state": {}
     },
     "cb7595d1adc545af8bd72addfdd0c279": {
      "model_module": "@jupyter-widgets/base",
      "model_module_version": "1.2.0",
      "model_name": "LayoutModel",
      "state": {
       "overflow": "visible",
       "width": "100%"
      }
     },
     "cbe57a7acd834e44a52bb48342597bd9": {
      "model_module": "@jupyter-widgets/controls",
      "model_module_version": "1.5.0",
      "model_name": "ButtonModel",
      "state": {
       "layout": "IPY_MODEL_53c0ac4a4de24d7bb0be8fb57ba6ef7c",
       "style": "IPY_MODEL_74f6ed916dfb49e8a514030c41f9484a"
      }
     },
     "cc6460d84d9e47c3b3305b4c601f814b": {
      "model_module": "@jupyter-widgets/base",
      "model_module_version": "1.2.0",
      "model_name": "LayoutModel",
      "state": {
       "height": "32px",
       "overflow": "visible",
       "width": "100%"
      }
     },
     "cc83e0367a9c48bbb959aa347301d7b6": {
      "model_module": "@jupyter-widgets/controls",
      "model_module_version": "1.5.0",
      "model_name": "ButtonStyleModel",
      "state": {}
     },
     "cc92f92f10a44ef0a65e26daf8a1037d": {
      "model_module": "@jupyter-widgets/base",
      "model_module_version": "1.2.0",
      "model_name": "LayoutModel",
      "state": {
       "width": "60px"
      }
     },
     "cca8f3179abc4420b27f405d09b6245e": {
      "model_module": "@jupyter-widgets/controls",
      "model_module_version": "1.5.0",
      "model_name": "HTMLModel",
      "state": {
       "layout": "IPY_MODEL_5420dd68ad954071953e00a5b7f0654f",
       "style": "IPY_MODEL_206be2744b214342982db7b64ebfe4ff",
       "value": "<i></i>"
      }
     },
     "cd1131f8b3004a3aba054863f99fc28f": {
      "model_module": "@jupyter-widgets/controls",
      "model_module_version": "1.5.0",
      "model_name": "ButtonStyleModel",
      "state": {}
     },
     "cd166ac06bbb4f25bb889aeaac57729e": {
      "model_module": "@jupyter-widgets/base",
      "model_module_version": "1.2.0",
      "model_name": "LayoutModel",
      "state": {
       "height": "32px",
       "overflow": "visible",
       "width": "100%"
      }
     },
     "cd60b8580bd041eeb070cb98917e72dd": {
      "model_module": "@jupyter-widgets/controls",
      "model_module_version": "1.5.0",
      "model_name": "VBoxModel",
      "state": {
       "children": [
        "IPY_MODEL_34081d64347f4cdcb25ed606de147298",
        "IPY_MODEL_45fca88e55734155a4adfda653128174",
        "IPY_MODEL_8bab458a9d05488c90549993f25738ca",
        "IPY_MODEL_979934fd221a4d21af8fd6277d6603ae",
        "IPY_MODEL_faf085e293e3444184a7ada54907cf08",
        "IPY_MODEL_f4efbde21d1840409952d1fe643860fa"
       ],
       "layout": "IPY_MODEL_86df91e8ffe84002b1442dd3a87bf6db"
      }
     },
     "cd90de7bc7a749e0a1f988a043ff6fec": {
      "model_module": "@jupyter-widgets/controls",
      "model_module_version": "1.5.0",
      "model_name": "DescriptionStyleModel",
      "state": {
       "description_width": ""
      }
     },
     "cd988282cdf8474d8c34879d641630fe": {
      "model_module": "@jupyter-widgets/controls",
      "model_module_version": "1.5.0",
      "model_name": "LabelModel",
      "state": {
       "layout": "IPY_MODEL_c403b99a05d44b48a24facb7d9b78225",
       "style": "IPY_MODEL_6645c12405ef4a1fb731c8ad468e7f28",
       "value": "    Glory ranks (2/5)"
      }
     },
     "ce0630622c6b4b4ab46985449b1da254": {
      "model_module": "@jupyter-widgets/controls",
      "model_module_version": "1.5.0",
      "model_name": "VBoxModel",
      "state": {
       "children": [
        "IPY_MODEL_74be35d403ea475aa11d484821b9859d",
        "IPY_MODEL_3a0d3621dc484d5ea261bed99ef2bda0",
        "IPY_MODEL_403eca168678461fbc5ac1ca1ed23b0f",
        "IPY_MODEL_0fa90a9421bb452c9603cceab0fabbfa",
        "IPY_MODEL_8783eae090e441ab905c8dc9b675778c",
        "IPY_MODEL_81ab35516922460c8059f742b222f699"
       ],
       "layout": "IPY_MODEL_8360c5d7495b447789f30b06b62c05a3"
      }
     },
     "ce305a928fbb4476845e92af127a2df9": {
      "model_module": "@jupyter-widgets/controls",
      "model_module_version": "1.5.0",
      "model_name": "ProgressStyleModel",
      "state": {
       "description_width": ""
      }
     },
     "ce3c22aaec034b61adc2f0a03d8f0d7b": {
      "model_module": "@jupyter-widgets/controls",
      "model_module_version": "1.5.0",
      "model_name": "ButtonModel",
      "state": {
       "description": "EDIT",
       "layout": "IPY_MODEL_86b6e6d54f6545a4b88e349563ffdd56",
       "style": "IPY_MODEL_d7c9afc24e6e419abcf386d96a5cba08"
      }
     },
     "ce4232ed06cd4bedbe4d81c38674d799": {
      "model_module": "@jupyter-widgets/controls",
      "model_module_version": "1.5.0",
      "model_name": "DescriptionStyleModel",
      "state": {
       "description_width": ""
      }
     },
     "cea271120c334b8b9b4d16eb0d655b21": {
      "model_module": "@jupyter-widgets/base",
      "model_module_version": "1.2.0",
      "model_name": "LayoutModel",
      "state": {
       "display": "flex"
      }
     },
     "cf04e5077159465daadeb362d0bbf228": {
      "model_module": "@jupyter-widgets/base",
      "model_module_version": "1.2.0",
      "model_name": "LayoutModel",
      "state": {
       "height": "32px",
       "overflow": "visible",
       "width": "100%"
      }
     },
     "cf0f41ecbf0f4769a22c93497945b546": {
      "model_module": "@jupyter-widgets/controls",
      "model_module_version": "1.5.0",
      "model_name": "DescriptionStyleModel",
      "state": {
       "description_width": ""
      }
     },
     "cf0fe0bbac1b4db1bff9e03e5d44c491": {
      "model_module": "@jupyter-widgets/base",
      "model_module_version": "1.2.0",
      "model_name": "LayoutModel",
      "state": {}
     },
     "cfc9daff65ec48dc8f78f60309a65cdf": {
      "model_module": "@jupyter-widgets/controls",
      "model_module_version": "1.5.0",
      "model_name": "HBoxModel",
      "state": {
       "children": [
        "IPY_MODEL_bd100df09b804633b6dc3e7620830d9e",
        "IPY_MODEL_037b12d734a14f6d922eac88c81ea5c7",
        "IPY_MODEL_154c53ba28364209af6367a480d16f49",
        "IPY_MODEL_ac5c6e6afe86413fad5f2d9090951017"
       ],
       "layout": "IPY_MODEL_a17c3ec990ba44aeb7e11a7b74260612"
      }
     },
     "d063a00244f544128ddce98851bc7cf5": {
      "model_module": "@jupyter-widgets/base",
      "model_module_version": "1.2.0",
      "model_name": "LayoutModel",
      "state": {
       "height": "32px",
       "overflow": "visible",
       "width": "100%"
      }
     },
     "d0859f9ce6bc47b3baffd53e69e23fac": {
      "model_module": "@jupyter-widgets/base",
      "model_module_version": "1.2.0",
      "model_name": "LayoutModel",
      "state": {
       "height": "32px",
       "overflow": "visible",
       "width": "100%"
      }
     },
     "d09f326af0dd46b5b837c94be53cbc84": {
      "model_module": "@jupyter-widgets/base",
      "model_module_version": "1.2.0",
      "model_name": "LayoutModel",
      "state": {
       "order": "-1",
       "overflow": "visible",
       "padding": "1px",
       "width": "0px"
      }
     },
     "d0b35e22e3394621ac23d797afc1073e": {
      "model_module": "@jupyter-widgets/controls",
      "model_module_version": "1.5.0",
      "model_name": "DescriptionStyleModel",
      "state": {
       "description_width": ""
      }
     },
     "d0d61d03a98e4ba697f5dcc66d855ea7": {
      "model_module": "@jupyter-widgets/controls",
      "model_module_version": "1.5.0",
      "model_name": "LabelModel",
      "state": {
       "layout": "IPY_MODEL_4b86d2eaddfd42a4b5d64ac2bdfc4961",
       "style": "IPY_MODEL_525e8c470e2b462c9015ab9575c064bc",
       "value": "   objective"
      }
     },
     "d0e7a7208ddb4371991618136bb4a608": {
      "model_module": "@jupyter-widgets/controls",
      "model_module_version": "1.5.0",
      "model_name": "ProgressStyleModel",
      "state": {
       "description_width": ""
      }
     },
     "d0feb171546f415dace85f077ab1b26c": {
      "model_module": "@jupyter-widgets/controls",
      "model_module_version": "1.5.0",
      "model_name": "ButtonModel",
      "state": {
       "description": "EDIT",
       "layout": "IPY_MODEL_33ab3704126a4d7b8c63847757d64ebd",
       "style": "IPY_MODEL_f12ba5f299194084b3d9209cd49abd02"
      }
     },
     "d11325afb2d546c1b1c25279e0b00e0e": {
      "model_module": "@jupyter-widgets/base",
      "model_module_version": "1.2.0",
      "model_name": "LayoutModel",
      "state": {
       "display": "none"
      }
     },
     "d119bf2ac6bc484ca2d751326419c3b0": {
      "model_module": "@jupyter-widgets/base",
      "model_module_version": "1.2.0",
      "model_name": "LayoutModel",
      "state": {
       "display": "none"
      }
     },
     "d14bf151a3db4a3fb865437b2b04d171": {
      "model_module": "@jupyter-widgets/controls",
      "model_module_version": "1.5.0",
      "model_name": "ButtonModel",
      "state": {
       "description": "EDIT",
       "layout": "IPY_MODEL_7b34ce5318a04fb795b04b029a123be7",
       "style": "IPY_MODEL_f93cfa5b37654c48a75c6aeb5e004a14"
      }
     },
     "d181ef94b8404a0c88a4798772bd224a": {
      "model_module": "@jupyter-widgets/controls",
      "model_module_version": "1.5.0",
      "model_name": "ProgressStyleModel",
      "state": {
       "description_width": ""
      }
     },
     "d18c2971733f4ef9a2cb172cfcc019b3": {
      "model_module": "@jupyter-widgets/controls",
      "model_module_version": "1.5.0",
      "model_name": "LabelModel",
      "state": {
       "layout": "IPY_MODEL_37c90679d8e0427b8bfdd7e583d5622b",
       "style": "IPY_MODEL_6edbec3e9964495bbb83119443e86cf7",
       "value": "   objective"
      }
     },
     "d219b6a5dee144a08667728dfdf68f50": {
      "model_module": "@jupyter-widgets/controls",
      "model_module_version": "1.5.0",
      "model_name": "HBoxModel",
      "state": {
       "children": [
        "IPY_MODEL_2f41c3046ef844208d5f19af724ae655",
        "IPY_MODEL_9c63d524ce734d3584abcec924cc66f6",
        "IPY_MODEL_654ed67df41b454e8a0d56890c5af994",
        "IPY_MODEL_15b0fe63feb84a6bb39b055555c91960"
       ],
       "layout": "IPY_MODEL_33af92deab35434b97f052f99a7c1c5a"
      }
     },
     "d2399f729e26410997abac3f6805e486": {
      "model_module": "@jupyter-widgets/controls",
      "model_module_version": "1.5.0",
      "model_name": "IntProgressModel",
      "state": {
       "layout": "IPY_MODEL_cf04e5077159465daadeb362d0bbf228",
       "style": "IPY_MODEL_528cb0359a45492c80dabcb2bc103eb3",
       "value": 30
      }
     },
     "d267576b2b1c409b9a6f29caec5d5bd0": {
      "model_module": "@jupyter-widgets/controls",
      "model_module_version": "1.5.0",
      "model_name": "ButtonModel",
      "state": {
       "layout": "IPY_MODEL_0ba89481fcd34c8599920e5c0a708895",
       "style": "IPY_MODEL_423a1d13ce1c4dc684aada863c947e92"
      }
     },
     "d26de9926aed4cfcb4387a788e22389f": {
      "model_module": "@jupyter-widgets/base",
      "model_module_version": "1.2.0",
      "model_name": "LayoutModel",
      "state": {
       "order": "-1",
       "overflow": "visible",
       "padding": "1px",
       "width": "0px"
      }
     },
     "d26e79a83dfa4d8aa108ed87b867b504": {
      "model_module": "@jupyter-widgets/controls",
      "model_module_version": "1.5.0",
      "model_name": "ButtonStyleModel",
      "state": {}
     },
     "d297d182cde241f7b21b8e36e5115b9f": {
      "model_module": "@jupyter-widgets/controls",
      "model_module_version": "1.5.0",
      "model_name": "DescriptionStyleModel",
      "state": {
       "description_width": ""
      }
     },
     "d29ae24d421b4b6d83cc87810e6f38b6": {
      "model_module": "@jupyter-widgets/base",
      "model_module_version": "1.2.0",
      "model_name": "LayoutModel",
      "state": {
       "width": "60px"
      }
     },
     "d2a121c7001f46b19bd109a63baf36d7": {
      "model_module": "@jupyter-widgets/controls",
      "model_module_version": "1.5.0",
      "model_name": "IntProgressModel",
      "state": {
       "layout": "IPY_MODEL_d68380d994684d15b1851be7bd53d2b7",
       "style": "IPY_MODEL_a5f6d45e4f824661b5456b0e8d51cb80",
       "value": 30
      }
     },
     "d2ddf21293294399913660a66909317e": {
      "model_module": "@jupyter-widgets/base",
      "model_module_version": "1.2.0",
      "model_name": "LayoutModel",
      "state": {
       "display": "none"
      }
     },
     "d2f59610fcc94389aef4f2b1abe24459": {
      "model_module": "@jupyter-widgets/controls",
      "model_module_version": "1.5.0",
      "model_name": "ButtonStyleModel",
      "state": {}
     },
     "d30e083a44ad49ad8fe3ce188a22567a": {
      "model_module": "@jupyter-widgets/controls",
      "model_module_version": "1.5.0",
      "model_name": "ButtonStyleModel",
      "state": {}
     },
     "d3128cb3e22642338cab456de288ba8d": {
      "model_module": "@jupyter-widgets/base",
      "model_module_version": "1.2.0",
      "model_name": "LayoutModel",
      "state": {
       "height": "32px",
       "overflow": "visible",
       "width": "100%"
      }
     },
     "d34da7fa2be542ea992fef6ef72ad58b": {
      "model_module": "@jupyter-widgets/base",
      "model_module_version": "1.2.0",
      "model_name": "LayoutModel",
      "state": {
       "height": "32px",
       "order": "-2",
       "width": "32px"
      }
     },
     "d352f8d808314a53962840841505a4ba": {
      "model_module": "@jupyter-widgets/base",
      "model_module_version": "1.2.0",
      "model_name": "LayoutModel",
      "state": {}
     },
     "d358fbf63611465caaa197b7423a6acc": {
      "model_module": "@jupyter-widgets/base",
      "model_module_version": "1.2.0",
      "model_name": "LayoutModel",
      "state": {
       "height": "32px",
       "overflow": "visible",
       "width": "100%"
      }
     },
     "d38c4fec584e4bf0b19cd61cbdb86446": {
      "model_module": "@jupyter-widgets/controls",
      "model_module_version": "1.5.0",
      "model_name": "ButtonModel",
      "state": {
       "description": "EDIT",
       "layout": "IPY_MODEL_2d5567a4c83b404bb8c8d47b6747bc00",
       "style": "IPY_MODEL_0cc266ffa2fe40aaa5065b2419e224d3"
      }
     },
     "d3a55579a1d24b3a9a5f0f78e3e74099": {
      "model_module": "@jupyter-widgets/controls",
      "model_module_version": "1.5.0",
      "model_name": "ButtonStyleModel",
      "state": {}
     },
     "d3fcb2b1c594425ab8c5136f3750e53d": {
      "model_module": "@jupyter-widgets/controls",
      "model_module_version": "1.5.0",
      "model_name": "ButtonModel",
      "state": {
       "description": "EDIT",
       "layout": "IPY_MODEL_8db59855a5504c7db309f26f0389a590",
       "style": "IPY_MODEL_ac4b714e337c4d069a298fd1af9a9b9d"
      }
     },
     "d451699e317344f99b9011bf4e3ff11d": {
      "model_module": "@jupyter-widgets/controls",
      "model_module_version": "1.5.0",
      "model_name": "ButtonStyleModel",
      "state": {}
     },
     "d465f666f04a496186a58b8fbe4c90f6": {
      "model_module": "@jupyter-widgets/base",
      "model_module_version": "1.2.0",
      "model_name": "LayoutModel",
      "state": {
       "height": "32px",
       "order": "-2",
       "width": "32px"
      }
     },
     "d48a126251e44b4c85f5fc40cd88ef8e": {
      "model_module": "@jupyter-widgets/controls",
      "model_module_version": "1.5.0",
      "model_name": "ButtonModel",
      "state": {
       "description": "EDIT",
       "layout": "IPY_MODEL_422dd091e236416894a5e706adb5d891",
       "style": "IPY_MODEL_be5b5e0376604ea7bceb52103cac7f7d"
      }
     },
     "d4b4016c1d474180a7abc5363a04333c": {
      "model_module": "@jupyter-widgets/controls",
      "model_module_version": "1.5.0",
      "model_name": "HBoxModel",
      "state": {
       "children": [
        "IPY_MODEL_f9af69f32fb5495093ec119db1dff40d",
        "IPY_MODEL_dec74e5540a545718baab35e5d018e16"
       ],
       "layout": "IPY_MODEL_9c3ced74ef494e9a91c160dba2f3dd4f"
      }
     },
     "d4c35181ac0a48e1a1cd7451871a9d7c": {
      "model_module": "@jupyter-widgets/controls",
      "model_module_version": "1.5.0",
      "model_name": "ButtonStyleModel",
      "state": {}
     },
     "d4c6e3c1d0c949d0b31e1a64e959e14b": {
      "model_module": "@jupyter-widgets/controls",
      "model_module_version": "1.5.0",
      "model_name": "ProgressStyleModel",
      "state": {
       "description_width": ""
      }
     },
     "d4f1a806e11a4bf7827057b9c6313c82": {
      "model_module": "@jupyter-widgets/controls",
      "model_module_version": "1.5.0",
      "model_name": "HBoxModel",
      "state": {
       "children": [
        "IPY_MODEL_d267576b2b1c409b9a6f29caec5d5bd0",
        "IPY_MODEL_53b26906e83141a0ae774ecbc1824c05",
        "IPY_MODEL_4a9c796de99c466ea9a32c5f8566ddae",
        "IPY_MODEL_34e15734aa304b90a30879d6a2fa3e5c"
       ],
       "layout": "IPY_MODEL_bf381b5b838648fcb15a83bc8e31d3a1"
      }
     },
     "d51a39351c5b4d55aa2852be7bd3ea06": {
      "model_module": "@jupyter-widgets/controls",
      "model_module_version": "1.5.0",
      "model_name": "HBoxModel",
      "state": {
       "children": [
        "IPY_MODEL_61d792f0cf214bc0bf22cfe487409098",
        "IPY_MODEL_d2399f729e26410997abac3f6805e486",
        "IPY_MODEL_bbf858991c844c368037050128cc2232",
        "IPY_MODEL_fc0c2f18baf042d1b586d8fc34e49243"
       ],
       "layout": "IPY_MODEL_4753de7b16e640d8ab6e460644f85b69"
      }
     },
     "d52af2b7ce7e4108bceecab37f8bba64": {
      "model_module": "@jupyter-widgets/base",
      "model_module_version": "1.2.0",
      "model_name": "LayoutModel",
      "state": {}
     },
     "d52b2ef041ae460a97783201fca1fc6b": {
      "model_module": "@jupyter-widgets/controls",
      "model_module_version": "1.5.0",
      "model_name": "DropdownModel",
      "state": {
       "_options_labels": [
        "Any",
        "Code of the Earthshaker",
        "Code of the Missile",
        "Code of the Juggernaut"
       ],
       "index": 0,
       "layout": "IPY_MODEL_155900e6730f4e259ae9cbcfdc979ed4",
       "style": "IPY_MODEL_4810ff3ce24b469dbc93968533e4ce00"
      }
     },
     "d570c4c211b14d1ab39a9b2ccd7fcf5c": {
      "model_module": "@jupyter-widgets/controls",
      "model_module_version": "1.5.0",
      "model_name": "ButtonModel",
      "state": {
       "layout": "IPY_MODEL_3938e619310549eabc5292b8d8adb9b0",
       "style": "IPY_MODEL_5c7c64d22b97439f95d17c044dda5af8"
      }
     },
     "d5ac7871279745d2b0db9d8cee0cac36": {
      "model_module": "@jupyter-widgets/base",
      "model_module_version": "1.2.0",
      "model_name": "LayoutModel",
      "state": {
       "overflow": "visible",
       "width": "100%"
      }
     },
     "d61ad40495b74eec8692a6d9020caa63": {
      "model_module": "@jupyter-widgets/controls",
      "model_module_version": "1.5.0",
      "model_name": "ButtonModel",
      "state": {
       "layout": "IPY_MODEL_20b85d9f318244b5935ad040aa0f00d2",
       "style": "IPY_MODEL_ade7d6412cb7486380774bd366400e35"
      }
     },
     "d68380d994684d15b1851be7bd53d2b7": {
      "model_module": "@jupyter-widgets/base",
      "model_module_version": "1.2.0",
      "model_name": "LayoutModel",
      "state": {
       "height": "32px",
       "overflow": "visible",
       "width": "100%"
      }
     },
     "d6aa8833c90f4e1298cae349c97e35d8": {
      "model_module": "@jupyter-widgets/controls",
      "model_module_version": "1.5.0",
      "model_name": "ButtonStyleModel",
      "state": {}
     },
     "d708ca62353743f385a2c4e695d109c5": {
      "model_module": "@jupyter-widgets/base",
      "model_module_version": "1.2.0",
      "model_name": "LayoutModel",
      "state": {
       "height": "32px",
       "overflow": "visible",
       "width": "100%"
      }
     },
     "d7373fa0df2642c88bc1253d695fab43": {
      "model_module": "@jupyter-widgets/controls",
      "model_module_version": "1.5.0",
      "model_name": "DescriptionStyleModel",
      "state": {
       "description_width": ""
      }
     },
     "d745e821f1f940b7abf975ba8cc4dc86": {
      "model_module": "@jupyter-widgets/controls",
      "model_module_version": "1.5.0",
      "model_name": "ButtonStyleModel",
      "state": {}
     },
     "d7572537655141b38b89103d75b94ce6": {
      "model_module": "@jupyter-widgets/controls",
      "model_module_version": "1.5.0",
      "model_name": "ButtonModel",
      "state": {
       "layout": "IPY_MODEL_f3e9b9fe85894c4d94656b7faba00f00",
       "style": "IPY_MODEL_2cc333d3ede4492d9ed14977b22499c8"
      }
     },
     "d79e7540a8a64283bdca42767ab87fc1": {
      "model_module": "@jupyter-widgets/controls",
      "model_module_version": "1.5.0",
      "model_name": "HTMLModel",
      "state": {
       "layout": "IPY_MODEL_6ef97285902f46db9cf800bc445afb21",
       "style": "IPY_MODEL_1aa8a4cee7c74bfe88dc9030677aef11",
       "value": "<font size=\"5\"><b>Become Legend</b></font size=>"
      }
     },
     "d7ba6298fa214b1287562f415568317e": {
      "model_module": "@jupyter-widgets/controls",
      "model_module_version": "1.5.0",
      "model_name": "IntProgressModel",
      "state": {
       "layout": "IPY_MODEL_47b1ea54b1634c088d15ba8a5289640b",
       "style": "IPY_MODEL_71f0b7d1f8da40738740a3218228e30b",
       "value": 30
      }
     },
     "d7c368edfa92430a96b6d0cbbe4c67a4": {
      "model_module": "@jupyter-widgets/controls",
      "model_module_version": "1.5.0",
      "model_name": "DescriptionStyleModel",
      "state": {
       "description_width": ""
      }
     },
     "d7c9afc24e6e419abcf386d96a5cba08": {
      "model_module": "@jupyter-widgets/controls",
      "model_module_version": "1.5.0",
      "model_name": "ButtonStyleModel",
      "state": {}
     },
     "d7e4b5194c68490fa9f9c6000b2adc92": {
      "model_module": "@jupyter-widgets/controls",
      "model_module_version": "1.5.0",
      "model_name": "DescriptionStyleModel",
      "state": {
       "description_width": ""
      }
     },
     "d8535bbeaafc48dfb85370d3b3837152": {
      "model_module": "@jupyter-widgets/controls",
      "model_module_version": "1.5.0",
      "model_name": "ProgressStyleModel",
      "state": {
       "description_width": ""
      }
     },
     "d86e95498e2c42b19e764000ced0f015": {
      "model_module": "@jupyter-widgets/controls",
      "model_module_version": "1.5.0",
      "model_name": "LabelModel",
      "state": {
       "layout": "IPY_MODEL_14ce1b6fa5b84df897ed5136c1554e3b",
       "style": "IPY_MODEL_7c365337d972453fa79854bc8b54fb91",
       "value": "In order to authenticate, sign in with Bungie to get an authentication code"
      }
     },
     "d86ed210408f4606980c2b41243813a7": {
      "model_module": "@jupyter-widgets/controls",
      "model_module_version": "1.5.0",
      "model_name": "LabelModel",
      "state": {
       "layout": "IPY_MODEL_68197d384ece4b18a5c945a8c2be5f98",
       "style": "IPY_MODEL_3849f5fea7d04e36804608823ceb2290",
       "value": "   objective"
      }
     },
     "d8bb97b870a44251a933b72e6e8c8b52": {
      "model_module": "@jupyter-widgets/controls",
      "model_module_version": "1.5.0",
      "model_name": "LabelModel",
      "state": {
       "layout": "IPY_MODEL_46f3384b98cd4c97a42b1f11a2ffa405",
       "style": "IPY_MODEL_39fbe5e01fc54c5984c7a195cff872cb",
       "value": "   objective"
      }
     },
     "d8dd0a4d642d4b8e8199a80965604ca3": {
      "model_module": "@jupyter-widgets/controls",
      "model_module_version": "1.5.0",
      "model_name": "ButtonModel",
      "state": {
       "layout": "IPY_MODEL_a7e337314d5b4bbc8528c9577f45d664",
       "style": "IPY_MODEL_e1eca6baccb64a3794f8b78c003a87da"
      }
     },
     "d8dea5cf8d0d47efba83d3631b79f88a": {
      "model_module": "@jupyter-widgets/controls",
      "model_module_version": "1.5.0",
      "model_name": "HTMLModel",
      "state": {
       "layout": "IPY_MODEL_3f921693a3b34296aded9e2f55223380",
       "style": "IPY_MODEL_bca0a6e53919491a97cca9bec27f897a",
       "value": "<font size=\"5\"><b>IX</b></font size=>"
      }
     },
     "d920319ae1364983bf78b866b0bee030": {
      "model_module": "@jupyter-widgets/controls",
      "model_module_version": "1.5.0",
      "model_name": "IntProgressModel",
      "state": {
       "layout": "IPY_MODEL_c78381aa48bf4ceea51219cfaf3f5ad8",
       "style": "IPY_MODEL_e4207e61f5b34f3e8e4502663abb88b8",
       "value": 30
      }
     },
     "d922de65f37e4089978c0619c12b07d6": {
      "model_module": "@jupyter-widgets/base",
      "model_module_version": "1.2.0",
      "model_name": "LayoutModel",
      "state": {
       "order": "-1",
       "overflow": "visible",
       "padding": "1px",
       "width": "0px"
      }
     },
     "da4a2be8a1f444e5a4c3623e9af8a8a3": {
      "model_module": "@jupyter-widgets/controls",
      "model_module_version": "1.5.0",
      "model_name": "ButtonStyleModel",
      "state": {}
     },
     "db01446dceec4a69bcd4fb4970113993": {
      "model_module": "@jupyter-widgets/controls",
      "model_module_version": "1.5.0",
      "model_name": "ButtonStyleModel",
      "state": {}
     },
     "db1159eb010049178ea14e983c2f93df": {
      "model_module": "@jupyter-widgets/controls",
      "model_module_version": "1.5.0",
      "model_name": "ButtonStyleModel",
      "state": {}
     },
     "db417183f4b54ca5a15a989480385e75": {
      "model_module": "@jupyter-widgets/controls",
      "model_module_version": "1.5.0",
      "model_name": "DropdownModel",
      "state": {
       "_options_labels": [
        "Any",
        "Titan",
        "Hunter",
        "Warlock"
       ],
       "disabled": true,
       "index": 1,
       "layout": "IPY_MODEL_17fdb3e950e146528895e66cb117b2a0",
       "style": "IPY_MODEL_5aa848c08a274445be1585303f4aebf2"
      }
     },
     "db5c017b08fc4780b291a254dbd15d38": {
      "model_module": "@jupyter-widgets/controls",
      "model_module_version": "1.5.0",
      "model_name": "ButtonModel",
      "state": {
       "description": "EDIT",
       "layout": "IPY_MODEL_f8c879bef8704938818faf22661e5b2a",
       "style": "IPY_MODEL_ca0933f2821d43bf888f54ab528eedda"
      }
     },
     "db5ed5bdfa824328aa9bf91d6ac66567": {
      "model_module": "@jupyter-widgets/controls",
      "model_module_version": "1.5.0",
      "model_name": "HTMLModel",
      "state": {
       "layout": "IPY_MODEL_e683b8199ae7409db69efa46eff11c81",
       "style": "IPY_MODEL_340e5e1059594391b99544550b08d7e5",
       "value": "<font size=\"1\">Triumphs/Seasonal/Events/The Revelry 2019</font size=>"
      }
     },
     "dbc33363226c46efb14a70c9b0161f6c": {
      "model_module": "@jupyter-widgets/controls",
      "model_module_version": "1.5.0",
      "model_name": "HTMLModel",
      "state": {
       "layout": "IPY_MODEL_be47ac3c8d814b02b0535e9b3b656515",
       "style": "IPY_MODEL_40dbbe66f29e4164805ea5e2a90d971c",
       "value": "<font size=\"1\">Triumphs/Vanguard/Raids/Last Wish</font size=>"
      }
     },
     "dbcc89ea7ba14e478affb14070a3989a": {
      "model_module": "@jupyter-widgets/base",
      "model_module_version": "1.2.0",
      "model_name": "LayoutModel",
      "state": {
       "display": "none"
      }
     },
     "dbf7d78834da41939e0cae2d3f206a89": {
      "model_module": "@jupyter-widgets/base",
      "model_module_version": "1.2.0",
      "model_name": "LayoutModel",
      "state": {
       "width": "60px"
      }
     },
     "dc05b555e72c44e2a6d9692cee117615": {
      "model_module": "@jupyter-widgets/controls",
      "model_module_version": "1.5.0",
      "model_name": "ButtonStyleModel",
      "state": {}
     },
     "dc19f42924ce441693cab634a60cfe42": {
      "model_module": "@jupyter-widgets/controls",
      "model_module_version": "1.5.0",
      "model_name": "ProgressStyleModel",
      "state": {
       "description_width": ""
      }
     },
     "dc398b901f3f4f53a5e8916e37b42713": {
      "model_module": "@jupyter-widgets/controls",
      "model_module_version": "1.5.0",
      "model_name": "IntProgressModel",
      "state": {
       "layout": "IPY_MODEL_098f15bd610749b9a3d6fd723d637542",
       "style": "IPY_MODEL_02fb3258abef4580aecffbad7fdedc03",
       "value": 30
      }
     },
     "dc3b9655eaa444ee8135e89801a48cf3": {
      "model_module": "@jupyter-widgets/controls",
      "model_module_version": "1.5.0",
      "model_name": "DescriptionStyleModel",
      "state": {
       "description_width": ""
      }
     },
     "dc54040a4fcb4a7eb3c7320ce9449059": {
      "model_module": "@jupyter-widgets/controls",
      "model_module_version": "1.5.0",
      "model_name": "ButtonStyleModel",
      "state": {}
     },
     "dc5f285984294c5ca5554b5677e1c4a0": {
      "model_module": "@jupyter-widgets/controls",
      "model_module_version": "1.5.0",
      "model_name": "ButtonStyleModel",
      "state": {}
     },
     "dd04c995a69c46d499b549cdf4f20c86": {
      "model_module": "@jupyter-widgets/controls",
      "model_module_version": "1.5.0",
      "model_name": "DescriptionStyleModel",
      "state": {
       "description_width": ""
      }
     },
     "dd1422a82878420c84e252b959c61642": {
      "model_module": "@jupyter-widgets/controls",
      "model_module_version": "1.5.0",
      "model_name": "ButtonModel",
      "state": {
       "description": "EDIT",
       "layout": "IPY_MODEL_89d8b214fd014fc986f91d701898ba2d",
       "style": "IPY_MODEL_92b51940e76243459b6ca5286d323747"
      }
     },
     "dd536c4f2edd43c8b2abdb05a3d0f5f1": {
      "model_module": "@jupyter-widgets/controls",
      "model_module_version": "1.5.0",
      "model_name": "DescriptionStyleModel",
      "state": {
       "description_width": ""
      }
     },
     "dd5c31e04d1747feb5edc9a5d06c0ad0": {
      "model_module": "@jupyter-widgets/controls",
      "model_module_version": "1.5.0",
      "model_name": "DropdownModel",
      "state": {
       "_options_labels": [
        "Any",
        "Patrol",
        "Gambit",
        "Reckoning",
        "Menagerie",
        "Vex Offensive",
        "Raid",
        "Strike",
        "Nightfall",
        "Crucible",
        "Forge"
       ],
       "disabled": true,
       "index": 9,
       "layout": "IPY_MODEL_17fdb3e950e146528895e66cb117b2a0",
       "style": "IPY_MODEL_d7e4b5194c68490fa9f9c6000b2adc92"
      }
     },
     "dd708634cfde4f82b0ae09e236fc8720": {
      "model_module": "@jupyter-widgets/controls",
      "model_module_version": "1.5.0",
      "model_name": "VBoxModel",
      "state": {
       "children": [
        "IPY_MODEL_5373751c8dc940bfb1c46a241e431f39",
        "IPY_MODEL_9f1383288e784751b199f046bb614a04",
        "IPY_MODEL_cca8f3179abc4420b27f405d09b6245e",
        "IPY_MODEL_b02aa94a477c4601bc18746d79a58c17"
       ],
       "layout": "IPY_MODEL_4547c7f87df34f2c9d26863bbebc64c3"
      }
     },
     "dd90bc5258a1494997576c2e239b82d5": {
      "model_module": "@jupyter-widgets/controls",
      "model_module_version": "1.5.0",
      "model_name": "ButtonStyleModel",
      "state": {}
     },
     "de27481db4d64cb5af95e2a257a9893b": {
      "model_module": "@jupyter-widgets/base",
      "model_module_version": "1.2.0",
      "model_name": "LayoutModel",
      "state": {
       "height": "32px",
       "order": "-2",
       "width": "32px"
      }
     },
     "de3335f1a73c4562a3b4256b05b91344": {
      "model_module": "@jupyter-widgets/controls",
      "model_module_version": "1.5.0",
      "model_name": "HBoxModel",
      "state": {
       "children": [
        "IPY_MODEL_fca576c87fff4093bcd8b0139658ed7f",
        "IPY_MODEL_f1de9d1359f84e118bec1f1ad5d9d435",
        "IPY_MODEL_1634feb27c374e9bba10c0b5cb27834f",
        "IPY_MODEL_46afea7f4516420bb80a6f668d9b39a5"
       ],
       "layout": "IPY_MODEL_5c21b1d32081407d82e0c6ac76e7ce8c"
      }
     },
     "dec74e5540a545718baab35e5d018e16": {
      "model_module": "@jupyter-widgets/controls",
      "model_module_version": "1.5.0",
      "model_name": "ButtonModel",
      "state": {
       "description": "Submit",
       "layout": "IPY_MODEL_a198ca0c7c8b40e183b3f4cbdfc291ee",
       "style": "IPY_MODEL_659045424a714603820953a1b2b2ab54"
      }
     },
     "df3a7d4c283f47788b56ae2c1aa5dd8d": {
      "model_module": "@jupyter-widgets/controls",
      "model_module_version": "1.5.0",
      "model_name": "ButtonStyleModel",
      "state": {}
     },
     "df4e02d0d46a4554b1bb41754ce5fa66": {
      "model_module": "@jupyter-widgets/controls",
      "model_module_version": "1.5.0",
      "model_name": "DescriptionStyleModel",
      "state": {
       "description_width": ""
      }
     },
     "df52dcc749414bf5abcf9bbc471ec632": {
      "model_module": "@jupyter-widgets/base",
      "model_module_version": "1.2.0",
      "model_name": "LayoutModel",
      "state": {
       "order": "-1",
       "overflow": "visible",
       "padding": "1px",
       "width": "0px"
      }
     },
     "e024b0be038c4ce48f339ba43601ab8f": {
      "model_module": "@jupyter-widgets/base",
      "model_module_version": "1.2.0",
      "model_name": "LayoutModel",
      "state": {
       "width": "60px"
      }
     },
     "e042bad0ccba48958a6031aa34100cf4": {
      "model_module": "@jupyter-widgets/base",
      "model_module_version": "1.2.0",
      "model_name": "LayoutModel",
      "state": {
       "height": "32px",
       "overflow": "visible",
       "width": "100%"
      }
     },
     "e0d8ab150c5340aa8049b8b6bc3d380e": {
      "model_module": "@jupyter-widgets/controls",
      "model_module_version": "1.5.0",
      "model_name": "VBoxModel",
      "state": {
       "children": [
        "IPY_MODEL_23107650983e4a42a08a77d6e06e4f39",
        "IPY_MODEL_6f5db5c1817740878986c77c9619e4f6",
        "IPY_MODEL_a17edd97f79b42c29fd459f690c9cde8",
        "IPY_MODEL_a3f6f18aebb645f5821ce1be70c6d9f3",
        "IPY_MODEL_3e2818b6fdbd434eae0a818bcef14081",
        "IPY_MODEL_d51a39351c5b4d55aa2852be7bd3ea06"
       ],
       "layout": "IPY_MODEL_f10604eaf7ec43aeb64862500e713aa9"
      }
     },
     "e0f34ce62e2246a0b435bf4f9fd41333": {
      "model_module": "@jupyter-widgets/controls",
      "model_module_version": "1.5.0",
      "model_name": "ProgressStyleModel",
      "state": {
       "description_width": ""
      }
     },
     "e1156812e150497bb07e3a9c8370c916": {
      "model_module": "@jupyter-widgets/controls",
      "model_module_version": "1.5.0",
      "model_name": "LabelModel",
      "state": {
       "layout": "IPY_MODEL_499add174747489a94c742616e0d29e2",
       "style": "IPY_MODEL_081260656c9b4222a9a7bd910d54f5b0",
       "value": "     (0/1)"
      }
     },
     "e12a9e39e3844e439010befb6e43c7b5": {
      "model_module": "@jupyter-widgets/base",
      "model_module_version": "1.2.0",
      "model_name": "LayoutModel",
      "state": {
       "order": "-1",
       "overflow": "visible",
       "padding": "1px",
       "width": "0px"
      }
     },
     "e12bb1db61b74e8f9d41b3af6f2f0fce": {
      "model_module": "@jupyter-widgets/controls",
      "model_module_version": "1.5.0",
      "model_name": "IntProgressModel",
      "state": {
       "layout": "IPY_MODEL_f1363287729e4d78a9fd8bb60fcc2a60",
       "style": "IPY_MODEL_e5752515ad604c1eae3d1cd5ec14e6bd",
       "value": 30
      }
     },
     "e17cf6a539a34e47a1d5e1b365a354a5": {
      "model_module": "@jupyter-widgets/controls",
      "model_module_version": "1.5.0",
      "model_name": "ButtonStyleModel",
      "state": {}
     },
     "e17dce5f88494798a13424a9149c330f": {
      "model_module": "@jupyter-widgets/controls",
      "model_module_version": "1.5.0",
      "model_name": "ButtonModel",
      "state": {
       "description": "EDIT",
       "layout": "IPY_MODEL_53276de3caf44a76b6200de2a094e2e2",
       "style": "IPY_MODEL_fe47e055763a48a7b9100808ba15f469"
      }
     },
     "e181a9d817d54f0d92d28d13252220b0": {
      "model_module": "@jupyter-widgets/controls",
      "model_module_version": "1.5.0",
      "model_name": "ButtonStyleModel",
      "state": {}
     },
     "e1eca6baccb64a3794f8b78c003a87da": {
      "model_module": "@jupyter-widgets/controls",
      "model_module_version": "1.5.0",
      "model_name": "ButtonStyleModel",
      "state": {}
     },
     "e2059dd3310b4747b1032d248c817887": {
      "model_module": "@jupyter-widgets/base",
      "model_module_version": "1.2.0",
      "model_name": "LayoutModel",
      "state": {
       "order": "-1",
       "overflow": "visible",
       "padding": "1px",
       "width": "0px"
      }
     },
     "e221a3145d564b168e2873c437f53605": {
      "model_module": "@jupyter-widgets/controls",
      "model_module_version": "1.5.0",
      "model_name": "IntProgressModel",
      "state": {
       "layout": "IPY_MODEL_e6923c58425341abb362c424628ed788",
       "style": "IPY_MODEL_eaa29d1ea007468785c408e0eb4778bf",
       "value": 30
      }
     },
     "e246f8758c1140119f3654d8e4384cc3": {
      "model_module": "@jupyter-widgets/controls",
      "model_module_version": "1.5.0",
      "model_name": "HTMLModel",
      "state": {
       "layout": "IPY_MODEL_494a3621a79c49439e177c932290e89b",
       "style": "IPY_MODEL_13c2008839a146e0be403eab447d7ea7",
       "value": "<font size=\"5\"><b>Time Lapse</b></font size=>"
      }
     },
     "e24aa0769c9a40a6a5f7a2600ea55fe4": {
      "model_module": "@jupyter-widgets/controls",
      "model_module_version": "1.5.0",
      "model_name": "DescriptionStyleModel",
      "state": {
       "description_width": ""
      }
     },
     "e25430ecf1e545a6a496d5863c6c83d1": {
      "model_module": "@jupyter-widgets/controls",
      "model_module_version": "1.5.0",
      "model_name": "LabelModel",
      "state": {
       "layout": "IPY_MODEL_5f5d1fd1354c40d087a78d2e4cd060c2",
       "style": "IPY_MODEL_831696a3f9a44aa29a9a993113abf666",
       "value": "   objective"
      }
     },
     "e2589044c5c04f2fab2f8abfe285f3f7": {
      "model_module": "@jupyter-widgets/controls",
      "model_module_version": "1.5.0",
      "model_name": "ProgressStyleModel",
      "state": {
       "description_width": ""
      }
     },
     "e2e49f4d1863401eb1f99544aed27f86": {
      "model_module": "@jupyter-widgets/controls",
      "model_module_version": "1.5.0",
      "model_name": "DescriptionStyleModel",
      "state": {
       "description_width": ""
      }
     },
     "e34add24fb9548f18252fed0f1a08c00": {
      "model_module": "@jupyter-widgets/controls",
      "model_module_version": "1.5.0",
      "model_name": "VBoxModel",
      "state": {
       "children": [
        "IPY_MODEL_8043199744c74231ab44c9c5958c431f",
        "IPY_MODEL_4fed6d73828a43dda3a2c3bd9af1ef3d",
        "IPY_MODEL_db417183f4b54ca5a15a989480385e75",
        "IPY_MODEL_1bb09765b2e84c8abd34f9f64767f861",
        "IPY_MODEL_f64317f3548a42058aaff1b1a22ecd92",
        "IPY_MODEL_bd96458df77947eaa38eaadaa841796d",
        "IPY_MODEL_d52b2ef041ae460a97783201fca1fc6b",
        "IPY_MODEL_2e3714f7c8024bddbe159f3908b3d8a7",
        "IPY_MODEL_9cf47504ff614ee389165aa0060e9206"
       ],
       "layout": "IPY_MODEL_f349a10dd9ad49bc98ffb915bbeea6bc"
      }
     },
     "e36a8327029842aab33e5051c416ed13": {
      "model_module": "@jupyter-widgets/controls",
      "model_module_version": "1.5.0",
      "model_name": "VBoxModel",
      "state": {
       "children": [
        "IPY_MODEL_8613a2b5a95041018af4e502920049fc",
        "IPY_MODEL_e5c0927fe2c646fa84ae4b6d39a875cd",
        "IPY_MODEL_c6272dad5287470b9ee8e0710897f0e9",
        "IPY_MODEL_c477611e1ab1442cb0057273d22e96a8"
       ],
       "layout": "IPY_MODEL_2eaa6e4f21654a22b5046c9069736897"
      }
     },
     "e37f5a538d1c4375bd4dc43a5ed82bae": {
      "model_module": "@jupyter-widgets/base",
      "model_module_version": "1.2.0",
      "model_name": "LayoutModel",
      "state": {
       "order": "-1",
       "overflow": "visible",
       "padding": "1px",
       "width": "0px"
      }
     },
     "e3d25a1f657d494f9d88c607edae3e34": {
      "model_module": "@jupyter-widgets/controls",
      "model_module_version": "1.5.0",
      "model_name": "LabelModel",
      "state": {
       "layout": "IPY_MODEL_4f82bd6bb32944db97da8e69b9c02b37",
       "style": "IPY_MODEL_95c131216a5d467ba95ff1e2f2a3dd79",
       "value": "   objective"
      }
     },
     "e3f8ea9c03784a1487f45f71c25e77e0": {
      "model_module": "@jupyter-widgets/controls",
      "model_module_version": "1.5.0",
      "model_name": "DescriptionStyleModel",
      "state": {
       "description_width": ""
      }
     },
     "e4180139fc234577b867a6a9ff4a20c3": {
      "model_module": "@jupyter-widgets/controls",
      "model_module_version": "1.5.0",
      "model_name": "ButtonStyleModel",
      "state": {}
     },
     "e4207e61f5b34f3e8e4502663abb88b8": {
      "model_module": "@jupyter-widgets/controls",
      "model_module_version": "1.5.0",
      "model_name": "ProgressStyleModel",
      "state": {
       "description_width": ""
      }
     },
     "e450c11117f7491b98acb5b3db0770b5": {
      "model_module": "@jupyter-widgets/controls",
      "model_module_version": "1.5.0",
      "model_name": "LabelModel",
      "state": {
       "layout": "IPY_MODEL_d09f326af0dd46b5b837c94be53cbc84",
       "style": "IPY_MODEL_9f40bbe0364f49cca70cf848088729ae",
       "value": "    Medals earned (0/1)"
      }
     },
     "e4916acd610b4573bb51b1bf89777a25": {
      "model_module": "@jupyter-widgets/controls",
      "model_module_version": "1.5.0",
      "model_name": "LabelModel",
      "state": {
       "layout": "IPY_MODEL_01d666b24e7042e5bd1df02498c0ce78",
       "style": "IPY_MODEL_64b4ac98da9c49ad87a765aa94dcef30",
       "value": "   objective"
      }
     },
     "e498cdea885b4f36befbce6628eeb175": {
      "model_module": "@jupyter-widgets/controls",
      "model_module_version": "1.5.0",
      "model_name": "ButtonStyleModel",
      "state": {}
     },
     "e4e3d23b2ea3432f8c5c3dedf4ec959f": {
      "model_module": "@jupyter-widgets/controls",
      "model_module_version": "1.5.0",
      "model_name": "ButtonStyleModel",
      "state": {}
     },
     "e5040daf55884d4184246ee15ef6dd77": {
      "model_module": "@jupyter-widgets/base",
      "model_module_version": "1.2.0",
      "model_name": "LayoutModel",
      "state": {}
     },
     "e53e3c44fd5643df8ed9f44b31746dda": {
      "model_module": "@jupyter-widgets/controls",
      "model_module_version": "1.5.0",
      "model_name": "DescriptionStyleModel",
      "state": {
       "description_width": ""
      }
     },
     "e5752515ad604c1eae3d1cd5ec14e6bd": {
      "model_module": "@jupyter-widgets/controls",
      "model_module_version": "1.5.0",
      "model_name": "ProgressStyleModel",
      "state": {
       "description_width": ""
      }
     },
     "e5c0927fe2c646fa84ae4b6d39a875cd": {
      "model_module": "@jupyter-widgets/controls",
      "model_module_version": "1.5.0",
      "model_name": "HTMLModel",
      "state": {
       "layout": "IPY_MODEL_5102dd666f5746e490cf549456574373",
       "style": "IPY_MODEL_ef08047fa23049c9a3c8041ae0f6fd6b",
       "value": "<font size=\"5\"><b>The Expedition</b></font size=>"
      }
     },
     "e5c672280bcc49b1a7bb609cd7f9d553": {
      "model_module": "@jupyter-widgets/controls",
      "model_module_version": "1.5.0",
      "model_name": "DropdownModel",
      "state": {
       "_options_labels": [
        "Any",
        "Arc",
        "Solar",
        "Void"
       ],
       "index": 0,
       "layout": "IPY_MODEL_155900e6730f4e259ae9cbcfdc979ed4",
       "style": "IPY_MODEL_7472eecd2f9f42c290b382bc8db04c2f"
      }
     },
     "e5f0291d0adf4e9dbbba266870b1bd68": {
      "model_module": "@jupyter-widgets/controls",
      "model_module_version": "1.5.0",
      "model_name": "DescriptionStyleModel",
      "state": {
       "description_width": ""
      }
     },
     "e61d1a9c7721419094d1e07177e08081": {
      "model_module": "@jupyter-widgets/controls",
      "model_module_version": "1.5.0",
      "model_name": "FloatProgressModel",
      "state": {
       "description": "Loading:",
       "layout": "IPY_MODEL_95b51d1fabaf4826b3086f9e2f739d48",
       "max": 6,
       "style": "IPY_MODEL_515a508cc14d404ea017b355d31199f8",
       "value": 6
      }
     },
     "e62d3f0c66ce4ae18579fdc8b0515324": {
      "model_module": "@jupyter-widgets/base",
      "model_module_version": "1.2.0",
      "model_name": "LayoutModel",
      "state": {
       "width": "60px"
      }
     },
     "e630c982fd67436c950df65e8291c852": {
      "model_module": "@jupyter-widgets/controls",
      "model_module_version": "1.5.0",
      "model_name": "VBoxModel",
      "state": {
       "children": [
        "IPY_MODEL_d86e95498e2c42b19e764000ced0f015",
        "IPY_MODEL_3bdf355db59641e08abc7846ec8038ac",
        "IPY_MODEL_d4b4016c1d474180a7abc5363a04333c"
       ],
       "layout": "IPY_MODEL_46ba39b85be54a8ba611bb30f1775d6f"
      }
     },
     "e66a2734a0ff4cab81029f63cb674d42": {
      "model_module": "@jupyter-widgets/controls",
      "model_module_version": "1.5.0",
      "model_name": "DescriptionStyleModel",
      "state": {
       "description_width": ""
      }
     },
     "e683b8199ae7409db69efa46eff11c81": {
      "model_module": "@jupyter-widgets/base",
      "model_module_version": "1.2.0",
      "model_name": "LayoutModel",
      "state": {
       "overflow": "visible",
       "width": "100%"
      }
     },
     "e6923c58425341abb362c424628ed788": {
      "model_module": "@jupyter-widgets/base",
      "model_module_version": "1.2.0",
      "model_name": "LayoutModel",
      "state": {
       "height": "32px",
       "overflow": "visible",
       "width": "100%"
      }
     },
     "e6942b2505bb48b080533283f848dc38": {
      "model_module": "@jupyter-widgets/base",
      "model_module_version": "1.2.0",
      "model_name": "LayoutModel",
      "state": {
       "height": "32px",
       "order": "-2",
       "width": "32px"
      }
     },
     "e6befeae9efc4721a342933fc59b7ce9": {
      "model_module": "@jupyter-widgets/controls",
      "model_module_version": "1.5.0",
      "model_name": "HBoxModel",
      "state": {
       "children": [
        "IPY_MODEL_c66719242404480ab2d76f661638a29f",
        "IPY_MODEL_ca9a2dce3b924ca0bffd9c5faa87fbc4",
        "IPY_MODEL_775d5ea1d8e544ac8b9068eac93a0a46",
        "IPY_MODEL_a2066fe354dc486c98ec1f78b1836917"
       ],
       "layout": "IPY_MODEL_2efb73ee945145fe90b8f9babd7c00f9"
      }
     },
     "e6db184c7a02494baea03ba80b9916c7": {
      "model_module": "@jupyter-widgets/controls",
      "model_module_version": "1.5.0",
      "model_name": "ButtonStyleModel",
      "state": {}
     },
     "e6df67b512de4645b606e6c92d394535": {
      "model_module": "@jupyter-widgets/base",
      "model_module_version": "1.2.0",
      "model_name": "LayoutModel",
      "state": {
       "height": "32px",
       "overflow": "visible",
       "width": "100%"
      }
     },
     "e723cbaf2ce7403bb29f7f6a0ee261da": {
      "model_module": "@jupyter-widgets/controls",
      "model_module_version": "1.5.0",
      "model_name": "ButtonModel",
      "state": {
       "layout": "IPY_MODEL_09ba6e1544d2401e9a813535e7dd3b71",
       "style": "IPY_MODEL_b2fefcd13eba47e1809bfd960d2d6532"
      }
     },
     "e76362dd8b694f09a453de0d6ea13d29": {
      "model_module": "@jupyter-widgets/controls",
      "model_module_version": "1.5.0",
      "model_name": "ProgressStyleModel",
      "state": {
       "description_width": ""
      }
     },
     "e778dbda9e30406880eeceb0f4ef17c9": {
      "model_module": "@jupyter-widgets/base",
      "model_module_version": "1.2.0",
      "model_name": "LayoutModel",
      "state": {
       "order": "-1",
       "overflow": "visible",
       "padding": "1px",
       "width": "0px"
      }
     },
     "e7874e6322d740ae8aa2df96519f42c4": {
      "model_module": "@jupyter-widgets/controls",
      "model_module_version": "1.5.0",
      "model_name": "DescriptionStyleModel",
      "state": {
       "description_width": ""
      }
     },
     "e78de971dd644069999c3e6a6c1f8c06": {
      "model_module": "@jupyter-widgets/base",
      "model_module_version": "1.2.0",
      "model_name": "LayoutModel",
      "state": {
       "order": "-1",
       "overflow": "visible",
       "padding": "1px",
       "width": "0px"
      }
     },
     "e7dc42ce6ba24ca897efff825cbee0cf": {
      "model_module": "@jupyter-widgets/base",
      "model_module_version": "1.2.0",
      "model_name": "LayoutModel",
      "state": {
       "height": "32px",
       "overflow": "visible",
       "width": "100%"
      }
     },
     "e7ea626989aa4967bd7dfdbfa097ca5b": {
      "model_module": "@jupyter-widgets/controls",
      "model_module_version": "1.5.0",
      "model_name": "ButtonStyleModel",
      "state": {}
     },
     "e7f18a189b404b89aecc1bfcb8a44f4c": {
      "model_module": "@jupyter-widgets/controls",
      "model_module_version": "1.5.0",
      "model_name": "VBoxModel",
      "state": {
       "children": [
        "IPY_MODEL_0bac5521e4864e0e9701a72182eae46d",
        "IPY_MODEL_30d0f6f05cf04d8dac9bb1e648da7fb0",
        "IPY_MODEL_0e97bdbd07ca42e19c3932be360d8846",
        "IPY_MODEL_cd60b8580bd041eeb070cb98917e72dd"
       ],
       "layout": "IPY_MODEL_727965256e0c4ad89f3cfc0a79afa9e8"
      }
     },
     "e80cbe20210d476fa49c2ce376d06ce1": {
      "model_module": "@jupyter-widgets/controls",
      "model_module_version": "1.5.0",
      "model_name": "LabelModel",
      "state": {
       "layout": "IPY_MODEL_ffe497d3e89a4286bcaa51e9bff4a411",
       "style": "IPY_MODEL_638affa295134f64ad352e1abb3806e2",
       "value": "   objective"
      }
     },
     "e822df1ed7594f238f94c44ca3c03d94": {
      "model_module": "@jupyter-widgets/base",
      "model_module_version": "1.2.0",
      "model_name": "LayoutModel",
      "state": {
       "height": "32px",
       "order": "-2",
       "width": "32px"
      }
     },
     "e8830034720d44818a8353767333e940": {
      "model_module": "@jupyter-widgets/base",
      "model_module_version": "1.2.0",
      "model_name": "LayoutModel",
      "state": {
       "height": "32px",
       "overflow": "visible",
       "width": "100%"
      }
     },
     "e896386346654c95809c7fd53be3e75e": {
      "model_module": "@jupyter-widgets/controls",
      "model_module_version": "1.5.0",
      "model_name": "ButtonModel",
      "state": {
       "description": "EDIT",
       "layout": "IPY_MODEL_341daaca4f874aadb85b5e28242a6898",
       "style": "IPY_MODEL_8c7ebf501b154063be1cbc8db57f90fc"
      }
     },
     "e896ef730ee64e39a639ee846ce7558e": {
      "model_module": "@jupyter-widgets/controls",
      "model_module_version": "1.5.0",
      "model_name": "DescriptionStyleModel",
      "state": {
       "description_width": ""
      }
     },
     "e8ace6ee05084507afcad62a8ab7d09b": {
      "model_module": "@jupyter-widgets/controls",
      "model_module_version": "1.5.0",
      "model_name": "ButtonStyleModel",
      "state": {}
     },
     "e8d8ff60eca3402d8b1dfe0b4ffe0741": {
      "model_module": "@jupyter-widgets/controls",
      "model_module_version": "1.5.0",
      "model_name": "LabelModel",
      "state": {
       "layout": "IPY_MODEL_5eed51ab785f467bb75d5f6baf97f5f6",
       "style": "IPY_MODEL_3d5a62015e1f4aa9a810c532935048ca",
       "value": "    Valor ranks (0/1)"
      }
     },
     "e8f9526bfc914169b887ee927e5d2562": {
      "model_module": "@jupyter-widgets/controls",
      "model_module_version": "1.5.0",
      "model_name": "LabelModel",
      "state": {
       "layout": "IPY_MODEL_f3afa0a07a4743edba27c10974b0616b",
       "style": "IPY_MODEL_36cafbefb0784cbfa30a22f27740d328",
       "value": "   objective"
      }
     },
     "e8fcb26a44bb4d89a466bbc3e74ad9a2": {
      "model_module": "@jupyter-widgets/controls",
      "model_module_version": "1.5.0",
      "model_name": "IntProgressModel",
      "state": {
       "layout": "IPY_MODEL_2fadda57d54c4ca09007492e61b4412d",
       "max": 1,
       "style": "IPY_MODEL_c5437099805c47f2a987b23e482b2529"
      }
     },
     "e9060885aec742a4aea9229468d506e8": {
      "model_module": "@jupyter-widgets/controls",
      "model_module_version": "1.5.0",
      "model_name": "ButtonStyleModel",
      "state": {}
     },
     "e933672f98b1456aa2393ec2d19921d7": {
      "model_module": "@jupyter-widgets/controls",
      "model_module_version": "1.5.0",
      "model_name": "ButtonStyleModel",
      "state": {}
     },
     "e95a22e642544fe0881490abbb38f3c9": {
      "model_module": "@jupyter-widgets/controls",
      "model_module_version": "1.5.0",
      "model_name": "HTMLModel",
      "state": {
       "layout": "IPY_MODEL_b684749a6b814e188a7568ea93b0b8a6",
       "style": "IPY_MODEL_e896ef730ee64e39a639ee846ce7558e",
       "value": "<i></i>"
      }
     },
     "e9d9e314a1ac4d96b2496e579ca27ff8": {
      "model_module": "@jupyter-widgets/base",
      "model_module_version": "1.2.0",
      "model_name": "LayoutModel",
      "state": {}
     },
     "e9ffa842da5a49a69a7fb50238c6a002": {
      "model_module": "@jupyter-widgets/base",
      "model_module_version": "1.2.0",
      "model_name": "LayoutModel",
      "state": {
       "height": "32px",
       "overflow": "visible",
       "width": "100%"
      }
     },
     "ea1842cfb57e48fa8b3bee1024e70484": {
      "model_module": "@jupyter-widgets/controls",
      "model_module_version": "1.5.0",
      "model_name": "ProgressStyleModel",
      "state": {
       "description_width": ""
      }
     },
     "ea40ec2ba69642188f16cfdc01b8ce6b": {
      "model_module": "@jupyter-widgets/controls",
      "model_module_version": "1.5.0",
      "model_name": "HBoxModel",
      "state": {
       "children": [
        "IPY_MODEL_c5a4d6a940f6475898076a03ec9acc29",
        "IPY_MODEL_6e27cd16884d464f80e177d93c11661e",
        "IPY_MODEL_825de49b85d34fdba221108550366bb9",
        "IPY_MODEL_218fbcb56d844fb695675884940b4a6b"
       ],
       "layout": "IPY_MODEL_d11325afb2d546c1b1c25279e0b00e0e"
      }
     },
     "ea5e3d6b53ce44469642947b274e1ff4": {
      "model_module": "@jupyter-widgets/controls",
      "model_module_version": "1.5.0",
      "model_name": "ButtonStyleModel",
      "state": {}
     },
     "ea68bb8d6926407e9785c74236b8aa63": {
      "model_module": "@jupyter-widgets/base",
      "model_module_version": "1.2.0",
      "model_name": "LayoutModel",
      "state": {
       "height": "32px",
       "overflow": "visible",
       "width": "100%"
      }
     },
     "ea6f00a0591040259373187d388d8f59": {
      "model_module": "@jupyter-widgets/controls",
      "model_module_version": "1.5.0",
      "model_name": "DescriptionStyleModel",
      "state": {
       "description_width": ""
      }
     },
     "ea91f8737082409589eb071d5b5c4ea8": {
      "model_module": "@jupyter-widgets/controls",
      "model_module_version": "1.5.0",
      "model_name": "DropdownModel",
      "state": {
       "_options_labels": [
        "Any",
        "Machine Gun",
        "Sword",
        "Grenade Launcher",
        "Rocket Launcher",
        "Linear Fusion Rifle"
       ],
       "index": 0,
       "layout": "IPY_MODEL_155900e6730f4e259ae9cbcfdc979ed4",
       "style": "IPY_MODEL_4b3110e3b45c4b988fab11ef979c371d"
      }
     },
     "eaa29d1ea007468785c408e0eb4778bf": {
      "model_module": "@jupyter-widgets/controls",
      "model_module_version": "1.5.0",
      "model_name": "ProgressStyleModel",
      "state": {
       "description_width": ""
      }
     },
     "ead998b9279745c6baf468a01dbdef7c": {
      "model_module": "@jupyter-widgets/base",
      "model_module_version": "1.2.0",
      "model_name": "LayoutModel",
      "state": {
       "height": "32px",
       "overflow": "visible",
       "width": "100%"
      }
     },
     "eadbfac2c3f540cea8785591d385b434": {
      "model_module": "@jupyter-widgets/controls",
      "model_module_version": "1.5.0",
      "model_name": "ProgressStyleModel",
      "state": {
       "description_width": ""
      }
     },
     "eb0c12883ad94caaac9a66ff9c2dd141": {
      "model_module": "@jupyter-widgets/controls",
      "model_module_version": "1.5.0",
      "model_name": "DescriptionStyleModel",
      "state": {
       "description_width": ""
      }
     },
     "eb1adf52575f4fe6987e289f637238a0": {
      "model_module": "@jupyter-widgets/base",
      "model_module_version": "1.2.0",
      "model_name": "LayoutModel",
      "state": {
       "height": "32px",
       "order": "-2",
       "width": "32px"
      }
     },
     "eb3e5ca600744c329e0d4dace4a37219": {
      "model_module": "@jupyter-widgets/controls",
      "model_module_version": "1.5.0",
      "model_name": "ButtonStyleModel",
      "state": {}
     },
     "eb4ab95ae98e48f7a6bb95b0647115c5": {
      "model_module": "@jupyter-widgets/controls",
      "model_module_version": "1.5.0",
      "model_name": "DescriptionStyleModel",
      "state": {
       "description_width": ""
      }
     },
     "eb7cb3cd4e9040b0a19e5be9f1785541": {
      "model_module": "@jupyter-widgets/controls",
      "model_module_version": "1.5.0",
      "model_name": "HBoxModel",
      "state": {
       "children": [
        "IPY_MODEL_f2251439f4404ffda1438191e6e2b6c3",
        "IPY_MODEL_59373bf3960c4699898e4efe51608406",
        "IPY_MODEL_36387b8b508640c7b4eb0786d58827cb",
        "IPY_MODEL_c49aa93330494161918f6108bf9fa838"
       ],
       "layout": "IPY_MODEL_2ca19960bce94d7fa40550c1c89fe60d"
      }
     },
     "eb9e19ca26d64a85a9e6530f0bcc8705": {
      "model_module": "@jupyter-widgets/base",
      "model_module_version": "1.2.0",
      "model_name": "LayoutModel",
      "state": {
       "height": "32px",
       "overflow": "visible",
       "width": "100%"
      }
     },
     "ec0d16eaa5a34c6da09cce9e47332ce6": {
      "model_module": "@jupyter-widgets/controls",
      "model_module_version": "1.5.0",
      "model_name": "ButtonModel",
      "state": {
       "description": "EDIT",
       "layout": "IPY_MODEL_6963170fddbb4d94923657c7139bbd36",
       "style": "IPY_MODEL_8a4c209974a14c5696a5d9cc2cdda586"
      }
     },
     "ec0e1e3c0ba645599ab0cc9a284b1ce3": {
      "model_module": "@jupyter-widgets/base",
      "model_module_version": "1.2.0",
      "model_name": "LayoutModel",
      "state": {
       "display": "none"
      }
     },
     "ec2ba130333a47bd94da3e5aa5a06814": {
      "model_module": "@jupyter-widgets/controls",
      "model_module_version": "1.5.0",
      "model_name": "ButtonStyleModel",
      "state": {}
     },
     "ec30bd3473644a3fac3e303044195d81": {
      "model_module": "@jupyter-widgets/controls",
      "model_module_version": "1.5.0",
      "model_name": "IntProgressModel",
      "state": {
       "layout": "IPY_MODEL_bfc1981e48a54f5a853cdc53dd4f5656",
       "style": "IPY_MODEL_0cfe61de2adf42a1a8385ae2e1d04a45",
       "value": 30
      }
     },
     "ec72b7f123cf4e5dae50562e324239df": {
      "model_module": "@jupyter-widgets/base",
      "model_module_version": "1.2.0",
      "model_name": "LayoutModel",
      "state": {
       "order": "-1",
       "overflow": "visible",
       "padding": "1px",
       "width": "0px"
      }
     },
     "ecf959b8b60b4c38bc6cf034432074b2": {
      "model_module": "@jupyter-widgets/controls",
      "model_module_version": "1.5.0",
      "model_name": "IntProgressModel",
      "state": {
       "layout": "IPY_MODEL_d0859f9ce6bc47b3baffd53e69e23fac",
       "style": "IPY_MODEL_a0dcff49892748d2877d0438a38dc41c",
       "value": 30
      }
     },
     "ed07d44545fe43c19ee40f7cfe0857a1": {
      "model_module": "@jupyter-widgets/base",
      "model_module_version": "1.2.0",
      "model_name": "LayoutModel",
      "state": {
       "height": "32px",
       "order": "-2",
       "width": "32px"
      }
     },
     "ed106c86276944af9490bdcd85a334dd": {
      "model_module": "@jupyter-widgets/base",
      "model_module_version": "1.2.0",
      "model_name": "LayoutModel",
      "state": {
       "display": "flex",
       "flex_flow": "row wrap"
      }
     },
     "ed4277ecf9af48afa24e195b329ef735": {
      "model_module": "@jupyter-widgets/controls",
      "model_module_version": "1.5.0",
      "model_name": "DescriptionStyleModel",
      "state": {
       "description_width": ""
      }
     },
     "ed62504e042b4803926770171107ee7f": {
      "model_module": "@jupyter-widgets/base",
      "model_module_version": "1.2.0",
      "model_name": "LayoutModel",
      "state": {
       "width": "60px"
      }
     },
     "ed6e722ef4de434ca0e6944087c6b69a": {
      "model_module": "@jupyter-widgets/base",
      "model_module_version": "1.2.0",
      "model_name": "LayoutModel",
      "state": {
       "height": "32px",
       "order": "-2",
       "width": "32px"
      }
     },
     "ed859aeede8f4cca93f68da09b723259": {
      "model_module": "@jupyter-widgets/base",
      "model_module_version": "1.2.0",
      "model_name": "LayoutModel",
      "state": {
       "width": "60px"
      }
     },
     "edd80904cd33457ea0003d668baeca87": {
      "model_module": "@jupyter-widgets/controls",
      "model_module_version": "1.5.0",
      "model_name": "ButtonModel",
      "state": {
       "layout": "IPY_MODEL_0ffb1897647b4e519968717809a48954",
       "style": "IPY_MODEL_7a55e5dcc1284cc6aac675c66f8172b9"
      }
     },
     "edeb089b6e9742b79da4bbf4ccd29064": {
      "model_module": "@jupyter-widgets/controls",
      "model_module_version": "1.5.0",
      "model_name": "HBoxModel",
      "state": {
       "children": [
        "IPY_MODEL_f490c4de49a24f6a8c0f3c614408f7c8",
        "IPY_MODEL_221854e531b44d16905588c2111296a9",
        "IPY_MODEL_f357726cf864412393a917c5f9c632b7",
        "IPY_MODEL_019465e3ff244e0ba241c47c61644c6a"
       ],
       "layout": "IPY_MODEL_1308d81fd4d34eb4aaa5ce2fe7c311b0"
      }
     },
     "edeeee48f53349f69576fb03bf5974d2": {
      "model_module": "@jupyter-widgets/controls",
      "model_module_version": "1.5.0",
      "model_name": "LabelModel",
      "state": {
       "layout": "IPY_MODEL_8d48b103f4f14a92adf156433f4e74c1",
       "style": "IPY_MODEL_9d042b6e972141e9bdbfba249101417b",
       "value": "Energy Weapon:"
      }
     },
     "eea66efc72b5418dbf8b1e9a85e854a6": {
      "model_module": "@jupyter-widgets/base",
      "model_module_version": "1.2.0",
      "model_name": "LayoutModel",
      "state": {}
     },
     "eeb5bdf90ccf451c8f669639495988b3": {
      "model_module": "@jupyter-widgets/base",
      "model_module_version": "1.2.0",
      "model_name": "LayoutModel",
      "state": {
       "height": "32px",
       "overflow": "visible",
       "width": "100%"
      }
     },
     "eeefba6e662649c7a6edd2312d59a212": {
      "model_module": "@jupyter-widgets/base",
      "model_module_version": "1.2.0",
      "model_name": "LayoutModel",
      "state": {
       "border": "3px solid white",
       "display": "flex",
       "flex": "1 1 0%",
       "margin": "10px",
       "min_width": "400px",
       "overflow": "visible",
       "padding": "10px",
       "width": "auto"
      }
     },
     "ef08047fa23049c9a3c8041ae0f6fd6b": {
      "model_module": "@jupyter-widgets/controls",
      "model_module_version": "1.5.0",
      "model_name": "DescriptionStyleModel",
      "state": {
       "description_width": ""
      }
     },
     "ef9487958bf04c5684968676634a6c7a": {
      "model_module": "@jupyter-widgets/controls",
      "model_module_version": "1.5.0",
      "model_name": "ButtonModel",
      "state": {
       "layout": "IPY_MODEL_eb1adf52575f4fe6987e289f637238a0",
       "style": "IPY_MODEL_6be78094224a4cafa5a78998589a4593"
      }
     },
     "efa1032387794b0eadfe507c062c4c3b": {
      "model_module": "@jupyter-widgets/controls",
      "model_module_version": "1.5.0",
      "model_name": "ProgressStyleModel",
      "state": {
       "description_width": ""
      }
     },
     "f0a4458a23ee4b3096fbf3a365b20578": {
      "model_module": "@jupyter-widgets/controls",
      "model_module_version": "1.5.0",
      "model_name": "LabelModel",
      "state": {
       "layout": "IPY_MODEL_a9ecd87743a24a9aa18bbcd1fa955a10",
       "style": "IPY_MODEL_39b8568372a84772ad4e5f0b277224f4",
       "value": "   objective"
      }
     },
     "f0c38eda28674c75b026346ff99b0349": {
      "model_module": "@jupyter-widgets/base",
      "model_module_version": "1.2.0",
      "model_name": "LayoutModel",
      "state": {
       "height": "32px",
       "order": "-2",
       "width": "32px"
      }
     },
     "f0fd534e5923443eb3a9973b83de3792": {
      "model_module": "@jupyter-widgets/controls",
      "model_module_version": "1.5.0",
      "model_name": "ProgressStyleModel",
      "state": {
       "description_width": ""
      }
     },
     "f10604eaf7ec43aeb64862500e713aa9": {
      "model_module": "@jupyter-widgets/base",
      "model_module_version": "1.2.0",
      "model_name": "LayoutModel",
      "state": {}
     },
     "f10c39eaad934e2491d48b91d75b367e": {
      "model_module": "@jupyter-widgets/base",
      "model_module_version": "1.2.0",
      "model_name": "LayoutModel",
      "state": {
       "order": "-1",
       "overflow": "visible",
       "padding": "1px",
       "width": "0px"
      }
     },
     "f12ba5f299194084b3d9209cd49abd02": {
      "model_module": "@jupyter-widgets/controls",
      "model_module_version": "1.5.0",
      "model_name": "ButtonStyleModel",
      "state": {}
     },
     "f1363287729e4d78a9fd8bb60fcc2a60": {
      "model_module": "@jupyter-widgets/base",
      "model_module_version": "1.2.0",
      "model_name": "LayoutModel",
      "state": {
       "height": "32px",
       "overflow": "visible",
       "width": "100%"
      }
     },
     "f161b2d89eae49bbaede07fc33f92c32": {
      "model_module": "@jupyter-widgets/base",
      "model_module_version": "1.2.0",
      "model_name": "LayoutModel",
      "state": {
       "overflow": "visible",
       "width": "100%"
      }
     },
     "f1d97be1b95a46d68c7e766f832f23f7": {
      "model_module": "@jupyter-widgets/controls",
      "model_module_version": "1.5.0",
      "model_name": "LabelModel",
      "state": {
       "layout": "IPY_MODEL_abd5ce542b6f47e89b95468c1f808701",
       "style": "IPY_MODEL_86880a6bf1bc494a8f9e6fe1299979f3",
       "value": "   objective"
      }
     },
     "f1de9d1359f84e118bec1f1ad5d9d435": {
      "model_module": "@jupyter-widgets/controls",
      "model_module_version": "1.5.0",
      "model_name": "IntProgressModel",
      "state": {
       "layout": "IPY_MODEL_e8830034720d44818a8353767333e940",
       "style": "IPY_MODEL_a92532fc611744fdbf2d61091865ca3e",
       "value": 30
      }
     },
     "f218031a6a9b4854b4298a6621bf7170": {
      "model_module": "@jupyter-widgets/base",
      "model_module_version": "1.2.0",
      "model_name": "LayoutModel",
      "state": {
       "height": "32px",
       "order": "-2",
       "width": "32px"
      }
     },
     "f2251439f4404ffda1438191e6e2b6c3": {
      "model_module": "@jupyter-widgets/controls",
      "model_module_version": "1.5.0",
      "model_name": "ButtonModel",
      "state": {
       "layout": "IPY_MODEL_081a6176a8994b56850e66fb940eb115",
       "style": "IPY_MODEL_0d076d63a7e94f189e974d81eccca10d"
      }
     },
     "f23252c0cc7b4bbabe2f1c75ef56ebfd": {
      "model_module": "@jupyter-widgets/controls",
      "model_module_version": "1.5.0",
      "model_name": "LabelModel",
      "state": {
       "layout": "IPY_MODEL_e37f5a538d1c4375bd4dc43a5ed82bae",
       "style": "IPY_MODEL_106e09c4864e4294b18e25694a87c649",
       "value": "   objective"
      }
     },
     "f23f39fcbce54542a0e4dfbb6f8e94a4": {
      "model_module": "@jupyter-widgets/base",
      "model_module_version": "1.2.0",
      "model_name": "LayoutModel",
      "state": {}
     },
     "f241652c454a48f18d643ac852c42820": {
      "model_module": "@jupyter-widgets/base",
      "model_module_version": "1.2.0",
      "model_name": "LayoutModel",
      "state": {
       "height": "32px",
       "overflow": "visible",
       "width": "100%"
      }
     },
     "f2a3433f4cac42f9b5310fcd616becdf": {
      "model_module": "@jupyter-widgets/controls",
      "model_module_version": "1.5.0",
      "model_name": "ProgressStyleModel",
      "state": {
       "description_width": ""
      }
     },
     "f2b2bd0530134828ba696384ba19a0fd": {
      "model_module": "@jupyter-widgets/controls",
      "model_module_version": "1.5.0",
      "model_name": "VBoxModel",
      "state": {
       "children": [
        "IPY_MODEL_dbc33363226c46efb14a70c9b0161f6c",
        "IPY_MODEL_a0d2a794efc847f2bcb65af7d620d821",
        "IPY_MODEL_a49ae7ad7d584e80817325c4d9066565",
        "IPY_MODEL_6e4f55e5138245649fb578739e1aaac8"
       ],
       "layout": "IPY_MODEL_f658e2d28e4041418b242ce7e7c8c2b1"
      }
     },
     "f2f997e796694ba89be14eca8e2d00c7": {
      "model_module": "@jupyter-widgets/controls",
      "model_module_version": "1.5.0",
      "model_name": "HBoxModel",
      "state": {
       "children": [
        "IPY_MODEL_961c03bac0834bab8fb7f89093d16892",
        "IPY_MODEL_a336b1aef87e4bc59844c24e99f4fc61",
        "IPY_MODEL_e8d8ff60eca3402d8b1dfe0b4ffe0741",
        "IPY_MODEL_112376f9d6834b5a97ad864f0f1faef6"
       ],
       "layout": "IPY_MODEL_6dba586dd5d74f5da688ddf60c506f20"
      }
     },
     "f349a10dd9ad49bc98ffb915bbeea6bc": {
      "model_module": "@jupyter-widgets/base",
      "model_module_version": "1.2.0",
      "model_name": "LayoutModel",
      "state": {}
     },
     "f357726cf864412393a917c5f9c632b7": {
      "model_module": "@jupyter-widgets/controls",
      "model_module_version": "1.5.0",
      "model_name": "LabelModel",
      "state": {
       "layout": "IPY_MODEL_5480a400a4c0416d985287795fc36976",
       "style": "IPY_MODEL_3bef62632e4944edbf918a0d4b64275e",
       "value": "   objective"
      }
     },
     "f35c1a664e5740c08109c924ae38c476": {
      "model_module": "@jupyter-widgets/base",
      "model_module_version": "1.2.0",
      "model_name": "LayoutModel",
      "state": {
       "width": "60px"
      }
     },
     "f38095f3e37346d7a68d6a8d65de2fd4": {
      "model_module": "@jupyter-widgets/base",
      "model_module_version": "1.2.0",
      "model_name": "LayoutModel",
      "state": {
       "display": "none"
      }
     },
     "f39358d9b7c448c19c4142b6da5fb0c0": {
      "model_module": "@jupyter-widgets/controls",
      "model_module_version": "1.5.0",
      "model_name": "DescriptionStyleModel",
      "state": {
       "description_width": ""
      }
     },
     "f3ac6e87e6f7449fb671572ec4acaf9f": {
      "model_module": "@jupyter-widgets/controls",
      "model_module_version": "1.5.0",
      "model_name": "DescriptionStyleModel",
      "state": {
       "description_width": ""
      }
     },
     "f3af9415af0a4948914f4d199699bdb3": {
      "model_module": "@jupyter-widgets/base",
      "model_module_version": "1.2.0",
      "model_name": "LayoutModel",
      "state": {
       "overflow": "visible",
       "width": "100%"
      }
     },
     "f3afa0a07a4743edba27c10974b0616b": {
      "model_module": "@jupyter-widgets/base",
      "model_module_version": "1.2.0",
      "model_name": "LayoutModel",
      "state": {
       "order": "-1",
       "overflow": "visible",
       "padding": "1px",
       "width": "0px"
      }
     },
     "f3c78876b4544ad59670705cfd347dd3": {
      "model_module": "@jupyter-widgets/base",
      "model_module_version": "1.2.0",
      "model_name": "LayoutModel",
      "state": {
       "order": "-1",
       "overflow": "visible",
       "padding": "1px",
       "width": "0px"
      }
     },
     "f3d519ee797a411e9f1bc551c0e7ee7a": {
      "model_module": "@jupyter-widgets/controls",
      "model_module_version": "1.5.0",
      "model_name": "IntProgressModel",
      "state": {
       "bar_style": "danger",
       "layout": "IPY_MODEL_9ca74d02d00745b9897fe4a6cd3d7eda",
       "max": 1,
       "style": "IPY_MODEL_c1ecce8aac05402897beb495e301dc50"
      }
     },
     "f3e9b9fe85894c4d94656b7faba00f00": {
      "model_module": "@jupyter-widgets/base",
      "model_module_version": "1.2.0",
      "model_name": "LayoutModel",
      "state": {
       "height": "32px",
       "order": "-2",
       "width": "32px"
      }
     },
     "f42f1e25c2ef42ae84520b204104a687": {
      "model_module": "@jupyter-widgets/controls",
      "model_module_version": "1.5.0",
      "model_name": "DescriptionStyleModel",
      "state": {
       "description_width": ""
      }
     },
     "f439c79646bc434e9d14f200442eb244": {
      "model_module": "@jupyter-widgets/base",
      "model_module_version": "1.2.0",
      "model_name": "LayoutModel",
      "state": {
       "height": "32px",
       "order": "-2",
       "width": "32px"
      }
     },
     "f46a7a5094414600a1811f101a830dc5": {
      "model_module": "@jupyter-widgets/base",
      "model_module_version": "1.2.0",
      "model_name": "LayoutModel",
      "state": {
       "display": "none"
      }
     },
     "f490c4de49a24f6a8c0f3c614408f7c8": {
      "model_module": "@jupyter-widgets/controls",
      "model_module_version": "1.5.0",
      "model_name": "ButtonModel",
      "state": {
       "layout": "IPY_MODEL_7a14544b2f2e4e1ba27a4f420b83f16c",
       "style": "IPY_MODEL_db01446dceec4a69bcd4fb4970113993"
      }
     },
     "f4afdc99e4774b71ba3f325a43c69e51": {
      "model_module": "@jupyter-widgets/base",
      "model_module_version": "1.2.0",
      "model_name": "LayoutModel",
      "state": {
       "display": "none"
      }
     },
     "f4efbde21d1840409952d1fe643860fa": {
      "model_module": "@jupyter-widgets/controls",
      "model_module_version": "1.5.0",
      "model_name": "HBoxModel",
      "state": {
       "children": [
        "IPY_MODEL_7b3e27af72f84f45971d30d32b146e2b",
        "IPY_MODEL_5375907146d1443eb0b761b588d637b1",
        "IPY_MODEL_85791271a8ce4b64a0bbc5001c28221b",
        "IPY_MODEL_dd1422a82878420c84e252b959c61642"
       ],
       "layout": "IPY_MODEL_d119bf2ac6bc484ca2d751326419c3b0"
      }
     },
     "f501b39db53246fa80fd5ed768adf12b": {
      "model_module": "@jupyter-widgets/base",
      "model_module_version": "1.2.0",
      "model_name": "LayoutModel",
      "state": {
       "height": "32px",
       "overflow": "visible",
       "width": "100%"
      }
     },
     "f6113f3f212f4deebc8af80cfeb67f19": {
      "model_module": "@jupyter-widgets/controls",
      "model_module_version": "1.5.0",
      "model_name": "ButtonStyleModel",
      "state": {}
     },
     "f61cf1645e064abbb0537dd3ad708f32": {
      "model_module": "@jupyter-widgets/controls",
      "model_module_version": "1.5.0",
      "model_name": "ButtonModel",
      "state": {
       "layout": "IPY_MODEL_4a8a23b5b2d042b3bf0e253cfd9fa3cc",
       "style": "IPY_MODEL_76a66186734d4ba2895e218ee085a5ff"
      }
     },
     "f61d3dfcbccc453aa0ae481552d82c6e": {
      "model_module": "@jupyter-widgets/base",
      "model_module_version": "1.2.0",
      "model_name": "LayoutModel",
      "state": {
       "height": "32px",
       "overflow": "visible",
       "width": "100%"
      }
     },
     "f61f894ab39b497aaa8416fd0cb462e4": {
      "model_module": "@jupyter-widgets/controls",
      "model_module_version": "1.5.0",
      "model_name": "IntProgressModel",
      "state": {
       "layout": "IPY_MODEL_9e573d8d4a9f4e0c8e88244c497da4ad",
       "style": "IPY_MODEL_248e99756eae471fb723d910c9a12632",
       "value": 30
      }
     },
     "f63e58afb17f47febadcbd8843dd63f4": {
      "model_module": "@jupyter-widgets/controls",
      "model_module_version": "1.5.0",
      "model_name": "ButtonStyleModel",
      "state": {}
     },
     "f64317f3548a42058aaff1b1a22ecd92": {
      "model_module": "@jupyter-widgets/controls",
      "model_module_version": "1.5.0",
      "model_name": "DropdownModel",
      "state": {
       "_options_labels": [
        "Any",
        "Sentinel",
        "Striker",
        "Sunbreaker"
       ],
       "disabled": true,
       "index": 2,
       "layout": "IPY_MODEL_17fdb3e950e146528895e66cb117b2a0",
       "style": "IPY_MODEL_a41c9b4e5e794968a1cb4e748a34098d"
      }
     },
     "f658e2d28e4041418b242ce7e7c8c2b1": {
      "model_module": "@jupyter-widgets/base",
      "model_module_version": "1.2.0",
      "model_name": "LayoutModel",
      "state": {
       "border": "3px solid white",
       "display": "flex",
       "flex": "1 1 0%",
       "margin": "10px",
       "min_width": "400px",
       "overflow": "visible",
       "padding": "10px",
       "width": "auto"
      }
     },
     "f66f78809958463f9efa36acba91a01c": {
      "model_module": "@jupyter-widgets/controls",
      "model_module_version": "1.5.0",
      "model_name": "ButtonModel",
      "state": {
       "description": "EDIT",
       "layout": "IPY_MODEL_6f869a081868405695ce65d12afb5c2e",
       "style": "IPY_MODEL_30edd8afe8e849539ba24808856cf493"
      }
     },
     "f6977f4d71a940e1a6a1658485e36bc6": {
      "model_module": "@jupyter-widgets/controls",
      "model_module_version": "1.5.0",
      "model_name": "ButtonStyleModel",
      "state": {}
     },
     "f6a85d6752b749809b1d933112ddcce7": {
      "model_module": "@jupyter-widgets/controls",
      "model_module_version": "1.5.0",
      "model_name": "ButtonStyleModel",
      "state": {}
     },
     "f6afe03031134881a713a6dc30062f9c": {
      "model_module": "@jupyter-widgets/base",
      "model_module_version": "1.2.0",
      "model_name": "LayoutModel",
      "state": {
       "justify_items": "flex-end",
       "padding": "5px",
       "width": "200px"
      }
     },
     "f6dddaccc72f4babaf4a91021ba18030": {
      "model_module": "@jupyter-widgets/base",
      "model_module_version": "1.2.0",
      "model_name": "LayoutModel",
      "state": {
       "display": "flex"
      }
     },
     "f6f12f67c13247599c41ba16944ea3a4": {
      "model_module": "@jupyter-widgets/controls",
      "model_module_version": "1.5.0",
      "model_name": "DescriptionStyleModel",
      "state": {
       "description_width": ""
      }
     },
     "f71e47ab7d4a45f89a4dbd667ff4c9a4": {
      "model_module": "@jupyter-widgets/base",
      "model_module_version": "1.2.0",
      "model_name": "LayoutModel",
      "state": {}
     },
     "f743579b3327429fa1f2ef4aa54a4999": {
      "model_module": "@jupyter-widgets/controls",
      "model_module_version": "1.5.0",
      "model_name": "ButtonStyleModel",
      "state": {}
     },
     "f790143e189d4b728991458d53ef2566": {
      "model_module": "@jupyter-widgets/controls",
      "model_module_version": "1.5.0",
      "model_name": "IntProgressModel",
      "state": {
       "layout": "IPY_MODEL_364e66caacbb445fb9c26adebf075acc",
       "style": "IPY_MODEL_98add579d68c426db5eea2de4a077b73",
       "value": 30
      }
     },
     "f7a61faf35524c2199b0944cc504d83b": {
      "model_module": "@jupyter-widgets/base",
      "model_module_version": "1.2.0",
      "model_name": "LayoutModel",
      "state": {
       "display": "flex",
       "flex_flow": "row wrap"
      }
     },
     "f7f3f21ae1a848bb95dcb0c553983a3a": {
      "model_module": "@jupyter-widgets/controls",
      "model_module_version": "1.5.0",
      "model_name": "DescriptionStyleModel",
      "state": {
       "description_width": ""
      }
     },
     "f86af7f68491412c86856ed74639991f": {
      "model_module": "@jupyter-widgets/controls",
      "model_module_version": "1.5.0",
      "model_name": "ButtonStyleModel",
      "state": {}
     },
     "f897a457814a4748b2d4805731a18da1": {
      "model_module": "@jupyter-widgets/base",
      "model_module_version": "1.2.0",
      "model_name": "LayoutModel",
      "state": {
       "display": "flex"
      }
     },
     "f8c879bef8704938818faf22661e5b2a": {
      "model_module": "@jupyter-widgets/base",
      "model_module_version": "1.2.0",
      "model_name": "LayoutModel",
      "state": {
       "width": "60px"
      }
     },
     "f8e2ed9e8b4041088d442b86ca688b03": {
      "model_module": "@jupyter-widgets/controls",
      "model_module_version": "1.5.0",
      "model_name": "ProgressStyleModel",
      "state": {
       "description_width": ""
      }
     },
     "f904d5ae5fbe4e37bcc13ab9eb917e00": {
      "model_module": "@jupyter-widgets/controls",
      "model_module_version": "1.5.0",
      "model_name": "ProgressStyleModel",
      "state": {
       "description_width": ""
      }
     },
     "f9295107babe47438009317420caaa53": {
      "model_module": "@jupyter-widgets/controls",
      "model_module_version": "1.5.0",
      "model_name": "HBoxModel",
      "state": {
       "children": [
        "IPY_MODEL_190f2394e0d54a50bc8e4e6418f50976",
        "IPY_MODEL_c5f58924f7be4f269de5333c7dcb1cf8",
        "IPY_MODEL_64c5d1cade5346c2a45b5124a95a26c1",
        "IPY_MODEL_65a8791a657246078e0ba224a03413b2"
       ],
       "layout": "IPY_MODEL_72f171ab0b6f48a7883b881d201cdd63"
      }
     },
     "f934361c291d4713b4e462941d55a09b": {
      "model_module": "@jupyter-widgets/base",
      "model_module_version": "1.2.0",
      "model_name": "LayoutModel",
      "state": {
       "width": "60px"
      }
     },
     "f93cfa5b37654c48a75c6aeb5e004a14": {
      "model_module": "@jupyter-widgets/controls",
      "model_module_version": "1.5.0",
      "model_name": "ButtonStyleModel",
      "state": {}
     },
     "f945a3a5731c4480a8754fd05e5c188c": {
      "model_module": "@jupyter-widgets/controls",
      "model_module_version": "1.5.0",
      "model_name": "HBoxModel",
      "state": {
       "children": [
        "IPY_MODEL_3e104ba3c9224d498421ec3824da96f6",
        "IPY_MODEL_4b425583d6634deaa3aee19ad28dc17d",
        "IPY_MODEL_c0c2c8970aed4a21ae935eb79fb0ea92",
        "IPY_MODEL_9e7bd881b0bd443187313722656b36d5"
       ],
       "layout": "IPY_MODEL_4221fc604a41475aa8fe52943a876d44"
      }
     },
     "f955e2eaf580423e9df9209a563e2941": {
      "model_module": "@jupyter-widgets/controls",
      "model_module_version": "1.5.0",
      "model_name": "ProgressStyleModel",
      "state": {
       "description_width": ""
      }
     },
     "f9876f1980e9496797f54845a10d6b08": {
      "model_module": "@jupyter-widgets/controls",
      "model_module_version": "1.5.0",
      "model_name": "VBoxModel",
      "state": {
       "children": [
        "IPY_MODEL_2ce1868ffc41486b8971415dff7b8a30",
        "IPY_MODEL_c8032ca69450441f84e667837ca20bb5",
        "IPY_MODEL_de3335f1a73c4562a3b4256b05b91344",
        "IPY_MODEL_216ab107346e4ae998d3d59b6ddf0fa7",
        "IPY_MODEL_2b1e8692b6fc4d739558f41420522aec",
        "IPY_MODEL_078f627d32df40c08591649effcd6e2b"
       ],
       "layout": "IPY_MODEL_6492d564381e4b618f15df21d7c097a4"
      }
     },
     "f9a6a46c09a14c9089ca2c3dad189f1b": {
      "model_module": "@jupyter-widgets/base",
      "model_module_version": "1.2.0",
      "model_name": "LayoutModel",
      "state": {
       "overflow": "visible",
       "width": "100%"
      }
     },
     "f9af69f32fb5495093ec119db1dff40d": {
      "model_module": "@jupyter-widgets/controls",
      "model_module_version": "1.5.0",
      "model_name": "TextModel",
      "state": {
       "description": "Code:",
       "layout": "IPY_MODEL_d352f8d808314a53962840841505a4ba",
       "style": "IPY_MODEL_5f4c3acf0b0c4ba7bcbe9542157617a1",
       "value": "dd55ec36fc399ad65cee3fd812d14b7a"
      }
     },
     "f9c2e6ae208b43fc95b4372c97d443be": {
      "model_module": "@jupyter-widgets/base",
      "model_module_version": "1.2.0",
      "model_name": "LayoutModel",
      "state": {
       "height": "32px",
       "overflow": "visible",
       "width": "100%"
      }
     },
     "f9d18c221d3347638938ddef93464e6a": {
      "model_module": "@jupyter-widgets/base",
      "model_module_version": "1.2.0",
      "model_name": "LayoutModel",
      "state": {
       "border": "3px solid white",
       "display": "flex",
       "flex": "1 1 0%",
       "margin": "10px",
       "min_width": "400px",
       "overflow": "visible",
       "padding": "10px",
       "width": "auto"
      }
     },
     "f9d8a15143d747f0833dc4271dde0e36": {
      "model_module": "@jupyter-widgets/controls",
      "model_module_version": "1.5.0",
      "model_name": "HBoxModel",
      "state": {
       "children": [
        "IPY_MODEL_1d5421e4127c44eeba552ba98d61a720",
        "IPY_MODEL_113f939720d1428a99e33b5e9472a2df",
        "IPY_MODEL_fcd242bf5b8246458a68609b8429ccc3",
        "IPY_MODEL_2cffff8eb45b4306b00368911385a03a"
       ],
       "layout": "IPY_MODEL_93003671e6e14d46a84dbd2a0d5ee38c"
      }
     },
     "fa1dcc0f1c0643cea5e739f5dc475fce": {
      "model_module": "@jupyter-widgets/base",
      "model_module_version": "1.2.0",
      "model_name": "LayoutModel",
      "state": {
       "height": "32px",
       "order": "-2",
       "width": "32px"
      }
     },
     "fa50179de80a4099b82014b0e0af6b40": {
      "model_module": "@jupyter-widgets/base",
      "model_module_version": "1.2.0",
      "model_name": "LayoutModel",
      "state": {
       "display": "flex",
       "flex_flow": "row wrap"
      }
     },
     "fa65a1c653b74d9ab1917cd260b81d08": {
      "model_module": "@jupyter-widgets/base",
      "model_module_version": "1.2.0",
      "model_name": "LayoutModel",
      "state": {
       "display": "flex",
       "flex_flow": "row wrap"
      }
     },
     "fa725e18943249958220fabf40fc2761": {
      "model_module": "@jupyter-widgets/controls",
      "model_module_version": "1.5.0",
      "model_name": "HTMLModel",
      "state": {
       "layout": "IPY_MODEL_7070757708164201a1333da44aa65e17",
       "style": "IPY_MODEL_11586464eabe4d33b0da07a6ad7c65a5",
       "value": "<font size=\"1\">Triumphs/Destinations/Major/Nessus, Unstable Centaur</font size=>"
      }
     },
     "fa95b45f80a7467d88ede240d6628204": {
      "model_module": "@jupyter-widgets/controls",
      "model_module_version": "1.5.0",
      "model_name": "ButtonModel",
      "state": {
       "layout": "IPY_MODEL_14b738921d7d42c8856ff398869a5aef",
       "style": "IPY_MODEL_ae46490fa1ae4f019335d792a0345215"
      }
     },
     "fa9e3812600046c3842096b4b0214352": {
      "model_module": "@jupyter-widgets/controls",
      "model_module_version": "1.5.0",
      "model_name": "HTMLModel",
      "state": {
       "layout": "IPY_MODEL_f9a6a46c09a14c9089ca2c3dad189f1b",
       "style": "IPY_MODEL_f39358d9b7c448c19c4142b6da5fb0c0",
       "value": "<font size=\"5\"><b>Skolas</b></font size=>"
      }
     },
     "fa9f6f4815e14fbf961ffa2dcc5d6e36": {
      "model_module": "@jupyter-widgets/base",
      "model_module_version": "1.2.0",
      "model_name": "LayoutModel",
      "state": {
       "overflow": "visible",
       "width": "100%"
      }
     },
     "faf085e293e3444184a7ada54907cf08": {
      "model_module": "@jupyter-widgets/controls",
      "model_module_version": "1.5.0",
      "model_name": "HBoxModel",
      "state": {
       "children": [
        "IPY_MODEL_ffd4758aeb3d497dad6f617a1a1d539b",
        "IPY_MODEL_ec30bd3473644a3fac3e303044195d81",
        "IPY_MODEL_447ff425cb00403fa4c9ec2138a03358",
        "IPY_MODEL_b6ab7bb65eb949df9af2b14806bf0ce5"
       ],
       "layout": "IPY_MODEL_55db90358c1f49dbb00a694f83cf1344"
      }
     },
     "faff4c428498430fa899b59617ad0a0a": {
      "model_module": "@jupyter-widgets/controls",
      "model_module_version": "1.5.0",
      "model_name": "ButtonStyleModel",
      "state": {}
     },
     "fb025d1083e342ddaaeea6dd007513cb": {
      "model_module": "@jupyter-widgets/controls",
      "model_module_version": "1.5.0",
      "model_name": "DescriptionStyleModel",
      "state": {
       "description_width": ""
      }
     },
     "fb39102c56864169a593af6f63236e7c": {
      "model_module": "@jupyter-widgets/controls",
      "model_module_version": "1.5.0",
      "model_name": "DescriptionStyleModel",
      "state": {
       "description_width": ""
      }
     },
     "fb65f7aa257e4518b53b6046ac0ec24d": {
      "model_module": "@jupyter-widgets/base",
      "model_module_version": "1.2.0",
      "model_name": "LayoutModel",
      "state": {
       "order": "-1",
       "overflow": "visible",
       "padding": "1px",
       "width": "0px"
      }
     },
     "fbb6cbf506394383aa6f376954678aa0": {
      "model_module": "@jupyter-widgets/base",
      "model_module_version": "1.2.0",
      "model_name": "LayoutModel",
      "state": {
       "height": "32px",
       "overflow": "visible",
       "width": "100%"
      }
     },
     "fc0c2f18baf042d1b586d8fc34e49243": {
      "model_module": "@jupyter-widgets/controls",
      "model_module_version": "1.5.0",
      "model_name": "ButtonModel",
      "state": {
       "description": "EDIT",
       "layout": "IPY_MODEL_6757a7cd642a4195ad5f629a20c06c2e",
       "style": "IPY_MODEL_ba25bcd5f3ba41f39184aae5df2172c6"
      }
     },
     "fc1aa41393c84d5c8b8f50d781c00184": {
      "model_module": "@jupyter-widgets/base",
      "model_module_version": "1.2.0",
      "model_name": "LayoutModel",
      "state": {
       "height": "32px",
       "order": "-2",
       "width": "32px"
      }
     },
     "fc746f211f364be991ae1f8457c6fbdd": {
      "model_module": "@jupyter-widgets/base",
      "model_module_version": "1.2.0",
      "model_name": "LayoutModel",
      "state": {
       "height": "32px",
       "overflow": "visible",
       "width": "100%"
      }
     },
     "fc7cbff9baf94c5b85841c8c20d290d9": {
      "model_module": "@jupyter-widgets/controls",
      "model_module_version": "1.5.0",
      "model_name": "ButtonModel",
      "state": {
       "description": "EDIT",
       "layout": "IPY_MODEL_6a2cda581db74847872ad22ad88318ca",
       "style": "IPY_MODEL_80459b1500474fe8931aac86fd088017"
      }
     },
     "fca576c87fff4093bcd8b0139658ed7f": {
      "model_module": "@jupyter-widgets/controls",
      "model_module_version": "1.5.0",
      "model_name": "ButtonModel",
      "state": {
       "layout": "IPY_MODEL_a4616d5a3ced4150b380c7f81f3e39c7",
       "style": "IPY_MODEL_c75b7da257144c4db19edc701baf1e81"
      }
     },
     "fcd242bf5b8246458a68609b8429ccc3": {
      "model_module": "@jupyter-widgets/controls",
      "model_module_version": "1.5.0",
      "model_name": "LabelModel",
      "state": {
       "layout": "IPY_MODEL_e2059dd3310b4747b1032d248c817887",
       "style": "IPY_MODEL_2e1585c64b18454396ed228c06ca1de2",
       "value": "   objective"
      }
     },
     "fd6d811a137a46c98b16f65288208f2e": {
      "model_module": "@jupyter-widgets/controls",
      "model_module_version": "1.5.0",
      "model_name": "ButtonModel",
      "state": {
       "description": "EDIT",
       "layout": "IPY_MODEL_54f1fc75e2df40e58ecdd86b8a19c496",
       "style": "IPY_MODEL_2cbd9b1d01f9489b871af684f383907b"
      }
     },
     "fd72c26d5f664d11ae72f8ef9b913acc": {
      "model_module": "@jupyter-widgets/base",
      "model_module_version": "1.2.0",
      "model_name": "LayoutModel",
      "state": {
       "order": "-1",
       "overflow": "visible",
       "padding": "1px",
       "width": "0px"
      }
     },
     "fdc3d89ff5014ad0a1f5f41f9f0af280": {
      "model_module": "@jupyter-widgets/base",
      "model_module_version": "1.2.0",
      "model_name": "LayoutModel",
      "state": {
       "height": "32px",
       "order": "-2",
       "width": "32px"
      }
     },
     "fde7afc2419641ac9b338f686ba4a028": {
      "model_module": "@jupyter-widgets/base",
      "model_module_version": "1.2.0",
      "model_name": "LayoutModel",
      "state": {
       "order": "-1",
       "overflow": "visible",
       "padding": "1px",
       "width": "0px"
      }
     },
     "fe408b413fc24f989449741e3d54b49f": {
      "model_module": "@jupyter-widgets/base",
      "model_module_version": "1.2.0",
      "model_name": "LayoutModel",
      "state": {
       "overflow": "visible",
       "width": "100%"
      }
     },
     "fe47e055763a48a7b9100808ba15f469": {
      "model_module": "@jupyter-widgets/controls",
      "model_module_version": "1.5.0",
      "model_name": "ButtonStyleModel",
      "state": {}
     },
     "fe4fe29467cb4e87a8481cc14858cf39": {
      "model_module": "@jupyter-widgets/base",
      "model_module_version": "1.2.0",
      "model_name": "LayoutModel",
      "state": {
       "width": "60px"
      }
     },
     "fe97ce3437014232836ee9ff93c0d292": {
      "model_module": "@jupyter-widgets/base",
      "model_module_version": "1.2.0",
      "model_name": "LayoutModel",
      "state": {
       "width": "60px"
      }
     },
     "fed9268f76da453f84a86e9cb633a3f6": {
      "model_module": "@jupyter-widgets/controls",
      "model_module_version": "1.5.0",
      "model_name": "LabelModel",
      "state": {
       "layout": "IPY_MODEL_5a7476848ffc4c2d9ee6823fbe9071a2",
       "style": "IPY_MODEL_6c7161969332475487e1c42453c1ae8c",
       "value": "   objective"
      }
     },
     "ff283dc1d07c485684af374ec509fbab": {
      "model_module": "@jupyter-widgets/controls",
      "model_module_version": "1.5.0",
      "model_name": "ProgressStyleModel",
      "state": {
       "description_width": ""
      }
     },
     "ffa311e99b96450a8eec0d8b686b836e": {
      "model_module": "@jupyter-widgets/controls",
      "model_module_version": "1.5.0",
      "model_name": "HBoxModel",
      "state": {
       "children": [
        "IPY_MODEL_b81e9c7d768c4818814378ac24c6206a",
        "IPY_MODEL_6a540601aa2c442387821137660f7a2b",
        "IPY_MODEL_f1d97be1b95a46d68c7e766f832f23f7",
        "IPY_MODEL_ce3c22aaec034b61adc2f0a03d8f0d7b"
       ],
       "layout": "IPY_MODEL_8892aa491e52466a98b0a8ba0d2ca233"
      }
     },
     "ffa8f67706524fd1adac9ea43ea3fcbf": {
      "model_module": "@jupyter-widgets/controls",
      "model_module_version": "1.5.0",
      "model_name": "DescriptionStyleModel",
      "state": {
       "description_width": ""
      }
     },
     "ffd4758aeb3d497dad6f617a1a1d539b": {
      "model_module": "@jupyter-widgets/controls",
      "model_module_version": "1.5.0",
      "model_name": "ButtonModel",
      "state": {
       "layout": "IPY_MODEL_671668be67b648738c7aa8d92aa45a35",
       "style": "IPY_MODEL_c6377700525d44529d03a87a50554fde"
      }
     },
     "ffdf1d6ab02c4846b3bf2779792791de": {
      "model_module": "@jupyter-widgets/controls",
      "model_module_version": "1.5.0",
      "model_name": "VBoxModel",
      "state": {
       "children": [
        "IPY_MODEL_81a73f8b0e834dcfbb2d13e96cd122c9",
        "IPY_MODEL_1ac23c49035947fdacce3cec115d44bc",
        "IPY_MODEL_991efa56346b453aa88b0c7e97835d1c",
        "IPY_MODEL_1a9791603e5442a0a28627dc93d93118"
       ],
       "layout": "IPY_MODEL_2bd75280146c4930ae20dfc1a96c5f39"
      }
     },
     "ffe497d3e89a4286bcaa51e9bff4a411": {
      "model_module": "@jupyter-widgets/base",
      "model_module_version": "1.2.0",
      "model_name": "LayoutModel",
      "state": {
       "order": "-1",
       "overflow": "visible",
       "padding": "1px",
       "width": "0px"
      }
     },
     "ffe98c77193c465e8f7da07b99aa0c60": {
      "model_module": "@jupyter-widgets/base",
      "model_module_version": "1.2.0",
      "model_name": "LayoutModel",
      "state": {
       "height": "32px",
       "overflow": "visible",
       "width": "100%"
      }
     }
    },
    "version_major": 2,
    "version_minor": 0
   }
  }
 },
 "nbformat": 4,
 "nbformat_minor": 4
}
