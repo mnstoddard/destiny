{
 "cells": [
  {
   "cell_type": "code",
   "execution_count": 3,
   "metadata": {},
   "outputs": [
    {
     "name": "stdout",
     "output_type": "stream",
     "text": [
      "[{'base_url': '/', 'hostname': 'localhost', 'notebook_dir': '/Users/michael', 'password': False, 'pid': 3228, 'port': 8888, 'secure': False, 'token': '4e82e8fb6f35d3011200d29d581095fced8f3f08e58cd403', 'url': 'http://localhost:8888/'}, {'base_url': '/', 'hostname': 'localhost', 'notebook_dir': '/Users/michael', 'password': False, 'pid': 577, 'port': 8888, 'secure': False, 'token': '12faa47b92cb13ed4a6744cb47af87bf2441b9ee1a951012', 'url': 'http://localhost:8888/'}, {'base_url': '/', 'hostname': 'localhost', 'notebook_dir': '/Users/michael', 'password': False, 'pid': 783, 'port': 8888, 'secure': False, 'token': '265b9a2c385303a49297d38d36625766f8ac66cacf6d7efe', 'url': 'http://localhost:8888/'}, {'base_url': '/', 'hostname': 'localhost', 'notebook_dir': '/Users/michael', 'password': False, 'pid': 14201, 'port': 8798, 'secure': False, 'token': '5121f5328219308259d9205ae793c24510f171a2232165c6', 'url': 'http://localhost:8798/'}, {'base_url': '/', 'hostname': 'localhost', 'notebook_dir': '/Users/michael', 'password': False, 'pid': 12396, 'port': 8890, 'secure': False, 'token': 'd179e8894b0b12265b910e030f6fcf51988ccabdd8a98abc', 'url': 'http://localhost:8890/'}, {'base_url': '/', 'hostname': 'localhost', 'notebook_dir': '/Users/michael', 'password': False, 'pid': 4551, 'port': 8889, 'secure': False, 'token': '25a42138c4c0a2c92b343c564a4e788ea4b6e2dbb8d2c9d9', 'url': 'http://localhost:8889/'}, {'base_url': '/', 'hostname': 'localhost', 'notebook_dir': '/Users/michael', 'password': False, 'pid': 21838, 'port': 8808, 'secure': False, 'token': '168c1f0981c7a5f1126e4ddd8253a96c7081571b66794ddd', 'url': 'http://localhost:8808/'}, {'base_url': '/', 'hostname': 'localhost', 'notebook_dir': '/Users/michael', 'password': False, 'pid': 5930, 'port': 8890, 'secure': False, 'token': '30c2f9d141eadd781dc0bec924f15d3e0c658260fdaa45aa', 'url': 'http://localhost:8890/'}, {'base_url': '/', 'hostname': 'localhost', 'notebook_dir': '/Users/michael', 'password': False, 'pid': 8508, 'port': 8892, 'secure': False, 'token': '4e4a2847d269e713f03412b077e1c3ed14d04dc88fb62b6c', 'url': 'http://localhost:8892/'}, {'base_url': '/', 'hostname': 'localhost', 'notebook_dir': '/Users/michael', 'password': False, 'pid': 13260, 'port': 8974, 'secure': False, 'token': 'd9e6aca68afda67549649febbb81dc45680144c0e5014e75', 'url': 'http://localhost:8974/'}, {'base_url': '/', 'hostname': 'localhost', 'notebook_dir': '/Users/michael', 'password': False, 'pid': 578, 'port': 8888, 'secure': False, 'token': '57087480b4253f087895a3da3554a57ef51a9466abe26927', 'url': 'http://localhost:8888/'}, {'base_url': '/', 'hostname': 'localhost', 'notebook_dir': '/Users/michael', 'password': False, 'pid': 7209, 'port': 8891, 'secure': False, 'token': 'ab752edc363b811e78208f5c5dc2025ef5fb490e537d158c', 'url': 'http://localhost:8891/'}, {'base_url': '/', 'hostname': 'localhost', 'notebook_dir': '/Users/michael', 'password': False, 'pid': 12626, 'port': 8973, 'secure': False, 'token': 'f45d96476fc1d9c1212fe70eb1a026f64287a78747be0f66', 'url': 'http://localhost:8973/'}]\n"
     ]
    }
   ],
   "source": [
    "from notebook import notebookapp\n",
    "servers = list(notebookapp.list_running_servers())\n",
    "print(servers)"
   ]
  },
  {
   "cell_type": "code",
   "execution_count": null,
   "metadata": {},
   "outputs": [],
   "source": []
  }
 ],
 "metadata": {
  "kernelspec": {
   "display_name": "Python 3",
   "language": "python",
   "name": "python3"
  },
  "language_info": {
   "codemirror_mode": {
    "name": "ipython",
    "version": 3
   },
   "file_extension": ".py",
   "mimetype": "text/x-python",
   "name": "python",
   "nbconvert_exporter": "python",
   "pygments_lexer": "ipython3",
   "version": "3.7.4"
  },
  "widgets": {
   "application/vnd.jupyter.widget-state+json": {
    "state": {},
    "version_major": 2,
    "version_minor": 0
   }
  }
 },
 "nbformat": 4,
 "nbformat_minor": 4
}
