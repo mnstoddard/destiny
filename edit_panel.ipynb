{
 "cells": [
  {
   "cell_type": "code",
   "execution_count": 10,
   "metadata": {},
   "outputs": [],
   "source": [
    "import ipywidgets as ipw\n",
    "import pickle\n",
    "%run print_map.ipynb\n",
    "\n",
    "with open('possible_requirements.data', 'rb') as filehandle:\n",
    "    possible_requirements = pickle.load(filehandle)"
   ]
  },
  {
   "cell_type": "code",
   "execution_count": 67,
   "metadata": {},
   "outputs": [],
   "source": [
    "\n",
    "def build_edit_panel():\n",
    "    \n",
    "    \n",
    "    # HEADER ----------------------------------------------\n",
    "    \n",
    "    layout_dropdown = ipw.Layout(\n",
    "        width='98%')\n",
    "    \n",
    "    \n",
    "    \n",
    "    label_requirements = ipw.HTML(\n",
    "        value = '<font size=\"3\"><b>EDIT REQUIREMENTS</b></font size=>')\n",
    "    \n",
    "    label_name = ipw.HTML(\n",
    "        value = 'Task'\n",
    "    )\n",
    "    \n",
    "    dropdown_name = ipw.Dropdown(\n",
    "        layout = layout_dropdown\n",
    "    )\n",
    "    edit.task_name = dropdown_name\n",
    "    \n",
    "    label_objective = ipw.HTML(\n",
    "        value = 'Objective'\n",
    "    )\n",
    "    \n",
    "    dropdown_objective = ipw.Dropdown(\n",
    "        layout = layout_dropdown\n",
    "    )\n",
    "    edit.objective_name = dropdown_objective\n",
    "    \n",
    "    vbox_header = ipw.VBox(\n",
    "        children = [\n",
    "            label_requirements,\n",
    "            label_name,\n",
    "            dropdown_name,\n",
    "            label_objective,\n",
    "            dropdown_objective\n",
    "        ]\n",
    "    )\n",
    "    \n",
    "    #Activity --------------------------------------------------\n",
    "    \n",
    "    label_activity = ipw.HTML(\n",
    "    value='<b>Activity Requirements:</b>'\n",
    "    )\n",
    "\n",
    "    dropdown_activity_type = ipw.Dropdown(\n",
    "        options = possible_requirements['Activity Type'],\n",
    "        layout = layout_dropdown\n",
    "    )\n",
    "    edit.activity_type = dropdown_activity_type\n",
    "\n",
    "    dropdown_activity = ipw.Dropdown(\n",
    "        disabled = True, \n",
    "        options = ['Any'],\n",
    "        layout = layout_dropdown\n",
    "    )\n",
    "    edit.activity = dropdown_activity\n",
    "\n",
    "    vbox_activity = ipw.VBox(\n",
    "        children = [\n",
    "            label_activity,\n",
    "            dropdown_activity_type,\n",
    "            dropdown_activity\n",
    "        ]\n",
    "    )\n",
    "\n",
    "    def change_activity_type(change):\n",
    "        if change['new'] == 'Any':\n",
    "            dropdown_activity.options = ['Any']\n",
    "            dropdown_activity.disabled = True\n",
    "        else:\n",
    "            dropdown_activity.options = possible_requirements['Activity'][change['new']]\n",
    "            dropdown_activity.disabled = False\n",
    "\n",
    "    dropdown_activity_type.observe(change_activity_type, names = 'value')\n",
    "    \n",
    "    \n",
    "    #CLASS ----------------------------------\n",
    "    \n",
    "\n",
    "    label_class_title = ipw.HTML(\n",
    "        value='<b>Class Requirements</b>'\n",
    "    )\n",
    "\n",
    "    label_class = ipw.Label(\n",
    "        value = 'Class:'\n",
    "    )\n",
    "\n",
    "    dropdown_class = ipw.Dropdown(\n",
    "        options = possible_requirements['Class'],\n",
    "        layout = layout_dropdown\n",
    "    )\n",
    "    edit.c_class = dropdown_class\n",
    "\n",
    "    label_subclass = ipw.Label(\n",
    "        value = 'Subclass:'\n",
    "    )\n",
    "\n",
    "    dropdown_subclass = ipw.Dropdown(\n",
    "        disabled = True, \n",
    "        options = ['Any'],\n",
    "        layout = layout_dropdown\n",
    "    )\n",
    "    edit.subclass = dropdown_subclass\n",
    "\n",
    "    label_tree = ipw.Label(\n",
    "        value = 'Tree:'\n",
    "    )\n",
    "\n",
    "    dropdown_tree = ipw.Dropdown(\n",
    "        disabled = True, \n",
    "        options = ['Any'],\n",
    "        layout = layout_dropdown\n",
    "    )\n",
    "    edit.tree = dropdown_tree\n",
    "\n",
    "    label_grenade = ipw.Label(\n",
    "        value = 'Grenade:'\n",
    "    )\n",
    "\n",
    "    dropdown_grenade = ipw.Dropdown(\n",
    "        disabled = True, \n",
    "        options = ['Any'],\n",
    "        layout = layout_dropdown\n",
    "    )\n",
    "    edit.grenade = dropdown_grenade\n",
    "\n",
    "\n",
    "    vbox_class = ipw.VBox(\n",
    "        children = [\n",
    "            label_class_title,\n",
    "            label_class,\n",
    "            dropdown_class,\n",
    "            label_subclass,\n",
    "            dropdown_subclass,\n",
    "            label_tree,\n",
    "            dropdown_tree,\n",
    "            label_grenade,\n",
    "            dropdown_grenade\n",
    "        ]\n",
    "    )\n",
    "\n",
    "\n",
    "    def change_class(change):\n",
    "        if change['new'] == 'Any':\n",
    "            dropdown_subclass.options = ['Any']\n",
    "            dropdown_subclass.disabled = True\n",
    "        else:\n",
    "            dropdown_subclass.options = possible_requirements['Subclass'][change['new']]\n",
    "            dropdown_subclass.disabled = False\n",
    "\n",
    "    def change_subclass(change):\n",
    "        if change['new'] == 'Any':\n",
    "            dropdown_tree.options = ['Any']\n",
    "            dropdown_tree.disabled = True\n",
    "            dropdown_grenade.options = ['Any']\n",
    "            dropdown_grenade.disabled = True\n",
    "        else:\n",
    "            dropdown_tree.options = possible_requirements['Tree'][dropdown_class.value][change['new']]\n",
    "            dropdown_tree.disabled = False\n",
    "            dropdown_grenade.options = possible_requirements['Grenade'][dropdown_class.value][change['new']]\n",
    "            dropdown_grenade.disabled = False\n",
    "\n",
    "    dropdown_class.observe(change_class, names = 'value')\n",
    "    dropdown_subclass.observe(change_subclass, names = 'value')\n",
    "\n",
    "\n",
    "\n",
    "    #WEAPON ------------------------------------\n",
    "\n",
    "\n",
    "    label_weapon_title = ipw.HTML(\n",
    "        value='<b>Weapon Requirements</b>'\n",
    "    )\n",
    "\n",
    "    label_slot = ipw.Label(\n",
    "        value = 'Weapon Slot:'\n",
    "    )\n",
    "\n",
    "    dropdown_weapon_slot = ipw.Dropdown(\n",
    "        options = possible_requirements['Weapon Slot'],\n",
    "        layout = layout_dropdown\n",
    "    )\n",
    "    edit.slot = dropdown_weapon_slot\n",
    "\n",
    "    label_ammo = ipw.Label(\n",
    "        value = 'Ammo:'\n",
    "    )\n",
    "\n",
    "    dropdown_weapon_ammo = ipw.Dropdown(\n",
    "        options = possible_requirements['Weapon Ammo'],\n",
    "        layout = layout_dropdown\n",
    "    )\n",
    "    edit.ammo = dropdown_weapon_ammo\n",
    "\n",
    "    label_weapon = ipw.Label(\n",
    "        value = 'Weapon:'\n",
    "    )\n",
    "\n",
    "    dropdown_weapon_type = ipw.Dropdown(\n",
    "        options = possible_requirements['Weapon Type'],\n",
    "        layout = layout_dropdown\n",
    "    )\n",
    "    edit.weapon = dropdown_weapon_type\n",
    "\n",
    "    label_energy = ipw.Label(\n",
    "        value = 'Energy Type:'\n",
    "    )\n",
    "\n",
    "    dropdown_weapon_energy = ipw.Dropdown(\n",
    "        options = possible_requirements['Weapon Energy'],\n",
    "        layout = layout_dropdown\n",
    "    )\n",
    "    edit.energy = dropdown_weapon_energy\n",
    "\n",
    "\n",
    "    vbox_weapon = ipw.VBox(\n",
    "        children = [\n",
    "            label_weapon_title,\n",
    "            label_slot,\n",
    "            dropdown_weapon_slot,\n",
    "            label_energy,\n",
    "            dropdown_weapon_energy,\n",
    "            label_weapon,\n",
    "            dropdown_weapon_type,\n",
    "            label_ammo,\n",
    "            dropdown_weapon_ammo\n",
    "        ]\n",
    "    )\n",
    "\n",
    "\n",
    "    #TODO: need to add functionality to set weapon slot type\n",
    "    def set_observe(observe):\n",
    "        if observe:\n",
    "            dropdown_weapon_slot.observe(change_weapon, names = 'value')\n",
    "            dropdown_weapon_energy.observe(change_weapon, names = 'value')\n",
    "            dropdown_weapon_type.observe(change_weapon, names = 'value')\n",
    "            dropdown_weapon_ammo.observe(change_weapon, names = 'value')\n",
    "        else: \n",
    "            dropdown_weapon_slot.unobserve(change_weapon, names = 'value')\n",
    "            dropdown_weapon_energy.unobserve(change_weapon, names = 'value')\n",
    "            dropdown_weapon_type.unobserve(change_weapon, names = 'value')\n",
    "            dropdown_weapon_ammo.unobserve(change_weapon, names = 'value')\n",
    "\n",
    "    def refresh_weapon():\n",
    "\n",
    "        set_observe(False)\n",
    "\n",
    "\n",
    "\n",
    "        slot = dropdown_weapon_slot.value\n",
    "        energy = dropdown_weapon_energy.value\n",
    "        wtype = dropdown_weapon_type.value\n",
    "        ammo = dropdown_weapon_ammo.value\n",
    "\n",
    "        if 'Clear Options' in [slot, energy, wtype, ammo]:\n",
    "            slot = 'Any'\n",
    "            energy = 'Any'\n",
    "            wtype = 'Any'\n",
    "            ammo = 'Any'\n",
    "\n",
    "\n",
    "        options_slot = possible_requirements['Weapon Slot'][1:]\n",
    "        options_energy = possible_requirements['Weapon Energy'][1:]\n",
    "        options_type = possible_requirements['Weapon Type'][1:]\n",
    "        options_ammo = possible_requirements['Weapon Ammo'][1:]\n",
    "\n",
    "\n",
    "        if slot == 'Kinetic':\n",
    "            if 'Void' in options_energy:\n",
    "                options_energy.remove('Void')\n",
    "            if 'Arc' in options_energy:\n",
    "                options_energy.remove('Arc')\n",
    "            if 'Solar' in options_energy:\n",
    "                options_energy.remove('Solar')\n",
    "            if 'Heavy'in options_ammo:\n",
    "                options_ammo.remove('Heavy')\n",
    "            for heavy_weapon in possible_requirements['Weapon Ammo Type']['Heavy'][1:]:\n",
    "                if heavy_weapon in options_type:\n",
    "                    options_type.remove(heavy_weapon)\n",
    "        elif slot == 'Energy':\n",
    "            if 'Kinetic' in options_energy:\n",
    "                options_energy.remove('Kinetic')\n",
    "            if 'Heavy'in options_ammo:\n",
    "                options_ammo.remove('Heavy')\n",
    "            for heavy_weapon in possible_requirements['Weapon Ammo Type']['Heavy'][1:]:\n",
    "                if heavy_weapon in options_type and heavy_weapon != 'Grenade Launcher':\n",
    "                    options_type.remove(heavy_weapon)\n",
    "        elif slot == 'Power':\n",
    "            if 'Kinetic' in options_energy:\n",
    "                options_energy.remove('Kinetic')\n",
    "            if 'Primary'in options_ammo:\n",
    "                options_ammo.remove('Primary')\n",
    "            if 'Secondary'in options_ammo:\n",
    "                options_ammo.remove('Secondary')\n",
    "            for primary_weapon in possible_requirements['Weapon Ammo Type']['Primary'][1:]:\n",
    "                if primary_weapon in options_type:\n",
    "                    options_type.remove(primary_weapon)\n",
    "            for secondary_weapon in possible_requirements['Weapon Ammo Type']['Secondary'][1:]:\n",
    "                if secondary_weapon in options_type and secondary_weapon != 'Grenade Launcher':\n",
    "                    options_type.remove(secondary_weapon)\n",
    "\n",
    "\n",
    "\n",
    "        if energy == 'Kinetic':\n",
    "            if 'Energy' in options_slot:\n",
    "                options_slot.remove('Energy')\n",
    "            if 'Power' in options_slot:\n",
    "                options_slot.remove('Power')\n",
    "            if 'Heavy'in options_ammo:\n",
    "                options_ammo.remove('Heavy')\n",
    "            for heavy_weapon in possible_requirements['Weapon Ammo Type']['Heavy'][1:]:\n",
    "                if heavy_weapon in options_type:\n",
    "                    options_type.remove(heavy_weapon)\n",
    "        elif energy in ['Arc', 'Solar', 'Void']:\n",
    "            if 'Kinetic' in options_slot:\n",
    "                options_slot.remove('Kinetic')\n",
    "\n",
    "\n",
    "\n",
    "        if wtype in possible_requirements['Weapon Ammo Type']['Primary'][1:]:\n",
    "            if 'Secondary'in options_ammo:\n",
    "                options_ammo.remove('Secondary')\n",
    "            if 'Heavy'in options_ammo:\n",
    "                options_ammo.remove('Heavy')\n",
    "            if 'Power' in options_slot:\n",
    "                options_slot.remove('Power')\n",
    "        elif wtype in possible_requirements['Weapon Ammo Type']['Secondary'][1:]:\n",
    "            if 'Primary'in options_ammo:\n",
    "                options_ammo.remove('Primary')\n",
    "            if 'Heavy'in options_ammo and wtype != 'Grenade Launcher':\n",
    "                options_ammo.remove('Heavy')\n",
    "            if 'Power' in options_slot and wtype != 'Grenade Launcher':\n",
    "                options_slot.remove('Power')\n",
    "        elif wtype in possible_requirements['Weapon Ammo Type']['Heavy'][1:]:\n",
    "            if 'Primary'in options_ammo:\n",
    "                options_ammo.remove('Primary')\n",
    "            if 'Secondary'in options_ammo and wtype != 'Grenade Launcher':\n",
    "                options_ammo.remove('Secondary')\n",
    "            if 'Kinetic' in options_slot:\n",
    "                options_slot.remove('Kinetic')\n",
    "\n",
    "\n",
    "\n",
    "\n",
    "\n",
    "        if ammo == 'Primary':\n",
    "            if 'Power' in options_slot:\n",
    "                options_slot.remove('Power')\n",
    "            for secondary_weapon in possible_requirements['Weapon Ammo Type']['Secondary'][1:]:\n",
    "                if secondary_weapon in options_type:\n",
    "                    options_type.remove(secondary_weapon)\n",
    "            for heavy_weapon in possible_requirements['Weapon Ammo Type']['Heavy'][1:]:\n",
    "                if heavy_weapon in options_type:\n",
    "                    options_type.remove(heavy_weapon)\n",
    "        if ammo == 'Secondary':\n",
    "            if 'Power' in options_slot:\n",
    "                options_slot.remove('Power')\n",
    "            for primary_weapon in possible_requirements['Weapon Ammo Type']['Primary'][1:]:\n",
    "                if primary_weapon in options_type:\n",
    "                    options_type.remove(primary_weapon)\n",
    "            for heavy_weapon in possible_requirements['Weapon Ammo Type']['Heavy'][1:]:\n",
    "                if heavy_weapon in options_type and heavy_weapon != 'Grenade Launcher':\n",
    "                    options_type.remove(heavy_weapon)\n",
    "        if ammo == 'Heavy':\n",
    "            if 'Kinetic' in options_energy:\n",
    "                options_energy.remove('Kinetic')\n",
    "            if 'Kinetic' in options_slot:\n",
    "                options_slot.remove('Kinetic')\n",
    "            if 'Energy' in options_slot:\n",
    "                options_slot.remove('Energy')\n",
    "            for primary_weapon in possible_requirements['Weapon Ammo Type']['Primary'][1:]:\n",
    "                if primary_weapon in options_type:\n",
    "                    options_type.remove(primary_weapon)\n",
    "            for secondary_weapon in possible_requirements['Weapon Ammo Type']['Secondary'][1:]:\n",
    "                if secondary_weapon in options_type and secondary_weapon != 'Grenade Launcher':\n",
    "                    options_type.remove(secondary_weapon)\n",
    "\n",
    "\n",
    "\n",
    "\n",
    "        if len(options_slot) > 1:\n",
    "            options_slot.insert(0,'Multiple Options')\n",
    "        else:\n",
    "            options_slot.append('Clear Options')\n",
    "        dropdown_weapon_slot.options = options_slot\n",
    "        if slot in options_slot:\n",
    "            dropdown_weapon_slot.value = slot\n",
    "\n",
    "        if len(options_energy) > 1:\n",
    "            options_energy.insert(0,'Multiple Options')\n",
    "        else:\n",
    "            options_energy.append('Clear Options')\n",
    "        dropdown_weapon_energy.options = options_energy\n",
    "        if energy in options_energy:\n",
    "            dropdown_weapon_energy.value = energy\n",
    "\n",
    "        if len(options_type) > 1:\n",
    "            options_type.insert(0,'Multiple Options')\n",
    "        else:\n",
    "            options_type.append('Clear Options')\n",
    "        dropdown_weapon_type.options = options_type\n",
    "        if wtype in options_type:\n",
    "            dropdown_weapon_type.value = wtype\n",
    "\n",
    "        if len(options_ammo) > 1:\n",
    "            options_ammo.insert(0,'Multiple Options')\n",
    "        else:\n",
    "            options_ammo.append('Clear Options')\n",
    "        dropdown_weapon_ammo.options = options_ammo\n",
    "        if ammo in options_ammo:\n",
    "            dropdown_weapon_ammo.value = ammo\n",
    "\n",
    "        set_observe(True)\n",
    "\n",
    "    def change_weapon(change):\n",
    "        refresh_weapon()\n",
    "\n",
    "    set_observe(True)\n",
    "\n",
    "\n",
    "\n",
    "    \n",
    "    \n",
    "    edit_panel = ipw.VBox(\n",
    "        children = [\n",
    "            vbox_header,\n",
    "            vbox_activity,\n",
    "            vbox_class,\n",
    "            vbox_weapon\n",
    "        ],\n",
    "        layout = ipw.Layout(\n",
    "            border ='1px solid white',\n",
    "            width ='15%',\n",
    "            min_width = '250px',\n",
    "            padding ='10px')\n",
    "    )\n",
    "    \n",
    "    edit.panel = edit_panel\n",
    "    \n",
    "\n"
   ]
  },
  {
   "cell_type": "markdown",
   "metadata": {},
   "source": [
    "\n",
    "\n",
    "\n",
    "\n",
    "hbox_triumph_req = ipw.HBox()\n",
    "label_triumph_req = ipw.Label(\"Triumph:\", layout=layout_label_req)\n",
    "dropdown_triumph_req = ipw.Dropdown(options=list(triumphs.keys()), layout=layout_req)\n",
    "dropdown_objective_req = ipw.Dropdown(layout=layout_req)\n",
    "box_spacer_req = ipw.Box(layout=layout_req)\n",
    "button_save_req = ipw.Button(description='Save', layout=layout_req)\n",
    "hbox_triumph_req.children = [label_triumph_req,dropdown_triumph_req,dropdown_objective_req, box_spacer_req, button_save_req]\n",
    "\n",
    "def change_triumph(change):\n",
    "    output_req.clear_output()\n",
    "    with output_req: print_map(triumphs[change['new']])\n",
    "    dropdown_objective_req.options = list(triumphs[change['new']]['objectives'].keys())\n",
    "    \n",
    "\n",
    "    \n",
    "dropdown_triumph_req.observe(change_triumph, names='value')\n",
    "\n",
    "\n",
    "\n",
    "#----------------------Class----------------------------\n",
    "\n",
    "\n",
    "#---------------Weapon-----------------------\n",
    "\n",
    "\n",
    "\n",
    "        \n",
    "vbox_req = widgets.VBox(children=[hbox_triumph_req,hbox_class_req,hbox_weapon_req,hbox_activity_req])\n",
    "\n",
    "\n",
    "\n",
    "def load_objective(objective):\n",
    "    if objective in requirements:\n",
    "        dropdown_class_req.value = requirements[objective]['Class']\n",
    "        dropdown_subclass_req.value = requirements[objective]['Subclass']\n",
    "        dropdown_tree_req.value = requirements[objective]['Tree']\n",
    "        dropdown_grenade_req.value = requirements[objective]['Grenade']\n",
    "        dropdown_weapon_slot_req.value = requirements[objective]['Weapon Slot']\n",
    "        dropdown_weapon_ammo_req.value = requirements[objective]['Weapon Ammo']\n",
    "        dropdown_weapon_type_req.value = requirements[objective]['Weapon Type']\n",
    "        dropdown_weapon_energy_req.value = requirements[objective]['Weapon Energy']\n",
    "        dropdown_activity_type_req.value = requirements[objective]['Activity Type']\n",
    "        dropdown_activity_req.value = requirements[objective]['Activity']\n",
    "    else:\n",
    "        dropdown_class_req.value = 'Any'\n",
    "        dropdown_subclass_req.value = 'Any'\n",
    "        dropdown_tree_req.value = 'Any'\n",
    "        dropdown_grenade_req.value = 'Any'\n",
    "        dropdown_weapon_slot_req.value = 'Any'\n",
    "        dropdown_weapon_ammo_req.value = 'Any'\n",
    "        dropdown_weapon_type_req.value = 'Any'\n",
    "        dropdown_weapon_energy_req.value = 'Any'\n",
    "        dropdown_activity_type_req.value = 'Any'\n",
    "        dropdown_activity_req.value = 'Any'\n",
    "    \n",
    "def save_objective(b):\n",
    "    objective = dropdown_objective_req.value\n",
    "    if objective not in requirements:\n",
    "        requirements[objective] = {}\n",
    "    requirements[objective]['Class'] = dropdown_class_req.value\n",
    "    requirements[objective]['Subclass'] = dropdown_subclass_req.value\n",
    "    requirements[objective]['Tree'] = dropdown_tree_req.value\n",
    "    requirements[objective]['Grenade'] = dropdown_grenade_req.value\n",
    "    requirements[objective]['Weapon Slot'] = dropdown_weapon_slot_req.value\n",
    "    requirements[objective]['Weapon Ammo'] = dropdown_weapon_ammo_req.value\n",
    "    requirements[objective]['Weapon Type'] = dropdown_weapon_type_req.value\n",
    "    requirements[objective]['Weapon Energy'] = dropdown_weapon_energy_req.value\n",
    "    requirements[objective]['Activity Type'] = dropdown_activity_type_req.value\n",
    "    requirements[objective]['Activity'] = dropdown_activity_req.value\n",
    "    with open('requirements.data', 'wb') as filehandle:\n",
    "        pickle.dump(requirements, filehandle) \n",
    "    \n",
    "\n",
    "def change_objective(change):\n",
    "    load_objective(change['new'])\n",
    "    \n",
    "dropdown_objective_req.observe(change_objective, names='value')\n",
    "button_save_req.on_click(save_objective)\n",
    "\n",
    "dropdown_triumph_req.value = list(triumphs.keys())[-1]\n",
    "dropdown_triumph_req.value = list(triumphs.keys())[0]\n"
   ]
  }
 ],
 "metadata": {
  "kernelspec": {
   "display_name": "Python 3",
   "language": "python",
   "name": "python3"
  },
  "language_info": {
   "codemirror_mode": {
    "name": "ipython",
    "version": 3
   },
   "file_extension": ".py",
   "mimetype": "text/x-python",
   "name": "python",
   "nbconvert_exporter": "python",
   "pygments_lexer": "ipython3",
   "version": "3.7.4"
  },
  "widgets": {
   "application/vnd.jupyter.widget-state+json": {
    "state": {
     "00723cb01a7647c7853bf8753c921838": {
      "model_module": "@jupyter-widgets/base",
      "model_module_version": "1.2.0",
      "model_name": "LayoutModel",
      "state": {}
     },
     "00ae3beaaedd46e0aad9c0cb4cdbe8e1": {
      "model_module": "@jupyter-widgets/controls",
      "model_module_version": "1.5.0",
      "model_name": "DropdownModel",
      "state": {
       "_options_labels": [
        "Any",
        "Primary",
        "Secondary",
        "Heavy"
       ],
       "index": 3,
       "layout": "IPY_MODEL_28a4dff5d61e4497bc87fa083c188e0b",
       "style": "IPY_MODEL_d3ab6e987d774e9ab58e793821b1505a"
      }
     },
     "00b3208de3934b768731433a24fd3214": {
      "model_module": "@jupyter-widgets/controls",
      "model_module_version": "1.5.0",
      "model_name": "DropdownModel",
      "state": {
       "_options_labels": [
        "Any",
        "Kinetic",
        "Solar",
        "Void",
        "Arc"
       ],
       "index": 0,
       "layout": "IPY_MODEL_28a4dff5d61e4497bc87fa083c188e0b",
       "style": "IPY_MODEL_f6504fe624cd47c09b80ee33ab3210f2"
      }
     },
     "00c4704280ce455ba6864d24a03e41fd": {
      "model_module": "@jupyter-widgets/base",
      "model_module_version": "1.2.0",
      "model_name": "LayoutModel",
      "state": {}
     },
     "01ce20e3051941d6b260494b3bee4ce5": {
      "model_module": "@jupyter-widgets/controls",
      "model_module_version": "1.5.0",
      "model_name": "LabelModel",
      "state": {
       "layout": "IPY_MODEL_c29874a5c0454e83904e3108bba3ed69",
       "style": "IPY_MODEL_96011401aefa40cda8c785979543403e",
       "value": "Energy Type:"
      }
     },
     "022783e012c44c18839c42e3e8ccd3a7": {
      "model_module": "@jupyter-widgets/controls",
      "model_module_version": "1.5.0",
      "model_name": "HBoxModel",
      "state": {
       "children": [
        "IPY_MODEL_51d77c4ea21c427aae650c4cca1dfbe7",
        "IPY_MODEL_0937ba63c03c4293a69f9cb4c4548ee1",
        "IPY_MODEL_f9e7478e63204466ab696f9513a28d7c",
        "IPY_MODEL_a3e8f41dbf3f4aa0b82ab0e9051e2de0",
        "IPY_MODEL_87372d7cdd6d4567ba36e0dcb2ad56ea"
       ],
       "layout": "IPY_MODEL_f9c1178cb243473990c4929e402ddde5"
      }
     },
     "027a373d9e0a4de79bd892fbc32064fc": {
      "model_module": "@jupyter-widgets/base",
      "model_module_version": "1.2.0",
      "model_name": "LayoutModel",
      "state": {}
     },
     "02ae3b6e7d024aa08345951e21cb8b90": {
      "model_module": "@jupyter-widgets/controls",
      "model_module_version": "1.5.0",
      "model_name": "DropdownModel",
      "state": {
       "_options_labels": [
        "Any",
        "Hand Cannon",
        "Auto Rifle",
        "Scout Rifle",
        "Pulse Rifle",
        "Sidearm",
        "Submachine Gun",
        "Combt Bow",
        "Sniper Rifle",
        "Shotgun",
        "Fusion Rifle",
        "Grenade Launcher",
        "Machine Gun",
        "Sword",
        "Grenade Launcher",
        "Rocket Launcher",
        "Linear Fusion Rifle"
       ],
       "index": 0,
       "layout": "IPY_MODEL_28a4dff5d61e4497bc87fa083c188e0b",
       "style": "IPY_MODEL_1ccbc16f3b4f4361b3db66d062968e9e"
      }
     },
     "02b7964ad8414c6fad238cc5051926f1": {
      "model_module": "@jupyter-widgets/controls",
      "model_module_version": "1.5.0",
      "model_name": "HBoxModel",
      "state": {
       "children": [
        "IPY_MODEL_b7288d19355a44318ad691fff56bce82",
        "IPY_MODEL_a6a2d3ac5edb43bb9f7ef41b776df5d1",
        "IPY_MODEL_aab09a9a1e02415993597eebad92f343",
        "IPY_MODEL_02ae3b6e7d024aa08345951e21cb8b90",
        "IPY_MODEL_e1d2610a2319425f9c4b2d440753a453"
       ],
       "layout": "IPY_MODEL_87f4f0e02ed448329520d246992b2eda"
      }
     },
     "041eab8083e44011b082c8aef45ef26f": {
      "model_module": "@jupyter-widgets/controls",
      "model_module_version": "1.5.0",
      "model_name": "HBoxModel",
      "state": {
       "children": [
        "IPY_MODEL_60368b099cde4982aa7d30cabca42ec9",
        "IPY_MODEL_c4bd6c021a7742198b2971458a35bbe7",
        "IPY_MODEL_7445feba65e643068238875ceadba54a",
        "IPY_MODEL_abc9dc8b07b241b39f1c719a8bfb1d8c",
        "IPY_MODEL_9afc670ab9ba4a3280d656e9fb3b422d"
       ],
       "layout": "IPY_MODEL_d56c7a8f24f84e988d2ca6c15179f0a7"
      }
     },
     "047e9aed03ff4acba388b0acb592e3ff": {
      "model_module": "@jupyter-widgets/controls",
      "model_module_version": "1.5.0",
      "model_name": "DescriptionStyleModel",
      "state": {
       "description_width": ""
      }
     },
     "04908587396f4cef915963f2486d5d8d": {
      "model_module": "@jupyter-widgets/controls",
      "model_module_version": "1.5.0",
      "model_name": "DescriptionStyleModel",
      "state": {
       "description_width": ""
      }
     },
     "04bd2ba60c00421ea6db0bd34f17a7d3": {
      "model_module": "@jupyter-widgets/controls",
      "model_module_version": "1.5.0",
      "model_name": "DropdownModel",
      "state": {
       "_options_labels": [
        "Any",
        "Voidwalker",
        "Stormcaller",
        "Dawnblade"
       ],
       "index": 2,
       "layout": "IPY_MODEL_6af5da9fc9d24e36b9ec1b19ebb2b540",
       "style": "IPY_MODEL_91d32b50951b42c993ebbed3326ffa83"
      }
     },
     "05012dce154d440cafa24e492e289f78": {
      "model_module": "@jupyter-widgets/controls",
      "model_module_version": "1.5.0",
      "model_name": "DropdownModel",
      "state": {
       "_options_labels": [
        "Any",
        "Kinetic",
        "Energy",
        "Power"
       ],
       "index": 0,
       "layout": "IPY_MODEL_28a4dff5d61e4497bc87fa083c188e0b",
       "style": "IPY_MODEL_b4c4690a9b404ef7b2f9a7c03794c7fe"
      }
     },
     "050a6814ece746c7913e68752e0889bb": {
      "model_module": "@jupyter-widgets/base",
      "model_module_version": "1.2.0",
      "model_name": "LayoutModel",
      "state": {}
     },
     "0582f808e2164b91bec33715b32c7af4": {
      "model_module": "@jupyter-widgets/controls",
      "model_module_version": "1.5.0",
      "model_name": "HTMLModel",
      "state": {
       "layout": "IPY_MODEL_b4e298aacf3d417096b4f82cce80581a",
       "style": "IPY_MODEL_441d3849a3db4775a731d2496012ddca",
       "value": "<b>Class Requirements</b>"
      }
     },
     "05e05db312784308bacf0f5e75c0519e": {
      "model_module": "@jupyter-widgets/controls",
      "model_module_version": "1.5.0",
      "model_name": "DropdownModel",
      "state": {
       "_options_labels": [
        "Primary"
       ],
       "index": 0,
       "layout": "IPY_MODEL_28a4dff5d61e4497bc87fa083c188e0b",
       "style": "IPY_MODEL_4803b3bcda4b4ca49da3b5a0df8b4be1"
      }
     },
     "06232975b8174ae1804539df467a1829": {
      "model_module": "@jupyter-widgets/controls",
      "model_module_version": "1.5.0",
      "model_name": "VBoxModel",
      "state": {
       "children": [
        "IPY_MODEL_922519acf25a4c0992ad4279d9bc99b5",
        "IPY_MODEL_1346f53762a0445f8558ca5a38e3eae6",
        "IPY_MODEL_c93603a06e044306873c3bf47335c4c6"
       ],
       "layout": "IPY_MODEL_0bbc8d9bb463407f86bdeb69b54d87e0"
      }
     },
     "06607bae9c8747ff857a267744f3aaa8": {
      "model_module": "@jupyter-widgets/controls",
      "model_module_version": "1.5.0",
      "model_name": "DescriptionStyleModel",
      "state": {
       "description_width": ""
      }
     },
     "06724ac338c0461d92a6c1aca0dd7cd8": {
      "model_module": "@jupyter-widgets/controls",
      "model_module_version": "1.5.0",
      "model_name": "DescriptionStyleModel",
      "state": {
       "description_width": ""
      }
     },
     "069f9966d5d441588dba1f4c569841a9": {
      "model_module": "@jupyter-widgets/controls",
      "model_module_version": "1.5.0",
      "model_name": "HBoxModel",
      "state": {
       "children": [
        "IPY_MODEL_f79c8090332f4be586734993f854916a",
        "IPY_MODEL_287b4b99527541158d1b00214bf6b278",
        "IPY_MODEL_be03cd85c55440f7a2876a9a2083b7e4",
        "IPY_MODEL_c3b235c031894204979e71c74a571efe",
        "IPY_MODEL_ec09924634f64ebea143c5288c4c2a47"
       ],
       "layout": "IPY_MODEL_c9740ecaa8be4e3e822a2179801188d0"
      }
     },
     "0713925bad2446909fff1143eaf8925c": {
      "model_module": "@jupyter-widgets/controls",
      "model_module_version": "1.5.0",
      "model_name": "DropdownModel",
      "state": {
       "_options_labels": [
        "Any"
       ],
       "disabled": true,
       "index": 0,
       "layout": "IPY_MODEL_f8ec969065b94441995fed14c5073331",
       "style": "IPY_MODEL_3843e178018d45b0ac3d4288e5478f2b"
      }
     },
     "07ea868ff1a94c9da286927823bfd1b0": {
      "model_module": "@jupyter-widgets/controls",
      "model_module_version": "1.5.0",
      "model_name": "VBoxModel",
      "state": {
       "children": [
        "IPY_MODEL_51d775375ec044458b2254f55f71356a",
        "IPY_MODEL_860805af5fa84fd5be938423c1a5d1c8",
        "IPY_MODEL_d744552d69d241979a9c97ac299d6992",
        "IPY_MODEL_b1727da7c18d4502bdeca7f14ffe27c9",
        "IPY_MODEL_7a498956300546828329dc1d46d98b55"
       ],
       "layout": "IPY_MODEL_d3ff6419d2e04496be95ddff69dda5eb"
      }
     },
     "0839d3c9c16549e3b32908a248be0ffb": {
      "model_module": "@jupyter-widgets/controls",
      "model_module_version": "1.5.0",
      "model_name": "HTMLModel",
      "state": {
       "layout": "IPY_MODEL_276cf712c76e463b85d68964e8320e42",
       "style": "IPY_MODEL_fbe2e83afbcc4affba716b284db77b9c",
       "value": "Task"
      }
     },
     "0918398c3ce14ac7ad07cbdbd88b43d1": {
      "model_module": "@jupyter-widgets/controls",
      "model_module_version": "1.5.0",
      "model_name": "DescriptionStyleModel",
      "state": {
       "description_width": ""
      }
     },
     "09194467ceb945de9178df4ef8f5fd20": {
      "model_module": "@jupyter-widgets/controls",
      "model_module_version": "1.5.0",
      "model_name": "DescriptionStyleModel",
      "state": {
       "description_width": ""
      }
     },
     "091986fa9c334989ad34515afb27fb37": {
      "model_module": "@jupyter-widgets/controls",
      "model_module_version": "1.5.0",
      "model_name": "DropdownModel",
      "state": {
       "_options_labels": [
        "Any"
       ],
       "disabled": true,
       "index": 0,
       "layout": "IPY_MODEL_0ef24ecb94d04c929a216bd2bd72a9ea",
       "style": "IPY_MODEL_ea55330eee8a4d43a52ed3ced77f4a71"
      }
     },
     "0937ba63c03c4293a69f9cb4c4548ee1": {
      "model_module": "@jupyter-widgets/controls",
      "model_module_version": "1.5.0",
      "model_name": "DropdownModel",
      "state": {
       "_options_labels": [
        "Any",
        "Kinetic",
        "Energy",
        "Power"
       ],
       "index": 0,
       "layout": "IPY_MODEL_28a4dff5d61e4497bc87fa083c188e0b",
       "style": "IPY_MODEL_bf82db11ded245cf94b11c7bc82372dd"
      }
     },
     "096973d85e2a484293b4c72065d7a612": {
      "model_module": "@jupyter-widgets/controls",
      "model_module_version": "1.5.0",
      "model_name": "DropdownModel",
      "state": {
       "_options_labels": [
        "Any",
        "Patrol",
        "Gambit",
        "Reckoning",
        "Menagerie",
        "Vex Offensive",
        "Raid",
        "Strike",
        "Nightfall",
        "Crucible",
        "Forge"
       ],
       "index": 0,
       "layout": "IPY_MODEL_8e8c6edfe88b4213964a96e34064dd17",
       "style": "IPY_MODEL_73979a2f2acf461cb41f80a7291480c5"
      }
     },
     "0970cece968444a597b20cb8efa7c4ae": {
      "model_module": "@jupyter-widgets/base",
      "model_module_version": "1.2.0",
      "model_name": "LayoutModel",
      "state": {}
     },
     "09c7b86521cd44009d2f885b923dda5c": {
      "model_module": "@jupyter-widgets/controls",
      "model_module_version": "1.5.0",
      "model_name": "DescriptionStyleModel",
      "state": {
       "description_width": ""
      }
     },
     "09d40912363545b69e725f450ab2f955": {
      "model_module": "@jupyter-widgets/controls",
      "model_module_version": "1.5.0",
      "model_name": "HTMLModel",
      "state": {
       "layout": "IPY_MODEL_f7d653bf25994f508488c7ccb41762a0",
       "style": "IPY_MODEL_e406d88adad44e1484f93d35ba33a6dd",
       "value": "<b>Activity Requirements:</b>"
      }
     },
     "09de33d87e33406a85205ef3f61ac6a5": {
      "model_module": "@jupyter-widgets/controls",
      "model_module_version": "1.5.0",
      "model_name": "VBoxModel",
      "state": {
       "children": [
        "IPY_MODEL_bbc30097c3414e6ab4dede23fd1b45fe",
        "IPY_MODEL_8f8d65d1a1134f3ea5290137ca5f2f47",
        "IPY_MODEL_9a0662a68c6e4388ac05ff095211c661",
        "IPY_MODEL_54959a4954ef4a13a1425439504eafbe",
        "IPY_MODEL_d4a4ec0733f9489bbfe31e8458d010e0",
        "IPY_MODEL_7958782e1c8a4b4098e87e07612b8677",
        "IPY_MODEL_0713925bad2446909fff1143eaf8925c",
        "IPY_MODEL_fc78bedea00b417f861f9757aa8e8388",
        "IPY_MODEL_7d97de1b4f7c418b8b7c28aa0af98c76"
       ],
       "layout": "IPY_MODEL_7a66081c76724d0b8f5cab46047f4fd4"
      }
     },
     "0a25699b113341dca6307f6ef015613a": {
      "model_module": "@jupyter-widgets/controls",
      "model_module_version": "1.5.0",
      "model_name": "VBoxModel",
      "state": {
       "children": [
        "IPY_MODEL_8f97066048274af2aed66346dc6e4303",
        "IPY_MODEL_0da10fbc07e34222ac0a1c84e368cd1c",
        "IPY_MODEL_51fb5811a41244f0b16c3f0ebe80fe7c",
        "IPY_MODEL_884562e07a6c453bb033139ab953cb0f",
        "IPY_MODEL_aa349ca423ca4b7b8e938a8466ae9e23"
       ],
       "layout": "IPY_MODEL_9163083b2f1940939ebd53fe2d5d69a0"
      }
     },
     "0ae3a024eafd493ca3610d2110d631a4": {
      "model_module": "@jupyter-widgets/controls",
      "model_module_version": "1.5.0",
      "model_name": "DropdownModel",
      "state": {
       "index": null,
       "layout": "IPY_MODEL_1e46091354034a519e69c0d2dba1f74b",
       "style": "IPY_MODEL_16fae58f98a0407b95a5a27ed700ed36"
      }
     },
     "0b58f4089b7f46cc8ba114d83f15006a": {
      "model_module": "@jupyter-widgets/controls",
      "model_module_version": "1.5.0",
      "model_name": "DropdownModel",
      "state": {
       "_options_labels": [
        "Multiple Options",
        "Kinetic",
        "Energy"
       ],
       "index": 0,
       "layout": "IPY_MODEL_28a4dff5d61e4497bc87fa083c188e0b",
       "style": "IPY_MODEL_46d90d6ae85b45b2bc1c2b2891d7233c"
      }
     },
     "0bbc8d9bb463407f86bdeb69b54d87e0": {
      "model_module": "@jupyter-widgets/base",
      "model_module_version": "1.2.0",
      "model_name": "LayoutModel",
      "state": {}
     },
     "0bbcb05f36f94a338306ee4bc29a6fed": {
      "model_module": "@jupyter-widgets/controls",
      "model_module_version": "1.5.0",
      "model_name": "DescriptionStyleModel",
      "state": {
       "description_width": ""
      }
     },
     "0c001a0377ea4dfd9eff672c7a58dc5b": {
      "model_module": "@jupyter-widgets/controls",
      "model_module_version": "1.5.0",
      "model_name": "DescriptionStyleModel",
      "state": {
       "description_width": ""
      }
     },
     "0c2c4873a1fb4186ae914b4043d9f829": {
      "model_module": "@jupyter-widgets/controls",
      "model_module_version": "1.5.0",
      "model_name": "DropdownModel",
      "state": {
       "_options_labels": [
        "Any",
        "Primary",
        "Secondary",
        "Heavy"
       ],
       "index": 0,
       "layout": "IPY_MODEL_28a4dff5d61e4497bc87fa083c188e0b",
       "style": "IPY_MODEL_1ffa1feeae98406f9c672648c972f2e3"
      }
     },
     "0c417ee37fff4384b960b0ac6c14446f": {
      "model_module": "@jupyter-widgets/controls",
      "model_module_version": "1.5.0",
      "model_name": "DropdownModel",
      "state": {
       "_options_labels": [
        "Any",
        "Kinetic",
        "Solar",
        "Void",
        "Arc"
       ],
       "index": 0,
       "layout": "IPY_MODEL_0ef24ecb94d04c929a216bd2bd72a9ea",
       "style": "IPY_MODEL_2edae98022eb4e37afa32972478ce7cf"
      }
     },
     "0cada1c0640944c3a73581799509209a": {
      "model_module": "@jupyter-widgets/controls",
      "model_module_version": "1.5.0",
      "model_name": "DescriptionStyleModel",
      "state": {
       "description_width": ""
      }
     },
     "0cdc87a8281e47f098f4dc845847f94a": {
      "model_module": "@jupyter-widgets/controls",
      "model_module_version": "1.5.0",
      "model_name": "DropdownModel",
      "state": {
       "_options_labels": [
        "Multiple Options",
        "Kinetic",
        "Solar",
        "Void",
        "Arc"
       ],
       "index": 0,
       "layout": "IPY_MODEL_28a4dff5d61e4497bc87fa083c188e0b",
       "style": "IPY_MODEL_1dae6fde58cc4b86a585b0802e5578f7"
      }
     },
     "0ce200a7e99f448ba312bd3408171820": {
      "model_module": "@jupyter-widgets/controls",
      "model_module_version": "1.5.0",
      "model_name": "DescriptionStyleModel",
      "state": {
       "description_width": ""
      }
     },
     "0da10fbc07e34222ac0a1c84e368cd1c": {
      "model_module": "@jupyter-widgets/controls",
      "model_module_version": "1.5.0",
      "model_name": "HTMLModel",
      "state": {
       "layout": "IPY_MODEL_eff53230833b42b9ab7b6bef32ab0026",
       "style": "IPY_MODEL_be58989958de4238a5e373e6a7833411",
       "value": "Task"
      }
     },
     "0daac255943e46e3b25b4e64a223e93c": {
      "model_module": "@jupyter-widgets/controls",
      "model_module_version": "1.5.0",
      "model_name": "DescriptionStyleModel",
      "state": {
       "description_width": ""
      }
     },
     "0dc2a8c6498b4a518c3e635ee2b17082": {
      "model_module": "@jupyter-widgets/controls",
      "model_module_version": "1.5.0",
      "model_name": "DescriptionStyleModel",
      "state": {
       "description_width": ""
      }
     },
     "0ef24ecb94d04c929a216bd2bd72a9ea": {
      "model_module": "@jupyter-widgets/base",
      "model_module_version": "1.2.0",
      "model_name": "LayoutModel",
      "state": {
       "width": "98%"
      }
     },
     "0f1fd1e1f6824b4f89609b09bbe9a5a1": {
      "model_module": "@jupyter-widgets/base",
      "model_module_version": "1.2.0",
      "model_name": "LayoutModel",
      "state": {}
     },
     "0fb950a79cf24ae5bcf3d25d84118d48": {
      "model_module": "@jupyter-widgets/base",
      "model_module_version": "1.2.0",
      "model_name": "LayoutModel",
      "state": {}
     },
     "0ff0c3a61c2946c1979e5e22cedd6617": {
      "model_module": "@jupyter-widgets/base",
      "model_module_version": "1.2.0",
      "model_name": "LayoutModel",
      "state": {}
     },
     "10208baf3cc84ff0973aa3cf4bbad25b": {
      "model_module": "@jupyter-widgets/controls",
      "model_module_version": "1.5.0",
      "model_name": "DescriptionStyleModel",
      "state": {
       "description_width": ""
      }
     },
     "1027d09e103a45bea4ee6dac027e5d98": {
      "model_module": "@jupyter-widgets/controls",
      "model_module_version": "1.5.0",
      "model_name": "VBoxModel",
      "state": {
       "children": [
        "IPY_MODEL_b6bc6959072d4a62a61c65ecb802e99a",
        "IPY_MODEL_781f90b97b4f479696b11d6850af1f36",
        "IPY_MODEL_4f180c8ff2984d74956386f1d133e832"
       ],
       "layout": "IPY_MODEL_4f4d2cb928fd4c2d83782dc13ff688ae"
      }
     },
     "105390de1d0744e58b54585cb5882f10": {
      "model_module": "@jupyter-widgets/controls",
      "model_module_version": "1.5.0",
      "model_name": "VBoxModel",
      "state": {
       "children": [
        "IPY_MODEL_7cdf44e1b5634c2aba54957c010fb20e",
        "IPY_MODEL_0839d3c9c16549e3b32908a248be0ffb",
        "IPY_MODEL_26a6d4f027ba461d97b80f7ba1067dd3",
        "IPY_MODEL_c18bad1389394854986afced357106b4",
        "IPY_MODEL_76636d2c8549429cb26984d8180635c9"
       ],
       "layout": "IPY_MODEL_5e1d9fec632348388a1d5f00a22b22b3"
      }
     },
     "10828c5430ab468c82a0f6aaf0b3b59d": {
      "model_module": "@jupyter-widgets/controls",
      "model_module_version": "1.5.0",
      "model_name": "DropdownModel",
      "state": {
       "_options_labels": [
        "Multiple Options",
        "Sniper Rifle",
        "Shotgun",
        "Fusion Rifle"
       ],
       "index": 0,
       "layout": "IPY_MODEL_28a4dff5d61e4497bc87fa083c188e0b",
       "style": "IPY_MODEL_c441779e79a04c96864aa18aa84118c7"
      }
     },
     "108a755b2b48427cb940840da7a7ad4c": {
      "model_module": "@jupyter-widgets/output",
      "model_module_version": "1.0.0",
      "model_name": "OutputModel",
      "state": {
       "layout": "IPY_MODEL_dc77e862da244e0ca46da6a360ae85a6"
      }
     },
     "10e15eb63e2946b5bb837a14e06e3c53": {
      "model_module": "@jupyter-widgets/controls",
      "model_module_version": "1.5.0",
      "model_name": "DropdownModel",
      "state": {
       "_options_labels": [
        "Any",
        "Patrol",
        "Gambit",
        "Reckoning",
        "Menagerie",
        "Vex Offensive",
        "Raid",
        "Strike",
        "Nightfall",
        "Crucible",
        "Forge"
       ],
       "index": 0,
       "layout": "IPY_MODEL_877bc0c0584d410f900fe24ec6020b1b",
       "style": "IPY_MODEL_371046bfd31743cf85f7becd0f8ec3b5"
      }
     },
     "11ae8530fdcd47f99a5bdc13ae4b87d3": {
      "model_module": "@jupyter-widgets/controls",
      "model_module_version": "1.5.0",
      "model_name": "HBoxModel",
      "state": {
       "children": [
        "IPY_MODEL_9f6abcaaff584e44b1a6ed4617dce445",
        "IPY_MODEL_dd9d380ba92443a6889159ec713c0166",
        "IPY_MODEL_afc664fcfa6641faaf19420ee4318ce2",
        "IPY_MODEL_bcd8d48d6d544397a1ef19e61adb2296",
        "IPY_MODEL_757a8a36a7d74da18a7498bd3c69227c"
       ],
       "layout": "IPY_MODEL_6fcec9870e844af8a09e4ce08f0c750f"
      }
     },
     "11c2ad9929fe42d3b2ff4aa3efa75603": {
      "model_module": "@jupyter-widgets/controls",
      "model_module_version": "1.5.0",
      "model_name": "DropdownModel",
      "state": {
       "_options_labels": [
        "Any"
       ],
       "disabled": true,
       "index": 0,
       "layout": "IPY_MODEL_5688e82bd7ed4380ad54af287a8e265c",
       "style": "IPY_MODEL_729a9e039a384a12ac5eab62f3b803cc"
      }
     },
     "120adfe300774ae487c16abc5664c662": {
      "model_module": "@jupyter-widgets/controls",
      "model_module_version": "1.5.0",
      "model_name": "DropdownModel",
      "state": {
       "_options_labels": [
        "Any",
        "Hand Cannon",
        "Auto Rifle",
        "Scout Rifle",
        "Pulse Rifle",
        "Sidearm",
        "Submachine Gun",
        "Combt Bow",
        "Sniper Rifle",
        "Shotgun",
        "Fusion Rifle",
        "Grenade Launcher",
        "Machine Gun",
        "Sword",
        "Grenade Launcher",
        "Rocket Launcher",
        "Linear Fusion Rifle"
       ],
       "index": 0,
       "layout": "IPY_MODEL_877bc0c0584d410f900fe24ec6020b1b",
       "style": "IPY_MODEL_9090051a18ac42b3aab2b5a95398f4b5"
      }
     },
     "128325cb281f418b87ec5c09037ef9d6": {
      "model_module": "@jupyter-widgets/controls",
      "model_module_version": "1.5.0",
      "model_name": "DescriptionStyleModel",
      "state": {
       "description_width": ""
      }
     },
     "12baf9638e394156bd3b031fe04f6df7": {
      "model_module": "@jupyter-widgets/base",
      "model_module_version": "1.2.0",
      "model_name": "LayoutModel",
      "state": {}
     },
     "13073ce91e674a22a041331a0d56b792": {
      "model_module": "@jupyter-widgets/controls",
      "model_module_version": "1.5.0",
      "model_name": "DropdownModel",
      "state": {
       "index": null,
       "layout": "IPY_MODEL_e454f9455ab2487aa62d4cbbbbbe5087",
       "style": "IPY_MODEL_3a58b31143a54074a6924ec91876d746"
      }
     },
     "1346f53762a0445f8558ca5a38e3eae6": {
      "model_module": "@jupyter-widgets/controls",
      "model_module_version": "1.5.0",
      "model_name": "DropdownModel",
      "state": {
       "_options_labels": [
        "Any",
        "Patrol",
        "Gambit",
        "Reckoning",
        "Menagerie",
        "Vex Offensive",
        "Raid",
        "Strike",
        "Nightfall",
        "Crucible",
        "Forge"
       ],
       "index": 0,
       "layout": "IPY_MODEL_0ef24ecb94d04c929a216bd2bd72a9ea",
       "style": "IPY_MODEL_5083256893b14645b5ec06239c7ed218"
      }
     },
     "146d59583a65477385f752b838d6af9f": {
      "model_module": "@jupyter-widgets/controls",
      "model_module_version": "1.5.0",
      "model_name": "DescriptionStyleModel",
      "state": {
       "description_width": ""
      }
     },
     "14f1dc72732443fc86486e85d3442605": {
      "model_module": "@jupyter-widgets/controls",
      "model_module_version": "1.5.0",
      "model_name": "LabelModel",
      "state": {
       "layout": "IPY_MODEL_3352d11b467d4e95a08e9871c6a0ffe1",
       "style": "IPY_MODEL_359c8c455d2b4e71b659a2dbd3e43cde",
       "value": "Weapon Requirements:"
      }
     },
     "15220c0203b04633aa25be578397b725": {
      "model_module": "@jupyter-widgets/controls",
      "model_module_version": "1.5.0",
      "model_name": "DropdownModel",
      "state": {
       "_options_labels": [
        "Multiple Options",
        "Hand Cannon",
        "Auto Rifle",
        "Scout Rifle",
        "Pulse Rifle",
        "Sidearm",
        "Submachine Gun",
        "Combt Bow",
        "Sniper Rifle",
        "Shotgun",
        "Fusion Rifle",
        "Grenade Launcher",
        "Machine Gun",
        "Sword",
        "Grenade Launcher",
        "Rocket Launcher",
        "Linear Fusion Rifle"
       ],
       "index": 0,
       "layout": "IPY_MODEL_28a4dff5d61e4497bc87fa083c188e0b",
       "style": "IPY_MODEL_edfe8373b81543c087d4dc5a896908fe"
      }
     },
     "16886dd3138c435983e7795e186d33e9": {
      "model_module": "@jupyter-widgets/controls",
      "model_module_version": "1.5.0",
      "model_name": "LabelModel",
      "state": {
       "layout": "IPY_MODEL_3352d11b467d4e95a08e9871c6a0ffe1",
       "style": "IPY_MODEL_1fc3e3b291b6477798c39f25ed8e4974",
       "value": "Weapon Requirements:"
      }
     },
     "1695a265a8e84103ad664e11a80b3334": {
      "model_module": "@jupyter-widgets/controls",
      "model_module_version": "1.5.0",
      "model_name": "DescriptionStyleModel",
      "state": {
       "description_width": ""
      }
     },
     "16b392c3ab1c458e84d192f18c76f346": {
      "model_module": "@jupyter-widgets/controls",
      "model_module_version": "1.5.0",
      "model_name": "LabelModel",
      "state": {
       "layout": "IPY_MODEL_3352d11b467d4e95a08e9871c6a0ffe1",
       "style": "IPY_MODEL_f93feb06ab4f467e90b59d9e5afd8ce2",
       "value": "Weapon Requirements:"
      }
     },
     "16fae58f98a0407b95a5a27ed700ed36": {
      "model_module": "@jupyter-widgets/controls",
      "model_module_version": "1.5.0",
      "model_name": "DescriptionStyleModel",
      "state": {
       "description_width": ""
      }
     },
     "170062a8139649418cfda1c7fafde4ee": {
      "model_module": "@jupyter-widgets/controls",
      "model_module_version": "1.5.0",
      "model_name": "VBoxModel",
      "state": {
       "children": [
        "IPY_MODEL_d4edf1b9ae8643a0a387fb3b9983f71a",
        "IPY_MODEL_193fdf39d5dd453bbc7535045b24c233",
        "IPY_MODEL_5735ce4014a34e4899b28e7e61024d8a",
        "IPY_MODEL_01ce20e3051941d6b260494b3bee4ce5",
        "IPY_MODEL_0c417ee37fff4384b960b0ac6c14446f",
        "IPY_MODEL_6e8a374dc1704975a04135430e5eb0e0",
        "IPY_MODEL_3c5193d11fbb49e78ea8880404524a10",
        "IPY_MODEL_f87f443d3e9448919b5de2e161ab27b1",
        "IPY_MODEL_63ba24223df941e8a05386d07cbf4561"
       ],
       "layout": "IPY_MODEL_f7dd1b8cd2404107a630d0c34961f1c9"
      }
     },
     "17045ef5dde74daab6781c77ba07c5a8": {
      "model_module": "@jupyter-widgets/base",
      "model_module_version": "1.2.0",
      "model_name": "LayoutModel",
      "state": {}
     },
     "17835625d1804c65aa9cb098d84f9ca5": {
      "model_module": "@jupyter-widgets/controls",
      "model_module_version": "1.5.0",
      "model_name": "VBoxModel",
      "state": {
       "children": [
        "IPY_MODEL_8f44adb024cd4dbfa35c8259977f4d75",
        "IPY_MODEL_74be2fdc22cb4c7e9f045b024fb6a5e9",
        "IPY_MODEL_0ae3a024eafd493ca3610d2110d631a4",
        "IPY_MODEL_e281c6a9a86a4ddab459dabd675ac733",
        "IPY_MODEL_cde8cc9860164ebd9db8578fd8005d92"
       ],
       "layout": "IPY_MODEL_64c1faadc13b40a9b9a8843dd2ab502a"
      }
     },
     "179b4e2c73b74a008e1589677aeac862": {
      "model_module": "@jupyter-widgets/controls",
      "model_module_version": "1.5.0",
      "model_name": "VBoxModel",
      "state": {
       "children": [
        "IPY_MODEL_81d92cb97ed0420ea7b058157cc3fcec",
        "IPY_MODEL_096973d85e2a484293b4c72065d7a612",
        "IPY_MODEL_c151a0ab31874e45a818f98eb776fe1e"
       ],
       "layout": "IPY_MODEL_a9c7d7eb0b1748d984aba08a2c6e7815"
      }
     },
     "17a23d2b262543c18da81ef6bb2b087e": {
      "model_module": "@jupyter-widgets/base",
      "model_module_version": "1.2.0",
      "model_name": "LayoutModel",
      "state": {}
     },
     "17fd79d409ee44d4aa82e085bc38458d": {
      "model_module": "@jupyter-widgets/base",
      "model_module_version": "1.2.0",
      "model_name": "LayoutModel",
      "state": {}
     },
     "186d7445fb5f4da8ba9aa86273f717c6": {
      "model_module": "@jupyter-widgets/controls",
      "model_module_version": "1.5.0",
      "model_name": "DropdownModel",
      "state": {
       "_options_labels": [
        "Any"
       ],
       "disabled": true,
       "index": 0,
       "layout": "IPY_MODEL_a6358911d8fe4a5e9b799e7f97239ba6",
       "style": "IPY_MODEL_5abbd4d23e5e4bcfbb107b12fc4ceef6"
      }
     },
     "187422620a7f49688f07ca3969a21795": {
      "model_module": "@jupyter-widgets/controls",
      "model_module_version": "1.5.0",
      "model_name": "DropdownModel",
      "state": {
       "_options_labels": [
        "Multiple Options",
        "Kinetic",
        "Energy"
       ],
       "index": 0,
       "layout": "IPY_MODEL_28a4dff5d61e4497bc87fa083c188e0b",
       "style": "IPY_MODEL_52778015bf5f4ce7ba348a03cea0776b"
      }
     },
     "19061196fe3d4068844ae4b679329126": {
      "model_module": "@jupyter-widgets/base",
      "model_module_version": "1.2.0",
      "model_name": "LayoutModel",
      "state": {}
     },
     "193fdf39d5dd453bbc7535045b24c233": {
      "model_module": "@jupyter-widgets/controls",
      "model_module_version": "1.5.0",
      "model_name": "LabelModel",
      "state": {
       "layout": "IPY_MODEL_c44e3228d1b4462ea14329f67788d32b",
       "style": "IPY_MODEL_981d60c69b7e43118fad3023e5316743",
       "value": "Weapon Slot:"
      }
     },
     "1a3d44a59ee048f7851f96e94f7652a8": {
      "model_module": "@jupyter-widgets/base",
      "model_module_version": "1.2.0",
      "model_name": "LayoutModel",
      "state": {}
     },
     "1a9b4ada9fcb4084828e73c7928276c4": {
      "model_module": "@jupyter-widgets/controls",
      "model_module_version": "1.5.0",
      "model_name": "DropdownModel",
      "state": {
       "_options_labels": [
        "Any",
        "Primary",
        "Secondary",
        "Heavy"
       ],
       "index": 0,
       "layout": "IPY_MODEL_28a4dff5d61e4497bc87fa083c188e0b",
       "style": "IPY_MODEL_9d32301074704c16b9875f9863204b16"
      }
     },
     "1aa5492feae8490eb02d2c8ee6c29b73": {
      "model_module": "@jupyter-widgets/controls",
      "model_module_version": "1.5.0",
      "model_name": "HBoxModel",
      "state": {
       "children": [
        "IPY_MODEL_ee5af6fce5ed4b119f4efee88a9bd271",
        "IPY_MODEL_8c444fb1e9fb4cce8768ab4c930ccc45",
        "IPY_MODEL_0cdc87a8281e47f098f4dc845847f94a",
        "IPY_MODEL_4a87781453ba435b9e6c976d9c759100",
        "IPY_MODEL_a0c0efb0aadf417b815c6a1474d6a491"
       ],
       "layout": "IPY_MODEL_7e75133f13574cf1b6a8cd3d41095106"
      }
     },
     "1b19cb55648a4f39bda07040d3fc7cf8": {
      "model_module": "@jupyter-widgets/controls",
      "model_module_version": "1.5.0",
      "model_name": "LabelModel",
      "state": {
       "layout": "IPY_MODEL_3352d11b467d4e95a08e9871c6a0ffe1",
       "style": "IPY_MODEL_817e0d90db2d403790aa26b1ec8206a3",
       "value": "Weapon Requirements:"
      }
     },
     "1b343f7e5fc64b17bfdc5a05f786d9ae": {
      "model_module": "@jupyter-widgets/controls",
      "model_module_version": "1.5.0",
      "model_name": "DescriptionStyleModel",
      "state": {
       "description_width": ""
      }
     },
     "1b5e67100b7a4f5b864e85f08616c532": {
      "model_module": "@jupyter-widgets/controls",
      "model_module_version": "1.5.0",
      "model_name": "DescriptionStyleModel",
      "state": {
       "description_width": ""
      }
     },
     "1c0f3f78651548a1974ed7753e0bb198": {
      "model_module": "@jupyter-widgets/controls",
      "model_module_version": "1.5.0",
      "model_name": "DescriptionStyleModel",
      "state": {
       "description_width": ""
      }
     },
     "1c296fa1ef0e488ca8bc67bac48c5ffe": {
      "model_module": "@jupyter-widgets/base",
      "model_module_version": "1.2.0",
      "model_name": "LayoutModel",
      "state": {}
     },
     "1c563d60cd0a4a93921e5b913a104dbc": {
      "model_module": "@jupyter-widgets/controls",
      "model_module_version": "1.5.0",
      "model_name": "DescriptionStyleModel",
      "state": {
       "description_width": ""
      }
     },
     "1c90652c31f44c06b97e6cdf470d14ff": {
      "model_module": "@jupyter-widgets/controls",
      "model_module_version": "1.5.0",
      "model_name": "DescriptionStyleModel",
      "state": {
       "description_width": ""
      }
     },
     "1c9af6c3d0f64016a8f6ca47c39b17a7": {
      "model_module": "@jupyter-widgets/controls",
      "model_module_version": "1.5.0",
      "model_name": "DropdownModel",
      "state": {
       "_options_labels": [
        "Kinetic",
        "Not Kinetic"
       ],
       "index": 1,
       "layout": "IPY_MODEL_28a4dff5d61e4497bc87fa083c188e0b",
       "style": "IPY_MODEL_0bbcb05f36f94a338306ee4bc29a6fed"
      }
     },
     "1ccbc16f3b4f4361b3db66d062968e9e": {
      "model_module": "@jupyter-widgets/controls",
      "model_module_version": "1.5.0",
      "model_name": "DescriptionStyleModel",
      "state": {
       "description_width": ""
      }
     },
     "1cf40b85b67b4ea88ed235e969b97de3": {
      "model_module": "@jupyter-widgets/controls",
      "model_module_version": "1.5.0",
      "model_name": "DescriptionStyleModel",
      "state": {
       "description_width": ""
      }
     },
     "1d4e11e88d1e454bb7f99a8a3fb0b6de": {
      "model_module": "@jupyter-widgets/controls",
      "model_module_version": "1.5.0",
      "model_name": "DescriptionStyleModel",
      "state": {
       "description_width": ""
      }
     },
     "1dae6fde58cc4b86a585b0802e5578f7": {
      "model_module": "@jupyter-widgets/controls",
      "model_module_version": "1.5.0",
      "model_name": "DescriptionStyleModel",
      "state": {
       "description_width": ""
      }
     },
     "1de3bd6174af4e44b77160e3e0e3fa79": {
      "model_module": "@jupyter-widgets/controls",
      "model_module_version": "1.5.0",
      "model_name": "DropdownModel",
      "state": {
       "_options_labels": [
        "Any",
        "Hand Cannon",
        "Auto Rifle",
        "Scout Rifle",
        "Pulse Rifle",
        "Sidearm",
        "Submachine Gun",
        "Combt Bow",
        "Sniper Rifle",
        "Shotgun",
        "Fusion Rifle",
        "Grenade Launcher",
        "Machine Gun",
        "Sword",
        "Grenade Launcher",
        "Rocket Launcher",
        "Linear Fusion Rifle"
       ],
       "index": 0,
       "layout": "IPY_MODEL_28a4dff5d61e4497bc87fa083c188e0b",
       "style": "IPY_MODEL_c795baf0378c45f8be9c3f6006f22fe6"
      }
     },
     "1df4648a91874a7094cb2c6d196ce0ac": {
      "model_module": "@jupyter-widgets/controls",
      "model_module_version": "1.5.0",
      "model_name": "DescriptionStyleModel",
      "state": {
       "description_width": ""
      }
     },
     "1e130d054f144906aa8bcb9f7f9fcf82": {
      "model_module": "@jupyter-widgets/base",
      "model_module_version": "1.2.0",
      "model_name": "LayoutModel",
      "state": {}
     },
     "1e46091354034a519e69c0d2dba1f74b": {
      "model_module": "@jupyter-widgets/base",
      "model_module_version": "1.2.0",
      "model_name": "LayoutModel",
      "state": {}
     },
     "1e8c2fa3af5a4e44bceb5e30eaaa1793": {
      "model_module": "@jupyter-widgets/base",
      "model_module_version": "1.2.0",
      "model_name": "LayoutModel",
      "state": {}
     },
     "1ea5a1f44ef8493bbac3fdb7b36e93b0": {
      "model_module": "@jupyter-widgets/controls",
      "model_module_version": "1.5.0",
      "model_name": "DescriptionStyleModel",
      "state": {
       "description_width": ""
      }
     },
     "1f7fb63588554e5ea2ae8c72b47ff6fd": {
      "model_module": "@jupyter-widgets/base",
      "model_module_version": "1.2.0",
      "model_name": "LayoutModel",
      "state": {}
     },
     "1fc3e3b291b6477798c39f25ed8e4974": {
      "model_module": "@jupyter-widgets/controls",
      "model_module_version": "1.5.0",
      "model_name": "DescriptionStyleModel",
      "state": {
       "description_width": ""
      }
     },
     "1ffa1feeae98406f9c672648c972f2e3": {
      "model_module": "@jupyter-widgets/controls",
      "model_module_version": "1.5.0",
      "model_name": "DescriptionStyleModel",
      "state": {
       "description_width": ""
      }
     },
     "204592c215234ad585ae28927610e842": {
      "model_module": "@jupyter-widgets/controls",
      "model_module_version": "1.5.0",
      "model_name": "LabelModel",
      "state": {
       "layout": "IPY_MODEL_3352d11b467d4e95a08e9871c6a0ffe1",
       "style": "IPY_MODEL_b79d855a956944f98531a4e8510db9c1",
       "value": "Weapon Requirements:"
      }
     },
     "2055387f5a9a4fda86eb22c0a2037523": {
      "model_module": "@jupyter-widgets/controls",
      "model_module_version": "1.5.0",
      "model_name": "DescriptionStyleModel",
      "state": {
       "description_width": ""
      }
     },
     "22bc5ca6613e40e18ef89cc44e3c572e": {
      "model_module": "@jupyter-widgets/controls",
      "model_module_version": "1.5.0",
      "model_name": "HTMLModel",
      "state": {
       "layout": "IPY_MODEL_855360f96c6b4a4dade8e74fe725918d",
       "style": "IPY_MODEL_ec11cff1c41a4f24aca299a23c350bfd",
       "value": "<b>Activity Requirements:</b>"
      }
     },
     "233f551ec04a4e7c8ea49972e08ec3c3": {
      "model_module": "@jupyter-widgets/base",
      "model_module_version": "1.2.0",
      "model_name": "LayoutModel",
      "state": {}
     },
     "235da1372ec342c09b72167af89c5254": {
      "model_module": "@jupyter-widgets/base",
      "model_module_version": "1.2.0",
      "model_name": "LayoutModel",
      "state": {}
     },
     "23720005fdde4c6baed655e3b161e450": {
      "model_module": "@jupyter-widgets/controls",
      "model_module_version": "1.5.0",
      "model_name": "DescriptionStyleModel",
      "state": {
       "description_width": ""
      }
     },
     "239aadeb460844dfbbc4a20e335865fc": {
      "model_module": "@jupyter-widgets/base",
      "model_module_version": "1.2.0",
      "model_name": "LayoutModel",
      "state": {}
     },
     "23c34b9ce110421aa7b3db886d1a3562": {
      "model_module": "@jupyter-widgets/controls",
      "model_module_version": "1.5.0",
      "model_name": "DescriptionStyleModel",
      "state": {
       "description_width": ""
      }
     },
     "23f04997c9dd48199ebd4dd00137ce85": {
      "model_module": "@jupyter-widgets/controls",
      "model_module_version": "1.5.0",
      "model_name": "DropdownModel",
      "state": {
       "_options_labels": [
        "Any"
       ],
       "disabled": true,
       "index": 0,
       "layout": "IPY_MODEL_050a6814ece746c7913e68752e0889bb",
       "style": "IPY_MODEL_c4ca202db0b74860af0db43f3b425def"
      }
     },
     "25b1dcd2b25a46578eb8c867e336a13c": {
      "model_module": "@jupyter-widgets/controls",
      "model_module_version": "1.5.0",
      "model_name": "DescriptionStyleModel",
      "state": {
       "description_width": ""
      }
     },
     "25c04696d3b74a63b9b4d5291aee122a": {
      "model_module": "@jupyter-widgets/controls",
      "model_module_version": "1.5.0",
      "model_name": "HBoxModel",
      "state": {
       "children": [
        "IPY_MODEL_a4754896aa41444bace56d25b354d5a7",
        "IPY_MODEL_46a4d24849374f10a498dd6afd2a7911",
        "IPY_MODEL_fd69e6d8611a40eab9b40e6f6193cc0c",
        "IPY_MODEL_10828c5430ab468c82a0f6aaf0b3b59d",
        "IPY_MODEL_f72563a45648480e9ed81b461f2ec65c"
       ],
       "layout": "IPY_MODEL_57f87ba6b7024ee09876ec8099749316"
      }
     },
     "25e336f697bc4e5088c84b94033dc28b": {
      "model_module": "@jupyter-widgets/base",
      "model_module_version": "1.2.0",
      "model_name": "LayoutModel",
      "state": {}
     },
     "2696adbc77d24077b64a46f8277e838c": {
      "model_module": "@jupyter-widgets/controls",
      "model_module_version": "1.5.0",
      "model_name": "HBoxModel",
      "state": {
       "children": [
        "IPY_MODEL_81ad70cc91c54aa1bb64b6b5f8550e55",
        "IPY_MODEL_187422620a7f49688f07ca3969a21795",
        "IPY_MODEL_7889431a19674ca58c45b5810fd4cbf8",
        "IPY_MODEL_7ea239eb78d14323848c226856a78ecd",
        "IPY_MODEL_dcd179b6f9314a9d904bc96a0af68dc1"
       ],
       "layout": "IPY_MODEL_a85244bf358b40be8dcef62790fefb43"
      }
     },
     "26a6d4f027ba461d97b80f7ba1067dd3": {
      "model_module": "@jupyter-widgets/controls",
      "model_module_version": "1.5.0",
      "model_name": "DropdownModel",
      "state": {
       "index": null,
       "layout": "IPY_MODEL_51cf448335044daaaada0582bc2964d0",
       "style": "IPY_MODEL_0918398c3ce14ac7ad07cbdbd88b43d1"
      }
     },
     "26bc0f1bd61a4021982547aea9f239df": {
      "model_module": "@jupyter-widgets/controls",
      "model_module_version": "1.5.0",
      "model_name": "DescriptionStyleModel",
      "state": {
       "description_width": ""
      }
     },
     "26bdb322400946478546526e23de156a": {
      "model_module": "@jupyter-widgets/base",
      "model_module_version": "1.2.0",
      "model_name": "LayoutModel",
      "state": {}
     },
     "276cf712c76e463b85d68964e8320e42": {
      "model_module": "@jupyter-widgets/base",
      "model_module_version": "1.2.0",
      "model_name": "LayoutModel",
      "state": {}
     },
     "276e0552c5074003bf9f8d4e64f5b746": {
      "model_module": "@jupyter-widgets/controls",
      "model_module_version": "1.5.0",
      "model_name": "VBoxModel",
      "state": {
       "children": [
        "IPY_MODEL_f3a77aa115544df3879c280788e0bdfb",
        "IPY_MODEL_5e463a4b887e460eb68df2421a844208",
        "IPY_MODEL_42acdcff43e442ab97527690c8dfce01"
       ],
       "layout": "IPY_MODEL_cf2b1ceccee54e6d816fd7e8c181c656"
      }
     },
     "279018d0158b473ba2f236bb9e7fecd7": {
      "model_module": "@jupyter-widgets/base",
      "model_module_version": "1.2.0",
      "model_name": "LayoutModel",
      "state": {}
     },
     "27b4c9127dbd4d46a250c0b679d1a34c": {
      "model_module": "@jupyter-widgets/controls",
      "model_module_version": "1.5.0",
      "model_name": "LabelModel",
      "state": {
       "layout": "IPY_MODEL_3352d11b467d4e95a08e9871c6a0ffe1",
       "style": "IPY_MODEL_1df4648a91874a7094cb2c6d196ce0ac",
       "value": "Weapon Requirements:"
      }
     },
     "282a371e7b294c0492f806afc38206f9": {
      "model_module": "@jupyter-widgets/base",
      "model_module_version": "1.2.0",
      "model_name": "LayoutModel",
      "state": {}
     },
     "2854681473474fb9a69c726a8b7e23e1": {
      "model_module": "@jupyter-widgets/base",
      "model_module_version": "1.2.0",
      "model_name": "LayoutModel",
      "state": {}
     },
     "2866b362b06548ed8310956836739850": {
      "model_module": "@jupyter-widgets/controls",
      "model_module_version": "1.5.0",
      "model_name": "DescriptionStyleModel",
      "state": {
       "description_width": ""
      }
     },
     "287b4b99527541158d1b00214bf6b278": {
      "model_module": "@jupyter-widgets/controls",
      "model_module_version": "1.5.0",
      "model_name": "DropdownModel",
      "state": {
       "_options_labels": [
        "Kinetic"
       ],
       "index": 0,
       "layout": "IPY_MODEL_28a4dff5d61e4497bc87fa083c188e0b",
       "style": "IPY_MODEL_fef586c46551448c8205bbbd5fd3580b"
      }
     },
     "28a4dff5d61e4497bc87fa083c188e0b": {
      "model_module": "@jupyter-widgets/base",
      "model_module_version": "1.2.0",
      "model_name": "LayoutModel",
      "state": {
       "width": "20%"
      }
     },
     "28f62fff55e44b0db69341de8c6b624b": {
      "model_module": "@jupyter-widgets/controls",
      "model_module_version": "1.5.0",
      "model_name": "DescriptionStyleModel",
      "state": {
       "description_width": ""
      }
     },
     "293ba6c1abe44d6bb5344191e6555c6f": {
      "model_module": "@jupyter-widgets/controls",
      "model_module_version": "1.5.0",
      "model_name": "DropdownModel",
      "state": {
       "_options_labels": [
        "Any",
        "Primary",
        "Secondary",
        "Heavy"
       ],
       "index": 3,
       "layout": "IPY_MODEL_28a4dff5d61e4497bc87fa083c188e0b",
       "style": "IPY_MODEL_33680d2d88a54621a23a4f02ef970fa3"
      }
     },
     "2a2066eed89a464db195fbbe2cfefd4f": {
      "model_module": "@jupyter-widgets/controls",
      "model_module_version": "1.5.0",
      "model_name": "DescriptionStyleModel",
      "state": {
       "description_width": ""
      }
     },
     "2a726ca3b6bc46ec98c7a2512a43609b": {
      "model_module": "@jupyter-widgets/controls",
      "model_module_version": "1.5.0",
      "model_name": "DescriptionStyleModel",
      "state": {
       "description_width": ""
      }
     },
     "2b00de5de98445358811a71a7ab0917c": {
      "model_module": "@jupyter-widgets/base",
      "model_module_version": "1.2.0",
      "model_name": "LayoutModel",
      "state": {}
     },
     "2bad1b3edc834fe7a5ddbb6254dc6ca4": {
      "model_module": "@jupyter-widgets/controls",
      "model_module_version": "1.5.0",
      "model_name": "DropdownModel",
      "state": {
       "_options_labels": [
        "Any",
        "Sentinel",
        "Striker",
        "Sunbreaker"
       ],
       "index": 0,
       "layout": "IPY_MODEL_bfe1644d30fd456fafffed9cf8a812dd",
       "style": "IPY_MODEL_c6d5ef5d062643af85ce4e69e4bdbcc1"
      }
     },
     "2c3d25b2966e46919fb18da035215806": {
      "model_module": "@jupyter-widgets/controls",
      "model_module_version": "1.5.0",
      "model_name": "DescriptionStyleModel",
      "state": {
       "description_width": ""
      }
     },
     "2c6e9630808f4bd29e138fe33b0baac9": {
      "model_module": "@jupyter-widgets/controls",
      "model_module_version": "1.5.0",
      "model_name": "DescriptionStyleModel",
      "state": {
       "description_width": ""
      }
     },
     "2ce3481ab83b40a3a41c76182fd97526": {
      "model_module": "@jupyter-widgets/controls",
      "model_module_version": "1.5.0",
      "model_name": "LabelModel",
      "state": {
       "layout": "IPY_MODEL_c9e520577d3546ac97cc6c15c7b9e778",
       "style": "IPY_MODEL_fa578c5fc51d4286a2cb558af8b8f7c9",
       "value": "Class:"
      }
     },
     "2cf3af123da04eadb562aa0647a79745": {
      "model_module": "@jupyter-widgets/controls",
      "model_module_version": "1.5.0",
      "model_name": "DescriptionStyleModel",
      "state": {
       "description_width": ""
      }
     },
     "2cf7c04ae3de4d78ac1ad65c842450e3": {
      "model_module": "@jupyter-widgets/controls",
      "model_module_version": "1.5.0",
      "model_name": "DescriptionStyleModel",
      "state": {
       "description_width": ""
      }
     },
     "2d3406f602514fb88cf3f15fe188f6e8": {
      "model_module": "@jupyter-widgets/controls",
      "model_module_version": "1.5.0",
      "model_name": "HTMLModel",
      "state": {
       "layout": "IPY_MODEL_55828a5ca09c47fab4742251a0a79aff",
       "style": "IPY_MODEL_c7e64f72ce0044bd8736335a60242262",
       "value": "<font size=\"3\"><b>EDIT REQUIREMENTS</b></font size=>"
      }
     },
     "2d93cb2fb1004b25bd77917b94f039d4": {
      "model_module": "@jupyter-widgets/controls",
      "model_module_version": "1.5.0",
      "model_name": "DescriptionStyleModel",
      "state": {
       "description_width": ""
      }
     },
     "2da30c3b8df94dd88b8e8686e4d6b6c8": {
      "model_module": "@jupyter-widgets/base",
      "model_module_version": "1.2.0",
      "model_name": "LayoutModel",
      "state": {}
     },
     "2e0228743b4e4378b38102a39af5e91d": {
      "model_module": "@jupyter-widgets/controls",
      "model_module_version": "1.5.0",
      "model_name": "DescriptionStyleModel",
      "state": {
       "description_width": ""
      }
     },
     "2e10ac058b864942846356c9d6c8caa7": {
      "model_module": "@jupyter-widgets/base",
      "model_module_version": "1.2.0",
      "model_name": "LayoutModel",
      "state": {}
     },
     "2e89d26537554e1090802a7a612bbac7": {
      "model_module": "@jupyter-widgets/controls",
      "model_module_version": "1.5.0",
      "model_name": "DropdownModel",
      "state": {
       "_options_labels": [
        "Any",
        "Titan",
        "Hunter",
        "Warlock"
       ],
       "index": 1,
       "layout": "IPY_MODEL_00c4704280ce455ba6864d24a03e41fd",
       "style": "IPY_MODEL_72bfd8397edb406581c76d7b1cbbbb67"
      }
     },
     "2ea0a06f8a634cd7a113256b00578777": {
      "model_module": "@jupyter-widgets/base",
      "model_module_version": "1.2.0",
      "model_name": "LayoutModel",
      "state": {}
     },
     "2ecd671ef46840c1b9d5fb081fb80278": {
      "model_module": "@jupyter-widgets/controls",
      "model_module_version": "1.5.0",
      "model_name": "DropdownModel",
      "state": {
       "_options_labels": [
        "Multiple Options",
        "Primary",
        "Secondary",
        "Heavy"
       ],
       "index": 3,
       "layout": "IPY_MODEL_28a4dff5d61e4497bc87fa083c188e0b",
       "style": "IPY_MODEL_bf6f7275f49443c7b386918697ce6b82"
      }
     },
     "2edae98022eb4e37afa32972478ce7cf": {
      "model_module": "@jupyter-widgets/controls",
      "model_module_version": "1.5.0",
      "model_name": "DescriptionStyleModel",
      "state": {
       "description_width": ""
      }
     },
     "2f1d8f3b8f3f419994e87bbaead24404": {
      "model_module": "@jupyter-widgets/base",
      "model_module_version": "1.2.0",
      "model_name": "LayoutModel",
      "state": {}
     },
     "2f33ac0dd425412fb5f26fabae0b13e6": {
      "model_module": "@jupyter-widgets/controls",
      "model_module_version": "1.5.0",
      "model_name": "DescriptionStyleModel",
      "state": {
       "description_width": ""
      }
     },
     "3024c980f1934fe28211ec4b47e5bd47": {
      "model_module": "@jupyter-widgets/controls",
      "model_module_version": "1.5.0",
      "model_name": "DropdownModel",
      "state": {
       "_options_labels": [
        "Any",
        "Kinetic",
        "Energy",
        "Power"
       ],
       "index": 0,
       "layout": "IPY_MODEL_28a4dff5d61e4497bc87fa083c188e0b",
       "style": "IPY_MODEL_7fb76060bfa34b398a311038407a0352"
      }
     },
     "309258aaac9245708a09803995dbdb0d": {
      "model_module": "@jupyter-widgets/controls",
      "model_module_version": "1.5.0",
      "model_name": "DropdownModel",
      "state": {
       "_options_labels": [
        "Multiple Options",
        "Grenade Launcher",
        "Machine Gun",
        "Sword",
        "Grenade Launcher",
        "Rocket Launcher",
        "Linear Fusion Rifle"
       ],
       "index": 1,
       "layout": "IPY_MODEL_28a4dff5d61e4497bc87fa083c188e0b",
       "style": "IPY_MODEL_8c61ef9ef5f64d9788486f30494b1404"
      }
     },
     "31864880200a453eaeba436b6639c36a": {
      "model_module": "@jupyter-widgets/controls",
      "model_module_version": "1.5.0",
      "model_name": "LabelModel",
      "state": {
       "layout": "IPY_MODEL_2854681473474fb9a69c726a8b7e23e1",
       "style": "IPY_MODEL_991f6e2d33f7433ebd13863ef9bbd3d1",
       "value": "Grenade:"
      }
     },
     "3187e1671383496ca2f026bf495592a3": {
      "model_module": "@jupyter-widgets/controls",
      "model_module_version": "1.5.0",
      "model_name": "LabelModel",
      "state": {
       "layout": "IPY_MODEL_3352d11b467d4e95a08e9871c6a0ffe1",
       "style": "IPY_MODEL_a60f7a5c6310451eae3be37baa0934b9",
       "value": "Weapon Requirements:"
      }
     },
     "31a4735ef07249998c7da60aa0910237": {
      "model_module": "@jupyter-widgets/controls",
      "model_module_version": "1.5.0",
      "model_name": "DescriptionStyleModel",
      "state": {
       "description_width": ""
      }
     },
     "32451bd7b6dc47e78d907dcc7f3c05c5": {
      "model_module": "@jupyter-widgets/controls",
      "model_module_version": "1.5.0",
      "model_name": "HBoxModel",
      "state": {
       "children": [
        "IPY_MODEL_16b392c3ab1c458e84d192f18c76f346",
        "IPY_MODEL_0b58f4089b7f46cc8ba114d83f15006a",
        "IPY_MODEL_d97dbbd05b3e4b158ef400d643a5bc86",
        "IPY_MODEL_4af9f60581a948dcb2d886c2f1e4606f",
        "IPY_MODEL_772501af8d104035a5973e3daae7ba71"
       ],
       "layout": "IPY_MODEL_552d259649a14c17b2324ebb20c63fe4"
      }
     },
     "32766e9fb0b040868104d4d229cb628e": {
      "model_module": "@jupyter-widgets/controls",
      "model_module_version": "1.5.0",
      "model_name": "DropdownModel",
      "state": {
       "_options_labels": [
        "Any",
        "Primary",
        "Secondary",
        "Heavy"
       ],
       "index": 0,
       "layout": "IPY_MODEL_28a4dff5d61e4497bc87fa083c188e0b",
       "style": "IPY_MODEL_10208baf3cc84ff0973aa3cf4bbad25b"
      }
     },
     "32bf31445f15466d953323aba06578ae": {
      "model_module": "@jupyter-widgets/base",
      "model_module_version": "1.2.0",
      "model_name": "LayoutModel",
      "state": {}
     },
     "33246558759c44d589ea9e1762391ad8": {
      "model_module": "@jupyter-widgets/controls",
      "model_module_version": "1.5.0",
      "model_name": "DropdownModel",
      "state": {
       "_options_labels": [
        "Multiple Options",
        "Grenade Launcher",
        "Machine Gun",
        "Sword",
        "Grenade Launcher",
        "Rocket Launcher",
        "Linear Fusion Rifle"
       ],
       "index": 0,
       "layout": "IPY_MODEL_28a4dff5d61e4497bc87fa083c188e0b",
       "style": "IPY_MODEL_ca2f072755264b11b76e944dcb3d43d8"
      }
     },
     "3352d11b467d4e95a08e9871c6a0ffe1": {
      "model_module": "@jupyter-widgets/base",
      "model_module_version": "1.2.0",
      "model_name": "LayoutModel",
      "state": {
       "width": "10%"
      }
     },
     "335f62d768744c69a6efc53a6f6d5e0a": {
      "model_module": "@jupyter-widgets/controls",
      "model_module_version": "1.5.0",
      "model_name": "DescriptionStyleModel",
      "state": {
       "description_width": ""
      }
     },
     "33680d2d88a54621a23a4f02ef970fa3": {
      "model_module": "@jupyter-widgets/controls",
      "model_module_version": "1.5.0",
      "model_name": "DescriptionStyleModel",
      "state": {
       "description_width": ""
      }
     },
     "336cc450d3e54549ad93842357a4eed9": {
      "model_module": "@jupyter-widgets/controls",
      "model_module_version": "1.5.0",
      "model_name": "DescriptionStyleModel",
      "state": {
       "description_width": ""
      }
     },
     "33d0a70ced8a49dab3a2c3cdcd60049b": {
      "model_module": "@jupyter-widgets/base",
      "model_module_version": "1.2.0",
      "model_name": "LayoutModel",
      "state": {
       "width": "10%"
      }
     },
     "33e1c84197924cb6b63d76653e634481": {
      "model_module": "@jupyter-widgets/controls",
      "model_module_version": "1.5.0",
      "model_name": "LabelModel",
      "state": {
       "layout": "IPY_MODEL_519c11c29a824439b66984a1915a1bc5",
       "style": "IPY_MODEL_6ef0ff37d908426bb0b5daf6e5898909",
       "value": "Tree:"
      }
     },
     "33fd9dd17a8446c6b53a3b2a57c2d717": {
      "model_module": "@jupyter-widgets/controls",
      "model_module_version": "1.5.0",
      "model_name": "DropdownModel",
      "state": {
       "_options_labels": [
        "Any",
        "Titan",
        "Hunter",
        "Warlock"
       ],
       "index": 0,
       "layout": "IPY_MODEL_6af5da9fc9d24e36b9ec1b19ebb2b540",
       "style": "IPY_MODEL_d347e751711c44bda4b7c07d511666c0"
      }
     },
     "342b0a7d57af447db31b914c93f7bc87": {
      "model_module": "@jupyter-widgets/base",
      "model_module_version": "1.2.0",
      "model_name": "LayoutModel",
      "state": {}
     },
     "3486ef1f3c97424eb74752b02bfadd98": {
      "model_module": "@jupyter-widgets/controls",
      "model_module_version": "1.5.0",
      "model_name": "HBoxModel",
      "state": {
       "children": [
        "IPY_MODEL_921d0c10a24c41169f324c3b9174c020",
        "IPY_MODEL_d0baea47b5f84c3490f89d76e9abd252",
        "IPY_MODEL_73ecb4855f7e4448afe26b4105ef1fb0",
        "IPY_MODEL_3d087c03900740098b1d1e7eb8f96aa0",
        "IPY_MODEL_67184ce466e9445e8c68e3439aef6efe"
       ],
       "layout": "IPY_MODEL_bea7c055991d49fcac5867195eb42b49"
      }
     },
     "34a3444652b54e51aec9c0241ae8e008": {
      "model_module": "@jupyter-widgets/controls",
      "model_module_version": "1.5.0",
      "model_name": "DropdownModel",
      "state": {
       "_options_labels": [
        "Multiple Options",
        "Secondary",
        "Heavy"
       ],
       "index": 2,
       "layout": "IPY_MODEL_28a4dff5d61e4497bc87fa083c188e0b",
       "style": "IPY_MODEL_78ec51ebb920419085e6d2514cc41b44"
      }
     },
     "34e726fcf41043a9ba4376357e28e67d": {
      "model_module": "@jupyter-widgets/base",
      "model_module_version": "1.2.0",
      "model_name": "LayoutModel",
      "state": {}
     },
     "355dc406911b4642ab92c75b5921ed95": {
      "model_module": "@jupyter-widgets/controls",
      "model_module_version": "1.5.0",
      "model_name": "DescriptionStyleModel",
      "state": {
       "description_width": ""
      }
     },
     "3587edd7e09343518a14bbfe93b6d969": {
      "model_module": "@jupyter-widgets/base",
      "model_module_version": "1.2.0",
      "model_name": "LayoutModel",
      "state": {}
     },
     "359c8c455d2b4e71b659a2dbd3e43cde": {
      "model_module": "@jupyter-widgets/controls",
      "model_module_version": "1.5.0",
      "model_name": "DescriptionStyleModel",
      "state": {
       "description_width": ""
      }
     },
     "35d1c503196641758816b4d2c50ff500": {
      "model_module": "@jupyter-widgets/base",
      "model_module_version": "1.2.0",
      "model_name": "LayoutModel",
      "state": {}
     },
     "35d4020df741432b915780ff87743414": {
      "model_module": "@jupyter-widgets/controls",
      "model_module_version": "1.5.0",
      "model_name": "DescriptionStyleModel",
      "state": {
       "description_width": ""
      }
     },
     "35f938a35a49450e89fd6915f6bd7a9b": {
      "model_module": "@jupyter-widgets/controls",
      "model_module_version": "1.5.0",
      "model_name": "DropdownModel",
      "state": {
       "_options_labels": [
        "Any",
        "Hand Cannon",
        "Auto Rifle",
        "Scout Rifle",
        "Pulse Rifle",
        "Sidearm",
        "Submachine Gun",
        "Combt Bow",
        "Sniper Rifle",
        "Shotgun",
        "Fusion Rifle",
        "Grenade Launcher",
        "Machine Gun",
        "Sword",
        "Grenade Launcher",
        "Rocket Launcher",
        "Linear Fusion Rifle"
       ],
       "index": 1,
       "layout": "IPY_MODEL_28a4dff5d61e4497bc87fa083c188e0b",
       "style": "IPY_MODEL_f9146f284a4a407c9389800ec52835d2"
      }
     },
     "371046bfd31743cf85f7becd0f8ec3b5": {
      "model_module": "@jupyter-widgets/controls",
      "model_module_version": "1.5.0",
      "model_name": "DescriptionStyleModel",
      "state": {
       "description_width": ""
      }
     },
     "3843e178018d45b0ac3d4288e5478f2b": {
      "model_module": "@jupyter-widgets/controls",
      "model_module_version": "1.5.0",
      "model_name": "DescriptionStyleModel",
      "state": {
       "description_width": ""
      }
     },
     "38526610e0004da180c95eeeb0b1716c": {
      "model_module": "@jupyter-widgets/controls",
      "model_module_version": "1.5.0",
      "model_name": "DescriptionStyleModel",
      "state": {
       "description_width": ""
      }
     },
     "3879be7b74a744e5b70960a5a2153594": {
      "model_module": "@jupyter-widgets/base",
      "model_module_version": "1.2.0",
      "model_name": "LayoutModel",
      "state": {}
     },
     "38a9608459ed407aaee430acafd5c619": {
      "model_module": "@jupyter-widgets/base",
      "model_module_version": "1.2.0",
      "model_name": "LayoutModel",
      "state": {}
     },
     "395d9f863a774999ab10caaa0eecd19a": {
      "model_module": "@jupyter-widgets/base",
      "model_module_version": "1.2.0",
      "model_name": "LayoutModel",
      "state": {}
     },
     "3a58b31143a54074a6924ec91876d746": {
      "model_module": "@jupyter-widgets/controls",
      "model_module_version": "1.5.0",
      "model_name": "DescriptionStyleModel",
      "state": {
       "description_width": ""
      }
     },
     "3c5193d11fbb49e78ea8880404524a10": {
      "model_module": "@jupyter-widgets/controls",
      "model_module_version": "1.5.0",
      "model_name": "DropdownModel",
      "state": {
       "_options_labels": [
        "Any",
        "Hand Cannon",
        "Auto Rifle",
        "Scout Rifle",
        "Pulse Rifle",
        "Sidearm",
        "Submachine Gun",
        "Combt Bow",
        "Sniper Rifle",
        "Shotgun",
        "Fusion Rifle",
        "Grenade Launcher",
        "Machine Gun",
        "Sword",
        "Grenade Launcher",
        "Rocket Launcher",
        "Linear Fusion Rifle"
       ],
       "index": 0,
       "layout": "IPY_MODEL_0ef24ecb94d04c929a216bd2bd72a9ea",
       "style": "IPY_MODEL_af72fb7f86b44868a961dcb8f54dd94f"
      }
     },
     "3c9e9227a9d444358c9d9178a6f32966": {
      "model_module": "@jupyter-widgets/base",
      "model_module_version": "1.2.0",
      "model_name": "LayoutModel",
      "state": {}
     },
     "3cb8ed5c139c4eeb8299dedaf8f29924": {
      "model_module": "@jupyter-widgets/controls",
      "model_module_version": "1.5.0",
      "model_name": "DescriptionStyleModel",
      "state": {
       "description_width": ""
      }
     },
     "3cf50c8a91474ca0a3fe1ae3d191f4b7": {
      "model_module": "@jupyter-widgets/controls",
      "model_module_version": "1.5.0",
      "model_name": "DescriptionStyleModel",
      "state": {
       "description_width": ""
      }
     },
     "3d087c03900740098b1d1e7eb8f96aa0": {
      "model_module": "@jupyter-widgets/controls",
      "model_module_version": "1.5.0",
      "model_name": "DropdownModel",
      "state": {
       "_options_labels": [
        "Any",
        "Hand Cannon",
        "Auto Rifle",
        "Scout Rifle",
        "Pulse Rifle",
        "Sidearm",
        "Submachine Gun",
        "Combt Bow"
       ],
       "index": 0,
       "layout": "IPY_MODEL_28a4dff5d61e4497bc87fa083c188e0b",
       "style": "IPY_MODEL_7bcaf02510cf4053b13f35e0dcf86372"
      }
     },
     "3da0d9e0ddb64625bd3f59a4b780f8ed": {
      "model_module": "@jupyter-widgets/controls",
      "model_module_version": "1.5.0",
      "model_name": "DescriptionStyleModel",
      "state": {
       "description_width": ""
      }
     },
     "3e107d2631774dc39333ab6bb562ee65": {
      "model_module": "@jupyter-widgets/controls",
      "model_module_version": "1.5.0",
      "model_name": "DescriptionStyleModel",
      "state": {
       "description_width": ""
      }
     },
     "3e329b3bebb74c76bf8bfc6ee54f6da6": {
      "model_module": "@jupyter-widgets/controls",
      "model_module_version": "1.5.0",
      "model_name": "DropdownModel",
      "state": {
       "_options_labels": [
        "Any",
        "Hand Cannon",
        "Auto Rifle",
        "Scout Rifle",
        "Pulse Rifle",
        "Sidearm",
        "Submachine Gun",
        "Combt Bow",
        "Sniper Rifle",
        "Shotgun",
        "Fusion Rifle",
        "Grenade Launcher",
        "Machine Gun",
        "Sword",
        "Grenade Launcher",
        "Rocket Launcher",
        "Linear Fusion Rifle"
       ],
       "index": 0,
       "layout": "IPY_MODEL_28a4dff5d61e4497bc87fa083c188e0b",
       "style": "IPY_MODEL_26bc0f1bd61a4021982547aea9f239df"
      }
     },
     "3ea2477345e54ce1a78ff3f618a17a83": {
      "model_module": "@jupyter-widgets/controls",
      "model_module_version": "1.5.0",
      "model_name": "DropdownModel",
      "state": {
       "_options_labels": [
        "Any",
        "Kinetic",
        "Energy",
        "Power"
       ],
       "index": 0,
       "layout": "IPY_MODEL_28a4dff5d61e4497bc87fa083c188e0b",
       "style": "IPY_MODEL_a3b47ccb969c4111833328dd34fa326b"
      }
     },
     "3ed8d764223248f8835dc0b18ea4861c": {
      "model_module": "@jupyter-widgets/controls",
      "model_module_version": "1.5.0",
      "model_name": "DropdownModel",
      "state": {
       "_options_labels": [
        "Any",
        "Kinetic",
        "Solar",
        "Void",
        "Arc"
       ],
       "index": 0,
       "layout": "IPY_MODEL_28a4dff5d61e4497bc87fa083c188e0b",
       "style": "IPY_MODEL_bea381b85ece4580b75f524c390c496d"
      }
     },
     "3efbbf812575437c8b9355832b02d496": {
      "model_module": "@jupyter-widgets/base",
      "model_module_version": "1.2.0",
      "model_name": "LayoutModel",
      "state": {}
     },
     "3f52c957a78141d3a71fb41c2ab87e17": {
      "model_module": "@jupyter-widgets/controls",
      "model_module_version": "1.5.0",
      "model_name": "DescriptionStyleModel",
      "state": {
       "description_width": ""
      }
     },
     "3fbc2d2f8710405c8b34de8c397d171b": {
      "model_module": "@jupyter-widgets/controls",
      "model_module_version": "1.5.0",
      "model_name": "VBoxModel",
      "state": {
       "children": [
        "IPY_MODEL_f492c6abd7314e1daccf82bb4ad10f69",
        "IPY_MODEL_867ab085435341c4b0b6190e7d1ea6f9",
        "IPY_MODEL_8e09b5381af2485498c15dee8ebe4834",
        "IPY_MODEL_a320d7fb069c4e35897d6efcbe613fe4",
        "IPY_MODEL_b9a2aef7cef8482592b9b1494cd2a4a0",
        "IPY_MODEL_b64552c20c474b99abcd5dd66a964836",
        "IPY_MODEL_e69c4d8cd87b479e94581062913cb82d",
        "IPY_MODEL_6b25649830b044d5910be5e07ee7a0e3",
        "IPY_MODEL_11c2ad9929fe42d3b2ff4aa3efa75603"
       ],
       "layout": "IPY_MODEL_c86597f9dc7d43a28461ab8525a58d86"
      }
     },
     "3fc265657d2744fdada8b6f9e4057601": {
      "model_module": "@jupyter-widgets/controls",
      "model_module_version": "1.5.0",
      "model_name": "DropdownModel",
      "state": {
       "_options_labels": [
        "Any",
        "Primary",
        "Secondary",
        "Heavy"
       ],
       "index": 0,
       "layout": "IPY_MODEL_877bc0c0584d410f900fe24ec6020b1b",
       "style": "IPY_MODEL_f208561748a4450d846e0cd9ad929f7f"
      }
     },
     "402210a9108d4b20965595aff87c2d4f": {
      "model_module": "@jupyter-widgets/controls",
      "model_module_version": "1.5.0",
      "model_name": "DescriptionStyleModel",
      "state": {
       "description_width": ""
      }
     },
     "41a9962b7e354eb7a40e8d733b42023b": {
      "model_module": "@jupyter-widgets/controls",
      "model_module_version": "1.5.0",
      "model_name": "DescriptionStyleModel",
      "state": {
       "description_width": ""
      }
     },
     "423300ace728481786049dbc7d328457": {
      "model_module": "@jupyter-widgets/controls",
      "model_module_version": "1.5.0",
      "model_name": "DropdownModel",
      "state": {
       "_options_labels": [
        "Any",
        "Kinetic",
        "Energy",
        "Power"
       ],
       "index": 0,
       "layout": "IPY_MODEL_877bc0c0584d410f900fe24ec6020b1b",
       "style": "IPY_MODEL_2e0228743b4e4378b38102a39af5e91d"
      }
     },
     "42acdcff43e442ab97527690c8dfce01": {
      "model_module": "@jupyter-widgets/controls",
      "model_module_version": "1.5.0",
      "model_name": "DropdownModel",
      "state": {
       "_options_labels": [
        "Any"
       ],
       "disabled": true,
       "index": 0,
       "layout": "IPY_MODEL_e57d19293bf3457aa964950341b5a8f3",
       "style": "IPY_MODEL_1c563d60cd0a4a93921e5b913a104dbc"
      }
     },
     "42c3d9a884794701b5e7809f05b10c13": {
      "model_module": "@jupyter-widgets/controls",
      "model_module_version": "1.5.0",
      "model_name": "DescriptionStyleModel",
      "state": {
       "description_width": ""
      }
     },
     "42f63d85c64342eb8080260f24c2acc9": {
      "model_module": "@jupyter-widgets/controls",
      "model_module_version": "1.5.0",
      "model_name": "DropdownModel",
      "state": {
       "_options_labels": [
        "Any"
       ],
       "disabled": true,
       "index": 0,
       "layout": "IPY_MODEL_81c2d810446c40f29501730a720196e8",
       "style": "IPY_MODEL_bb634fc18b494296b07a5de30b85b93e"
      }
     },
     "43366ce6463f49aea7c4312aa9442806": {
      "model_module": "@jupyter-widgets/controls",
      "model_module_version": "1.5.0",
      "model_name": "DropdownModel",
      "state": {
       "_options_labels": [
        "Any",
        "Titan",
        "Hunter",
        "Warlock"
       ],
       "index": 3,
       "layout": "IPY_MODEL_6af5da9fc9d24e36b9ec1b19ebb2b540",
       "style": "IPY_MODEL_493764b3ae0f49bf883bd9da69aa64a6"
      }
     },
     "43945d1a2eb24ee385800007b2dfbb92": {
      "model_module": "@jupyter-widgets/controls",
      "model_module_version": "1.5.0",
      "model_name": "DescriptionStyleModel",
      "state": {
       "description_width": ""
      }
     },
     "43d0bac5c99d4d95aaba873043fcc36a": {
      "model_module": "@jupyter-widgets/controls",
      "model_module_version": "1.5.0",
      "model_name": "VBoxModel",
      "state": {
       "children": [
        "IPY_MODEL_fc34c275e35b4f39bc761e0379003827",
        "IPY_MODEL_78b18f018f094042ac0de3670ac404df",
        "IPY_MODEL_23f04997c9dd48199ebd4dd00137ce85"
       ],
       "layout": "IPY_MODEL_d7aa009293b44d2fb078a5e9310a58a5"
      }
     },
     "441d3849a3db4775a731d2496012ddca": {
      "model_module": "@jupyter-widgets/controls",
      "model_module_version": "1.5.0",
      "model_name": "DescriptionStyleModel",
      "state": {
       "description_width": ""
      }
     },
     "44722db15c6348409f83b92870768bb7": {
      "model_module": "@jupyter-widgets/base",
      "model_module_version": "1.2.0",
      "model_name": "LayoutModel",
      "state": {}
     },
     "4510da90bf234af48b80660215b3b0bb": {
      "model_module": "@jupyter-widgets/controls",
      "model_module_version": "1.5.0",
      "model_name": "HTMLModel",
      "state": {
       "layout": "IPY_MODEL_34e726fcf41043a9ba4376357e28e67d",
       "style": "IPY_MODEL_1c0f3f78651548a1974ed7753e0bb198",
       "value": "<b>Activity Requirements:</b>"
      }
     },
     "4551e18da7f1433c8d9592055b33603f": {
      "model_module": "@jupyter-widgets/output",
      "model_module_version": "1.0.0",
      "model_name": "OutputModel",
      "state": {
       "layout": "IPY_MODEL_f691a6821def46a28d5750dedf8b0a7d",
       "outputs": [
        {
         "name": "stdout",
         "output_type": "stream",
         "text": "['Kinetic', 'Energy']\n[]\n"
        },
        {
         "ename": "IndexError",
         "evalue": "list index out of range",
         "output_type": "error",
         "traceback": [
          "\u001b[0;31m---------------------------------------------------------------------------\u001b[0m",
          "\u001b[0;31mIndexError\u001b[0m                                Traceback (most recent call last)",
          "\u001b[0;32m<ipython-input-38-958fbb96624e>\u001b[0m in \u001b[0;36mchange_weapon\u001b[0;34m(change)\u001b[0m\n\u001b[1;32m    209\u001b[0m \u001b[0;34m\u001b[0m\u001b[0m\n\u001b[1;32m    210\u001b[0m \u001b[0;32mdef\u001b[0m \u001b[0mchange_weapon\u001b[0m\u001b[0;34m(\u001b[0m\u001b[0mchange\u001b[0m\u001b[0;34m)\u001b[0m\u001b[0;34m:\u001b[0m\u001b[0;34m\u001b[0m\u001b[0;34m\u001b[0m\u001b[0m\n\u001b[0;32m--> 211\u001b[0;31m     \u001b[0;32mwith\u001b[0m \u001b[0moutput\u001b[0m\u001b[0;34m:\u001b[0m \u001b[0mprint\u001b[0m \u001b[0;34m(\u001b[0m\u001b[0mrefresh_weapon\u001b[0m\u001b[0;34m(\u001b[0m\u001b[0;34m)\u001b[0m\u001b[0;34m)\u001b[0m\u001b[0;34m\u001b[0m\u001b[0;34m\u001b[0m\u001b[0m\n\u001b[0m\u001b[1;32m    212\u001b[0m     \u001b[0mrefresh_weapon\u001b[0m\u001b[0;34m(\u001b[0m\u001b[0;34m)\u001b[0m\u001b[0;34m\u001b[0m\u001b[0;34m\u001b[0m\u001b[0m\n\u001b[1;32m    213\u001b[0m \u001b[0;34m\u001b[0m\u001b[0m\n",
          "\u001b[0;32m<ipython-input-38-958fbb96624e>\u001b[0m in \u001b[0;36mrefresh_weapon\u001b[0;34m()\u001b[0m\n\u001b[1;32m    177\u001b[0m         \u001b[0moptions_slot\u001b[0m\u001b[0;34m.\u001b[0m\u001b[0minsert\u001b[0m\u001b[0;34m(\u001b[0m\u001b[0;36m0\u001b[0m\u001b[0;34m,\u001b[0m\u001b[0;34m'Multiple Options'\u001b[0m\u001b[0;34m)\u001b[0m\u001b[0;34m\u001b[0m\u001b[0;34m\u001b[0m\u001b[0m\n\u001b[1;32m    178\u001b[0m     \u001b[0;32melse\u001b[0m\u001b[0;34m:\u001b[0m\u001b[0;34m\u001b[0m\u001b[0;34m\u001b[0m\u001b[0m\n\u001b[0;32m--> 179\u001b[0;31m         \u001b[0moptions_slot\u001b[0m\u001b[0;34m.\u001b[0m\u001b[0mappend\u001b[0m\u001b[0;34m(\u001b[0m\u001b[0;34mf'Not {options_slot[0]}'\u001b[0m\u001b[0;34m)\u001b[0m\u001b[0;34m\u001b[0m\u001b[0;34m\u001b[0m\u001b[0m\n\u001b[0m\u001b[1;32m    180\u001b[0m     \u001b[0mdropdown_weapon_slot\u001b[0m\u001b[0;34m.\u001b[0m\u001b[0moptions\u001b[0m \u001b[0;34m=\u001b[0m \u001b[0moptions_slot\u001b[0m\u001b[0;34m\u001b[0m\u001b[0;34m\u001b[0m\u001b[0m\n\u001b[1;32m    181\u001b[0m     \u001b[0;32mif\u001b[0m \u001b[0mslot\u001b[0m \u001b[0;32min\u001b[0m \u001b[0moptions_slot\u001b[0m\u001b[0;34m:\u001b[0m\u001b[0;34m\u001b[0m\u001b[0;34m\u001b[0m\u001b[0m\n",
          "\u001b[0;31mIndexError\u001b[0m: list index out of range"
         ]
        },
        {
         "name": "stdout",
         "output_type": "stream",
         "text": "None\n"
        }
       ]
      }
     },
     "458fc48e79a44c88ba787bd1328b618e": {
      "model_module": "@jupyter-widgets/base",
      "model_module_version": "1.2.0",
      "model_name": "LayoutModel",
      "state": {}
     },
     "45a5080848a14c59830c6ab848bd6ad6": {
      "model_module": "@jupyter-widgets/controls",
      "model_module_version": "1.5.0",
      "model_name": "DescriptionStyleModel",
      "state": {
       "description_width": ""
      }
     },
     "46a4d24849374f10a498dd6afd2a7911": {
      "model_module": "@jupyter-widgets/controls",
      "model_module_version": "1.5.0",
      "model_name": "DropdownModel",
      "state": {
       "_options_labels": [
        "Kinetic"
       ],
       "index": 0,
       "layout": "IPY_MODEL_28a4dff5d61e4497bc87fa083c188e0b",
       "style": "IPY_MODEL_f94e0e4b99b540e8b12491dff338d625"
      }
     },
     "46d90d6ae85b45b2bc1c2b2891d7233c": {
      "model_module": "@jupyter-widgets/controls",
      "model_module_version": "1.5.0",
      "model_name": "DescriptionStyleModel",
      "state": {
       "description_width": ""
      }
     },
     "473c4dd30e244526a3074f26fab530d8": {
      "model_module": "@jupyter-widgets/controls",
      "model_module_version": "1.5.0",
      "model_name": "HBoxModel",
      "state": {
       "children": [
        "IPY_MODEL_53ffbd473bd44e51ba69bac28ceb13c1",
        "IPY_MODEL_43366ce6463f49aea7c4312aa9442806",
        "IPY_MODEL_04bd2ba60c00421ea6db0bd34f17a7d3",
        "IPY_MODEL_8264177bf58340708d459bdb78d282ff",
        "IPY_MODEL_9fd6741440884f24aa4f6d604155bb27"
       ],
       "layout": "IPY_MODEL_d8f3b800cebb46c68f3aece99795e1a7"
      }
     },
     "4803b3bcda4b4ca49da3b5a0df8b4be1": {
      "model_module": "@jupyter-widgets/controls",
      "model_module_version": "1.5.0",
      "model_name": "DescriptionStyleModel",
      "state": {
       "description_width": ""
      }
     },
     "487451b7f32e4571abbc80348f1f4b26": {
      "model_module": "@jupyter-widgets/controls",
      "model_module_version": "1.5.0",
      "model_name": "DropdownModel",
      "state": {
       "_options_labels": [
        "Multiple Options",
        "Solar",
        "Void",
        "Arc"
       ],
       "index": 0,
       "layout": "IPY_MODEL_28a4dff5d61e4497bc87fa083c188e0b",
       "style": "IPY_MODEL_2cf3af123da04eadb562aa0647a79745"
      }
     },
     "48b3d4bb7aff4f0495dabc3653e4d398": {
      "model_module": "@jupyter-widgets/controls",
      "model_module_version": "1.5.0",
      "model_name": "LabelModel",
      "state": {
       "layout": "IPY_MODEL_3352d11b467d4e95a08e9871c6a0ffe1",
       "style": "IPY_MODEL_f49947599960422fb66ef1995ea61c1e",
       "value": "Weapon Requirements:"
      }
     },
     "48e9b27228534870a9bb024d31a23927": {
      "model_module": "@jupyter-widgets/controls",
      "model_module_version": "1.5.0",
      "model_name": "DropdownModel",
      "state": {
       "_options_labels": [
        "Any",
        "Hand Cannon",
        "Auto Rifle",
        "Scout Rifle",
        "Pulse Rifle",
        "Sidearm",
        "Submachine Gun",
        "Combt Bow",
        "Sniper Rifle",
        "Shotgun",
        "Fusion Rifle",
        "Grenade Launcher",
        "Machine Gun",
        "Sword",
        "Grenade Launcher",
        "Rocket Launcher",
        "Linear Fusion Rifle"
       ],
       "index": 0,
       "layout": "IPY_MODEL_28a4dff5d61e4497bc87fa083c188e0b",
       "style": "IPY_MODEL_ba7c0018c2e8483b97ac25561e74b7fb"
      }
     },
     "493764b3ae0f49bf883bd9da69aa64a6": {
      "model_module": "@jupyter-widgets/controls",
      "model_module_version": "1.5.0",
      "model_name": "DescriptionStyleModel",
      "state": {
       "description_width": ""
      }
     },
     "495d4c8599234030b9115587c035331c": {
      "model_module": "@jupyter-widgets/controls",
      "model_module_version": "1.5.0",
      "model_name": "HBoxModel",
      "state": {
       "children": [
        "IPY_MODEL_ae2e5254eb2e44658dc5ce62358f7a1c",
        "IPY_MODEL_3ea2477345e54ce1a78ff3f618a17a83",
        "IPY_MODEL_547bfbbf778b41c293b83b6b8f387c96",
        "IPY_MODEL_72b094f3f3914e6d97c3bad3c75ab6b4",
        "IPY_MODEL_a095d7f355e54b948b1f506039058b21"
       ],
       "layout": "IPY_MODEL_517ab6b4d6564aaaabc600ce2e954d82"
      }
     },
     "496d33a8e5f447a09786653232b2ad0d": {
      "model_module": "@jupyter-widgets/controls",
      "model_module_version": "1.5.0",
      "model_name": "VBoxModel",
      "state": {
       "children": [
        "IPY_MODEL_cb1104f1cafa4b5aa1483105f5b3506a",
        "IPY_MODEL_d5fe2780f0f543898ef6601f03710281",
        "IPY_MODEL_74d32ff04cfb477e8d5bce562ffd3019",
        "IPY_MODEL_d8b54c80b02146778708f65b939b7fc6",
        "IPY_MODEL_13073ce91e674a22a041331a0d56b792"
       ],
       "layout": "IPY_MODEL_d10beeba28d841958adc31db803f0428"
      }
     },
     "4a6b6afb8c01480a834b3f503a8776ae": {
      "model_module": "@jupyter-widgets/controls",
      "model_module_version": "1.5.0",
      "model_name": "DescriptionStyleModel",
      "state": {
       "description_width": ""
      }
     },
     "4a87781453ba435b9e6c976d9c759100": {
      "model_module": "@jupyter-widgets/controls",
      "model_module_version": "1.5.0",
      "model_name": "DropdownModel",
      "state": {
       "_options_labels": [
        "Multiple Options",
        "Hand Cannon",
        "Auto Rifle",
        "Scout Rifle",
        "Pulse Rifle",
        "Sidearm",
        "Submachine Gun",
        "Combt Bow",
        "Sniper Rifle",
        "Shotgun",
        "Fusion Rifle",
        "Grenade Launcher",
        "Machine Gun",
        "Sword",
        "Grenade Launcher",
        "Rocket Launcher",
        "Linear Fusion Rifle"
       ],
       "index": 0,
       "layout": "IPY_MODEL_28a4dff5d61e4497bc87fa083c188e0b",
       "style": "IPY_MODEL_402210a9108d4b20965595aff87c2d4f"
      }
     },
     "4a946bfd262440daa0684db9fb8d35bc": {
      "model_module": "@jupyter-widgets/controls",
      "model_module_version": "1.5.0",
      "model_name": "DescriptionStyleModel",
      "state": {
       "description_width": ""
      }
     },
     "4af9f60581a948dcb2d886c2f1e4606f": {
      "model_module": "@jupyter-widgets/controls",
      "model_module_version": "1.5.0",
      "model_name": "DropdownModel",
      "state": {
       "_options_labels": [
        "Multiple Options",
        "Hand Cannon",
        "Auto Rifle",
        "Scout Rifle",
        "Pulse Rifle",
        "Sidearm",
        "Submachine Gun",
        "Combt Bow",
        "Grenade Launcher"
       ],
       "index": 0,
       "layout": "IPY_MODEL_28a4dff5d61e4497bc87fa083c188e0b",
       "style": "IPY_MODEL_a1c6182e1ef4426090310867a759ea17"
      }
     },
     "4b0afc70c1314b0ca0a24628911438d5": {
      "model_module": "@jupyter-widgets/base",
      "model_module_version": "1.2.0",
      "model_name": "LayoutModel",
      "state": {}
     },
     "4b51477b59864cbcabf35140ee2db1be": {
      "model_module": "@jupyter-widgets/base",
      "model_module_version": "1.2.0",
      "model_name": "LayoutModel",
      "state": {}
     },
     "4c17c3ef87a74b7a96b0b84855bdd454": {
      "model_module": "@jupyter-widgets/controls",
      "model_module_version": "1.5.0",
      "model_name": "DropdownModel",
      "state": {
       "_options_labels": [
        "Any",
        "Kinetic",
        "Energy",
        "Power"
       ],
       "index": 0,
       "layout": "IPY_MODEL_28a4dff5d61e4497bc87fa083c188e0b",
       "style": "IPY_MODEL_929056775b474f0d95b92f117b28f564"
      }
     },
     "4c6586203a284362a5146dc095dfc51e": {
      "model_module": "@jupyter-widgets/base",
      "model_module_version": "1.2.0",
      "model_name": "LayoutModel",
      "state": {}
     },
     "4c8ee9b44869431898cc3037e508abc7": {
      "model_module": "@jupyter-widgets/controls",
      "model_module_version": "1.5.0",
      "model_name": "DropdownModel",
      "state": {
       "_options_labels": [
        "Any",
        "Patrol",
        "Gambit",
        "Reckoning",
        "Menagerie",
        "Vex Offensive",
        "Raid",
        "Strike",
        "Nightfall",
        "Crucible",
        "Forge"
       ],
       "index": 0,
       "layout": "IPY_MODEL_44722db15c6348409f83b92870768bb7",
       "style": "IPY_MODEL_23c34b9ce110421aa7b3db886d1a3562"
      }
     },
     "4d17bb52c1b94fd183ec902891a8368d": {
      "model_module": "@jupyter-widgets/controls",
      "model_module_version": "1.5.0",
      "model_name": "DescriptionStyleModel",
      "state": {
       "description_width": ""
      }
     },
     "4dc4fa447e524ce79dec0b3fb6e29026": {
      "model_module": "@jupyter-widgets/controls",
      "model_module_version": "1.5.0",
      "model_name": "DescriptionStyleModel",
      "state": {
       "description_width": ""
      }
     },
     "4e4388ef6a944429b5a2cc6ecefdad8e": {
      "model_module": "@jupyter-widgets/controls",
      "model_module_version": "1.5.0",
      "model_name": "DescriptionStyleModel",
      "state": {
       "description_width": ""
      }
     },
     "4ea3e43de8c94049926816b5313d4317": {
      "model_module": "@jupyter-widgets/controls",
      "model_module_version": "1.5.0",
      "model_name": "DescriptionStyleModel",
      "state": {
       "description_width": ""
      }
     },
     "4f180c8ff2984d74956386f1d133e832": {
      "model_module": "@jupyter-widgets/controls",
      "model_module_version": "1.5.0",
      "model_name": "DropdownModel",
      "state": {
       "_options_labels": [
        "Any"
       ],
       "disabled": true,
       "index": 0,
       "layout": "IPY_MODEL_d9016b72b00c40148d93feea7656e4ab",
       "style": "IPY_MODEL_146d59583a65477385f752b838d6af9f"
      }
     },
     "4f4d2cb928fd4c2d83782dc13ff688ae": {
      "model_module": "@jupyter-widgets/base",
      "model_module_version": "1.2.0",
      "model_name": "LayoutModel",
      "state": {}
     },
     "4ff157340c974be7abf2da8272c2e913": {
      "model_module": "@jupyter-widgets/base",
      "model_module_version": "1.2.0",
      "model_name": "LayoutModel",
      "state": {}
     },
     "5011c01b31b6489c82b370a65bab9a38": {
      "model_module": "@jupyter-widgets/controls",
      "model_module_version": "1.5.0",
      "model_name": "DropdownModel",
      "state": {
       "_options_labels": [
        "Hand Cannon",
        "Auto Rifle",
        "Scout Rifle",
        "Pulse Rifle",
        "Sidearm",
        "Submachine Gun",
        "Combt Bow"
       ],
       "index": 3,
       "layout": "IPY_MODEL_28a4dff5d61e4497bc87fa083c188e0b",
       "style": "IPY_MODEL_7553323d6a454393a6836642d9b7329d"
      }
     },
     "5083256893b14645b5ec06239c7ed218": {
      "model_module": "@jupyter-widgets/controls",
      "model_module_version": "1.5.0",
      "model_name": "DescriptionStyleModel",
      "state": {
       "description_width": ""
      }
     },
     "50b09555a7bf4ac6b28cb207bfc11a0d": {
      "model_module": "@jupyter-widgets/controls",
      "model_module_version": "1.5.0",
      "model_name": "DescriptionStyleModel",
      "state": {
       "description_width": ""
      }
     },
     "50ddfe776e6d4fc0acd0665af88c4762": {
      "model_module": "@jupyter-widgets/controls",
      "model_module_version": "1.5.0",
      "model_name": "DropdownModel",
      "state": {
       "_options_labels": [
        "Any",
        "Kinetic",
        "Solar",
        "Void",
        "Arc"
       ],
       "index": 0,
       "layout": "IPY_MODEL_28a4dff5d61e4497bc87fa083c188e0b",
       "style": "IPY_MODEL_e9ec3c7e6b2045a29f8315b21ac85c17"
      }
     },
     "517ab6b4d6564aaaabc600ce2e954d82": {
      "model_module": "@jupyter-widgets/base",
      "model_module_version": "1.2.0",
      "model_name": "LayoutModel",
      "state": {}
     },
     "519c11c29a824439b66984a1915a1bc5": {
      "model_module": "@jupyter-widgets/base",
      "model_module_version": "1.2.0",
      "model_name": "LayoutModel",
      "state": {}
     },
     "51cf448335044daaaada0582bc2964d0": {
      "model_module": "@jupyter-widgets/base",
      "model_module_version": "1.2.0",
      "model_name": "LayoutModel",
      "state": {}
     },
     "51d775375ec044458b2254f55f71356a": {
      "model_module": "@jupyter-widgets/controls",
      "model_module_version": "1.5.0",
      "model_name": "HTMLModel",
      "state": {
       "layout": "IPY_MODEL_1a3d44a59ee048f7851f96e94f7652a8",
       "style": "IPY_MODEL_9047f7d3ef194f868870859b62758e81",
       "value": "<font size=\"3\"><b>EDIT REQUIREMENTS</b></font size=>"
      }
     },
     "51d77c4ea21c427aae650c4cca1dfbe7": {
      "model_module": "@jupyter-widgets/controls",
      "model_module_version": "1.5.0",
      "model_name": "LabelModel",
      "state": {
       "layout": "IPY_MODEL_3352d11b467d4e95a08e9871c6a0ffe1",
       "style": "IPY_MODEL_f9ba1bfbd29448cdad819e8065cbc134",
       "value": "Weapon Requirements:"
      }
     },
     "51fb5811a41244f0b16c3f0ebe80fe7c": {
      "model_module": "@jupyter-widgets/controls",
      "model_module_version": "1.5.0",
      "model_name": "DropdownModel",
      "state": {
       "index": null,
       "layout": "IPY_MODEL_0ef24ecb94d04c929a216bd2bd72a9ea",
       "style": "IPY_MODEL_0daac255943e46e3b25b4e64a223e93c"
      }
     },
     "5209f079079d4644b53f4d21e14f0fe1": {
      "model_module": "@jupyter-widgets/controls",
      "model_module_version": "1.5.0",
      "model_name": "DescriptionStyleModel",
      "state": {
       "description_width": ""
      }
     },
     "5216cc07b0554361b77afa41cd501bbe": {
      "model_module": "@jupyter-widgets/controls",
      "model_module_version": "1.5.0",
      "model_name": "DescriptionStyleModel",
      "state": {
       "description_width": ""
      }
     },
     "521ddb96992846959348f28d29741629": {
      "model_module": "@jupyter-widgets/controls",
      "model_module_version": "1.5.0",
      "model_name": "DescriptionStyleModel",
      "state": {
       "description_width": ""
      }
     },
     "5224566f877e4fd8b8ed50760cd2c33b": {
      "model_module": "@jupyter-widgets/controls",
      "model_module_version": "1.5.0",
      "model_name": "LabelModel",
      "state": {
       "layout": "IPY_MODEL_85a559f31e2249608f5bce958e71cf98",
       "style": "IPY_MODEL_09194467ceb945de9178df4ef8f5fd20",
       "value": "Weapon Slot:"
      }
     },
     "52778015bf5f4ce7ba348a03cea0776b": {
      "model_module": "@jupyter-widgets/controls",
      "model_module_version": "1.5.0",
      "model_name": "DescriptionStyleModel",
      "state": {
       "description_width": ""
      }
     },
     "531d5c259c3c427e808eb67026f4e467": {
      "model_module": "@jupyter-widgets/controls",
      "model_module_version": "1.5.0",
      "model_name": "DropdownModel",
      "state": {
       "_options_labels": [
        "Any",
        "Hand Cannon",
        "Auto Rifle",
        "Scout Rifle",
        "Pulse Rifle",
        "Sidearm",
        "Submachine Gun",
        "Combt Bow",
        "Sniper Rifle",
        "Shotgun",
        "Fusion Rifle",
        "Grenade Launcher",
        "Machine Gun",
        "Sword",
        "Grenade Launcher",
        "Rocket Launcher",
        "Linear Fusion Rifle"
       ],
       "index": 0,
       "layout": "IPY_MODEL_28a4dff5d61e4497bc87fa083c188e0b",
       "style": "IPY_MODEL_4ea3e43de8c94049926816b5313d4317"
      }
     },
     "5328ddf67754460dad65d9ef63adeb45": {
      "model_module": "@jupyter-widgets/base",
      "model_module_version": "1.2.0",
      "model_name": "LayoutModel",
      "state": {}
     },
     "53a21110afa34136b4536ae9c9855447": {
      "model_module": "@jupyter-widgets/controls",
      "model_module_version": "1.5.0",
      "model_name": "DescriptionStyleModel",
      "state": {
       "description_width": ""
      }
     },
     "53ffbd473bd44e51ba69bac28ceb13c1": {
      "model_module": "@jupyter-widgets/controls",
      "model_module_version": "1.5.0",
      "model_name": "LabelModel",
      "state": {
       "layout": "IPY_MODEL_33d0a70ced8a49dab3a2c3cdcd60049b",
       "style": "IPY_MODEL_06724ac338c0461d92a6c1aca0dd7cd8",
       "value": "Class:"
      }
     },
     "547bfbbf778b41c293b83b6b8f387c96": {
      "model_module": "@jupyter-widgets/controls",
      "model_module_version": "1.5.0",
      "model_name": "DropdownModel",
      "state": {
       "_options_labels": [
        "Any",
        "Kinetic",
        "Solar",
        "Void",
        "Arc"
       ],
       "index": 0,
       "layout": "IPY_MODEL_28a4dff5d61e4497bc87fa083c188e0b",
       "style": "IPY_MODEL_e521a9e9adef4b719e7713aaf26e40ea"
      }
     },
     "548a628db921423292c23f9d244d13c4": {
      "model_module": "@jupyter-widgets/controls",
      "model_module_version": "1.5.0",
      "model_name": "HTMLModel",
      "state": {
       "layout": "IPY_MODEL_ea264350267a4f178891743532577896",
       "style": "IPY_MODEL_1b5e67100b7a4f5b864e85f08616c532",
       "value": "<font size=\"5\"><b>EDIT REQUIREMENTS</b></font size=>"
      }
     },
     "54959a4954ef4a13a1425439504eafbe": {
      "model_module": "@jupyter-widgets/controls",
      "model_module_version": "1.5.0",
      "model_name": "LabelModel",
      "state": {
       "layout": "IPY_MODEL_aaef7648b2a1450ca36b49d5706adc21",
       "style": "IPY_MODEL_7f39af72a0bd4323b2a1d8c01e8b39fd",
       "value": "Subclass:"
      }
     },
     "54a8fee19b3e4469b220b665385df346": {
      "model_module": "@jupyter-widgets/base",
      "model_module_version": "1.2.0",
      "model_name": "LayoutModel",
      "state": {}
     },
     "54c3cd86c3cf468dba81bb0c04dd48b7": {
      "model_module": "@jupyter-widgets/controls",
      "model_module_version": "1.5.0",
      "model_name": "VBoxModel",
      "state": {
       "children": [
        "IPY_MODEL_e0857c3d1a27420dad1f5ded0f57b72c",
        "IPY_MODEL_2ce3481ab83b40a3a41c76182fd97526",
        "IPY_MODEL_2e89d26537554e1090802a7a612bbac7",
        "IPY_MODEL_7b6226b489934e569f8113fb23d3aa13",
        "IPY_MODEL_2bad1b3edc834fe7a5ddbb6254dc6ca4",
        "IPY_MODEL_a935b6f5471c47859f2890e3c02b729d",
        "IPY_MODEL_6773bf81b84e41fe97037d9d6b1a442d",
        "IPY_MODEL_31864880200a453eaeba436b6639c36a",
        "IPY_MODEL_8b3e07cb823145eaa9ff5b7d03654368"
       ],
       "layout": "IPY_MODEL_2b00de5de98445358811a71a7ab0917c"
      }
     },
     "54fe06fac7b743a6b1899d9dcea060d6": {
      "model_module": "@jupyter-widgets/controls",
      "model_module_version": "1.5.0",
      "model_name": "DropdownModel",
      "state": {
       "_options_labels": [
        "Any",
        "Kinetic",
        "Solar",
        "Void",
        "Arc"
       ],
       "index": 0,
       "layout": "IPY_MODEL_877bc0c0584d410f900fe24ec6020b1b",
       "style": "IPY_MODEL_6be2f1e3bdf647609a3632a2711bd66b"
      }
     },
     "552d259649a14c17b2324ebb20c63fe4": {
      "model_module": "@jupyter-widgets/base",
      "model_module_version": "1.2.0",
      "model_name": "LayoutModel",
      "state": {}
     },
     "553ffcc599354db49ee243be98489875": {
      "model_module": "@jupyter-widgets/controls",
      "model_module_version": "1.5.0",
      "model_name": "DescriptionStyleModel",
      "state": {
       "description_width": ""
      }
     },
     "556ec03538c64d20bc2f7389ee939cca": {
      "model_module": "@jupyter-widgets/controls",
      "model_module_version": "1.5.0",
      "model_name": "DropdownModel",
      "state": {
       "_options_labels": [
        "Multiple Options",
        "Kinetic",
        "Energy",
        "Power"
       ],
       "index": 0,
       "layout": "IPY_MODEL_28a4dff5d61e4497bc87fa083c188e0b",
       "style": "IPY_MODEL_355dc406911b4642ab92c75b5921ed95"
      }
     },
     "557d49cf342043baa262b434eaf7aad6": {
      "model_module": "@jupyter-widgets/controls",
      "model_module_version": "1.5.0",
      "model_name": "DropdownModel",
      "state": {
       "_options_labels": [
        "Kinetic"
       ],
       "index": 0,
       "layout": "IPY_MODEL_28a4dff5d61e4497bc87fa083c188e0b",
       "style": "IPY_MODEL_f5dc2101049b45f2ac245e732f33f27e"
      }
     },
     "55828a5ca09c47fab4742251a0a79aff": {
      "model_module": "@jupyter-widgets/base",
      "model_module_version": "1.2.0",
      "model_name": "LayoutModel",
      "state": {}
     },
     "55c1580e780b4f088cada1babc77fa21": {
      "model_module": "@jupyter-widgets/controls",
      "model_module_version": "1.5.0",
      "model_name": "VBoxModel",
      "state": {
       "children": [
        "IPY_MODEL_0a25699b113341dca6307f6ef015613a",
        "IPY_MODEL_06232975b8174ae1804539df467a1829",
        "IPY_MODEL_84000f30a3c047bdbd59396213682bdf",
        "IPY_MODEL_170062a8139649418cfda1c7fafde4ee"
       ],
       "layout": "IPY_MODEL_a1fbab9861534f1fb52763fbc89ce774"
      }
     },
     "561da80bb6634a96a4646da24da97855": {
      "model_module": "@jupyter-widgets/base",
      "model_module_version": "1.2.0",
      "model_name": "LayoutModel",
      "state": {}
     },
     "56559f9843be4dcbb98ccbb7ad4ea935": {
      "model_module": "@jupyter-widgets/controls",
      "model_module_version": "1.5.0",
      "model_name": "DropdownModel",
      "state": {
       "_options_labels": [
        "Any"
       ],
       "disabled": true,
       "index": 0,
       "layout": "IPY_MODEL_c062d1789ccc466698756fe1b317c92b",
       "style": "IPY_MODEL_aaafd6746d9246dab794cf88ac70febc"
      }
     },
     "5688e82bd7ed4380ad54af287a8e265c": {
      "model_module": "@jupyter-widgets/base",
      "model_module_version": "1.2.0",
      "model_name": "LayoutModel",
      "state": {}
     },
     "5698edd861b844c192dfdde4962981cb": {
      "model_module": "@jupyter-widgets/controls",
      "model_module_version": "1.5.0",
      "model_name": "VBoxModel",
      "state": {
       "children": [
        "IPY_MODEL_09d40912363545b69e725f450ab2f955",
        "IPY_MODEL_10e15eb63e2946b5bb837a14e06e3c53",
        "IPY_MODEL_a0361a3e49d3464188e07bf7cd697c25"
       ],
       "layout": "IPY_MODEL_d69fd90d33964d0caa87e2338c580573"
      }
     },
     "56c56ff04c2748d0ab367e30dc72de9d": {
      "model_module": "@jupyter-widgets/controls",
      "model_module_version": "1.5.0",
      "model_name": "DropdownModel",
      "state": {
       "_options_labels": [
        "Any"
       ],
       "disabled": true,
       "index": 0,
       "layout": "IPY_MODEL_dccecf8f954c45acac813ae3493d0732",
       "style": "IPY_MODEL_41a9962b7e354eb7a40e8d733b42023b"
      }
     },
     "5735ce4014a34e4899b28e7e61024d8a": {
      "model_module": "@jupyter-widgets/controls",
      "model_module_version": "1.5.0",
      "model_name": "DropdownModel",
      "state": {
       "_options_labels": [
        "Any",
        "Kinetic",
        "Energy",
        "Power"
       ],
       "index": 0,
       "layout": "IPY_MODEL_0ef24ecb94d04c929a216bd2bd72a9ea",
       "style": "IPY_MODEL_666b2851a555464d94662002cbf42eea"
      }
     },
     "5738c32f7c6a47b3847f477a4a29e71e": {
      "model_module": "@jupyter-widgets/base",
      "model_module_version": "1.2.0",
      "model_name": "LayoutModel",
      "state": {}
     },
     "577d0953f16d4134ad413c39dd3318b4": {
      "model_module": "@jupyter-widgets/controls",
      "model_module_version": "1.5.0",
      "model_name": "DescriptionStyleModel",
      "state": {
       "description_width": ""
      }
     },
     "57f87ba6b7024ee09876ec8099749316": {
      "model_module": "@jupyter-widgets/base",
      "model_module_version": "1.2.0",
      "model_name": "LayoutModel",
      "state": {}
     },
     "5818968aeea24c1eac63c1ac300da267": {
      "model_module": "@jupyter-widgets/controls",
      "model_module_version": "1.5.0",
      "model_name": "HTMLModel",
      "state": {
       "layout": "IPY_MODEL_7e7c13dcb1a14ef8bc89d440aad001ca",
       "style": "IPY_MODEL_6990ab5855bb467ab119eec40c11f61e",
       "value": "<font size=\"2\"><b>EDIT REQUIREMENTS</b></font size=>"
      }
     },
     "5835e7c241ab40b8a5f534e14c80d394": {
      "model_module": "@jupyter-widgets/controls",
      "model_module_version": "1.5.0",
      "model_name": "HBoxModel",
      "state": {
       "children": [
        "IPY_MODEL_774779a0aa8b4c8b9564fb55c3d96b97",
        "IPY_MODEL_f217c59a01c5434bb40f27c7945e0a27",
        "IPY_MODEL_d81a59fb42754ba6baf33f7155e7975a",
        "IPY_MODEL_35f938a35a49450e89fd6915f6bd7a9b",
        "IPY_MODEL_293ba6c1abe44d6bb5344191e6555c6f"
       ],
       "layout": "IPY_MODEL_5328ddf67754460dad65d9ef63adeb45"
      }
     },
     "585c687d4dd5499cb25e5f82e3c02b04": {
      "model_module": "@jupyter-widgets/controls",
      "model_module_version": "1.5.0",
      "model_name": "DescriptionStyleModel",
      "state": {
       "description_width": ""
      }
     },
     "585f8fcd7e2f421f8244f032addb4031": {
      "model_module": "@jupyter-widgets/controls",
      "model_module_version": "1.5.0",
      "model_name": "DescriptionStyleModel",
      "state": {
       "description_width": ""
      }
     },
     "58c283730f664662a5c7240937e80706": {
      "model_module": "@jupyter-widgets/controls",
      "model_module_version": "1.5.0",
      "model_name": "DescriptionStyleModel",
      "state": {
       "description_width": ""
      }
     },
     "592be5e5ebd045448738adc9108ad1c3": {
      "model_module": "@jupyter-widgets/controls",
      "model_module_version": "1.5.0",
      "model_name": "DescriptionStyleModel",
      "state": {
       "description_width": ""
      }
     },
     "595322f9edfd4feb81b293634d3e6023": {
      "model_module": "@jupyter-widgets/controls",
      "model_module_version": "1.5.0",
      "model_name": "DescriptionStyleModel",
      "state": {
       "description_width": ""
      }
     },
     "596fb552f40244c8a8519b9d0979c59e": {
      "model_module": "@jupyter-widgets/controls",
      "model_module_version": "1.5.0",
      "model_name": "HTMLModel",
      "state": {
       "layout": "IPY_MODEL_f9c1cf40afa043e2b966637ed493bcc9",
       "style": "IPY_MODEL_2866b362b06548ed8310956836739850",
       "value": "<b>Activity Requirements:</b>"
      }
     },
     "59ca34079df64253ae87282b50563d21": {
      "model_module": "@jupyter-widgets/controls",
      "model_module_version": "1.5.0",
      "model_name": "DropdownModel",
      "state": {
       "_options_labels": [
        "Any",
        "Hand Cannon",
        "Auto Rifle",
        "Scout Rifle",
        "Pulse Rifle",
        "Sidearm",
        "Submachine Gun",
        "Combt Bow",
        "Sniper Rifle",
        "Shotgun",
        "Fusion Rifle",
        "Grenade Launcher",
        "Machine Gun",
        "Sword",
        "Grenade Launcher",
        "Rocket Launcher",
        "Linear Fusion Rifle"
       ],
       "index": 0,
       "layout": "IPY_MODEL_28a4dff5d61e4497bc87fa083c188e0b",
       "style": "IPY_MODEL_66e6ddd499c845a396f663999f4fbc44"
      }
     },
     "5abbd4d23e5e4bcfbb107b12fc4ceef6": {
      "model_module": "@jupyter-widgets/controls",
      "model_module_version": "1.5.0",
      "model_name": "DescriptionStyleModel",
      "state": {
       "description_width": ""
      }
     },
     "5bcefc344af048b0ad44b5e959be9992": {
      "model_module": "@jupyter-widgets/controls",
      "model_module_version": "1.5.0",
      "model_name": "DescriptionStyleModel",
      "state": {
       "description_width": ""
      }
     },
     "5be8bbacc8b54576b12e8d9a95316386": {
      "model_module": "@jupyter-widgets/controls",
      "model_module_version": "1.5.0",
      "model_name": "DescriptionStyleModel",
      "state": {
       "description_width": ""
      }
     },
     "5ca4bb65cbd94bddadfd037de079d414": {
      "model_module": "@jupyter-widgets/controls",
      "model_module_version": "1.5.0",
      "model_name": "DescriptionStyleModel",
      "state": {
       "description_width": ""
      }
     },
     "5d3fdb29993a4b1683cc91ef3fee66ab": {
      "model_module": "@jupyter-widgets/controls",
      "model_module_version": "1.5.0",
      "model_name": "DropdownModel",
      "state": {
       "_options_labels": [
        "Any",
        "Primary",
        "Secondary",
        "Heavy"
       ],
       "index": 3,
       "layout": "IPY_MODEL_28a4dff5d61e4497bc87fa083c188e0b",
       "style": "IPY_MODEL_eb6ffa7566b149fb813da65099fbafa8"
      }
     },
     "5da8bb887d954183aa3f0b5b7efeccda": {
      "model_module": "@jupyter-widgets/base",
      "model_module_version": "1.2.0",
      "model_name": "LayoutModel",
      "state": {}
     },
     "5db5270c8583492994d1f4662c672c01": {
      "model_module": "@jupyter-widgets/controls",
      "model_module_version": "1.5.0",
      "model_name": "DropdownModel",
      "state": {
       "_options_labels": [
        "Any",
        "Kinetic",
        "Solar",
        "Void",
        "Arc"
       ],
       "index": 0,
       "layout": "IPY_MODEL_28a4dff5d61e4497bc87fa083c188e0b",
       "style": "IPY_MODEL_2c3d25b2966e46919fb18da035215806"
      }
     },
     "5e1191510f1b4e258c39696af901f964": {
      "model_module": "@jupyter-widgets/base",
      "model_module_version": "1.2.0",
      "model_name": "LayoutModel",
      "state": {}
     },
     "5e16047cd2ee4838a2a557e44e8c4ddd": {
      "model_module": "@jupyter-widgets/controls",
      "model_module_version": "1.5.0",
      "model_name": "DescriptionStyleModel",
      "state": {
       "description_width": ""
      }
     },
     "5e1d9fec632348388a1d5f00a22b22b3": {
      "model_module": "@jupyter-widgets/base",
      "model_module_version": "1.2.0",
      "model_name": "LayoutModel",
      "state": {}
     },
     "5e3b0b1c0fa24f369c36de6699f5fc29": {
      "model_module": "@jupyter-widgets/controls",
      "model_module_version": "1.5.0",
      "model_name": "DescriptionStyleModel",
      "state": {
       "description_width": ""
      }
     },
     "5e463a4b887e460eb68df2421a844208": {
      "model_module": "@jupyter-widgets/controls",
      "model_module_version": "1.5.0",
      "model_name": "DropdownModel",
      "state": {
       "_options_labels": [
        "Any",
        "Patrol",
        "Gambit",
        "Reckoning",
        "Menagerie",
        "Vex Offensive",
        "Raid",
        "Strike",
        "Nightfall",
        "Crucible",
        "Forge"
       ],
       "index": 0,
       "layout": "IPY_MODEL_f76f61116b5d47679588db096fed81a5",
       "style": "IPY_MODEL_642732e19f4a483daf9f8c1e4176ef10"
      }
     },
     "5ea11654e524482686ec8377f050b94e": {
      "model_module": "@jupyter-widgets/controls",
      "model_module_version": "1.5.0",
      "model_name": "HBoxModel",
      "state": {
       "children": [
        "IPY_MODEL_596fb552f40244c8a8519b9d0979c59e",
        "IPY_MODEL_c005775b7d974ae3bbe9473c0a5ba776",
        "IPY_MODEL_186d7445fb5f4da8ba9aa86273f717c6"
       ],
       "layout": "IPY_MODEL_3587edd7e09343518a14bbfe93b6d969"
      }
     },
     "5ebec9a47d734995bf948c6a9cde4975": {
      "model_module": "@jupyter-widgets/controls",
      "model_module_version": "1.5.0",
      "model_name": "DescriptionStyleModel",
      "state": {
       "description_width": ""
      }
     },
     "5f75a1997cb44fddacc2b6cbbd4f6f60": {
      "model_module": "@jupyter-widgets/controls",
      "model_module_version": "1.5.0",
      "model_name": "DropdownModel",
      "state": {
       "_options_labels": [
        "Any",
        "Patrol",
        "Gambit",
        "Reckoning",
        "Menagerie",
        "Vex Offensive",
        "Raid",
        "Strike",
        "Nightfall",
        "Crucible",
        "Forge"
       ],
       "index": 4,
       "layout": "IPY_MODEL_28a4dff5d61e4497bc87fa083c188e0b",
       "style": "IPY_MODEL_89c6327653ef42c0b322c9032eff0148"
      }
     },
     "60368b099cde4982aa7d30cabca42ec9": {
      "model_module": "@jupyter-widgets/controls",
      "model_module_version": "1.5.0",
      "model_name": "LabelModel",
      "state": {
       "layout": "IPY_MODEL_3352d11b467d4e95a08e9871c6a0ffe1",
       "style": "IPY_MODEL_714a1445b33f429ba7d76b02df940a0f",
       "value": "Weapon Requirements:"
      }
     },
     "60e3f9346b004186936c5d8f71d811de": {
      "model_module": "@jupyter-widgets/controls",
      "model_module_version": "1.5.0",
      "model_name": "DescriptionStyleModel",
      "state": {
       "description_width": ""
      }
     },
     "61ab865c30694760895c05fb19f6a498": {
      "model_module": "@jupyter-widgets/controls",
      "model_module_version": "1.5.0",
      "model_name": "DropdownModel",
      "state": {
       "_options_labels": [
        "Any"
       ],
       "disabled": true,
       "index": 0,
       "layout": "IPY_MODEL_0ef24ecb94d04c929a216bd2bd72a9ea",
       "style": "IPY_MODEL_6f4031bd06c74e9db6157a154104427e"
      }
     },
     "63801f594e104f92b3278100209f5c60": {
      "model_module": "@jupyter-widgets/controls",
      "model_module_version": "1.5.0",
      "model_name": "HTMLModel",
      "state": {
       "layout": "IPY_MODEL_3efbbf812575437c8b9355832b02d496",
       "style": "IPY_MODEL_777f23302d7b41d89d631ec37d73f33b",
       "value": "<font size=\"3\"><b>EDIT REQUIREMENTS</b></font size=>"
      }
     },
     "6386be598d0f4120835bd62d9f1b27bc": {
      "model_module": "@jupyter-widgets/controls",
      "model_module_version": "1.5.0",
      "model_name": "LabelModel",
      "state": {
       "layout": "IPY_MODEL_3352d11b467d4e95a08e9871c6a0ffe1",
       "style": "IPY_MODEL_5ca4bb65cbd94bddadfd037de079d414",
       "value": "Weapon Requirements:"
      }
     },
     "63ba24223df941e8a05386d07cbf4561": {
      "model_module": "@jupyter-widgets/controls",
      "model_module_version": "1.5.0",
      "model_name": "DropdownModel",
      "state": {
       "_options_labels": [
        "Any",
        "Primary",
        "Secondary",
        "Heavy"
       ],
       "index": 0,
       "layout": "IPY_MODEL_0ef24ecb94d04c929a216bd2bd72a9ea",
       "style": "IPY_MODEL_a79a2ebffc154c65afe1d6804600f19a"
      }
     },
     "63ea273714ef4ff1b679a29a49af62ff": {
      "model_module": "@jupyter-widgets/controls",
      "model_module_version": "1.5.0",
      "model_name": "DescriptionStyleModel",
      "state": {
       "description_width": ""
      }
     },
     "642732e19f4a483daf9f8c1e4176ef10": {
      "model_module": "@jupyter-widgets/controls",
      "model_module_version": "1.5.0",
      "model_name": "DescriptionStyleModel",
      "state": {
       "description_width": ""
      }
     },
     "64c1faadc13b40a9b9a8843dd2ab502a": {
      "model_module": "@jupyter-widgets/base",
      "model_module_version": "1.2.0",
      "model_name": "LayoutModel",
      "state": {}
     },
     "650992c4c8904cb4939f83c8372b8c84": {
      "model_module": "@jupyter-widgets/controls",
      "model_module_version": "1.5.0",
      "model_name": "DescriptionStyleModel",
      "state": {
       "description_width": ""
      }
     },
     "65a8eeb1847e4083bdef6d4029e0d60b": {
      "model_module": "@jupyter-widgets/controls",
      "model_module_version": "1.5.0",
      "model_name": "DescriptionStyleModel",
      "state": {
       "description_width": ""
      }
     },
     "65dead7ef159422b9c74c2183983438f": {
      "model_module": "@jupyter-widgets/controls",
      "model_module_version": "1.5.0",
      "model_name": "DescriptionStyleModel",
      "state": {
       "description_width": ""
      }
     },
     "65dee85b5c064d60a84f5c0b8cb659ae": {
      "model_module": "@jupyter-widgets/controls",
      "model_module_version": "1.5.0",
      "model_name": "DropdownModel",
      "state": {
       "_options_labels": [
        "Any",
        "Hand Cannon",
        "Auto Rifle",
        "Scout Rifle",
        "Pulse Rifle",
        "Sidearm",
        "Submachine Gun",
        "Combt Bow",
        "Sniper Rifle",
        "Shotgun",
        "Fusion Rifle",
        "Grenade Launcher",
        "Machine Gun",
        "Sword",
        "Grenade Launcher",
        "Rocket Launcher",
        "Linear Fusion Rifle"
       ],
       "index": 0,
       "layout": "IPY_MODEL_28a4dff5d61e4497bc87fa083c188e0b",
       "style": "IPY_MODEL_78748384fdc440678922b70ee6c718e5"
      }
     },
     "666b2851a555464d94662002cbf42eea": {
      "model_module": "@jupyter-widgets/controls",
      "model_module_version": "1.5.0",
      "model_name": "DescriptionStyleModel",
      "state": {
       "description_width": ""
      }
     },
     "66b2da90212742f4b0422627b067d40d": {
      "model_module": "@jupyter-widgets/base",
      "model_module_version": "1.2.0",
      "model_name": "LayoutModel",
      "state": {}
     },
     "66e6ddd499c845a396f663999f4fbc44": {
      "model_module": "@jupyter-widgets/controls",
      "model_module_version": "1.5.0",
      "model_name": "DescriptionStyleModel",
      "state": {
       "description_width": ""
      }
     },
     "67184ce466e9445e8c68e3439aef6efe": {
      "model_module": "@jupyter-widgets/controls",
      "model_module_version": "1.5.0",
      "model_name": "DropdownModel",
      "state": {
       "_options_labels": [
        "Any",
        "Primary",
        "Secondary",
        "Heavy"
       ],
       "index": 1,
       "layout": "IPY_MODEL_28a4dff5d61e4497bc87fa083c188e0b",
       "style": "IPY_MODEL_e30f58b241664da3a0f579ef2ca1a60e"
      }
     },
     "6754a0e8eaa34c17bdf0b54630acc488": {
      "model_module": "@jupyter-widgets/controls",
      "model_module_version": "1.5.0",
      "model_name": "HBoxModel",
      "state": {
       "children": [
        "IPY_MODEL_b65d95f1226042e5a8727dbea88ff1ae",
        "IPY_MODEL_dc0af42deac1401a8ee76876f391cace",
        "IPY_MODEL_7f802fc550e14cd99303b04739412ee5",
        "IPY_MODEL_5011c01b31b6489c82b370a65bab9a38",
        "IPY_MODEL_83e061d2dc514a2ab4a1910cd86107ad"
       ],
       "layout": "IPY_MODEL_ca3e68620629475084107967cce357fa"
      }
     },
     "6765456fcd144382879bec810f7fab08": {
      "model_module": "@jupyter-widgets/controls",
      "model_module_version": "1.5.0",
      "model_name": "DescriptionStyleModel",
      "state": {
       "description_width": ""
      }
     },
     "6773bf81b84e41fe97037d9d6b1a442d": {
      "model_module": "@jupyter-widgets/controls",
      "model_module_version": "1.5.0",
      "model_name": "DropdownModel",
      "state": {
       "_options_labels": [
        "Any"
       ],
       "disabled": true,
       "index": 0,
       "layout": "IPY_MODEL_5738c32f7c6a47b3847f477a4a29e71e",
       "style": "IPY_MODEL_94bd0a8830c1498d801873071d2f08c8"
      }
     },
     "695e2179a4ba4996b0dea3333fa2429a": {
      "model_module": "@jupyter-widgets/base",
      "model_module_version": "1.2.0",
      "model_name": "LayoutModel",
      "state": {}
     },
     "6990ab5855bb467ab119eec40c11f61e": {
      "model_module": "@jupyter-widgets/controls",
      "model_module_version": "1.5.0",
      "model_name": "DescriptionStyleModel",
      "state": {
       "description_width": ""
      }
     },
     "6a9a48d0b2ea4206bdbbc58d45714172": {
      "model_module": "@jupyter-widgets/controls",
      "model_module_version": "1.5.0",
      "model_name": "DescriptionStyleModel",
      "state": {
       "description_width": ""
      }
     },
     "6aa893fb1c5c47628dda3d20a00ea2ef": {
      "model_module": "@jupyter-widgets/controls",
      "model_module_version": "1.5.0",
      "model_name": "DescriptionStyleModel",
      "state": {
       "description_width": ""
      }
     },
     "6ab7308e85de41a3ad53d7522b97bfcc": {
      "model_module": "@jupyter-widgets/controls",
      "model_module_version": "1.5.0",
      "model_name": "DescriptionStyleModel",
      "state": {
       "description_width": ""
      }
     },
     "6af5da9fc9d24e36b9ec1b19ebb2b540": {
      "model_module": "@jupyter-widgets/base",
      "model_module_version": "1.2.0",
      "model_name": "LayoutModel",
      "state": {
       "width": "20%"
      }
     },
     "6afa4729c813418e8c1cdd3bb230e649": {
      "model_module": "@jupyter-widgets/controls",
      "model_module_version": "1.5.0",
      "model_name": "DescriptionStyleModel",
      "state": {
       "description_width": ""
      }
     },
     "6b25649830b044d5910be5e07ee7a0e3": {
      "model_module": "@jupyter-widgets/controls",
      "model_module_version": "1.5.0",
      "model_name": "LabelModel",
      "state": {
       "layout": "IPY_MODEL_f01a522a35bd4f41af3638f39390a531",
       "style": "IPY_MODEL_65dead7ef159422b9c74c2183983438f",
       "value": "Grenade:"
      }
     },
     "6b630ac7bb37414d9dd3a5e8df0bdc8e": {
      "model_module": "@jupyter-widgets/controls",
      "model_module_version": "1.5.0",
      "model_name": "DescriptionStyleModel",
      "state": {
       "description_width": ""
      }
     },
     "6b7563c150234ca29dd1b80fdc1c7e0f": {
      "model_module": "@jupyter-widgets/controls",
      "model_module_version": "1.5.0",
      "model_name": "DescriptionStyleModel",
      "state": {
       "description_width": ""
      }
     },
     "6be2f1e3bdf647609a3632a2711bd66b": {
      "model_module": "@jupyter-widgets/controls",
      "model_module_version": "1.5.0",
      "model_name": "DescriptionStyleModel",
      "state": {
       "description_width": ""
      }
     },
     "6c22a7ae63124933b003c1cc540097e5": {
      "model_module": "@jupyter-widgets/controls",
      "model_module_version": "1.5.0",
      "model_name": "DescriptionStyleModel",
      "state": {
       "description_width": ""
      }
     },
     "6d25d768de094f858dbdaa52de8c3cfa": {
      "model_module": "@jupyter-widgets/controls",
      "model_module_version": "1.5.0",
      "model_name": "DescriptionStyleModel",
      "state": {
       "description_width": ""
      }
     },
     "6e8a374dc1704975a04135430e5eb0e0": {
      "model_module": "@jupyter-widgets/controls",
      "model_module_version": "1.5.0",
      "model_name": "LabelModel",
      "state": {
       "layout": "IPY_MODEL_1c296fa1ef0e488ca8bc67bac48c5ffe",
       "style": "IPY_MODEL_9f45dd8541174201bc0026cc0bcf3616",
       "value": "Weapon:"
      }
     },
     "6ea6883e74864973914b5036a796a440": {
      "model_module": "@jupyter-widgets/output",
      "model_module_version": "1.0.0",
      "model_name": "OutputModel",
      "state": {
       "layout": "IPY_MODEL_4b0afc70c1314b0ca0a24628911438d5",
       "outputs": [
        {
         "name": "stdout",
         "output_type": "stream",
         "text": "None\n"
        },
        {
         "ename": "IndexError",
         "evalue": "list index out of range",
         "output_type": "error",
         "traceback": [
          "\u001b[0;31m---------------------------------------------------------------------------\u001b[0m",
          "\u001b[0;31mIndexError\u001b[0m                                Traceback (most recent call last)",
          "\u001b[0;32m<ipython-input-34-f46d26ee12c1>\u001b[0m in \u001b[0;36mchange_weapon\u001b[0;34m(change)\u001b[0m\n\u001b[1;32m    209\u001b[0m \u001b[0;34m\u001b[0m\u001b[0m\n\u001b[1;32m    210\u001b[0m \u001b[0;32mdef\u001b[0m \u001b[0mchange_weapon\u001b[0m\u001b[0;34m(\u001b[0m\u001b[0mchange\u001b[0m\u001b[0;34m)\u001b[0m\u001b[0;34m:\u001b[0m\u001b[0;34m\u001b[0m\u001b[0;34m\u001b[0m\u001b[0m\n\u001b[0;32m--> 211\u001b[0;31m     \u001b[0;32mwith\u001b[0m \u001b[0moutput\u001b[0m\u001b[0;34m:\u001b[0m \u001b[0mprint\u001b[0m \u001b[0;34m(\u001b[0m\u001b[0mrefresh_weapon\u001b[0m\u001b[0;34m(\u001b[0m\u001b[0;34m)\u001b[0m\u001b[0;34m)\u001b[0m\u001b[0;34m\u001b[0m\u001b[0;34m\u001b[0m\u001b[0m\n\u001b[0m\u001b[1;32m    212\u001b[0m     \u001b[0mrefresh_weapon\u001b[0m\u001b[0;34m(\u001b[0m\u001b[0;34m)\u001b[0m\u001b[0;34m\u001b[0m\u001b[0;34m\u001b[0m\u001b[0m\n\u001b[1;32m    213\u001b[0m \u001b[0;34m\u001b[0m\u001b[0m\n",
          "\u001b[0;32m<ipython-input-34-f46d26ee12c1>\u001b[0m in \u001b[0;36mrefresh_weapon\u001b[0;34m()\u001b[0m\n\u001b[1;32m    177\u001b[0m         \u001b[0moptions_slot\u001b[0m\u001b[0;34m.\u001b[0m\u001b[0minsert\u001b[0m\u001b[0;34m(\u001b[0m\u001b[0;36m0\u001b[0m\u001b[0;34m,\u001b[0m\u001b[0;34m'Multiple Options'\u001b[0m\u001b[0;34m)\u001b[0m\u001b[0;34m\u001b[0m\u001b[0;34m\u001b[0m\u001b[0m\n\u001b[1;32m    178\u001b[0m     \u001b[0;32melse\u001b[0m\u001b[0;34m:\u001b[0m\u001b[0;34m\u001b[0m\u001b[0;34m\u001b[0m\u001b[0m\n\u001b[0;32m--> 179\u001b[0;31m         \u001b[0moptions_slot\u001b[0m\u001b[0;34m.\u001b[0m\u001b[0mappend\u001b[0m\u001b[0;34m(\u001b[0m\u001b[0;34mf'Not {options_slot[0]}'\u001b[0m\u001b[0;34m)\u001b[0m\u001b[0;34m\u001b[0m\u001b[0;34m\u001b[0m\u001b[0m\n\u001b[0m\u001b[1;32m    180\u001b[0m     \u001b[0mdropdown_weapon_slot\u001b[0m\u001b[0;34m.\u001b[0m\u001b[0moptions\u001b[0m \u001b[0;34m=\u001b[0m \u001b[0moptions_slot\u001b[0m\u001b[0;34m\u001b[0m\u001b[0;34m\u001b[0m\u001b[0m\n\u001b[1;32m    181\u001b[0m     \u001b[0;32mif\u001b[0m \u001b[0mslot\u001b[0m \u001b[0;32min\u001b[0m \u001b[0moptions_slot\u001b[0m\u001b[0;34m:\u001b[0m\u001b[0;34m\u001b[0m\u001b[0;34m\u001b[0m\u001b[0m\n",
          "\u001b[0;31mIndexError\u001b[0m: list index out of range"
         ]
        },
        {
         "name": "stdout",
         "output_type": "stream",
         "text": "None\n[]\n"
        },
        {
         "ename": "IndexError",
         "evalue": "list index out of range",
         "output_type": "error",
         "traceback": [
          "\u001b[0;31m---------------------------------------------------------------------------\u001b[0m",
          "\u001b[0;31mIndexError\u001b[0m                                Traceback (most recent call last)",
          "\u001b[0;32m<ipython-input-35-4fbc92c4a0d1>\u001b[0m in \u001b[0;36mchange_weapon\u001b[0;34m(change)\u001b[0m\n\u001b[1;32m    209\u001b[0m \u001b[0;34m\u001b[0m\u001b[0m\n\u001b[1;32m    210\u001b[0m \u001b[0;32mdef\u001b[0m \u001b[0mchange_weapon\u001b[0m\u001b[0;34m(\u001b[0m\u001b[0mchange\u001b[0m\u001b[0;34m)\u001b[0m\u001b[0;34m:\u001b[0m\u001b[0;34m\u001b[0m\u001b[0;34m\u001b[0m\u001b[0m\n\u001b[0;32m--> 211\u001b[0;31m     \u001b[0;32mwith\u001b[0m \u001b[0moutput\u001b[0m\u001b[0;34m:\u001b[0m \u001b[0mprint\u001b[0m \u001b[0;34m(\u001b[0m\u001b[0mrefresh_weapon\u001b[0m\u001b[0;34m(\u001b[0m\u001b[0;34m)\u001b[0m\u001b[0;34m)\u001b[0m\u001b[0;34m\u001b[0m\u001b[0;34m\u001b[0m\u001b[0m\n\u001b[0m\u001b[1;32m    212\u001b[0m     \u001b[0mrefresh_weapon\u001b[0m\u001b[0;34m(\u001b[0m\u001b[0;34m)\u001b[0m\u001b[0;34m\u001b[0m\u001b[0;34m\u001b[0m\u001b[0m\n\u001b[1;32m    213\u001b[0m \u001b[0;34m\u001b[0m\u001b[0m\n",
          "\u001b[0;32m<ipython-input-35-4fbc92c4a0d1>\u001b[0m in \u001b[0;36mrefresh_weapon\u001b[0;34m()\u001b[0m\n\u001b[1;32m    177\u001b[0m         \u001b[0moptions_slot\u001b[0m\u001b[0;34m.\u001b[0m\u001b[0minsert\u001b[0m\u001b[0;34m(\u001b[0m\u001b[0;36m0\u001b[0m\u001b[0;34m,\u001b[0m\u001b[0;34m'Multiple Options'\u001b[0m\u001b[0;34m)\u001b[0m\u001b[0;34m\u001b[0m\u001b[0;34m\u001b[0m\u001b[0m\n\u001b[1;32m    178\u001b[0m     \u001b[0;32melse\u001b[0m\u001b[0;34m:\u001b[0m\u001b[0;34m\u001b[0m\u001b[0;34m\u001b[0m\u001b[0m\n\u001b[0;32m--> 179\u001b[0;31m         \u001b[0moptions_slot\u001b[0m\u001b[0;34m.\u001b[0m\u001b[0mappend\u001b[0m\u001b[0;34m(\u001b[0m\u001b[0;34mf'Not {options_slot[0]}'\u001b[0m\u001b[0;34m)\u001b[0m\u001b[0;34m\u001b[0m\u001b[0;34m\u001b[0m\u001b[0m\n\u001b[0m\u001b[1;32m    180\u001b[0m     \u001b[0mdropdown_weapon_slot\u001b[0m\u001b[0;34m.\u001b[0m\u001b[0moptions\u001b[0m \u001b[0;34m=\u001b[0m \u001b[0moptions_slot\u001b[0m\u001b[0;34m\u001b[0m\u001b[0;34m\u001b[0m\u001b[0m\n\u001b[1;32m    181\u001b[0m     \u001b[0;32mif\u001b[0m \u001b[0mslot\u001b[0m \u001b[0;32min\u001b[0m \u001b[0moptions_slot\u001b[0m\u001b[0;34m:\u001b[0m\u001b[0;34m\u001b[0m\u001b[0;34m\u001b[0m\u001b[0m\n",
          "\u001b[0;31mIndexError\u001b[0m: list index out of range"
         ]
        }
       ]
      }
     },
     "6eb89cc66d744f23b9c1ab2338f960fb": {
      "model_module": "@jupyter-widgets/controls",
      "model_module_version": "1.5.0",
      "model_name": "LabelModel",
      "state": {
       "layout": "IPY_MODEL_ab14b1369fc748cc974d1868bc2639ee",
       "style": "IPY_MODEL_86138c433a1c4d2ab9cfe91efc39c994",
       "value": "Ammo:"
      }
     },
     "6ef0ff37d908426bb0b5daf6e5898909": {
      "model_module": "@jupyter-widgets/controls",
      "model_module_version": "1.5.0",
      "model_name": "DescriptionStyleModel",
      "state": {
       "description_width": ""
      }
     },
     "6f4031bd06c74e9db6157a154104427e": {
      "model_module": "@jupyter-widgets/controls",
      "model_module_version": "1.5.0",
      "model_name": "DescriptionStyleModel",
      "state": {
       "description_width": ""
      }
     },
     "6f648730d4fd47b0a4892fc8d3a1091b": {
      "model_module": "@jupyter-widgets/controls",
      "model_module_version": "1.5.0",
      "model_name": "DescriptionStyleModel",
      "state": {
       "description_width": ""
      }
     },
     "6fcec9870e844af8a09e4ce08f0c750f": {
      "model_module": "@jupyter-widgets/base",
      "model_module_version": "1.2.0",
      "model_name": "LayoutModel",
      "state": {}
     },
     "6fd6519ec1a246af9228eeaa81292bfa": {
      "model_module": "@jupyter-widgets/controls",
      "model_module_version": "1.5.0",
      "model_name": "DescriptionStyleModel",
      "state": {
       "description_width": ""
      }
     },
     "70045a8206344bd885d03738f991f79d": {
      "model_module": "@jupyter-widgets/controls",
      "model_module_version": "1.5.0",
      "model_name": "DescriptionStyleModel",
      "state": {
       "description_width": ""
      }
     },
     "70441646108a4cb08369b4e845b4d4a7": {
      "model_module": "@jupyter-widgets/controls",
      "model_module_version": "1.5.0",
      "model_name": "DropdownModel",
      "state": {
       "_options_labels": [
        "Any",
        "Kinetic",
        "Energy",
        "Power"
       ],
       "index": 1,
       "layout": "IPY_MODEL_28a4dff5d61e4497bc87fa083c188e0b",
       "style": "IPY_MODEL_84e7d1ec81e545a2bddda9606a4850ea"
      }
     },
     "714386dd640f4a4dad6f49069a86e49d": {
      "model_module": "@jupyter-widgets/controls",
      "model_module_version": "1.5.0",
      "model_name": "DescriptionStyleModel",
      "state": {
       "description_width": ""
      }
     },
     "714a1445b33f429ba7d76b02df940a0f": {
      "model_module": "@jupyter-widgets/controls",
      "model_module_version": "1.5.0",
      "model_name": "DescriptionStyleModel",
      "state": {
       "description_width": ""
      }
     },
     "7197a6e659894df98f6d2e460ad8ee6e": {
      "model_module": "@jupyter-widgets/controls",
      "model_module_version": "1.5.0",
      "model_name": "DescriptionStyleModel",
      "state": {
       "description_width": ""
      }
     },
     "71e4b170d6eb4a2fb13bdd53341e38d8": {
      "model_module": "@jupyter-widgets/controls",
      "model_module_version": "1.5.0",
      "model_name": "DropdownModel",
      "state": {
       "_options_labels": [
        "Hand Cannon",
        "Auto Rifle",
        "Scout Rifle",
        "Pulse Rifle",
        "Sidearm",
        "Submachine Gun",
        "Combt Bow"
       ],
       "index": 3,
       "layout": "IPY_MODEL_28a4dff5d61e4497bc87fa083c188e0b",
       "style": "IPY_MODEL_77f35e11ee0c4737924b5db4bf45a882"
      }
     },
     "721bd67800694335a26cb2d37260d520": {
      "model_module": "@jupyter-widgets/controls",
      "model_module_version": "1.5.0",
      "model_name": "HBoxModel",
      "state": {
       "children": [
        "IPY_MODEL_48b3d4bb7aff4f0495dabc3653e4d398",
        "IPY_MODEL_cd29a61222644c9f9b984c6a0d758ddf",
        "IPY_MODEL_3ed8d764223248f8835dc0b18ea4861c",
        "IPY_MODEL_3e329b3bebb74c76bf8bfc6ee54f6da6",
        "IPY_MODEL_5d3fdb29993a4b1683cc91ef3fee66ab"
       ],
       "layout": "IPY_MODEL_f629ddfe701041c8b34502bae0e7c79d"
      }
     },
     "7252f872bc794c068a0929f9d25e364d": {
      "model_module": "@jupyter-widgets/base",
      "model_module_version": "1.2.0",
      "model_name": "LayoutModel",
      "state": {}
     },
     "727ff9d7c9b54da48f5376361774a086": {
      "model_module": "@jupyter-widgets/controls",
      "model_module_version": "1.5.0",
      "model_name": "DescriptionStyleModel",
      "state": {
       "description_width": ""
      }
     },
     "729a9e039a384a12ac5eab62f3b803cc": {
      "model_module": "@jupyter-widgets/controls",
      "model_module_version": "1.5.0",
      "model_name": "DescriptionStyleModel",
      "state": {
       "description_width": ""
      }
     },
     "72b094f3f3914e6d97c3bad3c75ab6b4": {
      "model_module": "@jupyter-widgets/controls",
      "model_module_version": "1.5.0",
      "model_name": "DropdownModel",
      "state": {
       "_options_labels": [
        "Any",
        "Hand Cannon",
        "Auto Rifle",
        "Scout Rifle",
        "Pulse Rifle",
        "Sidearm",
        "Submachine Gun",
        "Combt Bow",
        "Sniper Rifle",
        "Shotgun",
        "Fusion Rifle",
        "Grenade Launcher",
        "Machine Gun",
        "Sword",
        "Grenade Launcher",
        "Rocket Launcher",
        "Linear Fusion Rifle"
       ],
       "index": 0,
       "layout": "IPY_MODEL_28a4dff5d61e4497bc87fa083c188e0b",
       "style": "IPY_MODEL_6b630ac7bb37414d9dd3a5e8df0bdc8e"
      }
     },
     "72bfd8397edb406581c76d7b1cbbbb67": {
      "model_module": "@jupyter-widgets/controls",
      "model_module_version": "1.5.0",
      "model_name": "DescriptionStyleModel",
      "state": {
       "description_width": ""
      }
     },
     "72d292c60257430386411a269d2cfcf2": {
      "model_module": "@jupyter-widgets/controls",
      "model_module_version": "1.5.0",
      "model_name": "DropdownModel",
      "state": {
       "_options_labels": [
        "Any",
        "Kinetic",
        "Solar",
        "Void",
        "Arc"
       ],
       "index": 0,
       "layout": "IPY_MODEL_28a4dff5d61e4497bc87fa083c188e0b",
       "style": "IPY_MODEL_50b09555a7bf4ac6b28cb207bfc11a0d"
      }
     },
     "72f8f2849ac94473b5ab18205fe442ad": {
      "model_module": "@jupyter-widgets/controls",
      "model_module_version": "1.5.0",
      "model_name": "HBoxModel",
      "state": {
       "children": [
        "IPY_MODEL_14f1dc72732443fc86486e85d3442605",
        "IPY_MODEL_556ec03538c64d20bc2f7389ee939cca",
        "IPY_MODEL_f2edc8edb7564e23a16676cae2c1c83e",
        "IPY_MODEL_15220c0203b04633aa25be578397b725",
        "IPY_MODEL_a13bf3501bc64ba4a48f631d5a1ac453"
       ],
       "layout": "IPY_MODEL_1e8c2fa3af5a4e44bceb5e30eaaa1793"
      }
     },
     "7381cc80387a469b93bc96065a790ab5": {
      "model_module": "@jupyter-widgets/controls",
      "model_module_version": "1.5.0",
      "model_name": "DescriptionStyleModel",
      "state": {
       "description_width": ""
      }
     },
     "73979a2f2acf461cb41f80a7291480c5": {
      "model_module": "@jupyter-widgets/controls",
      "model_module_version": "1.5.0",
      "model_name": "DescriptionStyleModel",
      "state": {
       "description_width": ""
      }
     },
     "73ecb4855f7e4448afe26b4105ef1fb0": {
      "model_module": "@jupyter-widgets/controls",
      "model_module_version": "1.5.0",
      "model_name": "DropdownModel",
      "state": {
       "_options_labels": [
        "Any",
        "Kinetic",
        "Solar",
        "Void",
        "Arc"
       ],
       "index": 2,
       "layout": "IPY_MODEL_28a4dff5d61e4497bc87fa083c188e0b",
       "style": "IPY_MODEL_6ab7308e85de41a3ad53d7522b97bfcc"
      }
     },
     "7445feba65e643068238875ceadba54a": {
      "model_module": "@jupyter-widgets/controls",
      "model_module_version": "1.5.0",
      "model_name": "DropdownModel",
      "state": {
       "_options_labels": [
        "Kinetic"
       ],
       "index": 0,
       "layout": "IPY_MODEL_28a4dff5d61e4497bc87fa083c188e0b",
       "style": "IPY_MODEL_7197a6e659894df98f6d2e460ad8ee6e"
      }
     },
     "7446dec5aa7e48808266b8dfbf998df2": {
      "model_module": "@jupyter-widgets/controls",
      "model_module_version": "1.5.0",
      "model_name": "DescriptionStyleModel",
      "state": {
       "description_width": ""
      }
     },
     "749073aec8ad48b09a1487e54cf3ff9d": {
      "model_module": "@jupyter-widgets/output",
      "model_module_version": "1.0.0",
      "model_name": "OutputModel",
      "state": {
       "layout": "IPY_MODEL_8ab1e497c530419ab4e22a09885353f7",
       "outputs": [
        {
         "name": "stdout",
         "output_type": "stream",
         "text": "1 ['Kinetic', 'Energy', 'Power']\n2 ['Kinetic', 'Energy', 'Power']\n3 ['Kinetic', 'Energy', 'Power']\n4 ['Kinetic', 'Energy']\n5 []\n"
        },
        {
         "ename": "IndexError",
         "evalue": "list index out of range",
         "output_type": "error",
         "traceback": [
          "\u001b[0;31m---------------------------------------------------------------------------\u001b[0m",
          "\u001b[0;31mIndexError\u001b[0m                                Traceback (most recent call last)",
          "\u001b[0;32m<ipython-input-40-48611cf98b7e>\u001b[0m in \u001b[0;36mchange_weapon\u001b[0;34m(change)\u001b[0m\n\u001b[1;32m    209\u001b[0m \u001b[0;34m\u001b[0m\u001b[0m\n\u001b[1;32m    210\u001b[0m \u001b[0;32mdef\u001b[0m \u001b[0mchange_weapon\u001b[0m\u001b[0;34m(\u001b[0m\u001b[0mchange\u001b[0m\u001b[0;34m)\u001b[0m\u001b[0;34m:\u001b[0m\u001b[0;34m\u001b[0m\u001b[0;34m\u001b[0m\u001b[0m\n\u001b[0;32m--> 211\u001b[0;31m     \u001b[0;32mwith\u001b[0m \u001b[0moutput\u001b[0m\u001b[0;34m:\u001b[0m \u001b[0mprint\u001b[0m \u001b[0;34m(\u001b[0m\u001b[0mrefresh_weapon\u001b[0m\u001b[0;34m(\u001b[0m\u001b[0;34m)\u001b[0m\u001b[0;34m)\u001b[0m\u001b[0;34m\u001b[0m\u001b[0;34m\u001b[0m\u001b[0m\n\u001b[0m\u001b[1;32m    212\u001b[0m     \u001b[0mrefresh_weapon\u001b[0m\u001b[0;34m(\u001b[0m\u001b[0;34m)\u001b[0m\u001b[0;34m\u001b[0m\u001b[0;34m\u001b[0m\u001b[0m\n\u001b[1;32m    213\u001b[0m \u001b[0;34m\u001b[0m\u001b[0m\n",
          "\u001b[0;32m<ipython-input-40-48611cf98b7e>\u001b[0m in \u001b[0;36mrefresh_weapon\u001b[0;34m()\u001b[0m\n\u001b[1;32m    177\u001b[0m         \u001b[0moptions_slot\u001b[0m\u001b[0;34m.\u001b[0m\u001b[0minsert\u001b[0m\u001b[0;34m(\u001b[0m\u001b[0;36m0\u001b[0m\u001b[0;34m,\u001b[0m\u001b[0;34m'Multiple Options'\u001b[0m\u001b[0;34m)\u001b[0m\u001b[0;34m\u001b[0m\u001b[0;34m\u001b[0m\u001b[0m\n\u001b[1;32m    178\u001b[0m     \u001b[0;32melse\u001b[0m\u001b[0;34m:\u001b[0m\u001b[0;34m\u001b[0m\u001b[0;34m\u001b[0m\u001b[0m\n\u001b[0;32m--> 179\u001b[0;31m         \u001b[0moptions_slot\u001b[0m\u001b[0;34m.\u001b[0m\u001b[0mappend\u001b[0m\u001b[0;34m(\u001b[0m\u001b[0;34mf'Not {options_slot[0]}'\u001b[0m\u001b[0;34m)\u001b[0m\u001b[0;34m\u001b[0m\u001b[0;34m\u001b[0m\u001b[0m\n\u001b[0m\u001b[1;32m    180\u001b[0m     \u001b[0mdropdown_weapon_slot\u001b[0m\u001b[0;34m.\u001b[0m\u001b[0moptions\u001b[0m \u001b[0;34m=\u001b[0m \u001b[0moptions_slot\u001b[0m\u001b[0;34m\u001b[0m\u001b[0;34m\u001b[0m\u001b[0m\n\u001b[1;32m    181\u001b[0m     \u001b[0;32mif\u001b[0m \u001b[0mslot\u001b[0m \u001b[0;32min\u001b[0m \u001b[0moptions_slot\u001b[0m\u001b[0;34m:\u001b[0m\u001b[0;34m\u001b[0m\u001b[0;34m\u001b[0m\u001b[0m\n",
          "\u001b[0;31mIndexError\u001b[0m: list index out of range"
         ]
        },
        {
         "name": "stdout",
         "output_type": "stream",
         "text": "None\n"
        }
       ]
      }
     },
     "74be095b3f3c4362a74c489fa70a3c2b": {
      "model_module": "@jupyter-widgets/controls",
      "model_module_version": "1.5.0",
      "model_name": "DropdownModel",
      "state": {
       "_options_labels": [
        "Any",
        "Hand Cannon",
        "Auto Rifle",
        "Scout Rifle",
        "Pulse Rifle",
        "Sidearm",
        "Submachine Gun",
        "Combt Bow",
        "Sniper Rifle",
        "Shotgun",
        "Fusion Rifle",
        "Grenade Launcher",
        "Machine Gun",
        "Sword",
        "Grenade Launcher",
        "Rocket Launcher",
        "Linear Fusion Rifle"
       ],
       "index": 0,
       "layout": "IPY_MODEL_28a4dff5d61e4497bc87fa083c188e0b",
       "style": "IPY_MODEL_1c90652c31f44c06b97e6cdf470d14ff"
      }
     },
     "74be2fdc22cb4c7e9f045b024fb6a5e9": {
      "model_module": "@jupyter-widgets/controls",
      "model_module_version": "1.5.0",
      "model_name": "HTMLModel",
      "state": {
       "layout": "IPY_MODEL_1f7fb63588554e5ea2ae8c72b47ff6fd",
       "style": "IPY_MODEL_d714bece30c54ea4a5a0070531c301d0",
       "value": "Task"
      }
     },
     "74d32ff04cfb477e8d5bce562ffd3019": {
      "model_module": "@jupyter-widgets/controls",
      "model_module_version": "1.5.0",
      "model_name": "DropdownModel",
      "state": {
       "index": null,
       "layout": "IPY_MODEL_e2615555feb74c219b10a12188fe5d36",
       "style": "IPY_MODEL_5216cc07b0554361b77afa41cd501bbe"
      }
     },
     "7553323d6a454393a6836642d9b7329d": {
      "model_module": "@jupyter-widgets/controls",
      "model_module_version": "1.5.0",
      "model_name": "DescriptionStyleModel",
      "state": {
       "description_width": ""
      }
     },
     "757a8a36a7d74da18a7498bd3c69227c": {
      "model_module": "@jupyter-widgets/controls",
      "model_module_version": "1.5.0",
      "model_name": "DropdownModel",
      "state": {
       "_options_labels": [
        "Any",
        "Primary",
        "Secondary",
        "Heavy"
       ],
       "index": 2,
       "layout": "IPY_MODEL_28a4dff5d61e4497bc87fa083c188e0b",
       "style": "IPY_MODEL_592be5e5ebd045448738adc9108ad1c3"
      }
     },
     "7646405347e141ce932f8ac3e871e3c6": {
      "model_module": "@jupyter-widgets/controls",
      "model_module_version": "1.5.0",
      "model_name": "DescriptionStyleModel",
      "state": {
       "description_width": ""
      }
     },
     "76636d2c8549429cb26984d8180635c9": {
      "model_module": "@jupyter-widgets/controls",
      "model_module_version": "1.5.0",
      "model_name": "DropdownModel",
      "state": {
       "index": null,
       "layout": "IPY_MODEL_bf88a3ed616b4765b3bd886181d37921",
       "style": "IPY_MODEL_8d59795e31c24a46bb78bea73cf18027"
      }
     },
     "76ab74803ce14072b9eb7a265a9e4b9a": {
      "model_module": "@jupyter-widgets/controls",
      "model_module_version": "1.5.0",
      "model_name": "DescriptionStyleModel",
      "state": {
       "description_width": ""
      }
     },
     "770be7e30a534d98ba87edea7e5cd3c6": {
      "model_module": "@jupyter-widgets/controls",
      "model_module_version": "1.5.0",
      "model_name": "DropdownModel",
      "state": {
       "_options_labels": [
        "Any",
        "Kinetic",
        "Solar",
        "Void",
        "Arc"
       ],
       "index": 0,
       "layout": "IPY_MODEL_28a4dff5d61e4497bc87fa083c188e0b",
       "style": "IPY_MODEL_727ff9d7c9b54da48f5376361774a086"
      }
     },
     "772501af8d104035a5973e3daae7ba71": {
      "model_module": "@jupyter-widgets/controls",
      "model_module_version": "1.5.0",
      "model_name": "DropdownModel",
      "state": {
       "_options_labels": [
        "Primary",
        "Secondary",
        "Heavy"
       ],
       "index": 0,
       "layout": "IPY_MODEL_28a4dff5d61e4497bc87fa083c188e0b",
       "style": "IPY_MODEL_cc6f5c41fa5346fa871cac48734dd9c1"
      }
     },
     "774779a0aa8b4c8b9564fb55c3d96b97": {
      "model_module": "@jupyter-widgets/controls",
      "model_module_version": "1.5.0",
      "model_name": "LabelModel",
      "state": {
       "layout": "IPY_MODEL_3352d11b467d4e95a08e9871c6a0ffe1",
       "style": "IPY_MODEL_0dc2a8c6498b4a518c3e635ee2b17082",
       "value": "Weapon Requirements:"
      }
     },
     "777f23302d7b41d89d631ec37d73f33b": {
      "model_module": "@jupyter-widgets/controls",
      "model_module_version": "1.5.0",
      "model_name": "DescriptionStyleModel",
      "state": {
       "description_width": ""
      }
     },
     "77a404d88409483792545275f18e84f8": {
      "model_module": "@jupyter-widgets/controls",
      "model_module_version": "1.5.0",
      "model_name": "DescriptionStyleModel",
      "state": {
       "description_width": ""
      }
     },
     "77c2231b342a4330aad93d026bd9e45e": {
      "model_module": "@jupyter-widgets/base",
      "model_module_version": "1.2.0",
      "model_name": "LayoutModel",
      "state": {}
     },
     "77f35e11ee0c4737924b5db4bf45a882": {
      "model_module": "@jupyter-widgets/controls",
      "model_module_version": "1.5.0",
      "model_name": "DescriptionStyleModel",
      "state": {
       "description_width": ""
      }
     },
     "780d563036c0467596f6fe37641bf153": {
      "model_module": "@jupyter-widgets/controls",
      "model_module_version": "1.5.0",
      "model_name": "DescriptionStyleModel",
      "state": {
       "description_width": ""
      }
     },
     "781f90b97b4f479696b11d6850af1f36": {
      "model_module": "@jupyter-widgets/controls",
      "model_module_version": "1.5.0",
      "model_name": "DropdownModel",
      "state": {
       "_options_labels": [
        "Any",
        "Patrol",
        "Gambit",
        "Reckoning",
        "Menagerie",
        "Vex Offensive",
        "Raid",
        "Strike",
        "Nightfall",
        "Crucible",
        "Forge"
       ],
       "index": 0,
       "layout": "IPY_MODEL_d9016b72b00c40148d93feea7656e4ab",
       "style": "IPY_MODEL_c2ab71030d89422c83575c61ac0ed444"
      }
     },
     "782ae60d35364324bea412511167a0cf": {
      "model_module": "@jupyter-widgets/base",
      "model_module_version": "1.2.0",
      "model_name": "LayoutModel",
      "state": {}
     },
     "78748384fdc440678922b70ee6c718e5": {
      "model_module": "@jupyter-widgets/controls",
      "model_module_version": "1.5.0",
      "model_name": "DescriptionStyleModel",
      "state": {
       "description_width": ""
      }
     },
     "7889431a19674ca58c45b5810fd4cbf8": {
      "model_module": "@jupyter-widgets/controls",
      "model_module_version": "1.5.0",
      "model_name": "DropdownModel",
      "state": {
       "_options_labels": [
        "Multiple Options",
        "Kinetic",
        "Solar",
        "Void",
        "Arc"
       ],
       "index": 0,
       "layout": "IPY_MODEL_28a4dff5d61e4497bc87fa083c188e0b",
       "style": "IPY_MODEL_35d4020df741432b915780ff87743414"
      }
     },
     "7889b5b9529f420abfa0b8b903df6f2f": {
      "model_module": "@jupyter-widgets/controls",
      "model_module_version": "1.5.0",
      "model_name": "DropdownModel",
      "state": {
       "_options_labels": [
        "Any",
        "Titan",
        "Hunter",
        "Warlock"
       ],
       "index": 0,
       "layout": "IPY_MODEL_0ef24ecb94d04c929a216bd2bd72a9ea",
       "style": "IPY_MODEL_9f219ae247094932a7966f10719110d7"
      }
     },
     "78b18f018f094042ac0de3670ac404df": {
      "model_module": "@jupyter-widgets/controls",
      "model_module_version": "1.5.0",
      "model_name": "DropdownModel",
      "state": {
       "_options_labels": [
        "Any",
        "Patrol",
        "Gambit",
        "Reckoning",
        "Menagerie",
        "Vex Offensive",
        "Raid",
        "Strike",
        "Nightfall",
        "Crucible",
        "Forge"
       ],
       "index": 0,
       "layout": "IPY_MODEL_c46f37a2a6944c73a745bdab767646ce",
       "style": "IPY_MODEL_60e3f9346b004186936c5d8f71d811de"
      }
     },
     "78e35b8efb1047678978d09a992e2417": {
      "model_module": "@jupyter-widgets/output",
      "model_module_version": "1.0.0",
      "model_name": "OutputModel",
      "state": {
       "layout": "IPY_MODEL_38a9608459ed407aaee430acafd5c619",
       "outputs": [
        {
         "name": "stdout",
         "output_type": "stream",
         "text": "None\nNone\n"
        },
        {
         "ename": "AttributeError",
         "evalue": "'Dropdown' object has no attribute 'remove'",
         "output_type": "error",
         "traceback": [
          "\u001b[0;31m---------------------------------------------------------------------------\u001b[0m",
          "\u001b[0;31mAttributeError\u001b[0m                            Traceback (most recent call last)",
          "\u001b[0;32m<ipython-input-21-e93c218f16c7>\u001b[0m in \u001b[0;36mchange_weapon\u001b[0;34m(change)\u001b[0m\n\u001b[1;32m    175\u001b[0m \u001b[0;34m\u001b[0m\u001b[0m\n\u001b[1;32m    176\u001b[0m \u001b[0;32mdef\u001b[0m \u001b[0mchange_weapon\u001b[0m\u001b[0;34m(\u001b[0m\u001b[0mchange\u001b[0m\u001b[0;34m)\u001b[0m\u001b[0;34m:\u001b[0m\u001b[0;34m\u001b[0m\u001b[0;34m\u001b[0m\u001b[0m\n\u001b[0;32m--> 177\u001b[0;31m     \u001b[0;32mwith\u001b[0m \u001b[0moutput\u001b[0m\u001b[0;34m:\u001b[0m \u001b[0mprint\u001b[0m \u001b[0;34m(\u001b[0m\u001b[0mrefresh_weapon\u001b[0m\u001b[0;34m(\u001b[0m\u001b[0;34m)\u001b[0m\u001b[0;34m)\u001b[0m\u001b[0;34m\u001b[0m\u001b[0;34m\u001b[0m\u001b[0m\n\u001b[0m\u001b[1;32m    178\u001b[0m     \u001b[0mrefresh_weapon\u001b[0m\u001b[0;34m(\u001b[0m\u001b[0;34m)\u001b[0m\u001b[0;34m\u001b[0m\u001b[0;34m\u001b[0m\u001b[0m\n\u001b[1;32m    179\u001b[0m \u001b[0;34m\u001b[0m\u001b[0m\n",
          "\u001b[0;32m<ipython-input-21-e93c218f16c7>\u001b[0m in \u001b[0;36mrefresh_weapon\u001b[0;34m()\u001b[0m\n\u001b[1;32m    122\u001b[0m             \u001b[0moptions_ammo\u001b[0m\u001b[0;34m.\u001b[0m\u001b[0mremove\u001b[0m\u001b[0;34m(\u001b[0m\u001b[0;34m'Heavy'\u001b[0m\u001b[0;34m)\u001b[0m\u001b[0;34m\u001b[0m\u001b[0;34m\u001b[0m\u001b[0m\n\u001b[1;32m    123\u001b[0m         \u001b[0;32mif\u001b[0m \u001b[0;34m'Power'\u001b[0m \u001b[0;32min\u001b[0m \u001b[0moptions_slot\u001b[0m\u001b[0;34m:\u001b[0m\u001b[0;34m\u001b[0m\u001b[0;34m\u001b[0m\u001b[0m\n\u001b[0;32m--> 124\u001b[0;31m             \u001b[0mdropdown_weapon_slot\u001b[0m\u001b[0;34m.\u001b[0m\u001b[0mremove\u001b[0m\u001b[0;34m(\u001b[0m\u001b[0;34m'Power'\u001b[0m\u001b[0;34m)\u001b[0m\u001b[0;34m\u001b[0m\u001b[0;34m\u001b[0m\u001b[0m\n\u001b[0m\u001b[1;32m    125\u001b[0m     \u001b[0;32melif\u001b[0m \u001b[0mwtype\u001b[0m \u001b[0;32min\u001b[0m \u001b[0mpossible_requirements\u001b[0m\u001b[0;34m[\u001b[0m\u001b[0;34m'Weapon Ammo Type'\u001b[0m\u001b[0;34m]\u001b[0m\u001b[0;34m[\u001b[0m\u001b[0;34m'Secondary'\u001b[0m\u001b[0;34m]\u001b[0m\u001b[0;34m:\u001b[0m\u001b[0;34m\u001b[0m\u001b[0;34m\u001b[0m\u001b[0m\n\u001b[1;32m    126\u001b[0m         \u001b[0;32mif\u001b[0m \u001b[0;34m'Primary'\u001b[0m\u001b[0;32min\u001b[0m \u001b[0moptions_ammo\u001b[0m\u001b[0;34m:\u001b[0m\u001b[0;34m\u001b[0m\u001b[0;34m\u001b[0m\u001b[0m\n",
          "\u001b[0;31mAttributeError\u001b[0m: 'Dropdown' object has no attribute 'remove'"
         ]
        },
        {
         "name": "stdout",
         "output_type": "stream",
         "text": "None\nNone\n"
        }
       ]
      }
     },
     "78ec51ebb920419085e6d2514cc41b44": {
      "model_module": "@jupyter-widgets/controls",
      "model_module_version": "1.5.0",
      "model_name": "DescriptionStyleModel",
      "state": {
       "description_width": ""
      }
     },
     "78fcd30ba822404491cca269880bbb3b": {
      "model_module": "@jupyter-widgets/base",
      "model_module_version": "1.2.0",
      "model_name": "LayoutModel",
      "state": {}
     },
     "7958782e1c8a4b4098e87e07612b8677": {
      "model_module": "@jupyter-widgets/controls",
      "model_module_version": "1.5.0",
      "model_name": "LabelModel",
      "state": {
       "layout": "IPY_MODEL_8a037b0998dd4397b3df91c394527f74",
       "style": "IPY_MODEL_31a4735ef07249998c7da60aa0910237",
       "value": "Tree:"
      }
     },
     "7a498956300546828329dc1d46d98b55": {
      "model_module": "@jupyter-widgets/controls",
      "model_module_version": "1.5.0",
      "model_name": "DropdownModel",
      "state": {
       "index": null,
       "layout": "IPY_MODEL_17fd79d409ee44d4aa82e085bc38458d",
       "style": "IPY_MODEL_90305444d107416f95f6b37e829796a7"
      }
     },
     "7a4bc6cfcee247b190b7a36b80fa3a3a": {
      "model_module": "@jupyter-widgets/output",
      "model_module_version": "1.0.0",
      "model_name": "OutputModel",
      "state": {
       "layout": "IPY_MODEL_dff22f9e0cf44cdbbca30acbddc7724b",
       "outputs": [
        {
         "name": "stdout",
         "output_type": "stream",
         "text": "1 ['Kinetic', 'Energy', 'Power']\n2 ['Kinetic', 'Energy', 'Power']\n3 Any\n4 ['Kinetic', 'Energy', 'Power']\n5 ['Power']\nNone\n1 ['Kinetic', 'Energy', 'Power']\n2 ['Kinetic', 'Energy', 'Power']\n3 Multiple Options\n4 ['Kinetic', 'Energy', 'Power']\n5 ['Power']\n1 ['Kinetic', 'Energy', 'Power']\n2 ['Kinetic', 'Energy', 'Power']\n3 Multiple Options\n4 ['Kinetic', 'Energy', 'Power']\n5 ['Power']\nNone\n1 ['Kinetic', 'Energy', 'Power']\n2 ['Kinetic', 'Energy', 'Power']\n3 Multiple Options\n4 ['Kinetic', 'Energy', 'Power']\n5 ['Power']\nNone\n1 ['Kinetic', 'Energy', 'Power']\n2 ['Kinetic', 'Energy', 'Power']\n3 Any\n4 ['Kinetic', 'Energy', 'Power']\n5 ['Kinetic', 'Energy', 'Power']\nNone\n1 ['Kinetic', 'Energy', 'Power']\n2 ['Kinetic', 'Energy', 'Power']\n3 Multiple Options\n4 ['Kinetic']\n5 ['Kinetic']\n1 ['Kinetic', 'Energy', 'Power']\n2 ['Kinetic', 'Energy', 'Power']\n3 Any\n4 ['Kinetic', 'Energy', 'Power']\n5 ['Kinetic', 'Energy', 'Power']\nNone\n1 ['Kinetic', 'Energy', 'Power']\n2 ['Kinetic', 'Energy', 'Power']\n3 Multiple Options\n4 ['Kinetic', 'Energy', 'Power']\n5 ['Kinetic', 'Energy', 'Power']\n1 ['Kinetic', 'Energy', 'Power']\n2 ['Kinetic', 'Energy', 'Power']\n3 Multiple Options\n4 ['Kinetic', 'Energy', 'Power']\n5 ['Kinetic', 'Energy', 'Power']\nNone\n1 ['Kinetic', 'Energy', 'Power']\n2 ['Kinetic', 'Energy', 'Power']\n3 Multiple Options\n4 ['Kinetic']\n5 ['Kinetic']\n1 ['Kinetic', 'Energy', 'Power']\n2 ['Kinetic', 'Energy', 'Power']\n3 Pulse Rifle\n4 ['Kinetic']\n5 ['Kinetic']\nNone\n1 ['Kinetic', 'Energy', 'Power']\n2 ['Kinetic', 'Energy', 'Power']\n3 Pulse Rifle\n4 ['Kinetic']\n5 ['Kinetic']\n1 ['Kinetic', 'Energy', 'Power']\n2 ['Kinetic', 'Energy', 'Power']\n3 Any\n4 ['Kinetic', 'Energy', 'Power']\n5 ['Kinetic', 'Energy', 'Power']\nNone\n1 ['Kinetic', 'Energy', 'Power']\n2 ['Kinetic', 'Energy', 'Power']\n3 Multiple Options\n4 ['Kinetic', 'Energy', 'Power']\n5 ['Kinetic', 'Energy', 'Power']\n1 ['Kinetic', 'Energy', 'Power']\n2 ['Kinetic', 'Energy', 'Power']\n3 Multiple Options\n4 ['Energy', 'Power']\n5 ['Energy', 'Power']\nNone\n1 ['Kinetic', 'Energy', 'Power']\n2 ['Kinetic', 'Energy', 'Power']\n3 Multiple Options\n4 ['Energy', 'Power']\n5 ['Energy', 'Power']\n1 ['Kinetic', 'Energy', 'Power']\n2 ['Kinetic', 'Energy', 'Power']\n3 Multiple Options\n4 ['Energy', 'Power']\n5 ['Energy', 'Power']\nNone\n1 ['Kinetic', 'Energy', 'Power']\n2 ['Kinetic', 'Energy', 'Power']\n3 Multiple Options\n4 ['Energy', 'Power']\n5 ['Energy', 'Power']\n1 ['Kinetic', 'Energy', 'Power']\n2 ['Kinetic', 'Energy', 'Power']\n3 Submachine Gun\n4 ['Energy']\n5 ['Energy']\nNone\n1 ['Kinetic', 'Energy', 'Power']\n2 ['Kinetic', 'Energy', 'Power']\n3 Submachine Gun\n4 ['Energy']\n5 ['Energy']\n1 ['Kinetic', 'Energy', 'Power']\n2 ['Kinetic', 'Energy', 'Power']\n3 Any\n4 ['Kinetic', 'Energy', 'Power']\n5 ['Kinetic', 'Energy', 'Power']\nNone\n1 ['Kinetic', 'Energy', 'Power']\n2 ['Kinetic', 'Energy', 'Power']\n3 Multiple Options\n4 ['Kinetic', 'Energy', 'Power']\n5 ['Kinetic', 'Energy', 'Power']\n1 ['Kinetic', 'Energy', 'Power']\n2 ['Kinetic', 'Energy', 'Power']\n3 Multiple Options\n4 ['Kinetic', 'Energy', 'Power']\n5 ['Kinetic', 'Energy', 'Power']\nNone\n1 ['Kinetic', 'Energy', 'Power']\n2 ['Kinetic', 'Energy', 'Power']\n3 Multiple Options\n4 ['Kinetic', 'Energy', 'Power']\n5 ['Kinetic', 'Energy', 'Power']\n1 ['Kinetic', 'Energy', 'Power']\n2 ['Kinetic', 'Energy', 'Power']\n3 Multiple Options\n4 ['Energy', 'Power']\n5 ['Energy', 'Power']\nNone\n1 ['Kinetic', 'Energy', 'Power']\n2 ['Kinetic', 'Energy', 'Power']\n3 Multiple Options\n4 ['Energy', 'Power']\n5 ['Energy', 'Power']\n1 ['Kinetic', 'Energy', 'Power']\n2 ['Kinetic', 'Energy', 'Power']\n3 Scout Rifle\n4 ['Energy']\n5 ['Energy']\nNone\n1 ['Kinetic', 'Energy', 'Power']\n2 ['Kinetic', 'Energy', 'Power']\n3 Scout Rifle\n4 ['Energy']\n5 ['Energy']\n1 ['Kinetic', 'Energy', 'Power']\n2 ['Kinetic', 'Energy', 'Power']\n3 Grenade Launcher\n4 ['Energy']\n5 ['Energy']\nNone\n1 ['Kinetic', 'Energy', 'Power']\n2 ['Kinetic', 'Energy', 'Power']\n3 Grenade Launcher\n4 ['Energy']\n5 ['Energy']\n1 ['Kinetic', 'Energy', 'Power']\n2 ['Kinetic', 'Energy', 'Power']\n3 Shotgun\n4 ['Energy']\n5 ['Energy']\nNone\n1 ['Kinetic', 'Energy', 'Power']\n2 ['Kinetic', 'Energy', 'Power']\n3 Shotgun\n4 ['Energy']\n5 ['Energy']\n1 ['Kinetic', 'Energy', 'Power']\n2 ['Kinetic', 'Energy', 'Power']\n3 Multiple Options\n4 ['Energy', 'Power']\n5 ['Energy']\nNone\n1 ['Kinetic', 'Energy', 'Power']\n2 ['Kinetic', 'Energy', 'Power']\n3 Multiple Options\n4 ['Energy', 'Power']\n5 ['Energy']\n1 ['Kinetic', 'Energy', 'Power']\n2 ['Kinetic', 'Energy', 'Power']\n3 Multiple Options\n4 ['Energy', 'Power']\n5 ['Energy']\nNone\n1 ['Kinetic', 'Energy', 'Power']\n2 ['Kinetic', 'Energy', 'Power']\n3 Multiple Options\n4 ['Energy', 'Power']\n5 ['Energy']\n1 ['Kinetic', 'Energy', 'Power']\n2 ['Kinetic', 'Energy', 'Power']\n3 Grenade Launcher\n4 ['Energy']\n5 ['Energy']\nNone\n1 ['Kinetic', 'Energy', 'Power']\n2 ['Kinetic', 'Energy', 'Power']\n3 Grenade Launcher\n4 ['Energy']\n5 ['Energy']\nNone\n1 ['Kinetic', 'Energy', 'Power']\n2 ['Kinetic', 'Energy', 'Power']\n3 Grenade Launcher\n4 ['Kinetic', 'Energy']\n5 ['Kinetic', 'Energy']\nNone\n1 ['Kinetic', 'Energy', 'Power']\n2 ['Kinetic', 'Energy', 'Power']\n3 Grenade Launcher\n4 ['Kinetic', 'Energy']\n5 ['Kinetic', 'Energy']\nNone\n1 ['Kinetic', 'Energy', 'Power']\n2 ['Kinetic', 'Energy', 'Power']\n5 ['Kinetic', 'Energy']\nNone\n1 ['Kinetic', 'Energy', 'Power']\n2 ['Kinetic', 'Energy', 'Power']\n5 ['Kinetic', 'Energy']\n1 ['Kinetic', 'Energy', 'Power']\n2 ['Kinetic', 'Energy', 'Power']\n5 []\nNone\n1 ['Kinetic', 'Energy', 'Power']\n2 ['Kinetic', 'Energy', 'Power']\n5 ['Kinetic', 'Energy', 'Power']\n1 ['Kinetic', 'Energy', 'Power']\n2 ['Kinetic', 'Energy', 'Power']\n5 ['Power']\nNone\n1 ['Kinetic', 'Energy', 'Power']\n2 ['Kinetic', 'Energy', 'Power']\n5 ['Power']\n1 ['Kinetic', 'Energy', 'Power']\n2 ['Kinetic', 'Energy', 'Power']\n5 []\nNone\n1 ['Kinetic', 'Energy', 'Power']\n2 ['Kinetic', 'Energy', 'Power']\n5 ['Kinetic', 'Energy', 'Power']\n"
        }
       ]
      }
     },
     "7a66081c76724d0b8f5cab46047f4fd4": {
      "model_module": "@jupyter-widgets/base",
      "model_module_version": "1.2.0",
      "model_name": "LayoutModel",
      "state": {}
     },
     "7b6226b489934e569f8113fb23d3aa13": {
      "model_module": "@jupyter-widgets/controls",
      "model_module_version": "1.5.0",
      "model_name": "LabelModel",
      "state": {
       "layout": "IPY_MODEL_f76b95e205134cf8922ab5e1b3d8af02",
       "style": "IPY_MODEL_cbad1030ffab493f86543751939f9caf",
       "value": "Subclass:"
      }
     },
     "7bbda6a4099c426d9eda2807f62da31e": {
      "model_module": "@jupyter-widgets/controls",
      "model_module_version": "1.5.0",
      "model_name": "DropdownModel",
      "state": {
       "_options_labels": [
        "Any"
       ],
       "disabled": true,
       "index": 0,
       "layout": "IPY_MODEL_d58fc528f4ee4e5ba1dbb5f222561766",
       "style": "IPY_MODEL_2cf7c04ae3de4d78ac1ad65c842450e3"
      }
     },
     "7bcaf02510cf4053b13f35e0dcf86372": {
      "model_module": "@jupyter-widgets/controls",
      "model_module_version": "1.5.0",
      "model_name": "DescriptionStyleModel",
      "state": {
       "description_width": ""
      }
     },
     "7cdf44e1b5634c2aba54957c010fb20e": {
      "model_module": "@jupyter-widgets/controls",
      "model_module_version": "1.5.0",
      "model_name": "HTMLModel",
      "state": {
       "layout": "IPY_MODEL_dbb035a19fa44c7e8a34796c9bc55afb",
       "style": "IPY_MODEL_b9afd6a9a9d24b2f95caefa43695c3e2",
       "value": "<font size=\"3\"><b>EDIT REQUIREMENTS</b></font size=>"
      }
     },
     "7d97de1b4f7c418b8b7c28aa0af98c76": {
      "model_module": "@jupyter-widgets/controls",
      "model_module_version": "1.5.0",
      "model_name": "DropdownModel",
      "state": {
       "_options_labels": [
        "Any"
       ],
       "disabled": true,
       "index": 0,
       "layout": "IPY_MODEL_7252f872bc794c068a0929f9d25e364d",
       "style": "IPY_MODEL_be96f3d7f6cb413f9415ce7946c3e002"
      }
     },
     "7dcd6d8e4107411abdb0d733c59f850e": {
      "model_module": "@jupyter-widgets/controls",
      "model_module_version": "1.5.0",
      "model_name": "DropdownModel",
      "state": {
       "_options_labels": [
        "Any",
        "Kinetic",
        "Solar",
        "Void",
        "Arc"
       ],
       "index": 0,
       "layout": "IPY_MODEL_28a4dff5d61e4497bc87fa083c188e0b",
       "style": "IPY_MODEL_2055387f5a9a4fda86eb22c0a2037523"
      }
     },
     "7e3a2a55bdf94fb3a9b4863cd83f608e": {
      "model_module": "@jupyter-widgets/controls",
      "model_module_version": "1.5.0",
      "model_name": "DescriptionStyleModel",
      "state": {
       "description_width": ""
      }
     },
     "7e49cc399c3148cab6e4a855ab32e7f2": {
      "model_module": "@jupyter-widgets/base",
      "model_module_version": "1.2.0",
      "model_name": "LayoutModel",
      "state": {}
     },
     "7e75133f13574cf1b6a8cd3d41095106": {
      "model_module": "@jupyter-widgets/base",
      "model_module_version": "1.2.0",
      "model_name": "LayoutModel",
      "state": {}
     },
     "7e7c13dcb1a14ef8bc89d440aad001ca": {
      "model_module": "@jupyter-widgets/base",
      "model_module_version": "1.2.0",
      "model_name": "LayoutModel",
      "state": {}
     },
     "7ea239eb78d14323848c226856a78ecd": {
      "model_module": "@jupyter-widgets/controls",
      "model_module_version": "1.5.0",
      "model_name": "DropdownModel",
      "state": {
       "_options_labels": [
        "Multiple Options",
        "Sniper Rifle",
        "Shotgun",
        "Fusion Rifle",
        "Grenade Launcher",
        "Grenade Launcher"
       ],
       "index": 4,
       "layout": "IPY_MODEL_28a4dff5d61e4497bc87fa083c188e0b",
       "style": "IPY_MODEL_4e4388ef6a944429b5a2cc6ecefdad8e"
      }
     },
     "7f372dc9eec1401d9764beac3c0a1742": {
      "model_module": "@jupyter-widgets/base",
      "model_module_version": "1.2.0",
      "model_name": "LayoutModel",
      "state": {}
     },
     "7f39af72a0bd4323b2a1d8c01e8b39fd": {
      "model_module": "@jupyter-widgets/controls",
      "model_module_version": "1.5.0",
      "model_name": "DescriptionStyleModel",
      "state": {
       "description_width": ""
      }
     },
     "7f3ca96715f94a84bbcbbaffadb3e4ae": {
      "model_module": "@jupyter-widgets/controls",
      "model_module_version": "1.5.0",
      "model_name": "HBoxModel",
      "state": {
       "children": [
        "IPY_MODEL_6386be598d0f4120835bd62d9f1b27bc",
        "IPY_MODEL_c31ba9dc3e2049399c9713829c30a30b",
        "IPY_MODEL_5db5270c8583492994d1f4662c672c01",
        "IPY_MODEL_59ca34079df64253ae87282b50563d21",
        "IPY_MODEL_1a9b4ada9fcb4084828e73c7928276c4"
       ],
       "layout": "IPY_MODEL_91e7ffe8717b4958a0a3559966d6494c"
      }
     },
     "7f51b2d5bccc4415a24ba440e9dc4321": {
      "model_module": "@jupyter-widgets/controls",
      "model_module_version": "1.5.0",
      "model_name": "DescriptionStyleModel",
      "state": {
       "description_width": ""
      }
     },
     "7f802fc550e14cd99303b04739412ee5": {
      "model_module": "@jupyter-widgets/controls",
      "model_module_version": "1.5.0",
      "model_name": "DropdownModel",
      "state": {
       "_options_labels": [
        "Kinetic"
       ],
       "index": 0,
       "layout": "IPY_MODEL_28a4dff5d61e4497bc87fa083c188e0b",
       "style": "IPY_MODEL_1ea5a1f44ef8493bbac3fdb7b36e93b0"
      }
     },
     "7fb76060bfa34b398a311038407a0352": {
      "model_module": "@jupyter-widgets/controls",
      "model_module_version": "1.5.0",
      "model_name": "DescriptionStyleModel",
      "state": {
       "description_width": ""
      }
     },
     "7fcd46a638aa4a39b83de82f60be60ba": {
      "model_module": "@jupyter-widgets/controls",
      "model_module_version": "1.5.0",
      "model_name": "LabelModel",
      "state": {
       "layout": "IPY_MODEL_12baf9638e394156bd3b031fe04f6df7",
       "style": "IPY_MODEL_cbab5b16091646a38567d3b17607a868",
       "value": "Class:"
      }
     },
     "80913b19c38a4263a042df4dc27e31f2": {
      "model_module": "@jupyter-widgets/base",
      "model_module_version": "1.2.0",
      "model_name": "LayoutModel",
      "state": {}
     },
     "80d68c35b9674cd4aa981e459444d1ce": {
      "model_module": "@jupyter-widgets/base",
      "model_module_version": "1.2.0",
      "model_name": "LayoutModel",
      "state": {}
     },
     "814a66b5e65248bbac905eeb290fa116": {
      "model_module": "@jupyter-widgets/controls",
      "model_module_version": "1.5.0",
      "model_name": "DropdownModel",
      "state": {
       "_options_labels": [
        "Multiple Options",
        "Primary",
        "Secondary"
       ],
       "index": 1,
       "layout": "IPY_MODEL_28a4dff5d61e4497bc87fa083c188e0b",
       "style": "IPY_MODEL_1cf40b85b67b4ea88ed235e969b97de3"
      }
     },
     "817e0d90db2d403790aa26b1ec8206a3": {
      "model_module": "@jupyter-widgets/controls",
      "model_module_version": "1.5.0",
      "model_name": "DescriptionStyleModel",
      "state": {
       "description_width": ""
      }
     },
     "81ad70cc91c54aa1bb64b6b5f8550e55": {
      "model_module": "@jupyter-widgets/controls",
      "model_module_version": "1.5.0",
      "model_name": "LabelModel",
      "state": {
       "layout": "IPY_MODEL_3352d11b467d4e95a08e9871c6a0ffe1",
       "style": "IPY_MODEL_335f62d768744c69a6efc53a6f6d5e0a",
       "value": "Weapon Requirements:"
      }
     },
     "81c2d810446c40f29501730a720196e8": {
      "model_module": "@jupyter-widgets/base",
      "model_module_version": "1.2.0",
      "model_name": "LayoutModel",
      "state": {}
     },
     "81d92cb97ed0420ea7b058157cc3fcec": {
      "model_module": "@jupyter-widgets/controls",
      "model_module_version": "1.5.0",
      "model_name": "HTMLModel",
      "state": {
       "layout": "IPY_MODEL_233f551ec04a4e7c8ea49972e08ec3c3",
       "style": "IPY_MODEL_6c22a7ae63124933b003c1cc540097e5",
       "value": "<b>Activity Requirements:</b>"
      }
     },
     "824515333daa479ba206059906dc1029": {
      "model_module": "@jupyter-widgets/controls",
      "model_module_version": "1.5.0",
      "model_name": "LabelModel",
      "state": {
       "layout": "IPY_MODEL_ca78367edea74d2eba85e1860f7af1a5",
       "style": "IPY_MODEL_8376a1ecd0a54b589f3b5725ada8f091",
       "value": "Weapon:"
      }
     },
     "8264177bf58340708d459bdb78d282ff": {
      "model_module": "@jupyter-widgets/controls",
      "model_module_version": "1.5.0",
      "model_name": "DropdownModel",
      "state": {
       "_options_labels": [
        "Any",
        "Attunement of Conduction",
        "Attunement of Control",
        "Attunement of the Elements"
       ],
       "index": 2,
       "layout": "IPY_MODEL_6af5da9fc9d24e36b9ec1b19ebb2b540",
       "style": "IPY_MODEL_1b343f7e5fc64b17bfdc5a05f786d9ae"
      }
     },
     "82ac27c81f494585a79a4df2b99d2ab2": {
      "model_module": "@jupyter-widgets/base",
      "model_module_version": "1.2.0",
      "model_name": "LayoutModel",
      "state": {}
     },
     "8376a1ecd0a54b589f3b5725ada8f091": {
      "model_module": "@jupyter-widgets/controls",
      "model_module_version": "1.5.0",
      "model_name": "DescriptionStyleModel",
      "state": {
       "description_width": ""
      }
     },
     "8388e012526147e7946ab52e3bfa7d59": {
      "model_module": "@jupyter-widgets/base",
      "model_module_version": "1.2.0",
      "model_name": "LayoutModel",
      "state": {}
     },
     "83e061d2dc514a2ab4a1910cd86107ad": {
      "model_module": "@jupyter-widgets/controls",
      "model_module_version": "1.5.0",
      "model_name": "DropdownModel",
      "state": {
       "_options_labels": [
        "Primary"
       ],
       "index": 0,
       "layout": "IPY_MODEL_28a4dff5d61e4497bc87fa083c188e0b",
       "style": "IPY_MODEL_e90d8400138947fe8ee0a6e92b46038a"
      }
     },
     "84000f30a3c047bdbd59396213682bdf": {
      "model_module": "@jupyter-widgets/controls",
      "model_module_version": "1.5.0",
      "model_name": "VBoxModel",
      "state": {
       "children": [
        "IPY_MODEL_0582f808e2164b91bec33715b32c7af4",
        "IPY_MODEL_7fcd46a638aa4a39b83de82f60be60ba",
        "IPY_MODEL_7889b5b9529f420abfa0b8b903df6f2f",
        "IPY_MODEL_916a97954ad34a3f9a120bcf6d8c0b26",
        "IPY_MODEL_61ab865c30694760895c05fb19f6a498",
        "IPY_MODEL_33e1c84197924cb6b63d76653e634481",
        "IPY_MODEL_091986fa9c334989ad34515afb27fb37",
        "IPY_MODEL_afb9bd403dea4027939902013eff5f24",
        "IPY_MODEL_8b69b8794ce74a19961c8d35b25bf199"
       ],
       "layout": "IPY_MODEL_3879be7b74a744e5b70960a5a2153594"
      }
     },
     "848a3683006b4ec8b81a63b39de92170": {
      "model_module": "@jupyter-widgets/controls",
      "model_module_version": "1.5.0",
      "model_name": "DescriptionStyleModel",
      "state": {
       "description_width": ""
      }
     },
     "84e7d1ec81e545a2bddda9606a4850ea": {
      "model_module": "@jupyter-widgets/controls",
      "model_module_version": "1.5.0",
      "model_name": "DescriptionStyleModel",
      "state": {
       "description_width": ""
      }
     },
     "8512d140397b4725bd98cf6e2e1c8f8b": {
      "model_module": "@jupyter-widgets/controls",
      "model_module_version": "1.5.0",
      "model_name": "LabelModel",
      "state": {
       "layout": "IPY_MODEL_f65ca1106e0649c9a945d6ce3f3ad0fd",
       "style": "IPY_MODEL_c65bfe0ca005411194b1258044607d97",
       "value": "Energy Type:"
      }
     },
     "855360f96c6b4a4dade8e74fe725918d": {
      "model_module": "@jupyter-widgets/base",
      "model_module_version": "1.2.0",
      "model_name": "LayoutModel",
      "state": {}
     },
     "857763f97c3a45f3a797bed42e50ed79": {
      "model_module": "@jupyter-widgets/controls",
      "model_module_version": "1.5.0",
      "model_name": "HBoxModel",
      "state": {
       "children": [
        "IPY_MODEL_e837b51ee35448ea802613783044afff",
        "IPY_MODEL_5f75a1997cb44fddacc2b6cbbd4f6f60",
        "IPY_MODEL_ed2d021f04c44eba95ce60e79ba1ea3a"
       ],
       "layout": "IPY_MODEL_26bdb322400946478546526e23de156a"
      }
     },
     "858a422fdb434d01994f3eac5eb25a32": {
      "model_module": "@jupyter-widgets/controls",
      "model_module_version": "1.5.0",
      "model_name": "HTMLModel",
      "state": {
       "layout": "IPY_MODEL_ceee5d81987c4983955921e7c6b7e2bd",
       "style": "IPY_MODEL_585f8fcd7e2f421f8244f032addb4031",
       "value": "Objective"
      }
     },
     "85a559f31e2249608f5bce958e71cf98": {
      "model_module": "@jupyter-widgets/base",
      "model_module_version": "1.2.0",
      "model_name": "LayoutModel",
      "state": {}
     },
     "860805af5fa84fd5be938423c1a5d1c8": {
      "model_module": "@jupyter-widgets/controls",
      "model_module_version": "1.5.0",
      "model_name": "HTMLModel",
      "state": {
       "layout": "IPY_MODEL_0ff0c3a61c2946c1979e5e22cedd6617",
       "style": "IPY_MODEL_43945d1a2eb24ee385800007b2dfbb92",
       "value": "Task"
      }
     },
     "86105bf8c61e4659a20dc597c132ebd1": {
      "model_module": "@jupyter-widgets/controls",
      "model_module_version": "1.5.0",
      "model_name": "DescriptionStyleModel",
      "state": {
       "description_width": ""
      }
     },
     "86138c433a1c4d2ab9cfe91efc39c994": {
      "model_module": "@jupyter-widgets/controls",
      "model_module_version": "1.5.0",
      "model_name": "DescriptionStyleModel",
      "state": {
       "description_width": ""
      }
     },
     "867ab085435341c4b0b6190e7d1ea6f9": {
      "model_module": "@jupyter-widgets/controls",
      "model_module_version": "1.5.0",
      "model_name": "LabelModel",
      "state": {
       "layout": "IPY_MODEL_54a8fee19b3e4469b220b665385df346",
       "style": "IPY_MODEL_6fd6519ec1a246af9228eeaa81292bfa",
       "value": "Class:"
      }
     },
     "87372d7cdd6d4567ba36e0dcb2ad56ea": {
      "model_module": "@jupyter-widgets/controls",
      "model_module_version": "1.5.0",
      "model_name": "DropdownModel",
      "state": {
       "_options_labels": [
        "Any",
        "Primary",
        "Secondary",
        "Heavy"
       ],
       "index": 3,
       "layout": "IPY_MODEL_28a4dff5d61e4497bc87fa083c188e0b",
       "style": "IPY_MODEL_5bcefc344af048b0ad44b5e959be9992"
      }
     },
     "877bc0c0584d410f900fe24ec6020b1b": {
      "model_module": "@jupyter-widgets/base",
      "model_module_version": "1.2.0",
      "model_name": "LayoutModel",
      "state": {
       "width": "20%"
      }
     },
     "87f4f0e02ed448329520d246992b2eda": {
      "model_module": "@jupyter-widgets/base",
      "model_module_version": "1.2.0",
      "model_name": "LayoutModel",
      "state": {}
     },
     "8838fd5622724c16b62a49ed51325c3e": {
      "model_module": "@jupyter-widgets/controls",
      "model_module_version": "1.5.0",
      "model_name": "DescriptionStyleModel",
      "state": {
       "description_width": ""
      }
     },
     "884562e07a6c453bb033139ab953cb0f": {
      "model_module": "@jupyter-widgets/controls",
      "model_module_version": "1.5.0",
      "model_name": "HTMLModel",
      "state": {
       "layout": "IPY_MODEL_1e130d054f144906aa8bcb9f7f9fcf82",
       "style": "IPY_MODEL_91b68ebbdd5f4763b1b8f44490377fc6",
       "value": "Objective"
      }
     },
     "884917cc7c874ffdae8f7d3fdaa1c120": {
      "model_module": "@jupyter-widgets/controls",
      "model_module_version": "1.5.0",
      "model_name": "HBoxModel",
      "state": {
       "children": [
        "IPY_MODEL_e8faec7d702b44b9a7f882eafee3ea46",
        "IPY_MODEL_1c9af6c3d0f64016a8f6ca47c39b17a7",
        "IPY_MODEL_bf31b84f47e44fb183e6f7afffdd73d6",
        "IPY_MODEL_e08fa9fd3b3a40c4b4680e7e071bce4a",
        "IPY_MODEL_814a66b5e65248bbac905eeb290fa116"
       ],
       "layout": "IPY_MODEL_ccd8cf260b21445eb9aa7cad4d3d0dec"
      }
     },
     "897c7b390d364144b1b8406d8228779a": {
      "model_module": "@jupyter-widgets/controls",
      "model_module_version": "1.5.0",
      "model_name": "DropdownModel",
      "state": {
       "index": null,
       "layout": "IPY_MODEL_695e2179a4ba4996b0dea3333fa2429a",
       "style": "IPY_MODEL_70045a8206344bd885d03738f991f79d"
      }
     },
     "89c6327653ef42c0b322c9032eff0148": {
      "model_module": "@jupyter-widgets/controls",
      "model_module_version": "1.5.0",
      "model_name": "DescriptionStyleModel",
      "state": {
       "description_width": ""
      }
     },
     "89d38515c97b42c386823bd35d408aae": {
      "model_module": "@jupyter-widgets/controls",
      "model_module_version": "1.5.0",
      "model_name": "DescriptionStyleModel",
      "state": {
       "description_width": ""
      }
     },
     "8a037b0998dd4397b3df91c394527f74": {
      "model_module": "@jupyter-widgets/base",
      "model_module_version": "1.2.0",
      "model_name": "LayoutModel",
      "state": {}
     },
     "8a9fd7dae1614f0c9ead3ba98c69ed13": {
      "model_module": "@jupyter-widgets/controls",
      "model_module_version": "1.5.0",
      "model_name": "HTMLModel",
      "state": {
       "layout": "IPY_MODEL_9353974347834052a9c8b3773586328c",
       "style": "IPY_MODEL_b9aa9f0baa684ef19b1dbc6e7f41e5c4",
       "value": "Task"
      }
     },
     "8ab1e497c530419ab4e22a09885353f7": {
      "model_module": "@jupyter-widgets/base",
      "model_module_version": "1.2.0",
      "model_name": "LayoutModel",
      "state": {}
     },
     "8ae8213ae7294b20ba0b6f2505c5db94": {
      "model_module": "@jupyter-widgets/controls",
      "model_module_version": "1.5.0",
      "model_name": "DescriptionStyleModel",
      "state": {
       "description_width": ""
      }
     },
     "8b3e07cb823145eaa9ff5b7d03654368": {
      "model_module": "@jupyter-widgets/controls",
      "model_module_version": "1.5.0",
      "model_name": "DropdownModel",
      "state": {
       "_options_labels": [
        "Any"
       ],
       "disabled": true,
       "index": 0,
       "layout": "IPY_MODEL_bce05553000843108cda570778951a1e",
       "style": "IPY_MODEL_3cb8ed5c139c4eeb8299dedaf8f29924"
      }
     },
     "8b69b8794ce74a19961c8d35b25bf199": {
      "model_module": "@jupyter-widgets/controls",
      "model_module_version": "1.5.0",
      "model_name": "DropdownModel",
      "state": {
       "_options_labels": [
        "Any"
       ],
       "disabled": true,
       "index": 0,
       "layout": "IPY_MODEL_0ef24ecb94d04c929a216bd2bd72a9ea",
       "style": "IPY_MODEL_53a21110afa34136b4536ae9c9855447"
      }
     },
     "8bdfa8e71434430294b43239f32041e2": {
      "model_module": "@jupyter-widgets/controls",
      "model_module_version": "1.5.0",
      "model_name": "DescriptionStyleModel",
      "state": {
       "description_width": ""
      }
     },
     "8c444fb1e9fb4cce8768ab4c930ccc45": {
      "model_module": "@jupyter-widgets/controls",
      "model_module_version": "1.5.0",
      "model_name": "DropdownModel",
      "state": {
       "_options_labels": [
        "Multiple Options",
        "Kinetic",
        "Energy",
        "Power"
       ],
       "index": 0,
       "layout": "IPY_MODEL_28a4dff5d61e4497bc87fa083c188e0b",
       "style": "IPY_MODEL_5209f079079d4644b53f4d21e14f0fe1"
      }
     },
     "8c61ef9ef5f64d9788486f30494b1404": {
      "model_module": "@jupyter-widgets/controls",
      "model_module_version": "1.5.0",
      "model_name": "DescriptionStyleModel",
      "state": {
       "description_width": ""
      }
     },
     "8d024a0ed56646cc9fec1292870885f0": {
      "model_module": "@jupyter-widgets/controls",
      "model_module_version": "1.5.0",
      "model_name": "DropdownModel",
      "state": {
       "_options_labels": [
        "Any"
       ],
       "disabled": true,
       "index": 0,
       "layout": "IPY_MODEL_6af5da9fc9d24e36b9ec1b19ebb2b540",
       "style": "IPY_MODEL_0cada1c0640944c3a73581799509209a"
      }
     },
     "8d59795e31c24a46bb78bea73cf18027": {
      "model_module": "@jupyter-widgets/controls",
      "model_module_version": "1.5.0",
      "model_name": "DescriptionStyleModel",
      "state": {
       "description_width": ""
      }
     },
     "8e09b5381af2485498c15dee8ebe4834": {
      "model_module": "@jupyter-widgets/controls",
      "model_module_version": "1.5.0",
      "model_name": "DropdownModel",
      "state": {
       "_options_labels": [
        "Any",
        "Titan",
        "Hunter",
        "Warlock"
       ],
       "index": 0,
       "layout": "IPY_MODEL_a2490665930b4ffcb3692a818f40b5ef",
       "style": "IPY_MODEL_92516ef5280f4ce88c848a118d9c79f6"
      }
     },
     "8e8c6edfe88b4213964a96e34064dd17": {
      "model_module": "@jupyter-widgets/base",
      "model_module_version": "1.2.0",
      "model_name": "LayoutModel",
      "state": {}
     },
     "8e8fce60a6e5470c842b034830080243": {
      "model_module": "@jupyter-widgets/controls",
      "model_module_version": "1.5.0",
      "model_name": "DropdownModel",
      "state": {
       "_options_labels": [
        "Any",
        "Kinetic",
        "Solar",
        "Void",
        "Arc"
       ],
       "index": 0,
       "layout": "IPY_MODEL_28a4dff5d61e4497bc87fa083c188e0b",
       "style": "IPY_MODEL_76ab74803ce14072b9eb7a265a9e4b9a"
      }
     },
     "8f44adb024cd4dbfa35c8259977f4d75": {
      "model_module": "@jupyter-widgets/controls",
      "model_module_version": "1.5.0",
      "model_name": "HTMLModel",
      "state": {
       "layout": "IPY_MODEL_0f1fd1e1f6824b4f89609b09bbe9a5a1",
       "style": "IPY_MODEL_521ddb96992846959348f28d29741629",
       "value": "<font size=\"3\"><b>EDIT REQUIREMENTS</b></font size=>"
      }
     },
     "8f4c8626f2e5463297068d9e1085db1c": {
      "model_module": "@jupyter-widgets/output",
      "model_module_version": "1.0.0",
      "model_name": "OutputModel",
      "state": {
       "layout": "IPY_MODEL_e836eb42c3ad427a9c312474142d4161",
       "outputs": [
        {
         "name": "stdout",
         "output_type": "stream",
         "text": "None\nNone\nNone\nNone\nNone\nNone\nNone\nNone\nNone\nNone\nNone\nNone\nNone\nNone\nNone\nNone\nNone\nNone\nNone\nNone\nNone\nNone\nNone\nNone\nNone\nNone\nNone\nNone\nNone\nNone\nNone\nNone\nNone\nNone\nNone\nNone\nNone\nNone\nNone\nNone\nNone\nNone\nNone\nNone\nNone\nNone\nNone\nNone\nNone\n"
        },
        {
         "ename": "IndexError",
         "evalue": "list index out of range",
         "output_type": "error",
         "traceback": [
          "\u001b[0;31m---------------------------------------------------------------------------\u001b[0m",
          "\u001b[0;31mIndexError\u001b[0m                                Traceback (most recent call last)",
          "\u001b[0;32m<ipython-input-32-f46d26ee12c1>\u001b[0m in \u001b[0;36mchange_weapon\u001b[0;34m(change)\u001b[0m\n\u001b[1;32m    209\u001b[0m \u001b[0;34m\u001b[0m\u001b[0m\n\u001b[1;32m    210\u001b[0m \u001b[0;32mdef\u001b[0m \u001b[0mchange_weapon\u001b[0m\u001b[0;34m(\u001b[0m\u001b[0mchange\u001b[0m\u001b[0;34m)\u001b[0m\u001b[0;34m:\u001b[0m\u001b[0;34m\u001b[0m\u001b[0;34m\u001b[0m\u001b[0m\n\u001b[0;32m--> 211\u001b[0;31m     \u001b[0;32mwith\u001b[0m \u001b[0moutput\u001b[0m\u001b[0;34m:\u001b[0m \u001b[0mprint\u001b[0m \u001b[0;34m(\u001b[0m\u001b[0mrefresh_weapon\u001b[0m\u001b[0;34m(\u001b[0m\u001b[0;34m)\u001b[0m\u001b[0;34m)\u001b[0m\u001b[0;34m\u001b[0m\u001b[0;34m\u001b[0m\u001b[0m\n\u001b[0m\u001b[1;32m    212\u001b[0m     \u001b[0mrefresh_weapon\u001b[0m\u001b[0;34m(\u001b[0m\u001b[0;34m)\u001b[0m\u001b[0;34m\u001b[0m\u001b[0;34m\u001b[0m\u001b[0m\n\u001b[1;32m    213\u001b[0m \u001b[0;34m\u001b[0m\u001b[0m\n",
          "\u001b[0;32m<ipython-input-32-f46d26ee12c1>\u001b[0m in \u001b[0;36mrefresh_weapon\u001b[0;34m()\u001b[0m\n\u001b[1;32m    177\u001b[0m         \u001b[0moptions_slot\u001b[0m\u001b[0;34m.\u001b[0m\u001b[0minsert\u001b[0m\u001b[0;34m(\u001b[0m\u001b[0;36m0\u001b[0m\u001b[0;34m,\u001b[0m\u001b[0;34m'Multiple Options'\u001b[0m\u001b[0;34m)\u001b[0m\u001b[0;34m\u001b[0m\u001b[0;34m\u001b[0m\u001b[0m\n\u001b[1;32m    178\u001b[0m     \u001b[0;32melse\u001b[0m\u001b[0;34m:\u001b[0m\u001b[0;34m\u001b[0m\u001b[0;34m\u001b[0m\u001b[0m\n\u001b[0;32m--> 179\u001b[0;31m         \u001b[0moptions_slot\u001b[0m\u001b[0;34m.\u001b[0m\u001b[0mappend\u001b[0m\u001b[0;34m(\u001b[0m\u001b[0;34mf'Not {options_slot[0]}'\u001b[0m\u001b[0;34m)\u001b[0m\u001b[0;34m\u001b[0m\u001b[0;34m\u001b[0m\u001b[0m\n\u001b[0m\u001b[1;32m    180\u001b[0m     \u001b[0mdropdown_weapon_slot\u001b[0m\u001b[0;34m.\u001b[0m\u001b[0moptions\u001b[0m \u001b[0;34m=\u001b[0m \u001b[0moptions_slot\u001b[0m\u001b[0;34m\u001b[0m\u001b[0;34m\u001b[0m\u001b[0m\n\u001b[1;32m    181\u001b[0m     \u001b[0;32mif\u001b[0m \u001b[0mslot\u001b[0m \u001b[0;32min\u001b[0m \u001b[0moptions_slot\u001b[0m\u001b[0;34m:\u001b[0m\u001b[0;34m\u001b[0m\u001b[0;34m\u001b[0m\u001b[0m\n",
          "\u001b[0;31mIndexError\u001b[0m: list index out of range"
         ]
        }
       ]
      }
     },
     "8f8d65d1a1134f3ea5290137ca5f2f47": {
      "model_module": "@jupyter-widgets/controls",
      "model_module_version": "1.5.0",
      "model_name": "LabelModel",
      "state": {
       "layout": "IPY_MODEL_80913b19c38a4263a042df4dc27e31f2",
       "style": "IPY_MODEL_4a6b6afb8c01480a834b3f503a8776ae",
       "value": "Class:"
      }
     },
     "8f97066048274af2aed66346dc6e4303": {
      "model_module": "@jupyter-widgets/controls",
      "model_module_version": "1.5.0",
      "model_name": "HTMLModel",
      "state": {
       "layout": "IPY_MODEL_82ac27c81f494585a79a4df2b99d2ab2",
       "style": "IPY_MODEL_b6c67a7311444e43b9d88890630c0871",
       "value": "<font size=\"3\"><b>EDIT REQUIREMENTS</b></font size=>"
      }
     },
     "8fc2b13335174465aa4d555ade0460d0": {
      "model_module": "@jupyter-widgets/controls",
      "model_module_version": "1.5.0",
      "model_name": "DropdownModel",
      "state": {
       "_options_labels": [
        "Any"
       ],
       "disabled": true,
       "index": 0,
       "layout": "IPY_MODEL_6af5da9fc9d24e36b9ec1b19ebb2b540",
       "style": "IPY_MODEL_936c7d2ccbbc4d2685f9baf2b87bdb03"
      }
     },
     "90305444d107416f95f6b37e829796a7": {
      "model_module": "@jupyter-widgets/controls",
      "model_module_version": "1.5.0",
      "model_name": "DescriptionStyleModel",
      "state": {
       "description_width": ""
      }
     },
     "9047f7d3ef194f868870859b62758e81": {
      "model_module": "@jupyter-widgets/controls",
      "model_module_version": "1.5.0",
      "model_name": "DescriptionStyleModel",
      "state": {
       "description_width": ""
      }
     },
     "906630a191c34269b52091e76a05eecc": {
      "model_module": "@jupyter-widgets/controls",
      "model_module_version": "1.5.0",
      "model_name": "HTMLModel",
      "state": {
       "layout": "IPY_MODEL_bb1361f351294b9d920e7d4e69828526",
       "style": "IPY_MODEL_5e3b0b1c0fa24f369c36de6699f5fc29",
       "value": "<b>Activity Requirements:</b>"
      }
     },
     "9090051a18ac42b3aab2b5a95398f4b5": {
      "model_module": "@jupyter-widgets/controls",
      "model_module_version": "1.5.0",
      "model_name": "DescriptionStyleModel",
      "state": {
       "description_width": ""
      }
     },
     "9163083b2f1940939ebd53fe2d5d69a0": {
      "model_module": "@jupyter-widgets/base",
      "model_module_version": "1.2.0",
      "model_name": "LayoutModel",
      "state": {}
     },
     "916a97954ad34a3f9a120bcf6d8c0b26": {
      "model_module": "@jupyter-widgets/controls",
      "model_module_version": "1.5.0",
      "model_name": "LabelModel",
      "state": {
       "layout": "IPY_MODEL_cfc2b091669d45b285a58f4ab6c6d1e6",
       "style": "IPY_MODEL_595322f9edfd4feb81b293634d3e6023",
       "value": "Subclass:"
      }
     },
     "917a7bc61dff4128beeccfd0cb09186f": {
      "model_module": "@jupyter-widgets/controls",
      "model_module_version": "1.5.0",
      "model_name": "LabelModel",
      "state": {
       "layout": "IPY_MODEL_33d0a70ced8a49dab3a2c3cdcd60049b",
       "style": "IPY_MODEL_c94c6e25747d4384990e7bf57f60feb1",
       "value": "Class:"
      }
     },
     "918520f69cff4670964978c216d00b13": {
      "model_module": "@jupyter-widgets/controls",
      "model_module_version": "1.5.0",
      "model_name": "DescriptionStyleModel",
      "state": {
       "description_width": ""
      }
     },
     "91b68ebbdd5f4763b1b8f44490377fc6": {
      "model_module": "@jupyter-widgets/controls",
      "model_module_version": "1.5.0",
      "model_name": "DescriptionStyleModel",
      "state": {
       "description_width": ""
      }
     },
     "91bbb54519834333b96b8966d718c581": {
      "model_module": "@jupyter-widgets/base",
      "model_module_version": "1.2.0",
      "model_name": "LayoutModel",
      "state": {}
     },
     "91d32b50951b42c993ebbed3326ffa83": {
      "model_module": "@jupyter-widgets/controls",
      "model_module_version": "1.5.0",
      "model_name": "DescriptionStyleModel",
      "state": {
       "description_width": ""
      }
     },
     "91e7ffe8717b4958a0a3559966d6494c": {
      "model_module": "@jupyter-widgets/base",
      "model_module_version": "1.2.0",
      "model_name": "LayoutModel",
      "state": {}
     },
     "921d0c10a24c41169f324c3b9174c020": {
      "model_module": "@jupyter-widgets/controls",
      "model_module_version": "1.5.0",
      "model_name": "LabelModel",
      "state": {
       "layout": "IPY_MODEL_3352d11b467d4e95a08e9871c6a0ffe1",
       "style": "IPY_MODEL_1695a265a8e84103ad664e11a80b3334",
       "value": "Weapon Requirements:"
      }
     },
     "922519acf25a4c0992ad4279d9bc99b5": {
      "model_module": "@jupyter-widgets/controls",
      "model_module_version": "1.5.0",
      "model_name": "HTMLModel",
      "state": {
       "layout": "IPY_MODEL_17a23d2b262543c18da81ef6bb2b087e",
       "style": "IPY_MODEL_ddfd8beb3b5947a595454e1e2eb13e24",
       "value": "<b>Activity Requirements:</b>"
      }
     },
     "92516ef5280f4ce88c848a118d9c79f6": {
      "model_module": "@jupyter-widgets/controls",
      "model_module_version": "1.5.0",
      "model_name": "DescriptionStyleModel",
      "state": {
       "description_width": ""
      }
     },
     "9264df57eb1c4332aa5b4c3be8930d06": {
      "model_module": "@jupyter-widgets/controls",
      "model_module_version": "1.5.0",
      "model_name": "DropdownModel",
      "state": {
       "_options_labels": [
        "Any",
        "Patrol",
        "Gambit",
        "Reckoning",
        "Menagerie",
        "Vex Offensive",
        "Raid",
        "Strike",
        "Nightfall",
        "Crucible",
        "Forge"
       ],
       "index": 0,
       "layout": "IPY_MODEL_ce73fe135a3242539e9cc3a86d357aff",
       "style": "IPY_MODEL_deb35db9b7f343b3aad8c41e5dba06ed"
      }
     },
     "929056775b474f0d95b92f117b28f564": {
      "model_module": "@jupyter-widgets/controls",
      "model_module_version": "1.5.0",
      "model_name": "DescriptionStyleModel",
      "state": {
       "description_width": ""
      }
     },
     "9353974347834052a9c8b3773586328c": {
      "model_module": "@jupyter-widgets/base",
      "model_module_version": "1.2.0",
      "model_name": "LayoutModel",
      "state": {}
     },
     "936c7d2ccbbc4d2685f9baf2b87bdb03": {
      "model_module": "@jupyter-widgets/controls",
      "model_module_version": "1.5.0",
      "model_name": "DescriptionStyleModel",
      "state": {
       "description_width": ""
      }
     },
     "9374abe7c769465da3d447953c5647e0": {
      "model_module": "@jupyter-widgets/base",
      "model_module_version": "1.2.0",
      "model_name": "LayoutModel",
      "state": {}
     },
     "9463c309d893480d8c97ffa9fafd6d6f": {
      "model_module": "@jupyter-widgets/controls",
      "model_module_version": "1.5.0",
      "model_name": "HBoxModel",
      "state": {
       "children": [
        "IPY_MODEL_16886dd3138c435983e7795e186d33e9",
        "IPY_MODEL_a06bf18d43ed4721856415deadcf5c44",
        "IPY_MODEL_72d292c60257430386411a269d2cfcf2",
        "IPY_MODEL_48e9b27228534870a9bb024d31a23927",
        "IPY_MODEL_32766e9fb0b040868104d4d229cb628e"
       ],
       "layout": "IPY_MODEL_282a371e7b294c0492f806afc38206f9"
      }
     },
     "94ba5e08d66f4de39c480f479f289a56": {
      "model_module": "@jupyter-widgets/controls",
      "model_module_version": "1.5.0",
      "model_name": "LabelModel",
      "state": {
       "layout": "IPY_MODEL_3352d11b467d4e95a08e9871c6a0ffe1",
       "style": "IPY_MODEL_c5c7e651844b4463a3f683058b5f18b4",
       "value": "Weapon Requirements:"
      }
     },
     "94bd0a8830c1498d801873071d2f08c8": {
      "model_module": "@jupyter-widgets/controls",
      "model_module_version": "1.5.0",
      "model_name": "DescriptionStyleModel",
      "state": {
       "description_width": ""
      }
     },
     "95362507378e4db4ac8f6a554ca19b12": {
      "model_module": "@jupyter-widgets/base",
      "model_module_version": "1.2.0",
      "model_name": "LayoutModel",
      "state": {}
     },
     "96011401aefa40cda8c785979543403e": {
      "model_module": "@jupyter-widgets/controls",
      "model_module_version": "1.5.0",
      "model_name": "DescriptionStyleModel",
      "state": {
       "description_width": ""
      }
     },
     "97f4835049444299a9f1aae6b831d103": {
      "model_module": "@jupyter-widgets/controls",
      "model_module_version": "1.5.0",
      "model_name": "HTMLModel",
      "state": {
       "layout": "IPY_MODEL_c8c4dbeca7964a549b423358a9fd4043",
       "style": "IPY_MODEL_585c687d4dd5499cb25e5f82e3c02b04",
       "value": "<font size=\"1\"><b>EDIT REQUIREMENTS</b></font size=>"
      }
     },
     "981d60c69b7e43118fad3023e5316743": {
      "model_module": "@jupyter-widgets/controls",
      "model_module_version": "1.5.0",
      "model_name": "DescriptionStyleModel",
      "state": {
       "description_width": ""
      }
     },
     "991f6e2d33f7433ebd13863ef9bbd3d1": {
      "model_module": "@jupyter-widgets/controls",
      "model_module_version": "1.5.0",
      "model_name": "DescriptionStyleModel",
      "state": {
       "description_width": ""
      }
     },
     "9a0662a68c6e4388ac05ff095211c661": {
      "model_module": "@jupyter-widgets/controls",
      "model_module_version": "1.5.0",
      "model_name": "DropdownModel",
      "state": {
       "_options_labels": [
        "Any",
        "Titan",
        "Hunter",
        "Warlock"
       ],
       "index": 0,
       "layout": "IPY_MODEL_342b0a7d57af447db31b914c93f7bc87",
       "style": "IPY_MODEL_58c283730f664662a5c7240937e80706"
      }
     },
     "9a0925e6799b4cdc8257dcafc83f115f": {
      "model_module": "@jupyter-widgets/controls",
      "model_module_version": "1.5.0",
      "model_name": "DescriptionStyleModel",
      "state": {
       "description_width": ""
      }
     },
     "9a36852809044749bd2db15888f77bce": {
      "model_module": "@jupyter-widgets/controls",
      "model_module_version": "1.5.0",
      "model_name": "HTMLModel",
      "state": {
       "layout": "IPY_MODEL_35d1c503196641758816b4d2c50ff500",
       "style": "IPY_MODEL_c95cc582d778431d994b7a98d9aa40dc",
       "value": "Task"
      }
     },
     "9a9b1547e4144b42bcbbea0e60eb0a13": {
      "model_module": "@jupyter-widgets/controls",
      "model_module_version": "1.5.0",
      "model_name": "DescriptionStyleModel",
      "state": {
       "description_width": ""
      }
     },
     "9afc670ab9ba4a3280d656e9fb3b422d": {
      "model_module": "@jupyter-widgets/controls",
      "model_module_version": "1.5.0",
      "model_name": "DropdownModel",
      "state": {
       "_options_labels": [
        "Primary"
       ],
       "index": 0,
       "layout": "IPY_MODEL_28a4dff5d61e4497bc87fa083c188e0b",
       "style": "IPY_MODEL_ebed7f9dcfab4cb7b4e7715c610ed507"
      }
     },
     "9c19461c13b146618274c319535807a3": {
      "model_module": "@jupyter-widgets/controls",
      "model_module_version": "1.5.0",
      "model_name": "DescriptionStyleModel",
      "state": {
       "description_width": ""
      }
     },
     "9c21c013a31d4bd3b85b51ecc6047209": {
      "model_module": "@jupyter-widgets/controls",
      "model_module_version": "1.5.0",
      "model_name": "DescriptionStyleModel",
      "state": {
       "description_width": ""
      }
     },
     "9cff19abab99405fa02eee9f2a3c6644": {
      "model_module": "@jupyter-widgets/base",
      "model_module_version": "1.2.0",
      "model_name": "LayoutModel",
      "state": {}
     },
     "9d32301074704c16b9875f9863204b16": {
      "model_module": "@jupyter-widgets/controls",
      "model_module_version": "1.5.0",
      "model_name": "DescriptionStyleModel",
      "state": {
       "description_width": ""
      }
     },
     "9dc48a9849604d0195aa3cbf692bdb49": {
      "model_module": "@jupyter-widgets/controls",
      "model_module_version": "1.5.0",
      "model_name": "DropdownModel",
      "state": {
       "_options_labels": [
        "Any",
        "Primary",
        "Secondary",
        "Heavy"
       ],
       "index": 0,
       "layout": "IPY_MODEL_28a4dff5d61e4497bc87fa083c188e0b",
       "style": "IPY_MODEL_553ffcc599354db49ee243be98489875"
      }
     },
     "9e09a901898d472ca2abeeb5d10dc541": {
      "model_module": "@jupyter-widgets/controls",
      "model_module_version": "1.5.0",
      "model_name": "HBoxModel",
      "state": {
       "children": [
        "IPY_MODEL_b6d2eb04c5fa4636988825be6b0de0d4",
        "IPY_MODEL_05012dce154d440cafa24e492e289f78",
        "IPY_MODEL_7dcd6d8e4107411abdb0d733c59f850e",
        "IPY_MODEL_65dee85b5c064d60a84f5c0b8cb659ae",
        "IPY_MODEL_0c2c4873a1fb4186ae914b4043d9f829"
       ],
       "layout": "IPY_MODEL_19061196fe3d4068844ae4b679329126"
      }
     },
     "9f219ae247094932a7966f10719110d7": {
      "model_module": "@jupyter-widgets/controls",
      "model_module_version": "1.5.0",
      "model_name": "DescriptionStyleModel",
      "state": {
       "description_width": ""
      }
     },
     "9f45dd8541174201bc0026cc0bcf3616": {
      "model_module": "@jupyter-widgets/controls",
      "model_module_version": "1.5.0",
      "model_name": "DescriptionStyleModel",
      "state": {
       "description_width": ""
      }
     },
     "9f6abcaaff584e44b1a6ed4617dce445": {
      "model_module": "@jupyter-widgets/controls",
      "model_module_version": "1.5.0",
      "model_name": "LabelModel",
      "state": {
       "layout": "IPY_MODEL_3352d11b467d4e95a08e9871c6a0ffe1",
       "style": "IPY_MODEL_ad1de99b1f0a47b18a1d0d8c044028d5",
       "value": "Weapon Requirements:"
      }
     },
     "9fd6741440884f24aa4f6d604155bb27": {
      "model_module": "@jupyter-widgets/controls",
      "model_module_version": "1.5.0",
      "model_name": "DropdownModel",
      "state": {
       "_options_labels": [
        "Any",
        "Arcbolt Grenade",
        "Pulse Grenade",
        "Storm Grenade"
       ],
       "index": 3,
       "layout": "IPY_MODEL_6af5da9fc9d24e36b9ec1b19ebb2b540",
       "style": "IPY_MODEL_2a2066eed89a464db195fbbe2cfefd4f"
      }
     },
     "a0361a3e49d3464188e07bf7cd697c25": {
      "model_module": "@jupyter-widgets/controls",
      "model_module_version": "1.5.0",
      "model_name": "DropdownModel",
      "state": {
       "_options_labels": [
        "Any"
       ],
       "disabled": true,
       "index": 0,
       "layout": "IPY_MODEL_877bc0c0584d410f900fe24ec6020b1b",
       "style": "IPY_MODEL_4dc4fa447e524ce79dec0b3fb6e29026"
      }
     },
     "a06bf18d43ed4721856415deadcf5c44": {
      "model_module": "@jupyter-widgets/controls",
      "model_module_version": "1.5.0",
      "model_name": "DropdownModel",
      "state": {
       "_options_labels": [
        "Any",
        "Kinetic",
        "Energy",
        "Power"
       ],
       "index": 3,
       "layout": "IPY_MODEL_28a4dff5d61e4497bc87fa083c188e0b",
       "style": "IPY_MODEL_128325cb281f418b87ec5c09037ef9d6"
      }
     },
     "a071e46e1f914b28b3cee2f4a6d794cb": {
      "model_module": "@jupyter-widgets/controls",
      "model_module_version": "1.5.0",
      "model_name": "HBoxModel",
      "state": {
       "layout": "IPY_MODEL_80d68c35b9674cd4aa981e459444d1ce"
      }
     },
     "a095d7f355e54b948b1f506039058b21": {
      "model_module": "@jupyter-widgets/controls",
      "model_module_version": "1.5.0",
      "model_name": "DropdownModel",
      "state": {
       "_options_labels": [
        "Any",
        "Primary",
        "Secondary",
        "Heavy"
       ],
       "index": 3,
       "layout": "IPY_MODEL_28a4dff5d61e4497bc87fa083c188e0b",
       "style": "IPY_MODEL_5be8bbacc8b54576b12e8d9a95316386"
      }
     },
     "a0c0efb0aadf417b815c6a1474d6a491": {
      "model_module": "@jupyter-widgets/controls",
      "model_module_version": "1.5.0",
      "model_name": "DropdownModel",
      "state": {
       "_options_labels": [
        "Multiple Options",
        "Primary",
        "Secondary",
        "Heavy"
       ],
       "index": 0,
       "layout": "IPY_MODEL_28a4dff5d61e4497bc87fa083c188e0b",
       "style": "IPY_MODEL_42c3d9a884794701b5e7809f05b10c13"
      }
     },
     "a13bf3501bc64ba4a48f631d5a1ac453": {
      "model_module": "@jupyter-widgets/controls",
      "model_module_version": "1.5.0",
      "model_name": "DropdownModel",
      "state": {
       "_options_labels": [
        "Multiple Options",
        "Primary",
        "Secondary",
        "Heavy"
       ],
       "index": 0,
       "layout": "IPY_MODEL_28a4dff5d61e4497bc87fa083c188e0b",
       "style": "IPY_MODEL_7f51b2d5bccc4415a24ba440e9dc4321"
      }
     },
     "a18e22668a6a454190f4c6e50874125e": {
      "model_module": "@jupyter-widgets/controls",
      "model_module_version": "1.5.0",
      "model_name": "LabelModel",
      "state": {
       "layout": "IPY_MODEL_3352d11b467d4e95a08e9871c6a0ffe1",
       "style": "IPY_MODEL_6f648730d4fd47b0a4892fc8d3a1091b",
       "value": "Weapon Requirements:"
      }
     },
     "a1c6182e1ef4426090310867a759ea17": {
      "model_module": "@jupyter-widgets/controls",
      "model_module_version": "1.5.0",
      "model_name": "DescriptionStyleModel",
      "state": {
       "description_width": ""
      }
     },
     "a1f148b4a0d84062acd2774698ea0ed3": {
      "model_module": "@jupyter-widgets/controls",
      "model_module_version": "1.5.0",
      "model_name": "DropdownModel",
      "state": {
       "index": null,
       "layout": "IPY_MODEL_8388e012526147e7946ab52e3bfa7d59",
       "style": "IPY_MODEL_848a3683006b4ec8b81a63b39de92170"
      }
     },
     "a1fbab9861534f1fb52763fbc89ce774": {
      "model_module": "@jupyter-widgets/base",
      "model_module_version": "1.2.0",
      "model_name": "LayoutModel",
      "state": {
       "border": "1px solid white",
       "min_width": "250px",
       "padding": "10px",
       "width": "15%"
      }
     },
     "a2009a2c126f4558865afe4d1a7cb6c5": {
      "model_module": "@jupyter-widgets/controls",
      "model_module_version": "1.5.0",
      "model_name": "HTMLModel",
      "state": {
       "layout": "IPY_MODEL_2ea0a06f8a634cd7a113256b00578777",
       "style": "IPY_MODEL_d3d8ee351e3d4848be563963a6104050",
       "value": "<b>EDIT REQUIREMENTS</b>"
      }
     },
     "a231bd6d6685449390a39478fa2a0adb": {
      "model_module": "@jupyter-widgets/controls",
      "model_module_version": "1.5.0",
      "model_name": "DescriptionStyleModel",
      "state": {
       "description_width": ""
      }
     },
     "a23c8d9a2b18485eb8a6887af4d72032": {
      "model_module": "@jupyter-widgets/base",
      "model_module_version": "1.2.0",
      "model_name": "LayoutModel",
      "state": {}
     },
     "a2490665930b4ffcb3692a818f40b5ef": {
      "model_module": "@jupyter-widgets/base",
      "model_module_version": "1.2.0",
      "model_name": "LayoutModel",
      "state": {}
     },
     "a320d7fb069c4e35897d6efcbe613fe4": {
      "model_module": "@jupyter-widgets/controls",
      "model_module_version": "1.5.0",
      "model_name": "LabelModel",
      "state": {
       "layout": "IPY_MODEL_66b2da90212742f4b0422627b067d40d",
       "style": "IPY_MODEL_de70846adc644e46a659f3d56809e79e",
       "value": "Subclass:"
      }
     },
     "a347c830c0af426492da81cb02652cea": {
      "model_module": "@jupyter-widgets/controls",
      "model_module_version": "1.5.0",
      "model_name": "DropdownModel",
      "state": {
       "_options_labels": [
        "Multiple Options",
        "Solar",
        "Void",
        "Arc"
       ],
       "index": 0,
       "layout": "IPY_MODEL_28a4dff5d61e4497bc87fa083c188e0b",
       "style": "IPY_MODEL_2c6e9630808f4bd29e138fe33b0baac9"
      }
     },
     "a3b47ccb969c4111833328dd34fa326b": {
      "model_module": "@jupyter-widgets/controls",
      "model_module_version": "1.5.0",
      "model_name": "DescriptionStyleModel",
      "state": {
       "description_width": ""
      }
     },
     "a3e8f41dbf3f4aa0b82ab0e9051e2de0": {
      "model_module": "@jupyter-widgets/controls",
      "model_module_version": "1.5.0",
      "model_name": "DropdownModel",
      "state": {
       "_options_labels": [
        "Any",
        "Hand Cannon",
        "Auto Rifle",
        "Scout Rifle",
        "Pulse Rifle",
        "Sidearm",
        "Submachine Gun",
        "Combt Bow",
        "Sniper Rifle",
        "Shotgun",
        "Fusion Rifle",
        "Grenade Launcher",
        "Machine Gun",
        "Sword",
        "Grenade Launcher",
        "Rocket Launcher",
        "Linear Fusion Rifle"
       ],
       "index": 0,
       "layout": "IPY_MODEL_28a4dff5d61e4497bc87fa083c188e0b",
       "style": "IPY_MODEL_9a0925e6799b4cdc8257dcafc83f115f"
      }
     },
     "a4754896aa41444bace56d25b354d5a7": {
      "model_module": "@jupyter-widgets/controls",
      "model_module_version": "1.5.0",
      "model_name": "LabelModel",
      "state": {
       "layout": "IPY_MODEL_3352d11b467d4e95a08e9871c6a0ffe1",
       "style": "IPY_MODEL_06607bae9c8747ff857a267744f3aaa8",
       "value": "Weapon Requirements:"
      }
     },
     "a51b2e3c91824a6c92a77ab137df2377": {
      "model_module": "@jupyter-widgets/base",
      "model_module_version": "1.2.0",
      "model_name": "LayoutModel",
      "state": {}
     },
     "a60f7a5c6310451eae3be37baa0934b9": {
      "model_module": "@jupyter-widgets/controls",
      "model_module_version": "1.5.0",
      "model_name": "DescriptionStyleModel",
      "state": {
       "description_width": ""
      }
     },
     "a6358911d8fe4a5e9b799e7f97239ba6": {
      "model_module": "@jupyter-widgets/base",
      "model_module_version": "1.2.0",
      "model_name": "LayoutModel",
      "state": {
       "width": "20%"
      }
     },
     "a6917788579041a9a6971a217b54cbe7": {
      "model_module": "@jupyter-widgets/controls",
      "model_module_version": "1.5.0",
      "model_name": "DescriptionStyleModel",
      "state": {
       "description_width": ""
      }
     },
     "a6a2d3ac5edb43bb9f7ef41b776df5d1": {
      "model_module": "@jupyter-widgets/controls",
      "model_module_version": "1.5.0",
      "model_name": "DropdownModel",
      "state": {
       "_options_labels": [
        "Any",
        "Kinetic",
        "Energy",
        "Power"
       ],
       "index": 0,
       "layout": "IPY_MODEL_28a4dff5d61e4497bc87fa083c188e0b",
       "style": "IPY_MODEL_f9c5dbd2867e42a990726167bbf48834"
      }
     },
     "a782735d8a6a4bee8d20dff0935395ee": {
      "model_module": "@jupyter-widgets/base",
      "model_module_version": "1.2.0",
      "model_name": "LayoutModel",
      "state": {}
     },
     "a79202aa047a4ae7a716c05f98c8b4e4": {
      "model_module": "@jupyter-widgets/base",
      "model_module_version": "1.2.0",
      "model_name": "LayoutModel",
      "state": {}
     },
     "a79a2ebffc154c65afe1d6804600f19a": {
      "model_module": "@jupyter-widgets/controls",
      "model_module_version": "1.5.0",
      "model_name": "DescriptionStyleModel",
      "state": {
       "description_width": ""
      }
     },
     "a85244bf358b40be8dcef62790fefb43": {
      "model_module": "@jupyter-widgets/base",
      "model_module_version": "1.2.0",
      "model_name": "LayoutModel",
      "state": {}
     },
     "a8cea730fc9f451ca459d863d1aa2c2c": {
      "model_module": "@jupyter-widgets/base",
      "model_module_version": "1.2.0",
      "model_name": "LayoutModel",
      "state": {}
     },
     "a935b6f5471c47859f2890e3c02b729d": {
      "model_module": "@jupyter-widgets/controls",
      "model_module_version": "1.5.0",
      "model_name": "LabelModel",
      "state": {
       "layout": "IPY_MODEL_78fcd30ba822404491cca269880bbb3b",
       "style": "IPY_MODEL_86105bf8c61e4659a20dc597c132ebd1",
       "value": "Tree:"
      }
     },
     "a9c7d7eb0b1748d984aba08a2c6e7815": {
      "model_module": "@jupyter-widgets/base",
      "model_module_version": "1.2.0",
      "model_name": "LayoutModel",
      "state": {}
     },
     "aa349ca423ca4b7b8e938a8466ae9e23": {
      "model_module": "@jupyter-widgets/controls",
      "model_module_version": "1.5.0",
      "model_name": "DropdownModel",
      "state": {
       "index": null,
       "layout": "IPY_MODEL_0ef24ecb94d04c929a216bd2bd72a9ea",
       "style": "IPY_MODEL_ddcacb2a9920463fb53ab6764810d77b"
      }
     },
     "aaafd6746d9246dab794cf88ac70febc": {
      "model_module": "@jupyter-widgets/controls",
      "model_module_version": "1.5.0",
      "model_name": "DescriptionStyleModel",
      "state": {
       "description_width": ""
      }
     },
     "aab09a9a1e02415993597eebad92f343": {
      "model_module": "@jupyter-widgets/controls",
      "model_module_version": "1.5.0",
      "model_name": "DropdownModel",
      "state": {
       "_options_labels": [
        "Any",
        "Kinetic",
        "Solar",
        "Void",
        "Arc"
       ],
       "index": 0,
       "layout": "IPY_MODEL_28a4dff5d61e4497bc87fa083c188e0b",
       "style": "IPY_MODEL_8ae8213ae7294b20ba0b6f2505c5db94"
      }
     },
     "aaef7648b2a1450ca36b49d5706adc21": {
      "model_module": "@jupyter-widgets/base",
      "model_module_version": "1.2.0",
      "model_name": "LayoutModel",
      "state": {}
     },
     "ab14b1369fc748cc974d1868bc2639ee": {
      "model_module": "@jupyter-widgets/base",
      "model_module_version": "1.2.0",
      "model_name": "LayoutModel",
      "state": {}
     },
     "abc9dc8b07b241b39f1c719a8bfb1d8c": {
      "model_module": "@jupyter-widgets/controls",
      "model_module_version": "1.5.0",
      "model_name": "DropdownModel",
      "state": {
       "_options_labels": [
        "Hand Cannon",
        "Auto Rifle",
        "Scout Rifle",
        "Pulse Rifle",
        "Sidearm",
        "Submachine Gun",
        "Combt Bow"
       ],
       "index": 0,
       "layout": "IPY_MODEL_28a4dff5d61e4497bc87fa083c188e0b",
       "style": "IPY_MODEL_5ebec9a47d734995bf948c6a9cde4975"
      }
     },
     "abe837fde2ad42d7b27a551f9d695032": {
      "model_module": "@jupyter-widgets/controls",
      "model_module_version": "1.5.0",
      "model_name": "DescriptionStyleModel",
      "state": {
       "description_width": ""
      }
     },
     "ac522a5d7ce145968e44542f17f2f3eb": {
      "model_module": "@jupyter-widgets/controls",
      "model_module_version": "1.5.0",
      "model_name": "DescriptionStyleModel",
      "state": {
       "description_width": ""
      }
     },
     "ac69430579084fc5b407f4bc5a6350fa": {
      "model_module": "@jupyter-widgets/controls",
      "model_module_version": "1.5.0",
      "model_name": "DropdownModel",
      "state": {
       "_options_labels": [
        "Any",
        "Patrol",
        "Gambit",
        "Reckoning",
        "Menagerie",
        "Vex Offensive",
        "Raid",
        "Strike",
        "Nightfall",
        "Crucible",
        "Forge"
       ],
       "index": 0,
       "layout": "IPY_MODEL_027a373d9e0a4de79bd892fbc32064fc",
       "style": "IPY_MODEL_b1e63b5ade384d418dfd81bad9fe0545"
      }
     },
     "ad1de99b1f0a47b18a1d0d8c044028d5": {
      "model_module": "@jupyter-widgets/controls",
      "model_module_version": "1.5.0",
      "model_name": "DescriptionStyleModel",
      "state": {
       "description_width": ""
      }
     },
     "adb89e9f94604ae398626522510459f3": {
      "model_module": "@jupyter-widgets/controls",
      "model_module_version": "1.5.0",
      "model_name": "HTMLModel",
      "state": {
       "layout": "IPY_MODEL_f7d653bf25994f508488c7ccb41762a0",
       "style": "IPY_MODEL_918520f69cff4670964978c216d00b13",
       "value": "<b>Weapon Requirements</b>"
      }
     },
     "ae2e5254eb2e44658dc5ce62358f7a1c": {
      "model_module": "@jupyter-widgets/controls",
      "model_module_version": "1.5.0",
      "model_name": "LabelModel",
      "state": {
       "layout": "IPY_MODEL_3352d11b467d4e95a08e9871c6a0ffe1",
       "style": "IPY_MODEL_8838fd5622724c16b62a49ed51325c3e",
       "value": "Weapon Requirements:"
      }
     },
     "af2d2b991be84314a27b6dc857822d87": {
      "model_module": "@jupyter-widgets/controls",
      "model_module_version": "1.5.0",
      "model_name": "DropdownModel",
      "state": {
       "_options_labels": [
        "Any",
        "Hand Cannon",
        "Auto Rifle",
        "Scout Rifle",
        "Pulse Rifle",
        "Sidearm",
        "Submachine Gun",
        "Combt Bow",
        "Sniper Rifle",
        "Shotgun",
        "Fusion Rifle",
        "Grenade Launcher",
        "Machine Gun",
        "Sword",
        "Grenade Launcher",
        "Rocket Launcher",
        "Linear Fusion Rifle"
       ],
       "index": 0,
       "layout": "IPY_MODEL_877bc0c0584d410f900fe24ec6020b1b",
       "style": "IPY_MODEL_ef2f09497cb04af69002fe273fce5bce"
      }
     },
     "af6b21216ff04666bf2b48da7e36468e": {
      "model_module": "@jupyter-widgets/controls",
      "model_module_version": "1.5.0",
      "model_name": "HBoxModel",
      "state": {
       "children": [
        "IPY_MODEL_3187e1671383496ca2f026bf495592a3",
        "IPY_MODEL_cc201b6a9845465a98f1b042d63cac8c",
        "IPY_MODEL_50ddfe776e6d4fc0acd0665af88c4762",
        "IPY_MODEL_531d5c259c3c427e808eb67026f4e467",
        "IPY_MODEL_ec2e1f0adf3c4bab990f3251f83633e2"
       ],
       "layout": "IPY_MODEL_d550c70fe90c43bbb2890756f96048b3"
      }
     },
     "af72fb7f86b44868a961dcb8f54dd94f": {
      "model_module": "@jupyter-widgets/controls",
      "model_module_version": "1.5.0",
      "model_name": "DescriptionStyleModel",
      "state": {
       "description_width": ""
      }
     },
     "af8ce5647c79420d9db940d58efcb3b9": {
      "model_module": "@jupyter-widgets/base",
      "model_module_version": "1.2.0",
      "model_name": "LayoutModel",
      "state": {}
     },
     "af936aaa03c14020a5807ea8aec150dc": {
      "model_module": "@jupyter-widgets/controls",
      "model_module_version": "1.5.0",
      "model_name": "DescriptionStyleModel",
      "state": {
       "description_width": ""
      }
     },
     "afb9bd403dea4027939902013eff5f24": {
      "model_module": "@jupyter-widgets/controls",
      "model_module_version": "1.5.0",
      "model_name": "LabelModel",
      "state": {
       "layout": "IPY_MODEL_bc5202661809426f8f411a682ae0d301",
       "style": "IPY_MODEL_45a5080848a14c59830c6ab848bd6ad6",
       "value": "Grenade:"
      }
     },
     "afc664fcfa6641faaf19420ee4318ce2": {
      "model_module": "@jupyter-widgets/controls",
      "model_module_version": "1.5.0",
      "model_name": "DropdownModel",
      "state": {
       "_options_labels": [
        "Any",
        "Kinetic",
        "Solar",
        "Void",
        "Arc"
       ],
       "index": 2,
       "layout": "IPY_MODEL_28a4dff5d61e4497bc87fa083c188e0b",
       "style": "IPY_MODEL_65a8eeb1847e4083bdef6d4029e0d60b"
      }
     },
     "b1727da7c18d4502bdeca7f14ffe27c9": {
      "model_module": "@jupyter-widgets/controls",
      "model_module_version": "1.5.0",
      "model_name": "HTMLModel",
      "state": {
       "layout": "IPY_MODEL_561da80bb6634a96a4646da24da97855",
       "style": "IPY_MODEL_63ea273714ef4ff1b679a29a49af62ff",
       "value": "Objective"
      }
     },
     "b1d8cfa9769b4c868e09e1085021aa2a": {
      "model_module": "@jupyter-widgets/controls",
      "model_module_version": "1.5.0",
      "model_name": "DescriptionStyleModel",
      "state": {
       "description_width": ""
      }
     },
     "b1e63b5ade384d418dfd81bad9fe0545": {
      "model_module": "@jupyter-widgets/controls",
      "model_module_version": "1.5.0",
      "model_name": "DescriptionStyleModel",
      "state": {
       "description_width": ""
      }
     },
     "b1fcef2571ae4d7cb90c8c4f9b0d20a8": {
      "model_module": "@jupyter-widgets/controls",
      "model_module_version": "1.5.0",
      "model_name": "HTMLModel",
      "state": {
       "layout": "IPY_MODEL_de07c4297a8f4f07959f9b03b68a4696",
       "style": "IPY_MODEL_d368e8561ee54ebfa4d1b2bea46e4714",
       "value": "<b>Activity Requirements:</b>"
      }
     },
     "b208f080e5fe4d16bf1d39f4826f2536": {
      "model_module": "@jupyter-widgets/controls",
      "model_module_version": "1.5.0",
      "model_name": "LabelModel",
      "state": {
       "layout": "IPY_MODEL_c6b35804300940e797ccc4d057bfaf5a",
       "style": "IPY_MODEL_f09b84165d5a4599bd08505eb026b3d5",
       "value": "Ammo:"
      }
     },
     "b21afaee46874121a3e08787feef190b": {
      "model_module": "@jupyter-widgets/controls",
      "model_module_version": "1.5.0",
      "model_name": "VBoxModel",
      "state": {
       "children": [
        "IPY_MODEL_906630a191c34269b52091e76a05eecc",
        "IPY_MODEL_9264df57eb1c4332aa5b4c3be8930d06",
        "IPY_MODEL_56c56ff04c2748d0ab367e30dc72de9d"
       ],
       "layout": "IPY_MODEL_2e10ac058b864942846356c9d6c8caa7"
      }
     },
     "b4989e02b1df4dcc8f42ef956f65960d": {
      "model_module": "@jupyter-widgets/controls",
      "model_module_version": "1.5.0",
      "model_name": "HBoxModel",
      "state": {
       "children": [
        "IPY_MODEL_27b4c9127dbd4d46a250c0b679d1a34c",
        "IPY_MODEL_b4f45fd169c44b37abf0f12fbe5428ac",
        "IPY_MODEL_487451b7f32e4571abbc80348f1f4b26",
        "IPY_MODEL_309258aaac9245708a09803995dbdb0d",
        "IPY_MODEL_34a3444652b54e51aec9c0241ae8e008"
       ],
       "layout": "IPY_MODEL_c139c3629795466bb832aa81b9e94d1c"
      }
     },
     "b4c4690a9b404ef7b2f9a7c03794c7fe": {
      "model_module": "@jupyter-widgets/controls",
      "model_module_version": "1.5.0",
      "model_name": "DescriptionStyleModel",
      "state": {
       "description_width": ""
      }
     },
     "b4e298aacf3d417096b4f82cce80581a": {
      "model_module": "@jupyter-widgets/base",
      "model_module_version": "1.2.0",
      "model_name": "LayoutModel",
      "state": {}
     },
     "b4f45fd169c44b37abf0f12fbe5428ac": {
      "model_module": "@jupyter-widgets/controls",
      "model_module_version": "1.5.0",
      "model_name": "DropdownModel",
      "state": {
       "_options_labels": [
        "Clear Options"
       ],
       "index": 0,
       "layout": "IPY_MODEL_28a4dff5d61e4497bc87fa083c188e0b",
       "style": "IPY_MODEL_f8364de99c1b413a834273684be6e08f"
      }
     },
     "b5e39f2090ae4c20b1f8a1d0821dd860": {
      "model_module": "@jupyter-widgets/controls",
      "model_module_version": "1.5.0",
      "model_name": "HBoxModel",
      "state": {
       "children": [
        "IPY_MODEL_ee2391d2ddec4bfd9bb54e0a6d1003f6",
        "IPY_MODEL_4c17c3ef87a74b7a96b0b84855bdd454",
        "IPY_MODEL_8e8fce60a6e5470c842b034830080243",
        "IPY_MODEL_f939dd4ce9cf47e28cce37b19deefed6",
        "IPY_MODEL_9dc48a9849604d0195aa3cbf692bdb49"
       ],
       "layout": "IPY_MODEL_9374abe7c769465da3d447953c5647e0"
      }
     },
     "b6271445eec34446926154faccd40807": {
      "model_module": "@jupyter-widgets/controls",
      "model_module_version": "1.5.0",
      "model_name": "DropdownModel",
      "state": {
       "_options_labels": [
        "Kinetic"
       ],
       "index": 0,
       "layout": "IPY_MODEL_28a4dff5d61e4497bc87fa083c188e0b",
       "style": "IPY_MODEL_3e107d2631774dc39333ab6bb562ee65"
      }
     },
     "b63a28be9295432c9272375fa077c25a": {
      "model_module": "@jupyter-widgets/controls",
      "model_module_version": "1.5.0",
      "model_name": "VBoxModel",
      "state": {
       "children": [
        "IPY_MODEL_63801f594e104f92b3278100209f5c60",
        "IPY_MODEL_8a9fd7dae1614f0c9ead3ba98c69ed13",
        "IPY_MODEL_897c7b390d364144b1b8406d8228779a",
        "IPY_MODEL_858a422fdb434d01994f3eac5eb25a32",
        "IPY_MODEL_e956dd0e50804f82b4eeab1137a5867b"
       ],
       "layout": "IPY_MODEL_e8ecc228af8f4c0aa25400a32da26a12"
      }
     },
     "b64552c20c474b99abcd5dd66a964836": {
      "model_module": "@jupyter-widgets/controls",
      "model_module_version": "1.5.0",
      "model_name": "LabelModel",
      "state": {
       "layout": "IPY_MODEL_4ff157340c974be7abf2da8272c2e913",
       "style": "IPY_MODEL_0ce200a7e99f448ba312bd3408171820",
       "value": "Tree:"
      }
     },
     "b65d95f1226042e5a8727dbea88ff1ae": {
      "model_module": "@jupyter-widgets/controls",
      "model_module_version": "1.5.0",
      "model_name": "LabelModel",
      "state": {
       "layout": "IPY_MODEL_3352d11b467d4e95a08e9871c6a0ffe1",
       "style": "IPY_MODEL_8bdfa8e71434430294b43239f32041e2",
       "value": "Weapon Requirements:"
      }
     },
     "b67f6bf392314b91bafa81af195428fb": {
      "model_module": "@jupyter-widgets/controls",
      "model_module_version": "1.5.0",
      "model_name": "HBoxModel",
      "state": {
       "children": [
        "IPY_MODEL_a18e22668a6a454190f4c6e50874125e",
        "IPY_MODEL_70441646108a4cb08369b4e845b4d4a7",
        "IPY_MODEL_00b3208de3934b768731433a24fd3214",
        "IPY_MODEL_1de3bd6174af4e44b77160e3e0e3fa79",
        "IPY_MODEL_d52eb3f3923c489a9d749d195c436f83"
       ],
       "layout": "IPY_MODEL_a8cea730fc9f451ca459d863d1aa2c2c"
      }
     },
     "b69d4d56c2474eb7a37d261cd89fe765": {
      "model_module": "@jupyter-widgets/controls",
      "model_module_version": "1.5.0",
      "model_name": "HBoxModel",
      "state": {
       "children": [
        "IPY_MODEL_da923f82317a4547a933f691743aac3e",
        "IPY_MODEL_bfc927b847fe42c798134643d64c6ff9",
        "IPY_MODEL_a347c830c0af426492da81cb02652cea",
        "IPY_MODEL_33246558759c44d589ea9e1762391ad8",
        "IPY_MODEL_2ecd671ef46840c1b9d5fb081fb80278"
       ],
       "layout": "IPY_MODEL_d0f0157b704744c19a5ae65bea35c656"
      }
     },
     "b6bc6959072d4a62a61c65ecb802e99a": {
      "model_module": "@jupyter-widgets/controls",
      "model_module_version": "1.5.0",
      "model_name": "HTMLModel",
      "state": {
       "layout": "IPY_MODEL_f2ca2c0250f74bbdaea4de91cba5b11f",
       "style": "IPY_MODEL_c4048311db8d4651abb1dff62f970f88",
       "value": "<b>Activity Requirements:</b>"
      }
     },
     "b6c67a7311444e43b9d88890630c0871": {
      "model_module": "@jupyter-widgets/controls",
      "model_module_version": "1.5.0",
      "model_name": "DescriptionStyleModel",
      "state": {
       "description_width": ""
      }
     },
     "b6d2eb04c5fa4636988825be6b0de0d4": {
      "model_module": "@jupyter-widgets/controls",
      "model_module_version": "1.5.0",
      "model_name": "LabelModel",
      "state": {
       "layout": "IPY_MODEL_3352d11b467d4e95a08e9871c6a0ffe1",
       "style": "IPY_MODEL_28f62fff55e44b0db69341de8c6b624b",
       "value": "Weapon Requirements:"
      }
     },
     "b7288d19355a44318ad691fff56bce82": {
      "model_module": "@jupyter-widgets/controls",
      "model_module_version": "1.5.0",
      "model_name": "LabelModel",
      "state": {
       "layout": "IPY_MODEL_3352d11b467d4e95a08e9871c6a0ffe1",
       "style": "IPY_MODEL_c58de4866c8c4101b5df092efe1a6063",
       "value": "Weapon Requirements:"
      }
     },
     "b728f8fd8af140dab28ebf03c66d8847": {
      "model_module": "@jupyter-widgets/controls",
      "model_module_version": "1.5.0",
      "model_name": "DropdownModel",
      "state": {
       "_options_labels": [
        "Any",
        "Kinetic",
        "Solar",
        "Void",
        "Arc"
       ],
       "index": 0,
       "layout": "IPY_MODEL_877bc0c0584d410f900fe24ec6020b1b",
       "style": "IPY_MODEL_bc75e3f24e7c47989c25d71bafb6665a"
      }
     },
     "b79d855a956944f98531a4e8510db9c1": {
      "model_module": "@jupyter-widgets/controls",
      "model_module_version": "1.5.0",
      "model_name": "DescriptionStyleModel",
      "state": {
       "description_width": ""
      }
     },
     "b88cd1fe21d6472ca15ff430ebbb4caf": {
      "model_module": "@jupyter-widgets/controls",
      "model_module_version": "1.5.0",
      "model_name": "DescriptionStyleModel",
      "state": {
       "description_width": ""
      }
     },
     "b95dcd12d3894052a54b2c74a86b4d8c": {
      "model_module": "@jupyter-widgets/controls",
      "model_module_version": "1.5.0",
      "model_name": "DescriptionStyleModel",
      "state": {
       "description_width": ""
      }
     },
     "b9a2aef7cef8482592b9b1494cd2a4a0": {
      "model_module": "@jupyter-widgets/controls",
      "model_module_version": "1.5.0",
      "model_name": "DropdownModel",
      "state": {
       "_options_labels": [
        "Any"
       ],
       "disabled": true,
       "index": 0,
       "layout": "IPY_MODEL_235da1372ec342c09b72167af89c5254",
       "style": "IPY_MODEL_e869bef20af842eabfa29c730aacd784"
      }
     },
     "b9aa9f0baa684ef19b1dbc6e7f41e5c4": {
      "model_module": "@jupyter-widgets/controls",
      "model_module_version": "1.5.0",
      "model_name": "DescriptionStyleModel",
      "state": {
       "description_width": ""
      }
     },
     "b9afd6a9a9d24b2f95caefa43695c3e2": {
      "model_module": "@jupyter-widgets/controls",
      "model_module_version": "1.5.0",
      "model_name": "DescriptionStyleModel",
      "state": {
       "description_width": ""
      }
     },
     "b9df99a9d98f4b429651ccf81e61b08c": {
      "model_module": "@jupyter-widgets/controls",
      "model_module_version": "1.5.0",
      "model_name": "DescriptionStyleModel",
      "state": {
       "description_width": ""
      }
     },
     "ba7c0018c2e8483b97ac25561e74b7fb": {
      "model_module": "@jupyter-widgets/controls",
      "model_module_version": "1.5.0",
      "model_name": "DescriptionStyleModel",
      "state": {
       "description_width": ""
      }
     },
     "bb1361f351294b9d920e7d4e69828526": {
      "model_module": "@jupyter-widgets/base",
      "model_module_version": "1.2.0",
      "model_name": "LayoutModel",
      "state": {}
     },
     "bb634fc18b494296b07a5de30b85b93e": {
      "model_module": "@jupyter-widgets/controls",
      "model_module_version": "1.5.0",
      "model_name": "DescriptionStyleModel",
      "state": {
       "description_width": ""
      }
     },
     "bbc30097c3414e6ab4dede23fd1b45fe": {
      "model_module": "@jupyter-widgets/controls",
      "model_module_version": "1.5.0",
      "model_name": "HTMLModel",
      "state": {
       "layout": "IPY_MODEL_da5e0bfacb614090a1602e3348bdd773",
       "style": "IPY_MODEL_d1be041635c840699741e441d86bc24d",
       "value": "<b>Class Requirements</b>"
      }
     },
     "bc209decaae84e4589ab02aa642b2625": {
      "model_module": "@jupyter-widgets/controls",
      "model_module_version": "1.5.0",
      "model_name": "LabelModel",
      "state": {
       "layout": "IPY_MODEL_782ae60d35364324bea412511167a0cf",
       "style": "IPY_MODEL_abe837fde2ad42d7b27a551f9d695032",
       "value": "Weapon:"
      }
     },
     "bc2664e91189481cabbdd1fb8bc2fe14": {
      "model_module": "@jupyter-widgets/controls",
      "model_module_version": "1.5.0",
      "model_name": "VBoxModel",
      "state": {
       "children": [
        "IPY_MODEL_b1fcef2571ae4d7cb90c8c4f9b0d20a8",
        "IPY_MODEL_cf0cef44e76d49c0bb8324d904541175",
        "IPY_MODEL_42f63d85c64342eb8080260f24c2acc9"
       ],
       "layout": "IPY_MODEL_5da8bb887d954183aa3f0b5b7efeccda"
      }
     },
     "bc306453386b4996abbd018f6f79323e": {
      "model_module": "@jupyter-widgets/controls",
      "model_module_version": "1.5.0",
      "model_name": "DescriptionStyleModel",
      "state": {
       "description_width": ""
      }
     },
     "bc5202661809426f8f411a682ae0d301": {
      "model_module": "@jupyter-widgets/base",
      "model_module_version": "1.2.0",
      "model_name": "LayoutModel",
      "state": {}
     },
     "bc68f3f2ff94453da0fe4cc775143a79": {
      "model_module": "@jupyter-widgets/controls",
      "model_module_version": "1.5.0",
      "model_name": "VBoxModel",
      "state": {
       "children": [
        "IPY_MODEL_07ea868ff1a94c9da286927823bfd1b0",
        "IPY_MODEL_43d0bac5c99d4d95aaba873043fcc36a",
        "IPY_MODEL_09de33d87e33406a85205ef3f61ac6a5",
        "IPY_MODEL_ddee652efdd647e5aac1e1ccc66bc477"
       ],
       "layout": "IPY_MODEL_2da30c3b8df94dd88b8e8686e4d6b6c8"
      }
     },
     "bc75e3f24e7c47989c25d71bafb6665a": {
      "model_module": "@jupyter-widgets/controls",
      "model_module_version": "1.5.0",
      "model_name": "DescriptionStyleModel",
      "state": {
       "description_width": ""
      }
     },
     "bcd8d48d6d544397a1ef19e61adb2296": {
      "model_module": "@jupyter-widgets/controls",
      "model_module_version": "1.5.0",
      "model_name": "DropdownModel",
      "state": {
       "_options_labels": [
        "Any",
        "Hand Cannon",
        "Auto Rifle",
        "Scout Rifle",
        "Pulse Rifle",
        "Sidearm",
        "Submachine Gun",
        "Combt Bow",
        "Sniper Rifle",
        "Shotgun",
        "Fusion Rifle",
        "Grenade Launcher",
        "Machine Gun",
        "Sword",
        "Grenade Launcher",
        "Rocket Launcher",
        "Linear Fusion Rifle"
       ],
       "index": 5,
       "layout": "IPY_MODEL_28a4dff5d61e4497bc87fa083c188e0b",
       "style": "IPY_MODEL_ccc9f2a89f6e40fda99708c9ee786d5d"
      }
     },
     "bce05553000843108cda570778951a1e": {
      "model_module": "@jupyter-widgets/base",
      "model_module_version": "1.2.0",
      "model_name": "LayoutModel",
      "state": {}
     },
     "bd443acbd5774976a23831c7a7ec067c": {
      "model_module": "@jupyter-widgets/controls",
      "model_module_version": "1.5.0",
      "model_name": "DescriptionStyleModel",
      "state": {
       "description_width": ""
      }
     },
     "bd5207bec27d4982a1b3070a30191858": {
      "model_module": "@jupyter-widgets/controls",
      "model_module_version": "1.5.0",
      "model_name": "DropdownModel",
      "state": {
       "index": null,
       "layout": "IPY_MODEL_279018d0158b473ba2f236bb9e7fecd7",
       "style": "IPY_MODEL_f23082c626fd458abf83765bb5006e33"
      }
     },
     "bdf3dcd1aef54d8fa2c20b27b40e9dcf": {
      "model_module": "@jupyter-widgets/controls",
      "model_module_version": "1.5.0",
      "model_name": "HBoxModel",
      "state": {
       "children": [
        "IPY_MODEL_94ba5e08d66f4de39c480f479f289a56",
        "IPY_MODEL_3024c980f1934fe28211ec4b47e5bd47",
        "IPY_MODEL_770be7e30a534d98ba87edea7e5cd3c6",
        "IPY_MODEL_74be095b3f3c4362a74c489fa70a3c2b",
        "IPY_MODEL_00ae3beaaedd46e0aad9c0cb4cdbe8e1"
       ],
       "layout": "IPY_MODEL_dd2a554c0e0143c882195948db15e4ce"
      }
     },
     "be03cd85c55440f7a2876a9a2083b7e4": {
      "model_module": "@jupyter-widgets/controls",
      "model_module_version": "1.5.0",
      "model_name": "DropdownModel",
      "state": {
       "_options_labels": [
        "Kinetic"
       ],
       "index": 0,
       "layout": "IPY_MODEL_28a4dff5d61e4497bc87fa083c188e0b",
       "style": "IPY_MODEL_89d38515c97b42c386823bd35d408aae"
      }
     },
     "be58989958de4238a5e373e6a7833411": {
      "model_module": "@jupyter-widgets/controls",
      "model_module_version": "1.5.0",
      "model_name": "DescriptionStyleModel",
      "state": {
       "description_width": ""
      }
     },
     "be96f3d7f6cb413f9415ce7946c3e002": {
      "model_module": "@jupyter-widgets/controls",
      "model_module_version": "1.5.0",
      "model_name": "DescriptionStyleModel",
      "state": {
       "description_width": ""
      }
     },
     "bea381b85ece4580b75f524c390c496d": {
      "model_module": "@jupyter-widgets/controls",
      "model_module_version": "1.5.0",
      "model_name": "DescriptionStyleModel",
      "state": {
       "description_width": ""
      }
     },
     "bea7c055991d49fcac5867195eb42b49": {
      "model_module": "@jupyter-widgets/base",
      "model_module_version": "1.2.0",
      "model_name": "LayoutModel",
      "state": {}
     },
     "bef253a2056b4508af954901d9d4adef": {
      "model_module": "@jupyter-widgets/controls",
      "model_module_version": "1.5.0",
      "model_name": "DescriptionStyleModel",
      "state": {
       "description_width": ""
      }
     },
     "bf31b84f47e44fb183e6f7afffdd73d6": {
      "model_module": "@jupyter-widgets/controls",
      "model_module_version": "1.5.0",
      "model_name": "DropdownModel",
      "state": {
       "_options_labels": [
        "Multiple Options",
        "Kinetic",
        "Solar",
        "Void",
        "Arc"
       ],
       "index": 1,
       "layout": "IPY_MODEL_28a4dff5d61e4497bc87fa083c188e0b",
       "style": "IPY_MODEL_7446dec5aa7e48808266b8dfbf998df2"
      }
     },
     "bf6f7275f49443c7b386918697ce6b82": {
      "model_module": "@jupyter-widgets/controls",
      "model_module_version": "1.5.0",
      "model_name": "DescriptionStyleModel",
      "state": {
       "description_width": ""
      }
     },
     "bf82db11ded245cf94b11c7bc82372dd": {
      "model_module": "@jupyter-widgets/controls",
      "model_module_version": "1.5.0",
      "model_name": "DescriptionStyleModel",
      "state": {
       "description_width": ""
      }
     },
     "bf88a3ed616b4765b3bd886181d37921": {
      "model_module": "@jupyter-widgets/base",
      "model_module_version": "1.2.0",
      "model_name": "LayoutModel",
      "state": {}
     },
     "bfc927b847fe42c798134643d64c6ff9": {
      "model_module": "@jupyter-widgets/controls",
      "model_module_version": "1.5.0",
      "model_name": "DropdownModel",
      "state": {
       "_options_labels": [
        "Power",
        "Not Power"
       ],
       "index": 1,
       "layout": "IPY_MODEL_28a4dff5d61e4497bc87fa083c188e0b",
       "style": "IPY_MODEL_09c7b86521cd44009d2f885b923dda5c"
      }
     },
     "bfe1644d30fd456fafffed9cf8a812dd": {
      "model_module": "@jupyter-widgets/base",
      "model_module_version": "1.2.0",
      "model_name": "LayoutModel",
      "state": {}
     },
     "bfe33341c650419facd739da67c19ebb": {
      "model_module": "@jupyter-widgets/controls",
      "model_module_version": "1.5.0",
      "model_name": "DescriptionStyleModel",
      "state": {
       "description_width": ""
      }
     },
     "c005775b7d974ae3bbe9473c0a5ba776": {
      "model_module": "@jupyter-widgets/controls",
      "model_module_version": "1.5.0",
      "model_name": "DropdownModel",
      "state": {
       "_options_labels": [
        "Any",
        "Patrol",
        "Gambit",
        "Reckoning",
        "Menagerie",
        "Vex Offensive",
        "Raid",
        "Strike",
        "Nightfall",
        "Crucible",
        "Forge"
       ],
       "index": 0,
       "layout": "IPY_MODEL_a6358911d8fe4a5e9b799e7f97239ba6",
       "style": "IPY_MODEL_bef253a2056b4508af954901d9d4adef"
      }
     },
     "c034fa5555074ca9b0b0398152fe50e1": {
      "model_module": "@jupyter-widgets/controls",
      "model_module_version": "1.5.0",
      "model_name": "DropdownModel",
      "state": {
       "_options_labels": [
        "Multiple Options",
        "Solar",
        "Void",
        "Arc"
       ],
       "index": 2,
       "layout": "IPY_MODEL_28a4dff5d61e4497bc87fa083c188e0b",
       "style": "IPY_MODEL_6d25d768de094f858dbdaa52de8c3cfa"
      }
     },
     "c062d1789ccc466698756fe1b317c92b": {
      "model_module": "@jupyter-widgets/base",
      "model_module_version": "1.2.0",
      "model_name": "LayoutModel",
      "state": {}
     },
     "c139c3629795466bb832aa81b9e94d1c": {
      "model_module": "@jupyter-widgets/base",
      "model_module_version": "1.2.0",
      "model_name": "LayoutModel",
      "state": {}
     },
     "c151a0ab31874e45a818f98eb776fe1e": {
      "model_module": "@jupyter-widgets/controls",
      "model_module_version": "1.5.0",
      "model_name": "DropdownModel",
      "state": {
       "_options_labels": [
        "Any"
       ],
       "disabled": true,
       "index": 0,
       "layout": "IPY_MODEL_4c6586203a284362a5146dc095dfc51e",
       "style": "IPY_MODEL_fbd9648ebf0349ba9be5249c34b6ef77"
      }
     },
     "c18bad1389394854986afced357106b4": {
      "model_module": "@jupyter-widgets/controls",
      "model_module_version": "1.5.0",
      "model_name": "HTMLModel",
      "state": {
       "layout": "IPY_MODEL_395d9f863a774999ab10caaa0eecd19a",
       "style": "IPY_MODEL_6b7563c150234ca29dd1b80fdc1c7e0f",
       "value": "Objective"
      }
     },
     "c222187e83d14a5a890d5b9e0988f200": {
      "model_module": "@jupyter-widgets/controls",
      "model_module_version": "1.5.0",
      "model_name": "VBoxModel",
      "state": {
       "children": [
        "IPY_MODEL_c6e0cf530ee4441083eb7305bf66a1fc",
        "IPY_MODEL_5224566f877e4fd8b8ed50760cd2c33b",
        "IPY_MODEL_d4e8d611f4954b7fa9c7ac2f47a600bf",
        "IPY_MODEL_d691722499c54658891abf3af15673a5",
        "IPY_MODEL_b728f8fd8af140dab28ebf03c66d8847",
        "IPY_MODEL_bc209decaae84e4589ab02aa642b2625",
        "IPY_MODEL_120adfe300774ae487c16abc5664c662",
        "IPY_MODEL_6eb89cc66d744f23b9c1ab2338f960fb",
        "IPY_MODEL_e83ffadbc1a74a01883acbe17a7a9b35"
       ],
       "layout": "IPY_MODEL_d30063daaae54d2a88c8fe7b41474986"
      }
     },
     "c29874a5c0454e83904e3108bba3ed69": {
      "model_module": "@jupyter-widgets/base",
      "model_module_version": "1.2.0",
      "model_name": "LayoutModel",
      "state": {}
     },
     "c2ab71030d89422c83575c61ac0ed444": {
      "model_module": "@jupyter-widgets/controls",
      "model_module_version": "1.5.0",
      "model_name": "DescriptionStyleModel",
      "state": {
       "description_width": ""
      }
     },
     "c31ba9dc3e2049399c9713829c30a30b": {
      "model_module": "@jupyter-widgets/controls",
      "model_module_version": "1.5.0",
      "model_name": "DropdownModel",
      "state": {
       "_options_labels": [
        "Any",
        "Kinetic",
        "Energy",
        "Power"
       ],
       "index": 0,
       "layout": "IPY_MODEL_28a4dff5d61e4497bc87fa083c188e0b",
       "style": "IPY_MODEL_780d563036c0467596f6fe37641bf153"
      }
     },
     "c3b235c031894204979e71c74a571efe": {
      "model_module": "@jupyter-widgets/controls",
      "model_module_version": "1.5.0",
      "model_name": "DropdownModel",
      "state": {
       "_options_labels": [
        "Hand Cannon",
        "Auto Rifle",
        "Scout Rifle",
        "Pulse Rifle",
        "Sidearm",
        "Submachine Gun",
        "Combt Bow"
       ],
       "index": 0,
       "layout": "IPY_MODEL_28a4dff5d61e4497bc87fa083c188e0b",
       "style": "IPY_MODEL_04908587396f4cef915963f2486d5d8d"
      }
     },
     "c4048311db8d4651abb1dff62f970f88": {
      "model_module": "@jupyter-widgets/controls",
      "model_module_version": "1.5.0",
      "model_name": "DescriptionStyleModel",
      "state": {
       "description_width": ""
      }
     },
     "c441779e79a04c96864aa18aa84118c7": {
      "model_module": "@jupyter-widgets/controls",
      "model_module_version": "1.5.0",
      "model_name": "DescriptionStyleModel",
      "state": {
       "description_width": ""
      }
     },
     "c44e3228d1b4462ea14329f67788d32b": {
      "model_module": "@jupyter-widgets/base",
      "model_module_version": "1.2.0",
      "model_name": "LayoutModel",
      "state": {}
     },
     "c4669480db64487fa2de09fca3a8427f": {
      "model_module": "@jupyter-widgets/controls",
      "model_module_version": "1.5.0",
      "model_name": "DescriptionStyleModel",
      "state": {
       "description_width": ""
      }
     },
     "c46f37a2a6944c73a745bdab767646ce": {
      "model_module": "@jupyter-widgets/base",
      "model_module_version": "1.2.0",
      "model_name": "LayoutModel",
      "state": {}
     },
     "c4bd6c021a7742198b2971458a35bbe7": {
      "model_module": "@jupyter-widgets/controls",
      "model_module_version": "1.5.0",
      "model_name": "DropdownModel",
      "state": {
       "_options_labels": [
        "Kinetic"
       ],
       "index": 0,
       "layout": "IPY_MODEL_28a4dff5d61e4497bc87fa083c188e0b",
       "style": "IPY_MODEL_4d17bb52c1b94fd183ec902891a8368d"
      }
     },
     "c4ca202db0b74860af0db43f3b425def": {
      "model_module": "@jupyter-widgets/controls",
      "model_module_version": "1.5.0",
      "model_name": "DescriptionStyleModel",
      "state": {
       "description_width": ""
      }
     },
     "c5529e3da2154e868e852b8cb2f1a947": {
      "model_module": "@jupyter-widgets/controls",
      "model_module_version": "1.5.0",
      "model_name": "DescriptionStyleModel",
      "state": {
       "description_width": ""
      }
     },
     "c58de4866c8c4101b5df092efe1a6063": {
      "model_module": "@jupyter-widgets/controls",
      "model_module_version": "1.5.0",
      "model_name": "DescriptionStyleModel",
      "state": {
       "description_width": ""
      }
     },
     "c5aba1b56e56445497cfd28d5f6c973d": {
      "model_module": "@jupyter-widgets/base",
      "model_module_version": "1.2.0",
      "model_name": "LayoutModel",
      "state": {}
     },
     "c5c7e651844b4463a3f683058b5f18b4": {
      "model_module": "@jupyter-widgets/controls",
      "model_module_version": "1.5.0",
      "model_name": "DescriptionStyleModel",
      "state": {
       "description_width": ""
      }
     },
     "c65bfe0ca005411194b1258044607d97": {
      "model_module": "@jupyter-widgets/controls",
      "model_module_version": "1.5.0",
      "model_name": "DescriptionStyleModel",
      "state": {
       "description_width": ""
      }
     },
     "c6b35804300940e797ccc4d057bfaf5a": {
      "model_module": "@jupyter-widgets/base",
      "model_module_version": "1.2.0",
      "model_name": "LayoutModel",
      "state": {}
     },
     "c6d5ef5d062643af85ce4e69e4bdbcc1": {
      "model_module": "@jupyter-widgets/controls",
      "model_module_version": "1.5.0",
      "model_name": "DescriptionStyleModel",
      "state": {
       "description_width": ""
      }
     },
     "c6e0cf530ee4441083eb7305bf66a1fc": {
      "model_module": "@jupyter-widgets/controls",
      "model_module_version": "1.5.0",
      "model_name": "HTMLModel",
      "state": {
       "layout": "IPY_MODEL_f7d653bf25994f508488c7ccb41762a0",
       "style": "IPY_MODEL_577d0953f16d4134ad413c39dd3318b4",
       "value": "<b>Weapon Requirements</b>"
      }
     },
     "c795baf0378c45f8be9c3f6006f22fe6": {
      "model_module": "@jupyter-widgets/controls",
      "model_module_version": "1.5.0",
      "model_name": "DescriptionStyleModel",
      "state": {
       "description_width": ""
      }
     },
     "c7e64f72ce0044bd8736335a60242262": {
      "model_module": "@jupyter-widgets/controls",
      "model_module_version": "1.5.0",
      "model_name": "DescriptionStyleModel",
      "state": {
       "description_width": ""
      }
     },
     "c86597f9dc7d43a28461ab8525a58d86": {
      "model_module": "@jupyter-widgets/base",
      "model_module_version": "1.2.0",
      "model_name": "LayoutModel",
      "state": {}
     },
     "c8c4dbeca7964a549b423358a9fd4043": {
      "model_module": "@jupyter-widgets/base",
      "model_module_version": "1.2.0",
      "model_name": "LayoutModel",
      "state": {}
     },
     "c8e33d9ced7745e5b6b20c556101abc4": {
      "model_module": "@jupyter-widgets/controls",
      "model_module_version": "1.5.0",
      "model_name": "HBoxModel",
      "state": {
       "children": [
        "IPY_MODEL_1b19cb55648a4f39bda07040d3fc7cf8",
        "IPY_MODEL_557d49cf342043baa262b434eaf7aad6",
        "IPY_MODEL_b6271445eec34446926154faccd40807",
        "IPY_MODEL_71e4b170d6eb4a2fb13bdd53341e38d8",
        "IPY_MODEL_05e05db312784308bacf0f5e75c0519e"
       ],
       "layout": "IPY_MODEL_e06a4c24369d43a4aedae09dce23ae27"
      }
     },
     "c8ee81a6f8084cb998c58e8027c1a443": {
      "model_module": "@jupyter-widgets/controls",
      "model_module_version": "1.5.0",
      "model_name": "DescriptionStyleModel",
      "state": {
       "description_width": ""
      }
     },
     "c93603a06e044306873c3bf47335c4c6": {
      "model_module": "@jupyter-widgets/controls",
      "model_module_version": "1.5.0",
      "model_name": "DropdownModel",
      "state": {
       "_options_labels": [
        "Any"
       ],
       "disabled": true,
       "index": 0,
       "layout": "IPY_MODEL_0ef24ecb94d04c929a216bd2bd72a9ea",
       "style": "IPY_MODEL_7381cc80387a469b93bc96065a790ab5"
      }
     },
     "c94c6e25747d4384990e7bf57f60feb1": {
      "model_module": "@jupyter-widgets/controls",
      "model_module_version": "1.5.0",
      "model_name": "DescriptionStyleModel",
      "state": {
       "description_width": ""
      }
     },
     "c95cc582d778431d994b7a98d9aa40dc": {
      "model_module": "@jupyter-widgets/controls",
      "model_module_version": "1.5.0",
      "model_name": "DescriptionStyleModel",
      "state": {
       "description_width": ""
      }
     },
     "c9740ecaa8be4e3e822a2179801188d0": {
      "model_module": "@jupyter-widgets/base",
      "model_module_version": "1.2.0",
      "model_name": "LayoutModel",
      "state": {}
     },
     "c9e520577d3546ac97cc6c15c7b9e778": {
      "model_module": "@jupyter-widgets/base",
      "model_module_version": "1.2.0",
      "model_name": "LayoutModel",
      "state": {}
     },
     "ca2f072755264b11b76e944dcb3d43d8": {
      "model_module": "@jupyter-widgets/controls",
      "model_module_version": "1.5.0",
      "model_name": "DescriptionStyleModel",
      "state": {
       "description_width": ""
      }
     },
     "ca3e68620629475084107967cce357fa": {
      "model_module": "@jupyter-widgets/base",
      "model_module_version": "1.2.0",
      "model_name": "LayoutModel",
      "state": {}
     },
     "ca78367edea74d2eba85e1860f7af1a5": {
      "model_module": "@jupyter-widgets/base",
      "model_module_version": "1.2.0",
      "model_name": "LayoutModel",
      "state": {}
     },
     "cad0c71dd8124c1f81a34e8b08bc55a6": {
      "model_module": "@jupyter-widgets/controls",
      "model_module_version": "1.5.0",
      "model_name": "DropdownModel",
      "state": {
       "_options_labels": [
        "Multiple Options",
        "Sniper Rifle",
        "Shotgun",
        "Fusion Rifle",
        "Grenade Launcher",
        "Grenade Launcher"
       ],
       "index": 4,
       "layout": "IPY_MODEL_28a4dff5d61e4497bc87fa083c188e0b",
       "style": "IPY_MODEL_650992c4c8904cb4939f83c8372b8c84"
      }
     },
     "cb1104f1cafa4b5aa1483105f5b3506a": {
      "model_module": "@jupyter-widgets/controls",
      "model_module_version": "1.5.0",
      "model_name": "HTMLModel",
      "state": {
       "layout": "IPY_MODEL_cfe94a31cc7b40ad84dffdec2ba71e76",
       "style": "IPY_MODEL_9c19461c13b146618274c319535807a3",
       "value": "<font size=\"3\"><b>EDIT REQUIREMENTS</b></font size=>"
      }
     },
     "cbab5b16091646a38567d3b17607a868": {
      "model_module": "@jupyter-widgets/controls",
      "model_module_version": "1.5.0",
      "model_name": "DescriptionStyleModel",
      "state": {
       "description_width": ""
      }
     },
     "cbad1030ffab493f86543751939f9caf": {
      "model_module": "@jupyter-widgets/controls",
      "model_module_version": "1.5.0",
      "model_name": "DescriptionStyleModel",
      "state": {
       "description_width": ""
      }
     },
     "cbbdabbdcf7445a1abcd1b20e7e01242": {
      "model_module": "@jupyter-widgets/controls",
      "model_module_version": "1.5.0",
      "model_name": "HBoxModel",
      "state": {
       "children": [
        "IPY_MODEL_917a7bc61dff4128beeccfd0cb09186f",
        "IPY_MODEL_33fd9dd17a8446c6b53a3b2a57c2d717",
        "IPY_MODEL_8d024a0ed56646cc9fec1292870885f0",
        "IPY_MODEL_8fc2b13335174465aa4d555ade0460d0",
        "IPY_MODEL_d1ebecf1007c4d48a62a83d2ba4ce6ce"
       ],
       "layout": "IPY_MODEL_239aadeb460844dfbbc4a20e335865fc"
      }
     },
     "cc201b6a9845465a98f1b042d63cac8c": {
      "model_module": "@jupyter-widgets/controls",
      "model_module_version": "1.5.0",
      "model_name": "DropdownModel",
      "state": {
       "_options_labels": [
        "Any",
        "Kinetic",
        "Energy",
        "Power"
       ],
       "index": 0,
       "layout": "IPY_MODEL_28a4dff5d61e4497bc87fa083c188e0b",
       "style": "IPY_MODEL_23720005fdde4c6baed655e3b161e450"
      }
     },
     "cc6f5c41fa5346fa871cac48734dd9c1": {
      "model_module": "@jupyter-widgets/controls",
      "model_module_version": "1.5.0",
      "model_name": "DescriptionStyleModel",
      "state": {
       "description_width": ""
      }
     },
     "ccc9f2a89f6e40fda99708c9ee786d5d": {
      "model_module": "@jupyter-widgets/controls",
      "model_module_version": "1.5.0",
      "model_name": "DescriptionStyleModel",
      "state": {
       "description_width": ""
      }
     },
     "ccd8cf260b21445eb9aa7cad4d3d0dec": {
      "model_module": "@jupyter-widgets/base",
      "model_module_version": "1.2.0",
      "model_name": "LayoutModel",
      "state": {}
     },
     "cd29a61222644c9f9b984c6a0d758ddf": {
      "model_module": "@jupyter-widgets/controls",
      "model_module_version": "1.5.0",
      "model_name": "DropdownModel",
      "state": {
       "_options_labels": [
        "Any",
        "Kinetic",
        "Energy",
        "Power"
       ],
       "index": 0,
       "layout": "IPY_MODEL_28a4dff5d61e4497bc87fa083c188e0b",
       "style": "IPY_MODEL_77a404d88409483792545275f18e84f8"
      }
     },
     "cde8cc9860164ebd9db8578fd8005d92": {
      "model_module": "@jupyter-widgets/controls",
      "model_module_version": "1.5.0",
      "model_name": "DropdownModel",
      "state": {
       "index": null,
       "layout": "IPY_MODEL_a23c8d9a2b18485eb8a6887af4d72032",
       "style": "IPY_MODEL_6afa4729c813418e8c1cdd3bb230e649"
      }
     },
     "ce73fe135a3242539e9cc3a86d357aff": {
      "model_module": "@jupyter-widgets/base",
      "model_module_version": "1.2.0",
      "model_name": "LayoutModel",
      "state": {}
     },
     "ceee5d81987c4983955921e7c6b7e2bd": {
      "model_module": "@jupyter-widgets/base",
      "model_module_version": "1.2.0",
      "model_name": "LayoutModel",
      "state": {}
     },
     "cf0cef44e76d49c0bb8324d904541175": {
      "model_module": "@jupyter-widgets/controls",
      "model_module_version": "1.5.0",
      "model_name": "DropdownModel",
      "state": {
       "_options_labels": [
        "Any",
        "Patrol",
        "Gambit",
        "Reckoning",
        "Menagerie",
        "Vex Offensive",
        "Raid",
        "Strike",
        "Nightfall",
        "Crucible",
        "Forge"
       ],
       "index": 0,
       "layout": "IPY_MODEL_f0efa35208014a1ebd3b17c53a74e628",
       "style": "IPY_MODEL_e7c81a5bebb0439ca4d6a21bc68de468"
      }
     },
     "cf2b1ceccee54e6d816fd7e8c181c656": {
      "model_module": "@jupyter-widgets/base",
      "model_module_version": "1.2.0",
      "model_name": "LayoutModel",
      "state": {}
     },
     "cfc2b091669d45b285a58f4ab6c6d1e6": {
      "model_module": "@jupyter-widgets/base",
      "model_module_version": "1.2.0",
      "model_name": "LayoutModel",
      "state": {}
     },
     "cfe94a31cc7b40ad84dffdec2ba71e76": {
      "model_module": "@jupyter-widgets/base",
      "model_module_version": "1.2.0",
      "model_name": "LayoutModel",
      "state": {}
     },
     "d0baea47b5f84c3490f89d76e9abd252": {
      "model_module": "@jupyter-widgets/controls",
      "model_module_version": "1.5.0",
      "model_name": "DropdownModel",
      "state": {
       "_options_labels": [
        "Any",
        "Kinetic",
        "Energy",
        "Power"
       ],
       "index": 0,
       "layout": "IPY_MODEL_28a4dff5d61e4497bc87fa083c188e0b",
       "style": "IPY_MODEL_4a946bfd262440daa0684db9fb8d35bc"
      }
     },
     "d0f0157b704744c19a5ae65bea35c656": {
      "model_module": "@jupyter-widgets/base",
      "model_module_version": "1.2.0",
      "model_name": "LayoutModel",
      "state": {}
     },
     "d10beeba28d841958adc31db803f0428": {
      "model_module": "@jupyter-widgets/base",
      "model_module_version": "1.2.0",
      "model_name": "LayoutModel",
      "state": {}
     },
     "d1be041635c840699741e441d86bc24d": {
      "model_module": "@jupyter-widgets/controls",
      "model_module_version": "1.5.0",
      "model_name": "DescriptionStyleModel",
      "state": {
       "description_width": ""
      }
     },
     "d1ebecf1007c4d48a62a83d2ba4ce6ce": {
      "model_module": "@jupyter-widgets/controls",
      "model_module_version": "1.5.0",
      "model_name": "DropdownModel",
      "state": {
       "_options_labels": [
        "Any"
       ],
       "disabled": true,
       "index": 0,
       "layout": "IPY_MODEL_6af5da9fc9d24e36b9ec1b19ebb2b540",
       "style": "IPY_MODEL_6aa893fb1c5c47628dda3d20a00ea2ef"
      }
     },
     "d30063daaae54d2a88c8fe7b41474986": {
      "model_module": "@jupyter-widgets/base",
      "model_module_version": "1.2.0",
      "model_name": "LayoutModel",
      "state": {}
     },
     "d347e751711c44bda4b7c07d511666c0": {
      "model_module": "@jupyter-widgets/controls",
      "model_module_version": "1.5.0",
      "model_name": "DescriptionStyleModel",
      "state": {
       "description_width": ""
      }
     },
     "d368e8561ee54ebfa4d1b2bea46e4714": {
      "model_module": "@jupyter-widgets/controls",
      "model_module_version": "1.5.0",
      "model_name": "DescriptionStyleModel",
      "state": {
       "description_width": ""
      }
     },
     "d3ab6e987d774e9ab58e793821b1505a": {
      "model_module": "@jupyter-widgets/controls",
      "model_module_version": "1.5.0",
      "model_name": "DescriptionStyleModel",
      "state": {
       "description_width": ""
      }
     },
     "d3d8ee351e3d4848be563963a6104050": {
      "model_module": "@jupyter-widgets/controls",
      "model_module_version": "1.5.0",
      "model_name": "DescriptionStyleModel",
      "state": {
       "description_width": ""
      }
     },
     "d3ff6419d2e04496be95ddff69dda5eb": {
      "model_module": "@jupyter-widgets/base",
      "model_module_version": "1.2.0",
      "model_name": "LayoutModel",
      "state": {}
     },
     "d40c15a1f00947f39fcdc87217936118": {
      "model_module": "@jupyter-widgets/base",
      "model_module_version": "1.2.0",
      "model_name": "LayoutModel",
      "state": {}
     },
     "d4a4ec0733f9489bbfe31e8458d010e0": {
      "model_module": "@jupyter-widgets/controls",
      "model_module_version": "1.5.0",
      "model_name": "DropdownModel",
      "state": {
       "_options_labels": [
        "Any"
       ],
       "disabled": true,
       "index": 0,
       "layout": "IPY_MODEL_a79202aa047a4ae7a716c05f98c8b4e4",
       "style": "IPY_MODEL_38526610e0004da180c95eeeb0b1716c"
      }
     },
     "d4e8d611f4954b7fa9c7ac2f47a600bf": {
      "model_module": "@jupyter-widgets/controls",
      "model_module_version": "1.5.0",
      "model_name": "DropdownModel",
      "state": {
       "_options_labels": [
        "Any",
        "Kinetic",
        "Energy",
        "Power"
       ],
       "index": 0,
       "layout": "IPY_MODEL_877bc0c0584d410f900fe24ec6020b1b",
       "style": "IPY_MODEL_2f33ac0dd425412fb5f26fabae0b13e6"
      }
     },
     "d4edf1b9ae8643a0a387fb3b9983f71a": {
      "model_module": "@jupyter-widgets/controls",
      "model_module_version": "1.5.0",
      "model_name": "HTMLModel",
      "state": {
       "layout": "IPY_MODEL_f7d653bf25994f508488c7ccb41762a0",
       "style": "IPY_MODEL_3f52c957a78141d3a71fb41c2ab87e17",
       "value": "<b>Weapon Requirements</b>"
      }
     },
     "d52eb3f3923c489a9d749d195c436f83": {
      "model_module": "@jupyter-widgets/controls",
      "model_module_version": "1.5.0",
      "model_name": "DropdownModel",
      "state": {
       "_options_labels": [
        "Any",
        "Primary",
        "Secondary",
        "Heavy"
       ],
       "index": 0,
       "layout": "IPY_MODEL_28a4dff5d61e4497bc87fa083c188e0b",
       "style": "IPY_MODEL_f21c533b2cd142d2a08ca2bedce27393"
      }
     },
     "d550c70fe90c43bbb2890756f96048b3": {
      "model_module": "@jupyter-widgets/base",
      "model_module_version": "1.2.0",
      "model_name": "LayoutModel",
      "state": {}
     },
     "d56c7a8f24f84e988d2ca6c15179f0a7": {
      "model_module": "@jupyter-widgets/base",
      "model_module_version": "1.2.0",
      "model_name": "LayoutModel",
      "state": {}
     },
     "d58fc528f4ee4e5ba1dbb5f222561766": {
      "model_module": "@jupyter-widgets/base",
      "model_module_version": "1.2.0",
      "model_name": "LayoutModel",
      "state": {}
     },
     "d5fe2780f0f543898ef6601f03710281": {
      "model_module": "@jupyter-widgets/controls",
      "model_module_version": "1.5.0",
      "model_name": "HTMLModel",
      "state": {
       "layout": "IPY_MODEL_458fc48e79a44c88ba787bd1328b618e",
       "style": "IPY_MODEL_f731dafe3c8f4b59a0cc9c0618c4b1e1",
       "value": "Task"
      }
     },
     "d5fe991360654ecb81f190201605e471": {
      "model_module": "@jupyter-widgets/controls",
      "model_module_version": "1.5.0",
      "model_name": "DescriptionStyleModel",
      "state": {
       "description_width": ""
      }
     },
     "d66342b521714795bf51b98ec5955cd5": {
      "model_module": "@jupyter-widgets/controls",
      "model_module_version": "1.5.0",
      "model_name": "DescriptionStyleModel",
      "state": {
       "description_width": ""
      }
     },
     "d691722499c54658891abf3af15673a5": {
      "model_module": "@jupyter-widgets/controls",
      "model_module_version": "1.5.0",
      "model_name": "LabelModel",
      "state": {
       "layout": "IPY_MODEL_a51b2e3c91824a6c92a77ab137df2377",
       "style": "IPY_MODEL_bd443acbd5774976a23831c7a7ec067c",
       "value": "Energy Type:"
      }
     },
     "d69fd90d33964d0caa87e2338c580573": {
      "model_module": "@jupyter-widgets/base",
      "model_module_version": "1.2.0",
      "model_name": "LayoutModel",
      "state": {}
     },
     "d714bece30c54ea4a5a0070531c301d0": {
      "model_module": "@jupyter-widgets/controls",
      "model_module_version": "1.5.0",
      "model_name": "DescriptionStyleModel",
      "state": {
       "description_width": ""
      }
     },
     "d744552d69d241979a9c97ac299d6992": {
      "model_module": "@jupyter-widgets/controls",
      "model_module_version": "1.5.0",
      "model_name": "DropdownModel",
      "state": {
       "index": null,
       "layout": "IPY_MODEL_95362507378e4db4ac8f6a554ca19b12",
       "style": "IPY_MODEL_bc306453386b4996abbd018f6f79323e"
      }
     },
     "d7aa009293b44d2fb078a5e9310a58a5": {
      "model_module": "@jupyter-widgets/base",
      "model_module_version": "1.2.0",
      "model_name": "LayoutModel",
      "state": {}
     },
     "d81a59fb42754ba6baf33f7155e7975a": {
      "model_module": "@jupyter-widgets/controls",
      "model_module_version": "1.5.0",
      "model_name": "DropdownModel",
      "state": {
       "_options_labels": [
        "Any",
        "Kinetic",
        "Solar",
        "Void",
        "Arc"
       ],
       "index": 2,
       "layout": "IPY_MODEL_28a4dff5d61e4497bc87fa083c188e0b",
       "style": "IPY_MODEL_b95dcd12d3894052a54b2c74a86b4d8c"
      }
     },
     "d8b54c80b02146778708f65b939b7fc6": {
      "model_module": "@jupyter-widgets/controls",
      "model_module_version": "1.5.0",
      "model_name": "HTMLModel",
      "state": {
       "layout": "IPY_MODEL_2f1d8f3b8f3f419994e87bbaead24404",
       "style": "IPY_MODEL_bfe33341c650419facd739da67c19ebb",
       "value": "Objective"
      }
     },
     "d8f3b800cebb46c68f3aece99795e1a7": {
      "model_module": "@jupyter-widgets/base",
      "model_module_version": "1.2.0",
      "model_name": "LayoutModel",
      "state": {}
     },
     "d9016b72b00c40148d93feea7656e4ab": {
      "model_module": "@jupyter-widgets/base",
      "model_module_version": "1.2.0",
      "model_name": "LayoutModel",
      "state": {
       "width": "20%"
      }
     },
     "d97dbbd05b3e4b158ef400d643a5bc86": {
      "model_module": "@jupyter-widgets/controls",
      "model_module_version": "1.5.0",
      "model_name": "DropdownModel",
      "state": {
       "_options_labels": [
        "Multiple Options",
        "Kinetic",
        "Solar",
        "Void",
        "Arc"
       ],
       "index": 0,
       "layout": "IPY_MODEL_28a4dff5d61e4497bc87fa083c188e0b",
       "style": "IPY_MODEL_dea8c0084b484aadb9acf2be4d150c11"
      }
     },
     "da10bbd089ad447e82ca0e4083e2032c": {
      "model_module": "@jupyter-widgets/controls",
      "model_module_version": "1.5.0",
      "model_name": "VBoxModel",
      "state": {
       "children": [
        "IPY_MODEL_4510da90bf234af48b80660215b3b0bb",
        "IPY_MODEL_4c8ee9b44869431898cc3037e508abc7",
        "IPY_MODEL_7bbda6a4099c426d9eda2807f62da31e"
       ],
       "layout": "IPY_MODEL_32bf31445f15466d953323aba06578ae"
      }
     },
     "da5e0bfacb614090a1602e3348bdd773": {
      "model_module": "@jupyter-widgets/base",
      "model_module_version": "1.2.0",
      "model_name": "LayoutModel",
      "state": {}
     },
     "da923f82317a4547a933f691743aac3e": {
      "model_module": "@jupyter-widgets/controls",
      "model_module_version": "1.5.0",
      "model_name": "LabelModel",
      "state": {
       "layout": "IPY_MODEL_3352d11b467d4e95a08e9871c6a0ffe1",
       "style": "IPY_MODEL_a231bd6d6685449390a39478fa2a0adb",
       "value": "Weapon Requirements:"
      }
     },
     "dbb035a19fa44c7e8a34796c9bc55afb": {
      "model_module": "@jupyter-widgets/base",
      "model_module_version": "1.2.0",
      "model_name": "LayoutModel",
      "state": {}
     },
     "dc0af42deac1401a8ee76876f391cace": {
      "model_module": "@jupyter-widgets/controls",
      "model_module_version": "1.5.0",
      "model_name": "DropdownModel",
      "state": {
       "_options_labels": [
        "Kinetic"
       ],
       "index": 0,
       "layout": "IPY_MODEL_28a4dff5d61e4497bc87fa083c188e0b",
       "style": "IPY_MODEL_fd9fb2b09516433cb1503d62bc7dce81"
      }
     },
     "dc77e862da244e0ca46da6a360ae85a6": {
      "model_module": "@jupyter-widgets/base",
      "model_module_version": "1.2.0",
      "model_name": "LayoutModel",
      "state": {}
     },
     "dc7f2c68fff34a8e8c5cace4b7bce57d": {
      "model_module": "@jupyter-widgets/controls",
      "model_module_version": "1.5.0",
      "model_name": "DropdownModel",
      "state": {
       "_options_labels": [
        "Secondary",
        "Clear Options"
       ],
       "index": 0,
       "layout": "IPY_MODEL_28a4dff5d61e4497bc87fa083c188e0b",
       "style": "IPY_MODEL_c5529e3da2154e868e852b8cb2f1a947"
      }
     },
     "dccecf8f954c45acac813ae3493d0732": {
      "model_module": "@jupyter-widgets/base",
      "model_module_version": "1.2.0",
      "model_name": "LayoutModel",
      "state": {}
     },
     "dcd179b6f9314a9d904bc96a0af68dc1": {
      "model_module": "@jupyter-widgets/controls",
      "model_module_version": "1.5.0",
      "model_name": "DropdownModel",
      "state": {
       "_options_labels": [
        "Secondary",
        "Clear Options"
       ],
       "index": 0,
       "layout": "IPY_MODEL_28a4dff5d61e4497bc87fa083c188e0b",
       "style": "IPY_MODEL_5e16047cd2ee4838a2a557e44e8c4ddd"
      }
     },
     "dd2a554c0e0143c882195948db15e4ce": {
      "model_module": "@jupyter-widgets/base",
      "model_module_version": "1.2.0",
      "model_name": "LayoutModel",
      "state": {}
     },
     "dd54f0b5daf64a5d816834dba0a9e4ee": {
      "model_module": "@jupyter-widgets/base",
      "model_module_version": "1.2.0",
      "model_name": "LayoutModel",
      "state": {}
     },
     "dd9d380ba92443a6889159ec713c0166": {
      "model_module": "@jupyter-widgets/controls",
      "model_module_version": "1.5.0",
      "model_name": "DropdownModel",
      "state": {
       "_options_labels": [
        "Any",
        "Kinetic",
        "Energy",
        "Power"
       ],
       "index": 1,
       "layout": "IPY_MODEL_28a4dff5d61e4497bc87fa083c188e0b",
       "style": "IPY_MODEL_e81134a3ff5c45539269c5d55df2efd0"
      }
     },
     "ddcacb2a9920463fb53ab6764810d77b": {
      "model_module": "@jupyter-widgets/controls",
      "model_module_version": "1.5.0",
      "model_name": "DescriptionStyleModel",
      "state": {
       "description_width": ""
      }
     },
     "ddee652efdd647e5aac1e1ccc66bc477": {
      "model_module": "@jupyter-widgets/controls",
      "model_module_version": "1.5.0",
      "model_name": "VBoxModel",
      "state": {
       "children": [
        "IPY_MODEL_adb89e9f94604ae398626522510459f3",
        "IPY_MODEL_f8694873d5104ec8b8ef249b199849ea",
        "IPY_MODEL_423300ace728481786049dbc7d328457",
        "IPY_MODEL_8512d140397b4725bd98cf6e2e1c8f8b",
        "IPY_MODEL_54fe06fac7b743a6b1899d9dcea060d6",
        "IPY_MODEL_824515333daa479ba206059906dc1029",
        "IPY_MODEL_af2d2b991be84314a27b6dc857822d87",
        "IPY_MODEL_b208f080e5fe4d16bf1d39f4826f2536",
        "IPY_MODEL_3fc265657d2744fdada8b6f9e4057601"
       ],
       "layout": "IPY_MODEL_7f372dc9eec1401d9764beac3c0a1742"
      }
     },
     "ddfd8beb3b5947a595454e1e2eb13e24": {
      "model_module": "@jupyter-widgets/controls",
      "model_module_version": "1.5.0",
      "model_name": "DescriptionStyleModel",
      "state": {
       "description_width": ""
      }
     },
     "de07c4297a8f4f07959f9b03b68a4696": {
      "model_module": "@jupyter-widgets/base",
      "model_module_version": "1.2.0",
      "model_name": "LayoutModel",
      "state": {}
     },
     "de70846adc644e46a659f3d56809e79e": {
      "model_module": "@jupyter-widgets/controls",
      "model_module_version": "1.5.0",
      "model_name": "DescriptionStyleModel",
      "state": {
       "description_width": ""
      }
     },
     "dea8c0084b484aadb9acf2be4d150c11": {
      "model_module": "@jupyter-widgets/controls",
      "model_module_version": "1.5.0",
      "model_name": "DescriptionStyleModel",
      "state": {
       "description_width": ""
      }
     },
     "deb35db9b7f343b3aad8c41e5dba06ed": {
      "model_module": "@jupyter-widgets/controls",
      "model_module_version": "1.5.0",
      "model_name": "DescriptionStyleModel",
      "state": {
       "description_width": ""
      }
     },
     "dfa8344153fe42e499c0b6008a715aed": {
      "model_module": "@jupyter-widgets/controls",
      "model_module_version": "1.5.0",
      "model_name": "VBoxModel",
      "state": {
       "children": [
        "IPY_MODEL_496d33a8e5f447a09786653232b2ad0d",
        "IPY_MODEL_da10bbd089ad447e82ca0e4083e2032c"
       ],
       "layout": "IPY_MODEL_7e49cc399c3148cab6e4a855ab32e7f2"
      }
     },
     "dff22f9e0cf44cdbbca30acbddc7724b": {
      "model_module": "@jupyter-widgets/base",
      "model_module_version": "1.2.0",
      "model_name": "LayoutModel",
      "state": {}
     },
     "e06a4c24369d43a4aedae09dce23ae27": {
      "model_module": "@jupyter-widgets/base",
      "model_module_version": "1.2.0",
      "model_name": "LayoutModel",
      "state": {}
     },
     "e0857c3d1a27420dad1f5ded0f57b72c": {
      "model_module": "@jupyter-widgets/controls",
      "model_module_version": "1.5.0",
      "model_name": "HTMLModel",
      "state": {
       "layout": "IPY_MODEL_3c9e9227a9d444358c9d9178a6f32966",
       "style": "IPY_MODEL_fa648a98cb434bb480a009ffa1ccfc54",
       "value": "<b>Class Requirements</b>"
      }
     },
     "e08fa9fd3b3a40c4b4680e7e071bce4a": {
      "model_module": "@jupyter-widgets/controls",
      "model_module_version": "1.5.0",
      "model_name": "DropdownModel",
      "state": {
       "_options_labels": [
        "Multiple Options",
        "Hand Cannon",
        "Auto Rifle",
        "Scout Rifle",
        "Pulse Rifle",
        "Sidearm",
        "Submachine Gun",
        "Combt Bow"
       ],
       "index": 0,
       "layout": "IPY_MODEL_28a4dff5d61e4497bc87fa083c188e0b",
       "style": "IPY_MODEL_e27656ea69a741eb91ea0bb797655ddb"
      }
     },
     "e1345c91a42448e594dcadff871a6382": {
      "model_module": "@jupyter-widgets/controls",
      "model_module_version": "1.5.0",
      "model_name": "DescriptionStyleModel",
      "state": {
       "description_width": ""
      }
     },
     "e1d2610a2319425f9c4b2d440753a453": {
      "model_module": "@jupyter-widgets/controls",
      "model_module_version": "1.5.0",
      "model_name": "DropdownModel",
      "state": {
       "_options_labels": [
        "Any",
        "Primary",
        "Secondary",
        "Heavy"
       ],
       "index": 3,
       "layout": "IPY_MODEL_28a4dff5d61e4497bc87fa083c188e0b",
       "style": "IPY_MODEL_6765456fcd144382879bec810f7fab08"
      }
     },
     "e2615555feb74c219b10a12188fe5d36": {
      "model_module": "@jupyter-widgets/base",
      "model_module_version": "1.2.0",
      "model_name": "LayoutModel",
      "state": {}
     },
     "e27656ea69a741eb91ea0bb797655ddb": {
      "model_module": "@jupyter-widgets/controls",
      "model_module_version": "1.5.0",
      "model_name": "DescriptionStyleModel",
      "state": {
       "description_width": ""
      }
     },
     "e281c6a9a86a4ddab459dabd675ac733": {
      "model_module": "@jupyter-widgets/controls",
      "model_module_version": "1.5.0",
      "model_name": "HTMLModel",
      "state": {
       "layout": "IPY_MODEL_5e1191510f1b4e258c39696af901f964",
       "style": "IPY_MODEL_9c21c013a31d4bd3b85b51ecc6047209",
       "value": "Objective"
      }
     },
     "e2c1599f39ee4b2199ca55c14924ba94": {
      "model_module": "@jupyter-widgets/controls",
      "model_module_version": "1.5.0",
      "model_name": "VBoxModel",
      "state": {
       "children": [
        "IPY_MODEL_22bc5ca6613e40e18ef89cc44e3c572e",
        "IPY_MODEL_ac69430579084fc5b407f4bc5a6350fa",
        "IPY_MODEL_56559f9843be4dcbb98ccbb7ad4ea935"
       ],
       "layout": "IPY_MODEL_af8ce5647c79420d9db940d58efcb3b9"
      }
     },
     "e30f58b241664da3a0f579ef2ca1a60e": {
      "model_module": "@jupyter-widgets/controls",
      "model_module_version": "1.5.0",
      "model_name": "DescriptionStyleModel",
      "state": {
       "description_width": ""
      }
     },
     "e406d88adad44e1484f93d35ba33a6dd": {
      "model_module": "@jupyter-widgets/controls",
      "model_module_version": "1.5.0",
      "model_name": "DescriptionStyleModel",
      "state": {
       "description_width": ""
      }
     },
     "e454f9455ab2487aa62d4cbbbbbe5087": {
      "model_module": "@jupyter-widgets/base",
      "model_module_version": "1.2.0",
      "model_name": "LayoutModel",
      "state": {}
     },
     "e47304803b0a4cc9bdd38dd75b68a5e1": {
      "model_module": "@jupyter-widgets/controls",
      "model_module_version": "1.5.0",
      "model_name": "VBoxModel",
      "state": {
       "children": [
        "IPY_MODEL_ea446b98bea94265ae5add38c2be815c",
        "IPY_MODEL_b21afaee46874121a3e08787feef190b",
        "IPY_MODEL_3fbc2d2f8710405c8b34de8c397d171b",
        "IPY_MODEL_c222187e83d14a5a890d5b9e0988f200"
       ],
       "layout": "IPY_MODEL_fa89aa54a14049d6a385ef43ccad6685"
      }
     },
     "e4827aa5a4854ee0bc3dd01d34e1a4b7": {
      "model_module": "@jupyter-widgets/controls",
      "model_module_version": "1.5.0",
      "model_name": "VBoxModel",
      "state": {
       "children": [
        "IPY_MODEL_b63a28be9295432c9272375fa077c25a",
        "IPY_MODEL_e2c1599f39ee4b2199ca55c14924ba94"
       ],
       "layout": "IPY_MODEL_e511832b05594dddae225bc67fe2d713"
      }
     },
     "e511832b05594dddae225bc67fe2d713": {
      "model_module": "@jupyter-widgets/base",
      "model_module_version": "1.2.0",
      "model_name": "LayoutModel",
      "state": {}
     },
     "e521a9e9adef4b719e7713aaf26e40ea": {
      "model_module": "@jupyter-widgets/controls",
      "model_module_version": "1.5.0",
      "model_name": "DescriptionStyleModel",
      "state": {
       "description_width": ""
      }
     },
     "e57d19293bf3457aa964950341b5a8f3": {
      "model_module": "@jupyter-widgets/base",
      "model_module_version": "1.2.0",
      "model_name": "LayoutModel",
      "state": {}
     },
     "e69c4d8cd87b479e94581062913cb82d": {
      "model_module": "@jupyter-widgets/controls",
      "model_module_version": "1.5.0",
      "model_name": "DropdownModel",
      "state": {
       "_options_labels": [
        "Any"
       ],
       "disabled": true,
       "index": 0,
       "layout": "IPY_MODEL_0970cece968444a597b20cb8efa7c4ae",
       "style": "IPY_MODEL_e1345c91a42448e594dcadff871a6382"
      }
     },
     "e7c81a5bebb0439ca4d6a21bc68de468": {
      "model_module": "@jupyter-widgets/controls",
      "model_module_version": "1.5.0",
      "model_name": "DescriptionStyleModel",
      "state": {
       "description_width": ""
      }
     },
     "e81134a3ff5c45539269c5d55df2efd0": {
      "model_module": "@jupyter-widgets/controls",
      "model_module_version": "1.5.0",
      "model_name": "DescriptionStyleModel",
      "state": {
       "description_width": ""
      }
     },
     "e81273f0e6974e2faccba4e54e68a444": {
      "model_module": "@jupyter-widgets/controls",
      "model_module_version": "1.5.0",
      "model_name": "HTMLModel",
      "state": {
       "layout": "IPY_MODEL_dd54f0b5daf64a5d816834dba0a9e4ee",
       "style": "IPY_MODEL_ed83be5fdb3a4b8cbb68906442f546cc",
       "value": "<font size=\"3\"><b>EDIT REQUIREMENTS</b></font size=>"
      }
     },
     "e836eb42c3ad427a9c312474142d4161": {
      "model_module": "@jupyter-widgets/base",
      "model_module_version": "1.2.0",
      "model_name": "LayoutModel",
      "state": {}
     },
     "e837b51ee35448ea802613783044afff": {
      "model_module": "@jupyter-widgets/controls",
      "model_module_version": "1.5.0",
      "model_name": "LabelModel",
      "state": {
       "layout": "IPY_MODEL_3352d11b467d4e95a08e9871c6a0ffe1",
       "style": "IPY_MODEL_25b1dcd2b25a46578eb8c867e336a13c",
       "value": "Activity:"
      }
     },
     "e83ffadbc1a74a01883acbe17a7a9b35": {
      "model_module": "@jupyter-widgets/controls",
      "model_module_version": "1.5.0",
      "model_name": "DropdownModel",
      "state": {
       "_options_labels": [
        "Any",
        "Primary",
        "Secondary",
        "Heavy"
       ],
       "index": 0,
       "layout": "IPY_MODEL_877bc0c0584d410f900fe24ec6020b1b",
       "style": "IPY_MODEL_af936aaa03c14020a5807ea8aec150dc"
      }
     },
     "e869bef20af842eabfa29c730aacd784": {
      "model_module": "@jupyter-widgets/controls",
      "model_module_version": "1.5.0",
      "model_name": "DescriptionStyleModel",
      "state": {
       "description_width": ""
      }
     },
     "e8ecc228af8f4c0aa25400a32da26a12": {
      "model_module": "@jupyter-widgets/base",
      "model_module_version": "1.2.0",
      "model_name": "LayoutModel",
      "state": {}
     },
     "e8faec7d702b44b9a7f882eafee3ea46": {
      "model_module": "@jupyter-widgets/controls",
      "model_module_version": "1.5.0",
      "model_name": "LabelModel",
      "state": {
       "layout": "IPY_MODEL_3352d11b467d4e95a08e9871c6a0ffe1",
       "style": "IPY_MODEL_1d4e11e88d1e454bb7f99a8a3fb0b6de",
       "value": "Weapon Requirements:"
      }
     },
     "e90d8400138947fe8ee0a6e92b46038a": {
      "model_module": "@jupyter-widgets/controls",
      "model_module_version": "1.5.0",
      "model_name": "DescriptionStyleModel",
      "state": {
       "description_width": ""
      }
     },
     "e956dd0e50804f82b4eeab1137a5867b": {
      "model_module": "@jupyter-widgets/controls",
      "model_module_version": "1.5.0",
      "model_name": "DropdownModel",
      "state": {
       "index": null,
       "layout": "IPY_MODEL_a782735d8a6a4bee8d20dff0935395ee",
       "style": "IPY_MODEL_c4669480db64487fa2de09fca3a8427f"
      }
     },
     "e9ec3c7e6b2045a29f8315b21ac85c17": {
      "model_module": "@jupyter-widgets/controls",
      "model_module_version": "1.5.0",
      "model_name": "DescriptionStyleModel",
      "state": {
       "description_width": ""
      }
     },
     "ea264350267a4f178891743532577896": {
      "model_module": "@jupyter-widgets/base",
      "model_module_version": "1.2.0",
      "model_name": "LayoutModel",
      "state": {}
     },
     "ea446b98bea94265ae5add38c2be815c": {
      "model_module": "@jupyter-widgets/controls",
      "model_module_version": "1.5.0",
      "model_name": "VBoxModel",
      "state": {
       "children": [
        "IPY_MODEL_2d3406f602514fb88cf3f15fe188f6e8",
        "IPY_MODEL_9a36852809044749bd2db15888f77bce",
        "IPY_MODEL_a1f148b4a0d84062acd2774698ea0ed3",
        "IPY_MODEL_f494aabffad14223afffbc910ced234a",
        "IPY_MODEL_bd5207bec27d4982a1b3070a30191858"
       ],
       "layout": "IPY_MODEL_17045ef5dde74daab6781c77ba07c5a8"
      }
     },
     "ea53515b7c354851bc2444995a0c6518": {
      "model_module": "@jupyter-widgets/controls",
      "model_module_version": "1.5.0",
      "model_name": "VBoxModel",
      "state": {
       "children": [
        "IPY_MODEL_17835625d1804c65aa9cb098d84f9ca5",
        "IPY_MODEL_bc2664e91189481cabbdd1fb8bc2fe14",
        "IPY_MODEL_54c3cd86c3cf468dba81bb0c04dd48b7"
       ],
       "layout": "IPY_MODEL_00723cb01a7647c7853bf8753c921838"
      }
     },
     "ea55330eee8a4d43a52ed3ced77f4a71": {
      "model_module": "@jupyter-widgets/controls",
      "model_module_version": "1.5.0",
      "model_name": "DescriptionStyleModel",
      "state": {
       "description_width": ""
      }
     },
     "eb6ffa7566b149fb813da65099fbafa8": {
      "model_module": "@jupyter-widgets/controls",
      "model_module_version": "1.5.0",
      "model_name": "DescriptionStyleModel",
      "state": {
       "description_width": ""
      }
     },
     "ebed7f9dcfab4cb7b4e7715c610ed507": {
      "model_module": "@jupyter-widgets/controls",
      "model_module_version": "1.5.0",
      "model_name": "DescriptionStyleModel",
      "state": {
       "description_width": ""
      }
     },
     "ec09924634f64ebea143c5288c4c2a47": {
      "model_module": "@jupyter-widgets/controls",
      "model_module_version": "1.5.0",
      "model_name": "DropdownModel",
      "state": {
       "_options_labels": [
        "Primary"
       ],
       "index": 0,
       "layout": "IPY_MODEL_28a4dff5d61e4497bc87fa083c188e0b",
       "style": "IPY_MODEL_ef53665902d847d9a9408ad9d14b7988"
      }
     },
     "ec11cff1c41a4f24aca299a23c350bfd": {
      "model_module": "@jupyter-widgets/controls",
      "model_module_version": "1.5.0",
      "model_name": "DescriptionStyleModel",
      "state": {
       "description_width": ""
      }
     },
     "ec2e1f0adf3c4bab990f3251f83633e2": {
      "model_module": "@jupyter-widgets/controls",
      "model_module_version": "1.5.0",
      "model_name": "DropdownModel",
      "state": {
       "_options_labels": [
        "Any",
        "Primary",
        "Secondary",
        "Heavy"
       ],
       "index": 3,
       "layout": "IPY_MODEL_28a4dff5d61e4497bc87fa083c188e0b",
       "style": "IPY_MODEL_b88cd1fe21d6472ca15ff430ebbb4caf"
      }
     },
     "ed2d021f04c44eba95ce60e79ba1ea3a": {
      "model_module": "@jupyter-widgets/controls",
      "model_module_version": "1.5.0",
      "model_name": "DropdownModel",
      "state": {
       "_options_labels": [
        "Any",
        "Normal",
        "Heroic"
       ],
       "index": 1,
       "layout": "IPY_MODEL_28a4dff5d61e4497bc87fa083c188e0b",
       "style": "IPY_MODEL_b1d8cfa9769b4c868e09e1085021aa2a"
      }
     },
     "ed83be5fdb3a4b8cbb68906442f546cc": {
      "model_module": "@jupyter-widgets/controls",
      "model_module_version": "1.5.0",
      "model_name": "DescriptionStyleModel",
      "state": {
       "description_width": ""
      }
     },
     "edfe8373b81543c087d4dc5a896908fe": {
      "model_module": "@jupyter-widgets/controls",
      "model_module_version": "1.5.0",
      "model_name": "DescriptionStyleModel",
      "state": {
       "description_width": ""
      }
     },
     "ee2391d2ddec4bfd9bb54e0a6d1003f6": {
      "model_module": "@jupyter-widgets/controls",
      "model_module_version": "1.5.0",
      "model_name": "LabelModel",
      "state": {
       "layout": "IPY_MODEL_3352d11b467d4e95a08e9871c6a0ffe1",
       "style": "IPY_MODEL_7646405347e141ce932f8ac3e871e3c6",
       "value": "Weapon Requirements:"
      }
     },
     "ee5af6fce5ed4b119f4efee88a9bd271": {
      "model_module": "@jupyter-widgets/controls",
      "model_module_version": "1.5.0",
      "model_name": "LabelModel",
      "state": {
       "layout": "IPY_MODEL_3352d11b467d4e95a08e9871c6a0ffe1",
       "style": "IPY_MODEL_2a726ca3b6bc46ec98c7a2512a43609b",
       "value": "Weapon Requirements:"
      }
     },
     "ef2f09497cb04af69002fe273fce5bce": {
      "model_module": "@jupyter-widgets/controls",
      "model_module_version": "1.5.0",
      "model_name": "DescriptionStyleModel",
      "state": {
       "description_width": ""
      }
     },
     "ef53665902d847d9a9408ad9d14b7988": {
      "model_module": "@jupyter-widgets/controls",
      "model_module_version": "1.5.0",
      "model_name": "DescriptionStyleModel",
      "state": {
       "description_width": ""
      }
     },
     "eff53230833b42b9ab7b6bef32ab0026": {
      "model_module": "@jupyter-widgets/base",
      "model_module_version": "1.2.0",
      "model_name": "LayoutModel",
      "state": {}
     },
     "f01a522a35bd4f41af3638f39390a531": {
      "model_module": "@jupyter-widgets/base",
      "model_module_version": "1.2.0",
      "model_name": "LayoutModel",
      "state": {}
     },
     "f09b84165d5a4599bd08505eb026b3d5": {
      "model_module": "@jupyter-widgets/controls",
      "model_module_version": "1.5.0",
      "model_name": "DescriptionStyleModel",
      "state": {
       "description_width": ""
      }
     },
     "f0efa35208014a1ebd3b17c53a74e628": {
      "model_module": "@jupyter-widgets/base",
      "model_module_version": "1.2.0",
      "model_name": "LayoutModel",
      "state": {}
     },
     "f1a956a6ef3d44db962686470259bd3a": {
      "model_module": "@jupyter-widgets/controls",
      "model_module_version": "1.5.0",
      "model_name": "HBoxModel",
      "state": {
       "children": [
        "IPY_MODEL_204592c215234ad585ae28927610e842",
        "IPY_MODEL_fc9d3ac3b01243d1b7053834c7a10a97",
        "IPY_MODEL_c034fa5555074ca9b0b0398152fe50e1",
        "IPY_MODEL_cad0c71dd8124c1f81a34e8b08bc55a6",
        "IPY_MODEL_dc7f2c68fff34a8e8c5cace4b7bce57d"
       ],
       "layout": "IPY_MODEL_d40c15a1f00947f39fcdc87217936118"
      }
     },
     "f208561748a4450d846e0cd9ad929f7f": {
      "model_module": "@jupyter-widgets/controls",
      "model_module_version": "1.5.0",
      "model_name": "DescriptionStyleModel",
      "state": {
       "description_width": ""
      }
     },
     "f217c59a01c5434bb40f27c7945e0a27": {
      "model_module": "@jupyter-widgets/controls",
      "model_module_version": "1.5.0",
      "model_name": "DropdownModel",
      "state": {
       "_options_labels": [
        "Any",
        "Kinetic",
        "Energy",
        "Power"
       ],
       "index": 2,
       "layout": "IPY_MODEL_28a4dff5d61e4497bc87fa083c188e0b",
       "style": "IPY_MODEL_3da0d9e0ddb64625bd3f59a4b780f8ed"
      }
     },
     "f21c533b2cd142d2a08ca2bedce27393": {
      "model_module": "@jupyter-widgets/controls",
      "model_module_version": "1.5.0",
      "model_name": "DescriptionStyleModel",
      "state": {
       "description_width": ""
      }
     },
     "f23082c626fd458abf83765bb5006e33": {
      "model_module": "@jupyter-widgets/controls",
      "model_module_version": "1.5.0",
      "model_name": "DescriptionStyleModel",
      "state": {
       "description_width": ""
      }
     },
     "f28f56c4c5cb41da885535719cb68c7d": {
      "model_module": "@jupyter-widgets/output",
      "model_module_version": "1.0.0",
      "model_name": "OutputModel",
      "state": {
       "layout": "IPY_MODEL_fc937652ce2b4cfd895ee91a64cb1fc9",
       "outputs": [
        {
         "name": "stdout",
         "output_type": "stream",
         "text": "None\nNone\nNone\n"
        },
        {
         "ename": "AttributeError",
         "evalue": "'Dropdown' object has no attribute 'remove'",
         "output_type": "error",
         "traceback": [
          "\u001b[0;31m---------------------------------------------------------------------------\u001b[0m",
          "\u001b[0;31mAttributeError\u001b[0m                            Traceback (most recent call last)",
          "\u001b[0;32m<ipython-input-22-007a0af410f5>\u001b[0m in \u001b[0;36mchange_weapon\u001b[0;34m(change)\u001b[0m\n\u001b[1;32m    175\u001b[0m \u001b[0;34m\u001b[0m\u001b[0m\n\u001b[1;32m    176\u001b[0m \u001b[0;32mdef\u001b[0m \u001b[0mchange_weapon\u001b[0m\u001b[0;34m(\u001b[0m\u001b[0mchange\u001b[0m\u001b[0;34m)\u001b[0m\u001b[0;34m:\u001b[0m\u001b[0;34m\u001b[0m\u001b[0;34m\u001b[0m\u001b[0m\n\u001b[0;32m--> 177\u001b[0;31m     \u001b[0;32mwith\u001b[0m \u001b[0moutput\u001b[0m\u001b[0;34m:\u001b[0m \u001b[0mprint\u001b[0m \u001b[0;34m(\u001b[0m\u001b[0mrefresh_weapon\u001b[0m\u001b[0;34m(\u001b[0m\u001b[0;34m)\u001b[0m\u001b[0;34m)\u001b[0m\u001b[0;34m\u001b[0m\u001b[0;34m\u001b[0m\u001b[0m\n\u001b[0m\u001b[1;32m    178\u001b[0m     \u001b[0mrefresh_weapon\u001b[0m\u001b[0;34m(\u001b[0m\u001b[0;34m)\u001b[0m\u001b[0;34m\u001b[0m\u001b[0;34m\u001b[0m\u001b[0m\n\u001b[1;32m    179\u001b[0m \u001b[0;34m\u001b[0m\u001b[0m\n",
          "\u001b[0;32m<ipython-input-22-007a0af410f5>\u001b[0m in \u001b[0;36mrefresh_weapon\u001b[0;34m()\u001b[0m\n\u001b[1;32m    163\u001b[0m             \u001b[0mdropdown_weapon_slot\u001b[0m\u001b[0;34m.\u001b[0m\u001b[0mremove\u001b[0m\u001b[0;34m(\u001b[0m\u001b[0;34m'Kinetic'\u001b[0m\u001b[0;34m)\u001b[0m\u001b[0;34m\u001b[0m\u001b[0;34m\u001b[0m\u001b[0m\n\u001b[1;32m    164\u001b[0m         \u001b[0;32mif\u001b[0m \u001b[0;34m'Energy'\u001b[0m \u001b[0;32min\u001b[0m \u001b[0moptions_slot\u001b[0m\u001b[0;34m:\u001b[0m\u001b[0;34m\u001b[0m\u001b[0;34m\u001b[0m\u001b[0m\n\u001b[0;32m--> 165\u001b[0;31m             \u001b[0mdropdown_weapon_slot\u001b[0m\u001b[0;34m.\u001b[0m\u001b[0mremove\u001b[0m\u001b[0;34m(\u001b[0m\u001b[0;34m'Energy'\u001b[0m\u001b[0;34m)\u001b[0m\u001b[0;34m\u001b[0m\u001b[0;34m\u001b[0m\u001b[0m\n\u001b[0m\u001b[1;32m    166\u001b[0m         \u001b[0;32mfor\u001b[0m \u001b[0mprimary_weapon\u001b[0m \u001b[0;32min\u001b[0m \u001b[0mpossible_requirements\u001b[0m\u001b[0;34m[\u001b[0m\u001b[0;34m'Weapon Ammo Type'\u001b[0m\u001b[0;34m]\u001b[0m\u001b[0;34m[\u001b[0m\u001b[0;34m'Primary'\u001b[0m\u001b[0;34m]\u001b[0m\u001b[0;34m[\u001b[0m\u001b[0;36m1\u001b[0m\u001b[0;34m:\u001b[0m\u001b[0;34m]\u001b[0m\u001b[0;34m:\u001b[0m\u001b[0;34m\u001b[0m\u001b[0;34m\u001b[0m\u001b[0m\n\u001b[1;32m    167\u001b[0m             \u001b[0;32mif\u001b[0m \u001b[0mprimary_weapon\u001b[0m \u001b[0;32min\u001b[0m \u001b[0moptions_type\u001b[0m\u001b[0;34m:\u001b[0m\u001b[0;34m\u001b[0m\u001b[0;34m\u001b[0m\u001b[0m\n",
          "\u001b[0;31mAttributeError\u001b[0m: 'Dropdown' object has no attribute 'remove'"
         ]
        },
        {
         "name": "stdout",
         "output_type": "stream",
         "text": "None\n"
        }
       ]
      }
     },
     "f2ca2c0250f74bbdaea4de91cba5b11f": {
      "model_module": "@jupyter-widgets/base",
      "model_module_version": "1.2.0",
      "model_name": "LayoutModel",
      "state": {
       "width": "10%"
      }
     },
     "f2edc8edb7564e23a16676cae2c1c83e": {
      "model_module": "@jupyter-widgets/controls",
      "model_module_version": "1.5.0",
      "model_name": "DropdownModel",
      "state": {
       "_options_labels": [
        "Multiple Options",
        "Kinetic",
        "Solar",
        "Void",
        "Arc"
       ],
       "index": 0,
       "layout": "IPY_MODEL_28a4dff5d61e4497bc87fa083c188e0b",
       "style": "IPY_MODEL_047e9aed03ff4acba388b0acb592e3ff"
      }
     },
     "f3a77aa115544df3879c280788e0bdfb": {
      "model_module": "@jupyter-widgets/controls",
      "model_module_version": "1.5.0",
      "model_name": "HTMLModel",
      "state": {
       "layout": "IPY_MODEL_c5aba1b56e56445497cfd28d5f6c973d",
       "style": "IPY_MODEL_3cf50c8a91474ca0a3fe1ae3d191f4b7",
       "value": "<b>Activity Requirements:</b>"
      }
     },
     "f492c6abd7314e1daccf82bb4ad10f69": {
      "model_module": "@jupyter-widgets/controls",
      "model_module_version": "1.5.0",
      "model_name": "HTMLModel",
      "state": {
       "layout": "IPY_MODEL_0fb950a79cf24ae5bcf3d25d84118d48",
       "style": "IPY_MODEL_d66342b521714795bf51b98ec5955cd5",
       "value": "<b>Class Requirements</b>"
      }
     },
     "f494aabffad14223afffbc910ced234a": {
      "model_module": "@jupyter-widgets/controls",
      "model_module_version": "1.5.0",
      "model_name": "HTMLModel",
      "state": {
       "layout": "IPY_MODEL_f951839577aa448b852f2eb00a92192b",
       "style": "IPY_MODEL_b9df99a9d98f4b429651ccf81e61b08c",
       "value": "Objective"
      }
     },
     "f49947599960422fb66ef1995ea61c1e": {
      "model_module": "@jupyter-widgets/controls",
      "model_module_version": "1.5.0",
      "model_name": "DescriptionStyleModel",
      "state": {
       "description_width": ""
      }
     },
     "f5dc2101049b45f2ac245e732f33f27e": {
      "model_module": "@jupyter-widgets/controls",
      "model_module_version": "1.5.0",
      "model_name": "DescriptionStyleModel",
      "state": {
       "description_width": ""
      }
     },
     "f629ddfe701041c8b34502bae0e7c79d": {
      "model_module": "@jupyter-widgets/base",
      "model_module_version": "1.2.0",
      "model_name": "LayoutModel",
      "state": {}
     },
     "f6504fe624cd47c09b80ee33ab3210f2": {
      "model_module": "@jupyter-widgets/controls",
      "model_module_version": "1.5.0",
      "model_name": "DescriptionStyleModel",
      "state": {
       "description_width": ""
      }
     },
     "f65ca1106e0649c9a945d6ce3f3ad0fd": {
      "model_module": "@jupyter-widgets/base",
      "model_module_version": "1.2.0",
      "model_name": "LayoutModel",
      "state": {}
     },
     "f691a6821def46a28d5750dedf8b0a7d": {
      "model_module": "@jupyter-widgets/base",
      "model_module_version": "1.2.0",
      "model_name": "LayoutModel",
      "state": {}
     },
     "f72563a45648480e9ed81b461f2ec65c": {
      "model_module": "@jupyter-widgets/controls",
      "model_module_version": "1.5.0",
      "model_name": "DropdownModel",
      "state": {
       "_options_labels": [
        "Primary",
        "Secondary"
       ],
       "index": 1,
       "layout": "IPY_MODEL_28a4dff5d61e4497bc87fa083c188e0b",
       "style": "IPY_MODEL_714386dd640f4a4dad6f49069a86e49d"
      }
     },
     "f731dafe3c8f4b59a0cc9c0618c4b1e1": {
      "model_module": "@jupyter-widgets/controls",
      "model_module_version": "1.5.0",
      "model_name": "DescriptionStyleModel",
      "state": {
       "description_width": ""
      }
     },
     "f76b95e205134cf8922ab5e1b3d8af02": {
      "model_module": "@jupyter-widgets/base",
      "model_module_version": "1.2.0",
      "model_name": "LayoutModel",
      "state": {}
     },
     "f76f61116b5d47679588db096fed81a5": {
      "model_module": "@jupyter-widgets/base",
      "model_module_version": "1.2.0",
      "model_name": "LayoutModel",
      "state": {}
     },
     "f79c8090332f4be586734993f854916a": {
      "model_module": "@jupyter-widgets/controls",
      "model_module_version": "1.5.0",
      "model_name": "LabelModel",
      "state": {
       "layout": "IPY_MODEL_3352d11b467d4e95a08e9871c6a0ffe1",
       "style": "IPY_MODEL_2d93cb2fb1004b25bd77917b94f039d4",
       "value": "Weapon Requirements:"
      }
     },
     "f7d653bf25994f508488c7ccb41762a0": {
      "model_module": "@jupyter-widgets/base",
      "model_module_version": "1.2.0",
      "model_name": "LayoutModel",
      "state": {
       "width": "10%"
      }
     },
     "f7dd1b8cd2404107a630d0c34961f1c9": {
      "model_module": "@jupyter-widgets/base",
      "model_module_version": "1.2.0",
      "model_name": "LayoutModel",
      "state": {}
     },
     "f8364de99c1b413a834273684be6e08f": {
      "model_module": "@jupyter-widgets/controls",
      "model_module_version": "1.5.0",
      "model_name": "DescriptionStyleModel",
      "state": {
       "description_width": ""
      }
     },
     "f8694873d5104ec8b8ef249b199849ea": {
      "model_module": "@jupyter-widgets/controls",
      "model_module_version": "1.5.0",
      "model_name": "LabelModel",
      "state": {
       "layout": "IPY_MODEL_77c2231b342a4330aad93d026bd9e45e",
       "style": "IPY_MODEL_7e3a2a55bdf94fb3a9b4863cd83f608e",
       "value": "Weapon Slot:"
      }
     },
     "f87f443d3e9448919b5de2e161ab27b1": {
      "model_module": "@jupyter-widgets/controls",
      "model_module_version": "1.5.0",
      "model_name": "LabelModel",
      "state": {
       "layout": "IPY_MODEL_91bbb54519834333b96b8966d718c581",
       "style": "IPY_MODEL_a6917788579041a9a6971a217b54cbe7",
       "value": "Ammo:"
      }
     },
     "f88529eac8554061a937c4dc6d9b71a6": {
      "model_module": "@jupyter-widgets/output",
      "model_module_version": "1.0.0",
      "model_name": "OutputModel",
      "state": {
       "layout": "IPY_MODEL_4b51477b59864cbcabf35140ee2db1be",
       "outputs": [
        {
         "name": "stdout",
         "output_type": "stream",
         "text": "None\n[]\n"
        },
        {
         "ename": "IndexError",
         "evalue": "list index out of range",
         "output_type": "error",
         "traceback": [
          "\u001b[0;31m---------------------------------------------------------------------------\u001b[0m",
          "\u001b[0;31mIndexError\u001b[0m                                Traceback (most recent call last)",
          "\u001b[0;32m<ipython-input-37-4fbc92c4a0d1>\u001b[0m in \u001b[0;36mchange_weapon\u001b[0;34m(change)\u001b[0m\n\u001b[1;32m    209\u001b[0m \u001b[0;34m\u001b[0m\u001b[0m\n\u001b[1;32m    210\u001b[0m \u001b[0;32mdef\u001b[0m \u001b[0mchange_weapon\u001b[0m\u001b[0;34m(\u001b[0m\u001b[0mchange\u001b[0m\u001b[0;34m)\u001b[0m\u001b[0;34m:\u001b[0m\u001b[0;34m\u001b[0m\u001b[0;34m\u001b[0m\u001b[0m\n\u001b[0;32m--> 211\u001b[0;31m     \u001b[0;32mwith\u001b[0m \u001b[0moutput\u001b[0m\u001b[0;34m:\u001b[0m \u001b[0mprint\u001b[0m \u001b[0;34m(\u001b[0m\u001b[0mrefresh_weapon\u001b[0m\u001b[0;34m(\u001b[0m\u001b[0;34m)\u001b[0m\u001b[0;34m)\u001b[0m\u001b[0;34m\u001b[0m\u001b[0;34m\u001b[0m\u001b[0m\n\u001b[0m\u001b[1;32m    212\u001b[0m     \u001b[0mrefresh_weapon\u001b[0m\u001b[0;34m(\u001b[0m\u001b[0;34m)\u001b[0m\u001b[0;34m\u001b[0m\u001b[0;34m\u001b[0m\u001b[0m\n\u001b[1;32m    213\u001b[0m \u001b[0;34m\u001b[0m\u001b[0m\n",
          "\u001b[0;32m<ipython-input-37-4fbc92c4a0d1>\u001b[0m in \u001b[0;36mrefresh_weapon\u001b[0;34m()\u001b[0m\n\u001b[1;32m    177\u001b[0m         \u001b[0moptions_slot\u001b[0m\u001b[0;34m.\u001b[0m\u001b[0minsert\u001b[0m\u001b[0;34m(\u001b[0m\u001b[0;36m0\u001b[0m\u001b[0;34m,\u001b[0m\u001b[0;34m'Multiple Options'\u001b[0m\u001b[0;34m)\u001b[0m\u001b[0;34m\u001b[0m\u001b[0;34m\u001b[0m\u001b[0m\n\u001b[1;32m    178\u001b[0m     \u001b[0;32melse\u001b[0m\u001b[0;34m:\u001b[0m\u001b[0;34m\u001b[0m\u001b[0;34m\u001b[0m\u001b[0m\n\u001b[0;32m--> 179\u001b[0;31m         \u001b[0moptions_slot\u001b[0m\u001b[0;34m.\u001b[0m\u001b[0mappend\u001b[0m\u001b[0;34m(\u001b[0m\u001b[0;34mf'Not {options_slot[0]}'\u001b[0m\u001b[0;34m)\u001b[0m\u001b[0;34m\u001b[0m\u001b[0;34m\u001b[0m\u001b[0m\n\u001b[0m\u001b[1;32m    180\u001b[0m     \u001b[0mdropdown_weapon_slot\u001b[0m\u001b[0;34m.\u001b[0m\u001b[0moptions\u001b[0m \u001b[0;34m=\u001b[0m \u001b[0moptions_slot\u001b[0m\u001b[0;34m\u001b[0m\u001b[0;34m\u001b[0m\u001b[0m\n\u001b[1;32m    181\u001b[0m     \u001b[0;32mif\u001b[0m \u001b[0mslot\u001b[0m \u001b[0;32min\u001b[0m \u001b[0moptions_slot\u001b[0m\u001b[0;34m:\u001b[0m\u001b[0;34m\u001b[0m\u001b[0;34m\u001b[0m\u001b[0m\n",
          "\u001b[0;31mIndexError\u001b[0m: list index out of range"
         ]
        },
        {
         "name": "stdout",
         "output_type": "stream",
         "text": "None\n"
        }
       ]
      }
     },
     "f8ec969065b94441995fed14c5073331": {
      "model_module": "@jupyter-widgets/base",
      "model_module_version": "1.2.0",
      "model_name": "LayoutModel",
      "state": {}
     },
     "f9146f284a4a407c9389800ec52835d2": {
      "model_module": "@jupyter-widgets/controls",
      "model_module_version": "1.5.0",
      "model_name": "DescriptionStyleModel",
      "state": {
       "description_width": ""
      }
     },
     "f939dd4ce9cf47e28cce37b19deefed6": {
      "model_module": "@jupyter-widgets/controls",
      "model_module_version": "1.5.0",
      "model_name": "DropdownModel",
      "state": {
       "_options_labels": [
        "Any",
        "Hand Cannon",
        "Auto Rifle",
        "Scout Rifle",
        "Pulse Rifle",
        "Sidearm",
        "Submachine Gun",
        "Combt Bow",
        "Sniper Rifle",
        "Shotgun",
        "Fusion Rifle",
        "Grenade Launcher",
        "Machine Gun",
        "Sword",
        "Grenade Launcher",
        "Rocket Launcher",
        "Linear Fusion Rifle"
       ],
       "index": 0,
       "layout": "IPY_MODEL_28a4dff5d61e4497bc87fa083c188e0b",
       "style": "IPY_MODEL_336cc450d3e54549ad93842357a4eed9"
      }
     },
     "f93feb06ab4f467e90b59d9e5afd8ce2": {
      "model_module": "@jupyter-widgets/controls",
      "model_module_version": "1.5.0",
      "model_name": "DescriptionStyleModel",
      "state": {
       "description_width": ""
      }
     },
     "f94e0e4b99b540e8b12491dff338d625": {
      "model_module": "@jupyter-widgets/controls",
      "model_module_version": "1.5.0",
      "model_name": "DescriptionStyleModel",
      "state": {
       "description_width": ""
      }
     },
     "f951839577aa448b852f2eb00a92192b": {
      "model_module": "@jupyter-widgets/base",
      "model_module_version": "1.2.0",
      "model_name": "LayoutModel",
      "state": {}
     },
     "f9ba1bfbd29448cdad819e8065cbc134": {
      "model_module": "@jupyter-widgets/controls",
      "model_module_version": "1.5.0",
      "model_name": "DescriptionStyleModel",
      "state": {
       "description_width": ""
      }
     },
     "f9c1178cb243473990c4929e402ddde5": {
      "model_module": "@jupyter-widgets/base",
      "model_module_version": "1.2.0",
      "model_name": "LayoutModel",
      "state": {}
     },
     "f9c1cf40afa043e2b966637ed493bcc9": {
      "model_module": "@jupyter-widgets/base",
      "model_module_version": "1.2.0",
      "model_name": "LayoutModel",
      "state": {
       "width": "10%"
      }
     },
     "f9c5dbd2867e42a990726167bbf48834": {
      "model_module": "@jupyter-widgets/controls",
      "model_module_version": "1.5.0",
      "model_name": "DescriptionStyleModel",
      "state": {
       "description_width": ""
      }
     },
     "f9e7478e63204466ab696f9513a28d7c": {
      "model_module": "@jupyter-widgets/controls",
      "model_module_version": "1.5.0",
      "model_name": "DropdownModel",
      "state": {
       "_options_labels": [
        "Any",
        "Kinetic",
        "Solar",
        "Void",
        "Arc"
       ],
       "index": 0,
       "layout": "IPY_MODEL_28a4dff5d61e4497bc87fa083c188e0b",
       "style": "IPY_MODEL_c8ee81a6f8084cb998c58e8027c1a443"
      }
     },
     "fa578c5fc51d4286a2cb558af8b8f7c9": {
      "model_module": "@jupyter-widgets/controls",
      "model_module_version": "1.5.0",
      "model_name": "DescriptionStyleModel",
      "state": {
       "description_width": ""
      }
     },
     "fa648a98cb434bb480a009ffa1ccfc54": {
      "model_module": "@jupyter-widgets/controls",
      "model_module_version": "1.5.0",
      "model_name": "DescriptionStyleModel",
      "state": {
       "description_width": ""
      }
     },
     "fa89aa54a14049d6a385ef43ccad6685": {
      "model_module": "@jupyter-widgets/base",
      "model_module_version": "1.2.0",
      "model_name": "LayoutModel",
      "state": {
       "border": "1px solid white",
       "min_width": "250px",
       "padding": "10px",
       "width": "15%"
      }
     },
     "fbd9648ebf0349ba9be5249c34b6ef77": {
      "model_module": "@jupyter-widgets/controls",
      "model_module_version": "1.5.0",
      "model_name": "DescriptionStyleModel",
      "state": {
       "description_width": ""
      }
     },
     "fbe2e83afbcc4affba716b284db77b9c": {
      "model_module": "@jupyter-widgets/controls",
      "model_module_version": "1.5.0",
      "model_name": "DescriptionStyleModel",
      "state": {
       "description_width": ""
      }
     },
     "fc34c275e35b4f39bc761e0379003827": {
      "model_module": "@jupyter-widgets/controls",
      "model_module_version": "1.5.0",
      "model_name": "HTMLModel",
      "state": {
       "layout": "IPY_MODEL_9cff19abab99405fa02eee9f2a3c6644",
       "style": "IPY_MODEL_d5fe991360654ecb81f190201605e471",
       "value": "<b>Activity Requirements:</b>"
      }
     },
     "fc78bedea00b417f861f9757aa8e8388": {
      "model_module": "@jupyter-widgets/controls",
      "model_module_version": "1.5.0",
      "model_name": "LabelModel",
      "state": {
       "layout": "IPY_MODEL_25e336f697bc4e5088c84b94033dc28b",
       "style": "IPY_MODEL_ac522a5d7ce145968e44542f17f2f3eb",
       "value": "Grenade:"
      }
     },
     "fc937652ce2b4cfd895ee91a64cb1fc9": {
      "model_module": "@jupyter-widgets/base",
      "model_module_version": "1.2.0",
      "model_name": "LayoutModel",
      "state": {}
     },
     "fc9d3ac3b01243d1b7053834c7a10a97": {
      "model_module": "@jupyter-widgets/controls",
      "model_module_version": "1.5.0",
      "model_name": "DropdownModel",
      "state": {
       "_options_labels": [
        "Energy",
        "Clear Options"
       ],
       "index": 0,
       "layout": "IPY_MODEL_28a4dff5d61e4497bc87fa083c188e0b",
       "style": "IPY_MODEL_9a9b1547e4144b42bcbbea0e60eb0a13"
      }
     },
     "fd69e6d8611a40eab9b40e6f6193cc0c": {
      "model_module": "@jupyter-widgets/controls",
      "model_module_version": "1.5.0",
      "model_name": "DropdownModel",
      "state": {
       "_options_labels": [
        "Kinetic"
       ],
       "index": 0,
       "layout": "IPY_MODEL_28a4dff5d61e4497bc87fa083c188e0b",
       "style": "IPY_MODEL_6a9a48d0b2ea4206bdbbc58d45714172"
      }
     },
     "fd9fb2b09516433cb1503d62bc7dce81": {
      "model_module": "@jupyter-widgets/controls",
      "model_module_version": "1.5.0",
      "model_name": "DescriptionStyleModel",
      "state": {
       "description_width": ""
      }
     },
     "fef586c46551448c8205bbbd5fd3580b": {
      "model_module": "@jupyter-widgets/controls",
      "model_module_version": "1.5.0",
      "model_name": "DescriptionStyleModel",
      "state": {
       "description_width": ""
      }
     },
     "fefb2bb508274069be4aa92cde18bbe7": {
      "model_module": "@jupyter-widgets/controls",
      "model_module_version": "1.5.0",
      "model_name": "LabelModel",
      "state": {
       "layout": "IPY_MODEL_33d0a70ced8a49dab3a2c3cdcd60049b",
       "style": "IPY_MODEL_0c001a0377ea4dfd9eff672c7a58dc5b",
       "value": "Triumph:"
      }
     }
    },
    "version_major": 2,
    "version_minor": 0
   }
  }
 },
 "nbformat": 4,
 "nbformat_minor": 4
}
